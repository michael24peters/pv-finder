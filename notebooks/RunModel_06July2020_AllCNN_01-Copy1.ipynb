{
 "cells": [
  {
   "cell_type": "code",
   "execution_count": 1,
   "metadata": {},
   "outputs": [],
   "source": [
    "##%matplotlib widget\n",
    "## with %matplotlib notebook: seems to require ipympl as part of environment, either\n",
    "## part of the conda environment or \"pip install ipympl\"\n",
    "## otherwise, does not show ANY plots in notebook, plt.savefig() works\n",
    "%matplotlib notebook  \n",
    "##%matplotlib inline    ## --plt.savefig()  works, but re-sizing does NOT"
   ]
  },
  {
   "cell_type": "markdown",
   "metadata": {},
   "source": [
    "This notebook is a short demo to illustrate execution.   For odd historical reasons, it uses \"toy Monte Carlo\" (simulated data)for \"training\" and \"full LHCB MC\" for validation.\n",
    "\n",
    "The network architecture is a \"simple\" model that uses 1 input channel (the KDE [kernel density estimator] but from the track parameters) feeding 5 convolutional layers followed by a fully connected layer.\n",
    "\n",
    "In today's version, the network will start with weights from a previously trained version.\n",
    " "
   ]
  },
  {
   "cell_type": "markdown",
   "metadata": {},
   "source": [
    "Check the current GPU usage. Please try to be nice!"
   ]
  },
  {
   "cell_type": "code",
   "execution_count": 2,
   "metadata": {},
   "outputs": [
    {
     "name": "stdout",
     "output_type": "stream",
     "text": [
      "Tue Jul 14 10:43:20 2020       \n",
      "+-----------------------------------------------------------------------------+\n",
      "| NVIDIA-SMI 440.64.00    Driver Version: 440.64.00    CUDA Version: 10.2     |\n",
      "|-------------------------------+----------------------+----------------------+\n",
      "| GPU  Name        Persistence-M| Bus-Id        Disp.A | Volatile Uncorr. ECC |\n",
      "| Fan  Temp  Perf  Pwr:Usage/Cap|         Memory-Usage | GPU-Util  Compute M. |\n",
      "|===============================+======================+======================|\n",
      "|   0  TITAN V             Off  | 00000000:03:00.0 Off |                  N/A |\n",
      "| 32%   44C    P0    34W / 250W |      0MiB / 12066MiB |      0%      Default |\n",
      "+-------------------------------+----------------------+----------------------+\n",
      "|   1  Tesla P100-PCIE...  Off  | 00000000:83:00.0 Off |                    0 |\n",
      "| N/A   33C    P0    27W / 250W |      0MiB / 16280MiB |      0%      Default |\n",
      "+-------------------------------+----------------------+----------------------+\n",
      "|   2  TITAN V             Off  | 00000000:84:00.0 Off |                  N/A |\n",
      "| 46%   66C    P2   114W / 250W |   6665MiB / 12066MiB |     90%      Default |\n",
      "+-------------------------------+----------------------+----------------------+\n",
      "                                                                               \n",
      "+-----------------------------------------------------------------------------+\n",
      "| Processes:                                                       GPU Memory |\n",
      "|  GPU       PID   Type   Process name                             Usage      |\n",
      "|=============================================================================|\n",
      "|    2      1173      C   ...a/conda/envs/goofit-june2020/bin/python  6653MiB |\n",
      "+-----------------------------------------------------------------------------+\n"
     ]
    }
   ],
   "source": [
    "!nvidia-smi"
   ]
  },
  {
   "cell_type": "markdown",
   "metadata": {},
   "source": [
    "> **WARNING**: The card numbers here are *not* the same as in CUDA. You have been warned."
   ]
  },
  {
   "cell_type": "markdown",
   "metadata": {},
   "source": [
    "## Imports"
   ]
  },
  {
   "cell_type": "code",
   "execution_count": 3,
   "metadata": {
    "scrolled": false
   },
   "outputs": [],
   "source": [
    "import matplotlib.pyplot as plt\n",
    "import numpy as np\n",
    "import time\n",
    "import torch\n",
    "import pandas as pd\n",
    "import mlflow\n",
    "\n",
    "# Python 3 standard library\n",
    "from pathlib import Path\n",
    "\n",
    "from torchsummary import summary\n",
    "\n",
    "'''\n",
    "HELPER FUNCTIONS\n",
    "'''\n",
    "# From model/collectdata.py\n",
    "from model.collectdata_mdsA import collect_data\n",
    "\n",
    "# From model/loss.py\n",
    "##from loss import Loss\n",
    "from model.alt_loss_A import Loss\n",
    "\n",
    "# From model/training.py\n",
    "from model.training import trainNet, select_gpu, Results\n",
    "\n",
    "# From model/models.py\n",
    "##  will start with model from TwoFeatures_CNN6Layer_A in the first instance\n",
    "##  see relevant cell below\n",
    "\n",
    "from model.models_mds_07July2020 import All_CNN6Layer_A as ModelA\n",
    "from model.models_mds_07July2020 import All_CNN6Layer_B as ModelB\n",
    "from model.models_mds_07July2020 import All_CNN6Layer_C as ModelC\n",
    "from model.models_mds_07July2020 import All_CNN6Layer_D as ModelD\n",
    "from model.models_mds_07July2020 import All_CNN6Layer_E as ModelE\n",
    "\n",
    "# From model/utilities.py\n",
    "from model.utilities import load_full_state, count_parameters, Params\n",
    "\n",
    "from model.plots import dual_train_plots, replace_in_ax\n",
    "\n",
    "## adds image of model architecture\n",
    "import hiddenlayer as HL"
   ]
  },
  {
   "cell_type": "markdown",
   "metadata": {},
   "source": [
    "Set up Torch device configuration. All tensors and model parameters need to know where to be put.\n",
    "This takes a BUS ID number: The BUS ID is the same as the listing at the top of this script."
   ]
  },
  {
   "cell_type": "code",
   "execution_count": 4,
   "metadata": {},
   "outputs": [
    {
     "name": "stdout",
     "output_type": "stream",
     "text": [
      "1 available GPUs (initially using device 0):\n",
      "  0 TITAN V\n"
     ]
    }
   ],
   "source": [
    "device = select_gpu(0)"
   ]
  },
  {
   "cell_type": "markdown",
   "metadata": {},
   "source": [
    "### Set up local parameters"
   ]
  },
  {
   "cell_type": "code",
   "execution_count": 5,
   "metadata": {},
   "outputs": [],
   "source": [
    "# params order - batch size, epochs, lr, epoch_start (which is usually set to 0)\n",
    "args = Params(128, 1000, 1e-3, 217)"
   ]
  },
  {
   "cell_type": "markdown",
   "metadata": {},
   "source": [
    "## Loading data\n",
    "\n",
    "Load the dataset, split into parts, then move to device (see `collectdata.py` in the `../model` directory)"
   ]
  },
  {
   "cell_type": "code",
   "execution_count": 6,
   "metadata": {
    "scrolled": true
   },
   "outputs": [
    {
     "name": "stdout",
     "output_type": "stream",
     "text": [
      "Loading data...\n",
      "Loaded /share/lazy/sokoloff/ML-data_A/Aug14_80K_train.h5 in 11.95 s\n",
      "Loaded /share/lazy/sokoloff/ML-data_AA/Oct03_80K_train.h5 in 12.14 s\n",
      "Constructing 160000 event dataset took 4.2 s\n",
      "Loading data...\n",
      "Loaded /share/lazy/sokoloff/ML-data_AA/Oct03_20K_val.h5 in 3.051 s\n",
      "Constructing 9984 event dataset took 0.1234 s\n"
     ]
    }
   ],
   "source": [
    "## newer vernacular\n",
    "## Training dataset. You can put as many files here as desired.\n",
    "\n",
    "## in this DEMO example we use only one 80K training set -- the model starts with well-trained weights,\n",
    "## and using a smaller training set reduces both the time to load the data and the time to train an epoch\n",
    "##  set the option load_XandXsq = True to use both DKE and KDE^2 as input features\n",
    "train_loader = collect_data('/share/lazy/sokoloff/ML-data_A/Aug14_80K_train.h5',\n",
    "                             '/share/lazy/sokoloff/ML-data_AA/Oct03_80K_train.h5',\n",
    "#                             '/share/lazy/sokoloff/ML-data_AA/Oct03_40K_train.h5',\n",
    "#                             '/share/lazy/will/ML_mdsA/June30_2020_80k_1.h5',\n",
    "#                             '/share/lazy/will/ML_mdsA/June30_2020_80k_3.h5',\n",
    "#                             '/share/lazy/will/ML_mdsA/June30_2020_80k_4.h5',\n",
    "#                             '/share/lazy/will/ML_mdsA/June30_2020_80k_5.h5',\n",
    "#                             '/share/lazy/will/ML_mdsA/June30_2020_80k_6.h5',\n",
    "#                             '/share/lazy/will/ML_mdsA/June30_2020_80k_7.h5',\n",
    "#                             '/share/lazy/will/ML_mdsA/June30_2020_80k_8.h5',\n",
    "#                             '/share/lazy/will/ML_mdsA/June30_2020_80k_9.h5',\n",
    "                            #'/share/lazy/sokoloff/ML-data_AA/Oct03_80K2_train.h5',\n",
    "                             batch_size=args.batch_size,\n",
    "## if we are using a larger dataset (240K events, with the datasets above, and 11 GB  of GPU memory),\n",
    "## not the dataset will overflow the GPU memory; device=device will allow the data to move back\n",
    "## and forth between the CPU and GPU memory. While this allows use of a larger dataset, it slows\n",
    "## down performance by about 10%.  So comment out when not needed.\n",
    "                            device=device,\n",
    "                            masking=True, shuffle=True,\n",
    "                            load_XandXsq=False,\n",
    "                            load_xy=False)\n",
    "\n",
    "# Validation dataset. You can slice to reduce the size.\n",
    "## dataAA -> /share/lazy/sokoloff/ML-data_AA/\n",
    "val_loader = collect_data('/share/lazy/sokoloff/ML-data_AA/Oct03_20K_val.h5',\n",
    "## mds val_loader = collect_data('dataAA/HLT1CPU_1kevts_val.h5',\n",
    "\n",
    "                          batch_size=args.batch_size,\n",
    "                          slice=slice(256 * 39),\n",
    "                          device=device,\n",
    "                          masking=True, shuffle=False,\n",
    "                          load_XandXsq=False,\n",
    "                          load_xy=False)"
   ]
  },
  {
   "cell_type": "markdown",
   "metadata": {},
   "source": [
    "# Preparing the model"
   ]
  },
  {
   "cell_type": "markdown",
   "metadata": {},
   "source": [
    "Prepare a model, use multiple GPUs if they are VISIBLE, and move the model to the device."
   ]
  },
  {
   "cell_type": "code",
   "execution_count": 7,
   "metadata": {
    "scrolled": true
   },
   "outputs": [
    {
     "name": "stderr",
     "output_type": "stream",
     "text": [
      "WARNING:root:Malformed experiment 'ML'. Detailed error Yaml file '/share/lazy/pv-finder_model_repo/ML/meta.yaml' does not exist.\n",
      "Traceback (most recent call last):\n",
      "  File \"/home/michael24peters/.local/lib/python3.7/site-packages/mlflow/store/tracking/file_store.py\", line 197, in list_experiments\n",
      "    experiment = self._get_experiment(exp_id, view_type)\n",
      "  File \"/home/michael24peters/.local/lib/python3.7/site-packages/mlflow/store/tracking/file_store.py\", line 260, in _get_experiment\n",
      "    meta = read_yaml(experiment_dir, FileStore.META_DATA_FILE_NAME)\n",
      "  File \"/home/michael24peters/.local/lib/python3.7/site-packages/mlflow/utils/file_utils.py\", line 167, in read_yaml\n",
      "    raise MissingConfigException(\"Yaml file '%s' does not exist.\" % file_path)\n",
      "mlflow.exceptions.MissingConfigException: Yaml file '/share/lazy/pv-finder_model_repo/ML/meta.yaml' does not exist.\n"
     ]
    }
   ],
   "source": [
    "model = ModelB()\n",
    "\n",
    "#summary(model.to(device), (1, 4000))\n",
    "\n",
    "mlflow.tracking.set_tracking_uri('file:/share/lazy/pv-finder_model_repo')\n",
    "mlflow.set_experiment('ALLCNN')"
   ]
  },
  {
   "cell_type": "code",
   "execution_count": 8,
   "metadata": {
    "scrolled": true
   },
   "outputs": [
    {
     "name": "stdout",
     "output_type": "stream",
     "text": [
      "Let's use 1 GPUs!\n"
     ]
    }
   ],
   "source": [
    "print(\"Let's use\", torch.cuda.device_count(), \"GPUs!\")\n",
    "if torch.cuda.device_count() > 1:\n",
    "    model = torch.nn.DataParallel(model)"
   ]
  },
  {
   "cell_type": "markdown",
   "metadata": {},
   "source": [
    "Let's move the model's weight matricies to the GPU:"
   ]
  },
  {
   "cell_type": "code",
   "execution_count": 9,
   "metadata": {},
   "outputs": [
    {
     "name": "stdout",
     "output_type": "stream",
     "text": [
      "we also froze 0 weights\n",
      "Of the 6.0 parameter layers to update in the current model, 6.0 were loaded\n"
     ]
    }
   ],
   "source": [
    "##  mds 200121 loss = Loss(epsilon=1e-5,coefficient=1.0)\n",
    "loss = Loss(epsilon=1e-5,coefficient=2.5)\n",
    "optimizer = torch.optim.Adam(model.parameters(), lr=args.lr)\n",
    "\n",
    "##  use the first five layers from a pre-existing model\n",
    "##  see example at https://discuss.pytorch.org/t/how-to-load-part-of-pre-trained-model/1113\n",
    "##   ML -> /share/lazy/sokoloff/ML\n",
    "\n",
    "#path = 'run_stats.pyt'\n",
    "#load_full_state(model, optimizer, path)\n",
    "# For other pretrained models, go to MLFlow and find the path for \"run_stats.pyt\"\n",
    "pretrained_dict = '/share/lazy/pv-finder_model_repo/7/45f4cbc6e8f54804ba333a929d359a76/artifacts/run_stats.pyt'\n",
    "load_full_state(model, optimizer, pretrained_dict)"
   ]
  },
  {
   "cell_type": "markdown",
   "metadata": {},
   "source": [
    "Let's move the model's weight matricies to the GPU:"
   ]
  },
  {
   "cell_type": "code",
   "execution_count": 10,
   "metadata": {
    "scrolled": true
   },
   "outputs": [
    {
     "data": {
      "text/plain": [
       "All_CNN6Layer_B(\n",
       "  (conv1): Conv1d(1, 16, kernel_size=(25,), stride=(1,), padding=(12,))\n",
       "  (conv2): Conv1d(16, 9, kernel_size=(15,), stride=(1,), padding=(7,))\n",
       "  (conv3): Conv1d(9, 9, kernel_size=(15,), stride=(1,), padding=(7,))\n",
       "  (conv4): Conv1d(9, 9, kernel_size=(15,), stride=(1,), padding=(7,))\n",
       "  (conv5): Conv1d(9, 1, kernel_size=(5,), stride=(1,), padding=(2,))\n",
       "  (finalFilter): Conv1d(1, 1, kernel_size=(91,), stride=(1,), padding=(45,))\n",
       "  (conv1dropout): Dropout(p=0.15, inplace=False)\n",
       "  (conv2dropout): Dropout(p=0.15, inplace=False)\n",
       "  (conv3dropout): Dropout(p=0.15, inplace=False)\n",
       "  (conv4dropout): Dropout(p=0.15, inplace=False)\n",
       "  (conv5dropout): Dropout(p=0.15, inplace=False)\n",
       ")"
      ]
     },
     "execution_count": 10,
     "metadata": {},
     "output_type": "execute_result"
    }
   ],
   "source": [
    "model.to(device)"
   ]
  },
  {
   "cell_type": "markdown",
   "metadata": {},
   "source": [
    "## Train \n",
    "\n",
    "\n",
    "\n",
    "The body of this loop runs once per epoch. Results is a named tuple of values (loss per epoch for training and validation, time each). Start by setting up a plot first:"
   ]
  },
  {
   "cell_type": "code",
   "execution_count": 11,
   "metadata": {},
   "outputs": [
    {
     "data": {
      "application/javascript": [
       "/* Put everything inside the global mpl namespace */\n",
       "window.mpl = {};\n",
       "\n",
       "\n",
       "mpl.get_websocket_type = function() {\n",
       "    if (typeof(WebSocket) !== 'undefined') {\n",
       "        return WebSocket;\n",
       "    } else if (typeof(MozWebSocket) !== 'undefined') {\n",
       "        return MozWebSocket;\n",
       "    } else {\n",
       "        alert('Your browser does not have WebSocket support. ' +\n",
       "              'Please try Chrome, Safari or Firefox ≥ 6. ' +\n",
       "              'Firefox 4 and 5 are also supported but you ' +\n",
       "              'have to enable WebSockets in about:config.');\n",
       "    };\n",
       "}\n",
       "\n",
       "mpl.figure = function(figure_id, websocket, ondownload, parent_element) {\n",
       "    this.id = figure_id;\n",
       "\n",
       "    this.ws = websocket;\n",
       "\n",
       "    this.supports_binary = (this.ws.binaryType != undefined);\n",
       "\n",
       "    if (!this.supports_binary) {\n",
       "        var warnings = document.getElementById(\"mpl-warnings\");\n",
       "        if (warnings) {\n",
       "            warnings.style.display = 'block';\n",
       "            warnings.textContent = (\n",
       "                \"This browser does not support binary websocket messages. \" +\n",
       "                    \"Performance may be slow.\");\n",
       "        }\n",
       "    }\n",
       "\n",
       "    this.imageObj = new Image();\n",
       "\n",
       "    this.context = undefined;\n",
       "    this.message = undefined;\n",
       "    this.canvas = undefined;\n",
       "    this.rubberband_canvas = undefined;\n",
       "    this.rubberband_context = undefined;\n",
       "    this.format_dropdown = undefined;\n",
       "\n",
       "    this.image_mode = 'full';\n",
       "\n",
       "    this.root = $('<div/>');\n",
       "    this._root_extra_style(this.root)\n",
       "    this.root.attr('style', 'display: inline-block');\n",
       "\n",
       "    $(parent_element).append(this.root);\n",
       "\n",
       "    this._init_header(this);\n",
       "    this._init_canvas(this);\n",
       "    this._init_toolbar(this);\n",
       "\n",
       "    var fig = this;\n",
       "\n",
       "    this.waiting = false;\n",
       "\n",
       "    this.ws.onopen =  function () {\n",
       "            fig.send_message(\"supports_binary\", {value: fig.supports_binary});\n",
       "            fig.send_message(\"send_image_mode\", {});\n",
       "            if (mpl.ratio != 1) {\n",
       "                fig.send_message(\"set_dpi_ratio\", {'dpi_ratio': mpl.ratio});\n",
       "            }\n",
       "            fig.send_message(\"refresh\", {});\n",
       "        }\n",
       "\n",
       "    this.imageObj.onload = function() {\n",
       "            if (fig.image_mode == 'full') {\n",
       "                // Full images could contain transparency (where diff images\n",
       "                // almost always do), so we need to clear the canvas so that\n",
       "                // there is no ghosting.\n",
       "                fig.context.clearRect(0, 0, fig.canvas.width, fig.canvas.height);\n",
       "            }\n",
       "            fig.context.drawImage(fig.imageObj, 0, 0);\n",
       "        };\n",
       "\n",
       "    this.imageObj.onunload = function() {\n",
       "        fig.ws.close();\n",
       "    }\n",
       "\n",
       "    this.ws.onmessage = this._make_on_message_function(this);\n",
       "\n",
       "    this.ondownload = ondownload;\n",
       "}\n",
       "\n",
       "mpl.figure.prototype._init_header = function() {\n",
       "    var titlebar = $(\n",
       "        '<div class=\"ui-dialog-titlebar ui-widget-header ui-corner-all ' +\n",
       "        'ui-helper-clearfix\"/>');\n",
       "    var titletext = $(\n",
       "        '<div class=\"ui-dialog-title\" style=\"width: 100%; ' +\n",
       "        'text-align: center; padding: 3px;\"/>');\n",
       "    titlebar.append(titletext)\n",
       "    this.root.append(titlebar);\n",
       "    this.header = titletext[0];\n",
       "}\n",
       "\n",
       "\n",
       "\n",
       "mpl.figure.prototype._canvas_extra_style = function(canvas_div) {\n",
       "\n",
       "}\n",
       "\n",
       "\n",
       "mpl.figure.prototype._root_extra_style = function(canvas_div) {\n",
       "\n",
       "}\n",
       "\n",
       "mpl.figure.prototype._init_canvas = function() {\n",
       "    var fig = this;\n",
       "\n",
       "    var canvas_div = $('<div/>');\n",
       "\n",
       "    canvas_div.attr('style', 'position: relative; clear: both; outline: 0');\n",
       "\n",
       "    function canvas_keyboard_event(event) {\n",
       "        return fig.key_event(event, event['data']);\n",
       "    }\n",
       "\n",
       "    canvas_div.keydown('key_press', canvas_keyboard_event);\n",
       "    canvas_div.keyup('key_release', canvas_keyboard_event);\n",
       "    this.canvas_div = canvas_div\n",
       "    this._canvas_extra_style(canvas_div)\n",
       "    this.root.append(canvas_div);\n",
       "\n",
       "    var canvas = $('<canvas/>');\n",
       "    canvas.addClass('mpl-canvas');\n",
       "    canvas.attr('style', \"left: 0; top: 0; z-index: 0; outline: 0\")\n",
       "\n",
       "    this.canvas = canvas[0];\n",
       "    this.context = canvas[0].getContext(\"2d\");\n",
       "\n",
       "    var backingStore = this.context.backingStorePixelRatio ||\n",
       "\tthis.context.webkitBackingStorePixelRatio ||\n",
       "\tthis.context.mozBackingStorePixelRatio ||\n",
       "\tthis.context.msBackingStorePixelRatio ||\n",
       "\tthis.context.oBackingStorePixelRatio ||\n",
       "\tthis.context.backingStorePixelRatio || 1;\n",
       "\n",
       "    mpl.ratio = (window.devicePixelRatio || 1) / backingStore;\n",
       "\n",
       "    var rubberband = $('<canvas/>');\n",
       "    rubberband.attr('style', \"position: absolute; left: 0; top: 0; z-index: 1;\")\n",
       "\n",
       "    var pass_mouse_events = true;\n",
       "\n",
       "    canvas_div.resizable({\n",
       "        start: function(event, ui) {\n",
       "            pass_mouse_events = false;\n",
       "        },\n",
       "        resize: function(event, ui) {\n",
       "            fig.request_resize(ui.size.width, ui.size.height);\n",
       "        },\n",
       "        stop: function(event, ui) {\n",
       "            pass_mouse_events = true;\n",
       "            fig.request_resize(ui.size.width, ui.size.height);\n",
       "        },\n",
       "    });\n",
       "\n",
       "    function mouse_event_fn(event) {\n",
       "        if (pass_mouse_events)\n",
       "            return fig.mouse_event(event, event['data']);\n",
       "    }\n",
       "\n",
       "    rubberband.mousedown('button_press', mouse_event_fn);\n",
       "    rubberband.mouseup('button_release', mouse_event_fn);\n",
       "    // Throttle sequential mouse events to 1 every 20ms.\n",
       "    rubberband.mousemove('motion_notify', mouse_event_fn);\n",
       "\n",
       "    rubberband.mouseenter('figure_enter', mouse_event_fn);\n",
       "    rubberband.mouseleave('figure_leave', mouse_event_fn);\n",
       "\n",
       "    canvas_div.on(\"wheel\", function (event) {\n",
       "        event = event.originalEvent;\n",
       "        event['data'] = 'scroll'\n",
       "        if (event.deltaY < 0) {\n",
       "            event.step = 1;\n",
       "        } else {\n",
       "            event.step = -1;\n",
       "        }\n",
       "        mouse_event_fn(event);\n",
       "    });\n",
       "\n",
       "    canvas_div.append(canvas);\n",
       "    canvas_div.append(rubberband);\n",
       "\n",
       "    this.rubberband = rubberband;\n",
       "    this.rubberband_canvas = rubberband[0];\n",
       "    this.rubberband_context = rubberband[0].getContext(\"2d\");\n",
       "    this.rubberband_context.strokeStyle = \"#000000\";\n",
       "\n",
       "    this._resize_canvas = function(width, height) {\n",
       "        // Keep the size of the canvas, canvas container, and rubber band\n",
       "        // canvas in synch.\n",
       "        canvas_div.css('width', width)\n",
       "        canvas_div.css('height', height)\n",
       "\n",
       "        canvas.attr('width', width * mpl.ratio);\n",
       "        canvas.attr('height', height * mpl.ratio);\n",
       "        canvas.attr('style', 'width: ' + width + 'px; height: ' + height + 'px;');\n",
       "\n",
       "        rubberband.attr('width', width);\n",
       "        rubberband.attr('height', height);\n",
       "    }\n",
       "\n",
       "    // Set the figure to an initial 600x600px, this will subsequently be updated\n",
       "    // upon first draw.\n",
       "    this._resize_canvas(600, 600);\n",
       "\n",
       "    // Disable right mouse context menu.\n",
       "    $(this.rubberband_canvas).bind(\"contextmenu\",function(e){\n",
       "        return false;\n",
       "    });\n",
       "\n",
       "    function set_focus () {\n",
       "        canvas.focus();\n",
       "        canvas_div.focus();\n",
       "    }\n",
       "\n",
       "    window.setTimeout(set_focus, 100);\n",
       "}\n",
       "\n",
       "mpl.figure.prototype._init_toolbar = function() {\n",
       "    var fig = this;\n",
       "\n",
       "    var nav_element = $('<div/>');\n",
       "    nav_element.attr('style', 'width: 100%');\n",
       "    this.root.append(nav_element);\n",
       "\n",
       "    // Define a callback function for later on.\n",
       "    function toolbar_event(event) {\n",
       "        return fig.toolbar_button_onclick(event['data']);\n",
       "    }\n",
       "    function toolbar_mouse_event(event) {\n",
       "        return fig.toolbar_button_onmouseover(event['data']);\n",
       "    }\n",
       "\n",
       "    for(var toolbar_ind in mpl.toolbar_items) {\n",
       "        var name = mpl.toolbar_items[toolbar_ind][0];\n",
       "        var tooltip = mpl.toolbar_items[toolbar_ind][1];\n",
       "        var image = mpl.toolbar_items[toolbar_ind][2];\n",
       "        var method_name = mpl.toolbar_items[toolbar_ind][3];\n",
       "\n",
       "        if (!name) {\n",
       "            // put a spacer in here.\n",
       "            continue;\n",
       "        }\n",
       "        var button = $('<button/>');\n",
       "        button.addClass('ui-button ui-widget ui-state-default ui-corner-all ' +\n",
       "                        'ui-button-icon-only');\n",
       "        button.attr('role', 'button');\n",
       "        button.attr('aria-disabled', 'false');\n",
       "        button.click(method_name, toolbar_event);\n",
       "        button.mouseover(tooltip, toolbar_mouse_event);\n",
       "\n",
       "        var icon_img = $('<span/>');\n",
       "        icon_img.addClass('ui-button-icon-primary ui-icon');\n",
       "        icon_img.addClass(image);\n",
       "        icon_img.addClass('ui-corner-all');\n",
       "\n",
       "        var tooltip_span = $('<span/>');\n",
       "        tooltip_span.addClass('ui-button-text');\n",
       "        tooltip_span.html(tooltip);\n",
       "\n",
       "        button.append(icon_img);\n",
       "        button.append(tooltip_span);\n",
       "\n",
       "        nav_element.append(button);\n",
       "    }\n",
       "\n",
       "    var fmt_picker_span = $('<span/>');\n",
       "\n",
       "    var fmt_picker = $('<select/>');\n",
       "    fmt_picker.addClass('mpl-toolbar-option ui-widget ui-widget-content');\n",
       "    fmt_picker_span.append(fmt_picker);\n",
       "    nav_element.append(fmt_picker_span);\n",
       "    this.format_dropdown = fmt_picker[0];\n",
       "\n",
       "    for (var ind in mpl.extensions) {\n",
       "        var fmt = mpl.extensions[ind];\n",
       "        var option = $(\n",
       "            '<option/>', {selected: fmt === mpl.default_extension}).html(fmt);\n",
       "        fmt_picker.append(option);\n",
       "    }\n",
       "\n",
       "    // Add hover states to the ui-buttons\n",
       "    $( \".ui-button\" ).hover(\n",
       "        function() { $(this).addClass(\"ui-state-hover\");},\n",
       "        function() { $(this).removeClass(\"ui-state-hover\");}\n",
       "    );\n",
       "\n",
       "    var status_bar = $('<span class=\"mpl-message\"/>');\n",
       "    nav_element.append(status_bar);\n",
       "    this.message = status_bar[0];\n",
       "}\n",
       "\n",
       "mpl.figure.prototype.request_resize = function(x_pixels, y_pixels) {\n",
       "    // Request matplotlib to resize the figure. Matplotlib will then trigger a resize in the client,\n",
       "    // which will in turn request a refresh of the image.\n",
       "    this.send_message('resize', {'width': x_pixels, 'height': y_pixels});\n",
       "}\n",
       "\n",
       "mpl.figure.prototype.send_message = function(type, properties) {\n",
       "    properties['type'] = type;\n",
       "    properties['figure_id'] = this.id;\n",
       "    this.ws.send(JSON.stringify(properties));\n",
       "}\n",
       "\n",
       "mpl.figure.prototype.send_draw_message = function() {\n",
       "    if (!this.waiting) {\n",
       "        this.waiting = true;\n",
       "        this.ws.send(JSON.stringify({type: \"draw\", figure_id: this.id}));\n",
       "    }\n",
       "}\n",
       "\n",
       "\n",
       "mpl.figure.prototype.handle_save = function(fig, msg) {\n",
       "    var format_dropdown = fig.format_dropdown;\n",
       "    var format = format_dropdown.options[format_dropdown.selectedIndex].value;\n",
       "    fig.ondownload(fig, format);\n",
       "}\n",
       "\n",
       "\n",
       "mpl.figure.prototype.handle_resize = function(fig, msg) {\n",
       "    var size = msg['size'];\n",
       "    if (size[0] != fig.canvas.width || size[1] != fig.canvas.height) {\n",
       "        fig._resize_canvas(size[0], size[1]);\n",
       "        fig.send_message(\"refresh\", {});\n",
       "    };\n",
       "}\n",
       "\n",
       "mpl.figure.prototype.handle_rubberband = function(fig, msg) {\n",
       "    var x0 = msg['x0'] / mpl.ratio;\n",
       "    var y0 = (fig.canvas.height - msg['y0']) / mpl.ratio;\n",
       "    var x1 = msg['x1'] / mpl.ratio;\n",
       "    var y1 = (fig.canvas.height - msg['y1']) / mpl.ratio;\n",
       "    x0 = Math.floor(x0) + 0.5;\n",
       "    y0 = Math.floor(y0) + 0.5;\n",
       "    x1 = Math.floor(x1) + 0.5;\n",
       "    y1 = Math.floor(y1) + 0.5;\n",
       "    var min_x = Math.min(x0, x1);\n",
       "    var min_y = Math.min(y0, y1);\n",
       "    var width = Math.abs(x1 - x0);\n",
       "    var height = Math.abs(y1 - y0);\n",
       "\n",
       "    fig.rubberband_context.clearRect(\n",
       "        0, 0, fig.canvas.width / mpl.ratio, fig.canvas.height / mpl.ratio);\n",
       "\n",
       "    fig.rubberband_context.strokeRect(min_x, min_y, width, height);\n",
       "}\n",
       "\n",
       "mpl.figure.prototype.handle_figure_label = function(fig, msg) {\n",
       "    // Updates the figure title.\n",
       "    fig.header.textContent = msg['label'];\n",
       "}\n",
       "\n",
       "mpl.figure.prototype.handle_cursor = function(fig, msg) {\n",
       "    var cursor = msg['cursor'];\n",
       "    switch(cursor)\n",
       "    {\n",
       "    case 0:\n",
       "        cursor = 'pointer';\n",
       "        break;\n",
       "    case 1:\n",
       "        cursor = 'default';\n",
       "        break;\n",
       "    case 2:\n",
       "        cursor = 'crosshair';\n",
       "        break;\n",
       "    case 3:\n",
       "        cursor = 'move';\n",
       "        break;\n",
       "    }\n",
       "    fig.rubberband_canvas.style.cursor = cursor;\n",
       "}\n",
       "\n",
       "mpl.figure.prototype.handle_message = function(fig, msg) {\n",
       "    fig.message.textContent = msg['message'];\n",
       "}\n",
       "\n",
       "mpl.figure.prototype.handle_draw = function(fig, msg) {\n",
       "    // Request the server to send over a new figure.\n",
       "    fig.send_draw_message();\n",
       "}\n",
       "\n",
       "mpl.figure.prototype.handle_image_mode = function(fig, msg) {\n",
       "    fig.image_mode = msg['mode'];\n",
       "}\n",
       "\n",
       "mpl.figure.prototype.updated_canvas_event = function() {\n",
       "    // Called whenever the canvas gets updated.\n",
       "    this.send_message(\"ack\", {});\n",
       "}\n",
       "\n",
       "// A function to construct a web socket function for onmessage handling.\n",
       "// Called in the figure constructor.\n",
       "mpl.figure.prototype._make_on_message_function = function(fig) {\n",
       "    return function socket_on_message(evt) {\n",
       "        if (evt.data instanceof Blob) {\n",
       "            /* FIXME: We get \"Resource interpreted as Image but\n",
       "             * transferred with MIME type text/plain:\" errors on\n",
       "             * Chrome.  But how to set the MIME type?  It doesn't seem\n",
       "             * to be part of the websocket stream */\n",
       "            evt.data.type = \"image/png\";\n",
       "\n",
       "            /* Free the memory for the previous frames */\n",
       "            if (fig.imageObj.src) {\n",
       "                (window.URL || window.webkitURL).revokeObjectURL(\n",
       "                    fig.imageObj.src);\n",
       "            }\n",
       "\n",
       "            fig.imageObj.src = (window.URL || window.webkitURL).createObjectURL(\n",
       "                evt.data);\n",
       "            fig.updated_canvas_event();\n",
       "            fig.waiting = false;\n",
       "            return;\n",
       "        }\n",
       "        else if (typeof evt.data === 'string' && evt.data.slice(0, 21) == \"data:image/png;base64\") {\n",
       "            fig.imageObj.src = evt.data;\n",
       "            fig.updated_canvas_event();\n",
       "            fig.waiting = false;\n",
       "            return;\n",
       "        }\n",
       "\n",
       "        var msg = JSON.parse(evt.data);\n",
       "        var msg_type = msg['type'];\n",
       "\n",
       "        // Call the  \"handle_{type}\" callback, which takes\n",
       "        // the figure and JSON message as its only arguments.\n",
       "        try {\n",
       "            var callback = fig[\"handle_\" + msg_type];\n",
       "        } catch (e) {\n",
       "            console.log(\"No handler for the '\" + msg_type + \"' message type: \", msg);\n",
       "            return;\n",
       "        }\n",
       "\n",
       "        if (callback) {\n",
       "            try {\n",
       "                // console.log(\"Handling '\" + msg_type + \"' message: \", msg);\n",
       "                callback(fig, msg);\n",
       "            } catch (e) {\n",
       "                console.log(\"Exception inside the 'handler_\" + msg_type + \"' callback:\", e, e.stack, msg);\n",
       "            }\n",
       "        }\n",
       "    };\n",
       "}\n",
       "\n",
       "// from http://stackoverflow.com/questions/1114465/getting-mouse-location-in-canvas\n",
       "mpl.findpos = function(e) {\n",
       "    //this section is from http://www.quirksmode.org/js/events_properties.html\n",
       "    var targ;\n",
       "    if (!e)\n",
       "        e = window.event;\n",
       "    if (e.target)\n",
       "        targ = e.target;\n",
       "    else if (e.srcElement)\n",
       "        targ = e.srcElement;\n",
       "    if (targ.nodeType == 3) // defeat Safari bug\n",
       "        targ = targ.parentNode;\n",
       "\n",
       "    // jQuery normalizes the pageX and pageY\n",
       "    // pageX,Y are the mouse positions relative to the document\n",
       "    // offset() returns the position of the element relative to the document\n",
       "    var x = e.pageX - $(targ).offset().left;\n",
       "    var y = e.pageY - $(targ).offset().top;\n",
       "\n",
       "    return {\"x\": x, \"y\": y};\n",
       "};\n",
       "\n",
       "/*\n",
       " * return a copy of an object with only non-object keys\n",
       " * we need this to avoid circular references\n",
       " * http://stackoverflow.com/a/24161582/3208463\n",
       " */\n",
       "function simpleKeys (original) {\n",
       "  return Object.keys(original).reduce(function (obj, key) {\n",
       "    if (typeof original[key] !== 'object')\n",
       "        obj[key] = original[key]\n",
       "    return obj;\n",
       "  }, {});\n",
       "}\n",
       "\n",
       "mpl.figure.prototype.mouse_event = function(event, name) {\n",
       "    var canvas_pos = mpl.findpos(event)\n",
       "\n",
       "    if (name === 'button_press')\n",
       "    {\n",
       "        this.canvas.focus();\n",
       "        this.canvas_div.focus();\n",
       "    }\n",
       "\n",
       "    var x = canvas_pos.x * mpl.ratio;\n",
       "    var y = canvas_pos.y * mpl.ratio;\n",
       "\n",
       "    this.send_message(name, {x: x, y: y, button: event.button,\n",
       "                             step: event.step,\n",
       "                             guiEvent: simpleKeys(event)});\n",
       "\n",
       "    /* This prevents the web browser from automatically changing to\n",
       "     * the text insertion cursor when the button is pressed.  We want\n",
       "     * to control all of the cursor setting manually through the\n",
       "     * 'cursor' event from matplotlib */\n",
       "    event.preventDefault();\n",
       "    return false;\n",
       "}\n",
       "\n",
       "mpl.figure.prototype._key_event_extra = function(event, name) {\n",
       "    // Handle any extra behaviour associated with a key event\n",
       "}\n",
       "\n",
       "mpl.figure.prototype.key_event = function(event, name) {\n",
       "\n",
       "    // Prevent repeat events\n",
       "    if (name == 'key_press')\n",
       "    {\n",
       "        if (event.which === this._key)\n",
       "            return;\n",
       "        else\n",
       "            this._key = event.which;\n",
       "    }\n",
       "    if (name == 'key_release')\n",
       "        this._key = null;\n",
       "\n",
       "    var value = '';\n",
       "    if (event.ctrlKey && event.which != 17)\n",
       "        value += \"ctrl+\";\n",
       "    if (event.altKey && event.which != 18)\n",
       "        value += \"alt+\";\n",
       "    if (event.shiftKey && event.which != 16)\n",
       "        value += \"shift+\";\n",
       "\n",
       "    value += 'k';\n",
       "    value += event.which.toString();\n",
       "\n",
       "    this._key_event_extra(event, name);\n",
       "\n",
       "    this.send_message(name, {key: value,\n",
       "                             guiEvent: simpleKeys(event)});\n",
       "    return false;\n",
       "}\n",
       "\n",
       "mpl.figure.prototype.toolbar_button_onclick = function(name) {\n",
       "    if (name == 'download') {\n",
       "        this.handle_save(this, null);\n",
       "    } else {\n",
       "        this.send_message(\"toolbar_button\", {name: name});\n",
       "    }\n",
       "};\n",
       "\n",
       "mpl.figure.prototype.toolbar_button_onmouseover = function(tooltip) {\n",
       "    this.message.textContent = tooltip;\n",
       "};\n",
       "mpl.toolbar_items = [[\"Home\", \"Reset original view\", \"fa fa-home icon-home\", \"home\"], [\"Back\", \"Back to previous view\", \"fa fa-arrow-left icon-arrow-left\", \"back\"], [\"Forward\", \"Forward to next view\", \"fa fa-arrow-right icon-arrow-right\", \"forward\"], [\"\", \"\", \"\", \"\"], [\"Pan\", \"Pan axes with left mouse, zoom with right\", \"fa fa-arrows icon-move\", \"pan\"], [\"Zoom\", \"Zoom to rectangle\", \"fa fa-square-o icon-check-empty\", \"zoom\"], [\"\", \"\", \"\", \"\"], [\"Download\", \"Download plot\", \"fa fa-floppy-o icon-save\", \"download\"]];\n",
       "\n",
       "mpl.extensions = [\"eps\", \"jpeg\", \"pdf\", \"png\", \"ps\", \"raw\", \"svg\", \"tif\"];\n",
       "\n",
       "mpl.default_extension = \"png\";var comm_websocket_adapter = function(comm) {\n",
       "    // Create a \"websocket\"-like object which calls the given IPython comm\n",
       "    // object with the appropriate methods. Currently this is a non binary\n",
       "    // socket, so there is still some room for performance tuning.\n",
       "    var ws = {};\n",
       "\n",
       "    ws.close = function() {\n",
       "        comm.close()\n",
       "    };\n",
       "    ws.send = function(m) {\n",
       "        //console.log('sending', m);\n",
       "        comm.send(m);\n",
       "    };\n",
       "    // Register the callback with on_msg.\n",
       "    comm.on_msg(function(msg) {\n",
       "        //console.log('receiving', msg['content']['data'], msg);\n",
       "        // Pass the mpl event to the overridden (by mpl) onmessage function.\n",
       "        ws.onmessage(msg['content']['data'])\n",
       "    });\n",
       "    return ws;\n",
       "}\n",
       "\n",
       "mpl.mpl_figure_comm = function(comm, msg) {\n",
       "    // This is the function which gets called when the mpl process\n",
       "    // starts-up an IPython Comm through the \"matplotlib\" channel.\n",
       "\n",
       "    var id = msg.content.data.id;\n",
       "    // Get hold of the div created by the display call when the Comm\n",
       "    // socket was opened in Python.\n",
       "    var element = $(\"#\" + id);\n",
       "    var ws_proxy = comm_websocket_adapter(comm)\n",
       "\n",
       "    function ondownload(figure, format) {\n",
       "        window.open(figure.imageObj.src);\n",
       "    }\n",
       "\n",
       "    var fig = new mpl.figure(id, ws_proxy,\n",
       "                           ondownload,\n",
       "                           element.get(0));\n",
       "\n",
       "    // Call onopen now - mpl needs it, as it is assuming we've passed it a real\n",
       "    // web socket which is closed, not our websocket->open comm proxy.\n",
       "    ws_proxy.onopen();\n",
       "\n",
       "    fig.parent_element = element.get(0);\n",
       "    fig.cell_info = mpl.find_output_cell(\"<div id='\" + id + \"'></div>\");\n",
       "    if (!fig.cell_info) {\n",
       "        console.error(\"Failed to find cell for figure\", id, fig);\n",
       "        return;\n",
       "    }\n",
       "\n",
       "    var output_index = fig.cell_info[2]\n",
       "    var cell = fig.cell_info[0];\n",
       "\n",
       "};\n",
       "\n",
       "mpl.figure.prototype.handle_close = function(fig, msg) {\n",
       "    var width = fig.canvas.width/mpl.ratio\n",
       "    fig.root.unbind('remove')\n",
       "\n",
       "    // Update the output cell to use the data from the current canvas.\n",
       "    fig.push_to_output();\n",
       "    var dataURL = fig.canvas.toDataURL();\n",
       "    // Re-enable the keyboard manager in IPython - without this line, in FF,\n",
       "    // the notebook keyboard shortcuts fail.\n",
       "    IPython.keyboard_manager.enable()\n",
       "    $(fig.parent_element).html('<img src=\"' + dataURL + '\" width=\"' + width + '\">');\n",
       "    fig.close_ws(fig, msg);\n",
       "}\n",
       "\n",
       "mpl.figure.prototype.close_ws = function(fig, msg){\n",
       "    fig.send_message('closing', msg);\n",
       "    // fig.ws.close()\n",
       "}\n",
       "\n",
       "mpl.figure.prototype.push_to_output = function(remove_interactive) {\n",
       "    // Turn the data on the canvas into data in the output cell.\n",
       "    var width = this.canvas.width/mpl.ratio\n",
       "    var dataURL = this.canvas.toDataURL();\n",
       "    this.cell_info[1]['text/html'] = '<img src=\"' + dataURL + '\" width=\"' + width + '\">';\n",
       "}\n",
       "\n",
       "mpl.figure.prototype.updated_canvas_event = function() {\n",
       "    // Tell IPython that the notebook contents must change.\n",
       "    IPython.notebook.set_dirty(true);\n",
       "    this.send_message(\"ack\", {});\n",
       "    var fig = this;\n",
       "    // Wait a second, then push the new image to the DOM so\n",
       "    // that it is saved nicely (might be nice to debounce this).\n",
       "    setTimeout(function () { fig.push_to_output() }, 1000);\n",
       "}\n",
       "\n",
       "mpl.figure.prototype._init_toolbar = function() {\n",
       "    var fig = this;\n",
       "\n",
       "    var nav_element = $('<div/>');\n",
       "    nav_element.attr('style', 'width: 100%');\n",
       "    this.root.append(nav_element);\n",
       "\n",
       "    // Define a callback function for later on.\n",
       "    function toolbar_event(event) {\n",
       "        return fig.toolbar_button_onclick(event['data']);\n",
       "    }\n",
       "    function toolbar_mouse_event(event) {\n",
       "        return fig.toolbar_button_onmouseover(event['data']);\n",
       "    }\n",
       "\n",
       "    for(var toolbar_ind in mpl.toolbar_items){\n",
       "        var name = mpl.toolbar_items[toolbar_ind][0];\n",
       "        var tooltip = mpl.toolbar_items[toolbar_ind][1];\n",
       "        var image = mpl.toolbar_items[toolbar_ind][2];\n",
       "        var method_name = mpl.toolbar_items[toolbar_ind][3];\n",
       "\n",
       "        if (!name) { continue; };\n",
       "\n",
       "        var button = $('<button class=\"btn btn-default\" href=\"#\" title=\"' + name + '\"><i class=\"fa ' + image + ' fa-lg\"></i></button>');\n",
       "        button.click(method_name, toolbar_event);\n",
       "        button.mouseover(tooltip, toolbar_mouse_event);\n",
       "        nav_element.append(button);\n",
       "    }\n",
       "\n",
       "    // Add the status bar.\n",
       "    var status_bar = $('<span class=\"mpl-message\" style=\"text-align:right; float: right;\"/>');\n",
       "    nav_element.append(status_bar);\n",
       "    this.message = status_bar[0];\n",
       "\n",
       "    // Add the close button to the window.\n",
       "    var buttongrp = $('<div class=\"btn-group inline pull-right\"></div>');\n",
       "    var button = $('<button class=\"btn btn-mini btn-primary\" href=\"#\" title=\"Stop Interaction\"><i class=\"fa fa-power-off icon-remove icon-large\"></i></button>');\n",
       "    button.click(function (evt) { fig.handle_close(fig, {}); } );\n",
       "    button.mouseover('Stop Interaction', toolbar_mouse_event);\n",
       "    buttongrp.append(button);\n",
       "    var titlebar = this.root.find($('.ui-dialog-titlebar'));\n",
       "    titlebar.prepend(buttongrp);\n",
       "}\n",
       "\n",
       "mpl.figure.prototype._root_extra_style = function(el){\n",
       "    var fig = this\n",
       "    el.on(\"remove\", function(){\n",
       "\tfig.close_ws(fig, {});\n",
       "    });\n",
       "}\n",
       "\n",
       "mpl.figure.prototype._canvas_extra_style = function(el){\n",
       "    // this is important to make the div 'focusable\n",
       "    el.attr('tabindex', 0)\n",
       "    // reach out to IPython and tell the keyboard manager to turn it's self\n",
       "    // off when our div gets focus\n",
       "\n",
       "    // location in version 3\n",
       "    if (IPython.notebook.keyboard_manager) {\n",
       "        IPython.notebook.keyboard_manager.register_events(el);\n",
       "    }\n",
       "    else {\n",
       "        // location in version 2\n",
       "        IPython.keyboard_manager.register_events(el);\n",
       "    }\n",
       "\n",
       "}\n",
       "\n",
       "mpl.figure.prototype._key_event_extra = function(event, name) {\n",
       "    var manager = IPython.notebook.keyboard_manager;\n",
       "    if (!manager)\n",
       "        manager = IPython.keyboard_manager;\n",
       "\n",
       "    // Check for shift+enter\n",
       "    if (event.shiftKey && event.which == 13) {\n",
       "        this.canvas_div.blur();\n",
       "        // select the cell after this one\n",
       "        var index = IPython.notebook.find_cell_index(this.cell_info[0]);\n",
       "        IPython.notebook.select(index + 1);\n",
       "    }\n",
       "}\n",
       "\n",
       "mpl.figure.prototype.handle_save = function(fig, msg) {\n",
       "    fig.ondownload(fig, null);\n",
       "}\n",
       "\n",
       "\n",
       "mpl.find_output_cell = function(html_output) {\n",
       "    // Return the cell and output element which can be found *uniquely* in the notebook.\n",
       "    // Note - this is a bit hacky, but it is done because the \"notebook_saving.Notebook\"\n",
       "    // IPython event is triggered only after the cells have been serialised, which for\n",
       "    // our purposes (turning an active figure into a static one), is too late.\n",
       "    var cells = IPython.notebook.get_cells();\n",
       "    var ncells = cells.length;\n",
       "    for (var i=0; i<ncells; i++) {\n",
       "        var cell = cells[i];\n",
       "        if (cell.cell_type === 'code'){\n",
       "            for (var j=0; j<cell.output_area.outputs.length; j++) {\n",
       "                var data = cell.output_area.outputs[j];\n",
       "                if (data.data) {\n",
       "                    // IPython >= 3 moved mimebundle to data attribute of output\n",
       "                    data = data.data;\n",
       "                }\n",
       "                if (data['text/html'] == html_output) {\n",
       "                    return [cell, data, j];\n",
       "                }\n",
       "            }\n",
       "        }\n",
       "    }\n",
       "}\n",
       "\n",
       "// Register the function which deals with the matplotlib target/channel.\n",
       "// The kernel may be null if the page has been refreshed.\n",
       "if (IPython.notebook.kernel != null) {\n",
       "    IPython.notebook.kernel.comm_manager.register_target('matplotlib', mpl.mpl_figure_comm);\n",
       "}\n"
      ],
      "text/plain": [
       "<IPython.core.display.Javascript object>"
      ]
     },
     "metadata": {},
     "output_type": "display_data"
    },
    {
     "data": {
      "text/html": [
       "<img src=\"data:image/png;base64,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\" width=\"1000\">"
      ],
      "text/plain": [
       "<IPython.core.display.HTML object>"
      ]
     },
     "metadata": {},
     "output_type": "display_data"
    }
   ],
   "source": [
    "ax, tax, lax, lines = dual_train_plots()\n",
    "fig = ax.figure\n",
    "plt.tight_layout()\n",
    "# This gets built up during the run - do not rerun this cell\n",
    "results = pd.DataFrame([], columns=Results._fields)"
   ]
  },
  {
   "cell_type": "code",
   "execution_count": null,
   "metadata": {
    "scrolled": false
   },
   "outputs": [
    {
     "name": "stdout",
     "output_type": "stream",
     "text": [
      "for model:  All_CNN6Layer_B(\n",
      "  (conv1): Conv1d(1, 16, kernel_size=(25,), stride=(1,), padding=(12,))\n",
      "  (conv2): Conv1d(16, 9, kernel_size=(15,), stride=(1,), padding=(7,))\n",
      "  (conv3): Conv1d(9, 9, kernel_size=(15,), stride=(1,), padding=(7,))\n",
      "  (conv4): Conv1d(9, 9, kernel_size=(15,), stride=(1,), padding=(7,))\n",
      "  (conv5): Conv1d(9, 1, kernel_size=(5,), stride=(1,), padding=(2,))\n",
      "  (finalFilter): Conv1d(1, 1, kernel_size=(91,), stride=(1,), padding=(45,))\n",
      "  (conv1dropout): Dropout(p=0.15, inplace=False)\n",
      "  (conv2dropout): Dropout(p=0.15, inplace=False)\n",
      "  (conv3dropout): Dropout(p=0.15, inplace=False)\n",
      "  (conv4dropout): Dropout(p=0.15, inplace=False)\n",
      "  (conv5dropout): Dropout(p=0.15, inplace=False)\n",
      ")\n",
      "epoch_start 217\n",
      "batch_size 128\n",
      "epochs 1000\n",
      "lr 0.001\n",
      "Number of batches: train = 1250, val = 78\n"
     ]
    },
    {
     "name": "stderr",
     "output_type": "stream",
     "text": [
      "/home/michael24peters/pv-finder_experimental/notebooks/model/training.py:95: TqdmDeprecationWarning: This function will be removed in tqdm==5.0.0\n",
      "Please use `tqdm.notebook.tqdm` instead of `tqdm.tqdm_notebook`\n",
      "  file=sys.stderr,\n"
     ]
    },
    {
     "data": {
      "application/vnd.jupyter.widget-view+json": {
       "model_id": "491cf6a894e444c58b97d49bafe0033e",
       "version_major": 2,
       "version_minor": 0
      },
      "text/plain": [
       "HBox(children=(FloatProgress(value=0.0, description='Epochs', layout=Layout(flex='2'), max=1000.0, style=Progr…"
      ]
     },
     "metadata": {},
     "output_type": "display_data"
    },
    {
     "data": {
      "application/vnd.jupyter.widget-view+json": {
       "model_id": "",
       "version_major": 2,
       "version_minor": 0
      },
      "text/plain": [
       "HBox(children=(FloatProgress(value=0.0, description='Training', layout=Layout(flex='2'), max=1250.0, style=Pro…"
      ]
     },
     "metadata": {},
     "output_type": "display_data"
    },
    {
     "name": "stdout",
     "output_type": "stream",
     "text": [
      "Epoch 217: train=9.13413, val=8.85915, took 30.013 s\n",
      "  Validation Found 50312 of 54504, added 1402 (eff 92.31%) (0.14 FP/event)\n"
     ]
    },
    {
     "data": {
      "application/vnd.jupyter.widget-view+json": {
       "model_id": "",
       "version_major": 2,
       "version_minor": 0
      },
      "text/plain": [
       "HBox(children=(FloatProgress(value=0.0, description='Training', layout=Layout(flex='2'), max=1250.0, style=Pro…"
      ]
     },
     "metadata": {},
     "output_type": "display_data"
    },
    {
     "name": "stdout",
     "output_type": "stream",
     "text": [
      "Epoch 218: train=9.09791, val=8.90017, took 29.804 s\n",
      "  Validation Found 50115 of 54504, added 1232 (eff 91.95%) (0.123 FP/event)\n"
     ]
    },
    {
     "data": {
      "application/vnd.jupyter.widget-view+json": {
       "model_id": "",
       "version_major": 2,
       "version_minor": 0
      },
      "text/plain": [
       "HBox(children=(FloatProgress(value=0.0, description='Training', layout=Layout(flex='2'), max=1250.0, style=Pro…"
      ]
     },
     "metadata": {},
     "output_type": "display_data"
    },
    {
     "name": "stdout",
     "output_type": "stream",
     "text": [
      "Epoch 219: train=9.09318, val=9.04964, took 29.83 s\n",
      "  Validation Found 49721 of 54504, added 1024 (eff 91.22%) (0.103 FP/event)\n"
     ]
    },
    {
     "data": {
      "application/vnd.jupyter.widget-view+json": {
       "model_id": "",
       "version_major": 2,
       "version_minor": 0
      },
      "text/plain": [
       "HBox(children=(FloatProgress(value=0.0, description='Training', layout=Layout(flex='2'), max=1250.0, style=Pro…"
      ]
     },
     "metadata": {},
     "output_type": "display_data"
    },
    {
     "name": "stdout",
     "output_type": "stream",
     "text": [
      "Epoch 220: train=9.08258, val=8.86163, took 29.794 s\n",
      "  Validation Found 50372 of 54504, added 1519 (eff 92.42%) (0.152 FP/event)\n"
     ]
    },
    {
     "data": {
      "application/vnd.jupyter.widget-view+json": {
       "model_id": "",
       "version_major": 2,
       "version_minor": 0
      },
      "text/plain": [
       "HBox(children=(FloatProgress(value=0.0, description='Training', layout=Layout(flex='2'), max=1250.0, style=Pro…"
      ]
     },
     "metadata": {},
     "output_type": "display_data"
    },
    {
     "name": "stdout",
     "output_type": "stream",
     "text": [
      "Epoch 221: train=9.08528, val=8.94505, took 29.772 s\n",
      "  Validation Found 50151 of 54504, added 1288 (eff 92.01%) (0.129 FP/event)\n"
     ]
    },
    {
     "data": {
      "application/vnd.jupyter.widget-view+json": {
       "model_id": "",
       "version_major": 2,
       "version_minor": 0
      },
      "text/plain": [
       "HBox(children=(FloatProgress(value=0.0, description='Training', layout=Layout(flex='2'), max=1250.0, style=Pro…"
      ]
     },
     "metadata": {},
     "output_type": "display_data"
    },
    {
     "name": "stdout",
     "output_type": "stream",
     "text": [
      "Epoch 222: train=9.07556, val=8.876, took 29.688 s\n",
      "  Validation Found 50129 of 54504, added 1245 (eff 91.97%) (0.125 FP/event)\n"
     ]
    },
    {
     "data": {
      "application/vnd.jupyter.widget-view+json": {
       "model_id": "",
       "version_major": 2,
       "version_minor": 0
      },
      "text/plain": [
       "HBox(children=(FloatProgress(value=0.0, description='Training', layout=Layout(flex='2'), max=1250.0, style=Pro…"
      ]
     },
     "metadata": {},
     "output_type": "display_data"
    },
    {
     "name": "stdout",
     "output_type": "stream",
     "text": [
      "Epoch 223: train=9.0717, val=8.7491, took 30.264 s\n",
      "  Validation Found 50308 of 54504, added 1364 (eff 92.30%) (0.137 FP/event)\n"
     ]
    },
    {
     "data": {
      "application/vnd.jupyter.widget-view+json": {
       "model_id": "",
       "version_major": 2,
       "version_minor": 0
      },
      "text/plain": [
       "HBox(children=(FloatProgress(value=0.0, description='Training', layout=Layout(flex='2'), max=1250.0, style=Pro…"
      ]
     },
     "metadata": {},
     "output_type": "display_data"
    },
    {
     "name": "stdout",
     "output_type": "stream",
     "text": [
      "Epoch 224: train=9.06447, val=8.85591, took 30.376 s\n",
      "  Validation Found 50410 of 54504, added 1452 (eff 92.49%) (0.145 FP/event)\n"
     ]
    },
    {
     "data": {
      "application/vnd.jupyter.widget-view+json": {
       "model_id": "",
       "version_major": 2,
       "version_minor": 0
      },
      "text/plain": [
       "HBox(children=(FloatProgress(value=0.0, description='Training', layout=Layout(flex='2'), max=1250.0, style=Pro…"
      ]
     },
     "metadata": {},
     "output_type": "display_data"
    },
    {
     "name": "stdout",
     "output_type": "stream",
     "text": [
      "Epoch 225: train=9.06863, val=9.01038, took 30.397 s\n",
      "  Validation Found 50127 of 54504, added 1301 (eff 91.97%) (0.13 FP/event)\n"
     ]
    },
    {
     "data": {
      "application/vnd.jupyter.widget-view+json": {
       "model_id": "",
       "version_major": 2,
       "version_minor": 0
      },
      "text/plain": [
       "HBox(children=(FloatProgress(value=0.0, description='Training', layout=Layout(flex='2'), max=1250.0, style=Pro…"
      ]
     },
     "metadata": {},
     "output_type": "display_data"
    },
    {
     "name": "stdout",
     "output_type": "stream",
     "text": [
      "Epoch 226: train=9.07449, val=8.8608, took 30.22 s\n",
      "  Validation Found 50169 of 54504, added 1287 (eff 92.05%) (0.129 FP/event)\n"
     ]
    },
    {
     "data": {
      "application/vnd.jupyter.widget-view+json": {
       "model_id": "",
       "version_major": 2,
       "version_minor": 0
      },
      "text/plain": [
       "HBox(children=(FloatProgress(value=0.0, description='Training', layout=Layout(flex='2'), max=1250.0, style=Pro…"
      ]
     },
     "metadata": {},
     "output_type": "display_data"
    },
    {
     "name": "stdout",
     "output_type": "stream",
     "text": [
      "Epoch 227: train=9.06065, val=8.84507, took 29.793 s\n",
      "  Validation Found 50295 of 54504, added 1308 (eff 92.28%) (0.131 FP/event)\n"
     ]
    },
    {
     "data": {
      "application/vnd.jupyter.widget-view+json": {
       "model_id": "",
       "version_major": 2,
       "version_minor": 0
      },
      "text/plain": [
       "HBox(children=(FloatProgress(value=0.0, description='Training', layout=Layout(flex='2'), max=1250.0, style=Pro…"
      ]
     },
     "metadata": {},
     "output_type": "display_data"
    },
    {
     "name": "stdout",
     "output_type": "stream",
     "text": [
      "Epoch 228: train=9.06116, val=8.97268, took 30.145 s\n",
      "  Validation Found 50257 of 54504, added 1440 (eff 92.21%) (0.144 FP/event)\n"
     ]
    },
    {
     "data": {
      "application/vnd.jupyter.widget-view+json": {
       "model_id": "",
       "version_major": 2,
       "version_minor": 0
      },
      "text/plain": [
       "HBox(children=(FloatProgress(value=0.0, description='Training', layout=Layout(flex='2'), max=1250.0, style=Pro…"
      ]
     },
     "metadata": {},
     "output_type": "display_data"
    },
    {
     "name": "stdout",
     "output_type": "stream",
     "text": [
      "Epoch 229: train=9.04947, val=8.84867, took 29.832 s\n",
      "  Validation Found 50183 of 54504, added 1270 (eff 92.07%) (0.127 FP/event)\n"
     ]
    },
    {
     "data": {
      "application/vnd.jupyter.widget-view+json": {
       "model_id": "",
       "version_major": 2,
       "version_minor": 0
      },
      "text/plain": [
       "HBox(children=(FloatProgress(value=0.0, description='Training', layout=Layout(flex='2'), max=1250.0, style=Pro…"
      ]
     },
     "metadata": {},
     "output_type": "display_data"
    },
    {
     "name": "stdout",
     "output_type": "stream",
     "text": [
      "Epoch 230: train=9.04983, val=8.84645, took 29.83 s\n",
      "  Validation Found 50184 of 54504, added 1278 (eff 92.07%) (0.128 FP/event)\n"
     ]
    },
    {
     "data": {
      "application/vnd.jupyter.widget-view+json": {
       "model_id": "",
       "version_major": 2,
       "version_minor": 0
      },
      "text/plain": [
       "HBox(children=(FloatProgress(value=0.0, description='Training', layout=Layout(flex='2'), max=1250.0, style=Pro…"
      ]
     },
     "metadata": {},
     "output_type": "display_data"
    },
    {
     "name": "stdout",
     "output_type": "stream",
     "text": [
      "Epoch 231: train=9.04712, val=8.91073, took 30.26 s\n",
      "  Validation Found 49926 of 54504, added 1071 (eff 91.60%) (0.107 FP/event)\n"
     ]
    },
    {
     "data": {
      "application/vnd.jupyter.widget-view+json": {
       "model_id": "",
       "version_major": 2,
       "version_minor": 0
      },
      "text/plain": [
       "HBox(children=(FloatProgress(value=0.0, description='Training', layout=Layout(flex='2'), max=1250.0, style=Pro…"
      ]
     },
     "metadata": {},
     "output_type": "display_data"
    },
    {
     "name": "stdout",
     "output_type": "stream",
     "text": [
      "Epoch 232: train=9.04168, val=8.85074, took 29.837 s\n",
      "  Validation Found 50392 of 54504, added 1458 (eff 92.46%) (0.146 FP/event)\n"
     ]
    },
    {
     "data": {
      "application/vnd.jupyter.widget-view+json": {
       "model_id": "",
       "version_major": 2,
       "version_minor": 0
      },
      "text/plain": [
       "HBox(children=(FloatProgress(value=0.0, description='Training', layout=Layout(flex='2'), max=1250.0, style=Pro…"
      ]
     },
     "metadata": {},
     "output_type": "display_data"
    },
    {
     "name": "stdout",
     "output_type": "stream",
     "text": [
      "Epoch 233: train=9.02783, val=8.81931, took 29.828 s\n",
      "  Validation Found 50352 of 54504, added 1409 (eff 92.38%) (0.141 FP/event)\n"
     ]
    },
    {
     "data": {
      "application/vnd.jupyter.widget-view+json": {
       "model_id": "",
       "version_major": 2,
       "version_minor": 0
      },
      "text/plain": [
       "HBox(children=(FloatProgress(value=0.0, description='Training', layout=Layout(flex='2'), max=1250.0, style=Pro…"
      ]
     },
     "metadata": {},
     "output_type": "display_data"
    },
    {
     "name": "stdout",
     "output_type": "stream",
     "text": [
      "Epoch 234: train=9.01305, val=8.77548, took 29.941 s\n",
      "  Validation Found 50412 of 54504, added 1529 (eff 92.49%) (0.153 FP/event)\n"
     ]
    },
    {
     "data": {
      "application/vnd.jupyter.widget-view+json": {
       "model_id": "",
       "version_major": 2,
       "version_minor": 0
      },
      "text/plain": [
       "HBox(children=(FloatProgress(value=0.0, description='Training', layout=Layout(flex='2'), max=1250.0, style=Pro…"
      ]
     },
     "metadata": {},
     "output_type": "display_data"
    },
    {
     "name": "stdout",
     "output_type": "stream",
     "text": [
      "Epoch 235: train=8.99969, val=8.94504, took 29.741 s\n",
      "  Validation Found 50452 of 54504, added 1744 (eff 92.57%) (0.175 FP/event)\n"
     ]
    },
    {
     "data": {
      "application/vnd.jupyter.widget-view+json": {
       "model_id": "",
       "version_major": 2,
       "version_minor": 0
      },
      "text/plain": [
       "HBox(children=(FloatProgress(value=0.0, description='Training', layout=Layout(flex='2'), max=1250.0, style=Pro…"
      ]
     },
     "metadata": {},
     "output_type": "display_data"
    },
    {
     "name": "stdout",
     "output_type": "stream",
     "text": [
      "Epoch 236: train=8.94997, val=8.82369, took 29.721 s\n",
      "  Validation Found 50334 of 54504, added 1499 (eff 92.35%) (0.15 FP/event)\n"
     ]
    },
    {
     "data": {
      "application/vnd.jupyter.widget-view+json": {
       "model_id": "",
       "version_major": 2,
       "version_minor": 0
      },
      "text/plain": [
       "HBox(children=(FloatProgress(value=0.0, description='Training', layout=Layout(flex='2'), max=1250.0, style=Pro…"
      ]
     },
     "metadata": {},
     "output_type": "display_data"
    },
    {
     "name": "stdout",
     "output_type": "stream",
     "text": [
      "Epoch 237: train=8.92339, val=8.84778, took 29.88 s\n",
      "  Validation Found 50483 of 54504, added 1729 (eff 92.62%) (0.173 FP/event)\n"
     ]
    },
    {
     "data": {
      "application/vnd.jupyter.widget-view+json": {
       "model_id": "",
       "version_major": 2,
       "version_minor": 0
      },
      "text/plain": [
       "HBox(children=(FloatProgress(value=0.0, description='Training', layout=Layout(flex='2'), max=1250.0, style=Pro…"
      ]
     },
     "metadata": {},
     "output_type": "display_data"
    },
    {
     "name": "stdout",
     "output_type": "stream",
     "text": [
      "Epoch 238: train=8.90028, val=8.819, took 29.837 s\n",
      "  Validation Found 50257 of 54504, added 1346 (eff 92.21%) (0.135 FP/event)\n"
     ]
    },
    {
     "data": {
      "application/vnd.jupyter.widget-view+json": {
       "model_id": "",
       "version_major": 2,
       "version_minor": 0
      },
      "text/plain": [
       "HBox(children=(FloatProgress(value=0.0, description='Training', layout=Layout(flex='2'), max=1250.0, style=Pro…"
      ]
     },
     "metadata": {},
     "output_type": "display_data"
    },
    {
     "name": "stdout",
     "output_type": "stream",
     "text": [
      "Epoch 239: train=8.86569, val=8.73493, took 29.896 s\n",
      "  Validation Found 50668 of 54504, added 1964 (eff 92.96%) (0.197 FP/event)\n"
     ]
    },
    {
     "data": {
      "application/vnd.jupyter.widget-view+json": {
       "model_id": "",
       "version_major": 2,
       "version_minor": 0
      },
      "text/plain": [
       "HBox(children=(FloatProgress(value=0.0, description='Training', layout=Layout(flex='2'), max=1250.0, style=Pro…"
      ]
     },
     "metadata": {},
     "output_type": "display_data"
    },
    {
     "name": "stdout",
     "output_type": "stream",
     "text": [
      "Epoch 240: train=8.84977, val=8.84935, took 29.977 s\n",
      "  Validation Found 50360 of 54504, added 1526 (eff 92.40%) (0.153 FP/event)\n"
     ]
    },
    {
     "data": {
      "application/vnd.jupyter.widget-view+json": {
       "model_id": "",
       "version_major": 2,
       "version_minor": 0
      },
      "text/plain": [
       "HBox(children=(FloatProgress(value=0.0, description='Training', layout=Layout(flex='2'), max=1250.0, style=Pro…"
      ]
     },
     "metadata": {},
     "output_type": "display_data"
    },
    {
     "name": "stdout",
     "output_type": "stream",
     "text": [
      "Epoch 241: train=8.82903, val=8.80455, took 29.597 s\n",
      "  Validation Found 50313 of 54504, added 1426 (eff 92.31%) (0.143 FP/event)\n"
     ]
    },
    {
     "data": {
      "application/vnd.jupyter.widget-view+json": {
       "model_id": "",
       "version_major": 2,
       "version_minor": 0
      },
      "text/plain": [
       "HBox(children=(FloatProgress(value=0.0, description='Training', layout=Layout(flex='2'), max=1250.0, style=Pro…"
      ]
     },
     "metadata": {},
     "output_type": "display_data"
    },
    {
     "name": "stdout",
     "output_type": "stream",
     "text": [
      "Epoch 242: train=8.80799, val=8.95142, took 29.937 s\n",
      "  Validation Found 49946 of 54504, added 1201 (eff 91.64%) (0.12 FP/event)\n"
     ]
    },
    {
     "data": {
      "application/vnd.jupyter.widget-view+json": {
       "model_id": "",
       "version_major": 2,
       "version_minor": 0
      },
      "text/plain": [
       "HBox(children=(FloatProgress(value=0.0, description='Training', layout=Layout(flex='2'), max=1250.0, style=Pro…"
      ]
     },
     "metadata": {},
     "output_type": "display_data"
    },
    {
     "name": "stdout",
     "output_type": "stream",
     "text": [
      "Epoch 243: train=8.80463, val=8.75686, took 30.056 s\n",
      "  Validation Found 50545 of 54504, added 1724 (eff 92.74%) (0.173 FP/event)\n"
     ]
    },
    {
     "data": {
      "application/vnd.jupyter.widget-view+json": {
       "model_id": "",
       "version_major": 2,
       "version_minor": 0
      },
      "text/plain": [
       "HBox(children=(FloatProgress(value=0.0, description='Training', layout=Layout(flex='2'), max=1250.0, style=Pro…"
      ]
     },
     "metadata": {},
     "output_type": "display_data"
    },
    {
     "name": "stdout",
     "output_type": "stream",
     "text": [
      "Epoch 244: train=8.78201, val=8.78755, took 29.963 s\n",
      "  Validation Found 50554 of 54504, added 1695 (eff 92.75%) (0.17 FP/event)\n"
     ]
    },
    {
     "data": {
      "application/vnd.jupyter.widget-view+json": {
       "model_id": "",
       "version_major": 2,
       "version_minor": 0
      },
      "text/plain": [
       "HBox(children=(FloatProgress(value=0.0, description='Training', layout=Layout(flex='2'), max=1250.0, style=Pro…"
      ]
     },
     "metadata": {},
     "output_type": "display_data"
    },
    {
     "name": "stdout",
     "output_type": "stream",
     "text": [
      "Epoch 245: train=8.78449, val=8.78991, took 29.914 s\n",
      "  Validation Found 50359 of 54504, added 1451 (eff 92.40%) (0.145 FP/event)\n"
     ]
    },
    {
     "data": {
      "application/vnd.jupyter.widget-view+json": {
       "model_id": "",
       "version_major": 2,
       "version_minor": 0
      },
      "text/plain": [
       "HBox(children=(FloatProgress(value=0.0, description='Training', layout=Layout(flex='2'), max=1250.0, style=Pro…"
      ]
     },
     "metadata": {},
     "output_type": "display_data"
    },
    {
     "name": "stdout",
     "output_type": "stream",
     "text": [
      "Epoch 246: train=8.76753, val=8.77288, took 29.705 s\n",
      "  Validation Found 50423 of 54504, added 1537 (eff 92.51%) (0.154 FP/event)\n"
     ]
    },
    {
     "data": {
      "application/vnd.jupyter.widget-view+json": {
       "model_id": "",
       "version_major": 2,
       "version_minor": 0
      },
      "text/plain": [
       "HBox(children=(FloatProgress(value=0.0, description='Training', layout=Layout(flex='2'), max=1250.0, style=Pro…"
      ]
     },
     "metadata": {},
     "output_type": "display_data"
    },
    {
     "name": "stdout",
     "output_type": "stream",
     "text": [
      "Epoch 247: train=8.75566, val=8.83864, took 29.686 s\n",
      "  Validation Found 50214 of 54504, added 1361 (eff 92.13%) (0.136 FP/event)\n"
     ]
    },
    {
     "data": {
      "application/vnd.jupyter.widget-view+json": {
       "model_id": "",
       "version_major": 2,
       "version_minor": 0
      },
      "text/plain": [
       "HBox(children=(FloatProgress(value=0.0, description='Training', layout=Layout(flex='2'), max=1250.0, style=Pro…"
      ]
     },
     "metadata": {},
     "output_type": "display_data"
    },
    {
     "name": "stdout",
     "output_type": "stream",
     "text": [
      "Epoch 248: train=8.77359, val=8.80994, took 29.733 s\n",
      "  Validation Found 50410 of 54504, added 1526 (eff 92.49%) (0.153 FP/event)\n"
     ]
    },
    {
     "data": {
      "application/vnd.jupyter.widget-view+json": {
       "model_id": "",
       "version_major": 2,
       "version_minor": 0
      },
      "text/plain": [
       "HBox(children=(FloatProgress(value=0.0, description='Training', layout=Layout(flex='2'), max=1250.0, style=Pro…"
      ]
     },
     "metadata": {},
     "output_type": "display_data"
    },
    {
     "name": "stdout",
     "output_type": "stream",
     "text": [
      "Epoch 249: train=8.74787, val=8.70352, took 29.823 s\n",
      "  Validation Found 50537 of 54504, added 1689 (eff 92.72%) (0.169 FP/event)\n"
     ]
    },
    {
     "data": {
      "application/vnd.jupyter.widget-view+json": {
       "model_id": "",
       "version_major": 2,
       "version_minor": 0
      },
      "text/plain": [
       "HBox(children=(FloatProgress(value=0.0, description='Training', layout=Layout(flex='2'), max=1250.0, style=Pro…"
      ]
     },
     "metadata": {},
     "output_type": "display_data"
    },
    {
     "name": "stdout",
     "output_type": "stream",
     "text": [
      "Epoch 250: train=8.73444, val=8.7429, took 29.753 s\n",
      "  Validation Found 50369 of 54504, added 1479 (eff 92.41%) (0.148 FP/event)\n"
     ]
    },
    {
     "data": {
      "application/vnd.jupyter.widget-view+json": {
       "model_id": "",
       "version_major": 2,
       "version_minor": 0
      },
      "text/plain": [
       "HBox(children=(FloatProgress(value=0.0, description='Training', layout=Layout(flex='2'), max=1250.0, style=Pro…"
      ]
     },
     "metadata": {},
     "output_type": "display_data"
    },
    {
     "name": "stdout",
     "output_type": "stream",
     "text": [
      "Epoch 251: train=8.74319, val=8.8799, took 30.152 s\n",
      "  Validation Found 50163 of 54504, added 1303 (eff 92.04%) (0.13 FP/event)\n"
     ]
    },
    {
     "data": {
      "application/vnd.jupyter.widget-view+json": {
       "model_id": "",
       "version_major": 2,
       "version_minor": 0
      },
      "text/plain": [
       "HBox(children=(FloatProgress(value=0.0, description='Training', layout=Layout(flex='2'), max=1250.0, style=Pro…"
      ]
     },
     "metadata": {},
     "output_type": "display_data"
    },
    {
     "name": "stdout",
     "output_type": "stream",
     "text": [
      "Epoch 252: train=8.7343, val=8.6475, took 29.775 s\n",
      "  Validation Found 50618 of 54504, added 1807 (eff 92.87%) (0.181 FP/event)\n"
     ]
    },
    {
     "data": {
      "application/vnd.jupyter.widget-view+json": {
       "model_id": "",
       "version_major": 2,
       "version_minor": 0
      },
      "text/plain": [
       "HBox(children=(FloatProgress(value=0.0, description='Training', layout=Layout(flex='2'), max=1250.0, style=Pro…"
      ]
     },
     "metadata": {},
     "output_type": "display_data"
    },
    {
     "name": "stdout",
     "output_type": "stream",
     "text": [
      "Epoch 253: train=8.73305, val=8.83374, took 29.813 s\n",
      "  Validation Found 50464 of 54504, added 1722 (eff 92.59%) (0.172 FP/event)\n"
     ]
    },
    {
     "data": {
      "application/vnd.jupyter.widget-view+json": {
       "model_id": "",
       "version_major": 2,
       "version_minor": 0
      },
      "text/plain": [
       "HBox(children=(FloatProgress(value=0.0, description='Training', layout=Layout(flex='2'), max=1250.0, style=Pro…"
      ]
     },
     "metadata": {},
     "output_type": "display_data"
    },
    {
     "name": "stdout",
     "output_type": "stream",
     "text": [
      "Epoch 254: train=8.71605, val=8.72878, took 29.768 s\n",
      "  Validation Found 50672 of 54504, added 1732 (eff 92.97%) (0.173 FP/event)\n"
     ]
    },
    {
     "data": {
      "application/vnd.jupyter.widget-view+json": {
       "model_id": "",
       "version_major": 2,
       "version_minor": 0
      },
      "text/plain": [
       "HBox(children=(FloatProgress(value=0.0, description='Training', layout=Layout(flex='2'), max=1250.0, style=Pro…"
      ]
     },
     "metadata": {},
     "output_type": "display_data"
    },
    {
     "name": "stdout",
     "output_type": "stream",
     "text": [
      "Epoch 255: train=8.71261, val=8.79283, took 29.664 s\n",
      "  Validation Found 50326 of 54504, added 1443 (eff 92.33%) (0.145 FP/event)\n"
     ]
    },
    {
     "data": {
      "application/vnd.jupyter.widget-view+json": {
       "model_id": "",
       "version_major": 2,
       "version_minor": 0
      },
      "text/plain": [
       "HBox(children=(FloatProgress(value=0.0, description='Training', layout=Layout(flex='2'), max=1250.0, style=Pro…"
      ]
     },
     "metadata": {},
     "output_type": "display_data"
    },
    {
     "name": "stdout",
     "output_type": "stream",
     "text": [
      "Epoch 256: train=8.71077, val=8.66649, took 29.674 s\n",
      "  Validation Found 50586 of 54504, added 1737 (eff 92.81%) (0.174 FP/event)\n"
     ]
    },
    {
     "data": {
      "application/vnd.jupyter.widget-view+json": {
       "model_id": "",
       "version_major": 2,
       "version_minor": 0
      },
      "text/plain": [
       "HBox(children=(FloatProgress(value=0.0, description='Training', layout=Layout(flex='2'), max=1250.0, style=Pro…"
      ]
     },
     "metadata": {},
     "output_type": "display_data"
    },
    {
     "name": "stdout",
     "output_type": "stream",
     "text": [
      "Epoch 257: train=8.74062, val=8.68983, took 29.869 s\n",
      "  Validation Found 50660 of 54504, added 1919 (eff 92.95%) (0.192 FP/event)\n"
     ]
    },
    {
     "data": {
      "application/vnd.jupyter.widget-view+json": {
       "model_id": "",
       "version_major": 2,
       "version_minor": 0
      },
      "text/plain": [
       "HBox(children=(FloatProgress(value=0.0, description='Training', layout=Layout(flex='2'), max=1250.0, style=Pro…"
      ]
     },
     "metadata": {},
     "output_type": "display_data"
    },
    {
     "name": "stdout",
     "output_type": "stream",
     "text": [
      "Epoch 258: train=8.70194, val=8.61383, took 29.673 s\n",
      "  Validation Found 50633 of 54504, added 1819 (eff 92.90%) (0.182 FP/event)\n"
     ]
    },
    {
     "data": {
      "application/vnd.jupyter.widget-view+json": {
       "model_id": "",
       "version_major": 2,
       "version_minor": 0
      },
      "text/plain": [
       "HBox(children=(FloatProgress(value=0.0, description='Training', layout=Layout(flex='2'), max=1250.0, style=Pro…"
      ]
     },
     "metadata": {},
     "output_type": "display_data"
    },
    {
     "name": "stdout",
     "output_type": "stream",
     "text": [
      "Epoch 259: train=8.70009, val=8.65142, took 29.599 s\n",
      "  Validation Found 50910 of 54504, added 2379 (eff 93.41%) (0.238 FP/event)\n"
     ]
    },
    {
     "data": {
      "application/vnd.jupyter.widget-view+json": {
       "model_id": "",
       "version_major": 2,
       "version_minor": 0
      },
      "text/plain": [
       "HBox(children=(FloatProgress(value=0.0, description='Training', layout=Layout(flex='2'), max=1250.0, style=Pro…"
      ]
     },
     "metadata": {},
     "output_type": "display_data"
    },
    {
     "name": "stdout",
     "output_type": "stream",
     "text": [
      "Epoch 260: train=8.70371, val=8.64919, took 29.627 s\n",
      "  Validation Found 50689 of 54504, added 1788 (eff 93.00%) (0.179 FP/event)\n"
     ]
    },
    {
     "data": {
      "application/vnd.jupyter.widget-view+json": {
       "model_id": "",
       "version_major": 2,
       "version_minor": 0
      },
      "text/plain": [
       "HBox(children=(FloatProgress(value=0.0, description='Training', layout=Layout(flex='2'), max=1250.0, style=Pro…"
      ]
     },
     "metadata": {},
     "output_type": "display_data"
    },
    {
     "name": "stdout",
     "output_type": "stream",
     "text": [
      "Epoch 261: train=8.68503, val=8.63271, took 29.627 s\n",
      "  Validation Found 50662 of 54504, added 1874 (eff 92.95%) (0.188 FP/event)\n"
     ]
    },
    {
     "data": {
      "application/vnd.jupyter.widget-view+json": {
       "model_id": "",
       "version_major": 2,
       "version_minor": 0
      },
      "text/plain": [
       "HBox(children=(FloatProgress(value=0.0, description='Training', layout=Layout(flex='2'), max=1250.0, style=Pro…"
      ]
     },
     "metadata": {},
     "output_type": "display_data"
    },
    {
     "name": "stdout",
     "output_type": "stream",
     "text": [
      "Epoch 262: train=8.69698, val=8.65742, took 29.699 s\n",
      "  Validation Found 50806 of 54504, added 2078 (eff 93.22%) (0.208 FP/event)\n"
     ]
    },
    {
     "data": {
      "application/vnd.jupyter.widget-view+json": {
       "model_id": "",
       "version_major": 2,
       "version_minor": 0
      },
      "text/plain": [
       "HBox(children=(FloatProgress(value=0.0, description='Training', layout=Layout(flex='2'), max=1250.0, style=Pro…"
      ]
     },
     "metadata": {},
     "output_type": "display_data"
    },
    {
     "name": "stdout",
     "output_type": "stream",
     "text": [
      "Epoch 263: train=8.69279, val=8.71163, took 29.697 s\n",
      "  Validation Found 50448 of 54504, added 1504 (eff 92.56%) (0.151 FP/event)\n"
     ]
    },
    {
     "data": {
      "application/vnd.jupyter.widget-view+json": {
       "model_id": "",
       "version_major": 2,
       "version_minor": 0
      },
      "text/plain": [
       "HBox(children=(FloatProgress(value=0.0, description='Training', layout=Layout(flex='2'), max=1250.0, style=Pro…"
      ]
     },
     "metadata": {},
     "output_type": "display_data"
    },
    {
     "name": "stdout",
     "output_type": "stream",
     "text": [
      "Epoch 264: train=8.68409, val=8.61283, took 29.662 s\n",
      "  Validation Found 50613 of 54504, added 1749 (eff 92.86%) (0.175 FP/event)\n"
     ]
    },
    {
     "data": {
      "application/vnd.jupyter.widget-view+json": {
       "model_id": "",
       "version_major": 2,
       "version_minor": 0
      },
      "text/plain": [
       "HBox(children=(FloatProgress(value=0.0, description='Training', layout=Layout(flex='2'), max=1250.0, style=Pro…"
      ]
     },
     "metadata": {},
     "output_type": "display_data"
    },
    {
     "name": "stdout",
     "output_type": "stream",
     "text": [
      "Epoch 265: train=8.67916, val=8.64311, took 29.602 s\n",
      "  Validation Found 50588 of 54504, added 1752 (eff 92.82%) (0.175 FP/event)\n"
     ]
    },
    {
     "data": {
      "application/vnd.jupyter.widget-view+json": {
       "model_id": "",
       "version_major": 2,
       "version_minor": 0
      },
      "text/plain": [
       "HBox(children=(FloatProgress(value=0.0, description='Training', layout=Layout(flex='2'), max=1250.0, style=Pro…"
      ]
     },
     "metadata": {},
     "output_type": "display_data"
    },
    {
     "name": "stdout",
     "output_type": "stream",
     "text": [
      "Epoch 266: train=8.67972, val=8.86762, took 29.605 s\n",
      "  Validation Found 50195 of 54504, added 1270 (eff 92.09%) (0.127 FP/event)\n"
     ]
    },
    {
     "data": {
      "application/vnd.jupyter.widget-view+json": {
       "model_id": "",
       "version_major": 2,
       "version_minor": 0
      },
      "text/plain": [
       "HBox(children=(FloatProgress(value=0.0, description='Training', layout=Layout(flex='2'), max=1250.0, style=Pro…"
      ]
     },
     "metadata": {},
     "output_type": "display_data"
    },
    {
     "name": "stdout",
     "output_type": "stream",
     "text": [
      "Epoch 267: train=8.66861, val=8.703, took 29.695 s\n",
      "  Validation Found 50585 of 54504, added 1841 (eff 92.81%) (0.184 FP/event)\n"
     ]
    },
    {
     "data": {
      "application/vnd.jupyter.widget-view+json": {
       "model_id": "",
       "version_major": 2,
       "version_minor": 0
      },
      "text/plain": [
       "HBox(children=(FloatProgress(value=0.0, description='Training', layout=Layout(flex='2'), max=1250.0, style=Pro…"
      ]
     },
     "metadata": {},
     "output_type": "display_data"
    },
    {
     "name": "stdout",
     "output_type": "stream",
     "text": [
      "Epoch 268: train=8.6686, val=8.78012, took 29.88 s\n",
      "  Validation Found 50358 of 54504, added 1459 (eff 92.39%) (0.146 FP/event)\n"
     ]
    },
    {
     "data": {
      "application/vnd.jupyter.widget-view+json": {
       "model_id": "",
       "version_major": 2,
       "version_minor": 0
      },
      "text/plain": [
       "HBox(children=(FloatProgress(value=0.0, description='Training', layout=Layout(flex='2'), max=1250.0, style=Pro…"
      ]
     },
     "metadata": {},
     "output_type": "display_data"
    },
    {
     "name": "stdout",
     "output_type": "stream",
     "text": [
      "Epoch 269: train=8.67692, val=8.62154, took 29.938 s\n",
      "  Validation Found 50550 of 54504, added 1768 (eff 92.75%) (0.177 FP/event)\n"
     ]
    },
    {
     "data": {
      "application/vnd.jupyter.widget-view+json": {
       "model_id": "",
       "version_major": 2,
       "version_minor": 0
      },
      "text/plain": [
       "HBox(children=(FloatProgress(value=0.0, description='Training', layout=Layout(flex='2'), max=1250.0, style=Pro…"
      ]
     },
     "metadata": {},
     "output_type": "display_data"
    },
    {
     "name": "stdout",
     "output_type": "stream",
     "text": [
      "Epoch 270: train=8.6814, val=8.79353, took 29.788 s\n",
      "  Validation Found 50411 of 54504, added 1479 (eff 92.49%) (0.148 FP/event)\n"
     ]
    },
    {
     "data": {
      "application/vnd.jupyter.widget-view+json": {
       "model_id": "",
       "version_major": 2,
       "version_minor": 0
      },
      "text/plain": [
       "HBox(children=(FloatProgress(value=0.0, description='Training', layout=Layout(flex='2'), max=1250.0, style=Pro…"
      ]
     },
     "metadata": {},
     "output_type": "display_data"
    },
    {
     "name": "stdout",
     "output_type": "stream",
     "text": [
      "Epoch 271: train=8.65659, val=8.58625, took 29.708 s\n",
      "  Validation Found 50878 of 54504, added 2118 (eff 93.35%) (0.212 FP/event)\n"
     ]
    },
    {
     "data": {
      "application/vnd.jupyter.widget-view+json": {
       "model_id": "",
       "version_major": 2,
       "version_minor": 0
      },
      "text/plain": [
       "HBox(children=(FloatProgress(value=0.0, description='Training', layout=Layout(flex='2'), max=1250.0, style=Pro…"
      ]
     },
     "metadata": {},
     "output_type": "display_data"
    },
    {
     "name": "stdout",
     "output_type": "stream",
     "text": [
      "Epoch 272: train=8.6499, val=8.60425, took 29.651 s\n",
      "  Validation Found 50882 of 54504, added 2265 (eff 93.35%) (0.227 FP/event)\n"
     ]
    },
    {
     "data": {
      "application/vnd.jupyter.widget-view+json": {
       "model_id": "",
       "version_major": 2,
       "version_minor": 0
      },
      "text/plain": [
       "HBox(children=(FloatProgress(value=0.0, description='Training', layout=Layout(flex='2'), max=1250.0, style=Pro…"
      ]
     },
     "metadata": {},
     "output_type": "display_data"
    },
    {
     "name": "stdout",
     "output_type": "stream",
     "text": [
      "Epoch 273: train=8.67125, val=8.73088, took 29.676 s\n",
      "  Validation Found 50461 of 54504, added 1559 (eff 92.58%) (0.156 FP/event)\n"
     ]
    },
    {
     "data": {
      "application/vnd.jupyter.widget-view+json": {
       "model_id": "",
       "version_major": 2,
       "version_minor": 0
      },
      "text/plain": [
       "HBox(children=(FloatProgress(value=0.0, description='Training', layout=Layout(flex='2'), max=1250.0, style=Pro…"
      ]
     },
     "metadata": {},
     "output_type": "display_data"
    },
    {
     "name": "stdout",
     "output_type": "stream",
     "text": [
      "Epoch 274: train=8.65278, val=8.65422, took 29.667 s\n",
      "  Validation Found 50632 of 54504, added 1739 (eff 92.90%) (0.174 FP/event)\n"
     ]
    },
    {
     "data": {
      "application/vnd.jupyter.widget-view+json": {
       "model_id": "",
       "version_major": 2,
       "version_minor": 0
      },
      "text/plain": [
       "HBox(children=(FloatProgress(value=0.0, description='Training', layout=Layout(flex='2'), max=1250.0, style=Pro…"
      ]
     },
     "metadata": {},
     "output_type": "display_data"
    },
    {
     "name": "stdout",
     "output_type": "stream",
     "text": [
      "Epoch 275: train=8.66226, val=8.58964, took 29.673 s\n",
      "  Validation Found 50802 of 54504, added 1945 (eff 93.21%) (0.195 FP/event)\n"
     ]
    },
    {
     "data": {
      "application/vnd.jupyter.widget-view+json": {
       "model_id": "",
       "version_major": 2,
       "version_minor": 0
      },
      "text/plain": [
       "HBox(children=(FloatProgress(value=0.0, description='Training', layout=Layout(flex='2'), max=1250.0, style=Pro…"
      ]
     },
     "metadata": {},
     "output_type": "display_data"
    },
    {
     "name": "stdout",
     "output_type": "stream",
     "text": [
      "Epoch 276: train=8.65106, val=8.71037, took 29.675 s\n",
      "  Validation Found 50479 of 54504, added 1554 (eff 92.62%) (0.156 FP/event)\n"
     ]
    },
    {
     "data": {
      "application/vnd.jupyter.widget-view+json": {
       "model_id": "",
       "version_major": 2,
       "version_minor": 0
      },
      "text/plain": [
       "HBox(children=(FloatProgress(value=0.0, description='Training', layout=Layout(flex='2'), max=1250.0, style=Pro…"
      ]
     },
     "metadata": {},
     "output_type": "display_data"
    },
    {
     "name": "stdout",
     "output_type": "stream",
     "text": [
      "Epoch 277: train=8.65047, val=8.66015, took 29.765 s\n",
      "  Validation Found 50762 of 54504, added 2145 (eff 93.13%) (0.215 FP/event)\n"
     ]
    },
    {
     "data": {
      "application/vnd.jupyter.widget-view+json": {
       "model_id": "",
       "version_major": 2,
       "version_minor": 0
      },
      "text/plain": [
       "HBox(children=(FloatProgress(value=0.0, description='Training', layout=Layout(flex='2'), max=1250.0, style=Pro…"
      ]
     },
     "metadata": {},
     "output_type": "display_data"
    },
    {
     "name": "stdout",
     "output_type": "stream",
     "text": [
      "Epoch 278: train=8.65258, val=8.58363, took 29.651 s\n",
      "  Validation Found 50834 of 54504, added 2059 (eff 93.27%) (0.206 FP/event)\n"
     ]
    },
    {
     "data": {
      "application/vnd.jupyter.widget-view+json": {
       "model_id": "",
       "version_major": 2,
       "version_minor": 0
      },
      "text/plain": [
       "HBox(children=(FloatProgress(value=0.0, description='Training', layout=Layout(flex='2'), max=1250.0, style=Pro…"
      ]
     },
     "metadata": {},
     "output_type": "display_data"
    },
    {
     "name": "stdout",
     "output_type": "stream",
     "text": [
      "Epoch 279: train=8.6494, val=8.75428, took 29.667 s\n",
      "  Validation Found 50515 of 54504, added 1607 (eff 92.68%) (0.161 FP/event)\n"
     ]
    },
    {
     "data": {
      "application/vnd.jupyter.widget-view+json": {
       "model_id": "",
       "version_major": 2,
       "version_minor": 0
      },
      "text/plain": [
       "HBox(children=(FloatProgress(value=0.0, description='Training', layout=Layout(flex='2'), max=1250.0, style=Pro…"
      ]
     },
     "metadata": {},
     "output_type": "display_data"
    },
    {
     "name": "stdout",
     "output_type": "stream",
     "text": [
      "Epoch 280: train=8.64507, val=8.62888, took 29.633 s\n",
      "  Validation Found 50592 of 54504, added 1687 (eff 92.82%) (0.169 FP/event)\n"
     ]
    },
    {
     "data": {
      "application/vnd.jupyter.widget-view+json": {
       "model_id": "",
       "version_major": 2,
       "version_minor": 0
      },
      "text/plain": [
       "HBox(children=(FloatProgress(value=0.0, description='Training', layout=Layout(flex='2'), max=1250.0, style=Pro…"
      ]
     },
     "metadata": {},
     "output_type": "display_data"
    },
    {
     "name": "stdout",
     "output_type": "stream",
     "text": [
      "Epoch 281: train=8.64967, val=8.74405, took 29.613 s\n",
      "  Validation Found 50355 of 54504, added 1442 (eff 92.39%) (0.144 FP/event)\n"
     ]
    },
    {
     "data": {
      "application/vnd.jupyter.widget-view+json": {
       "model_id": "",
       "version_major": 2,
       "version_minor": 0
      },
      "text/plain": [
       "HBox(children=(FloatProgress(value=0.0, description='Training', layout=Layout(flex='2'), max=1250.0, style=Pro…"
      ]
     },
     "metadata": {},
     "output_type": "display_data"
    },
    {
     "name": "stdout",
     "output_type": "stream",
     "text": [
      "Epoch 282: train=8.64829, val=8.7001, took 29.643 s\n",
      "  Validation Found 50599 of 54504, added 1756 (eff 92.84%) (0.176 FP/event)\n"
     ]
    },
    {
     "data": {
      "application/vnd.jupyter.widget-view+json": {
       "model_id": "",
       "version_major": 2,
       "version_minor": 0
      },
      "text/plain": [
       "HBox(children=(FloatProgress(value=0.0, description='Training', layout=Layout(flex='2'), max=1250.0, style=Pro…"
      ]
     },
     "metadata": {},
     "output_type": "display_data"
    },
    {
     "name": "stdout",
     "output_type": "stream",
     "text": [
      "Epoch 283: train=8.63769, val=8.7759, took 29.57 s\n",
      "  Validation Found 50507 of 54504, added 1589 (eff 92.67%) (0.159 FP/event)\n"
     ]
    },
    {
     "data": {
      "application/vnd.jupyter.widget-view+json": {
       "model_id": "",
       "version_major": 2,
       "version_minor": 0
      },
      "text/plain": [
       "HBox(children=(FloatProgress(value=0.0, description='Training', layout=Layout(flex='2'), max=1250.0, style=Pro…"
      ]
     },
     "metadata": {},
     "output_type": "display_data"
    },
    {
     "name": "stdout",
     "output_type": "stream",
     "text": [
      "Epoch 284: train=8.64819, val=8.65462, took 29.636 s\n",
      "  Validation Found 50654 of 54504, added 1786 (eff 92.94%) (0.179 FP/event)\n"
     ]
    },
    {
     "data": {
      "application/vnd.jupyter.widget-view+json": {
       "model_id": "",
       "version_major": 2,
       "version_minor": 0
      },
      "text/plain": [
       "HBox(children=(FloatProgress(value=0.0, description='Training', layout=Layout(flex='2'), max=1250.0, style=Pro…"
      ]
     },
     "metadata": {},
     "output_type": "display_data"
    },
    {
     "name": "stdout",
     "output_type": "stream",
     "text": [
      "Epoch 285: train=8.63815, val=8.65259, took 29.62 s\n",
      "  Validation Found 50599 of 54504, added 1677 (eff 92.84%) (0.168 FP/event)\n"
     ]
    },
    {
     "data": {
      "application/vnd.jupyter.widget-view+json": {
       "model_id": "",
       "version_major": 2,
       "version_minor": 0
      },
      "text/plain": [
       "HBox(children=(FloatProgress(value=0.0, description='Training', layout=Layout(flex='2'), max=1250.0, style=Pro…"
      ]
     },
     "metadata": {},
     "output_type": "display_data"
    },
    {
     "name": "stdout",
     "output_type": "stream",
     "text": [
      "Epoch 286: train=8.6435, val=8.52898, took 29.558 s\n",
      "  Validation Found 50875 of 54504, added 2064 (eff 93.34%) (0.207 FP/event)\n"
     ]
    },
    {
     "data": {
      "application/vnd.jupyter.widget-view+json": {
       "model_id": "",
       "version_major": 2,
       "version_minor": 0
      },
      "text/plain": [
       "HBox(children=(FloatProgress(value=0.0, description='Training', layout=Layout(flex='2'), max=1250.0, style=Pro…"
      ]
     },
     "metadata": {},
     "output_type": "display_data"
    },
    {
     "name": "stdout",
     "output_type": "stream",
     "text": [
      "Epoch 287: train=8.65707, val=8.79559, took 29.625 s\n",
      "  Validation Found 50420 of 54504, added 1614 (eff 92.51%) (0.162 FP/event)\n"
     ]
    },
    {
     "data": {
      "application/vnd.jupyter.widget-view+json": {
       "model_id": "",
       "version_major": 2,
       "version_minor": 0
      },
      "text/plain": [
       "HBox(children=(FloatProgress(value=0.0, description='Training', layout=Layout(flex='2'), max=1250.0, style=Pro…"
      ]
     },
     "metadata": {},
     "output_type": "display_data"
    },
    {
     "name": "stdout",
     "output_type": "stream",
     "text": [
      "Epoch 288: train=8.638, val=8.69542, took 29.727 s\n",
      "  Validation Found 50636 of 54504, added 1691 (eff 92.90%) (0.169 FP/event)\n"
     ]
    },
    {
     "data": {
      "application/vnd.jupyter.widget-view+json": {
       "model_id": "",
       "version_major": 2,
       "version_minor": 0
      },
      "text/plain": [
       "HBox(children=(FloatProgress(value=0.0, description='Training', layout=Layout(flex='2'), max=1250.0, style=Pro…"
      ]
     },
     "metadata": {},
     "output_type": "display_data"
    },
    {
     "name": "stdout",
     "output_type": "stream",
     "text": [
      "Epoch 289: train=8.63351, val=8.61909, took 29.653 s\n",
      "  Validation Found 50849 of 54504, added 2056 (eff 93.29%) (0.206 FP/event)\n"
     ]
    },
    {
     "data": {
      "application/vnd.jupyter.widget-view+json": {
       "model_id": "",
       "version_major": 2,
       "version_minor": 0
      },
      "text/plain": [
       "HBox(children=(FloatProgress(value=0.0, description='Training', layout=Layout(flex='2'), max=1250.0, style=Pro…"
      ]
     },
     "metadata": {},
     "output_type": "display_data"
    },
    {
     "name": "stdout",
     "output_type": "stream",
     "text": [
      "Epoch 290: train=8.62818, val=8.53794, took 29.635 s\n",
      "  Validation Found 50974 of 54504, added 2239 (eff 93.52%) (0.224 FP/event)\n"
     ]
    },
    {
     "data": {
      "application/vnd.jupyter.widget-view+json": {
       "model_id": "",
       "version_major": 2,
       "version_minor": 0
      },
      "text/plain": [
       "HBox(children=(FloatProgress(value=0.0, description='Training', layout=Layout(flex='2'), max=1250.0, style=Pro…"
      ]
     },
     "metadata": {},
     "output_type": "display_data"
    },
    {
     "name": "stdout",
     "output_type": "stream",
     "text": [
      "Epoch 291: train=8.64278, val=8.61584, took 29.501 s\n",
      "  Validation Found 50788 of 54504, added 1927 (eff 93.18%) (0.193 FP/event)\n"
     ]
    },
    {
     "data": {
      "application/vnd.jupyter.widget-view+json": {
       "model_id": "",
       "version_major": 2,
       "version_minor": 0
      },
      "text/plain": [
       "HBox(children=(FloatProgress(value=0.0, description='Training', layout=Layout(flex='2'), max=1250.0, style=Pro…"
      ]
     },
     "metadata": {},
     "output_type": "display_data"
    },
    {
     "name": "stdout",
     "output_type": "stream",
     "text": [
      "Epoch 292: train=8.63065, val=8.67068, took 29.63 s\n",
      "  Validation Found 50629 of 54504, added 1697 (eff 92.89%) (0.17 FP/event)\n"
     ]
    },
    {
     "data": {
      "application/vnd.jupyter.widget-view+json": {
       "model_id": "",
       "version_major": 2,
       "version_minor": 0
      },
      "text/plain": [
       "HBox(children=(FloatProgress(value=0.0, description='Training', layout=Layout(flex='2'), max=1250.0, style=Pro…"
      ]
     },
     "metadata": {},
     "output_type": "display_data"
    },
    {
     "name": "stdout",
     "output_type": "stream",
     "text": [
      "Epoch 293: train=8.62715, val=8.58515, took 29.618 s\n",
      "  Validation Found 50616 of 54504, added 1690 (eff 92.87%) (0.169 FP/event)\n"
     ]
    },
    {
     "data": {
      "application/vnd.jupyter.widget-view+json": {
       "model_id": "",
       "version_major": 2,
       "version_minor": 0
      },
      "text/plain": [
       "HBox(children=(FloatProgress(value=0.0, description='Training', layout=Layout(flex='2'), max=1250.0, style=Pro…"
      ]
     },
     "metadata": {},
     "output_type": "display_data"
    },
    {
     "name": "stdout",
     "output_type": "stream",
     "text": [
      "Epoch 294: train=8.63162, val=8.57593, took 29.646 s\n",
      "  Validation Found 50870 of 54504, added 2071 (eff 93.33%) (0.207 FP/event)\n"
     ]
    },
    {
     "data": {
      "application/vnd.jupyter.widget-view+json": {
       "model_id": "",
       "version_major": 2,
       "version_minor": 0
      },
      "text/plain": [
       "HBox(children=(FloatProgress(value=0.0, description='Training', layout=Layout(flex='2'), max=1250.0, style=Pro…"
      ]
     },
     "metadata": {},
     "output_type": "display_data"
    },
    {
     "name": "stdout",
     "output_type": "stream",
     "text": [
      "Epoch 295: train=8.62725, val=8.6227, took 29.641 s\n",
      "  Validation Found 51045 of 54504, added 2868 (eff 93.65%) (0.287 FP/event)\n"
     ]
    },
    {
     "data": {
      "application/vnd.jupyter.widget-view+json": {
       "model_id": "",
       "version_major": 2,
       "version_minor": 0
      },
      "text/plain": [
       "HBox(children=(FloatProgress(value=0.0, description='Training', layout=Layout(flex='2'), max=1250.0, style=Pro…"
      ]
     },
     "metadata": {},
     "output_type": "display_data"
    },
    {
     "name": "stdout",
     "output_type": "stream",
     "text": [
      "Epoch 296: train=8.62249, val=8.65668, took 29.727 s\n",
      "  Validation Found 50660 of 54504, added 1712 (eff 92.95%) (0.171 FP/event)\n"
     ]
    },
    {
     "data": {
      "application/vnd.jupyter.widget-view+json": {
       "model_id": "",
       "version_major": 2,
       "version_minor": 0
      },
      "text/plain": [
       "HBox(children=(FloatProgress(value=0.0, description='Training', layout=Layout(flex='2'), max=1250.0, style=Pro…"
      ]
     },
     "metadata": {},
     "output_type": "display_data"
    },
    {
     "name": "stdout",
     "output_type": "stream",
     "text": [
      "Epoch 297: train=8.62794, val=8.77702, took 29.681 s\n",
      "  Validation Found 50425 of 54504, added 1551 (eff 92.52%) (0.155 FP/event)\n"
     ]
    },
    {
     "data": {
      "application/vnd.jupyter.widget-view+json": {
       "model_id": "",
       "version_major": 2,
       "version_minor": 0
      },
      "text/plain": [
       "HBox(children=(FloatProgress(value=0.0, description='Training', layout=Layout(flex='2'), max=1250.0, style=Pro…"
      ]
     },
     "metadata": {},
     "output_type": "display_data"
    },
    {
     "name": "stdout",
     "output_type": "stream",
     "text": [
      "Epoch 298: train=8.63923, val=8.64979, took 29.602 s\n",
      "  Validation Found 50734 of 54504, added 1889 (eff 93.08%) (0.189 FP/event)\n"
     ]
    },
    {
     "data": {
      "application/vnd.jupyter.widget-view+json": {
       "model_id": "",
       "version_major": 2,
       "version_minor": 0
      },
      "text/plain": [
       "HBox(children=(FloatProgress(value=0.0, description='Training', layout=Layout(flex='2'), max=1250.0, style=Pro…"
      ]
     },
     "metadata": {},
     "output_type": "display_data"
    },
    {
     "name": "stdout",
     "output_type": "stream",
     "text": [
      "Epoch 299: train=8.6304, val=8.69552, took 29.607 s\n",
      "  Validation Found 50594 of 54504, added 1769 (eff 92.83%) (0.177 FP/event)\n"
     ]
    },
    {
     "data": {
      "application/vnd.jupyter.widget-view+json": {
       "model_id": "",
       "version_major": 2,
       "version_minor": 0
      },
      "text/plain": [
       "HBox(children=(FloatProgress(value=0.0, description='Training', layout=Layout(flex='2'), max=1250.0, style=Pro…"
      ]
     },
     "metadata": {},
     "output_type": "display_data"
    },
    {
     "name": "stdout",
     "output_type": "stream",
     "text": [
      "Epoch 300: train=8.63571, val=8.70525, took 29.595 s\n",
      "  Validation Found 50696 of 54504, added 1830 (eff 93.01%) (0.183 FP/event)\n"
     ]
    },
    {
     "data": {
      "application/vnd.jupyter.widget-view+json": {
       "model_id": "",
       "version_major": 2,
       "version_minor": 0
      },
      "text/plain": [
       "HBox(children=(FloatProgress(value=0.0, description='Training', layout=Layout(flex='2'), max=1250.0, style=Pro…"
      ]
     },
     "metadata": {},
     "output_type": "display_data"
    },
    {
     "name": "stdout",
     "output_type": "stream",
     "text": [
      "Epoch 301: train=8.6266, val=8.65975, took 29.592 s\n",
      "  Validation Found 50519 of 54504, added 1580 (eff 92.69%) (0.158 FP/event)\n"
     ]
    },
    {
     "data": {
      "application/vnd.jupyter.widget-view+json": {
       "model_id": "",
       "version_major": 2,
       "version_minor": 0
      },
      "text/plain": [
       "HBox(children=(FloatProgress(value=0.0, description='Training', layout=Layout(flex='2'), max=1250.0, style=Pro…"
      ]
     },
     "metadata": {},
     "output_type": "display_data"
    },
    {
     "name": "stdout",
     "output_type": "stream",
     "text": [
      "Epoch 302: train=8.63456, val=8.68372, took 29.61 s\n",
      "  Validation Found 50637 of 54504, added 1819 (eff 92.91%) (0.182 FP/event)\n"
     ]
    },
    {
     "data": {
      "application/vnd.jupyter.widget-view+json": {
       "model_id": "",
       "version_major": 2,
       "version_minor": 0
      },
      "text/plain": [
       "HBox(children=(FloatProgress(value=0.0, description='Training', layout=Layout(flex='2'), max=1250.0, style=Pro…"
      ]
     },
     "metadata": {},
     "output_type": "display_data"
    },
    {
     "name": "stdout",
     "output_type": "stream",
     "text": [
      "Epoch 303: train=8.61401, val=8.7288, took 29.546 s\n",
      "  Validation Found 50438 of 54504, added 1516 (eff 92.54%) (0.152 FP/event)\n"
     ]
    },
    {
     "data": {
      "application/vnd.jupyter.widget-view+json": {
       "model_id": "",
       "version_major": 2,
       "version_minor": 0
      },
      "text/plain": [
       "HBox(children=(FloatProgress(value=0.0, description='Training', layout=Layout(flex='2'), max=1250.0, style=Pro…"
      ]
     },
     "metadata": {},
     "output_type": "display_data"
    },
    {
     "name": "stdout",
     "output_type": "stream",
     "text": [
      "Epoch 304: train=8.6313, val=8.64539, took 29.481 s\n",
      "  Validation Found 50651 of 54504, added 1795 (eff 92.93%) (0.18 FP/event)\n"
     ]
    },
    {
     "data": {
      "application/vnd.jupyter.widget-view+json": {
       "model_id": "",
       "version_major": 2,
       "version_minor": 0
      },
      "text/plain": [
       "HBox(children=(FloatProgress(value=0.0, description='Training', layout=Layout(flex='2'), max=1250.0, style=Pro…"
      ]
     },
     "metadata": {},
     "output_type": "display_data"
    },
    {
     "name": "stdout",
     "output_type": "stream",
     "text": [
      "Epoch 305: train=8.62745, val=8.58368, took 29.482 s\n",
      "  Validation Found 50823 of 54504, added 1959 (eff 93.25%) (0.196 FP/event)\n"
     ]
    },
    {
     "data": {
      "application/vnd.jupyter.widget-view+json": {
       "model_id": "",
       "version_major": 2,
       "version_minor": 0
      },
      "text/plain": [
       "HBox(children=(FloatProgress(value=0.0, description='Training', layout=Layout(flex='2'), max=1250.0, style=Pro…"
      ]
     },
     "metadata": {},
     "output_type": "display_data"
    },
    {
     "name": "stdout",
     "output_type": "stream",
     "text": [
      "Epoch 306: train=8.61919, val=8.63321, took 29.637 s\n",
      "  Validation Found 50586 of 54504, added 1724 (eff 92.81%) (0.173 FP/event)\n"
     ]
    },
    {
     "data": {
      "application/vnd.jupyter.widget-view+json": {
       "model_id": "",
       "version_major": 2,
       "version_minor": 0
      },
      "text/plain": [
       "HBox(children=(FloatProgress(value=0.0, description='Training', layout=Layout(flex='2'), max=1250.0, style=Pro…"
      ]
     },
     "metadata": {},
     "output_type": "display_data"
    },
    {
     "name": "stdout",
     "output_type": "stream",
     "text": [
      "Epoch 307: train=8.62041, val=8.65205, took 29.646 s\n",
      "  Validation Found 50834 of 54504, added 2360 (eff 93.27%) (0.236 FP/event)\n"
     ]
    },
    {
     "data": {
      "application/vnd.jupyter.widget-view+json": {
       "model_id": "",
       "version_major": 2,
       "version_minor": 0
      },
      "text/plain": [
       "HBox(children=(FloatProgress(value=0.0, description='Training', layout=Layout(flex='2'), max=1250.0, style=Pro…"
      ]
     },
     "metadata": {},
     "output_type": "display_data"
    },
    {
     "name": "stdout",
     "output_type": "stream",
     "text": [
      "Epoch 308: train=8.62235, val=8.63516, took 29.566 s\n",
      "  Validation Found 50714 of 54504, added 1855 (eff 93.05%) (0.186 FP/event)\n"
     ]
    },
    {
     "data": {
      "application/vnd.jupyter.widget-view+json": {
       "model_id": "",
       "version_major": 2,
       "version_minor": 0
      },
      "text/plain": [
       "HBox(children=(FloatProgress(value=0.0, description='Training', layout=Layout(flex='2'), max=1250.0, style=Pro…"
      ]
     },
     "metadata": {},
     "output_type": "display_data"
    },
    {
     "name": "stdout",
     "output_type": "stream",
     "text": [
      "Epoch 309: train=8.61504, val=8.61044, took 29.611 s\n",
      "  Validation Found 50910 of 54504, added 2085 (eff 93.41%) (0.209 FP/event)\n"
     ]
    },
    {
     "data": {
      "application/vnd.jupyter.widget-view+json": {
       "model_id": "",
       "version_major": 2,
       "version_minor": 0
      },
      "text/plain": [
       "HBox(children=(FloatProgress(value=0.0, description='Training', layout=Layout(flex='2'), max=1250.0, style=Pro…"
      ]
     },
     "metadata": {},
     "output_type": "display_data"
    },
    {
     "name": "stdout",
     "output_type": "stream",
     "text": [
      "Epoch 310: train=8.61351, val=8.59832, took 29.517 s\n",
      "  Validation Found 50857 of 54504, added 2007 (eff 93.31%) (0.201 FP/event)\n"
     ]
    },
    {
     "data": {
      "application/vnd.jupyter.widget-view+json": {
       "model_id": "",
       "version_major": 2,
       "version_minor": 0
      },
      "text/plain": [
       "HBox(children=(FloatProgress(value=0.0, description='Training', layout=Layout(flex='2'), max=1250.0, style=Pro…"
      ]
     },
     "metadata": {},
     "output_type": "display_data"
    },
    {
     "name": "stdout",
     "output_type": "stream",
     "text": [
      "Epoch 311: train=8.62069, val=8.65269, took 29.551 s\n",
      "  Validation Found 50630 of 54504, added 1773 (eff 92.89%) (0.178 FP/event)\n"
     ]
    },
    {
     "data": {
      "application/vnd.jupyter.widget-view+json": {
       "model_id": "",
       "version_major": 2,
       "version_minor": 0
      },
      "text/plain": [
       "HBox(children=(FloatProgress(value=0.0, description='Training', layout=Layout(flex='2'), max=1250.0, style=Pro…"
      ]
     },
     "metadata": {},
     "output_type": "display_data"
    },
    {
     "name": "stdout",
     "output_type": "stream",
     "text": [
      "Epoch 312: train=8.62021, val=8.66596, took 29.616 s\n",
      "  Validation Found 50725 of 54504, added 1856 (eff 93.07%) (0.186 FP/event)\n"
     ]
    },
    {
     "data": {
      "application/vnd.jupyter.widget-view+json": {
       "model_id": "",
       "version_major": 2,
       "version_minor": 0
      },
      "text/plain": [
       "HBox(children=(FloatProgress(value=0.0, description='Training', layout=Layout(flex='2'), max=1250.0, style=Pro…"
      ]
     },
     "metadata": {},
     "output_type": "display_data"
    },
    {
     "name": "stdout",
     "output_type": "stream",
     "text": [
      "Epoch 313: train=8.60954, val=8.60861, took 29.574 s\n",
      "  Validation Found 50810 of 54504, added 1971 (eff 93.22%) (0.197 FP/event)\n"
     ]
    },
    {
     "data": {
      "application/vnd.jupyter.widget-view+json": {
       "model_id": "",
       "version_major": 2,
       "version_minor": 0
      },
      "text/plain": [
       "HBox(children=(FloatProgress(value=0.0, description='Training', layout=Layout(flex='2'), max=1250.0, style=Pro…"
      ]
     },
     "metadata": {},
     "output_type": "display_data"
    },
    {
     "name": "stdout",
     "output_type": "stream",
     "text": [
      "Epoch 314: train=8.60902, val=8.62048, took 29.57 s\n",
      "  Validation Found 50801 of 54504, added 1883 (eff 93.21%) (0.189 FP/event)\n"
     ]
    },
    {
     "data": {
      "application/vnd.jupyter.widget-view+json": {
       "model_id": "",
       "version_major": 2,
       "version_minor": 0
      },
      "text/plain": [
       "HBox(children=(FloatProgress(value=0.0, description='Training', layout=Layout(flex='2'), max=1250.0, style=Pro…"
      ]
     },
     "metadata": {},
     "output_type": "display_data"
    },
    {
     "name": "stdout",
     "output_type": "stream",
     "text": [
      "Epoch 315: train=8.61342, val=8.64142, took 29.719 s\n",
      "  Validation Found 50576 of 54504, added 1585 (eff 92.79%) (0.159 FP/event)\n"
     ]
    },
    {
     "data": {
      "application/vnd.jupyter.widget-view+json": {
       "model_id": "",
       "version_major": 2,
       "version_minor": 0
      },
      "text/plain": [
       "HBox(children=(FloatProgress(value=0.0, description='Training', layout=Layout(flex='2'), max=1250.0, style=Pro…"
      ]
     },
     "metadata": {},
     "output_type": "display_data"
    },
    {
     "name": "stdout",
     "output_type": "stream",
     "text": [
      "Epoch 316: train=8.61565, val=8.75866, took 29.682 s\n",
      "  Validation Found 50254 of 54504, added 1342 (eff 92.20%) (0.134 FP/event)\n"
     ]
    },
    {
     "data": {
      "application/vnd.jupyter.widget-view+json": {
       "model_id": "",
       "version_major": 2,
       "version_minor": 0
      },
      "text/plain": [
       "HBox(children=(FloatProgress(value=0.0, description='Training', layout=Layout(flex='2'), max=1250.0, style=Pro…"
      ]
     },
     "metadata": {},
     "output_type": "display_data"
    },
    {
     "name": "stdout",
     "output_type": "stream",
     "text": [
      "Epoch 317: train=8.61621, val=8.68943, took 29.681 s\n",
      "  Validation Found 50582 of 54504, added 1750 (eff 92.80%) (0.175 FP/event)\n"
     ]
    },
    {
     "data": {
      "application/vnd.jupyter.widget-view+json": {
       "model_id": "",
       "version_major": 2,
       "version_minor": 0
      },
      "text/plain": [
       "HBox(children=(FloatProgress(value=0.0, description='Training', layout=Layout(flex='2'), max=1250.0, style=Pro…"
      ]
     },
     "metadata": {},
     "output_type": "display_data"
    },
    {
     "name": "stdout",
     "output_type": "stream",
     "text": [
      "Epoch 318: train=8.6115, val=8.57658, took 29.573 s\n",
      "  Validation Found 50811 of 54504, added 1974 (eff 93.22%) (0.198 FP/event)\n"
     ]
    },
    {
     "data": {
      "application/vnd.jupyter.widget-view+json": {
       "model_id": "",
       "version_major": 2,
       "version_minor": 0
      },
      "text/plain": [
       "HBox(children=(FloatProgress(value=0.0, description='Training', layout=Layout(flex='2'), max=1250.0, style=Pro…"
      ]
     },
     "metadata": {},
     "output_type": "display_data"
    },
    {
     "name": "stdout",
     "output_type": "stream",
     "text": [
      "Epoch 319: train=8.61413, val=8.61355, took 29.553 s\n",
      "  Validation Found 50833 of 54504, added 1973 (eff 93.26%) (0.198 FP/event)\n"
     ]
    },
    {
     "data": {
      "application/vnd.jupyter.widget-view+json": {
       "model_id": "",
       "version_major": 2,
       "version_minor": 0
      },
      "text/plain": [
       "HBox(children=(FloatProgress(value=0.0, description='Training', layout=Layout(flex='2'), max=1250.0, style=Pro…"
      ]
     },
     "metadata": {},
     "output_type": "display_data"
    },
    {
     "name": "stdout",
     "output_type": "stream",
     "text": [
      "Epoch 320: train=8.60079, val=8.70287, took 29.663 s\n",
      "  Validation Found 50440 of 54504, added 1495 (eff 92.54%) (0.15 FP/event)\n"
     ]
    },
    {
     "data": {
      "application/vnd.jupyter.widget-view+json": {
       "model_id": "",
       "version_major": 2,
       "version_minor": 0
      },
      "text/plain": [
       "HBox(children=(FloatProgress(value=0.0, description='Training', layout=Layout(flex='2'), max=1250.0, style=Pro…"
      ]
     },
     "metadata": {},
     "output_type": "display_data"
    },
    {
     "name": "stdout",
     "output_type": "stream",
     "text": [
      "Epoch 321: train=8.61017, val=8.71142, took 29.645 s\n",
      "  Validation Found 50424 of 54504, added 1633 (eff 92.51%) (0.164 FP/event)\n"
     ]
    },
    {
     "data": {
      "application/vnd.jupyter.widget-view+json": {
       "model_id": "",
       "version_major": 2,
       "version_minor": 0
      },
      "text/plain": [
       "HBox(children=(FloatProgress(value=0.0, description='Training', layout=Layout(flex='2'), max=1250.0, style=Pro…"
      ]
     },
     "metadata": {},
     "output_type": "display_data"
    },
    {
     "name": "stdout",
     "output_type": "stream",
     "text": [
      "Epoch 322: train=8.62057, val=8.66268, took 29.87 s\n",
      "  Validation Found 50520 of 54504, added 1561 (eff 92.69%) (0.156 FP/event)\n"
     ]
    },
    {
     "data": {
      "application/vnd.jupyter.widget-view+json": {
       "model_id": "",
       "version_major": 2,
       "version_minor": 0
      },
      "text/plain": [
       "HBox(children=(FloatProgress(value=0.0, description='Training', layout=Layout(flex='2'), max=1250.0, style=Pro…"
      ]
     },
     "metadata": {},
     "output_type": "display_data"
    },
    {
     "name": "stdout",
     "output_type": "stream",
     "text": [
      "Epoch 323: train=8.60271, val=8.54236, took 29.663 s\n",
      "  Validation Found 50830 of 54504, added 2121 (eff 93.26%) (0.212 FP/event)\n"
     ]
    },
    {
     "data": {
      "application/vnd.jupyter.widget-view+json": {
       "model_id": "",
       "version_major": 2,
       "version_minor": 0
      },
      "text/plain": [
       "HBox(children=(FloatProgress(value=0.0, description='Training', layout=Layout(flex='2'), max=1250.0, style=Pro…"
      ]
     },
     "metadata": {},
     "output_type": "display_data"
    },
    {
     "name": "stdout",
     "output_type": "stream",
     "text": [
      "Epoch 324: train=8.60564, val=8.52031, took 29.618 s\n",
      "  Validation Found 51009 of 54504, added 2369 (eff 93.59%) (0.237 FP/event)\n"
     ]
    },
    {
     "data": {
      "application/vnd.jupyter.widget-view+json": {
       "model_id": "",
       "version_major": 2,
       "version_minor": 0
      },
      "text/plain": [
       "HBox(children=(FloatProgress(value=0.0, description='Training', layout=Layout(flex='2'), max=1250.0, style=Pro…"
      ]
     },
     "metadata": {},
     "output_type": "display_data"
    },
    {
     "name": "stdout",
     "output_type": "stream",
     "text": [
      "Epoch 325: train=8.60831, val=8.47713, took 30.005 s\n",
      "  Validation Found 51028 of 54504, added 2386 (eff 93.62%) (0.239 FP/event)\n"
     ]
    },
    {
     "data": {
      "application/vnd.jupyter.widget-view+json": {
       "model_id": "",
       "version_major": 2,
       "version_minor": 0
      },
      "text/plain": [
       "HBox(children=(FloatProgress(value=0.0, description='Training', layout=Layout(flex='2'), max=1250.0, style=Pro…"
      ]
     },
     "metadata": {},
     "output_type": "display_data"
    },
    {
     "name": "stdout",
     "output_type": "stream",
     "text": [
      "Epoch 326: train=8.60894, val=8.57218, took 29.859 s\n",
      "  Validation Found 50700 of 54504, added 1715 (eff 93.02%) (0.172 FP/event)\n"
     ]
    },
    {
     "data": {
      "application/vnd.jupyter.widget-view+json": {
       "model_id": "",
       "version_major": 2,
       "version_minor": 0
      },
      "text/plain": [
       "HBox(children=(FloatProgress(value=0.0, description='Training', layout=Layout(flex='2'), max=1250.0, style=Pro…"
      ]
     },
     "metadata": {},
     "output_type": "display_data"
    },
    {
     "name": "stdout",
     "output_type": "stream",
     "text": [
      "Epoch 327: train=8.60666, val=8.51521, took 29.604 s\n",
      "  Validation Found 50916 of 54504, added 2190 (eff 93.42%) (0.219 FP/event)\n"
     ]
    },
    {
     "data": {
      "application/vnd.jupyter.widget-view+json": {
       "model_id": "",
       "version_major": 2,
       "version_minor": 0
      },
      "text/plain": [
       "HBox(children=(FloatProgress(value=0.0, description='Training', layout=Layout(flex='2'), max=1250.0, style=Pro…"
      ]
     },
     "metadata": {},
     "output_type": "display_data"
    },
    {
     "name": "stdout",
     "output_type": "stream",
     "text": [
      "Epoch 328: train=8.59903, val=8.77089, took 29.569 s\n",
      "  Validation Found 50652 of 54504, added 1906 (eff 92.93%) (0.191 FP/event)\n"
     ]
    },
    {
     "data": {
      "application/vnd.jupyter.widget-view+json": {
       "model_id": "",
       "version_major": 2,
       "version_minor": 0
      },
      "text/plain": [
       "HBox(children=(FloatProgress(value=0.0, description='Training', layout=Layout(flex='2'), max=1250.0, style=Pro…"
      ]
     },
     "metadata": {},
     "output_type": "display_data"
    },
    {
     "name": "stdout",
     "output_type": "stream",
     "text": [
      "Epoch 329: train=8.59977, val=8.5836, took 29.502 s\n",
      "  Validation Found 50669 of 54504, added 1660 (eff 92.96%) (0.166 FP/event)\n"
     ]
    },
    {
     "data": {
      "application/vnd.jupyter.widget-view+json": {
       "model_id": "",
       "version_major": 2,
       "version_minor": 0
      },
      "text/plain": [
       "HBox(children=(FloatProgress(value=0.0, description='Training', layout=Layout(flex='2'), max=1250.0, style=Pro…"
      ]
     },
     "metadata": {},
     "output_type": "display_data"
    },
    {
     "name": "stdout",
     "output_type": "stream",
     "text": [
      "Epoch 330: train=8.58487, val=8.57009, took 29.703 s\n",
      "  Validation Found 50689 of 54504, added 1728 (eff 93.00%) (0.173 FP/event)\n"
     ]
    },
    {
     "data": {
      "application/vnd.jupyter.widget-view+json": {
       "model_id": "",
       "version_major": 2,
       "version_minor": 0
      },
      "text/plain": [
       "HBox(children=(FloatProgress(value=0.0, description='Training', layout=Layout(flex='2'), max=1250.0, style=Pro…"
      ]
     },
     "metadata": {},
     "output_type": "display_data"
    },
    {
     "name": "stdout",
     "output_type": "stream",
     "text": [
      "Epoch 331: train=8.60678, val=8.67701, took 29.64 s\n",
      "  Validation Found 50831 of 54504, added 2345 (eff 93.26%) (0.235 FP/event)\n"
     ]
    },
    {
     "data": {
      "application/vnd.jupyter.widget-view+json": {
       "model_id": "",
       "version_major": 2,
       "version_minor": 0
      },
      "text/plain": [
       "HBox(children=(FloatProgress(value=0.0, description='Training', layout=Layout(flex='2'), max=1250.0, style=Pro…"
      ]
     },
     "metadata": {},
     "output_type": "display_data"
    },
    {
     "name": "stdout",
     "output_type": "stream",
     "text": [
      "Epoch 332: train=8.58721, val=8.56197, took 29.645 s\n",
      "  Validation Found 50837 of 54504, added 1998 (eff 93.27%) (0.2 FP/event)\n"
     ]
    },
    {
     "data": {
      "application/vnd.jupyter.widget-view+json": {
       "model_id": "",
       "version_major": 2,
       "version_minor": 0
      },
      "text/plain": [
       "HBox(children=(FloatProgress(value=0.0, description='Training', layout=Layout(flex='2'), max=1250.0, style=Pro…"
      ]
     },
     "metadata": {},
     "output_type": "display_data"
    },
    {
     "name": "stdout",
     "output_type": "stream",
     "text": [
      "Epoch 333: train=8.60317, val=8.6941, took 29.641 s\n",
      "  Validation Found 50570 of 54504, added 1669 (eff 92.78%) (0.167 FP/event)\n"
     ]
    },
    {
     "data": {
      "application/vnd.jupyter.widget-view+json": {
       "model_id": "",
       "version_major": 2,
       "version_minor": 0
      },
      "text/plain": [
       "HBox(children=(FloatProgress(value=0.0, description='Training', layout=Layout(flex='2'), max=1250.0, style=Pro…"
      ]
     },
     "metadata": {},
     "output_type": "display_data"
    },
    {
     "name": "stdout",
     "output_type": "stream",
     "text": [
      "Epoch 334: train=8.6029, val=8.4803, took 29.665 s\n",
      "  Validation Found 50935 of 54504, added 2029 (eff 93.45%) (0.203 FP/event)\n"
     ]
    },
    {
     "data": {
      "application/vnd.jupyter.widget-view+json": {
       "model_id": "",
       "version_major": 2,
       "version_minor": 0
      },
      "text/plain": [
       "HBox(children=(FloatProgress(value=0.0, description='Training', layout=Layout(flex='2'), max=1250.0, style=Pro…"
      ]
     },
     "metadata": {},
     "output_type": "display_data"
    },
    {
     "name": "stdout",
     "output_type": "stream",
     "text": [
      "Epoch 335: train=8.59346, val=8.57536, took 29.805 s\n",
      "  Validation Found 50599 of 54504, added 1649 (eff 92.84%) (0.165 FP/event)\n"
     ]
    },
    {
     "data": {
      "application/vnd.jupyter.widget-view+json": {
       "model_id": "",
       "version_major": 2,
       "version_minor": 0
      },
      "text/plain": [
       "HBox(children=(FloatProgress(value=0.0, description='Training', layout=Layout(flex='2'), max=1250.0, style=Pro…"
      ]
     },
     "metadata": {},
     "output_type": "display_data"
    },
    {
     "name": "stdout",
     "output_type": "stream",
     "text": [
      "Epoch 336: train=8.58809, val=8.64655, took 29.793 s\n",
      "  Validation Found 50663 of 54504, added 1677 (eff 92.95%) (0.168 FP/event)\n"
     ]
    },
    {
     "data": {
      "application/vnd.jupyter.widget-view+json": {
       "model_id": "",
       "version_major": 2,
       "version_minor": 0
      },
      "text/plain": [
       "HBox(children=(FloatProgress(value=0.0, description='Training', layout=Layout(flex='2'), max=1250.0, style=Pro…"
      ]
     },
     "metadata": {},
     "output_type": "display_data"
    },
    {
     "name": "stdout",
     "output_type": "stream",
     "text": [
      "Epoch 337: train=8.58815, val=8.60444, took 29.662 s\n",
      "  Validation Found 50932 of 54504, added 2220 (eff 93.45%) (0.222 FP/event)\n"
     ]
    },
    {
     "data": {
      "application/vnd.jupyter.widget-view+json": {
       "model_id": "",
       "version_major": 2,
       "version_minor": 0
      },
      "text/plain": [
       "HBox(children=(FloatProgress(value=0.0, description='Training', layout=Layout(flex='2'), max=1250.0, style=Pro…"
      ]
     },
     "metadata": {},
     "output_type": "display_data"
    },
    {
     "name": "stdout",
     "output_type": "stream",
     "text": [
      "Epoch 338: train=8.60136, val=8.55286, took 29.655 s\n",
      "  Validation Found 50695 of 54504, added 1742 (eff 93.01%) (0.174 FP/event)\n"
     ]
    },
    {
     "data": {
      "application/vnd.jupyter.widget-view+json": {
       "model_id": "",
       "version_major": 2,
       "version_minor": 0
      },
      "text/plain": [
       "HBox(children=(FloatProgress(value=0.0, description='Training', layout=Layout(flex='2'), max=1250.0, style=Pro…"
      ]
     },
     "metadata": {},
     "output_type": "display_data"
    },
    {
     "name": "stdout",
     "output_type": "stream",
     "text": [
      "Epoch 339: train=8.58538, val=8.59346, took 29.676 s\n",
      "  Validation Found 50671 of 54504, added 1709 (eff 92.97%) (0.171 FP/event)\n"
     ]
    },
    {
     "data": {
      "application/vnd.jupyter.widget-view+json": {
       "model_id": "",
       "version_major": 2,
       "version_minor": 0
      },
      "text/plain": [
       "HBox(children=(FloatProgress(value=0.0, description='Training', layout=Layout(flex='2'), max=1250.0, style=Pro…"
      ]
     },
     "metadata": {},
     "output_type": "display_data"
    },
    {
     "name": "stdout",
     "output_type": "stream",
     "text": [
      "Epoch 340: train=8.5974, val=8.58527, took 29.748 s\n",
      "  Validation Found 50755 of 54504, added 1887 (eff 93.12%) (0.189 FP/event)\n"
     ]
    },
    {
     "data": {
      "application/vnd.jupyter.widget-view+json": {
       "model_id": "",
       "version_major": 2,
       "version_minor": 0
      },
      "text/plain": [
       "HBox(children=(FloatProgress(value=0.0, description='Training', layout=Layout(flex='2'), max=1250.0, style=Pro…"
      ]
     },
     "metadata": {},
     "output_type": "display_data"
    },
    {
     "name": "stdout",
     "output_type": "stream",
     "text": [
      "Epoch 341: train=8.58954, val=8.6477, took 29.796 s\n",
      "  Validation Found 50499 of 54504, added 1498 (eff 92.65%) (0.15 FP/event)\n"
     ]
    },
    {
     "data": {
      "application/vnd.jupyter.widget-view+json": {
       "model_id": "",
       "version_major": 2,
       "version_minor": 0
      },
      "text/plain": [
       "HBox(children=(FloatProgress(value=0.0, description='Training', layout=Layout(flex='2'), max=1250.0, style=Pro…"
      ]
     },
     "metadata": {},
     "output_type": "display_data"
    },
    {
     "name": "stdout",
     "output_type": "stream",
     "text": [
      "Epoch 342: train=8.59481, val=8.5911, took 29.512 s\n",
      "  Validation Found 50907 of 54504, added 2231 (eff 93.40%) (0.223 FP/event)\n"
     ]
    },
    {
     "data": {
      "application/vnd.jupyter.widget-view+json": {
       "model_id": "",
       "version_major": 2,
       "version_minor": 0
      },
      "text/plain": [
       "HBox(children=(FloatProgress(value=0.0, description='Training', layout=Layout(flex='2'), max=1250.0, style=Pro…"
      ]
     },
     "metadata": {},
     "output_type": "display_data"
    },
    {
     "name": "stdout",
     "output_type": "stream",
     "text": [
      "Epoch 343: train=8.58709, val=8.51573, took 29.496 s\n",
      "  Validation Found 50919 of 54504, added 2062 (eff 93.42%) (0.207 FP/event)\n"
     ]
    },
    {
     "data": {
      "application/vnd.jupyter.widget-view+json": {
       "model_id": "",
       "version_major": 2,
       "version_minor": 0
      },
      "text/plain": [
       "HBox(children=(FloatProgress(value=0.0, description='Training', layout=Layout(flex='2'), max=1250.0, style=Pro…"
      ]
     },
     "metadata": {},
     "output_type": "display_data"
    },
    {
     "name": "stdout",
     "output_type": "stream",
     "text": [
      "Epoch 344: train=8.59497, val=8.5689, took 29.529 s\n",
      "  Validation Found 50873 of 54504, added 2066 (eff 93.34%) (0.207 FP/event)\n"
     ]
    },
    {
     "data": {
      "application/vnd.jupyter.widget-view+json": {
       "model_id": "",
       "version_major": 2,
       "version_minor": 0
      },
      "text/plain": [
       "HBox(children=(FloatProgress(value=0.0, description='Training', layout=Layout(flex='2'), max=1250.0, style=Pro…"
      ]
     },
     "metadata": {},
     "output_type": "display_data"
    },
    {
     "name": "stdout",
     "output_type": "stream",
     "text": [
      "Epoch 345: train=8.58565, val=8.61361, took 29.53 s\n",
      "  Validation Found 50901 of 54504, added 2101 (eff 93.39%) (0.21 FP/event)\n"
     ]
    },
    {
     "data": {
      "application/vnd.jupyter.widget-view+json": {
       "model_id": "",
       "version_major": 2,
       "version_minor": 0
      },
      "text/plain": [
       "HBox(children=(FloatProgress(value=0.0, description='Training', layout=Layout(flex='2'), max=1250.0, style=Pro…"
      ]
     },
     "metadata": {},
     "output_type": "display_data"
    },
    {
     "name": "stdout",
     "output_type": "stream",
     "text": [
      "Epoch 346: train=8.59097, val=8.54042, took 29.625 s\n",
      "  Validation Found 50870 of 54504, added 2011 (eff 93.33%) (0.201 FP/event)\n"
     ]
    },
    {
     "data": {
      "application/vnd.jupyter.widget-view+json": {
       "model_id": "",
       "version_major": 2,
       "version_minor": 0
      },
      "text/plain": [
       "HBox(children=(FloatProgress(value=0.0, description='Training', layout=Layout(flex='2'), max=1250.0, style=Pro…"
      ]
     },
     "metadata": {},
     "output_type": "display_data"
    },
    {
     "name": "stdout",
     "output_type": "stream",
     "text": [
      "Epoch 347: train=8.58718, val=8.70269, took 29.726 s\n",
      "  Validation Found 50470 of 54504, added 1536 (eff 92.60%) (0.154 FP/event)\n"
     ]
    },
    {
     "data": {
      "application/vnd.jupyter.widget-view+json": {
       "model_id": "",
       "version_major": 2,
       "version_minor": 0
      },
      "text/plain": [
       "HBox(children=(FloatProgress(value=0.0, description='Training', layout=Layout(flex='2'), max=1250.0, style=Pro…"
      ]
     },
     "metadata": {},
     "output_type": "display_data"
    },
    {
     "name": "stdout",
     "output_type": "stream",
     "text": [
      "Epoch 348: train=8.59076, val=8.71733, took 29.659 s\n",
      "  Validation Found 50341 of 54504, added 1386 (eff 92.36%) (0.139 FP/event)\n"
     ]
    },
    {
     "data": {
      "application/vnd.jupyter.widget-view+json": {
       "model_id": "",
       "version_major": 2,
       "version_minor": 0
      },
      "text/plain": [
       "HBox(children=(FloatProgress(value=0.0, description='Training', layout=Layout(flex='2'), max=1250.0, style=Pro…"
      ]
     },
     "metadata": {},
     "output_type": "display_data"
    },
    {
     "name": "stdout",
     "output_type": "stream",
     "text": [
      "Epoch 349: train=8.57988, val=8.58877, took 29.918 s\n",
      "  Validation Found 50707 of 54504, added 1928 (eff 93.03%) (0.193 FP/event)\n"
     ]
    },
    {
     "data": {
      "application/vnd.jupyter.widget-view+json": {
       "model_id": "",
       "version_major": 2,
       "version_minor": 0
      },
      "text/plain": [
       "HBox(children=(FloatProgress(value=0.0, description='Training', layout=Layout(flex='2'), max=1250.0, style=Pro…"
      ]
     },
     "metadata": {},
     "output_type": "display_data"
    },
    {
     "name": "stdout",
     "output_type": "stream",
     "text": [
      "Epoch 350: train=8.59206, val=8.66927, took 29.718 s\n",
      "  Validation Found 50509 of 54504, added 1831 (eff 92.67%) (0.183 FP/event)\n"
     ]
    },
    {
     "data": {
      "application/vnd.jupyter.widget-view+json": {
       "model_id": "",
       "version_major": 2,
       "version_minor": 0
      },
      "text/plain": [
       "HBox(children=(FloatProgress(value=0.0, description='Training', layout=Layout(flex='2'), max=1250.0, style=Pro…"
      ]
     },
     "metadata": {},
     "output_type": "display_data"
    },
    {
     "name": "stdout",
     "output_type": "stream",
     "text": [
      "Epoch 351: train=8.57781, val=8.62752, took 29.78 s\n",
      "  Validation Found 50617 of 54504, added 1616 (eff 92.87%) (0.162 FP/event)\n"
     ]
    },
    {
     "data": {
      "application/vnd.jupyter.widget-view+json": {
       "model_id": "",
       "version_major": 2,
       "version_minor": 0
      },
      "text/plain": [
       "HBox(children=(FloatProgress(value=0.0, description='Training', layout=Layout(flex='2'), max=1250.0, style=Pro…"
      ]
     },
     "metadata": {},
     "output_type": "display_data"
    },
    {
     "name": "stdout",
     "output_type": "stream",
     "text": [
      "Epoch 352: train=8.58705, val=8.62729, took 29.602 s\n",
      "  Validation Found 50819 of 54504, added 2028 (eff 93.24%) (0.203 FP/event)\n"
     ]
    },
    {
     "data": {
      "application/vnd.jupyter.widget-view+json": {
       "model_id": "",
       "version_major": 2,
       "version_minor": 0
      },
      "text/plain": [
       "HBox(children=(FloatProgress(value=0.0, description='Training', layout=Layout(flex='2'), max=1250.0, style=Pro…"
      ]
     },
     "metadata": {},
     "output_type": "display_data"
    },
    {
     "name": "stdout",
     "output_type": "stream",
     "text": [
      "Epoch 353: train=8.57714, val=8.64622, took 29.807 s\n",
      "  Validation Found 50426 of 54504, added 1520 (eff 92.52%) (0.152 FP/event)\n"
     ]
    },
    {
     "data": {
      "application/vnd.jupyter.widget-view+json": {
       "model_id": "",
       "version_major": 2,
       "version_minor": 0
      },
      "text/plain": [
       "HBox(children=(FloatProgress(value=0.0, description='Training', layout=Layout(flex='2'), max=1250.0, style=Pro…"
      ]
     },
     "metadata": {},
     "output_type": "display_data"
    },
    {
     "name": "stdout",
     "output_type": "stream",
     "text": [
      "Epoch 354: train=8.59377, val=8.604, took 29.783 s\n",
      "  Validation Found 50805 of 54504, added 1947 (eff 93.21%) (0.195 FP/event)\n"
     ]
    },
    {
     "data": {
      "application/vnd.jupyter.widget-view+json": {
       "model_id": "",
       "version_major": 2,
       "version_minor": 0
      },
      "text/plain": [
       "HBox(children=(FloatProgress(value=0.0, description='Training', layout=Layout(flex='2'), max=1250.0, style=Pro…"
      ]
     },
     "metadata": {},
     "output_type": "display_data"
    },
    {
     "name": "stdout",
     "output_type": "stream",
     "text": [
      "Epoch 355: train=8.63061, val=8.6447, took 29.821 s\n",
      "  Validation Found 50530 of 54504, added 1548 (eff 92.71%) (0.155 FP/event)\n"
     ]
    },
    {
     "data": {
      "application/vnd.jupyter.widget-view+json": {
       "model_id": "",
       "version_major": 2,
       "version_minor": 0
      },
      "text/plain": [
       "HBox(children=(FloatProgress(value=0.0, description='Training', layout=Layout(flex='2'), max=1250.0, style=Pro…"
      ]
     },
     "metadata": {},
     "output_type": "display_data"
    },
    {
     "name": "stdout",
     "output_type": "stream",
     "text": [
      "Epoch 356: train=8.57174, val=8.64025, took 29.793 s\n",
      "  Validation Found 50628 of 54504, added 1647 (eff 92.89%) (0.165 FP/event)\n"
     ]
    },
    {
     "data": {
      "application/vnd.jupyter.widget-view+json": {
       "model_id": "",
       "version_major": 2,
       "version_minor": 0
      },
      "text/plain": [
       "HBox(children=(FloatProgress(value=0.0, description='Training', layout=Layout(flex='2'), max=1250.0, style=Pro…"
      ]
     },
     "metadata": {},
     "output_type": "display_data"
    },
    {
     "name": "stdout",
     "output_type": "stream",
     "text": [
      "Epoch 357: train=8.58213, val=8.65555, took 29.829 s\n",
      "  Validation Found 50395 of 54504, added 1389 (eff 92.46%) (0.139 FP/event)\n"
     ]
    },
    {
     "data": {
      "application/vnd.jupyter.widget-view+json": {
       "model_id": "",
       "version_major": 2,
       "version_minor": 0
      },
      "text/plain": [
       "HBox(children=(FloatProgress(value=0.0, description='Training', layout=Layout(flex='2'), max=1250.0, style=Pro…"
      ]
     },
     "metadata": {},
     "output_type": "display_data"
    },
    {
     "name": "stdout",
     "output_type": "stream",
     "text": [
      "Epoch 358: train=8.57137, val=8.61833, took 29.837 s\n",
      "  Validation Found 50890 of 54504, added 2211 (eff 93.37%) (0.221 FP/event)\n"
     ]
    },
    {
     "data": {
      "application/vnd.jupyter.widget-view+json": {
       "model_id": "",
       "version_major": 2,
       "version_minor": 0
      },
      "text/plain": [
       "HBox(children=(FloatProgress(value=0.0, description='Training', layout=Layout(flex='2'), max=1250.0, style=Pro…"
      ]
     },
     "metadata": {},
     "output_type": "display_data"
    },
    {
     "name": "stdout",
     "output_type": "stream",
     "text": [
      "Epoch 359: train=8.59338, val=8.58669, took 29.56 s\n",
      "  Validation Found 50759 of 54504, added 1960 (eff 93.13%) (0.196 FP/event)\n"
     ]
    },
    {
     "data": {
      "application/vnd.jupyter.widget-view+json": {
       "model_id": "",
       "version_major": 2,
       "version_minor": 0
      },
      "text/plain": [
       "HBox(children=(FloatProgress(value=0.0, description='Training', layout=Layout(flex='2'), max=1250.0, style=Pro…"
      ]
     },
     "metadata": {},
     "output_type": "display_data"
    },
    {
     "name": "stdout",
     "output_type": "stream",
     "text": [
      "Epoch 360: train=8.57403, val=8.69458, took 29.475 s\n",
      "  Validation Found 50778 of 54504, added 2134 (eff 93.16%) (0.214 FP/event)\n"
     ]
    },
    {
     "data": {
      "application/vnd.jupyter.widget-view+json": {
       "model_id": "",
       "version_major": 2,
       "version_minor": 0
      },
      "text/plain": [
       "HBox(children=(FloatProgress(value=0.0, description='Training', layout=Layout(flex='2'), max=1250.0, style=Pro…"
      ]
     },
     "metadata": {},
     "output_type": "display_data"
    },
    {
     "name": "stdout",
     "output_type": "stream",
     "text": [
      "Epoch 361: train=8.57725, val=8.51945, took 29.634 s\n",
      "  Validation Found 50883 of 54504, added 2073 (eff 93.36%) (0.208 FP/event)\n"
     ]
    },
    {
     "data": {
      "application/vnd.jupyter.widget-view+json": {
       "model_id": "",
       "version_major": 2,
       "version_minor": 0
      },
      "text/plain": [
       "HBox(children=(FloatProgress(value=0.0, description='Training', layout=Layout(flex='2'), max=1250.0, style=Pro…"
      ]
     },
     "metadata": {},
     "output_type": "display_data"
    },
    {
     "name": "stdout",
     "output_type": "stream",
     "text": [
      "Epoch 362: train=8.5702, val=8.51702, took 29.604 s\n",
      "  Validation Found 50905 of 54504, added 2101 (eff 93.40%) (0.21 FP/event)\n"
     ]
    },
    {
     "data": {
      "application/vnd.jupyter.widget-view+json": {
       "model_id": "",
       "version_major": 2,
       "version_minor": 0
      },
      "text/plain": [
       "HBox(children=(FloatProgress(value=0.0, description='Training', layout=Layout(flex='2'), max=1250.0, style=Pro…"
      ]
     },
     "metadata": {},
     "output_type": "display_data"
    },
    {
     "name": "stdout",
     "output_type": "stream",
     "text": [
      "Epoch 363: train=8.57156, val=8.55297, took 29.636 s\n",
      "  Validation Found 50810 of 54504, added 2035 (eff 93.22%) (0.204 FP/event)\n"
     ]
    },
    {
     "data": {
      "application/vnd.jupyter.widget-view+json": {
       "model_id": "",
       "version_major": 2,
       "version_minor": 0
      },
      "text/plain": [
       "HBox(children=(FloatProgress(value=0.0, description='Training', layout=Layout(flex='2'), max=1250.0, style=Pro…"
      ]
     },
     "metadata": {},
     "output_type": "display_data"
    },
    {
     "name": "stdout",
     "output_type": "stream",
     "text": [
      "Epoch 364: train=8.57978, val=8.55275, took 29.619 s\n",
      "  Validation Found 50865 of 54504, added 2085 (eff 93.32%) (0.209 FP/event)\n"
     ]
    },
    {
     "data": {
      "application/vnd.jupyter.widget-view+json": {
       "model_id": "",
       "version_major": 2,
       "version_minor": 0
      },
      "text/plain": [
       "HBox(children=(FloatProgress(value=0.0, description='Training', layout=Layout(flex='2'), max=1250.0, style=Pro…"
      ]
     },
     "metadata": {},
     "output_type": "display_data"
    },
    {
     "name": "stdout",
     "output_type": "stream",
     "text": [
      "Epoch 365: train=8.57784, val=8.52986, took 29.589 s\n",
      "  Validation Found 50759 of 54504, added 2010 (eff 93.13%) (0.201 FP/event)\n"
     ]
    },
    {
     "data": {
      "application/vnd.jupyter.widget-view+json": {
       "model_id": "",
       "version_major": 2,
       "version_minor": 0
      },
      "text/plain": [
       "HBox(children=(FloatProgress(value=0.0, description='Training', layout=Layout(flex='2'), max=1250.0, style=Pro…"
      ]
     },
     "metadata": {},
     "output_type": "display_data"
    },
    {
     "name": "stdout",
     "output_type": "stream",
     "text": [
      "Epoch 366: train=8.57192, val=8.51366, took 29.581 s\n",
      "  Validation Found 50873 of 54504, added 1967 (eff 93.34%) (0.197 FP/event)\n"
     ]
    },
    {
     "data": {
      "application/vnd.jupyter.widget-view+json": {
       "model_id": "",
       "version_major": 2,
       "version_minor": 0
      },
      "text/plain": [
       "HBox(children=(FloatProgress(value=0.0, description='Training', layout=Layout(flex='2'), max=1250.0, style=Pro…"
      ]
     },
     "metadata": {},
     "output_type": "display_data"
    },
    {
     "name": "stdout",
     "output_type": "stream",
     "text": [
      "Epoch 367: train=8.56739, val=8.6406, took 29.624 s\n",
      "  Validation Found 50498 of 54504, added 1606 (eff 92.65%) (0.161 FP/event)\n"
     ]
    },
    {
     "data": {
      "application/vnd.jupyter.widget-view+json": {
       "model_id": "",
       "version_major": 2,
       "version_minor": 0
      },
      "text/plain": [
       "HBox(children=(FloatProgress(value=0.0, description='Training', layout=Layout(flex='2'), max=1250.0, style=Pro…"
      ]
     },
     "metadata": {},
     "output_type": "display_data"
    },
    {
     "name": "stdout",
     "output_type": "stream",
     "text": [
      "Epoch 368: train=8.5697, val=8.54094, took 29.678 s\n",
      "  Validation Found 50982 of 54504, added 2441 (eff 93.54%) (0.244 FP/event)\n"
     ]
    },
    {
     "data": {
      "application/vnd.jupyter.widget-view+json": {
       "model_id": "",
       "version_major": 2,
       "version_minor": 0
      },
      "text/plain": [
       "HBox(children=(FloatProgress(value=0.0, description='Training', layout=Layout(flex='2'), max=1250.0, style=Pro…"
      ]
     },
     "metadata": {},
     "output_type": "display_data"
    },
    {
     "name": "stdout",
     "output_type": "stream",
     "text": [
      "Epoch 369: train=8.56272, val=8.53488, took 29.598 s\n",
      "  Validation Found 50863 of 54504, added 2041 (eff 93.32%) (0.204 FP/event)\n"
     ]
    },
    {
     "data": {
      "application/vnd.jupyter.widget-view+json": {
       "model_id": "",
       "version_major": 2,
       "version_minor": 0
      },
      "text/plain": [
       "HBox(children=(FloatProgress(value=0.0, description='Training', layout=Layout(flex='2'), max=1250.0, style=Pro…"
      ]
     },
     "metadata": {},
     "output_type": "display_data"
    },
    {
     "name": "stdout",
     "output_type": "stream",
     "text": [
      "Epoch 370: train=8.5711, val=8.61476, took 29.973 s\n",
      "  Validation Found 50834 of 54504, added 2176 (eff 93.27%) (0.218 FP/event)\n"
     ]
    },
    {
     "data": {
      "application/vnd.jupyter.widget-view+json": {
       "model_id": "",
       "version_major": 2,
       "version_minor": 0
      },
      "text/plain": [
       "HBox(children=(FloatProgress(value=0.0, description='Training', layout=Layout(flex='2'), max=1250.0, style=Pro…"
      ]
     },
     "metadata": {},
     "output_type": "display_data"
    },
    {
     "name": "stdout",
     "output_type": "stream",
     "text": [
      "Epoch 371: train=8.56424, val=8.52274, took 30.053 s\n",
      "  Validation Found 50775 of 54504, added 1833 (eff 93.16%) (0.184 FP/event)\n"
     ]
    },
    {
     "data": {
      "application/vnd.jupyter.widget-view+json": {
       "model_id": "",
       "version_major": 2,
       "version_minor": 0
      },
      "text/plain": [
       "HBox(children=(FloatProgress(value=0.0, description='Training', layout=Layout(flex='2'), max=1250.0, style=Pro…"
      ]
     },
     "metadata": {},
     "output_type": "display_data"
    },
    {
     "name": "stdout",
     "output_type": "stream",
     "text": [
      "Epoch 372: train=8.56755, val=8.7188, took 29.669 s\n",
      "  Validation Found 50590 of 54504, added 1726 (eff 92.82%) (0.173 FP/event)\n"
     ]
    },
    {
     "data": {
      "application/vnd.jupyter.widget-view+json": {
       "model_id": "",
       "version_major": 2,
       "version_minor": 0
      },
      "text/plain": [
       "HBox(children=(FloatProgress(value=0.0, description='Training', layout=Layout(flex='2'), max=1250.0, style=Pro…"
      ]
     },
     "metadata": {},
     "output_type": "display_data"
    },
    {
     "name": "stdout",
     "output_type": "stream",
     "text": [
      "Epoch 373: train=8.57833, val=8.5866, took 29.851 s\n",
      "  Validation Found 50541 of 54504, added 1504 (eff 92.73%) (0.151 FP/event)\n"
     ]
    },
    {
     "data": {
      "application/vnd.jupyter.widget-view+json": {
       "model_id": "",
       "version_major": 2,
       "version_minor": 0
      },
      "text/plain": [
       "HBox(children=(FloatProgress(value=0.0, description='Training', layout=Layout(flex='2'), max=1250.0, style=Pro…"
      ]
     },
     "metadata": {},
     "output_type": "display_data"
    },
    {
     "name": "stdout",
     "output_type": "stream",
     "text": [
      "Epoch 374: train=8.57589, val=8.53902, took 29.731 s\n",
      "  Validation Found 50771 of 54504, added 1815 (eff 93.15%) (0.182 FP/event)\n"
     ]
    },
    {
     "data": {
      "application/vnd.jupyter.widget-view+json": {
       "model_id": "",
       "version_major": 2,
       "version_minor": 0
      },
      "text/plain": [
       "HBox(children=(FloatProgress(value=0.0, description='Training', layout=Layout(flex='2'), max=1250.0, style=Pro…"
      ]
     },
     "metadata": {},
     "output_type": "display_data"
    },
    {
     "name": "stdout",
     "output_type": "stream",
     "text": [
      "Epoch 375: train=8.56686, val=8.59267, took 29.634 s\n",
      "  Validation Found 50891 of 54504, added 2239 (eff 93.37%) (0.224 FP/event)\n"
     ]
    },
    {
     "data": {
      "application/vnd.jupyter.widget-view+json": {
       "model_id": "",
       "version_major": 2,
       "version_minor": 0
      },
      "text/plain": [
       "HBox(children=(FloatProgress(value=0.0, description='Training', layout=Layout(flex='2'), max=1250.0, style=Pro…"
      ]
     },
     "metadata": {},
     "output_type": "display_data"
    },
    {
     "name": "stdout",
     "output_type": "stream",
     "text": [
      "Epoch 376: train=8.57118, val=8.514, took 29.643 s\n",
      "  Validation Found 50937 of 54504, added 2251 (eff 93.46%) (0.225 FP/event)\n"
     ]
    },
    {
     "data": {
      "application/vnd.jupyter.widget-view+json": {
       "model_id": "",
       "version_major": 2,
       "version_minor": 0
      },
      "text/plain": [
       "HBox(children=(FloatProgress(value=0.0, description='Training', layout=Layout(flex='2'), max=1250.0, style=Pro…"
      ]
     },
     "metadata": {},
     "output_type": "display_data"
    },
    {
     "name": "stdout",
     "output_type": "stream",
     "text": [
      "Epoch 377: train=8.57254, val=8.60408, took 29.679 s\n",
      "  Validation Found 50784 of 54504, added 1867 (eff 93.17%) (0.187 FP/event)\n"
     ]
    },
    {
     "data": {
      "application/vnd.jupyter.widget-view+json": {
       "model_id": "",
       "version_major": 2,
       "version_minor": 0
      },
      "text/plain": [
       "HBox(children=(FloatProgress(value=0.0, description='Training', layout=Layout(flex='2'), max=1250.0, style=Pro…"
      ]
     },
     "metadata": {},
     "output_type": "display_data"
    },
    {
     "name": "stdout",
     "output_type": "stream",
     "text": [
      "Epoch 378: train=8.56768, val=8.6156, took 29.63 s\n",
      "  Validation Found 50843 of 54504, added 2073 (eff 93.28%) (0.208 FP/event)\n"
     ]
    },
    {
     "data": {
      "application/vnd.jupyter.widget-view+json": {
       "model_id": "",
       "version_major": 2,
       "version_minor": 0
      },
      "text/plain": [
       "HBox(children=(FloatProgress(value=0.0, description='Training', layout=Layout(flex='2'), max=1250.0, style=Pro…"
      ]
     },
     "metadata": {},
     "output_type": "display_data"
    },
    {
     "name": "stdout",
     "output_type": "stream",
     "text": [
      "Epoch 379: train=8.56992, val=8.57671, took 29.823 s\n",
      "  Validation Found 50759 of 54504, added 1927 (eff 93.13%) (0.193 FP/event)\n"
     ]
    },
    {
     "data": {
      "application/vnd.jupyter.widget-view+json": {
       "model_id": "",
       "version_major": 2,
       "version_minor": 0
      },
      "text/plain": [
       "HBox(children=(FloatProgress(value=0.0, description='Training', layout=Layout(flex='2'), max=1250.0, style=Pro…"
      ]
     },
     "metadata": {},
     "output_type": "display_data"
    },
    {
     "name": "stdout",
     "output_type": "stream",
     "text": [
      "Epoch 380: train=8.57668, val=8.54173, took 29.673 s\n",
      "  Validation Found 50692 of 54504, added 1768 (eff 93.01%) (0.177 FP/event)\n"
     ]
    },
    {
     "data": {
      "application/vnd.jupyter.widget-view+json": {
       "model_id": "",
       "version_major": 2,
       "version_minor": 0
      },
      "text/plain": [
       "HBox(children=(FloatProgress(value=0.0, description='Training', layout=Layout(flex='2'), max=1250.0, style=Pro…"
      ]
     },
     "metadata": {},
     "output_type": "display_data"
    },
    {
     "name": "stdout",
     "output_type": "stream",
     "text": [
      "Epoch 381: train=8.57344, val=8.68584, took 29.64 s\n",
      "  Validation Found 50550 of 54504, added 1619 (eff 92.75%) (0.162 FP/event)\n"
     ]
    },
    {
     "data": {
      "application/vnd.jupyter.widget-view+json": {
       "model_id": "",
       "version_major": 2,
       "version_minor": 0
      },
      "text/plain": [
       "HBox(children=(FloatProgress(value=0.0, description='Training', layout=Layout(flex='2'), max=1250.0, style=Pro…"
      ]
     },
     "metadata": {},
     "output_type": "display_data"
    },
    {
     "name": "stdout",
     "output_type": "stream",
     "text": [
      "Epoch 382: train=8.57302, val=8.65969, took 29.706 s\n",
      "  Validation Found 50488 of 54504, added 1635 (eff 92.63%) (0.164 FP/event)\n"
     ]
    },
    {
     "data": {
      "application/vnd.jupyter.widget-view+json": {
       "model_id": "",
       "version_major": 2,
       "version_minor": 0
      },
      "text/plain": [
       "HBox(children=(FloatProgress(value=0.0, description='Training', layout=Layout(flex='2'), max=1250.0, style=Pro…"
      ]
     },
     "metadata": {},
     "output_type": "display_data"
    },
    {
     "name": "stdout",
     "output_type": "stream",
     "text": [
      "Epoch 383: train=8.55651, val=8.50107, took 29.773 s\n",
      "  Validation Found 50836 of 54504, added 1968 (eff 93.27%) (0.197 FP/event)\n"
     ]
    },
    {
     "data": {
      "application/vnd.jupyter.widget-view+json": {
       "model_id": "",
       "version_major": 2,
       "version_minor": 0
      },
      "text/plain": [
       "HBox(children=(FloatProgress(value=0.0, description='Training', layout=Layout(flex='2'), max=1250.0, style=Pro…"
      ]
     },
     "metadata": {},
     "output_type": "display_data"
    },
    {
     "name": "stdout",
     "output_type": "stream",
     "text": [
      "Epoch 384: train=8.55684, val=8.67998, took 29.62 s\n",
      "  Validation Found 50585 of 54504, added 1707 (eff 92.81%) (0.171 FP/event)\n"
     ]
    },
    {
     "data": {
      "application/vnd.jupyter.widget-view+json": {
       "model_id": "",
       "version_major": 2,
       "version_minor": 0
      },
      "text/plain": [
       "HBox(children=(FloatProgress(value=0.0, description='Training', layout=Layout(flex='2'), max=1250.0, style=Pro…"
      ]
     },
     "metadata": {},
     "output_type": "display_data"
    },
    {
     "name": "stdout",
     "output_type": "stream",
     "text": [
      "Epoch 385: train=8.54844, val=8.53877, took 29.502 s\n",
      "  Validation Found 50710 of 54504, added 1833 (eff 93.04%) (0.184 FP/event)\n"
     ]
    },
    {
     "data": {
      "application/vnd.jupyter.widget-view+json": {
       "model_id": "",
       "version_major": 2,
       "version_minor": 0
      },
      "text/plain": [
       "HBox(children=(FloatProgress(value=0.0, description='Training', layout=Layout(flex='2'), max=1250.0, style=Pro…"
      ]
     },
     "metadata": {},
     "output_type": "display_data"
    },
    {
     "name": "stdout",
     "output_type": "stream",
     "text": [
      "Epoch 386: train=8.56013, val=8.58045, took 29.601 s\n",
      "  Validation Found 50724 of 54504, added 1784 (eff 93.06%) (0.179 FP/event)\n"
     ]
    },
    {
     "data": {
      "application/vnd.jupyter.widget-view+json": {
       "model_id": "",
       "version_major": 2,
       "version_minor": 0
      },
      "text/plain": [
       "HBox(children=(FloatProgress(value=0.0, description='Training', layout=Layout(flex='2'), max=1250.0, style=Pro…"
      ]
     },
     "metadata": {},
     "output_type": "display_data"
    },
    {
     "name": "stdout",
     "output_type": "stream",
     "text": [
      "Epoch 387: train=8.55867, val=8.57839, took 29.811 s\n",
      "  Validation Found 50671 of 54504, added 1738 (eff 92.97%) (0.174 FP/event)\n"
     ]
    },
    {
     "data": {
      "application/vnd.jupyter.widget-view+json": {
       "model_id": "",
       "version_major": 2,
       "version_minor": 0
      },
      "text/plain": [
       "HBox(children=(FloatProgress(value=0.0, description='Training', layout=Layout(flex='2'), max=1250.0, style=Pro…"
      ]
     },
     "metadata": {},
     "output_type": "display_data"
    },
    {
     "name": "stdout",
     "output_type": "stream",
     "text": [
      "Epoch 388: train=8.56089, val=8.56653, took 29.861 s\n",
      "  Validation Found 50783 of 54504, added 1884 (eff 93.17%) (0.189 FP/event)\n"
     ]
    },
    {
     "data": {
      "application/vnd.jupyter.widget-view+json": {
       "model_id": "",
       "version_major": 2,
       "version_minor": 0
      },
      "text/plain": [
       "HBox(children=(FloatProgress(value=0.0, description='Training', layout=Layout(flex='2'), max=1250.0, style=Pro…"
      ]
     },
     "metadata": {},
     "output_type": "display_data"
    },
    {
     "name": "stdout",
     "output_type": "stream",
     "text": [
      "Epoch 389: train=8.57289, val=8.63193, took 29.742 s\n",
      "  Validation Found 50660 of 54504, added 1780 (eff 92.95%) (0.178 FP/event)\n"
     ]
    },
    {
     "data": {
      "application/vnd.jupyter.widget-view+json": {
       "model_id": "",
       "version_major": 2,
       "version_minor": 0
      },
      "text/plain": [
       "HBox(children=(FloatProgress(value=0.0, description='Training', layout=Layout(flex='2'), max=1250.0, style=Pro…"
      ]
     },
     "metadata": {},
     "output_type": "display_data"
    },
    {
     "name": "stdout",
     "output_type": "stream",
     "text": [
      "Epoch 390: train=8.56287, val=8.51058, took 29.553 s\n",
      "  Validation Found 50891 of 54504, added 2099 (eff 93.37%) (0.21 FP/event)\n"
     ]
    },
    {
     "data": {
      "application/vnd.jupyter.widget-view+json": {
       "model_id": "",
       "version_major": 2,
       "version_minor": 0
      },
      "text/plain": [
       "HBox(children=(FloatProgress(value=0.0, description='Training', layout=Layout(flex='2'), max=1250.0, style=Pro…"
      ]
     },
     "metadata": {},
     "output_type": "display_data"
    },
    {
     "name": "stdout",
     "output_type": "stream",
     "text": [
      "Epoch 391: train=8.56887, val=8.451, took 29.685 s\n",
      "  Validation Found 50979 of 54504, added 2139 (eff 93.53%) (0.214 FP/event)\n"
     ]
    },
    {
     "data": {
      "application/vnd.jupyter.widget-view+json": {
       "model_id": "",
       "version_major": 2,
       "version_minor": 0
      },
      "text/plain": [
       "HBox(children=(FloatProgress(value=0.0, description='Training', layout=Layout(flex='2'), max=1250.0, style=Pro…"
      ]
     },
     "metadata": {},
     "output_type": "display_data"
    },
    {
     "name": "stdout",
     "output_type": "stream",
     "text": [
      "Epoch 392: train=8.55809, val=8.54243, took 29.704 s\n",
      "  Validation Found 50662 of 54504, added 1702 (eff 92.95%) (0.17 FP/event)\n"
     ]
    },
    {
     "data": {
      "application/vnd.jupyter.widget-view+json": {
       "model_id": "",
       "version_major": 2,
       "version_minor": 0
      },
      "text/plain": [
       "HBox(children=(FloatProgress(value=0.0, description='Training', layout=Layout(flex='2'), max=1250.0, style=Pro…"
      ]
     },
     "metadata": {},
     "output_type": "display_data"
    },
    {
     "name": "stdout",
     "output_type": "stream",
     "text": [
      "Epoch 393: train=8.56503, val=8.58393, took 29.724 s\n",
      "  Validation Found 50781 of 54504, added 1865 (eff 93.17%) (0.187 FP/event)\n"
     ]
    },
    {
     "data": {
      "application/vnd.jupyter.widget-view+json": {
       "model_id": "",
       "version_major": 2,
       "version_minor": 0
      },
      "text/plain": [
       "HBox(children=(FloatProgress(value=0.0, description='Training', layout=Layout(flex='2'), max=1250.0, style=Pro…"
      ]
     },
     "metadata": {},
     "output_type": "display_data"
    },
    {
     "name": "stdout",
     "output_type": "stream",
     "text": [
      "Epoch 394: train=8.55652, val=8.61948, took 29.796 s\n",
      "  Validation Found 50730 of 54504, added 1749 (eff 93.08%) (0.175 FP/event)\n"
     ]
    },
    {
     "data": {
      "application/vnd.jupyter.widget-view+json": {
       "model_id": "",
       "version_major": 2,
       "version_minor": 0
      },
      "text/plain": [
       "HBox(children=(FloatProgress(value=0.0, description='Training', layout=Layout(flex='2'), max=1250.0, style=Pro…"
      ]
     },
     "metadata": {},
     "output_type": "display_data"
    },
    {
     "name": "stdout",
     "output_type": "stream",
     "text": [
      "Epoch 395: train=8.56698, val=8.63372, took 30.278 s\n",
      "  Validation Found 50447 of 54504, added 1477 (eff 92.56%) (0.148 FP/event)\n"
     ]
    },
    {
     "data": {
      "application/vnd.jupyter.widget-view+json": {
       "model_id": "",
       "version_major": 2,
       "version_minor": 0
      },
      "text/plain": [
       "HBox(children=(FloatProgress(value=0.0, description='Training', layout=Layout(flex='2'), max=1250.0, style=Pro…"
      ]
     },
     "metadata": {},
     "output_type": "display_data"
    },
    {
     "name": "stdout",
     "output_type": "stream",
     "text": [
      "Epoch 396: train=8.56124, val=8.60431, took 30.001 s\n",
      "  Validation Found 50664 of 54504, added 1718 (eff 92.95%) (0.172 FP/event)\n"
     ]
    },
    {
     "data": {
      "application/vnd.jupyter.widget-view+json": {
       "model_id": "",
       "version_major": 2,
       "version_minor": 0
      },
      "text/plain": [
       "HBox(children=(FloatProgress(value=0.0, description='Training', layout=Layout(flex='2'), max=1250.0, style=Pro…"
      ]
     },
     "metadata": {},
     "output_type": "display_data"
    },
    {
     "name": "stdout",
     "output_type": "stream",
     "text": [
      "Epoch 397: train=8.56645, val=8.45353, took 29.628 s\n",
      "  Validation Found 50944 of 54504, added 2107 (eff 93.47%) (0.211 FP/event)\n"
     ]
    },
    {
     "data": {
      "application/vnd.jupyter.widget-view+json": {
       "model_id": "",
       "version_major": 2,
       "version_minor": 0
      },
      "text/plain": [
       "HBox(children=(FloatProgress(value=0.0, description='Training', layout=Layout(flex='2'), max=1250.0, style=Pro…"
      ]
     },
     "metadata": {},
     "output_type": "display_data"
    },
    {
     "name": "stdout",
     "output_type": "stream",
     "text": [
      "Epoch 398: train=8.55109, val=8.62463, took 29.615 s\n",
      "  Validation Found 50783 of 54504, added 2102 (eff 93.17%) (0.211 FP/event)\n"
     ]
    },
    {
     "data": {
      "application/vnd.jupyter.widget-view+json": {
       "model_id": "",
       "version_major": 2,
       "version_minor": 0
      },
      "text/plain": [
       "HBox(children=(FloatProgress(value=0.0, description='Training', layout=Layout(flex='2'), max=1250.0, style=Pro…"
      ]
     },
     "metadata": {},
     "output_type": "display_data"
    },
    {
     "name": "stdout",
     "output_type": "stream",
     "text": [
      "Epoch 399: train=8.55574, val=8.58326, took 29.913 s\n",
      "  Validation Found 50569 of 54504, added 1611 (eff 92.78%) (0.161 FP/event)\n"
     ]
    },
    {
     "data": {
      "application/vnd.jupyter.widget-view+json": {
       "model_id": "",
       "version_major": 2,
       "version_minor": 0
      },
      "text/plain": [
       "HBox(children=(FloatProgress(value=0.0, description='Training', layout=Layout(flex='2'), max=1250.0, style=Pro…"
      ]
     },
     "metadata": {},
     "output_type": "display_data"
    },
    {
     "name": "stdout",
     "output_type": "stream",
     "text": [
      "Epoch 400: train=8.56164, val=8.50479, took 29.606 s\n",
      "  Validation Found 50769 of 54504, added 1781 (eff 93.15%) (0.178 FP/event)\n"
     ]
    },
    {
     "data": {
      "application/vnd.jupyter.widget-view+json": {
       "model_id": "",
       "version_major": 2,
       "version_minor": 0
      },
      "text/plain": [
       "HBox(children=(FloatProgress(value=0.0, description='Training', layout=Layout(flex='2'), max=1250.0, style=Pro…"
      ]
     },
     "metadata": {},
     "output_type": "display_data"
    },
    {
     "name": "stdout",
     "output_type": "stream",
     "text": [
      "Epoch 401: train=8.5605, val=8.451, took 29.751 s\n",
      "  Validation Found 51003 of 54504, added 2220 (eff 93.58%) (0.222 FP/event)\n"
     ]
    },
    {
     "data": {
      "application/vnd.jupyter.widget-view+json": {
       "model_id": "",
       "version_major": 2,
       "version_minor": 0
      },
      "text/plain": [
       "HBox(children=(FloatProgress(value=0.0, description='Training', layout=Layout(flex='2'), max=1250.0, style=Pro…"
      ]
     },
     "metadata": {},
     "output_type": "display_data"
    },
    {
     "name": "stdout",
     "output_type": "stream",
     "text": [
      "Epoch 402: train=8.54965, val=8.54478, took 29.663 s\n",
      "  Validation Found 50858 of 54504, added 2212 (eff 93.31%) (0.222 FP/event)\n"
     ]
    },
    {
     "data": {
      "application/vnd.jupyter.widget-view+json": {
       "model_id": "",
       "version_major": 2,
       "version_minor": 0
      },
      "text/plain": [
       "HBox(children=(FloatProgress(value=0.0, description='Training', layout=Layout(flex='2'), max=1250.0, style=Pro…"
      ]
     },
     "metadata": {},
     "output_type": "display_data"
    },
    {
     "name": "stdout",
     "output_type": "stream",
     "text": [
      "Epoch 403: train=8.56064, val=8.42082, took 29.598 s\n",
      "  Validation Found 50907 of 54504, added 2036 (eff 93.40%) (0.204 FP/event)\n"
     ]
    },
    {
     "data": {
      "application/vnd.jupyter.widget-view+json": {
       "model_id": "",
       "version_major": 2,
       "version_minor": 0
      },
      "text/plain": [
       "HBox(children=(FloatProgress(value=0.0, description='Training', layout=Layout(flex='2'), max=1250.0, style=Pro…"
      ]
     },
     "metadata": {},
     "output_type": "display_data"
    },
    {
     "name": "stdout",
     "output_type": "stream",
     "text": [
      "Epoch 404: train=8.54986, val=8.6874, took 29.784 s\n",
      "  Validation Found 50464 of 54504, added 1503 (eff 92.59%) (0.151 FP/event)\n"
     ]
    },
    {
     "data": {
      "application/vnd.jupyter.widget-view+json": {
       "model_id": "",
       "version_major": 2,
       "version_minor": 0
      },
      "text/plain": [
       "HBox(children=(FloatProgress(value=0.0, description='Training', layout=Layout(flex='2'), max=1250.0, style=Pro…"
      ]
     },
     "metadata": {},
     "output_type": "display_data"
    },
    {
     "name": "stdout",
     "output_type": "stream",
     "text": [
      "Epoch 405: train=8.55164, val=8.64426, took 29.687 s\n",
      "  Validation Found 50646 of 54504, added 1849 (eff 92.92%) (0.185 FP/event)\n"
     ]
    },
    {
     "data": {
      "application/vnd.jupyter.widget-view+json": {
       "model_id": "",
       "version_major": 2,
       "version_minor": 0
      },
      "text/plain": [
       "HBox(children=(FloatProgress(value=0.0, description='Training', layout=Layout(flex='2'), max=1250.0, style=Pro…"
      ]
     },
     "metadata": {},
     "output_type": "display_data"
    },
    {
     "name": "stdout",
     "output_type": "stream",
     "text": [
      "Epoch 406: train=8.56322, val=8.59361, took 29.688 s\n",
      "  Validation Found 50599 of 54504, added 1601 (eff 92.84%) (0.16 FP/event)\n"
     ]
    },
    {
     "data": {
      "application/vnd.jupyter.widget-view+json": {
       "model_id": "",
       "version_major": 2,
       "version_minor": 0
      },
      "text/plain": [
       "HBox(children=(FloatProgress(value=0.0, description='Training', layout=Layout(flex='2'), max=1250.0, style=Pro…"
      ]
     },
     "metadata": {},
     "output_type": "display_data"
    },
    {
     "name": "stdout",
     "output_type": "stream",
     "text": [
      "Epoch 407: train=8.55157, val=8.52177, took 29.785 s\n",
      "  Validation Found 50704 of 54504, added 1707 (eff 93.03%) (0.171 FP/event)\n"
     ]
    },
    {
     "data": {
      "application/vnd.jupyter.widget-view+json": {
       "model_id": "",
       "version_major": 2,
       "version_minor": 0
      },
      "text/plain": [
       "HBox(children=(FloatProgress(value=0.0, description='Training', layout=Layout(flex='2'), max=1250.0, style=Pro…"
      ]
     },
     "metadata": {},
     "output_type": "display_data"
    },
    {
     "name": "stdout",
     "output_type": "stream",
     "text": [
      "Epoch 408: train=8.54743, val=8.63116, took 29.713 s\n",
      "  Validation Found 50696 of 54504, added 1748 (eff 93.01%) (0.175 FP/event)\n"
     ]
    },
    {
     "data": {
      "application/vnd.jupyter.widget-view+json": {
       "model_id": "",
       "version_major": 2,
       "version_minor": 0
      },
      "text/plain": [
       "HBox(children=(FloatProgress(value=0.0, description='Training', layout=Layout(flex='2'), max=1250.0, style=Pro…"
      ]
     },
     "metadata": {},
     "output_type": "display_data"
    },
    {
     "name": "stdout",
     "output_type": "stream",
     "text": [
      "Epoch 409: train=8.55064, val=8.54909, took 29.747 s\n",
      "  Validation Found 50640 of 54504, added 1707 (eff 92.91%) (0.171 FP/event)\n"
     ]
    },
    {
     "data": {
      "application/vnd.jupyter.widget-view+json": {
       "model_id": "",
       "version_major": 2,
       "version_minor": 0
      },
      "text/plain": [
       "HBox(children=(FloatProgress(value=0.0, description='Training', layout=Layout(flex='2'), max=1250.0, style=Pro…"
      ]
     },
     "metadata": {},
     "output_type": "display_data"
    },
    {
     "name": "stdout",
     "output_type": "stream",
     "text": [
      "Epoch 410: train=8.56173, val=8.65037, took 29.683 s\n",
      "  Validation Found 50496 of 54504, added 1606 (eff 92.65%) (0.161 FP/event)\n"
     ]
    },
    {
     "data": {
      "application/vnd.jupyter.widget-view+json": {
       "model_id": "",
       "version_major": 2,
       "version_minor": 0
      },
      "text/plain": [
       "HBox(children=(FloatProgress(value=0.0, description='Training', layout=Layout(flex='2'), max=1250.0, style=Pro…"
      ]
     },
     "metadata": {},
     "output_type": "display_data"
    },
    {
     "name": "stdout",
     "output_type": "stream",
     "text": [
      "Epoch 411: train=8.5577, val=8.49018, took 29.702 s\n",
      "  Validation Found 50683 of 54504, added 1663 (eff 92.99%) (0.167 FP/event)\n"
     ]
    },
    {
     "data": {
      "application/vnd.jupyter.widget-view+json": {
       "model_id": "",
       "version_major": 2,
       "version_minor": 0
      },
      "text/plain": [
       "HBox(children=(FloatProgress(value=0.0, description='Training', layout=Layout(flex='2'), max=1250.0, style=Pro…"
      ]
     },
     "metadata": {},
     "output_type": "display_data"
    },
    {
     "name": "stdout",
     "output_type": "stream",
     "text": [
      "Epoch 412: train=8.55273, val=8.51213, took 29.68 s\n",
      "  Validation Found 50858 of 54504, added 1958 (eff 93.31%) (0.196 FP/event)\n"
     ]
    },
    {
     "data": {
      "application/vnd.jupyter.widget-view+json": {
       "model_id": "",
       "version_major": 2,
       "version_minor": 0
      },
      "text/plain": [
       "HBox(children=(FloatProgress(value=0.0, description='Training', layout=Layout(flex='2'), max=1250.0, style=Pro…"
      ]
     },
     "metadata": {},
     "output_type": "display_data"
    },
    {
     "name": "stdout",
     "output_type": "stream",
     "text": [
      "Epoch 413: train=8.53917, val=8.59513, took 29.549 s\n",
      "  Validation Found 50557 of 54504, added 1551 (eff 92.76%) (0.155 FP/event)\n"
     ]
    },
    {
     "data": {
      "application/vnd.jupyter.widget-view+json": {
       "model_id": "",
       "version_major": 2,
       "version_minor": 0
      },
      "text/plain": [
       "HBox(children=(FloatProgress(value=0.0, description='Training', layout=Layout(flex='2'), max=1250.0, style=Pro…"
      ]
     },
     "metadata": {},
     "output_type": "display_data"
    },
    {
     "name": "stdout",
     "output_type": "stream",
     "text": [
      "Epoch 414: train=8.54954, val=8.57296, took 29.699 s\n",
      "  Validation Found 50654 of 54504, added 1638 (eff 92.94%) (0.164 FP/event)\n"
     ]
    },
    {
     "data": {
      "application/vnd.jupyter.widget-view+json": {
       "model_id": "",
       "version_major": 2,
       "version_minor": 0
      },
      "text/plain": [
       "HBox(children=(FloatProgress(value=0.0, description='Training', layout=Layout(flex='2'), max=1250.0, style=Pro…"
      ]
     },
     "metadata": {},
     "output_type": "display_data"
    },
    {
     "name": "stdout",
     "output_type": "stream",
     "text": [
      "Epoch 415: train=8.54724, val=8.58644, took 29.653 s\n",
      "  Validation Found 50715 of 54504, added 1753 (eff 93.05%) (0.176 FP/event)\n"
     ]
    },
    {
     "data": {
      "application/vnd.jupyter.widget-view+json": {
       "model_id": "",
       "version_major": 2,
       "version_minor": 0
      },
      "text/plain": [
       "HBox(children=(FloatProgress(value=0.0, description='Training', layout=Layout(flex='2'), max=1250.0, style=Pro…"
      ]
     },
     "metadata": {},
     "output_type": "display_data"
    },
    {
     "name": "stdout",
     "output_type": "stream",
     "text": [
      "Epoch 416: train=8.54997, val=8.57995, took 29.651 s\n",
      "  Validation Found 50620 of 54504, added 1627 (eff 92.87%) (0.163 FP/event)\n"
     ]
    },
    {
     "data": {
      "application/vnd.jupyter.widget-view+json": {
       "model_id": "",
       "version_major": 2,
       "version_minor": 0
      },
      "text/plain": [
       "HBox(children=(FloatProgress(value=0.0, description='Training', layout=Layout(flex='2'), max=1250.0, style=Pro…"
      ]
     },
     "metadata": {},
     "output_type": "display_data"
    },
    {
     "name": "stdout",
     "output_type": "stream",
     "text": [
      "Epoch 417: train=8.54441, val=8.53274, took 29.655 s\n",
      "  Validation Found 50890 of 54504, added 2130 (eff 93.37%) (0.213 FP/event)\n"
     ]
    },
    {
     "data": {
      "application/vnd.jupyter.widget-view+json": {
       "model_id": "",
       "version_major": 2,
       "version_minor": 0
      },
      "text/plain": [
       "HBox(children=(FloatProgress(value=0.0, description='Training', layout=Layout(flex='2'), max=1250.0, style=Pro…"
      ]
     },
     "metadata": {},
     "output_type": "display_data"
    },
    {
     "name": "stdout",
     "output_type": "stream",
     "text": [
      "Epoch 418: train=8.55339, val=8.5849, took 29.664 s\n",
      "  Validation Found 50533 of 54504, added 1524 (eff 92.71%) (0.153 FP/event)\n"
     ]
    },
    {
     "data": {
      "application/vnd.jupyter.widget-view+json": {
       "model_id": "",
       "version_major": 2,
       "version_minor": 0
      },
      "text/plain": [
       "HBox(children=(FloatProgress(value=0.0, description='Training', layout=Layout(flex='2'), max=1250.0, style=Pro…"
      ]
     },
     "metadata": {},
     "output_type": "display_data"
    },
    {
     "name": "stdout",
     "output_type": "stream",
     "text": [
      "Epoch 419: train=8.53995, val=8.54491, took 29.662 s\n",
      "  Validation Found 50947 of 54504, added 2240 (eff 93.47%) (0.224 FP/event)\n"
     ]
    },
    {
     "data": {
      "application/vnd.jupyter.widget-view+json": {
       "model_id": "",
       "version_major": 2,
       "version_minor": 0
      },
      "text/plain": [
       "HBox(children=(FloatProgress(value=0.0, description='Training', layout=Layout(flex='2'), max=1250.0, style=Pro…"
      ]
     },
     "metadata": {},
     "output_type": "display_data"
    },
    {
     "name": "stdout",
     "output_type": "stream",
     "text": [
      "Epoch 420: train=8.54728, val=8.59277, took 29.805 s\n",
      "  Validation Found 50764 of 54504, added 1811 (eff 93.14%) (0.181 FP/event)\n"
     ]
    },
    {
     "data": {
      "application/vnd.jupyter.widget-view+json": {
       "model_id": "",
       "version_major": 2,
       "version_minor": 0
      },
      "text/plain": [
       "HBox(children=(FloatProgress(value=0.0, description='Training', layout=Layout(flex='2'), max=1250.0, style=Pro…"
      ]
     },
     "metadata": {},
     "output_type": "display_data"
    },
    {
     "name": "stdout",
     "output_type": "stream",
     "text": [
      "Epoch 421: train=8.55085, val=8.56968, took 30.051 s\n",
      "  Validation Found 50626 of 54504, added 1653 (eff 92.88%) (0.166 FP/event)\n"
     ]
    },
    {
     "data": {
      "application/vnd.jupyter.widget-view+json": {
       "model_id": "",
       "version_major": 2,
       "version_minor": 0
      },
      "text/plain": [
       "HBox(children=(FloatProgress(value=0.0, description='Training', layout=Layout(flex='2'), max=1250.0, style=Pro…"
      ]
     },
     "metadata": {},
     "output_type": "display_data"
    },
    {
     "name": "stdout",
     "output_type": "stream",
     "text": [
      "Epoch 422: train=8.54549, val=8.68288, took 29.946 s\n",
      "  Validation Found 50543 of 54504, added 1551 (eff 92.73%) (0.155 FP/event)\n"
     ]
    },
    {
     "data": {
      "application/vnd.jupyter.widget-view+json": {
       "model_id": "",
       "version_major": 2,
       "version_minor": 0
      },
      "text/plain": [
       "HBox(children=(FloatProgress(value=0.0, description='Training', layout=Layout(flex='2'), max=1250.0, style=Pro…"
      ]
     },
     "metadata": {},
     "output_type": "display_data"
    },
    {
     "name": "stdout",
     "output_type": "stream",
     "text": [
      "Epoch 423: train=8.54445, val=8.60649, took 29.88 s\n",
      "  Validation Found 50572 of 54504, added 1590 (eff 92.79%) (0.159 FP/event)\n"
     ]
    },
    {
     "data": {
      "application/vnd.jupyter.widget-view+json": {
       "model_id": "",
       "version_major": 2,
       "version_minor": 0
      },
      "text/plain": [
       "HBox(children=(FloatProgress(value=0.0, description='Training', layout=Layout(flex='2'), max=1250.0, style=Pro…"
      ]
     },
     "metadata": {},
     "output_type": "display_data"
    },
    {
     "name": "stdout",
     "output_type": "stream",
     "text": [
      "Epoch 424: train=8.55749, val=8.61872, took 29.864 s\n",
      "  Validation Found 50554 of 54504, added 1672 (eff 92.75%) (0.167 FP/event)\n"
     ]
    },
    {
     "data": {
      "application/vnd.jupyter.widget-view+json": {
       "model_id": "",
       "version_major": 2,
       "version_minor": 0
      },
      "text/plain": [
       "HBox(children=(FloatProgress(value=0.0, description='Training', layout=Layout(flex='2'), max=1250.0, style=Pro…"
      ]
     },
     "metadata": {},
     "output_type": "display_data"
    },
    {
     "name": "stdout",
     "output_type": "stream",
     "text": [
      "Epoch 425: train=8.54493, val=8.59649, took 29.579 s\n",
      "  Validation Found 50567 of 54504, added 1604 (eff 92.78%) (0.161 FP/event)\n"
     ]
    },
    {
     "data": {
      "application/vnd.jupyter.widget-view+json": {
       "model_id": "",
       "version_major": 2,
       "version_minor": 0
      },
      "text/plain": [
       "HBox(children=(FloatProgress(value=0.0, description='Training', layout=Layout(flex='2'), max=1250.0, style=Pro…"
      ]
     },
     "metadata": {},
     "output_type": "display_data"
    },
    {
     "name": "stdout",
     "output_type": "stream",
     "text": [
      "Epoch 426: train=8.5403, val=8.54059, took 29.609 s\n",
      "  Validation Found 50799 of 54504, added 1942 (eff 93.20%) (0.194 FP/event)\n"
     ]
    },
    {
     "data": {
      "application/vnd.jupyter.widget-view+json": {
       "model_id": "623caf6192084a8da3ffb1beb84e4955",
       "version_major": 2,
       "version_minor": 0
      },
      "text/plain": [
       "HBox(children=(FloatProgress(value=0.0, description='Training', layout=Layout(flex='2'), max=1250.0, style=Pro…"
      ]
     },
     "metadata": {},
     "output_type": "display_data"
    }
   ],
   "source": [
    "print('for model: ', model)   \n",
    "run_name = 'ACNN B'\n",
    "# Create an mlflow run\n",
    "with mlflow.start_run(run_name=run_name) as run:\n",
    "    # Log parameters of the model\n",
    "    for key, value in vars(args).items():\n",
    "        print(key, value)\n",
    "        mlflow.log_param(key, value)\n",
    "    \n",
    "    # Log parameter count in the model\n",
    "    mlflow.log_param('Parameters', count_parameters(model))\n",
    "    \n",
    "    # Begin run\n",
    "    for result in trainNet(model, optimizer, loss,\n",
    "                            train_loader, val_loader,\n",
    "                            args.epochs+args.epoch_start, epoch_start=args.epoch_start,\n",
    "                            notebook=True, device=device):\n",
    "\n",
    "        result = result._asdict()\n",
    "        results = results.append(pd.Series(result), ignore_index=True)\n",
    "    \n",
    "        xs = results.index\n",
    "    \n",
    "        # Update the plot above\n",
    "        lines['train'].set_data(results.index,results.cost)\n",
    "        lines['val'].set_data(results.index,results.val)\n",
    "    \n",
    "        #filter first cost epoch (can be really large)\n",
    "        max_cost = max(max(results.cost if len(results.cost)<2 else results.cost[1:]), max(results.val))\n",
    "        min_cost = min(min(results.cost), min(results.val))\n",
    "    \n",
    "        # The plot limits need updating too\n",
    "        ax.set_ylim(min_cost*.9, max_cost*1.1)  \n",
    "        ax.set_xlim(-.5, len(results.cost) - .5)\n",
    "    \n",
    "        replace_in_ax(lax, lines['eff'], xs, results['eff_val'].apply(lambda x: x.eff_rate))\n",
    "        replace_in_ax(tax, lines['fp'], xs, results['eff_val'].apply(lambda x: x.fp_rate))\n",
    "    \n",
    "        # Redraw the figure\n",
    "        fig.canvas.draw()\n",
    "            \n",
    "        ## MLFLOW ##\n",
    "        # Log metrics\n",
    "        mlflow.log_metric('Efficiency', result['eff_val'].eff_rate, result['epoch'])\n",
    "        mlflow.log_metric('False Positive Rate',  result['eff_val'].fp_rate, result['epoch'])\n",
    "        mlflow.log_metric('Validation Loss',  result['val'], result['epoch'])\n",
    "        mlflow.log_metric('Training Loss',  result['cost'], result['epoch'])\n",
    "            \n",
    "        # Log tags\n",
    "#        mlflow.set_tag('Optimizer', 'Adam')\n",
    "#        mlflow.set_tag('Kernel size', 'Mixed')\n",
    "#        mlflow.set_tag('Skip connections', '4')\n",
    "#        mlflow.set_tag('Activation', 'Softplus')\n",
    "#        mlflow.set_tag('Mid Activation', 'Relu')\n",
    "        mlflow.set_tag('Extra Data', 'False')\n",
    "\n",
    "        # Save model state dictionary, optimizer state dictionary, and epoch number\n",
    "        torch.save({\n",
    "            'model':model.state_dict(),\n",
    "            'optimizer':optimizer.state_dict(),\n",
    "            'epoch':args.epochs+result['epoch']\n",
    "            }, 'run_stats.pyt')\n",
    "        # Save the run stats into mlflow\n",
    "        mlflow.log_artifact('run_stats.pyt')\n",
    "            \n",
    "        # Save a diagram of the architecture\n",
    "#        HL.transforms.Fold(\"Conv\", \"Conv\"),\n",
    "#        HL.build_graph(model, torch.zeros([args.batch_size, 1, 4000]).to(device)).save('architecture', format='png')\n",
    "#        mlflow.log_artifact('architecture.png')\n",
    "        \n",
    "        # log the code for the model architecture\n",
    "#        mlflow.log_artifact('architecture.txt')\n",
    "        \n",
    "    dual_train_plots(results.index,\n",
    "                 results.cost, results.val, \n",
    "                 results['eff_val'].apply(lambda x: x.eff_rate),\n",
    "                 results['eff_val'].apply(lambda x: x.fp_rate))\n",
    "    # save plot\n",
    "    plt.tight_layout()\n",
    "    plt.savefig('plot.png')\n",
    "    mlflow.log_artifact('plot.png')"
   ]
  },
  {
   "cell_type": "code",
   "execution_count": null,
   "metadata": {},
   "outputs": [],
   "source": [
    "##quit()"
   ]
  }
 ],
 "metadata": {
  "kernelspec": {
   "display_name": "goofit-june2020",
   "language": "python",
   "name": "goofit-june2020"
  },
  "language_info": {
   "codemirror_mode": {
    "name": "ipython",
    "version": 3
   },
   "file_extension": ".py",
   "mimetype": "text/x-python",
   "name": "python",
   "nbconvert_exporter": "python",
   "pygments_lexer": "ipython3",
   "version": "3.7.6"
  }
 },
 "nbformat": 4,
 "nbformat_minor": 2
}
