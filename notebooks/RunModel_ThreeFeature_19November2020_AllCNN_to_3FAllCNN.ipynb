{
 "cells": [
  {
   "cell_type": "code",
   "execution_count": 1,
   "metadata": {},
   "outputs": [],
   "source": [
    "##%matplotlib widget\n",
    "## with %matplotlib notebook: seems to require ipympl as part of environment, either\n",
    "## part of the conda environment or \"pip install ipympl\"\n",
    "## otherwise, does not show ANY plots in notebook, plt.savefig() works\n",
    "%matplotlib notebook  \n",
    "##%matplotlib inline    ## --plt.savefig()  works, but re-sizing does NOT"
   ]
  },
  {
   "cell_type": "markdown",
   "metadata": {},
   "source": [
    "This notebook is a short demo to illustrate execution.   For odd historical reasons, it uses \"toy Monte Carlo\" (simulated data)for \"training\" and \"full LHCB MC\" for validation.\n",
    "\n",
    "The network architecture is a \"simple\" model that uses 1 input channel (the KDE [kernel density estimator] but from the track parameters) feeding 5 convolutional layers followed by a fully connected layer.\n",
    "\n",
    "In today's version, the network will start with weights from a previously trained version.\n",
    " "
   ]
  },
  {
   "cell_type": "markdown",
   "metadata": {},
   "source": [
    "Check the current GPU usage. Please try to be nice!"
   ]
  },
  {
   "cell_type": "code",
   "execution_count": 2,
   "metadata": {
    "scrolled": true
   },
   "outputs": [
    {
     "name": "stdout",
     "output_type": "stream",
     "text": [
      "Sun Jan 17 14:06:25 2021       \r\n",
      "+-----------------------------------------------------------------------------+\r\n",
      "| NVIDIA-SMI 440.64.00    Driver Version: 440.64.00    CUDA Version: 10.2     |\r\n",
      "|-------------------------------+----------------------+----------------------+\r\n",
      "| GPU  Name        Persistence-M| Bus-Id        Disp.A | Volatile Uncorr. ECC |\r\n",
      "| Fan  Temp  Perf  Pwr:Usage/Cap|         Memory-Usage | GPU-Util  Compute M. |\r\n",
      "|===============================+======================+======================|\r\n",
      "|   0  TITAN V             Off  | 00000000:03:00.0 Off |                  N/A |\r\n",
      "| 28%   32C    P2    24W / 250W |   1107MiB / 12066MiB |      0%      Default |\r\n",
      "+-------------------------------+----------------------+----------------------+\r\n",
      "|   1  Tesla P100-PCIE...  Off  | 00000000:83:00.0 Off |                    0 |\r\n",
      "| N/A   31C    P0    27W / 250W |     10MiB / 16280MiB |      0%      Default |\r\n",
      "+-------------------------------+----------------------+----------------------+\r\n",
      "|   2  TITAN V             Off  | 00000000:84:00.0 Off |                  N/A |\r\n",
      "| 28%   35C    P8    25W / 250W |     12MiB / 12066MiB |      0%      Default |\r\n",
      "+-------------------------------+----------------------+----------------------+\r\n",
      "                                                                               \r\n",
      "+-----------------------------------------------------------------------------+\r\n",
      "| Processes:                                                       GPU Memory |\r\n",
      "|  GPU       PID   Type   Process name                             Usage      |\r\n",
      "|=============================================================================|\r\n",
      "|    0     30329      C   ...a/conda/envs/goofit-june2020/bin/python  1095MiB |\r\n",
      "+-----------------------------------------------------------------------------+\r\n"
     ]
    }
   ],
   "source": [
    "!nvidia-smi"
   ]
  },
  {
   "cell_type": "markdown",
   "metadata": {},
   "source": [
    "> **WARNING**: The card numbers here are *not* the same as in CUDA. You have been warned."
   ]
  },
  {
   "cell_type": "markdown",
   "metadata": {},
   "source": [
    "## Imports"
   ]
  },
  {
   "cell_type": "code",
   "execution_count": 3,
   "metadata": {
    "scrolled": false
   },
   "outputs": [],
   "source": [
    "import matplotlib.pyplot as plt\n",
    "import numpy as np\n",
    "import time\n",
    "import torch\n",
    "import pandas as pd\n",
    "import mlflow\n",
    "\n",
    "# Python 3 standard library\n",
    "from pathlib import Path\n",
    "\n",
    "from torchsummary import summary\n",
    "\n",
    "'''\n",
    "HELPER FUNCTIONS\n",
    "'''\n",
    "# From model/collectdata.py\n",
    "from model.collectdata_mdsA import collect_data\n",
    "\n",
    "# From model/loss.py\n",
    "##from loss import Loss\n",
    "from model.alt_loss_A import Loss\n",
    "\n",
    "# From model/training.py\n",
    "from model.training import trainNet, select_gpu, Results\n",
    "\n",
    "# From model/models.py\n",
    "##  will start with model from TwoFeatures_CNN6Layer_A in the first instance\n",
    "##  see relevant cell below\n",
    "\n",
    "from model.models_mjp_19November20 import ThreeFeature_6Layer_XYPretrain_A as ModelA\n",
    "from model.models_mjp_19November20 import ThreeFeature_6Layer_XYPretrain_E as ModelE\n",
    "from model.models_mjp_19November20 import ThreeFeature_8Layer_XYPretrain_W as ModelW\n",
    "from model.models_mjp_26December20 import ThreeFeature_10Layer_XYPretrain_X as ModelX\n",
    "from model.models_mjp_26December20 import ThreeFeature_8Layer_XYPretrain_Y as ModelY\n",
    "\n",
    "# From model/utilities.py\n",
    "from model.utilities import load_full_state, count_parameters, Params\n",
    "\n",
    "from model.plots import dual_train_plots, replace_in_ax\n",
    "\n",
    "## adds image of model architecture\n",
    "import hiddenlayer as HL"
   ]
  },
  {
   "cell_type": "markdown",
   "metadata": {},
   "source": [
    "Set up Torch device configuration. All tensors and model parameters need to know where to be put.\n",
    "This takes a BUS ID number: The BUS ID is the same as the listing at the top of this script."
   ]
  },
  {
   "cell_type": "code",
   "execution_count": 4,
   "metadata": {},
   "outputs": [
    {
     "name": "stdout",
     "output_type": "stream",
     "text": [
      "1 available GPUs (initially using device 0):\n",
      "  0 TITAN V\n"
     ]
    }
   ],
   "source": [
    "device = select_gpu(0)"
   ]
  },
  {
   "cell_type": "markdown",
   "metadata": {},
   "source": [
    "### Set up local parameters"
   ]
  },
  {
   "cell_type": "code",
   "execution_count": 5,
   "metadata": {},
   "outputs": [],
   "source": [
    "# params order - batch size, epochs, lr, epoch_start (which is usually set to 0)\n",
    "args = Params(128, 500, 1e-4, 1420)"
   ]
  },
  {
   "cell_type": "markdown",
   "metadata": {},
   "source": [
    "## Loading data\n",
    "\n",
    "Load the dataset, split into parts, then move to device (see `collectdata.py` in the `../model` directory)"
   ]
  },
  {
   "cell_type": "code",
   "execution_count": 6,
   "metadata": {
    "scrolled": true
   },
   "outputs": [
    {
     "name": "stdout",
     "output_type": "stream",
     "text": [
      "Loading data...\n",
      "Loaded /share/lazy/sokoloff/ML-data_A/Aug14_80K_train.h5 in 22.29 s\n",
      "Loaded /share/lazy/sokoloff/ML-data_AA/Oct03_80K_train.h5 in 22.92 s\n",
      "Constructing 160000 event dataset took 1.037 s\n",
      "Loading data...\n",
      "Loaded /share/lazy/sokoloff/ML-data_AA/Oct03_20K_val.h5 in 5.091 s\n",
      "Constructing 9984 event dataset took 0.04772 s\n"
     ]
    }
   ],
   "source": [
    "## newer vernacular\n",
    "## Training dataset. You can put as many files here as desired.\n",
    "\n",
    "## in this DEMO example we use only one 80K training set -- the model starts with well-trained weights,\n",
    "## and using a smaller training set reduces both the time to load the data and the time to train an epoch\n",
    "##  set the option load_XandXsq = True to use both DKE and KDE^2 as input features\n",
    "train_loader = collect_data('/share/lazy/sokoloff/ML-data_A/Aug14_80K_train.h5',\n",
    "                             '/share/lazy/sokoloff/ML-data_AA/Oct03_80K_train.h5',\n",
    "#                             '/share/lazy/sokoloff/ML-data_AA/Oct03_40K_train.h5',\n",
    "#                             '/share/lazy/will/ML_mdsA/June30_2020_80k_1.h5',\n",
    "#                             '/share/lazy/will/ML_mdsA/June30_2020_80k_3.h5',\n",
    "#                             '/share/lazy/will/ML_mdsA/June30_2020_80k_4.h5',\n",
    "#                             '/share/lazy/will/ML_mdsA/June30_2020_80k_5.h5',\n",
    "#                             '/share/lazy/will/ML_mdsA/June30_2020_80k_6.h5',\n",
    "#                             '/share/lazy/will/ML_mdsA/June30_2020_80k_7.h5',\n",
    "#                             '/share/lazy/will/ML_mdsA/June30_2020_80k_8.h5',\n",
    "#                             '/share/lazy/will/ML_mdsA/June30_2020_80k_9.h5',\n",
    "                            #'/share/lazy/sokoloff/ML-data_AA/Oct03_80K2_train.h5',\n",
    "                             batch_size=args.batch_size,\n",
    "## if we are using a larger dataset (240K events, with the datasets above, and 11 GB  of GPU memory),\n",
    "## not the dataset will overflow the GPU memory; device=device will allow the data to move back\n",
    "## and forth between the CPU and GPU memory. While this allows use of a larger dataset, it slows\n",
    "## down performance by about 10%.  So comment out when not needed.\n",
    "## \n",
    "                            #device=device,\n",
    "                            masking=True, shuffle=True,\n",
    "                            load_XandXsq=True,\n",
    "                            load_xy=True)\n",
    "\n",
    "# Validation dataset. You can slice to reduce the size.\n",
    "## dataAA -> /share/lazy/sokoloff/ML-data_AA/\n",
    "val_loader = collect_data('/share/lazy/sokoloff/ML-data_AA/Oct03_20K_val.h5',\n",
    "## mds val_loader = collect_data('dataAA/HLT1CPU_1kevts_val.h5',\n",
    "\n",
    "                          batch_size=args.batch_size,\n",
    "                          slice=slice(256 * 39),\n",
    "                          #device=device,\n",
    "                          masking=True, shuffle=False,\n",
    "                          load_XandXsq=True,\n",
    "                          load_xy=True)"
   ]
  },
  {
   "cell_type": "markdown",
   "metadata": {},
   "source": [
    "# Preparing the model"
   ]
  },
  {
   "cell_type": "markdown",
   "metadata": {},
   "source": [
    "Prepare a model, use multiple GPUs if they are VISIBLE, and move the model to the device."
   ]
  },
  {
   "cell_type": "code",
   "execution_count": 7,
   "metadata": {
    "scrolled": true
   },
   "outputs": [
    {
     "name": "stderr",
     "output_type": "stream",
     "text": [
      "WARNING:root:Malformed experiment 'ML'. Detailed error Yaml file '/share/lazy/pv-finder_model_repo/ML/meta.yaml' does not exist.\n",
      "Traceback (most recent call last):\n",
      "  File \"/home/michael24peters/.local/lib/python3.7/site-packages/mlflow/store/tracking/file_store.py\", line 197, in list_experiments\n",
      "    experiment = self._get_experiment(exp_id, view_type)\n",
      "  File \"/home/michael24peters/.local/lib/python3.7/site-packages/mlflow/store/tracking/file_store.py\", line 260, in _get_experiment\n",
      "    meta = read_yaml(experiment_dir, FileStore.META_DATA_FILE_NAME)\n",
      "  File \"/home/michael24peters/.local/lib/python3.7/site-packages/mlflow/utils/file_utils.py\", line 167, in read_yaml\n",
      "    raise MissingConfigException(\"Yaml file '%s' does not exist.\" % file_path)\n",
      "mlflow.exceptions.MissingConfigException: Yaml file '/share/lazy/pv-finder_model_repo/ML/meta.yaml' does not exist.\n"
     ]
    }
   ],
   "source": [
    "model = ModelY()\n",
    "\n",
    "#summary(model.to(device), (1, 4000))\n",
    "\n",
    "mlflow.tracking.set_tracking_uri('file:/share/lazy/pv-finder_model_repo')\n",
    "mlflow.set_experiment('Four Feature AllCNN')"
   ]
  },
  {
   "cell_type": "code",
   "execution_count": 8,
   "metadata": {
    "scrolled": true
   },
   "outputs": [
    {
     "name": "stdout",
     "output_type": "stream",
     "text": [
      "Let's use 1 GPUs!\n"
     ]
    }
   ],
   "source": [
    "print(\"Let's use\", torch.cuda.device_count(), \"GPUs!\")\n",
    "if torch.cuda.device_count() > 1:\n",
    "    model = torch.nn.DataParallel(model)"
   ]
  },
  {
   "cell_type": "markdown",
   "metadata": {},
   "source": [
    "Let's move the model's weight matricies to the GPU:"
   ]
  },
  {
   "cell_type": "code",
   "execution_count": 9,
   "metadata": {},
   "outputs": [
    {
     "name": "stdout",
     "output_type": "stream",
     "text": [
      "we also froze 16 weights\n",
      "Of the 32.0 parameter layers to update in the current model, 28.0 were loaded\n"
     ]
    }
   ],
   "source": [
    "##  mds 200121 loss = Loss(epsilon=1e-5,coefficient=1.0)\n",
    "loss = Loss(epsilon=1e-5,coefficient=2.5)\n",
    "optimizer = torch.optim.Adam(model.parameters(), lr=args.lr)\n",
    "\n",
    "##  use the first five layers from a pre-existing model\n",
    "##  see example at https://discuss.pytorch.org/t/how-to-load-part-of-pre-trained-model/1113\n",
    "##   ML -> /share/lazy/sokoloff/ML\n",
    "\n",
    "#path = 'run_stats.pyt'\n",
    "#load_full_state(model, optimizer, path)\n",
    "# For other pretrained models, go to MLFlow and find the path for \"run_stats.pyt\"\n",
    "pretrained_dict = '/share/lazy/pv-finder_model_repo/12/40f69fa2f4ba437f8d1a01da8ec2e016/artifacts/run_stats.pyt'\n",
    "load_full_state(model, optimizer, pretrained_dict, freeze_weights=True)"
   ]
  },
  {
   "cell_type": "markdown",
   "metadata": {},
   "source": [
    "Let's move the model's weight matricies to the GPU:"
   ]
  },
  {
   "cell_type": "code",
   "execution_count": 10,
   "metadata": {
    "scrolled": true
   },
   "outputs": [
    {
     "data": {
      "text/plain": [
       "ThreeFeature_8Layer_XYPretrain_Y(\n",
       "  (conv1): Conv1d(1, 20, kernel_size=(25,), stride=(1,), padding=(12,))\n",
       "  (conv2): Conv1d(20, 10, kernel_size=(15,), stride=(1,), padding=(7,))\n",
       "  (conv3): Conv1d(30, 10, kernel_size=(15,), stride=(1,), padding=(7,))\n",
       "  (conv4): Conv1d(40, 10, kernel_size=(15,), stride=(1,), padding=(7,))\n",
       "  (conv5): Conv1d(50, 10, kernel_size=(15,), stride=(1,), padding=(7,))\n",
       "  (conv6): Conv1d(60, 10, kernel_size=(15,), stride=(1,), padding=(7,))\n",
       "  (conv7): Conv1d(70, 1, kernel_size=(5,), stride=(1,), padding=(2,))\n",
       "  (finalFilter): Conv1d(71, 1, kernel_size=(91,), stride=(1,), padding=(45,))\n",
       "  (ppConv1): Conv1d(2, 20, kernel_size=(25,), stride=(1,), padding=(12,))\n",
       "  (ppConv2): Conv1d(20, 10, kernel_size=(15,), stride=(1,), padding=(7,))\n",
       "  (ppConv3): Conv1d(10, 1, kernel_size=(15,), stride=(1,), padding=(7,))\n",
       "  (ppFC): Linear(in_features=4000, out_features=4000, bias=True)\n",
       "  (conv1dropout): Dropout(p=0.15, inplace=False)\n",
       "  (conv2dropout): Dropout(p=0.15, inplace=False)\n",
       "  (conv3dropout): Dropout(p=0.15, inplace=False)\n",
       "  (conv4dropout): Dropout(p=0.15, inplace=False)\n",
       "  (conv5dropout): Dropout(p=0.15, inplace=False)\n",
       "  (conv6dropout): Dropout(p=0.15, inplace=False)\n",
       "  (conv7dropout): Dropout(p=0.15, inplace=False)\n",
       "  (bn1): BatchNorm1d(20, eps=1e-05, momentum=0.1, affine=True, track_running_stats=True)\n",
       "  (bn2): BatchNorm1d(10, eps=1e-05, momentum=0.1, affine=True, track_running_stats=True)\n",
       "  (bn3): BatchNorm1d(10, eps=1e-05, momentum=0.1, affine=True, track_running_stats=True)\n",
       "  (bn4): BatchNorm1d(10, eps=1e-05, momentum=0.1, affine=True, track_running_stats=True)\n",
       "  (bn5): BatchNorm1d(10, eps=1e-05, momentum=0.1, affine=True, track_running_stats=True)\n",
       "  (bn6): BatchNorm1d(10, eps=1e-05, momentum=0.1, affine=True, track_running_stats=True)\n",
       "  (bn7): BatchNorm1d(1, eps=1e-05, momentum=0.1, affine=True, track_running_stats=True)\n",
       "  (bnFF): BatchNorm1d(1, eps=1e-05, momentum=0.1, affine=True, track_running_stats=True)\n",
       ")"
      ]
     },
     "execution_count": 10,
     "metadata": {},
     "output_type": "execute_result"
    }
   ],
   "source": [
    "model.to(device)"
   ]
  },
  {
   "cell_type": "markdown",
   "metadata": {},
   "source": [
    "## Train \n",
    "\n",
    "\n",
    "\n",
    "The body of this loop runs once per epoch. Results is a named tuple of values (loss per epoch for training and validation, time each). Start by setting up a plot first:"
   ]
  },
  {
   "cell_type": "code",
   "execution_count": 11,
   "metadata": {},
   "outputs": [
    {
     "data": {
      "application/javascript": [
       "/* Put everything inside the global mpl namespace */\n",
       "window.mpl = {};\n",
       "\n",
       "\n",
       "mpl.get_websocket_type = function() {\n",
       "    if (typeof(WebSocket) !== 'undefined') {\n",
       "        return WebSocket;\n",
       "    } else if (typeof(MozWebSocket) !== 'undefined') {\n",
       "        return MozWebSocket;\n",
       "    } else {\n",
       "        alert('Your browser does not have WebSocket support. ' +\n",
       "              'Please try Chrome, Safari or Firefox ≥ 6. ' +\n",
       "              'Firefox 4 and 5 are also supported but you ' +\n",
       "              'have to enable WebSockets in about:config.');\n",
       "    };\n",
       "}\n",
       "\n",
       "mpl.figure = function(figure_id, websocket, ondownload, parent_element) {\n",
       "    this.id = figure_id;\n",
       "\n",
       "    this.ws = websocket;\n",
       "\n",
       "    this.supports_binary = (this.ws.binaryType != undefined);\n",
       "\n",
       "    if (!this.supports_binary) {\n",
       "        var warnings = document.getElementById(\"mpl-warnings\");\n",
       "        if (warnings) {\n",
       "            warnings.style.display = 'block';\n",
       "            warnings.textContent = (\n",
       "                \"This browser does not support binary websocket messages. \" +\n",
       "                    \"Performance may be slow.\");\n",
       "        }\n",
       "    }\n",
       "\n",
       "    this.imageObj = new Image();\n",
       "\n",
       "    this.context = undefined;\n",
       "    this.message = undefined;\n",
       "    this.canvas = undefined;\n",
       "    this.rubberband_canvas = undefined;\n",
       "    this.rubberband_context = undefined;\n",
       "    this.format_dropdown = undefined;\n",
       "\n",
       "    this.image_mode = 'full';\n",
       "\n",
       "    this.root = $('<div/>');\n",
       "    this._root_extra_style(this.root)\n",
       "    this.root.attr('style', 'display: inline-block');\n",
       "\n",
       "    $(parent_element).append(this.root);\n",
       "\n",
       "    this._init_header(this);\n",
       "    this._init_canvas(this);\n",
       "    this._init_toolbar(this);\n",
       "\n",
       "    var fig = this;\n",
       "\n",
       "    this.waiting = false;\n",
       "\n",
       "    this.ws.onopen =  function () {\n",
       "            fig.send_message(\"supports_binary\", {value: fig.supports_binary});\n",
       "            fig.send_message(\"send_image_mode\", {});\n",
       "            if (mpl.ratio != 1) {\n",
       "                fig.send_message(\"set_dpi_ratio\", {'dpi_ratio': mpl.ratio});\n",
       "            }\n",
       "            fig.send_message(\"refresh\", {});\n",
       "        }\n",
       "\n",
       "    this.imageObj.onload = function() {\n",
       "            if (fig.image_mode == 'full') {\n",
       "                // Full images could contain transparency (where diff images\n",
       "                // almost always do), so we need to clear the canvas so that\n",
       "                // there is no ghosting.\n",
       "                fig.context.clearRect(0, 0, fig.canvas.width, fig.canvas.height);\n",
       "            }\n",
       "            fig.context.drawImage(fig.imageObj, 0, 0);\n",
       "        };\n",
       "\n",
       "    this.imageObj.onunload = function() {\n",
       "        fig.ws.close();\n",
       "    }\n",
       "\n",
       "    this.ws.onmessage = this._make_on_message_function(this);\n",
       "\n",
       "    this.ondownload = ondownload;\n",
       "}\n",
       "\n",
       "mpl.figure.prototype._init_header = function() {\n",
       "    var titlebar = $(\n",
       "        '<div class=\"ui-dialog-titlebar ui-widget-header ui-corner-all ' +\n",
       "        'ui-helper-clearfix\"/>');\n",
       "    var titletext = $(\n",
       "        '<div class=\"ui-dialog-title\" style=\"width: 100%; ' +\n",
       "        'text-align: center; padding: 3px;\"/>');\n",
       "    titlebar.append(titletext)\n",
       "    this.root.append(titlebar);\n",
       "    this.header = titletext[0];\n",
       "}\n",
       "\n",
       "\n",
       "\n",
       "mpl.figure.prototype._canvas_extra_style = function(canvas_div) {\n",
       "\n",
       "}\n",
       "\n",
       "\n",
       "mpl.figure.prototype._root_extra_style = function(canvas_div) {\n",
       "\n",
       "}\n",
       "\n",
       "mpl.figure.prototype._init_canvas = function() {\n",
       "    var fig = this;\n",
       "\n",
       "    var canvas_div = $('<div/>');\n",
       "\n",
       "    canvas_div.attr('style', 'position: relative; clear: both; outline: 0');\n",
       "\n",
       "    function canvas_keyboard_event(event) {\n",
       "        return fig.key_event(event, event['data']);\n",
       "    }\n",
       "\n",
       "    canvas_div.keydown('key_press', canvas_keyboard_event);\n",
       "    canvas_div.keyup('key_release', canvas_keyboard_event);\n",
       "    this.canvas_div = canvas_div\n",
       "    this._canvas_extra_style(canvas_div)\n",
       "    this.root.append(canvas_div);\n",
       "\n",
       "    var canvas = $('<canvas/>');\n",
       "    canvas.addClass('mpl-canvas');\n",
       "    canvas.attr('style', \"left: 0; top: 0; z-index: 0; outline: 0\")\n",
       "\n",
       "    this.canvas = canvas[0];\n",
       "    this.context = canvas[0].getContext(\"2d\");\n",
       "\n",
       "    var backingStore = this.context.backingStorePixelRatio ||\n",
       "\tthis.context.webkitBackingStorePixelRatio ||\n",
       "\tthis.context.mozBackingStorePixelRatio ||\n",
       "\tthis.context.msBackingStorePixelRatio ||\n",
       "\tthis.context.oBackingStorePixelRatio ||\n",
       "\tthis.context.backingStorePixelRatio || 1;\n",
       "\n",
       "    mpl.ratio = (window.devicePixelRatio || 1) / backingStore;\n",
       "\n",
       "    var rubberband = $('<canvas/>');\n",
       "    rubberband.attr('style', \"position: absolute; left: 0; top: 0; z-index: 1;\")\n",
       "\n",
       "    var pass_mouse_events = true;\n",
       "\n",
       "    canvas_div.resizable({\n",
       "        start: function(event, ui) {\n",
       "            pass_mouse_events = false;\n",
       "        },\n",
       "        resize: function(event, ui) {\n",
       "            fig.request_resize(ui.size.width, ui.size.height);\n",
       "        },\n",
       "        stop: function(event, ui) {\n",
       "            pass_mouse_events = true;\n",
       "            fig.request_resize(ui.size.width, ui.size.height);\n",
       "        },\n",
       "    });\n",
       "\n",
       "    function mouse_event_fn(event) {\n",
       "        if (pass_mouse_events)\n",
       "            return fig.mouse_event(event, event['data']);\n",
       "    }\n",
       "\n",
       "    rubberband.mousedown('button_press', mouse_event_fn);\n",
       "    rubberband.mouseup('button_release', mouse_event_fn);\n",
       "    // Throttle sequential mouse events to 1 every 20ms.\n",
       "    rubberband.mousemove('motion_notify', mouse_event_fn);\n",
       "\n",
       "    rubberband.mouseenter('figure_enter', mouse_event_fn);\n",
       "    rubberband.mouseleave('figure_leave', mouse_event_fn);\n",
       "\n",
       "    canvas_div.on(\"wheel\", function (event) {\n",
       "        event = event.originalEvent;\n",
       "        event['data'] = 'scroll'\n",
       "        if (event.deltaY < 0) {\n",
       "            event.step = 1;\n",
       "        } else {\n",
       "            event.step = -1;\n",
       "        }\n",
       "        mouse_event_fn(event);\n",
       "    });\n",
       "\n",
       "    canvas_div.append(canvas);\n",
       "    canvas_div.append(rubberband);\n",
       "\n",
       "    this.rubberband = rubberband;\n",
       "    this.rubberband_canvas = rubberband[0];\n",
       "    this.rubberband_context = rubberband[0].getContext(\"2d\");\n",
       "    this.rubberband_context.strokeStyle = \"#000000\";\n",
       "\n",
       "    this._resize_canvas = function(width, height) {\n",
       "        // Keep the size of the canvas, canvas container, and rubber band\n",
       "        // canvas in synch.\n",
       "        canvas_div.css('width', width)\n",
       "        canvas_div.css('height', height)\n",
       "\n",
       "        canvas.attr('width', width * mpl.ratio);\n",
       "        canvas.attr('height', height * mpl.ratio);\n",
       "        canvas.attr('style', 'width: ' + width + 'px; height: ' + height + 'px;');\n",
       "\n",
       "        rubberband.attr('width', width);\n",
       "        rubberband.attr('height', height);\n",
       "    }\n",
       "\n",
       "    // Set the figure to an initial 600x600px, this will subsequently be updated\n",
       "    // upon first draw.\n",
       "    this._resize_canvas(600, 600);\n",
       "\n",
       "    // Disable right mouse context menu.\n",
       "    $(this.rubberband_canvas).bind(\"contextmenu\",function(e){\n",
       "        return false;\n",
       "    });\n",
       "\n",
       "    function set_focus () {\n",
       "        canvas.focus();\n",
       "        canvas_div.focus();\n",
       "    }\n",
       "\n",
       "    window.setTimeout(set_focus, 100);\n",
       "}\n",
       "\n",
       "mpl.figure.prototype._init_toolbar = function() {\n",
       "    var fig = this;\n",
       "\n",
       "    var nav_element = $('<div/>');\n",
       "    nav_element.attr('style', 'width: 100%');\n",
       "    this.root.append(nav_element);\n",
       "\n",
       "    // Define a callback function for later on.\n",
       "    function toolbar_event(event) {\n",
       "        return fig.toolbar_button_onclick(event['data']);\n",
       "    }\n",
       "    function toolbar_mouse_event(event) {\n",
       "        return fig.toolbar_button_onmouseover(event['data']);\n",
       "    }\n",
       "\n",
       "    for(var toolbar_ind in mpl.toolbar_items) {\n",
       "        var name = mpl.toolbar_items[toolbar_ind][0];\n",
       "        var tooltip = mpl.toolbar_items[toolbar_ind][1];\n",
       "        var image = mpl.toolbar_items[toolbar_ind][2];\n",
       "        var method_name = mpl.toolbar_items[toolbar_ind][3];\n",
       "\n",
       "        if (!name) {\n",
       "            // put a spacer in here.\n",
       "            continue;\n",
       "        }\n",
       "        var button = $('<button/>');\n",
       "        button.addClass('ui-button ui-widget ui-state-default ui-corner-all ' +\n",
       "                        'ui-button-icon-only');\n",
       "        button.attr('role', 'button');\n",
       "        button.attr('aria-disabled', 'false');\n",
       "        button.click(method_name, toolbar_event);\n",
       "        button.mouseover(tooltip, toolbar_mouse_event);\n",
       "\n",
       "        var icon_img = $('<span/>');\n",
       "        icon_img.addClass('ui-button-icon-primary ui-icon');\n",
       "        icon_img.addClass(image);\n",
       "        icon_img.addClass('ui-corner-all');\n",
       "\n",
       "        var tooltip_span = $('<span/>');\n",
       "        tooltip_span.addClass('ui-button-text');\n",
       "        tooltip_span.html(tooltip);\n",
       "\n",
       "        button.append(icon_img);\n",
       "        button.append(tooltip_span);\n",
       "\n",
       "        nav_element.append(button);\n",
       "    }\n",
       "\n",
       "    var fmt_picker_span = $('<span/>');\n",
       "\n",
       "    var fmt_picker = $('<select/>');\n",
       "    fmt_picker.addClass('mpl-toolbar-option ui-widget ui-widget-content');\n",
       "    fmt_picker_span.append(fmt_picker);\n",
       "    nav_element.append(fmt_picker_span);\n",
       "    this.format_dropdown = fmt_picker[0];\n",
       "\n",
       "    for (var ind in mpl.extensions) {\n",
       "        var fmt = mpl.extensions[ind];\n",
       "        var option = $(\n",
       "            '<option/>', {selected: fmt === mpl.default_extension}).html(fmt);\n",
       "        fmt_picker.append(option);\n",
       "    }\n",
       "\n",
       "    // Add hover states to the ui-buttons\n",
       "    $( \".ui-button\" ).hover(\n",
       "        function() { $(this).addClass(\"ui-state-hover\");},\n",
       "        function() { $(this).removeClass(\"ui-state-hover\");}\n",
       "    );\n",
       "\n",
       "    var status_bar = $('<span class=\"mpl-message\"/>');\n",
       "    nav_element.append(status_bar);\n",
       "    this.message = status_bar[0];\n",
       "}\n",
       "\n",
       "mpl.figure.prototype.request_resize = function(x_pixels, y_pixels) {\n",
       "    // Request matplotlib to resize the figure. Matplotlib will then trigger a resize in the client,\n",
       "    // which will in turn request a refresh of the image.\n",
       "    this.send_message('resize', {'width': x_pixels, 'height': y_pixels});\n",
       "}\n",
       "\n",
       "mpl.figure.prototype.send_message = function(type, properties) {\n",
       "    properties['type'] = type;\n",
       "    properties['figure_id'] = this.id;\n",
       "    this.ws.send(JSON.stringify(properties));\n",
       "}\n",
       "\n",
       "mpl.figure.prototype.send_draw_message = function() {\n",
       "    if (!this.waiting) {\n",
       "        this.waiting = true;\n",
       "        this.ws.send(JSON.stringify({type: \"draw\", figure_id: this.id}));\n",
       "    }\n",
       "}\n",
       "\n",
       "\n",
       "mpl.figure.prototype.handle_save = function(fig, msg) {\n",
       "    var format_dropdown = fig.format_dropdown;\n",
       "    var format = format_dropdown.options[format_dropdown.selectedIndex].value;\n",
       "    fig.ondownload(fig, format);\n",
       "}\n",
       "\n",
       "\n",
       "mpl.figure.prototype.handle_resize = function(fig, msg) {\n",
       "    var size = msg['size'];\n",
       "    if (size[0] != fig.canvas.width || size[1] != fig.canvas.height) {\n",
       "        fig._resize_canvas(size[0], size[1]);\n",
       "        fig.send_message(\"refresh\", {});\n",
       "    };\n",
       "}\n",
       "\n",
       "mpl.figure.prototype.handle_rubberband = function(fig, msg) {\n",
       "    var x0 = msg['x0'] / mpl.ratio;\n",
       "    var y0 = (fig.canvas.height - msg['y0']) / mpl.ratio;\n",
       "    var x1 = msg['x1'] / mpl.ratio;\n",
       "    var y1 = (fig.canvas.height - msg['y1']) / mpl.ratio;\n",
       "    x0 = Math.floor(x0) + 0.5;\n",
       "    y0 = Math.floor(y0) + 0.5;\n",
       "    x1 = Math.floor(x1) + 0.5;\n",
       "    y1 = Math.floor(y1) + 0.5;\n",
       "    var min_x = Math.min(x0, x1);\n",
       "    var min_y = Math.min(y0, y1);\n",
       "    var width = Math.abs(x1 - x0);\n",
       "    var height = Math.abs(y1 - y0);\n",
       "\n",
       "    fig.rubberband_context.clearRect(\n",
       "        0, 0, fig.canvas.width / mpl.ratio, fig.canvas.height / mpl.ratio);\n",
       "\n",
       "    fig.rubberband_context.strokeRect(min_x, min_y, width, height);\n",
       "}\n",
       "\n",
       "mpl.figure.prototype.handle_figure_label = function(fig, msg) {\n",
       "    // Updates the figure title.\n",
       "    fig.header.textContent = msg['label'];\n",
       "}\n",
       "\n",
       "mpl.figure.prototype.handle_cursor = function(fig, msg) {\n",
       "    var cursor = msg['cursor'];\n",
       "    switch(cursor)\n",
       "    {\n",
       "    case 0:\n",
       "        cursor = 'pointer';\n",
       "        break;\n",
       "    case 1:\n",
       "        cursor = 'default';\n",
       "        break;\n",
       "    case 2:\n",
       "        cursor = 'crosshair';\n",
       "        break;\n",
       "    case 3:\n",
       "        cursor = 'move';\n",
       "        break;\n",
       "    }\n",
       "    fig.rubberband_canvas.style.cursor = cursor;\n",
       "}\n",
       "\n",
       "mpl.figure.prototype.handle_message = function(fig, msg) {\n",
       "    fig.message.textContent = msg['message'];\n",
       "}\n",
       "\n",
       "mpl.figure.prototype.handle_draw = function(fig, msg) {\n",
       "    // Request the server to send over a new figure.\n",
       "    fig.send_draw_message();\n",
       "}\n",
       "\n",
       "mpl.figure.prototype.handle_image_mode = function(fig, msg) {\n",
       "    fig.image_mode = msg['mode'];\n",
       "}\n",
       "\n",
       "mpl.figure.prototype.updated_canvas_event = function() {\n",
       "    // Called whenever the canvas gets updated.\n",
       "    this.send_message(\"ack\", {});\n",
       "}\n",
       "\n",
       "// A function to construct a web socket function for onmessage handling.\n",
       "// Called in the figure constructor.\n",
       "mpl.figure.prototype._make_on_message_function = function(fig) {\n",
       "    return function socket_on_message(evt) {\n",
       "        if (evt.data instanceof Blob) {\n",
       "            /* FIXME: We get \"Resource interpreted as Image but\n",
       "             * transferred with MIME type text/plain:\" errors on\n",
       "             * Chrome.  But how to set the MIME type?  It doesn't seem\n",
       "             * to be part of the websocket stream */\n",
       "            evt.data.type = \"image/png\";\n",
       "\n",
       "            /* Free the memory for the previous frames */\n",
       "            if (fig.imageObj.src) {\n",
       "                (window.URL || window.webkitURL).revokeObjectURL(\n",
       "                    fig.imageObj.src);\n",
       "            }\n",
       "\n",
       "            fig.imageObj.src = (window.URL || window.webkitURL).createObjectURL(\n",
       "                evt.data);\n",
       "            fig.updated_canvas_event();\n",
       "            fig.waiting = false;\n",
       "            return;\n",
       "        }\n",
       "        else if (typeof evt.data === 'string' && evt.data.slice(0, 21) == \"data:image/png;base64\") {\n",
       "            fig.imageObj.src = evt.data;\n",
       "            fig.updated_canvas_event();\n",
       "            fig.waiting = false;\n",
       "            return;\n",
       "        }\n",
       "\n",
       "        var msg = JSON.parse(evt.data);\n",
       "        var msg_type = msg['type'];\n",
       "\n",
       "        // Call the  \"handle_{type}\" callback, which takes\n",
       "        // the figure and JSON message as its only arguments.\n",
       "        try {\n",
       "            var callback = fig[\"handle_\" + msg_type];\n",
       "        } catch (e) {\n",
       "            console.log(\"No handler for the '\" + msg_type + \"' message type: \", msg);\n",
       "            return;\n",
       "        }\n",
       "\n",
       "        if (callback) {\n",
       "            try {\n",
       "                // console.log(\"Handling '\" + msg_type + \"' message: \", msg);\n",
       "                callback(fig, msg);\n",
       "            } catch (e) {\n",
       "                console.log(\"Exception inside the 'handler_\" + msg_type + \"' callback:\", e, e.stack, msg);\n",
       "            }\n",
       "        }\n",
       "    };\n",
       "}\n",
       "\n",
       "// from http://stackoverflow.com/questions/1114465/getting-mouse-location-in-canvas\n",
       "mpl.findpos = function(e) {\n",
       "    //this section is from http://www.quirksmode.org/js/events_properties.html\n",
       "    var targ;\n",
       "    if (!e)\n",
       "        e = window.event;\n",
       "    if (e.target)\n",
       "        targ = e.target;\n",
       "    else if (e.srcElement)\n",
       "        targ = e.srcElement;\n",
       "    if (targ.nodeType == 3) // defeat Safari bug\n",
       "        targ = targ.parentNode;\n",
       "\n",
       "    // jQuery normalizes the pageX and pageY\n",
       "    // pageX,Y are the mouse positions relative to the document\n",
       "    // offset() returns the position of the element relative to the document\n",
       "    var x = e.pageX - $(targ).offset().left;\n",
       "    var y = e.pageY - $(targ).offset().top;\n",
       "\n",
       "    return {\"x\": x, \"y\": y};\n",
       "};\n",
       "\n",
       "/*\n",
       " * return a copy of an object with only non-object keys\n",
       " * we need this to avoid circular references\n",
       " * http://stackoverflow.com/a/24161582/3208463\n",
       " */\n",
       "function simpleKeys (original) {\n",
       "  return Object.keys(original).reduce(function (obj, key) {\n",
       "    if (typeof original[key] !== 'object')\n",
       "        obj[key] = original[key]\n",
       "    return obj;\n",
       "  }, {});\n",
       "}\n",
       "\n",
       "mpl.figure.prototype.mouse_event = function(event, name) {\n",
       "    var canvas_pos = mpl.findpos(event)\n",
       "\n",
       "    if (name === 'button_press')\n",
       "    {\n",
       "        this.canvas.focus();\n",
       "        this.canvas_div.focus();\n",
       "    }\n",
       "\n",
       "    var x = canvas_pos.x * mpl.ratio;\n",
       "    var y = canvas_pos.y * mpl.ratio;\n",
       "\n",
       "    this.send_message(name, {x: x, y: y, button: event.button,\n",
       "                             step: event.step,\n",
       "                             guiEvent: simpleKeys(event)});\n",
       "\n",
       "    /* This prevents the web browser from automatically changing to\n",
       "     * the text insertion cursor when the button is pressed.  We want\n",
       "     * to control all of the cursor setting manually through the\n",
       "     * 'cursor' event from matplotlib */\n",
       "    event.preventDefault();\n",
       "    return false;\n",
       "}\n",
       "\n",
       "mpl.figure.prototype._key_event_extra = function(event, name) {\n",
       "    // Handle any extra behaviour associated with a key event\n",
       "}\n",
       "\n",
       "mpl.figure.prototype.key_event = function(event, name) {\n",
       "\n",
       "    // Prevent repeat events\n",
       "    if (name == 'key_press')\n",
       "    {\n",
       "        if (event.which === this._key)\n",
       "            return;\n",
       "        else\n",
       "            this._key = event.which;\n",
       "    }\n",
       "    if (name == 'key_release')\n",
       "        this._key = null;\n",
       "\n",
       "    var value = '';\n",
       "    if (event.ctrlKey && event.which != 17)\n",
       "        value += \"ctrl+\";\n",
       "    if (event.altKey && event.which != 18)\n",
       "        value += \"alt+\";\n",
       "    if (event.shiftKey && event.which != 16)\n",
       "        value += \"shift+\";\n",
       "\n",
       "    value += 'k';\n",
       "    value += event.which.toString();\n",
       "\n",
       "    this._key_event_extra(event, name);\n",
       "\n",
       "    this.send_message(name, {key: value,\n",
       "                             guiEvent: simpleKeys(event)});\n",
       "    return false;\n",
       "}\n",
       "\n",
       "mpl.figure.prototype.toolbar_button_onclick = function(name) {\n",
       "    if (name == 'download') {\n",
       "        this.handle_save(this, null);\n",
       "    } else {\n",
       "        this.send_message(\"toolbar_button\", {name: name});\n",
       "    }\n",
       "};\n",
       "\n",
       "mpl.figure.prototype.toolbar_button_onmouseover = function(tooltip) {\n",
       "    this.message.textContent = tooltip;\n",
       "};\n",
       "mpl.toolbar_items = [[\"Home\", \"Reset original view\", \"fa fa-home icon-home\", \"home\"], [\"Back\", \"Back to previous view\", \"fa fa-arrow-left icon-arrow-left\", \"back\"], [\"Forward\", \"Forward to next view\", \"fa fa-arrow-right icon-arrow-right\", \"forward\"], [\"\", \"\", \"\", \"\"], [\"Pan\", \"Pan axes with left mouse, zoom with right\", \"fa fa-arrows icon-move\", \"pan\"], [\"Zoom\", \"Zoom to rectangle\", \"fa fa-square-o icon-check-empty\", \"zoom\"], [\"\", \"\", \"\", \"\"], [\"Download\", \"Download plot\", \"fa fa-floppy-o icon-save\", \"download\"]];\n",
       "\n",
       "mpl.extensions = [\"eps\", \"jpeg\", \"pdf\", \"png\", \"ps\", \"raw\", \"svg\", \"tif\"];\n",
       "\n",
       "mpl.default_extension = \"png\";var comm_websocket_adapter = function(comm) {\n",
       "    // Create a \"websocket\"-like object which calls the given IPython comm\n",
       "    // object with the appropriate methods. Currently this is a non binary\n",
       "    // socket, so there is still some room for performance tuning.\n",
       "    var ws = {};\n",
       "\n",
       "    ws.close = function() {\n",
       "        comm.close()\n",
       "    };\n",
       "    ws.send = function(m) {\n",
       "        //console.log('sending', m);\n",
       "        comm.send(m);\n",
       "    };\n",
       "    // Register the callback with on_msg.\n",
       "    comm.on_msg(function(msg) {\n",
       "        //console.log('receiving', msg['content']['data'], msg);\n",
       "        // Pass the mpl event to the overridden (by mpl) onmessage function.\n",
       "        ws.onmessage(msg['content']['data'])\n",
       "    });\n",
       "    return ws;\n",
       "}\n",
       "\n",
       "mpl.mpl_figure_comm = function(comm, msg) {\n",
       "    // This is the function which gets called when the mpl process\n",
       "    // starts-up an IPython Comm through the \"matplotlib\" channel.\n",
       "\n",
       "    var id = msg.content.data.id;\n",
       "    // Get hold of the div created by the display call when the Comm\n",
       "    // socket was opened in Python.\n",
       "    var element = $(\"#\" + id);\n",
       "    var ws_proxy = comm_websocket_adapter(comm)\n",
       "\n",
       "    function ondownload(figure, format) {\n",
       "        window.open(figure.imageObj.src);\n",
       "    }\n",
       "\n",
       "    var fig = new mpl.figure(id, ws_proxy,\n",
       "                           ondownload,\n",
       "                           element.get(0));\n",
       "\n",
       "    // Call onopen now - mpl needs it, as it is assuming we've passed it a real\n",
       "    // web socket which is closed, not our websocket->open comm proxy.\n",
       "    ws_proxy.onopen();\n",
       "\n",
       "    fig.parent_element = element.get(0);\n",
       "    fig.cell_info = mpl.find_output_cell(\"<div id='\" + id + \"'></div>\");\n",
       "    if (!fig.cell_info) {\n",
       "        console.error(\"Failed to find cell for figure\", id, fig);\n",
       "        return;\n",
       "    }\n",
       "\n",
       "    var output_index = fig.cell_info[2]\n",
       "    var cell = fig.cell_info[0];\n",
       "\n",
       "};\n",
       "\n",
       "mpl.figure.prototype.handle_close = function(fig, msg) {\n",
       "    var width = fig.canvas.width/mpl.ratio\n",
       "    fig.root.unbind('remove')\n",
       "\n",
       "    // Update the output cell to use the data from the current canvas.\n",
       "    fig.push_to_output();\n",
       "    var dataURL = fig.canvas.toDataURL();\n",
       "    // Re-enable the keyboard manager in IPython - without this line, in FF,\n",
       "    // the notebook keyboard shortcuts fail.\n",
       "    IPython.keyboard_manager.enable()\n",
       "    $(fig.parent_element).html('<img src=\"' + dataURL + '\" width=\"' + width + '\">');\n",
       "    fig.close_ws(fig, msg);\n",
       "}\n",
       "\n",
       "mpl.figure.prototype.close_ws = function(fig, msg){\n",
       "    fig.send_message('closing', msg);\n",
       "    // fig.ws.close()\n",
       "}\n",
       "\n",
       "mpl.figure.prototype.push_to_output = function(remove_interactive) {\n",
       "    // Turn the data on the canvas into data in the output cell.\n",
       "    var width = this.canvas.width/mpl.ratio\n",
       "    var dataURL = this.canvas.toDataURL();\n",
       "    this.cell_info[1]['text/html'] = '<img src=\"' + dataURL + '\" width=\"' + width + '\">';\n",
       "}\n",
       "\n",
       "mpl.figure.prototype.updated_canvas_event = function() {\n",
       "    // Tell IPython that the notebook contents must change.\n",
       "    IPython.notebook.set_dirty(true);\n",
       "    this.send_message(\"ack\", {});\n",
       "    var fig = this;\n",
       "    // Wait a second, then push the new image to the DOM so\n",
       "    // that it is saved nicely (might be nice to debounce this).\n",
       "    setTimeout(function () { fig.push_to_output() }, 1000);\n",
       "}\n",
       "\n",
       "mpl.figure.prototype._init_toolbar = function() {\n",
       "    var fig = this;\n",
       "\n",
       "    var nav_element = $('<div/>');\n",
       "    nav_element.attr('style', 'width: 100%');\n",
       "    this.root.append(nav_element);\n",
       "\n",
       "    // Define a callback function for later on.\n",
       "    function toolbar_event(event) {\n",
       "        return fig.toolbar_button_onclick(event['data']);\n",
       "    }\n",
       "    function toolbar_mouse_event(event) {\n",
       "        return fig.toolbar_button_onmouseover(event['data']);\n",
       "    }\n",
       "\n",
       "    for(var toolbar_ind in mpl.toolbar_items){\n",
       "        var name = mpl.toolbar_items[toolbar_ind][0];\n",
       "        var tooltip = mpl.toolbar_items[toolbar_ind][1];\n",
       "        var image = mpl.toolbar_items[toolbar_ind][2];\n",
       "        var method_name = mpl.toolbar_items[toolbar_ind][3];\n",
       "\n",
       "        if (!name) { continue; };\n",
       "\n",
       "        var button = $('<button class=\"btn btn-default\" href=\"#\" title=\"' + name + '\"><i class=\"fa ' + image + ' fa-lg\"></i></button>');\n",
       "        button.click(method_name, toolbar_event);\n",
       "        button.mouseover(tooltip, toolbar_mouse_event);\n",
       "        nav_element.append(button);\n",
       "    }\n",
       "\n",
       "    // Add the status bar.\n",
       "    var status_bar = $('<span class=\"mpl-message\" style=\"text-align:right; float: right;\"/>');\n",
       "    nav_element.append(status_bar);\n",
       "    this.message = status_bar[0];\n",
       "\n",
       "    // Add the close button to the window.\n",
       "    var buttongrp = $('<div class=\"btn-group inline pull-right\"></div>');\n",
       "    var button = $('<button class=\"btn btn-mini btn-primary\" href=\"#\" title=\"Stop Interaction\"><i class=\"fa fa-power-off icon-remove icon-large\"></i></button>');\n",
       "    button.click(function (evt) { fig.handle_close(fig, {}); } );\n",
       "    button.mouseover('Stop Interaction', toolbar_mouse_event);\n",
       "    buttongrp.append(button);\n",
       "    var titlebar = this.root.find($('.ui-dialog-titlebar'));\n",
       "    titlebar.prepend(buttongrp);\n",
       "}\n",
       "\n",
       "mpl.figure.prototype._root_extra_style = function(el){\n",
       "    var fig = this\n",
       "    el.on(\"remove\", function(){\n",
       "\tfig.close_ws(fig, {});\n",
       "    });\n",
       "}\n",
       "\n",
       "mpl.figure.prototype._canvas_extra_style = function(el){\n",
       "    // this is important to make the div 'focusable\n",
       "    el.attr('tabindex', 0)\n",
       "    // reach out to IPython and tell the keyboard manager to turn it's self\n",
       "    // off when our div gets focus\n",
       "\n",
       "    // location in version 3\n",
       "    if (IPython.notebook.keyboard_manager) {\n",
       "        IPython.notebook.keyboard_manager.register_events(el);\n",
       "    }\n",
       "    else {\n",
       "        // location in version 2\n",
       "        IPython.keyboard_manager.register_events(el);\n",
       "    }\n",
       "\n",
       "}\n",
       "\n",
       "mpl.figure.prototype._key_event_extra = function(event, name) {\n",
       "    var manager = IPython.notebook.keyboard_manager;\n",
       "    if (!manager)\n",
       "        manager = IPython.keyboard_manager;\n",
       "\n",
       "    // Check for shift+enter\n",
       "    if (event.shiftKey && event.which == 13) {\n",
       "        this.canvas_div.blur();\n",
       "        // select the cell after this one\n",
       "        var index = IPython.notebook.find_cell_index(this.cell_info[0]);\n",
       "        IPython.notebook.select(index + 1);\n",
       "    }\n",
       "}\n",
       "\n",
       "mpl.figure.prototype.handle_save = function(fig, msg) {\n",
       "    fig.ondownload(fig, null);\n",
       "}\n",
       "\n",
       "\n",
       "mpl.find_output_cell = function(html_output) {\n",
       "    // Return the cell and output element which can be found *uniquely* in the notebook.\n",
       "    // Note - this is a bit hacky, but it is done because the \"notebook_saving.Notebook\"\n",
       "    // IPython event is triggered only after the cells have been serialised, which for\n",
       "    // our purposes (turning an active figure into a static one), is too late.\n",
       "    var cells = IPython.notebook.get_cells();\n",
       "    var ncells = cells.length;\n",
       "    for (var i=0; i<ncells; i++) {\n",
       "        var cell = cells[i];\n",
       "        if (cell.cell_type === 'code'){\n",
       "            for (var j=0; j<cell.output_area.outputs.length; j++) {\n",
       "                var data = cell.output_area.outputs[j];\n",
       "                if (data.data) {\n",
       "                    // IPython >= 3 moved mimebundle to data attribute of output\n",
       "                    data = data.data;\n",
       "                }\n",
       "                if (data['text/html'] == html_output) {\n",
       "                    return [cell, data, j];\n",
       "                }\n",
       "            }\n",
       "        }\n",
       "    }\n",
       "}\n",
       "\n",
       "// Register the function which deals with the matplotlib target/channel.\n",
       "// The kernel may be null if the page has been refreshed.\n",
       "if (IPython.notebook.kernel != null) {\n",
       "    IPython.notebook.kernel.comm_manager.register_target('matplotlib', mpl.mpl_figure_comm);\n",
       "}\n"
      ],
      "text/plain": [
       "<IPython.core.display.Javascript object>"
      ]
     },
     "metadata": {},
     "output_type": "display_data"
    },
    {
     "data": {
      "text/html": [
       "<img src=\"data:image/png;base64,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\" width=\"1000\">"
      ],
      "text/plain": [
       "<IPython.core.display.HTML object>"
      ]
     },
     "metadata": {},
     "output_type": "display_data"
    }
   ],
   "source": [
    "ax, tax, lax, lines = dual_train_plots()\n",
    "fig = ax.figure\n",
    "plt.tight_layout()\n",
    "# This gets built up during the run - do not rerun this cell\n",
    "results = pd.DataFrame([], columns=Results._fields)"
   ]
  },
  {
   "cell_type": "code",
   "execution_count": null,
   "metadata": {
    "scrolled": false
   },
   "outputs": [
    {
     "name": "stdout",
     "output_type": "stream",
     "text": [
      "for model:  ThreeFeature_8Layer_XYPretrain_Y(\n",
      "  (conv1): Conv1d(1, 20, kernel_size=(25,), stride=(1,), padding=(12,))\n",
      "  (conv2): Conv1d(20, 10, kernel_size=(15,), stride=(1,), padding=(7,))\n",
      "  (conv3): Conv1d(30, 10, kernel_size=(15,), stride=(1,), padding=(7,))\n",
      "  (conv4): Conv1d(40, 10, kernel_size=(15,), stride=(1,), padding=(7,))\n",
      "  (conv5): Conv1d(50, 10, kernel_size=(15,), stride=(1,), padding=(7,))\n",
      "  (conv6): Conv1d(60, 10, kernel_size=(15,), stride=(1,), padding=(7,))\n",
      "  (conv7): Conv1d(70, 1, kernel_size=(5,), stride=(1,), padding=(2,))\n",
      "  (finalFilter): Conv1d(71, 1, kernel_size=(91,), stride=(1,), padding=(45,))\n",
      "  (ppConv1): Conv1d(2, 20, kernel_size=(25,), stride=(1,), padding=(12,))\n",
      "  (ppConv2): Conv1d(20, 10, kernel_size=(15,), stride=(1,), padding=(7,))\n",
      "  (ppConv3): Conv1d(10, 1, kernel_size=(15,), stride=(1,), padding=(7,))\n",
      "  (ppFC): Linear(in_features=4000, out_features=4000, bias=True)\n",
      "  (conv1dropout): Dropout(p=0.15, inplace=False)\n",
      "  (conv2dropout): Dropout(p=0.15, inplace=False)\n",
      "  (conv3dropout): Dropout(p=0.15, inplace=False)\n",
      "  (conv4dropout): Dropout(p=0.15, inplace=False)\n",
      "  (conv5dropout): Dropout(p=0.15, inplace=False)\n",
      "  (conv6dropout): Dropout(p=0.15, inplace=False)\n",
      "  (conv7dropout): Dropout(p=0.15, inplace=False)\n",
      "  (bn1): BatchNorm1d(20, eps=1e-05, momentum=0.1, affine=True, track_running_stats=True)\n",
      "  (bn2): BatchNorm1d(10, eps=1e-05, momentum=0.1, affine=True, track_running_stats=True)\n",
      "  (bn3): BatchNorm1d(10, eps=1e-05, momentum=0.1, affine=True, track_running_stats=True)\n",
      "  (bn4): BatchNorm1d(10, eps=1e-05, momentum=0.1, affine=True, track_running_stats=True)\n",
      "  (bn5): BatchNorm1d(10, eps=1e-05, momentum=0.1, affine=True, track_running_stats=True)\n",
      "  (bn6): BatchNorm1d(10, eps=1e-05, momentum=0.1, affine=True, track_running_stats=True)\n",
      "  (bn7): BatchNorm1d(1, eps=1e-05, momentum=0.1, affine=True, track_running_stats=True)\n",
      "  (bnFF): BatchNorm1d(1, eps=1e-05, momentum=0.1, affine=True, track_running_stats=True)\n",
      ")\n",
      "epoch_start 1420\n",
      "batch_size 128\n",
      "epochs 500\n",
      "lr 0.0001\n",
      "Number of batches: train = 1250, val = 78\n"
     ]
    },
    {
     "name": "stderr",
     "output_type": "stream",
     "text": [
      "/home/michael24peters/pv-finder_experimental/notebooks/model/training.py:95: TqdmDeprecationWarning: This function will be removed in tqdm==5.0.0\n",
      "Please use `tqdm.notebook.tqdm` instead of `tqdm.tqdm_notebook`\n",
      "  file=sys.stderr,\n"
     ]
    },
    {
     "data": {
      "application/vnd.jupyter.widget-view+json": {
       "model_id": "e1baab7b9cc54298a74fb8c902663430",
       "version_major": 2,
       "version_minor": 0
      },
      "text/plain": [
       "HBox(children=(FloatProgress(value=0.0, description='Epochs', layout=Layout(flex='2'), max=500.0, style=Progre…"
      ]
     },
     "metadata": {},
     "output_type": "display_data"
    },
    {
     "data": {
      "application/vnd.jupyter.widget-view+json": {
       "model_id": "",
       "version_major": 2,
       "version_minor": 0
      },
      "text/plain": [
       "HBox(children=(FloatProgress(value=0.0, description='Training', layout=Layout(flex='2'), max=1250.0, style=Pro…"
      ]
     },
     "metadata": {},
     "output_type": "display_data"
    },
    {
     "name": "stdout",
     "output_type": "stream",
     "text": [
      "Epoch 1420: train=30.7319, val=7.92276, took 96.049 s\n",
      "  Validation Found 51237 of 54504, added 1397 (eff 94.01%) (0.14 FP/event)\n",
      "Result epoch:  1420\n",
      "Average Eff:  0\n",
      "Average FP Rate:  0\n"
     ]
    },
    {
     "data": {
      "application/vnd.jupyter.widget-view+json": {
       "model_id": "",
       "version_major": 2,
       "version_minor": 0
      },
      "text/plain": [
       "HBox(children=(FloatProgress(value=0.0, description='Training', layout=Layout(flex='2'), max=1250.0, style=Pro…"
      ]
     },
     "metadata": {},
     "output_type": "display_data"
    },
    {
     "name": "stdout",
     "output_type": "stream",
     "text": [
      "Epoch 1421: train=7.47209, val=7.7228, took 92.741 s\n",
      "  Validation Found 51255 of 54504, added 1379 (eff 94.04%) (0.138 FP/event)\n",
      "Result epoch:  1421\n",
      "Average Eff:  0\n",
      "Average FP Rate:  0\n"
     ]
    },
    {
     "data": {
      "application/vnd.jupyter.widget-view+json": {
       "model_id": "",
       "version_major": 2,
       "version_minor": 0
      },
      "text/plain": [
       "HBox(children=(FloatProgress(value=0.0, description='Training', layout=Layout(flex='2'), max=1250.0, style=Pro…"
      ]
     },
     "metadata": {},
     "output_type": "display_data"
    },
    {
     "name": "stdout",
     "output_type": "stream",
     "text": [
      "Epoch 1422: train=7.38393, val=7.65669, took 92.655 s\n",
      "  Validation Found 51285 of 54504, added 1408 (eff 94.09%) (0.141 FP/event)\n",
      "Result epoch:  1422\n",
      "Average Eff:  0\n",
      "Average FP Rate:  0\n"
     ]
    },
    {
     "data": {
      "application/vnd.jupyter.widget-view+json": {
       "model_id": "",
       "version_major": 2,
       "version_minor": 0
      },
      "text/plain": [
       "HBox(children=(FloatProgress(value=0.0, description='Training', layout=Layout(flex='2'), max=1250.0, style=Pro…"
      ]
     },
     "metadata": {},
     "output_type": "display_data"
    },
    {
     "name": "stdout",
     "output_type": "stream",
     "text": [
      "Epoch 1423: train=7.35606, val=7.64531, took 92.882 s\n",
      "  Validation Found 51262 of 54504, added 1385 (eff 94.05%) (0.139 FP/event)\n",
      "Result epoch:  1423\n",
      "Average Eff:  0\n",
      "Average FP Rate:  0\n"
     ]
    },
    {
     "data": {
      "application/vnd.jupyter.widget-view+json": {
       "model_id": "",
       "version_major": 2,
       "version_minor": 0
      },
      "text/plain": [
       "HBox(children=(FloatProgress(value=0.0, description='Training', layout=Layout(flex='2'), max=1250.0, style=Pro…"
      ]
     },
     "metadata": {},
     "output_type": "display_data"
    },
    {
     "name": "stdout",
     "output_type": "stream",
     "text": [
      "Epoch 1424: train=7.34497, val=7.68444, took 92.679 s\n",
      "  Validation Found 51260 of 54504, added 1387 (eff 94.05%) (0.139 FP/event)\n",
      "Result epoch:  1424\n",
      "Average Eff:  0\n",
      "Average FP Rate:  0\n"
     ]
    },
    {
     "data": {
      "application/vnd.jupyter.widget-view+json": {
       "model_id": "",
       "version_major": 2,
       "version_minor": 0
      },
      "text/plain": [
       "HBox(children=(FloatProgress(value=0.0, description='Training', layout=Layout(flex='2'), max=1250.0, style=Pro…"
      ]
     },
     "metadata": {},
     "output_type": "display_data"
    },
    {
     "name": "stdout",
     "output_type": "stream",
     "text": [
      "Epoch 1425: train=7.3391, val=7.63686, took 92.65 s\n",
      "  Validation Found 51308 of 54504, added 1434 (eff 94.14%) (0.144 FP/event)\n",
      "Result epoch:  1425\n",
      "Average Eff:  0\n",
      "Average FP Rate:  0\n"
     ]
    },
    {
     "data": {
      "application/vnd.jupyter.widget-view+json": {
       "model_id": "",
       "version_major": 2,
       "version_minor": 0
      },
      "text/plain": [
       "HBox(children=(FloatProgress(value=0.0, description='Training', layout=Layout(flex='2'), max=1250.0, style=Pro…"
      ]
     },
     "metadata": {},
     "output_type": "display_data"
    },
    {
     "name": "stdout",
     "output_type": "stream",
     "text": [
      "Epoch 1426: train=7.32036, val=7.68078, took 92.577 s\n",
      "  Validation Found 51286 of 54504, added 1395 (eff 94.10%) (0.14 FP/event)\n",
      "Result epoch:  1426\n",
      "Average Eff:  0\n",
      "Average FP Rate:  0\n"
     ]
    },
    {
     "data": {
      "application/vnd.jupyter.widget-view+json": {
       "model_id": "",
       "version_major": 2,
       "version_minor": 0
      },
      "text/plain": [
       "HBox(children=(FloatProgress(value=0.0, description='Training', layout=Layout(flex='2'), max=1250.0, style=Pro…"
      ]
     },
     "metadata": {},
     "output_type": "display_data"
    },
    {
     "name": "stdout",
     "output_type": "stream",
     "text": [
      "Epoch 1427: train=7.29214, val=7.55995, took 92.638 s\n",
      "  Validation Found 51340 of 54504, added 1469 (eff 94.19%) (0.147 FP/event)\n",
      "Result epoch:  1427\n",
      "Average Eff:  0\n",
      "Average FP Rate:  0\n"
     ]
    },
    {
     "data": {
      "application/vnd.jupyter.widget-view+json": {
       "model_id": "",
       "version_major": 2,
       "version_minor": 0
      },
      "text/plain": [
       "HBox(children=(FloatProgress(value=0.0, description='Training', layout=Layout(flex='2'), max=1250.0, style=Pro…"
      ]
     },
     "metadata": {},
     "output_type": "display_data"
    },
    {
     "name": "stdout",
     "output_type": "stream",
     "text": [
      "Epoch 1428: train=7.23604, val=7.66269, took 92.611 s\n",
      "  Validation Found 51349 of 54504, added 1479 (eff 94.21%) (0.148 FP/event)\n",
      "Result epoch:  1428\n",
      "Average Eff:  0\n",
      "Average FP Rate:  0\n"
     ]
    },
    {
     "data": {
      "application/vnd.jupyter.widget-view+json": {
       "model_id": "",
       "version_major": 2,
       "version_minor": 0
      },
      "text/plain": [
       "HBox(children=(FloatProgress(value=0.0, description='Training', layout=Layout(flex='2'), max=1250.0, style=Pro…"
      ]
     },
     "metadata": {},
     "output_type": "display_data"
    },
    {
     "name": "stdout",
     "output_type": "stream",
     "text": [
      "Epoch 1429: train=7.15495, val=7.7677, took 92.756 s\n",
      "  Validation Found 51265 of 54504, added 1411 (eff 94.06%) (0.141 FP/event)\n",
      "Result epoch:  1429\n",
      "Average Eff:  0\n",
      "Average FP Rate:  0\n"
     ]
    },
    {
     "data": {
      "application/vnd.jupyter.widget-view+json": {
       "model_id": "",
       "version_major": 2,
       "version_minor": 0
      },
      "text/plain": [
       "HBox(children=(FloatProgress(value=0.0, description='Training', layout=Layout(flex='2'), max=1250.0, style=Pro…"
      ]
     },
     "metadata": {},
     "output_type": "display_data"
    },
    {
     "name": "stdout",
     "output_type": "stream",
     "text": [
      "Epoch 1430: train=7.06479, val=7.79784, took 92.681 s\n",
      "  Validation Found 51237 of 54504, added 1402 (eff 94.01%) (0.14 FP/event)\n",
      "Result epoch:  1430\n",
      "Average Eff:  0\n",
      "Average FP Rate:  0\n"
     ]
    },
    {
     "data": {
      "application/vnd.jupyter.widget-view+json": {
       "model_id": "",
       "version_major": 2,
       "version_minor": 0
      },
      "text/plain": [
       "HBox(children=(FloatProgress(value=0.0, description='Training', layout=Layout(flex='2'), max=1250.0, style=Pro…"
      ]
     },
     "metadata": {},
     "output_type": "display_data"
    },
    {
     "name": "stdout",
     "output_type": "stream",
     "text": [
      "Epoch 1431: train=6.9709, val=7.91247, took 92.632 s\n",
      "  Validation Found 51172 of 54504, added 1370 (eff 93.89%) (0.137 FP/event)\n",
      "Result epoch:  1431\n",
      "Average Eff:  0\n",
      "Average FP Rate:  0\n"
     ]
    },
    {
     "data": {
      "application/vnd.jupyter.widget-view+json": {
       "model_id": "",
       "version_major": 2,
       "version_minor": 0
      },
      "text/plain": [
       "HBox(children=(FloatProgress(value=0.0, description='Training', layout=Layout(flex='2'), max=1250.0, style=Pro…"
      ]
     },
     "metadata": {},
     "output_type": "display_data"
    },
    {
     "name": "stdout",
     "output_type": "stream",
     "text": [
      "Epoch 1432: train=6.89437, val=7.81818, took 92.627 s\n",
      "  Validation Found 51257 of 54504, added 1460 (eff 94.04%) (0.146 FP/event)\n",
      "Result epoch:  1432\n",
      "Average Eff:  0\n",
      "Average FP Rate:  0\n"
     ]
    },
    {
     "data": {
      "application/vnd.jupyter.widget-view+json": {
       "model_id": "",
       "version_major": 2,
       "version_minor": 0
      },
      "text/plain": [
       "HBox(children=(FloatProgress(value=0.0, description='Training', layout=Layout(flex='2'), max=1250.0, style=Pro…"
      ]
     },
     "metadata": {},
     "output_type": "display_data"
    },
    {
     "name": "stdout",
     "output_type": "stream",
     "text": [
      "Epoch 1433: train=6.81773, val=7.91721, took 92.617 s\n",
      "  Validation Found 51183 of 54504, added 1402 (eff 93.91%) (0.14 FP/event)\n",
      "Result epoch:  1433\n",
      "Average Eff:  0\n",
      "Average FP Rate:  0\n"
     ]
    },
    {
     "data": {
      "application/vnd.jupyter.widget-view+json": {
       "model_id": "",
       "version_major": 2,
       "version_minor": 0
      },
      "text/plain": [
       "HBox(children=(FloatProgress(value=0.0, description='Training', layout=Layout(flex='2'), max=1250.0, style=Pro…"
      ]
     },
     "metadata": {},
     "output_type": "display_data"
    },
    {
     "name": "stdout",
     "output_type": "stream",
     "text": [
      "Epoch 1434: train=6.74875, val=8.02535, took 92.596 s\n",
      "  Validation Found 51128 of 54504, added 1358 (eff 93.81%) (0.136 FP/event)\n",
      "Result epoch:  1434\n",
      "Average Eff:  0\n",
      "Average FP Rate:  0\n"
     ]
    },
    {
     "data": {
      "application/vnd.jupyter.widget-view+json": {
       "model_id": "",
       "version_major": 2,
       "version_minor": 0
      },
      "text/plain": [
       "HBox(children=(FloatProgress(value=0.0, description='Training', layout=Layout(flex='2'), max=1250.0, style=Pro…"
      ]
     },
     "metadata": {},
     "output_type": "display_data"
    },
    {
     "name": "stdout",
     "output_type": "stream",
     "text": [
      "Epoch 1435: train=6.68864, val=8.04674, took 92.598 s\n",
      "  Validation Found 51121 of 54504, added 1348 (eff 93.79%) (0.135 FP/event)\n",
      "Result epoch:  1435\n",
      "Average Eff:  0\n",
      "Average FP Rate:  0\n"
     ]
    },
    {
     "data": {
      "application/vnd.jupyter.widget-view+json": {
       "model_id": "",
       "version_major": 2,
       "version_minor": 0
      },
      "text/plain": [
       "HBox(children=(FloatProgress(value=0.0, description='Training', layout=Layout(flex='2'), max=1250.0, style=Pro…"
      ]
     },
     "metadata": {},
     "output_type": "display_data"
    },
    {
     "name": "stdout",
     "output_type": "stream",
     "text": [
      "Epoch 1436: train=6.63348, val=8.0693, took 92.595 s\n",
      "  Validation Found 51114 of 54504, added 1345 (eff 93.78%) (0.135 FP/event)\n",
      "Result epoch:  1436\n",
      "Average Eff:  0\n",
      "Average FP Rate:  0\n"
     ]
    },
    {
     "data": {
      "application/vnd.jupyter.widget-view+json": {
       "model_id": "",
       "version_major": 2,
       "version_minor": 0
      },
      "text/plain": [
       "HBox(children=(FloatProgress(value=0.0, description='Training', layout=Layout(flex='2'), max=1250.0, style=Pro…"
      ]
     },
     "metadata": {},
     "output_type": "display_data"
    },
    {
     "name": "stdout",
     "output_type": "stream",
     "text": [
      "Epoch 1437: train=6.57969, val=8.07253, took 92.604 s\n",
      "  Validation Found 51159 of 54504, added 1398 (eff 93.86%) (0.14 FP/event)\n",
      "Result epoch:  1437\n",
      "Average Eff:  0\n",
      "Average FP Rate:  0\n"
     ]
    },
    {
     "data": {
      "application/vnd.jupyter.widget-view+json": {
       "model_id": "",
       "version_major": 2,
       "version_minor": 0
      },
      "text/plain": [
       "HBox(children=(FloatProgress(value=0.0, description='Training', layout=Layout(flex='2'), max=1250.0, style=Pro…"
      ]
     },
     "metadata": {},
     "output_type": "display_data"
    },
    {
     "name": "stdout",
     "output_type": "stream",
     "text": [
      "Epoch 1438: train=6.53065, val=8.14523, took 93.01 s\n",
      "  Validation Found 51117 of 54504, added 1372 (eff 93.79%) (0.137 FP/event)\n",
      "Result epoch:  1438\n",
      "Average Eff:  0\n",
      "Average FP Rate:  0\n"
     ]
    },
    {
     "data": {
      "application/vnd.jupyter.widget-view+json": {
       "model_id": "",
       "version_major": 2,
       "version_minor": 0
      },
      "text/plain": [
       "HBox(children=(FloatProgress(value=0.0, description='Training', layout=Layout(flex='2'), max=1250.0, style=Pro…"
      ]
     },
     "metadata": {},
     "output_type": "display_data"
    },
    {
     "name": "stdout",
     "output_type": "stream",
     "text": [
      "Epoch 1439: train=6.48404, val=8.18098, took 92.718 s\n",
      "  Validation Found 51110 of 54504, added 1367 (eff 93.77%) (0.137 FP/event)\n",
      "Result epoch:  1439\n",
      "Average Eff:  0\n",
      "Average FP Rate:  0\n"
     ]
    },
    {
     "data": {
      "application/vnd.jupyter.widget-view+json": {
       "model_id": "",
       "version_major": 2,
       "version_minor": 0
      },
      "text/plain": [
       "HBox(children=(FloatProgress(value=0.0, description='Training', layout=Layout(flex='2'), max=1250.0, style=Pro…"
      ]
     },
     "metadata": {},
     "output_type": "display_data"
    },
    {
     "name": "stdout",
     "output_type": "stream",
     "text": [
      "Epoch 1440: train=6.43872, val=8.17757, took 92.833 s\n",
      "  Validation Found 51117 of 54504, added 1397 (eff 93.79%) (0.14 FP/event)\n",
      "Result epoch:  1440\n",
      "Average Eff:  0\n",
      "Average FP Rate:  0\n"
     ]
    },
    {
     "data": {
      "application/vnd.jupyter.widget-view+json": {
       "model_id": "",
       "version_major": 2,
       "version_minor": 0
      },
      "text/plain": [
       "HBox(children=(FloatProgress(value=0.0, description='Training', layout=Layout(flex='2'), max=1250.0, style=Pro…"
      ]
     },
     "metadata": {},
     "output_type": "display_data"
    },
    {
     "name": "stdout",
     "output_type": "stream",
     "text": [
      "Epoch 1441: train=6.39459, val=8.37881, took 92.701 s\n",
      "  Validation Found 50939 of 54504, added 1301 (eff 93.46%) (0.13 FP/event)\n",
      "Result epoch:  1441\n",
      "Average Eff:  0\n",
      "Average FP Rate:  0\n"
     ]
    },
    {
     "data": {
      "application/vnd.jupyter.widget-view+json": {
       "model_id": "",
       "version_major": 2,
       "version_minor": 0
      },
      "text/plain": [
       "HBox(children=(FloatProgress(value=0.0, description='Training', layout=Layout(flex='2'), max=1250.0, style=Pro…"
      ]
     },
     "metadata": {},
     "output_type": "display_data"
    },
    {
     "name": "stdout",
     "output_type": "stream",
     "text": [
      "Epoch 1442: train=6.35765, val=8.2545, took 92.61 s\n",
      "  Validation Found 51093 of 54504, added 1403 (eff 93.74%) (0.141 FP/event)\n",
      "Result epoch:  1442\n",
      "Average Eff:  0\n",
      "Average FP Rate:  0\n"
     ]
    },
    {
     "data": {
      "application/vnd.jupyter.widget-view+json": {
       "model_id": "",
       "version_major": 2,
       "version_minor": 0
      },
      "text/plain": [
       "HBox(children=(FloatProgress(value=0.0, description='Training', layout=Layout(flex='2'), max=1250.0, style=Pro…"
      ]
     },
     "metadata": {},
     "output_type": "display_data"
    },
    {
     "name": "stdout",
     "output_type": "stream",
     "text": [
      "Epoch 1443: train=6.31751, val=8.31104, took 92.656 s\n",
      "  Validation Found 50994 of 54504, added 1318 (eff 93.56%) (0.132 FP/event)\n",
      "Result epoch:  1443\n",
      "Average Eff:  0\n",
      "Average FP Rate:  0\n"
     ]
    },
    {
     "data": {
      "application/vnd.jupyter.widget-view+json": {
       "model_id": "",
       "version_major": 2,
       "version_minor": 0
      },
      "text/plain": [
       "HBox(children=(FloatProgress(value=0.0, description='Training', layout=Layout(flex='2'), max=1250.0, style=Pro…"
      ]
     },
     "metadata": {},
     "output_type": "display_data"
    },
    {
     "name": "stdout",
     "output_type": "stream",
     "text": [
      "Epoch 1444: train=6.28021, val=8.29828, took 92.613 s\n",
      "  Validation Found 51020 of 54504, added 1357 (eff 93.61%) (0.136 FP/event)\n",
      "Result epoch:  1444\n",
      "Average Eff:  0\n",
      "Average FP Rate:  0\n"
     ]
    },
    {
     "data": {
      "application/vnd.jupyter.widget-view+json": {
       "model_id": "",
       "version_major": 2,
       "version_minor": 0
      },
      "text/plain": [
       "HBox(children=(FloatProgress(value=0.0, description='Training', layout=Layout(flex='2'), max=1250.0, style=Pro…"
      ]
     },
     "metadata": {},
     "output_type": "display_data"
    },
    {
     "name": "stdout",
     "output_type": "stream",
     "text": [
      "Epoch 1445: train=6.24853, val=8.33974, took 92.79 s\n",
      "  Validation Found 50995 of 54504, added 1345 (eff 93.56%) (0.135 FP/event)\n",
      "Result epoch:  1445\n",
      "Average Eff:  0\n",
      "Average FP Rate:  0\n"
     ]
    },
    {
     "data": {
      "application/vnd.jupyter.widget-view+json": {
       "model_id": "",
       "version_major": 2,
       "version_minor": 0
      },
      "text/plain": [
       "HBox(children=(FloatProgress(value=0.0, description='Training', layout=Layout(flex='2'), max=1250.0, style=Pro…"
      ]
     },
     "metadata": {},
     "output_type": "display_data"
    },
    {
     "name": "stdout",
     "output_type": "stream",
     "text": [
      "Epoch 1446: train=6.20827, val=8.40103, took 92.624 s\n",
      "  Validation Found 50956 of 54504, added 1330 (eff 93.49%) (0.133 FP/event)\n",
      "Result epoch:  1446\n",
      "Average Eff:  0\n",
      "Average FP Rate:  0\n"
     ]
    },
    {
     "data": {
      "application/vnd.jupyter.widget-view+json": {
       "model_id": "",
       "version_major": 2,
       "version_minor": 0
      },
      "text/plain": [
       "HBox(children=(FloatProgress(value=0.0, description='Training', layout=Layout(flex='2'), max=1250.0, style=Pro…"
      ]
     },
     "metadata": {},
     "output_type": "display_data"
    },
    {
     "name": "stdout",
     "output_type": "stream",
     "text": [
      "Epoch 1447: train=6.17782, val=8.38105, took 92.62 s\n",
      "  Validation Found 51011 of 54504, added 1391 (eff 93.59%) (0.139 FP/event)\n",
      "Result epoch:  1447\n",
      "Average Eff:  0\n",
      "Average FP Rate:  0\n"
     ]
    },
    {
     "data": {
      "application/vnd.jupyter.widget-view+json": {
       "model_id": "",
       "version_major": 2,
       "version_minor": 0
      },
      "text/plain": [
       "HBox(children=(FloatProgress(value=0.0, description='Training', layout=Layout(flex='2'), max=1250.0, style=Pro…"
      ]
     },
     "metadata": {},
     "output_type": "display_data"
    },
    {
     "name": "stdout",
     "output_type": "stream",
     "text": [
      "Epoch 1448: train=6.14367, val=8.43074, took 92.655 s\n",
      "  Validation Found 50908 of 54504, added 1317 (eff 93.40%) (0.132 FP/event)\n",
      "Result epoch:  1448\n",
      "Average Eff:  0\n",
      "Average FP Rate:  0\n"
     ]
    },
    {
     "data": {
      "application/vnd.jupyter.widget-view+json": {
       "model_id": "",
       "version_major": 2,
       "version_minor": 0
      },
      "text/plain": [
       "HBox(children=(FloatProgress(value=0.0, description='Training', layout=Layout(flex='2'), max=1250.0, style=Pro…"
      ]
     },
     "metadata": {},
     "output_type": "display_data"
    },
    {
     "name": "stdout",
     "output_type": "stream",
     "text": [
      "Epoch 1449: train=6.11185, val=8.43546, took 92.657 s\n",
      "  Validation Found 50974 of 54504, added 1372 (eff 93.52%) (0.137 FP/event)\n",
      "Result epoch:  1449\n",
      "Average Eff:  0\n",
      "Average FP Rate:  0\n"
     ]
    },
    {
     "data": {
      "application/vnd.jupyter.widget-view+json": {
       "model_id": "b92ae18ee28a426bb614e1b0a59a81ee",
       "version_major": 2,
       "version_minor": 0
      },
      "text/plain": [
       "HBox(children=(FloatProgress(value=0.0, description='Training', layout=Layout(flex='2'), max=1250.0, style=Pro…"
      ]
     },
     "metadata": {},
     "output_type": "display_data"
    }
   ],
   "source": [
    "avgEff=0\n",
    "avgFP=0\n",
    "print('for model: ', model)   \n",
    "run_name = 'Model Y (P5)'\n",
    "# Create an mlflow run\n",
    "with mlflow.start_run(run_name=run_name) as run:\n",
    "    # Log parameters of the model\n",
    "    for key, value in vars(args).items():\n",
    "        print(key, value)\n",
    "        mlflow.log_param(key, value)\n",
    "    \n",
    "    # Log parameter count in the model\n",
    "    mlflow.log_param('Parameters', count_parameters(model))\n",
    "    \n",
    "    # Begin run\n",
    "    for result in trainNet(model, optimizer, loss,\n",
    "                            train_loader, val_loader,\n",
    "                            args.epochs+args.epoch_start, epoch_start=args.epoch_start,\n",
    "                            notebook=True, device=device):\n",
    "\n",
    "        result = result._asdict()\n",
    "        results = results.append(pd.Series(result), ignore_index=True)\n",
    "    \n",
    "        xs = results.index\n",
    "    \n",
    "        # Update the plot above\n",
    "        lines['train'].set_data(results.index,results.cost)\n",
    "        lines['val'].set_data(results.index,results.val)\n",
    "    \n",
    "        #filter first cost epoch (can be really large)\n",
    "        max_cost = max(max(results.cost if len(results.cost)<2 else results.cost[1:]), max(results.val))\n",
    "        min_cost = min(min(results.cost), min(results.val))\n",
    "    \n",
    "        # The plot limits need updating too\n",
    "        ax.set_ylim(min_cost*.9, max_cost*1.1)  \n",
    "        ax.set_xlim(-.5, len(results.cost) - .5)\n",
    "    \n",
    "        replace_in_ax(lax, lines['eff'], xs, results['eff_val'].apply(lambda x: x.eff_rate))\n",
    "        replace_in_ax(tax, lines['fp'], xs, results['eff_val'].apply(lambda x: x.fp_rate))\n",
    "    \n",
    "        # Redraw the figure\n",
    "        fig.canvas.draw()\n",
    "            \n",
    "        ## MLFLOW ##\n",
    "        # Log metrics\n",
    "        mlflow.log_metric('Efficiency', result['eff_val'].eff_rate, result['epoch'])\n",
    "        mlflow.log_metric('False Positive Rate',  result['eff_val'].fp_rate, result['epoch'])\n",
    "        mlflow.log_metric('Validation Loss',  result['val'], result['epoch'])\n",
    "        mlflow.log_metric('Training Loss',  result['cost'], result['epoch'])\n",
    "        \n",
    "        print('Result epoch: ', result['epoch'])\n",
    "        if(result['epoch'] >= args.epochs + args.epoch_start - 10):\n",
    "            avgEff += result['eff_val'].eff_rate\n",
    "            avgFP += result['eff_val'].fp_rate\n",
    "           \n",
    "        if(result['epoch'] == args.epochs + args.epoch_start - 1):\n",
    "            print('Averaging...\\n')\n",
    "            avgEff /= 10\n",
    "            avgFP /= 10\n",
    "            mlflow.log_metric('10 Efficiency Average', avgEff)\n",
    "            mlflow.log_metric('10 False Positive Average', avgFP)\n",
    "            \n",
    "        print('Average Eff: ', avgEff)\n",
    "        print('Average FP Rate: ', avgFP)\n",
    "            \n",
    "        # Log tags\n",
    "#        mlflow.set_tag('Optimizer', 'Adam')\n",
    "#        mlflow.set_tag('Kernel size', 'Mixed')\n",
    "#        mlflow.set_tag('Skip connections', '3')\n",
    "#        mlflow.set_tag('Activation', 'Softplus')\n",
    "#        mlflow.set_tag('Mid Activation', 'Relu')\n",
    "        mlflow.set_tag('Asymmetry', '2.5')\n",
    "\n",
    "        # Save model state dictionary, optimizer state dictionary, and epoch number\n",
    "        torch.save({\n",
    "            'model':model.state_dict(),\n",
    "            'optimizer':optimizer.state_dict(),\n",
    "            'epoch':args.epochs+result['epoch']\n",
    "            }, 'run_stats.pyt')\n",
    "        # Save the run stats into mlflow\n",
    "        mlflow.log_artifact('run_stats.pyt')\n",
    "            \n",
    "        # Save a diagram of the architecture\n",
    "#        HL.transforms.Fold(\"Conv\", \"Conv\"),\n",
    "#        HL.build_graph(model, torch.zeros([args.batch_size, 1, 4000]).to(device)).save('architecture', format='png')\n",
    "#        mlflow.log_artifact('architecture.png')\n",
    "        \n",
    "        # log the code for the model architecture\n",
    "#        mlflow.log_artifact('architecture.txt')\n",
    "        \n",
    "    dual_train_plots(results.index,\n",
    "                 results.cost, results.val, \n",
    "                 results['eff_val'].apply(lambda x: x.eff_rate),\n",
    "                 results['eff_val'].apply(lambda x: x.fp_rate))\n",
    "    # save plot\n",
    "    plt.tight_layout()\n",
    "    plt.savefig('plot.png')\n",
    "    mlflow.log_artifact('plot.png')"
   ]
  },
  {
   "cell_type": "code",
   "execution_count": null,
   "metadata": {},
   "outputs": [],
   "source": [
    "##quit()"
   ]
  }
 ],
 "metadata": {
  "kernelspec": {
   "display_name": "goofit-june2020",
   "language": "python",
   "name": "goofit-june2020"
  },
  "language_info": {
   "codemirror_mode": {
    "name": "ipython",
    "version": 3
   },
   "file_extension": ".py",
   "mimetype": "text/x-python",
   "name": "python",
   "nbconvert_exporter": "python",
   "pygments_lexer": "ipython3",
   "version": "3.7.6"
  }
 },
 "nbformat": 4,
 "nbformat_minor": 2
}
