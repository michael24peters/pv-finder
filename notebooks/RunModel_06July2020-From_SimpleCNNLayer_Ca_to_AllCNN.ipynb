{
 "cells": [
  {
   "cell_type": "code",
   "execution_count": 1,
   "metadata": {},
   "outputs": [],
   "source": [
    "##%matplotlib widget\n",
    "## with %matplotlib notebook: seems to require ipympl as part of environment, either\n",
    "## part of the conda environment or \"pip install ipympl\"\n",
    "## otherwise, does not show ANY plots in notebook, plt.savefig() works\n",
    "%matplotlib notebook  \n",
    "##%matplotlib inline    ## --plt.savefig()  works, but re-sizing does NOT"
   ]
  },
  {
   "cell_type": "markdown",
   "metadata": {},
   "source": [
    "This notebook is a short demo to illustrate execution.   For odd historical reasons, it uses \"toy Monte Carlo\" (simulated data)for \"training\" and \"full LHCB MC\" for validation.\n",
    "\n",
    "The network architecture is a \"simple\" model that uses 1 input channel (the KDE [kernel density estimator] but from the track parameters) feeding 5 convolutional layers followed by a fully connected layer.\n",
    "\n",
    "In today's version, the network will start with weights from a previously trained version.\n",
    " "
   ]
  },
  {
   "cell_type": "markdown",
   "metadata": {},
   "source": [
    "Check the current GPU usage. Please try to be nice!"
   ]
  },
  {
   "cell_type": "code",
   "execution_count": 2,
   "metadata": {},
   "outputs": [
    {
     "name": "stdout",
     "output_type": "stream",
     "text": [
      "Sun Jul 12 22:45:13 2020       \r\n",
      "+-----------------------------------------------------------------------------+\r\n",
      "| NVIDIA-SMI 440.64.00    Driver Version: 440.64.00    CUDA Version: 10.2     |\r\n",
      "|-------------------------------+----------------------+----------------------+\r\n",
      "| GPU  Name        Persistence-M| Bus-Id        Disp.A | Volatile Uncorr. ECC |\r\n",
      "| Fan  Temp  Perf  Pwr:Usage/Cap|         Memory-Usage | GPU-Util  Compute M. |\r\n",
      "|===============================+======================+======================|\r\n",
      "|   0  TITAN V             Off  | 00000000:03:00.0 Off |                  N/A |\r\n",
      "| 28%   35C    P2    32W / 250W |   6481MiB / 12066MiB |      0%      Default |\r\n",
      "+-------------------------------+----------------------+----------------------+\r\n",
      "|   1  Tesla P100-PCIE...  Off  | 00000000:83:00.0 Off |                    0 |\r\n",
      "| N/A   38C    P0    35W / 250W |   6053MiB / 16280MiB |      0%      Default |\r\n",
      "+-------------------------------+----------------------+----------------------+\r\n",
      "|   2  TITAN V             Off  | 00000000:84:00.0 Off |                  N/A |\r\n",
      "| 49%   67C    P2   121W / 250W |   6665MiB / 12066MiB |     91%      Default |\r\n",
      "+-------------------------------+----------------------+----------------------+\r\n",
      "                                                                               \r\n",
      "+-----------------------------------------------------------------------------+\r\n",
      "| Processes:                                                       GPU Memory |\r\n",
      "|  GPU       PID   Type   Process name                             Usage      |\r\n",
      "|=============================================================================|\r\n",
      "|    0     14375      C   ...a/conda/envs/goofit-june2020/bin/python  6469MiB |\r\n",
      "|    1     15825      C   ...a/conda/envs/goofit-june2020/bin/python  6043MiB |\r\n",
      "|    2     15093      C   ...a/conda/envs/goofit-june2020/bin/python  6653MiB |\r\n",
      "+-----------------------------------------------------------------------------+\r\n"
     ]
    }
   ],
   "source": [
    "!nvidia-smi"
   ]
  },
  {
   "cell_type": "markdown",
   "metadata": {},
   "source": [
    "> **WARNING**: The card numbers here are *not* the same as in CUDA. You have been warned."
   ]
  },
  {
   "cell_type": "markdown",
   "metadata": {},
   "source": [
    "## Imports"
   ]
  },
  {
   "cell_type": "code",
   "execution_count": 3,
   "metadata": {},
   "outputs": [],
   "source": [
    "import matplotlib.pyplot as plt\n",
    "import numpy as np\n",
    "import time\n",
    "import torch\n",
    "import pandas as pd\n",
    "import mlflow\n",
    "\n",
    "# Python 3 standard library\n",
    "from pathlib import Path\n",
    "\n",
    "from torchsummary import summary\n",
    "\n",
    "'''\n",
    "HELPER FUNCTIONS\n",
    "'''\n",
    "# From model/collectdata.py\n",
    "from model.collectdata_mdsA import collect_data\n",
    "\n",
    "# From model/loss.py\n",
    "##from loss import Loss\n",
    "from model.alt_loss_A import Loss\n",
    "\n",
    "# From model/training.py\n",
    "from model.training import trainNet, select_gpu, Results\n",
    "\n",
    "# From model/models.py\n",
    "##  will start with model from TwoFeatures_CNN6Layer_A in the first instance\n",
    "##  see relevant cell below\n",
    "\n",
    "from model.models_mds_07July2020 import SimpleCNN5Layer_Ca as Model\n",
    "from model.models_mds_07July2020 import SimpleCNN5Layer_Ca_B as Model_B\n",
    "from model.models_mds_07July2020 import All_CNN6Layer_A as ModelA\n",
    "from model.models_mds_07July2020 import All_CNN6Layer_B as ModelB\n",
    "from model.models_mds_07July2020 import All_CNN6Layer_C as ModelC\n",
    "from model.models_mds_07July2020 import All_CNN6Layer_D as ModelD\n",
    "from model.models_mds_07July2020 import All_CNN6Layer_E as ModelE\n",
    "\n",
    "# From model/utilities.py\n",
    "from model.utilities import load_full_state, count_parameters, Params\n",
    "\n",
    "from model.plots import dual_train_plots, replace_in_ax\n",
    "\n",
    "## adds image of model architecture\n",
    "import hiddenlayer as HL"
   ]
  },
  {
   "cell_type": "markdown",
   "metadata": {},
   "source": [
    "Set up Torch device configuration. All tensors and model parameters need to know where to be put.\n",
    "This takes a BUS ID number: The BUS ID is the same as the listing at the top of this script."
   ]
  },
  {
   "cell_type": "code",
   "execution_count": 4,
   "metadata": {
    "scrolled": true
   },
   "outputs": [
    {
     "name": "stdout",
     "output_type": "stream",
     "text": [
      "1 available GPUs (initially using device 0):\n",
      "  0 Tesla P100-PCIE-16GB\n"
     ]
    }
   ],
   "source": [
    "device = select_gpu(1)"
   ]
  },
  {
   "cell_type": "markdown",
   "metadata": {},
   "source": [
    "### Set up local parameters"
   ]
  },
  {
   "cell_type": "code",
   "execution_count": 5,
   "metadata": {},
   "outputs": [],
   "source": [
    "# params order - batch size, epochs, lr, epoch_start (which is usually set to 0)\n",
    "args = Params(128, 200, 1e-3, 118)"
   ]
  },
  {
   "cell_type": "markdown",
   "metadata": {},
   "source": [
    "## Loading data\n",
    "\n",
    "Load the dataset, split into parts, then move to device (see `collectdata.py` in the `../model` directory)"
   ]
  },
  {
   "cell_type": "code",
   "execution_count": 6,
   "metadata": {
    "scrolled": true
   },
   "outputs": [
    {
     "name": "stdout",
     "output_type": "stream",
     "text": [
      "Loading data...\n",
      "Loaded /share/lazy/sokoloff/ML-data_A/Aug14_80K_train.h5 in 11.53 s\n",
      "Loaded /share/lazy/sokoloff/ML-data_AA/Oct03_80K_train.h5 in 11.3 s\n",
      "Constructing 160000 event dataset took 3.117 s\n",
      "Loading data...\n",
      "Loaded /share/lazy/sokoloff/ML-data_AA/Oct03_20K_val.h5 in 2.542 s\n",
      "Constructing 9984 event dataset took 0.09399 s\n"
     ]
    }
   ],
   "source": [
    "## newer vernacular\n",
    "## Training dataset. You can put as many files here as desired.\n",
    "\n",
    "## in this DEMO example we use only one 80K training set -- the model starts with well-trained weights,\n",
    "## and using a smaller training set reduces both the time to load the data and the time to train an epoch\n",
    "##  set the option load_XandXsq = True to use both DKE and KDE^2 as input features\n",
    "train_loader = collect_data('/share/lazy/sokoloff/ML-data_A/Aug14_80K_train.h5',\n",
    "                             '/share/lazy/sokoloff/ML-data_AA/Oct03_80K_train.h5',\n",
    "#                             '/share/lazy/sokoloff/ML-data_AA/Oct03_40K_train.h5',\n",
    "#                             '/share/lazy/will/ML_mdsA/June30_2020_80k_1.h5',\n",
    "#                             '/share/lazy/will/ML_mdsA/June30_2020_80k_3.h5',\n",
    "#                             '/share/lazy/will/ML_mdsA/June30_2020_80k_4.h5',\n",
    "#                             '/share/lazy/will/ML_mdsA/June30_2020_80k_5.h5',\n",
    "#                             '/share/lazy/will/ML_mdsA/June30_2020_80k_6.h5',\n",
    "#                             '/share/lazy/will/ML_mdsA/June30_2020_80k_7.h5',\n",
    "#                             '/share/lazy/will/ML_mdsA/June30_2020_80k_8.h5',\n",
    "#                             '/share/lazy/will/ML_mdsA/June30_2020_80k_9.h5',\n",
    "                            #'/share/lazy/sokoloff/ML-data_AA/Oct03_80K2_train.h5',\n",
    "                             batch_size=args.batch_size,\n",
    "## if we are using a larger dataset (240K events, with the datasets above, and 11 GB  of GPU memory),\n",
    "## not the dataset will overflow the GPU memory; device=device will allow the data to move back\n",
    "## and forth between the CPU and GPU memory. While this allows use of a larger dataset, it slows\n",
    "## down performance by about 10%.  So comment out when not needed.\n",
    "                            device=device,\n",
    "                            masking=True, shuffle=True,\n",
    "                            load_XandXsq=False,\n",
    "                            load_xy=False)\n",
    "\n",
    "# Validation dataset. You can slice to reduce the size.\n",
    "## dataAA -> /share/lazy/sokoloff/ML-data_AA/\n",
    "val_loader = collect_data('/share/lazy/sokoloff/ML-data_AA/Oct03_20K_val.h5',\n",
    "## mds val_loader = collect_data('dataAA/HLT1CPU_1kevts_val.h5',\n",
    "\n",
    "                          batch_size=args.batch_size,\n",
    "                          slice=slice(256 * 39),\n",
    "                          device=device,\n",
    "                          masking=True, shuffle=False,\n",
    "                          load_XandXsq=False,\n",
    "                          load_xy=False)"
   ]
  },
  {
   "cell_type": "markdown",
   "metadata": {},
   "source": [
    "# Preparing the model"
   ]
  },
  {
   "cell_type": "markdown",
   "metadata": {},
   "source": [
    "Prepare a model, use multiple GPUs if they are VISIBLE, and move the model to the device."
   ]
  },
  {
   "cell_type": "code",
   "execution_count": 7,
   "metadata": {
    "scrolled": true
   },
   "outputs": [
    {
     "name": "stderr",
     "output_type": "stream",
     "text": [
      "WARNING:root:Malformed experiment 'ML'. Detailed error Yaml file '/share/lazy/pv-finder_model_repo/ML/meta.yaml' does not exist.\n",
      "Traceback (most recent call last):\n",
      "  File \"/home/michael24peters/.local/lib/python3.7/site-packages/mlflow/store/tracking/file_store.py\", line 197, in list_experiments\n",
      "    experiment = self._get_experiment(exp_id, view_type)\n",
      "  File \"/home/michael24peters/.local/lib/python3.7/site-packages/mlflow/store/tracking/file_store.py\", line 260, in _get_experiment\n",
      "    meta = read_yaml(experiment_dir, FileStore.META_DATA_FILE_NAME)\n",
      "  File \"/home/michael24peters/.local/lib/python3.7/site-packages/mlflow/utils/file_utils.py\", line 167, in read_yaml\n",
      "    raise MissingConfigException(\"Yaml file '%s' does not exist.\" % file_path)\n",
      "mlflow.exceptions.MissingConfigException: Yaml file '/share/lazy/pv-finder_model_repo/ML/meta.yaml' does not exist.\n"
     ]
    }
   ],
   "source": [
    "model = ModelE()\n",
    "\n",
    "##summary(model, input_size=(4, 4000))\n",
    "##print(model.parameters)\n",
    "\n",
    "mlflow.tracking.set_tracking_uri('file:/share/lazy/pv-finder_model_repo')\n",
    "mlflow.set_experiment('ALLCNN')"
   ]
  },
  {
   "cell_type": "code",
   "execution_count": 8,
   "metadata": {
    "scrolled": true
   },
   "outputs": [
    {
     "name": "stdout",
     "output_type": "stream",
     "text": [
      "Let's use 1 GPUs!\n"
     ]
    }
   ],
   "source": [
    "print(\"Let's use\", torch.cuda.device_count(), \"GPUs!\")\n",
    "if torch.cuda.device_count() > 1:\n",
    "    model = torch.nn.DataParallel(model)"
   ]
  },
  {
   "cell_type": "code",
   "execution_count": 9,
   "metadata": {},
   "outputs": [
    {
     "name": "stdout",
     "output_type": "stream",
     "text": [
      "we also froze 4 weights\n",
      "Of the 18.5 parameter layers to update in the current model, 4.0 were loaded\n"
     ]
    }
   ],
   "source": [
    "##  mds 200121 loss = Loss(epsilon=1e-5,coefficient=1.0)\n",
    "loss = Loss(epsilon=1e-5,coefficient=2.5)\n",
    "optimizer = torch.optim.Adam(model.parameters(), lr=args.lr)\n",
    "\n",
    "##  use the first five layers from a pre-existing model\n",
    "##  see example at https://discuss.pytorch.org/t/how-to-load-part-of-pre-trained-model/1113\n",
    "##   ML -> /share/lazy/sokoloff/ML\n",
    "\n",
    "#path = 'run_stats.pyt'\n",
    "#load_full_state(model, optimizer, path, freeze_weights=True)\n",
    "# For other pretrained models, go to MLFlow and find the path for \"run_stats.pyt\"\n",
    "pretrained_dict = '/share/lazy/pv-finder_model_repo/7/4ca3505dac1e41edac25afec3b7a1384/artifacts/run_stats.pyt'\n",
    "load_full_state(model, optimizer, pretrained_dict, freeze_weights=True)"
   ]
  },
  {
   "cell_type": "markdown",
   "metadata": {},
   "source": [
    "Let's move the model's weight matricies to the GPU:"
   ]
  },
  {
   "cell_type": "code",
   "execution_count": 10,
   "metadata": {
    "scrolled": true
   },
   "outputs": [
    {
     "data": {
      "text/plain": [
       "All_CNN6Layer_E(\n",
       "  (conv1): Conv1d(1, 16, kernel_size=(25,), stride=(1,), padding=(12,))\n",
       "  (conv2): Conv1d(16, 9, kernel_size=(15,), stride=(1,), padding=(7,))\n",
       "  (conv3a): Conv1d(25, 9, kernel_size=(15,), stride=(1,), padding=(7,))\n",
       "  (conv4): Conv1d(9, 9, kernel_size=(15,), stride=(1,), padding=(7,))\n",
       "  (conv5): Conv1d(9, 1, kernel_size=(5,), stride=(1,), padding=(2,))\n",
       "  (finalFilter): Conv1d(1, 1, kernel_size=(91,), stride=(1,), padding=(45,))\n",
       "  (conv1dropout): Dropout(p=0.15, inplace=False)\n",
       "  (conv2dropout): Dropout(p=0.15, inplace=False)\n",
       "  (conv3dropout): Dropout(p=0.15, inplace=False)\n",
       "  (conv4dropout): Dropout(p=0.15, inplace=False)\n",
       "  (conv5dropout): Dropout(p=0.15, inplace=False)\n",
       "  (bn1): BatchNorm1d(16, eps=1e-05, momentum=0.1, affine=True, track_running_stats=True)\n",
       "  (bn2): BatchNorm1d(9, eps=1e-05, momentum=0.1, affine=True, track_running_stats=True)\n",
       "  (bn3): BatchNorm1d(9, eps=1e-05, momentum=0.1, affine=True, track_running_stats=True)\n",
       "  (bn4): BatchNorm1d(9, eps=1e-05, momentum=0.1, affine=True, track_running_stats=True)\n",
       "  (bn5): BatchNorm1d(1, eps=1e-05, momentum=0.1, affine=True, track_running_stats=True)\n",
       ")"
      ]
     },
     "execution_count": 10,
     "metadata": {},
     "output_type": "execute_result"
    }
   ],
   "source": [
    "model.to(device)"
   ]
  },
  {
   "cell_type": "markdown",
   "metadata": {},
   "source": [
    "## Train \n",
    "\n",
    "\n",
    "\n",
    "The body of this loop runs once per epoch. Results is a named tuple of values (loss per epoch for training and validation, time each). Start by setting up a plot first:"
   ]
  },
  {
   "cell_type": "code",
   "execution_count": 11,
   "metadata": {},
   "outputs": [
    {
     "data": {
      "application/javascript": [
       "/* Put everything inside the global mpl namespace */\n",
       "window.mpl = {};\n",
       "\n",
       "\n",
       "mpl.get_websocket_type = function() {\n",
       "    if (typeof(WebSocket) !== 'undefined') {\n",
       "        return WebSocket;\n",
       "    } else if (typeof(MozWebSocket) !== 'undefined') {\n",
       "        return MozWebSocket;\n",
       "    } else {\n",
       "        alert('Your browser does not have WebSocket support. ' +\n",
       "              'Please try Chrome, Safari or Firefox ≥ 6. ' +\n",
       "              'Firefox 4 and 5 are also supported but you ' +\n",
       "              'have to enable WebSockets in about:config.');\n",
       "    };\n",
       "}\n",
       "\n",
       "mpl.figure = function(figure_id, websocket, ondownload, parent_element) {\n",
       "    this.id = figure_id;\n",
       "\n",
       "    this.ws = websocket;\n",
       "\n",
       "    this.supports_binary = (this.ws.binaryType != undefined);\n",
       "\n",
       "    if (!this.supports_binary) {\n",
       "        var warnings = document.getElementById(\"mpl-warnings\");\n",
       "        if (warnings) {\n",
       "            warnings.style.display = 'block';\n",
       "            warnings.textContent = (\n",
       "                \"This browser does not support binary websocket messages. \" +\n",
       "                    \"Performance may be slow.\");\n",
       "        }\n",
       "    }\n",
       "\n",
       "    this.imageObj = new Image();\n",
       "\n",
       "    this.context = undefined;\n",
       "    this.message = undefined;\n",
       "    this.canvas = undefined;\n",
       "    this.rubberband_canvas = undefined;\n",
       "    this.rubberband_context = undefined;\n",
       "    this.format_dropdown = undefined;\n",
       "\n",
       "    this.image_mode = 'full';\n",
       "\n",
       "    this.root = $('<div/>');\n",
       "    this._root_extra_style(this.root)\n",
       "    this.root.attr('style', 'display: inline-block');\n",
       "\n",
       "    $(parent_element).append(this.root);\n",
       "\n",
       "    this._init_header(this);\n",
       "    this._init_canvas(this);\n",
       "    this._init_toolbar(this);\n",
       "\n",
       "    var fig = this;\n",
       "\n",
       "    this.waiting = false;\n",
       "\n",
       "    this.ws.onopen =  function () {\n",
       "            fig.send_message(\"supports_binary\", {value: fig.supports_binary});\n",
       "            fig.send_message(\"send_image_mode\", {});\n",
       "            if (mpl.ratio != 1) {\n",
       "                fig.send_message(\"set_dpi_ratio\", {'dpi_ratio': mpl.ratio});\n",
       "            }\n",
       "            fig.send_message(\"refresh\", {});\n",
       "        }\n",
       "\n",
       "    this.imageObj.onload = function() {\n",
       "            if (fig.image_mode == 'full') {\n",
       "                // Full images could contain transparency (where diff images\n",
       "                // almost always do), so we need to clear the canvas so that\n",
       "                // there is no ghosting.\n",
       "                fig.context.clearRect(0, 0, fig.canvas.width, fig.canvas.height);\n",
       "            }\n",
       "            fig.context.drawImage(fig.imageObj, 0, 0);\n",
       "        };\n",
       "\n",
       "    this.imageObj.onunload = function() {\n",
       "        fig.ws.close();\n",
       "    }\n",
       "\n",
       "    this.ws.onmessage = this._make_on_message_function(this);\n",
       "\n",
       "    this.ondownload = ondownload;\n",
       "}\n",
       "\n",
       "mpl.figure.prototype._init_header = function() {\n",
       "    var titlebar = $(\n",
       "        '<div class=\"ui-dialog-titlebar ui-widget-header ui-corner-all ' +\n",
       "        'ui-helper-clearfix\"/>');\n",
       "    var titletext = $(\n",
       "        '<div class=\"ui-dialog-title\" style=\"width: 100%; ' +\n",
       "        'text-align: center; padding: 3px;\"/>');\n",
       "    titlebar.append(titletext)\n",
       "    this.root.append(titlebar);\n",
       "    this.header = titletext[0];\n",
       "}\n",
       "\n",
       "\n",
       "\n",
       "mpl.figure.prototype._canvas_extra_style = function(canvas_div) {\n",
       "\n",
       "}\n",
       "\n",
       "\n",
       "mpl.figure.prototype._root_extra_style = function(canvas_div) {\n",
       "\n",
       "}\n",
       "\n",
       "mpl.figure.prototype._init_canvas = function() {\n",
       "    var fig = this;\n",
       "\n",
       "    var canvas_div = $('<div/>');\n",
       "\n",
       "    canvas_div.attr('style', 'position: relative; clear: both; outline: 0');\n",
       "\n",
       "    function canvas_keyboard_event(event) {\n",
       "        return fig.key_event(event, event['data']);\n",
       "    }\n",
       "\n",
       "    canvas_div.keydown('key_press', canvas_keyboard_event);\n",
       "    canvas_div.keyup('key_release', canvas_keyboard_event);\n",
       "    this.canvas_div = canvas_div\n",
       "    this._canvas_extra_style(canvas_div)\n",
       "    this.root.append(canvas_div);\n",
       "\n",
       "    var canvas = $('<canvas/>');\n",
       "    canvas.addClass('mpl-canvas');\n",
       "    canvas.attr('style', \"left: 0; top: 0; z-index: 0; outline: 0\")\n",
       "\n",
       "    this.canvas = canvas[0];\n",
       "    this.context = canvas[0].getContext(\"2d\");\n",
       "\n",
       "    var backingStore = this.context.backingStorePixelRatio ||\n",
       "\tthis.context.webkitBackingStorePixelRatio ||\n",
       "\tthis.context.mozBackingStorePixelRatio ||\n",
       "\tthis.context.msBackingStorePixelRatio ||\n",
       "\tthis.context.oBackingStorePixelRatio ||\n",
       "\tthis.context.backingStorePixelRatio || 1;\n",
       "\n",
       "    mpl.ratio = (window.devicePixelRatio || 1) / backingStore;\n",
       "\n",
       "    var rubberband = $('<canvas/>');\n",
       "    rubberband.attr('style', \"position: absolute; left: 0; top: 0; z-index: 1;\")\n",
       "\n",
       "    var pass_mouse_events = true;\n",
       "\n",
       "    canvas_div.resizable({\n",
       "        start: function(event, ui) {\n",
       "            pass_mouse_events = false;\n",
       "        },\n",
       "        resize: function(event, ui) {\n",
       "            fig.request_resize(ui.size.width, ui.size.height);\n",
       "        },\n",
       "        stop: function(event, ui) {\n",
       "            pass_mouse_events = true;\n",
       "            fig.request_resize(ui.size.width, ui.size.height);\n",
       "        },\n",
       "    });\n",
       "\n",
       "    function mouse_event_fn(event) {\n",
       "        if (pass_mouse_events)\n",
       "            return fig.mouse_event(event, event['data']);\n",
       "    }\n",
       "\n",
       "    rubberband.mousedown('button_press', mouse_event_fn);\n",
       "    rubberband.mouseup('button_release', mouse_event_fn);\n",
       "    // Throttle sequential mouse events to 1 every 20ms.\n",
       "    rubberband.mousemove('motion_notify', mouse_event_fn);\n",
       "\n",
       "    rubberband.mouseenter('figure_enter', mouse_event_fn);\n",
       "    rubberband.mouseleave('figure_leave', mouse_event_fn);\n",
       "\n",
       "    canvas_div.on(\"wheel\", function (event) {\n",
       "        event = event.originalEvent;\n",
       "        event['data'] = 'scroll'\n",
       "        if (event.deltaY < 0) {\n",
       "            event.step = 1;\n",
       "        } else {\n",
       "            event.step = -1;\n",
       "        }\n",
       "        mouse_event_fn(event);\n",
       "    });\n",
       "\n",
       "    canvas_div.append(canvas);\n",
       "    canvas_div.append(rubberband);\n",
       "\n",
       "    this.rubberband = rubberband;\n",
       "    this.rubberband_canvas = rubberband[0];\n",
       "    this.rubberband_context = rubberband[0].getContext(\"2d\");\n",
       "    this.rubberband_context.strokeStyle = \"#000000\";\n",
       "\n",
       "    this._resize_canvas = function(width, height) {\n",
       "        // Keep the size of the canvas, canvas container, and rubber band\n",
       "        // canvas in synch.\n",
       "        canvas_div.css('width', width)\n",
       "        canvas_div.css('height', height)\n",
       "\n",
       "        canvas.attr('width', width * mpl.ratio);\n",
       "        canvas.attr('height', height * mpl.ratio);\n",
       "        canvas.attr('style', 'width: ' + width + 'px; height: ' + height + 'px;');\n",
       "\n",
       "        rubberband.attr('width', width);\n",
       "        rubberband.attr('height', height);\n",
       "    }\n",
       "\n",
       "    // Set the figure to an initial 600x600px, this will subsequently be updated\n",
       "    // upon first draw.\n",
       "    this._resize_canvas(600, 600);\n",
       "\n",
       "    // Disable right mouse context menu.\n",
       "    $(this.rubberband_canvas).bind(\"contextmenu\",function(e){\n",
       "        return false;\n",
       "    });\n",
       "\n",
       "    function set_focus () {\n",
       "        canvas.focus();\n",
       "        canvas_div.focus();\n",
       "    }\n",
       "\n",
       "    window.setTimeout(set_focus, 100);\n",
       "}\n",
       "\n",
       "mpl.figure.prototype._init_toolbar = function() {\n",
       "    var fig = this;\n",
       "\n",
       "    var nav_element = $('<div/>');\n",
       "    nav_element.attr('style', 'width: 100%');\n",
       "    this.root.append(nav_element);\n",
       "\n",
       "    // Define a callback function for later on.\n",
       "    function toolbar_event(event) {\n",
       "        return fig.toolbar_button_onclick(event['data']);\n",
       "    }\n",
       "    function toolbar_mouse_event(event) {\n",
       "        return fig.toolbar_button_onmouseover(event['data']);\n",
       "    }\n",
       "\n",
       "    for(var toolbar_ind in mpl.toolbar_items) {\n",
       "        var name = mpl.toolbar_items[toolbar_ind][0];\n",
       "        var tooltip = mpl.toolbar_items[toolbar_ind][1];\n",
       "        var image = mpl.toolbar_items[toolbar_ind][2];\n",
       "        var method_name = mpl.toolbar_items[toolbar_ind][3];\n",
       "\n",
       "        if (!name) {\n",
       "            // put a spacer in here.\n",
       "            continue;\n",
       "        }\n",
       "        var button = $('<button/>');\n",
       "        button.addClass('ui-button ui-widget ui-state-default ui-corner-all ' +\n",
       "                        'ui-button-icon-only');\n",
       "        button.attr('role', 'button');\n",
       "        button.attr('aria-disabled', 'false');\n",
       "        button.click(method_name, toolbar_event);\n",
       "        button.mouseover(tooltip, toolbar_mouse_event);\n",
       "\n",
       "        var icon_img = $('<span/>');\n",
       "        icon_img.addClass('ui-button-icon-primary ui-icon');\n",
       "        icon_img.addClass(image);\n",
       "        icon_img.addClass('ui-corner-all');\n",
       "\n",
       "        var tooltip_span = $('<span/>');\n",
       "        tooltip_span.addClass('ui-button-text');\n",
       "        tooltip_span.html(tooltip);\n",
       "\n",
       "        button.append(icon_img);\n",
       "        button.append(tooltip_span);\n",
       "\n",
       "        nav_element.append(button);\n",
       "    }\n",
       "\n",
       "    var fmt_picker_span = $('<span/>');\n",
       "\n",
       "    var fmt_picker = $('<select/>');\n",
       "    fmt_picker.addClass('mpl-toolbar-option ui-widget ui-widget-content');\n",
       "    fmt_picker_span.append(fmt_picker);\n",
       "    nav_element.append(fmt_picker_span);\n",
       "    this.format_dropdown = fmt_picker[0];\n",
       "\n",
       "    for (var ind in mpl.extensions) {\n",
       "        var fmt = mpl.extensions[ind];\n",
       "        var option = $(\n",
       "            '<option/>', {selected: fmt === mpl.default_extension}).html(fmt);\n",
       "        fmt_picker.append(option);\n",
       "    }\n",
       "\n",
       "    // Add hover states to the ui-buttons\n",
       "    $( \".ui-button\" ).hover(\n",
       "        function() { $(this).addClass(\"ui-state-hover\");},\n",
       "        function() { $(this).removeClass(\"ui-state-hover\");}\n",
       "    );\n",
       "\n",
       "    var status_bar = $('<span class=\"mpl-message\"/>');\n",
       "    nav_element.append(status_bar);\n",
       "    this.message = status_bar[0];\n",
       "}\n",
       "\n",
       "mpl.figure.prototype.request_resize = function(x_pixels, y_pixels) {\n",
       "    // Request matplotlib to resize the figure. Matplotlib will then trigger a resize in the client,\n",
       "    // which will in turn request a refresh of the image.\n",
       "    this.send_message('resize', {'width': x_pixels, 'height': y_pixels});\n",
       "}\n",
       "\n",
       "mpl.figure.prototype.send_message = function(type, properties) {\n",
       "    properties['type'] = type;\n",
       "    properties['figure_id'] = this.id;\n",
       "    this.ws.send(JSON.stringify(properties));\n",
       "}\n",
       "\n",
       "mpl.figure.prototype.send_draw_message = function() {\n",
       "    if (!this.waiting) {\n",
       "        this.waiting = true;\n",
       "        this.ws.send(JSON.stringify({type: \"draw\", figure_id: this.id}));\n",
       "    }\n",
       "}\n",
       "\n",
       "\n",
       "mpl.figure.prototype.handle_save = function(fig, msg) {\n",
       "    var format_dropdown = fig.format_dropdown;\n",
       "    var format = format_dropdown.options[format_dropdown.selectedIndex].value;\n",
       "    fig.ondownload(fig, format);\n",
       "}\n",
       "\n",
       "\n",
       "mpl.figure.prototype.handle_resize = function(fig, msg) {\n",
       "    var size = msg['size'];\n",
       "    if (size[0] != fig.canvas.width || size[1] != fig.canvas.height) {\n",
       "        fig._resize_canvas(size[0], size[1]);\n",
       "        fig.send_message(\"refresh\", {});\n",
       "    };\n",
       "}\n",
       "\n",
       "mpl.figure.prototype.handle_rubberband = function(fig, msg) {\n",
       "    var x0 = msg['x0'] / mpl.ratio;\n",
       "    var y0 = (fig.canvas.height - msg['y0']) / mpl.ratio;\n",
       "    var x1 = msg['x1'] / mpl.ratio;\n",
       "    var y1 = (fig.canvas.height - msg['y1']) / mpl.ratio;\n",
       "    x0 = Math.floor(x0) + 0.5;\n",
       "    y0 = Math.floor(y0) + 0.5;\n",
       "    x1 = Math.floor(x1) + 0.5;\n",
       "    y1 = Math.floor(y1) + 0.5;\n",
       "    var min_x = Math.min(x0, x1);\n",
       "    var min_y = Math.min(y0, y1);\n",
       "    var width = Math.abs(x1 - x0);\n",
       "    var height = Math.abs(y1 - y0);\n",
       "\n",
       "    fig.rubberband_context.clearRect(\n",
       "        0, 0, fig.canvas.width / mpl.ratio, fig.canvas.height / mpl.ratio);\n",
       "\n",
       "    fig.rubberband_context.strokeRect(min_x, min_y, width, height);\n",
       "}\n",
       "\n",
       "mpl.figure.prototype.handle_figure_label = function(fig, msg) {\n",
       "    // Updates the figure title.\n",
       "    fig.header.textContent = msg['label'];\n",
       "}\n",
       "\n",
       "mpl.figure.prototype.handle_cursor = function(fig, msg) {\n",
       "    var cursor = msg['cursor'];\n",
       "    switch(cursor)\n",
       "    {\n",
       "    case 0:\n",
       "        cursor = 'pointer';\n",
       "        break;\n",
       "    case 1:\n",
       "        cursor = 'default';\n",
       "        break;\n",
       "    case 2:\n",
       "        cursor = 'crosshair';\n",
       "        break;\n",
       "    case 3:\n",
       "        cursor = 'move';\n",
       "        break;\n",
       "    }\n",
       "    fig.rubberband_canvas.style.cursor = cursor;\n",
       "}\n",
       "\n",
       "mpl.figure.prototype.handle_message = function(fig, msg) {\n",
       "    fig.message.textContent = msg['message'];\n",
       "}\n",
       "\n",
       "mpl.figure.prototype.handle_draw = function(fig, msg) {\n",
       "    // Request the server to send over a new figure.\n",
       "    fig.send_draw_message();\n",
       "}\n",
       "\n",
       "mpl.figure.prototype.handle_image_mode = function(fig, msg) {\n",
       "    fig.image_mode = msg['mode'];\n",
       "}\n",
       "\n",
       "mpl.figure.prototype.updated_canvas_event = function() {\n",
       "    // Called whenever the canvas gets updated.\n",
       "    this.send_message(\"ack\", {});\n",
       "}\n",
       "\n",
       "// A function to construct a web socket function for onmessage handling.\n",
       "// Called in the figure constructor.\n",
       "mpl.figure.prototype._make_on_message_function = function(fig) {\n",
       "    return function socket_on_message(evt) {\n",
       "        if (evt.data instanceof Blob) {\n",
       "            /* FIXME: We get \"Resource interpreted as Image but\n",
       "             * transferred with MIME type text/plain:\" errors on\n",
       "             * Chrome.  But how to set the MIME type?  It doesn't seem\n",
       "             * to be part of the websocket stream */\n",
       "            evt.data.type = \"image/png\";\n",
       "\n",
       "            /* Free the memory for the previous frames */\n",
       "            if (fig.imageObj.src) {\n",
       "                (window.URL || window.webkitURL).revokeObjectURL(\n",
       "                    fig.imageObj.src);\n",
       "            }\n",
       "\n",
       "            fig.imageObj.src = (window.URL || window.webkitURL).createObjectURL(\n",
       "                evt.data);\n",
       "            fig.updated_canvas_event();\n",
       "            fig.waiting = false;\n",
       "            return;\n",
       "        }\n",
       "        else if (typeof evt.data === 'string' && evt.data.slice(0, 21) == \"data:image/png;base64\") {\n",
       "            fig.imageObj.src = evt.data;\n",
       "            fig.updated_canvas_event();\n",
       "            fig.waiting = false;\n",
       "            return;\n",
       "        }\n",
       "\n",
       "        var msg = JSON.parse(evt.data);\n",
       "        var msg_type = msg['type'];\n",
       "\n",
       "        // Call the  \"handle_{type}\" callback, which takes\n",
       "        // the figure and JSON message as its only arguments.\n",
       "        try {\n",
       "            var callback = fig[\"handle_\" + msg_type];\n",
       "        } catch (e) {\n",
       "            console.log(\"No handler for the '\" + msg_type + \"' message type: \", msg);\n",
       "            return;\n",
       "        }\n",
       "\n",
       "        if (callback) {\n",
       "            try {\n",
       "                // console.log(\"Handling '\" + msg_type + \"' message: \", msg);\n",
       "                callback(fig, msg);\n",
       "            } catch (e) {\n",
       "                console.log(\"Exception inside the 'handler_\" + msg_type + \"' callback:\", e, e.stack, msg);\n",
       "            }\n",
       "        }\n",
       "    };\n",
       "}\n",
       "\n",
       "// from http://stackoverflow.com/questions/1114465/getting-mouse-location-in-canvas\n",
       "mpl.findpos = function(e) {\n",
       "    //this section is from http://www.quirksmode.org/js/events_properties.html\n",
       "    var targ;\n",
       "    if (!e)\n",
       "        e = window.event;\n",
       "    if (e.target)\n",
       "        targ = e.target;\n",
       "    else if (e.srcElement)\n",
       "        targ = e.srcElement;\n",
       "    if (targ.nodeType == 3) // defeat Safari bug\n",
       "        targ = targ.parentNode;\n",
       "\n",
       "    // jQuery normalizes the pageX and pageY\n",
       "    // pageX,Y are the mouse positions relative to the document\n",
       "    // offset() returns the position of the element relative to the document\n",
       "    var x = e.pageX - $(targ).offset().left;\n",
       "    var y = e.pageY - $(targ).offset().top;\n",
       "\n",
       "    return {\"x\": x, \"y\": y};\n",
       "};\n",
       "\n",
       "/*\n",
       " * return a copy of an object with only non-object keys\n",
       " * we need this to avoid circular references\n",
       " * http://stackoverflow.com/a/24161582/3208463\n",
       " */\n",
       "function simpleKeys (original) {\n",
       "  return Object.keys(original).reduce(function (obj, key) {\n",
       "    if (typeof original[key] !== 'object')\n",
       "        obj[key] = original[key]\n",
       "    return obj;\n",
       "  }, {});\n",
       "}\n",
       "\n",
       "mpl.figure.prototype.mouse_event = function(event, name) {\n",
       "    var canvas_pos = mpl.findpos(event)\n",
       "\n",
       "    if (name === 'button_press')\n",
       "    {\n",
       "        this.canvas.focus();\n",
       "        this.canvas_div.focus();\n",
       "    }\n",
       "\n",
       "    var x = canvas_pos.x * mpl.ratio;\n",
       "    var y = canvas_pos.y * mpl.ratio;\n",
       "\n",
       "    this.send_message(name, {x: x, y: y, button: event.button,\n",
       "                             step: event.step,\n",
       "                             guiEvent: simpleKeys(event)});\n",
       "\n",
       "    /* This prevents the web browser from automatically changing to\n",
       "     * the text insertion cursor when the button is pressed.  We want\n",
       "     * to control all of the cursor setting manually through the\n",
       "     * 'cursor' event from matplotlib */\n",
       "    event.preventDefault();\n",
       "    return false;\n",
       "}\n",
       "\n",
       "mpl.figure.prototype._key_event_extra = function(event, name) {\n",
       "    // Handle any extra behaviour associated with a key event\n",
       "}\n",
       "\n",
       "mpl.figure.prototype.key_event = function(event, name) {\n",
       "\n",
       "    // Prevent repeat events\n",
       "    if (name == 'key_press')\n",
       "    {\n",
       "        if (event.which === this._key)\n",
       "            return;\n",
       "        else\n",
       "            this._key = event.which;\n",
       "    }\n",
       "    if (name == 'key_release')\n",
       "        this._key = null;\n",
       "\n",
       "    var value = '';\n",
       "    if (event.ctrlKey && event.which != 17)\n",
       "        value += \"ctrl+\";\n",
       "    if (event.altKey && event.which != 18)\n",
       "        value += \"alt+\";\n",
       "    if (event.shiftKey && event.which != 16)\n",
       "        value += \"shift+\";\n",
       "\n",
       "    value += 'k';\n",
       "    value += event.which.toString();\n",
       "\n",
       "    this._key_event_extra(event, name);\n",
       "\n",
       "    this.send_message(name, {key: value,\n",
       "                             guiEvent: simpleKeys(event)});\n",
       "    return false;\n",
       "}\n",
       "\n",
       "mpl.figure.prototype.toolbar_button_onclick = function(name) {\n",
       "    if (name == 'download') {\n",
       "        this.handle_save(this, null);\n",
       "    } else {\n",
       "        this.send_message(\"toolbar_button\", {name: name});\n",
       "    }\n",
       "};\n",
       "\n",
       "mpl.figure.prototype.toolbar_button_onmouseover = function(tooltip) {\n",
       "    this.message.textContent = tooltip;\n",
       "};\n",
       "mpl.toolbar_items = [[\"Home\", \"Reset original view\", \"fa fa-home icon-home\", \"home\"], [\"Back\", \"Back to previous view\", \"fa fa-arrow-left icon-arrow-left\", \"back\"], [\"Forward\", \"Forward to next view\", \"fa fa-arrow-right icon-arrow-right\", \"forward\"], [\"\", \"\", \"\", \"\"], [\"Pan\", \"Pan axes with left mouse, zoom with right\", \"fa fa-arrows icon-move\", \"pan\"], [\"Zoom\", \"Zoom to rectangle\", \"fa fa-square-o icon-check-empty\", \"zoom\"], [\"\", \"\", \"\", \"\"], [\"Download\", \"Download plot\", \"fa fa-floppy-o icon-save\", \"download\"]];\n",
       "\n",
       "mpl.extensions = [\"eps\", \"jpeg\", \"pdf\", \"png\", \"ps\", \"raw\", \"svg\", \"tif\"];\n",
       "\n",
       "mpl.default_extension = \"png\";var comm_websocket_adapter = function(comm) {\n",
       "    // Create a \"websocket\"-like object which calls the given IPython comm\n",
       "    // object with the appropriate methods. Currently this is a non binary\n",
       "    // socket, so there is still some room for performance tuning.\n",
       "    var ws = {};\n",
       "\n",
       "    ws.close = function() {\n",
       "        comm.close()\n",
       "    };\n",
       "    ws.send = function(m) {\n",
       "        //console.log('sending', m);\n",
       "        comm.send(m);\n",
       "    };\n",
       "    // Register the callback with on_msg.\n",
       "    comm.on_msg(function(msg) {\n",
       "        //console.log('receiving', msg['content']['data'], msg);\n",
       "        // Pass the mpl event to the overridden (by mpl) onmessage function.\n",
       "        ws.onmessage(msg['content']['data'])\n",
       "    });\n",
       "    return ws;\n",
       "}\n",
       "\n",
       "mpl.mpl_figure_comm = function(comm, msg) {\n",
       "    // This is the function which gets called when the mpl process\n",
       "    // starts-up an IPython Comm through the \"matplotlib\" channel.\n",
       "\n",
       "    var id = msg.content.data.id;\n",
       "    // Get hold of the div created by the display call when the Comm\n",
       "    // socket was opened in Python.\n",
       "    var element = $(\"#\" + id);\n",
       "    var ws_proxy = comm_websocket_adapter(comm)\n",
       "\n",
       "    function ondownload(figure, format) {\n",
       "        window.open(figure.imageObj.src);\n",
       "    }\n",
       "\n",
       "    var fig = new mpl.figure(id, ws_proxy,\n",
       "                           ondownload,\n",
       "                           element.get(0));\n",
       "\n",
       "    // Call onopen now - mpl needs it, as it is assuming we've passed it a real\n",
       "    // web socket which is closed, not our websocket->open comm proxy.\n",
       "    ws_proxy.onopen();\n",
       "\n",
       "    fig.parent_element = element.get(0);\n",
       "    fig.cell_info = mpl.find_output_cell(\"<div id='\" + id + \"'></div>\");\n",
       "    if (!fig.cell_info) {\n",
       "        console.error(\"Failed to find cell for figure\", id, fig);\n",
       "        return;\n",
       "    }\n",
       "\n",
       "    var output_index = fig.cell_info[2]\n",
       "    var cell = fig.cell_info[0];\n",
       "\n",
       "};\n",
       "\n",
       "mpl.figure.prototype.handle_close = function(fig, msg) {\n",
       "    var width = fig.canvas.width/mpl.ratio\n",
       "    fig.root.unbind('remove')\n",
       "\n",
       "    // Update the output cell to use the data from the current canvas.\n",
       "    fig.push_to_output();\n",
       "    var dataURL = fig.canvas.toDataURL();\n",
       "    // Re-enable the keyboard manager in IPython - without this line, in FF,\n",
       "    // the notebook keyboard shortcuts fail.\n",
       "    IPython.keyboard_manager.enable()\n",
       "    $(fig.parent_element).html('<img src=\"' + dataURL + '\" width=\"' + width + '\">');\n",
       "    fig.close_ws(fig, msg);\n",
       "}\n",
       "\n",
       "mpl.figure.prototype.close_ws = function(fig, msg){\n",
       "    fig.send_message('closing', msg);\n",
       "    // fig.ws.close()\n",
       "}\n",
       "\n",
       "mpl.figure.prototype.push_to_output = function(remove_interactive) {\n",
       "    // Turn the data on the canvas into data in the output cell.\n",
       "    var width = this.canvas.width/mpl.ratio\n",
       "    var dataURL = this.canvas.toDataURL();\n",
       "    this.cell_info[1]['text/html'] = '<img src=\"' + dataURL + '\" width=\"' + width + '\">';\n",
       "}\n",
       "\n",
       "mpl.figure.prototype.updated_canvas_event = function() {\n",
       "    // Tell IPython that the notebook contents must change.\n",
       "    IPython.notebook.set_dirty(true);\n",
       "    this.send_message(\"ack\", {});\n",
       "    var fig = this;\n",
       "    // Wait a second, then push the new image to the DOM so\n",
       "    // that it is saved nicely (might be nice to debounce this).\n",
       "    setTimeout(function () { fig.push_to_output() }, 1000);\n",
       "}\n",
       "\n",
       "mpl.figure.prototype._init_toolbar = function() {\n",
       "    var fig = this;\n",
       "\n",
       "    var nav_element = $('<div/>');\n",
       "    nav_element.attr('style', 'width: 100%');\n",
       "    this.root.append(nav_element);\n",
       "\n",
       "    // Define a callback function for later on.\n",
       "    function toolbar_event(event) {\n",
       "        return fig.toolbar_button_onclick(event['data']);\n",
       "    }\n",
       "    function toolbar_mouse_event(event) {\n",
       "        return fig.toolbar_button_onmouseover(event['data']);\n",
       "    }\n",
       "\n",
       "    for(var toolbar_ind in mpl.toolbar_items){\n",
       "        var name = mpl.toolbar_items[toolbar_ind][0];\n",
       "        var tooltip = mpl.toolbar_items[toolbar_ind][1];\n",
       "        var image = mpl.toolbar_items[toolbar_ind][2];\n",
       "        var method_name = mpl.toolbar_items[toolbar_ind][3];\n",
       "\n",
       "        if (!name) { continue; };\n",
       "\n",
       "        var button = $('<button class=\"btn btn-default\" href=\"#\" title=\"' + name + '\"><i class=\"fa ' + image + ' fa-lg\"></i></button>');\n",
       "        button.click(method_name, toolbar_event);\n",
       "        button.mouseover(tooltip, toolbar_mouse_event);\n",
       "        nav_element.append(button);\n",
       "    }\n",
       "\n",
       "    // Add the status bar.\n",
       "    var status_bar = $('<span class=\"mpl-message\" style=\"text-align:right; float: right;\"/>');\n",
       "    nav_element.append(status_bar);\n",
       "    this.message = status_bar[0];\n",
       "\n",
       "    // Add the close button to the window.\n",
       "    var buttongrp = $('<div class=\"btn-group inline pull-right\"></div>');\n",
       "    var button = $('<button class=\"btn btn-mini btn-primary\" href=\"#\" title=\"Stop Interaction\"><i class=\"fa fa-power-off icon-remove icon-large\"></i></button>');\n",
       "    button.click(function (evt) { fig.handle_close(fig, {}); } );\n",
       "    button.mouseover('Stop Interaction', toolbar_mouse_event);\n",
       "    buttongrp.append(button);\n",
       "    var titlebar = this.root.find($('.ui-dialog-titlebar'));\n",
       "    titlebar.prepend(buttongrp);\n",
       "}\n",
       "\n",
       "mpl.figure.prototype._root_extra_style = function(el){\n",
       "    var fig = this\n",
       "    el.on(\"remove\", function(){\n",
       "\tfig.close_ws(fig, {});\n",
       "    });\n",
       "}\n",
       "\n",
       "mpl.figure.prototype._canvas_extra_style = function(el){\n",
       "    // this is important to make the div 'focusable\n",
       "    el.attr('tabindex', 0)\n",
       "    // reach out to IPython and tell the keyboard manager to turn it's self\n",
       "    // off when our div gets focus\n",
       "\n",
       "    // location in version 3\n",
       "    if (IPython.notebook.keyboard_manager) {\n",
       "        IPython.notebook.keyboard_manager.register_events(el);\n",
       "    }\n",
       "    else {\n",
       "        // location in version 2\n",
       "        IPython.keyboard_manager.register_events(el);\n",
       "    }\n",
       "\n",
       "}\n",
       "\n",
       "mpl.figure.prototype._key_event_extra = function(event, name) {\n",
       "    var manager = IPython.notebook.keyboard_manager;\n",
       "    if (!manager)\n",
       "        manager = IPython.keyboard_manager;\n",
       "\n",
       "    // Check for shift+enter\n",
       "    if (event.shiftKey && event.which == 13) {\n",
       "        this.canvas_div.blur();\n",
       "        // select the cell after this one\n",
       "        var index = IPython.notebook.find_cell_index(this.cell_info[0]);\n",
       "        IPython.notebook.select(index + 1);\n",
       "    }\n",
       "}\n",
       "\n",
       "mpl.figure.prototype.handle_save = function(fig, msg) {\n",
       "    fig.ondownload(fig, null);\n",
       "}\n",
       "\n",
       "\n",
       "mpl.find_output_cell = function(html_output) {\n",
       "    // Return the cell and output element which can be found *uniquely* in the notebook.\n",
       "    // Note - this is a bit hacky, but it is done because the \"notebook_saving.Notebook\"\n",
       "    // IPython event is triggered only after the cells have been serialised, which for\n",
       "    // our purposes (turning an active figure into a static one), is too late.\n",
       "    var cells = IPython.notebook.get_cells();\n",
       "    var ncells = cells.length;\n",
       "    for (var i=0; i<ncells; i++) {\n",
       "        var cell = cells[i];\n",
       "        if (cell.cell_type === 'code'){\n",
       "            for (var j=0; j<cell.output_area.outputs.length; j++) {\n",
       "                var data = cell.output_area.outputs[j];\n",
       "                if (data.data) {\n",
       "                    // IPython >= 3 moved mimebundle to data attribute of output\n",
       "                    data = data.data;\n",
       "                }\n",
       "                if (data['text/html'] == html_output) {\n",
       "                    return [cell, data, j];\n",
       "                }\n",
       "            }\n",
       "        }\n",
       "    }\n",
       "}\n",
       "\n",
       "// Register the function which deals with the matplotlib target/channel.\n",
       "// The kernel may be null if the page has been refreshed.\n",
       "if (IPython.notebook.kernel != null) {\n",
       "    IPython.notebook.kernel.comm_manager.register_target('matplotlib', mpl.mpl_figure_comm);\n",
       "}\n"
      ],
      "text/plain": [
       "<IPython.core.display.Javascript object>"
      ]
     },
     "metadata": {},
     "output_type": "display_data"
    },
    {
     "data": {
      "text/html": [
       "<img src=\"data:image/png;base64,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\" width=\"1000\">"
      ],
      "text/plain": [
       "<IPython.core.display.HTML object>"
      ]
     },
     "metadata": {},
     "output_type": "display_data"
    }
   ],
   "source": [
    "ax, tax, lax, lines = dual_train_plots()\n",
    "fig = ax.figure\n",
    "plt.tight_layout()\n",
    "# This gets built up during the run - do not rerun this cell\n",
    "results = pd.DataFrame([], columns=Results._fields)"
   ]
  },
  {
   "cell_type": "code",
   "execution_count": 12,
   "metadata": {
    "scrolled": false
   },
   "outputs": [
    {
     "name": "stdout",
     "output_type": "stream",
     "text": [
      "for model:  All_CNN6Layer_E(\n",
      "  (conv1): Conv1d(1, 16, kernel_size=(25,), stride=(1,), padding=(12,))\n",
      "  (conv2): Conv1d(16, 9, kernel_size=(15,), stride=(1,), padding=(7,))\n",
      "  (conv3a): Conv1d(25, 9, kernel_size=(15,), stride=(1,), padding=(7,))\n",
      "  (conv4): Conv1d(9, 9, kernel_size=(15,), stride=(1,), padding=(7,))\n",
      "  (conv5): Conv1d(9, 1, kernel_size=(5,), stride=(1,), padding=(2,))\n",
      "  (finalFilter): Conv1d(1, 1, kernel_size=(91,), stride=(1,), padding=(45,))\n",
      "  (conv1dropout): Dropout(p=0.15, inplace=False)\n",
      "  (conv2dropout): Dropout(p=0.15, inplace=False)\n",
      "  (conv3dropout): Dropout(p=0.15, inplace=False)\n",
      "  (conv4dropout): Dropout(p=0.15, inplace=False)\n",
      "  (conv5dropout): Dropout(p=0.15, inplace=False)\n",
      "  (bn1): BatchNorm1d(16, eps=1e-05, momentum=0.1, affine=True, track_running_stats=True)\n",
      "  (bn2): BatchNorm1d(9, eps=1e-05, momentum=0.1, affine=True, track_running_stats=True)\n",
      "  (bn3): BatchNorm1d(9, eps=1e-05, momentum=0.1, affine=True, track_running_stats=True)\n",
      "  (bn4): BatchNorm1d(9, eps=1e-05, momentum=0.1, affine=True, track_running_stats=True)\n",
      "  (bn5): BatchNorm1d(1, eps=1e-05, momentum=0.1, affine=True, track_running_stats=True)\n",
      ")\n",
      "epoch_start 118\n",
      "batch_size 128\n",
      "epochs 200\n",
      "lr 0.001\n",
      "Number of batches: train = 1250, val = 78\n"
     ]
    },
    {
     "name": "stderr",
     "output_type": "stream",
     "text": [
      "/home/michael24peters/pv-finder_experimental/notebooks/model/training.py:95: TqdmDeprecationWarning: This function will be removed in tqdm==5.0.0\n",
      "Please use `tqdm.notebook.tqdm` instead of `tqdm.tqdm_notebook`\n",
      "  file=sys.stderr,\n"
     ]
    },
    {
     "data": {
      "application/vnd.jupyter.widget-view+json": {
       "model_id": "78ed63149b9d424cb741362b4314ff7a",
       "version_major": 2,
       "version_minor": 0
      },
      "text/plain": [
       "HBox(children=(FloatProgress(value=0.0, description='Epochs', layout=Layout(flex='2'), max=200.0, style=Progre…"
      ]
     },
     "metadata": {},
     "output_type": "display_data"
    },
    {
     "data": {
      "application/vnd.jupyter.widget-view+json": {
       "model_id": "",
       "version_major": 2,
       "version_minor": 0
      },
      "text/plain": [
       "HBox(children=(FloatProgress(value=0.0, description='Training', layout=Layout(flex='2'), max=1250.0, style=Pro…"
      ]
     },
     "metadata": {},
     "output_type": "display_data"
    },
    {
     "name": "stdout",
     "output_type": "stream",
     "text": [
      "Epoch 118: train=140.61, val=35.9548, took 52.16 s\n",
      "  Validation Found 19 of 54504, added 17 (eff 0.03%) (0.0017 FP/event)\n"
     ]
    },
    {
     "data": {
      "application/vnd.jupyter.widget-view+json": {
       "model_id": "",
       "version_major": 2,
       "version_minor": 0
      },
      "text/plain": [
       "HBox(children=(FloatProgress(value=0.0, description='Training', layout=Layout(flex='2'), max=1250.0, style=Pro…"
      ]
     },
     "metadata": {},
     "output_type": "display_data"
    },
    {
     "name": "stdout",
     "output_type": "stream",
     "text": [
      "Epoch 119: train=24.7604, val=16.2125, took 52.011 s\n",
      "  Validation Found 36183 of 54504, added 343 (eff 66.39%) (0.0344 FP/event)\n"
     ]
    },
    {
     "data": {
      "application/vnd.jupyter.widget-view+json": {
       "model_id": "",
       "version_major": 2,
       "version_minor": 0
      },
      "text/plain": [
       "HBox(children=(FloatProgress(value=0.0, description='Training', layout=Layout(flex='2'), max=1250.0, style=Pro…"
      ]
     },
     "metadata": {},
     "output_type": "display_data"
    },
    {
     "name": "stdout",
     "output_type": "stream",
     "text": [
      "Epoch 120: train=13.4223, val=11.7583, took 51.878 s\n",
      "  Validation Found 46047 of 54504, added 857 (eff 84.48%) (0.0858 FP/event)\n"
     ]
    },
    {
     "data": {
      "application/vnd.jupyter.widget-view+json": {
       "model_id": "",
       "version_major": 2,
       "version_minor": 0
      },
      "text/plain": [
       "HBox(children=(FloatProgress(value=0.0, description='Training', layout=Layout(flex='2'), max=1250.0, style=Pro…"
      ]
     },
     "metadata": {},
     "output_type": "display_data"
    },
    {
     "name": "stdout",
     "output_type": "stream",
     "text": [
      "Epoch 121: train=11.371, val=10.9022, took 51.424 s\n",
      "  Validation Found 47313 of 54504, added 1037 (eff 86.81%) (0.104 FP/event)\n"
     ]
    },
    {
     "data": {
      "application/vnd.jupyter.widget-view+json": {
       "model_id": "",
       "version_major": 2,
       "version_minor": 0
      },
      "text/plain": [
       "HBox(children=(FloatProgress(value=0.0, description='Training', layout=Layout(flex='2'), max=1250.0, style=Pro…"
      ]
     },
     "metadata": {},
     "output_type": "display_data"
    },
    {
     "name": "stdout",
     "output_type": "stream",
     "text": [
      "Epoch 122: train=10.4767, val=10.4009, took 51.812 s\n",
      "  Validation Found 48332 of 54504, added 1227 (eff 88.68%) (0.123 FP/event)\n"
     ]
    },
    {
     "data": {
      "application/vnd.jupyter.widget-view+json": {
       "model_id": "",
       "version_major": 2,
       "version_minor": 0
      },
      "text/plain": [
       "HBox(children=(FloatProgress(value=0.0, description='Training', layout=Layout(flex='2'), max=1250.0, style=Pro…"
      ]
     },
     "metadata": {},
     "output_type": "display_data"
    },
    {
     "name": "stdout",
     "output_type": "stream",
     "text": [
      "Epoch 123: train=9.91345, val=10.0046, took 55.17 s\n",
      "  Validation Found 48801 of 54504, added 1269 (eff 89.54%) (0.127 FP/event)\n"
     ]
    },
    {
     "data": {
      "application/vnd.jupyter.widget-view+json": {
       "model_id": "",
       "version_major": 2,
       "version_minor": 0
      },
      "text/plain": [
       "HBox(children=(FloatProgress(value=0.0, description='Training', layout=Layout(flex='2'), max=1250.0, style=Pro…"
      ]
     },
     "metadata": {},
     "output_type": "display_data"
    },
    {
     "name": "stdout",
     "output_type": "stream",
     "text": [
      "Epoch 124: train=9.41599, val=9.51258, took 55.545 s\n",
      "  Validation Found 49317 of 54504, added 1407 (eff 90.48%) (0.141 FP/event)\n"
     ]
    },
    {
     "data": {
      "application/vnd.jupyter.widget-view+json": {
       "model_id": "",
       "version_major": 2,
       "version_minor": 0
      },
      "text/plain": [
       "HBox(children=(FloatProgress(value=0.0, description='Training', layout=Layout(flex='2'), max=1250.0, style=Pro…"
      ]
     },
     "metadata": {},
     "output_type": "display_data"
    },
    {
     "name": "stdout",
     "output_type": "stream",
     "text": [
      "Epoch 125: train=9.08751, val=9.46447, took 56.038 s\n",
      "  Validation Found 49522 of 54504, added 1454 (eff 90.86%) (0.146 FP/event)\n"
     ]
    },
    {
     "data": {
      "application/vnd.jupyter.widget-view+json": {
       "model_id": "",
       "version_major": 2,
       "version_minor": 0
      },
      "text/plain": [
       "HBox(children=(FloatProgress(value=0.0, description='Training', layout=Layout(flex='2'), max=1250.0, style=Pro…"
      ]
     },
     "metadata": {},
     "output_type": "display_data"
    },
    {
     "name": "stdout",
     "output_type": "stream",
     "text": [
      "Epoch 126: train=8.92218, val=9.10663, took 55.984 s\n",
      "  Validation Found 49949 of 54504, added 1714 (eff 91.64%) (0.172 FP/event)\n"
     ]
    },
    {
     "data": {
      "application/vnd.jupyter.widget-view+json": {
       "model_id": "",
       "version_major": 2,
       "version_minor": 0
      },
      "text/plain": [
       "HBox(children=(FloatProgress(value=0.0, description='Training', layout=Layout(flex='2'), max=1250.0, style=Pro…"
      ]
     },
     "metadata": {},
     "output_type": "display_data"
    },
    {
     "name": "stdout",
     "output_type": "stream",
     "text": [
      "Epoch 127: train=8.82215, val=8.91582, took 56.407 s\n",
      "  Validation Found 50034 of 54504, added 1828 (eff 91.80%) (0.183 FP/event)\n"
     ]
    },
    {
     "data": {
      "application/vnd.jupyter.widget-view+json": {
       "model_id": "",
       "version_major": 2,
       "version_minor": 0
      },
      "text/plain": [
       "HBox(children=(FloatProgress(value=0.0, description='Training', layout=Layout(flex='2'), max=1250.0, style=Pro…"
      ]
     },
     "metadata": {},
     "output_type": "display_data"
    },
    {
     "name": "stdout",
     "output_type": "stream",
     "text": [
      "Epoch 128: train=8.75615, val=8.87294, took 56.337 s\n",
      "  Validation Found 50180 of 54504, added 1925 (eff 92.07%) (0.193 FP/event)\n"
     ]
    },
    {
     "data": {
      "application/vnd.jupyter.widget-view+json": {
       "model_id": "",
       "version_major": 2,
       "version_minor": 0
      },
      "text/plain": [
       "HBox(children=(FloatProgress(value=0.0, description='Training', layout=Layout(flex='2'), max=1250.0, style=Pro…"
      ]
     },
     "metadata": {},
     "output_type": "display_data"
    },
    {
     "name": "stdout",
     "output_type": "stream",
     "text": [
      "Epoch 129: train=8.69157, val=8.78334, took 55.537 s\n",
      "  Validation Found 50081 of 54504, added 1827 (eff 91.88%) (0.183 FP/event)\n"
     ]
    },
    {
     "data": {
      "application/vnd.jupyter.widget-view+json": {
       "model_id": "",
       "version_major": 2,
       "version_minor": 0
      },
      "text/plain": [
       "HBox(children=(FloatProgress(value=0.0, description='Training', layout=Layout(flex='2'), max=1250.0, style=Pro…"
      ]
     },
     "metadata": {},
     "output_type": "display_data"
    },
    {
     "name": "stdout",
     "output_type": "stream",
     "text": [
      "Epoch 130: train=8.63972, val=8.78901, took 56.362 s\n",
      "  Validation Found 50178 of 54504, added 2044 (eff 92.06%) (0.205 FP/event)\n"
     ]
    },
    {
     "data": {
      "application/vnd.jupyter.widget-view+json": {
       "model_id": "",
       "version_major": 2,
       "version_minor": 0
      },
      "text/plain": [
       "HBox(children=(FloatProgress(value=0.0, description='Training', layout=Layout(flex='2'), max=1250.0, style=Pro…"
      ]
     },
     "metadata": {},
     "output_type": "display_data"
    },
    {
     "name": "stdout",
     "output_type": "stream",
     "text": [
      "Epoch 131: train=8.59842, val=8.74771, took 55.478 s\n",
      "  Validation Found 50023 of 54504, added 1815 (eff 91.78%) (0.182 FP/event)\n"
     ]
    },
    {
     "data": {
      "application/vnd.jupyter.widget-view+json": {
       "model_id": "",
       "version_major": 2,
       "version_minor": 0
      },
      "text/plain": [
       "HBox(children=(FloatProgress(value=0.0, description='Training', layout=Layout(flex='2'), max=1250.0, style=Pro…"
      ]
     },
     "metadata": {},
     "output_type": "display_data"
    },
    {
     "name": "stdout",
     "output_type": "stream",
     "text": [
      "Epoch 132: train=8.57568, val=8.72157, took 56.481 s\n",
      "  Validation Found 50129 of 54504, added 2027 (eff 91.97%) (0.203 FP/event)\n"
     ]
    },
    {
     "data": {
      "application/vnd.jupyter.widget-view+json": {
       "model_id": "",
       "version_major": 2,
       "version_minor": 0
      },
      "text/plain": [
       "HBox(children=(FloatProgress(value=0.0, description='Training', layout=Layout(flex='2'), max=1250.0, style=Pro…"
      ]
     },
     "metadata": {},
     "output_type": "display_data"
    },
    {
     "name": "stdout",
     "output_type": "stream",
     "text": [
      "Epoch 133: train=8.55215, val=8.74484, took 55.911 s\n",
      "  Validation Found 50103 of 54504, added 1966 (eff 91.93%) (0.197 FP/event)\n"
     ]
    },
    {
     "data": {
      "application/vnd.jupyter.widget-view+json": {
       "model_id": "",
       "version_major": 2,
       "version_minor": 0
      },
      "text/plain": [
       "HBox(children=(FloatProgress(value=0.0, description='Training', layout=Layout(flex='2'), max=1250.0, style=Pro…"
      ]
     },
     "metadata": {},
     "output_type": "display_data"
    },
    {
     "name": "stdout",
     "output_type": "stream",
     "text": [
      "Epoch 134: train=8.52922, val=8.67991, took 55.803 s\n",
      "  Validation Found 50130 of 54504, added 2177 (eff 91.97%) (0.218 FP/event)\n"
     ]
    },
    {
     "data": {
      "application/vnd.jupyter.widget-view+json": {
       "model_id": "",
       "version_major": 2,
       "version_minor": 0
      },
      "text/plain": [
       "HBox(children=(FloatProgress(value=0.0, description='Training', layout=Layout(flex='2'), max=1250.0, style=Pro…"
      ]
     },
     "metadata": {},
     "output_type": "display_data"
    },
    {
     "name": "stdout",
     "output_type": "stream",
     "text": [
      "Epoch 135: train=8.50558, val=8.65309, took 56.195 s\n",
      "  Validation Found 50158 of 54504, added 2151 (eff 92.03%) (0.215 FP/event)\n"
     ]
    },
    {
     "data": {
      "application/vnd.jupyter.widget-view+json": {
       "model_id": "",
       "version_major": 2,
       "version_minor": 0
      },
      "text/plain": [
       "HBox(children=(FloatProgress(value=0.0, description='Training', layout=Layout(flex='2'), max=1250.0, style=Pro…"
      ]
     },
     "metadata": {},
     "output_type": "display_data"
    },
    {
     "name": "stdout",
     "output_type": "stream",
     "text": [
      "Epoch 136: train=8.49333, val=8.667, took 55.696 s\n",
      "  Validation Found 49992 of 54504, added 2139 (eff 91.72%) (0.214 FP/event)\n"
     ]
    },
    {
     "data": {
      "application/vnd.jupyter.widget-view+json": {
       "model_id": "",
       "version_major": 2,
       "version_minor": 0
      },
      "text/plain": [
       "HBox(children=(FloatProgress(value=0.0, description='Training', layout=Layout(flex='2'), max=1250.0, style=Pro…"
      ]
     },
     "metadata": {},
     "output_type": "display_data"
    },
    {
     "name": "stdout",
     "output_type": "stream",
     "text": [
      "Epoch 137: train=8.4855, val=8.59707, took 56.262 s\n",
      "  Validation Found 50007 of 54504, added 2029 (eff 91.75%) (0.203 FP/event)\n"
     ]
    },
    {
     "data": {
      "application/vnd.jupyter.widget-view+json": {
       "model_id": "",
       "version_major": 2,
       "version_minor": 0
      },
      "text/plain": [
       "HBox(children=(FloatProgress(value=0.0, description='Training', layout=Layout(flex='2'), max=1250.0, style=Pro…"
      ]
     },
     "metadata": {},
     "output_type": "display_data"
    },
    {
     "name": "stdout",
     "output_type": "stream",
     "text": [
      "Epoch 138: train=8.46922, val=8.5667, took 56.107 s\n",
      "  Validation Found 50017 of 54504, added 2233 (eff 91.77%) (0.224 FP/event)\n"
     ]
    },
    {
     "data": {
      "application/vnd.jupyter.widget-view+json": {
       "model_id": "",
       "version_major": 2,
       "version_minor": 0
      },
      "text/plain": [
       "HBox(children=(FloatProgress(value=0.0, description='Training', layout=Layout(flex='2'), max=1250.0, style=Pro…"
      ]
     },
     "metadata": {},
     "output_type": "display_data"
    },
    {
     "name": "stdout",
     "output_type": "stream",
     "text": [
      "Epoch 139: train=8.46215, val=8.58128, took 55.884 s\n",
      "  Validation Found 50061 of 54504, added 2282 (eff 91.85%) (0.229 FP/event)\n"
     ]
    },
    {
     "data": {
      "application/vnd.jupyter.widget-view+json": {
       "model_id": "",
       "version_major": 2,
       "version_minor": 0
      },
      "text/plain": [
       "HBox(children=(FloatProgress(value=0.0, description='Training', layout=Layout(flex='2'), max=1250.0, style=Pro…"
      ]
     },
     "metadata": {},
     "output_type": "display_data"
    },
    {
     "name": "stdout",
     "output_type": "stream",
     "text": [
      "Epoch 140: train=8.45244, val=8.61507, took 56.011 s\n",
      "  Validation Found 50158 of 54504, added 2245 (eff 92.03%) (0.225 FP/event)\n"
     ]
    },
    {
     "data": {
      "application/vnd.jupyter.widget-view+json": {
       "model_id": "",
       "version_major": 2,
       "version_minor": 0
      },
      "text/plain": [
       "HBox(children=(FloatProgress(value=0.0, description='Training', layout=Layout(flex='2'), max=1250.0, style=Pro…"
      ]
     },
     "metadata": {},
     "output_type": "display_data"
    },
    {
     "name": "stdout",
     "output_type": "stream",
     "text": [
      "Epoch 141: train=8.44543, val=8.59405, took 56.576 s\n",
      "  Validation Found 50014 of 54504, added 2115 (eff 91.76%) (0.212 FP/event)\n"
     ]
    },
    {
     "data": {
      "application/vnd.jupyter.widget-view+json": {
       "model_id": "",
       "version_major": 2,
       "version_minor": 0
      },
      "text/plain": [
       "HBox(children=(FloatProgress(value=0.0, description='Training', layout=Layout(flex='2'), max=1250.0, style=Pro…"
      ]
     },
     "metadata": {},
     "output_type": "display_data"
    },
    {
     "name": "stdout",
     "output_type": "stream",
     "text": [
      "Epoch 142: train=8.43582, val=8.63924, took 56.181 s\n",
      "  Validation Found 50038 of 54504, added 2072 (eff 91.81%) (0.208 FP/event)\n"
     ]
    },
    {
     "data": {
      "application/vnd.jupyter.widget-view+json": {
       "model_id": "",
       "version_major": 2,
       "version_minor": 0
      },
      "text/plain": [
       "HBox(children=(FloatProgress(value=0.0, description='Training', layout=Layout(flex='2'), max=1250.0, style=Pro…"
      ]
     },
     "metadata": {},
     "output_type": "display_data"
    },
    {
     "name": "stdout",
     "output_type": "stream",
     "text": [
      "Epoch 143: train=8.43412, val=8.63046, took 56.851 s\n",
      "  Validation Found 49924 of 54504, added 1990 (eff 91.60%) (0.199 FP/event)\n"
     ]
    },
    {
     "data": {
      "application/vnd.jupyter.widget-view+json": {
       "model_id": "",
       "version_major": 2,
       "version_minor": 0
      },
      "text/plain": [
       "HBox(children=(FloatProgress(value=0.0, description='Training', layout=Layout(flex='2'), max=1250.0, style=Pro…"
      ]
     },
     "metadata": {},
     "output_type": "display_data"
    },
    {
     "name": "stdout",
     "output_type": "stream",
     "text": [
      "Epoch 144: train=8.42468, val=8.59624, took 55.326 s\n",
      "  Validation Found 50103 of 54504, added 2210 (eff 91.93%) (0.221 FP/event)\n"
     ]
    },
    {
     "data": {
      "application/vnd.jupyter.widget-view+json": {
       "model_id": "",
       "version_major": 2,
       "version_minor": 0
      },
      "text/plain": [
       "HBox(children=(FloatProgress(value=0.0, description='Training', layout=Layout(flex='2'), max=1250.0, style=Pro…"
      ]
     },
     "metadata": {},
     "output_type": "display_data"
    },
    {
     "name": "stdout",
     "output_type": "stream",
     "text": [
      "Epoch 145: train=8.42145, val=8.61635, took 55.976 s\n",
      "  Validation Found 50037 of 54504, added 2095 (eff 91.80%) (0.21 FP/event)\n"
     ]
    },
    {
     "data": {
      "application/vnd.jupyter.widget-view+json": {
       "model_id": "",
       "version_major": 2,
       "version_minor": 0
      },
      "text/plain": [
       "HBox(children=(FloatProgress(value=0.0, description='Training', layout=Layout(flex='2'), max=1250.0, style=Pro…"
      ]
     },
     "metadata": {},
     "output_type": "display_data"
    },
    {
     "name": "stdout",
     "output_type": "stream",
     "text": [
      "Epoch 146: train=8.4177, val=8.62736, took 55.411 s\n",
      "  Validation Found 50079 of 54504, added 2184 (eff 91.88%) (0.219 FP/event)\n"
     ]
    },
    {
     "data": {
      "application/vnd.jupyter.widget-view+json": {
       "model_id": "",
       "version_major": 2,
       "version_minor": 0
      },
      "text/plain": [
       "HBox(children=(FloatProgress(value=0.0, description='Training', layout=Layout(flex='2'), max=1250.0, style=Pro…"
      ]
     },
     "metadata": {},
     "output_type": "display_data"
    },
    {
     "name": "stdout",
     "output_type": "stream",
     "text": [
      "Epoch 147: train=8.41179, val=8.56017, took 55.62 s\n",
      "  Validation Found 50027 of 54504, added 2091 (eff 91.79%) (0.209 FP/event)\n"
     ]
    },
    {
     "data": {
      "application/vnd.jupyter.widget-view+json": {
       "model_id": "",
       "version_major": 2,
       "version_minor": 0
      },
      "text/plain": [
       "HBox(children=(FloatProgress(value=0.0, description='Training', layout=Layout(flex='2'), max=1250.0, style=Pro…"
      ]
     },
     "metadata": {},
     "output_type": "display_data"
    },
    {
     "name": "stdout",
     "output_type": "stream",
     "text": [
      "Epoch 148: train=8.41361, val=8.55344, took 55.983 s\n",
      "  Validation Found 50150 of 54504, added 2328 (eff 92.01%) (0.233 FP/event)\n"
     ]
    },
    {
     "data": {
      "application/vnd.jupyter.widget-view+json": {
       "model_id": "",
       "version_major": 2,
       "version_minor": 0
      },
      "text/plain": [
       "HBox(children=(FloatProgress(value=0.0, description='Training', layout=Layout(flex='2'), max=1250.0, style=Pro…"
      ]
     },
     "metadata": {},
     "output_type": "display_data"
    },
    {
     "name": "stdout",
     "output_type": "stream",
     "text": [
      "Epoch 149: train=8.40606, val=8.53909, took 55.397 s\n",
      "  Validation Found 50208 of 54504, added 2316 (eff 92.12%) (0.232 FP/event)\n"
     ]
    },
    {
     "data": {
      "application/vnd.jupyter.widget-view+json": {
       "model_id": "",
       "version_major": 2,
       "version_minor": 0
      },
      "text/plain": [
       "HBox(children=(FloatProgress(value=0.0, description='Training', layout=Layout(flex='2'), max=1250.0, style=Pro…"
      ]
     },
     "metadata": {},
     "output_type": "display_data"
    },
    {
     "name": "stdout",
     "output_type": "stream",
     "text": [
      "Epoch 150: train=8.39865, val=8.62149, took 56.594 s\n",
      "  Validation Found 50165 of 54504, added 2030 (eff 92.04%) (0.203 FP/event)\n"
     ]
    },
    {
     "data": {
      "application/vnd.jupyter.widget-view+json": {
       "model_id": "",
       "version_major": 2,
       "version_minor": 0
      },
      "text/plain": [
       "HBox(children=(FloatProgress(value=0.0, description='Training', layout=Layout(flex='2'), max=1250.0, style=Pro…"
      ]
     },
     "metadata": {},
     "output_type": "display_data"
    },
    {
     "name": "stdout",
     "output_type": "stream",
     "text": [
      "Epoch 151: train=8.39767, val=8.60663, took 56.286 s\n",
      "  Validation Found 50058 of 54504, added 2116 (eff 91.84%) (0.212 FP/event)\n"
     ]
    },
    {
     "data": {
      "application/vnd.jupyter.widget-view+json": {
       "model_id": "",
       "version_major": 2,
       "version_minor": 0
      },
      "text/plain": [
       "HBox(children=(FloatProgress(value=0.0, description='Training', layout=Layout(flex='2'), max=1250.0, style=Pro…"
      ]
     },
     "metadata": {},
     "output_type": "display_data"
    },
    {
     "name": "stdout",
     "output_type": "stream",
     "text": [
      "Epoch 152: train=8.39262, val=8.57474, took 55.806 s\n",
      "  Validation Found 50263 of 54504, added 2386 (eff 92.22%) (0.239 FP/event)\n"
     ]
    },
    {
     "data": {
      "application/vnd.jupyter.widget-view+json": {
       "model_id": "",
       "version_major": 2,
       "version_minor": 0
      },
      "text/plain": [
       "HBox(children=(FloatProgress(value=0.0, description='Training', layout=Layout(flex='2'), max=1250.0, style=Pro…"
      ]
     },
     "metadata": {},
     "output_type": "display_data"
    },
    {
     "name": "stdout",
     "output_type": "stream",
     "text": [
      "Epoch 153: train=8.38661, val=8.54919, took 56.458 s\n",
      "  Validation Found 50192 of 54504, added 2176 (eff 92.09%) (0.218 FP/event)\n"
     ]
    },
    {
     "data": {
      "application/vnd.jupyter.widget-view+json": {
       "model_id": "",
       "version_major": 2,
       "version_minor": 0
      },
      "text/plain": [
       "HBox(children=(FloatProgress(value=0.0, description='Training', layout=Layout(flex='2'), max=1250.0, style=Pro…"
      ]
     },
     "metadata": {},
     "output_type": "display_data"
    },
    {
     "name": "stdout",
     "output_type": "stream",
     "text": [
      "Epoch 154: train=8.38524, val=8.55696, took 56.274 s\n",
      "  Validation Found 50197 of 54504, added 2350 (eff 92.10%) (0.235 FP/event)\n"
     ]
    },
    {
     "data": {
      "application/vnd.jupyter.widget-view+json": {
       "model_id": "",
       "version_major": 2,
       "version_minor": 0
      },
      "text/plain": [
       "HBox(children=(FloatProgress(value=0.0, description='Training', layout=Layout(flex='2'), max=1250.0, style=Pro…"
      ]
     },
     "metadata": {},
     "output_type": "display_data"
    },
    {
     "name": "stdout",
     "output_type": "stream",
     "text": [
      "Epoch 155: train=8.38558, val=8.53364, took 56.398 s\n",
      "  Validation Found 50130 of 54504, added 2146 (eff 91.97%) (0.215 FP/event)\n"
     ]
    },
    {
     "data": {
      "application/vnd.jupyter.widget-view+json": {
       "model_id": "",
       "version_major": 2,
       "version_minor": 0
      },
      "text/plain": [
       "HBox(children=(FloatProgress(value=0.0, description='Training', layout=Layout(flex='2'), max=1250.0, style=Pro…"
      ]
     },
     "metadata": {},
     "output_type": "display_data"
    },
    {
     "name": "stdout",
     "output_type": "stream",
     "text": [
      "Epoch 156: train=8.38157, val=8.57357, took 56.024 s\n",
      "  Validation Found 50152 of 54504, added 2230 (eff 92.02%) (0.223 FP/event)\n"
     ]
    },
    {
     "data": {
      "application/vnd.jupyter.widget-view+json": {
       "model_id": "",
       "version_major": 2,
       "version_minor": 0
      },
      "text/plain": [
       "HBox(children=(FloatProgress(value=0.0, description='Training', layout=Layout(flex='2'), max=1250.0, style=Pro…"
      ]
     },
     "metadata": {},
     "output_type": "display_data"
    },
    {
     "name": "stdout",
     "output_type": "stream",
     "text": [
      "Epoch 157: train=8.37725, val=8.59414, took 55.906 s\n",
      "  Validation Found 50125 of 54504, added 2188 (eff 91.97%) (0.219 FP/event)\n"
     ]
    },
    {
     "data": {
      "application/vnd.jupyter.widget-view+json": {
       "model_id": "",
       "version_major": 2,
       "version_minor": 0
      },
      "text/plain": [
       "HBox(children=(FloatProgress(value=0.0, description='Training', layout=Layout(flex='2'), max=1250.0, style=Pro…"
      ]
     },
     "metadata": {},
     "output_type": "display_data"
    },
    {
     "name": "stdout",
     "output_type": "stream",
     "text": [
      "Epoch 158: train=8.37425, val=8.46721, took 55.312 s\n",
      "  Validation Found 50181 of 54504, added 2273 (eff 92.07%) (0.228 FP/event)\n"
     ]
    },
    {
     "data": {
      "application/vnd.jupyter.widget-view+json": {
       "model_id": "",
       "version_major": 2,
       "version_minor": 0
      },
      "text/plain": [
       "HBox(children=(FloatProgress(value=0.0, description='Training', layout=Layout(flex='2'), max=1250.0, style=Pro…"
      ]
     },
     "metadata": {},
     "output_type": "display_data"
    },
    {
     "name": "stdout",
     "output_type": "stream",
     "text": [
      "Epoch 159: train=8.37578, val=8.5036, took 55.845 s\n",
      "  Validation Found 50249 of 54504, added 2239 (eff 92.19%) (0.224 FP/event)\n"
     ]
    },
    {
     "data": {
      "application/vnd.jupyter.widget-view+json": {
       "model_id": "",
       "version_major": 2,
       "version_minor": 0
      },
      "text/plain": [
       "HBox(children=(FloatProgress(value=0.0, description='Training', layout=Layout(flex='2'), max=1250.0, style=Pro…"
      ]
     },
     "metadata": {},
     "output_type": "display_data"
    },
    {
     "name": "stdout",
     "output_type": "stream",
     "text": [
      "Epoch 160: train=8.36592, val=8.56311, took 55.814 s\n",
      "  Validation Found 50195 of 54504, added 2175 (eff 92.09%) (0.218 FP/event)\n"
     ]
    },
    {
     "data": {
      "application/vnd.jupyter.widget-view+json": {
       "model_id": "",
       "version_major": 2,
       "version_minor": 0
      },
      "text/plain": [
       "HBox(children=(FloatProgress(value=0.0, description='Training', layout=Layout(flex='2'), max=1250.0, style=Pro…"
      ]
     },
     "metadata": {},
     "output_type": "display_data"
    },
    {
     "name": "stdout",
     "output_type": "stream",
     "text": [
      "Epoch 161: train=8.37035, val=8.62643, took 55.638 s\n",
      "  Validation Found 50095 of 54504, added 2072 (eff 91.91%) (0.208 FP/event)\n"
     ]
    },
    {
     "data": {
      "application/vnd.jupyter.widget-view+json": {
       "model_id": "",
       "version_major": 2,
       "version_minor": 0
      },
      "text/plain": [
       "HBox(children=(FloatProgress(value=0.0, description='Training', layout=Layout(flex='2'), max=1250.0, style=Pro…"
      ]
     },
     "metadata": {},
     "output_type": "display_data"
    },
    {
     "name": "stdout",
     "output_type": "stream",
     "text": [
      "Epoch 162: train=8.36569, val=8.49107, took 55.738 s\n",
      "  Validation Found 50265 of 54504, added 2295 (eff 92.22%) (0.23 FP/event)\n"
     ]
    },
    {
     "data": {
      "application/vnd.jupyter.widget-view+json": {
       "model_id": "",
       "version_major": 2,
       "version_minor": 0
      },
      "text/plain": [
       "HBox(children=(FloatProgress(value=0.0, description='Training', layout=Layout(flex='2'), max=1250.0, style=Pro…"
      ]
     },
     "metadata": {},
     "output_type": "display_data"
    },
    {
     "name": "stdout",
     "output_type": "stream",
     "text": [
      "Epoch 163: train=8.36251, val=8.54651, took 56.269 s\n",
      "  Validation Found 50243 of 54504, added 2228 (eff 92.18%) (0.223 FP/event)\n"
     ]
    },
    {
     "data": {
      "application/vnd.jupyter.widget-view+json": {
       "model_id": "",
       "version_major": 2,
       "version_minor": 0
      },
      "text/plain": [
       "HBox(children=(FloatProgress(value=0.0, description='Training', layout=Layout(flex='2'), max=1250.0, style=Pro…"
      ]
     },
     "metadata": {},
     "output_type": "display_data"
    },
    {
     "name": "stdout",
     "output_type": "stream",
     "text": [
      "Epoch 164: train=8.35984, val=8.53392, took 56.006 s\n",
      "  Validation Found 50217 of 54504, added 2248 (eff 92.13%) (0.225 FP/event)\n"
     ]
    },
    {
     "data": {
      "application/vnd.jupyter.widget-view+json": {
       "model_id": "",
       "version_major": 2,
       "version_minor": 0
      },
      "text/plain": [
       "HBox(children=(FloatProgress(value=0.0, description='Training', layout=Layout(flex='2'), max=1250.0, style=Pro…"
      ]
     },
     "metadata": {},
     "output_type": "display_data"
    },
    {
     "name": "stdout",
     "output_type": "stream",
     "text": [
      "Epoch 165: train=8.35501, val=8.53453, took 56.389 s\n",
      "  Validation Found 50261 of 54504, added 2262 (eff 92.22%) (0.227 FP/event)\n"
     ]
    },
    {
     "data": {
      "application/vnd.jupyter.widget-view+json": {
       "model_id": "",
       "version_major": 2,
       "version_minor": 0
      },
      "text/plain": [
       "HBox(children=(FloatProgress(value=0.0, description='Training', layout=Layout(flex='2'), max=1250.0, style=Pro…"
      ]
     },
     "metadata": {},
     "output_type": "display_data"
    },
    {
     "name": "stdout",
     "output_type": "stream",
     "text": [
      "Epoch 166: train=8.35566, val=8.51208, took 56.07 s\n",
      "  Validation Found 50223 of 54504, added 2196 (eff 92.15%) (0.22 FP/event)\n"
     ]
    },
    {
     "data": {
      "application/vnd.jupyter.widget-view+json": {
       "model_id": "",
       "version_major": 2,
       "version_minor": 0
      },
      "text/plain": [
       "HBox(children=(FloatProgress(value=0.0, description='Training', layout=Layout(flex='2'), max=1250.0, style=Pro…"
      ]
     },
     "metadata": {},
     "output_type": "display_data"
    },
    {
     "name": "stdout",
     "output_type": "stream",
     "text": [
      "Epoch 167: train=8.35191, val=8.58738, took 56.045 s\n",
      "  Validation Found 50212 of 54504, added 2154 (eff 92.13%) (0.216 FP/event)\n"
     ]
    },
    {
     "data": {
      "application/vnd.jupyter.widget-view+json": {
       "model_id": "",
       "version_major": 2,
       "version_minor": 0
      },
      "text/plain": [
       "HBox(children=(FloatProgress(value=0.0, description='Training', layout=Layout(flex='2'), max=1250.0, style=Pro…"
      ]
     },
     "metadata": {},
     "output_type": "display_data"
    },
    {
     "name": "stdout",
     "output_type": "stream",
     "text": [
      "Epoch 168: train=8.3422, val=8.49374, took 55.775 s\n",
      "  Validation Found 50191 of 54504, added 2266 (eff 92.09%) (0.227 FP/event)\n"
     ]
    },
    {
     "data": {
      "application/vnd.jupyter.widget-view+json": {
       "model_id": "",
       "version_major": 2,
       "version_minor": 0
      },
      "text/plain": [
       "HBox(children=(FloatProgress(value=0.0, description='Training', layout=Layout(flex='2'), max=1250.0, style=Pro…"
      ]
     },
     "metadata": {},
     "output_type": "display_data"
    },
    {
     "name": "stdout",
     "output_type": "stream",
     "text": [
      "Epoch 169: train=8.34022, val=8.527, took 55.843 s\n",
      "  Validation Found 50237 of 54504, added 2210 (eff 92.17%) (0.221 FP/event)\n"
     ]
    },
    {
     "data": {
      "application/vnd.jupyter.widget-view+json": {
       "model_id": "",
       "version_major": 2,
       "version_minor": 0
      },
      "text/plain": [
       "HBox(children=(FloatProgress(value=0.0, description='Training', layout=Layout(flex='2'), max=1250.0, style=Pro…"
      ]
     },
     "metadata": {},
     "output_type": "display_data"
    },
    {
     "name": "stdout",
     "output_type": "stream",
     "text": [
      "Epoch 170: train=8.34535, val=8.56202, took 56.019 s\n",
      "  Validation Found 50219 of 54504, added 2125 (eff 92.14%) (0.213 FP/event)\n"
     ]
    },
    {
     "data": {
      "application/vnd.jupyter.widget-view+json": {
       "model_id": "",
       "version_major": 2,
       "version_minor": 0
      },
      "text/plain": [
       "HBox(children=(FloatProgress(value=0.0, description='Training', layout=Layout(flex='2'), max=1250.0, style=Pro…"
      ]
     },
     "metadata": {},
     "output_type": "display_data"
    },
    {
     "name": "stdout",
     "output_type": "stream",
     "text": [
      "Epoch 171: train=8.3493, val=8.50881, took 55.491 s\n",
      "  Validation Found 50242 of 54504, added 2200 (eff 92.18%) (0.22 FP/event)\n"
     ]
    },
    {
     "data": {
      "application/vnd.jupyter.widget-view+json": {
       "model_id": "",
       "version_major": 2,
       "version_minor": 0
      },
      "text/plain": [
       "HBox(children=(FloatProgress(value=0.0, description='Training', layout=Layout(flex='2'), max=1250.0, style=Pro…"
      ]
     },
     "metadata": {},
     "output_type": "display_data"
    },
    {
     "name": "stdout",
     "output_type": "stream",
     "text": [
      "Epoch 172: train=8.34129, val=8.56694, took 56.027 s\n",
      "  Validation Found 50236 of 54504, added 2115 (eff 92.17%) (0.212 FP/event)\n"
     ]
    },
    {
     "data": {
      "application/vnd.jupyter.widget-view+json": {
       "model_id": "",
       "version_major": 2,
       "version_minor": 0
      },
      "text/plain": [
       "HBox(children=(FloatProgress(value=0.0, description='Training', layout=Layout(flex='2'), max=1250.0, style=Pro…"
      ]
     },
     "metadata": {},
     "output_type": "display_data"
    },
    {
     "name": "stdout",
     "output_type": "stream",
     "text": [
      "Epoch 173: train=8.33716, val=8.48959, took 56.035 s\n",
      "  Validation Found 50268 of 54504, added 2269 (eff 92.23%) (0.227 FP/event)\n"
     ]
    },
    {
     "data": {
      "application/vnd.jupyter.widget-view+json": {
       "model_id": "",
       "version_major": 2,
       "version_minor": 0
      },
      "text/plain": [
       "HBox(children=(FloatProgress(value=0.0, description='Training', layout=Layout(flex='2'), max=1250.0, style=Pro…"
      ]
     },
     "metadata": {},
     "output_type": "display_data"
    },
    {
     "name": "stdout",
     "output_type": "stream",
     "text": [
      "Epoch 174: train=8.33528, val=8.62883, took 55.931 s\n",
      "  Validation Found 50216 of 54504, added 2163 (eff 92.13%) (0.217 FP/event)\n"
     ]
    },
    {
     "data": {
      "application/vnd.jupyter.widget-view+json": {
       "model_id": "",
       "version_major": 2,
       "version_minor": 0
      },
      "text/plain": [
       "HBox(children=(FloatProgress(value=0.0, description='Training', layout=Layout(flex='2'), max=1250.0, style=Pro…"
      ]
     },
     "metadata": {},
     "output_type": "display_data"
    },
    {
     "name": "stdout",
     "output_type": "stream",
     "text": [
      "Epoch 175: train=8.33748, val=8.48857, took 56.621 s\n",
      "  Validation Found 50341 of 54504, added 2381 (eff 92.36%) (0.238 FP/event)\n"
     ]
    },
    {
     "data": {
      "application/vnd.jupyter.widget-view+json": {
       "model_id": "",
       "version_major": 2,
       "version_minor": 0
      },
      "text/plain": [
       "HBox(children=(FloatProgress(value=0.0, description='Training', layout=Layout(flex='2'), max=1250.0, style=Pro…"
      ]
     },
     "metadata": {},
     "output_type": "display_data"
    },
    {
     "name": "stdout",
     "output_type": "stream",
     "text": [
      "Epoch 176: train=8.3333, val=8.47985, took 56.271 s\n",
      "  Validation Found 50275 of 54504, added 2228 (eff 92.24%) (0.223 FP/event)\n"
     ]
    },
    {
     "data": {
      "application/vnd.jupyter.widget-view+json": {
       "model_id": "",
       "version_major": 2,
       "version_minor": 0
      },
      "text/plain": [
       "HBox(children=(FloatProgress(value=0.0, description='Training', layout=Layout(flex='2'), max=1250.0, style=Pro…"
      ]
     },
     "metadata": {},
     "output_type": "display_data"
    },
    {
     "name": "stdout",
     "output_type": "stream",
     "text": [
      "Epoch 177: train=8.33541, val=8.53034, took 55.74 s\n",
      "  Validation Found 50217 of 54504, added 2226 (eff 92.13%) (0.223 FP/event)\n"
     ]
    },
    {
     "data": {
      "application/vnd.jupyter.widget-view+json": {
       "model_id": "",
       "version_major": 2,
       "version_minor": 0
      },
      "text/plain": [
       "HBox(children=(FloatProgress(value=0.0, description='Training', layout=Layout(flex='2'), max=1250.0, style=Pro…"
      ]
     },
     "metadata": {},
     "output_type": "display_data"
    },
    {
     "name": "stdout",
     "output_type": "stream",
     "text": [
      "Epoch 178: train=8.33029, val=8.5334, took 56.044 s\n",
      "  Validation Found 50160 of 54504, added 2006 (eff 92.03%) (0.201 FP/event)\n"
     ]
    },
    {
     "data": {
      "application/vnd.jupyter.widget-view+json": {
       "model_id": "",
       "version_major": 2,
       "version_minor": 0
      },
      "text/plain": [
       "HBox(children=(FloatProgress(value=0.0, description='Training', layout=Layout(flex='2'), max=1250.0, style=Pro…"
      ]
     },
     "metadata": {},
     "output_type": "display_data"
    },
    {
     "name": "stdout",
     "output_type": "stream",
     "text": [
      "Epoch 179: train=8.33136, val=8.48624, took 55.74 s\n",
      "  Validation Found 50268 of 54504, added 2252 (eff 92.23%) (0.226 FP/event)\n"
     ]
    },
    {
     "data": {
      "application/vnd.jupyter.widget-view+json": {
       "model_id": "",
       "version_major": 2,
       "version_minor": 0
      },
      "text/plain": [
       "HBox(children=(FloatProgress(value=0.0, description='Training', layout=Layout(flex='2'), max=1250.0, style=Pro…"
      ]
     },
     "metadata": {},
     "output_type": "display_data"
    },
    {
     "name": "stdout",
     "output_type": "stream",
     "text": [
      "Epoch 180: train=8.33317, val=8.53786, took 55.56 s\n",
      "  Validation Found 50336 of 54504, added 2217 (eff 92.35%) (0.222 FP/event)\n"
     ]
    },
    {
     "data": {
      "application/vnd.jupyter.widget-view+json": {
       "model_id": "",
       "version_major": 2,
       "version_minor": 0
      },
      "text/plain": [
       "HBox(children=(FloatProgress(value=0.0, description='Training', layout=Layout(flex='2'), max=1250.0, style=Pro…"
      ]
     },
     "metadata": {},
     "output_type": "display_data"
    },
    {
     "name": "stdout",
     "output_type": "stream",
     "text": [
      "Epoch 181: train=8.33267, val=8.5427, took 55.692 s\n",
      "  Validation Found 50274 of 54504, added 2166 (eff 92.24%) (0.217 FP/event)\n"
     ]
    },
    {
     "data": {
      "application/vnd.jupyter.widget-view+json": {
       "model_id": "",
       "version_major": 2,
       "version_minor": 0
      },
      "text/plain": [
       "HBox(children=(FloatProgress(value=0.0, description='Training', layout=Layout(flex='2'), max=1250.0, style=Pro…"
      ]
     },
     "metadata": {},
     "output_type": "display_data"
    },
    {
     "name": "stdout",
     "output_type": "stream",
     "text": [
      "Epoch 182: train=8.3238, val=8.57268, took 56.217 s\n",
      "  Validation Found 50332 of 54504, added 2176 (eff 92.35%) (0.218 FP/event)\n"
     ]
    },
    {
     "data": {
      "application/vnd.jupyter.widget-view+json": {
       "model_id": "",
       "version_major": 2,
       "version_minor": 0
      },
      "text/plain": [
       "HBox(children=(FloatProgress(value=0.0, description='Training', layout=Layout(flex='2'), max=1250.0, style=Pro…"
      ]
     },
     "metadata": {},
     "output_type": "display_data"
    },
    {
     "name": "stdout",
     "output_type": "stream",
     "text": [
      "Epoch 183: train=8.32944, val=8.52768, took 56.29 s\n",
      "  Validation Found 50327 of 54504, added 2266 (eff 92.34%) (0.227 FP/event)\n"
     ]
    },
    {
     "data": {
      "application/vnd.jupyter.widget-view+json": {
       "model_id": "",
       "version_major": 2,
       "version_minor": 0
      },
      "text/plain": [
       "HBox(children=(FloatProgress(value=0.0, description='Training', layout=Layout(flex='2'), max=1250.0, style=Pro…"
      ]
     },
     "metadata": {},
     "output_type": "display_data"
    },
    {
     "name": "stdout",
     "output_type": "stream",
     "text": [
      "Epoch 184: train=8.32826, val=8.46419, took 56.356 s\n",
      "  Validation Found 50356 of 54504, added 2369 (eff 92.39%) (0.237 FP/event)\n"
     ]
    },
    {
     "data": {
      "application/vnd.jupyter.widget-view+json": {
       "model_id": "",
       "version_major": 2,
       "version_minor": 0
      },
      "text/plain": [
       "HBox(children=(FloatProgress(value=0.0, description='Training', layout=Layout(flex='2'), max=1250.0, style=Pro…"
      ]
     },
     "metadata": {},
     "output_type": "display_data"
    },
    {
     "name": "stdout",
     "output_type": "stream",
     "text": [
      "Epoch 185: train=8.32569, val=8.49134, took 56.235 s\n",
      "  Validation Found 50362 of 54504, added 2272 (eff 92.40%) (0.228 FP/event)\n"
     ]
    },
    {
     "data": {
      "application/vnd.jupyter.widget-view+json": {
       "model_id": "",
       "version_major": 2,
       "version_minor": 0
      },
      "text/plain": [
       "HBox(children=(FloatProgress(value=0.0, description='Training', layout=Layout(flex='2'), max=1250.0, style=Pro…"
      ]
     },
     "metadata": {},
     "output_type": "display_data"
    },
    {
     "name": "stdout",
     "output_type": "stream",
     "text": [
      "Epoch 186: train=8.32757, val=8.45866, took 55.825 s\n",
      "  Validation Found 50415 of 54504, added 2376 (eff 92.50%) (0.238 FP/event)\n"
     ]
    },
    {
     "data": {
      "application/vnd.jupyter.widget-view+json": {
       "model_id": "",
       "version_major": 2,
       "version_minor": 0
      },
      "text/plain": [
       "HBox(children=(FloatProgress(value=0.0, description='Training', layout=Layout(flex='2'), max=1250.0, style=Pro…"
      ]
     },
     "metadata": {},
     "output_type": "display_data"
    },
    {
     "name": "stdout",
     "output_type": "stream",
     "text": [
      "Epoch 187: train=8.32387, val=8.53648, took 56.195 s\n",
      "  Validation Found 50430 of 54504, added 2276 (eff 92.53%) (0.228 FP/event)\n"
     ]
    },
    {
     "data": {
      "application/vnd.jupyter.widget-view+json": {
       "model_id": "",
       "version_major": 2,
       "version_minor": 0
      },
      "text/plain": [
       "HBox(children=(FloatProgress(value=0.0, description='Training', layout=Layout(flex='2'), max=1250.0, style=Pro…"
      ]
     },
     "metadata": {},
     "output_type": "display_data"
    },
    {
     "name": "stdout",
     "output_type": "stream",
     "text": [
      "Epoch 188: train=8.31869, val=8.49541, took 56.049 s\n",
      "  Validation Found 50413 of 54504, added 2380 (eff 92.49%) (0.238 FP/event)\n"
     ]
    },
    {
     "data": {
      "application/vnd.jupyter.widget-view+json": {
       "model_id": "",
       "version_major": 2,
       "version_minor": 0
      },
      "text/plain": [
       "HBox(children=(FloatProgress(value=0.0, description='Training', layout=Layout(flex='2'), max=1250.0, style=Pro…"
      ]
     },
     "metadata": {},
     "output_type": "display_data"
    },
    {
     "name": "stdout",
     "output_type": "stream",
     "text": [
      "Epoch 189: train=8.3185, val=8.43248, took 55.766 s\n",
      "  Validation Found 50403 of 54504, added 2335 (eff 92.48%) (0.234 FP/event)\n"
     ]
    },
    {
     "data": {
      "application/vnd.jupyter.widget-view+json": {
       "model_id": "",
       "version_major": 2,
       "version_minor": 0
      },
      "text/plain": [
       "HBox(children=(FloatProgress(value=0.0, description='Training', layout=Layout(flex='2'), max=1250.0, style=Pro…"
      ]
     },
     "metadata": {},
     "output_type": "display_data"
    },
    {
     "name": "stdout",
     "output_type": "stream",
     "text": [
      "Epoch 190: train=8.31831, val=8.53808, took 56.059 s\n",
      "  Validation Found 50388 of 54504, added 2178 (eff 92.45%) (0.218 FP/event)\n"
     ]
    },
    {
     "data": {
      "application/vnd.jupyter.widget-view+json": {
       "model_id": "",
       "version_major": 2,
       "version_minor": 0
      },
      "text/plain": [
       "HBox(children=(FloatProgress(value=0.0, description='Training', layout=Layout(flex='2'), max=1250.0, style=Pro…"
      ]
     },
     "metadata": {},
     "output_type": "display_data"
    },
    {
     "name": "stdout",
     "output_type": "stream",
     "text": [
      "Epoch 191: train=8.31663, val=8.4662, took 55.982 s\n",
      "  Validation Found 50444 of 54504, added 2269 (eff 92.55%) (0.227 FP/event)\n"
     ]
    },
    {
     "data": {
      "application/vnd.jupyter.widget-view+json": {
       "model_id": "",
       "version_major": 2,
       "version_minor": 0
      },
      "text/plain": [
       "HBox(children=(FloatProgress(value=0.0, description='Training', layout=Layout(flex='2'), max=1250.0, style=Pro…"
      ]
     },
     "metadata": {},
     "output_type": "display_data"
    },
    {
     "name": "stdout",
     "output_type": "stream",
     "text": [
      "Epoch 192: train=8.31719, val=8.47541, took 55.619 s\n",
      "  Validation Found 50400 of 54504, added 2196 (eff 92.47%) (0.22 FP/event)\n"
     ]
    },
    {
     "data": {
      "application/vnd.jupyter.widget-view+json": {
       "model_id": "",
       "version_major": 2,
       "version_minor": 0
      },
      "text/plain": [
       "HBox(children=(FloatProgress(value=0.0, description='Training', layout=Layout(flex='2'), max=1250.0, style=Pro…"
      ]
     },
     "metadata": {},
     "output_type": "display_data"
    },
    {
     "name": "stdout",
     "output_type": "stream",
     "text": [
      "Epoch 193: train=8.31758, val=8.49075, took 55.627 s\n",
      "  Validation Found 50348 of 54504, added 2141 (eff 92.37%) (0.214 FP/event)\n"
     ]
    },
    {
     "data": {
      "application/vnd.jupyter.widget-view+json": {
       "model_id": "",
       "version_major": 2,
       "version_minor": 0
      },
      "text/plain": [
       "HBox(children=(FloatProgress(value=0.0, description='Training', layout=Layout(flex='2'), max=1250.0, style=Pro…"
      ]
     },
     "metadata": {},
     "output_type": "display_data"
    },
    {
     "name": "stdout",
     "output_type": "stream",
     "text": [
      "Epoch 194: train=8.31654, val=8.44687, took 55.361 s\n",
      "  Validation Found 50474 of 54504, added 2310 (eff 92.61%) (0.231 FP/event)\n"
     ]
    },
    {
     "data": {
      "application/vnd.jupyter.widget-view+json": {
       "model_id": "",
       "version_major": 2,
       "version_minor": 0
      },
      "text/plain": [
       "HBox(children=(FloatProgress(value=0.0, description='Training', layout=Layout(flex='2'), max=1250.0, style=Pro…"
      ]
     },
     "metadata": {},
     "output_type": "display_data"
    },
    {
     "name": "stdout",
     "output_type": "stream",
     "text": [
      "Epoch 195: train=8.31434, val=8.53031, took 56.324 s\n",
      "  Validation Found 50378 of 54504, added 2188 (eff 92.43%) (0.219 FP/event)\n"
     ]
    },
    {
     "data": {
      "application/vnd.jupyter.widget-view+json": {
       "model_id": "",
       "version_major": 2,
       "version_minor": 0
      },
      "text/plain": [
       "HBox(children=(FloatProgress(value=0.0, description='Training', layout=Layout(flex='2'), max=1250.0, style=Pro…"
      ]
     },
     "metadata": {},
     "output_type": "display_data"
    },
    {
     "name": "stdout",
     "output_type": "stream",
     "text": [
      "Epoch 196: train=8.31224, val=8.44592, took 56.026 s\n",
      "  Validation Found 50385 of 54504, added 2190 (eff 92.44%) (0.219 FP/event)\n"
     ]
    },
    {
     "data": {
      "application/vnd.jupyter.widget-view+json": {
       "model_id": "",
       "version_major": 2,
       "version_minor": 0
      },
      "text/plain": [
       "HBox(children=(FloatProgress(value=0.0, description='Training', layout=Layout(flex='2'), max=1250.0, style=Pro…"
      ]
     },
     "metadata": {},
     "output_type": "display_data"
    },
    {
     "name": "stdout",
     "output_type": "stream",
     "text": [
      "Epoch 197: train=8.3116, val=8.45306, took 55.7 s\n",
      "  Validation Found 50496 of 54504, added 2252 (eff 92.65%) (0.226 FP/event)\n"
     ]
    },
    {
     "data": {
      "application/vnd.jupyter.widget-view+json": {
       "model_id": "",
       "version_major": 2,
       "version_minor": 0
      },
      "text/plain": [
       "HBox(children=(FloatProgress(value=0.0, description='Training', layout=Layout(flex='2'), max=1250.0, style=Pro…"
      ]
     },
     "metadata": {},
     "output_type": "display_data"
    },
    {
     "name": "stdout",
     "output_type": "stream",
     "text": [
      "Epoch 198: train=8.30592, val=8.45658, took 56.58 s\n",
      "  Validation Found 50530 of 54504, added 2479 (eff 92.71%) (0.248 FP/event)\n"
     ]
    },
    {
     "data": {
      "application/vnd.jupyter.widget-view+json": {
       "model_id": "",
       "version_major": 2,
       "version_minor": 0
      },
      "text/plain": [
       "HBox(children=(FloatProgress(value=0.0, description='Training', layout=Layout(flex='2'), max=1250.0, style=Pro…"
      ]
     },
     "metadata": {},
     "output_type": "display_data"
    },
    {
     "name": "stdout",
     "output_type": "stream",
     "text": [
      "Epoch 199: train=8.31206, val=8.49659, took 56.416 s\n",
      "  Validation Found 50445 of 54504, added 2155 (eff 92.55%) (0.216 FP/event)\n"
     ]
    },
    {
     "data": {
      "application/vnd.jupyter.widget-view+json": {
       "model_id": "",
       "version_major": 2,
       "version_minor": 0
      },
      "text/plain": [
       "HBox(children=(FloatProgress(value=0.0, description='Training', layout=Layout(flex='2'), max=1250.0, style=Pro…"
      ]
     },
     "metadata": {},
     "output_type": "display_data"
    },
    {
     "name": "stdout",
     "output_type": "stream",
     "text": [
      "Epoch 200: train=8.3098, val=8.49235, took 55.965 s\n",
      "  Validation Found 50466 of 54504, added 2148 (eff 92.59%) (0.215 FP/event)\n"
     ]
    },
    {
     "data": {
      "application/vnd.jupyter.widget-view+json": {
       "model_id": "",
       "version_major": 2,
       "version_minor": 0
      },
      "text/plain": [
       "HBox(children=(FloatProgress(value=0.0, description='Training', layout=Layout(flex='2'), max=1250.0, style=Pro…"
      ]
     },
     "metadata": {},
     "output_type": "display_data"
    },
    {
     "name": "stdout",
     "output_type": "stream",
     "text": [
      "Epoch 201: train=8.3115, val=8.46133, took 55.998 s\n",
      "  Validation Found 50475 of 54504, added 2206 (eff 92.61%) (0.221 FP/event)\n"
     ]
    },
    {
     "data": {
      "application/vnd.jupyter.widget-view+json": {
       "model_id": "",
       "version_major": 2,
       "version_minor": 0
      },
      "text/plain": [
       "HBox(children=(FloatProgress(value=0.0, description='Training', layout=Layout(flex='2'), max=1250.0, style=Pro…"
      ]
     },
     "metadata": {},
     "output_type": "display_data"
    },
    {
     "name": "stdout",
     "output_type": "stream",
     "text": [
      "Epoch 202: train=8.30814, val=8.49078, took 56.042 s\n",
      "  Validation Found 50481 of 54504, added 2197 (eff 92.62%) (0.22 FP/event)\n"
     ]
    },
    {
     "data": {
      "application/vnd.jupyter.widget-view+json": {
       "model_id": "",
       "version_major": 2,
       "version_minor": 0
      },
      "text/plain": [
       "HBox(children=(FloatProgress(value=0.0, description='Training', layout=Layout(flex='2'), max=1250.0, style=Pro…"
      ]
     },
     "metadata": {},
     "output_type": "display_data"
    },
    {
     "name": "stdout",
     "output_type": "stream",
     "text": [
      "Epoch 203: train=8.30734, val=8.46928, took 55.392 s\n",
      "  Validation Found 50431 of 54504, added 2087 (eff 92.53%) (0.209 FP/event)\n"
     ]
    },
    {
     "data": {
      "application/vnd.jupyter.widget-view+json": {
       "model_id": "",
       "version_major": 2,
       "version_minor": 0
      },
      "text/plain": [
       "HBox(children=(FloatProgress(value=0.0, description='Training', layout=Layout(flex='2'), max=1250.0, style=Pro…"
      ]
     },
     "metadata": {},
     "output_type": "display_data"
    },
    {
     "name": "stdout",
     "output_type": "stream",
     "text": [
      "Epoch 204: train=8.30438, val=8.48825, took 56.486 s\n",
      "  Validation Found 50555 of 54504, added 2451 (eff 92.75%) (0.245 FP/event)\n"
     ]
    },
    {
     "data": {
      "application/vnd.jupyter.widget-view+json": {
       "model_id": "",
       "version_major": 2,
       "version_minor": 0
      },
      "text/plain": [
       "HBox(children=(FloatProgress(value=0.0, description='Training', layout=Layout(flex='2'), max=1250.0, style=Pro…"
      ]
     },
     "metadata": {},
     "output_type": "display_data"
    },
    {
     "name": "stdout",
     "output_type": "stream",
     "text": [
      "Epoch 205: train=8.30309, val=8.44417, took 55.753 s\n",
      "  Validation Found 50519 of 54504, added 2321 (eff 92.69%) (0.232 FP/event)\n"
     ]
    },
    {
     "data": {
      "application/vnd.jupyter.widget-view+json": {
       "model_id": "",
       "version_major": 2,
       "version_minor": 0
      },
      "text/plain": [
       "HBox(children=(FloatProgress(value=0.0, description='Training', layout=Layout(flex='2'), max=1250.0, style=Pro…"
      ]
     },
     "metadata": {},
     "output_type": "display_data"
    },
    {
     "name": "stdout",
     "output_type": "stream",
     "text": [
      "Epoch 206: train=8.30702, val=8.45985, took 55.954 s\n",
      "  Validation Found 50587 of 54504, added 2416 (eff 92.81%) (0.242 FP/event)\n"
     ]
    },
    {
     "data": {
      "application/vnd.jupyter.widget-view+json": {
       "model_id": "",
       "version_major": 2,
       "version_minor": 0
      },
      "text/plain": [
       "HBox(children=(FloatProgress(value=0.0, description='Training', layout=Layout(flex='2'), max=1250.0, style=Pro…"
      ]
     },
     "metadata": {},
     "output_type": "display_data"
    },
    {
     "name": "stdout",
     "output_type": "stream",
     "text": [
      "Epoch 207: train=8.3008, val=8.50691, took 56.135 s\n",
      "  Validation Found 50516 of 54504, added 2278 (eff 92.68%) (0.228 FP/event)\n"
     ]
    },
    {
     "data": {
      "application/vnd.jupyter.widget-view+json": {
       "model_id": "",
       "version_major": 2,
       "version_minor": 0
      },
      "text/plain": [
       "HBox(children=(FloatProgress(value=0.0, description='Training', layout=Layout(flex='2'), max=1250.0, style=Pro…"
      ]
     },
     "metadata": {},
     "output_type": "display_data"
    },
    {
     "name": "stdout",
     "output_type": "stream",
     "text": [
      "Epoch 208: train=8.30569, val=8.46452, took 55.945 s\n",
      "  Validation Found 50518 of 54504, added 2458 (eff 92.69%) (0.246 FP/event)\n"
     ]
    },
    {
     "data": {
      "application/vnd.jupyter.widget-view+json": {
       "model_id": "",
       "version_major": 2,
       "version_minor": 0
      },
      "text/plain": [
       "HBox(children=(FloatProgress(value=0.0, description='Training', layout=Layout(flex='2'), max=1250.0, style=Pro…"
      ]
     },
     "metadata": {},
     "output_type": "display_data"
    },
    {
     "name": "stdout",
     "output_type": "stream",
     "text": [
      "Epoch 209: train=8.30096, val=8.41645, took 55.943 s\n",
      "  Validation Found 50458 of 54504, added 2165 (eff 92.58%) (0.217 FP/event)\n"
     ]
    },
    {
     "data": {
      "application/vnd.jupyter.widget-view+json": {
       "model_id": "",
       "version_major": 2,
       "version_minor": 0
      },
      "text/plain": [
       "HBox(children=(FloatProgress(value=0.0, description='Training', layout=Layout(flex='2'), max=1250.0, style=Pro…"
      ]
     },
     "metadata": {},
     "output_type": "display_data"
    },
    {
     "name": "stdout",
     "output_type": "stream",
     "text": [
      "Epoch 210: train=8.303, val=8.48987, took 55.953 s\n",
      "  Validation Found 50515 of 54504, added 2149 (eff 92.68%) (0.215 FP/event)\n"
     ]
    },
    {
     "data": {
      "application/vnd.jupyter.widget-view+json": {
       "model_id": "",
       "version_major": 2,
       "version_minor": 0
      },
      "text/plain": [
       "HBox(children=(FloatProgress(value=0.0, description='Training', layout=Layout(flex='2'), max=1250.0, style=Pro…"
      ]
     },
     "metadata": {},
     "output_type": "display_data"
    },
    {
     "name": "stdout",
     "output_type": "stream",
     "text": [
      "Epoch 211: train=8.30366, val=8.4824, took 56.331 s\n",
      "  Validation Found 50512 of 54504, added 2205 (eff 92.68%) (0.221 FP/event)\n"
     ]
    },
    {
     "data": {
      "application/vnd.jupyter.widget-view+json": {
       "model_id": "",
       "version_major": 2,
       "version_minor": 0
      },
      "text/plain": [
       "HBox(children=(FloatProgress(value=0.0, description='Training', layout=Layout(flex='2'), max=1250.0, style=Pro…"
      ]
     },
     "metadata": {},
     "output_type": "display_data"
    },
    {
     "name": "stdout",
     "output_type": "stream",
     "text": [
      "Epoch 212: train=8.29878, val=8.4806, took 56.084 s\n",
      "  Validation Found 50452 of 54504, added 1980 (eff 92.57%) (0.198 FP/event)\n"
     ]
    },
    {
     "data": {
      "application/vnd.jupyter.widget-view+json": {
       "model_id": "",
       "version_major": 2,
       "version_minor": 0
      },
      "text/plain": [
       "HBox(children=(FloatProgress(value=0.0, description='Training', layout=Layout(flex='2'), max=1250.0, style=Pro…"
      ]
     },
     "metadata": {},
     "output_type": "display_data"
    },
    {
     "name": "stdout",
     "output_type": "stream",
     "text": [
      "Epoch 213: train=8.30226, val=8.43079, took 55.889 s\n",
      "  Validation Found 50482 of 54504, added 2243 (eff 92.62%) (0.225 FP/event)\n"
     ]
    },
    {
     "data": {
      "application/vnd.jupyter.widget-view+json": {
       "model_id": "",
       "version_major": 2,
       "version_minor": 0
      },
      "text/plain": [
       "HBox(children=(FloatProgress(value=0.0, description='Training', layout=Layout(flex='2'), max=1250.0, style=Pro…"
      ]
     },
     "metadata": {},
     "output_type": "display_data"
    },
    {
     "name": "stdout",
     "output_type": "stream",
     "text": [
      "Epoch 214: train=8.29917, val=8.49123, took 55.652 s\n",
      "  Validation Found 50507 of 54504, added 2159 (eff 92.67%) (0.216 FP/event)\n"
     ]
    },
    {
     "data": {
      "application/vnd.jupyter.widget-view+json": {
       "model_id": "",
       "version_major": 2,
       "version_minor": 0
      },
      "text/plain": [
       "HBox(children=(FloatProgress(value=0.0, description='Training', layout=Layout(flex='2'), max=1250.0, style=Pro…"
      ]
     },
     "metadata": {},
     "output_type": "display_data"
    },
    {
     "name": "stdout",
     "output_type": "stream",
     "text": [
      "Epoch 215: train=8.30081, val=8.46405, took 56.463 s\n",
      "  Validation Found 50547 of 54504, added 2229 (eff 92.74%) (0.223 FP/event)\n"
     ]
    },
    {
     "data": {
      "application/vnd.jupyter.widget-view+json": {
       "model_id": "",
       "version_major": 2,
       "version_minor": 0
      },
      "text/plain": [
       "HBox(children=(FloatProgress(value=0.0, description='Training', layout=Layout(flex='2'), max=1250.0, style=Pro…"
      ]
     },
     "metadata": {},
     "output_type": "display_data"
    },
    {
     "name": "stdout",
     "output_type": "stream",
     "text": [
      "Epoch 216: train=8.29725, val=8.4621, took 56.108 s\n",
      "  Validation Found 50540 of 54504, added 2284 (eff 92.73%) (0.229 FP/event)\n"
     ]
    },
    {
     "data": {
      "application/vnd.jupyter.widget-view+json": {
       "model_id": "",
       "version_major": 2,
       "version_minor": 0
      },
      "text/plain": [
       "HBox(children=(FloatProgress(value=0.0, description='Training', layout=Layout(flex='2'), max=1250.0, style=Pro…"
      ]
     },
     "metadata": {},
     "output_type": "display_data"
    },
    {
     "name": "stdout",
     "output_type": "stream",
     "text": [
      "Epoch 217: train=8.29913, val=8.4645, took 55.745 s\n",
      "  Validation Found 50530 of 54504, added 2183 (eff 92.71%) (0.219 FP/event)\n"
     ]
    },
    {
     "data": {
      "application/vnd.jupyter.widget-view+json": {
       "model_id": "",
       "version_major": 2,
       "version_minor": 0
      },
      "text/plain": [
       "HBox(children=(FloatProgress(value=0.0, description='Training', layout=Layout(flex='2'), max=1250.0, style=Pro…"
      ]
     },
     "metadata": {},
     "output_type": "display_data"
    },
    {
     "name": "stdout",
     "output_type": "stream",
     "text": [
      "Epoch 218: train=8.30255, val=8.45044, took 55.918 s\n",
      "  Validation Found 50479 of 54504, added 2180 (eff 92.62%) (0.218 FP/event)\n"
     ]
    },
    {
     "data": {
      "application/vnd.jupyter.widget-view+json": {
       "model_id": "",
       "version_major": 2,
       "version_minor": 0
      },
      "text/plain": [
       "HBox(children=(FloatProgress(value=0.0, description='Training', layout=Layout(flex='2'), max=1250.0, style=Pro…"
      ]
     },
     "metadata": {},
     "output_type": "display_data"
    },
    {
     "name": "stdout",
     "output_type": "stream",
     "text": [
      "Epoch 219: train=8.30094, val=8.50411, took 56.107 s\n",
      "  Validation Found 50517 of 54504, added 2272 (eff 92.68%) (0.228 FP/event)\n"
     ]
    },
    {
     "data": {
      "application/vnd.jupyter.widget-view+json": {
       "model_id": "",
       "version_major": 2,
       "version_minor": 0
      },
      "text/plain": [
       "HBox(children=(FloatProgress(value=0.0, description='Training', layout=Layout(flex='2'), max=1250.0, style=Pro…"
      ]
     },
     "metadata": {},
     "output_type": "display_data"
    },
    {
     "name": "stdout",
     "output_type": "stream",
     "text": [
      "Epoch 220: train=8.29556, val=8.43189, took 56.092 s\n",
      "  Validation Found 50557 of 54504, added 2292 (eff 92.76%) (0.23 FP/event)\n"
     ]
    },
    {
     "data": {
      "application/vnd.jupyter.widget-view+json": {
       "model_id": "",
       "version_major": 2,
       "version_minor": 0
      },
      "text/plain": [
       "HBox(children=(FloatProgress(value=0.0, description='Training', layout=Layout(flex='2'), max=1250.0, style=Pro…"
      ]
     },
     "metadata": {},
     "output_type": "display_data"
    },
    {
     "name": "stdout",
     "output_type": "stream",
     "text": [
      "Epoch 221: train=8.29952, val=8.37425, took 56.058 s\n",
      "  Validation Found 50513 of 54504, added 2247 (eff 92.68%) (0.225 FP/event)\n"
     ]
    },
    {
     "data": {
      "application/vnd.jupyter.widget-view+json": {
       "model_id": "",
       "version_major": 2,
       "version_minor": 0
      },
      "text/plain": [
       "HBox(children=(FloatProgress(value=0.0, description='Training', layout=Layout(flex='2'), max=1250.0, style=Pro…"
      ]
     },
     "metadata": {},
     "output_type": "display_data"
    },
    {
     "name": "stdout",
     "output_type": "stream",
     "text": [
      "Epoch 222: train=8.29119, val=8.44216, took 55.436 s\n",
      "  Validation Found 50493 of 54504, added 2177 (eff 92.64%) (0.218 FP/event)\n"
     ]
    },
    {
     "data": {
      "application/vnd.jupyter.widget-view+json": {
       "model_id": "",
       "version_major": 2,
       "version_minor": 0
      },
      "text/plain": [
       "HBox(children=(FloatProgress(value=0.0, description='Training', layout=Layout(flex='2'), max=1250.0, style=Pro…"
      ]
     },
     "metadata": {},
     "output_type": "display_data"
    },
    {
     "name": "stdout",
     "output_type": "stream",
     "text": [
      "Epoch 223: train=8.29766, val=8.47366, took 55.368 s\n",
      "  Validation Found 50456 of 54504, added 2049 (eff 92.57%) (0.205 FP/event)\n"
     ]
    },
    {
     "data": {
      "application/vnd.jupyter.widget-view+json": {
       "model_id": "",
       "version_major": 2,
       "version_minor": 0
      },
      "text/plain": [
       "HBox(children=(FloatProgress(value=0.0, description='Training', layout=Layout(flex='2'), max=1250.0, style=Pro…"
      ]
     },
     "metadata": {},
     "output_type": "display_data"
    },
    {
     "name": "stdout",
     "output_type": "stream",
     "text": [
      "Epoch 224: train=8.29532, val=8.41634, took 55.998 s\n",
      "  Validation Found 50586 of 54504, added 2493 (eff 92.81%) (0.25 FP/event)\n"
     ]
    },
    {
     "data": {
      "application/vnd.jupyter.widget-view+json": {
       "model_id": "",
       "version_major": 2,
       "version_minor": 0
      },
      "text/plain": [
       "HBox(children=(FloatProgress(value=0.0, description='Training', layout=Layout(flex='2'), max=1250.0, style=Pro…"
      ]
     },
     "metadata": {},
     "output_type": "display_data"
    },
    {
     "name": "stdout",
     "output_type": "stream",
     "text": [
      "Epoch 225: train=8.2903, val=8.48445, took 56.242 s\n",
      "  Validation Found 50496 of 54504, added 2090 (eff 92.65%) (0.209 FP/event)\n"
     ]
    },
    {
     "data": {
      "application/vnd.jupyter.widget-view+json": {
       "model_id": "",
       "version_major": 2,
       "version_minor": 0
      },
      "text/plain": [
       "HBox(children=(FloatProgress(value=0.0, description='Training', layout=Layout(flex='2'), max=1250.0, style=Pro…"
      ]
     },
     "metadata": {},
     "output_type": "display_data"
    },
    {
     "name": "stdout",
     "output_type": "stream",
     "text": [
      "Epoch 226: train=8.29774, val=8.50786, took 55.036 s\n",
      "  Validation Found 50556 of 54504, added 2295 (eff 92.76%) (0.23 FP/event)\n"
     ]
    },
    {
     "data": {
      "application/vnd.jupyter.widget-view+json": {
       "model_id": "",
       "version_major": 2,
       "version_minor": 0
      },
      "text/plain": [
       "HBox(children=(FloatProgress(value=0.0, description='Training', layout=Layout(flex='2'), max=1250.0, style=Pro…"
      ]
     },
     "metadata": {},
     "output_type": "display_data"
    },
    {
     "name": "stdout",
     "output_type": "stream",
     "text": [
      "Epoch 227: train=8.29217, val=8.39185, took 55.517 s\n",
      "  Validation Found 50551 of 54504, added 2225 (eff 92.75%) (0.223 FP/event)\n"
     ]
    },
    {
     "data": {
      "application/vnd.jupyter.widget-view+json": {
       "model_id": "",
       "version_major": 2,
       "version_minor": 0
      },
      "text/plain": [
       "HBox(children=(FloatProgress(value=0.0, description='Training', layout=Layout(flex='2'), max=1250.0, style=Pro…"
      ]
     },
     "metadata": {},
     "output_type": "display_data"
    },
    {
     "name": "stdout",
     "output_type": "stream",
     "text": [
      "Epoch 228: train=8.29479, val=8.42329, took 56.116 s\n",
      "  Validation Found 50542 of 54504, added 2232 (eff 92.73%) (0.224 FP/event)\n"
     ]
    },
    {
     "data": {
      "application/vnd.jupyter.widget-view+json": {
       "model_id": "",
       "version_major": 2,
       "version_minor": 0
      },
      "text/plain": [
       "HBox(children=(FloatProgress(value=0.0, description='Training', layout=Layout(flex='2'), max=1250.0, style=Pro…"
      ]
     },
     "metadata": {},
     "output_type": "display_data"
    },
    {
     "name": "stdout",
     "output_type": "stream",
     "text": [
      "Epoch 229: train=8.29525, val=8.46923, took 55.709 s\n",
      "  Validation Found 50493 of 54504, added 2127 (eff 92.64%) (0.213 FP/event)\n"
     ]
    },
    {
     "data": {
      "application/vnd.jupyter.widget-view+json": {
       "model_id": "",
       "version_major": 2,
       "version_minor": 0
      },
      "text/plain": [
       "HBox(children=(FloatProgress(value=0.0, description='Training', layout=Layout(flex='2'), max=1250.0, style=Pro…"
      ]
     },
     "metadata": {},
     "output_type": "display_data"
    },
    {
     "name": "stdout",
     "output_type": "stream",
     "text": [
      "Epoch 230: train=8.28839, val=8.39422, took 55.536 s\n",
      "  Validation Found 50551 of 54504, added 2214 (eff 92.75%) (0.222 FP/event)\n"
     ]
    },
    {
     "data": {
      "application/vnd.jupyter.widget-view+json": {
       "model_id": "",
       "version_major": 2,
       "version_minor": 0
      },
      "text/plain": [
       "HBox(children=(FloatProgress(value=0.0, description='Training', layout=Layout(flex='2'), max=1250.0, style=Pro…"
      ]
     },
     "metadata": {},
     "output_type": "display_data"
    },
    {
     "name": "stdout",
     "output_type": "stream",
     "text": [
      "Epoch 231: train=8.28882, val=8.42882, took 55.304 s\n",
      "  Validation Found 50633 of 54504, added 2387 (eff 92.90%) (0.239 FP/event)\n"
     ]
    },
    {
     "data": {
      "application/vnd.jupyter.widget-view+json": {
       "model_id": "",
       "version_major": 2,
       "version_minor": 0
      },
      "text/plain": [
       "HBox(children=(FloatProgress(value=0.0, description='Training', layout=Layout(flex='2'), max=1250.0, style=Pro…"
      ]
     },
     "metadata": {},
     "output_type": "display_data"
    },
    {
     "name": "stdout",
     "output_type": "stream",
     "text": [
      "Epoch 232: train=8.29385, val=8.41556, took 56.262 s\n",
      "  Validation Found 50580 of 54504, added 2263 (eff 92.80%) (0.227 FP/event)\n"
     ]
    },
    {
     "data": {
      "application/vnd.jupyter.widget-view+json": {
       "model_id": "",
       "version_major": 2,
       "version_minor": 0
      },
      "text/plain": [
       "HBox(children=(FloatProgress(value=0.0, description='Training', layout=Layout(flex='2'), max=1250.0, style=Pro…"
      ]
     },
     "metadata": {},
     "output_type": "display_data"
    },
    {
     "name": "stdout",
     "output_type": "stream",
     "text": [
      "Epoch 233: train=8.29337, val=8.40605, took 55.879 s\n",
      "  Validation Found 50585 of 54504, added 2333 (eff 92.81%) (0.234 FP/event)\n"
     ]
    },
    {
     "data": {
      "application/vnd.jupyter.widget-view+json": {
       "model_id": "",
       "version_major": 2,
       "version_minor": 0
      },
      "text/plain": [
       "HBox(children=(FloatProgress(value=0.0, description='Training', layout=Layout(flex='2'), max=1250.0, style=Pro…"
      ]
     },
     "metadata": {},
     "output_type": "display_data"
    },
    {
     "name": "stdout",
     "output_type": "stream",
     "text": [
      "Epoch 234: train=8.28915, val=8.50437, took 55.567 s\n",
      "  Validation Found 50496 of 54504, added 2086 (eff 92.65%) (0.209 FP/event)\n"
     ]
    },
    {
     "data": {
      "application/vnd.jupyter.widget-view+json": {
       "model_id": "",
       "version_major": 2,
       "version_minor": 0
      },
      "text/plain": [
       "HBox(children=(FloatProgress(value=0.0, description='Training', layout=Layout(flex='2'), max=1250.0, style=Pro…"
      ]
     },
     "metadata": {},
     "output_type": "display_data"
    },
    {
     "name": "stdout",
     "output_type": "stream",
     "text": [
      "Epoch 235: train=8.29309, val=8.46136, took 55.522 s\n",
      "  Validation Found 50529 of 54504, added 2091 (eff 92.71%) (0.209 FP/event)\n"
     ]
    },
    {
     "data": {
      "application/vnd.jupyter.widget-view+json": {
       "model_id": "",
       "version_major": 2,
       "version_minor": 0
      },
      "text/plain": [
       "HBox(children=(FloatProgress(value=0.0, description='Training', layout=Layout(flex='2'), max=1250.0, style=Pro…"
      ]
     },
     "metadata": {},
     "output_type": "display_data"
    },
    {
     "name": "stdout",
     "output_type": "stream",
     "text": [
      "Epoch 236: train=8.29303, val=8.37748, took 55.889 s\n",
      "  Validation Found 50642 of 54504, added 2395 (eff 92.91%) (0.24 FP/event)\n"
     ]
    },
    {
     "data": {
      "application/vnd.jupyter.widget-view+json": {
       "model_id": "",
       "version_major": 2,
       "version_minor": 0
      },
      "text/plain": [
       "HBox(children=(FloatProgress(value=0.0, description='Training', layout=Layout(flex='2'), max=1250.0, style=Pro…"
      ]
     },
     "metadata": {},
     "output_type": "display_data"
    },
    {
     "name": "stdout",
     "output_type": "stream",
     "text": [
      "Epoch 237: train=8.2858, val=8.49666, took 55.811 s\n",
      "  Validation Found 50598 of 54504, added 2210 (eff 92.83%) (0.221 FP/event)\n"
     ]
    },
    {
     "data": {
      "application/vnd.jupyter.widget-view+json": {
       "model_id": "",
       "version_major": 2,
       "version_minor": 0
      },
      "text/plain": [
       "HBox(children=(FloatProgress(value=0.0, description='Training', layout=Layout(flex='2'), max=1250.0, style=Pro…"
      ]
     },
     "metadata": {},
     "output_type": "display_data"
    },
    {
     "name": "stdout",
     "output_type": "stream",
     "text": [
      "Epoch 238: train=8.28994, val=8.4012, took 55.581 s\n",
      "  Validation Found 50540 of 54504, added 2145 (eff 92.73%) (0.215 FP/event)\n"
     ]
    },
    {
     "data": {
      "application/vnd.jupyter.widget-view+json": {
       "model_id": "",
       "version_major": 2,
       "version_minor": 0
      },
      "text/plain": [
       "HBox(children=(FloatProgress(value=0.0, description='Training', layout=Layout(flex='2'), max=1250.0, style=Pro…"
      ]
     },
     "metadata": {},
     "output_type": "display_data"
    },
    {
     "name": "stdout",
     "output_type": "stream",
     "text": [
      "Epoch 239: train=8.29133, val=8.43607, took 54.615 s\n",
      "  Validation Found 50568 of 54504, added 2184 (eff 92.78%) (0.219 FP/event)\n"
     ]
    },
    {
     "data": {
      "application/vnd.jupyter.widget-view+json": {
       "model_id": "",
       "version_major": 2,
       "version_minor": 0
      },
      "text/plain": [
       "HBox(children=(FloatProgress(value=0.0, description='Training', layout=Layout(flex='2'), max=1250.0, style=Pro…"
      ]
     },
     "metadata": {},
     "output_type": "display_data"
    },
    {
     "name": "stdout",
     "output_type": "stream",
     "text": [
      "Epoch 240: train=8.28984, val=8.42507, took 55.552 s\n",
      "  Validation Found 50592 of 54504, added 2257 (eff 92.82%) (0.226 FP/event)\n"
     ]
    },
    {
     "data": {
      "application/vnd.jupyter.widget-view+json": {
       "model_id": "",
       "version_major": 2,
       "version_minor": 0
      },
      "text/plain": [
       "HBox(children=(FloatProgress(value=0.0, description='Training', layout=Layout(flex='2'), max=1250.0, style=Pro…"
      ]
     },
     "metadata": {},
     "output_type": "display_data"
    },
    {
     "name": "stdout",
     "output_type": "stream",
     "text": [
      "Epoch 241: train=8.2893, val=8.39234, took 55.519 s\n",
      "  Validation Found 50587 of 54504, added 2233 (eff 92.81%) (0.224 FP/event)\n"
     ]
    },
    {
     "data": {
      "application/vnd.jupyter.widget-view+json": {
       "model_id": "",
       "version_major": 2,
       "version_minor": 0
      },
      "text/plain": [
       "HBox(children=(FloatProgress(value=0.0, description='Training', layout=Layout(flex='2'), max=1250.0, style=Pro…"
      ]
     },
     "metadata": {},
     "output_type": "display_data"
    },
    {
     "name": "stdout",
     "output_type": "stream",
     "text": [
      "Epoch 242: train=8.29223, val=8.45358, took 55.622 s\n",
      "  Validation Found 50592 of 54504, added 2250 (eff 92.82%) (0.225 FP/event)\n"
     ]
    },
    {
     "data": {
      "application/vnd.jupyter.widget-view+json": {
       "model_id": "",
       "version_major": 2,
       "version_minor": 0
      },
      "text/plain": [
       "HBox(children=(FloatProgress(value=0.0, description='Training', layout=Layout(flex='2'), max=1250.0, style=Pro…"
      ]
     },
     "metadata": {},
     "output_type": "display_data"
    },
    {
     "name": "stdout",
     "output_type": "stream",
     "text": [
      "Epoch 243: train=8.28209, val=8.37749, took 55.584 s\n",
      "  Validation Found 50605 of 54504, added 2235 (eff 92.85%) (0.224 FP/event)\n"
     ]
    },
    {
     "data": {
      "application/vnd.jupyter.widget-view+json": {
       "model_id": "",
       "version_major": 2,
       "version_minor": 0
      },
      "text/plain": [
       "HBox(children=(FloatProgress(value=0.0, description='Training', layout=Layout(flex='2'), max=1250.0, style=Pro…"
      ]
     },
     "metadata": {},
     "output_type": "display_data"
    },
    {
     "name": "stdout",
     "output_type": "stream",
     "text": [
      "Epoch 244: train=8.28766, val=8.41372, took 55.882 s\n",
      "  Validation Found 50673 of 54504, added 2390 (eff 92.97%) (0.239 FP/event)\n"
     ]
    },
    {
     "data": {
      "application/vnd.jupyter.widget-view+json": {
       "model_id": "",
       "version_major": 2,
       "version_minor": 0
      },
      "text/plain": [
       "HBox(children=(FloatProgress(value=0.0, description='Training', layout=Layout(flex='2'), max=1250.0, style=Pro…"
      ]
     },
     "metadata": {},
     "output_type": "display_data"
    },
    {
     "name": "stdout",
     "output_type": "stream",
     "text": [
      "Epoch 245: train=8.28173, val=8.4509, took 56.041 s\n",
      "  Validation Found 50599 of 54504, added 2229 (eff 92.84%) (0.223 FP/event)\n"
     ]
    },
    {
     "data": {
      "application/vnd.jupyter.widget-view+json": {
       "model_id": "",
       "version_major": 2,
       "version_minor": 0
      },
      "text/plain": [
       "HBox(children=(FloatProgress(value=0.0, description='Training', layout=Layout(flex='2'), max=1250.0, style=Pro…"
      ]
     },
     "metadata": {},
     "output_type": "display_data"
    },
    {
     "name": "stdout",
     "output_type": "stream",
     "text": [
      "Epoch 246: train=8.28188, val=8.35838, took 55.781 s\n",
      "  Validation Found 50660 of 54504, added 2326 (eff 92.95%) (0.233 FP/event)\n"
     ]
    },
    {
     "data": {
      "application/vnd.jupyter.widget-view+json": {
       "model_id": "",
       "version_major": 2,
       "version_minor": 0
      },
      "text/plain": [
       "HBox(children=(FloatProgress(value=0.0, description='Training', layout=Layout(flex='2'), max=1250.0, style=Pro…"
      ]
     },
     "metadata": {},
     "output_type": "display_data"
    },
    {
     "name": "stdout",
     "output_type": "stream",
     "text": [
      "Epoch 247: train=8.28065, val=8.4501, took 55.983 s\n",
      "  Validation Found 50597 of 54504, added 2204 (eff 92.83%) (0.221 FP/event)\n"
     ]
    },
    {
     "data": {
      "application/vnd.jupyter.widget-view+json": {
       "model_id": "",
       "version_major": 2,
       "version_minor": 0
      },
      "text/plain": [
       "HBox(children=(FloatProgress(value=0.0, description='Training', layout=Layout(flex='2'), max=1250.0, style=Pro…"
      ]
     },
     "metadata": {},
     "output_type": "display_data"
    },
    {
     "name": "stdout",
     "output_type": "stream",
     "text": [
      "Epoch 248: train=8.28105, val=8.44265, took 55.409 s\n",
      "  Validation Found 50578 of 54504, added 2190 (eff 92.80%) (0.219 FP/event)\n"
     ]
    },
    {
     "data": {
      "application/vnd.jupyter.widget-view+json": {
       "model_id": "",
       "version_major": 2,
       "version_minor": 0
      },
      "text/plain": [
       "HBox(children=(FloatProgress(value=0.0, description='Training', layout=Layout(flex='2'), max=1250.0, style=Pro…"
      ]
     },
     "metadata": {},
     "output_type": "display_data"
    },
    {
     "name": "stdout",
     "output_type": "stream",
     "text": [
      "Epoch 249: train=8.28706, val=8.38984, took 55.385 s\n",
      "  Validation Found 50650 of 54504, added 2329 (eff 92.93%) (0.233 FP/event)\n"
     ]
    },
    {
     "data": {
      "application/vnd.jupyter.widget-view+json": {
       "model_id": "",
       "version_major": 2,
       "version_minor": 0
      },
      "text/plain": [
       "HBox(children=(FloatProgress(value=0.0, description='Training', layout=Layout(flex='2'), max=1250.0, style=Pro…"
      ]
     },
     "metadata": {},
     "output_type": "display_data"
    },
    {
     "name": "stdout",
     "output_type": "stream",
     "text": [
      "Epoch 250: train=8.28541, val=8.43054, took 55.684 s\n",
      "  Validation Found 50652 of 54504, added 2244 (eff 92.93%) (0.225 FP/event)\n"
     ]
    },
    {
     "data": {
      "application/vnd.jupyter.widget-view+json": {
       "model_id": "",
       "version_major": 2,
       "version_minor": 0
      },
      "text/plain": [
       "HBox(children=(FloatProgress(value=0.0, description='Training', layout=Layout(flex='2'), max=1250.0, style=Pro…"
      ]
     },
     "metadata": {},
     "output_type": "display_data"
    },
    {
     "name": "stdout",
     "output_type": "stream",
     "text": [
      "Epoch 251: train=8.28154, val=8.39268, took 55.644 s\n",
      "  Validation Found 50577 of 54504, added 2085 (eff 92.80%) (0.209 FP/event)\n"
     ]
    },
    {
     "data": {
      "application/vnd.jupyter.widget-view+json": {
       "model_id": "",
       "version_major": 2,
       "version_minor": 0
      },
      "text/plain": [
       "HBox(children=(FloatProgress(value=0.0, description='Training', layout=Layout(flex='2'), max=1250.0, style=Pro…"
      ]
     },
     "metadata": {},
     "output_type": "display_data"
    },
    {
     "name": "stdout",
     "output_type": "stream",
     "text": [
      "Epoch 252: train=8.28187, val=8.42246, took 55.571 s\n",
      "  Validation Found 50677 of 54504, added 2297 (eff 92.98%) (0.23 FP/event)\n"
     ]
    },
    {
     "data": {
      "application/vnd.jupyter.widget-view+json": {
       "model_id": "",
       "version_major": 2,
       "version_minor": 0
      },
      "text/plain": [
       "HBox(children=(FloatProgress(value=0.0, description='Training', layout=Layout(flex='2'), max=1250.0, style=Pro…"
      ]
     },
     "metadata": {},
     "output_type": "display_data"
    },
    {
     "name": "stdout",
     "output_type": "stream",
     "text": [
      "Epoch 253: train=8.28008, val=8.40433, took 55.664 s\n",
      "  Validation Found 50588 of 54504, added 2110 (eff 92.82%) (0.211 FP/event)\n"
     ]
    },
    {
     "data": {
      "application/vnd.jupyter.widget-view+json": {
       "model_id": "",
       "version_major": 2,
       "version_minor": 0
      },
      "text/plain": [
       "HBox(children=(FloatProgress(value=0.0, description='Training', layout=Layout(flex='2'), max=1250.0, style=Pro…"
      ]
     },
     "metadata": {},
     "output_type": "display_data"
    },
    {
     "name": "stdout",
     "output_type": "stream",
     "text": [
      "Epoch 254: train=8.27838, val=8.4989, took 55.598 s\n",
      "  Validation Found 50678 of 54504, added 2301 (eff 92.98%) (0.23 FP/event)\n"
     ]
    },
    {
     "data": {
      "application/vnd.jupyter.widget-view+json": {
       "model_id": "",
       "version_major": 2,
       "version_minor": 0
      },
      "text/plain": [
       "HBox(children=(FloatProgress(value=0.0, description='Training', layout=Layout(flex='2'), max=1250.0, style=Pro…"
      ]
     },
     "metadata": {},
     "output_type": "display_data"
    },
    {
     "name": "stdout",
     "output_type": "stream",
     "text": [
      "Epoch 255: train=8.28307, val=8.39772, took 55.593 s\n",
      "  Validation Found 50609 of 54504, added 2163 (eff 92.85%) (0.217 FP/event)\n"
     ]
    },
    {
     "data": {
      "application/vnd.jupyter.widget-view+json": {
       "model_id": "",
       "version_major": 2,
       "version_minor": 0
      },
      "text/plain": [
       "HBox(children=(FloatProgress(value=0.0, description='Training', layout=Layout(flex='2'), max=1250.0, style=Pro…"
      ]
     },
     "metadata": {},
     "output_type": "display_data"
    },
    {
     "name": "stdout",
     "output_type": "stream",
     "text": [
      "Epoch 256: train=8.27967, val=8.43198, took 55.705 s\n",
      "  Validation Found 50612 of 54504, added 2223 (eff 92.86%) (0.223 FP/event)\n"
     ]
    },
    {
     "data": {
      "application/vnd.jupyter.widget-view+json": {
       "model_id": "",
       "version_major": 2,
       "version_minor": 0
      },
      "text/plain": [
       "HBox(children=(FloatProgress(value=0.0, description='Training', layout=Layout(flex='2'), max=1250.0, style=Pro…"
      ]
     },
     "metadata": {},
     "output_type": "display_data"
    },
    {
     "name": "stdout",
     "output_type": "stream",
     "text": [
      "Epoch 257: train=8.27976, val=8.3749, took 55.752 s\n",
      "  Validation Found 50626 of 54504, added 2336 (eff 92.88%) (0.234 FP/event)\n"
     ]
    },
    {
     "data": {
      "application/vnd.jupyter.widget-view+json": {
       "model_id": "",
       "version_major": 2,
       "version_minor": 0
      },
      "text/plain": [
       "HBox(children=(FloatProgress(value=0.0, description='Training', layout=Layout(flex='2'), max=1250.0, style=Pro…"
      ]
     },
     "metadata": {},
     "output_type": "display_data"
    },
    {
     "name": "stdout",
     "output_type": "stream",
     "text": [
      "Epoch 258: train=8.27801, val=8.43729, took 55.601 s\n",
      "  Validation Found 50609 of 54504, added 2198 (eff 92.85%) (0.22 FP/event)\n"
     ]
    },
    {
     "data": {
      "application/vnd.jupyter.widget-view+json": {
       "model_id": "",
       "version_major": 2,
       "version_minor": 0
      },
      "text/plain": [
       "HBox(children=(FloatProgress(value=0.0, description='Training', layout=Layout(flex='2'), max=1250.0, style=Pro…"
      ]
     },
     "metadata": {},
     "output_type": "display_data"
    },
    {
     "name": "stdout",
     "output_type": "stream",
     "text": [
      "Epoch 259: train=8.27456, val=8.39087, took 56.206 s\n",
      "  Validation Found 50637 of 54504, added 2201 (eff 92.91%) (0.22 FP/event)\n"
     ]
    },
    {
     "data": {
      "application/vnd.jupyter.widget-view+json": {
       "model_id": "",
       "version_major": 2,
       "version_minor": 0
      },
      "text/plain": [
       "HBox(children=(FloatProgress(value=0.0, description='Training', layout=Layout(flex='2'), max=1250.0, style=Pro…"
      ]
     },
     "metadata": {},
     "output_type": "display_data"
    },
    {
     "name": "stdout",
     "output_type": "stream",
     "text": [
      "Epoch 260: train=8.27503, val=8.3831, took 55.158 s\n",
      "  Validation Found 50603 of 54504, added 2145 (eff 92.84%) (0.215 FP/event)\n"
     ]
    },
    {
     "data": {
      "application/vnd.jupyter.widget-view+json": {
       "model_id": "",
       "version_major": 2,
       "version_minor": 0
      },
      "text/plain": [
       "HBox(children=(FloatProgress(value=0.0, description='Training', layout=Layout(flex='2'), max=1250.0, style=Pro…"
      ]
     },
     "metadata": {},
     "output_type": "display_data"
    },
    {
     "name": "stdout",
     "output_type": "stream",
     "text": [
      "Epoch 261: train=8.27575, val=8.40283, took 56.153 s\n",
      "  Validation Found 50570 of 54504, added 2111 (eff 92.78%) (0.211 FP/event)\n"
     ]
    },
    {
     "data": {
      "application/vnd.jupyter.widget-view+json": {
       "model_id": "",
       "version_major": 2,
       "version_minor": 0
      },
      "text/plain": [
       "HBox(children=(FloatProgress(value=0.0, description='Training', layout=Layout(flex='2'), max=1250.0, style=Pro…"
      ]
     },
     "metadata": {},
     "output_type": "display_data"
    },
    {
     "name": "stdout",
     "output_type": "stream",
     "text": [
      "Epoch 262: train=8.2766, val=8.40093, took 55.227 s\n",
      "  Validation Found 50687 of 54504, added 2319 (eff 93.00%) (0.232 FP/event)\n"
     ]
    },
    {
     "data": {
      "application/vnd.jupyter.widget-view+json": {
       "model_id": "",
       "version_major": 2,
       "version_minor": 0
      },
      "text/plain": [
       "HBox(children=(FloatProgress(value=0.0, description='Training', layout=Layout(flex='2'), max=1250.0, style=Pro…"
      ]
     },
     "metadata": {},
     "output_type": "display_data"
    },
    {
     "name": "stdout",
     "output_type": "stream",
     "text": [
      "Epoch 263: train=8.27564, val=8.43011, took 55.569 s\n",
      "  Validation Found 50654 of 54504, added 2282 (eff 92.94%) (0.229 FP/event)\n"
     ]
    },
    {
     "data": {
      "application/vnd.jupyter.widget-view+json": {
       "model_id": "",
       "version_major": 2,
       "version_minor": 0
      },
      "text/plain": [
       "HBox(children=(FloatProgress(value=0.0, description='Training', layout=Layout(flex='2'), max=1250.0, style=Pro…"
      ]
     },
     "metadata": {},
     "output_type": "display_data"
    },
    {
     "name": "stdout",
     "output_type": "stream",
     "text": [
      "Epoch 264: train=8.27362, val=8.46729, took 55.292 s\n",
      "  Validation Found 50572 of 54504, added 2142 (eff 92.79%) (0.215 FP/event)\n"
     ]
    },
    {
     "data": {
      "application/vnd.jupyter.widget-view+json": {
       "model_id": "",
       "version_major": 2,
       "version_minor": 0
      },
      "text/plain": [
       "HBox(children=(FloatProgress(value=0.0, description='Training', layout=Layout(flex='2'), max=1250.0, style=Pro…"
      ]
     },
     "metadata": {},
     "output_type": "display_data"
    },
    {
     "name": "stdout",
     "output_type": "stream",
     "text": [
      "Epoch 265: train=8.27281, val=8.38215, took 55.68 s\n",
      "  Validation Found 50637 of 54504, added 2218 (eff 92.91%) (0.222 FP/event)\n"
     ]
    },
    {
     "data": {
      "application/vnd.jupyter.widget-view+json": {
       "model_id": "",
       "version_major": 2,
       "version_minor": 0
      },
      "text/plain": [
       "HBox(children=(FloatProgress(value=0.0, description='Training', layout=Layout(flex='2'), max=1250.0, style=Pro…"
      ]
     },
     "metadata": {},
     "output_type": "display_data"
    },
    {
     "name": "stdout",
     "output_type": "stream",
     "text": [
      "Epoch 266: train=8.27413, val=8.3855, took 55.547 s\n",
      "  Validation Found 50624 of 54504, added 2220 (eff 92.88%) (0.222 FP/event)\n"
     ]
    },
    {
     "data": {
      "application/vnd.jupyter.widget-view+json": {
       "model_id": "",
       "version_major": 2,
       "version_minor": 0
      },
      "text/plain": [
       "HBox(children=(FloatProgress(value=0.0, description='Training', layout=Layout(flex='2'), max=1250.0, style=Pro…"
      ]
     },
     "metadata": {},
     "output_type": "display_data"
    },
    {
     "name": "stdout",
     "output_type": "stream",
     "text": [
      "Epoch 267: train=8.273, val=8.45352, took 55.69 s\n",
      "  Validation Found 50585 of 54504, added 2143 (eff 92.81%) (0.215 FP/event)\n"
     ]
    },
    {
     "data": {
      "application/vnd.jupyter.widget-view+json": {
       "model_id": "",
       "version_major": 2,
       "version_minor": 0
      },
      "text/plain": [
       "HBox(children=(FloatProgress(value=0.0, description='Training', layout=Layout(flex='2'), max=1250.0, style=Pro…"
      ]
     },
     "metadata": {},
     "output_type": "display_data"
    },
    {
     "name": "stdout",
     "output_type": "stream",
     "text": [
      "Epoch 268: train=8.2741, val=8.41867, took 56.182 s\n",
      "  Validation Found 50563 of 54504, added 2110 (eff 92.77%) (0.211 FP/event)\n"
     ]
    },
    {
     "data": {
      "application/vnd.jupyter.widget-view+json": {
       "model_id": "",
       "version_major": 2,
       "version_minor": 0
      },
      "text/plain": [
       "HBox(children=(FloatProgress(value=0.0, description='Training', layout=Layout(flex='2'), max=1250.0, style=Pro…"
      ]
     },
     "metadata": {},
     "output_type": "display_data"
    },
    {
     "name": "stdout",
     "output_type": "stream",
     "text": [
      "Epoch 269: train=8.27127, val=8.3816, took 54.604 s\n",
      "  Validation Found 50618 of 54504, added 2300 (eff 92.87%) (0.23 FP/event)\n"
     ]
    },
    {
     "data": {
      "application/vnd.jupyter.widget-view+json": {
       "model_id": "",
       "version_major": 2,
       "version_minor": 0
      },
      "text/plain": [
       "HBox(children=(FloatProgress(value=0.0, description='Training', layout=Layout(flex='2'), max=1250.0, style=Pro…"
      ]
     },
     "metadata": {},
     "output_type": "display_data"
    },
    {
     "name": "stdout",
     "output_type": "stream",
     "text": [
      "Epoch 270: train=8.27373, val=8.42625, took 55.962 s\n",
      "  Validation Found 50600 of 54504, added 2141 (eff 92.84%) (0.214 FP/event)\n"
     ]
    },
    {
     "data": {
      "application/vnd.jupyter.widget-view+json": {
       "model_id": "",
       "version_major": 2,
       "version_minor": 0
      },
      "text/plain": [
       "HBox(children=(FloatProgress(value=0.0, description='Training', layout=Layout(flex='2'), max=1250.0, style=Pro…"
      ]
     },
     "metadata": {},
     "output_type": "display_data"
    },
    {
     "name": "stdout",
     "output_type": "stream",
     "text": [
      "Epoch 271: train=8.27686, val=8.41085, took 55.635 s\n",
      "  Validation Found 50715 of 54504, added 2493 (eff 93.05%) (0.25 FP/event)\n"
     ]
    },
    {
     "data": {
      "application/vnd.jupyter.widget-view+json": {
       "model_id": "",
       "version_major": 2,
       "version_minor": 0
      },
      "text/plain": [
       "HBox(children=(FloatProgress(value=0.0, description='Training', layout=Layout(flex='2'), max=1250.0, style=Pro…"
      ]
     },
     "metadata": {},
     "output_type": "display_data"
    },
    {
     "name": "stdout",
     "output_type": "stream",
     "text": [
      "Epoch 272: train=8.27729, val=8.43926, took 55.551 s\n",
      "  Validation Found 50522 of 54504, added 1967 (eff 92.69%) (0.197 FP/event)\n"
     ]
    },
    {
     "data": {
      "application/vnd.jupyter.widget-view+json": {
       "model_id": "",
       "version_major": 2,
       "version_minor": 0
      },
      "text/plain": [
       "HBox(children=(FloatProgress(value=0.0, description='Training', layout=Layout(flex='2'), max=1250.0, style=Pro…"
      ]
     },
     "metadata": {},
     "output_type": "display_data"
    },
    {
     "name": "stdout",
     "output_type": "stream",
     "text": [
      "Epoch 273: train=8.2745, val=8.39182, took 55.754 s\n",
      "  Validation Found 50639 of 54504, added 2275 (eff 92.91%) (0.228 FP/event)\n"
     ]
    },
    {
     "data": {
      "application/vnd.jupyter.widget-view+json": {
       "model_id": "",
       "version_major": 2,
       "version_minor": 0
      },
      "text/plain": [
       "HBox(children=(FloatProgress(value=0.0, description='Training', layout=Layout(flex='2'), max=1250.0, style=Pro…"
      ]
     },
     "metadata": {},
     "output_type": "display_data"
    },
    {
     "name": "stdout",
     "output_type": "stream",
     "text": [
      "Epoch 274: train=8.26655, val=8.40582, took 55.215 s\n",
      "  Validation Found 50587 of 54504, added 2211 (eff 92.81%) (0.221 FP/event)\n"
     ]
    },
    {
     "data": {
      "application/vnd.jupyter.widget-view+json": {
       "model_id": "",
       "version_major": 2,
       "version_minor": 0
      },
      "text/plain": [
       "HBox(children=(FloatProgress(value=0.0, description='Training', layout=Layout(flex='2'), max=1250.0, style=Pro…"
      ]
     },
     "metadata": {},
     "output_type": "display_data"
    },
    {
     "name": "stdout",
     "output_type": "stream",
     "text": [
      "Epoch 275: train=8.27287, val=8.44849, took 55.86 s\n",
      "  Validation Found 50631 of 54504, added 2161 (eff 92.89%) (0.216 FP/event)\n"
     ]
    },
    {
     "data": {
      "application/vnd.jupyter.widget-view+json": {
       "model_id": "",
       "version_major": 2,
       "version_minor": 0
      },
      "text/plain": [
       "HBox(children=(FloatProgress(value=0.0, description='Training', layout=Layout(flex='2'), max=1250.0, style=Pro…"
      ]
     },
     "metadata": {},
     "output_type": "display_data"
    },
    {
     "name": "stdout",
     "output_type": "stream",
     "text": [
      "Epoch 276: train=8.27045, val=8.48052, took 55.424 s\n",
      "  Validation Found 50576 of 54504, added 2093 (eff 92.79%) (0.21 FP/event)\n"
     ]
    },
    {
     "data": {
      "application/vnd.jupyter.widget-view+json": {
       "model_id": "",
       "version_major": 2,
       "version_minor": 0
      },
      "text/plain": [
       "HBox(children=(FloatProgress(value=0.0, description='Training', layout=Layout(flex='2'), max=1250.0, style=Pro…"
      ]
     },
     "metadata": {},
     "output_type": "display_data"
    },
    {
     "name": "stdout",
     "output_type": "stream",
     "text": [
      "Epoch 277: train=8.26592, val=8.37335, took 55.616 s\n",
      "  Validation Found 50671 of 54504, added 2373 (eff 92.97%) (0.238 FP/event)\n"
     ]
    },
    {
     "data": {
      "application/vnd.jupyter.widget-view+json": {
       "model_id": "",
       "version_major": 2,
       "version_minor": 0
      },
      "text/plain": [
       "HBox(children=(FloatProgress(value=0.0, description='Training', layout=Layout(flex='2'), max=1250.0, style=Pro…"
      ]
     },
     "metadata": {},
     "output_type": "display_data"
    },
    {
     "name": "stdout",
     "output_type": "stream",
     "text": [
      "Epoch 278: train=8.27199, val=8.43914, took 55.605 s\n",
      "  Validation Found 50671 of 54504, added 2282 (eff 92.97%) (0.229 FP/event)\n"
     ]
    },
    {
     "data": {
      "application/vnd.jupyter.widget-view+json": {
       "model_id": "",
       "version_major": 2,
       "version_minor": 0
      },
      "text/plain": [
       "HBox(children=(FloatProgress(value=0.0, description='Training', layout=Layout(flex='2'), max=1250.0, style=Pro…"
      ]
     },
     "metadata": {},
     "output_type": "display_data"
    },
    {
     "name": "stdout",
     "output_type": "stream",
     "text": [
      "Epoch 279: train=8.26912, val=8.43966, took 54.814 s\n",
      "  Validation Found 50595 of 54504, added 2126 (eff 92.83%) (0.213 FP/event)\n"
     ]
    },
    {
     "data": {
      "application/vnd.jupyter.widget-view+json": {
       "model_id": "",
       "version_major": 2,
       "version_minor": 0
      },
      "text/plain": [
       "HBox(children=(FloatProgress(value=0.0, description='Training', layout=Layout(flex='2'), max=1250.0, style=Pro…"
      ]
     },
     "metadata": {},
     "output_type": "display_data"
    },
    {
     "name": "stdout",
     "output_type": "stream",
     "text": [
      "Epoch 280: train=8.27148, val=8.42176, took 55.777 s\n",
      "  Validation Found 50615 of 54504, added 2229 (eff 92.86%) (0.223 FP/event)\n"
     ]
    },
    {
     "data": {
      "application/vnd.jupyter.widget-view+json": {
       "model_id": "",
       "version_major": 2,
       "version_minor": 0
      },
      "text/plain": [
       "HBox(children=(FloatProgress(value=0.0, description='Training', layout=Layout(flex='2'), max=1250.0, style=Pro…"
      ]
     },
     "metadata": {},
     "output_type": "display_data"
    },
    {
     "name": "stdout",
     "output_type": "stream",
     "text": [
      "Epoch 281: train=8.26671, val=8.38192, took 55.27 s\n",
      "  Validation Found 50617 of 54504, added 2164 (eff 92.87%) (0.217 FP/event)\n"
     ]
    },
    {
     "data": {
      "application/vnd.jupyter.widget-view+json": {
       "model_id": "",
       "version_major": 2,
       "version_minor": 0
      },
      "text/plain": [
       "HBox(children=(FloatProgress(value=0.0, description='Training', layout=Layout(flex='2'), max=1250.0, style=Pro…"
      ]
     },
     "metadata": {},
     "output_type": "display_data"
    },
    {
     "name": "stdout",
     "output_type": "stream",
     "text": [
      "Epoch 282: train=8.26208, val=8.38658, took 56.397 s\n",
      "  Validation Found 50660 of 54504, added 2183 (eff 92.95%) (0.219 FP/event)\n"
     ]
    },
    {
     "data": {
      "application/vnd.jupyter.widget-view+json": {
       "model_id": "",
       "version_major": 2,
       "version_minor": 0
      },
      "text/plain": [
       "HBox(children=(FloatProgress(value=0.0, description='Training', layout=Layout(flex='2'), max=1250.0, style=Pro…"
      ]
     },
     "metadata": {},
     "output_type": "display_data"
    },
    {
     "name": "stdout",
     "output_type": "stream",
     "text": [
      "Epoch 283: train=8.27096, val=8.48184, took 55.665 s\n",
      "  Validation Found 50599 of 54504, added 2078 (eff 92.84%) (0.208 FP/event)\n"
     ]
    },
    {
     "data": {
      "application/vnd.jupyter.widget-view+json": {
       "model_id": "",
       "version_major": 2,
       "version_minor": 0
      },
      "text/plain": [
       "HBox(children=(FloatProgress(value=0.0, description='Training', layout=Layout(flex='2'), max=1250.0, style=Pro…"
      ]
     },
     "metadata": {},
     "output_type": "display_data"
    },
    {
     "name": "stdout",
     "output_type": "stream",
     "text": [
      "Epoch 284: train=8.26994, val=8.39522, took 55.727 s\n",
      "  Validation Found 50610 of 54504, added 2162 (eff 92.86%) (0.217 FP/event)\n"
     ]
    },
    {
     "data": {
      "application/vnd.jupyter.widget-view+json": {
       "model_id": "",
       "version_major": 2,
       "version_minor": 0
      },
      "text/plain": [
       "HBox(children=(FloatProgress(value=0.0, description='Training', layout=Layout(flex='2'), max=1250.0, style=Pro…"
      ]
     },
     "metadata": {},
     "output_type": "display_data"
    },
    {
     "name": "stdout",
     "output_type": "stream",
     "text": [
      "Epoch 285: train=8.26718, val=8.34993, took 55.275 s\n",
      "  Validation Found 50638 of 54504, added 2328 (eff 92.91%) (0.233 FP/event)\n"
     ]
    },
    {
     "data": {
      "application/vnd.jupyter.widget-view+json": {
       "model_id": "",
       "version_major": 2,
       "version_minor": 0
      },
      "text/plain": [
       "HBox(children=(FloatProgress(value=0.0, description='Training', layout=Layout(flex='2'), max=1250.0, style=Pro…"
      ]
     },
     "metadata": {},
     "output_type": "display_data"
    },
    {
     "name": "stdout",
     "output_type": "stream",
     "text": [
      "Epoch 286: train=8.26692, val=8.36369, took 55.619 s\n",
      "  Validation Found 50671 of 54504, added 2445 (eff 92.97%) (0.245 FP/event)\n"
     ]
    },
    {
     "data": {
      "application/vnd.jupyter.widget-view+json": {
       "model_id": "",
       "version_major": 2,
       "version_minor": 0
      },
      "text/plain": [
       "HBox(children=(FloatProgress(value=0.0, description='Training', layout=Layout(flex='2'), max=1250.0, style=Pro…"
      ]
     },
     "metadata": {},
     "output_type": "display_data"
    },
    {
     "name": "stdout",
     "output_type": "stream",
     "text": [
      "Epoch 287: train=8.26736, val=8.43267, took 55.262 s\n",
      "  Validation Found 50554 of 54504, added 2043 (eff 92.75%) (0.205 FP/event)\n"
     ]
    },
    {
     "data": {
      "application/vnd.jupyter.widget-view+json": {
       "model_id": "",
       "version_major": 2,
       "version_minor": 0
      },
      "text/plain": [
       "HBox(children=(FloatProgress(value=0.0, description='Training', layout=Layout(flex='2'), max=1250.0, style=Pro…"
      ]
     },
     "metadata": {},
     "output_type": "display_data"
    },
    {
     "name": "stdout",
     "output_type": "stream",
     "text": [
      "Epoch 288: train=8.26886, val=8.40234, took 55.875 s\n",
      "  Validation Found 50610 of 54504, added 2107 (eff 92.86%) (0.211 FP/event)\n"
     ]
    },
    {
     "data": {
      "application/vnd.jupyter.widget-view+json": {
       "model_id": "",
       "version_major": 2,
       "version_minor": 0
      },
      "text/plain": [
       "HBox(children=(FloatProgress(value=0.0, description='Training', layout=Layout(flex='2'), max=1250.0, style=Pro…"
      ]
     },
     "metadata": {},
     "output_type": "display_data"
    },
    {
     "name": "stdout",
     "output_type": "stream",
     "text": [
      "Epoch 289: train=8.26346, val=8.37608, took 55.644 s\n",
      "  Validation Found 50614 of 54504, added 2122 (eff 92.86%) (0.213 FP/event)\n"
     ]
    },
    {
     "data": {
      "application/vnd.jupyter.widget-view+json": {
       "model_id": "",
       "version_major": 2,
       "version_minor": 0
      },
      "text/plain": [
       "HBox(children=(FloatProgress(value=0.0, description='Training', layout=Layout(flex='2'), max=1250.0, style=Pro…"
      ]
     },
     "metadata": {},
     "output_type": "display_data"
    },
    {
     "name": "stdout",
     "output_type": "stream",
     "text": [
      "Epoch 290: train=8.2603, val=8.45157, took 55.553 s\n",
      "  Validation Found 50638 of 54504, added 2158 (eff 92.91%) (0.216 FP/event)\n"
     ]
    },
    {
     "data": {
      "application/vnd.jupyter.widget-view+json": {
       "model_id": "",
       "version_major": 2,
       "version_minor": 0
      },
      "text/plain": [
       "HBox(children=(FloatProgress(value=0.0, description='Training', layout=Layout(flex='2'), max=1250.0, style=Pro…"
      ]
     },
     "metadata": {},
     "output_type": "display_data"
    },
    {
     "name": "stdout",
     "output_type": "stream",
     "text": [
      "Epoch 291: train=8.26271, val=8.41856, took 55.882 s\n",
      "  Validation Found 50705 of 54504, added 2311 (eff 93.03%) (0.231 FP/event)\n"
     ]
    },
    {
     "data": {
      "application/vnd.jupyter.widget-view+json": {
       "model_id": "",
       "version_major": 2,
       "version_minor": 0
      },
      "text/plain": [
       "HBox(children=(FloatProgress(value=0.0, description='Training', layout=Layout(flex='2'), max=1250.0, style=Pro…"
      ]
     },
     "metadata": {},
     "output_type": "display_data"
    },
    {
     "name": "stdout",
     "output_type": "stream",
     "text": [
      "Epoch 292: train=8.26087, val=8.35981, took 55.655 s\n",
      "  Validation Found 50672 of 54504, added 2233 (eff 92.97%) (0.224 FP/event)\n"
     ]
    },
    {
     "data": {
      "application/vnd.jupyter.widget-view+json": {
       "model_id": "",
       "version_major": 2,
       "version_minor": 0
      },
      "text/plain": [
       "HBox(children=(FloatProgress(value=0.0, description='Training', layout=Layout(flex='2'), max=1250.0, style=Pro…"
      ]
     },
     "metadata": {},
     "output_type": "display_data"
    },
    {
     "name": "stdout",
     "output_type": "stream",
     "text": [
      "Epoch 293: train=8.26398, val=8.38052, took 55.924 s\n",
      "  Validation Found 50718 of 54504, added 2368 (eff 93.05%) (0.237 FP/event)\n"
     ]
    },
    {
     "data": {
      "application/vnd.jupyter.widget-view+json": {
       "model_id": "",
       "version_major": 2,
       "version_minor": 0
      },
      "text/plain": [
       "HBox(children=(FloatProgress(value=0.0, description='Training', layout=Layout(flex='2'), max=1250.0, style=Pro…"
      ]
     },
     "metadata": {},
     "output_type": "display_data"
    },
    {
     "name": "stdout",
     "output_type": "stream",
     "text": [
      "Epoch 294: train=8.26451, val=8.37806, took 55.635 s\n",
      "  Validation Found 50652 of 54504, added 2183 (eff 92.93%) (0.219 FP/event)\n"
     ]
    },
    {
     "data": {
      "application/vnd.jupyter.widget-view+json": {
       "model_id": "",
       "version_major": 2,
       "version_minor": 0
      },
      "text/plain": [
       "HBox(children=(FloatProgress(value=0.0, description='Training', layout=Layout(flex='2'), max=1250.0, style=Pro…"
      ]
     },
     "metadata": {},
     "output_type": "display_data"
    },
    {
     "name": "stdout",
     "output_type": "stream",
     "text": [
      "Epoch 295: train=8.26633, val=8.41308, took 55.284 s\n",
      "  Validation Found 50575 of 54504, added 2094 (eff 92.79%) (0.21 FP/event)\n"
     ]
    },
    {
     "data": {
      "application/vnd.jupyter.widget-view+json": {
       "model_id": "",
       "version_major": 2,
       "version_minor": 0
      },
      "text/plain": [
       "HBox(children=(FloatProgress(value=0.0, description='Training', layout=Layout(flex='2'), max=1250.0, style=Pro…"
      ]
     },
     "metadata": {},
     "output_type": "display_data"
    },
    {
     "name": "stdout",
     "output_type": "stream",
     "text": [
      "Epoch 296: train=8.2638, val=8.34135, took 56.212 s\n",
      "  Validation Found 50715 of 54504, added 2362 (eff 93.05%) (0.237 FP/event)\n"
     ]
    },
    {
     "data": {
      "application/vnd.jupyter.widget-view+json": {
       "model_id": "",
       "version_major": 2,
       "version_minor": 0
      },
      "text/plain": [
       "HBox(children=(FloatProgress(value=0.0, description='Training', layout=Layout(flex='2'), max=1250.0, style=Pro…"
      ]
     },
     "metadata": {},
     "output_type": "display_data"
    },
    {
     "name": "stdout",
     "output_type": "stream",
     "text": [
      "Epoch 297: train=8.26175, val=8.41951, took 54.975 s\n",
      "  Validation Found 50562 of 54504, added 2043 (eff 92.77%) (0.205 FP/event)\n"
     ]
    },
    {
     "data": {
      "application/vnd.jupyter.widget-view+json": {
       "model_id": "",
       "version_major": 2,
       "version_minor": 0
      },
      "text/plain": [
       "HBox(children=(FloatProgress(value=0.0, description='Training', layout=Layout(flex='2'), max=1250.0, style=Pro…"
      ]
     },
     "metadata": {},
     "output_type": "display_data"
    },
    {
     "name": "stdout",
     "output_type": "stream",
     "text": [
      "Epoch 298: train=8.26553, val=8.42025, took 55.456 s\n",
      "  Validation Found 50629 of 54504, added 2100 (eff 92.89%) (0.21 FP/event)\n"
     ]
    },
    {
     "data": {
      "application/vnd.jupyter.widget-view+json": {
       "model_id": "",
       "version_major": 2,
       "version_minor": 0
      },
      "text/plain": [
       "HBox(children=(FloatProgress(value=0.0, description='Training', layout=Layout(flex='2'), max=1250.0, style=Pro…"
      ]
     },
     "metadata": {},
     "output_type": "display_data"
    },
    {
     "name": "stdout",
     "output_type": "stream",
     "text": [
      "Epoch 299: train=8.26407, val=8.35677, took 55.469 s\n",
      "  Validation Found 50598 of 54504, added 2121 (eff 92.83%) (0.212 FP/event)\n"
     ]
    },
    {
     "data": {
      "application/vnd.jupyter.widget-view+json": {
       "model_id": "",
       "version_major": 2,
       "version_minor": 0
      },
      "text/plain": [
       "HBox(children=(FloatProgress(value=0.0, description='Training', layout=Layout(flex='2'), max=1250.0, style=Pro…"
      ]
     },
     "metadata": {},
     "output_type": "display_data"
    },
    {
     "name": "stdout",
     "output_type": "stream",
     "text": [
      "Epoch 300: train=8.25974, val=8.41834, took 55.655 s\n",
      "  Validation Found 50662 of 54504, added 2175 (eff 92.95%) (0.218 FP/event)\n"
     ]
    },
    {
     "data": {
      "application/vnd.jupyter.widget-view+json": {
       "model_id": "",
       "version_major": 2,
       "version_minor": 0
      },
      "text/plain": [
       "HBox(children=(FloatProgress(value=0.0, description='Training', layout=Layout(flex='2'), max=1250.0, style=Pro…"
      ]
     },
     "metadata": {},
     "output_type": "display_data"
    },
    {
     "name": "stdout",
     "output_type": "stream",
     "text": [
      "Epoch 301: train=8.2617, val=8.44721, took 55.763 s\n",
      "  Validation Found 50611 of 54504, added 2121 (eff 92.86%) (0.212 FP/event)\n"
     ]
    },
    {
     "data": {
      "application/vnd.jupyter.widget-view+json": {
       "model_id": "",
       "version_major": 2,
       "version_minor": 0
      },
      "text/plain": [
       "HBox(children=(FloatProgress(value=0.0, description='Training', layout=Layout(flex='2'), max=1250.0, style=Pro…"
      ]
     },
     "metadata": {},
     "output_type": "display_data"
    },
    {
     "name": "stdout",
     "output_type": "stream",
     "text": [
      "Epoch 302: train=8.25954, val=8.39336, took 55.421 s\n",
      "  Validation Found 50686 of 54504, added 2193 (eff 93.00%) (0.22 FP/event)\n"
     ]
    },
    {
     "data": {
      "application/vnd.jupyter.widget-view+json": {
       "model_id": "",
       "version_major": 2,
       "version_minor": 0
      },
      "text/plain": [
       "HBox(children=(FloatProgress(value=0.0, description='Training', layout=Layout(flex='2'), max=1250.0, style=Pro…"
      ]
     },
     "metadata": {},
     "output_type": "display_data"
    },
    {
     "name": "stdout",
     "output_type": "stream",
     "text": [
      "Epoch 303: train=8.26087, val=8.43792, took 56.108 s\n",
      "  Validation Found 50676 of 54504, added 2219 (eff 92.98%) (0.222 FP/event)\n"
     ]
    },
    {
     "data": {
      "application/vnd.jupyter.widget-view+json": {
       "model_id": "",
       "version_major": 2,
       "version_minor": 0
      },
      "text/plain": [
       "HBox(children=(FloatProgress(value=0.0, description='Training', layout=Layout(flex='2'), max=1250.0, style=Pro…"
      ]
     },
     "metadata": {},
     "output_type": "display_data"
    },
    {
     "name": "stdout",
     "output_type": "stream",
     "text": [
      "Epoch 304: train=8.26013, val=8.32237, took 55.735 s\n",
      "  Validation Found 50655 of 54504, added 2210 (eff 92.94%) (0.221 FP/event)\n"
     ]
    },
    {
     "data": {
      "application/vnd.jupyter.widget-view+json": {
       "model_id": "",
       "version_major": 2,
       "version_minor": 0
      },
      "text/plain": [
       "HBox(children=(FloatProgress(value=0.0, description='Training', layout=Layout(flex='2'), max=1250.0, style=Pro…"
      ]
     },
     "metadata": {},
     "output_type": "display_data"
    },
    {
     "name": "stdout",
     "output_type": "stream",
     "text": [
      "Epoch 305: train=8.26093, val=8.39135, took 56.011 s\n",
      "  Validation Found 50669 of 54504, added 2230 (eff 92.96%) (0.223 FP/event)\n"
     ]
    },
    {
     "data": {
      "application/vnd.jupyter.widget-view+json": {
       "model_id": "",
       "version_major": 2,
       "version_minor": 0
      },
      "text/plain": [
       "HBox(children=(FloatProgress(value=0.0, description='Training', layout=Layout(flex='2'), max=1250.0, style=Pro…"
      ]
     },
     "metadata": {},
     "output_type": "display_data"
    },
    {
     "name": "stdout",
     "output_type": "stream",
     "text": [
      "Epoch 306: train=8.2631, val=8.4675, took 55.57 s\n",
      "  Validation Found 50699 of 54504, added 2167 (eff 93.02%) (0.217 FP/event)\n"
     ]
    },
    {
     "data": {
      "application/vnd.jupyter.widget-view+json": {
       "model_id": "",
       "version_major": 2,
       "version_minor": 0
      },
      "text/plain": [
       "HBox(children=(FloatProgress(value=0.0, description='Training', layout=Layout(flex='2'), max=1250.0, style=Pro…"
      ]
     },
     "metadata": {},
     "output_type": "display_data"
    },
    {
     "name": "stdout",
     "output_type": "stream",
     "text": [
      "Epoch 307: train=8.26048, val=8.41291, took 54.981 s\n",
      "  Validation Found 50616 of 54504, added 2093 (eff 92.87%) (0.21 FP/event)\n"
     ]
    },
    {
     "data": {
      "application/vnd.jupyter.widget-view+json": {
       "model_id": "",
       "version_major": 2,
       "version_minor": 0
      },
      "text/plain": [
       "HBox(children=(FloatProgress(value=0.0, description='Training', layout=Layout(flex='2'), max=1250.0, style=Pro…"
      ]
     },
     "metadata": {},
     "output_type": "display_data"
    },
    {
     "name": "stdout",
     "output_type": "stream",
     "text": [
      "Epoch 308: train=8.26257, val=8.40667, took 55.962 s\n",
      "  Validation Found 50622 of 54504, added 2137 (eff 92.88%) (0.214 FP/event)\n"
     ]
    },
    {
     "data": {
      "application/vnd.jupyter.widget-view+json": {
       "model_id": "",
       "version_major": 2,
       "version_minor": 0
      },
      "text/plain": [
       "HBox(children=(FloatProgress(value=0.0, description='Training', layout=Layout(flex='2'), max=1250.0, style=Pro…"
      ]
     },
     "metadata": {},
     "output_type": "display_data"
    },
    {
     "name": "stdout",
     "output_type": "stream",
     "text": [
      "Epoch 309: train=8.25637, val=8.40949, took 55.557 s\n",
      "  Validation Found 50659 of 54504, added 2238 (eff 92.95%) (0.224 FP/event)\n"
     ]
    },
    {
     "data": {
      "application/vnd.jupyter.widget-view+json": {
       "model_id": "",
       "version_major": 2,
       "version_minor": 0
      },
      "text/plain": [
       "HBox(children=(FloatProgress(value=0.0, description='Training', layout=Layout(flex='2'), max=1250.0, style=Pro…"
      ]
     },
     "metadata": {},
     "output_type": "display_data"
    },
    {
     "name": "stdout",
     "output_type": "stream",
     "text": [
      "Epoch 310: train=8.25944, val=8.37499, took 55.338 s\n",
      "  Validation Found 50705 of 54504, added 2317 (eff 93.03%) (0.232 FP/event)\n"
     ]
    },
    {
     "data": {
      "application/vnd.jupyter.widget-view+json": {
       "model_id": "",
       "version_major": 2,
       "version_minor": 0
      },
      "text/plain": [
       "HBox(children=(FloatProgress(value=0.0, description='Training', layout=Layout(flex='2'), max=1250.0, style=Pro…"
      ]
     },
     "metadata": {},
     "output_type": "display_data"
    },
    {
     "name": "stdout",
     "output_type": "stream",
     "text": [
      "Epoch 311: train=8.25788, val=8.34093, took 55.3 s\n",
      "  Validation Found 50659 of 54504, added 2220 (eff 92.95%) (0.222 FP/event)\n"
     ]
    },
    {
     "data": {
      "application/vnd.jupyter.widget-view+json": {
       "model_id": "",
       "version_major": 2,
       "version_minor": 0
      },
      "text/plain": [
       "HBox(children=(FloatProgress(value=0.0, description='Training', layout=Layout(flex='2'), max=1250.0, style=Pro…"
      ]
     },
     "metadata": {},
     "output_type": "display_data"
    },
    {
     "name": "stdout",
     "output_type": "stream",
     "text": [
      "Epoch 312: train=8.26012, val=8.40201, took 55.51 s\n",
      "  Validation Found 50625 of 54504, added 2044 (eff 92.88%) (0.205 FP/event)\n"
     ]
    },
    {
     "data": {
      "application/vnd.jupyter.widget-view+json": {
       "model_id": "",
       "version_major": 2,
       "version_minor": 0
      },
      "text/plain": [
       "HBox(children=(FloatProgress(value=0.0, description='Training', layout=Layout(flex='2'), max=1250.0, style=Pro…"
      ]
     },
     "metadata": {},
     "output_type": "display_data"
    },
    {
     "name": "stdout",
     "output_type": "stream",
     "text": [
      "Epoch 313: train=8.26069, val=8.46662, took 55.585 s\n",
      "  Validation Found 50569 of 54504, added 2067 (eff 92.78%) (0.207 FP/event)\n"
     ]
    },
    {
     "data": {
      "application/vnd.jupyter.widget-view+json": {
       "model_id": "",
       "version_major": 2,
       "version_minor": 0
      },
      "text/plain": [
       "HBox(children=(FloatProgress(value=0.0, description='Training', layout=Layout(flex='2'), max=1250.0, style=Pro…"
      ]
     },
     "metadata": {},
     "output_type": "display_data"
    },
    {
     "name": "stdout",
     "output_type": "stream",
     "text": [
      "Epoch 314: train=8.26089, val=8.45201, took 55.826 s\n",
      "  Validation Found 50720 of 54504, added 2269 (eff 93.06%) (0.227 FP/event)\n"
     ]
    },
    {
     "data": {
      "application/vnd.jupyter.widget-view+json": {
       "model_id": "",
       "version_major": 2,
       "version_minor": 0
      },
      "text/plain": [
       "HBox(children=(FloatProgress(value=0.0, description='Training', layout=Layout(flex='2'), max=1250.0, style=Pro…"
      ]
     },
     "metadata": {},
     "output_type": "display_data"
    },
    {
     "name": "stdout",
     "output_type": "stream",
     "text": [
      "Epoch 315: train=8.25574, val=8.40852, took 55.782 s\n",
      "  Validation Found 50606 of 54504, added 2121 (eff 92.85%) (0.212 FP/event)\n"
     ]
    },
    {
     "data": {
      "application/vnd.jupyter.widget-view+json": {
       "model_id": "",
       "version_major": 2,
       "version_minor": 0
      },
      "text/plain": [
       "HBox(children=(FloatProgress(value=0.0, description='Training', layout=Layout(flex='2'), max=1250.0, style=Pro…"
      ]
     },
     "metadata": {},
     "output_type": "display_data"
    },
    {
     "name": "stdout",
     "output_type": "stream",
     "text": [
      "Epoch 316: train=8.25841, val=8.3909, took 55.534 s\n",
      "  Validation Found 50618 of 54504, added 2140 (eff 92.87%) (0.214 FP/event)\n"
     ]
    },
    {
     "data": {
      "application/vnd.jupyter.widget-view+json": {
       "model_id": "",
       "version_major": 2,
       "version_minor": 0
      },
      "text/plain": [
       "HBox(children=(FloatProgress(value=0.0, description='Training', layout=Layout(flex='2'), max=1250.0, style=Pro…"
      ]
     },
     "metadata": {},
     "output_type": "display_data"
    },
    {
     "name": "stdout",
     "output_type": "stream",
     "text": [
      "Epoch 317: train=8.26032, val=8.47831, took 55.814 s\n",
      "  Validation Found 50668 of 54504, added 2145 (eff 92.96%) (0.215 FP/event)\n",
      "\n"
     ]
    }
   ],
   "source": [
    "print('for model: ', model)   \n",
    "run_name = 'SCNN to ACNN E'\n",
    "# Create an mlflow run\n",
    "with mlflow.start_run(run_name=run_name) as run:\n",
    "    # Log parameters of the model\n",
    "    for key, value in vars(args).items():\n",
    "        print(key, value)\n",
    "        mlflow.log_param(key, value)\n",
    "    \n",
    "    # Log parameter count in the model\n",
    "    mlflow.log_param('Parameters', count_parameters(model))\n",
    "    \n",
    "    # Begin run\n",
    "    for result in trainNet(model, optimizer, loss,\n",
    "                            train_loader, val_loader,\n",
    "                            args.epochs+args.epoch_start, epoch_start=args.epoch_start,\n",
    "                            notebook=True, device=device):\n",
    "\n",
    "        result = result._asdict()\n",
    "        results = results.append(pd.Series(result), ignore_index=True)\n",
    "        xs = results.index\n",
    "\n",
    "        # Update the plot above\n",
    "        lines['train'].set_data(results.index, results.cost)\n",
    "        lines['val'].set_data(results.index, results.val)\n",
    "\n",
    "        #filter first cost epoch (can be really large)\n",
    "        max_cost = max(max(results.cost if len(results.cost)<2 else results.cost[1:]), max(results.val))\n",
    "        min_cost = min(min(results.cost), min(results.val))\n",
    "    \n",
    "        # The plot limits need updating too\n",
    "        ax.set_ylim(min_cost*.9, max_cost*1.1)  \n",
    "        ax.set_xlim(-.5, len(results.cost) - .5)\n",
    "    \n",
    "        replace_in_ax(lax, lines['eff'], xs, results['eff_val'].apply(lambda x: x.eff_rate))\n",
    "        replace_in_ax(tax, lines['fp'], xs, results['eff_val'].apply(lambda x: x.fp_rate)) \n",
    "            \n",
    "        # Redraw the figure\n",
    "        fig.canvas.draw()  \n",
    "        \n",
    "        ## MLFLOW ##\n",
    "        # Log metrics\n",
    "        mlflow.log_metric('Efficiency', result['eff_val'].eff_rate, result['epoch'])\n",
    "        mlflow.log_metric('False Positive Rate',  result['eff_val'].fp_rate, result['epoch'])\n",
    "        mlflow.log_metric('Validation Loss',  result['val'], result['epoch'])\n",
    "        mlflow.log_metric('Training Loss',  result['cost'], result['epoch'])\n",
    "            \n",
    "        # Log tags\n",
    "#        mlflow.set_tag('Optimizer', 'Adam')\n",
    "#        mlflow.set_tag('Kernel size', 'Mixed')\n",
    "#        mlflow.set_tag('Skip connections', '4')\n",
    "#        mlflow.set_tag('Activation', 'Softplus')\n",
    "#        mlflow.set_tag('Mid Activation', 'Relu')\n",
    "        mlflow.set_tag('Extra Data', 'False')\n",
    "\n",
    "        # Save model state dictionary, optimizer state dictionary, and epoch number\n",
    "        torch.save({\n",
    "            'model':model.state_dict(),\n",
    "            'optimizer':optimizer.state_dict(),\n",
    "            'epoch':args.epochs+result['epoch']\n",
    "            }, 'run_stats.pyt')\n",
    "        # Save the run stats into mlflow\n",
    "        mlflow.log_artifact('run_stats.pyt')\n",
    "        \n",
    "    dual_train_plots(results.index,\n",
    "                 results.cost, results.val, \n",
    "                 results['eff_val'].apply(lambda x: x.eff_rate),\n",
    "                 results['eff_val'].apply(lambda x: x.fp_rate))\n",
    "    plt.tight_layout()\n",
    "    # save plot\n",
    "    fig.savefig('plot.png')  \n",
    "    mlflow.log_artifact('plot.png')"
   ]
  },
  {
   "cell_type": "code",
   "execution_count": 13,
   "metadata": {},
   "outputs": [],
   "source": [
    "##quit()"
   ]
  }
 ],
 "metadata": {
  "kernelspec": {
   "display_name": "goofit-june2020",
   "language": "python",
   "name": "goofit-june2020"
  },
  "language_info": {
   "codemirror_mode": {
    "name": "ipython",
    "version": 3
   },
   "file_extension": ".py",
   "mimetype": "text/x-python",
   "name": "python",
   "nbconvert_exporter": "python",
   "pygments_lexer": "ipython3",
   "version": "3.7.6"
  }
 },
 "nbformat": 4,
 "nbformat_minor": 2
}
