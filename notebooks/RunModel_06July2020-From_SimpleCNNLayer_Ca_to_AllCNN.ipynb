{
 "cells": [
  {
   "cell_type": "code",
   "execution_count": 1,
   "metadata": {},
   "outputs": [],
   "source": [
    "##%matplotlib widget\n",
    "## with %matplotlib notebook: seems to require ipympl as part of environment, either\n",
    "## part of the conda environment or \"pip install ipympl\"\n",
    "## otherwise, does not show ANY plots in notebook, plt.savefig() works\n",
    "%matplotlib notebook  \n",
    "##%matplotlib inline    ## --plt.savefig()  works, but re-sizing does NOT"
   ]
  },
  {
   "cell_type": "markdown",
   "metadata": {},
   "source": [
    "This notebook is a short demo to illustrate execution.   For odd historical reasons, it uses \"toy Monte Carlo\" (simulated data)for \"training\" and \"full LHCB MC\" for validation.\n",
    "\n",
    "The network architecture is a \"simple\" model that uses 1 input channel (the KDE [kernel density estimator] but from the track parameters) feeding 5 convolutional layers followed by a fully connected layer.\n",
    "\n",
    "In today's version, the network will start with weights from a previously trained version.\n",
    " "
   ]
  },
  {
   "cell_type": "markdown",
   "metadata": {},
   "source": [
    "Check the current GPU usage. Please try to be nice!"
   ]
  },
  {
   "cell_type": "code",
   "execution_count": 2,
   "metadata": {},
   "outputs": [
    {
     "name": "stdout",
     "output_type": "stream",
     "text": [
      "Thu Jul 16 10:18:53 2020       \n",
      "+-----------------------------------------------------------------------------+\n",
      "| NVIDIA-SMI 440.64.00    Driver Version: 440.64.00    CUDA Version: 10.2     |\n",
      "|-------------------------------+----------------------+----------------------+\n",
      "| GPU  Name        Persistence-M| Bus-Id        Disp.A | Volatile Uncorr. ECC |\n",
      "| Fan  Temp  Perf  Pwr:Usage/Cap|         Memory-Usage | GPU-Util  Compute M. |\n",
      "|===============================+======================+======================|\n",
      "|   0  TITAN V             Off  | 00000000:03:00.0 Off |                  N/A |\n",
      "| 42%   59C    P2   112W / 250W |   7133MiB / 12066MiB |     89%      Default |\n",
      "+-------------------------------+----------------------+----------------------+\n",
      "|   1  Tesla P100-PCIE...  Off  | 00000000:83:00.0 Off |                    0 |\n",
      "| N/A   34C    P0    27W / 250W |      0MiB / 16280MiB |      0%      Default |\n",
      "+-------------------------------+----------------------+----------------------+\n",
      "|   2  TITAN V             Off  | 00000000:84:00.0 Off |                  N/A |\n",
      "| 39%   48C    P8    29W / 250W |   6471MiB / 12066MiB |      0%      Default |\n",
      "+-------------------------------+----------------------+----------------------+\n",
      "                                                                               \n",
      "+-----------------------------------------------------------------------------+\n",
      "| Processes:                                                       GPU Memory |\n",
      "|  GPU       PID   Type   Process name                             Usage      |\n",
      "|=============================================================================|\n",
      "|    0     46430      C   ...a/conda/envs/goofit-june2020/bin/python  7121MiB |\n",
      "|    2      1487      C   ...a/conda/envs/goofit-june2020/bin/python  6459MiB |\n",
      "+-----------------------------------------------------------------------------+\n"
     ]
    }
   ],
   "source": [
    "!nvidia-smi"
   ]
  },
  {
   "cell_type": "markdown",
   "metadata": {},
   "source": [
    "> **WARNING**: The card numbers here are *not* the same as in CUDA. You have been warned."
   ]
  },
  {
   "cell_type": "markdown",
   "metadata": {},
   "source": [
    "## Imports"
   ]
  },
  {
   "cell_type": "code",
   "execution_count": 3,
   "metadata": {},
   "outputs": [],
   "source": [
    "import matplotlib.pyplot as plt\n",
    "import numpy as np\n",
    "import time\n",
    "import torch\n",
    "import pandas as pd\n",
    "import mlflow\n",
    "\n",
    "# Python 3 standard library\n",
    "from pathlib import Path\n",
    "\n",
    "from torchsummary import summary\n",
    "\n",
    "'''\n",
    "HELPER FUNCTIONS\n",
    "'''\n",
    "# From model/collectdata.py\n",
    "from model.collectdata_mdsA import collect_data\n",
    "\n",
    "# From model/loss.py\n",
    "##from loss import Loss\n",
    "from model.alt_loss_A import Loss\n",
    "\n",
    "# From model/training.py\n",
    "from model.training import trainNet, select_gpu, Results\n",
    "\n",
    "# From model/models.py\n",
    "##  will start with model from TwoFeatures_CNN6Layer_A in the first instance\n",
    "##  see relevant cell below\n",
    "\n",
    "from model.models_mds_07July2020 import SimpleCNN5Layer_Ca as Model\n",
    "from model.models_mds_07July2020 import SimpleCNN5Layer_Ca_B as Model_B\n",
    "from model.models_mds_07July2020 import All_CNN6Layer_A as ModelA\n",
    "from model.models_mds_07July2020 import All_CNN6Layer_B as ModelB\n",
    "from model.models_mds_07July2020 import All_CNN6Layer_C as ModelC\n",
    "from model.models_mds_07July2020 import All_CNN6Layer_D as ModelD\n",
    "from model.models_mds_07July2020 import All_CNN6Layer_E as ModelE\n",
    "\n",
    "# From model/utilities.py\n",
    "from model.utilities import load_full_state, count_parameters, Params\n",
    "\n",
    "from model.plots import dual_train_plots, replace_in_ax\n",
    "\n",
    "## adds image of model architecture\n",
    "import hiddenlayer as HL"
   ]
  },
  {
   "cell_type": "markdown",
   "metadata": {},
   "source": [
    "Set up Torch device configuration. All tensors and model parameters need to know where to be put.\n",
    "This takes a BUS ID number: The BUS ID is the same as the listing at the top of this script."
   ]
  },
  {
   "cell_type": "code",
   "execution_count": 4,
   "metadata": {
    "scrolled": true
   },
   "outputs": [
    {
     "name": "stdout",
     "output_type": "stream",
     "text": [
      "1 available GPUs (initially using device 0):\n",
      "  0 Tesla P100-PCIE-16GB\n"
     ]
    }
   ],
   "source": [
    "device = select_gpu(1)"
   ]
  },
  {
   "cell_type": "markdown",
   "metadata": {},
   "source": [
    "### Set up local parameters"
   ]
  },
  {
   "cell_type": "code",
   "execution_count": 5,
   "metadata": {},
   "outputs": [],
   "source": [
    "# params order - batch size, epochs, lr, epoch_start (which is usually set to 0)\n",
    "args = Params(128, 200, 1e-3, 118)"
   ]
  },
  {
   "cell_type": "markdown",
   "metadata": {},
   "source": [
    "## Loading data\n",
    "\n",
    "Load the dataset, split into parts, then move to device (see `collectdata.py` in the `../model` directory)"
   ]
  },
  {
   "cell_type": "code",
   "execution_count": 6,
   "metadata": {
    "scrolled": true
   },
   "outputs": [
    {
     "name": "stdout",
     "output_type": "stream",
     "text": [
      "Loading data...\n",
      "Loaded /share/lazy/sokoloff/ML-data_A/Aug14_80K_train.h5 in 12.76 s\n",
      "Loaded /share/lazy/sokoloff/ML-data_AA/Oct03_80K_train.h5 in 12.62 s\n",
      "Constructing 160000 event dataset took 3.414 s\n",
      "Loading data...\n",
      "Loaded /share/lazy/sokoloff/ML-data_AA/Oct03_20K_val.h5 in 3.004 s\n",
      "Constructing 9984 event dataset took 0.0771 s\n"
     ]
    }
   ],
   "source": [
    "## newer vernacular\n",
    "## Training dataset. You can put as many files here as desired.\n",
    "\n",
    "## in this DEMO example we use only one 80K training set -- the model starts with well-trained weights,\n",
    "## and using a smaller training set reduces both the time to load the data and the time to train an epoch\n",
    "##  set the option load_XandXsq = True to use both DKE and KDE^2 as input features\n",
    "train_loader = collect_data('/share/lazy/sokoloff/ML-data_A/Aug14_80K_train.h5',\n",
    "                             '/share/lazy/sokoloff/ML-data_AA/Oct03_80K_train.h5',\n",
    "#                             '/share/lazy/sokoloff/ML-data_AA/Oct03_40K_train.h5',\n",
    "#                             '/share/lazy/will/ML_mdsA/June30_2020_80k_1.h5',\n",
    "#                             '/share/lazy/will/ML_mdsA/June30_2020_80k_3.h5',\n",
    "#                             '/share/lazy/will/ML_mdsA/June30_2020_80k_4.h5',\n",
    "#                             '/share/lazy/will/ML_mdsA/June30_2020_80k_5.h5',\n",
    "#                             '/share/lazy/will/ML_mdsA/June30_2020_80k_6.h5',\n",
    "#                             '/share/lazy/will/ML_mdsA/June30_2020_80k_7.h5',\n",
    "#                             '/share/lazy/will/ML_mdsA/June30_2020_80k_8.h5',\n",
    "#                             '/share/lazy/will/ML_mdsA/June30_2020_80k_9.h5',\n",
    "                            #'/share/lazy/sokoloff/ML-data_AA/Oct03_80K2_train.h5',\n",
    "                             batch_size=args.batch_size,\n",
    "## if we are using a larger dataset (240K events, with the datasets above, and 11 GB  of GPU memory),\n",
    "## not the dataset will overflow the GPU memory; device=device will allow the data to move back\n",
    "## and forth between the CPU and GPU memory. While this allows use of a larger dataset, it slows\n",
    "## down performance by about 10%.  So comment out when not needed.\n",
    "                            device=device,\n",
    "                            masking=True, shuffle=True,\n",
    "                            load_XandXsq=False,\n",
    "                            load_xy=False)\n",
    "\n",
    "# Validation dataset. You can slice to reduce the size.\n",
    "## dataAA -> /share/lazy/sokoloff/ML-data_AA/\n",
    "val_loader = collect_data('/share/lazy/sokoloff/ML-data_AA/Oct03_20K_val.h5',\n",
    "## mds val_loader = collect_data('dataAA/HLT1CPU_1kevts_val.h5',\n",
    "\n",
    "                          batch_size=args.batch_size,\n",
    "                          slice=slice(256 * 39),\n",
    "                          device=device,\n",
    "                          masking=True, shuffle=False,\n",
    "                          load_XandXsq=False,\n",
    "                          load_xy=False)"
   ]
  },
  {
   "cell_type": "markdown",
   "metadata": {},
   "source": [
    "# Preparing the model"
   ]
  },
  {
   "cell_type": "markdown",
   "metadata": {},
   "source": [
    "Prepare a model, use multiple GPUs if they are VISIBLE, and move the model to the device."
   ]
  },
  {
   "cell_type": "code",
   "execution_count": 7,
   "metadata": {
    "scrolled": true
   },
   "outputs": [
    {
     "name": "stderr",
     "output_type": "stream",
     "text": [
      "WARNING:root:Malformed experiment 'ML'. Detailed error Yaml file '/share/lazy/pv-finder_model_repo/ML/meta.yaml' does not exist.\n",
      "Traceback (most recent call last):\n",
      "  File \"/home/michael24peters/.local/lib/python3.7/site-packages/mlflow/store/tracking/file_store.py\", line 197, in list_experiments\n",
      "    experiment = self._get_experiment(exp_id, view_type)\n",
      "  File \"/home/michael24peters/.local/lib/python3.7/site-packages/mlflow/store/tracking/file_store.py\", line 260, in _get_experiment\n",
      "    meta = read_yaml(experiment_dir, FileStore.META_DATA_FILE_NAME)\n",
      "  File \"/home/michael24peters/.local/lib/python3.7/site-packages/mlflow/utils/file_utils.py\", line 167, in read_yaml\n",
      "    raise MissingConfigException(\"Yaml file '%s' does not exist.\" % file_path)\n",
      "mlflow.exceptions.MissingConfigException: Yaml file '/share/lazy/pv-finder_model_repo/ML/meta.yaml' does not exist.\n"
     ]
    }
   ],
   "source": [
    "model = ModelA()\n",
    "\n",
    "##summary(model, input_size=(4, 4000))\n",
    "##print(model.parameters)\n",
    "\n",
    "mlflow.tracking.set_tracking_uri('file:/share/lazy/pv-finder_model_repo')\n",
    "mlflow.set_experiment('ALLCNN')"
   ]
  },
  {
   "cell_type": "code",
   "execution_count": 8,
   "metadata": {
    "scrolled": true
   },
   "outputs": [
    {
     "name": "stdout",
     "output_type": "stream",
     "text": [
      "Let's use 1 GPUs!\n"
     ]
    }
   ],
   "source": [
    "print(\"Let's use\", torch.cuda.device_count(), \"GPUs!\")\n",
    "if torch.cuda.device_count() > 1:\n",
    "    model = torch.nn.DataParallel(model)"
   ]
  },
  {
   "cell_type": "code",
   "execution_count": 9,
   "metadata": {},
   "outputs": [
    {
     "name": "stdout",
     "output_type": "stream",
     "text": [
      "we also froze 5 weights\n",
      "Of the 6.0 parameter layers to update in the current model, 5.0 were loaded\n"
     ]
    }
   ],
   "source": [
    "##  mds 200121 loss = Loss(epsilon=1e-5,coefficient=1.0)\n",
    "loss = Loss(epsilon=1e-5,coefficient=2.5)\n",
    "optimizer = torch.optim.Adam(model.parameters(), lr=args.lr)\n",
    "\n",
    "##  use the first five layers from a pre-existing model\n",
    "##  see example at https://discuss.pytorch.org/t/how-to-load-part-of-pre-trained-model/1113\n",
    "##   ML -> /share/lazy/sokoloff/ML\n",
    "\n",
    "#path = 'run_stats.pyt'\n",
    "#load_full_state(model, optimizer, path, freeze_weights=True)\n",
    "# For other pretrained models, go to MLFlow and find the path for \"run_stats.pyt\"\n",
    "pretrained_dict = '/share/lazy/pv-finder_model_repo/7/d4c36a4ce6a24fa084bf844256bee04f/artifacts/run_stats.pyt'\n",
    "load_full_state(model, optimizer, pretrained_dict, freeze_weights=True)"
   ]
  },
  {
   "cell_type": "markdown",
   "metadata": {},
   "source": [
    "Let's move the model's weight matricies to the GPU:"
   ]
  },
  {
   "cell_type": "code",
   "execution_count": 10,
   "metadata": {
    "scrolled": true
   },
   "outputs": [
    {
     "data": {
      "text/plain": [
       "All_CNN6Layer_A(\n",
       "  (conv1): Conv1d(1, 20, kernel_size=(25,), stride=(1,), padding=(12,))\n",
       "  (conv2): Conv1d(20, 10, kernel_size=(15,), stride=(1,), padding=(7,))\n",
       "  (conv3): Conv1d(10, 10, kernel_size=(15,), stride=(1,), padding=(7,))\n",
       "  (conv4): Conv1d(10, 10, kernel_size=(15,), stride=(1,), padding=(7,))\n",
       "  (conv5): Conv1d(10, 1, kernel_size=(5,), stride=(1,), padding=(2,))\n",
       "  (finalFilter): Conv1d(1, 1, kernel_size=(91,), stride=(1,), padding=(45,))\n",
       "  (conv1dropout): Dropout(p=0.15, inplace=False)\n",
       "  (conv2dropout): Dropout(p=0.15, inplace=False)\n",
       "  (conv3dropout): Dropout(p=0.15, inplace=False)\n",
       "  (conv4dropout): Dropout(p=0.15, inplace=False)\n",
       "  (conv5dropout): Dropout(p=0.15, inplace=False)\n",
       ")"
      ]
     },
     "execution_count": 10,
     "metadata": {},
     "output_type": "execute_result"
    }
   ],
   "source": [
    "model.to(device)"
   ]
  },
  {
   "cell_type": "markdown",
   "metadata": {},
   "source": [
    "## Train \n",
    "\n",
    "\n",
    "\n",
    "The body of this loop runs once per epoch. Results is a named tuple of values (loss per epoch for training and validation, time each). Start by setting up a plot first:"
   ]
  },
  {
   "cell_type": "code",
   "execution_count": 11,
   "metadata": {},
   "outputs": [
    {
     "data": {
      "application/javascript": [
       "/* Put everything inside the global mpl namespace */\n",
       "window.mpl = {};\n",
       "\n",
       "\n",
       "mpl.get_websocket_type = function() {\n",
       "    if (typeof(WebSocket) !== 'undefined') {\n",
       "        return WebSocket;\n",
       "    } else if (typeof(MozWebSocket) !== 'undefined') {\n",
       "        return MozWebSocket;\n",
       "    } else {\n",
       "        alert('Your browser does not have WebSocket support. ' +\n",
       "              'Please try Chrome, Safari or Firefox ≥ 6. ' +\n",
       "              'Firefox 4 and 5 are also supported but you ' +\n",
       "              'have to enable WebSockets in about:config.');\n",
       "    };\n",
       "}\n",
       "\n",
       "mpl.figure = function(figure_id, websocket, ondownload, parent_element) {\n",
       "    this.id = figure_id;\n",
       "\n",
       "    this.ws = websocket;\n",
       "\n",
       "    this.supports_binary = (this.ws.binaryType != undefined);\n",
       "\n",
       "    if (!this.supports_binary) {\n",
       "        var warnings = document.getElementById(\"mpl-warnings\");\n",
       "        if (warnings) {\n",
       "            warnings.style.display = 'block';\n",
       "            warnings.textContent = (\n",
       "                \"This browser does not support binary websocket messages. \" +\n",
       "                    \"Performance may be slow.\");\n",
       "        }\n",
       "    }\n",
       "\n",
       "    this.imageObj = new Image();\n",
       "\n",
       "    this.context = undefined;\n",
       "    this.message = undefined;\n",
       "    this.canvas = undefined;\n",
       "    this.rubberband_canvas = undefined;\n",
       "    this.rubberband_context = undefined;\n",
       "    this.format_dropdown = undefined;\n",
       "\n",
       "    this.image_mode = 'full';\n",
       "\n",
       "    this.root = $('<div/>');\n",
       "    this._root_extra_style(this.root)\n",
       "    this.root.attr('style', 'display: inline-block');\n",
       "\n",
       "    $(parent_element).append(this.root);\n",
       "\n",
       "    this._init_header(this);\n",
       "    this._init_canvas(this);\n",
       "    this._init_toolbar(this);\n",
       "\n",
       "    var fig = this;\n",
       "\n",
       "    this.waiting = false;\n",
       "\n",
       "    this.ws.onopen =  function () {\n",
       "            fig.send_message(\"supports_binary\", {value: fig.supports_binary});\n",
       "            fig.send_message(\"send_image_mode\", {});\n",
       "            if (mpl.ratio != 1) {\n",
       "                fig.send_message(\"set_dpi_ratio\", {'dpi_ratio': mpl.ratio});\n",
       "            }\n",
       "            fig.send_message(\"refresh\", {});\n",
       "        }\n",
       "\n",
       "    this.imageObj.onload = function() {\n",
       "            if (fig.image_mode == 'full') {\n",
       "                // Full images could contain transparency (where diff images\n",
       "                // almost always do), so we need to clear the canvas so that\n",
       "                // there is no ghosting.\n",
       "                fig.context.clearRect(0, 0, fig.canvas.width, fig.canvas.height);\n",
       "            }\n",
       "            fig.context.drawImage(fig.imageObj, 0, 0);\n",
       "        };\n",
       "\n",
       "    this.imageObj.onunload = function() {\n",
       "        fig.ws.close();\n",
       "    }\n",
       "\n",
       "    this.ws.onmessage = this._make_on_message_function(this);\n",
       "\n",
       "    this.ondownload = ondownload;\n",
       "}\n",
       "\n",
       "mpl.figure.prototype._init_header = function() {\n",
       "    var titlebar = $(\n",
       "        '<div class=\"ui-dialog-titlebar ui-widget-header ui-corner-all ' +\n",
       "        'ui-helper-clearfix\"/>');\n",
       "    var titletext = $(\n",
       "        '<div class=\"ui-dialog-title\" style=\"width: 100%; ' +\n",
       "        'text-align: center; padding: 3px;\"/>');\n",
       "    titlebar.append(titletext)\n",
       "    this.root.append(titlebar);\n",
       "    this.header = titletext[0];\n",
       "}\n",
       "\n",
       "\n",
       "\n",
       "mpl.figure.prototype._canvas_extra_style = function(canvas_div) {\n",
       "\n",
       "}\n",
       "\n",
       "\n",
       "mpl.figure.prototype._root_extra_style = function(canvas_div) {\n",
       "\n",
       "}\n",
       "\n",
       "mpl.figure.prototype._init_canvas = function() {\n",
       "    var fig = this;\n",
       "\n",
       "    var canvas_div = $('<div/>');\n",
       "\n",
       "    canvas_div.attr('style', 'position: relative; clear: both; outline: 0');\n",
       "\n",
       "    function canvas_keyboard_event(event) {\n",
       "        return fig.key_event(event, event['data']);\n",
       "    }\n",
       "\n",
       "    canvas_div.keydown('key_press', canvas_keyboard_event);\n",
       "    canvas_div.keyup('key_release', canvas_keyboard_event);\n",
       "    this.canvas_div = canvas_div\n",
       "    this._canvas_extra_style(canvas_div)\n",
       "    this.root.append(canvas_div);\n",
       "\n",
       "    var canvas = $('<canvas/>');\n",
       "    canvas.addClass('mpl-canvas');\n",
       "    canvas.attr('style', \"left: 0; top: 0; z-index: 0; outline: 0\")\n",
       "\n",
       "    this.canvas = canvas[0];\n",
       "    this.context = canvas[0].getContext(\"2d\");\n",
       "\n",
       "    var backingStore = this.context.backingStorePixelRatio ||\n",
       "\tthis.context.webkitBackingStorePixelRatio ||\n",
       "\tthis.context.mozBackingStorePixelRatio ||\n",
       "\tthis.context.msBackingStorePixelRatio ||\n",
       "\tthis.context.oBackingStorePixelRatio ||\n",
       "\tthis.context.backingStorePixelRatio || 1;\n",
       "\n",
       "    mpl.ratio = (window.devicePixelRatio || 1) / backingStore;\n",
       "\n",
       "    var rubberband = $('<canvas/>');\n",
       "    rubberband.attr('style', \"position: absolute; left: 0; top: 0; z-index: 1;\")\n",
       "\n",
       "    var pass_mouse_events = true;\n",
       "\n",
       "    canvas_div.resizable({\n",
       "        start: function(event, ui) {\n",
       "            pass_mouse_events = false;\n",
       "        },\n",
       "        resize: function(event, ui) {\n",
       "            fig.request_resize(ui.size.width, ui.size.height);\n",
       "        },\n",
       "        stop: function(event, ui) {\n",
       "            pass_mouse_events = true;\n",
       "            fig.request_resize(ui.size.width, ui.size.height);\n",
       "        },\n",
       "    });\n",
       "\n",
       "    function mouse_event_fn(event) {\n",
       "        if (pass_mouse_events)\n",
       "            return fig.mouse_event(event, event['data']);\n",
       "    }\n",
       "\n",
       "    rubberband.mousedown('button_press', mouse_event_fn);\n",
       "    rubberband.mouseup('button_release', mouse_event_fn);\n",
       "    // Throttle sequential mouse events to 1 every 20ms.\n",
       "    rubberband.mousemove('motion_notify', mouse_event_fn);\n",
       "\n",
       "    rubberband.mouseenter('figure_enter', mouse_event_fn);\n",
       "    rubberband.mouseleave('figure_leave', mouse_event_fn);\n",
       "\n",
       "    canvas_div.on(\"wheel\", function (event) {\n",
       "        event = event.originalEvent;\n",
       "        event['data'] = 'scroll'\n",
       "        if (event.deltaY < 0) {\n",
       "            event.step = 1;\n",
       "        } else {\n",
       "            event.step = -1;\n",
       "        }\n",
       "        mouse_event_fn(event);\n",
       "    });\n",
       "\n",
       "    canvas_div.append(canvas);\n",
       "    canvas_div.append(rubberband);\n",
       "\n",
       "    this.rubberband = rubberband;\n",
       "    this.rubberband_canvas = rubberband[0];\n",
       "    this.rubberband_context = rubberband[0].getContext(\"2d\");\n",
       "    this.rubberband_context.strokeStyle = \"#000000\";\n",
       "\n",
       "    this._resize_canvas = function(width, height) {\n",
       "        // Keep the size of the canvas, canvas container, and rubber band\n",
       "        // canvas in synch.\n",
       "        canvas_div.css('width', width)\n",
       "        canvas_div.css('height', height)\n",
       "\n",
       "        canvas.attr('width', width * mpl.ratio);\n",
       "        canvas.attr('height', height * mpl.ratio);\n",
       "        canvas.attr('style', 'width: ' + width + 'px; height: ' + height + 'px;');\n",
       "\n",
       "        rubberband.attr('width', width);\n",
       "        rubberband.attr('height', height);\n",
       "    }\n",
       "\n",
       "    // Set the figure to an initial 600x600px, this will subsequently be updated\n",
       "    // upon first draw.\n",
       "    this._resize_canvas(600, 600);\n",
       "\n",
       "    // Disable right mouse context menu.\n",
       "    $(this.rubberband_canvas).bind(\"contextmenu\",function(e){\n",
       "        return false;\n",
       "    });\n",
       "\n",
       "    function set_focus () {\n",
       "        canvas.focus();\n",
       "        canvas_div.focus();\n",
       "    }\n",
       "\n",
       "    window.setTimeout(set_focus, 100);\n",
       "}\n",
       "\n",
       "mpl.figure.prototype._init_toolbar = function() {\n",
       "    var fig = this;\n",
       "\n",
       "    var nav_element = $('<div/>');\n",
       "    nav_element.attr('style', 'width: 100%');\n",
       "    this.root.append(nav_element);\n",
       "\n",
       "    // Define a callback function for later on.\n",
       "    function toolbar_event(event) {\n",
       "        return fig.toolbar_button_onclick(event['data']);\n",
       "    }\n",
       "    function toolbar_mouse_event(event) {\n",
       "        return fig.toolbar_button_onmouseover(event['data']);\n",
       "    }\n",
       "\n",
       "    for(var toolbar_ind in mpl.toolbar_items) {\n",
       "        var name = mpl.toolbar_items[toolbar_ind][0];\n",
       "        var tooltip = mpl.toolbar_items[toolbar_ind][1];\n",
       "        var image = mpl.toolbar_items[toolbar_ind][2];\n",
       "        var method_name = mpl.toolbar_items[toolbar_ind][3];\n",
       "\n",
       "        if (!name) {\n",
       "            // put a spacer in here.\n",
       "            continue;\n",
       "        }\n",
       "        var button = $('<button/>');\n",
       "        button.addClass('ui-button ui-widget ui-state-default ui-corner-all ' +\n",
       "                        'ui-button-icon-only');\n",
       "        button.attr('role', 'button');\n",
       "        button.attr('aria-disabled', 'false');\n",
       "        button.click(method_name, toolbar_event);\n",
       "        button.mouseover(tooltip, toolbar_mouse_event);\n",
       "\n",
       "        var icon_img = $('<span/>');\n",
       "        icon_img.addClass('ui-button-icon-primary ui-icon');\n",
       "        icon_img.addClass(image);\n",
       "        icon_img.addClass('ui-corner-all');\n",
       "\n",
       "        var tooltip_span = $('<span/>');\n",
       "        tooltip_span.addClass('ui-button-text');\n",
       "        tooltip_span.html(tooltip);\n",
       "\n",
       "        button.append(icon_img);\n",
       "        button.append(tooltip_span);\n",
       "\n",
       "        nav_element.append(button);\n",
       "    }\n",
       "\n",
       "    var fmt_picker_span = $('<span/>');\n",
       "\n",
       "    var fmt_picker = $('<select/>');\n",
       "    fmt_picker.addClass('mpl-toolbar-option ui-widget ui-widget-content');\n",
       "    fmt_picker_span.append(fmt_picker);\n",
       "    nav_element.append(fmt_picker_span);\n",
       "    this.format_dropdown = fmt_picker[0];\n",
       "\n",
       "    for (var ind in mpl.extensions) {\n",
       "        var fmt = mpl.extensions[ind];\n",
       "        var option = $(\n",
       "            '<option/>', {selected: fmt === mpl.default_extension}).html(fmt);\n",
       "        fmt_picker.append(option);\n",
       "    }\n",
       "\n",
       "    // Add hover states to the ui-buttons\n",
       "    $( \".ui-button\" ).hover(\n",
       "        function() { $(this).addClass(\"ui-state-hover\");},\n",
       "        function() { $(this).removeClass(\"ui-state-hover\");}\n",
       "    );\n",
       "\n",
       "    var status_bar = $('<span class=\"mpl-message\"/>');\n",
       "    nav_element.append(status_bar);\n",
       "    this.message = status_bar[0];\n",
       "}\n",
       "\n",
       "mpl.figure.prototype.request_resize = function(x_pixels, y_pixels) {\n",
       "    // Request matplotlib to resize the figure. Matplotlib will then trigger a resize in the client,\n",
       "    // which will in turn request a refresh of the image.\n",
       "    this.send_message('resize', {'width': x_pixels, 'height': y_pixels});\n",
       "}\n",
       "\n",
       "mpl.figure.prototype.send_message = function(type, properties) {\n",
       "    properties['type'] = type;\n",
       "    properties['figure_id'] = this.id;\n",
       "    this.ws.send(JSON.stringify(properties));\n",
       "}\n",
       "\n",
       "mpl.figure.prototype.send_draw_message = function() {\n",
       "    if (!this.waiting) {\n",
       "        this.waiting = true;\n",
       "        this.ws.send(JSON.stringify({type: \"draw\", figure_id: this.id}));\n",
       "    }\n",
       "}\n",
       "\n",
       "\n",
       "mpl.figure.prototype.handle_save = function(fig, msg) {\n",
       "    var format_dropdown = fig.format_dropdown;\n",
       "    var format = format_dropdown.options[format_dropdown.selectedIndex].value;\n",
       "    fig.ondownload(fig, format);\n",
       "}\n",
       "\n",
       "\n",
       "mpl.figure.prototype.handle_resize = function(fig, msg) {\n",
       "    var size = msg['size'];\n",
       "    if (size[0] != fig.canvas.width || size[1] != fig.canvas.height) {\n",
       "        fig._resize_canvas(size[0], size[1]);\n",
       "        fig.send_message(\"refresh\", {});\n",
       "    };\n",
       "}\n",
       "\n",
       "mpl.figure.prototype.handle_rubberband = function(fig, msg) {\n",
       "    var x0 = msg['x0'] / mpl.ratio;\n",
       "    var y0 = (fig.canvas.height - msg['y0']) / mpl.ratio;\n",
       "    var x1 = msg['x1'] / mpl.ratio;\n",
       "    var y1 = (fig.canvas.height - msg['y1']) / mpl.ratio;\n",
       "    x0 = Math.floor(x0) + 0.5;\n",
       "    y0 = Math.floor(y0) + 0.5;\n",
       "    x1 = Math.floor(x1) + 0.5;\n",
       "    y1 = Math.floor(y1) + 0.5;\n",
       "    var min_x = Math.min(x0, x1);\n",
       "    var min_y = Math.min(y0, y1);\n",
       "    var width = Math.abs(x1 - x0);\n",
       "    var height = Math.abs(y1 - y0);\n",
       "\n",
       "    fig.rubberband_context.clearRect(\n",
       "        0, 0, fig.canvas.width / mpl.ratio, fig.canvas.height / mpl.ratio);\n",
       "\n",
       "    fig.rubberband_context.strokeRect(min_x, min_y, width, height);\n",
       "}\n",
       "\n",
       "mpl.figure.prototype.handle_figure_label = function(fig, msg) {\n",
       "    // Updates the figure title.\n",
       "    fig.header.textContent = msg['label'];\n",
       "}\n",
       "\n",
       "mpl.figure.prototype.handle_cursor = function(fig, msg) {\n",
       "    var cursor = msg['cursor'];\n",
       "    switch(cursor)\n",
       "    {\n",
       "    case 0:\n",
       "        cursor = 'pointer';\n",
       "        break;\n",
       "    case 1:\n",
       "        cursor = 'default';\n",
       "        break;\n",
       "    case 2:\n",
       "        cursor = 'crosshair';\n",
       "        break;\n",
       "    case 3:\n",
       "        cursor = 'move';\n",
       "        break;\n",
       "    }\n",
       "    fig.rubberband_canvas.style.cursor = cursor;\n",
       "}\n",
       "\n",
       "mpl.figure.prototype.handle_message = function(fig, msg) {\n",
       "    fig.message.textContent = msg['message'];\n",
       "}\n",
       "\n",
       "mpl.figure.prototype.handle_draw = function(fig, msg) {\n",
       "    // Request the server to send over a new figure.\n",
       "    fig.send_draw_message();\n",
       "}\n",
       "\n",
       "mpl.figure.prototype.handle_image_mode = function(fig, msg) {\n",
       "    fig.image_mode = msg['mode'];\n",
       "}\n",
       "\n",
       "mpl.figure.prototype.updated_canvas_event = function() {\n",
       "    // Called whenever the canvas gets updated.\n",
       "    this.send_message(\"ack\", {});\n",
       "}\n",
       "\n",
       "// A function to construct a web socket function for onmessage handling.\n",
       "// Called in the figure constructor.\n",
       "mpl.figure.prototype._make_on_message_function = function(fig) {\n",
       "    return function socket_on_message(evt) {\n",
       "        if (evt.data instanceof Blob) {\n",
       "            /* FIXME: We get \"Resource interpreted as Image but\n",
       "             * transferred with MIME type text/plain:\" errors on\n",
       "             * Chrome.  But how to set the MIME type?  It doesn't seem\n",
       "             * to be part of the websocket stream */\n",
       "            evt.data.type = \"image/png\";\n",
       "\n",
       "            /* Free the memory for the previous frames */\n",
       "            if (fig.imageObj.src) {\n",
       "                (window.URL || window.webkitURL).revokeObjectURL(\n",
       "                    fig.imageObj.src);\n",
       "            }\n",
       "\n",
       "            fig.imageObj.src = (window.URL || window.webkitURL).createObjectURL(\n",
       "                evt.data);\n",
       "            fig.updated_canvas_event();\n",
       "            fig.waiting = false;\n",
       "            return;\n",
       "        }\n",
       "        else if (typeof evt.data === 'string' && evt.data.slice(0, 21) == \"data:image/png;base64\") {\n",
       "            fig.imageObj.src = evt.data;\n",
       "            fig.updated_canvas_event();\n",
       "            fig.waiting = false;\n",
       "            return;\n",
       "        }\n",
       "\n",
       "        var msg = JSON.parse(evt.data);\n",
       "        var msg_type = msg['type'];\n",
       "\n",
       "        // Call the  \"handle_{type}\" callback, which takes\n",
       "        // the figure and JSON message as its only arguments.\n",
       "        try {\n",
       "            var callback = fig[\"handle_\" + msg_type];\n",
       "        } catch (e) {\n",
       "            console.log(\"No handler for the '\" + msg_type + \"' message type: \", msg);\n",
       "            return;\n",
       "        }\n",
       "\n",
       "        if (callback) {\n",
       "            try {\n",
       "                // console.log(\"Handling '\" + msg_type + \"' message: \", msg);\n",
       "                callback(fig, msg);\n",
       "            } catch (e) {\n",
       "                console.log(\"Exception inside the 'handler_\" + msg_type + \"' callback:\", e, e.stack, msg);\n",
       "            }\n",
       "        }\n",
       "    };\n",
       "}\n",
       "\n",
       "// from http://stackoverflow.com/questions/1114465/getting-mouse-location-in-canvas\n",
       "mpl.findpos = function(e) {\n",
       "    //this section is from http://www.quirksmode.org/js/events_properties.html\n",
       "    var targ;\n",
       "    if (!e)\n",
       "        e = window.event;\n",
       "    if (e.target)\n",
       "        targ = e.target;\n",
       "    else if (e.srcElement)\n",
       "        targ = e.srcElement;\n",
       "    if (targ.nodeType == 3) // defeat Safari bug\n",
       "        targ = targ.parentNode;\n",
       "\n",
       "    // jQuery normalizes the pageX and pageY\n",
       "    // pageX,Y are the mouse positions relative to the document\n",
       "    // offset() returns the position of the element relative to the document\n",
       "    var x = e.pageX - $(targ).offset().left;\n",
       "    var y = e.pageY - $(targ).offset().top;\n",
       "\n",
       "    return {\"x\": x, \"y\": y};\n",
       "};\n",
       "\n",
       "/*\n",
       " * return a copy of an object with only non-object keys\n",
       " * we need this to avoid circular references\n",
       " * http://stackoverflow.com/a/24161582/3208463\n",
       " */\n",
       "function simpleKeys (original) {\n",
       "  return Object.keys(original).reduce(function (obj, key) {\n",
       "    if (typeof original[key] !== 'object')\n",
       "        obj[key] = original[key]\n",
       "    return obj;\n",
       "  }, {});\n",
       "}\n",
       "\n",
       "mpl.figure.prototype.mouse_event = function(event, name) {\n",
       "    var canvas_pos = mpl.findpos(event)\n",
       "\n",
       "    if (name === 'button_press')\n",
       "    {\n",
       "        this.canvas.focus();\n",
       "        this.canvas_div.focus();\n",
       "    }\n",
       "\n",
       "    var x = canvas_pos.x * mpl.ratio;\n",
       "    var y = canvas_pos.y * mpl.ratio;\n",
       "\n",
       "    this.send_message(name, {x: x, y: y, button: event.button,\n",
       "                             step: event.step,\n",
       "                             guiEvent: simpleKeys(event)});\n",
       "\n",
       "    /* This prevents the web browser from automatically changing to\n",
       "     * the text insertion cursor when the button is pressed.  We want\n",
       "     * to control all of the cursor setting manually through the\n",
       "     * 'cursor' event from matplotlib */\n",
       "    event.preventDefault();\n",
       "    return false;\n",
       "}\n",
       "\n",
       "mpl.figure.prototype._key_event_extra = function(event, name) {\n",
       "    // Handle any extra behaviour associated with a key event\n",
       "}\n",
       "\n",
       "mpl.figure.prototype.key_event = function(event, name) {\n",
       "\n",
       "    // Prevent repeat events\n",
       "    if (name == 'key_press')\n",
       "    {\n",
       "        if (event.which === this._key)\n",
       "            return;\n",
       "        else\n",
       "            this._key = event.which;\n",
       "    }\n",
       "    if (name == 'key_release')\n",
       "        this._key = null;\n",
       "\n",
       "    var value = '';\n",
       "    if (event.ctrlKey && event.which != 17)\n",
       "        value += \"ctrl+\";\n",
       "    if (event.altKey && event.which != 18)\n",
       "        value += \"alt+\";\n",
       "    if (event.shiftKey && event.which != 16)\n",
       "        value += \"shift+\";\n",
       "\n",
       "    value += 'k';\n",
       "    value += event.which.toString();\n",
       "\n",
       "    this._key_event_extra(event, name);\n",
       "\n",
       "    this.send_message(name, {key: value,\n",
       "                             guiEvent: simpleKeys(event)});\n",
       "    return false;\n",
       "}\n",
       "\n",
       "mpl.figure.prototype.toolbar_button_onclick = function(name) {\n",
       "    if (name == 'download') {\n",
       "        this.handle_save(this, null);\n",
       "    } else {\n",
       "        this.send_message(\"toolbar_button\", {name: name});\n",
       "    }\n",
       "};\n",
       "\n",
       "mpl.figure.prototype.toolbar_button_onmouseover = function(tooltip) {\n",
       "    this.message.textContent = tooltip;\n",
       "};\n",
       "mpl.toolbar_items = [[\"Home\", \"Reset original view\", \"fa fa-home icon-home\", \"home\"], [\"Back\", \"Back to previous view\", \"fa fa-arrow-left icon-arrow-left\", \"back\"], [\"Forward\", \"Forward to next view\", \"fa fa-arrow-right icon-arrow-right\", \"forward\"], [\"\", \"\", \"\", \"\"], [\"Pan\", \"Pan axes with left mouse, zoom with right\", \"fa fa-arrows icon-move\", \"pan\"], [\"Zoom\", \"Zoom to rectangle\", \"fa fa-square-o icon-check-empty\", \"zoom\"], [\"\", \"\", \"\", \"\"], [\"Download\", \"Download plot\", \"fa fa-floppy-o icon-save\", \"download\"]];\n",
       "\n",
       "mpl.extensions = [\"eps\", \"jpeg\", \"pdf\", \"png\", \"ps\", \"raw\", \"svg\", \"tif\"];\n",
       "\n",
       "mpl.default_extension = \"png\";var comm_websocket_adapter = function(comm) {\n",
       "    // Create a \"websocket\"-like object which calls the given IPython comm\n",
       "    // object with the appropriate methods. Currently this is a non binary\n",
       "    // socket, so there is still some room for performance tuning.\n",
       "    var ws = {};\n",
       "\n",
       "    ws.close = function() {\n",
       "        comm.close()\n",
       "    };\n",
       "    ws.send = function(m) {\n",
       "        //console.log('sending', m);\n",
       "        comm.send(m);\n",
       "    };\n",
       "    // Register the callback with on_msg.\n",
       "    comm.on_msg(function(msg) {\n",
       "        //console.log('receiving', msg['content']['data'], msg);\n",
       "        // Pass the mpl event to the overridden (by mpl) onmessage function.\n",
       "        ws.onmessage(msg['content']['data'])\n",
       "    });\n",
       "    return ws;\n",
       "}\n",
       "\n",
       "mpl.mpl_figure_comm = function(comm, msg) {\n",
       "    // This is the function which gets called when the mpl process\n",
       "    // starts-up an IPython Comm through the \"matplotlib\" channel.\n",
       "\n",
       "    var id = msg.content.data.id;\n",
       "    // Get hold of the div created by the display call when the Comm\n",
       "    // socket was opened in Python.\n",
       "    var element = $(\"#\" + id);\n",
       "    var ws_proxy = comm_websocket_adapter(comm)\n",
       "\n",
       "    function ondownload(figure, format) {\n",
       "        window.open(figure.imageObj.src);\n",
       "    }\n",
       "\n",
       "    var fig = new mpl.figure(id, ws_proxy,\n",
       "                           ondownload,\n",
       "                           element.get(0));\n",
       "\n",
       "    // Call onopen now - mpl needs it, as it is assuming we've passed it a real\n",
       "    // web socket which is closed, not our websocket->open comm proxy.\n",
       "    ws_proxy.onopen();\n",
       "\n",
       "    fig.parent_element = element.get(0);\n",
       "    fig.cell_info = mpl.find_output_cell(\"<div id='\" + id + \"'></div>\");\n",
       "    if (!fig.cell_info) {\n",
       "        console.error(\"Failed to find cell for figure\", id, fig);\n",
       "        return;\n",
       "    }\n",
       "\n",
       "    var output_index = fig.cell_info[2]\n",
       "    var cell = fig.cell_info[0];\n",
       "\n",
       "};\n",
       "\n",
       "mpl.figure.prototype.handle_close = function(fig, msg) {\n",
       "    var width = fig.canvas.width/mpl.ratio\n",
       "    fig.root.unbind('remove')\n",
       "\n",
       "    // Update the output cell to use the data from the current canvas.\n",
       "    fig.push_to_output();\n",
       "    var dataURL = fig.canvas.toDataURL();\n",
       "    // Re-enable the keyboard manager in IPython - without this line, in FF,\n",
       "    // the notebook keyboard shortcuts fail.\n",
       "    IPython.keyboard_manager.enable()\n",
       "    $(fig.parent_element).html('<img src=\"' + dataURL + '\" width=\"' + width + '\">');\n",
       "    fig.close_ws(fig, msg);\n",
       "}\n",
       "\n",
       "mpl.figure.prototype.close_ws = function(fig, msg){\n",
       "    fig.send_message('closing', msg);\n",
       "    // fig.ws.close()\n",
       "}\n",
       "\n",
       "mpl.figure.prototype.push_to_output = function(remove_interactive) {\n",
       "    // Turn the data on the canvas into data in the output cell.\n",
       "    var width = this.canvas.width/mpl.ratio\n",
       "    var dataURL = this.canvas.toDataURL();\n",
       "    this.cell_info[1]['text/html'] = '<img src=\"' + dataURL + '\" width=\"' + width + '\">';\n",
       "}\n",
       "\n",
       "mpl.figure.prototype.updated_canvas_event = function() {\n",
       "    // Tell IPython that the notebook contents must change.\n",
       "    IPython.notebook.set_dirty(true);\n",
       "    this.send_message(\"ack\", {});\n",
       "    var fig = this;\n",
       "    // Wait a second, then push the new image to the DOM so\n",
       "    // that it is saved nicely (might be nice to debounce this).\n",
       "    setTimeout(function () { fig.push_to_output() }, 1000);\n",
       "}\n",
       "\n",
       "mpl.figure.prototype._init_toolbar = function() {\n",
       "    var fig = this;\n",
       "\n",
       "    var nav_element = $('<div/>');\n",
       "    nav_element.attr('style', 'width: 100%');\n",
       "    this.root.append(nav_element);\n",
       "\n",
       "    // Define a callback function for later on.\n",
       "    function toolbar_event(event) {\n",
       "        return fig.toolbar_button_onclick(event['data']);\n",
       "    }\n",
       "    function toolbar_mouse_event(event) {\n",
       "        return fig.toolbar_button_onmouseover(event['data']);\n",
       "    }\n",
       "\n",
       "    for(var toolbar_ind in mpl.toolbar_items){\n",
       "        var name = mpl.toolbar_items[toolbar_ind][0];\n",
       "        var tooltip = mpl.toolbar_items[toolbar_ind][1];\n",
       "        var image = mpl.toolbar_items[toolbar_ind][2];\n",
       "        var method_name = mpl.toolbar_items[toolbar_ind][3];\n",
       "\n",
       "        if (!name) { continue; };\n",
       "\n",
       "        var button = $('<button class=\"btn btn-default\" href=\"#\" title=\"' + name + '\"><i class=\"fa ' + image + ' fa-lg\"></i></button>');\n",
       "        button.click(method_name, toolbar_event);\n",
       "        button.mouseover(tooltip, toolbar_mouse_event);\n",
       "        nav_element.append(button);\n",
       "    }\n",
       "\n",
       "    // Add the status bar.\n",
       "    var status_bar = $('<span class=\"mpl-message\" style=\"text-align:right; float: right;\"/>');\n",
       "    nav_element.append(status_bar);\n",
       "    this.message = status_bar[0];\n",
       "\n",
       "    // Add the close button to the window.\n",
       "    var buttongrp = $('<div class=\"btn-group inline pull-right\"></div>');\n",
       "    var button = $('<button class=\"btn btn-mini btn-primary\" href=\"#\" title=\"Stop Interaction\"><i class=\"fa fa-power-off icon-remove icon-large\"></i></button>');\n",
       "    button.click(function (evt) { fig.handle_close(fig, {}); } );\n",
       "    button.mouseover('Stop Interaction', toolbar_mouse_event);\n",
       "    buttongrp.append(button);\n",
       "    var titlebar = this.root.find($('.ui-dialog-titlebar'));\n",
       "    titlebar.prepend(buttongrp);\n",
       "}\n",
       "\n",
       "mpl.figure.prototype._root_extra_style = function(el){\n",
       "    var fig = this\n",
       "    el.on(\"remove\", function(){\n",
       "\tfig.close_ws(fig, {});\n",
       "    });\n",
       "}\n",
       "\n",
       "mpl.figure.prototype._canvas_extra_style = function(el){\n",
       "    // this is important to make the div 'focusable\n",
       "    el.attr('tabindex', 0)\n",
       "    // reach out to IPython and tell the keyboard manager to turn it's self\n",
       "    // off when our div gets focus\n",
       "\n",
       "    // location in version 3\n",
       "    if (IPython.notebook.keyboard_manager) {\n",
       "        IPython.notebook.keyboard_manager.register_events(el);\n",
       "    }\n",
       "    else {\n",
       "        // location in version 2\n",
       "        IPython.keyboard_manager.register_events(el);\n",
       "    }\n",
       "\n",
       "}\n",
       "\n",
       "mpl.figure.prototype._key_event_extra = function(event, name) {\n",
       "    var manager = IPython.notebook.keyboard_manager;\n",
       "    if (!manager)\n",
       "        manager = IPython.keyboard_manager;\n",
       "\n",
       "    // Check for shift+enter\n",
       "    if (event.shiftKey && event.which == 13) {\n",
       "        this.canvas_div.blur();\n",
       "        // select the cell after this one\n",
       "        var index = IPython.notebook.find_cell_index(this.cell_info[0]);\n",
       "        IPython.notebook.select(index + 1);\n",
       "    }\n",
       "}\n",
       "\n",
       "mpl.figure.prototype.handle_save = function(fig, msg) {\n",
       "    fig.ondownload(fig, null);\n",
       "}\n",
       "\n",
       "\n",
       "mpl.find_output_cell = function(html_output) {\n",
       "    // Return the cell and output element which can be found *uniquely* in the notebook.\n",
       "    // Note - this is a bit hacky, but it is done because the \"notebook_saving.Notebook\"\n",
       "    // IPython event is triggered only after the cells have been serialised, which for\n",
       "    // our purposes (turning an active figure into a static one), is too late.\n",
       "    var cells = IPython.notebook.get_cells();\n",
       "    var ncells = cells.length;\n",
       "    for (var i=0; i<ncells; i++) {\n",
       "        var cell = cells[i];\n",
       "        if (cell.cell_type === 'code'){\n",
       "            for (var j=0; j<cell.output_area.outputs.length; j++) {\n",
       "                var data = cell.output_area.outputs[j];\n",
       "                if (data.data) {\n",
       "                    // IPython >= 3 moved mimebundle to data attribute of output\n",
       "                    data = data.data;\n",
       "                }\n",
       "                if (data['text/html'] == html_output) {\n",
       "                    return [cell, data, j];\n",
       "                }\n",
       "            }\n",
       "        }\n",
       "    }\n",
       "}\n",
       "\n",
       "// Register the function which deals with the matplotlib target/channel.\n",
       "// The kernel may be null if the page has been refreshed.\n",
       "if (IPython.notebook.kernel != null) {\n",
       "    IPython.notebook.kernel.comm_manager.register_target('matplotlib', mpl.mpl_figure_comm);\n",
       "}\n"
      ],
      "text/plain": [
       "<IPython.core.display.Javascript object>"
      ]
     },
     "metadata": {},
     "output_type": "display_data"
    },
    {
     "data": {
      "text/html": [
       "<img src=\"data:image/png;base64,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\" width=\"1000\">"
      ],
      "text/plain": [
       "<IPython.core.display.HTML object>"
      ]
     },
     "metadata": {},
     "output_type": "display_data"
    }
   ],
   "source": [
    "ax, tax, lax, lines = dual_train_plots()\n",
    "fig = ax.figure\n",
    "plt.tight_layout()\n",
    "# This gets built up during the run - do not rerun this cell\n",
    "results = pd.DataFrame([], columns=Results._fields)"
   ]
  },
  {
   "cell_type": "code",
   "execution_count": 12,
   "metadata": {
    "scrolled": false
   },
   "outputs": [
    {
     "name": "stdout",
     "output_type": "stream",
     "text": [
      "for model:  All_CNN6Layer_A(\n",
      "  (conv1): Conv1d(1, 20, kernel_size=(25,), stride=(1,), padding=(12,))\n",
      "  (conv2): Conv1d(20, 10, kernel_size=(15,), stride=(1,), padding=(7,))\n",
      "  (conv3): Conv1d(10, 10, kernel_size=(15,), stride=(1,), padding=(7,))\n",
      "  (conv4): Conv1d(10, 10, kernel_size=(15,), stride=(1,), padding=(7,))\n",
      "  (conv5): Conv1d(10, 1, kernel_size=(5,), stride=(1,), padding=(2,))\n",
      "  (finalFilter): Conv1d(1, 1, kernel_size=(91,), stride=(1,), padding=(45,))\n",
      "  (conv1dropout): Dropout(p=0.15, inplace=False)\n",
      "  (conv2dropout): Dropout(p=0.15, inplace=False)\n",
      "  (conv3dropout): Dropout(p=0.15, inplace=False)\n",
      "  (conv4dropout): Dropout(p=0.15, inplace=False)\n",
      "  (conv5dropout): Dropout(p=0.15, inplace=False)\n",
      ")\n",
      "epoch_start 118\n",
      "batch_size 128\n",
      "epochs 200\n",
      "lr 0.001\n",
      "Number of batches: train = 1250, val = 78\n"
     ]
    },
    {
     "name": "stderr",
     "output_type": "stream",
     "text": [
      "/home/michael24peters/pv-finder_experimental/notebooks/model/training.py:95: TqdmDeprecationWarning: This function will be removed in tqdm==5.0.0\n",
      "Please use `tqdm.notebook.tqdm` instead of `tqdm.tqdm_notebook`\n",
      "  file=sys.stderr,\n"
     ]
    },
    {
     "data": {
      "application/vnd.jupyter.widget-view+json": {
       "model_id": "39fc2eb35291422ba340da5faf222e3c",
       "version_major": 2,
       "version_minor": 0
      },
      "text/plain": [
       "HBox(children=(FloatProgress(value=0.0, description='Epochs', layout=Layout(flex='2'), max=200.0, style=Progre…"
      ]
     },
     "metadata": {},
     "output_type": "display_data"
    },
    {
     "data": {
      "application/vnd.jupyter.widget-view+json": {
       "model_id": "",
       "version_major": 2,
       "version_minor": 0
      },
      "text/plain": [
       "HBox(children=(FloatProgress(value=0.0, description='Training', layout=Layout(flex='2'), max=1250.0, style=Pro…"
      ]
     },
     "metadata": {},
     "output_type": "display_data"
    },
    {
     "name": "stdout",
     "output_type": "stream",
     "text": [
      "Epoch 118: train=1088.59, val=852.637, took 17.296 s\n",
      "  Validation Found 968 of 54504, added 85127 (eff 1.78%) (8.53 FP/event)\n"
     ]
    },
    {
     "data": {
      "application/vnd.jupyter.widget-view+json": {
       "model_id": "",
       "version_major": 2,
       "version_minor": 0
      },
      "text/plain": [
       "HBox(children=(FloatProgress(value=0.0, description='Training', layout=Layout(flex='2'), max=1250.0, style=Pro…"
      ]
     },
     "metadata": {},
     "output_type": "display_data"
    },
    {
     "name": "stdout",
     "output_type": "stream",
     "text": [
      "Epoch 119: train=629.181, val=448.489, took 17.187 s\n",
      "  Validation Found 201 of 54504, added 42574 (eff 0.37%) (4.26 FP/event)\n"
     ]
    },
    {
     "data": {
      "application/vnd.jupyter.widget-view+json": {
       "model_id": "",
       "version_major": 2,
       "version_minor": 0
      },
      "text/plain": [
       "HBox(children=(FloatProgress(value=0.0, description='Training', layout=Layout(flex='2'), max=1250.0, style=Pro…"
      ]
     },
     "metadata": {},
     "output_type": "display_data"
    },
    {
     "name": "stdout",
     "output_type": "stream",
     "text": [
      "Epoch 120: train=269.49, val=166.344, took 17.045 s\n",
      "  Validation Found 113 of 54504, added 33065 (eff 0.21%) (3.31 FP/event)\n"
     ]
    },
    {
     "data": {
      "application/vnd.jupyter.widget-view+json": {
       "model_id": "",
       "version_major": 2,
       "version_minor": 0
      },
      "text/plain": [
       "HBox(children=(FloatProgress(value=0.0, description='Training', layout=Layout(flex='2'), max=1250.0, style=Pro…"
      ]
     },
     "metadata": {},
     "output_type": "display_data"
    },
    {
     "name": "stdout",
     "output_type": "stream",
     "text": [
      "Epoch 121: train=106.499, val=91.3054, took 16.868 s\n",
      "  Validation Found 94 of 54504, added 28354 (eff 0.17%) (2.84 FP/event)\n"
     ]
    },
    {
     "data": {
      "application/vnd.jupyter.widget-view+json": {
       "model_id": "",
       "version_major": 2,
       "version_minor": 0
      },
      "text/plain": [
       "HBox(children=(FloatProgress(value=0.0, description='Training', layout=Layout(flex='2'), max=1250.0, style=Pro…"
      ]
     },
     "metadata": {},
     "output_type": "display_data"
    },
    {
     "name": "stdout",
     "output_type": "stream",
     "text": [
      "Epoch 122: train=70.2468, val=72.5532, took 16.738 s\n",
      "  Validation Found 81 of 54504, added 25289 (eff 0.15%) (2.53 FP/event)\n"
     ]
    },
    {
     "data": {
      "application/vnd.jupyter.widget-view+json": {
       "model_id": "",
       "version_major": 2,
       "version_minor": 0
      },
      "text/plain": [
       "HBox(children=(FloatProgress(value=0.0, description='Training', layout=Layout(flex='2'), max=1250.0, style=Pro…"
      ]
     },
     "metadata": {},
     "output_type": "display_data"
    },
    {
     "name": "stdout",
     "output_type": "stream",
     "text": [
      "Epoch 123: train=59.1984, val=63.827, took 16.601 s\n",
      "  Validation Found 68 of 54504, added 21001 (eff 0.12%) (2.1 FP/event)\n"
     ]
    },
    {
     "data": {
      "application/vnd.jupyter.widget-view+json": {
       "model_id": "",
       "version_major": 2,
       "version_minor": 0
      },
      "text/plain": [
       "HBox(children=(FloatProgress(value=0.0, description='Training', layout=Layout(flex='2'), max=1250.0, style=Pro…"
      ]
     },
     "metadata": {},
     "output_type": "display_data"
    },
    {
     "name": "stdout",
     "output_type": "stream",
     "text": [
      "Epoch 124: train=53.1285, val=57.728, took 16.827 s\n",
      "  Validation Found 58 of 54504, added 12446 (eff 0.11%) (1.25 FP/event)\n"
     ]
    },
    {
     "data": {
      "application/vnd.jupyter.widget-view+json": {
       "model_id": "",
       "version_major": 2,
       "version_minor": 0
      },
      "text/plain": [
       "HBox(children=(FloatProgress(value=0.0, description='Training', layout=Layout(flex='2'), max=1250.0, style=Pro…"
      ]
     },
     "metadata": {},
     "output_type": "display_data"
    },
    {
     "name": "stdout",
     "output_type": "stream",
     "text": [
      "Epoch 125: train=48.5642, val=52.8119, took 17.015 s\n",
      "  Validation Found 57 of 54504, added 4018 (eff 0.10%) (0.402 FP/event)\n"
     ]
    },
    {
     "data": {
      "application/vnd.jupyter.widget-view+json": {
       "model_id": "",
       "version_major": 2,
       "version_minor": 0
      },
      "text/plain": [
       "HBox(children=(FloatProgress(value=0.0, description='Training', layout=Layout(flex='2'), max=1250.0, style=Pro…"
      ]
     },
     "metadata": {},
     "output_type": "display_data"
    },
    {
     "name": "stdout",
     "output_type": "stream",
     "text": [
      "Epoch 126: train=45.0063, val=48.9843, took 17.039 s\n",
      "  Validation Found 81 of 54504, added 2451 (eff 0.15%) (0.245 FP/event)\n"
     ]
    },
    {
     "data": {
      "application/vnd.jupyter.widget-view+json": {
       "model_id": "",
       "version_major": 2,
       "version_minor": 0
      },
      "text/plain": [
       "HBox(children=(FloatProgress(value=0.0, description='Training', layout=Layout(flex='2'), max=1250.0, style=Pro…"
      ]
     },
     "metadata": {},
     "output_type": "display_data"
    },
    {
     "name": "stdout",
     "output_type": "stream",
     "text": [
      "Epoch 127: train=42.1999, val=45.8406, took 16.393 s\n",
      "  Validation Found 360 of 54504, added 1563 (eff 0.66%) (0.157 FP/event)\n"
     ]
    },
    {
     "data": {
      "application/vnd.jupyter.widget-view+json": {
       "model_id": "",
       "version_major": 2,
       "version_minor": 0
      },
      "text/plain": [
       "HBox(children=(FloatProgress(value=0.0, description='Training', layout=Layout(flex='2'), max=1250.0, style=Pro…"
      ]
     },
     "metadata": {},
     "output_type": "display_data"
    },
    {
     "name": "stdout",
     "output_type": "stream",
     "text": [
      "Epoch 128: train=35.311, val=21.1892, took 17.259 s\n",
      "  Validation Found 31912 of 54504, added 2699 (eff 58.55%) (0.27 FP/event)\n"
     ]
    },
    {
     "data": {
      "application/vnd.jupyter.widget-view+json": {
       "model_id": "",
       "version_major": 2,
       "version_minor": 0
      },
      "text/plain": [
       "HBox(children=(FloatProgress(value=0.0, description='Training', layout=Layout(flex='2'), max=1250.0, style=Pro…"
      ]
     },
     "metadata": {},
     "output_type": "display_data"
    },
    {
     "name": "stdout",
     "output_type": "stream",
     "text": [
      "Epoch 129: train=19.3528, val=15.7158, took 17.238 s\n",
      "  Validation Found 46293 of 54504, added 2798 (eff 84.94%) (0.28 FP/event)\n"
     ]
    },
    {
     "data": {
      "application/vnd.jupyter.widget-view+json": {
       "model_id": "",
       "version_major": 2,
       "version_minor": 0
      },
      "text/plain": [
       "HBox(children=(FloatProgress(value=0.0, description='Training', layout=Layout(flex='2'), max=1250.0, style=Pro…"
      ]
     },
     "metadata": {},
     "output_type": "display_data"
    },
    {
     "name": "stdout",
     "output_type": "stream",
     "text": [
      "Epoch 130: train=16.2677, val=14.7917, took 17.2 s\n",
      "  Validation Found 47230 of 54504, added 2761 (eff 86.65%) (0.277 FP/event)\n"
     ]
    },
    {
     "data": {
      "application/vnd.jupyter.widget-view+json": {
       "model_id": "",
       "version_major": 2,
       "version_minor": 0
      },
      "text/plain": [
       "HBox(children=(FloatProgress(value=0.0, description='Training', layout=Layout(flex='2'), max=1250.0, style=Pro…"
      ]
     },
     "metadata": {},
     "output_type": "display_data"
    },
    {
     "name": "stdout",
     "output_type": "stream",
     "text": [
      "Epoch 131: train=15.0411, val=14.1527, took 17.822 s\n",
      "  Validation Found 47852 of 54504, added 2715 (eff 87.80%) (0.272 FP/event)\n"
     ]
    },
    {
     "data": {
      "application/vnd.jupyter.widget-view+json": {
       "model_id": "",
       "version_major": 2,
       "version_minor": 0
      },
      "text/plain": [
       "HBox(children=(FloatProgress(value=0.0, description='Training', layout=Layout(flex='2'), max=1250.0, style=Pro…"
      ]
     },
     "metadata": {},
     "output_type": "display_data"
    },
    {
     "name": "stdout",
     "output_type": "stream",
     "text": [
      "Epoch 132: train=14.1117, val=13.4295, took 17.67 s\n",
      "  Validation Found 48442 of 54504, added 2620 (eff 88.88%) (0.262 FP/event)\n"
     ]
    },
    {
     "data": {
      "application/vnd.jupyter.widget-view+json": {
       "model_id": "",
       "version_major": 2,
       "version_minor": 0
      },
      "text/plain": [
       "HBox(children=(FloatProgress(value=0.0, description='Training', layout=Layout(flex='2'), max=1250.0, style=Pro…"
      ]
     },
     "metadata": {},
     "output_type": "display_data"
    },
    {
     "name": "stdout",
     "output_type": "stream",
     "text": [
      "Epoch 133: train=13.1205, val=12.4611, took 17.987 s\n",
      "  Validation Found 48990 of 54504, added 2452 (eff 89.88%) (0.246 FP/event)\n"
     ]
    },
    {
     "data": {
      "application/vnd.jupyter.widget-view+json": {
       "model_id": "",
       "version_major": 2,
       "version_minor": 0
      },
      "text/plain": [
       "HBox(children=(FloatProgress(value=0.0, description='Training', layout=Layout(flex='2'), max=1250.0, style=Pro…"
      ]
     },
     "metadata": {},
     "output_type": "display_data"
    },
    {
     "name": "stdout",
     "output_type": "stream",
     "text": [
      "Epoch 134: train=11.998, val=11.2619, took 18.327 s\n",
      "  Validation Found 49514 of 54504, added 2241 (eff 90.84%) (0.224 FP/event)\n"
     ]
    },
    {
     "data": {
      "application/vnd.jupyter.widget-view+json": {
       "model_id": "",
       "version_major": 2,
       "version_minor": 0
      },
      "text/plain": [
       "HBox(children=(FloatProgress(value=0.0, description='Training', layout=Layout(flex='2'), max=1250.0, style=Pro…"
      ]
     },
     "metadata": {},
     "output_type": "display_data"
    },
    {
     "name": "stdout",
     "output_type": "stream",
     "text": [
      "Epoch 135: train=10.8845, val=10.095, took 18.934 s\n",
      "  Validation Found 49939 of 54504, added 1990 (eff 91.62%) (0.199 FP/event)\n"
     ]
    },
    {
     "data": {
      "application/vnd.jupyter.widget-view+json": {
       "model_id": "",
       "version_major": 2,
       "version_minor": 0
      },
      "text/plain": [
       "HBox(children=(FloatProgress(value=0.0, description='Training', layout=Layout(flex='2'), max=1250.0, style=Pro…"
      ]
     },
     "metadata": {},
     "output_type": "display_data"
    },
    {
     "name": "stdout",
     "output_type": "stream",
     "text": [
      "Epoch 136: train=9.95963, val=9.26902, took 18.3 s\n",
      "  Validation Found 50274 of 54504, added 1706 (eff 92.24%) (0.171 FP/event)\n"
     ]
    },
    {
     "data": {
      "application/vnd.jupyter.widget-view+json": {
       "model_id": "",
       "version_major": 2,
       "version_minor": 0
      },
      "text/plain": [
       "HBox(children=(FloatProgress(value=0.0, description='Training', layout=Layout(flex='2'), max=1250.0, style=Pro…"
      ]
     },
     "metadata": {},
     "output_type": "display_data"
    },
    {
     "name": "stdout",
     "output_type": "stream",
     "text": [
      "Epoch 137: train=9.39742, val=8.90601, took 18.791 s\n",
      "  Validation Found 50259 of 54504, added 1416 (eff 92.21%) (0.142 FP/event)\n"
     ]
    },
    {
     "data": {
      "application/vnd.jupyter.widget-view+json": {
       "model_id": "",
       "version_major": 2,
       "version_minor": 0
      },
      "text/plain": [
       "HBox(children=(FloatProgress(value=0.0, description='Training', layout=Layout(flex='2'), max=1250.0, style=Pro…"
      ]
     },
     "metadata": {},
     "output_type": "display_data"
    },
    {
     "name": "stdout",
     "output_type": "stream",
     "text": [
      "Epoch 138: train=9.18971, val=8.83537, took 18.905 s\n",
      "  Validation Found 50083 of 54504, added 1260 (eff 91.89%) (0.126 FP/event)\n"
     ]
    },
    {
     "data": {
      "application/vnd.jupyter.widget-view+json": {
       "model_id": "",
       "version_major": 2,
       "version_minor": 0
      },
      "text/plain": [
       "HBox(children=(FloatProgress(value=0.0, description='Training', layout=Layout(flex='2'), max=1250.0, style=Pro…"
      ]
     },
     "metadata": {},
     "output_type": "display_data"
    },
    {
     "name": "stdout",
     "output_type": "stream",
     "text": [
      "Epoch 139: train=9.15173, val=8.82664, took 18.737 s\n",
      "  Validation Found 50025 of 54504, added 1212 (eff 91.78%) (0.121 FP/event)\n"
     ]
    },
    {
     "data": {
      "application/vnd.jupyter.widget-view+json": {
       "model_id": "",
       "version_major": 2,
       "version_minor": 0
      },
      "text/plain": [
       "HBox(children=(FloatProgress(value=0.0, description='Training', layout=Layout(flex='2'), max=1250.0, style=Pro…"
      ]
     },
     "metadata": {},
     "output_type": "display_data"
    },
    {
     "name": "stdout",
     "output_type": "stream",
     "text": [
      "Epoch 140: train=9.14768, val=8.83818, took 18.528 s\n",
      "  Validation Found 49991 of 54504, added 1191 (eff 91.72%) (0.119 FP/event)\n"
     ]
    },
    {
     "data": {
      "application/vnd.jupyter.widget-view+json": {
       "model_id": "",
       "version_major": 2,
       "version_minor": 0
      },
      "text/plain": [
       "HBox(children=(FloatProgress(value=0.0, description='Training', layout=Layout(flex='2'), max=1250.0, style=Pro…"
      ]
     },
     "metadata": {},
     "output_type": "display_data"
    },
    {
     "name": "stdout",
     "output_type": "stream",
     "text": [
      "Epoch 141: train=9.14873, val=8.83601, took 19.069 s\n",
      "  Validation Found 49995 of 54504, added 1195 (eff 91.73%) (0.12 FP/event)\n"
     ]
    },
    {
     "data": {
      "application/vnd.jupyter.widget-view+json": {
       "model_id": "",
       "version_major": 2,
       "version_minor": 0
      },
      "text/plain": [
       "HBox(children=(FloatProgress(value=0.0, description='Training', layout=Layout(flex='2'), max=1250.0, style=Pro…"
      ]
     },
     "metadata": {},
     "output_type": "display_data"
    },
    {
     "name": "stdout",
     "output_type": "stream",
     "text": [
      "Epoch 142: train=9.15016, val=8.83834, took 18.657 s\n",
      "  Validation Found 49980 of 54504, added 1187 (eff 91.70%) (0.119 FP/event)\n"
     ]
    },
    {
     "data": {
      "application/vnd.jupyter.widget-view+json": {
       "model_id": "",
       "version_major": 2,
       "version_minor": 0
      },
      "text/plain": [
       "HBox(children=(FloatProgress(value=0.0, description='Training', layout=Layout(flex='2'), max=1250.0, style=Pro…"
      ]
     },
     "metadata": {},
     "output_type": "display_data"
    },
    {
     "name": "stdout",
     "output_type": "stream",
     "text": [
      "Epoch 143: train=9.14643, val=8.8523, took 19.128 s\n",
      "  Validation Found 49955 of 54504, added 1178 (eff 91.65%) (0.118 FP/event)\n"
     ]
    },
    {
     "data": {
      "application/vnd.jupyter.widget-view+json": {
       "model_id": "",
       "version_major": 2,
       "version_minor": 0
      },
      "text/plain": [
       "HBox(children=(FloatProgress(value=0.0, description='Training', layout=Layout(flex='2'), max=1250.0, style=Pro…"
      ]
     },
     "metadata": {},
     "output_type": "display_data"
    },
    {
     "name": "stdout",
     "output_type": "stream",
     "text": [
      "Epoch 144: train=9.14538, val=8.82939, took 18.717 s\n",
      "  Validation Found 49999 of 54504, added 1193 (eff 91.73%) (0.119 FP/event)\n"
     ]
    },
    {
     "data": {
      "application/vnd.jupyter.widget-view+json": {
       "model_id": "",
       "version_major": 2,
       "version_minor": 0
      },
      "text/plain": [
       "HBox(children=(FloatProgress(value=0.0, description='Training', layout=Layout(flex='2'), max=1250.0, style=Pro…"
      ]
     },
     "metadata": {},
     "output_type": "display_data"
    },
    {
     "name": "stdout",
     "output_type": "stream",
     "text": [
      "Epoch 145: train=9.15023, val=8.82479, took 18.63 s\n",
      "  Validation Found 49979 of 54504, added 1187 (eff 91.70%) (0.119 FP/event)\n"
     ]
    },
    {
     "data": {
      "application/vnd.jupyter.widget-view+json": {
       "model_id": "",
       "version_major": 2,
       "version_minor": 0
      },
      "text/plain": [
       "HBox(children=(FloatProgress(value=0.0, description='Training', layout=Layout(flex='2'), max=1250.0, style=Pro…"
      ]
     },
     "metadata": {},
     "output_type": "display_data"
    },
    {
     "name": "stdout",
     "output_type": "stream",
     "text": [
      "Epoch 146: train=9.14825, val=8.83017, took 18.894 s\n",
      "  Validation Found 49984 of 54504, added 1185 (eff 91.71%) (0.119 FP/event)\n"
     ]
    },
    {
     "data": {
      "application/vnd.jupyter.widget-view+json": {
       "model_id": "",
       "version_major": 2,
       "version_minor": 0
      },
      "text/plain": [
       "HBox(children=(FloatProgress(value=0.0, description='Training', layout=Layout(flex='2'), max=1250.0, style=Pro…"
      ]
     },
     "metadata": {},
     "output_type": "display_data"
    },
    {
     "name": "stdout",
     "output_type": "stream",
     "text": [
      "Epoch 147: train=9.14855, val=8.83754, took 18.513 s\n",
      "  Validation Found 49971 of 54504, added 1180 (eff 91.68%) (0.118 FP/event)\n"
     ]
    },
    {
     "data": {
      "application/vnd.jupyter.widget-view+json": {
       "model_id": "",
       "version_major": 2,
       "version_minor": 0
      },
      "text/plain": [
       "HBox(children=(FloatProgress(value=0.0, description='Training', layout=Layout(flex='2'), max=1250.0, style=Pro…"
      ]
     },
     "metadata": {},
     "output_type": "display_data"
    },
    {
     "name": "stdout",
     "output_type": "stream",
     "text": [
      "Epoch 148: train=9.14561, val=8.83223, took 18.167 s\n",
      "  Validation Found 49998 of 54504, added 1195 (eff 91.73%) (0.12 FP/event)\n"
     ]
    },
    {
     "data": {
      "application/vnd.jupyter.widget-view+json": {
       "model_id": "",
       "version_major": 2,
       "version_minor": 0
      },
      "text/plain": [
       "HBox(children=(FloatProgress(value=0.0, description='Training', layout=Layout(flex='2'), max=1250.0, style=Pro…"
      ]
     },
     "metadata": {},
     "output_type": "display_data"
    },
    {
     "name": "stdout",
     "output_type": "stream",
     "text": [
      "Epoch 149: train=9.14893, val=8.82889, took 18.113 s\n",
      "  Validation Found 50000 of 54504, added 1198 (eff 91.74%) (0.12 FP/event)\n"
     ]
    },
    {
     "data": {
      "application/vnd.jupyter.widget-view+json": {
       "model_id": "",
       "version_major": 2,
       "version_minor": 0
      },
      "text/plain": [
       "HBox(children=(FloatProgress(value=0.0, description='Training', layout=Layout(flex='2'), max=1250.0, style=Pro…"
      ]
     },
     "metadata": {},
     "output_type": "display_data"
    },
    {
     "name": "stdout",
     "output_type": "stream",
     "text": [
      "Epoch 150: train=9.14846, val=8.83242, took 18.791 s\n",
      "  Validation Found 50000 of 54504, added 1196 (eff 91.74%) (0.12 FP/event)\n"
     ]
    },
    {
     "data": {
      "application/vnd.jupyter.widget-view+json": {
       "model_id": "",
       "version_major": 2,
       "version_minor": 0
      },
      "text/plain": [
       "HBox(children=(FloatProgress(value=0.0, description='Training', layout=Layout(flex='2'), max=1250.0, style=Pro…"
      ]
     },
     "metadata": {},
     "output_type": "display_data"
    },
    {
     "name": "stdout",
     "output_type": "stream",
     "text": [
      "Epoch 151: train=9.14717, val=8.82296, took 18.977 s\n",
      "  Validation Found 50014 of 54504, added 1207 (eff 91.76%) (0.121 FP/event)\n"
     ]
    },
    {
     "data": {
      "application/vnd.jupyter.widget-view+json": {
       "model_id": "",
       "version_major": 2,
       "version_minor": 0
      },
      "text/plain": [
       "HBox(children=(FloatProgress(value=0.0, description='Training', layout=Layout(flex='2'), max=1250.0, style=Pro…"
      ]
     },
     "metadata": {},
     "output_type": "display_data"
    },
    {
     "name": "stdout",
     "output_type": "stream",
     "text": [
      "Epoch 152: train=9.1479, val=8.83394, took 18.617 s\n",
      "  Validation Found 49982 of 54504, added 1182 (eff 91.70%) (0.118 FP/event)\n"
     ]
    },
    {
     "data": {
      "application/vnd.jupyter.widget-view+json": {
       "model_id": "",
       "version_major": 2,
       "version_minor": 0
      },
      "text/plain": [
       "HBox(children=(FloatProgress(value=0.0, description='Training', layout=Layout(flex='2'), max=1250.0, style=Pro…"
      ]
     },
     "metadata": {},
     "output_type": "display_data"
    },
    {
     "name": "stdout",
     "output_type": "stream",
     "text": [
      "Epoch 153: train=9.15072, val=8.84578, took 18.34 s\n",
      "  Validation Found 49960 of 54504, added 1181 (eff 91.66%) (0.118 FP/event)\n"
     ]
    },
    {
     "data": {
      "application/vnd.jupyter.widget-view+json": {
       "model_id": "",
       "version_major": 2,
       "version_minor": 0
      },
      "text/plain": [
       "HBox(children=(FloatProgress(value=0.0, description='Training', layout=Layout(flex='2'), max=1250.0, style=Pro…"
      ]
     },
     "metadata": {},
     "output_type": "display_data"
    },
    {
     "name": "stdout",
     "output_type": "stream",
     "text": [
      "Epoch 154: train=9.1514, val=8.82567, took 18.517 s\n",
      "  Validation Found 50011 of 54504, added 1204 (eff 91.76%) (0.121 FP/event)\n"
     ]
    },
    {
     "data": {
      "application/vnd.jupyter.widget-view+json": {
       "model_id": "",
       "version_major": 2,
       "version_minor": 0
      },
      "text/plain": [
       "HBox(children=(FloatProgress(value=0.0, description='Training', layout=Layout(flex='2'), max=1250.0, style=Pro…"
      ]
     },
     "metadata": {},
     "output_type": "display_data"
    },
    {
     "name": "stdout",
     "output_type": "stream",
     "text": [
      "Epoch 155: train=9.15188, val=8.83147, took 18.114 s\n",
      "  Validation Found 50021 of 54504, added 1201 (eff 91.77%) (0.12 FP/event)\n"
     ]
    },
    {
     "data": {
      "application/vnd.jupyter.widget-view+json": {
       "model_id": "",
       "version_major": 2,
       "version_minor": 0
      },
      "text/plain": [
       "HBox(children=(FloatProgress(value=0.0, description='Training', layout=Layout(flex='2'), max=1250.0, style=Pro…"
      ]
     },
     "metadata": {},
     "output_type": "display_data"
    },
    {
     "name": "stdout",
     "output_type": "stream",
     "text": [
      "Epoch 156: train=9.15126, val=8.84172, took 18.343 s\n",
      "  Validation Found 49989 of 54504, added 1194 (eff 91.72%) (0.12 FP/event)\n"
     ]
    },
    {
     "data": {
      "application/vnd.jupyter.widget-view+json": {
       "model_id": "",
       "version_major": 2,
       "version_minor": 0
      },
      "text/plain": [
       "HBox(children=(FloatProgress(value=0.0, description='Training', layout=Layout(flex='2'), max=1250.0, style=Pro…"
      ]
     },
     "metadata": {},
     "output_type": "display_data"
    },
    {
     "name": "stdout",
     "output_type": "stream",
     "text": [
      "Epoch 157: train=9.1519, val=8.82745, took 18.428 s\n",
      "  Validation Found 49986 of 54504, added 1188 (eff 91.71%) (0.119 FP/event)\n"
     ]
    },
    {
     "data": {
      "application/vnd.jupyter.widget-view+json": {
       "model_id": "",
       "version_major": 2,
       "version_minor": 0
      },
      "text/plain": [
       "HBox(children=(FloatProgress(value=0.0, description='Training', layout=Layout(flex='2'), max=1250.0, style=Pro…"
      ]
     },
     "metadata": {},
     "output_type": "display_data"
    },
    {
     "name": "stdout",
     "output_type": "stream",
     "text": [
      "Epoch 158: train=9.14936, val=8.84329, took 17.798 s\n",
      "  Validation Found 49999 of 54504, added 1192 (eff 91.73%) (0.119 FP/event)\n"
     ]
    },
    {
     "data": {
      "application/vnd.jupyter.widget-view+json": {
       "model_id": "",
       "version_major": 2,
       "version_minor": 0
      },
      "text/plain": [
       "HBox(children=(FloatProgress(value=0.0, description='Training', layout=Layout(flex='2'), max=1250.0, style=Pro…"
      ]
     },
     "metadata": {},
     "output_type": "display_data"
    },
    {
     "name": "stdout",
     "output_type": "stream",
     "text": [
      "Epoch 159: train=9.14957, val=8.83213, took 18.344 s\n",
      "  Validation Found 49993 of 54504, added 1191 (eff 91.72%) (0.119 FP/event)\n"
     ]
    },
    {
     "data": {
      "application/vnd.jupyter.widget-view+json": {
       "model_id": "",
       "version_major": 2,
       "version_minor": 0
      },
      "text/plain": [
       "HBox(children=(FloatProgress(value=0.0, description='Training', layout=Layout(flex='2'), max=1250.0, style=Pro…"
      ]
     },
     "metadata": {},
     "output_type": "display_data"
    },
    {
     "name": "stdout",
     "output_type": "stream",
     "text": [
      "Epoch 160: train=9.14757, val=8.82273, took 18.442 s\n",
      "  Validation Found 50000 of 54504, added 1197 (eff 91.74%) (0.12 FP/event)\n"
     ]
    },
    {
     "data": {
      "application/vnd.jupyter.widget-view+json": {
       "model_id": "",
       "version_major": 2,
       "version_minor": 0
      },
      "text/plain": [
       "HBox(children=(FloatProgress(value=0.0, description='Training', layout=Layout(flex='2'), max=1250.0, style=Pro…"
      ]
     },
     "metadata": {},
     "output_type": "display_data"
    },
    {
     "name": "stdout",
     "output_type": "stream",
     "text": [
      "Epoch 161: train=9.14944, val=8.83784, took 18.433 s\n",
      "  Validation Found 49999 of 54504, added 1195 (eff 91.73%) (0.12 FP/event)\n"
     ]
    },
    {
     "data": {
      "application/vnd.jupyter.widget-view+json": {
       "model_id": "",
       "version_major": 2,
       "version_minor": 0
      },
      "text/plain": [
       "HBox(children=(FloatProgress(value=0.0, description='Training', layout=Layout(flex='2'), max=1250.0, style=Pro…"
      ]
     },
     "metadata": {},
     "output_type": "display_data"
    },
    {
     "name": "stdout",
     "output_type": "stream",
     "text": [
      "Epoch 162: train=9.14621, val=8.83339, took 18.147 s\n",
      "  Validation Found 49976 of 54504, added 1185 (eff 91.69%) (0.119 FP/event)\n"
     ]
    },
    {
     "data": {
      "application/vnd.jupyter.widget-view+json": {
       "model_id": "",
       "version_major": 2,
       "version_minor": 0
      },
      "text/plain": [
       "HBox(children=(FloatProgress(value=0.0, description='Training', layout=Layout(flex='2'), max=1250.0, style=Pro…"
      ]
     },
     "metadata": {},
     "output_type": "display_data"
    },
    {
     "name": "stdout",
     "output_type": "stream",
     "text": [
      "Epoch 163: train=9.14886, val=8.84527, took 18.602 s\n",
      "  Validation Found 49975 of 54504, added 1184 (eff 91.69%) (0.119 FP/event)\n"
     ]
    },
    {
     "data": {
      "application/vnd.jupyter.widget-view+json": {
       "model_id": "",
       "version_major": 2,
       "version_minor": 0
      },
      "text/plain": [
       "HBox(children=(FloatProgress(value=0.0, description='Training', layout=Layout(flex='2'), max=1250.0, style=Pro…"
      ]
     },
     "metadata": {},
     "output_type": "display_data"
    },
    {
     "name": "stdout",
     "output_type": "stream",
     "text": [
      "Epoch 164: train=9.15248, val=8.83159, took 18.192 s\n",
      "  Validation Found 50001 of 54504, added 1196 (eff 91.74%) (0.12 FP/event)\n"
     ]
    },
    {
     "data": {
      "application/vnd.jupyter.widget-view+json": {
       "model_id": "",
       "version_major": 2,
       "version_minor": 0
      },
      "text/plain": [
       "HBox(children=(FloatProgress(value=0.0, description='Training', layout=Layout(flex='2'), max=1250.0, style=Pro…"
      ]
     },
     "metadata": {},
     "output_type": "display_data"
    },
    {
     "name": "stdout",
     "output_type": "stream",
     "text": [
      "Epoch 165: train=9.14935, val=8.83092, took 18.54 s\n",
      "  Validation Found 49978 of 54504, added 1186 (eff 91.70%) (0.119 FP/event)\n"
     ]
    },
    {
     "data": {
      "application/vnd.jupyter.widget-view+json": {
       "model_id": "",
       "version_major": 2,
       "version_minor": 0
      },
      "text/plain": [
       "HBox(children=(FloatProgress(value=0.0, description='Training', layout=Layout(flex='2'), max=1250.0, style=Pro…"
      ]
     },
     "metadata": {},
     "output_type": "display_data"
    },
    {
     "name": "stdout",
     "output_type": "stream",
     "text": [
      "Epoch 166: train=9.14962, val=8.83123, took 18.988 s\n",
      "  Validation Found 49987 of 54504, added 1191 (eff 91.71%) (0.119 FP/event)\n"
     ]
    },
    {
     "data": {
      "application/vnd.jupyter.widget-view+json": {
       "model_id": "",
       "version_major": 2,
       "version_minor": 0
      },
      "text/plain": [
       "HBox(children=(FloatProgress(value=0.0, description='Training', layout=Layout(flex='2'), max=1250.0, style=Pro…"
      ]
     },
     "metadata": {},
     "output_type": "display_data"
    },
    {
     "name": "stdout",
     "output_type": "stream",
     "text": [
      "Epoch 167: train=9.14892, val=8.83923, took 18.304 s\n",
      "  Validation Found 49986 of 54504, added 1195 (eff 91.71%) (0.12 FP/event)\n"
     ]
    },
    {
     "data": {
      "application/vnd.jupyter.widget-view+json": {
       "model_id": "",
       "version_major": 2,
       "version_minor": 0
      },
      "text/plain": [
       "HBox(children=(FloatProgress(value=0.0, description='Training', layout=Layout(flex='2'), max=1250.0, style=Pro…"
      ]
     },
     "metadata": {},
     "output_type": "display_data"
    },
    {
     "name": "stdout",
     "output_type": "stream",
     "text": [
      "Epoch 168: train=9.15072, val=8.82322, took 18.598 s\n",
      "  Validation Found 50020 of 54504, added 1208 (eff 91.77%) (0.121 FP/event)\n"
     ]
    },
    {
     "data": {
      "application/vnd.jupyter.widget-view+json": {
       "model_id": "",
       "version_major": 2,
       "version_minor": 0
      },
      "text/plain": [
       "HBox(children=(FloatProgress(value=0.0, description='Training', layout=Layout(flex='2'), max=1250.0, style=Pro…"
      ]
     },
     "metadata": {},
     "output_type": "display_data"
    },
    {
     "name": "stdout",
     "output_type": "stream",
     "text": [
      "Epoch 169: train=9.14947, val=8.83017, took 18.428 s\n",
      "  Validation Found 49992 of 54504, added 1195 (eff 91.72%) (0.12 FP/event)\n"
     ]
    },
    {
     "data": {
      "application/vnd.jupyter.widget-view+json": {
       "model_id": "",
       "version_major": 2,
       "version_minor": 0
      },
      "text/plain": [
       "HBox(children=(FloatProgress(value=0.0, description='Training', layout=Layout(flex='2'), max=1250.0, style=Pro…"
      ]
     },
     "metadata": {},
     "output_type": "display_data"
    },
    {
     "name": "stdout",
     "output_type": "stream",
     "text": [
      "Epoch 170: train=9.14599, val=8.83499, took 18.143 s\n",
      "  Validation Found 50002 of 54504, added 1197 (eff 91.74%) (0.12 FP/event)\n"
     ]
    },
    {
     "data": {
      "application/vnd.jupyter.widget-view+json": {
       "model_id": "",
       "version_major": 2,
       "version_minor": 0
      },
      "text/plain": [
       "HBox(children=(FloatProgress(value=0.0, description='Training', layout=Layout(flex='2'), max=1250.0, style=Pro…"
      ]
     },
     "metadata": {},
     "output_type": "display_data"
    },
    {
     "name": "stdout",
     "output_type": "stream",
     "text": [
      "Epoch 171: train=9.15151, val=8.83695, took 18.032 s\n",
      "  Validation Found 49999 of 54504, added 1201 (eff 91.73%) (0.12 FP/event)\n"
     ]
    },
    {
     "data": {
      "application/vnd.jupyter.widget-view+json": {
       "model_id": "",
       "version_major": 2,
       "version_minor": 0
      },
      "text/plain": [
       "HBox(children=(FloatProgress(value=0.0, description='Training', layout=Layout(flex='2'), max=1250.0, style=Pro…"
      ]
     },
     "metadata": {},
     "output_type": "display_data"
    },
    {
     "name": "stdout",
     "output_type": "stream",
     "text": [
      "Epoch 172: train=9.14501, val=8.83737, took 18.113 s\n",
      "  Validation Found 49979 of 54504, added 1182 (eff 91.70%) (0.118 FP/event)\n"
     ]
    },
    {
     "data": {
      "application/vnd.jupyter.widget-view+json": {
       "model_id": "",
       "version_major": 2,
       "version_minor": 0
      },
      "text/plain": [
       "HBox(children=(FloatProgress(value=0.0, description='Training', layout=Layout(flex='2'), max=1250.0, style=Pro…"
      ]
     },
     "metadata": {},
     "output_type": "display_data"
    },
    {
     "name": "stdout",
     "output_type": "stream",
     "text": [
      "Epoch 173: train=9.14457, val=8.82479, took 18.675 s\n",
      "  Validation Found 50011 of 54504, added 1208 (eff 91.76%) (0.121 FP/event)\n"
     ]
    },
    {
     "data": {
      "application/vnd.jupyter.widget-view+json": {
       "model_id": "",
       "version_major": 2,
       "version_minor": 0
      },
      "text/plain": [
       "HBox(children=(FloatProgress(value=0.0, description='Training', layout=Layout(flex='2'), max=1250.0, style=Pro…"
      ]
     },
     "metadata": {},
     "output_type": "display_data"
    },
    {
     "name": "stdout",
     "output_type": "stream",
     "text": [
      "Epoch 174: train=9.14086, val=8.82543, took 18.431 s\n",
      "  Validation Found 49984 of 54504, added 1185 (eff 91.71%) (0.119 FP/event)\n"
     ]
    },
    {
     "data": {
      "application/vnd.jupyter.widget-view+json": {
       "model_id": "",
       "version_major": 2,
       "version_minor": 0
      },
      "text/plain": [
       "HBox(children=(FloatProgress(value=0.0, description='Training', layout=Layout(flex='2'), max=1250.0, style=Pro…"
      ]
     },
     "metadata": {},
     "output_type": "display_data"
    },
    {
     "name": "stdout",
     "output_type": "stream",
     "text": [
      "Epoch 175: train=9.14486, val=8.83121, took 18.611 s\n",
      "  Validation Found 50001 of 54504, added 1198 (eff 91.74%) (0.12 FP/event)\n"
     ]
    },
    {
     "data": {
      "application/vnd.jupyter.widget-view+json": {
       "model_id": "",
       "version_major": 2,
       "version_minor": 0
      },
      "text/plain": [
       "HBox(children=(FloatProgress(value=0.0, description='Training', layout=Layout(flex='2'), max=1250.0, style=Pro…"
      ]
     },
     "metadata": {},
     "output_type": "display_data"
    },
    {
     "name": "stdout",
     "output_type": "stream",
     "text": [
      "Epoch 176: train=9.15238, val=8.82915, took 18.785 s\n",
      "  Validation Found 49989 of 54504, added 1193 (eff 91.72%) (0.119 FP/event)\n"
     ]
    },
    {
     "data": {
      "application/vnd.jupyter.widget-view+json": {
       "model_id": "",
       "version_major": 2,
       "version_minor": 0
      },
      "text/plain": [
       "HBox(children=(FloatProgress(value=0.0, description='Training', layout=Layout(flex='2'), max=1250.0, style=Pro…"
      ]
     },
     "metadata": {},
     "output_type": "display_data"
    },
    {
     "name": "stdout",
     "output_type": "stream",
     "text": [
      "Epoch 177: train=9.1463, val=8.84572, took 18.57 s\n",
      "  Validation Found 49976 of 54504, added 1185 (eff 91.69%) (0.119 FP/event)\n"
     ]
    },
    {
     "data": {
      "application/vnd.jupyter.widget-view+json": {
       "model_id": "",
       "version_major": 2,
       "version_minor": 0
      },
      "text/plain": [
       "HBox(children=(FloatProgress(value=0.0, description='Training', layout=Layout(flex='2'), max=1250.0, style=Pro…"
      ]
     },
     "metadata": {},
     "output_type": "display_data"
    },
    {
     "name": "stdout",
     "output_type": "stream",
     "text": [
      "Epoch 178: train=9.15052, val=8.83224, took 18.394 s\n",
      "  Validation Found 49980 of 54504, added 1189 (eff 91.70%) (0.119 FP/event)\n"
     ]
    },
    {
     "data": {
      "application/vnd.jupyter.widget-view+json": {
       "model_id": "",
       "version_major": 2,
       "version_minor": 0
      },
      "text/plain": [
       "HBox(children=(FloatProgress(value=0.0, description='Training', layout=Layout(flex='2'), max=1250.0, style=Pro…"
      ]
     },
     "metadata": {},
     "output_type": "display_data"
    },
    {
     "name": "stdout",
     "output_type": "stream",
     "text": [
      "Epoch 179: train=9.14802, val=8.82446, took 18.718 s\n",
      "  Validation Found 50014 of 54504, added 1198 (eff 91.76%) (0.12 FP/event)\n"
     ]
    },
    {
     "data": {
      "application/vnd.jupyter.widget-view+json": {
       "model_id": "",
       "version_major": 2,
       "version_minor": 0
      },
      "text/plain": [
       "HBox(children=(FloatProgress(value=0.0, description='Training', layout=Layout(flex='2'), max=1250.0, style=Pro…"
      ]
     },
     "metadata": {},
     "output_type": "display_data"
    },
    {
     "name": "stdout",
     "output_type": "stream",
     "text": [
      "Epoch 180: train=9.14947, val=8.83675, took 18.323 s\n",
      "  Validation Found 50000 of 54504, added 1197 (eff 91.74%) (0.12 FP/event)\n"
     ]
    },
    {
     "data": {
      "application/vnd.jupyter.widget-view+json": {
       "model_id": "",
       "version_major": 2,
       "version_minor": 0
      },
      "text/plain": [
       "HBox(children=(FloatProgress(value=0.0, description='Training', layout=Layout(flex='2'), max=1250.0, style=Pro…"
      ]
     },
     "metadata": {},
     "output_type": "display_data"
    },
    {
     "name": "stdout",
     "output_type": "stream",
     "text": [
      "Epoch 181: train=9.14891, val=8.83084, took 18.776 s\n",
      "  Validation Found 49995 of 54504, added 1193 (eff 91.73%) (0.119 FP/event)\n"
     ]
    },
    {
     "data": {
      "application/vnd.jupyter.widget-view+json": {
       "model_id": "",
       "version_major": 2,
       "version_minor": 0
      },
      "text/plain": [
       "HBox(children=(FloatProgress(value=0.0, description='Training', layout=Layout(flex='2'), max=1250.0, style=Pro…"
      ]
     },
     "metadata": {},
     "output_type": "display_data"
    },
    {
     "name": "stdout",
     "output_type": "stream",
     "text": [
      "Epoch 182: train=9.1488, val=8.83388, took 18.048 s\n",
      "  Validation Found 49999 of 54504, added 1198 (eff 91.73%) (0.12 FP/event)\n"
     ]
    },
    {
     "data": {
      "application/vnd.jupyter.widget-view+json": {
       "model_id": "",
       "version_major": 2,
       "version_minor": 0
      },
      "text/plain": [
       "HBox(children=(FloatProgress(value=0.0, description='Training', layout=Layout(flex='2'), max=1250.0, style=Pro…"
      ]
     },
     "metadata": {},
     "output_type": "display_data"
    },
    {
     "name": "stdout",
     "output_type": "stream",
     "text": [
      "Epoch 183: train=9.14706, val=8.84123, took 18.579 s\n",
      "  Validation Found 49979 of 54504, added 1187 (eff 91.70%) (0.119 FP/event)\n"
     ]
    },
    {
     "data": {
      "application/vnd.jupyter.widget-view+json": {
       "model_id": "",
       "version_major": 2,
       "version_minor": 0
      },
      "text/plain": [
       "HBox(children=(FloatProgress(value=0.0, description='Training', layout=Layout(flex='2'), max=1250.0, style=Pro…"
      ]
     },
     "metadata": {},
     "output_type": "display_data"
    },
    {
     "name": "stdout",
     "output_type": "stream",
     "text": [
      "Epoch 184: train=9.14467, val=8.83028, took 18.654 s\n",
      "  Validation Found 50034 of 54504, added 1214 (eff 91.80%) (0.122 FP/event)\n"
     ]
    },
    {
     "data": {
      "application/vnd.jupyter.widget-view+json": {
       "model_id": "",
       "version_major": 2,
       "version_minor": 0
      },
      "text/plain": [
       "HBox(children=(FloatProgress(value=0.0, description='Training', layout=Layout(flex='2'), max=1250.0, style=Pro…"
      ]
     },
     "metadata": {},
     "output_type": "display_data"
    },
    {
     "name": "stdout",
     "output_type": "stream",
     "text": [
      "Epoch 185: train=9.14829, val=8.83411, took 18.109 s\n",
      "  Validation Found 49998 of 54504, added 1197 (eff 91.73%) (0.12 FP/event)\n"
     ]
    },
    {
     "data": {
      "application/vnd.jupyter.widget-view+json": {
       "model_id": "",
       "version_major": 2,
       "version_minor": 0
      },
      "text/plain": [
       "HBox(children=(FloatProgress(value=0.0, description='Training', layout=Layout(flex='2'), max=1250.0, style=Pro…"
      ]
     },
     "metadata": {},
     "output_type": "display_data"
    },
    {
     "name": "stdout",
     "output_type": "stream",
     "text": [
      "Epoch 186: train=9.15014, val=8.82493, took 17.861 s\n",
      "  Validation Found 50004 of 54504, added 1199 (eff 91.74%) (0.12 FP/event)\n"
     ]
    },
    {
     "data": {
      "application/vnd.jupyter.widget-view+json": {
       "model_id": "",
       "version_major": 2,
       "version_minor": 0
      },
      "text/plain": [
       "HBox(children=(FloatProgress(value=0.0, description='Training', layout=Layout(flex='2'), max=1250.0, style=Pro…"
      ]
     },
     "metadata": {},
     "output_type": "display_data"
    },
    {
     "name": "stdout",
     "output_type": "stream",
     "text": [
      "Epoch 187: train=9.14879, val=8.83724, took 18.324 s\n",
      "  Validation Found 49992 of 54504, added 1191 (eff 91.72%) (0.119 FP/event)\n"
     ]
    },
    {
     "data": {
      "application/vnd.jupyter.widget-view+json": {
       "model_id": "",
       "version_major": 2,
       "version_minor": 0
      },
      "text/plain": [
       "HBox(children=(FloatProgress(value=0.0, description='Training', layout=Layout(flex='2'), max=1250.0, style=Pro…"
      ]
     },
     "metadata": {},
     "output_type": "display_data"
    },
    {
     "name": "stdout",
     "output_type": "stream",
     "text": [
      "Epoch 188: train=9.14779, val=8.82304, took 18.959 s\n",
      "  Validation Found 50008 of 54504, added 1198 (eff 91.75%) (0.12 FP/event)\n"
     ]
    },
    {
     "data": {
      "application/vnd.jupyter.widget-view+json": {
       "model_id": "",
       "version_major": 2,
       "version_minor": 0
      },
      "text/plain": [
       "HBox(children=(FloatProgress(value=0.0, description='Training', layout=Layout(flex='2'), max=1250.0, style=Pro…"
      ]
     },
     "metadata": {},
     "output_type": "display_data"
    },
    {
     "name": "stdout",
     "output_type": "stream",
     "text": [
      "Epoch 189: train=9.14952, val=8.83028, took 17.954 s\n",
      "  Validation Found 49986 of 54504, added 1189 (eff 91.71%) (0.119 FP/event)\n"
     ]
    },
    {
     "data": {
      "application/vnd.jupyter.widget-view+json": {
       "model_id": "",
       "version_major": 2,
       "version_minor": 0
      },
      "text/plain": [
       "HBox(children=(FloatProgress(value=0.0, description='Training', layout=Layout(flex='2'), max=1250.0, style=Pro…"
      ]
     },
     "metadata": {},
     "output_type": "display_data"
    },
    {
     "name": "stdout",
     "output_type": "stream",
     "text": [
      "Epoch 190: train=9.14749, val=8.82713, took 18.104 s\n",
      "  Validation Found 49996 of 54504, added 1198 (eff 91.73%) (0.12 FP/event)\n"
     ]
    },
    {
     "data": {
      "application/vnd.jupyter.widget-view+json": {
       "model_id": "",
       "version_major": 2,
       "version_minor": 0
      },
      "text/plain": [
       "HBox(children=(FloatProgress(value=0.0, description='Training', layout=Layout(flex='2'), max=1250.0, style=Pro…"
      ]
     },
     "metadata": {},
     "output_type": "display_data"
    },
    {
     "name": "stdout",
     "output_type": "stream",
     "text": [
      "Epoch 191: train=9.14637, val=8.846, took 18.881 s\n",
      "  Validation Found 49980 of 54504, added 1188 (eff 91.70%) (0.119 FP/event)\n"
     ]
    },
    {
     "data": {
      "application/vnd.jupyter.widget-view+json": {
       "model_id": "",
       "version_major": 2,
       "version_minor": 0
      },
      "text/plain": [
       "HBox(children=(FloatProgress(value=0.0, description='Training', layout=Layout(flex='2'), max=1250.0, style=Pro…"
      ]
     },
     "metadata": {},
     "output_type": "display_data"
    },
    {
     "name": "stdout",
     "output_type": "stream",
     "text": [
      "Epoch 192: train=9.14928, val=8.82422, took 18.517 s\n",
      "  Validation Found 50008 of 54504, added 1201 (eff 91.75%) (0.12 FP/event)\n"
     ]
    },
    {
     "data": {
      "application/vnd.jupyter.widget-view+json": {
       "model_id": "",
       "version_major": 2,
       "version_minor": 0
      },
      "text/plain": [
       "HBox(children=(FloatProgress(value=0.0, description='Training', layout=Layout(flex='2'), max=1250.0, style=Pro…"
      ]
     },
     "metadata": {},
     "output_type": "display_data"
    },
    {
     "name": "stdout",
     "output_type": "stream",
     "text": [
      "Epoch 193: train=9.1483, val=8.82231, took 18.191 s\n",
      "  Validation Found 50002 of 54504, added 1202 (eff 91.74%) (0.12 FP/event)\n"
     ]
    },
    {
     "data": {
      "application/vnd.jupyter.widget-view+json": {
       "model_id": "",
       "version_major": 2,
       "version_minor": 0
      },
      "text/plain": [
       "HBox(children=(FloatProgress(value=0.0, description='Training', layout=Layout(flex='2'), max=1250.0, style=Pro…"
      ]
     },
     "metadata": {},
     "output_type": "display_data"
    },
    {
     "name": "stdout",
     "output_type": "stream",
     "text": [
      "Epoch 194: train=9.14975, val=8.83008, took 17.841 s\n",
      "  Validation Found 50012 of 54504, added 1200 (eff 91.76%) (0.12 FP/event)\n"
     ]
    },
    {
     "data": {
      "application/vnd.jupyter.widget-view+json": {
       "model_id": "",
       "version_major": 2,
       "version_minor": 0
      },
      "text/plain": [
       "HBox(children=(FloatProgress(value=0.0, description='Training', layout=Layout(flex='2'), max=1250.0, style=Pro…"
      ]
     },
     "metadata": {},
     "output_type": "display_data"
    },
    {
     "name": "stdout",
     "output_type": "stream",
     "text": [
      "Epoch 195: train=9.14739, val=8.82751, took 18.571 s\n",
      "  Validation Found 50018 of 54504, added 1206 (eff 91.77%) (0.121 FP/event)\n"
     ]
    },
    {
     "data": {
      "application/vnd.jupyter.widget-view+json": {
       "model_id": "",
       "version_major": 2,
       "version_minor": 0
      },
      "text/plain": [
       "HBox(children=(FloatProgress(value=0.0, description='Training', layout=Layout(flex='2'), max=1250.0, style=Pro…"
      ]
     },
     "metadata": {},
     "output_type": "display_data"
    },
    {
     "name": "stdout",
     "output_type": "stream",
     "text": [
      "Epoch 196: train=9.14955, val=8.83399, took 18.302 s\n",
      "  Validation Found 49988 of 54504, added 1189 (eff 91.71%) (0.119 FP/event)\n"
     ]
    },
    {
     "data": {
      "application/vnd.jupyter.widget-view+json": {
       "model_id": "",
       "version_major": 2,
       "version_minor": 0
      },
      "text/plain": [
       "HBox(children=(FloatProgress(value=0.0, description='Training', layout=Layout(flex='2'), max=1250.0, style=Pro…"
      ]
     },
     "metadata": {},
     "output_type": "display_data"
    },
    {
     "name": "stdout",
     "output_type": "stream",
     "text": [
      "Epoch 197: train=9.15275, val=8.8376, took 18.412 s\n",
      "  Validation Found 49981 of 54504, added 1185 (eff 91.70%) (0.119 FP/event)\n"
     ]
    },
    {
     "data": {
      "application/vnd.jupyter.widget-view+json": {
       "model_id": "",
       "version_major": 2,
       "version_minor": 0
      },
      "text/plain": [
       "HBox(children=(FloatProgress(value=0.0, description='Training', layout=Layout(flex='2'), max=1250.0, style=Pro…"
      ]
     },
     "metadata": {},
     "output_type": "display_data"
    },
    {
     "name": "stdout",
     "output_type": "stream",
     "text": [
      "Epoch 198: train=9.14569, val=8.83835, took 18.762 s\n",
      "  Validation Found 49969 of 54504, added 1182 (eff 91.68%) (0.118 FP/event)\n"
     ]
    },
    {
     "data": {
      "application/vnd.jupyter.widget-view+json": {
       "model_id": "",
       "version_major": 2,
       "version_minor": 0
      },
      "text/plain": [
       "HBox(children=(FloatProgress(value=0.0, description='Training', layout=Layout(flex='2'), max=1250.0, style=Pro…"
      ]
     },
     "metadata": {},
     "output_type": "display_data"
    },
    {
     "name": "stdout",
     "output_type": "stream",
     "text": [
      "Epoch 199: train=9.15233, val=8.84277, took 18.477 s\n",
      "  Validation Found 49974 of 54504, added 1186 (eff 91.69%) (0.119 FP/event)\n"
     ]
    },
    {
     "data": {
      "application/vnd.jupyter.widget-view+json": {
       "model_id": "",
       "version_major": 2,
       "version_minor": 0
      },
      "text/plain": [
       "HBox(children=(FloatProgress(value=0.0, description='Training', layout=Layout(flex='2'), max=1250.0, style=Pro…"
      ]
     },
     "metadata": {},
     "output_type": "display_data"
    },
    {
     "name": "stdout",
     "output_type": "stream",
     "text": [
      "Epoch 200: train=9.146, val=8.83107, took 18.262 s\n",
      "  Validation Found 49998 of 54504, added 1195 (eff 91.73%) (0.12 FP/event)\n"
     ]
    },
    {
     "data": {
      "application/vnd.jupyter.widget-view+json": {
       "model_id": "",
       "version_major": 2,
       "version_minor": 0
      },
      "text/plain": [
       "HBox(children=(FloatProgress(value=0.0, description='Training', layout=Layout(flex='2'), max=1250.0, style=Pro…"
      ]
     },
     "metadata": {},
     "output_type": "display_data"
    },
    {
     "name": "stdout",
     "output_type": "stream",
     "text": [
      "Epoch 201: train=9.14311, val=8.83, took 18.529 s\n",
      "  Validation Found 49977 of 54504, added 1186 (eff 91.69%) (0.119 FP/event)\n"
     ]
    },
    {
     "data": {
      "application/vnd.jupyter.widget-view+json": {
       "model_id": "",
       "version_major": 2,
       "version_minor": 0
      },
      "text/plain": [
       "HBox(children=(FloatProgress(value=0.0, description='Training', layout=Layout(flex='2'), max=1250.0, style=Pro…"
      ]
     },
     "metadata": {},
     "output_type": "display_data"
    },
    {
     "name": "stdout",
     "output_type": "stream",
     "text": [
      "Epoch 202: train=9.14964, val=8.83216, took 18.729 s\n",
      "  Validation Found 49987 of 54504, added 1188 (eff 91.71%) (0.119 FP/event)\n"
     ]
    },
    {
     "data": {
      "application/vnd.jupyter.widget-view+json": {
       "model_id": "",
       "version_major": 2,
       "version_minor": 0
      },
      "text/plain": [
       "HBox(children=(FloatProgress(value=0.0, description='Training', layout=Layout(flex='2'), max=1250.0, style=Pro…"
      ]
     },
     "metadata": {},
     "output_type": "display_data"
    },
    {
     "name": "stdout",
     "output_type": "stream",
     "text": [
      "Epoch 203: train=9.14885, val=8.82933, took 18.728 s\n",
      "  Validation Found 49997 of 54504, added 1197 (eff 91.73%) (0.12 FP/event)\n"
     ]
    },
    {
     "data": {
      "application/vnd.jupyter.widget-view+json": {
       "model_id": "",
       "version_major": 2,
       "version_minor": 0
      },
      "text/plain": [
       "HBox(children=(FloatProgress(value=0.0, description='Training', layout=Layout(flex='2'), max=1250.0, style=Pro…"
      ]
     },
     "metadata": {},
     "output_type": "display_data"
    },
    {
     "name": "stdout",
     "output_type": "stream",
     "text": [
      "Epoch 204: train=9.14925, val=8.83373, took 18.715 s\n",
      "  Validation Found 49988 of 54504, added 1187 (eff 91.71%) (0.119 FP/event)\n"
     ]
    },
    {
     "data": {
      "application/vnd.jupyter.widget-view+json": {
       "model_id": "",
       "version_major": 2,
       "version_minor": 0
      },
      "text/plain": [
       "HBox(children=(FloatProgress(value=0.0, description='Training', layout=Layout(flex='2'), max=1250.0, style=Pro…"
      ]
     },
     "metadata": {},
     "output_type": "display_data"
    },
    {
     "name": "stdout",
     "output_type": "stream",
     "text": [
      "Epoch 205: train=9.1506, val=8.84273, took 19.031 s\n",
      "  Validation Found 50002 of 54504, added 1193 (eff 91.74%) (0.119 FP/event)\n"
     ]
    },
    {
     "data": {
      "application/vnd.jupyter.widget-view+json": {
       "model_id": "",
       "version_major": 2,
       "version_minor": 0
      },
      "text/plain": [
       "HBox(children=(FloatProgress(value=0.0, description='Training', layout=Layout(flex='2'), max=1250.0, style=Pro…"
      ]
     },
     "metadata": {},
     "output_type": "display_data"
    },
    {
     "name": "stdout",
     "output_type": "stream",
     "text": [
      "Epoch 206: train=9.14987, val=8.83809, took 18.85 s\n",
      "  Validation Found 50000 of 54504, added 1194 (eff 91.74%) (0.12 FP/event)\n"
     ]
    },
    {
     "data": {
      "application/vnd.jupyter.widget-view+json": {
       "model_id": "",
       "version_major": 2,
       "version_minor": 0
      },
      "text/plain": [
       "HBox(children=(FloatProgress(value=0.0, description='Training', layout=Layout(flex='2'), max=1250.0, style=Pro…"
      ]
     },
     "metadata": {},
     "output_type": "display_data"
    },
    {
     "name": "stdout",
     "output_type": "stream",
     "text": [
      "Epoch 207: train=9.1488, val=8.83612, took 18.82 s\n",
      "  Validation Found 50005 of 54504, added 1205 (eff 91.75%) (0.121 FP/event)\n"
     ]
    },
    {
     "data": {
      "application/vnd.jupyter.widget-view+json": {
       "model_id": "",
       "version_major": 2,
       "version_minor": 0
      },
      "text/plain": [
       "HBox(children=(FloatProgress(value=0.0, description='Training', layout=Layout(flex='2'), max=1250.0, style=Pro…"
      ]
     },
     "metadata": {},
     "output_type": "display_data"
    },
    {
     "name": "stdout",
     "output_type": "stream",
     "text": [
      "Epoch 208: train=9.14766, val=8.84072, took 18.542 s\n",
      "  Validation Found 49988 of 54504, added 1190 (eff 91.71%) (0.119 FP/event)\n"
     ]
    },
    {
     "data": {
      "application/vnd.jupyter.widget-view+json": {
       "model_id": "",
       "version_major": 2,
       "version_minor": 0
      },
      "text/plain": [
       "HBox(children=(FloatProgress(value=0.0, description='Training', layout=Layout(flex='2'), max=1250.0, style=Pro…"
      ]
     },
     "metadata": {},
     "output_type": "display_data"
    },
    {
     "name": "stdout",
     "output_type": "stream",
     "text": [
      "Epoch 209: train=9.14602, val=8.83023, took 18.602 s\n",
      "  Validation Found 49987 of 54504, added 1187 (eff 91.71%) (0.119 FP/event)\n"
     ]
    },
    {
     "data": {
      "application/vnd.jupyter.widget-view+json": {
       "model_id": "",
       "version_major": 2,
       "version_minor": 0
      },
      "text/plain": [
       "HBox(children=(FloatProgress(value=0.0, description='Training', layout=Layout(flex='2'), max=1250.0, style=Pro…"
      ]
     },
     "metadata": {},
     "output_type": "display_data"
    },
    {
     "name": "stdout",
     "output_type": "stream",
     "text": [
      "Epoch 210: train=9.14957, val=8.82219, took 18.813 s\n",
      "  Validation Found 50010 of 54504, added 1206 (eff 91.75%) (0.121 FP/event)\n"
     ]
    },
    {
     "data": {
      "application/vnd.jupyter.widget-view+json": {
       "model_id": "",
       "version_major": 2,
       "version_minor": 0
      },
      "text/plain": [
       "HBox(children=(FloatProgress(value=0.0, description='Training', layout=Layout(flex='2'), max=1250.0, style=Pro…"
      ]
     },
     "metadata": {},
     "output_type": "display_data"
    },
    {
     "name": "stdout",
     "output_type": "stream",
     "text": [
      "Epoch 211: train=9.15191, val=8.83312, took 18.654 s\n",
      "  Validation Found 49984 of 54504, added 1190 (eff 91.71%) (0.119 FP/event)\n"
     ]
    },
    {
     "data": {
      "application/vnd.jupyter.widget-view+json": {
       "model_id": "",
       "version_major": 2,
       "version_minor": 0
      },
      "text/plain": [
       "HBox(children=(FloatProgress(value=0.0, description='Training', layout=Layout(flex='2'), max=1250.0, style=Pro…"
      ]
     },
     "metadata": {},
     "output_type": "display_data"
    },
    {
     "name": "stdout",
     "output_type": "stream",
     "text": [
      "Epoch 212: train=9.14789, val=8.82938, took 18.538 s\n",
      "  Validation Found 49996 of 54504, added 1195 (eff 91.73%) (0.12 FP/event)\n"
     ]
    },
    {
     "data": {
      "application/vnd.jupyter.widget-view+json": {
       "model_id": "",
       "version_major": 2,
       "version_minor": 0
      },
      "text/plain": [
       "HBox(children=(FloatProgress(value=0.0, description='Training', layout=Layout(flex='2'), max=1250.0, style=Pro…"
      ]
     },
     "metadata": {},
     "output_type": "display_data"
    },
    {
     "name": "stdout",
     "output_type": "stream",
     "text": [
      "Epoch 213: train=9.15095, val=8.82437, took 19.159 s\n",
      "  Validation Found 49978 of 54504, added 1188 (eff 91.70%) (0.119 FP/event)\n"
     ]
    },
    {
     "data": {
      "application/vnd.jupyter.widget-view+json": {
       "model_id": "",
       "version_major": 2,
       "version_minor": 0
      },
      "text/plain": [
       "HBox(children=(FloatProgress(value=0.0, description='Training', layout=Layout(flex='2'), max=1250.0, style=Pro…"
      ]
     },
     "metadata": {},
     "output_type": "display_data"
    },
    {
     "name": "stdout",
     "output_type": "stream",
     "text": [
      "Epoch 214: train=9.14633, val=8.82814, took 18.505 s\n",
      "  Validation Found 49989 of 54504, added 1187 (eff 91.72%) (0.119 FP/event)\n"
     ]
    },
    {
     "data": {
      "application/vnd.jupyter.widget-view+json": {
       "model_id": "",
       "version_major": 2,
       "version_minor": 0
      },
      "text/plain": [
       "HBox(children=(FloatProgress(value=0.0, description='Training', layout=Layout(flex='2'), max=1250.0, style=Pro…"
      ]
     },
     "metadata": {},
     "output_type": "display_data"
    },
    {
     "name": "stdout",
     "output_type": "stream",
     "text": [
      "Epoch 215: train=9.14868, val=8.83151, took 18.592 s\n",
      "  Validation Found 50003 of 54504, added 1199 (eff 91.74%) (0.12 FP/event)\n"
     ]
    },
    {
     "data": {
      "application/vnd.jupyter.widget-view+json": {
       "model_id": "",
       "version_major": 2,
       "version_minor": 0
      },
      "text/plain": [
       "HBox(children=(FloatProgress(value=0.0, description='Training', layout=Layout(flex='2'), max=1250.0, style=Pro…"
      ]
     },
     "metadata": {},
     "output_type": "display_data"
    },
    {
     "name": "stdout",
     "output_type": "stream",
     "text": [
      "Epoch 216: train=9.14758, val=8.83527, took 18.072 s\n",
      "  Validation Found 49980 of 54504, added 1186 (eff 91.70%) (0.119 FP/event)\n"
     ]
    },
    {
     "data": {
      "application/vnd.jupyter.widget-view+json": {
       "model_id": "",
       "version_major": 2,
       "version_minor": 0
      },
      "text/plain": [
       "HBox(children=(FloatProgress(value=0.0, description='Training', layout=Layout(flex='2'), max=1250.0, style=Pro…"
      ]
     },
     "metadata": {},
     "output_type": "display_data"
    },
    {
     "name": "stdout",
     "output_type": "stream",
     "text": [
      "Epoch 217: train=9.14783, val=8.83672, took 18.218 s\n",
      "  Validation Found 49978 of 54504, added 1188 (eff 91.70%) (0.119 FP/event)\n"
     ]
    },
    {
     "data": {
      "application/vnd.jupyter.widget-view+json": {
       "model_id": "",
       "version_major": 2,
       "version_minor": 0
      },
      "text/plain": [
       "HBox(children=(FloatProgress(value=0.0, description='Training', layout=Layout(flex='2'), max=1250.0, style=Pro…"
      ]
     },
     "metadata": {},
     "output_type": "display_data"
    },
    {
     "name": "stdout",
     "output_type": "stream",
     "text": [
      "Epoch 218: train=9.15158, val=8.82838, took 18.232 s\n",
      "  Validation Found 49987 of 54504, added 1190 (eff 91.71%) (0.119 FP/event)\n"
     ]
    },
    {
     "data": {
      "application/vnd.jupyter.widget-view+json": {
       "model_id": "",
       "version_major": 2,
       "version_minor": 0
      },
      "text/plain": [
       "HBox(children=(FloatProgress(value=0.0, description='Training', layout=Layout(flex='2'), max=1250.0, style=Pro…"
      ]
     },
     "metadata": {},
     "output_type": "display_data"
    },
    {
     "name": "stdout",
     "output_type": "stream",
     "text": [
      "Epoch 219: train=9.14944, val=8.82802, took 18.501 s\n",
      "  Validation Found 50001 of 54504, added 1205 (eff 91.74%) (0.121 FP/event)\n"
     ]
    },
    {
     "data": {
      "application/vnd.jupyter.widget-view+json": {
       "model_id": "",
       "version_major": 2,
       "version_minor": 0
      },
      "text/plain": [
       "HBox(children=(FloatProgress(value=0.0, description='Training', layout=Layout(flex='2'), max=1250.0, style=Pro…"
      ]
     },
     "metadata": {},
     "output_type": "display_data"
    },
    {
     "name": "stdout",
     "output_type": "stream",
     "text": [
      "Epoch 220: train=9.15058, val=8.83644, took 18.484 s\n",
      "  Validation Found 49986 of 54504, added 1189 (eff 91.71%) (0.119 FP/event)\n"
     ]
    },
    {
     "data": {
      "application/vnd.jupyter.widget-view+json": {
       "model_id": "",
       "version_major": 2,
       "version_minor": 0
      },
      "text/plain": [
       "HBox(children=(FloatProgress(value=0.0, description='Training', layout=Layout(flex='2'), max=1250.0, style=Pro…"
      ]
     },
     "metadata": {},
     "output_type": "display_data"
    },
    {
     "name": "stdout",
     "output_type": "stream",
     "text": [
      "Epoch 221: train=9.14779, val=8.83313, took 18.043 s\n",
      "  Validation Found 49981 of 54504, added 1189 (eff 91.70%) (0.119 FP/event)\n"
     ]
    },
    {
     "data": {
      "application/vnd.jupyter.widget-view+json": {
       "model_id": "",
       "version_major": 2,
       "version_minor": 0
      },
      "text/plain": [
       "HBox(children=(FloatProgress(value=0.0, description='Training', layout=Layout(flex='2'), max=1250.0, style=Pro…"
      ]
     },
     "metadata": {},
     "output_type": "display_data"
    },
    {
     "name": "stdout",
     "output_type": "stream",
     "text": [
      "Epoch 222: train=9.14577, val=8.82458, took 18.54 s\n",
      "  Validation Found 49997 of 54504, added 1200 (eff 91.73%) (0.12 FP/event)\n"
     ]
    },
    {
     "data": {
      "application/vnd.jupyter.widget-view+json": {
       "model_id": "",
       "version_major": 2,
       "version_minor": 0
      },
      "text/plain": [
       "HBox(children=(FloatProgress(value=0.0, description='Training', layout=Layout(flex='2'), max=1250.0, style=Pro…"
      ]
     },
     "metadata": {},
     "output_type": "display_data"
    },
    {
     "name": "stdout",
     "output_type": "stream",
     "text": [
      "Epoch 223: train=9.14775, val=8.82226, took 18.466 s\n",
      "  Validation Found 50016 of 54504, added 1208 (eff 91.77%) (0.121 FP/event)\n"
     ]
    },
    {
     "data": {
      "application/vnd.jupyter.widget-view+json": {
       "model_id": "",
       "version_major": 2,
       "version_minor": 0
      },
      "text/plain": [
       "HBox(children=(FloatProgress(value=0.0, description='Training', layout=Layout(flex='2'), max=1250.0, style=Pro…"
      ]
     },
     "metadata": {},
     "output_type": "display_data"
    },
    {
     "name": "stdout",
     "output_type": "stream",
     "text": [
      "Epoch 224: train=9.15026, val=8.82807, took 17.948 s\n",
      "  Validation Found 50006 of 54504, added 1201 (eff 91.75%) (0.12 FP/event)\n"
     ]
    },
    {
     "data": {
      "application/vnd.jupyter.widget-view+json": {
       "model_id": "",
       "version_major": 2,
       "version_minor": 0
      },
      "text/plain": [
       "HBox(children=(FloatProgress(value=0.0, description='Training', layout=Layout(flex='2'), max=1250.0, style=Pro…"
      ]
     },
     "metadata": {},
     "output_type": "display_data"
    },
    {
     "name": "stdout",
     "output_type": "stream",
     "text": [
      "Epoch 225: train=9.14674, val=8.83004, took 18.114 s\n",
      "  Validation Found 49994 of 54504, added 1197 (eff 91.73%) (0.12 FP/event)\n"
     ]
    },
    {
     "data": {
      "application/vnd.jupyter.widget-view+json": {
       "model_id": "",
       "version_major": 2,
       "version_minor": 0
      },
      "text/plain": [
       "HBox(children=(FloatProgress(value=0.0, description='Training', layout=Layout(flex='2'), max=1250.0, style=Pro…"
      ]
     },
     "metadata": {},
     "output_type": "display_data"
    },
    {
     "name": "stdout",
     "output_type": "stream",
     "text": [
      "Epoch 226: train=9.15093, val=8.83473, took 18.71 s\n",
      "  Validation Found 49988 of 54504, added 1191 (eff 91.71%) (0.119 FP/event)\n"
     ]
    },
    {
     "data": {
      "application/vnd.jupyter.widget-view+json": {
       "model_id": "",
       "version_major": 2,
       "version_minor": 0
      },
      "text/plain": [
       "HBox(children=(FloatProgress(value=0.0, description='Training', layout=Layout(flex='2'), max=1250.0, style=Pro…"
      ]
     },
     "metadata": {},
     "output_type": "display_data"
    },
    {
     "name": "stdout",
     "output_type": "stream",
     "text": [
      "Epoch 227: train=9.14719, val=8.82669, took 18.149 s\n",
      "  Validation Found 50003 of 54504, added 1198 (eff 91.74%) (0.12 FP/event)\n"
     ]
    },
    {
     "data": {
      "application/vnd.jupyter.widget-view+json": {
       "model_id": "",
       "version_major": 2,
       "version_minor": 0
      },
      "text/plain": [
       "HBox(children=(FloatProgress(value=0.0, description='Training', layout=Layout(flex='2'), max=1250.0, style=Pro…"
      ]
     },
     "metadata": {},
     "output_type": "display_data"
    },
    {
     "name": "stdout",
     "output_type": "stream",
     "text": [
      "Epoch 228: train=9.1512, val=8.83301, took 18.021 s\n",
      "  Validation Found 49995 of 54504, added 1196 (eff 91.73%) (0.12 FP/event)\n"
     ]
    },
    {
     "data": {
      "application/vnd.jupyter.widget-view+json": {
       "model_id": "",
       "version_major": 2,
       "version_minor": 0
      },
      "text/plain": [
       "HBox(children=(FloatProgress(value=0.0, description='Training', layout=Layout(flex='2'), max=1250.0, style=Pro…"
      ]
     },
     "metadata": {},
     "output_type": "display_data"
    },
    {
     "name": "stdout",
     "output_type": "stream",
     "text": [
      "Epoch 229: train=9.15279, val=8.83245, took 18.052 s\n",
      "  Validation Found 49999 of 54504, added 1196 (eff 91.73%) (0.12 FP/event)\n"
     ]
    },
    {
     "data": {
      "application/vnd.jupyter.widget-view+json": {
       "model_id": "",
       "version_major": 2,
       "version_minor": 0
      },
      "text/plain": [
       "HBox(children=(FloatProgress(value=0.0, description='Training', layout=Layout(flex='2'), max=1250.0, style=Pro…"
      ]
     },
     "metadata": {},
     "output_type": "display_data"
    },
    {
     "name": "stdout",
     "output_type": "stream",
     "text": [
      "Epoch 230: train=9.14626, val=8.82979, took 18.093 s\n",
      "  Validation Found 49983 of 54504, added 1184 (eff 91.71%) (0.119 FP/event)\n"
     ]
    },
    {
     "data": {
      "application/vnd.jupyter.widget-view+json": {
       "model_id": "",
       "version_major": 2,
       "version_minor": 0
      },
      "text/plain": [
       "HBox(children=(FloatProgress(value=0.0, description='Training', layout=Layout(flex='2'), max=1250.0, style=Pro…"
      ]
     },
     "metadata": {},
     "output_type": "display_data"
    },
    {
     "name": "stdout",
     "output_type": "stream",
     "text": [
      "Epoch 231: train=9.14273, val=8.82331, took 18.07 s\n",
      "  Validation Found 50000 of 54504, added 1198 (eff 91.74%) (0.12 FP/event)\n"
     ]
    },
    {
     "data": {
      "application/vnd.jupyter.widget-view+json": {
       "model_id": "",
       "version_major": 2,
       "version_minor": 0
      },
      "text/plain": [
       "HBox(children=(FloatProgress(value=0.0, description='Training', layout=Layout(flex='2'), max=1250.0, style=Pro…"
      ]
     },
     "metadata": {},
     "output_type": "display_data"
    },
    {
     "name": "stdout",
     "output_type": "stream",
     "text": [
      "Epoch 232: train=9.14785, val=8.84584, took 18.196 s\n",
      "  Validation Found 49978 of 54504, added 1185 (eff 91.70%) (0.119 FP/event)\n"
     ]
    },
    {
     "data": {
      "application/vnd.jupyter.widget-view+json": {
       "model_id": "",
       "version_major": 2,
       "version_minor": 0
      },
      "text/plain": [
       "HBox(children=(FloatProgress(value=0.0, description='Training', layout=Layout(flex='2'), max=1250.0, style=Pro…"
      ]
     },
     "metadata": {},
     "output_type": "display_data"
    },
    {
     "name": "stdout",
     "output_type": "stream",
     "text": [
      "Epoch 233: train=9.15, val=8.84189, took 18.755 s\n",
      "  Validation Found 49983 of 54504, added 1189 (eff 91.71%) (0.119 FP/event)\n"
     ]
    },
    {
     "data": {
      "application/vnd.jupyter.widget-view+json": {
       "model_id": "",
       "version_major": 2,
       "version_minor": 0
      },
      "text/plain": [
       "HBox(children=(FloatProgress(value=0.0, description='Training', layout=Layout(flex='2'), max=1250.0, style=Pro…"
      ]
     },
     "metadata": {},
     "output_type": "display_data"
    },
    {
     "name": "stdout",
     "output_type": "stream",
     "text": [
      "Epoch 234: train=9.14894, val=8.83032, took 18.577 s\n",
      "  Validation Found 49999 of 54504, added 1199 (eff 91.73%) (0.12 FP/event)\n"
     ]
    },
    {
     "data": {
      "application/vnd.jupyter.widget-view+json": {
       "model_id": "",
       "version_major": 2,
       "version_minor": 0
      },
      "text/plain": [
       "HBox(children=(FloatProgress(value=0.0, description='Training', layout=Layout(flex='2'), max=1250.0, style=Pro…"
      ]
     },
     "metadata": {},
     "output_type": "display_data"
    },
    {
     "name": "stdout",
     "output_type": "stream",
     "text": [
      "Epoch 235: train=9.14916, val=8.8233, took 18.733 s\n",
      "  Validation Found 49997 of 54504, added 1198 (eff 91.73%) (0.12 FP/event)\n"
     ]
    },
    {
     "data": {
      "application/vnd.jupyter.widget-view+json": {
       "model_id": "",
       "version_major": 2,
       "version_minor": 0
      },
      "text/plain": [
       "HBox(children=(FloatProgress(value=0.0, description='Training', layout=Layout(flex='2'), max=1250.0, style=Pro…"
      ]
     },
     "metadata": {},
     "output_type": "display_data"
    },
    {
     "name": "stdout",
     "output_type": "stream",
     "text": [
      "Epoch 236: train=9.14848, val=8.82799, took 17.923 s\n",
      "  Validation Found 50018 of 54504, added 1208 (eff 91.77%) (0.121 FP/event)\n"
     ]
    },
    {
     "data": {
      "application/vnd.jupyter.widget-view+json": {
       "model_id": "",
       "version_major": 2,
       "version_minor": 0
      },
      "text/plain": [
       "HBox(children=(FloatProgress(value=0.0, description='Training', layout=Layout(flex='2'), max=1250.0, style=Pro…"
      ]
     },
     "metadata": {},
     "output_type": "display_data"
    },
    {
     "name": "stdout",
     "output_type": "stream",
     "text": [
      "Epoch 237: train=9.15071, val=8.83668, took 18.625 s\n",
      "  Validation Found 49981 of 54504, added 1188 (eff 91.70%) (0.119 FP/event)\n"
     ]
    },
    {
     "data": {
      "application/vnd.jupyter.widget-view+json": {
       "model_id": "",
       "version_major": 2,
       "version_minor": 0
      },
      "text/plain": [
       "HBox(children=(FloatProgress(value=0.0, description='Training', layout=Layout(flex='2'), max=1250.0, style=Pro…"
      ]
     },
     "metadata": {},
     "output_type": "display_data"
    },
    {
     "name": "stdout",
     "output_type": "stream",
     "text": [
      "Epoch 238: train=9.14772, val=8.82482, took 18.313 s\n",
      "  Validation Found 49987 of 54504, added 1190 (eff 91.71%) (0.119 FP/event)\n"
     ]
    },
    {
     "data": {
      "application/vnd.jupyter.widget-view+json": {
       "model_id": "",
       "version_major": 2,
       "version_minor": 0
      },
      "text/plain": [
       "HBox(children=(FloatProgress(value=0.0, description='Training', layout=Layout(flex='2'), max=1250.0, style=Pro…"
      ]
     },
     "metadata": {},
     "output_type": "display_data"
    },
    {
     "name": "stdout",
     "output_type": "stream",
     "text": [
      "Epoch 239: train=9.15001, val=8.83787, took 18.642 s\n",
      "  Validation Found 49991 of 54504, added 1197 (eff 91.72%) (0.12 FP/event)\n"
     ]
    },
    {
     "data": {
      "application/vnd.jupyter.widget-view+json": {
       "model_id": "",
       "version_major": 2,
       "version_minor": 0
      },
      "text/plain": [
       "HBox(children=(FloatProgress(value=0.0, description='Training', layout=Layout(flex='2'), max=1250.0, style=Pro…"
      ]
     },
     "metadata": {},
     "output_type": "display_data"
    },
    {
     "name": "stdout",
     "output_type": "stream",
     "text": [
      "Epoch 240: train=9.15327, val=8.82537, took 18.867 s\n",
      "  Validation Found 50004 of 54504, added 1199 (eff 91.74%) (0.12 FP/event)\n"
     ]
    },
    {
     "data": {
      "application/vnd.jupyter.widget-view+json": {
       "model_id": "",
       "version_major": 2,
       "version_minor": 0
      },
      "text/plain": [
       "HBox(children=(FloatProgress(value=0.0, description='Training', layout=Layout(flex='2'), max=1250.0, style=Pro…"
      ]
     },
     "metadata": {},
     "output_type": "display_data"
    },
    {
     "name": "stdout",
     "output_type": "stream",
     "text": [
      "Epoch 241: train=9.15196, val=8.84028, took 18.477 s\n",
      "  Validation Found 49978 of 54504, added 1184 (eff 91.70%) (0.119 FP/event)\n"
     ]
    },
    {
     "data": {
      "application/vnd.jupyter.widget-view+json": {
       "model_id": "",
       "version_major": 2,
       "version_minor": 0
      },
      "text/plain": [
       "HBox(children=(FloatProgress(value=0.0, description='Training', layout=Layout(flex='2'), max=1250.0, style=Pro…"
      ]
     },
     "metadata": {},
     "output_type": "display_data"
    },
    {
     "name": "stdout",
     "output_type": "stream",
     "text": [
      "Epoch 242: train=9.15081, val=8.84596, took 18.883 s\n",
      "  Validation Found 49973 of 54504, added 1182 (eff 91.69%) (0.118 FP/event)\n"
     ]
    },
    {
     "data": {
      "application/vnd.jupyter.widget-view+json": {
       "model_id": "",
       "version_major": 2,
       "version_minor": 0
      },
      "text/plain": [
       "HBox(children=(FloatProgress(value=0.0, description='Training', layout=Layout(flex='2'), max=1250.0, style=Pro…"
      ]
     },
     "metadata": {},
     "output_type": "display_data"
    },
    {
     "name": "stdout",
     "output_type": "stream",
     "text": [
      "Epoch 243: train=9.14475, val=8.83198, took 18.271 s\n",
      "  Validation Found 49981 of 54504, added 1184 (eff 91.70%) (0.119 FP/event)\n"
     ]
    },
    {
     "data": {
      "application/vnd.jupyter.widget-view+json": {
       "model_id": "",
       "version_major": 2,
       "version_minor": 0
      },
      "text/plain": [
       "HBox(children=(FloatProgress(value=0.0, description='Training', layout=Layout(flex='2'), max=1250.0, style=Pro…"
      ]
     },
     "metadata": {},
     "output_type": "display_data"
    },
    {
     "name": "stdout",
     "output_type": "stream",
     "text": [
      "Epoch 244: train=9.14789, val=8.83261, took 18.374 s\n",
      "  Validation Found 50002 of 54504, added 1198 (eff 91.74%) (0.12 FP/event)\n"
     ]
    },
    {
     "data": {
      "application/vnd.jupyter.widget-view+json": {
       "model_id": "",
       "version_major": 2,
       "version_minor": 0
      },
      "text/plain": [
       "HBox(children=(FloatProgress(value=0.0, description='Training', layout=Layout(flex='2'), max=1250.0, style=Pro…"
      ]
     },
     "metadata": {},
     "output_type": "display_data"
    },
    {
     "name": "stdout",
     "output_type": "stream",
     "text": [
      "Epoch 245: train=9.14616, val=8.82788, took 19.117 s\n",
      "  Validation Found 50014 of 54504, added 1206 (eff 91.76%) (0.121 FP/event)\n"
     ]
    },
    {
     "data": {
      "application/vnd.jupyter.widget-view+json": {
       "model_id": "",
       "version_major": 2,
       "version_minor": 0
      },
      "text/plain": [
       "HBox(children=(FloatProgress(value=0.0, description='Training', layout=Layout(flex='2'), max=1250.0, style=Pro…"
      ]
     },
     "metadata": {},
     "output_type": "display_data"
    },
    {
     "name": "stdout",
     "output_type": "stream",
     "text": [
      "Epoch 246: train=9.15019, val=8.83168, took 19.333 s\n",
      "  Validation Found 49999 of 54504, added 1196 (eff 91.73%) (0.12 FP/event)\n"
     ]
    },
    {
     "data": {
      "application/vnd.jupyter.widget-view+json": {
       "model_id": "",
       "version_major": 2,
       "version_minor": 0
      },
      "text/plain": [
       "HBox(children=(FloatProgress(value=0.0, description='Training', layout=Layout(flex='2'), max=1250.0, style=Pro…"
      ]
     },
     "metadata": {},
     "output_type": "display_data"
    },
    {
     "name": "stdout",
     "output_type": "stream",
     "text": [
      "Epoch 247: train=9.1477, val=8.84331, took 18.334 s\n",
      "  Validation Found 49973 of 54504, added 1182 (eff 91.69%) (0.118 FP/event)\n"
     ]
    },
    {
     "data": {
      "application/vnd.jupyter.widget-view+json": {
       "model_id": "",
       "version_major": 2,
       "version_minor": 0
      },
      "text/plain": [
       "HBox(children=(FloatProgress(value=0.0, description='Training', layout=Layout(flex='2'), max=1250.0, style=Pro…"
      ]
     },
     "metadata": {},
     "output_type": "display_data"
    },
    {
     "name": "stdout",
     "output_type": "stream",
     "text": [
      "Epoch 248: train=9.15014, val=8.82497, took 18.407 s\n",
      "  Validation Found 49997 of 54504, added 1195 (eff 91.73%) (0.12 FP/event)\n"
     ]
    },
    {
     "data": {
      "application/vnd.jupyter.widget-view+json": {
       "model_id": "",
       "version_major": 2,
       "version_minor": 0
      },
      "text/plain": [
       "HBox(children=(FloatProgress(value=0.0, description='Training', layout=Layout(flex='2'), max=1250.0, style=Pro…"
      ]
     },
     "metadata": {},
     "output_type": "display_data"
    },
    {
     "name": "stdout",
     "output_type": "stream",
     "text": [
      "Epoch 249: train=9.15218, val=8.82403, took 18.418 s\n",
      "  Validation Found 50005 of 54504, added 1198 (eff 91.75%) (0.12 FP/event)\n"
     ]
    },
    {
     "data": {
      "application/vnd.jupyter.widget-view+json": {
       "model_id": "",
       "version_major": 2,
       "version_minor": 0
      },
      "text/plain": [
       "HBox(children=(FloatProgress(value=0.0, description='Training', layout=Layout(flex='2'), max=1250.0, style=Pro…"
      ]
     },
     "metadata": {},
     "output_type": "display_data"
    },
    {
     "name": "stdout",
     "output_type": "stream",
     "text": [
      "Epoch 250: train=9.15161, val=8.84155, took 18.313 s\n",
      "  Validation Found 49990 of 54504, added 1192 (eff 91.72%) (0.119 FP/event)\n"
     ]
    },
    {
     "data": {
      "application/vnd.jupyter.widget-view+json": {
       "model_id": "",
       "version_major": 2,
       "version_minor": 0
      },
      "text/plain": [
       "HBox(children=(FloatProgress(value=0.0, description='Training', layout=Layout(flex='2'), max=1250.0, style=Pro…"
      ]
     },
     "metadata": {},
     "output_type": "display_data"
    },
    {
     "name": "stdout",
     "output_type": "stream",
     "text": [
      "Epoch 251: train=9.15354, val=8.8216, took 18.839 s\n",
      "  Validation Found 50012 of 54504, added 1203 (eff 91.76%) (0.12 FP/event)\n"
     ]
    },
    {
     "data": {
      "application/vnd.jupyter.widget-view+json": {
       "model_id": "",
       "version_major": 2,
       "version_minor": 0
      },
      "text/plain": [
       "HBox(children=(FloatProgress(value=0.0, description='Training', layout=Layout(flex='2'), max=1250.0, style=Pro…"
      ]
     },
     "metadata": {},
     "output_type": "display_data"
    },
    {
     "name": "stdout",
     "output_type": "stream",
     "text": [
      "Epoch 252: train=9.14873, val=8.82688, took 18.48 s\n",
      "  Validation Found 49992 of 54504, added 1196 (eff 91.72%) (0.12 FP/event)\n"
     ]
    },
    {
     "data": {
      "application/vnd.jupyter.widget-view+json": {
       "model_id": "",
       "version_major": 2,
       "version_minor": 0
      },
      "text/plain": [
       "HBox(children=(FloatProgress(value=0.0, description='Training', layout=Layout(flex='2'), max=1250.0, style=Pro…"
      ]
     },
     "metadata": {},
     "output_type": "display_data"
    },
    {
     "name": "stdout",
     "output_type": "stream",
     "text": [
      "Epoch 253: train=9.1431, val=8.84441, took 17.981 s\n",
      "  Validation Found 49983 of 54504, added 1189 (eff 91.71%) (0.119 FP/event)\n"
     ]
    },
    {
     "data": {
      "application/vnd.jupyter.widget-view+json": {
       "model_id": "",
       "version_major": 2,
       "version_minor": 0
      },
      "text/plain": [
       "HBox(children=(FloatProgress(value=0.0, description='Training', layout=Layout(flex='2'), max=1250.0, style=Pro…"
      ]
     },
     "metadata": {},
     "output_type": "display_data"
    },
    {
     "name": "stdout",
     "output_type": "stream",
     "text": [
      "Epoch 254: train=9.15272, val=8.83727, took 18.618 s\n",
      "  Validation Found 49986 of 54504, added 1189 (eff 91.71%) (0.119 FP/event)\n"
     ]
    },
    {
     "data": {
      "application/vnd.jupyter.widget-view+json": {
       "model_id": "",
       "version_major": 2,
       "version_minor": 0
      },
      "text/plain": [
       "HBox(children=(FloatProgress(value=0.0, description='Training', layout=Layout(flex='2'), max=1250.0, style=Pro…"
      ]
     },
     "metadata": {},
     "output_type": "display_data"
    },
    {
     "name": "stdout",
     "output_type": "stream",
     "text": [
      "Epoch 255: train=9.15012, val=8.83562, took 18.529 s\n",
      "  Validation Found 49983 of 54504, added 1185 (eff 91.71%) (0.119 FP/event)\n"
     ]
    },
    {
     "data": {
      "application/vnd.jupyter.widget-view+json": {
       "model_id": "",
       "version_major": 2,
       "version_minor": 0
      },
      "text/plain": [
       "HBox(children=(FloatProgress(value=0.0, description='Training', layout=Layout(flex='2'), max=1250.0, style=Pro…"
      ]
     },
     "metadata": {},
     "output_type": "display_data"
    },
    {
     "name": "stdout",
     "output_type": "stream",
     "text": [
      "Epoch 256: train=9.14763, val=8.8257, took 18.707 s\n",
      "  Validation Found 49999 of 54504, added 1195 (eff 91.73%) (0.12 FP/event)\n"
     ]
    },
    {
     "data": {
      "application/vnd.jupyter.widget-view+json": {
       "model_id": "",
       "version_major": 2,
       "version_minor": 0
      },
      "text/plain": [
       "HBox(children=(FloatProgress(value=0.0, description='Training', layout=Layout(flex='2'), max=1250.0, style=Pro…"
      ]
     },
     "metadata": {},
     "output_type": "display_data"
    },
    {
     "name": "stdout",
     "output_type": "stream",
     "text": [
      "Epoch 257: train=9.15077, val=8.82972, took 18.048 s\n",
      "  Validation Found 49992 of 54504, added 1193 (eff 91.72%) (0.119 FP/event)\n"
     ]
    },
    {
     "data": {
      "application/vnd.jupyter.widget-view+json": {
       "model_id": "",
       "version_major": 2,
       "version_minor": 0
      },
      "text/plain": [
       "HBox(children=(FloatProgress(value=0.0, description='Training', layout=Layout(flex='2'), max=1250.0, style=Pro…"
      ]
     },
     "metadata": {},
     "output_type": "display_data"
    },
    {
     "name": "stdout",
     "output_type": "stream",
     "text": [
      "Epoch 258: train=9.15301, val=8.81479, took 18.451 s\n",
      "  Validation Found 50016 of 54504, added 1205 (eff 91.77%) (0.121 FP/event)\n"
     ]
    },
    {
     "data": {
      "application/vnd.jupyter.widget-view+json": {
       "model_id": "",
       "version_major": 2,
       "version_minor": 0
      },
      "text/plain": [
       "HBox(children=(FloatProgress(value=0.0, description='Training', layout=Layout(flex='2'), max=1250.0, style=Pro…"
      ]
     },
     "metadata": {},
     "output_type": "display_data"
    },
    {
     "name": "stdout",
     "output_type": "stream",
     "text": [
      "Epoch 259: train=9.14913, val=8.8317, took 17.893 s\n",
      "  Validation Found 50008 of 54504, added 1201 (eff 91.75%) (0.12 FP/event)\n"
     ]
    },
    {
     "data": {
      "application/vnd.jupyter.widget-view+json": {
       "model_id": "",
       "version_major": 2,
       "version_minor": 0
      },
      "text/plain": [
       "HBox(children=(FloatProgress(value=0.0, description='Training', layout=Layout(flex='2'), max=1250.0, style=Pro…"
      ]
     },
     "metadata": {},
     "output_type": "display_data"
    },
    {
     "name": "stdout",
     "output_type": "stream",
     "text": [
      "Epoch 260: train=9.14746, val=8.82207, took 18.398 s\n",
      "  Validation Found 50016 of 54504, added 1206 (eff 91.77%) (0.121 FP/event)\n"
     ]
    },
    {
     "data": {
      "application/vnd.jupyter.widget-view+json": {
       "model_id": "",
       "version_major": 2,
       "version_minor": 0
      },
      "text/plain": [
       "HBox(children=(FloatProgress(value=0.0, description='Training', layout=Layout(flex='2'), max=1250.0, style=Pro…"
      ]
     },
     "metadata": {},
     "output_type": "display_data"
    },
    {
     "name": "stdout",
     "output_type": "stream",
     "text": [
      "Epoch 261: train=9.14975, val=8.83286, took 17.818 s\n",
      "  Validation Found 50002 of 54504, added 1198 (eff 91.74%) (0.12 FP/event)\n"
     ]
    },
    {
     "data": {
      "application/vnd.jupyter.widget-view+json": {
       "model_id": "",
       "version_major": 2,
       "version_minor": 0
      },
      "text/plain": [
       "HBox(children=(FloatProgress(value=0.0, description='Training', layout=Layout(flex='2'), max=1250.0, style=Pro…"
      ]
     },
     "metadata": {},
     "output_type": "display_data"
    },
    {
     "name": "stdout",
     "output_type": "stream",
     "text": [
      "Epoch 262: train=9.14896, val=8.83015, took 18.722 s\n",
      "  Validation Found 49994 of 54504, added 1191 (eff 91.73%) (0.119 FP/event)\n"
     ]
    },
    {
     "data": {
      "application/vnd.jupyter.widget-view+json": {
       "model_id": "",
       "version_major": 2,
       "version_minor": 0
      },
      "text/plain": [
       "HBox(children=(FloatProgress(value=0.0, description='Training', layout=Layout(flex='2'), max=1250.0, style=Pro…"
      ]
     },
     "metadata": {},
     "output_type": "display_data"
    },
    {
     "name": "stdout",
     "output_type": "stream",
     "text": [
      "Epoch 263: train=9.15025, val=8.83836, took 19.0 s\n",
      "  Validation Found 49982 of 54504, added 1188 (eff 91.70%) (0.119 FP/event)\n"
     ]
    },
    {
     "data": {
      "application/vnd.jupyter.widget-view+json": {
       "model_id": "",
       "version_major": 2,
       "version_minor": 0
      },
      "text/plain": [
       "HBox(children=(FloatProgress(value=0.0, description='Training', layout=Layout(flex='2'), max=1250.0, style=Pro…"
      ]
     },
     "metadata": {},
     "output_type": "display_data"
    },
    {
     "name": "stdout",
     "output_type": "stream",
     "text": [
      "Epoch 264: train=9.14902, val=8.82995, took 18.392 s\n",
      "  Validation Found 50010 of 54504, added 1201 (eff 91.75%) (0.12 FP/event)\n"
     ]
    },
    {
     "data": {
      "application/vnd.jupyter.widget-view+json": {
       "model_id": "",
       "version_major": 2,
       "version_minor": 0
      },
      "text/plain": [
       "HBox(children=(FloatProgress(value=0.0, description='Training', layout=Layout(flex='2'), max=1250.0, style=Pro…"
      ]
     },
     "metadata": {},
     "output_type": "display_data"
    },
    {
     "name": "stdout",
     "output_type": "stream",
     "text": [
      "Epoch 265: train=9.14657, val=8.83742, took 19.045 s\n",
      "  Validation Found 49984 of 54504, added 1190 (eff 91.71%) (0.119 FP/event)\n"
     ]
    },
    {
     "data": {
      "application/vnd.jupyter.widget-view+json": {
       "model_id": "",
       "version_major": 2,
       "version_minor": 0
      },
      "text/plain": [
       "HBox(children=(FloatProgress(value=0.0, description='Training', layout=Layout(flex='2'), max=1250.0, style=Pro…"
      ]
     },
     "metadata": {},
     "output_type": "display_data"
    },
    {
     "name": "stdout",
     "output_type": "stream",
     "text": [
      "Epoch 266: train=9.14928, val=8.82582, took 18.539 s\n",
      "  Validation Found 50002 of 54504, added 1199 (eff 91.74%) (0.12 FP/event)\n"
     ]
    },
    {
     "data": {
      "application/vnd.jupyter.widget-view+json": {
       "model_id": "",
       "version_major": 2,
       "version_minor": 0
      },
      "text/plain": [
       "HBox(children=(FloatProgress(value=0.0, description='Training', layout=Layout(flex='2'), max=1250.0, style=Pro…"
      ]
     },
     "metadata": {},
     "output_type": "display_data"
    },
    {
     "name": "stdout",
     "output_type": "stream",
     "text": [
      "Epoch 267: train=9.14888, val=8.83954, took 18.451 s\n",
      "  Validation Found 49994 of 54504, added 1194 (eff 91.73%) (0.12 FP/event)\n"
     ]
    },
    {
     "data": {
      "application/vnd.jupyter.widget-view+json": {
       "model_id": "",
       "version_major": 2,
       "version_minor": 0
      },
      "text/plain": [
       "HBox(children=(FloatProgress(value=0.0, description='Training', layout=Layout(flex='2'), max=1250.0, style=Pro…"
      ]
     },
     "metadata": {},
     "output_type": "display_data"
    },
    {
     "name": "stdout",
     "output_type": "stream",
     "text": [
      "Epoch 268: train=9.1481, val=8.8276, took 18.711 s\n",
      "  Validation Found 50005 of 54504, added 1203 (eff 91.75%) (0.12 FP/event)\n"
     ]
    },
    {
     "data": {
      "application/vnd.jupyter.widget-view+json": {
       "model_id": "",
       "version_major": 2,
       "version_minor": 0
      },
      "text/plain": [
       "HBox(children=(FloatProgress(value=0.0, description='Training', layout=Layout(flex='2'), max=1250.0, style=Pro…"
      ]
     },
     "metadata": {},
     "output_type": "display_data"
    },
    {
     "name": "stdout",
     "output_type": "stream",
     "text": [
      "Epoch 269: train=9.14709, val=8.82573, took 18.513 s\n",
      "  Validation Found 50005 of 54504, added 1202 (eff 91.75%) (0.12 FP/event)\n"
     ]
    },
    {
     "data": {
      "application/vnd.jupyter.widget-view+json": {
       "model_id": "",
       "version_major": 2,
       "version_minor": 0
      },
      "text/plain": [
       "HBox(children=(FloatProgress(value=0.0, description='Training', layout=Layout(flex='2'), max=1250.0, style=Pro…"
      ]
     },
     "metadata": {},
     "output_type": "display_data"
    },
    {
     "name": "stdout",
     "output_type": "stream",
     "text": [
      "Epoch 270: train=9.14794, val=8.83009, took 18.842 s\n",
      "  Validation Found 49999 of 54504, added 1195 (eff 91.73%) (0.12 FP/event)\n"
     ]
    },
    {
     "data": {
      "application/vnd.jupyter.widget-view+json": {
       "model_id": "",
       "version_major": 2,
       "version_minor": 0
      },
      "text/plain": [
       "HBox(children=(FloatProgress(value=0.0, description='Training', layout=Layout(flex='2'), max=1250.0, style=Pro…"
      ]
     },
     "metadata": {},
     "output_type": "display_data"
    },
    {
     "name": "stdout",
     "output_type": "stream",
     "text": [
      "Epoch 271: train=9.15098, val=8.8399, took 18.695 s\n",
      "  Validation Found 49992 of 54504, added 1192 (eff 91.72%) (0.119 FP/event)\n"
     ]
    },
    {
     "data": {
      "application/vnd.jupyter.widget-view+json": {
       "model_id": "",
       "version_major": 2,
       "version_minor": 0
      },
      "text/plain": [
       "HBox(children=(FloatProgress(value=0.0, description='Training', layout=Layout(flex='2'), max=1250.0, style=Pro…"
      ]
     },
     "metadata": {},
     "output_type": "display_data"
    },
    {
     "name": "stdout",
     "output_type": "stream",
     "text": [
      "Epoch 272: train=9.14684, val=8.83194, took 18.175 s\n",
      "  Validation Found 49997 of 54504, added 1190 (eff 91.73%) (0.119 FP/event)\n"
     ]
    },
    {
     "data": {
      "application/vnd.jupyter.widget-view+json": {
       "model_id": "",
       "version_major": 2,
       "version_minor": 0
      },
      "text/plain": [
       "HBox(children=(FloatProgress(value=0.0, description='Training', layout=Layout(flex='2'), max=1250.0, style=Pro…"
      ]
     },
     "metadata": {},
     "output_type": "display_data"
    },
    {
     "name": "stdout",
     "output_type": "stream",
     "text": [
      "Epoch 273: train=9.14761, val=8.83415, took 18.686 s\n",
      "  Validation Found 49977 of 54504, added 1187 (eff 91.69%) (0.119 FP/event)\n"
     ]
    },
    {
     "data": {
      "application/vnd.jupyter.widget-view+json": {
       "model_id": "",
       "version_major": 2,
       "version_minor": 0
      },
      "text/plain": [
       "HBox(children=(FloatProgress(value=0.0, description='Training', layout=Layout(flex='2'), max=1250.0, style=Pro…"
      ]
     },
     "metadata": {},
     "output_type": "display_data"
    },
    {
     "name": "stdout",
     "output_type": "stream",
     "text": [
      "Epoch 274: train=9.1482, val=8.84071, took 18.898 s\n",
      "  Validation Found 49972 of 54504, added 1181 (eff 91.69%) (0.118 FP/event)\n"
     ]
    },
    {
     "data": {
      "application/vnd.jupyter.widget-view+json": {
       "model_id": "",
       "version_major": 2,
       "version_minor": 0
      },
      "text/plain": [
       "HBox(children=(FloatProgress(value=0.0, description='Training', layout=Layout(flex='2'), max=1250.0, style=Pro…"
      ]
     },
     "metadata": {},
     "output_type": "display_data"
    },
    {
     "name": "stdout",
     "output_type": "stream",
     "text": [
      "Epoch 275: train=9.1469, val=8.8275, took 18.576 s\n",
      "  Validation Found 49982 of 54504, added 1181 (eff 91.70%) (0.118 FP/event)\n"
     ]
    },
    {
     "data": {
      "application/vnd.jupyter.widget-view+json": {
       "model_id": "",
       "version_major": 2,
       "version_minor": 0
      },
      "text/plain": [
       "HBox(children=(FloatProgress(value=0.0, description='Training', layout=Layout(flex='2'), max=1250.0, style=Pro…"
      ]
     },
     "metadata": {},
     "output_type": "display_data"
    },
    {
     "name": "stdout",
     "output_type": "stream",
     "text": [
      "Epoch 276: train=9.1508, val=8.84282, took 18.682 s\n",
      "  Validation Found 49990 of 54504, added 1190 (eff 91.72%) (0.119 FP/event)\n"
     ]
    },
    {
     "data": {
      "application/vnd.jupyter.widget-view+json": {
       "model_id": "",
       "version_major": 2,
       "version_minor": 0
      },
      "text/plain": [
       "HBox(children=(FloatProgress(value=0.0, description='Training', layout=Layout(flex='2'), max=1250.0, style=Pro…"
      ]
     },
     "metadata": {},
     "output_type": "display_data"
    },
    {
     "name": "stdout",
     "output_type": "stream",
     "text": [
      "Epoch 277: train=9.14894, val=8.83248, took 18.489 s\n",
      "  Validation Found 49995 of 54504, added 1192 (eff 91.73%) (0.119 FP/event)\n"
     ]
    },
    {
     "data": {
      "application/vnd.jupyter.widget-view+json": {
       "model_id": "",
       "version_major": 2,
       "version_minor": 0
      },
      "text/plain": [
       "HBox(children=(FloatProgress(value=0.0, description='Training', layout=Layout(flex='2'), max=1250.0, style=Pro…"
      ]
     },
     "metadata": {},
     "output_type": "display_data"
    },
    {
     "name": "stdout",
     "output_type": "stream",
     "text": [
      "Epoch 278: train=9.14925, val=8.82688, took 18.581 s\n",
      "  Validation Found 49981 of 54504, added 1188 (eff 91.70%) (0.119 FP/event)\n"
     ]
    },
    {
     "data": {
      "application/vnd.jupyter.widget-view+json": {
       "model_id": "",
       "version_major": 2,
       "version_minor": 0
      },
      "text/plain": [
       "HBox(children=(FloatProgress(value=0.0, description='Training', layout=Layout(flex='2'), max=1250.0, style=Pro…"
      ]
     },
     "metadata": {},
     "output_type": "display_data"
    },
    {
     "name": "stdout",
     "output_type": "stream",
     "text": [
      "Epoch 279: train=9.1501, val=8.84016, took 18.068 s\n",
      "  Validation Found 49968 of 54504, added 1183 (eff 91.68%) (0.118 FP/event)\n"
     ]
    },
    {
     "data": {
      "application/vnd.jupyter.widget-view+json": {
       "model_id": "",
       "version_major": 2,
       "version_minor": 0
      },
      "text/plain": [
       "HBox(children=(FloatProgress(value=0.0, description='Training', layout=Layout(flex='2'), max=1250.0, style=Pro…"
      ]
     },
     "metadata": {},
     "output_type": "display_data"
    },
    {
     "name": "stdout",
     "output_type": "stream",
     "text": [
      "Epoch 280: train=9.1527, val=8.83313, took 18.429 s\n",
      "  Validation Found 49988 of 54504, added 1190 (eff 91.71%) (0.119 FP/event)\n"
     ]
    },
    {
     "data": {
      "application/vnd.jupyter.widget-view+json": {
       "model_id": "",
       "version_major": 2,
       "version_minor": 0
      },
      "text/plain": [
       "HBox(children=(FloatProgress(value=0.0, description='Training', layout=Layout(flex='2'), max=1250.0, style=Pro…"
      ]
     },
     "metadata": {},
     "output_type": "display_data"
    },
    {
     "name": "stdout",
     "output_type": "stream",
     "text": [
      "Epoch 281: train=9.14925, val=8.83221, took 18.752 s\n",
      "  Validation Found 49996 of 54504, added 1194 (eff 91.73%) (0.12 FP/event)\n"
     ]
    },
    {
     "data": {
      "application/vnd.jupyter.widget-view+json": {
       "model_id": "",
       "version_major": 2,
       "version_minor": 0
      },
      "text/plain": [
       "HBox(children=(FloatProgress(value=0.0, description='Training', layout=Layout(flex='2'), max=1250.0, style=Pro…"
      ]
     },
     "metadata": {},
     "output_type": "display_data"
    },
    {
     "name": "stdout",
     "output_type": "stream",
     "text": [
      "Epoch 282: train=9.15061, val=8.8363, took 17.843 s\n",
      "  Validation Found 49997 of 54504, added 1190 (eff 91.73%) (0.119 FP/event)\n"
     ]
    },
    {
     "data": {
      "application/vnd.jupyter.widget-view+json": {
       "model_id": "",
       "version_major": 2,
       "version_minor": 0
      },
      "text/plain": [
       "HBox(children=(FloatProgress(value=0.0, description='Training', layout=Layout(flex='2'), max=1250.0, style=Pro…"
      ]
     },
     "metadata": {},
     "output_type": "display_data"
    },
    {
     "name": "stdout",
     "output_type": "stream",
     "text": [
      "Epoch 283: train=9.14736, val=8.82756, took 18.258 s\n",
      "  Validation Found 49997 of 54504, added 1195 (eff 91.73%) (0.12 FP/event)\n"
     ]
    },
    {
     "data": {
      "application/vnd.jupyter.widget-view+json": {
       "model_id": "",
       "version_major": 2,
       "version_minor": 0
      },
      "text/plain": [
       "HBox(children=(FloatProgress(value=0.0, description='Training', layout=Layout(flex='2'), max=1250.0, style=Pro…"
      ]
     },
     "metadata": {},
     "output_type": "display_data"
    },
    {
     "name": "stdout",
     "output_type": "stream",
     "text": [
      "Epoch 284: train=9.1461, val=8.82512, took 18.584 s\n",
      "  Validation Found 50007 of 54504, added 1206 (eff 91.75%) (0.121 FP/event)\n"
     ]
    },
    {
     "data": {
      "application/vnd.jupyter.widget-view+json": {
       "model_id": "",
       "version_major": 2,
       "version_minor": 0
      },
      "text/plain": [
       "HBox(children=(FloatProgress(value=0.0, description='Training', layout=Layout(flex='2'), max=1250.0, style=Pro…"
      ]
     },
     "metadata": {},
     "output_type": "display_data"
    },
    {
     "name": "stdout",
     "output_type": "stream",
     "text": [
      "Epoch 285: train=9.14608, val=8.83374, took 18.875 s\n",
      "  Validation Found 49982 of 54504, added 1193 (eff 91.70%) (0.119 FP/event)\n"
     ]
    },
    {
     "data": {
      "application/vnd.jupyter.widget-view+json": {
       "model_id": "",
       "version_major": 2,
       "version_minor": 0
      },
      "text/plain": [
       "HBox(children=(FloatProgress(value=0.0, description='Training', layout=Layout(flex='2'), max=1250.0, style=Pro…"
      ]
     },
     "metadata": {},
     "output_type": "display_data"
    },
    {
     "name": "stdout",
     "output_type": "stream",
     "text": [
      "Epoch 286: train=9.14841, val=8.81928, took 18.454 s\n",
      "  Validation Found 50023 of 54504, added 1211 (eff 91.78%) (0.121 FP/event)\n"
     ]
    },
    {
     "data": {
      "application/vnd.jupyter.widget-view+json": {
       "model_id": "",
       "version_major": 2,
       "version_minor": 0
      },
      "text/plain": [
       "HBox(children=(FloatProgress(value=0.0, description='Training', layout=Layout(flex='2'), max=1250.0, style=Pro…"
      ]
     },
     "metadata": {},
     "output_type": "display_data"
    },
    {
     "name": "stdout",
     "output_type": "stream",
     "text": [
      "Epoch 287: train=9.14814, val=8.83112, took 18.414 s\n",
      "  Validation Found 49995 of 54504, added 1197 (eff 91.73%) (0.12 FP/event)\n"
     ]
    },
    {
     "data": {
      "application/vnd.jupyter.widget-view+json": {
       "model_id": "",
       "version_major": 2,
       "version_minor": 0
      },
      "text/plain": [
       "HBox(children=(FloatProgress(value=0.0, description='Training', layout=Layout(flex='2'), max=1250.0, style=Pro…"
      ]
     },
     "metadata": {},
     "output_type": "display_data"
    },
    {
     "name": "stdout",
     "output_type": "stream",
     "text": [
      "Epoch 288: train=9.14858, val=8.83966, took 18.568 s\n",
      "  Validation Found 49981 of 54504, added 1192 (eff 91.70%) (0.119 FP/event)\n"
     ]
    },
    {
     "data": {
      "application/vnd.jupyter.widget-view+json": {
       "model_id": "",
       "version_major": 2,
       "version_minor": 0
      },
      "text/plain": [
       "HBox(children=(FloatProgress(value=0.0, description='Training', layout=Layout(flex='2'), max=1250.0, style=Pro…"
      ]
     },
     "metadata": {},
     "output_type": "display_data"
    },
    {
     "name": "stdout",
     "output_type": "stream",
     "text": [
      "Epoch 289: train=9.1546, val=8.8293, took 19.055 s\n",
      "  Validation Found 49986 of 54504, added 1187 (eff 91.71%) (0.119 FP/event)\n"
     ]
    },
    {
     "data": {
      "application/vnd.jupyter.widget-view+json": {
       "model_id": "",
       "version_major": 2,
       "version_minor": 0
      },
      "text/plain": [
       "HBox(children=(FloatProgress(value=0.0, description='Training', layout=Layout(flex='2'), max=1250.0, style=Pro…"
      ]
     },
     "metadata": {},
     "output_type": "display_data"
    },
    {
     "name": "stdout",
     "output_type": "stream",
     "text": [
      "Epoch 290: train=9.15406, val=8.82093, took 18.115 s\n",
      "  Validation Found 50004 of 54504, added 1206 (eff 91.74%) (0.121 FP/event)\n"
     ]
    },
    {
     "data": {
      "application/vnd.jupyter.widget-view+json": {
       "model_id": "",
       "version_major": 2,
       "version_minor": 0
      },
      "text/plain": [
       "HBox(children=(FloatProgress(value=0.0, description='Training', layout=Layout(flex='2'), max=1250.0, style=Pro…"
      ]
     },
     "metadata": {},
     "output_type": "display_data"
    },
    {
     "name": "stdout",
     "output_type": "stream",
     "text": [
      "Epoch 291: train=9.14966, val=8.82683, took 18.449 s\n",
      "  Validation Found 50016 of 54504, added 1209 (eff 91.77%) (0.121 FP/event)\n"
     ]
    },
    {
     "data": {
      "application/vnd.jupyter.widget-view+json": {
       "model_id": "",
       "version_major": 2,
       "version_minor": 0
      },
      "text/plain": [
       "HBox(children=(FloatProgress(value=0.0, description='Training', layout=Layout(flex='2'), max=1250.0, style=Pro…"
      ]
     },
     "metadata": {},
     "output_type": "display_data"
    },
    {
     "name": "stdout",
     "output_type": "stream",
     "text": [
      "Epoch 292: train=9.14882, val=8.83521, took 18.193 s\n",
      "  Validation Found 49975 of 54504, added 1187 (eff 91.69%) (0.119 FP/event)\n"
     ]
    },
    {
     "data": {
      "application/vnd.jupyter.widget-view+json": {
       "model_id": "",
       "version_major": 2,
       "version_minor": 0
      },
      "text/plain": [
       "HBox(children=(FloatProgress(value=0.0, description='Training', layout=Layout(flex='2'), max=1250.0, style=Pro…"
      ]
     },
     "metadata": {},
     "output_type": "display_data"
    },
    {
     "name": "stdout",
     "output_type": "stream",
     "text": [
      "Epoch 293: train=9.14853, val=8.8358, took 18.803 s\n",
      "  Validation Found 49973 of 54504, added 1186 (eff 91.69%) (0.119 FP/event)\n"
     ]
    },
    {
     "data": {
      "application/vnd.jupyter.widget-view+json": {
       "model_id": "",
       "version_major": 2,
       "version_minor": 0
      },
      "text/plain": [
       "HBox(children=(FloatProgress(value=0.0, description='Training', layout=Layout(flex='2'), max=1250.0, style=Pro…"
      ]
     },
     "metadata": {},
     "output_type": "display_data"
    },
    {
     "name": "stdout",
     "output_type": "stream",
     "text": [
      "Epoch 294: train=9.15176, val=8.82737, took 18.154 s\n",
      "  Validation Found 49993 of 54504, added 1196 (eff 91.72%) (0.12 FP/event)\n"
     ]
    },
    {
     "data": {
      "application/vnd.jupyter.widget-view+json": {
       "model_id": "",
       "version_major": 2,
       "version_minor": 0
      },
      "text/plain": [
       "HBox(children=(FloatProgress(value=0.0, description='Training', layout=Layout(flex='2'), max=1250.0, style=Pro…"
      ]
     },
     "metadata": {},
     "output_type": "display_data"
    },
    {
     "name": "stdout",
     "output_type": "stream",
     "text": [
      "Epoch 295: train=9.14745, val=8.83915, took 17.872 s\n",
      "  Validation Found 49977 of 54504, added 1183 (eff 91.69%) (0.118 FP/event)\n"
     ]
    },
    {
     "data": {
      "application/vnd.jupyter.widget-view+json": {
       "model_id": "",
       "version_major": 2,
       "version_minor": 0
      },
      "text/plain": [
       "HBox(children=(FloatProgress(value=0.0, description='Training', layout=Layout(flex='2'), max=1250.0, style=Pro…"
      ]
     },
     "metadata": {},
     "output_type": "display_data"
    },
    {
     "name": "stdout",
     "output_type": "stream",
     "text": [
      "Epoch 296: train=9.14834, val=8.83227, took 18.64 s\n",
      "  Validation Found 49972 of 54504, added 1183 (eff 91.69%) (0.118 FP/event)\n"
     ]
    },
    {
     "data": {
      "application/vnd.jupyter.widget-view+json": {
       "model_id": "",
       "version_major": 2,
       "version_minor": 0
      },
      "text/plain": [
       "HBox(children=(FloatProgress(value=0.0, description='Training', layout=Layout(flex='2'), max=1250.0, style=Pro…"
      ]
     },
     "metadata": {},
     "output_type": "display_data"
    },
    {
     "name": "stdout",
     "output_type": "stream",
     "text": [
      "Epoch 297: train=9.15602, val=8.8268, took 18.402 s\n",
      "  Validation Found 50008 of 54504, added 1198 (eff 91.75%) (0.12 FP/event)\n"
     ]
    },
    {
     "data": {
      "application/vnd.jupyter.widget-view+json": {
       "model_id": "",
       "version_major": 2,
       "version_minor": 0
      },
      "text/plain": [
       "HBox(children=(FloatProgress(value=0.0, description='Training', layout=Layout(flex='2'), max=1250.0, style=Pro…"
      ]
     },
     "metadata": {},
     "output_type": "display_data"
    },
    {
     "name": "stdout",
     "output_type": "stream",
     "text": [
      "Epoch 298: train=9.15118, val=8.84048, took 18.742 s\n",
      "  Validation Found 49978 of 54504, added 1184 (eff 91.70%) (0.119 FP/event)\n"
     ]
    },
    {
     "data": {
      "application/vnd.jupyter.widget-view+json": {
       "model_id": "",
       "version_major": 2,
       "version_minor": 0
      },
      "text/plain": [
       "HBox(children=(FloatProgress(value=0.0, description='Training', layout=Layout(flex='2'), max=1250.0, style=Pro…"
      ]
     },
     "metadata": {},
     "output_type": "display_data"
    },
    {
     "name": "stdout",
     "output_type": "stream",
     "text": [
      "Epoch 299: train=9.14797, val=8.82519, took 18.154 s\n",
      "  Validation Found 50001 of 54504, added 1199 (eff 91.74%) (0.12 FP/event)\n"
     ]
    },
    {
     "data": {
      "application/vnd.jupyter.widget-view+json": {
       "model_id": "",
       "version_major": 2,
       "version_minor": 0
      },
      "text/plain": [
       "HBox(children=(FloatProgress(value=0.0, description='Training', layout=Layout(flex='2'), max=1250.0, style=Pro…"
      ]
     },
     "metadata": {},
     "output_type": "display_data"
    },
    {
     "name": "stdout",
     "output_type": "stream",
     "text": [
      "Epoch 300: train=9.14992, val=8.84837, took 19.099 s\n",
      "  Validation Found 49964 of 54504, added 1181 (eff 91.67%) (0.118 FP/event)\n"
     ]
    },
    {
     "data": {
      "application/vnd.jupyter.widget-view+json": {
       "model_id": "",
       "version_major": 2,
       "version_minor": 0
      },
      "text/plain": [
       "HBox(children=(FloatProgress(value=0.0, description='Training', layout=Layout(flex='2'), max=1250.0, style=Pro…"
      ]
     },
     "metadata": {},
     "output_type": "display_data"
    },
    {
     "name": "stdout",
     "output_type": "stream",
     "text": [
      "Epoch 301: train=9.14717, val=8.83526, took 18.148 s\n",
      "  Validation Found 49977 of 54504, added 1185 (eff 91.69%) (0.119 FP/event)\n"
     ]
    },
    {
     "data": {
      "application/vnd.jupyter.widget-view+json": {
       "model_id": "",
       "version_major": 2,
       "version_minor": 0
      },
      "text/plain": [
       "HBox(children=(FloatProgress(value=0.0, description='Training', layout=Layout(flex='2'), max=1250.0, style=Pro…"
      ]
     },
     "metadata": {},
     "output_type": "display_data"
    },
    {
     "name": "stdout",
     "output_type": "stream",
     "text": [
      "Epoch 302: train=9.14607, val=8.83667, took 18.36 s\n",
      "  Validation Found 49987 of 54504, added 1183 (eff 91.71%) (0.118 FP/event)\n"
     ]
    },
    {
     "data": {
      "application/vnd.jupyter.widget-view+json": {
       "model_id": "",
       "version_major": 2,
       "version_minor": 0
      },
      "text/plain": [
       "HBox(children=(FloatProgress(value=0.0, description='Training', layout=Layout(flex='2'), max=1250.0, style=Pro…"
      ]
     },
     "metadata": {},
     "output_type": "display_data"
    },
    {
     "name": "stdout",
     "output_type": "stream",
     "text": [
      "Epoch 303: train=9.14677, val=8.82816, took 19.05 s\n",
      "  Validation Found 49993 of 54504, added 1191 (eff 91.72%) (0.119 FP/event)\n"
     ]
    },
    {
     "data": {
      "application/vnd.jupyter.widget-view+json": {
       "model_id": "",
       "version_major": 2,
       "version_minor": 0
      },
      "text/plain": [
       "HBox(children=(FloatProgress(value=0.0, description='Training', layout=Layout(flex='2'), max=1250.0, style=Pro…"
      ]
     },
     "metadata": {},
     "output_type": "display_data"
    },
    {
     "name": "stdout",
     "output_type": "stream",
     "text": [
      "Epoch 304: train=9.14489, val=8.82764, took 18.935 s\n",
      "  Validation Found 50013 of 54504, added 1204 (eff 91.76%) (0.121 FP/event)\n"
     ]
    },
    {
     "data": {
      "application/vnd.jupyter.widget-view+json": {
       "model_id": "",
       "version_major": 2,
       "version_minor": 0
      },
      "text/plain": [
       "HBox(children=(FloatProgress(value=0.0, description='Training', layout=Layout(flex='2'), max=1250.0, style=Pro…"
      ]
     },
     "metadata": {},
     "output_type": "display_data"
    },
    {
     "name": "stdout",
     "output_type": "stream",
     "text": [
      "Epoch 305: train=9.14923, val=8.84671, took 18.31 s\n",
      "  Validation Found 49986 of 54504, added 1191 (eff 91.71%) (0.119 FP/event)\n"
     ]
    },
    {
     "data": {
      "application/vnd.jupyter.widget-view+json": {
       "model_id": "",
       "version_major": 2,
       "version_minor": 0
      },
      "text/plain": [
       "HBox(children=(FloatProgress(value=0.0, description='Training', layout=Layout(flex='2'), max=1250.0, style=Pro…"
      ]
     },
     "metadata": {},
     "output_type": "display_data"
    },
    {
     "name": "stdout",
     "output_type": "stream",
     "text": [
      "Epoch 306: train=9.14576, val=8.83089, took 18.733 s\n",
      "  Validation Found 50000 of 54504, added 1200 (eff 91.74%) (0.12 FP/event)\n"
     ]
    },
    {
     "data": {
      "application/vnd.jupyter.widget-view+json": {
       "model_id": "",
       "version_major": 2,
       "version_minor": 0
      },
      "text/plain": [
       "HBox(children=(FloatProgress(value=0.0, description='Training', layout=Layout(flex='2'), max=1250.0, style=Pro…"
      ]
     },
     "metadata": {},
     "output_type": "display_data"
    },
    {
     "name": "stdout",
     "output_type": "stream",
     "text": [
      "Epoch 307: train=9.15044, val=8.8274, took 18.665 s\n",
      "  Validation Found 50013 of 54504, added 1207 (eff 91.76%) (0.121 FP/event)\n"
     ]
    },
    {
     "data": {
      "application/vnd.jupyter.widget-view+json": {
       "model_id": "",
       "version_major": 2,
       "version_minor": 0
      },
      "text/plain": [
       "HBox(children=(FloatProgress(value=0.0, description='Training', layout=Layout(flex='2'), max=1250.0, style=Pro…"
      ]
     },
     "metadata": {},
     "output_type": "display_data"
    },
    {
     "name": "stdout",
     "output_type": "stream",
     "text": [
      "Epoch 308: train=9.1482, val=8.83355, took 18.551 s\n",
      "  Validation Found 50005 of 54504, added 1197 (eff 91.75%) (0.12 FP/event)\n"
     ]
    },
    {
     "data": {
      "application/vnd.jupyter.widget-view+json": {
       "model_id": "",
       "version_major": 2,
       "version_minor": 0
      },
      "text/plain": [
       "HBox(children=(FloatProgress(value=0.0, description='Training', layout=Layout(flex='2'), max=1250.0, style=Pro…"
      ]
     },
     "metadata": {},
     "output_type": "display_data"
    },
    {
     "name": "stdout",
     "output_type": "stream",
     "text": [
      "Epoch 309: train=9.14631, val=8.83473, took 18.835 s\n",
      "  Validation Found 50001 of 54504, added 1195 (eff 91.74%) (0.12 FP/event)\n"
     ]
    },
    {
     "data": {
      "application/vnd.jupyter.widget-view+json": {
       "model_id": "",
       "version_major": 2,
       "version_minor": 0
      },
      "text/plain": [
       "HBox(children=(FloatProgress(value=0.0, description='Training', layout=Layout(flex='2'), max=1250.0, style=Pro…"
      ]
     },
     "metadata": {},
     "output_type": "display_data"
    },
    {
     "name": "stdout",
     "output_type": "stream",
     "text": [
      "Epoch 310: train=9.14947, val=8.84468, took 18.359 s\n",
      "  Validation Found 49974 of 54504, added 1184 (eff 91.69%) (0.119 FP/event)\n"
     ]
    },
    {
     "data": {
      "application/vnd.jupyter.widget-view+json": {
       "model_id": "",
       "version_major": 2,
       "version_minor": 0
      },
      "text/plain": [
       "HBox(children=(FloatProgress(value=0.0, description='Training', layout=Layout(flex='2'), max=1250.0, style=Pro…"
      ]
     },
     "metadata": {},
     "output_type": "display_data"
    },
    {
     "name": "stdout",
     "output_type": "stream",
     "text": [
      "Epoch 311: train=9.14481, val=8.8416, took 18.743 s\n",
      "  Validation Found 49996 of 54504, added 1190 (eff 91.73%) (0.119 FP/event)\n"
     ]
    },
    {
     "data": {
      "application/vnd.jupyter.widget-view+json": {
       "model_id": "",
       "version_major": 2,
       "version_minor": 0
      },
      "text/plain": [
       "HBox(children=(FloatProgress(value=0.0, description='Training', layout=Layout(flex='2'), max=1250.0, style=Pro…"
      ]
     },
     "metadata": {},
     "output_type": "display_data"
    },
    {
     "name": "stdout",
     "output_type": "stream",
     "text": [
      "Epoch 312: train=9.15322, val=8.83563, took 18.77 s\n",
      "  Validation Found 49975 of 54504, added 1188 (eff 91.69%) (0.119 FP/event)\n"
     ]
    },
    {
     "data": {
      "application/vnd.jupyter.widget-view+json": {
       "model_id": "",
       "version_major": 2,
       "version_minor": 0
      },
      "text/plain": [
       "HBox(children=(FloatProgress(value=0.0, description='Training', layout=Layout(flex='2'), max=1250.0, style=Pro…"
      ]
     },
     "metadata": {},
     "output_type": "display_data"
    },
    {
     "name": "stdout",
     "output_type": "stream",
     "text": [
      "Epoch 313: train=9.15111, val=8.83707, took 18.618 s\n",
      "  Validation Found 49985 of 54504, added 1189 (eff 91.71%) (0.119 FP/event)\n"
     ]
    },
    {
     "data": {
      "application/vnd.jupyter.widget-view+json": {
       "model_id": "",
       "version_major": 2,
       "version_minor": 0
      },
      "text/plain": [
       "HBox(children=(FloatProgress(value=0.0, description='Training', layout=Layout(flex='2'), max=1250.0, style=Pro…"
      ]
     },
     "metadata": {},
     "output_type": "display_data"
    },
    {
     "name": "stdout",
     "output_type": "stream",
     "text": [
      "Epoch 314: train=9.14679, val=8.82794, took 18.951 s\n",
      "  Validation Found 50032 of 54504, added 1213 (eff 91.80%) (0.121 FP/event)\n"
     ]
    },
    {
     "data": {
      "application/vnd.jupyter.widget-view+json": {
       "model_id": "",
       "version_major": 2,
       "version_minor": 0
      },
      "text/plain": [
       "HBox(children=(FloatProgress(value=0.0, description='Training', layout=Layout(flex='2'), max=1250.0, style=Pro…"
      ]
     },
     "metadata": {},
     "output_type": "display_data"
    },
    {
     "name": "stdout",
     "output_type": "stream",
     "text": [
      "Epoch 315: train=9.14648, val=8.83812, took 18.329 s\n",
      "  Validation Found 49986 of 54504, added 1186 (eff 91.71%) (0.119 FP/event)\n"
     ]
    },
    {
     "data": {
      "application/vnd.jupyter.widget-view+json": {
       "model_id": "",
       "version_major": 2,
       "version_minor": 0
      },
      "text/plain": [
       "HBox(children=(FloatProgress(value=0.0, description='Training', layout=Layout(flex='2'), max=1250.0, style=Pro…"
      ]
     },
     "metadata": {},
     "output_type": "display_data"
    },
    {
     "name": "stdout",
     "output_type": "stream",
     "text": [
      "Epoch 316: train=9.15286, val=8.83624, took 18.273 s\n",
      "  Validation Found 49979 of 54504, added 1187 (eff 91.70%) (0.119 FP/event)\n"
     ]
    },
    {
     "data": {
      "application/vnd.jupyter.widget-view+json": {
       "model_id": "",
       "version_major": 2,
       "version_minor": 0
      },
      "text/plain": [
       "HBox(children=(FloatProgress(value=0.0, description='Training', layout=Layout(flex='2'), max=1250.0, style=Pro…"
      ]
     },
     "metadata": {},
     "output_type": "display_data"
    },
    {
     "name": "stdout",
     "output_type": "stream",
     "text": [
      "Epoch 317: train=9.14769, val=8.8279, took 18.409 s\n",
      "  Validation Found 49999 of 54504, added 1192 (eff 91.73%) (0.119 FP/event)\n",
      "\n"
     ]
    },
    {
     "data": {
      "application/javascript": [
       "/* Put everything inside the global mpl namespace */\n",
       "window.mpl = {};\n",
       "\n",
       "\n",
       "mpl.get_websocket_type = function() {\n",
       "    if (typeof(WebSocket) !== 'undefined') {\n",
       "        return WebSocket;\n",
       "    } else if (typeof(MozWebSocket) !== 'undefined') {\n",
       "        return MozWebSocket;\n",
       "    } else {\n",
       "        alert('Your browser does not have WebSocket support. ' +\n",
       "              'Please try Chrome, Safari or Firefox ≥ 6. ' +\n",
       "              'Firefox 4 and 5 are also supported but you ' +\n",
       "              'have to enable WebSockets in about:config.');\n",
       "    };\n",
       "}\n",
       "\n",
       "mpl.figure = function(figure_id, websocket, ondownload, parent_element) {\n",
       "    this.id = figure_id;\n",
       "\n",
       "    this.ws = websocket;\n",
       "\n",
       "    this.supports_binary = (this.ws.binaryType != undefined);\n",
       "\n",
       "    if (!this.supports_binary) {\n",
       "        var warnings = document.getElementById(\"mpl-warnings\");\n",
       "        if (warnings) {\n",
       "            warnings.style.display = 'block';\n",
       "            warnings.textContent = (\n",
       "                \"This browser does not support binary websocket messages. \" +\n",
       "                    \"Performance may be slow.\");\n",
       "        }\n",
       "    }\n",
       "\n",
       "    this.imageObj = new Image();\n",
       "\n",
       "    this.context = undefined;\n",
       "    this.message = undefined;\n",
       "    this.canvas = undefined;\n",
       "    this.rubberband_canvas = undefined;\n",
       "    this.rubberband_context = undefined;\n",
       "    this.format_dropdown = undefined;\n",
       "\n",
       "    this.image_mode = 'full';\n",
       "\n",
       "    this.root = $('<div/>');\n",
       "    this._root_extra_style(this.root)\n",
       "    this.root.attr('style', 'display: inline-block');\n",
       "\n",
       "    $(parent_element).append(this.root);\n",
       "\n",
       "    this._init_header(this);\n",
       "    this._init_canvas(this);\n",
       "    this._init_toolbar(this);\n",
       "\n",
       "    var fig = this;\n",
       "\n",
       "    this.waiting = false;\n",
       "\n",
       "    this.ws.onopen =  function () {\n",
       "            fig.send_message(\"supports_binary\", {value: fig.supports_binary});\n",
       "            fig.send_message(\"send_image_mode\", {});\n",
       "            if (mpl.ratio != 1) {\n",
       "                fig.send_message(\"set_dpi_ratio\", {'dpi_ratio': mpl.ratio});\n",
       "            }\n",
       "            fig.send_message(\"refresh\", {});\n",
       "        }\n",
       "\n",
       "    this.imageObj.onload = function() {\n",
       "            if (fig.image_mode == 'full') {\n",
       "                // Full images could contain transparency (where diff images\n",
       "                // almost always do), so we need to clear the canvas so that\n",
       "                // there is no ghosting.\n",
       "                fig.context.clearRect(0, 0, fig.canvas.width, fig.canvas.height);\n",
       "            }\n",
       "            fig.context.drawImage(fig.imageObj, 0, 0);\n",
       "        };\n",
       "\n",
       "    this.imageObj.onunload = function() {\n",
       "        fig.ws.close();\n",
       "    }\n",
       "\n",
       "    this.ws.onmessage = this._make_on_message_function(this);\n",
       "\n",
       "    this.ondownload = ondownload;\n",
       "}\n",
       "\n",
       "mpl.figure.prototype._init_header = function() {\n",
       "    var titlebar = $(\n",
       "        '<div class=\"ui-dialog-titlebar ui-widget-header ui-corner-all ' +\n",
       "        'ui-helper-clearfix\"/>');\n",
       "    var titletext = $(\n",
       "        '<div class=\"ui-dialog-title\" style=\"width: 100%; ' +\n",
       "        'text-align: center; padding: 3px;\"/>');\n",
       "    titlebar.append(titletext)\n",
       "    this.root.append(titlebar);\n",
       "    this.header = titletext[0];\n",
       "}\n",
       "\n",
       "\n",
       "\n",
       "mpl.figure.prototype._canvas_extra_style = function(canvas_div) {\n",
       "\n",
       "}\n",
       "\n",
       "\n",
       "mpl.figure.prototype._root_extra_style = function(canvas_div) {\n",
       "\n",
       "}\n",
       "\n",
       "mpl.figure.prototype._init_canvas = function() {\n",
       "    var fig = this;\n",
       "\n",
       "    var canvas_div = $('<div/>');\n",
       "\n",
       "    canvas_div.attr('style', 'position: relative; clear: both; outline: 0');\n",
       "\n",
       "    function canvas_keyboard_event(event) {\n",
       "        return fig.key_event(event, event['data']);\n",
       "    }\n",
       "\n",
       "    canvas_div.keydown('key_press', canvas_keyboard_event);\n",
       "    canvas_div.keyup('key_release', canvas_keyboard_event);\n",
       "    this.canvas_div = canvas_div\n",
       "    this._canvas_extra_style(canvas_div)\n",
       "    this.root.append(canvas_div);\n",
       "\n",
       "    var canvas = $('<canvas/>');\n",
       "    canvas.addClass('mpl-canvas');\n",
       "    canvas.attr('style', \"left: 0; top: 0; z-index: 0; outline: 0\")\n",
       "\n",
       "    this.canvas = canvas[0];\n",
       "    this.context = canvas[0].getContext(\"2d\");\n",
       "\n",
       "    var backingStore = this.context.backingStorePixelRatio ||\n",
       "\tthis.context.webkitBackingStorePixelRatio ||\n",
       "\tthis.context.mozBackingStorePixelRatio ||\n",
       "\tthis.context.msBackingStorePixelRatio ||\n",
       "\tthis.context.oBackingStorePixelRatio ||\n",
       "\tthis.context.backingStorePixelRatio || 1;\n",
       "\n",
       "    mpl.ratio = (window.devicePixelRatio || 1) / backingStore;\n",
       "\n",
       "    var rubberband = $('<canvas/>');\n",
       "    rubberband.attr('style', \"position: absolute; left: 0; top: 0; z-index: 1;\")\n",
       "\n",
       "    var pass_mouse_events = true;\n",
       "\n",
       "    canvas_div.resizable({\n",
       "        start: function(event, ui) {\n",
       "            pass_mouse_events = false;\n",
       "        },\n",
       "        resize: function(event, ui) {\n",
       "            fig.request_resize(ui.size.width, ui.size.height);\n",
       "        },\n",
       "        stop: function(event, ui) {\n",
       "            pass_mouse_events = true;\n",
       "            fig.request_resize(ui.size.width, ui.size.height);\n",
       "        },\n",
       "    });\n",
       "\n",
       "    function mouse_event_fn(event) {\n",
       "        if (pass_mouse_events)\n",
       "            return fig.mouse_event(event, event['data']);\n",
       "    }\n",
       "\n",
       "    rubberband.mousedown('button_press', mouse_event_fn);\n",
       "    rubberband.mouseup('button_release', mouse_event_fn);\n",
       "    // Throttle sequential mouse events to 1 every 20ms.\n",
       "    rubberband.mousemove('motion_notify', mouse_event_fn);\n",
       "\n",
       "    rubberband.mouseenter('figure_enter', mouse_event_fn);\n",
       "    rubberband.mouseleave('figure_leave', mouse_event_fn);\n",
       "\n",
       "    canvas_div.on(\"wheel\", function (event) {\n",
       "        event = event.originalEvent;\n",
       "        event['data'] = 'scroll'\n",
       "        if (event.deltaY < 0) {\n",
       "            event.step = 1;\n",
       "        } else {\n",
       "            event.step = -1;\n",
       "        }\n",
       "        mouse_event_fn(event);\n",
       "    });\n",
       "\n",
       "    canvas_div.append(canvas);\n",
       "    canvas_div.append(rubberband);\n",
       "\n",
       "    this.rubberband = rubberband;\n",
       "    this.rubberband_canvas = rubberband[0];\n",
       "    this.rubberband_context = rubberband[0].getContext(\"2d\");\n",
       "    this.rubberband_context.strokeStyle = \"#000000\";\n",
       "\n",
       "    this._resize_canvas = function(width, height) {\n",
       "        // Keep the size of the canvas, canvas container, and rubber band\n",
       "        // canvas in synch.\n",
       "        canvas_div.css('width', width)\n",
       "        canvas_div.css('height', height)\n",
       "\n",
       "        canvas.attr('width', width * mpl.ratio);\n",
       "        canvas.attr('height', height * mpl.ratio);\n",
       "        canvas.attr('style', 'width: ' + width + 'px; height: ' + height + 'px;');\n",
       "\n",
       "        rubberband.attr('width', width);\n",
       "        rubberband.attr('height', height);\n",
       "    }\n",
       "\n",
       "    // Set the figure to an initial 600x600px, this will subsequently be updated\n",
       "    // upon first draw.\n",
       "    this._resize_canvas(600, 600);\n",
       "\n",
       "    // Disable right mouse context menu.\n",
       "    $(this.rubberband_canvas).bind(\"contextmenu\",function(e){\n",
       "        return false;\n",
       "    });\n",
       "\n",
       "    function set_focus () {\n",
       "        canvas.focus();\n",
       "        canvas_div.focus();\n",
       "    }\n",
       "\n",
       "    window.setTimeout(set_focus, 100);\n",
       "}\n",
       "\n",
       "mpl.figure.prototype._init_toolbar = function() {\n",
       "    var fig = this;\n",
       "\n",
       "    var nav_element = $('<div/>');\n",
       "    nav_element.attr('style', 'width: 100%');\n",
       "    this.root.append(nav_element);\n",
       "\n",
       "    // Define a callback function for later on.\n",
       "    function toolbar_event(event) {\n",
       "        return fig.toolbar_button_onclick(event['data']);\n",
       "    }\n",
       "    function toolbar_mouse_event(event) {\n",
       "        return fig.toolbar_button_onmouseover(event['data']);\n",
       "    }\n",
       "\n",
       "    for(var toolbar_ind in mpl.toolbar_items) {\n",
       "        var name = mpl.toolbar_items[toolbar_ind][0];\n",
       "        var tooltip = mpl.toolbar_items[toolbar_ind][1];\n",
       "        var image = mpl.toolbar_items[toolbar_ind][2];\n",
       "        var method_name = mpl.toolbar_items[toolbar_ind][3];\n",
       "\n",
       "        if (!name) {\n",
       "            // put a spacer in here.\n",
       "            continue;\n",
       "        }\n",
       "        var button = $('<button/>');\n",
       "        button.addClass('ui-button ui-widget ui-state-default ui-corner-all ' +\n",
       "                        'ui-button-icon-only');\n",
       "        button.attr('role', 'button');\n",
       "        button.attr('aria-disabled', 'false');\n",
       "        button.click(method_name, toolbar_event);\n",
       "        button.mouseover(tooltip, toolbar_mouse_event);\n",
       "\n",
       "        var icon_img = $('<span/>');\n",
       "        icon_img.addClass('ui-button-icon-primary ui-icon');\n",
       "        icon_img.addClass(image);\n",
       "        icon_img.addClass('ui-corner-all');\n",
       "\n",
       "        var tooltip_span = $('<span/>');\n",
       "        tooltip_span.addClass('ui-button-text');\n",
       "        tooltip_span.html(tooltip);\n",
       "\n",
       "        button.append(icon_img);\n",
       "        button.append(tooltip_span);\n",
       "\n",
       "        nav_element.append(button);\n",
       "    }\n",
       "\n",
       "    var fmt_picker_span = $('<span/>');\n",
       "\n",
       "    var fmt_picker = $('<select/>');\n",
       "    fmt_picker.addClass('mpl-toolbar-option ui-widget ui-widget-content');\n",
       "    fmt_picker_span.append(fmt_picker);\n",
       "    nav_element.append(fmt_picker_span);\n",
       "    this.format_dropdown = fmt_picker[0];\n",
       "\n",
       "    for (var ind in mpl.extensions) {\n",
       "        var fmt = mpl.extensions[ind];\n",
       "        var option = $(\n",
       "            '<option/>', {selected: fmt === mpl.default_extension}).html(fmt);\n",
       "        fmt_picker.append(option);\n",
       "    }\n",
       "\n",
       "    // Add hover states to the ui-buttons\n",
       "    $( \".ui-button\" ).hover(\n",
       "        function() { $(this).addClass(\"ui-state-hover\");},\n",
       "        function() { $(this).removeClass(\"ui-state-hover\");}\n",
       "    );\n",
       "\n",
       "    var status_bar = $('<span class=\"mpl-message\"/>');\n",
       "    nav_element.append(status_bar);\n",
       "    this.message = status_bar[0];\n",
       "}\n",
       "\n",
       "mpl.figure.prototype.request_resize = function(x_pixels, y_pixels) {\n",
       "    // Request matplotlib to resize the figure. Matplotlib will then trigger a resize in the client,\n",
       "    // which will in turn request a refresh of the image.\n",
       "    this.send_message('resize', {'width': x_pixels, 'height': y_pixels});\n",
       "}\n",
       "\n",
       "mpl.figure.prototype.send_message = function(type, properties) {\n",
       "    properties['type'] = type;\n",
       "    properties['figure_id'] = this.id;\n",
       "    this.ws.send(JSON.stringify(properties));\n",
       "}\n",
       "\n",
       "mpl.figure.prototype.send_draw_message = function() {\n",
       "    if (!this.waiting) {\n",
       "        this.waiting = true;\n",
       "        this.ws.send(JSON.stringify({type: \"draw\", figure_id: this.id}));\n",
       "    }\n",
       "}\n",
       "\n",
       "\n",
       "mpl.figure.prototype.handle_save = function(fig, msg) {\n",
       "    var format_dropdown = fig.format_dropdown;\n",
       "    var format = format_dropdown.options[format_dropdown.selectedIndex].value;\n",
       "    fig.ondownload(fig, format);\n",
       "}\n",
       "\n",
       "\n",
       "mpl.figure.prototype.handle_resize = function(fig, msg) {\n",
       "    var size = msg['size'];\n",
       "    if (size[0] != fig.canvas.width || size[1] != fig.canvas.height) {\n",
       "        fig._resize_canvas(size[0], size[1]);\n",
       "        fig.send_message(\"refresh\", {});\n",
       "    };\n",
       "}\n",
       "\n",
       "mpl.figure.prototype.handle_rubberband = function(fig, msg) {\n",
       "    var x0 = msg['x0'] / mpl.ratio;\n",
       "    var y0 = (fig.canvas.height - msg['y0']) / mpl.ratio;\n",
       "    var x1 = msg['x1'] / mpl.ratio;\n",
       "    var y1 = (fig.canvas.height - msg['y1']) / mpl.ratio;\n",
       "    x0 = Math.floor(x0) + 0.5;\n",
       "    y0 = Math.floor(y0) + 0.5;\n",
       "    x1 = Math.floor(x1) + 0.5;\n",
       "    y1 = Math.floor(y1) + 0.5;\n",
       "    var min_x = Math.min(x0, x1);\n",
       "    var min_y = Math.min(y0, y1);\n",
       "    var width = Math.abs(x1 - x0);\n",
       "    var height = Math.abs(y1 - y0);\n",
       "\n",
       "    fig.rubberband_context.clearRect(\n",
       "        0, 0, fig.canvas.width / mpl.ratio, fig.canvas.height / mpl.ratio);\n",
       "\n",
       "    fig.rubberband_context.strokeRect(min_x, min_y, width, height);\n",
       "}\n",
       "\n",
       "mpl.figure.prototype.handle_figure_label = function(fig, msg) {\n",
       "    // Updates the figure title.\n",
       "    fig.header.textContent = msg['label'];\n",
       "}\n",
       "\n",
       "mpl.figure.prototype.handle_cursor = function(fig, msg) {\n",
       "    var cursor = msg['cursor'];\n",
       "    switch(cursor)\n",
       "    {\n",
       "    case 0:\n",
       "        cursor = 'pointer';\n",
       "        break;\n",
       "    case 1:\n",
       "        cursor = 'default';\n",
       "        break;\n",
       "    case 2:\n",
       "        cursor = 'crosshair';\n",
       "        break;\n",
       "    case 3:\n",
       "        cursor = 'move';\n",
       "        break;\n",
       "    }\n",
       "    fig.rubberband_canvas.style.cursor = cursor;\n",
       "}\n",
       "\n",
       "mpl.figure.prototype.handle_message = function(fig, msg) {\n",
       "    fig.message.textContent = msg['message'];\n",
       "}\n",
       "\n",
       "mpl.figure.prototype.handle_draw = function(fig, msg) {\n",
       "    // Request the server to send over a new figure.\n",
       "    fig.send_draw_message();\n",
       "}\n",
       "\n",
       "mpl.figure.prototype.handle_image_mode = function(fig, msg) {\n",
       "    fig.image_mode = msg['mode'];\n",
       "}\n",
       "\n",
       "mpl.figure.prototype.updated_canvas_event = function() {\n",
       "    // Called whenever the canvas gets updated.\n",
       "    this.send_message(\"ack\", {});\n",
       "}\n",
       "\n",
       "// A function to construct a web socket function for onmessage handling.\n",
       "// Called in the figure constructor.\n",
       "mpl.figure.prototype._make_on_message_function = function(fig) {\n",
       "    return function socket_on_message(evt) {\n",
       "        if (evt.data instanceof Blob) {\n",
       "            /* FIXME: We get \"Resource interpreted as Image but\n",
       "             * transferred with MIME type text/plain:\" errors on\n",
       "             * Chrome.  But how to set the MIME type?  It doesn't seem\n",
       "             * to be part of the websocket stream */\n",
       "            evt.data.type = \"image/png\";\n",
       "\n",
       "            /* Free the memory for the previous frames */\n",
       "            if (fig.imageObj.src) {\n",
       "                (window.URL || window.webkitURL).revokeObjectURL(\n",
       "                    fig.imageObj.src);\n",
       "            }\n",
       "\n",
       "            fig.imageObj.src = (window.URL || window.webkitURL).createObjectURL(\n",
       "                evt.data);\n",
       "            fig.updated_canvas_event();\n",
       "            fig.waiting = false;\n",
       "            return;\n",
       "        }\n",
       "        else if (typeof evt.data === 'string' && evt.data.slice(0, 21) == \"data:image/png;base64\") {\n",
       "            fig.imageObj.src = evt.data;\n",
       "            fig.updated_canvas_event();\n",
       "            fig.waiting = false;\n",
       "            return;\n",
       "        }\n",
       "\n",
       "        var msg = JSON.parse(evt.data);\n",
       "        var msg_type = msg['type'];\n",
       "\n",
       "        // Call the  \"handle_{type}\" callback, which takes\n",
       "        // the figure and JSON message as its only arguments.\n",
       "        try {\n",
       "            var callback = fig[\"handle_\" + msg_type];\n",
       "        } catch (e) {\n",
       "            console.log(\"No handler for the '\" + msg_type + \"' message type: \", msg);\n",
       "            return;\n",
       "        }\n",
       "\n",
       "        if (callback) {\n",
       "            try {\n",
       "                // console.log(\"Handling '\" + msg_type + \"' message: \", msg);\n",
       "                callback(fig, msg);\n",
       "            } catch (e) {\n",
       "                console.log(\"Exception inside the 'handler_\" + msg_type + \"' callback:\", e, e.stack, msg);\n",
       "            }\n",
       "        }\n",
       "    };\n",
       "}\n",
       "\n",
       "// from http://stackoverflow.com/questions/1114465/getting-mouse-location-in-canvas\n",
       "mpl.findpos = function(e) {\n",
       "    //this section is from http://www.quirksmode.org/js/events_properties.html\n",
       "    var targ;\n",
       "    if (!e)\n",
       "        e = window.event;\n",
       "    if (e.target)\n",
       "        targ = e.target;\n",
       "    else if (e.srcElement)\n",
       "        targ = e.srcElement;\n",
       "    if (targ.nodeType == 3) // defeat Safari bug\n",
       "        targ = targ.parentNode;\n",
       "\n",
       "    // jQuery normalizes the pageX and pageY\n",
       "    // pageX,Y are the mouse positions relative to the document\n",
       "    // offset() returns the position of the element relative to the document\n",
       "    var x = e.pageX - $(targ).offset().left;\n",
       "    var y = e.pageY - $(targ).offset().top;\n",
       "\n",
       "    return {\"x\": x, \"y\": y};\n",
       "};\n",
       "\n",
       "/*\n",
       " * return a copy of an object with only non-object keys\n",
       " * we need this to avoid circular references\n",
       " * http://stackoverflow.com/a/24161582/3208463\n",
       " */\n",
       "function simpleKeys (original) {\n",
       "  return Object.keys(original).reduce(function (obj, key) {\n",
       "    if (typeof original[key] !== 'object')\n",
       "        obj[key] = original[key]\n",
       "    return obj;\n",
       "  }, {});\n",
       "}\n",
       "\n",
       "mpl.figure.prototype.mouse_event = function(event, name) {\n",
       "    var canvas_pos = mpl.findpos(event)\n",
       "\n",
       "    if (name === 'button_press')\n",
       "    {\n",
       "        this.canvas.focus();\n",
       "        this.canvas_div.focus();\n",
       "    }\n",
       "\n",
       "    var x = canvas_pos.x * mpl.ratio;\n",
       "    var y = canvas_pos.y * mpl.ratio;\n",
       "\n",
       "    this.send_message(name, {x: x, y: y, button: event.button,\n",
       "                             step: event.step,\n",
       "                             guiEvent: simpleKeys(event)});\n",
       "\n",
       "    /* This prevents the web browser from automatically changing to\n",
       "     * the text insertion cursor when the button is pressed.  We want\n",
       "     * to control all of the cursor setting manually through the\n",
       "     * 'cursor' event from matplotlib */\n",
       "    event.preventDefault();\n",
       "    return false;\n",
       "}\n",
       "\n",
       "mpl.figure.prototype._key_event_extra = function(event, name) {\n",
       "    // Handle any extra behaviour associated with a key event\n",
       "}\n",
       "\n",
       "mpl.figure.prototype.key_event = function(event, name) {\n",
       "\n",
       "    // Prevent repeat events\n",
       "    if (name == 'key_press')\n",
       "    {\n",
       "        if (event.which === this._key)\n",
       "            return;\n",
       "        else\n",
       "            this._key = event.which;\n",
       "    }\n",
       "    if (name == 'key_release')\n",
       "        this._key = null;\n",
       "\n",
       "    var value = '';\n",
       "    if (event.ctrlKey && event.which != 17)\n",
       "        value += \"ctrl+\";\n",
       "    if (event.altKey && event.which != 18)\n",
       "        value += \"alt+\";\n",
       "    if (event.shiftKey && event.which != 16)\n",
       "        value += \"shift+\";\n",
       "\n",
       "    value += 'k';\n",
       "    value += event.which.toString();\n",
       "\n",
       "    this._key_event_extra(event, name);\n",
       "\n",
       "    this.send_message(name, {key: value,\n",
       "                             guiEvent: simpleKeys(event)});\n",
       "    return false;\n",
       "}\n",
       "\n",
       "mpl.figure.prototype.toolbar_button_onclick = function(name) {\n",
       "    if (name == 'download') {\n",
       "        this.handle_save(this, null);\n",
       "    } else {\n",
       "        this.send_message(\"toolbar_button\", {name: name});\n",
       "    }\n",
       "};\n",
       "\n",
       "mpl.figure.prototype.toolbar_button_onmouseover = function(tooltip) {\n",
       "    this.message.textContent = tooltip;\n",
       "};\n",
       "mpl.toolbar_items = [[\"Home\", \"Reset original view\", \"fa fa-home icon-home\", \"home\"], [\"Back\", \"Back to previous view\", \"fa fa-arrow-left icon-arrow-left\", \"back\"], [\"Forward\", \"Forward to next view\", \"fa fa-arrow-right icon-arrow-right\", \"forward\"], [\"\", \"\", \"\", \"\"], [\"Pan\", \"Pan axes with left mouse, zoom with right\", \"fa fa-arrows icon-move\", \"pan\"], [\"Zoom\", \"Zoom to rectangle\", \"fa fa-square-o icon-check-empty\", \"zoom\"], [\"\", \"\", \"\", \"\"], [\"Download\", \"Download plot\", \"fa fa-floppy-o icon-save\", \"download\"]];\n",
       "\n",
       "mpl.extensions = [\"eps\", \"jpeg\", \"pdf\", \"png\", \"ps\", \"raw\", \"svg\", \"tif\"];\n",
       "\n",
       "mpl.default_extension = \"png\";var comm_websocket_adapter = function(comm) {\n",
       "    // Create a \"websocket\"-like object which calls the given IPython comm\n",
       "    // object with the appropriate methods. Currently this is a non binary\n",
       "    // socket, so there is still some room for performance tuning.\n",
       "    var ws = {};\n",
       "\n",
       "    ws.close = function() {\n",
       "        comm.close()\n",
       "    };\n",
       "    ws.send = function(m) {\n",
       "        //console.log('sending', m);\n",
       "        comm.send(m);\n",
       "    };\n",
       "    // Register the callback with on_msg.\n",
       "    comm.on_msg(function(msg) {\n",
       "        //console.log('receiving', msg['content']['data'], msg);\n",
       "        // Pass the mpl event to the overridden (by mpl) onmessage function.\n",
       "        ws.onmessage(msg['content']['data'])\n",
       "    });\n",
       "    return ws;\n",
       "}\n",
       "\n",
       "mpl.mpl_figure_comm = function(comm, msg) {\n",
       "    // This is the function which gets called when the mpl process\n",
       "    // starts-up an IPython Comm through the \"matplotlib\" channel.\n",
       "\n",
       "    var id = msg.content.data.id;\n",
       "    // Get hold of the div created by the display call when the Comm\n",
       "    // socket was opened in Python.\n",
       "    var element = $(\"#\" + id);\n",
       "    var ws_proxy = comm_websocket_adapter(comm)\n",
       "\n",
       "    function ondownload(figure, format) {\n",
       "        window.open(figure.imageObj.src);\n",
       "    }\n",
       "\n",
       "    var fig = new mpl.figure(id, ws_proxy,\n",
       "                           ondownload,\n",
       "                           element.get(0));\n",
       "\n",
       "    // Call onopen now - mpl needs it, as it is assuming we've passed it a real\n",
       "    // web socket which is closed, not our websocket->open comm proxy.\n",
       "    ws_proxy.onopen();\n",
       "\n",
       "    fig.parent_element = element.get(0);\n",
       "    fig.cell_info = mpl.find_output_cell(\"<div id='\" + id + \"'></div>\");\n",
       "    if (!fig.cell_info) {\n",
       "        console.error(\"Failed to find cell for figure\", id, fig);\n",
       "        return;\n",
       "    }\n",
       "\n",
       "    var output_index = fig.cell_info[2]\n",
       "    var cell = fig.cell_info[0];\n",
       "\n",
       "};\n",
       "\n",
       "mpl.figure.prototype.handle_close = function(fig, msg) {\n",
       "    var width = fig.canvas.width/mpl.ratio\n",
       "    fig.root.unbind('remove')\n",
       "\n",
       "    // Update the output cell to use the data from the current canvas.\n",
       "    fig.push_to_output();\n",
       "    var dataURL = fig.canvas.toDataURL();\n",
       "    // Re-enable the keyboard manager in IPython - without this line, in FF,\n",
       "    // the notebook keyboard shortcuts fail.\n",
       "    IPython.keyboard_manager.enable()\n",
       "    $(fig.parent_element).html('<img src=\"' + dataURL + '\" width=\"' + width + '\">');\n",
       "    fig.close_ws(fig, msg);\n",
       "}\n",
       "\n",
       "mpl.figure.prototype.close_ws = function(fig, msg){\n",
       "    fig.send_message('closing', msg);\n",
       "    // fig.ws.close()\n",
       "}\n",
       "\n",
       "mpl.figure.prototype.push_to_output = function(remove_interactive) {\n",
       "    // Turn the data on the canvas into data in the output cell.\n",
       "    var width = this.canvas.width/mpl.ratio\n",
       "    var dataURL = this.canvas.toDataURL();\n",
       "    this.cell_info[1]['text/html'] = '<img src=\"' + dataURL + '\" width=\"' + width + '\">';\n",
       "}\n",
       "\n",
       "mpl.figure.prototype.updated_canvas_event = function() {\n",
       "    // Tell IPython that the notebook contents must change.\n",
       "    IPython.notebook.set_dirty(true);\n",
       "    this.send_message(\"ack\", {});\n",
       "    var fig = this;\n",
       "    // Wait a second, then push the new image to the DOM so\n",
       "    // that it is saved nicely (might be nice to debounce this).\n",
       "    setTimeout(function () { fig.push_to_output() }, 1000);\n",
       "}\n",
       "\n",
       "mpl.figure.prototype._init_toolbar = function() {\n",
       "    var fig = this;\n",
       "\n",
       "    var nav_element = $('<div/>');\n",
       "    nav_element.attr('style', 'width: 100%');\n",
       "    this.root.append(nav_element);\n",
       "\n",
       "    // Define a callback function for later on.\n",
       "    function toolbar_event(event) {\n",
       "        return fig.toolbar_button_onclick(event['data']);\n",
       "    }\n",
       "    function toolbar_mouse_event(event) {\n",
       "        return fig.toolbar_button_onmouseover(event['data']);\n",
       "    }\n",
       "\n",
       "    for(var toolbar_ind in mpl.toolbar_items){\n",
       "        var name = mpl.toolbar_items[toolbar_ind][0];\n",
       "        var tooltip = mpl.toolbar_items[toolbar_ind][1];\n",
       "        var image = mpl.toolbar_items[toolbar_ind][2];\n",
       "        var method_name = mpl.toolbar_items[toolbar_ind][3];\n",
       "\n",
       "        if (!name) { continue; };\n",
       "\n",
       "        var button = $('<button class=\"btn btn-default\" href=\"#\" title=\"' + name + '\"><i class=\"fa ' + image + ' fa-lg\"></i></button>');\n",
       "        button.click(method_name, toolbar_event);\n",
       "        button.mouseover(tooltip, toolbar_mouse_event);\n",
       "        nav_element.append(button);\n",
       "    }\n",
       "\n",
       "    // Add the status bar.\n",
       "    var status_bar = $('<span class=\"mpl-message\" style=\"text-align:right; float: right;\"/>');\n",
       "    nav_element.append(status_bar);\n",
       "    this.message = status_bar[0];\n",
       "\n",
       "    // Add the close button to the window.\n",
       "    var buttongrp = $('<div class=\"btn-group inline pull-right\"></div>');\n",
       "    var button = $('<button class=\"btn btn-mini btn-primary\" href=\"#\" title=\"Stop Interaction\"><i class=\"fa fa-power-off icon-remove icon-large\"></i></button>');\n",
       "    button.click(function (evt) { fig.handle_close(fig, {}); } );\n",
       "    button.mouseover('Stop Interaction', toolbar_mouse_event);\n",
       "    buttongrp.append(button);\n",
       "    var titlebar = this.root.find($('.ui-dialog-titlebar'));\n",
       "    titlebar.prepend(buttongrp);\n",
       "}\n",
       "\n",
       "mpl.figure.prototype._root_extra_style = function(el){\n",
       "    var fig = this\n",
       "    el.on(\"remove\", function(){\n",
       "\tfig.close_ws(fig, {});\n",
       "    });\n",
       "}\n",
       "\n",
       "mpl.figure.prototype._canvas_extra_style = function(el){\n",
       "    // this is important to make the div 'focusable\n",
       "    el.attr('tabindex', 0)\n",
       "    // reach out to IPython and tell the keyboard manager to turn it's self\n",
       "    // off when our div gets focus\n",
       "\n",
       "    // location in version 3\n",
       "    if (IPython.notebook.keyboard_manager) {\n",
       "        IPython.notebook.keyboard_manager.register_events(el);\n",
       "    }\n",
       "    else {\n",
       "        // location in version 2\n",
       "        IPython.keyboard_manager.register_events(el);\n",
       "    }\n",
       "\n",
       "}\n",
       "\n",
       "mpl.figure.prototype._key_event_extra = function(event, name) {\n",
       "    var manager = IPython.notebook.keyboard_manager;\n",
       "    if (!manager)\n",
       "        manager = IPython.keyboard_manager;\n",
       "\n",
       "    // Check for shift+enter\n",
       "    if (event.shiftKey && event.which == 13) {\n",
       "        this.canvas_div.blur();\n",
       "        // select the cell after this one\n",
       "        var index = IPython.notebook.find_cell_index(this.cell_info[0]);\n",
       "        IPython.notebook.select(index + 1);\n",
       "    }\n",
       "}\n",
       "\n",
       "mpl.figure.prototype.handle_save = function(fig, msg) {\n",
       "    fig.ondownload(fig, null);\n",
       "}\n",
       "\n",
       "\n",
       "mpl.find_output_cell = function(html_output) {\n",
       "    // Return the cell and output element which can be found *uniquely* in the notebook.\n",
       "    // Note - this is a bit hacky, but it is done because the \"notebook_saving.Notebook\"\n",
       "    // IPython event is triggered only after the cells have been serialised, which for\n",
       "    // our purposes (turning an active figure into a static one), is too late.\n",
       "    var cells = IPython.notebook.get_cells();\n",
       "    var ncells = cells.length;\n",
       "    for (var i=0; i<ncells; i++) {\n",
       "        var cell = cells[i];\n",
       "        if (cell.cell_type === 'code'){\n",
       "            for (var j=0; j<cell.output_area.outputs.length; j++) {\n",
       "                var data = cell.output_area.outputs[j];\n",
       "                if (data.data) {\n",
       "                    // IPython >= 3 moved mimebundle to data attribute of output\n",
       "                    data = data.data;\n",
       "                }\n",
       "                if (data['text/html'] == html_output) {\n",
       "                    return [cell, data, j];\n",
       "                }\n",
       "            }\n",
       "        }\n",
       "    }\n",
       "}\n",
       "\n",
       "// Register the function which deals with the matplotlib target/channel.\n",
       "// The kernel may be null if the page has been refreshed.\n",
       "if (IPython.notebook.kernel != null) {\n",
       "    IPython.notebook.kernel.comm_manager.register_target('matplotlib', mpl.mpl_figure_comm);\n",
       "}\n"
      ],
      "text/plain": [
       "<IPython.core.display.Javascript object>"
      ]
     },
     "metadata": {},
     "output_type": "display_data"
    },
    {
     "data": {
      "text/html": [
       "<img src=\"data:image/png;base64,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\" width=\"1000\">"
      ],
      "text/plain": [
       "<IPython.core.display.HTML object>"
      ]
     },
     "metadata": {},
     "output_type": "display_data"
    }
   ],
   "source": [
    "print('for model: ', model)   \n",
    "run_name = 'SCNN to ACNN A'\n",
    "# Create an mlflow run\n",
    "with mlflow.start_run(run_name=run_name) as run:\n",
    "    # Log parameters of the model\n",
    "    for key, value in vars(args).items():\n",
    "        print(key, value)\n",
    "        mlflow.log_param(key, value)\n",
    "    \n",
    "    # Log parameter count in the model\n",
    "    mlflow.log_param('Parameters', count_parameters(model))\n",
    "    \n",
    "    # Begin run\n",
    "    for result in trainNet(model, optimizer, loss,\n",
    "                            train_loader, val_loader,\n",
    "                            args.epochs+args.epoch_start, epoch_start=args.epoch_start,\n",
    "                            notebook=True, device=device):\n",
    "\n",
    "        result = result._asdict()\n",
    "        results = results.append(pd.Series(result), ignore_index=True)\n",
    "        xs = results.index\n",
    "\n",
    "        # Update the plot above\n",
    "        lines['train'].set_data(results.index, results.cost)\n",
    "        lines['val'].set_data(results.index, results.val)\n",
    "\n",
    "        #filter first cost epoch (can be really large)\n",
    "        max_cost = max(max(results.cost if len(results.cost)<2 else results.cost[1:]), max(results.val))\n",
    "        min_cost = min(min(results.cost), min(results.val))\n",
    "    \n",
    "        # The plot limits need updating too\n",
    "        ax.set_ylim(min_cost*.9, max_cost*1.1)  \n",
    "        ax.set_xlim(-.5, len(results.cost) - .5)\n",
    "    \n",
    "        replace_in_ax(lax, lines['eff'], xs, results['eff_val'].apply(lambda x: x.eff_rate))\n",
    "        replace_in_ax(tax, lines['fp'], xs, results['eff_val'].apply(lambda x: x.fp_rate)) \n",
    "            \n",
    "        # Redraw the figure\n",
    "        fig.canvas.draw()  \n",
    "        \n",
    "        ## MLFLOW ##\n",
    "        # Log metrics\n",
    "        mlflow.log_metric('Efficiency', result['eff_val'].eff_rate, result['epoch'])\n",
    "        mlflow.log_metric('False Positive Rate',  result['eff_val'].fp_rate, result['epoch'])\n",
    "        mlflow.log_metric('Validation Loss',  result['val'], result['epoch'])\n",
    "        mlflow.log_metric('Training Loss',  result['cost'], result['epoch'])\n",
    "            \n",
    "        # Log tags\n",
    "#        mlflow.set_tag('Optimizer', 'Adam')\n",
    "#        mlflow.set_tag('Kernel size', 'Mixed')\n",
    "#        mlflow.set_tag('Skip connections', '4')\n",
    "#        mlflow.set_tag('Activation', 'Softplus')\n",
    "#        mlflow.set_tag('Mid Activation', 'Relu')\n",
    "        mlflow.set_tag('Extra Data', 'False')\n",
    "\n",
    "        # Save model state dictionary, optimizer state dictionary, and epoch number\n",
    "        torch.save({\n",
    "            'model':model.state_dict(),\n",
    "            'optimizer':optimizer.state_dict(),\n",
    "            'epoch':args.epochs+result['epoch']\n",
    "            }, 'run_stats.pyt')\n",
    "        # Save the run stats into mlflow\n",
    "        mlflow.log_artifact('run_stats.pyt')\n",
    "        \n",
    "    dual_train_plots(results.index,\n",
    "                 results.cost, results.val, \n",
    "                 results['eff_val'].apply(lambda x: x.eff_rate),\n",
    "                 results['eff_val'].apply(lambda x: x.fp_rate))\n",
    "    plt.tight_layout()\n",
    "    # save plot\n",
    "    fig.savefig('plot.png')  \n",
    "    mlflow.log_artifact('plot.png')"
   ]
  },
  {
   "cell_type": "code",
   "execution_count": 13,
   "metadata": {},
   "outputs": [],
   "source": [
    "##quit()"
   ]
  }
 ],
 "metadata": {
  "kernelspec": {
   "display_name": "goofit-june2020",
   "language": "python",
   "name": "goofit-june2020"
  },
  "language_info": {
   "codemirror_mode": {
    "name": "ipython",
    "version": 3
   },
   "file_extension": ".py",
   "mimetype": "text/x-python",
   "name": "python",
   "nbconvert_exporter": "python",
   "pygments_lexer": "ipython3",
   "version": "3.7.6"
  }
 },
 "nbformat": 4,
 "nbformat_minor": 2
}
