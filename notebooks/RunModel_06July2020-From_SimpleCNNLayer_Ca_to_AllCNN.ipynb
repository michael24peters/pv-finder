{
 "cells": [
  {
   "cell_type": "code",
   "execution_count": 1,
   "metadata": {},
   "outputs": [],
   "source": [
    "##%matplotlib widget\n",
    "## with %matplotlib notebook: seems to require ipympl as part of environment, either\n",
    "## part of the conda environment or \"pip install ipympl\"\n",
    "## otherwise, does not show ANY plots in notebook, plt.savefig() works\n",
    "%matplotlib notebook  \n",
    "##%matplotlib inline    ## --plt.savefig()  works, but re-sizing does NOT"
   ]
  },
  {
   "cell_type": "markdown",
   "metadata": {},
   "source": [
    "This notebook is a short demo to illustrate execution.   For odd historical reasons, it uses \"toy Monte Carlo\" (simulated data)for \"training\" and \"full LHCB MC\" for validation.\n",
    "\n",
    "The network architecture is a \"simple\" model that uses 1 input channel (the KDE [kernel density estimator] but from the track parameters) feeding 5 convolutional layers followed by a fully connected layer.\n",
    "\n",
    "In today's version, the network will start with weights from a previously trained version.\n",
    " "
   ]
  },
  {
   "cell_type": "markdown",
   "metadata": {},
   "source": [
    "Check the current GPU usage. Please try to be nice!"
   ]
  },
  {
   "cell_type": "code",
   "execution_count": 2,
   "metadata": {},
   "outputs": [
    {
     "name": "stdout",
     "output_type": "stream",
     "text": [
      "Wed Jul 29 14:16:13 2020       \r\n",
      "+-----------------------------------------------------------------------------+\r\n",
      "| NVIDIA-SMI 440.64.00    Driver Version: 440.64.00    CUDA Version: 10.2     |\r\n",
      "|-------------------------------+----------------------+----------------------+\r\n",
      "| GPU  Name        Persistence-M| Bus-Id        Disp.A | Volatile Uncorr. ECC |\r\n",
      "| Fan  Temp  Perf  Pwr:Usage/Cap|         Memory-Usage | GPU-Util  Compute M. |\r\n",
      "|===============================+======================+======================|\r\n",
      "|   0  TITAN V             Off  | 00000000:03:00.0 Off |                  N/A |\r\n",
      "| 35%   51C    P2    74W / 250W |   6613MiB / 12066MiB |     87%      Default |\r\n",
      "+-------------------------------+----------------------+----------------------+\r\n",
      "|   1  Tesla P100-PCIE...  Off  | 00000000:83:00.0 Off |                    0 |\r\n",
      "| N/A   33C    P0    27W / 250W |      0MiB / 16280MiB |      0%      Default |\r\n",
      "+-------------------------------+----------------------+----------------------+\r\n",
      "|   2  TITAN V             Off  | 00000000:84:00.0 Off |                  N/A |\r\n",
      "| 28%   36C    P8    25W / 250W |      0MiB / 12066MiB |      0%      Default |\r\n",
      "+-------------------------------+----------------------+----------------------+\r\n",
      "                                                                               \r\n",
      "+-----------------------------------------------------------------------------+\r\n",
      "| Processes:                                                       GPU Memory |\r\n",
      "|  GPU       PID   Type   Process name                             Usage      |\r\n",
      "|=============================================================================|\r\n",
      "|    0     33960      C   ...a/conda/envs/goofit-june2020/bin/python  6601MiB |\r\n",
      "+-----------------------------------------------------------------------------+\r\n"
     ]
    }
   ],
   "source": [
    "!nvidia-smi"
   ]
  },
  {
   "cell_type": "markdown",
   "metadata": {},
   "source": [
    "> **WARNING**: The card numbers here are *not* the same as in CUDA. You have been warned."
   ]
  },
  {
   "cell_type": "markdown",
   "metadata": {},
   "source": [
    "## Imports"
   ]
  },
  {
   "cell_type": "code",
   "execution_count": 3,
   "metadata": {},
   "outputs": [],
   "source": [
    "import matplotlib.pyplot as plt\n",
    "import numpy as np\n",
    "import time\n",
    "import torch\n",
    "import pandas as pd\n",
    "import mlflow\n",
    "\n",
    "# Python 3 standard library\n",
    "from pathlib import Path\n",
    "\n",
    "from torchsummary import summary\n",
    "\n",
    "'''\n",
    "HELPER FUNCTIONS\n",
    "'''\n",
    "# From model/collectdata.py\n",
    "from model.collectdata_mdsA import collect_data\n",
    "\n",
    "# From model/loss.py\n",
    "##from loss import Loss\n",
    "from model.alt_loss_A import Loss\n",
    "\n",
    "# From model/training.py\n",
    "from model.training import trainNet, select_gpu, Results\n",
    "\n",
    "# From model/models.py\n",
    "##  will start with model from TwoFeatures_CNN6Layer_A in the first instance\n",
    "##  see relevant cell below\n",
    "\n",
    "from model.models_mjp_07July2020 import All_CNN6Layer_A as ModelA\n",
    "from model.models_mjp_07July2020 import All_CNN6Layer_B as ModelB\n",
    "from model.models_mjp_07July2020 import All_CNN6Layer_C as ModelC\n",
    "from model.models_mjp_07July2020 import All_CNN6Layer_D as ModelD\n",
    "from model.models_mjp_07July2020 import All_CNN6Layer_E as ModelE\n",
    "from model.models_mjp_07July2020 import All_CNN6Layer_F as ModelF\n",
    "from model.models_mjp_07July2020 import All_CNN6Layer_G as ModelG\n",
    "from model.models_mjp_07July2020 import All_CNN6Layer_H as ModelH\n",
    "from model.models_mjp_07July2020 import All_CNN6Layer_I as ModelI\n",
    "from model.models_mjp_07July2020 import All_CNN6Layer_J as ModelJ\n",
    "from model.models_mjp_07July2020 import All_CNN6Layer_K as ModelK\n",
    "from model.models_mjp_07July2020 import All_CNN6Layer_L as ModelL\n",
    "from model.models_mjp_07July2020 import All_CNN6Layer_M as ModelM\n",
    "from model.models_mjp_07July2020 import All_CNN6Layer_N as ModelN\n",
    "\n",
    "# From model/utilities.py\n",
    "from model.utilities import load_full_state, count_parameters, Params\n",
    "\n",
    "from model.plots import dual_train_plots, replace_in_ax\n",
    "\n",
    "## adds image of model architecture\n",
    "import hiddenlayer as HL"
   ]
  },
  {
   "cell_type": "markdown",
   "metadata": {},
   "source": [
    "Set up Torch device configuration. All tensors and model parameters need to know where to be put.\n",
    "This takes a BUS ID number: The BUS ID is the same as the listing at the top of this script."
   ]
  },
  {
   "cell_type": "code",
   "execution_count": 4,
   "metadata": {
    "scrolled": true
   },
   "outputs": [
    {
     "name": "stdout",
     "output_type": "stream",
     "text": [
      "1 available GPUs (initially using device 0):\n",
      "  0 Tesla P100-PCIE-16GB\n"
     ]
    }
   ],
   "source": [
    "device = select_gpu(1)"
   ]
  },
  {
   "cell_type": "markdown",
   "metadata": {},
   "source": [
    "### Set up local parameters"
   ]
  },
  {
   "cell_type": "code",
   "execution_count": 5,
   "metadata": {},
   "outputs": [],
   "source": [
    "# params order - batch size, epochs, lr, epoch_start (which is usually set to 0)\n",
    "args = Params(128, 200, 1e-3, 220)"
   ]
  },
  {
   "cell_type": "markdown",
   "metadata": {},
   "source": [
    "## Loading data\n",
    "\n",
    "Load the dataset, split into parts, then move to device (see `collectdata.py` in the `../model` directory)"
   ]
  },
  {
   "cell_type": "code",
   "execution_count": 6,
   "metadata": {
    "scrolled": true
   },
   "outputs": [
    {
     "name": "stdout",
     "output_type": "stream",
     "text": [
      "Loading data...\n",
      "Loaded /share/lazy/sokoloff/ML-data_A/Aug14_80K_train.h5 in 12.26 s\n",
      "Loaded /share/lazy/sokoloff/ML-data_AA/Oct03_80K_train.h5 in 12.26 s\n",
      "Constructing 160000 event dataset took 3.676 s\n",
      "Loading data...\n",
      "Loaded /share/lazy/sokoloff/ML-data_AA/Oct03_20K_val.h5 in 3.02 s\n",
      "Constructing 9984 event dataset took 0.08918 s\n"
     ]
    }
   ],
   "source": [
    "## newer vernacular\n",
    "## Training dataset. You can put as many files here as desired.\n",
    "\n",
    "## in this DEMO example we use only one 80K training set -- the model starts with well-trained weights,\n",
    "## and using a smaller training set reduces both the time to load the data and the time to train an epoch\n",
    "##  set the option load_XandXsq = True to use both DKE and KDE^2 as input features\n",
    "train_loader = collect_data('/share/lazy/sokoloff/ML-data_A/Aug14_80K_train.h5',\n",
    "                             '/share/lazy/sokoloff/ML-data_AA/Oct03_80K_train.h5',\n",
    "#                             '/share/lazy/sokoloff/ML-data_AA/Oct03_40K_train.h5',\n",
    "#                             '/share/lazy/will/ML_mdsA/June30_2020_80k_1.h5',\n",
    "#                             '/share/lazy/will/ML_mdsA/June30_2020_80k_3.h5',\n",
    "#                             '/share/lazy/will/ML_mdsA/June30_2020_80k_4.h5',\n",
    "#                             '/share/lazy/will/ML_mdsA/June30_2020_80k_5.h5',\n",
    "#                             '/share/lazy/will/ML_mdsA/June30_2020_80k_6.h5',\n",
    "#                             '/share/lazy/will/ML_mdsA/June30_2020_80k_7.h5',\n",
    "#                             '/share/lazy/will/ML_mdsA/June30_2020_80k_8.h5',\n",
    "#                             '/share/lazy/will/ML_mdsA/June30_2020_80k_9.h5',\n",
    "                            #'/share/lazy/sokoloff/ML-data_AA/Oct03_80K2_train.h5',\n",
    "                             batch_size=args.batch_size,\n",
    "## if we are using a larger dataset (240K events, with the datasets above, and 11 GB  of GPU memory),\n",
    "## not the dataset will overflow the GPU memory; device=device will allow the data to move back\n",
    "## and forth between the CPU and GPU memory. While this allows use of a larger dataset, it slows\n",
    "## down performance by about 10%.  So comment out when not needed.\n",
    "                            device=device,\n",
    "                            masking=True, shuffle=True,\n",
    "                            load_XandXsq=False,\n",
    "                            load_xy=False)\n",
    "\n",
    "# Validation dataset. You can slice to reduce the size.\n",
    "## dataAA -> /share/lazy/sokoloff/ML-data_AA/\n",
    "val_loader = collect_data('/share/lazy/sokoloff/ML-data_AA/Oct03_20K_val.h5',\n",
    "## mds val_loader = collect_data('dataAA/HLT1CPU_1kevts_val.h5',\n",
    "\n",
    "                          batch_size=args.batch_size,\n",
    "                          slice=slice(256 * 39),\n",
    "                          device=device,\n",
    "                          masking=True, shuffle=False,\n",
    "                          load_XandXsq=False,\n",
    "                          load_xy=False)"
   ]
  },
  {
   "cell_type": "markdown",
   "metadata": {},
   "source": [
    "# Preparing the model"
   ]
  },
  {
   "cell_type": "markdown",
   "metadata": {},
   "source": [
    "Prepare a model, use multiple GPUs if they are VISIBLE, and move the model to the device."
   ]
  },
  {
   "cell_type": "code",
   "execution_count": 7,
   "metadata": {
    "scrolled": true
   },
   "outputs": [
    {
     "name": "stderr",
     "output_type": "stream",
     "text": [
      "WARNING:root:Malformed experiment 'ML'. Detailed error Yaml file '/share/lazy/pv-finder_model_repo/ML/meta.yaml' does not exist.\n",
      "Traceback (most recent call last):\n",
      "  File \"/home/michael24peters/.local/lib/python3.7/site-packages/mlflow/store/tracking/file_store.py\", line 197, in list_experiments\n",
      "    experiment = self._get_experiment(exp_id, view_type)\n",
      "  File \"/home/michael24peters/.local/lib/python3.7/site-packages/mlflow/store/tracking/file_store.py\", line 260, in _get_experiment\n",
      "    meta = read_yaml(experiment_dir, FileStore.META_DATA_FILE_NAME)\n",
      "  File \"/home/michael24peters/.local/lib/python3.7/site-packages/mlflow/utils/file_utils.py\", line 167, in read_yaml\n",
      "    raise MissingConfigException(\"Yaml file '%s' does not exist.\" % file_path)\n",
      "mlflow.exceptions.MissingConfigException: Yaml file '/share/lazy/pv-finder_model_repo/ML/meta.yaml' does not exist.\n"
     ]
    }
   ],
   "source": [
    "model = ModelM()\n",
    "\n",
    "##summary(model, input_size=(4, 4000))\n",
    "##print(model.parameters)\n",
    "\n",
    "mlflow.tracking.set_tracking_uri('file:/share/lazy/pv-finder_model_repo')\n",
    "mlflow.set_experiment('ALLCNN')"
   ]
  },
  {
   "cell_type": "code",
   "execution_count": 8,
   "metadata": {
    "scrolled": true
   },
   "outputs": [
    {
     "name": "stdout",
     "output_type": "stream",
     "text": [
      "Let's use 1 GPUs!\n"
     ]
    }
   ],
   "source": [
    "print(\"Let's use\", torch.cuda.device_count(), \"GPUs!\")\n",
    "if torch.cuda.device_count() > 1:\n",
    "    model = torch.nn.DataParallel(model)"
   ]
  },
  {
   "cell_type": "code",
   "execution_count": 9,
   "metadata": {},
   "outputs": [
    {
     "name": "stdout",
     "output_type": "stream",
     "text": [
      "we also froze 5 weights\n",
      "Of the 6.0 parameter layers to update in the current model, 5.0 were loaded\n"
     ]
    }
   ],
   "source": [
    "##  mds 200121 loss = Loss(epsilon=1e-5,coefficient=1.0)\n",
    "loss = Loss(epsilon=1e-5,coefficient=2.5)\n",
    "optimizer = torch.optim.Adam(model.parameters(), lr=args.lr)\n",
    "\n",
    "##  use the first five layers from a pre-existing model\n",
    "##  see example at https://discuss.pytorch.org/t/how-to-load-part-of-pre-trained-model/1113\n",
    "##   ML -> /share/lazy/sokoloff/ML\n",
    "\n",
    "#path = 'run_stats.pyt'\n",
    "#load_full_state(model, optimizer, path, freeze_weights=True)\n",
    "# For other pretrained models, go to MLFlow and find the path for \"run_stats.pyt\"\n",
    "pretrained_dict = '/share/lazy/pv-finder_model_repo/7/583bfb2c0d5c44b1bfd4a4964ebfc264/artifacts/run_stats.pyt'\n",
    "load_full_state(model, optimizer, pretrained_dict, freeze_weights=True)"
   ]
  },
  {
   "cell_type": "markdown",
   "metadata": {},
   "source": [
    "Let's move the model's weight matricies to the GPU:"
   ]
  },
  {
   "cell_type": "code",
   "execution_count": 10,
   "metadata": {
    "scrolled": true
   },
   "outputs": [
    {
     "data": {
      "text/plain": [
       "All_CNN6Layer_M(\n",
       "  (conv1): Conv1d(1, 6, kernel_size=(11,), stride=(1,), padding=(5,))\n",
       "  (conv2): Conv1d(6, 6, kernel_size=(9,), stride=(1,), padding=(4,))\n",
       "  (conv3): Conv1d(6, 6, kernel_size=(9,), stride=(1,), padding=(4,))\n",
       "  (conv4): Conv1d(6, 6, kernel_size=(9,), stride=(1,), padding=(4,))\n",
       "  (conv5): Conv1d(6, 1, kernel_size=(5,), stride=(1,), padding=(2,))\n",
       "  (finalFilter): Conv1d(1, 1, kernel_size=(91,), stride=(1,), padding=(45,))\n",
       "  (conv1dropout): Dropout(p=0.15, inplace=False)\n",
       "  (conv2dropout): Dropout(p=0.15, inplace=False)\n",
       "  (conv3dropout): Dropout(p=0.15, inplace=False)\n",
       "  (conv4dropout): Dropout(p=0.15, inplace=False)\n",
       "  (conv5dropout): Dropout(p=0.15, inplace=False)\n",
       ")"
      ]
     },
     "execution_count": 10,
     "metadata": {},
     "output_type": "execute_result"
    }
   ],
   "source": [
    "model.to(device)"
   ]
  },
  {
   "cell_type": "markdown",
   "metadata": {},
   "source": [
    "## Train \n",
    "\n",
    "\n",
    "\n",
    "The body of this loop runs once per epoch. Results is a named tuple of values (loss per epoch for training and validation, time each). Start by setting up a plot first:"
   ]
  },
  {
   "cell_type": "code",
   "execution_count": 11,
   "metadata": {},
   "outputs": [
    {
     "data": {
      "application/javascript": [
       "/* Put everything inside the global mpl namespace */\n",
       "window.mpl = {};\n",
       "\n",
       "\n",
       "mpl.get_websocket_type = function() {\n",
       "    if (typeof(WebSocket) !== 'undefined') {\n",
       "        return WebSocket;\n",
       "    } else if (typeof(MozWebSocket) !== 'undefined') {\n",
       "        return MozWebSocket;\n",
       "    } else {\n",
       "        alert('Your browser does not have WebSocket support. ' +\n",
       "              'Please try Chrome, Safari or Firefox ≥ 6. ' +\n",
       "              'Firefox 4 and 5 are also supported but you ' +\n",
       "              'have to enable WebSockets in about:config.');\n",
       "    };\n",
       "}\n",
       "\n",
       "mpl.figure = function(figure_id, websocket, ondownload, parent_element) {\n",
       "    this.id = figure_id;\n",
       "\n",
       "    this.ws = websocket;\n",
       "\n",
       "    this.supports_binary = (this.ws.binaryType != undefined);\n",
       "\n",
       "    if (!this.supports_binary) {\n",
       "        var warnings = document.getElementById(\"mpl-warnings\");\n",
       "        if (warnings) {\n",
       "            warnings.style.display = 'block';\n",
       "            warnings.textContent = (\n",
       "                \"This browser does not support binary websocket messages. \" +\n",
       "                    \"Performance may be slow.\");\n",
       "        }\n",
       "    }\n",
       "\n",
       "    this.imageObj = new Image();\n",
       "\n",
       "    this.context = undefined;\n",
       "    this.message = undefined;\n",
       "    this.canvas = undefined;\n",
       "    this.rubberband_canvas = undefined;\n",
       "    this.rubberband_context = undefined;\n",
       "    this.format_dropdown = undefined;\n",
       "\n",
       "    this.image_mode = 'full';\n",
       "\n",
       "    this.root = $('<div/>');\n",
       "    this._root_extra_style(this.root)\n",
       "    this.root.attr('style', 'display: inline-block');\n",
       "\n",
       "    $(parent_element).append(this.root);\n",
       "\n",
       "    this._init_header(this);\n",
       "    this._init_canvas(this);\n",
       "    this._init_toolbar(this);\n",
       "\n",
       "    var fig = this;\n",
       "\n",
       "    this.waiting = false;\n",
       "\n",
       "    this.ws.onopen =  function () {\n",
       "            fig.send_message(\"supports_binary\", {value: fig.supports_binary});\n",
       "            fig.send_message(\"send_image_mode\", {});\n",
       "            if (mpl.ratio != 1) {\n",
       "                fig.send_message(\"set_dpi_ratio\", {'dpi_ratio': mpl.ratio});\n",
       "            }\n",
       "            fig.send_message(\"refresh\", {});\n",
       "        }\n",
       "\n",
       "    this.imageObj.onload = function() {\n",
       "            if (fig.image_mode == 'full') {\n",
       "                // Full images could contain transparency (where diff images\n",
       "                // almost always do), so we need to clear the canvas so that\n",
       "                // there is no ghosting.\n",
       "                fig.context.clearRect(0, 0, fig.canvas.width, fig.canvas.height);\n",
       "            }\n",
       "            fig.context.drawImage(fig.imageObj, 0, 0);\n",
       "        };\n",
       "\n",
       "    this.imageObj.onunload = function() {\n",
       "        fig.ws.close();\n",
       "    }\n",
       "\n",
       "    this.ws.onmessage = this._make_on_message_function(this);\n",
       "\n",
       "    this.ondownload = ondownload;\n",
       "}\n",
       "\n",
       "mpl.figure.prototype._init_header = function() {\n",
       "    var titlebar = $(\n",
       "        '<div class=\"ui-dialog-titlebar ui-widget-header ui-corner-all ' +\n",
       "        'ui-helper-clearfix\"/>');\n",
       "    var titletext = $(\n",
       "        '<div class=\"ui-dialog-title\" style=\"width: 100%; ' +\n",
       "        'text-align: center; padding: 3px;\"/>');\n",
       "    titlebar.append(titletext)\n",
       "    this.root.append(titlebar);\n",
       "    this.header = titletext[0];\n",
       "}\n",
       "\n",
       "\n",
       "\n",
       "mpl.figure.prototype._canvas_extra_style = function(canvas_div) {\n",
       "\n",
       "}\n",
       "\n",
       "\n",
       "mpl.figure.prototype._root_extra_style = function(canvas_div) {\n",
       "\n",
       "}\n",
       "\n",
       "mpl.figure.prototype._init_canvas = function() {\n",
       "    var fig = this;\n",
       "\n",
       "    var canvas_div = $('<div/>');\n",
       "\n",
       "    canvas_div.attr('style', 'position: relative; clear: both; outline: 0');\n",
       "\n",
       "    function canvas_keyboard_event(event) {\n",
       "        return fig.key_event(event, event['data']);\n",
       "    }\n",
       "\n",
       "    canvas_div.keydown('key_press', canvas_keyboard_event);\n",
       "    canvas_div.keyup('key_release', canvas_keyboard_event);\n",
       "    this.canvas_div = canvas_div\n",
       "    this._canvas_extra_style(canvas_div)\n",
       "    this.root.append(canvas_div);\n",
       "\n",
       "    var canvas = $('<canvas/>');\n",
       "    canvas.addClass('mpl-canvas');\n",
       "    canvas.attr('style', \"left: 0; top: 0; z-index: 0; outline: 0\")\n",
       "\n",
       "    this.canvas = canvas[0];\n",
       "    this.context = canvas[0].getContext(\"2d\");\n",
       "\n",
       "    var backingStore = this.context.backingStorePixelRatio ||\n",
       "\tthis.context.webkitBackingStorePixelRatio ||\n",
       "\tthis.context.mozBackingStorePixelRatio ||\n",
       "\tthis.context.msBackingStorePixelRatio ||\n",
       "\tthis.context.oBackingStorePixelRatio ||\n",
       "\tthis.context.backingStorePixelRatio || 1;\n",
       "\n",
       "    mpl.ratio = (window.devicePixelRatio || 1) / backingStore;\n",
       "\n",
       "    var rubberband = $('<canvas/>');\n",
       "    rubberband.attr('style', \"position: absolute; left: 0; top: 0; z-index: 1;\")\n",
       "\n",
       "    var pass_mouse_events = true;\n",
       "\n",
       "    canvas_div.resizable({\n",
       "        start: function(event, ui) {\n",
       "            pass_mouse_events = false;\n",
       "        },\n",
       "        resize: function(event, ui) {\n",
       "            fig.request_resize(ui.size.width, ui.size.height);\n",
       "        },\n",
       "        stop: function(event, ui) {\n",
       "            pass_mouse_events = true;\n",
       "            fig.request_resize(ui.size.width, ui.size.height);\n",
       "        },\n",
       "    });\n",
       "\n",
       "    function mouse_event_fn(event) {\n",
       "        if (pass_mouse_events)\n",
       "            return fig.mouse_event(event, event['data']);\n",
       "    }\n",
       "\n",
       "    rubberband.mousedown('button_press', mouse_event_fn);\n",
       "    rubberband.mouseup('button_release', mouse_event_fn);\n",
       "    // Throttle sequential mouse events to 1 every 20ms.\n",
       "    rubberband.mousemove('motion_notify', mouse_event_fn);\n",
       "\n",
       "    rubberband.mouseenter('figure_enter', mouse_event_fn);\n",
       "    rubberband.mouseleave('figure_leave', mouse_event_fn);\n",
       "\n",
       "    canvas_div.on(\"wheel\", function (event) {\n",
       "        event = event.originalEvent;\n",
       "        event['data'] = 'scroll'\n",
       "        if (event.deltaY < 0) {\n",
       "            event.step = 1;\n",
       "        } else {\n",
       "            event.step = -1;\n",
       "        }\n",
       "        mouse_event_fn(event);\n",
       "    });\n",
       "\n",
       "    canvas_div.append(canvas);\n",
       "    canvas_div.append(rubberband);\n",
       "\n",
       "    this.rubberband = rubberband;\n",
       "    this.rubberband_canvas = rubberband[0];\n",
       "    this.rubberband_context = rubberband[0].getContext(\"2d\");\n",
       "    this.rubberband_context.strokeStyle = \"#000000\";\n",
       "\n",
       "    this._resize_canvas = function(width, height) {\n",
       "        // Keep the size of the canvas, canvas container, and rubber band\n",
       "        // canvas in synch.\n",
       "        canvas_div.css('width', width)\n",
       "        canvas_div.css('height', height)\n",
       "\n",
       "        canvas.attr('width', width * mpl.ratio);\n",
       "        canvas.attr('height', height * mpl.ratio);\n",
       "        canvas.attr('style', 'width: ' + width + 'px; height: ' + height + 'px;');\n",
       "\n",
       "        rubberband.attr('width', width);\n",
       "        rubberband.attr('height', height);\n",
       "    }\n",
       "\n",
       "    // Set the figure to an initial 600x600px, this will subsequently be updated\n",
       "    // upon first draw.\n",
       "    this._resize_canvas(600, 600);\n",
       "\n",
       "    // Disable right mouse context menu.\n",
       "    $(this.rubberband_canvas).bind(\"contextmenu\",function(e){\n",
       "        return false;\n",
       "    });\n",
       "\n",
       "    function set_focus () {\n",
       "        canvas.focus();\n",
       "        canvas_div.focus();\n",
       "    }\n",
       "\n",
       "    window.setTimeout(set_focus, 100);\n",
       "}\n",
       "\n",
       "mpl.figure.prototype._init_toolbar = function() {\n",
       "    var fig = this;\n",
       "\n",
       "    var nav_element = $('<div/>');\n",
       "    nav_element.attr('style', 'width: 100%');\n",
       "    this.root.append(nav_element);\n",
       "\n",
       "    // Define a callback function for later on.\n",
       "    function toolbar_event(event) {\n",
       "        return fig.toolbar_button_onclick(event['data']);\n",
       "    }\n",
       "    function toolbar_mouse_event(event) {\n",
       "        return fig.toolbar_button_onmouseover(event['data']);\n",
       "    }\n",
       "\n",
       "    for(var toolbar_ind in mpl.toolbar_items) {\n",
       "        var name = mpl.toolbar_items[toolbar_ind][0];\n",
       "        var tooltip = mpl.toolbar_items[toolbar_ind][1];\n",
       "        var image = mpl.toolbar_items[toolbar_ind][2];\n",
       "        var method_name = mpl.toolbar_items[toolbar_ind][3];\n",
       "\n",
       "        if (!name) {\n",
       "            // put a spacer in here.\n",
       "            continue;\n",
       "        }\n",
       "        var button = $('<button/>');\n",
       "        button.addClass('ui-button ui-widget ui-state-default ui-corner-all ' +\n",
       "                        'ui-button-icon-only');\n",
       "        button.attr('role', 'button');\n",
       "        button.attr('aria-disabled', 'false');\n",
       "        button.click(method_name, toolbar_event);\n",
       "        button.mouseover(tooltip, toolbar_mouse_event);\n",
       "\n",
       "        var icon_img = $('<span/>');\n",
       "        icon_img.addClass('ui-button-icon-primary ui-icon');\n",
       "        icon_img.addClass(image);\n",
       "        icon_img.addClass('ui-corner-all');\n",
       "\n",
       "        var tooltip_span = $('<span/>');\n",
       "        tooltip_span.addClass('ui-button-text');\n",
       "        tooltip_span.html(tooltip);\n",
       "\n",
       "        button.append(icon_img);\n",
       "        button.append(tooltip_span);\n",
       "\n",
       "        nav_element.append(button);\n",
       "    }\n",
       "\n",
       "    var fmt_picker_span = $('<span/>');\n",
       "\n",
       "    var fmt_picker = $('<select/>');\n",
       "    fmt_picker.addClass('mpl-toolbar-option ui-widget ui-widget-content');\n",
       "    fmt_picker_span.append(fmt_picker);\n",
       "    nav_element.append(fmt_picker_span);\n",
       "    this.format_dropdown = fmt_picker[0];\n",
       "\n",
       "    for (var ind in mpl.extensions) {\n",
       "        var fmt = mpl.extensions[ind];\n",
       "        var option = $(\n",
       "            '<option/>', {selected: fmt === mpl.default_extension}).html(fmt);\n",
       "        fmt_picker.append(option);\n",
       "    }\n",
       "\n",
       "    // Add hover states to the ui-buttons\n",
       "    $( \".ui-button\" ).hover(\n",
       "        function() { $(this).addClass(\"ui-state-hover\");},\n",
       "        function() { $(this).removeClass(\"ui-state-hover\");}\n",
       "    );\n",
       "\n",
       "    var status_bar = $('<span class=\"mpl-message\"/>');\n",
       "    nav_element.append(status_bar);\n",
       "    this.message = status_bar[0];\n",
       "}\n",
       "\n",
       "mpl.figure.prototype.request_resize = function(x_pixels, y_pixels) {\n",
       "    // Request matplotlib to resize the figure. Matplotlib will then trigger a resize in the client,\n",
       "    // which will in turn request a refresh of the image.\n",
       "    this.send_message('resize', {'width': x_pixels, 'height': y_pixels});\n",
       "}\n",
       "\n",
       "mpl.figure.prototype.send_message = function(type, properties) {\n",
       "    properties['type'] = type;\n",
       "    properties['figure_id'] = this.id;\n",
       "    this.ws.send(JSON.stringify(properties));\n",
       "}\n",
       "\n",
       "mpl.figure.prototype.send_draw_message = function() {\n",
       "    if (!this.waiting) {\n",
       "        this.waiting = true;\n",
       "        this.ws.send(JSON.stringify({type: \"draw\", figure_id: this.id}));\n",
       "    }\n",
       "}\n",
       "\n",
       "\n",
       "mpl.figure.prototype.handle_save = function(fig, msg) {\n",
       "    var format_dropdown = fig.format_dropdown;\n",
       "    var format = format_dropdown.options[format_dropdown.selectedIndex].value;\n",
       "    fig.ondownload(fig, format);\n",
       "}\n",
       "\n",
       "\n",
       "mpl.figure.prototype.handle_resize = function(fig, msg) {\n",
       "    var size = msg['size'];\n",
       "    if (size[0] != fig.canvas.width || size[1] != fig.canvas.height) {\n",
       "        fig._resize_canvas(size[0], size[1]);\n",
       "        fig.send_message(\"refresh\", {});\n",
       "    };\n",
       "}\n",
       "\n",
       "mpl.figure.prototype.handle_rubberband = function(fig, msg) {\n",
       "    var x0 = msg['x0'] / mpl.ratio;\n",
       "    var y0 = (fig.canvas.height - msg['y0']) / mpl.ratio;\n",
       "    var x1 = msg['x1'] / mpl.ratio;\n",
       "    var y1 = (fig.canvas.height - msg['y1']) / mpl.ratio;\n",
       "    x0 = Math.floor(x0) + 0.5;\n",
       "    y0 = Math.floor(y0) + 0.5;\n",
       "    x1 = Math.floor(x1) + 0.5;\n",
       "    y1 = Math.floor(y1) + 0.5;\n",
       "    var min_x = Math.min(x0, x1);\n",
       "    var min_y = Math.min(y0, y1);\n",
       "    var width = Math.abs(x1 - x0);\n",
       "    var height = Math.abs(y1 - y0);\n",
       "\n",
       "    fig.rubberband_context.clearRect(\n",
       "        0, 0, fig.canvas.width / mpl.ratio, fig.canvas.height / mpl.ratio);\n",
       "\n",
       "    fig.rubberband_context.strokeRect(min_x, min_y, width, height);\n",
       "}\n",
       "\n",
       "mpl.figure.prototype.handle_figure_label = function(fig, msg) {\n",
       "    // Updates the figure title.\n",
       "    fig.header.textContent = msg['label'];\n",
       "}\n",
       "\n",
       "mpl.figure.prototype.handle_cursor = function(fig, msg) {\n",
       "    var cursor = msg['cursor'];\n",
       "    switch(cursor)\n",
       "    {\n",
       "    case 0:\n",
       "        cursor = 'pointer';\n",
       "        break;\n",
       "    case 1:\n",
       "        cursor = 'default';\n",
       "        break;\n",
       "    case 2:\n",
       "        cursor = 'crosshair';\n",
       "        break;\n",
       "    case 3:\n",
       "        cursor = 'move';\n",
       "        break;\n",
       "    }\n",
       "    fig.rubberband_canvas.style.cursor = cursor;\n",
       "}\n",
       "\n",
       "mpl.figure.prototype.handle_message = function(fig, msg) {\n",
       "    fig.message.textContent = msg['message'];\n",
       "}\n",
       "\n",
       "mpl.figure.prototype.handle_draw = function(fig, msg) {\n",
       "    // Request the server to send over a new figure.\n",
       "    fig.send_draw_message();\n",
       "}\n",
       "\n",
       "mpl.figure.prototype.handle_image_mode = function(fig, msg) {\n",
       "    fig.image_mode = msg['mode'];\n",
       "}\n",
       "\n",
       "mpl.figure.prototype.updated_canvas_event = function() {\n",
       "    // Called whenever the canvas gets updated.\n",
       "    this.send_message(\"ack\", {});\n",
       "}\n",
       "\n",
       "// A function to construct a web socket function for onmessage handling.\n",
       "// Called in the figure constructor.\n",
       "mpl.figure.prototype._make_on_message_function = function(fig) {\n",
       "    return function socket_on_message(evt) {\n",
       "        if (evt.data instanceof Blob) {\n",
       "            /* FIXME: We get \"Resource interpreted as Image but\n",
       "             * transferred with MIME type text/plain:\" errors on\n",
       "             * Chrome.  But how to set the MIME type?  It doesn't seem\n",
       "             * to be part of the websocket stream */\n",
       "            evt.data.type = \"image/png\";\n",
       "\n",
       "            /* Free the memory for the previous frames */\n",
       "            if (fig.imageObj.src) {\n",
       "                (window.URL || window.webkitURL).revokeObjectURL(\n",
       "                    fig.imageObj.src);\n",
       "            }\n",
       "\n",
       "            fig.imageObj.src = (window.URL || window.webkitURL).createObjectURL(\n",
       "                evt.data);\n",
       "            fig.updated_canvas_event();\n",
       "            fig.waiting = false;\n",
       "            return;\n",
       "        }\n",
       "        else if (typeof evt.data === 'string' && evt.data.slice(0, 21) == \"data:image/png;base64\") {\n",
       "            fig.imageObj.src = evt.data;\n",
       "            fig.updated_canvas_event();\n",
       "            fig.waiting = false;\n",
       "            return;\n",
       "        }\n",
       "\n",
       "        var msg = JSON.parse(evt.data);\n",
       "        var msg_type = msg['type'];\n",
       "\n",
       "        // Call the  \"handle_{type}\" callback, which takes\n",
       "        // the figure and JSON message as its only arguments.\n",
       "        try {\n",
       "            var callback = fig[\"handle_\" + msg_type];\n",
       "        } catch (e) {\n",
       "            console.log(\"No handler for the '\" + msg_type + \"' message type: \", msg);\n",
       "            return;\n",
       "        }\n",
       "\n",
       "        if (callback) {\n",
       "            try {\n",
       "                // console.log(\"Handling '\" + msg_type + \"' message: \", msg);\n",
       "                callback(fig, msg);\n",
       "            } catch (e) {\n",
       "                console.log(\"Exception inside the 'handler_\" + msg_type + \"' callback:\", e, e.stack, msg);\n",
       "            }\n",
       "        }\n",
       "    };\n",
       "}\n",
       "\n",
       "// from http://stackoverflow.com/questions/1114465/getting-mouse-location-in-canvas\n",
       "mpl.findpos = function(e) {\n",
       "    //this section is from http://www.quirksmode.org/js/events_properties.html\n",
       "    var targ;\n",
       "    if (!e)\n",
       "        e = window.event;\n",
       "    if (e.target)\n",
       "        targ = e.target;\n",
       "    else if (e.srcElement)\n",
       "        targ = e.srcElement;\n",
       "    if (targ.nodeType == 3) // defeat Safari bug\n",
       "        targ = targ.parentNode;\n",
       "\n",
       "    // jQuery normalizes the pageX and pageY\n",
       "    // pageX,Y are the mouse positions relative to the document\n",
       "    // offset() returns the position of the element relative to the document\n",
       "    var x = e.pageX - $(targ).offset().left;\n",
       "    var y = e.pageY - $(targ).offset().top;\n",
       "\n",
       "    return {\"x\": x, \"y\": y};\n",
       "};\n",
       "\n",
       "/*\n",
       " * return a copy of an object with only non-object keys\n",
       " * we need this to avoid circular references\n",
       " * http://stackoverflow.com/a/24161582/3208463\n",
       " */\n",
       "function simpleKeys (original) {\n",
       "  return Object.keys(original).reduce(function (obj, key) {\n",
       "    if (typeof original[key] !== 'object')\n",
       "        obj[key] = original[key]\n",
       "    return obj;\n",
       "  }, {});\n",
       "}\n",
       "\n",
       "mpl.figure.prototype.mouse_event = function(event, name) {\n",
       "    var canvas_pos = mpl.findpos(event)\n",
       "\n",
       "    if (name === 'button_press')\n",
       "    {\n",
       "        this.canvas.focus();\n",
       "        this.canvas_div.focus();\n",
       "    }\n",
       "\n",
       "    var x = canvas_pos.x * mpl.ratio;\n",
       "    var y = canvas_pos.y * mpl.ratio;\n",
       "\n",
       "    this.send_message(name, {x: x, y: y, button: event.button,\n",
       "                             step: event.step,\n",
       "                             guiEvent: simpleKeys(event)});\n",
       "\n",
       "    /* This prevents the web browser from automatically changing to\n",
       "     * the text insertion cursor when the button is pressed.  We want\n",
       "     * to control all of the cursor setting manually through the\n",
       "     * 'cursor' event from matplotlib */\n",
       "    event.preventDefault();\n",
       "    return false;\n",
       "}\n",
       "\n",
       "mpl.figure.prototype._key_event_extra = function(event, name) {\n",
       "    // Handle any extra behaviour associated with a key event\n",
       "}\n",
       "\n",
       "mpl.figure.prototype.key_event = function(event, name) {\n",
       "\n",
       "    // Prevent repeat events\n",
       "    if (name == 'key_press')\n",
       "    {\n",
       "        if (event.which === this._key)\n",
       "            return;\n",
       "        else\n",
       "            this._key = event.which;\n",
       "    }\n",
       "    if (name == 'key_release')\n",
       "        this._key = null;\n",
       "\n",
       "    var value = '';\n",
       "    if (event.ctrlKey && event.which != 17)\n",
       "        value += \"ctrl+\";\n",
       "    if (event.altKey && event.which != 18)\n",
       "        value += \"alt+\";\n",
       "    if (event.shiftKey && event.which != 16)\n",
       "        value += \"shift+\";\n",
       "\n",
       "    value += 'k';\n",
       "    value += event.which.toString();\n",
       "\n",
       "    this._key_event_extra(event, name);\n",
       "\n",
       "    this.send_message(name, {key: value,\n",
       "                             guiEvent: simpleKeys(event)});\n",
       "    return false;\n",
       "}\n",
       "\n",
       "mpl.figure.prototype.toolbar_button_onclick = function(name) {\n",
       "    if (name == 'download') {\n",
       "        this.handle_save(this, null);\n",
       "    } else {\n",
       "        this.send_message(\"toolbar_button\", {name: name});\n",
       "    }\n",
       "};\n",
       "\n",
       "mpl.figure.prototype.toolbar_button_onmouseover = function(tooltip) {\n",
       "    this.message.textContent = tooltip;\n",
       "};\n",
       "mpl.toolbar_items = [[\"Home\", \"Reset original view\", \"fa fa-home icon-home\", \"home\"], [\"Back\", \"Back to previous view\", \"fa fa-arrow-left icon-arrow-left\", \"back\"], [\"Forward\", \"Forward to next view\", \"fa fa-arrow-right icon-arrow-right\", \"forward\"], [\"\", \"\", \"\", \"\"], [\"Pan\", \"Pan axes with left mouse, zoom with right\", \"fa fa-arrows icon-move\", \"pan\"], [\"Zoom\", \"Zoom to rectangle\", \"fa fa-square-o icon-check-empty\", \"zoom\"], [\"\", \"\", \"\", \"\"], [\"Download\", \"Download plot\", \"fa fa-floppy-o icon-save\", \"download\"]];\n",
       "\n",
       "mpl.extensions = [\"eps\", \"jpeg\", \"pdf\", \"png\", \"ps\", \"raw\", \"svg\", \"tif\"];\n",
       "\n",
       "mpl.default_extension = \"png\";var comm_websocket_adapter = function(comm) {\n",
       "    // Create a \"websocket\"-like object which calls the given IPython comm\n",
       "    // object with the appropriate methods. Currently this is a non binary\n",
       "    // socket, so there is still some room for performance tuning.\n",
       "    var ws = {};\n",
       "\n",
       "    ws.close = function() {\n",
       "        comm.close()\n",
       "    };\n",
       "    ws.send = function(m) {\n",
       "        //console.log('sending', m);\n",
       "        comm.send(m);\n",
       "    };\n",
       "    // Register the callback with on_msg.\n",
       "    comm.on_msg(function(msg) {\n",
       "        //console.log('receiving', msg['content']['data'], msg);\n",
       "        // Pass the mpl event to the overridden (by mpl) onmessage function.\n",
       "        ws.onmessage(msg['content']['data'])\n",
       "    });\n",
       "    return ws;\n",
       "}\n",
       "\n",
       "mpl.mpl_figure_comm = function(comm, msg) {\n",
       "    // This is the function which gets called when the mpl process\n",
       "    // starts-up an IPython Comm through the \"matplotlib\" channel.\n",
       "\n",
       "    var id = msg.content.data.id;\n",
       "    // Get hold of the div created by the display call when the Comm\n",
       "    // socket was opened in Python.\n",
       "    var element = $(\"#\" + id);\n",
       "    var ws_proxy = comm_websocket_adapter(comm)\n",
       "\n",
       "    function ondownload(figure, format) {\n",
       "        window.open(figure.imageObj.src);\n",
       "    }\n",
       "\n",
       "    var fig = new mpl.figure(id, ws_proxy,\n",
       "                           ondownload,\n",
       "                           element.get(0));\n",
       "\n",
       "    // Call onopen now - mpl needs it, as it is assuming we've passed it a real\n",
       "    // web socket which is closed, not our websocket->open comm proxy.\n",
       "    ws_proxy.onopen();\n",
       "\n",
       "    fig.parent_element = element.get(0);\n",
       "    fig.cell_info = mpl.find_output_cell(\"<div id='\" + id + \"'></div>\");\n",
       "    if (!fig.cell_info) {\n",
       "        console.error(\"Failed to find cell for figure\", id, fig);\n",
       "        return;\n",
       "    }\n",
       "\n",
       "    var output_index = fig.cell_info[2]\n",
       "    var cell = fig.cell_info[0];\n",
       "\n",
       "};\n",
       "\n",
       "mpl.figure.prototype.handle_close = function(fig, msg) {\n",
       "    var width = fig.canvas.width/mpl.ratio\n",
       "    fig.root.unbind('remove')\n",
       "\n",
       "    // Update the output cell to use the data from the current canvas.\n",
       "    fig.push_to_output();\n",
       "    var dataURL = fig.canvas.toDataURL();\n",
       "    // Re-enable the keyboard manager in IPython - without this line, in FF,\n",
       "    // the notebook keyboard shortcuts fail.\n",
       "    IPython.keyboard_manager.enable()\n",
       "    $(fig.parent_element).html('<img src=\"' + dataURL + '\" width=\"' + width + '\">');\n",
       "    fig.close_ws(fig, msg);\n",
       "}\n",
       "\n",
       "mpl.figure.prototype.close_ws = function(fig, msg){\n",
       "    fig.send_message('closing', msg);\n",
       "    // fig.ws.close()\n",
       "}\n",
       "\n",
       "mpl.figure.prototype.push_to_output = function(remove_interactive) {\n",
       "    // Turn the data on the canvas into data in the output cell.\n",
       "    var width = this.canvas.width/mpl.ratio\n",
       "    var dataURL = this.canvas.toDataURL();\n",
       "    this.cell_info[1]['text/html'] = '<img src=\"' + dataURL + '\" width=\"' + width + '\">';\n",
       "}\n",
       "\n",
       "mpl.figure.prototype.updated_canvas_event = function() {\n",
       "    // Tell IPython that the notebook contents must change.\n",
       "    IPython.notebook.set_dirty(true);\n",
       "    this.send_message(\"ack\", {});\n",
       "    var fig = this;\n",
       "    // Wait a second, then push the new image to the DOM so\n",
       "    // that it is saved nicely (might be nice to debounce this).\n",
       "    setTimeout(function () { fig.push_to_output() }, 1000);\n",
       "}\n",
       "\n",
       "mpl.figure.prototype._init_toolbar = function() {\n",
       "    var fig = this;\n",
       "\n",
       "    var nav_element = $('<div/>');\n",
       "    nav_element.attr('style', 'width: 100%');\n",
       "    this.root.append(nav_element);\n",
       "\n",
       "    // Define a callback function for later on.\n",
       "    function toolbar_event(event) {\n",
       "        return fig.toolbar_button_onclick(event['data']);\n",
       "    }\n",
       "    function toolbar_mouse_event(event) {\n",
       "        return fig.toolbar_button_onmouseover(event['data']);\n",
       "    }\n",
       "\n",
       "    for(var toolbar_ind in mpl.toolbar_items){\n",
       "        var name = mpl.toolbar_items[toolbar_ind][0];\n",
       "        var tooltip = mpl.toolbar_items[toolbar_ind][1];\n",
       "        var image = mpl.toolbar_items[toolbar_ind][2];\n",
       "        var method_name = mpl.toolbar_items[toolbar_ind][3];\n",
       "\n",
       "        if (!name) { continue; };\n",
       "\n",
       "        var button = $('<button class=\"btn btn-default\" href=\"#\" title=\"' + name + '\"><i class=\"fa ' + image + ' fa-lg\"></i></button>');\n",
       "        button.click(method_name, toolbar_event);\n",
       "        button.mouseover(tooltip, toolbar_mouse_event);\n",
       "        nav_element.append(button);\n",
       "    }\n",
       "\n",
       "    // Add the status bar.\n",
       "    var status_bar = $('<span class=\"mpl-message\" style=\"text-align:right; float: right;\"/>');\n",
       "    nav_element.append(status_bar);\n",
       "    this.message = status_bar[0];\n",
       "\n",
       "    // Add the close button to the window.\n",
       "    var buttongrp = $('<div class=\"btn-group inline pull-right\"></div>');\n",
       "    var button = $('<button class=\"btn btn-mini btn-primary\" href=\"#\" title=\"Stop Interaction\"><i class=\"fa fa-power-off icon-remove icon-large\"></i></button>');\n",
       "    button.click(function (evt) { fig.handle_close(fig, {}); } );\n",
       "    button.mouseover('Stop Interaction', toolbar_mouse_event);\n",
       "    buttongrp.append(button);\n",
       "    var titlebar = this.root.find($('.ui-dialog-titlebar'));\n",
       "    titlebar.prepend(buttongrp);\n",
       "}\n",
       "\n",
       "mpl.figure.prototype._root_extra_style = function(el){\n",
       "    var fig = this\n",
       "    el.on(\"remove\", function(){\n",
       "\tfig.close_ws(fig, {});\n",
       "    });\n",
       "}\n",
       "\n",
       "mpl.figure.prototype._canvas_extra_style = function(el){\n",
       "    // this is important to make the div 'focusable\n",
       "    el.attr('tabindex', 0)\n",
       "    // reach out to IPython and tell the keyboard manager to turn it's self\n",
       "    // off when our div gets focus\n",
       "\n",
       "    // location in version 3\n",
       "    if (IPython.notebook.keyboard_manager) {\n",
       "        IPython.notebook.keyboard_manager.register_events(el);\n",
       "    }\n",
       "    else {\n",
       "        // location in version 2\n",
       "        IPython.keyboard_manager.register_events(el);\n",
       "    }\n",
       "\n",
       "}\n",
       "\n",
       "mpl.figure.prototype._key_event_extra = function(event, name) {\n",
       "    var manager = IPython.notebook.keyboard_manager;\n",
       "    if (!manager)\n",
       "        manager = IPython.keyboard_manager;\n",
       "\n",
       "    // Check for shift+enter\n",
       "    if (event.shiftKey && event.which == 13) {\n",
       "        this.canvas_div.blur();\n",
       "        // select the cell after this one\n",
       "        var index = IPython.notebook.find_cell_index(this.cell_info[0]);\n",
       "        IPython.notebook.select(index + 1);\n",
       "    }\n",
       "}\n",
       "\n",
       "mpl.figure.prototype.handle_save = function(fig, msg) {\n",
       "    fig.ondownload(fig, null);\n",
       "}\n",
       "\n",
       "\n",
       "mpl.find_output_cell = function(html_output) {\n",
       "    // Return the cell and output element which can be found *uniquely* in the notebook.\n",
       "    // Note - this is a bit hacky, but it is done because the \"notebook_saving.Notebook\"\n",
       "    // IPython event is triggered only after the cells have been serialised, which for\n",
       "    // our purposes (turning an active figure into a static one), is too late.\n",
       "    var cells = IPython.notebook.get_cells();\n",
       "    var ncells = cells.length;\n",
       "    for (var i=0; i<ncells; i++) {\n",
       "        var cell = cells[i];\n",
       "        if (cell.cell_type === 'code'){\n",
       "            for (var j=0; j<cell.output_area.outputs.length; j++) {\n",
       "                var data = cell.output_area.outputs[j];\n",
       "                if (data.data) {\n",
       "                    // IPython >= 3 moved mimebundle to data attribute of output\n",
       "                    data = data.data;\n",
       "                }\n",
       "                if (data['text/html'] == html_output) {\n",
       "                    return [cell, data, j];\n",
       "                }\n",
       "            }\n",
       "        }\n",
       "    }\n",
       "}\n",
       "\n",
       "// Register the function which deals with the matplotlib target/channel.\n",
       "// The kernel may be null if the page has been refreshed.\n",
       "if (IPython.notebook.kernel != null) {\n",
       "    IPython.notebook.kernel.comm_manager.register_target('matplotlib', mpl.mpl_figure_comm);\n",
       "}\n"
      ],
      "text/plain": [
       "<IPython.core.display.Javascript object>"
      ]
     },
     "metadata": {},
     "output_type": "display_data"
    },
    {
     "data": {
      "text/html": [
       "<img src=\"data:image/png;base64,iVBORw0KGgoAAAANSUhEUgAAA+gAAAH0CAYAAACuKActAAAgAElEQVR4XuzdB3QVRd8G8CcJJCFAElrovbdXigiCVKlK76AUaUqRJr13pChBpYNSlC6IoqAighRRRPhEkCKCYChBlN6TfOe/l3vN5tYkO7ckz5zD+b432Tsz+5s12Se7M+MXFxcXBxYKUIACFKAABShAAQpQgAIUoAAFPCrgx4DuUX82TgEKUIACFKAABShAAQpQgAIU0AQY0HkhUIACFKAABShAAQpQgAIUoAAFvECAAd0LBoFdoAAFKEABClCAAhSgAAUoQAEKMKDzGqAABShAAQpQgAIUoAAFKEABCniBAAO6FwwCu0ABClCAAhSgAAUoQAEKUIACFGBA5zVAAQpQgAIUoAAFKEABClCAAhTwAgEGdC8YBHaBAhSgAAUoQAEKUIACFKAABSjAgM5rgAIUoAAFKEABClCAAhSgAAUo4AUCDOheMAjsAgUoQAEKUIACFKAABShAAQpQgAGd1wAFKEABClCAAhSgAAUoQAEKUMALBBjQvWAQ2AUKUIACFKAABShAAQpQgAIUoAADOq8BClCAAhSgAAUoQAEKUIACFKCAFwgwoHvBILALFKAABShAAQpQgAIUoAAFKEABBnQb10BsbCwuXryIjBkzws/Pj1cJBShAAQqkMIG4uDjcunULuXLlgr+/fwo7O8+ezuPHj3H48GFkz56dtp4dCrZOAQpQQImAZKUrV66gfPnySJMmjZI2UnOlDOg2Rv+vv/5C3rx5U/N1wXOnAAUokCoELly4gDx58qSKc3XXSR48eBDPPPOMu5pjOxSgAAUo4CGBH3/8EZUqVfJQ6ym3WQZ0G2N748YNhIeHI3fv5dg2tD7yZ0mfcq8AnhkFKECBVChw8+ZN7Q+x169fR1hYWCoUUHfK58+fR/78+SE3bjlz5lTXEGumAAUoQAGPCFy6dEn7Q+yff/6JfPnyeaQPKblRBnQboys3bnLDlnfgenwzoiGKZs+Ykq8BnhsFKECBVCdg/jkvf5ANDQ1Ndeev8oTNb6Hx7QSVyqybAhSggOcE+HNerT0DupOAvn1oA5TKxZs3tZcha6cABSjgXgEGdHXevHFTZ8uaKUABCniDAH/Oqx0FBnQHAf3VwW9gSLvnUeTp+oB/gNqRYO0UoAAFKOA2AQZ0ddS8cVNny5opQAEKeIMAf86rHQUGdAcB/caIjAgN8gNCcwENZwClmqodDdZOAQpQgAJuEWBAV8fMGzd1tqyZAhSggDcI8Oe82lFgQHcloOPJVmttVzKkq70eWTsFPCoQExODR48eebQPbNwYgbRp0yIgwP6bTwzoxjjbqoU3bupsWTMFKKBegPcCgLPfofw5r/Y6ZEB3KaDLQU+epA88ytfd1V6TrJ0CbheQPbEvX76srejNknIEZDeOHDlywM/vyR9Z450aA7q6ceaNmzpb1kwBCqgT4L2A3tbR71D+nFd3HWqpM06uRhadgOXGzfyKe/zvdtkKFKxOMQpQIAUJyHYhEs4jIiIQEhJiM9CloNNN8aciv9bu3r2L6OhobctMW1t9MaCruwx446bOljVTgALqBHgvYLJ15Xcof86ruw4Z0BPYzps3D/JPXm05deoULHPQ4x/XahlQtrXaUWHtFKCA2wTM/71LOM+SJYvb2mVD6gWuXbumhfRixYpZve7OgK7Onzdu6mxZMwUooEaA9wLWro5+h/LnvJrr0Fwrn6Db8OUTdLUXHWungDcJ3L9/H2fPnkWBAgWQLl06b+oa+5JMgXv37uHcuXMoWLAggoODdbUxoCcT18HHeeOmzpY1U4ACagR4L2Dt6uh3KH/Oq7kOGdAduNoO6JyDrvZSZO0U8IyA+ZeyrRDnmR6xVaMEHI0tA7pRytb18MZNnS1rpgAF1AjwXsDa1ZEJf86ruQ4Z0BMV0LmKu9rLkLVTwHMC/KWst69VqxbKlSuHyMhIzw2KQS0zoBsEmchqeOOWSDAeTgEKeFwgJd8LyCK4nTp1wv79+7XV2WXNHVtfSzgIDOieuyz5irsNe6sn6KG5gYZvcos1z12nbJkCygR89ZeyrZXJ4yN16dIFy5cvT7TbP//8o/0Cz5gxY6I/620fYED3zIgwoHvGna1SgAJJF/DVewE5465du2LFihVWJ9+gQQNs374dw4cPx+eff47NmzcjLCxMWxDX1tcY0JN+/Rj9SQZ0BwH9u2H/w53qY9DwhZbcWs3oK4/1UcBLBIz8pRwTG4cfz/6D6Fv3EZExGM8UzIwAf+stvow4dfnrt7msW7cO48aNw8mTJy1fk/n08ovYXGR/dwneqakwoHtmtBnQPePOVilAgaQLGHovEAPs2QNcugTkzAlUrw4EBCS9b84+KQH9ypUr+OCDD3SHBgUFIVOmTGjdujXSp0+vC/G2vsaA7kzafd9nQHcQ0DcNrY5rTZajR/VC7hsRtkQBCrhVwKhfytt/vYSJnx3HpRv3Lf3PGRaM8U1KoWGZnErPSZ6UDxw40LKPu3lhNAnu8+fPx4EDB7BgwQI0bdoU/fr1w549eyBPygsXLoxRo0ahQ4cOlv4lfMVdFs/r1asXfv/9d2zYsEH7ZT9mzBjta95eGNA9M0IM6J5xZ6sUoEDSBYy6F9i0CRgwAPjrr//6kicPMHcu0LJl0vvn6JMS0OW19U8++cTqMPkd/ueff1q+Lm/X7dq1y+prtt644yvuasbLlVoZ0B0E9C1DqyHqhRXoXauwK5Y8hgIU8EEBI34pSzjv/eHPiEtw/uZn5wterqA0pNsL6PKL+a233kL58uUhf0mXvU3XrFmDunXrIjQ0VHvlbdCgQdi3bx8qV66s9d5WQL916xYmT56M+vXrY+PGjRg9ejSOHTuGEiVKePWIM6B7ZngY0D3jzlYpQIGkCxhxLyDhvHVr2Udc3w+/JzcDGzeqCemOAvrVq1fRuXNn7Xf+3Llztd1qHj58aPW1+G/cmXvPgJ706ym5n2RAdxDQvxhaGb83WIXXny+aXGd+ngIU8FIBW7+AJMjeexTjUo/ltfa6b+/GlZsPbB4vv5ezhwbj68E1nL7uni5tAJzNLbfViL2ALgu9DZA/5TsoL774IkqWLInZs2fbDejVq1fHqlWrtO+LTY4cOTBx4kS89tprLhl56iAGdM/IM6B7xp2tUoACSRewfS8A3L3rWp0xMUCpUkBUlO3jJaTnzg0cO+ba6+4hIYA52DvrgQT0Dz/80Go7UZlnPnbsWDRv3hzh4eG6dWlsfS1hOwzozuTVfZ8B3UFA/3JoJfxadxUG1y+ubgRYMwUo4FEBW7+A7j58jFLjvnR7v45PaoCQwDSJbtdeQN+7dy+qVatmqS8mJgZvvvkm5NX3qKgoPHjwQPvXokULrF+/3m5A79u3L4YOHWqp56mnnkKrVq20ee/eXBjQPTM6DOiecWerFKBA0gVs/b64cwfIkCHpdSbnk7dvA+nTu1aDBHT5nS5T2eKXzJkzQ/4xoLvm6E1HMaA7COjfDKuIg7U/xPCG3v0apzddUOwLBXxNICUH9MOHD2tbppnLzJkzIf/kyXrZsmW1RWNk7nqaNGksc9dsveIux8g/c5E65Rf+hAkTvHq4GdA9MzwM6J5xZ6sUoEDSBXw9oNubgy4iDOhJvy489UkGdAcBfdewcthT/SOMaVzKU+PDdilAAcUCyX3FXVZt7/rBQae9XP5KJW1Vd0fF6FfcEwb0Jk2aaNurLFu2TOtGbGys9nq7/DMvLsOA7nQoeYATAQZ0XiIUoICvCST3FffvvgNeeMH5WX/xBVCjhvPjEvuKOwO6c1NfOoIB3UFA3zusLL6utgYTmpb2pTFlXylAgUQIJHdhGJmD/tyMnbh8477VInHSDZmDniMsGHuH13E6Bz0R3dYdau8V94QBXRaE+/jjj7F27VptNfa3335be7W9du3aDOhJxefnrAQY0HlRUIACviaQ7HuBGKBAAdMc9ISLxGn3An6ArOZ+9qxrc9AT42dvmzV5Oy5r1qx8gp4YTC85lgHdQUA/MKwUtlRZi2ktynrJcLEbFKCA0QLJ/aUs/TGv4i7/f/zFWz29invCgC5bq3Xr1g3ffPMNQkJCtK3Szp8/jxs3bjCgG31hpeL6GNBT8eDz1CngowJG3AuYV3HX7gXi3Qy4YxX3FStWWMkXL14cJ06cYED3wWuSAd1BQP9pWHGsq7QOM1s/5YNDyy5TgAKuCBjxS9kc0j21D7or55kaj+EcdM+MOgO6Z9zZKgUokHQBo+4FbO2DnjcvEBmpZou1pJ+x809yFXfnRqqOYECPJztv3jzIP1np+NSpUzg8rAhWVNiAOe3+W2RJ1UCwXgpQwDMCRv1Slt7L6+4yJz361n1EZAzW5pwH+Jufo3vm/FJzqwzonhl9BnTPuLNVClAg6QKG3gvEAHv2AJcuATlzAtWrG/9ae9LP1PVPMqC7bmX0kQzoNkRv3ryJsLAwHB1WCAuf2oD3OlYw2p31UYACXiJg5C9lLzklduOJAAO6Zy4FBnTPuLNVClAg6QK8F7C2Y0BP+vWU3E8yoDsI6MeHF0Bk6Q1Y1Onp5Drz8xSggJcK8Jeylw6MAd1iQDcAMQlVMKAnAY0foQAFPCrAewEGdI9egAkaZ0B3ENBPD8+D6SU2YVnXSt40ZuwLBShgoAB/KRuI6WVVMaB7ZkAY0D3jzlYpQIGkC/BegAE96VeP8Z9kQHcQ0P8Yngvjim7Cqu6VjZdnjRSggFcI8JeyVwyDkk4woCthdVopA7pTIh5AAQp4mQDvBRjQvemSZEB3ENDPD4/AsEJbsKZXFW8aM/aFAhQwUIC/lA3E9LKqGNA9MyAM6J5xZ6sUoEDSBcy/LwoUKIB06dIlvaIU9Ml79+7h3LlzKFiwIIKDg3Vnxp/zageaAd1BQI8anhX982/Bxt5V1Y4Ca6cABTwmwIDuMXrlDTOgKye22QBv3DzjzlYpQIGkC5h3cIqIiECWLFmSXlEK+uS1a9cQHR2NYsWKISAggAHdjWPLgO4goEcPz4QeeT/Dlr7V3DgkbIoCFHCnAAO6O7Xd2xYDunu9za0xoHvGna1SgALJE7h06RKuX78OCekhISHw80ud26TGxcXh7t27WjgPDw9HTtkrLkHhz/nkXWvOPs2A7iCgXxsehpdzfoYvBlR35sjvU4ACPirAgO6jA+dCtxnQXUBScAhv3BSgskoKUEC5gATTy5cvayGdBVo4z5Ejh80/VPDnvNorhAHdQUC/MSIjWmf7FF8NrqV2FFg7BSjgMYHUHNBr1aqFcuXKITIyUvOXuXcDBw7U/tkr8kRh8+bNaN68ebLGzKh6HHWCAT1ZQ5TkD/PGLcl0/CAFKOAFAvK6+6NHj7ygJ57rQtq0aa1ea4/fG/6cVzs2DOhOAnrLzJuwY2hdtaPA2ilAAY8J+GpAb9KkCWQBlx07dljZff/996hatSoOHTqEChUq2LVNGNCvXr2K9OnTa6/2GRXQJ0yYgE8++QRHjhzRVSlPKTJlyoSgoCBlY8+ArozWYcXmG7dL772HHKVLA9WrAwnmL3qmZ2yVAhSgAAWMEGBAN0LRfh0M6E4CevOwddg5opHaUWDtFKCAxwQMDeixMcCf+4HbV4AM2YH8VQF//cIqRp2ohN6WLVvi7NmzyJ8/v67anj174qeffsLhw4cdNpcwoLvSt8Q++bYX0F1pK7nHMKAnVzBpnzffuN0AECpV5MkDzJ0LtGyZtAoBxMQAu3aZ/kmpVcv0j7k/yaT8IAUoQIEkCzCgJ5nOpQ8yoDsL6Bk+xM7RTV3C5EEUoIDvCRgW0I9/CmwfDty8+B9CaC6g4QyglPE/Qx4/fow8efKgd+/eGD9+vKVNWdhF5oy98cYbOHHiBPbs2YN//vkHhQsXxqhRo9ChQwfLsc5ecT99+jS6d++OH3/8EYUKFcLcuXNRv3593Svuw4cP1/63/LKWdl966SWMGzcO8nrc8uXL8corr+guig8++ABdu3bV5rTFf1X+6NGjGDBgAOTpvzzBb9WqFd5++21kyJBB+7x8RuYFPvfcc3jrrbfw8OFDtG/fXns9X9qyVRjQPfPfo1VANy+0tHFjkkL6pk1Ar17AtWv685GFlhcvTlKVnoFhqxSgAAVSiAADutqBZEB3EtCbpVuOb8cl/a/+aoePtVOAAskVMCSgSzhf3xlAXILuPFkBtu1KJSF92LBh2LBhA/744w/LIi4rVqzAq6++ijNnzmDNmjWoW7cuQkND8fnnn2PQoEHYt28fKleurPXTUUCPjY3FU089haxZs2LOnDm4efOmNjddnsrHD9ZTpkxBnTp1kCtXLkjIlqf3gwcPhvRNXsEfO3Ystm/fbnkVPywsTNtjNn5Alz8qFC1aFFWqVMHEiRO1lWN79OiBGjVqaCHfHNCl3Y4dO2pB/vfff0e7du20gC5tMqAn978E4z5vFdClagnp8iT97NlEPfaWTN+mjeO+rV/v/Bjjzo41UYACFKAAA7raa4AB3UlAbxq0BLsmtFM7CqydAhTwmIDNgB4XBzy661qf5LX2ec8Aty7ZOd4PCM0J9PnB+evuaUNMQcbFIk/IS5YsiZ07d6J27drap2rWrIncuXNj9erVVrW8+OKL2vGzZ892GtC/+uorvPDCCzh37pz2pF6KBO1GjRo5XCRu1qxZWLdunfaKvRR7r7jHD+hLliyBPIm/cOGCNgdeyhdffAGZZ3/x4kVkz55de4K+a9cu7Q8P5v1Y27ZtC39/f6xdu9amGJ+gu3ghGXyYzYBubuPbb03vprtQNmwA2rcHYmMdHyz/ychLJGPGJCr7u9ADHkIBClCAArYEGNDVXhcM6DZ85UmRPOWRVdybpFmI3ZM7qh0F1k4BCnhMwGaIe3gHmJbL/X0adREINAVUV0u1atW0189XrVqlhVd5Ei3hWgL7m2++qYXlqKgoPHjwQPvXokULrJdHjk6eoMvr7PJPns6by40bN7RtV+I/Qd+4caP2FFueaN++fRvy6r08sZen4FJcCejyxF2ezH8r4e1JMbe1e/du7Um6BHRZxE7eBDAXeZIuT+3lDxS2CgO6q1eRscc5DOjyh6N40yzstSyvtbdqlbh+yd925Gl73bpA7txcmy5xejyaAhSggOsCDOiuWyXlSAZ0G2q6gO73LnZP65IUW36GAhTwAQFfD+jvv/8++vXrp+3dOnPmTHz00UdaqJYn2fK/JTyXLVtWezItr6inSZNGW1XdWUCXz73zzju6gG7+2WgO6AcOHNDmhMtr6Q0aNND+sClPs2WOuHkfWVcCurx6/3//93+6oG0O6N999x2qV69umYNu7rv0X85HVoeXJ+sM6N7zH1tyn6DLgnAFCgB//ZW8c8qUCWjWDKhTxzR/XeasX73631z2zJmBiIj/vmc+xtn/NaIOb+uPEefkLXXQ1nSt27uOvWWcUlI/UuM15+//FwYMyKu9+WZ+yy55P7H56fgCDOjxNObNmwf5J/sfnjp1yvQEHXOwa1o3y/xOXj4UoEDKEkj2K+6yavtHrZ2jvLTRtKq7o5LIV9ylKnlqnTNnTi2QT506VZuPLYu0yevhERERWLZsmdaizCmX19vlnysB3fyK+/nz57X55VK+/PJLNGzY0PIEXYL4/PnztSf35iJzx+WpujmgT5s2TZsLL0+6db984i0S5+or7lInA7rzS83TRyR3Drr8veXJjA1PnwrbpwAFKEABmwLyF1TXA7q8XSd/sJeHCPJAQe5b5M24MWPGaFPVWPQCDOg2roj4T9BbYDa2Te6BwDS8ePgfDwVSokCyF4mTOeiRZYCbMgc94SJxIiZz0HMBA486n4OeRGAJxZs2bYI8dZZt1/Lly6ctCPfxxx9rT7Rlv3FZEV1ebZdX310J6BLo5cm7/BKVIC4/F6VO2Vvd/AR9y5YtaN26tfZ6faVKlbTXz+VpuvyR0xzQZS58r169sHfvXu2v7BkzZtT2Pk+4SFyRIkW0vdvlF7i8yi7nJE/O4y8Sx4CexAvEzR9L7irugwYBkZFu7jSbowAFKECBRAgkLqDLAwRZcFYWsi1durS2To3s8iILzcp0NRYGdKfXQPyA3gYzsHliT4QEpnH6OR5AAQr4nkCyA7qcsmUVd/kf8UO62lXczdqyNZmEW9kCTZ5yS5Gt1bp164ZvvvlG27ZMQrI8DZcQ70pAlzrkTSLzNmsFChTQXnmP/wRdjpHV2uU1e5nfLovQyUrsErLNAV2+LluvST/ka8ndZo1P0L3/vzGrgJ43rylxu7APelLmnnu/CHtIAQpQIKUJJC6gN27cWFvw1fxWn2jIdqpyfyJ/5GdhQHd6DcQP6B0wDavHvoqwENv77DqtjAdQgAJeLWBIQDeHdKt90HMDDd9UssWaV6N6See4SJxnBsIc0P+NiED4unUur9Zm1Nxzz5w1W6UABSiQmgRMAf348ePazjHmIm/Iyb+ERRatXbhwobaIbbFixbR1Z+Shgqx308GFhUNTk6ycK19xtzHi8QN6J0zGstGvIWsG64sttV0sPF8KpEQBwwK64Mjr7jIn/fYVIEN205xz/4CUyOYT58SA7plhMgf0fwoVQqZ46xM46w3nnjsT4vcpQAEKeIuAKaAnLOPHj9feoktY4uLiMGrUKMyYMUPbKlWmwslr7yNHjvSWE/KqfjCgOwnor2AC3hvRGznD0nnVwLEzFKCAMQKGBnRjusRaDBJgQDcIMpHVWJ6g58+P8HPnXP70mjVARxd2NQ0OBu7fd7laHkgBClCAAoYLJO4JuqyHM3ToUG1BW5mDLjuwyE4ssj5Oly7cLSvh8DCgOwnoPTEOs4b0Qb4sIYZf2qyQAhTwvAADuufHQFUPGNBVyTqu1xLQ8+ZF+PnzLndi0iRg/Hjnh+/YAezbB8yaJbsYOD+eR1CAAhSggNECiZuDnjdvXowYMQJ9+/a1dEQWiPvwww9x4sQJozvn8/UxoDsJ6L39RmHSoH4onC2Dzw82T4ACFLAWYEBPuVcFA7pnxtYS0HPnRriLm5m7sjicnx+QJw9w9iwQEADInPWpU4G5c2VRRM+cK1ulAAUokDoFEhfQs2TJoq3Y3rt3bwvX9OnTtYVjZUFaFr0AA7qTgP663wiM7N8PJXKE8tqhAAVSoAADegoc1CenxIDumbG1BPQcORB+SbYfdFxcXRxOAvrGjdaLwcvn9+wBoqKAb74BtmxhYHdmzu9TgAIUSJ5A4gK67Hm+Y8cOLFq0SHvF/fDhw9ruMrLbjMxLZ2FAd3oNxF8kbpDfEAzqOwBlcoc5/RwPoAAFfE/AHOJkG7F06bjWhO+NoP0e37t3D+fOnUPBggURLBOX4xXLz/kbNxAayj/AGjnuulXcr1xxWrWri8NNnAiMG+e0Ou3JujmwX70KZMkCXLtm+r/yv+X/l5I5MxAR8d/3zMc4+79G1OFt/THinLylDtrqr/mE17O3jFNK6kdqvOb8/f/CgAF5ceHCBeSRV5uclFu3bmHs2LHYvHkzoqOjkStXLm319nHjxiEwMNDZx1Pd9/kE3caQxw/oQ/0G49XXBqBCvkyp7uLgCVMgNQjISqLyelVERATkFSyWlCNw7do17UZAtnSRVWMZ0N0ztpaAniULwv/+22mjri4Ot3o1wN14nHLyAApQgALKBcw/510N6Mo7lMIaYEB3EtBH+g1Al56D8EzBzCls6Hk6FKCAWeDSpUu4fv26FtJDQkLgJ+/SsvisgGzncvfuXS2ch4eHI2fOnFbnwifo6obXEtAzZUK4C5PDXV0c7ttvgVq11PWbNVOAAhSggGsCDOiuOSX1KAZ0JwF9jF8/tOs2GNWKZE2qMT9HAQp4uYAEusuXL2shnSXlCEg4z5Ejh80/uDCgqxtn843b9bAwhDn5byopi8Op6zlrpgAFKEABVwQY0F1RSvoxDOhOAvpEv95o0uUN1CoekXRlfpICFPAJAXnd/dGjRz7RV3bSsUDatGmtXmuP/wkGdHVXkCWgZ8yIsJs37TaU3MXh1J0Ba6YABShAAUcCDOhqrw8GdCcBfYp/L9R7aSjqlcqudiRYOwUoQAEKuE2AAV0dtSWgp0+PMAcblRu9OJy6M2LNFKAABSgQX4ABXe31wIDuJKC/6d8D1dsPRaOy1nMY1Q4Na6cABShAAVUCDOiqZAFLQA8ORti9e3Yb4uJw6saANVOAAhRQKcCArlIXYEB3EtBn+3dFxTbD0axcbrUjwdopQAEKUMBtAgzo6qgtAT1tWoQ9fGi3IVefoHNxOHVjxZopQAEKJEWAAT0paq5/hgHdSUCP9O+MoOf6YUiD4gjw58rOrl9aPJICFKCA9wowoKsbG0tADwhA2OPHdhsyz0GPigLi4qwPk80UZHvds2eBBLvkqes8a6YABShAAacCDOhOiZJ1AAO6k4D+nn9HLI5pgpxhwRjfpBQaluGr7sm64vhhClCAAl4gwICubhAsAR1AmK3kHa9pWcW9dWvrgG7e6XDjRqBlS3V9Zc0UoAAFKJB4AQb0xJsl5hMM6E4C+kL/9pgf0wzmZ+cLXq7AkJ6YK4zHUoACFPBCAQZ0dYNivnG7ASA0NhYwp20bTcpT9HHjgGnT9N/MmxeIjGQ4VzdKrJkCFKBA0gUY0JNu58onGdCdBPSl/m3wTozpz/cS0nOEBWPv8Dp83d2Vq4vHUIACFPBSAQZ0dQOjC+jyirud99Pl6fmAAbKo3H99yZzZ9LXRo/lau7oRYs0UoAAFkifAgJ48P2efZkB3EtA/CGiJOY/b6I5a07MKni2cxZktv08BClCAAl4qwICubmB0Af3BAyAw0Koxvtquzp81U4ACFFAtwICuVpgBPZ7vvHnzIP9iYmJw6tQp3BiRER8GNMPMx+11ozC3fTmu6q72umTtFKAABZQKMKCr49UF9Lt3gXTpdI2ZF4eL/+Q8/gFcHE7d2LBmClCAAkYIMKAboWi/DgZ0GzaWG7cRGbEmoDGmP35JdxSfoKu9KFk7BShAAdUCDOjqhHUB/f4Ks6MAACAASURBVPZtIH16XWPcXk2dPWumAAUo4A4BBnS1ygzoTgL6xoBGmPS4s3YU56CrvRhZOwUoQAF3CTCgq5PWBfQbN4DQUP0fudcAHTs6b3/1aqBDB+fH8QgKUIACFHCvAAO6Wm8GdCcBfXNAfYx//ApXcVd7HbJ2ClCAAm4VYEBXx60L6P/+C4SH6xrjE3R19qyZAhSggDsEGNDVKjOgOwnoWwOex6jHPbgPutrrkLVTgAIUcKsAA7o6bl1A//tvIIt+UVXzHPSoKOv9z6VXnIOubmxYMwUoQAEjBBjQjVC0XwcDupOAvi2gNnaXGId3O1bg1mpqr0XWTgEKUMBtAgzo6qh1Af3KFSAiwqox8yru8o24uP++bd4yfeNG7oGuboRYMwUoQIHkCTCgJ8/P2acZ0J0E9K/TVMfRSjMxoWlpZ5b8PgUoQAEK+IgAA7q6gdIF9EuXgBw5bDYmIf3114GLF//7dt68QGQkw7m60WHNFKAABZIvwICefENHNTCgOwno36aphoMVZ2JK87JqR4K1U4ACFKCA2wQY0NVR6wK67KWWO7fdxiS/58pl+vbOnUCNGkBAgLq+sWYKUIACFEi+AAN68g0Z0BNpGH+btT1pKmNv+bcwveX/ElkLD6cABShAAW8VYEBXNzK6gP7nn0C+fHYbk3noefIAadIAjx6p6xNrpgAFKEAB4wQY0I2ztFUTn6DbUIkf0L9PUwlf/+9tzG7zlNqRYO0UoAAFKOA2AQZ0ddS6gH72LFCggN3G5NuFCgEhIcCdO+r6xJopQAEKUMA4AQZ04ywZ0F20jB/QD6apgK1lIjGnXTkXP83DKEABClDA2wUY0NWNkC6g//47ULiw3cZOnQKKFwfCwoDr19X1iTVTgAIUoIBxAgzoxlkyoLtoGT+gH07zFDaWegfvdijv4qd5GAUoQAEKeLsAA7q6EdIFdEngRYvabezXX4GyZYFs2YDoaHV9Ys0UoAAFKGCcAAO6cZYM6C5axg/oR9OUwUcl3sX8lyq6+GkeRgEKUIAC3i7AgK5uhHQB/bffgBIl7DZ2+DBQoYJpoTiZj85CAQpQgALeL8CArnaMOAfdhm/8gP5b2pJYVmQeFnd+Wu1IsHYKUIACFHCbAAO6OmpdQJdH5KXtb1P6ww9AlSqmaeoyH52FAhSgAAW8X4ABXe0YMaA7Cein0xbDvEIL8H7XSmpHgrVTgAIUoIDbBBjQ1VHrAvovv5jeYbdT9uwxba0mb8HL2/AsFKAABSjg/QIM6GrHiAHdSUD/I21hvF1gEVZ2e0btSLB2ClCAAhRwmwADujpqXUCXd9jL2V9kVfY+f/5500N2edjOQgEKUIAC3i/AgK52jBjQnQT082kLYnq+RfioRxW1I8HaKUABClDAbQIM6OqodQH9p5+AivbXcNm+HWjUCChfHvj5Z3V9Ys0UoAAFKGCcAAO6cZa2amJAdxLQL6bNh/G5l2Ddq8+qHQnWTgEKUIACbhNgQFdHrQvoP/4IVLI/Reyzz4CmTYFnngFkPjoLBShAAQp4vwADutoxYkB3EtCj0+bGiJzLsLF3VbUjwdopQAEKUMBtAgzo6qh1Af37702rwNkpH38MtG4NPPccIPPRWShAAQpQwPsFGNDVjhEDupOA/k/aHBiY/QN80rea2pFg7RSgAAUo4DYBBnR11LqAvm8fUNX+H7jXrgU6dABq1wZkPjoLBShAAQp4vwADutoxYkB3EtBvBmbDa1mXY+vr1dWOBGunAAUoQAG3CaSmgD5//nzMmjULly5dQunSpREZGYnq1e3/Tvvoo48wc+ZMnD59GmFhYWjYsCFmz56NLFmyuDQ+uoD+3XeAg7ZWrgS6dAEaNABkPjoLBShAAQp4vwADutoxYkB3EtDvBmZG10wrsX1gDbUjwdopQAEKUMBtAqkloK9btw6dOnWChPRq1aph0aJFWLp0KY4fP458+fJZee/duxc1a9bEnDlz0KRJE0RFReG1115D0aJFsXnzZpfGRxfQv/0WqFXL7ueWLgV69gQaNwZkPjoLBShAAQp4vwADutoxYkB3EtAfBIahY9iH+HpwTbUjwdopQAEKUMBtAqkloFeuXBkVKlTAggULLLYlS5ZE8+bNMX36dCtveVIux545c8byvXfffVd7on7hwgWXxkcX0L/5BqhTx+7npFt9+gAtWwIyH52FAhSgAAW8X4ABXe0YMaA7CeixgRnQMuNq7Bxi/wmA2iFi7RSgAAUoYLRAagjoDx8+REhICDZs2IAWLVpYCAcMGIAjR45g9+7dVqz79+9H7dq1tafljRo1QnR0NNq2bQsJ9QsXLrQ5DA8ePID8Mxd56l6qVCncABD61VdAvXp2h2/uXGDgQKB9e2DNGqNHmfVRgAIUoIAKAQZ0Far/1cmA7iSg+wWG4MX0a/DdsNpqR4K1U4ACFKCA2wRSQ0C/ePEicufOjX379qFqvIXapk2bhhUrVuDkyZM2vTdu3IhXXnkF9+/fx+PHj9G0aVPI19KmTWvz+AkTJmDixIlW39MC+rZtQMOGdsd19mxg6FCgUydA5qOzUIACFKCA9wswoKsdIwZ0JwE9MDAQdYLXYf/I59WOBGunAAUoQAG3CaSmgC5PxZ999lmL7dSpU7Fq1SqcOHHCylvmptetWxeDBg1CgwYNtIXlhg4dikqVKmHZsmU2x8fhE/TPPwdeeMHuuE6bBoweDXTvDsh8dBYKUIACFPB+AQZ0tWPEgO4koKcLTINqgevx4+i6akeCtVOAAhSggNsEUkNAT8or7rKgnDw5l9fizUUWjpNV3+WJfM6cOZ2OkW4O+qefAk2a2P2MPHifMAF47TUg3jR5p23wAApQgAIU8JxAYgN6gQIF8Oeff1p1uE+fPpg3b57nTsRLW2ZAjzcwcoHIv5iYGJw6dQo3RmREaJAfKvpvwKFx9b10CNktClCAAhRIrEBqCOhiIovEVaxYUVvF3VxkfnizZs1sLhLXqlUrpEmTBrL6u7l8//332ivyMrc8V65cTql1AV1Wfm/e3O5n5Om5PEXv3x+Q+egsFKAABSjg/QKJDehXr17V8pW5/Prrr6hXrx6+/fZb1HKw04f3S6jpIQO6DVfLjduTgF4Ba/HzhEZqRoC1UoACFKCA2wVSS0A3b7MmC7zJa+6LFy/GkiVLcOzYMeTPnx8jR47UgvfKJxPAly9fjp49e+Kdd96xvOI+cOBA+Pv744cffnBpnHQBXZZmlyXa7RSZfy7z0IcMAWbNcql6HkQBClCAAh4WSGxAT9hd+b2ydetWnD59Gn5+fh4+G+9rngHdhYBeMe5DHJpo/xU97xtW9ogCFKAABRwJpJaALgby9Fy2SZP55GXKlNH2OK9Ro4bG07VrV5w7dw67du2ycMm2ahLoz549i/DwcNSpUwczZszQFpxzpegC+vr1QJs2dj8mK7jLk/ORI01P0lkoQAEKUMD7Bcw/52Xdkvi/G4KCgiD/HBWZfiVvYw0ePBijRo3y/pP1QA8Z0F0J6DEf4NBk+08APDBubJICFKAABZIhkJoCejKYkvRRXUBfuxZo185uPbIHusw9Hz/eNBedhQIUoAAFvF/A/HM+YU/Hjx8P2dnDUVm/fj06duyI8+fPuzRtyvs1jO8hA7orAf3hEhya1tZ4fdZIAQpQgAIeEWBAV8euC+gffQR07Gi3sZ49Tau3T5liWs2dhQIUoAAFvF8gOU/QZYcQ2SXrs88+8/4T9VAPGdBdCej3F+Cn6R04R8JDFymbpQAFKGC0AAO60aL/1acL6DK3XTY5t1O6dDHtfz5zpmk/dBYKUIACFPB+gaTOQZeV3AsVKoRNmzZpi5Wy2BZgQHcQ0K+PzISwwBhUvv8e9k97GQH+XMSA/yFRgAIUSAkCDOjqRlEX0JcvBySF2ynycH3NGmDOHEDmo7NQgAIUoID3CyQ1oMvr74sWLcKFCxe0HUNYGNBdvgbMN27XR2dFWJqHqHZ/LnZO6YSgNAEu18EDKUABClDAewUY0NWNjS6gL1sGdOtmt7HWrQFZ6F22wZX56CwUoAAFKOD9AkkJ6LGxsShYsCA6dOiAN9980/tP0oM95BN0G/iWgD42B8L876Lmg7exbWIXhATyLz0evFbZNAUoQAHDBBjQDaO0qkgX0BcvBmSiuZ3StCkg0xCXLAF69FDXJ9ZMAQpQgALGCSQloH/11Vfa9p0nT55EsWLFjOtMCqyJAd1RQB+fB2G4iecfzMLm8a8gNDhtCrwEeEoUoAAFUp8AA7q6MdcF9IULgVdftdtYo0bA9u2Akzfh1XWWNVOAAhSgQKIFkhLQE91IKv4AA7qjgD6pIMJirqHBgzexZkx3ZE4fmIovFZ46BShAgZQjwICubix1Ad3Ju+vPPw/s3AmsXg106KCuT6yZAhSgAAWME2BAN87SVk0M6A4C+o0pRRD6KBovPpiGD0Z1R0TGYLWjwdopQAEKUMAtAgzo6ph1Af3dd4F+/ew2VqMGsGcPsGEDIPPRWShAAQpQwPsFGNDVjhEDuqOAPq0kQh9EodmDSVg4ohdyhqVTOxqsnQIUoAAF3CLAgK6OWRfQIyOBAQPsNlalCvDDD8CWLYDMR2ehAAUoQAHvF2BAVztGDOiOAvqbZRB67zxaPpiAuUNfRd7MIWpHg7VTgAIUoIBbBBjQ1THrAvpbbwGDB9ttrGJF4OefgS++AGQ+OgsFKEABCni/AAO62jFiQHcU0GeWR+idM2j7YCxmvtEbBbKmVzsarJ0CFKAABdwiwICujlkX0GfNAoYMsdtY2bLAr78CO3YAMh+dhQIUoAAFvF+AAV3tGDGgOwros59G6K1T6PhwFCYN7IMiERnVjgZrpwAFKEABtwgwoKtj1gV02et2+HC7jRUvDpw6BXz3HVC9uro+sWYKUIACFDBOgAHdOEtbNTGgOwrob1dB6I3j6PxwOEb174cSOULVjgZrpwAFKEABtwgwoKtj1gX0qVOBUaPsNlaoEHD2LPD994DMR2ehAAUoQAHvF2BAVztGDOiOAnrkcwj99xd0ezgEg/v2R5ncYWpHg7VTgAIUoIBbBBjQ1THrAvrkycCYMXYby5MHiIoCDh0CKlRQ1yfWTAEKUIACxgkwoBtnaasmBnRHAf3d2gj9+xB6PRyEvr0H4qm84WpHg7VTgAIUoIBbBBjQ1THrAvqECcD48XYby54diI4GfvkFkPnoLBSgAAUo4P0CDOhqx4gB3VFAn1cXodE/os/D/uj+6mBUzJ9J7WiwdgpQgAIUcIsAA7o6Zl1AHzcOmDjRbmOZMgHXrwMnTgAyH52FAhSgAAW8X4ABXe0YMaA7CugLGiL08n70f9gPL/d8A88UzKx2NFg7BShAAQq4RYABXR2zLqCPHg1MmWK3sQwZgDt3gDNnAJmPzkIBClCAAt4vwICudowY0B0F9EWNEXrxOwx++BpadxuKqkWyqh0N1k4BClCAAm4RYEBXx6wL6CNGANOn220sMBB49Ai4cAGQ+egsFKAABSjg/QIM6GrHiAHdUUB/pyZCrx3GgseNUfrlt1CjRA61o8HaKUABClDALQIM6OqYdQF92DBgxgybjcXFAf7+pm9duQJERKjrE2umAAUoQAHjBBjQjbO0VRMDuqOAPiIjQoP8tCPup8uB4CazgFJN1Y4Ia6cABShAAeUCDOjqiHUB/Y03gNmzbTYmT87lCbqUf/4BZD46CwUoQAEKeL8AA7raMWJAdzGgx8EPWlRvu5IhXe01ydopQAEKKBdgQFdHrAvoAwcCc+bYbEzmnsscdCm3bwPp06vrE2umAAUoQAHjBBjQjbO0VRMDuosB3XSYHxCaCxh4FPAPUDsyrJ0CFKAABZQJMKAro4UuoPfvD8yda7MxWb3d/NT8wYP/nqar6xlrpgAFKEABIwQY0I1QtF8HA3qiAvqTg7tsBQpWVzsyrJ0CFKAABZQJMKAro9UH9L59gffes9mY7H8u+6BLiY0F/EwzylgoQAEKUMDLBRjQ1Q4QA3pSAnqrZUDZ1mpHhrVTgAIUoIAyAQZ0ZbT6gP7aa8CCBTYbi4oyrdyeNi3w8KG6/rBmClCAAhQwVoAB3VjPhLUxoCcloPMJutqrkrVTgAIUUCzAgK4OWPeKe69ewKJFNhs7e9a093lIiGkvdBYKUIACFPANAQZ0tePEgJ6ogM456GovR9ZOAQpQwD0CDOjqnHUBvXt3YOlSm42dPAmUKAGEhwP//quuP6yZAhSgAAWMFWBAN9YzYW0M6C4GdK7irvZCZO0UoAAF3CnAgK5OWxfQX3kFeP99m439+itQtiyQLRsg89FZKEABClDANwQY0NWOEwO6iwH9TnB2pG86m1usqb0eWTsFKEABtwgwoKtj1gX0zp2BFStsNvbzz0DFikDu3MBff6nrD2umAAUoQAFjBRjQjfVMWBsDuqOA/mF3hJ7egK9jKuBC/SXoVr2I2tFg7RSgAAUo4BYBBnR1zLqA/tJLwIcf2mzshx+AKlWAAgUAmY/OQgEKUIACviHAgK52nBjQHQX0bVMRemAG1j2uhRv130avGoXVjgZrpwAFKEABtwgwoKtj1gX0Dh2A1attNrZnD1CjBlCsGCDz0VkoQAEKUMA3BBjQ1Y4TA7qjgP7VTITum4JNMc/h8vNz0acWn6CrvRxZOwUoQAH3CDCgq3PWBfS2bYF162w2tnMn8PzzQJkywNGj6vrDmilAAQpQwFgBBnRjPRPWxoDuKKB/E4nQ78Zha0wVnK31Hl5/vqja0WDtFKAABSjgFgEGdHXMuoDeqhWwcaPNxrZvBxo1AsqXB2Q+OgsFKEABCviGAAO62nFiQHcU0L+dh9BdI/FlzNM4XmMBBtUrpnY0WDsFKEABCrhFgAFdHbMuoLdoAWzaZLOxTz8FmjUDKlcGDhxQ1x/WTAEKUIACxgowoBvrmbA2BnRHAf27xQj9Zgh2xpTDoecWYWiDEmpHg7VTgAIUoIBbBBjQ1THrAnrTpsCWLTYb+/hjoHVr4LnnAJmPzkIBClCAAr4hwICudpwY0B0F9H3LEfpVf+yJKYO9VZdiZKOSakeDtVOAAhSggFsEGNDVMesCeuPGwGef2WxszRqgY0egTh3gm2/U9Yc1U4ACFKCAsQIM6MZ6JqyNAT2eyLx58yD/YmJicOrUKdw48BFCt/XGD7El8PUzH2BM41JqR4O1U4ACFKCAWwQY0NUx6wK6TDL/4gubja1cCXTpAjRoAMh8dBYKUIACFPANAQZ0tePEgG7D13LjdnADQrd2x8+xRfDp0ysxoWlptaPB2ilAAQpQwC0CDOjqmHUBvX594MsvbTa2dCnQsyfQpAkg89FZKEABClDANwQY0NWOEwO6o4D+8ycI3dIZR2MLYH2FjzC5eRm1o8HaKUABClDALQIM6OqYdQG9bl3g669tNrZgAdCnD+BgoXd1nWTNFKAABSiQZAEG9CTTufRBBnRHAf3I5wjd3AEnYvNiRbk1mN6yrEuoPIgCFKAABbxbgAFd3fjoAnrt2oBseG6jzJ0LDBwItG8PyHx0FgpQgAIU8A0BBnS148SA7iigH/0aoRtb4UxsTiwsuw6z2jyldjRYOwUoQAEKuEWAAV0dsy6g16gB7N5ts7FZs4Bhw4DOnYEVK9T1hzVTgAIUoICxAgzoxnomrI0B3VFAP74Loeua4kJsNswpvRFvtyundjRYOwUoQAEKuEWAAV0dsy6gO9hDbdo0YPRooHt3QOajs1CAAhSggG8IMKCrHScGdEcB/eQ+hK5uhMtxmTCtxGa806G82tFg7RSgAAUo4BYBBnR1zLqA/uyzwP79NhubMAGYOBHo3RuYP19df1gzBShAAQoYK8CAbqxnwtoY0B0F9N8PInTV87gWlxHjin2KeS9VUDsarJ0CFKAABdwiwICujlkX0CtXBg4csNmYPD2Xp+j9+wMyH52FAhSgAAV8Q4ABXe04MaA7CuhnDyN0eU3cjEuHoUW2YlGnp9WOBmunAAUoQAG3CDCgq2PWBfSnnwYOHrTZ2NChwOzZwJAhgMxHZ6EABShAAd8QSEpAj4qKwvDhw7Ft2zbcu3cPxYoVw7Jly1CxYkXfOGk39pIB3VFA//MYQt9/Fvfj0qJfoW1Y2qWSG4eGTVGAAhSggCoBBnRVsoAuoJcvD/z8s83GZAV3eXI+ahQwdaq6/rBmClCAAhQwViCxAf3ff/9F+fLlUbt2bfTu3RsRERE4c+YMChQogMKFCxvbuRRQGwO6o4D+12mELqmImDg/dMv/FVZ0eyYFDDlPgQIUoAAFGNDVXQO6gP7UU8CRIzYbkz3QZS/08eMBmY/OQgEKUIACviGQ2IA+YsQI7Nu3D3v27PGNE/RwLxnQHQX0S2cRutC0tVqn3NuwqmdVDw8Xm6cABShAASMEGNCNULRdhy6glykDHD1q88AePYBly0xPz+UpOgsFKEABCviGQGIDeqlSpdCgQQPtDavdu3cjd+7c6NOnD3r27OkbJ+zmXjKgOwro0VEInVfSFNBzbsGqV2u5eXjYHAUoQAEKqBBgQFehaqpTF9BLlgSOH7fZWJcuwMqVwMyZgMxHZ6EABShAAd8QMP+cP378uBa2zSUoKAjyL2EJDg7WvjR48GC0adMGP/74IwYOHIhFixahc+fOvnHSbuwlA7qjgH7tKkLfMc2L6BKxESv61HPj0LApClCAAhRQJcCArko2QUAvXhw4ccJmYx06AGvXApGRwIAB6vrDmilAAQpQwFgBc0BPWOv48eMxwcacpcDAQDz99NPYH2/bzf79++PgwYP4/vvvje1cCqiNAd1RQL9+HaFz8pkCetY1WNHvhRQw5DwFClCAAhRgQFd3DeieoBcpApw+bbOx1q2Bjz827YEue6GzUIACFKCAbwgk9gl6/vz5Ua9ePSxdutRyggsWLMCUKVMgq7uz6AUY0B0F9Bs3kCGyEPxjH6FL+AqsGNic1w8FKEABCqQAAQZ0dYOoC+gFCwJ//GGzsaZNgc8+A5YsAWQ+OgsFKEABCviGQGLnoHfs2BEXLlzQLRI3aNAg/PDDD7qn6r5x9up7yYDuJKCnf6c4Ah7fRdfQpVg+uI36EWELFKAABSigXIABXR2xLqDnzw+cO2ezsUaNgO3bgRUrAE5BVDcerJkCFKCA0QKJDejyKnvVqlUxceJEtG3bVpuDLgvELV68GC+99JLR3fP5+hjQnQT0dO+VQdqHN9Atw3y8P4QXkM9f8TwBClCAAgAY0NVdBrqAnicPcOGCzcaefx7YuRNYvRqQ+egsFKAABSjgGwKJDehyVlu3bsXIkSNx+vRpFCxYUFswjqu42x5vBnQnAT14fnkE3v8b3UPmYtmwrr7xXw17SQEKUIACDgUY0NVdILqAnisXYGN+YUwMUK4c8Ouvpj3Qx4wBAgLU9Yk1U4ACFKCAcQJJCejGtZ7ya2JAdxbQF1VG4J2L6Bk8G0tGcK++lP+fBM+QAhRIDQIM6OpGWRfQs2cHLl/WNbZpk2nV9r/++u/L8qB97lygZUt1/WLNFKAABShgjAADujGO9mphQHcS0IOWPIegW3/i1cDpWDSqj9rRYO0UoAAFKOAWAQZ0dcy6gJ41K3D1qqUxCeeyentcnL59Pz/T/964kSFd3ciwZgpQgALGCDCgG+PIgJ4Ix/g3boHv10bw9d/RO81ELBgzMBG18FAKUIACFPBWAQZ0dSOjC+iZMwPXrmmNyWvtBQron5zH74WEdHmSfvYsX3dXNzqsmQIUoEDyBRjQk2/oqAY+QbehowvoKxog+Npx9PUfg3njhqodDdZOAQpQgAJuEWBAV8esC+hhYcD161pju3YBtWs7b/fbb4FatZwfxyMoQAEKUMAzAgzoat0Z0J0F9A+bIDj6CF73G4F3x49UOxqsnQIUoAAF3CLAgK6OWRfQM2QAbt3SGluzBujY0Xm7XNXduRGPoAAFKOBJAQZ0tfoM6M4C+pqWCL50EAPj3kDkxHFqR4O1U4ACFKCAWwQY0NUx6wJ6SAhw547WGJ+gqzNnzRSgAAXcKcCArlabAd1ZQF/fHsF/7cMbsf3x1qTJakeDtVOAAhSggFsEGNDVMesCelAQcP++1ph5DrrsupZwkTj5PuegqxsT1kwBClDASAEGdCM1retiQHcW0D/ujOA/v8XQx70xa8qbakeDtVOAAhSggFsEGNDVMesCetq0wMOHlsbMq7jLF+KHdK7irm48WDMFKEABowUY0I0W1dfHgO4koAd90h1Bf3yFEY964s2ps9WOBmunAAUoQAG3CDCgq2PWBXR/f9Oj83jF1j7oefMCkZHcYk3dqLBmClCAAsYJMKAbZ2mrJgZ0JwE9eGtvBJ7aijGPXsGkyXPg7/9ks1a148LaKUABClBAoQADujpcXUCXZmJjTe+vxyuS2bNlA/79F1i6FOjalVurqRsR1kwBClDAWAEGdGM9E9bGgO4koKfbPgBpj2/CpEedMGLiOwhM4692RFg7BShAAQooF2BAV0dsFdAljcuT9AQlIgK4ehU4ehQoU0Zdf1gzBShAAQoYK8CAbqwnA7oLnvFv3EK+Hoo0R9di+qMOGDh+HtIFBrhQAw+hAAUoQAFvFmBAVzc6VgFd5qDLXPQEJWtW4No14PhxoGRJdf1hzRSgAAUoYKwAA7qxngzoLnjGv3FL/+1oBBxeidmP2uDVsQuQMdj6JsOFKnkIBShAAQp4kQADurrBsAro9+4BwcFWDWbKBFy/Dpw4ARQvrq4/rJkCFKAABYwVYEA31pMB3QXP+DduGfZMgv/BJZj7uAU6j1yMTOkDXaiBh1CAAhSggDcLMKCrGx2rgC77oMt+6AlKWBhw8yZw+jRQpIi6/rBmClCAAhQwVoAB3VhPBnQXPOPfuGXcPx1+B+ZjweMmaD18GbJlDHKhBh5CAQpQgALeLMCArm50rAK6pPCMGa0azJABkOx+5gxQqJC6/rBmClCAAhQwazAf0gAAIABJREFUVoAB3VhPBnQXPHU3bj+8BeyLxNLHjdB46HLkCLN+Tc+FKnkIBShAAQp4kQADurrBsAro8h67PC5PUOShurz9fu4ckD+/uv6wZgpQgAIUMFaAAd1YTwZ0Fzx1N24/vQt8NxMrHtfD82+sRJ5M1q/puVAlD6EABShAAS8SYEBXNxhWAV1Wgsuc2apBmZb+4AFw/jwg+6CzUIACFKCAbwgwoKsdJ26zZsNXd+N2eBHw7RSsflwb1QZ9hPxZ0qsdEdZOAQpQgALKBRjQ1RFbBfToaNOm5wmKLOz++DHw119A7tzq+sOaKUABClDAWAEGdGM9E9bGgO4soP/yPrBjPDbG1ED5/mtQOFsGtSPC2ilAAQpQQLkAA7o6YquAfvkykD27VYMBAUBsLHDpEpAjh7r+sGYKUIACFDBWgAHdWE8GdBc8dTduxz4EvhyJLTFVUaLvehTPYb3QjQtV8hAKUIACFPAiAQZ0dYNhvnG77u+PMEngUVFArly6BuPiAH9/05euXAEiItT1hzVTgAIUoICxAgzoxnoyoLvgqbtxO7EO+GIIvoh5Bvl7b0TpXNYL3bhQJQ+hAAUoQAEvEmBAVzcYloCeNi3CHj2yOclccrs8QZfy999Alizq+sOaKUABClDAWAEGdGM9GdBd8NTduP3+CfDp6/g6pgKyv7oZ/8sT7kINPIQCFKAABbxZgAFd3ehYAnpQEMJkFTgby7RLbg8MNPXhn3+ATJnU9Yc1U4ACFKCAsQIM6MZ6MqC74Km7cTv7BbD5VeyO+R8y9vwUFfLxLsIFQh5CAQpQwKsFGNDVDY8loIeEIOzuXZsbnUtul1Xcpdy4AYSGqusPa6YABShAAWMFGNCN9WRAd8FTd+N2/mtgYzfsjymFtN0/R6UC1lvFuFAlD6EABShAAS8SSE0Bff78+Zg1axYuXbqE0qVLIzIyEtWrV7c7Gg8ePMCkSZPw4Ycf4vLly8iTJw9Gjx6Nbt26uTSCloCeIQPCbt8GTp8GihTRfVZye/onm6LcugVk4PqrLtnyIApQgALeIMCArnYUuIq7DV/djVvUbmDdyzgYWwyPumxD1cJZ1Y4Ia6cABShAAeUCqSWgr1u3Dp06dYKE9GrVqmHRokVYunQpjh8/jnz58tl0btasGa5cuYIpU6agSJEiiI6OxuPHj1G1alWXxsUS0ENDEXbzJnDiBFC8uO6zktszPllz9c4dICTEpap5EAUoQAEKeIEAA7raQWBAdxbQL38PrG6LI7GFcKvTV6he1HovV7VDxNopQAEKUMBogdQS0CtXrowKFSpgwYIFFsKSJUuiefPmmD59uhXr9u3b0b59e/zxxx/InDlpb4yZb9z+zZQJ4f/+Cxw7BpQqpWtLcnvYkzVX798HgoKMHmHWRwEKUIACqgQY0FXJmuplQHcS0NNf+QkBH7XA8dj82F1nE3rVKIwAfz+1o8LaKUABClBAqUBqCOgPHz5ESEgINmzYgBYtWlg8BwwYgCNHjmD37t1Wxn369MGpU6fw9NNPY9WqVUifPj2aNm2KyZMnI126dDbHRF6Jl3/mEhUVhVKlSuHfzJkRLivAHT0KlCmj+6zkdnP+f/gQSJtW6XCzcgpQgAIUMFCAAd1ATBtVMaA7COgbvz+Jb77ZjvmPxuJ0bG7UezgLOcOCMb5JKTQsk1PtyLB2ClCAAhRQJpAaAvrFixeRO3du7Nu3T/d6+rRp07BixQqcPHnSyrdhw4bYtWsX6tati3HjxuHvv/+GhPY6derg/ffftzkeEyZMwMSJE62+92+2bAi/ehU4cgR46ind969dA7I+mTEWE/PfnujKBpwVU4ACFKCAYQIM6IZR2qyIAd1BQM83cD0qBv+FTUETcC42O2o9nAPzs/MFL1dgSFd7bbJ2ClCAAsoEUlNA379/P5599lmL5dSpU7Wn4ydkbniCUr9+fezZs0dbHC7syTvomzZtQuvWrXHnzh2bT9HtPkHPkQPhly8Dhw4BFSroWoqOBrJnN31J9kT344tpyq51VkwBClDAaAEGdKNF9fUxoDsI6HkHrsf/gi9ja9AYRMVlQbUH72pHy31EjrBg7B1eh6+7q70+WTsFKEABJQKpIaAn5RX3Ll26aE/cf//9d4v7b7/9pr2yLq++Fy1a1Ol4WOag58qF8IsXgYMHgaef1n1OcnvOnKYn5/IEnYUCFKAABXxHgAFd7VgxoDsJ6CWD/8aXQSNwNS4MlR78t8iOfGxNzyp4tnAWtSPE2ilAAQpQwHCB1BDQBU0WiatYsaK2iru5SNiWldptLRK3ePFiDBw4UFu5PcOTvc+2bNmCli1b4vbt23bnoccfIEtAz5MH4X/9BRw4IB3RjWFUFJAnD5AmDfDokeHDywopQAEKUEChAAO6QlwuEmcb13zjJk/QiwRfx86gIbgelx7lHizRfWBu+3JoVi632hFi7RSgAAUoYLhAagno5m3WFi5cqL3mLgF8yZIlOHbsGPLnz4+RI0dCFnVbuXKlZiwhXFZ5r1KlijavXOag9+jRAzVr1tQ+50qxBPT8+RH+55/Avn1Agi3aLlwAZJc3Wb1dVnFnoQAFKEAB3xFgQFc7VnyCbsM3fkDPF3wbe4MG4k5cEEo/+EB3NJ+gq704WTsFKEABVQKpJaCLnzw9nzlzJi5duoQyZcpgzpw5qFGjhkbbtWtXnDt3TlsYzlxkbvrrr7+uveqeJUsWtG3bVtsT3d4q7gnHyHzj9k/Bgsh09iywZw/w3HO6w86dAwoWBGRh+Lt3VY0y66UABShAARUCDOgqVP+rkwHdQUCXReJyBN3HD8H98DAuAMUerNKO5hx0tRcla6cABSigWiA1BXTVlnYDeuHCyHTmDCDhv2ZN3WF//AEULgykTy9P7d3dQ7ZHAQpQgALJEWBAT46e888yoDsJ6FmDHuNQ8GvaUQXufwS/J+u4cxV35xcXj6AABSjgrQIM6OpGxvIEvWhRZDp9Gti5E6hdW9egrEEn682FhgI3bqjrC2umAAUoQAHjBRjQjTeNXyMDuoOALvugL9h5AjsedtKOKnp/JbKGZeA+6GqvSdZOAQpQQLkAA7o6YktAL1ECmWQrt6+/BurW1TUoW7CXKAGEhwP//quuL6yZAhSgAAWMF2BAN96UAd2Jafwbt/RBaRAwPaf2iX75t2Jul+e4tZraa5K1U4ACFFAuwICujtgS0EuVQqbjx4Ht24EGDXQN/vYbUKoUkCUL8Pff6vrCmilAAQpQwHgBBnTjTRnQExHQQzOkByZl1j4xpvhWTOlQXe2IsHYKUIACFFAuwICujtgS0MuUQaZffwW++AJo1EjXoHy5bFkgWzYgOlpdX1gzBShAAQoYL5DYgD5hwgRtZ5D4JXv27Lh8+bLxnUsBNfIVdxuDmPDGLXZCJvgjFiMLfozpXfSv6aWAa4CnQAEKUCDVCTCgqxtyS0B/6ilk+r//Az77DGjcWNfgL78ATz0F5MgBXLqkri+smQIUoAAFjBdISkDfuHEjduzYYelMQEAAsslfaVmsBBjQXQjojydFIE3sAwzJ8xFm99DfZPCaogAFKEAB3xNgQFc3ZuYbt2sVKiDzzz8Dn3wCNGuma/DwYaBCBSBXLiAqSl1fWDMFKEABChgvkJSA/sknn+DIkSPGdyYF1siA7kJAfzQlN9I+vo0BEe9jbp9WKfAy4ClRgAIUSF0CDOjqxtsS0CtWROZDh4BNm4AWLXQNypeffhrImxc4f15dX1gzBShAAQoYL5CUgD5r1iyEhYUhKCgIlStXxrRp01CoUCHjO5cCamRAdyGgP5xeAIEP/kW/TAvx3oAOKWDYeQoUoAAFUrcAA7q68bcE9GeeQeYffwQ2bABat9Y1ePAg8MwzQP78wLlz6vrCmilAAQpQwHgB88/548ePI3fu3JYGJHzLv4Rl27ZtuHv3LooVK4YrV65gypQpOHHiBI4dO4Ysslooi04gRQb0CxcuoFOnToiOjkaaNGkwduxYtGnTxuWhT3jj9mBGMQTdu4LXMkRi4ZBXXK6HB1KAAhSggHcKMKCrGxdLQK9SBZkPHADWrQPattU1KF9+9lmgYEHgjz/U9YU1U4ACFKCA8QLmn/MJax4/fjxkQThn5c6dOyhcuDCGDRuGwYMHOzscuH4d2LgROHMGGDoUyJwZkClU2bMD8f5A4Lwi3zgiRQb0S5cuaX+dKVeunBbSK1SogJMnTyJ9+vQujYpVQJ9dGkG3/0KvoBlYPPI1l+rgQRSgAAUo4L0CDOjqxsYS0KtWReb9+4HVq4EO+rfP5MvVqgFFigCnT6vrC2umAAUoQAHjBRL7BN1WD+rVq4ciRYpgwYIFjjsoq4rWrQuEhZleuTp5EpBX48eOBf78E1i50vgT9HCNKTKgJzT93//+h88//xx5ZbKbC8UqoM8pj6Abf6BHwGQsHdvfhRp4CAUoQAEKeLMAA7q60bEE9OrVkXnPHmDVKuDll3UNypdr1ACKFTPda7FQgAIUoIDvCCR2DnrCM3vw4IH2BL1Xr14YN26c4xOXcC6ris6cCWTMCMjuIBLQ5S+9HTumyHlSXhnQv/vuO8hCAocOHYI8Dd+8eTOaN2+uG7z58+drx8j3S5cujcjISFSvbr1H+U8//YSuXbviV9l01cWiu3HLkB6PIp9C2psXMCP2ZQyf8A7gH+BiTTyMAhSgAAW8UYABXd2oWAJ6zZrIvHs3sGIF0LmzrkH5cq1aQMmSwPHj6vrCmilAAQpQwHiBxAb0IUOGoEmTJsiXL5/2drPMQd+9ezeOHj2K/LIYiaMiT87ldfbChfUBXZ6eFy8O3L9v/Al6uEavDOiykMC+ffu0V9NbtWplFdDXrVunzTGXkF6tWjUsWrQIS5cuhSxUIANvLteuXdNCu3yvatWqLlNbbtx+WIPQvROBmxctn40LzQW/hjOAUk1dro8HUoACFKCAdwkwoKsbD/ON29916iDLzp3A++8Dr+jXb5EvP/88ULo0kIi/n6vrNGumAAUoQAGXBRIb0Nu3bw95APv3339re59XqVIFkydPRqlSpZy3KfPMt28HypfXB/SvvgK6dwcuXHBeh48d4ZUBPb6hn5+fVUCXpfklvMefs1CyZEntKfv06dO1j8urEzK3oWfPnlqYd1TkWPlnLnLjJq/D3xgRitAECxHGwQ9+cmDblQzpPnaxs7sUoAAF4v+cl+1ebty4gdDQUMIYKGAJ6HXrIsuOHcCSJUCPHroW5Mv16gH/+5/pbUUWClCAAhTwHYHEBvRknVmvXsDVq8D69abF4WROekAAIG9Xy1ypyMhkVe+NH/a5gP7w4UOEhIRgw4YNaBFvX9UBAwbgyJEj2usScXFx6NixI4oXL+7SSoKy2uDEiROtxufGiIwIDdLieILiB4TmAgYe5evu3nhVs08UoAAFnAjwCbq6S8QS0OvXRxZ5wrFoESA3WPHKl18CDRsC5coBhw+r6wtrpgAFKEAB4wXcGtBv3gReeAE4dgy4dQvIlQu4fNm0FcgXXwAuLgJuvIK6Gn0uoF+8eFHbb09egY//2rpsdr9ixQpttfa9e/eiRo0akMXhzGXVqlUoW7asTUn7T9DtBfQn1XTZChS0nveubrhYMwUoQAEKGCHAgG6Eou06LAG9YUNkkdcS588HevfWHbxtm+l+S9b9OXRIXV9YMwUoQAEKGC/g1oBu7r7MjZK56LGxpl8esnhcCi0+G9D379+PZ+UvJ0/K1KlTISFcNr1PbrHcuNl9gv6khVbLgLKtk9scP08BClCAAm4WYEBXB24J6C++iCyffw689x7Qt6+uQfly48ZApUrAjz+q6wtrpgAFKEAB4wXcGtBlG7V27YCgBPOOHz4E1q61WoTU+LN1f40+F9BdecU9uYwuB3Q+QU8uNT9PAQpQwCMCDOjq2C0BvUkTZPnsM2DuXKC/fovSTz8FmjUDKlcGDhxQ1xfWTAEKUIACxgu4NaDLfPNLl4CICP2JXLtm+lpMjPEn6OEaDQvokyZNgiyhL/PD45d79+5p26E53ePODoS9ReIqVqyoreJuLrIKYLNmzSyLxCXH9b+Abr1InKlezkFPji8/SwEKUMDTAgzo6kbAEtCbN0eWTz4B3n4bGDRI16B8WZaRkQ1W9u1T1xfWTAEKUIACxgu4NaD7+wNXrgDZsulPRFYYrV0b+Ocf40/QwzUaFtADAgK0PckjEvx1Q7Y6k6/FJOKvG7dv38bvv/+u0ZQvXx5vv/02ateujcyZM2vbqJm3WVu4cKH2mvvixYuxZMkSHDt2zPleei6A6wO6LBIXZ/kUV3F3AZCHUIACFPByAQZ0dQNkvnG72rIlsm7aBMyeDbzxhq7Bjz8GWrcGnnsO2LNHXV9YMwUoQAEKGC/gloAu26r5+Zm2+pA9OdOk+e9EJFeePWtabVRWd09hxbCA7u/vjytXrmh728UvO3fuRLt27XBVlsd3sezatUsL5AlLly5dsHz5cu3L8vR85syZ2h8FypQpgzlz5mgLwxlRHO2Dfi9dDqRrMotbrBkBzTooQAEKeEiAAV0dvCWgt2mDrBs2ADNmAMOG6RqUL7dtC9SsCezapa4vrJkCFKAABYwXcEtAN++wJf9X/sibIcN/JxIYCBQoALRqBcj/n8JKsgN6pkyZIK+hm/eSlf/fXOSpuTwNf+211zBv3jyfodPduGVID3wzGdg3B0diCuFciy1oXiGfz5wLO0oBClCAAtYCDOjqrgpLQG/bFlnlyca0acDIkboGZV2fDh1MbyfKwrwsFKAABSjgOwJuCehmjhUrTIvEBQf7DlAye5rsgC5bm8m+4926dUNkZCTCwsIsXQoMDESBAgV0q60ns79u+bjVjduJL4C1HXA4tghONN6MDs8woLtlINgIBShAAUUCDOiKYAFYAnr79sgqSXzKFGD0aF2Dq1cDL71k2iXn66/V9YU1U4ACFKCA8QJuDejGd9/ra0x2QDef4e7du1GtWjWkiT8/wOtP33YHrW7czu0Flr+IM7E5sav+NnR/rqCPnhm7TQEKUIACIsCAru46sAT0l15C1o8+AuT1xHHjdA2uWmXaGad+feDLL9X1hTVTgAIUoIDxAm4N6DLffM4c01zz8+cB2V4tfuEicfYH+Oeff0batGlRtmxZ7aAtW7bggw8+gKyuPmHCBMjTdG8v8hq+/JNX80+dOmV5bR+XjwILn8PVuDCsr7UTfWsX8fZTYf8oQAEKUMCBAAO6usvDEtA7d0ZW2b9Wwrl5LuGTZuWNxa5dTev7bNumri+smQIUoAAFjBdwa0CX3yFLlwKDBwNjx5reyDp3DpDtQOR7CbbxNP5s3V+jYU/QK1WqhBEjRqBVq1b4448/tGDesmVLHDx4EC+++KL2+ruvFKsbt+vngciyeBCXFu9U3YuhDUr4yqmwnxSgAAUoYEPAGwN65szAqVNA1qxAt26m7cMzZvS94bME9K5dkVUWdh0zBpg8WXciH3xgOscXXwS2bvW9c2SPKUABCqRmAbcG9MKFgXfeMf3CkF+KR44A5q8dOADInKkUVgwL6DL3XJ6iFy5cGDNmzICs3v7ll19i3759aN++PS5cuOAzdFY3bvdvAG+a5p1PLb8Lo5uV95lzYUcpQAEKUMBawBsDuixQ+8svQKFCQEAAcPmy9bavvjCW5hu36O7dkW3ZMtMCcbJQXLwiD0N69gSaNAE+/dQXzop9pAAFKEABs4BbA3r69MBvvwH58gE5cwKffw5UqAD88Yfsxw3cuJHiBsawgB4aGopDhw6haNGiqFevHho3bowBAwbg/PnzKF68OO7du+czeFY3brGxiJuUGX6Iw9SSn2J0u5o+cy7sKAUoQAEK+EZAr1cPuHIFqFgRMC9amy6d7dF7/33vHVVLQO/ZE9mWLAGGDwfefFPX4cWLgVdfBZo3BzZv9t5zYc8oQAEKUMBawK0BvXhxQKZLVa4MVK9uepI+YgSwbh3w+utAdHSKGyLDAnqdOnWQN29e1K1bF927d8fx48dRpEgRyOJxsn/5OZkr4CPF1pOVB1PyIOjxLUwruBKjujTzkTNhNylAAQpQwJaANz5Bl3Au6+CcOQN8/LFpfnZQkO3x8+ZQawnor76KbIsWAUOGALNm6U5kwQKgTx+gZUvTubJQgAIUoIDvCLg1oEsYDw0FRo0CNm407dEpe6DLgnGDBln9Adh3FO331LCA/ssvv+Cll17SnpgPHjwY48eP11p9/fXXce3aNaz2ofkBtm7cbs8oiQz3LmJ67vcwsmenlDD2PAcKUIACqVbAGwN6/MEoWBD46ScgSxbfGyJLQO/dG9kkicsN1Ntv605k3jygXz+gTRvTwrwsFKAABSjgOwJuDegJWX74Adi3DyhSBGja1HfQEtFTwwK6vTbv37+PgIAAbYV3Xym2btyuv/0Mwm+exMys0zCsX19fORX2kwIUoAAFbAh4Y0BPaYvERffti2ySxAcMABIsFCvr/ciX27UDZKt0FgpQgAIU8B0BtwX0R4+AXr1Mq7fLAi2ppBge0GUe+m+//QY/Pz+ULFkSFWQSv48VWzdu196riyx/H8ScsBEYNGikj50Ru0sBClCAAvEFvDGgp7hF4vr3RzZJ4vKo/N13dReg5HV5sN6xIyBbpbNQgAIUoIDvCLgtoAtJeDjw888M6Em5PKKjo9GuXTttznl4eDji4uK0fcRr166NtWvXIlu2bEmp1iOfsXXj9veSVsgatQPvpe+LfkP1q9F6pJNslAIUoAAFkizgjQE9xS0SN2gQssmk+t69gfnzdWP11lumqekvvwysWpXkYeQHKUABClDAAwJuDeivvAKULWvaBz2VFMOeoEs4P3PmDFatWqU9OZciC8XJAnGyWNyaNWt8htTWjdvVVd2Q7czHWBTYBa+OesdnzoUdpQAFKEABawFvDOjxF4nbtAlo0MC3F4m78sYbiJAkLsu1L1yoGwRZM27YMKBzZ9OK9SwUoAAFKOA7Am4N6FOnArNnA88/b9rmRLZdi1/69/cdOBd7alhAl33Qd+zYgUqVKuma/vHHH1G/fn1cv37dxS55/jCbAX3DIGQ79j5WBLREl7EfeL6T7AEFKEABCiRZwBsDevyTSQmLxF0ZOhQRksR79ABku7V4ZcYM0y458mDEm7eMS/IFxg9SgAIUSMECbg3o8gvRXvHzM+2HnsKKYQE9Y8aM2LNnD8qVK6cjOnz4MGrWrAm5GfL2Mm/ePMi/mJgYnDp1SntFX/Z3l/LP1gnI/NMcrEd9tJ2wwdtPhf2jAAUoQAEHAt4a0F94AZAXzsLCTJ2XBwd9+5qm4Em5ds20Dezx4947vOYbtysjRiBC9j/v1g1YtkzX4WnTgNGjge7dgaVLvfdc2DMKUIACFLAWcGtAT4UDYFhAb9asmfaUXF5lz5Url0YZFRWlbb2WKVMmbPbmTVsTDLzNVdx3RiL8u/H47P/Zuw/oKKq3DeDPboCEltCkJKEJCIQgTZAuIEqRDmJAqhRBEVBBsFGUKiBBpAkCAaUTBAFBPukdRTQSEfEfEEgoUkJN293v3N1sSNnd2TI37GafOYejktl37vzu7HifzMwdfUO0/+QHLzxUuMsUoAAFco6AuwZ0rRa4cgUoXtxkLX5HfOrUo7lxxG3w4n+xOp379kWWgC5+o/DJJ6bfLPj4GBs+aZJpUl4xOa94VToXClCAAhTwHAEGdLl9pVpAv3jxIkRI/+OPP1C6dGnjLO7inejVq1fH5s2bERwcLHdPVKxu8T3oR5ejwI4R2KOrgecm7oNWq1FxiyxFAQpQgALZKeApAb1gQeC33zwzoN8uWBABd+8+6lYxDpgzB+jSBRMnAhMmAEOGAOJV6VwoQAEKUMBzBBjQ5faVagHd3Mxdu3bhzJkzxlncQ0JC0LJlS7l7IKG6pYFbYtRm+G7sg1/0lVDlw6PI75tLwpZZkgIUoAAFskOAAV2esnngJmaeSb1T37Qx8aygWDZswPjfuhgvqovb97/8Ul5bWJkCFKAABdQXYEBX3zR9RZcD+u7duzFs2DAcPXo07Xlt8wbEM9wNGzbEwoUL0UTc2uYhi6WBW8q5fcj1TQf8rQ/CP91/wgshJeHDq+ge0qNsJgUoQIGMAu4a0MUd4OIWd/ObScUV9N9/B8xz5HjSLe7x4hb9zAeeCOnBwfi4VwwmTfXBW28B4lXpXChAAQpQwHMEGNDl9pXLAb1Dhw7Gd52//fbbFlv6xRdfYM+ePR79DPqOP+KwevNWRCSPwhVDYdRPnIdSAX4Y3z4ErUNLye0hVqcABShAAdUF3DWgi2fQ27R59Hq1778HWrR49FaZxERgxw7PeAbdYkBP7cnFPfdg8KpmGDkSEK9K50IBClCAAp4jwIAut69cDuhly5bFjh070t59nrm54nZ38Zo18Ty6pyzpB26H/72Pod+cRGnNFez3fQeJhlzomzwWJ/RVoIcWC3rVZkj3lI5lOylAAQqkCrhrQBevHbNnWebGb/s0D9xsBfTV7Veh5/c98M47gHhVOhcKUIACFPAcgWwJ6A8eAKNHA999ByQnA+KxaXHLVbFingPlZEtdDuh+fn7GieEqVqxosQnnzp0zThT38OFDJ5uY/R8zD9xu3rqNtgt+xtN392Ni7giU1NxKa0ysoQg+Se6D3wo2xcExLXi7e/Z3E7dIAQpQwGkBdw3oTu+QG33QnoC+oPsevLGuGUaNAsSr0rlQgAIUoIDnCGRLQBfhfP584NVXgbx5gVWrgGbNgPU5/3XXLgf0ChUqYObMmejcubPFoyoyMhKjRo3C/zzoJfLmgduuX2Owft0yLMgdbty39I+c6w2m3R2aPBL9BgxHgwpFPedbxZZSgAIU8HIBBnR5B4DNgJ76DPqorjGYFe6DMWMA8ap0LhSgAAUo4DkC2RLQK1QAJk8GwsJMMMePA40aAQkJaa/s9Bwxx1rqckB/6623sHfvXpw4cQLiano1kLNuAAAgAElEQVT6RVw1r1evnvEZdfEsuqcs5oHbqv1/4Ln/a4eSuJkhnJv3Q4T0KyiKE532omOtMp6ye2wnBShAAa8XYECXdwjYM4v7yP1djG9ce/99YMoUeW1hZQpQgAIUUF8gWwJ6njxATAwQFPRoB8SV9LNngdKl1d8pN6rockC/evUqateuDR8fH+Ns7pUrVza+A/3PP//EvHnzoNPpcPLkSZQoUcKNdtt2U8wDt6M71+HZwwMV2336hVWo1uglxfW4AgUoQAEKuIcAA7q8fjAP3G6VKIFCYtp58yIGVOHhxvegDx8OzJ0LfPQR8Omn8trCyhSgAAUooL5AtgT0zK81EbuR+dUm6u+aW1R0OaCLvbhw4QKGDh2KnTt3Gt9/LhYR0lu1aoX58+ejXLlybrGz9jbCPHC7dWg5Cv04XPFj+i5LoH36ZcX1uAIFKEABCriHAAO6vH5IG7jFxCD4qadMk/usXg28/HLabYni/efi0cJx44CJE+W1hZUpQAEKUEB9gWwJ6JlfayJ2I/OrTcTfRUaqv4OPuaIqAd28D7du3YKYFE6E9EqVKqFw4cKPefec23zawO23H+Af+Ypykb5bgfKe85535R3iGhSgAAVytgADurz+zTBwa9AAuHTJ9Oxg3bppGx06FFi40BTORUjnQgEKUIACniOQLQG9Xz9xxVcZxZ1fa6LceotrqBrQnWyD23xM3JJvvi3/7NmziL91E/5LG8JwJw4apM4Kl661Bmig8Q8ERkYBWh+32Q82hAIUoAAFbAswoMs7QjIM3Dp0AH79Fdi2DWjbNm2jgwcDixebbm8Xt7lzoQAFKEABzxHIloDuORyqt5QB3QJphoHbpb3Auj7GeJ4+pBvDufhs9xVASAfVO4YFKUABClBAngADujzbDAO3AQOAH38EIiKAPn3SNjpwIPD116YJej/4QF5bWJkCFKAABdQXyJaALt4AVr68fVfR1d/Fx1qRAV0poPv7A9FbgB1jgDuxj9b2DwJaT2M4f6yHLzdOAQpQwDkBBnTn3Oz5VIaBm3iPmnh37cyZwLvvpn38tdcAcVeieMWaWIULBShAAQp4jkC2BHQxSVxcHFC8uAnmlVcA8VYwD5p43NkeZUC3J6CLdfQ6PPxuJPL+vgL7daFoMG4vcufO7aw7P0cBClCAAo9RgAFdHn6GgZsI5uJ9apleeN63L7BiBfDZZ8Do0fLawsoUoAAFKKC+QLYEdDFJ3JUrjwK6mMH9t9+AJ59Uf4fcrCIDur0BXWT0XyKg/X44ftLVQrVRO1AyION7392sb9kcClCAAhSwIsCALu/QyDBwE7e2i4fMxSVzcU976tK7N/DNN8CsWcA778hrCytTgAIUoID6Aq4G9KlTp+KDDz7AiBEjEC5ev2lpYUBXv+M8uaLVgdufW4G1r+KkviJyD96N6sEBnrybbDsFKEABrxVgQJfX9RkGbtu3A6+/DrRvD2zZkrbRnj1Nb16bPRsYOVJeW1iZAhSgAAXUF3AloJ84cQLdu3eHv78/mjdvbj2gZ34Pupe8A130Fq+gWzhmrQ7czh8ClrfFP/pSuNBzH1pUKaH+Ec+KFKAABSggXYABXR5xhoHbiRNAly5A/frAkSNpGw0LA9auNT1O+NZb8trCyhSgAAUooL6AswH93r17qF27NubPn49JkyahZs2atq+gt2kD+PqadsDSO9DF3/M96Op3sDtWtDpwu/YnML8+bhoK4MeXjiCsXhl3bD7bRAEKUIACCgIM6PIOkQwDt/PngSZNgAoVgHPn0jb68svAhg3Al18Cb74pry2sTAEKUIAC6guYz/PR0dEICgpK24Cvry/EH2tL3759UaRIEcyePRvNmjWzHdD797ev4XwPun1Onr6W1YHb3SvArMrQGTSY3+QY3mpZ2dN3le2nAAUo4JUCDOjyuj1DQL9/H6hSBRBvRImPT9to166mix4LFgBDhshrCytTgAIUoID6AubzfObK48ePx4QJEyxucM2aNZg8eTLELe5+fn7KAV39ZntMRd7ibqGrrA7cUhKBSaap/qdU/wEfdG3oMR3NhlKAAhSgwCMBBnR5R0OGgJ4vH1C0qGljCQlptyp26gRs3gwsWgQMHiyvLaxMAQpQgALqCzh6Bf3ixYt45pln8OOPP6JGjRrGBileQVe/2R5TkQHdkYAOIPnTksite4jXCy9Bv3YtUK98EfhoNR7T4WwoBShAAQoADOjyjoIMAT0wEMiTB9DpgEuXgNRbITt0MD1OuHgxMHCgvLawMgUoQAEKqC/g6DPo3333HTp37gwfMfFb6qLT6aDRaKDVapGYmJjhZ+q32LMqMqA7ENB3/BGHpzc0RiD+Q8fET/CboSJKBfhhfPsQtA4t5Vk9z9ZSgAIU8GIBBnR5nZ9l4FaiBHDtGjB1qmmyuCZN0K6jD7ZtA5YuBex9zFBei1mZAhSgAAUcEXA0oN+9excXLlzIsIn+/fujSpUqGDNmDEJDQx3ZfI5flwHdzoAuwvnQb05ia573UU17AX2TxmCfvgbM184X9KrNkJ7jvy7cQQpQIKcIMKDL68kMA7fjx4FXXgFSUh5tMDgYnxabg3GnumD5cqBvX3ltYWUKUIACFFBfwNGAbqkFvMXder8woNsR0HV6AxpP3424+AR8k3syGvucxoikN7BZ39j4aRHSSwb44eCYFrzdXf1zACtSgAIUUF2AAV110rSC5oFb3FdfoaR4B7rBkHFjGo3xr7piA7qs7IJeveS1hZUpQAEKUEB9AQZ09U3TV2RAtyOgH/nnBnosPmpc88vcc9DO5xjGJ/dFhK5Vhk+vHlQfDSqkToYjt99YnQIUoAAFXBBgQHcBT+Gj5oHbrZIlUejKFYtr66HBJQTj0MoY9Oj16JlEea1iZQpQgAIUUEtAjYCuVltyYh0G9HS9Om/ePIg/YtKCs2fPIj4+Hv7+/th86jJGrDllXHNSrq/RK9dPCE/pgvCUbhmOiTlhNdGx5qN3AebEA4b7RAEKUCAnCDCgy+tF88BNvFTNX2Ezuz/egxafNJPXGFamAAUoQAHVBRjQVSfNUJAB3YJv5oFb+ivoo3KtxbBcm7EspRUmpmR8cI5X0OUerKxOAQpQQC0BBnS1JLPWcSSgHx2+CvXn9JDXGFamAAUoQAHVBRjQVSdlQFcizTxwMz+DfiU+Aa/5bMPHub/Fd7qGGJk8zFiKz6ArifLnFKAABdxLgAFdXn84EtD3T9yDpuN4BV1eb7AyBShAAfUFGNDVN01fkVfQLfhaGriZZ3Hv6rMPM3Mvwl5dDfRLHsNZ3OUen6xOAQpQQIoAA7oUVmPRDM+gX72adZI4AOZn0E9uiEGnrnwGXV5vsDIFKEAB9QUY0NU3ZUBXMLU2cBMhffemZfhMNx3n9cUxNmUwLhaogY87VOcr1uQep6xOAQpQQFUBBnRVOTMUyzKLu/hp+pnc083i3m9zF3ToIK8trEwBClCAAuoLMKCrb8qA7mRAR/QWGLa+Dc2D/9IqGPwDoWk9HQjhCEPuocrqFKAABdQTYEBXzzJzpSzvQR82DIiLe7Ra6dJ4L084ZvzTBVu3Ai+9JK8trEwBClCAAuoLMKCrb8qA7kxAj94CrOsjLgNk+rR4Ah1A9xUM6XKPVVanAAUooJoAA7pqlFkKZRm4JScDfn6AXg+sXw907ow69Xxw8iSwfTvQpo28trAyBShAAQqoL8CArr4pA7qjAV2vA8JDgTuxVj6pAfwDgZFRgJbP0sk9ZFmdAhSggOsCDOiuG1qrYHHgFhwMXL4MnDgBPPMMatUCTp0Cdu4EXnxRXltYmQIUoAAF1BdgQFfflAHd0YAecwCIaKfcE323AuWbKK/HNShAAQpQ4LEKMKDL47c4cKtXzxTON2+GeOj86aeBqChg1y6gZUt5bWFlClCAAhRQX4ABXX1TBnRHA3rUBmDjAOWe6Po1UL2b8npcgwIUoAAFHqsAA7o8fosDt06dTOF8wQJgyBCEhgKnTwO7dwPNm8trCytTgAIUoID6Agzo6psyoDsa0HkFXe5RyOoUoAAFslmAAV0euMWB2xtvmML5uHHAxImoWhU4cwbYuxd47jl5bWFlClCAAhRQX4ABXX1TBnRHA3raM+hiFtrMk8SJYnwGXe5hyuoUoAAF1BVgQFfXM301iwO3Tz81hfOBA4HFi1G5MnD2LLB/P9CET4bJ6wxWpgAFKCBBgAFdAmq6khqDIf3LSeVuzFOqWxy4pc3iLvbiUUg3QCPiOWdx95TOZTspQAEKAGBAl3cYWBy4ff21KZy3bQts24ZKlYBz54BDh4CGDeW1hZUpQAEKUEB9AQZ09U3TV2RAt+BrdeAmQvqOMRlmc9cVCIRPW74HXe5hyuoUoAAF1BVgQFfXM301iwO3H34whfOaNYFff8WTTwIxMcCRI0D9+vLawsoUoAAFKKC+AAO6+qYM6AqmNgdu4nb3ZW2Bi0fxdUprNBy6EFWDCsvtJVanAAUoQAFVBbwpoM+fPx8zZsxAXFwcqlWrhvDwcDSx477yQ4cO4bnnnkNoaChOiXei2blYHLj99pspnJcoAVy5gnLlgAsXgOPHgbp17SzM1ShAAQpQwC0EGNDldgOvoFvwVRy4bRoK/LYKU5N74LnXJqFhhWJye4nVKUABClBAVQHF87yqW3t8xdauXYvevXtDhPRGjRph0aJFWLJkCaKjo1GmTBmrDYuPj0ft2rVRsWJFXL161fWAHhcHBAaatrdrF8r2a45/L/vg55+BOnUenw+3TAEKUIACjgswoDtu5sgnGNCdCejbRwPHv8LclE6o8Mo0tK1eyhFzrksBClCAAo9ZwFsC+rPPPmsM2gvEDOqpS9WqVdGpUydMnTrVai+EhYWhUqVK8PHxwXfffedaQI+MBEaMAC5dStterDYYw/RzMO7XLsYL61woQAEKUMBzBBjQ5fYVA3o633nz5kH80el0OHv2LMQVBH9//6w98NMnwIFZWJbSCr7tZ6Lns9avQsjtPlanAAUoQAFnBLwhoCclJSFfvnxYv349OnfunMY0YsQIY+Det2+fRbply5YZr7gfOXIEkyZNci2gi3vYu3UDMs1HqzdNr4p/Z21AuXe6ONOF/AwFKEABCjwmAQZ0ufAM6BZ8FQduBz4HfpqI9SlNce352XizeUW5vcTqFKAABSigqoDieV7VrT2eYrGxsQgKCoJ4lrxhuqnSp0yZgoiICPz1119ZGvb333+jcePGOHDgAJ566ilMmDBBMaAnJiZC/DEvly9fRkhICC6eP4/gxo0zXDlPv0ER0lNKBiPPpRjAx+fxIHGrFKAABSjgsAADusNkDn2AAd2ZgH58MbB9FLbr6uHX+nPw4UshDqFzZQpQgAIUeLwC3hTQDx8+jAYNGqSBT548GStXrsSZM2cydIK4e6x+/foYMGAAhgwZYvyZPQFdrDNx4sQsHRq7bh1Kde+u3NF79gDNmimvxzUoQAEKUMAtBBjQ5XYDA7ozAf23NcCm17FfVx1bnp6HmS/XkNtLrE4BClCAAqoKeENAd/QW99u3b6Nw4cLG587Ni16vh8FgMP7djz/+iBYtWmTpB2tX0OO+/BIlhw1T7rdVq4AePZTX4xoUoAAFKOAWAgzocruBAd2ZgP7nVmDtqzipr4hxxcKNV9DrlS8CH63pmTouFKAABSjg3gLeENBFD4hJ4urUqWN8pty8iNvPO3bsmGWSOBHGxezu6Rfxud27d2PDhg0oX7488ufPr9ix5oEbr6ArUnEFClCAAh4pwIAut9sY0J0I6Md3b0K9/f1wVh+EF5NmGCuUCvDD+PYhaB3KGd3lHrKsTgEKUMB1AW8J6ObXrC1cuNB4m/tXX32FxYsX4/Tp0yhbtizef/99iGfGV6xYYRHVnlvcM38wbeBmfgb98uUsk8SJz4hn0PWlgpHrIp9Bd/2IZgUKUIAC2SfAgC7XmgHdwYC+4484LPh2PTb7fozLhqJolDjXWMF87XxBr9oM6XKPWVanAAUo4LKAtwR0ASWugn/22WeIi4tDaGgoZs+ejaZNmxoN+/Xrh/Pnz2Pv3r3qB/SLFxFsnsVdVE83k7t5Fvf/Fm5A8dc5i7vLBzQLUIACFMhGAQZ0udgM6A4EdJ3egMbTdyPvnf9ht+8oxBvyoUbikrQKIqSXDPDDwTEteLu73OOW1SlAAQq4JOBNAd0lKCc+nGXgZuE96BdRGiMQjjn/dkHp0k5shB+hAAUoQIHHJsCALpeeAd2BgH7knxvosfgoiuMWjvu9CZ1BgwqJ36S7fm4qtnpQfTSoUFRuz7E6BShAAQo4LcCA7jSd4gctDtx0OmDWLGDMGKBiRfjGnEGSzgfi7vfAQMWSXIECFKAABdxIgAFdbmcwoDsQ0DefuowRa04hHxIQ7fea8ZNVEpYhAb4ZqswJq4mONYPk9hyrU4ACFKCA0wIM6E7TKX7Q6sDt6FFAvO6tfHloz//PeMd7XBxQsqRiSa5AAQpQgAJuJMCALrczGNAdCOjmK+iAAf/z7QWtxoC6CfNxHYUyVOEVdLkHLatTgAIUcFWAAd1VQeuftzpwE+9dr1oVhsKFob1101jg2jXgiSfktYWVKUABClBAfQEGdPVN01dkQHcgoJufQb8Sn4DffQegoOYhmiXOwnmDaeZ2PoMu92BldQpQgAJqCTCgqyWZtY7VgduVK0CpUjBotfDRJ8MALf77DyjKJ8LkdQYrU4ACFJAgwIAuATVdSQZ0BwK6WFXM4j70m5M47DsMpTQ30S5xEv4wPMlZ3OUep6xOAQpQQFUBBnRVOTMUszpwS0gA8uY1ruuPeNyFP27eBAoXltcWVqYABShAAfUFGNDVN01fkQHdwYBuDulVNj6PcobLCEv6CEf1IXwPutzjlNUpQAEKqCrAgK4qp30BXazl5wckJqIMLuAiyiA+HvD3l9cWVqYABShAAfUFGNDVN2VAVzC1Z+Bm+KoFNLG/YGDSu6jYpDtGt6rMV6vJPVZZnQIUoIBqAvac51XbmJcVsjlwEzPCXb2Kp/EbovA07t4FChTwMiDuLgUoQAEPF2BAl9uBvIJuwdeugVtEByBmH0YkvYEabQfjtcbl5fYUq1OAAhSggGoCdp3nVduadxWyOXCrUgX46y80xT4cQFM8eJB217t3IXFvKUABCniwAAO63M5jQHc2oK95FTizFR8mv4Ynmg/FyJZPye0pVqcABShAAdUEGNBVo8xSyObArX594NgxdMBmfI8OEI+l+2Z8U6m8hrEyBShAAQqoIsCArgqj1SIM6M4G9E1DgN9WY2pyDyTXH45x7UPk9hSrU4ACFKCAagIM6KpROhbQW7cGdu5EXyzHCvRFcjKQK5e8trAyBShAAQqoL8CArr5p+ooM6M4G9G2jgBOL8UVKJ/xb4x3MfLmG3J5idQpQgAIUUE2AAV01SscCelgYsHYtRiAcX2AEdDpAq5XXFlamAAUoQAH1BRjQ1TdlQFcwtWvg9n8TgYOfY1lKKxx56j181ecZuT3F6hSgAAUooJqAXed51bbmXYVsDtyGDAEWLcJ4TMAnGA+DwbtsuLcUoAAFcoIAA7rcXuQVdAu+dg3cDswCfvoE61KeQ2SZ97FmcAO5PcXqFKAABSigmoBd53nVtuZdhWwO3MaOBaZPx2yMxCjtbOMVdC4UoAAFKOBZAo4G9AULFkD8OX/+vHFHq1WrhnHjxqFNmzaetePZ1FoGdGcD+vHFwPZR2K6rhy+LjcP2EU2yqcu4GQpQgAIUcFWAAd1VQeuftzlwmz4dGDsWy9APg3MtMz6DzoUCFKAABTxLwNGA/v3338PHxwcVK1Y07mhERARmzJiBX3/91RjWuWQUYEBP5zFv3jyIPzqdDmfPnkV8fDz8/f0tHzOnVgPfDcF+XXV8UOATHBzTgscWBShAAQp4iAADuryOsjlwW7QIGDIEm9AJPXw3GWdx50IBClCAAp4l4GhAt7R3RYoUMYb0AQMGeNbOZ0NrGdAtINs1cDu9BVjfGzH6EvhUOwRLx40AtD7Z0GXcBAUoQAEKuCpg13ne1Y146edtDtzWrgXCwrAHzfBS3j3G96BzoQAFKEABzxIwn+ejo6MRFBSU1nhfX1+IP7YWcSF0/fr16Nu3r/EKekgI34SV2YsB3ZmAHr0F2DoSeHAj7dMG/0BoWk8HQjp41jeMraUABSjghQIM6PI63WZA37kTaN0av6Immhb4FXfvymsHK1OAAhSggBwB83k+c/Xx48djwoQJFjcaFRWFBg0aICEhAQUKFMCqVavQtm1bOQ308KoM6I4GdBHO1/UBkHHqWQM00Iha3VcwpHv4l4LNpwAFcr4AA7q8PrYZ0I8dA+rXRwzKoaZ/DOLj5bWDlSlAAQpQQI6AM1fQk5KS8O+//+L27dvYuHEjlixZgn379vEKuoUuYkB3JKDrdUB4KHAn1srRrgH8A4GRUbzdXc75gFUpQAEKqCLAgK4Ko8UiNgP6X38BVargFgqhQuFbuHlTXjtYmQIUoAAF5Aio8Qx6y5YtUaFCBSwSc5NwySDAgO5IQI85AES0Uz6E+m4FynNWd2UorkEBClDg8QgwoMtztzlwu3oVKFkSemhQokgKrt/QymsIK1OAAhSggBQBNQL6888/j9KlS2P58uVS2ujJRRnQHQnoURuAjXbMNNj1a6B6N08+Lth2ClCAAjlagAFdXvfaHLjdvw8UKGDc+Kv+3+Pbm20AH06wKq83WJkCFKCA+gKOBvQPPvjA+M5zEcjv3r2LNWvWYNq0adixYwdeeOEF9Rvo4RUZ0B0J6LyC7uGHO5tPAQpQwCTAgC7vSLA6cIuMBEaMAC5derTx4GBgzhygSxd5DWJlClCAAhRQVcDRgC5epfbTTz8hLi4OAQEBePrppzFmzBiGcyu9woDuSEBPewY9LsskcaYyfAZd1W8/i1GAAhSQJMCALgkWIn9fMl4luXjxIoJFABeLCOfdugGGjBOsQmOcXhXYsIEhXV6XsDIFKEABVQUcDeiqbtwLijGgOxLQxbpps7iL/3g00OAs7l7wbeEuUoACOUaAAV1eV2YZuOl0QLlyGa+cp9+8COkiyMfE8HZ3ed3CyhSgAAVUE2BAV43SYiEGdEcDujmk7xiTYTb3u3lKoGCnmXzFmtzjldUpQAEKqCLAgK4Ko8UiWQZue/cCzZsrb3DPHqBZM+X1uAYFKEABCjxWAQZ0ufwM6M4EdPEZcbv70lbApRP4KqUtrtb7AB93qC63t1idAhSgAAVUEWBAV4XRvoC+ejXQs6fyBletAnr0UF6Pa1CAAhSgwGMVYECXy8+A7mxAF5/bNBT4bRWmJYfhZJl+eLvlU6hXvgh8tKnP1MntO1anAAUoQAEnBRjQnYSz42O8gm4HElehAAUo4MECDOhyO48B3YWAfv7b4Sj3dwQWprTHtBTTb/1LBfhhfPsQtA4tJbfnWJ0CFKAABZwWYEB3mk7xg1afQb98OeskcaIan0FXNOUKFKAABdxJgAFdbm8woDsZ0Hf8EYfTqz/Gu7nXY3VKc7yfMshYyXztfEGv2gzpco9dVqcABSjgtAADutN0ih+0OYu7+HT6mdw5i7uiJ1egAAUo4G4CDOhye4QB3YmArtMb0Hj6bjx/73tMyr0MP+jqYmjy22mVREgvGeCHg2Na8HZ3uccvq1OAAhRwSoAB3Sk2uz7k0HvQS5cGwsP5ijW7ZLkSBShAAfcQYECX2w8M6E4E9CP/3ECPxUfRXnsYc/N8iSO6EPRI/ihLpdWD6qNBhaJye5DVKUABClDAYQEGdIfJ7P6AzYGbToerz3VHiUOR2FroVbT7L4KvVrNblitSgAIUcA8BBnS5/cCA7kRA33zqMkasOYUm2t+xMs80/KkvgzZJ07JUmhNWEx1rBsntQVanAAUoQAGHBRjQHSaz+wNKA7eY7mNQfv1nWPnEO+h9bZbddbkiBShAAQq4h4DSed49Wum5rWBAdyKgm6+gh2r+h62+HyHOUAQNEr/MUolX0D33i8GWU4ACOVuAAV1e/yoN3P5+dTwqrfoE6554A92vzZPXEFamAAUoQAEpAkrneSkb9aKiDOhOBHTzM+i57vyLA74j8dCQB1UTl6dV4jPoXvQN4q5SgAIeKcCALq/blAZuf/adhqor3seWYq+hw/Wv5TWElSlAAQpQQIqA0nleyka9qCgDuhMBXXxEzOL+3jcH8bvfQGOFygnLkYg8nMXdi7483FUKUMBzBRjQ5fWd0sDtj4HhCP36bfxYtAde/G+VvIawMgUoQAEKSBFQOs9L2agXFWVAdzKgG0N6VCxabqyGXNCjXsI8XENhvgfdi7483FUKUMBzBRjQ5fWd0sDt1yELUWvRUOwr0hnP3YiU1xBWpgAFKEABKQJK53kpG/WiogzoLgR08VHDZ09C8+AGXkycjpbPNcO7L1bmq9W86AvEXaUABTxTgAFdXr8pDdx+HrYcz8zrj6OF26D+ze3yGsLKFKAABSggRUDpPC9lo15UlAHdxYCOuXWAG+fQPfFjvNCmCwY1fdKLDh/uKgUoQAHPFGBAl9dvSgO3IyPWoMEXPXCyUHPUvrVbXkNYmQIUoAAFpAgoneelbNSLijKguxrQl7wAXDqOwUlv48kmYRjbpooXHT7cVQpQgAKeKcCALq/flAZuB979Dk0+74zT/g1QLf6wvIawMgUoQAEKSBFQOs9L2agXFWVAdzWgf9sd+HsnRicPBmr2woyXa3jR4cNdpQAFKOCZAgzo8vpNaeC2Z8wONP+sDf4uWAuV7pyU1xBWpgAFKEABKQJK53kpG/Wiogzorgb0yNeB39dgSnIPnKs0AEv71fWiw4e7SgEKUMAzBRjQ5fWb0sBt54f70GpKM1zIXxVl70XLawgrU4ACFKCAFAGl87yUjXpRUQZ0VwP6D2OBYwswP6UDdpYags1vNvKiw4e7SgEKUMAzBRjQ5fWb0sBt27hjeAkzs4gAACAASURBVOnT+riStxxKPoiR1xBWpgAFKEABKQJK53kpG/Wiogzo6Tp73rx5EH90Oh3Onj2L+Ph4+Pv72z4c9kwF9k3DIV0I1uTtgblj3wS0Pl50CHFXKUABCnieAAO6vD5TGrh9N/E3dJpQEzd9S6JIQpy8hrAyBShAAQpIEVA6z0vZqBcVZUC30Nl2D9yitwBbhgEJ8Y+q+AcCracDIR286DDirlKAAhTwLAG7z/OetVtu0Vqlgdv6SX/h5Y+r4F7uQiiQdMst2sxGUIACFKCA/QJK53n7K3FNSwIM6M4GdBHO1/URb0LPUMEADTTib7qvYEjnd44CFKCAmwowoMvrGKWB27dTLuDVD8shUesHX91DeQ1hZQpQgAIUkCKgdJ6XslEvKsqA7kxA1+uA8FDgTqyVQ0UDiCvpI6N4u7sXfZm4qxSggOcIMKDL6yulgdvy6VfRb2xJUwP0ekBj/LU2FwpQgAIU8BABpfO8h+yG2zaTAd2ZgB5zAIhop9ypfbcC5Zsor8c1KEABClAgWwUY0OVxKw3cFs+Mx6DRhUwNSEgAfH3lNYaVKUABClBAdQGl87zqG/SyggzozgT0qA3AxgHKh0rXr4Hq3ZTX4xoUoAAFKJCtAgzo8riVBm5ffp6EYe+mhvLbt4GAAHmNYWUKUIACFFBdQOk8r/oGvawgA7ozAZ1X0L3sa8LdpQAFcpoAA7q8HlUauIXPNmD4Oz7Qijlc4uKAkqm3u8trEitTgAIUoICKAkrneRU35ZWlGNCdCehpz6CL18NknCROlBMTxYln0DV8Bt0rv1TcaQpQwP0FGNDl9ZHSwG3WLGDoqHzIh4dATAxQrpy8xrAyBShAAQqoLqB0nld9g15WkAHdmYAuPpM2i7spkpsXfeq/fpD7PTTr9Bpah5byskOKu0sBClDA/QUY0OX1kdLAbcYMYMB7RVAEt4A//wSqVJHXGFamAAUoQAHVBZTO86pv0MsKMqA7G9BTQ/rD70cj78MraVViDUUxMbk3ftTXM/7dgl61GdK97EvF3aUABdxfgAFdXh8pDdymTQP6vB+IQMQBv/4K1KwprzGsTAEKUIACqgsonedV36CXFWRAdyGg6/QGNJ22C1MfTkRTnz/wTUoLjEt5DXpojVXFi2NKBvjh4JgW8NHyNTJe9t3i7lKAAm4swIAur3OUBm5TpgBhHz6JJxEDHDkC1K8vrzGsTAEKUIACqgsonedV36CXFWRAdyGgH/nnBnosPoqxuVZhSK6t+DqlDT5N6Z2l4upB9dGgQlEvO7S4uxSgAAXcV4ABXV7fKA3cPv0U6DouBCH4E9izB2jWTF5jWJkCFKAABVQXUDrPq75BLyvIgO5CQN986jJGrDmFAT7b8XHub/C9rj7eSh6epeKcsJroWDPIyw4t7i4FKEAB9xVgQJfXN0oDt4kTgfYTaqM2fgV++AFo3VpeY1iZAhSgAAVUF1A6z6u+QS8ryIDuQkA3X0Fvpz2CL/PMxTF9FbySNC5LRV5B97JvFXeXAhRwewEGdHldpDRwGz8eePGTRmiEw8CmTUCnTvIaw8oUoAAFKKC6gNJ5XvUNellBBnQXArp4Br3x9N0oc+dXrPX9FP/Tl0SLpM/TKvIZdC/7NnF3KUABjxFgQJfXVUoDt48+AppPfh7PYzewahXQo4e8xrAyBShAAQqoLqB0nld9g15WkAHdhYAuPrrjjzhM/3Yb9vi+i/sGX1RLXGasaJ4SjrO4e9k3irtLAQp4hAADurxuUhq4ffAB0GjqS3gJ24GlS4H+/eU1hpUpQAEKUEB1AaXzvOob9LKCDOguBnTx8V2nzuGF7+oYK1VL+Br3kRelAvwwvn0IX7HmZV8o7i4FKOAZAgzo8vpJaeA2ZgxQ77Ou6IpIYP58YOhQeY1hZQpQgAIUUF1A6Tyv+ga9rCADugoBXZQwTAmGJukumifOQo0adTCre02+Ws3LvkzcXQpQwHMEGNDl9ZXSwG30aKDmzFfxKlYBn38OvP22vMawMgUoQAEKqC6gdJ5XfYNeVpABXaWAjrl1gBvnEJb0EUo+3RLhYbW87FDi7lKAAhTwHAEGdHl9pTRwe+cdoNrsARiApYB4Kfr778trDCtTgAIUoIDqAkrn+cwbnDp1KiIjI3HmzBnkzZsXDRs2xPTp01G5cmXV25YTCjKgqxXQl7YF/j2E5Skv4vwTz2PCW4MArU9OOEa4DxSgAAVynAADurwuVRq4jRwJVJrzJt7EfGDcOEC8d40LBShAAQp4jIDSeT7zjrRu3RphYWGoW7cuUlJS8OGHHyIqKgrR0dHInz+/x+x3djWUAV2NgB69BYgcDKQ8fFTNPxBoPR0I6ZBdfcntUIACFKCAnQIM6HZCObGa0sDtrbeAsl+OwijMAt57D5g+3Ymt8CMUoAAFKPC4BJTO80rtun79OooXL459+/ahadOmSqt73c8Z0F0N6CKcr+sjnkLPUMkAjWkm9+4rGNK97mvFHaYABdxdgAFdXg8pDdzefBMoNf8jfITJgEjrX3whrzGsTAEKUIACqgsoneeVNnju3DlUqlTJeBU9NDRUaXWv+zkDuisBXa8DwkOBO7EWDxwR0uEfCM3IKN7u7nVfLe4wBSjgzgIM6PJ6R2ngJiZtL7pwEibhY2DQIOCrr+Q1hpUpQAEKUEB1AfN5XtyiHhQUlFbf19cX4o+txWAwoGPHjrh16xYOHDigettyQkEGdFcCeswBIKKd4nFwvGkE6rXopLgeV6AABShAgewRYECX56wU0AcPBvwXz8RMjAZ69wZWrJDXGFamAAUoQAHVBczn+cyFx48fjwkTJtjc3ptvvolt27bh4MGDCA4OVr1tOaEgA7orAT1qA7BxgOJxMDxpGNr2HMZ3oitKcQUKUIAC2SPAgC7PWSmgDxwI+H39Jb7EW8DLLwPr1slrDCtTgAIUoIDqAs5eQX/rrbfw3XffYf/+/Shfvrzq7copBRnQXQnodl5BF69eu1CwNg6OacF3o+eUbw73gwIU8GgBBnR53acU0Pv3B3yWL8ESDALatwe2bJHXGFamAAUoQAHVBZTO85k3KG5rF+F806ZN2Lt3r/H5cy7WBRjQXQnoqc+gG+7EQZNpkjhRVm8ArqAoGifOgR5arB5UHw0qFOXxSAEKUIACj1mAAV1eBygN3Pr2BXQrvsE36A288ALw44/yGsPKFKAABSiguoDSeT7zBt944w2sWrUKmzdvzvDu84CAAON70blkFGBAdyWgi89Gb4FhXR+I3wxpjdO2mxYRzsUyNHkkdurrGf99TlhNdKz5aCIFHowUoAAFKPB4BBjQ5bkrDdx69QIefrsRG9ENaNIE2L9fXmNYmQIUoAAFVBdQOs9n3qBGky4kpfvhsmXL0K9fP9Xb5+kFGdBdDegA/trzLQru/QiBmptp1WINRTExuXdaOBc/4BV0T/+6sP0UoEBOEWBAl9eTSgO3nj2B+NXbsA3tgGeeAU6ckNcYVqYABShAAdUFlM7zqm/QywoyoKsQ0HV6A5pO24VPHk7G8z6nsEHXBO8lv268rV0s4ndGJQP8+Ay6l325uLsUoID7CjCgy+sbpYFbWBhwfe1P+AktAfH+26goeY1hZQpQgAIUUF1A6Tyv+ga9rCADugoBXZTY8Uccfl89Hu/lXouNusZ4N/mNtHAu/mVBr9qcxd3LvlzcXQpQwH0FGNDl9Y3SwE1M3B674RAOoTFQsSLw99/yGsPKFKAABSiguoDSeV71DXpZQQZ0lQK6KHPqh69R89g7OK6vjO5J442VSwX4YXz7EIZzL/ticXcpQAH3FmBAl9c/SgO3rl2B85G/4Bc8A4h34F68KK8xrEwBClCAAqoLKJ3nVd+glxVkQFcxoOPSL8CSFrjpUxS178/Fy3WCMa3r03y1mpd9qbi7FKCA+wswoMvrI6WBW6dOwN+bT+M0QoFixYDr1+U1hpUpQAEKUEB1AaXzvOob9LKCDOhqBvT7N4AZTxorVk5YjjY1yyE8rJaXHVLcXQpQgALuL8CALq+PbA3cdDrTxO1Xj/yDf1ARhgIFoLl7V15jWJkCFKAABVQXYEBXnTRDQQZ0NQO6wQBMCQKS72NS8qt4UDQUU0a+Dmh95PYiq1OAAhSggEMCDOgOcTm0srWBW2QkMGIEcOkSUAqxiEUQkpEL329MRpcuDm2CK1OAAhSgwGMUYECXi8+ArmZAj94CbOgP6FPSqj70K4F/nx2Pis/15K3uco9lVqcABShgt4A3BfT58+djxowZiIuLQ7Vq1RAeHo4m4jK2hSUyMhILFizAqVOnkJiYaFx/woQJaNWqld22lgZuIpx36waI32OLpTBu4iaKGv89N5KxdmMuhnS7hbkiBShAgccrwIAu158BXa2ALsL5uj4AUkcfqXX1qf/5Qe730KzTa5wsTu7xzOoUoAAF7BLwloC+du1a9O7dGyKkN2rUCIsWLcKSJUsQHR2NMmXKZLEaOXIkAgMD0bx5cxQqVAjLli3DzJkzcezYMdSqZd8jW5kHbuK29nLlTFfOzUtePMAD5Df+Z0HcReHSBRATA/jwhjO7jl+uRAEKUOBxCjCgy9VnQFcjoOt1QHgocCfWYm+JkH4FRdEkcQ7m9XqGIV3uMc3qFKAABRQFvCWgP/vss6hdu7bxqrh5qVq1Kjp16oSpU6cqOokVxFX0V155BePGjbNr/cwDt717gebNM35UCx10yGX8y2K4jhsohj17gGbN7NoEV6IABShAgccowIAuF58BXY2AHnMAiGin2FNhSR/hQsHaODimBW93V9TiChSgAAXkCXhDQE9KSkK+fPmwfv16dO7cOQ1zxIgRxlvY9+3bpwis1+tRrlw5vPfeexg2bJji+mKFzAO31auBnj2zBvQE+CI3dHgZ6xCJLvhmlQ969LBrE1yJAhSgAAUeowADulx8BvR0vvPmzYP4o9PpcPbsWcTHx8Pf31+5B6I2ABsHKK43PGkYtugbYvWg+mhQwfTsHRcKUIACFMh+AW8I6LGxsQgKCsKhQ4fQsGHDNOQpU6YgIiICf/31lyK8eHZ92rRp+PPPP1G8eHGL64tn1cUf83L58mWEhITg4sWLCA4ORuYr6J0RiTkYgdJ4dM/7RQQjfuIchI7jbHGKncIVKEABCjxmAQZ0uR3AgG7B1+GBmwNX0I/qQzAnrCY61gyS27OsTgEKUIACVgUcPs97oKU5oB8+fBgNGjRI24PJkydj5cqVOHPmjM29Wr16NQYOHIjNmzejZcuWVtcVk8hNnDgxy8/NAd38DPrly0AnQyQ2oJtxvhZtuk/ooYFGA2g2bABni/PAg41NpgAFvEqAAV1udzOgqxHQU59BN9yJgybTJHGivPkZ9MaJc6CHllfQ5R7TrE4BClBAUcAbArort7iLyeX69+9vvD3+pZdesumpdAVdfFjM4t69qw4xKIcgXMoQztOKi4QeHAzOFqd4+HIFClCAAo9VgAFdLj8DuhoBXdSI3gLDuj4wZL4qkDqL+9DkkfhRXw8lA/z4DLrcY5rVKUABCigKeENAFwhikrg6deoYZ3E3L+L2844dO1qdJE5cOX/ttdcg/ikmk3N0sTZw2//JXjQdn2m2OEvFOVuco+RcnwIUoEC2CjCgy+VmQFcroKeG9Iffj0beh1fSqsYaimJicm9jOBfLgl61OYu73GOa1SlAAQooCnhLQDe/Zm3hwoXG29y/+uorLF68GKdPn0bZsmXx/vvvQzwzvmLFCqOZCOV9+vTBnDlz0KXLo+fB8+bNi4CAAEVXsYLVgZul2eIsVVy1Cpwtzi5qrkQBClDgsQgwoMtlZ0BXM6CLWnod/l05FGVi1uKwrip6JX9ovK29VIAfxrcPYTiXezyzOgUoQAG7BLwloAsMcfX8s88+Q1xcHEJDQzF79mw0bdrU6NSvXz+cP38ee8VMbhCvOWtmcXb3vn37Yvny5XbZWh24WXrfmqWKvIJulzNXogAFKPC4BBjQ5cozoKsd0EW9szuBVd3xX65S+ORBVwSXKYd3B/aHTy7TO1+5UIACFKDA4xXwpoCe3dJWB26ps8XpL12G1sJ8LcZZ4vgMenZ3F7dHAQpQwGEBBnSHyRz6AAO6jIB+4mtg2zsZKifmK4lcL30Gn2odHeogrkwBClCAAuoLMKCrb2quaGvgZtgYCUM3MYs7MoZ0Ec7Fwlnc5XUMK1OAAhRQSYABXSVIK2UY0NUO6NFbgNTJ4lKHG8YtiJncxfjjVIMvUKtVX7m9yuoUoAAFKGBTgAFd3gFia+AmXpfewy/re9BRujQQHs5XrMnrFlamAAUooJoAA7pqlBYLMaCrGdDTXrcWi/Th3LwJ8+vWfu+2H62rB8vtWVanAAUoQAGrAgzo8g4OWwO3O3cAMdecFjoktesCn61bgD59gKVLAR8feY1iZQpQgAIUUE2AAV01SgZ0eymdHrjFHAAi2ilu5o3cn2Du+8Pho7UU4xU/zhUoQAEKUMBFAafP8y5u1xs+bmvgdu0aUKKESUH/7mhoZs0E3n0XmDnTG2i4jxSgAAVyhAADutxu5BV0C75OD9yiNgAbByj22PCkYegx4B00qFBUcV2uQAEKUIAC6gs4fZ5Xvyk5rqKtgdu//wJlywK+vkDC+xOBCROAIUOABQtynAN3iAIUoEBOFWBAl9uzDOhqBnQ7r6CHJX2EHt17omPNILm9y+oUoAAFKGBRgAFd3oFha+D299/AU08B/v5A/MczgdGjgV69gJUr5TWIlSlAAQpQQFUBBnRVObMUY0BXM6DrdUicGYLc96/A0t3r5mfQGyfOwbeDGvIKutxjm9UpQAEKWBVgQJd3cNgauEVFAU8/DRQvDlydsAB44w2gc2cgMlJeg1iZAhSgAAVUFWBAV5WTAd0eTlcGbrrTm6Fd3wcGAzKEdBHOxfJG8kj8VrApDo5pwWfQ7ekMrkMBClBAgoAr53kJzclRJW0N3H7+GahbFyhTBrgwaaVpgrgXXwR27sxRBtwZClCAAjlZgAFdbu/yCroFX1cHbr/ujECJwxMQqLmZVj3WUBQTk3vjR309LOhVG61DS8ntWVanAAUoQAGrAq6e50lrXcDWwO3gQaBJE6BSJeDstEiga1egYUPg0CGSUoACFKCAhwgwoMvtKAZ0CQFdlNwRdQm+m15Dc/0xfK+rjxHJw1Aovx+mdA5lOJd7TLM6BShAAUUBBnRFIqdXsDVw+7//A154AaheHfh95o9Aq1ZAjRrAqVNOb48fpAAFKECB7BVgQJfrzYAuKaCLsvoTy6DdNhLnfcpi7MPeeLFNJ7zWpJLcHmV1ClCAAhRQFGBAVyRyegVbA7dt24B27YBnngFOhB8CGjcGKlYExOxxXChAAQpQwCMEGNDldhMDuqyAHr0F2PYOcP962hbicz+BgM6fAyEd5PYqq1OAAhSggE0BBnR5B4itgdvGjUC3bqZcfmDuKaBWLaBkSSAuTl6DWJkCFKAABVQVYEBXlTNLMQZ0GQFdhPN1fQCkzgyXug09AA000L8cAZ9qHeX2LKtTgAIUoIBVAQZ0eQeHrYHbt9+a3qrWsiWwa8E508PoBQsCd+7IaxArU4ACFKCAqgIM6KpyMqDbw+nSwE2vA8JDgTuxFjclZnO/pimKU133o3X1YHuaw3UoQAEKUEBlAZfO8yq3JaeVszVwW7oUGDAAeOklYOviOCAwENBqgZQUQKPJaRTcHwpQgAI5UoABXW638gq6BV+XBm4xB4CIdoq9Fpb0Efr17MUJ4xSluAIFKEAB9QVcOs+r35wcVdHWwG3+fODNN02Tt29YegcICDDt+4MHQN68OcqBO0MBClAgpwowoMvtWQZ0tQN61AZg4wDFXhueNAwnCrbg+9AVpbgCBShAAfUFGNDVNzVXtDVwmz0beOcdoGdP4NsVOiBXLtPHrl8HihWT1yhWpgAFKEAB1QQY0FWjtFiIAV3tgO7AFfSj+hCsHlQfDSoUldvLrE4BClCAAhkEGNDlHRC2Bm5TpwIffAC89hrw9dcwXTVPSADOnwfKlpXXKFamAAUoQAHVBBjQVaNkQLeX0qWBW+oz6IY7cdBkmiRObF88g34FRdE4cQ700GJOWE10rBlkb9O4HgUoQAEKqCDg0nlehe3n5BK2Bm7jxwOffAK88QYwbx5MV81v3AD++AOoVi0ns3DfKEABCuQYAQZ0uV3JK+gWfF0euEVvgWFdHxgMBmjTzXkjwrlYhiaPxE59PeO/8wq63AOc1SlAAQpYEnD5PE9WqwK2Bm5jxwLTpwNvvw18/jmAcuWACxeAY8eAeqb/L3KhAAUoQAH3FmBAl9s/DOgyAjoA3enN+G/92yiBG2lbuG7wx0fJrxnDucjtJQP8+Ay63OOb1SlAAQpYFGBAl3dg2Bq4jRwJzJkDvP8+MGUKTFfNo6OB3buB5s3lNYqVKUABClBANQEGdNUoLRZiQJcU0EXZHVGXsHz1anyaaykqaWPxdtIQbNI3NYZzsSzoVZuzuMs9vlmdAhSgAAN6Nh8DtgZuQ4cCCxcCEyYA4nZ341XzEyeALVuA9u2zuaXcHAUoQAEKOCPgaEDfv38/ZsyYgV9++QVxcXHYtGkTOnXq5MymveIzDOgSA7oxpP8Rh4TIt9BJvwtfpHTC5yndUcLfFxM7VGM494qvGHeSAhRwRwFeQZfXK7YGbv37A8uXA9OmAWPGAGjRAtizB1i9GggLk9coVqYABShAAdUEHA3oP/zwAw4dOoTatWuja9euDOgKPcGALjmgi/L6g+HQ/t94/GaoiKnJYRg7+DXULMeZ21U7S7AQBShAAQcFGNAdBHNgdVsDtx49gDVrgPBwYMQImK6ab90KLFkCDFB+RakDzeCqFKAABSggScDRgJ6+GRqNhgGdAd3xI1PVgVv0FuD7EcDDm2kNeZi3JPK2nwGEdHC8cfwEBShAAQq4LKDqed7l1uSsArYGbl26AJs2AQsWAEOGwHTVfO3adIk9Z1lwbyhAAQrkRAEGdLm9yivoFnxVG7iJcL6uD5DpdWsGaEzPoXdfwZAu9/hmdQpQgAIWBVQ7z9M3i4CtgVvbtsAPPwDLlgH9+gEYOND0QvTJk00vSOdCAQpQgAJuL2A+z0dHRyMo6NHron19fSH+2Fp4BV25exnQZQX01Peh406slV7QAP6BwMgoQOuj3FNcgwIUoAAFVBNgQFeN0qGAbn7kfNUqQNzubrzP/YsvTOFchHQuFKAABSjg9gLmgJ65oePHj8cEMQuojYUBXbl7GdBlBfSYA0BEO+Ue6LsVKN9EeT2uQQEKUIACqgkwoKtG6VBAb9QIOHwYiIwEOneGKZhPnQoMH256/xoXClCAAhRwewFeQZfbRQzosgJ61AZgo/KEN7/Vm4kabQfJ7WVWpwAFKECBDAIM6PIOCFu3uNepA5w8CWzfDrRpA9PL0D/80DRBnJgojgsFKEABCri9AJ9Bl9tFDOiyArqdV9DDkj5Cv569+Mo1ucc5q1OAAhRgQM+mY8DWwC00FDh9GvjpJ9Mb1oxXzUeONE0WJ161xoUCFKAABdxewNGAfu/ePZw7d864X7Vq1cLnn3+O5s2bo0iRIihTpozb7292N5ABXVZAT30G3XAnDppMk8SJTeoNwBUURZPEOSgekA8Hx7SAj9Y4dRwXClCAAhSQLMAr6PKAbQ3cKlYE/vkHOHQIaNgQpqvmgwYB7doB338vr1GsTAEKUIACqgk4GtD37t1rDOSZl759+2L58uWqtSunFGJAlxXQRd3oLTCs6wODwYD02VuEc7EMTR6Jnfp6xn9fPag+GlTgu9FzyheL+0EBCri3AAO6vP6xNXALDgYuXwZ++QWoXRuml6KL2eLEwG33bnmNYmUKUIACFFBNwNGArtqGvaQQA7rMgA7g+PblCD42EYGaR+9BjzUUxcTk3mnhXDRhTlhNdKz56DUFXnL8cTcpQAEKPBYBBnR57LYGbk88Afz3H/DHH0C1ajBdNe/QAahXDzh2TF6jWJkCFKAABVQTYEBXjdJiIQZ0yQH9yD838Oriw2ii/R0ReT4zbq1GwleIR4EMW+YVdLkHOqtTgAIUSC/AgC7veLA1cCtYELh3DxCPIlaoANNV8+efB0JCTA+nc6EABShAAbcXYECX20UM6JIDuk5vQOPpu3ElPgEnfIegmOYO2iZOQbShnHHL4qnzkgF+fAZd7nHO6hSgAAUyCDCgyzsgbA3ccucGUlKAixcBcbs7jh8Hnn0WKFsWOH9eXqNYmQIUoAAFVBNgQFeN0mIhBnTJAV2U3/FHHIZ+cxKb8nyMmtp/8HqS6dlz85RwC3rV5izuco9zVqcABSjAgJ5Nx4C1gZtOB+TKZWrE9etAsWIAfv8dqFEDEJfWt2wBmjQBfHyyqaXcDAUoQAEKOCPAgO6Mmv2fYUDPhoBuDuk+kQPwgv4QJiW/iiW6l1AqwA/j24cwnNt/vHJNClCAAqoI8Aq6KowWi1gbuD14AOTPb/rI3btAgR8jgTffBK5ceVRHXFYXr17r0kVeA1mZAhSgAAVcEmBAd4lP8cMM6NkU0MVm9LsmQnvoc0SkvIDxKf1x4sOWeKKgr2IncQUKUIACFFBXgAFdXc/01awN3G7dAooUMa2ZtDYSGDoIugIFAE26V4ya/12E9BdflNdIL6/s4+ODXLlyQZPe3stNuPsUoID9Agzo9ls5syYDejYGdPy8FNj6Nv5COYxP6oUxg/ujVjlxjx8XClCAAhTITgEGdHna1gZucXFAYCBQqvhDHH53Lh5WrWq6591SSBS3uQcFWf6ZvKZ7VeV8+fKhVKlSyJMnj1ftN3eWAhRwXYAB3XVDWxUY0LMroEdvAbaOBB7cSNviQ78SyNthJhDSQW4vszoFKEABCmQQYECXd0BYG7jFxABPPaXHxuW/IKRsIp7w84OIhumun2dsVPnyj+6Jl9dcr6tsMBiQlJSE69evQ6fToVKlBNO/sQAAIABJREFUStBqtV7nwB2mAAWcF2BAd97Onk8yoGdHQBfhfF0fAIYMWxP/pRFDk+4rGNLtOVq5DgUoQAGVBBjQVYK0UMbawO3MGXHXegK+/SoKdYppkE+pCSKgFy2qtBZ/7qTAgwcPcOHCBZQvXx5+fn5OVuHHKEABbxRgQJfb6wzosgO6XgeEhwJ3Yi32pEEEdP9AaEZGAVrOXCv3cGd1ClCAAiYBBnR5R4K1gdupU0CnTglY8dWfqFdEB8VIWLmyaXZ3LlIEEhISEBMTw4AuRZdFKZCzBRjQ5fYvA7rsgB5zAIhop9iLx5tGoF6LTorrcQUKUIACFHBdgAHddUNrFawN3I4eBcLCErBk8f/QuHgy/JKTrTdCPBddvTqfQZfXTWBAl4jL0hTI4QIM6HI7mAFddkCP2gBsHKDYi8OThqFtz2F85ZqiFFegAAUo4LoAA7rrho4G9H37gL59E/D11zFoFFoEfhcvWm+EmDyubFmgcGF5DfXyygzoXn4AcPcp4IIAA7oLeHZ8lAFddkC38wp6WNJHuFCwNg6OaQEfrdUpc+zoUq5CAQpQgAJKAgzoSkLO/9zawG3nTuD11xOwdGkMGjYsD7+HD4ELF4CUFOsbq1DBckjX6YADBwAxNXypUkCTJoCY+V3S0q9fP0RERGSp/vfff6NixYpI/3Px+rLSpUujS5cumDhxIvKbX/6uUtsmTJiA7777DqfEMwMuLAzoLuDxoxTwcgEGdLkHAAO67ICe+gy64U4cNJkmiROb1huAKyiKxolzoIcWqwfVR4MKnBRH7mHP6hSggLcLMKDLOwKsDdy2bAGGD08X0H19gagoICnJemMs3eoeGQmMGAFcuvToc8HBgHh3epcuUnZMBPCrV69i2bJlGeo/8cQTEO8UT//z5ORkHDhwAAMHDkTfvn2xYMECu9okZla355VnDOh2cXIlClBAogADukRcMYm4Qbxvg0sGAdUHbtFbYFjXB4I6/cVxEc7FMjR5JHbq6xn/fU5YTXSsGcQeoQAFKEABiQKqn+clttXTSlsbuK1bB7z3XgKWLYtBgwblTc+g//WX8u6lnyxOhPNu3YDMQxfzu9Q3bJAS0kUAv337tvHKtaXF0s8HDRqErVu3Ik5c5bewlCtXzhjiz507h02bNqFTp07Gq/Rjxowx/rdwLFmyJF599VWMGzcOuXPnxvLly9G/f/8M1cQvDcT24+PjMXr0aGMbxdXxZ555BrNnz0aNGjUsbp9X0JUPPa5BAQpYFmBAl3tkMKBb8JUxcPtrz7couPcjBGpupm3xjiEvFqe0xTxdZ+PVc7HwCrrcA57VKUABCggBGed5ypoErA3cVqwAxo1LwPLlMahfvzz87t8H/vc/ICHBNl3x4oC4Qi5uaw8JAS5ftry+COlBQcDp0/bd7p4vn92T0DkT0IcPH45Vq1bhv//+sxrQb926hY8//tgYzsUibpefNGkSWrRogcDAQERFRUEE/XfeeQfvvfceHj58aFx/x44d+L//+z/jZwICAoyvSWvSpAmKFCliDPPi7xYtWmQM9GfPnjX+feaFAZ3fWApQwFkBBnRn5ez7HAN6NgV0nd6AptN2ocv9tRieaxNya3RpW441FMHE5D74rUATHBr7PJ9Bt+/Y5VoUoAAFnBZgQHeaTvGD1gZuixcDkycnICIiBs8+m3oFXTxH3bSpYk0pK9y7B9j5fLgI6N98802G94W3adMG69evNzYtc4A/fvw42rZti+effx5r1661GtBr1aplvFpua5kxY4axxs8//2xczdIt7rt370bnzp1x7do1+IpHB1IXEfhFsB88eDADupSDiEUp4J0CDOhy+50BPZsCutjMrzsjUOPwcPHmc5jvxhN/b77VfZR2FF7sOpAzucs95lmdAhSgAK+gSzwGrA3c5s4FZs1KwIoVMahXrzz8RJA8dgxo0EBia2yUdjCgX758OcPz5GLyt1JigrrUgG4O8CkpKRDPoXfs2BELFy5EcXEHgIVF3OIuro5/+OGHGX66YcMGhIeHG299v3fvHkQ9f39/Y/i2FtBFiB87dizy5s2boZa44j5q1ChMnz6dAf3xHGXcKgVypAADutxuZUDProCeNllcrDGgZ17Mk8U1SZyDeb2eYUiXe9yzOgUo4OUCvIIu7wCwNnCbORP48ssErFwZg7p1y5uuRt+8abol3Z7l33+BXr2U19y+3b6r8irf4m4O8OJZcXF7uvinrUUE9JEjRxr/mJejR4+icePGxtnfW7VqZbxVfc2aNZg1a5bxGXhrAV0E8Llz52Lv3r1ZNlmoUCEUK1aMAV35yOEaFKCAnQIM6HZCObkaA3p2BXS+bs3JQ5QfowAFKKC+AAO6+qbmipYGbuLxcXGX9U8/mW5xF1fQ8+b1M31EvA/96lXlBokiYpZ2Memapfltxa1p4ln1mBj7nkFX3mLaGs48g65U3lJAF0F8/vz5+Oeff9I+LiaSE1fVzQF9ypQpWL16tfH5dPOya9cuiFvuxVV3Udeehc+g26PEdShAAUsCDOhyjwsG9OwK6FEbgI0DFHtzeNIwbNE35GRxilJcgQIUoIDzAgzoztspfTLzwC39W9HKlk3AwoUxKFWqPMqU8UPhwgDu3rVvNnex4f37gVGjTE1IH9LdcBZ3JSdLAX3z5s3o1q0bVq5cibp162Lbtm3Gq+k6nS4toIuJ58Qz5QcPHkRwcDAKFixofD1b06ZNcffuXePt7JUrV0ZsbCy2b99unIBOzOieeWFAV+oh/pwCFLAmwIAu99hgQM+ugG7nFfS1KU3xfspg9Gv0JMa1rwaIW+MvHAbuxgH3rwP5igIPbgD5nwAKlgJKPwtcPJb15+b1xD/F5x7eNg1m8hUB8hcz1Ui/jiP/Lbadv7jpQfp7Vx1vlxrtcbWGrX1wxsXV9qTvV2u2mdtl6RgQ/WGrr+05btTYFzVqmI9JtWq52udqtEONGum/q+b+LNvQdCazdK6wdTyr0R5zDfHwTvkmQLnGgNbn0blLHJMFStg+V6nZDjvPc3cM+RHQqL/x1VTi+V4u6gmkH7gdPx6c4a1o5oBerFh5AH6oUAEoXMig/D709M0Tr2YbOzbje9BLlwbCw6W8Yk1sOruuoIttiUndli5disTERLz00kuoX7++cWI48xV08ffi1Ws//fST8e/Mr1kT4Vw8z75x40Zcv37d+Io2EdqnTp2K0sIn08KArt4xz0oU8DYBBnS5PZ5jA7qYzVQ8iyVmUBW3hjmySLmykvYMehw0sP3q+XuGPNimq48yJYujbvxO5Eq+a7X5BmgU6zmy7+qtK560t72f6m3Luys5dwywf3LSUWPIlRcarRZIuv/Yd8uQKx80QXVguPoHNAm30trj3HEqb3fuJBoQMO0uA7oEYvPA7fz5i2jcOBiXLj3aSOaAnicPUL06oLl9C0h3W7fNZpUoAQQGAgcOmG53FxO1NWmi+m3tEmjcqiQDult1BxtDAY8SYECX2105NqDv2bPHOPtpRESEewR00Y/RW2BY19vYo5YmipPb1axOAQpQgAJmAQZ0eceCeeC2bt1FdO8enGFDmQO6+GHlykDBggBiY01/7FmMl97F/fFcnBVgQHdWjp+jAAUY0OUeAzk2oAs2cQX9yy+/dJ+AbmzUdGDvFLm9yuoUoAAFKGBTgAFd3gFiHrjNnXsRb72lHNDLlweKFk19plxMfJaUpNy4tEvv/HW3MpblNRjQnZXj5yhAAQZ0uceAWwb0/fv3Q7zT85dffkFcXBw2bdpknOQk/SJmORXriJ9Xq1bN+M7QJuIWt3SLWwZ0OyeLk9vtrE4BClDAuwUY0OX1v9NX0EWTbjlwq3vapXd5+5KTKzOg5+Te5b5RQK4AA7pcX7cM6D/88AMOHTqE2rVro2vXrlkC+tq1a9G7d2/jq0gaNWqERYsWYcmSJYiOjkaZMmXSxNwyoNs5WZzcbmd1ClCAAt4twIAur/8zP4N++fKjCdetPoOe/kK4va9dE8+iW5j8TN6e5azKDOg5qz+5NxTITgEGdLnabhnQ0++yRqPJEtCfffZZY3hfsGBB2qpVq1Y1XmUXs5WaF3sDupgRVfwxL2KSODHjqZTZfdMmi4vlc+hyj21WpwAFKGBVgAFd3sGR/hb3mzeDMWGCaVtign2Ls7hnfpTckdeu8Vl0pzuSAd1pOn6QAl4vwIAu9xDwuICelJSEfPnyYf369RAztZuXESNG4NSpU9i3b5/DAV28vkS8ZzTzIiWgi41EbwHW9TbOcc6n5+Qe4KxOAQpQwJIAA7q848I8cAMuAgg2Pl8ufgd+7x5QpozpPeiBgeVQpkxey/O8iSTPZ9HldVBq5YcPH+L8+fMoX748/Pz8pG+PG6AABXKOAAO63L70uIAeGxuLoKAg4y3wDRumvvsXwJQpU4wztv8l3o8KoFWrVjh58iTu37+PIkWKGK/C161b16Jmtl5BN7dAhPTvhwMPH72GSG5XszoFKEABCpgFGNDlHQuZA7pG8+gW93btdJgw4SzKli2OYsXEzHBWFj6LLq+DUivfuHED165dw1NPPQUfHx/p2+MGKECBnCPAgC63Lz02oB8+fBgNGjRI05k8eTJWrlyJM2fOuCwm5T3ollolbnffPxPJB8KRW/fA5XazAAUoQAEK2CfAgG6fkzNrZQ7o6WuMGAGMHh2HO3duo3jx4sY74sSjbBYX8Y7zGzeUm1CkiOm96FzsEjAYDHjw4IExnBcqVAilxHvkuVCAAhRwQIAB3QEsJ1b1uIDuyC3uTngYP5JtAd3cQL0Of28Yj+LRyxCAe1abHW/Ihw26xiiIBLzg8wsKa+6nrXvLkB8/6urgiD4ERTT3cNNQIO2fRTV3UAj3jffT3zIUwE1DwSzrZP6Mpf8OxjV0zXUQAZpHv0xIv92G2mi72qVGe1ypYamdZtvLhuIZ7OxxEdautEdsQ8k2czusWe/S1cZVQxGLfe0p/aP28euorbU+d7WP1ThOzN9rS/tkPhnYOheobWvepzqav9HEJwoFNQlZzl96gwZajXigx7RYat/jsI1N8MWiz2fLmWvE2f/55JDP2QroYhdLlzZg6dIrCAq6bXuPExKAq1ftU8mfH8ibFxBXgn19AWuh375qXrGWCOclS5a0/gsSr1DgTlKAAs4IMKA7o2b/ZzwuoItdE5PE1alTxziLu3kJCQlBx44dM0wSZz9DxjWzPaCnbl6XkoIzx3biwX//Ijb2Ig7FGVBAdwc3DP64iiI4rq8CPbTGtbXQo572DIrjNq6hEE7oq0CX+jPx8wC/XHghpAQaVCiGm/cTcfthsnGCnsL58qBI/jw48s9/2PXnNcQ/TE7beXEN49Ew2rJe5u2mb5OldmX+ubN9Yu/nMu+Dtf9W2g97tyfWs8fNnnUcbVNhPy0Gl72C2kWTcPJGHsyLKYF7SbZ70NFt+OXWQqvR4EGSLo1EHFshpfwRfeVuhuPHETOZ61qydnS/7emvzPugpos92zfvUwncNP6CyNJ5wpazrW3Y+z1KX99ae37RP4U62rNp5yrzOcGefbRnHXuPpcy19IkPcDG8OwO6vYAOrKcU0M3ZeeNGHdq0efT/oCyb0OmAxo1Nr15zZAkIAFq0AOrXB27fBgoVevTPmzdN/y4W8ffi6nvmdZT+W40a5m2oUcuJGrmvXYOP2H9xh4KYJOD69Ud3KwiT4sUf/cy8jtI/3aVGTtwnNWzpYjrWMx/HtHXK5YqPD0oNH46LFy8iODjYkTM017VDwC0D+r1793Du3Dlj82vVqoXPP/8czZs3Nz5LLl6jZn7N2sKFC423uX/11VdYvHgxTp8+jbJly9qx27ZXeVwBPXOrdHoDjv5zA0f+9x/06cL17QdJKJQvD8Q/ixTwRUl/P9QpWxi/XLiFa3cTULygH+qVLwIfre0p6ET94zE30z5jrnEl/iFu3re8jRMxN222x9wupX+KdhcvIK5yANfuJGTYntJnxc8z/9KhWEHLDpld0u/jf/ey/uIiva1SOyzZF8ufcZ8yr5PZNv02LP0ixVJ7zDUz97E9x4vSPmU+rsQ2xJL+ODFv13z8WNone/fFnvbYW8uWtbM1zN8ncdxYO/Yz94crLvYeL658f2wdt+I7Ic4f1r436T3E+cbc95baY21fLP195u9i5u+zte9N+lpK/ZP5/OaHJPRqWpUB3eX/Y2YtoBTQjb/Y1ABiTBcTY7robXV5+20gPFxCK1mSAhSgAAWcFbgjLgYCDOjOAip8zi0Dung9mgjkmZe+ffti+fLlxr8WV88/++wzxMXFITQ0FLNnz0bTpk1VYXKXgK7KzrAIBShAAQpkEeB5Xt5BYU9AN299zx6gWTMbbdm7F7AwHpDXelamAAUoQAElAQZ0JSHXfu6WAd21XXL90xy4uW7IChSgAAXcWYDneXm940hAX7UK6NHDRlvEbe7lygGXLslrMCtTgAIUoIBDAgzoDnE5vDIDugUyDtwcPo74AQpQgAIeJcDzvLzuciSgK15BF82MjAS6dpXXYFamAAUoQAGHBBjQHeJyeGUGdAtk8fHxxlePiIkP/P39HUblByhAAQpQwL0FREAvXbo0bt++jQAxqRgX1QT+/fff1PlgjgOw/gov8XavI0cUnkFPbVWubduQd+hQaMRsp1woQAEKUOCxCoiAXhrAhQsXjPODcVFXgAHdguej3/6ri81qFKAABSjgXgKcgVb9/jhx4gTq1aunfmFWpAAFKEABtxI4fvw46tat61ZtygmNYUC30It6vR5//fUXxKvbPPEquvnKENuevV9RT3YXUp7cfrY9e4/19FvzVHuDwYC7d+8iMDAQWq3p9ZVc1BFISUnBgQMH0KJFC0RHR6NgwYLqFM6mKuK4EP//Z9uzCTzdZmif/eb/3959wEpR7XEc/xNvpCNNQcGC0tFIEQUElKgUDYoCig0hooJIKIoIgoKgFKVEvCBiBEJRsYCFKtIUSyxgsGBEBAnoBZUOYn35HbP77l3u3R2SOzszy3eSl+d7O+75z+ecvWf+c8qoRNyDcY+yvXKlnJwc97atrKys4AAztGQS9AIqNsrrE4k9mF9rlN1jCbqm+mqJR9SWdkTZPsqxR73dBPOX4sQoNcrtmtiDa6PYB2OPezDu9KHBuYe9ZBJ0EvRQtVE6ieCqA/tg7KPszs1FMG0mCqVGuV0Te3AtDPtg7HEPxp0+NDj3sJdMgk6CHqo2SicRXHVgH4x9lN25uQimzUSh1Ci3a2IProVhH4w97sG404cG5x72kknQC6iho0eP2ujRo23w4MFWtGjRsNdjnviIPZjqirK7xKIcP7EH0+aj3m6CU8v8kvlNBlPHUXaP+t+TKNsTezC/16i3+eDUMr9kEvTMr2OuEAEEEEAAAQQQQAABBBBAIAICJOgRqCRCRAABBBBAAAEEEEAAAQQQyHwBEvTMr2OuEAEEEEAAAQQQQAABBBBAIAICJOgRqCRCRAABBBBAAAEEEEAAAQQQyHwBEvR86njKlCn25JNP2k8//WT16tWzSZMmWYsWLULVGrSB3euvv26bNm2y4sWLW7NmzWzs2LFWq1ateJzdunWzWbNm5Yn7kksusY8++ijQaxk+fLiNGDEiTwyVKlWyn3/+2f1///77r/v8ueeesz179phizs7OdnURhuOcc86xbdu2HRPKvffe6+IMk/vatWtdW/7ss89ce16wYIF16NAhHrsXa20e88ADD9iLL75oR44csSuuuML0G6lataqv1ZEs9j///NOGDh1qixcvti1btpje337llVfamDFj7IwzzojHdfnll9uaNWvyxHnTTTfZSy+95Gvs+vJU9l7aSRjtdW1FihTJ12/cuHE2cOBA91mQ9r5XLgUkFaAP9b+BRLkfpQ+lD/XyC6EPDe7+xUv9cI6/AiToCb4vv/yy3X777S4BufTSS23atGn2/PPP29dff21nnXWWv7VxHN/etm1b69KlizVu3Nj++usve/jhh23jxo0uzpIlS7pvUgKQk5NjM2bMiH/zySefbOXLlz+Okgr/VN1YvPrqq7ZixYr4l5900kl26qmnuv+tBw2PP/64zZw502rWrGmjRo1yyc63335rpUuXLvyAjvMbd+/ebX///Xf83/ryyy/tqquuslWrVrmkJEzuS5YssXXr1lnDhg2tY8eOxyToXqx79eplb731lquPChUq2P3332+//fabS/pVb34dyWLft2+fderUye666y678MIL3YOcfv36ud/Cp59+midBVxt67LHH4v+fHmgpoff7SGXvpZ2E0V5usYdpMUNd65133mmbN2+2c889N56gB2Xvd93y/QUL0Iemp3VEuR+lD6UP9fIroQ+93N0DB3H/4qV+OMdfARL0BF+N1iqZmTp1avyTOnXquFFHjVqH9VCHd9ppp7nRwpYtW8YT9L1799rChQtDFbZuLBTThg0bjolLI7oaAVWyNWjQIPe5RhE1wq5k8p577gnVtSgYxfr222/bd99950YWlXiF0V2x5R5B92KtRFgPTmbPnm0aedaxc+dOO/PMM93odZs2bdJSH4mx51foJ598YhdffLGb3RB7mKYHJvXr13ezYII88os/VTuJkr3+Ph44cMDefffdPA9HwmAfZL2fiGXTh6an1jOpH6UP9b/N0IeG+/6FPtT/30DUSiBBz1Vjf/zxh5UoUcJeeeUVu/766+Of9O3b1yWTiVNlw1TZGrmqUaOGG0U///zz4wm6EmGNmpctW9Yuu+wyNzKtRD7IQzcWmnatUUy9Y143dE888YQbedN05fPOO88+//xza9CgQTzM6667zl1D4pT9IK9DZavN6IHCgAEDbMiQIaF2T+ygvVivXLnSTWnXiHm5cuXi3Bq1VoeSuFTBr/rwcnOhGRmtW7d2D0fKlCnjQlGC/tVXX7llE3rI065dO3v00UfTPhOjoAQ92e8zKvaapaPlDvpt3nLLLXkS9DDY+9Um+d5jBehD09cqMqUfpQ/Nu9zPrxZEHxre+xf6UL9afbS/lwQ9V/1pZLBKlSpuSrDWdMcOJY+6+dQU6zAeSj6UwGqa73vvvRcPUVMNS5UqZWeffbb98MMPNmzYMDcFWFOTlRgHdWja0uHDh93UHf1h0hR2raXXzbyMtbRgx44dedYS33333W5kdNmyZUGFnW+58+fPd0nJjz/+GI83rO6JHfQHH3yQ0nrevHnWvXt3N4sh96FEuFq1am4JSDqOVDcXv//+uzVv3txq165tc+bMiYc0ffp0F2flypVNSxEGDx5s1atXt3feeScdYcfLyC/+VO0kKvZad661//r7WaxYsdDZp7WiT/DC6EPT1wAypR+lD6UP9fKroQ8N7v7FS/1wTuELkKDnk6ArcWnatGn8E406a4qvksgwHr1797ZFixbZ+++/n3TjLm0SpmRdG2TdcMMNobmUQ4cOuVHzBx980Jo0aeKSRt3onX766fEYtdZ4+/bttnTp0tDErUA0xVszFLRGu6AjLO4FJejJrAtKErXmXnX27LPPpqU+kiXo2jCuc+fO7iHJ6tWr46Pn+QWmh1MXXXSRe0ilpSzpOlI9YFAcie0kCvaKWw9F1B4mT56clDMo+3TVMeX8t/xFD7npQ9PfGqLaj9KH0od6+bXQh5q7bwni/sVL/XBO4QuQoOcyjeL0vD59+rj13NpETSOFqQ5Ng+/Ro0d8fXeq89P1uW7wNbKpHaCjMsVdI/qalq/d9DWDIdkRBvdMnOKu5PzGG290SyM0JVyb2CU7NNtEs0dyr6lPRxv3cnOhOHK3kyhMcdeMHe15oSVAWvYQRvt01C9l/CdAHxpsS4haP0ofGvwyMfpQ/3+zyfp/+lD//aNaAgl6Qs1pPXSjRo3cLu6xo27dui4BC9MmcUo0lJxr0y+NGurGPtXx66+/utENvb6sa9euqU5P2+eaPq2kXNPYNQ1fa7r79+/vRtRjN31aNx+2TeK0BlBTvDWyn5WVVaBXWNwL2iQumXVsozJNG1cirEMjvVpzHPQmcbEbC23Opx30Y28BSNZwNc39ggsuyLOZYjoaupcEPbGdhNk+ZqaN7mSae+f8gjyDsk9H/VLG/wXoQ4NpDVHsR+lDg91olT40+E1u6UOD+XsZhVJJ0BNqKfaKGE3d1TR3JbNax6r10ZoeHpZD79zWFNg33ngjz7vPtfGaXiN18OBBU+enV2tpqvjWrVvdJmaaBvzNN9+kfZOs3G56p3b79u3dTtu7du1ya9C1AZ82uJOxEnE9DNHr4fTgQXsA6CFEWF6zpmv5559/3IyFm2++2a2/jR1hc1c82kBQhzbdmzBhgrVq1cq9ak/+Xqz1qi/tUq/XrOnfU/0pmfT7NWvJYtdDHLVtbSao2LQBXOxQjFp28P3339vcuXPt6quvtooVK7pXEOoVcfp9aMd3P18Rp1iSxa8Yvfw+w2gf2yF///797m/L+PHjrWfPnnn+NAZtH5a/0ydiHPSh6an1qPej9KH0oal+KfShwd2/pKobPvdfgAQ9H2ONnmvjI40Uakf0iRMnxl9d5n+VeCtBI3L5HUpq9UTuyJEjbpft9evXu12tdSOtxGzkyJHuFVlBHnp/u6bk//LLL27UU+vOFZdmKujQ7ADtDq7RaW18pxGZ7Ozs+O70QcYeK3v58uVu/bkeGmizu9gRNnc92FC9Jx533HGHS7i9WGsDNi090AMhXZ92dddvxO92lCx2JbcFLemIvY9eMxtuu+02N8Krjl7xXnPNNW4XdyXIfh/J4tdrHL38PsNor3ajQw8v9Xok/Z1MfK980PZ+1y3fn1yAPtT/FhL1fpQ+lD401a+EPjS4+5dUdcPn/guQoPtvTAkIIIAAAggggAACCCCAAAIIpBQgQU9JxAkIIIAAAggggAACCCCAAAII+C9Agu6/MSUggAACCCCAAAIIIIAAAgggkFKABD0lEScggAACCCCAAAIIIIAAAggg4L8ACbpMj5z+AAAG1UlEQVT/xpSAAAIIIIAAAggggAACCCCAQEoBEvSURJyAAAIIIIAAAggggAACCCCAgP8CJOj+G1MCAggggAACCCCAAAIIIIAAAikFSNBTEnECAggggAACCCCAAAIIIIAAAv4LkKD7b0wJCCCAAAIIIIAAAggggAACCKQUIEFPScQJCCAQEyhSpIgtWLDAOnToAAoCCCCAAAIIHKcA/ehxgnE6AiegAAn6CVjpXHI0Bbp162azZs06Jvg2bdrY0qVL03JR3FikhZlCEEAAAQR8EKAf9QGVr0QAgUIXIEEvdFK+EAF/BHRjkZOTYzNmzMhTQNGiRa1cuXL+FJrwrSToaWGmEAQQQAABHwToR31A5SsRQKDQBUjQC52UL0TAHwHdWOzdu9cWLlyYbwFKnqdMmWJvvvmmrV692ipXrmzjxo2zzp07x8/fuHGj9e3b1z788EMrUaKEdezY0SZMmGClSpWKn/PCCy/Y+PHjbfPmzVa+fHl3zjPPPOM+VxnTp0+3RYsW2bJly6xKlSru3GuvvdZ9vmfPHrvvvvts+fLldvDgQatataoNGTLEunfv7g8K34oAAggggIBHAfpRj1CchgACgQqQoAfKT+EIeBfwcmNRoUIFGzNmjLVs2dJmz55to0ePNiXlderUscOHD1uNGjWsSZMmNmLECNu1a5f16NHDnTtz5kwXyNSpU23AgAHuO9q1a2f79u2zdevWWb9+/eIJupJuJf6NGze2yZMnmxL6bdu2uWReybnOVxJfsWJFl+QfOXLE2rdv7/1CORMBBBBAAAEfBOhHfUDlKxFAoNAFSNALnZQvRMAfAd1YzJkzx4oVK5angEGDBtmwYcPc6HbPnj1dkh07lIw3bNjQjawrada527dvt5IlS7pTFi9e7JLnnTt3WqVKldyIuEa7R40ale9FqIyhQ4fayJEj3eeHDh2y0qVLu+9p27atG0lXYq6knQMBBBBAAIEwCdCPhqk2iAUBBAoSIEGnbSAQEQHdWOzYsSNPAq7QNXKt/yh51iZyXbt2jV9R//79bcOGDbZq1So3Mr5+/Xr3z7FDI+Rly5a1NWvWWO3atV2SvnLlSmvVqlWBCfr8+fPzTJs/5ZRT3Ei6yl2yZImbEl+zZk1r3bq12+29WbNmEREmTAQQQACBTBagH83k2uXaEMgcARL0zKlLriTDBbxMzcsvQf/iiy9c0q1kPfbPiQn62rVrrX79+lamTJmUCXria9aU4E+aNMkUn47du3e7NeorVqyw1157zXr37m1PPfVUhtcOl4cAAgggEHYB+tGw1xDxIYCABEjQaQcIRETAy41Fr1693HT22NG0aVNr0KCB5ynu1apVs1tvvTXpFPdUCXpuzmnTptnAgQNt//79EVEmTAQQQACBTBWgH83UmuW6EMgsARL0zKpPriaDBQp6PUxWVpZb960p7vrvsWPHWvPmzW3u3Lku0dYmcXXr1nWbxFWvXt1NOR8+fLgb6dYmcS1atIhvEqcReK1j13dok7gDBw64Td/69OnjZPN7zVruEfRHHnnEGjVqZPXq1bOjR4/aQw895Daj+/jjjzO4Zrg0BBBAAIEoCNCPRqGWiBEBBEjQaQMIRERANxZKoBOPWrVq2aZNm1zynJ2d7V7Dpinres2admPv0qVL/F/x8po1jXpPnDjRtmzZ4hL+Tp062dNPP+0pQdcDgXnz5tnWrVutePHiLvnXd2lkngMBBBBAAIEgBehHg9SnbAQQ8CpAgu5VivMQCLlAfqPbIQ+Z8BBAAAEEEAiNAP1oaKqCQBA4oQVI0E/o6ufiM0mAG4tMqk2uBQEEEEAg3QL0o+kWpzwEEMhPgASddoFAhghwY5EhFcllIIAAAggEIkA/Ggg7hSKAQIIACTpNAgEEEEAAAQQQQAABBBBAAIEQCJCgh6ASCAEBBBBAAAEEEEAAAQQQQAABEnTaAAIIIIAAAggggAACCCCAAAIhECBBD0ElEAICCCCAAAIIIIAAAggggAACJOi0AQQQQAABBBBAAAEEEEAAAQRCIECCHoJKIAQEEEAAAQQQQAABBBBAAAEESNBpAwgggAACCCCAAAIIIIAAAgiEQIAEPQSVQAgIIIAAAggggAACCCCAAAIIkKDTBhBAAAEEEEAAAQQQQAABBBAIgQAJeggqgRAQQAABBBBAAAEEEEAAAQQQIEGnDSCAAAIIIIAAAggggAACCCAQAgES9BBUAiEggAACCCCAAAIIIIAAAgggQIJOG0AAAQQQQAABBBBAAAEEEEAgBAIk6CGoBEJAAAEEEEAAAQQQQAABBBBAgASdNoAAAggggAACCCCAAAIIIIBACAT+B9YhfdMOtXYfAAAAAElFTkSuQmCC\" width=\"1000\">"
      ],
      "text/plain": [
       "<IPython.core.display.HTML object>"
      ]
     },
     "metadata": {},
     "output_type": "display_data"
    }
   ],
   "source": [
    "ax, tax, lax, lines = dual_train_plots()\n",
    "fig = ax.figure\n",
    "plt.tight_layout()\n",
    "# This gets built up during the run - do not rerun this cell\n",
    "results = pd.DataFrame([], columns=Results._fields)"
   ]
  },
  {
   "cell_type": "code",
   "execution_count": 12,
   "metadata": {
    "scrolled": false
   },
   "outputs": [
    {
     "name": "stdout",
     "output_type": "stream",
     "text": [
      "for model:  All_CNN6Layer_M(\n",
      "  (conv1): Conv1d(1, 6, kernel_size=(11,), stride=(1,), padding=(5,))\n",
      "  (conv2): Conv1d(6, 6, kernel_size=(9,), stride=(1,), padding=(4,))\n",
      "  (conv3): Conv1d(6, 6, kernel_size=(9,), stride=(1,), padding=(4,))\n",
      "  (conv4): Conv1d(6, 6, kernel_size=(9,), stride=(1,), padding=(4,))\n",
      "  (conv5): Conv1d(6, 1, kernel_size=(5,), stride=(1,), padding=(2,))\n",
      "  (finalFilter): Conv1d(1, 1, kernel_size=(91,), stride=(1,), padding=(45,))\n",
      "  (conv1dropout): Dropout(p=0.15, inplace=False)\n",
      "  (conv2dropout): Dropout(p=0.15, inplace=False)\n",
      "  (conv3dropout): Dropout(p=0.15, inplace=False)\n",
      "  (conv4dropout): Dropout(p=0.15, inplace=False)\n",
      "  (conv5dropout): Dropout(p=0.15, inplace=False)\n",
      ")\n",
      "epoch_start 220\n",
      "batch_size 128\n",
      "epochs 200\n",
      "lr 0.001\n",
      "Number of batches: train = 1250, val = 78\n"
     ]
    },
    {
     "name": "stderr",
     "output_type": "stream",
     "text": [
      "/home/michael24peters/pv-finder_experimental/notebooks/model/training.py:95: TqdmDeprecationWarning: This function will be removed in tqdm==5.0.0\n",
      "Please use `tqdm.notebook.tqdm` instead of `tqdm.tqdm_notebook`\n",
      "  file=sys.stderr,\n"
     ]
    },
    {
     "data": {
      "application/vnd.jupyter.widget-view+json": {
       "model_id": "e6e5fe5ef8754c18b63f87994699531d",
       "version_major": 2,
       "version_minor": 0
      },
      "text/plain": [
       "HBox(children=(FloatProgress(value=0.0, description='Epochs', layout=Layout(flex='2'), max=200.0, style=Progre…"
      ]
     },
     "metadata": {},
     "output_type": "display_data"
    },
    {
     "data": {
      "application/vnd.jupyter.widget-view+json": {
       "model_id": "",
       "version_major": 2,
       "version_minor": 0
      },
      "text/plain": [
       "HBox(children=(FloatProgress(value=0.0, description='Training', layout=Layout(flex='2'), max=1250.0, style=Pro…"
      ]
     },
     "metadata": {},
     "output_type": "display_data"
    },
    {
     "name": "stdout",
     "output_type": "stream",
     "text": [
      "Epoch 220: train=990.982, val=696.661, took 13.564 s\n",
      "  Validation Found 2357 of 54504, added 81114 (eff 4.32%) (8.12 FP/event)\n"
     ]
    },
    {
     "data": {
      "application/vnd.jupyter.widget-view+json": {
       "model_id": "",
       "version_major": 2,
       "version_minor": 0
      },
      "text/plain": [
       "HBox(children=(FloatProgress(value=0.0, description='Training', layout=Layout(flex='2'), max=1250.0, style=Pro…"
      ]
     },
     "metadata": {},
     "output_type": "display_data"
    },
    {
     "name": "stdout",
     "output_type": "stream",
     "text": [
      "Epoch 221: train=397.289, val=226.237, took 13.26 s\n",
      "  Validation Found 1833 of 54504, added 43056 (eff 3.36%) (4.31 FP/event)\n"
     ]
    },
    {
     "data": {
      "application/vnd.jupyter.widget-view+json": {
       "model_id": "",
       "version_major": 2,
       "version_minor": 0
      },
      "text/plain": [
       "HBox(children=(FloatProgress(value=0.0, description='Training', layout=Layout(flex='2'), max=1250.0, style=Pro…"
      ]
     },
     "metadata": {},
     "output_type": "display_data"
    },
    {
     "name": "stdout",
     "output_type": "stream",
     "text": [
      "Epoch 222: train=119.107, val=98.0614, took 12.887 s\n",
      "  Validation Found 1961 of 54504, added 38254 (eff 3.60%) (3.83 FP/event)\n"
     ]
    },
    {
     "data": {
      "application/vnd.jupyter.widget-view+json": {
       "model_id": "",
       "version_major": 2,
       "version_minor": 0
      },
      "text/plain": [
       "HBox(children=(FloatProgress(value=0.0, description='Training', layout=Layout(flex='2'), max=1250.0, style=Pro…"
      ]
     },
     "metadata": {},
     "output_type": "display_data"
    },
    {
     "name": "stdout",
     "output_type": "stream",
     "text": [
      "Epoch 223: train=73.3942, val=71.3562, took 13.138 s\n",
      "  Validation Found 3295 of 54504, added 34365 (eff 6.05%) (3.44 FP/event)\n"
     ]
    },
    {
     "data": {
      "application/vnd.jupyter.widget-view+json": {
       "model_id": "",
       "version_major": 2,
       "version_minor": 0
      },
      "text/plain": [
       "HBox(children=(FloatProgress(value=0.0, description='Training', layout=Layout(flex='2'), max=1250.0, style=Pro…"
      ]
     },
     "metadata": {},
     "output_type": "display_data"
    },
    {
     "name": "stdout",
     "output_type": "stream",
     "text": [
      "Epoch 224: train=59.6467, val=54.3557, took 13.274 s\n",
      "  Validation Found 11157 of 54504, added 28136 (eff 20.47%) (2.82 FP/event)\n"
     ]
    },
    {
     "data": {
      "application/vnd.jupyter.widget-view+json": {
       "model_id": "",
       "version_major": 2,
       "version_minor": 0
      },
      "text/plain": [
       "HBox(children=(FloatProgress(value=0.0, description='Training', layout=Layout(flex='2'), max=1250.0, style=Pro…"
      ]
     },
     "metadata": {},
     "output_type": "display_data"
    },
    {
     "name": "stdout",
     "output_type": "stream",
     "text": [
      "Epoch 225: train=45.6893, val=37.3608, took 12.887 s\n",
      "  Validation Found 35668 of 54504, added 15823 (eff 65.44%) (1.58 FP/event)\n"
     ]
    },
    {
     "data": {
      "application/vnd.jupyter.widget-view+json": {
       "model_id": "",
       "version_major": 2,
       "version_minor": 0
      },
      "text/plain": [
       "HBox(children=(FloatProgress(value=0.0, description='Training', layout=Layout(flex='2'), max=1250.0, style=Pro…"
      ]
     },
     "metadata": {},
     "output_type": "display_data"
    },
    {
     "name": "stdout",
     "output_type": "stream",
     "text": [
      "Epoch 226: train=33.3507, val=28.3091, took 12.84 s\n",
      "  Validation Found 46408 of 54504, added 6972 (eff 85.15%) (0.698 FP/event)\n"
     ]
    },
    {
     "data": {
      "application/vnd.jupyter.widget-view+json": {
       "model_id": "",
       "version_major": 2,
       "version_minor": 0
      },
      "text/plain": [
       "HBox(children=(FloatProgress(value=0.0, description='Training', layout=Layout(flex='2'), max=1250.0, style=Pro…"
      ]
     },
     "metadata": {},
     "output_type": "display_data"
    },
    {
     "name": "stdout",
     "output_type": "stream",
     "text": [
      "Epoch 227: train=26.4447, val=23.1947, took 13.23 s\n",
      "  Validation Found 47426 of 54504, added 5675 (eff 87.01%) (0.568 FP/event)\n"
     ]
    },
    {
     "data": {
      "application/vnd.jupyter.widget-view+json": {
       "model_id": "",
       "version_major": 2,
       "version_minor": 0
      },
      "text/plain": [
       "HBox(children=(FloatProgress(value=0.0, description='Training', layout=Layout(flex='2'), max=1250.0, style=Pro…"
      ]
     },
     "metadata": {},
     "output_type": "display_data"
    },
    {
     "name": "stdout",
     "output_type": "stream",
     "text": [
      "Epoch 228: train=22.446, val=19.9458, took 13.183 s\n",
      "  Validation Found 48104 of 54504, added 4760 (eff 88.26%) (0.477 FP/event)\n"
     ]
    },
    {
     "data": {
      "application/vnd.jupyter.widget-view+json": {
       "model_id": "",
       "version_major": 2,
       "version_minor": 0
      },
      "text/plain": [
       "HBox(children=(FloatProgress(value=0.0, description='Training', layout=Layout(flex='2'), max=1250.0, style=Pro…"
      ]
     },
     "metadata": {},
     "output_type": "display_data"
    },
    {
     "name": "stdout",
     "output_type": "stream",
     "text": [
      "Epoch 229: train=19.7258, val=17.6974, took 13.829 s\n",
      "  Validation Found 48748 of 54504, added 4081 (eff 89.44%) (0.409 FP/event)\n"
     ]
    },
    {
     "data": {
      "application/vnd.jupyter.widget-view+json": {
       "model_id": "",
       "version_major": 2,
       "version_minor": 0
      },
      "text/plain": [
       "HBox(children=(FloatProgress(value=0.0, description='Training', layout=Layout(flex='2'), max=1250.0, style=Pro…"
      ]
     },
     "metadata": {},
     "output_type": "display_data"
    },
    {
     "name": "stdout",
     "output_type": "stream",
     "text": [
      "Epoch 230: train=17.6164, val=15.8651, took 13.22 s\n",
      "  Validation Found 49236 of 54504, added 3332 (eff 90.33%) (0.334 FP/event)\n"
     ]
    },
    {
     "data": {
      "application/vnd.jupyter.widget-view+json": {
       "model_id": "",
       "version_major": 2,
       "version_minor": 0
      },
      "text/plain": [
       "HBox(children=(FloatProgress(value=0.0, description='Training', layout=Layout(flex='2'), max=1250.0, style=Pro…"
      ]
     },
     "metadata": {},
     "output_type": "display_data"
    },
    {
     "name": "stdout",
     "output_type": "stream",
     "text": [
      "Epoch 231: train=15.5884, val=13.9279, took 12.888 s\n",
      "  Validation Found 49450 of 54504, added 2584 (eff 90.73%) (0.259 FP/event)\n"
     ]
    },
    {
     "data": {
      "application/vnd.jupyter.widget-view+json": {
       "model_id": "",
       "version_major": 2,
       "version_minor": 0
      },
      "text/plain": [
       "HBox(children=(FloatProgress(value=0.0, description='Training', layout=Layout(flex='2'), max=1250.0, style=Pro…"
      ]
     },
     "metadata": {},
     "output_type": "display_data"
    },
    {
     "name": "stdout",
     "output_type": "stream",
     "text": [
      "Epoch 232: train=13.4134, val=11.9664, took 13.239 s\n",
      "  Validation Found 49439 of 54504, added 1935 (eff 90.71%) (0.194 FP/event)\n"
     ]
    },
    {
     "data": {
      "application/vnd.jupyter.widget-view+json": {
       "model_id": "",
       "version_major": 2,
       "version_minor": 0
      },
      "text/plain": [
       "HBox(children=(FloatProgress(value=0.0, description='Training', layout=Layout(flex='2'), max=1250.0, style=Pro…"
      ]
     },
     "metadata": {},
     "output_type": "display_data"
    },
    {
     "name": "stdout",
     "output_type": "stream",
     "text": [
      "Epoch 233: train=11.6336, val=10.8461, took 13.337 s\n",
      "  Validation Found 49226 of 54504, added 1499 (eff 90.32%) (0.15 FP/event)\n"
     ]
    },
    {
     "data": {
      "application/vnd.jupyter.widget-view+json": {
       "model_id": "",
       "version_major": 2,
       "version_minor": 0
      },
      "text/plain": [
       "HBox(children=(FloatProgress(value=0.0, description='Training', layout=Layout(flex='2'), max=1250.0, style=Pro…"
      ]
     },
     "metadata": {},
     "output_type": "display_data"
    },
    {
     "name": "stdout",
     "output_type": "stream",
     "text": [
      "Epoch 234: train=10.7235, val=10.3895, took 13.181 s\n",
      "  Validation Found 49079 of 54504, added 1278 (eff 90.05%) (0.128 FP/event)\n"
     ]
    },
    {
     "data": {
      "application/vnd.jupyter.widget-view+json": {
       "model_id": "",
       "version_major": 2,
       "version_minor": 0
      },
      "text/plain": [
       "HBox(children=(FloatProgress(value=0.0, description='Training', layout=Layout(flex='2'), max=1250.0, style=Pro…"
      ]
     },
     "metadata": {},
     "output_type": "display_data"
    },
    {
     "name": "stdout",
     "output_type": "stream",
     "text": [
      "Epoch 235: train=10.3249, val=10.2107, took 12.869 s\n",
      "  Validation Found 48992 of 54504, added 1151 (eff 89.89%) (0.115 FP/event)\n"
     ]
    },
    {
     "data": {
      "application/vnd.jupyter.widget-view+json": {
       "model_id": "",
       "version_major": 2,
       "version_minor": 0
      },
      "text/plain": [
       "HBox(children=(FloatProgress(value=0.0, description='Training', layout=Layout(flex='2'), max=1250.0, style=Pro…"
      ]
     },
     "metadata": {},
     "output_type": "display_data"
    },
    {
     "name": "stdout",
     "output_type": "stream",
     "text": [
      "Epoch 236: train=10.1566, val=10.1566, took 12.965 s\n",
      "  Validation Found 48909 of 54504, added 1061 (eff 89.73%) (0.106 FP/event)\n"
     ]
    },
    {
     "data": {
      "application/vnd.jupyter.widget-view+json": {
       "model_id": "",
       "version_major": 2,
       "version_minor": 0
      },
      "text/plain": [
       "HBox(children=(FloatProgress(value=0.0, description='Training', layout=Layout(flex='2'), max=1250.0, style=Pro…"
      ]
     },
     "metadata": {},
     "output_type": "display_data"
    },
    {
     "name": "stdout",
     "output_type": "stream",
     "text": [
      "Epoch 237: train=10.0933, val=10.1646, took 13.094 s\n",
      "  Validation Found 48865 of 54504, added 1019 (eff 89.65%) (0.102 FP/event)\n"
     ]
    },
    {
     "data": {
      "application/vnd.jupyter.widget-view+json": {
       "model_id": "",
       "version_major": 2,
       "version_minor": 0
      },
      "text/plain": [
       "HBox(children=(FloatProgress(value=0.0, description='Training', layout=Layout(flex='2'), max=1250.0, style=Pro…"
      ]
     },
     "metadata": {},
     "output_type": "display_data"
    },
    {
     "name": "stdout",
     "output_type": "stream",
     "text": [
      "Epoch 238: train=10.0728, val=10.1754, took 12.976 s\n",
      "  Validation Found 48817 of 54504, added 997 (eff 89.57%) (0.0998 FP/event)\n"
     ]
    },
    {
     "data": {
      "application/vnd.jupyter.widget-view+json": {
       "model_id": "",
       "version_major": 2,
       "version_minor": 0
      },
      "text/plain": [
       "HBox(children=(FloatProgress(value=0.0, description='Training', layout=Layout(flex='2'), max=1250.0, style=Pro…"
      ]
     },
     "metadata": {},
     "output_type": "display_data"
    },
    {
     "name": "stdout",
     "output_type": "stream",
     "text": [
      "Epoch 239: train=10.0724, val=10.1864, took 13.301 s\n",
      "  Validation Found 48817 of 54504, added 993 (eff 89.57%) (0.0994 FP/event)\n"
     ]
    },
    {
     "data": {
      "application/vnd.jupyter.widget-view+json": {
       "model_id": "",
       "version_major": 2,
       "version_minor": 0
      },
      "text/plain": [
       "HBox(children=(FloatProgress(value=0.0, description='Training', layout=Layout(flex='2'), max=1250.0, style=Pro…"
      ]
     },
     "metadata": {},
     "output_type": "display_data"
    },
    {
     "name": "stdout",
     "output_type": "stream",
     "text": [
      "Epoch 240: train=10.071, val=10.1872, took 12.927 s\n",
      "  Validation Found 48791 of 54504, added 983 (eff 89.52%) (0.0984 FP/event)\n"
     ]
    },
    {
     "data": {
      "application/vnd.jupyter.widget-view+json": {
       "model_id": "",
       "version_major": 2,
       "version_minor": 0
      },
      "text/plain": [
       "HBox(children=(FloatProgress(value=0.0, description='Training', layout=Layout(flex='2'), max=1250.0, style=Pro…"
      ]
     },
     "metadata": {},
     "output_type": "display_data"
    },
    {
     "name": "stdout",
     "output_type": "stream",
     "text": [
      "Epoch 241: train=10.073, val=10.1896, took 12.715 s\n",
      "  Validation Found 48814 of 54504, added 990 (eff 89.56%) (0.0991 FP/event)\n"
     ]
    },
    {
     "data": {
      "application/vnd.jupyter.widget-view+json": {
       "model_id": "",
       "version_major": 2,
       "version_minor": 0
      },
      "text/plain": [
       "HBox(children=(FloatProgress(value=0.0, description='Training', layout=Layout(flex='2'), max=1250.0, style=Pro…"
      ]
     },
     "metadata": {},
     "output_type": "display_data"
    },
    {
     "name": "stdout",
     "output_type": "stream",
     "text": [
      "Epoch 242: train=10.0691, val=10.1766, took 13.339 s\n",
      "  Validation Found 48840 of 54504, added 1000 (eff 89.61%) (0.1 FP/event)\n"
     ]
    },
    {
     "data": {
      "application/vnd.jupyter.widget-view+json": {
       "model_id": "",
       "version_major": 2,
       "version_minor": 0
      },
      "text/plain": [
       "HBox(children=(FloatProgress(value=0.0, description='Training', layout=Layout(flex='2'), max=1250.0, style=Pro…"
      ]
     },
     "metadata": {},
     "output_type": "display_data"
    },
    {
     "name": "stdout",
     "output_type": "stream",
     "text": [
      "Epoch 243: train=10.0755, val=10.1872, took 12.633 s\n",
      "  Validation Found 48835 of 54504, added 1002 (eff 89.60%) (0.1 FP/event)\n"
     ]
    },
    {
     "data": {
      "application/vnd.jupyter.widget-view+json": {
       "model_id": "",
       "version_major": 2,
       "version_minor": 0
      },
      "text/plain": [
       "HBox(children=(FloatProgress(value=0.0, description='Training', layout=Layout(flex='2'), max=1250.0, style=Pro…"
      ]
     },
     "metadata": {},
     "output_type": "display_data"
    },
    {
     "name": "stdout",
     "output_type": "stream",
     "text": [
      "Epoch 244: train=10.0742, val=10.1913, took 13.191 s\n",
      "  Validation Found 48845 of 54504, added 1004 (eff 89.62%) (0.101 FP/event)\n"
     ]
    },
    {
     "data": {
      "application/vnd.jupyter.widget-view+json": {
       "model_id": "",
       "version_major": 2,
       "version_minor": 0
      },
      "text/plain": [
       "HBox(children=(FloatProgress(value=0.0, description='Training', layout=Layout(flex='2'), max=1250.0, style=Pro…"
      ]
     },
     "metadata": {},
     "output_type": "display_data"
    },
    {
     "name": "stdout",
     "output_type": "stream",
     "text": [
      "Epoch 245: train=10.0782, val=10.1901, took 13.351 s\n",
      "  Validation Found 48822 of 54504, added 997 (eff 89.58%) (0.0998 FP/event)\n"
     ]
    },
    {
     "data": {
      "application/vnd.jupyter.widget-view+json": {
       "model_id": "",
       "version_major": 2,
       "version_minor": 0
      },
      "text/plain": [
       "HBox(children=(FloatProgress(value=0.0, description='Training', layout=Layout(flex='2'), max=1250.0, style=Pro…"
      ]
     },
     "metadata": {},
     "output_type": "display_data"
    },
    {
     "name": "stdout",
     "output_type": "stream",
     "text": [
      "Epoch 246: train=10.0745, val=10.1936, took 13.363 s\n",
      "  Validation Found 48833 of 54504, added 1004 (eff 89.60%) (0.101 FP/event)\n"
     ]
    },
    {
     "data": {
      "application/vnd.jupyter.widget-view+json": {
       "model_id": "",
       "version_major": 2,
       "version_minor": 0
      },
      "text/plain": [
       "HBox(children=(FloatProgress(value=0.0, description='Training', layout=Layout(flex='2'), max=1250.0, style=Pro…"
      ]
     },
     "metadata": {},
     "output_type": "display_data"
    },
    {
     "name": "stdout",
     "output_type": "stream",
     "text": [
      "Epoch 247: train=10.0796, val=10.1837, took 12.986 s\n",
      "  Validation Found 48813 of 54504, added 995 (eff 89.56%) (0.0996 FP/event)\n"
     ]
    },
    {
     "data": {
      "application/vnd.jupyter.widget-view+json": {
       "model_id": "",
       "version_major": 2,
       "version_minor": 0
      },
      "text/plain": [
       "HBox(children=(FloatProgress(value=0.0, description='Training', layout=Layout(flex='2'), max=1250.0, style=Pro…"
      ]
     },
     "metadata": {},
     "output_type": "display_data"
    },
    {
     "name": "stdout",
     "output_type": "stream",
     "text": [
      "Epoch 248: train=10.0781, val=10.1911, took 13.542 s\n",
      "  Validation Found 48847 of 54504, added 1009 (eff 89.62%) (0.101 FP/event)\n"
     ]
    },
    {
     "data": {
      "application/vnd.jupyter.widget-view+json": {
       "model_id": "",
       "version_major": 2,
       "version_minor": 0
      },
      "text/plain": [
       "HBox(children=(FloatProgress(value=0.0, description='Training', layout=Layout(flex='2'), max=1250.0, style=Pro…"
      ]
     },
     "metadata": {},
     "output_type": "display_data"
    },
    {
     "name": "stdout",
     "output_type": "stream",
     "text": [
      "Epoch 249: train=10.082, val=10.1945, took 13.452 s\n",
      "  Validation Found 48821 of 54504, added 998 (eff 89.57%) (0.0999 FP/event)\n"
     ]
    },
    {
     "data": {
      "application/vnd.jupyter.widget-view+json": {
       "model_id": "",
       "version_major": 2,
       "version_minor": 0
      },
      "text/plain": [
       "HBox(children=(FloatProgress(value=0.0, description='Training', layout=Layout(flex='2'), max=1250.0, style=Pro…"
      ]
     },
     "metadata": {},
     "output_type": "display_data"
    },
    {
     "name": "stdout",
     "output_type": "stream",
     "text": [
      "Epoch 250: train=10.0755, val=10.1843, took 13.314 s\n",
      "  Validation Found 48814 of 54504, added 995 (eff 89.56%) (0.0996 FP/event)\n"
     ]
    },
    {
     "data": {
      "application/vnd.jupyter.widget-view+json": {
       "model_id": "",
       "version_major": 2,
       "version_minor": 0
      },
      "text/plain": [
       "HBox(children=(FloatProgress(value=0.0, description='Training', layout=Layout(flex='2'), max=1250.0, style=Pro…"
      ]
     },
     "metadata": {},
     "output_type": "display_data"
    },
    {
     "name": "stdout",
     "output_type": "stream",
     "text": [
      "Epoch 251: train=10.0717, val=10.1893, took 13.412 s\n",
      "  Validation Found 48828 of 54504, added 1004 (eff 89.59%) (0.101 FP/event)\n"
     ]
    },
    {
     "data": {
      "application/vnd.jupyter.widget-view+json": {
       "model_id": "",
       "version_major": 2,
       "version_minor": 0
      },
      "text/plain": [
       "HBox(children=(FloatProgress(value=0.0, description='Training', layout=Layout(flex='2'), max=1250.0, style=Pro…"
      ]
     },
     "metadata": {},
     "output_type": "display_data"
    },
    {
     "name": "stdout",
     "output_type": "stream",
     "text": [
      "Epoch 252: train=10.0808, val=10.1851, took 13.41 s\n",
      "  Validation Found 48826 of 54504, added 997 (eff 89.58%) (0.0998 FP/event)\n"
     ]
    },
    {
     "data": {
      "application/vnd.jupyter.widget-view+json": {
       "model_id": "",
       "version_major": 2,
       "version_minor": 0
      },
      "text/plain": [
       "HBox(children=(FloatProgress(value=0.0, description='Training', layout=Layout(flex='2'), max=1250.0, style=Pro…"
      ]
     },
     "metadata": {},
     "output_type": "display_data"
    },
    {
     "name": "stdout",
     "output_type": "stream",
     "text": [
      "Epoch 253: train=10.0734, val=10.1869, took 13.399 s\n",
      "  Validation Found 48823 of 54504, added 999 (eff 89.58%) (0.1 FP/event)\n"
     ]
    },
    {
     "data": {
      "application/vnd.jupyter.widget-view+json": {
       "model_id": "",
       "version_major": 2,
       "version_minor": 0
      },
      "text/plain": [
       "HBox(children=(FloatProgress(value=0.0, description='Training', layout=Layout(flex='2'), max=1250.0, style=Pro…"
      ]
     },
     "metadata": {},
     "output_type": "display_data"
    },
    {
     "name": "stdout",
     "output_type": "stream",
     "text": [
      "Epoch 254: train=10.0698, val=10.1832, took 13.141 s\n",
      "  Validation Found 48834 of 54504, added 1002 (eff 89.60%) (0.1 FP/event)\n"
     ]
    },
    {
     "data": {
      "application/vnd.jupyter.widget-view+json": {
       "model_id": "",
       "version_major": 2,
       "version_minor": 0
      },
      "text/plain": [
       "HBox(children=(FloatProgress(value=0.0, description='Training', layout=Layout(flex='2'), max=1250.0, style=Pro…"
      ]
     },
     "metadata": {},
     "output_type": "display_data"
    },
    {
     "name": "stdout",
     "output_type": "stream",
     "text": [
      "Epoch 255: train=10.0738, val=10.1876, took 13.418 s\n",
      "  Validation Found 48802 of 54504, added 993 (eff 89.54%) (0.0994 FP/event)\n"
     ]
    },
    {
     "data": {
      "application/vnd.jupyter.widget-view+json": {
       "model_id": "",
       "version_major": 2,
       "version_minor": 0
      },
      "text/plain": [
       "HBox(children=(FloatProgress(value=0.0, description='Training', layout=Layout(flex='2'), max=1250.0, style=Pro…"
      ]
     },
     "metadata": {},
     "output_type": "display_data"
    },
    {
     "name": "stdout",
     "output_type": "stream",
     "text": [
      "Epoch 256: train=10.0751, val=10.1915, took 14.168 s\n",
      "  Validation Found 48834 of 54504, added 1003 (eff 89.60%) (0.1 FP/event)\n"
     ]
    },
    {
     "data": {
      "application/vnd.jupyter.widget-view+json": {
       "model_id": "",
       "version_major": 2,
       "version_minor": 0
      },
      "text/plain": [
       "HBox(children=(FloatProgress(value=0.0, description='Training', layout=Layout(flex='2'), max=1250.0, style=Pro…"
      ]
     },
     "metadata": {},
     "output_type": "display_data"
    },
    {
     "name": "stdout",
     "output_type": "stream",
     "text": [
      "Epoch 257: train=10.0739, val=10.1887, took 13.804 s\n",
      "  Validation Found 48815 of 54504, added 995 (eff 89.56%) (0.0996 FP/event)\n"
     ]
    },
    {
     "data": {
      "application/vnd.jupyter.widget-view+json": {
       "model_id": "",
       "version_major": 2,
       "version_minor": 0
      },
      "text/plain": [
       "HBox(children=(FloatProgress(value=0.0, description='Training', layout=Layout(flex='2'), max=1250.0, style=Pro…"
      ]
     },
     "metadata": {},
     "output_type": "display_data"
    },
    {
     "name": "stdout",
     "output_type": "stream",
     "text": [
      "Epoch 258: train=10.0705, val=10.1795, took 13.847 s\n",
      "  Validation Found 48822 of 54504, added 998 (eff 89.58%) (0.0999 FP/event)\n"
     ]
    },
    {
     "data": {
      "application/vnd.jupyter.widget-view+json": {
       "model_id": "",
       "version_major": 2,
       "version_minor": 0
      },
      "text/plain": [
       "HBox(children=(FloatProgress(value=0.0, description='Training', layout=Layout(flex='2'), max=1250.0, style=Pro…"
      ]
     },
     "metadata": {},
     "output_type": "display_data"
    },
    {
     "name": "stdout",
     "output_type": "stream",
     "text": [
      "Epoch 259: train=10.0672, val=10.1875, took 13.342 s\n",
      "  Validation Found 48850 of 54504, added 1006 (eff 89.63%) (0.101 FP/event)\n"
     ]
    },
    {
     "data": {
      "application/vnd.jupyter.widget-view+json": {
       "model_id": "",
       "version_major": 2,
       "version_minor": 0
      },
      "text/plain": [
       "HBox(children=(FloatProgress(value=0.0, description='Training', layout=Layout(flex='2'), max=1250.0, style=Pro…"
      ]
     },
     "metadata": {},
     "output_type": "display_data"
    },
    {
     "name": "stdout",
     "output_type": "stream",
     "text": [
      "Epoch 260: train=10.0718, val=10.181, took 13.785 s\n",
      "  Validation Found 48866 of 54504, added 1010 (eff 89.66%) (0.101 FP/event)\n"
     ]
    },
    {
     "data": {
      "application/vnd.jupyter.widget-view+json": {
       "model_id": "",
       "version_major": 2,
       "version_minor": 0
      },
      "text/plain": [
       "HBox(children=(FloatProgress(value=0.0, description='Training', layout=Layout(flex='2'), max=1250.0, style=Pro…"
      ]
     },
     "metadata": {},
     "output_type": "display_data"
    },
    {
     "name": "stdout",
     "output_type": "stream",
     "text": [
      "Epoch 261: train=10.0727, val=10.1855, took 13.348 s\n",
      "  Validation Found 48805 of 54504, added 988 (eff 89.54%) (0.0989 FP/event)\n"
     ]
    },
    {
     "data": {
      "application/vnd.jupyter.widget-view+json": {
       "model_id": "",
       "version_major": 2,
       "version_minor": 0
      },
      "text/plain": [
       "HBox(children=(FloatProgress(value=0.0, description='Training', layout=Layout(flex='2'), max=1250.0, style=Pro…"
      ]
     },
     "metadata": {},
     "output_type": "display_data"
    },
    {
     "name": "stdout",
     "output_type": "stream",
     "text": [
      "Epoch 262: train=10.0744, val=10.1776, took 14.058 s\n",
      "  Validation Found 48809 of 54504, added 995 (eff 89.55%) (0.0996 FP/event)\n"
     ]
    },
    {
     "data": {
      "application/vnd.jupyter.widget-view+json": {
       "model_id": "",
       "version_major": 2,
       "version_minor": 0
      },
      "text/plain": [
       "HBox(children=(FloatProgress(value=0.0, description='Training', layout=Layout(flex='2'), max=1250.0, style=Pro…"
      ]
     },
     "metadata": {},
     "output_type": "display_data"
    },
    {
     "name": "stdout",
     "output_type": "stream",
     "text": [
      "Epoch 263: train=10.0738, val=10.184, took 13.889 s\n",
      "  Validation Found 48811 of 54504, added 990 (eff 89.55%) (0.0991 FP/event)\n"
     ]
    },
    {
     "data": {
      "application/vnd.jupyter.widget-view+json": {
       "model_id": "",
       "version_major": 2,
       "version_minor": 0
      },
      "text/plain": [
       "HBox(children=(FloatProgress(value=0.0, description='Training', layout=Layout(flex='2'), max=1250.0, style=Pro…"
      ]
     },
     "metadata": {},
     "output_type": "display_data"
    },
    {
     "name": "stdout",
     "output_type": "stream",
     "text": [
      "Epoch 264: train=10.0705, val=10.1847, took 13.843 s\n",
      "  Validation Found 48799 of 54504, added 988 (eff 89.53%) (0.0989 FP/event)\n"
     ]
    },
    {
     "data": {
      "application/vnd.jupyter.widget-view+json": {
       "model_id": "",
       "version_major": 2,
       "version_minor": 0
      },
      "text/plain": [
       "HBox(children=(FloatProgress(value=0.0, description='Training', layout=Layout(flex='2'), max=1250.0, style=Pro…"
      ]
     },
     "metadata": {},
     "output_type": "display_data"
    },
    {
     "name": "stdout",
     "output_type": "stream",
     "text": [
      "Epoch 265: train=10.0743, val=10.1813, took 13.739 s\n",
      "  Validation Found 48816 of 54504, added 1000 (eff 89.56%) (0.1 FP/event)\n"
     ]
    },
    {
     "data": {
      "application/vnd.jupyter.widget-view+json": {
       "model_id": "",
       "version_major": 2,
       "version_minor": 0
      },
      "text/plain": [
       "HBox(children=(FloatProgress(value=0.0, description='Training', layout=Layout(flex='2'), max=1250.0, style=Pro…"
      ]
     },
     "metadata": {},
     "output_type": "display_data"
    },
    {
     "name": "stdout",
     "output_type": "stream",
     "text": [
      "Epoch 266: train=10.0649, val=10.1898, took 13.359 s\n",
      "  Validation Found 48842 of 54504, added 1006 (eff 89.61%) (0.101 FP/event)\n"
     ]
    },
    {
     "data": {
      "application/vnd.jupyter.widget-view+json": {
       "model_id": "",
       "version_major": 2,
       "version_minor": 0
      },
      "text/plain": [
       "HBox(children=(FloatProgress(value=0.0, description='Training', layout=Layout(flex='2'), max=1250.0, style=Pro…"
      ]
     },
     "metadata": {},
     "output_type": "display_data"
    },
    {
     "name": "stdout",
     "output_type": "stream",
     "text": [
      "Epoch 267: train=10.0765, val=10.1839, took 13.815 s\n",
      "  Validation Found 48831 of 54504, added 1002 (eff 89.59%) (0.1 FP/event)\n"
     ]
    },
    {
     "data": {
      "application/vnd.jupyter.widget-view+json": {
       "model_id": "",
       "version_major": 2,
       "version_minor": 0
      },
      "text/plain": [
       "HBox(children=(FloatProgress(value=0.0, description='Training', layout=Layout(flex='2'), max=1250.0, style=Pro…"
      ]
     },
     "metadata": {},
     "output_type": "display_data"
    },
    {
     "name": "stdout",
     "output_type": "stream",
     "text": [
      "Epoch 268: train=10.0708, val=10.1853, took 14.055 s\n",
      "  Validation Found 48810 of 54504, added 996 (eff 89.55%) (0.0997 FP/event)\n"
     ]
    },
    {
     "data": {
      "application/vnd.jupyter.widget-view+json": {
       "model_id": "",
       "version_major": 2,
       "version_minor": 0
      },
      "text/plain": [
       "HBox(children=(FloatProgress(value=0.0, description='Training', layout=Layout(flex='2'), max=1250.0, style=Pro…"
      ]
     },
     "metadata": {},
     "output_type": "display_data"
    },
    {
     "name": "stdout",
     "output_type": "stream",
     "text": [
      "Epoch 269: train=10.0745, val=10.1816, took 13.488 s\n",
      "  Validation Found 48793 of 54504, added 983 (eff 89.52%) (0.0984 FP/event)\n"
     ]
    },
    {
     "data": {
      "application/vnd.jupyter.widget-view+json": {
       "model_id": "",
       "version_major": 2,
       "version_minor": 0
      },
      "text/plain": [
       "HBox(children=(FloatProgress(value=0.0, description='Training', layout=Layout(flex='2'), max=1250.0, style=Pro…"
      ]
     },
     "metadata": {},
     "output_type": "display_data"
    },
    {
     "name": "stdout",
     "output_type": "stream",
     "text": [
      "Epoch 270: train=10.0681, val=10.1939, took 14.119 s\n",
      "  Validation Found 48785 of 54504, added 985 (eff 89.51%) (0.0986 FP/event)\n"
     ]
    },
    {
     "data": {
      "application/vnd.jupyter.widget-view+json": {
       "model_id": "",
       "version_major": 2,
       "version_minor": 0
      },
      "text/plain": [
       "HBox(children=(FloatProgress(value=0.0, description='Training', layout=Layout(flex='2'), max=1250.0, style=Pro…"
      ]
     },
     "metadata": {},
     "output_type": "display_data"
    },
    {
     "name": "stdout",
     "output_type": "stream",
     "text": [
      "Epoch 271: train=10.0693, val=10.1864, took 13.221 s\n",
      "  Validation Found 48838 of 54504, added 1001 (eff 89.60%) (0.1 FP/event)\n"
     ]
    },
    {
     "data": {
      "application/vnd.jupyter.widget-view+json": {
       "model_id": "",
       "version_major": 2,
       "version_minor": 0
      },
      "text/plain": [
       "HBox(children=(FloatProgress(value=0.0, description='Training', layout=Layout(flex='2'), max=1250.0, style=Pro…"
      ]
     },
     "metadata": {},
     "output_type": "display_data"
    },
    {
     "name": "stdout",
     "output_type": "stream",
     "text": [
      "Epoch 272: train=10.0669, val=10.1854, took 13.923 s\n",
      "  Validation Found 48829 of 54504, added 999 (eff 89.59%) (0.1 FP/event)\n"
     ]
    },
    {
     "data": {
      "application/vnd.jupyter.widget-view+json": {
       "model_id": "",
       "version_major": 2,
       "version_minor": 0
      },
      "text/plain": [
       "HBox(children=(FloatProgress(value=0.0, description='Training', layout=Layout(flex='2'), max=1250.0, style=Pro…"
      ]
     },
     "metadata": {},
     "output_type": "display_data"
    },
    {
     "name": "stdout",
     "output_type": "stream",
     "text": [
      "Epoch 273: train=10.0726, val=10.186, took 13.762 s\n",
      "  Validation Found 48830 of 54504, added 996 (eff 89.59%) (0.0997 FP/event)\n"
     ]
    },
    {
     "data": {
      "application/vnd.jupyter.widget-view+json": {
       "model_id": "",
       "version_major": 2,
       "version_minor": 0
      },
      "text/plain": [
       "HBox(children=(FloatProgress(value=0.0, description='Training', layout=Layout(flex='2'), max=1250.0, style=Pro…"
      ]
     },
     "metadata": {},
     "output_type": "display_data"
    },
    {
     "name": "stdout",
     "output_type": "stream",
     "text": [
      "Epoch 274: train=10.0699, val=10.1909, took 13.721 s\n",
      "  Validation Found 48800 of 54504, added 981 (eff 89.53%) (0.0982 FP/event)\n"
     ]
    },
    {
     "data": {
      "application/vnd.jupyter.widget-view+json": {
       "model_id": "",
       "version_major": 2,
       "version_minor": 0
      },
      "text/plain": [
       "HBox(children=(FloatProgress(value=0.0, description='Training', layout=Layout(flex='2'), max=1250.0, style=Pro…"
      ]
     },
     "metadata": {},
     "output_type": "display_data"
    },
    {
     "name": "stdout",
     "output_type": "stream",
     "text": [
      "Epoch 275: train=10.0724, val=10.1938, took 13.269 s\n",
      "  Validation Found 48817 of 54504, added 990 (eff 89.57%) (0.0991 FP/event)\n"
     ]
    },
    {
     "data": {
      "application/vnd.jupyter.widget-view+json": {
       "model_id": "",
       "version_major": 2,
       "version_minor": 0
      },
      "text/plain": [
       "HBox(children=(FloatProgress(value=0.0, description='Training', layout=Layout(flex='2'), max=1250.0, style=Pro…"
      ]
     },
     "metadata": {},
     "output_type": "display_data"
    },
    {
     "name": "stdout",
     "output_type": "stream",
     "text": [
      "Epoch 276: train=10.0731, val=10.1873, took 13.612 s\n",
      "  Validation Found 48833 of 54504, added 1002 (eff 89.60%) (0.1 FP/event)\n"
     ]
    },
    {
     "data": {
      "application/vnd.jupyter.widget-view+json": {
       "model_id": "",
       "version_major": 2,
       "version_minor": 0
      },
      "text/plain": [
       "HBox(children=(FloatProgress(value=0.0, description='Training', layout=Layout(flex='2'), max=1250.0, style=Pro…"
      ]
     },
     "metadata": {},
     "output_type": "display_data"
    },
    {
     "name": "stdout",
     "output_type": "stream",
     "text": [
      "Epoch 277: train=10.0729, val=10.1847, took 13.614 s\n",
      "  Validation Found 48829 of 54504, added 995 (eff 89.59%) (0.0996 FP/event)\n"
     ]
    },
    {
     "data": {
      "application/vnd.jupyter.widget-view+json": {
       "model_id": "",
       "version_major": 2,
       "version_minor": 0
      },
      "text/plain": [
       "HBox(children=(FloatProgress(value=0.0, description='Training', layout=Layout(flex='2'), max=1250.0, style=Pro…"
      ]
     },
     "metadata": {},
     "output_type": "display_data"
    },
    {
     "name": "stdout",
     "output_type": "stream",
     "text": [
      "Epoch 278: train=10.0748, val=10.1893, took 13.505 s\n",
      "  Validation Found 48786 of 54504, added 983 (eff 89.51%) (0.0984 FP/event)\n"
     ]
    },
    {
     "data": {
      "application/vnd.jupyter.widget-view+json": {
       "model_id": "",
       "version_major": 2,
       "version_minor": 0
      },
      "text/plain": [
       "HBox(children=(FloatProgress(value=0.0, description='Training', layout=Layout(flex='2'), max=1250.0, style=Pro…"
      ]
     },
     "metadata": {},
     "output_type": "display_data"
    },
    {
     "name": "stdout",
     "output_type": "stream",
     "text": [
      "Epoch 279: train=10.0665, val=10.1842, took 13.175 s\n",
      "  Validation Found 48839 of 54504, added 1001 (eff 89.61%) (0.1 FP/event)\n"
     ]
    },
    {
     "data": {
      "application/vnd.jupyter.widget-view+json": {
       "model_id": "",
       "version_major": 2,
       "version_minor": 0
      },
      "text/plain": [
       "HBox(children=(FloatProgress(value=0.0, description='Training', layout=Layout(flex='2'), max=1250.0, style=Pro…"
      ]
     },
     "metadata": {},
     "output_type": "display_data"
    },
    {
     "name": "stdout",
     "output_type": "stream",
     "text": [
      "Epoch 280: train=10.0753, val=10.1832, took 13.582 s\n",
      "  Validation Found 48814 of 54504, added 993 (eff 89.56%) (0.0994 FP/event)\n"
     ]
    },
    {
     "data": {
      "application/vnd.jupyter.widget-view+json": {
       "model_id": "",
       "version_major": 2,
       "version_minor": 0
      },
      "text/plain": [
       "HBox(children=(FloatProgress(value=0.0, description='Training', layout=Layout(flex='2'), max=1250.0, style=Pro…"
      ]
     },
     "metadata": {},
     "output_type": "display_data"
    },
    {
     "name": "stdout",
     "output_type": "stream",
     "text": [
      "Epoch 281: train=10.0741, val=10.1916, took 13.32 s\n",
      "  Validation Found 48832 of 54504, added 1001 (eff 89.59%) (0.1 FP/event)\n"
     ]
    },
    {
     "data": {
      "application/vnd.jupyter.widget-view+json": {
       "model_id": "",
       "version_major": 2,
       "version_minor": 0
      },
      "text/plain": [
       "HBox(children=(FloatProgress(value=0.0, description='Training', layout=Layout(flex='2'), max=1250.0, style=Pro…"
      ]
     },
     "metadata": {},
     "output_type": "display_data"
    },
    {
     "name": "stdout",
     "output_type": "stream",
     "text": [
      "Epoch 282: train=10.078, val=10.1851, took 13.465 s\n",
      "  Validation Found 48836 of 54504, added 1000 (eff 89.60%) (0.1 FP/event)\n"
     ]
    },
    {
     "data": {
      "application/vnd.jupyter.widget-view+json": {
       "model_id": "",
       "version_major": 2,
       "version_minor": 0
      },
      "text/plain": [
       "HBox(children=(FloatProgress(value=0.0, description='Training', layout=Layout(flex='2'), max=1250.0, style=Pro…"
      ]
     },
     "metadata": {},
     "output_type": "display_data"
    },
    {
     "name": "stdout",
     "output_type": "stream",
     "text": [
      "Epoch 283: train=10.0728, val=10.1861, took 13.865 s\n",
      "  Validation Found 48847 of 54504, added 1005 (eff 89.62%) (0.101 FP/event)\n"
     ]
    },
    {
     "data": {
      "application/vnd.jupyter.widget-view+json": {
       "model_id": "",
       "version_major": 2,
       "version_minor": 0
      },
      "text/plain": [
       "HBox(children=(FloatProgress(value=0.0, description='Training', layout=Layout(flex='2'), max=1250.0, style=Pro…"
      ]
     },
     "metadata": {},
     "output_type": "display_data"
    },
    {
     "name": "stdout",
     "output_type": "stream",
     "text": [
      "Epoch 284: train=10.0714, val=10.1798, took 13.163 s\n",
      "  Validation Found 48811 of 54504, added 993 (eff 89.55%) (0.0994 FP/event)\n"
     ]
    },
    {
     "data": {
      "application/vnd.jupyter.widget-view+json": {
       "model_id": "",
       "version_major": 2,
       "version_minor": 0
      },
      "text/plain": [
       "HBox(children=(FloatProgress(value=0.0, description='Training', layout=Layout(flex='2'), max=1250.0, style=Pro…"
      ]
     },
     "metadata": {},
     "output_type": "display_data"
    },
    {
     "name": "stdout",
     "output_type": "stream",
     "text": [
      "Epoch 285: train=10.0692, val=10.1835, took 13.233 s\n",
      "  Validation Found 48819 of 54504, added 996 (eff 89.57%) (0.0997 FP/event)\n"
     ]
    },
    {
     "data": {
      "application/vnd.jupyter.widget-view+json": {
       "model_id": "",
       "version_major": 2,
       "version_minor": 0
      },
      "text/plain": [
       "HBox(children=(FloatProgress(value=0.0, description='Training', layout=Layout(flex='2'), max=1250.0, style=Pro…"
      ]
     },
     "metadata": {},
     "output_type": "display_data"
    },
    {
     "name": "stdout",
     "output_type": "stream",
     "text": [
      "Epoch 286: train=10.0733, val=10.1886, took 13.473 s\n",
      "  Validation Found 48835 of 54504, added 1006 (eff 89.60%) (0.101 FP/event)\n"
     ]
    },
    {
     "data": {
      "application/vnd.jupyter.widget-view+json": {
       "model_id": "",
       "version_major": 2,
       "version_minor": 0
      },
      "text/plain": [
       "HBox(children=(FloatProgress(value=0.0, description='Training', layout=Layout(flex='2'), max=1250.0, style=Pro…"
      ]
     },
     "metadata": {},
     "output_type": "display_data"
    },
    {
     "name": "stdout",
     "output_type": "stream",
     "text": [
      "Epoch 287: train=10.0716, val=10.194, took 13.383 s\n",
      "  Validation Found 48800 of 54504, added 988 (eff 89.53%) (0.0989 FP/event)\n"
     ]
    },
    {
     "data": {
      "application/vnd.jupyter.widget-view+json": {
       "model_id": "",
       "version_major": 2,
       "version_minor": 0
      },
      "text/plain": [
       "HBox(children=(FloatProgress(value=0.0, description='Training', layout=Layout(flex='2'), max=1250.0, style=Pro…"
      ]
     },
     "metadata": {},
     "output_type": "display_data"
    },
    {
     "name": "stdout",
     "output_type": "stream",
     "text": [
      "Epoch 288: train=10.0684, val=10.1857, took 13.942 s\n",
      "  Validation Found 48834 of 54504, added 998 (eff 89.60%) (0.0999 FP/event)\n"
     ]
    },
    {
     "data": {
      "application/vnd.jupyter.widget-view+json": {
       "model_id": "",
       "version_major": 2,
       "version_minor": 0
      },
      "text/plain": [
       "HBox(children=(FloatProgress(value=0.0, description='Training', layout=Layout(flex='2'), max=1250.0, style=Pro…"
      ]
     },
     "metadata": {},
     "output_type": "display_data"
    },
    {
     "name": "stdout",
     "output_type": "stream",
     "text": [
      "Epoch 289: train=10.0684, val=10.1848, took 13.911 s\n",
      "  Validation Found 48834 of 54504, added 1000 (eff 89.60%) (0.1 FP/event)\n"
     ]
    },
    {
     "data": {
      "application/vnd.jupyter.widget-view+json": {
       "model_id": "",
       "version_major": 2,
       "version_minor": 0
      },
      "text/plain": [
       "HBox(children=(FloatProgress(value=0.0, description='Training', layout=Layout(flex='2'), max=1250.0, style=Pro…"
      ]
     },
     "metadata": {},
     "output_type": "display_data"
    },
    {
     "name": "stdout",
     "output_type": "stream",
     "text": [
      "Epoch 290: train=10.0685, val=10.183, took 13.151 s\n",
      "  Validation Found 48824 of 54504, added 999 (eff 89.58%) (0.1 FP/event)\n"
     ]
    },
    {
     "data": {
      "application/vnd.jupyter.widget-view+json": {
       "model_id": "",
       "version_major": 2,
       "version_minor": 0
      },
      "text/plain": [
       "HBox(children=(FloatProgress(value=0.0, description='Training', layout=Layout(flex='2'), max=1250.0, style=Pro…"
      ]
     },
     "metadata": {},
     "output_type": "display_data"
    },
    {
     "name": "stdout",
     "output_type": "stream",
     "text": [
      "Epoch 291: train=10.0672, val=10.1804, took 13.653 s\n",
      "  Validation Found 48812 of 54504, added 996 (eff 89.56%) (0.0997 FP/event)\n"
     ]
    },
    {
     "data": {
      "application/vnd.jupyter.widget-view+json": {
       "model_id": "",
       "version_major": 2,
       "version_minor": 0
      },
      "text/plain": [
       "HBox(children=(FloatProgress(value=0.0, description='Training', layout=Layout(flex='2'), max=1250.0, style=Pro…"
      ]
     },
     "metadata": {},
     "output_type": "display_data"
    },
    {
     "name": "stdout",
     "output_type": "stream",
     "text": [
      "Epoch 292: train=10.0734, val=10.1877, took 13.616 s\n",
      "  Validation Found 48815 of 54504, added 996 (eff 89.56%) (0.0997 FP/event)\n"
     ]
    },
    {
     "data": {
      "application/vnd.jupyter.widget-view+json": {
       "model_id": "",
       "version_major": 2,
       "version_minor": 0
      },
      "text/plain": [
       "HBox(children=(FloatProgress(value=0.0, description='Training', layout=Layout(flex='2'), max=1250.0, style=Pro…"
      ]
     },
     "metadata": {},
     "output_type": "display_data"
    },
    {
     "name": "stdout",
     "output_type": "stream",
     "text": [
      "Epoch 293: train=10.0755, val=10.1892, took 13.547 s\n",
      "  Validation Found 48826 of 54504, added 997 (eff 89.58%) (0.0998 FP/event)\n"
     ]
    },
    {
     "data": {
      "application/vnd.jupyter.widget-view+json": {
       "model_id": "",
       "version_major": 2,
       "version_minor": 0
      },
      "text/plain": [
       "HBox(children=(FloatProgress(value=0.0, description='Training', layout=Layout(flex='2'), max=1250.0, style=Pro…"
      ]
     },
     "metadata": {},
     "output_type": "display_data"
    },
    {
     "name": "stdout",
     "output_type": "stream",
     "text": [
      "Epoch 294: train=10.0713, val=10.1901, took 13.266 s\n",
      "  Validation Found 48825 of 54504, added 995 (eff 89.58%) (0.0996 FP/event)\n"
     ]
    },
    {
     "data": {
      "application/vnd.jupyter.widget-view+json": {
       "model_id": "",
       "version_major": 2,
       "version_minor": 0
      },
      "text/plain": [
       "HBox(children=(FloatProgress(value=0.0, description='Training', layout=Layout(flex='2'), max=1250.0, style=Pro…"
      ]
     },
     "metadata": {},
     "output_type": "display_data"
    },
    {
     "name": "stdout",
     "output_type": "stream",
     "text": [
      "Epoch 295: train=10.0747, val=10.1865, took 13.353 s\n",
      "  Validation Found 48821 of 54504, added 998 (eff 89.57%) (0.0999 FP/event)\n"
     ]
    },
    {
     "data": {
      "application/vnd.jupyter.widget-view+json": {
       "model_id": "",
       "version_major": 2,
       "version_minor": 0
      },
      "text/plain": [
       "HBox(children=(FloatProgress(value=0.0, description='Training', layout=Layout(flex='2'), max=1250.0, style=Pro…"
      ]
     },
     "metadata": {},
     "output_type": "display_data"
    },
    {
     "name": "stdout",
     "output_type": "stream",
     "text": [
      "Epoch 296: train=10.0706, val=10.1883, took 13.856 s\n",
      "  Validation Found 48853 of 54504, added 1009 (eff 89.63%) (0.101 FP/event)\n"
     ]
    },
    {
     "data": {
      "application/vnd.jupyter.widget-view+json": {
       "model_id": "",
       "version_major": 2,
       "version_minor": 0
      },
      "text/plain": [
       "HBox(children=(FloatProgress(value=0.0, description='Training', layout=Layout(flex='2'), max=1250.0, style=Pro…"
      ]
     },
     "metadata": {},
     "output_type": "display_data"
    },
    {
     "name": "stdout",
     "output_type": "stream",
     "text": [
      "Epoch 297: train=10.0729, val=10.1903, took 13.418 s\n",
      "  Validation Found 48807 of 54504, added 993 (eff 89.55%) (0.0994 FP/event)\n"
     ]
    },
    {
     "data": {
      "application/vnd.jupyter.widget-view+json": {
       "model_id": "",
       "version_major": 2,
       "version_minor": 0
      },
      "text/plain": [
       "HBox(children=(FloatProgress(value=0.0, description='Training', layout=Layout(flex='2'), max=1250.0, style=Pro…"
      ]
     },
     "metadata": {},
     "output_type": "display_data"
    },
    {
     "name": "stdout",
     "output_type": "stream",
     "text": [
      "Epoch 298: train=10.0746, val=10.1834, took 13.638 s\n",
      "  Validation Found 48810 of 54504, added 984 (eff 89.55%) (0.0985 FP/event)\n"
     ]
    },
    {
     "data": {
      "application/vnd.jupyter.widget-view+json": {
       "model_id": "",
       "version_major": 2,
       "version_minor": 0
      },
      "text/plain": [
       "HBox(children=(FloatProgress(value=0.0, description='Training', layout=Layout(flex='2'), max=1250.0, style=Pro…"
      ]
     },
     "metadata": {},
     "output_type": "display_data"
    },
    {
     "name": "stdout",
     "output_type": "stream",
     "text": [
      "Epoch 299: train=10.0743, val=10.1876, took 13.747 s\n",
      "  Validation Found 48815 of 54504, added 994 (eff 89.56%) (0.0995 FP/event)\n"
     ]
    },
    {
     "data": {
      "application/vnd.jupyter.widget-view+json": {
       "model_id": "",
       "version_major": 2,
       "version_minor": 0
      },
      "text/plain": [
       "HBox(children=(FloatProgress(value=0.0, description='Training', layout=Layout(flex='2'), max=1250.0, style=Pro…"
      ]
     },
     "metadata": {},
     "output_type": "display_data"
    },
    {
     "name": "stdout",
     "output_type": "stream",
     "text": [
      "Epoch 300: train=10.0732, val=10.1824, took 13.51 s\n",
      "  Validation Found 48834 of 54504, added 1003 (eff 89.60%) (0.1 FP/event)\n"
     ]
    },
    {
     "data": {
      "application/vnd.jupyter.widget-view+json": {
       "model_id": "",
       "version_major": 2,
       "version_minor": 0
      },
      "text/plain": [
       "HBox(children=(FloatProgress(value=0.0, description='Training', layout=Layout(flex='2'), max=1250.0, style=Pro…"
      ]
     },
     "metadata": {},
     "output_type": "display_data"
    },
    {
     "name": "stdout",
     "output_type": "stream",
     "text": [
      "Epoch 301: train=10.0734, val=10.191, took 14.105 s\n",
      "  Validation Found 48828 of 54504, added 1001 (eff 89.59%) (0.1 FP/event)\n"
     ]
    },
    {
     "data": {
      "application/vnd.jupyter.widget-view+json": {
       "model_id": "",
       "version_major": 2,
       "version_minor": 0
      },
      "text/plain": [
       "HBox(children=(FloatProgress(value=0.0, description='Training', layout=Layout(flex='2'), max=1250.0, style=Pro…"
      ]
     },
     "metadata": {},
     "output_type": "display_data"
    },
    {
     "name": "stdout",
     "output_type": "stream",
     "text": [
      "Epoch 302: train=10.0741, val=10.1816, took 13.63 s\n",
      "  Validation Found 48814 of 54504, added 991 (eff 89.56%) (0.0992 FP/event)\n"
     ]
    },
    {
     "data": {
      "application/vnd.jupyter.widget-view+json": {
       "model_id": "",
       "version_major": 2,
       "version_minor": 0
      },
      "text/plain": [
       "HBox(children=(FloatProgress(value=0.0, description='Training', layout=Layout(flex='2'), max=1250.0, style=Pro…"
      ]
     },
     "metadata": {},
     "output_type": "display_data"
    },
    {
     "name": "stdout",
     "output_type": "stream",
     "text": [
      "Epoch 303: train=10.0711, val=10.1842, took 13.852 s\n",
      "  Validation Found 48847 of 54504, added 1001 (eff 89.62%) (0.1 FP/event)\n"
     ]
    },
    {
     "data": {
      "application/vnd.jupyter.widget-view+json": {
       "model_id": "",
       "version_major": 2,
       "version_minor": 0
      },
      "text/plain": [
       "HBox(children=(FloatProgress(value=0.0, description='Training', layout=Layout(flex='2'), max=1250.0, style=Pro…"
      ]
     },
     "metadata": {},
     "output_type": "display_data"
    },
    {
     "name": "stdout",
     "output_type": "stream",
     "text": [
      "Epoch 304: train=10.0728, val=10.176, took 13.332 s\n",
      "  Validation Found 48820 of 54504, added 997 (eff 89.57%) (0.0998 FP/event)\n"
     ]
    },
    {
     "data": {
      "application/vnd.jupyter.widget-view+json": {
       "model_id": "",
       "version_major": 2,
       "version_minor": 0
      },
      "text/plain": [
       "HBox(children=(FloatProgress(value=0.0, description='Training', layout=Layout(flex='2'), max=1250.0, style=Pro…"
      ]
     },
     "metadata": {},
     "output_type": "display_data"
    },
    {
     "name": "stdout",
     "output_type": "stream",
     "text": [
      "Epoch 305: train=10.0699, val=10.1828, took 13.673 s\n",
      "  Validation Found 48821 of 54504, added 999 (eff 89.57%) (0.1 FP/event)\n"
     ]
    },
    {
     "data": {
      "application/vnd.jupyter.widget-view+json": {
       "model_id": "",
       "version_major": 2,
       "version_minor": 0
      },
      "text/plain": [
       "HBox(children=(FloatProgress(value=0.0, description='Training', layout=Layout(flex='2'), max=1250.0, style=Pro…"
      ]
     },
     "metadata": {},
     "output_type": "display_data"
    },
    {
     "name": "stdout",
     "output_type": "stream",
     "text": [
      "Epoch 306: train=10.0694, val=10.1877, took 13.927 s\n",
      "  Validation Found 48840 of 54504, added 1005 (eff 89.61%) (0.101 FP/event)\n"
     ]
    },
    {
     "data": {
      "application/vnd.jupyter.widget-view+json": {
       "model_id": "",
       "version_major": 2,
       "version_minor": 0
      },
      "text/plain": [
       "HBox(children=(FloatProgress(value=0.0, description='Training', layout=Layout(flex='2'), max=1250.0, style=Pro…"
      ]
     },
     "metadata": {},
     "output_type": "display_data"
    },
    {
     "name": "stdout",
     "output_type": "stream",
     "text": [
      "Epoch 307: train=10.074, val=10.1872, took 13.555 s\n",
      "  Validation Found 48825 of 54504, added 999 (eff 89.58%) (0.1 FP/event)\n"
     ]
    },
    {
     "data": {
      "application/vnd.jupyter.widget-view+json": {
       "model_id": "",
       "version_major": 2,
       "version_minor": 0
      },
      "text/plain": [
       "HBox(children=(FloatProgress(value=0.0, description='Training', layout=Layout(flex='2'), max=1250.0, style=Pro…"
      ]
     },
     "metadata": {},
     "output_type": "display_data"
    },
    {
     "name": "stdout",
     "output_type": "stream",
     "text": [
      "Epoch 308: train=10.0722, val=10.187, took 13.57 s\n",
      "  Validation Found 48827 of 54504, added 1000 (eff 89.58%) (0.1 FP/event)\n"
     ]
    },
    {
     "data": {
      "application/vnd.jupyter.widget-view+json": {
       "model_id": "",
       "version_major": 2,
       "version_minor": 0
      },
      "text/plain": [
       "HBox(children=(FloatProgress(value=0.0, description='Training', layout=Layout(flex='2'), max=1250.0, style=Pro…"
      ]
     },
     "metadata": {},
     "output_type": "display_data"
    },
    {
     "name": "stdout",
     "output_type": "stream",
     "text": [
      "Epoch 309: train=10.0756, val=10.1942, took 13.98 s\n",
      "  Validation Found 48804 of 54504, added 985 (eff 89.54%) (0.0986 FP/event)\n"
     ]
    },
    {
     "data": {
      "application/vnd.jupyter.widget-view+json": {
       "model_id": "",
       "version_major": 2,
       "version_minor": 0
      },
      "text/plain": [
       "HBox(children=(FloatProgress(value=0.0, description='Training', layout=Layout(flex='2'), max=1250.0, style=Pro…"
      ]
     },
     "metadata": {},
     "output_type": "display_data"
    },
    {
     "name": "stdout",
     "output_type": "stream",
     "text": [
      "Epoch 310: train=10.0771, val=10.1783, took 13.955 s\n",
      "  Validation Found 48814 of 54504, added 992 (eff 89.56%) (0.0993 FP/event)\n"
     ]
    },
    {
     "data": {
      "application/vnd.jupyter.widget-view+json": {
       "model_id": "",
       "version_major": 2,
       "version_minor": 0
      },
      "text/plain": [
       "HBox(children=(FloatProgress(value=0.0, description='Training', layout=Layout(flex='2'), max=1250.0, style=Pro…"
      ]
     },
     "metadata": {},
     "output_type": "display_data"
    },
    {
     "name": "stdout",
     "output_type": "stream",
     "text": [
      "Epoch 311: train=10.0769, val=10.1931, took 13.606 s\n",
      "  Validation Found 48805 of 54504, added 996 (eff 89.54%) (0.0997 FP/event)\n"
     ]
    },
    {
     "data": {
      "application/vnd.jupyter.widget-view+json": {
       "model_id": "",
       "version_major": 2,
       "version_minor": 0
      },
      "text/plain": [
       "HBox(children=(FloatProgress(value=0.0, description='Training', layout=Layout(flex='2'), max=1250.0, style=Pro…"
      ]
     },
     "metadata": {},
     "output_type": "display_data"
    },
    {
     "name": "stdout",
     "output_type": "stream",
     "text": [
      "Epoch 312: train=10.0702, val=10.1866, took 13.545 s\n",
      "  Validation Found 48813 of 54504, added 992 (eff 89.56%) (0.0993 FP/event)\n"
     ]
    },
    {
     "data": {
      "application/vnd.jupyter.widget-view+json": {
       "model_id": "",
       "version_major": 2,
       "version_minor": 0
      },
      "text/plain": [
       "HBox(children=(FloatProgress(value=0.0, description='Training', layout=Layout(flex='2'), max=1250.0, style=Pro…"
      ]
     },
     "metadata": {},
     "output_type": "display_data"
    },
    {
     "name": "stdout",
     "output_type": "stream",
     "text": [
      "Epoch 313: train=10.0736, val=10.1815, took 14.15 s\n",
      "  Validation Found 48813 of 54504, added 993 (eff 89.56%) (0.0994 FP/event)\n"
     ]
    },
    {
     "data": {
      "application/vnd.jupyter.widget-view+json": {
       "model_id": "",
       "version_major": 2,
       "version_minor": 0
      },
      "text/plain": [
       "HBox(children=(FloatProgress(value=0.0, description='Training', layout=Layout(flex='2'), max=1250.0, style=Pro…"
      ]
     },
     "metadata": {},
     "output_type": "display_data"
    },
    {
     "name": "stdout",
     "output_type": "stream",
     "text": [
      "Epoch 314: train=10.0703, val=10.1866, took 13.573 s\n",
      "  Validation Found 48847 of 54504, added 1011 (eff 89.62%) (0.101 FP/event)\n"
     ]
    },
    {
     "data": {
      "application/vnd.jupyter.widget-view+json": {
       "model_id": "",
       "version_major": 2,
       "version_minor": 0
      },
      "text/plain": [
       "HBox(children=(FloatProgress(value=0.0, description='Training', layout=Layout(flex='2'), max=1250.0, style=Pro…"
      ]
     },
     "metadata": {},
     "output_type": "display_data"
    },
    {
     "name": "stdout",
     "output_type": "stream",
     "text": [
      "Epoch 315: train=10.071, val=10.1888, took 14.078 s\n",
      "  Validation Found 48818 of 54504, added 1003 (eff 89.57%) (0.1 FP/event)\n"
     ]
    },
    {
     "data": {
      "application/vnd.jupyter.widget-view+json": {
       "model_id": "",
       "version_major": 2,
       "version_minor": 0
      },
      "text/plain": [
       "HBox(children=(FloatProgress(value=0.0, description='Training', layout=Layout(flex='2'), max=1250.0, style=Pro…"
      ]
     },
     "metadata": {},
     "output_type": "display_data"
    },
    {
     "name": "stdout",
     "output_type": "stream",
     "text": [
      "Epoch 316: train=10.0723, val=10.1841, took 13.288 s\n",
      "  Validation Found 48830 of 54504, added 1003 (eff 89.59%) (0.1 FP/event)\n"
     ]
    },
    {
     "data": {
      "application/vnd.jupyter.widget-view+json": {
       "model_id": "",
       "version_major": 2,
       "version_minor": 0
      },
      "text/plain": [
       "HBox(children=(FloatProgress(value=0.0, description='Training', layout=Layout(flex='2'), max=1250.0, style=Pro…"
      ]
     },
     "metadata": {},
     "output_type": "display_data"
    },
    {
     "name": "stdout",
     "output_type": "stream",
     "text": [
      "Epoch 317: train=10.0683, val=10.175, took 13.696 s\n",
      "  Validation Found 48824 of 54504, added 999 (eff 89.58%) (0.1 FP/event)\n"
     ]
    },
    {
     "data": {
      "application/vnd.jupyter.widget-view+json": {
       "model_id": "",
       "version_major": 2,
       "version_minor": 0
      },
      "text/plain": [
       "HBox(children=(FloatProgress(value=0.0, description='Training', layout=Layout(flex='2'), max=1250.0, style=Pro…"
      ]
     },
     "metadata": {},
     "output_type": "display_data"
    },
    {
     "name": "stdout",
     "output_type": "stream",
     "text": [
      "Epoch 318: train=10.0709, val=10.1847, took 13.462 s\n",
      "  Validation Found 48836 of 54504, added 1004 (eff 89.60%) (0.101 FP/event)\n"
     ]
    },
    {
     "data": {
      "application/vnd.jupyter.widget-view+json": {
       "model_id": "",
       "version_major": 2,
       "version_minor": 0
      },
      "text/plain": [
       "HBox(children=(FloatProgress(value=0.0, description='Training', layout=Layout(flex='2'), max=1250.0, style=Pro…"
      ]
     },
     "metadata": {},
     "output_type": "display_data"
    },
    {
     "name": "stdout",
     "output_type": "stream",
     "text": [
      "Epoch 319: train=10.0742, val=10.1849, took 13.183 s\n",
      "  Validation Found 48852 of 54504, added 1003 (eff 89.63%) (0.1 FP/event)\n"
     ]
    },
    {
     "data": {
      "application/vnd.jupyter.widget-view+json": {
       "model_id": "",
       "version_major": 2,
       "version_minor": 0
      },
      "text/plain": [
       "HBox(children=(FloatProgress(value=0.0, description='Training', layout=Layout(flex='2'), max=1250.0, style=Pro…"
      ]
     },
     "metadata": {},
     "output_type": "display_data"
    },
    {
     "name": "stdout",
     "output_type": "stream",
     "text": [
      "Epoch 320: train=10.0684, val=10.1817, took 13.344 s\n",
      "  Validation Found 48828 of 54504, added 999 (eff 89.59%) (0.1 FP/event)\n"
     ]
    },
    {
     "data": {
      "application/vnd.jupyter.widget-view+json": {
       "model_id": "",
       "version_major": 2,
       "version_minor": 0
      },
      "text/plain": [
       "HBox(children=(FloatProgress(value=0.0, description='Training', layout=Layout(flex='2'), max=1250.0, style=Pro…"
      ]
     },
     "metadata": {},
     "output_type": "display_data"
    },
    {
     "name": "stdout",
     "output_type": "stream",
     "text": [
      "Epoch 321: train=10.0739, val=10.1829, took 13.165 s\n",
      "  Validation Found 48834 of 54504, added 1001 (eff 89.60%) (0.1 FP/event)\n"
     ]
    },
    {
     "data": {
      "application/vnd.jupyter.widget-view+json": {
       "model_id": "",
       "version_major": 2,
       "version_minor": 0
      },
      "text/plain": [
       "HBox(children=(FloatProgress(value=0.0, description='Training', layout=Layout(flex='2'), max=1250.0, style=Pro…"
      ]
     },
     "metadata": {},
     "output_type": "display_data"
    },
    {
     "name": "stdout",
     "output_type": "stream",
     "text": [
      "Epoch 322: train=10.0749, val=10.1889, took 13.178 s\n",
      "  Validation Found 48813 of 54504, added 992 (eff 89.56%) (0.0993 FP/event)\n"
     ]
    },
    {
     "data": {
      "application/vnd.jupyter.widget-view+json": {
       "model_id": "",
       "version_major": 2,
       "version_minor": 0
      },
      "text/plain": [
       "HBox(children=(FloatProgress(value=0.0, description='Training', layout=Layout(flex='2'), max=1250.0, style=Pro…"
      ]
     },
     "metadata": {},
     "output_type": "display_data"
    },
    {
     "name": "stdout",
     "output_type": "stream",
     "text": [
      "Epoch 323: train=10.0794, val=10.1926, took 13.173 s\n",
      "  Validation Found 48831 of 54504, added 1002 (eff 89.59%) (0.1 FP/event)\n"
     ]
    },
    {
     "data": {
      "application/vnd.jupyter.widget-view+json": {
       "model_id": "",
       "version_major": 2,
       "version_minor": 0
      },
      "text/plain": [
       "HBox(children=(FloatProgress(value=0.0, description='Training', layout=Layout(flex='2'), max=1250.0, style=Pro…"
      ]
     },
     "metadata": {},
     "output_type": "display_data"
    },
    {
     "name": "stdout",
     "output_type": "stream",
     "text": [
      "Epoch 324: train=10.0732, val=10.1863, took 13.251 s\n",
      "  Validation Found 48843 of 54504, added 1002 (eff 89.61%) (0.1 FP/event)\n"
     ]
    },
    {
     "data": {
      "application/vnd.jupyter.widget-view+json": {
       "model_id": "",
       "version_major": 2,
       "version_minor": 0
      },
      "text/plain": [
       "HBox(children=(FloatProgress(value=0.0, description='Training', layout=Layout(flex='2'), max=1250.0, style=Pro…"
      ]
     },
     "metadata": {},
     "output_type": "display_data"
    },
    {
     "name": "stdout",
     "output_type": "stream",
     "text": [
      "Epoch 325: train=10.0785, val=10.1836, took 13.115 s\n",
      "  Validation Found 48812 of 54504, added 987 (eff 89.56%) (0.0988 FP/event)\n"
     ]
    },
    {
     "data": {
      "application/vnd.jupyter.widget-view+json": {
       "model_id": "",
       "version_major": 2,
       "version_minor": 0
      },
      "text/plain": [
       "HBox(children=(FloatProgress(value=0.0, description='Training', layout=Layout(flex='2'), max=1250.0, style=Pro…"
      ]
     },
     "metadata": {},
     "output_type": "display_data"
    },
    {
     "name": "stdout",
     "output_type": "stream",
     "text": [
      "Epoch 326: train=10.0756, val=10.1816, took 13.115 s\n",
      "  Validation Found 48816 of 54504, added 992 (eff 89.56%) (0.0993 FP/event)\n"
     ]
    },
    {
     "data": {
      "application/vnd.jupyter.widget-view+json": {
       "model_id": "",
       "version_major": 2,
       "version_minor": 0
      },
      "text/plain": [
       "HBox(children=(FloatProgress(value=0.0, description='Training', layout=Layout(flex='2'), max=1250.0, style=Pro…"
      ]
     },
     "metadata": {},
     "output_type": "display_data"
    },
    {
     "name": "stdout",
     "output_type": "stream",
     "text": [
      "Epoch 327: train=10.0729, val=10.1815, took 13.159 s\n",
      "  Validation Found 48850 of 54504, added 1005 (eff 89.63%) (0.101 FP/event)\n"
     ]
    },
    {
     "data": {
      "application/vnd.jupyter.widget-view+json": {
       "model_id": "",
       "version_major": 2,
       "version_minor": 0
      },
      "text/plain": [
       "HBox(children=(FloatProgress(value=0.0, description='Training', layout=Layout(flex='2'), max=1250.0, style=Pro…"
      ]
     },
     "metadata": {},
     "output_type": "display_data"
    },
    {
     "name": "stdout",
     "output_type": "stream",
     "text": [
      "Epoch 328: train=10.0736, val=10.1805, took 13.438 s\n",
      "  Validation Found 48842 of 54504, added 1005 (eff 89.61%) (0.101 FP/event)\n"
     ]
    },
    {
     "data": {
      "application/vnd.jupyter.widget-view+json": {
       "model_id": "",
       "version_major": 2,
       "version_minor": 0
      },
      "text/plain": [
       "HBox(children=(FloatProgress(value=0.0, description='Training', layout=Layout(flex='2'), max=1250.0, style=Pro…"
      ]
     },
     "metadata": {},
     "output_type": "display_data"
    },
    {
     "name": "stdout",
     "output_type": "stream",
     "text": [
      "Epoch 329: train=10.072, val=10.186, took 14.542 s\n",
      "  Validation Found 48818 of 54504, added 995 (eff 89.57%) (0.0996 FP/event)\n"
     ]
    },
    {
     "data": {
      "application/vnd.jupyter.widget-view+json": {
       "model_id": "",
       "version_major": 2,
       "version_minor": 0
      },
      "text/plain": [
       "HBox(children=(FloatProgress(value=0.0, description='Training', layout=Layout(flex='2'), max=1250.0, style=Pro…"
      ]
     },
     "metadata": {},
     "output_type": "display_data"
    },
    {
     "name": "stdout",
     "output_type": "stream",
     "text": [
      "Epoch 330: train=10.0712, val=10.1855, took 13.932 s\n",
      "  Validation Found 48817 of 54504, added 993 (eff 89.57%) (0.0994 FP/event)\n"
     ]
    },
    {
     "data": {
      "application/vnd.jupyter.widget-view+json": {
       "model_id": "",
       "version_major": 2,
       "version_minor": 0
      },
      "text/plain": [
       "HBox(children=(FloatProgress(value=0.0, description='Training', layout=Layout(flex='2'), max=1250.0, style=Pro…"
      ]
     },
     "metadata": {},
     "output_type": "display_data"
    },
    {
     "name": "stdout",
     "output_type": "stream",
     "text": [
      "Epoch 331: train=10.0684, val=10.1843, took 13.543 s\n",
      "  Validation Found 48827 of 54504, added 1000 (eff 89.58%) (0.1 FP/event)\n"
     ]
    },
    {
     "data": {
      "application/vnd.jupyter.widget-view+json": {
       "model_id": "",
       "version_major": 2,
       "version_minor": 0
      },
      "text/plain": [
       "HBox(children=(FloatProgress(value=0.0, description='Training', layout=Layout(flex='2'), max=1250.0, style=Pro…"
      ]
     },
     "metadata": {},
     "output_type": "display_data"
    },
    {
     "name": "stdout",
     "output_type": "stream",
     "text": [
      "Epoch 332: train=10.0737, val=10.1802, took 14.13 s\n",
      "  Validation Found 48821 of 54504, added 997 (eff 89.57%) (0.0998 FP/event)\n"
     ]
    },
    {
     "data": {
      "application/vnd.jupyter.widget-view+json": {
       "model_id": "",
       "version_major": 2,
       "version_minor": 0
      },
      "text/plain": [
       "HBox(children=(FloatProgress(value=0.0, description='Training', layout=Layout(flex='2'), max=1250.0, style=Pro…"
      ]
     },
     "metadata": {},
     "output_type": "display_data"
    },
    {
     "name": "stdout",
     "output_type": "stream",
     "text": [
      "Epoch 333: train=10.0723, val=10.1874, took 13.639 s\n",
      "  Validation Found 48811 of 54504, added 995 (eff 89.55%) (0.0996 FP/event)\n"
     ]
    },
    {
     "data": {
      "application/vnd.jupyter.widget-view+json": {
       "model_id": "",
       "version_major": 2,
       "version_minor": 0
      },
      "text/plain": [
       "HBox(children=(FloatProgress(value=0.0, description='Training', layout=Layout(flex='2'), max=1250.0, style=Pro…"
      ]
     },
     "metadata": {},
     "output_type": "display_data"
    },
    {
     "name": "stdout",
     "output_type": "stream",
     "text": [
      "Epoch 334: train=10.0711, val=10.1926, took 13.348 s\n",
      "  Validation Found 48825 of 54504, added 999 (eff 89.58%) (0.1 FP/event)\n"
     ]
    },
    {
     "data": {
      "application/vnd.jupyter.widget-view+json": {
       "model_id": "",
       "version_major": 2,
       "version_minor": 0
      },
      "text/plain": [
       "HBox(children=(FloatProgress(value=0.0, description='Training', layout=Layout(flex='2'), max=1250.0, style=Pro…"
      ]
     },
     "metadata": {},
     "output_type": "display_data"
    },
    {
     "name": "stdout",
     "output_type": "stream",
     "text": [
      "Epoch 335: train=10.0731, val=10.1863, took 14.007 s\n",
      "  Validation Found 48813 of 54504, added 997 (eff 89.56%) (0.0998 FP/event)\n"
     ]
    },
    {
     "data": {
      "application/vnd.jupyter.widget-view+json": {
       "model_id": "",
       "version_major": 2,
       "version_minor": 0
      },
      "text/plain": [
       "HBox(children=(FloatProgress(value=0.0, description='Training', layout=Layout(flex='2'), max=1250.0, style=Pro…"
      ]
     },
     "metadata": {},
     "output_type": "display_data"
    },
    {
     "name": "stdout",
     "output_type": "stream",
     "text": [
      "Epoch 336: train=10.072, val=10.1907, took 13.437 s\n",
      "  Validation Found 48851 of 54504, added 1006 (eff 89.63%) (0.101 FP/event)\n"
     ]
    },
    {
     "data": {
      "application/vnd.jupyter.widget-view+json": {
       "model_id": "",
       "version_major": 2,
       "version_minor": 0
      },
      "text/plain": [
       "HBox(children=(FloatProgress(value=0.0, description='Training', layout=Layout(flex='2'), max=1250.0, style=Pro…"
      ]
     },
     "metadata": {},
     "output_type": "display_data"
    },
    {
     "name": "stdout",
     "output_type": "stream",
     "text": [
      "Epoch 337: train=10.07, val=10.1851, took 13.353 s\n",
      "  Validation Found 48829 of 54504, added 1002 (eff 89.59%) (0.1 FP/event)\n"
     ]
    },
    {
     "data": {
      "application/vnd.jupyter.widget-view+json": {
       "model_id": "",
       "version_major": 2,
       "version_minor": 0
      },
      "text/plain": [
       "HBox(children=(FloatProgress(value=0.0, description='Training', layout=Layout(flex='2'), max=1250.0, style=Pro…"
      ]
     },
     "metadata": {},
     "output_type": "display_data"
    },
    {
     "name": "stdout",
     "output_type": "stream",
     "text": [
      "Epoch 338: train=10.0727, val=10.1843, took 13.437 s\n",
      "  Validation Found 48822 of 54504, added 1001 (eff 89.58%) (0.1 FP/event)\n"
     ]
    },
    {
     "data": {
      "application/vnd.jupyter.widget-view+json": {
       "model_id": "",
       "version_major": 2,
       "version_minor": 0
      },
      "text/plain": [
       "HBox(children=(FloatProgress(value=0.0, description='Training', layout=Layout(flex='2'), max=1250.0, style=Pro…"
      ]
     },
     "metadata": {},
     "output_type": "display_data"
    },
    {
     "name": "stdout",
     "output_type": "stream",
     "text": [
      "Epoch 339: train=10.0728, val=10.1912, took 13.382 s\n",
      "  Validation Found 48815 of 54504, added 989 (eff 89.56%) (0.099 FP/event)\n"
     ]
    },
    {
     "data": {
      "application/vnd.jupyter.widget-view+json": {
       "model_id": "",
       "version_major": 2,
       "version_minor": 0
      },
      "text/plain": [
       "HBox(children=(FloatProgress(value=0.0, description='Training', layout=Layout(flex='2'), max=1250.0, style=Pro…"
      ]
     },
     "metadata": {},
     "output_type": "display_data"
    },
    {
     "name": "stdout",
     "output_type": "stream",
     "text": [
      "Epoch 340: train=10.0727, val=10.191, took 13.685 s\n",
      "  Validation Found 48837 of 54504, added 1004 (eff 89.60%) (0.101 FP/event)\n"
     ]
    },
    {
     "data": {
      "application/vnd.jupyter.widget-view+json": {
       "model_id": "",
       "version_major": 2,
       "version_minor": 0
      },
      "text/plain": [
       "HBox(children=(FloatProgress(value=0.0, description='Training', layout=Layout(flex='2'), max=1250.0, style=Pro…"
      ]
     },
     "metadata": {},
     "output_type": "display_data"
    },
    {
     "name": "stdout",
     "output_type": "stream",
     "text": [
      "Epoch 341: train=10.0682, val=10.188, took 13.377 s\n",
      "  Validation Found 48845 of 54504, added 999 (eff 89.62%) (0.1 FP/event)\n"
     ]
    },
    {
     "data": {
      "application/vnd.jupyter.widget-view+json": {
       "model_id": "",
       "version_major": 2,
       "version_minor": 0
      },
      "text/plain": [
       "HBox(children=(FloatProgress(value=0.0, description='Training', layout=Layout(flex='2'), max=1250.0, style=Pro…"
      ]
     },
     "metadata": {},
     "output_type": "display_data"
    },
    {
     "name": "stdout",
     "output_type": "stream",
     "text": [
      "Epoch 342: train=10.0744, val=10.1883, took 13.551 s\n",
      "  Validation Found 48818 of 54504, added 996 (eff 89.57%) (0.0997 FP/event)\n"
     ]
    },
    {
     "data": {
      "application/vnd.jupyter.widget-view+json": {
       "model_id": "",
       "version_major": 2,
       "version_minor": 0
      },
      "text/plain": [
       "HBox(children=(FloatProgress(value=0.0, description='Training', layout=Layout(flex='2'), max=1250.0, style=Pro…"
      ]
     },
     "metadata": {},
     "output_type": "display_data"
    },
    {
     "name": "stdout",
     "output_type": "stream",
     "text": [
      "Epoch 343: train=10.0668, val=10.1888, took 13.696 s\n",
      "  Validation Found 48813 of 54504, added 998 (eff 89.56%) (0.0999 FP/event)\n"
     ]
    },
    {
     "data": {
      "application/vnd.jupyter.widget-view+json": {
       "model_id": "",
       "version_major": 2,
       "version_minor": 0
      },
      "text/plain": [
       "HBox(children=(FloatProgress(value=0.0, description='Training', layout=Layout(flex='2'), max=1250.0, style=Pro…"
      ]
     },
     "metadata": {},
     "output_type": "display_data"
    },
    {
     "name": "stdout",
     "output_type": "stream",
     "text": [
      "Epoch 344: train=10.0699, val=10.197, took 13.356 s\n",
      "  Validation Found 48837 of 54504, added 1001 (eff 89.60%) (0.1 FP/event)\n"
     ]
    },
    {
     "data": {
      "application/vnd.jupyter.widget-view+json": {
       "model_id": "",
       "version_major": 2,
       "version_minor": 0
      },
      "text/plain": [
       "HBox(children=(FloatProgress(value=0.0, description='Training', layout=Layout(flex='2'), max=1250.0, style=Pro…"
      ]
     },
     "metadata": {},
     "output_type": "display_data"
    },
    {
     "name": "stdout",
     "output_type": "stream",
     "text": [
      "Epoch 345: train=10.0739, val=10.1891, took 13.822 s\n",
      "  Validation Found 48830 of 54504, added 1005 (eff 89.59%) (0.101 FP/event)\n"
     ]
    },
    {
     "data": {
      "application/vnd.jupyter.widget-view+json": {
       "model_id": "",
       "version_major": 2,
       "version_minor": 0
      },
      "text/plain": [
       "HBox(children=(FloatProgress(value=0.0, description='Training', layout=Layout(flex='2'), max=1250.0, style=Pro…"
      ]
     },
     "metadata": {},
     "output_type": "display_data"
    },
    {
     "name": "stdout",
     "output_type": "stream",
     "text": [
      "Epoch 346: train=10.0746, val=10.1847, took 13.912 s\n",
      "  Validation Found 48804 of 54504, added 989 (eff 89.54%) (0.099 FP/event)\n"
     ]
    },
    {
     "data": {
      "application/vnd.jupyter.widget-view+json": {
       "model_id": "",
       "version_major": 2,
       "version_minor": 0
      },
      "text/plain": [
       "HBox(children=(FloatProgress(value=0.0, description='Training', layout=Layout(flex='2'), max=1250.0, style=Pro…"
      ]
     },
     "metadata": {},
     "output_type": "display_data"
    },
    {
     "name": "stdout",
     "output_type": "stream",
     "text": [
      "Epoch 347: train=10.0717, val=10.1872, took 13.697 s\n",
      "  Validation Found 48813 of 54504, added 994 (eff 89.56%) (0.0995 FP/event)\n"
     ]
    },
    {
     "data": {
      "application/vnd.jupyter.widget-view+json": {
       "model_id": "",
       "version_major": 2,
       "version_minor": 0
      },
      "text/plain": [
       "HBox(children=(FloatProgress(value=0.0, description='Training', layout=Layout(flex='2'), max=1250.0, style=Pro…"
      ]
     },
     "metadata": {},
     "output_type": "display_data"
    },
    {
     "name": "stdout",
     "output_type": "stream",
     "text": [
      "Epoch 348: train=10.0699, val=10.1811, took 13.342 s\n",
      "  Validation Found 48803 of 54504, added 982 (eff 89.54%) (0.0983 FP/event)\n"
     ]
    },
    {
     "data": {
      "application/vnd.jupyter.widget-view+json": {
       "model_id": "",
       "version_major": 2,
       "version_minor": 0
      },
      "text/plain": [
       "HBox(children=(FloatProgress(value=0.0, description='Training', layout=Layout(flex='2'), max=1250.0, style=Pro…"
      ]
     },
     "metadata": {},
     "output_type": "display_data"
    },
    {
     "name": "stdout",
     "output_type": "stream",
     "text": [
      "Epoch 349: train=10.0698, val=10.1851, took 13.485 s\n",
      "  Validation Found 48817 of 54504, added 998 (eff 89.57%) (0.0999 FP/event)\n"
     ]
    },
    {
     "data": {
      "application/vnd.jupyter.widget-view+json": {
       "model_id": "",
       "version_major": 2,
       "version_minor": 0
      },
      "text/plain": [
       "HBox(children=(FloatProgress(value=0.0, description='Training', layout=Layout(flex='2'), max=1250.0, style=Pro…"
      ]
     },
     "metadata": {},
     "output_type": "display_data"
    },
    {
     "name": "stdout",
     "output_type": "stream",
     "text": [
      "Epoch 350: train=10.0712, val=10.1797, took 13.853 s\n",
      "  Validation Found 48837 of 54504, added 1001 (eff 89.60%) (0.1 FP/event)\n"
     ]
    },
    {
     "data": {
      "application/vnd.jupyter.widget-view+json": {
       "model_id": "",
       "version_major": 2,
       "version_minor": 0
      },
      "text/plain": [
       "HBox(children=(FloatProgress(value=0.0, description='Training', layout=Layout(flex='2'), max=1250.0, style=Pro…"
      ]
     },
     "metadata": {},
     "output_type": "display_data"
    },
    {
     "name": "stdout",
     "output_type": "stream",
     "text": [
      "Epoch 351: train=10.0727, val=10.1917, took 13.856 s\n",
      "  Validation Found 48825 of 54504, added 1000 (eff 89.58%) (0.1 FP/event)\n"
     ]
    },
    {
     "data": {
      "application/vnd.jupyter.widget-view+json": {
       "model_id": "",
       "version_major": 2,
       "version_minor": 0
      },
      "text/plain": [
       "HBox(children=(FloatProgress(value=0.0, description='Training', layout=Layout(flex='2'), max=1250.0, style=Pro…"
      ]
     },
     "metadata": {},
     "output_type": "display_data"
    },
    {
     "name": "stdout",
     "output_type": "stream",
     "text": [
      "Epoch 352: train=10.0725, val=10.1948, took 13.208 s\n",
      "  Validation Found 48810 of 54504, added 992 (eff 89.55%) (0.0993 FP/event)\n"
     ]
    },
    {
     "data": {
      "application/vnd.jupyter.widget-view+json": {
       "model_id": "",
       "version_major": 2,
       "version_minor": 0
      },
      "text/plain": [
       "HBox(children=(FloatProgress(value=0.0, description='Training', layout=Layout(flex='2'), max=1250.0, style=Pro…"
      ]
     },
     "metadata": {},
     "output_type": "display_data"
    },
    {
     "name": "stdout",
     "output_type": "stream",
     "text": [
      "Epoch 353: train=10.0683, val=10.1885, took 13.582 s\n",
      "  Validation Found 48800 of 54504, added 986 (eff 89.53%) (0.0987 FP/event)\n"
     ]
    },
    {
     "data": {
      "application/vnd.jupyter.widget-view+json": {
       "model_id": "",
       "version_major": 2,
       "version_minor": 0
      },
      "text/plain": [
       "HBox(children=(FloatProgress(value=0.0, description='Training', layout=Layout(flex='2'), max=1250.0, style=Pro…"
      ]
     },
     "metadata": {},
     "output_type": "display_data"
    },
    {
     "name": "stdout",
     "output_type": "stream",
     "text": [
      "Epoch 354: train=10.0734, val=10.1826, took 13.96 s\n",
      "  Validation Found 48813 of 54504, added 993 (eff 89.56%) (0.0994 FP/event)\n"
     ]
    },
    {
     "data": {
      "application/vnd.jupyter.widget-view+json": {
       "model_id": "",
       "version_major": 2,
       "version_minor": 0
      },
      "text/plain": [
       "HBox(children=(FloatProgress(value=0.0, description='Training', layout=Layout(flex='2'), max=1250.0, style=Pro…"
      ]
     },
     "metadata": {},
     "output_type": "display_data"
    },
    {
     "name": "stdout",
     "output_type": "stream",
     "text": [
      "Epoch 355: train=10.0777, val=10.1847, took 13.044 s\n",
      "  Validation Found 48821 of 54504, added 998 (eff 89.57%) (0.0999 FP/event)\n"
     ]
    },
    {
     "data": {
      "application/vnd.jupyter.widget-view+json": {
       "model_id": "",
       "version_major": 2,
       "version_minor": 0
      },
      "text/plain": [
       "HBox(children=(FloatProgress(value=0.0, description='Training', layout=Layout(flex='2'), max=1250.0, style=Pro…"
      ]
     },
     "metadata": {},
     "output_type": "display_data"
    },
    {
     "name": "stdout",
     "output_type": "stream",
     "text": [
      "Epoch 356: train=10.0711, val=10.1851, took 14.08 s\n",
      "  Validation Found 48829 of 54504, added 997 (eff 89.59%) (0.0998 FP/event)\n"
     ]
    },
    {
     "data": {
      "application/vnd.jupyter.widget-view+json": {
       "model_id": "",
       "version_major": 2,
       "version_minor": 0
      },
      "text/plain": [
       "HBox(children=(FloatProgress(value=0.0, description='Training', layout=Layout(flex='2'), max=1250.0, style=Pro…"
      ]
     },
     "metadata": {},
     "output_type": "display_data"
    },
    {
     "name": "stdout",
     "output_type": "stream",
     "text": [
      "Epoch 357: train=10.0773, val=10.1875, took 13.631 s\n",
      "  Validation Found 48832 of 54504, added 1005 (eff 89.59%) (0.101 FP/event)\n"
     ]
    },
    {
     "data": {
      "application/vnd.jupyter.widget-view+json": {
       "model_id": "",
       "version_major": 2,
       "version_minor": 0
      },
      "text/plain": [
       "HBox(children=(FloatProgress(value=0.0, description='Training', layout=Layout(flex='2'), max=1250.0, style=Pro…"
      ]
     },
     "metadata": {},
     "output_type": "display_data"
    },
    {
     "name": "stdout",
     "output_type": "stream",
     "text": [
      "Epoch 358: train=10.0691, val=10.1845, took 13.85 s\n",
      "  Validation Found 48798 of 54504, added 985 (eff 89.53%) (0.0986 FP/event)\n"
     ]
    },
    {
     "data": {
      "application/vnd.jupyter.widget-view+json": {
       "model_id": "",
       "version_major": 2,
       "version_minor": 0
      },
      "text/plain": [
       "HBox(children=(FloatProgress(value=0.0, description='Training', layout=Layout(flex='2'), max=1250.0, style=Pro…"
      ]
     },
     "metadata": {},
     "output_type": "display_data"
    },
    {
     "name": "stdout",
     "output_type": "stream",
     "text": [
      "Epoch 359: train=10.0736, val=10.1833, took 13.547 s\n",
      "  Validation Found 48804 of 54504, added 986 (eff 89.54%) (0.0987 FP/event)\n"
     ]
    },
    {
     "data": {
      "application/vnd.jupyter.widget-view+json": {
       "model_id": "",
       "version_major": 2,
       "version_minor": 0
      },
      "text/plain": [
       "HBox(children=(FloatProgress(value=0.0, description='Training', layout=Layout(flex='2'), max=1250.0, style=Pro…"
      ]
     },
     "metadata": {},
     "output_type": "display_data"
    },
    {
     "name": "stdout",
     "output_type": "stream",
     "text": [
      "Epoch 360: train=10.0724, val=10.1848, took 14.052 s\n",
      "  Validation Found 48816 of 54504, added 997 (eff 89.56%) (0.0998 FP/event)\n"
     ]
    },
    {
     "data": {
      "application/vnd.jupyter.widget-view+json": {
       "model_id": "",
       "version_major": 2,
       "version_minor": 0
      },
      "text/plain": [
       "HBox(children=(FloatProgress(value=0.0, description='Training', layout=Layout(flex='2'), max=1250.0, style=Pro…"
      ]
     },
     "metadata": {},
     "output_type": "display_data"
    },
    {
     "name": "stdout",
     "output_type": "stream",
     "text": [
      "Epoch 361: train=10.0735, val=10.1899, took 13.831 s\n",
      "  Validation Found 48810 of 54504, added 989 (eff 89.55%) (0.099 FP/event)\n"
     ]
    },
    {
     "data": {
      "application/vnd.jupyter.widget-view+json": {
       "model_id": "",
       "version_major": 2,
       "version_minor": 0
      },
      "text/plain": [
       "HBox(children=(FloatProgress(value=0.0, description='Training', layout=Layout(flex='2'), max=1250.0, style=Pro…"
      ]
     },
     "metadata": {},
     "output_type": "display_data"
    },
    {
     "name": "stdout",
     "output_type": "stream",
     "text": [
      "Epoch 362: train=10.0751, val=10.1903, took 13.433 s\n",
      "  Validation Found 48836 of 54504, added 998 (eff 89.60%) (0.0999 FP/event)\n"
     ]
    },
    {
     "data": {
      "application/vnd.jupyter.widget-view+json": {
       "model_id": "",
       "version_major": 2,
       "version_minor": 0
      },
      "text/plain": [
       "HBox(children=(FloatProgress(value=0.0, description='Training', layout=Layout(flex='2'), max=1250.0, style=Pro…"
      ]
     },
     "metadata": {},
     "output_type": "display_data"
    },
    {
     "name": "stdout",
     "output_type": "stream",
     "text": [
      "Epoch 363: train=10.0747, val=10.1857, took 13.81 s\n",
      "  Validation Found 48820 of 54504, added 996 (eff 89.57%) (0.0997 FP/event)\n"
     ]
    },
    {
     "data": {
      "application/vnd.jupyter.widget-view+json": {
       "model_id": "",
       "version_major": 2,
       "version_minor": 0
      },
      "text/plain": [
       "HBox(children=(FloatProgress(value=0.0, description='Training', layout=Layout(flex='2'), max=1250.0, style=Pro…"
      ]
     },
     "metadata": {},
     "output_type": "display_data"
    },
    {
     "name": "stdout",
     "output_type": "stream",
     "text": [
      "Epoch 364: train=10.0696, val=10.1802, took 14.019 s\n",
      "  Validation Found 48815 of 54504, added 994 (eff 89.56%) (0.0995 FP/event)\n"
     ]
    },
    {
     "data": {
      "application/vnd.jupyter.widget-view+json": {
       "model_id": "",
       "version_major": 2,
       "version_minor": 0
      },
      "text/plain": [
       "HBox(children=(FloatProgress(value=0.0, description='Training', layout=Layout(flex='2'), max=1250.0, style=Pro…"
      ]
     },
     "metadata": {},
     "output_type": "display_data"
    },
    {
     "name": "stdout",
     "output_type": "stream",
     "text": [
      "Epoch 365: train=10.0706, val=10.1926, took 13.584 s\n",
      "  Validation Found 48827 of 54504, added 1001 (eff 89.58%) (0.1 FP/event)\n"
     ]
    },
    {
     "data": {
      "application/vnd.jupyter.widget-view+json": {
       "model_id": "",
       "version_major": 2,
       "version_minor": 0
      },
      "text/plain": [
       "HBox(children=(FloatProgress(value=0.0, description='Training', layout=Layout(flex='2'), max=1250.0, style=Pro…"
      ]
     },
     "metadata": {},
     "output_type": "display_data"
    },
    {
     "name": "stdout",
     "output_type": "stream",
     "text": [
      "Epoch 366: train=10.071, val=10.1916, took 13.112 s\n",
      "  Validation Found 48842 of 54504, added 1008 (eff 89.61%) (0.101 FP/event)\n"
     ]
    },
    {
     "data": {
      "application/vnd.jupyter.widget-view+json": {
       "model_id": "",
       "version_major": 2,
       "version_minor": 0
      },
      "text/plain": [
       "HBox(children=(FloatProgress(value=0.0, description='Training', layout=Layout(flex='2'), max=1250.0, style=Pro…"
      ]
     },
     "metadata": {},
     "output_type": "display_data"
    },
    {
     "name": "stdout",
     "output_type": "stream",
     "text": [
      "Epoch 367: train=10.0723, val=10.1841, took 13.295 s\n",
      "  Validation Found 48825 of 54504, added 996 (eff 89.58%) (0.0997 FP/event)\n"
     ]
    },
    {
     "data": {
      "application/vnd.jupyter.widget-view+json": {
       "model_id": "",
       "version_major": 2,
       "version_minor": 0
      },
      "text/plain": [
       "HBox(children=(FloatProgress(value=0.0, description='Training', layout=Layout(flex='2'), max=1250.0, style=Pro…"
      ]
     },
     "metadata": {},
     "output_type": "display_data"
    },
    {
     "name": "stdout",
     "output_type": "stream",
     "text": [
      "Epoch 368: train=10.0721, val=10.1847, took 13.419 s\n",
      "  Validation Found 48839 of 54504, added 1002 (eff 89.61%) (0.1 FP/event)\n"
     ]
    },
    {
     "data": {
      "application/vnd.jupyter.widget-view+json": {
       "model_id": "",
       "version_major": 2,
       "version_minor": 0
      },
      "text/plain": [
       "HBox(children=(FloatProgress(value=0.0, description='Training', layout=Layout(flex='2'), max=1250.0, style=Pro…"
      ]
     },
     "metadata": {},
     "output_type": "display_data"
    },
    {
     "name": "stdout",
     "output_type": "stream",
     "text": [
      "Epoch 369: train=10.0735, val=10.19, took 13.401 s\n",
      "  Validation Found 48800 of 54504, added 983 (eff 89.53%) (0.0984 FP/event)\n"
     ]
    },
    {
     "data": {
      "application/vnd.jupyter.widget-view+json": {
       "model_id": "",
       "version_major": 2,
       "version_minor": 0
      },
      "text/plain": [
       "HBox(children=(FloatProgress(value=0.0, description='Training', layout=Layout(flex='2'), max=1250.0, style=Pro…"
      ]
     },
     "metadata": {},
     "output_type": "display_data"
    },
    {
     "name": "stdout",
     "output_type": "stream",
     "text": [
      "Epoch 370: train=10.0706, val=10.183, took 13.38 s\n",
      "  Validation Found 48843 of 54504, added 1005 (eff 89.61%) (0.101 FP/event)\n"
     ]
    },
    {
     "data": {
      "application/vnd.jupyter.widget-view+json": {
       "model_id": "",
       "version_major": 2,
       "version_minor": 0
      },
      "text/plain": [
       "HBox(children=(FloatProgress(value=0.0, description='Training', layout=Layout(flex='2'), max=1250.0, style=Pro…"
      ]
     },
     "metadata": {},
     "output_type": "display_data"
    },
    {
     "name": "stdout",
     "output_type": "stream",
     "text": [
      "Epoch 371: train=10.0703, val=10.1837, took 13.392 s\n",
      "  Validation Found 48841 of 54504, added 1006 (eff 89.61%) (0.101 FP/event)\n"
     ]
    },
    {
     "data": {
      "application/vnd.jupyter.widget-view+json": {
       "model_id": "",
       "version_major": 2,
       "version_minor": 0
      },
      "text/plain": [
       "HBox(children=(FloatProgress(value=0.0, description='Training', layout=Layout(flex='2'), max=1250.0, style=Pro…"
      ]
     },
     "metadata": {},
     "output_type": "display_data"
    },
    {
     "name": "stdout",
     "output_type": "stream",
     "text": [
      "Epoch 372: train=10.0768, val=10.1837, took 13.562 s\n",
      "  Validation Found 48811 of 54504, added 993 (eff 89.55%) (0.0994 FP/event)\n"
     ]
    },
    {
     "data": {
      "application/vnd.jupyter.widget-view+json": {
       "model_id": "",
       "version_major": 2,
       "version_minor": 0
      },
      "text/plain": [
       "HBox(children=(FloatProgress(value=0.0, description='Training', layout=Layout(flex='2'), max=1250.0, style=Pro…"
      ]
     },
     "metadata": {},
     "output_type": "display_data"
    },
    {
     "name": "stdout",
     "output_type": "stream",
     "text": [
      "Epoch 373: train=10.0665, val=10.1932, took 13.773 s\n",
      "  Validation Found 48788 of 54504, added 982 (eff 89.51%) (0.0983 FP/event)\n"
     ]
    },
    {
     "data": {
      "application/vnd.jupyter.widget-view+json": {
       "model_id": "",
       "version_major": 2,
       "version_minor": 0
      },
      "text/plain": [
       "HBox(children=(FloatProgress(value=0.0, description='Training', layout=Layout(flex='2'), max=1250.0, style=Pro…"
      ]
     },
     "metadata": {},
     "output_type": "display_data"
    },
    {
     "name": "stdout",
     "output_type": "stream",
     "text": [
      "Epoch 374: train=10.0717, val=10.1858, took 13.294 s\n",
      "  Validation Found 48816 of 54504, added 990 (eff 89.56%) (0.0991 FP/event)\n"
     ]
    },
    {
     "data": {
      "application/vnd.jupyter.widget-view+json": {
       "model_id": "",
       "version_major": 2,
       "version_minor": 0
      },
      "text/plain": [
       "HBox(children=(FloatProgress(value=0.0, description='Training', layout=Layout(flex='2'), max=1250.0, style=Pro…"
      ]
     },
     "metadata": {},
     "output_type": "display_data"
    },
    {
     "name": "stdout",
     "output_type": "stream",
     "text": [
      "Epoch 375: train=10.0706, val=10.1803, took 13.358 s\n",
      "  Validation Found 48810 of 54504, added 994 (eff 89.55%) (0.0995 FP/event)\n"
     ]
    },
    {
     "data": {
      "application/vnd.jupyter.widget-view+json": {
       "model_id": "",
       "version_major": 2,
       "version_minor": 0
      },
      "text/plain": [
       "HBox(children=(FloatProgress(value=0.0, description='Training', layout=Layout(flex='2'), max=1250.0, style=Pro…"
      ]
     },
     "metadata": {},
     "output_type": "display_data"
    },
    {
     "name": "stdout",
     "output_type": "stream",
     "text": [
      "Epoch 376: train=10.0742, val=10.1893, took 13.673 s\n",
      "  Validation Found 48838 of 54504, added 1001 (eff 89.60%) (0.1 FP/event)\n"
     ]
    },
    {
     "data": {
      "application/vnd.jupyter.widget-view+json": {
       "model_id": "",
       "version_major": 2,
       "version_minor": 0
      },
      "text/plain": [
       "HBox(children=(FloatProgress(value=0.0, description='Training', layout=Layout(flex='2'), max=1250.0, style=Pro…"
      ]
     },
     "metadata": {},
     "output_type": "display_data"
    },
    {
     "name": "stdout",
     "output_type": "stream",
     "text": [
      "Epoch 377: train=10.0748, val=10.1825, took 14.262 s\n",
      "  Validation Found 48850 of 54504, added 1008 (eff 89.63%) (0.101 FP/event)\n"
     ]
    },
    {
     "data": {
      "application/vnd.jupyter.widget-view+json": {
       "model_id": "",
       "version_major": 2,
       "version_minor": 0
      },
      "text/plain": [
       "HBox(children=(FloatProgress(value=0.0, description='Training', layout=Layout(flex='2'), max=1250.0, style=Pro…"
      ]
     },
     "metadata": {},
     "output_type": "display_data"
    },
    {
     "name": "stdout",
     "output_type": "stream",
     "text": [
      "Epoch 378: train=10.0703, val=10.1793, took 13.754 s\n",
      "  Validation Found 48814 of 54504, added 993 (eff 89.56%) (0.0994 FP/event)\n"
     ]
    },
    {
     "data": {
      "application/vnd.jupyter.widget-view+json": {
       "model_id": "",
       "version_major": 2,
       "version_minor": 0
      },
      "text/plain": [
       "HBox(children=(FloatProgress(value=0.0, description='Training', layout=Layout(flex='2'), max=1250.0, style=Pro…"
      ]
     },
     "metadata": {},
     "output_type": "display_data"
    },
    {
     "name": "stdout",
     "output_type": "stream",
     "text": [
      "Epoch 379: train=10.072, val=10.178, took 13.183 s\n",
      "  Validation Found 48805 of 54504, added 985 (eff 89.54%) (0.0986 FP/event)\n"
     ]
    },
    {
     "data": {
      "application/vnd.jupyter.widget-view+json": {
       "model_id": "",
       "version_major": 2,
       "version_minor": 0
      },
      "text/plain": [
       "HBox(children=(FloatProgress(value=0.0, description='Training', layout=Layout(flex='2'), max=1250.0, style=Pro…"
      ]
     },
     "metadata": {},
     "output_type": "display_data"
    },
    {
     "name": "stdout",
     "output_type": "stream",
     "text": [
      "Epoch 380: train=10.0702, val=10.1886, took 13.863 s\n",
      "  Validation Found 48814 of 54504, added 990 (eff 89.56%) (0.0991 FP/event)\n"
     ]
    },
    {
     "data": {
      "application/vnd.jupyter.widget-view+json": {
       "model_id": "",
       "version_major": 2,
       "version_minor": 0
      },
      "text/plain": [
       "HBox(children=(FloatProgress(value=0.0, description='Training', layout=Layout(flex='2'), max=1250.0, style=Pro…"
      ]
     },
     "metadata": {},
     "output_type": "display_data"
    },
    {
     "name": "stdout",
     "output_type": "stream",
     "text": [
      "Epoch 381: train=10.0656, val=10.1851, took 13.267 s\n",
      "  Validation Found 48801 of 54504, added 986 (eff 89.54%) (0.0987 FP/event)\n"
     ]
    },
    {
     "data": {
      "application/vnd.jupyter.widget-view+json": {
       "model_id": "",
       "version_major": 2,
       "version_minor": 0
      },
      "text/plain": [
       "HBox(children=(FloatProgress(value=0.0, description='Training', layout=Layout(flex='2'), max=1250.0, style=Pro…"
      ]
     },
     "metadata": {},
     "output_type": "display_data"
    },
    {
     "name": "stdout",
     "output_type": "stream",
     "text": [
      "Epoch 382: train=10.0737, val=10.1907, took 13.345 s\n",
      "  Validation Found 48866 of 54504, added 1016 (eff 89.66%) (0.102 FP/event)\n"
     ]
    },
    {
     "data": {
      "application/vnd.jupyter.widget-view+json": {
       "model_id": "",
       "version_major": 2,
       "version_minor": 0
      },
      "text/plain": [
       "HBox(children=(FloatProgress(value=0.0, description='Training', layout=Layout(flex='2'), max=1250.0, style=Pro…"
      ]
     },
     "metadata": {},
     "output_type": "display_data"
    },
    {
     "name": "stdout",
     "output_type": "stream",
     "text": [
      "Epoch 383: train=10.074, val=10.1855, took 13.806 s\n",
      "  Validation Found 48799 of 54504, added 989 (eff 89.53%) (0.099 FP/event)\n"
     ]
    },
    {
     "data": {
      "application/vnd.jupyter.widget-view+json": {
       "model_id": "",
       "version_major": 2,
       "version_minor": 0
      },
      "text/plain": [
       "HBox(children=(FloatProgress(value=0.0, description='Training', layout=Layout(flex='2'), max=1250.0, style=Pro…"
      ]
     },
     "metadata": {},
     "output_type": "display_data"
    },
    {
     "name": "stdout",
     "output_type": "stream",
     "text": [
      "Epoch 384: train=10.0694, val=10.186, took 13.365 s\n",
      "  Validation Found 48827 of 54504, added 997 (eff 89.58%) (0.0998 FP/event)\n"
     ]
    },
    {
     "data": {
      "application/vnd.jupyter.widget-view+json": {
       "model_id": "",
       "version_major": 2,
       "version_minor": 0
      },
      "text/plain": [
       "HBox(children=(FloatProgress(value=0.0, description='Training', layout=Layout(flex='2'), max=1250.0, style=Pro…"
      ]
     },
     "metadata": {},
     "output_type": "display_data"
    },
    {
     "name": "stdout",
     "output_type": "stream",
     "text": [
      "Epoch 385: train=10.0748, val=10.1865, took 13.67 s\n",
      "  Validation Found 48817 of 54504, added 994 (eff 89.57%) (0.0995 FP/event)\n"
     ]
    },
    {
     "data": {
      "application/vnd.jupyter.widget-view+json": {
       "model_id": "",
       "version_major": 2,
       "version_minor": 0
      },
      "text/plain": [
       "HBox(children=(FloatProgress(value=0.0, description='Training', layout=Layout(flex='2'), max=1250.0, style=Pro…"
      ]
     },
     "metadata": {},
     "output_type": "display_data"
    },
    {
     "name": "stdout",
     "output_type": "stream",
     "text": [
      "Epoch 386: train=10.0738, val=10.1893, took 13.279 s\n",
      "  Validation Found 48799 of 54504, added 988 (eff 89.53%) (0.0989 FP/event)\n"
     ]
    },
    {
     "data": {
      "application/vnd.jupyter.widget-view+json": {
       "model_id": "",
       "version_major": 2,
       "version_minor": 0
      },
      "text/plain": [
       "HBox(children=(FloatProgress(value=0.0, description='Training', layout=Layout(flex='2'), max=1250.0, style=Pro…"
      ]
     },
     "metadata": {},
     "output_type": "display_data"
    },
    {
     "name": "stdout",
     "output_type": "stream",
     "text": [
      "Epoch 387: train=10.0759, val=10.19, took 13.333 s\n",
      "  Validation Found 48817 of 54504, added 995 (eff 89.57%) (0.0996 FP/event)\n"
     ]
    },
    {
     "data": {
      "application/vnd.jupyter.widget-view+json": {
       "model_id": "",
       "version_major": 2,
       "version_minor": 0
      },
      "text/plain": [
       "HBox(children=(FloatProgress(value=0.0, description='Training', layout=Layout(flex='2'), max=1250.0, style=Pro…"
      ]
     },
     "metadata": {},
     "output_type": "display_data"
    },
    {
     "name": "stdout",
     "output_type": "stream",
     "text": [
      "Epoch 388: train=10.0742, val=10.1825, took 13.811 s\n",
      "  Validation Found 48810 of 54504, added 989 (eff 89.55%) (0.099 FP/event)\n"
     ]
    },
    {
     "data": {
      "application/vnd.jupyter.widget-view+json": {
       "model_id": "",
       "version_major": 2,
       "version_minor": 0
      },
      "text/plain": [
       "HBox(children=(FloatProgress(value=0.0, description='Training', layout=Layout(flex='2'), max=1250.0, style=Pro…"
      ]
     },
     "metadata": {},
     "output_type": "display_data"
    },
    {
     "name": "stdout",
     "output_type": "stream",
     "text": [
      "Epoch 389: train=10.0752, val=10.1855, took 14.157 s\n",
      "  Validation Found 48801 of 54504, added 989 (eff 89.54%) (0.099 FP/event)\n"
     ]
    },
    {
     "data": {
      "application/vnd.jupyter.widget-view+json": {
       "model_id": "",
       "version_major": 2,
       "version_minor": 0
      },
      "text/plain": [
       "HBox(children=(FloatProgress(value=0.0, description='Training', layout=Layout(flex='2'), max=1250.0, style=Pro…"
      ]
     },
     "metadata": {},
     "output_type": "display_data"
    },
    {
     "name": "stdout",
     "output_type": "stream",
     "text": [
      "Epoch 390: train=10.0663, val=10.19, took 14.042 s\n",
      "  Validation Found 48819 of 54504, added 999 (eff 89.57%) (0.1 FP/event)\n"
     ]
    },
    {
     "data": {
      "application/vnd.jupyter.widget-view+json": {
       "model_id": "",
       "version_major": 2,
       "version_minor": 0
      },
      "text/plain": [
       "HBox(children=(FloatProgress(value=0.0, description='Training', layout=Layout(flex='2'), max=1250.0, style=Pro…"
      ]
     },
     "metadata": {},
     "output_type": "display_data"
    },
    {
     "name": "stdout",
     "output_type": "stream",
     "text": [
      "Epoch 391: train=10.077, val=10.1852, took 13.59 s\n",
      "  Validation Found 48813 of 54504, added 992 (eff 89.56%) (0.0993 FP/event)\n"
     ]
    },
    {
     "data": {
      "application/vnd.jupyter.widget-view+json": {
       "model_id": "",
       "version_major": 2,
       "version_minor": 0
      },
      "text/plain": [
       "HBox(children=(FloatProgress(value=0.0, description='Training', layout=Layout(flex='2'), max=1250.0, style=Pro…"
      ]
     },
     "metadata": {},
     "output_type": "display_data"
    },
    {
     "name": "stdout",
     "output_type": "stream",
     "text": [
      "Epoch 392: train=10.0675, val=10.1813, took 13.408 s\n",
      "  Validation Found 48797 of 54504, added 983 (eff 89.53%) (0.0984 FP/event)\n"
     ]
    },
    {
     "data": {
      "application/vnd.jupyter.widget-view+json": {
       "model_id": "",
       "version_major": 2,
       "version_minor": 0
      },
      "text/plain": [
       "HBox(children=(FloatProgress(value=0.0, description='Training', layout=Layout(flex='2'), max=1250.0, style=Pro…"
      ]
     },
     "metadata": {},
     "output_type": "display_data"
    },
    {
     "name": "stdout",
     "output_type": "stream",
     "text": [
      "Epoch 393: train=10.0752, val=10.1969, took 14.225 s\n",
      "  Validation Found 48817 of 54504, added 996 (eff 89.57%) (0.0997 FP/event)\n"
     ]
    },
    {
     "data": {
      "application/vnd.jupyter.widget-view+json": {
       "model_id": "",
       "version_major": 2,
       "version_minor": 0
      },
      "text/plain": [
       "HBox(children=(FloatProgress(value=0.0, description='Training', layout=Layout(flex='2'), max=1250.0, style=Pro…"
      ]
     },
     "metadata": {},
     "output_type": "display_data"
    },
    {
     "name": "stdout",
     "output_type": "stream",
     "text": [
      "Epoch 394: train=10.0692, val=10.1834, took 13.446 s\n",
      "  Validation Found 48819 of 54504, added 998 (eff 89.57%) (0.0999 FP/event)\n"
     ]
    },
    {
     "data": {
      "application/vnd.jupyter.widget-view+json": {
       "model_id": "",
       "version_major": 2,
       "version_minor": 0
      },
      "text/plain": [
       "HBox(children=(FloatProgress(value=0.0, description='Training', layout=Layout(flex='2'), max=1250.0, style=Pro…"
      ]
     },
     "metadata": {},
     "output_type": "display_data"
    },
    {
     "name": "stdout",
     "output_type": "stream",
     "text": [
      "Epoch 395: train=10.0733, val=10.1813, took 14.123 s\n",
      "  Validation Found 48819 of 54504, added 996 (eff 89.57%) (0.0997 FP/event)\n"
     ]
    },
    {
     "data": {
      "application/vnd.jupyter.widget-view+json": {
       "model_id": "",
       "version_major": 2,
       "version_minor": 0
      },
      "text/plain": [
       "HBox(children=(FloatProgress(value=0.0, description='Training', layout=Layout(flex='2'), max=1250.0, style=Pro…"
      ]
     },
     "metadata": {},
     "output_type": "display_data"
    },
    {
     "name": "stdout",
     "output_type": "stream",
     "text": [
      "Epoch 396: train=10.0757, val=10.1828, took 13.089 s\n",
      "  Validation Found 48819 of 54504, added 997 (eff 89.57%) (0.0998 FP/event)\n"
     ]
    },
    {
     "data": {
      "application/vnd.jupyter.widget-view+json": {
       "model_id": "",
       "version_major": 2,
       "version_minor": 0
      },
      "text/plain": [
       "HBox(children=(FloatProgress(value=0.0, description='Training', layout=Layout(flex='2'), max=1250.0, style=Pro…"
      ]
     },
     "metadata": {},
     "output_type": "display_data"
    },
    {
     "name": "stdout",
     "output_type": "stream",
     "text": [
      "Epoch 397: train=10.0728, val=10.1764, took 13.639 s\n",
      "  Validation Found 48827 of 54504, added 993 (eff 89.58%) (0.0994 FP/event)\n"
     ]
    },
    {
     "data": {
      "application/vnd.jupyter.widget-view+json": {
       "model_id": "",
       "version_major": 2,
       "version_minor": 0
      },
      "text/plain": [
       "HBox(children=(FloatProgress(value=0.0, description='Training', layout=Layout(flex='2'), max=1250.0, style=Pro…"
      ]
     },
     "metadata": {},
     "output_type": "display_data"
    },
    {
     "name": "stdout",
     "output_type": "stream",
     "text": [
      "Epoch 398: train=10.0694, val=10.1743, took 13.453 s\n",
      "  Validation Found 48814 of 54504, added 990 (eff 89.56%) (0.0991 FP/event)\n"
     ]
    },
    {
     "data": {
      "application/vnd.jupyter.widget-view+json": {
       "model_id": "",
       "version_major": 2,
       "version_minor": 0
      },
      "text/plain": [
       "HBox(children=(FloatProgress(value=0.0, description='Training', layout=Layout(flex='2'), max=1250.0, style=Pro…"
      ]
     },
     "metadata": {},
     "output_type": "display_data"
    },
    {
     "name": "stdout",
     "output_type": "stream",
     "text": [
      "Epoch 399: train=10.0755, val=10.1864, took 13.941 s\n",
      "  Validation Found 48812 of 54504, added 994 (eff 89.56%) (0.0995 FP/event)\n"
     ]
    },
    {
     "data": {
      "application/vnd.jupyter.widget-view+json": {
       "model_id": "",
       "version_major": 2,
       "version_minor": 0
      },
      "text/plain": [
       "HBox(children=(FloatProgress(value=0.0, description='Training', layout=Layout(flex='2'), max=1250.0, style=Pro…"
      ]
     },
     "metadata": {},
     "output_type": "display_data"
    },
    {
     "name": "stdout",
     "output_type": "stream",
     "text": [
      "Epoch 400: train=10.0719, val=10.1796, took 13.515 s\n",
      "  Validation Found 48825 of 54504, added 1003 (eff 89.58%) (0.1 FP/event)\n"
     ]
    },
    {
     "data": {
      "application/vnd.jupyter.widget-view+json": {
       "model_id": "",
       "version_major": 2,
       "version_minor": 0
      },
      "text/plain": [
       "HBox(children=(FloatProgress(value=0.0, description='Training', layout=Layout(flex='2'), max=1250.0, style=Pro…"
      ]
     },
     "metadata": {},
     "output_type": "display_data"
    },
    {
     "name": "stdout",
     "output_type": "stream",
     "text": [
      "Epoch 401: train=10.0744, val=10.1925, took 13.392 s\n",
      "  Validation Found 48814 of 54504, added 997 (eff 89.56%) (0.0998 FP/event)\n"
     ]
    },
    {
     "data": {
      "application/vnd.jupyter.widget-view+json": {
       "model_id": "",
       "version_major": 2,
       "version_minor": 0
      },
      "text/plain": [
       "HBox(children=(FloatProgress(value=0.0, description='Training', layout=Layout(flex='2'), max=1250.0, style=Pro…"
      ]
     },
     "metadata": {},
     "output_type": "display_data"
    },
    {
     "name": "stdout",
     "output_type": "stream",
     "text": [
      "Epoch 402: train=10.0815, val=10.187, took 13.234 s\n",
      "  Validation Found 48821 of 54504, added 996 (eff 89.57%) (0.0997 FP/event)\n"
     ]
    },
    {
     "data": {
      "application/vnd.jupyter.widget-view+json": {
       "model_id": "",
       "version_major": 2,
       "version_minor": 0
      },
      "text/plain": [
       "HBox(children=(FloatProgress(value=0.0, description='Training', layout=Layout(flex='2'), max=1250.0, style=Pro…"
      ]
     },
     "metadata": {},
     "output_type": "display_data"
    },
    {
     "name": "stdout",
     "output_type": "stream",
     "text": [
      "Epoch 403: train=10.0662, val=10.1827, took 13.044 s\n",
      "  Validation Found 48818 of 54504, added 994 (eff 89.57%) (0.0995 FP/event)\n"
     ]
    },
    {
     "data": {
      "application/vnd.jupyter.widget-view+json": {
       "model_id": "",
       "version_major": 2,
       "version_minor": 0
      },
      "text/plain": [
       "HBox(children=(FloatProgress(value=0.0, description='Training', layout=Layout(flex='2'), max=1250.0, style=Pro…"
      ]
     },
     "metadata": {},
     "output_type": "display_data"
    },
    {
     "name": "stdout",
     "output_type": "stream",
     "text": [
      "Epoch 404: train=10.0729, val=10.1874, took 13.648 s\n",
      "  Validation Found 48836 of 54504, added 1002 (eff 89.60%) (0.1 FP/event)\n"
     ]
    },
    {
     "data": {
      "application/vnd.jupyter.widget-view+json": {
       "model_id": "",
       "version_major": 2,
       "version_minor": 0
      },
      "text/plain": [
       "HBox(children=(FloatProgress(value=0.0, description='Training', layout=Layout(flex='2'), max=1250.0, style=Pro…"
      ]
     },
     "metadata": {},
     "output_type": "display_data"
    },
    {
     "name": "stdout",
     "output_type": "stream",
     "text": [
      "Epoch 405: train=10.0686, val=10.1918, took 13.745 s\n",
      "  Validation Found 48840 of 54504, added 1004 (eff 89.61%) (0.101 FP/event)\n"
     ]
    },
    {
     "data": {
      "application/vnd.jupyter.widget-view+json": {
       "model_id": "",
       "version_major": 2,
       "version_minor": 0
      },
      "text/plain": [
       "HBox(children=(FloatProgress(value=0.0, description='Training', layout=Layout(flex='2'), max=1250.0, style=Pro…"
      ]
     },
     "metadata": {},
     "output_type": "display_data"
    },
    {
     "name": "stdout",
     "output_type": "stream",
     "text": [
      "Epoch 406: train=10.0735, val=10.1833, took 13.873 s\n",
      "  Validation Found 48827 of 54504, added 1001 (eff 89.58%) (0.1 FP/event)\n"
     ]
    },
    {
     "data": {
      "application/vnd.jupyter.widget-view+json": {
       "model_id": "",
       "version_major": 2,
       "version_minor": 0
      },
      "text/plain": [
       "HBox(children=(FloatProgress(value=0.0, description='Training', layout=Layout(flex='2'), max=1250.0, style=Pro…"
      ]
     },
     "metadata": {},
     "output_type": "display_data"
    },
    {
     "name": "stdout",
     "output_type": "stream",
     "text": [
      "Epoch 407: train=10.0773, val=10.1809, took 13.926 s\n",
      "  Validation Found 48830 of 54504, added 1001 (eff 89.59%) (0.1 FP/event)\n"
     ]
    },
    {
     "data": {
      "application/vnd.jupyter.widget-view+json": {
       "model_id": "",
       "version_major": 2,
       "version_minor": 0
      },
      "text/plain": [
       "HBox(children=(FloatProgress(value=0.0, description='Training', layout=Layout(flex='2'), max=1250.0, style=Pro…"
      ]
     },
     "metadata": {},
     "output_type": "display_data"
    },
    {
     "name": "stdout",
     "output_type": "stream",
     "text": [
      "Epoch 408: train=10.0722, val=10.1863, took 13.659 s\n",
      "  Validation Found 48813 of 54504, added 991 (eff 89.56%) (0.0992 FP/event)\n"
     ]
    },
    {
     "data": {
      "application/vnd.jupyter.widget-view+json": {
       "model_id": "",
       "version_major": 2,
       "version_minor": 0
      },
      "text/plain": [
       "HBox(children=(FloatProgress(value=0.0, description='Training', layout=Layout(flex='2'), max=1250.0, style=Pro…"
      ]
     },
     "metadata": {},
     "output_type": "display_data"
    },
    {
     "name": "stdout",
     "output_type": "stream",
     "text": [
      "Epoch 409: train=10.0725, val=10.1853, took 13.279 s\n",
      "  Validation Found 48851 of 54504, added 1007 (eff 89.63%) (0.101 FP/event)\n"
     ]
    },
    {
     "data": {
      "application/vnd.jupyter.widget-view+json": {
       "model_id": "",
       "version_major": 2,
       "version_minor": 0
      },
      "text/plain": [
       "HBox(children=(FloatProgress(value=0.0, description='Training', layout=Layout(flex='2'), max=1250.0, style=Pro…"
      ]
     },
     "metadata": {},
     "output_type": "display_data"
    },
    {
     "name": "stdout",
     "output_type": "stream",
     "text": [
      "Epoch 410: train=10.0674, val=10.1881, took 13.903 s\n",
      "  Validation Found 48819 of 54504, added 1002 (eff 89.57%) (0.1 FP/event)\n"
     ]
    },
    {
     "data": {
      "application/vnd.jupyter.widget-view+json": {
       "model_id": "",
       "version_major": 2,
       "version_minor": 0
      },
      "text/plain": [
       "HBox(children=(FloatProgress(value=0.0, description='Training', layout=Layout(flex='2'), max=1250.0, style=Pro…"
      ]
     },
     "metadata": {},
     "output_type": "display_data"
    },
    {
     "name": "stdout",
     "output_type": "stream",
     "text": [
      "Epoch 411: train=10.0689, val=10.1916, took 13.747 s\n",
      "  Validation Found 48825 of 54504, added 1002 (eff 89.58%) (0.1 FP/event)\n"
     ]
    },
    {
     "data": {
      "application/vnd.jupyter.widget-view+json": {
       "model_id": "",
       "version_major": 2,
       "version_minor": 0
      },
      "text/plain": [
       "HBox(children=(FloatProgress(value=0.0, description='Training', layout=Layout(flex='2'), max=1250.0, style=Pro…"
      ]
     },
     "metadata": {},
     "output_type": "display_data"
    },
    {
     "name": "stdout",
     "output_type": "stream",
     "text": [
      "Epoch 412: train=10.0759, val=10.1869, took 14.173 s\n",
      "  Validation Found 48825 of 54504, added 1001 (eff 89.58%) (0.1 FP/event)\n"
     ]
    },
    {
     "data": {
      "application/vnd.jupyter.widget-view+json": {
       "model_id": "",
       "version_major": 2,
       "version_minor": 0
      },
      "text/plain": [
       "HBox(children=(FloatProgress(value=0.0, description='Training', layout=Layout(flex='2'), max=1250.0, style=Pro…"
      ]
     },
     "metadata": {},
     "output_type": "display_data"
    },
    {
     "name": "stdout",
     "output_type": "stream",
     "text": [
      "Epoch 413: train=10.0725, val=10.1909, took 13.508 s\n",
      "  Validation Found 48808 of 54504, added 986 (eff 89.55%) (0.0987 FP/event)\n"
     ]
    },
    {
     "data": {
      "application/vnd.jupyter.widget-view+json": {
       "model_id": "",
       "version_major": 2,
       "version_minor": 0
      },
      "text/plain": [
       "HBox(children=(FloatProgress(value=0.0, description='Training', layout=Layout(flex='2'), max=1250.0, style=Pro…"
      ]
     },
     "metadata": {},
     "output_type": "display_data"
    },
    {
     "name": "stdout",
     "output_type": "stream",
     "text": [
      "Epoch 414: train=10.0677, val=10.1822, took 13.505 s\n",
      "  Validation Found 48819 of 54504, added 998 (eff 89.57%) (0.0999 FP/event)\n"
     ]
    },
    {
     "data": {
      "application/vnd.jupyter.widget-view+json": {
       "model_id": "",
       "version_major": 2,
       "version_minor": 0
      },
      "text/plain": [
       "HBox(children=(FloatProgress(value=0.0, description='Training', layout=Layout(flex='2'), max=1250.0, style=Pro…"
      ]
     },
     "metadata": {},
     "output_type": "display_data"
    },
    {
     "name": "stdout",
     "output_type": "stream",
     "text": [
      "Epoch 415: train=10.0677, val=10.1898, took 13.526 s\n",
      "  Validation Found 48821 of 54504, added 1002 (eff 89.57%) (0.1 FP/event)\n"
     ]
    },
    {
     "data": {
      "application/vnd.jupyter.widget-view+json": {
       "model_id": "",
       "version_major": 2,
       "version_minor": 0
      },
      "text/plain": [
       "HBox(children=(FloatProgress(value=0.0, description='Training', layout=Layout(flex='2'), max=1250.0, style=Pro…"
      ]
     },
     "metadata": {},
     "output_type": "display_data"
    },
    {
     "name": "stdout",
     "output_type": "stream",
     "text": [
      "Epoch 416: train=10.072, val=10.1864, took 13.308 s\n",
      "  Validation Found 48814 of 54504, added 994 (eff 89.56%) (0.0995 FP/event)\n"
     ]
    },
    {
     "data": {
      "application/vnd.jupyter.widget-view+json": {
       "model_id": "",
       "version_major": 2,
       "version_minor": 0
      },
      "text/plain": [
       "HBox(children=(FloatProgress(value=0.0, description='Training', layout=Layout(flex='2'), max=1250.0, style=Pro…"
      ]
     },
     "metadata": {},
     "output_type": "display_data"
    },
    {
     "name": "stdout",
     "output_type": "stream",
     "text": [
      "Epoch 417: train=10.0785, val=10.182, took 13.967 s\n",
      "  Validation Found 48823 of 54504, added 993 (eff 89.58%) (0.0994 FP/event)\n"
     ]
    },
    {
     "data": {
      "application/vnd.jupyter.widget-view+json": {
       "model_id": "",
       "version_major": 2,
       "version_minor": 0
      },
      "text/plain": [
       "HBox(children=(FloatProgress(value=0.0, description='Training', layout=Layout(flex='2'), max=1250.0, style=Pro…"
      ]
     },
     "metadata": {},
     "output_type": "display_data"
    },
    {
     "name": "stdout",
     "output_type": "stream",
     "text": [
      "Epoch 418: train=10.0687, val=10.1909, took 13.727 s\n",
      "  Validation Found 48807 of 54504, added 989 (eff 89.55%) (0.099 FP/event)\n"
     ]
    },
    {
     "data": {
      "application/vnd.jupyter.widget-view+json": {
       "model_id": "",
       "version_major": 2,
       "version_minor": 0
      },
      "text/plain": [
       "HBox(children=(FloatProgress(value=0.0, description='Training', layout=Layout(flex='2'), max=1250.0, style=Pro…"
      ]
     },
     "metadata": {},
     "output_type": "display_data"
    },
    {
     "name": "stdout",
     "output_type": "stream",
     "text": [
      "Epoch 419: train=10.0712, val=10.1874, took 13.315 s\n",
      "  Validation Found 48799 of 54504, added 984 (eff 89.53%) (0.0985 FP/event)\n",
      "\n"
     ]
    },
    {
     "data": {
      "application/javascript": [
       "/* Put everything inside the global mpl namespace */\n",
       "window.mpl = {};\n",
       "\n",
       "\n",
       "mpl.get_websocket_type = function() {\n",
       "    if (typeof(WebSocket) !== 'undefined') {\n",
       "        return WebSocket;\n",
       "    } else if (typeof(MozWebSocket) !== 'undefined') {\n",
       "        return MozWebSocket;\n",
       "    } else {\n",
       "        alert('Your browser does not have WebSocket support. ' +\n",
       "              'Please try Chrome, Safari or Firefox ≥ 6. ' +\n",
       "              'Firefox 4 and 5 are also supported but you ' +\n",
       "              'have to enable WebSockets in about:config.');\n",
       "    };\n",
       "}\n",
       "\n",
       "mpl.figure = function(figure_id, websocket, ondownload, parent_element) {\n",
       "    this.id = figure_id;\n",
       "\n",
       "    this.ws = websocket;\n",
       "\n",
       "    this.supports_binary = (this.ws.binaryType != undefined);\n",
       "\n",
       "    if (!this.supports_binary) {\n",
       "        var warnings = document.getElementById(\"mpl-warnings\");\n",
       "        if (warnings) {\n",
       "            warnings.style.display = 'block';\n",
       "            warnings.textContent = (\n",
       "                \"This browser does not support binary websocket messages. \" +\n",
       "                    \"Performance may be slow.\");\n",
       "        }\n",
       "    }\n",
       "\n",
       "    this.imageObj = new Image();\n",
       "\n",
       "    this.context = undefined;\n",
       "    this.message = undefined;\n",
       "    this.canvas = undefined;\n",
       "    this.rubberband_canvas = undefined;\n",
       "    this.rubberband_context = undefined;\n",
       "    this.format_dropdown = undefined;\n",
       "\n",
       "    this.image_mode = 'full';\n",
       "\n",
       "    this.root = $('<div/>');\n",
       "    this._root_extra_style(this.root)\n",
       "    this.root.attr('style', 'display: inline-block');\n",
       "\n",
       "    $(parent_element).append(this.root);\n",
       "\n",
       "    this._init_header(this);\n",
       "    this._init_canvas(this);\n",
       "    this._init_toolbar(this);\n",
       "\n",
       "    var fig = this;\n",
       "\n",
       "    this.waiting = false;\n",
       "\n",
       "    this.ws.onopen =  function () {\n",
       "            fig.send_message(\"supports_binary\", {value: fig.supports_binary});\n",
       "            fig.send_message(\"send_image_mode\", {});\n",
       "            if (mpl.ratio != 1) {\n",
       "                fig.send_message(\"set_dpi_ratio\", {'dpi_ratio': mpl.ratio});\n",
       "            }\n",
       "            fig.send_message(\"refresh\", {});\n",
       "        }\n",
       "\n",
       "    this.imageObj.onload = function() {\n",
       "            if (fig.image_mode == 'full') {\n",
       "                // Full images could contain transparency (where diff images\n",
       "                // almost always do), so we need to clear the canvas so that\n",
       "                // there is no ghosting.\n",
       "                fig.context.clearRect(0, 0, fig.canvas.width, fig.canvas.height);\n",
       "            }\n",
       "            fig.context.drawImage(fig.imageObj, 0, 0);\n",
       "        };\n",
       "\n",
       "    this.imageObj.onunload = function() {\n",
       "        fig.ws.close();\n",
       "    }\n",
       "\n",
       "    this.ws.onmessage = this._make_on_message_function(this);\n",
       "\n",
       "    this.ondownload = ondownload;\n",
       "}\n",
       "\n",
       "mpl.figure.prototype._init_header = function() {\n",
       "    var titlebar = $(\n",
       "        '<div class=\"ui-dialog-titlebar ui-widget-header ui-corner-all ' +\n",
       "        'ui-helper-clearfix\"/>');\n",
       "    var titletext = $(\n",
       "        '<div class=\"ui-dialog-title\" style=\"width: 100%; ' +\n",
       "        'text-align: center; padding: 3px;\"/>');\n",
       "    titlebar.append(titletext)\n",
       "    this.root.append(titlebar);\n",
       "    this.header = titletext[0];\n",
       "}\n",
       "\n",
       "\n",
       "\n",
       "mpl.figure.prototype._canvas_extra_style = function(canvas_div) {\n",
       "\n",
       "}\n",
       "\n",
       "\n",
       "mpl.figure.prototype._root_extra_style = function(canvas_div) {\n",
       "\n",
       "}\n",
       "\n",
       "mpl.figure.prototype._init_canvas = function() {\n",
       "    var fig = this;\n",
       "\n",
       "    var canvas_div = $('<div/>');\n",
       "\n",
       "    canvas_div.attr('style', 'position: relative; clear: both; outline: 0');\n",
       "\n",
       "    function canvas_keyboard_event(event) {\n",
       "        return fig.key_event(event, event['data']);\n",
       "    }\n",
       "\n",
       "    canvas_div.keydown('key_press', canvas_keyboard_event);\n",
       "    canvas_div.keyup('key_release', canvas_keyboard_event);\n",
       "    this.canvas_div = canvas_div\n",
       "    this._canvas_extra_style(canvas_div)\n",
       "    this.root.append(canvas_div);\n",
       "\n",
       "    var canvas = $('<canvas/>');\n",
       "    canvas.addClass('mpl-canvas');\n",
       "    canvas.attr('style', \"left: 0; top: 0; z-index: 0; outline: 0\")\n",
       "\n",
       "    this.canvas = canvas[0];\n",
       "    this.context = canvas[0].getContext(\"2d\");\n",
       "\n",
       "    var backingStore = this.context.backingStorePixelRatio ||\n",
       "\tthis.context.webkitBackingStorePixelRatio ||\n",
       "\tthis.context.mozBackingStorePixelRatio ||\n",
       "\tthis.context.msBackingStorePixelRatio ||\n",
       "\tthis.context.oBackingStorePixelRatio ||\n",
       "\tthis.context.backingStorePixelRatio || 1;\n",
       "\n",
       "    mpl.ratio = (window.devicePixelRatio || 1) / backingStore;\n",
       "\n",
       "    var rubberband = $('<canvas/>');\n",
       "    rubberband.attr('style', \"position: absolute; left: 0; top: 0; z-index: 1;\")\n",
       "\n",
       "    var pass_mouse_events = true;\n",
       "\n",
       "    canvas_div.resizable({\n",
       "        start: function(event, ui) {\n",
       "            pass_mouse_events = false;\n",
       "        },\n",
       "        resize: function(event, ui) {\n",
       "            fig.request_resize(ui.size.width, ui.size.height);\n",
       "        },\n",
       "        stop: function(event, ui) {\n",
       "            pass_mouse_events = true;\n",
       "            fig.request_resize(ui.size.width, ui.size.height);\n",
       "        },\n",
       "    });\n",
       "\n",
       "    function mouse_event_fn(event) {\n",
       "        if (pass_mouse_events)\n",
       "            return fig.mouse_event(event, event['data']);\n",
       "    }\n",
       "\n",
       "    rubberband.mousedown('button_press', mouse_event_fn);\n",
       "    rubberband.mouseup('button_release', mouse_event_fn);\n",
       "    // Throttle sequential mouse events to 1 every 20ms.\n",
       "    rubberband.mousemove('motion_notify', mouse_event_fn);\n",
       "\n",
       "    rubberband.mouseenter('figure_enter', mouse_event_fn);\n",
       "    rubberband.mouseleave('figure_leave', mouse_event_fn);\n",
       "\n",
       "    canvas_div.on(\"wheel\", function (event) {\n",
       "        event = event.originalEvent;\n",
       "        event['data'] = 'scroll'\n",
       "        if (event.deltaY < 0) {\n",
       "            event.step = 1;\n",
       "        } else {\n",
       "            event.step = -1;\n",
       "        }\n",
       "        mouse_event_fn(event);\n",
       "    });\n",
       "\n",
       "    canvas_div.append(canvas);\n",
       "    canvas_div.append(rubberband);\n",
       "\n",
       "    this.rubberband = rubberband;\n",
       "    this.rubberband_canvas = rubberband[0];\n",
       "    this.rubberband_context = rubberband[0].getContext(\"2d\");\n",
       "    this.rubberband_context.strokeStyle = \"#000000\";\n",
       "\n",
       "    this._resize_canvas = function(width, height) {\n",
       "        // Keep the size of the canvas, canvas container, and rubber band\n",
       "        // canvas in synch.\n",
       "        canvas_div.css('width', width)\n",
       "        canvas_div.css('height', height)\n",
       "\n",
       "        canvas.attr('width', width * mpl.ratio);\n",
       "        canvas.attr('height', height * mpl.ratio);\n",
       "        canvas.attr('style', 'width: ' + width + 'px; height: ' + height + 'px;');\n",
       "\n",
       "        rubberband.attr('width', width);\n",
       "        rubberband.attr('height', height);\n",
       "    }\n",
       "\n",
       "    // Set the figure to an initial 600x600px, this will subsequently be updated\n",
       "    // upon first draw.\n",
       "    this._resize_canvas(600, 600);\n",
       "\n",
       "    // Disable right mouse context menu.\n",
       "    $(this.rubberband_canvas).bind(\"contextmenu\",function(e){\n",
       "        return false;\n",
       "    });\n",
       "\n",
       "    function set_focus () {\n",
       "        canvas.focus();\n",
       "        canvas_div.focus();\n",
       "    }\n",
       "\n",
       "    window.setTimeout(set_focus, 100);\n",
       "}\n",
       "\n",
       "mpl.figure.prototype._init_toolbar = function() {\n",
       "    var fig = this;\n",
       "\n",
       "    var nav_element = $('<div/>');\n",
       "    nav_element.attr('style', 'width: 100%');\n",
       "    this.root.append(nav_element);\n",
       "\n",
       "    // Define a callback function for later on.\n",
       "    function toolbar_event(event) {\n",
       "        return fig.toolbar_button_onclick(event['data']);\n",
       "    }\n",
       "    function toolbar_mouse_event(event) {\n",
       "        return fig.toolbar_button_onmouseover(event['data']);\n",
       "    }\n",
       "\n",
       "    for(var toolbar_ind in mpl.toolbar_items) {\n",
       "        var name = mpl.toolbar_items[toolbar_ind][0];\n",
       "        var tooltip = mpl.toolbar_items[toolbar_ind][1];\n",
       "        var image = mpl.toolbar_items[toolbar_ind][2];\n",
       "        var method_name = mpl.toolbar_items[toolbar_ind][3];\n",
       "\n",
       "        if (!name) {\n",
       "            // put a spacer in here.\n",
       "            continue;\n",
       "        }\n",
       "        var button = $('<button/>');\n",
       "        button.addClass('ui-button ui-widget ui-state-default ui-corner-all ' +\n",
       "                        'ui-button-icon-only');\n",
       "        button.attr('role', 'button');\n",
       "        button.attr('aria-disabled', 'false');\n",
       "        button.click(method_name, toolbar_event);\n",
       "        button.mouseover(tooltip, toolbar_mouse_event);\n",
       "\n",
       "        var icon_img = $('<span/>');\n",
       "        icon_img.addClass('ui-button-icon-primary ui-icon');\n",
       "        icon_img.addClass(image);\n",
       "        icon_img.addClass('ui-corner-all');\n",
       "\n",
       "        var tooltip_span = $('<span/>');\n",
       "        tooltip_span.addClass('ui-button-text');\n",
       "        tooltip_span.html(tooltip);\n",
       "\n",
       "        button.append(icon_img);\n",
       "        button.append(tooltip_span);\n",
       "\n",
       "        nav_element.append(button);\n",
       "    }\n",
       "\n",
       "    var fmt_picker_span = $('<span/>');\n",
       "\n",
       "    var fmt_picker = $('<select/>');\n",
       "    fmt_picker.addClass('mpl-toolbar-option ui-widget ui-widget-content');\n",
       "    fmt_picker_span.append(fmt_picker);\n",
       "    nav_element.append(fmt_picker_span);\n",
       "    this.format_dropdown = fmt_picker[0];\n",
       "\n",
       "    for (var ind in mpl.extensions) {\n",
       "        var fmt = mpl.extensions[ind];\n",
       "        var option = $(\n",
       "            '<option/>', {selected: fmt === mpl.default_extension}).html(fmt);\n",
       "        fmt_picker.append(option);\n",
       "    }\n",
       "\n",
       "    // Add hover states to the ui-buttons\n",
       "    $( \".ui-button\" ).hover(\n",
       "        function() { $(this).addClass(\"ui-state-hover\");},\n",
       "        function() { $(this).removeClass(\"ui-state-hover\");}\n",
       "    );\n",
       "\n",
       "    var status_bar = $('<span class=\"mpl-message\"/>');\n",
       "    nav_element.append(status_bar);\n",
       "    this.message = status_bar[0];\n",
       "}\n",
       "\n",
       "mpl.figure.prototype.request_resize = function(x_pixels, y_pixels) {\n",
       "    // Request matplotlib to resize the figure. Matplotlib will then trigger a resize in the client,\n",
       "    // which will in turn request a refresh of the image.\n",
       "    this.send_message('resize', {'width': x_pixels, 'height': y_pixels});\n",
       "}\n",
       "\n",
       "mpl.figure.prototype.send_message = function(type, properties) {\n",
       "    properties['type'] = type;\n",
       "    properties['figure_id'] = this.id;\n",
       "    this.ws.send(JSON.stringify(properties));\n",
       "}\n",
       "\n",
       "mpl.figure.prototype.send_draw_message = function() {\n",
       "    if (!this.waiting) {\n",
       "        this.waiting = true;\n",
       "        this.ws.send(JSON.stringify({type: \"draw\", figure_id: this.id}));\n",
       "    }\n",
       "}\n",
       "\n",
       "\n",
       "mpl.figure.prototype.handle_save = function(fig, msg) {\n",
       "    var format_dropdown = fig.format_dropdown;\n",
       "    var format = format_dropdown.options[format_dropdown.selectedIndex].value;\n",
       "    fig.ondownload(fig, format);\n",
       "}\n",
       "\n",
       "\n",
       "mpl.figure.prototype.handle_resize = function(fig, msg) {\n",
       "    var size = msg['size'];\n",
       "    if (size[0] != fig.canvas.width || size[1] != fig.canvas.height) {\n",
       "        fig._resize_canvas(size[0], size[1]);\n",
       "        fig.send_message(\"refresh\", {});\n",
       "    };\n",
       "}\n",
       "\n",
       "mpl.figure.prototype.handle_rubberband = function(fig, msg) {\n",
       "    var x0 = msg['x0'] / mpl.ratio;\n",
       "    var y0 = (fig.canvas.height - msg['y0']) / mpl.ratio;\n",
       "    var x1 = msg['x1'] / mpl.ratio;\n",
       "    var y1 = (fig.canvas.height - msg['y1']) / mpl.ratio;\n",
       "    x0 = Math.floor(x0) + 0.5;\n",
       "    y0 = Math.floor(y0) + 0.5;\n",
       "    x1 = Math.floor(x1) + 0.5;\n",
       "    y1 = Math.floor(y1) + 0.5;\n",
       "    var min_x = Math.min(x0, x1);\n",
       "    var min_y = Math.min(y0, y1);\n",
       "    var width = Math.abs(x1 - x0);\n",
       "    var height = Math.abs(y1 - y0);\n",
       "\n",
       "    fig.rubberband_context.clearRect(\n",
       "        0, 0, fig.canvas.width / mpl.ratio, fig.canvas.height / mpl.ratio);\n",
       "\n",
       "    fig.rubberband_context.strokeRect(min_x, min_y, width, height);\n",
       "}\n",
       "\n",
       "mpl.figure.prototype.handle_figure_label = function(fig, msg) {\n",
       "    // Updates the figure title.\n",
       "    fig.header.textContent = msg['label'];\n",
       "}\n",
       "\n",
       "mpl.figure.prototype.handle_cursor = function(fig, msg) {\n",
       "    var cursor = msg['cursor'];\n",
       "    switch(cursor)\n",
       "    {\n",
       "    case 0:\n",
       "        cursor = 'pointer';\n",
       "        break;\n",
       "    case 1:\n",
       "        cursor = 'default';\n",
       "        break;\n",
       "    case 2:\n",
       "        cursor = 'crosshair';\n",
       "        break;\n",
       "    case 3:\n",
       "        cursor = 'move';\n",
       "        break;\n",
       "    }\n",
       "    fig.rubberband_canvas.style.cursor = cursor;\n",
       "}\n",
       "\n",
       "mpl.figure.prototype.handle_message = function(fig, msg) {\n",
       "    fig.message.textContent = msg['message'];\n",
       "}\n",
       "\n",
       "mpl.figure.prototype.handle_draw = function(fig, msg) {\n",
       "    // Request the server to send over a new figure.\n",
       "    fig.send_draw_message();\n",
       "}\n",
       "\n",
       "mpl.figure.prototype.handle_image_mode = function(fig, msg) {\n",
       "    fig.image_mode = msg['mode'];\n",
       "}\n",
       "\n",
       "mpl.figure.prototype.updated_canvas_event = function() {\n",
       "    // Called whenever the canvas gets updated.\n",
       "    this.send_message(\"ack\", {});\n",
       "}\n",
       "\n",
       "// A function to construct a web socket function for onmessage handling.\n",
       "// Called in the figure constructor.\n",
       "mpl.figure.prototype._make_on_message_function = function(fig) {\n",
       "    return function socket_on_message(evt) {\n",
       "        if (evt.data instanceof Blob) {\n",
       "            /* FIXME: We get \"Resource interpreted as Image but\n",
       "             * transferred with MIME type text/plain:\" errors on\n",
       "             * Chrome.  But how to set the MIME type?  It doesn't seem\n",
       "             * to be part of the websocket stream */\n",
       "            evt.data.type = \"image/png\";\n",
       "\n",
       "            /* Free the memory for the previous frames */\n",
       "            if (fig.imageObj.src) {\n",
       "                (window.URL || window.webkitURL).revokeObjectURL(\n",
       "                    fig.imageObj.src);\n",
       "            }\n",
       "\n",
       "            fig.imageObj.src = (window.URL || window.webkitURL).createObjectURL(\n",
       "                evt.data);\n",
       "            fig.updated_canvas_event();\n",
       "            fig.waiting = false;\n",
       "            return;\n",
       "        }\n",
       "        else if (typeof evt.data === 'string' && evt.data.slice(0, 21) == \"data:image/png;base64\") {\n",
       "            fig.imageObj.src = evt.data;\n",
       "            fig.updated_canvas_event();\n",
       "            fig.waiting = false;\n",
       "            return;\n",
       "        }\n",
       "\n",
       "        var msg = JSON.parse(evt.data);\n",
       "        var msg_type = msg['type'];\n",
       "\n",
       "        // Call the  \"handle_{type}\" callback, which takes\n",
       "        // the figure and JSON message as its only arguments.\n",
       "        try {\n",
       "            var callback = fig[\"handle_\" + msg_type];\n",
       "        } catch (e) {\n",
       "            console.log(\"No handler for the '\" + msg_type + \"' message type: \", msg);\n",
       "            return;\n",
       "        }\n",
       "\n",
       "        if (callback) {\n",
       "            try {\n",
       "                // console.log(\"Handling '\" + msg_type + \"' message: \", msg);\n",
       "                callback(fig, msg);\n",
       "            } catch (e) {\n",
       "                console.log(\"Exception inside the 'handler_\" + msg_type + \"' callback:\", e, e.stack, msg);\n",
       "            }\n",
       "        }\n",
       "    };\n",
       "}\n",
       "\n",
       "// from http://stackoverflow.com/questions/1114465/getting-mouse-location-in-canvas\n",
       "mpl.findpos = function(e) {\n",
       "    //this section is from http://www.quirksmode.org/js/events_properties.html\n",
       "    var targ;\n",
       "    if (!e)\n",
       "        e = window.event;\n",
       "    if (e.target)\n",
       "        targ = e.target;\n",
       "    else if (e.srcElement)\n",
       "        targ = e.srcElement;\n",
       "    if (targ.nodeType == 3) // defeat Safari bug\n",
       "        targ = targ.parentNode;\n",
       "\n",
       "    // jQuery normalizes the pageX and pageY\n",
       "    // pageX,Y are the mouse positions relative to the document\n",
       "    // offset() returns the position of the element relative to the document\n",
       "    var x = e.pageX - $(targ).offset().left;\n",
       "    var y = e.pageY - $(targ).offset().top;\n",
       "\n",
       "    return {\"x\": x, \"y\": y};\n",
       "};\n",
       "\n",
       "/*\n",
       " * return a copy of an object with only non-object keys\n",
       " * we need this to avoid circular references\n",
       " * http://stackoverflow.com/a/24161582/3208463\n",
       " */\n",
       "function simpleKeys (original) {\n",
       "  return Object.keys(original).reduce(function (obj, key) {\n",
       "    if (typeof original[key] !== 'object')\n",
       "        obj[key] = original[key]\n",
       "    return obj;\n",
       "  }, {});\n",
       "}\n",
       "\n",
       "mpl.figure.prototype.mouse_event = function(event, name) {\n",
       "    var canvas_pos = mpl.findpos(event)\n",
       "\n",
       "    if (name === 'button_press')\n",
       "    {\n",
       "        this.canvas.focus();\n",
       "        this.canvas_div.focus();\n",
       "    }\n",
       "\n",
       "    var x = canvas_pos.x * mpl.ratio;\n",
       "    var y = canvas_pos.y * mpl.ratio;\n",
       "\n",
       "    this.send_message(name, {x: x, y: y, button: event.button,\n",
       "                             step: event.step,\n",
       "                             guiEvent: simpleKeys(event)});\n",
       "\n",
       "    /* This prevents the web browser from automatically changing to\n",
       "     * the text insertion cursor when the button is pressed.  We want\n",
       "     * to control all of the cursor setting manually through the\n",
       "     * 'cursor' event from matplotlib */\n",
       "    event.preventDefault();\n",
       "    return false;\n",
       "}\n",
       "\n",
       "mpl.figure.prototype._key_event_extra = function(event, name) {\n",
       "    // Handle any extra behaviour associated with a key event\n",
       "}\n",
       "\n",
       "mpl.figure.prototype.key_event = function(event, name) {\n",
       "\n",
       "    // Prevent repeat events\n",
       "    if (name == 'key_press')\n",
       "    {\n",
       "        if (event.which === this._key)\n",
       "            return;\n",
       "        else\n",
       "            this._key = event.which;\n",
       "    }\n",
       "    if (name == 'key_release')\n",
       "        this._key = null;\n",
       "\n",
       "    var value = '';\n",
       "    if (event.ctrlKey && event.which != 17)\n",
       "        value += \"ctrl+\";\n",
       "    if (event.altKey && event.which != 18)\n",
       "        value += \"alt+\";\n",
       "    if (event.shiftKey && event.which != 16)\n",
       "        value += \"shift+\";\n",
       "\n",
       "    value += 'k';\n",
       "    value += event.which.toString();\n",
       "\n",
       "    this._key_event_extra(event, name);\n",
       "\n",
       "    this.send_message(name, {key: value,\n",
       "                             guiEvent: simpleKeys(event)});\n",
       "    return false;\n",
       "}\n",
       "\n",
       "mpl.figure.prototype.toolbar_button_onclick = function(name) {\n",
       "    if (name == 'download') {\n",
       "        this.handle_save(this, null);\n",
       "    } else {\n",
       "        this.send_message(\"toolbar_button\", {name: name});\n",
       "    }\n",
       "};\n",
       "\n",
       "mpl.figure.prototype.toolbar_button_onmouseover = function(tooltip) {\n",
       "    this.message.textContent = tooltip;\n",
       "};\n",
       "mpl.toolbar_items = [[\"Home\", \"Reset original view\", \"fa fa-home icon-home\", \"home\"], [\"Back\", \"Back to previous view\", \"fa fa-arrow-left icon-arrow-left\", \"back\"], [\"Forward\", \"Forward to next view\", \"fa fa-arrow-right icon-arrow-right\", \"forward\"], [\"\", \"\", \"\", \"\"], [\"Pan\", \"Pan axes with left mouse, zoom with right\", \"fa fa-arrows icon-move\", \"pan\"], [\"Zoom\", \"Zoom to rectangle\", \"fa fa-square-o icon-check-empty\", \"zoom\"], [\"\", \"\", \"\", \"\"], [\"Download\", \"Download plot\", \"fa fa-floppy-o icon-save\", \"download\"]];\n",
       "\n",
       "mpl.extensions = [\"eps\", \"jpeg\", \"pdf\", \"png\", \"ps\", \"raw\", \"svg\", \"tif\"];\n",
       "\n",
       "mpl.default_extension = \"png\";var comm_websocket_adapter = function(comm) {\n",
       "    // Create a \"websocket\"-like object which calls the given IPython comm\n",
       "    // object with the appropriate methods. Currently this is a non binary\n",
       "    // socket, so there is still some room for performance tuning.\n",
       "    var ws = {};\n",
       "\n",
       "    ws.close = function() {\n",
       "        comm.close()\n",
       "    };\n",
       "    ws.send = function(m) {\n",
       "        //console.log('sending', m);\n",
       "        comm.send(m);\n",
       "    };\n",
       "    // Register the callback with on_msg.\n",
       "    comm.on_msg(function(msg) {\n",
       "        //console.log('receiving', msg['content']['data'], msg);\n",
       "        // Pass the mpl event to the overridden (by mpl) onmessage function.\n",
       "        ws.onmessage(msg['content']['data'])\n",
       "    });\n",
       "    return ws;\n",
       "}\n",
       "\n",
       "mpl.mpl_figure_comm = function(comm, msg) {\n",
       "    // This is the function which gets called when the mpl process\n",
       "    // starts-up an IPython Comm through the \"matplotlib\" channel.\n",
       "\n",
       "    var id = msg.content.data.id;\n",
       "    // Get hold of the div created by the display call when the Comm\n",
       "    // socket was opened in Python.\n",
       "    var element = $(\"#\" + id);\n",
       "    var ws_proxy = comm_websocket_adapter(comm)\n",
       "\n",
       "    function ondownload(figure, format) {\n",
       "        window.open(figure.imageObj.src);\n",
       "    }\n",
       "\n",
       "    var fig = new mpl.figure(id, ws_proxy,\n",
       "                           ondownload,\n",
       "                           element.get(0));\n",
       "\n",
       "    // Call onopen now - mpl needs it, as it is assuming we've passed it a real\n",
       "    // web socket which is closed, not our websocket->open comm proxy.\n",
       "    ws_proxy.onopen();\n",
       "\n",
       "    fig.parent_element = element.get(0);\n",
       "    fig.cell_info = mpl.find_output_cell(\"<div id='\" + id + \"'></div>\");\n",
       "    if (!fig.cell_info) {\n",
       "        console.error(\"Failed to find cell for figure\", id, fig);\n",
       "        return;\n",
       "    }\n",
       "\n",
       "    var output_index = fig.cell_info[2]\n",
       "    var cell = fig.cell_info[0];\n",
       "\n",
       "};\n",
       "\n",
       "mpl.figure.prototype.handle_close = function(fig, msg) {\n",
       "    var width = fig.canvas.width/mpl.ratio\n",
       "    fig.root.unbind('remove')\n",
       "\n",
       "    // Update the output cell to use the data from the current canvas.\n",
       "    fig.push_to_output();\n",
       "    var dataURL = fig.canvas.toDataURL();\n",
       "    // Re-enable the keyboard manager in IPython - without this line, in FF,\n",
       "    // the notebook keyboard shortcuts fail.\n",
       "    IPython.keyboard_manager.enable()\n",
       "    $(fig.parent_element).html('<img src=\"' + dataURL + '\" width=\"' + width + '\">');\n",
       "    fig.close_ws(fig, msg);\n",
       "}\n",
       "\n",
       "mpl.figure.prototype.close_ws = function(fig, msg){\n",
       "    fig.send_message('closing', msg);\n",
       "    // fig.ws.close()\n",
       "}\n",
       "\n",
       "mpl.figure.prototype.push_to_output = function(remove_interactive) {\n",
       "    // Turn the data on the canvas into data in the output cell.\n",
       "    var width = this.canvas.width/mpl.ratio\n",
       "    var dataURL = this.canvas.toDataURL();\n",
       "    this.cell_info[1]['text/html'] = '<img src=\"' + dataURL + '\" width=\"' + width + '\">';\n",
       "}\n",
       "\n",
       "mpl.figure.prototype.updated_canvas_event = function() {\n",
       "    // Tell IPython that the notebook contents must change.\n",
       "    IPython.notebook.set_dirty(true);\n",
       "    this.send_message(\"ack\", {});\n",
       "    var fig = this;\n",
       "    // Wait a second, then push the new image to the DOM so\n",
       "    // that it is saved nicely (might be nice to debounce this).\n",
       "    setTimeout(function () { fig.push_to_output() }, 1000);\n",
       "}\n",
       "\n",
       "mpl.figure.prototype._init_toolbar = function() {\n",
       "    var fig = this;\n",
       "\n",
       "    var nav_element = $('<div/>');\n",
       "    nav_element.attr('style', 'width: 100%');\n",
       "    this.root.append(nav_element);\n",
       "\n",
       "    // Define a callback function for later on.\n",
       "    function toolbar_event(event) {\n",
       "        return fig.toolbar_button_onclick(event['data']);\n",
       "    }\n",
       "    function toolbar_mouse_event(event) {\n",
       "        return fig.toolbar_button_onmouseover(event['data']);\n",
       "    }\n",
       "\n",
       "    for(var toolbar_ind in mpl.toolbar_items){\n",
       "        var name = mpl.toolbar_items[toolbar_ind][0];\n",
       "        var tooltip = mpl.toolbar_items[toolbar_ind][1];\n",
       "        var image = mpl.toolbar_items[toolbar_ind][2];\n",
       "        var method_name = mpl.toolbar_items[toolbar_ind][3];\n",
       "\n",
       "        if (!name) { continue; };\n",
       "\n",
       "        var button = $('<button class=\"btn btn-default\" href=\"#\" title=\"' + name + '\"><i class=\"fa ' + image + ' fa-lg\"></i></button>');\n",
       "        button.click(method_name, toolbar_event);\n",
       "        button.mouseover(tooltip, toolbar_mouse_event);\n",
       "        nav_element.append(button);\n",
       "    }\n",
       "\n",
       "    // Add the status bar.\n",
       "    var status_bar = $('<span class=\"mpl-message\" style=\"text-align:right; float: right;\"/>');\n",
       "    nav_element.append(status_bar);\n",
       "    this.message = status_bar[0];\n",
       "\n",
       "    // Add the close button to the window.\n",
       "    var buttongrp = $('<div class=\"btn-group inline pull-right\"></div>');\n",
       "    var button = $('<button class=\"btn btn-mini btn-primary\" href=\"#\" title=\"Stop Interaction\"><i class=\"fa fa-power-off icon-remove icon-large\"></i></button>');\n",
       "    button.click(function (evt) { fig.handle_close(fig, {}); } );\n",
       "    button.mouseover('Stop Interaction', toolbar_mouse_event);\n",
       "    buttongrp.append(button);\n",
       "    var titlebar = this.root.find($('.ui-dialog-titlebar'));\n",
       "    titlebar.prepend(buttongrp);\n",
       "}\n",
       "\n",
       "mpl.figure.prototype._root_extra_style = function(el){\n",
       "    var fig = this\n",
       "    el.on(\"remove\", function(){\n",
       "\tfig.close_ws(fig, {});\n",
       "    });\n",
       "}\n",
       "\n",
       "mpl.figure.prototype._canvas_extra_style = function(el){\n",
       "    // this is important to make the div 'focusable\n",
       "    el.attr('tabindex', 0)\n",
       "    // reach out to IPython and tell the keyboard manager to turn it's self\n",
       "    // off when our div gets focus\n",
       "\n",
       "    // location in version 3\n",
       "    if (IPython.notebook.keyboard_manager) {\n",
       "        IPython.notebook.keyboard_manager.register_events(el);\n",
       "    }\n",
       "    else {\n",
       "        // location in version 2\n",
       "        IPython.keyboard_manager.register_events(el);\n",
       "    }\n",
       "\n",
       "}\n",
       "\n",
       "mpl.figure.prototype._key_event_extra = function(event, name) {\n",
       "    var manager = IPython.notebook.keyboard_manager;\n",
       "    if (!manager)\n",
       "        manager = IPython.keyboard_manager;\n",
       "\n",
       "    // Check for shift+enter\n",
       "    if (event.shiftKey && event.which == 13) {\n",
       "        this.canvas_div.blur();\n",
       "        // select the cell after this one\n",
       "        var index = IPython.notebook.find_cell_index(this.cell_info[0]);\n",
       "        IPython.notebook.select(index + 1);\n",
       "    }\n",
       "}\n",
       "\n",
       "mpl.figure.prototype.handle_save = function(fig, msg) {\n",
       "    fig.ondownload(fig, null);\n",
       "}\n",
       "\n",
       "\n",
       "mpl.find_output_cell = function(html_output) {\n",
       "    // Return the cell and output element which can be found *uniquely* in the notebook.\n",
       "    // Note - this is a bit hacky, but it is done because the \"notebook_saving.Notebook\"\n",
       "    // IPython event is triggered only after the cells have been serialised, which for\n",
       "    // our purposes (turning an active figure into a static one), is too late.\n",
       "    var cells = IPython.notebook.get_cells();\n",
       "    var ncells = cells.length;\n",
       "    for (var i=0; i<ncells; i++) {\n",
       "        var cell = cells[i];\n",
       "        if (cell.cell_type === 'code'){\n",
       "            for (var j=0; j<cell.output_area.outputs.length; j++) {\n",
       "                var data = cell.output_area.outputs[j];\n",
       "                if (data.data) {\n",
       "                    // IPython >= 3 moved mimebundle to data attribute of output\n",
       "                    data = data.data;\n",
       "                }\n",
       "                if (data['text/html'] == html_output) {\n",
       "                    return [cell, data, j];\n",
       "                }\n",
       "            }\n",
       "        }\n",
       "    }\n",
       "}\n",
       "\n",
       "// Register the function which deals with the matplotlib target/channel.\n",
       "// The kernel may be null if the page has been refreshed.\n",
       "if (IPython.notebook.kernel != null) {\n",
       "    IPython.notebook.kernel.comm_manager.register_target('matplotlib', mpl.mpl_figure_comm);\n",
       "}\n"
      ],
      "text/plain": [
       "<IPython.core.display.Javascript object>"
      ]
     },
     "metadata": {},
     "output_type": "display_data"
    },
    {
     "data": {
      "text/html": [
       "<img src=\"data:image/png;base64,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\" width=\"1000\">"
      ],
      "text/plain": [
       "<IPython.core.display.HTML object>"
      ]
     },
     "metadata": {},
     "output_type": "display_data"
    }
   ],
   "source": [
    "print('for model: ', model)   \n",
    "run_name = 'SCNN to ACNN M'\n",
    "# Create an mlflow run\n",
    "with mlflow.start_run(run_name=run_name) as run:\n",
    "    # Log parameters of the model\n",
    "    for key, value in vars(args).items():\n",
    "        print(key, value)\n",
    "        mlflow.log_param(key, value)\n",
    "    \n",
    "    # Log parameter count in the model\n",
    "    mlflow.log_param('Parameters', count_parameters(model))\n",
    "    \n",
    "    # Begin run\n",
    "    for result in trainNet(model, optimizer, loss,\n",
    "                            train_loader, val_loader,\n",
    "                            args.epochs+args.epoch_start, epoch_start=args.epoch_start,\n",
    "                            notebook=True, device=device):\n",
    "\n",
    "        result = result._asdict()\n",
    "        results = results.append(pd.Series(result), ignore_index=True)\n",
    "        xs = results.index\n",
    "\n",
    "        # Update the plot above\n",
    "        lines['train'].set_data(results.index, results.cost)\n",
    "        lines['val'].set_data(results.index, results.val)\n",
    "\n",
    "        #filter first cost epoch (can be really large)\n",
    "        max_cost = max(max(results.cost if len(results.cost)<2 else results.cost[1:]), max(results.val))\n",
    "        min_cost = min(min(results.cost), min(results.val))\n",
    "    \n",
    "        # The plot limits need updating too\n",
    "        ax.set_ylim(min_cost*.9, max_cost*1.1)  \n",
    "        ax.set_xlim(-.5, len(results.cost) - .5)\n",
    "    \n",
    "        replace_in_ax(lax, lines['eff'], xs, results['eff_val'].apply(lambda x: x.eff_rate))\n",
    "        replace_in_ax(tax, lines['fp'], xs, results['eff_val'].apply(lambda x: x.fp_rate)) \n",
    "            \n",
    "        # Redraw the figure\n",
    "        fig.canvas.draw()  \n",
    "        \n",
    "        ## MLFLOW ##\n",
    "        # Log metrics\n",
    "        mlflow.log_metric('Efficiency', result['eff_val'].eff_rate, result['epoch'])\n",
    "        mlflow.log_metric('False Positive Rate',  result['eff_val'].fp_rate, result['epoch'])\n",
    "        mlflow.log_metric('Validation Loss',  result['val'], result['epoch'])\n",
    "        mlflow.log_metric('Training Loss',  result['cost'], result['epoch'])\n",
    "            \n",
    "        # Log tags\n",
    "#        mlflow.set_tag('Optimizer', 'Adam')\n",
    "#        mlflow.set_tag('Kernel size', 'Mixed')\n",
    "#        mlflow.set_tag('Skip connections', '4')\n",
    "#        mlflow.set_tag('Activation', 'Softplus')\n",
    "#        mlflow.set_tag('Mid Activation', 'Relu')\n",
    "        mlflow.set_tag('Extra Data', 'False')\n",
    "\n",
    "        # Save model state dictionary, optimizer state dictionary, and epoch number\n",
    "        torch.save({\n",
    "            'model':model.state_dict(),\n",
    "            'optimizer':optimizer.state_dict(),\n",
    "            'epoch':args.epochs+result['epoch']\n",
    "            }, 'run_stats.pyt')\n",
    "        # Save the run stats into mlflow\n",
    "        mlflow.log_artifact('run_stats.pyt')\n",
    "        \n",
    "    dual_train_plots(results.index,\n",
    "                 results.cost, results.val, \n",
    "                 results['eff_val'].apply(lambda x: x.eff_rate),\n",
    "                 results['eff_val'].apply(lambda x: x.fp_rate))\n",
    "    plt.tight_layout()\n",
    "    # save plot\n",
    "    fig.savefig('plot.png')  \n",
    "    mlflow.log_artifact('plot.png')"
   ]
  },
  {
   "cell_type": "code",
   "execution_count": 13,
   "metadata": {},
   "outputs": [],
   "source": [
    "##quit()"
   ]
  }
 ],
 "metadata": {
  "kernelspec": {
   "display_name": "goofit-june2020",
   "language": "python",
   "name": "goofit-june2020"
  },
  "language_info": {
   "codemirror_mode": {
    "name": "ipython",
    "version": 3
   },
   "file_extension": ".py",
   "mimetype": "text/x-python",
   "name": "python",
   "nbconvert_exporter": "python",
   "pygments_lexer": "ipython3",
   "version": "3.7.6"
  }
 },
 "nbformat": 4,
 "nbformat_minor": 2
}
