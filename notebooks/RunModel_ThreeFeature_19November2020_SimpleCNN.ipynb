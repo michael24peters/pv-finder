{
 "cells": [
  {
   "cell_type": "code",
   "execution_count": 1,
   "metadata": {},
   "outputs": [],
   "source": [
    "##%matplotlib widget\n",
    "## with %matplotlib notebook: seems to require ipympl as part of environment, either\n",
    "## part of the conda environment or \"pip install ipympl\"\n",
    "## otherwise, does not show ANY plots in notebook, plt.savefig() works\n",
    "%matplotlib notebook  \n",
    "##%matplotlib inline    ## --plt.savefig()  works, but re-sizing does NOT"
   ]
  },
  {
   "cell_type": "markdown",
   "metadata": {},
   "source": [
    "Check the current GPU usage. Please try to be nice!"
   ]
  },
  {
   "cell_type": "code",
   "execution_count": 2,
   "metadata": {},
   "outputs": [
    {
     "name": "stdout",
     "output_type": "stream",
     "text": [
      "Thu Jan 14 10:20:07 2021       \n",
      "+-----------------------------------------------------------------------------+\n",
      "| NVIDIA-SMI 440.64.00    Driver Version: 440.64.00    CUDA Version: 10.2     |\n",
      "|-------------------------------+----------------------+----------------------+\n",
      "| GPU  Name        Persistence-M| Bus-Id        Disp.A | Volatile Uncorr. ECC |\n",
      "| Fan  Temp  Perf  Pwr:Usage/Cap|         Memory-Usage | GPU-Util  Compute M. |\n",
      "|===============================+======================+======================|\n",
      "|   0  TITAN V             Off  | 00000000:03:00.0 Off |                  N/A |\n",
      "| 21%   36C    P0    32W / 250W |      0MiB / 12066MiB |      0%      Default |\n",
      "+-------------------------------+----------------------+----------------------+\n",
      "|   1  Tesla P100-PCIE...  Off  | 00000000:83:00.0 Off |                    0 |\n",
      "| N/A   34C    P0    33W / 250W |      0MiB / 16280MiB |      0%      Default |\n",
      "+-------------------------------+----------------------+----------------------+\n",
      "|   2  TITAN V             Off  | 00000000:84:00.0 Off |                  N/A |\n",
      "| 48%   57C    P0    40W / 250W |      0MiB / 12066MiB |      0%      Default |\n",
      "+-------------------------------+----------------------+----------------------+\n",
      "                                                                               \n",
      "+-----------------------------------------------------------------------------+\n",
      "| Processes:                                                       GPU Memory |\n",
      "|  GPU       PID   Type   Process name                             Usage      |\n",
      "|=============================================================================|\n",
      "|  No running processes found                                                 |\n",
      "+-----------------------------------------------------------------------------+\n"
     ]
    }
   ],
   "source": [
    "!nvidia-smi"
   ]
  },
  {
   "cell_type": "markdown",
   "metadata": {},
   "source": [
    "## Imports"
   ]
  },
  {
   "cell_type": "code",
   "execution_count": 3,
   "metadata": {},
   "outputs": [],
   "source": [
    "import matplotlib.pyplot as plt\n",
    "import numpy as np\n",
    "import time\n",
    "import torch\n",
    "import pandas as pd\n",
    "import mlflow\n",
    "\n",
    "# Python 3 standard library\n",
    "from pathlib import Path\n",
    "\n",
    "from torchsummary import summary\n",
    "\n",
    "'''\n",
    "HELPER FUNCTIONS\n",
    "'''\n",
    "# From model/collectdata.py\n",
    "from model.collectdata_mdsA import collect_data\n",
    "\n",
    "# From model/loss.py\n",
    "##from loss import Loss\n",
    "from model.alt_loss_A import Loss\n",
    "\n",
    "# From model/training.py\n",
    "from model.training import trainNet, select_gpu, Results\n",
    "\n",
    "# From model/models.py\n",
    "##  will start with model from TwoFeatures_CNN6Layer_A in the first instance\n",
    "##  see relevant cell below\n",
    "\n",
    "from model.models_mjp_19November20 import SimpleCNN5Layer_Ca_A as ModelA\n",
    "from model.models_mjp_19November20 import SimpleCNN5Layer_Ca_E as ModelE\n",
    "from model.models_mjp_19November20 import SimpleCNN7Layer_Ca_W as ModelW\n",
    "from model.models_mjp_26December20 import SimpleCNN9Layer_Ca_X as ModelX\n",
    "from model.models_mjp_26December20 import SimpleCNN7Layer_Ca_Y as ModelY\n",
    "\n",
    "# From model/utilities.py\n",
    "from model.utilities import load_full_state, count_parameters, Params\n",
    "\n",
    "from model.plots import dual_train_plots, replace_in_ax\n",
    "\n",
    "## adds image of model architecture\n",
    "import hiddenlayer as HL"
   ]
  },
  {
   "cell_type": "markdown",
   "metadata": {},
   "source": [
    "Set up Torch device configuration. All tensors and model parameters need to know where to be put.\n",
    "This takes a BUS ID number: The BUS ID is the same as the listing at the top of this script."
   ]
  },
  {
   "cell_type": "code",
   "execution_count": 4,
   "metadata": {},
   "outputs": [
    {
     "name": "stdout",
     "output_type": "stream",
     "text": [
      "1 available GPUs (initially using device 0):\n",
      "  0 TITAN V\n"
     ]
    }
   ],
   "source": [
    "device = select_gpu(2)"
   ]
  },
  {
   "cell_type": "markdown",
   "metadata": {},
   "source": [
    "### Set up local parameters"
   ]
  },
  {
   "cell_type": "code",
   "execution_count": 5,
   "metadata": {},
   "outputs": [],
   "source": [
    "# params order - batch size, epochs, lr, epoch_start (which is usually set to 0)\n",
    "args = Params(128, 200, 1e-3, 20)"
   ]
  },
  {
   "cell_type": "markdown",
   "metadata": {},
   "source": [
    "## Loading data\n",
    "\n",
    "Load the dataset, split into parts, then move to device (see `collectdata.py` in the `../model` directory)"
   ]
  },
  {
   "cell_type": "code",
   "execution_count": 6,
   "metadata": {
    "scrolled": true
   },
   "outputs": [
    {
     "name": "stdout",
     "output_type": "stream",
     "text": [
      "Loading data...\n",
      "Loaded /share/lazy/sokoloff/ML-data_A/Aug14_80K_train.h5 in 10.54 s\n",
      "Loaded /share/lazy/sokoloff/ML-data_AA/Oct03_80K_train.h5 in 10.29 s\n",
      "Constructing 160000 event dataset took 3.144 s\n",
      "Loading data...\n",
      "Loaded /share/lazy/sokoloff/ML-data_AA/Oct03_20K_val.h5 in 2.575 s\n",
      "Constructing 9984 event dataset took 0.06682 s\n"
     ]
    }
   ],
   "source": [
    "## newer vernacular\n",
    "## Training dataset. You can put as many files here as desired.\n",
    "\n",
    "## in this DEMO example we use only one 80K training set -- the model starts with well-trained weights,\n",
    "## and using a smaller training set reduces both the time to load the data and the time to train an epoch\n",
    "##  set the option load_XandXsq = True to use both DKE and KDE^2 as input features\n",
    "train_loader = collect_data('/share/lazy/sokoloff/ML-data_A/Aug14_80K_train.h5',\n",
    "                             '/share/lazy/sokoloff/ML-data_AA/Oct03_80K_train.h5',\n",
    "#                             '/share/lazy/sokoloff/ML-data_AA/Oct03_40K_train.h5',\n",
    "#                             '/share/lazy/will/ML_mdsA/June30_2020_80k_1.h5',\n",
    "#                             '/share/lazy/will/ML_mdsA/June30_2020_80k_3.h5',\n",
    "#                             '/share/lazy/will/ML_mdsA/June30_2020_80k_4.h5',\n",
    "#                             '/share/lazy/will/ML_mdsA/June30_2020_80k_5.h5',\n",
    "#                             '/share/lazy/will/ML_mdsA/June30_2020_80k_6.h5',\n",
    "#                             '/share/lazy/will/ML_mdsA/June30_2020_80k_7.h5',\n",
    "#                             '/share/lazy/will/ML_mdsA/June30_2020_80k_8.h5',\n",
    "#                             '/share/lazy/will/ML_mdsA/June30_2020_80k_9.h5',\n",
    "                            #'/share/lazy/sokoloff/ML-data_AA/Oct03_80K2_train.h5',\n",
    "                             batch_size=args.batch_size,\n",
    "## if we are using a larger dataset (240K events, with the datasets above, and 11 GB  of GPU memory),\n",
    "## not the dataset will overflow the GPU memory; device=device will allow the data to move back\n",
    "## and forth between the CPU and GPU memory. While this allows use of a larger dataset, it slows\n",
    "## down performance by about 10%.  So comment out when not needed.\n",
    "                            device=device,\n",
    "                            masking=True, shuffle=True,\n",
    "                            load_XandXsq=False,\n",
    "                            load_xy=False)\n",
    "\n",
    "# Validation dataset. You can slice to reduce the size.\n",
    "## dataAA -> /share/lazy/sokoloff/ML-data_AA/\n",
    "val_loader = collect_data('/share/lazy/sokoloff/ML-data_AA/Oct03_20K_val.h5',\n",
    "## mds val_loader = collect_data('dataAA/HLT1CPU_1kevts_val.h5',\n",
    "\n",
    "                          batch_size=args.batch_size,\n",
    "                          slice=slice(256 * 39),\n",
    "                          device=device,\n",
    "                          masking=True, shuffle=False,\n",
    "                          load_XandXsq=False,\n",
    "                          load_xy=False)"
   ]
  },
  {
   "cell_type": "markdown",
   "metadata": {},
   "source": [
    "# Preparing the model"
   ]
  },
  {
   "cell_type": "markdown",
   "metadata": {},
   "source": [
    "Prepare a model, use multiple GPUs if they are VISIBLE, and move the model to the device."
   ]
  },
  {
   "cell_type": "code",
   "execution_count": 7,
   "metadata": {
    "scrolled": true
   },
   "outputs": [
    {
     "name": "stderr",
     "output_type": "stream",
     "text": [
      "WARNING:root:Malformed experiment 'ML'. Detailed error Yaml file '/share/lazy/pv-finder_model_repo/ML/meta.yaml' does not exist.\n",
      "Traceback (most recent call last):\n",
      "  File \"/home/michael24peters/.local/lib/python3.7/site-packages/mlflow/store/tracking/file_store.py\", line 197, in list_experiments\n",
      "    experiment = self._get_experiment(exp_id, view_type)\n",
      "  File \"/home/michael24peters/.local/lib/python3.7/site-packages/mlflow/store/tracking/file_store.py\", line 260, in _get_experiment\n",
      "    meta = read_yaml(experiment_dir, FileStore.META_DATA_FILE_NAME)\n",
      "  File \"/home/michael24peters/.local/lib/python3.7/site-packages/mlflow/utils/file_utils.py\", line 167, in read_yaml\n",
      "    raise MissingConfigException(\"Yaml file '%s' does not exist.\" % file_path)\n",
      "mlflow.exceptions.MissingConfigException: Yaml file '/share/lazy/pv-finder_model_repo/ML/meta.yaml' does not exist.\n"
     ]
    }
   ],
   "source": [
    "model = ModelY()\n",
    "\n",
    "##summary(model, input_size=(4, 4000))\n",
    "##print(model.parameters)\n",
    "\n",
    "mlflow.tracking.set_tracking_uri('file:/share/lazy/pv-finder_model_repo')\n",
    "mlflow.set_experiment('Four Feature AllCNN')"
   ]
  },
  {
   "cell_type": "code",
   "execution_count": 8,
   "metadata": {
    "scrolled": true
   },
   "outputs": [
    {
     "name": "stdout",
     "output_type": "stream",
     "text": [
      "Let's use 1 GPUs!\n"
     ]
    }
   ],
   "source": [
    "print(\"Let's use\", torch.cuda.device_count(), \"GPUs!\")\n",
    "if torch.cuda.device_count() > 1:\n",
    "    model = torch.nn.DataParallel(model)"
   ]
  },
  {
   "cell_type": "code",
   "execution_count": 9,
   "metadata": {
    "scrolled": true
   },
   "outputs": [
    {
     "name": "stdout",
     "output_type": "stream",
     "text": [
      "we also froze 0 weights\n",
      "Of the 8.0 parameter layers to update in the current model, 8.0 were loaded\n"
     ]
    }
   ],
   "source": [
    "loss = Loss(epsilon=1e-5,coefficient=2.5)\n",
    "optimizer = torch.optim.Adam(model.parameters(), lr=args.lr)\n",
    "\n",
    "##  use the first five layers from a pre-existing model\n",
    "##  see example at https://discuss.pytorch.org/t/how-to-load-part-of-pre-trained-model/1113\n",
    "##   ML -> /share/lazy/sokoloff/ML\n",
    "\n",
    "# don't need this; likely relic code (keep for now)\n",
    "#path = 'run_stats.pyt'\n",
    "#load_full_state(model, optimizer, path)\n",
    "\n",
    "# When loading pretrained models, use this code; otherwise, comment it out\n",
    "# For other pretrained models, go to MLFlow and find the path for \"run_stats.pyt\"\n",
    "pretrained_dict = '/share/lazy/pv-finder_model_repo/12/3bdf391886824901b0172ceff25d948e/artifacts/run_stats.pyt'\n",
    "load_full_state(model, optimizer, pretrained_dict)"
   ]
  },
  {
   "cell_type": "code",
   "execution_count": 10,
   "metadata": {},
   "outputs": [
    {
     "data": {
      "text/plain": [
       "SimpleCNN7Layer_Ca_Y(\n",
       "  (conv1): Conv1d(1, 20, kernel_size=(25,), stride=(1,), padding=(12,))\n",
       "  (conv2): Conv1d(20, 10, kernel_size=(15,), stride=(1,), padding=(7,))\n",
       "  (conv3): Conv1d(30, 10, kernel_size=(15,), stride=(1,), padding=(7,))\n",
       "  (conv4): Conv1d(40, 10, kernel_size=(15,), stride=(1,), padding=(7,))\n",
       "  (conv5): Conv1d(50, 10, kernel_size=(15,), stride=(1,), padding=(7,))\n",
       "  (conv6): Conv1d(60, 10, kernel_size=(15,), stride=(1,), padding=(7,))\n",
       "  (conv7): Conv1d(70, 1, kernel_size=(5,), stride=(1,), padding=(2,))\n",
       "  (conv1dropout): Dropout(p=0.15, inplace=False)\n",
       "  (conv2dropout): Dropout(p=0.15, inplace=False)\n",
       "  (conv3dropout): Dropout(p=0.15, inplace=False)\n",
       "  (conv4dropout): Dropout(p=0.15, inplace=False)\n",
       "  (conv5dropout): Dropout(p=0.15, inplace=False)\n",
       "  (conv6dropout): Dropout(p=0.15, inplace=False)\n",
       "  (conv7dropout): Dropout(p=0.35, inplace=False)\n",
       "  (fc1): Linear(in_features=4000, out_features=4000, bias=True)\n",
       ")"
      ]
     },
     "execution_count": 10,
     "metadata": {},
     "output_type": "execute_result"
    }
   ],
   "source": [
    "model.to(device)"
   ]
  },
  {
   "cell_type": "markdown",
   "metadata": {},
   "source": [
    "## Train \n",
    "\n",
    "\n",
    "\n",
    "The body of this loop runs once per epoch. Results is a named tuple of values (loss per epoch for training and validation, time each). Start by setting up a plot first:"
   ]
  },
  {
   "cell_type": "code",
   "execution_count": 11,
   "metadata": {},
   "outputs": [
    {
     "data": {
      "application/javascript": [
       "/* Put everything inside the global mpl namespace */\n",
       "window.mpl = {};\n",
       "\n",
       "\n",
       "mpl.get_websocket_type = function() {\n",
       "    if (typeof(WebSocket) !== 'undefined') {\n",
       "        return WebSocket;\n",
       "    } else if (typeof(MozWebSocket) !== 'undefined') {\n",
       "        return MozWebSocket;\n",
       "    } else {\n",
       "        alert('Your browser does not have WebSocket support. ' +\n",
       "              'Please try Chrome, Safari or Firefox ≥ 6. ' +\n",
       "              'Firefox 4 and 5 are also supported but you ' +\n",
       "              'have to enable WebSockets in about:config.');\n",
       "    };\n",
       "}\n",
       "\n",
       "mpl.figure = function(figure_id, websocket, ondownload, parent_element) {\n",
       "    this.id = figure_id;\n",
       "\n",
       "    this.ws = websocket;\n",
       "\n",
       "    this.supports_binary = (this.ws.binaryType != undefined);\n",
       "\n",
       "    if (!this.supports_binary) {\n",
       "        var warnings = document.getElementById(\"mpl-warnings\");\n",
       "        if (warnings) {\n",
       "            warnings.style.display = 'block';\n",
       "            warnings.textContent = (\n",
       "                \"This browser does not support binary websocket messages. \" +\n",
       "                    \"Performance may be slow.\");\n",
       "        }\n",
       "    }\n",
       "\n",
       "    this.imageObj = new Image();\n",
       "\n",
       "    this.context = undefined;\n",
       "    this.message = undefined;\n",
       "    this.canvas = undefined;\n",
       "    this.rubberband_canvas = undefined;\n",
       "    this.rubberband_context = undefined;\n",
       "    this.format_dropdown = undefined;\n",
       "\n",
       "    this.image_mode = 'full';\n",
       "\n",
       "    this.root = $('<div/>');\n",
       "    this._root_extra_style(this.root)\n",
       "    this.root.attr('style', 'display: inline-block');\n",
       "\n",
       "    $(parent_element).append(this.root);\n",
       "\n",
       "    this._init_header(this);\n",
       "    this._init_canvas(this);\n",
       "    this._init_toolbar(this);\n",
       "\n",
       "    var fig = this;\n",
       "\n",
       "    this.waiting = false;\n",
       "\n",
       "    this.ws.onopen =  function () {\n",
       "            fig.send_message(\"supports_binary\", {value: fig.supports_binary});\n",
       "            fig.send_message(\"send_image_mode\", {});\n",
       "            if (mpl.ratio != 1) {\n",
       "                fig.send_message(\"set_dpi_ratio\", {'dpi_ratio': mpl.ratio});\n",
       "            }\n",
       "            fig.send_message(\"refresh\", {});\n",
       "        }\n",
       "\n",
       "    this.imageObj.onload = function() {\n",
       "            if (fig.image_mode == 'full') {\n",
       "                // Full images could contain transparency (where diff images\n",
       "                // almost always do), so we need to clear the canvas so that\n",
       "                // there is no ghosting.\n",
       "                fig.context.clearRect(0, 0, fig.canvas.width, fig.canvas.height);\n",
       "            }\n",
       "            fig.context.drawImage(fig.imageObj, 0, 0);\n",
       "        };\n",
       "\n",
       "    this.imageObj.onunload = function() {\n",
       "        fig.ws.close();\n",
       "    }\n",
       "\n",
       "    this.ws.onmessage = this._make_on_message_function(this);\n",
       "\n",
       "    this.ondownload = ondownload;\n",
       "}\n",
       "\n",
       "mpl.figure.prototype._init_header = function() {\n",
       "    var titlebar = $(\n",
       "        '<div class=\"ui-dialog-titlebar ui-widget-header ui-corner-all ' +\n",
       "        'ui-helper-clearfix\"/>');\n",
       "    var titletext = $(\n",
       "        '<div class=\"ui-dialog-title\" style=\"width: 100%; ' +\n",
       "        'text-align: center; padding: 3px;\"/>');\n",
       "    titlebar.append(titletext)\n",
       "    this.root.append(titlebar);\n",
       "    this.header = titletext[0];\n",
       "}\n",
       "\n",
       "\n",
       "\n",
       "mpl.figure.prototype._canvas_extra_style = function(canvas_div) {\n",
       "\n",
       "}\n",
       "\n",
       "\n",
       "mpl.figure.prototype._root_extra_style = function(canvas_div) {\n",
       "\n",
       "}\n",
       "\n",
       "mpl.figure.prototype._init_canvas = function() {\n",
       "    var fig = this;\n",
       "\n",
       "    var canvas_div = $('<div/>');\n",
       "\n",
       "    canvas_div.attr('style', 'position: relative; clear: both; outline: 0');\n",
       "\n",
       "    function canvas_keyboard_event(event) {\n",
       "        return fig.key_event(event, event['data']);\n",
       "    }\n",
       "\n",
       "    canvas_div.keydown('key_press', canvas_keyboard_event);\n",
       "    canvas_div.keyup('key_release', canvas_keyboard_event);\n",
       "    this.canvas_div = canvas_div\n",
       "    this._canvas_extra_style(canvas_div)\n",
       "    this.root.append(canvas_div);\n",
       "\n",
       "    var canvas = $('<canvas/>');\n",
       "    canvas.addClass('mpl-canvas');\n",
       "    canvas.attr('style', \"left: 0; top: 0; z-index: 0; outline: 0\")\n",
       "\n",
       "    this.canvas = canvas[0];\n",
       "    this.context = canvas[0].getContext(\"2d\");\n",
       "\n",
       "    var backingStore = this.context.backingStorePixelRatio ||\n",
       "\tthis.context.webkitBackingStorePixelRatio ||\n",
       "\tthis.context.mozBackingStorePixelRatio ||\n",
       "\tthis.context.msBackingStorePixelRatio ||\n",
       "\tthis.context.oBackingStorePixelRatio ||\n",
       "\tthis.context.backingStorePixelRatio || 1;\n",
       "\n",
       "    mpl.ratio = (window.devicePixelRatio || 1) / backingStore;\n",
       "\n",
       "    var rubberband = $('<canvas/>');\n",
       "    rubberband.attr('style', \"position: absolute; left: 0; top: 0; z-index: 1;\")\n",
       "\n",
       "    var pass_mouse_events = true;\n",
       "\n",
       "    canvas_div.resizable({\n",
       "        start: function(event, ui) {\n",
       "            pass_mouse_events = false;\n",
       "        },\n",
       "        resize: function(event, ui) {\n",
       "            fig.request_resize(ui.size.width, ui.size.height);\n",
       "        },\n",
       "        stop: function(event, ui) {\n",
       "            pass_mouse_events = true;\n",
       "            fig.request_resize(ui.size.width, ui.size.height);\n",
       "        },\n",
       "    });\n",
       "\n",
       "    function mouse_event_fn(event) {\n",
       "        if (pass_mouse_events)\n",
       "            return fig.mouse_event(event, event['data']);\n",
       "    }\n",
       "\n",
       "    rubberband.mousedown('button_press', mouse_event_fn);\n",
       "    rubberband.mouseup('button_release', mouse_event_fn);\n",
       "    // Throttle sequential mouse events to 1 every 20ms.\n",
       "    rubberband.mousemove('motion_notify', mouse_event_fn);\n",
       "\n",
       "    rubberband.mouseenter('figure_enter', mouse_event_fn);\n",
       "    rubberband.mouseleave('figure_leave', mouse_event_fn);\n",
       "\n",
       "    canvas_div.on(\"wheel\", function (event) {\n",
       "        event = event.originalEvent;\n",
       "        event['data'] = 'scroll'\n",
       "        if (event.deltaY < 0) {\n",
       "            event.step = 1;\n",
       "        } else {\n",
       "            event.step = -1;\n",
       "        }\n",
       "        mouse_event_fn(event);\n",
       "    });\n",
       "\n",
       "    canvas_div.append(canvas);\n",
       "    canvas_div.append(rubberband);\n",
       "\n",
       "    this.rubberband = rubberband;\n",
       "    this.rubberband_canvas = rubberband[0];\n",
       "    this.rubberband_context = rubberband[0].getContext(\"2d\");\n",
       "    this.rubberband_context.strokeStyle = \"#000000\";\n",
       "\n",
       "    this._resize_canvas = function(width, height) {\n",
       "        // Keep the size of the canvas, canvas container, and rubber band\n",
       "        // canvas in synch.\n",
       "        canvas_div.css('width', width)\n",
       "        canvas_div.css('height', height)\n",
       "\n",
       "        canvas.attr('width', width * mpl.ratio);\n",
       "        canvas.attr('height', height * mpl.ratio);\n",
       "        canvas.attr('style', 'width: ' + width + 'px; height: ' + height + 'px;');\n",
       "\n",
       "        rubberband.attr('width', width);\n",
       "        rubberband.attr('height', height);\n",
       "    }\n",
       "\n",
       "    // Set the figure to an initial 600x600px, this will subsequently be updated\n",
       "    // upon first draw.\n",
       "    this._resize_canvas(600, 600);\n",
       "\n",
       "    // Disable right mouse context menu.\n",
       "    $(this.rubberband_canvas).bind(\"contextmenu\",function(e){\n",
       "        return false;\n",
       "    });\n",
       "\n",
       "    function set_focus () {\n",
       "        canvas.focus();\n",
       "        canvas_div.focus();\n",
       "    }\n",
       "\n",
       "    window.setTimeout(set_focus, 100);\n",
       "}\n",
       "\n",
       "mpl.figure.prototype._init_toolbar = function() {\n",
       "    var fig = this;\n",
       "\n",
       "    var nav_element = $('<div/>');\n",
       "    nav_element.attr('style', 'width: 100%');\n",
       "    this.root.append(nav_element);\n",
       "\n",
       "    // Define a callback function for later on.\n",
       "    function toolbar_event(event) {\n",
       "        return fig.toolbar_button_onclick(event['data']);\n",
       "    }\n",
       "    function toolbar_mouse_event(event) {\n",
       "        return fig.toolbar_button_onmouseover(event['data']);\n",
       "    }\n",
       "\n",
       "    for(var toolbar_ind in mpl.toolbar_items) {\n",
       "        var name = mpl.toolbar_items[toolbar_ind][0];\n",
       "        var tooltip = mpl.toolbar_items[toolbar_ind][1];\n",
       "        var image = mpl.toolbar_items[toolbar_ind][2];\n",
       "        var method_name = mpl.toolbar_items[toolbar_ind][3];\n",
       "\n",
       "        if (!name) {\n",
       "            // put a spacer in here.\n",
       "            continue;\n",
       "        }\n",
       "        var button = $('<button/>');\n",
       "        button.addClass('ui-button ui-widget ui-state-default ui-corner-all ' +\n",
       "                        'ui-button-icon-only');\n",
       "        button.attr('role', 'button');\n",
       "        button.attr('aria-disabled', 'false');\n",
       "        button.click(method_name, toolbar_event);\n",
       "        button.mouseover(tooltip, toolbar_mouse_event);\n",
       "\n",
       "        var icon_img = $('<span/>');\n",
       "        icon_img.addClass('ui-button-icon-primary ui-icon');\n",
       "        icon_img.addClass(image);\n",
       "        icon_img.addClass('ui-corner-all');\n",
       "\n",
       "        var tooltip_span = $('<span/>');\n",
       "        tooltip_span.addClass('ui-button-text');\n",
       "        tooltip_span.html(tooltip);\n",
       "\n",
       "        button.append(icon_img);\n",
       "        button.append(tooltip_span);\n",
       "\n",
       "        nav_element.append(button);\n",
       "    }\n",
       "\n",
       "    var fmt_picker_span = $('<span/>');\n",
       "\n",
       "    var fmt_picker = $('<select/>');\n",
       "    fmt_picker.addClass('mpl-toolbar-option ui-widget ui-widget-content');\n",
       "    fmt_picker_span.append(fmt_picker);\n",
       "    nav_element.append(fmt_picker_span);\n",
       "    this.format_dropdown = fmt_picker[0];\n",
       "\n",
       "    for (var ind in mpl.extensions) {\n",
       "        var fmt = mpl.extensions[ind];\n",
       "        var option = $(\n",
       "            '<option/>', {selected: fmt === mpl.default_extension}).html(fmt);\n",
       "        fmt_picker.append(option);\n",
       "    }\n",
       "\n",
       "    // Add hover states to the ui-buttons\n",
       "    $( \".ui-button\" ).hover(\n",
       "        function() { $(this).addClass(\"ui-state-hover\");},\n",
       "        function() { $(this).removeClass(\"ui-state-hover\");}\n",
       "    );\n",
       "\n",
       "    var status_bar = $('<span class=\"mpl-message\"/>');\n",
       "    nav_element.append(status_bar);\n",
       "    this.message = status_bar[0];\n",
       "}\n",
       "\n",
       "mpl.figure.prototype.request_resize = function(x_pixels, y_pixels) {\n",
       "    // Request matplotlib to resize the figure. Matplotlib will then trigger a resize in the client,\n",
       "    // which will in turn request a refresh of the image.\n",
       "    this.send_message('resize', {'width': x_pixels, 'height': y_pixels});\n",
       "}\n",
       "\n",
       "mpl.figure.prototype.send_message = function(type, properties) {\n",
       "    properties['type'] = type;\n",
       "    properties['figure_id'] = this.id;\n",
       "    this.ws.send(JSON.stringify(properties));\n",
       "}\n",
       "\n",
       "mpl.figure.prototype.send_draw_message = function() {\n",
       "    if (!this.waiting) {\n",
       "        this.waiting = true;\n",
       "        this.ws.send(JSON.stringify({type: \"draw\", figure_id: this.id}));\n",
       "    }\n",
       "}\n",
       "\n",
       "\n",
       "mpl.figure.prototype.handle_save = function(fig, msg) {\n",
       "    var format_dropdown = fig.format_dropdown;\n",
       "    var format = format_dropdown.options[format_dropdown.selectedIndex].value;\n",
       "    fig.ondownload(fig, format);\n",
       "}\n",
       "\n",
       "\n",
       "mpl.figure.prototype.handle_resize = function(fig, msg) {\n",
       "    var size = msg['size'];\n",
       "    if (size[0] != fig.canvas.width || size[1] != fig.canvas.height) {\n",
       "        fig._resize_canvas(size[0], size[1]);\n",
       "        fig.send_message(\"refresh\", {});\n",
       "    };\n",
       "}\n",
       "\n",
       "mpl.figure.prototype.handle_rubberband = function(fig, msg) {\n",
       "    var x0 = msg['x0'] / mpl.ratio;\n",
       "    var y0 = (fig.canvas.height - msg['y0']) / mpl.ratio;\n",
       "    var x1 = msg['x1'] / mpl.ratio;\n",
       "    var y1 = (fig.canvas.height - msg['y1']) / mpl.ratio;\n",
       "    x0 = Math.floor(x0) + 0.5;\n",
       "    y0 = Math.floor(y0) + 0.5;\n",
       "    x1 = Math.floor(x1) + 0.5;\n",
       "    y1 = Math.floor(y1) + 0.5;\n",
       "    var min_x = Math.min(x0, x1);\n",
       "    var min_y = Math.min(y0, y1);\n",
       "    var width = Math.abs(x1 - x0);\n",
       "    var height = Math.abs(y1 - y0);\n",
       "\n",
       "    fig.rubberband_context.clearRect(\n",
       "        0, 0, fig.canvas.width / mpl.ratio, fig.canvas.height / mpl.ratio);\n",
       "\n",
       "    fig.rubberband_context.strokeRect(min_x, min_y, width, height);\n",
       "}\n",
       "\n",
       "mpl.figure.prototype.handle_figure_label = function(fig, msg) {\n",
       "    // Updates the figure title.\n",
       "    fig.header.textContent = msg['label'];\n",
       "}\n",
       "\n",
       "mpl.figure.prototype.handle_cursor = function(fig, msg) {\n",
       "    var cursor = msg['cursor'];\n",
       "    switch(cursor)\n",
       "    {\n",
       "    case 0:\n",
       "        cursor = 'pointer';\n",
       "        break;\n",
       "    case 1:\n",
       "        cursor = 'default';\n",
       "        break;\n",
       "    case 2:\n",
       "        cursor = 'crosshair';\n",
       "        break;\n",
       "    case 3:\n",
       "        cursor = 'move';\n",
       "        break;\n",
       "    }\n",
       "    fig.rubberband_canvas.style.cursor = cursor;\n",
       "}\n",
       "\n",
       "mpl.figure.prototype.handle_message = function(fig, msg) {\n",
       "    fig.message.textContent = msg['message'];\n",
       "}\n",
       "\n",
       "mpl.figure.prototype.handle_draw = function(fig, msg) {\n",
       "    // Request the server to send over a new figure.\n",
       "    fig.send_draw_message();\n",
       "}\n",
       "\n",
       "mpl.figure.prototype.handle_image_mode = function(fig, msg) {\n",
       "    fig.image_mode = msg['mode'];\n",
       "}\n",
       "\n",
       "mpl.figure.prototype.updated_canvas_event = function() {\n",
       "    // Called whenever the canvas gets updated.\n",
       "    this.send_message(\"ack\", {});\n",
       "}\n",
       "\n",
       "// A function to construct a web socket function for onmessage handling.\n",
       "// Called in the figure constructor.\n",
       "mpl.figure.prototype._make_on_message_function = function(fig) {\n",
       "    return function socket_on_message(evt) {\n",
       "        if (evt.data instanceof Blob) {\n",
       "            /* FIXME: We get \"Resource interpreted as Image but\n",
       "             * transferred with MIME type text/plain:\" errors on\n",
       "             * Chrome.  But how to set the MIME type?  It doesn't seem\n",
       "             * to be part of the websocket stream */\n",
       "            evt.data.type = \"image/png\";\n",
       "\n",
       "            /* Free the memory for the previous frames */\n",
       "            if (fig.imageObj.src) {\n",
       "                (window.URL || window.webkitURL).revokeObjectURL(\n",
       "                    fig.imageObj.src);\n",
       "            }\n",
       "\n",
       "            fig.imageObj.src = (window.URL || window.webkitURL).createObjectURL(\n",
       "                evt.data);\n",
       "            fig.updated_canvas_event();\n",
       "            fig.waiting = false;\n",
       "            return;\n",
       "        }\n",
       "        else if (typeof evt.data === 'string' && evt.data.slice(0, 21) == \"data:image/png;base64\") {\n",
       "            fig.imageObj.src = evt.data;\n",
       "            fig.updated_canvas_event();\n",
       "            fig.waiting = false;\n",
       "            return;\n",
       "        }\n",
       "\n",
       "        var msg = JSON.parse(evt.data);\n",
       "        var msg_type = msg['type'];\n",
       "\n",
       "        // Call the  \"handle_{type}\" callback, which takes\n",
       "        // the figure and JSON message as its only arguments.\n",
       "        try {\n",
       "            var callback = fig[\"handle_\" + msg_type];\n",
       "        } catch (e) {\n",
       "            console.log(\"No handler for the '\" + msg_type + \"' message type: \", msg);\n",
       "            return;\n",
       "        }\n",
       "\n",
       "        if (callback) {\n",
       "            try {\n",
       "                // console.log(\"Handling '\" + msg_type + \"' message: \", msg);\n",
       "                callback(fig, msg);\n",
       "            } catch (e) {\n",
       "                console.log(\"Exception inside the 'handler_\" + msg_type + \"' callback:\", e, e.stack, msg);\n",
       "            }\n",
       "        }\n",
       "    };\n",
       "}\n",
       "\n",
       "// from http://stackoverflow.com/questions/1114465/getting-mouse-location-in-canvas\n",
       "mpl.findpos = function(e) {\n",
       "    //this section is from http://www.quirksmode.org/js/events_properties.html\n",
       "    var targ;\n",
       "    if (!e)\n",
       "        e = window.event;\n",
       "    if (e.target)\n",
       "        targ = e.target;\n",
       "    else if (e.srcElement)\n",
       "        targ = e.srcElement;\n",
       "    if (targ.nodeType == 3) // defeat Safari bug\n",
       "        targ = targ.parentNode;\n",
       "\n",
       "    // jQuery normalizes the pageX and pageY\n",
       "    // pageX,Y are the mouse positions relative to the document\n",
       "    // offset() returns the position of the element relative to the document\n",
       "    var x = e.pageX - $(targ).offset().left;\n",
       "    var y = e.pageY - $(targ).offset().top;\n",
       "\n",
       "    return {\"x\": x, \"y\": y};\n",
       "};\n",
       "\n",
       "/*\n",
       " * return a copy of an object with only non-object keys\n",
       " * we need this to avoid circular references\n",
       " * http://stackoverflow.com/a/24161582/3208463\n",
       " */\n",
       "function simpleKeys (original) {\n",
       "  return Object.keys(original).reduce(function (obj, key) {\n",
       "    if (typeof original[key] !== 'object')\n",
       "        obj[key] = original[key]\n",
       "    return obj;\n",
       "  }, {});\n",
       "}\n",
       "\n",
       "mpl.figure.prototype.mouse_event = function(event, name) {\n",
       "    var canvas_pos = mpl.findpos(event)\n",
       "\n",
       "    if (name === 'button_press')\n",
       "    {\n",
       "        this.canvas.focus();\n",
       "        this.canvas_div.focus();\n",
       "    }\n",
       "\n",
       "    var x = canvas_pos.x * mpl.ratio;\n",
       "    var y = canvas_pos.y * mpl.ratio;\n",
       "\n",
       "    this.send_message(name, {x: x, y: y, button: event.button,\n",
       "                             step: event.step,\n",
       "                             guiEvent: simpleKeys(event)});\n",
       "\n",
       "    /* This prevents the web browser from automatically changing to\n",
       "     * the text insertion cursor when the button is pressed.  We want\n",
       "     * to control all of the cursor setting manually through the\n",
       "     * 'cursor' event from matplotlib */\n",
       "    event.preventDefault();\n",
       "    return false;\n",
       "}\n",
       "\n",
       "mpl.figure.prototype._key_event_extra = function(event, name) {\n",
       "    // Handle any extra behaviour associated with a key event\n",
       "}\n",
       "\n",
       "mpl.figure.prototype.key_event = function(event, name) {\n",
       "\n",
       "    // Prevent repeat events\n",
       "    if (name == 'key_press')\n",
       "    {\n",
       "        if (event.which === this._key)\n",
       "            return;\n",
       "        else\n",
       "            this._key = event.which;\n",
       "    }\n",
       "    if (name == 'key_release')\n",
       "        this._key = null;\n",
       "\n",
       "    var value = '';\n",
       "    if (event.ctrlKey && event.which != 17)\n",
       "        value += \"ctrl+\";\n",
       "    if (event.altKey && event.which != 18)\n",
       "        value += \"alt+\";\n",
       "    if (event.shiftKey && event.which != 16)\n",
       "        value += \"shift+\";\n",
       "\n",
       "    value += 'k';\n",
       "    value += event.which.toString();\n",
       "\n",
       "    this._key_event_extra(event, name);\n",
       "\n",
       "    this.send_message(name, {key: value,\n",
       "                             guiEvent: simpleKeys(event)});\n",
       "    return false;\n",
       "}\n",
       "\n",
       "mpl.figure.prototype.toolbar_button_onclick = function(name) {\n",
       "    if (name == 'download') {\n",
       "        this.handle_save(this, null);\n",
       "    } else {\n",
       "        this.send_message(\"toolbar_button\", {name: name});\n",
       "    }\n",
       "};\n",
       "\n",
       "mpl.figure.prototype.toolbar_button_onmouseover = function(tooltip) {\n",
       "    this.message.textContent = tooltip;\n",
       "};\n",
       "mpl.toolbar_items = [[\"Home\", \"Reset original view\", \"fa fa-home icon-home\", \"home\"], [\"Back\", \"Back to previous view\", \"fa fa-arrow-left icon-arrow-left\", \"back\"], [\"Forward\", \"Forward to next view\", \"fa fa-arrow-right icon-arrow-right\", \"forward\"], [\"\", \"\", \"\", \"\"], [\"Pan\", \"Pan axes with left mouse, zoom with right\", \"fa fa-arrows icon-move\", \"pan\"], [\"Zoom\", \"Zoom to rectangle\", \"fa fa-square-o icon-check-empty\", \"zoom\"], [\"\", \"\", \"\", \"\"], [\"Download\", \"Download plot\", \"fa fa-floppy-o icon-save\", \"download\"]];\n",
       "\n",
       "mpl.extensions = [\"eps\", \"jpeg\", \"pdf\", \"png\", \"ps\", \"raw\", \"svg\", \"tif\"];\n",
       "\n",
       "mpl.default_extension = \"png\";var comm_websocket_adapter = function(comm) {\n",
       "    // Create a \"websocket\"-like object which calls the given IPython comm\n",
       "    // object with the appropriate methods. Currently this is a non binary\n",
       "    // socket, so there is still some room for performance tuning.\n",
       "    var ws = {};\n",
       "\n",
       "    ws.close = function() {\n",
       "        comm.close()\n",
       "    };\n",
       "    ws.send = function(m) {\n",
       "        //console.log('sending', m);\n",
       "        comm.send(m);\n",
       "    };\n",
       "    // Register the callback with on_msg.\n",
       "    comm.on_msg(function(msg) {\n",
       "        //console.log('receiving', msg['content']['data'], msg);\n",
       "        // Pass the mpl event to the overridden (by mpl) onmessage function.\n",
       "        ws.onmessage(msg['content']['data'])\n",
       "    });\n",
       "    return ws;\n",
       "}\n",
       "\n",
       "mpl.mpl_figure_comm = function(comm, msg) {\n",
       "    // This is the function which gets called when the mpl process\n",
       "    // starts-up an IPython Comm through the \"matplotlib\" channel.\n",
       "\n",
       "    var id = msg.content.data.id;\n",
       "    // Get hold of the div created by the display call when the Comm\n",
       "    // socket was opened in Python.\n",
       "    var element = $(\"#\" + id);\n",
       "    var ws_proxy = comm_websocket_adapter(comm)\n",
       "\n",
       "    function ondownload(figure, format) {\n",
       "        window.open(figure.imageObj.src);\n",
       "    }\n",
       "\n",
       "    var fig = new mpl.figure(id, ws_proxy,\n",
       "                           ondownload,\n",
       "                           element.get(0));\n",
       "\n",
       "    // Call onopen now - mpl needs it, as it is assuming we've passed it a real\n",
       "    // web socket which is closed, not our websocket->open comm proxy.\n",
       "    ws_proxy.onopen();\n",
       "\n",
       "    fig.parent_element = element.get(0);\n",
       "    fig.cell_info = mpl.find_output_cell(\"<div id='\" + id + \"'></div>\");\n",
       "    if (!fig.cell_info) {\n",
       "        console.error(\"Failed to find cell for figure\", id, fig);\n",
       "        return;\n",
       "    }\n",
       "\n",
       "    var output_index = fig.cell_info[2]\n",
       "    var cell = fig.cell_info[0];\n",
       "\n",
       "};\n",
       "\n",
       "mpl.figure.prototype.handle_close = function(fig, msg) {\n",
       "    var width = fig.canvas.width/mpl.ratio\n",
       "    fig.root.unbind('remove')\n",
       "\n",
       "    // Update the output cell to use the data from the current canvas.\n",
       "    fig.push_to_output();\n",
       "    var dataURL = fig.canvas.toDataURL();\n",
       "    // Re-enable the keyboard manager in IPython - without this line, in FF,\n",
       "    // the notebook keyboard shortcuts fail.\n",
       "    IPython.keyboard_manager.enable()\n",
       "    $(fig.parent_element).html('<img src=\"' + dataURL + '\" width=\"' + width + '\">');\n",
       "    fig.close_ws(fig, msg);\n",
       "}\n",
       "\n",
       "mpl.figure.prototype.close_ws = function(fig, msg){\n",
       "    fig.send_message('closing', msg);\n",
       "    // fig.ws.close()\n",
       "}\n",
       "\n",
       "mpl.figure.prototype.push_to_output = function(remove_interactive) {\n",
       "    // Turn the data on the canvas into data in the output cell.\n",
       "    var width = this.canvas.width/mpl.ratio\n",
       "    var dataURL = this.canvas.toDataURL();\n",
       "    this.cell_info[1]['text/html'] = '<img src=\"' + dataURL + '\" width=\"' + width + '\">';\n",
       "}\n",
       "\n",
       "mpl.figure.prototype.updated_canvas_event = function() {\n",
       "    // Tell IPython that the notebook contents must change.\n",
       "    IPython.notebook.set_dirty(true);\n",
       "    this.send_message(\"ack\", {});\n",
       "    var fig = this;\n",
       "    // Wait a second, then push the new image to the DOM so\n",
       "    // that it is saved nicely (might be nice to debounce this).\n",
       "    setTimeout(function () { fig.push_to_output() }, 1000);\n",
       "}\n",
       "\n",
       "mpl.figure.prototype._init_toolbar = function() {\n",
       "    var fig = this;\n",
       "\n",
       "    var nav_element = $('<div/>');\n",
       "    nav_element.attr('style', 'width: 100%');\n",
       "    this.root.append(nav_element);\n",
       "\n",
       "    // Define a callback function for later on.\n",
       "    function toolbar_event(event) {\n",
       "        return fig.toolbar_button_onclick(event['data']);\n",
       "    }\n",
       "    function toolbar_mouse_event(event) {\n",
       "        return fig.toolbar_button_onmouseover(event['data']);\n",
       "    }\n",
       "\n",
       "    for(var toolbar_ind in mpl.toolbar_items){\n",
       "        var name = mpl.toolbar_items[toolbar_ind][0];\n",
       "        var tooltip = mpl.toolbar_items[toolbar_ind][1];\n",
       "        var image = mpl.toolbar_items[toolbar_ind][2];\n",
       "        var method_name = mpl.toolbar_items[toolbar_ind][3];\n",
       "\n",
       "        if (!name) { continue; };\n",
       "\n",
       "        var button = $('<button class=\"btn btn-default\" href=\"#\" title=\"' + name + '\"><i class=\"fa ' + image + ' fa-lg\"></i></button>');\n",
       "        button.click(method_name, toolbar_event);\n",
       "        button.mouseover(tooltip, toolbar_mouse_event);\n",
       "        nav_element.append(button);\n",
       "    }\n",
       "\n",
       "    // Add the status bar.\n",
       "    var status_bar = $('<span class=\"mpl-message\" style=\"text-align:right; float: right;\"/>');\n",
       "    nav_element.append(status_bar);\n",
       "    this.message = status_bar[0];\n",
       "\n",
       "    // Add the close button to the window.\n",
       "    var buttongrp = $('<div class=\"btn-group inline pull-right\"></div>');\n",
       "    var button = $('<button class=\"btn btn-mini btn-primary\" href=\"#\" title=\"Stop Interaction\"><i class=\"fa fa-power-off icon-remove icon-large\"></i></button>');\n",
       "    button.click(function (evt) { fig.handle_close(fig, {}); } );\n",
       "    button.mouseover('Stop Interaction', toolbar_mouse_event);\n",
       "    buttongrp.append(button);\n",
       "    var titlebar = this.root.find($('.ui-dialog-titlebar'));\n",
       "    titlebar.prepend(buttongrp);\n",
       "}\n",
       "\n",
       "mpl.figure.prototype._root_extra_style = function(el){\n",
       "    var fig = this\n",
       "    el.on(\"remove\", function(){\n",
       "\tfig.close_ws(fig, {});\n",
       "    });\n",
       "}\n",
       "\n",
       "mpl.figure.prototype._canvas_extra_style = function(el){\n",
       "    // this is important to make the div 'focusable\n",
       "    el.attr('tabindex', 0)\n",
       "    // reach out to IPython and tell the keyboard manager to turn it's self\n",
       "    // off when our div gets focus\n",
       "\n",
       "    // location in version 3\n",
       "    if (IPython.notebook.keyboard_manager) {\n",
       "        IPython.notebook.keyboard_manager.register_events(el);\n",
       "    }\n",
       "    else {\n",
       "        // location in version 2\n",
       "        IPython.keyboard_manager.register_events(el);\n",
       "    }\n",
       "\n",
       "}\n",
       "\n",
       "mpl.figure.prototype._key_event_extra = function(event, name) {\n",
       "    var manager = IPython.notebook.keyboard_manager;\n",
       "    if (!manager)\n",
       "        manager = IPython.keyboard_manager;\n",
       "\n",
       "    // Check for shift+enter\n",
       "    if (event.shiftKey && event.which == 13) {\n",
       "        this.canvas_div.blur();\n",
       "        // select the cell after this one\n",
       "        var index = IPython.notebook.find_cell_index(this.cell_info[0]);\n",
       "        IPython.notebook.select(index + 1);\n",
       "    }\n",
       "}\n",
       "\n",
       "mpl.figure.prototype.handle_save = function(fig, msg) {\n",
       "    fig.ondownload(fig, null);\n",
       "}\n",
       "\n",
       "\n",
       "mpl.find_output_cell = function(html_output) {\n",
       "    // Return the cell and output element which can be found *uniquely* in the notebook.\n",
       "    // Note - this is a bit hacky, but it is done because the \"notebook_saving.Notebook\"\n",
       "    // IPython event is triggered only after the cells have been serialised, which for\n",
       "    // our purposes (turning an active figure into a static one), is too late.\n",
       "    var cells = IPython.notebook.get_cells();\n",
       "    var ncells = cells.length;\n",
       "    for (var i=0; i<ncells; i++) {\n",
       "        var cell = cells[i];\n",
       "        if (cell.cell_type === 'code'){\n",
       "            for (var j=0; j<cell.output_area.outputs.length; j++) {\n",
       "                var data = cell.output_area.outputs[j];\n",
       "                if (data.data) {\n",
       "                    // IPython >= 3 moved mimebundle to data attribute of output\n",
       "                    data = data.data;\n",
       "                }\n",
       "                if (data['text/html'] == html_output) {\n",
       "                    return [cell, data, j];\n",
       "                }\n",
       "            }\n",
       "        }\n",
       "    }\n",
       "}\n",
       "\n",
       "// Register the function which deals with the matplotlib target/channel.\n",
       "// The kernel may be null if the page has been refreshed.\n",
       "if (IPython.notebook.kernel != null) {\n",
       "    IPython.notebook.kernel.comm_manager.register_target('matplotlib', mpl.mpl_figure_comm);\n",
       "}\n"
      ],
      "text/plain": [
       "<IPython.core.display.Javascript object>"
      ]
     },
     "metadata": {},
     "output_type": "display_data"
    },
    {
     "data": {
      "text/html": [
       "<img src=\"data:image/png;base64,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\" width=\"1000\">"
      ],
      "text/plain": [
       "<IPython.core.display.HTML object>"
      ]
     },
     "metadata": {},
     "output_type": "display_data"
    }
   ],
   "source": [
    "ax, tax, lax, lines = dual_train_plots()\n",
    "fig = ax.figure\n",
    "plt.tight_layout()\n",
    "# This gets built up during the run - do not rerun this cell\n",
    "results = pd.DataFrame([], columns=Results._fields)"
   ]
  },
  {
   "cell_type": "code",
   "execution_count": 12,
   "metadata": {
    "scrolled": true
   },
   "outputs": [
    {
     "name": "stdout",
     "output_type": "stream",
     "text": [
      "for model:  SimpleCNN7Layer_Ca_Y(\n",
      "  (conv1): Conv1d(1, 20, kernel_size=(25,), stride=(1,), padding=(12,))\n",
      "  (conv2): Conv1d(20, 10, kernel_size=(15,), stride=(1,), padding=(7,))\n",
      "  (conv3): Conv1d(30, 10, kernel_size=(15,), stride=(1,), padding=(7,))\n",
      "  (conv4): Conv1d(40, 10, kernel_size=(15,), stride=(1,), padding=(7,))\n",
      "  (conv5): Conv1d(50, 10, kernel_size=(15,), stride=(1,), padding=(7,))\n",
      "  (conv6): Conv1d(60, 10, kernel_size=(15,), stride=(1,), padding=(7,))\n",
      "  (conv7): Conv1d(70, 1, kernel_size=(5,), stride=(1,), padding=(2,))\n",
      "  (conv1dropout): Dropout(p=0.15, inplace=False)\n",
      "  (conv2dropout): Dropout(p=0.15, inplace=False)\n",
      "  (conv3dropout): Dropout(p=0.15, inplace=False)\n",
      "  (conv4dropout): Dropout(p=0.15, inplace=False)\n",
      "  (conv5dropout): Dropout(p=0.15, inplace=False)\n",
      "  (conv6dropout): Dropout(p=0.15, inplace=False)\n",
      "  (conv7dropout): Dropout(p=0.35, inplace=False)\n",
      "  (fc1): Linear(in_features=4000, out_features=4000, bias=True)\n",
      ")\n",
      "epoch_start 20\n",
      "batch_size 128\n",
      "epochs 200\n",
      "lr 0.001\n",
      "Number of batches: train = 1250, val = 78\n"
     ]
    },
    {
     "name": "stderr",
     "output_type": "stream",
     "text": [
      "/home/michael24peters/pv-finder_experimental/notebooks/model/training.py:95: TqdmDeprecationWarning: This function will be removed in tqdm==5.0.0\n",
      "Please use `tqdm.notebook.tqdm` instead of `tqdm.tqdm_notebook`\n",
      "  file=sys.stderr,\n"
     ]
    },
    {
     "data": {
      "application/vnd.jupyter.widget-view+json": {
       "model_id": "c49cbd2fa6e44569b3cbb793b86677aa",
       "version_major": 2,
       "version_minor": 0
      },
      "text/plain": [
       "HBox(children=(FloatProgress(value=0.0, description='Epochs', layout=Layout(flex='2'), max=200.0, style=Progre…"
      ]
     },
     "metadata": {},
     "output_type": "display_data"
    },
    {
     "data": {
      "application/vnd.jupyter.widget-view+json": {
       "model_id": "",
       "version_major": 2,
       "version_minor": 0
      },
      "text/plain": [
       "HBox(children=(FloatProgress(value=0.0, description='Training', layout=Layout(flex='2'), max=1250.0, style=Pro…"
      ]
     },
     "metadata": {},
     "output_type": "display_data"
    },
    {
     "name": "stdout",
     "output_type": "stream",
     "text": [
      "Epoch 20: train=30.4163, val=15.686, took 67.501 s\n",
      "  Validation Found 43162 of 54504, added 792 (eff 79.19%) (0.0793 FP/event)\n",
      "Result epoch:  20\n",
      "Average Eff:  0.0\n",
      "Average FP Rate:  0.0\n"
     ]
    },
    {
     "data": {
      "application/vnd.jupyter.widget-view+json": {
       "model_id": "",
       "version_major": 2,
       "version_minor": 0
      },
      "text/plain": [
       "HBox(children=(FloatProgress(value=0.0, description='Training', layout=Layout(flex='2'), max=1250.0, style=Pro…"
      ]
     },
     "metadata": {},
     "output_type": "display_data"
    },
    {
     "name": "stdout",
     "output_type": "stream",
     "text": [
      "Epoch 21: train=16.5594, val=13.1858, took 67.191 s\n",
      "  Validation Found 46432 of 54504, added 1118 (eff 85.19%) (0.112 FP/event)\n",
      "Result epoch:  21\n",
      "Average Eff:  0.0\n",
      "Average FP Rate:  0.0\n"
     ]
    },
    {
     "data": {
      "application/vnd.jupyter.widget-view+json": {
       "model_id": "",
       "version_major": 2,
       "version_minor": 0
      },
      "text/plain": [
       "HBox(children=(FloatProgress(value=0.0, description='Training', layout=Layout(flex='2'), max=1250.0, style=Pro…"
      ]
     },
     "metadata": {},
     "output_type": "display_data"
    },
    {
     "name": "stdout",
     "output_type": "stream",
     "text": [
      "Epoch 22: train=14.8292, val=12.636, took 67.027 s\n",
      "  Validation Found 47426 of 54504, added 1240 (eff 87.01%) (0.124 FP/event)\n",
      "Result epoch:  22\n",
      "Average Eff:  0.0\n",
      "Average FP Rate:  0.0\n"
     ]
    },
    {
     "data": {
      "application/vnd.jupyter.widget-view+json": {
       "model_id": "",
       "version_major": 2,
       "version_minor": 0
      },
      "text/plain": [
       "HBox(children=(FloatProgress(value=0.0, description='Training', layout=Layout(flex='2'), max=1250.0, style=Pro…"
      ]
     },
     "metadata": {},
     "output_type": "display_data"
    },
    {
     "name": "stdout",
     "output_type": "stream",
     "text": [
      "Epoch 23: train=13.6908, val=12.3493, took 67.11 s\n",
      "  Validation Found 47322 of 54504, added 916 (eff 86.82%) (0.0917 FP/event)\n",
      "Result epoch:  23\n",
      "Average Eff:  0.0\n",
      "Average FP Rate:  0.0\n"
     ]
    },
    {
     "data": {
      "application/vnd.jupyter.widget-view+json": {
       "model_id": "",
       "version_major": 2,
       "version_minor": 0
      },
      "text/plain": [
       "HBox(children=(FloatProgress(value=0.0, description='Training', layout=Layout(flex='2'), max=1250.0, style=Pro…"
      ]
     },
     "metadata": {},
     "output_type": "display_data"
    },
    {
     "name": "stdout",
     "output_type": "stream",
     "text": [
      "Epoch 24: train=13.0594, val=11.8314, took 67.173 s\n",
      "  Validation Found 48512 of 54504, added 1444 (eff 89.01%) (0.145 FP/event)\n",
      "Result epoch:  24\n",
      "Average Eff:  0.0\n",
      "Average FP Rate:  0.0\n"
     ]
    },
    {
     "data": {
      "application/vnd.jupyter.widget-view+json": {
       "model_id": "",
       "version_major": 2,
       "version_minor": 0
      },
      "text/plain": [
       "HBox(children=(FloatProgress(value=0.0, description='Training', layout=Layout(flex='2'), max=1250.0, style=Pro…"
      ]
     },
     "metadata": {},
     "output_type": "display_data"
    },
    {
     "name": "stdout",
     "output_type": "stream",
     "text": [
      "Epoch 25: train=12.656, val=11.3923, took 67.0 s\n",
      "  Validation Found 48542 of 54504, added 1354 (eff 89.06%) (0.136 FP/event)\n",
      "Result epoch:  25\n",
      "Average Eff:  0.0\n",
      "Average FP Rate:  0.0\n"
     ]
    },
    {
     "data": {
      "application/vnd.jupyter.widget-view+json": {
       "model_id": "",
       "version_major": 2,
       "version_minor": 0
      },
      "text/plain": [
       "HBox(children=(FloatProgress(value=0.0, description='Training', layout=Layout(flex='2'), max=1250.0, style=Pro…"
      ]
     },
     "metadata": {},
     "output_type": "display_data"
    },
    {
     "name": "stdout",
     "output_type": "stream",
     "text": [
      "Epoch 26: train=12.3458, val=11.4032, took 66.964 s\n",
      "  Validation Found 48438 of 54504, added 1110 (eff 88.87%) (0.111 FP/event)\n",
      "Result epoch:  26\n",
      "Average Eff:  0.0\n",
      "Average FP Rate:  0.0\n"
     ]
    },
    {
     "data": {
      "application/vnd.jupyter.widget-view+json": {
       "model_id": "",
       "version_major": 2,
       "version_minor": 0
      },
      "text/plain": [
       "HBox(children=(FloatProgress(value=0.0, description='Training', layout=Layout(flex='2'), max=1250.0, style=Pro…"
      ]
     },
     "metadata": {},
     "output_type": "display_data"
    },
    {
     "name": "stdout",
     "output_type": "stream",
     "text": [
      "Epoch 27: train=12.0932, val=11.0076, took 66.971 s\n",
      "  Validation Found 49078 of 54504, added 1490 (eff 90.04%) (0.149 FP/event)\n",
      "Result epoch:  27\n",
      "Average Eff:  0.0\n",
      "Average FP Rate:  0.0\n"
     ]
    },
    {
     "data": {
      "application/vnd.jupyter.widget-view+json": {
       "model_id": "",
       "version_major": 2,
       "version_minor": 0
      },
      "text/plain": [
       "HBox(children=(FloatProgress(value=0.0, description='Training', layout=Layout(flex='2'), max=1250.0, style=Pro…"
      ]
     },
     "metadata": {},
     "output_type": "display_data"
    },
    {
     "name": "stdout",
     "output_type": "stream",
     "text": [
      "Epoch 28: train=11.8782, val=10.8369, took 67.049 s\n",
      "  Validation Found 49412 of 54504, added 1700 (eff 90.66%) (0.17 FP/event)\n",
      "Result epoch:  28\n",
      "Average Eff:  0.0\n",
      "Average FP Rate:  0.0\n"
     ]
    },
    {
     "data": {
      "application/vnd.jupyter.widget-view+json": {
       "model_id": "",
       "version_major": 2,
       "version_minor": 0
      },
      "text/plain": [
       "HBox(children=(FloatProgress(value=0.0, description='Training', layout=Layout(flex='2'), max=1250.0, style=Pro…"
      ]
     },
     "metadata": {},
     "output_type": "display_data"
    },
    {
     "name": "stdout",
     "output_type": "stream",
     "text": [
      "Epoch 29: train=11.7003, val=10.8331, took 67.019 s\n",
      "  Validation Found 48843 of 54504, added 1154 (eff 89.61%) (0.116 FP/event)\n",
      "Result epoch:  29\n",
      "Average Eff:  0.0\n",
      "Average FP Rate:  0.0\n"
     ]
    },
    {
     "data": {
      "application/vnd.jupyter.widget-view+json": {
       "model_id": "",
       "version_major": 2,
       "version_minor": 0
      },
      "text/plain": [
       "HBox(children=(FloatProgress(value=0.0, description='Training', layout=Layout(flex='2'), max=1250.0, style=Pro…"
      ]
     },
     "metadata": {},
     "output_type": "display_data"
    },
    {
     "name": "stdout",
     "output_type": "stream",
     "text": [
      "Epoch 30: train=11.5304, val=10.5781, took 67.031 s\n",
      "  Validation Found 48956 of 54504, added 1073 (eff 89.82%) (0.107 FP/event)\n",
      "Result epoch:  30\n",
      "Average Eff:  0.0\n",
      "Average FP Rate:  0.0\n"
     ]
    },
    {
     "data": {
      "application/vnd.jupyter.widget-view+json": {
       "model_id": "",
       "version_major": 2,
       "version_minor": 0
      },
      "text/plain": [
       "HBox(children=(FloatProgress(value=0.0, description='Training', layout=Layout(flex='2'), max=1250.0, style=Pro…"
      ]
     },
     "metadata": {},
     "output_type": "display_data"
    },
    {
     "name": "stdout",
     "output_type": "stream",
     "text": [
      "Epoch 31: train=11.4036, val=10.4722, took 67.509 s\n",
      "  Validation Found 49450 of 54504, added 1457 (eff 90.73%) (0.146 FP/event)\n",
      "Result epoch:  31\n",
      "Average Eff:  0.0\n",
      "Average FP Rate:  0.0\n"
     ]
    },
    {
     "data": {
      "application/vnd.jupyter.widget-view+json": {
       "model_id": "",
       "version_major": 2,
       "version_minor": 0
      },
      "text/plain": [
       "HBox(children=(FloatProgress(value=0.0, description='Training', layout=Layout(flex='2'), max=1250.0, style=Pro…"
      ]
     },
     "metadata": {},
     "output_type": "display_data"
    },
    {
     "name": "stdout",
     "output_type": "stream",
     "text": [
      "Epoch 32: train=11.283, val=10.7049, took 67.078 s\n",
      "  Validation Found 48991 of 54504, added 1050 (eff 89.89%) (0.105 FP/event)\n",
      "Result epoch:  32\n",
      "Average Eff:  0.0\n",
      "Average FP Rate:  0.0\n"
     ]
    },
    {
     "data": {
      "application/vnd.jupyter.widget-view+json": {
       "model_id": "",
       "version_major": 2,
       "version_minor": 0
      },
      "text/plain": [
       "HBox(children=(FloatProgress(value=0.0, description='Training', layout=Layout(flex='2'), max=1250.0, style=Pro…"
      ]
     },
     "metadata": {},
     "output_type": "display_data"
    },
    {
     "name": "stdout",
     "output_type": "stream",
     "text": [
      "Epoch 33: train=11.1753, val=10.252, took 67.01 s\n",
      "  Validation Found 49454 of 54504, added 1225 (eff 90.73%) (0.123 FP/event)\n",
      "Result epoch:  33\n",
      "Average Eff:  0.0\n",
      "Average FP Rate:  0.0\n"
     ]
    },
    {
     "data": {
      "application/vnd.jupyter.widget-view+json": {
       "model_id": "",
       "version_major": 2,
       "version_minor": 0
      },
      "text/plain": [
       "HBox(children=(FloatProgress(value=0.0, description='Training', layout=Layout(flex='2'), max=1250.0, style=Pro…"
      ]
     },
     "metadata": {},
     "output_type": "display_data"
    },
    {
     "name": "stdout",
     "output_type": "stream",
     "text": [
      "Epoch 34: train=11.0931, val=10.8815, took 67.003 s\n",
      "  Validation Found 48485 of 54504, added 818 (eff 88.96%) (0.0819 FP/event)\n",
      "Result epoch:  34\n",
      "Average Eff:  0.0\n",
      "Average FP Rate:  0.0\n"
     ]
    },
    {
     "data": {
      "application/vnd.jupyter.widget-view+json": {
       "model_id": "",
       "version_major": 2,
       "version_minor": 0
      },
      "text/plain": [
       "HBox(children=(FloatProgress(value=0.0, description='Training', layout=Layout(flex='2'), max=1250.0, style=Pro…"
      ]
     },
     "metadata": {},
     "output_type": "display_data"
    },
    {
     "name": "stdout",
     "output_type": "stream",
     "text": [
      "Epoch 35: train=11.0253, val=10.3194, took 66.992 s\n",
      "  Validation Found 49562 of 54504, added 1248 (eff 90.93%) (0.125 FP/event)\n",
      "Result epoch:  35\n",
      "Average Eff:  0.0\n",
      "Average FP Rate:  0.0\n"
     ]
    },
    {
     "data": {
      "application/vnd.jupyter.widget-view+json": {
       "model_id": "",
       "version_major": 2,
       "version_minor": 0
      },
      "text/plain": [
       "HBox(children=(FloatProgress(value=0.0, description='Training', layout=Layout(flex='2'), max=1250.0, style=Pro…"
      ]
     },
     "metadata": {},
     "output_type": "display_data"
    },
    {
     "name": "stdout",
     "output_type": "stream",
     "text": [
      "Epoch 36: train=10.9541, val=10.1272, took 66.952 s\n",
      "  Validation Found 49541 of 54504, added 1212 (eff 90.89%) (0.121 FP/event)\n",
      "Result epoch:  36\n",
      "Average Eff:  0.0\n",
      "Average FP Rate:  0.0\n"
     ]
    },
    {
     "data": {
      "application/vnd.jupyter.widget-view+json": {
       "model_id": "",
       "version_major": 2,
       "version_minor": 0
      },
      "text/plain": [
       "HBox(children=(FloatProgress(value=0.0, description='Training', layout=Layout(flex='2'), max=1250.0, style=Pro…"
      ]
     },
     "metadata": {},
     "output_type": "display_data"
    },
    {
     "name": "stdout",
     "output_type": "stream",
     "text": [
      "Epoch 37: train=10.8907, val=10.177, took 66.952 s\n",
      "  Validation Found 49356 of 54504, added 1116 (eff 90.55%) (0.112 FP/event)\n",
      "Result epoch:  37\n",
      "Average Eff:  0.0\n",
      "Average FP Rate:  0.0\n"
     ]
    },
    {
     "data": {
      "application/vnd.jupyter.widget-view+json": {
       "model_id": "",
       "version_major": 2,
       "version_minor": 0
      },
      "text/plain": [
       "HBox(children=(FloatProgress(value=0.0, description='Training', layout=Layout(flex='2'), max=1250.0, style=Pro…"
      ]
     },
     "metadata": {},
     "output_type": "display_data"
    },
    {
     "name": "stdout",
     "output_type": "stream",
     "text": [
      "Epoch 38: train=10.833, val=10.3355, took 66.956 s\n",
      "  Validation Found 49284 of 54504, added 1059 (eff 90.42%) (0.106 FP/event)\n",
      "Result epoch:  38\n",
      "Average Eff:  0.0\n",
      "Average FP Rate:  0.0\n"
     ]
    },
    {
     "data": {
      "application/vnd.jupyter.widget-view+json": {
       "model_id": "",
       "version_major": 2,
       "version_minor": 0
      },
      "text/plain": [
       "HBox(children=(FloatProgress(value=0.0, description='Training', layout=Layout(flex='2'), max=1250.0, style=Pro…"
      ]
     },
     "metadata": {},
     "output_type": "display_data"
    },
    {
     "name": "stdout",
     "output_type": "stream",
     "text": [
      "Epoch 39: train=10.7911, val=9.97759, took 66.965 s\n",
      "  Validation Found 49667 of 54504, added 1310 (eff 91.13%) (0.131 FP/event)\n",
      "Result epoch:  39\n",
      "Average Eff:  0.0\n",
      "Average FP Rate:  0.0\n"
     ]
    },
    {
     "data": {
      "application/vnd.jupyter.widget-view+json": {
       "model_id": "",
       "version_major": 2,
       "version_minor": 0
      },
      "text/plain": [
       "HBox(children=(FloatProgress(value=0.0, description='Training', layout=Layout(flex='2'), max=1250.0, style=Pro…"
      ]
     },
     "metadata": {},
     "output_type": "display_data"
    },
    {
     "name": "stdout",
     "output_type": "stream",
     "text": [
      "Epoch 40: train=10.7505, val=9.96485, took 66.965 s\n",
      "  Validation Found 49607 of 54504, added 1209 (eff 91.02%) (0.121 FP/event)\n",
      "Result epoch:  40\n",
      "Average Eff:  0.0\n",
      "Average FP Rate:  0.0\n"
     ]
    },
    {
     "data": {
      "application/vnd.jupyter.widget-view+json": {
       "model_id": "",
       "version_major": 2,
       "version_minor": 0
      },
      "text/plain": [
       "HBox(children=(FloatProgress(value=0.0, description='Training', layout=Layout(flex='2'), max=1250.0, style=Pro…"
      ]
     },
     "metadata": {},
     "output_type": "display_data"
    },
    {
     "name": "stdout",
     "output_type": "stream",
     "text": [
      "Epoch 41: train=10.6994, val=10.2607, took 66.973 s\n",
      "  Validation Found 49387 of 54504, added 1239 (eff 90.61%) (0.124 FP/event)\n",
      "Result epoch:  41\n",
      "Average Eff:  0.0\n",
      "Average FP Rate:  0.0\n"
     ]
    },
    {
     "data": {
      "application/vnd.jupyter.widget-view+json": {
       "model_id": "",
       "version_major": 2,
       "version_minor": 0
      },
      "text/plain": [
       "HBox(children=(FloatProgress(value=0.0, description='Training', layout=Layout(flex='2'), max=1250.0, style=Pro…"
      ]
     },
     "metadata": {},
     "output_type": "display_data"
    },
    {
     "name": "stdout",
     "output_type": "stream",
     "text": [
      "Epoch 42: train=10.6644, val=10.1692, took 66.948 s\n",
      "  Validation Found 49351 of 54504, added 1016 (eff 90.55%) (0.102 FP/event)\n",
      "Result epoch:  42\n",
      "Average Eff:  0.0\n",
      "Average FP Rate:  0.0\n"
     ]
    },
    {
     "data": {
      "application/vnd.jupyter.widget-view+json": {
       "model_id": "",
       "version_major": 2,
       "version_minor": 0
      },
      "text/plain": [
       "HBox(children=(FloatProgress(value=0.0, description='Training', layout=Layout(flex='2'), max=1250.0, style=Pro…"
      ]
     },
     "metadata": {},
     "output_type": "display_data"
    },
    {
     "name": "stdout",
     "output_type": "stream",
     "text": [
      "Epoch 43: train=10.6233, val=10.1464, took 67.086 s\n",
      "  Validation Found 49409 of 54504, added 1054 (eff 90.65%) (0.106 FP/event)\n",
      "Result epoch:  43\n",
      "Average Eff:  0.0\n",
      "Average FP Rate:  0.0\n"
     ]
    },
    {
     "data": {
      "application/vnd.jupyter.widget-view+json": {
       "model_id": "",
       "version_major": 2,
       "version_minor": 0
      },
      "text/plain": [
       "HBox(children=(FloatProgress(value=0.0, description='Training', layout=Layout(flex='2'), max=1250.0, style=Pro…"
      ]
     },
     "metadata": {},
     "output_type": "display_data"
    },
    {
     "name": "stdout",
     "output_type": "stream",
     "text": [
      "Epoch 44: train=10.6075, val=10.2505, took 66.985 s\n",
      "  Validation Found 49150 of 54504, added 967 (eff 90.18%) (0.0968 FP/event)\n",
      "Result epoch:  44\n",
      "Average Eff:  0.0\n",
      "Average FP Rate:  0.0\n"
     ]
    },
    {
     "data": {
      "application/vnd.jupyter.widget-view+json": {
       "model_id": "",
       "version_major": 2,
       "version_minor": 0
      },
      "text/plain": [
       "HBox(children=(FloatProgress(value=0.0, description='Training', layout=Layout(flex='2'), max=1250.0, style=Pro…"
      ]
     },
     "metadata": {},
     "output_type": "display_data"
    },
    {
     "name": "stdout",
     "output_type": "stream",
     "text": [
      "Epoch 45: train=10.5639, val=10.2559, took 67.022 s\n",
      "  Validation Found 49307 of 54504, added 999 (eff 90.46%) (0.1 FP/event)\n",
      "Result epoch:  45\n",
      "Average Eff:  0.0\n",
      "Average FP Rate:  0.0\n"
     ]
    },
    {
     "data": {
      "application/vnd.jupyter.widget-view+json": {
       "model_id": "",
       "version_major": 2,
       "version_minor": 0
      },
      "text/plain": [
       "HBox(children=(FloatProgress(value=0.0, description='Training', layout=Layout(flex='2'), max=1250.0, style=Pro…"
      ]
     },
     "metadata": {},
     "output_type": "display_data"
    },
    {
     "name": "stdout",
     "output_type": "stream",
     "text": [
      "Epoch 46: train=10.5403, val=9.95947, took 67.018 s\n",
      "  Validation Found 49622 of 54504, added 1173 (eff 91.04%) (0.117 FP/event)\n",
      "Result epoch:  46\n",
      "Average Eff:  0.0\n",
      "Average FP Rate:  0.0\n"
     ]
    },
    {
     "data": {
      "application/vnd.jupyter.widget-view+json": {
       "model_id": "",
       "version_major": 2,
       "version_minor": 0
      },
      "text/plain": [
       "HBox(children=(FloatProgress(value=0.0, description='Training', layout=Layout(flex='2'), max=1250.0, style=Pro…"
      ]
     },
     "metadata": {},
     "output_type": "display_data"
    },
    {
     "name": "stdout",
     "output_type": "stream",
     "text": [
      "Epoch 47: train=10.504, val=9.82566, took 66.931 s\n",
      "  Validation Found 49982 of 54504, added 1526 (eff 91.70%) (0.153 FP/event)\n",
      "Result epoch:  47\n",
      "Average Eff:  0.0\n",
      "Average FP Rate:  0.0\n"
     ]
    },
    {
     "data": {
      "application/vnd.jupyter.widget-view+json": {
       "model_id": "",
       "version_major": 2,
       "version_minor": 0
      },
      "text/plain": [
       "HBox(children=(FloatProgress(value=0.0, description='Training', layout=Layout(flex='2'), max=1250.0, style=Pro…"
      ]
     },
     "metadata": {},
     "output_type": "display_data"
    },
    {
     "name": "stdout",
     "output_type": "stream",
     "text": [
      "Epoch 48: train=10.4787, val=9.90565, took 67.017 s\n",
      "  Validation Found 49324 of 54504, added 1007 (eff 90.50%) (0.101 FP/event)\n",
      "Result epoch:  48\n",
      "Average Eff:  0.0\n",
      "Average FP Rate:  0.0\n"
     ]
    },
    {
     "data": {
      "application/vnd.jupyter.widget-view+json": {
       "model_id": "",
       "version_major": 2,
       "version_minor": 0
      },
      "text/plain": [
       "HBox(children=(FloatProgress(value=0.0, description='Training', layout=Layout(flex='2'), max=1250.0, style=Pro…"
      ]
     },
     "metadata": {},
     "output_type": "display_data"
    },
    {
     "name": "stdout",
     "output_type": "stream",
     "text": [
      "Epoch 49: train=10.4511, val=9.78383, took 67.022 s\n",
      "  Validation Found 49483 of 54504, added 1045 (eff 90.79%) (0.105 FP/event)\n",
      "Result epoch:  49\n",
      "Average Eff:  0.0\n",
      "Average FP Rate:  0.0\n"
     ]
    },
    {
     "data": {
      "application/vnd.jupyter.widget-view+json": {
       "model_id": "",
       "version_major": 2,
       "version_minor": 0
      },
      "text/plain": [
       "HBox(children=(FloatProgress(value=0.0, description='Training', layout=Layout(flex='2'), max=1250.0, style=Pro…"
      ]
     },
     "metadata": {},
     "output_type": "display_data"
    },
    {
     "name": "stdout",
     "output_type": "stream",
     "text": [
      "Epoch 50: train=10.4345, val=9.99226, took 67.205 s\n",
      "  Validation Found 49300 of 54504, added 978 (eff 90.45%) (0.0979 FP/event)\n",
      "Result epoch:  50\n",
      "Average Eff:  0.0\n",
      "Average FP Rate:  0.0\n"
     ]
    },
    {
     "data": {
      "application/vnd.jupyter.widget-view+json": {
       "model_id": "",
       "version_major": 2,
       "version_minor": 0
      },
      "text/plain": [
       "HBox(children=(FloatProgress(value=0.0, description='Training', layout=Layout(flex='2'), max=1250.0, style=Pro…"
      ]
     },
     "metadata": {},
     "output_type": "display_data"
    },
    {
     "name": "stdout",
     "output_type": "stream",
     "text": [
      "Epoch 51: train=10.416, val=9.80447, took 66.987 s\n",
      "  Validation Found 49369 of 54504, added 1042 (eff 90.58%) (0.104 FP/event)\n",
      "Result epoch:  51\n",
      "Average Eff:  0.0\n",
      "Average FP Rate:  0.0\n"
     ]
    },
    {
     "data": {
      "application/vnd.jupyter.widget-view+json": {
       "model_id": "",
       "version_major": 2,
       "version_minor": 0
      },
      "text/plain": [
       "HBox(children=(FloatProgress(value=0.0, description='Training', layout=Layout(flex='2'), max=1250.0, style=Pro…"
      ]
     },
     "metadata": {},
     "output_type": "display_data"
    },
    {
     "name": "stdout",
     "output_type": "stream",
     "text": [
      "Epoch 52: train=10.3858, val=9.77508, took 67.027 s\n",
      "  Validation Found 49766 of 54504, added 1224 (eff 91.31%) (0.123 FP/event)\n",
      "Result epoch:  52\n",
      "Average Eff:  0.0\n",
      "Average FP Rate:  0.0\n"
     ]
    },
    {
     "data": {
      "application/vnd.jupyter.widget-view+json": {
       "model_id": "",
       "version_major": 2,
       "version_minor": 0
      },
      "text/plain": [
       "HBox(children=(FloatProgress(value=0.0, description='Training', layout=Layout(flex='2'), max=1250.0, style=Pro…"
      ]
     },
     "metadata": {},
     "output_type": "display_data"
    },
    {
     "name": "stdout",
     "output_type": "stream",
     "text": [
      "Epoch 53: train=10.3744, val=9.85339, took 66.966 s\n",
      "  Validation Found 49800 of 54504, added 1224 (eff 91.37%) (0.123 FP/event)\n",
      "Result epoch:  53\n",
      "Average Eff:  0.0\n",
      "Average FP Rate:  0.0\n"
     ]
    },
    {
     "data": {
      "application/vnd.jupyter.widget-view+json": {
       "model_id": "",
       "version_major": 2,
       "version_minor": 0
      },
      "text/plain": [
       "HBox(children=(FloatProgress(value=0.0, description='Training', layout=Layout(flex='2'), max=1250.0, style=Pro…"
      ]
     },
     "metadata": {},
     "output_type": "display_data"
    },
    {
     "name": "stdout",
     "output_type": "stream",
     "text": [
      "Epoch 54: train=10.3472, val=9.84171, took 66.919 s\n",
      "  Validation Found 49536 of 54504, added 1045 (eff 90.89%) (0.105 FP/event)\n",
      "Result epoch:  54\n",
      "Average Eff:  0.0\n",
      "Average FP Rate:  0.0\n"
     ]
    },
    {
     "data": {
      "application/vnd.jupyter.widget-view+json": {
       "model_id": "",
       "version_major": 2,
       "version_minor": 0
      },
      "text/plain": [
       "HBox(children=(FloatProgress(value=0.0, description='Training', layout=Layout(flex='2'), max=1250.0, style=Pro…"
      ]
     },
     "metadata": {},
     "output_type": "display_data"
    },
    {
     "name": "stdout",
     "output_type": "stream",
     "text": [
      "Epoch 55: train=10.3347, val=10.2405, took 66.938 s\n",
      "  Validation Found 49249 of 54504, added 1025 (eff 90.36%) (0.103 FP/event)\n",
      "Result epoch:  55\n",
      "Average Eff:  0.0\n",
      "Average FP Rate:  0.0\n"
     ]
    },
    {
     "data": {
      "application/vnd.jupyter.widget-view+json": {
       "model_id": "",
       "version_major": 2,
       "version_minor": 0
      },
      "text/plain": [
       "HBox(children=(FloatProgress(value=0.0, description='Training', layout=Layout(flex='2'), max=1250.0, style=Pro…"
      ]
     },
     "metadata": {},
     "output_type": "display_data"
    },
    {
     "name": "stdout",
     "output_type": "stream",
     "text": [
      "Epoch 56: train=10.3223, val=9.74829, took 66.954 s\n",
      "  Validation Found 49755 of 54504, added 1195 (eff 91.29%) (0.12 FP/event)\n",
      "Result epoch:  56\n",
      "Average Eff:  0.0\n",
      "Average FP Rate:  0.0\n"
     ]
    },
    {
     "data": {
      "application/vnd.jupyter.widget-view+json": {
       "model_id": "",
       "version_major": 2,
       "version_minor": 0
      },
      "text/plain": [
       "HBox(children=(FloatProgress(value=0.0, description='Training', layout=Layout(flex='2'), max=1250.0, style=Pro…"
      ]
     },
     "metadata": {},
     "output_type": "display_data"
    },
    {
     "name": "stdout",
     "output_type": "stream",
     "text": [
      "Epoch 57: train=10.2967, val=10.0521, took 66.954 s\n",
      "  Validation Found 49127 of 54504, added 960 (eff 90.13%) (0.0961 FP/event)\n",
      "Result epoch:  57\n",
      "Average Eff:  0.0\n",
      "Average FP Rate:  0.0\n"
     ]
    },
    {
     "data": {
      "application/vnd.jupyter.widget-view+json": {
       "model_id": "",
       "version_major": 2,
       "version_minor": 0
      },
      "text/plain": [
       "HBox(children=(FloatProgress(value=0.0, description='Training', layout=Layout(flex='2'), max=1250.0, style=Pro…"
      ]
     },
     "metadata": {},
     "output_type": "display_data"
    },
    {
     "name": "stdout",
     "output_type": "stream",
     "text": [
      "Epoch 58: train=10.282, val=9.8701, took 66.97 s\n",
      "  Validation Found 49407 of 54504, added 991 (eff 90.65%) (0.0992 FP/event)\n",
      "Result epoch:  58\n",
      "Average Eff:  0.0\n",
      "Average FP Rate:  0.0\n"
     ]
    },
    {
     "data": {
      "application/vnd.jupyter.widget-view+json": {
       "model_id": "",
       "version_major": 2,
       "version_minor": 0
      },
      "text/plain": [
       "HBox(children=(FloatProgress(value=0.0, description='Training', layout=Layout(flex='2'), max=1250.0, style=Pro…"
      ]
     },
     "metadata": {},
     "output_type": "display_data"
    },
    {
     "name": "stdout",
     "output_type": "stream",
     "text": [
      "Epoch 59: train=10.2588, val=9.69364, took 66.977 s\n",
      "  Validation Found 49804 of 54504, added 1242 (eff 91.38%) (0.124 FP/event)\n",
      "Result epoch:  59\n",
      "Average Eff:  0.0\n",
      "Average FP Rate:  0.0\n"
     ]
    },
    {
     "data": {
      "application/vnd.jupyter.widget-view+json": {
       "model_id": "",
       "version_major": 2,
       "version_minor": 0
      },
      "text/plain": [
       "HBox(children=(FloatProgress(value=0.0, description='Training', layout=Layout(flex='2'), max=1250.0, style=Pro…"
      ]
     },
     "metadata": {},
     "output_type": "display_data"
    },
    {
     "name": "stdout",
     "output_type": "stream",
     "text": [
      "Epoch 60: train=10.2416, val=9.66345, took 67.002 s\n",
      "  Validation Found 49549 of 54504, added 1069 (eff 90.91%) (0.107 FP/event)\n",
      "Result epoch:  60\n",
      "Average Eff:  0.0\n",
      "Average FP Rate:  0.0\n"
     ]
    },
    {
     "data": {
      "application/vnd.jupyter.widget-view+json": {
       "model_id": "",
       "version_major": 2,
       "version_minor": 0
      },
      "text/plain": [
       "HBox(children=(FloatProgress(value=0.0, description='Training', layout=Layout(flex='2'), max=1250.0, style=Pro…"
      ]
     },
     "metadata": {},
     "output_type": "display_data"
    },
    {
     "name": "stdout",
     "output_type": "stream",
     "text": [
      "Epoch 61: train=10.23, val=9.99639, took 66.964 s\n",
      "  Validation Found 49218 of 54504, added 1022 (eff 90.30%) (0.102 FP/event)\n",
      "Result epoch:  61\n",
      "Average Eff:  0.0\n",
      "Average FP Rate:  0.0\n"
     ]
    },
    {
     "data": {
      "application/vnd.jupyter.widget-view+json": {
       "model_id": "",
       "version_major": 2,
       "version_minor": 0
      },
      "text/plain": [
       "HBox(children=(FloatProgress(value=0.0, description='Training', layout=Layout(flex='2'), max=1250.0, style=Pro…"
      ]
     },
     "metadata": {},
     "output_type": "display_data"
    },
    {
     "name": "stdout",
     "output_type": "stream",
     "text": [
      "Epoch 62: train=10.2157, val=9.79577, took 66.967 s\n",
      "  Validation Found 49379 of 54504, added 1070 (eff 90.60%) (0.107 FP/event)\n",
      "Result epoch:  62\n",
      "Average Eff:  0.0\n",
      "Average FP Rate:  0.0\n"
     ]
    },
    {
     "data": {
      "application/vnd.jupyter.widget-view+json": {
       "model_id": "",
       "version_major": 2,
       "version_minor": 0
      },
      "text/plain": [
       "HBox(children=(FloatProgress(value=0.0, description='Training', layout=Layout(flex='2'), max=1250.0, style=Pro…"
      ]
     },
     "metadata": {},
     "output_type": "display_data"
    },
    {
     "name": "stdout",
     "output_type": "stream",
     "text": [
      "Epoch 63: train=10.1948, val=9.7269, took 66.956 s\n",
      "  Validation Found 49623 of 54504, added 1118 (eff 91.04%) (0.112 FP/event)\n",
      "Result epoch:  63\n",
      "Average Eff:  0.0\n",
      "Average FP Rate:  0.0\n"
     ]
    },
    {
     "data": {
      "application/vnd.jupyter.widget-view+json": {
       "model_id": "",
       "version_major": 2,
       "version_minor": 0
      },
      "text/plain": [
       "HBox(children=(FloatProgress(value=0.0, description='Training', layout=Layout(flex='2'), max=1250.0, style=Pro…"
      ]
     },
     "metadata": {},
     "output_type": "display_data"
    },
    {
     "name": "stdout",
     "output_type": "stream",
     "text": [
      "Epoch 64: train=10.1874, val=9.84759, took 66.969 s\n",
      "  Validation Found 49401 of 54504, added 1067 (eff 90.64%) (0.107 FP/event)\n",
      "Result epoch:  64\n",
      "Average Eff:  0.0\n",
      "Average FP Rate:  0.0\n"
     ]
    },
    {
     "data": {
      "application/vnd.jupyter.widget-view+json": {
       "model_id": "",
       "version_major": 2,
       "version_minor": 0
      },
      "text/plain": [
       "HBox(children=(FloatProgress(value=0.0, description='Training', layout=Layout(flex='2'), max=1250.0, style=Pro…"
      ]
     },
     "metadata": {},
     "output_type": "display_data"
    },
    {
     "name": "stdout",
     "output_type": "stream",
     "text": [
      "Epoch 65: train=10.1666, val=9.9008, took 66.941 s\n",
      "  Validation Found 49537 of 54504, added 1095 (eff 90.89%) (0.11 FP/event)\n",
      "Result epoch:  65\n",
      "Average Eff:  0.0\n",
      "Average FP Rate:  0.0\n"
     ]
    },
    {
     "data": {
      "application/vnd.jupyter.widget-view+json": {
       "model_id": "",
       "version_major": 2,
       "version_minor": 0
      },
      "text/plain": [
       "HBox(children=(FloatProgress(value=0.0, description='Training', layout=Layout(flex='2'), max=1250.0, style=Pro…"
      ]
     },
     "metadata": {},
     "output_type": "display_data"
    },
    {
     "name": "stdout",
     "output_type": "stream",
     "text": [
      "Epoch 66: train=10.1595, val=9.73131, took 66.955 s\n",
      "  Validation Found 49686 of 54504, added 1182 (eff 91.16%) (0.118 FP/event)\n",
      "Result epoch:  66\n",
      "Average Eff:  0.0\n",
      "Average FP Rate:  0.0\n"
     ]
    },
    {
     "data": {
      "application/vnd.jupyter.widget-view+json": {
       "model_id": "",
       "version_major": 2,
       "version_minor": 0
      },
      "text/plain": [
       "HBox(children=(FloatProgress(value=0.0, description='Training', layout=Layout(flex='2'), max=1250.0, style=Pro…"
      ]
     },
     "metadata": {},
     "output_type": "display_data"
    },
    {
     "name": "stdout",
     "output_type": "stream",
     "text": [
      "Epoch 67: train=10.1529, val=9.63882, took 66.971 s\n",
      "  Validation Found 49841 of 54504, added 1310 (eff 91.44%) (0.131 FP/event)\n",
      "Result epoch:  67\n",
      "Average Eff:  0.0\n",
      "Average FP Rate:  0.0\n"
     ]
    },
    {
     "data": {
      "application/vnd.jupyter.widget-view+json": {
       "model_id": "",
       "version_major": 2,
       "version_minor": 0
      },
      "text/plain": [
       "HBox(children=(FloatProgress(value=0.0, description='Training', layout=Layout(flex='2'), max=1250.0, style=Pro…"
      ]
     },
     "metadata": {},
     "output_type": "display_data"
    },
    {
     "name": "stdout",
     "output_type": "stream",
     "text": [
      "Epoch 68: train=10.1335, val=9.83398, took 66.915 s\n",
      "  Validation Found 49535 of 54504, added 1071 (eff 90.88%) (0.107 FP/event)\n",
      "Result epoch:  68\n",
      "Average Eff:  0.0\n",
      "Average FP Rate:  0.0\n"
     ]
    },
    {
     "data": {
      "application/vnd.jupyter.widget-view+json": {
       "model_id": "",
       "version_major": 2,
       "version_minor": 0
      },
      "text/plain": [
       "HBox(children=(FloatProgress(value=0.0, description='Training', layout=Layout(flex='2'), max=1250.0, style=Pro…"
      ]
     },
     "metadata": {},
     "output_type": "display_data"
    },
    {
     "name": "stdout",
     "output_type": "stream",
     "text": [
      "Epoch 69: train=10.1271, val=9.67704, took 66.922 s\n",
      "  Validation Found 49848 of 54504, added 1265 (eff 91.46%) (0.127 FP/event)\n",
      "Result epoch:  69\n",
      "Average Eff:  0.0\n",
      "Average FP Rate:  0.0\n"
     ]
    },
    {
     "data": {
      "application/vnd.jupyter.widget-view+json": {
       "model_id": "",
       "version_major": 2,
       "version_minor": 0
      },
      "text/plain": [
       "HBox(children=(FloatProgress(value=0.0, description='Training', layout=Layout(flex='2'), max=1250.0, style=Pro…"
      ]
     },
     "metadata": {},
     "output_type": "display_data"
    },
    {
     "name": "stdout",
     "output_type": "stream",
     "text": [
      "Epoch 70: train=10.1056, val=9.80027, took 66.926 s\n",
      "  Validation Found 49695 of 54504, added 1204 (eff 91.18%) (0.121 FP/event)\n",
      "Result epoch:  70\n",
      "Average Eff:  0.0\n",
      "Average FP Rate:  0.0\n"
     ]
    },
    {
     "data": {
      "application/vnd.jupyter.widget-view+json": {
       "model_id": "",
       "version_major": 2,
       "version_minor": 0
      },
      "text/plain": [
       "HBox(children=(FloatProgress(value=0.0, description='Training', layout=Layout(flex='2'), max=1250.0, style=Pro…"
      ]
     },
     "metadata": {},
     "output_type": "display_data"
    },
    {
     "name": "stdout",
     "output_type": "stream",
     "text": [
      "Epoch 71: train=10.0831, val=9.79498, took 66.962 s\n",
      "  Validation Found 49501 of 54504, added 1105 (eff 90.82%) (0.111 FP/event)\n",
      "Result epoch:  71\n",
      "Average Eff:  0.0\n",
      "Average FP Rate:  0.0\n"
     ]
    },
    {
     "data": {
      "application/vnd.jupyter.widget-view+json": {
       "model_id": "",
       "version_major": 2,
       "version_minor": 0
      },
      "text/plain": [
       "HBox(children=(FloatProgress(value=0.0, description='Training', layout=Layout(flex='2'), max=1250.0, style=Pro…"
      ]
     },
     "metadata": {},
     "output_type": "display_data"
    },
    {
     "name": "stdout",
     "output_type": "stream",
     "text": [
      "Epoch 72: train=10.0846, val=9.59057, took 66.999 s\n",
      "  Validation Found 49654 of 54504, added 1180 (eff 91.10%) (0.118 FP/event)\n",
      "Result epoch:  72\n",
      "Average Eff:  0.0\n",
      "Average FP Rate:  0.0\n"
     ]
    },
    {
     "data": {
      "application/vnd.jupyter.widget-view+json": {
       "model_id": "",
       "version_major": 2,
       "version_minor": 0
      },
      "text/plain": [
       "HBox(children=(FloatProgress(value=0.0, description='Training', layout=Layout(flex='2'), max=1250.0, style=Pro…"
      ]
     },
     "metadata": {},
     "output_type": "display_data"
    },
    {
     "name": "stdout",
     "output_type": "stream",
     "text": [
      "Epoch 73: train=10.0685, val=9.71519, took 66.984 s\n",
      "  Validation Found 49557 of 54504, added 1205 (eff 90.92%) (0.121 FP/event)\n",
      "Result epoch:  73\n",
      "Average Eff:  0.0\n",
      "Average FP Rate:  0.0\n"
     ]
    },
    {
     "data": {
      "application/vnd.jupyter.widget-view+json": {
       "model_id": "",
       "version_major": 2,
       "version_minor": 0
      },
      "text/plain": [
       "HBox(children=(FloatProgress(value=0.0, description='Training', layout=Layout(flex='2'), max=1250.0, style=Pro…"
      ]
     },
     "metadata": {},
     "output_type": "display_data"
    },
    {
     "name": "stdout",
     "output_type": "stream",
     "text": [
      "Epoch 74: train=10.051, val=9.60135, took 66.993 s\n",
      "  Validation Found 49747 of 54504, added 1189 (eff 91.27%) (0.119 FP/event)\n",
      "Result epoch:  74\n",
      "Average Eff:  0.0\n",
      "Average FP Rate:  0.0\n"
     ]
    },
    {
     "data": {
      "application/vnd.jupyter.widget-view+json": {
       "model_id": "",
       "version_major": 2,
       "version_minor": 0
      },
      "text/plain": [
       "HBox(children=(FloatProgress(value=0.0, description='Training', layout=Layout(flex='2'), max=1250.0, style=Pro…"
      ]
     },
     "metadata": {},
     "output_type": "display_data"
    },
    {
     "name": "stdout",
     "output_type": "stream",
     "text": [
      "Epoch 75: train=10.0465, val=9.85098, took 66.945 s\n",
      "  Validation Found 49289 of 54504, added 1000 (eff 90.43%) (0.1 FP/event)\n",
      "Result epoch:  75\n",
      "Average Eff:  0.0\n",
      "Average FP Rate:  0.0\n"
     ]
    },
    {
     "data": {
      "application/vnd.jupyter.widget-view+json": {
       "model_id": "",
       "version_major": 2,
       "version_minor": 0
      },
      "text/plain": [
       "HBox(children=(FloatProgress(value=0.0, description='Training', layout=Layout(flex='2'), max=1250.0, style=Pro…"
      ]
     },
     "metadata": {},
     "output_type": "display_data"
    },
    {
     "name": "stdout",
     "output_type": "stream",
     "text": [
      "Epoch 76: train=10.0533, val=9.79998, took 66.966 s\n",
      "  Validation Found 49353 of 54504, added 953 (eff 90.55%) (0.0954 FP/event)\n",
      "Result epoch:  76\n",
      "Average Eff:  0.0\n",
      "Average FP Rate:  0.0\n"
     ]
    },
    {
     "data": {
      "application/vnd.jupyter.widget-view+json": {
       "model_id": "",
       "version_major": 2,
       "version_minor": 0
      },
      "text/plain": [
       "HBox(children=(FloatProgress(value=0.0, description='Training', layout=Layout(flex='2'), max=1250.0, style=Pro…"
      ]
     },
     "metadata": {},
     "output_type": "display_data"
    },
    {
     "name": "stdout",
     "output_type": "stream",
     "text": [
      "Epoch 77: train=10.0201, val=9.861, took 66.981 s\n",
      "  Validation Found 49292 of 54504, added 1017 (eff 90.44%) (0.102 FP/event)\n",
      "Result epoch:  77\n",
      "Average Eff:  0.0\n",
      "Average FP Rate:  0.0\n"
     ]
    },
    {
     "data": {
      "application/vnd.jupyter.widget-view+json": {
       "model_id": "",
       "version_major": 2,
       "version_minor": 0
      },
      "text/plain": [
       "HBox(children=(FloatProgress(value=0.0, description='Training', layout=Layout(flex='2'), max=1250.0, style=Pro…"
      ]
     },
     "metadata": {},
     "output_type": "display_data"
    },
    {
     "name": "stdout",
     "output_type": "stream",
     "text": [
      "Epoch 78: train=10.0059, val=9.73317, took 66.961 s\n",
      "  Validation Found 49460 of 54504, added 1105 (eff 90.75%) (0.111 FP/event)\n",
      "Result epoch:  78\n",
      "Average Eff:  0.0\n",
      "Average FP Rate:  0.0\n"
     ]
    },
    {
     "data": {
      "application/vnd.jupyter.widget-view+json": {
       "model_id": "",
       "version_major": 2,
       "version_minor": 0
      },
      "text/plain": [
       "HBox(children=(FloatProgress(value=0.0, description='Training', layout=Layout(flex='2'), max=1250.0, style=Pro…"
      ]
     },
     "metadata": {},
     "output_type": "display_data"
    },
    {
     "name": "stdout",
     "output_type": "stream",
     "text": [
      "Epoch 79: train=10.0041, val=9.50461, took 66.981 s\n",
      "  Validation Found 49724 of 54504, added 1154 (eff 91.23%) (0.116 FP/event)\n",
      "Result epoch:  79\n",
      "Average Eff:  0.0\n",
      "Average FP Rate:  0.0\n"
     ]
    },
    {
     "data": {
      "application/vnd.jupyter.widget-view+json": {
       "model_id": "",
       "version_major": 2,
       "version_minor": 0
      },
      "text/plain": [
       "HBox(children=(FloatProgress(value=0.0, description='Training', layout=Layout(flex='2'), max=1250.0, style=Pro…"
      ]
     },
     "metadata": {},
     "output_type": "display_data"
    },
    {
     "name": "stdout",
     "output_type": "stream",
     "text": [
      "Epoch 80: train=9.98023, val=9.50042, took 66.973 s\n",
      "  Validation Found 49793 of 54504, added 1246 (eff 91.36%) (0.125 FP/event)\n",
      "Result epoch:  80\n",
      "Average Eff:  0.0\n",
      "Average FP Rate:  0.0\n"
     ]
    },
    {
     "data": {
      "application/vnd.jupyter.widget-view+json": {
       "model_id": "",
       "version_major": 2,
       "version_minor": 0
      },
      "text/plain": [
       "HBox(children=(FloatProgress(value=0.0, description='Training', layout=Layout(flex='2'), max=1250.0, style=Pro…"
      ]
     },
     "metadata": {},
     "output_type": "display_data"
    },
    {
     "name": "stdout",
     "output_type": "stream",
     "text": [
      "Epoch 81: train=9.97634, val=9.34627, took 66.952 s\n",
      "  Validation Found 49815 of 54504, added 1211 (eff 91.40%) (0.121 FP/event)\n",
      "Result epoch:  81\n",
      "Average Eff:  0.0\n",
      "Average FP Rate:  0.0\n"
     ]
    },
    {
     "data": {
      "application/vnd.jupyter.widget-view+json": {
       "model_id": "",
       "version_major": 2,
       "version_minor": 0
      },
      "text/plain": [
       "HBox(children=(FloatProgress(value=0.0, description='Training', layout=Layout(flex='2'), max=1250.0, style=Pro…"
      ]
     },
     "metadata": {},
     "output_type": "display_data"
    },
    {
     "name": "stdout",
     "output_type": "stream",
     "text": [
      "Epoch 82: train=9.96409, val=9.64836, took 66.974 s\n",
      "  Validation Found 49294 of 54504, added 1069 (eff 90.44%) (0.107 FP/event)\n",
      "Result epoch:  82\n",
      "Average Eff:  0.0\n",
      "Average FP Rate:  0.0\n"
     ]
    },
    {
     "data": {
      "application/vnd.jupyter.widget-view+json": {
       "model_id": "",
       "version_major": 2,
       "version_minor": 0
      },
      "text/plain": [
       "HBox(children=(FloatProgress(value=0.0, description='Training', layout=Layout(flex='2'), max=1250.0, style=Pro…"
      ]
     },
     "metadata": {},
     "output_type": "display_data"
    },
    {
     "name": "stdout",
     "output_type": "stream",
     "text": [
      "Epoch 83: train=9.94704, val=9.63827, took 66.968 s\n",
      "  Validation Found 49797 of 54504, added 1231 (eff 91.36%) (0.123 FP/event)\n",
      "Result epoch:  83\n",
      "Average Eff:  0.0\n",
      "Average FP Rate:  0.0\n"
     ]
    },
    {
     "data": {
      "application/vnd.jupyter.widget-view+json": {
       "model_id": "",
       "version_major": 2,
       "version_minor": 0
      },
      "text/plain": [
       "HBox(children=(FloatProgress(value=0.0, description='Training', layout=Layout(flex='2'), max=1250.0, style=Pro…"
      ]
     },
     "metadata": {},
     "output_type": "display_data"
    },
    {
     "name": "stdout",
     "output_type": "stream",
     "text": [
      "Epoch 84: train=9.92784, val=9.55043, took 67.026 s\n",
      "  Validation Found 49768 of 54504, added 1184 (eff 91.31%) (0.119 FP/event)\n",
      "Result epoch:  84\n",
      "Average Eff:  0.0\n",
      "Average FP Rate:  0.0\n"
     ]
    },
    {
     "data": {
      "application/vnd.jupyter.widget-view+json": {
       "model_id": "",
       "version_major": 2,
       "version_minor": 0
      },
      "text/plain": [
       "HBox(children=(FloatProgress(value=0.0, description='Training', layout=Layout(flex='2'), max=1250.0, style=Pro…"
      ]
     },
     "metadata": {},
     "output_type": "display_data"
    },
    {
     "name": "stdout",
     "output_type": "stream",
     "text": [
      "Epoch 85: train=9.93739, val=9.54061, took 66.999 s\n",
      "  Validation Found 49742 of 54504, added 1178 (eff 91.26%) (0.118 FP/event)\n",
      "Result epoch:  85\n",
      "Average Eff:  0.0\n",
      "Average FP Rate:  0.0\n"
     ]
    },
    {
     "data": {
      "application/vnd.jupyter.widget-view+json": {
       "model_id": "",
       "version_major": 2,
       "version_minor": 0
      },
      "text/plain": [
       "HBox(children=(FloatProgress(value=0.0, description='Training', layout=Layout(flex='2'), max=1250.0, style=Pro…"
      ]
     },
     "metadata": {},
     "output_type": "display_data"
    },
    {
     "name": "stdout",
     "output_type": "stream",
     "text": [
      "Epoch 86: train=9.93115, val=9.78726, took 67.003 s\n",
      "  Validation Found 49199 of 54504, added 898 (eff 90.27%) (0.0899 FP/event)\n",
      "Result epoch:  86\n",
      "Average Eff:  0.0\n",
      "Average FP Rate:  0.0\n"
     ]
    },
    {
     "data": {
      "application/vnd.jupyter.widget-view+json": {
       "model_id": "",
       "version_major": 2,
       "version_minor": 0
      },
      "text/plain": [
       "HBox(children=(FloatProgress(value=0.0, description='Training', layout=Layout(flex='2'), max=1250.0, style=Pro…"
      ]
     },
     "metadata": {},
     "output_type": "display_data"
    },
    {
     "name": "stdout",
     "output_type": "stream",
     "text": [
      "Epoch 87: train=9.89642, val=9.77846, took 66.955 s\n",
      "  Validation Found 49298 of 54504, added 1007 (eff 90.45%) (0.101 FP/event)\n",
      "Result epoch:  87\n",
      "Average Eff:  0.0\n",
      "Average FP Rate:  0.0\n"
     ]
    },
    {
     "data": {
      "application/vnd.jupyter.widget-view+json": {
       "model_id": "",
       "version_major": 2,
       "version_minor": 0
      },
      "text/plain": [
       "HBox(children=(FloatProgress(value=0.0, description='Training', layout=Layout(flex='2'), max=1250.0, style=Pro…"
      ]
     },
     "metadata": {},
     "output_type": "display_data"
    },
    {
     "name": "stdout",
     "output_type": "stream",
     "text": [
      "Epoch 88: train=9.89452, val=9.76644, took 66.966 s\n",
      "  Validation Found 49345 of 54504, added 1020 (eff 90.53%) (0.102 FP/event)\n",
      "Result epoch:  88\n",
      "Average Eff:  0.0\n",
      "Average FP Rate:  0.0\n"
     ]
    },
    {
     "data": {
      "application/vnd.jupyter.widget-view+json": {
       "model_id": "",
       "version_major": 2,
       "version_minor": 0
      },
      "text/plain": [
       "HBox(children=(FloatProgress(value=0.0, description='Training', layout=Layout(flex='2'), max=1250.0, style=Pro…"
      ]
     },
     "metadata": {},
     "output_type": "display_data"
    },
    {
     "name": "stdout",
     "output_type": "stream",
     "text": [
      "Epoch 89: train=9.88975, val=9.51627, took 66.924 s\n",
      "  Validation Found 49766 of 54504, added 1174 (eff 91.31%) (0.118 FP/event)\n",
      "Result epoch:  89\n",
      "Average Eff:  0.0\n",
      "Average FP Rate:  0.0\n"
     ]
    },
    {
     "data": {
      "application/vnd.jupyter.widget-view+json": {
       "model_id": "",
       "version_major": 2,
       "version_minor": 0
      },
      "text/plain": [
       "HBox(children=(FloatProgress(value=0.0, description='Training', layout=Layout(flex='2'), max=1250.0, style=Pro…"
      ]
     },
     "metadata": {},
     "output_type": "display_data"
    },
    {
     "name": "stdout",
     "output_type": "stream",
     "text": [
      "Epoch 90: train=9.8897, val=9.70974, took 66.915 s\n",
      "  Validation Found 49334 of 54504, added 1061 (eff 90.51%) (0.106 FP/event)\n",
      "Result epoch:  90\n",
      "Average Eff:  0.0\n",
      "Average FP Rate:  0.0\n"
     ]
    },
    {
     "data": {
      "application/vnd.jupyter.widget-view+json": {
       "model_id": "",
       "version_major": 2,
       "version_minor": 0
      },
      "text/plain": [
       "HBox(children=(FloatProgress(value=0.0, description='Training', layout=Layout(flex='2'), max=1250.0, style=Pro…"
      ]
     },
     "metadata": {},
     "output_type": "display_data"
    },
    {
     "name": "stdout",
     "output_type": "stream",
     "text": [
      "Epoch 91: train=9.86681, val=9.57081, took 67.093 s\n",
      "  Validation Found 49335 of 54504, added 1067 (eff 90.52%) (0.107 FP/event)\n",
      "Result epoch:  91\n",
      "Average Eff:  0.0\n",
      "Average FP Rate:  0.0\n"
     ]
    },
    {
     "data": {
      "application/vnd.jupyter.widget-view+json": {
       "model_id": "",
       "version_major": 2,
       "version_minor": 0
      },
      "text/plain": [
       "HBox(children=(FloatProgress(value=0.0, description='Training', layout=Layout(flex='2'), max=1250.0, style=Pro…"
      ]
     },
     "metadata": {},
     "output_type": "display_data"
    },
    {
     "name": "stdout",
     "output_type": "stream",
     "text": [
      "Epoch 92: train=9.84687, val=9.66645, took 66.975 s\n",
      "  Validation Found 49640 of 54504, added 1165 (eff 91.08%) (0.117 FP/event)\n",
      "Result epoch:  92\n",
      "Average Eff:  0.0\n",
      "Average FP Rate:  0.0\n"
     ]
    },
    {
     "data": {
      "application/vnd.jupyter.widget-view+json": {
       "model_id": "",
       "version_major": 2,
       "version_minor": 0
      },
      "text/plain": [
       "HBox(children=(FloatProgress(value=0.0, description='Training', layout=Layout(flex='2'), max=1250.0, style=Pro…"
      ]
     },
     "metadata": {},
     "output_type": "display_data"
    },
    {
     "name": "stdout",
     "output_type": "stream",
     "text": [
      "Epoch 93: train=9.83287, val=9.5594, took 66.994 s\n",
      "  Validation Found 49616 of 54504, added 1170 (eff 91.03%) (0.117 FP/event)\n",
      "Result epoch:  93\n",
      "Average Eff:  0.0\n",
      "Average FP Rate:  0.0\n"
     ]
    },
    {
     "data": {
      "application/vnd.jupyter.widget-view+json": {
       "model_id": "",
       "version_major": 2,
       "version_minor": 0
      },
      "text/plain": [
       "HBox(children=(FloatProgress(value=0.0, description='Training', layout=Layout(flex='2'), max=1250.0, style=Pro…"
      ]
     },
     "metadata": {},
     "output_type": "display_data"
    },
    {
     "name": "stdout",
     "output_type": "stream",
     "text": [
      "Epoch 94: train=9.84061, val=9.43162, took 67.008 s\n",
      "  Validation Found 49788 of 54504, added 1221 (eff 91.35%) (0.122 FP/event)\n",
      "Result epoch:  94\n",
      "Average Eff:  0.0\n",
      "Average FP Rate:  0.0\n"
     ]
    },
    {
     "data": {
      "application/vnd.jupyter.widget-view+json": {
       "model_id": "",
       "version_major": 2,
       "version_minor": 0
      },
      "text/plain": [
       "HBox(children=(FloatProgress(value=0.0, description='Training', layout=Layout(flex='2'), max=1250.0, style=Pro…"
      ]
     },
     "metadata": {},
     "output_type": "display_data"
    },
    {
     "name": "stdout",
     "output_type": "stream",
     "text": [
      "Epoch 95: train=9.81605, val=9.8393, took 66.983 s\n",
      "  Validation Found 49408 of 54504, added 1119 (eff 90.65%) (0.112 FP/event)\n",
      "Result epoch:  95\n",
      "Average Eff:  0.0\n",
      "Average FP Rate:  0.0\n"
     ]
    },
    {
     "data": {
      "application/vnd.jupyter.widget-view+json": {
       "model_id": "",
       "version_major": 2,
       "version_minor": 0
      },
      "text/plain": [
       "HBox(children=(FloatProgress(value=0.0, description='Training', layout=Layout(flex='2'), max=1250.0, style=Pro…"
      ]
     },
     "metadata": {},
     "output_type": "display_data"
    },
    {
     "name": "stdout",
     "output_type": "stream",
     "text": [
      "Epoch 96: train=9.80892, val=9.49087, took 67.064 s\n",
      "  Validation Found 49855 of 54504, added 1257 (eff 91.47%) (0.126 FP/event)\n",
      "Result epoch:  96\n",
      "Average Eff:  0.0\n",
      "Average FP Rate:  0.0\n"
     ]
    },
    {
     "data": {
      "application/vnd.jupyter.widget-view+json": {
       "model_id": "",
       "version_major": 2,
       "version_minor": 0
      },
      "text/plain": [
       "HBox(children=(FloatProgress(value=0.0, description='Training', layout=Layout(flex='2'), max=1250.0, style=Pro…"
      ]
     },
     "metadata": {},
     "output_type": "display_data"
    },
    {
     "name": "stdout",
     "output_type": "stream",
     "text": [
      "Epoch 97: train=9.79666, val=9.40396, took 66.96 s\n",
      "  Validation Found 49802 of 54504, added 1184 (eff 91.37%) (0.119 FP/event)\n",
      "Result epoch:  97\n",
      "Average Eff:  0.0\n",
      "Average FP Rate:  0.0\n"
     ]
    },
    {
     "data": {
      "application/vnd.jupyter.widget-view+json": {
       "model_id": "",
       "version_major": 2,
       "version_minor": 0
      },
      "text/plain": [
       "HBox(children=(FloatProgress(value=0.0, description='Training', layout=Layout(flex='2'), max=1250.0, style=Pro…"
      ]
     },
     "metadata": {},
     "output_type": "display_data"
    },
    {
     "name": "stdout",
     "output_type": "stream",
     "text": [
      "Epoch 98: train=9.78389, val=9.57865, took 66.975 s\n",
      "  Validation Found 49736 of 54504, added 1177 (eff 91.25%) (0.118 FP/event)\n",
      "Result epoch:  98\n",
      "Average Eff:  0.0\n",
      "Average FP Rate:  0.0\n"
     ]
    },
    {
     "data": {
      "application/vnd.jupyter.widget-view+json": {
       "model_id": "",
       "version_major": 2,
       "version_minor": 0
      },
      "text/plain": [
       "HBox(children=(FloatProgress(value=0.0, description='Training', layout=Layout(flex='2'), max=1250.0, style=Pro…"
      ]
     },
     "metadata": {},
     "output_type": "display_data"
    },
    {
     "name": "stdout",
     "output_type": "stream",
     "text": [
      "Epoch 99: train=9.79241, val=9.9553, took 66.958 s\n",
      "  Validation Found 48940 of 54504, added 929 (eff 89.79%) (0.093 FP/event)\n",
      "Result epoch:  99\n",
      "Average Eff:  0.0\n",
      "Average FP Rate:  0.0\n"
     ]
    },
    {
     "data": {
      "application/vnd.jupyter.widget-view+json": {
       "model_id": "",
       "version_major": 2,
       "version_minor": 0
      },
      "text/plain": [
       "HBox(children=(FloatProgress(value=0.0, description='Training', layout=Layout(flex='2'), max=1250.0, style=Pro…"
      ]
     },
     "metadata": {},
     "output_type": "display_data"
    },
    {
     "name": "stdout",
     "output_type": "stream",
     "text": [
      "Epoch 100: train=9.76311, val=9.63776, took 66.966 s\n",
      "  Validation Found 49598 of 54504, added 1147 (eff 91.00%) (0.115 FP/event)\n",
      "Result epoch:  100\n",
      "Average Eff:  0.0\n",
      "Average FP Rate:  0.0\n"
     ]
    },
    {
     "data": {
      "application/vnd.jupyter.widget-view+json": {
       "model_id": "",
       "version_major": 2,
       "version_minor": 0
      },
      "text/plain": [
       "HBox(children=(FloatProgress(value=0.0, description='Training', layout=Layout(flex='2'), max=1250.0, style=Pro…"
      ]
     },
     "metadata": {},
     "output_type": "display_data"
    },
    {
     "name": "stdout",
     "output_type": "stream",
     "text": [
      "Epoch 101: train=9.75646, val=9.60678, took 67.108 s\n",
      "  Validation Found 49703 of 54504, added 1215 (eff 91.19%) (0.122 FP/event)\n",
      "Result epoch:  101\n",
      "Average Eff:  0.0\n",
      "Average FP Rate:  0.0\n"
     ]
    },
    {
     "data": {
      "application/vnd.jupyter.widget-view+json": {
       "model_id": "",
       "version_major": 2,
       "version_minor": 0
      },
      "text/plain": [
       "HBox(children=(FloatProgress(value=0.0, description='Training', layout=Layout(flex='2'), max=1250.0, style=Pro…"
      ]
     },
     "metadata": {},
     "output_type": "display_data"
    },
    {
     "name": "stdout",
     "output_type": "stream",
     "text": [
      "Epoch 102: train=9.7556, val=9.5096, took 67.034 s\n",
      "  Validation Found 49592 of 54504, added 1114 (eff 90.99%) (0.112 FP/event)\n",
      "Result epoch:  102\n",
      "Average Eff:  0.0\n",
      "Average FP Rate:  0.0\n"
     ]
    },
    {
     "data": {
      "application/vnd.jupyter.widget-view+json": {
       "model_id": "",
       "version_major": 2,
       "version_minor": 0
      },
      "text/plain": [
       "HBox(children=(FloatProgress(value=0.0, description='Training', layout=Layout(flex='2'), max=1250.0, style=Pro…"
      ]
     },
     "metadata": {},
     "output_type": "display_data"
    },
    {
     "name": "stdout",
     "output_type": "stream",
     "text": [
      "Epoch 103: train=9.74235, val=9.50731, took 66.961 s\n",
      "  Validation Found 49711 of 54504, added 1150 (eff 91.21%) (0.115 FP/event)\n",
      "Result epoch:  103\n",
      "Average Eff:  0.0\n",
      "Average FP Rate:  0.0\n"
     ]
    },
    {
     "data": {
      "application/vnd.jupyter.widget-view+json": {
       "model_id": "",
       "version_major": 2,
       "version_minor": 0
      },
      "text/plain": [
       "HBox(children=(FloatProgress(value=0.0, description='Training', layout=Layout(flex='2'), max=1250.0, style=Pro…"
      ]
     },
     "metadata": {},
     "output_type": "display_data"
    },
    {
     "name": "stdout",
     "output_type": "stream",
     "text": [
      "Epoch 104: train=9.73548, val=9.64499, took 66.968 s\n",
      "  Validation Found 49278 of 54504, added 1017 (eff 90.41%) (0.102 FP/event)\n",
      "Result epoch:  104\n",
      "Average Eff:  0.0\n",
      "Average FP Rate:  0.0\n"
     ]
    },
    {
     "data": {
      "application/vnd.jupyter.widget-view+json": {
       "model_id": "",
       "version_major": 2,
       "version_minor": 0
      },
      "text/plain": [
       "HBox(children=(FloatProgress(value=0.0, description='Training', layout=Layout(flex='2'), max=1250.0, style=Pro…"
      ]
     },
     "metadata": {},
     "output_type": "display_data"
    },
    {
     "name": "stdout",
     "output_type": "stream",
     "text": [
      "Epoch 105: train=9.71551, val=9.5456, took 67.033 s\n",
      "  Validation Found 49686 of 54504, added 1096 (eff 91.16%) (0.11 FP/event)\n",
      "Result epoch:  105\n",
      "Average Eff:  0.0\n",
      "Average FP Rate:  0.0\n"
     ]
    },
    {
     "data": {
      "application/vnd.jupyter.widget-view+json": {
       "model_id": "",
       "version_major": 2,
       "version_minor": 0
      },
      "text/plain": [
       "HBox(children=(FloatProgress(value=0.0, description='Training', layout=Layout(flex='2'), max=1250.0, style=Pro…"
      ]
     },
     "metadata": {},
     "output_type": "display_data"
    },
    {
     "name": "stdout",
     "output_type": "stream",
     "text": [
      "Epoch 106: train=9.71154, val=9.63232, took 67.07 s\n",
      "  Validation Found 49305 of 54504, added 960 (eff 90.46%) (0.0961 FP/event)\n",
      "Result epoch:  106\n",
      "Average Eff:  0.0\n",
      "Average FP Rate:  0.0\n"
     ]
    },
    {
     "data": {
      "application/vnd.jupyter.widget-view+json": {
       "model_id": "",
       "version_major": 2,
       "version_minor": 0
      },
      "text/plain": [
       "HBox(children=(FloatProgress(value=0.0, description='Training', layout=Layout(flex='2'), max=1250.0, style=Pro…"
      ]
     },
     "metadata": {},
     "output_type": "display_data"
    },
    {
     "name": "stdout",
     "output_type": "stream",
     "text": [
      "Epoch 107: train=9.70087, val=9.26865, took 66.98 s\n",
      "  Validation Found 50106 of 54504, added 1417 (eff 91.93%) (0.142 FP/event)\n",
      "Result epoch:  107\n",
      "Average Eff:  0.0\n",
      "Average FP Rate:  0.0\n"
     ]
    },
    {
     "data": {
      "application/vnd.jupyter.widget-view+json": {
       "model_id": "",
       "version_major": 2,
       "version_minor": 0
      },
      "text/plain": [
       "HBox(children=(FloatProgress(value=0.0, description='Training', layout=Layout(flex='2'), max=1250.0, style=Pro…"
      ]
     },
     "metadata": {},
     "output_type": "display_data"
    },
    {
     "name": "stdout",
     "output_type": "stream",
     "text": [
      "Epoch 108: train=9.69262, val=9.48535, took 66.978 s\n",
      "  Validation Found 49657 of 54504, added 1139 (eff 91.11%) (0.114 FP/event)\n",
      "Result epoch:  108\n",
      "Average Eff:  0.0\n",
      "Average FP Rate:  0.0\n"
     ]
    },
    {
     "data": {
      "application/vnd.jupyter.widget-view+json": {
       "model_id": "",
       "version_major": 2,
       "version_minor": 0
      },
      "text/plain": [
       "HBox(children=(FloatProgress(value=0.0, description='Training', layout=Layout(flex='2'), max=1250.0, style=Pro…"
      ]
     },
     "metadata": {},
     "output_type": "display_data"
    },
    {
     "name": "stdout",
     "output_type": "stream",
     "text": [
      "Epoch 109: train=9.68093, val=9.54884, took 66.994 s\n",
      "  Validation Found 49670 of 54504, added 1235 (eff 91.13%) (0.124 FP/event)\n",
      "Result epoch:  109\n",
      "Average Eff:  0.0\n",
      "Average FP Rate:  0.0\n"
     ]
    },
    {
     "data": {
      "application/vnd.jupyter.widget-view+json": {
       "model_id": "",
       "version_major": 2,
       "version_minor": 0
      },
      "text/plain": [
       "HBox(children=(FloatProgress(value=0.0, description='Training', layout=Layout(flex='2'), max=1250.0, style=Pro…"
      ]
     },
     "metadata": {},
     "output_type": "display_data"
    },
    {
     "name": "stdout",
     "output_type": "stream",
     "text": [
      "Epoch 110: train=9.67259, val=9.57783, took 67.028 s\n",
      "  Validation Found 49399 of 54504, added 1042 (eff 90.63%) (0.104 FP/event)\n",
      "Result epoch:  110\n",
      "Average Eff:  0.0\n",
      "Average FP Rate:  0.0\n"
     ]
    },
    {
     "data": {
      "application/vnd.jupyter.widget-view+json": {
       "model_id": "",
       "version_major": 2,
       "version_minor": 0
      },
      "text/plain": [
       "HBox(children=(FloatProgress(value=0.0, description='Training', layout=Layout(flex='2'), max=1250.0, style=Pro…"
      ]
     },
     "metadata": {},
     "output_type": "display_data"
    },
    {
     "name": "stdout",
     "output_type": "stream",
     "text": [
      "Epoch 111: train=9.66736, val=9.55702, took 67.151 s\n",
      "  Validation Found 49657 of 54504, added 1136 (eff 91.11%) (0.114 FP/event)\n",
      "Result epoch:  111\n",
      "Average Eff:  0.0\n",
      "Average FP Rate:  0.0\n"
     ]
    },
    {
     "data": {
      "application/vnd.jupyter.widget-view+json": {
       "model_id": "",
       "version_major": 2,
       "version_minor": 0
      },
      "text/plain": [
       "HBox(children=(FloatProgress(value=0.0, description='Training', layout=Layout(flex='2'), max=1250.0, style=Pro…"
      ]
     },
     "metadata": {},
     "output_type": "display_data"
    },
    {
     "name": "stdout",
     "output_type": "stream",
     "text": [
      "Epoch 112: train=9.64487, val=9.427, took 66.962 s\n",
      "  Validation Found 49787 of 54504, added 1325 (eff 91.35%) (0.133 FP/event)\n",
      "Result epoch:  112\n",
      "Average Eff:  0.0\n",
      "Average FP Rate:  0.0\n"
     ]
    },
    {
     "data": {
      "application/vnd.jupyter.widget-view+json": {
       "model_id": "",
       "version_major": 2,
       "version_minor": 0
      },
      "text/plain": [
       "HBox(children=(FloatProgress(value=0.0, description='Training', layout=Layout(flex='2'), max=1250.0, style=Pro…"
      ]
     },
     "metadata": {},
     "output_type": "display_data"
    },
    {
     "name": "stdout",
     "output_type": "stream",
     "text": [
      "Epoch 113: train=9.64866, val=9.65695, took 66.949 s\n",
      "  Validation Found 49543 of 54504, added 1116 (eff 90.90%) (0.112 FP/event)\n",
      "Result epoch:  113\n",
      "Average Eff:  0.0\n",
      "Average FP Rate:  0.0\n"
     ]
    },
    {
     "data": {
      "application/vnd.jupyter.widget-view+json": {
       "model_id": "",
       "version_major": 2,
       "version_minor": 0
      },
      "text/plain": [
       "HBox(children=(FloatProgress(value=0.0, description='Training', layout=Layout(flex='2'), max=1250.0, style=Pro…"
      ]
     },
     "metadata": {},
     "output_type": "display_data"
    },
    {
     "name": "stdout",
     "output_type": "stream",
     "text": [
      "Epoch 114: train=9.63699, val=9.58098, took 66.945 s\n",
      "  Validation Found 49486 of 54504, added 1123 (eff 90.79%) (0.112 FP/event)\n",
      "Result epoch:  114\n",
      "Average Eff:  0.0\n",
      "Average FP Rate:  0.0\n"
     ]
    },
    {
     "data": {
      "application/vnd.jupyter.widget-view+json": {
       "model_id": "",
       "version_major": 2,
       "version_minor": 0
      },
      "text/plain": [
       "HBox(children=(FloatProgress(value=0.0, description='Training', layout=Layout(flex='2'), max=1250.0, style=Pro…"
      ]
     },
     "metadata": {},
     "output_type": "display_data"
    },
    {
     "name": "stdout",
     "output_type": "stream",
     "text": [
      "Epoch 115: train=9.62221, val=9.36955, took 66.976 s\n",
      "  Validation Found 49963 of 54504, added 1402 (eff 91.67%) (0.14 FP/event)\n",
      "Result epoch:  115\n",
      "Average Eff:  0.0\n",
      "Average FP Rate:  0.0\n"
     ]
    },
    {
     "data": {
      "application/vnd.jupyter.widget-view+json": {
       "model_id": "",
       "version_major": 2,
       "version_minor": 0
      },
      "text/plain": [
       "HBox(children=(FloatProgress(value=0.0, description='Training', layout=Layout(flex='2'), max=1250.0, style=Pro…"
      ]
     },
     "metadata": {},
     "output_type": "display_data"
    },
    {
     "name": "stdout",
     "output_type": "stream",
     "text": [
      "Epoch 116: train=9.62427, val=9.47888, took 66.986 s\n",
      "  Validation Found 49794 of 54504, added 1292 (eff 91.36%) (0.129 FP/event)\n",
      "Result epoch:  116\n",
      "Average Eff:  0.0\n",
      "Average FP Rate:  0.0\n"
     ]
    },
    {
     "data": {
      "application/vnd.jupyter.widget-view+json": {
       "model_id": "",
       "version_major": 2,
       "version_minor": 0
      },
      "text/plain": [
       "HBox(children=(FloatProgress(value=0.0, description='Training', layout=Layout(flex='2'), max=1250.0, style=Pro…"
      ]
     },
     "metadata": {},
     "output_type": "display_data"
    },
    {
     "name": "stdout",
     "output_type": "stream",
     "text": [
      "Epoch 117: train=9.6193, val=9.60526, took 67.011 s\n",
      "  Validation Found 49551 of 54504, added 1215 (eff 90.91%) (0.122 FP/event)\n",
      "Result epoch:  117\n",
      "Average Eff:  0.0\n",
      "Average FP Rate:  0.0\n"
     ]
    },
    {
     "data": {
      "application/vnd.jupyter.widget-view+json": {
       "model_id": "",
       "version_major": 2,
       "version_minor": 0
      },
      "text/plain": [
       "HBox(children=(FloatProgress(value=0.0, description='Training', layout=Layout(flex='2'), max=1250.0, style=Pro…"
      ]
     },
     "metadata": {},
     "output_type": "display_data"
    },
    {
     "name": "stdout",
     "output_type": "stream",
     "text": [
      "Epoch 118: train=9.60537, val=9.33497, took 66.989 s\n",
      "  Validation Found 49864 of 54504, added 1265 (eff 91.49%) (0.127 FP/event)\n",
      "Result epoch:  118\n",
      "Average Eff:  0.0\n",
      "Average FP Rate:  0.0\n"
     ]
    },
    {
     "data": {
      "application/vnd.jupyter.widget-view+json": {
       "model_id": "",
       "version_major": 2,
       "version_minor": 0
      },
      "text/plain": [
       "HBox(children=(FloatProgress(value=0.0, description='Training', layout=Layout(flex='2'), max=1250.0, style=Pro…"
      ]
     },
     "metadata": {},
     "output_type": "display_data"
    },
    {
     "name": "stdout",
     "output_type": "stream",
     "text": [
      "Epoch 119: train=9.5879, val=9.38971, took 66.965 s\n",
      "  Validation Found 49925 of 54504, added 1318 (eff 91.60%) (0.132 FP/event)\n",
      "Result epoch:  119\n",
      "Average Eff:  0.0\n",
      "Average FP Rate:  0.0\n"
     ]
    },
    {
     "data": {
      "application/vnd.jupyter.widget-view+json": {
       "model_id": "",
       "version_major": 2,
       "version_minor": 0
      },
      "text/plain": [
       "HBox(children=(FloatProgress(value=0.0, description='Training', layout=Layout(flex='2'), max=1250.0, style=Pro…"
      ]
     },
     "metadata": {},
     "output_type": "display_data"
    },
    {
     "name": "stdout",
     "output_type": "stream",
     "text": [
      "Epoch 120: train=9.58295, val=9.33382, took 66.971 s\n",
      "  Validation Found 49742 of 54504, added 1224 (eff 91.26%) (0.123 FP/event)\n",
      "Result epoch:  120\n",
      "Average Eff:  0.0\n",
      "Average FP Rate:  0.0\n"
     ]
    },
    {
     "data": {
      "application/vnd.jupyter.widget-view+json": {
       "model_id": "",
       "version_major": 2,
       "version_minor": 0
      },
      "text/plain": [
       "HBox(children=(FloatProgress(value=0.0, description='Training', layout=Layout(flex='2'), max=1250.0, style=Pro…"
      ]
     },
     "metadata": {},
     "output_type": "display_data"
    },
    {
     "name": "stdout",
     "output_type": "stream",
     "text": [
      "Epoch 121: train=9.56611, val=9.5929, took 66.955 s\n",
      "  Validation Found 49604 of 54504, added 1140 (eff 91.01%) (0.114 FP/event)\n",
      "Result epoch:  121\n",
      "Average Eff:  0.0\n",
      "Average FP Rate:  0.0\n"
     ]
    },
    {
     "data": {
      "application/vnd.jupyter.widget-view+json": {
       "model_id": "",
       "version_major": 2,
       "version_minor": 0
      },
      "text/plain": [
       "HBox(children=(FloatProgress(value=0.0, description='Training', layout=Layout(flex='2'), max=1250.0, style=Pro…"
      ]
     },
     "metadata": {},
     "output_type": "display_data"
    },
    {
     "name": "stdout",
     "output_type": "stream",
     "text": [
      "Epoch 122: train=9.56319, val=9.45775, took 66.977 s\n",
      "  Validation Found 49608 of 54504, added 1146 (eff 91.02%) (0.115 FP/event)\n",
      "Result epoch:  122\n",
      "Average Eff:  0.0\n",
      "Average FP Rate:  0.0\n"
     ]
    },
    {
     "data": {
      "application/vnd.jupyter.widget-view+json": {
       "model_id": "",
       "version_major": 2,
       "version_minor": 0
      },
      "text/plain": [
       "HBox(children=(FloatProgress(value=0.0, description='Training', layout=Layout(flex='2'), max=1250.0, style=Pro…"
      ]
     },
     "metadata": {},
     "output_type": "display_data"
    },
    {
     "name": "stdout",
     "output_type": "stream",
     "text": [
      "Epoch 123: train=9.54362, val=9.22262, took 66.964 s\n",
      "  Validation Found 49899 of 54504, added 1295 (eff 91.55%) (0.13 FP/event)\n",
      "Result epoch:  123\n",
      "Average Eff:  0.0\n",
      "Average FP Rate:  0.0\n"
     ]
    },
    {
     "data": {
      "application/vnd.jupyter.widget-view+json": {
       "model_id": "",
       "version_major": 2,
       "version_minor": 0
      },
      "text/plain": [
       "HBox(children=(FloatProgress(value=0.0, description='Training', layout=Layout(flex='2'), max=1250.0, style=Pro…"
      ]
     },
     "metadata": {},
     "output_type": "display_data"
    },
    {
     "name": "stdout",
     "output_type": "stream",
     "text": [
      "Epoch 124: train=9.53801, val=9.32276, took 67.004 s\n",
      "  Validation Found 49810 of 54504, added 1186 (eff 91.39%) (0.119 FP/event)\n",
      "Result epoch:  124\n",
      "Average Eff:  0.0\n",
      "Average FP Rate:  0.0\n"
     ]
    },
    {
     "data": {
      "application/vnd.jupyter.widget-view+json": {
       "model_id": "",
       "version_major": 2,
       "version_minor": 0
      },
      "text/plain": [
       "HBox(children=(FloatProgress(value=0.0, description='Training', layout=Layout(flex='2'), max=1250.0, style=Pro…"
      ]
     },
     "metadata": {},
     "output_type": "display_data"
    },
    {
     "name": "stdout",
     "output_type": "stream",
     "text": [
      "Epoch 125: train=9.53804, val=9.23623, took 66.99 s\n",
      "  Validation Found 49828 of 54504, added 1223 (eff 91.42%) (0.122 FP/event)\n",
      "Result epoch:  125\n",
      "Average Eff:  0.0\n",
      "Average FP Rate:  0.0\n"
     ]
    },
    {
     "data": {
      "application/vnd.jupyter.widget-view+json": {
       "model_id": "",
       "version_major": 2,
       "version_minor": 0
      },
      "text/plain": [
       "HBox(children=(FloatProgress(value=0.0, description='Training', layout=Layout(flex='2'), max=1250.0, style=Pro…"
      ]
     },
     "metadata": {},
     "output_type": "display_data"
    },
    {
     "name": "stdout",
     "output_type": "stream",
     "text": [
      "Epoch 126: train=9.50986, val=9.37553, took 67.583 s\n",
      "  Validation Found 49648 of 54504, added 1108 (eff 91.09%) (0.111 FP/event)\n",
      "Result epoch:  126\n",
      "Average Eff:  0.0\n",
      "Average FP Rate:  0.0\n"
     ]
    },
    {
     "data": {
      "application/vnd.jupyter.widget-view+json": {
       "model_id": "",
       "version_major": 2,
       "version_minor": 0
      },
      "text/plain": [
       "HBox(children=(FloatProgress(value=0.0, description='Training', layout=Layout(flex='2'), max=1250.0, style=Pro…"
      ]
     },
     "metadata": {},
     "output_type": "display_data"
    },
    {
     "name": "stdout",
     "output_type": "stream",
     "text": [
      "Epoch 127: train=9.51901, val=9.4862, took 67.008 s\n",
      "  Validation Found 49612 of 54504, added 1237 (eff 91.02%) (0.124 FP/event)\n",
      "Result epoch:  127\n",
      "Average Eff:  0.0\n",
      "Average FP Rate:  0.0\n"
     ]
    },
    {
     "data": {
      "application/vnd.jupyter.widget-view+json": {
       "model_id": "",
       "version_major": 2,
       "version_minor": 0
      },
      "text/plain": [
       "HBox(children=(FloatProgress(value=0.0, description='Training', layout=Layout(flex='2'), max=1250.0, style=Pro…"
      ]
     },
     "metadata": {},
     "output_type": "display_data"
    },
    {
     "name": "stdout",
     "output_type": "stream",
     "text": [
      "Epoch 128: train=9.51463, val=9.37037, took 66.984 s\n",
      "  Validation Found 49973 of 54504, added 1386 (eff 91.69%) (0.139 FP/event)\n",
      "Result epoch:  128\n",
      "Average Eff:  0.0\n",
      "Average FP Rate:  0.0\n"
     ]
    },
    {
     "data": {
      "application/vnd.jupyter.widget-view+json": {
       "model_id": "",
       "version_major": 2,
       "version_minor": 0
      },
      "text/plain": [
       "HBox(children=(FloatProgress(value=0.0, description='Training', layout=Layout(flex='2'), max=1250.0, style=Pro…"
      ]
     },
     "metadata": {},
     "output_type": "display_data"
    },
    {
     "name": "stdout",
     "output_type": "stream",
     "text": [
      "Epoch 129: train=9.50532, val=9.36137, took 66.989 s\n",
      "  Validation Found 49632 of 54504, added 1058 (eff 91.06%) (0.106 FP/event)\n",
      "Result epoch:  129\n",
      "Average Eff:  0.0\n",
      "Average FP Rate:  0.0\n"
     ]
    },
    {
     "data": {
      "application/vnd.jupyter.widget-view+json": {
       "model_id": "",
       "version_major": 2,
       "version_minor": 0
      },
      "text/plain": [
       "HBox(children=(FloatProgress(value=0.0, description='Training', layout=Layout(flex='2'), max=1250.0, style=Pro…"
      ]
     },
     "metadata": {},
     "output_type": "display_data"
    },
    {
     "name": "stdout",
     "output_type": "stream",
     "text": [
      "Epoch 130: train=9.51253, val=9.30899, took 66.996 s\n",
      "  Validation Found 49667 of 54504, added 1141 (eff 91.13%) (0.114 FP/event)\n",
      "Result epoch:  130\n",
      "Average Eff:  0.0\n",
      "Average FP Rate:  0.0\n"
     ]
    },
    {
     "data": {
      "application/vnd.jupyter.widget-view+json": {
       "model_id": "",
       "version_major": 2,
       "version_minor": 0
      },
      "text/plain": [
       "HBox(children=(FloatProgress(value=0.0, description='Training', layout=Layout(flex='2'), max=1250.0, style=Pro…"
      ]
     },
     "metadata": {},
     "output_type": "display_data"
    },
    {
     "name": "stdout",
     "output_type": "stream",
     "text": [
      "Epoch 131: train=9.50891, val=9.42819, took 66.976 s\n",
      "  Validation Found 49878 of 54504, added 1252 (eff 91.51%) (0.125 FP/event)\n",
      "Result epoch:  131\n",
      "Average Eff:  0.0\n",
      "Average FP Rate:  0.0\n"
     ]
    },
    {
     "data": {
      "application/vnd.jupyter.widget-view+json": {
       "model_id": "",
       "version_major": 2,
       "version_minor": 0
      },
      "text/plain": [
       "HBox(children=(FloatProgress(value=0.0, description='Training', layout=Layout(flex='2'), max=1250.0, style=Pro…"
      ]
     },
     "metadata": {},
     "output_type": "display_data"
    },
    {
     "name": "stdout",
     "output_type": "stream",
     "text": [
      "Epoch 132: train=9.49057, val=9.33868, took 66.932 s\n",
      "  Validation Found 49961 of 54504, added 1396 (eff 91.66%) (0.14 FP/event)\n",
      "Result epoch:  132\n",
      "Average Eff:  0.0\n",
      "Average FP Rate:  0.0\n"
     ]
    },
    {
     "data": {
      "application/vnd.jupyter.widget-view+json": {
       "model_id": "",
       "version_major": 2,
       "version_minor": 0
      },
      "text/plain": [
       "HBox(children=(FloatProgress(value=0.0, description='Training', layout=Layout(flex='2'), max=1250.0, style=Pro…"
      ]
     },
     "metadata": {},
     "output_type": "display_data"
    },
    {
     "name": "stdout",
     "output_type": "stream",
     "text": [
      "Epoch 133: train=9.49127, val=9.65909, took 66.943 s\n",
      "  Validation Found 49346 of 54504, added 1081 (eff 90.54%) (0.108 FP/event)\n",
      "Result epoch:  133\n",
      "Average Eff:  0.0\n",
      "Average FP Rate:  0.0\n"
     ]
    },
    {
     "data": {
      "application/vnd.jupyter.widget-view+json": {
       "model_id": "",
       "version_major": 2,
       "version_minor": 0
      },
      "text/plain": [
       "HBox(children=(FloatProgress(value=0.0, description='Training', layout=Layout(flex='2'), max=1250.0, style=Pro…"
      ]
     },
     "metadata": {},
     "output_type": "display_data"
    },
    {
     "name": "stdout",
     "output_type": "stream",
     "text": [
      "Epoch 134: train=9.46828, val=9.53414, took 66.946 s\n",
      "  Validation Found 49516 of 54504, added 1146 (eff 90.85%) (0.115 FP/event)\n",
      "Result epoch:  134\n",
      "Average Eff:  0.0\n",
      "Average FP Rate:  0.0\n"
     ]
    },
    {
     "data": {
      "application/vnd.jupyter.widget-view+json": {
       "model_id": "",
       "version_major": 2,
       "version_minor": 0
      },
      "text/plain": [
       "HBox(children=(FloatProgress(value=0.0, description='Training', layout=Layout(flex='2'), max=1250.0, style=Pro…"
      ]
     },
     "metadata": {},
     "output_type": "display_data"
    },
    {
     "name": "stdout",
     "output_type": "stream",
     "text": [
      "Epoch 135: train=9.46335, val=9.47312, took 66.91 s\n",
      "  Validation Found 49600 of 54504, added 1082 (eff 91.00%) (0.108 FP/event)\n",
      "Result epoch:  135\n",
      "Average Eff:  0.0\n",
      "Average FP Rate:  0.0\n"
     ]
    },
    {
     "data": {
      "application/vnd.jupyter.widget-view+json": {
       "model_id": "",
       "version_major": 2,
       "version_minor": 0
      },
      "text/plain": [
       "HBox(children=(FloatProgress(value=0.0, description='Training', layout=Layout(flex='2'), max=1250.0, style=Pro…"
      ]
     },
     "metadata": {},
     "output_type": "display_data"
    },
    {
     "name": "stdout",
     "output_type": "stream",
     "text": [
      "Epoch 136: train=9.45858, val=9.25987, took 66.955 s\n",
      "  Validation Found 49939 of 54504, added 1313 (eff 91.62%) (0.131 FP/event)\n",
      "Result epoch:  136\n",
      "Average Eff:  0.0\n",
      "Average FP Rate:  0.0\n"
     ]
    },
    {
     "data": {
      "application/vnd.jupyter.widget-view+json": {
       "model_id": "",
       "version_major": 2,
       "version_minor": 0
      },
      "text/plain": [
       "HBox(children=(FloatProgress(value=0.0, description='Training', layout=Layout(flex='2'), max=1250.0, style=Pro…"
      ]
     },
     "metadata": {},
     "output_type": "display_data"
    },
    {
     "name": "stdout",
     "output_type": "stream",
     "text": [
      "Epoch 137: train=9.45278, val=9.28113, took 67.019 s\n",
      "  Validation Found 49736 of 54504, added 1295 (eff 91.25%) (0.13 FP/event)\n",
      "Result epoch:  137\n",
      "Average Eff:  0.0\n",
      "Average FP Rate:  0.0\n"
     ]
    },
    {
     "data": {
      "application/vnd.jupyter.widget-view+json": {
       "model_id": "",
       "version_major": 2,
       "version_minor": 0
      },
      "text/plain": [
       "HBox(children=(FloatProgress(value=0.0, description='Training', layout=Layout(flex='2'), max=1250.0, style=Pro…"
      ]
     },
     "metadata": {},
     "output_type": "display_data"
    },
    {
     "name": "stdout",
     "output_type": "stream",
     "text": [
      "Epoch 138: train=9.43454, val=9.47277, took 66.967 s\n",
      "  Validation Found 49521 of 54504, added 1194 (eff 90.86%) (0.12 FP/event)\n",
      "Result epoch:  138\n",
      "Average Eff:  0.0\n",
      "Average FP Rate:  0.0\n"
     ]
    },
    {
     "data": {
      "application/vnd.jupyter.widget-view+json": {
       "model_id": "",
       "version_major": 2,
       "version_minor": 0
      },
      "text/plain": [
       "HBox(children=(FloatProgress(value=0.0, description='Training', layout=Layout(flex='2'), max=1250.0, style=Pro…"
      ]
     },
     "metadata": {},
     "output_type": "display_data"
    },
    {
     "name": "stdout",
     "output_type": "stream",
     "text": [
      "Epoch 139: train=9.43513, val=9.4005, took 66.941 s\n",
      "  Validation Found 49526 of 54504, added 1115 (eff 90.87%) (0.112 FP/event)\n",
      "Result epoch:  139\n",
      "Average Eff:  0.0\n",
      "Average FP Rate:  0.0\n"
     ]
    },
    {
     "data": {
      "application/vnd.jupyter.widget-view+json": {
       "model_id": "",
       "version_major": 2,
       "version_minor": 0
      },
      "text/plain": [
       "HBox(children=(FloatProgress(value=0.0, description='Training', layout=Layout(flex='2'), max=1250.0, style=Pro…"
      ]
     },
     "metadata": {},
     "output_type": "display_data"
    },
    {
     "name": "stdout",
     "output_type": "stream",
     "text": [
      "Epoch 140: train=9.42355, val=9.31615, took 66.974 s\n",
      "  Validation Found 49750 of 54504, added 1211 (eff 91.28%) (0.121 FP/event)\n",
      "Result epoch:  140\n",
      "Average Eff:  0.0\n",
      "Average FP Rate:  0.0\n"
     ]
    },
    {
     "data": {
      "application/vnd.jupyter.widget-view+json": {
       "model_id": "",
       "version_major": 2,
       "version_minor": 0
      },
      "text/plain": [
       "HBox(children=(FloatProgress(value=0.0, description='Training', layout=Layout(flex='2'), max=1250.0, style=Pro…"
      ]
     },
     "metadata": {},
     "output_type": "display_data"
    },
    {
     "name": "stdout",
     "output_type": "stream",
     "text": [
      "Epoch 141: train=9.39776, val=9.25787, took 66.892 s\n",
      "  Validation Found 49837 of 54504, added 1352 (eff 91.44%) (0.135 FP/event)\n",
      "Result epoch:  141\n",
      "Average Eff:  0.0\n",
      "Average FP Rate:  0.0\n"
     ]
    },
    {
     "data": {
      "application/vnd.jupyter.widget-view+json": {
       "model_id": "",
       "version_major": 2,
       "version_minor": 0
      },
      "text/plain": [
       "HBox(children=(FloatProgress(value=0.0, description='Training', layout=Layout(flex='2'), max=1250.0, style=Pro…"
      ]
     },
     "metadata": {},
     "output_type": "display_data"
    },
    {
     "name": "stdout",
     "output_type": "stream",
     "text": [
      "Epoch 142: train=9.41105, val=9.2074, took 67.01 s\n",
      "  Validation Found 50155 of 54504, added 1411 (eff 92.02%) (0.141 FP/event)\n",
      "Result epoch:  142\n",
      "Average Eff:  0.0\n",
      "Average FP Rate:  0.0\n"
     ]
    },
    {
     "data": {
      "application/vnd.jupyter.widget-view+json": {
       "model_id": "",
       "version_major": 2,
       "version_minor": 0
      },
      "text/plain": [
       "HBox(children=(FloatProgress(value=0.0, description='Training', layout=Layout(flex='2'), max=1250.0, style=Pro…"
      ]
     },
     "metadata": {},
     "output_type": "display_data"
    },
    {
     "name": "stdout",
     "output_type": "stream",
     "text": [
      "Epoch 143: train=9.38559, val=9.19019, took 67.666 s\n",
      "  Validation Found 49692 of 54504, added 1143 (eff 91.17%) (0.114 FP/event)\n",
      "Result epoch:  143\n",
      "Average Eff:  0.0\n",
      "Average FP Rate:  0.0\n"
     ]
    },
    {
     "data": {
      "application/vnd.jupyter.widget-view+json": {
       "model_id": "",
       "version_major": 2,
       "version_minor": 0
      },
      "text/plain": [
       "HBox(children=(FloatProgress(value=0.0, description='Training', layout=Layout(flex='2'), max=1250.0, style=Pro…"
      ]
     },
     "metadata": {},
     "output_type": "display_data"
    },
    {
     "name": "stdout",
     "output_type": "stream",
     "text": [
      "Epoch 144: train=9.38387, val=9.21132, took 66.936 s\n",
      "  Validation Found 49877 of 54504, added 1377 (eff 91.51%) (0.138 FP/event)\n",
      "Result epoch:  144\n",
      "Average Eff:  0.0\n",
      "Average FP Rate:  0.0\n"
     ]
    },
    {
     "data": {
      "application/vnd.jupyter.widget-view+json": {
       "model_id": "",
       "version_major": 2,
       "version_minor": 0
      },
      "text/plain": [
       "HBox(children=(FloatProgress(value=0.0, description='Training', layout=Layout(flex='2'), max=1250.0, style=Pro…"
      ]
     },
     "metadata": {},
     "output_type": "display_data"
    },
    {
     "name": "stdout",
     "output_type": "stream",
     "text": [
      "Epoch 145: train=9.36678, val=9.2872, took 67.07 s\n",
      "  Validation Found 50005 of 54504, added 1437 (eff 91.75%) (0.144 FP/event)\n",
      "Result epoch:  145\n",
      "Average Eff:  0.0\n",
      "Average FP Rate:  0.0\n"
     ]
    },
    {
     "data": {
      "application/vnd.jupyter.widget-view+json": {
       "model_id": "",
       "version_major": 2,
       "version_minor": 0
      },
      "text/plain": [
       "HBox(children=(FloatProgress(value=0.0, description='Training', layout=Layout(flex='2'), max=1250.0, style=Pro…"
      ]
     },
     "metadata": {},
     "output_type": "display_data"
    },
    {
     "name": "stdout",
     "output_type": "stream",
     "text": [
      "Epoch 146: train=9.36003, val=9.51834, took 66.977 s\n",
      "  Validation Found 49671 of 54504, added 1341 (eff 91.13%) (0.134 FP/event)\n",
      "Result epoch:  146\n",
      "Average Eff:  0.0\n",
      "Average FP Rate:  0.0\n"
     ]
    },
    {
     "data": {
      "application/vnd.jupyter.widget-view+json": {
       "model_id": "",
       "version_major": 2,
       "version_minor": 0
      },
      "text/plain": [
       "HBox(children=(FloatProgress(value=0.0, description='Training', layout=Layout(flex='2'), max=1250.0, style=Pro…"
      ]
     },
     "metadata": {},
     "output_type": "display_data"
    },
    {
     "name": "stdout",
     "output_type": "stream",
     "text": [
      "Epoch 147: train=9.35061, val=9.27361, took 66.955 s\n",
      "  Validation Found 49812 of 54504, added 1299 (eff 91.39%) (0.13 FP/event)\n",
      "Result epoch:  147\n",
      "Average Eff:  0.0\n",
      "Average FP Rate:  0.0\n"
     ]
    },
    {
     "data": {
      "application/vnd.jupyter.widget-view+json": {
       "model_id": "",
       "version_major": 2,
       "version_minor": 0
      },
      "text/plain": [
       "HBox(children=(FloatProgress(value=0.0, description='Training', layout=Layout(flex='2'), max=1250.0, style=Pro…"
      ]
     },
     "metadata": {},
     "output_type": "display_data"
    },
    {
     "name": "stdout",
     "output_type": "stream",
     "text": [
      "Epoch 148: train=9.3405, val=9.55382, took 66.966 s\n",
      "  Validation Found 49262 of 54504, added 1083 (eff 90.38%) (0.108 FP/event)\n",
      "Result epoch:  148\n",
      "Average Eff:  0.0\n",
      "Average FP Rate:  0.0\n"
     ]
    },
    {
     "data": {
      "application/vnd.jupyter.widget-view+json": {
       "model_id": "",
       "version_major": 2,
       "version_minor": 0
      },
      "text/plain": [
       "HBox(children=(FloatProgress(value=0.0, description='Training', layout=Layout(flex='2'), max=1250.0, style=Pro…"
      ]
     },
     "metadata": {},
     "output_type": "display_data"
    },
    {
     "name": "stdout",
     "output_type": "stream",
     "text": [
      "Epoch 149: train=9.33602, val=9.29924, took 66.974 s\n",
      "  Validation Found 49808 of 54504, added 1302 (eff 91.38%) (0.13 FP/event)\n",
      "Result epoch:  149\n",
      "Average Eff:  0.0\n",
      "Average FP Rate:  0.0\n"
     ]
    },
    {
     "data": {
      "application/vnd.jupyter.widget-view+json": {
       "model_id": "",
       "version_major": 2,
       "version_minor": 0
      },
      "text/plain": [
       "HBox(children=(FloatProgress(value=0.0, description='Training', layout=Layout(flex='2'), max=1250.0, style=Pro…"
      ]
     },
     "metadata": {},
     "output_type": "display_data"
    },
    {
     "name": "stdout",
     "output_type": "stream",
     "text": [
      "Epoch 150: train=9.33107, val=9.31087, took 66.971 s\n",
      "  Validation Found 49673 of 54504, added 1133 (eff 91.14%) (0.113 FP/event)\n",
      "Result epoch:  150\n",
      "Average Eff:  0.0\n",
      "Average FP Rate:  0.0\n"
     ]
    },
    {
     "data": {
      "application/vnd.jupyter.widget-view+json": {
       "model_id": "",
       "version_major": 2,
       "version_minor": 0
      },
      "text/plain": [
       "HBox(children=(FloatProgress(value=0.0, description='Training', layout=Layout(flex='2'), max=1250.0, style=Pro…"
      ]
     },
     "metadata": {},
     "output_type": "display_data"
    },
    {
     "name": "stdout",
     "output_type": "stream",
     "text": [
      "Epoch 151: train=9.32078, val=9.4537, took 67.021 s\n",
      "  Validation Found 49132 of 54504, added 925 (eff 90.14%) (0.0926 FP/event)\n",
      "Result epoch:  151\n",
      "Average Eff:  0.0\n",
      "Average FP Rate:  0.0\n"
     ]
    },
    {
     "data": {
      "application/vnd.jupyter.widget-view+json": {
       "model_id": "",
       "version_major": 2,
       "version_minor": 0
      },
      "text/plain": [
       "HBox(children=(FloatProgress(value=0.0, description='Training', layout=Layout(flex='2'), max=1250.0, style=Pro…"
      ]
     },
     "metadata": {},
     "output_type": "display_data"
    },
    {
     "name": "stdout",
     "output_type": "stream",
     "text": [
      "Epoch 152: train=9.33317, val=9.45764, took 66.987 s\n",
      "  Validation Found 49276 of 54504, added 1064 (eff 90.41%) (0.107 FP/event)\n",
      "Result epoch:  152\n",
      "Average Eff:  0.0\n",
      "Average FP Rate:  0.0\n"
     ]
    },
    {
     "data": {
      "application/vnd.jupyter.widget-view+json": {
       "model_id": "",
       "version_major": 2,
       "version_minor": 0
      },
      "text/plain": [
       "HBox(children=(FloatProgress(value=0.0, description='Training', layout=Layout(flex='2'), max=1250.0, style=Pro…"
      ]
     },
     "metadata": {},
     "output_type": "display_data"
    },
    {
     "name": "stdout",
     "output_type": "stream",
     "text": [
      "Epoch 153: train=9.30507, val=9.43106, took 67.249 s\n",
      "  Validation Found 49655 of 54504, added 1138 (eff 91.10%) (0.114 FP/event)\n",
      "Result epoch:  153\n",
      "Average Eff:  0.0\n",
      "Average FP Rate:  0.0\n"
     ]
    },
    {
     "data": {
      "application/vnd.jupyter.widget-view+json": {
       "model_id": "",
       "version_major": 2,
       "version_minor": 0
      },
      "text/plain": [
       "HBox(children=(FloatProgress(value=0.0, description='Training', layout=Layout(flex='2'), max=1250.0, style=Pro…"
      ]
     },
     "metadata": {},
     "output_type": "display_data"
    },
    {
     "name": "stdout",
     "output_type": "stream",
     "text": [
      "Epoch 154: train=9.30376, val=9.28, took 67.004 s\n",
      "  Validation Found 49814 of 54504, added 1272 (eff 91.40%) (0.127 FP/event)\n",
      "Result epoch:  154\n",
      "Average Eff:  0.0\n",
      "Average FP Rate:  0.0\n"
     ]
    },
    {
     "data": {
      "application/vnd.jupyter.widget-view+json": {
       "model_id": "",
       "version_major": 2,
       "version_minor": 0
      },
      "text/plain": [
       "HBox(children=(FloatProgress(value=0.0, description='Training', layout=Layout(flex='2'), max=1250.0, style=Pro…"
      ]
     },
     "metadata": {},
     "output_type": "display_data"
    },
    {
     "name": "stdout",
     "output_type": "stream",
     "text": [
      "Epoch 155: train=9.29368, val=9.3929, took 66.141 s\n",
      "  Validation Found 49501 of 54504, added 1217 (eff 90.82%) (0.122 FP/event)\n",
      "Result epoch:  155\n",
      "Average Eff:  0.0\n",
      "Average FP Rate:  0.0\n"
     ]
    },
    {
     "data": {
      "application/vnd.jupyter.widget-view+json": {
       "model_id": "",
       "version_major": 2,
       "version_minor": 0
      },
      "text/plain": [
       "HBox(children=(FloatProgress(value=0.0, description='Training', layout=Layout(flex='2'), max=1250.0, style=Pro…"
      ]
     },
     "metadata": {},
     "output_type": "display_data"
    },
    {
     "name": "stdout",
     "output_type": "stream",
     "text": [
      "Epoch 156: train=9.28318, val=9.37794, took 66.977 s\n",
      "  Validation Found 49678 of 54504, added 1228 (eff 91.15%) (0.123 FP/event)\n",
      "Result epoch:  156\n",
      "Average Eff:  0.0\n",
      "Average FP Rate:  0.0\n"
     ]
    },
    {
     "data": {
      "application/vnd.jupyter.widget-view+json": {
       "model_id": "",
       "version_major": 2,
       "version_minor": 0
      },
      "text/plain": [
       "HBox(children=(FloatProgress(value=0.0, description='Training', layout=Layout(flex='2'), max=1250.0, style=Pro…"
      ]
     },
     "metadata": {},
     "output_type": "display_data"
    },
    {
     "name": "stdout",
     "output_type": "stream",
     "text": [
      "Epoch 157: train=9.2848, val=9.28085, took 66.961 s\n",
      "  Validation Found 49686 of 54504, added 1107 (eff 91.16%) (0.111 FP/event)\n",
      "Result epoch:  157\n",
      "Average Eff:  0.0\n",
      "Average FP Rate:  0.0\n"
     ]
    },
    {
     "data": {
      "application/vnd.jupyter.widget-view+json": {
       "model_id": "",
       "version_major": 2,
       "version_minor": 0
      },
      "text/plain": [
       "HBox(children=(FloatProgress(value=0.0, description='Training', layout=Layout(flex='2'), max=1250.0, style=Pro…"
      ]
     },
     "metadata": {},
     "output_type": "display_data"
    },
    {
     "name": "stdout",
     "output_type": "stream",
     "text": [
      "Epoch 158: train=9.28185, val=9.29138, took 66.922 s\n",
      "  Validation Found 49681 of 54504, added 1175 (eff 91.15%) (0.118 FP/event)\n",
      "Result epoch:  158\n",
      "Average Eff:  0.0\n",
      "Average FP Rate:  0.0\n"
     ]
    },
    {
     "data": {
      "application/vnd.jupyter.widget-view+json": {
       "model_id": "",
       "version_major": 2,
       "version_minor": 0
      },
      "text/plain": [
       "HBox(children=(FloatProgress(value=0.0, description='Training', layout=Layout(flex='2'), max=1250.0, style=Pro…"
      ]
     },
     "metadata": {},
     "output_type": "display_data"
    },
    {
     "name": "stdout",
     "output_type": "stream",
     "text": [
      "Epoch 159: train=9.27133, val=9.13731, took 67.299 s\n",
      "  Validation Found 49874 of 54504, added 1327 (eff 91.51%) (0.133 FP/event)\n",
      "Result epoch:  159\n",
      "Average Eff:  0.0\n",
      "Average FP Rate:  0.0\n"
     ]
    },
    {
     "data": {
      "application/vnd.jupyter.widget-view+json": {
       "model_id": "",
       "version_major": 2,
       "version_minor": 0
      },
      "text/plain": [
       "HBox(children=(FloatProgress(value=0.0, description='Training', layout=Layout(flex='2'), max=1250.0, style=Pro…"
      ]
     },
     "metadata": {},
     "output_type": "display_data"
    },
    {
     "name": "stdout",
     "output_type": "stream",
     "text": [
      "Epoch 160: train=9.25045, val=9.49596, took 67.009 s\n",
      "  Validation Found 49679 of 54504, added 1147 (eff 91.15%) (0.115 FP/event)\n",
      "Result epoch:  160\n",
      "Average Eff:  0.0\n",
      "Average FP Rate:  0.0\n"
     ]
    },
    {
     "data": {
      "application/vnd.jupyter.widget-view+json": {
       "model_id": "",
       "version_major": 2,
       "version_minor": 0
      },
      "text/plain": [
       "HBox(children=(FloatProgress(value=0.0, description='Training', layout=Layout(flex='2'), max=1250.0, style=Pro…"
      ]
     },
     "metadata": {},
     "output_type": "display_data"
    },
    {
     "name": "stdout",
     "output_type": "stream",
     "text": [
      "Epoch 161: train=9.26121, val=9.36139, took 66.994 s\n",
      "  Validation Found 49812 of 54504, added 1312 (eff 91.39%) (0.131 FP/event)\n",
      "Result epoch:  161\n",
      "Average Eff:  0.0\n",
      "Average FP Rate:  0.0\n"
     ]
    },
    {
     "data": {
      "application/vnd.jupyter.widget-view+json": {
       "model_id": "",
       "version_major": 2,
       "version_minor": 0
      },
      "text/plain": [
       "HBox(children=(FloatProgress(value=0.0, description='Training', layout=Layout(flex='2'), max=1250.0, style=Pro…"
      ]
     },
     "metadata": {},
     "output_type": "display_data"
    },
    {
     "name": "stdout",
     "output_type": "stream",
     "text": [
      "Epoch 162: train=9.24719, val=9.43665, took 66.959 s\n",
      "  Validation Found 49702 of 54504, added 1222 (eff 91.19%) (0.122 FP/event)\n",
      "Result epoch:  162\n",
      "Average Eff:  0.0\n",
      "Average FP Rate:  0.0\n"
     ]
    },
    {
     "data": {
      "application/vnd.jupyter.widget-view+json": {
       "model_id": "",
       "version_major": 2,
       "version_minor": 0
      },
      "text/plain": [
       "HBox(children=(FloatProgress(value=0.0, description='Training', layout=Layout(flex='2'), max=1250.0, style=Pro…"
      ]
     },
     "metadata": {},
     "output_type": "display_data"
    },
    {
     "name": "stdout",
     "output_type": "stream",
     "text": [
      "Epoch 163: train=9.23889, val=9.21788, took 66.983 s\n",
      "  Validation Found 49683 of 54504, added 1138 (eff 91.15%) (0.114 FP/event)\n",
      "Result epoch:  163\n",
      "Average Eff:  0.0\n",
      "Average FP Rate:  0.0\n"
     ]
    },
    {
     "data": {
      "application/vnd.jupyter.widget-view+json": {
       "model_id": "",
       "version_major": 2,
       "version_minor": 0
      },
      "text/plain": [
       "HBox(children=(FloatProgress(value=0.0, description='Training', layout=Layout(flex='2'), max=1250.0, style=Pro…"
      ]
     },
     "metadata": {},
     "output_type": "display_data"
    },
    {
     "name": "stdout",
     "output_type": "stream",
     "text": [
      "Epoch 164: train=9.23917, val=9.20902, took 66.958 s\n",
      "  Validation Found 49979 of 54504, added 1398 (eff 91.70%) (0.14 FP/event)\n",
      "Result epoch:  164\n",
      "Average Eff:  0.0\n",
      "Average FP Rate:  0.0\n"
     ]
    },
    {
     "data": {
      "application/vnd.jupyter.widget-view+json": {
       "model_id": "",
       "version_major": 2,
       "version_minor": 0
      },
      "text/plain": [
       "HBox(children=(FloatProgress(value=0.0, description='Training', layout=Layout(flex='2'), max=1250.0, style=Pro…"
      ]
     },
     "metadata": {},
     "output_type": "display_data"
    },
    {
     "name": "stdout",
     "output_type": "stream",
     "text": [
      "Epoch 165: train=9.24306, val=9.23769, took 66.951 s\n",
      "  Validation Found 49777 of 54504, added 1185 (eff 91.33%) (0.119 FP/event)\n",
      "Result epoch:  165\n",
      "Average Eff:  0.0\n",
      "Average FP Rate:  0.0\n"
     ]
    },
    {
     "data": {
      "application/vnd.jupyter.widget-view+json": {
       "model_id": "",
       "version_major": 2,
       "version_minor": 0
      },
      "text/plain": [
       "HBox(children=(FloatProgress(value=0.0, description='Training', layout=Layout(flex='2'), max=1250.0, style=Pro…"
      ]
     },
     "metadata": {},
     "output_type": "display_data"
    },
    {
     "name": "stdout",
     "output_type": "stream",
     "text": [
      "Epoch 166: train=9.24603, val=9.48656, took 67.217 s\n",
      "  Validation Found 49979 of 54504, added 1547 (eff 91.70%) (0.155 FP/event)\n",
      "Result epoch:  166\n",
      "Average Eff:  0.0\n",
      "Average FP Rate:  0.0\n"
     ]
    },
    {
     "data": {
      "application/vnd.jupyter.widget-view+json": {
       "model_id": "",
       "version_major": 2,
       "version_minor": 0
      },
      "text/plain": [
       "HBox(children=(FloatProgress(value=0.0, description='Training', layout=Layout(flex='2'), max=1250.0, style=Pro…"
      ]
     },
     "metadata": {},
     "output_type": "display_data"
    },
    {
     "name": "stdout",
     "output_type": "stream",
     "text": [
      "Epoch 167: train=9.23858, val=9.39783, took 67.026 s\n",
      "  Validation Found 49691 of 54504, added 1273 (eff 91.17%) (0.127 FP/event)\n",
      "Result epoch:  167\n",
      "Average Eff:  0.0\n",
      "Average FP Rate:  0.0\n"
     ]
    },
    {
     "data": {
      "application/vnd.jupyter.widget-view+json": {
       "model_id": "",
       "version_major": 2,
       "version_minor": 0
      },
      "text/plain": [
       "HBox(children=(FloatProgress(value=0.0, description='Training', layout=Layout(flex='2'), max=1250.0, style=Pro…"
      ]
     },
     "metadata": {},
     "output_type": "display_data"
    },
    {
     "name": "stdout",
     "output_type": "stream",
     "text": [
      "Epoch 168: train=9.22349, val=9.31454, took 66.944 s\n",
      "  Validation Found 49892 of 54504, added 1305 (eff 91.54%) (0.131 FP/event)\n",
      "Result epoch:  168\n",
      "Average Eff:  0.0\n",
      "Average FP Rate:  0.0\n"
     ]
    },
    {
     "data": {
      "application/vnd.jupyter.widget-view+json": {
       "model_id": "",
       "version_major": 2,
       "version_minor": 0
      },
      "text/plain": [
       "HBox(children=(FloatProgress(value=0.0, description='Training', layout=Layout(flex='2'), max=1250.0, style=Pro…"
      ]
     },
     "metadata": {},
     "output_type": "display_data"
    },
    {
     "name": "stdout",
     "output_type": "stream",
     "text": [
      "Epoch 169: train=9.21996, val=9.20461, took 66.955 s\n",
      "  Validation Found 49783 of 54504, added 1215 (eff 91.34%) (0.122 FP/event)\n",
      "Result epoch:  169\n",
      "Average Eff:  0.0\n",
      "Average FP Rate:  0.0\n"
     ]
    },
    {
     "data": {
      "application/vnd.jupyter.widget-view+json": {
       "model_id": "",
       "version_major": 2,
       "version_minor": 0
      },
      "text/plain": [
       "HBox(children=(FloatProgress(value=0.0, description='Training', layout=Layout(flex='2'), max=1250.0, style=Pro…"
      ]
     },
     "metadata": {},
     "output_type": "display_data"
    },
    {
     "name": "stdout",
     "output_type": "stream",
     "text": [
      "Epoch 170: train=9.21733, val=9.31325, took 66.961 s\n",
      "  Validation Found 49571 of 54504, added 1081 (eff 90.95%) (0.108 FP/event)\n",
      "Result epoch:  170\n",
      "Average Eff:  0.0\n",
      "Average FP Rate:  0.0\n"
     ]
    },
    {
     "data": {
      "application/vnd.jupyter.widget-view+json": {
       "model_id": "",
       "version_major": 2,
       "version_minor": 0
      },
      "text/plain": [
       "HBox(children=(FloatProgress(value=0.0, description='Training', layout=Layout(flex='2'), max=1250.0, style=Pro…"
      ]
     },
     "metadata": {},
     "output_type": "display_data"
    },
    {
     "name": "stdout",
     "output_type": "stream",
     "text": [
      "Epoch 171: train=9.2143, val=9.38207, took 66.994 s\n",
      "  Validation Found 49480 of 54504, added 1062 (eff 90.78%) (0.106 FP/event)\n",
      "Result epoch:  171\n",
      "Average Eff:  0.0\n",
      "Average FP Rate:  0.0\n"
     ]
    },
    {
     "data": {
      "application/vnd.jupyter.widget-view+json": {
       "model_id": "",
       "version_major": 2,
       "version_minor": 0
      },
      "text/plain": [
       "HBox(children=(FloatProgress(value=0.0, description='Training', layout=Layout(flex='2'), max=1250.0, style=Pro…"
      ]
     },
     "metadata": {},
     "output_type": "display_data"
    },
    {
     "name": "stdout",
     "output_type": "stream",
     "text": [
      "Epoch 172: train=9.19339, val=9.23907, took 67.0 s\n",
      "  Validation Found 49623 of 54504, added 1154 (eff 91.04%) (0.116 FP/event)\n",
      "Result epoch:  172\n",
      "Average Eff:  0.0\n",
      "Average FP Rate:  0.0\n"
     ]
    },
    {
     "data": {
      "application/vnd.jupyter.widget-view+json": {
       "model_id": "",
       "version_major": 2,
       "version_minor": 0
      },
      "text/plain": [
       "HBox(children=(FloatProgress(value=0.0, description='Training', layout=Layout(flex='2'), max=1250.0, style=Pro…"
      ]
     },
     "metadata": {},
     "output_type": "display_data"
    },
    {
     "name": "stdout",
     "output_type": "stream",
     "text": [
      "Epoch 173: train=9.18914, val=9.3055, took 66.927 s\n",
      "  Validation Found 49778 of 54504, added 1180 (eff 91.33%) (0.118 FP/event)\n",
      "Result epoch:  173\n",
      "Average Eff:  0.0\n",
      "Average FP Rate:  0.0\n"
     ]
    },
    {
     "data": {
      "application/vnd.jupyter.widget-view+json": {
       "model_id": "",
       "version_major": 2,
       "version_minor": 0
      },
      "text/plain": [
       "HBox(children=(FloatProgress(value=0.0, description='Training', layout=Layout(flex='2'), max=1250.0, style=Pro…"
      ]
     },
     "metadata": {},
     "output_type": "display_data"
    },
    {
     "name": "stdout",
     "output_type": "stream",
     "text": [
      "Epoch 174: train=9.20358, val=9.332, took 67.158 s\n",
      "  Validation Found 49666 of 54504, added 1210 (eff 91.12%) (0.121 FP/event)\n",
      "Result epoch:  174\n",
      "Average Eff:  0.0\n",
      "Average FP Rate:  0.0\n"
     ]
    },
    {
     "data": {
      "application/vnd.jupyter.widget-view+json": {
       "model_id": "",
       "version_major": 2,
       "version_minor": 0
      },
      "text/plain": [
       "HBox(children=(FloatProgress(value=0.0, description='Training', layout=Layout(flex='2'), max=1250.0, style=Pro…"
      ]
     },
     "metadata": {},
     "output_type": "display_data"
    },
    {
     "name": "stdout",
     "output_type": "stream",
     "text": [
      "Epoch 175: train=9.19624, val=9.24627, took 67.028 s\n",
      "  Validation Found 49758 of 54504, added 1189 (eff 91.29%) (0.119 FP/event)\n",
      "Result epoch:  175\n",
      "Average Eff:  0.0\n",
      "Average FP Rate:  0.0\n"
     ]
    },
    {
     "data": {
      "application/vnd.jupyter.widget-view+json": {
       "model_id": "",
       "version_major": 2,
       "version_minor": 0
      },
      "text/plain": [
       "HBox(children=(FloatProgress(value=0.0, description='Training', layout=Layout(flex='2'), max=1250.0, style=Pro…"
      ]
     },
     "metadata": {},
     "output_type": "display_data"
    },
    {
     "name": "stdout",
     "output_type": "stream",
     "text": [
      "Epoch 176: train=9.1699, val=9.35823, took 67.044 s\n",
      "  Validation Found 49677 of 54504, added 1171 (eff 91.14%) (0.117 FP/event)\n",
      "Result epoch:  176\n",
      "Average Eff:  0.0\n",
      "Average FP Rate:  0.0\n"
     ]
    },
    {
     "data": {
      "application/vnd.jupyter.widget-view+json": {
       "model_id": "",
       "version_major": 2,
       "version_minor": 0
      },
      "text/plain": [
       "HBox(children=(FloatProgress(value=0.0, description='Training', layout=Layout(flex='2'), max=1250.0, style=Pro…"
      ]
     },
     "metadata": {},
     "output_type": "display_data"
    },
    {
     "name": "stdout",
     "output_type": "stream",
     "text": [
      "Epoch 177: train=9.17122, val=9.25875, took 67.008 s\n",
      "  Validation Found 49494 of 54504, added 1121 (eff 90.81%) (0.112 FP/event)\n",
      "Result epoch:  177\n",
      "Average Eff:  0.0\n",
      "Average FP Rate:  0.0\n"
     ]
    },
    {
     "data": {
      "application/vnd.jupyter.widget-view+json": {
       "model_id": "",
       "version_major": 2,
       "version_minor": 0
      },
      "text/plain": [
       "HBox(children=(FloatProgress(value=0.0, description='Training', layout=Layout(flex='2'), max=1250.0, style=Pro…"
      ]
     },
     "metadata": {},
     "output_type": "display_data"
    },
    {
     "name": "stdout",
     "output_type": "stream",
     "text": [
      "Epoch 178: train=9.1601, val=9.27402, took 67.008 s\n",
      "  Validation Found 49623 of 54504, added 1154 (eff 91.04%) (0.116 FP/event)\n",
      "Result epoch:  178\n",
      "Average Eff:  0.0\n",
      "Average FP Rate:  0.0\n"
     ]
    },
    {
     "data": {
      "application/vnd.jupyter.widget-view+json": {
       "model_id": "",
       "version_major": 2,
       "version_minor": 0
      },
      "text/plain": [
       "HBox(children=(FloatProgress(value=0.0, description='Training', layout=Layout(flex='2'), max=1250.0, style=Pro…"
      ]
     },
     "metadata": {},
     "output_type": "display_data"
    },
    {
     "name": "stdout",
     "output_type": "stream",
     "text": [
      "Epoch 179: train=9.15307, val=9.26203, took 67.188 s\n",
      "  Validation Found 49827 of 54504, added 1238 (eff 91.42%) (0.124 FP/event)\n",
      "Result epoch:  179\n",
      "Average Eff:  0.0\n",
      "Average FP Rate:  0.0\n"
     ]
    },
    {
     "data": {
      "application/vnd.jupyter.widget-view+json": {
       "model_id": "",
       "version_major": 2,
       "version_minor": 0
      },
      "text/plain": [
       "HBox(children=(FloatProgress(value=0.0, description='Training', layout=Layout(flex='2'), max=1250.0, style=Pro…"
      ]
     },
     "metadata": {},
     "output_type": "display_data"
    },
    {
     "name": "stdout",
     "output_type": "stream",
     "text": [
      "Epoch 180: train=9.14881, val=9.16541, took 67.072 s\n",
      "  Validation Found 49752 of 54504, added 1184 (eff 91.28%) (0.119 FP/event)\n",
      "Result epoch:  180\n",
      "Average Eff:  0.0\n",
      "Average FP Rate:  0.0\n"
     ]
    },
    {
     "data": {
      "application/vnd.jupyter.widget-view+json": {
       "model_id": "",
       "version_major": 2,
       "version_minor": 0
      },
      "text/plain": [
       "HBox(children=(FloatProgress(value=0.0, description='Training', layout=Layout(flex='2'), max=1250.0, style=Pro…"
      ]
     },
     "metadata": {},
     "output_type": "display_data"
    },
    {
     "name": "stdout",
     "output_type": "stream",
     "text": [
      "Epoch 181: train=9.14859, val=9.25771, took 67.449 s\n",
      "  Validation Found 49585 of 54504, added 1200 (eff 90.97%) (0.12 FP/event)\n",
      "Result epoch:  181\n",
      "Average Eff:  0.0\n",
      "Average FP Rate:  0.0\n"
     ]
    },
    {
     "data": {
      "application/vnd.jupyter.widget-view+json": {
       "model_id": "",
       "version_major": 2,
       "version_minor": 0
      },
      "text/plain": [
       "HBox(children=(FloatProgress(value=0.0, description='Training', layout=Layout(flex='2'), max=1250.0, style=Pro…"
      ]
     },
     "metadata": {},
     "output_type": "display_data"
    },
    {
     "name": "stdout",
     "output_type": "stream",
     "text": [
      "Epoch 182: train=9.14598, val=9.28932, took 67.077 s\n",
      "  Validation Found 49957 of 54504, added 1414 (eff 91.66%) (0.142 FP/event)\n",
      "Result epoch:  182\n",
      "Average Eff:  0.0\n",
      "Average FP Rate:  0.0\n"
     ]
    },
    {
     "data": {
      "application/vnd.jupyter.widget-view+json": {
       "model_id": "",
       "version_major": 2,
       "version_minor": 0
      },
      "text/plain": [
       "HBox(children=(FloatProgress(value=0.0, description='Training', layout=Layout(flex='2'), max=1250.0, style=Pro…"
      ]
     },
     "metadata": {},
     "output_type": "display_data"
    },
    {
     "name": "stdout",
     "output_type": "stream",
     "text": [
      "Epoch 183: train=9.12936, val=9.45529, took 67.022 s\n",
      "  Validation Found 49222 of 54504, added 961 (eff 90.31%) (0.0962 FP/event)\n",
      "Result epoch:  183\n",
      "Average Eff:  0.0\n",
      "Average FP Rate:  0.0\n"
     ]
    },
    {
     "data": {
      "application/vnd.jupyter.widget-view+json": {
       "model_id": "",
       "version_major": 2,
       "version_minor": 0
      },
      "text/plain": [
       "HBox(children=(FloatProgress(value=0.0, description='Training', layout=Layout(flex='2'), max=1250.0, style=Pro…"
      ]
     },
     "metadata": {},
     "output_type": "display_data"
    },
    {
     "name": "stdout",
     "output_type": "stream",
     "text": [
      "Epoch 184: train=9.12346, val=9.81903, took 67.044 s\n",
      "  Validation Found 49062 of 54504, added 946 (eff 90.02%) (0.0947 FP/event)\n",
      "Result epoch:  184\n",
      "Average Eff:  0.0\n",
      "Average FP Rate:  0.0\n"
     ]
    },
    {
     "data": {
      "application/vnd.jupyter.widget-view+json": {
       "model_id": "",
       "version_major": 2,
       "version_minor": 0
      },
      "text/plain": [
       "HBox(children=(FloatProgress(value=0.0, description='Training', layout=Layout(flex='2'), max=1250.0, style=Pro…"
      ]
     },
     "metadata": {},
     "output_type": "display_data"
    },
    {
     "name": "stdout",
     "output_type": "stream",
     "text": [
      "Epoch 185: train=9.11948, val=9.17823, took 67.002 s\n",
      "  Validation Found 49881 of 54504, added 1261 (eff 91.52%) (0.126 FP/event)\n",
      "Result epoch:  185\n",
      "Average Eff:  0.0\n",
      "Average FP Rate:  0.0\n"
     ]
    },
    {
     "data": {
      "application/vnd.jupyter.widget-view+json": {
       "model_id": "",
       "version_major": 2,
       "version_minor": 0
      },
      "text/plain": [
       "HBox(children=(FloatProgress(value=0.0, description='Training', layout=Layout(flex='2'), max=1250.0, style=Pro…"
      ]
     },
     "metadata": {},
     "output_type": "display_data"
    },
    {
     "name": "stdout",
     "output_type": "stream",
     "text": [
      "Epoch 186: train=9.10691, val=9.10534, took 66.988 s\n",
      "  Validation Found 49907 of 54504, added 1382 (eff 91.57%) (0.138 FP/event)\n",
      "Result epoch:  186\n",
      "Average Eff:  0.0\n",
      "Average FP Rate:  0.0\n"
     ]
    },
    {
     "data": {
      "application/vnd.jupyter.widget-view+json": {
       "model_id": "",
       "version_major": 2,
       "version_minor": 0
      },
      "text/plain": [
       "HBox(children=(FloatProgress(value=0.0, description='Training', layout=Layout(flex='2'), max=1250.0, style=Pro…"
      ]
     },
     "metadata": {},
     "output_type": "display_data"
    },
    {
     "name": "stdout",
     "output_type": "stream",
     "text": [
      "Epoch 187: train=9.11497, val=9.42633, took 66.986 s\n",
      "  Validation Found 49371 of 54504, added 991 (eff 90.58%) (0.0992 FP/event)\n",
      "Result epoch:  187\n",
      "Average Eff:  0.0\n",
      "Average FP Rate:  0.0\n"
     ]
    },
    {
     "data": {
      "application/vnd.jupyter.widget-view+json": {
       "model_id": "",
       "version_major": 2,
       "version_minor": 0
      },
      "text/plain": [
       "HBox(children=(FloatProgress(value=0.0, description='Training', layout=Layout(flex='2'), max=1250.0, style=Pro…"
      ]
     },
     "metadata": {},
     "output_type": "display_data"
    },
    {
     "name": "stdout",
     "output_type": "stream",
     "text": [
      "Epoch 188: train=9.10002, val=9.17707, took 67.082 s\n",
      "  Validation Found 49924 of 54504, added 1254 (eff 91.60%) (0.126 FP/event)\n",
      "Result epoch:  188\n",
      "Average Eff:  0.0\n",
      "Average FP Rate:  0.0\n"
     ]
    },
    {
     "data": {
      "application/vnd.jupyter.widget-view+json": {
       "model_id": "",
       "version_major": 2,
       "version_minor": 0
      },
      "text/plain": [
       "HBox(children=(FloatProgress(value=0.0, description='Training', layout=Layout(flex='2'), max=1250.0, style=Pro…"
      ]
     },
     "metadata": {},
     "output_type": "display_data"
    },
    {
     "name": "stdout",
     "output_type": "stream",
     "text": [
      "Epoch 189: train=9.09839, val=9.38312, took 67.133 s\n",
      "  Validation Found 49537 of 54504, added 1130 (eff 90.89%) (0.113 FP/event)\n",
      "Result epoch:  189\n",
      "Average Eff:  0.0\n",
      "Average FP Rate:  0.0\n"
     ]
    },
    {
     "data": {
      "application/vnd.jupyter.widget-view+json": {
       "model_id": "",
       "version_major": 2,
       "version_minor": 0
      },
      "text/plain": [
       "HBox(children=(FloatProgress(value=0.0, description='Training', layout=Layout(flex='2'), max=1250.0, style=Pro…"
      ]
     },
     "metadata": {},
     "output_type": "display_data"
    },
    {
     "name": "stdout",
     "output_type": "stream",
     "text": [
      "Epoch 190: train=9.09375, val=9.41613, took 67.026 s\n",
      "  Validation Found 49471 of 54504, added 1149 (eff 90.77%) (0.115 FP/event)\n",
      "Result epoch:  190\n",
      "Average Eff:  0.0\n",
      "Average FP Rate:  0.0\n"
     ]
    },
    {
     "data": {
      "application/vnd.jupyter.widget-view+json": {
       "model_id": "",
       "version_major": 2,
       "version_minor": 0
      },
      "text/plain": [
       "HBox(children=(FloatProgress(value=0.0, description='Training', layout=Layout(flex='2'), max=1250.0, style=Pro…"
      ]
     },
     "metadata": {},
     "output_type": "display_data"
    },
    {
     "name": "stdout",
     "output_type": "stream",
     "text": [
      "Epoch 191: train=9.09225, val=9.1892, took 67.01 s\n",
      "  Validation Found 49755 of 54504, added 1204 (eff 91.29%) (0.121 FP/event)\n",
      "Result epoch:  191\n",
      "Average Eff:  0.0\n",
      "Average FP Rate:  0.0\n"
     ]
    },
    {
     "data": {
      "application/vnd.jupyter.widget-view+json": {
       "model_id": "",
       "version_major": 2,
       "version_minor": 0
      },
      "text/plain": [
       "HBox(children=(FloatProgress(value=0.0, description='Training', layout=Layout(flex='2'), max=1250.0, style=Pro…"
      ]
     },
     "metadata": {},
     "output_type": "display_data"
    },
    {
     "name": "stdout",
     "output_type": "stream",
     "text": [
      "Epoch 192: train=9.08152, val=9.58303, took 67.0 s\n",
      "  Validation Found 49203 of 54504, added 1029 (eff 90.27%) (0.103 FP/event)\n",
      "Result epoch:  192\n",
      "Average Eff:  0.0\n",
      "Average FP Rate:  0.0\n"
     ]
    },
    {
     "data": {
      "application/vnd.jupyter.widget-view+json": {
       "model_id": "",
       "version_major": 2,
       "version_minor": 0
      },
      "text/plain": [
       "HBox(children=(FloatProgress(value=0.0, description='Training', layout=Layout(flex='2'), max=1250.0, style=Pro…"
      ]
     },
     "metadata": {},
     "output_type": "display_data"
    },
    {
     "name": "stdout",
     "output_type": "stream",
     "text": [
      "Epoch 193: train=9.08782, val=9.20065, took 67.028 s\n",
      "  Validation Found 49817 of 54504, added 1233 (eff 91.40%) (0.123 FP/event)\n",
      "Result epoch:  193\n",
      "Average Eff:  0.0\n",
      "Average FP Rate:  0.0\n"
     ]
    },
    {
     "data": {
      "application/vnd.jupyter.widget-view+json": {
       "model_id": "",
       "version_major": 2,
       "version_minor": 0
      },
      "text/plain": [
       "HBox(children=(FloatProgress(value=0.0, description='Training', layout=Layout(flex='2'), max=1250.0, style=Pro…"
      ]
     },
     "metadata": {},
     "output_type": "display_data"
    },
    {
     "name": "stdout",
     "output_type": "stream",
     "text": [
      "Epoch 194: train=9.06645, val=9.33857, took 67.082 s\n",
      "  Validation Found 49604 of 54504, added 1180 (eff 91.01%) (0.118 FP/event)\n",
      "Result epoch:  194\n",
      "Average Eff:  0.0\n",
      "Average FP Rate:  0.0\n"
     ]
    },
    {
     "data": {
      "application/vnd.jupyter.widget-view+json": {
       "model_id": "",
       "version_major": 2,
       "version_minor": 0
      },
      "text/plain": [
       "HBox(children=(FloatProgress(value=0.0, description='Training', layout=Layout(flex='2'), max=1250.0, style=Pro…"
      ]
     },
     "metadata": {},
     "output_type": "display_data"
    },
    {
     "name": "stdout",
     "output_type": "stream",
     "text": [
      "Epoch 195: train=9.0658, val=9.42835, took 67.063 s\n",
      "  Validation Found 49540 of 54504, added 1120 (eff 90.89%) (0.112 FP/event)\n",
      "Result epoch:  195\n",
      "Average Eff:  0.0\n",
      "Average FP Rate:  0.0\n"
     ]
    },
    {
     "data": {
      "application/vnd.jupyter.widget-view+json": {
       "model_id": "",
       "version_major": 2,
       "version_minor": 0
      },
      "text/plain": [
       "HBox(children=(FloatProgress(value=0.0, description='Training', layout=Layout(flex='2'), max=1250.0, style=Pro…"
      ]
     },
     "metadata": {},
     "output_type": "display_data"
    },
    {
     "name": "stdout",
     "output_type": "stream",
     "text": [
      "Epoch 196: train=9.06005, val=9.19176, took 67.061 s\n",
      "  Validation Found 49780 of 54504, added 1224 (eff 91.33%) (0.123 FP/event)\n",
      "Result epoch:  196\n",
      "Average Eff:  0.0\n",
      "Average FP Rate:  0.0\n"
     ]
    },
    {
     "data": {
      "application/vnd.jupyter.widget-view+json": {
       "model_id": "",
       "version_major": 2,
       "version_minor": 0
      },
      "text/plain": [
       "HBox(children=(FloatProgress(value=0.0, description='Training', layout=Layout(flex='2'), max=1250.0, style=Pro…"
      ]
     },
     "metadata": {},
     "output_type": "display_data"
    },
    {
     "name": "stdout",
     "output_type": "stream",
     "text": [
      "Epoch 197: train=9.06068, val=9.42344, took 67.034 s\n",
      "  Validation Found 49489 of 54504, added 1056 (eff 90.80%) (0.106 FP/event)\n",
      "Result epoch:  197\n",
      "Average Eff:  0.0\n",
      "Average FP Rate:  0.0\n"
     ]
    },
    {
     "data": {
      "application/vnd.jupyter.widget-view+json": {
       "model_id": "",
       "version_major": 2,
       "version_minor": 0
      },
      "text/plain": [
       "HBox(children=(FloatProgress(value=0.0, description='Training', layout=Layout(flex='2'), max=1250.0, style=Pro…"
      ]
     },
     "metadata": {},
     "output_type": "display_data"
    },
    {
     "name": "stdout",
     "output_type": "stream",
     "text": [
      "Epoch 198: train=9.06541, val=9.33449, took 67.221 s\n",
      "  Validation Found 49357 of 54504, added 1043 (eff 90.56%) (0.104 FP/event)\n",
      "Result epoch:  198\n",
      "Average Eff:  0.0\n",
      "Average FP Rate:  0.0\n"
     ]
    },
    {
     "data": {
      "application/vnd.jupyter.widget-view+json": {
       "model_id": "",
       "version_major": 2,
       "version_minor": 0
      },
      "text/plain": [
       "HBox(children=(FloatProgress(value=0.0, description='Training', layout=Layout(flex='2'), max=1250.0, style=Pro…"
      ]
     },
     "metadata": {},
     "output_type": "display_data"
    },
    {
     "name": "stdout",
     "output_type": "stream",
     "text": [
      "Epoch 199: train=9.05449, val=9.36273, took 67.003 s\n",
      "  Validation Found 49528 of 54504, added 1139 (eff 90.87%) (0.114 FP/event)\n",
      "Result epoch:  199\n",
      "Average Eff:  0.0\n",
      "Average FP Rate:  0.0\n"
     ]
    },
    {
     "data": {
      "application/vnd.jupyter.widget-view+json": {
       "model_id": "",
       "version_major": 2,
       "version_minor": 0
      },
      "text/plain": [
       "HBox(children=(FloatProgress(value=0.0, description='Training', layout=Layout(flex='2'), max=1250.0, style=Pro…"
      ]
     },
     "metadata": {},
     "output_type": "display_data"
    },
    {
     "name": "stdout",
     "output_type": "stream",
     "text": [
      "Epoch 200: train=9.05038, val=9.31832, took 67.002 s\n",
      "  Validation Found 49532 of 54504, added 1084 (eff 90.88%) (0.109 FP/event)\n",
      "Result epoch:  200\n",
      "Average Eff:  0.0\n",
      "Average FP Rate:  0.0\n"
     ]
    },
    {
     "data": {
      "application/vnd.jupyter.widget-view+json": {
       "model_id": "",
       "version_major": 2,
       "version_minor": 0
      },
      "text/plain": [
       "HBox(children=(FloatProgress(value=0.0, description='Training', layout=Layout(flex='2'), max=1250.0, style=Pro…"
      ]
     },
     "metadata": {},
     "output_type": "display_data"
    },
    {
     "name": "stdout",
     "output_type": "stream",
     "text": [
      "Epoch 201: train=9.03526, val=9.33074, took 66.861 s\n",
      "  Validation Found 49513 of 54504, added 1081 (eff 90.84%) (0.108 FP/event)\n",
      "Result epoch:  201\n",
      "Average Eff:  0.0\n",
      "Average FP Rate:  0.0\n"
     ]
    },
    {
     "data": {
      "application/vnd.jupyter.widget-view+json": {
       "model_id": "",
       "version_major": 2,
       "version_minor": 0
      },
      "text/plain": [
       "HBox(children=(FloatProgress(value=0.0, description='Training', layout=Layout(flex='2'), max=1250.0, style=Pro…"
      ]
     },
     "metadata": {},
     "output_type": "display_data"
    },
    {
     "name": "stdout",
     "output_type": "stream",
     "text": [
      "Epoch 202: train=9.02833, val=9.32136, took 66.34 s\n",
      "  Validation Found 49588 of 54504, added 1127 (eff 90.98%) (0.113 FP/event)\n",
      "Result epoch:  202\n",
      "Average Eff:  0.0\n",
      "Average FP Rate:  0.0\n"
     ]
    },
    {
     "data": {
      "application/vnd.jupyter.widget-view+json": {
       "model_id": "",
       "version_major": 2,
       "version_minor": 0
      },
      "text/plain": [
       "HBox(children=(FloatProgress(value=0.0, description='Training', layout=Layout(flex='2'), max=1250.0, style=Pro…"
      ]
     },
     "metadata": {},
     "output_type": "display_data"
    },
    {
     "name": "stdout",
     "output_type": "stream",
     "text": [
      "Epoch 203: train=9.03182, val=9.21242, took 65.988 s\n",
      "  Validation Found 49729 of 54504, added 1232 (eff 91.24%) (0.123 FP/event)\n",
      "Result epoch:  203\n",
      "Average Eff:  0.0\n",
      "Average FP Rate:  0.0\n"
     ]
    },
    {
     "data": {
      "application/vnd.jupyter.widget-view+json": {
       "model_id": "",
       "version_major": 2,
       "version_minor": 0
      },
      "text/plain": [
       "HBox(children=(FloatProgress(value=0.0, description='Training', layout=Layout(flex='2'), max=1250.0, style=Pro…"
      ]
     },
     "metadata": {},
     "output_type": "display_data"
    },
    {
     "name": "stdout",
     "output_type": "stream",
     "text": [
      "Epoch 204: train=9.02074, val=9.26022, took 67.007 s\n",
      "  Validation Found 49792 of 54504, added 1322 (eff 91.35%) (0.132 FP/event)\n",
      "Result epoch:  204\n",
      "Average Eff:  0.0\n",
      "Average FP Rate:  0.0\n"
     ]
    },
    {
     "data": {
      "application/vnd.jupyter.widget-view+json": {
       "model_id": "",
       "version_major": 2,
       "version_minor": 0
      },
      "text/plain": [
       "HBox(children=(FloatProgress(value=0.0, description='Training', layout=Layout(flex='2'), max=1250.0, style=Pro…"
      ]
     },
     "metadata": {},
     "output_type": "display_data"
    },
    {
     "name": "stdout",
     "output_type": "stream",
     "text": [
      "Epoch 205: train=9.03734, val=9.19865, took 67.003 s\n",
      "  Validation Found 49785 of 54504, added 1286 (eff 91.34%) (0.129 FP/event)\n",
      "Result epoch:  205\n",
      "Average Eff:  0.0\n",
      "Average FP Rate:  0.0\n"
     ]
    },
    {
     "data": {
      "application/vnd.jupyter.widget-view+json": {
       "model_id": "",
       "version_major": 2,
       "version_minor": 0
      },
      "text/plain": [
       "HBox(children=(FloatProgress(value=0.0, description='Training', layout=Layout(flex='2'), max=1250.0, style=Pro…"
      ]
     },
     "metadata": {},
     "output_type": "display_data"
    },
    {
     "name": "stdout",
     "output_type": "stream",
     "text": [
      "Epoch 206: train=9.01695, val=9.12183, took 67.052 s\n",
      "  Validation Found 49700 of 54504, added 1191 (eff 91.19%) (0.119 FP/event)\n",
      "Result epoch:  206\n",
      "Average Eff:  0.0\n",
      "Average FP Rate:  0.0\n"
     ]
    },
    {
     "data": {
      "application/vnd.jupyter.widget-view+json": {
       "model_id": "",
       "version_major": 2,
       "version_minor": 0
      },
      "text/plain": [
       "HBox(children=(FloatProgress(value=0.0, description='Training', layout=Layout(flex='2'), max=1250.0, style=Pro…"
      ]
     },
     "metadata": {},
     "output_type": "display_data"
    },
    {
     "name": "stdout",
     "output_type": "stream",
     "text": [
      "Epoch 207: train=9.01817, val=9.06311, took 66.988 s\n",
      "  Validation Found 49972 of 54504, added 1350 (eff 91.69%) (0.135 FP/event)\n",
      "Result epoch:  207\n",
      "Average Eff:  0.0\n",
      "Average FP Rate:  0.0\n"
     ]
    },
    {
     "data": {
      "application/vnd.jupyter.widget-view+json": {
       "model_id": "",
       "version_major": 2,
       "version_minor": 0
      },
      "text/plain": [
       "HBox(children=(FloatProgress(value=0.0, description='Training', layout=Layout(flex='2'), max=1250.0, style=Pro…"
      ]
     },
     "metadata": {},
     "output_type": "display_data"
    },
    {
     "name": "stdout",
     "output_type": "stream",
     "text": [
      "Epoch 208: train=9.0054, val=9.09532, took 66.968 s\n",
      "  Validation Found 49677 of 54504, added 1184 (eff 91.14%) (0.119 FP/event)\n",
      "Result epoch:  208\n",
      "Average Eff:  0.0\n",
      "Average FP Rate:  0.0\n"
     ]
    },
    {
     "data": {
      "application/vnd.jupyter.widget-view+json": {
       "model_id": "",
       "version_major": 2,
       "version_minor": 0
      },
      "text/plain": [
       "HBox(children=(FloatProgress(value=0.0, description='Training', layout=Layout(flex='2'), max=1250.0, style=Pro…"
      ]
     },
     "metadata": {},
     "output_type": "display_data"
    },
    {
     "name": "stdout",
     "output_type": "stream",
     "text": [
      "Epoch 209: train=9.00808, val=9.38002, took 66.989 s\n",
      "  Validation Found 49540 of 54504, added 1107 (eff 90.89%) (0.111 FP/event)\n",
      "Result epoch:  209\n",
      "Average Eff:  0.0\n",
      "Average FP Rate:  0.0\n"
     ]
    },
    {
     "data": {
      "application/vnd.jupyter.widget-view+json": {
       "model_id": "",
       "version_major": 2,
       "version_minor": 0
      },
      "text/plain": [
       "HBox(children=(FloatProgress(value=0.0, description='Training', layout=Layout(flex='2'), max=1250.0, style=Pro…"
      ]
     },
     "metadata": {},
     "output_type": "display_data"
    },
    {
     "name": "stdout",
     "output_type": "stream",
     "text": [
      "Epoch 210: train=9.00347, val=9.11096, took 66.982 s\n",
      "  Validation Found 49857 of 54504, added 1228 (eff 91.47%) (0.123 FP/event)\n",
      "Result epoch:  210\n",
      "Average Eff:  0.914740202553941\n",
      "Average FP Rate:  0.12298447671507261\n"
     ]
    },
    {
     "data": {
      "application/vnd.jupyter.widget-view+json": {
       "model_id": "",
       "version_major": 2,
       "version_minor": 0
      },
      "text/plain": [
       "HBox(children=(FloatProgress(value=0.0, description='Training', layout=Layout(flex='2'), max=1250.0, style=Pro…"
      ]
     },
     "metadata": {},
     "output_type": "display_data"
    },
    {
     "name": "stdout",
     "output_type": "stream",
     "text": [
      "Epoch 211: train=8.9966, val=9.20728, took 66.993 s\n",
      "  Validation Found 49851 of 54504, added 1309 (eff 91.46%) (0.131 FP/event)\n",
      "Result epoch:  211\n",
      "Average Eff:  1.8293703214442978\n",
      "Average FP Rate:  0.2540811216825238\n"
     ]
    },
    {
     "data": {
      "application/vnd.jupyter.widget-view+json": {
       "model_id": "",
       "version_major": 2,
       "version_minor": 0
      },
      "text/plain": [
       "HBox(children=(FloatProgress(value=0.0, description='Training', layout=Layout(flex='2'), max=1250.0, style=Pro…"
      ]
     },
     "metadata": {},
     "output_type": "display_data"
    },
    {
     "name": "stdout",
     "output_type": "stream",
     "text": [
      "Epoch 212: train=8.99868, val=9.29584, took 67.018 s\n",
      "  Validation Found 49496 of 54504, added 1091 (eff 90.81%) (0.109 FP/event)\n",
      "Result epoch:  212\n",
      "Average Eff:  2.737487156905915\n",
      "Average FP Rate:  0.36334501752628945\n"
     ]
    },
    {
     "data": {
      "application/vnd.jupyter.widget-view+json": {
       "model_id": "",
       "version_major": 2,
       "version_minor": 0
      },
      "text/plain": [
       "HBox(children=(FloatProgress(value=0.0, description='Training', layout=Layout(flex='2'), max=1250.0, style=Pro…"
      ]
     },
     "metadata": {},
     "output_type": "display_data"
    },
    {
     "name": "stdout",
     "output_type": "stream",
     "text": [
      "Epoch 213: train=8.99144, val=9.15973, took 67.011 s\n",
      "  Validation Found 49761 of 54504, added 1177 (eff 91.30%) (0.118 FP/event)\n",
      "Result epoch:  213\n",
      "Average Eff:  3.650466020842507\n",
      "Average FP Rate:  0.48122183274912367\n"
     ]
    },
    {
     "data": {
      "application/vnd.jupyter.widget-view+json": {
       "model_id": "",
       "version_major": 2,
       "version_minor": 0
      },
      "text/plain": [
       "HBox(children=(FloatProgress(value=0.0, description='Training', layout=Layout(flex='2'), max=1250.0, style=Pro…"
      ]
     },
     "metadata": {},
     "output_type": "display_data"
    },
    {
     "name": "stdout",
     "output_type": "stream",
     "text": [
      "Epoch 214: train=8.99853, val=9.40309, took 66.984 s\n",
      "  Validation Found 49634 of 54504, added 1201 (eff 91.06%) (0.12 FP/event)\n",
      "Result epoch:  214\n",
      "Average Eff:  4.561114780566564\n",
      "Average FP Rate:  0.6015022533800701\n"
     ]
    },
    {
     "data": {
      "application/vnd.jupyter.widget-view+json": {
       "model_id": "",
       "version_major": 2,
       "version_minor": 0
      },
      "text/plain": [
       "HBox(children=(FloatProgress(value=0.0, description='Training', layout=Layout(flex='2'), max=1250.0, style=Pro…"
      ]
     },
     "metadata": {},
     "output_type": "display_data"
    },
    {
     "name": "stdout",
     "output_type": "stream",
     "text": [
      "Epoch 215: train=8.99302, val=9.31306, took 67.006 s\n",
      "  Validation Found 49640 of 54504, added 1101 (eff 91.08%) (0.11 FP/event)\n",
      "Result epoch:  215\n",
      "Average Eff:  5.471873623954205\n",
      "Average FP Rate:  0.7117676514772159\n"
     ]
    },
    {
     "data": {
      "application/vnd.jupyter.widget-view+json": {
       "model_id": "",
       "version_major": 2,
       "version_minor": 0
      },
      "text/plain": [
       "HBox(children=(FloatProgress(value=0.0, description='Training', layout=Layout(flex='2'), max=1250.0, style=Pro…"
      ]
     },
     "metadata": {},
     "output_type": "display_data"
    },
    {
     "name": "stdout",
     "output_type": "stream",
     "text": [
      "Epoch 216: train=8.9798, val=9.44549, took 67.051 s\n",
      "  Validation Found 49463 of 54504, added 1134 (eff 90.75%) (0.114 FP/event)\n",
      "Result epoch:  216\n",
      "Average Eff:  6.379384999266109\n",
      "Average FP Rate:  0.8253380070105159\n"
     ]
    },
    {
     "data": {
      "application/vnd.jupyter.widget-view+json": {
       "model_id": "",
       "version_major": 2,
       "version_minor": 0
      },
      "text/plain": [
       "HBox(children=(FloatProgress(value=0.0, description='Training', layout=Layout(flex='2'), max=1250.0, style=Pro…"
      ]
     },
     "metadata": {},
     "output_type": "display_data"
    },
    {
     "name": "stdout",
     "output_type": "stream",
     "text": [
      "Epoch 217: train=8.97615, val=9.458, took 67.07 s\n",
      "  Validation Found 49495 of 54504, added 1207 (eff 90.81%) (0.121 FP/event)\n",
      "Result epoch:  217\n",
      "Average Eff:  7.287483487450462\n",
      "Average FP Rate:  0.9462193289934904\n"
     ]
    },
    {
     "data": {
      "application/vnd.jupyter.widget-view+json": {
       "model_id": "",
       "version_major": 2,
       "version_minor": 0
      },
      "text/plain": [
       "HBox(children=(FloatProgress(value=0.0, description='Training', layout=Layout(flex='2'), max=1250.0, style=Pro…"
      ]
     },
     "metadata": {},
     "output_type": "display_data"
    },
    {
     "name": "stdout",
     "output_type": "stream",
     "text": [
      "Epoch 218: train=8.9789, val=9.33683, took 67.026 s\n",
      "  Validation Found 49750 of 54504, added 1264 (eff 91.28%) (0.127 FP/event)\n",
      "Result epoch:  218\n",
      "Average Eff:  8.200260531337149\n",
      "Average FP Rate:  1.0728092138207312\n"
     ]
    },
    {
     "data": {
      "application/vnd.jupyter.widget-view+json": {
       "model_id": "",
       "version_major": 2,
       "version_minor": 0
      },
      "text/plain": [
       "HBox(children=(FloatProgress(value=0.0, description='Training', layout=Layout(flex='2'), max=1250.0, style=Pro…"
      ]
     },
     "metadata": {},
     "output_type": "display_data"
    },
    {
     "name": "stdout",
     "output_type": "stream",
     "text": [
      "Epoch 219: train=8.97284, val=9.39537, took 67.021 s\n",
      "  Validation Found 49428 of 54504, added 1071 (eff 90.69%) (0.107 FP/event)\n",
      "Result epoch:  219\n",
      "Averaging...\n",
      "\n",
      "Average Eff:  0.9107129751944811\n",
      "Average FP Rate:  0.11800701051577367\n",
      "\n"
     ]
    },
    {
     "data": {
      "application/javascript": [
       "/* Put everything inside the global mpl namespace */\n",
       "window.mpl = {};\n",
       "\n",
       "\n",
       "mpl.get_websocket_type = function() {\n",
       "    if (typeof(WebSocket) !== 'undefined') {\n",
       "        return WebSocket;\n",
       "    } else if (typeof(MozWebSocket) !== 'undefined') {\n",
       "        return MozWebSocket;\n",
       "    } else {\n",
       "        alert('Your browser does not have WebSocket support. ' +\n",
       "              'Please try Chrome, Safari or Firefox ≥ 6. ' +\n",
       "              'Firefox 4 and 5 are also supported but you ' +\n",
       "              'have to enable WebSockets in about:config.');\n",
       "    };\n",
       "}\n",
       "\n",
       "mpl.figure = function(figure_id, websocket, ondownload, parent_element) {\n",
       "    this.id = figure_id;\n",
       "\n",
       "    this.ws = websocket;\n",
       "\n",
       "    this.supports_binary = (this.ws.binaryType != undefined);\n",
       "\n",
       "    if (!this.supports_binary) {\n",
       "        var warnings = document.getElementById(\"mpl-warnings\");\n",
       "        if (warnings) {\n",
       "            warnings.style.display = 'block';\n",
       "            warnings.textContent = (\n",
       "                \"This browser does not support binary websocket messages. \" +\n",
       "                    \"Performance may be slow.\");\n",
       "        }\n",
       "    }\n",
       "\n",
       "    this.imageObj = new Image();\n",
       "\n",
       "    this.context = undefined;\n",
       "    this.message = undefined;\n",
       "    this.canvas = undefined;\n",
       "    this.rubberband_canvas = undefined;\n",
       "    this.rubberband_context = undefined;\n",
       "    this.format_dropdown = undefined;\n",
       "\n",
       "    this.image_mode = 'full';\n",
       "\n",
       "    this.root = $('<div/>');\n",
       "    this._root_extra_style(this.root)\n",
       "    this.root.attr('style', 'display: inline-block');\n",
       "\n",
       "    $(parent_element).append(this.root);\n",
       "\n",
       "    this._init_header(this);\n",
       "    this._init_canvas(this);\n",
       "    this._init_toolbar(this);\n",
       "\n",
       "    var fig = this;\n",
       "\n",
       "    this.waiting = false;\n",
       "\n",
       "    this.ws.onopen =  function () {\n",
       "            fig.send_message(\"supports_binary\", {value: fig.supports_binary});\n",
       "            fig.send_message(\"send_image_mode\", {});\n",
       "            if (mpl.ratio != 1) {\n",
       "                fig.send_message(\"set_dpi_ratio\", {'dpi_ratio': mpl.ratio});\n",
       "            }\n",
       "            fig.send_message(\"refresh\", {});\n",
       "        }\n",
       "\n",
       "    this.imageObj.onload = function() {\n",
       "            if (fig.image_mode == 'full') {\n",
       "                // Full images could contain transparency (where diff images\n",
       "                // almost always do), so we need to clear the canvas so that\n",
       "                // there is no ghosting.\n",
       "                fig.context.clearRect(0, 0, fig.canvas.width, fig.canvas.height);\n",
       "            }\n",
       "            fig.context.drawImage(fig.imageObj, 0, 0);\n",
       "        };\n",
       "\n",
       "    this.imageObj.onunload = function() {\n",
       "        fig.ws.close();\n",
       "    }\n",
       "\n",
       "    this.ws.onmessage = this._make_on_message_function(this);\n",
       "\n",
       "    this.ondownload = ondownload;\n",
       "}\n",
       "\n",
       "mpl.figure.prototype._init_header = function() {\n",
       "    var titlebar = $(\n",
       "        '<div class=\"ui-dialog-titlebar ui-widget-header ui-corner-all ' +\n",
       "        'ui-helper-clearfix\"/>');\n",
       "    var titletext = $(\n",
       "        '<div class=\"ui-dialog-title\" style=\"width: 100%; ' +\n",
       "        'text-align: center; padding: 3px;\"/>');\n",
       "    titlebar.append(titletext)\n",
       "    this.root.append(titlebar);\n",
       "    this.header = titletext[0];\n",
       "}\n",
       "\n",
       "\n",
       "\n",
       "mpl.figure.prototype._canvas_extra_style = function(canvas_div) {\n",
       "\n",
       "}\n",
       "\n",
       "\n",
       "mpl.figure.prototype._root_extra_style = function(canvas_div) {\n",
       "\n",
       "}\n",
       "\n",
       "mpl.figure.prototype._init_canvas = function() {\n",
       "    var fig = this;\n",
       "\n",
       "    var canvas_div = $('<div/>');\n",
       "\n",
       "    canvas_div.attr('style', 'position: relative; clear: both; outline: 0');\n",
       "\n",
       "    function canvas_keyboard_event(event) {\n",
       "        return fig.key_event(event, event['data']);\n",
       "    }\n",
       "\n",
       "    canvas_div.keydown('key_press', canvas_keyboard_event);\n",
       "    canvas_div.keyup('key_release', canvas_keyboard_event);\n",
       "    this.canvas_div = canvas_div\n",
       "    this._canvas_extra_style(canvas_div)\n",
       "    this.root.append(canvas_div);\n",
       "\n",
       "    var canvas = $('<canvas/>');\n",
       "    canvas.addClass('mpl-canvas');\n",
       "    canvas.attr('style', \"left: 0; top: 0; z-index: 0; outline: 0\")\n",
       "\n",
       "    this.canvas = canvas[0];\n",
       "    this.context = canvas[0].getContext(\"2d\");\n",
       "\n",
       "    var backingStore = this.context.backingStorePixelRatio ||\n",
       "\tthis.context.webkitBackingStorePixelRatio ||\n",
       "\tthis.context.mozBackingStorePixelRatio ||\n",
       "\tthis.context.msBackingStorePixelRatio ||\n",
       "\tthis.context.oBackingStorePixelRatio ||\n",
       "\tthis.context.backingStorePixelRatio || 1;\n",
       "\n",
       "    mpl.ratio = (window.devicePixelRatio || 1) / backingStore;\n",
       "\n",
       "    var rubberband = $('<canvas/>');\n",
       "    rubberband.attr('style', \"position: absolute; left: 0; top: 0; z-index: 1;\")\n",
       "\n",
       "    var pass_mouse_events = true;\n",
       "\n",
       "    canvas_div.resizable({\n",
       "        start: function(event, ui) {\n",
       "            pass_mouse_events = false;\n",
       "        },\n",
       "        resize: function(event, ui) {\n",
       "            fig.request_resize(ui.size.width, ui.size.height);\n",
       "        },\n",
       "        stop: function(event, ui) {\n",
       "            pass_mouse_events = true;\n",
       "            fig.request_resize(ui.size.width, ui.size.height);\n",
       "        },\n",
       "    });\n",
       "\n",
       "    function mouse_event_fn(event) {\n",
       "        if (pass_mouse_events)\n",
       "            return fig.mouse_event(event, event['data']);\n",
       "    }\n",
       "\n",
       "    rubberband.mousedown('button_press', mouse_event_fn);\n",
       "    rubberband.mouseup('button_release', mouse_event_fn);\n",
       "    // Throttle sequential mouse events to 1 every 20ms.\n",
       "    rubberband.mousemove('motion_notify', mouse_event_fn);\n",
       "\n",
       "    rubberband.mouseenter('figure_enter', mouse_event_fn);\n",
       "    rubberband.mouseleave('figure_leave', mouse_event_fn);\n",
       "\n",
       "    canvas_div.on(\"wheel\", function (event) {\n",
       "        event = event.originalEvent;\n",
       "        event['data'] = 'scroll'\n",
       "        if (event.deltaY < 0) {\n",
       "            event.step = 1;\n",
       "        } else {\n",
       "            event.step = -1;\n",
       "        }\n",
       "        mouse_event_fn(event);\n",
       "    });\n",
       "\n",
       "    canvas_div.append(canvas);\n",
       "    canvas_div.append(rubberband);\n",
       "\n",
       "    this.rubberband = rubberband;\n",
       "    this.rubberband_canvas = rubberband[0];\n",
       "    this.rubberband_context = rubberband[0].getContext(\"2d\");\n",
       "    this.rubberband_context.strokeStyle = \"#000000\";\n",
       "\n",
       "    this._resize_canvas = function(width, height) {\n",
       "        // Keep the size of the canvas, canvas container, and rubber band\n",
       "        // canvas in synch.\n",
       "        canvas_div.css('width', width)\n",
       "        canvas_div.css('height', height)\n",
       "\n",
       "        canvas.attr('width', width * mpl.ratio);\n",
       "        canvas.attr('height', height * mpl.ratio);\n",
       "        canvas.attr('style', 'width: ' + width + 'px; height: ' + height + 'px;');\n",
       "\n",
       "        rubberband.attr('width', width);\n",
       "        rubberband.attr('height', height);\n",
       "    }\n",
       "\n",
       "    // Set the figure to an initial 600x600px, this will subsequently be updated\n",
       "    // upon first draw.\n",
       "    this._resize_canvas(600, 600);\n",
       "\n",
       "    // Disable right mouse context menu.\n",
       "    $(this.rubberband_canvas).bind(\"contextmenu\",function(e){\n",
       "        return false;\n",
       "    });\n",
       "\n",
       "    function set_focus () {\n",
       "        canvas.focus();\n",
       "        canvas_div.focus();\n",
       "    }\n",
       "\n",
       "    window.setTimeout(set_focus, 100);\n",
       "}\n",
       "\n",
       "mpl.figure.prototype._init_toolbar = function() {\n",
       "    var fig = this;\n",
       "\n",
       "    var nav_element = $('<div/>');\n",
       "    nav_element.attr('style', 'width: 100%');\n",
       "    this.root.append(nav_element);\n",
       "\n",
       "    // Define a callback function for later on.\n",
       "    function toolbar_event(event) {\n",
       "        return fig.toolbar_button_onclick(event['data']);\n",
       "    }\n",
       "    function toolbar_mouse_event(event) {\n",
       "        return fig.toolbar_button_onmouseover(event['data']);\n",
       "    }\n",
       "\n",
       "    for(var toolbar_ind in mpl.toolbar_items) {\n",
       "        var name = mpl.toolbar_items[toolbar_ind][0];\n",
       "        var tooltip = mpl.toolbar_items[toolbar_ind][1];\n",
       "        var image = mpl.toolbar_items[toolbar_ind][2];\n",
       "        var method_name = mpl.toolbar_items[toolbar_ind][3];\n",
       "\n",
       "        if (!name) {\n",
       "            // put a spacer in here.\n",
       "            continue;\n",
       "        }\n",
       "        var button = $('<button/>');\n",
       "        button.addClass('ui-button ui-widget ui-state-default ui-corner-all ' +\n",
       "                        'ui-button-icon-only');\n",
       "        button.attr('role', 'button');\n",
       "        button.attr('aria-disabled', 'false');\n",
       "        button.click(method_name, toolbar_event);\n",
       "        button.mouseover(tooltip, toolbar_mouse_event);\n",
       "\n",
       "        var icon_img = $('<span/>');\n",
       "        icon_img.addClass('ui-button-icon-primary ui-icon');\n",
       "        icon_img.addClass(image);\n",
       "        icon_img.addClass('ui-corner-all');\n",
       "\n",
       "        var tooltip_span = $('<span/>');\n",
       "        tooltip_span.addClass('ui-button-text');\n",
       "        tooltip_span.html(tooltip);\n",
       "\n",
       "        button.append(icon_img);\n",
       "        button.append(tooltip_span);\n",
       "\n",
       "        nav_element.append(button);\n",
       "    }\n",
       "\n",
       "    var fmt_picker_span = $('<span/>');\n",
       "\n",
       "    var fmt_picker = $('<select/>');\n",
       "    fmt_picker.addClass('mpl-toolbar-option ui-widget ui-widget-content');\n",
       "    fmt_picker_span.append(fmt_picker);\n",
       "    nav_element.append(fmt_picker_span);\n",
       "    this.format_dropdown = fmt_picker[0];\n",
       "\n",
       "    for (var ind in mpl.extensions) {\n",
       "        var fmt = mpl.extensions[ind];\n",
       "        var option = $(\n",
       "            '<option/>', {selected: fmt === mpl.default_extension}).html(fmt);\n",
       "        fmt_picker.append(option);\n",
       "    }\n",
       "\n",
       "    // Add hover states to the ui-buttons\n",
       "    $( \".ui-button\" ).hover(\n",
       "        function() { $(this).addClass(\"ui-state-hover\");},\n",
       "        function() { $(this).removeClass(\"ui-state-hover\");}\n",
       "    );\n",
       "\n",
       "    var status_bar = $('<span class=\"mpl-message\"/>');\n",
       "    nav_element.append(status_bar);\n",
       "    this.message = status_bar[0];\n",
       "}\n",
       "\n",
       "mpl.figure.prototype.request_resize = function(x_pixels, y_pixels) {\n",
       "    // Request matplotlib to resize the figure. Matplotlib will then trigger a resize in the client,\n",
       "    // which will in turn request a refresh of the image.\n",
       "    this.send_message('resize', {'width': x_pixels, 'height': y_pixels});\n",
       "}\n",
       "\n",
       "mpl.figure.prototype.send_message = function(type, properties) {\n",
       "    properties['type'] = type;\n",
       "    properties['figure_id'] = this.id;\n",
       "    this.ws.send(JSON.stringify(properties));\n",
       "}\n",
       "\n",
       "mpl.figure.prototype.send_draw_message = function() {\n",
       "    if (!this.waiting) {\n",
       "        this.waiting = true;\n",
       "        this.ws.send(JSON.stringify({type: \"draw\", figure_id: this.id}));\n",
       "    }\n",
       "}\n",
       "\n",
       "\n",
       "mpl.figure.prototype.handle_save = function(fig, msg) {\n",
       "    var format_dropdown = fig.format_dropdown;\n",
       "    var format = format_dropdown.options[format_dropdown.selectedIndex].value;\n",
       "    fig.ondownload(fig, format);\n",
       "}\n",
       "\n",
       "\n",
       "mpl.figure.prototype.handle_resize = function(fig, msg) {\n",
       "    var size = msg['size'];\n",
       "    if (size[0] != fig.canvas.width || size[1] != fig.canvas.height) {\n",
       "        fig._resize_canvas(size[0], size[1]);\n",
       "        fig.send_message(\"refresh\", {});\n",
       "    };\n",
       "}\n",
       "\n",
       "mpl.figure.prototype.handle_rubberband = function(fig, msg) {\n",
       "    var x0 = msg['x0'] / mpl.ratio;\n",
       "    var y0 = (fig.canvas.height - msg['y0']) / mpl.ratio;\n",
       "    var x1 = msg['x1'] / mpl.ratio;\n",
       "    var y1 = (fig.canvas.height - msg['y1']) / mpl.ratio;\n",
       "    x0 = Math.floor(x0) + 0.5;\n",
       "    y0 = Math.floor(y0) + 0.5;\n",
       "    x1 = Math.floor(x1) + 0.5;\n",
       "    y1 = Math.floor(y1) + 0.5;\n",
       "    var min_x = Math.min(x0, x1);\n",
       "    var min_y = Math.min(y0, y1);\n",
       "    var width = Math.abs(x1 - x0);\n",
       "    var height = Math.abs(y1 - y0);\n",
       "\n",
       "    fig.rubberband_context.clearRect(\n",
       "        0, 0, fig.canvas.width / mpl.ratio, fig.canvas.height / mpl.ratio);\n",
       "\n",
       "    fig.rubberband_context.strokeRect(min_x, min_y, width, height);\n",
       "}\n",
       "\n",
       "mpl.figure.prototype.handle_figure_label = function(fig, msg) {\n",
       "    // Updates the figure title.\n",
       "    fig.header.textContent = msg['label'];\n",
       "}\n",
       "\n",
       "mpl.figure.prototype.handle_cursor = function(fig, msg) {\n",
       "    var cursor = msg['cursor'];\n",
       "    switch(cursor)\n",
       "    {\n",
       "    case 0:\n",
       "        cursor = 'pointer';\n",
       "        break;\n",
       "    case 1:\n",
       "        cursor = 'default';\n",
       "        break;\n",
       "    case 2:\n",
       "        cursor = 'crosshair';\n",
       "        break;\n",
       "    case 3:\n",
       "        cursor = 'move';\n",
       "        break;\n",
       "    }\n",
       "    fig.rubberband_canvas.style.cursor = cursor;\n",
       "}\n",
       "\n",
       "mpl.figure.prototype.handle_message = function(fig, msg) {\n",
       "    fig.message.textContent = msg['message'];\n",
       "}\n",
       "\n",
       "mpl.figure.prototype.handle_draw = function(fig, msg) {\n",
       "    // Request the server to send over a new figure.\n",
       "    fig.send_draw_message();\n",
       "}\n",
       "\n",
       "mpl.figure.prototype.handle_image_mode = function(fig, msg) {\n",
       "    fig.image_mode = msg['mode'];\n",
       "}\n",
       "\n",
       "mpl.figure.prototype.updated_canvas_event = function() {\n",
       "    // Called whenever the canvas gets updated.\n",
       "    this.send_message(\"ack\", {});\n",
       "}\n",
       "\n",
       "// A function to construct a web socket function for onmessage handling.\n",
       "// Called in the figure constructor.\n",
       "mpl.figure.prototype._make_on_message_function = function(fig) {\n",
       "    return function socket_on_message(evt) {\n",
       "        if (evt.data instanceof Blob) {\n",
       "            /* FIXME: We get \"Resource interpreted as Image but\n",
       "             * transferred with MIME type text/plain:\" errors on\n",
       "             * Chrome.  But how to set the MIME type?  It doesn't seem\n",
       "             * to be part of the websocket stream */\n",
       "            evt.data.type = \"image/png\";\n",
       "\n",
       "            /* Free the memory for the previous frames */\n",
       "            if (fig.imageObj.src) {\n",
       "                (window.URL || window.webkitURL).revokeObjectURL(\n",
       "                    fig.imageObj.src);\n",
       "            }\n",
       "\n",
       "            fig.imageObj.src = (window.URL || window.webkitURL).createObjectURL(\n",
       "                evt.data);\n",
       "            fig.updated_canvas_event();\n",
       "            fig.waiting = false;\n",
       "            return;\n",
       "        }\n",
       "        else if (typeof evt.data === 'string' && evt.data.slice(0, 21) == \"data:image/png;base64\") {\n",
       "            fig.imageObj.src = evt.data;\n",
       "            fig.updated_canvas_event();\n",
       "            fig.waiting = false;\n",
       "            return;\n",
       "        }\n",
       "\n",
       "        var msg = JSON.parse(evt.data);\n",
       "        var msg_type = msg['type'];\n",
       "\n",
       "        // Call the  \"handle_{type}\" callback, which takes\n",
       "        // the figure and JSON message as its only arguments.\n",
       "        try {\n",
       "            var callback = fig[\"handle_\" + msg_type];\n",
       "        } catch (e) {\n",
       "            console.log(\"No handler for the '\" + msg_type + \"' message type: \", msg);\n",
       "            return;\n",
       "        }\n",
       "\n",
       "        if (callback) {\n",
       "            try {\n",
       "                // console.log(\"Handling '\" + msg_type + \"' message: \", msg);\n",
       "                callback(fig, msg);\n",
       "            } catch (e) {\n",
       "                console.log(\"Exception inside the 'handler_\" + msg_type + \"' callback:\", e, e.stack, msg);\n",
       "            }\n",
       "        }\n",
       "    };\n",
       "}\n",
       "\n",
       "// from http://stackoverflow.com/questions/1114465/getting-mouse-location-in-canvas\n",
       "mpl.findpos = function(e) {\n",
       "    //this section is from http://www.quirksmode.org/js/events_properties.html\n",
       "    var targ;\n",
       "    if (!e)\n",
       "        e = window.event;\n",
       "    if (e.target)\n",
       "        targ = e.target;\n",
       "    else if (e.srcElement)\n",
       "        targ = e.srcElement;\n",
       "    if (targ.nodeType == 3) // defeat Safari bug\n",
       "        targ = targ.parentNode;\n",
       "\n",
       "    // jQuery normalizes the pageX and pageY\n",
       "    // pageX,Y are the mouse positions relative to the document\n",
       "    // offset() returns the position of the element relative to the document\n",
       "    var x = e.pageX - $(targ).offset().left;\n",
       "    var y = e.pageY - $(targ).offset().top;\n",
       "\n",
       "    return {\"x\": x, \"y\": y};\n",
       "};\n",
       "\n",
       "/*\n",
       " * return a copy of an object with only non-object keys\n",
       " * we need this to avoid circular references\n",
       " * http://stackoverflow.com/a/24161582/3208463\n",
       " */\n",
       "function simpleKeys (original) {\n",
       "  return Object.keys(original).reduce(function (obj, key) {\n",
       "    if (typeof original[key] !== 'object')\n",
       "        obj[key] = original[key]\n",
       "    return obj;\n",
       "  }, {});\n",
       "}\n",
       "\n",
       "mpl.figure.prototype.mouse_event = function(event, name) {\n",
       "    var canvas_pos = mpl.findpos(event)\n",
       "\n",
       "    if (name === 'button_press')\n",
       "    {\n",
       "        this.canvas.focus();\n",
       "        this.canvas_div.focus();\n",
       "    }\n",
       "\n",
       "    var x = canvas_pos.x * mpl.ratio;\n",
       "    var y = canvas_pos.y * mpl.ratio;\n",
       "\n",
       "    this.send_message(name, {x: x, y: y, button: event.button,\n",
       "                             step: event.step,\n",
       "                             guiEvent: simpleKeys(event)});\n",
       "\n",
       "    /* This prevents the web browser from automatically changing to\n",
       "     * the text insertion cursor when the button is pressed.  We want\n",
       "     * to control all of the cursor setting manually through the\n",
       "     * 'cursor' event from matplotlib */\n",
       "    event.preventDefault();\n",
       "    return false;\n",
       "}\n",
       "\n",
       "mpl.figure.prototype._key_event_extra = function(event, name) {\n",
       "    // Handle any extra behaviour associated with a key event\n",
       "}\n",
       "\n",
       "mpl.figure.prototype.key_event = function(event, name) {\n",
       "\n",
       "    // Prevent repeat events\n",
       "    if (name == 'key_press')\n",
       "    {\n",
       "        if (event.which === this._key)\n",
       "            return;\n",
       "        else\n",
       "            this._key = event.which;\n",
       "    }\n",
       "    if (name == 'key_release')\n",
       "        this._key = null;\n",
       "\n",
       "    var value = '';\n",
       "    if (event.ctrlKey && event.which != 17)\n",
       "        value += \"ctrl+\";\n",
       "    if (event.altKey && event.which != 18)\n",
       "        value += \"alt+\";\n",
       "    if (event.shiftKey && event.which != 16)\n",
       "        value += \"shift+\";\n",
       "\n",
       "    value += 'k';\n",
       "    value += event.which.toString();\n",
       "\n",
       "    this._key_event_extra(event, name);\n",
       "\n",
       "    this.send_message(name, {key: value,\n",
       "                             guiEvent: simpleKeys(event)});\n",
       "    return false;\n",
       "}\n",
       "\n",
       "mpl.figure.prototype.toolbar_button_onclick = function(name) {\n",
       "    if (name == 'download') {\n",
       "        this.handle_save(this, null);\n",
       "    } else {\n",
       "        this.send_message(\"toolbar_button\", {name: name});\n",
       "    }\n",
       "};\n",
       "\n",
       "mpl.figure.prototype.toolbar_button_onmouseover = function(tooltip) {\n",
       "    this.message.textContent = tooltip;\n",
       "};\n",
       "mpl.toolbar_items = [[\"Home\", \"Reset original view\", \"fa fa-home icon-home\", \"home\"], [\"Back\", \"Back to previous view\", \"fa fa-arrow-left icon-arrow-left\", \"back\"], [\"Forward\", \"Forward to next view\", \"fa fa-arrow-right icon-arrow-right\", \"forward\"], [\"\", \"\", \"\", \"\"], [\"Pan\", \"Pan axes with left mouse, zoom with right\", \"fa fa-arrows icon-move\", \"pan\"], [\"Zoom\", \"Zoom to rectangle\", \"fa fa-square-o icon-check-empty\", \"zoom\"], [\"\", \"\", \"\", \"\"], [\"Download\", \"Download plot\", \"fa fa-floppy-o icon-save\", \"download\"]];\n",
       "\n",
       "mpl.extensions = [\"eps\", \"jpeg\", \"pdf\", \"png\", \"ps\", \"raw\", \"svg\", \"tif\"];\n",
       "\n",
       "mpl.default_extension = \"png\";var comm_websocket_adapter = function(comm) {\n",
       "    // Create a \"websocket\"-like object which calls the given IPython comm\n",
       "    // object with the appropriate methods. Currently this is a non binary\n",
       "    // socket, so there is still some room for performance tuning.\n",
       "    var ws = {};\n",
       "\n",
       "    ws.close = function() {\n",
       "        comm.close()\n",
       "    };\n",
       "    ws.send = function(m) {\n",
       "        //console.log('sending', m);\n",
       "        comm.send(m);\n",
       "    };\n",
       "    // Register the callback with on_msg.\n",
       "    comm.on_msg(function(msg) {\n",
       "        //console.log('receiving', msg['content']['data'], msg);\n",
       "        // Pass the mpl event to the overridden (by mpl) onmessage function.\n",
       "        ws.onmessage(msg['content']['data'])\n",
       "    });\n",
       "    return ws;\n",
       "}\n",
       "\n",
       "mpl.mpl_figure_comm = function(comm, msg) {\n",
       "    // This is the function which gets called when the mpl process\n",
       "    // starts-up an IPython Comm through the \"matplotlib\" channel.\n",
       "\n",
       "    var id = msg.content.data.id;\n",
       "    // Get hold of the div created by the display call when the Comm\n",
       "    // socket was opened in Python.\n",
       "    var element = $(\"#\" + id);\n",
       "    var ws_proxy = comm_websocket_adapter(comm)\n",
       "\n",
       "    function ondownload(figure, format) {\n",
       "        window.open(figure.imageObj.src);\n",
       "    }\n",
       "\n",
       "    var fig = new mpl.figure(id, ws_proxy,\n",
       "                           ondownload,\n",
       "                           element.get(0));\n",
       "\n",
       "    // Call onopen now - mpl needs it, as it is assuming we've passed it a real\n",
       "    // web socket which is closed, not our websocket->open comm proxy.\n",
       "    ws_proxy.onopen();\n",
       "\n",
       "    fig.parent_element = element.get(0);\n",
       "    fig.cell_info = mpl.find_output_cell(\"<div id='\" + id + \"'></div>\");\n",
       "    if (!fig.cell_info) {\n",
       "        console.error(\"Failed to find cell for figure\", id, fig);\n",
       "        return;\n",
       "    }\n",
       "\n",
       "    var output_index = fig.cell_info[2]\n",
       "    var cell = fig.cell_info[0];\n",
       "\n",
       "};\n",
       "\n",
       "mpl.figure.prototype.handle_close = function(fig, msg) {\n",
       "    var width = fig.canvas.width/mpl.ratio\n",
       "    fig.root.unbind('remove')\n",
       "\n",
       "    // Update the output cell to use the data from the current canvas.\n",
       "    fig.push_to_output();\n",
       "    var dataURL = fig.canvas.toDataURL();\n",
       "    // Re-enable the keyboard manager in IPython - without this line, in FF,\n",
       "    // the notebook keyboard shortcuts fail.\n",
       "    IPython.keyboard_manager.enable()\n",
       "    $(fig.parent_element).html('<img src=\"' + dataURL + '\" width=\"' + width + '\">');\n",
       "    fig.close_ws(fig, msg);\n",
       "}\n",
       "\n",
       "mpl.figure.prototype.close_ws = function(fig, msg){\n",
       "    fig.send_message('closing', msg);\n",
       "    // fig.ws.close()\n",
       "}\n",
       "\n",
       "mpl.figure.prototype.push_to_output = function(remove_interactive) {\n",
       "    // Turn the data on the canvas into data in the output cell.\n",
       "    var width = this.canvas.width/mpl.ratio\n",
       "    var dataURL = this.canvas.toDataURL();\n",
       "    this.cell_info[1]['text/html'] = '<img src=\"' + dataURL + '\" width=\"' + width + '\">';\n",
       "}\n",
       "\n",
       "mpl.figure.prototype.updated_canvas_event = function() {\n",
       "    // Tell IPython that the notebook contents must change.\n",
       "    IPython.notebook.set_dirty(true);\n",
       "    this.send_message(\"ack\", {});\n",
       "    var fig = this;\n",
       "    // Wait a second, then push the new image to the DOM so\n",
       "    // that it is saved nicely (might be nice to debounce this).\n",
       "    setTimeout(function () { fig.push_to_output() }, 1000);\n",
       "}\n",
       "\n",
       "mpl.figure.prototype._init_toolbar = function() {\n",
       "    var fig = this;\n",
       "\n",
       "    var nav_element = $('<div/>');\n",
       "    nav_element.attr('style', 'width: 100%');\n",
       "    this.root.append(nav_element);\n",
       "\n",
       "    // Define a callback function for later on.\n",
       "    function toolbar_event(event) {\n",
       "        return fig.toolbar_button_onclick(event['data']);\n",
       "    }\n",
       "    function toolbar_mouse_event(event) {\n",
       "        return fig.toolbar_button_onmouseover(event['data']);\n",
       "    }\n",
       "\n",
       "    for(var toolbar_ind in mpl.toolbar_items){\n",
       "        var name = mpl.toolbar_items[toolbar_ind][0];\n",
       "        var tooltip = mpl.toolbar_items[toolbar_ind][1];\n",
       "        var image = mpl.toolbar_items[toolbar_ind][2];\n",
       "        var method_name = mpl.toolbar_items[toolbar_ind][3];\n",
       "\n",
       "        if (!name) { continue; };\n",
       "\n",
       "        var button = $('<button class=\"btn btn-default\" href=\"#\" title=\"' + name + '\"><i class=\"fa ' + image + ' fa-lg\"></i></button>');\n",
       "        button.click(method_name, toolbar_event);\n",
       "        button.mouseover(tooltip, toolbar_mouse_event);\n",
       "        nav_element.append(button);\n",
       "    }\n",
       "\n",
       "    // Add the status bar.\n",
       "    var status_bar = $('<span class=\"mpl-message\" style=\"text-align:right; float: right;\"/>');\n",
       "    nav_element.append(status_bar);\n",
       "    this.message = status_bar[0];\n",
       "\n",
       "    // Add the close button to the window.\n",
       "    var buttongrp = $('<div class=\"btn-group inline pull-right\"></div>');\n",
       "    var button = $('<button class=\"btn btn-mini btn-primary\" href=\"#\" title=\"Stop Interaction\"><i class=\"fa fa-power-off icon-remove icon-large\"></i></button>');\n",
       "    button.click(function (evt) { fig.handle_close(fig, {}); } );\n",
       "    button.mouseover('Stop Interaction', toolbar_mouse_event);\n",
       "    buttongrp.append(button);\n",
       "    var titlebar = this.root.find($('.ui-dialog-titlebar'));\n",
       "    titlebar.prepend(buttongrp);\n",
       "}\n",
       "\n",
       "mpl.figure.prototype._root_extra_style = function(el){\n",
       "    var fig = this\n",
       "    el.on(\"remove\", function(){\n",
       "\tfig.close_ws(fig, {});\n",
       "    });\n",
       "}\n",
       "\n",
       "mpl.figure.prototype._canvas_extra_style = function(el){\n",
       "    // this is important to make the div 'focusable\n",
       "    el.attr('tabindex', 0)\n",
       "    // reach out to IPython and tell the keyboard manager to turn it's self\n",
       "    // off when our div gets focus\n",
       "\n",
       "    // location in version 3\n",
       "    if (IPython.notebook.keyboard_manager) {\n",
       "        IPython.notebook.keyboard_manager.register_events(el);\n",
       "    }\n",
       "    else {\n",
       "        // location in version 2\n",
       "        IPython.keyboard_manager.register_events(el);\n",
       "    }\n",
       "\n",
       "}\n",
       "\n",
       "mpl.figure.prototype._key_event_extra = function(event, name) {\n",
       "    var manager = IPython.notebook.keyboard_manager;\n",
       "    if (!manager)\n",
       "        manager = IPython.keyboard_manager;\n",
       "\n",
       "    // Check for shift+enter\n",
       "    if (event.shiftKey && event.which == 13) {\n",
       "        this.canvas_div.blur();\n",
       "        // select the cell after this one\n",
       "        var index = IPython.notebook.find_cell_index(this.cell_info[0]);\n",
       "        IPython.notebook.select(index + 1);\n",
       "    }\n",
       "}\n",
       "\n",
       "mpl.figure.prototype.handle_save = function(fig, msg) {\n",
       "    fig.ondownload(fig, null);\n",
       "}\n",
       "\n",
       "\n",
       "mpl.find_output_cell = function(html_output) {\n",
       "    // Return the cell and output element which can be found *uniquely* in the notebook.\n",
       "    // Note - this is a bit hacky, but it is done because the \"notebook_saving.Notebook\"\n",
       "    // IPython event is triggered only after the cells have been serialised, which for\n",
       "    // our purposes (turning an active figure into a static one), is too late.\n",
       "    var cells = IPython.notebook.get_cells();\n",
       "    var ncells = cells.length;\n",
       "    for (var i=0; i<ncells; i++) {\n",
       "        var cell = cells[i];\n",
       "        if (cell.cell_type === 'code'){\n",
       "            for (var j=0; j<cell.output_area.outputs.length; j++) {\n",
       "                var data = cell.output_area.outputs[j];\n",
       "                if (data.data) {\n",
       "                    // IPython >= 3 moved mimebundle to data attribute of output\n",
       "                    data = data.data;\n",
       "                }\n",
       "                if (data['text/html'] == html_output) {\n",
       "                    return [cell, data, j];\n",
       "                }\n",
       "            }\n",
       "        }\n",
       "    }\n",
       "}\n",
       "\n",
       "// Register the function which deals with the matplotlib target/channel.\n",
       "// The kernel may be null if the page has been refreshed.\n",
       "if (IPython.notebook.kernel != null) {\n",
       "    IPython.notebook.kernel.comm_manager.register_target('matplotlib', mpl.mpl_figure_comm);\n",
       "}\n"
      ],
      "text/plain": [
       "<IPython.core.display.Javascript object>"
      ]
     },
     "metadata": {},
     "output_type": "display_data"
    },
    {
     "data": {
      "text/html": [
       "<img src=\"data:image/png;base64,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\" width=\"1000\">"
      ],
      "text/plain": [
       "<IPython.core.display.HTML object>"
      ]
     },
     "metadata": {},
     "output_type": "display_data"
    }
   ],
   "source": [
    "avgEff = 0.0\n",
    "avgFP = 0.0\n",
    "print('for model: ', model)   \n",
    "run_name = 'Model Y (P2)'\n",
    "# Create an mlflow run\n",
    "with mlflow.start_run(run_name=run_name) as run:\n",
    "    # Log parameters of the model\n",
    "    for key, value in vars(args).items():\n",
    "        print(key, value)\n",
    "        mlflow.log_param(key, value)\n",
    "    \n",
    "    # Log parameter count in the model\n",
    "    mlflow.log_param('Parameters', count_parameters(model))\n",
    "    \n",
    "    # Begin run\n",
    "    for result in trainNet(model, optimizer, loss,\n",
    "                            train_loader, val_loader,\n",
    "                            args.epochs+args.epoch_start, epoch_start=args.epoch_start,\n",
    "                            notebook=True, device=device):\n",
    "\n",
    "        result = result._asdict()\n",
    "        results = results.append(pd.Series(result), ignore_index=True)\n",
    "        xs = results.index\n",
    "\n",
    "        # Update the plot above\n",
    "        lines['train'].set_data(results.index, results.cost)\n",
    "        lines['val'].set_data(results.index, results.val)\n",
    "\n",
    "        #filter first cost epoch (can be really large)\n",
    "        max_cost = max(max(results.cost if len(results.cost)<2 else results.cost[1:]), max(results.val))\n",
    "        min_cost = min(min(results.cost), min(results.val))\n",
    "    \n",
    "        # The plot limits need updating too\n",
    "        ax.set_ylim(min_cost*.9, max_cost*1.1)  \n",
    "        ax.set_xlim(-.5, len(results.cost) - .5)\n",
    "    \n",
    "        replace_in_ax(lax, lines['eff'], xs, results['eff_val'].apply(lambda x: x.eff_rate))\n",
    "        replace_in_ax(tax, lines['fp'], xs, results['eff_val'].apply(lambda x: x.fp_rate))            \n",
    "            \n",
    "        # Redraw the figure\n",
    "        fig.canvas.draw()\n",
    "            \n",
    "        ## MLFLOW ##\n",
    "        # Log metrics\n",
    "        mlflow.log_metric('Efficiency', result['eff_val'].eff_rate, result['epoch'])\n",
    "        mlflow.log_metric('False Positive Rate',  result['eff_val'].fp_rate, result['epoch'])\n",
    "        mlflow.log_metric('Validation Loss',  result['val'], result['epoch'])\n",
    "        mlflow.log_metric('Training Loss',  result['cost'], result['epoch'])\n",
    "        \n",
    "        print('Result epoch: ', result['epoch'])\n",
    "        if(result['epoch'] >= args.epochs + args.epoch_start - 10):\n",
    "            avgEff += result['eff_val'].eff_rate\n",
    "            avgFP += result['eff_val'].fp_rate\n",
    "           \n",
    "        if(result['epoch'] == args.epochs + args.epoch_start - 1):\n",
    "            print('Averaging...\\n')\n",
    "            avgEff /= 10\n",
    "            avgFP /= 10\n",
    "            mlflow.log_metric('10 Efficiency Average', avgEff)\n",
    "            mlflow.log_metric('10 False Positive Average', avgFP)\n",
    "            \n",
    "        print('Average Eff: ', avgEff)\n",
    "        print('Average FP Rate: ', avgFP)\n",
    "        \n",
    "        # Log tags\n",
    "#        mlflow.set_tag('Optimizer', 'Adam')\n",
    "#        mlflow.set_tag('Kernel size', 'Mixed')\n",
    "#        mlflow.set_tag('Skip connections', '4')\n",
    "#        mlflow.set_tag('Activation', 'Softplus')\n",
    "#        mlflow.set_tag('Mid Activation', 'Relu')\n",
    "        mlflow.set_tag('Asymmetry', '2.5')\n",
    "\n",
    "        # Save model state dictionary, optimizer state dictionary, and epoch number\n",
    "        torch.save({\n",
    "            'model':model.state_dict(),\n",
    "            'optimizer':optimizer.state_dict(),\n",
    "            'epoch':args.epochs+result['epoch']\n",
    "            }, 'run_stats.pyt')\n",
    "        # Save the run stats into mlflow\n",
    "        mlflow.log_artifact('run_stats.pyt')\n",
    "        \n",
    "    dual_train_plots(results.index,\n",
    "                 results.cost, results.val, \n",
    "                 results['eff_val'].apply(lambda x: x.eff_rate),\n",
    "                 results['eff_val'].apply(lambda x: x.fp_rate))\n",
    "    plt.tight_layout()\n",
    "    # save plot\n",
    "    plt.savefig('plot.png')  \n",
    "    mlflow.log_artifact('plot.png')"
   ]
  },
  {
   "cell_type": "code",
   "execution_count": 13,
   "metadata": {},
   "outputs": [],
   "source": [
    "##quit()"
   ]
  }
 ],
 "metadata": {
  "celltoolbar": "Raw Cell Format",
  "kernelspec": {
   "display_name": "goofit-june2020",
   "language": "python",
   "name": "goofit-june2020"
  },
  "language_info": {
   "codemirror_mode": {
    "name": "ipython",
    "version": 3
   },
   "file_extension": ".py",
   "mimetype": "text/x-python",
   "name": "python",
   "nbconvert_exporter": "python",
   "pygments_lexer": "ipython3",
   "version": "3.7.6"
  }
 },
 "nbformat": 4,
 "nbformat_minor": 2
}
