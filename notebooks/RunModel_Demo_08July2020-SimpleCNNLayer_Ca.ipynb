{
 "cells": [
  {
   "cell_type": "code",
   "execution_count": 1,
   "metadata": {},
   "outputs": [],
   "source": [
    "##%matplotlib widget\n",
    "## with %matplotlib notebook: seems to require ipympl as part of environment, either\n",
    "## part of the conda environment or \"pip install ipympl\"\n",
    "## otherwise, does not show ANY plots in notebook, plt.savefig() works\n",
    "%matplotlib notebook  \n",
    "##%matplotlib inline    ## --plt.savefig()  works, but re-sizing does NOT"
   ]
  },
  {
   "cell_type": "markdown",
   "metadata": {},
   "source": [
    "Check the current GPU usage. Please try to be nice!"
   ]
  },
  {
   "cell_type": "code",
   "execution_count": 2,
   "metadata": {},
   "outputs": [
    {
     "name": "stdout",
     "output_type": "stream",
     "text": [
      "Wed Jul 22 09:43:53 2020       \r\n",
      "+-----------------------------------------------------------------------------+\r\n",
      "| NVIDIA-SMI 440.64.00    Driver Version: 440.64.00    CUDA Version: 10.2     |\r\n",
      "|-------------------------------+----------------------+----------------------+\r\n",
      "| GPU  Name        Persistence-M| Bus-Id        Disp.A | Volatile Uncorr. ECC |\r\n",
      "| Fan  Temp  Perf  Pwr:Usage/Cap|         Memory-Usage | GPU-Util  Compute M. |\r\n",
      "|===============================+======================+======================|\r\n",
      "|   0  TITAN V             Off  | 00000000:03:00.0 Off |                  N/A |\r\n",
      "| 28%   32C    P8    23W / 250W |   6751MiB / 12066MiB |      0%      Default |\r\n",
      "+-------------------------------+----------------------+----------------------+\r\n",
      "|   1  Tesla P100-PCIE...  Off  | 00000000:83:00.0 Off |                    0 |\r\n",
      "| N/A   79C    P0    96W / 250W |   7736MiB / 16280MiB |     86%      Default |\r\n",
      "+-------------------------------+----------------------+----------------------+\r\n",
      "|   2  TITAN V             Off  | 00000000:84:00.0 Off |                  N/A |\r\n",
      "| 28%   38C    P2    37W / 250W |   2275MiB / 12066MiB |      0%      Default |\r\n",
      "+-------------------------------+----------------------+----------------------+\r\n",
      "                                                                               \r\n",
      "+-----------------------------------------------------------------------------+\r\n",
      "| Processes:                                                       GPU Memory |\r\n",
      "|  GPU       PID   Type   Process name                             Usage      |\r\n",
      "|=============================================================================|\r\n",
      "|    0     41209      C   ...a/conda/envs/goofit-june2020/bin/python  6739MiB |\r\n",
      "|    1      7888      C   ...a/conda/envs/goofit-june2020/bin/python  1903MiB |\r\n",
      "|    1     41483      C   ...a/conda/envs/goofit-june2020/bin/python  5823MiB |\r\n",
      "|    2      7894      C   ...a/conda/envs/goofit-june2020/bin/python  2263MiB |\r\n",
      "+-----------------------------------------------------------------------------+\r\n"
     ]
    }
   ],
   "source": [
    "!nvidia-smi"
   ]
  },
  {
   "cell_type": "markdown",
   "metadata": {},
   "source": [
    "## Imports"
   ]
  },
  {
   "cell_type": "code",
   "execution_count": 3,
   "metadata": {},
   "outputs": [],
   "source": [
    "import matplotlib.pyplot as plt\n",
    "import numpy as np\n",
    "import time\n",
    "import torch\n",
    "import pandas as pd\n",
    "import mlflow\n",
    "\n",
    "# Python 3 standard library\n",
    "from pathlib import Path\n",
    "\n",
    "from torchsummary import summary\n",
    "\n",
    "'''\n",
    "HELPER FUNCTIONS\n",
    "'''\n",
    "# From model/collectdata.py\n",
    "from model.collectdata_mdsA import collect_data\n",
    "\n",
    "# From model/loss.py\n",
    "##from loss import Loss\n",
    "from model.alt_loss_A import Loss\n",
    "\n",
    "# From model/training.py\n",
    "from model.training import trainNet, select_gpu, Results\n",
    "\n",
    "# From model/models.py\n",
    "##  will start with model from TwoFeatures_CNN6Layer_A in the first instance\n",
    "##  see relevant cell below\n",
    "\n",
    "from model.models_mjp_07July2020 import SimpleCNN5Layer_Ca as Model\n",
    "from model.models_mjp_07July2020 import SimpleCNN5Layer_Ca_B as Model_B\n",
    "from model.models_mjp_07July2020 import SimpleCNN5Layer_Ca_F as Model_F\n",
    "from model.models_mjp_07July2020 import SimpleCNN5Layer_Ca_G as Model_G\n",
    "from model.models_mjp_07July2020 import SimpleCNN5Layer_Ca_H as Model_H\n",
    "\n",
    "# From model/utilities.py\n",
    "from model.utilities import load_full_state, count_parameters, Params\n",
    "\n",
    "from model.plots import dual_train_plots, replace_in_ax\n",
    "\n",
    "## adds image of model architecture\n",
    "import hiddenlayer as HL"
   ]
  },
  {
   "cell_type": "markdown",
   "metadata": {},
   "source": [
    "Set up Torch device configuration. All tensors and model parameters need to know where to be put.\n",
    "This takes a BUS ID number: The BUS ID is the same as the listing at the top of this script."
   ]
  },
  {
   "cell_type": "code",
   "execution_count": 4,
   "metadata": {},
   "outputs": [
    {
     "name": "stdout",
     "output_type": "stream",
     "text": [
      "1 available GPUs (initially using device 0):\n",
      "  0 TITAN V\n"
     ]
    }
   ],
   "source": [
    "device = select_gpu(2)"
   ]
  },
  {
   "cell_type": "markdown",
   "metadata": {},
   "source": [
    "### Set up local parameters"
   ]
  },
  {
   "cell_type": "code",
   "execution_count": 5,
   "metadata": {},
   "outputs": [],
   "source": [
    "# params order - batch size, epochs, lr, epoch_start (which is usually set to 0)\n",
    "args = Params(128, 200, 1e-3, 20)"
   ]
  },
  {
   "cell_type": "markdown",
   "metadata": {},
   "source": [
    "## Loading data\n",
    "\n",
    "Load the dataset, split into parts, then move to device (see `collectdata.py` in the `../model` directory)"
   ]
  },
  {
   "cell_type": "code",
   "execution_count": 6,
   "metadata": {
    "scrolled": true
   },
   "outputs": [
    {
     "name": "stdout",
     "output_type": "stream",
     "text": [
      "Loading data...\n",
      "Loaded /share/lazy/sokoloff/ML-data_A/Aug14_80K_train.h5 in 17.9 s\n",
      "Loaded /share/lazy/sokoloff/ML-data_AA/Oct03_80K_train.h5 in 17.1 s\n",
      "Constructing 160000 event dataset took 5.749 s\n",
      "Loading data...\n",
      "Loaded /share/lazy/sokoloff/ML-data_AA/Oct03_20K_val.h5 in 4.028 s\n",
      "Constructing 9984 event dataset took 0.1547 s\n"
     ]
    }
   ],
   "source": [
    "## newer vernacular\n",
    "## Training dataset. You can put as many files here as desired.\n",
    "\n",
    "## in this DEMO example we use only one 80K training set -- the model starts with well-trained weights,\n",
    "## and using a smaller training set reduces both the time to load the data and the time to train an epoch\n",
    "##  set the option load_XandXsq = True to use both DKE and KDE^2 as input features\n",
    "train_loader = collect_data('/share/lazy/sokoloff/ML-data_A/Aug14_80K_train.h5',\n",
    "                             '/share/lazy/sokoloff/ML-data_AA/Oct03_80K_train.h5',\n",
    "#                             '/share/lazy/sokoloff/ML-data_AA/Oct03_40K_train.h5',\n",
    "#                             '/share/lazy/will/ML_mdsA/June30_2020_80k_1.h5',\n",
    "#                             '/share/lazy/will/ML_mdsA/June30_2020_80k_3.h5',\n",
    "#                             '/share/lazy/will/ML_mdsA/June30_2020_80k_4.h5',\n",
    "#                             '/share/lazy/will/ML_mdsA/June30_2020_80k_5.h5',\n",
    "#                             '/share/lazy/will/ML_mdsA/June30_2020_80k_6.h5',\n",
    "#                             '/share/lazy/will/ML_mdsA/June30_2020_80k_7.h5',\n",
    "#                             '/share/lazy/will/ML_mdsA/June30_2020_80k_8.h5',\n",
    "#                             '/share/lazy/will/ML_mdsA/June30_2020_80k_9.h5',\n",
    "                            #'/share/lazy/sokoloff/ML-data_AA/Oct03_80K2_train.h5',\n",
    "                             batch_size=args.batch_size,\n",
    "## if we are using a larger dataset (240K events, with the datasets above, and 11 GB  of GPU memory),\n",
    "## not the dataset will overflow the GPU memory; device=device will allow the data to move back\n",
    "## and forth between the CPU and GPU memory. While this allows use of a larger dataset, it slows\n",
    "## down performance by about 10%.  So comment out when not needed.\n",
    "                            device=device,\n",
    "                            masking=True, shuffle=True,\n",
    "                            load_XandXsq=False,\n",
    "                            load_xy=False)\n",
    "\n",
    "# Validation dataset. You can slice to reduce the size.\n",
    "## dataAA -> /share/lazy/sokoloff/ML-data_AA/\n",
    "val_loader = collect_data('/share/lazy/sokoloff/ML-data_AA/Oct03_20K_val.h5',\n",
    "## mds val_loader = collect_data('dataAA/HLT1CPU_1kevts_val.h5',\n",
    "\n",
    "                          batch_size=args.batch_size,\n",
    "                          slice=slice(256 * 39),\n",
    "                          device=device,\n",
    "                          masking=True, shuffle=False,\n",
    "                          load_XandXsq=False,\n",
    "                          load_xy=False)"
   ]
  },
  {
   "cell_type": "markdown",
   "metadata": {},
   "source": [
    "# Preparing the model"
   ]
  },
  {
   "cell_type": "markdown",
   "metadata": {},
   "source": [
    "Prepare a model, use multiple GPUs if they are VISIBLE, and move the model to the device."
   ]
  },
  {
   "cell_type": "code",
   "execution_count": 7,
   "metadata": {
    "scrolled": true
   },
   "outputs": [
    {
     "name": "stderr",
     "output_type": "stream",
     "text": [
      "WARNING:root:Malformed experiment 'ML'. Detailed error Yaml file '/share/lazy/pv-finder_model_repo/ML/meta.yaml' does not exist.\n",
      "Traceback (most recent call last):\n",
      "  File \"/home/michael24peters/.local/lib/python3.7/site-packages/mlflow/store/tracking/file_store.py\", line 197, in list_experiments\n",
      "    experiment = self._get_experiment(exp_id, view_type)\n",
      "  File \"/home/michael24peters/.local/lib/python3.7/site-packages/mlflow/store/tracking/file_store.py\", line 260, in _get_experiment\n",
      "    meta = read_yaml(experiment_dir, FileStore.META_DATA_FILE_NAME)\n",
      "  File \"/home/michael24peters/.local/lib/python3.7/site-packages/mlflow/utils/file_utils.py\", line 167, in read_yaml\n",
      "    raise MissingConfigException(\"Yaml file '%s' does not exist.\" % file_path)\n",
      "mlflow.exceptions.MissingConfigException: Yaml file '/share/lazy/pv-finder_model_repo/ML/meta.yaml' does not exist.\n"
     ]
    }
   ],
   "source": [
    "model = Model_G()\n",
    "\n",
    "##summary(model, input_size=(4, 4000))\n",
    "##print(model.parameters)\n",
    "\n",
    "mlflow.tracking.set_tracking_uri('file:/share/lazy/pv-finder_model_repo')\n",
    "mlflow.set_experiment('ALLCNN')"
   ]
  },
  {
   "cell_type": "code",
   "execution_count": 8,
   "metadata": {
    "scrolled": true
   },
   "outputs": [
    {
     "name": "stdout",
     "output_type": "stream",
     "text": [
      "Let's use 1 GPUs!\n"
     ]
    }
   ],
   "source": [
    "print(\"Let's use\", torch.cuda.device_count(), \"GPUs!\")\n",
    "if torch.cuda.device_count() > 1:\n",
    "    model = torch.nn.DataParallel(model)"
   ]
  },
  {
   "cell_type": "code",
   "execution_count": 9,
   "metadata": {
    "scrolled": true
   },
   "outputs": [
    {
     "name": "stdout",
     "output_type": "stream",
     "text": [
      "we also froze 0 weights\n",
      "Of the 6.0 parameter layers to update in the current model, 6.0 were loaded\n"
     ]
    }
   ],
   "source": [
    "##  mds 200121 loss = Loss(epsilon=1e-5,coefficient=1.0)\n",
    "loss = Loss(epsilon=1e-5,coefficient=2.5)\n",
    "optimizer = torch.optim.Adam(model.parameters(), lr=args.lr)\n",
    "\n",
    "##  use the first five layers from a pre-existing model\n",
    "##  see example at https://discuss.pytorch.org/t/how-to-load-part-of-pre-trained-model/1113\n",
    "##   ML -> /share/lazy/sokoloff/ML\n",
    "\n",
    "#path = 'run_stats.pyt'\n",
    "#load_full_state(model, optimizer, path)\n",
    "# For other pretrained models, go to MLFlow and find the path for \"run_stats.pyt\"\n",
    "pretrained_dict = '/share/lazy/pv-finder_model_repo/7/a380eb6159f74ca4b41964e7119d6570/artifacts/run_stats.pyt'\n",
    "load_full_state(model, optimizer, pretrained_dict)"
   ]
  },
  {
   "cell_type": "code",
   "execution_count": 10,
   "metadata": {},
   "outputs": [
    {
     "data": {
      "text/plain": [
       "SimpleCNN5Layer_Ca_G(\n",
       "  (conv1): Conv1d(1, 20, kernel_size=(25,), stride=(1,), padding=(12,))\n",
       "  (conv2): Conv1d(20, 12, kernel_size=(15,), stride=(1,), padding=(7,))\n",
       "  (conv3): Conv1d(12, 8, kernel_size=(15,), stride=(1,), padding=(7,))\n",
       "  (conv4): Conv1d(8, 6, kernel_size=(15,), stride=(1,), padding=(7,))\n",
       "  (conv5): Conv1d(6, 1, kernel_size=(5,), stride=(1,), padding=(2,))\n",
       "  (conv1dropout): Dropout(p=0.15, inplace=False)\n",
       "  (conv2dropout): Dropout(p=0.15, inplace=False)\n",
       "  (conv3dropout): Dropout(p=0.15, inplace=False)\n",
       "  (conv4dropout): Dropout(p=0.15, inplace=False)\n",
       "  (conv5dropout): Dropout(p=0.35, inplace=False)\n",
       "  (fc1): Linear(in_features=4000, out_features=4000, bias=True)\n",
       ")"
      ]
     },
     "execution_count": 10,
     "metadata": {},
     "output_type": "execute_result"
    }
   ],
   "source": [
    "model.to(device)"
   ]
  },
  {
   "cell_type": "markdown",
   "metadata": {},
   "source": [
    "## Train \n",
    "\n",
    "\n",
    "\n",
    "The body of this loop runs once per epoch. Results is a named tuple of values (loss per epoch for training and validation, time each). Start by setting up a plot first:"
   ]
  },
  {
   "cell_type": "code",
   "execution_count": 11,
   "metadata": {},
   "outputs": [
    {
     "data": {
      "application/javascript": [
       "/* Put everything inside the global mpl namespace */\n",
       "window.mpl = {};\n",
       "\n",
       "\n",
       "mpl.get_websocket_type = function() {\n",
       "    if (typeof(WebSocket) !== 'undefined') {\n",
       "        return WebSocket;\n",
       "    } else if (typeof(MozWebSocket) !== 'undefined') {\n",
       "        return MozWebSocket;\n",
       "    } else {\n",
       "        alert('Your browser does not have WebSocket support. ' +\n",
       "              'Please try Chrome, Safari or Firefox ≥ 6. ' +\n",
       "              'Firefox 4 and 5 are also supported but you ' +\n",
       "              'have to enable WebSockets in about:config.');\n",
       "    };\n",
       "}\n",
       "\n",
       "mpl.figure = function(figure_id, websocket, ondownload, parent_element) {\n",
       "    this.id = figure_id;\n",
       "\n",
       "    this.ws = websocket;\n",
       "\n",
       "    this.supports_binary = (this.ws.binaryType != undefined);\n",
       "\n",
       "    if (!this.supports_binary) {\n",
       "        var warnings = document.getElementById(\"mpl-warnings\");\n",
       "        if (warnings) {\n",
       "            warnings.style.display = 'block';\n",
       "            warnings.textContent = (\n",
       "                \"This browser does not support binary websocket messages. \" +\n",
       "                    \"Performance may be slow.\");\n",
       "        }\n",
       "    }\n",
       "\n",
       "    this.imageObj = new Image();\n",
       "\n",
       "    this.context = undefined;\n",
       "    this.message = undefined;\n",
       "    this.canvas = undefined;\n",
       "    this.rubberband_canvas = undefined;\n",
       "    this.rubberband_context = undefined;\n",
       "    this.format_dropdown = undefined;\n",
       "\n",
       "    this.image_mode = 'full';\n",
       "\n",
       "    this.root = $('<div/>');\n",
       "    this._root_extra_style(this.root)\n",
       "    this.root.attr('style', 'display: inline-block');\n",
       "\n",
       "    $(parent_element).append(this.root);\n",
       "\n",
       "    this._init_header(this);\n",
       "    this._init_canvas(this);\n",
       "    this._init_toolbar(this);\n",
       "\n",
       "    var fig = this;\n",
       "\n",
       "    this.waiting = false;\n",
       "\n",
       "    this.ws.onopen =  function () {\n",
       "            fig.send_message(\"supports_binary\", {value: fig.supports_binary});\n",
       "            fig.send_message(\"send_image_mode\", {});\n",
       "            if (mpl.ratio != 1) {\n",
       "                fig.send_message(\"set_dpi_ratio\", {'dpi_ratio': mpl.ratio});\n",
       "            }\n",
       "            fig.send_message(\"refresh\", {});\n",
       "        }\n",
       "\n",
       "    this.imageObj.onload = function() {\n",
       "            if (fig.image_mode == 'full') {\n",
       "                // Full images could contain transparency (where diff images\n",
       "                // almost always do), so we need to clear the canvas so that\n",
       "                // there is no ghosting.\n",
       "                fig.context.clearRect(0, 0, fig.canvas.width, fig.canvas.height);\n",
       "            }\n",
       "            fig.context.drawImage(fig.imageObj, 0, 0);\n",
       "        };\n",
       "\n",
       "    this.imageObj.onunload = function() {\n",
       "        fig.ws.close();\n",
       "    }\n",
       "\n",
       "    this.ws.onmessage = this._make_on_message_function(this);\n",
       "\n",
       "    this.ondownload = ondownload;\n",
       "}\n",
       "\n",
       "mpl.figure.prototype._init_header = function() {\n",
       "    var titlebar = $(\n",
       "        '<div class=\"ui-dialog-titlebar ui-widget-header ui-corner-all ' +\n",
       "        'ui-helper-clearfix\"/>');\n",
       "    var titletext = $(\n",
       "        '<div class=\"ui-dialog-title\" style=\"width: 100%; ' +\n",
       "        'text-align: center; padding: 3px;\"/>');\n",
       "    titlebar.append(titletext)\n",
       "    this.root.append(titlebar);\n",
       "    this.header = titletext[0];\n",
       "}\n",
       "\n",
       "\n",
       "\n",
       "mpl.figure.prototype._canvas_extra_style = function(canvas_div) {\n",
       "\n",
       "}\n",
       "\n",
       "\n",
       "mpl.figure.prototype._root_extra_style = function(canvas_div) {\n",
       "\n",
       "}\n",
       "\n",
       "mpl.figure.prototype._init_canvas = function() {\n",
       "    var fig = this;\n",
       "\n",
       "    var canvas_div = $('<div/>');\n",
       "\n",
       "    canvas_div.attr('style', 'position: relative; clear: both; outline: 0');\n",
       "\n",
       "    function canvas_keyboard_event(event) {\n",
       "        return fig.key_event(event, event['data']);\n",
       "    }\n",
       "\n",
       "    canvas_div.keydown('key_press', canvas_keyboard_event);\n",
       "    canvas_div.keyup('key_release', canvas_keyboard_event);\n",
       "    this.canvas_div = canvas_div\n",
       "    this._canvas_extra_style(canvas_div)\n",
       "    this.root.append(canvas_div);\n",
       "\n",
       "    var canvas = $('<canvas/>');\n",
       "    canvas.addClass('mpl-canvas');\n",
       "    canvas.attr('style', \"left: 0; top: 0; z-index: 0; outline: 0\")\n",
       "\n",
       "    this.canvas = canvas[0];\n",
       "    this.context = canvas[0].getContext(\"2d\");\n",
       "\n",
       "    var backingStore = this.context.backingStorePixelRatio ||\n",
       "\tthis.context.webkitBackingStorePixelRatio ||\n",
       "\tthis.context.mozBackingStorePixelRatio ||\n",
       "\tthis.context.msBackingStorePixelRatio ||\n",
       "\tthis.context.oBackingStorePixelRatio ||\n",
       "\tthis.context.backingStorePixelRatio || 1;\n",
       "\n",
       "    mpl.ratio = (window.devicePixelRatio || 1) / backingStore;\n",
       "\n",
       "    var rubberband = $('<canvas/>');\n",
       "    rubberband.attr('style', \"position: absolute; left: 0; top: 0; z-index: 1;\")\n",
       "\n",
       "    var pass_mouse_events = true;\n",
       "\n",
       "    canvas_div.resizable({\n",
       "        start: function(event, ui) {\n",
       "            pass_mouse_events = false;\n",
       "        },\n",
       "        resize: function(event, ui) {\n",
       "            fig.request_resize(ui.size.width, ui.size.height);\n",
       "        },\n",
       "        stop: function(event, ui) {\n",
       "            pass_mouse_events = true;\n",
       "            fig.request_resize(ui.size.width, ui.size.height);\n",
       "        },\n",
       "    });\n",
       "\n",
       "    function mouse_event_fn(event) {\n",
       "        if (pass_mouse_events)\n",
       "            return fig.mouse_event(event, event['data']);\n",
       "    }\n",
       "\n",
       "    rubberband.mousedown('button_press', mouse_event_fn);\n",
       "    rubberband.mouseup('button_release', mouse_event_fn);\n",
       "    // Throttle sequential mouse events to 1 every 20ms.\n",
       "    rubberband.mousemove('motion_notify', mouse_event_fn);\n",
       "\n",
       "    rubberband.mouseenter('figure_enter', mouse_event_fn);\n",
       "    rubberband.mouseleave('figure_leave', mouse_event_fn);\n",
       "\n",
       "    canvas_div.on(\"wheel\", function (event) {\n",
       "        event = event.originalEvent;\n",
       "        event['data'] = 'scroll'\n",
       "        if (event.deltaY < 0) {\n",
       "            event.step = 1;\n",
       "        } else {\n",
       "            event.step = -1;\n",
       "        }\n",
       "        mouse_event_fn(event);\n",
       "    });\n",
       "\n",
       "    canvas_div.append(canvas);\n",
       "    canvas_div.append(rubberband);\n",
       "\n",
       "    this.rubberband = rubberband;\n",
       "    this.rubberband_canvas = rubberband[0];\n",
       "    this.rubberband_context = rubberband[0].getContext(\"2d\");\n",
       "    this.rubberband_context.strokeStyle = \"#000000\";\n",
       "\n",
       "    this._resize_canvas = function(width, height) {\n",
       "        // Keep the size of the canvas, canvas container, and rubber band\n",
       "        // canvas in synch.\n",
       "        canvas_div.css('width', width)\n",
       "        canvas_div.css('height', height)\n",
       "\n",
       "        canvas.attr('width', width * mpl.ratio);\n",
       "        canvas.attr('height', height * mpl.ratio);\n",
       "        canvas.attr('style', 'width: ' + width + 'px; height: ' + height + 'px;');\n",
       "\n",
       "        rubberband.attr('width', width);\n",
       "        rubberband.attr('height', height);\n",
       "    }\n",
       "\n",
       "    // Set the figure to an initial 600x600px, this will subsequently be updated\n",
       "    // upon first draw.\n",
       "    this._resize_canvas(600, 600);\n",
       "\n",
       "    // Disable right mouse context menu.\n",
       "    $(this.rubberband_canvas).bind(\"contextmenu\",function(e){\n",
       "        return false;\n",
       "    });\n",
       "\n",
       "    function set_focus () {\n",
       "        canvas.focus();\n",
       "        canvas_div.focus();\n",
       "    }\n",
       "\n",
       "    window.setTimeout(set_focus, 100);\n",
       "}\n",
       "\n",
       "mpl.figure.prototype._init_toolbar = function() {\n",
       "    var fig = this;\n",
       "\n",
       "    var nav_element = $('<div/>');\n",
       "    nav_element.attr('style', 'width: 100%');\n",
       "    this.root.append(nav_element);\n",
       "\n",
       "    // Define a callback function for later on.\n",
       "    function toolbar_event(event) {\n",
       "        return fig.toolbar_button_onclick(event['data']);\n",
       "    }\n",
       "    function toolbar_mouse_event(event) {\n",
       "        return fig.toolbar_button_onmouseover(event['data']);\n",
       "    }\n",
       "\n",
       "    for(var toolbar_ind in mpl.toolbar_items) {\n",
       "        var name = mpl.toolbar_items[toolbar_ind][0];\n",
       "        var tooltip = mpl.toolbar_items[toolbar_ind][1];\n",
       "        var image = mpl.toolbar_items[toolbar_ind][2];\n",
       "        var method_name = mpl.toolbar_items[toolbar_ind][3];\n",
       "\n",
       "        if (!name) {\n",
       "            // put a spacer in here.\n",
       "            continue;\n",
       "        }\n",
       "        var button = $('<button/>');\n",
       "        button.addClass('ui-button ui-widget ui-state-default ui-corner-all ' +\n",
       "                        'ui-button-icon-only');\n",
       "        button.attr('role', 'button');\n",
       "        button.attr('aria-disabled', 'false');\n",
       "        button.click(method_name, toolbar_event);\n",
       "        button.mouseover(tooltip, toolbar_mouse_event);\n",
       "\n",
       "        var icon_img = $('<span/>');\n",
       "        icon_img.addClass('ui-button-icon-primary ui-icon');\n",
       "        icon_img.addClass(image);\n",
       "        icon_img.addClass('ui-corner-all');\n",
       "\n",
       "        var tooltip_span = $('<span/>');\n",
       "        tooltip_span.addClass('ui-button-text');\n",
       "        tooltip_span.html(tooltip);\n",
       "\n",
       "        button.append(icon_img);\n",
       "        button.append(tooltip_span);\n",
       "\n",
       "        nav_element.append(button);\n",
       "    }\n",
       "\n",
       "    var fmt_picker_span = $('<span/>');\n",
       "\n",
       "    var fmt_picker = $('<select/>');\n",
       "    fmt_picker.addClass('mpl-toolbar-option ui-widget ui-widget-content');\n",
       "    fmt_picker_span.append(fmt_picker);\n",
       "    nav_element.append(fmt_picker_span);\n",
       "    this.format_dropdown = fmt_picker[0];\n",
       "\n",
       "    for (var ind in mpl.extensions) {\n",
       "        var fmt = mpl.extensions[ind];\n",
       "        var option = $(\n",
       "            '<option/>', {selected: fmt === mpl.default_extension}).html(fmt);\n",
       "        fmt_picker.append(option);\n",
       "    }\n",
       "\n",
       "    // Add hover states to the ui-buttons\n",
       "    $( \".ui-button\" ).hover(\n",
       "        function() { $(this).addClass(\"ui-state-hover\");},\n",
       "        function() { $(this).removeClass(\"ui-state-hover\");}\n",
       "    );\n",
       "\n",
       "    var status_bar = $('<span class=\"mpl-message\"/>');\n",
       "    nav_element.append(status_bar);\n",
       "    this.message = status_bar[0];\n",
       "}\n",
       "\n",
       "mpl.figure.prototype.request_resize = function(x_pixels, y_pixels) {\n",
       "    // Request matplotlib to resize the figure. Matplotlib will then trigger a resize in the client,\n",
       "    // which will in turn request a refresh of the image.\n",
       "    this.send_message('resize', {'width': x_pixels, 'height': y_pixels});\n",
       "}\n",
       "\n",
       "mpl.figure.prototype.send_message = function(type, properties) {\n",
       "    properties['type'] = type;\n",
       "    properties['figure_id'] = this.id;\n",
       "    this.ws.send(JSON.stringify(properties));\n",
       "}\n",
       "\n",
       "mpl.figure.prototype.send_draw_message = function() {\n",
       "    if (!this.waiting) {\n",
       "        this.waiting = true;\n",
       "        this.ws.send(JSON.stringify({type: \"draw\", figure_id: this.id}));\n",
       "    }\n",
       "}\n",
       "\n",
       "\n",
       "mpl.figure.prototype.handle_save = function(fig, msg) {\n",
       "    var format_dropdown = fig.format_dropdown;\n",
       "    var format = format_dropdown.options[format_dropdown.selectedIndex].value;\n",
       "    fig.ondownload(fig, format);\n",
       "}\n",
       "\n",
       "\n",
       "mpl.figure.prototype.handle_resize = function(fig, msg) {\n",
       "    var size = msg['size'];\n",
       "    if (size[0] != fig.canvas.width || size[1] != fig.canvas.height) {\n",
       "        fig._resize_canvas(size[0], size[1]);\n",
       "        fig.send_message(\"refresh\", {});\n",
       "    };\n",
       "}\n",
       "\n",
       "mpl.figure.prototype.handle_rubberband = function(fig, msg) {\n",
       "    var x0 = msg['x0'] / mpl.ratio;\n",
       "    var y0 = (fig.canvas.height - msg['y0']) / mpl.ratio;\n",
       "    var x1 = msg['x1'] / mpl.ratio;\n",
       "    var y1 = (fig.canvas.height - msg['y1']) / mpl.ratio;\n",
       "    x0 = Math.floor(x0) + 0.5;\n",
       "    y0 = Math.floor(y0) + 0.5;\n",
       "    x1 = Math.floor(x1) + 0.5;\n",
       "    y1 = Math.floor(y1) + 0.5;\n",
       "    var min_x = Math.min(x0, x1);\n",
       "    var min_y = Math.min(y0, y1);\n",
       "    var width = Math.abs(x1 - x0);\n",
       "    var height = Math.abs(y1 - y0);\n",
       "\n",
       "    fig.rubberband_context.clearRect(\n",
       "        0, 0, fig.canvas.width / mpl.ratio, fig.canvas.height / mpl.ratio);\n",
       "\n",
       "    fig.rubberband_context.strokeRect(min_x, min_y, width, height);\n",
       "}\n",
       "\n",
       "mpl.figure.prototype.handle_figure_label = function(fig, msg) {\n",
       "    // Updates the figure title.\n",
       "    fig.header.textContent = msg['label'];\n",
       "}\n",
       "\n",
       "mpl.figure.prototype.handle_cursor = function(fig, msg) {\n",
       "    var cursor = msg['cursor'];\n",
       "    switch(cursor)\n",
       "    {\n",
       "    case 0:\n",
       "        cursor = 'pointer';\n",
       "        break;\n",
       "    case 1:\n",
       "        cursor = 'default';\n",
       "        break;\n",
       "    case 2:\n",
       "        cursor = 'crosshair';\n",
       "        break;\n",
       "    case 3:\n",
       "        cursor = 'move';\n",
       "        break;\n",
       "    }\n",
       "    fig.rubberband_canvas.style.cursor = cursor;\n",
       "}\n",
       "\n",
       "mpl.figure.prototype.handle_message = function(fig, msg) {\n",
       "    fig.message.textContent = msg['message'];\n",
       "}\n",
       "\n",
       "mpl.figure.prototype.handle_draw = function(fig, msg) {\n",
       "    // Request the server to send over a new figure.\n",
       "    fig.send_draw_message();\n",
       "}\n",
       "\n",
       "mpl.figure.prototype.handle_image_mode = function(fig, msg) {\n",
       "    fig.image_mode = msg['mode'];\n",
       "}\n",
       "\n",
       "mpl.figure.prototype.updated_canvas_event = function() {\n",
       "    // Called whenever the canvas gets updated.\n",
       "    this.send_message(\"ack\", {});\n",
       "}\n",
       "\n",
       "// A function to construct a web socket function for onmessage handling.\n",
       "// Called in the figure constructor.\n",
       "mpl.figure.prototype._make_on_message_function = function(fig) {\n",
       "    return function socket_on_message(evt) {\n",
       "        if (evt.data instanceof Blob) {\n",
       "            /* FIXME: We get \"Resource interpreted as Image but\n",
       "             * transferred with MIME type text/plain:\" errors on\n",
       "             * Chrome.  But how to set the MIME type?  It doesn't seem\n",
       "             * to be part of the websocket stream */\n",
       "            evt.data.type = \"image/png\";\n",
       "\n",
       "            /* Free the memory for the previous frames */\n",
       "            if (fig.imageObj.src) {\n",
       "                (window.URL || window.webkitURL).revokeObjectURL(\n",
       "                    fig.imageObj.src);\n",
       "            }\n",
       "\n",
       "            fig.imageObj.src = (window.URL || window.webkitURL).createObjectURL(\n",
       "                evt.data);\n",
       "            fig.updated_canvas_event();\n",
       "            fig.waiting = false;\n",
       "            return;\n",
       "        }\n",
       "        else if (typeof evt.data === 'string' && evt.data.slice(0, 21) == \"data:image/png;base64\") {\n",
       "            fig.imageObj.src = evt.data;\n",
       "            fig.updated_canvas_event();\n",
       "            fig.waiting = false;\n",
       "            return;\n",
       "        }\n",
       "\n",
       "        var msg = JSON.parse(evt.data);\n",
       "        var msg_type = msg['type'];\n",
       "\n",
       "        // Call the  \"handle_{type}\" callback, which takes\n",
       "        // the figure and JSON message as its only arguments.\n",
       "        try {\n",
       "            var callback = fig[\"handle_\" + msg_type];\n",
       "        } catch (e) {\n",
       "            console.log(\"No handler for the '\" + msg_type + \"' message type: \", msg);\n",
       "            return;\n",
       "        }\n",
       "\n",
       "        if (callback) {\n",
       "            try {\n",
       "                // console.log(\"Handling '\" + msg_type + \"' message: \", msg);\n",
       "                callback(fig, msg);\n",
       "            } catch (e) {\n",
       "                console.log(\"Exception inside the 'handler_\" + msg_type + \"' callback:\", e, e.stack, msg);\n",
       "            }\n",
       "        }\n",
       "    };\n",
       "}\n",
       "\n",
       "// from http://stackoverflow.com/questions/1114465/getting-mouse-location-in-canvas\n",
       "mpl.findpos = function(e) {\n",
       "    //this section is from http://www.quirksmode.org/js/events_properties.html\n",
       "    var targ;\n",
       "    if (!e)\n",
       "        e = window.event;\n",
       "    if (e.target)\n",
       "        targ = e.target;\n",
       "    else if (e.srcElement)\n",
       "        targ = e.srcElement;\n",
       "    if (targ.nodeType == 3) // defeat Safari bug\n",
       "        targ = targ.parentNode;\n",
       "\n",
       "    // jQuery normalizes the pageX and pageY\n",
       "    // pageX,Y are the mouse positions relative to the document\n",
       "    // offset() returns the position of the element relative to the document\n",
       "    var x = e.pageX - $(targ).offset().left;\n",
       "    var y = e.pageY - $(targ).offset().top;\n",
       "\n",
       "    return {\"x\": x, \"y\": y};\n",
       "};\n",
       "\n",
       "/*\n",
       " * return a copy of an object with only non-object keys\n",
       " * we need this to avoid circular references\n",
       " * http://stackoverflow.com/a/24161582/3208463\n",
       " */\n",
       "function simpleKeys (original) {\n",
       "  return Object.keys(original).reduce(function (obj, key) {\n",
       "    if (typeof original[key] !== 'object')\n",
       "        obj[key] = original[key]\n",
       "    return obj;\n",
       "  }, {});\n",
       "}\n",
       "\n",
       "mpl.figure.prototype.mouse_event = function(event, name) {\n",
       "    var canvas_pos = mpl.findpos(event)\n",
       "\n",
       "    if (name === 'button_press')\n",
       "    {\n",
       "        this.canvas.focus();\n",
       "        this.canvas_div.focus();\n",
       "    }\n",
       "\n",
       "    var x = canvas_pos.x * mpl.ratio;\n",
       "    var y = canvas_pos.y * mpl.ratio;\n",
       "\n",
       "    this.send_message(name, {x: x, y: y, button: event.button,\n",
       "                             step: event.step,\n",
       "                             guiEvent: simpleKeys(event)});\n",
       "\n",
       "    /* This prevents the web browser from automatically changing to\n",
       "     * the text insertion cursor when the button is pressed.  We want\n",
       "     * to control all of the cursor setting manually through the\n",
       "     * 'cursor' event from matplotlib */\n",
       "    event.preventDefault();\n",
       "    return false;\n",
       "}\n",
       "\n",
       "mpl.figure.prototype._key_event_extra = function(event, name) {\n",
       "    // Handle any extra behaviour associated with a key event\n",
       "}\n",
       "\n",
       "mpl.figure.prototype.key_event = function(event, name) {\n",
       "\n",
       "    // Prevent repeat events\n",
       "    if (name == 'key_press')\n",
       "    {\n",
       "        if (event.which === this._key)\n",
       "            return;\n",
       "        else\n",
       "            this._key = event.which;\n",
       "    }\n",
       "    if (name == 'key_release')\n",
       "        this._key = null;\n",
       "\n",
       "    var value = '';\n",
       "    if (event.ctrlKey && event.which != 17)\n",
       "        value += \"ctrl+\";\n",
       "    if (event.altKey && event.which != 18)\n",
       "        value += \"alt+\";\n",
       "    if (event.shiftKey && event.which != 16)\n",
       "        value += \"shift+\";\n",
       "\n",
       "    value += 'k';\n",
       "    value += event.which.toString();\n",
       "\n",
       "    this._key_event_extra(event, name);\n",
       "\n",
       "    this.send_message(name, {key: value,\n",
       "                             guiEvent: simpleKeys(event)});\n",
       "    return false;\n",
       "}\n",
       "\n",
       "mpl.figure.prototype.toolbar_button_onclick = function(name) {\n",
       "    if (name == 'download') {\n",
       "        this.handle_save(this, null);\n",
       "    } else {\n",
       "        this.send_message(\"toolbar_button\", {name: name});\n",
       "    }\n",
       "};\n",
       "\n",
       "mpl.figure.prototype.toolbar_button_onmouseover = function(tooltip) {\n",
       "    this.message.textContent = tooltip;\n",
       "};\n",
       "mpl.toolbar_items = [[\"Home\", \"Reset original view\", \"fa fa-home icon-home\", \"home\"], [\"Back\", \"Back to previous view\", \"fa fa-arrow-left icon-arrow-left\", \"back\"], [\"Forward\", \"Forward to next view\", \"fa fa-arrow-right icon-arrow-right\", \"forward\"], [\"\", \"\", \"\", \"\"], [\"Pan\", \"Pan axes with left mouse, zoom with right\", \"fa fa-arrows icon-move\", \"pan\"], [\"Zoom\", \"Zoom to rectangle\", \"fa fa-square-o icon-check-empty\", \"zoom\"], [\"\", \"\", \"\", \"\"], [\"Download\", \"Download plot\", \"fa fa-floppy-o icon-save\", \"download\"]];\n",
       "\n",
       "mpl.extensions = [\"eps\", \"jpeg\", \"pdf\", \"png\", \"ps\", \"raw\", \"svg\", \"tif\"];\n",
       "\n",
       "mpl.default_extension = \"png\";var comm_websocket_adapter = function(comm) {\n",
       "    // Create a \"websocket\"-like object which calls the given IPython comm\n",
       "    // object with the appropriate methods. Currently this is a non binary\n",
       "    // socket, so there is still some room for performance tuning.\n",
       "    var ws = {};\n",
       "\n",
       "    ws.close = function() {\n",
       "        comm.close()\n",
       "    };\n",
       "    ws.send = function(m) {\n",
       "        //console.log('sending', m);\n",
       "        comm.send(m);\n",
       "    };\n",
       "    // Register the callback with on_msg.\n",
       "    comm.on_msg(function(msg) {\n",
       "        //console.log('receiving', msg['content']['data'], msg);\n",
       "        // Pass the mpl event to the overridden (by mpl) onmessage function.\n",
       "        ws.onmessage(msg['content']['data'])\n",
       "    });\n",
       "    return ws;\n",
       "}\n",
       "\n",
       "mpl.mpl_figure_comm = function(comm, msg) {\n",
       "    // This is the function which gets called when the mpl process\n",
       "    // starts-up an IPython Comm through the \"matplotlib\" channel.\n",
       "\n",
       "    var id = msg.content.data.id;\n",
       "    // Get hold of the div created by the display call when the Comm\n",
       "    // socket was opened in Python.\n",
       "    var element = $(\"#\" + id);\n",
       "    var ws_proxy = comm_websocket_adapter(comm)\n",
       "\n",
       "    function ondownload(figure, format) {\n",
       "        window.open(figure.imageObj.src);\n",
       "    }\n",
       "\n",
       "    var fig = new mpl.figure(id, ws_proxy,\n",
       "                           ondownload,\n",
       "                           element.get(0));\n",
       "\n",
       "    // Call onopen now - mpl needs it, as it is assuming we've passed it a real\n",
       "    // web socket which is closed, not our websocket->open comm proxy.\n",
       "    ws_proxy.onopen();\n",
       "\n",
       "    fig.parent_element = element.get(0);\n",
       "    fig.cell_info = mpl.find_output_cell(\"<div id='\" + id + \"'></div>\");\n",
       "    if (!fig.cell_info) {\n",
       "        console.error(\"Failed to find cell for figure\", id, fig);\n",
       "        return;\n",
       "    }\n",
       "\n",
       "    var output_index = fig.cell_info[2]\n",
       "    var cell = fig.cell_info[0];\n",
       "\n",
       "};\n",
       "\n",
       "mpl.figure.prototype.handle_close = function(fig, msg) {\n",
       "    var width = fig.canvas.width/mpl.ratio\n",
       "    fig.root.unbind('remove')\n",
       "\n",
       "    // Update the output cell to use the data from the current canvas.\n",
       "    fig.push_to_output();\n",
       "    var dataURL = fig.canvas.toDataURL();\n",
       "    // Re-enable the keyboard manager in IPython - without this line, in FF,\n",
       "    // the notebook keyboard shortcuts fail.\n",
       "    IPython.keyboard_manager.enable()\n",
       "    $(fig.parent_element).html('<img src=\"' + dataURL + '\" width=\"' + width + '\">');\n",
       "    fig.close_ws(fig, msg);\n",
       "}\n",
       "\n",
       "mpl.figure.prototype.close_ws = function(fig, msg){\n",
       "    fig.send_message('closing', msg);\n",
       "    // fig.ws.close()\n",
       "}\n",
       "\n",
       "mpl.figure.prototype.push_to_output = function(remove_interactive) {\n",
       "    // Turn the data on the canvas into data in the output cell.\n",
       "    var width = this.canvas.width/mpl.ratio\n",
       "    var dataURL = this.canvas.toDataURL();\n",
       "    this.cell_info[1]['text/html'] = '<img src=\"' + dataURL + '\" width=\"' + width + '\">';\n",
       "}\n",
       "\n",
       "mpl.figure.prototype.updated_canvas_event = function() {\n",
       "    // Tell IPython that the notebook contents must change.\n",
       "    IPython.notebook.set_dirty(true);\n",
       "    this.send_message(\"ack\", {});\n",
       "    var fig = this;\n",
       "    // Wait a second, then push the new image to the DOM so\n",
       "    // that it is saved nicely (might be nice to debounce this).\n",
       "    setTimeout(function () { fig.push_to_output() }, 1000);\n",
       "}\n",
       "\n",
       "mpl.figure.prototype._init_toolbar = function() {\n",
       "    var fig = this;\n",
       "\n",
       "    var nav_element = $('<div/>');\n",
       "    nav_element.attr('style', 'width: 100%');\n",
       "    this.root.append(nav_element);\n",
       "\n",
       "    // Define a callback function for later on.\n",
       "    function toolbar_event(event) {\n",
       "        return fig.toolbar_button_onclick(event['data']);\n",
       "    }\n",
       "    function toolbar_mouse_event(event) {\n",
       "        return fig.toolbar_button_onmouseover(event['data']);\n",
       "    }\n",
       "\n",
       "    for(var toolbar_ind in mpl.toolbar_items){\n",
       "        var name = mpl.toolbar_items[toolbar_ind][0];\n",
       "        var tooltip = mpl.toolbar_items[toolbar_ind][1];\n",
       "        var image = mpl.toolbar_items[toolbar_ind][2];\n",
       "        var method_name = mpl.toolbar_items[toolbar_ind][3];\n",
       "\n",
       "        if (!name) { continue; };\n",
       "\n",
       "        var button = $('<button class=\"btn btn-default\" href=\"#\" title=\"' + name + '\"><i class=\"fa ' + image + ' fa-lg\"></i></button>');\n",
       "        button.click(method_name, toolbar_event);\n",
       "        button.mouseover(tooltip, toolbar_mouse_event);\n",
       "        nav_element.append(button);\n",
       "    }\n",
       "\n",
       "    // Add the status bar.\n",
       "    var status_bar = $('<span class=\"mpl-message\" style=\"text-align:right; float: right;\"/>');\n",
       "    nav_element.append(status_bar);\n",
       "    this.message = status_bar[0];\n",
       "\n",
       "    // Add the close button to the window.\n",
       "    var buttongrp = $('<div class=\"btn-group inline pull-right\"></div>');\n",
       "    var button = $('<button class=\"btn btn-mini btn-primary\" href=\"#\" title=\"Stop Interaction\"><i class=\"fa fa-power-off icon-remove icon-large\"></i></button>');\n",
       "    button.click(function (evt) { fig.handle_close(fig, {}); } );\n",
       "    button.mouseover('Stop Interaction', toolbar_mouse_event);\n",
       "    buttongrp.append(button);\n",
       "    var titlebar = this.root.find($('.ui-dialog-titlebar'));\n",
       "    titlebar.prepend(buttongrp);\n",
       "}\n",
       "\n",
       "mpl.figure.prototype._root_extra_style = function(el){\n",
       "    var fig = this\n",
       "    el.on(\"remove\", function(){\n",
       "\tfig.close_ws(fig, {});\n",
       "    });\n",
       "}\n",
       "\n",
       "mpl.figure.prototype._canvas_extra_style = function(el){\n",
       "    // this is important to make the div 'focusable\n",
       "    el.attr('tabindex', 0)\n",
       "    // reach out to IPython and tell the keyboard manager to turn it's self\n",
       "    // off when our div gets focus\n",
       "\n",
       "    // location in version 3\n",
       "    if (IPython.notebook.keyboard_manager) {\n",
       "        IPython.notebook.keyboard_manager.register_events(el);\n",
       "    }\n",
       "    else {\n",
       "        // location in version 2\n",
       "        IPython.keyboard_manager.register_events(el);\n",
       "    }\n",
       "\n",
       "}\n",
       "\n",
       "mpl.figure.prototype._key_event_extra = function(event, name) {\n",
       "    var manager = IPython.notebook.keyboard_manager;\n",
       "    if (!manager)\n",
       "        manager = IPython.keyboard_manager;\n",
       "\n",
       "    // Check for shift+enter\n",
       "    if (event.shiftKey && event.which == 13) {\n",
       "        this.canvas_div.blur();\n",
       "        // select the cell after this one\n",
       "        var index = IPython.notebook.find_cell_index(this.cell_info[0]);\n",
       "        IPython.notebook.select(index + 1);\n",
       "    }\n",
       "}\n",
       "\n",
       "mpl.figure.prototype.handle_save = function(fig, msg) {\n",
       "    fig.ondownload(fig, null);\n",
       "}\n",
       "\n",
       "\n",
       "mpl.find_output_cell = function(html_output) {\n",
       "    // Return the cell and output element which can be found *uniquely* in the notebook.\n",
       "    // Note - this is a bit hacky, but it is done because the \"notebook_saving.Notebook\"\n",
       "    // IPython event is triggered only after the cells have been serialised, which for\n",
       "    // our purposes (turning an active figure into a static one), is too late.\n",
       "    var cells = IPython.notebook.get_cells();\n",
       "    var ncells = cells.length;\n",
       "    for (var i=0; i<ncells; i++) {\n",
       "        var cell = cells[i];\n",
       "        if (cell.cell_type === 'code'){\n",
       "            for (var j=0; j<cell.output_area.outputs.length; j++) {\n",
       "                var data = cell.output_area.outputs[j];\n",
       "                if (data.data) {\n",
       "                    // IPython >= 3 moved mimebundle to data attribute of output\n",
       "                    data = data.data;\n",
       "                }\n",
       "                if (data['text/html'] == html_output) {\n",
       "                    return [cell, data, j];\n",
       "                }\n",
       "            }\n",
       "        }\n",
       "    }\n",
       "}\n",
       "\n",
       "// Register the function which deals with the matplotlib target/channel.\n",
       "// The kernel may be null if the page has been refreshed.\n",
       "if (IPython.notebook.kernel != null) {\n",
       "    IPython.notebook.kernel.comm_manager.register_target('matplotlib', mpl.mpl_figure_comm);\n",
       "}\n"
      ],
      "text/plain": [
       "<IPython.core.display.Javascript object>"
      ]
     },
     "metadata": {},
     "output_type": "display_data"
    },
    {
     "data": {
      "text/html": [
       "<img src=\"data:image/png;base64,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\" width=\"1000\">"
      ],
      "text/plain": [
       "<IPython.core.display.HTML object>"
      ]
     },
     "metadata": {},
     "output_type": "display_data"
    }
   ],
   "source": [
    "ax, tax, lax, lines = dual_train_plots()\n",
    "fig = ax.figure\n",
    "plt.tight_layout()\n",
    "# This gets built up during the run - do not rerun this cell\n",
    "results = pd.DataFrame([], columns=Results._fields)"
   ]
  },
  {
   "cell_type": "code",
   "execution_count": 12,
   "metadata": {
    "scrolled": true
   },
   "outputs": [
    {
     "name": "stdout",
     "output_type": "stream",
     "text": [
      "for model:  SimpleCNN5Layer_Ca_G(\n",
      "  (conv1): Conv1d(1, 20, kernel_size=(25,), stride=(1,), padding=(12,))\n",
      "  (conv2): Conv1d(20, 12, kernel_size=(15,), stride=(1,), padding=(7,))\n",
      "  (conv3): Conv1d(12, 8, kernel_size=(15,), stride=(1,), padding=(7,))\n",
      "  (conv4): Conv1d(8, 6, kernel_size=(15,), stride=(1,), padding=(7,))\n",
      "  (conv5): Conv1d(6, 1, kernel_size=(5,), stride=(1,), padding=(2,))\n",
      "  (conv1dropout): Dropout(p=0.15, inplace=False)\n",
      "  (conv2dropout): Dropout(p=0.15, inplace=False)\n",
      "  (conv3dropout): Dropout(p=0.15, inplace=False)\n",
      "  (conv4dropout): Dropout(p=0.15, inplace=False)\n",
      "  (conv5dropout): Dropout(p=0.35, inplace=False)\n",
      "  (fc1): Linear(in_features=4000, out_features=4000, bias=True)\n",
      ")\n",
      "epoch_start 20\n",
      "batch_size 128\n",
      "epochs 200\n",
      "lr 0.001\n",
      "Number of batches: train = 1250, val = 78\n"
     ]
    },
    {
     "name": "stderr",
     "output_type": "stream",
     "text": [
      "/home/michael24peters/pv-finder_experimental/notebooks/model/training.py:95: TqdmDeprecationWarning: This function will be removed in tqdm==5.0.0\n",
      "Please use `tqdm.notebook.tqdm` instead of `tqdm.tqdm_notebook`\n",
      "  file=sys.stderr,\n"
     ]
    },
    {
     "data": {
      "application/vnd.jupyter.widget-view+json": {
       "model_id": "ee9e55be413e43a8abcc0a60e057aa4b",
       "version_major": 2,
       "version_minor": 0
      },
      "text/plain": [
       "HBox(children=(FloatProgress(value=0.0, description='Epochs', layout=Layout(flex='2'), max=200.0, style=Progre…"
      ]
     },
     "metadata": {},
     "output_type": "display_data"
    },
    {
     "data": {
      "application/vnd.jupyter.widget-view+json": {
       "model_id": "",
       "version_major": 2,
       "version_minor": 0
      },
      "text/plain": [
       "HBox(children=(FloatProgress(value=0.0, description='Training', layout=Layout(flex='2'), max=1250.0, style=Pro…"
      ]
     },
     "metadata": {},
     "output_type": "display_data"
    },
    {
     "name": "stdout",
     "output_type": "stream",
     "text": [
      "Epoch 20: train=26.4851, val=22.8685, took 37.967 s\n",
      "  Validation Found 31961 of 54504, added 380 (eff 58.64%) (0.0381 FP/event)\n"
     ]
    },
    {
     "data": {
      "application/vnd.jupyter.widget-view+json": {
       "model_id": "",
       "version_major": 2,
       "version_minor": 0
      },
      "text/plain": [
       "HBox(children=(FloatProgress(value=0.0, description='Training', layout=Layout(flex='2'), max=1250.0, style=Pro…"
      ]
     },
     "metadata": {},
     "output_type": "display_data"
    },
    {
     "name": "stdout",
     "output_type": "stream",
     "text": [
      "Epoch 21: train=21.3461, val=21.3985, took 38.158 s\n",
      "  Validation Found 34317 of 54504, added 501 (eff 62.96%) (0.0502 FP/event)\n"
     ]
    },
    {
     "data": {
      "application/vnd.jupyter.widget-view+json": {
       "model_id": "",
       "version_major": 2,
       "version_minor": 0
      },
      "text/plain": [
       "HBox(children=(FloatProgress(value=0.0, description='Training', layout=Layout(flex='2'), max=1250.0, style=Pro…"
      ]
     },
     "metadata": {},
     "output_type": "display_data"
    },
    {
     "name": "stdout",
     "output_type": "stream",
     "text": [
      "Epoch 22: train=20.2636, val=20.4058, took 36.99 s\n",
      "  Validation Found 35284 of 54504, added 489 (eff 64.74%) (0.049 FP/event)\n"
     ]
    },
    {
     "data": {
      "application/vnd.jupyter.widget-view+json": {
       "model_id": "",
       "version_major": 2,
       "version_minor": 0
      },
      "text/plain": [
       "HBox(children=(FloatProgress(value=0.0, description='Training', layout=Layout(flex='2'), max=1250.0, style=Pro…"
      ]
     },
     "metadata": {},
     "output_type": "display_data"
    },
    {
     "name": "stdout",
     "output_type": "stream",
     "text": [
      "Epoch 23: train=19.3557, val=19.4099, took 37.022 s\n",
      "  Validation Found 37312 of 54504, added 687 (eff 68.46%) (0.0688 FP/event)\n"
     ]
    },
    {
     "data": {
      "application/vnd.jupyter.widget-view+json": {
       "model_id": "",
       "version_major": 2,
       "version_minor": 0
      },
      "text/plain": [
       "HBox(children=(FloatProgress(value=0.0, description='Training', layout=Layout(flex='2'), max=1250.0, style=Pro…"
      ]
     },
     "metadata": {},
     "output_type": "display_data"
    },
    {
     "name": "stdout",
     "output_type": "stream",
     "text": [
      "Epoch 24: train=18.7185, val=18.8028, took 36.647 s\n",
      "  Validation Found 37804 of 54504, added 702 (eff 69.36%) (0.0703 FP/event)\n"
     ]
    },
    {
     "data": {
      "application/vnd.jupyter.widget-view+json": {
       "model_id": "",
       "version_major": 2,
       "version_minor": 0
      },
      "text/plain": [
       "HBox(children=(FloatProgress(value=0.0, description='Training', layout=Layout(flex='2'), max=1250.0, style=Pro…"
      ]
     },
     "metadata": {},
     "output_type": "display_data"
    },
    {
     "name": "stdout",
     "output_type": "stream",
     "text": [
      "Epoch 25: train=18.1722, val=18.2286, took 37.353 s\n",
      "  Validation Found 38322 of 54504, added 742 (eff 70.31%) (0.0743 FP/event)\n"
     ]
    },
    {
     "data": {
      "application/vnd.jupyter.widget-view+json": {
       "model_id": "",
       "version_major": 2,
       "version_minor": 0
      },
      "text/plain": [
       "HBox(children=(FloatProgress(value=0.0, description='Training', layout=Layout(flex='2'), max=1250.0, style=Pro…"
      ]
     },
     "metadata": {},
     "output_type": "display_data"
    },
    {
     "name": "stdout",
     "output_type": "stream",
     "text": [
      "Epoch 26: train=17.6931, val=17.6345, took 37.866 s\n",
      "  Validation Found 39531 of 54504, added 920 (eff 72.53%) (0.0921 FP/event)\n"
     ]
    },
    {
     "data": {
      "application/vnd.jupyter.widget-view+json": {
       "model_id": "",
       "version_major": 2,
       "version_minor": 0
      },
      "text/plain": [
       "HBox(children=(FloatProgress(value=0.0, description='Training', layout=Layout(flex='2'), max=1250.0, style=Pro…"
      ]
     },
     "metadata": {},
     "output_type": "display_data"
    },
    {
     "name": "stdout",
     "output_type": "stream",
     "text": [
      "Epoch 27: train=16.7142, val=16.1559, took 38.141 s\n",
      "  Validation Found 41451 of 54504, added 1141 (eff 76.05%) (0.114 FP/event)\n"
     ]
    },
    {
     "data": {
      "application/vnd.jupyter.widget-view+json": {
       "model_id": "",
       "version_major": 2,
       "version_minor": 0
      },
      "text/plain": [
       "HBox(children=(FloatProgress(value=0.0, description='Training', layout=Layout(flex='2'), max=1250.0, style=Pro…"
      ]
     },
     "metadata": {},
     "output_type": "display_data"
    },
    {
     "name": "stdout",
     "output_type": "stream",
     "text": [
      "Epoch 28: train=15.5609, val=15.2628, took 37.868 s\n",
      "  Validation Found 42661 of 54504, added 895 (eff 78.27%) (0.0896 FP/event)\n"
     ]
    },
    {
     "data": {
      "application/vnd.jupyter.widget-view+json": {
       "model_id": "",
       "version_major": 2,
       "version_minor": 0
      },
      "text/plain": [
       "HBox(children=(FloatProgress(value=0.0, description='Training', layout=Layout(flex='2'), max=1250.0, style=Pro…"
      ]
     },
     "metadata": {},
     "output_type": "display_data"
    },
    {
     "name": "stdout",
     "output_type": "stream",
     "text": [
      "Epoch 29: train=14.5305, val=14.0038, took 35.651 s\n",
      "  Validation Found 44487 of 54504, added 1051 (eff 81.62%) (0.105 FP/event)\n"
     ]
    },
    {
     "data": {
      "application/vnd.jupyter.widget-view+json": {
       "model_id": "",
       "version_major": 2,
       "version_minor": 0
      },
      "text/plain": [
       "HBox(children=(FloatProgress(value=0.0, description='Training', layout=Layout(flex='2'), max=1250.0, style=Pro…"
      ]
     },
     "metadata": {},
     "output_type": "display_data"
    },
    {
     "name": "stdout",
     "output_type": "stream",
     "text": [
      "Epoch 30: train=13.6818, val=13.2213, took 30.771 s\n",
      "  Validation Found 45500 of 54504, added 986 (eff 83.48%) (0.0987 FP/event)\n"
     ]
    },
    {
     "data": {
      "application/vnd.jupyter.widget-view+json": {
       "model_id": "",
       "version_major": 2,
       "version_minor": 0
      },
      "text/plain": [
       "HBox(children=(FloatProgress(value=0.0, description='Training', layout=Layout(flex='2'), max=1250.0, style=Pro…"
      ]
     },
     "metadata": {},
     "output_type": "display_data"
    },
    {
     "name": "stdout",
     "output_type": "stream",
     "text": [
      "Epoch 31: train=13.0471, val=12.7372, took 31.57 s\n",
      "  Validation Found 46480 of 54504, added 1160 (eff 85.28%) (0.116 FP/event)\n"
     ]
    },
    {
     "data": {
      "application/vnd.jupyter.widget-view+json": {
       "model_id": "",
       "version_major": 2,
       "version_minor": 0
      },
      "text/plain": [
       "HBox(children=(FloatProgress(value=0.0, description='Training', layout=Layout(flex='2'), max=1250.0, style=Pro…"
      ]
     },
     "metadata": {},
     "output_type": "display_data"
    },
    {
     "name": "stdout",
     "output_type": "stream",
     "text": [
      "Epoch 32: train=12.6274, val=12.5403, took 31.935 s\n",
      "  Validation Found 46623 of 54504, added 1105 (eff 85.54%) (0.111 FP/event)\n"
     ]
    },
    {
     "data": {
      "application/vnd.jupyter.widget-view+json": {
       "model_id": "",
       "version_major": 2,
       "version_minor": 0
      },
      "text/plain": [
       "HBox(children=(FloatProgress(value=0.0, description='Training', layout=Layout(flex='2'), max=1250.0, style=Pro…"
      ]
     },
     "metadata": {},
     "output_type": "display_data"
    },
    {
     "name": "stdout",
     "output_type": "stream",
     "text": [
      "Epoch 33: train=12.3342, val=12.2292, took 31.712 s\n",
      "  Validation Found 47196 of 54504, added 1167 (eff 86.59%) (0.117 FP/event)\n"
     ]
    },
    {
     "data": {
      "application/vnd.jupyter.widget-view+json": {
       "model_id": "",
       "version_major": 2,
       "version_minor": 0
      },
      "text/plain": [
       "HBox(children=(FloatProgress(value=0.0, description='Training', layout=Layout(flex='2'), max=1250.0, style=Pro…"
      ]
     },
     "metadata": {},
     "output_type": "display_data"
    },
    {
     "name": "stdout",
     "output_type": "stream",
     "text": [
      "Epoch 34: train=12.1154, val=11.9701, took 31.502 s\n",
      "  Validation Found 47626 of 54504, added 1216 (eff 87.38%) (0.122 FP/event)\n"
     ]
    },
    {
     "data": {
      "application/vnd.jupyter.widget-view+json": {
       "model_id": "",
       "version_major": 2,
       "version_minor": 0
      },
      "text/plain": [
       "HBox(children=(FloatProgress(value=0.0, description='Training', layout=Layout(flex='2'), max=1250.0, style=Pro…"
      ]
     },
     "metadata": {},
     "output_type": "display_data"
    },
    {
     "name": "stdout",
     "output_type": "stream",
     "text": [
      "Epoch 35: train=11.9419, val=11.8454, took 31.262 s\n",
      "  Validation Found 47588 of 54504, added 1135 (eff 87.31%) (0.114 FP/event)\n"
     ]
    },
    {
     "data": {
      "application/vnd.jupyter.widget-view+json": {
       "model_id": "",
       "version_major": 2,
       "version_minor": 0
      },
      "text/plain": [
       "HBox(children=(FloatProgress(value=0.0, description='Training', layout=Layout(flex='2'), max=1250.0, style=Pro…"
      ]
     },
     "metadata": {},
     "output_type": "display_data"
    },
    {
     "name": "stdout",
     "output_type": "stream",
     "text": [
      "Epoch 36: train=11.7995, val=11.8745, took 30.756 s\n",
      "  Validation Found 47641 of 54504, added 1144 (eff 87.41%) (0.115 FP/event)\n"
     ]
    },
    {
     "data": {
      "application/vnd.jupyter.widget-view+json": {
       "model_id": "",
       "version_major": 2,
       "version_minor": 0
      },
      "text/plain": [
       "HBox(children=(FloatProgress(value=0.0, description='Training', layout=Layout(flex='2'), max=1250.0, style=Pro…"
      ]
     },
     "metadata": {},
     "output_type": "display_data"
    },
    {
     "name": "stdout",
     "output_type": "stream",
     "text": [
      "Epoch 37: train=11.7012, val=11.6849, took 31.747 s\n",
      "  Validation Found 47753 of 54504, added 1132 (eff 87.61%) (0.113 FP/event)\n"
     ]
    },
    {
     "data": {
      "application/vnd.jupyter.widget-view+json": {
       "model_id": "",
       "version_major": 2,
       "version_minor": 0
      },
      "text/plain": [
       "HBox(children=(FloatProgress(value=0.0, description='Training', layout=Layout(flex='2'), max=1250.0, style=Pro…"
      ]
     },
     "metadata": {},
     "output_type": "display_data"
    },
    {
     "name": "stdout",
     "output_type": "stream",
     "text": [
      "Epoch 38: train=11.5969, val=11.6705, took 30.955 s\n",
      "  Validation Found 47527 of 54504, added 1068 (eff 87.20%) (0.107 FP/event)\n"
     ]
    },
    {
     "data": {
      "application/vnd.jupyter.widget-view+json": {
       "model_id": "",
       "version_major": 2,
       "version_minor": 0
      },
      "text/plain": [
       "HBox(children=(FloatProgress(value=0.0, description='Training', layout=Layout(flex='2'), max=1250.0, style=Pro…"
      ]
     },
     "metadata": {},
     "output_type": "display_data"
    },
    {
     "name": "stdout",
     "output_type": "stream",
     "text": [
      "Epoch 39: train=11.5119, val=11.6823, took 31.717 s\n",
      "  Validation Found 47639 of 54504, added 1105 (eff 87.40%) (0.111 FP/event)\n"
     ]
    },
    {
     "data": {
      "application/vnd.jupyter.widget-view+json": {
       "model_id": "",
       "version_major": 2,
       "version_minor": 0
      },
      "text/plain": [
       "HBox(children=(FloatProgress(value=0.0, description='Training', layout=Layout(flex='2'), max=1250.0, style=Pro…"
      ]
     },
     "metadata": {},
     "output_type": "display_data"
    },
    {
     "name": "stdout",
     "output_type": "stream",
     "text": [
      "Epoch 40: train=11.4274, val=11.5944, took 31.432 s\n",
      "  Validation Found 47730 of 54504, added 1183 (eff 87.57%) (0.118 FP/event)\n"
     ]
    },
    {
     "data": {
      "application/vnd.jupyter.widget-view+json": {
       "model_id": "",
       "version_major": 2,
       "version_minor": 0
      },
      "text/plain": [
       "HBox(children=(FloatProgress(value=0.0, description='Training', layout=Layout(flex='2'), max=1250.0, style=Pro…"
      ]
     },
     "metadata": {},
     "output_type": "display_data"
    },
    {
     "name": "stdout",
     "output_type": "stream",
     "text": [
      "Epoch 41: train=11.3524, val=11.824, took 31.329 s\n",
      "  Validation Found 47388 of 54504, added 1069 (eff 86.94%) (0.107 FP/event)\n"
     ]
    },
    {
     "data": {
      "application/vnd.jupyter.widget-view+json": {
       "model_id": "",
       "version_major": 2,
       "version_minor": 0
      },
      "text/plain": [
       "HBox(children=(FloatProgress(value=0.0, description='Training', layout=Layout(flex='2'), max=1250.0, style=Pro…"
      ]
     },
     "metadata": {},
     "output_type": "display_data"
    },
    {
     "name": "stdout",
     "output_type": "stream",
     "text": [
      "Epoch 42: train=11.2828, val=11.4796, took 31.007 s\n",
      "  Validation Found 47663 of 54504, added 1058 (eff 87.45%) (0.106 FP/event)\n"
     ]
    },
    {
     "data": {
      "application/vnd.jupyter.widget-view+json": {
       "model_id": "",
       "version_major": 2,
       "version_minor": 0
      },
      "text/plain": [
       "HBox(children=(FloatProgress(value=0.0, description='Training', layout=Layout(flex='2'), max=1250.0, style=Pro…"
      ]
     },
     "metadata": {},
     "output_type": "display_data"
    },
    {
     "name": "stdout",
     "output_type": "stream",
     "text": [
      "Epoch 43: train=11.216, val=11.5383, took 30.965 s\n",
      "  Validation Found 47627 of 54504, added 1003 (eff 87.38%) (0.1 FP/event)\n"
     ]
    },
    {
     "data": {
      "application/vnd.jupyter.widget-view+json": {
       "model_id": "",
       "version_major": 2,
       "version_minor": 0
      },
      "text/plain": [
       "HBox(children=(FloatProgress(value=0.0, description='Training', layout=Layout(flex='2'), max=1250.0, style=Pro…"
      ]
     },
     "metadata": {},
     "output_type": "display_data"
    },
    {
     "name": "stdout",
     "output_type": "stream",
     "text": [
      "Epoch 44: train=11.1503, val=11.5221, took 31.44 s\n",
      "  Validation Found 47722 of 54504, added 1081 (eff 87.56%) (0.108 FP/event)\n"
     ]
    },
    {
     "data": {
      "application/vnd.jupyter.widget-view+json": {
       "model_id": "",
       "version_major": 2,
       "version_minor": 0
      },
      "text/plain": [
       "HBox(children=(FloatProgress(value=0.0, description='Training', layout=Layout(flex='2'), max=1250.0, style=Pro…"
      ]
     },
     "metadata": {},
     "output_type": "display_data"
    },
    {
     "name": "stdout",
     "output_type": "stream",
     "text": [
      "Epoch 45: train=11.1052, val=11.4426, took 31.046 s\n",
      "  Validation Found 47831 of 54504, added 1068 (eff 87.76%) (0.107 FP/event)\n"
     ]
    },
    {
     "data": {
      "application/vnd.jupyter.widget-view+json": {
       "model_id": "",
       "version_major": 2,
       "version_minor": 0
      },
      "text/plain": [
       "HBox(children=(FloatProgress(value=0.0, description='Training', layout=Layout(flex='2'), max=1250.0, style=Pro…"
      ]
     },
     "metadata": {},
     "output_type": "display_data"
    },
    {
     "name": "stdout",
     "output_type": "stream",
     "text": [
      "Epoch 46: train=11.0377, val=11.3195, took 31.248 s\n",
      "  Validation Found 48103 of 54504, added 1174 (eff 88.26%) (0.118 FP/event)\n"
     ]
    },
    {
     "data": {
      "application/vnd.jupyter.widget-view+json": {
       "model_id": "",
       "version_major": 2,
       "version_minor": 0
      },
      "text/plain": [
       "HBox(children=(FloatProgress(value=0.0, description='Training', layout=Layout(flex='2'), max=1250.0, style=Pro…"
      ]
     },
     "metadata": {},
     "output_type": "display_data"
    },
    {
     "name": "stdout",
     "output_type": "stream",
     "text": [
      "Epoch 47: train=10.9987, val=11.532, took 31.362 s\n",
      "  Validation Found 47385 of 54504, added 975 (eff 86.94%) (0.0976 FP/event)\n"
     ]
    },
    {
     "data": {
      "application/vnd.jupyter.widget-view+json": {
       "model_id": "",
       "version_major": 2,
       "version_minor": 0
      },
      "text/plain": [
       "HBox(children=(FloatProgress(value=0.0, description='Training', layout=Layout(flex='2'), max=1250.0, style=Pro…"
      ]
     },
     "metadata": {},
     "output_type": "display_data"
    },
    {
     "name": "stdout",
     "output_type": "stream",
     "text": [
      "Epoch 48: train=10.9598, val=11.1885, took 30.993 s\n",
      "  Validation Found 48258 of 54504, added 1268 (eff 88.54%) (0.127 FP/event)\n"
     ]
    },
    {
     "data": {
      "application/vnd.jupyter.widget-view+json": {
       "model_id": "",
       "version_major": 2,
       "version_minor": 0
      },
      "text/plain": [
       "HBox(children=(FloatProgress(value=0.0, description='Training', layout=Layout(flex='2'), max=1250.0, style=Pro…"
      ]
     },
     "metadata": {},
     "output_type": "display_data"
    },
    {
     "name": "stdout",
     "output_type": "stream",
     "text": [
      "Epoch 49: train=10.9131, val=11.3429, took 30.881 s\n",
      "  Validation Found 47611 of 54504, added 983 (eff 87.35%) (0.0984 FP/event)\n"
     ]
    },
    {
     "data": {
      "application/vnd.jupyter.widget-view+json": {
       "model_id": "",
       "version_major": 2,
       "version_minor": 0
      },
      "text/plain": [
       "HBox(children=(FloatProgress(value=0.0, description='Training', layout=Layout(flex='2'), max=1250.0, style=Pro…"
      ]
     },
     "metadata": {},
     "output_type": "display_data"
    },
    {
     "name": "stdout",
     "output_type": "stream",
     "text": [
      "Epoch 50: train=10.8889, val=11.3263, took 30.779 s\n",
      "  Validation Found 47473 of 54504, added 877 (eff 87.10%) (0.0878 FP/event)\n"
     ]
    },
    {
     "data": {
      "application/vnd.jupyter.widget-view+json": {
       "model_id": "",
       "version_major": 2,
       "version_minor": 0
      },
      "text/plain": [
       "HBox(children=(FloatProgress(value=0.0, description='Training', layout=Layout(flex='2'), max=1250.0, style=Pro…"
      ]
     },
     "metadata": {},
     "output_type": "display_data"
    },
    {
     "name": "stdout",
     "output_type": "stream",
     "text": [
      "Epoch 51: train=10.8571, val=11.2099, took 30.992 s\n",
      "  Validation Found 48006 of 54504, added 1079 (eff 88.08%) (0.108 FP/event)\n"
     ]
    },
    {
     "data": {
      "application/vnd.jupyter.widget-view+json": {
       "model_id": "",
       "version_major": 2,
       "version_minor": 0
      },
      "text/plain": [
       "HBox(children=(FloatProgress(value=0.0, description='Training', layout=Layout(flex='2'), max=1250.0, style=Pro…"
      ]
     },
     "metadata": {},
     "output_type": "display_data"
    },
    {
     "name": "stdout",
     "output_type": "stream",
     "text": [
      "Epoch 52: train=10.8216, val=11.1545, took 31.184 s\n",
      "  Validation Found 48195 of 54504, added 1299 (eff 88.42%) (0.13 FP/event)\n"
     ]
    },
    {
     "data": {
      "application/vnd.jupyter.widget-view+json": {
       "model_id": "",
       "version_major": 2,
       "version_minor": 0
      },
      "text/plain": [
       "HBox(children=(FloatProgress(value=0.0, description='Training', layout=Layout(flex='2'), max=1250.0, style=Pro…"
      ]
     },
     "metadata": {},
     "output_type": "display_data"
    },
    {
     "name": "stdout",
     "output_type": "stream",
     "text": [
      "Epoch 53: train=10.7978, val=11.3088, took 30.79 s\n",
      "  Validation Found 47805 of 54504, added 1133 (eff 87.71%) (0.113 FP/event)\n"
     ]
    },
    {
     "data": {
      "application/vnd.jupyter.widget-view+json": {
       "model_id": "",
       "version_major": 2,
       "version_minor": 0
      },
      "text/plain": [
       "HBox(children=(FloatProgress(value=0.0, description='Training', layout=Layout(flex='2'), max=1250.0, style=Pro…"
      ]
     },
     "metadata": {},
     "output_type": "display_data"
    },
    {
     "name": "stdout",
     "output_type": "stream",
     "text": [
      "Epoch 54: train=10.7589, val=11.0808, took 30.961 s\n",
      "  Validation Found 48293 of 54504, added 1177 (eff 88.60%) (0.118 FP/event)\n"
     ]
    },
    {
     "data": {
      "application/vnd.jupyter.widget-view+json": {
       "model_id": "",
       "version_major": 2,
       "version_minor": 0
      },
      "text/plain": [
       "HBox(children=(FloatProgress(value=0.0, description='Training', layout=Layout(flex='2'), max=1250.0, style=Pro…"
      ]
     },
     "metadata": {},
     "output_type": "display_data"
    },
    {
     "name": "stdout",
     "output_type": "stream",
     "text": [
      "Epoch 55: train=10.7262, val=11.3666, took 31.148 s\n",
      "  Validation Found 47639 of 54504, added 1048 (eff 87.40%) (0.105 FP/event)\n"
     ]
    },
    {
     "data": {
      "application/vnd.jupyter.widget-view+json": {
       "model_id": "",
       "version_major": 2,
       "version_minor": 0
      },
      "text/plain": [
       "HBox(children=(FloatProgress(value=0.0, description='Training', layout=Layout(flex='2'), max=1250.0, style=Pro…"
      ]
     },
     "metadata": {},
     "output_type": "display_data"
    },
    {
     "name": "stdout",
     "output_type": "stream",
     "text": [
      "Epoch 56: train=10.6978, val=11.5395, took 31.006 s\n",
      "  Validation Found 47279 of 54504, added 739 (eff 86.74%) (0.074 FP/event)\n"
     ]
    },
    {
     "data": {
      "application/vnd.jupyter.widget-view+json": {
       "model_id": "",
       "version_major": 2,
       "version_minor": 0
      },
      "text/plain": [
       "HBox(children=(FloatProgress(value=0.0, description='Training', layout=Layout(flex='2'), max=1250.0, style=Pro…"
      ]
     },
     "metadata": {},
     "output_type": "display_data"
    },
    {
     "name": "stdout",
     "output_type": "stream",
     "text": [
      "Epoch 57: train=10.6683, val=11.049, took 30.727 s\n",
      "  Validation Found 48344 of 54504, added 1227 (eff 88.70%) (0.123 FP/event)\n"
     ]
    },
    {
     "data": {
      "application/vnd.jupyter.widget-view+json": {
       "model_id": "",
       "version_major": 2,
       "version_minor": 0
      },
      "text/plain": [
       "HBox(children=(FloatProgress(value=0.0, description='Training', layout=Layout(flex='2'), max=1250.0, style=Pro…"
      ]
     },
     "metadata": {},
     "output_type": "display_data"
    },
    {
     "name": "stdout",
     "output_type": "stream",
     "text": [
      "Epoch 58: train=10.6332, val=10.8988, took 31.105 s\n",
      "  Validation Found 48319 of 54504, added 1175 (eff 88.65%) (0.118 FP/event)\n"
     ]
    },
    {
     "data": {
      "application/vnd.jupyter.widget-view+json": {
       "model_id": "",
       "version_major": 2,
       "version_minor": 0
      },
      "text/plain": [
       "HBox(children=(FloatProgress(value=0.0, description='Training', layout=Layout(flex='2'), max=1250.0, style=Pro…"
      ]
     },
     "metadata": {},
     "output_type": "display_data"
    },
    {
     "name": "stdout",
     "output_type": "stream",
     "text": [
      "Epoch 59: train=10.6126, val=11.1743, took 31.237 s\n",
      "  Validation Found 47852 of 54504, added 931 (eff 87.80%) (0.0932 FP/event)\n"
     ]
    },
    {
     "data": {
      "application/vnd.jupyter.widget-view+json": {
       "model_id": "",
       "version_major": 2,
       "version_minor": 0
      },
      "text/plain": [
       "HBox(children=(FloatProgress(value=0.0, description='Training', layout=Layout(flex='2'), max=1250.0, style=Pro…"
      ]
     },
     "metadata": {},
     "output_type": "display_data"
    },
    {
     "name": "stdout",
     "output_type": "stream",
     "text": [
      "Epoch 60: train=10.5833, val=11.2201, took 30.908 s\n",
      "  Validation Found 47630 of 54504, added 873 (eff 87.39%) (0.0874 FP/event)\n"
     ]
    },
    {
     "data": {
      "application/vnd.jupyter.widget-view+json": {
       "model_id": "",
       "version_major": 2,
       "version_minor": 0
      },
      "text/plain": [
       "HBox(children=(FloatProgress(value=0.0, description='Training', layout=Layout(flex='2'), max=1250.0, style=Pro…"
      ]
     },
     "metadata": {},
     "output_type": "display_data"
    },
    {
     "name": "stdout",
     "output_type": "stream",
     "text": [
      "Epoch 61: train=10.5623, val=10.9803, took 31.083 s\n",
      "  Validation Found 48482 of 54504, added 1180 (eff 88.95%) (0.118 FP/event)\n"
     ]
    },
    {
     "data": {
      "application/vnd.jupyter.widget-view+json": {
       "model_id": "",
       "version_major": 2,
       "version_minor": 0
      },
      "text/plain": [
       "HBox(children=(FloatProgress(value=0.0, description='Training', layout=Layout(flex='2'), max=1250.0, style=Pro…"
      ]
     },
     "metadata": {},
     "output_type": "display_data"
    },
    {
     "name": "stdout",
     "output_type": "stream",
     "text": [
      "Epoch 62: train=10.5402, val=11.1049, took 30.805 s\n",
      "  Validation Found 47746 of 54504, added 871 (eff 87.60%) (0.0872 FP/event)\n"
     ]
    },
    {
     "data": {
      "application/vnd.jupyter.widget-view+json": {
       "model_id": "",
       "version_major": 2,
       "version_minor": 0
      },
      "text/plain": [
       "HBox(children=(FloatProgress(value=0.0, description='Training', layout=Layout(flex='2'), max=1250.0, style=Pro…"
      ]
     },
     "metadata": {},
     "output_type": "display_data"
    },
    {
     "name": "stdout",
     "output_type": "stream",
     "text": [
      "Epoch 63: train=10.5202, val=10.8846, took 30.83 s\n",
      "  Validation Found 48357 of 54504, added 1177 (eff 88.72%) (0.118 FP/event)\n"
     ]
    },
    {
     "data": {
      "application/vnd.jupyter.widget-view+json": {
       "model_id": "",
       "version_major": 2,
       "version_minor": 0
      },
      "text/plain": [
       "HBox(children=(FloatProgress(value=0.0, description='Training', layout=Layout(flex='2'), max=1250.0, style=Pro…"
      ]
     },
     "metadata": {},
     "output_type": "display_data"
    },
    {
     "name": "stdout",
     "output_type": "stream",
     "text": [
      "Epoch 64: train=10.5021, val=10.9628, took 31.432 s\n",
      "  Validation Found 48041 of 54504, added 1004 (eff 88.14%) (0.101 FP/event)\n"
     ]
    },
    {
     "data": {
      "application/vnd.jupyter.widget-view+json": {
       "model_id": "",
       "version_major": 2,
       "version_minor": 0
      },
      "text/plain": [
       "HBox(children=(FloatProgress(value=0.0, description='Training', layout=Layout(flex='2'), max=1250.0, style=Pro…"
      ]
     },
     "metadata": {},
     "output_type": "display_data"
    },
    {
     "name": "stdout",
     "output_type": "stream",
     "text": [
      "Epoch 65: train=10.4791, val=10.8127, took 30.976 s\n",
      "  Validation Found 48393 of 54504, added 1154 (eff 88.79%) (0.116 FP/event)\n"
     ]
    },
    {
     "data": {
      "application/vnd.jupyter.widget-view+json": {
       "model_id": "",
       "version_major": 2,
       "version_minor": 0
      },
      "text/plain": [
       "HBox(children=(FloatProgress(value=0.0, description='Training', layout=Layout(flex='2'), max=1250.0, style=Pro…"
      ]
     },
     "metadata": {},
     "output_type": "display_data"
    },
    {
     "name": "stdout",
     "output_type": "stream",
     "text": [
      "Epoch 66: train=10.4587, val=10.8467, took 30.905 s\n",
      "  Validation Found 48235 of 54504, added 995 (eff 88.50%) (0.0996 FP/event)\n"
     ]
    },
    {
     "data": {
      "application/vnd.jupyter.widget-view+json": {
       "model_id": "",
       "version_major": 2,
       "version_minor": 0
      },
      "text/plain": [
       "HBox(children=(FloatProgress(value=0.0, description='Training', layout=Layout(flex='2'), max=1250.0, style=Pro…"
      ]
     },
     "metadata": {},
     "output_type": "display_data"
    },
    {
     "name": "stdout",
     "output_type": "stream",
     "text": [
      "Epoch 67: train=10.4388, val=10.9016, took 30.774 s\n",
      "  Validation Found 48063 of 54504, added 948 (eff 88.18%) (0.0949 FP/event)\n"
     ]
    },
    {
     "data": {
      "application/vnd.jupyter.widget-view+json": {
       "model_id": "",
       "version_major": 2,
       "version_minor": 0
      },
      "text/plain": [
       "HBox(children=(FloatProgress(value=0.0, description='Training', layout=Layout(flex='2'), max=1250.0, style=Pro…"
      ]
     },
     "metadata": {},
     "output_type": "display_data"
    },
    {
     "name": "stdout",
     "output_type": "stream",
     "text": [
      "Epoch 68: train=10.4223, val=10.8485, took 31.149 s\n",
      "  Validation Found 48289 of 54504, added 1020 (eff 88.60%) (0.102 FP/event)\n"
     ]
    },
    {
     "data": {
      "application/vnd.jupyter.widget-view+json": {
       "model_id": "",
       "version_major": 2,
       "version_minor": 0
      },
      "text/plain": [
       "HBox(children=(FloatProgress(value=0.0, description='Training', layout=Layout(flex='2'), max=1250.0, style=Pro…"
      ]
     },
     "metadata": {},
     "output_type": "display_data"
    },
    {
     "name": "stdout",
     "output_type": "stream",
     "text": [
      "Epoch 69: train=10.405, val=10.864, took 30.788 s\n",
      "  Validation Found 48092 of 54504, added 947 (eff 88.24%) (0.0948 FP/event)\n"
     ]
    },
    {
     "data": {
      "application/vnd.jupyter.widget-view+json": {
       "model_id": "",
       "version_major": 2,
       "version_minor": 0
      },
      "text/plain": [
       "HBox(children=(FloatProgress(value=0.0, description='Training', layout=Layout(flex='2'), max=1250.0, style=Pro…"
      ]
     },
     "metadata": {},
     "output_type": "display_data"
    },
    {
     "name": "stdout",
     "output_type": "stream",
     "text": [
      "Epoch 70: train=10.3898, val=10.7854, took 30.641 s\n",
      "  Validation Found 48277 of 54504, added 1094 (eff 88.58%) (0.11 FP/event)\n"
     ]
    },
    {
     "data": {
      "application/vnd.jupyter.widget-view+json": {
       "model_id": "",
       "version_major": 2,
       "version_minor": 0
      },
      "text/plain": [
       "HBox(children=(FloatProgress(value=0.0, description='Training', layout=Layout(flex='2'), max=1250.0, style=Pro…"
      ]
     },
     "metadata": {},
     "output_type": "display_data"
    },
    {
     "name": "stdout",
     "output_type": "stream",
     "text": [
      "Epoch 71: train=10.3752, val=11.0193, took 30.766 s\n",
      "  Validation Found 47773 of 54504, added 821 (eff 87.65%) (0.0822 FP/event)\n"
     ]
    },
    {
     "data": {
      "application/vnd.jupyter.widget-view+json": {
       "model_id": "",
       "version_major": 2,
       "version_minor": 0
      },
      "text/plain": [
       "HBox(children=(FloatProgress(value=0.0, description='Training', layout=Layout(flex='2'), max=1250.0, style=Pro…"
      ]
     },
     "metadata": {},
     "output_type": "display_data"
    },
    {
     "name": "stdout",
     "output_type": "stream",
     "text": [
      "Epoch 72: train=10.3492, val=10.7978, took 30.695 s\n",
      "  Validation Found 48288 of 54504, added 965 (eff 88.60%) (0.0966 FP/event)\n"
     ]
    },
    {
     "data": {
      "application/vnd.jupyter.widget-view+json": {
       "model_id": "",
       "version_major": 2,
       "version_minor": 0
      },
      "text/plain": [
       "HBox(children=(FloatProgress(value=0.0, description='Training', layout=Layout(flex='2'), max=1250.0, style=Pro…"
      ]
     },
     "metadata": {},
     "output_type": "display_data"
    },
    {
     "name": "stdout",
     "output_type": "stream",
     "text": [
      "Epoch 73: train=10.3402, val=10.8592, took 30.726 s\n",
      "  Validation Found 48201 of 54504, added 1063 (eff 88.44%) (0.106 FP/event)\n"
     ]
    },
    {
     "data": {
      "application/vnd.jupyter.widget-view+json": {
       "model_id": "",
       "version_major": 2,
       "version_minor": 0
      },
      "text/plain": [
       "HBox(children=(FloatProgress(value=0.0, description='Training', layout=Layout(flex='2'), max=1250.0, style=Pro…"
      ]
     },
     "metadata": {},
     "output_type": "display_data"
    },
    {
     "name": "stdout",
     "output_type": "stream",
     "text": [
      "Epoch 74: train=10.3328, val=11.0269, took 30.873 s\n",
      "  Validation Found 47705 of 54504, added 759 (eff 87.53%) (0.076 FP/event)\n"
     ]
    },
    {
     "data": {
      "application/vnd.jupyter.widget-view+json": {
       "model_id": "",
       "version_major": 2,
       "version_minor": 0
      },
      "text/plain": [
       "HBox(children=(FloatProgress(value=0.0, description='Training', layout=Layout(flex='2'), max=1250.0, style=Pro…"
      ]
     },
     "metadata": {},
     "output_type": "display_data"
    },
    {
     "name": "stdout",
     "output_type": "stream",
     "text": [
      "Epoch 75: train=10.3226, val=10.78, took 30.722 s\n",
      "  Validation Found 48404 of 54504, added 1100 (eff 88.81%) (0.11 FP/event)\n"
     ]
    },
    {
     "data": {
      "application/vnd.jupyter.widget-view+json": {
       "model_id": "",
       "version_major": 2,
       "version_minor": 0
      },
      "text/plain": [
       "HBox(children=(FloatProgress(value=0.0, description='Training', layout=Layout(flex='2'), max=1250.0, style=Pro…"
      ]
     },
     "metadata": {},
     "output_type": "display_data"
    },
    {
     "name": "stdout",
     "output_type": "stream",
     "text": [
      "Epoch 76: train=10.3211, val=10.7069, took 30.735 s\n",
      "  Validation Found 48538 of 54504, added 1207 (eff 89.05%) (0.121 FP/event)\n"
     ]
    },
    {
     "data": {
      "application/vnd.jupyter.widget-view+json": {
       "model_id": "",
       "version_major": 2,
       "version_minor": 0
      },
      "text/plain": [
       "HBox(children=(FloatProgress(value=0.0, description='Training', layout=Layout(flex='2'), max=1250.0, style=Pro…"
      ]
     },
     "metadata": {},
     "output_type": "display_data"
    },
    {
     "name": "stdout",
     "output_type": "stream",
     "text": [
      "Epoch 77: train=10.3046, val=10.764, took 30.936 s\n",
      "  Validation Found 48482 of 54504, added 1107 (eff 88.95%) (0.111 FP/event)\n"
     ]
    },
    {
     "data": {
      "application/vnd.jupyter.widget-view+json": {
       "model_id": "",
       "version_major": 2,
       "version_minor": 0
      },
      "text/plain": [
       "HBox(children=(FloatProgress(value=0.0, description='Training', layout=Layout(flex='2'), max=1250.0, style=Pro…"
      ]
     },
     "metadata": {},
     "output_type": "display_data"
    },
    {
     "name": "stdout",
     "output_type": "stream",
     "text": [
      "Epoch 78: train=10.2881, val=10.7658, took 30.908 s\n",
      "  Validation Found 48315 of 54504, added 1063 (eff 88.64%) (0.106 FP/event)\n"
     ]
    },
    {
     "data": {
      "application/vnd.jupyter.widget-view+json": {
       "model_id": "",
       "version_major": 2,
       "version_minor": 0
      },
      "text/plain": [
       "HBox(children=(FloatProgress(value=0.0, description='Training', layout=Layout(flex='2'), max=1250.0, style=Pro…"
      ]
     },
     "metadata": {},
     "output_type": "display_data"
    },
    {
     "name": "stdout",
     "output_type": "stream",
     "text": [
      "Epoch 79: train=10.2692, val=10.8467, took 30.801 s\n",
      "  Validation Found 48092 of 54504, added 966 (eff 88.24%) (0.0967 FP/event)\n"
     ]
    },
    {
     "data": {
      "application/vnd.jupyter.widget-view+json": {
       "model_id": "",
       "version_major": 2,
       "version_minor": 0
      },
      "text/plain": [
       "HBox(children=(FloatProgress(value=0.0, description='Training', layout=Layout(flex='2'), max=1250.0, style=Pro…"
      ]
     },
     "metadata": {},
     "output_type": "display_data"
    },
    {
     "name": "stdout",
     "output_type": "stream",
     "text": [
      "Epoch 80: train=10.251, val=10.733, took 30.854 s\n",
      "  Validation Found 48460 of 54504, added 1136 (eff 88.91%) (0.114 FP/event)\n"
     ]
    },
    {
     "data": {
      "application/vnd.jupyter.widget-view+json": {
       "model_id": "",
       "version_major": 2,
       "version_minor": 0
      },
      "text/plain": [
       "HBox(children=(FloatProgress(value=0.0, description='Training', layout=Layout(flex='2'), max=1250.0, style=Pro…"
      ]
     },
     "metadata": {},
     "output_type": "display_data"
    },
    {
     "name": "stdout",
     "output_type": "stream",
     "text": [
      "Epoch 81: train=10.2294, val=10.5681, took 30.705 s\n",
      "  Validation Found 48520 of 54504, added 1049 (eff 89.02%) (0.105 FP/event)\n"
     ]
    },
    {
     "data": {
      "application/vnd.jupyter.widget-view+json": {
       "model_id": "",
       "version_major": 2,
       "version_minor": 0
      },
      "text/plain": [
       "HBox(children=(FloatProgress(value=0.0, description='Training', layout=Layout(flex='2'), max=1250.0, style=Pro…"
      ]
     },
     "metadata": {},
     "output_type": "display_data"
    },
    {
     "name": "stdout",
     "output_type": "stream",
     "text": [
      "Epoch 82: train=10.2217, val=10.648, took 31.201 s\n",
      "  Validation Found 48126 of 54504, added 924 (eff 88.30%) (0.0925 FP/event)\n"
     ]
    },
    {
     "data": {
      "application/vnd.jupyter.widget-view+json": {
       "model_id": "",
       "version_major": 2,
       "version_minor": 0
      },
      "text/plain": [
       "HBox(children=(FloatProgress(value=0.0, description='Training', layout=Layout(flex='2'), max=1250.0, style=Pro…"
      ]
     },
     "metadata": {},
     "output_type": "display_data"
    },
    {
     "name": "stdout",
     "output_type": "stream",
     "text": [
      "Epoch 83: train=10.2009, val=10.5527, took 30.628 s\n",
      "  Validation Found 48604 of 54504, added 1112 (eff 89.18%) (0.111 FP/event)\n"
     ]
    },
    {
     "data": {
      "application/vnd.jupyter.widget-view+json": {
       "model_id": "",
       "version_major": 2,
       "version_minor": 0
      },
      "text/plain": [
       "HBox(children=(FloatProgress(value=0.0, description='Training', layout=Layout(flex='2'), max=1250.0, style=Pro…"
      ]
     },
     "metadata": {},
     "output_type": "display_data"
    },
    {
     "name": "stdout",
     "output_type": "stream",
     "text": [
      "Epoch 84: train=10.1996, val=10.8003, took 30.861 s\n",
      "  Validation Found 48303 of 54504, added 1015 (eff 88.62%) (0.102 FP/event)\n"
     ]
    },
    {
     "data": {
      "application/vnd.jupyter.widget-view+json": {
       "model_id": "",
       "version_major": 2,
       "version_minor": 0
      },
      "text/plain": [
       "HBox(children=(FloatProgress(value=0.0, description='Training', layout=Layout(flex='2'), max=1250.0, style=Pro…"
      ]
     },
     "metadata": {},
     "output_type": "display_data"
    },
    {
     "name": "stdout",
     "output_type": "stream",
     "text": [
      "Epoch 85: train=10.182, val=10.7184, took 30.856 s\n",
      "  Validation Found 48575 of 54504, added 1215 (eff 89.12%) (0.122 FP/event)\n"
     ]
    },
    {
     "data": {
      "application/vnd.jupyter.widget-view+json": {
       "model_id": "",
       "version_major": 2,
       "version_minor": 0
      },
      "text/plain": [
       "HBox(children=(FloatProgress(value=0.0, description='Training', layout=Layout(flex='2'), max=1250.0, style=Pro…"
      ]
     },
     "metadata": {},
     "output_type": "display_data"
    },
    {
     "name": "stdout",
     "output_type": "stream",
     "text": [
      "Epoch 86: train=10.1756, val=10.6055, took 30.879 s\n",
      "  Validation Found 48323 of 54504, added 961 (eff 88.66%) (0.0962 FP/event)\n"
     ]
    },
    {
     "data": {
      "application/vnd.jupyter.widget-view+json": {
       "model_id": "",
       "version_major": 2,
       "version_minor": 0
      },
      "text/plain": [
       "HBox(children=(FloatProgress(value=0.0, description='Training', layout=Layout(flex='2'), max=1250.0, style=Pro…"
      ]
     },
     "metadata": {},
     "output_type": "display_data"
    },
    {
     "name": "stdout",
     "output_type": "stream",
     "text": [
      "Epoch 87: train=10.1673, val=10.8285, took 30.984 s\n",
      "  Validation Found 47930 of 54504, added 818 (eff 87.94%) (0.0819 FP/event)\n"
     ]
    },
    {
     "data": {
      "application/vnd.jupyter.widget-view+json": {
       "model_id": "",
       "version_major": 2,
       "version_minor": 0
      },
      "text/plain": [
       "HBox(children=(FloatProgress(value=0.0, description='Training', layout=Layout(flex='2'), max=1250.0, style=Pro…"
      ]
     },
     "metadata": {},
     "output_type": "display_data"
    },
    {
     "name": "stdout",
     "output_type": "stream",
     "text": [
      "Epoch 88: train=10.1564, val=10.7149, took 30.84 s\n",
      "  Validation Found 48434 of 54504, added 1051 (eff 88.86%) (0.105 FP/event)\n"
     ]
    },
    {
     "data": {
      "application/vnd.jupyter.widget-view+json": {
       "model_id": "",
       "version_major": 2,
       "version_minor": 0
      },
      "text/plain": [
       "HBox(children=(FloatProgress(value=0.0, description='Training', layout=Layout(flex='2'), max=1250.0, style=Pro…"
      ]
     },
     "metadata": {},
     "output_type": "display_data"
    },
    {
     "name": "stdout",
     "output_type": "stream",
     "text": [
      "Epoch 89: train=10.1557, val=10.6211, took 30.948 s\n",
      "  Validation Found 48491 of 54504, added 1062 (eff 88.97%) (0.106 FP/event)\n"
     ]
    },
    {
     "data": {
      "application/vnd.jupyter.widget-view+json": {
       "model_id": "",
       "version_major": 2,
       "version_minor": 0
      },
      "text/plain": [
       "HBox(children=(FloatProgress(value=0.0, description='Training', layout=Layout(flex='2'), max=1250.0, style=Pro…"
      ]
     },
     "metadata": {},
     "output_type": "display_data"
    },
    {
     "name": "stdout",
     "output_type": "stream",
     "text": [
      "Epoch 90: train=10.1447, val=10.5875, took 30.689 s\n",
      "  Validation Found 48825 of 54504, added 1235 (eff 89.58%) (0.124 FP/event)\n"
     ]
    },
    {
     "data": {
      "application/vnd.jupyter.widget-view+json": {
       "model_id": "",
       "version_major": 2,
       "version_minor": 0
      },
      "text/plain": [
       "HBox(children=(FloatProgress(value=0.0, description='Training', layout=Layout(flex='2'), max=1250.0, style=Pro…"
      ]
     },
     "metadata": {},
     "output_type": "display_data"
    },
    {
     "name": "stdout",
     "output_type": "stream",
     "text": [
      "Epoch 91: train=10.1411, val=10.563, took 30.7 s\n",
      "  Validation Found 48380 of 54504, added 1000 (eff 88.76%) (0.1 FP/event)\n"
     ]
    },
    {
     "data": {
      "application/vnd.jupyter.widget-view+json": {
       "model_id": "",
       "version_major": 2,
       "version_minor": 0
      },
      "text/plain": [
       "HBox(children=(FloatProgress(value=0.0, description='Training', layout=Layout(flex='2'), max=1250.0, style=Pro…"
      ]
     },
     "metadata": {},
     "output_type": "display_data"
    },
    {
     "name": "stdout",
     "output_type": "stream",
     "text": [
      "Epoch 92: train=10.1228, val=10.6689, took 30.719 s\n",
      "  Validation Found 48244 of 54504, added 945 (eff 88.51%) (0.0946 FP/event)\n"
     ]
    },
    {
     "data": {
      "application/vnd.jupyter.widget-view+json": {
       "model_id": "",
       "version_major": 2,
       "version_minor": 0
      },
      "text/plain": [
       "HBox(children=(FloatProgress(value=0.0, description='Training', layout=Layout(flex='2'), max=1250.0, style=Pro…"
      ]
     },
     "metadata": {},
     "output_type": "display_data"
    },
    {
     "name": "stdout",
     "output_type": "stream",
     "text": [
      "Epoch 93: train=10.1169, val=10.5189, took 31.067 s\n",
      "  Validation Found 48423 of 54504, added 948 (eff 88.84%) (0.0949 FP/event)\n"
     ]
    },
    {
     "data": {
      "application/vnd.jupyter.widget-view+json": {
       "model_id": "",
       "version_major": 2,
       "version_minor": 0
      },
      "text/plain": [
       "HBox(children=(FloatProgress(value=0.0, description='Training', layout=Layout(flex='2'), max=1250.0, style=Pro…"
      ]
     },
     "metadata": {},
     "output_type": "display_data"
    },
    {
     "name": "stdout",
     "output_type": "stream",
     "text": [
      "Epoch 94: train=10.1045, val=10.7072, took 31.073 s\n",
      "  Validation Found 47959 of 54504, added 760 (eff 87.99%) (0.0761 FP/event)\n"
     ]
    },
    {
     "data": {
      "application/vnd.jupyter.widget-view+json": {
       "model_id": "",
       "version_major": 2,
       "version_minor": 0
      },
      "text/plain": [
       "HBox(children=(FloatProgress(value=0.0, description='Training', layout=Layout(flex='2'), max=1250.0, style=Pro…"
      ]
     },
     "metadata": {},
     "output_type": "display_data"
    },
    {
     "name": "stdout",
     "output_type": "stream",
     "text": [
      "Epoch 95: train=10.1015, val=10.6658, took 30.779 s\n",
      "  Validation Found 48521 of 54504, added 1058 (eff 89.02%) (0.106 FP/event)\n"
     ]
    },
    {
     "data": {
      "application/vnd.jupyter.widget-view+json": {
       "model_id": "",
       "version_major": 2,
       "version_minor": 0
      },
      "text/plain": [
       "HBox(children=(FloatProgress(value=0.0, description='Training', layout=Layout(flex='2'), max=1250.0, style=Pro…"
      ]
     },
     "metadata": {},
     "output_type": "display_data"
    },
    {
     "name": "stdout",
     "output_type": "stream",
     "text": [
      "Epoch 96: train=10.0966, val=10.4425, took 31.001 s\n",
      "  Validation Found 48651 of 54504, added 1074 (eff 89.26%) (0.108 FP/event)\n"
     ]
    },
    {
     "data": {
      "application/vnd.jupyter.widget-view+json": {
       "model_id": "",
       "version_major": 2,
       "version_minor": 0
      },
      "text/plain": [
       "HBox(children=(FloatProgress(value=0.0, description='Training', layout=Layout(flex='2'), max=1250.0, style=Pro…"
      ]
     },
     "metadata": {},
     "output_type": "display_data"
    },
    {
     "name": "stdout",
     "output_type": "stream",
     "text": [
      "Epoch 97: train=10.0866, val=10.5287, took 31.031 s\n",
      "  Validation Found 48484 of 54504, added 963 (eff 88.95%) (0.0964 FP/event)\n"
     ]
    },
    {
     "data": {
      "application/vnd.jupyter.widget-view+json": {
       "model_id": "",
       "version_major": 2,
       "version_minor": 0
      },
      "text/plain": [
       "HBox(children=(FloatProgress(value=0.0, description='Training', layout=Layout(flex='2'), max=1250.0, style=Pro…"
      ]
     },
     "metadata": {},
     "output_type": "display_data"
    },
    {
     "name": "stdout",
     "output_type": "stream",
     "text": [
      "Epoch 98: train=10.0821, val=10.5029, took 31.096 s\n",
      "  Validation Found 48623 of 54504, added 1054 (eff 89.21%) (0.106 FP/event)\n"
     ]
    },
    {
     "data": {
      "application/vnd.jupyter.widget-view+json": {
       "model_id": "",
       "version_major": 2,
       "version_minor": 0
      },
      "text/plain": [
       "HBox(children=(FloatProgress(value=0.0, description='Training', layout=Layout(flex='2'), max=1250.0, style=Pro…"
      ]
     },
     "metadata": {},
     "output_type": "display_data"
    },
    {
     "name": "stdout",
     "output_type": "stream",
     "text": [
      "Epoch 99: train=10.0821, val=10.709, took 30.787 s\n",
      "  Validation Found 48137 of 54504, added 938 (eff 88.32%) (0.0939 FP/event)\n"
     ]
    },
    {
     "data": {
      "application/vnd.jupyter.widget-view+json": {
       "model_id": "",
       "version_major": 2,
       "version_minor": 0
      },
      "text/plain": [
       "HBox(children=(FloatProgress(value=0.0, description='Training', layout=Layout(flex='2'), max=1250.0, style=Pro…"
      ]
     },
     "metadata": {},
     "output_type": "display_data"
    },
    {
     "name": "stdout",
     "output_type": "stream",
     "text": [
      "Epoch 100: train=10.0699, val=10.4935, took 30.843 s\n",
      "  Validation Found 48572 of 54504, added 1102 (eff 89.12%) (0.11 FP/event)\n"
     ]
    },
    {
     "data": {
      "application/vnd.jupyter.widget-view+json": {
       "model_id": "",
       "version_major": 2,
       "version_minor": 0
      },
      "text/plain": [
       "HBox(children=(FloatProgress(value=0.0, description='Training', layout=Layout(flex='2'), max=1250.0, style=Pro…"
      ]
     },
     "metadata": {},
     "output_type": "display_data"
    },
    {
     "name": "stdout",
     "output_type": "stream",
     "text": [
      "Epoch 101: train=10.0603, val=10.4275, took 31.405 s\n",
      "  Validation Found 48862 of 54504, added 1204 (eff 89.65%) (0.121 FP/event)\n"
     ]
    },
    {
     "data": {
      "application/vnd.jupyter.widget-view+json": {
       "model_id": "",
       "version_major": 2,
       "version_minor": 0
      },
      "text/plain": [
       "HBox(children=(FloatProgress(value=0.0, description='Training', layout=Layout(flex='2'), max=1250.0, style=Pro…"
      ]
     },
     "metadata": {},
     "output_type": "display_data"
    },
    {
     "name": "stdout",
     "output_type": "stream",
     "text": [
      "Epoch 102: train=10.0553, val=10.692, took 31.085 s\n",
      "  Validation Found 48111 of 54504, added 843 (eff 88.27%) (0.0844 FP/event)\n"
     ]
    },
    {
     "data": {
      "application/vnd.jupyter.widget-view+json": {
       "model_id": "",
       "version_major": 2,
       "version_minor": 0
      },
      "text/plain": [
       "HBox(children=(FloatProgress(value=0.0, description='Training', layout=Layout(flex='2'), max=1250.0, style=Pro…"
      ]
     },
     "metadata": {},
     "output_type": "display_data"
    },
    {
     "name": "stdout",
     "output_type": "stream",
     "text": [
      "Epoch 103: train=10.0509, val=10.4381, took 30.803 s\n",
      "  Validation Found 48631 of 54504, added 1086 (eff 89.22%) (0.109 FP/event)\n"
     ]
    },
    {
     "data": {
      "application/vnd.jupyter.widget-view+json": {
       "model_id": "",
       "version_major": 2,
       "version_minor": 0
      },
      "text/plain": [
       "HBox(children=(FloatProgress(value=0.0, description='Training', layout=Layout(flex='2'), max=1250.0, style=Pro…"
      ]
     },
     "metadata": {},
     "output_type": "display_data"
    },
    {
     "name": "stdout",
     "output_type": "stream",
     "text": [
      "Epoch 104: train=10.0357, val=10.526, took 30.781 s\n",
      "  Validation Found 48596 of 54504, added 1068 (eff 89.16%) (0.107 FP/event)\n"
     ]
    },
    {
     "data": {
      "application/vnd.jupyter.widget-view+json": {
       "model_id": "",
       "version_major": 2,
       "version_minor": 0
      },
      "text/plain": [
       "HBox(children=(FloatProgress(value=0.0, description='Training', layout=Layout(flex='2'), max=1250.0, style=Pro…"
      ]
     },
     "metadata": {},
     "output_type": "display_data"
    },
    {
     "name": "stdout",
     "output_type": "stream",
     "text": [
      "Epoch 105: train=10.0253, val=10.5315, took 30.729 s\n",
      "  Validation Found 48516 of 54504, added 1002 (eff 89.01%) (0.1 FP/event)\n"
     ]
    },
    {
     "data": {
      "application/vnd.jupyter.widget-view+json": {
       "model_id": "",
       "version_major": 2,
       "version_minor": 0
      },
      "text/plain": [
       "HBox(children=(FloatProgress(value=0.0, description='Training', layout=Layout(flex='2'), max=1250.0, style=Pro…"
      ]
     },
     "metadata": {},
     "output_type": "display_data"
    },
    {
     "name": "stdout",
     "output_type": "stream",
     "text": [
      "Epoch 106: train=10.0232, val=10.5336, took 30.886 s\n",
      "  Validation Found 48503 of 54504, added 976 (eff 88.99%) (0.0977 FP/event)\n"
     ]
    },
    {
     "data": {
      "application/vnd.jupyter.widget-view+json": {
       "model_id": "",
       "version_major": 2,
       "version_minor": 0
      },
      "text/plain": [
       "HBox(children=(FloatProgress(value=0.0, description='Training', layout=Layout(flex='2'), max=1250.0, style=Pro…"
      ]
     },
     "metadata": {},
     "output_type": "display_data"
    },
    {
     "name": "stdout",
     "output_type": "stream",
     "text": [
      "Epoch 107: train=10.0211, val=10.5663, took 30.829 s\n",
      "  Validation Found 48341 of 54504, added 962 (eff 88.69%) (0.0963 FP/event)\n"
     ]
    },
    {
     "data": {
      "application/vnd.jupyter.widget-view+json": {
       "model_id": "",
       "version_major": 2,
       "version_minor": 0
      },
      "text/plain": [
       "HBox(children=(FloatProgress(value=0.0, description='Training', layout=Layout(flex='2'), max=1250.0, style=Pro…"
      ]
     },
     "metadata": {},
     "output_type": "display_data"
    },
    {
     "name": "stdout",
     "output_type": "stream",
     "text": [
      "Epoch 108: train=10.0155, val=10.5317, took 30.722 s\n",
      "  Validation Found 48455 of 54504, added 995 (eff 88.90%) (0.0996 FP/event)\n"
     ]
    },
    {
     "data": {
      "application/vnd.jupyter.widget-view+json": {
       "model_id": "",
       "version_major": 2,
       "version_minor": 0
      },
      "text/plain": [
       "HBox(children=(FloatProgress(value=0.0, description='Training', layout=Layout(flex='2'), max=1250.0, style=Pro…"
      ]
     },
     "metadata": {},
     "output_type": "display_data"
    },
    {
     "name": "stdout",
     "output_type": "stream",
     "text": [
      "Epoch 109: train=10.0182, val=10.443, took 31.096 s\n",
      "  Validation Found 48711 of 54504, added 1082 (eff 89.37%) (0.108 FP/event)\n"
     ]
    },
    {
     "data": {
      "application/vnd.jupyter.widget-view+json": {
       "model_id": "",
       "version_major": 2,
       "version_minor": 0
      },
      "text/plain": [
       "HBox(children=(FloatProgress(value=0.0, description='Training', layout=Layout(flex='2'), max=1250.0, style=Pro…"
      ]
     },
     "metadata": {},
     "output_type": "display_data"
    },
    {
     "name": "stdout",
     "output_type": "stream",
     "text": [
      "Epoch 110: train=10.0085, val=10.4757, took 30.803 s\n",
      "  Validation Found 48805 of 54504, added 1206 (eff 89.54%) (0.121 FP/event)\n"
     ]
    },
    {
     "data": {
      "application/vnd.jupyter.widget-view+json": {
       "model_id": "",
       "version_major": 2,
       "version_minor": 0
      },
      "text/plain": [
       "HBox(children=(FloatProgress(value=0.0, description='Training', layout=Layout(flex='2'), max=1250.0, style=Pro…"
      ]
     },
     "metadata": {},
     "output_type": "display_data"
    },
    {
     "name": "stdout",
     "output_type": "stream",
     "text": [
      "Epoch 111: train=10.0065, val=10.7096, took 30.757 s\n",
      "  Validation Found 48133 of 54504, added 880 (eff 88.31%) (0.0881 FP/event)\n"
     ]
    },
    {
     "data": {
      "application/vnd.jupyter.widget-view+json": {
       "model_id": "",
       "version_major": 2,
       "version_minor": 0
      },
      "text/plain": [
       "HBox(children=(FloatProgress(value=0.0, description='Training', layout=Layout(flex='2'), max=1250.0, style=Pro…"
      ]
     },
     "metadata": {},
     "output_type": "display_data"
    },
    {
     "name": "stdout",
     "output_type": "stream",
     "text": [
      "Epoch 112: train=9.99429, val=10.4984, took 30.923 s\n",
      "  Validation Found 48599 of 54504, added 1075 (eff 89.17%) (0.108 FP/event)\n"
     ]
    },
    {
     "data": {
      "application/vnd.jupyter.widget-view+json": {
       "model_id": "",
       "version_major": 2,
       "version_minor": 0
      },
      "text/plain": [
       "HBox(children=(FloatProgress(value=0.0, description='Training', layout=Layout(flex='2'), max=1250.0, style=Pro…"
      ]
     },
     "metadata": {},
     "output_type": "display_data"
    },
    {
     "name": "stdout",
     "output_type": "stream",
     "text": [
      "Epoch 113: train=9.98799, val=10.4698, took 30.778 s\n",
      "  Validation Found 48830 of 54504, added 1192 (eff 89.59%) (0.119 FP/event)\n"
     ]
    },
    {
     "data": {
      "application/vnd.jupyter.widget-view+json": {
       "model_id": "",
       "version_major": 2,
       "version_minor": 0
      },
      "text/plain": [
       "HBox(children=(FloatProgress(value=0.0, description='Training', layout=Layout(flex='2'), max=1250.0, style=Pro…"
      ]
     },
     "metadata": {},
     "output_type": "display_data"
    },
    {
     "name": "stdout",
     "output_type": "stream",
     "text": [
      "Epoch 114: train=9.97953, val=10.5024, took 30.753 s\n",
      "  Validation Found 48596 of 54504, added 1025 (eff 89.16%) (0.103 FP/event)\n"
     ]
    },
    {
     "data": {
      "application/vnd.jupyter.widget-view+json": {
       "model_id": "",
       "version_major": 2,
       "version_minor": 0
      },
      "text/plain": [
       "HBox(children=(FloatProgress(value=0.0, description='Training', layout=Layout(flex='2'), max=1250.0, style=Pro…"
      ]
     },
     "metadata": {},
     "output_type": "display_data"
    },
    {
     "name": "stdout",
     "output_type": "stream",
     "text": [
      "Epoch 115: train=9.96954, val=10.5036, took 31.151 s\n",
      "  Validation Found 48640 of 54504, added 1073 (eff 89.24%) (0.107 FP/event)\n"
     ]
    },
    {
     "data": {
      "application/vnd.jupyter.widget-view+json": {
       "model_id": "",
       "version_major": 2,
       "version_minor": 0
      },
      "text/plain": [
       "HBox(children=(FloatProgress(value=0.0, description='Training', layout=Layout(flex='2'), max=1250.0, style=Pro…"
      ]
     },
     "metadata": {},
     "output_type": "display_data"
    },
    {
     "name": "stdout",
     "output_type": "stream",
     "text": [
      "Epoch 116: train=9.96696, val=10.5901, took 30.944 s\n",
      "  Validation Found 48335 of 54504, added 953 (eff 88.68%) (0.0954 FP/event)\n"
     ]
    },
    {
     "data": {
      "application/vnd.jupyter.widget-view+json": {
       "model_id": "",
       "version_major": 2,
       "version_minor": 0
      },
      "text/plain": [
       "HBox(children=(FloatProgress(value=0.0, description='Training', layout=Layout(flex='2'), max=1250.0, style=Pro…"
      ]
     },
     "metadata": {},
     "output_type": "display_data"
    },
    {
     "name": "stdout",
     "output_type": "stream",
     "text": [
      "Epoch 117: train=9.96852, val=10.4226, took 30.762 s\n",
      "  Validation Found 48621 of 54504, added 1050 (eff 89.21%) (0.105 FP/event)\n"
     ]
    },
    {
     "data": {
      "application/vnd.jupyter.widget-view+json": {
       "model_id": "",
       "version_major": 2,
       "version_minor": 0
      },
      "text/plain": [
       "HBox(children=(FloatProgress(value=0.0, description='Training', layout=Layout(flex='2'), max=1250.0, style=Pro…"
      ]
     },
     "metadata": {},
     "output_type": "display_data"
    },
    {
     "name": "stdout",
     "output_type": "stream",
     "text": [
      "Epoch 118: train=9.96425, val=10.4367, took 30.832 s\n",
      "  Validation Found 48777 of 54504, added 1071 (eff 89.49%) (0.107 FP/event)\n"
     ]
    },
    {
     "data": {
      "application/vnd.jupyter.widget-view+json": {
       "model_id": "",
       "version_major": 2,
       "version_minor": 0
      },
      "text/plain": [
       "HBox(children=(FloatProgress(value=0.0, description='Training', layout=Layout(flex='2'), max=1250.0, style=Pro…"
      ]
     },
     "metadata": {},
     "output_type": "display_data"
    },
    {
     "name": "stdout",
     "output_type": "stream",
     "text": [
      "Epoch 119: train=9.96131, val=10.4924, took 30.776 s\n",
      "  Validation Found 48541 of 54504, added 1010 (eff 89.06%) (0.101 FP/event)\n"
     ]
    },
    {
     "data": {
      "application/vnd.jupyter.widget-view+json": {
       "model_id": "",
       "version_major": 2,
       "version_minor": 0
      },
      "text/plain": [
       "HBox(children=(FloatProgress(value=0.0, description='Training', layout=Layout(flex='2'), max=1250.0, style=Pro…"
      ]
     },
     "metadata": {},
     "output_type": "display_data"
    },
    {
     "name": "stdout",
     "output_type": "stream",
     "text": [
      "Epoch 120: train=9.95579, val=10.4591, took 30.707 s\n",
      "  Validation Found 48545 of 54504, added 972 (eff 89.07%) (0.0973 FP/event)\n"
     ]
    },
    {
     "data": {
      "application/vnd.jupyter.widget-view+json": {
       "model_id": "",
       "version_major": 2,
       "version_minor": 0
      },
      "text/plain": [
       "HBox(children=(FloatProgress(value=0.0, description='Training', layout=Layout(flex='2'), max=1250.0, style=Pro…"
      ]
     },
     "metadata": {},
     "output_type": "display_data"
    },
    {
     "name": "stdout",
     "output_type": "stream",
     "text": [
      "Epoch 121: train=9.93884, val=10.5049, took 31.069 s\n",
      "  Validation Found 48462 of 54504, added 980 (eff 88.91%) (0.0981 FP/event)\n"
     ]
    },
    {
     "data": {
      "application/vnd.jupyter.widget-view+json": {
       "model_id": "",
       "version_major": 2,
       "version_minor": 0
      },
      "text/plain": [
       "HBox(children=(FloatProgress(value=0.0, description='Training', layout=Layout(flex='2'), max=1250.0, style=Pro…"
      ]
     },
     "metadata": {},
     "output_type": "display_data"
    },
    {
     "name": "stdout",
     "output_type": "stream",
     "text": [
      "Epoch 122: train=9.94461, val=10.7074, took 30.794 s\n",
      "  Validation Found 48229 of 54504, added 983 (eff 88.49%) (0.0984 FP/event)\n"
     ]
    },
    {
     "data": {
      "application/vnd.jupyter.widget-view+json": {
       "model_id": "",
       "version_major": 2,
       "version_minor": 0
      },
      "text/plain": [
       "HBox(children=(FloatProgress(value=0.0, description='Training', layout=Layout(flex='2'), max=1250.0, style=Pro…"
      ]
     },
     "metadata": {},
     "output_type": "display_data"
    },
    {
     "name": "stdout",
     "output_type": "stream",
     "text": [
      "Epoch 123: train=9.93992, val=10.5173, took 30.721 s\n",
      "  Validation Found 48644 of 54504, added 998 (eff 89.25%) (0.0999 FP/event)\n"
     ]
    },
    {
     "data": {
      "application/vnd.jupyter.widget-view+json": {
       "model_id": "",
       "version_major": 2,
       "version_minor": 0
      },
      "text/plain": [
       "HBox(children=(FloatProgress(value=0.0, description='Training', layout=Layout(flex='2'), max=1250.0, style=Pro…"
      ]
     },
     "metadata": {},
     "output_type": "display_data"
    },
    {
     "name": "stdout",
     "output_type": "stream",
     "text": [
      "Epoch 124: train=9.92743, val=10.5078, took 30.724 s\n",
      "  Validation Found 48468 of 54504, added 1025 (eff 88.93%) (0.103 FP/event)\n"
     ]
    },
    {
     "data": {
      "application/vnd.jupyter.widget-view+json": {
       "model_id": "",
       "version_major": 2,
       "version_minor": 0
      },
      "text/plain": [
       "HBox(children=(FloatProgress(value=0.0, description='Training', layout=Layout(flex='2'), max=1250.0, style=Pro…"
      ]
     },
     "metadata": {},
     "output_type": "display_data"
    },
    {
     "name": "stdout",
     "output_type": "stream",
     "text": [
      "Epoch 125: train=9.93268, val=10.5112, took 30.712 s\n",
      "  Validation Found 48343 of 54504, added 954 (eff 88.70%) (0.0955 FP/event)\n"
     ]
    },
    {
     "data": {
      "application/vnd.jupyter.widget-view+json": {
       "model_id": "",
       "version_major": 2,
       "version_minor": 0
      },
      "text/plain": [
       "HBox(children=(FloatProgress(value=0.0, description='Training', layout=Layout(flex='2'), max=1250.0, style=Pro…"
      ]
     },
     "metadata": {},
     "output_type": "display_data"
    },
    {
     "name": "stdout",
     "output_type": "stream",
     "text": [
      "Epoch 126: train=9.92468, val=10.4858, took 30.773 s\n",
      "  Validation Found 48537 of 54504, added 1050 (eff 89.05%) (0.105 FP/event)\n"
     ]
    },
    {
     "data": {
      "application/vnd.jupyter.widget-view+json": {
       "model_id": "",
       "version_major": 2,
       "version_minor": 0
      },
      "text/plain": [
       "HBox(children=(FloatProgress(value=0.0, description='Training', layout=Layout(flex='2'), max=1250.0, style=Pro…"
      ]
     },
     "metadata": {},
     "output_type": "display_data"
    },
    {
     "name": "stdout",
     "output_type": "stream",
     "text": [
      "Epoch 127: train=9.92091, val=10.6672, took 30.864 s\n",
      "  Validation Found 48264 of 54504, added 947 (eff 88.55%) (0.0948 FP/event)\n"
     ]
    },
    {
     "data": {
      "application/vnd.jupyter.widget-view+json": {
       "model_id": "",
       "version_major": 2,
       "version_minor": 0
      },
      "text/plain": [
       "HBox(children=(FloatProgress(value=0.0, description='Training', layout=Layout(flex='2'), max=1250.0, style=Pro…"
      ]
     },
     "metadata": {},
     "output_type": "display_data"
    },
    {
     "name": "stdout",
     "output_type": "stream",
     "text": [
      "Epoch 128: train=9.91807, val=10.6415, took 30.872 s\n",
      "  Validation Found 48077 of 54504, added 853 (eff 88.21%) (0.0854 FP/event)\n"
     ]
    },
    {
     "data": {
      "application/vnd.jupyter.widget-view+json": {
       "model_id": "",
       "version_major": 2,
       "version_minor": 0
      },
      "text/plain": [
       "HBox(children=(FloatProgress(value=0.0, description='Training', layout=Layout(flex='2'), max=1250.0, style=Pro…"
      ]
     },
     "metadata": {},
     "output_type": "display_data"
    },
    {
     "name": "stdout",
     "output_type": "stream",
     "text": [
      "Epoch 129: train=9.90646, val=10.5112, took 30.773 s\n",
      "  Validation Found 48788 of 54504, added 1212 (eff 89.51%) (0.121 FP/event)\n"
     ]
    },
    {
     "data": {
      "application/vnd.jupyter.widget-view+json": {
       "model_id": "",
       "version_major": 2,
       "version_minor": 0
      },
      "text/plain": [
       "HBox(children=(FloatProgress(value=0.0, description='Training', layout=Layout(flex='2'), max=1250.0, style=Pro…"
      ]
     },
     "metadata": {},
     "output_type": "display_data"
    },
    {
     "name": "stdout",
     "output_type": "stream",
     "text": [
      "Epoch 130: train=9.90742, val=10.5029, took 30.737 s\n",
      "  Validation Found 48658 of 54504, added 1074 (eff 89.27%) (0.108 FP/event)\n"
     ]
    },
    {
     "data": {
      "application/vnd.jupyter.widget-view+json": {
       "model_id": "",
       "version_major": 2,
       "version_minor": 0
      },
      "text/plain": [
       "HBox(children=(FloatProgress(value=0.0, description='Training', layout=Layout(flex='2'), max=1250.0, style=Pro…"
      ]
     },
     "metadata": {},
     "output_type": "display_data"
    },
    {
     "name": "stdout",
     "output_type": "stream",
     "text": [
      "Epoch 131: train=9.90239, val=10.4199, took 30.9 s\n",
      "  Validation Found 48860 of 54504, added 1113 (eff 89.64%) (0.111 FP/event)\n"
     ]
    },
    {
     "data": {
      "application/vnd.jupyter.widget-view+json": {
       "model_id": "",
       "version_major": 2,
       "version_minor": 0
      },
      "text/plain": [
       "HBox(children=(FloatProgress(value=0.0, description='Training', layout=Layout(flex='2'), max=1250.0, style=Pro…"
      ]
     },
     "metadata": {},
     "output_type": "display_data"
    },
    {
     "name": "stdout",
     "output_type": "stream",
     "text": [
      "Epoch 132: train=9.90402, val=10.4495, took 30.802 s\n",
      "  Validation Found 48564 of 54504, added 1013 (eff 89.10%) (0.101 FP/event)\n"
     ]
    },
    {
     "data": {
      "application/vnd.jupyter.widget-view+json": {
       "model_id": "",
       "version_major": 2,
       "version_minor": 0
      },
      "text/plain": [
       "HBox(children=(FloatProgress(value=0.0, description='Training', layout=Layout(flex='2'), max=1250.0, style=Pro…"
      ]
     },
     "metadata": {},
     "output_type": "display_data"
    },
    {
     "name": "stdout",
     "output_type": "stream",
     "text": [
      "Epoch 133: train=9.89657, val=10.4177, took 31.603 s\n",
      "  Validation Found 48469 of 54504, added 966 (eff 88.93%) (0.0967 FP/event)\n"
     ]
    },
    {
     "data": {
      "application/vnd.jupyter.widget-view+json": {
       "model_id": "",
       "version_major": 2,
       "version_minor": 0
      },
      "text/plain": [
       "HBox(children=(FloatProgress(value=0.0, description='Training', layout=Layout(flex='2'), max=1250.0, style=Pro…"
      ]
     },
     "metadata": {},
     "output_type": "display_data"
    },
    {
     "name": "stdout",
     "output_type": "stream",
     "text": [
      "Epoch 134: train=9.88638, val=10.4784, took 31.242 s\n",
      "  Validation Found 48526 of 54504, added 1016 (eff 89.03%) (0.102 FP/event)\n"
     ]
    },
    {
     "data": {
      "application/vnd.jupyter.widget-view+json": {
       "model_id": "",
       "version_major": 2,
       "version_minor": 0
      },
      "text/plain": [
       "HBox(children=(FloatProgress(value=0.0, description='Training', layout=Layout(flex='2'), max=1250.0, style=Pro…"
      ]
     },
     "metadata": {},
     "output_type": "display_data"
    },
    {
     "name": "stdout",
     "output_type": "stream",
     "text": [
      "Epoch 135: train=9.89108, val=10.6173, took 31.152 s\n",
      "  Validation Found 48333 of 54504, added 947 (eff 88.68%) (0.0948 FP/event)\n"
     ]
    },
    {
     "data": {
      "application/vnd.jupyter.widget-view+json": {
       "model_id": "",
       "version_major": 2,
       "version_minor": 0
      },
      "text/plain": [
       "HBox(children=(FloatProgress(value=0.0, description='Training', layout=Layout(flex='2'), max=1250.0, style=Pro…"
      ]
     },
     "metadata": {},
     "output_type": "display_data"
    },
    {
     "name": "stdout",
     "output_type": "stream",
     "text": [
      "Epoch 136: train=9.88653, val=10.5255, took 30.899 s\n",
      "  Validation Found 48395 of 54504, added 1028 (eff 88.79%) (0.103 FP/event)\n"
     ]
    },
    {
     "data": {
      "application/vnd.jupyter.widget-view+json": {
       "model_id": "",
       "version_major": 2,
       "version_minor": 0
      },
      "text/plain": [
       "HBox(children=(FloatProgress(value=0.0, description='Training', layout=Layout(flex='2'), max=1250.0, style=Pro…"
      ]
     },
     "metadata": {},
     "output_type": "display_data"
    },
    {
     "name": "stdout",
     "output_type": "stream",
     "text": [
      "Epoch 137: train=9.86582, val=10.5157, took 31.445 s\n",
      "  Validation Found 48364 of 54504, added 920 (eff 88.73%) (0.0921 FP/event)\n"
     ]
    },
    {
     "data": {
      "application/vnd.jupyter.widget-view+json": {
       "model_id": "",
       "version_major": 2,
       "version_minor": 0
      },
      "text/plain": [
       "HBox(children=(FloatProgress(value=0.0, description='Training', layout=Layout(flex='2'), max=1250.0, style=Pro…"
      ]
     },
     "metadata": {},
     "output_type": "display_data"
    },
    {
     "name": "stdout",
     "output_type": "stream",
     "text": [
      "Epoch 138: train=9.86737, val=10.4859, took 31.095 s\n",
      "  Validation Found 48616 of 54504, added 1006 (eff 89.20%) (0.101 FP/event)\n"
     ]
    },
    {
     "data": {
      "application/vnd.jupyter.widget-view+json": {
       "model_id": "",
       "version_major": 2,
       "version_minor": 0
      },
      "text/plain": [
       "HBox(children=(FloatProgress(value=0.0, description='Training', layout=Layout(flex='2'), max=1250.0, style=Pro…"
      ]
     },
     "metadata": {},
     "output_type": "display_data"
    },
    {
     "name": "stdout",
     "output_type": "stream",
     "text": [
      "Epoch 139: train=9.85875, val=10.5217, took 31.152 s\n",
      "  Validation Found 48636 of 54504, added 1083 (eff 89.23%) (0.108 FP/event)\n"
     ]
    },
    {
     "data": {
      "application/vnd.jupyter.widget-view+json": {
       "model_id": "",
       "version_major": 2,
       "version_minor": 0
      },
      "text/plain": [
       "HBox(children=(FloatProgress(value=0.0, description='Training', layout=Layout(flex='2'), max=1250.0, style=Pro…"
      ]
     },
     "metadata": {},
     "output_type": "display_data"
    },
    {
     "name": "stdout",
     "output_type": "stream",
     "text": [
      "Epoch 140: train=9.85276, val=10.379, took 31.105 s\n",
      "  Validation Found 48664 of 54504, added 1053 (eff 89.29%) (0.105 FP/event)\n"
     ]
    },
    {
     "data": {
      "application/vnd.jupyter.widget-view+json": {
       "model_id": "",
       "version_major": 2,
       "version_minor": 0
      },
      "text/plain": [
       "HBox(children=(FloatProgress(value=0.0, description='Training', layout=Layout(flex='2'), max=1250.0, style=Pro…"
      ]
     },
     "metadata": {},
     "output_type": "display_data"
    },
    {
     "name": "stdout",
     "output_type": "stream",
     "text": [
      "Epoch 141: train=9.85709, val=10.5108, took 31.067 s\n",
      "  Validation Found 48875 of 54504, added 1230 (eff 89.67%) (0.123 FP/event)\n"
     ]
    },
    {
     "data": {
      "application/vnd.jupyter.widget-view+json": {
       "model_id": "",
       "version_major": 2,
       "version_minor": 0
      },
      "text/plain": [
       "HBox(children=(FloatProgress(value=0.0, description='Training', layout=Layout(flex='2'), max=1250.0, style=Pro…"
      ]
     },
     "metadata": {},
     "output_type": "display_data"
    },
    {
     "name": "stdout",
     "output_type": "stream",
     "text": [
      "Epoch 142: train=9.85431, val=10.5557, took 30.977 s\n",
      "  Validation Found 48274 of 54504, added 969 (eff 88.57%) (0.097 FP/event)\n"
     ]
    },
    {
     "data": {
      "application/vnd.jupyter.widget-view+json": {
       "model_id": "",
       "version_major": 2,
       "version_minor": 0
      },
      "text/plain": [
       "HBox(children=(FloatProgress(value=0.0, description='Training', layout=Layout(flex='2'), max=1250.0, style=Pro…"
      ]
     },
     "metadata": {},
     "output_type": "display_data"
    },
    {
     "name": "stdout",
     "output_type": "stream",
     "text": [
      "Epoch 143: train=9.83483, val=10.4393, took 30.817 s\n",
      "  Validation Found 48505 of 54504, added 978 (eff 88.99%) (0.0979 FP/event)\n"
     ]
    },
    {
     "data": {
      "application/vnd.jupyter.widget-view+json": {
       "model_id": "",
       "version_major": 2,
       "version_minor": 0
      },
      "text/plain": [
       "HBox(children=(FloatProgress(value=0.0, description='Training', layout=Layout(flex='2'), max=1250.0, style=Pro…"
      ]
     },
     "metadata": {},
     "output_type": "display_data"
    },
    {
     "name": "stdout",
     "output_type": "stream",
     "text": [
      "Epoch 144: train=9.84131, val=10.5321, took 30.865 s\n",
      "  Validation Found 48389 of 54504, added 1004 (eff 88.78%) (0.101 FP/event)\n"
     ]
    },
    {
     "data": {
      "application/vnd.jupyter.widget-view+json": {
       "model_id": "",
       "version_major": 2,
       "version_minor": 0
      },
      "text/plain": [
       "HBox(children=(FloatProgress(value=0.0, description='Training', layout=Layout(flex='2'), max=1250.0, style=Pro…"
      ]
     },
     "metadata": {},
     "output_type": "display_data"
    },
    {
     "name": "stdout",
     "output_type": "stream",
     "text": [
      "Epoch 145: train=9.83859, val=10.4107, took 30.864 s\n",
      "  Validation Found 48485 of 54504, added 973 (eff 88.96%) (0.0974 FP/event)\n"
     ]
    },
    {
     "data": {
      "application/vnd.jupyter.widget-view+json": {
       "model_id": "",
       "version_major": 2,
       "version_minor": 0
      },
      "text/plain": [
       "HBox(children=(FloatProgress(value=0.0, description='Training', layout=Layout(flex='2'), max=1250.0, style=Pro…"
      ]
     },
     "metadata": {},
     "output_type": "display_data"
    },
    {
     "name": "stdout",
     "output_type": "stream",
     "text": [
      "Epoch 146: train=9.834, val=10.4766, took 30.767 s\n",
      "  Validation Found 48399 of 54504, added 989 (eff 88.80%) (0.099 FP/event)\n"
     ]
    },
    {
     "data": {
      "application/vnd.jupyter.widget-view+json": {
       "model_id": "",
       "version_major": 2,
       "version_minor": 0
      },
      "text/plain": [
       "HBox(children=(FloatProgress(value=0.0, description='Training', layout=Layout(flex='2'), max=1250.0, style=Pro…"
      ]
     },
     "metadata": {},
     "output_type": "display_data"
    },
    {
     "name": "stdout",
     "output_type": "stream",
     "text": [
      "Epoch 147: train=9.82893, val=10.5949, took 31.276 s\n",
      "  Validation Found 48208 of 54504, added 920 (eff 88.45%) (0.0921 FP/event)\n"
     ]
    },
    {
     "data": {
      "application/vnd.jupyter.widget-view+json": {
       "model_id": "",
       "version_major": 2,
       "version_minor": 0
      },
      "text/plain": [
       "HBox(children=(FloatProgress(value=0.0, description='Training', layout=Layout(flex='2'), max=1250.0, style=Pro…"
      ]
     },
     "metadata": {},
     "output_type": "display_data"
    },
    {
     "name": "stdout",
     "output_type": "stream",
     "text": [
      "Epoch 148: train=9.83242, val=10.584, took 30.758 s\n",
      "  Validation Found 48348 of 54504, added 959 (eff 88.71%) (0.096 FP/event)\n"
     ]
    },
    {
     "data": {
      "application/vnd.jupyter.widget-view+json": {
       "model_id": "",
       "version_major": 2,
       "version_minor": 0
      },
      "text/plain": [
       "HBox(children=(FloatProgress(value=0.0, description='Training', layout=Layout(flex='2'), max=1250.0, style=Pro…"
      ]
     },
     "metadata": {},
     "output_type": "display_data"
    },
    {
     "name": "stdout",
     "output_type": "stream",
     "text": [
      "Epoch 149: train=9.82039, val=10.5613, took 30.759 s\n",
      "  Validation Found 48195 of 54504, added 879 (eff 88.42%) (0.088 FP/event)\n"
     ]
    },
    {
     "data": {
      "application/vnd.jupyter.widget-view+json": {
       "model_id": "",
       "version_major": 2,
       "version_minor": 0
      },
      "text/plain": [
       "HBox(children=(FloatProgress(value=0.0, description='Training', layout=Layout(flex='2'), max=1250.0, style=Pro…"
      ]
     },
     "metadata": {},
     "output_type": "display_data"
    },
    {
     "name": "stdout",
     "output_type": "stream",
     "text": [
      "Epoch 150: train=9.82057, val=10.3797, took 30.834 s\n",
      "  Validation Found 48989 of 54504, added 1271 (eff 89.88%) (0.127 FP/event)\n"
     ]
    },
    {
     "data": {
      "application/vnd.jupyter.widget-view+json": {
       "model_id": "",
       "version_major": 2,
       "version_minor": 0
      },
      "text/plain": [
       "HBox(children=(FloatProgress(value=0.0, description='Training', layout=Layout(flex='2'), max=1250.0, style=Pro…"
      ]
     },
     "metadata": {},
     "output_type": "display_data"
    },
    {
     "name": "stdout",
     "output_type": "stream",
     "text": [
      "Epoch 151: train=9.81149, val=10.6331, took 30.788 s\n",
      "  Validation Found 48194 of 54504, added 787 (eff 88.42%) (0.0788 FP/event)\n"
     ]
    },
    {
     "data": {
      "application/vnd.jupyter.widget-view+json": {
       "model_id": "",
       "version_major": 2,
       "version_minor": 0
      },
      "text/plain": [
       "HBox(children=(FloatProgress(value=0.0, description='Training', layout=Layout(flex='2'), max=1250.0, style=Pro…"
      ]
     },
     "metadata": {},
     "output_type": "display_data"
    },
    {
     "name": "stdout",
     "output_type": "stream",
     "text": [
      "Epoch 152: train=9.80609, val=10.4402, took 30.781 s\n",
      "  Validation Found 48639 of 54504, added 1051 (eff 89.24%) (0.105 FP/event)\n"
     ]
    },
    {
     "data": {
      "application/vnd.jupyter.widget-view+json": {
       "model_id": "",
       "version_major": 2,
       "version_minor": 0
      },
      "text/plain": [
       "HBox(children=(FloatProgress(value=0.0, description='Training', layout=Layout(flex='2'), max=1250.0, style=Pro…"
      ]
     },
     "metadata": {},
     "output_type": "display_data"
    },
    {
     "name": "stdout",
     "output_type": "stream",
     "text": [
      "Epoch 153: train=9.8029, val=10.5524, took 30.92 s\n",
      "  Validation Found 48201 of 54504, added 856 (eff 88.44%) (0.0857 FP/event)\n"
     ]
    },
    {
     "data": {
      "application/vnd.jupyter.widget-view+json": {
       "model_id": "",
       "version_major": 2,
       "version_minor": 0
      },
      "text/plain": [
       "HBox(children=(FloatProgress(value=0.0, description='Training', layout=Layout(flex='2'), max=1250.0, style=Pro…"
      ]
     },
     "metadata": {},
     "output_type": "display_data"
    },
    {
     "name": "stdout",
     "output_type": "stream",
     "text": [
      "Epoch 154: train=9.80234, val=10.6073, took 30.943 s\n",
      "  Validation Found 48190 of 54504, added 897 (eff 88.42%) (0.0898 FP/event)\n"
     ]
    },
    {
     "data": {
      "application/vnd.jupyter.widget-view+json": {
       "model_id": "",
       "version_major": 2,
       "version_minor": 0
      },
      "text/plain": [
       "HBox(children=(FloatProgress(value=0.0, description='Training', layout=Layout(flex='2'), max=1250.0, style=Pro…"
      ]
     },
     "metadata": {},
     "output_type": "display_data"
    },
    {
     "name": "stdout",
     "output_type": "stream",
     "text": [
      "Epoch 155: train=9.79242, val=10.4996, took 31.067 s\n",
      "  Validation Found 48661 of 54504, added 1102 (eff 89.28%) (0.11 FP/event)\n"
     ]
    },
    {
     "data": {
      "application/vnd.jupyter.widget-view+json": {
       "model_id": "",
       "version_major": 2,
       "version_minor": 0
      },
      "text/plain": [
       "HBox(children=(FloatProgress(value=0.0, description='Training', layout=Layout(flex='2'), max=1250.0, style=Pro…"
      ]
     },
     "metadata": {},
     "output_type": "display_data"
    },
    {
     "name": "stdout",
     "output_type": "stream",
     "text": [
      "Epoch 156: train=9.79661, val=10.657, took 30.96 s\n",
      "  Validation Found 47903 of 54504, added 815 (eff 87.89%) (0.0816 FP/event)\n"
     ]
    },
    {
     "data": {
      "application/vnd.jupyter.widget-view+json": {
       "model_id": "",
       "version_major": 2,
       "version_minor": 0
      },
      "text/plain": [
       "HBox(children=(FloatProgress(value=0.0, description='Training', layout=Layout(flex='2'), max=1250.0, style=Pro…"
      ]
     },
     "metadata": {},
     "output_type": "display_data"
    },
    {
     "name": "stdout",
     "output_type": "stream",
     "text": [
      "Epoch 157: train=9.78861, val=10.3642, took 30.8 s\n",
      "  Validation Found 48850 of 54504, added 1083 (eff 89.63%) (0.108 FP/event)\n"
     ]
    },
    {
     "data": {
      "application/vnd.jupyter.widget-view+json": {
       "model_id": "",
       "version_major": 2,
       "version_minor": 0
      },
      "text/plain": [
       "HBox(children=(FloatProgress(value=0.0, description='Training', layout=Layout(flex='2'), max=1250.0, style=Pro…"
      ]
     },
     "metadata": {},
     "output_type": "display_data"
    },
    {
     "name": "stdout",
     "output_type": "stream",
     "text": [
      "Epoch 158: train=9.78012, val=10.6021, took 30.79 s\n",
      "  Validation Found 48184 of 54504, added 837 (eff 88.40%) (0.0838 FP/event)\n"
     ]
    },
    {
     "data": {
      "application/vnd.jupyter.widget-view+json": {
       "model_id": "",
       "version_major": 2,
       "version_minor": 0
      },
      "text/plain": [
       "HBox(children=(FloatProgress(value=0.0, description='Training', layout=Layout(flex='2'), max=1250.0, style=Pro…"
      ]
     },
     "metadata": {},
     "output_type": "display_data"
    },
    {
     "name": "stdout",
     "output_type": "stream",
     "text": [
      "Epoch 159: train=9.78551, val=10.6187, took 31.169 s\n",
      "  Validation Found 48222 of 54504, added 900 (eff 88.47%) (0.0901 FP/event)\n"
     ]
    },
    {
     "data": {
      "application/vnd.jupyter.widget-view+json": {
       "model_id": "",
       "version_major": 2,
       "version_minor": 0
      },
      "text/plain": [
       "HBox(children=(FloatProgress(value=0.0, description='Training', layout=Layout(flex='2'), max=1250.0, style=Pro…"
      ]
     },
     "metadata": {},
     "output_type": "display_data"
    },
    {
     "name": "stdout",
     "output_type": "stream",
     "text": [
      "Epoch 160: train=9.7932, val=10.6259, took 30.828 s\n",
      "  Validation Found 48109 of 54504, added 844 (eff 88.27%) (0.0845 FP/event)\n"
     ]
    },
    {
     "data": {
      "application/vnd.jupyter.widget-view+json": {
       "model_id": "",
       "version_major": 2,
       "version_minor": 0
      },
      "text/plain": [
       "HBox(children=(FloatProgress(value=0.0, description='Training', layout=Layout(flex='2'), max=1250.0, style=Pro…"
      ]
     },
     "metadata": {},
     "output_type": "display_data"
    },
    {
     "name": "stdout",
     "output_type": "stream",
     "text": [
      "Epoch 161: train=9.77538, val=10.3946, took 31.596 s\n",
      "  Validation Found 48739 of 54504, added 1057 (eff 89.42%) (0.106 FP/event)\n"
     ]
    },
    {
     "data": {
      "application/vnd.jupyter.widget-view+json": {
       "model_id": "",
       "version_major": 2,
       "version_minor": 0
      },
      "text/plain": [
       "HBox(children=(FloatProgress(value=0.0, description='Training', layout=Layout(flex='2'), max=1250.0, style=Pro…"
      ]
     },
     "metadata": {},
     "output_type": "display_data"
    },
    {
     "name": "stdout",
     "output_type": "stream",
     "text": [
      "Epoch 162: train=9.77037, val=10.5121, took 31.018 s\n",
      "  Validation Found 48525 of 54504, added 926 (eff 89.03%) (0.0927 FP/event)\n"
     ]
    },
    {
     "data": {
      "application/vnd.jupyter.widget-view+json": {
       "model_id": "",
       "version_major": 2,
       "version_minor": 0
      },
      "text/plain": [
       "HBox(children=(FloatProgress(value=0.0, description='Training', layout=Layout(flex='2'), max=1250.0, style=Pro…"
      ]
     },
     "metadata": {},
     "output_type": "display_data"
    },
    {
     "name": "stdout",
     "output_type": "stream",
     "text": [
      "Epoch 163: train=9.76828, val=10.6588, took 30.848 s\n",
      "  Validation Found 47885 of 54504, added 817 (eff 87.86%) (0.0818 FP/event)\n"
     ]
    },
    {
     "data": {
      "application/vnd.jupyter.widget-view+json": {
       "model_id": "",
       "version_major": 2,
       "version_minor": 0
      },
      "text/plain": [
       "HBox(children=(FloatProgress(value=0.0, description='Training', layout=Layout(flex='2'), max=1250.0, style=Pro…"
      ]
     },
     "metadata": {},
     "output_type": "display_data"
    },
    {
     "name": "stdout",
     "output_type": "stream",
     "text": [
      "Epoch 164: train=9.76355, val=10.3109, took 31.056 s\n",
      "  Validation Found 48788 of 54504, added 1103 (eff 89.51%) (0.11 FP/event)\n"
     ]
    },
    {
     "data": {
      "application/vnd.jupyter.widget-view+json": {
       "model_id": "",
       "version_major": 2,
       "version_minor": 0
      },
      "text/plain": [
       "HBox(children=(FloatProgress(value=0.0, description='Training', layout=Layout(flex='2'), max=1250.0, style=Pro…"
      ]
     },
     "metadata": {},
     "output_type": "display_data"
    },
    {
     "name": "stdout",
     "output_type": "stream",
     "text": [
      "Epoch 165: train=9.76306, val=10.5085, took 30.939 s\n",
      "  Validation Found 48301 of 54504, added 920 (eff 88.62%) (0.0921 FP/event)\n"
     ]
    },
    {
     "data": {
      "application/vnd.jupyter.widget-view+json": {
       "model_id": "",
       "version_major": 2,
       "version_minor": 0
      },
      "text/plain": [
       "HBox(children=(FloatProgress(value=0.0, description='Training', layout=Layout(flex='2'), max=1250.0, style=Pro…"
      ]
     },
     "metadata": {},
     "output_type": "display_data"
    },
    {
     "name": "stdout",
     "output_type": "stream",
     "text": [
      "Epoch 166: train=9.75099, val=10.5296, took 31.007 s\n",
      "  Validation Found 48270 of 54504, added 821 (eff 88.56%) (0.0822 FP/event)\n"
     ]
    },
    {
     "data": {
      "application/vnd.jupyter.widget-view+json": {
       "model_id": "",
       "version_major": 2,
       "version_minor": 0
      },
      "text/plain": [
       "HBox(children=(FloatProgress(value=0.0, description='Training', layout=Layout(flex='2'), max=1250.0, style=Pro…"
      ]
     },
     "metadata": {},
     "output_type": "display_data"
    },
    {
     "name": "stdout",
     "output_type": "stream",
     "text": [
      "Epoch 167: train=9.74262, val=10.6094, took 30.934 s\n",
      "  Validation Found 48231 of 54504, added 888 (eff 88.49%) (0.0889 FP/event)\n"
     ]
    },
    {
     "data": {
      "application/vnd.jupyter.widget-view+json": {
       "model_id": "",
       "version_major": 2,
       "version_minor": 0
      },
      "text/plain": [
       "HBox(children=(FloatProgress(value=0.0, description='Training', layout=Layout(flex='2'), max=1250.0, style=Pro…"
      ]
     },
     "metadata": {},
     "output_type": "display_data"
    },
    {
     "name": "stdout",
     "output_type": "stream",
     "text": [
      "Epoch 168: train=9.74528, val=10.5595, took 31.219 s\n",
      "  Validation Found 48390 of 54504, added 1022 (eff 88.78%) (0.102 FP/event)\n"
     ]
    },
    {
     "data": {
      "application/vnd.jupyter.widget-view+json": {
       "model_id": "",
       "version_major": 2,
       "version_minor": 0
      },
      "text/plain": [
       "HBox(children=(FloatProgress(value=0.0, description='Training', layout=Layout(flex='2'), max=1250.0, style=Pro…"
      ]
     },
     "metadata": {},
     "output_type": "display_data"
    },
    {
     "name": "stdout",
     "output_type": "stream",
     "text": [
      "Epoch 169: train=9.73966, val=10.4525, took 30.845 s\n",
      "  Validation Found 48503 of 54504, added 1002 (eff 88.99%) (0.1 FP/event)\n"
     ]
    },
    {
     "data": {
      "application/vnd.jupyter.widget-view+json": {
       "model_id": "",
       "version_major": 2,
       "version_minor": 0
      },
      "text/plain": [
       "HBox(children=(FloatProgress(value=0.0, description='Training', layout=Layout(flex='2'), max=1250.0, style=Pro…"
      ]
     },
     "metadata": {},
     "output_type": "display_data"
    },
    {
     "name": "stdout",
     "output_type": "stream",
     "text": [
      "Epoch 170: train=9.73939, val=10.3889, took 31.026 s\n",
      "  Validation Found 48670 of 54504, added 996 (eff 89.30%) (0.0997 FP/event)\n"
     ]
    },
    {
     "data": {
      "application/vnd.jupyter.widget-view+json": {
       "model_id": "",
       "version_major": 2,
       "version_minor": 0
      },
      "text/plain": [
       "HBox(children=(FloatProgress(value=0.0, description='Training', layout=Layout(flex='2'), max=1250.0, style=Pro…"
      ]
     },
     "metadata": {},
     "output_type": "display_data"
    },
    {
     "name": "stdout",
     "output_type": "stream",
     "text": [
      "Epoch 171: train=9.74363, val=10.5237, took 30.871 s\n",
      "  Validation Found 48458 of 54504, added 1010 (eff 88.91%) (0.101 FP/event)\n"
     ]
    },
    {
     "data": {
      "application/vnd.jupyter.widget-view+json": {
       "model_id": "",
       "version_major": 2,
       "version_minor": 0
      },
      "text/plain": [
       "HBox(children=(FloatProgress(value=0.0, description='Training', layout=Layout(flex='2'), max=1250.0, style=Pro…"
      ]
     },
     "metadata": {},
     "output_type": "display_data"
    },
    {
     "name": "stdout",
     "output_type": "stream",
     "text": [
      "Epoch 172: train=9.74046, val=10.4441, took 30.792 s\n",
      "  Validation Found 48762 of 54504, added 1103 (eff 89.46%) (0.11 FP/event)\n"
     ]
    },
    {
     "data": {
      "application/vnd.jupyter.widget-view+json": {
       "model_id": "",
       "version_major": 2,
       "version_minor": 0
      },
      "text/plain": [
       "HBox(children=(FloatProgress(value=0.0, description='Training', layout=Layout(flex='2'), max=1250.0, style=Pro…"
      ]
     },
     "metadata": {},
     "output_type": "display_data"
    },
    {
     "name": "stdout",
     "output_type": "stream",
     "text": [
      "Epoch 173: train=9.72453, val=10.7439, took 30.922 s\n",
      "  Validation Found 47862 of 54504, added 770 (eff 87.81%) (0.0771 FP/event)\n"
     ]
    },
    {
     "data": {
      "application/vnd.jupyter.widget-view+json": {
       "model_id": "",
       "version_major": 2,
       "version_minor": 0
      },
      "text/plain": [
       "HBox(children=(FloatProgress(value=0.0, description='Training', layout=Layout(flex='2'), max=1250.0, style=Pro…"
      ]
     },
     "metadata": {},
     "output_type": "display_data"
    },
    {
     "name": "stdout",
     "output_type": "stream",
     "text": [
      "Epoch 174: train=9.7182, val=10.3771, took 30.764 s\n",
      "  Validation Found 48607 of 54504, added 914 (eff 89.18%) (0.0915 FP/event)\n"
     ]
    },
    {
     "data": {
      "application/vnd.jupyter.widget-view+json": {
       "model_id": "",
       "version_major": 2,
       "version_minor": 0
      },
      "text/plain": [
       "HBox(children=(FloatProgress(value=0.0, description='Training', layout=Layout(flex='2'), max=1250.0, style=Pro…"
      ]
     },
     "metadata": {},
     "output_type": "display_data"
    },
    {
     "name": "stdout",
     "output_type": "stream",
     "text": [
      "Epoch 175: train=9.71108, val=10.3131, took 30.96 s\n",
      "  Validation Found 48901 of 54504, added 1127 (eff 89.72%) (0.113 FP/event)\n"
     ]
    },
    {
     "data": {
      "application/vnd.jupyter.widget-view+json": {
       "model_id": "",
       "version_major": 2,
       "version_minor": 0
      },
      "text/plain": [
       "HBox(children=(FloatProgress(value=0.0, description='Training', layout=Layout(flex='2'), max=1250.0, style=Pro…"
      ]
     },
     "metadata": {},
     "output_type": "display_data"
    },
    {
     "name": "stdout",
     "output_type": "stream",
     "text": [
      "Epoch 176: train=9.69427, val=10.482, took 30.849 s\n",
      "  Validation Found 48730 of 54504, added 1040 (eff 89.41%) (0.104 FP/event)\n"
     ]
    },
    {
     "data": {
      "application/vnd.jupyter.widget-view+json": {
       "model_id": "",
       "version_major": 2,
       "version_minor": 0
      },
      "text/plain": [
       "HBox(children=(FloatProgress(value=0.0, description='Training', layout=Layout(flex='2'), max=1250.0, style=Pro…"
      ]
     },
     "metadata": {},
     "output_type": "display_data"
    },
    {
     "name": "stdout",
     "output_type": "stream",
     "text": [
      "Epoch 177: train=9.69926, val=10.5558, took 30.751 s\n",
      "  Validation Found 48129 of 54504, added 808 (eff 88.30%) (0.0809 FP/event)\n"
     ]
    },
    {
     "data": {
      "application/vnd.jupyter.widget-view+json": {
       "model_id": "",
       "version_major": 2,
       "version_minor": 0
      },
      "text/plain": [
       "HBox(children=(FloatProgress(value=0.0, description='Training', layout=Layout(flex='2'), max=1250.0, style=Pro…"
      ]
     },
     "metadata": {},
     "output_type": "display_data"
    },
    {
     "name": "stdout",
     "output_type": "stream",
     "text": [
      "Epoch 178: train=9.69952, val=10.4715, took 30.879 s\n",
      "  Validation Found 48455 of 54504, added 907 (eff 88.90%) (0.0908 FP/event)\n"
     ]
    },
    {
     "data": {
      "application/vnd.jupyter.widget-view+json": {
       "model_id": "",
       "version_major": 2,
       "version_minor": 0
      },
      "text/plain": [
       "HBox(children=(FloatProgress(value=0.0, description='Training', layout=Layout(flex='2'), max=1250.0, style=Pro…"
      ]
     },
     "metadata": {},
     "output_type": "display_data"
    },
    {
     "name": "stdout",
     "output_type": "stream",
     "text": [
      "Epoch 179: train=9.70127, val=10.4008, took 30.838 s\n",
      "  Validation Found 48369 of 54504, added 955 (eff 88.74%) (0.0956 FP/event)\n"
     ]
    },
    {
     "data": {
      "application/vnd.jupyter.widget-view+json": {
       "model_id": "",
       "version_major": 2,
       "version_minor": 0
      },
      "text/plain": [
       "HBox(children=(FloatProgress(value=0.0, description='Training', layout=Layout(flex='2'), max=1250.0, style=Pro…"
      ]
     },
     "metadata": {},
     "output_type": "display_data"
    },
    {
     "name": "stdout",
     "output_type": "stream",
     "text": [
      "Epoch 180: train=9.69342, val=10.4754, took 30.727 s\n",
      "  Validation Found 48404 of 54504, added 923 (eff 88.81%) (0.0924 FP/event)\n"
     ]
    },
    {
     "data": {
      "application/vnd.jupyter.widget-view+json": {
       "model_id": "",
       "version_major": 2,
       "version_minor": 0
      },
      "text/plain": [
       "HBox(children=(FloatProgress(value=0.0, description='Training', layout=Layout(flex='2'), max=1250.0, style=Pro…"
      ]
     },
     "metadata": {},
     "output_type": "display_data"
    },
    {
     "name": "stdout",
     "output_type": "stream",
     "text": [
      "Epoch 181: train=9.70074, val=10.4418, took 30.664 s\n",
      "  Validation Found 48462 of 54504, added 972 (eff 88.91%) (0.0973 FP/event)\n"
     ]
    },
    {
     "data": {
      "application/vnd.jupyter.widget-view+json": {
       "model_id": "",
       "version_major": 2,
       "version_minor": 0
      },
      "text/plain": [
       "HBox(children=(FloatProgress(value=0.0, description='Training', layout=Layout(flex='2'), max=1250.0, style=Pro…"
      ]
     },
     "metadata": {},
     "output_type": "display_data"
    },
    {
     "name": "stdout",
     "output_type": "stream",
     "text": [
      "Epoch 182: train=9.69004, val=10.8996, took 30.936 s\n",
      "  Validation Found 47688 of 54504, added 723 (eff 87.49%) (0.0724 FP/event)\n"
     ]
    },
    {
     "data": {
      "application/vnd.jupyter.widget-view+json": {
       "model_id": "",
       "version_major": 2,
       "version_minor": 0
      },
      "text/plain": [
       "HBox(children=(FloatProgress(value=0.0, description='Training', layout=Layout(flex='2'), max=1250.0, style=Pro…"
      ]
     },
     "metadata": {},
     "output_type": "display_data"
    },
    {
     "name": "stdout",
     "output_type": "stream",
     "text": [
      "Epoch 183: train=9.68527, val=10.6132, took 30.899 s\n",
      "  Validation Found 48005 of 54504, added 822 (eff 88.08%) (0.0823 FP/event)\n"
     ]
    },
    {
     "data": {
      "application/vnd.jupyter.widget-view+json": {
       "model_id": "",
       "version_major": 2,
       "version_minor": 0
      },
      "text/plain": [
       "HBox(children=(FloatProgress(value=0.0, description='Training', layout=Layout(flex='2'), max=1250.0, style=Pro…"
      ]
     },
     "metadata": {},
     "output_type": "display_data"
    },
    {
     "name": "stdout",
     "output_type": "stream",
     "text": [
      "Epoch 184: train=9.68046, val=10.5214, took 31.106 s\n",
      "  Validation Found 48358 of 54504, added 849 (eff 88.72%) (0.085 FP/event)\n"
     ]
    },
    {
     "data": {
      "application/vnd.jupyter.widget-view+json": {
       "model_id": "",
       "version_major": 2,
       "version_minor": 0
      },
      "text/plain": [
       "HBox(children=(FloatProgress(value=0.0, description='Training', layout=Layout(flex='2'), max=1250.0, style=Pro…"
      ]
     },
     "metadata": {},
     "output_type": "display_data"
    },
    {
     "name": "stdout",
     "output_type": "stream",
     "text": [
      "Epoch 185: train=9.67905, val=10.4884, took 30.691 s\n",
      "  Validation Found 48448 of 54504, added 914 (eff 88.89%) (0.0915 FP/event)\n"
     ]
    },
    {
     "data": {
      "application/vnd.jupyter.widget-view+json": {
       "model_id": "",
       "version_major": 2,
       "version_minor": 0
      },
      "text/plain": [
       "HBox(children=(FloatProgress(value=0.0, description='Training', layout=Layout(flex='2'), max=1250.0, style=Pro…"
      ]
     },
     "metadata": {},
     "output_type": "display_data"
    },
    {
     "name": "stdout",
     "output_type": "stream",
     "text": [
      "Epoch 186: train=9.67824, val=10.2989, took 31.511 s\n",
      "  Validation Found 48762 of 54504, added 1021 (eff 89.46%) (0.102 FP/event)\n"
     ]
    },
    {
     "data": {
      "application/vnd.jupyter.widget-view+json": {
       "model_id": "",
       "version_major": 2,
       "version_minor": 0
      },
      "text/plain": [
       "HBox(children=(FloatProgress(value=0.0, description='Training', layout=Layout(flex='2'), max=1250.0, style=Pro…"
      ]
     },
     "metadata": {},
     "output_type": "display_data"
    },
    {
     "name": "stdout",
     "output_type": "stream",
     "text": [
      "Epoch 187: train=9.67338, val=10.4331, took 31.275 s\n",
      "  Validation Found 48499 of 54504, added 941 (eff 88.98%) (0.0942 FP/event)\n"
     ]
    },
    {
     "data": {
      "application/vnd.jupyter.widget-view+json": {
       "model_id": "",
       "version_major": 2,
       "version_minor": 0
      },
      "text/plain": [
       "HBox(children=(FloatProgress(value=0.0, description='Training', layout=Layout(flex='2'), max=1250.0, style=Pro…"
      ]
     },
     "metadata": {},
     "output_type": "display_data"
    },
    {
     "name": "stdout",
     "output_type": "stream",
     "text": [
      "Epoch 188: train=9.66912, val=10.5314, took 31.003 s\n",
      "  Validation Found 48411 of 54504, added 982 (eff 88.82%) (0.0983 FP/event)\n"
     ]
    },
    {
     "data": {
      "application/vnd.jupyter.widget-view+json": {
       "model_id": "",
       "version_major": 2,
       "version_minor": 0
      },
      "text/plain": [
       "HBox(children=(FloatProgress(value=0.0, description='Training', layout=Layout(flex='2'), max=1250.0, style=Pro…"
      ]
     },
     "metadata": {},
     "output_type": "display_data"
    },
    {
     "name": "stdout",
     "output_type": "stream",
     "text": [
      "Epoch 189: train=9.66762, val=10.5026, took 30.877 s\n",
      "  Validation Found 48346 of 54504, added 860 (eff 88.70%) (0.0861 FP/event)\n"
     ]
    },
    {
     "data": {
      "application/vnd.jupyter.widget-view+json": {
       "model_id": "",
       "version_major": 2,
       "version_minor": 0
      },
      "text/plain": [
       "HBox(children=(FloatProgress(value=0.0, description='Training', layout=Layout(flex='2'), max=1250.0, style=Pro…"
      ]
     },
     "metadata": {},
     "output_type": "display_data"
    },
    {
     "name": "stdout",
     "output_type": "stream",
     "text": [
      "Epoch 190: train=9.66293, val=10.5252, took 30.866 s\n",
      "  Validation Found 48323 of 54504, added 869 (eff 88.66%) (0.087 FP/event)\n"
     ]
    },
    {
     "data": {
      "application/vnd.jupyter.widget-view+json": {
       "model_id": "",
       "version_major": 2,
       "version_minor": 0
      },
      "text/plain": [
       "HBox(children=(FloatProgress(value=0.0, description='Training', layout=Layout(flex='2'), max=1250.0, style=Pro…"
      ]
     },
     "metadata": {},
     "output_type": "display_data"
    },
    {
     "name": "stdout",
     "output_type": "stream",
     "text": [
      "Epoch 191: train=9.66082, val=10.4206, took 30.764 s\n",
      "  Validation Found 48463 of 54504, added 940 (eff 88.92%) (0.0941 FP/event)\n"
     ]
    },
    {
     "data": {
      "application/vnd.jupyter.widget-view+json": {
       "model_id": "",
       "version_major": 2,
       "version_minor": 0
      },
      "text/plain": [
       "HBox(children=(FloatProgress(value=0.0, description='Training', layout=Layout(flex='2'), max=1250.0, style=Pro…"
      ]
     },
     "metadata": {},
     "output_type": "display_data"
    },
    {
     "name": "stdout",
     "output_type": "stream",
     "text": [
      "Epoch 192: train=9.65967, val=10.5636, took 30.787 s\n",
      "  Validation Found 48265 of 54504, added 885 (eff 88.55%) (0.0886 FP/event)\n"
     ]
    },
    {
     "data": {
      "application/vnd.jupyter.widget-view+json": {
       "model_id": "",
       "version_major": 2,
       "version_minor": 0
      },
      "text/plain": [
       "HBox(children=(FloatProgress(value=0.0, description='Training', layout=Layout(flex='2'), max=1250.0, style=Pro…"
      ]
     },
     "metadata": {},
     "output_type": "display_data"
    },
    {
     "name": "stdout",
     "output_type": "stream",
     "text": [
      "Epoch 193: train=9.65999, val=10.4966, took 30.802 s\n",
      "  Validation Found 48557 of 54504, added 1028 (eff 89.09%) (0.103 FP/event)\n"
     ]
    },
    {
     "data": {
      "application/vnd.jupyter.widget-view+json": {
       "model_id": "",
       "version_major": 2,
       "version_minor": 0
      },
      "text/plain": [
       "HBox(children=(FloatProgress(value=0.0, description='Training', layout=Layout(flex='2'), max=1250.0, style=Pro…"
      ]
     },
     "metadata": {},
     "output_type": "display_data"
    },
    {
     "name": "stdout",
     "output_type": "stream",
     "text": [
      "Epoch 194: train=9.64659, val=10.3503, took 31.117 s\n",
      "  Validation Found 48842 of 54504, added 1104 (eff 89.61%) (0.111 FP/event)\n"
     ]
    },
    {
     "data": {
      "application/vnd.jupyter.widget-view+json": {
       "model_id": "",
       "version_major": 2,
       "version_minor": 0
      },
      "text/plain": [
       "HBox(children=(FloatProgress(value=0.0, description='Training', layout=Layout(flex='2'), max=1250.0, style=Pro…"
      ]
     },
     "metadata": {},
     "output_type": "display_data"
    },
    {
     "name": "stdout",
     "output_type": "stream",
     "text": [
      "Epoch 195: train=9.64901, val=10.4124, took 30.971 s\n",
      "  Validation Found 48555 of 54504, added 947 (eff 89.09%) (0.0948 FP/event)\n"
     ]
    },
    {
     "data": {
      "application/vnd.jupyter.widget-view+json": {
       "model_id": "",
       "version_major": 2,
       "version_minor": 0
      },
      "text/plain": [
       "HBox(children=(FloatProgress(value=0.0, description='Training', layout=Layout(flex='2'), max=1250.0, style=Pro…"
      ]
     },
     "metadata": {},
     "output_type": "display_data"
    },
    {
     "name": "stdout",
     "output_type": "stream",
     "text": [
      "Epoch 196: train=9.65248, val=10.4961, took 31.16 s\n",
      "  Validation Found 48227 of 54504, added 862 (eff 88.48%) (0.0863 FP/event)\n"
     ]
    },
    {
     "data": {
      "application/vnd.jupyter.widget-view+json": {
       "model_id": "",
       "version_major": 2,
       "version_minor": 0
      },
      "text/plain": [
       "HBox(children=(FloatProgress(value=0.0, description='Training', layout=Layout(flex='2'), max=1250.0, style=Pro…"
      ]
     },
     "metadata": {},
     "output_type": "display_data"
    },
    {
     "name": "stdout",
     "output_type": "stream",
     "text": [
      "Epoch 197: train=9.64671, val=10.3929, took 30.954 s\n",
      "  Validation Found 48875 of 54504, added 1128 (eff 89.67%) (0.113 FP/event)\n"
     ]
    },
    {
     "data": {
      "application/vnd.jupyter.widget-view+json": {
       "model_id": "",
       "version_major": 2,
       "version_minor": 0
      },
      "text/plain": [
       "HBox(children=(FloatProgress(value=0.0, description='Training', layout=Layout(flex='2'), max=1250.0, style=Pro…"
      ]
     },
     "metadata": {},
     "output_type": "display_data"
    },
    {
     "name": "stdout",
     "output_type": "stream",
     "text": [
      "Epoch 198: train=9.64053, val=10.5543, took 31.233 s\n",
      "  Validation Found 48014 of 54504, added 782 (eff 88.09%) (0.0783 FP/event)\n"
     ]
    },
    {
     "data": {
      "application/vnd.jupyter.widget-view+json": {
       "model_id": "",
       "version_major": 2,
       "version_minor": 0
      },
      "text/plain": [
       "HBox(children=(FloatProgress(value=0.0, description='Training', layout=Layout(flex='2'), max=1250.0, style=Pro…"
      ]
     },
     "metadata": {},
     "output_type": "display_data"
    },
    {
     "name": "stdout",
     "output_type": "stream",
     "text": [
      "Epoch 199: train=9.63599, val=10.4281, took 30.838 s\n",
      "  Validation Found 48497 of 54504, added 896 (eff 88.98%) (0.0897 FP/event)\n"
     ]
    },
    {
     "data": {
      "application/vnd.jupyter.widget-view+json": {
       "model_id": "",
       "version_major": 2,
       "version_minor": 0
      },
      "text/plain": [
       "HBox(children=(FloatProgress(value=0.0, description='Training', layout=Layout(flex='2'), max=1250.0, style=Pro…"
      ]
     },
     "metadata": {},
     "output_type": "display_data"
    },
    {
     "name": "stdout",
     "output_type": "stream",
     "text": [
      "Epoch 200: train=9.62994, val=10.3914, took 31.541 s\n",
      "  Validation Found 48670 of 54504, added 979 (eff 89.30%) (0.098 FP/event)\n"
     ]
    },
    {
     "data": {
      "application/vnd.jupyter.widget-view+json": {
       "model_id": "",
       "version_major": 2,
       "version_minor": 0
      },
      "text/plain": [
       "HBox(children=(FloatProgress(value=0.0, description='Training', layout=Layout(flex='2'), max=1250.0, style=Pro…"
      ]
     },
     "metadata": {},
     "output_type": "display_data"
    },
    {
     "name": "stdout",
     "output_type": "stream",
     "text": [
      "Epoch 201: train=9.64214, val=10.4975, took 30.886 s\n",
      "  Validation Found 48455 of 54504, added 1006 (eff 88.90%) (0.101 FP/event)\n"
     ]
    },
    {
     "data": {
      "application/vnd.jupyter.widget-view+json": {
       "model_id": "",
       "version_major": 2,
       "version_minor": 0
      },
      "text/plain": [
       "HBox(children=(FloatProgress(value=0.0, description='Training', layout=Layout(flex='2'), max=1250.0, style=Pro…"
      ]
     },
     "metadata": {},
     "output_type": "display_data"
    },
    {
     "name": "stdout",
     "output_type": "stream",
     "text": [
      "Epoch 202: train=9.62112, val=10.4952, took 30.82 s\n",
      "  Validation Found 48730 of 54504, added 1057 (eff 89.41%) (0.106 FP/event)\n"
     ]
    },
    {
     "data": {
      "application/vnd.jupyter.widget-view+json": {
       "model_id": "",
       "version_major": 2,
       "version_minor": 0
      },
      "text/plain": [
       "HBox(children=(FloatProgress(value=0.0, description='Training', layout=Layout(flex='2'), max=1250.0, style=Pro…"
      ]
     },
     "metadata": {},
     "output_type": "display_data"
    },
    {
     "name": "stdout",
     "output_type": "stream",
     "text": [
      "Epoch 203: train=9.62219, val=10.7072, took 30.87 s\n",
      "  Validation Found 47887 of 54504, added 782 (eff 87.86%) (0.0783 FP/event)\n"
     ]
    },
    {
     "data": {
      "application/vnd.jupyter.widget-view+json": {
       "model_id": "",
       "version_major": 2,
       "version_minor": 0
      },
      "text/plain": [
       "HBox(children=(FloatProgress(value=0.0, description='Training', layout=Layout(flex='2'), max=1250.0, style=Pro…"
      ]
     },
     "metadata": {},
     "output_type": "display_data"
    },
    {
     "name": "stdout",
     "output_type": "stream",
     "text": [
      "Epoch 204: train=9.61363, val=10.4155, took 30.923 s\n",
      "  Validation Found 48427 of 54504, added 957 (eff 88.85%) (0.0958 FP/event)\n"
     ]
    },
    {
     "data": {
      "application/vnd.jupyter.widget-view+json": {
       "model_id": "",
       "version_major": 2,
       "version_minor": 0
      },
      "text/plain": [
       "HBox(children=(FloatProgress(value=0.0, description='Training', layout=Layout(flex='2'), max=1250.0, style=Pro…"
      ]
     },
     "metadata": {},
     "output_type": "display_data"
    },
    {
     "name": "stdout",
     "output_type": "stream",
     "text": [
      "Epoch 205: train=9.6235, val=10.4619, took 31.074 s\n",
      "  Validation Found 48450 of 54504, added 961 (eff 88.89%) (0.0962 FP/event)\n"
     ]
    },
    {
     "data": {
      "application/vnd.jupyter.widget-view+json": {
       "model_id": "",
       "version_major": 2,
       "version_minor": 0
      },
      "text/plain": [
       "HBox(children=(FloatProgress(value=0.0, description='Training', layout=Layout(flex='2'), max=1250.0, style=Pro…"
      ]
     },
     "metadata": {},
     "output_type": "display_data"
    },
    {
     "name": "stdout",
     "output_type": "stream",
     "text": [
      "Epoch 206: train=9.61935, val=10.3616, took 31.094 s\n",
      "  Validation Found 48672 of 54504, added 1030 (eff 89.30%) (0.103 FP/event)\n"
     ]
    },
    {
     "data": {
      "application/vnd.jupyter.widget-view+json": {
       "model_id": "",
       "version_major": 2,
       "version_minor": 0
      },
      "text/plain": [
       "HBox(children=(FloatProgress(value=0.0, description='Training', layout=Layout(flex='2'), max=1250.0, style=Pro…"
      ]
     },
     "metadata": {},
     "output_type": "display_data"
    },
    {
     "name": "stdout",
     "output_type": "stream",
     "text": [
      "Epoch 207: train=9.62045, val=10.5369, took 31.054 s\n",
      "  Validation Found 48473 of 54504, added 1064 (eff 88.93%) (0.107 FP/event)\n"
     ]
    },
    {
     "data": {
      "application/vnd.jupyter.widget-view+json": {
       "model_id": "",
       "version_major": 2,
       "version_minor": 0
      },
      "text/plain": [
       "HBox(children=(FloatProgress(value=0.0, description='Training', layout=Layout(flex='2'), max=1250.0, style=Pro…"
      ]
     },
     "metadata": {},
     "output_type": "display_data"
    },
    {
     "name": "stdout",
     "output_type": "stream",
     "text": [
      "Epoch 208: train=9.60779, val=10.5321, took 31.114 s\n",
      "  Validation Found 48335 of 54504, added 844 (eff 88.68%) (0.0845 FP/event)\n"
     ]
    },
    {
     "data": {
      "application/vnd.jupyter.widget-view+json": {
       "model_id": "",
       "version_major": 2,
       "version_minor": 0
      },
      "text/plain": [
       "HBox(children=(FloatProgress(value=0.0, description='Training', layout=Layout(flex='2'), max=1250.0, style=Pro…"
      ]
     },
     "metadata": {},
     "output_type": "display_data"
    },
    {
     "name": "stdout",
     "output_type": "stream",
     "text": [
      "Epoch 209: train=9.60988, val=10.5175, took 30.996 s\n",
      "  Validation Found 48131 of 54504, added 818 (eff 88.31%) (0.0819 FP/event)\n"
     ]
    },
    {
     "data": {
      "application/vnd.jupyter.widget-view+json": {
       "model_id": "",
       "version_major": 2,
       "version_minor": 0
      },
      "text/plain": [
       "HBox(children=(FloatProgress(value=0.0, description='Training', layout=Layout(flex='2'), max=1250.0, style=Pro…"
      ]
     },
     "metadata": {},
     "output_type": "display_data"
    },
    {
     "name": "stdout",
     "output_type": "stream",
     "text": [
      "Epoch 210: train=9.61903, val=10.4353, took 31.277 s\n",
      "  Validation Found 48440 of 54504, added 901 (eff 88.87%) (0.0902 FP/event)\n"
     ]
    },
    {
     "data": {
      "application/vnd.jupyter.widget-view+json": {
       "model_id": "",
       "version_major": 2,
       "version_minor": 0
      },
      "text/plain": [
       "HBox(children=(FloatProgress(value=0.0, description='Training', layout=Layout(flex='2'), max=1250.0, style=Pro…"
      ]
     },
     "metadata": {},
     "output_type": "display_data"
    },
    {
     "name": "stdout",
     "output_type": "stream",
     "text": [
      "Epoch 211: train=9.59861, val=10.4262, took 31.106 s\n",
      "  Validation Found 48575 of 54504, added 958 (eff 89.12%) (0.0959 FP/event)\n"
     ]
    },
    {
     "data": {
      "application/vnd.jupyter.widget-view+json": {
       "model_id": "",
       "version_major": 2,
       "version_minor": 0
      },
      "text/plain": [
       "HBox(children=(FloatProgress(value=0.0, description='Training', layout=Layout(flex='2'), max=1250.0, style=Pro…"
      ]
     },
     "metadata": {},
     "output_type": "display_data"
    },
    {
     "name": "stdout",
     "output_type": "stream",
     "text": [
      "Epoch 212: train=9.59655, val=10.494, took 31.012 s\n",
      "  Validation Found 48109 of 54504, added 784 (eff 88.27%) (0.0785 FP/event)\n"
     ]
    },
    {
     "data": {
      "application/vnd.jupyter.widget-view+json": {
       "model_id": "",
       "version_major": 2,
       "version_minor": 0
      },
      "text/plain": [
       "HBox(children=(FloatProgress(value=0.0, description='Training', layout=Layout(flex='2'), max=1250.0, style=Pro…"
      ]
     },
     "metadata": {},
     "output_type": "display_data"
    },
    {
     "name": "stdout",
     "output_type": "stream",
     "text": [
      "Epoch 213: train=9.60361, val=10.4361, took 30.914 s\n",
      "  Validation Found 48309 of 54504, added 845 (eff 88.63%) (0.0846 FP/event)\n"
     ]
    },
    {
     "data": {
      "application/vnd.jupyter.widget-view+json": {
       "model_id": "",
       "version_major": 2,
       "version_minor": 0
      },
      "text/plain": [
       "HBox(children=(FloatProgress(value=0.0, description='Training', layout=Layout(flex='2'), max=1250.0, style=Pro…"
      ]
     },
     "metadata": {},
     "output_type": "display_data"
    },
    {
     "name": "stdout",
     "output_type": "stream",
     "text": [
      "Epoch 214: train=9.59327, val=10.5086, took 31.092 s\n",
      "  Validation Found 48209 of 54504, added 782 (eff 88.45%) (0.0783 FP/event)\n"
     ]
    },
    {
     "data": {
      "application/vnd.jupyter.widget-view+json": {
       "model_id": "",
       "version_major": 2,
       "version_minor": 0
      },
      "text/plain": [
       "HBox(children=(FloatProgress(value=0.0, description='Training', layout=Layout(flex='2'), max=1250.0, style=Pro…"
      ]
     },
     "metadata": {},
     "output_type": "display_data"
    },
    {
     "name": "stdout",
     "output_type": "stream",
     "text": [
      "Epoch 215: train=9.59174, val=10.3967, took 31.109 s\n",
      "  Validation Found 48428 of 54504, added 907 (eff 88.85%) (0.0908 FP/event)\n"
     ]
    },
    {
     "data": {
      "application/vnd.jupyter.widget-view+json": {
       "model_id": "",
       "version_major": 2,
       "version_minor": 0
      },
      "text/plain": [
       "HBox(children=(FloatProgress(value=0.0, description='Training', layout=Layout(flex='2'), max=1250.0, style=Pro…"
      ]
     },
     "metadata": {},
     "output_type": "display_data"
    },
    {
     "name": "stdout",
     "output_type": "stream",
     "text": [
      "Epoch 216: train=9.58851, val=10.5945, took 31.002 s\n",
      "  Validation Found 48050 of 54504, added 830 (eff 88.16%) (0.0831 FP/event)\n"
     ]
    },
    {
     "data": {
      "application/vnd.jupyter.widget-view+json": {
       "model_id": "",
       "version_major": 2,
       "version_minor": 0
      },
      "text/plain": [
       "HBox(children=(FloatProgress(value=0.0, description='Training', layout=Layout(flex='2'), max=1250.0, style=Pro…"
      ]
     },
     "metadata": {},
     "output_type": "display_data"
    },
    {
     "name": "stdout",
     "output_type": "stream",
     "text": [
      "Epoch 217: train=9.58082, val=10.7888, took 31.078 s\n",
      "  Validation Found 47469 of 54504, added 597 (eff 87.09%) (0.0598 FP/event)\n"
     ]
    },
    {
     "data": {
      "application/vnd.jupyter.widget-view+json": {
       "model_id": "",
       "version_major": 2,
       "version_minor": 0
      },
      "text/plain": [
       "HBox(children=(FloatProgress(value=0.0, description='Training', layout=Layout(flex='2'), max=1250.0, style=Pro…"
      ]
     },
     "metadata": {},
     "output_type": "display_data"
    },
    {
     "name": "stdout",
     "output_type": "stream",
     "text": [
      "Epoch 218: train=9.58438, val=10.4034, took 31.887 s\n",
      "  Validation Found 48546 of 54504, added 924 (eff 89.07%) (0.0925 FP/event)\n"
     ]
    },
    {
     "data": {
      "application/vnd.jupyter.widget-view+json": {
       "model_id": "",
       "version_major": 2,
       "version_minor": 0
      },
      "text/plain": [
       "HBox(children=(FloatProgress(value=0.0, description='Training', layout=Layout(flex='2'), max=1250.0, style=Pro…"
      ]
     },
     "metadata": {},
     "output_type": "display_data"
    },
    {
     "name": "stdout",
     "output_type": "stream",
     "text": [
      "Epoch 219: train=9.57978, val=10.4999, took 31.476 s\n",
      "  Validation Found 48314 of 54504, added 850 (eff 88.64%) (0.0851 FP/event)\n",
      "\n"
     ]
    },
    {
     "data": {
      "application/javascript": [
       "/* Put everything inside the global mpl namespace */\n",
       "window.mpl = {};\n",
       "\n",
       "\n",
       "mpl.get_websocket_type = function() {\n",
       "    if (typeof(WebSocket) !== 'undefined') {\n",
       "        return WebSocket;\n",
       "    } else if (typeof(MozWebSocket) !== 'undefined') {\n",
       "        return MozWebSocket;\n",
       "    } else {\n",
       "        alert('Your browser does not have WebSocket support. ' +\n",
       "              'Please try Chrome, Safari or Firefox ≥ 6. ' +\n",
       "              'Firefox 4 and 5 are also supported but you ' +\n",
       "              'have to enable WebSockets in about:config.');\n",
       "    };\n",
       "}\n",
       "\n",
       "mpl.figure = function(figure_id, websocket, ondownload, parent_element) {\n",
       "    this.id = figure_id;\n",
       "\n",
       "    this.ws = websocket;\n",
       "\n",
       "    this.supports_binary = (this.ws.binaryType != undefined);\n",
       "\n",
       "    if (!this.supports_binary) {\n",
       "        var warnings = document.getElementById(\"mpl-warnings\");\n",
       "        if (warnings) {\n",
       "            warnings.style.display = 'block';\n",
       "            warnings.textContent = (\n",
       "                \"This browser does not support binary websocket messages. \" +\n",
       "                    \"Performance may be slow.\");\n",
       "        }\n",
       "    }\n",
       "\n",
       "    this.imageObj = new Image();\n",
       "\n",
       "    this.context = undefined;\n",
       "    this.message = undefined;\n",
       "    this.canvas = undefined;\n",
       "    this.rubberband_canvas = undefined;\n",
       "    this.rubberband_context = undefined;\n",
       "    this.format_dropdown = undefined;\n",
       "\n",
       "    this.image_mode = 'full';\n",
       "\n",
       "    this.root = $('<div/>');\n",
       "    this._root_extra_style(this.root)\n",
       "    this.root.attr('style', 'display: inline-block');\n",
       "\n",
       "    $(parent_element).append(this.root);\n",
       "\n",
       "    this._init_header(this);\n",
       "    this._init_canvas(this);\n",
       "    this._init_toolbar(this);\n",
       "\n",
       "    var fig = this;\n",
       "\n",
       "    this.waiting = false;\n",
       "\n",
       "    this.ws.onopen =  function () {\n",
       "            fig.send_message(\"supports_binary\", {value: fig.supports_binary});\n",
       "            fig.send_message(\"send_image_mode\", {});\n",
       "            if (mpl.ratio != 1) {\n",
       "                fig.send_message(\"set_dpi_ratio\", {'dpi_ratio': mpl.ratio});\n",
       "            }\n",
       "            fig.send_message(\"refresh\", {});\n",
       "        }\n",
       "\n",
       "    this.imageObj.onload = function() {\n",
       "            if (fig.image_mode == 'full') {\n",
       "                // Full images could contain transparency (where diff images\n",
       "                // almost always do), so we need to clear the canvas so that\n",
       "                // there is no ghosting.\n",
       "                fig.context.clearRect(0, 0, fig.canvas.width, fig.canvas.height);\n",
       "            }\n",
       "            fig.context.drawImage(fig.imageObj, 0, 0);\n",
       "        };\n",
       "\n",
       "    this.imageObj.onunload = function() {\n",
       "        fig.ws.close();\n",
       "    }\n",
       "\n",
       "    this.ws.onmessage = this._make_on_message_function(this);\n",
       "\n",
       "    this.ondownload = ondownload;\n",
       "}\n",
       "\n",
       "mpl.figure.prototype._init_header = function() {\n",
       "    var titlebar = $(\n",
       "        '<div class=\"ui-dialog-titlebar ui-widget-header ui-corner-all ' +\n",
       "        'ui-helper-clearfix\"/>');\n",
       "    var titletext = $(\n",
       "        '<div class=\"ui-dialog-title\" style=\"width: 100%; ' +\n",
       "        'text-align: center; padding: 3px;\"/>');\n",
       "    titlebar.append(titletext)\n",
       "    this.root.append(titlebar);\n",
       "    this.header = titletext[0];\n",
       "}\n",
       "\n",
       "\n",
       "\n",
       "mpl.figure.prototype._canvas_extra_style = function(canvas_div) {\n",
       "\n",
       "}\n",
       "\n",
       "\n",
       "mpl.figure.prototype._root_extra_style = function(canvas_div) {\n",
       "\n",
       "}\n",
       "\n",
       "mpl.figure.prototype._init_canvas = function() {\n",
       "    var fig = this;\n",
       "\n",
       "    var canvas_div = $('<div/>');\n",
       "\n",
       "    canvas_div.attr('style', 'position: relative; clear: both; outline: 0');\n",
       "\n",
       "    function canvas_keyboard_event(event) {\n",
       "        return fig.key_event(event, event['data']);\n",
       "    }\n",
       "\n",
       "    canvas_div.keydown('key_press', canvas_keyboard_event);\n",
       "    canvas_div.keyup('key_release', canvas_keyboard_event);\n",
       "    this.canvas_div = canvas_div\n",
       "    this._canvas_extra_style(canvas_div)\n",
       "    this.root.append(canvas_div);\n",
       "\n",
       "    var canvas = $('<canvas/>');\n",
       "    canvas.addClass('mpl-canvas');\n",
       "    canvas.attr('style', \"left: 0; top: 0; z-index: 0; outline: 0\")\n",
       "\n",
       "    this.canvas = canvas[0];\n",
       "    this.context = canvas[0].getContext(\"2d\");\n",
       "\n",
       "    var backingStore = this.context.backingStorePixelRatio ||\n",
       "\tthis.context.webkitBackingStorePixelRatio ||\n",
       "\tthis.context.mozBackingStorePixelRatio ||\n",
       "\tthis.context.msBackingStorePixelRatio ||\n",
       "\tthis.context.oBackingStorePixelRatio ||\n",
       "\tthis.context.backingStorePixelRatio || 1;\n",
       "\n",
       "    mpl.ratio = (window.devicePixelRatio || 1) / backingStore;\n",
       "\n",
       "    var rubberband = $('<canvas/>');\n",
       "    rubberband.attr('style', \"position: absolute; left: 0; top: 0; z-index: 1;\")\n",
       "\n",
       "    var pass_mouse_events = true;\n",
       "\n",
       "    canvas_div.resizable({\n",
       "        start: function(event, ui) {\n",
       "            pass_mouse_events = false;\n",
       "        },\n",
       "        resize: function(event, ui) {\n",
       "            fig.request_resize(ui.size.width, ui.size.height);\n",
       "        },\n",
       "        stop: function(event, ui) {\n",
       "            pass_mouse_events = true;\n",
       "            fig.request_resize(ui.size.width, ui.size.height);\n",
       "        },\n",
       "    });\n",
       "\n",
       "    function mouse_event_fn(event) {\n",
       "        if (pass_mouse_events)\n",
       "            return fig.mouse_event(event, event['data']);\n",
       "    }\n",
       "\n",
       "    rubberband.mousedown('button_press', mouse_event_fn);\n",
       "    rubberband.mouseup('button_release', mouse_event_fn);\n",
       "    // Throttle sequential mouse events to 1 every 20ms.\n",
       "    rubberband.mousemove('motion_notify', mouse_event_fn);\n",
       "\n",
       "    rubberband.mouseenter('figure_enter', mouse_event_fn);\n",
       "    rubberband.mouseleave('figure_leave', mouse_event_fn);\n",
       "\n",
       "    canvas_div.on(\"wheel\", function (event) {\n",
       "        event = event.originalEvent;\n",
       "        event['data'] = 'scroll'\n",
       "        if (event.deltaY < 0) {\n",
       "            event.step = 1;\n",
       "        } else {\n",
       "            event.step = -1;\n",
       "        }\n",
       "        mouse_event_fn(event);\n",
       "    });\n",
       "\n",
       "    canvas_div.append(canvas);\n",
       "    canvas_div.append(rubberband);\n",
       "\n",
       "    this.rubberband = rubberband;\n",
       "    this.rubberband_canvas = rubberband[0];\n",
       "    this.rubberband_context = rubberband[0].getContext(\"2d\");\n",
       "    this.rubberband_context.strokeStyle = \"#000000\";\n",
       "\n",
       "    this._resize_canvas = function(width, height) {\n",
       "        // Keep the size of the canvas, canvas container, and rubber band\n",
       "        // canvas in synch.\n",
       "        canvas_div.css('width', width)\n",
       "        canvas_div.css('height', height)\n",
       "\n",
       "        canvas.attr('width', width * mpl.ratio);\n",
       "        canvas.attr('height', height * mpl.ratio);\n",
       "        canvas.attr('style', 'width: ' + width + 'px; height: ' + height + 'px;');\n",
       "\n",
       "        rubberband.attr('width', width);\n",
       "        rubberband.attr('height', height);\n",
       "    }\n",
       "\n",
       "    // Set the figure to an initial 600x600px, this will subsequently be updated\n",
       "    // upon first draw.\n",
       "    this._resize_canvas(600, 600);\n",
       "\n",
       "    // Disable right mouse context menu.\n",
       "    $(this.rubberband_canvas).bind(\"contextmenu\",function(e){\n",
       "        return false;\n",
       "    });\n",
       "\n",
       "    function set_focus () {\n",
       "        canvas.focus();\n",
       "        canvas_div.focus();\n",
       "    }\n",
       "\n",
       "    window.setTimeout(set_focus, 100);\n",
       "}\n",
       "\n",
       "mpl.figure.prototype._init_toolbar = function() {\n",
       "    var fig = this;\n",
       "\n",
       "    var nav_element = $('<div/>');\n",
       "    nav_element.attr('style', 'width: 100%');\n",
       "    this.root.append(nav_element);\n",
       "\n",
       "    // Define a callback function for later on.\n",
       "    function toolbar_event(event) {\n",
       "        return fig.toolbar_button_onclick(event['data']);\n",
       "    }\n",
       "    function toolbar_mouse_event(event) {\n",
       "        return fig.toolbar_button_onmouseover(event['data']);\n",
       "    }\n",
       "\n",
       "    for(var toolbar_ind in mpl.toolbar_items) {\n",
       "        var name = mpl.toolbar_items[toolbar_ind][0];\n",
       "        var tooltip = mpl.toolbar_items[toolbar_ind][1];\n",
       "        var image = mpl.toolbar_items[toolbar_ind][2];\n",
       "        var method_name = mpl.toolbar_items[toolbar_ind][3];\n",
       "\n",
       "        if (!name) {\n",
       "            // put a spacer in here.\n",
       "            continue;\n",
       "        }\n",
       "        var button = $('<button/>');\n",
       "        button.addClass('ui-button ui-widget ui-state-default ui-corner-all ' +\n",
       "                        'ui-button-icon-only');\n",
       "        button.attr('role', 'button');\n",
       "        button.attr('aria-disabled', 'false');\n",
       "        button.click(method_name, toolbar_event);\n",
       "        button.mouseover(tooltip, toolbar_mouse_event);\n",
       "\n",
       "        var icon_img = $('<span/>');\n",
       "        icon_img.addClass('ui-button-icon-primary ui-icon');\n",
       "        icon_img.addClass(image);\n",
       "        icon_img.addClass('ui-corner-all');\n",
       "\n",
       "        var tooltip_span = $('<span/>');\n",
       "        tooltip_span.addClass('ui-button-text');\n",
       "        tooltip_span.html(tooltip);\n",
       "\n",
       "        button.append(icon_img);\n",
       "        button.append(tooltip_span);\n",
       "\n",
       "        nav_element.append(button);\n",
       "    }\n",
       "\n",
       "    var fmt_picker_span = $('<span/>');\n",
       "\n",
       "    var fmt_picker = $('<select/>');\n",
       "    fmt_picker.addClass('mpl-toolbar-option ui-widget ui-widget-content');\n",
       "    fmt_picker_span.append(fmt_picker);\n",
       "    nav_element.append(fmt_picker_span);\n",
       "    this.format_dropdown = fmt_picker[0];\n",
       "\n",
       "    for (var ind in mpl.extensions) {\n",
       "        var fmt = mpl.extensions[ind];\n",
       "        var option = $(\n",
       "            '<option/>', {selected: fmt === mpl.default_extension}).html(fmt);\n",
       "        fmt_picker.append(option);\n",
       "    }\n",
       "\n",
       "    // Add hover states to the ui-buttons\n",
       "    $( \".ui-button\" ).hover(\n",
       "        function() { $(this).addClass(\"ui-state-hover\");},\n",
       "        function() { $(this).removeClass(\"ui-state-hover\");}\n",
       "    );\n",
       "\n",
       "    var status_bar = $('<span class=\"mpl-message\"/>');\n",
       "    nav_element.append(status_bar);\n",
       "    this.message = status_bar[0];\n",
       "}\n",
       "\n",
       "mpl.figure.prototype.request_resize = function(x_pixels, y_pixels) {\n",
       "    // Request matplotlib to resize the figure. Matplotlib will then trigger a resize in the client,\n",
       "    // which will in turn request a refresh of the image.\n",
       "    this.send_message('resize', {'width': x_pixels, 'height': y_pixels});\n",
       "}\n",
       "\n",
       "mpl.figure.prototype.send_message = function(type, properties) {\n",
       "    properties['type'] = type;\n",
       "    properties['figure_id'] = this.id;\n",
       "    this.ws.send(JSON.stringify(properties));\n",
       "}\n",
       "\n",
       "mpl.figure.prototype.send_draw_message = function() {\n",
       "    if (!this.waiting) {\n",
       "        this.waiting = true;\n",
       "        this.ws.send(JSON.stringify({type: \"draw\", figure_id: this.id}));\n",
       "    }\n",
       "}\n",
       "\n",
       "\n",
       "mpl.figure.prototype.handle_save = function(fig, msg) {\n",
       "    var format_dropdown = fig.format_dropdown;\n",
       "    var format = format_dropdown.options[format_dropdown.selectedIndex].value;\n",
       "    fig.ondownload(fig, format);\n",
       "}\n",
       "\n",
       "\n",
       "mpl.figure.prototype.handle_resize = function(fig, msg) {\n",
       "    var size = msg['size'];\n",
       "    if (size[0] != fig.canvas.width || size[1] != fig.canvas.height) {\n",
       "        fig._resize_canvas(size[0], size[1]);\n",
       "        fig.send_message(\"refresh\", {});\n",
       "    };\n",
       "}\n",
       "\n",
       "mpl.figure.prototype.handle_rubberband = function(fig, msg) {\n",
       "    var x0 = msg['x0'] / mpl.ratio;\n",
       "    var y0 = (fig.canvas.height - msg['y0']) / mpl.ratio;\n",
       "    var x1 = msg['x1'] / mpl.ratio;\n",
       "    var y1 = (fig.canvas.height - msg['y1']) / mpl.ratio;\n",
       "    x0 = Math.floor(x0) + 0.5;\n",
       "    y0 = Math.floor(y0) + 0.5;\n",
       "    x1 = Math.floor(x1) + 0.5;\n",
       "    y1 = Math.floor(y1) + 0.5;\n",
       "    var min_x = Math.min(x0, x1);\n",
       "    var min_y = Math.min(y0, y1);\n",
       "    var width = Math.abs(x1 - x0);\n",
       "    var height = Math.abs(y1 - y0);\n",
       "\n",
       "    fig.rubberband_context.clearRect(\n",
       "        0, 0, fig.canvas.width / mpl.ratio, fig.canvas.height / mpl.ratio);\n",
       "\n",
       "    fig.rubberband_context.strokeRect(min_x, min_y, width, height);\n",
       "}\n",
       "\n",
       "mpl.figure.prototype.handle_figure_label = function(fig, msg) {\n",
       "    // Updates the figure title.\n",
       "    fig.header.textContent = msg['label'];\n",
       "}\n",
       "\n",
       "mpl.figure.prototype.handle_cursor = function(fig, msg) {\n",
       "    var cursor = msg['cursor'];\n",
       "    switch(cursor)\n",
       "    {\n",
       "    case 0:\n",
       "        cursor = 'pointer';\n",
       "        break;\n",
       "    case 1:\n",
       "        cursor = 'default';\n",
       "        break;\n",
       "    case 2:\n",
       "        cursor = 'crosshair';\n",
       "        break;\n",
       "    case 3:\n",
       "        cursor = 'move';\n",
       "        break;\n",
       "    }\n",
       "    fig.rubberband_canvas.style.cursor = cursor;\n",
       "}\n",
       "\n",
       "mpl.figure.prototype.handle_message = function(fig, msg) {\n",
       "    fig.message.textContent = msg['message'];\n",
       "}\n",
       "\n",
       "mpl.figure.prototype.handle_draw = function(fig, msg) {\n",
       "    // Request the server to send over a new figure.\n",
       "    fig.send_draw_message();\n",
       "}\n",
       "\n",
       "mpl.figure.prototype.handle_image_mode = function(fig, msg) {\n",
       "    fig.image_mode = msg['mode'];\n",
       "}\n",
       "\n",
       "mpl.figure.prototype.updated_canvas_event = function() {\n",
       "    // Called whenever the canvas gets updated.\n",
       "    this.send_message(\"ack\", {});\n",
       "}\n",
       "\n",
       "// A function to construct a web socket function for onmessage handling.\n",
       "// Called in the figure constructor.\n",
       "mpl.figure.prototype._make_on_message_function = function(fig) {\n",
       "    return function socket_on_message(evt) {\n",
       "        if (evt.data instanceof Blob) {\n",
       "            /* FIXME: We get \"Resource interpreted as Image but\n",
       "             * transferred with MIME type text/plain:\" errors on\n",
       "             * Chrome.  But how to set the MIME type?  It doesn't seem\n",
       "             * to be part of the websocket stream */\n",
       "            evt.data.type = \"image/png\";\n",
       "\n",
       "            /* Free the memory for the previous frames */\n",
       "            if (fig.imageObj.src) {\n",
       "                (window.URL || window.webkitURL).revokeObjectURL(\n",
       "                    fig.imageObj.src);\n",
       "            }\n",
       "\n",
       "            fig.imageObj.src = (window.URL || window.webkitURL).createObjectURL(\n",
       "                evt.data);\n",
       "            fig.updated_canvas_event();\n",
       "            fig.waiting = false;\n",
       "            return;\n",
       "        }\n",
       "        else if (typeof evt.data === 'string' && evt.data.slice(0, 21) == \"data:image/png;base64\") {\n",
       "            fig.imageObj.src = evt.data;\n",
       "            fig.updated_canvas_event();\n",
       "            fig.waiting = false;\n",
       "            return;\n",
       "        }\n",
       "\n",
       "        var msg = JSON.parse(evt.data);\n",
       "        var msg_type = msg['type'];\n",
       "\n",
       "        // Call the  \"handle_{type}\" callback, which takes\n",
       "        // the figure and JSON message as its only arguments.\n",
       "        try {\n",
       "            var callback = fig[\"handle_\" + msg_type];\n",
       "        } catch (e) {\n",
       "            console.log(\"No handler for the '\" + msg_type + \"' message type: \", msg);\n",
       "            return;\n",
       "        }\n",
       "\n",
       "        if (callback) {\n",
       "            try {\n",
       "                // console.log(\"Handling '\" + msg_type + \"' message: \", msg);\n",
       "                callback(fig, msg);\n",
       "            } catch (e) {\n",
       "                console.log(\"Exception inside the 'handler_\" + msg_type + \"' callback:\", e, e.stack, msg);\n",
       "            }\n",
       "        }\n",
       "    };\n",
       "}\n",
       "\n",
       "// from http://stackoverflow.com/questions/1114465/getting-mouse-location-in-canvas\n",
       "mpl.findpos = function(e) {\n",
       "    //this section is from http://www.quirksmode.org/js/events_properties.html\n",
       "    var targ;\n",
       "    if (!e)\n",
       "        e = window.event;\n",
       "    if (e.target)\n",
       "        targ = e.target;\n",
       "    else if (e.srcElement)\n",
       "        targ = e.srcElement;\n",
       "    if (targ.nodeType == 3) // defeat Safari bug\n",
       "        targ = targ.parentNode;\n",
       "\n",
       "    // jQuery normalizes the pageX and pageY\n",
       "    // pageX,Y are the mouse positions relative to the document\n",
       "    // offset() returns the position of the element relative to the document\n",
       "    var x = e.pageX - $(targ).offset().left;\n",
       "    var y = e.pageY - $(targ).offset().top;\n",
       "\n",
       "    return {\"x\": x, \"y\": y};\n",
       "};\n",
       "\n",
       "/*\n",
       " * return a copy of an object with only non-object keys\n",
       " * we need this to avoid circular references\n",
       " * http://stackoverflow.com/a/24161582/3208463\n",
       " */\n",
       "function simpleKeys (original) {\n",
       "  return Object.keys(original).reduce(function (obj, key) {\n",
       "    if (typeof original[key] !== 'object')\n",
       "        obj[key] = original[key]\n",
       "    return obj;\n",
       "  }, {});\n",
       "}\n",
       "\n",
       "mpl.figure.prototype.mouse_event = function(event, name) {\n",
       "    var canvas_pos = mpl.findpos(event)\n",
       "\n",
       "    if (name === 'button_press')\n",
       "    {\n",
       "        this.canvas.focus();\n",
       "        this.canvas_div.focus();\n",
       "    }\n",
       "\n",
       "    var x = canvas_pos.x * mpl.ratio;\n",
       "    var y = canvas_pos.y * mpl.ratio;\n",
       "\n",
       "    this.send_message(name, {x: x, y: y, button: event.button,\n",
       "                             step: event.step,\n",
       "                             guiEvent: simpleKeys(event)});\n",
       "\n",
       "    /* This prevents the web browser from automatically changing to\n",
       "     * the text insertion cursor when the button is pressed.  We want\n",
       "     * to control all of the cursor setting manually through the\n",
       "     * 'cursor' event from matplotlib */\n",
       "    event.preventDefault();\n",
       "    return false;\n",
       "}\n",
       "\n",
       "mpl.figure.prototype._key_event_extra = function(event, name) {\n",
       "    // Handle any extra behaviour associated with a key event\n",
       "}\n",
       "\n",
       "mpl.figure.prototype.key_event = function(event, name) {\n",
       "\n",
       "    // Prevent repeat events\n",
       "    if (name == 'key_press')\n",
       "    {\n",
       "        if (event.which === this._key)\n",
       "            return;\n",
       "        else\n",
       "            this._key = event.which;\n",
       "    }\n",
       "    if (name == 'key_release')\n",
       "        this._key = null;\n",
       "\n",
       "    var value = '';\n",
       "    if (event.ctrlKey && event.which != 17)\n",
       "        value += \"ctrl+\";\n",
       "    if (event.altKey && event.which != 18)\n",
       "        value += \"alt+\";\n",
       "    if (event.shiftKey && event.which != 16)\n",
       "        value += \"shift+\";\n",
       "\n",
       "    value += 'k';\n",
       "    value += event.which.toString();\n",
       "\n",
       "    this._key_event_extra(event, name);\n",
       "\n",
       "    this.send_message(name, {key: value,\n",
       "                             guiEvent: simpleKeys(event)});\n",
       "    return false;\n",
       "}\n",
       "\n",
       "mpl.figure.prototype.toolbar_button_onclick = function(name) {\n",
       "    if (name == 'download') {\n",
       "        this.handle_save(this, null);\n",
       "    } else {\n",
       "        this.send_message(\"toolbar_button\", {name: name});\n",
       "    }\n",
       "};\n",
       "\n",
       "mpl.figure.prototype.toolbar_button_onmouseover = function(tooltip) {\n",
       "    this.message.textContent = tooltip;\n",
       "};\n",
       "mpl.toolbar_items = [[\"Home\", \"Reset original view\", \"fa fa-home icon-home\", \"home\"], [\"Back\", \"Back to previous view\", \"fa fa-arrow-left icon-arrow-left\", \"back\"], [\"Forward\", \"Forward to next view\", \"fa fa-arrow-right icon-arrow-right\", \"forward\"], [\"\", \"\", \"\", \"\"], [\"Pan\", \"Pan axes with left mouse, zoom with right\", \"fa fa-arrows icon-move\", \"pan\"], [\"Zoom\", \"Zoom to rectangle\", \"fa fa-square-o icon-check-empty\", \"zoom\"], [\"\", \"\", \"\", \"\"], [\"Download\", \"Download plot\", \"fa fa-floppy-o icon-save\", \"download\"]];\n",
       "\n",
       "mpl.extensions = [\"eps\", \"jpeg\", \"pdf\", \"png\", \"ps\", \"raw\", \"svg\", \"tif\"];\n",
       "\n",
       "mpl.default_extension = \"png\";var comm_websocket_adapter = function(comm) {\n",
       "    // Create a \"websocket\"-like object which calls the given IPython comm\n",
       "    // object with the appropriate methods. Currently this is a non binary\n",
       "    // socket, so there is still some room for performance tuning.\n",
       "    var ws = {};\n",
       "\n",
       "    ws.close = function() {\n",
       "        comm.close()\n",
       "    };\n",
       "    ws.send = function(m) {\n",
       "        //console.log('sending', m);\n",
       "        comm.send(m);\n",
       "    };\n",
       "    // Register the callback with on_msg.\n",
       "    comm.on_msg(function(msg) {\n",
       "        //console.log('receiving', msg['content']['data'], msg);\n",
       "        // Pass the mpl event to the overridden (by mpl) onmessage function.\n",
       "        ws.onmessage(msg['content']['data'])\n",
       "    });\n",
       "    return ws;\n",
       "}\n",
       "\n",
       "mpl.mpl_figure_comm = function(comm, msg) {\n",
       "    // This is the function which gets called when the mpl process\n",
       "    // starts-up an IPython Comm through the \"matplotlib\" channel.\n",
       "\n",
       "    var id = msg.content.data.id;\n",
       "    // Get hold of the div created by the display call when the Comm\n",
       "    // socket was opened in Python.\n",
       "    var element = $(\"#\" + id);\n",
       "    var ws_proxy = comm_websocket_adapter(comm)\n",
       "\n",
       "    function ondownload(figure, format) {\n",
       "        window.open(figure.imageObj.src);\n",
       "    }\n",
       "\n",
       "    var fig = new mpl.figure(id, ws_proxy,\n",
       "                           ondownload,\n",
       "                           element.get(0));\n",
       "\n",
       "    // Call onopen now - mpl needs it, as it is assuming we've passed it a real\n",
       "    // web socket which is closed, not our websocket->open comm proxy.\n",
       "    ws_proxy.onopen();\n",
       "\n",
       "    fig.parent_element = element.get(0);\n",
       "    fig.cell_info = mpl.find_output_cell(\"<div id='\" + id + \"'></div>\");\n",
       "    if (!fig.cell_info) {\n",
       "        console.error(\"Failed to find cell for figure\", id, fig);\n",
       "        return;\n",
       "    }\n",
       "\n",
       "    var output_index = fig.cell_info[2]\n",
       "    var cell = fig.cell_info[0];\n",
       "\n",
       "};\n",
       "\n",
       "mpl.figure.prototype.handle_close = function(fig, msg) {\n",
       "    var width = fig.canvas.width/mpl.ratio\n",
       "    fig.root.unbind('remove')\n",
       "\n",
       "    // Update the output cell to use the data from the current canvas.\n",
       "    fig.push_to_output();\n",
       "    var dataURL = fig.canvas.toDataURL();\n",
       "    // Re-enable the keyboard manager in IPython - without this line, in FF,\n",
       "    // the notebook keyboard shortcuts fail.\n",
       "    IPython.keyboard_manager.enable()\n",
       "    $(fig.parent_element).html('<img src=\"' + dataURL + '\" width=\"' + width + '\">');\n",
       "    fig.close_ws(fig, msg);\n",
       "}\n",
       "\n",
       "mpl.figure.prototype.close_ws = function(fig, msg){\n",
       "    fig.send_message('closing', msg);\n",
       "    // fig.ws.close()\n",
       "}\n",
       "\n",
       "mpl.figure.prototype.push_to_output = function(remove_interactive) {\n",
       "    // Turn the data on the canvas into data in the output cell.\n",
       "    var width = this.canvas.width/mpl.ratio\n",
       "    var dataURL = this.canvas.toDataURL();\n",
       "    this.cell_info[1]['text/html'] = '<img src=\"' + dataURL + '\" width=\"' + width + '\">';\n",
       "}\n",
       "\n",
       "mpl.figure.prototype.updated_canvas_event = function() {\n",
       "    // Tell IPython that the notebook contents must change.\n",
       "    IPython.notebook.set_dirty(true);\n",
       "    this.send_message(\"ack\", {});\n",
       "    var fig = this;\n",
       "    // Wait a second, then push the new image to the DOM so\n",
       "    // that it is saved nicely (might be nice to debounce this).\n",
       "    setTimeout(function () { fig.push_to_output() }, 1000);\n",
       "}\n",
       "\n",
       "mpl.figure.prototype._init_toolbar = function() {\n",
       "    var fig = this;\n",
       "\n",
       "    var nav_element = $('<div/>');\n",
       "    nav_element.attr('style', 'width: 100%');\n",
       "    this.root.append(nav_element);\n",
       "\n",
       "    // Define a callback function for later on.\n",
       "    function toolbar_event(event) {\n",
       "        return fig.toolbar_button_onclick(event['data']);\n",
       "    }\n",
       "    function toolbar_mouse_event(event) {\n",
       "        return fig.toolbar_button_onmouseover(event['data']);\n",
       "    }\n",
       "\n",
       "    for(var toolbar_ind in mpl.toolbar_items){\n",
       "        var name = mpl.toolbar_items[toolbar_ind][0];\n",
       "        var tooltip = mpl.toolbar_items[toolbar_ind][1];\n",
       "        var image = mpl.toolbar_items[toolbar_ind][2];\n",
       "        var method_name = mpl.toolbar_items[toolbar_ind][3];\n",
       "\n",
       "        if (!name) { continue; };\n",
       "\n",
       "        var button = $('<button class=\"btn btn-default\" href=\"#\" title=\"' + name + '\"><i class=\"fa ' + image + ' fa-lg\"></i></button>');\n",
       "        button.click(method_name, toolbar_event);\n",
       "        button.mouseover(tooltip, toolbar_mouse_event);\n",
       "        nav_element.append(button);\n",
       "    }\n",
       "\n",
       "    // Add the status bar.\n",
       "    var status_bar = $('<span class=\"mpl-message\" style=\"text-align:right; float: right;\"/>');\n",
       "    nav_element.append(status_bar);\n",
       "    this.message = status_bar[0];\n",
       "\n",
       "    // Add the close button to the window.\n",
       "    var buttongrp = $('<div class=\"btn-group inline pull-right\"></div>');\n",
       "    var button = $('<button class=\"btn btn-mini btn-primary\" href=\"#\" title=\"Stop Interaction\"><i class=\"fa fa-power-off icon-remove icon-large\"></i></button>');\n",
       "    button.click(function (evt) { fig.handle_close(fig, {}); } );\n",
       "    button.mouseover('Stop Interaction', toolbar_mouse_event);\n",
       "    buttongrp.append(button);\n",
       "    var titlebar = this.root.find($('.ui-dialog-titlebar'));\n",
       "    titlebar.prepend(buttongrp);\n",
       "}\n",
       "\n",
       "mpl.figure.prototype._root_extra_style = function(el){\n",
       "    var fig = this\n",
       "    el.on(\"remove\", function(){\n",
       "\tfig.close_ws(fig, {});\n",
       "    });\n",
       "}\n",
       "\n",
       "mpl.figure.prototype._canvas_extra_style = function(el){\n",
       "    // this is important to make the div 'focusable\n",
       "    el.attr('tabindex', 0)\n",
       "    // reach out to IPython and tell the keyboard manager to turn it's self\n",
       "    // off when our div gets focus\n",
       "\n",
       "    // location in version 3\n",
       "    if (IPython.notebook.keyboard_manager) {\n",
       "        IPython.notebook.keyboard_manager.register_events(el);\n",
       "    }\n",
       "    else {\n",
       "        // location in version 2\n",
       "        IPython.keyboard_manager.register_events(el);\n",
       "    }\n",
       "\n",
       "}\n",
       "\n",
       "mpl.figure.prototype._key_event_extra = function(event, name) {\n",
       "    var manager = IPython.notebook.keyboard_manager;\n",
       "    if (!manager)\n",
       "        manager = IPython.keyboard_manager;\n",
       "\n",
       "    // Check for shift+enter\n",
       "    if (event.shiftKey && event.which == 13) {\n",
       "        this.canvas_div.blur();\n",
       "        // select the cell after this one\n",
       "        var index = IPython.notebook.find_cell_index(this.cell_info[0]);\n",
       "        IPython.notebook.select(index + 1);\n",
       "    }\n",
       "}\n",
       "\n",
       "mpl.figure.prototype.handle_save = function(fig, msg) {\n",
       "    fig.ondownload(fig, null);\n",
       "}\n",
       "\n",
       "\n",
       "mpl.find_output_cell = function(html_output) {\n",
       "    // Return the cell and output element which can be found *uniquely* in the notebook.\n",
       "    // Note - this is a bit hacky, but it is done because the \"notebook_saving.Notebook\"\n",
       "    // IPython event is triggered only after the cells have been serialised, which for\n",
       "    // our purposes (turning an active figure into a static one), is too late.\n",
       "    var cells = IPython.notebook.get_cells();\n",
       "    var ncells = cells.length;\n",
       "    for (var i=0; i<ncells; i++) {\n",
       "        var cell = cells[i];\n",
       "        if (cell.cell_type === 'code'){\n",
       "            for (var j=0; j<cell.output_area.outputs.length; j++) {\n",
       "                var data = cell.output_area.outputs[j];\n",
       "                if (data.data) {\n",
       "                    // IPython >= 3 moved mimebundle to data attribute of output\n",
       "                    data = data.data;\n",
       "                }\n",
       "                if (data['text/html'] == html_output) {\n",
       "                    return [cell, data, j];\n",
       "                }\n",
       "            }\n",
       "        }\n",
       "    }\n",
       "}\n",
       "\n",
       "// Register the function which deals with the matplotlib target/channel.\n",
       "// The kernel may be null if the page has been refreshed.\n",
       "if (IPython.notebook.kernel != null) {\n",
       "    IPython.notebook.kernel.comm_manager.register_target('matplotlib', mpl.mpl_figure_comm);\n",
       "}\n"
      ],
      "text/plain": [
       "<IPython.core.display.Javascript object>"
      ]
     },
     "metadata": {},
     "output_type": "display_data"
    },
    {
     "data": {
      "text/html": [
       "<img src=\"data:image/png;base64,iVBORw0KGgoAAAANSUhEUgAAA+gAAAH0CAYAAACuKActAAAgAElEQVR4XuxdCbxNVft+DJkyReY5UqYvQ4bIUAnVJ0SiUprnqKh/MxGhDEUJDUgRKc0lJfOnlBIJRcYMJfN43f/v2fuue/fZd5+z1z5nn3P3ufd9+/nFPWuvtfaz9t1nPet93+fNlZqamgoxQUAQEAQEAUFAEBAEBAFBQBAQBAQBQUAQyFIEcglBz1L8ZXBBQBAQBAQBQUAQEAQEAUFAEBAEBAFBwEBACLo8CIKAICAICAKCgCAgCAgCgoAgIAgIAoJAABAQgh6ARZApCAKCgCAgCAgCgoAgIAgIAoKAICAICAJC0OUZEAQEAUFAEBAEBAFBQBAQBAQBQUAQEAQCgIAQ9AAsgkxBEBAEBAFBQBAQBAQBQUAQEAQEAUFAEBCCLs+AICAICAKCgCAgCAgCgoAgIAgIAoKAIBAABISgB2ARZAqCgCAgCAgCgoAgIAgIAoKAICAICAKCgBB0eQYEAUFAEBAEBAFBQBAQBAQBQUAQEAQEgQAgIAQ9AIsgUxAEBAFBQBAQBAQBQUAQEAQEAUFAEBAEhKDLMyAICAKCgCAgCAgCgoAgIAgIAoKAICAIBAABIegBWASZgiAgCAgCgoAgIAgIAoKAICAICAKCgCAgBF2eAUFAEBAEBAFBQBAQBAQBQUAQEAQEAUEgAAgIQQ/AIsgUBAFBQBAQBAQBQUAQEAQEAUFAEBAEBAEh6PIMCAKCgCAgCAgCgoAgIAgIAoKAICAICAIBQEAIegAWQaYgCAgCgoAgIAgIAoKAICAICAKCgCAgCAhBl2dAEBAEBAFBQBAQBAQBQUAQEAQEAUFAEAgAAkLQA7AI9il06dIF8+fPxyWXXIJZs2a5zvDUqVPYvn07ihQpgly5crm2lwaCgCAgCAgCwUAgNTUVBw4cQPny5ZE7d+5gTCqgszh58iR+/PFHlClTRrAK6BrJtAQBQUAQcEKAXGXnzp1o0KAB8ubNKyC5ICAEPYCPyDfffIODBw9i8uTJWgR969atqFSpUgDvRKYkCAgCgoAgoIPAli1bULFiRZ2mObbNd999hyZNmuTY+5cbFwQEAUEg2RFYvnw5GjdunOy3Eff5C0GPO8TRDUAP+tixY7UI+r59+1C8eHFwg1e0aNHoBpSrBAFBQBAQBBKOwP79+40D1n///RfFihVL+PjJNODmzZtRpUoVcINXrly5ZJq6zFUQEAQEgRyNwI4dO4wD1j///BOVK1fO0Vjo3HwgCfrQoUMxe/ZsrF27FgULFkTz5s0xbNgwnHPOOY73VLVqVWPB7Xb33Xdj3LhxGDBgAAYOHBjyMUPk/vrrLx2MtNssWLAAI0aMwIoVK8AH8f3330fnzp0zXf/yyy8b7dimTp06GD16NFq2bBnSzgtB5waPGzsSdSHo2sslDQUBQUAQyHIE5P2tvwQqWkyiDfQxk5aCgCAgCAQBAXl/e1uFQBL0Dh06oEePHkYIBHPOHn/8caxatQpr1qzB6aefnukOd+/ejZSUlPSf//LLL7j00kvBUPE2bdoYBJ253F999VV6mzx58qBUqVJh0Vq8eLFx0nPaaaeFtOGhAb3VZcuWzXTtZ599Bl7XsGFDdO3a1ZGgz5gxA7169QJJeosWLfDqq69i0qRJxr1ZT5SEoHt7kKW1ICAICALJiIAQdP1Vkw2ePlbSUhAQBASBICEg729vqxFIgm6/BRLw0qVL49tvv0WrVq1c77Bv3774+OOPsX79ekM0jQT9gw8+wMqVK12vZQMKGZBkn3322Zg+fTpI5mnr1q1D69at8cADD+Dhhx+O2BfHdfKgN23a1Oj7lVdeSb++Vq1ahqedkQPKhKBrLZU0EgQEAUEgqREQgq6/fLLB08dKWgoCgoAgECQE5P3tbTWSgqBv2LDBIMv0otetWzfiHR4/ftxQw33wwQfx2GOPGW1J0BlSzjDw/PnzgyR5yJAhOOuss8L2RVV0Hgaw7dSpU7Fx40aDnF9xxRWG19vNnAg651aoUCHMnDkTVGpX1qdPH+PwgAcQXgg6w/f5h9EDPDyQEHe3VZHPBQFBQBAIFgJC0PXXQzZ4+lhJS0FAEBAEgoSAvL+9rUbgCTpL0HTq1Al79+7FwoULXe/u3XffxbXXXguKyZCo0xh6fvjwYdSsWdOQ+B88eLCR37569WqULFkybJ/sgyS9WbNmWLp0qREu/+abb2qVMnMi6CT9FSpUMMLgmVevjIcFVGz/7bffjB+1b98eP/zwAw4dOoQSJUoYnvhIioeywXN9LKSBIJBUCPDQ7cSJE0k1Z5msMwJMk1JRWE4t5P2t/+TIBk8fK2kpCAgCiUNAvrNhpARH+q6T97e35zHwBP2ee+7BJ598gkWLFmmVoCG5zZcvHz766KOwSJD4Vq9e3QhTp6c9klH4jZ5zettJoHVr90Ui6EuWLMEFF1yQPuyzzz5reOl5aBCNyQYvGtTkGkEgeAjwQJLilVT0Fss+CCjdEn4v2E3e3/rrLBs8faykpSAgCMQfAfnODsU40nedvL+9PY+BJuj33XefkTtOklytWjXXO6OSO4k0FeDpdY9kFJGrUaNGSC64vT297STn9Lyz/mq3bt3w0ksvuc6DDWINcdcaJK2RbPC8oCVtBYHgIsDKDiTn1NxgOowToQvu7GVmdgS4eWP01q5duwxxUafSYPL+1n9uZIOnj5W0FAQEgfgjIN/ZJsY633Xy/vb2PAaSoHOhSc4Z2k2xNOaf6xhzzZkfzhIskTzdx44dMzzot99+O5566inHrvfs2WOEtHNs5oxTcI7/pgL7888/7zqdSCJxjRo1MlTcldWuXds4ULCKxLkOYGkgGzwvaElbQSCYCCgtCZLzSKk3wZy9zCoSAn///bdB0nnYaw8BlPe3/rMjGzx9rKSlICAIxBcB+c7OjG+k7zp5f3t7HgNJ0Fm//O2338acOXNCap9T5I110ceOHWuQ93nz5qXfLZXX6WXv2bMnnnvuuRAU+vXrh44dOxplzLhJYg46BdkoOlelSpVMiLEvllhjrXSOw5B5GttfdNFFRtk3Krnb7eDBg6CgHa1BgwYYOXKk0Z555KqEmiqzNn78eCPMfcKECZg4caKRD+80F53llA2eDkrSRhAINgJHjx41xCirVq1qvOfEsg8CR44cwaZNm4zvqAIFCoTcmLy/9ddZNnj6WElLQUAQiC8C8p2dGd9I33Xy/vb2PAaSoIcL63zjjTfQu3dvQ5WdYm3c8Cj78ssvDXE15onTS2E11lRnmDy94qx9TtG3QYMGgZ7rcDZ37ly0bNky02aKauv0blWqVCnTpfT2k5Db7cYbbzTmq4ze8+HDh4OhMVSlHzVqlFb5uHBzlQ2et4deWgsCQURAfdk7kbggzlfmpI9ApLWV97c+jrLB08dKWgoCgkB8EZDv7Mz4RsJE3t/ensdAEnRvtyCtZYMnz4AgkPwIyJd98q9huDsQgu7P2soGzx8cpRdBQBCIHQH5zhaCHvtTFL4HIejxRDdBfQtBTxDQMowgEEcE5Ms+FFxqftSvXx+jR4+OI+qJ6VoIuj84C0H3B0fpRRAQBGJHIDt/Z7OaDDW3WHWK5dMoXuv0MzuK4kGP/blSPQhB9w/LLOspVoKecioVyzf+g10HjqJ0kQJoUq0E8uTOXA4oy25QBhYEcgACfn7ZJ/J32k1p3p7io7uU//zzj7ExKFKkiO4lgW2XjASdqVgjRowwUrHq1KljHJQw7SucjRs3ztCHYeoZNVeo1XLDDTeENH/vvffw5JNP4vfffzeEWllitEuXLtrrJgQ9DFQpKcDChcCOHUC5cgDXKU8ebVyloSDgJwI55XH06zs7K/BiuvDkyZMzLTtThT///HM88sgjRolr6nBR/4vitU4/E4Lu529OaF9C0OOHbcJ6joWgf/7LDgz8aA127DuaPt9yxQrg6Y610aFuuYTdgwwkCOR0BPz6sk/07zRP1ZVRBJOVMagFooyCd/yCV3bixAmDeOckSzaCrsRMSdJbtGhhVEeZNGkS1qxZky54al2/V155xdi8UfC0cePGWL58OW677TZD7JUCrbSlS5caBJ/6LyTl3PjxWVm0aBGaNm2q9TgIQXeAafZsoE8fYOvWjA8rVgTGjAGuukoLV2kkCPiFQE56HP34zs4qvEjQWUqa2l5Wy58/P8444wyjrPTpp58eQuKdfiYE3a/fnMz9CEGPH7YJ6zlags6N/F1v/YBU20yV7/yV6xsKSU/YKspAOR0BP77ss/p3mmKYffv2NcLhaEq5nISPZG/ZsmUgmbvyyitx7733YuHChaCnnN7Uxx57zKjCocwe4k51e5bGZKUMlr7kJuKJJ54wfhZ0SzaCTsLcsGFDY62U1apVC507d3YsB9q8eXODyNPjrozPwffff28QcNo111wDfld99tln6W06dOhgrOM777yjtYRC0G0wcXffrRuLEId+kCvtW3zWLCHpWk+WNPIDgWR7HGP1XMf6nZ2VeJGg83v6gw8+yLT0/K79888/03/OKDiKYNt/ZhW/Vo0lxN2P3ySzDyHo/mGZZT1FQ9AZAnvhsK9DPOfWG+DXe9liBbDokYsl3D3LVlYGzkkIOH2xpaam4siJFC0Y+DvdduS32Ln/mGN7/k6XKVoAcx9s5fo7XfC0PHALXXcaJBxB5xf+Cy+8YJSf5Ak974ukrG3btihatKgRSsfSlYsXL073pjoR9AMHDhge2Hbt2mHWrFlGGDVLVJ577rlaGGVVo2Qi6MePH0ehQoWMQxBr+HmfPn3AKiYsUWq3Ro0a4fLLLzfWRtmjjz5qrPmhQ4eMiAmGvXONrSVKWcGEofPWjZ+172PHjoF/lG3bts2ovrJlyxZUpJc4JxvZRdWqoZ7zkC/xXAAx2rhRwt01n5NYCZvmMHFv5sd9eO0j2R5HPzzXzt/ZwOHD7ktMvFhIats257Y8Y2O2ypo1QN687v0VKgSoczn31jAqYoUj6Lt37zbSk/jdPGbMGKPsK78X7D+zRsapMYWg66Cv10YIuh5OgW4VDUFf+vvf6Dlxmet9vXNbM1xQvaRrO2kgCAgCsSHg9MV2+PhJ1H7qi9g6juLqNc+0R6F8GrsCW9/hCDpJGAleJLviiitAL+3zzz9vNHMi6AyRnjp1qvE5SX7ZsmUxcOBA3HnnnVHcZeIuSSaCvn37dlSoUME4LKFnXNmQIUOMcEdr+oL6jNEPDJX8+OOPDc/7ihUrwPXctWsX2F+5cuWQL18+o9zotddem94nQ+BvuummEBJuXRWWVOX62k0IOoD58wGHsq6ZwPrmG/4yJe5hT/BIXolkuOn5Qdjsffs1Ny+Q+nEf0fQRy+OYaJz88lw7vdcPHQIKF/ayYv60PXgQOP10/b5I0N96661MpaSZqkSdEEZLFS9ePKREtNPP7CMKQddfA7eWQtDdEEqCz6Mh6HNWbkOf6Std725Mj/roVL+CaztpIAgIArEhkJ0JOsOcGQKtLCUlBc899xwY+k6vqPKU0mP77rvvGs2cCPo999yD/v37p/dz3nnnoWvXrkYuc5AtGQk61XsvuOCCdFgp6MbDkbVr12aC+siRI+Da8HMenJQpUwbXX389hg8fbuQ5UmCIBJ0E35rGMG3aNNxyyy0gPk4mHvQITzXTAiyHHWFbvv02YEkdCfLvide5RUMkncbwg7DZSeaePcADD0SWBvCTmLKvZ58Fnn468x16yXiIFotoH8do1jAW3Pz09Cc7Qed3rzWNiU9OiRIljD9C0L2+jfxvLwTdf0wT3mM0BF086AlfJhlQEIiIQKwh7qzE0PuN71xRfvOmxkalhkjmd4j7jz/+aJRMU0bixj/0rNerV88Qo2HOct68edNz4pwIOtvwjzL2yY0EPa1BtmQi6NGEuCvsKQBIQk6P+YQJEwzhOIZR5s6dO6oQd/uaSg66BZFYXJZB/mXRnFu0RNLevR+EzYlkOt2GlSjzc7+0/Tj+/feHD5fmWBzbLeMhFiyieRx11rBTp9ACBToHH07YK1I/bx4weLD7Q6YTeGJ9r+fPXwD0YjMj5+RJ04seLuR8715APTNuM6HWY4MGAHVV69Y1W3Oc48eBfPkyxvEzxJ1jCEF3W5n4fy4EPf4Yx32EaAi6ykH/a9/RTCJxxstcctDjvm4ygCBgRSBWwZkg/E6HC3G3E3Qqe9Or+tprrxkQnDp1yghv5x8lWiMEPet+PygSx7xyCvspY+53p06dHEXinGbaunVrI1SeYew0isRRQ+DTTz9Nb37ZZZcZYZQiEhfFWis2xSRWu0icLiOLYtggXBILkbTPPxpiae2DOnxXX62PCklbiRLAP//4o+0XjuSGm1Ek4hkLFl4fR501JE4FC4aXWVD36BYhoHuAYsWM58CjRkVeV/WdXaJENezcWcAgzcpInitVAs44I7QP/qquWgUcOQJceSWwa1f4McqUAebMyZCQKF8e4AGFzjhuT2SkHHReKwTdDcH4fy4EPf4Yx32EaAg6J6UUn/l3qwasqLjHfclkAEEgEwKxEvQg/E7rEnQKhbEm9vTp0w0V75EjRxqh7RdddJEQ9AD8bqgya+PHjzfC3OkNZwk1CvJVqVIFFIBjeOSUKVOM2a5bt84orUZiv3fvXmM9586da+SiUyCQxpD5Vq1aGbXPSfTnzJljqPBLmbUYFlzHBZkNS61FQyTDhUVHG5rNVZs508weYN9+md3THSmc243kOs0pUsbDtGnA9de730m4PtTjaOwp7eWBAJD00iPesqUpodC2rftYui2cIgQihf3r9Pvee5GLIPA7e/XqjUhNrQaggGOX1auHkvQDBwBVhfTrr4FHHgk/k2HDgIsv1pkpwHGKF3f2rjv1EK7MGqPYzjzzTCHoerDHtZUQ9LjCm5jOoyXoakMvddATs04yiiAQCQE/CHpW/07rEnSWVrv55psxb948QzGcpdI2b96Mffv2CUEPyK8JvedMQ9ixYwfq1q0LKq6TYNO4uWMJPZbeof3666+G+BsF5KjYzoOWYcOG4Zxzzgm5Gyrvk5T/8ccfRmk9kvWrPBBICXF3eDjIinr3BrjzV0bX3ejRSVtizS3H2CupdvKgVqgAsELjiRN6Ic+PPQZceqlJLvPkMUOUu3aN3y8rPd30skcKg9c9qLDO0smDrojs0KFAGDmIkBuN5IUnLnfcYXp6lREv6yFGyZJmKDhDtf02NTedsP9IY+ukBBw6dBRLlmzEGWeEJ+j0pNerlxHu/vffZmEFZSTpL7wQ6kmn5/zBB/XJOfui0nvu3Predb7DqQliN76zqTMiHnS/n0zv/QlB945Z4K6IhaDzZhga2+CZL7H/6EkM61oP3RpVci3DFDgQZEKCQJIj4BdBV7/TzEnfdeAoShcpYOSc58mtYmOSHKgknH4y5aAHGV4h6GFWh8KJrH5Qsybw6qsZLDLIixlmbk5k+swzTc+u8r4uXKgvYE+S61QqPlpomMc9cqRJoLZujbYX9+vobWb+caQS9yS5OjqBajTOfdOm0Kp7xJsHFSSObqZDWtkHeR/PjLLC6N3Pn9+/NY90GLFgwVEcPrwRZ54ZnqATA55TFiliomH1oCt8eHixcqV5qMFnnXItPNTwy6xefD5PTjnsfo0lKu5+ISl10P1DMgt7ipWgc+rNhszDX/uP4qN7L0S9isWy8G5kaEEgZyLgJ0HPmQgG966FoPuzNkLQw+BItsiE2caNgeXL/QHbx17cPOLqc+bb0vEfyawE2S39fsMGM/Q3nkTaR5hCuipWDNi3L3zvpUoBt90GDBmiP4OiRYGbb8446CDeXqMAWPXw8ccjE8gRI4CHH9afl58tv/rKPBzwa80jpQTMmnUUhQu7E/Rq1QBGDdB4YPTHH37esXtfyov/77/Ali36XvZoyLwQdPf10G0hHnRdpALczg+CfuGwr7F17xHMvrs5Gla2qVoE+N5laoJAdkFACHp2WcnM9yEE3Z+1FYIeBsf77gPGjgXOO890xXkwN/LsoSvHpk4ecYp/MXSbRO/994G77wZ279YbSQmC9etnBg1E8jBzHJ1S8XojZ69WDPFnOLuO59x+5yo94OyzgXLlMgds9HsgBd+PXohy2IEdKIeFaIlT8NEl7LAUyrt/yy2An0U96EFnWgOjNnbsCL1fLx50qrrz+u3bs+Y5osBcpLHtufJUmvdC5tVdCUH3b32FoPuHZZb15AdBv/j5+fhjzyHMuL0Zmp6VdtSXZXckAwsCOQ8BIejZd82FoPuztjmaoEdi0nfdBYwfD9SqBaxZow12NDWotTuHmacdKby8QAG9nGenMekNPnUqcx4zhbImTADoYabI1uefe5mxtI0GAUY1MBzfkJOYPRt/9+qDkocz4v+3oCL6YAzeBxu4Gw9WSLh1Dw+shzb03vtlfIZ47vXQQ8717Nu3d89BZ2545com2aXeQVYZ89P5+xLO6GWnnifnyNQJL2Te2qcQdP9WWAi6f1hmWU9+EPR2o77Fup0HMe3WpmhR48wsuxcZWBDIqQgIQc++Ky8E3Z+1zbEE3Y1J33orwJKFdIMxrlvD3ATgZ8wwSa7da6jRtdEkGoVx3b7d2pG879/v1ko+9xuBpf1no9nz3ZCammqU6lV2Ku1f3TBLi6QzTJ2h4N27682QmogUWou3LoCajToQGDjwKJo23QiWWQun4q53B8nVyi58JwQ9PusnBD0+uCa0Vz8I+uVjFmLNjv1486bGaHNO6YTOXwYTBAQBepKOYuPGjahWrRoK0LUklm0QEILuz1LmSILuxqRZiJvJxCx5R1cmXXU2szvfmzd3z822e9xCvKQay/nMM8DTT2s0lCbZAoHcSMHmXFVRPnVrCDm3kvStqIhq2Bgx3J0Cb4cOmSHlOukJrVsD8+YBzz6b+OetSpWjGD/ePQc9Wyyw7SaswndC0OOzwkLQ44NrQnv1g6B3GrcYP235F5NuOB9ta5dJ6PxlMEFAEBCCnp2fASHo/qxujiPobm5olXjbogUwfTpQujRStu8MyZelMvQDD4SG6FJR2lqVTWd1OBTzvSkS5pR7bD0EWL8+8WRJ5x6kTfwQaI35mI+LXAdog2/wLdqEbcf8dgq86ZbSq1LFFL7LisOgSpWO4tVXN6JUqSoACrnee3ZqYBW+s97X4cOH8eeffzo6GnLc+zvGBReCHiOAQbjcD4Le7ZUl+P7PvXjluoa4rF65INyWzEEQyFEIiAc9+y63EHR/1jbHbfB0C13Tjfjttzh+enFUP2OvbwrWbqumxMIoKDVtmr7Qm1u/8nn0CDAHn2rdibYeeAfv4FrXYXvibXxatGfYFAQeHjE9QffRdx0wjg3y5j2F119fj2rV8qBAgVIA8gGO8QNxnEQWdV26tHEemG5Mazh+/Dh2796NlJQUnH322cjNMByL5bj3d4xrIwQ9RgCDcLkfBL3HhKVY9sc/eLFnA1x5Xvkg3JbMQRDIUQgIQc++yy0E3Z+1zXEbPE03Yur55yPX99/jEAqhMA75A7b04hsCbgJdvg0E4I03gM2bY/coU/CNueC6ufy6HvR+jb4B2rQxcsbD2UcfmSXmqO6vO34sGFKUjjnv0VipUsdx1107cP75h0FBOJWfHk1fyXYNNSoK2QIHChUqhHLlyiEfE9VtluPe3zEuqBD0GAEMwuV+EPRer/0PC9fvwcju5+GqhhWDcFsyB0EgRyEgBD37LrcQdH/WNsdt8DTdiN+f1gznn1iGE8iLfMhCqWh/ljlQvVx4IbBoUXRTatcOePRRUxmbf0+EkSBSloApBz17mv+PxpjK4CVsnDnom1AVFbANuZGaaUgKxenkoEcz12ivIaH+8ktT3bxt22h7ISlPRbFiJ1G0aEqOIeh8zsqWNQ9x8qRV0MuTJw/y5s2LXGFOKXLc+zv6R8q4Ugh6jAAG4XI/CPrNb36Hr9fuwvCu/0H3xpWCcFsyB0EgRyGQkwl6mzZtUL9+fYwePdpY86pVq6Jv377Gn3DGTcD777+Pzp07x/Sc+NVPpEkIQY9pidIvzmkbvJTjKdhZqCrKpkQmPWtQCx3wpYETiVIqQkNL/UE/+/dC1fDbbwcuuyyjJBbFx2rWBG66KXNJNzdE7r8fGDkSePdd4Fr36G+37rQ+V7IEGzeaNeavvlrrskyNovEqd8FszEK3tOcwg6R7VXGPbsber2Ie9R9/mIcYVIJnxQIxbwiwTnyb8JICIZ3ltPe3NyQztxaCHiuCcbi+S5cumD9/Pi655BLM4lGoi/lB0G+f8j2+XLMTgzvXxfXNKHghJggIAolEwFeCfioF+HMJcHAnULgMUKU5kDvtmNvnm+rYsSOOHDmCr3iUbrOlS5eiefPmWLFiBRo2bBh2ZDtBZx7b6aefDobLhTOvxHrAgAH44IMPsHLlypAu//rrL5xxxhnIT/ngOJkQdH+AzWkbPKpTj2urSE8o7baSnrvxMtpingFyARzBMUgVCKcnrn59YNu2yLnyJUsCzKm31oymgv0tt5gCeV6N1952m543uksX4IMPTDG+WE0RJxYBuOMOgGKBiTCS9DHog0rIqIO+GZXQF6O1SqyFf9/7g4u1f2orMjqCGPFgRrfueiJwTJYx3n7bjNTQsZz2/tbBJFIbIeixIhiH67/55hscPHgQkydPThhBv2faD/hk1Q4M6FgbvVuwpqOYICAIJBIB3wj6mg+Bzx8B9m/PmH7R8kCHYUDtK32/JZLeq666yigRV4WSuha77bbb8P333+PHH3+MOK6doOtM0i+CrjNWrG2EoMeKoHl9TtrgkTSQ2DE3lqTnFdyFMtiVDqSV9MxHa7TGAuOzotiHAyjqD+DZrBdWoqMnmyW8WJkuLWDH9S6Vgj3JO9fDC4HWuVZ5vZk/HkuotfVGrMTp+HGzAt/u3a63ajSIxntu7ZlRHPtRBKfjCO7HaIzDvRFLq+nNKvpWvXubKQYMyW7fPiM6ols3k1zy/17WNPqZRHfl+ecDHTsCEyeGVmOIrqhQBCIAACAASURBVDd/rxIPur94WnsTgh4/bGPqmR70sWPHJoyg95n+I+as3I4nrqiFW1ueFdPc5WJBQBDwjoAvBJ3k/N0bgEw5gLnMCXWf4jtJP3nyJCpWrIi77roLT1uSFllupWzZsnjooYewdu1aLFy4EP/88w+qV6+Oxx57DD0tx+5uIe7r16/HLbfcguXLl+Oss87CmDFj0K5du5AQ90ceecT4N0kcx73uuuvw1FNP4bTTTsObb76JmxijarE33ngDvXv3NvLlrKHyq1atQp8+fUDvPz34Xbt2xciRI1G4cGHjal7z77//4sILL8QLL7xgKNf26NHDCM/nWE4mBN3774PTFTmFoDuVPm+BhViEVgYsLFW1EC3TSc9iNEdzLDU+OxO78TfO9AfwJOiFQlV33QWw7rqbKTLhVr3OqR+SaCtx9ULoIl2r0nUZLHnsmH+h8PT2P/VUxp2oZ4o/iTR3zmfAAD2PfyS8D6CwIVjoVlbNbc38+Nx6WMGDCkZR0O6914xYYFk3XXMT/HvoIVOoL1rROad58FDhk0/MT3i4xFD8zz4Dpk7NaD1iBAyROv4+sMxhNNEeuhiwnTWVQuWgu12fU97fbjjofp6UBH3o0KGYPXu2sekrWLCgEUI5bNgwnHPOOWHvm+GNA21PbJkyZcDwRj9twYIFGDFihBHSuWPHDsccyZdfftlow8/r1KljbOxatmwZMo1EE/R+M3/CrBVb8UiHc3FXm+p+QiJ9CQKCgAYCjiSOO6kThzWuBsCw9nFNgAPhEulyAUXLAXf/zz3c/bRCnuRoH374YcycORN//PFHukAMI4DuuOMO/P7773jnnXfQtm1bFC1aFJ988gkeeOABLF68GE2bNjXuLRJBP3XqFM477zyceeaZGDVqFJjSw9x0euWtxHrw4MG4+OKLUb58eZBk03v/4IMPgnNjCP6TTz6Jzz//PD0Uv1ixYsb3h5Wg81CB5WGaNWtmfF/s2rULt956K1q1amWQfBoJOse99tprDSK/YcMGXHPNNcZ7nGM6mRB0vUfYrVVO2OCFI48tsQAL0NqAyJ5n/j80QRN8Z3xWHtuwA3qVWJR31w33IH/+3ntAp07UrYhMtHh2dvAgQHFpTe09x9vmNtLuySQp0vFOO13L3Gd68qmaHsu87JMlEd20KUPAi5+TpPfpEx4nNReFJ4msl4MI6xwOoyAK4iguxjx8g4uz9BGyenkbNABUlhNf11xLHStWzFSWL1jQVC63h8MzumLCBHMd+Tt83XXAjBk6Peu14XqOGWP2Txs3zjxgMN4HuYEjR8xnm+bnc+Q0O+uhkpqPzl3khPe3Dg66bZKSoHfo0MHwWDRu3Bj03jz++OPGhmzNmjVG3qKTkaAzn9uaJ0nFwVJ8szoYN49NmjTJ5BHhoUDx4sUND42TffbZZ8bGk/mW9LzYRYxmzJiBXr16gSS9RYsWePXVVzFp0iRj7pUrV07vMtEE/dHZP+Od5Vvw4KU1cf8lZ+s+P9JOEBAEfELAkcQdPwQM0dts+zQNs5vHtgP5nN+lTuPwvVirVi18/fXXuOiii4wmrVu3RoUKFfA23Rc2u+KKK4z2zz//vPFJJIL+5Zdf4vLLL8emTZsMTz2NRPuyyy6LKBLHQ1C+bxliTwuXg24l6BMnTgQ98Vu2bEn/Lvn000/BPPvt27eDh7ok6Hw/8+CB3yG07t27GzVfp0+f7rgMQtD9eTpzwgYv3OaankhFdPLhGE4YNZdN+wEN0ACmtkJVbMSfqJr+GX9lGDbN8yVu4BnurIx1zJU30Z8VCt8LyR/zuOmdjcacDhPo0SbBIknQ8RArkhOLp5qvM4rJKU9muXImhtdf735XTtfSN6M8kOpwJhIx5pa1VSuABxNu5hR+zDHU3FUd6127AN6HdS7h8NQJ2ee8jiGfUVGgLeZiHmKQSA9zk5QM4TpGMicvL73RVG6n3XknMH68G4rAE08A1Cs90yUwhWtiJayMimCpOJ3DG7dZ2EkxyX+PHuZVZcqYz6B6jjSrM7oNGfZz66GSl05ywvvbCx5ubZOSoNtvioJCpUuXxrfffmt4Opws3ObMqS09NiTY9KRww6U2YevWrTM2nfT+0CvjZk45kvQYse9XXnkl/XJuVKlEzMgAZYkm6E9+8AumLvsT919cAw+2Cx+J4HbP8rkgIAhEh0AyE3TeMQ8cGX4+depUg7zy/UlyTcL+3HPPGWR527ZtOHbsmPGHYpjvUt7YhaAznJ1/6J1Xtm/fPuOg1HoAygNYerHp0aaGBw9v6bGnF5ymQ9Dpcadnnjog9rHU9wsJOr9zGAmgjJ50HhLzgMLJhKBH9zthvyonbPDCba5JdObCrNVVCIdwBBkCiqtQF3Wx2vjsHKzFOpjf4dRlXL4cGDzYJMYUwqLR01erFtCvn0maE2EkL7EQY6c52kmLm4dYtY8lhNuJ9Op6LHXydSMRY2LgJRTei4CXE75OeCpyxvbM3aY5edlZ8i8vUtAOX6Q/t34/Z0WKmPnkR49m7jmcl5caBPwdo+kSdK4by+2FyWAy+goX8m09EGHouT36gp53euN1olnUGKwMYCf+Vg+77vPodT14UHHJJaEHOV76yAnvby94uLXNFgSdGzJuBrlBqlu3ruM9c3NGjwrDGqnWS6I8ZMgQY0PpZPSWkOyzHTecFEAiOafnh15vHbMTdOYqMqeRoaDcnCrj5o7KwtwAKtMh6OPGjQP/pKSkgIcH3LRyQxqNDfxoNd5YvMkIb2eYu5ggIAgkFoGYQ9yp2j4tbccUaerXzTJV3SOZxxB3dvX666/j3nvvNdKGhg8fjmnTphmkmu9d/pvkuV69eoZnmiHqrJdKgTlaJA86r3vxxRdDCLqqXKEI+rJly4yccIalt2/f3njP83CVOeLMF6fpEHQevv70008hRFsdBjB9ialIKgddzZ198374Dud728mEoPvzu5QTNnjhNtft8Tk+x2UGkEWwHwdRJB3UX3EuzsVvxr/r4Wf8gnrG3ymM9cUXZljziy+a3r0FC+Kr6E3SdOBA6Ho/+CDwwgvRh97SMxiunncepOCqUgsxfdQO5K5QDsebtkTFKnnCei1Jchg5QPMSwh0p59bN8+01XzcSMfYSCq9zIOD2m2klmE5e9nAh86kwdU864DN8gQ5uw0T1uSK111wDzJ0bmvft5OUlrjfeGFouL9KzZV03Rh2kBYdFnKsb5k54UrAwUuqBDjjWAwk/UhScxoz1wCcnvL911kq3TdIT9NTUVHTq1Al79+41RIjCGUPPmV9Ys2ZN7Ny5E8xXZFjm6tWrUZJHWA62efNmg6QzH5GCQdxEMg+RxFvH7ASdpJ8hnwyBZ968Mh4UMF/zt9/ML1huMH/44QccOnQIJUqUMLxEDOcPZ36UWRv66a94dcEfuPXCanjiv7V1bk/aCAKCgI8IxCwSxxz00XWB/cxBd6rTwxz08kDfVe456FHcF73W5cqVMwj5s88+a+RjU6SN4eGMcHrttdeMXhmhxKgh/tEh6CrEne9j5pfTvvjiCzDVSRF0EnGmDdFzr4y54/SqK4LO9yxz4XmQa7VoQtzZpxD0KB6SGC9Jtg1eJHITDoqZM01laTshvQIf42N0NC47A//gX5yR3sUGVEd1mBEmjfA9fkAj4+8kohTA6tULeOutGMHXvPyll0yRKh4IKGMpK5a0ciOy9iHcvIpOJb2OlqqIa3ePcS3pxXxwFW7vlmetk3Or4/n2kq8b6dlxw9HrgYDm0jo2cwyZ35mKntflNtr/PPQTrK5yORhOzy06nwuWsfPL1L1u2AAsWWIKqNkPEjiWk/BipDnY11w3bDxaEksc+Twy2iVas647SX+kCIdoxnA7fHDrM9ne3273E+/Pk56g33PPPUao4aJFi9LzE3VAI/mlmjBD1RnWGM7oNaHnnJ52Emh6fXQtHEFfsmQJLrjggvRuuJmll54HBtGYHwR9xBdrMe6b39G7eVUMuLJONNOQawQBQSAGBGIm6Bw7XcWd/7CS9PipuFtvmaSYAp70OjPqiLoa9Eq/9957hkeb9capiM7Qdoa+6xB0Enp63kn+ScT5vmOfFOJUBH3OnDno1q2b8R7lYSa/E+hNZ3SRIujMhb/99tvTvyuKFCliRFPZReJq1KhhHKDS485Qdt4TPedWkTgh6DE86DFcmkwbPCcvKMNQGZ7KPGInIsHw5auvdgboSszBHHQ2PrQrtf+JyqiMLcZnF2AJliFjf8E+eTZG1edEGXN1rXW3KVamKjDq5IqredIL2rWrczk0kvNZYMRQaH14em755uuGWRFJOokU85jtnkvlr7GKgOnm3Lp5vv3E3+8DgUxzi+Z0SXVy8mRGPPiHH5o1wtJs3jy9UnJKlE0Xs0jkUUe13+5Jt6+5bth4LCRWdww3TNQcnJ5Hp+eb7yWKzEUqIUg8Nm4MFR10m4f982R6f3u9t3i0T2qCft999xkbPJLoatW81+6+9NJLwc2YNR/cCjI97STn9Lp/9913xgbwJR4Pa1osIe6aQxjN/CDoo+auw5h563Fd08p4tosZHicmCAgCiUPAF4LO6TrWQa8AdHjO9xJrdnQYaURyyxJo9HLTWFrt5ptvxrx584wUH5JkesNJ4nUIOvtgCo8qs1a1alUj5N3qQWcbHrYyzJ757UxFYuQTSbYi6Pw5S69xHvxZrGXWxIOeuN8NNVKybPC8eOvo5WZuOAnh2LGMMHHG9Sq8h/cMQgqUz7UDf6Fseu7vNpRHeZjVG1pjfrraO//N/pn59uuviVsvu+ebolwXX5yxuQ9HZBkGbz+8cAotpor9JlRFBWyF6acNtVPIha2oiGrYGLb+trXkmlXwTRXUsf9Mt5RULLzW6wrF7UAg3OmSVUY80mQpNlCggNmCaUyMuU4zXU80Iz747FK7gL8XbhbJc61LfEeNMgXXnDzwXFceGhw65DwTP6IW3CIj3DBQn1uxcHoe2c7+fLt53O0CeLpzsbZLlvd3NPcWj2uSkqAzrJ3knN4T5vwx/9yrcbNGDzo3iwzDtNuePXuMkHb2zZxx1uHlv6nArpSH3cYMJxLXqFEjIxxTWe3atY0wfatInFvf1s/9IOjjvtmAEV/8hmvOr4Rh3f7jZXhpKwgIAj4g4BtB51wY7s6c9IM7gcJlzJzz3KbiuFjiEZAcdH8wD/IGT22Emdf8wAP+KDdbUbsa7+JdXGP8qCK2YHuuiukEfRdKoRT2GJ85iXIVK5yC+gcXohx2YAfKhdRQ11kZes+s5JnhyrxfhuLr1nu2l4nSJbJOpIWHEPNhVouIZE41uP0gUm7jJvJzXRy15xTudEknzl8NQncsa5HR2J9Fc0mXLKsDFK/tne5T91AgEsnnbVCpn7dmNy/QuK2Dm3q+2/X8PFovfjiRRYrDDRqkM3LkNkF+f8d+d/73kJQE/e677zZK9zCs0Vr7XNW1HTt2rEHe6SlR1q9fPyMXkiGXVPVlDjpF2ZiPWEXFXqU1ZkglS6yxpA77yZdWXJBtGZbJsm4MsXQy5mFStI7WoEEDI5yT1zCXnGOrMmvjx483wtwnTJgAlvZhLrx9HrrL7QdBf/Xb3zH0s7W4qkEFjLymvu7Q0k4QEAR8QsBXgu7TnKQbfxAQgu4PjkHd4Lmph/tx9z3xNt7GdUZXVbAJl9xUBZMnmx73vSiO4thnfPZffIRP8N/0IZ3ytLegIvrAPU+bZcxYaKFNm8yhrbrESU0kFhJjJy098A7ewbWusF6Lt/EOeqa3i2UOroNlhwZuseC6pxssOE+1QBpzLJinkGZuXmL7EF7bOy2D7rMajti6RcRYa6D78RhEijBhRm44cUPd5Yk0R+L9zDPmH2WsBBFBBkv7loP6/ta+gQQ3TEqCHk6kTYUsMqyR+YKsm6uMddMZCk/POGufM/xx0KBBoPfayebOnWvkHRZQYTppjajUS1G5SjxSdjB69FUdYOvHN954Y3oOI73nVDXesWOHoTo/atSosOXhdJ4HPwj6a4s2YtDHa9DxvPJ4qWcDnWGljSAgCPiIgBB0H8EMWFdC0P1ZkCBu8Nw27/7cOXA9pmIqbjC6q44N+APV07s+gMIoDDP2lqHw7+Mq4+/h8rQZAk5zy9Nmm3CkRdcrab3/WAiElbToetCvPvMbzNrTJn0Kurnkfq1Z0vUTK5NVN7x/vxkPTuMJj01YwWv+vNf2dtxjIfluZxYci9EhpBu6aRA6z0W4yIhYsdAZ+7vvgCZNMlrS51g943Wj04VjmyC+v6O+mQRcmJQEPQG4JNUQfhD0KUs34ak5q3FZ3bJ45XpTAVZMEBAEEoeAEPTEYZ3okYSg+4N40DZ4Opt3f+4c6I038AZuNrqrid+wHjXTuz6K/MiP48a/6V2egR7wI0+b/YUL+9Xlck73H20IriItf21LQecHqiL/nm3I5STBnnYSkLJhIxYuyRNW2duvtck2/eieurhJlVOmneEXtOnTAdZBs5nX/Hmv7Z3Gc1I1d4uq0H3Oo32mo3l2YsXCbczdu2Go7iujPoZaTrdrI30etPd3LPeSiGuFoCcC5TiP4QdBf2f5Zjw6exXa1iqDSTeeH+cZS/eCgCBgR0AIevZ9JoSg+7O2QdvgWTfvJMQtEX2etxtCt2ASJuE2o1ltrMavyIj+S0Fu5E6r2nADJhuedl0vs1OetnUu4YiHm1cy0v248Ts3LIzPE+FK1JpINmrkFxulhD/V/mgRFttr/rzX9k4k3a7a7xZV4deZhd9PSaxYRJoPz7wKFwYOHzZbffWVc5qL13sK2vvb6/wT3V4IeqIRj8N4fhD0md9vQf9ZP6N1zVKYfLMltiUO85UuBQFBIDMCisRRpbxgwYICUTZC4MiRI0bKFauN2NOm/Hh/ZyOoIt5K0DZ4avMeS5637trdgfEYj7uM5v/BT1gFU8w1F06FKJXfiol4DbcannSdPG3mtk+35Gmr+eiEo3spmWa9T0/exkhMJN6uRN3FyS7t3E5ddB4KYrFrlymHTqMc+3WmdkIQzCux9evMIgj3rjsH/lox6IHV8pTZRR51+7K2C9r7O5p7SOQ1QtATiXacxvJjg/fBj9vQd8ZKtKhREtNubRanmUq3goAgEA4B1uxmObHSpUsbOhdi2QeBv//+2xAnZcnOPLZERT/e39kHqch3ErQNHjfvL17kXI/bS563zvrdjXEYh3uNpg3wA1bC1IrJh2M4hrSSVgDuwVi8jHti9qCTi1Hf6yoznT2seRHI0+V36YPplPsi42rQAFi1CujRwySEfiYD6yxOENp4ZZ7h5uxHZMKOHUD58uYIU6YAvXoFAaGo5uDXmUVUg2fBRX6I+IebdtDe31kAr6chhaB7giuYjf3Y4H3883bc+/aPaFKtBN6944Jg3qjMShDI5ghQOJI1uknSWTM8nCBmNoch29weS4IePnzYIOfFixdHORbYtZkf7+9sA5jLjQRtg5dyPAU7C1VF2ZTo63FHuuXcuU0x7H37gPsxBmPQ12jeGMvxPRobfz8dB3EQaYrZAAYWG4mB+x9ArlRVK3xbevi7daxItcK9esus3HD9emDAAHMka3q4W65vJhy8MIULLgCWLTPr240cmVN+HTLuU+cgwwsq7O/ee2Ek7ytziwW39r91K6CElN94A+jd28vogWvrx5lF4G7KYUJumhqeD9hsYwTt/R30NRGCHvQV0pifHxu8L1b/hTumrkDDysUx++4WGqNKE0FAEPAbARK6v/76yyDpYtkHAZLzsmXLOh64+PH+zj5IRb6TwG3wNONf3fK8ddbvAYzESDxkNG2GpfgfzEi3YvgX/+KM9C6+avsc2s17xPh351Tl3UcISY/k3R84EHj88dic0Ha+yPz8rqUWot91O9CkUzmgZcvIA3hlCo0aAT/8ANx3H/Diizpw+t/GLw+215l5Ocjw0jdlyatVM68gyaYXXDcyYfNmQJUvfu014GZT3DCZLSdkU2i+zqKusx6493fAH0gh6AFfIJ3p+bHB+3rtTtz85veoV6EYPrrvQp1hpY0gIAjECQGGu584cSJOvUu3iUTgtNNOyxTWbh3fj/d3Iu8nK8cK3AZPU0EqXJ53OCwrVACOHgWonqysP4ZjOEzifSEWYjHM7+kzsRu7kSG5/HO3Z7Ch55O4/XbzeubHv4R7UQEZ3tDDJSuhD0Zj0t8Z8eteHKQ6z4Diq3nmzEbjaX1QYPfWjMvcXPRemUK9esAvvwB33gm88orO9JzbREuy/fZg696B14MM3X7Z7vffgRo1zCt++gn4j6l5oGUbNwJnnWU2nTgRuPVWrcuC3ijaxyPo96Xmp/k6i6T7F/FWA/f+DvjCCEEP+ALpTM+PDd6Cdbtxw+vLcW7ZIvi8byudYaWNICAICAKCQIwI+PH+jnEKSXN54DZ4mkTSqwf9+eeBfv1Cl+X/MBRD8ZjxQ2t/5bAd21EhvfGmXk/gh86DwJJSKsS8HLZhOyoabd5AbxR7dxI6XZUHCxeaUczMvHBzakf1kETr3fXKFM45B1i3ziSCJITRWLQkO9p7jGaO9ms0n7+oXJ6//grUTqsUsGIF0LCh/oyt5P7VV2GcFokFHoF4Pk68+cC9vwO+IkLQA75AOtPzY4O39Pe/0XPiMtQoXRhfPdhaZ1hpIwgIAoKAIBAjAn68v2OcQtJcHrgNXkoKDpepigJ/O+d5pyIXtqAizsJGpCCPNs5M/x07NrT5ExiEQXjK+OEl+Apf4xLj75WwGZtRJb1xykMPo+qMYWAasDIriX8R9+P5SmNAJ6duxLL2xK0NY/HuemUKDMVmSDZznRmO7dWiJdmx3KPXOTq193qQ4WVMes3r1zevWL4caGxqHmgZD0t4aEJjRAMjG8QCj0C8BfEC9/4O+IoIQQ/4AulMz48N3veb/kG38UtRtWQhzO9/kc6w0kYQEAQEAUEgRgT8eH/HOIWkuTxoGzzyumldZ2MmuhkYqlrk/DvzvHMB+F//Wbj6natCCLMb4KNGmXpnVnsaAzAAA40ftcfn+BLtjb+fhd/xO9JCkeml6toHld4bHXJtBWzFVlQyfjYN1+J6TIvKqeo275DPvZJs68VemQJzArZvN8t5UcXdi8VCsmO5Ry9zDNc2nuN/9x3QJK3k7pIlAIX4dM3qfR83Drj7bt0rpV0WIxBPQbxo3t8vv/wyRowYAQro1qlTB6NHj0ZLhvs4GNs89NBDWLFiBdavX4/777/faG+1iRMnYsqUKfiFKTEAGjVqhCFDhqCJetazGH/r8ELQA7QY0U7Fjw3eyi3/ovO4xahQvCAW/9/F0U5FrhMEBAFBQBDwgIAf728PwyV102g2ePG6YSuvM+ug349K2JY+3GZUwuCSo/HKTjPPm+Hk27aZxHvPnlCFc3WRUknesAGoXt1sr8LUB+EJPIFnjaaX4xN8hsuNv9fEb/gN56aPu77tXaj51csht231sn+BduiAL6LOI9XGM1bvrhemUKqUCSqLN0+frj1Fo2EsJDfWe/Q208ytvR5keBmPpLxFmmDwggVmDoSurV4N1K1rtn7pJVMRXixpEIiXIJ7X9/eMGTPQq1cvkKS3aNECr776KiZNmoQ1a9agcuXKmfDctGkTRo0aZZBu/r9169aZCPp1111n9NW8eXMUKFAAw4cPx+zZs7F69WpU4EFfgEwIeoAWI9qp+LHB+2XbPvz3pUUoXSQ/lj/eNtqpyHWCgCAgCAgCHhDw4/3tYbikbup1gxfPm7XzuvLYim1pXuoFuBAXYT5OIU8mT7Uu77S3G4JH8SieM27pSszB+QOvxNlnAzWO/oLGN9dLv9Udl9+C8p9OCrn1KtiETTAVuVegIc7HimB70NXsCcI99wB//ZVxP05qdsWKAfv3A127msXbvVgsJFuX3D/xBHDJJfFJ9Nd9oLxgwrbWe/v6a+AiD5GVP/8MnHeeOeKYMcD993sdXdpnMQLxEMTz+v5u2rQpGjZsiFcswo+1atVC586dMXTo0IgItWnTBvXr189E0O0XUZD3jDPOwNixY3HDDTdkMeqhwwtBD9RyRDcZPzZ463YeQLtRC1Di9Hz44clLo5uIXCUICAKCgCDgCQE/3t+eBkzixl43ePG8VTuvq4ef8TNMUjIXbdEOc42/v/020LNn6Ex0PVTWdsPRH/3xvNHRsv7vodnwNAX2H38MEfA6dX0vVJk/JcT7Xg1/4A9UN679E5XRstKfictBt4YBWGHQLapsDZeeOtUE0548X7CgKXt/5ZXAnDnell2XZH/zDdCmTWjfbh5s+0zc1Ou9zTyjNR+Uu+4Cdu3K+Fmssvxffgm0N9MowL9f6mFfaH0mma/Rt2+0dybXZSMEvLy/jx8/jkKFCmHmzJno0qVLOgp9+vTBypUr8e2330ZERpegHzhwAKVLlzbG+e9//xsotIWgB2o5opuMHxu8P3YfxMUvfIsiBfJi1YC0l3J005GrBAFBQBAQBDQR8OP9rTlU0jfzssGL983aed3FmId5MKPPlqIZmmOp8XcnXsef63qoVLuywx/EuZ+NMm/r3XeBq682/27NFea/r7kGs7tPN1TcaQyRr44N2ICzjX8fxOn48r2DuCqjwlr8oIpWfM06I2u49Jo1QK1amedLwn7qFHD55cAnn3i7HzeS7XaQEM6D7TQL9kWjl9/vBbCGpL/3HtCpU2wqgB9/DHTsaM7300+Byy7Tx5Wq7+efb7ZnSYKHHtK/VlpmWwTU+5sh6tZw8vz584N/rLZ9+3ajzeLFi41wdGXMF588eTJ+++23iDjpEvR77rkHX3zxhZGTzpD3IJkQ9CCtRpRz8WODt+Wfw2g5/BsUOC031g7y8CKOcs5ymSAgCAgCggAjc/ejWLFi2LdvH4oWLSqQREAgSATdzuuuwXRMh+kq/wV18J9cv4AOU9/U0hkmzHxemtUtbyVm/KxzZ+D992H1vtvz1HH4MECvcyKME1FF2dV4Xry7K1cCDRqYVzJ02ze/uAAAIABJREFUmjXPrcaFyJvX/Am9vPT2erVYDxJ4PYXQdu50H9mN8Lv34NzC+hzwoataNdqezOt4T0wZoH34YQZZ1+mVqu9Nm5othw8H+vfXuUraZHME1PvbfptPP/00BgwYEPJjRdCXLFmCCywChc8++yymTp2KtWvXRkRLh6Az//y5557D/Pnz8Z///Cdw6AtBD9ySeJ+QHxu8HfuO4IKhXyNv7lzYMMQUnxETBAQBQUAQiC8Cfry/4zvD4PQeJIKuOIyqN34vXsJLMHNtGUZeLdefzo5SXde5HXbmYr+cJv42ZQrQq5fZgqGe1tBrixdZDXXo+19xRf+0mta8ZssWGKcHiTIqq6v5vvkmcP31+t5da4TADz9kkHU19yNHgEKFzH8xT5r50tFYrAcJixcDF16oP3K40Ar9HkJbUoWwVSvzZyQvqsxZtP3NmAH06GFeTWwsYcauXS5blqH6/txzwCOPuF4iDbI/Al486PEOcX/++ecxePBgfPXVVzhfRXsEbAmEoAdsQaKZjh8bvD0Hj+H8wV8Zw28cejlyqVCsaCYk1wgCgoAgIAhoIeDH+1troGzQKGgEXXEXkvQBqU/hKQwyUN6buwS+mfl35ihmp+Rz3bzkO+4AJkwwV5G1vlnzmzZvHtDWIuzKv88189/TzRomzh8yR1jVuI72wMDL8/Taa8Ctt5pXkHB72RBbPcNO9bj37QOKFzf7ptI4FcejNR4e3HQTkDu3iSv70y0Wr5vLrubmJE4Q7bx5nfWghlEHSqQt2j6Z769Es6wpFTr9WQ8rhgwBHn1U5yppk80R8Pr+pkgcFdmp4q6sdu3a6NSpU0wicSzbRnLO0PZmzZoFFnUh6IFdGv2J+bHB23f4BM57xgwNWzf4MuTLm1t/AtJSEBAEBAFBICoE/Hh/RzVwEl7kdYOXiFvcuxcoUQJ4GXfhLow3hkw97TTkOn48dPhYw6hJcEl0aRMnZhDezz8PzQ+mF9UuoLRqFWAN4fzqK1NVPJYDAy/gMjRfKXlzbsrTq9OHlfg61ePevRsoXdrsiZvtpWbuf1Q2frwptkYHBXPavZh9Hdyu9duDzsgBrintf//LqGHuNo9wn1sPVbweJvCQpHVrs+fBg4HHH492FnJdNkLA6/tblVkbP368EeY+YcIEsI45S6JVqVIFjz76KLZt22bUNVdGATnarbfeinPOOQf9+/dHvnz5QGJPY1j7k08+ibffftsot6ascOHC4J8gmRD0IK1GlHPxY4N36NhJ1Hn6C2MGa55pj0L50nK6opyTXCYICAKCgCDgjoAf72/3UbJHC68bvETcNaOuGzUCPszfDR2PvZcxJFXFlfCRtWi606R08pLpMZ882byaRJIeddpHH5nq5cqY+8uw4h07gHLlTC/wL79keMzZ7r77gDPPBJj3qQqt2+c1cKBJrHQ9yJHAZh6yCnP+7DOgQwf9pWE0QLt2ZnunetxUiVfh+vTM00Mfrb3wAtCvn3k1CbqXSML3388Qfitb1sxHd8JWZ62jmb8VJ6+HIE7jsbQV8+pp1pQKnblZD1WeeQZ48kmdq6RNNkcgmvc3veck1Tt27EDdunWN+uat0g74evfuDdY+Zw65MqfoX5J5tqNVrVoVf/75ZyaknfLgs3o5hKBn9Qr4ML4fG7xjJ1NwzhOfG7P56el2KFbwNB9mJl0IAoKAICAIRELAj/d3TkE4mg1evLGhYDZD3FcUaY2GByzh1Xv2ACVLmsPrhj/bvarW8PPXXwfo+aaNHWvWB6dZiSH/fdppwIkTGbdN8tqnT3RCXbrh924g8yCAhJ9GwLwomFNB/IorzGud6nFz413NrPFuhO0zfD9aGzQIeOop8+qTJ70dTljr7lkjBqwkPZ4q7lYPvteyaE54sX65Ko/GZ4+h/7pmTbvg2j/9tO6V0i4bIxDE93eQ4RaCHuTV0ZybHxu8U6dScdZjnxojrniiLUoWDi15oDkVaSYICAKCgCDgAQE/3t8ehkvqpkHb4JE/33uv6dDeVKg2qhz+NQNfq5K2vWh6uFWwhhI7hZ+r60aPNkk3jfnB11wTfl1JCsN5yXWeBl4fa1kwes/pRad59cayrjmV6WlOxHPdugxBtDp1zGiBaI250ow+oB07BuTLp98TdQFuvtlsz9rtLAlnV3b3ol6vP7LZkuXlVB1nr6rrTmOxPJpSX6f2wW236c/I6s3ngYc6nNHvQVpmQwSC9v4OOsRC0IO+Qhrz82uDV/2xT5FyKhXLHr0EZYsFqx6gBgzSRBAQBASBpEPAr/d30t14FBMO0gbPzp93oRRKYU/GXVlLgnn1oIfLV1e933gjQEEz2rRppip6vMyPkGyG1NPrT7OG5+vMmYcDqua7Uz1uEnJVeo3K5S7llyIOyUOPF180m3gtRWcNCeeceFhgVaB/9VXgllu8eeV18FFtSMpZ+5w2c6YZ1hGLUdxN5Y5TpIu5+bpm9eazD+ahi+V4BIL0/k6GxRCCngyr5DLHmDd4p1KAP5fgwde/wPaUYhjx4J2odGaRbICM3IIgIAgIAsFGIOb3d7Bvz9fZBWWDZ+fPeXEcx5AflFY9gvwoiGOAVdDMXjTdjoqVBPMz1rDeujU8dsWKAX//bZI95qUrRXdf0bZ1FouoGYkpw6RpI0cCDzygP1Nr9AG96dZ8e/aiRAD49+rVgQ0b9Pu2t6SXeNIk86cHDgBeRKN4Xw89ZF7700+mKJ9VgZ7idfFUjLamOlCBPdZDG2taAg8teMiia1ZvPqMSSPbFcjwCQXl/J8tCCEFPlpWKMM+YNnhrPgQ+fwTYvz19hJOFyyHv5cOB2hbhmWyAk9yCICAICAJBQyCm93fQbibO8wnCBs+u99YFs/ES7kMFZHyHEoaUx59EnsHPZCCiWD1/Eikv2au3nYTSS/hxtGvkVcnbOs611wIk2jSvqt4MiWfEAM0pf91ac7tyZcBBAEr7lq+7DuB90v79F+BBiK5ZPc6qXrs1F9sP4bZIc1FiCGzDZ4KHIrHYY48BQ4eaPYwalZGPrtOnVbiQ6Q0qbUDnWmmTbREIwvs7mcAVgp5MqxVmrlFv8EjO372Bu4WQnlORC7n4k+5ThKRng+dDbkEQEASCi0DU7+/g3lLcZhaEDR5FqZXmFcn5LDCUONXwnluN36q57ITSKa/cnpfsNV/dGlodN+QBxOJBZw45vd80rx5V6wHEjBlA9+6hd2kt6VW+PEBV92itSxfggw/Mq//5BzjjDP2emGtNkTmaqvX+8cdAx47mz5iXba1Xr9+zXkurFsG4cRkK7HpXZ25FNXuq2tNGjMhQt9fpjxgSSxrz2JX+gM610ibbIhCE93cygSsEPZlWK8xco9rgMax9dN0Qz3lo97mAouWBvquA3HmyAUpyC4KAICAIBA+BqN7fwbuNhMwoqzd45NdduwK5kYLWmI+Z6I4S+Mc80LaZQdBJvikWZy1VRhd8hQpmGS7W4aVn1fq5Vw+6Ugy3q7f7tSJ+5KC3b28KvNGY502RO12zHkAw357eeKtR2f7SS82flCoF7Nql23PmdtZ5sr46S9HpGokohdVo9Oqz3B1zwdWBAsO+L79ctzfv7awHOyTWDz7ovQ/rFdZ8fHrS/+//9PuzevMZ9q9w0e9BWmZDBLL6/Z1skApBT7YVc5hvVBu8jQuByf91v/sbPwaqtXRvJy0EAUFAEBAEPCMQ1fvb8yjZ44Ks3OCp0PbGW2djDPqgEiLkiFvhdvI8k/gxh5yEkIJaVnPLV2fbokVNDy+Jvcp9rl3bVA63WyQVdzeFd7/KgrEW+6JF5swYjk9VcF1j/rNSrGe+/Q2M+rOYtQwbPd7EJVqzzvOvv4AyZfR7sgrh8V55+GINz2eOuFKj1+9Vv+VbbwG9epntGW7PSIVYjKJwFPSjMTLgiSf0e7MeTFBvgM+oWI5HICvf38kIvhD0gK5aly5dMH/+fFxyySWYRRXTCBbVBm/VLOA9jRylrq8B9WJUAw0oxjItQUAQEASyGoGo3t8JmPTLL7+MESNGYMeOHahTpw5Gjx6NliQwYWzatGkYPnw41q9fj2LFiqFDhw54/vnnUTKtFvibb76JmxxqKR85cgQFCuhVDcnKDR4d2y9eFD6kPSwwTrnb+fMDx48DrVqZHnS7uam4k+iR8NGGDTO9m5ddBnz2Wea+6MVnPjJFv+zGzzp0ACZOBFjznLnx1hBxeqSZl011cK691dPv5Rls1MgUc6OxP5JJXaM3mOHWtNdeyyhlpq63hlMXKQLs36/bc+Z21nkSB4bM65pVYE7lm/Mg4o47zB6mT49cDk93nHDtrGKBfpQ2swr7MafD6fkJNxfea8+e5qdeIyZixUGuDywCWfn+DiwoESYmBD2gq/bNN9/g4MGDmDx5cnwIunjQA7ryMi1BQBDISQgEkaDPmDEDvXr1Akl6ixYt8Oqrr2LSpElYs2YNKlOIy2aLFi1C69atMWrUKHTs2BHbtm3DnXfeibPPPhvvpxFJEvQ+ffrgt99+C7m6bNmy2sudlRu86dNS0OL6qqiArZnyzSPegN2Dzvra6kCicWNg+XLny0nSSWaPHs38OQkr84Jpzz5rejdZVst+mE/izUMRzkGFgfMaqsSzbjdJN0to3X8/ULMm8L//ZeRdUyBt376MsUngx4wBrrpKe73SG9K7z9rgNOvhgk5PFBhT3mCWKrv99tCrrLnXxPXIEZ1endvUqpVRpm3zZoAHGLpG77U6ePj6a+Cii0y8+vY1e/Ba/113XNWOKvlKGM4PYTbr/XgtlcZDKT67NEYWqNJ1Xu9J2mcrBLLy/Z2MQApBD/Cq0YM+duzY+BD09Bz0HZlE4kxIJAc9wI+GTE0QEASyCQJBJOhNmzZFw4YN8Qrzf9OsVq1a6Ny5M4YqZWcL/vSUs+3vv/+e/tOXXnrJ8Khv2bLF+BkJet++ffEv1bGjtKzc4K0cPR/1H7jI28ydctD37DFzpWl16wKrVoXv85JLAJK9888363KrEHaSPipr01Q5LIZ+kwRaTeVCM/+b4fTKWAKMpcBozAdnGDJLlH3/fXhhtFjC3XkgoNTV27UDvvhCH0eGV9MjTHMSP7OGdufNC5w4od+3vWWVKgCJOY3aAZy3rvGAhLnXNCUIZz1c8ENZPdJceBijDi/88Fpfcw3Aww+aV8LPMm8qFeGee4CxY3VRlHbZGIGsfH8nI6yBJOjcAMyePRtr165FwYIF0bx5cwwbNgznnHOOI8Y67QcMGICBAweGXF+mTBn8xTwjH23BggVGWOCKFSuM0EB6D7ipsZtO+GBcCTonlK7izn9kKLmLiruPD4R0JQgIAoJABASCRtCPHz+OQoUKYebMmWCqlTJ6v1euXIlvHUKylyxZgosuusj4vrvsssuwa9cudO/eHST149PyWEnQb731VlSoUAEpKSmoX78+Bg0ahAYNGmg/H1m5wTs17R3kvt4mUOY2c6eyYCR+Z51lXulWt5t5zKylfcUVpvgZ1cFp994LUByORu8mc46ZM2w5UDE+Y1x+69ZmnjtD4JXRU6zIvgohJxmlBz1S3nW0gnHsU4m3XXghsHChG3IZn1vV0emRprffalbPMX9+6hSgDhP0RzFb8uCEByg0HjapddLp57//BSgERyPePBBhaDhl/2mMVOAaxcsYXXDnnWbv/L/9WfA6LiMlVBqFV6G3N980Izf8movXuUv7QCKQle/vQALiMqlAEnTmrvXo0QONGzfGyZMn8fjjj2PVqlVGeN3pp5+e6ZZ02pOgM5f7Kyp+plmePHlQSp1k23pdvHgxmjRpgtOojGoxHhoUL14c4cLyPvvsM/Baeh+6du3qSNB1wwfjTtB5Xw510I8ULIuCHUdIibVk/I2WOQsCgkBSIRA0gr59+3aDRPN7jIfjyoYMGWKkXNlD1NXn/H5ljvnRo0eN7+0rr7zS+M5V36HLli3Dhg0bUK9ePfCex4wZg08//RQ//fSTEQrvZMeOHQP/KGPofO3atQ2vfEWGXCfSdNXV1ZyaNTPrSO/YAZQrl5HD/fPPwHnnma3cyoLx8GLlSoBeZxJHlcdNokfCR6N3k2WsqNptF+NSRNEqpMZriPe6deb1KoddhbBTpt7NvJZcY274wYNmr7wndR9u4/Bz5tdzjjQndXIeAFmJLz3o9KRHY9xfMlKBRnzCPJeOXbOEGuue05Riu1ob/oyRCkrsLpq5uV3D54Healrv3mYKQyxmPXDw6pG3HprQq8/DA7Ecj4AQdG+PQCAJuv0Wdu/ejdKlSxsn960oquJiTu1J0D/44APDA+Bmp06dMgg2Nw3Tp08Hibz5vl5n5Nk98MADePjhh926Qa5cuRwJum74YEIIOu+C4e5TOgObFmDKybY4s/sYXP6fBG9+XNGUBoKAICAIZD8EgkrQ6RW/4IIL0gF/9tlnMXXqVCOyzW48PG/btq3x3di+fXsjeqx///7GIftrFPZyMPU9y+/0F8PkqDpFvrGrLCHoaerqqVu3IZcl4izk1kjwSJJImCkEZzlcMETY6AGmN5leZJqb6jijBkkUmc9M1XeSe5pVCZ3EnOHuJIMkgdYxKaBGgTdrPW5eX60a8McfZl/0vtMLz0ME5rIrkhfpV81J+C5cewrPkTDTs03jPTk8Q2GHo/dWHTyQqNv3XlaVd3bCHHRN0cGQMTnP3JZq9syZP/dc/RcO13TxYrM9a75feaXp7VeRDnwmWIotXqbK7bF/CrRxjWIxHgoxVJ/mNUzdGm5/662mCKFYjkdACLq3RyApCDpP3UmW6UWvy5wtF3Nqzy96hp5TXTZ//vwgSaZH4KwwIUz0InDjwHbclGzcuNEg51dccYUhmKNjTgTdS/igG0EfN24c+Ifhgjw82LdvH4qy/Eo09vGDwPevYczJLqja7Vl0ql8hml7kGkFAEBAEBAEPCASNoHv5jlK3SUE5es4ZFq+MwnFUfed3aTmSPwe77bbbwE0bI8+cLMs96CTlDMdWXnB6sbt3N+h5LhK6NDP+zb+TJJOIKgE3602psGur4JabqBkF+ZjDz1B35u6vXm32ePPNpqI5TZX3IrnmAcCBAxmjKuVwEkam2qla6cyNV7nWDMFmKHbp0iaZZO6xm3nxoFOtnocVyqxju43Dz60kl4J4jz0WehVrbFuJL1Xc6bH3aiT2hQplXPXLL0CdOvq9WBXgKfDH9BCrsvvgweZBSLxMaQmwf47NOcRibdpkVBigEr0quabTpzXc3vqs6lwrbbItAkLQvS1t4Al6amoqOnXqhL1792KhRt5SuPbcABw+fBg1a9bEzp07MXjwYMMTsHr16vQyMHboNm/ebJD0Zs2aYenSpWjTpo0hdEPirWNOBF03fJBeiB9++AGHDh1CiRIlDE88vRFO5ssGb94zwMIX8ObJdijcZRS6NRIPus4aSxtBQBAQBGJBwJf3dywTcLiWB9ONGjUyVNyVMbSc38VOInFM58qbNy+YvqWM35kMkWdYenmHclX8rmYaGUPeX2dIrIYldINHgsPQ3q2Weuf0gvfsieNT3kG+nZaf00N88qQp6Na9e0Yes/2euHcoUcL0hiuLlDOt6qU3aWIqqisFfApwsawWTdWrplgcCba1b1U3nLnEzCkuXNgMNeeByfbt5vUqT5rzYg56pLDuaHLQebDASAFlLLun8rw11jz9/tiWOkJKME5dyzQCK2lnHXTreDpjsA1xI97KKKJHMT1dI5lXef08qKJo3PXXA9OmmT08+WRGPrpun17aWcvRXX55Rj68lz6sbZnesnSp+ROqw1PkTtf8DrfXHVfaBRqBhL6/A42E3uQCT9DvuecefPLJJ+BpvE7OmW57Et/q1asboeoPMkQsjFH0jZ5zetqZe8dNiK5FIuhewgfdxvNlg7f4RWDuk3g/pQWOdRyPHk0yl9Jxm4d8LggIAoKAIOANAV/e396GdG2tdFIo8MYw9wkTJmDixInGgXaVKlXw6KOPGsR7SppqOA+u6Q1nqLoKcadie+7cufE/kj6DWw00DrsZDcd7ZltGpym9F9dJgVx5KypVqhT/EPdwdcjTDud/eWoGCg/sh6rYDNSoYZLn3btNEsOQXi/GnOeCBZ2voEeXnl3mbdMzvmGD2e7aazOIH8ejN53eZapl09uvTJUlo1gdCSNJOAksiSjnS6PnndeyrBpV3MMR9GhV3Dkf6wGNPWrAHqVgr7eu7o9zdSK5JO3WGt0UowujLRRxWRhRQBV3ZcyT9yBgaAj+qbQBFblgVXb3qoTu5RliW4bQcwwa1f8tekteuzLa0yHE54F2440sw6DfjTXc3nqYpN+DtMyGCCTs/Z1NsAs0Qb/vvvuMvHGS5GrMmXIxr+0vvfRS1KhRI6SUjHUIetpJzul1/+6779CtWzewdIyuxRrirjuOLxu8H6YAH96Hr1PqY9vlk9HrAg/lRXQnKu0EAUFAEBAEQhDw5f0dB0zpPWeZNOaTM7WMNc6VBkzv3r2xadMmMA1LGb8bSeiZDkYh1YsvvtiovkLBORrz01mdhZVTmGpG9Xamnlnz3N1uIyEbvLRc8xDPuXViuXLhcImK2P73aaiBPwCGoZOEUpyMnsYwOfdh742eWxJnu1lzopnaR8/3pk1mK4ahkwTSSJ54UMKSXsxF37kzoyelek6PLj37rDnPyjXFiwN795rtlAgbvetUiafCO41trCXxGJrOMGqvddCphs5DDKsRY+Z7h4tSsNZbV/fH61kPnTnzVlMq9upn27aFHgi4PVTqc+bFq3vnz4gFy9vpGg8h1OEIveY8RKH6PgX6aCxlZxfx0+1bp501koApEYsW6VwVvg2FDJXmAWuaqxrvOr1a678zioBl18RyPAIJeX9nI5QDSdAZ+kayzbBubgDCKbyqdfDantcxt40e9Ntvvx1P2UOmwAisPUZIO8dmXt369euNfzPXjjVfdSySSJyX8EG3sXzZ4Bkl13phxamz8VO7mbj5QvcDEbd5yeeCgCAgCAgCkRHw5f2dQ0BOyAZPU619J0qhDHabAmgMb4/WGEKfdogR0oU1J5rCavS0p9WUB5XWZ80ym5M8URCMHnB68q3Wq5dJ3pl60KOHeZhATzHJuMpVZ/429zT0bNNjqnR+SPjZL0kaQ6Y//BBIE8z1dKus885QcUYDKIV0HjawFjo9zJZcfqNfu6eeRPedd8whOVd6iq2m5q9+xnrrvE+vRo8588iVMfKDqQW6xkMWdehBzIn9xRcDzNeneRVa0x1XtWMUBKMhaDxYUCX5vPaj2vOwQon5WQ+EdPrjQQTF/WjWaA+da6VNtkUgIe/vbIReIAn63Xffjbfffhtz5swJqX3OU3fWRR87dqxB3uellbRwa8/16tevHzp27IjKlSsbNVqZg05VeArPMWTPalSXZW4c66RznHz58hkfsy1rvbLsG70BTnbw4EGjlAyNHoKRI0ca1zCPnGPT3MIHvT5fvmzwNi4AJnfEhlPl8XXbj3F7q+pepyHtBQFBQBAQBDwi4Mv72+OYydo8IRs8kkGSChf7F0VRHPvdmrl/vn59Zg8zr7LmRFPMloRdeWgp+KZqVFtzhZ1GY3g7ld15Twxf53jWMHOlAk8BORJ0VQKOomYffWTmpccSprx8OdC0KUAPvDpg4H0whNqa32+duzXXnQcL6jDCyQtNnQBrFQCv9cvVuPQ4M7xeGevPW6oYuC6kSkdgQ2oqsA44r1+2zLzUqrzv2lkUDZTYHy/lIQsPRmIxa8g+D1IsApCu3VIkUantc/3UAYvrhdIAbikfSQxRQt7fSYyPfeqBJOjhRNjeeOMNMLSOYXHMeWOIHc2tPduwrjpD5ekZZ+1z5sINGjTIqKnqZHPnzjUUaAvYynWwTFvJkiWNPDgno8efhNxuN954ozFnZZHCB70+X75s8P5aBYy/ELtTi+HdNl/jnotsIWleJyXtBQFBQBAQBFwR8OX97TpK9miQkA2epgd9H4qgGCyK6dFCTA91vXqZryZ5VfsM/p8km/nVNNaoJnnmZp7e8KNHw4/Oa+ldJcmmkBmV4On1Z0g+TamkM+ScXlflRWZkIb3mLE3r1YNqnY3CkyXL6N3mQQMJG0uBuRm9zwzb5zxoVKy3l+RTInmqL3p9GXHg1b78EmjfPuMqihKrcnhufTEKgNEFKhqAZcWYO1+/PkCxOZrXPG63Me2fK7E//txa595rP6o9nxt1gGI9ENLpj+XwmDpBu/pq4N13da5KfJugkWGdlI/Eo+TbiAl5f/s226zvKJAEPethSa4Z+LLB+3cLMLoujqXmxSsXLkHfS6P4gksu2GS2goAgIAhkOQK+vL+z/C4SM4GEbPBUDjpzme3h17zNXLnwd8GKyHf4HxTBodhvPFwoNeufK6LJ2ukk1BR4o3XoALA0neZhgpG7zRxlip79+KPZh1KPZ+i1UuvnXOjtppFgsTwb64HHUraL82SIfMOGJkFnZADD1O31zJ2QZIg985dVGT6ScUtlAeMS5v1bqwB4LY+mxmXNeN6nMmLburXe+vLwxOrMYUkylibjoYRS3vejNnmk2SixP7bxWsrOqV/qFSg9A3UgpIeGqROgSspZ0zF0r09Eu6CRYRdhSiOKxKv+QyJw9DBGQt7fHuYT9KZC0IO+Qhrz82WDd+wAMNQsrTa6yQL0vfw8jZGliSAgCAgCgkAsCPjy/o5lAkl0bcI2eC6b5SENZ+GhFT2RH8djRy8cEaTnWqmIM7+ZBwcqx/zSSwF6fDXD8XHnnWYda5LvNFV9g/DTk87PqPZOo9dYhXkz9J2klcrksZTtUgryFC5j/jvD3DkXjutm9KDT+68UyZ3CxJnrbRUw4wEEPddejYcBzOdXxhRK5pDrGNeFonrKxo0D7r7bVIVX9eZJrohFvIyHMNQNoLGmvVUsMJoxrTn16kBItx+mR1BxnxbL4Y7ueF7bBY0MawhTgiUeN26MTgfCKz5xap+w93ec5p/oboVlRDawAAAgAElEQVSgJxrxOIznywYvNRWnBpZEbqTgpQYf4r5OmifHcbgf6VIQEAQEgZyCgC/v7xwCVkI3eNzE9+6dIaZGjNOUzJuP6IIly3KHop4/P3D8uLPXPdL60DtMAmQ31qBmfjmtSBHT430ozWPPNDrWXNf1oNNbTa81yTdJOI2h5vT6WsuYkQi3bWt+fu+9Zp47Iwn4s7lzo3vKSJ5JonmoQLJKjzLJL0O+I0QppBMSlgz79ltzbOZ1W73l/BnD760h1F7V19VdsUQeDwCU8QCEc9YxkmF6nJUxDJ/h+CTKqpydVy+0zrjWNlxj5n7TihbNLBjotT+mTqjnzev6W0vfdepkHvQExYJIhnV/j3lg1aZNUJD0PI+Evr89zy54FwhBD96aeJ6RXxu8w4OroNDJfzG+zlu48+qOnuchFwgCgoAgIAh4Q8Cv97e3UZOzdcI3eKwrTWLLUHN6fdNqdNepeQKr15visemmxNqcwuIjwc2DAGtotWpLEqvIsgqfVrnmrVqZpJVkg+JkPBgIZzxUYPgzQ67Zn/JGU8WdJIykV+njsCQYveU0tqfHd88eQI0XzWMzYYLZF4kavedUS+c4PCDQUXGn552CbTSlSm+dB7GzEkAebDRr5n2mJNUUnFP2+eehOemReqQekrUUMPPm+/Y1D1aoWE9r185Uro+XUTVdlXHjYVEkXQKdOVAcWekUkBQqNXqda6lfMGiQ2bJjxwwNAZ1r490miGRYNxKGUR462g3xxjDK/hP+/o5ynkG5TAh6UFYihnn4tcH757m6KHF0C147exxuue76GGYklwoCgoAgIAjoIODX+1tnrGRvk/ANXr9+wAsvmGrciiQCqFzyEDb/UzgUzttvNwkdSV4kdXJF4EmASKxVzWz74nz8sUluaBQgo7K5KufGw4DFi83PeHjAfPVwpkg2STLrcn/yidmSJcEYlk3xOFWnmh5zdVhA4s5r9+83Q+OVGrnXh4i106m+TjVv4kK1dObTMjeZhxP0pCsSy77t9dZZ6kyVDHPK47bWGuf1CxaEqrHrzpfh4QwTV0ac1GGFWx/2GuosW0fCTGV8tWZeSa7bmPbPiTGxVsYIC9a8L1cu/WBJu0s+oxQNVEaxPBV5odOJNR+e68NnOSgWRDIcxEODOKxXwt/fcbiHRHYpBD2RaMdpLL82eH+90BxlD6zGlCpDccNNd8dpttKtICAICAKCgELAr/d3TkA04Rs8ekHHjDFLgrFcGEynYpl8e/EPSoRCTm87SZ5ShqbAGsm3CnFma5JPeq7//RdGCDcJK0OrKXRmN4ZtM3zbyUhaVS65IrBnnml6u63GHHZ6rOn9p8Aa1biVt5mK8KVKmeXXVBms6dNNIk1jPjaJNAXQVD/RPGQUp3vsMeDmm837Zei4qhPO/pSKPL35VKZXOfAkhCzHxlxmlk6jOSmCMwxdRQWwDYmpQyUd16lbvb5sTOV4dUDidrFVL4Bt+Rwogq6utR6quPUXzecKR6dr+azxOdYVGeNDnlZe2OiOEQmMTNA1az78ZZeZERNBsSCSYQ1hSslBD8oDlLh5CEFPHNZxG8mvDd7mMR1Qee9SzCj/KK65Pa1ERtxmLR0LAoKAICAI+PX+zglIJpygK4XzNIJKhy9Ti09u34mdsOQcE3wSUVVaSi0GN95UtCb5Y0lXllQrVszM7aWqOcnzSy+Z+d52Y9g5vdhOxlJorFlO49xIEOnxZbg7SS2V1xlirHLVqXzOe2FIOW+C+ezbt5veVWsON4kzPeo0tlX1xzl3lmeLxkiwKRrGeyRB5wHBK69kiMRRTI3/VmHZTuraalyncl9UWqfXXJmX3HHr/ahoCfUzRhNwPB1jdIG1ZjqF7figMBdc2fnnZ0QC6PTptY1Vjd9+LaMvaLpK4Hw+eWAS7dyt+fCMKmG6QFAsqGRYCdcRJ2uajNe1CwrODvNI+Ps7wFjoTE0Iug5KAW/j1wZvw7irUWP3l/iu6KVo3KUPUKU5kDtPwO9epicICAKCQPIi4Nf7O3kR0J95wjd4DFtnTeu6dTF74Kr0lOmK2IItqBwy8R/vGI8G4+/IfDPM3aUaeK1aAEuAMVydRs8iBeKY496/f+brSFpJXp3svPNMUk6rW9ckz1bVcXrvSS5VaP7YsSZh7N7dJMgMradgGz36JOJKXZz3qoTS1Pw4Ro0awPr1+gtlbamIL++ROej00tM7T3E6essZev/aa+YVKmogXB6/9WBCjcF7tIbfewlNt85THRSon6kwfJ27Vmus2j7zjHlfLI+njLXueUATL1PParj+SfR0lcCZ/kAVd2VUxVfl+XTmbz3s8Cowp9N/rG2CSoY5L0ZCUDxRmT3lI9Z7z8LrE/7+zsJ79WNoIeh+oJjFffiywVvzIU68dztOSzmSfjepRcsjV4dhQO0rs/gOZXhBQBAQBLInAr68v7MnNJnuKuEbPIZlv/EGUs89F5UP/pqeWn4WfsfvqBEyv1FFn8L9u59Cnny2Q20SG3rL6a0mkVbEh55FioZR8Zoedrsx951Ex8lIyletMj9Rtbatudfsl8rwKjRdCaAxfJ1h5PSQsnwahc1I5EnoaSTyypvPvGPmi9NiqautiC8PB0ielTI4+yVhrF49Q6W9fHnTsx/OKJbHfHV1yMF2JO2MRFDGe7kyij0LFfsnT87oZ8YM80BDx1Std9X26afN6IeqVTOuplYAc9XjZfZc/HDj6CiB21Xprc+bzvyt+fA8nOLhUdDMKVIj0WRYpcMw6kVpBTAF5owzTLSY/sLn0vq8Bw1HD/NJ+Pvbw9yC2FQIehBXxeOcYt7grfkQqe8yrC0VaYFQxgxOAcjF/7pPEZLucU2kuSAgCAgCOgjE/P7WGSSbtEn4Bi+txvbhCjVw+rYMD/I5WIu1qJUJ1aOlKqLAeFuuL2sXn3WWmdNbsqQZgm61cHWiGaLuRNx5LUk5w9hpJLgk2xSxU2HWKs+WXvs1a0zxMJIm5puTJLNuN4Xlzj7bzLNWIl5UAWf9cxq99D/9ZP6dnmAKjkVjduJr7YNeXa+q93aC+Z//ZBxWsG9GA+jmWqu5kChZy7nx58zLV/n4bvfNcHjrmBRJu/56c52U8TCE6xQvowidKkcXaQwdJXBGOlS2RIhYnzed+VMokYdCtHDieE7kVJeIRnOt0zWMJGFaCO3OO80DKt056OAQqY3TAQEPrJgeQeFEGg+eeMiWTSzh7+8kx00IepIvIKcf0wbvVAqOjKiN/If/Qm4rO0/D5VQqcKxQWRTsv0bC3bPBsyK3IAgIAsFCIKb3d7BuJe6zSfgGj6rh06fjYKmqKLJ7Y/r99cVIjMJDme6XR9xGyqg119ceLuyEkhOppLAa89qdzBpyTiJFQmWt/61yohUpJPGmaBlJI729f/9tevOZW06lcv6MxvGUkjkPFRShpNo778OrORFfr33Y29sJpoogILHieAyhDyeu5zR2uJx3kkyrKnqkeduVwYkhve9WclWhQnh1/1gx4fWMyGD+vZvpeNC57jz4UeY1xYFRGOPGmVc7legLR051hOyiuTbcNcOGmekWtAEDAEY+JMJUiL39cErlm6ufW3+nEzGvOI+R8Pd3nO8n3t0LQY83wgnoP5YNXsofC5BninvN85QbPkKes1ol4G5kCEFAEBAEcg4Csby/cw5K5p0mfIOXlp9Nz3jB3VuMOeRGCrajPMpglzP89lxfuyK201UMraWn3eq9UwryTu2t3liGhdMrz5x0er1pSlWcYbMMGWfZL+aAUwCO4e8MYaZ3nN5n1ueeOzeDpJCo0KjwrhTo6WW0hqbrPHiRxN50rg/Xxk4weZBA7FhznOHBb72VQbrcxglHlNR1ut74118PVeIn1oyMoHK7MuJJ5fx4GYkmDy/CmZccdHvZOIbqE2NdY8UAVg6g2Uu0uZHTSEJ20Vzrdo0iw0wnGTFC9w6jb6dE6nRKMfKgjSUOs4kl/P2d5LgJQU/yBeT0Y9ngrfvqDdRc1NcVhXUXjkbNtmEUZV2vlgb/z96dgE1SVXcDvzPjiJCIKF9kSyCCQACjEUQQEHDhA2NEDMYFwSXBxCUqxrhExQWESDCRuCAgKpsEQWWRKPk0LshmDErCooKAYgRExYDsODPf8+t6D3OnqO6qft/unp537vHhgbe76ta951aX9T/nf/6neKB4oHigeKDJA3N5fq9uHp34C95zn9trt7Vs/fXTxg+5qafdtOuyr6evp6e1uz6A5GzbOg0S/cprwgE/7dUI0G2zTTWvAFhqWW+9tRKi0wYO3RwYt5BLL61q41G7tSZjMr+RtV9zzZTuntGkechDqv5ydetHNW4Dvv28F2vpR3tXJnDXXSsGMtCCrWf99Ssa/qc+Va2zzdqAkvObAidN44ZKfnynTEBNON/ynV7o1Pu11xuX5e3y6tcYVgmcmF0Ee4zFx1gaXY1A3nHHVUfn7eXafD4oiDCbc7ucE/caijthxnFb1+eBeVx44YpBnnHPbczjT/z5Peb1jHv4AtDH7eEJjD+XF7wLvnxm2uXC9v8zu2DnE9IuezxvAqsplygeKB4oHlh9PDCX5/fq46VqpRN/wQvhrXXXTZ8/7hc9wfMXLvuX9C9pv3bXBxW7Tn/ud2aduj1T/954uKx5KD2jn6sp/8EPUtpii+rwH/2oEoADsgHavBc5MO57fdT1UM9rl9HgidM1GbCzcOHyb/rRhqOOvV+GcJDngtbfD6CjXf/whyuO8OhHV5n+oORToqcQ32ZdgVIXSniUEMQ10eMxE9w/dAeUFMRetM1rtt/n7fLqYwwrfqaF3/bbLx8lmBhd58b/ocyf91Cfi89nc27Xc6xL+cfJJ3dd4eyP6/o8cIVc+HH2V5yaMyf+/J6alc9uIgWgz85vU3XWXF7wLr7mlrTJKTuk9dOtfWvQb07rph/vf0l6yuaPnqp1l8kUDxQPFA+s6h6Yy/N7VV/7sPOf+Ate0L9nsp8w6bEv/nr6t/smkEHfd9+qZ3mTAaVo6ky/6lyV3WcyyUCVjGT0YidcpoUawAnkRnYOBdl/M7XDhLKaTDadijobRBseVvQtvxbldBlnCui33/7gWTS1+4oAhTZmlO3zHuuDbrCuQKmLqBphL/4N40eBDxGdCBwIbtiLcVneLi+/BsExYHkY8TOCgzvvvHyUYen5M90PegMIAgkGsbn4fDbndj3H3PqJNY56v4YJGnQJDo16fmMcb+LP7zGuZRJDF4A+CS+P+RpzecFbsnRZesfhh6fD7/+H3ixzoTgCcezti9+SDnv729OiJhW5Ma+tDF88UDxQPDCfPTCX5/d89kvT2ib+gve0p6Xkhfq3fqtq75VSesbuS9Jp31gv/U76ZbP76zRdoEwNN8XoftZEpdaH/Lzzms/Qqk1Wlq2xxop9zX2GSh2tmu69NyViWBThUY8pfaPAW9duu1XK79FHHICXgW4yYwpUtNGGh7kp6yrugCRw9453pHT44VXWOWj2xm1q98W3jlGrCwhSD9fzvc26AqUuIOngg1N63/uWX1ENNmo3FoQygmgDh+o+DFBuW0P+PYCpx33d1MMrcRjG3CMCDIIKS5dW95JSia4mKHDSSdXRT3pSJWDI5uLz2Zzb9Rxz22OPbiJ7XX3Q77j4/WDANAWz8t/EV75SlUnME5v483sV91sB6Kv4Bpr+XF/wzrvipnTWqcekdy0+KW24YPlD+MZl66ZD7j8g7bPfq9Jej9tgHniqLKF4oHigeGC6PDDX5/d0rWa8s5n4C95Tn1r1AgeC77mntzilufv991vSW1ODoFS/Wl9ZxAApTS5qEiMb1DYrr2cGorzoE4pTh83MFbitXhBSQsEm/gY4fvObVb16vPzncwOs8l7g+VwJnMmkDgN62m4HgQkW9c0Brt/2tiqoULemdl8y7kCPYAowba1ayrVZG1ByvvV+8IMpUWB3L/QD10AwIb4w+gGAqX/HvHyn3CD2pW1+w36v97se93V77Wv7syL6XYNOAfaIwBR2BgG+JkZDv/PRxT/96epbSvYRoGjzeZca9EHAVq18LrbY5XoBkgWqMAcmYcFAca0cpNdV3Ak62od5YhN/fq/ifisAfRXfQNMfxQsekH7IOZenz9/zl2n9hb9K777vpekrv/2cdPDef1jA+Ty4R8oSigeKB6bTA6N4fk/nykY/q4m/4KmflZUFzGQ/Z/Sydvnpaem09OIKuMtQh/Wr9R3UC3yTTaqa8LoNAvWR0ZfdDNCoDvv//J9qFC/9US8OWKOtH3JISsAaOjuVd9l5rblkeL/73eo8fb+1KWsyIBoAGoY2POgWUO+rjZ1Wb3qyM1lzQnVE1gDjutXbfQFgADpT763Hu2wxwNzF+gGlpnOtvakNmDmgl8teR8YZCwAd//WvT4nQ4NlnVyMGC6HL3IY9JvQS6ucpF6Ay38VC9O+LX6wUzd1PBAiHrZ/PBetEtNxvYW0Cgu99b8WgaAqGtCmyNynAdwXDSiSI403KzIswXXRKcF3PD/oFFOWZfcCkmSc28ef3Ku63AtBX8Q00/VG94KG7X3HIDukJ6QfpG3/0gbTL3gcWWvs8uD/KEooHigem1wOjen5P7wpHN7OJv+Btt93y7B8wvGBBD6v82T0npZPSy6rsFkApe63mu1+Wtd4yDR1a7bjPCbsReGO5KjrBtCbg7ji14GjdggNRF14Hfz73/Q03VIraron6jc4um3/uuRWoBaACmKBJn3lm84Zde21VTz1MBr1OYc//jhp4YnaxTmtWz22eTbXw9XZfOVPgz/4spTPOqM43Tlfr2g6uiR3R71zsB8CKcr7WdkH3DhZC17kNc1y/kgjicf2CLvn4TWuJ3vKLFw8u0ajPMxesawK+rsUv/Vr39QuGuI5zBUAII4a1ieA55zWvWa7b4DznCKBEMCdvXTiM3+dyLMYD5gPTN14JimBZCPT5/k/+ZC5XmKpzJ/78nqrVDz+ZAtCH99nUnTHKF7yLDn9W2um+i9IPtn1X2nLvN03dWsuEigeKB4oH5pMHRvn8nk9+aVrLxF/wcvB6333prvsX91i/f54+kT6RDkzpOc/ptWFrNfRymcEwIm6Asyx5tEzrChSNEW3PgBQiaexLX6rqaCPzGOJpstMnnFBlp2Xn/uM/Urr44gqI77NPVdd95ZXVGJGFblrQVVeltNVWy2vQ26jGQTXP1dytVeDgmmsqoCUggD6uVzsDmGSp8zZd+Vzq7b7QrtH9WdDz+Vm9/TAmMIIN4d/AaFNLOePlFGxZcZnzfqJ4L3hBSqefXmVJjz++YmDwhfWOw/J+9vn4AF4T9T0/pi2r7dhhxP9ywTqt/5RU1C1Xeq9/19YWLroS8KW+94PKD2JsgSk0dkZIkN6CVoPRZzwXXhzH/jSNKXCCRcJCsT2fp3ssAPyk5jTG60z8+T3GtUxi6ALQJ+HlMV9jlC94X/3A/unpd3whXfnYV6Vt9m+oARvzWsrwxQPFA8UDq5MHRvn8nu9+m/gLHvr1975XufWuu9JPfrFm2njjlF678GPpI0tfkxKldbTaNjvqqOV10QCgzC/AK7uIRnzssYPBXoyfg0d16zLNAW4dk2ce1aNTepcdp0T+/vdXc9BCSx26bDMgpa47MvjPfGZVm95kaMrRG7sr1RjgNQ80aWv8i7+ofAZ4hNp69D53TZnREIrTz7xuxsJWCDOu85n6emNSUz/00LYdWfH7vCSgy5l8pGxhUCu5ELjjY9R7jIfrrqva343Dop+9XvG5IOHTn57Sv/97/yt2Ff0zpvuvi/3pny5nYgjquNfrlgvJNY05qB5dsAkNvl7yMGhuOfNDgEr5ChaHLgaM2GC/jH6XNc/mGIKMdAqYun+/P5oXAg4sglizGXsKz5n483sKfTDMlApAH8ZbU3rsKF/w/u2jB6U9f/6pdOUGz0vb/NUJU7riMq3igeKB4oH54YFRPr/nh0f6r2LiL3ibb7687/btt6fLrn14T/PqHQ//5/S+Xx9UZb+A3zaTwVYLzIKmjTIOYAAGVNm79A1Hi59Rk+9lc+tZzTzzqI77xz+uMuaCCGqz9Tkn2EVMTS25mvN8jYAB8N5kxsl7YwMPwEWoyTuniWqM+o8xEAA/suNYBe9+d5UBDwGyoGPnImP5XAQz8ppdwQlZVKwBwQqBEAJzMqx1y8sH6uUIealA2176XhAgV21vOyf2igAfkDuoHKJtrH7fh6gg5oRyhzAZ4lDpbzq3a8nC//t/FUOji6m7D2bJlltWXQPqZqx+waD82CYVfXoK7p1++g1NcxQkCbo4EKyNXH3t41TZb5rTP/7j8npz8/vjP666LNhLFkG0Lj5fBY6Z+PN7FfDJoCkWgL6Kb6Dpj/IF70snHJ6e9aMj0g/WeWra8qBz54F3yhKKB4oHigem1wOjfH5P7ypHM7OJv+Dl9dG33pq+cukjexjlyEcfmf72lrdUtGrgu80IiKFzM8AAQAhw2QS0+40Xol0D3+oWVJl0GVz0dtRZYInKuHrb//qvqp0UkTZAWF055WsWrcqaxgfcI9sY36ut5gPXImjVRDVGHQaq9ShHp0c/l+FG/Zbxdu6MQn6PYq82Pq9hzucCfP7qV8s/Ubtuj4xBAM8aCWwROMutqXwgZxv8+tcprb122y4u/35YgN40susrA8AAaNMw6DKz6DgQQnVxjoAAKrWsdpN1Ff3DaMAa6GJKP+wjEwAKEcD83Ly936Axm/rQxz0k0JEzSAaNo9zAfcWA4F13rQIEedBBoIhi/aQsL32JbDm2g0w6s28x50nNaYzXmfjze4xrmcTQBaBPwstjvsYoX/D+7XPHpz0vf1P60cO2Tr//tovHPPMyfPFA8UDxwOrtgVE+v+e7Jyf+ggdEqbVmt9ySPvPV3+klnY/b5LD0yh+/MyV1tP36huebkb90a7uFzgpoBj2768bJFsd82s7ZbLOUZOmBcfXpVNFll1HegekAXDj70eaM8niuuF1fA7p0bujofDCIHrzuulUP7ahhP/roCkwLWAAlst8E+Ji+7LKa/Xp6YxAA02GAnwytLDwRMJlzdfYy6WFd6PiuGwr40Vqsn3/dE4IyAaLa9mGY7weJo7WNww9NQNh5gkBNCue+65pBD1HBtnn4XibYPcfchz/84YPPioBC23hNGXT0djT3OqNi0FjudyUUzO/RvWyO5hoG7AP9k7K8W0GAca3V9tqrmoFWdRTx54lN/Pm9ivutAPRVfANNf5QveF/78rnpaRe+JP180Xrpdw6eaX0yD3xUllA8UDxQPDCNHhjl83sa1zfKOU38BS/quC3ipz9NR5+1YQ9bnvYH704v/P4hFSikvjzImhSkgVb0dMB1GJPtVsfcxQKgy54DJMTXqJsT7PIZZXdCWblIm3rhqLmvX6Op5VOAbXXPebu5/NwQq1PnTrFe7by67J12qrL70SbNOVTz1cijIqP81i3U6+Nz4nay8gIdMvIy83nf77b66qhz1v8aPV+wgNhagMsmP9s7mX/gqp9QXpf9aTqmTRyt37jWKUiS157nx86lv3iMM4wCvfZ9AkOsnzp6vz2O6w2aM3V8JRtYD7ma+yC/6wqgDIIFXd/vAB0/jHihspNJmd8fAUGm/IGyfU7Fx1A54IBJzWbs15n483vsKxrvBQpAH69/JzL6KF/wLvnPb6Udz/2/6f60KC1+2VkpbbJzSgsXTWQd5SLFA8UDxQOrmwdG+fye776b+AteZH859sc/ToeeuHGPof2vT/i79Mf/9f6qTVpTv+7YiC7q2MNs2jAZdIJu6OyovejpH/5wVTstk21ewDVhtfXW67EDehagvmlOaPo5mHGMtQOqWZ/4FVrFyUYCYsS3ZFGNHzW2qO8ASGQLjRf1yjnA8zkQrz441OtjflpS6ePOL2rbbY5/H3NMdUTX7DCaNz0BVHl19YIZggFBvc/9ESAalR6lng2jcN6234OAab9zu66zKRttzC73KcFBe9bF8vpyDA1aCHWz77LFrKkdn8/7Zf35Xv12PWAzaG5HHFExSJgAjOtHsCi/n7BIJmV5KUcEzAgo6q7AhikryOc8SG9hUmtruM7En98rca2juHQB6KPw4koeY2QveFedk+4/981p8V03L1/R2humtNcRKW0906txJa+1XL54oHigeGA+eWBkz+/55JQ+a5n4C54MXVCqr702HfShTXvY7fzt35Se+u1/Suktb0nJi3+TtWVvZ7NfuYp7v9r1AHiy4TKFQPC3vlVl+gFYgl1A+4c+VGUU0YRD6A3Fup9Y3Wc+k5LWYblRhtcHnqGpa92GYt40hjp3AnUy3ETjmizaqCkDADrD7EMIyc30o+99JfOtpl8GXfBANjKU4H3ftb4a2COghyrvfIGHXJCvPtfwcVMrudnsa9M5/cB007Fd19lUzx3jNfUm54O77qr2Fltgww27rQ593PxZvTVejBCq87oIYJJEkMj3bX3NBcb8EPPAUNvMom7dcUHXz9uc+bxJZ6Ft3Ll8n5cCyPD7beRBA/ezzgfDWJvewjBjjfjYiT+/Rzz/SQ9XAPqkPT6G643kBe+qc1I6/aVpWVqWFqwwx5m/XnBSAelj2LsyZPFA8cDq7YGRPL9XExdO/AUPbVh7LPaDH6QDDt2i13b50p1el7a96CODW3p1zWrOdu/aVNwBc9k4mTmZZrRsolRovGpbA1w+8pHLVb8B3VwlPZ9biMrln+k5bkwWIlz9ssmh3j4o2xwicMTotMAKk+WXwWWhtA2IoLXX5xt17I7tugef/GQFzGWI0YwjM962N0CoWmqZd73T2+rX28bLvx8EpuvjdF1nG+gnsCAQE/bXf11pLChfkAWXDe9i9kD5AgPqm3QTiLQBxIQJBUhCgFB2WwYe+O5n5hWlJQJhhPHaTADGPc+iv7gfc04hj8x621ij+j6/z/kAGyUXs9OaMNqwdblmF72FfmKBXcaf4zETf37Pcb4r+/QC0Ff2Dozg+lIu+MsAACAASURBVHN+wVu6JKWjHpfS7Tf2mc2ClGTSD7q80N1HsF9liOKB4oHigfDAnJ/fq5ErJ/6CJ2MNEKaUlvz3lWmnA7fudS27+PF/lXb87+NS0u7p4IObd6BrVnPY/QNcgBLAG2W9X+YxwJZMuVptL/vmSzhOvasaXqruVKujdZsMcr+a3qZsnpr2aGnWRr+vq4s3rdvaAF2g7dvfXn6E1nQU2xnauTpddez9wL4sJCDCT8B93gouv25kwh3/5CdX2d6XvKQ/K6I+ZyDaPNTgMzXFXUQDu+x5G5jOx7BOdO+Ze/VBw3elzdfrwlHJBXaUKAzTwz0XgKv3ro/JhYr7k55UMRai97f7L1fUb6JrA+hRxuB+WGONdo8K5vgNsFBMz4XjfI5Sv+++7WON6ghlKEQbmd8RCr57yj3IogylvtcCG3Xl/zbGTtd7YFRraxhn4s/vMa5lEkMXgD4JL4/5GnN+wbv+mymd+Cfts3zZuSk95qntx5UjigeKB4oHigc6eWDOz+9OV5kfB030BQ/4yzJzezz6v9JXbnl8z5GfSH+e/jx9Kl2x//vT405+a7Nzu2Y1h92aoLkDrGjj6OBAkIBA3uZMS6wA4rLmgKPe3c6hvn7YYZVoXM4S6Fd33Q8s5FnJYdfR73iAa8cdV1STz8XrALhtthncNx5F2jplStsAF7o0YTCgjwifwAaF8C4GRKtZxkJgmAnAFcDeT7CtbdzZAqm840D9GoNU3PNj88y3z90fqNfKCyjEa5nWxQgAXjzTBQgrIdgP+bmA+aWXVv6juh+9vwVTHvWo6sh+dG1aBYQPWdfWaDLlMuYs+osLcmF2hFHn1zZwUpa3ccRE0ds9WheaA90I92XYIPo6n3kWtNkwgZ+2sYb8fqLP7yHnNo2HF4A+jbsy5Jzm/IJ3+WdT+lyHOpd9P5HSHz5/yNmVw4sHigeKB4oH+nlgzs/v1ci1E33Bk40Ehmds+/St9FvprrRBuin9efpk2iN9Jf1N+qe0y+fe2NxiOjJao1T6likklBaia2jHankBVursuQWlXNbccUA54Om/ZRLR09XlGjPA5KCe7ECU+vLccqrxqO7DX/yi6lFNzC6MEJz6dfaFL6Skz3ab6XEtSNGvpr7pfCwAVHdq8IPo6jmIlskUELAv6Mky9wIMgKbAiDp9wROCfW02WxV341LId72mMoWob267Pj8rhwgDVimdawkYbfLaxvC99dM9YDQOaA7Us76uJXtMhd+9FW3rQoxuEF07Z064X4g5tpl9oZHAoqUZmnwOgLv6qe1aXb/P9R8EQwTNlFtE3Xn+m2ujr9fbC/abwzClE13X0fG4iT6/O85pmg8rAH2ad6fj3Ob6grfkuvPTopPa/w9vyUu/kBZtumvHWZXDigeKB4oHigfaPDDX53fb+PPp+4m+4Kk9l12esZ+lR6f10oza+cxnH08HpkN/7+O9ZG1jyWy8VDt+FErff/iHKd1wQ0VD17bMhalRy0LmwMr1vLCjt3vxByLReYFFPc8BE9R84D3vQz7oZiGGRxQvt7xN1KhuNOAJdT/vnU0ILmrSBR6CqjzomsbAGBjWCOEB2tqtRauwfIw6iLYPhM7Uz2MsEKtDl3f/XH551fNeJhTQDSMOBvy+4hWVCFtYmzhaHNdE+wbQ0dABYcEle050DLgWHHh8xf4YaHlbwTgwShOAafdfF9t++6pdHiM0xzd5oES23+9B8Ao7AsU91Px9pixBWUOX4Ip1mneb5Z0Bor84APzGNy4/0+9DC7dJGaaFkg6GjUL7IM/qR116F/p6157wJYM+qd2d83UKQJ+zC0c/wPOe97z09a9/PT3jGc9In1UT02JzfcG7+Jpb0ian7JDWT7emhSsqxPWuvHRZSjenddOP978kPWXzjm022iZdvi8eKB4oHigeSHN9fq9OLpwoQEedVZM9Y0tTSnUpqmUppX3T59Lrv/anDzB0H7QfTbTUQQrhgzYUyAB8ZGfVlQNksskAkeL43NSXe+EHBr3ga2ml7vzGG6uMJfV1Gbs2ga3IqssqA725EVQjHse0VJMp7ReIcB3fdQlURJ19XCtUwbucG+fMFqCHYny/evI6iEbTRtcGOtVFq+PWz11dP/CurRyAnr/LYQjYuxyA8o/gxJ/92eCfdD+aMyE3gnmXXFLV8DOUfUEcdHNZ7UFm3EHlAEcemZKa9C5Wz8TXz8mZGmjzADq/sbx0o8u1uorX5YJs0V/cmvKgk3vGfT4Js19KSsJ0VBBQU3cusMJCJ6JruQz2BEZB0+9ktqUTI/TFRJ/fI5z3yhqqAPSV5fkB1/3a176W7rjjjnTiiSdOBKCffdlP0xdPPy59bPFRvVnlIB04Z6++/6D0xy/4y/TcP9poCj1WplQ8UDxQPLBqeqAA9O77NtEXPK2fWqizQPv/pN9LF51yfXrRSwaoTtcznv4OSu+g5QMMAJaMHwO2AUI0YBlNWWbUXTW/ueo5sCU7G63J4hqytl7iAXcAnjAVavYgC8DaBF7yPs5q3ClO9wPR0RrLtYYB2o6XXUVZ7yeCVp8/EI0x0MXH/dYu+ADIsVCRxyKQ6czpEtHXXRZd4CMYDXwPhGsFhzqNWtxmbbXiXWjfxPUEDBj6uECOem1Bjn7WlqENH8huD1JXj/ExOrpQ+h2vDhtAj97f7mnBpv32a/NW9b3jN9us/dgnPnG5rkH0F3f/Y5iEyaaH0nv7iHM7QjAl7yvvt4MZAqRHKUkIx3UVnIzfWP33NZfSibmtcoWzJ/r8HuG8V9ZQBaCvLM+3XFcG/SMf+chEAPrF1/4yvfjjl6Q9F/5Hevfik9KGC259YHY3Lls3vff+A9K/LX1y+pdX7pieslmHWp8p9WmZVvFA8UDxwLR5oAD07jsy0Rc8ILgLdTaldNkHv5b+6KDduy+kS316CJ2haUcrs733rjLosuBqstUcA8l5a7F+IC5m97znVbW4XuZRevMsXtMKQp29qec7UEWIjclkmpvMs+BG3VC+v/jF/n3SB3kPSwADoKvwGlV2VHM06dlqAPBrtByTERcYidrlfK4U5WV/gWKASoswVPD//d+qnABgVlJAgKzNBmU5u4Bo4+cAXSYd2EWvH1S33zVD25Uebf11TYR+awdSZY2p4bPvf7+i53cRPHN819r4qNF3TnQkUOJBmC3MvYtiPgkTvMkDC/QSBA4EK7RbY37773hH93aB9sdvj9BhUOeN07V0Yszrnujze8xrmcTwqw1A//u///v0+c9/Pn3/+99Pa665Ztppp53SEUcckbakBjkiO//889ORRx6ZLr300nTTTTelM888M+0TUcHsGkcffXTvOMdss8026aijjkpPjRYTM8dNEqAvWbos7XLEV9PNt92TFqSl6SULv5wOfeiJ6efL1k473Ht0WpYWpvUf8bB0wVufnhY1ceBH5L8yTPFA8UDxwOrmgQLQu+/4RF/w0I+92Hawpaecmha+5MUdjswOaatPj1ZhhN28pDPgGlBUhw54Udbef/8qU6zWuQuIi4w4cSwZYWJog0xmGGhqEqF61rNSOu+86mzt21Cqo4ZWplUgQFCBAddE98wRGDvrrO7+whLQozp60g86E9VeAIO1BSsGjePdLeYY9ehNfamBeIBIkATYk6neeusKKKH8yyQD6MMAvyYg3BVE5+3wgFznNQUW8rV3zdB2FRgjWpiL/A3yMwV8pQECIgywd891Da5cdllK2pW1mUBT3BeuR8uADkOuU6D1m99b3g2hbdzZfm/esvphL35xxbLIafch5NgW0KsHdnLxOewJ92YX5sNs19LxvIk+vzvOaZoPW20A+l577ZVe9KIXpe233z795je/Se94xzvS5Zdfnq666qr0Ww3/B3XhhRemJz/5yWlxpuJqIwH8ddZZJ63fEFn/0pe+lJy37bbbpn333bcRoH/mM59JBxxwQALSd95553Tsscem448/vjePjTfe+IF7ZZIA3UXPu+Km9OpTKpXUjRbcki5Y46B0z7LFaat7RX0XpI/tv23a63EbTPO9XOZWPFA8UDywynmgAPTuWzbRFzy1sOi3XaxrZrE+VlM9sWMAWK2gWP7Crj5ZljrqigFnVHZAWXa6K4gzrr7QalzzntNNayV4Jhjw6ldXmc7cojbcZ+qtZSn/+Z+r7LyaaiwElHoGZES9u37PggNdDXizvl//uv0MomM5OORj9OF+vdDrIxI0k/3mU0EBhm4NPDUJ5YXq9rOfXdUzA0P8oBYYSDcXfkNz72pNQLgriI66ZdcyJ34zR/dJP+t633S9zwFs90MXA9D5Jnp/B+DuQuc3fs4YGHQ9+0pckQmYvOY1Vd9xe1rvXkBPwH0sMDQuI+ZHiyBM/T+dgpx2r8sCkM76BfTq9PVae8jUtU/8uNaZjTvR5/cE1jPuS6w2AL3uyJ///Ofp0Y9+dPrGN76Rds1/JETRli7tgezNN988nXbaaWnRTOTp6quvTrvttlt64xvfmN5SVzOtXWDBggWNAH2HHXbojf2xj33sgTO22mqrXqZdlj9s0gDddYH0937hqvSr225L339Y9TB/xkNPSW/e+0kFnI/7l1jGLx4oHlgtPVAAevdtn+gLHvo4oDXASLQsCCr6bDNUgKvsHjAbdPIcZOVK0zK1Mujm5gUf+JMJlKVGNe8K4qzpwAMrgB49p/utUxs3WTjtx7Rqy426uhprFlTjHGDIIEcyI6+LrVOL224BLAEUd3W7g1rBGUdWMlqyxbghgPbwh7eDfOsEaAUfvvrVagQCXoTeohVWPt+oGRZEcBwxMtTlW26prmWvvO8NU9s8lww6JXn180xAB+ir99Ou+zu/B/vthUAL6nmX+5zwW67CP2h/3X9o3dF/PAfcTVoKfm+0IQB5RnuBBkObSbaFhoE9s1d+N9r21W0SNdtRGhHXViZhLkTqAHOGOZNn+JsCenX6usBQBMWMQaywjSXT5rsRfT/R5/eI5rwyh1ltAfoPf/jDHgCXRX8cIY2a3XjjjT3gDlCffPLJ6frrr++B82c/+9m9rHebNQH0++67L6211lrpjDPOSJTaw97whjekyy67rBcsCOsC0D/60Y8m/yxZsiQJHtx2221p7bZoeMvE0d2/dPlNaffPPzH99oJ70v2v/nZavN7gl5Q2X5TviweKB4oHigeaPVAAevc7Y6IveAAnqu6M9cB401SDit59GQ8+Uv0y4K3tEio4QCfDzfJezYCq4773vSpbjg6Mqh7Zt66ZUOOqeZWdz1/mm9YQNeuuHYrtcVzM29/RhiunDaPiYwYCdbnAm/ZRXRXBjS37C6CjKAd4ygF/Dtq1E6sLlNkjrAQUfLW/MvkU+rUgyw21GdDm02jtZu6AOeAk62o/cosSBL2rBT3QpNGzBSdkLzExvDNmCZiBt0q/gE8bzTkGzWuy7THA3pT5r0+iLphW/74OFgctQoCCn/tZvl8y2+6H6P1dV5yPLPeGG1ZiifYoRAON3yWr7ze1xhrLZyMgAKC7NgDbZONWPVd2gNYeRrtAWz9lEgJYzNrr903e/hFbQ/AsD5oITtFMCHOPW+cU2ESf31Ow3rlOYbUE6MuWLUvPfe5z069+9av0TVHoPnbDDTf0QPqOO+6YLr744rT77runE044IQHfbdYE0IH+jTbaqEeDVwMfdvjhh/cU238wQwnac88903e+85105513pkc96lG9TDxqfj8b9Qvefb9Zmn56yB+kxyz8WbrtReekR/zBbm3LLd8XDxQPFA8UD8zCA6N+fs9iCqvMKRN9wQM4s9rW+9d8eFp8d41iHSJOc/Vg3qPZWKecspzym/dFlmUE0AFzqub6bFOellmXPe8C4oLCjVIMGLUJ4YWauf7gIZoW683FwAAD2WsCVwAQk0V97GOrwIO2UmECEMBuV8MSQDcH+IFN9OOoJzYGUAscAzd1irvv9TUHvO1ngHfAR6s5xn8Ak0CAdy1zC2E4Inra0VFv5zN7kxvwbqzXv77SA1ASYD7mZz/8G0APqnLbmgcFfLrQvnNVc+vga34JocF+1wcO3YcyzbnAWASN2oTm8nEFKIgGhsng3nnn8r/5h4Ae03LQfWiPmXdyLISwaBdoTKUdLC+tMG/gdpABqTlTRBcD+9tFiK5LAKBtT5u+z3/Xvg+hR4EQQR9m7VguubmfMG1YndXifnMvCpKFYXK0BeFmM/9ZnDPR5/cs5jdtp6yWAP21r31t+td//dd0wQUXpN9VazLACL/JnG+66aY9AP2QtpYkM2MNAugXXXRReooo64wddthhvSy9+vbZ2Dhe8L77nh3SE9P300/3OCZttPOQ4jezWUQ5p3igeKB4YDX0wDie3/PVjRN9wYv+1jPO/N6eb0hb/ds/r+jab32rAmRzNZk0ADEMXT3E1Sg7exFnsozmhd5LnE0QQbkdEC1TytqE0YLCDbACRk3vQHkfcj2ZZY2poteF3XJlbHXqwK3Mf7AMtfjCQlhzzZTuumv5+rQvC0qzT4Fg2eZ+JqOtllpWVoYVWCMGx0IEy+eyq+jVxPNyC+p/ZMV9J4MPqDHg0Jz9Ww9v/xZ8EAABIJUZCACo6T733BXHJp6HMg2oy9I7X9BDBp2h5QNjIfTnM9l7DIB6G7wmIb66T+yvueTZf4BXiYRMMRDLP7FGe9wE9Oqt/wA59wQfCTyhs/OxdfGt62bMz/6bNRMwyXu8C3y4j/ViByAlqCKj7d6wD9H7uw6Io3UYn5oTU5YayTX7YV8GWV3wUZCHz7q0cusqjDd4Bit+y/fuaWJ1ce/zDT/n+gyCXfYvtzxwGMrvvu+nZ5GLBg4zxzEcO9Hn9xjmP+khVzuA/rrXvS6dddZZCfB+TIsAzM9+9rMeON9iiy3St7/97fT85z8/fVgtTwebK8W9wyUeOGQcL3gXHLZX2uX+i9M1T3p32vxPZlo+DDOpcmzxQPFA8UDxQKsHxvH8br3oKnrARF/wgG8vzTP2vaf+Zdrqm7UWTN/9bkp6Ps/VvKzn1Gm1z5HdQ+uVmWXEzgB0/6hhBdQBP8Ddi3iYl/WmdmcyqgAzMIQWry56k00ePHugNKi/AIN2bCFElx/tXFltFtTkAw5YnmXmH1l14+UCb0E5j7GIcQEtAhNBqc+vgyVgvYA3YIaqLouIqu48dsklFb3ce12dXo2aL4gh04p5ABwDN9H6LFqqoT3LsgPAgg+uh3HAt8A38HrBBSv6i+/VrMt6AorOJ3wWAJrgHPD/1rcuP08por0ETPW25+vzz+9fK14H0/warbgEH9Sar7VWBdDtR3QfUMvcRM1vAnMx5/o+y+yaGxaC63SxXDHd8cHCsLeuLRgDmDMZeyAUA4HpRpD3r3evEtkzv2jfB+C735hOAQ3dklaYJnYq4bowe+VeWRkZ9H5AOu5bgaMA5U0BG88GuhAsyk4GBeUwfukQjFPwrss9kVKa6PO745ym+bDVBqCjtQPn6OLqu9WfD7Jf/OIXPUq749SMX3PNNb2/KbB/IKKuAwYYJBK33Xbb9VTcw7beeuse5T4XiRvmphnHC95XjnxJeuad56bvbf5XaauX1Cg2w0yuHFs8UDxQPFA80NcD43h+z1d3T/QFDxDL2p9+b7uXpK0u/fSKrpUh1lJrrpbXnRorF8oKerbPAWzgXPAAmAXUUJdlrTPh2d50ov0XYAIQynDLYqIvA4cy4qjowG7dUGJlfhl6tyAAWrFsdW6ymjK3LKjJgD/AwMxTL24ZY0A1DF0dMA3DIFBjDJjIrAcbIL7HEpApVV8tw2rOggOysJF5D8YDRkDQp+N8QDzU7mn9yOYD00A/U9OMkYDGTpPIscZH09ayCggG7n0nq54bcG+PZNH5yDE5I0AG1r7l68+viY4sMywIAEy/850rjt8E6PgzFMmj5hy7E5DX950vmUyxAEs90yrYkNfw51cEfgmvhQGDQOEwmeT8vjBOBEBCCE2wJvSSBFm8U0fAAVNCkCAMmwEDIWdhRH93x7jPlV8MsnpdNj8rbzCHnNmRjzGOGvQ2dovAlWCIEg4mcFdPCubPA6UZSi4wJnLGwrjXMdjbfb+d6PN7lnOcptNWG4D+mte8Jp166qnp7LPPXqH3+SMe8YheX/TcqLhrsbbeeuv1AP1D1eAkz+XL09Oe9rReizZK7nW74447EvE59sQnPjH90z/9U+94deTRQi3arB1zzDE9mvtxxx2XPv7xj6crr7wybdIUye5wt4zjBe+8jx6U9vr5p9KVGzwvbfNXWq0VKx4oHigeKB4YtQfG8fwe9RynZbyJvuABggDXjP1gq33Slt+r9e6WYW0J9nfyXbQme+BiMy3L/C1DGNkvGV5gA4Dysg+UAtA+BxBzi/MALurlRNZQy4m1obkDqAB6k1J9gFPjAQihTk6EDhAP+rPMZQDFoCYDu67FgA10ZPW/eZszn8vMhgHlgLW1RAY9p9kLEFC4Ru+VYZVtVNuutjky/WrLsRlyKnSMD/xiFDznOZXqvLkAeQIIjI98js4toCHju956VfABzVv9Nfp+E/jPW5nJyqqBz61NdR7lW2aYYF+d0twG6FxH2z311KGNhFpv7rF3MtOhHxAaBf3AnHP41J6G8Jge8HyOhRBMjrab+tGPXh7gcWzsqbHcG9ZLiT0MQ0MggdVr3d2rAkvWZ/7+bb2h1J/Pq840iH7m9ZZmglqCYnkmvr5n/h4m89zv2jFuF99jPghiRLCtSZRQci/KATAaHLMymABt90DD9xN9fs9iftN2ymoD0PsJu33qU59KLxddrNmXv/zl9NSnPjU9TCQ0M2rr6667bvq9oBBl38nMA+R1e9nLXtYTlwuTPf+Hf/iHdNNNN/UU5D/4wQ8+qNXbMDfKOF7wzvvU+9JePz4y/XTNLdNGL/jHlDbZKaWFi4aZVjm2eKB4oHigeKDFA+N4fs9Xp0/0BQ8oAShm7JrH/N+0+fX/b0XXUuieZWB9hYFkwVDDwwhBRY21zDFgySQGgPKgHANnRKSaalUBHVlyQFSm0HpcZ+nSCoBam8BAHVC6DpAamjjeXbwjUeYm9NYP3AU1Oa8PRidHV5aRV+McZt658C3wTO1dNtnxzkPZZjKcAJX1AGWy7wC6OaKfB5U8VPdlvCP7H9dDMccyEFBwbWsIRXfHoP1jQ7iOgAsxuBDT866HOSCQIdBRrxsPCrhMLjp/S2u+B/021bdbo+CAzD26POsC6BwnMMLnAaitnQ+Ytnjo+pG57qryn9eBYzrwOZDc8K7c+KwBvoOO7oBgK3g/lo0X+MjFCQnoAcysXuuel0y4/yTMBGJC7C96vDcxDaKfuXspz8q7zyilC3wJZOUlHeZQb13WuMjsw0HXjuBaV9/7rUfrN+wBdeq55S0KBT6A9JVVS9/ml9r3E31+Dzm3aTx8tQHo0+j8Uc1p5C94V52T7jnzr9PD7r/tgSkuW3vDtGCvI1Laeu9RTbuMUzxQPFA8sNp7YOTP73ns0Ym+4KHaZuJT122wc9r0poz6y885kJ6L32vX6tVrAw1MxlFWmqlPBVKDcowKLwuuvlkWMrcYU7YR2AQy0ZSZF3rsAFn3hjazPaGzyFCi3aKttxkQZ555dtMcALx6VlubuLw0QEYQTZeYGdE9dHxBBdlS2Vx13rLn1gu8AOjmnYNxbIYtt3wwnd68o1Udajdgpze58QNsR/95tcnGRrnHrNTSyt8y7bLCDAMhb2sVrebQ5QUNBDKGMWsWLHj1q6sAAsDIugI6NHaBmxmmZ48dEIrlIY4HGAugCEDkfbX7zTOns0ev8I9/vAL7Xcz9FswKxysPcH3q7LLZddE2wYlQLq/XuqNxR/cAY9o3ey+gwgBYAaAm2n6wCpQu5KWp0c8eGBYAC50FJRNKHSLz3mWtg5T1nR9Z+NiLtjF3373ae8bf/J4bRkTQ3s1fcK5k0Nu8ukp+XwD6KrltK056pC94V52Tlp3+0pTSshV6vi7t9YBdkBa84KQC0ufBPVOWUDxQPDAdHhjp83s6ljS2WUwUoKvxzsSnblj3iWnjX353xbX94hcrUnVnu/JckC6n8hovF4UCJABnraVQe533kY9UdcvqanMLYC/bSGBLVpRSPHAp6ybrCqA3idzlaueAd5597LfGUJ6XkY/sO7ApywcA55l3td2hNG48ABNIRaWP7L3aZNn+sGj3ZUznylbnwJ8wHHCc097jXOskuKUW2tzqfdIjgwrEyeSjhAfFXkZdW7tQHZcZ5s8w8yVCprYdmyJfV5f7IXquCwpEqy3ndQV0fIcmH2xPte5q1FmUOaC882WdWdBvfnkGPbLMaNdYCF0MiM5FAa2LfwRf3LOU5nPtAwA6hNHqte65poHMu0BJ+NxcsECUBwyqwc4F5pwTAa0ox/DbkVXPNQ26rLON5ZDXsQtMdAHSWt1FiUjOqIj5CK65N5jgF2aJe472QD9dAYwAPs8DS13WN+JjJvr8HvHcV8ZwBaCvDK+P+Joje8FbuiTdfeTWaY27bk4LG1q9L12W0r1rrZ/WfPNVhe4+4j0swxUPFA+snh4Y2fN7NXDfRF/wakrjNz18i7TBr2vtu2Rg0Z7narRropa9TqPO62fVYgfNG+WYkjUBLRRhit25oYnLXGoXJqMKIMlOUs0GmtXfysTJeNctaOY+FwAAItssBM4A3BBpk/kEin2W98UW2Mh7MwNM1i9jmCugN10Ti8CYKPKAR6jIu6brNIEsavXRx/zaayvF9ybjDwJrOWMg+qqjScuoCwTkHYDQqIEjpQeAcEvr3gddVt29PQAWKcBT5mddM+iywe4LgQkW7AuZXRRpvh7G+B+QDzAnWHHGGf0V5pvGNpdcfE1tvntVUMX9G2yHONf95T5jdBLyco/I4PsuFOrdKzN6Tz3mQV0gsW29kVEPATzBAZ9ZM4ZEV+u6RwIesvJdgLTjgumSt0+MOYUmgL+jpj+y+D5rAumeZUXFveuuTs1xBaBPzVbMfiKjjmcOtAAAIABJREFUesFbct35adFJM7VuA6az5KVfSIs23XX2Ey5nFg8UDxQPFA/0PDCq5/fq4M6JAnTZZlnNGfvlwzZM695z44pupiAemdW5bEAumgUgAnxheXZdnS6Ag+ZN+IxYHKCOHkyVOrcQuQMwUcEBfXRb80WNBXBRv5v6uEcdrGMB/7yHd7916leNbu9aIQgHbAEZ9dZngG7UmBtP9hI9nQhZm6ia+mb92AGZfFzCdXyXt16LucqwRr94QJ5vmkytOpCdt+16/OOrjDtNAAJs9dZ6QeeWmZe5Du0A45sLwNQvs+kY2VJBGQETa7NH0T2gDdA535zdp6GKDhhjPQxSah90r8Y+xjGRsbW3vutisvnqxcMEIAQwQgUfPT0vrRCYiTaB6uYJw4VFDby/Q5TRvtN/YKEQ32VecUysMfQSCK8RW2OYBkGNbxuzK8shWAFdgLRgiGcPo4VANyI3QY4I4uSdFYwt0BG94uMcNet+X1NgE31+T8F65zqFAtDn6sEpOH9UL3hXf+VTaYsL2h/AV+9yVNrima+YgpWXKRQPFA8UD6zaHhjV83vUXiBmeuSRR/bETLfZZpt01FFH9YRT+9mnP/3pnviplqS6o+y11169lqREVcM+97nPpYMPPjhde+21abPNNkuHHXZYep5sbkeb6Ate9M6emduvH7JOevhvslZhPkdxBcLmakCBzLZ/o++q0Q7LW0R52fY3gKr2Vis4L/AAqMxybpF5J1omWx3K72qrUda96APogGHdZE1l24E+ImY5YOq31hDeMn60PgO6gC+K6+q+wwBW2coArrLvAglAZRdDa0ZZtzb0cibrG3Xi9X1Rny+AgTKMJq02vskEOwQYQpTPMerxgcug7uf0b/O3b66HYo2GH3Nwrmx0tFfrB9LR060H+A8LcTN/h0/6ne9cQZCg3QPo/DJIqb1p7UHpF+wRzIgMurH9FprusX57xQ/a+YVhcWhPJwgjkAFguv/CZMxdgwk4aAMYFr3r/U2HwFg5S8Oe2rdhLHq9h4q7843D9JK3p11smAy62nLWrw+679xHAg6CNEz9fdDZ43tlHcGK8DwmGBnGP1gYAj6eu4IYmDTRN73LmsZ4zESf32Ncx6SGLgB9Up4e43VG9YJ3wZfPTLtc+GBF+/rUL9j5hLTLHt1fqsa49DJ08UDxQPHAKu2BUT2/R+mEaAcKpO+8887p2GOPTccff3y66qqrHmgZml/vggsuSLvttluvI8lznvOc9NOf/jS96lWvSptvvnmvVSm7+OKLewD/0EMP7YFyn7/rXe9Kzt2B0ngHm+gLnpf2DJjev2BxWrwsAx36TucgpMP8+x7ixRwNHWUeiJFhDIAE2MjiMuAJQPcCjxIMhKORA9EAa27ahqklV5cNNKIYA/box0F9lzlsCroEYPKi7zraoLUZgCXbmte5RmYygFk+hrrvO++sPiF0Rkmd2ngXk9FHDSc0F2JhgHCA1FD7jrEIowkgUIun+h4AqH4tmU4Z8bxHe9RN77hjVT/Nh9Txmevktd/2MW8fpiYdvd7eDKqRroPvyODGPGV3o9+86wKQce8B+NYVyu2hnN/Fj3GMfc5rxiNAgBYdbc5ch6Bd3mavn5iaeyDXD7D/AinBeCD2lzM3aCLIHDNBo8hm+xuwVZ7BiAdifmBKRKYYxR9TY1ANdpMv0L6tiaq/jDUwzAQ4aq2X+7oyatD7XbtfL3Xn8QU2h9+0NTDMEmwI9xjjF4Ey1gTsBUIA+KCv5795wTVsjxBvHOZ+GNOxE31+j2kNkxy2APRJentM1xrVC97F19ySNjllh7R+urVvDfrNad304/0vSU/ZfEbRdExrKsMWDxQPFA+sDh4Y1fN7lL4CmLfddtv0say2c6uttkr77LNP+nsvtTWTKXeszHjYhz/84V5G/Scz9cgvfOELe3T+L3lhnDFZ9kc+8pHpX/Is0YCFTPQFT223Gt5+hqIdAHMuzm9r0STjGK3QAFkv3QCFzCng4vw6qDGfoMYDibJu/iYo5cUd6DGm/Y3MXr4GIL5pbYPo5yeeWAGFvCYfLZqIWQ6k4zp5r2zHCUJ0zfRpLSfLG/RzY+qHHtc295xCr0afgjmRM99Ftra+bwCxwEGo5vtelhX7gHgXcT5jyHICp4ICAYwBZmMD+GFqpdGy8x7ZAgXZ76TvrZODO/MKACl7LChgXGY81Oboff7pT1fU6LlYHiCgak5J3PUxNvJAQw7k8+vVKeLAKJGy6CMfQDLOUWfu3mTua0rlYYJMjmeyxfxurdG2j34BsN/GNKj7g36BgI6sM4HDCLqEUnxX/3VVca+PFzR9Wfj4DbqflHlQlmd+TwIJ/a7hGL4OpXjPVsEl7ARBHAGNel/5rusaw3ETfX6PYf6THrIA9El7fAzXG9UL3pKly9I7Dj88HX7/P/RmmQvFEYhjb1/8lnTY29+eFjWpyI1hbWXI4oHigeKB+eyBUT2/R+Wj++67L6211lrpjDPOWIF+/oY3vCFddtll6RuRzcoueNFFF6WnPe1pvaz4s571rHTLLbekF7zgBQmoP2amj+/GG2+c3vjGN/b+CZNxR53/cS4glo177733Jv+EycxvvfXWPdD/u8OKcQ3roGjN1e+8vAf3sGPH8V1e7lFWUcQZMSsZdCDMf3u5V4/e1AILLVsLMH4C0GUKtQJTJ63dFfAIoBOE62qyw1FfXj9H7bAMeABF3wsoAFBoyYBQbnkdMV9TkwfG2gyoEgwA6tQ2WxeT+QyhNAAHyI5sPhAriw7IojALvjQZMCN7imEQRoEcYAScZDjD+JV6PsAOMPsuDxI4rikwQTCtn0hd05xQ6gUIXItFnX0AZeJm/vE5sEb1v4taeJufI0AA8KGdN1kO5COLK3NeVwuPNnbuDVR+z5A8MJQrl7uvtQ4LA75l3JkAib3J+6x7nmApDKKO91ur4JVnjxZwsed5m7o2H8X3ro11kgvjtfVSDxaA32kINQo6KCkQFGGCBgA6LYJBDAz3ogAIFoIMPN+6zwU26n3lu65pDMcVgD6cUwtAH85fU3n0KF/wzrvipnTWqcekdy0+KW244NYH1nvjsnXTIfcfkPbZ71Vpr8dtMJV+KJMqHigeKB5Y1Twwyuf3KNZ+4403po022ihdeOGFaaesPvnwww9PJ554YvpB1PzWLvbZz342veIVr0j33HNP+s1vfpP23nvv5LPFM/WcD33oQ9MJJ5yQ9kODnrFTTz21d04OwvNh3/Oe96T3yn7WbCIAXSZvkCiWDHBOOx7W+V1bNAEz0ZIKlV0GHUCVRQbGvMyfcMKDaehR50u0zD+h/g7gomt76Qe8gKOuBmiZN5BVz6YbC8jJ22dF+yrg27xzy3tZCzCo9W5SlK/PTU90NeKE3JRGALttLAQUYsyPKAOwt03Gl2jDxLfCBBe0WetHQ/c5wKguWO19To/OVdljPOA5+lx38TuNARRu4JQJQhDvIyzIqJij/ANpyi7MoYu4XJdrO4afg3LddE6dxo1JED3Z43gaCDQClHEAwNFhIL6PNmz+phcgqBPmvoh7J7LBgkzRw/61r12uAC+TjBbe1QSu3Mto+1Hq4e88yNR1rOjXbn8EiNp6qUeQ4aqrqrpxfsM2UgvPP0zAS/ClS8BFIMezWcAIsJeN9+xQAkNTYgpsNgB9GC0UeilvetOb0qWXXtrTQnn961/fCwDXba5aKJNyZQHok/L0GK8z6hc8IP3Qcy5Pe9xxTnrPQ09ONy9dJ+37sI+ng/f+wwLOx7iPZejigeKB1c8Do35+z9WDAdBlxZ8i2zdjBN1OPvnk9P3ocZ1dSG36M5/5zF52fM899+wJy735zW9O22+/ffqEzGryzv7QHsB/caaMTljuL/7iL3qgvslWagZdT2w1t/2s3tt7WMd3FZiSQYu2X+rBAe1PfrKqXf33f6/+kVHPAh+9qUTtOnBkrgA7xXDAIDLrMsl5vXWXNdTrleMc9eZUsXN1bllfmes80x3H55lRAQdzUoceBoTmSuAo6zKUsqVo3ijNmAAyqE2K5Xl2F4gncgbsAI8NZRq9ywI5RP8Axn7zaPJRqK8LfOQAXb00mnFuuSp5F38HuM2PDUE3n9EHIB4oGxwt5trUwp3Xppaf71N9DU3zDvG8vC4/jgOoUceVD6h1Dyp2fM9vwSpwv+RdAyJA4lgZYnud6xcQlBMcagt4Nc0ZEBdkc233khZrMtV+L8OaQAaqvPsrv2/7jRNrUO6gVEN5hP8mqhhdBojZyczXf9tNY9JPAPAFN2Thb7yxAvoCPHMteRjWF32OHxagD6uF8qMf/aing7Lddtv1/k0XpQ7QR6GFMiJ3tA5TAHqri6b/gHG84KG7n/LlS9LLLt4r/SYtTAve8bO0aPFDp98ZZYbFA8UDxQOrkAfG8fyey/JnQ3E/4IADeiAbLT6M+BtROIB/gw026InLDUtxr69j2Be8ufihl8mrty7LB6y3Dhv2Yl1bNAEfUQuPki6bCFgDZV7A1eUSkqpnDinBo1jLWsquopij8gJ8Mtqyh8ZBFR+FfehDVUY7F/xTJy7TH0Jr+XXyTDJfOIagXZhsvMw3MTAMAIEeYMN4ALqMJSAN1LTRfwU4ZNLMBzCq94yPa6KSy4gDa7Mxfs7nEvXr+Vio4DPCib2PuwLlfvOx70oJMBdyXYRBlG8MAaUBkYUetNYcPA86LlqJ5aUGcbyghRKACCDIhEfNt2Pcj9E6jFaAdoJhuhoEa4d2gFKDvI3by19eqbh3DXjFuCjo6PjRw96emyPlc8GOYS3vT14XKWwaC7MoAgIAOkaEbLrfuow+M6ZnUNcMuucB8cTXva7qmtCPXTPs2kZ0/LDP72G1UPJp7r777umP/uiPHgTQR6GFMiJ3tA5TAHqri6b/gHG94F13y6/TBh99TFpzwf1p2Z6HpwXrPz6lTXZKaeGi6XdKmWHxQPFA8cAq4IFxPb/nsnQvRrIQ6IVhar+f+9znNorE7bvvvukhD3lIkvEIk6lAkVc3vuGGGyYvRr/+9a/TF7MWV+rV11lnnekUiUPP7gfkLLJJmXwYp3cFFOiyoW6OCg6g2xcgBu2ZOjvAl/fuNg8iYuYoewmMoGnLtgPmMtXEzYw3RJu7gcuT2SZOlYMJlHJ0ckyMEPqKQZ797OXtzrAEHKMuN8ya1deHobYHc8B6ZBbRnzEK2gxAdw1gR8CiHzNCrTPQlDFH2oZe4fs62BZAqNPZZTOBWYYOHXXLg3qlD5oEPwo+0BTAbshBt6wyMC6IY03uFSaL714YlOkN6jpdgOjLPWge0c4rr8PHRoia9Gh959/2Im+pR7AwWgtiXfjthQnaXHdd9VdoLQS49Vn0Cu8a8IpxBRNpEsig63MPoMvuA7ah+TDM5qO0E9Fjyh1yNf/6OHygHIGh/mMJoNYLUihZiH0imoj1MqhkIS8xUJKDZcOH1tRPn2KYdY3w2ADoGFfKqMLWWGON5J/cZhMozs/vB9BHESgeoUsGDlUA+qQ8PcbrjOsF7/4rzkrpjD9PixcsWT77tTdMaa8jUtp6RFH3MfqlDF08UDxQPDDtHhjX83su6w5qIYE3NPfjjjsuffzjH09XXnll2mSTTdLf/d3f9YD3SWpjkxLoE9IrX/nK9KEPfegBivtBBx2UFi5cmL5FPTzBZxelXXfdtdf7HNA/++yz0zvf+c7pbbMGnOdAoe7QJuGzYZzetUWTrFqokwOoAPqHP1zRgL28y4QC8YBabjLLgAYQKCNoHNRZIBhwJ3IH8AxTsztofTLbgH8+D2BD1h/4iaxgjKEuNhgXgAQgCDyHCRzIAofJLAZzAEBXq6t2FxBpM9l47AFicWjNgFmTGUu5Rce2f22X7QnwuW5uEWjwGZCCeVBvw9ZEa+93MQERPpZpbhIu1LLM94BuqMdb38zvsnHYvDyAiJlyijYLRXegMpTs62UKxhAACTGzGFP2P0D42962YglC3vPcfW/vcpX4aEXWNeAV1/RbELiJzLX7Tws+gQK+HNaUcUSwiGAbUN3PcpaBgIpnCbE6e2J9IYpH7M08u6q45z3rgXznCeb5HU6BBUCvT+Xd7353ojeS22y1UGKMfgB9NlooK8t1BaCvLM+P8LpjecG76pyUTn9pWpaWpQXZXP3V+/sFJxWQPsI9LEMVDxQPrJ4eGMvzewSulD3XJk09+eMe97heTR+AzV7+8pcn9X5fz7KD2qoB9Ndff30vK/70pz89HXHEEStkSojGAeXXXXdd2myzzXpg/U9D/bnDnIelSHYYsv8hISzWj4KM4g4wt4lBDZpEv1rhHCChoM8I7fXEwgB0bckAGWwE1HVAHR02Ny/8QAI6sH/TDiAaBUgBa4A72ni075qTs1IFqoybC1IBo67RlEkGsInbMfPnx7w1mnEyRkYiBgZsCJxYg9rjPCs8aP5E5QQBgACAL+tvv8JpfCQDrB4+DD0baJ9NhlummnJ+bgAY1Xq2xRYVfVuwBjUZK0I2WfAFlbuLAdvuQ8GREGHLzzOmcoj8Pq5T8QFqomJhuQJ5tKhrm0vcs+jmaOesqV0fGjmADkyGhcq7v//2byu9gDDlDbLLzOcU3nOVeFR5InbD1qBjMQj6RNYcQKei7vcEMA9rykmCBdA2hkBABKOords7mXtBLB0DQhTPbwL7gXlWCEbk/eX5QXlLPEP5QvmAshgMCd8JAKG8T4ENk0GfjRZKvsRBAH1YLZSV5boC0FeW50d43ZG/4C1dktJRj0vLbr9xBXAeU+6BdJn0gy4vdPcR7mMZqnigeGD188DIn9/z2IUTBeho0ITiQpysn1/79YLuug9NtcI5QAIMUYUZMTgZTXRymWpCcDfc0NxaSy20cYB7wQSUdwAAQA1BMcCuSUCqDti6rAXbwPUCnDkHyFQ3jmYNMOQWgNtnsoSCPznwcm7erxx9F11e4ITPZYZl2WUb1RE3Aeig/8qgWysBMkGETKhwhTnJ4hIzQ9UPM6/I/g8L0gM85hcBQLUSY64TWdfoW8+HAjFd6o6NAUy6L9Qxy7xHf/C4ZlO7wFxkznF8KksukANg50EngQOUaZlxNfp9BB17l+NvDA37wZruIxljAF3wJixv34dNkCtvWxPKOHOP0RHI6dB5EAQg1aO+i7nniLBZj7pzegGE1exHvv9dxnIM30W7SKBawCD0E+pBPAEHgQf+cpy9U4KiTIDood81yzUMBBLWXrv6HBOEL5SruEaYjLsgnJIEAalox5i3reu6njEcN8zzu1DcUyoAfQw34aSHHPkL3vXfTOnEP2lfxsvOTekxT20/rhxRPFA8UDxQPNDogZE/v+exn4d5wZuzGwIQDur97SJNvaCHvbiXdCCw3ws9ZWhtmLxoo6V7Wc+trnztO2NFb2yg9Ic/rAAWICFjCaQBrVTA6wboDNuaSaZW6znAO8wYxgKQo01YfAdoRabUvIARwEtGkcmwm19YAFvnAegyjcYHyKKeOQfQ+b4oAQA8ZfllqOv1+nENQQ2UZ4ApTMBBBr5OQ++yx+aVCSf2Tome7P5b1jbqliOgYl9k0AGwLgEBe6umO4T/csDmGq7ftpfYCMoHBCMAvNwI0GFr8APgGVT0LuuncxDgOo7XZs2ctAMLyzPteds03wP5giZMoICOQPS791leRpCD2EHzwyrBlPBvlHsBBfcfgE2xnvr+sObeV0/O6uuuB/FydgtGQdDjMWLc58pRWLQR9N8CB45zHcEugZl6QEZgQR07lXzsEwyVetu6Ydc1wuOHfX4Pq4WST3WQSNxctVBG6JKBQxWAPilPj/E6o37BW/rfZ6SFnz+wdcZL//T4tPDxQ/ScbB2xHFA8UDxQPLB6eWDUz+/57L1hX/Dm5IugItfpwE2D1ntBz+nCDSfnbaX6jQ2k5eUCwIKXeSaDri5WXSpAF58DwE10byAPSOmXmW6aA1AJTOUCbNFDe6+9KtCQG7p59LiXBUcrz8EY+vExxyw/A0gEFgUpBBi0TNN+SpawjYWQ1+YC39H7vZ7hlX3mt7zd2ytfWYFXQRTrAfaxKgCrNgAtUx+CcLGSyEj7W1kCej8DFAVi2sas+14m1pyAt6bWfwC3zOogw0QgNNhEyZftBxpl0JW08EMXw/oAIImw5SZ7DKDntGuCadbP6vueC+mZhxKHyCQ7Pg8q5Pf8oDkKZgC8wUwxRwBdjX4Ei7qsMT+GTgTQ32T1IJ6yBnXuBByVFrh2iD1qk4btwvwm/Db43G9F0EYbQxly/66XNKjl9zsnyOi3ffzxFWskb1s37LpGePywz+9htVBM9bKZbgAHHnhg2nLLLXvtPtWdEzllo9BCGaFLBg5VAPqkPD3G64z6Be/KC/81bfPl/VpnfOUep6Ztdq4J07SeVQ4oHigeKB4oHggPjPr5PZ89O+wL3px8EaJk1LHVh3ax6AXd5diux3g5B0hC7bvfeajRXs6DJi4THErSUeMrO0g4LupfiYcRkKqLeTnXWpoy0/2uD1io187FnlCIAXN0fCAyN9lz2XBGnA1wRtkNQCdAQhQsTPYUuJU5tx7Xk/2POnZ+QteXOVSrS9U7fBHK6UoDBB5QjhlfYBaEydQKTuQiYfwT3QyUPAhA9Lsn6noF+fziGuYguMAA/mi5JsgQ/e673BsRXADyCNFpU6d8IWjWMUa02xs0pkw+YFqv+3eOAA72wbCmtEImuZ7RV5Lx2c9WgZYmQ30HLMOCPeJv94R6+lxMMO8QoA84HzjH/tdZD85zb2N00AZwHPMZkBw6DTNaG52XLKjiXhsUXMmDeFdeWQkcCpS534Oa7t7FEAiWgoy4+76+Dr8TgQ7PhWAXmCx/YygYn5q73zdmS02ArfO6RnzgbJ7fw2qhLMgFBGfmT9iUZkrYXLVQRuyWvsMVgD4pT4/xOqN+wTv7uzek7c/aLa2fbk0Lc4W4mTUsXZbSzWnd9O19vp6e+8SNx7iyMnTxQPFA8cD89sCon9/z2VuzecGbtT8CmACORJ+6WPSC7nJsl2MG9bJuOj8PEHhxDzXtUAWn+E6YLDKQxObUvMr+5bR55zpmmOvLbspIUnMPk3VFxyV0d/bZK844r40O5ey8jheAi1ptZ0bGXe056j7gUgdz0bu+DowJ4QE/BLMAsRCBq/f4lhUH8vgoTKbXeXwhaFOnbOerEiThu2h1duCBVUlCbkCTNbBoETaswJlzI0gACEcbNUyJOgUdYAPcBpn1ytrWywqGDRoAR1EXLejjulGPHteXpQbQBViaLN+7XH/BsfypTMH9HIY54L5mgi15u7l66YgyAu35aCKo0Q6qvHsf0I86cPdtbm0lKMoyam3C+rrbb9R1BVTcLwIWGB1KQGgPuK99xmhF+O868I9AkABDtMpzjL+jt7rfofuWvoDA1hTYRJ/fU7DeuU6hAPS5enAKzh/1C97F1/4ynfCJD6WPLT6qt7ocpAPn7NX3H5Re/hevT0/ZbN0p8ECZQvFA8UDxwKrpgVE/v1dNL3Sb9URf8IIW7UVa5rmLjTKDPqi1Ur+55AGCO+9MCTWeRbYVrVd2ONTSgR0Zu3qdPapugBfgROYyp5s3XV/Nvjr5UCh3jPZqaqzrLdN8J/MNEDKgDT3X3NB/GQAHcIeh6qrfVi8NoAPs6pgB3jBg2PdqxqlZh2ECKAEwN9nKoLDrtZ5n9oEbGWhlAGECGNZhjH4ZUll9a5SZB7oia5xn32M82egoKzBXitvDtggzlkBD9JZ3vnVhBNTZHlS/AbdB1PRHPrJqMRbBCOPPJmgAOPKxAIR7zH0l4JGbLDWADog2WZQtxByiX7i/CQdiXqD1hwmgRas9ALupNjuOFaQRrNFVQMAoAliE4gRr0KPPO295CYTzmoJU9ZpyNHU+7GJ+o+4R94pggsCIAFb0LJfxJlbHcup/v7Hds7L3ees2AQfjYGtgqSgNmQKb6PN7CtY71ykUgD5XD07B+aN+wVuydFna5Yivpif8+vz0rsUnpQ0X3PrAKm9ctm465P4D0n89fNd0wVufnhY1pdinwCdlCsUDxQPFA6uCB0b9/F4V1jzbOU70BU/9sFpPL/N14az6AkZdgz4bcGROeYAA6EA5ZyHCBYCoxQxqL5DrH4A3QIHjnZtnBE88cUV19qYNBOIFBXI6dAQ3msTScvEyIA7oCZEr4wPj6MxhkR0Hbs0XYK/T4IFw18rVr50PPGvFJcig7lswgBE+C4o8kBMAPe9hjY4O2Mm+9rO8vMB/x7GAO+X53NxToSIvqBEshly5vMsPBKiLIARwJygRbdvq5+elA02tz+J4wZroeT6boAH6v6BDZLFRyuuUe2wU+xT6A/W55jT7/B52nL3lLz4OE9SJ9mYy6UoYIjNdHzvuDwEXpQWRifd7A9DVe/OlwA3rFySr15SHIGOXffMbdT3idurIKbbnASR+qSvxDxo3fvMxBywW97G9BMwFmAD1KbCJPr+nYL1znUIB6HP14BScP44XvPOuuCm9+pTvpIVpafro4g+mvRZdms5aslN60/2vSUvTwvSx/bdNez0ui2JOgR/KFIoHigeKB1Y1D4zj+b2q+aDrfCf6ghcvzQTOZNX62ShU3OtjDwuOmgIEstkBxNGg/Q0cAQUhjkV4DfANEbmYh2PzzKU6cgJigwwwkw009zBiXIIClNYB09yAS23IGCAEcAJOl1xSfQacA+lhUf+N2SCDCnwEwI1jwm9bblnVE4cBrzLlapuBL4CVAZShJC/jK8AQaupxLho6Ibo2C6CU0/TrPb2NIVAgYMCIdwFk5jOIOt907egjL6svKyvzTKE+FMDzc2SVZZdZfa/z41ChUaKZGm5jDmOAsd8KhoLaeACdLkJu2gQCyhEIqI9P6ND3rK7Kbh/pEuQBFMEWDAymjt491MQkyH2Pzu6ecx/5LQDMuVAbbYC2IFn+m1Pf7JqDLD+eMCBdhqDn5xoJAk9q4ruae9M+ud/tP1YANkR0C6hJwqCEAAAgAElEQVQHsbqOO4bjJvr8HsP8Jz1kAeiT9vgYrjeuFzwg/b1fuCo9644z07sWn5zOXbJDOmytt6Z3P2frAs7HsI9lyOKB4oHVzwPjen7PR09O9AXPSzoabChch0MJO+UZrrxn+aicPiw48vKPNpyruKM2533FzQ1IA56AbwBEdk1GEqANarnjnJuLLQFVUbfte8A/2qFFT+2mzGyI0+W0ZecDR+jp0ZbKZzLoQB2BK1ZvDyXDbL7GAqzUpwPYec27bGRTP3DBBUEG2X1BgRAZi/ZirhfApp4N5VPzbbMoLwDUAjDmGek4HzgT9GEAMWDYted5PgfAy3oEFajMW0tkZPPjzJ3PolZ50Dpk+2X9mQAJmvSwhpGAmcDHaN/hixhHAAYAj8BIffxcryAXOnQccTclDTkYzrPl9A7yzHR9bNlx42N2+L2EoBzfYMqo5cfsEJzrGiQTmEHlz1vz1a9bD+JFbX8wPSLY4p5XdpILv7X5X+90NfPf+lbFAlC3LmAg8NNUBtI23hi/n+jze4zrmNTQBaBPytNjvM44X/DQ3T99wtHppTe8Pd2yaL207kuOT4t+f+eUFi4a44rK0MUDxQPFA6uHB8b5/J5vHpzoC54Ml77EwE3eKktGWIaqX8/yUTi9KziIawFFTf3MZQfzumnZVVk2/Z+BEjXSAE8uhBcZxXwdoY4dn8lahhgZGj1xtUFGmIsAFhtEG87nCoDnSt8Er6hZAyEo7sapA2CCZIC+oAEWQAAjtHZK58AncFgXLjOvUNQWfFlvveWrAZ66qJhHBl2wI9pkaQlWp3Lnbc8EHVy3S6aanoD5R+ZZbbF5CXLwFSo+ZfCZNlMDfd1vrz7xiao+XvAG0GvyU9v9jdlAP4BAHIBer4n/5jerPehH6c9bvVE4D7aD66rbxoLg4zB7RdGcUWbHkIj2ZPW5+j1H5vr00yutAYElmgtA7le/Wv3WlSB0DZI53jh6lvezehAvxhaYcU3BKloE7hUBJ0EX5j4WLBukDu9Y7I9gubiW3xrtB1n0upBi2/6N8fuJPr/HuI5JDV0A+qQ8PcbrjPUF76pz0j1nvzE97N5fPLCCZWtvmBbsdURKW+89xlWVoYsHigeKB+a/B8b6/J5n7pvoC14oK3vBBVzCgC81tuO0oNcO6kMOSHt5Z6G6Xp8Tanv0l/YdGixwE33VA3yq21V/y5wT2fEYr14LnNfl5/Po5xO0dHXsbbTh/HxUZlliBozbB2JcuWmnBmg1zdOxMvIswNegPZMFRTOvq56jHKtdH7QXgBQKv8yrGv+oiW7qQU1wMMCczLd7qUsGXaYUcyFagAFzel2r8Q4tgW23TQnbgQ3j6/CLWns14MMGiHK/6htPrE/gAUDPmRmOk+W2n7mYYH5+3hu+Xm7gPhWMyvvU573AIzOtbRyAWrdgLyi9sF/q14M5kSupCyh19YHADOu3h54dgmc5myUEErUhFDQQeHG/K3lQyhFsB/dk0N1zkJ638xNcsC4MCvdumHvfcyF+e/F5myL9oN/IHL+b6PN7jnOdhtMLQJ+GXZjjHMb2gnfVOWnZ6S9Ny9KytDCbo1eCBf73gpMKSJ/j3pXTiweKB1ZvD4zt+T0P3TrRFzytmL72tbT0Na9NC4/+6APeXHLtj9KiTTcZv3cj0+xKTRk0bdCinRcF5xCEy2fmM+A6LIILQImX92AHRB9sxzmnqee660Urtq512XHdyIp2BT3OA4q1NWtTs5eNzan9MqLmH8rwxgJqZW4HGQAFGPFp3mcbFRtjYJCKu3GjzAAtPOq9ZZOj13tcmw6ATDdTP6w+X031oABAiNBF/2znAnLAn2CA7LksOgAbHQeG8XXMTQbaXnXNHg/yp8ANpkNdXE+Nuj0VnGiyyCr7DlVbzXyYWno+y+nkgk1xX8pmuzcFZAQ06uYzNHnjODZXfJd5t/6cRTBoX/Kaci3S+mk02A/7kptsuay5MhpidUo17CfNAiUnobjPf4A7VXxsgjAskfBrlBT02wusA9R91kWRfvCvZE7fTvT5PaeZTsfJBaBPxz7MaRZjecFbuiTdfeTWaY27bu7bC/3etdZPa775qkJ3n9PulZOLB4oHVmcPjOX5PU8dOtEXPC+2F1yQjvntv02vuuMDD3h02w1uSu/8yPorYMKxubvphRql18s6mnqA77qoW0woMuXxtz7R6LjUq2WL9923ohsLRqDashzw5AvLa6tRmIdp3WR8mdNhgJ/ssOwfkNRVQd18Q0U9B0a5SNqgzZINlYWOzLtjASZidGqTUZ/7tSsLwCZrDIQz6tnq5nMLMS+fHXpoRdOndSAAwOqZUp+FvoCgQ9RfmxPgpXVe1NKj/198cTXOML6O+aHfC2bMBtx3/RGoA3df9ysbyAElenzekx7bQJbfHoXlvcDdM5gWaOx5+7w41v66F5V5APrGAYIFR0JzAnjmT/tMI6CpDr9eUx7q8E0+CJ/m30W5RognypwrXdDmDiAPC/o+NgC/YCVYv4BaCEC2MVgE3AQw4h5r6qme32Nd93EWx030+T2L+U3bKQWgT9uOzGI+43jBW3Ld+WnRSc9pnc2Sl34hLdp019bjygHFA8UDxQPFAw/2wDie3/PVz5N8wfvllk9J6159STokHZzelQ59wKXrpl+mXy141IM02cbm8zol1Ut6TvF14bqoW0wG0Iwsu88oagO8RNbU7QIysoaotmpYmXPqVHKfh8q1/wYigImuFsJfwwC/k0+u6sm70L/z9nLoy/pi5/2sATvBiTaTVTXX6B8fa0W17zp314q665ymbyzA1FjRJ91n0VPbf6uxz4MRee2yc/k8b4cXYn1RM523l+s639wn6PFAa5cSizZf9vveOvxzyinNR1BYj/7uNBPye52om2AFkTdtADEegGXz9W96CrLNuRJ8fhUBDeUZQL/rG8eYygSUSxgb9V7de30v8nHqNeXuVcGkoJXnx6Kfo+3nps5ckCvo5yHId+CBVY19mDp+GgP0E4yR93zPRRzb9gJzgHBfv0DXqNtE9pnPJJ/fbS5ZFb4vAH1V2KWWOY7jBe/qr3wqbXHBQa3euXqXo9IWz3xF63HlgOKB4oHigeKBB3tgHM/v+ernSb3ged+/cs0npcfff2n6u3R4+vs003pKS/F0R7p7wW/1cBW8WxdKH7vvb7ihEvAKa6oZj+/yGlafASIASWSZKV57eadsLsPGoha7vpDIMPpcqzB/swBKgxYONAE+wwA/mULHdxFQC2Evc4h682g/5bNcuG3QPAF9Wei8XADoQ0fumpHOBfQiG+uaXXpq2wdU/LoAYRvNX7su4DrPPnfxdV15X714ZKz7lVhE/bMaeMwNdfbDmNpvtG7722Q5TV+gRcAlTHDKfQrEK9OIQFIwSLAdCAvWuwbE+dGGDYuEkJpMtP8WvBHkMLe8fV3T/NTou9/yHz66vnKMPDgT5/qtRDvB+AxzgoCgen3nUm/HpKgLUmJjqEGvq77b27wNYpv/3/nObvuUB7raxpzF95N6fs9ialN5SgHoU7ktw01qHC94F3z5zLTLhS9vncgFO5+Qdtljpqdn69HlgOKB4oHigeKB3APjeH7PVw9P6gVP8vGRT3tCekL673RQ+mA6Ki2nKS9O96XfpMU9F4/5fbZ5G1HTUdTDon9309EATd7KjBq7yIK6XvW9ekajzwIdIbYWaub18WT3Qizv6KOrTCUjtJX3HG+ah2xkqHa3Ab8433EAyrAZ9MiEyjYDctgC6ODA3iCTjVa7jo0Q9GHHEzyz9q4ZaSJx0Ysc5RrgaxNsG5TBbDvXHIE1YoCyw3kf+jYdg1x7wDio3ijf+R4Myup3DVrkfpdtBtD7ta574hMr2j77z/9csX6bDgLGh0CEeQabIDQYtCjTx50SfS7sGNfX4s09gUWidnv33av7Vx2/bLa5NWXB8/kLYCkxyQF6tACM31N+PNCPyp4bwIw+Hz3K6QeoP49ASxxrvbQiBBMIzRGywwzpei/GOF0Beh7oGvxrmdW3k3p+z2pyU3hSAehTuCnDTmkcL3gXX3NL2uSUHdL66da+Neg3p3XTj/e/JD1l80cPO+VyfPFA8UDxQPFAwkC+PT3iEY9It912W1rbC1mxvh6Y1Ase3PH4/bZJ26Sr0l+lY9Kx6VW9OS1NC9KitKQnk8rG/D7b7AdgROYzrB8l3fdBZY9jA4DJkqJha0cFBFGtBk7inJxG7TNgCkU2xLiaZiaTL5PZZLKaQEhYU229rD7ACNAwNcT6hXcVUAvARASsLhCWzy1XwM7nGj3E6/3jo4VdW0Y6QDaGgkwt49P99+8OqJoiPsOAMWwGN2Uumtfk636/sKZuAINUv4eZW1xT0AJAV4veZHkvd/X0aPsRgBA4IcgGWMt8R4/1UOynZi+zr32gIFLddCpAa3evmUcIxtEMAOq7tNMzZn2fIjAQmg75dZtaIOaicAIGTR0KjBEt4Kzlta+tNCPQ8IcJjLgnBDWwZdpszBHHST2/25a5qnxfAPqqslMD5jmOFzz9z99x+OHp8Pv/oXflhdX7SM+WLqv+/fbFb0mHvf3taVH+5TzwZ1lC8UDxQPHApDwwjuf3pOY+6etM6gUP7tjwaVukLdI16WXphHRiqthkd6eHpbXS8p7fY36fbXZvHUBGnWrT0UFlj+9Qp9XXRisw4mmXX14BhMg4OgeNPqyNXt10XVnvaD/le4BE3W1uTcCPqFqonkftbtv1cxV351Jd72eYAuqb81rcoOgLBqjDJ6JFeCtMrTJlcDYo++974IkAGGEwFtnTroCqKeLT9dyYb6jJ5yB9kOBZ7itZ+GFqNowLREZbsC4PBLR/AF0muClYEhltY6H7E63DpPjVr6rRAXT12GrTqdozveuxSt72tkq8kDCfe6lu3/3ucmE4td6U16M1HWE4bIkuVt8n/cZR/UOsLx8jSiTyz6KtGsDtnurX5zzKV6zJ2mTRAf5hAiN+6wIQXRXph9n/Lr7KjpnU83vIaU3t4QWgT+3WdJ/YuF7wzrvipnTWqcekdy0+KW244NYHJnTTskem997/srTPfq9Kez1ug+4TLUcWDxQPFA8UD6zggXE9v+ejmyf1ggd3/HSNx6SNl/wovSB9Jp2eKorqbWnttE66rYcrVloNuonk7dNChbppw72UqzsPQ81FYSc2BZhHzSy6emQcnaO4nnWhVzddN/qrx3fAhSxjmxFVA14YVfmgtwMx6sBzur5j0NgBYkZlHQAfZNaO5g+kR523wAFgrk5YvTADUqLHfJ2i3C/7j+YMFOc91x37vOd1B1RzzaCbe9PN2XUfhwXoricDjDre1ewxP1P1V55Rb+lHpT5E9twD/ImVEEGj0D9Qm+4e7v1YZ6j5Shn++Z+rem6q6HWLFnfU0YFxgoAy6t/6VpWhbsq6N62rvk/a3AkIEBfUlzw3vwXZ+jwgBeBjiOStEvv5z55gBggABCXeWNgEcY82nRvq7iG610UDIQ/qdN3PIY6b1PN7iClN9aEFoE/19nSb3Dhf8ID0Q8+5PP3eHf+Vjlv8j2ntBXen/Re+P+3/p/sUcN5te8pRxQPFA8UDfT0wzuf3fHP7JF/w7vo/v5fW+uX/pL3TOemctHfPlbek30nrL7il99/R+Wql+DgXfyMYp568ydCAr7tu+TcAroy7rKFsomw5wCrjSGCL5QBpmExdfn1ghyhcmDZSXcTEgCZZSKY2HuU9TNu0HXaoepRbs/mHEBzAghmgPr/N6uAqspjGJtalvlkAJOj6NtoxuQ2ifcvuUt1maNz6a3elxzepDrad22+9+Tq77uNsKCHYFwBo3WR/3X91fQJAFsimqO4+/uUvVzwzDxBhUWA25Nlye47RoDxDBv3uu5d3J0BtP+aYCtA2tUdzPAq934BMvn11j7nX1NoL9jz84RXI7pfVls33O8ozzeZorv0MgwQTYlC7wEH7yF8CD3mgi0iekoR+5lj3Mz+h9jMgnRjeffctP6uuSN/2+5nD95N8fs9hmlNzagHoU7MVs5/IuF/w0N3/4/pb09qnPitts+QH6ZSND0mb7bZ/evJjHlXo7bPftnJm8UDxQPFAqUEf4h6Y6AsewPezn6UXrfvldNov9+jN8n/SRmmn3/ufnt7ZmJNNg70ifS9ryHJAXT8ras3jc2AIwJU19NIuo4wenPc1p3geoGpYenVcByDJqeYUq9UGtxk6uXp4JqtpnmFXXJESSj4qsz7WAB5hO6JwXQGosXJ6MsDienkWl28xDQKgUw2Xae1qWtahb7O81VsXeny/m6pN7K1pbvk6u+7jbEQV6AtEcCefhww3sIumnhu6NsCpvpyv66DVZ4JGTJb5Oc+pQCaVeqAZsKaYLqDiPgVSQ30+FNgBU/d03aIHPZCNev6iF1X17AITRNroJES3gn4AXUAib4UmgCITXmcCdL1f2o4TkMAkUIJCWI4IHttoo0okj49zbYgA3EoPBA7sg2BWmGAHEUPUd0E0Aakx0trz5U30+d3m11Xg+wLQV4FNapviuAF67/9nrrgp3XfGgWnvBRekc37zlHTq0mekn/z2E9LBe/9hyaS3bVD5vnigeKB4oI8HJvH8ni/On+gL3kyW+ubPXpDWf/4uPRfevcGm6aE/uXZS77P9ty0H3sBqqIbXz4ha8/hcHa/Mm6whmncoVgPQejEz50Rt7zDAN65B0AtAzyntwLlrtJlsNcDNgIq8xRbas3UDQ7Kg5h8U8q4A1LiRJR5E+c3BGYEttcpdDaAELBka99OfvvzMNnr8oGsMI/aWr9N/d93H2WTQ7a2Mdd2AaiAx6vHje0wKAJ04oeBSvT+9wFj0iVerLmiBpn3ZZVW2XAZeUMA9DJhjTQjeAJ7RKk0ETUa8bvk9BJwKzhCKU9ee169TY6fqfuedDx7D9TFOwrr6tuv9Uz+O4CFmibZ0suhRAoJFgvaP1m+9dcAd5QH8wj9hSmL4N5gDs53XLM6b6PN7FvObtlMKQJ+2HZnFfMb9ghe16EcuPjY9fMFygZwblz0qHXL/S0st+iz2rJxSPFA8UDzAA+N+fs8nL0/0BQ94vf329MPT/jM99kVPqtw4CAxP0tGAa7QNU0/er4WYjHP+cn777VXdL4q7etxQN5eZQ0Nn+XizoVerwwVg9HoOA8pi/EF+ioypYwJ0xfHR/52omzliAASFvCtICnqyMVGpu1COQ6yu6/7m/eJlj4G93AbR49uu4VxrVWuvP3aTDapBx7rolxmONnPDZlOjxVh9LtgPAHouFugYgRqsBPdsiBTm5wqMRalC6AoQilNvLsAkkGQMLeUAbllkbdm0ZwPmgfomYTbXUO6Bdm9eauEptwu+CMJE67PQNcCaaFKap1kgABU2THCobX+bvpeZf/7zU/riF6ssujmzKF+hzYDWHyKHMUYI7AlqCWQwe698g6hf3m9+NvOaxTkTfX7PYn7TdkoB6NO2I4mmyPPS17/+9fSMZzwjfVZEucXG+YKXq7kTcvfsDytq7m07U74vHigeKB4Y7IFxPr/nm+8n+oIHyN59d/rOyVembQ/YpnLlE55QZfJWtuXCXHony0Y2WQ7kfY8ui/pbB6ayhXots7wPtb+HpVer7yVmlWdVZdNlKNtMtlBGk119dSViF4Z2LrvKrMs+EHcDTLqKoKEwy752BfSuVc+Ct60hatodRzwNFXvUNkjZvknFvcs+Dgr0DJq/1mQBGvPj3KN+Q/yXGwE3AB3rA0iM+ug4Jm8biHKv3pxQnONlfqMcAzMB4Ka/EOUQwLZ7wpy0BawbwUSBmYc9rMpGo8qHOGAwAQBeAF97NzT8uhGfs4awYe6l2dwHALp7PC/pMI5SFL+R+O0KKPBrWLSo23TT5e3o8haNK+FZNtHn92x8PWXnFIA+ZRtiOl/72tfSHXfckU488cSVDtBLP/QpvEHKlIoHigfmjQcKQO++lRN9wZNd/s1v0lePvy49/cBNq0mG4nP3KY/nyFwpfMcdm4GEK0ftbsyiXw/wfJa5qFR8Pgy9Wm0ssS4ZybB61rGfV4h1qYllBNOAqTC1xuj5TFYQOCHGFv2d29qxOQ/Iw4IYJusJGMWcuuym7LbML1M3ja0wDrNegnq5yBpArPf6oFp21O8m5oDMv+zzsGYedRE9Y2AOyNaGYF6Mq9YbkJT9lhnn39yi97fPTjyxAtp77lll3G++uaoRR5EnxuceMU4wFYB2GXv7q768btatRlsZBoCe9xbHInHPHnhgRSkXHKrT741XL9cQHOL3XHhtWB/ShcgZEfnvVH05tgCWgCw6jQMW5StKQtxvsuxx3/le0E4AJG+bGOv3/UpgA030+T3sHkzh8QWgT+GmmJIM+kc+8pGVDtAv+PKZaZcLGyKRNb9dsPMJaZc9njel3izTKh4oHigemE4PFIDefV8m9oKX9cL+3IdvTPu+bsNqkkBHXfSq+/RHd2Re5ww81kFOXEn2lvr5MNYP8OfUbOJyjMAcOnLUxfpMxu6Vr1wxyxiZ67Z5hFK744ANLcqCcn3PPRXgY+poUZtlL4GXsKZAgmwpc35k5YfJeqp1lw3ualEH7XhlBGjc4zLZ4rw+XraZ0N4gq1PsAV7Bj/33r8D9sJazHvJzgW/7VVc3d6+cc06V+Qay1X/npoTBXjFibO4lexifxbGYHkAxvYRgOYS2QmgT1NciA+/eAYAJ26nfBuQBekEk2XkBARn4mRKXB7mjqSNBvZ3hMD4EoLEIgh3iXCyUoPn/7/9WQFsgIg8WRavEZz+7oujvt1/FkAkT0MA0yWv6o82cY1DkmwIQ+dznUo7R4IOJPb+H8f8UHzuVAP38889PRx55ZLr00kvTTTfdlM4888y0j4dIH/v93//99OO81+fMca95zWvSRz/60fSe97wnvbemILreeuulm0XjRmhd53300Uf31mdt22yzTTrqqKPSU2sR2mkB6Fd/5VNpiwsOavXS1bsclbZ45itajysHFA8UDxQPFA8s90AB6N3vhom94KnRnAF2//pXZ6e9jt0nLUrLKqotQLKyLc/SyhrWacQxv3403UHzH1Y8Co07B7Ayc9S03/KW5VfpJ9qVzwOo0o8dlT2MordMp4ywns8B1kPcrt6KzXkBKoC7aMMmY0vw69prqwDCMLX1ggYAUlcDdAMoUQ1HRR6XXXjhijXuL3tZSiec0P1q/KAnuCy8oI8M+rA16PX9j6vrYe83JIiQG3YFgK4eHr08p2U7zvX1/mYYArLZ/czc3S+U4fUix3CpZ5rzcwWUnMMAcvcooTjlHcTfjCHIodY7Ajv1a1NN5+OcpRB0cx0GtGDLzf0m09+v9v9zn6ta8QlMhGGhRJcGe0MUUXAhF06MVon8jDUQgYUYI28pF3PKA1N6yzfgpgfm0BTsyn+P3e+yB46c2PN7FnObxlOmEqB/6UtfShdeeGHadttt07777tsK0H/+85+nJR40M3bFFVekPfbYo0cV33333XsAXS33V7L/Y120aFH6HT+mPub6T37yk9NiNLfMvv/976d11lknrZ9Hu2a+7zLvz3zmM+mAAw5IQPrOO++cjj322HT88cenq666Km3sBzNj0wLQl1x3flp00nNa790lL/1CWrTprq3HlQOKB4oHigeKB5Z7oAD07nfDRF7wvJjK8sULMm0l+iumiV6KZrqyzcs4+i9D/422XvV5yWIOm/F3Tl15e9B6g0obx8jaqYtV6x1GkEtdej8bpKjunGg6T8hM+zMUZSCu3ootH9817eMLX1iBQBlYgCTeswa1PcvBVAiQdd1zIDnq+SMg0PXcYY9Thy+THKYWHLjsYqMAYMZAE29KdglmAbmyu7mhkAPowLK9oU5eN8EY/8gkyyB3MeCRoXFTMAdc6wbsGpMRMTz44Kp+ns/0QEf/N6cPfKCihvezep2/Y13X/ajOG5gGkNHm+UHgqV6OYOxcPBFAD5o8UK++nvGTbDequyw65XsmaOS3h/EiSGJ8LejCsEUEDvKa/rwcIc+s19fZ9ffYZV+yYyby/B5yTtN8+FQC9NxhCxYsaAXodQcfdNBB6dxzz03XXHNNcj6AftZZZ6XLOoq7LF26tBcc2HzzzdNpp52WgHl29dVXp9122y298Y1vTG/Jo8MNO9xv3jvssENv7I8RoZixrbbaqscQ+PusLcm0APS0dEm6+8it0xp33ZwWZgJxMXdCcfeutX5a881XpbSw8lOx4oHigeKB4oFuHigAvZufHDX2F7w+L6YPAPRpqUH3wh/vELJvTWrTHAakyJoNY4My8k3j1EEiwIDmnbe5Ovroqi69ydoE3nJVcjXod9yxfJRBNd6UrV0TTZ5/AHogSnYyrF/bM2A+so7D0tT1yf7kJ6srUJ4fBPSG2ZemY6NtWHyHDn7cce2jjgKAtdX8EyHTCgwYz00Aw2cU2QWamjL+gCp2QBPI7re6vG7budgjdQP2KfkzVHUAmlCce8Xvye9KZpwI3CDWRF0pf6YlYw+Uqw1nAYaDkRL19PmccnZGjOF7wDqU15VyuGcFjQD/SA6GUCQ/o7MLlHzkI8tHl7UH9NXHR7u4KBlwlLr3XL8gzhzm9zgk22Lsz+/2O3+VOmLeAfT77rsvbbjhhulv/uZv0tvf/vbeZgDoKOWPeMQj0hprrJGA5MMPPzxt6ubtYzfeeGPadddde8eefPLJ6frrr++B82c/+9m9rHebNQF0c1trrbXSGWec0VNqD3vDG97QCx58I4tadwHo6Pv+wR4QPLjtttvS2nqEjtquOictO/2laVlalhZmYy/tZRUWpAUvOCmlrfce9VXLeMUDxQPFA/PeAwWgd9/isb7gtb2YmqaaWpmsIV9Mu6+w45GEttR1M+8SwECTEVDL6e+DROLiu+gL3XEqvfZX6mHD1IQTrsoz5t6ZZPiarGs9OBovIawcVAAm+bXz8WVFZWsFMGRxARyZ3qA4x7FNdbYEwgAc9r3vpfQHfxRuC/sAACAASURBVNDVGyvSspuu132k9iMDvMWRoUA+6My2+7ypTVt9vLYxHC97jt1Rp7AL3giYCLQIoGTJqgcuIwtNCE5d9WysX1mCa6KoM2Uip59eic5haAiquEepodOaaEnC9cZwTypPDZE4tezufc+H0AdARRdI0ne9ziLJ79/oa25cvcuVR/AzoB5lEuZPRI+5rhIP96pAjdaGaPphP/lJxRbBOlGyw6LO3n9rh+hZVrdhfo+77z7U7oz1+T3UTFaNg+cdQD/99NPTfvvtl2644YYeUGeo53fddVfaYost0s9+9rP0vve9L6GqX3nllWldUas+Zgwgfccdd0wXX3xxjy5/wgkn9LLybdYE0IH+jTbaqEff3ymL7gkWUGz/wUzEbM8990zf+c530p133pke9ahH9RgE2w+I5k3kBQ9IP++tacHtNz6w9GVrb5QW7PX+As7bbobyffFA8UDxQB8PTOT5PU+8P9YXvDG+mI7c/ai56LEMJfe005ovoT1TiHTl7y1N9bBe/GXahqXxA7CRNTQLwl+ykMBimMydzHKTdVVU13JLYAIoDQtV9qZxCZ6h2gs4hJK4rHhQnAdtSq7gndOKu2wk0CkjywQTZCrHZbmyvWvUs6hN1x3Ffd51DCCyXmIhyAKgA41AJbE2BkgGxfv22ytQO0wGPV8rsE0HoW53312B6bqhx6uHB6Ld/495TEpYH21GZA64z1Xxo05bph4bxW9DZl17Nln73HKNAqDc/cxkxf2u+EOwAXPH7xdgj99xsGOiXp3A3fvfv3x0waENNqiOVy7AtDpUrx/+DuCez2mY36NgyxA21uf3EPNYVQ6ddwAduH3oQx+avtCP8pX8f9CdabPNNuvR1GXaBxnhN5lz2XYA+iFqnzrYIIB+0UUXpadkoiqHHXZYL0svaDAbm9gL3tIl6eajnp7Wv/2y9LVHPj897XXHFVr7bDasnFM8UDxQPDDjgYk9v+eBx8f6gjfGF9ORu1453AxDcKD6NoXnqJn37qLet6nNFnEsddMA7CDKfNNC6jRrYmOykOjWYf36Uvu+K9iTrQTyozbXufVe6fn8BC0ACNlQmUamlVVQnAdtiox5UIzr7d7aNlOWFNBjgGZkbNvOm833aPu5TpKae6J6g2wU93nXMQDLehcBQNj7OdDoHgZcGT9FRtc+YYMKbvDhsBYK7fXzZMwFtOqWM0sEdARougD0pnkFgEaftz5g3z2bg+M4L7+38o4L221XgXUBBSr3gl78k/si2DHRok3Q7pBDls8or7d3n8jq10X37EE94TjM77Fk0Ie9M4c6fl4BdErugPTnP//59FwPgQFGRO6xj33sCrXg9cNl24Fzmfdvf/vb6fnPf376MOGRDjZXinuHSzxwyCRf8H58/AFpk/85J522zivTiw76wDDTLMcWDxQPFA8UD9Q8MMnn96ru/LEC9DG+mI7c70CY7B2TKYya5/qFAOVIVkT7Klk4IlgAQ1goqMu6eXdCL+5qUesax8uQCgzkGUzgn1p2k7UpqueUay3LZBbDBoHnqAEGdmRjWVfAnGczUYVDgKyLTwRACI4xAKufGniXsbock4uL1WnOTeeP4j7vOgYAV9dAwOoIUUOA8l3vqmaZtxYjjEbEWX/1fuUbg3wDiKOa59aFlu94JRoyz/1YKTEmwJuJU69wLfesVoQU5o2F9ZEzK+LgvKY8L0cB1mXdUdq1G7SWGCfODXZMtKAjeqePe1jOrqCp4D7x26QaHyZDHwGeKPUgjuk+0uatiWnTpQSiz96M9fnd5beyih0zrwC6WnP14T/5yU8GZrrvvffeXgb9L//yL9O74uFQ27hf/OIXPUo7oTg14wTn/E2B/QP+z63FBonEbbfddj0V97Ctt966F1DIReLaxs+/n+QL3v+c8ur0uz88NZ225ovSi97aXos/zDrKscUDxQPFA6ubByb5/F7VfTvWF7w2oMh56jYJTa3sGnRCYMStWF29Od9kVHOts5j6ebW9jNo0MbcwdcIEsrycA0Vou12NEJr62TBtqtQeo5eHRbuzfmMOUlR3Tqi4UyzPxX4HgWeBCQEKFOOgDqPwN1Gc6/OKHtM+H7aOHCszaNuRuezqy9kcJ4NKcI1hQrS9n7bd510AWNsYcb9hUwDLuekSoJ83O/LIlP4/e18Cr9W0/v89HQ3XdUvmSkLJbaCElAYiypBQPxVShsiQyhTXVEK3DBXNca8GipKKSwNRKclfIoWKwq1kuERoOuf8P9+9z+qss9vvu/d+9/Dufc7zfD7UOe/aaz/ru9a7Ws96nuf73Hmn+XempBJrenW5Dvkz88DZht87nRzQCSe7OXN7qaAqBDi9w+3njNhgRAC/F0zT0EWP6GAuvMrXJ7Hcp5+a9emZHkIuBXr1GTGiRHErqJ8Zuq7nzfO7rvLVGZlADBlyz0gUJSqn3Y4s0W58ytuuvo9uMShsF+r+7VGXJDSPpYG+fft2rF+/3sDvpJNOwpNPPolWrVoZ+dgsRTZixAgjL/stjfyEzOvHHHMMunTpgn/qeRhg2tIdaNeunfHs999/b+Sgk5Bt1apVqKH/w1I4Y+yLJdZYK53vYcg8he2px7333mswuVvFSW+2V2XWxowZY4S5jxs3DuPHjzfy4e10cbOIojzgbX25Hw5fNQYv5rZDp/snu1FP2ggCgoAgIAikQCDK/TvpkxD6AS+FobiXxZ2HaGXwZhPMyZOLPNLp8o7peVPGNg/ryshRJZjUGF57zcxfZhkykmfZlb5KNV4rURnLVrG0FA0SJfRG2oUW632mYlRnDXVVc5qXCrxcUKJ7IK36MfeeXkaGGCvCN+bcFp7n0k6ffhFAT2IarqJ9+qHBSSO5TJnUHtYg1w69+6okIA00lWOc7h1uL0Qy6UM9Q56lo4/e1yg95RSzPBiFEam9epl/J6EZPc6cI1UOj+dszj/HxcsYhtanEj1MXRmkelu3YflOc8MLHl6KUS83Qg83Iyl4WcHvmS76hdGVVwK8yKLwEoMGOg14kkHy4kWRzanndYOev7OG9bMcoVrrKmWAZHMs/aeEv1fki6nqtOv6siKB/n10M36tTej7t0d94t48lgY6GcxpCFulW7duBkkbPeX8c+PGjXubzJs3D8w/Z544Q9J16dy5M5hLTq84a5+T9G3gwIGg5zqVzJ8/Hy1atEAFS3gS2dZJLFfdpnSGk97qXfSeDxkyBFu2bEH9+vUxdOhQg4wuU4nygPfznEdRedlgTC9ohY4DPITBZTo4eU4QEAQEgRKMQJT7d9JhjOSAR+OF4agMsy2U3dgPZbHHDMcdMCD7MOr1jBnqrjy2Vs06dy4ytvUcVhqdDCFWwpBjetCZK8u8baunL92IiZPOjE7sGNqsG+QM02V4rZPYMarr0QoMP1beV/aVznhmLWxeFLAslarT7dajTSNShcUzYoK1pN0KS3TRSaRSCtw+l2k7Gl3Ks8p3q5xup/7cXIhk0od6hmuP3mheJlEUCZwe0aC8w/ycVZVooNNopaFKg5ved6ZbML+afT34YJFGVq+6IktjCxqnVr4otx70VGNWJIqMMCHPgBcCO0YFcO1aCfP09UhSRVUhip5uVkcgJwT3HKYC0EbQKj3tE/7PEmu8ZFNCg5uXRBSmwLAfncyOvyf+/fvv+/tUGLj9/qR4PpL922nNJujzWBroCcIvFqpGecDb8e5IVHjzH3gtrwlaP/A6KpSV2uexWASihCAgCCQSgSj370QCpCkd2QGPdZSbN0f+IYfirB9fwgjcjPpYY9ZNVuRs2QRTlXCiDvTYsnySneheORqZNDYpVnIxspzTQCfhG3PFmTPuVuiF0z3M9HoyRFc3yGkMaqVl3Xa9TzuSZSlGdn6YzngmMRxZxDluhgpT7Eix7JQhudkHH5if6KWt3CjOPGCuk1RlrNz04aUNPasffWQ+wXczF9mtOF2IuOlH74O5zoygoDCCgkYy639TWMOe80VPOdMiKDpJHB1rNCBVGob+bhr75BJQ4fD8jLn+nFfWUad3mmmjdJylilxwm4PuNGZVlo3RAYxcSJWnzRB9FdlADzqjP1hWTQkvnvg9VKKXTuQ6/+QT82KJFwLMG2deOvcldWHFCzA9fYBpLzoxI/sl/or53Y2H3GnsPvuIbP92GkdCPhcDPSETlU7NKA94BSsmIWf2LXg7rwHq3DEPR1SqUAIQlCEIAoKAIJAdBKLcv7MzwuDeGtkBj17aM87AnlrHo/z61fgcx+M4fGmWDqOnKts56PSkKQZlGjk0CO2kW7ciY1vlwqp2NFwVKzS9zfS+kYCte3eArOtuxVrqi+RzNCZ0g5y5tcwH9ys66R37SpdTrvLslefWahCl04VVdpYtM1sogi23utPLS48nc8P1mu1un/faTtXD5nN8Nz2i2RKdj4AcBMRcrSWSnDElgQa0Kvul66l7wO30Zx42Pb5KaNAyOoJ/8iKKmNMLzxB0rgs70SNPMsVIVTlQaQJWo1XlaetpHeQIYNqEFvW7j56cNxWdc/755vrj5ZcuqoQbUz6sOe28qOD3XRdGANuVUst07GKgZ4pcRs+JgZ4RbPF6KNID3uqZwLRuWJ5/PA7o+SbqVq0YLzBEG0FAEBAEEoRApPt3gnCxUzUyA538Nq1bY1eVo7B1Sz6q479F6uiH5GzhSe8uvbyUdEYZvZnKQKKXmyHhSpibrQwGXkjQg868V5Yy0w0hpzHSGKK3WAn1YYg4vZpKmHtLZne/oufUs690OeUrVpheVyVeQs5Zmo3eSgo9kCpU2I3+NBSJAcP+VWi9m+cybaPXuue7GQ6eLaEhquq+04Ckgfjss6Y2ZDXX0kb2UTEdKzobq3Ji6kFeBNEbz3VLg/Xhh01CQKeLERrw9GjrwnQPhpO7EeLNCBYKjXR+X1RkCn+n8rR5QcUx0ajlxQQrA+gGt1VP8haoCAE9T1/XSSdp46WXHunCtBRrXXISQ/KCKSgRAz0oJF31Iwa6K5ji3SjSA976N4HJHbAmvwZ+vmoBmtU6JN7giHaCgCAgCMQYgUj37xjj4Ea1yAz0whByksPxv8JMTkPFAuSYpYMzZDJ2M07HNjSkWXKMQsPk3nvtH9HrHtMI0Q0kGq80Yik0RmnoMASX7PBjxjiqsLcBjWSdq4c50A0bAvQCKiGeNGz8ih6yz77SGc86RmybzrNq1UvlunOi7by96cbBaAaGmvMih8RmYYteiizbKRh66gQNVJZOGz/eRCBodnSueTKbM+KDVQOY908vtbUcmRV/xXrPiBJeKDA3m33RsE51gcB1oCJQWA5NT7Pg94+XIlwz9IIzokFF2DBvnSH75HagrlyvKuXCqie/c+RvoNCwtl4iqHEoln3mqav0AX7G/YhrQRdenKWKJnCzLnXiPbYXA90NaoG1EQM9MCiz11GkB7xv3gf+dS6+zj8Mn3RYiHYNqmZv4PJmQUAQEAQSjkCk+3fCsYrKQH/vrhlo+lgHwzinLW4Vw0ivfqTJDp6NcHce+GvWNNWyllfSldVrL1s9unrdZYbTMsSdxGg01EeOdL9SaHTohFxkneblAfNolcybB5xzjvs+U7Wkt1LVfHdiSf/iC+Dvfy/qSSfJc9JElaNijWjWivYiNBRJ1sYIBc5T2MJQ8kmTzLcMGlS8vn3Y77brX3l5aTQzT1sRnwWtC6MU6tc3a4TTKObYGfnAiyjmZuuGsv5uevLpLVckcySha9/e5HHo129fLdV4VI15ppbopcpUKTiW1+Pa14VRK/Sak7WeXnEKL69YKpDYqOoC/L1emcENVoxI+c9/ilrOnl08aoWf8FJB9+6n69dqjKtx698BMdDdzExgbcRADwzK7HUU6QHvu0+BMc3wY0FFvN52Ma5qenT2Bi5vFgQEAUEg4QhEun8nHKsoDHTam8Mr98dtv7lga+dBXeWCR4ktQ6fpgaM8+SRgU/bV+Ixs08rYtnrsWE6N7OoUGhA0zJcvB269FRg+3P1odLZoPsUc/Tp1TAZ1JUwZoNHrV6jj6NFmL8wtT5dfS+OHOclKrDn46XThZcKbbxavHe9WdxWqTHb1zz93+1Tm7fRLGBqZOpFa5r1m/qQy7Ggg04BW85V5j/ZPkgyPBHk0VDnPLK2mh6mnSkXh94DfH5ULr6I7aDTTA28VFbLO39NDTQJEEhAqYcQJCdrs0gtUCTwa0tST72RkCVM+qAfD0tVFAi8KvBAp8oKNa1QJKzHwUkQXEtUxvN5qfOttOD61h+gs72rcHJ9KjfHKx2DBMor9O+hlls3+xEDPJvoBvTvSA97PG4HhDbCjoCz6HDcX3ZoejcbHHITcMnZ+hoAGKN0IAoKAIFBCEYh0/044hlEc8FiNaVWrW9ALLrzIdnmfUWCsE7NZyyvp72cJNmVsW0Ou9bJOZAGn8fvee6axzwO7F1Fs0XyGIc0M59UvLggqQ4D9iqqLzX70uu52/dLY0MvhMtzabZ4xDR16/StWLGKAd6s7S97Rm0rjlKWywhad/ZseXL47m6IMdKZQkLncSzRGOr2tOexMpSCZX6pyZ3q+NnPUleh14/k7EiSyj9WrzTlTwsgYGsDKgH71VZPokASIikCQbRWbOr9nvNzSpVYts+44oz7IB8E0C4rOVK8uErjWvESZkE2eRr0Su0sweulZUz6dkCGe+PBmkkz7rFrAy7W5c83oIOb5q1QNfn/4PcpQoti/M1TN22OMSmBKAeeWF2JMm2C6EKOUSHYYkIiBHhCQ2ewmygPeWx+uwdmvNjWGW3PHJOQhF1UqVcCD7eqibf3CG/1sgiHvFgQEAUEgQQhEuX8nCBZbVaM44E2ZAnx9+d24G4Od4cqWB511nulBpjCEmLnmdnL77UXGNg/a+mFd1evmcyzpxBB31mmmwffYY85j11vobNEkrqJHk+HGStiv/rO33ota6zrrZePs+rPWZyfjN72JboReTnpWnQjH7PoaNsy85KhRwywBlirU2o0ebtoo1ni25btZfixboqc7cL2RKFAZ6Fwj6QjLnHLUGR3AcHIl/JnY0khPJSpfW09F4byoMm98jvwLp58OWFMirOtLlTbkxQMjTpSoyxzmgzPdQBca/DT8GX7PtWsn6iKBFw6qDQ15u3JzfF6Nid72p54q6tHuO8aLsvXrzSoPvLyxssIzd56efyWKVI7zxpB5im6g0yDVo1I8rrMo9m+PKnlvzr2S0QtcHyTZ5LohJsSS+6uXEpUObxcD3fv0xO6JqA54cz7dgt6T38cXFcxSDifuGIdfccDeHL3RVzYSIz12q0MUEgQEgTgjENX+HWcM3OoWxQGPzt4prcZgLG5MmYOejxzsOvRIVNiSpRx0GkI00ElgRqOFh3u7XHiVH0uArTmvNMKVwbNmjelB5+DJjk2DwovoZFTM/6XnWjecli5Nb0i5fZdeisrKSm/tQ2cU52f0bOkhvOneSQOFYcj02m7d6lY7e1bvsFn/9dzpp5820xqyIWQ05+WAjrHK86Y+vKDRQ8OtOp54oln2Ty9FptowKoBl1sjSroQGJ9MWVN31dGPWL9JoTOm53zS2aXTrvA7sS69jzp9JDEdehQYNzBxyJfSoMzXErpTgqaeaxjw967oxbdWVRrfOEWENX1ft9agARrswnUIJywqqyg7qd0w1YZoFv9csoch0CI6VXnIalnp1BT1VRc+z5/dm82azR0baMIc+Q4li/85QNfePcW6YWsHvHXktSKzJNcU97vLL7dev+96LtRQDPUPg4vRYFAe8vPwCNB+8AFu27cDa8l1RLicPTXc8jS042ICCAe6sif5uv7Mk3D1Oi0N0EQQEgVgjEMX+HWsAPCgXxQGPtu+Dh4zAw7/0Mgx0EsKVMf5mCo1zSsG06cjtqIXOehiHr6Z2hlAqI5A10pWxzUMkPWBKWP6KRg+Fh3Ua6AyTJaM1mam9CENjGXZPoaHC/FrdWLAzHrz0r9pyLBwTxckjbi3/Rs+pnfFnpwfDhzkOq5GWTmenuthhsf7TQ62M8lGjipjAM8E302dSjV3vj4a0Ivizew9Z/lk3niUErcIwbBpFJN5TolI33EQM6Kkoyqus+mEaAj3deg13fsbw9HXrit5HI588CiyXxgoBSsg1sHYtsHAh0LJlcc1VjXqGjPO75VZoSDPE3EoyqPLCGZKuR5OwXzvjmZceHB8vF+j5ZUQNy9/xgoIGJedN5b3r1RiINQkj1fdMXVKxHCPHlKFEsX9nqJr7x+g5Zzg7STp1A53ec66FAMvaiYHuflpi2zKKA957X/6ELuOXGRh8VP56VM7ZjtY7h2B9wZHFcJnSowma1jSNdhFBQBAQBASB9AhEsX+XlDmI6oD3ydVDceJzt2EhWuBYbChWB/0bVMfmO4ehyZAsGecdO+5b7ihVvi3DLpWxbTU4SBBHojgKGaQZmsm8a5adGuCCIE9fVIqtmr8jWRU9zzzkK1FeSr8LkbnxNDIoTmXMyL7O2udKrBcU6XRRpcusaQGpnuGtDiMUUnno7UKt/WKhnmede+VFZqkuknpFKU5jV7rQ6NQJ48iBQLZ/plZQLrzQNNDpGbYKw63pqaaXWQm5F3iBoueXpxq37kEnsz8vpJTQCOd3g15iPX+Yxi29o0oYQk4D3Er+x4siGrBsy2d0ocedxjGNeoa6u5VevQBeatEzr4RRMox4UZEyLOXH0HUl7F+PMODvVSnF1183+2IECtcHx0+v+tSpZg49Ree14CUGLx0oZMVXJHG6x93tWLR2Ue3fGajm/hGuQe5xJBTUDXTunawyEWBpRTHQ3U9LbFtGccCbtXITek81w3reLX8rjsz5ERfvfAgrC2oVw2V454Zo3zA4koTYgi6KCQKCgCAQAAJR7N8BqBmLLiI74LF02d13Y+J+V+PqPePRAotRBVuQd2gVdB7ZApf+X270eDgZQnZGoB4SXrt2kWFCzxkNJJ00jeWUmNt+9dUm0ZuX8nE8tKoa0jSGmLvNUGAlPkNj9/aje4udyphZ2eV1o8Np9hTDPb1kzOF1Eho7qcjK9GfD4CxgSoEysjhvKirCSeegPnc7dmJKXZXQQ8x1wjBwCkudMUeahrBVmP9N9nQSqSnhZUTnziaxWSqx+07QWGZKhxJ6zumZ5neBF0tKmKJBL7MSXhwwV926JhT/AqMzGKWhC0nlSC7Hyxu30Rt8nuSONND1yworCZz+3eYz6qJBf78Kv+cFB73fDIknxwS96TQoeSnXtav5BC8ZeNlA0aNTVN14/t4nKWZk+3fqFeH/E/J9cK1wLRMbYsm9klE3vMAhD0RAIgZ6QEBms5soDni6B31OuX74e5lvccWue7Ak/4RiQxcPejZXgrxbEBAEkoZAFPt30jBJpW9kBzyWcHrgAbxV6wa0Xj/GiAql3RM231faeXJrCOlGYOE4jH7pOWQeqptwZK9503qeKo0ahoHSEFLCQyy9pX7lmWeAHj3MXtwY3Lx02LPHbM98XN0wS6cLDb8XX9zXW5rqGTILMv/USXwaOLbds4QXvc8UhpDzgiVKcTt2hlK/8krxNcFLJ1XajFELNND1GuOqNdnUWQWA86mEa4FjTXWRlCqqRIV9q35omNIwt3IWMCxdL2PG0HumbeipEgxnJrEahczeXPe6KIZ3Xiwwvz6VqIsEevGJCY1oMsXrOftWHgdGxjBCRglDrBnxoQvz/kmCxxQBevJ5qUHDnhEt9IYTQ3p9KbxAUCkEJKljigiFY1K6+4zQiGz/DnP9EwuSSDJigaX9GMXBsn280GGkAqtLBCRioAcEZDa7ieKAp3LQv9u2A9PLPYiTy6zDDbv6Ym6+efspOejZXAHybkFAEEgqAlHs30nFxqp3ZAe8wtDw14+9BRd89TSyldpbbPxuDSHdCNRzthn+SkM5XSi2emEq4ybVQtKZsZm7ykMqLwSU2IXfZrIoGYqvPH5uDG4aGn/+ab7JS9kz3sgQR2u+cSqdM7k8yWT8ds/o77ZjEg/qPX7HzhsuGoRK6IUkq74KC6cxSwOdhqRVVJk+EiMyyoPC0P7u3U0DmYYyP2NagxI9X1vvjxcCOsmbMqxJnMaQZSU6kzl/xygQpm3oZIM0zMi3wO8LL4JY51wXkq0xNz2d6N81GsvUh0SN9J7rz1qjUP75z+LM8DTuqYsujOpQoez05D//vOlFV/nn+sZGMjl+p5RwPLz80AkgSYzGsmIZSmT7d4b6eXqM5fmYi06iTq4LkscFLGKgBwxoNrqL6oBHFvcbJ6/AhLKD0DJ3FW7b1RMz8lsKi3s2Jl3eKQgIAiUCgaj275IAVmQHvH79DJbel4++DR03PmFUy+pmFi/JnmRiBOoM3zRQyfLtJhSbo/SSN60zY5NAi7nf9HAr4eGfubt+Rc+bt+YI2/Wtk9eRfZpGjhthuaxJk/Zl7E71rEo/2LRpX34Ar1i60U9vozy7/B0vMHi5EKU4jV3pQtZ1xR/A39Gw4bpQedPUmwY6w9mtokqh6d5czs+VVwKK/4Ch5yRB5EUA+0oV7nLKKUUEaHwPL3BUCTjlDefvGUXBSzElJFvjmtOZ/VVpNq4zeuB1YaQKowKcRL9I4N/JY8D8chrRNAKVWL9DehUGtmGeOLHQhXXVGQXAdcHvDokPWZaRUQrMP9fL8vHSQkUzsA91caGXUKRejMrJUCLbvzPUz9VjTAvgZZLOb8EHeTlETK2l9lx1at8oMAP9oYcewh133IH9eWOpyZ9//onHHnsMD5B4RCQUBKI84NFILzejO87KX4b7d3fHpLxzpQ56KLMqnQoCgkBpQCDK/dsLnqNGjTL+7d6yZQvq1auHYcOGoUUKBt/u3btjAr13Fqlbty5WF5IjPffcc7jaJvyWZ4QKPAS6kMgOeCzrNHQoJle/G12/HWSkG/7f/7lQMMwmToaQnUFNo4jhshTmhPPiwU0otj4ON3nTzG9XjNf8kzWtdcZtu/zYTLBiLi1zlSk603SqvnSC/zRWqgAAIABJREFUK2v96nTv5zrlrQyNOTtWcbtnVeoAP2P+uxKv0QhecWHYvkonoEFJwzJqSTV2XQ/yByhCOK4PesK5Lrh2KLwBo5Gr6m/rz5LgjLnq9BDTa01RkSKqTreqHc7UBEV+aIeDystWn/F7Rc83PcZ6CD2J91jpQInyMDPvmGR2FOaJN2mybwlDJ74IPst+uLHQy05PNZ/hd4YkY8SClz16iL01hH3oUID7lBKGXusRAPw9Q7F54cFoAxrpzGOnF535/zQ0dY84Q+r10ogqN19PE2G5OMWen8Eai2z/zkA3149wrhj5ofMV8GGuCf6O8xiQBGag5+bmGv+QH2ZR+qeffjJ+lxeg0gGNvcR0E/UBL/+VG1Hm4xcweHdnVL/oH+h06lFSWq3ErCYZiCAgCESJQNT7t5uxvfjii+jatStopDdr1gxjx47FM888gzVr1uAoa56jQQC8DTS0lezZswcNGjRAr1690J85j6C98xx69+6NL3QGZYOPqJCYyIVikR3wWLZq5EiMr/IArt8yoFi5YBdqhtfEqxHIwzQJpyj0jpEF3a0HXY3CTd40vaDMb6fQwKCBqq8TlovSDfZMEaJhwXJcFBpaNCrSiZ4b76a96oteWBpnNL7sWMVTvdOuBF6qUOtMMbA+R8ONaQuUbN4k2Y1dz72m51YxzCsSMr32OMO7aaCzH6uo8G49UkON1crKTobtNm1So0uyOUX+RuNThcVbSQXJpK7XLidZIKNCOCZVUlCtR2ttdK/RLnbY0UPL0mdKSMLICycljIahwayEYf5Wry4vs3jhMW6cmV6g6rUz3J0/M4+dZRUpVp1VWgovL9SFE1MKaOxnKJHt3xnq5+ox4kHeAn0u+CBZ/Lm3MgokIAnMQC9Tpgy2bt2KQy1KL1iwAJ06dcIPOltoQMpLNyYCkR/wXr8LWD4WI/a0R6Orn8TpNQ+RqRAEBAFBQBDIAIHI928XOp522mlo1KgRRmtlkerUqYOLL74Yg1Rd7TT9zJw5E5deeik2bNiAGoXMxjTQ+/Tpg18YOpmhRHbAI1Pv+PF46tCB6P3DfUakqVe7NsMhOj/mxQhkKSoaGhR6kOnxozGXKhTb7u1uPOg68RYNCXpH9ZJVdgRWziPdt4VuRNDQ0km07PrjWPluChm4GSrtRmhI0qghyZYdq3i6PuiM4jP0stHjGzazIEOb1bmbtdbdhFW7wSCTNtaxkzn8wQfNnsgwrwj+OC80eLkOFfM5v3PcG3Smd6UD0yYYJaAzsJP4jCXWVCkx1ZaXNryMSSVk2lZzSo+zTt6me4sZbcI8byWKRE0nUKO3nhELJLDj2lTSt687Nm9eftGotiudaNWfhGTMB1fCvfmmm4p+VpEA+nOqXCBzzbkXMNqCmxnXCX/HuSm8QDU87fS46ziSFE/PqyfexD1DiWz/zlC/tI/xgpPRMDTEuQ4ZBaKE2LO2PC8P7dZvhvr4NtArV66MnJwc4wa9YsWKxt+LdM7D9u3b0bNnT4xkeItIKAhEfsB76yFg8RP49542qNL5KbSt794DEgoA0qkgIAgIAglFIPL92wGnXbt2Galq06ZNwyVkXi4Uer9XrlyJhU6kRwDatWuHnTt3Yh5L+RQKDfTrrrsO1apVMyLqGjZsiIEDB+IkPe/RQbfIDnj0FE2YgH9WHox7fr7LcNSmO/NHvvTcGoH6IZ4hwvSguWFx54C85KAz3Fzld9O7SG+eXrOaebW6wZ4pYKrUFZ+3GkV2feqh9zTMXKxdoxvW7CZjNcOP7VjFM9U/jOd0cjPmB99zj7cSeWHopPpk7W7loa1cuXieNisFMPWVhjmFxiYNdBqtVmHUDeeSa5gM5BTmU7OMGS9A9IsaRnLoBIXWvhRxGn9/yCHFSw3qpIIDBpj6KeEaZjQEyeiUZ5tRASxXSE/1zJlmS343GSGgaoenw5ch7Nxr2LeTKNI21Y4XSCoiQaUMWPtQ1QgYSUNyOEa3cA8gxsw/51rhHFHIsK/XlOfeTaz0sH/mtGt7upPK1s8j27+9KuamPdcDhX+SS0G/LOGa4KUTL0T494DEt4HOvLOCggJcc801Ro5aJa3MQLly5XD00UejqZ7XEJDi0k0RApEf8BY9DiwYiGV5f8efze5Cq3MvBspkoS6sLAJBQBAQBBKOQOT7twNemzdvNozoJUuW4HR6HQvl0UcfNfLMrSHq1u6Y6la9enW88MILuEzLBV22bBnWr1+PE044wYj6Gj58OF5//XV8/PHHOE4nFNM6pJHP/5Rs2rQJzGv/9ttvcSQP+GFJIYv3/QcMxcPb+xjk50FUCQtL3ZT90mupDCA9xNvOC6934jVvWjecaJzTaKTxo4TeZA+pDCnHQ9ZkekwpZE22Y/zWH9Y9rjQ2dNKtdJNRmOLg6h2RT6r2Qrt59FoiL0z9rUzjdmtMhU8zXJsGOnOjKfRu02tMIfkbw9t17zfLy9Hjy3B23Wi0YzPX38t1w1xsis7Izp8Zvq7eSYNWJ7VTjO30KKuUXUXCyJxxchZQ3Ia3M+qBnAFu2L+Z96zKBaqxsKSeKpGme/X1sbLiAXPPOZZHHjEvSHiBwWdJMsfx8TOKtUoEPeUXXGAS6CnxkiZis64SbaCr8ZBrhSRxLnlT/Hy9fBvo6uW8VWeu2n6629+PZvKsawQiPeCtmQ3MvgXYsa1Iv4pVgbaDgboXudZZGgoCgoAgIAhkIUXJAXRloC9durTY5fojjzyCSZMm4XOSJaURhsA/8cQTYD+8pE8l+fn5Rhh9y5Yt8ZSe66k9wPz1Acpzof0+dAOdjHDTp+O28iMxdOdNBpdVrVoJXK36IZ6OEpV7y6EoLzw9kSSO0tMQveZNs2+VD052boYNk9laiTV/NlModUI0hpPaMX7rfZO5nSGpFDcGvXq2d28z//i888zaxnGUVJEQXi9XwhxbOgOd76WuykAn4RmjLxQxG+dOlUNThGWcc+Z9U1SuOb2+en31P/4oqk1uNzbdoKfRT+NfiWKE58/W2op6KgG/O9SbjN30RtNzynB3GtJuyyGSG4Ih5G5IG8kuz3HpwosMVVqCjlG71CFFdsh5YOlIpp7Qi87oEBrsep49c8tJjKeEFw7cB/W63qz5zb0iw7SNEmGgh/l9sfQdmIG+YsUKlC1b1rgdp8yaNQv//ve/jdtu/iOb7h/qCMdbIl8VmYFO4/ylq0hRal1G5s+XTRQjvUSuMBmUICAIhIVAZPu3ywH4CXFnNF3t2rVx4YUXYihZhh2kR48e4KHtjRSGVtY86IXkSjfkjMO4gh5GqizPpokTensYQktJl7PtNmQ+FQAqzFiF/1prSpPhmKzVfoXGlLopsdaptuubBpBiYXdj0Ks+Cln84eYdfseUyfNOLOFe0hMyeb/bZ1SqgJv2d91lGugMG6fQ6FX5zioCgyk3KpSc4eFnn22WWqPRSGE4NiNutFTbfV6tmM35Aet+89JHCdMyeJlEsdZWpAHMMH0KjXF6n/XQdBW5wHXuhrBCpU64acv3WsnHOGaOnUJvvNJbH3Ahl4ZhnKvyaPSi8/KJ+ecMkaexTrHmtLMNLwC0qOi9XWcYpVEiDHR+9/hvG3PNeXGkSAYVOHEkiTv11FNx9913o0OHDvjqq68Mw5wkMR988AEuuOACI/xdJBwEIjng5ecBw+oDv25OMYgcgJ70Pqsk3D2caZZeBQFBoAQi4Hf/5nlw7VozopgOEKYbWqvteIWNJHEnn3yyweKuhP+mt2/fPi1J3DvvvINWrVph1apVqM+622mExnzjxo2NS/1/0dPrQiI74NFzOmcOuuE5TEQ3IzJUdwi7UDUeTfRDPI1oknaFISqvV5FukdFfL7mrair7fbfKA2Y/NNbsGL/1d+iM3QzXfe01dxrceacZ+uvmHe56DLaV2zBqNwR/wWpWvDfdeHZ6D/OhGXmh+KpoALNMIIVG+YUXAgzZVrXJ1diUEcp21pxyu3fy0kWtA3rpFXcC2+qs/6wbTvI2Jfqlk+75V5+rSwEa77zgSUfEyAgVkopR3JA2kkiPJHW6KII6pbddHru6IGHuuEoHoReda5t40wDnBR4vQEicp5GCGh52GuLKS6+/O8Mojcj2b6e15udz8hKQAZ9zzIsPcixwbrhG+ZnOrO/nPQwwKeC/kgEIc8/pRa9ZsyYGDx4MsrfPnTvXyGPr3LmzkTMmEg4Cfg94rrTasBiYcKFz026vAce0cG4nLQQBQUAQEAR8V+EgVw1zpBmtyQhLpkpaK8B4hVmVWRszZowR5j5u3DiMHz/eqGlOVvZ77rkHzAefqPJFC1/A0mzr1q0D882twlD1Jk2aGPnm/DeLYe0MmecZgYa6G4nsgFeYp9oFL2AquhhOuQC5f9wMNZg2U6cCXbqYfbkhVcv0rSqvV3nyaATogFkZqDN9D8PwVSlfht86MSbrhGA6kZfT++nNZY4uc24ZHpxhSK/TazL+3G0YtZsSeRkr4eJBlcvvoqlh7NBAV3W2eSOmh23TWDz++KL8cRqUZNnXGdMZXcF8lHRy8cUmwRzFmlOts/6rHHfVFzcBp7xjFbnAcoaKf0M3sewMWzc15K2efurE6AJ1gcAShixZpwv7pXHNiwVd+BwNSl6AqNrxdnjxO8D8deb020kGURqR7d9u1lumbWrWNCMQeOHHC0mmYajf8d89O5LDDN8VmIFOBvcPP/zQ+Mf3nHPOMULcyPr6zTff4Pjjjy9WIzVDXeWxFAhEYqCvmg68fK3zHHR4FjhBu3V0fkJaCAKCgCBQahHwu3/TOcKyrOTOUvw1TFm0E5eOauNRes+HDBkCkr7RG86QdeaLU7p3746NGzeCHnMlrORSpUoVg/yNoetW6du3L2bMmIHvvvvOIJMlezvT37yQyEZ2wCsko+qA6ZiV28FI3UwXNRvbxUsvoDIUvJCkeR2Qyg2mEUVnDPPQeVukxCkv2O37aMCpkFvm7qrQ5lTPn3tukefQbYkoGjb0KiqyMPadYUiv22F5bpcUDzojZ2lApxLdE02uCc6v8ppbn7F6rcnozzr19GAqJnJugorlPdU7Vekxfm5l9qeBr3LSrdEHDG12y7HFZxnqTC4D3bOditvBjuxPN55ZJeHDD4uPiJcMvGyg8OJC5wZJV6mBOJ51VtFFRyqceKGlLjLSLVAPURqR7d+ev1AeHmBOPon2jjrKLKPIixzODy9IWJGEaRoBSWAG+llnnWUwt7Zu3RrXXnst1qxZg1q1ahklWbp162b8Yy4SDgJ+D3iutBIPuiuYpJEgIAgIAl4Q8Lt/0zhnShzPlXSO0FZiaV070bmUvOgYl7aRHfB48H//fbTDbCz8W7tipZLjgoUrPfTSSV5I0lx1rjVi+DEPqvQksb41Rb/RCCoEQfdikqCLN1LpROnFNryoYFhwOkkC8Rr1VznoqcKoM/Buep1yV+1Ze5tEZHai1ofyMDOkmkZtKgPd2gfLhbF6AJ+77z7zUzeGJ9cBL64ovMBRpHP8mZ5qZeiq/tV7qadeEzwdACpywQu3g7Ut17Zihrfjj2CYPsP1KeT+YhiVvjbSlW6zC9G3jofvXLLEeZo9RGlEtn87a515C16GMHKM0ReMrKEn/e67zb2Fa92OCyDDtwVmoH/yySe44oorDI/5bbfdhgdJQADq2ws//fSTUXJFJBwE/B7wXGm1Nwd9iw1JHHuQHHRXOEojQUAQEAQ0BILcvxnpSAcSyYhLokR2wCus690Wb2Dl4W2NtIFEyuzZZo1mitUYCXJAKmy4bl1g9WqzZxJ2qdJQ1hrOmb5bN5JYYoq5oOlEJxVjqH+6c2hSiNfUeFOFRmeYH5zplKR9TiceY/qDXaUAhmlzXplfPn06QP4CN8KSe/RY6l56N1ESXAdM/aBYSQBp6H76qfkZ/2SZPl0YFcLoECfx4FVO2ZWeW293uUYWe3JlUPTIAbfRFU5jIIeIwiJdWw9jjWz/dhqbn89pjLMc3z/+Ya5XriemRpAwjtEiTIkJSAIz0FPps2PHDuTm5hoM7yLhIBDkAS+thntZ3NlKpy7IMR8TFvdwJlh6FQQEgRKLgN/9OwySuLiCHdkBr/CgfhbewsZjztonvTOu+OyjF73a9CJTvLCYex0gjSyGb9BgouFEYb6uqmFPoyaoHAHVr85AnUpf1itWeeo0AC2cCcUec2vYeDBIvMLoub1daLTXEnmeX+rhATKy9+xpPrBwoWnckpCMocEqr1+/yPHQtVE+78QTgXHjTDZyCsuKOeXxqNrgbM91q7zp/JnrV5V2I4kbDS9d1NpL5YEOMnJBZ8C3qyZAFnvmN1EY8cOQf4pbfgInrBlNQHbMVLeTGYw1sv3baWxBfv7++2akAdMjLgq21HTgBjrz0D/77DPk5OSgTp06Rp1TkXAR8HvA86QdjfQ5/YqzuVesBrT9p5RY8wSkNBYEBAFBwH8d9DBI4uI6L5Ed8BjGuHYtmmMxfqnX3JUjKZaYMXyXhjmF5aVosIchyhDWDQUuzN9/N8OC6Z0OSpiDzlzlm28GGEKdTnQWceaVs9ZzKnFr2HgI6Q1qyGn78RJGHYlC2kvGjwfoCaaQQIthwVbRL3K86MdIDUZs6JUKWFvcqbwj14FKjbjiCpMITYlelo+5Q4qQUH1OUjCSrqVjcadXlZ58v6IT7NmlZ+gXSnouvduLJif9eInC9yrSPr19hlEake3fTmPL9HOSkXA9k9CQrKwhS2AG+vfff49OnToZOecHHnggSA5P0hiWXJk6dSoO9UsrGzIQSe4+UgOdQOXnIe/pU5D781f45+5OuL3/SImQSPICEt0FAUEgawj43b/DIonLGiBpXhzZAY+5Ahs3ojHeB05tDKajJlJ0Lxs96a++Gs4waOjQcNWZ4pUhTQ+ptVawHy1oNDFU2o0xxrqDyih3Col3a9jEyYPuB8conn32WeC668w3MfeGodhWIaPljh3etWGuOC/SdJ4Fptb275++L64D5WXn+qCOSk4/vcgTbVd5gPXIySz/9NMmOR0vipQEHblAgjmyhVPIxq7y0dX7yGJfSNoJPQTeiZ+Az/PSzE2ovnqX9UIiw7FGtn97X03un2B1AUYJJclAp3H+5ZdfGmVT6DmnkCiOBHEki5uiahe6h0FaukTA7wHP5WuKNcufeAnKfLUAt+3qifvuHYiD/louk27kGUFAEBAESjUCfvdvnSSOEa9t2ghJnO8FVVgP+SSsQKUzToJGVu+760g7oDFJ4iwKwy/dsDJnoiANCIaP63nuzL1giCw9pG7zit28m8YBCbDuuMMshZZOGPrMEGiKU0i8k2GTQUivm+GU6Da8HKERTGHoeIMG+w6XbOWZrA+SEZKUUI8SofecFzfpRM/tZhj5qFFFrXnBtGiR+TPXg5UUjo7GH380c7MHDwYmTQJY7u+mm4Ivxcc62yoagGkCeo1y6seQdl4oUKzRMelKt3Edu8nVt2JIlv3jjiuenuBx8ZYIA51pFEyB4vyELIF50Fk25c0338SpZFXUZPny5Tj33HPxi17PMORBlbbu/R7wMsLr5euAVdMwcPcV6Nr3MRx9yF8z6kYeEgQEAUGgNCMQ5P4tJHEBraRCL209fIqj2tbDG28E1G/U3eheNhK5hUXjr7yS+iWA8nSzLJG1FrMfHFQprHvuKSqvlao/PUyYRtTIkenfnATiNT/YRf0sQ8kZUk5ZtQog8ZhVVKSFk240jmkcDRlitmRlqBo1gHffNY1jCj3jbJNO9NxuaxTG2WcDCxakvlSqWtXMoWfJM+ayr1kD0GvPkGe9rKDTWNx8fuedwOOPmy1JPsba6rp88AHAkHyK3Xfbjp+AaSecE2JOr7sX4cUY8/J9jLNEGOisGsB54VphRAj3N11uvdULqmnbBmag/+1vf8PixYvRsGHDYi/86KOPcMYZZ4CHEJFwEAjygOdawzf6Ae+Pwcg9F6H5DU+jQfUDXT8qDQUBQUAQEARMBILYv+lAYZCaKhHNMwRTdBmNR/npJ/MMy/NkkiWyAx6B27YNx2EtTrz0OIP/LJGydCnAckmUTLxmbgfNMGaGCjPHmCzGXGysHU6CKTIeB1gb2DDymH9Mo+ihh9JrqHsheXC2y6e19hB34jW3cxKHdvQwsxwehbWj//73fbVSFznp9KVxzqgJGs+Kufzbb801phuq9PIy9DydEalf2vTrV5x1m+FH8+YBjP7gpmkV1r7me6mzXk6LenBtBZF7rt5JtnB66SlkDOemrstHH5n1tympSggyCuDMM81LDAqNfl5w6Bd3XtaJz/SOyPZvL2Py2pa34KmE0Qmshx6QBGagt2/f3vCSM5S9Km+ZAGzatMkovVa5cmW8EtbNbUBAJLmbIA54Xsef/85glHnnUbywpxW2n/sErm1+LHLLFLK5e+1M2gsCgoAgUEoRCGL/ZiQmbSHFaUSbiBGlKk2OYfD8ZzlIrq5sTFdkB7zCsNsa2IiWV9YwIlkTKWQYJnEbxcpYHdSAaNDSCCMhnBIaLAxbppHDvF3Wtw5CuICZQrlunemZZZm1dMYYDTDlcbXzQqbSKc7Ea0HgGFUfOoEb54zRD1YpTCcxfm3NdbaSkekpG7w1Yx41a0/rTONOxrKe223NWSdPA4kU6S1m2SyrHH64fZ3rDEnT0k4DLxoefdRsMnBgUa139RDrnquUAZIhptqkdEOf6QZM+SAfgNoXvKwFnwSJke3fXsYU47aBGejffvstaKR/+umnqF69usHizproJ5xwAmbNmoUj+aURCQWBIA54XhSb8+kWrJr5BO7cMx5z8k5Fz919UaVSBTzYri7a1q/ipStpKwgIAoJAqUYgiP3baqCTbJhViMRAz3Bp7befcZtRFZvQ7vqqYLWoRApDcU85xVQ9lZfNz8BUSDjrWOuiG1qHHFK8/nWm77PzbDsZY/SyP/yw+UblPcz0/fKcdwRYb5x1oil2Zct4EUK2cJL+8QKJTO/0lCvRycg4/wxP1z3Xdho5Gct6VAUNYKZKKGGoOHkaSD5HEjpdqCv5FPbsscchaI6CBx4wDXMKQ6pvv734exkOpeq0W8nuVEtixugWckEo4XeGlxT8PngV8aB7RcxX+8AMdKXF/Pnz8fnnnxss7nXr1kVrr3kOvoZTOh8O4oDnFjka5zdOXoHzyyzDyHJP4f38v6PTrgegfOejr2wkRrpbMKWdICAIlHoEgti/xUAPcBnRK1folT0EP6Brn0McKzcF+PZgu2IYBWs7U2go0QMWlChSNd2gsuubYR0M4fAj6S4C2G+q0lYMgaeXlEJP4qBBfrSQZ70iwBr0LMFHUSHpqg+7Cxd600niZiUjSzX/qfRJZyzrud1PPFGc7IuEb1xLDB3n5ZYuUbP8M1xfMdKTO4EcCrqsXWteJFDsCBCdvjPWSzWnuZUcdCeEAv/ct4G+YMEC3HLLLVi2bBkqMq5OE5ZZO/300zFmzBi0UCQOgQ9BOgzigOcGxbz8AjQfvABbtu1A0zKrMaXcI1iXXw3n7DKZVGmkH1GpAt7td5aEu7sBVNoIAoJAqUcgiP2b9iSjPFU1U3rQGQGp0uUkxN3DMtu50/SUAaiIbej1j4r7pH966C27TUnMdeKJpg7Wms9+NXNrsBx8sMl8nak4XQSkM8aYD688pAwZVt70THWR57whQGOXRi+F5GpHHGH+3cl41C9cnOY/nUZ2Hl895HvECJOsQwkvsej1b97czNPWhSQfl1/uPH6fYeB7X8C1yggQih353ZdfFqUMMMxflWRjeyfM7Oq4O42MKQU+c+wlxN0J5OKf+zbQL7roIqPWeV/m99jIU089hbffflty0L3Ni6fWQRzw3LzwvS9/Qpfxy4ymf8/5BnPK340fCiri1J1jiu9jPZqgac2D3XQpbQQBQUAQKNUIBLF/04NO7qTy5U0oWe6a1bUUwSxtzjlzJAfd1UJj/eNCZ0MF/In7H65g8E4lUkjMVbeuqTpZp1kKLShxa7CkItxyq4fbiwA7Y4weUpZjo7ipke1WJ2nnDgEa4h06mG0Zxs50BzfGI8OwFWO42/m308jOWNZzu8ePL6rTTr24ic6fb6aFMNxe5zdwq4fPMPC9w2C0B8nhKPyude5cfIRffw0cfbT5O4a/K8Z3/uxWVzvMmGdvjXhhZINTpIyLFSEGuguQtCa+DfQaNWpgzpw5e2ufW1/PcHeWWWM+ukg4CARxwHOj2ayVm9B76kqj6WH4Gcsr3Iw9BWVw3M6JKECZvV0M79wQ7RtWc9OltBEEBAFBoFQjEMT+7VRZSAHMssRJlkgOeCQ2oyEBIBd78PiTuUaVo0SKHgbLWuXPPRfcMNwaATzw6yReXjVwexFgZ4w9/TSgyh4x3F15JL3qIO0zQ2DmTOCSS8xnmQfN6ghu140ydN3Ov52GdsYyL2oU+z8vrHhx5YbfgAb8X/4C7N5tj0XQOegkNyTJIYU4tm9f/L2bNpks9hRryUE/mJHMj0SMzLXn+8kkz1x31n73KZHs3z51jNPjvg30ChUqGMRwtezYGQGsX7/eIIr7k4yeIqEgEMQBz41iuge9HHZjbYVuxmMn7hiHX3HA3i6miAfdDZzSRhAQBASBQMqslRYYIzng0ZisUgV5KIP9kIcxY8wUz0SKHgbLWxyGygYlyhNKQyFdPiuZCqlHpuLVoNPfw8kjsRjFSgiWqT7ynHsEZs8uMiwZmcI63G6NR3Xh4nb+da3SGcs6L8GLLwIkhCRBnR3RIfvUw+1ZJu6LL/YdvxMxnXvEilrq0R9z5wLnnlu8F3q5VcqANTokE8xU70xFoD3Hqgz8/vTsaabJkHXUp0Syf/vUMeXjf/xhEuvxsoSXNORXY1pB4WVuGK/1baDXrFkTjz/+OC5Rt2QWLWfMmIE77rgDXwVYGy4MIJLcZ1QGuspB/27bDuQgH5+Wvwb75+xCn103YnZ+M8OLLjnoSV5JorsgIAhEjUBU+3fU4wrjfZEc8BhoBUhDAAAgAElEQVTtV6MGdpapgAr5fxpR4XSyJVL0MNhrrzXLkgUpKpeYfeoGjp7jWru2vVHjVg+ni4B0xhhrs5PFmkJP4F13uX2rtAsCgddeA9q1M3uik47cDm6NR+X9dpp/q55OxjLrid93n/kU86rJaJ4qfNu6ts44A1i0aF9kdLb5IHBjH8OGYW/oDt9p5fEir4MiHeGYVDg8n3XCLF0OOiMdGDq/bZupQ58+JtHkihW+RxbJ/u1byxQd0DgfNcrk8mAkBS+QWGN+2rSw3gjfBnqvXr3wzjvv4IMPPgC96brQa964cWMjR5256CLhIBDlAY8s7jNfGIMHyk5E1Zyi2qabCw7CQ7uvwsWX9xQW93CmWXoVBASBEohAlPt30uGL5IC3fr3BIr09tyL+lrfNcKCpNNrE4UfDg8YDpUcPswZy0GIXHsx38jyowmVZEsqPpLsIYL+pWNxZG5o12ilWxm4/+siz7hB4/XXgggvMtrt2AWXLujMe9Rx0Pptq/u20cDKWdeJAXtqoMPJ0I1KXBWefDSxYUNSSl16sQU7jWc9Xd4dO+lZ6esYHHxSVS1RP/fILULmy+dNjjxVxLajPnb4zqaJeeJFCDHkBoPBhTj518CmR7N8+dUz5eM2aMNhCFRfA8uVAs2bAjh3Bz32hEr4N9K1bt6JRo0bIzc012NyPP/54owb6Z599hpEjRyIvLw8rVqzA4cxDEgkFgUgPeGtmo+Clq1BQLOscyDdY3HOQc9lEoO5FoYxTOhUEBAFBoKQhEOn+nXDwIjngFdYX/nm/Q3DQnh/wn/8A55+fUOAYrlq1qqm8XSmmoIZFjx1Zr/k+1rWmwdKyJbB0KVC/PkA2eb+S6iKAXr5U7NJ6HW62o7dUJDoEyExJ4jUK1wjZLClOxqPdhUuq+efFCz3J+tpLZyzTmFWRFPSku2H2V+H2bdoA8+YV4ccLIBroYQi9tYphnvnfqua5etf27QDLdVBSre1UmD35ZBG7vlV3lpnknsFUH5Z6Y/h8kybAe+/5HmUm+/eoUaPw2GOPYcuWLahXrx6GDRuWtirYwoULcdttt2H16tWoWrUq7rrrLvRkmL4m7GP06NEGN9ohhxyCjh07YtCgQfs4mYs9VK6cSVxIwjwl9KST50NdgvpGqHgHvg10dvf111/jxhtvxNy5c4365xQa6W3atAHBPVoxDQasvHRnIhDZAS8/DxhWH/h1cwroc4CKVYE+q4AyuTI9goAgIAgIAg4IRLZ/l4CZyOSA53nYzLVs2BDf71cFh+/ZjKBImT3rEcQD338PKOcIc7F56I9KaKDTaG/QAGA99iDE7iIgnTGms4hbS2oFoY/0kR4BMqIzd5qGOedOl0wuXLzOv512NE7Jek7hmrjlFudZVJsAowEYFaCEY0iR3uvcqUOLsWPN/G8KU4RVzUz1GD23NBAp/F4rrgVrt6kwY+49P+PlBhn2KSwDwn5pcDL6huRzZJOnp/jdd30Pyev+/eKLL6Jr166GHdmsWTOMHTsWzzzzDNasWYOjjjpqH302bNiA+vXro0ePHrjhhhuwZMkS3HTTTZgyZQo6FIZBPf/887j22mvxr3/9yygDvnbtWnTv3h2dOnXC0KFDU4/RWsuULa31TH0jVLyDQAx01eXPP/9skMLRSD/uuONQWYVfBKy0dFccgcgOeBsWAxMudIa/22vAMS2c20kLQUAQEARKOQKR7d8lAGevB7yMhsxQzsaN8d/cGqietxHvv2/8mEz53/8A1iGn0BBh2GxUwjp/NGwaNQI+/DCqtxZ/D+sNXlQY0Td6dJHBkx1tSt9b33rLJNOi95G1Hq0ShMHtFdXhw828agrDlBl9kYro0JqDTiZ1Et8pYYQAvephCPkimJZC0WvIq3eRqIy4UtiW4fZeZP/9TV4AXqCxHCNTEMiyzxx0EjvSW3zbbQAvNHjZtnChl95t23rdv0877TQjQpvebiV16tTBxRdfbHi8rdKvXz/Mnj3biOBWQu/5xx9/jPcKIwAY6c3P3+LaLJTbb78dy5cvx2JeKKYSay1TtrPWM+XveGkTkARqoAekk3TjEYHIDnirpgMvu9gEOjwLnNDR4yikuSAgCAgCpQ+ByPbvEgCt1wNeRkNesgRo3hzryxyH4/LXGsTnTGMOOsU0I928PkSiJx66KSw3RuMkKjnnHODNN4FTTzUNoWwI2a/btjXfzPx7ZfBkQ5fS+E5e0PCihsYgWcHjIPSa9+plasLQcbKyk8WdYiU65O/0cHt6YXUDzI68LagxsibmNdeYvTHfvFKl4j0zFF1tSpkwWXJf4P5AojOm9TDahqzwvAwgsSP5IxhiP3Ik0KpV8dz7DMeo9m96wKtpoeLly5cH/9Nl165d2H///TFt2rRiJOS9e/fGypUrwVB2q7Rs2RInnXQShmv73CuvvILLLrsMf/zxB8qWLYupU6caIe/z5s0zONJIYH7BBRegW7duuPvuu1OPrHt3hoY7jzzAWqZioDvDHXkLMuKTeO/ss8/GdG4ODhLZAU886E5TIZ8LAoKAIOAJgcj2b09axbNxFAb6ogFvo2X/s/Ap6uEEmLV/yVnFM1+qVOd4ogVAz1Ol1zBdCGfQg6BhTAM5oPzVjNQjoReJvSi8aWGpOZHoEFD4MxSboeFhkKl5HQ29sTfdZD5FI5QlxdyG23fqBLz0UtEbGRnCCJEwhEZ3N7OUsRF9oLzl+rtooNNQJ9cCdfMihx1mhrYzRH/1ajOXmunI9Jwz351GO73yrITAKAimK/gUtX9bu3nwwQfRv3//Yr/evHmzYcQzTJ2h6EoeffRRTJgwAV/YlLurXbu2Ea7+D43RfunSpUZ4PPurQn4MMJDoadBrzmjvPXv2GCnaDKOPm4iBHrcZAaPC3sb27duNRRgrA31vDvoWXjXaICc56DFcTqKSICAIxBgBMdDdT07YBjrP6WM7zMNctMFHaIhG+MhQzqlyk/sRRNxSz1NluCoJtaKSCy+EwbAXUP5qRmozb1aVp5owoYjRPaPO5CFPCPDLxBxqld/Mh+Nw08VIChImUlhSURF8uQm3JyHc888XwcBQatZGD0MmTzbrOzK0es8ee+8tvc4MTfeaC8+xkpvip59MEj/+ySgXjoVjYtj7J5+YBHjUg2H8DOf3KV486MpAp4HdtGnTvW9+5JFHMGnSJHz++ef7aEMD/eqrr8Y9zJ0vFBr4zZs3N0jmjjjiCMP52blzZzz88MNgCD3TsumVZ976/fffn3qEigfAjRfdJ07qcTHQAwIy6G64iEaMGBEvA52DXDMbeKmwbIlmpBcYHO4AhMU96KUg/QkCgkAJRkAMdPeTG6aBrkoHN/jva3gN7fA+GqMJ3t+rXLpy2+5HEHFLPU/1jjvMckxRicrXDSh/NSO1SSBADz6FhtXll2fUjTzkEQHF0m4t5RWHmy56hK+7zhzQ1q0APcluhWHOvOhRohv4bvtw247rlQYyjXAax9boA25YTB2ggf7ooyYzvZs8HLtoAXrn2U+NGsBzz5m55x99ZIb+M4qXZSx42eZTvOzfYYW4t2jRAk2aNDGY4ZVMnjwZ119/veEYLaMqDVjHSmwZ/q/WCyMWWD48xApliTTQFy1aZID74YcfGrcizDEgaUA6YfjEAJYM0ISl375jKYEAxY1ubsoGxNZAJ1Y00uf0K8bmvmP/Kqhw4RApsRbgWpKuBAFBoOQjIAa6+zn2csBz36vZ8p13zFTLSzADM9ABi9EcLbEvaVCiWN31PFUe4FnXOCpR+boB5a9mpPaKFcDJJ5uPZhIGnNFLS/lD6qaLLOB2ku2bLhqgKtWBOdgVK7qfMBr2NPCVsFa4ImF034tzSxrR5EsgyaMSPfrAzsh2E52Q6uLEqpEy2Nu1M4nQSLQ4a5az3g4tvO7f9HCffPLJxcLP69ati/bt26ckiXv11VcNlnclDF9nzroiiWN/rVu3xmBtLyTL+zXXXGMY6CwZbis03GkvKgOdDO6s+EFCvZAkkQb6G2+8YeQlkN2P1PluDXSGi79J0pJC4UQcyhIDNsL+SSBAUgFdGFZx4IEHGqESduKkm9uyAbE20DlwhrsvHgq8PRDr8qtizSVz0f6kfcsehLRupVtBQBAQBEoEAmKgu59Grwc89z0DU6aYDtZOmIqp6IK3cBZao4jpV/WlSiJ76TurbXmwpCeTBEg2zMeh6XbZZcC0aYHlr2akJ0nATjjBfJSewMJSSxn1JQ+5Q0DddDm1ztZNlwodp35MAbGQk6VVmyH7LH+m5I8/ikqdOY3X7edO0QeMhHn88eKEduzbKTrB6eLETr8TTzRD3ZmnHgA7udf9W9lLY8aMMcLcx40bh/Hjxxs1zmvUqGGEsm/atAkTma8Pps+bZdZYYo0h6zTKSQinl1mjs/bJJ580+lIh7jTiabjzfSlFDHS3K7ioHeutuzXQZ86cadykOEl+fr5h/LNUHBn/1I0K6+WdccYZ6Nu3L+7ibbSD2OnmtmxA7A1049uwCJjQDuvyq2HZ+W+ga5MaTpDI54KAICAICAIaAmKgu18OXg947nsu8qBfiUmYhKswB21wHvbNu8yWXeFlLMXa0snAHFYSJz3ySMbdeH6wSxfTax1Q/qrn9/MBEkmpHOFXXgEcIi0zeoc8VBwBddPlhEu2brp0/Rhh4iWnmKUKyWpO4XM0er0874SJGyOaHl5rTXnVb7roBLcXJ7qOvLwgQR1D3XnZ5lMy2b8ZcTxkyBAjWprGN2uVk62dQkK4jRs3GnnlSsjuThuNRnzVqlXB0ms00pWQFE7lsdO4p5O2Xbt2xu/ofE0p1jroIddAN5ZYAWnsEixeDHSGxVeqVMmg86ehTDbAY1OEJ5CggIuA7UhIwJsZGuek4x+r36Clwc6qm5ecCjcG+siRI8H/8vLywMuDbdu2oaKXcB2/875pBTC+FTYXHIRXzpyPm1vV8tujPC8ICAKCQKlCQAx099OdyQHPbe/qbNzmv8/iGVyH2WiH9iiqeZztyFy349inXYUK5iH7vvuAgQMz7sbzgyS4orcyoPxVz+/nA2SkVmc8huqSuE4kXATcGoLZuukiCzvzh1PVZk+HDishqBJef/2rWSUhSHGLndM77bB1e3Fi1zfx4mWbTwlz//apmvPj1jrodjXQ2UsAkQZKmVJjoDP0nHXwyPK3detWg8GP4eq8ZTk4RQ7JN998YxjpJBRgqMSZZ56J5557DjS83YjVQHdbNqBNmzZYsWIFfv/9dxx00EFGhMCprCWaQrJ2wPtxHTDiFPxasD9GNlmAe86r4wYWaSMICAKCgCBQiEDW9u8EzkDYBzyerd7sMBqjcBOmowP+D2aZU6fo0VhDecABZg3qBx4ALDw8oeqtCLWYxzq76KIj1HdaO2cetGLpZpkvMlaLhIuAuunatGnfMGz1ZWK+NC9P3JCaBa2tMtB5cfXGG95KvzG8XFVCYHosa4cHKX6MaF0Pu+gEP8Y/c3909voMxxz2/p2hWu4ec1uiUeqgF+Hp1oNunQEavzVr1jRC1W8jY2EKIekbPef0tLPu3n777eduMo1/1IuH32dSNsDNy7J2wPvtO+CJ45FXkIP7TlyIQR0auFFX2ggCgoAgIAgUIpC1/TuBMxDFAe/ja4ajwb/74AV0wRV4wUCJNt6wYQmsg07lK1UCfv3VNM5ppEclrKHM2uMMK2d4eTaEBpRiWWZN9nPPzYYWpe+dKo+aI9eDdLN900W9rr/eLCumxA25mmpLHgdFLqZqhgc5u36MaF0POw+608VJunEwGqYwz9vPcKPYv/3oF7dnS40H3Q74c845B7Vq1cLo0aNt54Wedhrn9Lp/8MEH6Nixo1Hg3q34CXF3+w62y9oBb+d2YFA1Q9U+Nd/AsK6ne1Fb2goCgoAgUOoRyNr+nUDkIzngsfzOXXdhAq7CqMYTjPO4tcJRoqA76CDg55/N8HaGuUclrDXNmtMkZiNBWzaE4+b4KW+9BZx1Vja0KJ3vtGMaz+ZNlxP5GtfopZemnyvWyX74YbNN3brA6tXBzq0bI5pRB8ydt8tOdsrDSXVxkmoUKt+d0TABeIYj2b+DnZGs9lZqDfSdO3caHnTWvnvA5lb5xx9/NELaSRQ3bdo0rFu3zvi5a9eueJwMii4kFUmcl7IBLl6TPQO9oAAFAyojBwW4pepUjLhewsfczJe0EQQEAUFAISAGuvu1EMkBjzWF770X43Edll83HuPHu9cvli1ZFuiHH0yCOBLFRSU33QTQ+UE293TsyGHqw9B+hvhT6J0844ww3yZ9WxGgwbl4sVk/ukqV7N10OZGvORm2alyMQunf3/zplFOADz4Ifs6dog8UizvfnEl0gt3FSapRkDTtl1/MuvEBbISR7N/Bz0jWekykgc5adevXrzdAO+mkkwzK/FatWhn52kcddRRGjBhh5G2/xRvTQrnjjjsMpj5+/v333xs56GT7W7VqlUHXrwtZ3FlijXXS2U85kkkARlu+59577zVYAu3ESTensgGZrIRsHvD2PFwV++35HT0rj8OY3p0yUV+eEQQEAUGg1CKQzf07aaBHcsDjAXzAAIzETdhw+0ijolGihYYR6/eyxBpDdKOSW28FGHFINnfmxGZD/vwT2H9/881PPQXw0iAbec/ZGLu8swgBt6HjTsR1vORSUSi87NHYwwOF2yn6wOlzJ2X0i5N160zjW69bz+8MS8gpA53RMGPGOPXq+Hkk+7ejFslpkEgDnQznNJSt0q1bN4PEjXXu+Cfp95V07twZzCenZ5y0+iR+GzhwIFj03k7mz5+PFi1aoAKJJDRhmTaSylVXxCOWh510Y/N0ZQMyWTrZPODtGlIb5f7Yiuv/8iTG9bs2E/XlGUFAEBAESi0C2dy/kwZ6JAc8epkHDcJQ9MHvA4dGGhUeynwwx5aEXYzVd1EeNjAdevc2jeJmzcyw4KjzBOyMGC/5xoEBIR1lHQG35GtOpd/4HVKXXCQcJPFgWOIUfeD0uRe9rH09+6xZgeEvfwF4ycWLLVVezku/lraR7N8+9Ivbo4k00OMGYrb1yeYBb+ewk1H+l/XoVvAgel7VDY2POQi5Zdyx3GcbN3m/ICAICALZRiCb+3e2x+71/ZEc8AqZmofgTuz/9BCw9HGihWRWX38NMLeeY4tCaBx361a8DFWUxnEQ+cZR4CTviAaBoDzoZHBX36FsciuEjRpD2mmkM/SfYfS9epmXbT4lkv3bp45xelwM9DjNRoa6ZOuAN+fTLaj+8oWoV7Ae1+y6AwvyG6FKpQp4sF1dtK1fJcPRyGOCgCAgCJQeBLK1fycR4UgOeIWe34dxL46e9DCuvDKJSGk616wJfPWVWR4qTcWawEaZbeM4qHzjwACRjrKOgBP5mtscdNZAZy10ylVXARMmZH1ooSjQsycwdmxR1xzz0KG+XxXJ/u1by/h0IAZ6fOYiY02yccCjcX7j5BWYXPYRNMtdjVt33YzZ+c2gfOejr2wkRnrGMyoPCgKCQGlBIBv7d1KxjeSAd+ONRr7lAxiAU2c/AJbxTrTUrg0wz5QHbGVchDWgOBjHQXlLw8JI+s0OAk7ka25Y3BnmrUJqaMSmqACVnQEG+FZ6zEeMKOrw9tsRBBlHJPt3gDBkuysx0LM9AwG8P+oDXl5+AZoPXoAt23ZgXNkncG7uh/jH7mvxQt7ZxmhopB9RqQLe7XeWhLsHML/ShSAgCJRcBKLev5OMZCQHvML63XdjEC5YdLeROp1oIc/OZ58B9P6RuC1MiYNxHFS+cZg4Sd/ZQcAvuRq9yjTMKQEZrdkBwuGtJMEeNqyoEbkrVP13HwpHsn/70C9uj4qBHrcZyUCfqA947335E7qMX2Zo+mTZUbg09108svtyjM+7sJj2U3o0QdOaB2cwInlEEBAEBIHSgUDU+3eSUY3kgNe1q0GQdBuewNWf3IYTTkgyYoAxgE8/NRnVw06oj4NxHIdLgoQvmRKtvh9yNeZlMz+bwproDz1UMqG6887iHvN77gFYftKnRLJ/+9QxTo+LgR6n2chQl6gPeLNWbkLvqSsNbR/a79+4ar/5GL7nUgzd07HYCIZ3boj2DatlOCp5TBAQBASBko9A1Pt3khGN5IDXubNRt7sXnsJd3/RCioItyYGxYUPg449ZPgZg+H6YEgfjOKh84zBxkr6TicDEiSb5ISXqsoVRIlZYyWLvKwO6jIhk/44Sp5DfJQZ6yABH0X3UBzzdg95vvym4cb9X8cye8/Dwnq7Fhise9ChmX94hCAgCSUYg6v07yViFfsDLy0NeyzORu/RdPIG+6PG/x1Cxcm6SIQNOOQX48EOzjjHrGYcpcTGOg8g3DhMn6TuZCLAM2xVXmLqT1Zy52iVRHngAGDiwaGT9+wMPPuh7pKHv3741jFcHYqDHaz4y0ibqA57KQf9u2w7clDsTd5Z9CVP2tMI9e3oY+ksOekbTKA8JAoJAKUQg6v07yRCHesCzyU8tOPJI5DB3+9JLkwkbDeb69YHPPzdzZplHmhvyhUNcjGO/+cbJnHHROkwEXnoJ6NTJfMMzzwDkqyiJQuOcRroS/nzffb5HGur+7Vu7+HUgBnr85sSzRtk44CkW9+65c/Bg2Yl4La8Jbtl9q7C4e549eUAQEARKMwLZ2L+TindoB7xslwYLY0LsDNSoapHHxTj2k28cxpxIn8lGgOua9c8p9KZ36ZLs8aTSnuH7DHNXwvxz5qH7lND2b596xfVxMdDjOjMe9MrWAY9G+v+b+TTu2zMSb+c1wNW7+0kddA/zJk0FAUFAEMjW/p1E5EM54MWhNFjQkxGHCwcxjoOeVekv2wjMng20b29qMWsWcNFF2dYonPc/9hhA5nYljLzRf87wraHs3xnqkoTHxEBPwiw56JjNA17e6pnIndYNy/OPx6ijn8az3RtLabUSsKZkCIKAIBANAtncv6MZYXBvCeWAFwdis+AgAkrihUOQ+EhfgkCmCLz+OnDBBebT8+cDrVtn2lO8n2OJNZZaU/L442aKjE8JZf/2qVOcHxcDPc6z41K3rB7w1r8FTL4Ua/JrYGitf2H8Vae41FqaCQKCgCAgCGR1/04Y/KEc8OJQGizIeShpFw5BYiN9CQJ+EJg3D2jTxuxhyRLg9NP99BbfZ0eMKE6AN3Qo0KePb31D2b99axXfDsRAj+/cuNYsqwe8b5cDz56Dr/MPw51VJ+Klnk1d6y0NBQFBQBAo7Qhkdf9OGPihHPBKmkFb0i4cErZGRd0SjMCCBcDZZ5sDXLkSaNCgZA527FigZ8+isT39NHDLLb7HGsr+7Vur+HYgBnp858a1Zlk94G1dA4xuip8K/obOlZ7H/NvOcK23NBQEBAFBoLQjkNX9O2Hgh3LAi0tpsKDmoqRdOASFi/QjCPhFYPFioGVLs5e1a4HjjvPbYzyff/ZZ4LrrinQbNQq48Ubfuoayf/vWKr4diIEe37lxrVlWD3j/2wA81RC7C3JxS+4DGHtfL6BMyGVcXCMjDQUBQUAQiDcCWd2/4w3NPtqFdsArJFUrYJnQAv7flIKcHLMyyfTpySm1VtIuHBK2RkXdEozAu+8CLVqYA2TJNZZfDLtsYTbgnDAB6N696M30qF9/vW9NQtu/fWsWzw7EQI/nvHjSKmsHvDWzgTfuBH77ruhAU7EqctoOBuqWUHZLTzMjjQUBQUAQSI9A1vbvBE5MmAe8ZXfNQK0neuKQ/B/2IrMptzq+vW0YmgxJWB30uNQiT+AaE5UFAVsE+J2iF/n774s+jqpsYdRTwhJyV1xR9NaAar6HuX9HDVEU7xMDPQqUQ35HVg54NM5fuoo+hmKjK0Chx+GyiWKkhzzv0r0gIAgkH4Gs7N8JhS2sA56yZ7sUTMbz6IrVqIubMRLvogXyc3IT5UDfO7VxqUWe0LUmagsCxb5LHTsCWnSN8VmOEV+TrAgbN9PK6IBOnYpa/vvfxT3qbvqwaRPW/p2hOrF/TAz02E+Rs4KRH/Dy84Bh9YFfN6dQLgeoWBXos0rC3Z2nT1oIAoJAKUYg8v07wViHccDTq5LdjsfxOO7EZFyBrpi89wxOR9mGDQmMZpVa5Ale7aJ6LBAojWULX3mleErPxIlA166+pyOM/du3UjHuQAz0GE+OW9UiP+BtWAxMuNBZvW6vAccU5us4t5YWgoAgIAiUOgQi379dIjxq1Cg89thj2LJlC+rVq4dhw4ahhcq/tPTRvXt3TGDeokXq1q2L1atX7/3tyy+/jPvvvx9ffvklatasiUceeQSXXHKJS42AMA54Oqfa47gdt+NJDMGd6IchxfR6+23gzDNdqyoNBQFBoCQgUBpJF199FbhIS1N9/nng8st9z2YY+7dvpWLcgRjoMZ4ct6pFfsBbNR14+Vpn9To8C5zQ0bmdtBAEBAFBoJQiEPn+7QLnF198EV27dgWN9GbNmmHs2LF45plnsGbNGhx11FH79LBt2zb8+eefe3+/Z88eNGjQAL169UL//v2N37/33nuGgT9w4EDDKH/llVfwwAMP4N1338Vpp53mQqtwDHS9KtkL6IIumIq+eBLD0LeYTkzL7NLFlZrSSBAQBEoKAqWxbOEbbwDnn180gy++CFx2me8ZFQPdG4RioHvDK5atIz/giQc9lutAlBIEBIHkIRD5/u0CIhrMjRo1wujRo/e2rlOnDi6++GIMGjTIsYeZM2fi0ksvxYYNG1CjRg2jfadOncCxvsHDX6G0bdsWlStXxhQegl1IGAc83UH2Ds7AGViETpiKl6DlYAIQD7qLCZImgkBJQ6A0etDffBM455yimWQViw4dfM9sGPu3b6Vi3IEY6DGeHLeqRX7A25uDvmUfkjhTZ8lBdzt30k4QEARKNwKR798OcO/atQv7778/pk2bViz8vHfv3li5ciUWLlzoOGHt2rXDzp07MW/evL1t6Xnv27ev8Z+SoUOHGqHzX3/9tW2f7IP/Kdm0aRMYNv/ttwEqJ7wAACAASURBVN/iSCaGByB6VbLPC2qjNtahBRYZBHHGv2Y5QGJz0APAR7oQBEo1AqWxbKH1UoI56Rdf7HsZiIHuDUIx0L3hFcvWWTng7WVxJyRa3VjDPM8BhMU9lmtFlBIEBIF4IZCV/TsNBJs3b0a1atWwZMkSnH766XtbPvroo0ae+RdffJEWQOasV69eHS+88AIu08Iiy5Urh+eeew6Xa7mMbHP11VcXM8L1zhkeP2DAgH3eF6SBzs4NFvcOBfgVf8MB+B21sA5folaJJWmO1zdAtBEEYo5AaStbuGQJ0Lx50aTMng20a+d7ksRA9wahGOje8Ipl66wd8Gikz+lXjM39p9xD8WPzAah1xuXILVNYgiKWqIlSgoAgIAhkH4Gs7d8phq4M9KVLl6Jp06Z7W5HQbdKkSfj888/TgsYQ+CeeeALsh0a5Ev6dBn4XLZH7+eefx7XXXosdO3bY9hmFB129ePbEn3FRt4OMH9vidczHuahWPRfDhhUnNM7+ihENBAFBIHIESlPZwvffB5o0KYL4P/8pnpOeIfhioHsDTgx0b3jFsnVWD3j5efhm0o04asOLWJhXH1fvvhv5KIMqlSrgwXZ10bZ+lVhiJkoJAoKAIBAHBLK6f9sA4CfEvaCgALVr18aFF14Ihq/rkkmIu1W90A54PHzffDPw3Xd7X7nj0CNRdtRw5Ha8NA7LRHQQBASBbCNQWsoWfvghcMopRWjPmQO0aeMb/dD2b9+axbMDMdDjOS+etMrmAW/Op1uwYMqTGFJ2HBbkNcQ1u+8ydFe+89FXNhIj3dNsSmNBQBAoTQhkc/9OhTNJ4k4++WSDxV0Jc7/bt2+fliTunXfeQatWrbBq1SrUr1+/WPckifvtt9/w+uuv7/39eeedhwMPPDCrJHFmfHtH8HJBj/kqyDGStQASJF0qRnpp+k7KWAWBUo3AJ58ADRoUQTB/PtC6tW9IxED3BqEY6N7wimXrbB3w8vIL0HzwAtT7bQmeKfcEVubXxMW7Bu7FiIebIypVwLv9zpJw91iuHFFKEBAEso1AtvbvdONWZdbGjBljhLmPGzcO48ePN2qak5X9nnvuAQnbJk6cWKwblmZbt24dli1btk/3DJlv2bKlUfuchv6sWbNw3333ZbfMWiEBVMF//1vMOFfK02TPqX4ksGEDkJub7aUi7xcEBAFBIHwE1qwB6tUrek9AJSzEQPc2dWKge8Mrlq2zdcB778uf0GX8MjTKWYsZ5fvj6/zDcMauYftgNKVHEzSteXAssROlBAFBQBDIJgLZ2r+dxkzv+ZAhQ0DSN3rDGbJOA5vSvXt3bNy4EfSYK2Et9CpVqmD48OHo0aOHbffTp083jPKvvvoKNWvWNIx1lmNzK4Ef8EpjCSW3YEs7QUAQKJ0IrFsH1K5dNPZFi4AWZlULPxL4/u1HmQQ8KwZ6AibJScVsHfBmrdyE3lNX4picLXi7/O34teAvOHHns/uoO7xzQ7RvWM1pGPK5ICAICAKlDoFs7d9JBDroA17+81NQ5srLHaHIn/wCylzRxbGdNBAEBAFBIPEIMGLo2GOLhkFWd62iR6bjC3r/zlSPpDwnBnpSZiqNntk64CkP+oH4DSsr3GBoWGvHROzBfsW0FQ96CVhkMgRBQBAIBYFs7d+hDCbkToM+4K0c9g4a9m3lqPXKoW+jYZ8zHdtJA0FAEBAEEo/At98CRx1VNAymLJ12mu9hBb1/+1Yo5h2IgR7zCXKjXrYOeCoH/fttf2Bt+a7IzSnAqTtG4QccaKgtOehuZk/aCAKCQGlGIFv7dxIxD/qAt7j3NDR9qgv2Q54tHPnIwX9xJJZO3oDOV0gOehLXjOgsCAgCHhFgNYsqWgWmDz4ozurusTvVPOj9O0M1EvOYGOiJmarUimbzgEcW9xsnr8D/K38DDs75DefuHIy1BdWFxb0ErCsZgiAgCISPQDb37/BHF+wbAj3gzZiBgg4dUYAClLFRM7/wmrkjpuPWty/FmeJAD3YypTdBQBCIJwI//ggcemiRbitWACed5FvXQPdv39rEvwMx0OM/R44aZvuARyO9zstno0bBJnTedR+W5deVOuiOsyYNBAFBQBAAsr1/J2kOAjvgObC3E5M9yEVnTMXy6h2FxD1Ji0R0FQQEAX8I/PILULlyUR8ffwyceKK/PgEEtn/71iQZHYiBnox5SqtlHA54Bc+2Qc63y9BzVx8cftr/4YF29aS0WglYWzIEQUAQCBeBOOzf4Y4wuN4DO+C5ZG9vhbfR6+UzpQx6cFMoPQkCgkDcEfj9d+CAA4q0XL0aqFvXt9aB7d++NUlGB2KgJ2OeYm+gY8rlwBf/wT92X4vKLa/HnW3+XgKQlSEIAoKAIBAuAmKgu8c3sAPelCnA5c7s7cv7vIDGQ4W93f0MSUtBQBBIPAI7dwIVKhQN4/PPgeOP9z2swPZv35okowMx0JMxT/E30GfdAnw0CY/tvgw/nHQLhnRsUAKQlSEIAoKAIBAuAmKgu8c3sAOeSw863n4bknzufn6kpSAgCJQABPLzgVyNFJN10WvV8j2wwPZv35okowMx0JMxT/E30OfdByx9Gm/nNcD7Vbvi7huuAcoI620JWF4yBEFAEAgRATHQ3YMb2AGvMAcdmzYBBQX7KpCTAxx5JCT53P3cSEtBQBAoQQiUKVO0N371FXDMMb4HF9j+7VuTZHQgBnoy5ineBvqa2cCsm4GdvxbpWbEq0HYwUPeiEoCwDEEQEAQEgXAQEAPdPa6BHvBSsLiztBpLhOa8PB2SfO5+bqSlICAIlCAEypUDdu82B/T118Xromc4zED37wx1SNJjYqAnabZS6JrVAx6N85euAmD1QvCIA+CyiWKkl4A1JkMQBASBcBDI6v4dzpBC6zXIA96MGcDzHWZgFHricPywV+dvUB19MQxXvHyp2OehzaR0LAgIArFG4K9/Bf74w1Txv/8FqlXzrW6Q+7dvZRLQgRjoCZgkJxWzdsDLzwOG1Qd+3ZxCxRyAnvQ+qyTc3WkS5XNBQBAolQhkbf9OINpBHfBUhDvPna3wFhagNb5FNXTFZCxGCxTk5EqEewLXh6gsCAgCASFQqRJrgJqdbdkCHHGE746D2r99K5KQDsRAT8hEpVMzawe8DYuBCRc6I9jtNeCYFs7tpIUgIAgIAqUMgazt3wnEOagDns4R1xrzMR/nYiUa4CSsLIaKcMQlcJGIyoKAIOAfgUMOAX76yeznhx8A/uxTgtq/faqRmMfFQE/MVKVWNGsHvFXTgZevdUaww7PACR2d20kLQUAQEARKGQJZ278TiHNQBzy9ytr5+A/+gwvxAU5BY3xQDJUXXgC6SJW1BK4UUVkQEAR8IUCP+datZhf/+x9QubKv7vhwUPu3b0US0oEY6AmZqHRqZu2A59KDvrzlBDQ+6+ISgLQMQRAQBASBYBHI2v4d7DAi6S2oA57uQW+PmZiJS7AUTdEMS4uNQzzokUyrvEQQEATihgCrWLDKBWXbNqBiRd8aBrV/+1YkIR2IgZ6QiYqlgb43B32LDUkckF8AfIeD0WLncIy88hS0rV+lBKAtQxAEBAFBIDgExEB3j2VQBzy9ylqHgmmYhsuwEC1xJhYaykiVNfdzIi0FAUGgBCLAsmobN5oD274dIGmcTwlq//apRmIeFwM9MVOVWtGsHvDWzEbBS1ehAAUoo6lI45xy4+4+mJffGEdUqoB3+52F3DKF7O4lAHcZgiAgCAgCfhHI6v7tV/mInw/ygEcW944dgc4FL+AFXIE3cTbOwZuGcU6ZLlXWIp5deZ0gIAjEBoHjjgPWrzfV+fNPoEIF36oFuX/7ViYBHYiBnoBJclIx2we8L95+Hn975z5UzfnfXlU3FxyMAbu7Ym5+472/m9KjCZrWPNhpOPK5ICAICAKlBoFs799JAjroAx6N9AXdJmDE9u54HefhAryO6tWBYcOkBHqS1oXoKggIAgEjULcu8NlnZqe7dgFly/p+QdD7t2+FYt6BGOgxnyA36mX7gDdr5Sb0nboCj5cdjUtzl2Bu3sm4cXdf5BfzqQPDOzdE+4b+aym6wUTaCAKCgCCQBASyvX8nASOlYxgHvP93w3icMu56vPXXi5D72iy0aAHk5iYJFdFVEBAEBIGAETjxRGDVKrNT5gSV0WNkM3tXGPt3Zpok4ykx0JMxT2m1zPYB770vf0KX8cvQJfctDCr7LN7KOwnX7r5zH53Fg14CFpsMQRAQBAJFINv7d6CDCbmzMA54y7uPQuMJN2PxYR3QYuv0kEcg3QsCgoAgkAAEGjUCPvrIVLSgMGfVp9ph7N8+VYr142Kgx3p63CmX7QNeXn4Bmg9egNq/vY8J5Qbjs/zqOG/X4L3KM6VPctDdzaW0EgQEgdKFQLb37yShHcYBb2nn4Tj9xT5YVK0zWv53SpLgEF0FAUFAEAgHgdNOA5YvB/bbD9i9O5B3hLF/B6JYTDsRAz2mE+NFrTgc8OZ8ugWPP/8q3ix/J34t+AtO3PmsMQRFCTf6ykbC4u5lUqWtICAIlAoE4rB/JwXoMA54iy9+HC1m3YlFNbqi5caJSYFC9BQEBAFBIDwEmjUDli4FypcHduwI5D1h7N+BKBbTTsRAj+nEeFErLge8+Su/xDkzGxmq37WrB77B4fj2gAa4/6ITxDj3MqHSVhAQBEoNAnHZv5MAeBgHvHfaDsKZc/+BxcddgxZrzYtlEUFAEBAESjUCZ54JLFwI7L8/8PvvgUARxv4diGIx7UQM9JhOjBe1YnPAKyy5loOifJWCilWR03YwUPciL0OStoKAICAIlAoEYrN/JwDtMA54C858CGctfBCL6/VEi09HJwAFUVEQEAQEgZARaN0aeOst4G9/A379NZCXhbF/B6JYTDsRAz2mE+NFrVgc8NbMBl66imwSFtULg9wvmyhGupdJlbaCgCBQKhCIxf6dEKTDOOC91fQ+nL3sESw+qRdarHgqIUiImoKAICAIhIhA27bA3LnAgQcCP/8cyIvC2L8DUSymnYiBHtOJ8aJW1g94+XnAsPrAr5tt1S5ADnIqVgX6rALKSP0aL3MrbQUBQaBkI5D1/TtB8IZxwJvfqB/O+WgIljS5Dc3eeyJBaIiqgoAgIAiEhEC7dsBrrwEHHwz8+GMgLwlj/w5EsZh2IgZ6TCfGi1pZP+BtWAxMuNBZ5W6vAce0cG4nLQQBQUAQKCUIZH3/ThDOYRzw5tW/DeeuHor3WvZD04X/TBAaoqogIAgIAiEhcMklwMyZwGGHAVu3BvKSMPbvQBSLaSdioMd0YryolfUD3qrpwMvXOqr8cePH0eD8Ho7tpIEgIAgIAqUFgazv3wkCOowD3tzavdBm3Qi8f859OG3ewAShIaoKAoKAIBASApddBkybBlStCmzaFMhLwti/A1Espp2IgR7Tibnkkkvwzjvv4Oyzz8b06dPTapn1A55LD/pNZR/C0/fcitwyqvhaTMEXtQQBQUAQiAiBrO/fEY0ziNeEccCbc0xPtN04Fh9c9BBOnXV/EGpKH4KAICAIJBuByy8HpkwBqlcHvvkmkLGEsX8HolhMOxEDPaYT8/bbb2P79u2YMGFC/A30/DzsfLwuyv7+Hexs74IC4GccgFN2jsHzPU5H05oHxxR1UUsQEAQEgWgREAPdPd5hHPDmVrsGbTb/Gyv+bxAavXS3e2WkpSAgCAgCJRWBq64CJk0Cjj4a2LAhkFGGsX8HolhMOxEDPaYTQ7XoQR8xYkT8DXQAy19/Dqe83xv0jedYHOQ00Ck9d/fB+Zddj/YNq8UYdVFNEBAEBIHoEBAD3T3WYRzw5h7WFW1+mIxPrnocJ0643b0y0lIQEAQEgZKKwLXXAv/6F1CzJrB+fSCjDGP/DkSxmHYSSwN90aJFeOyxx/Dhhx9iy5YteOWVV3DxxRenhHDQoEGYMWMGPv/8c/zlL3/B6aefjsGDB+P444/f+0z//v0xYMCAYn0cfvjh+O677wKdGre6jxo1yhgjx1evXj0MGzYMLVoUJ1BLkoH+3rrvcfzkk1AZ2/cx0AlwfgHwHQ7G11cuQ9PjDgsUc+lMEBAEBIGkIiAGuvuZC+OAN++gzjj35xex+obhqDfmVvfKSEtBQBAQBEoqAjfcAIwbB9SuDXzxRSCjDGP/DkSxmHYSSwP9jTfewJIlS9CoUSN06NDB0UBv27YtOnfujFNPPRV79uzBvffei1WrVmHNmjX461//akBPA5253G+++ebeqcjNzcWhhx5qOzV8f+PGjVG2bNlin/MS4MADD8QRRxxh+5wb3V988UV07doVNNKbNWuGsWPH4plnnjH0Peqoo/b2myQDPe+rRcid2M5xmedd9Spyj23p2E4aCAKCgCBQGhAQA939LIdxwJtfsQPO+W0Gvug9CscPu9G9MtJSEBAEBIGSisAttwAjRwJ16gBr1gQyyjD270AUi2knsTTQdaxycnIcDXQrtj/88AMOO+wwLFy4EC1bmsYgDfSZM2di5cqVjlORn59vXA4cd9xxmDp1KmjIU9auXYszzjgDffv2xV133eXYTyrdTzvtNKP/0aNH7+2jTp06RpQAowGUJMlAh0smd3R4FjihoyN20kAQEAQEgdKAgBjo7mc5jAPem/tfhNZ/voqv7hmPYx+9zr0y0lIQEAQEgZKKQJ8+wPDhQP36wKpVgYwyjP07EMVi2kmJNNDXr19vGNf0otfn4io00BlSXqlSJZQvXx40kh999FEce+yxtlOzefNmw7hnu0mTJmHDhg2GcX7BBRcYHm83Ymeg79q1C/vvvz+mTZsGMrUr6d27t3F5wEsFtwb6yJEjwf/y8vKMy4Nt27ahYsWKblQLvo1LJndILfTgsZceBQFBILEIiIHufurCOOAtKH8ezto1B988PAFH3XuVe2WkpSAgCAgCJRWBO+4AnngCaNgQ+OijQEYZxv4diGIx7aTEGegFBQVo3749fv75ZyxevHgv7Aw9/+OPP1C7dm1s3boVDz/8sJGzvnr1ahx8sD2r+DfffGMY6U2aNMF7772HM888E8899xxoeLsROwOdhn+1atWMEH7myivhZQEZ278ozPVo06YNVqxYgd9//x0HHXSQEUXAEH47icUBLz8PGFYf+HULgEJWOE1Z5qB/n3MwVnZYhLYnHOkGPmkjCAgCgkCJRyAW+3dCUA7jgPfOfmfj/7d3HuBRVekbf5OQEBIg9I6IYKFYAEFAAqIIiKtIWRZxFVzFgkvzryKoWGhiodgAcZEmqBTFAqiIIFUsiAgiUqX3AIHQkvyf74RJJpOZ3HPv3JncmXnP8+yzu8ypv+/m3PPec8733ZS+GPtGzUDF/neHCAl2kwRIgAQCSGDgQODll4EGDYCffrKloUDM37Z0zKGVhJ1Af+yxx/Dll19i+fLlqFLFtxAU4VujRg11VP3xxx/3aR5x+iY757LTLuK5UKFC2qbMT6CvXLkSTZo0ya5r2LBhaqdePhqYTY5Z4G38DPj4PiXPo9xEuohzSb3O98NXGY0w7t/10bZuRbPDZH4SIAESCDsCjpm/Q4BsIBZ4y6KaIxnLcGT8LJR+mNevQuAxYBdJgAQCTeC554ChQ4FGjYAffrCltUDM37Z0zKGVhJVA7927t7pnLqK6evXqhshvvfVW1KxZM9ddcPdCstMu4lx23X/88Ud07twZb775pmG9rgz+HnHXbchJC7z0DfNweFZ/lMeR7O4fz0zAexduw9vpHZCJaFRIisfyATcjxlvQdN1BMx8JkAAJhAEBJ83fTsdp9wLv/Hngp7gmaILVODntUxT7d3unI2D/SIAESCDwBF56CXj+eUA2EleutKU9u+dvWzrl4ErCQqDLsXYR53IMXByryf1zo3T27Fm1g/7QQw9h8ODBebIfPnxYHWmXuuS++F9//aX+v3hff+2114yqV7/n5ySuQYMGyou7K9WuXVsdzXd3EqfVCAAnLfBWbT2CeyauxGMxn6JvoTkoFJVz3H1vZim8eP4+tYs+s2djNKnh/WqB7riZjwRIgARCnYCT5m+ns7R7gXfiBLA56Xpcj59xdu6XKNyhndMRsH8kQAIkEHgCw4cDzzwDNGsGuF0X9qdhK/O3Tkhq9z6JHy85FS3XlytVqqROST/yyCO5up2SkqKifUl4brkOLRu6r7/+Otq1c9b870iBnpqaCnH0JqlevXoYNWoUWrZsqe5iSxiyt956S4nxb7/9VuXp1asXZsyYgXnz5uWKfS4O4SQuuqQnnngCd9xxhyp/8OBBdQddDCmO5KpVq5bLeOLFXUKsSZx0aScuLk79LnmlH2JY8eTuLRn1Xcq4wqyNHz9eHXN/9913MXHiRPVAefZF54/BSQu8eb/uwfyP38W42DGQm/ru1/VdR90fPd8P7bo8hPbXVdYZHvOQAAmQQNgScNL87XTIVhZ4+Y3pwAFgf4VrcS1+Q+bX3yDq1lZOR8D+kQAJkEDgCcj9c7mHLmHWZDMxORm4GNHKauNm52/dkNSu/ogzb3EM3rNnTzz88MPK15fow5kzZ6qQ3ZLEUbeEt5ZIX4MGDVJXoXft2oVixYrh2muvtTq0gJRzpECXXXARwp6pe/fuykmbhEyT/96xY4fK4stp2/vvv48ePXqoPBInXY6+y864xD4Xx29DhgyB7Fx7S9988w2Sk5MRHx+f62fxtC5O5apWreq1nFHfXYXkq9Arr7yCffv2qQdq9OjR2SHhzFraSQu8VX8dRLXpN6ACjsLbCXYR6ftRGjv/vRpNLi9ndqjMTwIkQAJhRcBJ87fTwZpd4BmNZ/t24MxltVALm4AlS4AWLYyK8HcSIAESCG8Cc+cC//kPcPx4zjjFp5eEXevY0fLYzc7fuiGpXR0aMGAAPvvsM/zxxx/ZfZTd83Xr1ilH35JkY1Qieom/r9jYWMtjCUZBRwr0YAw8nNpw0gIvfdv3iJl6hyHe9Ps+R8xlWTHqmUiABEggUgk4af52ug3MLvCMxrNxIxBXpyZqYiuwYgXgFlnFqCx/JwESIIGwIyDivHNnINMjGpPrOOzs2ZZFupn520xIapcNJOqWnLoeKx8SLiY5Bd2lSxcVxUsEuRxjl9PYEu5aTl3Lhm23bt0g4j7GzxMCdj8LFOh2Ey2A+hy1wFs/G5jzgCGFdY1ew7XtehrmYwYSIAESCGcCjpq/HQ7azAJPZyg//wyUub4aquFvYM0awEcoU526mIcESIAEQppAejpw6aXA7t3ehyEiXXbS5eiRBTHrmr83btyowk27UuHChSH/cU+6Iandy4hDbzk1LUfXXUkiZsmRdqmvYsWKuOqqq9Tp63vuuUcdfxf/YhL9q2/fvl79kRWkPSnQC5K+TW07aoG3fRkw5R+GI+t67ln06PZvhlszJMUMJEAC4UzAUfO3w0HbLdDF91GN5pVQCfuAtWuB665zOAF2jwRIgAQCRECu+Xi5Xpynte++A266yXQnXPO3Z8Hnn39eXV32JtDNhKQWgX7//fdjoNydv5jkHnqzZs3UdeIKFSqoqFxnzpyB3Fd37ZiLnzM59i55nJQo0J1kDYt9cdQCLyMdGFMXmSf25YqF7hqa6w568tmxKJeUwHBrFm3OYiRAAuFBwFHzt8OR2i3Qv/4aqNemLMriMPD770CdOg4nwO6RAAmQQIAIzJwJdOtmXPmMGcDddxvn88hhZgc9UEfcJXS2HHVftGhRdu8WLFigjr5LdC+XU3DTgwtAAQr0AEANdpWOW+Bt/AyZH98HCX/n7ijO5cW91/k+WJjRWGFiuLVgPy1sjwRIwEkEHDd/OwmOjwWeeN0V77v+pnnzgBZ3lUAJHAc2bwY0QrT62ybLkwAJkIAjCQRpB113/hYncWZCUss98s8//xxyhN6VHn30UYhzb5eTODn+LlG/tm3bhujoaJVN7qyPHDlSHYN3UqJAd5I1LPbFiQu8NfMno8oPL6JS1NE8o3KPhz6263UMt2bR7ixGAiQQ+gScOH87lardO+iyYdS+WwISkJZ1r1LuXzKRAAmQQCQScN1B37Mnr5M44WHTHXRdgW4UklqOsu/ZswdTp05V1nKFWZMQaxJqTUS5eHF3D7MmbUv0Lrmr3rt3b3UH/T//+Q/69OmjQmg7KVGgO8kaFvvixAXeqq1HMPV/Y/FO7NhcsdBliO7x0Hs80AdNapS2OHIWIwESIIHQJuDE+dupRO0W6JMmAfc+EItYXMhyjOTmuMipDNgvEiABEggYAZcXd2nA3ZN7kL24u8aXX0hqEdni8E3CW7vS0qVL0b9/f2zYsAGVKlVS3tlFpLsnEe6SR3bWxVndAw88QC/uAXugIrxiJy7w0i9cwOGhV6Bs5hGf8dCPojjWdFiOdtdVi3ALcvgkQAKRSsCJ87dTbWG3QH/rzUz8t0/WMUccOACUK+fUobNfJEACJBAcAiLS+/bN7c29alVgzBjLIdak43bP38GBUXCtcAe94Njb1rIjF3ia3tyPoTiK//MtxNRpbxsPVkQCJEACoULAkfO3Q+HZvcB7/eXz+L+BcVmjPXoUKFnSoSNnt0iABEggiATkuLuEuRDP5hUrAsnJlkKruffY7vk7iDQKpCkK9ALBbm+jjlzgacZDVydooqIQ1WUqUPtOQLzA71wJpB4AipYHqjUFomPsBcbaSIAESMAhBBw5fzuEjWc37F7gDX/2NAYNS8xqJjUVSLz4vx06fnaLBEiABEKVgN3zd6hy0O03BbouKQfnc+QCT3MHXbBmIgpRxSsBbYYDXw0ETrh5UpR/bzsyS7wzkQAJkECYEXDk/O1QxnYv8F7ol4IXxl7cNT97Foi7uJvu0PGzWyRAAiQQqgTsnr9DlYNuvynQdUk5OJ8jF3gZ6Tj7ai3EnT6Qx0mcOZRRWdldO+zmCjM3CZAACTiagCPnbwDinOfVV1/Fvn37UKdOHYwZMwbJcszRR5IYsi+99BKmT5+O/fv3qzBo4hVXPORK6IvBEQAAIABJREFUmjx5Mu6///48pdPS0hAfH69lI7sXeIN6HsLw9y7eO8/IyPJSzEQCJEACJGA7Abvnb9s76LAKKdAdZhAr3XHqAi/9u5cRs3SElSF5lIkCZCe933oed7eBJqsgARJwDgEnzt+u8DYi0m+88UZMmDAB7733noove8kll3iF1759exw4cABDhw5FzZo1cfDgQVy4cAFNmzbNFuh9+/bFn3/+mat8hQoVtI1h9wLviW578drMysiIjkF0+gXtfjAjCZAACZCAOQJ2z9/mWg+93BTooWezPD124gJPdVLzHrq2Cbp/AVT3vYOjXQ8zkgAJkIBDCDhx/r7hhhtQv359jBs3LptSrVq1cNddd2HEiLwfXRcuXIiuXbti27ZtKFWqlFeysoPer18/pKSkWCZv5wJPfCDd12InPlhxKc7FxCPmbBpi6O7Esm1YkARIgATyI2Dn/B0JpCnQw8DKTlzgKawm7qFrmaHT/4CrO2tlZSYSIAESCAUCTpu/z507h4SEBMyaNQsdOnTIRii73xI3VuLMeqZevXph8+bNuP766zFt2jQkJibizjvvxJAhQ1CkSBGVXQT6gw8+qOLOpqen47rrrlO/16tXz6eZ5Ni8/MeV9uzZg9q1a2PXrl3qCL3V5IoiVHj3FmzB5TiBYqhT5QTGjvUripDV7rAcCZAACYQ9AQp0cyamQDfHy5G5nbbAy4YkHtnH1EXmiX2Igrhr9zNxB91PgCxOAiTgNAJOm7/37t2rRPSKFSuyj6cLs+HDh2PKlCl5jqjLb23btsWSJUvQqlUrDB48GIcPH4aI9ptvvhmTJk1SyFevXo0tW7bg6quvhox57NixmD9/PtatW4fLL7/cq1leeOEFvPjii3l+80egizjv3BmQCCK1sBEbUQeHURrlog6rdmbPpkh32t8I+0MCJBD6BCjQzdmQAt0cL0fmdtoCLxekjZ8h8+P7kJmZiWjL/nd4B92RDx47RQIk4DcBp83fLoG+cuVKNGnSJHt8w4YNU7vjmzZtyjPm1q1bY9myZco5XFJSkvp97ty56Ny5M06dOpW9i+5eMCMjQx2jb968Od544w2vHO3eQZdj7ZdeCuzendXcNViHdbgO+1ABlbBP+YiTjfnt2/0O+ev3c8EKSIAESCCcCFCgm7MmBbo5Xo7M7bQFniek9A3zcHhWf5THEYv8oujF3SI5FiMBEnA2AafN31aOuHfv3l3tuMsOuSv98ccf6ji6HH33tUPes2dPyKJtwYIFWkbyd4G3ZAnQsmVOUw3wE35CQ/yNqqiGv7N/+O474KabtLrETCRAAiRAAhoE/J2/NZoIqywU6GFgTqct8LwhXbh+NzZ/9Az6FPrUPPE6HYGrbgeKlgeqNc3y5C7H53euBFIP5P53ndr9KatTP/OQAAmQgCYBJ87f4iSuQYMGKtSaK4nYFk/t3pzEvfvuu8oBnHhuL1q0qCoyb948dOzYEampqV530OVUVaNGjdSRd9cxeCNk/i7wZs4EunXLaaUxVmEVmmIrLkNNbM3+YcYM4O67jXrD30mABEiABHQJ+Dt/67YTLvko0MPAkk5c4HnDOnv2THT+/RH/iCeUBq7tBmyYA5zYm1OXhGFrOxKofWf+9W/8DFg4wFpZ/3rO0iRAAiSQh4AT529XmLXx48erY+4iwCdOnIgNGzagWrVqGDhwIMRh29SpU9V4RISLl/fGjRurO+NyB10cwrVo0UKVkyT/Lr/LbrqMWY61y5F52XkXoa6T/F3gee6gJ+N7fI8W2IQrUQs5R/e5g65jDeYhARIgAX0C/s7f+i2FR04K9DCwoxMXeN6wpl+4gONDq6MUTgSA+sUL7l2m+hbpIs4/vg/I47BOo2wAeswqSYAESMCp87fsnr/yyivYt28f6tati9GjR6v74pJ69OiBHTt2KMdwriR303v37q0Ed+nSpdGlSxcVE93lxb1///7qXrrrnrp4bxcncO733I2eBn8XeK476Hv2ZDmJuxnf4lu0wm+4GtfiN95BNzIAfycBEiABiwT8nb8tNhuyxSjQQ9Z0OR136gLPG9pZU95E523Pqp/EIY+9KR9nchc9yufadc/VOB3R2WsL1kYCJKBDIJTmb53xBDKPHQs8lxd36WebzAVYgHb4GfXRMOpn1XV6cQ+kBVk3CZBApBKwY/6OJHYU6GFg7VBa4K3aegTrJvXBw4W+CIBAv2hMb+HYdGOyM5RbGPxFcAgkEDoEQmn+Lmiqdi3wRKQ/9hjQcP9n+AztsRo3oEvV1RgzhiHWCtrGbJ8ESCA8Cdg1f4cnnbyjokAPA0uH0gIvPSMTzUYuxnUnl2Jo7CSUjjppvwU6/Q+4unPuetfPBuY8YNyWt7LGpZiDBEiABCwRCKX529IAbSxk5wJv5Urg9RvnYA46I+XqZii2dhliYmzsLKsiARIgARLIJmDn/B0JWCnQw8DKobbAW/j7Pjwy/RdEIwONojehVdTPeKDQAnUz3HqsdDdDcgc9DJ5qDoEEIoNAqM3fBWkVOxd4X34JTPvHh/gQd2fFXlu8uCCHxrZJgARIIKwJ2Dl/hzWoi4OjQA8DK4fiAm/sos0YveivbPptotfg5diJKBl1yj+LxBUFbngYqN4CuLRZVkg2SXIH/dWaQNpRH/XzDrp/4FmaBEjACoFQnL+tjNOOMnYu8KZMARb1mIZpuA9o3Rr46is7usg6SIAESIAEvBCwc/6OBMAU6GFg5VBc4MlR9xtfXoz9J85kW6BJ9O+YGTfcPosUKQXcPhpILA38OR9YnRPT12sjXaYZh2mzr3esiQRIgARUyLGkpCQcP34cxYsXJ5F8CNi5wBs1Ctjwf//D//Ag8I9/AJ9/TvYkQAIkQAIBImDn/B2gLjqqWgp0R5nDWmdCdYHnOuruGrUceV9euA8q4Kg9R93N4BQx/+SWnB13M2WZlwRIgAQsEgjV+dvicP0qZucCb9Ag4OiI8RiPR4EOHQDxHMdEAiRAAiQQEAJ2zt8B6aDDKqVAd5hBrHQnlBd43o66j4sdozDYch/dDFB6cDdDi3lJgARsIBDK87cNwzdVhZ0LvIceAgpPfBNvog/QpQvw0Uem+sLMJEACJEAC+gTsnL/1Ww3dnBTooWu77J6H8gJPjrrXH/INjqedzx6P3Ed/PnYqKkXl3BfPzAxE3HQP44sH9zodgJ0rgdQDQNHyQLWm3FUPg78RDoEEnEoglOfvYDO1c4HXqRNQbe4ojML/AffcA0yfHuzhsD0SIAESiBgCds7fkQCNAj0MrBzqCzzPXXQxicvDezmk4CBK4Nbon/BAoYWBtVaLp4Ef3wNOH85pp3gloO1I3k0PLHnWTgIRSyDU5+9gGs7OBV6LFkDj70diJJ4GevQA3n8/mENhWyRAAiQQUQTsnL8jARwFehhYOdQXeLKL3mDoN0g5nbOL7mmWxtEb8WHc0MBZS7y/n0v1UX8U0GUqRXrg6LNmEohYAqE+fwfTcHYu8OrUATpsHIqheA7o2RN4991gDoVtkQAJkEBEEbBz/o4EcBToYWDlcFjgeTqM8zRLgTqQk84Urwz0W8/j7mHw98IhkICTCITD/B0snnYu8CpUAHodGIzBGAI89hjw1lvBGgbbIQESIIGII2Dn/B0J8CjQw8DK4bLA83bU3d08cjc9IA7komOBDN+799l9aDMcuOERivQw+JvhEEjAKQTCZf4OBk+7Fnji0yQ2FhiSPhAD8TLQrx8wenQwhsA2SIAESCAiCdg1f0cKPAr0MLB0uCzwvMVG9zSPiPRhsf9DmaiT/lkuNhG4NBn4y+S9dt5J9487S5MACeQiEC7zdzDMatcCLyUFKFkSeBVP4Am8Djz5JPDKK8EYAtsgARIggYgkYNf8HSnwKNDDwNLhtMAzOuou5mofvRxj494pIMtFZbWrcyc9Iz2vR3gpSy/xBWQ7NksCziMQTvN3oOnatcDbvBm48krgzZi++G/6G8h4ehCiRwwLdPdZPwmQAAlELAG75u9IAUiBHgaWDrcF3vzf9uKxGWuR6cM2AXcYZ/hMRAGyk57fnfSNnwELBwAn9ubUVqQkgCggLSd8nKqHXuINiTMDCYQrgXCbvwNpJzsWeHPnAo8+Chw8CLyNXuiFcRhV7HlcOvkFdOwYyN6zbhIgARKIXAJ2zN+RRI8CPQysHY4LvDHfbMaYb//yap0Cdxjn6tW984AaN+Xto4jzj+8DfH5icC9iYkc+DJ5VDoEESCA3gXCcvwNlY38XeCLOO3cG5A66pIl4EA/if3gGwzAiahBmzwZFeqCMx3pJgAQimoC/83ekwaNADwOLh+MCzyj0mi+HcbLuuih5A29Z2RG/443c4dfkWPuYurl3zg17orEjb1gHM5AACYQigXCcvwNlB38WeOnpwKWXArt3A9FIRzKW4SUMRnMsw1N4Ga9FDUCVKsD27UBMTKBGwHpJgARIIDIJ+DN/RyIxCvQwsHq4LvCM7qOLSH8+dioqReUcGd+bWRp7KrfF9Xs/CJJQ94iRvn0ZMOUf1p6q7l8A1ZOtlWUpEiCBkCQQrvN3IIzhzwJvyRKgZUugA+ZiLPqiKnZnd/EYkvAAJuETdMR33wE3eTkYFYjxsE4SIAESiBQC/szfkcLIfZwU6GFg9XBe4Ml99P/OXIsMHxfS5bh7o+hNKIcUHEQJrMm4ChmIRvvCP+HlIh+gyJkDgbdwQhmg7QigWEXg5D5gbk9rbXb6H3B1Z2tlWYoECoqAN2eI0dyC1DVHOM/fugx08/mzwJs5E5jVbS5mQ+bYTES7NSqvl0xEoTNm458zOuLuu3V7xHwkQAIkQAI6BPyZv3XqD7c8FOhhYNFwX+DN/20fes34xbSlRLy/UXkRbj8yOUi76QAKxQMXzpjuqyogO+jVmtLLuzV6LFUQBLw5Q6TjQ1OWCPf52xQMg8z+LPCWfJuOGq0uRWXsziXOXU1mIAq7UQXbFm3HTbfwA5OddmNdJEACJODP/B2J9CjQw8DqkbDAM/Lsnp8Z74z7CcPip6PYuYMOtfbFO+hthgNfDcx9f11X7HAX06G2DeNu+XSGSMeHZqweCfO3GR755fVngZf+7RLEtGpp2JX0Rd8h5haecTcExQwkQAIkYIKAP/O3iWbCJisFehiYMlIWeF/8uhf//XCtJYvJbnrzwpvRt1Fx1Kt9FXDqEDDnASAzw1J99haKApr2Bla+6cXzu4fY8SbEN32ZN6SbrrC3dyCsLVIIGDpDDFPHhwH4EBYp87cdfxp+LfDkjHu3bsbdmDEDPONujIk5SIAESMAMAb/mbzMNhUleCvQwMGQkLfBGzN+ICd9v98tqDzevjoG1jlh35uZX656Fo4GOE4CFTwOnj/ioOZ8ddvEkn3bMSznuYtpqJlaWm4CuM8RwcnwYoOP8kTR/+/tn5NcCz+UlzqgT9BJnRIi/kwAJkIBpAn7N36ZbC/0CFOihb0NE2gJPdtJ7f7Q2O5atFRPObbYX9X96wkrRECoTpruYIWSBkOmq2Z3h9bOzTqAYpXBxfBjA4/yRNn8bPTL5/e7XAs89zlp+jcyalRUsnYkESIAESMA2An7N37b1InQqokAPHVv57GkkLvCsOo5zQWwcvREfxg0NA+trDMFzF1NHjOnk0Wg6O4td9dlVj5m+h3teKzvDTt1BD8TzEeDj/JE4f1v9k/J7gSfiu0sXiNf2i2eM8nalalUGQ7dqIJYjARIgAR8E/J6/I4wsBXoYGDxSF3gSJ33AnN9wPO2CaSvKnfTlhfugAo4i2tdKLSraIXfUTQ8vdwH3XUwdMeYrT+sRQGJpIPUAULR8lsd5nXBaOm3qDNGuenTaipQ8VneGs0XrPi9+EwReAZzeCNTzEeCPEZE6f1v5E/N7gcdj7lawswwJkAAJ+E3A7/nb7x6EVgUU6KFlL6+9jeQFXnpGJvp+uBZf/CZCwVxqE70G42LHqEK5RfpFxZ7tuE1y+AjEbq7Jgsl90yCg+RPA968BS4b77kPnKUB0NPDxfXrj1XFEZ1UAevbSTD2B2EUNpuXM9t9sftdY/N0ZNmOTQPMLZF8CfJw/kudvs4+F3ws8Ooozi5z5SYAESMAWAn7P37b0InQqoUAPHVv57CkXeIAceX9qzm9IPWtuN11E+vOxU1Ep6mg238zilRHV9mWg9p2At125UHtm4ksCsfHASaOPGFFAkRI+nM55G7SBIzp/BaAVIenNo31CaaDdKKDuXc6wXH6C2uj0gthQIhAklgWKVcxyLGg1NJ8dO8PS3097AedO5rAtXhlw/f0Eg7hdz5mvvtrBKR8OnL/1HxK/F3jcQdeHzZwkQAIkYCMBv+dvG/sSClVRoIeClQz6yAVeFiDZTX9r8RaMX7oFaef1w6fJcfdG0ZtQDik4iBL4vVAd9GxeE/+9+XLEyNa6CABZpM/uYUK8hsGDpTWEfI4y2yVsdOuRkwJLRvje/W/aB2g9xPuorO5C+2Lkq778BPjhP/M/4aBlD8nk9uHkqtuBnSu9X0uwa2d43mPA2uk5vWv3OlD2Sv0rENrj8pFR9/mw6lE+wB8AOH/rPwB+L/AuOorL3L3b+x30qCigShXeQdc3CXOSAAmQgBYBv+dvrVbCJxMFehjYkgu83Eb059i7e02JhWPwaqdr0O6aSln/nH2MVv6PlyPvccVy7ySGwbOlPQQRP3In3V0Mym7v3J7GVcgd+Tod/BeSPkPOuXXhn1OAOh476XbfXfZWn5xMuOxmYMMnetcHjKkZ5JDTEBdPTpzYm5PX/VqCXcJ2emdgyzd5+6NzBcJVyp8PJHZ9aPBFVOz5eZ+AhTPk/K3/sNuywJs7F5mdOuUV6CLOJc2eDXTsqN8p5iQBEiABEjAkYMv8bdhK+GSgQA8DW3KB592IdoRjk5qbXFYSXRpWQ4Xi8Wh0ZjlivnoayCV6Lh7plczq/rYPAR8Gz5rPITTuBWz8NDcXOVruM7a7W02y8/3LZA+mlYC2I7OuGegKSR2+CWWAJzbnOLezenc5vx1y3Tv8Ov0NVB7xN1D7DmBMXeCEgaO3Pr8Cu37w7Rxw9NXA8b+99NTgCoSrhJkPJN64y0ehKf8wJnXvvCy7m3Fy6PP5uNhckVLAHWOznlOLifO3Pji7Fni7Cl2Kquk7czcs3tvHjKE41zcHc5IACZCANgG75m/tBkM8IwV6iBtQus8Fnm8j+huOzbPmUomxGHpnLbQrvsP7Qt+b2BBReE0X4Mp2WfeHJX50pv4R/DB4RH0M4eIub9oxL7vKHse08xWSAGIKA+ln9VC5jjobHl0GUKQ00H8DsOenLHuLLf9eBayZkHtHVT5GXP1PQHZzTx/W60dB5pIIBXJy4fBfPo7VuzlK/H22748nwnBImfyfZ7mT3m991mhdJyyEo+xYbl4IrH5HT9zndz3g64H5f2jwdpogLhGo0Qpo+ABwabO8EQkunANG1crfnsUqAf1/14tm4MPenL/1/xDsWuBtLXQFaqT/hb1Pv4FK15QBKlYEkpOBmBj9zjAnCZAACZCANgG75m/tBkM8IwV6iBuQAt3YgP6EY/NV+x3XVMCYrvWz7qh7JqPjuhs+BWZ1993xQvHAhTPGAwuHHEbXAkTItR0BHN2e//1yMyxqtQf++X6WWNTZeTVTd7jkFVFdpyOw6s38xXNcUWB6B+NRt3gaWDs1t9A3LgWIAO67Dlg+Op8PCZlZfd0w10dfNSIwyE747aNzwgge2Zr1EUbnBEjyk8BlLSzfuadA13kQsvLYtcDbFX0Jqmbuwq65P6Jqh+v1O8CcJEACJEAClgjYNX9bajwEC1Ggh6DRPLvMBZ6xEe26l+7eUuFC0bj5qnL4d+NqaHxZae9i3VfXvO4GVgbqd7fJUZgxk4jOIYLs2q4+dm8jmgxQ5grgpoHGJz3k40nNW4DfPgosMPkIcC7VWhuFkwBkAGfdvMxbq8m4lJk79261cf42RuvKYdcC71BUWZTFYexf9Dsq3FJHvwPMSQIkQAIkYImAXfO3pcZDsBAFeggajQLdutGshmMzajEhLgYPN78sx/O7UQH53dtOuzgRkyPwTCRQUASiYoDM9IJqPYTb1bxz7zFCCnR9k9uxwBNH7qcLFUMxpOLomi0o1bCGfgeYkwRIgARIwBIBO+ZvSw2HaCEK9BA1nHu3ucAzZ0RXOLYJ32/F6XP2ChG/dtVlGHY6RDOHhblJgAT8JpBP2EEfdXP+1oduxwLv9GkgLrEQCiEdp//ag4SaF6N06HeDOUmABEiABEwSsGP+NtlkSGenQA9p82V1ngs8a0a0Gjddt7UisdG4/eqKuPHyslke4KuXMj4Gn+24zJdnbd3WmY8ESKDACJiIuc75W99Kdizwjh68gFLlY1WjFw4cQaFypfQ7wJwkQAIkQAKWCNgxf1tqOEQLUaCHqOHcu80Fnn9GDMT9dG89Uh7g29fNiavuq9tG8dbzG26+zr3848TSJEACmgTEQ/7VnbUyc/7WwqQy2bHA2/vnSVS6qnhWo7KdXqSIfgeYkwRIgARIwBIBO+ZvSw2HaCEK9BA1HAW6/YYL1P10z542rl4CDS4tjcxMoGRCHMoUK5x3h92bE7k8Q5Y7r5mAxBEvXQMoWj7Hk7SU/7xP7lBg9iNjjcEkIB7va7YCNn4SzFbZlhUC3EG3Qs2wjB0LvO1rDqH6DeWy2pIL6dHRhu0yAwmQAAmQgH8E7Ji//etBaJWmQA8te3ntLXdg7DOi69j7+yu2IyXtvH0Va9SUGBeD5leUzfEKL96nXXGjJezTL5M94lFXBtq+DNS+03vtclxe7rTvXA4c2gz8MQ/ARVGv0R9mIQESsEDAFfc9Wi+mNudvfcZ2LPA2L/obV9xaDWdQGPGZERLOUh8xc5IACZBAQAjYMX8HpGMOrZQC3aGGMdMtLvDM0NLLK0J9zfaj+HrDPsz8cRfOnM/QK2hTLq9e4Y3iqxu1rbUrb1QJfycBEsiXQJdpvj+aeSnI+Vv/ebJjgff73M2o2+lKHI9KQlJGin7jzEkCJEACJGCZgB3zt+XGQ7AgBXoIGs2zy1zgBdaIgfT6btRzS+Hb8qvUJfJP7gMWDgROH8k6Ju9vik0EbngI+GUqcPqoPXUa9UmOfNe7B0iqAuxaA2xdnDtetuxkXncv8P3LRjXl/b3MVcCJ3dbjb5tvMXAlancI7rF4sYuEaTt/OnBjcmrNct3kpgGmesf5Wx+XHQu8tZPXod791+FgTAWUuyDOOJlIgARIgAQCTcCO+TvQfXRS/RToTrKGxb5wgWcRnMliBSnU42OjcXfDqmhdp6KeN3idsRk5o9MSdh6xn43qFCEvdz7PnszpYeEkIOO8vqArUhK44VGg+ROA+zFibycMpJUxdYETJrziFykFPLklq38/jAe+GqRD04Y8gbh+cDHsV717gaUWPlSYHlUU0Hky8PXA3NcxTNcTggWKVQL6/577mdQYBudvDUgXs9ixwPvxrR/QsHdj7I69FFXObddvnDlJgARIgAQsE7Bj/rbceAgWpEAPQaN5dpkLvOAaUYT66q1HMP2HHfhu0yGcuRDc4+9yVz358jJoUK2UdwdzZnB4O/YuO8+uu+1Gx+Ld87ra9VbGXVRLPtfdepdju01fAh/fd7EGLzv6sitb/17gynY5jvB0x2n00cCzHvcjynaEvZOxp8lRWoOTCsKyfndgyXDdkennu3ceMO/RwIpm17Mg453yD82+BeKjhGbTki2hDHD6sIkC3rJ6fKQyWRvnb31gdizwVo1YgiaDWmJbfC1clrZRv3HmJAESIAESsEzAjvnbcuMhWJACPQSNRoHuHKMV5K66O4Wk+EJoVascKpQokr93eG/ojO62u/8ugiYqCjh1KLfXeM96jer01g8jYa/pdMvr0+H1Q4OHOPT2sUEq8ynw3bzon0kBfvs4t9hz1Sd15PfxoXGvnA8Pkldrx9+ksJWwXzFx+fdD589KfWw4lpNTnodruuT+cLJ+NjDnAePaZNwbP7Xxo8FFody0N7B+FiDXOHymiycL+vwK7PohK68804llgcRyWc/45oV5bSqnKySlyTWOi8nXc2NMQOWgQNcEZVOYteXPLkSzYbdhc2I9XJH6i37jzEkCJEACJGCZAAW6OXQU6OZ4OTI3F3gFbxb3XfVlfx1G6tn0gu/UxR7k8Q4ffVHIOKaHbh2xIux1x+FZd9UbssRZ6oH8PzZI/UYnDSRPfn3XKe8aR74fBACIAP19tjlh6wr75asfujv3shMvH0ryYyaRA3R20KVP1ZrmjlSwZMRFCganDYyEstji+9d8nEYwsePt69qE5wkQPz4ecf7W/QO2Jw760n6foMXYjtiQ1BR1UlboN86cJEACJEAClglQoJtDR4Fujpcjc3OB5yyzFLQH+PxoFImNRru6FazttDsLc/B74+/HAzPljQS9trO/izvF/dbn3I22dFffSz2+LGB4LSCfunyNu/VwILF07g8D0r6RUDbiGPynKE+LnL/1jWDHAu+7h2ai5cRuWFf6Zlx7+Fv9xpmTBEiABEjAMgE75m/LjYdgQQr0EDSaZ5e5wHOuEQsyrrpZKu5320slxiHl9DmUKloYFYrH2+eYzmynIjm/rqA32nHvMlUv7Jdd9YjN/KlLd9y6z4bd9em2q5mP87cmKJuOuC/+9yTc/MED+LnC7Wiw7wv9xpmTBEiABEjAMgEKdHPoKNDN8XJkbi7wHGmWXJ1y7arvP56Gw6lnkZJ2Xt0VP3DiDBb8vh+nzznnSLw3msXiY9CxXmVUKZmg+h6FKDSpURqNLyuNGCcfmXf+o2FPD+3aKbarHpdIXzgg91F8P+9r2wPLWbVw/ta3hx0LvEUd30GrTx7Dmks6odHO2fqNMycJkAAJkIBlAnbM35YbD8GCFOgOMlqHDh2wZMkS3HLLLZg9W3/hwAWeg4xooSvu99cX/3EQZ9NtiEtuoR9WivDIvBVqASpj106xXfXIMO3l6/f1AAAgAElEQVSsK0DYCrpazt/6FrBjgbfottfRauETWF3z32j81zT9xpmTBEiABEjAMgE75m/LjYdgQQp0Bxntu+++Q2pqKqZMmUKB7iC7BLMrItb7frgWX/yWnwfqYPbIelvejsyXSODReetEWTIcCThVoL/zzjt49dVXsW/fPtSpUwdjxoxBcnKyTxOcPXsWL730EqZPn479+/ejSpUqeOaZZ/Cf//wnu8ycOXPw3HPPYevWrahRowaGDRsG+TCtm+xY4C1qOQytljyLlbUfRNMNE3WbZj4SIAESIAE/CNgxf/vRfMgVpUB3mMlkB/2tt96iQHeYXYLdnfm/7cOz837H0VPngt10UNvzPDovx/5LJsT5H989qKNgYyRgnYATBfpHH32Ee++9FyLSb7zxRkyYMAHvvfceNm7ciEsuucTrYNu3b48DBw5g6NChqFmzJg4ePIgLFy6gadOmKv+qVauUwB8yZIgS5Z988gkGDx6M5cuX44YbbtACaMcCb1GTZ9Fq9TAsr98bzX5+Q6tdZiIBEiABEvCPgB3zt389CK3SFOg22ev7779Xuw0///yz2nGQxcddd92Vq3adHQkKdJsMEgbVuN9bX7HlMOaHwF11u7G778KXKVYY5YoWBqKg7vGXK0bndXbzZn3BJ+BEgS6CuX79+hg3blw2kFq1aql32ogRrlB4OawWLlyIrl27Ytu2bShV6mKseA+U//rXv1TM9wULFmT/0rZtW5QsWRIzZ87UAm/HAu/bek/gll9fx/ImT6LZyle02mUmEiABEiAB/wjYMX/714PQKk2BbpO9ZNGxYsUKtajp1KlTHoGuuyNBgW6TQcKwGtdd9VXbDiPjooO5RX8cxPG082E4Wr0hJcUXQqta5XKFjRMP9EdPZTniozM7PY7MVXAEnCbQz507h4SEBMyaNSvX8fO+ffvi119/xdKlS/PA6tWrFzZv3ozrr78e06ZNQ2JiIu688061W16kSBGVX3be+/fvr/7jSqNHj1ZH53fu3KllADsWeItrP4ab/3gHy1oORvLiF7XaZSYSIAESIAH/CNgxf/vXg9AqTYEeAHtFRUXlEei6OxI6Al3u+sl/XEkWeFWrVsXx48dRvHjxAIyIVTqVQKh7hw8WV2/O7NxDyXFnPliWYDueBJwm0Pfu3YvKlSurD86u4+nS5+HDhyv/KH/++WceI8pOuLy7WrVqpY6tHz58GCLab775ZkyaNEnlj4uLw+TJk9GtW7fs8jNmzMD999+f633mXrnnu27Pnj2oXbs2du3ape64W0lLaj6Am7ZOwrJ2w5H85UArVbAMCZAACZCASQIU6OaAUaCb46WV21Ogm9mR0BHoL7zwAl58Me+Xfwp0LfNETCZ37/DL/jqM1LPODuXmJMN4Hq1nLHgnWSe8+uJUgb5y5Uo0adIkG7Y4dJPd8U2bNuUxQOvWrbFs2TLlHC4pKUn9PnfuXHTu3BmnTp1Su+gi0EXg33333dnlP/jgAzzwwAM4c+aMV6P6etf5I9CXXdINybtmYnmn0Wg2u194PUwcDQmQAAk4lAAFujnDUKCb46WV21Og6+5ItGnTBr/88ota0Mg9PrnH3rBhwzxtcgddywzM5EaAO+3+Pw7ejtO734s/eOKMcupXqmhhUND7zztSanCaQDfzQdllo+7du6sd9y1btmSb7Y8//lC73XL0/fLLL7d0xD0QO+grK3RE0wOfYMW943Dj1Eci5THjOEmABEigQAlQoJvDT4FujpdWbl8C3cyOhFZDFzM5bYFnpu/MW/AEPO+2ixf13cdOY+7aPTh55kLBdzBEe+AZZs51L56e6kPUoAHqthPnb7mS1aBBA+XF3ZVEbIundm9O4t59913069dPeW4vWrSoKjJv3jx07NhRhQ6VHXRxEnfy5EnMnz8/u87bbrsNJUqUCKqTuDVlbkOjIwux6uHJaDK+e4CsympJgARIgATcCVCgm3seKNDN8dLK7c8Rd60GPDI5cYFnZRws4ywC7rvusjMsMcxFZP789zEs55F524ylI+Rdd+S5S28bdsdU5MT52+XUdPz48eqYuwjwiRMnYsOGDahWrRoGDhwIuQ8+depUxVFEuHh5b9y4sbp+JXfQH3zwQbRo0UKVkyQfqJs3b65in4vQFwH/7LPP2h5mLTMzU4V3S0/3fqVnw/X3oU7qGqy7fxSuHdDOMc9BOHUkNjYWMTEx4TQkjoUESMBPAhTo5gBSoJvjpZXbl5M4MzsSWg1dzOTEBZ6Z/jNv6BHgkXln2MxT3KeczvqQIv/No/bOsJFRL5w6f8vu+SuvvKLChtatWxficV0EtqQePXpgx44dyjGcK8nd9N69e6uj7qVLl0aXLl1UTHSXF3fJN3v2bCXKJRxbjRo1lFiXXXbdZLTAk+P50t/Tp0/7rPLc3/sQl3kOZ5PKonCJBN2mmc8EAVkDiRM/12kKE0WZlQRIIEwJGM3f3oatE57avZxEGXn88cfVx+RKlSrhqaeewiOPeL/K9OGHHyqfKPLB+NNPP3UcdQp0m0wiOwiu+3f16tXDqFGj0LJlS3WXXMLLGO1I+NMNpy7w/BkTy4YuAW9H5l0e0/8+yqPzwbZssfgYdKxXGVVKJqjQc64j9gxHF2xLeG+P87e+HfJb4GVkZOCvv/5SO7dly5ZVTulEKHqmMxv+QnzmWaSVr4YiZYvpN86cWgTkBMOhQ4fURxLxPcCddC1szEQCYU/ArEDXDU/tArd9+3b1Mblnz554+OGH1cdiiSYyc+ZMFf7aPUlozxtvvBGXXXaZ0mkU6GH8+MlOgghyzyTOcyS0jKT8diT8QcMFnj/0WDbYBHwdnXeJxwMnzmDB7/tx+hy9zgfbNu7h6BhDPjj0OX/rc85vgSee4GWBJkfwJY67r3T2599ROPMMTl9yJRLKUaDr09fPmZaWpk5YVK9eHfHx8foFmZMESCBsCZgV6LrhqV3ABgwYgM8++wzioNSVZPd83bp1WLVqVfa/yfUnuX4lIT4l+khKSgoFetg+dQU8MC7wCtgAbN52Ap678CLaF/1xEMfTztveFivMn4CvGPKeTu/c48rTi73+U8X5W5+VjkA3EoXnfvoNcTiHtOq1UKR0on7jzKlNwPWxxMgW2hUyIwmQQMgTcM3fGzduROXKlbPHU7hwYch/3JOVaCJyBUtOMI8dOza7KomGJdet5ESP+MaQ9Pzzz+O3335TkbLkuhYFesg/Ws4dABd4zrUNe2YfAdfO+8GTZ1AmsTAQBYjTtMOpZ70e3aYzO/vYW6lJ52i9+3H7SL0/z/lb/+myQ6Cf/+lXxOICztSojfiSvIOuT18/JwW6PivmJIFIIeCavz3HK4L5hRdeyPXPuuGp3QtdccUVSnAPGjQo+5/FOakcZZf6KlasqI69S0SRX3/9FWXKlKFAj5SHr6DGyQVeQZFnu04n4MuZHUPJOd1yWf0zI/IlJn0o7txz/tZ/Fu0Q6Ok//YIYZODcFXURV5zHr/Xp6+ekQNdnxZwkECkEzOyguwS6mfDUItDl2LpEGXElEeTNmjVTzkMTExNxzTXXqOvGEuJTEnfQI+XpK6BxcoFXQODZbMgTcN+VL1csHg2qlcSP249i1bbDyMgEeLQ+9ExsFLbO3TmeE2LSc/7Wf8bsEOgZP/2MaGTifK1rEJsY571xCdG2bBmwbx9QsSKQnAwEMGyYLBKnTJmSpy/i9K5mzZpqEen6vVChQqhataryfi8h7WTRaWeSnSxxmCQ7TFYTBbpVcixHAuFLwMwd9EAccRfP7nIE3t1xpTgXlRQdHY0///xTRRdxSqIXd6dYwo9+cIHnBzwWJQEDAvmFlPO8Fx8fG62E/bkLWZM+U2gRKAhxz/lb/xnxV6BnpGcgeu0vqsFTFWsioWISoqI9PL3PnQv07Qvs3p3TsSpVALnXaCIknP6osnZxDhw4gPfffz9XMfFGL4tJ99/Pnz+vHBtJnHlxQjtu3DitpmTBK57tjRIFuhEh/k4CJGCFgBmBLvWLkzgz4anFSdznn38OuePuSo8++qj62ChO4uTDoSvalut3Cft58uRJdW9dduB15kgrY7dShgLdCjWHleECz2EGYXcihoDnDnyj6qXU2FdvPZK9Cy/H6T13bempPvwekYpJ8Xj+jtpoW7eiqcFx/tbH5Y9AT919DHH7/0YcchxNnhN3cRWqomiVklmdEHHeuTNULEL35ArXNnt2QES60TFLb79LKKEvvvhCHd30li699FIl4mVBKs6Q7rrrLrULL4tY+f/CskKFCrjnnnswePBg5UBJIs7IEVH3JB8NpP3jx4/jySefVLvrstC9/vrrMXr0aFx77bV5mucOuv4zzZwkECkEzAp0o/DUcpR9z549mDp1qkLoCrMmIdZkfhRRLl7cvYVZczE3mnsL0jYU6AVJ36a2ucCzCSSrIYEgEvAVL97dO7q3I/bcpQ+ikUw2JXux4/5d35RI5/ytD9m0QBehffo0UvccQ+KB7aoh9/1ylww/Vb46ilYoDtSuDezZ471DItLF8/CGDcbH3SXMm5cY7L5GarRI9PZ7nz59MGPGDBw+fNinQD927Biee+45Jc4lyXH5oUOH4uabb0alSpWwfv16tZB9/PHH8dRTT0HCo0n+hQsXYtGiRapMUlKSCpWWnJys4gWLmJd/mzBhghL0mzdvVv/unijQ9Z9p5iSBSCFgVqALl/zCU8u8KOEcJcy1Ky1duhT9+/eHHGeXOU4+SIpItzr3FqRtKNALkr5NbXOBZxNIVkMCDiRgZpdePKH/ffQ05q7dg5NnLjhwNOHdJRF/FZLisXzAzYjxPDrtY+icv/WfCdMC/dQpoGhR/QbsypmaCpi4Gy4LzenTp+eKGS5OjGbNmqV65CnQ16xZg3bt2uGWW26B7DJ5S7KDLvctZbc8v/Tqq6+qOn766SeVzdsR98WLF6NDhw44ePBgrnBIIvhF2D/00EMU6HY9O6yHBMKUgBWBHqYotIZFga6FydmZuMBztn3YOxIINgH3e/NHT51DiYQ4eItbLv/GcHT2W2dmz8ZoUqO0VsWcv7UwqUzhLNDlqKb7fXJx/iZhgVwC3SXgL1y4ALmH3r59e4wfPx7lypXzKdBld/yZZ57J9fvs2bMxZswYdfQ9NTUVUl/x4sWV+PYl0EXEP/300yhSpEiuumTH/YknnsDIkSMp0PUfY+YkgYgkQIFuzuwU6OZ4OTI3F3iONAs7RQIhQ8DTER5Fu3+mG9v1OrS/rrJWJZy/tTBZE+iZmUj9cxeKHtpp2Eja9r0o0r2rYT7Mnw80b55/vgAccXcJeLkrLkc35b/zS7KD3q9fP/UfV1q9erUKOSTe39u0aaOOqn/44Yd4/fXXkZKS4lOgiwB/8803cx0lddVZokQJFU/YPfGIu/FjxBwkEGkEKNDNWZwC3RwvR+bmAs+RZmGnSCCkCeQXQ95bqLLdx3i03mVw7qAH5tE3vYMO4PSBk0jY9adhh05XqomEG67OuoPu6SROSsudcvHmvn278R10w9ZyZ7ByB92oCW8CXYS43OncunVrdnFxJCe76i6BPnz4cOVUSe6nu9I333yj4gbLrrvUa5Qo0I0I8XcSiDwCFOjmbE6Bbo6XI3NToDvSLOwUCUQcATNH61PSzisd5PJyHw7353kHPbCPvBWBnpmRifO/rEcszuVyEOfqqTiKO484xNa/GlGffpLlxV2Su0h3oBd3I9LeBPq8efPQuXNnTJs2DQ0bNsSXX36pdtPT09OzBbo4npM75cuXL0eVKlVQrFgxFXqoefPmKhyR7KZfeeWV2Lt3L+bPn68c0IlHd/dEgW5kHf5OApFHgALdnM0p0M3xcmRuCnRHmoWdIgESsEDAish3Stg6enG3YHATRawIdKleQqwl7s/aNfbqxb1Cjdyh1jzjoFetCowZE5AQa9KnYO2gS1vi1G3SpEk4e/Ysbr/9djRu3Fg5hnPtoMu/S+i1b7/9Vv2bK8yaiHO5zz5nzhwcOnRIhWgT0T5ixAhUFT5uiQLdxEPNrCQQIQQo0M0ZmgLdHC9H5qZAd6RZ2CkSIIEgEtAJWxfImPSMgx54Y1sV6C6RHrd/l0Q+z+5onjjorl/S04FlywCJMS6O2pKTbT/WHnhaBdcCBXrBsWfLJOBUAhTo5ixDgW6OlyNzU6A70izsFAmQQIgQsCruRfCXKVYYFYrHo1H1Utqh1dyxcP7Wf0j8EejSihx3TzuUioyz5xBdOA5FyhZFlGY4PP1eMicFOp8BEiABTwIU6OaeCQp0c7wcmZsLPEeahZ0iARIgAUMCnL8NEWVn8Feg67fEnP4QoED3hx7LkkB4EqBAN2dXCnRzvByZmws8R5qFnSIBEiABQwKcvw0RUaDrI3JETgp0R5iBnSABRxGgQDdnDgp0c7wcmZsLPEeahZ0iARIgAUMCnL8NEVGg6yNyRE4KdEeYgZ0gAUcRoEA3Zw4KdHO8HJmbCzxHmoWdIgESIAFDApy/DRFRoOsjckROCnRHmIGdIAFHEaBAN2cOCnRzvByZmws8R5qFnSIBEiABQwKcvw0RmRLoEv+7SJEi+pUyp+0E0tLSsGPHDlSvXh3x8fG2188KSYAEQo8ABbo5m1Ggm+PlyNxc4DnSLOwUCZAACRgS4PxtiEhLoKenp2Pz5s0oV64cSpcurV8pc9pO4Pjx49i7dy9q1qyJ2NhY2+tnhSRAAqFHgALdnM0o0M3xcmRuLvAcaRZ2igRIgAQMCXD+NkSkJdAl0759+5CSkqJEekJCAqKiovQrZ05bCGRkZChxLsL8kksuoQ1socpKSCD0CVCgm7MhBbo5Xo7MzQWeI83CTpEACZCAIQHO34aItAV6ZmYm9u/fr0Q6U8ERiI6OVsfb4+LiCq4TbJkESMBRBCjQzZmDAt0cL0fm5gLPkWZhp0iABEjAkADnb0NE2gLdlVGOu58/f16/Yua0lYAIcxHpTCRAAiTgIkCBbu5ZoEA3x8uRubnAc6RZ2CkSIAESMCTA+dsQkWmBrl8jc5IACZAACQSDAAW6OcoU6OZ4OTI3F3iONAs7RQIkQAKGBDh/GyKiQNdHxJwkQAIk4EgCFOjmzEKBbo6XI3NzgedIs7BTJEACJGBIgPO3ISIKdH1EzEkCJEACjiRAgW7OLBTo5ng5MjcXeI40CztFAiRAAoYEOH8bIqJA10fEnCRAAiTgSAIU6ObMQoFujpcjc0vM0RIlSmDXrl0oXry4I/vITpEACZAACeQlIAK9atWqyvN4UlISEeVD4O+//0a1atWwZs0aVKxYkaxIgARIgARChICEwWzUqBF27typQjAy5U+AAj0MnhDXV6kwGAqHQAIkQAIRSUA+sFapUiUix6476B9//FEt8JhIgARIgARCk4B8YG3YsGFodj6IvaZADyLsQDWVkZGBvXv3olixYoiKirLUjGsXh7vwlvDlKUSe9nB01UKe5GkvAXtr8+f5lNjdJ0+eRKVKlRiaysAsFy5cwNq1a1G+fHnLrIR17dq1sXHjRvXOZPKPAHn6x8+zNHmSp70E7K3Nn+dTtMqBAwdQr149FCpUyN6OhWFtFOhhaFQrQ+I9SCvUfJchT/K0l4C9tfH5JE97CYRObXz27bUVeZKnvQTsrY3PJ3naSyB4tVGgB4+1o1viJGaveciTPO0lYG9tfD7J014CoVMbn317bUWe5GkvAXtr4/NJnvYSCF5tFOjBY+3oljiJ2Wse8iRPewnYWxufT/K0l0Do1MZn315bkSd52kvA3tr4fJKnvQSCVxsFevBYO7qls2fPYsSIERg4cCAKFy7s6L6GQufI014rkSd52kvA3tr4fNrLM5C10Vb20iVP8rSXgL218fkkT3sJBK82CvTgsWZLJEACJEACJEACJEACJEACJEACJOCTAAU6Hw4SIAESIAESIAESIAESIAESIAEScAABCnQHGIFdIAESIAESIAESIAESIAESIAESIAEKdD4DJEACJEACJEACJEACJEACJEACJOAAAhToDjBCQXfhnXfewauvvop9+/ahTp06GDNmDJKTkwu6W45v/4UXXsCLL76Yq5/ly5fH/v371b9lZmaq3999910cO3YMN9xwA95++23FmAn4/vvv1XP3888/q2fvk08+wV133ZWNRoefOIB54oknMHPmTKSlpeGWW26BPM9VqlSJOMRGPHv06IEpU6bk4iLP5OrVq7P/jTxz8IjTzLlz52LTpk0oUqQImjZtipEjR+LKK6/kMxqif11811kzHN911ri5ShnNzXzXmeNrxJPvOn2efM/pswp2Tgr0YBN3WHsfffQR7r33XiVqbrzxRkyYMAHvvfceNm7ciEsuucRhvXVWd2TRMnv2bCxatCi7YzExMShbtqz6/7KYHzZsGCZPnowrrrgCQ4cOVaL0zz//RLFixZw1mALozYIFC7BixQrUr18fnTp1yiPQdfg9+uij+PzzzxXj0qVL4//+7/9w9OhRJfrFFpGUjHjKouXAgQN4//33s7HExcWhVKlS2f+fPHOemLZt26Jr165o2LAhLly4gGeeeQbr169Xc2NiYqL23ziZOuOvkO8663bgu846OylpNDfzXWeOrxFPvuv0efI9p88q2Dkp0INN3GHtyQ6aCKRx48Zl96xWrVpqJ1O+rDH5JiCLlk8//RS//vprnkzyRbxSpUro168fBgwYoH6X3UnZYZeX8cMPP0y0bgSioqJyCXQdfsePH1cfQ6ZNm4Z//etfqra9e/eiatWqmD9/Ptq0aROxjD15CghZtKSkpKhn1lsiz/wfl0OHDqFcuXJYunQpmjdvrk7IGP2Nk6lz/gT5rrNuC77rrLPzLMl3nX0spSa+6+zlyfecvTz9qY0C3R96IV723LlzSEhIwKxZs9ChQ4fs0fTt21eJTlmIMuUv0OWIdlJSkoodLwvA4cOH47LLLsO2bdtQo0YN/PLLL6hXr152Je3bt0eJEiXyHDWOdM6eL1kdfosXL1ZH2mXHvGTJktkIr732WvWByfP6QSQx9rVoEXEuu+byDLZo0UKd8BDRKYk8839CtmzZgssvv1ztotetW1frb5xMnfFXx3edf3YQgc53nX8MXaX5rrOHoy+ero/RfNdZ48z3nDVugShFgR4IqiFSp+w2Vq5cWR0zlvuVriQiU+6qylFsJt8E5JjV6dOn1fF1OTosR9jlvuqGDRsUO7kysGfPHrXL5koPPfQQdu7cia+++opo3Qh4LlpWrlxpyG/GjBm4//771ckE99S6dWtUr15dXdeI1ORNoMsR36JFi6JatWrYvn07nnvuOXV0W64DyAcm8vT9tMhuuXxcE18Sy5YtUxn5jIbOXxffdf7Ziu86//i5l+a7zj6WUhPfdfbx5HvOPpZ21ESBbgfFEK3DtWiRhWaTJk2yRyG7anJsWMQmkz6BU6dOqV3zp556Co0bN1YCUxhXrFgxu5KePXti165dWLhwoX7FEZDT16IlP36+BOWtt96q7DB+/PgIIOd9iN4WLZ45xTGfiPUPP/wQHTt29CnQyRN47LHH8OWXX2L58uXZDghdAp3PqPP/zPius9dGfNdZ58l3nXV23kryXWcfT77n7GNpR00U6HZQDNE6eOzPfsOJmKlZsyaefPJJHnE3gZfH/kzA0siqs2iRauTI9oMPPqj8JPA4tnewvXv3Vvf2xcGjnMxwJV7D0HgQHZKF7zr7DcF3nTWmfNdZ4+arFN919vDke84ejnbWQoFuJ80QrEvuTTdo0EB5cXel2rVrq+OcdBJnzqBy1Fp2buUYuxwflqPt/fv3VzvqkmSRKPd96SQuL1dfjnPy4+dywDV9+nR06dJFVSq7whJijU7icjvd8/YkHzlyRF1xkTCA9913H8gzNyU57ieLFgn/t2TJEvUxwz25nMTxGTU3TxZUbr7r7CPPd511lnzXWWfnraSOQOe7zjdzvufsfR7trI0C3U6aIViXK/SMHAeWY+6yWJ84caK6Ry3HX5l8E5D423fccYcKR3fw4EF1B10c64kTKWEnQlw+ckhYK1ncy91+WegzzFoW09TUVIhDEkniSG/UqFFo2bKlCvslTHX4SQirL774QoVZk3JiE3kZR2KYtfx4Chtx9CTh7OTKxY4dOzBo0CD8/fff+OOPP7LD/pFnzt97r1691LH/efPm5Yp9Lk4hJS66JD6jofOG4LvOuq34rrPOju86/9h5K813nX1M+Z6zj6XdNVGg2000BOuT3fNXXnlF7T6Kd+LRo0erMEJM+ROQGMly7PXw4cMq3JfcOx8yZAjkBIIk+TIpnsTFWZk4l5IdnLffflsxZoL6WCGC3DN1795dCW4dfmfOnFHXCURIpaWlKa/u8jxLqLVIS/nxlDCK4tl+7dq1KtSaiHRhL8+rOyvyzHlqZGfGW5IPbhKyTvdvnEyd85fId501W/BdZ42bqxTfdf7x8yzNd519PPmes4+l3TVRoNtNlPWRAAmQAAmQAAmQAAmQAAmQAAmQgAUCFOgWoLEICZAACZAACZAACZAACZAACZAACdhNgALdbqKsjwRIgARIgARIgARIgARIgARIgAQsEKBAtwCNRUiABEiABEiABEiABEiABEiABEjAbgIU6HYTZX0kQAIkQAIkQAIkQAIkQAIkQAIkYIEABboFaCxCAiRAAiRAAiRAAiRAAiRAAiRAAnYToEC3myjrIwESIAESIAESIAESIAESIAESIAELBCjQLUBjERIgARIgARIgARIgARIgARIgARKwmwAFut1EWR8JkAAJkAAJkAAJkAAJkAAJkAAJWCBAgW4BGouQAAk4k0BUVBQ++eQT3HXXXc7sIHtFAiRAAiRAAn4S4LvOT4AsTgIOJ0CB7nADsXskECoEevTogSlTpuTpbps2bbBw4cKgDIOLlqBgZiMkQAIkELEE+K6LWNNz4CQQNAIU6EFDzYZIILwJyKLlwIEDeP/993MNtHDhwihZshTIU1MAAAZESURBVGRQBk+BHhTMbIQESIAEIpYA33URa3oOnASCRoACPWio2RAJhDcBWbSkpKTg008/9TpQEc/vvPMOPvvsMyxZsgQVKlTAK6+8gn/+85/Z+devX4++ffti1apVSEhIQKdOnTBq1CgULVo0O8+kSZPw+uuvY8uWLShVqpTK89Zbb6nfpY2JEyfiyy+/xFdffYXKlSurvHfeeaf6/dixY/jvf/+Lr7/+GqmpqahSpQoGDRqE+++/P7yNw9GRAAmQAAnYQoDvOlswshISIIF8CFCg8/EgARKwhYDOoqV06dJ4+eWX0bx5c0ybNg0jRoyAiPJatWrh9OnTuPzyy9G4cWO8+OKLOHjwIB588EGVd/LkyaqP48aNw+OPP67quO2223D8+HGsWLEC/fr1yxboIrpF+Dds2BBvvvkmRNDv3LlTiXkR55JfRHyZMmWUyE9LS8Mdd9xhCwNWQgIkQAIkEN4E+K4Lb/tydCTgBAIU6E6wAvtAAmFAQBYt06dPR3x8fK7RDBgwAM8995za3X7kkUeUyHYlEeP169dXO+simiXvrl27kJiYqLLMnz9fiee9e/eifPnyakdcdruHDh3qlZi08eyzz2LIkCHq91OnTqFYsWKqnrZt26qddBHmItqZSIAESIAESMAsAb7rzBJjfhIgAbMEKNDNEmN+EiABrwRk0bJnz55cAlwyys61/EfEsziRu++++7LL9+/fH7/++iu+++47tTO+du1a9b9dSXbIS5QogaVLl+Kqq65SIn3x4sVo2bKlT4H+8ccf5zo2n5SUpHbSpd0FCxaoI/FXXHEFWrdurby9N23alBYlARIgARIgAS0CfNdpYWImEiABPwhQoPsBj0VJgARyCOgc+/Mm0NetW6dEt4h11//2FOjff/89rrvuOhQvXtxQoHuGWROBP2bMGEj/JB06dEjdUV+0aBHmzJmDxx57DK+99hpNSQIkQAIkQAKGBPiuM0TEDCRAAn4SoED3EyCLkwAJZBHQWbQ8+uij6ji7KzVp0gT16tXTPuJevXp13HPPPfkecTcS6O72mjBhAp588kmcOHGCZiQBEiABEiABQwJ81xkiYgYSIAE/CVCg+wmQxUmABHIEurcwa4UKFVL3vuWIu/z3yJEj0axZM3zwwQdKaIuTuNq1aysncTVr1lRHzl944QW10y1O4pKTk7OdxMkOvNxjlzrESdzJkyeV07fevXurTngLs+a+gz548GA0aNAAderUwdmzZ/H0008rZ3Q//PADzUgCJEACJEAChgR8hVnju84QHTOQAAloEqBA1wTFbCRAAvkTkEWLCGjPdOWVV2LTpk1KPL/99tsqDJscWZcwa+KNvWvXrtlFdMKsya736NGjsW3bNiX4O3fujDfeeENLoMsHgRkzZmDHjh0oUqSIEv9Sl+zMM5EACZAACZCAEQG+64wI8XcSIAF/CVCg+0uQ5UmABLQIeNvd1irITCRAAiRAAiQQIgT4rgsRQ7GbJOBgAhToDjYOu0YC4USAi5ZwsibHQgIkQAIk4I0A33V8LkiABPwlQIHuL0GWJwES0CLARYsWJmYiARIgARIIYQJ814Ww8dh1EnAIAQp0hxiC3SABEiABEiABEiABEiABEiABEohsAhTokW1/jp4ESIAESIAESIAESIAESIAESMAhBCjQHWIIdoMESIAESIAESIAESIAESIAESCCyCVCgR7b9OXoSIAESIAESIAESIAESIAESIAGHEKBAd4gh2A0SIAESIAESIAESIAESIAESIIHIJkCBHtn25+hJgARIgARIgARIgARIgARIgAQcQoAC3SGGYDdIgARIgARIgARIgARIgARIgAQimwAFemTbn6MnARIgARIgARIgARIgARIgARJwCAEKdIcYgt0gARIgARIgARIgARIgARIgARKIbAIU6JFtf46eBEiABEiABEiABEiABEiABEjAIQQo0B1iCHaDBEiABEiABEiABEiABEiABEggsglQoEe2/Tl6EiABEiABEiABEiABEiABEiABhxCgQHeIIdgNEiABEiABEiABEiABEiABEiCByCZAgR7Z9ufoSYAESIAESIAESIAESIAESIAEHEKAAt0hhmA3SIAESIAESIAESIAESIAESIAEIpvA/wOSorYJ1npVKwAAAABJRU5ErkJggg==\" width=\"1000\">"
      ],
      "text/plain": [
       "<IPython.core.display.HTML object>"
      ]
     },
     "metadata": {},
     "output_type": "display_data"
    }
   ],
   "source": [
    "print('for model: ', model)   \n",
    "run_name = 'SimpleCNN5Layer_Ca G'\n",
    "# Create an mlflow run\n",
    "with mlflow.start_run(run_name=run_name) as run:\n",
    "    # Log parameters of the model\n",
    "    for key, value in vars(args).items():\n",
    "        print(key, value)\n",
    "        mlflow.log_param(key, value)\n",
    "    \n",
    "    # Log parameter count in the model\n",
    "    mlflow.log_param('Parameters', count_parameters(model))\n",
    "    \n",
    "    # Begin run\n",
    "    for result in trainNet(model, optimizer, loss,\n",
    "                            train_loader, val_loader,\n",
    "                            args.epochs+args.epoch_start, epoch_start=args.epoch_start,\n",
    "                            notebook=True, device=device):\n",
    "\n",
    "        result = result._asdict()\n",
    "        results = results.append(pd.Series(result), ignore_index=True)\n",
    "        xs = results.index\n",
    "\n",
    "        # Update the plot above\n",
    "        lines['train'].set_data(results.index, results.cost)\n",
    "        lines['val'].set_data(results.index, results.val)\n",
    "\n",
    "        #filter first cost epoch (can be really large)\n",
    "        max_cost = max(max(results.cost if len(results.cost)<2 else results.cost[1:]), max(results.val))\n",
    "        min_cost = min(min(results.cost), min(results.val))\n",
    "    \n",
    "        # The plot limits need updating too\n",
    "        ax.set_ylim(min_cost*.9, max_cost*1.1)  \n",
    "        ax.set_xlim(-.5, len(results.cost) - .5)\n",
    "    \n",
    "        replace_in_ax(lax, lines['eff'], xs, results['eff_val'].apply(lambda x: x.eff_rate))\n",
    "        replace_in_ax(tax, lines['fp'], xs, results['eff_val'].apply(lambda x: x.fp_rate))            \n",
    "            \n",
    "        # Redraw the figure\n",
    "        fig.canvas.draw()\n",
    "            \n",
    "        ## MLFLOW ##\n",
    "        # Log metrics\n",
    "        mlflow.log_metric('Efficiency', result['eff_val'].eff_rate, result['epoch'])\n",
    "        mlflow.log_metric('False Positive Rate',  result['eff_val'].fp_rate, result['epoch'])\n",
    "        mlflow.log_metric('Validation Loss',  result['val'], result['epoch'])\n",
    "        mlflow.log_metric('Training Loss',  result['cost'], result['epoch'])\n",
    "            \n",
    "        # Log tags\n",
    "#        mlflow.set_tag('Optimizer', 'Adam')\n",
    "#        mlflow.set_tag('Kernel size', 'Mixed')\n",
    "#        mlflow.set_tag('Skip connections', '4')\n",
    "#        mlflow.set_tag('Activation', 'Softplus')\n",
    "#        mlflow.set_tag('Mid Activation', 'Relu')\n",
    "        mlflow.set_tag('Extra Data', 'False')\n",
    "\n",
    "        # Save model state dictionary, optimizer state dictionary, and epoch number\n",
    "        torch.save({\n",
    "            'model':model.state_dict(),\n",
    "            'optimizer':optimizer.state_dict(),\n",
    "            'epoch':args.epochs+result['epoch']\n",
    "            }, 'run_stats.pyt')\n",
    "        # Save the run stats into mlflow\n",
    "        mlflow.log_artifact('run_stats.pyt')\n",
    "        \n",
    "    dual_train_plots(results.index,\n",
    "                 results.cost, results.val, \n",
    "                 results['eff_val'].apply(lambda x: x.eff_rate),\n",
    "                 results['eff_val'].apply(lambda x: x.fp_rate))\n",
    "    plt.tight_layout()\n",
    "    # save plot\n",
    "    plt.savefig('plot.png')  \n",
    "    mlflow.log_artifact('plot.png')"
   ]
  },
  {
   "cell_type": "code",
   "execution_count": 13,
   "metadata": {},
   "outputs": [],
   "source": [
    "##quit()"
   ]
  }
 ],
 "metadata": {
  "celltoolbar": "Raw Cell Format",
  "kernelspec": {
   "display_name": "goofit-june2020",
   "language": "python",
   "name": "goofit-june2020"
  },
  "language_info": {
   "codemirror_mode": {
    "name": "ipython",
    "version": 3
   },
   "file_extension": ".py",
   "mimetype": "text/x-python",
   "name": "python",
   "nbconvert_exporter": "python",
   "pygments_lexer": "ipython3",
   "version": "3.7.6"
  }
 },
 "nbformat": 4,
 "nbformat_minor": 2
}
