{
 "cells": [
  {
   "cell_type": "code",
   "execution_count": 1,
   "metadata": {},
   "outputs": [],
   "source": [
    "##%matplotlib widget\n",
    "## with %matplotlib notebook: seems to require ipympl as part of environment, either\n",
    "## part of the conda environment or \"pip install ipympl\"\n",
    "## otherwise, does not show ANY plots in notebook, plt.savefig() works\n",
    "%matplotlib notebook  \n",
    "##%matplotlib inline    ## --plt.savefig()  works, but re-sizing does NOT"
   ]
  },
  {
   "cell_type": "markdown",
   "metadata": {},
   "source": [
    "Check the current GPU usage. Please try to be nice!"
   ]
  },
  {
   "cell_type": "code",
   "execution_count": 2,
   "metadata": {},
   "outputs": [
    {
     "name": "stdout",
     "output_type": "stream",
     "text": [
      "Fri Jul 10 09:08:36 2020       \n",
      "+-----------------------------------------------------------------------------+\n",
      "| NVIDIA-SMI 440.64.00    Driver Version: 440.64.00    CUDA Version: 10.2     |\n",
      "|-------------------------------+----------------------+----------------------+\n",
      "| GPU  Name        Persistence-M| Bus-Id        Disp.A | Volatile Uncorr. ECC |\n",
      "| Fan  Temp  Perf  Pwr:Usage/Cap|         Memory-Usage | GPU-Util  Compute M. |\n",
      "|===============================+======================+======================|\n",
      "|   0  TITAN V             Off  | 00000000:03:00.0 Off |                  N/A |\n",
      "| 28%   33C    P8    23W / 250W |   6153MiB / 12066MiB |      0%      Default |\n",
      "+-------------------------------+----------------------+----------------------+\n",
      "|   1  Tesla P100-PCIE...  Off  | 00000000:83:00.0 Off |                    0 |\n",
      "| N/A   33C    P0    33W / 250W |      0MiB / 16280MiB |      0%      Default |\n",
      "+-------------------------------+----------------------+----------------------+\n",
      "|   2  TITAN V             Off  | 00000000:84:00.0 Off |                  N/A |\n",
      "| 25%   36C    P0    34W / 250W |      0MiB / 12066MiB |      0%      Default |\n",
      "+-------------------------------+----------------------+----------------------+\n",
      "                                                                               \n",
      "+-----------------------------------------------------------------------------+\n",
      "| Processes:                                                       GPU Memory |\n",
      "|  GPU       PID   Type   Process name                             Usage      |\n",
      "|=============================================================================|\n",
      "|    0     24807      C   ...a/conda/envs/goofit-june2020/bin/python  6141MiB |\n",
      "+-----------------------------------------------------------------------------+\n"
     ]
    }
   ],
   "source": [
    "!nvidia-smi"
   ]
  },
  {
   "cell_type": "markdown",
   "metadata": {},
   "source": [
    "## Imports"
   ]
  },
  {
   "cell_type": "code",
   "execution_count": 3,
   "metadata": {},
   "outputs": [],
   "source": [
    "import matplotlib.pyplot as plt\n",
    "import numpy as np\n",
    "import time\n",
    "import torch\n",
    "import pandas as pd\n",
    "import mlflow\n",
    "\n",
    "# Python 3 standard library\n",
    "from pathlib import Path\n",
    "\n",
    "from torchsummary import summary\n",
    "\n",
    "'''\n",
    "HELPER FUNCTIONS\n",
    "'''\n",
    "# From model/collectdata.py\n",
    "from model.collectdata_mdsA import collect_data\n",
    "\n",
    "# From model/loss.py\n",
    "##from loss import Loss\n",
    "from model.alt_loss_A import Loss\n",
    "\n",
    "# From model/training.py\n",
    "from model.training import trainNet, select_gpu, Results\n",
    "\n",
    "# From model/models.py\n",
    "##  will start with model from TwoFeatures_CNN6Layer_A in the first instance\n",
    "##  see relevant cell below\n",
    "\n",
    "from model.models_mds_07July2020 import SimpleCNN5Layer_Ca as Model\n",
    "from model.models_mds_07July2020 import SimpleCNN5Layer_Ca_B as Model_B\n",
    "from model.models_mds_07July2020 import All_CNN6Layer_A as ModelA\n",
    "from model.models_mds_07July2020 import All_CNN6Layer_B as ModelB\n",
    "from model.models_mds_07July2020 import All_CNN6Layer_C as ModelC\n",
    "from model.models_mds_07July2020 import All_CNN6Layer_D as ModelD\n",
    "from model.models_mds_07July2020 import All_CNN6Layer_E as ModelE\n",
    "\n",
    "# From model/utilities.py\n",
    "from model.utilities import load_full_state, count_parameters, Params\n",
    "\n",
    "from model.plots import dual_train_plots, replace_in_ax\n",
    "\n",
    "## adds image of model architecture\n",
    "import hiddenlayer as HL"
   ]
  },
  {
   "cell_type": "markdown",
   "metadata": {},
   "source": [
    "Set up Torch device configuration. All tensors and model parameters need to know where to be put.\n",
    "This takes a BUS ID number: The BUS ID is the same as the listing at the top of this script."
   ]
  },
  {
   "cell_type": "code",
   "execution_count": 4,
   "metadata": {},
   "outputs": [
    {
     "name": "stdout",
     "output_type": "stream",
     "text": [
      "1 available GPUs (initially using device 0):\n",
      "  0 TITAN V\n"
     ]
    }
   ],
   "source": [
    "device = select_gpu(2)"
   ]
  },
  {
   "cell_type": "markdown",
   "metadata": {},
   "source": [
    "### Set up local parameters"
   ]
  },
  {
   "cell_type": "code",
   "execution_count": 5,
   "metadata": {},
   "outputs": [],
   "source": [
    "# params order - batch size, epochs, lr, epoch_start (which is usually set to 0)\n",
    "args = Params(128, 100, 1e-3, 19)"
   ]
  },
  {
   "cell_type": "markdown",
   "metadata": {},
   "source": [
    "## Loading data\n",
    "\n",
    "Load the dataset, split into parts, then move to device (see `collectdata.py` in the `../model` directory)"
   ]
  },
  {
   "cell_type": "code",
   "execution_count": 6,
   "metadata": {
    "scrolled": true
   },
   "outputs": [
    {
     "name": "stdout",
     "output_type": "stream",
     "text": [
      "Loading data...\n",
      "Loaded /share/lazy/sokoloff/ML-data_A/Aug14_80K_train.h5 in 10.98 s\n",
      "Loaded /share/lazy/sokoloff/ML-data_AA/Oct03_80K_train.h5 in 10.37 s\n",
      "Loaded /share/lazy/will/ML_mdsA/June30_2020_80k_1.h5 in 10.37 s\n",
      "Loaded /share/lazy/will/ML_mdsA/June30_2020_80k_3.h5 in 10.33 s\n",
      "Constructing 320000 event dataset took 4.717 s\n",
      "Loading data...\n",
      "Loaded /share/lazy/sokoloff/ML-data_AA/Oct03_20K_val.h5 in 2.571 s\n",
      "Constructing 9984 event dataset took 0.06754 s\n"
     ]
    }
   ],
   "source": [
    "## newer vernacular\n",
    "## Training dataset. You can put as many files here as desired.\n",
    "\n",
    "## in this DEMO example we use only one 80K training set -- the model starts with well-trained weights,\n",
    "## and using a smaller training set reduces both the time to load the data and the time to train an epoch\n",
    "##  set the option load_XandXsq = True to use both DKE and KDE^2 as input features\n",
    "train_loader = collect_data('/share/lazy/sokoloff/ML-data_A/Aug14_80K_train.h5',\n",
    "                             '/share/lazy/sokoloff/ML-data_AA/Oct03_80K_train.h5',\n",
    "#                             '/share/lazy/sokoloff/ML-data_AA/Oct03_40K_train.h5',\n",
    "                             '/share/lazy/will/ML_mdsA/June30_2020_80k_1.h5',\n",
    "                             '/share/lazy/will/ML_mdsA/June30_2020_80k_3.h5',\n",
    "#                             '/share/lazy/will/ML_mdsA/June30_2020_80k_4.h5',\n",
    "#                             '/share/lazy/will/ML_mdsA/June30_2020_80k_5.h5',\n",
    "#                             '/share/lazy/will/ML_mdsA/June30_2020_80k_6.h5',\n",
    "#                             '/share/lazy/will/ML_mdsA/June30_2020_80k_7.h5',\n",
    "#                             '/share/lazy/will/ML_mdsA/June30_2020_80k_8.h5',\n",
    "#                             '/share/lazy/will/ML_mdsA/June30_2020_80k_9.h5',\n",
    "                            #'/share/lazy/sokoloff/ML-data_AA/Oct03_80K2_train.h5',\n",
    "                             batch_size=args.batch_size,\n",
    "## if we are using a larger dataset (240K events, with the datasets above, and 11 GB  of GPU memory),\n",
    "## not the dataset will overflow the GPU memory; device=device will allow the data to move back\n",
    "## and forth between the CPU and GPU memory. While this allows use of a larger dataset, it slows\n",
    "## down performance by about 10%.  So comment out when not needed.\n",
    "                            device=device,\n",
    "                            masking=True, shuffle=True,\n",
    "                            load_XandXsq=False,\n",
    "                            load_xy=False)\n",
    "\n",
    "# Validation dataset. You can slice to reduce the size.\n",
    "## dataAA -> /share/lazy/sokoloff/ML-data_AA/\n",
    "val_loader = collect_data('/share/lazy/sokoloff/ML-data_AA/Oct03_20K_val.h5',\n",
    "## mds val_loader = collect_data('dataAA/HLT1CPU_1kevts_val.h5',\n",
    "\n",
    "                          batch_size=args.batch_size,\n",
    "                          slice=slice(256 * 39),\n",
    "                          device=device,\n",
    "                          masking=True, shuffle=False,\n",
    "                          load_XandXsq=False,\n",
    "                          load_xy=False)"
   ]
  },
  {
   "cell_type": "markdown",
   "metadata": {},
   "source": [
    "# Preparing the model"
   ]
  },
  {
   "cell_type": "markdown",
   "metadata": {},
   "source": [
    "Prepare a model, use multiple GPUs if they are VISIBLE, and move the model to the device."
   ]
  },
  {
   "cell_type": "code",
   "execution_count": 7,
   "metadata": {
    "scrolled": true
   },
   "outputs": [
    {
     "name": "stderr",
     "output_type": "stream",
     "text": [
      "WARNING:root:Malformed experiment 'ML'. Detailed error Yaml file '/share/lazy/pv-finder_model_repo/ML/meta.yaml' does not exist.\n",
      "Traceback (most recent call last):\n",
      "  File \"/home/michael24peters/.local/lib/python3.7/site-packages/mlflow/store/tracking/file_store.py\", line 197, in list_experiments\n",
      "    experiment = self._get_experiment(exp_id, view_type)\n",
      "  File \"/home/michael24peters/.local/lib/python3.7/site-packages/mlflow/store/tracking/file_store.py\", line 260, in _get_experiment\n",
      "    meta = read_yaml(experiment_dir, FileStore.META_DATA_FILE_NAME)\n",
      "  File \"/home/michael24peters/.local/lib/python3.7/site-packages/mlflow/utils/file_utils.py\", line 167, in read_yaml\n",
      "    raise MissingConfigException(\"Yaml file '%s' does not exist.\" % file_path)\n",
      "mlflow.exceptions.MissingConfigException: Yaml file '/share/lazy/pv-finder_model_repo/ML/meta.yaml' does not exist.\n"
     ]
    }
   ],
   "source": [
    "model = Model_B()\n",
    "\n",
    "##summary(model, input_size=(4, 4000))\n",
    "##print(model.parameters)\n",
    "\n",
    "mlflow.tracking.set_tracking_uri('file:/share/lazy/pv-finder_model_repo')\n",
    "mlflow.set_experiment('ALLCNN')"
   ]
  },
  {
   "cell_type": "code",
   "execution_count": 8,
   "metadata": {
    "scrolled": true
   },
   "outputs": [
    {
     "name": "stdout",
     "output_type": "stream",
     "text": [
      "Let's use 1 GPUs!\n"
     ]
    }
   ],
   "source": [
    "print(\"Let's use\", torch.cuda.device_count(), \"GPUs!\")\n",
    "if torch.cuda.device_count() > 1:\n",
    "    model = torch.nn.DataParallel(model)"
   ]
  },
  {
   "cell_type": "code",
   "execution_count": 9,
   "metadata": {
    "scrolled": true
   },
   "outputs": [
    {
     "name": "stdout",
     "output_type": "stream",
     "text": [
      "we also froze 0 weights\n",
      "Of the 12 parameter layers to update in the current model, 12 were loaded\n",
      "we also froze 0 weights\n",
      "Of the 12 parameter layers to update in the current model, 12 were loaded\n"
     ]
    }
   ],
   "source": [
    "##  mds 200121 loss = Loss(epsilon=1e-5,coefficient=1.0)\n",
    "loss = Loss(epsilon=1e-5,coefficient=2.5)\n",
    "optimizer = torch.optim.Adam(model.parameters(), lr=args.lr)\n",
    "\n",
    "##  use the first five layers from a pre-existing model\n",
    "##  see example at https://discuss.pytorch.org/t/how-to-load-part-of-pre-trained-model/1113\n",
    "##   ML -> /share/lazy/sokoloff/ML\n",
    "\n",
    "#path = 'run_stats.pyt'\n",
    "#load_full_state(model, optimizer, path)\n",
    "# For other pretrained models, go to MLFlow and find the path for \"run_stats.pyt\"\n",
    "pretrained_dict = '/share/lazy/pv-finder_model_repo/7/fb1060b37aeb4d2f96fd22865a5a6e5d/artifacts/run_stats.pyt'\n",
    "load_full_state(model, optimizer, pretrained_dict)"
   ]
  },
  {
   "cell_type": "code",
   "execution_count": 10,
   "metadata": {},
   "outputs": [
    {
     "data": {
      "text/plain": [
       "SimpleCNN5Layer_Ca_B(\n",
       "  (conv1): Conv1d(1, 16, kernel_size=(25,), stride=(1,), padding=(12,))\n",
       "  (conv2): Conv1d(16, 9, kernel_size=(15,), stride=(1,), padding=(7,))\n",
       "  (conv3): Conv1d(9, 9, kernel_size=(15,), stride=(1,), padding=(7,))\n",
       "  (conv4): Conv1d(9, 9, kernel_size=(15,), stride=(1,), padding=(7,))\n",
       "  (conv5): Conv1d(9, 1, kernel_size=(5,), stride=(1,), padding=(2,))\n",
       "  (conv1dropout): Dropout(p=0.15, inplace=False)\n",
       "  (conv2dropout): Dropout(p=0.15, inplace=False)\n",
       "  (conv3dropout): Dropout(p=0.15, inplace=False)\n",
       "  (conv4dropout): Dropout(p=0.15, inplace=False)\n",
       "  (conv5dropout): Dropout(p=0.35, inplace=False)\n",
       "  (fc1): Linear(in_features=4000, out_features=4000, bias=True)\n",
       ")"
      ]
     },
     "execution_count": 10,
     "metadata": {},
     "output_type": "execute_result"
    }
   ],
   "source": [
    "model.to(device)"
   ]
  },
  {
   "cell_type": "markdown",
   "metadata": {},
   "source": [
    "## Train \n",
    "\n",
    "\n",
    "\n",
    "The body of this loop runs once per epoch. Results is a named tuple of values (loss per epoch for training and validation, time each). Start by setting up a plot first:"
   ]
  },
  {
   "cell_type": "code",
   "execution_count": 11,
   "metadata": {},
   "outputs": [
    {
     "data": {
      "application/javascript": [
       "/* Put everything inside the global mpl namespace */\n",
       "window.mpl = {};\n",
       "\n",
       "\n",
       "mpl.get_websocket_type = function() {\n",
       "    if (typeof(WebSocket) !== 'undefined') {\n",
       "        return WebSocket;\n",
       "    } else if (typeof(MozWebSocket) !== 'undefined') {\n",
       "        return MozWebSocket;\n",
       "    } else {\n",
       "        alert('Your browser does not have WebSocket support. ' +\n",
       "              'Please try Chrome, Safari or Firefox ≥ 6. ' +\n",
       "              'Firefox 4 and 5 are also supported but you ' +\n",
       "              'have to enable WebSockets in about:config.');\n",
       "    };\n",
       "}\n",
       "\n",
       "mpl.figure = function(figure_id, websocket, ondownload, parent_element) {\n",
       "    this.id = figure_id;\n",
       "\n",
       "    this.ws = websocket;\n",
       "\n",
       "    this.supports_binary = (this.ws.binaryType != undefined);\n",
       "\n",
       "    if (!this.supports_binary) {\n",
       "        var warnings = document.getElementById(\"mpl-warnings\");\n",
       "        if (warnings) {\n",
       "            warnings.style.display = 'block';\n",
       "            warnings.textContent = (\n",
       "                \"This browser does not support binary websocket messages. \" +\n",
       "                    \"Performance may be slow.\");\n",
       "        }\n",
       "    }\n",
       "\n",
       "    this.imageObj = new Image();\n",
       "\n",
       "    this.context = undefined;\n",
       "    this.message = undefined;\n",
       "    this.canvas = undefined;\n",
       "    this.rubberband_canvas = undefined;\n",
       "    this.rubberband_context = undefined;\n",
       "    this.format_dropdown = undefined;\n",
       "\n",
       "    this.image_mode = 'full';\n",
       "\n",
       "    this.root = $('<div/>');\n",
       "    this._root_extra_style(this.root)\n",
       "    this.root.attr('style', 'display: inline-block');\n",
       "\n",
       "    $(parent_element).append(this.root);\n",
       "\n",
       "    this._init_header(this);\n",
       "    this._init_canvas(this);\n",
       "    this._init_toolbar(this);\n",
       "\n",
       "    var fig = this;\n",
       "\n",
       "    this.waiting = false;\n",
       "\n",
       "    this.ws.onopen =  function () {\n",
       "            fig.send_message(\"supports_binary\", {value: fig.supports_binary});\n",
       "            fig.send_message(\"send_image_mode\", {});\n",
       "            if (mpl.ratio != 1) {\n",
       "                fig.send_message(\"set_dpi_ratio\", {'dpi_ratio': mpl.ratio});\n",
       "            }\n",
       "            fig.send_message(\"refresh\", {});\n",
       "        }\n",
       "\n",
       "    this.imageObj.onload = function() {\n",
       "            if (fig.image_mode == 'full') {\n",
       "                // Full images could contain transparency (where diff images\n",
       "                // almost always do), so we need to clear the canvas so that\n",
       "                // there is no ghosting.\n",
       "                fig.context.clearRect(0, 0, fig.canvas.width, fig.canvas.height);\n",
       "            }\n",
       "            fig.context.drawImage(fig.imageObj, 0, 0);\n",
       "        };\n",
       "\n",
       "    this.imageObj.onunload = function() {\n",
       "        fig.ws.close();\n",
       "    }\n",
       "\n",
       "    this.ws.onmessage = this._make_on_message_function(this);\n",
       "\n",
       "    this.ondownload = ondownload;\n",
       "}\n",
       "\n",
       "mpl.figure.prototype._init_header = function() {\n",
       "    var titlebar = $(\n",
       "        '<div class=\"ui-dialog-titlebar ui-widget-header ui-corner-all ' +\n",
       "        'ui-helper-clearfix\"/>');\n",
       "    var titletext = $(\n",
       "        '<div class=\"ui-dialog-title\" style=\"width: 100%; ' +\n",
       "        'text-align: center; padding: 3px;\"/>');\n",
       "    titlebar.append(titletext)\n",
       "    this.root.append(titlebar);\n",
       "    this.header = titletext[0];\n",
       "}\n",
       "\n",
       "\n",
       "\n",
       "mpl.figure.prototype._canvas_extra_style = function(canvas_div) {\n",
       "\n",
       "}\n",
       "\n",
       "\n",
       "mpl.figure.prototype._root_extra_style = function(canvas_div) {\n",
       "\n",
       "}\n",
       "\n",
       "mpl.figure.prototype._init_canvas = function() {\n",
       "    var fig = this;\n",
       "\n",
       "    var canvas_div = $('<div/>');\n",
       "\n",
       "    canvas_div.attr('style', 'position: relative; clear: both; outline: 0');\n",
       "\n",
       "    function canvas_keyboard_event(event) {\n",
       "        return fig.key_event(event, event['data']);\n",
       "    }\n",
       "\n",
       "    canvas_div.keydown('key_press', canvas_keyboard_event);\n",
       "    canvas_div.keyup('key_release', canvas_keyboard_event);\n",
       "    this.canvas_div = canvas_div\n",
       "    this._canvas_extra_style(canvas_div)\n",
       "    this.root.append(canvas_div);\n",
       "\n",
       "    var canvas = $('<canvas/>');\n",
       "    canvas.addClass('mpl-canvas');\n",
       "    canvas.attr('style', \"left: 0; top: 0; z-index: 0; outline: 0\")\n",
       "\n",
       "    this.canvas = canvas[0];\n",
       "    this.context = canvas[0].getContext(\"2d\");\n",
       "\n",
       "    var backingStore = this.context.backingStorePixelRatio ||\n",
       "\tthis.context.webkitBackingStorePixelRatio ||\n",
       "\tthis.context.mozBackingStorePixelRatio ||\n",
       "\tthis.context.msBackingStorePixelRatio ||\n",
       "\tthis.context.oBackingStorePixelRatio ||\n",
       "\tthis.context.backingStorePixelRatio || 1;\n",
       "\n",
       "    mpl.ratio = (window.devicePixelRatio || 1) / backingStore;\n",
       "\n",
       "    var rubberband = $('<canvas/>');\n",
       "    rubberband.attr('style', \"position: absolute; left: 0; top: 0; z-index: 1;\")\n",
       "\n",
       "    var pass_mouse_events = true;\n",
       "\n",
       "    canvas_div.resizable({\n",
       "        start: function(event, ui) {\n",
       "            pass_mouse_events = false;\n",
       "        },\n",
       "        resize: function(event, ui) {\n",
       "            fig.request_resize(ui.size.width, ui.size.height);\n",
       "        },\n",
       "        stop: function(event, ui) {\n",
       "            pass_mouse_events = true;\n",
       "            fig.request_resize(ui.size.width, ui.size.height);\n",
       "        },\n",
       "    });\n",
       "\n",
       "    function mouse_event_fn(event) {\n",
       "        if (pass_mouse_events)\n",
       "            return fig.mouse_event(event, event['data']);\n",
       "    }\n",
       "\n",
       "    rubberband.mousedown('button_press', mouse_event_fn);\n",
       "    rubberband.mouseup('button_release', mouse_event_fn);\n",
       "    // Throttle sequential mouse events to 1 every 20ms.\n",
       "    rubberband.mousemove('motion_notify', mouse_event_fn);\n",
       "\n",
       "    rubberband.mouseenter('figure_enter', mouse_event_fn);\n",
       "    rubberband.mouseleave('figure_leave', mouse_event_fn);\n",
       "\n",
       "    canvas_div.on(\"wheel\", function (event) {\n",
       "        event = event.originalEvent;\n",
       "        event['data'] = 'scroll'\n",
       "        if (event.deltaY < 0) {\n",
       "            event.step = 1;\n",
       "        } else {\n",
       "            event.step = -1;\n",
       "        }\n",
       "        mouse_event_fn(event);\n",
       "    });\n",
       "\n",
       "    canvas_div.append(canvas);\n",
       "    canvas_div.append(rubberband);\n",
       "\n",
       "    this.rubberband = rubberband;\n",
       "    this.rubberband_canvas = rubberband[0];\n",
       "    this.rubberband_context = rubberband[0].getContext(\"2d\");\n",
       "    this.rubberband_context.strokeStyle = \"#000000\";\n",
       "\n",
       "    this._resize_canvas = function(width, height) {\n",
       "        // Keep the size of the canvas, canvas container, and rubber band\n",
       "        // canvas in synch.\n",
       "        canvas_div.css('width', width)\n",
       "        canvas_div.css('height', height)\n",
       "\n",
       "        canvas.attr('width', width * mpl.ratio);\n",
       "        canvas.attr('height', height * mpl.ratio);\n",
       "        canvas.attr('style', 'width: ' + width + 'px; height: ' + height + 'px;');\n",
       "\n",
       "        rubberband.attr('width', width);\n",
       "        rubberband.attr('height', height);\n",
       "    }\n",
       "\n",
       "    // Set the figure to an initial 600x600px, this will subsequently be updated\n",
       "    // upon first draw.\n",
       "    this._resize_canvas(600, 600);\n",
       "\n",
       "    // Disable right mouse context menu.\n",
       "    $(this.rubberband_canvas).bind(\"contextmenu\",function(e){\n",
       "        return false;\n",
       "    });\n",
       "\n",
       "    function set_focus () {\n",
       "        canvas.focus();\n",
       "        canvas_div.focus();\n",
       "    }\n",
       "\n",
       "    window.setTimeout(set_focus, 100);\n",
       "}\n",
       "\n",
       "mpl.figure.prototype._init_toolbar = function() {\n",
       "    var fig = this;\n",
       "\n",
       "    var nav_element = $('<div/>');\n",
       "    nav_element.attr('style', 'width: 100%');\n",
       "    this.root.append(nav_element);\n",
       "\n",
       "    // Define a callback function for later on.\n",
       "    function toolbar_event(event) {\n",
       "        return fig.toolbar_button_onclick(event['data']);\n",
       "    }\n",
       "    function toolbar_mouse_event(event) {\n",
       "        return fig.toolbar_button_onmouseover(event['data']);\n",
       "    }\n",
       "\n",
       "    for(var toolbar_ind in mpl.toolbar_items) {\n",
       "        var name = mpl.toolbar_items[toolbar_ind][0];\n",
       "        var tooltip = mpl.toolbar_items[toolbar_ind][1];\n",
       "        var image = mpl.toolbar_items[toolbar_ind][2];\n",
       "        var method_name = mpl.toolbar_items[toolbar_ind][3];\n",
       "\n",
       "        if (!name) {\n",
       "            // put a spacer in here.\n",
       "            continue;\n",
       "        }\n",
       "        var button = $('<button/>');\n",
       "        button.addClass('ui-button ui-widget ui-state-default ui-corner-all ' +\n",
       "                        'ui-button-icon-only');\n",
       "        button.attr('role', 'button');\n",
       "        button.attr('aria-disabled', 'false');\n",
       "        button.click(method_name, toolbar_event);\n",
       "        button.mouseover(tooltip, toolbar_mouse_event);\n",
       "\n",
       "        var icon_img = $('<span/>');\n",
       "        icon_img.addClass('ui-button-icon-primary ui-icon');\n",
       "        icon_img.addClass(image);\n",
       "        icon_img.addClass('ui-corner-all');\n",
       "\n",
       "        var tooltip_span = $('<span/>');\n",
       "        tooltip_span.addClass('ui-button-text');\n",
       "        tooltip_span.html(tooltip);\n",
       "\n",
       "        button.append(icon_img);\n",
       "        button.append(tooltip_span);\n",
       "\n",
       "        nav_element.append(button);\n",
       "    }\n",
       "\n",
       "    var fmt_picker_span = $('<span/>');\n",
       "\n",
       "    var fmt_picker = $('<select/>');\n",
       "    fmt_picker.addClass('mpl-toolbar-option ui-widget ui-widget-content');\n",
       "    fmt_picker_span.append(fmt_picker);\n",
       "    nav_element.append(fmt_picker_span);\n",
       "    this.format_dropdown = fmt_picker[0];\n",
       "\n",
       "    for (var ind in mpl.extensions) {\n",
       "        var fmt = mpl.extensions[ind];\n",
       "        var option = $(\n",
       "            '<option/>', {selected: fmt === mpl.default_extension}).html(fmt);\n",
       "        fmt_picker.append(option);\n",
       "    }\n",
       "\n",
       "    // Add hover states to the ui-buttons\n",
       "    $( \".ui-button\" ).hover(\n",
       "        function() { $(this).addClass(\"ui-state-hover\");},\n",
       "        function() { $(this).removeClass(\"ui-state-hover\");}\n",
       "    );\n",
       "\n",
       "    var status_bar = $('<span class=\"mpl-message\"/>');\n",
       "    nav_element.append(status_bar);\n",
       "    this.message = status_bar[0];\n",
       "}\n",
       "\n",
       "mpl.figure.prototype.request_resize = function(x_pixels, y_pixels) {\n",
       "    // Request matplotlib to resize the figure. Matplotlib will then trigger a resize in the client,\n",
       "    // which will in turn request a refresh of the image.\n",
       "    this.send_message('resize', {'width': x_pixels, 'height': y_pixels});\n",
       "}\n",
       "\n",
       "mpl.figure.prototype.send_message = function(type, properties) {\n",
       "    properties['type'] = type;\n",
       "    properties['figure_id'] = this.id;\n",
       "    this.ws.send(JSON.stringify(properties));\n",
       "}\n",
       "\n",
       "mpl.figure.prototype.send_draw_message = function() {\n",
       "    if (!this.waiting) {\n",
       "        this.waiting = true;\n",
       "        this.ws.send(JSON.stringify({type: \"draw\", figure_id: this.id}));\n",
       "    }\n",
       "}\n",
       "\n",
       "\n",
       "mpl.figure.prototype.handle_save = function(fig, msg) {\n",
       "    var format_dropdown = fig.format_dropdown;\n",
       "    var format = format_dropdown.options[format_dropdown.selectedIndex].value;\n",
       "    fig.ondownload(fig, format);\n",
       "}\n",
       "\n",
       "\n",
       "mpl.figure.prototype.handle_resize = function(fig, msg) {\n",
       "    var size = msg['size'];\n",
       "    if (size[0] != fig.canvas.width || size[1] != fig.canvas.height) {\n",
       "        fig._resize_canvas(size[0], size[1]);\n",
       "        fig.send_message(\"refresh\", {});\n",
       "    };\n",
       "}\n",
       "\n",
       "mpl.figure.prototype.handle_rubberband = function(fig, msg) {\n",
       "    var x0 = msg['x0'] / mpl.ratio;\n",
       "    var y0 = (fig.canvas.height - msg['y0']) / mpl.ratio;\n",
       "    var x1 = msg['x1'] / mpl.ratio;\n",
       "    var y1 = (fig.canvas.height - msg['y1']) / mpl.ratio;\n",
       "    x0 = Math.floor(x0) + 0.5;\n",
       "    y0 = Math.floor(y0) + 0.5;\n",
       "    x1 = Math.floor(x1) + 0.5;\n",
       "    y1 = Math.floor(y1) + 0.5;\n",
       "    var min_x = Math.min(x0, x1);\n",
       "    var min_y = Math.min(y0, y1);\n",
       "    var width = Math.abs(x1 - x0);\n",
       "    var height = Math.abs(y1 - y0);\n",
       "\n",
       "    fig.rubberband_context.clearRect(\n",
       "        0, 0, fig.canvas.width / mpl.ratio, fig.canvas.height / mpl.ratio);\n",
       "\n",
       "    fig.rubberband_context.strokeRect(min_x, min_y, width, height);\n",
       "}\n",
       "\n",
       "mpl.figure.prototype.handle_figure_label = function(fig, msg) {\n",
       "    // Updates the figure title.\n",
       "    fig.header.textContent = msg['label'];\n",
       "}\n",
       "\n",
       "mpl.figure.prototype.handle_cursor = function(fig, msg) {\n",
       "    var cursor = msg['cursor'];\n",
       "    switch(cursor)\n",
       "    {\n",
       "    case 0:\n",
       "        cursor = 'pointer';\n",
       "        break;\n",
       "    case 1:\n",
       "        cursor = 'default';\n",
       "        break;\n",
       "    case 2:\n",
       "        cursor = 'crosshair';\n",
       "        break;\n",
       "    case 3:\n",
       "        cursor = 'move';\n",
       "        break;\n",
       "    }\n",
       "    fig.rubberband_canvas.style.cursor = cursor;\n",
       "}\n",
       "\n",
       "mpl.figure.prototype.handle_message = function(fig, msg) {\n",
       "    fig.message.textContent = msg['message'];\n",
       "}\n",
       "\n",
       "mpl.figure.prototype.handle_draw = function(fig, msg) {\n",
       "    // Request the server to send over a new figure.\n",
       "    fig.send_draw_message();\n",
       "}\n",
       "\n",
       "mpl.figure.prototype.handle_image_mode = function(fig, msg) {\n",
       "    fig.image_mode = msg['mode'];\n",
       "}\n",
       "\n",
       "mpl.figure.prototype.updated_canvas_event = function() {\n",
       "    // Called whenever the canvas gets updated.\n",
       "    this.send_message(\"ack\", {});\n",
       "}\n",
       "\n",
       "// A function to construct a web socket function for onmessage handling.\n",
       "// Called in the figure constructor.\n",
       "mpl.figure.prototype._make_on_message_function = function(fig) {\n",
       "    return function socket_on_message(evt) {\n",
       "        if (evt.data instanceof Blob) {\n",
       "            /* FIXME: We get \"Resource interpreted as Image but\n",
       "             * transferred with MIME type text/plain:\" errors on\n",
       "             * Chrome.  But how to set the MIME type?  It doesn't seem\n",
       "             * to be part of the websocket stream */\n",
       "            evt.data.type = \"image/png\";\n",
       "\n",
       "            /* Free the memory for the previous frames */\n",
       "            if (fig.imageObj.src) {\n",
       "                (window.URL || window.webkitURL).revokeObjectURL(\n",
       "                    fig.imageObj.src);\n",
       "            }\n",
       "\n",
       "            fig.imageObj.src = (window.URL || window.webkitURL).createObjectURL(\n",
       "                evt.data);\n",
       "            fig.updated_canvas_event();\n",
       "            fig.waiting = false;\n",
       "            return;\n",
       "        }\n",
       "        else if (typeof evt.data === 'string' && evt.data.slice(0, 21) == \"data:image/png;base64\") {\n",
       "            fig.imageObj.src = evt.data;\n",
       "            fig.updated_canvas_event();\n",
       "            fig.waiting = false;\n",
       "            return;\n",
       "        }\n",
       "\n",
       "        var msg = JSON.parse(evt.data);\n",
       "        var msg_type = msg['type'];\n",
       "\n",
       "        // Call the  \"handle_{type}\" callback, which takes\n",
       "        // the figure and JSON message as its only arguments.\n",
       "        try {\n",
       "            var callback = fig[\"handle_\" + msg_type];\n",
       "        } catch (e) {\n",
       "            console.log(\"No handler for the '\" + msg_type + \"' message type: \", msg);\n",
       "            return;\n",
       "        }\n",
       "\n",
       "        if (callback) {\n",
       "            try {\n",
       "                // console.log(\"Handling '\" + msg_type + \"' message: \", msg);\n",
       "                callback(fig, msg);\n",
       "            } catch (e) {\n",
       "                console.log(\"Exception inside the 'handler_\" + msg_type + \"' callback:\", e, e.stack, msg);\n",
       "            }\n",
       "        }\n",
       "    };\n",
       "}\n",
       "\n",
       "// from http://stackoverflow.com/questions/1114465/getting-mouse-location-in-canvas\n",
       "mpl.findpos = function(e) {\n",
       "    //this section is from http://www.quirksmode.org/js/events_properties.html\n",
       "    var targ;\n",
       "    if (!e)\n",
       "        e = window.event;\n",
       "    if (e.target)\n",
       "        targ = e.target;\n",
       "    else if (e.srcElement)\n",
       "        targ = e.srcElement;\n",
       "    if (targ.nodeType == 3) // defeat Safari bug\n",
       "        targ = targ.parentNode;\n",
       "\n",
       "    // jQuery normalizes the pageX and pageY\n",
       "    // pageX,Y are the mouse positions relative to the document\n",
       "    // offset() returns the position of the element relative to the document\n",
       "    var x = e.pageX - $(targ).offset().left;\n",
       "    var y = e.pageY - $(targ).offset().top;\n",
       "\n",
       "    return {\"x\": x, \"y\": y};\n",
       "};\n",
       "\n",
       "/*\n",
       " * return a copy of an object with only non-object keys\n",
       " * we need this to avoid circular references\n",
       " * http://stackoverflow.com/a/24161582/3208463\n",
       " */\n",
       "function simpleKeys (original) {\n",
       "  return Object.keys(original).reduce(function (obj, key) {\n",
       "    if (typeof original[key] !== 'object')\n",
       "        obj[key] = original[key]\n",
       "    return obj;\n",
       "  }, {});\n",
       "}\n",
       "\n",
       "mpl.figure.prototype.mouse_event = function(event, name) {\n",
       "    var canvas_pos = mpl.findpos(event)\n",
       "\n",
       "    if (name === 'button_press')\n",
       "    {\n",
       "        this.canvas.focus();\n",
       "        this.canvas_div.focus();\n",
       "    }\n",
       "\n",
       "    var x = canvas_pos.x * mpl.ratio;\n",
       "    var y = canvas_pos.y * mpl.ratio;\n",
       "\n",
       "    this.send_message(name, {x: x, y: y, button: event.button,\n",
       "                             step: event.step,\n",
       "                             guiEvent: simpleKeys(event)});\n",
       "\n",
       "    /* This prevents the web browser from automatically changing to\n",
       "     * the text insertion cursor when the button is pressed.  We want\n",
       "     * to control all of the cursor setting manually through the\n",
       "     * 'cursor' event from matplotlib */\n",
       "    event.preventDefault();\n",
       "    return false;\n",
       "}\n",
       "\n",
       "mpl.figure.prototype._key_event_extra = function(event, name) {\n",
       "    // Handle any extra behaviour associated with a key event\n",
       "}\n",
       "\n",
       "mpl.figure.prototype.key_event = function(event, name) {\n",
       "\n",
       "    // Prevent repeat events\n",
       "    if (name == 'key_press')\n",
       "    {\n",
       "        if (event.which === this._key)\n",
       "            return;\n",
       "        else\n",
       "            this._key = event.which;\n",
       "    }\n",
       "    if (name == 'key_release')\n",
       "        this._key = null;\n",
       "\n",
       "    var value = '';\n",
       "    if (event.ctrlKey && event.which != 17)\n",
       "        value += \"ctrl+\";\n",
       "    if (event.altKey && event.which != 18)\n",
       "        value += \"alt+\";\n",
       "    if (event.shiftKey && event.which != 16)\n",
       "        value += \"shift+\";\n",
       "\n",
       "    value += 'k';\n",
       "    value += event.which.toString();\n",
       "\n",
       "    this._key_event_extra(event, name);\n",
       "\n",
       "    this.send_message(name, {key: value,\n",
       "                             guiEvent: simpleKeys(event)});\n",
       "    return false;\n",
       "}\n",
       "\n",
       "mpl.figure.prototype.toolbar_button_onclick = function(name) {\n",
       "    if (name == 'download') {\n",
       "        this.handle_save(this, null);\n",
       "    } else {\n",
       "        this.send_message(\"toolbar_button\", {name: name});\n",
       "    }\n",
       "};\n",
       "\n",
       "mpl.figure.prototype.toolbar_button_onmouseover = function(tooltip) {\n",
       "    this.message.textContent = tooltip;\n",
       "};\n",
       "mpl.toolbar_items = [[\"Home\", \"Reset original view\", \"fa fa-home icon-home\", \"home\"], [\"Back\", \"Back to previous view\", \"fa fa-arrow-left icon-arrow-left\", \"back\"], [\"Forward\", \"Forward to next view\", \"fa fa-arrow-right icon-arrow-right\", \"forward\"], [\"\", \"\", \"\", \"\"], [\"Pan\", \"Pan axes with left mouse, zoom with right\", \"fa fa-arrows icon-move\", \"pan\"], [\"Zoom\", \"Zoom to rectangle\", \"fa fa-square-o icon-check-empty\", \"zoom\"], [\"\", \"\", \"\", \"\"], [\"Download\", \"Download plot\", \"fa fa-floppy-o icon-save\", \"download\"]];\n",
       "\n",
       "mpl.extensions = [\"eps\", \"jpeg\", \"pdf\", \"png\", \"ps\", \"raw\", \"svg\", \"tif\"];\n",
       "\n",
       "mpl.default_extension = \"png\";var comm_websocket_adapter = function(comm) {\n",
       "    // Create a \"websocket\"-like object which calls the given IPython comm\n",
       "    // object with the appropriate methods. Currently this is a non binary\n",
       "    // socket, so there is still some room for performance tuning.\n",
       "    var ws = {};\n",
       "\n",
       "    ws.close = function() {\n",
       "        comm.close()\n",
       "    };\n",
       "    ws.send = function(m) {\n",
       "        //console.log('sending', m);\n",
       "        comm.send(m);\n",
       "    };\n",
       "    // Register the callback with on_msg.\n",
       "    comm.on_msg(function(msg) {\n",
       "        //console.log('receiving', msg['content']['data'], msg);\n",
       "        // Pass the mpl event to the overridden (by mpl) onmessage function.\n",
       "        ws.onmessage(msg['content']['data'])\n",
       "    });\n",
       "    return ws;\n",
       "}\n",
       "\n",
       "mpl.mpl_figure_comm = function(comm, msg) {\n",
       "    // This is the function which gets called when the mpl process\n",
       "    // starts-up an IPython Comm through the \"matplotlib\" channel.\n",
       "\n",
       "    var id = msg.content.data.id;\n",
       "    // Get hold of the div created by the display call when the Comm\n",
       "    // socket was opened in Python.\n",
       "    var element = $(\"#\" + id);\n",
       "    var ws_proxy = comm_websocket_adapter(comm)\n",
       "\n",
       "    function ondownload(figure, format) {\n",
       "        window.open(figure.imageObj.src);\n",
       "    }\n",
       "\n",
       "    var fig = new mpl.figure(id, ws_proxy,\n",
       "                           ondownload,\n",
       "                           element.get(0));\n",
       "\n",
       "    // Call onopen now - mpl needs it, as it is assuming we've passed it a real\n",
       "    // web socket which is closed, not our websocket->open comm proxy.\n",
       "    ws_proxy.onopen();\n",
       "\n",
       "    fig.parent_element = element.get(0);\n",
       "    fig.cell_info = mpl.find_output_cell(\"<div id='\" + id + \"'></div>\");\n",
       "    if (!fig.cell_info) {\n",
       "        console.error(\"Failed to find cell for figure\", id, fig);\n",
       "        return;\n",
       "    }\n",
       "\n",
       "    var output_index = fig.cell_info[2]\n",
       "    var cell = fig.cell_info[0];\n",
       "\n",
       "};\n",
       "\n",
       "mpl.figure.prototype.handle_close = function(fig, msg) {\n",
       "    var width = fig.canvas.width/mpl.ratio\n",
       "    fig.root.unbind('remove')\n",
       "\n",
       "    // Update the output cell to use the data from the current canvas.\n",
       "    fig.push_to_output();\n",
       "    var dataURL = fig.canvas.toDataURL();\n",
       "    // Re-enable the keyboard manager in IPython - without this line, in FF,\n",
       "    // the notebook keyboard shortcuts fail.\n",
       "    IPython.keyboard_manager.enable()\n",
       "    $(fig.parent_element).html('<img src=\"' + dataURL + '\" width=\"' + width + '\">');\n",
       "    fig.close_ws(fig, msg);\n",
       "}\n",
       "\n",
       "mpl.figure.prototype.close_ws = function(fig, msg){\n",
       "    fig.send_message('closing', msg);\n",
       "    // fig.ws.close()\n",
       "}\n",
       "\n",
       "mpl.figure.prototype.push_to_output = function(remove_interactive) {\n",
       "    // Turn the data on the canvas into data in the output cell.\n",
       "    var width = this.canvas.width/mpl.ratio\n",
       "    var dataURL = this.canvas.toDataURL();\n",
       "    this.cell_info[1]['text/html'] = '<img src=\"' + dataURL + '\" width=\"' + width + '\">';\n",
       "}\n",
       "\n",
       "mpl.figure.prototype.updated_canvas_event = function() {\n",
       "    // Tell IPython that the notebook contents must change.\n",
       "    IPython.notebook.set_dirty(true);\n",
       "    this.send_message(\"ack\", {});\n",
       "    var fig = this;\n",
       "    // Wait a second, then push the new image to the DOM so\n",
       "    // that it is saved nicely (might be nice to debounce this).\n",
       "    setTimeout(function () { fig.push_to_output() }, 1000);\n",
       "}\n",
       "\n",
       "mpl.figure.prototype._init_toolbar = function() {\n",
       "    var fig = this;\n",
       "\n",
       "    var nav_element = $('<div/>');\n",
       "    nav_element.attr('style', 'width: 100%');\n",
       "    this.root.append(nav_element);\n",
       "\n",
       "    // Define a callback function for later on.\n",
       "    function toolbar_event(event) {\n",
       "        return fig.toolbar_button_onclick(event['data']);\n",
       "    }\n",
       "    function toolbar_mouse_event(event) {\n",
       "        return fig.toolbar_button_onmouseover(event['data']);\n",
       "    }\n",
       "\n",
       "    for(var toolbar_ind in mpl.toolbar_items){\n",
       "        var name = mpl.toolbar_items[toolbar_ind][0];\n",
       "        var tooltip = mpl.toolbar_items[toolbar_ind][1];\n",
       "        var image = mpl.toolbar_items[toolbar_ind][2];\n",
       "        var method_name = mpl.toolbar_items[toolbar_ind][3];\n",
       "\n",
       "        if (!name) { continue; };\n",
       "\n",
       "        var button = $('<button class=\"btn btn-default\" href=\"#\" title=\"' + name + '\"><i class=\"fa ' + image + ' fa-lg\"></i></button>');\n",
       "        button.click(method_name, toolbar_event);\n",
       "        button.mouseover(tooltip, toolbar_mouse_event);\n",
       "        nav_element.append(button);\n",
       "    }\n",
       "\n",
       "    // Add the status bar.\n",
       "    var status_bar = $('<span class=\"mpl-message\" style=\"text-align:right; float: right;\"/>');\n",
       "    nav_element.append(status_bar);\n",
       "    this.message = status_bar[0];\n",
       "\n",
       "    // Add the close button to the window.\n",
       "    var buttongrp = $('<div class=\"btn-group inline pull-right\"></div>');\n",
       "    var button = $('<button class=\"btn btn-mini btn-primary\" href=\"#\" title=\"Stop Interaction\"><i class=\"fa fa-power-off icon-remove icon-large\"></i></button>');\n",
       "    button.click(function (evt) { fig.handle_close(fig, {}); } );\n",
       "    button.mouseover('Stop Interaction', toolbar_mouse_event);\n",
       "    buttongrp.append(button);\n",
       "    var titlebar = this.root.find($('.ui-dialog-titlebar'));\n",
       "    titlebar.prepend(buttongrp);\n",
       "}\n",
       "\n",
       "mpl.figure.prototype._root_extra_style = function(el){\n",
       "    var fig = this\n",
       "    el.on(\"remove\", function(){\n",
       "\tfig.close_ws(fig, {});\n",
       "    });\n",
       "}\n",
       "\n",
       "mpl.figure.prototype._canvas_extra_style = function(el){\n",
       "    // this is important to make the div 'focusable\n",
       "    el.attr('tabindex', 0)\n",
       "    // reach out to IPython and tell the keyboard manager to turn it's self\n",
       "    // off when our div gets focus\n",
       "\n",
       "    // location in version 3\n",
       "    if (IPython.notebook.keyboard_manager) {\n",
       "        IPython.notebook.keyboard_manager.register_events(el);\n",
       "    }\n",
       "    else {\n",
       "        // location in version 2\n",
       "        IPython.keyboard_manager.register_events(el);\n",
       "    }\n",
       "\n",
       "}\n",
       "\n",
       "mpl.figure.prototype._key_event_extra = function(event, name) {\n",
       "    var manager = IPython.notebook.keyboard_manager;\n",
       "    if (!manager)\n",
       "        manager = IPython.keyboard_manager;\n",
       "\n",
       "    // Check for shift+enter\n",
       "    if (event.shiftKey && event.which == 13) {\n",
       "        this.canvas_div.blur();\n",
       "        // select the cell after this one\n",
       "        var index = IPython.notebook.find_cell_index(this.cell_info[0]);\n",
       "        IPython.notebook.select(index + 1);\n",
       "    }\n",
       "}\n",
       "\n",
       "mpl.figure.prototype.handle_save = function(fig, msg) {\n",
       "    fig.ondownload(fig, null);\n",
       "}\n",
       "\n",
       "\n",
       "mpl.find_output_cell = function(html_output) {\n",
       "    // Return the cell and output element which can be found *uniquely* in the notebook.\n",
       "    // Note - this is a bit hacky, but it is done because the \"notebook_saving.Notebook\"\n",
       "    // IPython event is triggered only after the cells have been serialised, which for\n",
       "    // our purposes (turning an active figure into a static one), is too late.\n",
       "    var cells = IPython.notebook.get_cells();\n",
       "    var ncells = cells.length;\n",
       "    for (var i=0; i<ncells; i++) {\n",
       "        var cell = cells[i];\n",
       "        if (cell.cell_type === 'code'){\n",
       "            for (var j=0; j<cell.output_area.outputs.length; j++) {\n",
       "                var data = cell.output_area.outputs[j];\n",
       "                if (data.data) {\n",
       "                    // IPython >= 3 moved mimebundle to data attribute of output\n",
       "                    data = data.data;\n",
       "                }\n",
       "                if (data['text/html'] == html_output) {\n",
       "                    return [cell, data, j];\n",
       "                }\n",
       "            }\n",
       "        }\n",
       "    }\n",
       "}\n",
       "\n",
       "// Register the function which deals with the matplotlib target/channel.\n",
       "// The kernel may be null if the page has been refreshed.\n",
       "if (IPython.notebook.kernel != null) {\n",
       "    IPython.notebook.kernel.comm_manager.register_target('matplotlib', mpl.mpl_figure_comm);\n",
       "}\n"
      ],
      "text/plain": [
       "<IPython.core.display.Javascript object>"
      ]
     },
     "metadata": {},
     "output_type": "display_data"
    },
    {
     "data": {
      "text/html": [
       "<img src=\"data:image/png;base64,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\" width=\"1000\">"
      ],
      "text/plain": [
       "<IPython.core.display.HTML object>"
      ]
     },
     "metadata": {},
     "output_type": "display_data"
    }
   ],
   "source": [
    "ax, tax, lax, lines = dual_train_plots()\n",
    "fig = ax.figure\n",
    "plt.tight_layout()\n",
    "# This gets built up during the run - do not rerun this cell\n",
    "results = pd.DataFrame([], columns=Results._fields)"
   ]
  },
  {
   "cell_type": "code",
   "execution_count": 12,
   "metadata": {
    "scrolled": true
   },
   "outputs": [
    {
     "name": "stdout",
     "output_type": "stream",
     "text": [
      "for model:  SimpleCNN5Layer_Ca_B(\n",
      "  (conv1): Conv1d(1, 16, kernel_size=(25,), stride=(1,), padding=(12,))\n",
      "  (conv2): Conv1d(16, 9, kernel_size=(15,), stride=(1,), padding=(7,))\n",
      "  (conv3): Conv1d(9, 9, kernel_size=(15,), stride=(1,), padding=(7,))\n",
      "  (conv4): Conv1d(9, 9, kernel_size=(15,), stride=(1,), padding=(7,))\n",
      "  (conv5): Conv1d(9, 1, kernel_size=(5,), stride=(1,), padding=(2,))\n",
      "  (conv1dropout): Dropout(p=0.15, inplace=False)\n",
      "  (conv2dropout): Dropout(p=0.15, inplace=False)\n",
      "  (conv3dropout): Dropout(p=0.15, inplace=False)\n",
      "  (conv4dropout): Dropout(p=0.15, inplace=False)\n",
      "  (conv5dropout): Dropout(p=0.35, inplace=False)\n",
      "  (fc1): Linear(in_features=4000, out_features=4000, bias=True)\n",
      ")\n",
      "epoch_start 19\n",
      "batch_size 128\n",
      "epochs 100\n",
      "lr 0.001\n",
      "Number of batches: train = 2500, val = 78\n"
     ]
    },
    {
     "name": "stderr",
     "output_type": "stream",
     "text": [
      "/home/michael24peters/pv-finder_experimental/notebooks/model/training.py:95: TqdmDeprecationWarning: This function will be removed in tqdm==5.0.0\n",
      "Please use `tqdm.notebook.tqdm` instead of `tqdm.tqdm_notebook`\n",
      "  file=sys.stderr,\n"
     ]
    },
    {
     "data": {
      "application/vnd.jupyter.widget-view+json": {
       "model_id": "88872989e21a44508f9f9034d6fec339",
       "version_major": 2,
       "version_minor": 0
      },
      "text/plain": [
       "HBox(children=(FloatProgress(value=0.0, description='Epochs', layout=Layout(flex='2'), style=ProgressStyle(des…"
      ]
     },
     "metadata": {},
     "output_type": "display_data"
    },
    {
     "data": {
      "application/vnd.jupyter.widget-view+json": {
       "model_id": "",
       "version_major": 2,
       "version_minor": 0
      },
      "text/plain": [
       "HBox(children=(FloatProgress(value=0.0, description='Training', layout=Layout(flex='2'), max=2500.0, style=Pro…"
      ]
     },
     "metadata": {},
     "output_type": "display_data"
    },
    {
     "name": "stdout",
     "output_type": "stream",
     "text": [
      "Epoch 19: train=24.1789, val=23.4292, took 61.684 s\n",
      "  Validation Found 29960 of 54504, added 718 (eff 54.97%) (0.0719 FP/event)\n"
     ]
    },
    {
     "data": {
      "application/vnd.jupyter.widget-view+json": {
       "model_id": "",
       "version_major": 2,
       "version_minor": 0
      },
      "text/plain": [
       "HBox(children=(FloatProgress(value=0.0, description='Training', layout=Layout(flex='2'), max=2500.0, style=Pro…"
      ]
     },
     "metadata": {},
     "output_type": "display_data"
    },
    {
     "name": "stdout",
     "output_type": "stream",
     "text": [
      "Epoch 20: train=23.3601, val=23.02, took 60.851 s\n",
      "  Validation Found 30304 of 54504, added 830 (eff 55.60%) (0.0831 FP/event)\n"
     ]
    },
    {
     "data": {
      "application/vnd.jupyter.widget-view+json": {
       "model_id": "",
       "version_major": 2,
       "version_minor": 0
      },
      "text/plain": [
       "HBox(children=(FloatProgress(value=0.0, description='Training', layout=Layout(flex='2'), max=2500.0, style=Pro…"
      ]
     },
     "metadata": {},
     "output_type": "display_data"
    },
    {
     "name": "stdout",
     "output_type": "stream",
     "text": [
      "Epoch 21: train=22.9558, val=22.7572, took 61.225 s\n",
      "  Validation Found 30839 of 54504, added 707 (eff 56.58%) (0.0708 FP/event)\n"
     ]
    },
    {
     "data": {
      "application/vnd.jupyter.widget-view+json": {
       "model_id": "",
       "version_major": 2,
       "version_minor": 0
      },
      "text/plain": [
       "HBox(children=(FloatProgress(value=0.0, description='Training', layout=Layout(flex='2'), max=2500.0, style=Pro…"
      ]
     },
     "metadata": {},
     "output_type": "display_data"
    },
    {
     "name": "stdout",
     "output_type": "stream",
     "text": [
      "Epoch 22: train=22.7112, val=22.4862, took 62.351 s\n",
      "  Validation Found 31185 of 54504, added 1106 (eff 57.22%) (0.111 FP/event)\n"
     ]
    },
    {
     "data": {
      "application/vnd.jupyter.widget-view+json": {
       "model_id": "",
       "version_major": 2,
       "version_minor": 0
      },
      "text/plain": [
       "HBox(children=(FloatProgress(value=0.0, description='Training', layout=Layout(flex='2'), max=2500.0, style=Pro…"
      ]
     },
     "metadata": {},
     "output_type": "display_data"
    },
    {
     "name": "stdout",
     "output_type": "stream",
     "text": [
      "Epoch 23: train=22.5722, val=22.4763, took 60.568 s\n",
      "  Validation Found 31070 of 54504, added 773 (eff 57.00%) (0.0774 FP/event)\n"
     ]
    },
    {
     "data": {
      "application/vnd.jupyter.widget-view+json": {
       "model_id": "",
       "version_major": 2,
       "version_minor": 0
      },
      "text/plain": [
       "HBox(children=(FloatProgress(value=0.0, description='Training', layout=Layout(flex='2'), max=2500.0, style=Pro…"
      ]
     },
     "metadata": {},
     "output_type": "display_data"
    },
    {
     "name": "stdout",
     "output_type": "stream",
     "text": [
      "Epoch 24: train=22.4086, val=22.1817, took 60.978 s\n",
      "  Validation Found 31547 of 54504, added 946 (eff 57.88%) (0.0947 FP/event)\n"
     ]
    },
    {
     "data": {
      "application/vnd.jupyter.widget-view+json": {
       "model_id": "",
       "version_major": 2,
       "version_minor": 0
      },
      "text/plain": [
       "HBox(children=(FloatProgress(value=0.0, description='Training', layout=Layout(flex='2'), max=2500.0, style=Pro…"
      ]
     },
     "metadata": {},
     "output_type": "display_data"
    },
    {
     "name": "stdout",
     "output_type": "stream",
     "text": [
      "Epoch 25: train=22.0386, val=21.4154, took 61.222 s\n",
      "  Validation Found 32112 of 54504, added 974 (eff 58.92%) (0.0975 FP/event)\n"
     ]
    },
    {
     "data": {
      "application/vnd.jupyter.widget-view+json": {
       "model_id": "",
       "version_major": 2,
       "version_minor": 0
      },
      "text/plain": [
       "HBox(children=(FloatProgress(value=0.0, description='Training', layout=Layout(flex='2'), max=2500.0, style=Pro…"
      ]
     },
     "metadata": {},
     "output_type": "display_data"
    },
    {
     "name": "stdout",
     "output_type": "stream",
     "text": [
      "Epoch 26: train=21.3637, val=20.6087, took 60.795 s\n",
      "  Validation Found 32639 of 54504, added 885 (eff 59.88%) (0.0886 FP/event)\n"
     ]
    },
    {
     "data": {
      "application/vnd.jupyter.widget-view+json": {
       "model_id": "",
       "version_major": 2,
       "version_minor": 0
      },
      "text/plain": [
       "HBox(children=(FloatProgress(value=0.0, description='Training', layout=Layout(flex='2'), max=2500.0, style=Pro…"
      ]
     },
     "metadata": {},
     "output_type": "display_data"
    },
    {
     "name": "stdout",
     "output_type": "stream",
     "text": [
      "Epoch 27: train=20.6474, val=19.876, took 60.696 s\n",
      "  Validation Found 33427 of 54504, added 784 (eff 61.33%) (0.0785 FP/event)\n"
     ]
    },
    {
     "data": {
      "application/vnd.jupyter.widget-view+json": {
       "model_id": "",
       "version_major": 2,
       "version_minor": 0
      },
      "text/plain": [
       "HBox(children=(FloatProgress(value=0.0, description='Training', layout=Layout(flex='2'), max=2500.0, style=Pro…"
      ]
     },
     "metadata": {},
     "output_type": "display_data"
    },
    {
     "name": "stdout",
     "output_type": "stream",
     "text": [
      "Epoch 28: train=19.7386, val=18.9055, took 61.173 s\n",
      "  Validation Found 35224 of 54504, added 1072 (eff 64.63%) (0.107 FP/event)\n"
     ]
    },
    {
     "data": {
      "application/vnd.jupyter.widget-view+json": {
       "model_id": "",
       "version_major": 2,
       "version_minor": 0
      },
      "text/plain": [
       "HBox(children=(FloatProgress(value=0.0, description='Training', layout=Layout(flex='2'), max=2500.0, style=Pro…"
      ]
     },
     "metadata": {},
     "output_type": "display_data"
    },
    {
     "name": "stdout",
     "output_type": "stream",
     "text": [
      "Epoch 29: train=19.1459, val=18.2553, took 61.869 s\n",
      "  Validation Found 36440 of 54504, added 1170 (eff 66.86%) (0.117 FP/event)\n"
     ]
    },
    {
     "data": {
      "application/vnd.jupyter.widget-view+json": {
       "model_id": "",
       "version_major": 2,
       "version_minor": 0
      },
      "text/plain": [
       "HBox(children=(FloatProgress(value=0.0, description='Training', layout=Layout(flex='2'), max=2500.0, style=Pro…"
      ]
     },
     "metadata": {},
     "output_type": "display_data"
    },
    {
     "name": "stdout",
     "output_type": "stream",
     "text": [
      "Epoch 30: train=18.438, val=17.4001, took 61.207 s\n",
      "  Validation Found 37567 of 54504, added 1008 (eff 68.93%) (0.101 FP/event)\n"
     ]
    },
    {
     "data": {
      "application/vnd.jupyter.widget-view+json": {
       "model_id": "",
       "version_major": 2,
       "version_minor": 0
      },
      "text/plain": [
       "HBox(children=(FloatProgress(value=0.0, description='Training', layout=Layout(flex='2'), max=2500.0, style=Pro…"
      ]
     },
     "metadata": {},
     "output_type": "display_data"
    },
    {
     "name": "stdout",
     "output_type": "stream",
     "text": [
      "Epoch 31: train=17.6258, val=16.7438, took 61.794 s\n",
      "  Validation Found 39449 of 54504, added 1249 (eff 72.38%) (0.125 FP/event)\n"
     ]
    },
    {
     "data": {
      "application/vnd.jupyter.widget-view+json": {
       "model_id": "",
       "version_major": 2,
       "version_minor": 0
      },
      "text/plain": [
       "HBox(children=(FloatProgress(value=0.0, description='Training', layout=Layout(flex='2'), max=2500.0, style=Pro…"
      ]
     },
     "metadata": {},
     "output_type": "display_data"
    },
    {
     "name": "stdout",
     "output_type": "stream",
     "text": [
      "Epoch 32: train=17.0275, val=16.0117, took 59.951 s\n",
      "  Validation Found 40171 of 54504, added 1122 (eff 73.70%) (0.112 FP/event)\n"
     ]
    },
    {
     "data": {
      "application/vnd.jupyter.widget-view+json": {
       "model_id": "",
       "version_major": 2,
       "version_minor": 0
      },
      "text/plain": [
       "HBox(children=(FloatProgress(value=0.0, description='Training', layout=Layout(flex='2'), max=2500.0, style=Pro…"
      ]
     },
     "metadata": {},
     "output_type": "display_data"
    },
    {
     "name": "stdout",
     "output_type": "stream",
     "text": [
      "Epoch 33: train=16.4587, val=15.4425, took 60.875 s\n",
      "  Validation Found 40855 of 54504, added 1247 (eff 74.96%) (0.125 FP/event)\n"
     ]
    },
    {
     "data": {
      "application/vnd.jupyter.widget-view+json": {
       "model_id": "",
       "version_major": 2,
       "version_minor": 0
      },
      "text/plain": [
       "HBox(children=(FloatProgress(value=0.0, description='Training', layout=Layout(flex='2'), max=2500.0, style=Pro…"
      ]
     },
     "metadata": {},
     "output_type": "display_data"
    },
    {
     "name": "stdout",
     "output_type": "stream",
     "text": [
      "Epoch 34: train=16.0049, val=15.0292, took 59.886 s\n",
      "  Validation Found 41804 of 54504, added 1444 (eff 76.70%) (0.145 FP/event)\n"
     ]
    },
    {
     "data": {
      "application/vnd.jupyter.widget-view+json": {
       "model_id": "",
       "version_major": 2,
       "version_minor": 0
      },
      "text/plain": [
       "HBox(children=(FloatProgress(value=0.0, description='Training', layout=Layout(flex='2'), max=2500.0, style=Pro…"
      ]
     },
     "metadata": {},
     "output_type": "display_data"
    },
    {
     "name": "stdout",
     "output_type": "stream",
     "text": [
      "Epoch 35: train=15.5527, val=14.4876, took 60.953 s\n",
      "  Validation Found 42710 of 54504, added 1446 (eff 78.36%) (0.145 FP/event)\n"
     ]
    },
    {
     "data": {
      "application/vnd.jupyter.widget-view+json": {
       "model_id": "",
       "version_major": 2,
       "version_minor": 0
      },
      "text/plain": [
       "HBox(children=(FloatProgress(value=0.0, description='Training', layout=Layout(flex='2'), max=2500.0, style=Pro…"
      ]
     },
     "metadata": {},
     "output_type": "display_data"
    },
    {
     "name": "stdout",
     "output_type": "stream",
     "text": [
      "Epoch 36: train=15.1961, val=14.1407, took 60.348 s\n",
      "  Validation Found 43088 of 54504, added 1195 (eff 79.05%) (0.12 FP/event)\n"
     ]
    },
    {
     "data": {
      "application/vnd.jupyter.widget-view+json": {
       "model_id": "",
       "version_major": 2,
       "version_minor": 0
      },
      "text/plain": [
       "HBox(children=(FloatProgress(value=0.0, description='Training', layout=Layout(flex='2'), max=2500.0, style=Pro…"
      ]
     },
     "metadata": {},
     "output_type": "display_data"
    },
    {
     "name": "stdout",
     "output_type": "stream",
     "text": [
      "Epoch 37: train=14.7629, val=13.6731, took 60.357 s\n",
      "  Validation Found 43755 of 54504, added 1327 (eff 80.28%) (0.133 FP/event)\n"
     ]
    },
    {
     "data": {
      "application/vnd.jupyter.widget-view+json": {
       "model_id": "",
       "version_major": 2,
       "version_minor": 0
      },
      "text/plain": [
       "HBox(children=(FloatProgress(value=0.0, description='Training', layout=Layout(flex='2'), max=2500.0, style=Pro…"
      ]
     },
     "metadata": {},
     "output_type": "display_data"
    },
    {
     "name": "stdout",
     "output_type": "stream",
     "text": [
      "Epoch 38: train=14.3505, val=13.2065, took 60.455 s\n",
      "  Validation Found 44701 of 54504, added 1376 (eff 82.01%) (0.138 FP/event)\n"
     ]
    },
    {
     "data": {
      "application/vnd.jupyter.widget-view+json": {
       "model_id": "",
       "version_major": 2,
       "version_minor": 0
      },
      "text/plain": [
       "HBox(children=(FloatProgress(value=0.0, description='Training', layout=Layout(flex='2'), max=2500.0, style=Pro…"
      ]
     },
     "metadata": {},
     "output_type": "display_data"
    },
    {
     "name": "stdout",
     "output_type": "stream",
     "text": [
      "Epoch 39: train=13.9877, val=12.9582, took 60.104 s\n",
      "  Validation Found 45192 of 54504, added 1574 (eff 82.92%) (0.158 FP/event)\n"
     ]
    },
    {
     "data": {
      "application/vnd.jupyter.widget-view+json": {
       "model_id": "",
       "version_major": 2,
       "version_minor": 0
      },
      "text/plain": [
       "HBox(children=(FloatProgress(value=0.0, description='Training', layout=Layout(flex='2'), max=2500.0, style=Pro…"
      ]
     },
     "metadata": {},
     "output_type": "display_data"
    },
    {
     "name": "stdout",
     "output_type": "stream",
     "text": [
      "Epoch 40: train=13.6811, val=12.5725, took 60.05 s\n",
      "  Validation Found 45624 of 54504, added 1631 (eff 83.71%) (0.163 FP/event)\n"
     ]
    },
    {
     "data": {
      "application/vnd.jupyter.widget-view+json": {
       "model_id": "",
       "version_major": 2,
       "version_minor": 0
      },
      "text/plain": [
       "HBox(children=(FloatProgress(value=0.0, description='Training', layout=Layout(flex='2'), max=2500.0, style=Pro…"
      ]
     },
     "metadata": {},
     "output_type": "display_data"
    },
    {
     "name": "stdout",
     "output_type": "stream",
     "text": [
      "Epoch 41: train=13.4666, val=12.3812, took 60.692 s\n",
      "  Validation Found 45922 of 54504, added 1517 (eff 84.25%) (0.152 FP/event)\n"
     ]
    },
    {
     "data": {
      "application/vnd.jupyter.widget-view+json": {
       "model_id": "",
       "version_major": 2,
       "version_minor": 0
      },
      "text/plain": [
       "HBox(children=(FloatProgress(value=0.0, description='Training', layout=Layout(flex='2'), max=2500.0, style=Pro…"
      ]
     },
     "metadata": {},
     "output_type": "display_data"
    },
    {
     "name": "stdout",
     "output_type": "stream",
     "text": [
      "Epoch 42: train=13.3183, val=12.1921, took 60.054 s\n",
      "  Validation Found 46042 of 54504, added 1395 (eff 84.47%) (0.14 FP/event)\n"
     ]
    },
    {
     "data": {
      "application/vnd.jupyter.widget-view+json": {
       "model_id": "",
       "version_major": 2,
       "version_minor": 0
      },
      "text/plain": [
       "HBox(children=(FloatProgress(value=0.0, description='Training', layout=Layout(flex='2'), max=2500.0, style=Pro…"
      ]
     },
     "metadata": {},
     "output_type": "display_data"
    },
    {
     "name": "stdout",
     "output_type": "stream",
     "text": [
      "Epoch 43: train=13.1093, val=11.9773, took 60.026 s\n",
      "  Validation Found 46254 of 54504, added 1239 (eff 84.86%) (0.124 FP/event)\n"
     ]
    },
    {
     "data": {
      "application/vnd.jupyter.widget-view+json": {
       "model_id": "",
       "version_major": 2,
       "version_minor": 0
      },
      "text/plain": [
       "HBox(children=(FloatProgress(value=0.0, description='Training', layout=Layout(flex='2'), max=2500.0, style=Pro…"
      ]
     },
     "metadata": {},
     "output_type": "display_data"
    },
    {
     "name": "stdout",
     "output_type": "stream",
     "text": [
      "Epoch 44: train=12.9062, val=11.7943, took 60.38 s\n",
      "  Validation Found 46506 of 54504, added 1192 (eff 85.33%) (0.119 FP/event)\n"
     ]
    },
    {
     "data": {
      "application/vnd.jupyter.widget-view+json": {
       "model_id": "",
       "version_major": 2,
       "version_minor": 0
      },
      "text/plain": [
       "HBox(children=(FloatProgress(value=0.0, description='Training', layout=Layout(flex='2'), max=2500.0, style=Pro…"
      ]
     },
     "metadata": {},
     "output_type": "display_data"
    },
    {
     "name": "stdout",
     "output_type": "stream",
     "text": [
      "Epoch 45: train=12.7387, val=11.6338, took 60.217 s\n",
      "  Validation Found 46818 of 54504, added 1258 (eff 85.90%) (0.126 FP/event)\n"
     ]
    },
    {
     "data": {
      "application/vnd.jupyter.widget-view+json": {
       "model_id": "",
       "version_major": 2,
       "version_minor": 0
      },
      "text/plain": [
       "HBox(children=(FloatProgress(value=0.0, description='Training', layout=Layout(flex='2'), max=2500.0, style=Pro…"
      ]
     },
     "metadata": {},
     "output_type": "display_data"
    },
    {
     "name": "stdout",
     "output_type": "stream",
     "text": [
      "Epoch 46: train=12.6141, val=11.621, took 59.765 s\n",
      "  Validation Found 47257 of 54504, added 1432 (eff 86.70%) (0.143 FP/event)\n"
     ]
    },
    {
     "data": {
      "application/vnd.jupyter.widget-view+json": {
       "model_id": "",
       "version_major": 2,
       "version_minor": 0
      },
      "text/plain": [
       "HBox(children=(FloatProgress(value=0.0, description='Training', layout=Layout(flex='2'), max=2500.0, style=Pro…"
      ]
     },
     "metadata": {},
     "output_type": "display_data"
    },
    {
     "name": "stdout",
     "output_type": "stream",
     "text": [
      "Epoch 47: train=12.5254, val=11.4313, took 59.976 s\n",
      "  Validation Found 47373 of 54504, added 1499 (eff 86.92%) (0.15 FP/event)\n"
     ]
    },
    {
     "data": {
      "application/vnd.jupyter.widget-view+json": {
       "model_id": "",
       "version_major": 2,
       "version_minor": 0
      },
      "text/plain": [
       "HBox(children=(FloatProgress(value=0.0, description='Training', layout=Layout(flex='2'), max=2500.0, style=Pro…"
      ]
     },
     "metadata": {},
     "output_type": "display_data"
    },
    {
     "name": "stdout",
     "output_type": "stream",
     "text": [
      "Epoch 48: train=12.4353, val=11.4249, took 59.748 s\n",
      "  Validation Found 47349 of 54504, added 1346 (eff 86.87%) (0.135 FP/event)\n"
     ]
    },
    {
     "data": {
      "application/vnd.jupyter.widget-view+json": {
       "model_id": "",
       "version_major": 2,
       "version_minor": 0
      },
      "text/plain": [
       "HBox(children=(FloatProgress(value=0.0, description='Training', layout=Layout(flex='2'), max=2500.0, style=Pro…"
      ]
     },
     "metadata": {},
     "output_type": "display_data"
    },
    {
     "name": "stdout",
     "output_type": "stream",
     "text": [
      "Epoch 49: train=12.3376, val=11.2473, took 59.931 s\n",
      "  Validation Found 47253 of 54504, added 1167 (eff 86.70%) (0.117 FP/event)\n"
     ]
    },
    {
     "data": {
      "application/vnd.jupyter.widget-view+json": {
       "model_id": "",
       "version_major": 2,
       "version_minor": 0
      },
      "text/plain": [
       "HBox(children=(FloatProgress(value=0.0, description='Training', layout=Layout(flex='2'), max=2500.0, style=Pro…"
      ]
     },
     "metadata": {},
     "output_type": "display_data"
    },
    {
     "name": "stdout",
     "output_type": "stream",
     "text": [
      "Epoch 50: train=12.213, val=11.1956, took 59.841 s\n",
      "  Validation Found 47986 of 54504, added 1831 (eff 88.04%) (0.183 FP/event)\n"
     ]
    },
    {
     "data": {
      "application/vnd.jupyter.widget-view+json": {
       "model_id": "",
       "version_major": 2,
       "version_minor": 0
      },
      "text/plain": [
       "HBox(children=(FloatProgress(value=0.0, description='Training', layout=Layout(flex='2'), max=2500.0, style=Pro…"
      ]
     },
     "metadata": {},
     "output_type": "display_data"
    },
    {
     "name": "stdout",
     "output_type": "stream",
     "text": [
      "Epoch 51: train=12.1112, val=11.1604, took 60.124 s\n",
      "  Validation Found 47226 of 54504, added 1037 (eff 86.65%) (0.104 FP/event)\n"
     ]
    },
    {
     "data": {
      "application/vnd.jupyter.widget-view+json": {
       "model_id": "",
       "version_major": 2,
       "version_minor": 0
      },
      "text/plain": [
       "HBox(children=(FloatProgress(value=0.0, description='Training', layout=Layout(flex='2'), max=2500.0, style=Pro…"
      ]
     },
     "metadata": {},
     "output_type": "display_data"
    },
    {
     "name": "stdout",
     "output_type": "stream",
     "text": [
      "Epoch 52: train=12.0385, val=10.8836, took 60.035 s\n",
      "  Validation Found 47828 of 54504, added 1530 (eff 87.75%) (0.153 FP/event)\n"
     ]
    },
    {
     "data": {
      "application/vnd.jupyter.widget-view+json": {
       "model_id": "",
       "version_major": 2,
       "version_minor": 0
      },
      "text/plain": [
       "HBox(children=(FloatProgress(value=0.0, description='Training', layout=Layout(flex='2'), max=2500.0, style=Pro…"
      ]
     },
     "metadata": {},
     "output_type": "display_data"
    },
    {
     "name": "stdout",
     "output_type": "stream",
     "text": [
      "Epoch 53: train=11.9881, val=10.8598, took 59.815 s\n",
      "  Validation Found 48304 of 54504, added 1812 (eff 88.62%) (0.181 FP/event)\n"
     ]
    },
    {
     "data": {
      "application/vnd.jupyter.widget-view+json": {
       "model_id": "",
       "version_major": 2,
       "version_minor": 0
      },
      "text/plain": [
       "HBox(children=(FloatProgress(value=0.0, description='Training', layout=Layout(flex='2'), max=2500.0, style=Pro…"
      ]
     },
     "metadata": {},
     "output_type": "display_data"
    },
    {
     "name": "stdout",
     "output_type": "stream",
     "text": [
      "Epoch 54: train=11.8896, val=10.815, took 59.698 s\n",
      "  Validation Found 47825 of 54504, added 1236 (eff 87.75%) (0.124 FP/event)\n"
     ]
    },
    {
     "data": {
      "application/vnd.jupyter.widget-view+json": {
       "model_id": "",
       "version_major": 2,
       "version_minor": 0
      },
      "text/plain": [
       "HBox(children=(FloatProgress(value=0.0, description='Training', layout=Layout(flex='2'), max=2500.0, style=Pro…"
      ]
     },
     "metadata": {},
     "output_type": "display_data"
    },
    {
     "name": "stdout",
     "output_type": "stream",
     "text": [
      "Epoch 55: train=11.8199, val=10.7331, took 59.754 s\n",
      "  Validation Found 48428 of 54504, added 1496 (eff 88.85%) (0.15 FP/event)\n"
     ]
    },
    {
     "data": {
      "application/vnd.jupyter.widget-view+json": {
       "model_id": "",
       "version_major": 2,
       "version_minor": 0
      },
      "text/plain": [
       "HBox(children=(FloatProgress(value=0.0, description='Training', layout=Layout(flex='2'), max=2500.0, style=Pro…"
      ]
     },
     "metadata": {},
     "output_type": "display_data"
    },
    {
     "name": "stdout",
     "output_type": "stream",
     "text": [
      "Epoch 56: train=11.7109, val=10.5151, took 60.018 s\n",
      "  Validation Found 48494 of 54504, added 1450 (eff 88.97%) (0.145 FP/event)\n"
     ]
    },
    {
     "data": {
      "application/vnd.jupyter.widget-view+json": {
       "model_id": "",
       "version_major": 2,
       "version_minor": 0
      },
      "text/plain": [
       "HBox(children=(FloatProgress(value=0.0, description='Training', layout=Layout(flex='2'), max=2500.0, style=Pro…"
      ]
     },
     "metadata": {},
     "output_type": "display_data"
    },
    {
     "name": "stdout",
     "output_type": "stream",
     "text": [
      "Epoch 57: train=11.6334, val=10.5701, took 60.066 s\n",
      "  Validation Found 48677 of 54504, added 1614 (eff 89.31%) (0.162 FP/event)\n"
     ]
    },
    {
     "data": {
      "application/vnd.jupyter.widget-view+json": {
       "model_id": "",
       "version_major": 2,
       "version_minor": 0
      },
      "text/plain": [
       "HBox(children=(FloatProgress(value=0.0, description='Training', layout=Layout(flex='2'), max=2500.0, style=Pro…"
      ]
     },
     "metadata": {},
     "output_type": "display_data"
    },
    {
     "name": "stdout",
     "output_type": "stream",
     "text": [
      "Epoch 58: train=11.5865, val=10.4943, took 59.835 s\n",
      "  Validation Found 48508 of 54504, added 1293 (eff 89.00%) (0.129 FP/event)\n"
     ]
    },
    {
     "data": {
      "application/vnd.jupyter.widget-view+json": {
       "model_id": "",
       "version_major": 2,
       "version_minor": 0
      },
      "text/plain": [
       "HBox(children=(FloatProgress(value=0.0, description='Training', layout=Layout(flex='2'), max=2500.0, style=Pro…"
      ]
     },
     "metadata": {},
     "output_type": "display_data"
    },
    {
     "name": "stdout",
     "output_type": "stream",
     "text": [
      "Epoch 59: train=11.5383, val=10.3521, took 59.665 s\n",
      "  Validation Found 48619 of 54504, added 1332 (eff 89.20%) (0.133 FP/event)\n"
     ]
    },
    {
     "data": {
      "application/vnd.jupyter.widget-view+json": {
       "model_id": "",
       "version_major": 2,
       "version_minor": 0
      },
      "text/plain": [
       "HBox(children=(FloatProgress(value=0.0, description='Training', layout=Layout(flex='2'), max=2500.0, style=Pro…"
      ]
     },
     "metadata": {},
     "output_type": "display_data"
    },
    {
     "name": "stdout",
     "output_type": "stream",
     "text": [
      "Epoch 60: train=11.4837, val=10.3739, took 59.853 s\n",
      "  Validation Found 48579 of 54504, added 1325 (eff 89.13%) (0.133 FP/event)\n"
     ]
    },
    {
     "data": {
      "application/vnd.jupyter.widget-view+json": {
       "model_id": "",
       "version_major": 2,
       "version_minor": 0
      },
      "text/plain": [
       "HBox(children=(FloatProgress(value=0.0, description='Training', layout=Layout(flex='2'), max=2500.0, style=Pro…"
      ]
     },
     "metadata": {},
     "output_type": "display_data"
    },
    {
     "name": "stdout",
     "output_type": "stream",
     "text": [
      "Epoch 61: train=11.4515, val=10.463, took 60.064 s\n",
      "  Validation Found 48625 of 54504, added 1371 (eff 89.21%) (0.137 FP/event)\n"
     ]
    },
    {
     "data": {
      "application/vnd.jupyter.widget-view+json": {
       "model_id": "",
       "version_major": 2,
       "version_minor": 0
      },
      "text/plain": [
       "HBox(children=(FloatProgress(value=0.0, description='Training', layout=Layout(flex='2'), max=2500.0, style=Pro…"
      ]
     },
     "metadata": {},
     "output_type": "display_data"
    },
    {
     "name": "stdout",
     "output_type": "stream",
     "text": [
      "Epoch 62: train=11.4287, val=10.3123, took 59.764 s\n",
      "  Validation Found 48501 of 54504, added 1252 (eff 88.99%) (0.125 FP/event)\n"
     ]
    },
    {
     "data": {
      "application/vnd.jupyter.widget-view+json": {
       "model_id": "",
       "version_major": 2,
       "version_minor": 0
      },
      "text/plain": [
       "HBox(children=(FloatProgress(value=0.0, description='Training', layout=Layout(flex='2'), max=2500.0, style=Pro…"
      ]
     },
     "metadata": {},
     "output_type": "display_data"
    },
    {
     "name": "stdout",
     "output_type": "stream",
     "text": [
      "Epoch 63: train=11.3825, val=10.2403, took 60.514 s\n",
      "  Validation Found 48528 of 54504, added 1313 (eff 89.04%) (0.131 FP/event)\n"
     ]
    },
    {
     "data": {
      "application/vnd.jupyter.widget-view+json": {
       "model_id": "",
       "version_major": 2,
       "version_minor": 0
      },
      "text/plain": [
       "HBox(children=(FloatProgress(value=0.0, description='Training', layout=Layout(flex='2'), max=2500.0, style=Pro…"
      ]
     },
     "metadata": {},
     "output_type": "display_data"
    },
    {
     "name": "stdout",
     "output_type": "stream",
     "text": [
      "Epoch 64: train=11.3616, val=10.3173, took 59.921 s\n",
      "  Validation Found 48524 of 54504, added 1273 (eff 89.03%) (0.127 FP/event)\n"
     ]
    },
    {
     "data": {
      "application/vnd.jupyter.widget-view+json": {
       "model_id": "",
       "version_major": 2,
       "version_minor": 0
      },
      "text/plain": [
       "HBox(children=(FloatProgress(value=0.0, description='Training', layout=Layout(flex='2'), max=2500.0, style=Pro…"
      ]
     },
     "metadata": {},
     "output_type": "display_data"
    },
    {
     "name": "stdout",
     "output_type": "stream",
     "text": [
      "Epoch 65: train=11.3285, val=10.2213, took 60.113 s\n",
      "  Validation Found 48902 of 54504, added 1523 (eff 89.72%) (0.153 FP/event)\n"
     ]
    },
    {
     "data": {
      "application/vnd.jupyter.widget-view+json": {
       "model_id": "",
       "version_major": 2,
       "version_minor": 0
      },
      "text/plain": [
       "HBox(children=(FloatProgress(value=0.0, description='Training', layout=Layout(flex='2'), max=2500.0, style=Pro…"
      ]
     },
     "metadata": {},
     "output_type": "display_data"
    },
    {
     "name": "stdout",
     "output_type": "stream",
     "text": [
      "Epoch 66: train=11.2943, val=10.1572, took 59.68 s\n",
      "  Validation Found 48737 of 54504, added 1390 (eff 89.42%) (0.139 FP/event)\n"
     ]
    },
    {
     "data": {
      "application/vnd.jupyter.widget-view+json": {
       "model_id": "",
       "version_major": 2,
       "version_minor": 0
      },
      "text/plain": [
       "HBox(children=(FloatProgress(value=0.0, description='Training', layout=Layout(flex='2'), max=2500.0, style=Pro…"
      ]
     },
     "metadata": {},
     "output_type": "display_data"
    },
    {
     "name": "stdout",
     "output_type": "stream",
     "text": [
      "Epoch 67: train=11.2713, val=10.1335, took 60.109 s\n",
      "  Validation Found 48708 of 54504, added 1487 (eff 89.37%) (0.149 FP/event)\n"
     ]
    },
    {
     "data": {
      "application/vnd.jupyter.widget-view+json": {
       "model_id": "",
       "version_major": 2,
       "version_minor": 0
      },
      "text/plain": [
       "HBox(children=(FloatProgress(value=0.0, description='Training', layout=Layout(flex='2'), max=2500.0, style=Pro…"
      ]
     },
     "metadata": {},
     "output_type": "display_data"
    },
    {
     "name": "stdout",
     "output_type": "stream",
     "text": [
      "Epoch 68: train=11.2512, val=10.1113, took 59.768 s\n",
      "  Validation Found 48896 of 54504, added 1369 (eff 89.71%) (0.137 FP/event)\n"
     ]
    },
    {
     "data": {
      "application/vnd.jupyter.widget-view+json": {
       "model_id": "",
       "version_major": 2,
       "version_minor": 0
      },
      "text/plain": [
       "HBox(children=(FloatProgress(value=0.0, description='Training', layout=Layout(flex='2'), max=2500.0, style=Pro…"
      ]
     },
     "metadata": {},
     "output_type": "display_data"
    },
    {
     "name": "stdout",
     "output_type": "stream",
     "text": [
      "Epoch 69: train=11.2356, val=10.1341, took 59.738 s\n",
      "  Validation Found 48626 of 54504, added 1157 (eff 89.22%) (0.116 FP/event)\n"
     ]
    },
    {
     "data": {
      "application/vnd.jupyter.widget-view+json": {
       "model_id": "",
       "version_major": 2,
       "version_minor": 0
      },
      "text/plain": [
       "HBox(children=(FloatProgress(value=0.0, description='Training', layout=Layout(flex='2'), max=2500.0, style=Pro…"
      ]
     },
     "metadata": {},
     "output_type": "display_data"
    },
    {
     "name": "stdout",
     "output_type": "stream",
     "text": [
      "Epoch 70: train=11.1937, val=10.0643, took 59.703 s\n",
      "  Validation Found 48926 of 54504, added 1343 (eff 89.77%) (0.135 FP/event)\n"
     ]
    },
    {
     "data": {
      "application/vnd.jupyter.widget-view+json": {
       "model_id": "",
       "version_major": 2,
       "version_minor": 0
      },
      "text/plain": [
       "HBox(children=(FloatProgress(value=0.0, description='Training', layout=Layout(flex='2'), max=2500.0, style=Pro…"
      ]
     },
     "metadata": {},
     "output_type": "display_data"
    },
    {
     "name": "stdout",
     "output_type": "stream",
     "text": [
      "Epoch 71: train=11.1521, val=10.0532, took 59.66 s\n",
      "  Validation Found 48770 of 54504, added 1344 (eff 89.48%) (0.135 FP/event)\n"
     ]
    },
    {
     "data": {
      "application/vnd.jupyter.widget-view+json": {
       "model_id": "",
       "version_major": 2,
       "version_minor": 0
      },
      "text/plain": [
       "HBox(children=(FloatProgress(value=0.0, description='Training', layout=Layout(flex='2'), max=2500.0, style=Pro…"
      ]
     },
     "metadata": {},
     "output_type": "display_data"
    },
    {
     "name": "stdout",
     "output_type": "stream",
     "text": [
      "Epoch 72: train=11.135, val=10.0743, took 59.707 s\n",
      "  Validation Found 48763 of 54504, added 1254 (eff 89.47%) (0.126 FP/event)\n"
     ]
    },
    {
     "data": {
      "application/vnd.jupyter.widget-view+json": {
       "model_id": "",
       "version_major": 2,
       "version_minor": 0
      },
      "text/plain": [
       "HBox(children=(FloatProgress(value=0.0, description='Training', layout=Layout(flex='2'), max=2500.0, style=Pro…"
      ]
     },
     "metadata": {},
     "output_type": "display_data"
    },
    {
     "name": "stdout",
     "output_type": "stream",
     "text": [
      "Epoch 73: train=11.1217, val=10.032, took 59.913 s\n",
      "  Validation Found 48851 of 54504, added 1260 (eff 89.63%) (0.126 FP/event)\n"
     ]
    },
    {
     "data": {
      "application/vnd.jupyter.widget-view+json": {
       "model_id": "",
       "version_major": 2,
       "version_minor": 0
      },
      "text/plain": [
       "HBox(children=(FloatProgress(value=0.0, description='Training', layout=Layout(flex='2'), max=2500.0, style=Pro…"
      ]
     },
     "metadata": {},
     "output_type": "display_data"
    },
    {
     "name": "stdout",
     "output_type": "stream",
     "text": [
      "Epoch 74: train=11.1027, val=9.98508, took 59.751 s\n",
      "  Validation Found 49053 of 54504, added 1341 (eff 90.00%) (0.134 FP/event)\n"
     ]
    },
    {
     "data": {
      "application/vnd.jupyter.widget-view+json": {
       "model_id": "",
       "version_major": 2,
       "version_minor": 0
      },
      "text/plain": [
       "HBox(children=(FloatProgress(value=0.0, description='Training', layout=Layout(flex='2'), max=2500.0, style=Pro…"
      ]
     },
     "metadata": {},
     "output_type": "display_data"
    },
    {
     "name": "stdout",
     "output_type": "stream",
     "text": [
      "Epoch 75: train=11.0611, val=9.95177, took 59.729 s\n",
      "  Validation Found 49081 of 54504, added 1563 (eff 90.05%) (0.157 FP/event)\n"
     ]
    },
    {
     "data": {
      "application/vnd.jupyter.widget-view+json": {
       "model_id": "",
       "version_major": 2,
       "version_minor": 0
      },
      "text/plain": [
       "HBox(children=(FloatProgress(value=0.0, description='Training', layout=Layout(flex='2'), max=2500.0, style=Pro…"
      ]
     },
     "metadata": {},
     "output_type": "display_data"
    },
    {
     "name": "stdout",
     "output_type": "stream",
     "text": [
      "Epoch 76: train=11.0377, val=10.0142, took 59.628 s\n",
      "  Validation Found 48728 of 54504, added 1170 (eff 89.40%) (0.117 FP/event)\n"
     ]
    },
    {
     "data": {
      "application/vnd.jupyter.widget-view+json": {
       "model_id": "",
       "version_major": 2,
       "version_minor": 0
      },
      "text/plain": [
       "HBox(children=(FloatProgress(value=0.0, description='Training', layout=Layout(flex='2'), max=2500.0, style=Pro…"
      ]
     },
     "metadata": {},
     "output_type": "display_data"
    },
    {
     "name": "stdout",
     "output_type": "stream",
     "text": [
      "Epoch 77: train=11.0252, val=9.93583, took 59.78 s\n",
      "  Validation Found 49034 of 54504, added 1363 (eff 89.96%) (0.137 FP/event)\n"
     ]
    },
    {
     "data": {
      "application/vnd.jupyter.widget-view+json": {
       "model_id": "",
       "version_major": 2,
       "version_minor": 0
      },
      "text/plain": [
       "HBox(children=(FloatProgress(value=0.0, description='Training', layout=Layout(flex='2'), max=2500.0, style=Pro…"
      ]
     },
     "metadata": {},
     "output_type": "display_data"
    },
    {
     "name": "stdout",
     "output_type": "stream",
     "text": [
      "Epoch 78: train=11.0137, val=9.96858, took 59.719 s\n",
      "  Validation Found 48582 of 54504, added 1079 (eff 89.13%) (0.108 FP/event)\n"
     ]
    },
    {
     "data": {
      "application/vnd.jupyter.widget-view+json": {
       "model_id": "",
       "version_major": 2,
       "version_minor": 0
      },
      "text/plain": [
       "HBox(children=(FloatProgress(value=0.0, description='Training', layout=Layout(flex='2'), max=2500.0, style=Pro…"
      ]
     },
     "metadata": {},
     "output_type": "display_data"
    },
    {
     "name": "stdout",
     "output_type": "stream",
     "text": [
      "Epoch 79: train=10.9939, val=9.88785, took 59.768 s\n",
      "  Validation Found 49066 of 54504, added 1398 (eff 90.02%) (0.14 FP/event)\n"
     ]
    },
    {
     "data": {
      "application/vnd.jupyter.widget-view+json": {
       "model_id": "",
       "version_major": 2,
       "version_minor": 0
      },
      "text/plain": [
       "HBox(children=(FloatProgress(value=0.0, description='Training', layout=Layout(flex='2'), max=2500.0, style=Pro…"
      ]
     },
     "metadata": {},
     "output_type": "display_data"
    },
    {
     "name": "stdout",
     "output_type": "stream",
     "text": [
      "Epoch 80: train=10.9761, val=9.86448, took 59.68 s\n",
      "  Validation Found 49242 of 54504, added 1557 (eff 90.35%) (0.156 FP/event)\n"
     ]
    },
    {
     "data": {
      "application/vnd.jupyter.widget-view+json": {
       "model_id": "",
       "version_major": 2,
       "version_minor": 0
      },
      "text/plain": [
       "HBox(children=(FloatProgress(value=0.0, description='Training', layout=Layout(flex='2'), max=2500.0, style=Pro…"
      ]
     },
     "metadata": {},
     "output_type": "display_data"
    },
    {
     "name": "stdout",
     "output_type": "stream",
     "text": [
      "Epoch 81: train=10.9626, val=9.80399, took 59.903 s\n",
      "  Validation Found 49005 of 54504, added 1275 (eff 89.91%) (0.128 FP/event)\n"
     ]
    },
    {
     "data": {
      "application/vnd.jupyter.widget-view+json": {
       "model_id": "",
       "version_major": 2,
       "version_minor": 0
      },
      "text/plain": [
       "HBox(children=(FloatProgress(value=0.0, description='Training', layout=Layout(flex='2'), max=2500.0, style=Pro…"
      ]
     },
     "metadata": {},
     "output_type": "display_data"
    },
    {
     "name": "stdout",
     "output_type": "stream",
     "text": [
      "Epoch 82: train=10.946, val=9.89148, took 59.912 s\n",
      "  Validation Found 49019 of 54504, added 1250 (eff 89.94%) (0.125 FP/event)\n"
     ]
    },
    {
     "data": {
      "application/vnd.jupyter.widget-view+json": {
       "model_id": "",
       "version_major": 2,
       "version_minor": 0
      },
      "text/plain": [
       "HBox(children=(FloatProgress(value=0.0, description='Training', layout=Layout(flex='2'), max=2500.0, style=Pro…"
      ]
     },
     "metadata": {},
     "output_type": "display_data"
    },
    {
     "name": "stdout",
     "output_type": "stream",
     "text": [
      "Epoch 83: train=10.9207, val=9.85919, took 59.719 s\n",
      "  Validation Found 49249 of 54504, added 1448 (eff 90.36%) (0.145 FP/event)\n"
     ]
    },
    {
     "data": {
      "application/vnd.jupyter.widget-view+json": {
       "model_id": "",
       "version_major": 2,
       "version_minor": 0
      },
      "text/plain": [
       "HBox(children=(FloatProgress(value=0.0, description='Training', layout=Layout(flex='2'), max=2500.0, style=Pro…"
      ]
     },
     "metadata": {},
     "output_type": "display_data"
    },
    {
     "name": "stdout",
     "output_type": "stream",
     "text": [
      "Epoch 84: train=10.9045, val=9.77638, took 59.66 s\n",
      "  Validation Found 49303 of 54504, added 1375 (eff 90.46%) (0.138 FP/event)\n"
     ]
    },
    {
     "data": {
      "application/vnd.jupyter.widget-view+json": {
       "model_id": "",
       "version_major": 2,
       "version_minor": 0
      },
      "text/plain": [
       "HBox(children=(FloatProgress(value=0.0, description='Training', layout=Layout(flex='2'), max=2500.0, style=Pro…"
      ]
     },
     "metadata": {},
     "output_type": "display_data"
    },
    {
     "name": "stdout",
     "output_type": "stream",
     "text": [
      "Epoch 85: train=10.8939, val=9.80025, took 60.304 s\n",
      "  Validation Found 49220 of 54504, added 1282 (eff 90.31%) (0.128 FP/event)\n"
     ]
    },
    {
     "data": {
      "application/vnd.jupyter.widget-view+json": {
       "model_id": "",
       "version_major": 2,
       "version_minor": 0
      },
      "text/plain": [
       "HBox(children=(FloatProgress(value=0.0, description='Training', layout=Layout(flex='2'), max=2500.0, style=Pro…"
      ]
     },
     "metadata": {},
     "output_type": "display_data"
    },
    {
     "name": "stdout",
     "output_type": "stream",
     "text": [
      "Epoch 86: train=10.8786, val=9.8174, took 59.877 s\n",
      "  Validation Found 49054 of 54504, added 1287 (eff 90.00%) (0.129 FP/event)\n"
     ]
    },
    {
     "data": {
      "application/vnd.jupyter.widget-view+json": {
       "model_id": "",
       "version_major": 2,
       "version_minor": 0
      },
      "text/plain": [
       "HBox(children=(FloatProgress(value=0.0, description='Training', layout=Layout(flex='2'), max=2500.0, style=Pro…"
      ]
     },
     "metadata": {},
     "output_type": "display_data"
    },
    {
     "name": "stdout",
     "output_type": "stream",
     "text": [
      "Epoch 87: train=10.8395, val=9.76774, took 59.657 s\n",
      "  Validation Found 49509 of 54504, added 1778 (eff 90.84%) (0.178 FP/event)\n"
     ]
    },
    {
     "data": {
      "application/vnd.jupyter.widget-view+json": {
       "model_id": "",
       "version_major": 2,
       "version_minor": 0
      },
      "text/plain": [
       "HBox(children=(FloatProgress(value=0.0, description='Training', layout=Layout(flex='2'), max=2500.0, style=Pro…"
      ]
     },
     "metadata": {},
     "output_type": "display_data"
    },
    {
     "name": "stdout",
     "output_type": "stream",
     "text": [
      "Epoch 88: train=10.814, val=9.84679, took 60.621 s\n",
      "  Validation Found 48869 of 54504, added 1009 (eff 89.66%) (0.101 FP/event)\n"
     ]
    },
    {
     "data": {
      "application/vnd.jupyter.widget-view+json": {
       "model_id": "",
       "version_major": 2,
       "version_minor": 0
      },
      "text/plain": [
       "HBox(children=(FloatProgress(value=0.0, description='Training', layout=Layout(flex='2'), max=2500.0, style=Pro…"
      ]
     },
     "metadata": {},
     "output_type": "display_data"
    },
    {
     "name": "stdout",
     "output_type": "stream",
     "text": [
      "Epoch 89: train=10.8011, val=9.65677, took 61.614 s\n",
      "  Validation Found 49432 of 54504, added 1427 (eff 90.69%) (0.143 FP/event)\n"
     ]
    },
    {
     "data": {
      "application/vnd.jupyter.widget-view+json": {
       "model_id": "",
       "version_major": 2,
       "version_minor": 0
      },
      "text/plain": [
       "HBox(children=(FloatProgress(value=0.0, description='Training', layout=Layout(flex='2'), max=2500.0, style=Pro…"
      ]
     },
     "metadata": {},
     "output_type": "display_data"
    },
    {
     "name": "stdout",
     "output_type": "stream",
     "text": [
      "Epoch 90: train=10.7925, val=9.74386, took 60.381 s\n",
      "  Validation Found 49044 of 54504, added 1111 (eff 89.98%) (0.111 FP/event)\n"
     ]
    },
    {
     "data": {
      "application/vnd.jupyter.widget-view+json": {
       "model_id": "",
       "version_major": 2,
       "version_minor": 0
      },
      "text/plain": [
       "HBox(children=(FloatProgress(value=0.0, description='Training', layout=Layout(flex='2'), max=2500.0, style=Pro…"
      ]
     },
     "metadata": {},
     "output_type": "display_data"
    },
    {
     "name": "stdout",
     "output_type": "stream",
     "text": [
      "Epoch 91: train=10.7739, val=9.72491, took 59.772 s\n",
      "  Validation Found 49007 of 54504, added 1127 (eff 89.91%) (0.113 FP/event)\n"
     ]
    },
    {
     "data": {
      "application/vnd.jupyter.widget-view+json": {
       "model_id": "",
       "version_major": 2,
       "version_minor": 0
      },
      "text/plain": [
       "HBox(children=(FloatProgress(value=0.0, description='Training', layout=Layout(flex='2'), max=2500.0, style=Pro…"
      ]
     },
     "metadata": {},
     "output_type": "display_data"
    },
    {
     "name": "stdout",
     "output_type": "stream",
     "text": [
      "Epoch 92: train=10.7586, val=9.72853, took 59.909 s\n",
      "  Validation Found 49166 of 54504, added 1254 (eff 90.21%) (0.126 FP/event)\n"
     ]
    },
    {
     "data": {
      "application/vnd.jupyter.widget-view+json": {
       "model_id": "",
       "version_major": 2,
       "version_minor": 0
      },
      "text/plain": [
       "HBox(children=(FloatProgress(value=0.0, description='Training', layout=Layout(flex='2'), max=2500.0, style=Pro…"
      ]
     },
     "metadata": {},
     "output_type": "display_data"
    },
    {
     "name": "stdout",
     "output_type": "stream",
     "text": [
      "Epoch 93: train=10.7596, val=9.69552, took 60.134 s\n",
      "  Validation Found 49476 of 54504, added 1502 (eff 90.77%) (0.15 FP/event)\n"
     ]
    },
    {
     "data": {
      "application/vnd.jupyter.widget-view+json": {
       "model_id": "",
       "version_major": 2,
       "version_minor": 0
      },
      "text/plain": [
       "HBox(children=(FloatProgress(value=0.0, description='Training', layout=Layout(flex='2'), max=2500.0, style=Pro…"
      ]
     },
     "metadata": {},
     "output_type": "display_data"
    },
    {
     "name": "stdout",
     "output_type": "stream",
     "text": [
      "Epoch 94: train=10.7422, val=9.66534, took 59.757 s\n",
      "  Validation Found 49115 of 54504, added 1179 (eff 90.11%) (0.118 FP/event)\n"
     ]
    },
    {
     "data": {
      "application/vnd.jupyter.widget-view+json": {
       "model_id": "",
       "version_major": 2,
       "version_minor": 0
      },
      "text/plain": [
       "HBox(children=(FloatProgress(value=0.0, description='Training', layout=Layout(flex='2'), max=2500.0, style=Pro…"
      ]
     },
     "metadata": {},
     "output_type": "display_data"
    },
    {
     "name": "stdout",
     "output_type": "stream",
     "text": [
      "Epoch 95: train=10.7291, val=9.63656, took 59.595 s\n",
      "  Validation Found 49389 of 54504, added 1357 (eff 90.62%) (0.136 FP/event)\n"
     ]
    },
    {
     "data": {
      "application/vnd.jupyter.widget-view+json": {
       "model_id": "",
       "version_major": 2,
       "version_minor": 0
      },
      "text/plain": [
       "HBox(children=(FloatProgress(value=0.0, description='Training', layout=Layout(flex='2'), max=2500.0, style=Pro…"
      ]
     },
     "metadata": {},
     "output_type": "display_data"
    },
    {
     "name": "stdout",
     "output_type": "stream",
     "text": [
      "Epoch 96: train=10.7059, val=9.60872, took 59.876 s\n",
      "  Validation Found 49410 of 54504, added 1379 (eff 90.65%) (0.138 FP/event)\n"
     ]
    },
    {
     "data": {
      "application/vnd.jupyter.widget-view+json": {
       "model_id": "",
       "version_major": 2,
       "version_minor": 0
      },
      "text/plain": [
       "HBox(children=(FloatProgress(value=0.0, description='Training', layout=Layout(flex='2'), max=2500.0, style=Pro…"
      ]
     },
     "metadata": {},
     "output_type": "display_data"
    },
    {
     "name": "stdout",
     "output_type": "stream",
     "text": [
      "Epoch 97: train=10.7041, val=9.68943, took 59.667 s\n",
      "  Validation Found 49770 of 54504, added 1745 (eff 91.31%) (0.175 FP/event)\n"
     ]
    },
    {
     "data": {
      "application/vnd.jupyter.widget-view+json": {
       "model_id": "",
       "version_major": 2,
       "version_minor": 0
      },
      "text/plain": [
       "HBox(children=(FloatProgress(value=0.0, description='Training', layout=Layout(flex='2'), max=2500.0, style=Pro…"
      ]
     },
     "metadata": {},
     "output_type": "display_data"
    },
    {
     "name": "stdout",
     "output_type": "stream",
     "text": [
      "Epoch 98: train=10.6982, val=9.57881, took 59.547 s\n",
      "  Validation Found 49696 of 54504, added 1498 (eff 91.18%) (0.15 FP/event)\n"
     ]
    },
    {
     "data": {
      "application/vnd.jupyter.widget-view+json": {
       "model_id": "",
       "version_major": 2,
       "version_minor": 0
      },
      "text/plain": [
       "HBox(children=(FloatProgress(value=0.0, description='Training', layout=Layout(flex='2'), max=2500.0, style=Pro…"
      ]
     },
     "metadata": {},
     "output_type": "display_data"
    },
    {
     "name": "stdout",
     "output_type": "stream",
     "text": [
      "Epoch 99: train=10.6922, val=9.61595, took 59.808 s\n",
      "  Validation Found 49773 of 54504, added 1687 (eff 91.32%) (0.169 FP/event)\n"
     ]
    },
    {
     "data": {
      "application/vnd.jupyter.widget-view+json": {
       "model_id": "",
       "version_major": 2,
       "version_minor": 0
      },
      "text/plain": [
       "HBox(children=(FloatProgress(value=0.0, description='Training', layout=Layout(flex='2'), max=2500.0, style=Pro…"
      ]
     },
     "metadata": {},
     "output_type": "display_data"
    },
    {
     "name": "stdout",
     "output_type": "stream",
     "text": [
      "Epoch 100: train=10.6834, val=9.59671, took 59.694 s\n",
      "  Validation Found 49630 of 54504, added 1591 (eff 91.06%) (0.159 FP/event)\n"
     ]
    },
    {
     "data": {
      "application/vnd.jupyter.widget-view+json": {
       "model_id": "",
       "version_major": 2,
       "version_minor": 0
      },
      "text/plain": [
       "HBox(children=(FloatProgress(value=0.0, description='Training', layout=Layout(flex='2'), max=2500.0, style=Pro…"
      ]
     },
     "metadata": {},
     "output_type": "display_data"
    },
    {
     "name": "stdout",
     "output_type": "stream",
     "text": [
      "Epoch 101: train=10.6799, val=9.60601, took 59.93 s\n",
      "  Validation Found 49438 of 54504, added 1240 (eff 90.71%) (0.124 FP/event)\n"
     ]
    },
    {
     "data": {
      "application/vnd.jupyter.widget-view+json": {
       "model_id": "",
       "version_major": 2,
       "version_minor": 0
      },
      "text/plain": [
       "HBox(children=(FloatProgress(value=0.0, description='Training', layout=Layout(flex='2'), max=2500.0, style=Pro…"
      ]
     },
     "metadata": {},
     "output_type": "display_data"
    },
    {
     "name": "stdout",
     "output_type": "stream",
     "text": [
      "Epoch 102: train=10.6759, val=9.69029, took 59.623 s\n",
      "  Validation Found 49490 of 54504, added 1298 (eff 90.80%) (0.13 FP/event)\n"
     ]
    },
    {
     "data": {
      "application/vnd.jupyter.widget-view+json": {
       "model_id": "",
       "version_major": 2,
       "version_minor": 0
      },
      "text/plain": [
       "HBox(children=(FloatProgress(value=0.0, description='Training', layout=Layout(flex='2'), max=2500.0, style=Pro…"
      ]
     },
     "metadata": {},
     "output_type": "display_data"
    },
    {
     "name": "stdout",
     "output_type": "stream",
     "text": [
      "Epoch 103: train=10.663, val=9.58306, took 60.404 s\n",
      "  Validation Found 49394 of 54504, added 1273 (eff 90.62%) (0.127 FP/event)\n"
     ]
    },
    {
     "data": {
      "application/vnd.jupyter.widget-view+json": {
       "model_id": "",
       "version_major": 2,
       "version_minor": 0
      },
      "text/plain": [
       "HBox(children=(FloatProgress(value=0.0, description='Training', layout=Layout(flex='2'), max=2500.0, style=Pro…"
      ]
     },
     "metadata": {},
     "output_type": "display_data"
    },
    {
     "name": "stdout",
     "output_type": "stream",
     "text": [
      "Epoch 104: train=10.6555, val=9.55325, took 60.074 s\n",
      "  Validation Found 49808 of 54504, added 1546 (eff 91.38%) (0.155 FP/event)\n"
     ]
    },
    {
     "data": {
      "application/vnd.jupyter.widget-view+json": {
       "model_id": "",
       "version_major": 2,
       "version_minor": 0
      },
      "text/plain": [
       "HBox(children=(FloatProgress(value=0.0, description='Training', layout=Layout(flex='2'), max=2500.0, style=Pro…"
      ]
     },
     "metadata": {},
     "output_type": "display_data"
    },
    {
     "name": "stdout",
     "output_type": "stream",
     "text": [
      "Epoch 105: train=10.6484, val=9.47482, took 59.806 s\n",
      "  Validation Found 49616 of 54504, added 1336 (eff 91.03%) (0.134 FP/event)\n"
     ]
    },
    {
     "data": {
      "application/vnd.jupyter.widget-view+json": {
       "model_id": "",
       "version_major": 2,
       "version_minor": 0
      },
      "text/plain": [
       "HBox(children=(FloatProgress(value=0.0, description='Training', layout=Layout(flex='2'), max=2500.0, style=Pro…"
      ]
     },
     "metadata": {},
     "output_type": "display_data"
    },
    {
     "name": "stdout",
     "output_type": "stream",
     "text": [
      "Epoch 106: train=10.6394, val=9.62125, took 59.805 s\n",
      "  Validation Found 49887 of 54504, added 1799 (eff 91.53%) (0.18 FP/event)\n"
     ]
    },
    {
     "data": {
      "application/vnd.jupyter.widget-view+json": {
       "model_id": "",
       "version_major": 2,
       "version_minor": 0
      },
      "text/plain": [
       "HBox(children=(FloatProgress(value=0.0, description='Training', layout=Layout(flex='2'), max=2500.0, style=Pro…"
      ]
     },
     "metadata": {},
     "output_type": "display_data"
    },
    {
     "name": "stdout",
     "output_type": "stream",
     "text": [
      "Epoch 107: train=10.63, val=9.55197, took 60.394 s\n",
      "  Validation Found 49559 of 54504, added 1324 (eff 90.93%) (0.133 FP/event)\n"
     ]
    },
    {
     "data": {
      "application/vnd.jupyter.widget-view+json": {
       "model_id": "",
       "version_major": 2,
       "version_minor": 0
      },
      "text/plain": [
       "HBox(children=(FloatProgress(value=0.0, description='Training', layout=Layout(flex='2'), max=2500.0, style=Pro…"
      ]
     },
     "metadata": {},
     "output_type": "display_data"
    },
    {
     "name": "stdout",
     "output_type": "stream",
     "text": [
      "Epoch 108: train=10.6189, val=9.55435, took 59.827 s\n",
      "  Validation Found 49703 of 54504, added 1499 (eff 91.19%) (0.15 FP/event)\n"
     ]
    },
    {
     "data": {
      "application/vnd.jupyter.widget-view+json": {
       "model_id": "",
       "version_major": 2,
       "version_minor": 0
      },
      "text/plain": [
       "HBox(children=(FloatProgress(value=0.0, description='Training', layout=Layout(flex='2'), max=2500.0, style=Pro…"
      ]
     },
     "metadata": {},
     "output_type": "display_data"
    },
    {
     "name": "stdout",
     "output_type": "stream",
     "text": [
      "Epoch 109: train=10.6155, val=9.54214, took 59.939 s\n",
      "  Validation Found 49814 of 54504, added 1647 (eff 91.40%) (0.165 FP/event)\n"
     ]
    },
    {
     "data": {
      "application/vnd.jupyter.widget-view+json": {
       "model_id": "",
       "version_major": 2,
       "version_minor": 0
      },
      "text/plain": [
       "HBox(children=(FloatProgress(value=0.0, description='Training', layout=Layout(flex='2'), max=2500.0, style=Pro…"
      ]
     },
     "metadata": {},
     "output_type": "display_data"
    },
    {
     "name": "stdout",
     "output_type": "stream",
     "text": [
      "Epoch 110: train=10.6001, val=9.47997, took 60.342 s\n",
      "  Validation Found 49632 of 54504, added 1359 (eff 91.06%) (0.136 FP/event)\n"
     ]
    },
    {
     "data": {
      "application/vnd.jupyter.widget-view+json": {
       "model_id": "",
       "version_major": 2,
       "version_minor": 0
      },
      "text/plain": [
       "HBox(children=(FloatProgress(value=0.0, description='Training', layout=Layout(flex='2'), max=2500.0, style=Pro…"
      ]
     },
     "metadata": {},
     "output_type": "display_data"
    },
    {
     "name": "stdout",
     "output_type": "stream",
     "text": [
      "Epoch 111: train=10.5938, val=9.51591, took 59.783 s\n",
      "  Validation Found 49396 of 54504, added 1219 (eff 90.63%) (0.122 FP/event)\n"
     ]
    },
    {
     "data": {
      "application/vnd.jupyter.widget-view+json": {
       "model_id": "",
       "version_major": 2,
       "version_minor": 0
      },
      "text/plain": [
       "HBox(children=(FloatProgress(value=0.0, description='Training', layout=Layout(flex='2'), max=2500.0, style=Pro…"
      ]
     },
     "metadata": {},
     "output_type": "display_data"
    },
    {
     "name": "stdout",
     "output_type": "stream",
     "text": [
      "Epoch 112: train=10.5869, val=9.6718, took 59.65 s\n",
      "  Validation Found 49613 of 54504, added 1413 (eff 91.03%) (0.142 FP/event)\n"
     ]
    },
    {
     "data": {
      "application/vnd.jupyter.widget-view+json": {
       "model_id": "",
       "version_major": 2,
       "version_minor": 0
      },
      "text/plain": [
       "HBox(children=(FloatProgress(value=0.0, description='Training', layout=Layout(flex='2'), max=2500.0, style=Pro…"
      ]
     },
     "metadata": {},
     "output_type": "display_data"
    },
    {
     "name": "stdout",
     "output_type": "stream",
     "text": [
      "Epoch 113: train=10.5881, val=9.55108, took 59.621 s\n",
      "  Validation Found 49701 of 54504, added 1411 (eff 91.19%) (0.141 FP/event)\n"
     ]
    },
    {
     "data": {
      "application/vnd.jupyter.widget-view+json": {
       "model_id": "",
       "version_major": 2,
       "version_minor": 0
      },
      "text/plain": [
       "HBox(children=(FloatProgress(value=0.0, description='Training', layout=Layout(flex='2'), max=2500.0, style=Pro…"
      ]
     },
     "metadata": {},
     "output_type": "display_data"
    },
    {
     "name": "stdout",
     "output_type": "stream",
     "text": [
      "Epoch 114: train=10.5786, val=9.5113, took 60.03 s\n",
      "  Validation Found 49664 of 54504, added 1462 (eff 91.12%) (0.146 FP/event)\n"
     ]
    },
    {
     "data": {
      "application/vnd.jupyter.widget-view+json": {
       "model_id": "",
       "version_major": 2,
       "version_minor": 0
      },
      "text/plain": [
       "HBox(children=(FloatProgress(value=0.0, description='Training', layout=Layout(flex='2'), max=2500.0, style=Pro…"
      ]
     },
     "metadata": {},
     "output_type": "display_data"
    },
    {
     "name": "stdout",
     "output_type": "stream",
     "text": [
      "Epoch 115: train=10.5714, val=9.57254, took 59.762 s\n",
      "  Validation Found 49708 of 54504, added 1520 (eff 91.20%) (0.152 FP/event)\n"
     ]
    },
    {
     "data": {
      "application/vnd.jupyter.widget-view+json": {
       "model_id": "",
       "version_major": 2,
       "version_minor": 0
      },
      "text/plain": [
       "HBox(children=(FloatProgress(value=0.0, description='Training', layout=Layout(flex='2'), max=2500.0, style=Pro…"
      ]
     },
     "metadata": {},
     "output_type": "display_data"
    },
    {
     "name": "stdout",
     "output_type": "stream",
     "text": [
      "Epoch 116: train=10.5709, val=9.45898, took 59.853 s\n",
      "  Validation Found 49884 of 54504, added 1668 (eff 91.52%) (0.167 FP/event)\n"
     ]
    },
    {
     "data": {
      "application/vnd.jupyter.widget-view+json": {
       "model_id": "",
       "version_major": 2,
       "version_minor": 0
      },
      "text/plain": [
       "HBox(children=(FloatProgress(value=0.0, description='Training', layout=Layout(flex='2'), max=2500.0, style=Pro…"
      ]
     },
     "metadata": {},
     "output_type": "display_data"
    },
    {
     "name": "stdout",
     "output_type": "stream",
     "text": [
      "Epoch 117: train=10.5673, val=9.53609, took 59.734 s\n",
      "  Validation Found 49305 of 54504, added 1155 (eff 90.46%) (0.116 FP/event)\n"
     ]
    },
    {
     "data": {
      "application/vnd.jupyter.widget-view+json": {
       "model_id": "",
       "version_major": 2,
       "version_minor": 0
      },
      "text/plain": [
       "HBox(children=(FloatProgress(value=0.0, description='Training', layout=Layout(flex='2'), max=2500.0, style=Pro…"
      ]
     },
     "metadata": {},
     "output_type": "display_data"
    },
    {
     "name": "stdout",
     "output_type": "stream",
     "text": [
      "Epoch 118: train=10.5608, val=9.52099, took 59.543 s\n",
      "  Validation Found 49466 of 54504, added 1252 (eff 90.76%) (0.125 FP/event)\n",
      "\n"
     ]
    }
   ],
   "source": [
    "print('for model: ', model)   \n",
    "run_name = 'SimpleCNN5Layer_Ca B'\n",
    "# Create an mlflow run\n",
    "with mlflow.start_run(run_name=run_name) as run:\n",
    "    # Log parameters of the model\n",
    "    for key, value in vars(args).items():\n",
    "        print(key, value)\n",
    "        mlflow.log_param(key, value)\n",
    "    \n",
    "    # Log parameter count in the model\n",
    "    mlflow.log_param('Parameters', count_parameters(model))\n",
    "    \n",
    "    # Begin run\n",
    "    for result in trainNet(model, optimizer, loss,\n",
    "                            train_loader, val_loader,\n",
    "                            args.epochs+args.epoch_start, epoch_start=args.epoch_start,\n",
    "                            notebook=True, device=device):\n",
    "\n",
    "        result = result._asdict()\n",
    "        results = results.append(pd.Series(result), ignore_index=True)\n",
    "        xs = results.index\n",
    "\n",
    "        # Update the plot above\n",
    "        lines['train'].set_data(results.index, results.cost)\n",
    "        lines['val'].set_data(results.index, results.val)\n",
    "\n",
    "        #filter first cost epoch (can be really large)\n",
    "        max_cost = max(max(results.cost if len(results.cost)<2 else results.cost[1:]), max(results.val))\n",
    "        min_cost = min(min(results.cost), min(results.val))\n",
    "    \n",
    "        # The plot limits need updating too\n",
    "        ax.set_ylim(min_cost*.9, max_cost*1.1)  \n",
    "        ax.set_xlim(-.5, len(results.cost) - .5)\n",
    "    \n",
    "        replace_in_ax(lax, lines['eff'], xs, results['eff_val'].apply(lambda x: x.eff_rate))\n",
    "        replace_in_ax(tax, lines['fp'], xs, results['eff_val'].apply(lambda x: x.fp_rate))            \n",
    "            \n",
    "        # Redraw the figure\n",
    "        fig.canvas.draw()\n",
    "            \n",
    "        ## MLFLOW ##\n",
    "        # Log metrics\n",
    "        mlflow.log_metric('Efficiency', result['eff_val'].eff_rate, result['epoch'])\n",
    "        mlflow.log_metric('False Positive Rate',  result['eff_val'].fp_rate, result['epoch'])\n",
    "        mlflow.log_metric('Validation Loss',  result['val'], result['epoch'])\n",
    "        mlflow.log_metric('Training Loss',  result['cost'], result['epoch'])\n",
    "            \n",
    "        # Log tags\n",
    "#        mlflow.set_tag('Optimizer', 'Adam')\n",
    "#        mlflow.set_tag('Kernel size', 'Mixed')\n",
    "#        mlflow.set_tag('Skip connections', '4')\n",
    "#        mlflow.set_tag('Activation', 'Softplus')\n",
    "#        mlflow.set_tag('Mid Activation', 'Relu')\n",
    "        mlflow.set_tag('Extra Data', 'False')\n",
    "\n",
    "        # Save model state dictionary, optimizer state dictionary, and epoch number\n",
    "        torch.save({\n",
    "            'model':model.state_dict(),\n",
    "            'optimizer':optimizer.state_dict(),\n",
    "            'epoch':args.epochs+result['epoch']\n",
    "            }, 'run_stats.pyt')\n",
    "        # Save the run stats into mlflow\n",
    "        mlflow.log_artifact('run_stats.pyt')\n",
    "        \n",
    "    dual_train_plots(results.index,\n",
    "                 results.cost, results.val, \n",
    "                 results['eff_val'].apply(lambda x: x.eff_rate),\n",
    "                 results['eff_val'].apply(lambda x: x.fp_rate))\n",
    "    plt.tight_layout()\n",
    "    # save plot\n",
    "    fig.savefig('plot.png')  \n",
    "    mlflow.log_artifact('plot.png')"
   ]
  },
  {
   "cell_type": "code",
   "execution_count": 13,
   "metadata": {},
   "outputs": [],
   "source": [
    "##quit()"
   ]
  }
 ],
 "metadata": {
  "celltoolbar": "Raw Cell Format",
  "kernelspec": {
   "display_name": "goofit-june2020",
   "language": "python",
   "name": "goofit-june2020"
  },
  "language_info": {
   "codemirror_mode": {
    "name": "ipython",
    "version": 3
   },
   "file_extension": ".py",
   "mimetype": "text/x-python",
   "name": "python",
   "nbconvert_exporter": "python",
   "pygments_lexer": "ipython3",
   "version": "3.7.6"
  }
 },
 "nbformat": 4,
 "nbformat_minor": 2
}
