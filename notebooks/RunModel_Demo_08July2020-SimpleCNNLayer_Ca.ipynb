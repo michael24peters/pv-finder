{
 "cells": [
  {
   "cell_type": "code",
   "execution_count": 1,
   "metadata": {},
   "outputs": [],
   "source": [
    "##%matplotlib widget\n",
    "## with %matplotlib notebook: seems to require ipympl as part of environment, either\n",
    "## part of the conda environment or \"pip install ipympl\"\n",
    "## otherwise, does not show ANY plots in notebook, plt.savefig() works\n",
    "%matplotlib notebook  \n",
    "##%matplotlib inline    ## --plt.savefig()  works, but re-sizing does NOT"
   ]
  },
  {
   "cell_type": "markdown",
   "metadata": {},
   "source": [
    "Check the current GPU usage. Please try to be nice!"
   ]
  },
  {
   "cell_type": "code",
   "execution_count": 2,
   "metadata": {},
   "outputs": [
    {
     "name": "stdout",
     "output_type": "stream",
     "text": [
      "Thu Jul  9 19:05:17 2020       \n",
      "+-----------------------------------------------------------------------------+\n",
      "| NVIDIA-SMI 440.64.00    Driver Version: 440.64.00    CUDA Version: 10.2     |\n",
      "|-------------------------------+----------------------+----------------------+\n",
      "| GPU  Name        Persistence-M| Bus-Id        Disp.A | Volatile Uncorr. ECC |\n",
      "| Fan  Temp  Perf  Pwr:Usage/Cap|         Memory-Usage | GPU-Util  Compute M. |\n",
      "|===============================+======================+======================|\n",
      "|   0  TITAN V             Off  | 00000000:03:00.0 Off |                  N/A |\n",
      "| 28%   32C    P8    23W / 250W |   6591MiB / 12066MiB |      0%      Default |\n",
      "+-------------------------------+----------------------+----------------------+\n",
      "|   1  Tesla P100-PCIE...  Off  | 00000000:83:00.0 Off |                    0 |\n",
      "| N/A   36C    P0    34W / 250W |      0MiB / 16280MiB |      0%      Default |\n",
      "+-------------------------------+----------------------+----------------------+\n",
      "|   2  TITAN V             Off  | 00000000:84:00.0 Off |                  N/A |\n",
      "| 54%   61C    P0    43W / 250W |     12MiB / 12066MiB |      8%      Default |\n",
      "+-------------------------------+----------------------+----------------------+\n",
      "                                                                               \n",
      "+-----------------------------------------------------------------------------+\n",
      "| Processes:                                                       GPU Memory |\n",
      "|  GPU       PID   Type   Process name                             Usage      |\n",
      "|=============================================================================|\n",
      "|    0     44832      C   ...a/conda/envs/goofit-june2020/bin/python  6579MiB |\n",
      "+-----------------------------------------------------------------------------+\n"
     ]
    }
   ],
   "source": [
    "!nvidia-smi"
   ]
  },
  {
   "cell_type": "markdown",
   "metadata": {},
   "source": [
    "## Imports"
   ]
  },
  {
   "cell_type": "code",
   "execution_count": 3,
   "metadata": {},
   "outputs": [],
   "source": [
    "import matplotlib.pyplot as plt\n",
    "import numpy as np\n",
    "import time\n",
    "import torch\n",
    "import pandas as pd\n",
    "import mlflow\n",
    "\n",
    "# Python 3 standard library\n",
    "from pathlib import Path\n",
    "\n",
    "from torchsummary import summary\n",
    "\n",
    "'''\n",
    "HELPER FUNCTIONS\n",
    "'''\n",
    "# From model/collectdata.py\n",
    "from model.collectdata_mdsA import collect_data\n",
    "\n",
    "# From model/loss.py\n",
    "##from loss import Loss\n",
    "from model.alt_loss_A import Loss\n",
    "\n",
    "# From model/training.py\n",
    "from model.training import trainNet, select_gpu, Results\n",
    "\n",
    "# From model/models.py\n",
    "##  will start with model from TwoFeatures_CNN6Layer_A in the first instance\n",
    "##  see relevant cell below\n",
    "\n",
    "from model.models_mds_07July2020 import SimpleCNN5Layer_Ca as Model\n",
    "from model.models_mds_07July2020 import All_CNN6Layer_A as ModelA\n",
    "from model.models_mds_07July2020 import All_CNN6Layer_B as ModelB\n",
    "from model.models_mds_07July2020 import All_CNN6Layer_C as ModelC\n",
    "from model.models_mds_07July2020 import All_CNN6Layer_D as ModelD\n",
    "from model.models_mds_07July2020 import All_CNN6Layer_E as ModelE\n",
    "\n",
    "# From model/utilities.py\n",
    "from model.utilities import load_full_state, count_parameters, Params\n",
    "\n",
    "from model.plots import dual_train_plots, replace_in_ax\n",
    "\n",
    "## adds image of model architecture\n",
    "import hiddenlayer as HL"
   ]
  },
  {
   "cell_type": "markdown",
   "metadata": {},
   "source": [
    "Set up Torch device configuration. All tensors and model parameters need to know where to be put.\n",
    "This takes a BUS ID number: The BUS ID is the same as the listing at the top of this script."
   ]
  },
  {
   "cell_type": "code",
   "execution_count": 4,
   "metadata": {},
   "outputs": [
    {
     "name": "stdout",
     "output_type": "stream",
     "text": [
      "1 available GPUs (initially using device 0):\n",
      "  0 Tesla P100-PCIE-16GB\n"
     ]
    }
   ],
   "source": [
    "device = select_gpu(1)"
   ]
  },
  {
   "cell_type": "markdown",
   "metadata": {},
   "source": [
    "### Set up local parameters"
   ]
  },
  {
   "cell_type": "code",
   "execution_count": 5,
   "metadata": {},
   "outputs": [],
   "source": [
    "# params order - batch size, epochs, lr, epoch_start (which is usually set to 0)\n",
    "args = Params(128, 200, 1e-3, 19)"
   ]
  },
  {
   "cell_type": "markdown",
   "metadata": {},
   "source": [
    "## Loading data\n",
    "\n",
    "Load the dataset, split into parts, then move to device (see `collectdata.py` in the `../model` directory)"
   ]
  },
  {
   "cell_type": "code",
   "execution_count": 6,
   "metadata": {
    "scrolled": true
   },
   "outputs": [
    {
     "name": "stdout",
     "output_type": "stream",
     "text": [
      "Loading data...\n",
      "Loaded /share/lazy/sokoloff/ML-data_A/Aug14_80K_train.h5 in 13.33 s\n",
      "Loaded /share/lazy/sokoloff/ML-data_AA/Oct03_80K_train.h5 in 11.52 s\n",
      "Loaded /share/lazy/will/ML_mdsA/June30_2020_80k_1.h5 in 11.66 s\n",
      "Loaded /share/lazy/will/ML_mdsA/June30_2020_80k_3.h5 in 11.72 s\n",
      "Constructing 320000 event dataset took 4.309 s\n",
      "Loading data...\n",
      "Loaded /share/lazy/sokoloff/ML-data_AA/Oct03_20K_val.h5 in 2.822 s\n",
      "Constructing 9984 event dataset took 0.1066 s\n"
     ]
    }
   ],
   "source": [
    "## newer vernacular\n",
    "## Training dataset. You can put as many files here as desired.\n",
    "\n",
    "## in this DEMO example we use only one 80K training set -- the model starts with well-trained weights,\n",
    "## and using a smaller training set reduces both the time to load the data and the time to train an epoch\n",
    "##  set the option load_XandXsq = True to use both DKE and KDE^2 as input features\n",
    "train_loader = collect_data('/share/lazy/sokoloff/ML-data_A/Aug14_80K_train.h5',\n",
    "                             '/share/lazy/sokoloff/ML-data_AA/Oct03_80K_train.h5',\n",
    "#                             '/share/lazy/sokoloff/ML-data_AA/Oct03_40K_train.h5',\n",
    "                             '/share/lazy/will/ML_mdsA/June30_2020_80k_1.h5',\n",
    "                             '/share/lazy/will/ML_mdsA/June30_2020_80k_3.h5',\n",
    "#                             '/share/lazy/will/ML_mdsA/June30_2020_80k_4.h5',\n",
    "#                             '/share/lazy/will/ML_mdsA/June30_2020_80k_5.h5',\n",
    "#                             '/share/lazy/will/ML_mdsA/June30_2020_80k_6.h5',\n",
    "#                             '/share/lazy/will/ML_mdsA/June30_2020_80k_7.h5',\n",
    "#                             '/share/lazy/will/ML_mdsA/June30_2020_80k_8.h5',\n",
    "#                             '/share/lazy/will/ML_mdsA/June30_2020_80k_9.h5',\n",
    "                            #'/share/lazy/sokoloff/ML-data_AA/Oct03_80K2_train.h5',\n",
    "                             batch_size=args.batch_size,\n",
    "## if we are using a larger dataset (240K events, with the datasets above, and 11 GB  of GPU memory),\n",
    "## not the dataset will overflow the GPU memory; device=device will allow the data to move back\n",
    "## and forth between the CPU and GPU memory. While this allows use of a larger dataset, it slows\n",
    "## down performance by about 10%.  So comment out when not needed.\n",
    "                            device=device,\n",
    "                            masking=True, shuffle=True,\n",
    "                            load_XandXsq=False,\n",
    "                            load_xy=False)\n",
    "\n",
    "# Validation dataset. You can slice to reduce the size.\n",
    "## dataAA -> /share/lazy/sokoloff/ML-data_AA/\n",
    "val_loader = collect_data('/share/lazy/sokoloff/ML-data_AA/Oct03_20K_val.h5',\n",
    "## mds val_loader = collect_data('dataAA/HLT1CPU_1kevts_val.h5',\n",
    "\n",
    "                          batch_size=args.batch_size,\n",
    "                          slice=slice(256 * 39),\n",
    "                          device=device,\n",
    "                          masking=True, shuffle=False,\n",
    "                          load_XandXsq=False,\n",
    "                          load_xy=False)"
   ]
  },
  {
   "cell_type": "markdown",
   "metadata": {},
   "source": [
    "# Preparing the model"
   ]
  },
  {
   "cell_type": "markdown",
   "metadata": {},
   "source": [
    "Prepare a model, use multiple GPUs if they are VISIBLE, and move the model to the device."
   ]
  },
  {
   "cell_type": "code",
   "execution_count": 7,
   "metadata": {
    "scrolled": true
   },
   "outputs": [
    {
     "name": "stderr",
     "output_type": "stream",
     "text": [
      "WARNING:root:Malformed experiment 'ML'. Detailed error Yaml file '/share/lazy/pv-finder_model_repo/ML/meta.yaml' does not exist.\n",
      "Traceback (most recent call last):\n",
      "  File \"/home/michael24peters/.local/lib/python3.7/site-packages/mlflow/store/tracking/file_store.py\", line 197, in list_experiments\n",
      "    experiment = self._get_experiment(exp_id, view_type)\n",
      "  File \"/home/michael24peters/.local/lib/python3.7/site-packages/mlflow/store/tracking/file_store.py\", line 260, in _get_experiment\n",
      "    meta = read_yaml(experiment_dir, FileStore.META_DATA_FILE_NAME)\n",
      "  File \"/home/michael24peters/.local/lib/python3.7/site-packages/mlflow/utils/file_utils.py\", line 167, in read_yaml\n",
      "    raise MissingConfigException(\"Yaml file '%s' does not exist.\" % file_path)\n",
      "mlflow.exceptions.MissingConfigException: Yaml file '/share/lazy/pv-finder_model_repo/ML/meta.yaml' does not exist.\n"
     ]
    }
   ],
   "source": [
    "model = Model()\n",
    "\n",
    "##summary(model, input_size=(4, 4000))\n",
    "##print(model.parameters)\n",
    "\n",
    "mlflow.tracking.set_tracking_uri('file:/share/lazy/pv-finder_model_repo')\n",
    "mlflow.set_experiment('ALLCNN')"
   ]
  },
  {
   "cell_type": "code",
   "execution_count": 8,
   "metadata": {
    "scrolled": true
   },
   "outputs": [
    {
     "name": "stdout",
     "output_type": "stream",
     "text": [
      "Let's use 1 GPUs!\n"
     ]
    }
   ],
   "source": [
    "print(\"Let's use\", torch.cuda.device_count(), \"GPUs!\")\n",
    "if torch.cuda.device_count() > 1:\n",
    "    model = torch.nn.DataParallel(model)"
   ]
  },
  {
   "cell_type": "code",
   "execution_count": 9,
   "metadata": {
    "scrolled": true
   },
   "outputs": [
    {
     "name": "stdout",
     "output_type": "stream",
     "text": [
      "we also froze 11 weights\n",
      "Of the 12 parameter layers to update in the current model, 10 were loaded\n",
      "Of the 12 parameter layers to update in the current model, 12 were loaded\n"
     ]
    }
   ],
   "source": [
    "##  mds 200121 loss = Loss(epsilon=1e-5,coefficient=1.0)\n",
    "loss = Loss(epsilon=1e-5,coefficient=2.5)\n",
    "optimizer = torch.optim.Adam(model.parameters(), lr=args.lr)\n",
    "\n",
    "##  use the first five layers from a pre-existing model\n",
    "##  see example at https://discuss.pytorch.org/t/how-to-load-part-of-pre-trained-model/1113\n",
    "##   ML -> /share/lazy/sokoloff/ML\n",
    "\n",
    "path = 'run_stats.pyt'\n",
    "load_full_state(model, optimizer, path, freeze_weights=True)\n",
    "# For other pretrained models, go to MLFlow and find the path for \"run_stats.pyt\"\n",
    "pretrained_dict = '/share/lazy/pv-finder_model_repo/7/402e6f33963b4a12b6354008af048e14/artifacts/run_stats.pyt'\n",
    "load_full_state(model, optimizer, pretrained_dict)"
   ]
  },
  {
   "cell_type": "code",
   "execution_count": 10,
   "metadata": {},
   "outputs": [
    {
     "data": {
      "text/plain": [
       "SimpleCNN5Layer_Ca(\n",
       "  (conv1): Conv1d(1, 20, kernel_size=(25,), stride=(1,), padding=(12,))\n",
       "  (conv2): Conv1d(20, 10, kernel_size=(15,), stride=(1,), padding=(7,))\n",
       "  (conv3): Conv1d(10, 10, kernel_size=(15,), stride=(1,), padding=(7,))\n",
       "  (conv4): Conv1d(10, 10, kernel_size=(15,), stride=(1,), padding=(7,))\n",
       "  (conv5): Conv1d(10, 1, kernel_size=(5,), stride=(1,), padding=(2,))\n",
       "  (conv1dropout): Dropout(p=0.15, inplace=False)\n",
       "  (conv2dropout): Dropout(p=0.15, inplace=False)\n",
       "  (conv3dropout): Dropout(p=0.15, inplace=False)\n",
       "  (conv4dropout): Dropout(p=0.15, inplace=False)\n",
       "  (conv5dropout): Dropout(p=0.35, inplace=False)\n",
       "  (fc1): Linear(in_features=4000, out_features=4000, bias=True)\n",
       ")"
      ]
     },
     "execution_count": 10,
     "metadata": {},
     "output_type": "execute_result"
    }
   ],
   "source": [
    "model.to(device)"
   ]
  },
  {
   "cell_type": "markdown",
   "metadata": {},
   "source": [
    "## Train \n",
    "\n",
    "\n",
    "\n",
    "The body of this loop runs once per epoch. Results is a named tuple of values (loss per epoch for training and validation, time each). Start by setting up a plot first:"
   ]
  },
  {
   "cell_type": "code",
   "execution_count": 11,
   "metadata": {},
   "outputs": [
    {
     "data": {
      "application/javascript": [
       "/* Put everything inside the global mpl namespace */\n",
       "window.mpl = {};\n",
       "\n",
       "\n",
       "mpl.get_websocket_type = function() {\n",
       "    if (typeof(WebSocket) !== 'undefined') {\n",
       "        return WebSocket;\n",
       "    } else if (typeof(MozWebSocket) !== 'undefined') {\n",
       "        return MozWebSocket;\n",
       "    } else {\n",
       "        alert('Your browser does not have WebSocket support. ' +\n",
       "              'Please try Chrome, Safari or Firefox ≥ 6. ' +\n",
       "              'Firefox 4 and 5 are also supported but you ' +\n",
       "              'have to enable WebSockets in about:config.');\n",
       "    };\n",
       "}\n",
       "\n",
       "mpl.figure = function(figure_id, websocket, ondownload, parent_element) {\n",
       "    this.id = figure_id;\n",
       "\n",
       "    this.ws = websocket;\n",
       "\n",
       "    this.supports_binary = (this.ws.binaryType != undefined);\n",
       "\n",
       "    if (!this.supports_binary) {\n",
       "        var warnings = document.getElementById(\"mpl-warnings\");\n",
       "        if (warnings) {\n",
       "            warnings.style.display = 'block';\n",
       "            warnings.textContent = (\n",
       "                \"This browser does not support binary websocket messages. \" +\n",
       "                    \"Performance may be slow.\");\n",
       "        }\n",
       "    }\n",
       "\n",
       "    this.imageObj = new Image();\n",
       "\n",
       "    this.context = undefined;\n",
       "    this.message = undefined;\n",
       "    this.canvas = undefined;\n",
       "    this.rubberband_canvas = undefined;\n",
       "    this.rubberband_context = undefined;\n",
       "    this.format_dropdown = undefined;\n",
       "\n",
       "    this.image_mode = 'full';\n",
       "\n",
       "    this.root = $('<div/>');\n",
       "    this._root_extra_style(this.root)\n",
       "    this.root.attr('style', 'display: inline-block');\n",
       "\n",
       "    $(parent_element).append(this.root);\n",
       "\n",
       "    this._init_header(this);\n",
       "    this._init_canvas(this);\n",
       "    this._init_toolbar(this);\n",
       "\n",
       "    var fig = this;\n",
       "\n",
       "    this.waiting = false;\n",
       "\n",
       "    this.ws.onopen =  function () {\n",
       "            fig.send_message(\"supports_binary\", {value: fig.supports_binary});\n",
       "            fig.send_message(\"send_image_mode\", {});\n",
       "            if (mpl.ratio != 1) {\n",
       "                fig.send_message(\"set_dpi_ratio\", {'dpi_ratio': mpl.ratio});\n",
       "            }\n",
       "            fig.send_message(\"refresh\", {});\n",
       "        }\n",
       "\n",
       "    this.imageObj.onload = function() {\n",
       "            if (fig.image_mode == 'full') {\n",
       "                // Full images could contain transparency (where diff images\n",
       "                // almost always do), so we need to clear the canvas so that\n",
       "                // there is no ghosting.\n",
       "                fig.context.clearRect(0, 0, fig.canvas.width, fig.canvas.height);\n",
       "            }\n",
       "            fig.context.drawImage(fig.imageObj, 0, 0);\n",
       "        };\n",
       "\n",
       "    this.imageObj.onunload = function() {\n",
       "        fig.ws.close();\n",
       "    }\n",
       "\n",
       "    this.ws.onmessage = this._make_on_message_function(this);\n",
       "\n",
       "    this.ondownload = ondownload;\n",
       "}\n",
       "\n",
       "mpl.figure.prototype._init_header = function() {\n",
       "    var titlebar = $(\n",
       "        '<div class=\"ui-dialog-titlebar ui-widget-header ui-corner-all ' +\n",
       "        'ui-helper-clearfix\"/>');\n",
       "    var titletext = $(\n",
       "        '<div class=\"ui-dialog-title\" style=\"width: 100%; ' +\n",
       "        'text-align: center; padding: 3px;\"/>');\n",
       "    titlebar.append(titletext)\n",
       "    this.root.append(titlebar);\n",
       "    this.header = titletext[0];\n",
       "}\n",
       "\n",
       "\n",
       "\n",
       "mpl.figure.prototype._canvas_extra_style = function(canvas_div) {\n",
       "\n",
       "}\n",
       "\n",
       "\n",
       "mpl.figure.prototype._root_extra_style = function(canvas_div) {\n",
       "\n",
       "}\n",
       "\n",
       "mpl.figure.prototype._init_canvas = function() {\n",
       "    var fig = this;\n",
       "\n",
       "    var canvas_div = $('<div/>');\n",
       "\n",
       "    canvas_div.attr('style', 'position: relative; clear: both; outline: 0');\n",
       "\n",
       "    function canvas_keyboard_event(event) {\n",
       "        return fig.key_event(event, event['data']);\n",
       "    }\n",
       "\n",
       "    canvas_div.keydown('key_press', canvas_keyboard_event);\n",
       "    canvas_div.keyup('key_release', canvas_keyboard_event);\n",
       "    this.canvas_div = canvas_div\n",
       "    this._canvas_extra_style(canvas_div)\n",
       "    this.root.append(canvas_div);\n",
       "\n",
       "    var canvas = $('<canvas/>');\n",
       "    canvas.addClass('mpl-canvas');\n",
       "    canvas.attr('style', \"left: 0; top: 0; z-index: 0; outline: 0\")\n",
       "\n",
       "    this.canvas = canvas[0];\n",
       "    this.context = canvas[0].getContext(\"2d\");\n",
       "\n",
       "    var backingStore = this.context.backingStorePixelRatio ||\n",
       "\tthis.context.webkitBackingStorePixelRatio ||\n",
       "\tthis.context.mozBackingStorePixelRatio ||\n",
       "\tthis.context.msBackingStorePixelRatio ||\n",
       "\tthis.context.oBackingStorePixelRatio ||\n",
       "\tthis.context.backingStorePixelRatio || 1;\n",
       "\n",
       "    mpl.ratio = (window.devicePixelRatio || 1) / backingStore;\n",
       "\n",
       "    var rubberband = $('<canvas/>');\n",
       "    rubberband.attr('style', \"position: absolute; left: 0; top: 0; z-index: 1;\")\n",
       "\n",
       "    var pass_mouse_events = true;\n",
       "\n",
       "    canvas_div.resizable({\n",
       "        start: function(event, ui) {\n",
       "            pass_mouse_events = false;\n",
       "        },\n",
       "        resize: function(event, ui) {\n",
       "            fig.request_resize(ui.size.width, ui.size.height);\n",
       "        },\n",
       "        stop: function(event, ui) {\n",
       "            pass_mouse_events = true;\n",
       "            fig.request_resize(ui.size.width, ui.size.height);\n",
       "        },\n",
       "    });\n",
       "\n",
       "    function mouse_event_fn(event) {\n",
       "        if (pass_mouse_events)\n",
       "            return fig.mouse_event(event, event['data']);\n",
       "    }\n",
       "\n",
       "    rubberband.mousedown('button_press', mouse_event_fn);\n",
       "    rubberband.mouseup('button_release', mouse_event_fn);\n",
       "    // Throttle sequential mouse events to 1 every 20ms.\n",
       "    rubberband.mousemove('motion_notify', mouse_event_fn);\n",
       "\n",
       "    rubberband.mouseenter('figure_enter', mouse_event_fn);\n",
       "    rubberband.mouseleave('figure_leave', mouse_event_fn);\n",
       "\n",
       "    canvas_div.on(\"wheel\", function (event) {\n",
       "        event = event.originalEvent;\n",
       "        event['data'] = 'scroll'\n",
       "        if (event.deltaY < 0) {\n",
       "            event.step = 1;\n",
       "        } else {\n",
       "            event.step = -1;\n",
       "        }\n",
       "        mouse_event_fn(event);\n",
       "    });\n",
       "\n",
       "    canvas_div.append(canvas);\n",
       "    canvas_div.append(rubberband);\n",
       "\n",
       "    this.rubberband = rubberband;\n",
       "    this.rubberband_canvas = rubberband[0];\n",
       "    this.rubberband_context = rubberband[0].getContext(\"2d\");\n",
       "    this.rubberband_context.strokeStyle = \"#000000\";\n",
       "\n",
       "    this._resize_canvas = function(width, height) {\n",
       "        // Keep the size of the canvas, canvas container, and rubber band\n",
       "        // canvas in synch.\n",
       "        canvas_div.css('width', width)\n",
       "        canvas_div.css('height', height)\n",
       "\n",
       "        canvas.attr('width', width * mpl.ratio);\n",
       "        canvas.attr('height', height * mpl.ratio);\n",
       "        canvas.attr('style', 'width: ' + width + 'px; height: ' + height + 'px;');\n",
       "\n",
       "        rubberband.attr('width', width);\n",
       "        rubberband.attr('height', height);\n",
       "    }\n",
       "\n",
       "    // Set the figure to an initial 600x600px, this will subsequently be updated\n",
       "    // upon first draw.\n",
       "    this._resize_canvas(600, 600);\n",
       "\n",
       "    // Disable right mouse context menu.\n",
       "    $(this.rubberband_canvas).bind(\"contextmenu\",function(e){\n",
       "        return false;\n",
       "    });\n",
       "\n",
       "    function set_focus () {\n",
       "        canvas.focus();\n",
       "        canvas_div.focus();\n",
       "    }\n",
       "\n",
       "    window.setTimeout(set_focus, 100);\n",
       "}\n",
       "\n",
       "mpl.figure.prototype._init_toolbar = function() {\n",
       "    var fig = this;\n",
       "\n",
       "    var nav_element = $('<div/>');\n",
       "    nav_element.attr('style', 'width: 100%');\n",
       "    this.root.append(nav_element);\n",
       "\n",
       "    // Define a callback function for later on.\n",
       "    function toolbar_event(event) {\n",
       "        return fig.toolbar_button_onclick(event['data']);\n",
       "    }\n",
       "    function toolbar_mouse_event(event) {\n",
       "        return fig.toolbar_button_onmouseover(event['data']);\n",
       "    }\n",
       "\n",
       "    for(var toolbar_ind in mpl.toolbar_items) {\n",
       "        var name = mpl.toolbar_items[toolbar_ind][0];\n",
       "        var tooltip = mpl.toolbar_items[toolbar_ind][1];\n",
       "        var image = mpl.toolbar_items[toolbar_ind][2];\n",
       "        var method_name = mpl.toolbar_items[toolbar_ind][3];\n",
       "\n",
       "        if (!name) {\n",
       "            // put a spacer in here.\n",
       "            continue;\n",
       "        }\n",
       "        var button = $('<button/>');\n",
       "        button.addClass('ui-button ui-widget ui-state-default ui-corner-all ' +\n",
       "                        'ui-button-icon-only');\n",
       "        button.attr('role', 'button');\n",
       "        button.attr('aria-disabled', 'false');\n",
       "        button.click(method_name, toolbar_event);\n",
       "        button.mouseover(tooltip, toolbar_mouse_event);\n",
       "\n",
       "        var icon_img = $('<span/>');\n",
       "        icon_img.addClass('ui-button-icon-primary ui-icon');\n",
       "        icon_img.addClass(image);\n",
       "        icon_img.addClass('ui-corner-all');\n",
       "\n",
       "        var tooltip_span = $('<span/>');\n",
       "        tooltip_span.addClass('ui-button-text');\n",
       "        tooltip_span.html(tooltip);\n",
       "\n",
       "        button.append(icon_img);\n",
       "        button.append(tooltip_span);\n",
       "\n",
       "        nav_element.append(button);\n",
       "    }\n",
       "\n",
       "    var fmt_picker_span = $('<span/>');\n",
       "\n",
       "    var fmt_picker = $('<select/>');\n",
       "    fmt_picker.addClass('mpl-toolbar-option ui-widget ui-widget-content');\n",
       "    fmt_picker_span.append(fmt_picker);\n",
       "    nav_element.append(fmt_picker_span);\n",
       "    this.format_dropdown = fmt_picker[0];\n",
       "\n",
       "    for (var ind in mpl.extensions) {\n",
       "        var fmt = mpl.extensions[ind];\n",
       "        var option = $(\n",
       "            '<option/>', {selected: fmt === mpl.default_extension}).html(fmt);\n",
       "        fmt_picker.append(option);\n",
       "    }\n",
       "\n",
       "    // Add hover states to the ui-buttons\n",
       "    $( \".ui-button\" ).hover(\n",
       "        function() { $(this).addClass(\"ui-state-hover\");},\n",
       "        function() { $(this).removeClass(\"ui-state-hover\");}\n",
       "    );\n",
       "\n",
       "    var status_bar = $('<span class=\"mpl-message\"/>');\n",
       "    nav_element.append(status_bar);\n",
       "    this.message = status_bar[0];\n",
       "}\n",
       "\n",
       "mpl.figure.prototype.request_resize = function(x_pixels, y_pixels) {\n",
       "    // Request matplotlib to resize the figure. Matplotlib will then trigger a resize in the client,\n",
       "    // which will in turn request a refresh of the image.\n",
       "    this.send_message('resize', {'width': x_pixels, 'height': y_pixels});\n",
       "}\n",
       "\n",
       "mpl.figure.prototype.send_message = function(type, properties) {\n",
       "    properties['type'] = type;\n",
       "    properties['figure_id'] = this.id;\n",
       "    this.ws.send(JSON.stringify(properties));\n",
       "}\n",
       "\n",
       "mpl.figure.prototype.send_draw_message = function() {\n",
       "    if (!this.waiting) {\n",
       "        this.waiting = true;\n",
       "        this.ws.send(JSON.stringify({type: \"draw\", figure_id: this.id}));\n",
       "    }\n",
       "}\n",
       "\n",
       "\n",
       "mpl.figure.prototype.handle_save = function(fig, msg) {\n",
       "    var format_dropdown = fig.format_dropdown;\n",
       "    var format = format_dropdown.options[format_dropdown.selectedIndex].value;\n",
       "    fig.ondownload(fig, format);\n",
       "}\n",
       "\n",
       "\n",
       "mpl.figure.prototype.handle_resize = function(fig, msg) {\n",
       "    var size = msg['size'];\n",
       "    if (size[0] != fig.canvas.width || size[1] != fig.canvas.height) {\n",
       "        fig._resize_canvas(size[0], size[1]);\n",
       "        fig.send_message(\"refresh\", {});\n",
       "    };\n",
       "}\n",
       "\n",
       "mpl.figure.prototype.handle_rubberband = function(fig, msg) {\n",
       "    var x0 = msg['x0'] / mpl.ratio;\n",
       "    var y0 = (fig.canvas.height - msg['y0']) / mpl.ratio;\n",
       "    var x1 = msg['x1'] / mpl.ratio;\n",
       "    var y1 = (fig.canvas.height - msg['y1']) / mpl.ratio;\n",
       "    x0 = Math.floor(x0) + 0.5;\n",
       "    y0 = Math.floor(y0) + 0.5;\n",
       "    x1 = Math.floor(x1) + 0.5;\n",
       "    y1 = Math.floor(y1) + 0.5;\n",
       "    var min_x = Math.min(x0, x1);\n",
       "    var min_y = Math.min(y0, y1);\n",
       "    var width = Math.abs(x1 - x0);\n",
       "    var height = Math.abs(y1 - y0);\n",
       "\n",
       "    fig.rubberband_context.clearRect(\n",
       "        0, 0, fig.canvas.width / mpl.ratio, fig.canvas.height / mpl.ratio);\n",
       "\n",
       "    fig.rubberband_context.strokeRect(min_x, min_y, width, height);\n",
       "}\n",
       "\n",
       "mpl.figure.prototype.handle_figure_label = function(fig, msg) {\n",
       "    // Updates the figure title.\n",
       "    fig.header.textContent = msg['label'];\n",
       "}\n",
       "\n",
       "mpl.figure.prototype.handle_cursor = function(fig, msg) {\n",
       "    var cursor = msg['cursor'];\n",
       "    switch(cursor)\n",
       "    {\n",
       "    case 0:\n",
       "        cursor = 'pointer';\n",
       "        break;\n",
       "    case 1:\n",
       "        cursor = 'default';\n",
       "        break;\n",
       "    case 2:\n",
       "        cursor = 'crosshair';\n",
       "        break;\n",
       "    case 3:\n",
       "        cursor = 'move';\n",
       "        break;\n",
       "    }\n",
       "    fig.rubberband_canvas.style.cursor = cursor;\n",
       "}\n",
       "\n",
       "mpl.figure.prototype.handle_message = function(fig, msg) {\n",
       "    fig.message.textContent = msg['message'];\n",
       "}\n",
       "\n",
       "mpl.figure.prototype.handle_draw = function(fig, msg) {\n",
       "    // Request the server to send over a new figure.\n",
       "    fig.send_draw_message();\n",
       "}\n",
       "\n",
       "mpl.figure.prototype.handle_image_mode = function(fig, msg) {\n",
       "    fig.image_mode = msg['mode'];\n",
       "}\n",
       "\n",
       "mpl.figure.prototype.updated_canvas_event = function() {\n",
       "    // Called whenever the canvas gets updated.\n",
       "    this.send_message(\"ack\", {});\n",
       "}\n",
       "\n",
       "// A function to construct a web socket function for onmessage handling.\n",
       "// Called in the figure constructor.\n",
       "mpl.figure.prototype._make_on_message_function = function(fig) {\n",
       "    return function socket_on_message(evt) {\n",
       "        if (evt.data instanceof Blob) {\n",
       "            /* FIXME: We get \"Resource interpreted as Image but\n",
       "             * transferred with MIME type text/plain:\" errors on\n",
       "             * Chrome.  But how to set the MIME type?  It doesn't seem\n",
       "             * to be part of the websocket stream */\n",
       "            evt.data.type = \"image/png\";\n",
       "\n",
       "            /* Free the memory for the previous frames */\n",
       "            if (fig.imageObj.src) {\n",
       "                (window.URL || window.webkitURL).revokeObjectURL(\n",
       "                    fig.imageObj.src);\n",
       "            }\n",
       "\n",
       "            fig.imageObj.src = (window.URL || window.webkitURL).createObjectURL(\n",
       "                evt.data);\n",
       "            fig.updated_canvas_event();\n",
       "            fig.waiting = false;\n",
       "            return;\n",
       "        }\n",
       "        else if (typeof evt.data === 'string' && evt.data.slice(0, 21) == \"data:image/png;base64\") {\n",
       "            fig.imageObj.src = evt.data;\n",
       "            fig.updated_canvas_event();\n",
       "            fig.waiting = false;\n",
       "            return;\n",
       "        }\n",
       "\n",
       "        var msg = JSON.parse(evt.data);\n",
       "        var msg_type = msg['type'];\n",
       "\n",
       "        // Call the  \"handle_{type}\" callback, which takes\n",
       "        // the figure and JSON message as its only arguments.\n",
       "        try {\n",
       "            var callback = fig[\"handle_\" + msg_type];\n",
       "        } catch (e) {\n",
       "            console.log(\"No handler for the '\" + msg_type + \"' message type: \", msg);\n",
       "            return;\n",
       "        }\n",
       "\n",
       "        if (callback) {\n",
       "            try {\n",
       "                // console.log(\"Handling '\" + msg_type + \"' message: \", msg);\n",
       "                callback(fig, msg);\n",
       "            } catch (e) {\n",
       "                console.log(\"Exception inside the 'handler_\" + msg_type + \"' callback:\", e, e.stack, msg);\n",
       "            }\n",
       "        }\n",
       "    };\n",
       "}\n",
       "\n",
       "// from http://stackoverflow.com/questions/1114465/getting-mouse-location-in-canvas\n",
       "mpl.findpos = function(e) {\n",
       "    //this section is from http://www.quirksmode.org/js/events_properties.html\n",
       "    var targ;\n",
       "    if (!e)\n",
       "        e = window.event;\n",
       "    if (e.target)\n",
       "        targ = e.target;\n",
       "    else if (e.srcElement)\n",
       "        targ = e.srcElement;\n",
       "    if (targ.nodeType == 3) // defeat Safari bug\n",
       "        targ = targ.parentNode;\n",
       "\n",
       "    // jQuery normalizes the pageX and pageY\n",
       "    // pageX,Y are the mouse positions relative to the document\n",
       "    // offset() returns the position of the element relative to the document\n",
       "    var x = e.pageX - $(targ).offset().left;\n",
       "    var y = e.pageY - $(targ).offset().top;\n",
       "\n",
       "    return {\"x\": x, \"y\": y};\n",
       "};\n",
       "\n",
       "/*\n",
       " * return a copy of an object with only non-object keys\n",
       " * we need this to avoid circular references\n",
       " * http://stackoverflow.com/a/24161582/3208463\n",
       " */\n",
       "function simpleKeys (original) {\n",
       "  return Object.keys(original).reduce(function (obj, key) {\n",
       "    if (typeof original[key] !== 'object')\n",
       "        obj[key] = original[key]\n",
       "    return obj;\n",
       "  }, {});\n",
       "}\n",
       "\n",
       "mpl.figure.prototype.mouse_event = function(event, name) {\n",
       "    var canvas_pos = mpl.findpos(event)\n",
       "\n",
       "    if (name === 'button_press')\n",
       "    {\n",
       "        this.canvas.focus();\n",
       "        this.canvas_div.focus();\n",
       "    }\n",
       "\n",
       "    var x = canvas_pos.x * mpl.ratio;\n",
       "    var y = canvas_pos.y * mpl.ratio;\n",
       "\n",
       "    this.send_message(name, {x: x, y: y, button: event.button,\n",
       "                             step: event.step,\n",
       "                             guiEvent: simpleKeys(event)});\n",
       "\n",
       "    /* This prevents the web browser from automatically changing to\n",
       "     * the text insertion cursor when the button is pressed.  We want\n",
       "     * to control all of the cursor setting manually through the\n",
       "     * 'cursor' event from matplotlib */\n",
       "    event.preventDefault();\n",
       "    return false;\n",
       "}\n",
       "\n",
       "mpl.figure.prototype._key_event_extra = function(event, name) {\n",
       "    // Handle any extra behaviour associated with a key event\n",
       "}\n",
       "\n",
       "mpl.figure.prototype.key_event = function(event, name) {\n",
       "\n",
       "    // Prevent repeat events\n",
       "    if (name == 'key_press')\n",
       "    {\n",
       "        if (event.which === this._key)\n",
       "            return;\n",
       "        else\n",
       "            this._key = event.which;\n",
       "    }\n",
       "    if (name == 'key_release')\n",
       "        this._key = null;\n",
       "\n",
       "    var value = '';\n",
       "    if (event.ctrlKey && event.which != 17)\n",
       "        value += \"ctrl+\";\n",
       "    if (event.altKey && event.which != 18)\n",
       "        value += \"alt+\";\n",
       "    if (event.shiftKey && event.which != 16)\n",
       "        value += \"shift+\";\n",
       "\n",
       "    value += 'k';\n",
       "    value += event.which.toString();\n",
       "\n",
       "    this._key_event_extra(event, name);\n",
       "\n",
       "    this.send_message(name, {key: value,\n",
       "                             guiEvent: simpleKeys(event)});\n",
       "    return false;\n",
       "}\n",
       "\n",
       "mpl.figure.prototype.toolbar_button_onclick = function(name) {\n",
       "    if (name == 'download') {\n",
       "        this.handle_save(this, null);\n",
       "    } else {\n",
       "        this.send_message(\"toolbar_button\", {name: name});\n",
       "    }\n",
       "};\n",
       "\n",
       "mpl.figure.prototype.toolbar_button_onmouseover = function(tooltip) {\n",
       "    this.message.textContent = tooltip;\n",
       "};\n",
       "mpl.toolbar_items = [[\"Home\", \"Reset original view\", \"fa fa-home icon-home\", \"home\"], [\"Back\", \"Back to previous view\", \"fa fa-arrow-left icon-arrow-left\", \"back\"], [\"Forward\", \"Forward to next view\", \"fa fa-arrow-right icon-arrow-right\", \"forward\"], [\"\", \"\", \"\", \"\"], [\"Pan\", \"Pan axes with left mouse, zoom with right\", \"fa fa-arrows icon-move\", \"pan\"], [\"Zoom\", \"Zoom to rectangle\", \"fa fa-square-o icon-check-empty\", \"zoom\"], [\"\", \"\", \"\", \"\"], [\"Download\", \"Download plot\", \"fa fa-floppy-o icon-save\", \"download\"]];\n",
       "\n",
       "mpl.extensions = [\"eps\", \"jpeg\", \"pdf\", \"png\", \"ps\", \"raw\", \"svg\", \"tif\"];\n",
       "\n",
       "mpl.default_extension = \"png\";var comm_websocket_adapter = function(comm) {\n",
       "    // Create a \"websocket\"-like object which calls the given IPython comm\n",
       "    // object with the appropriate methods. Currently this is a non binary\n",
       "    // socket, so there is still some room for performance tuning.\n",
       "    var ws = {};\n",
       "\n",
       "    ws.close = function() {\n",
       "        comm.close()\n",
       "    };\n",
       "    ws.send = function(m) {\n",
       "        //console.log('sending', m);\n",
       "        comm.send(m);\n",
       "    };\n",
       "    // Register the callback with on_msg.\n",
       "    comm.on_msg(function(msg) {\n",
       "        //console.log('receiving', msg['content']['data'], msg);\n",
       "        // Pass the mpl event to the overridden (by mpl) onmessage function.\n",
       "        ws.onmessage(msg['content']['data'])\n",
       "    });\n",
       "    return ws;\n",
       "}\n",
       "\n",
       "mpl.mpl_figure_comm = function(comm, msg) {\n",
       "    // This is the function which gets called when the mpl process\n",
       "    // starts-up an IPython Comm through the \"matplotlib\" channel.\n",
       "\n",
       "    var id = msg.content.data.id;\n",
       "    // Get hold of the div created by the display call when the Comm\n",
       "    // socket was opened in Python.\n",
       "    var element = $(\"#\" + id);\n",
       "    var ws_proxy = comm_websocket_adapter(comm)\n",
       "\n",
       "    function ondownload(figure, format) {\n",
       "        window.open(figure.imageObj.src);\n",
       "    }\n",
       "\n",
       "    var fig = new mpl.figure(id, ws_proxy,\n",
       "                           ondownload,\n",
       "                           element.get(0));\n",
       "\n",
       "    // Call onopen now - mpl needs it, as it is assuming we've passed it a real\n",
       "    // web socket which is closed, not our websocket->open comm proxy.\n",
       "    ws_proxy.onopen();\n",
       "\n",
       "    fig.parent_element = element.get(0);\n",
       "    fig.cell_info = mpl.find_output_cell(\"<div id='\" + id + \"'></div>\");\n",
       "    if (!fig.cell_info) {\n",
       "        console.error(\"Failed to find cell for figure\", id, fig);\n",
       "        return;\n",
       "    }\n",
       "\n",
       "    var output_index = fig.cell_info[2]\n",
       "    var cell = fig.cell_info[0];\n",
       "\n",
       "};\n",
       "\n",
       "mpl.figure.prototype.handle_close = function(fig, msg) {\n",
       "    var width = fig.canvas.width/mpl.ratio\n",
       "    fig.root.unbind('remove')\n",
       "\n",
       "    // Update the output cell to use the data from the current canvas.\n",
       "    fig.push_to_output();\n",
       "    var dataURL = fig.canvas.toDataURL();\n",
       "    // Re-enable the keyboard manager in IPython - without this line, in FF,\n",
       "    // the notebook keyboard shortcuts fail.\n",
       "    IPython.keyboard_manager.enable()\n",
       "    $(fig.parent_element).html('<img src=\"' + dataURL + '\" width=\"' + width + '\">');\n",
       "    fig.close_ws(fig, msg);\n",
       "}\n",
       "\n",
       "mpl.figure.prototype.close_ws = function(fig, msg){\n",
       "    fig.send_message('closing', msg);\n",
       "    // fig.ws.close()\n",
       "}\n",
       "\n",
       "mpl.figure.prototype.push_to_output = function(remove_interactive) {\n",
       "    // Turn the data on the canvas into data in the output cell.\n",
       "    var width = this.canvas.width/mpl.ratio\n",
       "    var dataURL = this.canvas.toDataURL();\n",
       "    this.cell_info[1]['text/html'] = '<img src=\"' + dataURL + '\" width=\"' + width + '\">';\n",
       "}\n",
       "\n",
       "mpl.figure.prototype.updated_canvas_event = function() {\n",
       "    // Tell IPython that the notebook contents must change.\n",
       "    IPython.notebook.set_dirty(true);\n",
       "    this.send_message(\"ack\", {});\n",
       "    var fig = this;\n",
       "    // Wait a second, then push the new image to the DOM so\n",
       "    // that it is saved nicely (might be nice to debounce this).\n",
       "    setTimeout(function () { fig.push_to_output() }, 1000);\n",
       "}\n",
       "\n",
       "mpl.figure.prototype._init_toolbar = function() {\n",
       "    var fig = this;\n",
       "\n",
       "    var nav_element = $('<div/>');\n",
       "    nav_element.attr('style', 'width: 100%');\n",
       "    this.root.append(nav_element);\n",
       "\n",
       "    // Define a callback function for later on.\n",
       "    function toolbar_event(event) {\n",
       "        return fig.toolbar_button_onclick(event['data']);\n",
       "    }\n",
       "    function toolbar_mouse_event(event) {\n",
       "        return fig.toolbar_button_onmouseover(event['data']);\n",
       "    }\n",
       "\n",
       "    for(var toolbar_ind in mpl.toolbar_items){\n",
       "        var name = mpl.toolbar_items[toolbar_ind][0];\n",
       "        var tooltip = mpl.toolbar_items[toolbar_ind][1];\n",
       "        var image = mpl.toolbar_items[toolbar_ind][2];\n",
       "        var method_name = mpl.toolbar_items[toolbar_ind][3];\n",
       "\n",
       "        if (!name) { continue; };\n",
       "\n",
       "        var button = $('<button class=\"btn btn-default\" href=\"#\" title=\"' + name + '\"><i class=\"fa ' + image + ' fa-lg\"></i></button>');\n",
       "        button.click(method_name, toolbar_event);\n",
       "        button.mouseover(tooltip, toolbar_mouse_event);\n",
       "        nav_element.append(button);\n",
       "    }\n",
       "\n",
       "    // Add the status bar.\n",
       "    var status_bar = $('<span class=\"mpl-message\" style=\"text-align:right; float: right;\"/>');\n",
       "    nav_element.append(status_bar);\n",
       "    this.message = status_bar[0];\n",
       "\n",
       "    // Add the close button to the window.\n",
       "    var buttongrp = $('<div class=\"btn-group inline pull-right\"></div>');\n",
       "    var button = $('<button class=\"btn btn-mini btn-primary\" href=\"#\" title=\"Stop Interaction\"><i class=\"fa fa-power-off icon-remove icon-large\"></i></button>');\n",
       "    button.click(function (evt) { fig.handle_close(fig, {}); } );\n",
       "    button.mouseover('Stop Interaction', toolbar_mouse_event);\n",
       "    buttongrp.append(button);\n",
       "    var titlebar = this.root.find($('.ui-dialog-titlebar'));\n",
       "    titlebar.prepend(buttongrp);\n",
       "}\n",
       "\n",
       "mpl.figure.prototype._root_extra_style = function(el){\n",
       "    var fig = this\n",
       "    el.on(\"remove\", function(){\n",
       "\tfig.close_ws(fig, {});\n",
       "    });\n",
       "}\n",
       "\n",
       "mpl.figure.prototype._canvas_extra_style = function(el){\n",
       "    // this is important to make the div 'focusable\n",
       "    el.attr('tabindex', 0)\n",
       "    // reach out to IPython and tell the keyboard manager to turn it's self\n",
       "    // off when our div gets focus\n",
       "\n",
       "    // location in version 3\n",
       "    if (IPython.notebook.keyboard_manager) {\n",
       "        IPython.notebook.keyboard_manager.register_events(el);\n",
       "    }\n",
       "    else {\n",
       "        // location in version 2\n",
       "        IPython.keyboard_manager.register_events(el);\n",
       "    }\n",
       "\n",
       "}\n",
       "\n",
       "mpl.figure.prototype._key_event_extra = function(event, name) {\n",
       "    var manager = IPython.notebook.keyboard_manager;\n",
       "    if (!manager)\n",
       "        manager = IPython.keyboard_manager;\n",
       "\n",
       "    // Check for shift+enter\n",
       "    if (event.shiftKey && event.which == 13) {\n",
       "        this.canvas_div.blur();\n",
       "        // select the cell after this one\n",
       "        var index = IPython.notebook.find_cell_index(this.cell_info[0]);\n",
       "        IPython.notebook.select(index + 1);\n",
       "    }\n",
       "}\n",
       "\n",
       "mpl.figure.prototype.handle_save = function(fig, msg) {\n",
       "    fig.ondownload(fig, null);\n",
       "}\n",
       "\n",
       "\n",
       "mpl.find_output_cell = function(html_output) {\n",
       "    // Return the cell and output element which can be found *uniquely* in the notebook.\n",
       "    // Note - this is a bit hacky, but it is done because the \"notebook_saving.Notebook\"\n",
       "    // IPython event is triggered only after the cells have been serialised, which for\n",
       "    // our purposes (turning an active figure into a static one), is too late.\n",
       "    var cells = IPython.notebook.get_cells();\n",
       "    var ncells = cells.length;\n",
       "    for (var i=0; i<ncells; i++) {\n",
       "        var cell = cells[i];\n",
       "        if (cell.cell_type === 'code'){\n",
       "            for (var j=0; j<cell.output_area.outputs.length; j++) {\n",
       "                var data = cell.output_area.outputs[j];\n",
       "                if (data.data) {\n",
       "                    // IPython >= 3 moved mimebundle to data attribute of output\n",
       "                    data = data.data;\n",
       "                }\n",
       "                if (data['text/html'] == html_output) {\n",
       "                    return [cell, data, j];\n",
       "                }\n",
       "            }\n",
       "        }\n",
       "    }\n",
       "}\n",
       "\n",
       "// Register the function which deals with the matplotlib target/channel.\n",
       "// The kernel may be null if the page has been refreshed.\n",
       "if (IPython.notebook.kernel != null) {\n",
       "    IPython.notebook.kernel.comm_manager.register_target('matplotlib', mpl.mpl_figure_comm);\n",
       "}\n"
      ],
      "text/plain": [
       "<IPython.core.display.Javascript object>"
      ]
     },
     "metadata": {},
     "output_type": "display_data"
    },
    {
     "data": {
      "text/html": [
       "<img src=\"data:image/png;base64,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\" width=\"1000\">"
      ],
      "text/plain": [
       "<IPython.core.display.HTML object>"
      ]
     },
     "metadata": {},
     "output_type": "display_data"
    }
   ],
   "source": [
    "ax, tax, lax, lines = dual_train_plots()\n",
    "fig = ax.figure\n",
    "plt.tight_layout()\n",
    "# This gets built up during the run - do not rerun this cell\n",
    "results = pd.DataFrame([], columns=Results._fields)"
   ]
  },
  {
   "cell_type": "code",
   "execution_count": null,
   "metadata": {
    "scrolled": true
   },
   "outputs": [
    {
     "name": "stdout",
     "output_type": "stream",
     "text": [
      "for model:  SimpleCNN5Layer_Ca(\n",
      "  (conv1): Conv1d(1, 20, kernel_size=(25,), stride=(1,), padding=(12,))\n",
      "  (conv2): Conv1d(20, 10, kernel_size=(15,), stride=(1,), padding=(7,))\n",
      "  (conv3): Conv1d(10, 10, kernel_size=(15,), stride=(1,), padding=(7,))\n",
      "  (conv4): Conv1d(10, 10, kernel_size=(15,), stride=(1,), padding=(7,))\n",
      "  (conv5): Conv1d(10, 1, kernel_size=(5,), stride=(1,), padding=(2,))\n",
      "  (conv1dropout): Dropout(p=0.15, inplace=False)\n",
      "  (conv2dropout): Dropout(p=0.15, inplace=False)\n",
      "  (conv3dropout): Dropout(p=0.15, inplace=False)\n",
      "  (conv4dropout): Dropout(p=0.15, inplace=False)\n",
      "  (conv5dropout): Dropout(p=0.35, inplace=False)\n",
      "  (fc1): Linear(in_features=4000, out_features=4000, bias=True)\n",
      ")\n",
      "epoch_start 19\n",
      "batch_size 128\n",
      "epochs 200\n",
      "lr 0.001\n",
      "Number of batches: train = 2500, val = 78\n"
     ]
    },
    {
     "name": "stderr",
     "output_type": "stream",
     "text": [
      "/home/michael24peters/pv-finder_experimental/notebooks/model/training.py:95: TqdmDeprecationWarning: This function will be removed in tqdm==5.0.0\n",
      "Please use `tqdm.notebook.tqdm` instead of `tqdm.tqdm_notebook`\n",
      "  file=sys.stderr,\n"
     ]
    },
    {
     "data": {
      "application/vnd.jupyter.widget-view+json": {
       "model_id": "cada4709aa7e4a8c89a80171b7ee624c",
       "version_major": 2,
       "version_minor": 0
      },
      "text/plain": [
       "HBox(children=(FloatProgress(value=0.0, description='Epochs', layout=Layout(flex='2'), max=200.0, style=Progre…"
      ]
     },
     "metadata": {},
     "output_type": "display_data"
    },
    {
     "data": {
      "application/vnd.jupyter.widget-view+json": {
       "model_id": "",
       "version_major": 2,
       "version_minor": 0
      },
      "text/plain": [
       "HBox(children=(FloatProgress(value=0.0, description='Training', layout=Layout(flex='2'), max=2500.0, style=Pro…"
      ]
     },
     "metadata": {},
     "output_type": "display_data"
    },
    {
     "name": "stdout",
     "output_type": "stream",
     "text": [
      "Epoch 19: train=20.1261, val=18.9306, took 36.88 s\n",
      "  Validation Found 42465 of 54504, added 1243 (eff 77.91%) (0.124 FP/event)\n"
     ]
    },
    {
     "data": {
      "application/vnd.jupyter.widget-view+json": {
       "model_id": "",
       "version_major": 2,
       "version_minor": 0
      },
      "text/plain": [
       "HBox(children=(FloatProgress(value=0.0, description='Training', layout=Layout(flex='2'), max=2500.0, style=Pro…"
      ]
     },
     "metadata": {},
     "output_type": "display_data"
    },
    {
     "name": "stdout",
     "output_type": "stream",
     "text": [
      "Epoch 20: train=20.3533, val=19.2749, took 37.077 s\n",
      "  Validation Found 42773 of 54504, added 1319 (eff 78.48%) (0.132 FP/event)\n"
     ]
    },
    {
     "data": {
      "application/vnd.jupyter.widget-view+json": {
       "model_id": "",
       "version_major": 2,
       "version_minor": 0
      },
      "text/plain": [
       "HBox(children=(FloatProgress(value=0.0, description='Training', layout=Layout(flex='2'), max=2500.0, style=Pro…"
      ]
     },
     "metadata": {},
     "output_type": "display_data"
    },
    {
     "name": "stdout",
     "output_type": "stream",
     "text": [
      "Epoch 21: train=20.5271, val=19.4951, took 37.806 s\n",
      "  Validation Found 42916 of 54504, added 1397 (eff 78.74%) (0.14 FP/event)\n"
     ]
    },
    {
     "data": {
      "application/vnd.jupyter.widget-view+json": {
       "model_id": "",
       "version_major": 2,
       "version_minor": 0
      },
      "text/plain": [
       "HBox(children=(FloatProgress(value=0.0, description='Training', layout=Layout(flex='2'), max=2500.0, style=Pro…"
      ]
     },
     "metadata": {},
     "output_type": "display_data"
    },
    {
     "name": "stdout",
     "output_type": "stream",
     "text": [
      "Epoch 22: train=20.6595, val=19.68, took 36.33 s\n",
      "  Validation Found 42959 of 54504, added 1439 (eff 78.82%) (0.144 FP/event)\n"
     ]
    },
    {
     "data": {
      "application/vnd.jupyter.widget-view+json": {
       "model_id": "",
       "version_major": 2,
       "version_minor": 0
      },
      "text/plain": [
       "HBox(children=(FloatProgress(value=0.0, description='Training', layout=Layout(flex='2'), max=2500.0, style=Pro…"
      ]
     },
     "metadata": {},
     "output_type": "display_data"
    },
    {
     "name": "stdout",
     "output_type": "stream",
     "text": [
      "Epoch 23: train=20.7504, val=19.7842, took 37.054 s\n",
      "  Validation Found 43040 of 54504, added 1495 (eff 78.97%) (0.15 FP/event)\n"
     ]
    },
    {
     "data": {
      "application/vnd.jupyter.widget-view+json": {
       "model_id": "",
       "version_major": 2,
       "version_minor": 0
      },
      "text/plain": [
       "HBox(children=(FloatProgress(value=0.0, description='Training', layout=Layout(flex='2'), max=2500.0, style=Pro…"
      ]
     },
     "metadata": {},
     "output_type": "display_data"
    },
    {
     "name": "stdout",
     "output_type": "stream",
     "text": [
      "Epoch 24: train=20.8224, val=19.8865, took 39.855 s\n",
      "  Validation Found 43116 of 54504, added 1498 (eff 79.11%) (0.15 FP/event)\n"
     ]
    },
    {
     "data": {
      "application/vnd.jupyter.widget-view+json": {
       "model_id": "",
       "version_major": 2,
       "version_minor": 0
      },
      "text/plain": [
       "HBox(children=(FloatProgress(value=0.0, description='Training', layout=Layout(flex='2'), max=2500.0, style=Pro…"
      ]
     },
     "metadata": {},
     "output_type": "display_data"
    },
    {
     "name": "stdout",
     "output_type": "stream",
     "text": [
      "Epoch 25: train=20.882, val=19.9524, took 40.131 s\n",
      "  Validation Found 43131 of 54504, added 1495 (eff 79.13%) (0.15 FP/event)\n"
     ]
    },
    {
     "data": {
      "application/vnd.jupyter.widget-view+json": {
       "model_id": "",
       "version_major": 2,
       "version_minor": 0
      },
      "text/plain": [
       "HBox(children=(FloatProgress(value=0.0, description='Training', layout=Layout(flex='2'), max=2500.0, style=Pro…"
      ]
     },
     "metadata": {},
     "output_type": "display_data"
    },
    {
     "name": "stdout",
     "output_type": "stream",
     "text": [
      "Epoch 26: train=20.9376, val=20.011, took 40.621 s\n",
      "  Validation Found 43176 of 54504, added 1560 (eff 79.22%) (0.156 FP/event)\n"
     ]
    },
    {
     "data": {
      "application/vnd.jupyter.widget-view+json": {
       "model_id": "",
       "version_major": 2,
       "version_minor": 0
      },
      "text/plain": [
       "HBox(children=(FloatProgress(value=0.0, description='Training', layout=Layout(flex='2'), max=2500.0, style=Pro…"
      ]
     },
     "metadata": {},
     "output_type": "display_data"
    },
    {
     "name": "stdout",
     "output_type": "stream",
     "text": [
      "Epoch 27: train=20.9888, val=20.0711, took 40.313 s\n",
      "  Validation Found 43168 of 54504, added 1523 (eff 79.20%) (0.153 FP/event)\n"
     ]
    },
    {
     "data": {
      "application/vnd.jupyter.widget-view+json": {
       "model_id": "",
       "version_major": 2,
       "version_minor": 0
      },
      "text/plain": [
       "HBox(children=(FloatProgress(value=0.0, description='Training', layout=Layout(flex='2'), max=2500.0, style=Pro…"
      ]
     },
     "metadata": {},
     "output_type": "display_data"
    },
    {
     "name": "stdout",
     "output_type": "stream",
     "text": [
      "Epoch 28: train=21.0155, val=20.1252, took 40.66 s\n",
      "  Validation Found 43182 of 54504, added 1579 (eff 79.23%) (0.158 FP/event)\n"
     ]
    },
    {
     "data": {
      "application/vnd.jupyter.widget-view+json": {
       "model_id": "",
       "version_major": 2,
       "version_minor": 0
      },
      "text/plain": [
       "HBox(children=(FloatProgress(value=0.0, description='Training', layout=Layout(flex='2'), max=2500.0, style=Pro…"
      ]
     },
     "metadata": {},
     "output_type": "display_data"
    },
    {
     "name": "stdout",
     "output_type": "stream",
     "text": [
      "Epoch 29: train=21.064, val=20.1587, took 40.857 s\n",
      "  Validation Found 43223 of 54504, added 1537 (eff 79.30%) (0.154 FP/event)\n"
     ]
    },
    {
     "data": {
      "application/vnd.jupyter.widget-view+json": {
       "model_id": "",
       "version_major": 2,
       "version_minor": 0
      },
      "text/plain": [
       "HBox(children=(FloatProgress(value=0.0, description='Training', layout=Layout(flex='2'), max=2500.0, style=Pro…"
      ]
     },
     "metadata": {},
     "output_type": "display_data"
    },
    {
     "name": "stdout",
     "output_type": "stream",
     "text": [
      "Epoch 30: train=21.0919, val=20.2083, took 40.088 s\n",
      "  Validation Found 43239 of 54504, added 1561 (eff 79.33%) (0.156 FP/event)\n"
     ]
    },
    {
     "data": {
      "application/vnd.jupyter.widget-view+json": {
       "model_id": "",
       "version_major": 2,
       "version_minor": 0
      },
      "text/plain": [
       "HBox(children=(FloatProgress(value=0.0, description='Training', layout=Layout(flex='2'), max=2500.0, style=Pro…"
      ]
     },
     "metadata": {},
     "output_type": "display_data"
    },
    {
     "name": "stdout",
     "output_type": "stream",
     "text": [
      "Epoch 31: train=21.1093, val=20.2325, took 40.917 s\n",
      "  Validation Found 43223 of 54504, added 1547 (eff 79.30%) (0.155 FP/event)\n"
     ]
    },
    {
     "data": {
      "application/vnd.jupyter.widget-view+json": {
       "model_id": "",
       "version_major": 2,
       "version_minor": 0
      },
      "text/plain": [
       "HBox(children=(FloatProgress(value=0.0, description='Training', layout=Layout(flex='2'), max=2500.0, style=Pro…"
      ]
     },
     "metadata": {},
     "output_type": "display_data"
    }
   ],
   "source": [
    "print('for model: ', model)   \n",
    "run_name = 'SimpleCNN5Layer_Ca 2'\n",
    "# Create an mlflow run\n",
    "with mlflow.start_run(run_name=run_name) as run:\n",
    "    # Log parameters of the model\n",
    "    for key, value in vars(args).items():\n",
    "        print(key, value)\n",
    "        mlflow.log_param(key, value)\n",
    "    \n",
    "    # Log parameter count in the model\n",
    "    mlflow.log_param('Parameters', count_parameters(model))\n",
    "    \n",
    "    # Begin run\n",
    "    for result in trainNet(model, optimizer, loss,\n",
    "                            train_loader, val_loader,\n",
    "                            args.epochs+args.epoch_start, epoch_start=args.epoch_start,\n",
    "                            notebook=True, device=device):\n",
    "\n",
    "        result = result._asdict()\n",
    "        results = results.append(pd.Series(result), ignore_index=True)\n",
    "        xs = results.index\n",
    "\n",
    "        # Update the plot above\n",
    "        lines['train'].set_data(results.index, results.cost)\n",
    "        lines['val'].set_data(results.index, results.val)\n",
    "\n",
    "        #filter first cost epoch (can be really large)\n",
    "        max_cost = max(max(results.cost if len(results.cost)<2 else results.cost[1:]), max(results.val))\n",
    "        min_cost = min(min(results.cost), min(results.val))\n",
    "    \n",
    "        # The plot limits need updating too\n",
    "        ax.set_ylim(min_cost*.9, max_cost*1.1)  \n",
    "        ax.set_xlim(-.5, len(results.cost) - .5)\n",
    "    \n",
    "        replace_in_ax(lax, lines['eff'], xs, results['eff_val'].apply(lambda x: x.eff_rate))\n",
    "        replace_in_ax(tax, lines['fp'], xs, results['eff_val'].apply(lambda x: x.fp_rate))\n",
    "    \n",
    "        # Redraw the figure\n",
    "        fig.canvas.draw()\n",
    "        plt.tight_layout()\n",
    "        fig.savefig('plot.png')\n",
    "            \n",
    "            \n",
    "        ## MLFLOW ##\n",
    "        # Log metrics\n",
    "        mlflow.log_metric('Efficiency', result['eff_val'].eff_rate, result['epoch'])\n",
    "        mlflow.log_metric('False Positive Rate',  result['eff_val'].fp_rate, result['epoch'])\n",
    "        mlflow.log_metric('Validation Loss',  result['val'], result['epoch'])\n",
    "        mlflow.log_metric('Training Loss',  result['cost'], result['epoch'])\n",
    "            \n",
    "        # Log tags\n",
    "#        mlflow.set_tag('Optimizer', 'Adam')\n",
    "#        mlflow.set_tag('Kernel size', 'Mixed')\n",
    "#        mlflow.set_tag('Skip connections', '4')\n",
    "#        mlflow.set_tag('Activation', 'Softplus')\n",
    "#        mlflow.set_tag('Mid Activation', 'Relu')\n",
    "\n",
    "        # Save model state dictionary, optimizer state dictionary, and epoch number\n",
    "        torch.save({\n",
    "            'model':model.state_dict(),\n",
    "            'optimizer':optimizer.state_dict(),\n",
    "            'epoch':args.epochs+result['epoch']\n",
    "            }, 'run_stats.pyt')\n",
    "        # Save the run stats into mlflow\n",
    "        mlflow.log_artifact('run_stats.pyt')\n",
    "            \n",
    "        # Save a diagram of the architecture\n",
    "#        HL.transforms.Fold(\"Conv\", \"Conv\"),\n",
    "#        HL.build_graph(model, torch.zeros([args.batch_size, 1, 4000]).to(device)).save('architecture', format='png')\n",
    "#        mlflow.log_artifact('architecture.png')\n",
    "        \n",
    "        # log the code for the model architecture\n",
    "#        mlflow.log_artifact('architecture.txt')\n",
    "        \n",
    "        # save plot\n",
    "        mlflow.log_artifact('plot.png')"
   ]
  },
  {
   "cell_type": "code",
   "execution_count": null,
   "metadata": {},
   "outputs": [],
   "source": [
    "##quit()"
   ]
  }
 ],
 "metadata": {
  "celltoolbar": "Raw Cell Format",
  "kernelspec": {
   "display_name": "goofit-june2020",
   "language": "python",
   "name": "goofit-june2020"
  },
  "language_info": {
   "codemirror_mode": {
    "name": "ipython",
    "version": 3
   },
   "file_extension": ".py",
   "mimetype": "text/x-python",
   "name": "python",
   "nbconvert_exporter": "python",
   "pygments_lexer": "ipython3",
   "version": "3.7.6"
  }
 },
 "nbformat": 4,
 "nbformat_minor": 2
}
