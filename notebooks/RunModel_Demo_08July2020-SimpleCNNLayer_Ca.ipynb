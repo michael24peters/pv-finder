{
 "cells": [
  {
   "cell_type": "code",
   "execution_count": 1,
   "metadata": {},
   "outputs": [],
   "source": [
    "##%matplotlib widget\n",
    "## with %matplotlib notebook: seems to require ipympl as part of environment, either\n",
    "## part of the conda environment or \"pip install ipympl\"\n",
    "## otherwise, does not show ANY plots in notebook, plt.savefig() works\n",
    "%matplotlib notebook  \n",
    "##%matplotlib inline    ## --plt.savefig()  works, but re-sizing does NOT"
   ]
  },
  {
   "cell_type": "markdown",
   "metadata": {},
   "source": [
    "Check the current GPU usage. Please try to be nice!"
   ]
  },
  {
   "cell_type": "code",
   "execution_count": 2,
   "metadata": {},
   "outputs": [
    {
     "name": "stdout",
     "output_type": "stream",
     "text": [
      "Wed Jul  8 11:33:10 2020       \r\n",
      "+-----------------------------------------------------------------------------+\r\n",
      "| NVIDIA-SMI 440.64.00    Driver Version: 440.64.00    CUDA Version: 10.2     |\r\n",
      "|-------------------------------+----------------------+----------------------+\r\n",
      "| GPU  Name        Persistence-M| Bus-Id        Disp.A | Volatile Uncorr. ECC |\r\n",
      "| Fan  Temp  Perf  Pwr:Usage/Cap|         Memory-Usage | GPU-Util  Compute M. |\r\n",
      "|===============================+======================+======================|\r\n",
      "|   0  TITAN V             Off  | 00000000:03:00.0 Off |                  N/A |\r\n",
      "| 41%   57C    P2    41W / 250W |   3403MiB / 12066MiB |      0%      Default |\r\n",
      "+-------------------------------+----------------------+----------------------+\r\n",
      "|   1  Tesla P100-PCIE...  Off  | 00000000:83:00.0 Off |                    0 |\r\n",
      "| N/A   34C    P0    33W / 250W |      0MiB / 16280MiB |      0%      Default |\r\n",
      "+-------------------------------+----------------------+----------------------+\r\n",
      "|   2  TITAN V             Off  | 00000000:84:00.0 Off |                  N/A |\r\n",
      "| 23%   38C    P0    35W / 250W |      0MiB / 12066MiB |      0%      Default |\r\n",
      "+-------------------------------+----------------------+----------------------+\r\n",
      "                                                                               \r\n",
      "+-----------------------------------------------------------------------------+\r\n",
      "| Processes:                                                       GPU Memory |\r\n",
      "|  GPU       PID   Type   Process name                             Usage      |\r\n",
      "|=============================================================================|\r\n",
      "|    0     19315      C   ...a/conda/envs/goofit-june2020/bin/python  3391MiB |\r\n",
      "+-----------------------------------------------------------------------------+\r\n"
     ]
    }
   ],
   "source": [
    "!nvidia-smi"
   ]
  },
  {
   "cell_type": "markdown",
   "metadata": {},
   "source": [
    "## Imports"
   ]
  },
  {
   "cell_type": "code",
   "execution_count": 3,
   "metadata": {},
   "outputs": [],
   "source": [
    "import numpy as np\n",
    "import torch\n",
    "from pathlib import Path\n",
    "import matplotlib.pyplot as plt\n",
    "import pandas as pd\n",
    "\n",
    "import mlflow\n",
    "\n",
    "from model.collectdata_mdsA import collect_data\n",
    "from model.alt_loss_A import Loss\n",
    "from model.training import trainNet, select_gpu\n",
    "from model.models_mds_07July2020 import SimpleCNN5Layer_Ca as Model\n",
    "from model.training import trainNet, select_gpu, Results\n",
    "from model.utilities import load_full_state, count_parameters\n",
    "from model.plots import dual_train_plots, replace_in_ax\n",
    "from model.utilities import count_parameters, Params\n",
    "import hiddenlayer as HL\n",
    "from torchsummary import summary"
   ]
  },
  {
   "cell_type": "markdown",
   "metadata": {},
   "source": [
    "Set up Torch device configuration. All tensors and model parameters need to know where to be put.\n",
    "This takes a BUS ID number: The BUS ID is the same as the listing at the top of this script."
   ]
  },
  {
   "cell_type": "code",
   "execution_count": 4,
   "metadata": {},
   "outputs": [
    {
     "name": "stdout",
     "output_type": "stream",
     "text": [
      "1 available GPUs (initially using device 0):\n",
      "  0 TITAN V\n"
     ]
    }
   ],
   "source": [
    "device = select_gpu(0)"
   ]
  },
  {
   "cell_type": "markdown",
   "metadata": {},
   "source": [
    "### Set up local parameters"
   ]
  },
  {
   "cell_type": "code",
   "execution_count": 6,
   "metadata": {},
   "outputs": [],
   "source": [
    "# params order - batch size, epochs, lr, epoch_start (which is usually set to 0)\n",
    "args = Params(128, 200, 1e-3, 0)"
   ]
  },
  {
   "cell_type": "markdown",
   "metadata": {},
   "source": [
    "## Loading data\n",
    "\n",
    "Load the dataset, split into parts, then move to device (see `collectdata.py` in the `../model` directory)"
   ]
  },
  {
   "cell_type": "code",
   "execution_count": 5,
   "metadata": {
    "scrolled": true
   },
   "outputs": [
    {
     "name": "stdout",
     "output_type": "stream",
     "text": [
      "Loading data...\n",
      "Loaded /share/lazy/sokoloff/ML-data_AA/Aug14_80K_train.h5 in 10.8 s\n",
      "Loaded /share/lazy/sokoloff/ML-data_AA/Oct03_80K_train.h5 in 10.73 s\n",
      "Constructing 160000 event dataset took 4.136 s\n",
      "Loading data...\n",
      "Loaded /share/lazy/sokoloff/ML-data_AA/Oct03_20K_val.h5 in 2.755 s\n",
      "Constructing 9984 event dataset took 0.06994 s\n"
     ]
    }
   ],
   "source": [
    "## newer vernacular\n",
    "## Training dataset. You can put as many files here as desired.\n",
    "\n",
    "## in this DEMO example we use only one 80K training set -- the model starts with well-trained weights,\n",
    "## and using a smaller training set reduces both the time to load the data and the time to train an epoch\n",
    "##  set the option load_XandXsq = True to use both DKE and KDE^2 as input features\n",
    "train_loader = collect_data('/share/lazy/sokoloff/ML-data_AA/Aug14_80K_train.h5',\n",
    "                            '/share/lazy/sokoloff/ML-data_AA/Oct03_80K_train.h5',\n",
    "                            #'/share/lazy/sokoloff/ML-data_AA/Oct03_80K2_train.h5',\n",
    "                             batch_size=args.batch_size,\n",
    "## if we are using a larger dataset (240K events, with the datasets above, and 11 GB  of GPU memory),\n",
    "## not the dataset will overflow the GPU memory; device=device will allow the data to move back\n",
    "## and forth between the CPU and GPU memory. While this allows use of a larger dataset, it slows\n",
    "## down performance by about 10%.  So comment out when not needed.\n",
    "                            device=device,\n",
    "                            masking=True, shuffle=True,\n",
    "                            load_XandXsq=False,\n",
    "                            load_xy=False)\n",
    "\n",
    "# Validation dataset. You can slice to reduce the size.\n",
    "## dataAA -> /share/lazy/sokoloff/ML-data_AA/\n",
    "val_loader = collect_data('/share/lazy/sokoloff/ML-data_AA/Oct03_20K_val.h5',\n",
    "## mds val_loader = collect_data('dataAA/HLT1CPU_1kevts_val.h5',\n",
    "\n",
    "                          batch_size=args.batch_size,\n",
    "                          slice=slice(256 * 39),\n",
    "                          device=device,\n",
    "                          masking=True, shuffle=False,\n",
    "                          load_XandXsq=False,\n",
    "                          load_xy=False)"
   ]
  },
  {
   "cell_type": "markdown",
   "metadata": {},
   "source": [
    "# Preparing the model"
   ]
  },
  {
   "cell_type": "markdown",
   "metadata": {},
   "source": [
    "Prepare a model, use multiple GPUs if they are VISIBLE, and move the model to the device."
   ]
  },
  {
   "cell_type": "code",
   "execution_count": 8,
   "metadata": {
    "scrolled": true
   },
   "outputs": [
    {
     "name": "stderr",
     "output_type": "stream",
     "text": [
      "WARNING:root:Malformed experiment 'ML'. Detailed error Yaml file '/share/lazy/pv-finder_model_repo/ML/meta.yaml' does not exist.\n",
      "Traceback (most recent call last):\n",
      "  File \"/home/michael24peters/.local/lib/python3.7/site-packages/mlflow/store/tracking/file_store.py\", line 197, in list_experiments\n",
      "    experiment = self._get_experiment(exp_id, view_type)\n",
      "  File \"/home/michael24peters/.local/lib/python3.7/site-packages/mlflow/store/tracking/file_store.py\", line 260, in _get_experiment\n",
      "    meta = read_yaml(experiment_dir, FileStore.META_DATA_FILE_NAME)\n",
      "  File \"/home/michael24peters/.local/lib/python3.7/site-packages/mlflow/utils/file_utils.py\", line 167, in read_yaml\n",
      "    raise MissingConfigException(\"Yaml file '%s' does not exist.\" % file_path)\n",
      "mlflow.exceptions.MissingConfigException: Yaml file '/share/lazy/pv-finder_model_repo/ML/meta.yaml' does not exist.\n"
     ]
    },
    {
     "name": "stdout",
     "output_type": "stream",
     "text": [
      "ct, child =  0    Conv1d(1, 20, kernel_size=(25,), stride=(1,), padding=(12,))\n",
      "ct, child =  1    Conv1d(20, 10, kernel_size=(15,), stride=(1,), padding=(7,))\n",
      "ct, child =  2    Conv1d(10, 10, kernel_size=(15,), stride=(1,), padding=(7,))\n",
      "ct, child =  3    Conv1d(10, 10, kernel_size=(15,), stride=(1,), padding=(7,))\n",
      "ct, child =  4    Conv1d(10, 1, kernel_size=(5,), stride=(1,), padding=(2,))\n",
      "ct, child =  5    Dropout(p=0.15, inplace=False)\n",
      "ct, child =  6    Dropout(p=0.15, inplace=False)\n",
      "ct, child =  7    Dropout(p=0.15, inplace=False)\n",
      "ct, child =  8    Dropout(p=0.15, inplace=False)\n",
      "ct, child =  9    Dropout(p=0.35, inplace=False)\n",
      "ct, child =  10    Linear(in_features=4000, out_features=4000, bias=True)\n"
     ]
    }
   ],
   "source": [
    "model = Model()\n",
    "\n",
    "##summary(model, input_size=(4, 4000))\n",
    "##print(model.parameters)\n",
    "\n",
    "mlflow.tracking.set_tracking_uri('file:/share/lazy/pv-finder_model_repo')\n",
    "mlflow.set_experiment('ALLCNN')\n",
    "\n",
    "## add the following code to allow the user to freeze the some of the weights corresponding \n",
    "## to those taken from an earlier model trained with the original target histograms\n",
    "## presumably -- this leaves either the perturbative filter \"fixed\" and lets the \n",
    "## learning focus on the non-perturbative features, so get started faster, or vice versa\n",
    "ct = 0\n",
    "for child in model.children():\n",
    "  print('ct, child = ',ct, \"  \", child)\n",
    "  if ct < 0:\n",
    "    print(\"     About to set param.requires_grad=False for ct = \", ct, \"params\")\n",
    "    for param in child.parameters():\n",
    "        param.requires_grad = False \n",
    "  ct += 1"
   ]
  },
  {
   "cell_type": "code",
   "execution_count": 9,
   "metadata": {
    "scrolled": true
   },
   "outputs": [
    {
     "name": "stdout",
     "output_type": "stream",
     "text": [
      "Let's use 1 GPUs!\n"
     ]
    }
   ],
   "source": [
    "print(\"Let's use\", torch.cuda.device_count(), \"GPUs!\")\n",
    "if torch.cuda.device_count() > 1:\n",
    "    model = torch.nn.DataParallel(model)"
   ]
  },
  {
   "cell_type": "code",
   "execution_count": 11,
   "metadata": {
    "scrolled": true
   },
   "outputs": [],
   "source": [
    "##  mds 200121 loss = Loss(epsilon=1e-5,coefficient=1.0)\n",
    "loss = Loss(epsilon=1e-5,coefficient=2.5)\n",
    "optimizer = torch.optim.Adam(model.parameters(), lr=args.lr)\n",
    "\n",
    "##  use the first five layers from a pre-existing model\n",
    "##  see example at https://discuss.pytorch.org/t/how-to-load-part-of-pre-trained-model/1113\n",
    "##   ML -> /share/lazy/sokoloff/ML\n",
    "\n",
    "path = 'run_stats.pyt'\n",
    "load_full_state(model, optimizer, path)\n",
    "# For other pretrained models, go to MLFlow and find the path for \"run_stats.pyt\"\n",
    "pretrained_dict = torch.load('/share/lazy/sokoloff/ML/02June2020_CNN5Layer_Ca_yetAnother200epochs_K/02June2020_CNN5Layer_Ca_yetAnother200epochs_K_final.pyt')\n",
    "load_full_state(model, optimizer, pretrained_dict)"
   ]
  },
  {
   "cell_type": "code",
   "execution_count": null,
   "metadata": {},
   "outputs": [],
   "source": [
    "model.to(device)"
   ]
  },
  {
   "cell_type": "markdown",
   "metadata": {},
   "source": [
    "## Train \n",
    "\n",
    "\n",
    "\n",
    "The body of this loop runs once per epoch. Results is a named tuple of values (loss per epoch for training and validation, time each). Start by setting up a plot first:"
   ]
  },
  {
   "cell_type": "code",
   "execution_count": 12,
   "metadata": {
    "scrolled": true
   },
   "outputs": [
    {
     "data": {
      "application/javascript": [
       "/* Put everything inside the global mpl namespace */\n",
       "window.mpl = {};\n",
       "\n",
       "\n",
       "mpl.get_websocket_type = function() {\n",
       "    if (typeof(WebSocket) !== 'undefined') {\n",
       "        return WebSocket;\n",
       "    } else if (typeof(MozWebSocket) !== 'undefined') {\n",
       "        return MozWebSocket;\n",
       "    } else {\n",
       "        alert('Your browser does not have WebSocket support. ' +\n",
       "              'Please try Chrome, Safari or Firefox ≥ 6. ' +\n",
       "              'Firefox 4 and 5 are also supported but you ' +\n",
       "              'have to enable WebSockets in about:config.');\n",
       "    };\n",
       "}\n",
       "\n",
       "mpl.figure = function(figure_id, websocket, ondownload, parent_element) {\n",
       "    this.id = figure_id;\n",
       "\n",
       "    this.ws = websocket;\n",
       "\n",
       "    this.supports_binary = (this.ws.binaryType != undefined);\n",
       "\n",
       "    if (!this.supports_binary) {\n",
       "        var warnings = document.getElementById(\"mpl-warnings\");\n",
       "        if (warnings) {\n",
       "            warnings.style.display = 'block';\n",
       "            warnings.textContent = (\n",
       "                \"This browser does not support binary websocket messages. \" +\n",
       "                    \"Performance may be slow.\");\n",
       "        }\n",
       "    }\n",
       "\n",
       "    this.imageObj = new Image();\n",
       "\n",
       "    this.context = undefined;\n",
       "    this.message = undefined;\n",
       "    this.canvas = undefined;\n",
       "    this.rubberband_canvas = undefined;\n",
       "    this.rubberband_context = undefined;\n",
       "    this.format_dropdown = undefined;\n",
       "\n",
       "    this.image_mode = 'full';\n",
       "\n",
       "    this.root = $('<div/>');\n",
       "    this._root_extra_style(this.root)\n",
       "    this.root.attr('style', 'display: inline-block');\n",
       "\n",
       "    $(parent_element).append(this.root);\n",
       "\n",
       "    this._init_header(this);\n",
       "    this._init_canvas(this);\n",
       "    this._init_toolbar(this);\n",
       "\n",
       "    var fig = this;\n",
       "\n",
       "    this.waiting = false;\n",
       "\n",
       "    this.ws.onopen =  function () {\n",
       "            fig.send_message(\"supports_binary\", {value: fig.supports_binary});\n",
       "            fig.send_message(\"send_image_mode\", {});\n",
       "            if (mpl.ratio != 1) {\n",
       "                fig.send_message(\"set_dpi_ratio\", {'dpi_ratio': mpl.ratio});\n",
       "            }\n",
       "            fig.send_message(\"refresh\", {});\n",
       "        }\n",
       "\n",
       "    this.imageObj.onload = function() {\n",
       "            if (fig.image_mode == 'full') {\n",
       "                // Full images could contain transparency (where diff images\n",
       "                // almost always do), so we need to clear the canvas so that\n",
       "                // there is no ghosting.\n",
       "                fig.context.clearRect(0, 0, fig.canvas.width, fig.canvas.height);\n",
       "            }\n",
       "            fig.context.drawImage(fig.imageObj, 0, 0);\n",
       "        };\n",
       "\n",
       "    this.imageObj.onunload = function() {\n",
       "        fig.ws.close();\n",
       "    }\n",
       "\n",
       "    this.ws.onmessage = this._make_on_message_function(this);\n",
       "\n",
       "    this.ondownload = ondownload;\n",
       "}\n",
       "\n",
       "mpl.figure.prototype._init_header = function() {\n",
       "    var titlebar = $(\n",
       "        '<div class=\"ui-dialog-titlebar ui-widget-header ui-corner-all ' +\n",
       "        'ui-helper-clearfix\"/>');\n",
       "    var titletext = $(\n",
       "        '<div class=\"ui-dialog-title\" style=\"width: 100%; ' +\n",
       "        'text-align: center; padding: 3px;\"/>');\n",
       "    titlebar.append(titletext)\n",
       "    this.root.append(titlebar);\n",
       "    this.header = titletext[0];\n",
       "}\n",
       "\n",
       "\n",
       "\n",
       "mpl.figure.prototype._canvas_extra_style = function(canvas_div) {\n",
       "\n",
       "}\n",
       "\n",
       "\n",
       "mpl.figure.prototype._root_extra_style = function(canvas_div) {\n",
       "\n",
       "}\n",
       "\n",
       "mpl.figure.prototype._init_canvas = function() {\n",
       "    var fig = this;\n",
       "\n",
       "    var canvas_div = $('<div/>');\n",
       "\n",
       "    canvas_div.attr('style', 'position: relative; clear: both; outline: 0');\n",
       "\n",
       "    function canvas_keyboard_event(event) {\n",
       "        return fig.key_event(event, event['data']);\n",
       "    }\n",
       "\n",
       "    canvas_div.keydown('key_press', canvas_keyboard_event);\n",
       "    canvas_div.keyup('key_release', canvas_keyboard_event);\n",
       "    this.canvas_div = canvas_div\n",
       "    this._canvas_extra_style(canvas_div)\n",
       "    this.root.append(canvas_div);\n",
       "\n",
       "    var canvas = $('<canvas/>');\n",
       "    canvas.addClass('mpl-canvas');\n",
       "    canvas.attr('style', \"left: 0; top: 0; z-index: 0; outline: 0\")\n",
       "\n",
       "    this.canvas = canvas[0];\n",
       "    this.context = canvas[0].getContext(\"2d\");\n",
       "\n",
       "    var backingStore = this.context.backingStorePixelRatio ||\n",
       "\tthis.context.webkitBackingStorePixelRatio ||\n",
       "\tthis.context.mozBackingStorePixelRatio ||\n",
       "\tthis.context.msBackingStorePixelRatio ||\n",
       "\tthis.context.oBackingStorePixelRatio ||\n",
       "\tthis.context.backingStorePixelRatio || 1;\n",
       "\n",
       "    mpl.ratio = (window.devicePixelRatio || 1) / backingStore;\n",
       "\n",
       "    var rubberband = $('<canvas/>');\n",
       "    rubberband.attr('style', \"position: absolute; left: 0; top: 0; z-index: 1;\")\n",
       "\n",
       "    var pass_mouse_events = true;\n",
       "\n",
       "    canvas_div.resizable({\n",
       "        start: function(event, ui) {\n",
       "            pass_mouse_events = false;\n",
       "        },\n",
       "        resize: function(event, ui) {\n",
       "            fig.request_resize(ui.size.width, ui.size.height);\n",
       "        },\n",
       "        stop: function(event, ui) {\n",
       "            pass_mouse_events = true;\n",
       "            fig.request_resize(ui.size.width, ui.size.height);\n",
       "        },\n",
       "    });\n",
       "\n",
       "    function mouse_event_fn(event) {\n",
       "        if (pass_mouse_events)\n",
       "            return fig.mouse_event(event, event['data']);\n",
       "    }\n",
       "\n",
       "    rubberband.mousedown('button_press', mouse_event_fn);\n",
       "    rubberband.mouseup('button_release', mouse_event_fn);\n",
       "    // Throttle sequential mouse events to 1 every 20ms.\n",
       "    rubberband.mousemove('motion_notify', mouse_event_fn);\n",
       "\n",
       "    rubberband.mouseenter('figure_enter', mouse_event_fn);\n",
       "    rubberband.mouseleave('figure_leave', mouse_event_fn);\n",
       "\n",
       "    canvas_div.on(\"wheel\", function (event) {\n",
       "        event = event.originalEvent;\n",
       "        event['data'] = 'scroll'\n",
       "        if (event.deltaY < 0) {\n",
       "            event.step = 1;\n",
       "        } else {\n",
       "            event.step = -1;\n",
       "        }\n",
       "        mouse_event_fn(event);\n",
       "    });\n",
       "\n",
       "    canvas_div.append(canvas);\n",
       "    canvas_div.append(rubberband);\n",
       "\n",
       "    this.rubberband = rubberband;\n",
       "    this.rubberband_canvas = rubberband[0];\n",
       "    this.rubberband_context = rubberband[0].getContext(\"2d\");\n",
       "    this.rubberband_context.strokeStyle = \"#000000\";\n",
       "\n",
       "    this._resize_canvas = function(width, height) {\n",
       "        // Keep the size of the canvas, canvas container, and rubber band\n",
       "        // canvas in synch.\n",
       "        canvas_div.css('width', width)\n",
       "        canvas_div.css('height', height)\n",
       "\n",
       "        canvas.attr('width', width * mpl.ratio);\n",
       "        canvas.attr('height', height * mpl.ratio);\n",
       "        canvas.attr('style', 'width: ' + width + 'px; height: ' + height + 'px;');\n",
       "\n",
       "        rubberband.attr('width', width);\n",
       "        rubberband.attr('height', height);\n",
       "    }\n",
       "\n",
       "    // Set the figure to an initial 600x600px, this will subsequently be updated\n",
       "    // upon first draw.\n",
       "    this._resize_canvas(600, 600);\n",
       "\n",
       "    // Disable right mouse context menu.\n",
       "    $(this.rubberband_canvas).bind(\"contextmenu\",function(e){\n",
       "        return false;\n",
       "    });\n",
       "\n",
       "    function set_focus () {\n",
       "        canvas.focus();\n",
       "        canvas_div.focus();\n",
       "    }\n",
       "\n",
       "    window.setTimeout(set_focus, 100);\n",
       "}\n",
       "\n",
       "mpl.figure.prototype._init_toolbar = function() {\n",
       "    var fig = this;\n",
       "\n",
       "    var nav_element = $('<div/>');\n",
       "    nav_element.attr('style', 'width: 100%');\n",
       "    this.root.append(nav_element);\n",
       "\n",
       "    // Define a callback function for later on.\n",
       "    function toolbar_event(event) {\n",
       "        return fig.toolbar_button_onclick(event['data']);\n",
       "    }\n",
       "    function toolbar_mouse_event(event) {\n",
       "        return fig.toolbar_button_onmouseover(event['data']);\n",
       "    }\n",
       "\n",
       "    for(var toolbar_ind in mpl.toolbar_items) {\n",
       "        var name = mpl.toolbar_items[toolbar_ind][0];\n",
       "        var tooltip = mpl.toolbar_items[toolbar_ind][1];\n",
       "        var image = mpl.toolbar_items[toolbar_ind][2];\n",
       "        var method_name = mpl.toolbar_items[toolbar_ind][3];\n",
       "\n",
       "        if (!name) {\n",
       "            // put a spacer in here.\n",
       "            continue;\n",
       "        }\n",
       "        var button = $('<button/>');\n",
       "        button.addClass('ui-button ui-widget ui-state-default ui-corner-all ' +\n",
       "                        'ui-button-icon-only');\n",
       "        button.attr('role', 'button');\n",
       "        button.attr('aria-disabled', 'false');\n",
       "        button.click(method_name, toolbar_event);\n",
       "        button.mouseover(tooltip, toolbar_mouse_event);\n",
       "\n",
       "        var icon_img = $('<span/>');\n",
       "        icon_img.addClass('ui-button-icon-primary ui-icon');\n",
       "        icon_img.addClass(image);\n",
       "        icon_img.addClass('ui-corner-all');\n",
       "\n",
       "        var tooltip_span = $('<span/>');\n",
       "        tooltip_span.addClass('ui-button-text');\n",
       "        tooltip_span.html(tooltip);\n",
       "\n",
       "        button.append(icon_img);\n",
       "        button.append(tooltip_span);\n",
       "\n",
       "        nav_element.append(button);\n",
       "    }\n",
       "\n",
       "    var fmt_picker_span = $('<span/>');\n",
       "\n",
       "    var fmt_picker = $('<select/>');\n",
       "    fmt_picker.addClass('mpl-toolbar-option ui-widget ui-widget-content');\n",
       "    fmt_picker_span.append(fmt_picker);\n",
       "    nav_element.append(fmt_picker_span);\n",
       "    this.format_dropdown = fmt_picker[0];\n",
       "\n",
       "    for (var ind in mpl.extensions) {\n",
       "        var fmt = mpl.extensions[ind];\n",
       "        var option = $(\n",
       "            '<option/>', {selected: fmt === mpl.default_extension}).html(fmt);\n",
       "        fmt_picker.append(option);\n",
       "    }\n",
       "\n",
       "    // Add hover states to the ui-buttons\n",
       "    $( \".ui-button\" ).hover(\n",
       "        function() { $(this).addClass(\"ui-state-hover\");},\n",
       "        function() { $(this).removeClass(\"ui-state-hover\");}\n",
       "    );\n",
       "\n",
       "    var status_bar = $('<span class=\"mpl-message\"/>');\n",
       "    nav_element.append(status_bar);\n",
       "    this.message = status_bar[0];\n",
       "}\n",
       "\n",
       "mpl.figure.prototype.request_resize = function(x_pixels, y_pixels) {\n",
       "    // Request matplotlib to resize the figure. Matplotlib will then trigger a resize in the client,\n",
       "    // which will in turn request a refresh of the image.\n",
       "    this.send_message('resize', {'width': x_pixels, 'height': y_pixels});\n",
       "}\n",
       "\n",
       "mpl.figure.prototype.send_message = function(type, properties) {\n",
       "    properties['type'] = type;\n",
       "    properties['figure_id'] = this.id;\n",
       "    this.ws.send(JSON.stringify(properties));\n",
       "}\n",
       "\n",
       "mpl.figure.prototype.send_draw_message = function() {\n",
       "    if (!this.waiting) {\n",
       "        this.waiting = true;\n",
       "        this.ws.send(JSON.stringify({type: \"draw\", figure_id: this.id}));\n",
       "    }\n",
       "}\n",
       "\n",
       "\n",
       "mpl.figure.prototype.handle_save = function(fig, msg) {\n",
       "    var format_dropdown = fig.format_dropdown;\n",
       "    var format = format_dropdown.options[format_dropdown.selectedIndex].value;\n",
       "    fig.ondownload(fig, format);\n",
       "}\n",
       "\n",
       "\n",
       "mpl.figure.prototype.handle_resize = function(fig, msg) {\n",
       "    var size = msg['size'];\n",
       "    if (size[0] != fig.canvas.width || size[1] != fig.canvas.height) {\n",
       "        fig._resize_canvas(size[0], size[1]);\n",
       "        fig.send_message(\"refresh\", {});\n",
       "    };\n",
       "}\n",
       "\n",
       "mpl.figure.prototype.handle_rubberband = function(fig, msg) {\n",
       "    var x0 = msg['x0'] / mpl.ratio;\n",
       "    var y0 = (fig.canvas.height - msg['y0']) / mpl.ratio;\n",
       "    var x1 = msg['x1'] / mpl.ratio;\n",
       "    var y1 = (fig.canvas.height - msg['y1']) / mpl.ratio;\n",
       "    x0 = Math.floor(x0) + 0.5;\n",
       "    y0 = Math.floor(y0) + 0.5;\n",
       "    x1 = Math.floor(x1) + 0.5;\n",
       "    y1 = Math.floor(y1) + 0.5;\n",
       "    var min_x = Math.min(x0, x1);\n",
       "    var min_y = Math.min(y0, y1);\n",
       "    var width = Math.abs(x1 - x0);\n",
       "    var height = Math.abs(y1 - y0);\n",
       "\n",
       "    fig.rubberband_context.clearRect(\n",
       "        0, 0, fig.canvas.width / mpl.ratio, fig.canvas.height / mpl.ratio);\n",
       "\n",
       "    fig.rubberband_context.strokeRect(min_x, min_y, width, height);\n",
       "}\n",
       "\n",
       "mpl.figure.prototype.handle_figure_label = function(fig, msg) {\n",
       "    // Updates the figure title.\n",
       "    fig.header.textContent = msg['label'];\n",
       "}\n",
       "\n",
       "mpl.figure.prototype.handle_cursor = function(fig, msg) {\n",
       "    var cursor = msg['cursor'];\n",
       "    switch(cursor)\n",
       "    {\n",
       "    case 0:\n",
       "        cursor = 'pointer';\n",
       "        break;\n",
       "    case 1:\n",
       "        cursor = 'default';\n",
       "        break;\n",
       "    case 2:\n",
       "        cursor = 'crosshair';\n",
       "        break;\n",
       "    case 3:\n",
       "        cursor = 'move';\n",
       "        break;\n",
       "    }\n",
       "    fig.rubberband_canvas.style.cursor = cursor;\n",
       "}\n",
       "\n",
       "mpl.figure.prototype.handle_message = function(fig, msg) {\n",
       "    fig.message.textContent = msg['message'];\n",
       "}\n",
       "\n",
       "mpl.figure.prototype.handle_draw = function(fig, msg) {\n",
       "    // Request the server to send over a new figure.\n",
       "    fig.send_draw_message();\n",
       "}\n",
       "\n",
       "mpl.figure.prototype.handle_image_mode = function(fig, msg) {\n",
       "    fig.image_mode = msg['mode'];\n",
       "}\n",
       "\n",
       "mpl.figure.prototype.updated_canvas_event = function() {\n",
       "    // Called whenever the canvas gets updated.\n",
       "    this.send_message(\"ack\", {});\n",
       "}\n",
       "\n",
       "// A function to construct a web socket function for onmessage handling.\n",
       "// Called in the figure constructor.\n",
       "mpl.figure.prototype._make_on_message_function = function(fig) {\n",
       "    return function socket_on_message(evt) {\n",
       "        if (evt.data instanceof Blob) {\n",
       "            /* FIXME: We get \"Resource interpreted as Image but\n",
       "             * transferred with MIME type text/plain:\" errors on\n",
       "             * Chrome.  But how to set the MIME type?  It doesn't seem\n",
       "             * to be part of the websocket stream */\n",
       "            evt.data.type = \"image/png\";\n",
       "\n",
       "            /* Free the memory for the previous frames */\n",
       "            if (fig.imageObj.src) {\n",
       "                (window.URL || window.webkitURL).revokeObjectURL(\n",
       "                    fig.imageObj.src);\n",
       "            }\n",
       "\n",
       "            fig.imageObj.src = (window.URL || window.webkitURL).createObjectURL(\n",
       "                evt.data);\n",
       "            fig.updated_canvas_event();\n",
       "            fig.waiting = false;\n",
       "            return;\n",
       "        }\n",
       "        else if (typeof evt.data === 'string' && evt.data.slice(0, 21) == \"data:image/png;base64\") {\n",
       "            fig.imageObj.src = evt.data;\n",
       "            fig.updated_canvas_event();\n",
       "            fig.waiting = false;\n",
       "            return;\n",
       "        }\n",
       "\n",
       "        var msg = JSON.parse(evt.data);\n",
       "        var msg_type = msg['type'];\n",
       "\n",
       "        // Call the  \"handle_{type}\" callback, which takes\n",
       "        // the figure and JSON message as its only arguments.\n",
       "        try {\n",
       "            var callback = fig[\"handle_\" + msg_type];\n",
       "        } catch (e) {\n",
       "            console.log(\"No handler for the '\" + msg_type + \"' message type: \", msg);\n",
       "            return;\n",
       "        }\n",
       "\n",
       "        if (callback) {\n",
       "            try {\n",
       "                // console.log(\"Handling '\" + msg_type + \"' message: \", msg);\n",
       "                callback(fig, msg);\n",
       "            } catch (e) {\n",
       "                console.log(\"Exception inside the 'handler_\" + msg_type + \"' callback:\", e, e.stack, msg);\n",
       "            }\n",
       "        }\n",
       "    };\n",
       "}\n",
       "\n",
       "// from http://stackoverflow.com/questions/1114465/getting-mouse-location-in-canvas\n",
       "mpl.findpos = function(e) {\n",
       "    //this section is from http://www.quirksmode.org/js/events_properties.html\n",
       "    var targ;\n",
       "    if (!e)\n",
       "        e = window.event;\n",
       "    if (e.target)\n",
       "        targ = e.target;\n",
       "    else if (e.srcElement)\n",
       "        targ = e.srcElement;\n",
       "    if (targ.nodeType == 3) // defeat Safari bug\n",
       "        targ = targ.parentNode;\n",
       "\n",
       "    // jQuery normalizes the pageX and pageY\n",
       "    // pageX,Y are the mouse positions relative to the document\n",
       "    // offset() returns the position of the element relative to the document\n",
       "    var x = e.pageX - $(targ).offset().left;\n",
       "    var y = e.pageY - $(targ).offset().top;\n",
       "\n",
       "    return {\"x\": x, \"y\": y};\n",
       "};\n",
       "\n",
       "/*\n",
       " * return a copy of an object with only non-object keys\n",
       " * we need this to avoid circular references\n",
       " * http://stackoverflow.com/a/24161582/3208463\n",
       " */\n",
       "function simpleKeys (original) {\n",
       "  return Object.keys(original).reduce(function (obj, key) {\n",
       "    if (typeof original[key] !== 'object')\n",
       "        obj[key] = original[key]\n",
       "    return obj;\n",
       "  }, {});\n",
       "}\n",
       "\n",
       "mpl.figure.prototype.mouse_event = function(event, name) {\n",
       "    var canvas_pos = mpl.findpos(event)\n",
       "\n",
       "    if (name === 'button_press')\n",
       "    {\n",
       "        this.canvas.focus();\n",
       "        this.canvas_div.focus();\n",
       "    }\n",
       "\n",
       "    var x = canvas_pos.x * mpl.ratio;\n",
       "    var y = canvas_pos.y * mpl.ratio;\n",
       "\n",
       "    this.send_message(name, {x: x, y: y, button: event.button,\n",
       "                             step: event.step,\n",
       "                             guiEvent: simpleKeys(event)});\n",
       "\n",
       "    /* This prevents the web browser from automatically changing to\n",
       "     * the text insertion cursor when the button is pressed.  We want\n",
       "     * to control all of the cursor setting manually through the\n",
       "     * 'cursor' event from matplotlib */\n",
       "    event.preventDefault();\n",
       "    return false;\n",
       "}\n",
       "\n",
       "mpl.figure.prototype._key_event_extra = function(event, name) {\n",
       "    // Handle any extra behaviour associated with a key event\n",
       "}\n",
       "\n",
       "mpl.figure.prototype.key_event = function(event, name) {\n",
       "\n",
       "    // Prevent repeat events\n",
       "    if (name == 'key_press')\n",
       "    {\n",
       "        if (event.which === this._key)\n",
       "            return;\n",
       "        else\n",
       "            this._key = event.which;\n",
       "    }\n",
       "    if (name == 'key_release')\n",
       "        this._key = null;\n",
       "\n",
       "    var value = '';\n",
       "    if (event.ctrlKey && event.which != 17)\n",
       "        value += \"ctrl+\";\n",
       "    if (event.altKey && event.which != 18)\n",
       "        value += \"alt+\";\n",
       "    if (event.shiftKey && event.which != 16)\n",
       "        value += \"shift+\";\n",
       "\n",
       "    value += 'k';\n",
       "    value += event.which.toString();\n",
       "\n",
       "    this._key_event_extra(event, name);\n",
       "\n",
       "    this.send_message(name, {key: value,\n",
       "                             guiEvent: simpleKeys(event)});\n",
       "    return false;\n",
       "}\n",
       "\n",
       "mpl.figure.prototype.toolbar_button_onclick = function(name) {\n",
       "    if (name == 'download') {\n",
       "        this.handle_save(this, null);\n",
       "    } else {\n",
       "        this.send_message(\"toolbar_button\", {name: name});\n",
       "    }\n",
       "};\n",
       "\n",
       "mpl.figure.prototype.toolbar_button_onmouseover = function(tooltip) {\n",
       "    this.message.textContent = tooltip;\n",
       "};\n",
       "mpl.toolbar_items = [[\"Home\", \"Reset original view\", \"fa fa-home icon-home\", \"home\"], [\"Back\", \"Back to previous view\", \"fa fa-arrow-left icon-arrow-left\", \"back\"], [\"Forward\", \"Forward to next view\", \"fa fa-arrow-right icon-arrow-right\", \"forward\"], [\"\", \"\", \"\", \"\"], [\"Pan\", \"Pan axes with left mouse, zoom with right\", \"fa fa-arrows icon-move\", \"pan\"], [\"Zoom\", \"Zoom to rectangle\", \"fa fa-square-o icon-check-empty\", \"zoom\"], [\"\", \"\", \"\", \"\"], [\"Download\", \"Download plot\", \"fa fa-floppy-o icon-save\", \"download\"]];\n",
       "\n",
       "mpl.extensions = [\"eps\", \"jpeg\", \"pdf\", \"png\", \"ps\", \"raw\", \"svg\", \"tif\"];\n",
       "\n",
       "mpl.default_extension = \"png\";var comm_websocket_adapter = function(comm) {\n",
       "    // Create a \"websocket\"-like object which calls the given IPython comm\n",
       "    // object with the appropriate methods. Currently this is a non binary\n",
       "    // socket, so there is still some room for performance tuning.\n",
       "    var ws = {};\n",
       "\n",
       "    ws.close = function() {\n",
       "        comm.close()\n",
       "    };\n",
       "    ws.send = function(m) {\n",
       "        //console.log('sending', m);\n",
       "        comm.send(m);\n",
       "    };\n",
       "    // Register the callback with on_msg.\n",
       "    comm.on_msg(function(msg) {\n",
       "        //console.log('receiving', msg['content']['data'], msg);\n",
       "        // Pass the mpl event to the overridden (by mpl) onmessage function.\n",
       "        ws.onmessage(msg['content']['data'])\n",
       "    });\n",
       "    return ws;\n",
       "}\n",
       "\n",
       "mpl.mpl_figure_comm = function(comm, msg) {\n",
       "    // This is the function which gets called when the mpl process\n",
       "    // starts-up an IPython Comm through the \"matplotlib\" channel.\n",
       "\n",
       "    var id = msg.content.data.id;\n",
       "    // Get hold of the div created by the display call when the Comm\n",
       "    // socket was opened in Python.\n",
       "    var element = $(\"#\" + id);\n",
       "    var ws_proxy = comm_websocket_adapter(comm)\n",
       "\n",
       "    function ondownload(figure, format) {\n",
       "        window.open(figure.imageObj.src);\n",
       "    }\n",
       "\n",
       "    var fig = new mpl.figure(id, ws_proxy,\n",
       "                           ondownload,\n",
       "                           element.get(0));\n",
       "\n",
       "    // Call onopen now - mpl needs it, as it is assuming we've passed it a real\n",
       "    // web socket which is closed, not our websocket->open comm proxy.\n",
       "    ws_proxy.onopen();\n",
       "\n",
       "    fig.parent_element = element.get(0);\n",
       "    fig.cell_info = mpl.find_output_cell(\"<div id='\" + id + \"'></div>\");\n",
       "    if (!fig.cell_info) {\n",
       "        console.error(\"Failed to find cell for figure\", id, fig);\n",
       "        return;\n",
       "    }\n",
       "\n",
       "    var output_index = fig.cell_info[2]\n",
       "    var cell = fig.cell_info[0];\n",
       "\n",
       "};\n",
       "\n",
       "mpl.figure.prototype.handle_close = function(fig, msg) {\n",
       "    var width = fig.canvas.width/mpl.ratio\n",
       "    fig.root.unbind('remove')\n",
       "\n",
       "    // Update the output cell to use the data from the current canvas.\n",
       "    fig.push_to_output();\n",
       "    var dataURL = fig.canvas.toDataURL();\n",
       "    // Re-enable the keyboard manager in IPython - without this line, in FF,\n",
       "    // the notebook keyboard shortcuts fail.\n",
       "    IPython.keyboard_manager.enable()\n",
       "    $(fig.parent_element).html('<img src=\"' + dataURL + '\" width=\"' + width + '\">');\n",
       "    fig.close_ws(fig, msg);\n",
       "}\n",
       "\n",
       "mpl.figure.prototype.close_ws = function(fig, msg){\n",
       "    fig.send_message('closing', msg);\n",
       "    // fig.ws.close()\n",
       "}\n",
       "\n",
       "mpl.figure.prototype.push_to_output = function(remove_interactive) {\n",
       "    // Turn the data on the canvas into data in the output cell.\n",
       "    var width = this.canvas.width/mpl.ratio\n",
       "    var dataURL = this.canvas.toDataURL();\n",
       "    this.cell_info[1]['text/html'] = '<img src=\"' + dataURL + '\" width=\"' + width + '\">';\n",
       "}\n",
       "\n",
       "mpl.figure.prototype.updated_canvas_event = function() {\n",
       "    // Tell IPython that the notebook contents must change.\n",
       "    IPython.notebook.set_dirty(true);\n",
       "    this.send_message(\"ack\", {});\n",
       "    var fig = this;\n",
       "    // Wait a second, then push the new image to the DOM so\n",
       "    // that it is saved nicely (might be nice to debounce this).\n",
       "    setTimeout(function () { fig.push_to_output() }, 1000);\n",
       "}\n",
       "\n",
       "mpl.figure.prototype._init_toolbar = function() {\n",
       "    var fig = this;\n",
       "\n",
       "    var nav_element = $('<div/>');\n",
       "    nav_element.attr('style', 'width: 100%');\n",
       "    this.root.append(nav_element);\n",
       "\n",
       "    // Define a callback function for later on.\n",
       "    function toolbar_event(event) {\n",
       "        return fig.toolbar_button_onclick(event['data']);\n",
       "    }\n",
       "    function toolbar_mouse_event(event) {\n",
       "        return fig.toolbar_button_onmouseover(event['data']);\n",
       "    }\n",
       "\n",
       "    for(var toolbar_ind in mpl.toolbar_items){\n",
       "        var name = mpl.toolbar_items[toolbar_ind][0];\n",
       "        var tooltip = mpl.toolbar_items[toolbar_ind][1];\n",
       "        var image = mpl.toolbar_items[toolbar_ind][2];\n",
       "        var method_name = mpl.toolbar_items[toolbar_ind][3];\n",
       "\n",
       "        if (!name) { continue; };\n",
       "\n",
       "        var button = $('<button class=\"btn btn-default\" href=\"#\" title=\"' + name + '\"><i class=\"fa ' + image + ' fa-lg\"></i></button>');\n",
       "        button.click(method_name, toolbar_event);\n",
       "        button.mouseover(tooltip, toolbar_mouse_event);\n",
       "        nav_element.append(button);\n",
       "    }\n",
       "\n",
       "    // Add the status bar.\n",
       "    var status_bar = $('<span class=\"mpl-message\" style=\"text-align:right; float: right;\"/>');\n",
       "    nav_element.append(status_bar);\n",
       "    this.message = status_bar[0];\n",
       "\n",
       "    // Add the close button to the window.\n",
       "    var buttongrp = $('<div class=\"btn-group inline pull-right\"></div>');\n",
       "    var button = $('<button class=\"btn btn-mini btn-primary\" href=\"#\" title=\"Stop Interaction\"><i class=\"fa fa-power-off icon-remove icon-large\"></i></button>');\n",
       "    button.click(function (evt) { fig.handle_close(fig, {}); } );\n",
       "    button.mouseover('Stop Interaction', toolbar_mouse_event);\n",
       "    buttongrp.append(button);\n",
       "    var titlebar = this.root.find($('.ui-dialog-titlebar'));\n",
       "    titlebar.prepend(buttongrp);\n",
       "}\n",
       "\n",
       "mpl.figure.prototype._root_extra_style = function(el){\n",
       "    var fig = this\n",
       "    el.on(\"remove\", function(){\n",
       "\tfig.close_ws(fig, {});\n",
       "    });\n",
       "}\n",
       "\n",
       "mpl.figure.prototype._canvas_extra_style = function(el){\n",
       "    // this is important to make the div 'focusable\n",
       "    el.attr('tabindex', 0)\n",
       "    // reach out to IPython and tell the keyboard manager to turn it's self\n",
       "    // off when our div gets focus\n",
       "\n",
       "    // location in version 3\n",
       "    if (IPython.notebook.keyboard_manager) {\n",
       "        IPython.notebook.keyboard_manager.register_events(el);\n",
       "    }\n",
       "    else {\n",
       "        // location in version 2\n",
       "        IPython.keyboard_manager.register_events(el);\n",
       "    }\n",
       "\n",
       "}\n",
       "\n",
       "mpl.figure.prototype._key_event_extra = function(event, name) {\n",
       "    var manager = IPython.notebook.keyboard_manager;\n",
       "    if (!manager)\n",
       "        manager = IPython.keyboard_manager;\n",
       "\n",
       "    // Check for shift+enter\n",
       "    if (event.shiftKey && event.which == 13) {\n",
       "        this.canvas_div.blur();\n",
       "        // select the cell after this one\n",
       "        var index = IPython.notebook.find_cell_index(this.cell_info[0]);\n",
       "        IPython.notebook.select(index + 1);\n",
       "    }\n",
       "}\n",
       "\n",
       "mpl.figure.prototype.handle_save = function(fig, msg) {\n",
       "    fig.ondownload(fig, null);\n",
       "}\n",
       "\n",
       "\n",
       "mpl.find_output_cell = function(html_output) {\n",
       "    // Return the cell and output element which can be found *uniquely* in the notebook.\n",
       "    // Note - this is a bit hacky, but it is done because the \"notebook_saving.Notebook\"\n",
       "    // IPython event is triggered only after the cells have been serialised, which for\n",
       "    // our purposes (turning an active figure into a static one), is too late.\n",
       "    var cells = IPython.notebook.get_cells();\n",
       "    var ncells = cells.length;\n",
       "    for (var i=0; i<ncells; i++) {\n",
       "        var cell = cells[i];\n",
       "        if (cell.cell_type === 'code'){\n",
       "            for (var j=0; j<cell.output_area.outputs.length; j++) {\n",
       "                var data = cell.output_area.outputs[j];\n",
       "                if (data.data) {\n",
       "                    // IPython >= 3 moved mimebundle to data attribute of output\n",
       "                    data = data.data;\n",
       "                }\n",
       "                if (data['text/html'] == html_output) {\n",
       "                    return [cell, data, j];\n",
       "                }\n",
       "            }\n",
       "        }\n",
       "    }\n",
       "}\n",
       "\n",
       "// Register the function which deals with the matplotlib target/channel.\n",
       "// The kernel may be null if the page has been refreshed.\n",
       "if (IPython.notebook.kernel != null) {\n",
       "    IPython.notebook.kernel.comm_manager.register_target('matplotlib', mpl.mpl_figure_comm);\n",
       "}\n"
      ],
      "text/plain": [
       "<IPython.core.display.Javascript object>"
      ]
     },
     "metadata": {},
     "output_type": "display_data"
    },
    {
     "data": {
      "text/html": [
       "<img src=\"data:image/png;base64,iVBORw0KGgoAAAANSUhEUgAAA+gAAAH0CAYAAACuKActAAAgAElEQVR4XuxdCbhNVRt+TZmnlCFzmgyViIoMSaXRmKZfKDQRKokKDeRHosFcGUqEpFGalGgu/SKlzFxDZCjz5X/eva179913n7PXPmefffa5fd/z3Kfcs/Za33rXvuusd31TrmPHjh2DiCAgCAgCgoAgIAgIAoKAICAICAKCgCAgCCQVgVxC0JOKvwwuCAgCgoAgIAgIAoKAICAICAKCgCAgCBgICEGXF0EQEAQEAUFAEBAEBAFBQBAQBAQBQUAQCAECQtBDsAiigiAgCAgCgoAgIAgIAoKAICAICAKCgCAgBF3eAUFAEBAEBAFBQBAQBAQBQUAQEAQEAUEgBAgIQQ/BIogKgoAgIAgIAoKAICAICAKCgCAgCAgCgoAQdHkHBAFBQBAQBAQBQUAQEAQEAUFAEBAEBIEQICAEPQSLICoIAoKAICAICAKCgCAgCAgCgoAgIAgIAkLQ5R0QBAQBQUAQEAQEAUFAEBAEBAFBQBAQBEKAgBD0ECyCqCAICAKCgCAgCAgCgoAgIAgIAoKAICAICEGXd0AQEAQEAUFAEBAEBAFBQBAQBAQBQUAQCAECQtBDsAiigiAgCAgCgoAgIAgIAoKAICAICAKCgCAgBF3eAUFAEBAEBAFBQBAQBAQBQUAQEAQEAUEgBAgIQQ/BIogKgoAgIAgIAoKAICAICAKCgCAgCAgCgoAQ9IDfgaNHj2Lz5s0oWrQocuXKFfDoMpwgIAgIAoJAMhA4duwY9u7di1NOOQW5c+dOhgqhGPPIkSP48ccfUaZMmX81DqFYDFFCEBAEBIGAECD/2bp1K8477zzkzZs3oFFTdxgh6AGv3caNG1GxYsWAR5XhBAFBQBAQBMKAwIYNG1ChQoUwqJIUHb799lvUr18/KWPLoIKAICAICALJReCbb75BvXr1kqtECowuBD3gRdq9ezdKlCiB6R//gL5v/45a5YtjRrcLA9ZChhMEBAFBQBAIEoE9e/YYl7O7du1C8eLFgxw6VGOtX78elStXBg9p5cqVC5VuoowgIAgIAoJAYhBIS0szLmfXrVuHSpUqJWaQHNSrEPSAF5OHNB7O5n2zCvfO+RXnViiOed0vDlgLGU4QEAQEAUEgSATU3s9L2mLFigU5dKjGUl5k/3ZPglAtiigjCAgCgkCCEZC93xvAQtC94RV3a3VIe+vbVegx+1ecU6E43hKCHjeu0oEgIAgIAmFGQAi6uTpySAvzWyq6CQKCgCCQGARk7/eGqxB0b3jF3Vod0t7+9nd0n71SCHrciEoHgoAgIAiEHwEh6ELQw/+WioaCgCAgCCQGASHo3nAVgu4Nr7hb2wn62eWL4+0e4uIeN7DSgSAgCAgCIUZACLoQ9BC/nqKaICAICAIJRUAIujd4haB7wyvu1hkE/bvf0X3WStQqXwzv9GgUd7/SgSAgCKQeAunp6Th8+HDqKS4aZ0MgX758yJMnT0RkhKALQZc/G0FAEMiZCMh3OeD2HSgE3du7LwTdG15xt1aHtHe++x33zFqJmqcUw7v3CkGPG1jpQBBIIQRYE3vLli1GRm+RnIMAK3SULVsWuXLlyjYpIehC0HPOmy4zEQQEASIg3+VZ34No34FC0L39zQhB94ZX3K3VIe3d7//A3a//IgQ9bkSlA0Eg9RBguRGS89KlS6NQoUKOhC71ZvXv1ZiHtH379mHbtm1GGU2n8mFC0IWg/3v/QmTmgkDOREC+y8111fkOFILu7W9ACLo3vOJubSfoNcoVw3s9xYIeN7DSgSCQIgjQFe63334zyHmpUqVSRGtRUweBHTt2GCT9jDPOyObuLgRdCLrOOyRtBAFBIDUQkO/y7OsU7TtQCLq391oIuje84m6tDmnvff8H7nr9F1QvVwzvC0GPG1fpQBBIFQQOHDiANWvWoEqVKihYsGCqqC16aiCwf/9+rF27FlWrVkWBAgWyPCEEXQi6xiskTQQBQSBFEJDv8uwLFe07UAi6txdbCLo3vOJurQ5p7//wB+6c+QvOKlsU83s1jrtf6UAQEARSAwH1pe5E4lJjBqJlJASirW1YCfqYMWMwfPhw0FWzZs2aGDVqFBo1cvbq6tSpE6ZMmZJt+jVq1MDy5cu1Xgw5pGnBJI0EAUEg5AjId3n2BYqGiez93l5oIeje8Iq7tTqkzf9hNe6YuUIIetyISgeCQGohIF/qqbVeXrRNNYI+c+ZMdOjQASTpDRs2xPjx4zFp0iSsWLEClSpVyjb13bt3gxYSJUeOHMG5556LHj16YNCgQVpQySFNCyZpJAgIAiFHQL7LhaAn8hUVgp5IdB36FoIeMOAynCAQMgTkSz1zQZo2bYratWsbVtucIKlG0C+44ALUqVMHY8eOzYC/evXqaNWqFZ566inXJXnzzTfRpk0bI2SjcuXKru3ZQAi6FkzSSBAQBEKOQE7+LmeVGV7eLlmyxCifxqS2Tr+zL5FY0P17aYWg+4elVk+KoH/ww2p0m7kCZ5Ypig96i4u7FnjSSBDIAQj49aWefvQYvlmzE9v2HkDpogVQv+qJyJM7e3kvPyBzKhtm7bdjx46YPHmy56F27txpfPkXLVrU87NhfCCVCPqhQ4eMCgKzZs1C69atM+Ds2bMnli5dis8++8wV4muvvRYHDx7EggULIrbl5/xRsmnTJtAlfsOGDahQoYLrGNJAEBAEBIEwIuDbd3k6sGgRkJYGlCsHMMIoT57EzjhSuNIVV1yB+fPno2/fvnj33Xcxd+5cFC9e3Ehq6/Q7IeiJWych6InD1rFnRdAX/LAaXWeuwBllimBB7yYBayHDCQKCQLIQ8ONLff7PaXjs7RVI230gYxrlihfAwGtroEWtcr5PjTfnSugWPWDAAPz6668Zv2OyO36JKzl8+LBBvP9tkkoEffPmzShfvjwWL16MBg0aZCzVkCFDjDhz6/o6rSNj1itWrIjp06ejffv2EZearu+PPfZYts+FoP/b/jpkvoJAzkLAj+/yN94AevakZ1EmNry3HD0aaNMmcXiRoG/duhUvv/xylkHy58+PkiVLol27dihcuHCWnCNOvxOCnrg1EoKeOGyjE/QfV6PrjBU4vXQRfHifEPSAl0GGEwSShkC8X+ok53e98gOO2WagbOdj/1MnISRdDUdLea9evQyXN4rKWk7izljmr776ynCZvu6669C9e3csWrQItJRXq1YN/fv3x0033ZShud3FnZntu3Xrht9//92w7PKg8Mgjjxi/SwVJRYJOF8aLLrooA97Bgwdj2rRpWLlyZVTI6QL/9NNPg0T/hBNOiNhWLOip8OaKjoKAIOAVgXi/y0nO27VjDfGsI+c6/mU+e3biSDoJOr/DGaZkF34Pr1u3LuPX9JBbuHBhtt85ec2Ji7vXtyhyeyHo/mGp1VOGBV0IuhZe0kgQyGkI2L/Ajh07hv2H07WmSbf25iM/w9Y9mS7D1gf5vV6mWAF8eF9jLXf3gvnywM193a5YJILOL3UStvPOOw+8hee8XnvtNTRv3hzFihUz3OV69+5tWGwZ+0xxIuh79+7FE088gcsvvxyzZ8/Gww8/bGQIP+uss7QwSmajVCLo8bi4c21Z6/2aa67BM8884wlyiUH3BJc0FgQEgZAi4LTfk2zv2+eucHo6UKMGsGmTc1uS9PLlARbH0HF3L1QIUMTefXQgGkHfvn07br31VuN7e/To0UY5WH5f2H9n9ZpTYwpB10Ffr40QdD2cfGulCPqHP65BlxnLcVrpIvhILOi+4SsdCQJhR8D+Bbbv0BHUGPBBUtRe8fgVKHRCXk9jRyLoTPTG+OVocvXVV4NJyEaMGBGRoLPEFy24FBLBsmXLGi7Sd955pyc9k9E4lQg68eFFSd26dQ3PByWMD2/ZsmXUJHG0plxyySVYtmwZatWq5QlqIeie4JLGgoAgEFIEnPb7f/4BihQJXuG//wYKF9YflwT9lVdeQYECBbI8xDjzRx991EgUWqJEiSy5ZZx+Zx9RCLr+Gri1FILuhpDPnyuC/tHSNbj9teWodnJhfHx/U59Hke4EAUEgrAjkVIL+xRdfGKW6lKSnp2Po0KGg6zsTgylXZyYke/311yMS9HvuuQd9+vTJ6IdlvNq2bWvEvYddUo2gqzJr48aNM9zcJ0yYgIkTJxoeC8zK3q9fP2Ptpk6dmgV6ZvddtWqVEc7gVYSge0VM2gsCgkAYEUh1gs693VrBgxifeOKJxo8Q9OS/cULQA14DRdA/XroGt722HKeeXBifCEEPeBVkOEEgeQjE4+LOrO2dXv7WVfnJnesZWd3dxE8X9x9//NEomaZk2LBh4A8t62effbaRcIax63nz5s2Ie3NycWcb/ihhnzws6NbZdptzIj9PNYJOLGg95zox6Rut4XRZb9zYrCxCKwtzDNBiroS10MuVK2e4Pnbt2tUznELQPUMmDwgCgkAIEYjHxf3zz4GrrnKf1HvvAce346iN/XRx50BC0N3XJtEthKAnGmFb/9kI+kmF8ckDYkEPeBlkOEEgaQjEk1iGMegX//cTbNl9IFuSOE6IMehlixfAF32bacWgxwJCJBd3O0FnCS6WZnnxxReNYY4ePWq4t/NHJaYRgh7LCqT2M0LQU3v9RHtBQBAwEYjruzwdqFLFjEG3J4kzvstzAczmvmaNXgy61zWJFoMuBN0rmolpLwQ9MbhG7DWDoP+0BrdNX45ThaAHvAIynCCQXATi+VKn5iqLO//fmvw12Vnc7QSdCeHmzJmDGTNmGNnYR44cabi2M3ZZCHqx5L6ESRxdCHoSwZehBQFBwDcE4v0uV1ncje9yy5d5UFncncqs0cPtpJNOEgu6b29J7B0JQY8du5ieVAT9k/+tQedXl6PqSYXxqVjQY8JSHhIEUhGBeL/UFUkPsg66FWddCzpLq9122234+OOPUahQIaNU2vr160EXaSHoQtClDnoq7l6isyAgCCgE/Pgud6qDXrEiMGpU4kqsUX9a0KdMmZJtMc8880yjxKa4uCf/PReCHvAaKIL+6f/WoNOry1GlVCEs7HNJwFrIcIKAIJAsBPz4UqfudHdnTPq2vQdQumgBI+Y8T25lR0/W7P7d46ZiDHrQKyYW9KARl/EEAUEgEQj49l2eDixaBKSlAeXKAY0aJcatPREY2PuULO7+oSwE3T8stXqyE/TKpQrhMyHoWthJI0EgJyDg15d6TsAip81BCLr7igpBd8dIWggCgkD4EZDv8uxrJATdv/dWCLp/WGr1pAj6wmVr0PGV5RCCrgWbNBIEcgwC8qWeY5Yy20SEoLuvrRB0d4ykhSAgCIQfAfkuF4KeyLdUCHoi0XXoO5Ogr0XHV35GpRML4fMHxcU94GWQ4QSBpCEgX+pJgz7hAwtBd4dYCLo7RtJCEBAEwo+AfJcLQU/kWyoEPZHoRiHon/28FrdO+xkVTyyIRQ82C1gLGU4QEASShYB8qScL+cSPKwTdHWMh6O4YSQtBQBAIPwLyXS4EPZFvqRD0RKKrQdArlCxo1CwWEQQEgX8HAvKlnnPXWQi6+9oKQXfHSFoIAoJA+BFQ+32VKlVQsGDB8CscgIb79+/H2rVrUbVqVRQoUCDLiLL3e1sAIeje8Iq7tXJx//zntegw7WeUL1EQix8Sgh43sNKBIJAiCAhBT5GFikFNIejuoMkhzR0jaSEICALhRyA9PR2//fYbSpcujVKlSoVf4QA03LFjB7Zt24YzzjgDefLkEYIeB+ZC0OMAL5ZHFUFftHwd/jN1mRD0WECUZwSBFEZACHoKL56L6kLQ3ddWCLo7RtJCEBAEUgOBtLQ07Nq1yyDphQoVQq5c/85Sp8eOHcO+ffsMcl6iRAmUY704m8je7+2dFoLuDa+4WyuC/sXydbhFCHrceEoHgkCqISAEPdVWTF9fIejuWMkhzR0jaSEICAKpgQCJ6ZYtWwySLgKDnJctW9bxokL2fm9viBB0b3jF3dpO0E8pXgBL+l0ad7/SgSAgCKQGAv9Wgt60aVPUrl0bo0aNMhaKcXu9evUyfiIJrRFz585Fq1at4lpcv/pxU0IIuhtCgBzS3DGSFoKAIJBaCNDd/fDhw6mltM/a5suXL5tbu3UI2fu9AS4E3RtecbdWBP3nd17AnCXLcTR/SQy6rBxQqBSwbwdQ+GSgaDmgcgMgd9b4jbgHlw4EAUEg6QikIkG/9tprweQvH330UTb8vvzySzRo0ADff/896tSpExFfO0Hfvn07ChcubLgF+kXQBw0ahDfffBNLly7N0iUtHCVLlkT+/PkTuv5C0N3hlUOaO0Yp1yI9HVi0CEhLA+ja2qgRYIs/Tbk5icIpgUCyXr1Yx7U+V7q0CfGWLcD27cDJJwPly0f+84l1TOtCRurDy+/Zn5c/d9X3zz9vRI8eFbFhwwZUqFAhJd6vZCopBD1g9BVB3/1QURTLHzlW5WDeolh7UlPsOeViFCpVEWddcAXy5M0bsLYynCAgCPiNgG8E/Wg6sG4J8PdWoEiZhF7qkfS2adMGa9asQeXKlbNA0rVrV3z33Xf48ccfo0JlJ+g6uHq1fEci6Dpj+dFGCLo7ikLQ3TFKqRZvvAH07EnXiEy1efgePRpo0yalppIIZaORKj8J16ZNWUlegwbAkiXZ70zUmPb26k6Fny9caP4cPQqceCJAIrljB8A8aPyvIpJqDNWX+tzpvySgfJbCPsuWzUpG7XrpjPXpp8C8ecDOnZkrV6wYcOutQLVqmfpG08s6L2s7u74KA879jz+AiROzvvIk1t26mePyWacxnfR1eudKlgRatgSaNcvE3elZa7tI+lr1iNRH7drATz9lxZFrdNllwOLFWefJZPW8e/v770zNlR7Nm5tran0vPv7YukbcI4Sg6+4zQtB1kfKpnS5Btw+3E8Wwpv5jqHvVbT5pIt0IAoJAMhDwhaCveAuY3xfYs9lyMjkFaPFfoMZ1vk/ryJEjxo33XXfdhYEDB2b0z6QwjDe7//77sXLlSixatAg7d+5EtWrV0L9/f9x0000Zbd1c3FetWoXbb78d33zzDU499VSMHj0al19+eRYX9759+xr/JsnjuLfccgsGDBgAutZNnjwZnTt3zjL3l19+GZ06dTLi4ayu8suWLUPPnj1B6z8t+G3btsXIkSNRpEgR43k+w5jCiy++GE8//TQOHTqEG2+80XDP51iRRAi6+6snBN0do0BbxMMSSc7btQOOHcuqskqUNXt2jiXpdtjshJj/HjrUvKewE8hOnUwCZyd50YiOE+lbuxaYPt0khHbhEliXhX07ETH1nCJkdJJSRNrtPbSP4dY+EhmNppd6xo+xYtFPnvGOQOS1EoLuBU0h6F7Q8qFtrASdQ3Oz/aFIU9TuPUes6T6shXQhCCQDgbgJOsn567dyR7Cpf9wjp/3UhJD0Bx98ELNmzcLq1aszEsBMmTIFd9xxB/744w+89tpraN68OYoVK4Z3330XvXv3xuLFi3HBBRcYekYj6EePHsW5556Lk046Cc888wy4TzI2nVZ5K7F+8skn0axZM5xyyikgyab1/r777gN1owv+o48+ivnz52e44hcvXtyoT2sl6LxUOP3003HhhRfiscceM7LOdunSBY0bNzZIviLoHPfmm282iPzvv/+OG264wSDoHFMIeux/OULQY8fO9yfjsX6ToVapktW8ZlWQp3Ra0tesierurns/4MUS7WbZtbsSW63G5l5luhnTAu1kmXYi3nZSkju3aYGOR4SUxoOePBs+BISge1kTIehe0PKhbTwEXQ3/17EiWFz9UVzZ/g7kyf3vLOngw1JIF4JAUhDIRtB583Z4n54udGt/oT6wNy1C+1xAsXLA3V/r5bDIVwjQLAtDC3n16tXxySef4JJLLjHGb9KkCcqXL4/pNOPY5OqrrzbajxgxwpWgL1iwAFdddRXWrl2bEZtGon3llVdGTRI3fPhwzJw503Cxp0RycbcS9IkTJ4KWeMbBMQae8t5774Fx9ps3b0aZMmUMC/rChQuNiwdVy7V9+/bInTs3ZsyYEXGtxILu/hoLQXfHKJAWx63fzEJtPUUcy5XL/HcU6zcJ7bLnFqJ2b3MfiCr0qyXjtQn7GDw4u4WZllx6zD/0UCZBzuoma3ZUtChw+eUAnV7efjurlVqX2Cqr8rffZnXZZf+6fbhNXz4XBAQBhYAQdC/vghB0L2j50NYPgs7zPG1nfXLdh8vadUOLWtnrDfqgqnQhCAgCCUAgG4k79A8w5JQEjKTRZf/NwAkmSdWRhg0bGu7n06ZNM8grLdEk1yTsQ4cONcjypk2bcPDgQeOndevWeP31142uo1nQ6c7OH1rnlezevdso2WK1oM+ePduwYtOi/ffff4Ou97TY0wpO0SHotLjTMv8picNxUWN99tlnhiWdBJ1J7OgJoISWdFrteUERSYSgu79FQtDdMUpkC8MSvTAd9dpXQaGdG7OQczUuKfvfJSpg3qg1+POvPFniaVUc6+U7X8NruNlV1Zktp2Njo5uyxDGzj1mzspNia2dCkF2hlQaCQIohIATdy4IJQfeClg9t/SDoSo30Y7nR/XAPtLz5LiHpPqyNdCEIBIFAKhP0l156Cd27dzfqvg4bNgyvvvqqQappyea/SZ7PPvtswzJNF/W8efMaWdXdCDqfe/bZZ7MQdLVXKoL+1VdfGTHhdEu/4oorQPd1WrMZI65q0OoQdLre//TTT1mItiLon3/+ORo1apQRg650p/6cD7PD07IuBD32vxQh6LFjxyd1knwxw3I01+yzdy7EQrhbv5viU3yG7NZv6tEE8fcRHxLytCAgCKQWAt4J+pgxY4zzRVpaGmrWrGmcMfgd7SRsw3w4rCjDnDb33ntvRllX1Z4edFOnTsXPP/9s/Kpu3boYMmQI6tevHzoohaAHvCR+EnSqTmt6v3x9MLj/w+LuHvBaynCCQCwIxOXizqztr7ZzH/aW2WZWdzfx4OLOrmi1LleunPGFOXjwYCMem0na6B5eunRpvPjii8aIjCmnezt/dAi6cnFfv369EV9O+eCDD9CiRYsMCzqJOL+sablXwthxWtUVQecXLWPhaem2Siwu7uxTCLrbC+T9cyHo3jHjE5FcwlVvbknArKPeCD3r902YjhnITPRo7SM30rEWVVAem5A7Wz4M4ChyYSMqoCrW4CikZGxsqy5PCQI5CQFvBJ0eeR06dDC+9+m9N378eEyaNAkrVqxApUqVsgHDEDnmsCHp5n8ZgkdCbxUmlmVfLA1boEABw7DwxhtvYPny5Ua4XphECHrAq5EIgp6GUph98Xu497KzAp6NDCcICAJeEYgrSRxj0EfVAvYwBt2eJI6aMAb9FKDXMr0YdK/KA0ZCNX6h0erMsmv8oqRVes6cOYZFm/XGmRGdru10fdch6CT0tLyT/JOIc59kn7wJVxb0efPmoV27doZ7fb169Qz3c1rT09PTMwg6Y+G7deuGL774wohlL1q0qFH73J4k7rTTTjO+oGlxpys758RbeWuSOCHoMbwcGo8IQdcA6XgTZS2nEwozfu/TTFXhNoJf1u/WeAOz0Q65kDWOneSc0g6zMRdSas1tPeRzQeDfgYA3gs4Es3Xq1MHYsWMz4OGlf6tWrfDUU09FhUy3rCvPDzyzPP/887iV9flCJELQA14Mvwm6Uv/GQ4+g083/EVf3gNdThhMEvCIQF0HnYBlZ3PkPK0lPbBZ3NU+WJiO5ZQk0WrkpLK1222234eOPPzbKlpEk0xpOEq9D0NnHb7/9llFmrUqVKobLu9WCzjbM1k43e8a3MwkdM7GTZCsLOn/PG3Lqwd/FW2ZNLOhe32739kLQs2PkVLLLKVO4O7p6LeK1fvP5RliEckjDaViFPhiOYsgsjLweFdELo4Sc6y2HtBIE/iUImASdFnCrtZqX6PyxCkub8izByjHMZaOEuWAYasZ8MdFEl6Dv3bvX8P7jONdcc02o1kEIesDLoQh63/4PohD+xs5jRXBiLvO/DXKvwGV5vkfJXP941ureQ93xbdFm+KJvM3F194yePCAIBIdA3ARdkfRsddDLAy2GJqTEWnDopPZIkiTOff2EoGfFyKnSmTuK8beI1frN50ajJyqCh21T9qIQisI071+Cj/E5mohbe/xLJD38SxDwEp5CSPxIoJiMPkqU2IhduypmW9WBAwcaF+1WYUUVkniWaqVBQAnD2Fje9ddff436dugS9HvuuccwNDAmnS7vYRIh6AGvhiLoO//ahZU7jmDL7v3Y+c8hlCh0AnbtO4QSBfOgwOavUXL9AtTePg+Fch3S0pAW9K+O1sBrXS/ERdVKaT0jjQQBQSB4BHwh6FSb7u6MSf97K1CkjBlznltiPYNf0cwRhaC7oy8EPTPR27x5gC1E0h1AH1uQbL+KW1AQBzJ6jWb9VqSenju5LXrQj0eVaiuMv7EP+pUhfJyOdAWz7Nzfmc4MEclctBJzViA7dgQuvRTYsQNGNn+VxX/nzsxW7KtlS6BZs8x2qr367/bt5mcUJjC0l8ZTvVn70hmLNe3LljWf3rIF4DjU0z6+139b9WXpv9KlneeeJ4/59+ykv9OYVn1ZfKRcOYA5z1Q/1gSP9nnwWYZJk68uWZKZCJLtnPSNNL5TH9a+nbx3+PlNNwFVqwJOejiVQlRr2by5qXfVqhtRpYqeBV0R9CVLluCiiy7KwJe5bxjmxrKv0USHoDP+nNVnmPj1nHPOCd3+IQQ94CXJcHHfvdsoDxRN0o8cwdeTH8KFGyYhdy6neFPg6DFgC0rh4oOjcRS5MfrG2mhZO1yJDgKGWIYTBEKNgG8EPdSz/HcqJwTdfd3/zQTdLdGbO3r+t/gQl6I5zNKBV+EdfIAWjtbvTLf4jVnIuV2jstiMrfj3lH7VtUQOHAicfjrgRGQqVAC6dgWqVXP+3E6AWY1y6lRg9+5M9CtWNC97SJRJ8tLSTPJnJ3OKXFlJoVM9etVfG4cUAvaQDNWXl7fTrRqB6vPfYsMAACAASURBVMuPsbzo5dbWKRyFZFnhHQsWbmMm4/NYcHd7xsven2gX9xEjRuDJJ5/ERx99hPPPPz8ZELuOKQTdFSJ/G3gh6Bkb1M9zkXt2JyPclF8GSkjOKXcd7oUPjpolAsSC7u96SW+CgN8ICEH3G9Hw9CcE3X0tvBzS3HtLjRaKmA8fHr32dzJm8wUaoiGWGEOfgV+xCmc4qqGbWO5GTMfMCJnfEz0/O1l2suw6WWWVXvRwZR/792dqGsn9mFbVnj2Bhx4yrZkkaKtWmcn8NmZ6/8OJ6LoRGbfPqZ1OGy94+92fl7Gl7b8DAa97P5PEMSM7s7grqVGjBlq2bBlXkjhWoSE5p2s789iEVYSgB7wysRB0YzNePg9/zuqNMjjuIwRg87FSeOxwB4Ock7eXLV5AYtADXk8ZThDwioAQdK+IpU57Iejua+X1kObeY3hbhJmYK9S+Rx3UwY/GPxvhc3wB5xrDuqXZ+mAYRqCP9qJYia6Ta63dTZYWYVqIFy5kOUeAz9PF2eq262bNjGa9peJWC7Td/Vi3b7d22gBJQ0EghyDgde9XZdbGjRtnuLlPmDABrGPOkmiVK1dGv379sGnTJqOuuRImkKOwMsuZZ56JPn364IQTTgCJPYVu7Y8++ihY8YXl1pQUKVIE/AmTCEEPeDViJehUc/6yjZj92kuYdMLThtY1DryIfSiYEfs19j91JIt7wOspwwkCXhEQgu4VsdRpLwTdfa28HtLcewxnCyZ/69YtM+42bFoqa/MKVEd1mPGcL1/5OnZffr1jDG/Brxei3QuXuE7j115j8N35d2Hr1sy5qxhea0ys3dVadSyWXFeIpYEgkJIIxLL303pOUp2WloZatWoZ9c0bN25szL9Tp05g7XPGkCthSVW7kMyzHYUVYtatW5etjVOiumSDLAQ94BWIh6CbJH0zLp5TF0WwD80PDsPvxyqgXPECGHhtDSHnAa+lDCcIxIKAInH8oihYsGAsXcgzIUVg//79xkGgatWq2TLCxrv3h3TKntWK5ZDmeZAAHnAikhyW1lfWLR89OvFK1KoFbN7MMofZx9J1zT7/+ioo8ufxA+tzzwHduzsrzglXqWJmpjrmnBPHePCjj8ysYiKCgCAgCFgQyCl7f1CLKgQ9KKSPj+PHIe3Y2IbItfVndD7UB2dfcj16XnqGlFYLeB1lOEEgVgTS09ONmt+svVmK6VdFcgwCO3bswLZt23DGGWcgD9PyWsSPvT8nAJUTDmlOpdFoJT5yBNizJ/GrROvzCy8A11+fGYtM3sxMzk5JwJxctjO0LFMGYDppysMPA08+GXkCnHi7dtEJ+jvvAFdfnXgQZARBQBBIKQRywt4fJOBC0INEG/zy3oPixYtjt0YW94iqzbgFWPkOBhzuiNptH0SbOhUCnoUMJwgIAvEgQHetXbt2GSS9UKFCcHLLiqd/eTZYBI4dO4Z9+/YZ5LxEiRIox/TJNvFl7w92WgkZLdUPaToc1W/gChc2ybgqV+RrpuiiRTMz191+OzBpUnT1nXz3rdnZZs4E2rf3GwLpTxAQBFIcgVTf+4OGXwh6wIj7ckib3x/46gVMOHI1irccihvqVQp4FjKcICAIxIMACd2WLVsMki6ScxAgOS9btqzjhYsve38OgCpVD2n08GaoI7mnk0t5IpZGJVCjYdvmkOHfcHnzZhZyvuYas0C1m0yeDHTubLZ6+mng/vszn3j5ZQaHuvUgnwsCgsC/DIFU3fuTtUxC0ANG3pdD2ldjgfkPYenRU7Htgv64/Mo2QO6s7pQBT0uGEwQEgRgQoLv74cOHY3hSHgkbAvny5cvm1m7V0Ze9P2yTjkGfVDykObm0xzB17Ud69TLrWftqKXcanXvPCSdkfsJ6wN9+667n2LHA3Xeb7aZNAzp0yHzm+eeBe+5x70NaCAKCwL8KgVTc+5O5QELQA0Y/7kPaireAt3sC+y1ZYYqdArT4L1DjuoBnI8MJAoKAICAI6CAQ996vM0gKtEm1Q9rs2aZ7eSLEXrfbqWZ2IsbN6JMB88WLZw5BBdavdx9yxAigz/FSaqyNxmLgSoYNy/zMvSf/C3rrjCltBAFBIHAEUm3vDxwg24BC0ANegbgOaSTnr98KwJ5B9XhZgfZThaQHvJ4ynCAgCAgCOgjEtffrDJAibVLpkDZrFnDTTZke4H5BzHK75LfktUuWAEmrmc1aaCwiriRfPuDgQcChVFGWuT/2GDBokPkrZn2n1VzJwIGZn7kB5uSaUKGCmQK/TRu3p+VzQUAQSCEEUmnvDwOsQtADXoWYD2lH04FRtYA9myNonAugJb3XMnF3D3hNZThBQBAQBNwQiHnvd+s4xT5PlUNaIizn5L3kr488ksCYci/vA2sDV61qKsMge8q8eWYW9mhB7w8+CAwfbrZv3RqYOzdzVN480IruJpGy7anLAS6AkHQ3FOVzQSBlEEiVvT8sgApBD3glYj6krVkETLnGXduO7wBVG7m3kxaCgCAgCAgCgSEQ894fmIbBDJQKh7REWc5ffz1x7vIxrd4vvwA1apgWc2ttczcrNmPMx4wxh6xXL2vcOmPTWQMumqia6hs3OreiPtRhzZqQ3GTEhK48JAgIAhYEUmHvD9OCCUEPeDViPqQtmw3Mud1d27YvAme3c28nLQQBQUAQEAQCQyDmvT8wDYMZKOyHtERYzgOPLdddSmssufUZNys2s7RPmWI+wZKC9NFX0rEjwCzv0YTp8C+5xF3LTz8FmjZ1byctBAFBIPQIhH3vDxuAQtDjXJHWrVtj4cKFuPTSSzGb3+wuEvMhTSzobtDK54KAICAIhBaBmPf+0M4oNsXCfEjz03JeqBDQpYvpAZ7wbOyxLAWt2CTX27c7Px3Nit2uHTBnjvlc7tzA0aOZfTCjHl0FoslrrwE33+yu9fTpZhIAEUFAEEh5BMK894cRXCHoca7Kp59+ir///htTpkxJLEHPiEHnTbU9SRwnITHocS6lPC4ICAKCQMIQEIJuQhvWQ5pflvNAapf78ZZ6sWLzhmHRosxsdszc/sEHzlpcdRXw7rvRNfQytljQ/Vht6UMQSDoCYd37kw5MBAWEoPuwMrSgP//884kl6NQzI4s7/2El6ZLF3YdllC4EAUFAEEgYAkLQw0vQ47GcM1S6a1fg9NNNg3QoreVOb7WuFZtF2Xl7YY0XZ+30Q4ey9qri2Emo6ZoeTVQM+qZNWWPf1TMSg56wfUg6FgSShYAQdG/Ih56gP/XUU+jfvz969uyJUaNGeZtdlNaff/45hg8fju+//x5paWmYO3cuWrVqle2JMWPGGO3YpmbNmoYOjfgNbJHACLoi6fP7Zs3mXqw80GKolFjz7e2QjgQBQUAQ8BcBIejhJOixWs7vvTfE7us6r66uFVunL7Y56STgzz/NpHHffOP+lMrizpbWBHVu8e/uPUsLQUAQCCECQtC9LUqoCfq3336L9u3bo1ixYrjkkksiEvTFixejfv36yMcanhZZuXIlSpQogbLWOp/HP3///ffB5+rUqYO2bds6EvSZM2eiQ4cOIElv2LAhxo8fj0mTJmHFihWoVKlSxkiBEnSOejQdu0ech+L71mHuiV3QuvswKa3m7b2X1oKAICAIBIqAEPRwEXQacZ94Anj8cWcjbqSXg9XHZswAGIad0kIATj4Z+OuvyNOwll9zm2zNmsDy5WZWeP5XR0jS77oL2LYts3VoM+rpTEjaCAKCQCQEhKB7ezdCS9AZ103yTHL85JNPonbt2o4E/ejRo0a7008/HTNmzECe47U7f/vtNzRp0gS9e/fGg6zZGUVy5crlSNAvuOACo++xY8dmPF29enXD0k7LvpLACTqAP0c1wkm7/odnSz+Be+++19uqS2tBQBAQBASBQBEQgh4egk5e2K0bsGOH91cgdKXSvE8h8wmCMHFi9h7sZdd0xmBWdrq2V6lilkfTlQULgCuuMFszVoDnrWg12HX7lXaCgCAQKgSEoHtbjtAS9I4dO+LEE0/EM888g6ZNm0Yk6Jzu5s2b0bhxY5BQT5s2DWvWrDHI+dVXX21Yvd3EiaAfOnQIhQoVwqxZs8BM7Uroar906VJ89tlnngj6Cy+8AP6kp6eDlwe7d+82PANilR2jm6DUX0sxqtQA9Opxf6zdyHOCgCAgCAgCASAgBN0EOdmHNJLztm29L3iOsZxbpz5yJHD//QBTzu/bl/kJrdgEyUtY4Y03mq4FtMpbLeJuUL/9NnDddWarvn0BJqATEQQEgRyHQLL3/lQDNJQEnZbwwYMHgy7uBQoUcCXoBH39+vUGSb/wwgvx5ZdfGs9MnjwZJN9u4kTQSfrLly9vuME3aNAgo4shQ4YYGdt//fVX43dXXHEFfvjhB/zzzz/GhQJj2esxBiuC+HVI2/HcpSi14zs8U6I/evfq6zZF+VwQEAQEAUEgiQj4tfcncQq+DJ3MQxq9usuUySGWc07Gmlk9lux0gwcDjzwCdO4MnH8+cM89JkBM3sa+dWqVq7eCQfnPPgsULgz8/bf+u0JSr0qp3XEHMG6c/rPSUhAQBFIGgWTu/SkDkkXR0BH0DRs24Pzzz8eCBQtw7rnnGqq6WdDVfJj4jZbzU0891SDQefPm1VqTaAR9yZIluOiiizL64cUBrfSMb49F/Dqk7XjhcpTa/jWeLtYX99/XPxZV5BlBQBAQBASBgBDwa+8PSN2EDZPMQxrjzQcO9Da1UFrO6QbQs2fWzOpMJz96NNCmjTlBHQJPck6S3r070KMHcOaZAD37du82n6e7ujV7ezTonnzSJPs0ivBZDeOI0d2LL5oF4ynt2wMzZ3pbIGktCAgCKYFAMvf+lADIpmToCPqbb75puJSrWHLzeybdsITnzp0bBw8ezPKZms/WrVsNcn7GGWcYlvd27drhueee01qTeF3ctQY53sivQ9rOcVfhxC2LMaLI/XjggQFeVJC2goAgIAgIAgEj4Nfe77faOpVKrGPyO/jxxx/HK6+8gi1btqBChQp4+OGHcdttt2mplqxDGjlj6dLAzp1aamY0Cl3Mucp+bs18Tm2t2c/5bzcCzzZ0b6ebe58+pns5M7FTWEKNrudugfolSgC7dpnPMJadMeSUf/4x3eZ1hOc0Wt8pl10GMCZdRBAQBHIcAsna+1MVyNAR9L1792LdunVZ8OzcuTPOOuss9O3bF7Vq1cqG9Z9//mlY2ZkojjHjq1atMv7NDOwjRoxwXZtoSeLq1q1rJKpTUqNGDbRs2TJLkjjXASwN/Dqk7ZxwHU7c/BmGF+yJPn0f96KCtBUEBAFBQBAIGAG/9n4/1datVGIdk99/vBBn8tbTTjsN27Ztw5EjR7KEgkXTMVmHNK9VxUJpOXezapOkn3iieQsRjcArK/vdd5tJ2QYMMH+U1+FLLwG33x49vT3Hopfj0qXmcs+bB7Rsaf7/9u2ZZN/thWXMeb9+ZivdEm1ufcrngoAgEDoEkrX3hw4ITYVCR9Cd9I7m4s4s7iyxVqZMGSP++4QTTjC6WLZsmVGajTf7zORuF2aJ//33341fn3feeRg5cqTRnnHkqoSaOryMGzfOcHOfMGECJk6ciOXLl6Ny5cqaEGdt5tchbdek1iix8RMMO+EePNh/SEy6yEOCgCAgCAgCwSDg197vp7a6lUrUmPPnz8eNN96I1atXG9+VsUiyDmmvvQbcfLO+xqGznFN1r7cM9umSVNMVnlnWeQPB2PPJkwFWpXnoIaBkSdMiztK0W7ZEB6tIETNunTop3ZiN/eBBYO1aQPeM9OijAN3jKaedBqxapb9I0lIQEARSBoFk7f0pA5BN0ZQn6JzPhx9+iEaNGhkJ5azCbOulSpVCRWYktQlLo5GQ24XZ45lcTgmt58OGDUNaWpphvWdWeSaji1X8OqTterk9Sqz7AMPy3okHH/lvrOrIc4KAICAICAIBIODX3u+Xql4qlagx7777bqMKCfPEMBdL4cKFcd111+GJJ55AwYIFtVRL1iFNl9syBPvllzNDubUmFVQjr7cMkfRiObSmTQFmXmfMN7O10yW+WjVg9Wq92ZDM8yxEyznlu++Ayy83rfcrVgDVq+v1o9zs2bpUKeDPP/Wek1aCgCCQUggka+9PKZAsyqYEQU9VcJ309uuQtmfKTSi25j0Mzd0VDw1wd+PPSRjKXAQBQUAQSDUE/Nr7/Zq3bqUS63gtWrQAL7ebN2+OAQMGgOFlJO3NmjXDS3SLdhDGrPNHyaZNm8BQMSaEZfx6UKK8w5mg3O79rXQgOad39nFHvKBU0x9H95bBrcfp083M6XRJf+stgOVoGW9evz7w7bduT5ufM6D/yiuBKVPMfzNxbvPmZlI59kHruo7ceac5PoVW/cOH9RPM6fQvbQQBQSAUCAhB97YMQtC94RV3a78OaXtf6YCiv7+FoeiEhwaNjlsv6UAQEAQEAUEgcQj4tff7paEi6F4qlVx++eVYtGiRkRyuePHihipvvPGGkZSVpUadrOiDBg3CY489lk3toAm6qSvQrl1kgj5nTkgt5wo9nVsGnRdEWdBp8f7wQ2DaNOA//wFatAA++ECnB+DUU4FrrjFLq1FIzC+9FGAJWl4kNGmi10+HDsArr2S23bMHKFpU71lpJQgIAimDgBB0b0slBN0bXnG39uuQ9s9rnVH41zcw9OiteOhxvWz1cSsvHQgCgoAgIAjEhIBfe39Mgzs8FIuLO0PAFi9enJG/hd3+8ssvhkWcru9M1GqXsFjQlV7WpOHqd4yCo5e3yp3mF8YJ6cftliHaoPYYdNZO/+ILYPZsoG1bM0ifbvS8fCFRjuRqwDEuvNC0mKv4cWZ9Zzw5k8a9955pXdcRjss5KVm/HnAIS9TpStoIAoJAeBEQgu5tbYSge8Mr7tZ+HdL2z+yKgr+8jqFHbsZDT46NWy/pQBAQBAQBQSBxCPi19/upIZPEealUwkSpvXr1MjK3F2GSMCN59zy0adMGTLyqE4ee7EPau++ahl+GWz/xBFCuHECeSu/qlBESWnsJNE6AFnY3gk4yrm4i6tYFfvgBIChXXWXWQ3/hBdPNgO4E0Qj6OecArLjDmulKGBvAEm2zZpl96Ijdav/TTwD79iI6Nd+99CdtBQFBwHcEkr33+z6hBHcoBD3BANu79+uQdnDOXci/bDqGHb4B9z8xHnly5wp4JjKcICAICAKCgC4Cfu39uuPptHOrVNKvXz8wZnzq1KlGdyTh1atXx4UXXmi4rTMGvUuXLmjSpIlR4URHkn1Io0c286HRcEuumrIybJhZu5xyyinA5s3uU2GoAcupKalRgy4QwCefAEyaO3Ag8PjjAMuv0V391lvNmuZepUePTNd3t2eVFV+1i+QeH4mE87JCp+a7mx7yuSAgCCQUgWTv/QmdXAI6F4KeAFCjdenXIe3Q3O444adpGHH4enQfNB4F8qXS9X/AoMtwgoAgIAgkGQG/9n6/pxGtUkmnTp2wdu1aIzGckpUrV6JHjx6GqzurpLRv396oia5jPWcfyT6k3XsvQDf3Bx8E/pvKBVCUtZugFi6sR6RVcji1mFWrmiXRvvzSdFkfPRro1cvM7k5Xd7qwf/wxcMcdZoZ23mroCDO8M9uejluCsuKrft98M7OeuvpdJBLORHcjRujVfNfRW9oIAoJAwhBI9t6fsIklqGMh6AkCNlK3fh3S0t/ujTzfv4RRR9qg88MTULxgvoBnIsMJAoKAICAI6CLg196vO15Y2yX7kHb11WaI9IQJQNeuYUVJQy/66dM13Yuo5HDqGdY737rVjBs/91wzWRyt5pddBixYAFSpYrqxM069Xj0gf3790exjRXryrLPMxHKFCgH79pk17jp1ymwda8y9Pd5eX3NpKQgIAglAINl7fwKmlNAuhaAnFN7snft1SDv2Xh/k+mYCnjvSCjc9NAEnFfHwxRnwnGU4QUAQEAT+7Qj4tfenOo7JPKSpJOhMOP7006ZntI6RN5SY16oFLF+urxoTr61ZY7ZftAhISwO6dDFJMQnyGWeYhJ/En1btxYsB1rZnHPqWLUCZMgDr0O3dqzemygpfvnz0IH/qxQVhgsFVq4CRI4Hevc0xrAumN2r2VroXBbH2L88JAoKAFgLJ3Pu1FAxZIyHoAS+Ib4e0+f2Ar8ZgzJHr0OqBCTilRMGAZyLDCQKCgCAgCOgi4NverztgSNsl65CWo0KVSZpZisxLfDiTvlHs8dr8naqDTlf3Bg1My/mgQaYlmySdGd3z5s20qHt9t1jvnu7zTmnyS5UCdu4EmjY1y7MxRl6V5fOj7rvdrd+r7tJeEBAEfEEgWXu/L8onoRMh6AGD7tshbcEjwJLnMP7I1bii10RUOalwwDOR4QQBQUAQEAR0EfBt79cdMKTtknFIi+QlTS9oijWxeUhhy1SLVuV33gFatdJXlVnRmQAuUhF4AkEQaJU/80yA/7ZmcFcEmyXVfvxRf1xrSzWGnaQXKAAcPGjWYWc9dGuCOcbBs/RbPCIW9HjQk2cFAd8QSMbe75vySehICHrAoPt2SPtwILB4FCYduRJNekzE6WWKBjwTGU4QEAQEAUFAFwHf9n7dAUPaLuhDmpuXdEqFKju5AeisMzO0032cruROokCg1fz227O3UDcZZ58N/O9/mZ/biXw0XZyA5uLQMk9hRnpm7SNRZyw8JR4LekotrM4iShtBILURCHrvT220ACHoAa+gb4e0j58AFo3Ay0euQL27JqJW+eIBz0SGEwQEAUFAENBFwLe9X3fAkLYL+pCmy/FCb2iNNVka3wMmePv2W/c34qSTgD//jEziae3ev9/8/K67gLffjkz6I41mBZrx7Ixrp4waZWaQP+88Mw6d5dcodLfftCl6TXb7RUFKuka4L4+0EARSGYGg9/5Uxoq6C0EPeAV9O6R9+hTw2VBMO9IctbpNwnmVSgY8ExlOEBAEBAFBQBcB3/Z+3QFD2i7oQ5qul3SoQ5Xd3ACc1tpKWlUCNj/fiRkzTJd5Wt3p+q4rVqCZfK5cOfNJxqLv2JHZi3Kr52+cXPMVCX/gAbMknNU7gInnSPidYt519ZR2goAg4CsCQe/9viqfhM6EoAcMum+HtM+GAZ8OxvQjzVDttkm44NRSAc9EhhMEBAFBQBDQRcC3vV93wJC2C/qQliMs6KxFzprkXoQkle7qJNCVKgHr13t52r0trefM+K4LsOrRakFfvRqoVs15LKsV3ImkW0n4kSNAvuOlZlkm7qWXUjg9vzv00kIQSEUEgt77UxEjq85C0ANeQd8OaYueBj5+HDOPNMUpHSeh0eknBzwTGU4QEAQEAUFAFwHf9n7dAUPaLuhDmjI+R/KSDn2oMl3bWbCdmc515L77gGuvNV3Ely0zXcZZ75yx3m6u4jr9qzaffAIwtl3Xuu8ENOuvU79Iop5ZuRIobEmEO3Ei0LlzJgk/cMDMNk+hRX34cC8zSe22xF+VzaM3Atc9ZWsHpvZSiPbREQh670/19RCCHvAK+nZI+2IU8NFAzE5vjBNvmYRmZ5UJeCYynCAgCAgCgoAuAr7t/boDhrRdMg5p5Lht22YHJPShyrHEnaua5pzu2rVA1aomeWWG9EhZ3HXflZIlgb/+MluPGQN062aSQR09nbK4s4977nEfnS7sN92U2e6DD4DLL8/8Ny8v6CJPYWw8+w2LJJJA56jagWFZMNEjUQgkY+9P1FyC6FcIehAoW8bw7ZC25HlgwcOYm94QBW94ES1qHY/jCng+MpwgIAgIAoKAOwK+7f3uQ4W6RTIOaeRILVoAH32UFZpQhyrrWqatUyJZZm30/PnN3+7aBZBUU2hlZnm266/PmnAtd27g6FG9d4a115nYTYm1vnm0DPORgH7kEWDwYPexWRedZeKUTJ0KdOiQ+W/Gn3MMSseOwOTJ7n0G0SKRBDpH1Q4MYjFkjGQjkIy9P9lzjmd8IejxoBfDs74d0r4aB8zvi7fTL8TRti+hZe3yMWgjjwgCgoAgIAgEgYBve38QyiZwjKAPaU4c6cQTgZ49gYcfDrE38OOPZyWlumtiJc0k3nRtZ03zrVsBkvGTbeFwdH9nsrZYxO6CoKzFdKXv3RvYvh0YMcLMzu7kdj1kiLkIbvLEE8Cjj2a2GjYM6NMn89+//WbWb6fwAuL11916TPzniSTQbpc3oY/bSDz8MkL4EAh67w8fAt40EoLuDa+4W/t2SPtmIvDeA3g3vT72t3oZ7epWiFs36UAQEAQEAUEgMQj4tvcnRr3Aeg3ykJZIjpRQwCL55OsMaifNJUoAu3cDjOPesweoX98kyyR5uhKtfSQyeOWVwPz5wKRJzrXVOTYzut9yS3QteJvC2ujPPpvZ7v77TeKvxBrLftVVwLvv6s4sMe0STaB1E/OFvnZgYuCXXsOJQJB7fzgR8KaVEHRveMXd2rdD2ncvAe/0xgfp52PHNS/j5gsqxa2bdCAICAKCgCCQGAR82/sTo15gvQZ1SEs0R0oYYG6K6wxsJc3Mkr5uHfDVV2ZM+o036vRgtrHXF4/2pJ0M3nknMH68afmmN4ASa0z2jz9mJnTzMhYJ+7RpmX0uWQI0bGj+u2lTgLokUxJNoHNE7cBkLpCMnQwEgtr7kzG3RIwpBD0RqEbp07dD2g9Tgbd64MP0Oth85cvo2KBKwDOR4QQBQUAQEAR0EfBt79cdMKTtgjqkJZojJQxeXcV1FCBRpXv5Tz+Z1uzvv9dzKVd9M66b2fVYU9xN7IXkn3oK6N8fYNmzKVPMpyPFqdM9nbHz1lrm0ca77DJgwYLMFtYydPQQ+PprN20T+3miCbTuOyIW9MSus/TuCYGg9n5PSoW4sRD0gBfHt0Paj68C8+7Gp+nn4vfLJqNr41MDnokMJwgIAoKAIKCLgG97v+6AIW0X1CEt0RwpYfDqKq6jAEnzhAlmrfIZM0yrs477N5O3XXqpWbKLJbxYTs1N7GRQzaNJE3N8t0zvjBtnhvg7n/vI5gAAIABJREFU7nAbCahVyywhp4Q12a+7zvxXzZrAzz+795HIFokm0Dq1A8uXN5PlbdsGSPm1RK629K2JQFB7v6Y6oW8mBD3gJfLtkPbTTGBuN3yefjaWNZuMey45LeCZyHCCgCAgCAgCugj4tvfrDhjSdkEd0hLNkRIGr67iOgqQNI8eDbz5pll6jMnV6ObuJlZruA4ZZGK6NWuyJoJTbueVKwN//AFUqRLdQk5rPV3iGUPuJoyrV+Xe2HbmzEzXfZaVW73arYfEfh4rZl60UhcefIZJAJWoUAGWnduxI/P31uSBXsaRtoKATwgEtff7pG7SuxGCHvAS+HZIWzYbmHM7FqfXxDeNJ6P3ZWcEPBMZThAQBAQBQUAXAd/2ft0BQ9ouqENaEBwpIRC7Ka4zqDUGvUsX05JavLiZLE5H7NbwaGSQ/c2eDbRpk7Xn9esBknPqMnw48MAD7iOzTjv7chP2efhw5oXAyy8Dt91mPlWmTOxZ6d3G9fJ5EBkKnUIGIq2zPXmgl7lIW0HABwSC2vt9UDUUXQhBD3gZfDukLZ8LzOqEr4+ehYUNpqBvi7MCnokMJwgIAoKAIKCLgG97v+6AIW0X5CGNXI9Vt+wSeq7i5g4ebW3tk7v2WrP+uY5EK8/lRAYj1TePVhNdRw+dNmlpAEvEUV54Aeje3fx/1mpntvowyH33Ac88k1WTSJjFqi8vdOjCzpJ2FHoX7Nrl3FtOLL9mTToorvyxvkWBPBfk3h/IhBI8iBD0BANs7963Q9ovbwMz/4Pvjp6B9+tPwaPX1Ah4JjKcICAICAKCgC4Cvu39ugOGtF1Qh7RoHNFvjpQQqDkBliA7cMC5e06CGdkZ621NrmadHMkLy5TpEFadWwsdMhTP5YIXIIkNvQMYJz9yJPDgg+bTrPV+5IhpuU+29OsHDB1qakF9PvzQzDLvVBM+Hl25xlaXf7e+ckryOKc/cnHld1v9pH0e1N6ftAn6PLAQdJ8BdevOt0PayveAGTfhx6OnYW7dKXi8ZS23oeVzQUAQEAQEgSQh4NvenyT9/Ro2iEOaG0dkPjIny7pfc/Stn4svBhYvNjOxX3ON2a096Vc00szyZgMH6qnjx62FHyXi9LTNbEVCxhJrjENXwkuN/Pm99uRve2JBvawZ5WnlPukkf8dhb3nzeqtrb8+4779Gie8xiBCCxM/iXzVCEHt/TgJUCHrAq+nbIe23BcD06/G/o1Ux/dypGNr2nIBnIsMJAoKAICAI6CLg296vO2BI2yX6kObGEVPKy/fss82M5B99ZGZV9yIkMCyRpiPM2j5oUPyWXT8T3OnozTZO9dN37gRKltTtwf92kdw3mLDv3nv9HY+3TTfc4K3PVLeg56g/cm9Ll8qtE733pzI2TroLQQ94RX07pP3+EfBKWyw/Whkv1pqKke1rBzwTGU4QEAQEAUFAFwHf9n7dAUPaLtGHNF2OGCqOEskKTuvwpk3Ad98Bdevqr6gbgbH35BcYsZaIo9s3F84v2bABIHbJEDf3jTlzsifUi1VPrnOlSsDmzXo9pNTtVJQppeQfud4S5eRWid77cxp2QtADXlHfDmmrFwJTW2Ll0Yp4/qypeP7mOgHPRIYTBAQBQUAQ0EXAt71fd8CQtkv0IU2XI4bGyzdaHO2ttwL//GOWKTv1VP0V1SUw7JGu7fYSafojZW3pZVz7GIzLJuH0Q379FTgjCZVtdC5GkoW3islnKMDJJwNMspeqSdVS7o/cj5c69ftI9N6f+ghlnYEQ9IBX1LdD2tovgMlX4/ejp2DYadMw4dbzA56JDCcICAKCgCCgi4Bve7/ugCFtl+hDmi5H9MtoHBfMbnG0qr4161kzEZiu6BIY9ue3Rdet3rnuHOJp9+OPQO3aJuFftCg2MhrLs15fvljGsOLiZZ0jJRVMlaRqVqy2bgV693Z/Q0LxR+6uZsq1iPG9jWXvHzNmDIYPH460tDTUrFkTo0aNQiMmhnQQtrn//vvx/fffY9WqVbj33nuN9naZM2cOHn30Ufzxxx+oVq0aBg8ejNatW4duGYSgB7wkvh3S1n0JvNwCq4+WxRNVp+HlzvUDnokMJwgIAoKAIKCLgG97v+6AIW0XyyHNy1TcyoiHxsvXzdpqja1mVnIvmb91ieJjjwEDBniB172tl9h3p978sKR/8QVAEtezZ9YM97pkNNbs4LqEme4bTGIXq34KN911rlfPzHLfvj2gLn1UHzrZ+91XPbEtnNYj2nsSmj/yxMKSlN5j/dsA/xQ3omLFitiwYQMqaISgzJw5Ex06dABJesOGDTF+/HhMmjQJK1asQCWGdthk7dq1eOaZZ1C3bl3jv02aNMlG0L/88kuD4D/xxBMGKZ87dy4GDBiAL774AhdccEFSII00qBD0gJfDt0Pahm+BF5tj/dGT0a/SK3i1y4UBz0SGEwQEAUFAENBFwLe9X3fAkLbzekiLZRpuhmnWR2/TJpaefXxGl1wVKmS6uXsRt1sK9sUD8tq13oi/rg5cgG7dAFr+YxHWDi9TBli1Cpg4MSvJ1umPlw5PPKFPRq0WQY7JhHmxEFndNeXFSKxjWOdvr4EeCZsrrwSWLYuMY5gJrVtMv33OqXDhoPMOh7FNnBur172fhLlOnToYO3ZsBhrVq1dHq1at8NRTT0VFqGnTpqhdu3Y2gn7DDTeA38Xvv/9+xvMtWrRAyZIl8Rov2EIkQtADXgzfDmmbvgcmNsPGYyehd7lpmHVng4BnIsMJAoKAICAI6CLg296vO2BI23k9pMU6DZ4laTC0hjX7UUksVn2yPadrbS1VCvjzT+/DqsM0n7SSzaAIDIEfPBgYPhz4+29v+lsTBCjyPHcu8Oyzev0Qs0iXA3YyGinjutNI1mf5ud19nr+jiz8T+9kJvupPWQ6tteutY3kly/37Ay5kBWedBaxc6Y5d2FzC3bxMnGYUqj9yBwVjdA93X7wEt3BbC4331svef+jQIRQqVAizZs3K4n7es2dPLF26FJ999llMBJ2W9969exs/Smhtpyv8unXrEgyit+6FoHvDK+7Wvh3S0n4CxjfGlmMlcUfpVzHvnoZx6yYdCAKCgCAgCCQGAd/2/sSoF1ivXg5p8Sh18CBQoIDZAw0w5CgMXfTiKR7P+K7P6lpbmRyOSeJiESfyGSSBcTvUR5qTE1HUxUsXJ47Bcmzt2kUm05H6ogXcbtlX7vN8JlqffFanNr0uWWbStxtvNF3m+dIr4cvPevAUJoVjDXY34cUIb7VijdtX/ftFQr2uOcsRsiJAaP7IbYBHcg8fOTL8ift01yLKe6v2frqoly9fPgOc/Pnzgz9W2bx5s9Fm8eLFaNAg0wA5ZMgQTJkyBb8yEWQUiWRBP+GEEzB58mTcfPPNGU9Pnz4dnTt3xkHr34/b30oAnwtBDwBk6xC+HdK2LgfGNsD2Y8Vw64nT8X5P56QJAU9PhhMEBAFBQBBwQMC3vT/F0Q2KoNNTmYm86SFOA64yHIcGPh03dCrbuDHgYi2KOie/yFIswOke6lXf0axwuh4Hunq+8grw0EPe3ecj9W/1TGCbDh2AffuytuZly5NPAhZyEFFd3TIDL74IdOkCXH010LUr0KqV2eWZZwKKxFjJejR8ol086MaExBGjnE01r2vOvAOlS+u+AcG28+KqHylXQiL/lt361l2LKO+t2vvtwA8cOBCDGPJhEUXQlyxZgosuuijjEyZ0mzZtGla6eIREI+gk+DfddFNGn6+++ipuv/12HFAXWsG+GRFHE4Ie8EL4dkjbthIYcwF2HiuC9sWn46P7mgQ8ExlOEBAEBAFBQBcB3/Z+3QFD2i4ogr5gAXDFFUCNGsDy5SEFI1pMp3KRbtkSePPNkE7ARS3dQz27cXO990r23RBjnLtOJnC3fuyfM9v+668D48YBTHbAUnlMPnXPPUDlysDkycAll7j3qmtBHz0a6NXLtKKTHBUpYl4MWJMMcjRaLFkv3cn1nm2pNz0KYom9V7OJM0Y5Gyhe15x/6PyDD5t49SRx+lvw8+LDjo9O37pr4fTeHif/W5YvR7nu3Y0kb24WdHFxB4SgB/yH7Nsh7c/fgefrYs+xQrim8HR8/qDGhh/wXGU4QUAQEAQEARMB3/b+FAc0KII+YQJwxx2mYfGdd0IMGg/HtHySHCmhG3qTJgCtvB07mqQuFUX3UM+5ubne63gc5M0LMON9NFFWesZt/+c/iUNVWa3pCk9CftpppjvHnj3R49Q1YnmzKM04/0ceAW6/HZg0yYzlcHL/HT8euPPOyO78XuL2nVDTIaFeExO6rbkisupSgZ4m9DgJm3j5O1C6W9+DefOcwybcLrV0cNC9VNFZC67vmjVZQwws5H8PgOKAdhZ3JoljRnZmcVdSo0YNtGzZMq4kcXv37sV7772X0eeVV16JEiVKSJI4nfclJ7fx7ZC2czXw7Hn4+1gBNM8/HV/1vzQnwyZzEwQEAUEgpRHwbe9PaRS8l9qJZbo8S9LDmAZcevzSkBnWsFRjfi+8AHTvbk6V5bCGDDFJ19ChpnWU1t5UFLdDPeekLM46scOREt8pbPLlAw4fjo4USQ1fCI6rY8m2EqZIid+ijchSao8/DhQnNYGZkX/+fJNwUeJN4KeSxHEc1ny+/HLgww/NvnPnBki8GX/+/fdm1n5e+HhN2qfmF82qr0tCvZb2cyOQVvy4rm3bhu8vxYsniV17xtV36uRfBn6rKzvDAbz07bYW9vIYtvZeCboqszZu3DjDzX3ChAmYOHEili9fjsqVK6Nfv37YtGkTpk6dmoEaE8hRunTpgjPPPBN9+vQB485J7Cl0mW/cuLFR+5xEf968eXjkkUekzFr4/mqC18i3Q9qu9cCos3HgWD40zPsavn/0suAnIyMKAoKAICAIaCHg296vNVp4GyXagq7jrRk6dIYNA/r2NdWiZZex0XfdZbpJMzZTJ6lY6CZ1XCG/s8l7ybruhIkiiDqXB9bnaeFnrLfXtSBBZlb3woXNkgIzZpjknFZRWrStydtogaQ3xemnA+XK6WU1vPde4LnngIcfNuPbaUl/6SVTc5aqIwljiTVeCjDm4+KLgcWLY3tb6NFBV/m0tOz6eSGhc+Z4q3PINe/c2fQ+UML1oPcAQwiU8O+FbjNhE93LCye9eVHHdXUTnZCIWP92rH1H8vjh5ZA1T4GDR4VXgs4p03o+bNgwpKWloVatWkZ9cxJsSqdOncDa5wuJ73HJ5ZBshGSe7ZTMnj3bIOWrV69GtWrVDLLeRjfHgts6+Pi5uLj7CKZOV74d0vZsBkZWx+FjeVAHr2HZY1foDC9tBAFBQBAQBJKAgG97fxJ093PIRBJ0rwYeP+cVV1+PPpp5CGdcNLM6M6aYGbp58KV1NJXF72zyPPy/+qppDdaxmluxsyax0k3cxYRrKpGBWxk1p3WyZ1FXScCYlOqWW8wnGJ/OeVnLr5EMs558NMJ+223Ayy9nXuyoGuvs89xzTQv6J58A06YBTIzFi4JYs1VHmgfJjRcSSnJtd4V2e78feAB4+mmzFT1L+G/G1FeqlPkkiSwvKsImXi+DrPrrEnS3pIK677oTdva+BwwAnnjCbHnppcAHH2R3UXJ4H2Ih6GFbyiD1EYIeJNp+xiHu3Qo8fQaOHsuFs9Jfw29PXhnwTGQ4QUAQEAQEAV0EhKCbSCWKoLuFwHoN7dVdV1/a0Y2dyb4ozPBN8tmihXnwnTIlq5XQlwGT0IlblmivKjFmn+TTq9gtjZGIS4kSwK5dZu8k5SSUlHiIjtJVWfloFVbWbp15OGX3vuEGMykda8T36GHGodMKT6lXz9R91izz0ue887y59bvpZI2BZjJDjhWpvru9Lx2Lr/UZ5VHC36m/iRUrgJo1M1uFORzE63ujNixevjRv7rYSQDQ83TZHt97tfTN3A/coylVXAe++m70HB48KIehuQGf9XAi6N7zibu3bIe2fHcDwUw19qh54BdO7XoT6VUshT+5ccesoHQgCgoAgIAj4i4Bve7+/agXeW6IIuq4BzysvCAQgq1syD+OMIb7wQuDrr01X6OuuC0SNlBrk6FHghBNMqzOFCeKYwVyRaqfJOFluSW5Jcu1izYJOq7M1bptky6mMmhcA2X/Rolndtt2ed0oKxiyITHhFos84d7p4//lnZk/EhLr36wecfbZeiTc3Payf25OZ6caAu1l87TrQ04DPUEaMAO6/3/z74N+JEhJHegroit+XRm7j8r25/nqA766bqFwJ6uKDYRKRMvA7JWez9q+7OTr9DTj1zaoE33xjtmaNcqeQCbGgu62w6+dC0F0h8reBX4e0j35YieZvXWAod/qBqTiMvChXvAAGXlsDLWqV81dp6U0QEAQEAUEgLgT82vvjUiIEDyeKoOuGwHrlBYFA1r69aeWkkET9739mHevffjNroIcxM3UgwLgMUrYswNrXlGLFTNLMhHuRxJ5EjASNpJ0x1W7C0mUFC2a2Ypb9zz93e8r/z+2uIEoPElZaySMlsqMrMt2/mzXzXyf2yESGtOAzLlwnTt/tpsxOnunersoxMF8D3dx5kcWkeErodfL++3rzcwq7YOJAhpMQp0RlleQ7pFNv25pML97YHd3N0YqcugximA1DG6x5B5jXQFWdcKpjybUjQee+ZqlOIRZ0vVdTtRKC7g2vuFv7cUib/3MaHnhlMX4ucLuhz5kHJuMgToCynY/9Tx0h6XGvlHQgCAgCgoB/CPix9/unTfJ6ShRB1zUSufGCpCBz5ZVmEi8KD78knUzwtW0b8NNPwDnnJEWt0A/Ky4yffzbVJFlnmICTNVxN5K+/ALquK9F9adh+3bqs8c6nnprp9p4MoNSLfP75Zob2k07Kajm368RYfSao07VwxzInWluZsZ5x8ZFEJ9bEiTzTW+LQIbNX9v/ii2a4gXU+desC332XfWRF9mmFZlI+JgxTISVOejJ0gnUa/U4cRv3z59dD1n6TyLnSQ2D//sznnUoTOnkFLFrkPbSBfTMPBsm9NWzBXo7vlFPMJIhKoiSiE4Kut/SqlRB0b3jF3TreQ1r60WO4+L+fYOfuPfi1QCdDn5oHXsQ/MG92SdLLFi+AL/o2E3f3uFdLOhAEBAFBwB8E4t37/dEi+b0kiqC75WHS4QVJQ8eaWZulsXiQZ81s/nf9etPKK5IdAVqDSVQpJMyMw77mmsx2jOdnPHbr1qbrO8m8NWbZi2WRxI8EkMKXjZZQVdKNVmy6W+tYRv1aR0XgItU992scL/1YwwKMA2ku72Xk6OVAN/Bocu21wFtvmbHoLBNWsiTAyxcm2rNk6za6iDVzuXIxj0TSY3GPpxWahFZHnG4SVdgLn+f7x0sEXoo0amRa/COVsKBnxX33mUQ6kps89xuWAKTQi4B7Ei3gbqUFeXGikg66xNkLQddZ+Mw2QtC94RV363gPaV/+sQM3TfwK+XAEqwqY5SXOOTARe1A4i26vdb0QF1WLIYFK3DOUDgQBQUAQEATsCMS79+cURBNF0NVZnBWs7GdKp9DdUOHJbNt0a1fyxx9AtWrmv5iAieWxEuVyGyogPCqjEqTxsVq1TIJudeFmfDnJnrK0M+me1SXaiwWdrtN0oaYwezgzrCuhBwTjvr/91vwNwxUUybSTVPUMf8/LGBVD73HqGUnBSNCsFkzdfji2Tiy0bn/2dgzRIOGzWl/dXMiJGzPNu2HCGOivvjLLy7HMHC9O6EVAksm/F+WOzTXRIZmR5khsSfjtf3teajlaiTwvcKJ5Fyg9ImW55wUEL+zsQj2JG2PzI21+zHof7XP+3Xz8sdkz8xUwll834R/d4OnJ4JIkcFehQii5bx82bNiACtRZJCoCQtADfkHiPaTNW7oJPWcsRS4cxZoC/zG0P+/AOPyFYllmMvrG2mhZ2/IFEvA8ZThBQBAQBASBTATi3ftzCpaJJOjEiGdnnoF3785EzMkTNFR42t2l7e7KTtm7QzWBJCnTvXtmzHn9+iZBtyYNo1Wbv1cZ8ZlIjZnTlZA8kTRa62tHmsrUqWaMO4Xk8KKLMlvSzZxhCRs2mL9buhSoXdv8f3U7ZCVO6nfK+kjiRRd6HeGzvByYPNkMgaCHgLJ86jwfVBtehDB5HS3crJ9uFaf32e6uHk1P5VY9ZIgZL85bOVre7UJi7Ub23fCwxoKrDcbpFlD1w0zyTOxGqzYTPNIarUt0VR9OdeLtSRHd9LZ/zvecOQJ4qWGJCze8c1jKkd4kCkNeOOnG8nMcrgf/PlyyzYsF3duiCUH3hlfcreM9pCkLOhVZW+BmQ596B8ZgOyxxVQDEgh73UkkHgoAgIAj4hkC8e79viiS5o0QTdE5PlRXneZHnd+UBmuSpRx6eSZho7Ytk1Qy9C0CSkLXW/G7a1CQftJYroSWVsekk5SS0tGrffXfWF0KRd7cpMEkZ3YQpKvN7gQKmWztJzpYtmS7vCxaYlnpmlqd10U7SypUzrZmqBvqtt5oEx02UNd4eB8zn6OZNN343l2S3Mfz6nMnDuD5OFmz7++y1DBjdu5m0j5ZeJovzSii9zlERZi96Oq2RfVxa/DkPu9BlnJc3VuH7xfcmXrGWD2Rfe/ea1Q/opcP3lsKcF1aPHp0xNeq1C0HXATKzjRB0b3jF3TreQ5qKQd+y+wB+y98B+XKl44IDz2MrTjR0kxj0uJdIOhAEBAFBwHcE4t37fVcoSR0GQdBpKHr+eaB/fzOpdOiFRI+H8mgWv1AH0ScJ4TFjgHvuMQdnPWYSdBUawGRcJD9vvmlacUlElFgtuIwxnjvXTB5nLdGmypOpZx56CHjqKdMiS8v9uHFA9erAL79kj7VmjWiSb1VGTbk583d0j2dCQLqAV61qxhLzReWtklWYLJCXNlY3dB3SF8mlPhlLFM2N3vo+x5LEjBcjvDDhO5DoOfMCjVbwJUu8J1uLhjsvk5YtM5MPqnrnvGDhO2In49b69n6uJb09GGJDjxB6hlD4N8QwGy8iBN0LWlpthaBrweRfIz8OacziftcrP+CX/B1RINdhNDwwGptwsmRx92+ZpCdBQBAQBHxFwI+931eFktRZEASdyY7JkVS55IRMNZYkUU6KMNGY3VoWTeFQpqFPCMLunTJmmRZaCmNgeSujiM3pp5vW1WjuyLSEszzYl1+aVnEm5ePLwwsTEncmYlPEnbXqeQmg47LMPnv3NjPx0/KphPXs337bJJV16pju+HRvp5tHt25mK0VqlXVePcv2dGmP5C5Nkko3ZhJ+ry7V7kgnrgXfZ3o6MKGfF+EceeHBMoRBCEk6x6M7uF+i1prvFWPnGdqyY0f2ZIYcj6Xlhg3za+TMfnjZxL+du+4CVq40f089+P5FSirnpMVHH5kXYVGe2VWuHEqmpUkMuuYqCkHXBMqvZn4d0kjSG8+ujUI4gEYHn8GGY2WkDrpfiyT9CAKCgCDgMwJ+7f0+qxV4d0EQ9KuvNsNfWYlJJyeTZxC8JIly65zxoLSM6kooC7nrKu9zO2uSN8aHs3QWSSrlvPPMklrRyCo9Ftie7RYvNjO8qzJsl11m1tlmfDkzuKtyZjou5LSIMz6aSbPWrMmcNC2+JO/8L13ySdhprWTCBFrLowkJIvV0ExIliq0GdbbH+M6pWGSdObmNG+vnfJ95qXLJJXo9sN49cwZwTZhpPMjM+Xoaem/Fy5nx402vit9+My8dGjfO2k+fPuaNY6LE7u3A0AyWWdN5N/guMQcDY+6jXIhtmTAB5bp1E4KuuYZC0DWB8quZn4e0Y09VRK6De3DJwadx85XNcNvFVaW0ml8LJf0IAoKAIOAjAn7u/T6qFXhXQRB05a1Jz+VWrXyeYqRSQrHGiTM5GImcrogFPROp5cvN7O0UEmq6m8dqPSZRZIw644Lp1UD3c5JrZoonWbHW4XZbqy5dALokMw6bOip54QXTPZ6XB7Tw02rvJmy3apVbq8zP1QWOek/5iRPJ4ti8oGAWdHsWeDtZc3JVV0RZXzPnlnyfmSSCfwNuFluGHdDjgJgOHw6QtAYtxIxhBzrEVVc31o5niIPauLh2LA1oFWu+Bd1+42nHbPGsSkCSrsoJRurvzjuBsWPNT6k733+WvbNKuXLY+M03qFixohB0zXURgq4JlF/NfD2k/bcKsP8vND84DA93bI1Lzirtl5rSjyAgCAgCgoCPCPi69/uoV9BdBUHQVWloGlhZoto3cUsSFUuc+E8/ZWb8jqZoLH37NvGQduSlrrTOFBibzozoJBeKlDIRGWPPvQizeNOayPJftPQq4nLHHe6Wcvs4TNjFOGVdQmi9wIlWA1zF4VNXVdPdLdkaM5Sz4gBJPTN3M1Y6VrG/zy41tI1heGnCeG1amJWHg8740WLhGeufL5/3UnV+xr2r6gLXXGO6uk+caJJcq9AFnXkPKJHGptcE3ztVl1wHm0htGI/OcnZMgKguvex5GlSSO7reWy9LGFrCvxsK3639+4EGDbBx5kwh6B7WRAi6B7D8aOrrIW34acA/23HFwaHofUtrtKhV1g8VpQ9BQBAQBAQBnxHwde/3WbcguwuCoPPMTW9gJiK2JvWOe566dbO9WLmVVVVHOafySzrP5cQ20chnrPN1Ij7Mjm63Brr1T0so49ppGf78c9OqGC0W3q0/nc8jXeCwdJaqyW7tx+rxoazo9sR49vYk9Ywd4R8VydqRI8Dff+tol7WNk7cJL79oSeaPXUjKadGl9Zxx+CR8XoTklhZe6s1LkylTsl546CTfs47Hi4oZM7LmF/Cij70ts6fzwqFjRzOb/3//Czz4YGYrYkOXdyapI4lnYrdYPUV09WQYxrXXAowXUpnmeUFAazlj1Jn/gfuRUzZOlV3fOlbLltj4/PNC0HXx5z3MsWO613IeepWmERHw9ZD29FnA3jRcfXAI7rixNa479xRBXhAQBAQBQSCECPi69/s4vzFjxmD48OFIS0tDzZo1MWrUKDQisXCQhQsX4hLJZeW7AAAgAElEQVSHWNFffvkFZ9FsrSGJJug80dAbmdyBZanJKXwT1grWSWblFiduTTDHpGHs101IChi/LBIM4Y0HZ5UFW9UCp/t2ogkVSS/JOJPbKdH1+Che3ExMpiMkZUwqxvFIGnWStNmrE6ja20pXp8sW5gZgYjzG1BcuHFutd45LIs1QBRJeutPwwsROe7xaw3kBR53q19dBLHubBx7IGk++YoVZEYCJBZmEjrqSpFMiYWOtZR6bFt6fYsUEXijSsk4L+8CB5oUKSxfy90pI4hlTb5UuXbBx4EAh6B5QF4LuASw/mvp6SBtZE9izEdcefBId27VGu7p+nkT8mK30IQgIAoKAIEAEfN37fYJ05syZ6NChA0jSGzZsiPHjx2PSpElYsWIFKtFqZRNF0H/99VcUYwzqcTn55JORh4dhDUk0QWc1LaUajXs8R/smfljQY7X8erHK+zbhEHbkRjqTqTIti0z2puKzmQCBWd91E6DFqjtdtFm2wG4p131fWWaLoRY6Qgsv67ZTGjQwrbqRCLSylDOGnwn8mIiP1vqRI834d0q0nA7x2g85DkmvSrAWzUNAZ+5soxKikeg3a2Y+pZK76eqrwlpUeya9Y0m+J580Y9FZMYA5DILwvNCdN9s1bGiuId9rJvhQCQ95acn3TwnzNtjzK/Trh4133y0E3QPeQtA9gOVHU18PaaPOAXatQ+uDj+H6Vm1w8wXZD1R+6Cx9CAKCgCAgCMSHgK97f3yqZDx9wQUXoE6dOhirEvyAhpzqaNWqFZ5yiLtVBP2vv/5CCZXt2qMuiSboyhOWVnQmeFYcwaOazs0VOYyUzMotTjyWA7dbn75MLIU60SWdYZjSTTeZbsI6Xhfx6mut7a760vX4qFfPTAimI7wo4px4+6Vcw2lVpwWeJNxq2bVaymkVZmK3Hj2AZ581R0rUZQsvLJjY7M03AcbYK9dxnfm5tWGytgEDzFhvlYHytNMAZtlnWIOO0JuCCQRJzBnHzf/ywoL7MK3RTBBHF/IgPC909FVt1EWMSgrH2u0sk6HKxKl29BxhBQSrjByJjddfLwTdA95C0D2A5UdTXw9pz54H7FyNdgcH4Jpr2qBTw6p+qCh9CAKCgCAgCPiMgK97vw+6HTp0CIUKFcKsWbPQ2pIxuGfPnli6dCk+c3BdVQS9SpUqOHDgAGrUqIFHHnnE0e09koqJJujKOGUvQe0DZGYXsWZxj4WMxJoZ3rfJhrAjXdKpVFf1wVlfOmihJZR11RNtQee8nN4V3csMxhkzOVk0sV4UMVEcb8KU0KpKa7o1dIOl0xgqoyzltAh37Qq0aAG8/775pK5+uuumanqT6NKCq5KXkUCqMXX7cmqnrOecEz0JSPwptMwzM/+iRWbZPjf3c+VpocZQlyu8VGDWdIYO8CIgke+NV7d+Kx6DBpnu7bSiM0yBa893QAld/+0XPtOmYWPTpkLQPbx/QtA9gOVHU18Pac/XA/78DTccfBSXXtka3RpX80NF6UMQEAQEAUHAZwR83ft90G3z5s0oX748Fi9ejAY8YB2XIUOGYMqUKaAbu134u88//xx169bFwYMHMW3aNIwbNw4k7o3tdXuPP8x2/FGyadMmg9hv2LABFXwNEDdHoIGPnqcM6WRoZ0KEJL1TJ4D+9ErscbX2gWMhI259JmRyIe/UC45W0koLL0lFkEJrKK3FQVlC7d4Wuh4fJIW0bkcSO/knGWWiMiWs3c1ycNHkk0+ASy8FmMGRLu8k7yTRfnoXqDCQRx4BBg82CS6t3fffD/zwg/7KRyKv1iSNzz1nuusrKVvWTBrH95OXSIzBVkTcTsjtmih86d7OmO6aNYGHH/YXG+uYvFCgB1SseRE4N9ZuV5utvZwg34Xffzez46sSbf/9LzbecAMqVqmSsL1ff4FTo6UQ9IDXyddD2piLgG0rcPOh/mjQvA26N3PZIAOeqwwnCAgCgoAgYCLg697vA6iKoC9ZsgQXMev0cRk8eLBBvFeuXKk1yrXXXotcuXLhrbfecmw/aNAgPEZrkE0SRdDJnZnDym7U0ZqMl0ZMmDRmjPkEE72xRFW0OHxdyy/JBQ+8dgukF91ycls30mmdu/WCQxd/P7Ej8eW4uqENfsRIU397qTVmkKdYY6StpPuPP7JmDbeX07JfFPEGjGMoYZb7aCEvnD+t2yyLp4SXc4xpJlmPV6wXE3Q9p6XeasVWSepUeQenWHHVh4pbt5NXxlXTtZtz4N8mY9CdLnxITH/80TlzfrR5cny6yTNLPXMYcAObPz9eZJyf5wUAXY06dwamTcssKag7GjG+7jpznkzkRzyYGFNhww2Y+FsJOoBdZcui5JYtQtA1cRaCrgmUX818PaSNvRjYugy3HuqL2k3b4r7Lz/RLTelHEBAEBAFBwEcEfN37fdArFhd3p2FJ6F955RUwk7uTBG1BV560rEZE3pwwoQWd5ZooPMyXLx99KF3LrySDc18yRXjZ0olsMeM9Y4+tLta6+NMt/cUXM3WIxxWY7r+0ulKiJQdUBJjtnMi0OyJZW9irCDiNbSXdnK+17jbfayaJVITLiqPSUc2LJIweMpGSPeheTjjN0Qn7SOtBazyJeLRydrT6ssa4/b2xewhYXfWZRZ51ylXNb6VnpMuUf/4xXXcY1x9WUdn3Vcy7Vz2//trMYM/LCDfPCUvfuwGUAKtrJMZ7yus0wt5eCHrAK+TrIW18EyBtKTod6oMzG7VFvyurBzwbGU4QEAQEAUFABwFf936dATXaMEkc3dWZxV0J3c9btmzpmCTOqct27dph586d+IQurBqS6Bh0euoyH1WHDmaYaMKEViKSDwq9DZjJOZroWH5JmlgSSjMjfsLmlgodu5FO+xx08KdVl8mtGB9BYelAJkOzWlPtRC0aViSE1nJTivgxyeD27abFlBc7VgIca5Z/qx5OlzzR4sOZTM2Sh8JIgEYLaSSxEl1aTzdvdm4ZS94Fa08kziwBt2uX+VvWM+etm5NrNnFkVshouQa4vsw8zszu1j6ihZKo0mc6fxNKV+pAt/ZEixePC+t7q7KwWxPdKV11LqSYf4Ax5rzUofeEpuwBUFwIuiZaUgddGyi/Gvp6SJt4KbDpO3Q5dD8qXtQWA6+t6Zea0o8gIAgIAoKAjwj4uvf7pJcqs8Y4crq5T5gwARMnTsTy5ctRuXJl9OvXD4wZn3qc6bJGOhPEsV46LfC0nA8dOhRz5sxBG2v95Sj6JZqg9+sHDB1qhocyqXTCxJqp+LvvgLp13YdysyZaY1zde5MW0UinEzqRLO9WCyprZStydeGFZp1vhmgMGWK68zIJGK2q/C/JSbTSWnwBrXHKuitmnRetsSy/pSOxZvynuzbnrcTNi+OhhzLrdJ9zTuQSbbpeC5HmRtz5N/G//5ktWNOcl1f2cnI62FjnxgsRJnSL5CGg2nIdeAHByxQdUYkv+E6QrFtzVOg876UN3evp+RAtjpwXQLyQ4OUFkwCOGGGOoMq4ffONWdNcCfdw/s7e5xVXAB98kNmO68DwDY8iBN0bYGJB94ZX3K19PaS9eDmw4Wvccag3TqrXFoNbnx23ftKBICAICAKCgP8I+Lr3+6gerefDhg1DWloaatWqhWeeeSYj4VunTp2wdu1aIwkche1I4knaCxYsaBB1kvirmCVZUxJN0BkmSqOlSjSsqZb3Zozb/+or8zniYyU40XojSWRm7/37s7ZK+I2C9ynmyCeiWd45YdYttxIUWl1JaEgWGbvL+n2MvWUSL5J2SiSSzngLPhuPeCG5JOizZ5uZtb3I8uVArVqZT7hdODE7et++Zvv/s3ce4FEVXR//06T40gXpvUgIIEFAqoCoICr1o0qXplJFqggqRYoQFKQqBngpAlJsIEgRKaI0kSoKihCxgvLSSb7n3M0mm80m9969c+/uJv95Hl9fs3Nnzvzm5uScnTPnSOI3+cLCV7N6719C9cUJ/fxz1+hyei6n6P4mN5MxvMP/U+IkCdvMJBb0ZFGpkqv0nF1NclUY+eLG/WWLfFkkVz+kyX16qVsuX1BI9IC7SWlNqRkvyfXkCwx3e+MNYOhQ13tuIcEcHXRzLwMddHO8LPdWaqQtehz4aReevTkAd1dtg6n/V8WyfByABEiABEhAPQGlul+9eI6NaLeDLranXEf19/DSMAhxaMSxkfbRR4CUqjLaJAmc9519d81mo2Own/8EfJ28S7ivr/vL7tN1cU6kzJaECp875zpplH97O/SeUplxBpNbjZHQfHnWVx10o4TEUStUKKG3XlZ2d6IHecKdCM/XXGa+XPD1vDiX8m2bnNhKk4z4/kQkeI6tFx3g7uvONmmUofSTL94k6Zo826mTK+TermbUQZd3MHNmV9Z1z/B/eV/E8Zb9c3/BNHu2qw67d1i/kdJxBtZJB90AJI8udNDN8bLcW6mR9t4TwNmdGHDzeaSr3AYz21e1LB8HIAESIAESUE9Aqe5XL55jI9rtoD/yiOtAT+xksZdta8WLJ9SClkzUbdsam0rKDomTd/u26zT25k3Xc2Isi7PH++fGOKrspXdX2vNernvPfvwRKFkyce1v2Ve53+tuUifa87/9lVkvKZ6c7suJvr/vjiR5y5IlQTopF3bvvclL6+m89u/vcpx9NT2uyc3gGaovDrk7R4bceZYvB/xtRnM8+Cu3OLuSm0J0QUpXH/yV3/2crGPRIqBxY/2R5N2QcCJvedxfPGXPLiVGXOMsXer6YiEy0uWkK2500M0BpYNujpfl3kqNtMUtgB+3YdDNZ3EjrA3mPG3gDpzlFXAAEiABEiABswSU6n6zkwdRfzsddLGr5XBaDgAl+liSxfnrs+gic99Blo4Shtujh+4jEAEltLRrV1cJovTpXRmw3c3KKaj+7OyRHAF/TnrFqRHnxrPJiWnWrAk/kXu7kqtARTObFM/snBK6LBnIpcm/5cuG5Jp8AybfhEmTUl2SGT25XzSzJ9Ge+QDc47sdSLNr8u4voTVG7q+beR+8k6q5S7rpySr3w8UZlnITUhHCaNi++xqDVCkoUQKQhIPJlY1zV5ZIbmwZK2PGhFrlUirzyScB+WLJ7DUJvfUCYBZ3A5A8utBBN8fLcm+lRtrSNsDpzRh6qw/+Lvt/eKdbEJd1sEyOA5AACZBA6BJQqvtDFwPsctB9+S+2+btiEMtJqpyCSzMST28kO7d3uacQ3ueQEt3sXWnZe3HGvUuLyXshX7zIFzHSJPmaJCRT1cwmxTMzrzsiRBxMifJIqWyahEFfvJgwut4v2qpVQIcOCVxSksu75JyZk2iRWb44ky9JfDmlenK65TL7PpjhLH0lcZtEHri/1NBLHukeX65YzJ+f4DzrJT00m4jDnUtj/37ggQfMrippf5HXI6z+UsGCyB0dzTJrBsnSQTcISlU3pUbasnbAqY0YdqsXokv9H5b09MjGqEpgjkMCJEACJGCZgFLdb1mawA1gh4OenH1rm7/rfVI6YQIwalTyUI0a4DKCv5m4A7eloT+zmRNTWa3c15aTS18tVy7gspwVAtBLthZM5KpWBQ4dAnLnBv76y7dkVn7RJHmdkdNrOeWW01s5HTZ6quz+vZF/yzwxMb7nMqoQzL4PZvfRV26ClL7Aky8d5PqLr2sMKUVWSHROx47GpZNICImIkOoEcsJvpTVp4srN4ZEt/5eSJVG0RAk66Aa50kE3CEpVN6VG2opOwImPMOpWT5wu9n94v08tVWJyHBIgARIgAYUElOp+hXI5PZRqB13vuqgt/q6UXcqfPwGd1HZzZ/T2BqonYHIbYDSZldMbmBrn00vEJi+RJNpyJ/1KqbSYnNK6nXdJIih3LkKhSQbyrVtdJebkxNuzNrvIr/ceG/lF0ztJd49h9H61J1f3ybs79DulsG7ZozNnkg/L13sfrO5ncr/b7ggJeX9Ex4iTLGHq3nvhS8f4KhvnzxcNwkbuoItj786P4c96JYnda68lelK17vdHrFB6hg66w7ul1Ehb2Rk4vgFjbnXDkUJtse65Og6vhtORAAmQAAkYIaBU9xuZMEj7qDbSjNqgSv1dSRBWunQC4ZRKpBkV0Hu/VGQAD9J3ICjF0gsXbtQoodyX5//3Xsx99wEnT7p+Kk6gnAQHe/NV+s87HNzoe5zSL5rRMYxmKJd+8gWI1Cp3O7FG59BTCHqJ+fzZUyNfYvgzbnLP+PNFg/tOvffdeu855HP58uC994DffnPtgSTHc9eMl5rrL7xAB93CftJBtwDPn0eVGmmrugNHP8C4W12wL39bfDJQ4V0nfxbHZ0iABEiABHwSUKr7Q5ixagfd6HVRpf7u4cPA/fcn7IIkiJNEcb6aUQG9n9VzIEL4HQha0VMKF5ba5+660+KISOZ+X03u7sodXml62dCDAYTRsHWj73FKv2hGxzDqoPv6HTE6hxGFYCRvhNE9NBpeb3Q8o/3s+qJB5pfrBJ7J5ORLki+/dEkm9dSlrrpH8kDVut8oglDtRwfd4Z1TaqSt6QUceR+v3eqEHXnbYcuQhxxeDacjARIgARIwQkCp7jcyYZD2UW2kqTowM4VLjFDP5F8pOWyvvgqMHWt8eKdP2YxLljZ6JpeITWpEP/+8i4EkSZP/9tUaNAB27HB94ivTezBRNBO2LiHUDRvqS6/iBF2yxEtm85QylCcXpq5aIXi/D/JlnERG6DXvbO7uEHwbsqPriaLVZZc77Gbu9Kc0qK9kezJHly4JlQDkea9+qnW/7rpDvAMddIc3UKmRtrYvcHg5Jt7qgI052+GLYQaUp8Pr5XQkQAIkQAJiq/+DnDlz4vLly8iRI0eaRaLaSNOL4rTF3/30U+DxxxP2UP7/xx8n3VMrJaYCYcin2bfSwMIleVm7dq6O4oi8+67vO8xSNsv9Lkg2dCljFazNjDMrX0jplfWyerfb85d1/XqgTRsXOc9M7non0XYrBM9TYpHNOxTcLZ9EWMgd8ujoxCH4gXoXPL9oOHYsIRrEH3nkCxTJWeBuBqMwVOt+f0QPpWfooDu8W0qNtPXPAQeXYsqtdvjg7nbYO8rjF8bhdXE6EiABEiCB5Ako1f0hDNoOI82gfaiOmqezJqPWr59wauqeRe900pc0gTxlU0cn9Y0kL1jfvgn3a2WFyZXsat/eFf4u5dasJNlygqLZcHC9e/reIc++1mBmDH9rv5uZwyxn9/7Kc+HhwKVLiU+mQ+F32OgXM8mx8bweoKfnPL50+SU6GkWLFmUWd4PvHB10g6BUdVNqpG0YAByIwhu32uC/WdrjwJhHVInJcUiABEiABBQSUKr7Fcrl9FB2OOiyBrHJJfGwVBZyN9tsZblv/swzrhNUMVCrVXOV1PJsRo1gCeV99NHgOGVz+mUIhfnMfvsj74W8HxIl4y63FqzrNPqOeoat++s0ezIwM4a/td/NzGFmf4YMcdUxlyYZ49esSVRKTDfjupm57OqrF2WgN6/n+2DiHfqlTBk66HpsPT6ng24CloquSo20j4YA37yDyNutsDBDe3z3ymMqROQYJEACJEACigko1f2KZXNyOLscdFlD2bLA6dOA5JiSCEy96kR+r1vKEA0e7KqHfeECUL48cOJE4uHMnk76LQwftI2AidPB+GRYktH/rbeAnDmBdetsfAkVrFrPUUvufoi/TrOnyCrG0ENgxxxvvAEMHeqaWa46REXpSRGcn/uTPM7X+2BCz/1Srx4ddBNvAx10E7BUdFVqpH0yDNg3D2/dboG3Ytvj1ISmKkTkGCRAAiRAAooJKNX9imVzcji7HHSxxbNmBeTa79mzQPHiNq5K6vu+/DIQEQEcOOAqN+SdgMnEyRIksRhb8BEwu4fi9EhExL//JqwluVD4YFmtneHgwbJGlXJ4OqT9+wNvvqlydGfH8hVlkDcv8Oefyd+t977GYOJ3hCfo5raXDro5XpZ7KzXSNo4E9r6NObefxOTbHXBm0uNI505QYVlSDkACJEACJKCKgFLdr0qoAIxjl4N+7hxQrJgrJ9f1677zdylb7rBhwNSpQLNmroRgcloqd1E9m7+nk8qE5ECWCZg4HUTmzK6kZp4JzUQAvaRmloVUMIBd4eAKRAu6ISS8u1Ejl1hPP+2qA+5RSizo5NUTyFeUgSTo8876ntx9IRN6jnfQ9TYj8ed00M3xstxbqZH22UvA7rcw73YzTLrdCSfHN0HmjBksy8gBSIAESIAE1BJQqvvViuboaHY56F98ATz0EFC6tCvM3dbWrx8wd67rHvrChS4DXY7uvb8gN3t/2VahObhpAkZPB91lwZIrY2VLKQHTq0n5ATvCwRWLGPDh5Pf5uedc9e3dLdgjJPyFZuZ9MBiFYZfu93eJwf4cHXSHd0ipkbZ5LLArEu/cborXbnfGkXGPInuWTA6viNORAAmQAAnoEVCq+/UmC+LP7TDSxJYcPRqYPNkVdb5vn82HWnJy9t//AmPGABLuLk2O7eUU1bv5qg9sW/a6IN74UBTN6OngokVA48b6K0ypRrj+0+wRSAL8si1l+gaiMOzQ/YF8Jeyemw663YS9xldqpH3+GrBzGhbdfgyv3O6K/S81Rt7/+DAQHF4jpyMBEiABEkhMQKnuD2G4qo00X3ah7Ydakr15wwZg9mzXiZq0P/4A5P6mryYhseKcSakuqaVtW/a6EH4xglV0I6eDUjpASgjoNc/yVHp9+XnwEPAnWWDwSO+cJDqn7qp1v3MLC8xMdNAd5q7USNs2CdjxOv57pzFG3+qB3SMaoVCurA6viNORAAmQAAnoEVCq+/UmC+LPVRppATvUcjvccores6fr9DylzHSSRE6yve/dC9SsGcS7Q9F8EtA7HTQaCs8T9NB8wbi/SvZNpe5XIlCQD0IH3eENUmqk7ZgCbJuAVbEP48UbPbF9aAOUuOduh1fE6UiABEiABPQIKNX9epMF8eeqjLSAHmpVr+6qey6n6D16uE7Pv/sOuO++xDWRa9cGNm8GnnjCtSMpnbIH8Z5RNLjq3e/cCURHJ61ZbzQU/swZm+9ecKdsIWAmWWCHDraIkBoGVaX7UwMLI2ugg26EksI+So20nW8An7+KdWiIQdd74bPB9VHu3uwKpeVQJEACJEACKggo1f0qBArQGKqMtIAeaokjfvIkIEJIWS05PZ80yRXy7pkoTJLHifPmbrbH3gdoUzktYCQUvlUrkgpFAgFVNqEIzLfMqnR/6iGS8krooDu800qNtC8jgS1j8XH6Bnjuam981L8uwgvndHhFnI4ESIAESECPgFLdrzdZEH+uykgL6KGWO2R9/36gSxfg6FFjxEOh5JaxlbCXLwJ6ofCkFpoEGCGhZN9U6X4lwoTAIHTQHd4kpUba7lnAZ6PxWYb66P2/vljTrzaqFc/t8Io4HQmQAAmQgB4Bpbpfb7Ig/lyVkRbQQ60cOYB//wVOnXLVQpa08UZbKJTcMroW9ktKwEx5KvILHQKMkLC8V6p0v2VBQmQAOugOb5RSI23vXGDjcGzLWBfdrzyL5b0eRK3SyWSRdXidnI4ESIAESCCBgFLdH8JgVRlpjh1qeTtctWoBWbK4dmDNGmD8eODgQfM7woRh5pnxCRIIJAFGSFiir0r3WxIihB6mg+7wZik10vYtAD4Zii8z1cbT/z6PqB418FC5fA6viNORAAmQAAnoEVCq+/UmC+LPVRppth9q+TLI06cHYmISCGfKBNy6ZZ44S26ZZ8YnSCDQBBgh4fcOqNT9fgsRQg/SQXd4s5Qaad+8C3w0GHvvqoX2//THgi4P4JGwex1eEacjARIgARLQI6BU9+tNFsSfqzbSxId+/nlXcm13K1oUiIwELOXkSq6Gmyq2PEFXRZLjkAAJhAAB1bo/BJZsSUQ66JbwmX9YqZG2Pwr4cAD2Z66J1pcHYnbHCDSrXNC8UHyCBEiABEjAVgJKdb+tkto7uB1G2vffA+XKAZkzAxs3AvXqWaxmpVfDzQoi3kG3Qo/PkgAJhCgBO3R/iKIwJDYddEOY1HVSaqQd/C+w/lkcylIdLS4Nxox2VdCyahF1wnIkEiABEiABJQSU6n4lEgVmEDuMtGPHgIoVgbx5XaXGLTejGejMTsQs7maJsT8JkEAqIWCH7k8laHwugw66w7ur1Eg7vBJY2xvfZamGJy69gMmtK6Fd9WIOr4jTkQAJkAAJ6BFQqvv1Jgviz+0w0iRHW0QEINXPPMuQ+43BaA03sxMoib03Oyn7kwAJkEDgCdih+wO/KvskoINuH1ufIys10o6sBtb0xIks96PJpWF4rXlFdK5VwuEVcToSIAESIAE9Akp1v95kQfy5HUbanj1A7dpAqVLADz8oWLyqE/SMGYHbt12X4fv3VxB7r2BtHIIESIAEAkDAH93/9ttvY+rUqYiOjkbFihURGRmJenKHKZm2Y8cODBkyBEePHkWhQoUwbNgw9O3bN1FvGWPOnDn4+eefcc8996BNmzaYNGkSsrircwSAja8p6aA7vBFKjbSja4FV3XA6axU0/ns4XmpWAc/UK+XwijgdCZAACZCAHgGlul9vsiD+3B8jTW85bn86LAw4elSvt4HP9Wq4GRgiURdmbDdLjP1JgARSGQGzun/lypXo3LkzxEmvU6cO5s2bh4ULF+LYsWMoVixptPCZM2cQHh6OXr16oU+fPti1axeeffZZLF++HK1bt9Zo/ve//0XPnj3x7rvvonbt2jh16hS6deuGdu3aYcaMGUFFnA66w9uh1Eg7tgF4vzPOZA1Hw79HYViT8ni2QRmHV8TpSIAESIAE9Ago1f16kwXx52aNNCNL2bQJaNIEqFoVOHDAyBMG+qjM4r53L1CzpoFJ2YUESIAEUicBs7q/Zs2aiIiI0E673a1ChQpo0aKFduLt3YYPH44NGzbg+PHj8R/J6fnhw4exR8KsIBU/ntc+//zzz+P7vPDCC9i3bx927twZVODpoDu8HUqNtBOfACs64Fy2Cqj31xgMalwWg/SG0OEAACAASURBVBqXc3hFnI4ESIAESECPgFLdrzdZEH9u1kgzspT164EWLYAHHwTi7DAjj+n3ESe9bVtATtSttHvuAebNs1j3zYoAfJYESIAEAkvAjO6/efMmsmXLhlWrVqFly5bxgg8cOBCHDh2ChLJ7t/r166Nq1aqYOXNm/Edr165F27ZtcfXqVWTKlAkrVqzQQt4/++wz1KhRAz/++COaNWuGrl27YsSIEYEF5DU7HXSHt0OpkXbqM2DZ/+FCtvtQ+6+X8WyD0hjW5D6HV8TpSIAESIAE9Ago1f16kwXx52aMNKPLeP99oF07oEEDQMqLK2nilH/8MdC8uWs4ycAeG5swtPd/600q/VevppOux4mfkwAJpEoCbt0vIeqFJaNnXMucOTPkH8924cIFrY+EqUsourtNnDgRUVFROHnyZBJG5cqV08LVR40aFf/Z7t27tfB4Ga9gQVcZ6rfeegtyah4bG4vbt2+jX79+Whh9sDU66A7viFIj7fQWYGlrXMxWFjX/egXP1C2Jl54Ic3hFnI4ESIAESECPgFLdrzdZEH9uh4O+eDHQtSvw2GOuOuiWm5ycDxyoKCV8nDSsf255WzgACZBA6BJw637vFYwdOxbjxo3z6aCLg12rVq34zyZMmIAlS5bgxIkTPh307t27Y+TIkfGfiYNft25dLclcgQIFsH37drRv3x7jx4+HhNCfPn0aciov99bHjBkTVHDpoDu8HUqNtB+3A4ub4/dspVH9r9fQpVZxvNo83OEVcToSIAESIAE9Akp1v95kQfy5HQ76ggVA797AU08BEu5uqam8e+5LEDnil6N+NhIgARJIQwTMnKDbFeIuGeAffPBBLTO8uy1duhS9e/fGlStXkD59+qDZETroDm+FUiPtzE4g6gn8lbUEIv6eiPbVi+L11pUdXhGnIwESIAES0COgVPfrTRbEn9vhoM+a5apiJtfFV660sHh39nYlxdSTkYMZ3S1sEB8lARIIVQJmdb+ccFerVi1R+HlYWBiaN2+ebJK4Dz/8UMvy7m4Svi531t1J4mS8xo0bY/LkyfF9JMt7jx49NAc9Q4YMQYOXDrrDW6HUSPtpD7CoCS5nLYoqf09Gq6qFMb3d/Q6viNORAAmQAAnoEVCq+/UmC+LPzRppRpYybRrw4otA586AhLv73fytfz5oELB0KfDHH/pT8wRdnxF7kAAJpDoCZnW/u8za3LlztTD3+fPnY8GCBVqN8+LFi2uh7OfPn8fiOKXvLrMmJdYkZF2cckkI51lmTULpp0+fro3lDnEXJ14cd5kvmBoddId3Q6mRdu5r4J3G+DdrYVT6eyqaVS6I2R0jHF4RpyMBEiABEtAjoFT3600WxJ+bNdKMLGXCBOCll4BevYD58408kUyf5cuBjh3NDyBOtyQyKlIE+P1338/zDrp5rnyCBEgg1RDwR/dL8rYpU6Zod8ilxrnUKpds7dIkIdzZs2e1e+XuJtndBw8erDnxhQoVgpReEyfd3SQpnPseuzj3+fLlw5NPPqn9LFeuXEHFmg66w9uh1Eg7vx9Y0Aj/y1IAFS9NxyNh92JBlwccXhGnIwESIAES0COgVPfrTRbEn/tjpOktR3L7jB8vNW4lQ69e7xQ+N3uC7u10u++vyxTeGd/lZ8zibmFz+CgJkEAoE7BD94cyDz3Z6aDrEdL5XOrzybc3Dz/8MFbLH1+dptRIiz4MzKuPa5nzo8LlSDxULh+ietTQE4GfkwAJkAAJOExAqe53WHaV09lhpA0bBkjOnxdeACTc3e/mvoN+/nxiB9vXgOKc+3K6fWWAL1oUiIxkiTW/N4YPkgAJhDoBO3R/qDNJSX466BZ3d9u2bVpiAanL57iDfvEoMKc2rmfOi/suv4VapfJiee8HLa6Ij5MACZAACagmQAfdRdQOI00qor35JjB6tOsk3VIzmsU9JadbHP2dO4HoaEBq79arBwRR8iFLfPgwCZAACfhBwA7d74cYIfMIHXQFWyUn6LNmzXLeQf/tBPB2Tdy8KyfK/TMH1Yrnxpp+tRWsiEOQAAmQAAmoJEAH3T4HvU8f193zV18FlJSyFSe9Qwfg5s2EV0Dul8sl97Jl6XSr/MXgWCRAAmmCAB10c9sclA76nDlzIP/I5X9pFStWxMsvv4ymTZuaW10Kvb/44gutDt7+/fu15ANr165FixYtkjwhCQqkn/QROSIjIyF19DxbwBz0P04Ds6rhVqbsKPvvPFQqnBMf9q+rjBEHIgESIAESUEOADrp9Dnq3bkBUFCCVcyTc3VKT02+5i96kCXD7tit2/oEHeApuCSofJgESSOsE6KCbewOC0kGXOnZSi65MmTLaaiR8XJzkgwcPak6yd9u1axdq1KiBTJkyJfroxIkTWla+AgUKJHnm008/hTwXERGB1q1b+3TQ3Sn+xUmvU6cO5s2bh4ULF2o19ooVKxY/ZsAc9L9+BN6sijsZs6H0lYUof292bBrsym7IRgIkQAIkEDwE6KDb56DLYfeKFcDMmcCAARb23Nf9cTk5l4FbtbIwMB8lARIggbRNgA66uf0PSgfd1xLy5MmjOek9e/ZM9HFMTIzmZJctWxYrVqyILzJ/6tQpPPTQQ1q6/WE6X6mnS5fOp4MuNfJkbDnNd7cKFSpoJ+2TJk0KvIN+6WcgshJiMmRGqf8tQsl77sa2oQ3MvQHsTQIkQAIkYDsBOuj2OegtWwLr1gFz5wIS7u5XS+7ueXLJ4PyahA+RAAmQQNokQAfd3L4HvYN+584drFq1Cl27dtVO0MPCwpKs8MKFC1pdPHGolyxZAilWL855s2bNtFNvvebLQb958yayZcumzS2Z2t1t4MCBOHToEKTWnrsF7AT9nwvA9AqITZcRJa8tRuFcWbFrRCO95fJzEiABEiABhwnQQbfPQX/8ceDTT4H33gO6dvVjY93Z23/5xffDrGHuB1Q+QgIkQAIJBOigm3sbgtZBP3LkCGrVqoXr16/jP//5D5YtW4bH5a9wMu3nn3/WnPQHH3wQe/bsQYMGDfDee+9BnG+95stBF6e/cOHCWhh87doJidcmTpyohdyfPHlSG/axxx7DgQMH8L///Q9yyi932atXr55kytmzZ0P+kS8c5HT/8uXLyJEjh55oKX/+70XgjXJanxLXlyF75oyY3+UB1CiZBxnS66/b2uR8mgRIgARIwCgBOuj2OeiNGgHbtgHLlwPt2xvdEY9+RuufyyQNGKXmB2E+QgIkkMYJ0EE39wIErYMuJ9jidF+6dAlr1qzR7n7LqbWvE3T3kiXxm5yclypVSnOgM2bMaIhGSg767t27tS8K3G3ChAnaKb3cb/enKTXS/vcnMLWUJkbJ60sRi/Ta/y+YMwvGPhmGJuEF/RGRz5AACZAACSgmoFT3K5bNyeHsMNLq1AF27wYkSt0j4M34ssSz79hRv/+yZa7s7mwkQAIkQAKmCNih+00JEGKdg9ZB9+bYuHFjlC5dOtmQ9YsXL2rOebly5fD111+jTZs2eOuttwxth9UQd0OTxHVSaaRtOXACjTfU1EYue30xbsH1hYT77HzO0xF00s1sDvuSAAmQgE0EVOp+lSIaqVTiaz6JLpO/ueHh4dq1L6PNDiNNkqzv3w988gngV7EXnqAb3T72IwESIAG/CNih+/0SJEQeChkH/eGHH0bRokW1sHXv9scff2gh7ZIoTu6Mf//999p/d+7cGdOmTdPdipSSxFWrVg1iwLibnOA3b948UZI43Qk8Oqgy0u7ExOLR1z/G5zc7aaPfd30RriNz/EzipBfImQVfDm/EcHczG8S+JEACJGADAVW6X6VoRiuVeM8pV7QkgapUWpEvxwPtoIeHA0ePAp9/Dki4u+nmvoN+/jwQG5v0cd5BN42UD5AACZCAJwE66Obeh6B00EeNGqXVPBeH/N9//9Wys7/++uvYuHEjHnnkkUQrlCzuUmLt3nvv1e5/33XXXdrncoe9YcOGGD16tJbJ3btduXIFp0+f1n5ctWpVTJ8+Xesv98jdJdTcxsvcuXO1MPf58+djwYIFOHr0KIoXL26OdFxvVUbanh/+RI8F23E8Sw9t5G43X8QXMVUQExfm7hZuea8HUat0Xr9k5UMkQAIkQAJqCKjS/WqkcY1itFKJ95zt27fXvhCXcqjr1q0LuINetiwgf8537QI8UsaYQ+XO4i5PeTrpzOJujiN7kwAJkIAPAnTQzb0WQemgSym1zz//HNHR0ciZMycqV66M4cOHJ3HO3UvdvHkz6tWrhyxZsiRavXyrnzdvXs3R926SeV0ccu8m2eI9T+nl9HzKlCmaLBLKN2PGDC0Znb9NlZG275P3UPSrV1Aw3V/xolyIzYNXbnXBppga8T+b2f5+NL+/sL/i8jkSIAESIAEFBFTpfgWiaEOYqVTiOeeiRYu0qDJJxjp+/PigcNDlT7wkYP/mG6BaNQuExEnv1w/47beEQWTwyEjWQbeAlY+SAAmQQKpx0C9dAlavBn74AXjxRSBPHuDAAeDee4HC6vytoHTQU/NrrMRIO7YBse93QWxsLDyTtcfEReb1uzUo3knnCXpqfpu4NhIggVAhoET3K1ys0UolnlPK9bG6deti586dWr6XcePG6TroN27cgPzjbufPn9eSvZ47dw5FihRRsqL8+YHff5fIOUDC3S01qdcmFWPEMV+8GKhXD8iQwdKQfJgESIAE0jqBVOGgf/st0LgxkDMncPYsIBW9SpUCxowBfvrJ9TdDUaODrgik0WEsG2kxd4DIcMT+cyE+GZzn3OKk/4q8qHdjJvLnzMY76EY3hv1IgARIwEYClnW/YtncDrrRSiVSIlTKmEqEW9++fTVpjDjo0ueVV15JIr1KB11spX/+Ab7/HihTxiIod0Z3ibDbutXiYHycBEiABEhACKQKB12c84gIYMoUIHt24PBhl4MuZUSkEog47YoaHXRFII0OY9lIO7MTiHpCd7r2N19Ct45PM4u7Lil2IAESIAH7CVjW/YpFNBviLiVPc+fOrd07dzfJASORXPKzzz77DI18ZGhz4gQ9c2YJ2Qd+/tl18G2pSfWXAQOANm2AVassDcWHSYAESIAEXARShYMu3wZLOHvp0okddDk9L18euH5d2XbTQVeG0thAlo20I6uBNT11JztcYxqqPN5Ltx87kAAJkAAJ2E/Asu63QURJEme0Uok448eOHUskhdxF37p1K1avXo2SJUvi7rvv1pVStZEm+dzSp3dNe/EiIOHultq4cYCc+EuUwJw5lobiwyRAAiRAAqnIQZd75hs3SnbxxA76Z58BPXsC584p22466MpQGhvIspFm8AQdXT8CStYzJhR7kQAJkAAJ2ErAsu63QTq9SiUjR46E3BlfnMy9OiMh7t5iq3bQ5Xq7Oz/s5ctAjhwWQfXvD8yaBYweDYwfb3EwPk4CJEACJCAEVOv+gFDt3duV8OT9913J4eROukSVtWgBSAJxSSiqqNFBVwTS6DCWjbS4O+j4J1pqwSSZNhbpkC5HIWDQESA9E9sY3Rf2IwESIAE7CVjW/TYJl1Klkm7duuHs2bOQqie+WjA46OKU58rlkk6iCyXc3VCT2uc7dwLR0UDBggnJ4Dp0AFasAKZPB3yUaDU0NjuRAAmQAAkkIpAqHHRJdiJJRI8eBf79FyhUCPj1V6BWLeCTTwADUWRGXws66EZJKeqnxEg7tgF4v0ucRAlOuiSIS5cuHdK1XQyEPaVIYg5DAiRAAiRglYAS3W9ViCB4XrWRJhXRJOpQWkyM/A00sEgppzZwoKs2m7tJRvmZM4G5c4HNm13ZeDt3NjAYu5AACZAACegRUK379eaz9XNJICp30eWPjiSNk+RxihsddMVA9YZTZqSJk75xOPDPhfgpL8TmxVflX0TLjv30xODnJEACJEACDhJQpvsdlNmOqVQbaZIYrnhx18m5ofw84pxLAji5vO7Z3J59iRLAmTPAxx+7TkrYSIAESIAELBNQrfstC+TPAPLFbbt2SUO1JEupRF51cR+e+jO415+kWEnByuYYAaVGmoS7z60H/HYUe4r0RKfTDfF0rZJ4tbnVQrCO4eBEJEACJJAmCCjV/SFMTLWRJqXVypVz3T2XcPcUm4S1iwPueXLu7aRLxjnp99VXQI0aIUyaopMACZBA8BBQrfsDsjK5by7Xoryzkf75p+tn8rdDUVN2gv7qq69i6NChyJYtWyLRrl27hqlTp+Lll19WJHJoD6PcSFvaGji9BdsrjEO3g+XQsmphzGh3f2hDovQkQAIkkMoIKNf9IcpHtZH23XdApUou20iyuKfY5C691Dc30k6fdpXSYSMBEiABErBMQLXutyyQPwPIF7jyhyZfvsRPSz10+dvy11/+jOrzGWUOutRBjY6ORn6vbxX+/PNP7Wd3FH6roGz1ARhIuZG2sjNwfAO+CRuFNgfC0bhCfizsWj0AK+OUJEACJEACyRFQrvtDFLVqI+2bb4Dq1V31zyXcPcW2fDnQsaMxcn//nZB9ztgT7EUCJEACJJAMAdW631HQUlZNrkGJI16xIpAxY8L04t/KtagmTVzZ3RU1ZQ56+vTpcfHiReTz+lZBaqS2a9cOv0taejYoN9LW9gUOL8fx8BfQ9JtqqFEyD97vU4ukSYAESIAEgoiAct0fRGszI4pqI23XLqBuXaBMGUDC3VNsRk/Q5ZTk9m2DGefMrJ59SYAESCBtElCt+x2l+Morrunk3y+8APznPwnT33WX6+pU69aA/H9FzbKDnjt3bi1z+OXLl5EjRw7t/7ubnJpfuXIFffv2xezZsxWJHNrDKDfSPhoMfPMuzob3R4NvaqFCwRz4dCDrn4f2W0LpSYAEUhsB5bo/RAGpNtI+/9yVQDc8HDhyRAeK+w76+fNJk8TJo2K/SFoeOWiQ9PBsJEACJEACSgio1v1KhDI7SFSUK0lclixmnzTd37KDHhUVBckz16NHD0RGRiJnzpzxQtx1110oUaIEakl9ODaNgHIjbdNoYM8sXAzvjZrfNECR3Fnx5fBGpE0CJEACJBBEBJTr/iBamxlRVBtpUnq2WTOgWjVAwt11mzuLu3T0zJHrds7l52Fhrjq3bCRAAiRAAkoIqNb9SoQK4kEsO+jute3YsQN16tRBRs+4/CBeeKBEU26kbZsI7JiMyxW7oMr+JsiVLRMOvfxooJbHeUmABEiABHwQUK77Q5SyaiNt7VqgVSugTh3gyy8NQhEn/ZlnALln7m558wJduwLTpwP16gFffGFwMHYjARIgARLQI6Ba9+vNZ8vnEoU1Y4brrrkkPZHyap4tGJPEHThwAJkyZUIlSacKYP369Vi0aBHCwsIwbtw4yGk6mw0n6F/OALaMw7WwdqhwoDkypE+H0xOaJrpqQO4kQAIkQAKBJUAH3cVftZHmzvvWqBEg4e6G2+DBQGRkQvcnn3TdH1yzxuXt79gBSEkdNhIgARIgAcsEVOt+ywL5M4BUJFu4EBgyBBgzBhg9Gjh7Fli3DpDPBgzwZ1Sfzyg7Qa9evTpGjBiB1q1b48cff9Qc81atWuHrr79Gs2bNtPB3Nhsc9K/mA5++iNv3PYUyh9priI+9+hiy3eWRYZDgSYAESIAEAkrAqoOeJw9w6hRwzz1Ajx7AzJlA9uwBXZJfk6s20t57D+jeHWjaFJBwd0NNTkGkxvmBA65svJIQzrsVKeKCLMfzbCRAAiRAApYIqNb9loTx92Epvfnmm657VfIH+NAhVzlO+dnevcCyZf6OnOQ5ZQ663D2XU/TSpUtj8uTJkOztmzZtwq5du9C+fXucO3dOmdChPJBVIy3J2g8uBdY/h9gyj6DMsR64ExOLr0Y9jHtz2J/AIJT3gbKTAAmQgJMErOp+SRr77bdAqVKug91ff01aitXJ9fg7l2ojbe5coF8/oGVLQCLXdZt0GjhQjvJ1u2pJ41avppOuT4o9SIAESCBFAqp1f0Bw3303cPw4UKwYULAg8PHHQEQE8OOPgJRiu3xZmVjKHHTJ4L5//36ULVsWjzzyCJ544gkMHDgQP//8M8qXL49r164pEzqUB7JqpCVZ+3drgNU9gOJ1UeXngbh87Ra2DKmPMvlD8GgllDeWspMACZBACgSs6v5HHgEuXnQlQ3Mnks2a1feE774bvFuh2kiTQ+5Bg4D27QEJd0+xuRPEeSaHS+kBcdDlJF1q3DLcPXhfKkpGAiQQ9ARU6/6ALLh8eWDxYqBmTVeuEjlJHzECWLkS6N9fafUPZQ56o0aNULRoUTRu3Bg9e/bEsWPHUKZMGUjyuK5du+KsxOizqc/ifnIjsLwdUKgq6v79Mn75+xrWPlsbVYvlJm0SIAESIIEgIWDVQRfnXHLT/PCD65p0kyZA5sy+FyeJ04K1qTbSpkwBhg935XeTcPdkm7vEmpGTc+9Btm0DGjQIVqSUiwRIgASCnoBq3R+QBYszniMHMGqUK7qqQwdXDXRJGCd5TV5/XZlYyhz0b7/9Fp06ddJOzIcMGYKxY8dqQvbv3x9//vknlimMy1e2+gAMZNVISyLymS+AqCeBe8qj6Z03cDz6HyzuUQP1y+ULwOo4JQmQAAmQgC8CKnV/yZKukmKSeDzUmmoj7dVXATE3+vQBJNw92bZ9O9CwoX+4xH4RQ4yNBEiABEjALwKqdb9fQqh+6KuvgF27gDJlgKeeUjq6Mgc9OamuX7+ODBkyaBne2WxIEvfLfmBhIyBnMbTNOh/7zv6F2R0j0KxyQeImARIgARIIEgJWHXQmifO9kZJEd+JEV/JcCXdPtrnTvfvzPvAE3R9qfIYESIAE4gmEvIN+6xbQu7cre7skg7G5KXfQ5R768ePHtTJfFSpUQIRcnmeLJ2DVSEuC8uIxYE4tIFte9My/Ep+f+A2vt6qE9jWKkToJkAAJkECQELCq+5kkzvdGDh0KvPEGMGwYMHlyCpvtzwk676AHyW8PxSABEgh1AiHvoMsG5Mrlqv4RSg76b7/9hnbt2ml3znPlyoXY2FhcvnwZDRs2xIoVK5AvH0OuZW+tGmlJfkH/PgvMrAJkzIpBZT7FukMXMPrxCuhV3/5vd0JdWVB+EiABEnCKgFXdzyRxvnfq+eeB2bNdhxoS7p5sc99BP38eMJMkjlncnfoV4TwkQAKpmECqcNClpmelSq466DY3ZSfo4pz/8MMPWLJkiXZyLk0SxUmCOEkWt1w3varNKw2S4a0aaUmWceV3YFoZ7ccvV9mJxV+dw4CHy2LII+WCZMUUgwRIgARIwKru90wSJ8nIH3uMSeLkrerVC1i4EBg/HpBw9xSbmSzuRYsCkZEsscZfXRIgARJQQCBVOOgTJgDTpgEPP+wqqSJl1zyb3LVS1JQ56FIHfcuWLahevXoi0fbt24dHH30Uly5dUiRyaA9j1UhLsvobV4BJhbUfz6i+HTN3XkD3OiUw9smKoQ2K0pMACZBAKiKgUvczSVzCi9G5M7B0qctmeuEFAy+MOOmdOgHXryd0lgg/SQInYOX/Fy7sKqHD0moGgLILCZAACegTSBUOuvyNSK7JlSiph66oKXPQs2fPjp07d+L+++9PJNrBgwfx0EMPaaHdbDaEuMfEAK+6Sqq9V3sLxm39DW2qFcG0/6tC3CRAAiRAAkFCQIWD/vjjrlrfOXO6FiVf5j/3nOtanLQ//3T5lceOBcmifYih2khr2xZYtQp46y1Awt0NNcnmLnfS5YHWremMG4LGTiRAAiTgPwHVut9/SULjSWUOevPmzbVTcgllL1SokLb68+fPa6XXcufOjbXBXJjVwb1SYaQlEXd8AeD2Nayp9zFe2HwZlYvkwMimYahRMg8ypE/n4Oo4FQmQAAmQgC8CKnR/+vTAr78C+fO7ZpByrIcOJeSrkTB4+fMr162Dtak20po3BzZsABYsAJ55xuCqH3wQkPI469crL41jUAJ2IwESIIE0RUC17k/t8JQ56OfOnYM46d999x2KFi2qZXGXmuiVKlXC+vXrUaRIkdTO0tD6VBhpSSaaXBK49hdaYzr2Xy8Q/3HBnFkw9skwNAlnyTVDm8NOJEACJGATARW639tBz54dOHw4bTvochf/s8+AxYsBCXc31CTJz3ffAZs3A40bG3qEnUiABEiABPwnQAfdHDtlDrp72s2bN+PEiRNaFvewsDA05h+/RDuiwkjz3uJrUyog69ULaH7jVRyOdSWMk+Y+O5/zdASddHO/F+xNAiRAAkoJqND9dNCTbkmDBsCOHcDKlYCEuxtqpUu77gru3g3UqmXoEXYiARIgARLwnwAddHPsLDvoW7duxfPPP4+9e/cih8TbeTQps1a7dm3MnTsX9eRiHJvyMmt3YmLx82vhKBn7CzrcHI09MYmTw4mTXiBnFnw5vBHD3fn+kQAJkECACKhw0CVnmYS4u6uWygn6t9+6cptJS2sh7hLKL4fhx4+7sriPGGEwr1uBAi5YEn5QuXKA3ghOSwIkQAJphwAddHN7bdlBf+qpp7Ra54MHD/Y585tvvolt27bxDnocHRVGmifoPT/8iWxRjVEl/Y/ofvNFbIup6nMflvd6ELVK5zX3drA3CZAACZCAEgIqdL+coDdtmlBe7cMPgUaNEiq93LgBbNyYNu6gSzL2gQOBX35J2B65STdzpoHKaPLNxpUrwPffA2USos6UbDQHIQESIAESSEKADrq5l8Kyg168eHFs3Lgxvva59/QS7i5l1uQ+Opv6LO7rD51HgQ9aoWb6E3ju5gB8HPOgT8wz29+P5ve7yrGxkQAJkAAJOEtAhYPevbsxmRctMtYvEL1UGGnJlTOXKjfSVq9OwUmPjQUyZgSkAsqFC0BB5mgJxHvAOUmABNIWARW6P2DErl4FXnwRWLcOuHXLlbvkzTeBe+6xTSTLDnqWLFm0xHBlkvkW+vTp01qiuGvXrtm2iFAaWIWR5rleOUG//l5LNMxwGC/e6o1Vdxr4xMET9FB6SygrCZBAaiOg4x1HMAAAIABJREFUWveHKh+rRpqEtZcokfjk3JOFOOlykn7mTDLh7lL/PGtW1yOXL7tS4bORAAmQAAnYSsCq7rdVOL3BxTl/+22gUyfX349lywBJgCI1Pm1qlh300qVLY9q0aWjZsqVPET/44AMMHToUPyos3m4TC0eGVW2kyR30HeObolHMHoy51Q1L7jyaaB28g+7ItnISEiABEkiRgGrdH6q4rRppUr5cypjrtW3bXPZTkibF4t2nHnISIqfpbCRAAiRAArYSsKr7bRVOb3BJLDphAtC+vavnvn1AnTqAfOEryWFsaJYd9P79+2P79u34+uuvIafpnk1OzWvUqKHdUZe76GzqQ9yF6flFXVD4p/V4/VYHzL3zZDxmZnHnG0cCJEACwUGADrprH6waacuXAx076u+pHHB06OCj37lzQLFiwF13AXJpn40ESIAESMB2AlZ1v+0CpjSB/L2QsKzCHleF5ST91CmgaFFbRLPsoF+8eBERERHIkCGDls29fPnyWg3048ePY/bs2bhz5w4OHDiAe++915YFhNqgthhpHw0BvnkH72Roi9f+1yIeCeugh9rbQXlJgARSKwFbdH8IwrJqpFk+QT9xAqhQAcidG/jrrxAkSJFJgARIIPQIWNX9AV2xdwkVEca7jIpiAS076CLPTz/9hH79+mHTpk1a/XNp4qQ/9thjePvtt1FCLoyxaQRsMdI+ewnY/RZiavXHM9HNsfXEb2gdURhT2lRhaTW+dyRAAiQQBARs0f1BsC6zIlg10tx30M+fB+LMjUQi6N5B378feOAB10mIZwp4swthfxIgARIgAcMErOp+wxPZ0dG7hIrM4V1GRX4mGUwVNSUOuluWv//+G5IUTpz0smXLIrd8Q82WiIAtRtq2icCOycADPRGZpS8it3yPDjWKYVKrSqRPAiRAAiQQBARs0f1BsC6zIqgw0txZ3GVuTyfdUBb3nTuB+vWBcuWAkyfNis/+JEACJEACfhBQofv9mFbNI926ycmz/lgKS6goddD1JWcPW4y0LyOBLWOBKh2wvPAojPzgCB6+Lz/e6VadwEmABEiABIKAgC26PwjWZVYEVUaarzrochUwMlKnDroUipdi8lWrAgcOmBWf/UmABEiABPwgoEr3+zF1SD5CB93hbbPFSNu3APhkKBDWHFsrT0WP975BeOEc+Kh/PYdXx+lIgARIgAR8EbBF94cgapVGmoS73323K9ebJIVr29ZAQt01a4A2bVwZeL/8MgQJUmQSIAESCD0C/uh+uSY9depUREdHo2LFioiMjES9esn7Njt27MCQIUNw9OhRFCpUCMOGDUPfvn0Twbp06RJGjx4NqTImkd8lS5bEG2+8gccffzx5qFKJrGRJY6foiraGDroikEaHscVIO/hfYP2zQJlH8F3Dd/DEW18iX/bM+Hp0Y6NisR8JkAAJkICNBGzR/TbKa9fQ/hhpKckixWPEQf/pJ1dydt22ZAnQpQvw6KPApk263dmBBEiABEjAOgGzun/lypXo3LmzlsusTp06mDdvHhYuXIhjx46hmA9lf+bMGYSHh6NXr17o06cPdu3ahWeffRbLly9H69attQXcvHlTGyt//vwYNWoUihQpgnPnziF79uyoUqVK8ouUJHHR0UD+/K4+7doBUp3MxgTodNCtv3OmRrDFSPvuA2B1d6B4HfzeZi2qT9iiXZX4fnxTZMyQ3pR87EwCJEACJKCegC26X72Yto9o1kjTE0iq30g5c8n35lkBJ9nn5s4F+vUDWrZUmtBHT05+TgIkQAJpmYBZ3V+zZk2tSticOXPisVWoUAEtWrTApEmTkqAcPnw4NmzYoFURczc5PT98+DD27Nmj/Wju3LnaifyJEyeQKVMm49shSeJ+/TXBQZcM7ocPA6VKGR/DZE866CaBWe1ui5F2ahOwrC1QqCpintmGsi99ijsxsdg78mEUyJm4Nr1V+fk8CZAACZCAeQK26H7zYgT8CbNGmp7AcrAREwNcuAAULKjXG8AbbwBDhwKdOgFLlxp4gF1IgARIgASsEnDrfjkBL+zxbWrmzJkh/3g2OenOli0bVq1ahZbyZWpcGzhwIA4dOgQJZfdu9evXR9WqVTFz5sz4j9auXYu2bdvi6tWrmkMuYex58uTRxl6/fj3y5cuHjh07Qpx7KReebKODbnX7g/95W4y0H7YDS5oD2QsCrRagzvJrOP/PLax/rg6qFM0V/FAoIQmQAAmkcgK26P4QZKbaQXcn1r14MeFwI0Usr70GvPwy0Ls3MG9eCBKkyCRAAiQQegTcut9b8rFjx2LcuHGJfnzhwgXNiZcw9dq1a8d/NnHiRERFReGkjwoc5cqVQ7du3bTQdXfbvXu3FtIu4xUsWBD33Xcfzp49i06dOmnh799//z2ee+45iOP/svxdSK5510G3uQa6iMETdIffceVG2rENwMdDgP/9Hr+SP9Lfg9HXn0brTv3waMUCDq+Q05EACZAACXgTUK77QxSxSgddTs7dhx6//w7cc48BKCNGAJMnA4MHA9OnG3iAXUiABEiABKwSMHOC7nbQxcGuVatW/NQTJkzAkiVLtBB17yYOevfu3TFy5Mj4j8TBr1u3rpZkrkCBApA+169fh9xXd5+YT58+PT4RXbJr9K6D7qsGujwcrHXQrW5eWnheqZEmzvn7XaQSbCJ0MfJfscCSYq+hXINOqFEyDzKkN1C/Ly1sANdIAiRAAgEgoFT3B0B+VVOqdNDl7rncQZf2119A7twGpOzfH5g1Cxg9Ghg/3sAD7EICJEACJGCVgBndb1eI+0MPPaSFum/ZsiV+OZ9++qkW+n7jxg3c5f6D4r3Y7t2NLZ910I1xCsZeyoy0mDtAZDjwzwWfy4yJBX5FXtS9MRP35syGsU+GoUm4kQt6wUiNMpEACZBAaBNQpvtDGwPMGGl6S5Xs7ZLFXdrly0COHHpPAOjZE3j3XWDiRMDjpMXAk+xCAiRAAiTgJwGzul+SxFWrVk3L4u5uYWFhaN68ebJJ4j788EMty7u79evXT7uz7k4SJ+Hvy5Ytw48//oj0cioOaHfWJ0+erIXBB1NjiLvDu6HMSDuzE4h6Qlf69jdfwlcxYVq/OU9H0EnXJcYOJEACJKCegDLdr140R0c0a6SlJNzVq6466NL+/Rf4z38MLKV9e2DlSrHKgAEDDDzALiRAAiRAAlYJmNX97jJrknldwtznz5+PBQsWaDXOixcvroWynz9/HosXL9ZEc5dZkxJrUmpNnHLJ4u5ZZk1KqomTL3fV+/fvr91B79GjBwYMGKDVRg+mRgfd4d1QZqQdWQ2s6akr/YCbz2NDTG1IgLtkdP9yeCOGu+tSYwcSIAESUEtAme5XK5bjo5k10lIS8MoVQHL1SBNnPWtWA8t58kngo4+ABQuAZ54x8AC7kAAJkAAJWCXgj+6X0/MpU6Zod8ilxvmMGTMg2dqliZMtCd+2b98eL5pkdx88eLDmxBcqVEjLzi5OumcTx136yMm6JKLr2bOnfhZ3q4v343k66H5As/KIMiPNxAn63rgTdJF7ea8HUat0XitL4LMkQAIkQAImCSjT/SbnDbbu/hhpya1BwtpzxRUquX4d8KrU4/uxhx8Gtm4Fli0DOnQINjyUhwRIgARSJQGVuj9VAvJaFB10h3dZmZEWfwc9OkmSOFmS5x30GLjuWUib2f5+NL+/sMOr5nQkQAIkkLYJKNP9IY5RpZEmieHyxn3fLAnjMmY0AOfBB4GvvgLWrweeesrAA+xCAiRAAiRglYBK3W9VllB4ng66w7uk1EiLz+Iui0jI5C7OubR+twZhU0yNRCvkCbrDG87pSIAESACAUt0fwkRVGml//AHky+eCISXX3DXRU8RTuTJw5AiweTPQuHEIk6ToJEACJBA6BFTq/tBZtf+S0kH3n51fTyo30sRJ3zg8UTb3C7F58cqtzomcc95B92u7+BAJkAAJKCGgXPcrkcr5QVQaaRcvAgUKuNYQm7jaaPILK10a+PFHYPduwKO+rvMkOCMJkAAJpB0CKnV/WqBGB93hXbbFSJNw9w/6AN+twsY71fHcrYG44xHW7q6AzizuDm82pyMBEiCBOAK26P4QpKvSSIuOBgoVAjJkAG7fNghDPHrx7A8dAqpUMfgQu5EACZAACVghoFL3W5EjVJ6lg+7wTtlmpH01D/h0GH4t/Bha/tEH0Zevx6+sYM4srIPu8D5zOhIgARLwJGCb7reIWbLkTp06VcuSW7FiRURGRqJevXo+R/3yyy+1bLcnTpzA1atXtVI3UtJGMuIabSqNtF9+AYoWBTJlAm7eNCiBFEuXmmzffw+UKWPwIXYjARIgARKwQkCl7rciR6g8Swfd4Z2yzUg7th54vwtQtCbudN+El9YewfKvz6FO6bxY3LMmS6s5vM+cjgRIgASC3UF315kVJ71OnTqYN28eFi5ciGPHjqFYsWJJNvDgwYOac165cmXcfffdEIddHHQpfdO7d29DG67SSPvpJ6BECSBLFuDaNQPTSxy8ZJKTC+sXLgAFCxp4iF1IgARIgASsElCp+63KEgrP00F3eJdsc9DP7QPeeQTIVQwYdASfHolGv/8ewP1Fc2Hdc3UcXiWnIwESIAESCHYHvWbNmoiIiMCcOXPiRa1QoQJatGiBSZMmGdrAVq1aac76kiVLDPVXaaSdOQOUKgXcfTcgNdF1m9RicxdLv3QJyJlT9xF2IAESIAESsE5Ape63Lk3wj0AH3eE9ss1Bv/QzEFkJyHAX8NJvOBb9Lx5/cyfy3H0XDox5xOFVcjoSIAESIIFgdtBv3ryJbNmyYdWqVWjZsmW8qAMHDsShQ4ewY8cO3Q2UE/WmTZti/PjxeOaZZ3z2v3HjBuQfdzt//jzCwsJw7tw5FClSRHeOlDqcPg2ULQtkzy5Z8g0M5VddNgPjsgsJkAAJkECKBOigm3tB6KCb42W5t20O+u0bwPj8LvmGncGVDDkQPnaT9p+Hxz6KnFkzWZadA5AACZAACfhHwDbd7584uHDhAgoXLoxdu3ahdu3a8aNMnDgRUVFROHnyZLIji2P9+++/4/bt2xg3bhzGjBmTbF/5/JVXXknyuQoH/dQpoHx5IFcu4O+/DYA4dw6Q0P277gI8vjQw8CS7kAAJkAAJWCBAB90cPDro5nhZ7m2rkTalFHD1T6DfbuDeiqj22mb8+b+bGPpoeVQrnhs1SubhXXTLO8gBSIAESMA8AVt1v3lx4h303bt3o5ZHubEJEyZo4epy1zy5dubMGVy5cgV79+7FiBEjMGvWLHTo0MFndztP0I8fB8LCgDx5gD//NABB1lShggmP3sCY7EICJEACJKBLgA66LqJEHeigm+NlubetRtqcOsDF74Cn12Dj9Yrov/wgbt1JKA7LbO6Wt48DkAAJkIBfBGzV/X5IpCLEXaaV8HZx6FM6cfcUT6WR9t13QKVKQL58wG+/GYBw4ABQrRpQuDAgKeDZSIAESIAEHCGgUvc7InCAJ6GD7vAG2GqkLWkF/PA5jjwwEU99WQIJrrlrkayH7vBmczoSIAESiCNgq+73k7IkiatWrRoki7u7yf3w5s2bG04S99prr+Gdd97B2bNnDUmh0kj79ltXKfN77wV+/dXA9Nu3Aw0bAlILfflyQMrJSRF1NhIgARIgAVsJqNT9tgoaJIPTQXd4I2w10tb2Aw4vw5Z0tbHwRiPsi7kPMUifaIXipBfImQVfDm/EcHeH957TkQAJpF0Ctup+P7G6y6zNnTtXC3OfP38+FixYgKNHj2o1zkeOHAlJ6rZ48WJthtmzZ2vl1+677z7tv6XM2qBBg9C/f3/tJN1IU2mkHTwIREQAhQoB58/rzP7BB0CfPsAffyR0lCR1M2cCrVoZEZ19SIAESIAE/CSgUvf7KUJIPUYH3eHtss1IO7YBWNcPuJlQa+ZCbB68cqsLNsXUSLLK5b0eRK3SeR1ePacjARIggbRJwDbdbxGnnJ5PmTIF0dHRCA8P12qa169fXxu1W7du2sn4djl5BvDWW29ptdLlDnrGjBlRunRp9OrVS6uFnj594i+DkxNLpZG2fz/wwANA0aLAzz+nAEKc8zZtAKmD7tnSxcWVrV5NJ93ie8THSYAESCAlAip1f1ogTQfd4V22xUgT5/z9LoBXUHtMnC3S79agJE76zPb3o/n9hR1ePacjARIggbRJwBbdH4IoVRpp+/YBNWsCxYsDyUbY37kDlCiR/J1zcdLlJF2KqjPcPQTfKIpMAiQQCgRU6v5QWK9VGemgWyVo8nnlRlrMHSAyHPjngk9JxEn/FXlR98bMROHuPEE3uXHsTgIkQAIWCCjX/RZkCeSjKo20PXsAqRBXqhTwww/JrMp971xv0du2AQ0a6PXi5yRAAiRAAn4QUKn7/Zg+5B6hg+7wlik30s7sBKKe0F1F+5svYW9MmJYojnfQdXGxAwmQAAkoJaBc9yuVzrnBVBppu3YBdesCZcoA33+fzBokGVzHjvoLXLYMSKZUnP7D7EECJEACJJASAZW6Py2QpoPu8C4rN9KOrAbW9NRdxYCbz+PDmNpavzlPR6BJeEHdZ9iBBEiABEhADQHlul+NWI6PotJI++IL4KGHgPLlgWTLtr/6KjB2rP46eYKuz4g9SIAESMBPAip1v58ihNRjdNAd3i7lRpqJE/QTmauge50SeL5RWWZwd3jfOR0JkEDaJqBc94coTpVGmjt6PSwMOHrUBxBJDte6dcqkeAc9RN8kik0CJBBKBFTq/lBat7+y0kH3l5yfzyk30uLvoEcnSRInIkqeuOjYxHfQC+bMgrFPhvEU3c895GMkQAIkYJaAct1vVoAg6a/SSPv8c6BxYyA8HDhyxGuBesnh3N3FQWcW9yB5OygGCZBAaiWgUvenVkae66KD7vAu22KkxWdxd7vkrkXFIh1iY2PhncU9rrAMQ90d3ntORwIkkHYJ2KL7QxCnSiPts8+Axx4DqlQBDh3ygmE0OdwrrwAvvxyCJCkyCZAACYQOAZW6P3RW7b+kdND9Z+fXk7YZaeKkbxyeKJu7ZG8fe7OzzzroTBbn1/bxIRIgARLwi4Btut8vaQL3kEojbeNGoGlToGpV4MABrzUxOVzgNpkzkwAJkIAXAZW6Py3ApYPu8C7baqRJuPvy9sD3n+Fi6TaodbRFotJqvpbKcmsOvwCcjgRIIE0SsFX3hxBRlUbaxx8DTzwBPPAA8PXXXhCMnqAzOVwIvT0UlQRIIFQJqNT9ocrAjNx00M3QUtDXdiNt20Rgx2ScKdEODU8015V4Zvv70fz+wrr92IEESIAESMB/Arbrfv9Fc/RJlUbahx8CTz0F1KwJ7N3rtQz3HfTz54FYycbi1ZgcztF952QkQAJpm4BK3Z8WSNJBd3iXbTfSvnkX+Ggw/irSGBGne+iujifouojYgQRIgAQsE7Bd91uW0JkBVBpp69YBLVsCtWoBu3f7kF+yuLdpk9RBF+dcGpPDObPpnIUESCDNE1Cp+9MCTDroDu+y7UbayU+1MPfYQlVR+88x+PXydS2Tu69WIEdm7BrxMEuuOfwOcDoSIIG0R8B23R8iSFUaaWvWuPzvunWBnTt9AJBT9C5dgGXLEn9YtCgQGQm0ahUi1CgmCZAACYQ2AZW6P7RJGJOeDroxTsp62W6knT8ALGgIZC+IjY9tQ7+lrsw5vpz0XNky4fVWlVhuTdnuciASIAES8E3Adt0fIuBVGmmrVgFt2wL16wM7dngBkNPzgQOBX35J+CBPHtfPRo8GMmQIEWIUkwRIgARCn4BK3R/6NPRXQAddn5HSHrYbaf9EA9PvA9JlAMb8jo3HfsOID47g0tVbSdbBcmtKt5aDkQAJkECyBGzX/SHCXqWRtmIF0KED0LAhsHWrBwCGtofI20AxSYAE0goBlbo/LTCjg+7wLttupN25DYzPB8TGAC+cwp2786PO61vx6z/Xfa6U5dYcfgE4HQmQQJokYLvuDxGqKo00iVzv1Alo3BjYvDkOgDs5nOfJuScbJocLkTeFYpIACaQmAip1f2riktxa6KA7vMuOGGnTygNXfgV678Cea0XRYYF3etuki2ayOIdfBE5HAiSQpgg4ovtDgKhKI23JEtcV80cfBTZtils8y6uFwFtAEUmABNIaAZW6Py2wo4Pu8C47YqTNewiIPgR0WIn11yph4IpDuqtkuTVdROxAAiRAAn4TcET3+y2dcw+qNNKiooBu3YCmTYFPPolbw/LlQMeO+guS43eJj2cjARIgARKwnYBK3W+7sEEwAR10hzfBESPtv+2A7zcCVTvj6D1N8eSHMYhB+hRXyhN0h18ETkcCJJCmCDii+0OAqEoj7d13gZ49gWbNgI8+ils8T9BD4C2giCRAAmmNgErdnxbY0UF3eJdtN9KObQDW9gFuXY1f2UXkxdibnbExpobP1RbMmQVfDm/EcmsOvwucjgRIIO0QsF33hwhKlUbaggVA797AU08B69fHAXDfQT9/Pmn9c+nCO+gh8qZQTBIggdREQKXuT01cklsLHXSHd9lWI02c8/e7JCmqFot0iI2NRb9bg7DJh5Pep35JjHw8zGESnI4ESIAE0g4BW3V/CGFUaaTNmwf07Qu0bAlI4vb4xizuIfRGUFQSIIG0QECl7k8LvOigO7zLthlpMXeAyHDgnws+VyR10KNj86LujZlJwt0lk/ucpyNYD93hd4HTkQAJpB0Ctun+EEOo0kh7+23gueeA1q2B1au9QLgvqHv+uGhRIDISaNUqxKhRXBIgARIIbQIqdX9okzAmPR10Y5yU9bLNSDuzE4h6QlfO9jdfwt6YxKflLLWmi40dSIAESMASAdt0vyWpnH9YpZE2axbQvz/Qti2wcqXHWiTMfeZM4IUXgDx5gDffBAoXBurVAzJkcH7RnJEESIAE0jgBlbo/LaCkg+7wLttmpB1ZDazpqbuaATefx4aY2j77MVGcLj52IAESIAG/CNim+/2SJnAPqTTSxAcfNAho3x6Q5O1ak/D2gQMBzzroRYq4HHaenAdu4zkzCZBAmiagUvenBZB00B3eZduMNAsn6G4ELLXm8MvA6UiABNIMAdt0f4gRVGmkTZ/uOiTv1AlYujTOOW/TJmlyOEkMJ03i4Omkh9gbQ3FJgARSAwGVuj818NBbAx10PUKKP7fNSIu/gx6dJEmcLCEmFvgVvu+gu5c4uHE5DGxcVvGKORwJkAAJkIBtuj/E0Ko00qZNA158EejSBYh69w5QokTik3NPNszeHmJvCsUlARJITQRU6v7UxCW5tdBBd3iXbTXS4rO4y6IkLZyrSRZ3+d9+NwclW2pN+jFZnMMvA6cjARJIMwRs1f0hRFGlkTZ5MjBiBNCtG7Co63agYUN9Etu2AQ0a6PdjDxIgARIgAWUEVOp+ZUIF8UB00B3eHNuNNHHSNw5PnM09R2EcrDgcLbfdk+JqmSzO4ZeB05EACaQZArbr/hAhqdJImzQJGDUK6NkTWPjwcqBjR30Ky5YBHTro92MPEiABEiABZQRU6n5lQgXxQHTQHd4cR4w0CXffPgn4YiqQrwLQbxeQPgNmbjmFGVu+110xk8XpImIHEiABEjBFwBHdb0qiwHRWaaSNHw+MGQP06gXM78gT9MDsKGclARIgAX0CKnW//myh34MOusN76JiR9usRYG5dIEsuYPhZIF06rD90HgNXHNJdcY86JfDykxV1+7EDCZAACZCAMQKO6X5j4gSsl0oj7ZVXgHHjgL59gTmz4u6gnz+fNEmcrJZ30AO255yYBEiABFTq/rRAkw66w7vsmJF26zowoYDrLvrj04F85bDndnl0eOdrQyue+3QEmoQXNNSXnUiABEiABFIm4JjuD/KNUGmkjR0LvPoq8OyzwOzZzOIe5FtP8UiABNIwAZW6Py1gpIPu8C47ZqTJXfRV3YDYO/ErjM1RCCOvPo0VV+5PcdW8i+7wS8HpSIAEUj0Bx3R/kJNUaaS99BIwYQLQvz/w5ptxC5c66M88A/z9dwKJokWByEiWWAvyd4PikQAJpF4CKnV/6qWUsDI66A7vsiNGWnw294RM7q5lptNyu/e9ORCbYmrorpx30XURsQMJkAAJGCLgiO43JElgO6k00iRBnCSKGzQImDHDY11vvQUMGADUqAFIqvd69YAMGQK7cM5OAiRAAmmYgErdnxYw0kF3eJdtN9Li66FfSGZl6XA5Uz5U/Xc6YpA+xdXzLrrDLwenIwESSLUEbNf9IUJOpZE2fDgwZQowZAjwxhseANzp3bt3B959N0TIUEwSIAESSL0EVOr+1EspYWV00B3eZduNtDM7gagndFfV/uZL2BsTptuPd9F1EbEDCZAACegSsF3360oQHB1UGmlDh7oc8xdfdDnq8c19tC6n6DNnBsfCKQUJkAAJpGECKnV/WsBIB93hXbbdSDuyGljTU3dVL2ccjMVXquv2K5AjM3aNeBgZ0svNdDYSIAESIAF/CNiu+/0RKgDPqDTS5ORcQtvlJP311z0WI5fSZ80C5JL6a68FYJWckgRIgARIwJOASt2fFsjSQXd4l2030gyeoO+rH4W2n2UytPrBjcthYOOyhvqyEwmQAAmQQFICtuv+EIGu0kgbONCVHE4OzCVZXHzr1g2IinLdPx82LETIUEwSIAESSL0EVOr+1EspYWV00B3eZduNtPg76NGuEmtJWjogRyFg0BG89vEJvLPrrCECDHU3hImdSIAESMAnAdt1f4hwV2mkuQ/Kx4xxlVuLb61bA5LN/e23gX79QoQMxSQBEiCB1EtApe5PvZTooAdsbx0x0uKzuMsyfTjpbaKA8BbY88Of6LBgryEWDHU3hImdSIAESIAOegrvgEojTeqfz5kDSD30ceM8Jn30UWDzZmDJEuDpp/lGkgAJkAAJBJiASt0f4KU4Mj1P0B3BnDCJIw66TCdO+sbhwD8+srnLCXqTybiPtDHeAAAgAElEQVRz35OoO3kroi9fN0SBoe6GMLETCZAACSQh4JjuD3L2Ko20Pn2A+fNdp+dyih7fatUC9u4F1q0DmjcPciIUjwRIgARSPwGVuj/10wLooDu8y44aaUfXAau6+lhhXMK3touxMaY6+i49YJgCQ90No2JHEiABEogn4KjuD2LuKo20Xr2AhQuB8eOB0aM9Fh0eDhw9Cnz+OdCoURDToGgkQAIkkDYI+KP73377bUydOhXR0dGoWLEiIiMjUa9evWSB7dixA0OGDMHRo0dRqFAhDBs2DH379vXZf8WKFejQoQOaN2+OdfJlbpA1OugOb4hjRpqBeujuu+gzt/6AGVu+N0SCoe6GMLETCZAACSQi4JjuD3Lu/hhpyS2pRw9g0SJAyp6PGOHRq1gx4Nw5YN8+oLp+tZIgR0bxSIAESCDkCZjV/StXrkTnzp0hTnqdOnUwb948LFy4EMeOHUMx0fFe7cyZMwgPD0evXr3Qp08f7Nq1C88++yyWL1+O1pKXxKP99NNP2pilSpVCnjx56KCH/NulYAGOGWkGs7mj60e4U7wu6ry+Fb/+w1B3BVvMIUiABEggCQHHdH+QszdrpKW0HHeydqmBLrXQ41vu3MClS8Dx48B99wU5EYpHAiRAAqmfgFndX7NmTURERGCOJBqJaxUqVECLFi0wSb6V9WrDhw/Hhg0bcFz0flyT0/PDhw9jz5498T+7c+cOHnroIXTv3h07d+7EpUuX6KCn/tdPf4WOGWkG66Gj9TtApTbY+F20qVD3tztWxeOVC+kvmD1IgARIgATgmO4PctZmjbSUltO5M7B0KTBtGvDCC3E9Y2OBTJmAO3eA8+eBQvw7FeSvBMUjARJIAwTcul9OwAsXLhy/4syZM0P+8Ww3b95EtmzZsGrVKrRs2TL+o4EDB+LQoUOQUHbvVr9+fVStWhUzZ86M/2jt2rVo27Ytrl69ikzydwGSVHQsvv32W8hn3bp1o4OeBt49Q0t0zEgzcYKOkq77HDO3nDIc6p4+HTCrQwQer1zQ0LrZiQRIgATSMgHHdH+QQ1bpoHfsCCxfDsyYAQwaFLfwa9eAbNlc//HPP0D27EFOhOKRAAmQQOon4Nb93isVh3lcojIcwIULFzQnXsLUa9euHf/IxIkTERUVhZMnTyYBVq5cOc3hHjVqVPxnu3fv1kLZZbyCBQtq47Vr105z8u+55x466Kn/tTO+QseMNBP10JE+g7aAOzGxpkLd5RmepBvfe/YkARJIuwQc0/1Bjlilg96+PbByJSAHJgMGxC38t9+Ae+91/YecoqdPH+REKB4JkAAJpH4CZk7Q3Q66ONi1pCpHXJswYQKWLFmCEydO+HTQJWx95MiR8Z+JQ163bl0tydzdd9+NypUra3famzZtqvXhCXrqf+8Mr9BRI81gPXRP4c2GuvMk3fDWsyMJkEAaJuCo7g9iziod9P/7P2D1amDWLOC55+IW/cMPQJkywH/+A/z7bxCToGgkQAIkkHYImNH9doS4S2Z3CYHPkMF1KCktJiZG+3f69Om1U/nSpUsHzYYwi7vDW+G4kWagHjrCnkpEwUyou/tBll9z+EXidCRAAiFFwHHdH6R0zBhpekuQxLwffABIDqH4SjqHDgFVqwIFC0qcpN4Q/JwESIAESMABAmZ1vySJq1atmnbi7W5hYWFaWbTkksR9+OGHWpZ3d+vXr58Wzi5J4q5fv47Tp08nWulLL72Ef//9V7u3LiHyd911lwMkjE1BB90YJ2W9AmKkGaiH7umk+xPqzvJryl4RDkQCJJAKCQRE9wchR7NGWkpLaNECWL8emDcP6N07rufOnUD9+kC5coCPe4pBiIQikQAJkECqJ2BW97vLrM2dO1cLc58/fz4WLFig1TgvXry4Fsp+/vx5LF68WGPnLrMmJdak1Jo45ZLF3VeZNTdshrin+tfO+AIdN9J066EDyFEYGHQE7rvoshqzoe7yzODG5TCwcVnjMNiTBEiABNIIAcd1f5ByNWukpbSMJ58EPvoIWLgQ6NkzrucnnwDNmgHVqgHffBOkFCgWCZAACaQtAv7ofjk9nzJlinaHXGqcz5gxA5KtXZo412fPnsX27dvjQUp298GDB2tOfKFChSCl18RJT67RQU9b72CKq3XcSPMjm7t7AZ98ewHPLz+ImFjjG8ikccZZsScJkEDaIeC47jeIVgygqVOnagZQxYoVERkZiXr1XJU9vNsHH3yg1aSVkMEbN25o/SX77mOPPWZwNsAfIy25wcUPF3/83XeB7t3jeq1YAXToADRoAGzbZlgudiQBEiABErCPgErdb5+UwTMyQ9wd3gvHjTSj9dAffBZoMikJjU++jcazyw4YpsSkcYZRsSMJkEAaIuC47jfA1h1CKE66lKKZN28eFi5cqN3hK1asWJIRBg0apJ1KNGzYELly5cKiRYswbdo0fPXVV1ryHSNNpZHWpAmwaRMQFQV06RI3+4IFrnh3OV7fsMGISOxDAiRAAiRgMwGVut9mUYNieDroDm+D40aa0RP0bPcAQ08lCnN3o/HnJJ1J4xx+sTgdCZBAUBNwXPcboCFJeCIiIrRTcXerUKECWrRo4TMJj68h5RRd6sq+/PLLBmZUe4L+6KPA5s3A0qVAp05x00+fDrzwgusH8gEbCZAACZBAwAnQQTe3BXTQzfGy3NtxI03uoE8rC1z9U1/2rh8BJX2HNpo9SWfSOH3c7EECJJB2CDiu+3XQ+lPGxntIKVFTokQJDBs2DM8//7zPGSUUXv5xN0nqI5l4z507hyJFilh6AR5+GNi6FVi2zBXVrrVXXgHGjXOldff44sHSRHyYBEiABEjAEgE66Obw0UE3x8ty74AYaRtHAnsTyhQku4jW7wCV2iT7sdnya0waZ/l14QAkQAKphEBAdH8K7C5cuIDChQtj165dqF27dnzPiRMnIioqSqsJq9fk7vrrr7+O48ePI3/+/D67yx31V8Rp9moqHPSGDQHJD7RyJdC2bdwEQ4cCb7wBvPgiMGWK3hL4OQmQAAmQgAME6KCbg0wH3Rwvy70DYqQZDXNvMApoMDzZNfpTfo2h7pZfGQ5AAiSQCggERPcbcNB3796tlbBxtwkTJmDJkiU4ceJEitSldM0zzzyD9evXo3Hjxsn2tfMEXZL5SlW1VauANu7vlvv0AebPB159FRgzJhW8OVwCCZAACYQ+ATro5vaQDro5XpZ7B8RIiy+1Fg0gpZTs6YC2i+FZE917wWbLr+XKlgn7X3oEGSR7HBsJkAAJpFECAdH9KbC2EuIuyeW6d++OVatWoZmkUjfRVBppdeoAu3cDH3wAtGwZJ0THjsDy5cCMGcCgQSYkY1cSIAESIAG7CKjU/XbJGEzj0kF3eDcCZqQd2wC831lntemAHIWS1ET3fshs0jiGujv8knE6EiCBoCMQMN2fAglJEletWjVIFnd3k/vhzZs3TzZJnJyc9+jRA/JvSSZntqk00uTgf+9eYP164Kmn4iTxWRzdrJTsTwIkQAIkoJKASt2vUq5gHYsOusM7E1AjbftkYPtE/RWnkCzO/bCZpHE5s2bEgTGP8hRdnzx7kAAJpFICAdX9yTB1l1mbO3euFuY+f/58LFiwAEePHkXx4sUxcuRISFK3xYsXayOIU96lSxfMnDkTrVq1ih81a9asyJkzp6GdU2mk1agBfP018OGHwBNPxE0v9c937PC6mG5INHYiARIgARKwiYBK3W+TiEE1LB10h7cjoEaa0ZroOsni3MjMJI3jKbrDLxqnIwESCCoCAdX9KZCQ0/MpU6YgOjoa4eHhmDFjBurL5W4A3bp1w9mzZ7FdMrEBaNCgAXaI8+vVunbtivfee88Qb5VG2gMPAPv3A598AjRtGjd9RARw8KDXDw2Jxk4kQAIkQAI2EVCp+20SMaiGpYPu8HYE1EhTlCzOjUySxkW8thmXr90yRPHtjlXxeOVChvqyEwmQAAmkJgIB1f1BBFKlkVa1KnDo0P+3dybgURTpG3/DEUJCAoT7vgTkUgEREIIou6KyyqnrDawX4IGggseiuCqCqIDIpa7AoqCCHCqKioLI4S3+EQQBASP3lZCQQCDk/3wVZphM5uie7unpnnnreXzcdarr+H2V6nq7vvoKWLYM6N4dQH4+ULcusGcP8MorwJAhQMmSNuo9m0ICJEACsUnAzLk/FghSoFts5Ygu0kwMFufCpmcXXeLEvXpTG1xzQQ2LqbM6EiABEogsgYjO/ZHtepHazVykXXABsGED8PmyfPzt2+eASZOAI0fO1Sf3rMt/83DHtxEKNoUESIAEYoaAmXN/LECjQLfYyhFfpJkYLE7QyS5622c/R0aOtl10eYY76RYPOlZHAiQQcQIRn/sjTqCwAWYu0lq2BJpsXIh3Uu5G/LHDxXsYd/b2kAULKNJtYn82gwRIIDYJmDn3xwJBCnSLrWyLRZqJweIEn96r17iTbvGgY3UkQAIRJ2CLuT/iFMwV6A/UXoiJu/tCZLjfizxFpMtO+o4ddHe3gf3ZBBIggdgkQIGuz+4U6Pp4Gc5ti0Wa1mBxHYYAVz2vqc96XN1dBXInXRNaZiIBEogCAraY+23A0bRFWn4+9ibUR7XTf6GEln6tWCFR7rTkZB4SIAESIAGTCZg295vcLrsWR4FusWVssUjTGixO2LS7G0itDyRVAZJrAPUuBUoUD7ojru6dxn6JfcdOaCbKnXTNqJiRBEjA4QRsMffbgKFpizSJLH/55dp7NHcucNNN2vMzJwmQAAmQgGkETJv7TWuRvQuiQLfYPrZYpLmDxe3R3/uUmsBV44Dm1xV7Vq+ru6sA7qTrNwOfIAEScBYBW8z9NkBm2iJt3jzg5pu194g76NpZMScJkAAJmEzAtLnf5HbZtTgKdIstY5tFmqZgcQHg9JsNtOxVLMPH/7cH9837GWcKtIPlTrp2VsxJAiTgTAK2mfsjjM+0RZqeHfQ6dXgGPcJ2Z/UkQAKxTcC0uT9GMFKgW2xoWy3Slj0GfDM1NAJxJYB+M4EWvkT6XgyZ+5PucrmTrhsZHyABEnAIAVvN/RFkZtoiLT8fe+Lro/qZ3SiBAF+EJUgco7hH0OKsmgRIgATMDRAaCzwp0C22sq0WaXrOovvjdMMcn+7uoeykSxTeod0a4/5ujVFSttWZSIAESCBKCNhq7o8gU9MEOoA7Ki7E6xn9zkZx9yHSK1UCXnuNV6xF0N6smgRIgASEgJlzfywQpUC32Mq2WqQZOYvu4pZSC3hwg8/AcR//X2g76YnxJXFPl4a47woKdYuHJ6sjARIIEwFbzf1h6qOWYs1cpFWrBnQ6sBDvVhqC0of3n6s+NRUYOhR44glerabFKMxDAiRAAmEmYObcH+am2qJ4CnSLzWC7RZrRs+jCr/9HQIM0nyRD2Ul3FUShbvHgZHUkQAJhI2C7uT9sPQ1csJmLtMqVgcOHgT/eWoMGt3YGqlQB3nsPSEujMI+QfVktCZAACfgiYObcHwuEKdAttrItF2m/LgbeHwgUnAmNRt//Aq36+X021J10V4FlSpXAFedXxa0d6qFDw0p0fw/NSnyKBEggggRsOfdHgIeZizTZKD96FNg180vUHdgNaNkS2LAhAr1ilSRAAiRAAoEImDn3xwJpCnSLrWzbRdrGxcD8/qHRCLCD7irQyE66Z6O4qx6aifgUCZBAZAnYdu63GIuZi7Ty5YFjx4Dd0z9EzUHXAZdcAnz7rcU9YnUkQAIkQALBCJg59werKxp+p0C32Iq2XqSJu/uykcAxHfejB4jm7o3W6E46hbrFg5XVkQAJmEbA1nO/ab0MXpCZi7TkZCA7G9g36V1UG3oj0LUrIPedM5EACZAACdiKgJlzv606FqbGUKCHCay/Ym2/SJPAcbvWAll7geMHgaO7gO9mBKfk51704iJd/z3pgSovW7oEerSqgU6Nq6B6SgIuaZBKF/jg1mIOEiABiwnYfu63iIeZi7TERCA3Fzg47k1UHnkH0KMH8NFHFvWE1ZAACZAACWglYObcr7VOJ+ejQLfYeo5cpGk5ox6hnXRv85VPKIW/N69GwW7xuGZ1JEACgQk4cu4Pg1HNXKSVKQPk5QFH/vMqKj55P3D99YVB4phIgARIgARsRcDMud9WHQtTYyjQwwTWX7GOXKTpuS/dz73o3jyW/boXjy7cgIycU2G1AAV7WPGycBIgAY0EHDn3a+ybnmxmLtJKlwZOnwYyHn8B5ceMBPr3B2bN0tMc5iUBEiABErCAgJlzvwXNjXgVFOgWm8CRi7QNC4D379BGKsC96N4F5J8pwKtfbsOMVduRk5evrXyDuVyCvWOjysjIyUNquTJ0jTfIlI+TAAkEJ+DIuT94t3TnMHORVqIEUFAAZA1/CuVe/g8wZAgwZYruNvEBEiABEiCB8BIwc+4Pb0vtUToFusV2cOQiTc8OuvDUENXdE3skhLq32ZMTSqJP61qom5pE0W7x3wSrI4FYIODIuT8MhjFrkSbCXAS6pONDHkHi1BeBhx8Gxo8PQ6tZJAmQAAmQgBECZs39RtrgpGcp0C22liMXaRI4bmJL7dHdg9yL7g+5HYS6Z9u4227xHwerI4EoJuDIuT8M9jBrkZafD5QqVdjA3H/di4Q3pwJPPQWMHh2GVrNIEiABEiABIwTMmvuNtMFJz1KgW2wtxy7S5Aq2927TRqvr40DXkdry+shlN6Hu3UQK95BNywdJIGYJOHbuN9liZi3SJDicBImTdPKmAYifNxsYNw4YMcLkFrM4EiABEiABowTMmvuNtsMpz1OgW2wpRy/StERzd/HUeO1aIPwi1L/ZfhhvfbsTKzYfxInTZyy2lr7qRLj/rVlVVK9QFnGIQ8dGldChYSVe+6YPI3OTQFQScPTcb6JFzFqknTgBlC1b2LC8Xjeg9OL5wOTJwH33mdhaFkUCJEACJGAGAbPmfjPa4oQyKNAttpLjF2kbFwPz+wenpuPateCFAXbfVffXB9c97QxKp8XKzEMC0UvA8XO/SaYxa5F2/DhQrlxho05174FSn34MvPkmMHCgSS1lMSRAAiRAAmYRMGvuN6s9di+HAt1iC0XFIm3lOGDlGG3kNF67pq2wc0J95podyMgN7xVtWtsUSj5vN/kKifGMKh8KSD5DAg4hEBVzvwmszVqkZWUBKSmFDTrd5XKUXLUSeOcd4J//NKGVLIIESIAESMBMAmbN/Wa2yc5lUaBbbJ2oWKSF6do1PaaQHfXvdhzBvsxcrNl2CJ//dgCZDhbs3n2ngNczGpiXBOxPICrmfhMwm7VIy8gAKlYsbFB+u/Yo8f13wAcfANdea0IrWQQJkAAJkICZBMya+81sk53LokC32DpRsUgL87VroZgk2gW7NxPPa+G4+x7KiOEzJGAtgaiY+01AZtYi7fBhoHLlwgadadEScRs3Al98AVxxhQmtZBEkQAIkQAJmEjBr7jezTXYuiwLdYutExSLNomvXjJgm1gS7JyvuvhsZOXyWBMJDICrmfhPQmLVIO3gQqFr1rEBv0BBxO3YA69YBHTqY0EoWQQIkQAIkYCYBs+Z+M9tk57Io0C22TtQs0iy8ds0ME3kK9iPH8/DnkRws/Hk3sk6cNqN4R5XhKeCPHD+pzvIXFAAVE+ORmsSz8I4yJhvrGAJRM/cbJG7WIm3fPqBGDSAuDjhTtTqwfz/wyy/ABRcYbCEfJwESIAESMJuAWXO/2e2ya3kU6BZbJqoWaXLt2oIBAAoCU0yuCQz7FShR0mLagavzFu3iKr5ue/SdZzcC3d9uvMutnu71Rujy2VgiEFVzvwHDmbVI27MHqFULKFUKOJWQDGRnA9u2AY0aGWgdHyUBEiABEggHAbPm/nC0zY5lUqAbtErv3r2xcuVKdOvWDQsWLAhaWtQt0lY8D3w1Nmi/ceEtQM/JthPpvhpO4R7cnP5ycHc+dHZ8MroJRN3cH6K5zFqkpacDdesC8aULcDK/FHDmDCCqXbbVmUiABEiABGxFwKy531adCmNjKNANwl2xYgWys7Mxe/bs2BToeiK6l04COg0FujzsCKHuPTQo3A3+sXg9rnV3nrv15nJnaZEhQIFeyN2sRdrOnUCDBkCFhBM4eqJsYeES2r18+cgYmLWSAAmQAAn4JWDW3B8riCnQTbC07KC/+uqrsSnQ9UZ0F95lU4FrJwHNrzOBfuSL8BTuh7JP4sc/j2L11kPIPpkf+cZFcQt8RbL3FvMU91E8ABzWNQp0cwX6H38UerPXTjyC9JxKhYXn5QGlSztsZLC5JEACJBD9BCjQ9dnYlgL9+eefx8KFC7F582aULVsWl156KcaNG4emTZvq612A3KtWrcL48ePx448/Yu/evVi0aBF69epV7ImpU6eqfJKnRYsWmDhxItLS0orki2mBrjeiuye5frOBlsWZm2bkCBbE3fYIwtdQta/de38B8/yJ/tRyZVA9JQGXNEhFyRJxGmplllgmQIFurkDfuhVo0gQ4v9xf+C27TqEwF4HORAIkQAIkYDsCFOj6TGJLgX7VVVfhxhtvRLt27XD69Gk88cQT2LBhAzZt2oSkpKRiPVyzZg0uueQSlPb6ci4Cv0KFCqhevXqxZz755BPIc23atEHfvn19CvR3330Xt912G0Skd+rUCTNmzMAbb7yh2lFXDr+dTTEt0IWBnojuRSwRB1w2ErhshCNd3vX9qRXm9iXcM3LywAB1odC0xzNaXPWDiX+KfXvYMpytoEA3V6Bv2QKcfz5wcfIWfJ91fqFru7i4M5EACZAACdiOAAW6PpPYUqB7d+HgwYOoWrUqvvrqK3Tp0qXIz2fOnFEiu3HjxnjnnXdQsmRhpPDff/8dl112GYYNG4YRI0YEpBIXF+dToLdv316VPW3aNPfzzZo1UzvtsstPge6BdeU4YOUYfaPPlTvKXN5DgxBYwMfytXBGeDrtWS1i3/VBR+sVea6PQgeyTqBqMnf8IzUmKNDNFeibNgEtWgBdy/+MFZltgJo1gd27I2Ve1ksCJEACJBCAAAW6vuHhCIG+bds2JcBlF71ly5bFerhnzx4l3EVQz5kzBzt27FDivEePHmrXO1jyJdDz8vKQmJiI+fPnQyK1u9LQoUOxfv169bGAAt2DrBFXd1cx7e4GUusDSVWA5BpAvUtjZmc92BiV37n7roUS87gIiNhvXiMFm/ZlITP3lBuMlo8AwXb8g53t50eB4uOQAt1cgf7rr0CrVkCPCmvwUUZn4LzzAPF7ZyIBEiABErAdAQp0fSaxvUAvKChAz549cfToUXz99dd+e/fnn38qkd6hQwesW7cOXbt2xaxZsyDiO1jyJdBF9NeqVUu5wcsZeFcaM2aMiti+RfzrAHTv3h0//fQTjh8/jtTUVLUTL6753mnKlCmQf/Lz89XufmZmJlJSUoI1zVm/h+zq7qebKTWBq8ZFTTC5cBuTAj7chFl+MAKBPgr8rVlVVK9QFgUFQMXEeKQmxcPlDWD0364PCnGIQ8dGldChYSXbxQWgQDdXoP/yC3DRRcA/K36Gd452By68EFi/PtgQ5e8kQAIkQAIRIECBrg+67QX6vffei6VLl2L16tWoXbt2wN5J4DfZOW/YsKES0KVKldJEI5BAX7t2LTp27Ogu57nnnlO79HK+PZQU9Ys0EekfPgDkHg0Fj+9nPIPJyU79rrVA9n6gXDXusuug7EvA+9opXbf9ED7/7UCRXVcd1TArCUScQNnSJdCjVQ10bFQ55I8Aer0Igt0gkIA83NqlWXR+nNVhcbMWaT/9BLRtC/wrdTH+e6Q3IO/ptWt1tIRZSYAESIAErCJg1txvVXsjXY+tBfr999+PxYsXQ4R3A7nwNEDav3+/EudNmjTB999/j379+mHy5Mma+Bp1cddUydlMUS/QpZ8iole9CKydBOQd14PHT96zweSqNgM+fQw4tudcvrIVgPZDHHu3uglwwlJEoN14791OCvqwmICFRhmBMydzkD7xBgr0v/5CnTp1kJ6eHvSje6Ah8MMPgDir3Z/6Nl45civQrRuwfHmUjRp2hwRIgASigwAFuj472lKgi1u7iHNxF5cI6XL+PFA6dOiQcmmXfHJmfOvWrer/SwT2F198MSiRQEHi2rZtq6K4u1Lz5s2Vy71nkLigFXhkiAmB7uqvCPWvXgC+GgegQA8m/XkZaE4/MxOf4O68iTBZVFQSoEAvNKtZi7RvvwU6dAAerfQ6nj98N3DddcCSJVE5dtgpEiABEnA6AbPmfqdz0Np+Wwr0IUOGYO7cuViyZEmRu8/Lly+v7kX3TBLFXa5Yq1atmhL08fHx6mcJKHf55ZerK9okkrt3ys7OhgSfk9S6dWu8/PLLKr+cI3ddoea6Zm369OnKzf21117D66+/jo0bN6JevXpaGRfJF1MC3dXzjYuB+f1D4qX7oSi+W103C5s+oGd33nO3npHsbWpQNksTAQp0cwX6unWAhIf5T6VJGHX4QeDGG4F58zTZgplIgARIgASsJUCBro+3LQW6v8BuM2fOxIABA4r18PPPP0daWhoSEhKK/CbR1itVqqTc6byT7MyLIPdO/fv3V8HlXEl2z1944QXs3btXRZCfMGFCsave9CCPSYEugMJxNt0f+AtvAhpdwUjwegamQ/KGKu55z7xDDBzFzaRAN1egr14NpKUBL1Uag+GHnwD+9S/gv/+N4hHErpEACZCAcwlQoOuznS0Fur4uOCt3zAp0MZOVLu+uYeE6o955GJD+LZC1Fzh+kFe5OevPxrTWBhL4eoKC8dy9aSaJmYIo0M0V6HLTadeuwLRK/8agw88B998PvPJKzIwndpQESIAEnEQgFIEum6Tjx49Xm6QtWrTAxIkT1YasvyRXYA8fPlx5OtesWRMjRozAoEGD3NnFC/p///sffpV7OiGBRttCbucST2y7JQp0iy0S0wLdxdpKl3e3feW6PR/n4OOTgIbdgLrtgajIV3gAACAASURBVHJVC3fd67SnmLf478KJ1enZzQ8k/in2nWh9/W2mQDdXoK9YAVxxBTArdTj6H5kAjBwJjB2r3zB8ggRIgARIIOwE9Ap01zFjEemdOnXCjBkz8MYbb2DTpk3uo8iejd6xY4fydL7rrrtwzz33qGuy5cj0vHnz0LdvX5X1lltuUWXJ9dnidS0e0gsXLlSCXq7WtlOiQLfYGhToZ4GLy/uykUUjsltsC//V+RHz3vey88o321jM6Q3RI/Zd5/L1XpHnZ1Q7HZ1j2k+Bbq5Al4Dtf/878F7qPbj+yGvA008DTz7pmPHAhpIACZBALBHQK9Dbt2+PNm3aYNq0aW5MzZo1Q69evXwG6h45ciQ++OAD/Pbbb+78snv+yy+/YJ0ELfGR8vPzUbFiRbz66qu4/fbbbWUOCnSLzUGB7gHcJXBdbudHdwHfzbDYIiFU1+5u4FQ2sOWTove9ewv4EIrmIyRglIC32E8tVwbVUxLQtl5F/LjrKPZl5uLI8TwEurfbLHd/fhQ4Z00KdHMF+mefAd27Ax9WvA3/OPoWIDe2PPSQ0T8fPk8CJEACJBAGAnoEel5eHhITE9XNXL1793a3ZujQoZD4YuLK7p26dOmign5PmjTJ/ZMED7/hhhuQk5OD0qVLF3smKysLVatWVfX84x//CEOvQy+SAj10diE9SYEeBJvsrH9wP3AiIyS+tniIkeRtYQY2wjoCWj4KHMo+iYzcUygoAComxiM1KR6eUfoDfTAIlk8+KPz451Gs3noI2Sfzreu4jpoo0M0V6J98AlxzDbC8Ql90y1gIyHWogwfrsAizkgAJkAAJWEXAJdDFRd3TnbxMmTKQfzzTnj17VB5xUxd3dFeS8+KzZ8/Gli1bijW7SZMmKpD4448/7v5t7dq1yqVdyqtRo0axZ+699158+umn6ky6d6Bxq7j4q4cC3WILUKBrAC476+/fCWxcqCGzHbPEAZeNBC4bAZQoaccGsk0kEJUEQjkq4E/86/EiCPYBQX5PQB5u7dIMmZmZSElJsQ1/PUF4JFDPQw89hB9//BFbt27FAw88oIL26El6dlEClfvRR0DPa/Pxf4kd0SLn+8Iz6M89B5TknKvHHsxLAiRAAlYQcM393nU99dRTGD16tE+BLgJbrrl2peeeew5z5szB5s2bfQr0gQMH4rHHHnP/JgK/c+fOKshc9erVizwj58/Hjh0LudXrggsusAKBrjoo0HXhMp6ZAl0HQwkmt/QhIOdQ8YcSKgInjuooLAJZ45OBa18BylVh9PgI4GeVJGAnAnac+/UG4dm5c6e6alQi38q/L7vssogJ9O8fW4jqY4eiDv46Z+batQFxb+zTx06mZ1tIgARIIOYJ6NlBD7eL+4svvohnn30Wy5cvx8UXX2xL21CgW2wWOy7SLEagrzrvc+pJVc7db755KfDhA0XPgesrPXK5JVp824FApUZAuWpAvUu52x45a7BmEgg7ATvO/XqD8HhC6tq1Ky666KLICPSFC1HQtx8KUIASno2Kk6gHABYsoEgP+4hmBSRAAiSgnYBe7yl5P8nHYPHycqXmzZujZ8+efoPEffjhhyrKuysNHjxYnVn3DBIn17aJOBfX9g4dOmjvgMU5KdAtBm7HRZrFCMytTgT8qheBb6c5U6i7aCSUB5r+A2jU9dwHCLrHmztWWBoJRJCA3eb+UHYobCHQ8/OB+vVR8NdfOCvHi1pVRLrspO/YQXf3CI53Vk0CJEACngT0CnSXh9f06dOVm/trr70GucdcrkSrV6+ecmXfvXu3utdckuuaNbliTa5aE1EuUdw9r1kTt/ZRo0Zh7ty56my6K5UrVw7yj50SBbrF1rDbIs3i7oevOs+d9j9WAJuWAHnHw1dfuEt2CfaGXYCcw4Cn5wCFe7jps3wSMJ2A3eb+UILwhCLQT548CfnHlWRBJbsg6enpqC1CWm9auRK4/PLgT8lF6V27Bs/HHCRAAiRAAmEnoFegS4Nk91xEtZwhlzvO5WiVRGuXJAHh5NiVnCF3JYnuPmzYMCXia9asCbl6TUS6K9WvXx+7du0q1ldf5+DDDiRIBRToFlvAbos0i7tvXXX+dtYTKgDVWgF7f3KmgI9PAhp2A+q2B5IqFxXvddoD6d8C2fvpNm/dSGNNJKCJgN3mfpdA1xOEJxSBLsF/npY7yr1SyAJ93jzg5puDM587F7jppuD5mIMESIAESCDsBEIR6GFvlI0roEC32Dh2W6RZ3H3rq3PtrHuLVvnvO74Gdq0GzpwpDOL2u9e95qUTgVM51rc55Bq9bp0uWwFoPwTo8nDh+XZ/LEKujw+SAAloJWC3ud8qF3fuoGsdIcxHAiRAAtFLgAJdn20p0PXxMpzbbos0wx2KpgJ8CVgJRLdsJHBsj3N7WioRqNUWOPBr0XP63gLeuT1ky0nA9gTsOPfrDcLjCTliQeLcZ9B3Iw4Fxe3OM+i2/1tgA0mABGKPAAW6PptToOvjZTi3HRdphjsV7QV4R5JPrHTOtfzIDuCbqcCJDOdSKJkANL6y0G2+XFUGqXOuJdlyGxOw49yvNwiP4JWIuJLuvPNONG3aFI888gji4+PVuXItyZRFmjuKO1DCU6QzirsWEzAPCZAACVhOwJS53/JWR65CCnSL2dtxkWYxguirTgT8+3cCGxdGT9+8g9S5PkoE+7crmJ3nefjEyoAsnI8fLHo2XqvLvdZ80UOfPYlCAnad+/UG4YlziWAPG0lEXQnWoyWZtUhbPmQhWk0bjGo4cK7aOnWAiRN5xZoWQzAPCZAACVhIwKy538ImR7QqCnSL8dt1kWYxhuisbuNiYMl9QF5WdPZPV6+8zsN7Piviv9oFxV3ufV015+uIgbjmXzKo8O54l+h3fRCQWALy3/x9SAgUDZ8fAnRZmJn1EeDcX8jLrEXaa68Bi+9Zio/xD6BePWDWLCAtjVer6RuWzE0CJEAClhAwa+63pLE2qIQC3WIjcJFmMXCrq/MXPd5xAeesBuejPl3MAnwQ8NUVbw+BjHRgw3wg59C53MG8CHx5C5SrVvjhgEH5bDCA7NUEzv3mCvTp04FVg+diLm4pvHbtyy/tZXC2hgRIgARIwE2AAl3fYKBA18fLcG4u0gwjdEYBmgPO6RSWzuh9jLXSy4b+PAQ8r8jzPuvvL85BoCMF4imQmwEUFACJqYwfYPNRx7nfXIE+ZQqw6b4pmIL7gL59gQULbD4C2DwSIAESiF0CFOj6bE+Bro+X4dxcpBlG6OwCvIW7p2v2HyuALV5XvTm7t2x9MAL+xHyw5wL9HmznX0scgaSqReMGeMYU8PQS8G5HKMcEQnnGCJ8IPcu531yBPnkycOCBZ/AMngTuugsQn3cmEiABEiABWxKgQNdnFgp0fbwM5+YizTDC6C7A107qjq+ATUuAvOPR3Xf2zsYEfHgJNP0H0LBL4Y0GIvplnHp/YPL8WOC9459UOfAzjboWvVFAj5D39yEse3/RQIVaiHv/TXrHMdDYLs795gp0iQV3ZthwDMcEYMQIYNw4LdZkHhIgARIggQgQoEDXB50CXR8vw7m5SDOMMDYLEBGw42tg12rgzJlCl2Z/Aic2CbHX0UogWFBB+UjgKf4lUODv3p4oGj4wuD40uP4tZaZ/B2z/EsjLLk5XS7s8yjxWkITynQYiMzMTKSkp0WqtoP0ya5H20ktApYcHYABmA2PHAiNHBq2bGUiABEiABCJDwKy5PzKtt75WCnSLmVOgWww8FqrztVu4egLw7TQg92gsEGAfScD2BI6dLED5sVkU6H/9hTp16iA9PR21a9cO2W7jxwNNR1yH6/BhoXu7uLkzkQAJkAAJ2JIABbo+s1Cg6+NlODcFumGELEArAX+uuXKeWAT82kl0m9fKkvlIwCABCvRCgGYt0mTTvNNjaUjDamD+fKBfP4MW4uMkQAIkQALhImDW3B+u9tmtXAp0iy1CgW4xcFbnn4C327xP12ACJAESMIMABbq5An3MGKDnEy3QApuAL74ArrjCDDOxDBIgARIggTAQoEDXB5UCXR8vw7kp0A0jZAHhJBDKdV+BgoQVaau/K+V41Vw4Tcqy7UGAAt1cgf7MM8CdT9ZADewDfvoJaN3aHoZmK0iABEiABIoRoEDXNygo0PXxMpybAt0wQhZgZwKe5+ETK/u+qkt26iUAlysattar5hIqAgWngZNZHgS8g39VAJr2KBpdXPMHBDuDZducToAC3VyBPvqpAjz6n7JIwElg506gXj2nDxG2nwRIgASilgAFuj7TUqDr42U4NwW6YYQsINoJBLrWSvq+ay3gui5L6/3cLmb+rrHzvh5MPi606gdUqFt4hZh3hG9fV4qBngDRPjSN9I8C3VyB/sxjORg1Nqmw0GPHgORkI+bhsyRAAiRAAmEkQIGuDy4Fuj5ehnNToBtGyAJIwHwCGu+yLlKxv7u2fXkIyEcF1xV5gc76JwTwAPB1DVhuBlBQADB+gPljwuQSKdDNFejjHtiNkZNrIz+uJErmnyr01mEiARIgARKwJQEKdH1moUDXx8twbgp0wwhZAAk4n0AgL4ESJUPrn5H4AZqPAWj1EtCaz7OroTwTGqpIPEWBbq5An3jHBjz45gXIKlsFyTkHImFS1kkCJEACJKCRAAW6RlBns1Gg6+NlODcFumGELIAESCCcBPTEEfB2//cVV0DiDUg++bdrxz8xFUiqXHh0QG8sAl1HCbxFv4GPAKUSgVptgQO/ArlHfVggcNkU6OYK9Ok3fYVB73TFgYpNUfXI5nD+RbBsEiABEiABgwQo0PUBpEDXx8twbgp0wwhZAAmQQCwQ8Odl4BlU0J/4L1cVSK4BeMco8PWs99EB1/93fVCQDwIN0oD6nQHxbtDTLo+yjxUkoXyngcjMzERKSkosWNBnH81apM3suRgDP+iNXTU7oN7udTHLkx0nARIgAScQMGvud0JfzWgjBboZFHWUQYGuAxazkgAJkECUEODcX2hIsxZp8658Ezd9fgc2N7oG529bGiWjhN0gARIggegkYNbcH510iveKAt1iS3ORZjFwVkcCJEACNiDAud9cgb6o80voveZhrG95Ky7aMMcGFmYTSIAESIAE/BGgQNc3NijQ9fEynJuLNMMIWQAJkAAJOI4A534TBXp+Pr5r3h+X/P42NjXtjeYb5wMlQwyu6LiRxAaTAAmQgPMIUKDrsxkFuj5ehnNzkWYYIQsgARIgAccR4NxvkkBfuBAYOlR85c+Ngdq1gUmTgD59HDcu2GASIAESiAUCFOj6rEyBro+X4dxcpBlGyAJIgARIwHEEOPebINBFnPfrBxQUFLW/6w70BQso0h33l8EGkwAJxAIBCnR9VqZA18fLcG4u0gwjZAEkQAIk4DgCnPu1C/SCggKcPn0a+fn55+ws/7tbN2DfPt+2F5FevTqwfDnd3Q3+dZQsWRKlSpVCnOvDh8Hy+DgJkAAJUKDrGwMU6Pp4Gc7NRZphhCyABEiABBxHgHO/NoGel5eHvXv3Iicnp6iNT5wA9u8Pbvdq1YCEhOD5mCMggcTERNSoUQPx8fEkRQIkQAKGCVCg60NIga6Pl+HcXKQZRsgCSIAESMBxBDj3BxfoZ86cwdatWyE7uFWqVFHi0L2Le/QosHt3cLvXqgVUrBg8H3P4JCDeC/KR5ODBg8qDoXHjxihRogRpkQAJkIAhAhTo+vBRoOvjZTg3F2mGEbIAEiABEnAcAc79wQX6iRMnsGPHDtSrVw+yg1skZWUBW7YEt3vTpkBycvB8zBGQgHgw7Nq1Cw0aNEACPRI4WkiABAwSoEDXB5ACXR8vw7m5SDOMkAWQAAmQgOMIcO7XLtB9ikIJDLdhA5CX59/24o7dqhXAs9OG/z5cH0so0A2jZAEkQAKQizf+Qp06dZCeno7acvMGU0ACFOgWDxAu0iwGzupIgARIwAYEOPcbFOjyuLi5b9/u35qNGtG93aSxToFuEkgWQwIkoAhQoOsbCBTo+ngZzs1FmmGELIAESIAEHEeAc78JAt0l0v/8Ezh16twYkJ3zOnUozk38q6BANxEmiyIBEqBA1zkGKNB1AjOanYs0owT5PAmQAAk4jwDnfpMEuhQjEd43bcJplEB2tcaoULtcUbd2uZLt66+BvXuBGjWAtLSwXr02YMAAzJ49u9iglIB35513Hjx/l+vLxM2zT58+ePrpp5GUlGTqYB49ejQWL16M9evXGyqXAt0QPj5MAiTgRYA76PqGBAW6Pl6Gc3ORZhghCyABEiABxxHg3G+iQD8bMO4EyiCrXitUqeIxHBYuBIYOFX/Kc/9RzjtOmgT06ROWcSMCfP/+/Zg5c2aR8iUSvUSk9/z91KlT+Prrr3HnnXeif//+mDZtmqY2SWR1LVeeUaBrwslMJEACFhOgQNcHnAJdHy/DublIM4yQBZAACZCA4whw7jdRoGdkANu24TiSkFu/GSpXPjscRJz36wdIQDnP5Aoat2BBWES6CPCMjAy1c+0r+fr9rrvuwkcffaTufPeV6tevr0T8tm3bsGjRIvTq1Uvt0o8cOVL9f1nsVq9eHbfccguefPJJlC5dGrNmzcLAgQOLFCcfDaT+zMxMPPLII6qNsjt+8cUXY8KECbjwwgt91s8ddMdNMWwwCdiaAAW6PvNQoOvjZTg3F2mGEbIAEiABEnAcAc79IQp0Edvi0u6ZDh8Gdu1CJpJxqm7jQoEubu3Nm/u/K11EutyRvnGjNnd3ueZNYzT4UAT6Aw88gLlz5+LQoUN+BfrRo0cxatQoJc4libv8s88+iyuuuAI1a9bEhg0bIEJ/+PDhGDFiBHJzc1X+ZcuWYfny5eqZ8uXLq2vS0tLSkJqaqsS8/LcZM2YoQf/777+r/+6dKNAdN8WwwSRgawIU6PrMQ4Guj5fh3FykGUbIAkiABEjAcQQ494co0I8fB8qVs97e2dmAxvPhItDfeuutIveFX3311Zg/f75qt7eA/+6773DNNdegW7duePfdd/0K9NatW6vd8kBp/PjxqowffvhBZfPl4v7ll1+id+/eOHDgAMqUKeMuTgS/CPu7776bAt36EcYaSSCmCFCg6zM3Bbo+XoZzc5FmGCELIAESIAHHEeDcH90Cfffu3UXOk0vwtxoSoO6sQHcJ+NOnT0POoffs2RPTp09H1apV/Qp02R1/4oknivy+YMECTJw4Ubm+Z2dnQ8pLSUlR4tufQBcR/+ijj6Js2bJFypId94cffhjjxo2jQHfcjMIGk4CzCFCg67MXBbo+XoZzc5FmGCELIAESIAHHEeDcH6JA9+XiLgHgDhzAPlRDfP1aUB7aq1YB11wTfFx8/DHQpUvwfCa7uLsEvJwVF/d0+XegJGfQH3zwQfWPK33zzTfo3Lmziv7evXt35ar+zjvv4KWXXlJn4P0JdBHgkydPxsqVK4tVWaFCBVR2H+I/9zNd3IMPEeYgARLQToACXTsryUmBro+X4dxcpBlGyAJIgARIwHEEOPeHKNB9WXrnTuDQIfyFWkhsWKNQoMsZ9Pr1C8+geweJU6udOECiue/Yoe0Muo4RFsoZ9GDF+xLoIsSnTp2K7du3ux+XQHKyq+4S6GPGjMG8efPU+XRX+vzzzyEu97LrLuVqSRToWigxDwmQgFYCFOhaSRXmo0DXx8twbi7SDCNkASRAAiTgOAKc+00U6Nu2ARkZ2IW6SGlUFRUrnh0Oriju8n89RboNo7gHG8C+BPqSJUvQr18/zJkzB+3atcPSpUvVbnp+fr5boEvgOTlTvnr1atSuXRvJycnqerYuXbogKytLubM3bdoUe/bswccff6wC0ElEd+9EgR7MQvydBEhADwEKdD20KND10TIhNxdpJkBkESRAAiTgMAKc+80T6AVbtiAuKwvb0RBla6ZCjnq7A677uge9Th1g4sSwXLEmvbJqB13qkqBub775Jk6ePIkePXqgQ4cOKjCcawdd/rtcvfbFF1+o/+a6Zk3EuZxnf//993Hw4EF1RZuI9ueffx51hI9XokB32ATD5pKAzQlQoOszEHfQ9fEynJuLNMMIWQAJkAAJOI4A535zBPrRo0CZPzYhsSAHv6MxjqE84uMB0ZjunXRxd//6a0DuGBf1npZmulu74wagzgZToOsExuwkQAIBCVCg6xsgFOj6eBnOzUWaYYQsgARIgAQcR4Bzv3GBLuJcjl+3wgaUwUn8hvNxHOeuYGvUyEOkO26E2KvBFOj2sgdbQwJOJ0CBrs+CFOj6eBnOzUWaYYQsgARIgAQcR4BzvzGBLkfKJe5ZXh5wEX5GKeTjV7TACZy7Okx20lu18nB3d9wosU+DKdDtYwu2hASigQAFuj4rUqDr42U4NxdphhGyABIgARJwHAHO/cYEelYWsGWLlFGAtvgRcQB+wYU4haLXlTVtCiQnO2542K7BFOi2MwkbRAKOJkCBrs98FOj6eBnOzUWaYYQsgARIgAQcR4BzvzGBfvjw2RvScBqtsV4V9iPaoAAlioyFBg2ASpUcNzxs12AKdNuZhA0iAUcToEDXZz4KdH28DOfmIs0wQhZAAiRAAo4jwLnfmEB37aDH4yQuwAacQRx+Qtti44A76Ob8aVCgm8ORpZAACQSf+8moOAEKdItHBRdpFgNndSRAAiRgAwKc+4Mv0lyiUO4AL1v23NlyedJ1Br1kXg5aYBPyUBr/hwuLWJZn0M0b6Lm5udi5cycaNGiAhIQE8wpmSSRAAjFJgDvo+sxOga6Pl+HcXKQZRsgCSIAESMBxBDj3Bxfo+fn5+P3331G1alVU8uGnLlHcD2zPQlNsQS4SsBEti4wDRnE378/i8OHDOHDgAJo0aYKSJUuaVzBLIgESiEkCFOj6zE6Bro+X4dxcpBlGyAJIgARIwHEEOPcHF+iSY+/evcjIyFAiPTExEXFxEg7uXDq+LxNJh9JxHGWxA43UD6VLA9WrA+XLO25Y2K7BBQUFyMnJUeK8QoUKqCH3yDORAAmQgEECFOj6AFKg6+NlODcXaYYRsgASIAEScBwBzv3aBLoIxH379imR7jNlZwOHDyMXZZGbLCIeKFOGV6uZ/Qch4rx69erFPpCYXQ/LIwESiA0CFOj67EyBro+X4dxcpBlGyAJIgARIwHEEOPdrE+guw4q7+6lTp4raOT8fGDMGePttrEN7VHj/TTRrQfdrs/8YSpcuTbd2s6GyPBKIcQIU6PoGAAW6Pl6Gc3ORZhghCyABEiABxxGw69w/depUjB8/XrmWt2jRAhMnTkRaWppfvl999RWGDx+OjRs3ombNmhgxYgQGDRqk2R6uRdoHt76ClOx8lKxaCfkHDvv896m9B9VueQGAKnm70eS3D1Hm+BF3XWdq1kaJyZOAPn0018+MJEACJEAC1hMIRaCH4/30/vvvY9SoUdi+fTsaNWqE5557Dr1797YeSJAaKdAtNoldF2kWY2B1JEACJBBTBOw497/77ru47bbbIIugTp06YcaMGXjjjTewadMm1K1bt5h9duzYgZYtW+Kuu+7CPffcgzVr1mDIkCGYN28e+vbtq8merkVaJoAUTU/4zyRXrckJ9bj3F1CkG2TJx0mABEggnAT0CvRwvJ/WrVunPkA/88wzSpQvWrQITz75JFavXo327duHs/u6y6ZA143M2AN2XKQZ6xGfJgESIAESCEbAjnO/LEjatGmDadOmuZvfrFkz9OrVC88//3yxLo0cORIffPABfvvtN/dvsnv+yy+/QBY+WpKZAl3qE5F+olJtJO7fATDauBYTMA8JkAAJWE5Ar0APx/vpn//8J+Rd/Mknn7j7f9VVV6FixYrqQ7OdEgW6xdaw4yLNYgSsjgRIgARijoDd5v68vDwVJX3+/PlF3PuGDh2K9evXQ1zZvVOXLl3QunVrTJo0yf2T7EDccMMNKvK3nF0OlswW6K768pevQMluXYNVz99JgARIgAQiQECPQA/X+0k8w4YNG6b+caUJEyaoo127du2KABX/VVKgW2yOzMxMdXVJeno6UlKMOvhZ3HhWRwIkQAIkEBIBEeh16tRR0cnL2+A+sD179qBWrVrKTf3SSy9192nMmDGYPXs2tmzZUqyfcif2gAED8Pjjj7t/W7t2rXKPl/J8Xcl18uRJyD+uJO8+cZNPN8HF3bOBvzzwKho80jMk2/AhEiABEiCB8BKQOCeXXHIJfv31V/UudKUyZcpA/vFM4Xo/xcfHY9asWbj55pvd1c2dOxcDBw4s8p4KLwltpVOga+NkWi7XFyTTCmRBJEACJEACjiEgArV27doRb69rASQCu2PHju72SMCcOXPmYPPmzT4FuixkHnvsMfdvIvA7d+6sgszJtVzeafTo0Xj66acj3l82gARIgARIwH4EnnrqKch7wpdAN/v9JAJdPkDfdNNN7urefvtt3HHHHThx4oSt4FCgW2yOM2fOqJ2J5s2bO3YX3bUT5FQvACe338ltlz81tt/iCcerOvKPHH+53zsrK0tFPi9RokTkGnK25nC5EHp3zHsH/fTp0/jhhx/QvXt3FYwuOTk54iz0NkDsKO9wtl8vOXPyO5m/k9su1mP7zRnDoZbiZP6if/788081d5YqVcqNwNcOerjeT3RxD3XkxchzdjuLqBc726+XmHn5yd48lqGURP6hUDPvGafzN4+EOSVJEJ62bduqKO6uJIunnj17+g0S9+GHHyph6kqDBw9WZ9a1BolzfagTN3858uXEo15OH4dsvzl/P6GUQvahUDPvGfI3j2W4SwrH+0mCxMlHjo8//tjd/KuvvlodPWaQuHBb1AHlc4KIrJGczN/JbefCPLLjnvwjz99uLXBdYzN9+nTl5v7aa6/h9ddfV3ec16tXT7my7969G//73/9U013XrMkVa3LVmohyieKu55o1jsPIjwK+RyJnA7KPHHvOPZFlr7f2cLyfxGVegp3KUS75EL1kyRL8+9//5jVreo0Trfk5QUfWsk7mrnOTYwAAEotJREFU7+S28+UY2XFP/pHnb8cWyO75Cy+8oM6QS/A2iWgrCxhJEhBu586dWLlypbvpEt1dIuCKiBd3fbl6TUS6nsR5TA8t8/OSv/lMtZZI9lpJhScf+YeHa7hKDcf7acGCBUqU//HHH2jUqJES63369AlXF0Iul2fQQ0YX+oNyJk/umJXdCe/IhaGXat2TbL91rL1rIvvIsZeayZ/8I0sgOmrn31Fk7Uj+keNP9pFjz3d4ZNmzdn0EKND18WJuEiABEiABEiABEiABEiABEiABEggLAQr0sGBloSRAAiRAAiRAAiRAAiRAAiRAAiSgjwAFuj5ezE0CJEACJEACJEACJEACJEACJEACYSFAgR4WrCyUBEiABEiABEiABEiABEiABEiABPQRoEDXx8twbolIOH78eBUxt0WLFpg4cSLS0tIMl2t2ARLEbuHChdi8eTPKli2LSy+9FOPGjUPTpk3dVUmE39mzZxepWu4t/Oabb8xuju7yRo8ejaeffrrIc9WqVcO+ffvUfysoKFC/y7VCR48ehbR7ypQpyiZ2SPXr18euXbuKNWXIkCGqnXZjv2rVKjWuf/zxRzW2Fy1ahF69ernbr4W3BM95+OGH1ZVNubm56Natm7qfuXbt2mE1SaC2nzp1SkX7lDszJeKn3N38t7/9DWPHjlURrF2pa9eukOjWnknu23znnXfC2nYpPBh7LWMlUuy1tD8uLs4nQ4k8/sgjj6jfIsk/7AaOsgr4DrTGoHwHWsPZVUuweZjvwPDZIxh7vgPDx54lh48ABXr42BYr2XWnnyxQOnXqhBkzZuCNN97Apk2bULduXQtbEryqq666CjfeeCPatWuH06dP44knnsCGDRtUW5OSklQBMunt378fM2fOdBcYHx+P1NTU4BWEOYcsTuQqheXLl7trKlmyJKpUqaL+v3xskKsVZs2ahSZNmuDZZ59VQmfLli1ITk4Oc+uCF3/w4EHk5+e7M/7666/4+9//jhUrVigxYjf2n3zyCdasWYM2bdqgb9++xQS6Ft6DBw/Ghx9+qGxSqVIlPPTQQzhy5IgS/WK7cKVAbc/MzES/fv3Unc8XXnih+pjz4IMPqr+JH374wd0ksYmMo//85z/u/yYftkTQhzsFY69lrESKvbAJ1n7XRzUXR8l/xx13YNu2bWjYsKH6z5HkH277RlP5fAdaZ02+A61jrWUe4zswfPYI9g7hOzB87Fly+AhQoIePbbGSZZdWBMy0adPcvzVr1kztNMqOtZ2TCMaqVauqXULPO3IzMjKwePFi2zVdFifSrvXr1xdrm3zJlt1PEVpyh68k2UGUHXZ5id5zzz2264+09aOPPsLWrVshO4rywrEre2mf5w66Ft4ihOXjyZw5cyA7z5L27NmDOnXqqN3r7t27W2IT77b7qvT777/HJZdcojwcXB/WRCBedNFFyiMmkslX+4ONFbuwF25a+Mt8mZWVhS+++MKN2i78I2l7J9TNd6B1VuI70DrW3jXxHWgf9tISvgMjZw/WHDoBCvTQ2el6Mi8vD4mJiZg/fz569+7tfnbo0KFKRHq7x+oq3ILMslvVuHFjtYvesmVLVaNMeiKCZde8QoUKuOyyy9SutAj5SCdZnIjLtexgyl3zsjAcM2aM2nETV+VGjRrhp59+QuvWrd1N7dmzp+qHt9t+pPsiY0c+KAwfPhyPP/647dl7L0608P7yyy+VS7vsmFesWNGNXHatRZB5H1cIl020CETxyrjyyivVB5KUlBTVFBGIGzduVEcn5EPP1Vdfjaeeespybwx/Aj3Q36ld2GsR6OKxI0ce5G/05ptvLiLQ7cA/XOMyGsrlO9BaK/IdaC1vz9r4DuQ7MNTRF2wNwndgqGSd9xwFukU2k93AWrVqKTdgOc/tSiIaZbEprtV2TSI6RLyKe+/XX3/tbqa4K5YrVw716tXDjh07MGrUKOX6Ky7JIoojmcTlKScnR7kdy4QmLuxynl4W8cJajhjs3r27yDniu+++W+2Kfvrpp5FserG633vvPSVG/vzzT3d77cze+wWzdu3aoLznzp2LgQMHKk8GzyRCuEGDBuo4iBUp2MvxxIkT6Ny5M84//3y89dZb7ia9/vrrqp3Vq1eHHEd47LHHcN555+Hzzz+3otnuOny1P9hYsQt7LQJdzp3L+X+ZTxMSEmzH31JjO6wyvgOtNRjfgdbyDiTQ+Q60zhZ8B0Z2DWKdpaO/Jgp0i2zsWpzIRN2xY0d3rbLjLG69Ih7tmu69914sXboUq1evDhiwS4KDiViXwFh9+vSxVXeOHz+uds1HjBiBDh06KMEoNqlRo4a7nXLOOD09HcuWLbNV28W9W7wU5Hy2v2Qn9v4EeiDe/kSinLsXu02fPt0SmwQS6BIw7vrrr1cfSlauXOnePffVMPlIdfHFF6uPVXKsxaoU7AODtMN7rNiFvRaBLh9GZExMnjw5INJI8bfKzk6sh+/AyFqN70Dr+PMdCPXu4ztQ/5gL9g7nO1A/U6c+QYFukeWc6t53//33Kzd2CaAmO4TBkrjB33nnne6z3cHyW/m7LOxlV1MiPzvFxV129MUtXyLqixdDoGQX9tHo3ifi/IYbblDHI8QlXILYBUridSJeJJ5n6q0Y68Fe7q42eI4Vp7i4i/eOxL+QI0Fy9MGO/K2wsVPr4Dsw8pbjO9AaG/AdWHhTDt+B+sdboHc434H6eTr5CQp0C60n56Dbtm2rro5ypebNmyvhZbcgcTK5ijiXYF+yWygL+mDp8OHDyo1fri67/fbbg2W39HdxnRZRLm7s4oovZ7qHDRumdtQlyeJRzs7bLUicnCMU927Z2S9VqpRfZnZi7y9ATiDerkBl4jYuQliS7PTKeeNIB4lziXMJ0CdR9F03AQQawOLm3qpVqyJBFa0Y8FoEuvdYsQt74ROo/RLzQrh6Rs/3xzRS/K2wsZPr4DswctbjO9A69nwHQs3VfAfqH3N8B+pnFq1PUKBbaFnXFTPiritu7iJk5eyqnIsW13A7JblvW1xflyxZUuTucwm6JtdHZWdnQ8SjXKklbuI7d+5UAczE/fe3336zPDiWNzu5T/vaa69VUbYPHDigzqBLID4JciesRYjLRxG5Ik4+PkgsAPkQYZdr1qQ/Z86cUV4LN910kzp360p2ZC9tkkCCkiTw3ssvv4zLL79cXbknNtDCW676kkj1cs2aPCc2FDEZ7mvWArVdPuTIGJeAgtI2CQDnStJGOXqwfft2vP3227jmmmtQuXJldRWhXBEnfycS8T2cV8RJWwK1X9qo5e80UuyDtd8VJf/YsWNqnnnppZcwaNCgIn/ukeZvp3nb7m3hO9A6C/EdaB1rLfMY34HhswffgZFdg4TPsrFdMgW6xfaX3XMJdCS7gxINfcKECe5ryyxuSsDq5CuerySCVnaycnNzVXTtn3/+WUWzlsWzCLJnnnlGXY0V6SR3uItb/qFDh9SOp5w7l7aJx4Ik8RCQyOCyOy3B72RnZ8qUKe4I9ZFuv9T/2WefqevF5KOBBLtzJTuyl48bYn/v1L9/fyW4tfCWAGxy/EA+DEkfJaq7/L2EezwFaruIW39HO1x30ot3w6233qp2DGShIO3t0aOHiuIuAjncKVD75UpHLX+nkWIvbIKNHckjHzPlqkGZN73vlo80/3DbN9rK5zvQGovyHWgNZ1ctweYxvgPDZw++AyO7BgmfZWO7ZAr02LY/e08CJEACJEACJEACJEACJEACJGATAhToNjEEm0ECJEACJEACJEACJEACJEACJBDbBCjQY9v+7D0JkAAJkAAJkAAJkAAJkAAJkIBNCFCg28QQbAYJkAAJkAAJkAAJkAAJkAAJkEBsE6BAj237s/ckQAIkQAIkQAIkQAIkQAIkQAI2IUCBbhNDsBkkQAIkQAIkQAIkQAIkQAIkQAKxTYACPbbtz96TAAmQAAmQAAmQAAmQAAmQAAnYhAAFuk0MwWaQAAmQAAmQAAmQAAmQAAmQAAnENgEK9Ni2P3tPAiRAAiRAAiRAAiRAAiRAAiRgEwIU6DYxBJtBAiRwjkBcXBwWLVqEXr16EQsJkAAJkAAJxBQBvgNjytzsLAkUI0CBzkFBAiRQhMCAAQMwe/bsYlS6d++OZcuWWUKLixNLMLMSEiABEiABLwJ8B3JIkAAJRJoABXqkLcD6ScBmBGRxsn//fsycObNIy8qUKYOKFSta0loKdEswsxISIAESIAEfAp3vQA4LEiCBSBKgQI8kfdZNAjYkIAI9IyMDixcv9tk6Ec9Tp07FBx98gJUrV6J69ep44YUXcP3117vzb9iwAUOHDsW6deuQmJiIvn374uWXX0a5cuXced5880289NJL2LZtG1JTU1WeV199Vf0udbz++utYunQpPv30U9SqVUvlve6669TvR48exX333YfPPvsM2dnZqF27Nh5//HEMHDjQhkTZJBIgARIgAacQ4DvQKZZiO0kgeglQoEevbdkzEgiJgJbFSaVKlTB27Fh06dIFc+bMwfPPPw8R5c2aNUNOTg4aN26MDh064Omnn8aBAwdw5513qryzZs1SbZo2bRqGDx+uyrj66quRmZmJNWvW4MEHH3QLdBHdIvzbtWuHyZMnQwT9rl27lJgXcS75RcRXrlxZifzc3Fxce+21IfWZD5EACZAACZCAEOA7kOOABEgg0gQo0CNtAdZPAjYjIIuTt956CwkJCUVaNnLkSIwaNUrtbg8aNEiJbFcSMd6mTRu1sy6iWfKmp6cjKSlJZfn444+VeN6zZw+qVaumdsRlt/vZZ5/12Xup49///jeeeeYZ9fvx48eRnJysyrnqqqvUTroIcxHtTCRAAiRAAiRgFgG+A80iyXJIgARCJUCBHio5PkcCUUpAFie7d+8uIsClq7JzLf+IeJYgcrfffrubwLBhw7B+/XqsWLFC7Yz//PPP6n+7kuyQV6hQAV999RXOP/98JdK//PJLXH755X4F+nvvvVfEbb58+fJqJ13q/eSTT5RLfJMmTXDllVeqaO+XXnpplFqE3SIBEiABErCKAN+BVpFmPSRAAv4IUKBzbJAACRQhoMW9z5dA/+WXX5ToFrHu+t/eAn3VqlW46KKLkJKSElSge1+zJgJ/4sSJyv1Q0sGDB9UZ9eXLl+P999/HvffeixdffJHWJAESIAESIIGQCfAdGDI6PkgCJGASAQp0k0CyGBKIFgJaFieDBw9W7uyu1LFjR7Ru3Vqzi3uDBg1wyy23BHRxDybQPXnPmDEDjzzyCI4dOxYtZmA/SIAESIAEIkCA78AIQGeVJEACRQhQoHNAkAAJFCHg75q1UqVKqXPf4uIu/x43bhw6d+6Mt99+WwltCRLXvHlzFSTuvPPOUy7no0ePVjvdEiQuLS3NHSROduDlHLuUIUHisrKyVNC3+++/X7XF1zVrnjvoTz75JNq2bYsWLVrg5MmTePTRR1Uwum+//ZbWJAESIAESIIGQCfAdGDI6PkgCJGASAQp0k0CyGBKIFgKyOBEB7Z2aNm2KzZs3K/E8ZcoUdQ2buKzLNWsSjf3GG290P6LlmjXZ9Z4wYQL++OMPJfj79euHV155RZNAlw8Cc+fOxc6dO1G2bFkl/qUs2ZlnIgESIAESIIFQCfAdGCo5PkcCJGAWAQp0s0iyHBKIEQK+drdjpOvsJgmQAAmQQIwT4DswxgcAu08CFhCgQLcAMqsggWgiwMVJNFmTfSEBEiABEtBDgO9APbSYlwRIIBQCFOihUOMzJBDDBLg4iWHjs+skQAIkEOME+A6M8QHA7pOABQQo0C2AzCpIgARIgARIgARIgARIgARIgARIIBgBCvRghPg7CZAACZAACZAACZAACZAACZAACVhAgALdAsisggRIgARIgARIgARIgARIgARIgASCEaBAD0aIv5MACZAACZAACZAACZAACZAACZCABQQo0C2AzCpIgARIgARIgARIgARIgARIgARIIBgBCvRghPg7CZAACZAACZAACZAACZAACZAACVhAgALdAsisggRIgARIgARIgARIgARIgARIgASCEaBAD0aIv5MACZAACZAACZAACZAACZAACZCABQQo0C2AzCpIgARIgARIgARIgARIgARIgARIIBgBCvRghPg7CZAACZAACZAACZAACZAACZAACVhAgALdAsisggRIgARIgARIgARIgARIgARIgASCEaBAD0aIv5MACZAACZAACZAACZAACZAACZCABQQo0C2AzCpIgARIgARIgARIgARIgARIgARIIBgBCvRghPg7CZAACZAACZAACZAACZAACZAACVhAgALdAsisggRIgARIgARIgARIgARIgARIgASCEfh/SfVIHOmCAukAAAAASUVORK5CYII=\" width=\"1000\">"
      ],
      "text/plain": [
       "<IPython.core.display.HTML object>"
      ]
     },
     "metadata": {},
     "output_type": "display_data"
    },
    {
     "name": "stdout",
     "output_type": "stream",
     "text": [
      "for model:  SimpleCNN5Layer_Ca(\n",
      "  (conv1): Conv1d(1, 20, kernel_size=(25,), stride=(1,), padding=(12,))\n",
      "  (conv2): Conv1d(20, 10, kernel_size=(15,), stride=(1,), padding=(7,))\n",
      "  (conv3): Conv1d(10, 10, kernel_size=(15,), stride=(1,), padding=(7,))\n",
      "  (conv4): Conv1d(10, 10, kernel_size=(15,), stride=(1,), padding=(7,))\n",
      "  (conv5): Conv1d(10, 1, kernel_size=(5,), stride=(1,), padding=(2,))\n",
      "  (conv1dropout): Dropout(p=0.15, inplace=False)\n",
      "  (conv2dropout): Dropout(p=0.15, inplace=False)\n",
      "  (conv3dropout): Dropout(p=0.15, inplace=False)\n",
      "  (conv4dropout): Dropout(p=0.15, inplace=False)\n",
      "  (conv5dropout): Dropout(p=0.35, inplace=False)\n",
      "  (fc1): Linear(in_features=4000, out_features=4000, bias=True)\n",
      ")\n",
      "epoch_start 0\n",
      "batch_size 128\n",
      "epochs 200\n",
      "lr 9e-05\n",
      "Number of batches: train = 1250, val = 78\n"
     ]
    },
    {
     "name": "stderr",
     "output_type": "stream",
     "text": [
      "/home/michael24peters/pv-finder/notebooks/model/training.py:95: TqdmDeprecationWarning: This function will be removed in tqdm==5.0.0\n",
      "Please use `tqdm.notebook.tqdm` instead of `tqdm.tqdm_notebook`\n",
      "  file=sys.stderr,\n"
     ]
    },
    {
     "data": {
      "application/vnd.jupyter.widget-view+json": {
       "model_id": "4572813d56fa40a19029b0daf8593041",
       "version_major": 2,
       "version_minor": 0
      },
      "text/plain": [
       "HBox(children=(FloatProgress(value=0.0, description='Epochs', layout=Layout(flex='2'), max=200.0, style=Progre…"
      ]
     },
     "metadata": {},
     "output_type": "display_data"
    },
    {
     "data": {
      "application/vnd.jupyter.widget-view+json": {
       "model_id": "",
       "version_major": 2,
       "version_minor": 0
      },
      "text/plain": [
       "HBox(children=(FloatProgress(value=0.0, description='Training', layout=Layout(flex='2'), max=1250.0, style=Pro…"
      ]
     },
     "metadata": {},
     "output_type": "display_data"
    },
    {
     "name": "stdout",
     "output_type": "stream",
     "text": [
      "Epoch 0: train=207.022, val=42.7002, took 23.763 s\n",
      "  Validation Found 0 of 54504, added 0 (eff 0.00%) (0.0 FP/event)\n"
     ]
    },
    {
     "data": {
      "application/vnd.jupyter.widget-view+json": {
       "model_id": "",
       "version_major": 2,
       "version_minor": 0
      },
      "text/plain": [
       "HBox(children=(FloatProgress(value=0.0, description='Training', layout=Layout(flex='2'), max=1250.0, style=Pro…"
      ]
     },
     "metadata": {},
     "output_type": "display_data"
    },
    {
     "name": "stdout",
     "output_type": "stream",
     "text": [
      "Epoch 1: train=42.6523, val=42.6983, took 23.559 s\n",
      "  Validation Found 0 of 54504, added 0 (eff 0.00%) (0.0 FP/event)\n"
     ]
    },
    {
     "data": {
      "application/vnd.jupyter.widget-view+json": {
       "model_id": "",
       "version_major": 2,
       "version_minor": 0
      },
      "text/plain": [
       "HBox(children=(FloatProgress(value=0.0, description='Training', layout=Layout(flex='2'), max=1250.0, style=Pro…"
      ]
     },
     "metadata": {},
     "output_type": "display_data"
    },
    {
     "name": "stdout",
     "output_type": "stream",
     "text": [
      "Epoch 2: train=42.6488, val=42.6923, took 23.057 s\n",
      "  Validation Found 0 of 54504, added 0 (eff 0.00%) (0.0 FP/event)\n"
     ]
    },
    {
     "data": {
      "application/vnd.jupyter.widget-view+json": {
       "model_id": "",
       "version_major": 2,
       "version_minor": 0
      },
      "text/plain": [
       "HBox(children=(FloatProgress(value=0.0, description='Training', layout=Layout(flex='2'), max=1250.0, style=Pro…"
      ]
     },
     "metadata": {},
     "output_type": "display_data"
    },
    {
     "name": "stdout",
     "output_type": "stream",
     "text": [
      "Epoch 3: train=42.6418, val=42.6824, took 23.112 s\n",
      "  Validation Found 0 of 54504, added 0 (eff 0.00%) (0.0 FP/event)\n"
     ]
    },
    {
     "data": {
      "application/vnd.jupyter.widget-view+json": {
       "model_id": "",
       "version_major": 2,
       "version_minor": 0
      },
      "text/plain": [
       "HBox(children=(FloatProgress(value=0.0, description='Training', layout=Layout(flex='2'), max=1250.0, style=Pro…"
      ]
     },
     "metadata": {},
     "output_type": "display_data"
    },
    {
     "name": "stdout",
     "output_type": "stream",
     "text": [
      "Epoch 4: train=42.6262, val=42.6533, took 23.122 s\n",
      "  Validation Found 0 of 54504, added 0 (eff 0.00%) (0.0 FP/event)\n"
     ]
    },
    {
     "data": {
      "application/vnd.jupyter.widget-view+json": {
       "model_id": "",
       "version_major": 2,
       "version_minor": 0
      },
      "text/plain": [
       "HBox(children=(FloatProgress(value=0.0, description='Training', layout=Layout(flex='2'), max=1250.0, style=Pro…"
      ]
     },
     "metadata": {},
     "output_type": "display_data"
    },
    {
     "name": "stdout",
     "output_type": "stream",
     "text": [
      "Epoch 5: train=42.5819, val=42.5937, took 23.291 s\n",
      "  Validation Found 0 of 54504, added 0 (eff 0.00%) (0.0 FP/event)\n"
     ]
    },
    {
     "data": {
      "application/vnd.jupyter.widget-view+json": {
       "model_id": "",
       "version_major": 2,
       "version_minor": 0
      },
      "text/plain": [
       "HBox(children=(FloatProgress(value=0.0, description='Training', layout=Layout(flex='2'), max=1250.0, style=Pro…"
      ]
     },
     "metadata": {},
     "output_type": "display_data"
    },
    {
     "name": "stdout",
     "output_type": "stream",
     "text": [
      "Epoch 6: train=42.5195, val=42.5083, took 23.061 s\n",
      "  Validation Found 0 of 54504, added 0 (eff 0.00%) (0.0 FP/event)\n"
     ]
    },
    {
     "data": {
      "application/vnd.jupyter.widget-view+json": {
       "model_id": "",
       "version_major": 2,
       "version_minor": 0
      },
      "text/plain": [
       "HBox(children=(FloatProgress(value=0.0, description='Training', layout=Layout(flex='2'), max=1250.0, style=Pro…"
      ]
     },
     "metadata": {},
     "output_type": "display_data"
    },
    {
     "name": "stdout",
     "output_type": "stream",
     "text": [
      "Epoch 7: train=42.4088, val=42.3772, took 23.451 s\n",
      "  Validation Found 1 of 54504, added 0 (eff 0.00%) (0.0 FP/event)\n"
     ]
    },
    {
     "data": {
      "application/vnd.jupyter.widget-view+json": {
       "model_id": "",
       "version_major": 2,
       "version_minor": 0
      },
      "text/plain": [
       "HBox(children=(FloatProgress(value=0.0, description='Training', layout=Layout(flex='2'), max=1250.0, style=Pro…"
      ]
     },
     "metadata": {},
     "output_type": "display_data"
    },
    {
     "name": "stdout",
     "output_type": "stream",
     "text": [
      "Epoch 8: train=42.2858, val=42.2309, took 23.415 s\n",
      "  Validation Found 5 of 54504, added 2 (eff 0.01%) (0.0002 FP/event)\n"
     ]
    },
    {
     "data": {
      "application/vnd.jupyter.widget-view+json": {
       "model_id": "",
       "version_major": 2,
       "version_minor": 0
      },
      "text/plain": [
       "HBox(children=(FloatProgress(value=0.0, description='Training', layout=Layout(flex='2'), max=1250.0, style=Pro…"
      ]
     },
     "metadata": {},
     "output_type": "display_data"
    },
    {
     "name": "stdout",
     "output_type": "stream",
     "text": [
      "Epoch 9: train=41.9575, val=40.7315, took 23.457 s\n",
      "  Validation Found 1130 of 54504, added 97 (eff 2.07%) (0.00971 FP/event)\n"
     ]
    },
    {
     "data": {
      "application/vnd.jupyter.widget-view+json": {
       "model_id": "",
       "version_major": 2,
       "version_minor": 0
      },
      "text/plain": [
       "HBox(children=(FloatProgress(value=0.0, description='Training', layout=Layout(flex='2'), max=1250.0, style=Pro…"
      ]
     },
     "metadata": {},
     "output_type": "display_data"
    },
    {
     "name": "stdout",
     "output_type": "stream",
     "text": [
      "Epoch 10: train=35.059, val=29.2975, took 23.35 s\n",
      "  Validation Found 18644 of 54504, added 184 (eff 34.21%) (0.0184 FP/event)\n"
     ]
    },
    {
     "data": {
      "application/vnd.jupyter.widget-view+json": {
       "model_id": "",
       "version_major": 2,
       "version_minor": 0
      },
      "text/plain": [
       "HBox(children=(FloatProgress(value=0.0, description='Training', layout=Layout(flex='2'), max=1250.0, style=Pro…"
      ]
     },
     "metadata": {},
     "output_type": "display_data"
    },
    {
     "name": "stdout",
     "output_type": "stream",
     "text": [
      "Epoch 11: train=29.608, val=26.2109, took 23.694 s\n",
      "  Validation Found 24793 of 54504, added 332 (eff 45.49%) (0.0332 FP/event)\n"
     ]
    },
    {
     "data": {
      "application/vnd.jupyter.widget-view+json": {
       "model_id": "",
       "version_major": 2,
       "version_minor": 0
      },
      "text/plain": [
       "HBox(children=(FloatProgress(value=0.0, description='Training', layout=Layout(flex='2'), max=1250.0, style=Pro…"
      ]
     },
     "metadata": {},
     "output_type": "display_data"
    },
    {
     "name": "stdout",
     "output_type": "stream",
     "text": [
      "Epoch 12: train=27.3237, val=25.0461, took 23.332 s\n",
      "  Validation Found 26161 of 54504, added 335 (eff 48.00%) (0.0336 FP/event)\n"
     ]
    },
    {
     "data": {
      "application/vnd.jupyter.widget-view+json": {
       "model_id": "",
       "version_major": 2,
       "version_minor": 0
      },
      "text/plain": [
       "HBox(children=(FloatProgress(value=0.0, description='Training', layout=Layout(flex='2'), max=1250.0, style=Pro…"
      ]
     },
     "metadata": {},
     "output_type": "display_data"
    },
    {
     "name": "stdout",
     "output_type": "stream",
     "text": [
      "Epoch 13: train=26.1017, val=23.9085, took 22.929 s\n",
      "  Validation Found 28762 of 54504, added 452 (eff 52.77%) (0.0453 FP/event)\n"
     ]
    },
    {
     "data": {
      "application/vnd.jupyter.widget-view+json": {
       "model_id": "",
       "version_major": 2,
       "version_minor": 0
      },
      "text/plain": [
       "HBox(children=(FloatProgress(value=0.0, description='Training', layout=Layout(flex='2'), max=1250.0, style=Pro…"
      ]
     },
     "metadata": {},
     "output_type": "display_data"
    },
    {
     "name": "stdout",
     "output_type": "stream",
     "text": [
      "Epoch 14: train=25.2466, val=23.2463, took 23.416 s\n",
      "  Validation Found 30141 of 54504, added 484 (eff 55.30%) (0.0485 FP/event)\n"
     ]
    },
    {
     "data": {
      "application/vnd.jupyter.widget-view+json": {
       "model_id": "",
       "version_major": 2,
       "version_minor": 0
      },
      "text/plain": [
       "HBox(children=(FloatProgress(value=0.0, description='Training', layout=Layout(flex='2'), max=1250.0, style=Pro…"
      ]
     },
     "metadata": {},
     "output_type": "display_data"
    },
    {
     "name": "stdout",
     "output_type": "stream",
     "text": [
      "Epoch 15: train=24.691, val=22.763, took 23.128 s\n",
      "  Validation Found 30873 of 54504, added 513 (eff 56.64%) (0.0514 FP/event)\n"
     ]
    },
    {
     "data": {
      "application/vnd.jupyter.widget-view+json": {
       "model_id": "",
       "version_major": 2,
       "version_minor": 0
      },
      "text/plain": [
       "HBox(children=(FloatProgress(value=0.0, description='Training', layout=Layout(flex='2'), max=1250.0, style=Pro…"
      ]
     },
     "metadata": {},
     "output_type": "display_data"
    },
    {
     "name": "stdout",
     "output_type": "stream",
     "text": [
      "Epoch 16: train=24.2522, val=22.3543, took 23.012 s\n",
      "  Validation Found 31711 of 54504, added 529 (eff 58.18%) (0.053 FP/event)\n"
     ]
    },
    {
     "data": {
      "application/vnd.jupyter.widget-view+json": {
       "model_id": "",
       "version_major": 2,
       "version_minor": 0
      },
      "text/plain": [
       "HBox(children=(FloatProgress(value=0.0, description='Training', layout=Layout(flex='2'), max=1250.0, style=Pro…"
      ]
     },
     "metadata": {},
     "output_type": "display_data"
    },
    {
     "name": "stdout",
     "output_type": "stream",
     "text": [
      "Epoch 17: train=23.8727, val=22.2051, took 23.036 s\n",
      "  Validation Found 32987 of 54504, added 673 (eff 60.52%) (0.0674 FP/event)\n"
     ]
    },
    {
     "data": {
      "application/vnd.jupyter.widget-view+json": {
       "model_id": "",
       "version_major": 2,
       "version_minor": 0
      },
      "text/plain": [
       "HBox(children=(FloatProgress(value=0.0, description='Training', layout=Layout(flex='2'), max=1250.0, style=Pro…"
      ]
     },
     "metadata": {},
     "output_type": "display_data"
    },
    {
     "name": "stdout",
     "output_type": "stream",
     "text": [
      "Epoch 18: train=23.5656, val=21.9024, took 23.675 s\n",
      "  Validation Found 33202 of 54504, added 706 (eff 60.92%) (0.0707 FP/event)\n"
     ]
    },
    {
     "data": {
      "application/vnd.jupyter.widget-view+json": {
       "model_id": "",
       "version_major": 2,
       "version_minor": 0
      },
      "text/plain": [
       "HBox(children=(FloatProgress(value=0.0, description='Training', layout=Layout(flex='2'), max=1250.0, style=Pro…"
      ]
     },
     "metadata": {},
     "output_type": "display_data"
    },
    {
     "name": "stdout",
     "output_type": "stream",
     "text": [
      "Epoch 19: train=23.3165, val=21.6433, took 23.275 s\n",
      "  Validation Found 33277 of 54504, added 675 (eff 61.05%) (0.0676 FP/event)\n"
     ]
    },
    {
     "data": {
      "application/vnd.jupyter.widget-view+json": {
       "model_id": "",
       "version_major": 2,
       "version_minor": 0
      },
      "text/plain": [
       "HBox(children=(FloatProgress(value=0.0, description='Training', layout=Layout(flex='2'), max=1250.0, style=Pro…"
      ]
     },
     "metadata": {},
     "output_type": "display_data"
    },
    {
     "name": "stdout",
     "output_type": "stream",
     "text": [
      "Epoch 20: train=23.1079, val=21.4168, took 23.019 s\n",
      "  Validation Found 33439 of 54504, added 675 (eff 61.35%) (0.0676 FP/event)\n"
     ]
    },
    {
     "data": {
      "application/vnd.jupyter.widget-view+json": {
       "model_id": "",
       "version_major": 2,
       "version_minor": 0
      },
      "text/plain": [
       "HBox(children=(FloatProgress(value=0.0, description='Training', layout=Layout(flex='2'), max=1250.0, style=Pro…"
      ]
     },
     "metadata": {},
     "output_type": "display_data"
    },
    {
     "name": "stdout",
     "output_type": "stream",
     "text": [
      "Epoch 21: train=22.9364, val=21.316, took 23.206 s\n",
      "  Validation Found 33663 of 54504, added 754 (eff 61.76%) (0.0755 FP/event)\n"
     ]
    },
    {
     "data": {
      "application/vnd.jupyter.widget-view+json": {
       "model_id": "",
       "version_major": 2,
       "version_minor": 0
      },
      "text/plain": [
       "HBox(children=(FloatProgress(value=0.0, description='Training', layout=Layout(flex='2'), max=1250.0, style=Pro…"
      ]
     },
     "metadata": {},
     "output_type": "display_data"
    },
    {
     "name": "stdout",
     "output_type": "stream",
     "text": [
      "Epoch 22: train=22.7849, val=21.334, took 23.279 s\n",
      "  Validation Found 33851 of 54504, added 784 (eff 62.11%) (0.0785 FP/event)\n"
     ]
    },
    {
     "data": {
      "application/vnd.jupyter.widget-view+json": {
       "model_id": "",
       "version_major": 2,
       "version_minor": 0
      },
      "text/plain": [
       "HBox(children=(FloatProgress(value=0.0, description='Training', layout=Layout(flex='2'), max=1250.0, style=Pro…"
      ]
     },
     "metadata": {},
     "output_type": "display_data"
    },
    {
     "name": "stdout",
     "output_type": "stream",
     "text": [
      "Epoch 23: train=22.6377, val=21.3437, took 23.431 s\n",
      "  Validation Found 34027 of 54504, added 817 (eff 62.43%) (0.0818 FP/event)\n"
     ]
    },
    {
     "data": {
      "application/vnd.jupyter.widget-view+json": {
       "model_id": "",
       "version_major": 2,
       "version_minor": 0
      },
      "text/plain": [
       "HBox(children=(FloatProgress(value=0.0, description='Training', layout=Layout(flex='2'), max=1250.0, style=Pro…"
      ]
     },
     "metadata": {},
     "output_type": "display_data"
    },
    {
     "name": "stdout",
     "output_type": "stream",
     "text": [
      "Epoch 24: train=22.5175, val=21.225, took 23.329 s\n",
      "  Validation Found 34160 of 54504, added 788 (eff 62.67%) (0.0789 FP/event)\n"
     ]
    },
    {
     "data": {
      "application/vnd.jupyter.widget-view+json": {
       "model_id": "",
       "version_major": 2,
       "version_minor": 0
      },
      "text/plain": [
       "HBox(children=(FloatProgress(value=0.0, description='Training', layout=Layout(flex='2'), max=1250.0, style=Pro…"
      ]
     },
     "metadata": {},
     "output_type": "display_data"
    },
    {
     "name": "stdout",
     "output_type": "stream",
     "text": [
      "Epoch 25: train=22.3862, val=20.9234, took 23.37 s\n",
      "  Validation Found 34208 of 54504, added 818 (eff 62.76%) (0.0819 FP/event)\n"
     ]
    },
    {
     "data": {
      "application/vnd.jupyter.widget-view+json": {
       "model_id": "",
       "version_major": 2,
       "version_minor": 0
      },
      "text/plain": [
       "HBox(children=(FloatProgress(value=0.0, description='Training', layout=Layout(flex='2'), max=1250.0, style=Pro…"
      ]
     },
     "metadata": {},
     "output_type": "display_data"
    },
    {
     "name": "stdout",
     "output_type": "stream",
     "text": [
      "Epoch 26: train=22.2374, val=20.8035, took 23.271 s\n",
      "  Validation Found 34437 of 54504, added 936 (eff 63.18%) (0.0937 FP/event)\n"
     ]
    },
    {
     "data": {
      "application/vnd.jupyter.widget-view+json": {
       "model_id": "",
       "version_major": 2,
       "version_minor": 0
      },
      "text/plain": [
       "HBox(children=(FloatProgress(value=0.0, description='Training', layout=Layout(flex='2'), max=1250.0, style=Pro…"
      ]
     },
     "metadata": {},
     "output_type": "display_data"
    },
    {
     "name": "stdout",
     "output_type": "stream",
     "text": [
      "Epoch 27: train=22.112, val=20.5563, took 22.978 s\n",
      "  Validation Found 34286 of 54504, added 806 (eff 62.91%) (0.0807 FP/event)\n"
     ]
    },
    {
     "data": {
      "application/vnd.jupyter.widget-view+json": {
       "model_id": "",
       "version_major": 2,
       "version_minor": 0
      },
      "text/plain": [
       "HBox(children=(FloatProgress(value=0.0, description='Training', layout=Layout(flex='2'), max=1250.0, style=Pro…"
      ]
     },
     "metadata": {},
     "output_type": "display_data"
    },
    {
     "name": "stdout",
     "output_type": "stream",
     "text": [
      "Epoch 28: train=21.9903, val=20.4578, took 23.27 s\n",
      "  Validation Found 34415 of 54504, added 800 (eff 63.14%) (0.0801 FP/event)\n"
     ]
    },
    {
     "data": {
      "application/vnd.jupyter.widget-view+json": {
       "model_id": "",
       "version_major": 2,
       "version_minor": 0
      },
      "text/plain": [
       "HBox(children=(FloatProgress(value=0.0, description='Training', layout=Layout(flex='2'), max=1250.0, style=Pro…"
      ]
     },
     "metadata": {},
     "output_type": "display_data"
    },
    {
     "name": "stdout",
     "output_type": "stream",
     "text": [
      "Epoch 29: train=21.8592, val=20.2861, took 23.154 s\n",
      "  Validation Found 34486 of 54504, added 828 (eff 63.27%) (0.0829 FP/event)\n"
     ]
    },
    {
     "data": {
      "application/vnd.jupyter.widget-view+json": {
       "model_id": "",
       "version_major": 2,
       "version_minor": 0
      },
      "text/plain": [
       "HBox(children=(FloatProgress(value=0.0, description='Training', layout=Layout(flex='2'), max=1250.0, style=Pro…"
      ]
     },
     "metadata": {},
     "output_type": "display_data"
    },
    {
     "name": "stdout",
     "output_type": "stream",
     "text": [
      "Epoch 30: train=21.7146, val=20.1464, took 23.374 s\n",
      "  Validation Found 34467 of 54504, added 791 (eff 63.24%) (0.0792 FP/event)\n"
     ]
    },
    {
     "data": {
      "application/vnd.jupyter.widget-view+json": {
       "model_id": "",
       "version_major": 2,
       "version_minor": 0
      },
      "text/plain": [
       "HBox(children=(FloatProgress(value=0.0, description='Training', layout=Layout(flex='2'), max=1250.0, style=Pro…"
      ]
     },
     "metadata": {},
     "output_type": "display_data"
    },
    {
     "name": "stdout",
     "output_type": "stream",
     "text": [
      "Epoch 31: train=21.5913, val=20.0907, took 23.264 s\n",
      "  Validation Found 34655 of 54504, added 830 (eff 63.58%) (0.0831 FP/event)\n"
     ]
    },
    {
     "data": {
      "application/vnd.jupyter.widget-view+json": {
       "model_id": "",
       "version_major": 2,
       "version_minor": 0
      },
      "text/plain": [
       "HBox(children=(FloatProgress(value=0.0, description='Training', layout=Layout(flex='2'), max=1250.0, style=Pro…"
      ]
     },
     "metadata": {},
     "output_type": "display_data"
    },
    {
     "name": "stdout",
     "output_type": "stream",
     "text": [
      "Epoch 32: train=21.4814, val=20.0108, took 23.235 s\n",
      "  Validation Found 34762 of 54504, added 868 (eff 63.78%) (0.0869 FP/event)\n"
     ]
    },
    {
     "data": {
      "application/vnd.jupyter.widget-view+json": {
       "model_id": "",
       "version_major": 2,
       "version_minor": 0
      },
      "text/plain": [
       "HBox(children=(FloatProgress(value=0.0, description='Training', layout=Layout(flex='2'), max=1250.0, style=Pro…"
      ]
     },
     "metadata": {},
     "output_type": "display_data"
    },
    {
     "name": "stdout",
     "output_type": "stream",
     "text": [
      "Epoch 33: train=21.3782, val=19.9166, took 22.993 s\n",
      "  Validation Found 34814 of 54504, added 882 (eff 63.87%) (0.0883 FP/event)\n"
     ]
    },
    {
     "data": {
      "application/vnd.jupyter.widget-view+json": {
       "model_id": "",
       "version_major": 2,
       "version_minor": 0
      },
      "text/plain": [
       "HBox(children=(FloatProgress(value=0.0, description='Training', layout=Layout(flex='2'), max=1250.0, style=Pro…"
      ]
     },
     "metadata": {},
     "output_type": "display_data"
    },
    {
     "name": "stdout",
     "output_type": "stream",
     "text": [
      "Epoch 34: train=21.2891, val=19.879, took 23.36 s\n",
      "  Validation Found 34934 of 54504, added 919 (eff 64.09%) (0.092 FP/event)\n"
     ]
    },
    {
     "data": {
      "application/vnd.jupyter.widget-view+json": {
       "model_id": "",
       "version_major": 2,
       "version_minor": 0
      },
      "text/plain": [
       "HBox(children=(FloatProgress(value=0.0, description='Training', layout=Layout(flex='2'), max=1250.0, style=Pro…"
      ]
     },
     "metadata": {},
     "output_type": "display_data"
    },
    {
     "name": "stdout",
     "output_type": "stream",
     "text": [
      "Epoch 35: train=21.2057, val=19.8115, took 23.366 s\n",
      "  Validation Found 34858 of 54504, added 885 (eff 63.95%) (0.0886 FP/event)\n"
     ]
    },
    {
     "data": {
      "application/vnd.jupyter.widget-view+json": {
       "model_id": "",
       "version_major": 2,
       "version_minor": 0
      },
      "text/plain": [
       "HBox(children=(FloatProgress(value=0.0, description='Training', layout=Layout(flex='2'), max=1250.0, style=Pro…"
      ]
     },
     "metadata": {},
     "output_type": "display_data"
    },
    {
     "name": "stdout",
     "output_type": "stream",
     "text": [
      "Epoch 36: train=21.1399, val=19.8093, took 23.6 s\n",
      "  Validation Found 35097 of 54504, added 1003 (eff 64.39%) (0.1 FP/event)\n"
     ]
    },
    {
     "data": {
      "application/vnd.jupyter.widget-view+json": {
       "model_id": "",
       "version_major": 2,
       "version_minor": 0
      },
      "text/plain": [
       "HBox(children=(FloatProgress(value=0.0, description='Training', layout=Layout(flex='2'), max=1250.0, style=Pro…"
      ]
     },
     "metadata": {},
     "output_type": "display_data"
    },
    {
     "name": "stdout",
     "output_type": "stream",
     "text": [
      "Epoch 37: train=21.0878, val=19.7781, took 23.285 s\n",
      "  Validation Found 35050 of 54504, added 935 (eff 64.31%) (0.0936 FP/event)\n"
     ]
    },
    {
     "data": {
      "application/vnd.jupyter.widget-view+json": {
       "model_id": "",
       "version_major": 2,
       "version_minor": 0
      },
      "text/plain": [
       "HBox(children=(FloatProgress(value=0.0, description='Training', layout=Layout(flex='2'), max=1250.0, style=Pro…"
      ]
     },
     "metadata": {},
     "output_type": "display_data"
    },
    {
     "name": "stdout",
     "output_type": "stream",
     "text": [
      "Epoch 38: train=21.0385, val=19.7099, took 23.343 s\n",
      "  Validation Found 35096 of 54504, added 948 (eff 64.39%) (0.0949 FP/event)\n"
     ]
    },
    {
     "data": {
      "application/vnd.jupyter.widget-view+json": {
       "model_id": "",
       "version_major": 2,
       "version_minor": 0
      },
      "text/plain": [
       "HBox(children=(FloatProgress(value=0.0, description='Training', layout=Layout(flex='2'), max=1250.0, style=Pro…"
      ]
     },
     "metadata": {},
     "output_type": "display_data"
    },
    {
     "name": "stdout",
     "output_type": "stream",
     "text": [
      "Epoch 39: train=20.9899, val=19.6325, took 22.999 s\n",
      "  Validation Found 35165 of 54504, added 1042 (eff 64.52%) (0.104 FP/event)\n"
     ]
    },
    {
     "data": {
      "application/vnd.jupyter.widget-view+json": {
       "model_id": "",
       "version_major": 2,
       "version_minor": 0
      },
      "text/plain": [
       "HBox(children=(FloatProgress(value=0.0, description='Training', layout=Layout(flex='2'), max=1250.0, style=Pro…"
      ]
     },
     "metadata": {},
     "output_type": "display_data"
    },
    {
     "name": "stdout",
     "output_type": "stream",
     "text": [
      "Epoch 40: train=20.951, val=19.5861, took 23.427 s\n",
      "  Validation Found 35214 of 54504, added 1053 (eff 64.61%) (0.105 FP/event)\n"
     ]
    },
    {
     "data": {
      "application/vnd.jupyter.widget-view+json": {
       "model_id": "",
       "version_major": 2,
       "version_minor": 0
      },
      "text/plain": [
       "HBox(children=(FloatProgress(value=0.0, description='Training', layout=Layout(flex='2'), max=1250.0, style=Pro…"
      ]
     },
     "metadata": {},
     "output_type": "display_data"
    },
    {
     "name": "stdout",
     "output_type": "stream",
     "text": [
      "Epoch 41: train=20.9062, val=19.5958, took 23.378 s\n",
      "  Validation Found 35277 of 54504, added 1042 (eff 64.72%) (0.104 FP/event)\n"
     ]
    },
    {
     "data": {
      "application/vnd.jupyter.widget-view+json": {
       "model_id": "",
       "version_major": 2,
       "version_minor": 0
      },
      "text/plain": [
       "HBox(children=(FloatProgress(value=0.0, description='Training', layout=Layout(flex='2'), max=1250.0, style=Pro…"
      ]
     },
     "metadata": {},
     "output_type": "display_data"
    },
    {
     "name": "stdout",
     "output_type": "stream",
     "text": [
      "Epoch 42: train=20.8842, val=19.6776, took 23.162 s\n",
      "  Validation Found 35347 of 54504, added 1063 (eff 64.85%) (0.106 FP/event)\n"
     ]
    },
    {
     "data": {
      "application/vnd.jupyter.widget-view+json": {
       "model_id": "",
       "version_major": 2,
       "version_minor": 0
      },
      "text/plain": [
       "HBox(children=(FloatProgress(value=0.0, description='Training', layout=Layout(flex='2'), max=1250.0, style=Pro…"
      ]
     },
     "metadata": {},
     "output_type": "display_data"
    },
    {
     "name": "stdout",
     "output_type": "stream",
     "text": [
      "Epoch 43: train=20.8389, val=19.6376, took 23.314 s\n",
      "  Validation Found 35400 of 54504, added 1111 (eff 64.95%) (0.111 FP/event)\n"
     ]
    },
    {
     "data": {
      "application/vnd.jupyter.widget-view+json": {
       "model_id": "",
       "version_major": 2,
       "version_minor": 0
      },
      "text/plain": [
       "HBox(children=(FloatProgress(value=0.0, description='Training', layout=Layout(flex='2'), max=1250.0, style=Pro…"
      ]
     },
     "metadata": {},
     "output_type": "display_data"
    },
    {
     "name": "stdout",
     "output_type": "stream",
     "text": [
      "Epoch 44: train=20.8208, val=19.5519, took 23.299 s\n",
      "  Validation Found 35335 of 54504, added 1042 (eff 64.83%) (0.104 FP/event)\n"
     ]
    },
    {
     "data": {
      "application/vnd.jupyter.widget-view+json": {
       "model_id": "",
       "version_major": 2,
       "version_minor": 0
      },
      "text/plain": [
       "HBox(children=(FloatProgress(value=0.0, description='Training', layout=Layout(flex='2'), max=1250.0, style=Pro…"
      ]
     },
     "metadata": {},
     "output_type": "display_data"
    },
    {
     "name": "stdout",
     "output_type": "stream",
     "text": [
      "Epoch 45: train=20.7896, val=19.4864, took 23.291 s\n",
      "  Validation Found 35335 of 54504, added 1079 (eff 64.83%) (0.108 FP/event)\n"
     ]
    },
    {
     "data": {
      "application/vnd.jupyter.widget-view+json": {
       "model_id": "",
       "version_major": 2,
       "version_minor": 0
      },
      "text/plain": [
       "HBox(children=(FloatProgress(value=0.0, description='Training', layout=Layout(flex='2'), max=1250.0, style=Pro…"
      ]
     },
     "metadata": {},
     "output_type": "display_data"
    },
    {
     "name": "stdout",
     "output_type": "stream",
     "text": [
      "Epoch 46: train=20.7675, val=19.5256, took 23.373 s\n",
      "  Validation Found 35405 of 54504, added 1092 (eff 64.96%) (0.109 FP/event)\n"
     ]
    },
    {
     "data": {
      "application/vnd.jupyter.widget-view+json": {
       "model_id": "",
       "version_major": 2,
       "version_minor": 0
      },
      "text/plain": [
       "HBox(children=(FloatProgress(value=0.0, description='Training', layout=Layout(flex='2'), max=1250.0, style=Pro…"
      ]
     },
     "metadata": {},
     "output_type": "display_data"
    },
    {
     "name": "stdout",
     "output_type": "stream",
     "text": [
      "Epoch 47: train=20.7395, val=19.4768, took 23.234 s\n",
      "  Validation Found 35425 of 54504, added 1108 (eff 65.00%) (0.111 FP/event)\n"
     ]
    },
    {
     "data": {
      "application/vnd.jupyter.widget-view+json": {
       "model_id": "",
       "version_major": 2,
       "version_minor": 0
      },
      "text/plain": [
       "HBox(children=(FloatProgress(value=0.0, description='Training', layout=Layout(flex='2'), max=1250.0, style=Pro…"
      ]
     },
     "metadata": {},
     "output_type": "display_data"
    },
    {
     "name": "stdout",
     "output_type": "stream",
     "text": [
      "Epoch 48: train=20.724, val=19.4036, took 23.505 s\n",
      "  Validation Found 35284 of 54504, added 1013 (eff 64.74%) (0.101 FP/event)\n"
     ]
    },
    {
     "data": {
      "application/vnd.jupyter.widget-view+json": {
       "model_id": "",
       "version_major": 2,
       "version_minor": 0
      },
      "text/plain": [
       "HBox(children=(FloatProgress(value=0.0, description='Training', layout=Layout(flex='2'), max=1250.0, style=Pro…"
      ]
     },
     "metadata": {},
     "output_type": "display_data"
    },
    {
     "name": "stdout",
     "output_type": "stream",
     "text": [
      "Epoch 49: train=20.693, val=19.4533, took 23.211 s\n",
      "  Validation Found 35378 of 54504, added 1024 (eff 64.91%) (0.103 FP/event)\n"
     ]
    },
    {
     "data": {
      "application/vnd.jupyter.widget-view+json": {
       "model_id": "",
       "version_major": 2,
       "version_minor": 0
      },
      "text/plain": [
       "HBox(children=(FloatProgress(value=0.0, description='Training', layout=Layout(flex='2'), max=1250.0, style=Pro…"
      ]
     },
     "metadata": {},
     "output_type": "display_data"
    },
    {
     "name": "stdout",
     "output_type": "stream",
     "text": [
      "Epoch 50: train=20.6813, val=19.4338, took 23.152 s\n",
      "  Validation Found 35447 of 54504, added 1070 (eff 65.04%) (0.107 FP/event)\n"
     ]
    },
    {
     "data": {
      "application/vnd.jupyter.widget-view+json": {
       "model_id": "",
       "version_major": 2,
       "version_minor": 0
      },
      "text/plain": [
       "HBox(children=(FloatProgress(value=0.0, description='Training', layout=Layout(flex='2'), max=1250.0, style=Pro…"
      ]
     },
     "metadata": {},
     "output_type": "display_data"
    },
    {
     "name": "stdout",
     "output_type": "stream",
     "text": [
      "Epoch 51: train=20.6583, val=19.4235, took 23.265 s\n",
      "  Validation Found 35385 of 54504, added 1039 (eff 64.92%) (0.104 FP/event)\n"
     ]
    },
    {
     "data": {
      "application/vnd.jupyter.widget-view+json": {
       "model_id": "",
       "version_major": 2,
       "version_minor": 0
      },
      "text/plain": [
       "HBox(children=(FloatProgress(value=0.0, description='Training', layout=Layout(flex='2'), max=1250.0, style=Pro…"
      ]
     },
     "metadata": {},
     "output_type": "display_data"
    },
    {
     "name": "stdout",
     "output_type": "stream",
     "text": [
      "Epoch 52: train=20.6352, val=19.4158, took 23.306 s\n",
      "  Validation Found 35529 of 54504, added 1208 (eff 65.19%) (0.121 FP/event)\n"
     ]
    },
    {
     "data": {
      "application/vnd.jupyter.widget-view+json": {
       "model_id": "",
       "version_major": 2,
       "version_minor": 0
      },
      "text/plain": [
       "HBox(children=(FloatProgress(value=0.0, description='Training', layout=Layout(flex='2'), max=1250.0, style=Pro…"
      ]
     },
     "metadata": {},
     "output_type": "display_data"
    },
    {
     "name": "stdout",
     "output_type": "stream",
     "text": [
      "Epoch 53: train=20.6149, val=19.3952, took 23.265 s\n",
      "  Validation Found 35513 of 54504, added 1143 (eff 65.16%) (0.114 FP/event)\n"
     ]
    },
    {
     "data": {
      "application/vnd.jupyter.widget-view+json": {
       "model_id": "",
       "version_major": 2,
       "version_minor": 0
      },
      "text/plain": [
       "HBox(children=(FloatProgress(value=0.0, description='Training', layout=Layout(flex='2'), max=1250.0, style=Pro…"
      ]
     },
     "metadata": {},
     "output_type": "display_data"
    },
    {
     "name": "stdout",
     "output_type": "stream",
     "text": [
      "Epoch 54: train=20.6025, val=19.3657, took 23.288 s\n",
      "  Validation Found 35437 of 54504, added 1059 (eff 65.02%) (0.106 FP/event)\n"
     ]
    },
    {
     "data": {
      "application/vnd.jupyter.widget-view+json": {
       "model_id": "",
       "version_major": 2,
       "version_minor": 0
      },
      "text/plain": [
       "HBox(children=(FloatProgress(value=0.0, description='Training', layout=Layout(flex='2'), max=1250.0, style=Pro…"
      ]
     },
     "metadata": {},
     "output_type": "display_data"
    },
    {
     "name": "stdout",
     "output_type": "stream",
     "text": [
      "Epoch 55: train=20.5835, val=19.3866, took 23.386 s\n",
      "  Validation Found 35492 of 54504, added 1067 (eff 65.12%) (0.107 FP/event)\n"
     ]
    },
    {
     "data": {
      "application/vnd.jupyter.widget-view+json": {
       "model_id": "",
       "version_major": 2,
       "version_minor": 0
      },
      "text/plain": [
       "HBox(children=(FloatProgress(value=0.0, description='Training', layout=Layout(flex='2'), max=1250.0, style=Pro…"
      ]
     },
     "metadata": {},
     "output_type": "display_data"
    },
    {
     "name": "stdout",
     "output_type": "stream",
     "text": [
      "Epoch 56: train=20.5732, val=19.3912, took 23.209 s\n",
      "  Validation Found 35518 of 54504, added 1109 (eff 65.17%) (0.111 FP/event)\n"
     ]
    },
    {
     "data": {
      "application/vnd.jupyter.widget-view+json": {
       "model_id": "",
       "version_major": 2,
       "version_minor": 0
      },
      "text/plain": [
       "HBox(children=(FloatProgress(value=0.0, description='Training', layout=Layout(flex='2'), max=1250.0, style=Pro…"
      ]
     },
     "metadata": {},
     "output_type": "display_data"
    },
    {
     "name": "stdout",
     "output_type": "stream",
     "text": [
      "Epoch 57: train=20.5539, val=19.3171, took 23.251 s\n",
      "  Validation Found 35527 of 54504, added 1129 (eff 65.18%) (0.113 FP/event)\n"
     ]
    },
    {
     "data": {
      "application/vnd.jupyter.widget-view+json": {
       "model_id": "",
       "version_major": 2,
       "version_minor": 0
      },
      "text/plain": [
       "HBox(children=(FloatProgress(value=0.0, description='Training', layout=Layout(flex='2'), max=1250.0, style=Pro…"
      ]
     },
     "metadata": {},
     "output_type": "display_data"
    },
    {
     "name": "stdout",
     "output_type": "stream",
     "text": [
      "Epoch 58: train=20.5384, val=19.3189, took 23.176 s\n",
      "  Validation Found 35472 of 54504, added 1046 (eff 65.08%) (0.105 FP/event)\n"
     ]
    },
    {
     "data": {
      "application/vnd.jupyter.widget-view+json": {
       "model_id": "",
       "version_major": 2,
       "version_minor": 0
      },
      "text/plain": [
       "HBox(children=(FloatProgress(value=0.0, description='Training', layout=Layout(flex='2'), max=1250.0, style=Pro…"
      ]
     },
     "metadata": {},
     "output_type": "display_data"
    },
    {
     "name": "stdout",
     "output_type": "stream",
     "text": [
      "Epoch 59: train=20.5249, val=19.3195, took 23.273 s\n",
      "  Validation Found 35613 of 54504, added 1185 (eff 65.34%) (0.119 FP/event)\n"
     ]
    },
    {
     "data": {
      "application/vnd.jupyter.widget-view+json": {
       "model_id": "",
       "version_major": 2,
       "version_minor": 0
      },
      "text/plain": [
       "HBox(children=(FloatProgress(value=0.0, description='Training', layout=Layout(flex='2'), max=1250.0, style=Pro…"
      ]
     },
     "metadata": {},
     "output_type": "display_data"
    },
    {
     "name": "stdout",
     "output_type": "stream",
     "text": [
      "Epoch 60: train=20.5081, val=19.3466, took 23.103 s\n",
      "  Validation Found 35548 of 54504, added 1086 (eff 65.22%) (0.109 FP/event)\n"
     ]
    },
    {
     "data": {
      "application/vnd.jupyter.widget-view+json": {
       "model_id": "",
       "version_major": 2,
       "version_minor": 0
      },
      "text/plain": [
       "HBox(children=(FloatProgress(value=0.0, description='Training', layout=Layout(flex='2'), max=1250.0, style=Pro…"
      ]
     },
     "metadata": {},
     "output_type": "display_data"
    },
    {
     "name": "stdout",
     "output_type": "stream",
     "text": [
      "Epoch 61: train=20.4863, val=19.2828, took 22.987 s\n",
      "  Validation Found 35638 of 54504, added 1215 (eff 65.39%) (0.122 FP/event)\n"
     ]
    },
    {
     "data": {
      "application/vnd.jupyter.widget-view+json": {
       "model_id": "",
       "version_major": 2,
       "version_minor": 0
      },
      "text/plain": [
       "HBox(children=(FloatProgress(value=0.0, description='Training', layout=Layout(flex='2'), max=1250.0, style=Pro…"
      ]
     },
     "metadata": {},
     "output_type": "display_data"
    },
    {
     "name": "stdout",
     "output_type": "stream",
     "text": [
      "Epoch 62: train=20.4768, val=19.2065, took 23.291 s\n",
      "  Validation Found 35503 of 54504, added 1070 (eff 65.14%) (0.107 FP/event)\n"
     ]
    },
    {
     "data": {
      "application/vnd.jupyter.widget-view+json": {
       "model_id": "",
       "version_major": 2,
       "version_minor": 0
      },
      "text/plain": [
       "HBox(children=(FloatProgress(value=0.0, description='Training', layout=Layout(flex='2'), max=1250.0, style=Pro…"
      ]
     },
     "metadata": {},
     "output_type": "display_data"
    },
    {
     "name": "stdout",
     "output_type": "stream",
     "text": [
      "Epoch 63: train=20.4528, val=19.1752, took 23.361 s\n",
      "  Validation Found 35503 of 54504, added 1070 (eff 65.14%) (0.107 FP/event)\n"
     ]
    },
    {
     "data": {
      "application/vnd.jupyter.widget-view+json": {
       "model_id": "",
       "version_major": 2,
       "version_minor": 0
      },
      "text/plain": [
       "HBox(children=(FloatProgress(value=0.0, description='Training', layout=Layout(flex='2'), max=1250.0, style=Pro…"
      ]
     },
     "metadata": {},
     "output_type": "display_data"
    },
    {
     "name": "stdout",
     "output_type": "stream",
     "text": [
      "Epoch 64: train=20.4419, val=19.1372, took 23.281 s\n",
      "  Validation Found 35471 of 54504, added 1021 (eff 65.08%) (0.102 FP/event)\n"
     ]
    },
    {
     "data": {
      "application/vnd.jupyter.widget-view+json": {
       "model_id": "",
       "version_major": 2,
       "version_minor": 0
      },
      "text/plain": [
       "HBox(children=(FloatProgress(value=0.0, description='Training', layout=Layout(flex='2'), max=1250.0, style=Pro…"
      ]
     },
     "metadata": {},
     "output_type": "display_data"
    },
    {
     "name": "stdout",
     "output_type": "stream",
     "text": [
      "Epoch 65: train=20.4279, val=19.1569, took 23.303 s\n",
      "  Validation Found 35471 of 54504, added 1017 (eff 65.08%) (0.102 FP/event)\n"
     ]
    },
    {
     "data": {
      "application/vnd.jupyter.widget-view+json": {
       "model_id": "",
       "version_major": 2,
       "version_minor": 0
      },
      "text/plain": [
       "HBox(children=(FloatProgress(value=0.0, description='Training', layout=Layout(flex='2'), max=1250.0, style=Pro…"
      ]
     },
     "metadata": {},
     "output_type": "display_data"
    },
    {
     "name": "stdout",
     "output_type": "stream",
     "text": [
      "Epoch 66: train=20.4119, val=19.155, took 23.267 s\n",
      "  Validation Found 35476 of 54504, added 994 (eff 65.09%) (0.0995 FP/event)\n"
     ]
    },
    {
     "data": {
      "application/vnd.jupyter.widget-view+json": {
       "model_id": "",
       "version_major": 2,
       "version_minor": 0
      },
      "text/plain": [
       "HBox(children=(FloatProgress(value=0.0, description='Training', layout=Layout(flex='2'), max=1250.0, style=Pro…"
      ]
     },
     "metadata": {},
     "output_type": "display_data"
    },
    {
     "name": "stdout",
     "output_type": "stream",
     "text": [
      "Epoch 67: train=20.3949, val=19.0976, took 23.598 s\n",
      "  Validation Found 35527 of 54504, added 1033 (eff 65.18%) (0.103 FP/event)\n"
     ]
    },
    {
     "data": {
      "application/vnd.jupyter.widget-view+json": {
       "model_id": "",
       "version_major": 2,
       "version_minor": 0
      },
      "text/plain": [
       "HBox(children=(FloatProgress(value=0.0, description='Training', layout=Layout(flex='2'), max=1250.0, style=Pro…"
      ]
     },
     "metadata": {},
     "output_type": "display_data"
    },
    {
     "name": "stdout",
     "output_type": "stream",
     "text": [
      "Epoch 68: train=20.3847, val=19.1248, took 23.432 s\n",
      "  Validation Found 35533 of 54504, added 1006 (eff 65.19%) (0.101 FP/event)\n"
     ]
    },
    {
     "data": {
      "application/vnd.jupyter.widget-view+json": {
       "model_id": "",
       "version_major": 2,
       "version_minor": 0
      },
      "text/plain": [
       "HBox(children=(FloatProgress(value=0.0, description='Training', layout=Layout(flex='2'), max=1250.0, style=Pro…"
      ]
     },
     "metadata": {},
     "output_type": "display_data"
    },
    {
     "name": "stdout",
     "output_type": "stream",
     "text": [
      "Epoch 69: train=20.3794, val=19.0867, took 23.219 s\n",
      "  Validation Found 35654 of 54504, added 1150 (eff 65.42%) (0.115 FP/event)\n"
     ]
    },
    {
     "data": {
      "application/vnd.jupyter.widget-view+json": {
       "model_id": "",
       "version_major": 2,
       "version_minor": 0
      },
      "text/plain": [
       "HBox(children=(FloatProgress(value=0.0, description='Training', layout=Layout(flex='2'), max=1250.0, style=Pro…"
      ]
     },
     "metadata": {},
     "output_type": "display_data"
    },
    {
     "name": "stdout",
     "output_type": "stream",
     "text": [
      "Epoch 70: train=20.3555, val=19.0855, took 23.13 s\n",
      "  Validation Found 35612 of 54504, added 1058 (eff 65.34%) (0.106 FP/event)\n"
     ]
    },
    {
     "data": {
      "application/vnd.jupyter.widget-view+json": {
       "model_id": "",
       "version_major": 2,
       "version_minor": 0
      },
      "text/plain": [
       "HBox(children=(FloatProgress(value=0.0, description='Training', layout=Layout(flex='2'), max=1250.0, style=Pro…"
      ]
     },
     "metadata": {},
     "output_type": "display_data"
    },
    {
     "name": "stdout",
     "output_type": "stream",
     "text": [
      "Epoch 71: train=20.3406, val=19.0153, took 23.248 s\n",
      "  Validation Found 35510 of 54504, added 1022 (eff 65.15%) (0.102 FP/event)\n"
     ]
    },
    {
     "data": {
      "application/vnd.jupyter.widget-view+json": {
       "model_id": "",
       "version_major": 2,
       "version_minor": 0
      },
      "text/plain": [
       "HBox(children=(FloatProgress(value=0.0, description='Training', layout=Layout(flex='2'), max=1250.0, style=Pro…"
      ]
     },
     "metadata": {},
     "output_type": "display_data"
    },
    {
     "name": "stdout",
     "output_type": "stream",
     "text": [
      "Epoch 72: train=20.3261, val=19.0325, took 24.017 s\n",
      "  Validation Found 35588 of 54504, added 1036 (eff 65.29%) (0.104 FP/event)\n"
     ]
    },
    {
     "data": {
      "application/vnd.jupyter.widget-view+json": {
       "model_id": "",
       "version_major": 2,
       "version_minor": 0
      },
      "text/plain": [
       "HBox(children=(FloatProgress(value=0.0, description='Training', layout=Layout(flex='2'), max=1250.0, style=Pro…"
      ]
     },
     "metadata": {},
     "output_type": "display_data"
    },
    {
     "name": "stdout",
     "output_type": "stream",
     "text": [
      "Epoch 73: train=20.3099, val=19.0335, took 23.542 s\n",
      "  Validation Found 35592 of 54504, added 1019 (eff 65.30%) (0.102 FP/event)\n"
     ]
    },
    {
     "data": {
      "application/vnd.jupyter.widget-view+json": {
       "model_id": "",
       "version_major": 2,
       "version_minor": 0
      },
      "text/plain": [
       "HBox(children=(FloatProgress(value=0.0, description='Training', layout=Layout(flex='2'), max=1250.0, style=Pro…"
      ]
     },
     "metadata": {},
     "output_type": "display_data"
    },
    {
     "name": "stdout",
     "output_type": "stream",
     "text": [
      "Epoch 74: train=20.3084, val=19.0, took 23.259 s\n",
      "  Validation Found 35636 of 54504, added 1081 (eff 65.38%) (0.108 FP/event)\n"
     ]
    },
    {
     "data": {
      "application/vnd.jupyter.widget-view+json": {
       "model_id": "",
       "version_major": 2,
       "version_minor": 0
      },
      "text/plain": [
       "HBox(children=(FloatProgress(value=0.0, description='Training', layout=Layout(flex='2'), max=1250.0, style=Pro…"
      ]
     },
     "metadata": {},
     "output_type": "display_data"
    },
    {
     "name": "stdout",
     "output_type": "stream",
     "text": [
      "Epoch 75: train=20.2947, val=19.0011, took 23.249 s\n",
      "  Validation Found 35596 of 54504, added 1015 (eff 65.31%) (0.102 FP/event)\n"
     ]
    },
    {
     "data": {
      "application/vnd.jupyter.widget-view+json": {
       "model_id": "",
       "version_major": 2,
       "version_minor": 0
      },
      "text/plain": [
       "HBox(children=(FloatProgress(value=0.0, description='Training', layout=Layout(flex='2'), max=1250.0, style=Pro…"
      ]
     },
     "metadata": {},
     "output_type": "display_data"
    },
    {
     "name": "stdout",
     "output_type": "stream",
     "text": [
      "Epoch 76: train=20.2875, val=18.9868, took 23.449 s\n",
      "  Validation Found 35609 of 54504, added 999 (eff 65.33%) (0.1 FP/event)\n"
     ]
    },
    {
     "data": {
      "application/vnd.jupyter.widget-view+json": {
       "model_id": "",
       "version_major": 2,
       "version_minor": 0
      },
      "text/plain": [
       "HBox(children=(FloatProgress(value=0.0, description='Training', layout=Layout(flex='2'), max=1250.0, style=Pro…"
      ]
     },
     "metadata": {},
     "output_type": "display_data"
    },
    {
     "name": "stdout",
     "output_type": "stream",
     "text": [
      "Epoch 77: train=20.2704, val=18.9874, took 23.069 s\n",
      "  Validation Found 35534 of 54504, added 926 (eff 65.20%) (0.0927 FP/event)\n"
     ]
    },
    {
     "data": {
      "application/vnd.jupyter.widget-view+json": {
       "model_id": "",
       "version_major": 2,
       "version_minor": 0
      },
      "text/plain": [
       "HBox(children=(FloatProgress(value=0.0, description='Training', layout=Layout(flex='2'), max=1250.0, style=Pro…"
      ]
     },
     "metadata": {},
     "output_type": "display_data"
    },
    {
     "name": "stdout",
     "output_type": "stream",
     "text": [
      "Epoch 78: train=20.2595, val=18.9466, took 23.428 s\n",
      "  Validation Found 35685 of 54504, added 1082 (eff 65.47%) (0.108 FP/event)\n"
     ]
    },
    {
     "data": {
      "application/vnd.jupyter.widget-view+json": {
       "model_id": "",
       "version_major": 2,
       "version_minor": 0
      },
      "text/plain": [
       "HBox(children=(FloatProgress(value=0.0, description='Training', layout=Layout(flex='2'), max=1250.0, style=Pro…"
      ]
     },
     "metadata": {},
     "output_type": "display_data"
    },
    {
     "name": "stdout",
     "output_type": "stream",
     "text": [
      "Epoch 79: train=20.2485, val=18.9707, took 23.486 s\n",
      "  Validation Found 35581 of 54504, added 933 (eff 65.28%) (0.0934 FP/event)\n"
     ]
    },
    {
     "data": {
      "application/vnd.jupyter.widget-view+json": {
       "model_id": "",
       "version_major": 2,
       "version_minor": 0
      },
      "text/plain": [
       "HBox(children=(FloatProgress(value=0.0, description='Training', layout=Layout(flex='2'), max=1250.0, style=Pro…"
      ]
     },
     "metadata": {},
     "output_type": "display_data"
    },
    {
     "name": "stdout",
     "output_type": "stream",
     "text": [
      "Epoch 80: train=20.2319, val=18.9536, took 23.415 s\n",
      "  Validation Found 35630 of 54504, added 983 (eff 65.37%) (0.0984 FP/event)\n"
     ]
    },
    {
     "data": {
      "application/vnd.jupyter.widget-view+json": {
       "model_id": "",
       "version_major": 2,
       "version_minor": 0
      },
      "text/plain": [
       "HBox(children=(FloatProgress(value=0.0, description='Training', layout=Layout(flex='2'), max=1250.0, style=Pro…"
      ]
     },
     "metadata": {},
     "output_type": "display_data"
    },
    {
     "name": "stdout",
     "output_type": "stream",
     "text": [
      "Epoch 81: train=20.2212, val=18.8942, took 23.223 s\n",
      "  Validation Found 35630 of 54504, added 999 (eff 65.37%) (0.1 FP/event)\n"
     ]
    },
    {
     "data": {
      "application/vnd.jupyter.widget-view+json": {
       "model_id": "",
       "version_major": 2,
       "version_minor": 0
      },
      "text/plain": [
       "HBox(children=(FloatProgress(value=0.0, description='Training', layout=Layout(flex='2'), max=1250.0, style=Pro…"
      ]
     },
     "metadata": {},
     "output_type": "display_data"
    },
    {
     "name": "stdout",
     "output_type": "stream",
     "text": [
      "Epoch 82: train=20.2164, val=18.9161, took 23.268 s\n",
      "  Validation Found 35633 of 54504, added 942 (eff 65.38%) (0.0943 FP/event)\n"
     ]
    },
    {
     "data": {
      "application/vnd.jupyter.widget-view+json": {
       "model_id": "",
       "version_major": 2,
       "version_minor": 0
      },
      "text/plain": [
       "HBox(children=(FloatProgress(value=0.0, description='Training', layout=Layout(flex='2'), max=1250.0, style=Pro…"
      ]
     },
     "metadata": {},
     "output_type": "display_data"
    },
    {
     "name": "stdout",
     "output_type": "stream",
     "text": [
      "Epoch 83: train=20.1937, val=18.9399, took 23.325 s\n",
      "  Validation Found 35625 of 54504, added 936 (eff 65.36%) (0.0937 FP/event)\n"
     ]
    },
    {
     "data": {
      "application/vnd.jupyter.widget-view+json": {
       "model_id": "",
       "version_major": 2,
       "version_minor": 0
      },
      "text/plain": [
       "HBox(children=(FloatProgress(value=0.0, description='Training', layout=Layout(flex='2'), max=1250.0, style=Pro…"
      ]
     },
     "metadata": {},
     "output_type": "display_data"
    },
    {
     "name": "stdout",
     "output_type": "stream",
     "text": [
      "Epoch 84: train=20.1953, val=18.8788, took 23.125 s\n",
      "  Validation Found 35590 of 54504, added 919 (eff 65.30%) (0.092 FP/event)\n"
     ]
    },
    {
     "data": {
      "application/vnd.jupyter.widget-view+json": {
       "model_id": "",
       "version_major": 2,
       "version_minor": 0
      },
      "text/plain": [
       "HBox(children=(FloatProgress(value=0.0, description='Training', layout=Layout(flex='2'), max=1250.0, style=Pro…"
      ]
     },
     "metadata": {},
     "output_type": "display_data"
    },
    {
     "name": "stdout",
     "output_type": "stream",
     "text": [
      "Epoch 85: train=20.178, val=18.8328, took 23.192 s\n",
      "  Validation Found 35600 of 54504, added 929 (eff 65.32%) (0.093 FP/event)\n"
     ]
    },
    {
     "data": {
      "application/vnd.jupyter.widget-view+json": {
       "model_id": "",
       "version_major": 2,
       "version_minor": 0
      },
      "text/plain": [
       "HBox(children=(FloatProgress(value=0.0, description='Training', layout=Layout(flex='2'), max=1250.0, style=Pro…"
      ]
     },
     "metadata": {},
     "output_type": "display_data"
    },
    {
     "name": "stdout",
     "output_type": "stream",
     "text": [
      "Epoch 86: train=20.1719, val=18.8594, took 23.088 s\n",
      "  Validation Found 35685 of 54504, added 992 (eff 65.47%) (0.0993 FP/event)\n"
     ]
    },
    {
     "data": {
      "application/vnd.jupyter.widget-view+json": {
       "model_id": "",
       "version_major": 2,
       "version_minor": 0
      },
      "text/plain": [
       "HBox(children=(FloatProgress(value=0.0, description='Training', layout=Layout(flex='2'), max=1250.0, style=Pro…"
      ]
     },
     "metadata": {},
     "output_type": "display_data"
    },
    {
     "name": "stdout",
     "output_type": "stream",
     "text": [
      "Epoch 87: train=20.1607, val=18.8361, took 23.322 s\n",
      "  Validation Found 35651 of 54504, added 966 (eff 65.41%) (0.0967 FP/event)\n"
     ]
    },
    {
     "data": {
      "application/vnd.jupyter.widget-view+json": {
       "model_id": "",
       "version_major": 2,
       "version_minor": 0
      },
      "text/plain": [
       "HBox(children=(FloatProgress(value=0.0, description='Training', layout=Layout(flex='2'), max=1250.0, style=Pro…"
      ]
     },
     "metadata": {},
     "output_type": "display_data"
    },
    {
     "name": "stdout",
     "output_type": "stream",
     "text": [
      "Epoch 88: train=20.1593, val=18.8201, took 23.845 s\n",
      "  Validation Found 35583 of 54504, added 894 (eff 65.29%) (0.0895 FP/event)\n"
     ]
    },
    {
     "data": {
      "application/vnd.jupyter.widget-view+json": {
       "model_id": "",
       "version_major": 2,
       "version_minor": 0
      },
      "text/plain": [
       "HBox(children=(FloatProgress(value=0.0, description='Training', layout=Layout(flex='2'), max=1250.0, style=Pro…"
      ]
     },
     "metadata": {},
     "output_type": "display_data"
    },
    {
     "name": "stdout",
     "output_type": "stream",
     "text": [
      "Epoch 89: train=20.1465, val=18.8011, took 23.48 s\n",
      "  Validation Found 35696 of 54504, added 998 (eff 65.49%) (0.0999 FP/event)\n"
     ]
    },
    {
     "data": {
      "application/vnd.jupyter.widget-view+json": {
       "model_id": "",
       "version_major": 2,
       "version_minor": 0
      },
      "text/plain": [
       "HBox(children=(FloatProgress(value=0.0, description='Training', layout=Layout(flex='2'), max=1250.0, style=Pro…"
      ]
     },
     "metadata": {},
     "output_type": "display_data"
    },
    {
     "name": "stdout",
     "output_type": "stream",
     "text": [
      "Epoch 90: train=20.1361, val=18.807, took 23.396 s\n",
      "  Validation Found 35669 of 54504, added 925 (eff 65.44%) (0.0926 FP/event)\n"
     ]
    },
    {
     "data": {
      "application/vnd.jupyter.widget-view+json": {
       "model_id": "",
       "version_major": 2,
       "version_minor": 0
      },
      "text/plain": [
       "HBox(children=(FloatProgress(value=0.0, description='Training', layout=Layout(flex='2'), max=1250.0, style=Pro…"
      ]
     },
     "metadata": {},
     "output_type": "display_data"
    },
    {
     "name": "stdout",
     "output_type": "stream",
     "text": [
      "Epoch 91: train=20.1268, val=18.8176, took 23.29 s\n",
      "  Validation Found 35585 of 54504, added 861 (eff 65.29%) (0.0862 FP/event)\n"
     ]
    },
    {
     "data": {
      "application/vnd.jupyter.widget-view+json": {
       "model_id": "",
       "version_major": 2,
       "version_minor": 0
      },
      "text/plain": [
       "HBox(children=(FloatProgress(value=0.0, description='Training', layout=Layout(flex='2'), max=1250.0, style=Pro…"
      ]
     },
     "metadata": {},
     "output_type": "display_data"
    },
    {
     "name": "stdout",
     "output_type": "stream",
     "text": [
      "Epoch 92: train=20.1236, val=18.808, took 23.375 s\n",
      "  Validation Found 35681 of 54504, added 938 (eff 65.46%) (0.0939 FP/event)\n"
     ]
    },
    {
     "data": {
      "application/vnd.jupyter.widget-view+json": {
       "model_id": "",
       "version_major": 2,
       "version_minor": 0
      },
      "text/plain": [
       "HBox(children=(FloatProgress(value=0.0, description='Training', layout=Layout(flex='2'), max=1250.0, style=Pro…"
      ]
     },
     "metadata": {},
     "output_type": "display_data"
    },
    {
     "name": "stdout",
     "output_type": "stream",
     "text": [
      "Epoch 93: train=20.1097, val=18.7833, took 23.46 s\n",
      "  Validation Found 35721 of 54504, added 989 (eff 65.54%) (0.099 FP/event)\n"
     ]
    },
    {
     "data": {
      "application/vnd.jupyter.widget-view+json": {
       "model_id": "",
       "version_major": 2,
       "version_minor": 0
      },
      "text/plain": [
       "HBox(children=(FloatProgress(value=0.0, description='Training', layout=Layout(flex='2'), max=1250.0, style=Pro…"
      ]
     },
     "metadata": {},
     "output_type": "display_data"
    },
    {
     "name": "stdout",
     "output_type": "stream",
     "text": [
      "Epoch 94: train=20.1043, val=18.7871, took 23.239 s\n",
      "  Validation Found 35672 of 54504, added 917 (eff 65.45%) (0.0918 FP/event)\n"
     ]
    },
    {
     "data": {
      "application/vnd.jupyter.widget-view+json": {
       "model_id": "",
       "version_major": 2,
       "version_minor": 0
      },
      "text/plain": [
       "HBox(children=(FloatProgress(value=0.0, description='Training', layout=Layout(flex='2'), max=1250.0, style=Pro…"
      ]
     },
     "metadata": {},
     "output_type": "display_data"
    },
    {
     "name": "stdout",
     "output_type": "stream",
     "text": [
      "Epoch 95: train=20.0968, val=18.7985, took 23.491 s\n",
      "  Validation Found 35726 of 54504, added 979 (eff 65.55%) (0.098 FP/event)\n"
     ]
    },
    {
     "data": {
      "application/vnd.jupyter.widget-view+json": {
       "model_id": "",
       "version_major": 2,
       "version_minor": 0
      },
      "text/plain": [
       "HBox(children=(FloatProgress(value=0.0, description='Training', layout=Layout(flex='2'), max=1250.0, style=Pro…"
      ]
     },
     "metadata": {},
     "output_type": "display_data"
    },
    {
     "name": "stdout",
     "output_type": "stream",
     "text": [
      "Epoch 96: train=20.0894, val=18.75, took 23.236 s\n",
      "  Validation Found 35565 of 54504, added 851 (eff 65.25%) (0.0852 FP/event)\n"
     ]
    },
    {
     "data": {
      "application/vnd.jupyter.widget-view+json": {
       "model_id": "",
       "version_major": 2,
       "version_minor": 0
      },
      "text/plain": [
       "HBox(children=(FloatProgress(value=0.0, description='Training', layout=Layout(flex='2'), max=1250.0, style=Pro…"
      ]
     },
     "metadata": {},
     "output_type": "display_data"
    },
    {
     "name": "stdout",
     "output_type": "stream",
     "text": [
      "Epoch 97: train=20.0818, val=18.7955, took 23.291 s\n",
      "  Validation Found 35798 of 54504, added 1012 (eff 65.68%) (0.101 FP/event)\n"
     ]
    },
    {
     "data": {
      "application/vnd.jupyter.widget-view+json": {
       "model_id": "",
       "version_major": 2,
       "version_minor": 0
      },
      "text/plain": [
       "HBox(children=(FloatProgress(value=0.0, description='Training', layout=Layout(flex='2'), max=1250.0, style=Pro…"
      ]
     },
     "metadata": {},
     "output_type": "display_data"
    },
    {
     "name": "stdout",
     "output_type": "stream",
     "text": [
      "Epoch 98: train=20.0749, val=18.7725, took 23.246 s\n",
      "  Validation Found 35834 of 54504, added 1045 (eff 65.75%) (0.105 FP/event)\n"
     ]
    },
    {
     "data": {
      "application/vnd.jupyter.widget-view+json": {
       "model_id": "",
       "version_major": 2,
       "version_minor": 0
      },
      "text/plain": [
       "HBox(children=(FloatProgress(value=0.0, description='Training', layout=Layout(flex='2'), max=1250.0, style=Pro…"
      ]
     },
     "metadata": {},
     "output_type": "display_data"
    },
    {
     "name": "stdout",
     "output_type": "stream",
     "text": [
      "Epoch 99: train=20.0668, val=18.7869, took 23.236 s\n",
      "  Validation Found 35777 of 54504, added 970 (eff 65.64%) (0.0971 FP/event)\n"
     ]
    },
    {
     "data": {
      "application/vnd.jupyter.widget-view+json": {
       "model_id": "",
       "version_major": 2,
       "version_minor": 0
      },
      "text/plain": [
       "HBox(children=(FloatProgress(value=0.0, description='Training', layout=Layout(flex='2'), max=1250.0, style=Pro…"
      ]
     },
     "metadata": {},
     "output_type": "display_data"
    },
    {
     "name": "stdout",
     "output_type": "stream",
     "text": [
      "Epoch 100: train=20.057, val=18.7729, took 23.101 s\n",
      "  Validation Found 35737 of 54504, added 928 (eff 65.57%) (0.0929 FP/event)\n"
     ]
    },
    {
     "data": {
      "application/vnd.jupyter.widget-view+json": {
       "model_id": "",
       "version_major": 2,
       "version_minor": 0
      },
      "text/plain": [
       "HBox(children=(FloatProgress(value=0.0, description='Training', layout=Layout(flex='2'), max=1250.0, style=Pro…"
      ]
     },
     "metadata": {},
     "output_type": "display_data"
    },
    {
     "name": "stdout",
     "output_type": "stream",
     "text": [
      "Epoch 101: train=20.0503, val=18.7541, took 23.164 s\n",
      "  Validation Found 35697 of 54504, added 929 (eff 65.49%) (0.093 FP/event)\n"
     ]
    },
    {
     "data": {
      "application/vnd.jupyter.widget-view+json": {
       "model_id": "",
       "version_major": 2,
       "version_minor": 0
      },
      "text/plain": [
       "HBox(children=(FloatProgress(value=0.0, description='Training', layout=Layout(flex='2'), max=1250.0, style=Pro…"
      ]
     },
     "metadata": {},
     "output_type": "display_data"
    },
    {
     "name": "stdout",
     "output_type": "stream",
     "text": [
      "Epoch 102: train=20.0412, val=18.7895, took 23.535 s\n",
      "  Validation Found 35813 of 54504, added 998 (eff 65.71%) (0.0999 FP/event)\n"
     ]
    },
    {
     "data": {
      "application/vnd.jupyter.widget-view+json": {
       "model_id": "",
       "version_major": 2,
       "version_minor": 0
      },
      "text/plain": [
       "HBox(children=(FloatProgress(value=0.0, description='Training', layout=Layout(flex='2'), max=1250.0, style=Pro…"
      ]
     },
     "metadata": {},
     "output_type": "display_data"
    },
    {
     "name": "stdout",
     "output_type": "stream",
     "text": [
      "Epoch 103: train=20.0394, val=18.7817, took 23.479 s\n",
      "  Validation Found 35739 of 54504, added 936 (eff 65.57%) (0.0937 FP/event)\n"
     ]
    },
    {
     "data": {
      "application/vnd.jupyter.widget-view+json": {
       "model_id": "",
       "version_major": 2,
       "version_minor": 0
      },
      "text/plain": [
       "HBox(children=(FloatProgress(value=0.0, description='Training', layout=Layout(flex='2'), max=1250.0, style=Pro…"
      ]
     },
     "metadata": {},
     "output_type": "display_data"
    },
    {
     "name": "stdout",
     "output_type": "stream",
     "text": [
      "Epoch 104: train=20.0361, val=18.7585, took 23.621 s\n",
      "  Validation Found 35780 of 54504, added 971 (eff 65.65%) (0.0972 FP/event)\n"
     ]
    },
    {
     "data": {
      "application/vnd.jupyter.widget-view+json": {
       "model_id": "",
       "version_major": 2,
       "version_minor": 0
      },
      "text/plain": [
       "HBox(children=(FloatProgress(value=0.0, description='Training', layout=Layout(flex='2'), max=1250.0, style=Pro…"
      ]
     },
     "metadata": {},
     "output_type": "display_data"
    },
    {
     "name": "stdout",
     "output_type": "stream",
     "text": [
      "Epoch 105: train=20.0304, val=18.7187, took 23.191 s\n",
      "  Validation Found 35671 of 54504, added 926 (eff 65.45%) (0.0927 FP/event)\n"
     ]
    },
    {
     "data": {
      "application/vnd.jupyter.widget-view+json": {
       "model_id": "",
       "version_major": 2,
       "version_minor": 0
      },
      "text/plain": [
       "HBox(children=(FloatProgress(value=0.0, description='Training', layout=Layout(flex='2'), max=1250.0, style=Pro…"
      ]
     },
     "metadata": {},
     "output_type": "display_data"
    },
    {
     "name": "stdout",
     "output_type": "stream",
     "text": [
      "Epoch 106: train=20.0212, val=18.7318, took 23.374 s\n",
      "  Validation Found 35749 of 54504, added 967 (eff 65.59%) (0.0968 FP/event)\n"
     ]
    },
    {
     "data": {
      "application/vnd.jupyter.widget-view+json": {
       "model_id": "",
       "version_major": 2,
       "version_minor": 0
      },
      "text/plain": [
       "HBox(children=(FloatProgress(value=0.0, description='Training', layout=Layout(flex='2'), max=1250.0, style=Pro…"
      ]
     },
     "metadata": {},
     "output_type": "display_data"
    },
    {
     "name": "stdout",
     "output_type": "stream",
     "text": [
      "Epoch 107: train=20.02, val=18.7907, took 23.191 s\n",
      "  Validation Found 35771 of 54504, added 928 (eff 65.63%) (0.0929 FP/event)\n"
     ]
    },
    {
     "data": {
      "application/vnd.jupyter.widget-view+json": {
       "model_id": "",
       "version_major": 2,
       "version_minor": 0
      },
      "text/plain": [
       "HBox(children=(FloatProgress(value=0.0, description='Training', layout=Layout(flex='2'), max=1250.0, style=Pro…"
      ]
     },
     "metadata": {},
     "output_type": "display_data"
    },
    {
     "name": "stdout",
     "output_type": "stream",
     "text": [
      "Epoch 108: train=20.0108, val=18.7774, took 23.2 s\n",
      "  Validation Found 35716 of 54504, added 910 (eff 65.53%) (0.0911 FP/event)\n"
     ]
    },
    {
     "data": {
      "application/vnd.jupyter.widget-view+json": {
       "model_id": "",
       "version_major": 2,
       "version_minor": 0
      },
      "text/plain": [
       "HBox(children=(FloatProgress(value=0.0, description='Training', layout=Layout(flex='2'), max=1250.0, style=Pro…"
      ]
     },
     "metadata": {},
     "output_type": "display_data"
    },
    {
     "name": "stdout",
     "output_type": "stream",
     "text": [
      "Epoch 109: train=20.0015, val=18.7204, took 23.275 s\n",
      "  Validation Found 35762 of 54504, added 944 (eff 65.61%) (0.0945 FP/event)\n"
     ]
    },
    {
     "data": {
      "application/vnd.jupyter.widget-view+json": {
       "model_id": "",
       "version_major": 2,
       "version_minor": 0
      },
      "text/plain": [
       "HBox(children=(FloatProgress(value=0.0, description='Training', layout=Layout(flex='2'), max=1250.0, style=Pro…"
      ]
     },
     "metadata": {},
     "output_type": "display_data"
    },
    {
     "name": "stdout",
     "output_type": "stream",
     "text": [
      "Epoch 110: train=19.9898, val=18.7384, took 23.06 s\n",
      "  Validation Found 35705 of 54504, added 916 (eff 65.51%) (0.0917 FP/event)\n"
     ]
    },
    {
     "data": {
      "application/vnd.jupyter.widget-view+json": {
       "model_id": "",
       "version_major": 2,
       "version_minor": 0
      },
      "text/plain": [
       "HBox(children=(FloatProgress(value=0.0, description='Training', layout=Layout(flex='2'), max=1250.0, style=Pro…"
      ]
     },
     "metadata": {},
     "output_type": "display_data"
    },
    {
     "name": "stdout",
     "output_type": "stream",
     "text": [
      "Epoch 111: train=19.9935, val=18.7166, took 23.228 s\n",
      "  Validation Found 35867 of 54504, added 1047 (eff 65.81%) (0.105 FP/event)\n"
     ]
    },
    {
     "data": {
      "application/vnd.jupyter.widget-view+json": {
       "model_id": "",
       "version_major": 2,
       "version_minor": 0
      },
      "text/plain": [
       "HBox(children=(FloatProgress(value=0.0, description='Training', layout=Layout(flex='2'), max=1250.0, style=Pro…"
      ]
     },
     "metadata": {},
     "output_type": "display_data"
    },
    {
     "name": "stdout",
     "output_type": "stream",
     "text": [
      "Epoch 112: train=19.9783, val=18.7736, took 23.375 s\n",
      "  Validation Found 35817 of 54504, added 1015 (eff 65.71%) (0.102 FP/event)\n"
     ]
    },
    {
     "data": {
      "application/vnd.jupyter.widget-view+json": {
       "model_id": "",
       "version_major": 2,
       "version_minor": 0
      },
      "text/plain": [
       "HBox(children=(FloatProgress(value=0.0, description='Training', layout=Layout(flex='2'), max=1250.0, style=Pro…"
      ]
     },
     "metadata": {},
     "output_type": "display_data"
    },
    {
     "name": "stdout",
     "output_type": "stream",
     "text": [
      "Epoch 113: train=19.9801, val=18.7529, took 23.163 s\n",
      "  Validation Found 35779 of 54504, added 963 (eff 65.64%) (0.0964 FP/event)\n"
     ]
    },
    {
     "data": {
      "application/vnd.jupyter.widget-view+json": {
       "model_id": "",
       "version_major": 2,
       "version_minor": 0
      },
      "text/plain": [
       "HBox(children=(FloatProgress(value=0.0, description='Training', layout=Layout(flex='2'), max=1250.0, style=Pro…"
      ]
     },
     "metadata": {},
     "output_type": "display_data"
    },
    {
     "name": "stdout",
     "output_type": "stream",
     "text": [
      "Epoch 114: train=19.9772, val=18.7571, took 23.574 s\n",
      "  Validation Found 35862 of 54504, added 1026 (eff 65.80%) (0.103 FP/event)\n"
     ]
    },
    {
     "data": {
      "application/vnd.jupyter.widget-view+json": {
       "model_id": "",
       "version_major": 2,
       "version_minor": 0
      },
      "text/plain": [
       "HBox(children=(FloatProgress(value=0.0, description='Training', layout=Layout(flex='2'), max=1250.0, style=Pro…"
      ]
     },
     "metadata": {},
     "output_type": "display_data"
    },
    {
     "name": "stdout",
     "output_type": "stream",
     "text": [
      "Epoch 115: train=19.9636, val=18.7426, took 23.201 s\n",
      "  Validation Found 35780 of 54504, added 953 (eff 65.65%) (0.0954 FP/event)\n"
     ]
    },
    {
     "data": {
      "application/vnd.jupyter.widget-view+json": {
       "model_id": "",
       "version_major": 2,
       "version_minor": 0
      },
      "text/plain": [
       "HBox(children=(FloatProgress(value=0.0, description='Training', layout=Layout(flex='2'), max=1250.0, style=Pro…"
      ]
     },
     "metadata": {},
     "output_type": "display_data"
    },
    {
     "name": "stdout",
     "output_type": "stream",
     "text": [
      "Epoch 116: train=19.9595, val=18.7411, took 22.992 s\n",
      "  Validation Found 35769 of 54504, added 930 (eff 65.63%) (0.0931 FP/event)\n"
     ]
    },
    {
     "data": {
      "application/vnd.jupyter.widget-view+json": {
       "model_id": "",
       "version_major": 2,
       "version_minor": 0
      },
      "text/plain": [
       "HBox(children=(FloatProgress(value=0.0, description='Training', layout=Layout(flex='2'), max=1250.0, style=Pro…"
      ]
     },
     "metadata": {},
     "output_type": "display_data"
    },
    {
     "name": "stdout",
     "output_type": "stream",
     "text": [
      "Epoch 117: train=19.9565, val=18.6969, took 23.29 s\n",
      "  Validation Found 35821 of 54504, added 1002 (eff 65.72%) (0.1 FP/event)\n"
     ]
    },
    {
     "data": {
      "application/vnd.jupyter.widget-view+json": {
       "model_id": "",
       "version_major": 2,
       "version_minor": 0
      },
      "text/plain": [
       "HBox(children=(FloatProgress(value=0.0, description='Training', layout=Layout(flex='2'), max=1250.0, style=Pro…"
      ]
     },
     "metadata": {},
     "output_type": "display_data"
    },
    {
     "name": "stdout",
     "output_type": "stream",
     "text": [
      "Epoch 118: train=19.9553, val=18.7203, took 23.155 s\n",
      "  Validation Found 35813 of 54504, added 975 (eff 65.71%) (0.0976 FP/event)\n"
     ]
    },
    {
     "data": {
      "application/vnd.jupyter.widget-view+json": {
       "model_id": "",
       "version_major": 2,
       "version_minor": 0
      },
      "text/plain": [
       "HBox(children=(FloatProgress(value=0.0, description='Training', layout=Layout(flex='2'), max=1250.0, style=Pro…"
      ]
     },
     "metadata": {},
     "output_type": "display_data"
    },
    {
     "name": "stdout",
     "output_type": "stream",
     "text": [
      "Epoch 119: train=19.9425, val=18.7177, took 23.273 s\n",
      "  Validation Found 35790 of 54504, added 957 (eff 65.66%) (0.0958 FP/event)\n"
     ]
    },
    {
     "data": {
      "application/vnd.jupyter.widget-view+json": {
       "model_id": "",
       "version_major": 2,
       "version_minor": 0
      },
      "text/plain": [
       "HBox(children=(FloatProgress(value=0.0, description='Training', layout=Layout(flex='2'), max=1250.0, style=Pro…"
      ]
     },
     "metadata": {},
     "output_type": "display_data"
    },
    {
     "name": "stdout",
     "output_type": "stream",
     "text": [
      "Epoch 120: train=19.9419, val=18.6789, took 23.354 s\n",
      "  Validation Found 35684 of 54504, added 874 (eff 65.47%) (0.0875 FP/event)\n"
     ]
    },
    {
     "data": {
      "application/vnd.jupyter.widget-view+json": {
       "model_id": "",
       "version_major": 2,
       "version_minor": 0
      },
      "text/plain": [
       "HBox(children=(FloatProgress(value=0.0, description='Training', layout=Layout(flex='2'), max=1250.0, style=Pro…"
      ]
     },
     "metadata": {},
     "output_type": "display_data"
    },
    {
     "name": "stdout",
     "output_type": "stream",
     "text": [
      "Epoch 121: train=19.9362, val=18.7382, took 23.31 s\n",
      "  Validation Found 35866 of 54504, added 986 (eff 65.80%) (0.0987 FP/event)\n"
     ]
    },
    {
     "data": {
      "application/vnd.jupyter.widget-view+json": {
       "model_id": "",
       "version_major": 2,
       "version_minor": 0
      },
      "text/plain": [
       "HBox(children=(FloatProgress(value=0.0, description='Training', layout=Layout(flex='2'), max=1250.0, style=Pro…"
      ]
     },
     "metadata": {},
     "output_type": "display_data"
    },
    {
     "name": "stdout",
     "output_type": "stream",
     "text": [
      "Epoch 122: train=19.9293, val=18.7142, took 23.385 s\n",
      "  Validation Found 35809 of 54504, added 931 (eff 65.70%) (0.0932 FP/event)\n"
     ]
    },
    {
     "data": {
      "application/vnd.jupyter.widget-view+json": {
       "model_id": "",
       "version_major": 2,
       "version_minor": 0
      },
      "text/plain": [
       "HBox(children=(FloatProgress(value=0.0, description='Training', layout=Layout(flex='2'), max=1250.0, style=Pro…"
      ]
     },
     "metadata": {},
     "output_type": "display_data"
    },
    {
     "name": "stdout",
     "output_type": "stream",
     "text": [
      "Epoch 123: train=19.9267, val=18.7291, took 23.334 s\n",
      "  Validation Found 35853 of 54504, added 963 (eff 65.78%) (0.0964 FP/event)\n"
     ]
    },
    {
     "data": {
      "application/vnd.jupyter.widget-view+json": {
       "model_id": "",
       "version_major": 2,
       "version_minor": 0
      },
      "text/plain": [
       "HBox(children=(FloatProgress(value=0.0, description='Training', layout=Layout(flex='2'), max=1250.0, style=Pro…"
      ]
     },
     "metadata": {},
     "output_type": "display_data"
    },
    {
     "name": "stdout",
     "output_type": "stream",
     "text": [
      "Epoch 124: train=19.9273, val=18.7269, took 23.466 s\n",
      "  Validation Found 35834 of 54504, added 956 (eff 65.75%) (0.0957 FP/event)\n"
     ]
    },
    {
     "data": {
      "application/vnd.jupyter.widget-view+json": {
       "model_id": "",
       "version_major": 2,
       "version_minor": 0
      },
      "text/plain": [
       "HBox(children=(FloatProgress(value=0.0, description='Training', layout=Layout(flex='2'), max=1250.0, style=Pro…"
      ]
     },
     "metadata": {},
     "output_type": "display_data"
    },
    {
     "name": "stdout",
     "output_type": "stream",
     "text": [
      "Epoch 125: train=19.9203, val=18.7018, took 23.261 s\n",
      "  Validation Found 35845 of 54504, added 969 (eff 65.77%) (0.097 FP/event)\n"
     ]
    },
    {
     "data": {
      "application/vnd.jupyter.widget-view+json": {
       "model_id": "",
       "version_major": 2,
       "version_minor": 0
      },
      "text/plain": [
       "HBox(children=(FloatProgress(value=0.0, description='Training', layout=Layout(flex='2'), max=1250.0, style=Pro…"
      ]
     },
     "metadata": {},
     "output_type": "display_data"
    },
    {
     "name": "stdout",
     "output_type": "stream",
     "text": [
      "Epoch 126: train=19.9139, val=18.705, took 23.37 s\n",
      "  Validation Found 35745 of 54504, added 883 (eff 65.58%) (0.0884 FP/event)\n"
     ]
    },
    {
     "data": {
      "application/vnd.jupyter.widget-view+json": {
       "model_id": "",
       "version_major": 2,
       "version_minor": 0
      },
      "text/plain": [
       "HBox(children=(FloatProgress(value=0.0, description='Training', layout=Layout(flex='2'), max=1250.0, style=Pro…"
      ]
     },
     "metadata": {},
     "output_type": "display_data"
    },
    {
     "name": "stdout",
     "output_type": "stream",
     "text": [
      "Epoch 127: train=19.9073, val=18.6718, took 23.245 s\n",
      "  Validation Found 35846 of 54504, added 956 (eff 65.77%) (0.0957 FP/event)\n"
     ]
    },
    {
     "data": {
      "application/vnd.jupyter.widget-view+json": {
       "model_id": "",
       "version_major": 2,
       "version_minor": 0
      },
      "text/plain": [
       "HBox(children=(FloatProgress(value=0.0, description='Training', layout=Layout(flex='2'), max=1250.0, style=Pro…"
      ]
     },
     "metadata": {},
     "output_type": "display_data"
    },
    {
     "name": "stdout",
     "output_type": "stream",
     "text": [
      "Epoch 128: train=19.9075, val=18.7225, took 23.319 s\n",
      "  Validation Found 35867 of 54504, added 944 (eff 65.81%) (0.0945 FP/event)\n"
     ]
    },
    {
     "data": {
      "application/vnd.jupyter.widget-view+json": {
       "model_id": "",
       "version_major": 2,
       "version_minor": 0
      },
      "text/plain": [
       "HBox(children=(FloatProgress(value=0.0, description='Training', layout=Layout(flex='2'), max=1250.0, style=Pro…"
      ]
     },
     "metadata": {},
     "output_type": "display_data"
    },
    {
     "name": "stdout",
     "output_type": "stream",
     "text": [
      "Epoch 129: train=19.8989, val=18.6815, took 23.174 s\n",
      "  Validation Found 35813 of 54504, added 942 (eff 65.71%) (0.0943 FP/event)\n"
     ]
    },
    {
     "data": {
      "application/vnd.jupyter.widget-view+json": {
       "model_id": "",
       "version_major": 2,
       "version_minor": 0
      },
      "text/plain": [
       "HBox(children=(FloatProgress(value=0.0, description='Training', layout=Layout(flex='2'), max=1250.0, style=Pro…"
      ]
     },
     "metadata": {},
     "output_type": "display_data"
    },
    {
     "name": "stdout",
     "output_type": "stream",
     "text": [
      "Epoch 130: train=19.8894, val=18.6625, took 23.365 s\n",
      "  Validation Found 35890 of 54504, added 986 (eff 65.85%) (0.0987 FP/event)\n"
     ]
    },
    {
     "data": {
      "application/vnd.jupyter.widget-view+json": {
       "model_id": "",
       "version_major": 2,
       "version_minor": 0
      },
      "text/plain": [
       "HBox(children=(FloatProgress(value=0.0, description='Training', layout=Layout(flex='2'), max=1250.0, style=Pro…"
      ]
     },
     "metadata": {},
     "output_type": "display_data"
    },
    {
     "name": "stdout",
     "output_type": "stream",
     "text": [
      "Epoch 131: train=19.8862, val=18.7061, took 23.336 s\n",
      "  Validation Found 35889 of 54504, added 975 (eff 65.85%) (0.0976 FP/event)\n"
     ]
    },
    {
     "data": {
      "application/vnd.jupyter.widget-view+json": {
       "model_id": "",
       "version_major": 2,
       "version_minor": 0
      },
      "text/plain": [
       "HBox(children=(FloatProgress(value=0.0, description='Training', layout=Layout(flex='2'), max=1250.0, style=Pro…"
      ]
     },
     "metadata": {},
     "output_type": "display_data"
    },
    {
     "name": "stdout",
     "output_type": "stream",
     "text": [
      "Epoch 132: train=19.8822, val=18.6604, took 23.296 s\n",
      "  Validation Found 35845 of 54504, added 948 (eff 65.77%) (0.0949 FP/event)\n"
     ]
    },
    {
     "data": {
      "application/vnd.jupyter.widget-view+json": {
       "model_id": "",
       "version_major": 2,
       "version_minor": 0
      },
      "text/plain": [
       "HBox(children=(FloatProgress(value=0.0, description='Training', layout=Layout(flex='2'), max=1250.0, style=Pro…"
      ]
     },
     "metadata": {},
     "output_type": "display_data"
    },
    {
     "name": "stdout",
     "output_type": "stream",
     "text": [
      "Epoch 133: train=19.873, val=18.6805, took 23.522 s\n",
      "  Validation Found 35814 of 54504, added 907 (eff 65.71%) (0.0908 FP/event)\n"
     ]
    },
    {
     "data": {
      "application/vnd.jupyter.widget-view+json": {
       "model_id": "",
       "version_major": 2,
       "version_minor": 0
      },
      "text/plain": [
       "HBox(children=(FloatProgress(value=0.0, description='Training', layout=Layout(flex='2'), max=1250.0, style=Pro…"
      ]
     },
     "metadata": {},
     "output_type": "display_data"
    },
    {
     "name": "stdout",
     "output_type": "stream",
     "text": [
      "Epoch 134: train=19.8829, val=18.6803, took 23.294 s\n",
      "  Validation Found 35828 of 54504, added 902 (eff 65.73%) (0.0903 FP/event)\n"
     ]
    },
    {
     "data": {
      "application/vnd.jupyter.widget-view+json": {
       "model_id": "",
       "version_major": 2,
       "version_minor": 0
      },
      "text/plain": [
       "HBox(children=(FloatProgress(value=0.0, description='Training', layout=Layout(flex='2'), max=1250.0, style=Pro…"
      ]
     },
     "metadata": {},
     "output_type": "display_data"
    },
    {
     "name": "stdout",
     "output_type": "stream",
     "text": [
      "Epoch 135: train=19.8731, val=18.6435, took 23.371 s\n",
      "  Validation Found 35755 of 54504, added 883 (eff 65.60%) (0.0884 FP/event)\n"
     ]
    },
    {
     "data": {
      "application/vnd.jupyter.widget-view+json": {
       "model_id": "",
       "version_major": 2,
       "version_minor": 0
      },
      "text/plain": [
       "HBox(children=(FloatProgress(value=0.0, description='Training', layout=Layout(flex='2'), max=1250.0, style=Pro…"
      ]
     },
     "metadata": {},
     "output_type": "display_data"
    },
    {
     "name": "stdout",
     "output_type": "stream",
     "text": [
      "Epoch 136: train=19.8636, val=18.6322, took 23.237 s\n",
      "  Validation Found 35804 of 54504, added 906 (eff 65.69%) (0.0907 FP/event)\n"
     ]
    },
    {
     "data": {
      "application/vnd.jupyter.widget-view+json": {
       "model_id": "",
       "version_major": 2,
       "version_minor": 0
      },
      "text/plain": [
       "HBox(children=(FloatProgress(value=0.0, description='Training', layout=Layout(flex='2'), max=1250.0, style=Pro…"
      ]
     },
     "metadata": {},
     "output_type": "display_data"
    },
    {
     "name": "stdout",
     "output_type": "stream",
     "text": [
      "Epoch 137: train=19.8581, val=18.6584, took 23.954 s\n",
      "  Validation Found 35817 of 54504, added 923 (eff 65.71%) (0.0924 FP/event)\n"
     ]
    },
    {
     "data": {
      "application/vnd.jupyter.widget-view+json": {
       "model_id": "",
       "version_major": 2,
       "version_minor": 0
      },
      "text/plain": [
       "HBox(children=(FloatProgress(value=0.0, description='Training', layout=Layout(flex='2'), max=1250.0, style=Pro…"
      ]
     },
     "metadata": {},
     "output_type": "display_data"
    },
    {
     "name": "stdout",
     "output_type": "stream",
     "text": [
      "Epoch 138: train=19.8594, val=18.6598, took 23.25 s\n",
      "  Validation Found 35865 of 54504, added 952 (eff 65.80%) (0.0953 FP/event)\n"
     ]
    },
    {
     "data": {
      "application/vnd.jupyter.widget-view+json": {
       "model_id": "",
       "version_major": 2,
       "version_minor": 0
      },
      "text/plain": [
       "HBox(children=(FloatProgress(value=0.0, description='Training', layout=Layout(flex='2'), max=1250.0, style=Pro…"
      ]
     },
     "metadata": {},
     "output_type": "display_data"
    },
    {
     "name": "stdout",
     "output_type": "stream",
     "text": [
      "Epoch 139: train=19.8515, val=18.6735, took 23.15 s\n",
      "  Validation Found 35852 of 54504, added 958 (eff 65.78%) (0.0959 FP/event)\n"
     ]
    },
    {
     "data": {
      "application/vnd.jupyter.widget-view+json": {
       "model_id": "",
       "version_major": 2,
       "version_minor": 0
      },
      "text/plain": [
       "HBox(children=(FloatProgress(value=0.0, description='Training', layout=Layout(flex='2'), max=1250.0, style=Pro…"
      ]
     },
     "metadata": {},
     "output_type": "display_data"
    },
    {
     "name": "stdout",
     "output_type": "stream",
     "text": [
      "Epoch 140: train=19.8465, val=18.6555, took 23.52 s\n",
      "  Validation Found 35790 of 54504, added 884 (eff 65.66%) (0.0885 FP/event)\n"
     ]
    },
    {
     "data": {
      "application/vnd.jupyter.widget-view+json": {
       "model_id": "",
       "version_major": 2,
       "version_minor": 0
      },
      "text/plain": [
       "HBox(children=(FloatProgress(value=0.0, description='Training', layout=Layout(flex='2'), max=1250.0, style=Pro…"
      ]
     },
     "metadata": {},
     "output_type": "display_data"
    },
    {
     "name": "stdout",
     "output_type": "stream",
     "text": [
      "Epoch 141: train=19.8426, val=18.647, took 23.224 s\n",
      "  Validation Found 35890 of 54504, added 998 (eff 65.85%) (0.0999 FP/event)\n"
     ]
    },
    {
     "data": {
      "application/vnd.jupyter.widget-view+json": {
       "model_id": "",
       "version_major": 2,
       "version_minor": 0
      },
      "text/plain": [
       "HBox(children=(FloatProgress(value=0.0, description='Training', layout=Layout(flex='2'), max=1250.0, style=Pro…"
      ]
     },
     "metadata": {},
     "output_type": "display_data"
    },
    {
     "name": "stdout",
     "output_type": "stream",
     "text": [
      "Epoch 142: train=19.835, val=18.6544, took 23.449 s\n",
      "  Validation Found 35845 of 54504, added 925 (eff 65.77%) (0.0926 FP/event)\n"
     ]
    },
    {
     "data": {
      "application/vnd.jupyter.widget-view+json": {
       "model_id": "",
       "version_major": 2,
       "version_minor": 0
      },
      "text/plain": [
       "HBox(children=(FloatProgress(value=0.0, description='Training', layout=Layout(flex='2'), max=1250.0, style=Pro…"
      ]
     },
     "metadata": {},
     "output_type": "display_data"
    },
    {
     "name": "stdout",
     "output_type": "stream",
     "text": [
      "Epoch 143: train=19.8435, val=18.6498, took 23.273 s\n",
      "  Validation Found 35832 of 54504, added 902 (eff 65.74%) (0.0903 FP/event)\n"
     ]
    },
    {
     "data": {
      "application/vnd.jupyter.widget-view+json": {
       "model_id": "",
       "version_major": 2,
       "version_minor": 0
      },
      "text/plain": [
       "HBox(children=(FloatProgress(value=0.0, description='Training', layout=Layout(flex='2'), max=1250.0, style=Pro…"
      ]
     },
     "metadata": {},
     "output_type": "display_data"
    },
    {
     "name": "stdout",
     "output_type": "stream",
     "text": [
      "Epoch 144: train=19.8273, val=18.6834, took 23.278 s\n",
      "  Validation Found 35964 of 54504, added 1017 (eff 65.98%) (0.102 FP/event)\n"
     ]
    },
    {
     "data": {
      "application/vnd.jupyter.widget-view+json": {
       "model_id": "",
       "version_major": 2,
       "version_minor": 0
      },
      "text/plain": [
       "HBox(children=(FloatProgress(value=0.0, description='Training', layout=Layout(flex='2'), max=1250.0, style=Pro…"
      ]
     },
     "metadata": {},
     "output_type": "display_data"
    },
    {
     "name": "stdout",
     "output_type": "stream",
     "text": [
      "Epoch 145: train=19.8266, val=18.6731, took 23.318 s\n",
      "  Validation Found 35871 of 54504, added 941 (eff 65.81%) (0.0942 FP/event)\n"
     ]
    },
    {
     "data": {
      "application/vnd.jupyter.widget-view+json": {
       "model_id": "",
       "version_major": 2,
       "version_minor": 0
      },
      "text/plain": [
       "HBox(children=(FloatProgress(value=0.0, description='Training', layout=Layout(flex='2'), max=1250.0, style=Pro…"
      ]
     },
     "metadata": {},
     "output_type": "display_data"
    },
    {
     "name": "stdout",
     "output_type": "stream",
     "text": [
      "Epoch 146: train=19.8265, val=18.6414, took 23.316 s\n",
      "  Validation Found 35861 of 54504, added 947 (eff 65.80%) (0.0948 FP/event)\n"
     ]
    },
    {
     "data": {
      "application/vnd.jupyter.widget-view+json": {
       "model_id": "",
       "version_major": 2,
       "version_minor": 0
      },
      "text/plain": [
       "HBox(children=(FloatProgress(value=0.0, description='Training', layout=Layout(flex='2'), max=1250.0, style=Pro…"
      ]
     },
     "metadata": {},
     "output_type": "display_data"
    },
    {
     "name": "stdout",
     "output_type": "stream",
     "text": [
      "Epoch 147: train=19.8121, val=18.6167, took 23.268 s\n",
      "  Validation Found 35829 of 54504, added 906 (eff 65.74%) (0.0907 FP/event)\n"
     ]
    },
    {
     "data": {
      "application/vnd.jupyter.widget-view+json": {
       "model_id": "",
       "version_major": 2,
       "version_minor": 0
      },
      "text/plain": [
       "HBox(children=(FloatProgress(value=0.0, description='Training', layout=Layout(flex='2'), max=1250.0, style=Pro…"
      ]
     },
     "metadata": {},
     "output_type": "display_data"
    },
    {
     "name": "stdout",
     "output_type": "stream",
     "text": [
      "Epoch 148: train=19.812, val=18.6228, took 23.224 s\n",
      "  Validation Found 35811 of 54504, added 882 (eff 65.70%) (0.0883 FP/event)\n"
     ]
    },
    {
     "data": {
      "application/vnd.jupyter.widget-view+json": {
       "model_id": "",
       "version_major": 2,
       "version_minor": 0
      },
      "text/plain": [
       "HBox(children=(FloatProgress(value=0.0, description='Training', layout=Layout(flex='2'), max=1250.0, style=Pro…"
      ]
     },
     "metadata": {},
     "output_type": "display_data"
    },
    {
     "name": "stdout",
     "output_type": "stream",
     "text": [
      "Epoch 149: train=19.8147, val=18.6254, took 23.329 s\n",
      "  Validation Found 35851 of 54504, added 953 (eff 65.78%) (0.0954 FP/event)\n"
     ]
    },
    {
     "data": {
      "application/vnd.jupyter.widget-view+json": {
       "model_id": "",
       "version_major": 2,
       "version_minor": 0
      },
      "text/plain": [
       "HBox(children=(FloatProgress(value=0.0, description='Training', layout=Layout(flex='2'), max=1250.0, style=Pro…"
      ]
     },
     "metadata": {},
     "output_type": "display_data"
    },
    {
     "name": "stdout",
     "output_type": "stream",
     "text": [
      "Epoch 150: train=19.8087, val=18.6199, took 23.144 s\n",
      "  Validation Found 35884 of 54504, added 955 (eff 65.84%) (0.0956 FP/event)\n"
     ]
    },
    {
     "data": {
      "application/vnd.jupyter.widget-view+json": {
       "model_id": "",
       "version_major": 2,
       "version_minor": 0
      },
      "text/plain": [
       "HBox(children=(FloatProgress(value=0.0, description='Training', layout=Layout(flex='2'), max=1250.0, style=Pro…"
      ]
     },
     "metadata": {},
     "output_type": "display_data"
    },
    {
     "name": "stdout",
     "output_type": "stream",
     "text": [
      "Epoch 151: train=19.8048, val=18.61, took 23.613 s\n",
      "  Validation Found 35857 of 54504, added 925 (eff 65.79%) (0.0926 FP/event)\n"
     ]
    },
    {
     "data": {
      "application/vnd.jupyter.widget-view+json": {
       "model_id": "",
       "version_major": 2,
       "version_minor": 0
      },
      "text/plain": [
       "HBox(children=(FloatProgress(value=0.0, description='Training', layout=Layout(flex='2'), max=1250.0, style=Pro…"
      ]
     },
     "metadata": {},
     "output_type": "display_data"
    },
    {
     "name": "stdout",
     "output_type": "stream",
     "text": [
      "Epoch 152: train=19.7938, val=18.6386, took 23.182 s\n",
      "  Validation Found 35890 of 54504, added 960 (eff 65.85%) (0.0961 FP/event)\n"
     ]
    },
    {
     "data": {
      "application/vnd.jupyter.widget-view+json": {
       "model_id": "",
       "version_major": 2,
       "version_minor": 0
      },
      "text/plain": [
       "HBox(children=(FloatProgress(value=0.0, description='Training', layout=Layout(flex='2'), max=1250.0, style=Pro…"
      ]
     },
     "metadata": {},
     "output_type": "display_data"
    },
    {
     "name": "stdout",
     "output_type": "stream",
     "text": [
      "Epoch 153: train=19.7939, val=18.6167, took 23.089 s\n",
      "  Validation Found 35865 of 54504, added 957 (eff 65.80%) (0.0958 FP/event)\n"
     ]
    },
    {
     "data": {
      "application/vnd.jupyter.widget-view+json": {
       "model_id": "",
       "version_major": 2,
       "version_minor": 0
      },
      "text/plain": [
       "HBox(children=(FloatProgress(value=0.0, description='Training', layout=Layout(flex='2'), max=1250.0, style=Pro…"
      ]
     },
     "metadata": {},
     "output_type": "display_data"
    },
    {
     "name": "stdout",
     "output_type": "stream",
     "text": [
      "Epoch 154: train=19.7892, val=18.6139, took 23.486 s\n",
      "  Validation Found 35864 of 54504, added 947 (eff 65.80%) (0.0948 FP/event)\n"
     ]
    },
    {
     "data": {
      "application/vnd.jupyter.widget-view+json": {
       "model_id": "",
       "version_major": 2,
       "version_minor": 0
      },
      "text/plain": [
       "HBox(children=(FloatProgress(value=0.0, description='Training', layout=Layout(flex='2'), max=1250.0, style=Pro…"
      ]
     },
     "metadata": {},
     "output_type": "display_data"
    },
    {
     "name": "stdout",
     "output_type": "stream",
     "text": [
      "Epoch 155: train=19.7941, val=18.5879, took 23.295 s\n",
      "  Validation Found 35866 of 54504, added 931 (eff 65.80%) (0.0932 FP/event)\n"
     ]
    },
    {
     "data": {
      "application/vnd.jupyter.widget-view+json": {
       "model_id": "",
       "version_major": 2,
       "version_minor": 0
      },
      "text/plain": [
       "HBox(children=(FloatProgress(value=0.0, description='Training', layout=Layout(flex='2'), max=1250.0, style=Pro…"
      ]
     },
     "metadata": {},
     "output_type": "display_data"
    },
    {
     "name": "stdout",
     "output_type": "stream",
     "text": [
      "Epoch 156: train=19.7855, val=18.6048, took 23.546 s\n",
      "  Validation Found 35853 of 54504, added 940 (eff 65.78%) (0.0941 FP/event)\n"
     ]
    },
    {
     "data": {
      "application/vnd.jupyter.widget-view+json": {
       "model_id": "",
       "version_major": 2,
       "version_minor": 0
      },
      "text/plain": [
       "HBox(children=(FloatProgress(value=0.0, description='Training', layout=Layout(flex='2'), max=1250.0, style=Pro…"
      ]
     },
     "metadata": {},
     "output_type": "display_data"
    },
    {
     "name": "stdout",
     "output_type": "stream",
     "text": [
      "Epoch 157: train=19.7787, val=18.5927, took 23.304 s\n",
      "  Validation Found 35816 of 54504, added 896 (eff 65.71%) (0.0897 FP/event)\n"
     ]
    },
    {
     "data": {
      "application/vnd.jupyter.widget-view+json": {
       "model_id": "",
       "version_major": 2,
       "version_minor": 0
      },
      "text/plain": [
       "HBox(children=(FloatProgress(value=0.0, description='Training', layout=Layout(flex='2'), max=1250.0, style=Pro…"
      ]
     },
     "metadata": {},
     "output_type": "display_data"
    },
    {
     "name": "stdout",
     "output_type": "stream",
     "text": [
      "Epoch 158: train=19.7741, val=18.6035, took 23.363 s\n",
      "  Validation Found 35821 of 54504, added 904 (eff 65.72%) (0.0905 FP/event)\n"
     ]
    },
    {
     "data": {
      "application/vnd.jupyter.widget-view+json": {
       "model_id": "",
       "version_major": 2,
       "version_minor": 0
      },
      "text/plain": [
       "HBox(children=(FloatProgress(value=0.0, description='Training', layout=Layout(flex='2'), max=1250.0, style=Pro…"
      ]
     },
     "metadata": {},
     "output_type": "display_data"
    },
    {
     "name": "stdout",
     "output_type": "stream",
     "text": [
      "Epoch 159: train=19.7736, val=18.5898, took 23.226 s\n",
      "  Validation Found 35760 of 54504, added 846 (eff 65.61%) (0.0847 FP/event)\n"
     ]
    },
    {
     "data": {
      "application/vnd.jupyter.widget-view+json": {
       "model_id": "",
       "version_major": 2,
       "version_minor": 0
      },
      "text/plain": [
       "HBox(children=(FloatProgress(value=0.0, description='Training', layout=Layout(flex='2'), max=1250.0, style=Pro…"
      ]
     },
     "metadata": {},
     "output_type": "display_data"
    },
    {
     "name": "stdout",
     "output_type": "stream",
     "text": [
      "Epoch 160: train=19.7766, val=18.5856, took 23.527 s\n",
      "  Validation Found 35928 of 54504, added 950 (eff 65.92%) (0.0951 FP/event)\n"
     ]
    },
    {
     "data": {
      "application/vnd.jupyter.widget-view+json": {
       "model_id": "",
       "version_major": 2,
       "version_minor": 0
      },
      "text/plain": [
       "HBox(children=(FloatProgress(value=0.0, description='Training', layout=Layout(flex='2'), max=1250.0, style=Pro…"
      ]
     },
     "metadata": {},
     "output_type": "display_data"
    },
    {
     "name": "stdout",
     "output_type": "stream",
     "text": [
      "Epoch 161: train=19.7699, val=18.5807, took 23.058 s\n",
      "  Validation Found 35795 of 54504, added 886 (eff 65.67%) (0.0887 FP/event)\n"
     ]
    },
    {
     "data": {
      "application/vnd.jupyter.widget-view+json": {
       "model_id": "",
       "version_major": 2,
       "version_minor": 0
      },
      "text/plain": [
       "HBox(children=(FloatProgress(value=0.0, description='Training', layout=Layout(flex='2'), max=1250.0, style=Pro…"
      ]
     },
     "metadata": {},
     "output_type": "display_data"
    },
    {
     "name": "stdout",
     "output_type": "stream",
     "text": [
      "Epoch 162: train=19.7639, val=18.5892, took 23.193 s\n",
      "  Validation Found 35871 of 54504, added 946 (eff 65.81%) (0.0947 FP/event)\n"
     ]
    },
    {
     "data": {
      "application/vnd.jupyter.widget-view+json": {
       "model_id": "",
       "version_major": 2,
       "version_minor": 0
      },
      "text/plain": [
       "HBox(children=(FloatProgress(value=0.0, description='Training', layout=Layout(flex='2'), max=1250.0, style=Pro…"
      ]
     },
     "metadata": {},
     "output_type": "display_data"
    },
    {
     "name": "stdout",
     "output_type": "stream",
     "text": [
      "Epoch 163: train=19.764, val=18.6008, took 23.427 s\n",
      "  Validation Found 35889 of 54504, added 939 (eff 65.85%) (0.094 FP/event)\n"
     ]
    },
    {
     "data": {
      "application/vnd.jupyter.widget-view+json": {
       "model_id": "",
       "version_major": 2,
       "version_minor": 0
      },
      "text/plain": [
       "HBox(children=(FloatProgress(value=0.0, description='Training', layout=Layout(flex='2'), max=1250.0, style=Pro…"
      ]
     },
     "metadata": {},
     "output_type": "display_data"
    },
    {
     "name": "stdout",
     "output_type": "stream",
     "text": [
      "Epoch 164: train=19.7672, val=18.5721, took 23.195 s\n",
      "  Validation Found 35860 of 54504, added 892 (eff 65.79%) (0.0893 FP/event)\n"
     ]
    },
    {
     "data": {
      "application/vnd.jupyter.widget-view+json": {
       "model_id": "",
       "version_major": 2,
       "version_minor": 0
      },
      "text/plain": [
       "HBox(children=(FloatProgress(value=0.0, description='Training', layout=Layout(flex='2'), max=1250.0, style=Pro…"
      ]
     },
     "metadata": {},
     "output_type": "display_data"
    },
    {
     "name": "stdout",
     "output_type": "stream",
     "text": [
      "Epoch 165: train=19.7582, val=18.5737, took 23.327 s\n",
      "  Validation Found 35873 of 54504, added 948 (eff 65.82%) (0.0949 FP/event)\n"
     ]
    },
    {
     "data": {
      "application/vnd.jupyter.widget-view+json": {
       "model_id": "",
       "version_major": 2,
       "version_minor": 0
      },
      "text/plain": [
       "HBox(children=(FloatProgress(value=0.0, description='Training', layout=Layout(flex='2'), max=1250.0, style=Pro…"
      ]
     },
     "metadata": {},
     "output_type": "display_data"
    },
    {
     "name": "stdout",
     "output_type": "stream",
     "text": [
      "Epoch 166: train=19.7615, val=18.5886, took 23.201 s\n",
      "  Validation Found 35821 of 54504, added 910 (eff 65.72%) (0.0911 FP/event)\n"
     ]
    },
    {
     "data": {
      "application/vnd.jupyter.widget-view+json": {
       "model_id": "",
       "version_major": 2,
       "version_minor": 0
      },
      "text/plain": [
       "HBox(children=(FloatProgress(value=0.0, description='Training', layout=Layout(flex='2'), max=1250.0, style=Pro…"
      ]
     },
     "metadata": {},
     "output_type": "display_data"
    },
    {
     "name": "stdout",
     "output_type": "stream",
     "text": [
      "Epoch 167: train=19.7558, val=18.5748, took 23.594 s\n",
      "  Validation Found 35907 of 54504, added 990 (eff 65.88%) (0.0991 FP/event)\n"
     ]
    },
    {
     "data": {
      "application/vnd.jupyter.widget-view+json": {
       "model_id": "",
       "version_major": 2,
       "version_minor": 0
      },
      "text/plain": [
       "HBox(children=(FloatProgress(value=0.0, description='Training', layout=Layout(flex='2'), max=1250.0, style=Pro…"
      ]
     },
     "metadata": {},
     "output_type": "display_data"
    },
    {
     "name": "stdout",
     "output_type": "stream",
     "text": [
      "Epoch 168: train=19.7509, val=18.578, took 23.242 s\n",
      "  Validation Found 35850 of 54504, added 915 (eff 65.77%) (0.0916 FP/event)\n"
     ]
    },
    {
     "data": {
      "application/vnd.jupyter.widget-view+json": {
       "model_id": "",
       "version_major": 2,
       "version_minor": 0
      },
      "text/plain": [
       "HBox(children=(FloatProgress(value=0.0, description='Training', layout=Layout(flex='2'), max=1250.0, style=Pro…"
      ]
     },
     "metadata": {},
     "output_type": "display_data"
    },
    {
     "name": "stdout",
     "output_type": "stream",
     "text": [
      "Epoch 169: train=19.7489, val=18.5813, took 23.213 s\n",
      "  Validation Found 35914 of 54504, added 970 (eff 65.89%) (0.0971 FP/event)\n"
     ]
    },
    {
     "data": {
      "application/vnd.jupyter.widget-view+json": {
       "model_id": "",
       "version_major": 2,
       "version_minor": 0
      },
      "text/plain": [
       "HBox(children=(FloatProgress(value=0.0, description='Training', layout=Layout(flex='2'), max=1250.0, style=Pro…"
      ]
     },
     "metadata": {},
     "output_type": "display_data"
    },
    {
     "name": "stdout",
     "output_type": "stream",
     "text": [
      "Epoch 170: train=19.7443, val=18.6016, took 23.081 s\n",
      "  Validation Found 35929 of 54504, added 986 (eff 65.92%) (0.0987 FP/event)\n"
     ]
    },
    {
     "data": {
      "application/vnd.jupyter.widget-view+json": {
       "model_id": "",
       "version_major": 2,
       "version_minor": 0
      },
      "text/plain": [
       "HBox(children=(FloatProgress(value=0.0, description='Training', layout=Layout(flex='2'), max=1250.0, style=Pro…"
      ]
     },
     "metadata": {},
     "output_type": "display_data"
    },
    {
     "name": "stdout",
     "output_type": "stream",
     "text": [
      "Epoch 171: train=19.7427, val=18.5941, took 23.508 s\n",
      "  Validation Found 35845 of 54504, added 904 (eff 65.77%) (0.0905 FP/event)\n"
     ]
    },
    {
     "data": {
      "application/vnd.jupyter.widget-view+json": {
       "model_id": "",
       "version_major": 2,
       "version_minor": 0
      },
      "text/plain": [
       "HBox(children=(FloatProgress(value=0.0, description='Training', layout=Layout(flex='2'), max=1250.0, style=Pro…"
      ]
     },
     "metadata": {},
     "output_type": "display_data"
    },
    {
     "name": "stdout",
     "output_type": "stream",
     "text": [
      "Epoch 172: train=19.736, val=18.5641, took 23.478 s\n",
      "  Validation Found 35819 of 54504, added 903 (eff 65.72%) (0.0904 FP/event)\n"
     ]
    },
    {
     "data": {
      "application/vnd.jupyter.widget-view+json": {
       "model_id": "",
       "version_major": 2,
       "version_minor": 0
      },
      "text/plain": [
       "HBox(children=(FloatProgress(value=0.0, description='Training', layout=Layout(flex='2'), max=1250.0, style=Pro…"
      ]
     },
     "metadata": {},
     "output_type": "display_data"
    },
    {
     "name": "stdout",
     "output_type": "stream",
     "text": [
      "Epoch 173: train=19.7426, val=18.55, took 23.204 s\n",
      "  Validation Found 35844 of 54504, added 906 (eff 65.76%) (0.0907 FP/event)\n"
     ]
    },
    {
     "data": {
      "application/vnd.jupyter.widget-view+json": {
       "model_id": "",
       "version_major": 2,
       "version_minor": 0
      },
      "text/plain": [
       "HBox(children=(FloatProgress(value=0.0, description='Training', layout=Layout(flex='2'), max=1250.0, style=Pro…"
      ]
     },
     "metadata": {},
     "output_type": "display_data"
    },
    {
     "name": "stdout",
     "output_type": "stream",
     "text": [
      "Epoch 174: train=19.7305, val=18.5532, took 23.086 s\n",
      "  Validation Found 35855 of 54504, added 924 (eff 65.78%) (0.0925 FP/event)\n"
     ]
    },
    {
     "data": {
      "application/vnd.jupyter.widget-view+json": {
       "model_id": "",
       "version_major": 2,
       "version_minor": 0
      },
      "text/plain": [
       "HBox(children=(FloatProgress(value=0.0, description='Training', layout=Layout(flex='2'), max=1250.0, style=Pro…"
      ]
     },
     "metadata": {},
     "output_type": "display_data"
    },
    {
     "name": "stdout",
     "output_type": "stream",
     "text": [
      "Epoch 175: train=19.7299, val=18.5825, took 23.344 s\n",
      "  Validation Found 35908 of 54504, added 983 (eff 65.88%) (0.0984 FP/event)\n"
     ]
    },
    {
     "data": {
      "application/vnd.jupyter.widget-view+json": {
       "model_id": "",
       "version_major": 2,
       "version_minor": 0
      },
      "text/plain": [
       "HBox(children=(FloatProgress(value=0.0, description='Training', layout=Layout(flex='2'), max=1250.0, style=Pro…"
      ]
     },
     "metadata": {},
     "output_type": "display_data"
    },
    {
     "name": "stdout",
     "output_type": "stream",
     "text": [
      "Epoch 176: train=19.7295, val=18.5493, took 23.555 s\n",
      "  Validation Found 35863 of 54504, added 950 (eff 65.80%) (0.0951 FP/event)\n"
     ]
    },
    {
     "data": {
      "application/vnd.jupyter.widget-view+json": {
       "model_id": "",
       "version_major": 2,
       "version_minor": 0
      },
      "text/plain": [
       "HBox(children=(FloatProgress(value=0.0, description='Training', layout=Layout(flex='2'), max=1250.0, style=Pro…"
      ]
     },
     "metadata": {},
     "output_type": "display_data"
    },
    {
     "name": "stdout",
     "output_type": "stream",
     "text": [
      "Epoch 177: train=19.7234, val=18.5512, took 23.267 s\n",
      "  Validation Found 35846 of 54504, added 926 (eff 65.77%) (0.0927 FP/event)\n"
     ]
    },
    {
     "data": {
      "application/vnd.jupyter.widget-view+json": {
       "model_id": "",
       "version_major": 2,
       "version_minor": 0
      },
      "text/plain": [
       "HBox(children=(FloatProgress(value=0.0, description='Training', layout=Layout(flex='2'), max=1250.0, style=Pro…"
      ]
     },
     "metadata": {},
     "output_type": "display_data"
    },
    {
     "name": "stdout",
     "output_type": "stream",
     "text": [
      "Epoch 178: train=19.7281, val=18.5409, took 23.387 s\n",
      "  Validation Found 35843 of 54504, added 904 (eff 65.76%) (0.0905 FP/event)\n"
     ]
    },
    {
     "data": {
      "application/vnd.jupyter.widget-view+json": {
       "model_id": "",
       "version_major": 2,
       "version_minor": 0
      },
      "text/plain": [
       "HBox(children=(FloatProgress(value=0.0, description='Training', layout=Layout(flex='2'), max=1250.0, style=Pro…"
      ]
     },
     "metadata": {},
     "output_type": "display_data"
    },
    {
     "name": "stdout",
     "output_type": "stream",
     "text": [
      "Epoch 179: train=19.7204, val=18.5418, took 23.026 s\n",
      "  Validation Found 35839 of 54504, added 926 (eff 65.75%) (0.0927 FP/event)\n"
     ]
    },
    {
     "data": {
      "application/vnd.jupyter.widget-view+json": {
       "model_id": "",
       "version_major": 2,
       "version_minor": 0
      },
      "text/plain": [
       "HBox(children=(FloatProgress(value=0.0, description='Training', layout=Layout(flex='2'), max=1250.0, style=Pro…"
      ]
     },
     "metadata": {},
     "output_type": "display_data"
    },
    {
     "name": "stdout",
     "output_type": "stream",
     "text": [
      "Epoch 180: train=19.7098, val=18.5411, took 23.259 s\n",
      "  Validation Found 35888 of 54504, added 954 (eff 65.84%) (0.0955 FP/event)\n"
     ]
    },
    {
     "data": {
      "application/vnd.jupyter.widget-view+json": {
       "model_id": "",
       "version_major": 2,
       "version_minor": 0
      },
      "text/plain": [
       "HBox(children=(FloatProgress(value=0.0, description='Training', layout=Layout(flex='2'), max=1250.0, style=Pro…"
      ]
     },
     "metadata": {},
     "output_type": "display_data"
    },
    {
     "name": "stdout",
     "output_type": "stream",
     "text": [
      "Epoch 181: train=19.7126, val=18.5804, took 23.199 s\n",
      "  Validation Found 35874 of 54504, added 926 (eff 65.82%) (0.0927 FP/event)\n"
     ]
    },
    {
     "data": {
      "application/vnd.jupyter.widget-view+json": {
       "model_id": "",
       "version_major": 2,
       "version_minor": 0
      },
      "text/plain": [
       "HBox(children=(FloatProgress(value=0.0, description='Training', layout=Layout(flex='2'), max=1250.0, style=Pro…"
      ]
     },
     "metadata": {},
     "output_type": "display_data"
    },
    {
     "name": "stdout",
     "output_type": "stream",
     "text": [
      "Epoch 182: train=19.7163, val=18.5516, took 23.305 s\n",
      "  Validation Found 35886 of 54504, added 945 (eff 65.84%) (0.0946 FP/event)\n"
     ]
    },
    {
     "data": {
      "application/vnd.jupyter.widget-view+json": {
       "model_id": "",
       "version_major": 2,
       "version_minor": 0
      },
      "text/plain": [
       "HBox(children=(FloatProgress(value=0.0, description='Training', layout=Layout(flex='2'), max=1250.0, style=Pro…"
      ]
     },
     "metadata": {},
     "output_type": "display_data"
    },
    {
     "name": "stdout",
     "output_type": "stream",
     "text": [
      "Epoch 183: train=19.7072, val=18.5642, took 23.173 s\n",
      "  Validation Found 35827 of 54504, added 891 (eff 65.73%) (0.0892 FP/event)\n"
     ]
    },
    {
     "data": {
      "application/vnd.jupyter.widget-view+json": {
       "model_id": "",
       "version_major": 2,
       "version_minor": 0
      },
      "text/plain": [
       "HBox(children=(FloatProgress(value=0.0, description='Training', layout=Layout(flex='2'), max=1250.0, style=Pro…"
      ]
     },
     "metadata": {},
     "output_type": "display_data"
    },
    {
     "name": "stdout",
     "output_type": "stream",
     "text": [
      "Epoch 184: train=19.7128, val=18.5459, took 23.397 s\n",
      "  Validation Found 35940 of 54504, added 974 (eff 65.94%) (0.0975 FP/event)\n"
     ]
    },
    {
     "data": {
      "application/vnd.jupyter.widget-view+json": {
       "model_id": "",
       "version_major": 2,
       "version_minor": 0
      },
      "text/plain": [
       "HBox(children=(FloatProgress(value=0.0, description='Training', layout=Layout(flex='2'), max=1250.0, style=Pro…"
      ]
     },
     "metadata": {},
     "output_type": "display_data"
    },
    {
     "name": "stdout",
     "output_type": "stream",
     "text": [
      "Epoch 185: train=19.7023, val=18.5382, took 23.3 s\n",
      "  Validation Found 35863 of 54504, added 936 (eff 65.80%) (0.0937 FP/event)\n"
     ]
    },
    {
     "data": {
      "application/vnd.jupyter.widget-view+json": {
       "model_id": "",
       "version_major": 2,
       "version_minor": 0
      },
      "text/plain": [
       "HBox(children=(FloatProgress(value=0.0, description='Training', layout=Layout(flex='2'), max=1250.0, style=Pro…"
      ]
     },
     "metadata": {},
     "output_type": "display_data"
    },
    {
     "name": "stdout",
     "output_type": "stream",
     "text": [
      "Epoch 186: train=19.7023, val=18.5223, took 23.652 s\n",
      "  Validation Found 35812 of 54504, added 876 (eff 65.71%) (0.0877 FP/event)\n"
     ]
    },
    {
     "data": {
      "application/vnd.jupyter.widget-view+json": {
       "model_id": "",
       "version_major": 2,
       "version_minor": 0
      },
      "text/plain": [
       "HBox(children=(FloatProgress(value=0.0, description='Training', layout=Layout(flex='2'), max=1250.0, style=Pro…"
      ]
     },
     "metadata": {},
     "output_type": "display_data"
    },
    {
     "name": "stdout",
     "output_type": "stream",
     "text": [
      "Epoch 187: train=19.7031, val=18.536, took 23.261 s\n",
      "  Validation Found 35926 of 54504, added 983 (eff 65.91%) (0.0984 FP/event)\n"
     ]
    },
    {
     "data": {
      "application/vnd.jupyter.widget-view+json": {
       "model_id": "",
       "version_major": 2,
       "version_minor": 0
      },
      "text/plain": [
       "HBox(children=(FloatProgress(value=0.0, description='Training', layout=Layout(flex='2'), max=1250.0, style=Pro…"
      ]
     },
     "metadata": {},
     "output_type": "display_data"
    },
    {
     "name": "stdout",
     "output_type": "stream",
     "text": [
      "Epoch 188: train=19.6948, val=18.5456, took 23.096 s\n",
      "  Validation Found 35869 of 54504, added 923 (eff 65.81%) (0.0924 FP/event)\n"
     ]
    },
    {
     "data": {
      "application/vnd.jupyter.widget-view+json": {
       "model_id": "",
       "version_major": 2,
       "version_minor": 0
      },
      "text/plain": [
       "HBox(children=(FloatProgress(value=0.0, description='Training', layout=Layout(flex='2'), max=1250.0, style=Pro…"
      ]
     },
     "metadata": {},
     "output_type": "display_data"
    },
    {
     "name": "stdout",
     "output_type": "stream",
     "text": [
      "Epoch 189: train=19.6991, val=18.5374, took 23.04 s\n",
      "  Validation Found 35799 of 54504, added 873 (eff 65.68%) (0.0874 FP/event)\n"
     ]
    },
    {
     "data": {
      "application/vnd.jupyter.widget-view+json": {
       "model_id": "",
       "version_major": 2,
       "version_minor": 0
      },
      "text/plain": [
       "HBox(children=(FloatProgress(value=0.0, description='Training', layout=Layout(flex='2'), max=1250.0, style=Pro…"
      ]
     },
     "metadata": {},
     "output_type": "display_data"
    },
    {
     "name": "stdout",
     "output_type": "stream",
     "text": [
      "Epoch 190: train=19.6906, val=18.554, took 23.209 s\n",
      "  Validation Found 35916 of 54504, added 957 (eff 65.90%) (0.0958 FP/event)\n"
     ]
    },
    {
     "data": {
      "application/vnd.jupyter.widget-view+json": {
       "model_id": "",
       "version_major": 2,
       "version_minor": 0
      },
      "text/plain": [
       "HBox(children=(FloatProgress(value=0.0, description='Training', layout=Layout(flex='2'), max=1250.0, style=Pro…"
      ]
     },
     "metadata": {},
     "output_type": "display_data"
    },
    {
     "name": "stdout",
     "output_type": "stream",
     "text": [
      "Epoch 191: train=19.6927, val=18.5689, took 23.24 s\n",
      "  Validation Found 35834 of 54504, added 892 (eff 65.75%) (0.0893 FP/event)\n"
     ]
    },
    {
     "data": {
      "application/vnd.jupyter.widget-view+json": {
       "model_id": "",
       "version_major": 2,
       "version_minor": 0
      },
      "text/plain": [
       "HBox(children=(FloatProgress(value=0.0, description='Training', layout=Layout(flex='2'), max=1250.0, style=Pro…"
      ]
     },
     "metadata": {},
     "output_type": "display_data"
    },
    {
     "name": "stdout",
     "output_type": "stream",
     "text": [
      "Epoch 192: train=19.6884, val=18.5581, took 23.326 s\n",
      "  Validation Found 35898 of 54504, added 955 (eff 65.86%) (0.0956 FP/event)\n"
     ]
    },
    {
     "data": {
      "application/vnd.jupyter.widget-view+json": {
       "model_id": "",
       "version_major": 2,
       "version_minor": 0
      },
      "text/plain": [
       "HBox(children=(FloatProgress(value=0.0, description='Training', layout=Layout(flex='2'), max=1250.0, style=Pro…"
      ]
     },
     "metadata": {},
     "output_type": "display_data"
    },
    {
     "name": "stdout",
     "output_type": "stream",
     "text": [
      "Epoch 193: train=19.6887, val=18.548, took 23.449 s\n",
      "  Validation Found 35954 of 54504, added 997 (eff 65.97%) (0.0998 FP/event)\n"
     ]
    },
    {
     "data": {
      "application/vnd.jupyter.widget-view+json": {
       "model_id": "",
       "version_major": 2,
       "version_minor": 0
      },
      "text/plain": [
       "HBox(children=(FloatProgress(value=0.0, description='Training', layout=Layout(flex='2'), max=1250.0, style=Pro…"
      ]
     },
     "metadata": {},
     "output_type": "display_data"
    },
    {
     "name": "stdout",
     "output_type": "stream",
     "text": [
      "Epoch 194: train=19.6912, val=18.5317, took 23.2 s\n",
      "  Validation Found 35840 of 54504, added 901 (eff 65.76%) (0.0902 FP/event)\n"
     ]
    },
    {
     "data": {
      "application/vnd.jupyter.widget-view+json": {
       "model_id": "",
       "version_major": 2,
       "version_minor": 0
      },
      "text/plain": [
       "HBox(children=(FloatProgress(value=0.0, description='Training', layout=Layout(flex='2'), max=1250.0, style=Pro…"
      ]
     },
     "metadata": {},
     "output_type": "display_data"
    },
    {
     "name": "stdout",
     "output_type": "stream",
     "text": [
      "Epoch 195: train=19.6844, val=18.5764, took 23.335 s\n",
      "  Validation Found 35865 of 54504, added 905 (eff 65.80%) (0.0906 FP/event)\n"
     ]
    },
    {
     "data": {
      "application/vnd.jupyter.widget-view+json": {
       "model_id": "",
       "version_major": 2,
       "version_minor": 0
      },
      "text/plain": [
       "HBox(children=(FloatProgress(value=0.0, description='Training', layout=Layout(flex='2'), max=1250.0, style=Pro…"
      ]
     },
     "metadata": {},
     "output_type": "display_data"
    },
    {
     "name": "stdout",
     "output_type": "stream",
     "text": [
      "Epoch 196: train=19.6778, val=18.5382, took 23.326 s\n",
      "  Validation Found 35781 of 54504, added 866 (eff 65.65%) (0.0867 FP/event)\n"
     ]
    },
    {
     "data": {
      "application/vnd.jupyter.widget-view+json": {
       "model_id": "",
       "version_major": 2,
       "version_minor": 0
      },
      "text/plain": [
       "HBox(children=(FloatProgress(value=0.0, description='Training', layout=Layout(flex='2'), max=1250.0, style=Pro…"
      ]
     },
     "metadata": {},
     "output_type": "display_data"
    },
    {
     "name": "stdout",
     "output_type": "stream",
     "text": [
      "Epoch 197: train=19.6737, val=18.5251, took 23.338 s\n",
      "  Validation Found 35893 of 54504, added 957 (eff 65.85%) (0.0958 FP/event)\n"
     ]
    },
    {
     "data": {
      "application/vnd.jupyter.widget-view+json": {
       "model_id": "",
       "version_major": 2,
       "version_minor": 0
      },
      "text/plain": [
       "HBox(children=(FloatProgress(value=0.0, description='Training', layout=Layout(flex='2'), max=1250.0, style=Pro…"
      ]
     },
     "metadata": {},
     "output_type": "display_data"
    },
    {
     "name": "stdout",
     "output_type": "stream",
     "text": [
      "Epoch 198: train=19.6823, val=18.5178, took 23.402 s\n",
      "  Validation Found 35834 of 54504, added 907 (eff 65.75%) (0.0908 FP/event)\n"
     ]
    },
    {
     "data": {
      "application/vnd.jupyter.widget-view+json": {
       "model_id": "",
       "version_major": 2,
       "version_minor": 0
      },
      "text/plain": [
       "HBox(children=(FloatProgress(value=0.0, description='Training', layout=Layout(flex='2'), max=1250.0, style=Pro…"
      ]
     },
     "metadata": {},
     "output_type": "display_data"
    },
    {
     "name": "stdout",
     "output_type": "stream",
     "text": [
      "Epoch 199: train=19.6743, val=18.5398, took 23.317 s\n",
      "  Validation Found 35924 of 54504, added 980 (eff 65.91%) (0.0981 FP/event)\n",
      "\n"
     ]
    }
   ],
   "source": [
    "print('for model: ', model)   \n",
    "run_name = 'SCNN-ACNN freeze'\n",
    "# Create an mlflow run\n",
    "with mlflow.start_run(run_name=run_name) as run:\n",
    "    # Log parameters of the model\n",
    "    for key, value in vars(args).items():\n",
    "        print(key, value)\n",
    "        mlflow.log_param(key, value)\n",
    "    \n",
    "    # Log parameter count in the model\n",
    "    mlflow.log_param('Parameters', count_parameters(model))\n",
    "    \n",
    "    # Begin run\n",
    "    for result in trainNet(model, optimizer, loss,\n",
    "                            train_loader, val_loader,\n",
    "                            args.epochs+args.epoch_start, epoch_start=args.epoch_start,\n",
    "                            notebook=True, device=device):\n",
    "\n",
    "        result = result._asdict()\n",
    "        results = results.append(pd.Series(result), ignore_index=True)\n",
    "        xs = results.index\n",
    "\n",
    "        # Update the plot above\n",
    "        lines['train'].set_data(results.index, results.cost)\n",
    "        lines['val'].set_data(results.index, results.val)\n",
    "\n",
    "        #filter first cost epoch (can be really large)\n",
    "        max_cost = max(max(results.cost if len(results.cost)<2 else results.cost[1:]), max(results.val))\n",
    "        min_cost = min(min(results.cost), min(results.val))\n",
    "    \n",
    "        # The plot limits need updating too\n",
    "        ax.set_ylim(min_cost*.9, max_cost*1.1)  \n",
    "        ax.set_xlim(-.5, len(results.cost) - .5)\n",
    "    \n",
    "        replace_in_ax(lax, lines['eff'], xs, results['eff_val'].apply(lambda x: x.eff_rate))\n",
    "        replace_in_ax(tax, lines['fp'], xs, results['eff_val'].apply(lambda x: x.fp_rate))\n",
    "    \n",
    "        # Redraw the figure\n",
    "        fig.canvas.draw()\n",
    "        plt.tight_layout()\n",
    "        fig.savefig('plot.png')\n",
    "            \n",
    "            \n",
    "        ## MLFLOW ##\n",
    "        # Log metrics\n",
    "        mlflow.log_metric('Efficiency', result['eff_val'].eff_rate, result['epoch'])\n",
    "        mlflow.log_metric('False Positive Rate',  result['eff_val'].fp_rate, result['epoch'])\n",
    "        mlflow.log_metric('Validation Loss',  result['val'], result['epoch'])\n",
    "        mlflow.log_metric('Training Loss',  result['cost'], result['epoch'])\n",
    "            \n",
    "        # Log tags\n",
    "#        mlflow.set_tag('Optimizer', 'Adam')\n",
    "#        mlflow.set_tag('Kernel size', 'Mixed')\n",
    "#        mlflow.set_tag('Skip connections', '4')\n",
    "#        mlflow.set_tag('Activation', 'Softplus')\n",
    "#        mlflow.set_tag('Mid Activation', 'Relu')\n",
    "\n",
    "        # Save model state dictionary, optimizer state dictionary, and epoch number\n",
    "        torch.save({\n",
    "            'model':model.state_dict(),\n",
    "            'optimizer':optimizer.state_dict(),\n",
    "            'epoch':args.epochs+result['epoch']\n",
    "            }, 'run_stats.pyt')\n",
    "        # Save the run stats into mlflow\n",
    "        mlflow.log_artifact('run_stats.pyt')\n",
    "            \n",
    "        # Save a diagram of the architecture\n",
    "        HL.transforms.Fold(\"Conv\", \"Conv\"),\n",
    "        HL.build_graph(model, torch.zeros([args.batch_size, 1, 4000]).to(device)).save('architecture', format='png')\n",
    "        mlflow.log_artifact('architecture.png')\n",
    "        \n",
    "        # log the code for the model architecture\n",
    "#        mlflow.log_artifact('architecture.txt')\n",
    "        \n",
    "        # save plot\n",
    "        mlflow.log_artifact('plot.png')"
   ]
  },
  {
   "cell_type": "code",
   "execution_count": 16,
   "metadata": {},
   "outputs": [],
   "source": [
    "##quit()"
   ]
  }
 ],
 "metadata": {
  "celltoolbar": "Raw Cell Format",
  "kernelspec": {
   "display_name": "goofit",
   "language": "python",
   "name": "goofit"
  },
  "language_info": {
   "codemirror_mode": {
    "name": "ipython",
    "version": 3
   },
   "file_extension": ".py",
   "mimetype": "text/x-python",
   "name": "python",
   "nbconvert_exporter": "python",
   "pygments_lexer": "ipython3",
   "version": "3.7.6"
  }
 },
 "nbformat": 4,
 "nbformat_minor": 2
}
