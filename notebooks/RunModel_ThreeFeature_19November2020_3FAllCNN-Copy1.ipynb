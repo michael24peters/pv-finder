{
 "cells": [
  {
   "cell_type": "code",
   "execution_count": 1,
   "metadata": {},
   "outputs": [],
   "source": [
    "##%matplotlib widget\n",
    "## with %matplotlib notebook: seems to require ipympl as part of environment, either\n",
    "## part of the conda environment or \"pip install ipympl\"\n",
    "## otherwise, does not show ANY plots in notebook, plt.savefig() works\n",
    "%matplotlib notebook  \n",
    "##%matplotlib inline    ## --plt.savefig()  works, but re-sizing does NOT"
   ]
  },
  {
   "cell_type": "markdown",
   "metadata": {},
   "source": [
    "This notebook is a short demo to illustrate execution.   For odd historical reasons, it uses \"toy Monte Carlo\" (simulated data)for \"training\" and \"full LHCB MC\" for validation.\n",
    "\n",
    "The network architecture is a \"simple\" model that uses 1 input channel (the KDE [kernel density estimator] but from the track parameters) feeding 5 convolutional layers followed by a fully connected layer.\n",
    "\n",
    "In today's version, the network will start with weights from a previously trained version.\n",
    " "
   ]
  },
  {
   "cell_type": "markdown",
   "metadata": {},
   "source": [
    "Check the current GPU usage. Please try to be nice!"
   ]
  },
  {
   "cell_type": "code",
   "execution_count": 2,
   "metadata": {
    "scrolled": true
   },
   "outputs": [
    {
     "name": "stdout",
     "output_type": "stream",
     "text": [
      "Tue Jan  5 13:51:47 2021       \n",
      "+-----------------------------------------------------------------------------+\n",
      "| NVIDIA-SMI 440.64.00    Driver Version: 440.64.00    CUDA Version: 10.2     |\n",
      "|-------------------------------+----------------------+----------------------+\n",
      "| GPU  Name        Persistence-M| Bus-Id        Disp.A | Volatile Uncorr. ECC |\n",
      "| Fan  Temp  Perf  Pwr:Usage/Cap|         Memory-Usage | GPU-Util  Compute M. |\n",
      "|===============================+======================+======================|\n",
      "|   0  TITAN V             Off  | 00000000:03:00.0 Off |                  N/A |\n",
      "| 20%   35C    P0    32W / 250W |      0MiB / 12066MiB |      0%      Default |\n",
      "+-------------------------------+----------------------+----------------------+\n",
      "|   1  Tesla P100-PCIE...  Off  | 00000000:83:00.0 Off |                    0 |\n",
      "| N/A   33C    P0    28W / 250W |      0MiB / 16280MiB |      0%      Default |\n",
      "+-------------------------------+----------------------+----------------------+\n",
      "|   2  TITAN V             Off  | 00000000:84:00.0 Off |                  N/A |\n",
      "| 45%   65C    P2   111W / 250W |   1955MiB / 12066MiB |     89%      Default |\n",
      "+-------------------------------+----------------------+----------------------+\n",
      "                                                                               \n",
      "+-----------------------------------------------------------------------------+\n",
      "| Processes:                                                       GPU Memory |\n",
      "|  GPU       PID   Type   Process name                             Usage      |\n",
      "|=============================================================================|\n",
      "|    2     29092      C   ...a/conda/envs/goofit-june2020/bin/python  1943MiB |\n",
      "+-----------------------------------------------------------------------------+\n"
     ]
    }
   ],
   "source": [
    "!nvidia-smi"
   ]
  },
  {
   "cell_type": "markdown",
   "metadata": {},
   "source": [
    "> **WARNING**: The card numbers here are *not* the same as in CUDA. You have been warned."
   ]
  },
  {
   "cell_type": "markdown",
   "metadata": {},
   "source": [
    "## Imports"
   ]
  },
  {
   "cell_type": "code",
   "execution_count": 3,
   "metadata": {
    "scrolled": false
   },
   "outputs": [],
   "source": [
    "import matplotlib.pyplot as plt\n",
    "import numpy as np\n",
    "import time\n",
    "import torch\n",
    "import pandas as pd\n",
    "import mlflow\n",
    "\n",
    "# Python 3 standard library\n",
    "from pathlib import Path\n",
    "\n",
    "from torchsummary import summary\n",
    "\n",
    "'''\n",
    "HELPER FUNCTIONS\n",
    "'''\n",
    "# From model/collectdata.py\n",
    "from model.collectdata_mdsA import collect_data\n",
    "\n",
    "# From model/loss.py\n",
    "##from loss import Loss\n",
    "from model.alt_loss_A import Loss\n",
    "\n",
    "# From model/training.py\n",
    "from model.training import trainNet, select_gpu, Results\n",
    "\n",
    "# From model/models.py\n",
    "##  will start with model from TwoFeatures_CNN6Layer_A in the first instance\n",
    "##  see relevant cell below\n",
    "\n",
    "from model.models_mjp_19November20 import ThreeFeature_All_CNN6Layer_A as ModelA\n",
    "from model.models_mjp_19November20 import ThreeFeature_All_CNN6Layer_A1 as ModelA1\n",
    "from model.models_mjp_19November20 import ThreeFeature_All_CNN6Layer_E as ModelE\n",
    "from model.models_mjp_19November20 import ThreeFeature_All_CNN8Layer_W as ModelW\n",
    "from model.models_mjp_26December20 import ThreeFeature_All_CNN10Layer_X as ModelX\n",
    "\n",
    "# From model/utilities.py\n",
    "from model.utilities import load_full_state, count_parameters, Params\n",
    "\n",
    "from model.plots import dual_train_plots, replace_in_ax\n",
    "\n",
    "## adds image of model architecture\n",
    "import hiddenlayer as HL"
   ]
  },
  {
   "cell_type": "markdown",
   "metadata": {},
   "source": [
    "Set up Torch device configuration. All tensors and model parameters need to know where to be put.\n",
    "This takes a BUS ID number: The BUS ID is the same as the listing at the top of this script."
   ]
  },
  {
   "cell_type": "code",
   "execution_count": 4,
   "metadata": {},
   "outputs": [
    {
     "name": "stdout",
     "output_type": "stream",
     "text": [
      "1 available GPUs (initially using device 0):\n",
      "  0 TITAN V\n"
     ]
    }
   ],
   "source": [
    "device = select_gpu(0)"
   ]
  },
  {
   "cell_type": "markdown",
   "metadata": {},
   "source": [
    "### Set up local parameters"
   ]
  },
  {
   "cell_type": "code",
   "execution_count": 5,
   "metadata": {},
   "outputs": [],
   "source": [
    "# params order - batch size, epochs, lr, epoch_start (which is usually set to 0)\n",
    "args = Params(128, 40, 5e-5, 3920)"
   ]
  },
  {
   "cell_type": "markdown",
   "metadata": {},
   "source": [
    "## Loading data\n",
    "\n",
    "Load the dataset, split into parts, then move to device (see `collectdata.py` in the `../model` directory)"
   ]
  },
  {
   "cell_type": "code",
   "execution_count": 6,
   "metadata": {
    "scrolled": true
   },
   "outputs": [
    {
     "name": "stdout",
     "output_type": "stream",
     "text": [
      "Loading data...\n",
      "Loaded /share/lazy/sokoloff/ML-data_A/Aug14_80K_train.h5 in 19.29 s\n",
      "Loaded /share/lazy/sokoloff/ML-data_AA/Oct03_80K_train.h5 in 19.03 s\n",
      "Constructing 160000 event dataset took 0.7377 s\n",
      "Loading data...\n",
      "Loaded /share/lazy/sokoloff/ML-data_AA/Oct03_20K_val.h5 in 4.714 s\n",
      "Constructing 9984 event dataset took 0.04759 s\n"
     ]
    }
   ],
   "source": [
    "## newer vernacular\n",
    "## Training dataset. You can put as many files here as desired.\n",
    "\n",
    "## in this DEMO example we use only one 80K training set -- the model starts with well-trained weights,\n",
    "## and using a smaller training set reduces both the time to load the data and the time to train an epoch\n",
    "##  set the option load_XandXsq = True to use both DKE and KDE^2 as input features\n",
    "train_loader = collect_data('/share/lazy/sokoloff/ML-data_A/Aug14_80K_train.h5',\n",
    "                             '/share/lazy/sokoloff/ML-data_AA/Oct03_80K_train.h5',\n",
    "#                             '/share/lazy/sokoloff/ML-data_AA/Oct03_40K_train.h5',\n",
    "#                             '/share/lazy/will/ML_mdsA/June30_2020_80k_1.h5',\n",
    "#                             '/share/lazy/will/ML_mdsA/June30_2020_80k_3.h5',\n",
    "#                             '/share/lazy/will/ML_mdsA/June30_2020_80k_4.h5',\n",
    "#                             '/share/lazy/will/ML_mdsA/June30_2020_80k_5.h5',\n",
    "#                             '/share/lazy/will/ML_mdsA/June30_2020_80k_6.h5',\n",
    "#                             '/share/lazy/will/ML_mdsA/June30_2020_80k_7.h5',\n",
    "#                             '/share/lazy/will/ML_mdsA/June30_2020_80k_8.h5',\n",
    "#                             '/share/lazy/will/ML_mdsA/June30_2020_80k_9.h5',\n",
    "                            #'/share/lazy/sokoloff/ML-data_AA/Oct03_80K2_train.h5',\n",
    "                             batch_size=args.batch_size,\n",
    "## if we are using a larger dataset (240K events, with the datasets above, and 11 GB  of GPU memory),\n",
    "## not the dataset will overflow the GPU memory; device=device will allow the data to move back\n",
    "## and forth between the CPU and GPU memory. While this allows use of a larger dataset, it slows\n",
    "## down performance by about 10%.  So comment out when not needed.\n",
    "## \n",
    "                            #device=device,\n",
    "                            masking=True, shuffle=True,\n",
    "                            load_XandXsq=True,\n",
    "                            load_xy=True)\n",
    "\n",
    "# Validation dataset. You can slice to reduce the size.\n",
    "## dataAA -> /share/lazy/sokoloff/ML-data_AA/\n",
    "val_loader = collect_data('/share/lazy/sokoloff/ML-data_AA/Oct03_20K_val.h5',\n",
    "## mds val_loader = collect_data('dataAA/HLT1CPU_1kevts_val.h5',\n",
    "\n",
    "                          batch_size=args.batch_size,\n",
    "                          slice=slice(256 * 39),\n",
    "                          #device=device,\n",
    "                          masking=True, shuffle=False,\n",
    "                          load_XandXsq=True,\n",
    "                          load_xy=True)"
   ]
  },
  {
   "cell_type": "markdown",
   "metadata": {},
   "source": [
    "# Preparing the model"
   ]
  },
  {
   "cell_type": "markdown",
   "metadata": {},
   "source": [
    "Prepare a model, use multiple GPUs if they are VISIBLE, and move the model to the device."
   ]
  },
  {
   "cell_type": "code",
   "execution_count": 7,
   "metadata": {
    "scrolled": true
   },
   "outputs": [
    {
     "name": "stderr",
     "output_type": "stream",
     "text": [
      "WARNING:root:Malformed experiment 'ML'. Detailed error Yaml file '/share/lazy/pv-finder_model_repo/ML/meta.yaml' does not exist.\n",
      "Traceback (most recent call last):\n",
      "  File \"/home/michael24peters/.local/lib/python3.7/site-packages/mlflow/store/tracking/file_store.py\", line 197, in list_experiments\n",
      "    experiment = self._get_experiment(exp_id, view_type)\n",
      "  File \"/home/michael24peters/.local/lib/python3.7/site-packages/mlflow/store/tracking/file_store.py\", line 260, in _get_experiment\n",
      "    meta = read_yaml(experiment_dir, FileStore.META_DATA_FILE_NAME)\n",
      "  File \"/home/michael24peters/.local/lib/python3.7/site-packages/mlflow/utils/file_utils.py\", line 167, in read_yaml\n",
      "    raise MissingConfigException(\"Yaml file '%s' does not exist.\" % file_path)\n",
      "mlflow.exceptions.MissingConfigException: Yaml file '/share/lazy/pv-finder_model_repo/ML/meta.yaml' does not exist.\n"
     ]
    }
   ],
   "source": [
    "model = ModelX()\n",
    "\n",
    "#summary(model.to(device), (1, 4000))\n",
    "\n",
    "mlflow.tracking.set_tracking_uri('file:/share/lazy/pv-finder_model_repo')\n",
    "mlflow.set_experiment('Four Feature AllCNN')"
   ]
  },
  {
   "cell_type": "code",
   "execution_count": 8,
   "metadata": {
    "scrolled": true
   },
   "outputs": [
    {
     "name": "stdout",
     "output_type": "stream",
     "text": [
      "Let's use 1 GPUs!\n"
     ]
    }
   ],
   "source": [
    "print(\"Let's use\", torch.cuda.device_count(), \"GPUs!\")\n",
    "if torch.cuda.device_count() > 1:\n",
    "    model = torch.nn.DataParallel(model)"
   ]
  },
  {
   "cell_type": "markdown",
   "metadata": {},
   "source": [
    "Let's move the model's weight matricies to the GPU:"
   ]
  },
  {
   "cell_type": "code",
   "execution_count": 9,
   "metadata": {},
   "outputs": [
    {
     "name": "stdout",
     "output_type": "stream",
     "text": [
      "we also froze 0 weights\n",
      "Of the 37.5 parameter layers to update in the current model, 37.5 were loaded\n"
     ]
    }
   ],
   "source": [
    "##  mds 200121 loss = Loss(epsilon=1e-5,coefficient=1.0)\n",
    "loss = Loss(epsilon=1e-5,coefficient=5.0)\n",
    "optimizer = torch.optim.Adam(model.parameters(), lr=args.lr)\n",
    "\n",
    "##  use the first five layers from a pre-existing model\n",
    "##  see example at https://discuss.pytorch.org/t/how-to-load-part-of-pre-trained-model/1113\n",
    "##   ML -> /share/lazy/sokoloff/ML\n",
    "\n",
    "#path = 'run_stats.pyt'\n",
    "#load_full_state(model, optimizer, path)\n",
    "# For other pretrained models, go to MLFlow and find the path for \"run_stats.pyt\"\n",
    "pretrained_dict = '/share/lazy/pv-finder_model_repo/12/af85e546561c4927aa730fbb2b31f529/artifacts/run_stats.pyt'\n",
    "load_full_state(model, optimizer, pretrained_dict, freeze_weights=False)"
   ]
  },
  {
   "cell_type": "markdown",
   "metadata": {},
   "source": [
    "Let's move the model's weight matricies to the GPU:"
   ]
  },
  {
   "cell_type": "code",
   "execution_count": 10,
   "metadata": {
    "scrolled": true
   },
   "outputs": [
    {
     "data": {
      "text/plain": [
       "ThreeFeature_All_CNN10Layer_X(\n",
       "  (conv1): Conv1d(1, 20, kernel_size=(25,), stride=(1,), padding=(12,))\n",
       "  (conv2): Conv1d(20, 10, kernel_size=(15,), stride=(1,), padding=(7,))\n",
       "  (conv3): Conv1d(30, 10, kernel_size=(15,), stride=(1,), padding=(7,))\n",
       "  (conv4): Conv1d(10, 10, kernel_size=(15,), stride=(1,), padding=(7,))\n",
       "  (conv5): Conv1d(20, 10, kernel_size=(15,), stride=(1,), padding=(7,))\n",
       "  (conv6): Conv1d(10, 10, kernel_size=(15,), stride=(1,), padding=(7,))\n",
       "  (conv7): Conv1d(20, 7, kernel_size=(5,), stride=(1,), padding=(2,))\n",
       "  (conv8): Conv1d(7, 3, kernel_size=(5,), stride=(1,), padding=(2,))\n",
       "  (conv9): Conv1d(10, 1, kernel_size=(5,), stride=(1,), padding=(2,))\n",
       "  (finalFilter): Conv1d(1, 1, kernel_size=(91,), stride=(1,), padding=(45,))\n",
       "  (ppConv1): Conv1d(2, 20, kernel_size=(25,), stride=(1,), padding=(12,))\n",
       "  (ppConv2): Conv1d(20, 10, kernel_size=(15,), stride=(1,), padding=(7,))\n",
       "  (ppConv3): Conv1d(10, 1, kernel_size=(15,), stride=(1,), padding=(7,))\n",
       "  (ppFinalFilter): Conv1d(1, 1, kernel_size=(91,), stride=(1,), padding=(45,))\n",
       "  (largeConv): Conv1d(2, 1, kernel_size=(91,), stride=(1,), padding=(45,))\n",
       "  (conv1dropout): Dropout(p=0.15, inplace=False)\n",
       "  (conv2dropout): Dropout(p=0.15, inplace=False)\n",
       "  (conv3dropout): Dropout(p=0.15, inplace=False)\n",
       "  (conv4dropout): Dropout(p=0.15, inplace=False)\n",
       "  (conv5dropout): Dropout(p=0.15, inplace=False)\n",
       "  (conv6dropout): Dropout(p=0.15, inplace=False)\n",
       "  (conv7dropout): Dropout(p=0.15, inplace=False)\n",
       "  (conv8dropout): Dropout(p=0.15, inplace=False)\n",
       "  (conv9dropout): Dropout(p=0.15, inplace=False)\n",
       "  (bn1): BatchNorm1d(20, eps=1e-05, momentum=0.1, affine=True, track_running_stats=True)\n",
       "  (bn2): BatchNorm1d(10, eps=1e-05, momentum=0.1, affine=True, track_running_stats=True)\n",
       "  (bn3): BatchNorm1d(10, eps=1e-05, momentum=0.1, affine=True, track_running_stats=True)\n",
       "  (bn4): BatchNorm1d(10, eps=1e-05, momentum=0.1, affine=True, track_running_stats=True)\n",
       "  (bn5): BatchNorm1d(10, eps=1e-05, momentum=0.1, affine=True, track_running_stats=True)\n",
       "  (bn6): BatchNorm1d(10, eps=1e-05, momentum=0.1, affine=True, track_running_stats=True)\n",
       "  (bn7): BatchNorm1d(7, eps=1e-05, momentum=0.1, affine=True, track_running_stats=True)\n",
       "  (bn8): BatchNorm1d(3, eps=1e-05, momentum=0.1, affine=True, track_running_stats=True)\n",
       "  (bn9): BatchNorm1d(1, eps=1e-05, momentum=0.1, affine=True, track_running_stats=True)\n",
       ")"
      ]
     },
     "execution_count": 10,
     "metadata": {},
     "output_type": "execute_result"
    }
   ],
   "source": [
    "model.to(device)"
   ]
  },
  {
   "cell_type": "markdown",
   "metadata": {},
   "source": [
    "## Train \n",
    "\n",
    "\n",
    "\n",
    "The body of this loop runs once per epoch. Results is a named tuple of values (loss per epoch for training and validation, time each). Start by setting up a plot first:"
   ]
  },
  {
   "cell_type": "code",
   "execution_count": 11,
   "metadata": {
    "scrolled": true
   },
   "outputs": [
    {
     "data": {
      "application/javascript": [
       "/* Put everything inside the global mpl namespace */\n",
       "window.mpl = {};\n",
       "\n",
       "\n",
       "mpl.get_websocket_type = function() {\n",
       "    if (typeof(WebSocket) !== 'undefined') {\n",
       "        return WebSocket;\n",
       "    } else if (typeof(MozWebSocket) !== 'undefined') {\n",
       "        return MozWebSocket;\n",
       "    } else {\n",
       "        alert('Your browser does not have WebSocket support. ' +\n",
       "              'Please try Chrome, Safari or Firefox ≥ 6. ' +\n",
       "              'Firefox 4 and 5 are also supported but you ' +\n",
       "              'have to enable WebSockets in about:config.');\n",
       "    };\n",
       "}\n",
       "\n",
       "mpl.figure = function(figure_id, websocket, ondownload, parent_element) {\n",
       "    this.id = figure_id;\n",
       "\n",
       "    this.ws = websocket;\n",
       "\n",
       "    this.supports_binary = (this.ws.binaryType != undefined);\n",
       "\n",
       "    if (!this.supports_binary) {\n",
       "        var warnings = document.getElementById(\"mpl-warnings\");\n",
       "        if (warnings) {\n",
       "            warnings.style.display = 'block';\n",
       "            warnings.textContent = (\n",
       "                \"This browser does not support binary websocket messages. \" +\n",
       "                    \"Performance may be slow.\");\n",
       "        }\n",
       "    }\n",
       "\n",
       "    this.imageObj = new Image();\n",
       "\n",
       "    this.context = undefined;\n",
       "    this.message = undefined;\n",
       "    this.canvas = undefined;\n",
       "    this.rubberband_canvas = undefined;\n",
       "    this.rubberband_context = undefined;\n",
       "    this.format_dropdown = undefined;\n",
       "\n",
       "    this.image_mode = 'full';\n",
       "\n",
       "    this.root = $('<div/>');\n",
       "    this._root_extra_style(this.root)\n",
       "    this.root.attr('style', 'display: inline-block');\n",
       "\n",
       "    $(parent_element).append(this.root);\n",
       "\n",
       "    this._init_header(this);\n",
       "    this._init_canvas(this);\n",
       "    this._init_toolbar(this);\n",
       "\n",
       "    var fig = this;\n",
       "\n",
       "    this.waiting = false;\n",
       "\n",
       "    this.ws.onopen =  function () {\n",
       "            fig.send_message(\"supports_binary\", {value: fig.supports_binary});\n",
       "            fig.send_message(\"send_image_mode\", {});\n",
       "            if (mpl.ratio != 1) {\n",
       "                fig.send_message(\"set_dpi_ratio\", {'dpi_ratio': mpl.ratio});\n",
       "            }\n",
       "            fig.send_message(\"refresh\", {});\n",
       "        }\n",
       "\n",
       "    this.imageObj.onload = function() {\n",
       "            if (fig.image_mode == 'full') {\n",
       "                // Full images could contain transparency (where diff images\n",
       "                // almost always do), so we need to clear the canvas so that\n",
       "                // there is no ghosting.\n",
       "                fig.context.clearRect(0, 0, fig.canvas.width, fig.canvas.height);\n",
       "            }\n",
       "            fig.context.drawImage(fig.imageObj, 0, 0);\n",
       "        };\n",
       "\n",
       "    this.imageObj.onunload = function() {\n",
       "        fig.ws.close();\n",
       "    }\n",
       "\n",
       "    this.ws.onmessage = this._make_on_message_function(this);\n",
       "\n",
       "    this.ondownload = ondownload;\n",
       "}\n",
       "\n",
       "mpl.figure.prototype._init_header = function() {\n",
       "    var titlebar = $(\n",
       "        '<div class=\"ui-dialog-titlebar ui-widget-header ui-corner-all ' +\n",
       "        'ui-helper-clearfix\"/>');\n",
       "    var titletext = $(\n",
       "        '<div class=\"ui-dialog-title\" style=\"width: 100%; ' +\n",
       "        'text-align: center; padding: 3px;\"/>');\n",
       "    titlebar.append(titletext)\n",
       "    this.root.append(titlebar);\n",
       "    this.header = titletext[0];\n",
       "}\n",
       "\n",
       "\n",
       "\n",
       "mpl.figure.prototype._canvas_extra_style = function(canvas_div) {\n",
       "\n",
       "}\n",
       "\n",
       "\n",
       "mpl.figure.prototype._root_extra_style = function(canvas_div) {\n",
       "\n",
       "}\n",
       "\n",
       "mpl.figure.prototype._init_canvas = function() {\n",
       "    var fig = this;\n",
       "\n",
       "    var canvas_div = $('<div/>');\n",
       "\n",
       "    canvas_div.attr('style', 'position: relative; clear: both; outline: 0');\n",
       "\n",
       "    function canvas_keyboard_event(event) {\n",
       "        return fig.key_event(event, event['data']);\n",
       "    }\n",
       "\n",
       "    canvas_div.keydown('key_press', canvas_keyboard_event);\n",
       "    canvas_div.keyup('key_release', canvas_keyboard_event);\n",
       "    this.canvas_div = canvas_div\n",
       "    this._canvas_extra_style(canvas_div)\n",
       "    this.root.append(canvas_div);\n",
       "\n",
       "    var canvas = $('<canvas/>');\n",
       "    canvas.addClass('mpl-canvas');\n",
       "    canvas.attr('style', \"left: 0; top: 0; z-index: 0; outline: 0\")\n",
       "\n",
       "    this.canvas = canvas[0];\n",
       "    this.context = canvas[0].getContext(\"2d\");\n",
       "\n",
       "    var backingStore = this.context.backingStorePixelRatio ||\n",
       "\tthis.context.webkitBackingStorePixelRatio ||\n",
       "\tthis.context.mozBackingStorePixelRatio ||\n",
       "\tthis.context.msBackingStorePixelRatio ||\n",
       "\tthis.context.oBackingStorePixelRatio ||\n",
       "\tthis.context.backingStorePixelRatio || 1;\n",
       "\n",
       "    mpl.ratio = (window.devicePixelRatio || 1) / backingStore;\n",
       "\n",
       "    var rubberband = $('<canvas/>');\n",
       "    rubberband.attr('style', \"position: absolute; left: 0; top: 0; z-index: 1;\")\n",
       "\n",
       "    var pass_mouse_events = true;\n",
       "\n",
       "    canvas_div.resizable({\n",
       "        start: function(event, ui) {\n",
       "            pass_mouse_events = false;\n",
       "        },\n",
       "        resize: function(event, ui) {\n",
       "            fig.request_resize(ui.size.width, ui.size.height);\n",
       "        },\n",
       "        stop: function(event, ui) {\n",
       "            pass_mouse_events = true;\n",
       "            fig.request_resize(ui.size.width, ui.size.height);\n",
       "        },\n",
       "    });\n",
       "\n",
       "    function mouse_event_fn(event) {\n",
       "        if (pass_mouse_events)\n",
       "            return fig.mouse_event(event, event['data']);\n",
       "    }\n",
       "\n",
       "    rubberband.mousedown('button_press', mouse_event_fn);\n",
       "    rubberband.mouseup('button_release', mouse_event_fn);\n",
       "    // Throttle sequential mouse events to 1 every 20ms.\n",
       "    rubberband.mousemove('motion_notify', mouse_event_fn);\n",
       "\n",
       "    rubberband.mouseenter('figure_enter', mouse_event_fn);\n",
       "    rubberband.mouseleave('figure_leave', mouse_event_fn);\n",
       "\n",
       "    canvas_div.on(\"wheel\", function (event) {\n",
       "        event = event.originalEvent;\n",
       "        event['data'] = 'scroll'\n",
       "        if (event.deltaY < 0) {\n",
       "            event.step = 1;\n",
       "        } else {\n",
       "            event.step = -1;\n",
       "        }\n",
       "        mouse_event_fn(event);\n",
       "    });\n",
       "\n",
       "    canvas_div.append(canvas);\n",
       "    canvas_div.append(rubberband);\n",
       "\n",
       "    this.rubberband = rubberband;\n",
       "    this.rubberband_canvas = rubberband[0];\n",
       "    this.rubberband_context = rubberband[0].getContext(\"2d\");\n",
       "    this.rubberband_context.strokeStyle = \"#000000\";\n",
       "\n",
       "    this._resize_canvas = function(width, height) {\n",
       "        // Keep the size of the canvas, canvas container, and rubber band\n",
       "        // canvas in synch.\n",
       "        canvas_div.css('width', width)\n",
       "        canvas_div.css('height', height)\n",
       "\n",
       "        canvas.attr('width', width * mpl.ratio);\n",
       "        canvas.attr('height', height * mpl.ratio);\n",
       "        canvas.attr('style', 'width: ' + width + 'px; height: ' + height + 'px;');\n",
       "\n",
       "        rubberband.attr('width', width);\n",
       "        rubberband.attr('height', height);\n",
       "    }\n",
       "\n",
       "    // Set the figure to an initial 600x600px, this will subsequently be updated\n",
       "    // upon first draw.\n",
       "    this._resize_canvas(600, 600);\n",
       "\n",
       "    // Disable right mouse context menu.\n",
       "    $(this.rubberband_canvas).bind(\"contextmenu\",function(e){\n",
       "        return false;\n",
       "    });\n",
       "\n",
       "    function set_focus () {\n",
       "        canvas.focus();\n",
       "        canvas_div.focus();\n",
       "    }\n",
       "\n",
       "    window.setTimeout(set_focus, 100);\n",
       "}\n",
       "\n",
       "mpl.figure.prototype._init_toolbar = function() {\n",
       "    var fig = this;\n",
       "\n",
       "    var nav_element = $('<div/>');\n",
       "    nav_element.attr('style', 'width: 100%');\n",
       "    this.root.append(nav_element);\n",
       "\n",
       "    // Define a callback function for later on.\n",
       "    function toolbar_event(event) {\n",
       "        return fig.toolbar_button_onclick(event['data']);\n",
       "    }\n",
       "    function toolbar_mouse_event(event) {\n",
       "        return fig.toolbar_button_onmouseover(event['data']);\n",
       "    }\n",
       "\n",
       "    for(var toolbar_ind in mpl.toolbar_items) {\n",
       "        var name = mpl.toolbar_items[toolbar_ind][0];\n",
       "        var tooltip = mpl.toolbar_items[toolbar_ind][1];\n",
       "        var image = mpl.toolbar_items[toolbar_ind][2];\n",
       "        var method_name = mpl.toolbar_items[toolbar_ind][3];\n",
       "\n",
       "        if (!name) {\n",
       "            // put a spacer in here.\n",
       "            continue;\n",
       "        }\n",
       "        var button = $('<button/>');\n",
       "        button.addClass('ui-button ui-widget ui-state-default ui-corner-all ' +\n",
       "                        'ui-button-icon-only');\n",
       "        button.attr('role', 'button');\n",
       "        button.attr('aria-disabled', 'false');\n",
       "        button.click(method_name, toolbar_event);\n",
       "        button.mouseover(tooltip, toolbar_mouse_event);\n",
       "\n",
       "        var icon_img = $('<span/>');\n",
       "        icon_img.addClass('ui-button-icon-primary ui-icon');\n",
       "        icon_img.addClass(image);\n",
       "        icon_img.addClass('ui-corner-all');\n",
       "\n",
       "        var tooltip_span = $('<span/>');\n",
       "        tooltip_span.addClass('ui-button-text');\n",
       "        tooltip_span.html(tooltip);\n",
       "\n",
       "        button.append(icon_img);\n",
       "        button.append(tooltip_span);\n",
       "\n",
       "        nav_element.append(button);\n",
       "    }\n",
       "\n",
       "    var fmt_picker_span = $('<span/>');\n",
       "\n",
       "    var fmt_picker = $('<select/>');\n",
       "    fmt_picker.addClass('mpl-toolbar-option ui-widget ui-widget-content');\n",
       "    fmt_picker_span.append(fmt_picker);\n",
       "    nav_element.append(fmt_picker_span);\n",
       "    this.format_dropdown = fmt_picker[0];\n",
       "\n",
       "    for (var ind in mpl.extensions) {\n",
       "        var fmt = mpl.extensions[ind];\n",
       "        var option = $(\n",
       "            '<option/>', {selected: fmt === mpl.default_extension}).html(fmt);\n",
       "        fmt_picker.append(option);\n",
       "    }\n",
       "\n",
       "    // Add hover states to the ui-buttons\n",
       "    $( \".ui-button\" ).hover(\n",
       "        function() { $(this).addClass(\"ui-state-hover\");},\n",
       "        function() { $(this).removeClass(\"ui-state-hover\");}\n",
       "    );\n",
       "\n",
       "    var status_bar = $('<span class=\"mpl-message\"/>');\n",
       "    nav_element.append(status_bar);\n",
       "    this.message = status_bar[0];\n",
       "}\n",
       "\n",
       "mpl.figure.prototype.request_resize = function(x_pixels, y_pixels) {\n",
       "    // Request matplotlib to resize the figure. Matplotlib will then trigger a resize in the client,\n",
       "    // which will in turn request a refresh of the image.\n",
       "    this.send_message('resize', {'width': x_pixels, 'height': y_pixels});\n",
       "}\n",
       "\n",
       "mpl.figure.prototype.send_message = function(type, properties) {\n",
       "    properties['type'] = type;\n",
       "    properties['figure_id'] = this.id;\n",
       "    this.ws.send(JSON.stringify(properties));\n",
       "}\n",
       "\n",
       "mpl.figure.prototype.send_draw_message = function() {\n",
       "    if (!this.waiting) {\n",
       "        this.waiting = true;\n",
       "        this.ws.send(JSON.stringify({type: \"draw\", figure_id: this.id}));\n",
       "    }\n",
       "}\n",
       "\n",
       "\n",
       "mpl.figure.prototype.handle_save = function(fig, msg) {\n",
       "    var format_dropdown = fig.format_dropdown;\n",
       "    var format = format_dropdown.options[format_dropdown.selectedIndex].value;\n",
       "    fig.ondownload(fig, format);\n",
       "}\n",
       "\n",
       "\n",
       "mpl.figure.prototype.handle_resize = function(fig, msg) {\n",
       "    var size = msg['size'];\n",
       "    if (size[0] != fig.canvas.width || size[1] != fig.canvas.height) {\n",
       "        fig._resize_canvas(size[0], size[1]);\n",
       "        fig.send_message(\"refresh\", {});\n",
       "    };\n",
       "}\n",
       "\n",
       "mpl.figure.prototype.handle_rubberband = function(fig, msg) {\n",
       "    var x0 = msg['x0'] / mpl.ratio;\n",
       "    var y0 = (fig.canvas.height - msg['y0']) / mpl.ratio;\n",
       "    var x1 = msg['x1'] / mpl.ratio;\n",
       "    var y1 = (fig.canvas.height - msg['y1']) / mpl.ratio;\n",
       "    x0 = Math.floor(x0) + 0.5;\n",
       "    y0 = Math.floor(y0) + 0.5;\n",
       "    x1 = Math.floor(x1) + 0.5;\n",
       "    y1 = Math.floor(y1) + 0.5;\n",
       "    var min_x = Math.min(x0, x1);\n",
       "    var min_y = Math.min(y0, y1);\n",
       "    var width = Math.abs(x1 - x0);\n",
       "    var height = Math.abs(y1 - y0);\n",
       "\n",
       "    fig.rubberband_context.clearRect(\n",
       "        0, 0, fig.canvas.width / mpl.ratio, fig.canvas.height / mpl.ratio);\n",
       "\n",
       "    fig.rubberband_context.strokeRect(min_x, min_y, width, height);\n",
       "}\n",
       "\n",
       "mpl.figure.prototype.handle_figure_label = function(fig, msg) {\n",
       "    // Updates the figure title.\n",
       "    fig.header.textContent = msg['label'];\n",
       "}\n",
       "\n",
       "mpl.figure.prototype.handle_cursor = function(fig, msg) {\n",
       "    var cursor = msg['cursor'];\n",
       "    switch(cursor)\n",
       "    {\n",
       "    case 0:\n",
       "        cursor = 'pointer';\n",
       "        break;\n",
       "    case 1:\n",
       "        cursor = 'default';\n",
       "        break;\n",
       "    case 2:\n",
       "        cursor = 'crosshair';\n",
       "        break;\n",
       "    case 3:\n",
       "        cursor = 'move';\n",
       "        break;\n",
       "    }\n",
       "    fig.rubberband_canvas.style.cursor = cursor;\n",
       "}\n",
       "\n",
       "mpl.figure.prototype.handle_message = function(fig, msg) {\n",
       "    fig.message.textContent = msg['message'];\n",
       "}\n",
       "\n",
       "mpl.figure.prototype.handle_draw = function(fig, msg) {\n",
       "    // Request the server to send over a new figure.\n",
       "    fig.send_draw_message();\n",
       "}\n",
       "\n",
       "mpl.figure.prototype.handle_image_mode = function(fig, msg) {\n",
       "    fig.image_mode = msg['mode'];\n",
       "}\n",
       "\n",
       "mpl.figure.prototype.updated_canvas_event = function() {\n",
       "    // Called whenever the canvas gets updated.\n",
       "    this.send_message(\"ack\", {});\n",
       "}\n",
       "\n",
       "// A function to construct a web socket function for onmessage handling.\n",
       "// Called in the figure constructor.\n",
       "mpl.figure.prototype._make_on_message_function = function(fig) {\n",
       "    return function socket_on_message(evt) {\n",
       "        if (evt.data instanceof Blob) {\n",
       "            /* FIXME: We get \"Resource interpreted as Image but\n",
       "             * transferred with MIME type text/plain:\" errors on\n",
       "             * Chrome.  But how to set the MIME type?  It doesn't seem\n",
       "             * to be part of the websocket stream */\n",
       "            evt.data.type = \"image/png\";\n",
       "\n",
       "            /* Free the memory for the previous frames */\n",
       "            if (fig.imageObj.src) {\n",
       "                (window.URL || window.webkitURL).revokeObjectURL(\n",
       "                    fig.imageObj.src);\n",
       "            }\n",
       "\n",
       "            fig.imageObj.src = (window.URL || window.webkitURL).createObjectURL(\n",
       "                evt.data);\n",
       "            fig.updated_canvas_event();\n",
       "            fig.waiting = false;\n",
       "            return;\n",
       "        }\n",
       "        else if (typeof evt.data === 'string' && evt.data.slice(0, 21) == \"data:image/png;base64\") {\n",
       "            fig.imageObj.src = evt.data;\n",
       "            fig.updated_canvas_event();\n",
       "            fig.waiting = false;\n",
       "            return;\n",
       "        }\n",
       "\n",
       "        var msg = JSON.parse(evt.data);\n",
       "        var msg_type = msg['type'];\n",
       "\n",
       "        // Call the  \"handle_{type}\" callback, which takes\n",
       "        // the figure and JSON message as its only arguments.\n",
       "        try {\n",
       "            var callback = fig[\"handle_\" + msg_type];\n",
       "        } catch (e) {\n",
       "            console.log(\"No handler for the '\" + msg_type + \"' message type: \", msg);\n",
       "            return;\n",
       "        }\n",
       "\n",
       "        if (callback) {\n",
       "            try {\n",
       "                // console.log(\"Handling '\" + msg_type + \"' message: \", msg);\n",
       "                callback(fig, msg);\n",
       "            } catch (e) {\n",
       "                console.log(\"Exception inside the 'handler_\" + msg_type + \"' callback:\", e, e.stack, msg);\n",
       "            }\n",
       "        }\n",
       "    };\n",
       "}\n",
       "\n",
       "// from http://stackoverflow.com/questions/1114465/getting-mouse-location-in-canvas\n",
       "mpl.findpos = function(e) {\n",
       "    //this section is from http://www.quirksmode.org/js/events_properties.html\n",
       "    var targ;\n",
       "    if (!e)\n",
       "        e = window.event;\n",
       "    if (e.target)\n",
       "        targ = e.target;\n",
       "    else if (e.srcElement)\n",
       "        targ = e.srcElement;\n",
       "    if (targ.nodeType == 3) // defeat Safari bug\n",
       "        targ = targ.parentNode;\n",
       "\n",
       "    // jQuery normalizes the pageX and pageY\n",
       "    // pageX,Y are the mouse positions relative to the document\n",
       "    // offset() returns the position of the element relative to the document\n",
       "    var x = e.pageX - $(targ).offset().left;\n",
       "    var y = e.pageY - $(targ).offset().top;\n",
       "\n",
       "    return {\"x\": x, \"y\": y};\n",
       "};\n",
       "\n",
       "/*\n",
       " * return a copy of an object with only non-object keys\n",
       " * we need this to avoid circular references\n",
       " * http://stackoverflow.com/a/24161582/3208463\n",
       " */\n",
       "function simpleKeys (original) {\n",
       "  return Object.keys(original).reduce(function (obj, key) {\n",
       "    if (typeof original[key] !== 'object')\n",
       "        obj[key] = original[key]\n",
       "    return obj;\n",
       "  }, {});\n",
       "}\n",
       "\n",
       "mpl.figure.prototype.mouse_event = function(event, name) {\n",
       "    var canvas_pos = mpl.findpos(event)\n",
       "\n",
       "    if (name === 'button_press')\n",
       "    {\n",
       "        this.canvas.focus();\n",
       "        this.canvas_div.focus();\n",
       "    }\n",
       "\n",
       "    var x = canvas_pos.x * mpl.ratio;\n",
       "    var y = canvas_pos.y * mpl.ratio;\n",
       "\n",
       "    this.send_message(name, {x: x, y: y, button: event.button,\n",
       "                             step: event.step,\n",
       "                             guiEvent: simpleKeys(event)});\n",
       "\n",
       "    /* This prevents the web browser from automatically changing to\n",
       "     * the text insertion cursor when the button is pressed.  We want\n",
       "     * to control all of the cursor setting manually through the\n",
       "     * 'cursor' event from matplotlib */\n",
       "    event.preventDefault();\n",
       "    return false;\n",
       "}\n",
       "\n",
       "mpl.figure.prototype._key_event_extra = function(event, name) {\n",
       "    // Handle any extra behaviour associated with a key event\n",
       "}\n",
       "\n",
       "mpl.figure.prototype.key_event = function(event, name) {\n",
       "\n",
       "    // Prevent repeat events\n",
       "    if (name == 'key_press')\n",
       "    {\n",
       "        if (event.which === this._key)\n",
       "            return;\n",
       "        else\n",
       "            this._key = event.which;\n",
       "    }\n",
       "    if (name == 'key_release')\n",
       "        this._key = null;\n",
       "\n",
       "    var value = '';\n",
       "    if (event.ctrlKey && event.which != 17)\n",
       "        value += \"ctrl+\";\n",
       "    if (event.altKey && event.which != 18)\n",
       "        value += \"alt+\";\n",
       "    if (event.shiftKey && event.which != 16)\n",
       "        value += \"shift+\";\n",
       "\n",
       "    value += 'k';\n",
       "    value += event.which.toString();\n",
       "\n",
       "    this._key_event_extra(event, name);\n",
       "\n",
       "    this.send_message(name, {key: value,\n",
       "                             guiEvent: simpleKeys(event)});\n",
       "    return false;\n",
       "}\n",
       "\n",
       "mpl.figure.prototype.toolbar_button_onclick = function(name) {\n",
       "    if (name == 'download') {\n",
       "        this.handle_save(this, null);\n",
       "    } else {\n",
       "        this.send_message(\"toolbar_button\", {name: name});\n",
       "    }\n",
       "};\n",
       "\n",
       "mpl.figure.prototype.toolbar_button_onmouseover = function(tooltip) {\n",
       "    this.message.textContent = tooltip;\n",
       "};\n",
       "mpl.toolbar_items = [[\"Home\", \"Reset original view\", \"fa fa-home icon-home\", \"home\"], [\"Back\", \"Back to previous view\", \"fa fa-arrow-left icon-arrow-left\", \"back\"], [\"Forward\", \"Forward to next view\", \"fa fa-arrow-right icon-arrow-right\", \"forward\"], [\"\", \"\", \"\", \"\"], [\"Pan\", \"Pan axes with left mouse, zoom with right\", \"fa fa-arrows icon-move\", \"pan\"], [\"Zoom\", \"Zoom to rectangle\", \"fa fa-square-o icon-check-empty\", \"zoom\"], [\"\", \"\", \"\", \"\"], [\"Download\", \"Download plot\", \"fa fa-floppy-o icon-save\", \"download\"]];\n",
       "\n",
       "mpl.extensions = [\"eps\", \"jpeg\", \"pdf\", \"png\", \"ps\", \"raw\", \"svg\", \"tif\"];\n",
       "\n",
       "mpl.default_extension = \"png\";var comm_websocket_adapter = function(comm) {\n",
       "    // Create a \"websocket\"-like object which calls the given IPython comm\n",
       "    // object with the appropriate methods. Currently this is a non binary\n",
       "    // socket, so there is still some room for performance tuning.\n",
       "    var ws = {};\n",
       "\n",
       "    ws.close = function() {\n",
       "        comm.close()\n",
       "    };\n",
       "    ws.send = function(m) {\n",
       "        //console.log('sending', m);\n",
       "        comm.send(m);\n",
       "    };\n",
       "    // Register the callback with on_msg.\n",
       "    comm.on_msg(function(msg) {\n",
       "        //console.log('receiving', msg['content']['data'], msg);\n",
       "        // Pass the mpl event to the overridden (by mpl) onmessage function.\n",
       "        ws.onmessage(msg['content']['data'])\n",
       "    });\n",
       "    return ws;\n",
       "}\n",
       "\n",
       "mpl.mpl_figure_comm = function(comm, msg) {\n",
       "    // This is the function which gets called when the mpl process\n",
       "    // starts-up an IPython Comm through the \"matplotlib\" channel.\n",
       "\n",
       "    var id = msg.content.data.id;\n",
       "    // Get hold of the div created by the display call when the Comm\n",
       "    // socket was opened in Python.\n",
       "    var element = $(\"#\" + id);\n",
       "    var ws_proxy = comm_websocket_adapter(comm)\n",
       "\n",
       "    function ondownload(figure, format) {\n",
       "        window.open(figure.imageObj.src);\n",
       "    }\n",
       "\n",
       "    var fig = new mpl.figure(id, ws_proxy,\n",
       "                           ondownload,\n",
       "                           element.get(0));\n",
       "\n",
       "    // Call onopen now - mpl needs it, as it is assuming we've passed it a real\n",
       "    // web socket which is closed, not our websocket->open comm proxy.\n",
       "    ws_proxy.onopen();\n",
       "\n",
       "    fig.parent_element = element.get(0);\n",
       "    fig.cell_info = mpl.find_output_cell(\"<div id='\" + id + \"'></div>\");\n",
       "    if (!fig.cell_info) {\n",
       "        console.error(\"Failed to find cell for figure\", id, fig);\n",
       "        return;\n",
       "    }\n",
       "\n",
       "    var output_index = fig.cell_info[2]\n",
       "    var cell = fig.cell_info[0];\n",
       "\n",
       "};\n",
       "\n",
       "mpl.figure.prototype.handle_close = function(fig, msg) {\n",
       "    var width = fig.canvas.width/mpl.ratio\n",
       "    fig.root.unbind('remove')\n",
       "\n",
       "    // Update the output cell to use the data from the current canvas.\n",
       "    fig.push_to_output();\n",
       "    var dataURL = fig.canvas.toDataURL();\n",
       "    // Re-enable the keyboard manager in IPython - without this line, in FF,\n",
       "    // the notebook keyboard shortcuts fail.\n",
       "    IPython.keyboard_manager.enable()\n",
       "    $(fig.parent_element).html('<img src=\"' + dataURL + '\" width=\"' + width + '\">');\n",
       "    fig.close_ws(fig, msg);\n",
       "}\n",
       "\n",
       "mpl.figure.prototype.close_ws = function(fig, msg){\n",
       "    fig.send_message('closing', msg);\n",
       "    // fig.ws.close()\n",
       "}\n",
       "\n",
       "mpl.figure.prototype.push_to_output = function(remove_interactive) {\n",
       "    // Turn the data on the canvas into data in the output cell.\n",
       "    var width = this.canvas.width/mpl.ratio\n",
       "    var dataURL = this.canvas.toDataURL();\n",
       "    this.cell_info[1]['text/html'] = '<img src=\"' + dataURL + '\" width=\"' + width + '\">';\n",
       "}\n",
       "\n",
       "mpl.figure.prototype.updated_canvas_event = function() {\n",
       "    // Tell IPython that the notebook contents must change.\n",
       "    IPython.notebook.set_dirty(true);\n",
       "    this.send_message(\"ack\", {});\n",
       "    var fig = this;\n",
       "    // Wait a second, then push the new image to the DOM so\n",
       "    // that it is saved nicely (might be nice to debounce this).\n",
       "    setTimeout(function () { fig.push_to_output() }, 1000);\n",
       "}\n",
       "\n",
       "mpl.figure.prototype._init_toolbar = function() {\n",
       "    var fig = this;\n",
       "\n",
       "    var nav_element = $('<div/>');\n",
       "    nav_element.attr('style', 'width: 100%');\n",
       "    this.root.append(nav_element);\n",
       "\n",
       "    // Define a callback function for later on.\n",
       "    function toolbar_event(event) {\n",
       "        return fig.toolbar_button_onclick(event['data']);\n",
       "    }\n",
       "    function toolbar_mouse_event(event) {\n",
       "        return fig.toolbar_button_onmouseover(event['data']);\n",
       "    }\n",
       "\n",
       "    for(var toolbar_ind in mpl.toolbar_items){\n",
       "        var name = mpl.toolbar_items[toolbar_ind][0];\n",
       "        var tooltip = mpl.toolbar_items[toolbar_ind][1];\n",
       "        var image = mpl.toolbar_items[toolbar_ind][2];\n",
       "        var method_name = mpl.toolbar_items[toolbar_ind][3];\n",
       "\n",
       "        if (!name) { continue; };\n",
       "\n",
       "        var button = $('<button class=\"btn btn-default\" href=\"#\" title=\"' + name + '\"><i class=\"fa ' + image + ' fa-lg\"></i></button>');\n",
       "        button.click(method_name, toolbar_event);\n",
       "        button.mouseover(tooltip, toolbar_mouse_event);\n",
       "        nav_element.append(button);\n",
       "    }\n",
       "\n",
       "    // Add the status bar.\n",
       "    var status_bar = $('<span class=\"mpl-message\" style=\"text-align:right; float: right;\"/>');\n",
       "    nav_element.append(status_bar);\n",
       "    this.message = status_bar[0];\n",
       "\n",
       "    // Add the close button to the window.\n",
       "    var buttongrp = $('<div class=\"btn-group inline pull-right\"></div>');\n",
       "    var button = $('<button class=\"btn btn-mini btn-primary\" href=\"#\" title=\"Stop Interaction\"><i class=\"fa fa-power-off icon-remove icon-large\"></i></button>');\n",
       "    button.click(function (evt) { fig.handle_close(fig, {}); } );\n",
       "    button.mouseover('Stop Interaction', toolbar_mouse_event);\n",
       "    buttongrp.append(button);\n",
       "    var titlebar = this.root.find($('.ui-dialog-titlebar'));\n",
       "    titlebar.prepend(buttongrp);\n",
       "}\n",
       "\n",
       "mpl.figure.prototype._root_extra_style = function(el){\n",
       "    var fig = this\n",
       "    el.on(\"remove\", function(){\n",
       "\tfig.close_ws(fig, {});\n",
       "    });\n",
       "}\n",
       "\n",
       "mpl.figure.prototype._canvas_extra_style = function(el){\n",
       "    // this is important to make the div 'focusable\n",
       "    el.attr('tabindex', 0)\n",
       "    // reach out to IPython and tell the keyboard manager to turn it's self\n",
       "    // off when our div gets focus\n",
       "\n",
       "    // location in version 3\n",
       "    if (IPython.notebook.keyboard_manager) {\n",
       "        IPython.notebook.keyboard_manager.register_events(el);\n",
       "    }\n",
       "    else {\n",
       "        // location in version 2\n",
       "        IPython.keyboard_manager.register_events(el);\n",
       "    }\n",
       "\n",
       "}\n",
       "\n",
       "mpl.figure.prototype._key_event_extra = function(event, name) {\n",
       "    var manager = IPython.notebook.keyboard_manager;\n",
       "    if (!manager)\n",
       "        manager = IPython.keyboard_manager;\n",
       "\n",
       "    // Check for shift+enter\n",
       "    if (event.shiftKey && event.which == 13) {\n",
       "        this.canvas_div.blur();\n",
       "        // select the cell after this one\n",
       "        var index = IPython.notebook.find_cell_index(this.cell_info[0]);\n",
       "        IPython.notebook.select(index + 1);\n",
       "    }\n",
       "}\n",
       "\n",
       "mpl.figure.prototype.handle_save = function(fig, msg) {\n",
       "    fig.ondownload(fig, null);\n",
       "}\n",
       "\n",
       "\n",
       "mpl.find_output_cell = function(html_output) {\n",
       "    // Return the cell and output element which can be found *uniquely* in the notebook.\n",
       "    // Note - this is a bit hacky, but it is done because the \"notebook_saving.Notebook\"\n",
       "    // IPython event is triggered only after the cells have been serialised, which for\n",
       "    // our purposes (turning an active figure into a static one), is too late.\n",
       "    var cells = IPython.notebook.get_cells();\n",
       "    var ncells = cells.length;\n",
       "    for (var i=0; i<ncells; i++) {\n",
       "        var cell = cells[i];\n",
       "        if (cell.cell_type === 'code'){\n",
       "            for (var j=0; j<cell.output_area.outputs.length; j++) {\n",
       "                var data = cell.output_area.outputs[j];\n",
       "                if (data.data) {\n",
       "                    // IPython >= 3 moved mimebundle to data attribute of output\n",
       "                    data = data.data;\n",
       "                }\n",
       "                if (data['text/html'] == html_output) {\n",
       "                    return [cell, data, j];\n",
       "                }\n",
       "            }\n",
       "        }\n",
       "    }\n",
       "}\n",
       "\n",
       "// Register the function which deals with the matplotlib target/channel.\n",
       "// The kernel may be null if the page has been refreshed.\n",
       "if (IPython.notebook.kernel != null) {\n",
       "    IPython.notebook.kernel.comm_manager.register_target('matplotlib', mpl.mpl_figure_comm);\n",
       "}\n"
      ],
      "text/plain": [
       "<IPython.core.display.Javascript object>"
      ]
     },
     "metadata": {},
     "output_type": "display_data"
    },
    {
     "data": {
      "text/html": [
       "<img src=\"data:image/png;base64,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\" width=\"1000\">"
      ],
      "text/plain": [
       "<IPython.core.display.HTML object>"
      ]
     },
     "metadata": {},
     "output_type": "display_data"
    }
   ],
   "source": [
    "ax, tax, lax, lines = dual_train_plots()\n",
    "fig = ax.figure\n",
    "plt.tight_layout()\n",
    "# This gets built up during the run - do not rerun this cell\n",
    "results = pd.DataFrame([], columns=Results._fields)"
   ]
  },
  {
   "cell_type": "code",
   "execution_count": 12,
   "metadata": {
    "scrolled": false
   },
   "outputs": [
    {
     "name": "stdout",
     "output_type": "stream",
     "text": [
      "for model:  ThreeFeature_All_CNN10Layer_X(\n",
      "  (conv1): Conv1d(1, 20, kernel_size=(25,), stride=(1,), padding=(12,))\n",
      "  (conv2): Conv1d(20, 10, kernel_size=(15,), stride=(1,), padding=(7,))\n",
      "  (conv3): Conv1d(30, 10, kernel_size=(15,), stride=(1,), padding=(7,))\n",
      "  (conv4): Conv1d(10, 10, kernel_size=(15,), stride=(1,), padding=(7,))\n",
      "  (conv5): Conv1d(20, 10, kernel_size=(15,), stride=(1,), padding=(7,))\n",
      "  (conv6): Conv1d(10, 10, kernel_size=(15,), stride=(1,), padding=(7,))\n",
      "  (conv7): Conv1d(20, 7, kernel_size=(5,), stride=(1,), padding=(2,))\n",
      "  (conv8): Conv1d(7, 3, kernel_size=(5,), stride=(1,), padding=(2,))\n",
      "  (conv9): Conv1d(10, 1, kernel_size=(5,), stride=(1,), padding=(2,))\n",
      "  (finalFilter): Conv1d(1, 1, kernel_size=(91,), stride=(1,), padding=(45,))\n",
      "  (ppConv1): Conv1d(2, 20, kernel_size=(25,), stride=(1,), padding=(12,))\n",
      "  (ppConv2): Conv1d(20, 10, kernel_size=(15,), stride=(1,), padding=(7,))\n",
      "  (ppConv3): Conv1d(10, 1, kernel_size=(15,), stride=(1,), padding=(7,))\n",
      "  (ppFinalFilter): Conv1d(1, 1, kernel_size=(91,), stride=(1,), padding=(45,))\n",
      "  (largeConv): Conv1d(2, 1, kernel_size=(91,), stride=(1,), padding=(45,))\n",
      "  (conv1dropout): Dropout(p=0.15, inplace=False)\n",
      "  (conv2dropout): Dropout(p=0.15, inplace=False)\n",
      "  (conv3dropout): Dropout(p=0.15, inplace=False)\n",
      "  (conv4dropout): Dropout(p=0.15, inplace=False)\n",
      "  (conv5dropout): Dropout(p=0.15, inplace=False)\n",
      "  (conv6dropout): Dropout(p=0.15, inplace=False)\n",
      "  (conv7dropout): Dropout(p=0.15, inplace=False)\n",
      "  (conv8dropout): Dropout(p=0.15, inplace=False)\n",
      "  (conv9dropout): Dropout(p=0.15, inplace=False)\n",
      "  (bn1): BatchNorm1d(20, eps=1e-05, momentum=0.1, affine=True, track_running_stats=True)\n",
      "  (bn2): BatchNorm1d(10, eps=1e-05, momentum=0.1, affine=True, track_running_stats=True)\n",
      "  (bn3): BatchNorm1d(10, eps=1e-05, momentum=0.1, affine=True, track_running_stats=True)\n",
      "  (bn4): BatchNorm1d(10, eps=1e-05, momentum=0.1, affine=True, track_running_stats=True)\n",
      "  (bn5): BatchNorm1d(10, eps=1e-05, momentum=0.1, affine=True, track_running_stats=True)\n",
      "  (bn6): BatchNorm1d(10, eps=1e-05, momentum=0.1, affine=True, track_running_stats=True)\n",
      "  (bn7): BatchNorm1d(7, eps=1e-05, momentum=0.1, affine=True, track_running_stats=True)\n",
      "  (bn8): BatchNorm1d(3, eps=1e-05, momentum=0.1, affine=True, track_running_stats=True)\n",
      "  (bn9): BatchNorm1d(1, eps=1e-05, momentum=0.1, affine=True, track_running_stats=True)\n",
      ")\n",
      "epoch_start 3920\n",
      "batch_size 128\n",
      "epochs 40\n",
      "lr 5e-05\n",
      "Number of batches: train = 1250, val = 78\n"
     ]
    },
    {
     "name": "stderr",
     "output_type": "stream",
     "text": [
      "/home/michael24peters/pv-finder_experimental/notebooks/model/training.py:95: TqdmDeprecationWarning: This function will be removed in tqdm==5.0.0\n",
      "Please use `tqdm.notebook.tqdm` instead of `tqdm.tqdm_notebook`\n",
      "  file=sys.stderr,\n"
     ]
    },
    {
     "data": {
      "application/vnd.jupyter.widget-view+json": {
       "model_id": "b65f6588862b462bbdcc54e2dc4062c0",
       "version_major": 2,
       "version_minor": 0
      },
      "text/plain": [
       "HBox(children=(FloatProgress(value=0.0, description='Epochs', layout=Layout(flex='2'), max=40.0, style=Progres…"
      ]
     },
     "metadata": {},
     "output_type": "display_data"
    },
    {
     "data": {
      "application/vnd.jupyter.widget-view+json": {
       "model_id": "",
       "version_major": 2,
       "version_minor": 0
      },
      "text/plain": [
       "HBox(children=(FloatProgress(value=0.0, description='Training', layout=Layout(flex='2'), max=1250.0, style=Pro…"
      ]
     },
     "metadata": {},
     "output_type": "display_data"
    },
    {
     "name": "stdout",
     "output_type": "stream",
     "text": [
      "Epoch 3920: train=9.55652, val=9.92606, took 93.737 s\n",
      "  Validation Found 51867 of 54504, added 2002 (eff 95.16%) (0.201 FP/event)\n",
      "Result epoch:  3920\n",
      "Average Eff:  0\n",
      "Average FP Rate:  0\n"
     ]
    },
    {
     "data": {
      "application/vnd.jupyter.widget-view+json": {
       "model_id": "",
       "version_major": 2,
       "version_minor": 0
      },
      "text/plain": [
       "HBox(children=(FloatProgress(value=0.0, description='Training', layout=Layout(flex='2'), max=1250.0, style=Pro…"
      ]
     },
     "metadata": {},
     "output_type": "display_data"
    },
    {
     "name": "stdout",
     "output_type": "stream",
     "text": [
      "Epoch 3921: train=9.53163, val=9.94691, took 87.776 s\n",
      "  Validation Found 51867 of 54504, added 2036 (eff 95.16%) (0.204 FP/event)\n",
      "Result epoch:  3921\n",
      "Average Eff:  0\n",
      "Average FP Rate:  0\n"
     ]
    },
    {
     "data": {
      "application/vnd.jupyter.widget-view+json": {
       "model_id": "",
       "version_major": 2,
       "version_minor": 0
      },
      "text/plain": [
       "HBox(children=(FloatProgress(value=0.0, description='Training', layout=Layout(flex='2'), max=1250.0, style=Pro…"
      ]
     },
     "metadata": {},
     "output_type": "display_data"
    },
    {
     "name": "stdout",
     "output_type": "stream",
     "text": [
      "Epoch 3922: train=9.52443, val=9.87877, took 87.162 s\n",
      "  Validation Found 51908 of 54504, added 2116 (eff 95.24%) (0.212 FP/event)\n",
      "Result epoch:  3922\n",
      "Average Eff:  0\n",
      "Average FP Rate:  0\n"
     ]
    },
    {
     "data": {
      "application/vnd.jupyter.widget-view+json": {
       "model_id": "",
       "version_major": 2,
       "version_minor": 0
      },
      "text/plain": [
       "HBox(children=(FloatProgress(value=0.0, description='Training', layout=Layout(flex='2'), max=1250.0, style=Pro…"
      ]
     },
     "metadata": {},
     "output_type": "display_data"
    },
    {
     "name": "stdout",
     "output_type": "stream",
     "text": [
      "Epoch 3923: train=9.53475, val=9.91772, took 87.35 s\n",
      "  Validation Found 51888 of 54504, added 2065 (eff 95.20%) (0.207 FP/event)\n",
      "Result epoch:  3923\n",
      "Average Eff:  0\n",
      "Average FP Rate:  0\n"
     ]
    },
    {
     "data": {
      "application/vnd.jupyter.widget-view+json": {
       "model_id": "",
       "version_major": 2,
       "version_minor": 0
      },
      "text/plain": [
       "HBox(children=(FloatProgress(value=0.0, description='Training', layout=Layout(flex='2'), max=1250.0, style=Pro…"
      ]
     },
     "metadata": {},
     "output_type": "display_data"
    },
    {
     "name": "stdout",
     "output_type": "stream",
     "text": [
      "Epoch 3924: train=9.52676, val=9.85854, took 87.445 s\n",
      "  Validation Found 51925 of 54504, added 2129 (eff 95.27%) (0.213 FP/event)\n",
      "Result epoch:  3924\n",
      "Average Eff:  0\n",
      "Average FP Rate:  0\n"
     ]
    },
    {
     "data": {
      "application/vnd.jupyter.widget-view+json": {
       "model_id": "",
       "version_major": 2,
       "version_minor": 0
      },
      "text/plain": [
       "HBox(children=(FloatProgress(value=0.0, description='Training', layout=Layout(flex='2'), max=1250.0, style=Pro…"
      ]
     },
     "metadata": {},
     "output_type": "display_data"
    },
    {
     "name": "stdout",
     "output_type": "stream",
     "text": [
      "Epoch 3925: train=9.53312, val=9.87893, took 87.632 s\n",
      "  Validation Found 51881 of 54504, added 2045 (eff 95.19%) (0.205 FP/event)\n",
      "Result epoch:  3925\n",
      "Average Eff:  0\n",
      "Average FP Rate:  0\n"
     ]
    },
    {
     "data": {
      "application/vnd.jupyter.widget-view+json": {
       "model_id": "",
       "version_major": 2,
       "version_minor": 0
      },
      "text/plain": [
       "HBox(children=(FloatProgress(value=0.0, description='Training', layout=Layout(flex='2'), max=1250.0, style=Pro…"
      ]
     },
     "metadata": {},
     "output_type": "display_data"
    },
    {
     "name": "stdout",
     "output_type": "stream",
     "text": [
      "Epoch 3926: train=9.52639, val=9.85043, took 89.726 s\n",
      "  Validation Found 51885 of 54504, added 2051 (eff 95.19%) (0.205 FP/event)\n",
      "Result epoch:  3926\n",
      "Average Eff:  0\n",
      "Average FP Rate:  0\n"
     ]
    },
    {
     "data": {
      "application/vnd.jupyter.widget-view+json": {
       "model_id": "",
       "version_major": 2,
       "version_minor": 0
      },
      "text/plain": [
       "HBox(children=(FloatProgress(value=0.0, description='Training', layout=Layout(flex='2'), max=1250.0, style=Pro…"
      ]
     },
     "metadata": {},
     "output_type": "display_data"
    },
    {
     "name": "stdout",
     "output_type": "stream",
     "text": [
      "Epoch 3927: train=9.52078, val=9.89795, took 91.263 s\n",
      "  Validation Found 51899 of 54504, added 2044 (eff 95.22%) (0.205 FP/event)\n",
      "Result epoch:  3927\n",
      "Average Eff:  0\n",
      "Average FP Rate:  0\n"
     ]
    },
    {
     "data": {
      "application/vnd.jupyter.widget-view+json": {
       "model_id": "",
       "version_major": 2,
       "version_minor": 0
      },
      "text/plain": [
       "HBox(children=(FloatProgress(value=0.0, description='Training', layout=Layout(flex='2'), max=1250.0, style=Pro…"
      ]
     },
     "metadata": {},
     "output_type": "display_data"
    },
    {
     "name": "stdout",
     "output_type": "stream",
     "text": [
      "Epoch 3928: train=9.52677, val=9.9049, took 87.863 s\n",
      "  Validation Found 51908 of 54504, added 2082 (eff 95.24%) (0.209 FP/event)\n",
      "Result epoch:  3928\n",
      "Average Eff:  0\n",
      "Average FP Rate:  0\n"
     ]
    },
    {
     "data": {
      "application/vnd.jupyter.widget-view+json": {
       "model_id": "",
       "version_major": 2,
       "version_minor": 0
      },
      "text/plain": [
       "HBox(children=(FloatProgress(value=0.0, description='Training', layout=Layout(flex='2'), max=1250.0, style=Pro…"
      ]
     },
     "metadata": {},
     "output_type": "display_data"
    },
    {
     "name": "stdout",
     "output_type": "stream",
     "text": [
      "Epoch 3929: train=9.53097, val=9.89515, took 87.925 s\n",
      "  Validation Found 51866 of 54504, added 2002 (eff 95.16%) (0.201 FP/event)\n",
      "Result epoch:  3929\n",
      "Average Eff:  0\n",
      "Average FP Rate:  0\n"
     ]
    },
    {
     "data": {
      "application/vnd.jupyter.widget-view+json": {
       "model_id": "",
       "version_major": 2,
       "version_minor": 0
      },
      "text/plain": [
       "HBox(children=(FloatProgress(value=0.0, description='Training', layout=Layout(flex='2'), max=1250.0, style=Pro…"
      ]
     },
     "metadata": {},
     "output_type": "display_data"
    },
    {
     "name": "stdout",
     "output_type": "stream",
     "text": [
      "Epoch 3930: train=9.5305, val=9.90952, took 87.292 s\n",
      "  Validation Found 51883 of 54504, added 2067 (eff 95.19%) (0.207 FP/event)\n",
      "Result epoch:  3930\n",
      "Average Eff:  0\n",
      "Average FP Rate:  0\n"
     ]
    },
    {
     "data": {
      "application/vnd.jupyter.widget-view+json": {
       "model_id": "",
       "version_major": 2,
       "version_minor": 0
      },
      "text/plain": [
       "HBox(children=(FloatProgress(value=0.0, description='Training', layout=Layout(flex='2'), max=1250.0, style=Pro…"
      ]
     },
     "metadata": {},
     "output_type": "display_data"
    },
    {
     "name": "stdout",
     "output_type": "stream",
     "text": [
      "Epoch 3931: train=9.52602, val=9.85925, took 87.256 s\n",
      "  Validation Found 51888 of 54504, added 2058 (eff 95.20%) (0.206 FP/event)\n",
      "Result epoch:  3931\n",
      "Average Eff:  0\n",
      "Average FP Rate:  0\n"
     ]
    },
    {
     "data": {
      "application/vnd.jupyter.widget-view+json": {
       "model_id": "",
       "version_major": 2,
       "version_minor": 0
      },
      "text/plain": [
       "HBox(children=(FloatProgress(value=0.0, description='Training', layout=Layout(flex='2'), max=1250.0, style=Pro…"
      ]
     },
     "metadata": {},
     "output_type": "display_data"
    },
    {
     "name": "stdout",
     "output_type": "stream",
     "text": [
      "Epoch 3932: train=9.5313, val=9.869, took 87.578 s\n",
      "  Validation Found 51891 of 54504, added 2063 (eff 95.21%) (0.207 FP/event)\n",
      "Result epoch:  3932\n",
      "Average Eff:  0\n",
      "Average FP Rate:  0\n"
     ]
    },
    {
     "data": {
      "application/vnd.jupyter.widget-view+json": {
       "model_id": "",
       "version_major": 2,
       "version_minor": 0
      },
      "text/plain": [
       "HBox(children=(FloatProgress(value=0.0, description='Training', layout=Layout(flex='2'), max=1250.0, style=Pro…"
      ]
     },
     "metadata": {},
     "output_type": "display_data"
    },
    {
     "name": "stdout",
     "output_type": "stream",
     "text": [
      "Epoch 3933: train=9.52515, val=9.8821, took 87.39 s\n",
      "  Validation Found 51882 of 54504, added 2054 (eff 95.19%) (0.206 FP/event)\n",
      "Result epoch:  3933\n",
      "Average Eff:  0\n",
      "Average FP Rate:  0\n"
     ]
    },
    {
     "data": {
      "application/vnd.jupyter.widget-view+json": {
       "model_id": "",
       "version_major": 2,
       "version_minor": 0
      },
      "text/plain": [
       "HBox(children=(FloatProgress(value=0.0, description='Training', layout=Layout(flex='2'), max=1250.0, style=Pro…"
      ]
     },
     "metadata": {},
     "output_type": "display_data"
    },
    {
     "name": "stdout",
     "output_type": "stream",
     "text": [
      "Epoch 3934: train=9.52625, val=9.86786, took 87.361 s\n",
      "  Validation Found 51900 of 54504, added 2116 (eff 95.22%) (0.212 FP/event)\n",
      "Result epoch:  3934\n",
      "Average Eff:  0\n",
      "Average FP Rate:  0\n"
     ]
    },
    {
     "data": {
      "application/vnd.jupyter.widget-view+json": {
       "model_id": "",
       "version_major": 2,
       "version_minor": 0
      },
      "text/plain": [
       "HBox(children=(FloatProgress(value=0.0, description='Training', layout=Layout(flex='2'), max=1250.0, style=Pro…"
      ]
     },
     "metadata": {},
     "output_type": "display_data"
    },
    {
     "name": "stdout",
     "output_type": "stream",
     "text": [
      "Epoch 3935: train=9.52662, val=9.89788, took 87.522 s\n",
      "  Validation Found 51882 of 54504, added 2048 (eff 95.19%) (0.205 FP/event)\n",
      "Result epoch:  3935\n",
      "Average Eff:  0\n",
      "Average FP Rate:  0\n"
     ]
    },
    {
     "data": {
      "application/vnd.jupyter.widget-view+json": {
       "model_id": "",
       "version_major": 2,
       "version_minor": 0
      },
      "text/plain": [
       "HBox(children=(FloatProgress(value=0.0, description='Training', layout=Layout(flex='2'), max=1250.0, style=Pro…"
      ]
     },
     "metadata": {},
     "output_type": "display_data"
    },
    {
     "name": "stdout",
     "output_type": "stream",
     "text": [
      "Epoch 3936: train=9.52015, val=9.85241, took 87.355 s\n",
      "  Validation Found 51893 of 54504, added 2100 (eff 95.21%) (0.21 FP/event)\n",
      "Result epoch:  3936\n",
      "Average Eff:  0\n",
      "Average FP Rate:  0\n"
     ]
    },
    {
     "data": {
      "application/vnd.jupyter.widget-view+json": {
       "model_id": "",
       "version_major": 2,
       "version_minor": 0
      },
      "text/plain": [
       "HBox(children=(FloatProgress(value=0.0, description='Training', layout=Layout(flex='2'), max=1250.0, style=Pro…"
      ]
     },
     "metadata": {},
     "output_type": "display_data"
    },
    {
     "name": "stdout",
     "output_type": "stream",
     "text": [
      "Epoch 3937: train=9.52425, val=9.91676, took 87.271 s\n",
      "  Validation Found 51866 of 54504, added 2036 (eff 95.16%) (0.204 FP/event)\n",
      "Result epoch:  3937\n",
      "Average Eff:  0\n",
      "Average FP Rate:  0\n"
     ]
    },
    {
     "data": {
      "application/vnd.jupyter.widget-view+json": {
       "model_id": "",
       "version_major": 2,
       "version_minor": 0
      },
      "text/plain": [
       "HBox(children=(FloatProgress(value=0.0, description='Training', layout=Layout(flex='2'), max=1250.0, style=Pro…"
      ]
     },
     "metadata": {},
     "output_type": "display_data"
    },
    {
     "name": "stdout",
     "output_type": "stream",
     "text": [
      "Epoch 3938: train=9.52276, val=9.86816, took 87.283 s\n",
      "  Validation Found 51892 of 54504, added 2055 (eff 95.21%) (0.206 FP/event)\n",
      "Result epoch:  3938\n",
      "Average Eff:  0\n",
      "Average FP Rate:  0\n"
     ]
    },
    {
     "data": {
      "application/vnd.jupyter.widget-view+json": {
       "model_id": "",
       "version_major": 2,
       "version_minor": 0
      },
      "text/plain": [
       "HBox(children=(FloatProgress(value=0.0, description='Training', layout=Layout(flex='2'), max=1250.0, style=Pro…"
      ]
     },
     "metadata": {},
     "output_type": "display_data"
    },
    {
     "name": "stdout",
     "output_type": "stream",
     "text": [
      "Epoch 3939: train=9.52872, val=9.86915, took 87.352 s\n",
      "  Validation Found 51894 of 54504, added 2069 (eff 95.21%) (0.207 FP/event)\n",
      "Result epoch:  3939\n",
      "Average Eff:  0\n",
      "Average FP Rate:  0\n"
     ]
    },
    {
     "data": {
      "application/vnd.jupyter.widget-view+json": {
       "model_id": "",
       "version_major": 2,
       "version_minor": 0
      },
      "text/plain": [
       "HBox(children=(FloatProgress(value=0.0, description='Training', layout=Layout(flex='2'), max=1250.0, style=Pro…"
      ]
     },
     "metadata": {},
     "output_type": "display_data"
    },
    {
     "name": "stdout",
     "output_type": "stream",
     "text": [
      "Epoch 3940: train=9.52856, val=9.84568, took 87.199 s\n",
      "  Validation Found 51889 of 54504, added 2098 (eff 95.20%) (0.21 FP/event)\n",
      "Result epoch:  3940\n",
      "Average Eff:  0\n",
      "Average FP Rate:  0\n"
     ]
    },
    {
     "data": {
      "application/vnd.jupyter.widget-view+json": {
       "model_id": "",
       "version_major": 2,
       "version_minor": 0
      },
      "text/plain": [
       "HBox(children=(FloatProgress(value=0.0, description='Training', layout=Layout(flex='2'), max=1250.0, style=Pro…"
      ]
     },
     "metadata": {},
     "output_type": "display_data"
    },
    {
     "name": "stdout",
     "output_type": "stream",
     "text": [
      "Epoch 3941: train=9.52606, val=9.88353, took 87.388 s\n",
      "  Validation Found 51872 of 54504, added 2010 (eff 95.17%) (0.201 FP/event)\n",
      "Result epoch:  3941\n",
      "Average Eff:  0\n",
      "Average FP Rate:  0\n"
     ]
    },
    {
     "data": {
      "application/vnd.jupyter.widget-view+json": {
       "model_id": "",
       "version_major": 2,
       "version_minor": 0
      },
      "text/plain": [
       "HBox(children=(FloatProgress(value=0.0, description='Training', layout=Layout(flex='2'), max=1250.0, style=Pro…"
      ]
     },
     "metadata": {},
     "output_type": "display_data"
    },
    {
     "name": "stdout",
     "output_type": "stream",
     "text": [
      "Epoch 3942: train=9.52862, val=9.87961, took 87.105 s\n",
      "  Validation Found 51910 of 54504, added 2096 (eff 95.24%) (0.21 FP/event)\n",
      "Result epoch:  3942\n",
      "Average Eff:  0\n",
      "Average FP Rate:  0\n"
     ]
    },
    {
     "data": {
      "application/vnd.jupyter.widget-view+json": {
       "model_id": "",
       "version_major": 2,
       "version_minor": 0
      },
      "text/plain": [
       "HBox(children=(FloatProgress(value=0.0, description='Training', layout=Layout(flex='2'), max=1250.0, style=Pro…"
      ]
     },
     "metadata": {},
     "output_type": "display_data"
    },
    {
     "name": "stdout",
     "output_type": "stream",
     "text": [
      "Epoch 3943: train=9.52131, val=9.8603, took 87.337 s\n",
      "  Validation Found 51921 of 54504, added 2141 (eff 95.26%) (0.214 FP/event)\n",
      "Result epoch:  3943\n",
      "Average Eff:  0\n",
      "Average FP Rate:  0\n"
     ]
    },
    {
     "data": {
      "application/vnd.jupyter.widget-view+json": {
       "model_id": "",
       "version_major": 2,
       "version_minor": 0
      },
      "text/plain": [
       "HBox(children=(FloatProgress(value=0.0, description='Training', layout=Layout(flex='2'), max=1250.0, style=Pro…"
      ]
     },
     "metadata": {},
     "output_type": "display_data"
    },
    {
     "name": "stdout",
     "output_type": "stream",
     "text": [
      "Epoch 3944: train=9.52046, val=9.87876, took 87.311 s\n",
      "  Validation Found 51892 of 54504, added 2082 (eff 95.21%) (0.209 FP/event)\n",
      "Result epoch:  3944\n",
      "Average Eff:  0\n",
      "Average FP Rate:  0\n"
     ]
    },
    {
     "data": {
      "application/vnd.jupyter.widget-view+json": {
       "model_id": "",
       "version_major": 2,
       "version_minor": 0
      },
      "text/plain": [
       "HBox(children=(FloatProgress(value=0.0, description='Training', layout=Layout(flex='2'), max=1250.0, style=Pro…"
      ]
     },
     "metadata": {},
     "output_type": "display_data"
    },
    {
     "name": "stdout",
     "output_type": "stream",
     "text": [
      "Epoch 3945: train=9.52367, val=9.83409, took 87.292 s\n",
      "  Validation Found 51914 of 54504, added 2121 (eff 95.25%) (0.212 FP/event)\n",
      "Result epoch:  3945\n",
      "Average Eff:  0\n",
      "Average FP Rate:  0\n"
     ]
    },
    {
     "data": {
      "application/vnd.jupyter.widget-view+json": {
       "model_id": "",
       "version_major": 2,
       "version_minor": 0
      },
      "text/plain": [
       "HBox(children=(FloatProgress(value=0.0, description='Training', layout=Layout(flex='2'), max=1250.0, style=Pro…"
      ]
     },
     "metadata": {},
     "output_type": "display_data"
    },
    {
     "name": "stdout",
     "output_type": "stream",
     "text": [
      "Epoch 3946: train=9.51738, val=9.86004, took 87.247 s\n",
      "  Validation Found 51949 of 54504, added 2161 (eff 95.31%) (0.216 FP/event)\n",
      "Result epoch:  3946\n",
      "Average Eff:  0\n",
      "Average FP Rate:  0\n"
     ]
    },
    {
     "data": {
      "application/vnd.jupyter.widget-view+json": {
       "model_id": "",
       "version_major": 2,
       "version_minor": 0
      },
      "text/plain": [
       "HBox(children=(FloatProgress(value=0.0, description='Training', layout=Layout(flex='2'), max=1250.0, style=Pro…"
      ]
     },
     "metadata": {},
     "output_type": "display_data"
    },
    {
     "name": "stdout",
     "output_type": "stream",
     "text": [
      "Epoch 3947: train=9.52163, val=9.85261, took 87.232 s\n",
      "  Validation Found 51875 of 54504, added 2034 (eff 95.18%) (0.204 FP/event)\n",
      "Result epoch:  3947\n",
      "Average Eff:  0\n",
      "Average FP Rate:  0\n"
     ]
    },
    {
     "data": {
      "application/vnd.jupyter.widget-view+json": {
       "model_id": "",
       "version_major": 2,
       "version_minor": 0
      },
      "text/plain": [
       "HBox(children=(FloatProgress(value=0.0, description='Training', layout=Layout(flex='2'), max=1250.0, style=Pro…"
      ]
     },
     "metadata": {},
     "output_type": "display_data"
    },
    {
     "name": "stdout",
     "output_type": "stream",
     "text": [
      "Epoch 3948: train=9.5259, val=9.89373, took 87.166 s\n",
      "  Validation Found 51857 of 54504, added 1998 (eff 95.14%) (0.2 FP/event)\n",
      "Result epoch:  3948\n",
      "Average Eff:  0\n",
      "Average FP Rate:  0\n"
     ]
    },
    {
     "data": {
      "application/vnd.jupyter.widget-view+json": {
       "model_id": "",
       "version_major": 2,
       "version_minor": 0
      },
      "text/plain": [
       "HBox(children=(FloatProgress(value=0.0, description='Training', layout=Layout(flex='2'), max=1250.0, style=Pro…"
      ]
     },
     "metadata": {},
     "output_type": "display_data"
    },
    {
     "name": "stdout",
     "output_type": "stream",
     "text": [
      "Epoch 3949: train=9.52283, val=9.88458, took 87.468 s\n",
      "  Validation Found 51891 of 54504, added 2069 (eff 95.21%) (0.207 FP/event)\n",
      "Result epoch:  3949\n",
      "Average Eff:  0\n",
      "Average FP Rate:  0\n"
     ]
    },
    {
     "data": {
      "application/vnd.jupyter.widget-view+json": {
       "model_id": "",
       "version_major": 2,
       "version_minor": 0
      },
      "text/plain": [
       "HBox(children=(FloatProgress(value=0.0, description='Training', layout=Layout(flex='2'), max=1250.0, style=Pro…"
      ]
     },
     "metadata": {},
     "output_type": "display_data"
    },
    {
     "name": "stdout",
     "output_type": "stream",
     "text": [
      "Epoch 3950: train=9.52257, val=9.84643, took 87.304 s\n",
      "  Validation Found 51902 of 54504, added 2078 (eff 95.23%) (0.208 FP/event)\n",
      "Result epoch:  3950\n",
      "Average Eff:  0.9522603845589315\n",
      "Average FP Rate:  0.20811216825237858\n"
     ]
    },
    {
     "data": {
      "application/vnd.jupyter.widget-view+json": {
       "model_id": "",
       "version_major": 2,
       "version_minor": 0
      },
      "text/plain": [
       "HBox(children=(FloatProgress(value=0.0, description='Training', layout=Layout(flex='2'), max=1250.0, style=Pro…"
      ]
     },
     "metadata": {},
     "output_type": "display_data"
    },
    {
     "name": "stdout",
     "output_type": "stream",
     "text": [
      "Epoch 3951: train=9.52403, val=9.84336, took 87.28 s\n",
      "  Validation Found 51880 of 54504, added 2040 (eff 95.19%) (0.204 FP/event)\n",
      "Result epoch:  3951\n",
      "Average Eff:  1.9041171290180539\n",
      "Average FP Rate:  0.41241862794191286\n"
     ]
    },
    {
     "data": {
      "application/vnd.jupyter.widget-view+json": {
       "model_id": "",
       "version_major": 2,
       "version_minor": 0
      },
      "text/plain": [
       "HBox(children=(FloatProgress(value=0.0, description='Training', layout=Layout(flex='2'), max=1250.0, style=Pro…"
      ]
     },
     "metadata": {},
     "output_type": "display_data"
    },
    {
     "name": "stdout",
     "output_type": "stream",
     "text": [
      "Epoch 3952: train=9.52548, val=9.86345, took 87.193 s\n",
      "  Validation Found 51868 of 54504, added 2027 (eff 95.16%) (0.203 FP/event)\n",
      "Result epoch:  3952\n",
      "Average Eff:  2.8557537061500073\n",
      "Average FP Rate:  0.6154231347020531\n"
     ]
    },
    {
     "data": {
      "application/vnd.jupyter.widget-view+json": {
       "model_id": "",
       "version_major": 2,
       "version_minor": 0
      },
      "text/plain": [
       "HBox(children=(FloatProgress(value=0.0, description='Training', layout=Layout(flex='2'), max=1250.0, style=Pro…"
      ]
     },
     "metadata": {},
     "output_type": "display_data"
    },
    {
     "name": "stdout",
     "output_type": "stream",
     "text": [
      "Epoch 3953: train=9.52829, val=9.87065, took 87.295 s\n",
      "  Validation Found 51862 of 54504, added 2012 (eff 95.15%) (0.202 FP/event)\n",
      "Result epoch:  3953\n",
      "Average Eff:  3.8072801996183765\n",
      "Average FP Rate:  0.8169253880821232\n"
     ]
    },
    {
     "data": {
      "application/vnd.jupyter.widget-view+json": {
       "model_id": "",
       "version_major": 2,
       "version_minor": 0
      },
      "text/plain": [
       "HBox(children=(FloatProgress(value=0.0, description='Training', layout=Layout(flex='2'), max=1250.0, style=Pro…"
      ]
     },
     "metadata": {},
     "output_type": "display_data"
    },
    {
     "name": "stdout",
     "output_type": "stream",
     "text": [
      "Epoch 3954: train=9.51721, val=9.84981, took 87.251 s\n",
      "  Validation Found 51904 of 54504, added 2082 (eff 95.23%) (0.209 FP/event)\n",
      "Result epoch:  3954\n",
      "Average Eff:  4.759577278731836\n",
      "Average FP Rate:  1.0254381572358537\n"
     ]
    },
    {
     "data": {
      "application/vnd.jupyter.widget-view+json": {
       "model_id": "",
       "version_major": 2,
       "version_minor": 0
      },
      "text/plain": [
       "HBox(children=(FloatProgress(value=0.0, description='Training', layout=Layout(flex='2'), max=1250.0, style=Pro…"
      ]
     },
     "metadata": {},
     "output_type": "display_data"
    },
    {
     "name": "stdout",
     "output_type": "stream",
     "text": [
      "Epoch 3955: train=9.5239, val=9.89428, took 87.258 s\n",
      "  Validation Found 51860 of 54504, added 2022 (eff 95.15%) (0.203 FP/event)\n",
      "Result epoch:  3955\n",
      "Average Eff:  5.711067077645677\n",
      "Average FP Rate:  1.2279419128693039\n"
     ]
    },
    {
     "data": {
      "application/vnd.jupyter.widget-view+json": {
       "model_id": "",
       "version_major": 2,
       "version_minor": 0
      },
      "text/plain": [
       "HBox(children=(FloatProgress(value=0.0, description='Training', layout=Layout(flex='2'), max=1250.0, style=Pro…"
      ]
     },
     "metadata": {},
     "output_type": "display_data"
    },
    {
     "name": "stdout",
     "output_type": "stream",
     "text": [
      "Epoch 3956: train=9.52096, val=9.85654, took 87.626 s\n",
      "  Validation Found 51877 of 54504, added 2032 (eff 95.18%) (0.204 FP/event)\n",
      "Result epoch:  3956\n",
      "Average Eff:  6.6628687802730076\n",
      "Average FP Rate:  1.431447170756134\n"
     ]
    },
    {
     "data": {
      "application/vnd.jupyter.widget-view+json": {
       "model_id": "",
       "version_major": 2,
       "version_minor": 0
      },
      "text/plain": [
       "HBox(children=(FloatProgress(value=0.0, description='Training', layout=Layout(flex='2'), max=1250.0, style=Pro…"
      ]
     },
     "metadata": {},
     "output_type": "display_data"
    },
    {
     "name": "stdout",
     "output_type": "stream",
     "text": [
      "Epoch 3957: train=9.52444, val=9.86493, took 87.877 s\n",
      "  Validation Found 51870 of 54504, added 2060 (eff 95.17%) (0.206 FP/event)\n",
      "Result epoch:  3957\n",
      "Average Eff:  7.614542051959489\n",
      "Average FP Rate:  1.6377566349524284\n"
     ]
    },
    {
     "data": {
      "application/vnd.jupyter.widget-view+json": {
       "model_id": "",
       "version_major": 2,
       "version_minor": 0
      },
      "text/plain": [
       "HBox(children=(FloatProgress(value=0.0, description='Training', layout=Layout(flex='2'), max=1250.0, style=Pro…"
      ]
     },
     "metadata": {},
     "output_type": "display_data"
    },
    {
     "name": "stdout",
     "output_type": "stream",
     "text": [
      "Epoch 3958: train=9.51498, val=9.86503, took 87.851 s\n",
      "  Validation Found 51895 of 54504, added 2080 (eff 95.21%) (0.208 FP/event)\n",
      "Result epoch:  3958\n",
      "Average Eff:  8.566674005577573\n",
      "Average FP Rate:  1.846069103655483\n"
     ]
    },
    {
     "data": {
      "application/vnd.jupyter.widget-view+json": {
       "model_id": "",
       "version_major": 2,
       "version_minor": 0
      },
      "text/plain": [
       "HBox(children=(FloatProgress(value=0.0, description='Training', layout=Layout(flex='2'), max=1250.0, style=Pro…"
      ]
     },
     "metadata": {},
     "output_type": "display_data"
    },
    {
     "name": "stdout",
     "output_type": "stream",
     "text": [
      "Epoch 3959: train=9.52452, val=9.8967, took 87.832 s\n",
      "  Validation Found 51882 of 54504, added 2064 (eff 95.19%) (0.207 FP/event)\n",
      "Result epoch:  3959\n",
      "Averaging...\n",
      "\n",
      "Average Eff:  0.9518567444591224\n",
      "Average FP Rate:  0.20527791687531294\n",
      "\n"
     ]
    },
    {
     "data": {
      "application/javascript": [
       "/* Put everything inside the global mpl namespace */\n",
       "window.mpl = {};\n",
       "\n",
       "\n",
       "mpl.get_websocket_type = function() {\n",
       "    if (typeof(WebSocket) !== 'undefined') {\n",
       "        return WebSocket;\n",
       "    } else if (typeof(MozWebSocket) !== 'undefined') {\n",
       "        return MozWebSocket;\n",
       "    } else {\n",
       "        alert('Your browser does not have WebSocket support. ' +\n",
       "              'Please try Chrome, Safari or Firefox ≥ 6. ' +\n",
       "              'Firefox 4 and 5 are also supported but you ' +\n",
       "              'have to enable WebSockets in about:config.');\n",
       "    };\n",
       "}\n",
       "\n",
       "mpl.figure = function(figure_id, websocket, ondownload, parent_element) {\n",
       "    this.id = figure_id;\n",
       "\n",
       "    this.ws = websocket;\n",
       "\n",
       "    this.supports_binary = (this.ws.binaryType != undefined);\n",
       "\n",
       "    if (!this.supports_binary) {\n",
       "        var warnings = document.getElementById(\"mpl-warnings\");\n",
       "        if (warnings) {\n",
       "            warnings.style.display = 'block';\n",
       "            warnings.textContent = (\n",
       "                \"This browser does not support binary websocket messages. \" +\n",
       "                    \"Performance may be slow.\");\n",
       "        }\n",
       "    }\n",
       "\n",
       "    this.imageObj = new Image();\n",
       "\n",
       "    this.context = undefined;\n",
       "    this.message = undefined;\n",
       "    this.canvas = undefined;\n",
       "    this.rubberband_canvas = undefined;\n",
       "    this.rubberband_context = undefined;\n",
       "    this.format_dropdown = undefined;\n",
       "\n",
       "    this.image_mode = 'full';\n",
       "\n",
       "    this.root = $('<div/>');\n",
       "    this._root_extra_style(this.root)\n",
       "    this.root.attr('style', 'display: inline-block');\n",
       "\n",
       "    $(parent_element).append(this.root);\n",
       "\n",
       "    this._init_header(this);\n",
       "    this._init_canvas(this);\n",
       "    this._init_toolbar(this);\n",
       "\n",
       "    var fig = this;\n",
       "\n",
       "    this.waiting = false;\n",
       "\n",
       "    this.ws.onopen =  function () {\n",
       "            fig.send_message(\"supports_binary\", {value: fig.supports_binary});\n",
       "            fig.send_message(\"send_image_mode\", {});\n",
       "            if (mpl.ratio != 1) {\n",
       "                fig.send_message(\"set_dpi_ratio\", {'dpi_ratio': mpl.ratio});\n",
       "            }\n",
       "            fig.send_message(\"refresh\", {});\n",
       "        }\n",
       "\n",
       "    this.imageObj.onload = function() {\n",
       "            if (fig.image_mode == 'full') {\n",
       "                // Full images could contain transparency (where diff images\n",
       "                // almost always do), so we need to clear the canvas so that\n",
       "                // there is no ghosting.\n",
       "                fig.context.clearRect(0, 0, fig.canvas.width, fig.canvas.height);\n",
       "            }\n",
       "            fig.context.drawImage(fig.imageObj, 0, 0);\n",
       "        };\n",
       "\n",
       "    this.imageObj.onunload = function() {\n",
       "        fig.ws.close();\n",
       "    }\n",
       "\n",
       "    this.ws.onmessage = this._make_on_message_function(this);\n",
       "\n",
       "    this.ondownload = ondownload;\n",
       "}\n",
       "\n",
       "mpl.figure.prototype._init_header = function() {\n",
       "    var titlebar = $(\n",
       "        '<div class=\"ui-dialog-titlebar ui-widget-header ui-corner-all ' +\n",
       "        'ui-helper-clearfix\"/>');\n",
       "    var titletext = $(\n",
       "        '<div class=\"ui-dialog-title\" style=\"width: 100%; ' +\n",
       "        'text-align: center; padding: 3px;\"/>');\n",
       "    titlebar.append(titletext)\n",
       "    this.root.append(titlebar);\n",
       "    this.header = titletext[0];\n",
       "}\n",
       "\n",
       "\n",
       "\n",
       "mpl.figure.prototype._canvas_extra_style = function(canvas_div) {\n",
       "\n",
       "}\n",
       "\n",
       "\n",
       "mpl.figure.prototype._root_extra_style = function(canvas_div) {\n",
       "\n",
       "}\n",
       "\n",
       "mpl.figure.prototype._init_canvas = function() {\n",
       "    var fig = this;\n",
       "\n",
       "    var canvas_div = $('<div/>');\n",
       "\n",
       "    canvas_div.attr('style', 'position: relative; clear: both; outline: 0');\n",
       "\n",
       "    function canvas_keyboard_event(event) {\n",
       "        return fig.key_event(event, event['data']);\n",
       "    }\n",
       "\n",
       "    canvas_div.keydown('key_press', canvas_keyboard_event);\n",
       "    canvas_div.keyup('key_release', canvas_keyboard_event);\n",
       "    this.canvas_div = canvas_div\n",
       "    this._canvas_extra_style(canvas_div)\n",
       "    this.root.append(canvas_div);\n",
       "\n",
       "    var canvas = $('<canvas/>');\n",
       "    canvas.addClass('mpl-canvas');\n",
       "    canvas.attr('style', \"left: 0; top: 0; z-index: 0; outline: 0\")\n",
       "\n",
       "    this.canvas = canvas[0];\n",
       "    this.context = canvas[0].getContext(\"2d\");\n",
       "\n",
       "    var backingStore = this.context.backingStorePixelRatio ||\n",
       "\tthis.context.webkitBackingStorePixelRatio ||\n",
       "\tthis.context.mozBackingStorePixelRatio ||\n",
       "\tthis.context.msBackingStorePixelRatio ||\n",
       "\tthis.context.oBackingStorePixelRatio ||\n",
       "\tthis.context.backingStorePixelRatio || 1;\n",
       "\n",
       "    mpl.ratio = (window.devicePixelRatio || 1) / backingStore;\n",
       "\n",
       "    var rubberband = $('<canvas/>');\n",
       "    rubberband.attr('style', \"position: absolute; left: 0; top: 0; z-index: 1;\")\n",
       "\n",
       "    var pass_mouse_events = true;\n",
       "\n",
       "    canvas_div.resizable({\n",
       "        start: function(event, ui) {\n",
       "            pass_mouse_events = false;\n",
       "        },\n",
       "        resize: function(event, ui) {\n",
       "            fig.request_resize(ui.size.width, ui.size.height);\n",
       "        },\n",
       "        stop: function(event, ui) {\n",
       "            pass_mouse_events = true;\n",
       "            fig.request_resize(ui.size.width, ui.size.height);\n",
       "        },\n",
       "    });\n",
       "\n",
       "    function mouse_event_fn(event) {\n",
       "        if (pass_mouse_events)\n",
       "            return fig.mouse_event(event, event['data']);\n",
       "    }\n",
       "\n",
       "    rubberband.mousedown('button_press', mouse_event_fn);\n",
       "    rubberband.mouseup('button_release', mouse_event_fn);\n",
       "    // Throttle sequential mouse events to 1 every 20ms.\n",
       "    rubberband.mousemove('motion_notify', mouse_event_fn);\n",
       "\n",
       "    rubberband.mouseenter('figure_enter', mouse_event_fn);\n",
       "    rubberband.mouseleave('figure_leave', mouse_event_fn);\n",
       "\n",
       "    canvas_div.on(\"wheel\", function (event) {\n",
       "        event = event.originalEvent;\n",
       "        event['data'] = 'scroll'\n",
       "        if (event.deltaY < 0) {\n",
       "            event.step = 1;\n",
       "        } else {\n",
       "            event.step = -1;\n",
       "        }\n",
       "        mouse_event_fn(event);\n",
       "    });\n",
       "\n",
       "    canvas_div.append(canvas);\n",
       "    canvas_div.append(rubberband);\n",
       "\n",
       "    this.rubberband = rubberband;\n",
       "    this.rubberband_canvas = rubberband[0];\n",
       "    this.rubberband_context = rubberband[0].getContext(\"2d\");\n",
       "    this.rubberband_context.strokeStyle = \"#000000\";\n",
       "\n",
       "    this._resize_canvas = function(width, height) {\n",
       "        // Keep the size of the canvas, canvas container, and rubber band\n",
       "        // canvas in synch.\n",
       "        canvas_div.css('width', width)\n",
       "        canvas_div.css('height', height)\n",
       "\n",
       "        canvas.attr('width', width * mpl.ratio);\n",
       "        canvas.attr('height', height * mpl.ratio);\n",
       "        canvas.attr('style', 'width: ' + width + 'px; height: ' + height + 'px;');\n",
       "\n",
       "        rubberband.attr('width', width);\n",
       "        rubberband.attr('height', height);\n",
       "    }\n",
       "\n",
       "    // Set the figure to an initial 600x600px, this will subsequently be updated\n",
       "    // upon first draw.\n",
       "    this._resize_canvas(600, 600);\n",
       "\n",
       "    // Disable right mouse context menu.\n",
       "    $(this.rubberband_canvas).bind(\"contextmenu\",function(e){\n",
       "        return false;\n",
       "    });\n",
       "\n",
       "    function set_focus () {\n",
       "        canvas.focus();\n",
       "        canvas_div.focus();\n",
       "    }\n",
       "\n",
       "    window.setTimeout(set_focus, 100);\n",
       "}\n",
       "\n",
       "mpl.figure.prototype._init_toolbar = function() {\n",
       "    var fig = this;\n",
       "\n",
       "    var nav_element = $('<div/>');\n",
       "    nav_element.attr('style', 'width: 100%');\n",
       "    this.root.append(nav_element);\n",
       "\n",
       "    // Define a callback function for later on.\n",
       "    function toolbar_event(event) {\n",
       "        return fig.toolbar_button_onclick(event['data']);\n",
       "    }\n",
       "    function toolbar_mouse_event(event) {\n",
       "        return fig.toolbar_button_onmouseover(event['data']);\n",
       "    }\n",
       "\n",
       "    for(var toolbar_ind in mpl.toolbar_items) {\n",
       "        var name = mpl.toolbar_items[toolbar_ind][0];\n",
       "        var tooltip = mpl.toolbar_items[toolbar_ind][1];\n",
       "        var image = mpl.toolbar_items[toolbar_ind][2];\n",
       "        var method_name = mpl.toolbar_items[toolbar_ind][3];\n",
       "\n",
       "        if (!name) {\n",
       "            // put a spacer in here.\n",
       "            continue;\n",
       "        }\n",
       "        var button = $('<button/>');\n",
       "        button.addClass('ui-button ui-widget ui-state-default ui-corner-all ' +\n",
       "                        'ui-button-icon-only');\n",
       "        button.attr('role', 'button');\n",
       "        button.attr('aria-disabled', 'false');\n",
       "        button.click(method_name, toolbar_event);\n",
       "        button.mouseover(tooltip, toolbar_mouse_event);\n",
       "\n",
       "        var icon_img = $('<span/>');\n",
       "        icon_img.addClass('ui-button-icon-primary ui-icon');\n",
       "        icon_img.addClass(image);\n",
       "        icon_img.addClass('ui-corner-all');\n",
       "\n",
       "        var tooltip_span = $('<span/>');\n",
       "        tooltip_span.addClass('ui-button-text');\n",
       "        tooltip_span.html(tooltip);\n",
       "\n",
       "        button.append(icon_img);\n",
       "        button.append(tooltip_span);\n",
       "\n",
       "        nav_element.append(button);\n",
       "    }\n",
       "\n",
       "    var fmt_picker_span = $('<span/>');\n",
       "\n",
       "    var fmt_picker = $('<select/>');\n",
       "    fmt_picker.addClass('mpl-toolbar-option ui-widget ui-widget-content');\n",
       "    fmt_picker_span.append(fmt_picker);\n",
       "    nav_element.append(fmt_picker_span);\n",
       "    this.format_dropdown = fmt_picker[0];\n",
       "\n",
       "    for (var ind in mpl.extensions) {\n",
       "        var fmt = mpl.extensions[ind];\n",
       "        var option = $(\n",
       "            '<option/>', {selected: fmt === mpl.default_extension}).html(fmt);\n",
       "        fmt_picker.append(option);\n",
       "    }\n",
       "\n",
       "    // Add hover states to the ui-buttons\n",
       "    $( \".ui-button\" ).hover(\n",
       "        function() { $(this).addClass(\"ui-state-hover\");},\n",
       "        function() { $(this).removeClass(\"ui-state-hover\");}\n",
       "    );\n",
       "\n",
       "    var status_bar = $('<span class=\"mpl-message\"/>');\n",
       "    nav_element.append(status_bar);\n",
       "    this.message = status_bar[0];\n",
       "}\n",
       "\n",
       "mpl.figure.prototype.request_resize = function(x_pixels, y_pixels) {\n",
       "    // Request matplotlib to resize the figure. Matplotlib will then trigger a resize in the client,\n",
       "    // which will in turn request a refresh of the image.\n",
       "    this.send_message('resize', {'width': x_pixels, 'height': y_pixels});\n",
       "}\n",
       "\n",
       "mpl.figure.prototype.send_message = function(type, properties) {\n",
       "    properties['type'] = type;\n",
       "    properties['figure_id'] = this.id;\n",
       "    this.ws.send(JSON.stringify(properties));\n",
       "}\n",
       "\n",
       "mpl.figure.prototype.send_draw_message = function() {\n",
       "    if (!this.waiting) {\n",
       "        this.waiting = true;\n",
       "        this.ws.send(JSON.stringify({type: \"draw\", figure_id: this.id}));\n",
       "    }\n",
       "}\n",
       "\n",
       "\n",
       "mpl.figure.prototype.handle_save = function(fig, msg) {\n",
       "    var format_dropdown = fig.format_dropdown;\n",
       "    var format = format_dropdown.options[format_dropdown.selectedIndex].value;\n",
       "    fig.ondownload(fig, format);\n",
       "}\n",
       "\n",
       "\n",
       "mpl.figure.prototype.handle_resize = function(fig, msg) {\n",
       "    var size = msg['size'];\n",
       "    if (size[0] != fig.canvas.width || size[1] != fig.canvas.height) {\n",
       "        fig._resize_canvas(size[0], size[1]);\n",
       "        fig.send_message(\"refresh\", {});\n",
       "    };\n",
       "}\n",
       "\n",
       "mpl.figure.prototype.handle_rubberband = function(fig, msg) {\n",
       "    var x0 = msg['x0'] / mpl.ratio;\n",
       "    var y0 = (fig.canvas.height - msg['y0']) / mpl.ratio;\n",
       "    var x1 = msg['x1'] / mpl.ratio;\n",
       "    var y1 = (fig.canvas.height - msg['y1']) / mpl.ratio;\n",
       "    x0 = Math.floor(x0) + 0.5;\n",
       "    y0 = Math.floor(y0) + 0.5;\n",
       "    x1 = Math.floor(x1) + 0.5;\n",
       "    y1 = Math.floor(y1) + 0.5;\n",
       "    var min_x = Math.min(x0, x1);\n",
       "    var min_y = Math.min(y0, y1);\n",
       "    var width = Math.abs(x1 - x0);\n",
       "    var height = Math.abs(y1 - y0);\n",
       "\n",
       "    fig.rubberband_context.clearRect(\n",
       "        0, 0, fig.canvas.width / mpl.ratio, fig.canvas.height / mpl.ratio);\n",
       "\n",
       "    fig.rubberband_context.strokeRect(min_x, min_y, width, height);\n",
       "}\n",
       "\n",
       "mpl.figure.prototype.handle_figure_label = function(fig, msg) {\n",
       "    // Updates the figure title.\n",
       "    fig.header.textContent = msg['label'];\n",
       "}\n",
       "\n",
       "mpl.figure.prototype.handle_cursor = function(fig, msg) {\n",
       "    var cursor = msg['cursor'];\n",
       "    switch(cursor)\n",
       "    {\n",
       "    case 0:\n",
       "        cursor = 'pointer';\n",
       "        break;\n",
       "    case 1:\n",
       "        cursor = 'default';\n",
       "        break;\n",
       "    case 2:\n",
       "        cursor = 'crosshair';\n",
       "        break;\n",
       "    case 3:\n",
       "        cursor = 'move';\n",
       "        break;\n",
       "    }\n",
       "    fig.rubberband_canvas.style.cursor = cursor;\n",
       "}\n",
       "\n",
       "mpl.figure.prototype.handle_message = function(fig, msg) {\n",
       "    fig.message.textContent = msg['message'];\n",
       "}\n",
       "\n",
       "mpl.figure.prototype.handle_draw = function(fig, msg) {\n",
       "    // Request the server to send over a new figure.\n",
       "    fig.send_draw_message();\n",
       "}\n",
       "\n",
       "mpl.figure.prototype.handle_image_mode = function(fig, msg) {\n",
       "    fig.image_mode = msg['mode'];\n",
       "}\n",
       "\n",
       "mpl.figure.prototype.updated_canvas_event = function() {\n",
       "    // Called whenever the canvas gets updated.\n",
       "    this.send_message(\"ack\", {});\n",
       "}\n",
       "\n",
       "// A function to construct a web socket function for onmessage handling.\n",
       "// Called in the figure constructor.\n",
       "mpl.figure.prototype._make_on_message_function = function(fig) {\n",
       "    return function socket_on_message(evt) {\n",
       "        if (evt.data instanceof Blob) {\n",
       "            /* FIXME: We get \"Resource interpreted as Image but\n",
       "             * transferred with MIME type text/plain:\" errors on\n",
       "             * Chrome.  But how to set the MIME type?  It doesn't seem\n",
       "             * to be part of the websocket stream */\n",
       "            evt.data.type = \"image/png\";\n",
       "\n",
       "            /* Free the memory for the previous frames */\n",
       "            if (fig.imageObj.src) {\n",
       "                (window.URL || window.webkitURL).revokeObjectURL(\n",
       "                    fig.imageObj.src);\n",
       "            }\n",
       "\n",
       "            fig.imageObj.src = (window.URL || window.webkitURL).createObjectURL(\n",
       "                evt.data);\n",
       "            fig.updated_canvas_event();\n",
       "            fig.waiting = false;\n",
       "            return;\n",
       "        }\n",
       "        else if (typeof evt.data === 'string' && evt.data.slice(0, 21) == \"data:image/png;base64\") {\n",
       "            fig.imageObj.src = evt.data;\n",
       "            fig.updated_canvas_event();\n",
       "            fig.waiting = false;\n",
       "            return;\n",
       "        }\n",
       "\n",
       "        var msg = JSON.parse(evt.data);\n",
       "        var msg_type = msg['type'];\n",
       "\n",
       "        // Call the  \"handle_{type}\" callback, which takes\n",
       "        // the figure and JSON message as its only arguments.\n",
       "        try {\n",
       "            var callback = fig[\"handle_\" + msg_type];\n",
       "        } catch (e) {\n",
       "            console.log(\"No handler for the '\" + msg_type + \"' message type: \", msg);\n",
       "            return;\n",
       "        }\n",
       "\n",
       "        if (callback) {\n",
       "            try {\n",
       "                // console.log(\"Handling '\" + msg_type + \"' message: \", msg);\n",
       "                callback(fig, msg);\n",
       "            } catch (e) {\n",
       "                console.log(\"Exception inside the 'handler_\" + msg_type + \"' callback:\", e, e.stack, msg);\n",
       "            }\n",
       "        }\n",
       "    };\n",
       "}\n",
       "\n",
       "// from http://stackoverflow.com/questions/1114465/getting-mouse-location-in-canvas\n",
       "mpl.findpos = function(e) {\n",
       "    //this section is from http://www.quirksmode.org/js/events_properties.html\n",
       "    var targ;\n",
       "    if (!e)\n",
       "        e = window.event;\n",
       "    if (e.target)\n",
       "        targ = e.target;\n",
       "    else if (e.srcElement)\n",
       "        targ = e.srcElement;\n",
       "    if (targ.nodeType == 3) // defeat Safari bug\n",
       "        targ = targ.parentNode;\n",
       "\n",
       "    // jQuery normalizes the pageX and pageY\n",
       "    // pageX,Y are the mouse positions relative to the document\n",
       "    // offset() returns the position of the element relative to the document\n",
       "    var x = e.pageX - $(targ).offset().left;\n",
       "    var y = e.pageY - $(targ).offset().top;\n",
       "\n",
       "    return {\"x\": x, \"y\": y};\n",
       "};\n",
       "\n",
       "/*\n",
       " * return a copy of an object with only non-object keys\n",
       " * we need this to avoid circular references\n",
       " * http://stackoverflow.com/a/24161582/3208463\n",
       " */\n",
       "function simpleKeys (original) {\n",
       "  return Object.keys(original).reduce(function (obj, key) {\n",
       "    if (typeof original[key] !== 'object')\n",
       "        obj[key] = original[key]\n",
       "    return obj;\n",
       "  }, {});\n",
       "}\n",
       "\n",
       "mpl.figure.prototype.mouse_event = function(event, name) {\n",
       "    var canvas_pos = mpl.findpos(event)\n",
       "\n",
       "    if (name === 'button_press')\n",
       "    {\n",
       "        this.canvas.focus();\n",
       "        this.canvas_div.focus();\n",
       "    }\n",
       "\n",
       "    var x = canvas_pos.x * mpl.ratio;\n",
       "    var y = canvas_pos.y * mpl.ratio;\n",
       "\n",
       "    this.send_message(name, {x: x, y: y, button: event.button,\n",
       "                             step: event.step,\n",
       "                             guiEvent: simpleKeys(event)});\n",
       "\n",
       "    /* This prevents the web browser from automatically changing to\n",
       "     * the text insertion cursor when the button is pressed.  We want\n",
       "     * to control all of the cursor setting manually through the\n",
       "     * 'cursor' event from matplotlib */\n",
       "    event.preventDefault();\n",
       "    return false;\n",
       "}\n",
       "\n",
       "mpl.figure.prototype._key_event_extra = function(event, name) {\n",
       "    // Handle any extra behaviour associated with a key event\n",
       "}\n",
       "\n",
       "mpl.figure.prototype.key_event = function(event, name) {\n",
       "\n",
       "    // Prevent repeat events\n",
       "    if (name == 'key_press')\n",
       "    {\n",
       "        if (event.which === this._key)\n",
       "            return;\n",
       "        else\n",
       "            this._key = event.which;\n",
       "    }\n",
       "    if (name == 'key_release')\n",
       "        this._key = null;\n",
       "\n",
       "    var value = '';\n",
       "    if (event.ctrlKey && event.which != 17)\n",
       "        value += \"ctrl+\";\n",
       "    if (event.altKey && event.which != 18)\n",
       "        value += \"alt+\";\n",
       "    if (event.shiftKey && event.which != 16)\n",
       "        value += \"shift+\";\n",
       "\n",
       "    value += 'k';\n",
       "    value += event.which.toString();\n",
       "\n",
       "    this._key_event_extra(event, name);\n",
       "\n",
       "    this.send_message(name, {key: value,\n",
       "                             guiEvent: simpleKeys(event)});\n",
       "    return false;\n",
       "}\n",
       "\n",
       "mpl.figure.prototype.toolbar_button_onclick = function(name) {\n",
       "    if (name == 'download') {\n",
       "        this.handle_save(this, null);\n",
       "    } else {\n",
       "        this.send_message(\"toolbar_button\", {name: name});\n",
       "    }\n",
       "};\n",
       "\n",
       "mpl.figure.prototype.toolbar_button_onmouseover = function(tooltip) {\n",
       "    this.message.textContent = tooltip;\n",
       "};\n",
       "mpl.toolbar_items = [[\"Home\", \"Reset original view\", \"fa fa-home icon-home\", \"home\"], [\"Back\", \"Back to previous view\", \"fa fa-arrow-left icon-arrow-left\", \"back\"], [\"Forward\", \"Forward to next view\", \"fa fa-arrow-right icon-arrow-right\", \"forward\"], [\"\", \"\", \"\", \"\"], [\"Pan\", \"Pan axes with left mouse, zoom with right\", \"fa fa-arrows icon-move\", \"pan\"], [\"Zoom\", \"Zoom to rectangle\", \"fa fa-square-o icon-check-empty\", \"zoom\"], [\"\", \"\", \"\", \"\"], [\"Download\", \"Download plot\", \"fa fa-floppy-o icon-save\", \"download\"]];\n",
       "\n",
       "mpl.extensions = [\"eps\", \"jpeg\", \"pdf\", \"png\", \"ps\", \"raw\", \"svg\", \"tif\"];\n",
       "\n",
       "mpl.default_extension = \"png\";var comm_websocket_adapter = function(comm) {\n",
       "    // Create a \"websocket\"-like object which calls the given IPython comm\n",
       "    // object with the appropriate methods. Currently this is a non binary\n",
       "    // socket, so there is still some room for performance tuning.\n",
       "    var ws = {};\n",
       "\n",
       "    ws.close = function() {\n",
       "        comm.close()\n",
       "    };\n",
       "    ws.send = function(m) {\n",
       "        //console.log('sending', m);\n",
       "        comm.send(m);\n",
       "    };\n",
       "    // Register the callback with on_msg.\n",
       "    comm.on_msg(function(msg) {\n",
       "        //console.log('receiving', msg['content']['data'], msg);\n",
       "        // Pass the mpl event to the overridden (by mpl) onmessage function.\n",
       "        ws.onmessage(msg['content']['data'])\n",
       "    });\n",
       "    return ws;\n",
       "}\n",
       "\n",
       "mpl.mpl_figure_comm = function(comm, msg) {\n",
       "    // This is the function which gets called when the mpl process\n",
       "    // starts-up an IPython Comm through the \"matplotlib\" channel.\n",
       "\n",
       "    var id = msg.content.data.id;\n",
       "    // Get hold of the div created by the display call when the Comm\n",
       "    // socket was opened in Python.\n",
       "    var element = $(\"#\" + id);\n",
       "    var ws_proxy = comm_websocket_adapter(comm)\n",
       "\n",
       "    function ondownload(figure, format) {\n",
       "        window.open(figure.imageObj.src);\n",
       "    }\n",
       "\n",
       "    var fig = new mpl.figure(id, ws_proxy,\n",
       "                           ondownload,\n",
       "                           element.get(0));\n",
       "\n",
       "    // Call onopen now - mpl needs it, as it is assuming we've passed it a real\n",
       "    // web socket which is closed, not our websocket->open comm proxy.\n",
       "    ws_proxy.onopen();\n",
       "\n",
       "    fig.parent_element = element.get(0);\n",
       "    fig.cell_info = mpl.find_output_cell(\"<div id='\" + id + \"'></div>\");\n",
       "    if (!fig.cell_info) {\n",
       "        console.error(\"Failed to find cell for figure\", id, fig);\n",
       "        return;\n",
       "    }\n",
       "\n",
       "    var output_index = fig.cell_info[2]\n",
       "    var cell = fig.cell_info[0];\n",
       "\n",
       "};\n",
       "\n",
       "mpl.figure.prototype.handle_close = function(fig, msg) {\n",
       "    var width = fig.canvas.width/mpl.ratio\n",
       "    fig.root.unbind('remove')\n",
       "\n",
       "    // Update the output cell to use the data from the current canvas.\n",
       "    fig.push_to_output();\n",
       "    var dataURL = fig.canvas.toDataURL();\n",
       "    // Re-enable the keyboard manager in IPython - without this line, in FF,\n",
       "    // the notebook keyboard shortcuts fail.\n",
       "    IPython.keyboard_manager.enable()\n",
       "    $(fig.parent_element).html('<img src=\"' + dataURL + '\" width=\"' + width + '\">');\n",
       "    fig.close_ws(fig, msg);\n",
       "}\n",
       "\n",
       "mpl.figure.prototype.close_ws = function(fig, msg){\n",
       "    fig.send_message('closing', msg);\n",
       "    // fig.ws.close()\n",
       "}\n",
       "\n",
       "mpl.figure.prototype.push_to_output = function(remove_interactive) {\n",
       "    // Turn the data on the canvas into data in the output cell.\n",
       "    var width = this.canvas.width/mpl.ratio\n",
       "    var dataURL = this.canvas.toDataURL();\n",
       "    this.cell_info[1]['text/html'] = '<img src=\"' + dataURL + '\" width=\"' + width + '\">';\n",
       "}\n",
       "\n",
       "mpl.figure.prototype.updated_canvas_event = function() {\n",
       "    // Tell IPython that the notebook contents must change.\n",
       "    IPython.notebook.set_dirty(true);\n",
       "    this.send_message(\"ack\", {});\n",
       "    var fig = this;\n",
       "    // Wait a second, then push the new image to the DOM so\n",
       "    // that it is saved nicely (might be nice to debounce this).\n",
       "    setTimeout(function () { fig.push_to_output() }, 1000);\n",
       "}\n",
       "\n",
       "mpl.figure.prototype._init_toolbar = function() {\n",
       "    var fig = this;\n",
       "\n",
       "    var nav_element = $('<div/>');\n",
       "    nav_element.attr('style', 'width: 100%');\n",
       "    this.root.append(nav_element);\n",
       "\n",
       "    // Define a callback function for later on.\n",
       "    function toolbar_event(event) {\n",
       "        return fig.toolbar_button_onclick(event['data']);\n",
       "    }\n",
       "    function toolbar_mouse_event(event) {\n",
       "        return fig.toolbar_button_onmouseover(event['data']);\n",
       "    }\n",
       "\n",
       "    for(var toolbar_ind in mpl.toolbar_items){\n",
       "        var name = mpl.toolbar_items[toolbar_ind][0];\n",
       "        var tooltip = mpl.toolbar_items[toolbar_ind][1];\n",
       "        var image = mpl.toolbar_items[toolbar_ind][2];\n",
       "        var method_name = mpl.toolbar_items[toolbar_ind][3];\n",
       "\n",
       "        if (!name) { continue; };\n",
       "\n",
       "        var button = $('<button class=\"btn btn-default\" href=\"#\" title=\"' + name + '\"><i class=\"fa ' + image + ' fa-lg\"></i></button>');\n",
       "        button.click(method_name, toolbar_event);\n",
       "        button.mouseover(tooltip, toolbar_mouse_event);\n",
       "        nav_element.append(button);\n",
       "    }\n",
       "\n",
       "    // Add the status bar.\n",
       "    var status_bar = $('<span class=\"mpl-message\" style=\"text-align:right; float: right;\"/>');\n",
       "    nav_element.append(status_bar);\n",
       "    this.message = status_bar[0];\n",
       "\n",
       "    // Add the close button to the window.\n",
       "    var buttongrp = $('<div class=\"btn-group inline pull-right\"></div>');\n",
       "    var button = $('<button class=\"btn btn-mini btn-primary\" href=\"#\" title=\"Stop Interaction\"><i class=\"fa fa-power-off icon-remove icon-large\"></i></button>');\n",
       "    button.click(function (evt) { fig.handle_close(fig, {}); } );\n",
       "    button.mouseover('Stop Interaction', toolbar_mouse_event);\n",
       "    buttongrp.append(button);\n",
       "    var titlebar = this.root.find($('.ui-dialog-titlebar'));\n",
       "    titlebar.prepend(buttongrp);\n",
       "}\n",
       "\n",
       "mpl.figure.prototype._root_extra_style = function(el){\n",
       "    var fig = this\n",
       "    el.on(\"remove\", function(){\n",
       "\tfig.close_ws(fig, {});\n",
       "    });\n",
       "}\n",
       "\n",
       "mpl.figure.prototype._canvas_extra_style = function(el){\n",
       "    // this is important to make the div 'focusable\n",
       "    el.attr('tabindex', 0)\n",
       "    // reach out to IPython and tell the keyboard manager to turn it's self\n",
       "    // off when our div gets focus\n",
       "\n",
       "    // location in version 3\n",
       "    if (IPython.notebook.keyboard_manager) {\n",
       "        IPython.notebook.keyboard_manager.register_events(el);\n",
       "    }\n",
       "    else {\n",
       "        // location in version 2\n",
       "        IPython.keyboard_manager.register_events(el);\n",
       "    }\n",
       "\n",
       "}\n",
       "\n",
       "mpl.figure.prototype._key_event_extra = function(event, name) {\n",
       "    var manager = IPython.notebook.keyboard_manager;\n",
       "    if (!manager)\n",
       "        manager = IPython.keyboard_manager;\n",
       "\n",
       "    // Check for shift+enter\n",
       "    if (event.shiftKey && event.which == 13) {\n",
       "        this.canvas_div.blur();\n",
       "        // select the cell after this one\n",
       "        var index = IPython.notebook.find_cell_index(this.cell_info[0]);\n",
       "        IPython.notebook.select(index + 1);\n",
       "    }\n",
       "}\n",
       "\n",
       "mpl.figure.prototype.handle_save = function(fig, msg) {\n",
       "    fig.ondownload(fig, null);\n",
       "}\n",
       "\n",
       "\n",
       "mpl.find_output_cell = function(html_output) {\n",
       "    // Return the cell and output element which can be found *uniquely* in the notebook.\n",
       "    // Note - this is a bit hacky, but it is done because the \"notebook_saving.Notebook\"\n",
       "    // IPython event is triggered only after the cells have been serialised, which for\n",
       "    // our purposes (turning an active figure into a static one), is too late.\n",
       "    var cells = IPython.notebook.get_cells();\n",
       "    var ncells = cells.length;\n",
       "    for (var i=0; i<ncells; i++) {\n",
       "        var cell = cells[i];\n",
       "        if (cell.cell_type === 'code'){\n",
       "            for (var j=0; j<cell.output_area.outputs.length; j++) {\n",
       "                var data = cell.output_area.outputs[j];\n",
       "                if (data.data) {\n",
       "                    // IPython >= 3 moved mimebundle to data attribute of output\n",
       "                    data = data.data;\n",
       "                }\n",
       "                if (data['text/html'] == html_output) {\n",
       "                    return [cell, data, j];\n",
       "                }\n",
       "            }\n",
       "        }\n",
       "    }\n",
       "}\n",
       "\n",
       "// Register the function which deals with the matplotlib target/channel.\n",
       "// The kernel may be null if the page has been refreshed.\n",
       "if (IPython.notebook.kernel != null) {\n",
       "    IPython.notebook.kernel.comm_manager.register_target('matplotlib', mpl.mpl_figure_comm);\n",
       "}\n"
      ],
      "text/plain": [
       "<IPython.core.display.Javascript object>"
      ]
     },
     "metadata": {},
     "output_type": "display_data"
    },
    {
     "data": {
      "text/html": [
       "<img src=\"data:image/png;base64,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\" width=\"1000\">"
      ],
      "text/plain": [
       "<IPython.core.display.HTML object>"
      ]
     },
     "metadata": {},
     "output_type": "display_data"
    }
   ],
   "source": [
    "avgEff=0\n",
    "avgFP=0\n",
    "print('for model: ', model)   \n",
    "run_name = 'Model X (PA)'\n",
    "# Create an mlflow run\n",
    "with mlflow.start_run(run_name=run_name) as run:\n",
    "    # Log parameters of the model\n",
    "    for key, value in vars(args).items():\n",
    "        print(key, value)\n",
    "        mlflow.log_param(key, value)\n",
    "    \n",
    "    # Log parameter count in the model\n",
    "    mlflow.log_param('Parameters', count_parameters(model))\n",
    "    \n",
    "    # Begin run\n",
    "    for result in trainNet(model, optimizer, loss,\n",
    "                            train_loader, val_loader,\n",
    "                            args.epochs+args.epoch_start, epoch_start=args.epoch_start,\n",
    "                            notebook=True, device=device):\n",
    "\n",
    "        result = result._asdict()\n",
    "        results = results.append(pd.Series(result), ignore_index=True)\n",
    "    \n",
    "        xs = results.index\n",
    "    \n",
    "        # Update the plot above\n",
    "        lines['train'].set_data(results.index,results.cost)\n",
    "        lines['val'].set_data(results.index,results.val)\n",
    "    \n",
    "        #filter first cost epoch (can be really large)\n",
    "        max_cost = max(max(results.cost if len(results.cost)<2 else results.cost[1:]), max(results.val))\n",
    "        min_cost = min(min(results.cost), min(results.val))\n",
    "    \n",
    "        # The plot limits need updating too\n",
    "        ax.set_ylim(min_cost*.9, max_cost*1.1)  \n",
    "        ax.set_xlim(-.5, len(results.cost) - .5)\n",
    "    \n",
    "        replace_in_ax(lax, lines['eff'], xs, results['eff_val'].apply(lambda x: x.eff_rate))\n",
    "        replace_in_ax(tax, lines['fp'], xs, results['eff_val'].apply(lambda x: x.fp_rate))\n",
    "    \n",
    "        # Redraw the figure\n",
    "        fig.canvas.draw()\n",
    "            \n",
    "        ## MLFLOW ##\n",
    "        # Log metrics\n",
    "        mlflow.log_metric('Efficiency', result['eff_val'].eff_rate, result['epoch'])\n",
    "        mlflow.log_metric('False Positive Rate',  result['eff_val'].fp_rate, result['epoch'])\n",
    "        mlflow.log_metric('Validation Loss',  result['val'], result['epoch'])\n",
    "        mlflow.log_metric('Training Loss',  result['cost'], result['epoch'])\n",
    "        \n",
    "        print('Result epoch: ', result['epoch'])\n",
    "        if(result['epoch'] >= args.epochs + args.epoch_start - 10):\n",
    "            avgEff += result['eff_val'].eff_rate\n",
    "            avgFP += result['eff_val'].fp_rate\n",
    "           \n",
    "        if(result['epoch'] == args.epochs + args.epoch_start - 1):\n",
    "            print('Averaging...\\n')\n",
    "            avgEff /= 10\n",
    "            avgFP /= 10\n",
    "            mlflow.log_metric('10 Efficiency Average', avgEff)\n",
    "            mlflow.log_metric('10 False Positive Average', avgFP)\n",
    "            \n",
    "        print('Average Eff: ', avgEff)\n",
    "        print('Average FP Rate: ', avgFP)\n",
    "            \n",
    "        # Log tags\n",
    "#        mlflow.set_tag('Optimizer', 'Adam')\n",
    "#        mlflow.set_tag('Kernel size', 'Mixed')\n",
    "#        mlflow.set_tag('Skip connections', '4')\n",
    "#        mlflow.set_tag('Activation', 'Softplus')\n",
    "#        mlflow.set_tag('Mid Activation', 'Relu')\n",
    "        mlflow.set_tag('Asymmetry', '5.0')\n",
    "\n",
    "        # Save model state dictionary, optimizer state dictionary, and epoch number\n",
    "        torch.save({\n",
    "            'model':model.state_dict(),\n",
    "            'optimizer':optimizer.state_dict(),\n",
    "            'epoch':args.epochs+result['epoch']\n",
    "            }, 'run_stats.pyt')\n",
    "        # Save the run stats into mlflow\n",
    "        mlflow.log_artifact('run_stats.pyt')\n",
    "            \n",
    "        # Save a diagram of the architecture\n",
    "#        HL.transforms.Fold(\"Conv\", \"Conv\"),\n",
    "#        HL.build_graph(model, torch.zeros([args.batch_size, 1, 4000]).to(device)).save('architecture', format='png')\n",
    "#        mlflow.log_artifact('architecture.png')\n",
    "        \n",
    "        # log the code for the model architecture\n",
    "#        mlflow.log_artifact('architecture.txt')\n",
    "        \n",
    "    dual_train_plots(results.index,\n",
    "                 results.cost, results.val, \n",
    "                 results['eff_val'].apply(lambda x: x.eff_rate),\n",
    "                 results['eff_val'].apply(lambda x: x.fp_rate))\n",
    "    # save plot\n",
    "    plt.tight_layout()\n",
    "    plt.savefig('plot.png')\n",
    "    mlflow.log_artifact('plot.png')"
   ]
  },
  {
   "cell_type": "code",
   "execution_count": 13,
   "metadata": {},
   "outputs": [],
   "source": [
    "##quit()"
   ]
  }
 ],
 "metadata": {
  "kernelspec": {
   "display_name": "goofit-june2020",
   "language": "python",
   "name": "goofit-june2020"
  },
  "language_info": {
   "codemirror_mode": {
    "name": "ipython",
    "version": 3
   },
   "file_extension": ".py",
   "mimetype": "text/x-python",
   "name": "python",
   "nbconvert_exporter": "python",
   "pygments_lexer": "ipython3",
   "version": "3.7.6"
  }
 },
 "nbformat": 4,
 "nbformat_minor": 2
}
