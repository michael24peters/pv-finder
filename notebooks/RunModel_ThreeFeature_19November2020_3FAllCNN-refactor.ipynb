{
 "cells": [
  {
   "cell_type": "code",
   "execution_count": 1,
   "metadata": {},
   "outputs": [],
   "source": [
    "##%matplotlib widget\n",
    "## with %matplotlib notebook: seems to require ipympl as part of environment, either\n",
    "## part of the conda environment or \"pip install ipympl\"\n",
    "## otherwise, does not show ANY plots in notebook, plt.savefig() works\n",
    "%matplotlib notebook  \n",
    "##%matplotlib inline    ## --plt.savefig()  works, but re-sizing does NOT"
   ]
  },
  {
   "cell_type": "markdown",
   "metadata": {},
   "source": [
    "This notebook is a short demo to illustrate execution.   For odd historical reasons, it uses \"toy Monte Carlo\" (simulated data)for \"training\" and \"full LHCB MC\" for validation.\n",
    "\n",
    "The network architecture is a \"simple\" model that uses 1 input channel (the KDE [kernel density estimator] but from the track parameters) feeding 5 convolutional layers followed by a fully connected layer.\n",
    "\n",
    "In today's version, the network will start with weights from a previously trained version.\n",
    " "
   ]
  },
  {
   "cell_type": "markdown",
   "metadata": {},
   "source": [
    "Check the current GPU usage. Please try to be nice!"
   ]
  },
  {
   "cell_type": "code",
   "execution_count": 2,
   "metadata": {
    "scrolled": true
   },
   "outputs": [
    {
     "name": "stdout",
     "output_type": "stream",
     "text": [
      "Sun Jan 24 22:07:49 2021       \r\n",
      "+-----------------------------------------------------------------------------+\r\n",
      "| NVIDIA-SMI 440.64.00    Driver Version: 440.64.00    CUDA Version: 10.2     |\r\n",
      "|-------------------------------+----------------------+----------------------+\r\n",
      "| GPU  Name        Persistence-M| Bus-Id        Disp.A | Volatile Uncorr. ECC |\r\n",
      "| Fan  Temp  Perf  Pwr:Usage/Cap|         Memory-Usage | GPU-Util  Compute M. |\r\n",
      "|===============================+======================+======================|\r\n",
      "|   0  TITAN V             Off  | 00000000:03:00.0 Off |                  N/A |\r\n",
      "| 28%   31C    P8    23W / 250W |   1107MiB / 12066MiB |      0%      Default |\r\n",
      "+-------------------------------+----------------------+----------------------+\r\n",
      "|   1  Tesla P100-PCIE...  Off  | 00000000:83:00.0 Off |                    0 |\r\n",
      "| N/A   31C    P0    27W / 250W |     10MiB / 16280MiB |      0%      Default |\r\n",
      "+-------------------------------+----------------------+----------------------+\r\n",
      "|   2  TITAN V             Off  | 00000000:84:00.0 Off |                  N/A |\r\n",
      "| 28%   35C    P2    34W / 250W |   8351MiB / 12066MiB |      0%      Default |\r\n",
      "+-------------------------------+----------------------+----------------------+\r\n",
      "                                                                               \r\n",
      "+-----------------------------------------------------------------------------+\r\n",
      "| Processes:                                                       GPU Memory |\r\n",
      "|  GPU       PID   Type   Process name                             Usage      |\r\n",
      "|=============================================================================|\r\n",
      "|    0     42274      C   ...a/conda/envs/goofit-june2020/bin/python  1095MiB |\r\n",
      "|    2     43718      C   ...a/conda/envs/goofit-june2020/bin/python  8339MiB |\r\n",
      "+-----------------------------------------------------------------------------+\r\n"
     ]
    }
   ],
   "source": [
    "!nvidia-smi"
   ]
  },
  {
   "cell_type": "markdown",
   "metadata": {},
   "source": [
    "> **WARNING**: The card numbers here are *not* the same as in CUDA. You have been warned."
   ]
  },
  {
   "cell_type": "markdown",
   "metadata": {},
   "source": [
    "## Imports"
   ]
  },
  {
   "cell_type": "code",
   "execution_count": 3,
   "metadata": {
    "scrolled": false
   },
   "outputs": [],
   "source": [
    "import matplotlib.pyplot as plt\n",
    "import numpy as np\n",
    "import time\n",
    "import torch\n",
    "import pandas as pd\n",
    "import mlflow\n",
    "\n",
    "# Python 3 standard library\n",
    "from pathlib import Path\n",
    "\n",
    "from torchsummary import summary\n",
    "\n",
    "'''\n",
    "HELPER FUNCTIONS\n",
    "'''\n",
    "# From model/collectdata.py\n",
    "from model.collectdata_mdsA import collect_data\n",
    "\n",
    "# From model/loss.py\n",
    "##from loss import Loss\n",
    "from model.alt_loss_A import Loss\n",
    "\n",
    "# From model/training.py\n",
    "from model.training import trainNet, select_gpu, Results\n",
    "\n",
    "# From model/models.py\n",
    "##  will start with model from TwoFeatures_CNN6Layer_A in the first instance\n",
    "##  see relevant cell below\n",
    "\n",
    "from model.models_mjp_19November20 import ThreeFeature_All_CNN6Layer_A as ModelA\n",
    "from model.models_mjp_19November20 import ThreeFeature_All_CNN6Layer_A1 as ModelA1\n",
    "from model.models_mjp_19November20 import ThreeFeature_All_CNN6Layer_E as ModelE\n",
    "from model.models_mjp_19November20 import ThreeFeature_All_CNN8Layer_W as ModelW\n",
    "from model.models_mjp_26December20 import ThreeFeature_All_CNN10Layer_X as ModelX\n",
    "from model.models_mjp_26December20 import ThreeFeature_All_CNN8Layer_Y as ModelY\n",
    "\n",
    "# From model/utilities.py\n",
    "from model.utilities import load_full_state, count_parameters, Params\n",
    "\n",
    "from model.plots import dual_train_plots, replace_in_ax\n",
    "\n",
    "## adds image of model architecture\n",
    "import hiddenlayer as HL\n",
    "\n",
    "# imports needed for BaseTrainer class\n",
    "import pytorch_lightning as pl"
   ]
  },
  {
   "cell_type": "code",
   "execution_count": null,
   "metadata": {},
   "outputs": [],
   "source": []
  },
  {
   "cell_type": "markdown",
   "metadata": {},
   "source": [
    "Set up Torch device configuration. All tensors and model parameters need to know where to be put.\n",
    "This takes a BUS ID number: The BUS ID is the same as the listing at the top of this script."
   ]
  },
  {
   "cell_type": "code",
   "execution_count": 4,
   "metadata": {},
   "outputs": [
    {
     "name": "stdout",
     "output_type": "stream",
     "text": [
      "1 available GPUs (initially using device 0):\n",
      "  0 TITAN V\n"
     ]
    }
   ],
   "source": [
    "device = select_gpu(2)"
   ]
  },
  {
   "cell_type": "markdown",
   "metadata": {},
   "source": [
    "### Set up local parameters"
   ]
  },
  {
   "cell_type": "code",
   "execution_count": 5,
   "metadata": {},
   "outputs": [],
   "source": [
    "# params order - batch size, epochs, lr, epoch_start (which is usually set to 0)\n",
    "args = Params(128, 50, 5e-5, 3420)"
   ]
  },
  {
   "cell_type": "markdown",
   "metadata": {},
   "source": [
    "## Loading data\n",
    "\n",
    "Load the dataset, split into parts, then move to device (see `collectdata.py` in the `../model` directory)"
   ]
  },
  {
   "cell_type": "code",
   "execution_count": 6,
   "metadata": {
    "scrolled": true
   },
   "outputs": [
    {
     "name": "stdout",
     "output_type": "stream",
     "text": [
      "Loading data...\n",
      "Loaded /share/lazy/sokoloff/ML-data_A/Aug14_80K_train.h5 in 26.51 s\n",
      "Loaded /share/lazy/sokoloff/ML-data_AA/Oct03_80K_train.h5 in 26.09 s\n",
      "Constructing 160000 event dataset took 2.209 s\n",
      "Loading data...\n",
      "Loaded /share/lazy/sokoloff/ML-data_AA/Oct03_20K_val.h5 in 5.118 s\n",
      "Constructing 9984 event dataset took 0.1156 s\n"
     ]
    }
   ],
   "source": [
    "## newer vernacular\n",
    "## Training dataset. You can put as many files here as desired.\n",
    "\n",
    "## in this DEMO example we use only one 80K training set -- the model starts with well-trained weights,\n",
    "## and using a smaller training set reduces both the time to load the data and the time to train an epoch\n",
    "##  set the option load_XandXsq = True to use both DKE and KDE^2 as input features\n",
    "train_loader = collect_data('/share/lazy/sokoloff/ML-data_A/Aug14_80K_train.h5',\n",
    "                             '/share/lazy/sokoloff/ML-data_AA/Oct03_80K_train.h5',\n",
    "#                             '/share/lazy/sokoloff/ML-data_AA/Oct03_40K_train.h5',\n",
    "#                             '/share/lazy/will/ML_mdsA/June30_2020_80k_1.h5',\n",
    "#                             '/share/lazy/will/ML_mdsA/June30_2020_80k_3.h5',\n",
    "#                             '/share/lazy/will/ML_mdsA/June30_2020_80k_4.h5',\n",
    "#                             '/share/lazy/will/ML_mdsA/June30_2020_80k_5.h5',\n",
    "#                             '/share/lazy/will/ML_mdsA/June30_2020_80k_6.h5',\n",
    "#                             '/share/lazy/will/ML_mdsA/June30_2020_80k_7.h5',\n",
    "#                             '/share/lazy/will/ML_mdsA/June30_2020_80k_8.h5',\n",
    "#                             '/share/lazy/will/ML_mdsA/June30_2020_80k_9.h5',\n",
    "                            #'/share/lazy/sokoloff/ML-data_AA/Oct03_80K2_train.h5',\n",
    "                             batch_size=args.batch_size,\n",
    "## if we are using a larger dataset (240K events, with the datasets above, and 11 GB  of GPU memory),\n",
    "## not the dataset will overflow the GPU memory; device=device will allow the data to move back\n",
    "## and forth between the CPU and GPU memory. While this allows use of a larger dataset, it slows\n",
    "## down performance by about 10%.  So comment out when not needed.\n",
    "## \n",
    "                            #device=device,\n",
    "                            masking=True, shuffle=True,\n",
    "                            load_XandXsq=True,\n",
    "                            load_xy=True)\n",
    "\n",
    "# Validation dataset. You can slice to reduce the size.\n",
    "## dataAA -> /share/lazy/sokoloff/ML-data_AA/\n",
    "val_loader = collect_data('/share/lazy/sokoloff/ML-data_AA/Oct03_20K_val.h5',\n",
    "## mds val_loader = collect_data('dataAA/HLT1CPU_1kevts_val.h5',\n",
    "\n",
    "                          batch_size=args.batch_size,\n",
    "                          slice=slice(256 * 39),\n",
    "                          #device=device,\n",
    "                          masking=True, shuffle=False,\n",
    "                          load_XandXsq=True,\n",
    "                          load_xy=True)"
   ]
  },
  {
   "cell_type": "markdown",
   "metadata": {},
   "source": [
    "# Preparing the model"
   ]
  },
  {
   "cell_type": "markdown",
   "metadata": {},
   "source": [
    "Prepare a model, use multiple GPUs if they are VISIBLE, and move the model to the device."
   ]
  },
  {
   "cell_type": "code",
   "execution_count": 7,
   "metadata": {
    "scrolled": true
   },
   "outputs": [
    {
     "name": "stderr",
     "output_type": "stream",
     "text": [
      "WARNING:root:Malformed experiment 'ML'. Detailed error Yaml file '/share/lazy/pv-finder_model_repo/ML/meta.yaml' does not exist.\n",
      "Traceback (most recent call last):\n",
      "  File \"/home/michael24peters/.local/lib/python3.7/site-packages/mlflow/store/tracking/file_store.py\", line 197, in list_experiments\n",
      "    experiment = self._get_experiment(exp_id, view_type)\n",
      "  File \"/home/michael24peters/.local/lib/python3.7/site-packages/mlflow/store/tracking/file_store.py\", line 260, in _get_experiment\n",
      "    meta = read_yaml(experiment_dir, FileStore.META_DATA_FILE_NAME)\n",
      "  File \"/home/michael24peters/.local/lib/python3.7/site-packages/mlflow/utils/file_utils.py\", line 167, in read_yaml\n",
      "    raise MissingConfigException(\"Yaml file '%s' does not exist.\" % file_path)\n",
      "mlflow.exceptions.MissingConfigException: Yaml file '/share/lazy/pv-finder_model_repo/ML/meta.yaml' does not exist.\n"
     ]
    }
   ],
   "source": [
    "model = ModelY()\n",
    "\n",
    "#summary(model.to(device), (1, 4000))\n",
    "\n",
    "mlflow.tracking.set_tracking_uri('file:/share/lazy/pv-finder_model_repo')\n",
    "mlflow.set_experiment('Four Feature AllCNN')"
   ]
  },
  {
   "cell_type": "code",
   "execution_count": 8,
   "metadata": {
    "scrolled": true
   },
   "outputs": [
    {
     "name": "stdout",
     "output_type": "stream",
     "text": [
      "Let's use 1 GPUs!\n"
     ]
    }
   ],
   "source": [
    "print(\"Let's use\", torch.cuda.device_count(), \"GPUs!\")\n",
    "if torch.cuda.device_count() > 1:\n",
    "    model = torch.nn.DataParallel(model)"
   ]
  },
  {
   "cell_type": "markdown",
   "metadata": {},
   "source": [
    "Let's move the model's weight matricies to the GPU:"
   ]
  },
  {
   "cell_type": "code",
   "execution_count": 9,
   "metadata": {},
   "outputs": [
    {
     "name": "stdout",
     "output_type": "stream",
     "text": [
      "we also froze 0 weights\n",
      "Of the 33.0 parameter layers to update in the current model, 33.0 were loaded\n"
     ]
    }
   ],
   "source": [
    "##  mds 200121 loss = Loss(epsilon=1e-5,coefficient=1.0)\n",
    "loss = Loss(epsilon=1e-5,coefficient=9.0)\n",
    "optimizer = torch.optim.Adam(model.parameters(), lr=args.lr)\n",
    "\n",
    "##  use the first five layers from a pre-existing model\n",
    "##  see example at https://discuss.pytorch.org/t/how-to-load-part-of-pre-trained-model/1113\n",
    "##   ML -> /share/lazy/sokoloff/ML\n",
    "\n",
    "#path = 'run_stats.pyt'\n",
    "#load_full_state(model, optimizer, path)\n",
    "# For other pretrained models, go to MLFlow and find the path for \"run_stats.pyt\"\n",
    "pretrained_dict = '/share/lazy/pv-finder_model_repo/12/6e49222f5c5a405ba2f753b4fe77a835/artifacts/run_stats.pyt'\n",
    "load_full_state(model, optimizer, pretrained_dict, freeze_weights=False)"
   ]
  },
  {
   "cell_type": "markdown",
   "metadata": {},
   "source": [
    "Let's move the model's weight matricies to the GPU:"
   ]
  },
  {
   "cell_type": "code",
   "execution_count": 10,
   "metadata": {
    "scrolled": true
   },
   "outputs": [
    {
     "data": {
      "text/plain": [
       "ThreeFeature_All_CNN8Layer_Y(\n",
       "  (conv1): Conv1d(1, 20, kernel_size=(25,), stride=(1,), padding=(12,))\n",
       "  (conv2): Conv1d(20, 10, kernel_size=(15,), stride=(1,), padding=(7,))\n",
       "  (conv3): Conv1d(30, 10, kernel_size=(15,), stride=(1,), padding=(7,))\n",
       "  (conv4): Conv1d(40, 10, kernel_size=(15,), stride=(1,), padding=(7,))\n",
       "  (conv5): Conv1d(50, 10, kernel_size=(15,), stride=(1,), padding=(7,))\n",
       "  (conv6): Conv1d(60, 10, kernel_size=(15,), stride=(1,), padding=(7,))\n",
       "  (conv7): Conv1d(70, 1, kernel_size=(5,), stride=(1,), padding=(2,))\n",
       "  (finalFilter): Conv1d(71, 1, kernel_size=(91,), stride=(1,), padding=(45,))\n",
       "  (ppConv1): Conv1d(2, 20, kernel_size=(25,), stride=(1,), padding=(12,))\n",
       "  (ppConv2): Conv1d(20, 10, kernel_size=(15,), stride=(1,), padding=(7,))\n",
       "  (ppConv3): Conv1d(10, 1, kernel_size=(15,), stride=(1,), padding=(7,))\n",
       "  (ppFinalFilter): Conv1d(1, 1, kernel_size=(91,), stride=(1,), padding=(45,))\n",
       "  (largeConv): Conv1d(2, 1, kernel_size=(91,), stride=(1,), padding=(45,))\n",
       "  (conv1dropout): Dropout(p=0.15, inplace=False)\n",
       "  (conv2dropout): Dropout(p=0.15, inplace=False)\n",
       "  (conv3dropout): Dropout(p=0.15, inplace=False)\n",
       "  (conv4dropout): Dropout(p=0.15, inplace=False)\n",
       "  (conv5dropout): Dropout(p=0.15, inplace=False)\n",
       "  (conv6dropout): Dropout(p=0.15, inplace=False)\n",
       "  (conv7dropout): Dropout(p=0.15, inplace=False)\n",
       "  (bn1): BatchNorm1d(20, eps=1e-05, momentum=0.1, affine=True, track_running_stats=True)\n",
       "  (bn2): BatchNorm1d(10, eps=1e-05, momentum=0.1, affine=True, track_running_stats=True)\n",
       "  (bn3): BatchNorm1d(10, eps=1e-05, momentum=0.1, affine=True, track_running_stats=True)\n",
       "  (bn4): BatchNorm1d(10, eps=1e-05, momentum=0.1, affine=True, track_running_stats=True)\n",
       "  (bn5): BatchNorm1d(10, eps=1e-05, momentum=0.1, affine=True, track_running_stats=True)\n",
       "  (bn6): BatchNorm1d(10, eps=1e-05, momentum=0.1, affine=True, track_running_stats=True)\n",
       "  (bn7): BatchNorm1d(1, eps=1e-05, momentum=0.1, affine=True, track_running_stats=True)\n",
       "  (bnFF): BatchNorm1d(1, eps=1e-05, momentum=0.1, affine=True, track_running_stats=True)\n",
       ")"
      ]
     },
     "execution_count": 10,
     "metadata": {},
     "output_type": "execute_result"
    }
   ],
   "source": [
    "model.to(device)"
   ]
  },
  {
   "cell_type": "markdown",
   "metadata": {},
   "source": [
    "## Train \n",
    "\n",
    "\n",
    "\n",
    "The body of this loop runs once per epoch. Results is a named tuple of values (loss per epoch for training and validation, time each). Start by setting up a plot first:"
   ]
  },
  {
   "cell_type": "code",
   "execution_count": 11,
   "metadata": {
    "scrolled": true
   },
   "outputs": [
    {
     "data": {
      "application/javascript": [
       "/* Put everything inside the global mpl namespace */\n",
       "window.mpl = {};\n",
       "\n",
       "\n",
       "mpl.get_websocket_type = function() {\n",
       "    if (typeof(WebSocket) !== 'undefined') {\n",
       "        return WebSocket;\n",
       "    } else if (typeof(MozWebSocket) !== 'undefined') {\n",
       "        return MozWebSocket;\n",
       "    } else {\n",
       "        alert('Your browser does not have WebSocket support. ' +\n",
       "              'Please try Chrome, Safari or Firefox ≥ 6. ' +\n",
       "              'Firefox 4 and 5 are also supported but you ' +\n",
       "              'have to enable WebSockets in about:config.');\n",
       "    };\n",
       "}\n",
       "\n",
       "mpl.figure = function(figure_id, websocket, ondownload, parent_element) {\n",
       "    this.id = figure_id;\n",
       "\n",
       "    this.ws = websocket;\n",
       "\n",
       "    this.supports_binary = (this.ws.binaryType != undefined);\n",
       "\n",
       "    if (!this.supports_binary) {\n",
       "        var warnings = document.getElementById(\"mpl-warnings\");\n",
       "        if (warnings) {\n",
       "            warnings.style.display = 'block';\n",
       "            warnings.textContent = (\n",
       "                \"This browser does not support binary websocket messages. \" +\n",
       "                    \"Performance may be slow.\");\n",
       "        }\n",
       "    }\n",
       "\n",
       "    this.imageObj = new Image();\n",
       "\n",
       "    this.context = undefined;\n",
       "    this.message = undefined;\n",
       "    this.canvas = undefined;\n",
       "    this.rubberband_canvas = undefined;\n",
       "    this.rubberband_context = undefined;\n",
       "    this.format_dropdown = undefined;\n",
       "\n",
       "    this.image_mode = 'full';\n",
       "\n",
       "    this.root = $('<div/>');\n",
       "    this._root_extra_style(this.root)\n",
       "    this.root.attr('style', 'display: inline-block');\n",
       "\n",
       "    $(parent_element).append(this.root);\n",
       "\n",
       "    this._init_header(this);\n",
       "    this._init_canvas(this);\n",
       "    this._init_toolbar(this);\n",
       "\n",
       "    var fig = this;\n",
       "\n",
       "    this.waiting = false;\n",
       "\n",
       "    this.ws.onopen =  function () {\n",
       "            fig.send_message(\"supports_binary\", {value: fig.supports_binary});\n",
       "            fig.send_message(\"send_image_mode\", {});\n",
       "            if (mpl.ratio != 1) {\n",
       "                fig.send_message(\"set_dpi_ratio\", {'dpi_ratio': mpl.ratio});\n",
       "            }\n",
       "            fig.send_message(\"refresh\", {});\n",
       "        }\n",
       "\n",
       "    this.imageObj.onload = function() {\n",
       "            if (fig.image_mode == 'full') {\n",
       "                // Full images could contain transparency (where diff images\n",
       "                // almost always do), so we need to clear the canvas so that\n",
       "                // there is no ghosting.\n",
       "                fig.context.clearRect(0, 0, fig.canvas.width, fig.canvas.height);\n",
       "            }\n",
       "            fig.context.drawImage(fig.imageObj, 0, 0);\n",
       "        };\n",
       "\n",
       "    this.imageObj.onunload = function() {\n",
       "        fig.ws.close();\n",
       "    }\n",
       "\n",
       "    this.ws.onmessage = this._make_on_message_function(this);\n",
       "\n",
       "    this.ondownload = ondownload;\n",
       "}\n",
       "\n",
       "mpl.figure.prototype._init_header = function() {\n",
       "    var titlebar = $(\n",
       "        '<div class=\"ui-dialog-titlebar ui-widget-header ui-corner-all ' +\n",
       "        'ui-helper-clearfix\"/>');\n",
       "    var titletext = $(\n",
       "        '<div class=\"ui-dialog-title\" style=\"width: 100%; ' +\n",
       "        'text-align: center; padding: 3px;\"/>');\n",
       "    titlebar.append(titletext)\n",
       "    this.root.append(titlebar);\n",
       "    this.header = titletext[0];\n",
       "}\n",
       "\n",
       "\n",
       "\n",
       "mpl.figure.prototype._canvas_extra_style = function(canvas_div) {\n",
       "\n",
       "}\n",
       "\n",
       "\n",
       "mpl.figure.prototype._root_extra_style = function(canvas_div) {\n",
       "\n",
       "}\n",
       "\n",
       "mpl.figure.prototype._init_canvas = function() {\n",
       "    var fig = this;\n",
       "\n",
       "    var canvas_div = $('<div/>');\n",
       "\n",
       "    canvas_div.attr('style', 'position: relative; clear: both; outline: 0');\n",
       "\n",
       "    function canvas_keyboard_event(event) {\n",
       "        return fig.key_event(event, event['data']);\n",
       "    }\n",
       "\n",
       "    canvas_div.keydown('key_press', canvas_keyboard_event);\n",
       "    canvas_div.keyup('key_release', canvas_keyboard_event);\n",
       "    this.canvas_div = canvas_div\n",
       "    this._canvas_extra_style(canvas_div)\n",
       "    this.root.append(canvas_div);\n",
       "\n",
       "    var canvas = $('<canvas/>');\n",
       "    canvas.addClass('mpl-canvas');\n",
       "    canvas.attr('style', \"left: 0; top: 0; z-index: 0; outline: 0\")\n",
       "\n",
       "    this.canvas = canvas[0];\n",
       "    this.context = canvas[0].getContext(\"2d\");\n",
       "\n",
       "    var backingStore = this.context.backingStorePixelRatio ||\n",
       "\tthis.context.webkitBackingStorePixelRatio ||\n",
       "\tthis.context.mozBackingStorePixelRatio ||\n",
       "\tthis.context.msBackingStorePixelRatio ||\n",
       "\tthis.context.oBackingStorePixelRatio ||\n",
       "\tthis.context.backingStorePixelRatio || 1;\n",
       "\n",
       "    mpl.ratio = (window.devicePixelRatio || 1) / backingStore;\n",
       "\n",
       "    var rubberband = $('<canvas/>');\n",
       "    rubberband.attr('style', \"position: absolute; left: 0; top: 0; z-index: 1;\")\n",
       "\n",
       "    var pass_mouse_events = true;\n",
       "\n",
       "    canvas_div.resizable({\n",
       "        start: function(event, ui) {\n",
       "            pass_mouse_events = false;\n",
       "        },\n",
       "        resize: function(event, ui) {\n",
       "            fig.request_resize(ui.size.width, ui.size.height);\n",
       "        },\n",
       "        stop: function(event, ui) {\n",
       "            pass_mouse_events = true;\n",
       "            fig.request_resize(ui.size.width, ui.size.height);\n",
       "        },\n",
       "    });\n",
       "\n",
       "    function mouse_event_fn(event) {\n",
       "        if (pass_mouse_events)\n",
       "            return fig.mouse_event(event, event['data']);\n",
       "    }\n",
       "\n",
       "    rubberband.mousedown('button_press', mouse_event_fn);\n",
       "    rubberband.mouseup('button_release', mouse_event_fn);\n",
       "    // Throttle sequential mouse events to 1 every 20ms.\n",
       "    rubberband.mousemove('motion_notify', mouse_event_fn);\n",
       "\n",
       "    rubberband.mouseenter('figure_enter', mouse_event_fn);\n",
       "    rubberband.mouseleave('figure_leave', mouse_event_fn);\n",
       "\n",
       "    canvas_div.on(\"wheel\", function (event) {\n",
       "        event = event.originalEvent;\n",
       "        event['data'] = 'scroll'\n",
       "        if (event.deltaY < 0) {\n",
       "            event.step = 1;\n",
       "        } else {\n",
       "            event.step = -1;\n",
       "        }\n",
       "        mouse_event_fn(event);\n",
       "    });\n",
       "\n",
       "    canvas_div.append(canvas);\n",
       "    canvas_div.append(rubberband);\n",
       "\n",
       "    this.rubberband = rubberband;\n",
       "    this.rubberband_canvas = rubberband[0];\n",
       "    this.rubberband_context = rubberband[0].getContext(\"2d\");\n",
       "    this.rubberband_context.strokeStyle = \"#000000\";\n",
       "\n",
       "    this._resize_canvas = function(width, height) {\n",
       "        // Keep the size of the canvas, canvas container, and rubber band\n",
       "        // canvas in synch.\n",
       "        canvas_div.css('width', width)\n",
       "        canvas_div.css('height', height)\n",
       "\n",
       "        canvas.attr('width', width * mpl.ratio);\n",
       "        canvas.attr('height', height * mpl.ratio);\n",
       "        canvas.attr('style', 'width: ' + width + 'px; height: ' + height + 'px;');\n",
       "\n",
       "        rubberband.attr('width', width);\n",
       "        rubberband.attr('height', height);\n",
       "    }\n",
       "\n",
       "    // Set the figure to an initial 600x600px, this will subsequently be updated\n",
       "    // upon first draw.\n",
       "    this._resize_canvas(600, 600);\n",
       "\n",
       "    // Disable right mouse context menu.\n",
       "    $(this.rubberband_canvas).bind(\"contextmenu\",function(e){\n",
       "        return false;\n",
       "    });\n",
       "\n",
       "    function set_focus () {\n",
       "        canvas.focus();\n",
       "        canvas_div.focus();\n",
       "    }\n",
       "\n",
       "    window.setTimeout(set_focus, 100);\n",
       "}\n",
       "\n",
       "mpl.figure.prototype._init_toolbar = function() {\n",
       "    var fig = this;\n",
       "\n",
       "    var nav_element = $('<div/>');\n",
       "    nav_element.attr('style', 'width: 100%');\n",
       "    this.root.append(nav_element);\n",
       "\n",
       "    // Define a callback function for later on.\n",
       "    function toolbar_event(event) {\n",
       "        return fig.toolbar_button_onclick(event['data']);\n",
       "    }\n",
       "    function toolbar_mouse_event(event) {\n",
       "        return fig.toolbar_button_onmouseover(event['data']);\n",
       "    }\n",
       "\n",
       "    for(var toolbar_ind in mpl.toolbar_items) {\n",
       "        var name = mpl.toolbar_items[toolbar_ind][0];\n",
       "        var tooltip = mpl.toolbar_items[toolbar_ind][1];\n",
       "        var image = mpl.toolbar_items[toolbar_ind][2];\n",
       "        var method_name = mpl.toolbar_items[toolbar_ind][3];\n",
       "\n",
       "        if (!name) {\n",
       "            // put a spacer in here.\n",
       "            continue;\n",
       "        }\n",
       "        var button = $('<button/>');\n",
       "        button.addClass('ui-button ui-widget ui-state-default ui-corner-all ' +\n",
       "                        'ui-button-icon-only');\n",
       "        button.attr('role', 'button');\n",
       "        button.attr('aria-disabled', 'false');\n",
       "        button.click(method_name, toolbar_event);\n",
       "        button.mouseover(tooltip, toolbar_mouse_event);\n",
       "\n",
       "        var icon_img = $('<span/>');\n",
       "        icon_img.addClass('ui-button-icon-primary ui-icon');\n",
       "        icon_img.addClass(image);\n",
       "        icon_img.addClass('ui-corner-all');\n",
       "\n",
       "        var tooltip_span = $('<span/>');\n",
       "        tooltip_span.addClass('ui-button-text');\n",
       "        tooltip_span.html(tooltip);\n",
       "\n",
       "        button.append(icon_img);\n",
       "        button.append(tooltip_span);\n",
       "\n",
       "        nav_element.append(button);\n",
       "    }\n",
       "\n",
       "    var fmt_picker_span = $('<span/>');\n",
       "\n",
       "    var fmt_picker = $('<select/>');\n",
       "    fmt_picker.addClass('mpl-toolbar-option ui-widget ui-widget-content');\n",
       "    fmt_picker_span.append(fmt_picker);\n",
       "    nav_element.append(fmt_picker_span);\n",
       "    this.format_dropdown = fmt_picker[0];\n",
       "\n",
       "    for (var ind in mpl.extensions) {\n",
       "        var fmt = mpl.extensions[ind];\n",
       "        var option = $(\n",
       "            '<option/>', {selected: fmt === mpl.default_extension}).html(fmt);\n",
       "        fmt_picker.append(option);\n",
       "    }\n",
       "\n",
       "    // Add hover states to the ui-buttons\n",
       "    $( \".ui-button\" ).hover(\n",
       "        function() { $(this).addClass(\"ui-state-hover\");},\n",
       "        function() { $(this).removeClass(\"ui-state-hover\");}\n",
       "    );\n",
       "\n",
       "    var status_bar = $('<span class=\"mpl-message\"/>');\n",
       "    nav_element.append(status_bar);\n",
       "    this.message = status_bar[0];\n",
       "}\n",
       "\n",
       "mpl.figure.prototype.request_resize = function(x_pixels, y_pixels) {\n",
       "    // Request matplotlib to resize the figure. Matplotlib will then trigger a resize in the client,\n",
       "    // which will in turn request a refresh of the image.\n",
       "    this.send_message('resize', {'width': x_pixels, 'height': y_pixels});\n",
       "}\n",
       "\n",
       "mpl.figure.prototype.send_message = function(type, properties) {\n",
       "    properties['type'] = type;\n",
       "    properties['figure_id'] = this.id;\n",
       "    this.ws.send(JSON.stringify(properties));\n",
       "}\n",
       "\n",
       "mpl.figure.prototype.send_draw_message = function() {\n",
       "    if (!this.waiting) {\n",
       "        this.waiting = true;\n",
       "        this.ws.send(JSON.stringify({type: \"draw\", figure_id: this.id}));\n",
       "    }\n",
       "}\n",
       "\n",
       "\n",
       "mpl.figure.prototype.handle_save = function(fig, msg) {\n",
       "    var format_dropdown = fig.format_dropdown;\n",
       "    var format = format_dropdown.options[format_dropdown.selectedIndex].value;\n",
       "    fig.ondownload(fig, format);\n",
       "}\n",
       "\n",
       "\n",
       "mpl.figure.prototype.handle_resize = function(fig, msg) {\n",
       "    var size = msg['size'];\n",
       "    if (size[0] != fig.canvas.width || size[1] != fig.canvas.height) {\n",
       "        fig._resize_canvas(size[0], size[1]);\n",
       "        fig.send_message(\"refresh\", {});\n",
       "    };\n",
       "}\n",
       "\n",
       "mpl.figure.prototype.handle_rubberband = function(fig, msg) {\n",
       "    var x0 = msg['x0'] / mpl.ratio;\n",
       "    var y0 = (fig.canvas.height - msg['y0']) / mpl.ratio;\n",
       "    var x1 = msg['x1'] / mpl.ratio;\n",
       "    var y1 = (fig.canvas.height - msg['y1']) / mpl.ratio;\n",
       "    x0 = Math.floor(x0) + 0.5;\n",
       "    y0 = Math.floor(y0) + 0.5;\n",
       "    x1 = Math.floor(x1) + 0.5;\n",
       "    y1 = Math.floor(y1) + 0.5;\n",
       "    var min_x = Math.min(x0, x1);\n",
       "    var min_y = Math.min(y0, y1);\n",
       "    var width = Math.abs(x1 - x0);\n",
       "    var height = Math.abs(y1 - y0);\n",
       "\n",
       "    fig.rubberband_context.clearRect(\n",
       "        0, 0, fig.canvas.width / mpl.ratio, fig.canvas.height / mpl.ratio);\n",
       "\n",
       "    fig.rubberband_context.strokeRect(min_x, min_y, width, height);\n",
       "}\n",
       "\n",
       "mpl.figure.prototype.handle_figure_label = function(fig, msg) {\n",
       "    // Updates the figure title.\n",
       "    fig.header.textContent = msg['label'];\n",
       "}\n",
       "\n",
       "mpl.figure.prototype.handle_cursor = function(fig, msg) {\n",
       "    var cursor = msg['cursor'];\n",
       "    switch(cursor)\n",
       "    {\n",
       "    case 0:\n",
       "        cursor = 'pointer';\n",
       "        break;\n",
       "    case 1:\n",
       "        cursor = 'default';\n",
       "        break;\n",
       "    case 2:\n",
       "        cursor = 'crosshair';\n",
       "        break;\n",
       "    case 3:\n",
       "        cursor = 'move';\n",
       "        break;\n",
       "    }\n",
       "    fig.rubberband_canvas.style.cursor = cursor;\n",
       "}\n",
       "\n",
       "mpl.figure.prototype.handle_message = function(fig, msg) {\n",
       "    fig.message.textContent = msg['message'];\n",
       "}\n",
       "\n",
       "mpl.figure.prototype.handle_draw = function(fig, msg) {\n",
       "    // Request the server to send over a new figure.\n",
       "    fig.send_draw_message();\n",
       "}\n",
       "\n",
       "mpl.figure.prototype.handle_image_mode = function(fig, msg) {\n",
       "    fig.image_mode = msg['mode'];\n",
       "}\n",
       "\n",
       "mpl.figure.prototype.updated_canvas_event = function() {\n",
       "    // Called whenever the canvas gets updated.\n",
       "    this.send_message(\"ack\", {});\n",
       "}\n",
       "\n",
       "// A function to construct a web socket function for onmessage handling.\n",
       "// Called in the figure constructor.\n",
       "mpl.figure.prototype._make_on_message_function = function(fig) {\n",
       "    return function socket_on_message(evt) {\n",
       "        if (evt.data instanceof Blob) {\n",
       "            /* FIXME: We get \"Resource interpreted as Image but\n",
       "             * transferred with MIME type text/plain:\" errors on\n",
       "             * Chrome.  But how to set the MIME type?  It doesn't seem\n",
       "             * to be part of the websocket stream */\n",
       "            evt.data.type = \"image/png\";\n",
       "\n",
       "            /* Free the memory for the previous frames */\n",
       "            if (fig.imageObj.src) {\n",
       "                (window.URL || window.webkitURL).revokeObjectURL(\n",
       "                    fig.imageObj.src);\n",
       "            }\n",
       "\n",
       "            fig.imageObj.src = (window.URL || window.webkitURL).createObjectURL(\n",
       "                evt.data);\n",
       "            fig.updated_canvas_event();\n",
       "            fig.waiting = false;\n",
       "            return;\n",
       "        }\n",
       "        else if (typeof evt.data === 'string' && evt.data.slice(0, 21) == \"data:image/png;base64\") {\n",
       "            fig.imageObj.src = evt.data;\n",
       "            fig.updated_canvas_event();\n",
       "            fig.waiting = false;\n",
       "            return;\n",
       "        }\n",
       "\n",
       "        var msg = JSON.parse(evt.data);\n",
       "        var msg_type = msg['type'];\n",
       "\n",
       "        // Call the  \"handle_{type}\" callback, which takes\n",
       "        // the figure and JSON message as its only arguments.\n",
       "        try {\n",
       "            var callback = fig[\"handle_\" + msg_type];\n",
       "        } catch (e) {\n",
       "            console.log(\"No handler for the '\" + msg_type + \"' message type: \", msg);\n",
       "            return;\n",
       "        }\n",
       "\n",
       "        if (callback) {\n",
       "            try {\n",
       "                // console.log(\"Handling '\" + msg_type + \"' message: \", msg);\n",
       "                callback(fig, msg);\n",
       "            } catch (e) {\n",
       "                console.log(\"Exception inside the 'handler_\" + msg_type + \"' callback:\", e, e.stack, msg);\n",
       "            }\n",
       "        }\n",
       "    };\n",
       "}\n",
       "\n",
       "// from http://stackoverflow.com/questions/1114465/getting-mouse-location-in-canvas\n",
       "mpl.findpos = function(e) {\n",
       "    //this section is from http://www.quirksmode.org/js/events_properties.html\n",
       "    var targ;\n",
       "    if (!e)\n",
       "        e = window.event;\n",
       "    if (e.target)\n",
       "        targ = e.target;\n",
       "    else if (e.srcElement)\n",
       "        targ = e.srcElement;\n",
       "    if (targ.nodeType == 3) // defeat Safari bug\n",
       "        targ = targ.parentNode;\n",
       "\n",
       "    // jQuery normalizes the pageX and pageY\n",
       "    // pageX,Y are the mouse positions relative to the document\n",
       "    // offset() returns the position of the element relative to the document\n",
       "    var x = e.pageX - $(targ).offset().left;\n",
       "    var y = e.pageY - $(targ).offset().top;\n",
       "\n",
       "    return {\"x\": x, \"y\": y};\n",
       "};\n",
       "\n",
       "/*\n",
       " * return a copy of an object with only non-object keys\n",
       " * we need this to avoid circular references\n",
       " * http://stackoverflow.com/a/24161582/3208463\n",
       " */\n",
       "function simpleKeys (original) {\n",
       "  return Object.keys(original).reduce(function (obj, key) {\n",
       "    if (typeof original[key] !== 'object')\n",
       "        obj[key] = original[key]\n",
       "    return obj;\n",
       "  }, {});\n",
       "}\n",
       "\n",
       "mpl.figure.prototype.mouse_event = function(event, name) {\n",
       "    var canvas_pos = mpl.findpos(event)\n",
       "\n",
       "    if (name === 'button_press')\n",
       "    {\n",
       "        this.canvas.focus();\n",
       "        this.canvas_div.focus();\n",
       "    }\n",
       "\n",
       "    var x = canvas_pos.x * mpl.ratio;\n",
       "    var y = canvas_pos.y * mpl.ratio;\n",
       "\n",
       "    this.send_message(name, {x: x, y: y, button: event.button,\n",
       "                             step: event.step,\n",
       "                             guiEvent: simpleKeys(event)});\n",
       "\n",
       "    /* This prevents the web browser from automatically changing to\n",
       "     * the text insertion cursor when the button is pressed.  We want\n",
       "     * to control all of the cursor setting manually through the\n",
       "     * 'cursor' event from matplotlib */\n",
       "    event.preventDefault();\n",
       "    return false;\n",
       "}\n",
       "\n",
       "mpl.figure.prototype._key_event_extra = function(event, name) {\n",
       "    // Handle any extra behaviour associated with a key event\n",
       "}\n",
       "\n",
       "mpl.figure.prototype.key_event = function(event, name) {\n",
       "\n",
       "    // Prevent repeat events\n",
       "    if (name == 'key_press')\n",
       "    {\n",
       "        if (event.which === this._key)\n",
       "            return;\n",
       "        else\n",
       "            this._key = event.which;\n",
       "    }\n",
       "    if (name == 'key_release')\n",
       "        this._key = null;\n",
       "\n",
       "    var value = '';\n",
       "    if (event.ctrlKey && event.which != 17)\n",
       "        value += \"ctrl+\";\n",
       "    if (event.altKey && event.which != 18)\n",
       "        value += \"alt+\";\n",
       "    if (event.shiftKey && event.which != 16)\n",
       "        value += \"shift+\";\n",
       "\n",
       "    value += 'k';\n",
       "    value += event.which.toString();\n",
       "\n",
       "    this._key_event_extra(event, name);\n",
       "\n",
       "    this.send_message(name, {key: value,\n",
       "                             guiEvent: simpleKeys(event)});\n",
       "    return false;\n",
       "}\n",
       "\n",
       "mpl.figure.prototype.toolbar_button_onclick = function(name) {\n",
       "    if (name == 'download') {\n",
       "        this.handle_save(this, null);\n",
       "    } else {\n",
       "        this.send_message(\"toolbar_button\", {name: name});\n",
       "    }\n",
       "};\n",
       "\n",
       "mpl.figure.prototype.toolbar_button_onmouseover = function(tooltip) {\n",
       "    this.message.textContent = tooltip;\n",
       "};\n",
       "mpl.toolbar_items = [[\"Home\", \"Reset original view\", \"fa fa-home icon-home\", \"home\"], [\"Back\", \"Back to previous view\", \"fa fa-arrow-left icon-arrow-left\", \"back\"], [\"Forward\", \"Forward to next view\", \"fa fa-arrow-right icon-arrow-right\", \"forward\"], [\"\", \"\", \"\", \"\"], [\"Pan\", \"Pan axes with left mouse, zoom with right\", \"fa fa-arrows icon-move\", \"pan\"], [\"Zoom\", \"Zoom to rectangle\", \"fa fa-square-o icon-check-empty\", \"zoom\"], [\"\", \"\", \"\", \"\"], [\"Download\", \"Download plot\", \"fa fa-floppy-o icon-save\", \"download\"]];\n",
       "\n",
       "mpl.extensions = [\"eps\", \"jpeg\", \"pdf\", \"png\", \"ps\", \"raw\", \"svg\", \"tif\"];\n",
       "\n",
       "mpl.default_extension = \"png\";var comm_websocket_adapter = function(comm) {\n",
       "    // Create a \"websocket\"-like object which calls the given IPython comm\n",
       "    // object with the appropriate methods. Currently this is a non binary\n",
       "    // socket, so there is still some room for performance tuning.\n",
       "    var ws = {};\n",
       "\n",
       "    ws.close = function() {\n",
       "        comm.close()\n",
       "    };\n",
       "    ws.send = function(m) {\n",
       "        //console.log('sending', m);\n",
       "        comm.send(m);\n",
       "    };\n",
       "    // Register the callback with on_msg.\n",
       "    comm.on_msg(function(msg) {\n",
       "        //console.log('receiving', msg['content']['data'], msg);\n",
       "        // Pass the mpl event to the overridden (by mpl) onmessage function.\n",
       "        ws.onmessage(msg['content']['data'])\n",
       "    });\n",
       "    return ws;\n",
       "}\n",
       "\n",
       "mpl.mpl_figure_comm = function(comm, msg) {\n",
       "    // This is the function which gets called when the mpl process\n",
       "    // starts-up an IPython Comm through the \"matplotlib\" channel.\n",
       "\n",
       "    var id = msg.content.data.id;\n",
       "    // Get hold of the div created by the display call when the Comm\n",
       "    // socket was opened in Python.\n",
       "    var element = $(\"#\" + id);\n",
       "    var ws_proxy = comm_websocket_adapter(comm)\n",
       "\n",
       "    function ondownload(figure, format) {\n",
       "        window.open(figure.imageObj.src);\n",
       "    }\n",
       "\n",
       "    var fig = new mpl.figure(id, ws_proxy,\n",
       "                           ondownload,\n",
       "                           element.get(0));\n",
       "\n",
       "    // Call onopen now - mpl needs it, as it is assuming we've passed it a real\n",
       "    // web socket which is closed, not our websocket->open comm proxy.\n",
       "    ws_proxy.onopen();\n",
       "\n",
       "    fig.parent_element = element.get(0);\n",
       "    fig.cell_info = mpl.find_output_cell(\"<div id='\" + id + \"'></div>\");\n",
       "    if (!fig.cell_info) {\n",
       "        console.error(\"Failed to find cell for figure\", id, fig);\n",
       "        return;\n",
       "    }\n",
       "\n",
       "    var output_index = fig.cell_info[2]\n",
       "    var cell = fig.cell_info[0];\n",
       "\n",
       "};\n",
       "\n",
       "mpl.figure.prototype.handle_close = function(fig, msg) {\n",
       "    var width = fig.canvas.width/mpl.ratio\n",
       "    fig.root.unbind('remove')\n",
       "\n",
       "    // Update the output cell to use the data from the current canvas.\n",
       "    fig.push_to_output();\n",
       "    var dataURL = fig.canvas.toDataURL();\n",
       "    // Re-enable the keyboard manager in IPython - without this line, in FF,\n",
       "    // the notebook keyboard shortcuts fail.\n",
       "    IPython.keyboard_manager.enable()\n",
       "    $(fig.parent_element).html('<img src=\"' + dataURL + '\" width=\"' + width + '\">');\n",
       "    fig.close_ws(fig, msg);\n",
       "}\n",
       "\n",
       "mpl.figure.prototype.close_ws = function(fig, msg){\n",
       "    fig.send_message('closing', msg);\n",
       "    // fig.ws.close()\n",
       "}\n",
       "\n",
       "mpl.figure.prototype.push_to_output = function(remove_interactive) {\n",
       "    // Turn the data on the canvas into data in the output cell.\n",
       "    var width = this.canvas.width/mpl.ratio\n",
       "    var dataURL = this.canvas.toDataURL();\n",
       "    this.cell_info[1]['text/html'] = '<img src=\"' + dataURL + '\" width=\"' + width + '\">';\n",
       "}\n",
       "\n",
       "mpl.figure.prototype.updated_canvas_event = function() {\n",
       "    // Tell IPython that the notebook contents must change.\n",
       "    IPython.notebook.set_dirty(true);\n",
       "    this.send_message(\"ack\", {});\n",
       "    var fig = this;\n",
       "    // Wait a second, then push the new image to the DOM so\n",
       "    // that it is saved nicely (might be nice to debounce this).\n",
       "    setTimeout(function () { fig.push_to_output() }, 1000);\n",
       "}\n",
       "\n",
       "mpl.figure.prototype._init_toolbar = function() {\n",
       "    var fig = this;\n",
       "\n",
       "    var nav_element = $('<div/>');\n",
       "    nav_element.attr('style', 'width: 100%');\n",
       "    this.root.append(nav_element);\n",
       "\n",
       "    // Define a callback function for later on.\n",
       "    function toolbar_event(event) {\n",
       "        return fig.toolbar_button_onclick(event['data']);\n",
       "    }\n",
       "    function toolbar_mouse_event(event) {\n",
       "        return fig.toolbar_button_onmouseover(event['data']);\n",
       "    }\n",
       "\n",
       "    for(var toolbar_ind in mpl.toolbar_items){\n",
       "        var name = mpl.toolbar_items[toolbar_ind][0];\n",
       "        var tooltip = mpl.toolbar_items[toolbar_ind][1];\n",
       "        var image = mpl.toolbar_items[toolbar_ind][2];\n",
       "        var method_name = mpl.toolbar_items[toolbar_ind][3];\n",
       "\n",
       "        if (!name) { continue; };\n",
       "\n",
       "        var button = $('<button class=\"btn btn-default\" href=\"#\" title=\"' + name + '\"><i class=\"fa ' + image + ' fa-lg\"></i></button>');\n",
       "        button.click(method_name, toolbar_event);\n",
       "        button.mouseover(tooltip, toolbar_mouse_event);\n",
       "        nav_element.append(button);\n",
       "    }\n",
       "\n",
       "    // Add the status bar.\n",
       "    var status_bar = $('<span class=\"mpl-message\" style=\"text-align:right; float: right;\"/>');\n",
       "    nav_element.append(status_bar);\n",
       "    this.message = status_bar[0];\n",
       "\n",
       "    // Add the close button to the window.\n",
       "    var buttongrp = $('<div class=\"btn-group inline pull-right\"></div>');\n",
       "    var button = $('<button class=\"btn btn-mini btn-primary\" href=\"#\" title=\"Stop Interaction\"><i class=\"fa fa-power-off icon-remove icon-large\"></i></button>');\n",
       "    button.click(function (evt) { fig.handle_close(fig, {}); } );\n",
       "    button.mouseover('Stop Interaction', toolbar_mouse_event);\n",
       "    buttongrp.append(button);\n",
       "    var titlebar = this.root.find($('.ui-dialog-titlebar'));\n",
       "    titlebar.prepend(buttongrp);\n",
       "}\n",
       "\n",
       "mpl.figure.prototype._root_extra_style = function(el){\n",
       "    var fig = this\n",
       "    el.on(\"remove\", function(){\n",
       "\tfig.close_ws(fig, {});\n",
       "    });\n",
       "}\n",
       "\n",
       "mpl.figure.prototype._canvas_extra_style = function(el){\n",
       "    // this is important to make the div 'focusable\n",
       "    el.attr('tabindex', 0)\n",
       "    // reach out to IPython and tell the keyboard manager to turn it's self\n",
       "    // off when our div gets focus\n",
       "\n",
       "    // location in version 3\n",
       "    if (IPython.notebook.keyboard_manager) {\n",
       "        IPython.notebook.keyboard_manager.register_events(el);\n",
       "    }\n",
       "    else {\n",
       "        // location in version 2\n",
       "        IPython.keyboard_manager.register_events(el);\n",
       "    }\n",
       "\n",
       "}\n",
       "\n",
       "mpl.figure.prototype._key_event_extra = function(event, name) {\n",
       "    var manager = IPython.notebook.keyboard_manager;\n",
       "    if (!manager)\n",
       "        manager = IPython.keyboard_manager;\n",
       "\n",
       "    // Check for shift+enter\n",
       "    if (event.shiftKey && event.which == 13) {\n",
       "        this.canvas_div.blur();\n",
       "        // select the cell after this one\n",
       "        var index = IPython.notebook.find_cell_index(this.cell_info[0]);\n",
       "        IPython.notebook.select(index + 1);\n",
       "    }\n",
       "}\n",
       "\n",
       "mpl.figure.prototype.handle_save = function(fig, msg) {\n",
       "    fig.ondownload(fig, null);\n",
       "}\n",
       "\n",
       "\n",
       "mpl.find_output_cell = function(html_output) {\n",
       "    // Return the cell and output element which can be found *uniquely* in the notebook.\n",
       "    // Note - this is a bit hacky, but it is done because the \"notebook_saving.Notebook\"\n",
       "    // IPython event is triggered only after the cells have been serialised, which for\n",
       "    // our purposes (turning an active figure into a static one), is too late.\n",
       "    var cells = IPython.notebook.get_cells();\n",
       "    var ncells = cells.length;\n",
       "    for (var i=0; i<ncells; i++) {\n",
       "        var cell = cells[i];\n",
       "        if (cell.cell_type === 'code'){\n",
       "            for (var j=0; j<cell.output_area.outputs.length; j++) {\n",
       "                var data = cell.output_area.outputs[j];\n",
       "                if (data.data) {\n",
       "                    // IPython >= 3 moved mimebundle to data attribute of output\n",
       "                    data = data.data;\n",
       "                }\n",
       "                if (data['text/html'] == html_output) {\n",
       "                    return [cell, data, j];\n",
       "                }\n",
       "            }\n",
       "        }\n",
       "    }\n",
       "}\n",
       "\n",
       "// Register the function which deals with the matplotlib target/channel.\n",
       "// The kernel may be null if the page has been refreshed.\n",
       "if (IPython.notebook.kernel != null) {\n",
       "    IPython.notebook.kernel.comm_manager.register_target('matplotlib', mpl.mpl_figure_comm);\n",
       "}\n"
      ],
      "text/plain": [
       "<IPython.core.display.Javascript object>"
      ]
     },
     "metadata": {},
     "output_type": "display_data"
    },
    {
     "data": {
      "text/html": [
       "<img src=\"data:image/png;base64,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\" width=\"1000\">"
      ],
      "text/plain": [
       "<IPython.core.display.HTML object>"
      ]
     },
     "metadata": {},
     "output_type": "display_data"
    }
   ],
   "source": [
    "ax, tax, lax, lines = dual_train_plots()\n",
    "fig = ax.figure\n",
    "plt.tight_layout()\n",
    "# This gets built up during the run - do not rerun this cell\n",
    "results = pd.DataFrame([], columns=Results._fields)"
   ]
  },
  {
   "cell_type": "code",
   "execution_count": null,
   "metadata": {
    "scrolled": false
   },
   "outputs": [
    {
     "name": "stdout",
     "output_type": "stream",
     "text": [
      "for model:  ThreeFeature_All_CNN8Layer_Y(\n",
      "  (conv1): Conv1d(1, 20, kernel_size=(25,), stride=(1,), padding=(12,))\n",
      "  (conv2): Conv1d(20, 10, kernel_size=(15,), stride=(1,), padding=(7,))\n",
      "  (conv3): Conv1d(30, 10, kernel_size=(15,), stride=(1,), padding=(7,))\n",
      "  (conv4): Conv1d(40, 10, kernel_size=(15,), stride=(1,), padding=(7,))\n",
      "  (conv5): Conv1d(50, 10, kernel_size=(15,), stride=(1,), padding=(7,))\n",
      "  (conv6): Conv1d(60, 10, kernel_size=(15,), stride=(1,), padding=(7,))\n",
      "  (conv7): Conv1d(70, 1, kernel_size=(5,), stride=(1,), padding=(2,))\n",
      "  (finalFilter): Conv1d(71, 1, kernel_size=(91,), stride=(1,), padding=(45,))\n",
      "  (ppConv1): Conv1d(2, 20, kernel_size=(25,), stride=(1,), padding=(12,))\n",
      "  (ppConv2): Conv1d(20, 10, kernel_size=(15,), stride=(1,), padding=(7,))\n",
      "  (ppConv3): Conv1d(10, 1, kernel_size=(15,), stride=(1,), padding=(7,))\n",
      "  (ppFinalFilter): Conv1d(1, 1, kernel_size=(91,), stride=(1,), padding=(45,))\n",
      "  (largeConv): Conv1d(2, 1, kernel_size=(91,), stride=(1,), padding=(45,))\n",
      "  (conv1dropout): Dropout(p=0.15, inplace=False)\n",
      "  (conv2dropout): Dropout(p=0.15, inplace=False)\n",
      "  (conv3dropout): Dropout(p=0.15, inplace=False)\n",
      "  (conv4dropout): Dropout(p=0.15, inplace=False)\n",
      "  (conv5dropout): Dropout(p=0.15, inplace=False)\n",
      "  (conv6dropout): Dropout(p=0.15, inplace=False)\n",
      "  (conv7dropout): Dropout(p=0.15, inplace=False)\n",
      "  (bn1): BatchNorm1d(20, eps=1e-05, momentum=0.1, affine=True, track_running_stats=True)\n",
      "  (bn2): BatchNorm1d(10, eps=1e-05, momentum=0.1, affine=True, track_running_stats=True)\n",
      "  (bn3): BatchNorm1d(10, eps=1e-05, momentum=0.1, affine=True, track_running_stats=True)\n",
      "  (bn4): BatchNorm1d(10, eps=1e-05, momentum=0.1, affine=True, track_running_stats=True)\n",
      "  (bn5): BatchNorm1d(10, eps=1e-05, momentum=0.1, affine=True, track_running_stats=True)\n",
      "  (bn6): BatchNorm1d(10, eps=1e-05, momentum=0.1, affine=True, track_running_stats=True)\n",
      "  (bn7): BatchNorm1d(1, eps=1e-05, momentum=0.1, affine=True, track_running_stats=True)\n",
      "  (bnFF): BatchNorm1d(1, eps=1e-05, momentum=0.1, affine=True, track_running_stats=True)\n",
      ")\n",
      "epoch_start 3420\n",
      "batch_size 128\n",
      "epochs 50\n",
      "lr 5e-05\n",
      "Number of batches: train = 1250, val = 78\n"
     ]
    },
    {
     "name": "stderr",
     "output_type": "stream",
     "text": [
      "/home/michael24peters/pv-finder_experimental/notebooks/model/training.py:95: TqdmDeprecationWarning: This function will be removed in tqdm==5.0.0\n",
      "Please use `tqdm.notebook.tqdm` instead of `tqdm.tqdm_notebook`\n",
      "  file=sys.stderr,\n"
     ]
    },
    {
     "data": {
      "application/vnd.jupyter.widget-view+json": {
       "model_id": "5fa2906e084c44618fac6ccb4436626f",
       "version_major": 2,
       "version_minor": 0
      },
      "text/plain": [
       "HBox(children=(FloatProgress(value=0.0, description='Epochs', layout=Layout(flex='2'), max=50.0, style=Progres…"
      ]
     },
     "metadata": {},
     "output_type": "display_data"
    },
    {
     "data": {
      "application/vnd.jupyter.widget-view+json": {
       "model_id": "",
       "version_major": 2,
       "version_minor": 0
      },
      "text/plain": [
       "HBox(children=(FloatProgress(value=0.0, description='Training', layout=Layout(flex='2'), max=1250.0, style=Pro…"
      ]
     },
     "metadata": {},
     "output_type": "display_data"
    },
    {
     "name": "stdout",
     "output_type": "stream",
     "text": [
      "Epoch 3420: train=12.4079, val=12.8414, took 179.81 s\n",
      "  Validation Found 52036 of 54504, added 2311 (eff 95.47%) (0.231 FP/event)\n",
      "Result epoch:  3420\n",
      "Average Eff:  0\n",
      "Average FP Rate:  0\n"
     ]
    },
    {
     "data": {
      "application/vnd.jupyter.widget-view+json": {
       "model_id": "",
       "version_major": 2,
       "version_minor": 0
      },
      "text/plain": [
       "HBox(children=(FloatProgress(value=0.0, description='Training', layout=Layout(flex='2'), max=1250.0, style=Pro…"
      ]
     },
     "metadata": {},
     "output_type": "display_data"
    },
    {
     "name": "stdout",
     "output_type": "stream",
     "text": [
      "Epoch 3421: train=12.1276, val=12.6709, took 174.11 s\n",
      "  Validation Found 52034 of 54504, added 2305 (eff 95.47%) (0.231 FP/event)\n",
      "Result epoch:  3421\n",
      "Average Eff:  0\n",
      "Average FP Rate:  0\n"
     ]
    },
    {
     "data": {
      "application/vnd.jupyter.widget-view+json": {
       "model_id": "",
       "version_major": 2,
       "version_minor": 0
      },
      "text/plain": [
       "HBox(children=(FloatProgress(value=0.0, description='Training', layout=Layout(flex='2'), max=1250.0, style=Pro…"
      ]
     },
     "metadata": {},
     "output_type": "display_data"
    },
    {
     "name": "stdout",
     "output_type": "stream",
     "text": [
      "Epoch 3422: train=12.0898, val=12.5683, took 173.57 s\n",
      "  Validation Found 52051 of 54504, added 2416 (eff 95.50%) (0.242 FP/event)\n",
      "Result epoch:  3422\n",
      "Average Eff:  0\n",
      "Average FP Rate:  0\n"
     ]
    },
    {
     "data": {
      "application/vnd.jupyter.widget-view+json": {
       "model_id": "",
       "version_major": 2,
       "version_minor": 0
      },
      "text/plain": [
       "HBox(children=(FloatProgress(value=0.0, description='Training', layout=Layout(flex='2'), max=1250.0, style=Pro…"
      ]
     },
     "metadata": {},
     "output_type": "display_data"
    },
    {
     "name": "stdout",
     "output_type": "stream",
     "text": [
      "Epoch 3423: train=12.0748, val=12.5279, took 173.3 s\n",
      "  Validation Found 52024 of 54504, added 2317 (eff 95.45%) (0.232 FP/event)\n",
      "Result epoch:  3423\n",
      "Average Eff:  0\n",
      "Average FP Rate:  0\n"
     ]
    },
    {
     "data": {
      "application/vnd.jupyter.widget-view+json": {
       "model_id": "",
       "version_major": 2,
       "version_minor": 0
      },
      "text/plain": [
       "HBox(children=(FloatProgress(value=0.0, description='Training', layout=Layout(flex='2'), max=1250.0, style=Pro…"
      ]
     },
     "metadata": {},
     "output_type": "display_data"
    },
    {
     "name": "stdout",
     "output_type": "stream",
     "text": [
      "Epoch 3424: train=12.0592, val=12.504, took 173.46 s\n",
      "  Validation Found 51999 of 54504, added 2259 (eff 95.40%) (0.226 FP/event)\n",
      "Result epoch:  3424\n",
      "Average Eff:  0\n",
      "Average FP Rate:  0\n"
     ]
    },
    {
     "data": {
      "application/vnd.jupyter.widget-view+json": {
       "model_id": "",
       "version_major": 2,
       "version_minor": 0
      },
      "text/plain": [
       "HBox(children=(FloatProgress(value=0.0, description='Training', layout=Layout(flex='2'), max=1250.0, style=Pro…"
      ]
     },
     "metadata": {},
     "output_type": "display_data"
    },
    {
     "name": "stdout",
     "output_type": "stream",
     "text": [
      "Epoch 3425: train=12.0527, val=12.4985, took 172.47 s\n",
      "  Validation Found 52027 of 54504, added 2367 (eff 95.46%) (0.237 FP/event)\n",
      "Result epoch:  3425\n",
      "Average Eff:  0\n",
      "Average FP Rate:  0\n"
     ]
    },
    {
     "data": {
      "application/vnd.jupyter.widget-view+json": {
       "model_id": "",
       "version_major": 2,
       "version_minor": 0
      },
      "text/plain": [
       "HBox(children=(FloatProgress(value=0.0, description='Training', layout=Layout(flex='2'), max=1250.0, style=Pro…"
      ]
     },
     "metadata": {},
     "output_type": "display_data"
    },
    {
     "name": "stdout",
     "output_type": "stream",
     "text": [
      "Epoch 3426: train=12.0436, val=12.4767, took 172.4 s\n",
      "  Validation Found 52004 of 54504, added 2331 (eff 95.41%) (0.233 FP/event)\n",
      "Result epoch:  3426\n",
      "Average Eff:  0\n",
      "Average FP Rate:  0\n"
     ]
    },
    {
     "data": {
      "application/vnd.jupyter.widget-view+json": {
       "model_id": "",
       "version_major": 2,
       "version_minor": 0
      },
      "text/plain": [
       "HBox(children=(FloatProgress(value=0.0, description='Training', layout=Layout(flex='2'), max=1250.0, style=Pro…"
      ]
     },
     "metadata": {},
     "output_type": "display_data"
    },
    {
     "name": "stdout",
     "output_type": "stream",
     "text": [
      "Epoch 3427: train=12.0409, val=12.4492, took 172.52 s\n",
      "  Validation Found 52009 of 54504, added 2312 (eff 95.42%) (0.232 FP/event)\n",
      "Result epoch:  3427\n",
      "Average Eff:  0\n",
      "Average FP Rate:  0\n"
     ]
    },
    {
     "data": {
      "application/vnd.jupyter.widget-view+json": {
       "model_id": "",
       "version_major": 2,
       "version_minor": 0
      },
      "text/plain": [
       "HBox(children=(FloatProgress(value=0.0, description='Training', layout=Layout(flex='2'), max=1250.0, style=Pro…"
      ]
     },
     "metadata": {},
     "output_type": "display_data"
    },
    {
     "name": "stdout",
     "output_type": "stream",
     "text": [
      "Epoch 3428: train=12.0394, val=12.4768, took 351.95 s\n",
      "  Validation Found 52012 of 54504, added 2293 (eff 95.43%) (0.23 FP/event)\n",
      "Result epoch:  3428\n",
      "Average Eff:  0\n",
      "Average FP Rate:  0\n"
     ]
    },
    {
     "data": {
      "application/vnd.jupyter.widget-view+json": {
       "model_id": "",
       "version_major": 2,
       "version_minor": 0
      },
      "text/plain": [
       "HBox(children=(FloatProgress(value=0.0, description='Training', layout=Layout(flex='2'), max=1250.0, style=Pro…"
      ]
     },
     "metadata": {},
     "output_type": "display_data"
    },
    {
     "name": "stdout",
     "output_type": "stream",
     "text": [
      "Epoch 3429: train=12.0442, val=12.4671, took 370.27 s\n",
      "  Validation Found 51989 of 54504, added 2287 (eff 95.39%) (0.229 FP/event)\n",
      "Result epoch:  3429\n",
      "Average Eff:  0\n",
      "Average FP Rate:  0\n"
     ]
    },
    {
     "data": {
      "application/vnd.jupyter.widget-view+json": {
       "model_id": "",
       "version_major": 2,
       "version_minor": 0
      },
      "text/plain": [
       "HBox(children=(FloatProgress(value=0.0, description='Training', layout=Layout(flex='2'), max=1250.0, style=Pro…"
      ]
     },
     "metadata": {},
     "output_type": "display_data"
    },
    {
     "name": "stdout",
     "output_type": "stream",
     "text": [
      "Epoch 3430: train=12.0335, val=12.4299, took 369.4 s\n",
      "  Validation Found 52017 of 54504, added 2341 (eff 95.44%) (0.234 FP/event)\n",
      "Result epoch:  3430\n",
      "Average Eff:  0\n",
      "Average FP Rate:  0\n"
     ]
    },
    {
     "data": {
      "application/vnd.jupyter.widget-view+json": {
       "model_id": "",
       "version_major": 2,
       "version_minor": 0
      },
      "text/plain": [
       "HBox(children=(FloatProgress(value=0.0, description='Training', layout=Layout(flex='2'), max=1250.0, style=Pro…"
      ]
     },
     "metadata": {},
     "output_type": "display_data"
    },
    {
     "name": "stdout",
     "output_type": "stream",
     "text": [
      "Epoch 3431: train=12.0305, val=12.4374, took 367.88 s\n",
      "  Validation Found 52000 of 54504, added 2312 (eff 95.41%) (0.232 FP/event)\n",
      "Result epoch:  3431\n",
      "Average Eff:  0\n",
      "Average FP Rate:  0\n"
     ]
    },
    {
     "data": {
      "application/vnd.jupyter.widget-view+json": {
       "model_id": "",
       "version_major": 2,
       "version_minor": 0
      },
      "text/plain": [
       "HBox(children=(FloatProgress(value=0.0, description='Training', layout=Layout(flex='2'), max=1250.0, style=Pro…"
      ]
     },
     "metadata": {},
     "output_type": "display_data"
    },
    {
     "name": "stdout",
     "output_type": "stream",
     "text": [
      "Epoch 3432: train=12.0244, val=12.4726, took 371.11 s\n",
      "  Validation Found 52000 of 54504, added 2373 (eff 95.41%) (0.238 FP/event)\n",
      "Result epoch:  3432\n",
      "Average Eff:  0\n",
      "Average FP Rate:  0\n"
     ]
    },
    {
     "data": {
      "application/vnd.jupyter.widget-view+json": {
       "model_id": "",
       "version_major": 2,
       "version_minor": 0
      },
      "text/plain": [
       "HBox(children=(FloatProgress(value=0.0, description='Training', layout=Layout(flex='2'), max=1250.0, style=Pro…"
      ]
     },
     "metadata": {},
     "output_type": "display_data"
    },
    {
     "name": "stdout",
     "output_type": "stream",
     "text": [
      "Epoch 3433: train=12.0247, val=12.3854, took 370.69 s\n",
      "  Validation Found 52021 of 54504, added 2367 (eff 95.44%) (0.237 FP/event)\n",
      "Result epoch:  3433\n",
      "Average Eff:  0\n",
      "Average FP Rate:  0\n"
     ]
    },
    {
     "data": {
      "application/vnd.jupyter.widget-view+json": {
       "model_id": "",
       "version_major": 2,
       "version_minor": 0
      },
      "text/plain": [
       "HBox(children=(FloatProgress(value=0.0, description='Training', layout=Layout(flex='2'), max=1250.0, style=Pro…"
      ]
     },
     "metadata": {},
     "output_type": "display_data"
    },
    {
     "name": "stdout",
     "output_type": "stream",
     "text": [
      "Epoch 3434: train=12.0211, val=12.4463, took 370.92 s\n",
      "  Validation Found 51994 of 54504, added 2287 (eff 95.39%) (0.229 FP/event)\n",
      "Result epoch:  3434\n",
      "Average Eff:  0\n",
      "Average FP Rate:  0\n"
     ]
    },
    {
     "data": {
      "application/vnd.jupyter.widget-view+json": {
       "model_id": "",
       "version_major": 2,
       "version_minor": 0
      },
      "text/plain": [
       "HBox(children=(FloatProgress(value=0.0, description='Training', layout=Layout(flex='2'), max=1250.0, style=Pro…"
      ]
     },
     "metadata": {},
     "output_type": "display_data"
    },
    {
     "name": "stdout",
     "output_type": "stream",
     "text": [
      "Epoch 3435: train=12.027, val=12.4069, took 369.95 s\n",
      "  Validation Found 51991 of 54504, added 2243 (eff 95.39%) (0.225 FP/event)\n",
      "Result epoch:  3435\n",
      "Average Eff:  0\n",
      "Average FP Rate:  0\n"
     ]
    },
    {
     "data": {
      "application/vnd.jupyter.widget-view+json": {
       "model_id": "",
       "version_major": 2,
       "version_minor": 0
      },
      "text/plain": [
       "HBox(children=(FloatProgress(value=0.0, description='Training', layout=Layout(flex='2'), max=1250.0, style=Pro…"
      ]
     },
     "metadata": {},
     "output_type": "display_data"
    },
    {
     "name": "stdout",
     "output_type": "stream",
     "text": [
      "Epoch 3436: train=12.0145, val=12.4002, took 370.22 s\n",
      "  Validation Found 52002 of 54504, added 2356 (eff 95.41%) (0.236 FP/event)\n",
      "Result epoch:  3436\n",
      "Average Eff:  0\n",
      "Average FP Rate:  0\n"
     ]
    },
    {
     "data": {
      "application/vnd.jupyter.widget-view+json": {
       "model_id": "",
       "version_major": 2,
       "version_minor": 0
      },
      "text/plain": [
       "HBox(children=(FloatProgress(value=0.0, description='Training', layout=Layout(flex='2'), max=1250.0, style=Pro…"
      ]
     },
     "metadata": {},
     "output_type": "display_data"
    },
    {
     "name": "stdout",
     "output_type": "stream",
     "text": [
      "Epoch 3437: train=12.0229, val=12.4173, took 370.22 s\n",
      "  Validation Found 51999 of 54504, added 2308 (eff 95.40%) (0.231 FP/event)\n",
      "Result epoch:  3437\n",
      "Average Eff:  0\n",
      "Average FP Rate:  0\n"
     ]
    },
    {
     "data": {
      "application/vnd.jupyter.widget-view+json": {
       "model_id": "",
       "version_major": 2,
       "version_minor": 0
      },
      "text/plain": [
       "HBox(children=(FloatProgress(value=0.0, description='Training', layout=Layout(flex='2'), max=1250.0, style=Pro…"
      ]
     },
     "metadata": {},
     "output_type": "display_data"
    },
    {
     "name": "stdout",
     "output_type": "stream",
     "text": [
      "Epoch 3438: train=12.0195, val=12.4081, took 368.21 s\n",
      "  Validation Found 51975 of 54504, added 2287 (eff 95.36%) (0.229 FP/event)\n",
      "Result epoch:  3438\n",
      "Average Eff:  0\n",
      "Average FP Rate:  0\n"
     ]
    },
    {
     "data": {
      "application/vnd.jupyter.widget-view+json": {
       "model_id": "",
       "version_major": 2,
       "version_minor": 0
      },
      "text/plain": [
       "HBox(children=(FloatProgress(value=0.0, description='Training', layout=Layout(flex='2'), max=1250.0, style=Pro…"
      ]
     },
     "metadata": {},
     "output_type": "display_data"
    },
    {
     "name": "stdout",
     "output_type": "stream",
     "text": [
      "Epoch 3439: train=12.018, val=12.3978, took 371.84 s\n",
      "  Validation Found 51992 of 54504, added 2266 (eff 95.39%) (0.227 FP/event)\n",
      "Result epoch:  3439\n",
      "Average Eff:  0\n",
      "Average FP Rate:  0\n"
     ]
    },
    {
     "data": {
      "application/vnd.jupyter.widget-view+json": {
       "model_id": "",
       "version_major": 2,
       "version_minor": 0
      },
      "text/plain": [
       "HBox(children=(FloatProgress(value=0.0, description='Training', layout=Layout(flex='2'), max=1250.0, style=Pro…"
      ]
     },
     "metadata": {},
     "output_type": "display_data"
    },
    {
     "name": "stdout",
     "output_type": "stream",
     "text": [
      "Epoch 3440: train=12.006, val=12.3986, took 371.65 s\n",
      "  Validation Found 52002 of 54504, added 2298 (eff 95.41%) (0.23 FP/event)\n",
      "Result epoch:  3440\n",
      "Average Eff:  0\n",
      "Average FP Rate:  0\n"
     ]
    },
    {
     "data": {
      "application/vnd.jupyter.widget-view+json": {
       "model_id": "",
       "version_major": 2,
       "version_minor": 0
      },
      "text/plain": [
       "HBox(children=(FloatProgress(value=0.0, description='Training', layout=Layout(flex='2'), max=1250.0, style=Pro…"
      ]
     },
     "metadata": {},
     "output_type": "display_data"
    },
    {
     "name": "stdout",
     "output_type": "stream",
     "text": [
      "Epoch 3441: train=12.0185, val=12.3685, took 370.49 s\n",
      "  Validation Found 52025 of 54504, added 2385 (eff 95.45%) (0.239 FP/event)\n",
      "Result epoch:  3441\n",
      "Average Eff:  0\n",
      "Average FP Rate:  0\n"
     ]
    },
    {
     "data": {
      "application/vnd.jupyter.widget-view+json": {
       "model_id": "",
       "version_major": 2,
       "version_minor": 0
      },
      "text/plain": [
       "HBox(children=(FloatProgress(value=0.0, description='Training', layout=Layout(flex='2'), max=1250.0, style=Pro…"
      ]
     },
     "metadata": {},
     "output_type": "display_data"
    },
    {
     "name": "stdout",
     "output_type": "stream",
     "text": [
      "Epoch 3442: train=12.0143, val=12.3923, took 369.11 s\n",
      "  Validation Found 52016 of 54504, added 2368 (eff 95.44%) (0.237 FP/event)\n",
      "Result epoch:  3442\n",
      "Average Eff:  0\n",
      "Average FP Rate:  0\n"
     ]
    },
    {
     "data": {
      "application/vnd.jupyter.widget-view+json": {
       "model_id": "",
       "version_major": 2,
       "version_minor": 0
      },
      "text/plain": [
       "HBox(children=(FloatProgress(value=0.0, description='Training', layout=Layout(flex='2'), max=1250.0, style=Pro…"
      ]
     },
     "metadata": {},
     "output_type": "display_data"
    },
    {
     "name": "stdout",
     "output_type": "stream",
     "text": [
      "Epoch 3443: train=12.011, val=12.3741, took 370.5 s\n",
      "  Validation Found 51993 of 54504, added 2316 (eff 95.39%) (0.232 FP/event)\n",
      "Result epoch:  3443\n",
      "Average Eff:  0\n",
      "Average FP Rate:  0\n"
     ]
    },
    {
     "data": {
      "application/vnd.jupyter.widget-view+json": {
       "model_id": "",
       "version_major": 2,
       "version_minor": 0
      },
      "text/plain": [
       "HBox(children=(FloatProgress(value=0.0, description='Training', layout=Layout(flex='2'), max=1250.0, style=Pro…"
      ]
     },
     "metadata": {},
     "output_type": "display_data"
    },
    {
     "name": "stdout",
     "output_type": "stream",
     "text": [
      "Epoch 3444: train=12.0044, val=12.3944, took 370.35 s\n",
      "  Validation Found 52004 of 54504, added 2348 (eff 95.41%) (0.235 FP/event)\n",
      "Result epoch:  3444\n",
      "Average Eff:  0\n",
      "Average FP Rate:  0\n"
     ]
    },
    {
     "data": {
      "application/vnd.jupyter.widget-view+json": {
       "model_id": "",
       "version_major": 2,
       "version_minor": 0
      },
      "text/plain": [
       "HBox(children=(FloatProgress(value=0.0, description='Training', layout=Layout(flex='2'), max=1250.0, style=Pro…"
      ]
     },
     "metadata": {},
     "output_type": "display_data"
    },
    {
     "name": "stdout",
     "output_type": "stream",
     "text": [
      "Epoch 3445: train=12.0177, val=12.4207, took 369.68 s\n",
      "  Validation Found 51974 of 54504, added 2296 (eff 95.36%) (0.23 FP/event)\n",
      "Result epoch:  3445\n",
      "Average Eff:  0\n",
      "Average FP Rate:  0\n"
     ]
    },
    {
     "data": {
      "application/vnd.jupyter.widget-view+json": {
       "model_id": "",
       "version_major": 2,
       "version_minor": 0
      },
      "text/plain": [
       "HBox(children=(FloatProgress(value=0.0, description='Training', layout=Layout(flex='2'), max=1250.0, style=Pro…"
      ]
     },
     "metadata": {},
     "output_type": "display_data"
    },
    {
     "name": "stdout",
     "output_type": "stream",
     "text": [
      "Epoch 3446: train=12.0077, val=12.3972, took 371.65 s\n",
      "  Validation Found 51989 of 54504, added 2271 (eff 95.39%) (0.227 FP/event)\n",
      "Result epoch:  3446\n",
      "Average Eff:  0\n",
      "Average FP Rate:  0\n"
     ]
    },
    {
     "data": {
      "application/vnd.jupyter.widget-view+json": {
       "model_id": "",
       "version_major": 2,
       "version_minor": 0
      },
      "text/plain": [
       "HBox(children=(FloatProgress(value=0.0, description='Training', layout=Layout(flex='2'), max=1250.0, style=Pro…"
      ]
     },
     "metadata": {},
     "output_type": "display_data"
    },
    {
     "name": "stdout",
     "output_type": "stream",
     "text": [
      "Epoch 3447: train=12.0052, val=12.3983, took 371.54 s\n",
      "  Validation Found 51988 of 54504, added 2245 (eff 95.38%) (0.225 FP/event)\n",
      "Result epoch:  3447\n",
      "Average Eff:  0\n",
      "Average FP Rate:  0\n"
     ]
    },
    {
     "data": {
      "application/vnd.jupyter.widget-view+json": {
       "model_id": "d7d7ab19ccf94da2891ac950c2f603fe",
       "version_major": 2,
       "version_minor": 0
      },
      "text/plain": [
       "HBox(children=(FloatProgress(value=0.0, description='Training', layout=Layout(flex='2'), max=1250.0, style=Pro…"
      ]
     },
     "metadata": {},
     "output_type": "display_data"
    }
   ],
   "source": [
    "avgEff=0\n",
    "avgFP=0\n",
    "print('for model: ', model)   \n",
    "run_name = 'Model Y (PA)'\n",
    "# Create an mlflow run\n",
    "with mlflow.start_run(run_name=run_name) as run:\n",
    "    # Log parameters of the model\n",
    "    for key, value in vars(args).items():\n",
    "        print(key, value)\n",
    "        mlflow.log_param(key, value)\n",
    "    \n",
    "    # Log parameter count in the model\n",
    "    mlflow.log_param('Parameters', count_parameters(model))\n",
    "    \n",
    "    # Begin run\n",
    "    for result in trainNet(model, optimizer, loss,\n",
    "                            train_loader, val_loader,\n",
    "                            args.epochs+args.epoch_start, epoch_start=args.epoch_start,\n",
    "                            notebook=True, device=device):\n",
    "\n",
    "        result = result._asdict()\n",
    "        results = results.append(pd.Series(result), ignore_index=True)\n",
    "    \n",
    "        xs = results.index\n",
    "    \n",
    "        # Update the plot above\n",
    "        lines['train'].set_data(results.index,results.cost)\n",
    "        lines['val'].set_data(results.index,results.val)\n",
    "    \n",
    "        #filter first cost epoch (can be really large)\n",
    "        max_cost = max(max(results.cost if len(results.cost)<2 else results.cost[1:]), max(results.val))\n",
    "        min_cost = min(min(results.cost), min(results.val))\n",
    "    \n",
    "        # The plot limits need updating too\n",
    "        ax.set_ylim(min_cost*.9, max_cost*1.1)  \n",
    "        ax.set_xlim(-.5, len(results.cost) - .5)\n",
    "    \n",
    "        replace_in_ax(lax, lines['eff'], xs, results['eff_val'].apply(lambda x: x.eff_rate))\n",
    "        replace_in_ax(tax, lines['fp'], xs, results['eff_val'].apply(lambda x: x.fp_rate))\n",
    "    \n",
    "        # Redraw the figure\n",
    "        fig.canvas.draw()\n",
    "            \n",
    "        ## MLFLOW ##\n",
    "        # Log metrics\n",
    "        mlflow.log_metric('Efficiency', result['eff_val'].eff_rate, result['epoch'])\n",
    "        mlflow.log_metric('False Positive Rate',  result['eff_val'].fp_rate, result['epoch'])\n",
    "        mlflow.log_metric('Validation Loss',  result['val'], result['epoch'])\n",
    "        mlflow.log_metric('Training Loss',  result['cost'], result['epoch'])\n",
    "        \n",
    "        print('Result epoch: ', result['epoch'])\n",
    "        if(result['epoch'] >= args.epochs + args.epoch_start - 10):\n",
    "            avgEff += result['eff_val'].eff_rate\n",
    "            avgFP += result['eff_val'].fp_rate\n",
    "           \n",
    "        if(result['epoch'] == args.epochs + args.epoch_start - 1):\n",
    "            print('Averaging...\\n')\n",
    "            avgEff /= 10\n",
    "            avgFP /= 10\n",
    "            mlflow.log_metric('10 Efficiency Average', avgEff)\n",
    "            mlflow.log_metric('10 False Positive Average', avgFP)\n",
    "            \n",
    "        print('Average Eff: ', avgEff)\n",
    "        print('Average FP Rate: ', avgFP)\n",
    "            \n",
    "        # Log tags\n",
    "#        mlflow.set_tag('Optimizer', 'Adam')\n",
    "#        mlflow.set_tag('Kernel size', 'Mixed')\n",
    "#        mlflow.set_tag('Skip connections', '4')\n",
    "#        mlflow.set_tag('Activation', 'Softplus')\n",
    "#        mlflow.set_tag('Mid Activation', 'Relu')\n",
    "        mlflow.set_tag('Asymmetry', '9.0')\n",
    "\n",
    "        # Save model state dictionary, optimizer state dictionary, and epoch number\n",
    "        torch.save({\n",
    "            'model':model.state_dict(),\n",
    "            'optimizer':optimizer.state_dict(),\n",
    "            'epoch':args.epochs+result['epoch']\n",
    "            }, 'run_stats.pyt')\n",
    "        # Save the run stats into mlflow\n",
    "        mlflow.log_artifact('run_stats.pyt')\n",
    "            \n",
    "        # Save a diagram of the architecture\n",
    "#        HL.transforms.Fold(\"Conv\", \"Conv\"),\n",
    "#        HL.build_graph(model, torch.zeros([args.batch_size, 1, 4000]).to(device)).save('architecture', format='png')\n",
    "#        mlflow.log_artifact('architecture.png')\n",
    "        \n",
    "        # log the code for the model architecture\n",
    "#        mlflow.log_artifact('architecture.txt')\n",
    "        \n",
    "    dual_train_plots(results.index,\n",
    "                 results.cost, results.val, \n",
    "                 results['eff_val'].apply(lambda x: x.eff_rate),\n",
    "                 results['eff_val'].apply(lambda x: x.fp_rate))\n",
    "    # save plot\n",
    "    plt.tight_layout()\n",
    "    plt.savefig('plot.png')\n",
    "    mlflow.log_artifact('plot.png')"
   ]
  },
  {
   "cell_type": "code",
   "execution_count": null,
   "metadata": {},
   "outputs": [],
   "source": [
    "##quit()"
   ]
  }
 ],
 "metadata": {
  "kernelspec": {
   "display_name": "goofit-june2020",
   "language": "python",
   "name": "goofit-june2020"
  },
  "language_info": {
   "codemirror_mode": {
    "name": "ipython",
    "version": 3
   },
   "file_extension": ".py",
   "mimetype": "text/x-python",
   "name": "python",
   "nbconvert_exporter": "python",
   "pygments_lexer": "ipython3",
   "version": "3.7.6"
  }
 },
 "nbformat": 4,
 "nbformat_minor": 2
}
