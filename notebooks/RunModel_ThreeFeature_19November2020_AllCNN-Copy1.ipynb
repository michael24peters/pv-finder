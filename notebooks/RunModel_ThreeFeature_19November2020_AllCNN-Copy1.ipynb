{
 "cells": [
  {
   "cell_type": "code",
   "execution_count": 1,
   "metadata": {},
   "outputs": [],
   "source": [
    "##%matplotlib widget\n",
    "## with %matplotlib notebook: seems to require ipympl as part of environment, either\n",
    "## part of the conda environment or \"pip install ipympl\"\n",
    "## otherwise, does not show ANY plots in notebook, plt.savefig() works\n",
    "%matplotlib notebook  \n",
    "##%matplotlib inline    ## --plt.savefig()  works, but re-sizing does NOT"
   ]
  },
  {
   "cell_type": "markdown",
   "metadata": {},
   "source": [
    "This notebook is a short demo to illustrate execution.   For odd historical reasons, it uses \"toy Monte Carlo\" (simulated data)for \"training\" and \"full LHCB MC\" for validation.\n",
    "\n",
    "The network architecture is a \"simple\" model that uses 1 input channel (the KDE [kernel density estimator] but from the track parameters) feeding 5 convolutional layers followed by a fully connected layer.\n",
    "\n",
    "In today's version, the network will start with weights from a previously trained version.\n",
    " "
   ]
  },
  {
   "cell_type": "markdown",
   "metadata": {},
   "source": [
    "Check the current GPU usage. Please try to be nice!"
   ]
  },
  {
   "cell_type": "code",
   "execution_count": 2,
   "metadata": {
    "scrolled": true
   },
   "outputs": [
    {
     "name": "stdout",
     "output_type": "stream",
     "text": [
      "Sun Dec 20 21:39:56 2020       \n",
      "+-----------------------------------------------------------------------------+\n",
      "| NVIDIA-SMI 440.64.00    Driver Version: 440.64.00    CUDA Version: 10.2     |\n",
      "|-------------------------------+----------------------+----------------------+\n",
      "| GPU  Name        Persistence-M| Bus-Id        Disp.A | Volatile Uncorr. ECC |\n",
      "| Fan  Temp  Perf  Pwr:Usage/Cap|         Memory-Usage | GPU-Util  Compute M. |\n",
      "|===============================+======================+======================|\n",
      "|   0  TITAN V             Off  | 00000000:03:00.0 Off |                  N/A |\n",
      "| 28%   39C    P8    24W / 250W |   2333MiB / 12066MiB |      0%      Default |\n",
      "+-------------------------------+----------------------+----------------------+\n",
      "|   1  Tesla P100-PCIE...  Off  | 00000000:83:00.0 Off |                    0 |\n",
      "| N/A   79C    P0    95W / 250W |   7838MiB / 16280MiB |     95%      Default |\n",
      "+-------------------------------+----------------------+----------------------+\n",
      "|   2  TITAN V             Off  | 00000000:84:00.0 Off |                  N/A |\n",
      "| 30%   43C    P2    39W / 250W |   1475MiB / 12066MiB |      0%      Default |\n",
      "+-------------------------------+----------------------+----------------------+\n",
      "                                                                               \n",
      "+-----------------------------------------------------------------------------+\n",
      "| Processes:                                                       GPU Memory |\n",
      "|  GPU       PID   Type   Process name                             Usage      |\n",
      "|=============================================================================|\n",
      "|    0     45937      C   ...a/conda/envs/goofit-june2020/bin/python  2321MiB |\n",
      "|    1     24060      C   ...a/conda/envs/goofit-june2020/bin/python  1379MiB |\n",
      "|    1     35266      C   ...a/conda/envs/goofit-june2020/bin/python  6449MiB |\n",
      "|    2     36537      C   ...a/conda/envs/goofit-june2020/bin/python  1463MiB |\n",
      "+-----------------------------------------------------------------------------+\n"
     ]
    }
   ],
   "source": [
    "!nvidia-smi"
   ]
  },
  {
   "cell_type": "markdown",
   "metadata": {},
   "source": [
    "> **WARNING**: The card numbers here are *not* the same as in CUDA. You have been warned."
   ]
  },
  {
   "cell_type": "markdown",
   "metadata": {},
   "source": [
    "## Imports"
   ]
  },
  {
   "cell_type": "code",
   "execution_count": 3,
   "metadata": {
    "scrolled": false
   },
   "outputs": [],
   "source": [
    "import matplotlib.pyplot as plt\n",
    "import numpy as np\n",
    "import time\n",
    "import torch\n",
    "import pandas as pd\n",
    "import mlflow\n",
    "\n",
    "# Python 3 standard library\n",
    "from pathlib import Path\n",
    "\n",
    "from torchsummary import summary\n",
    "\n",
    "'''\n",
    "HELPER FUNCTIONS\n",
    "'''\n",
    "# From model/collectdata.py\n",
    "from model.collectdata_mdsA import collect_data\n",
    "\n",
    "# From model/loss.py\n",
    "##from loss import Loss\n",
    "from model.alt_loss_A import Loss\n",
    "\n",
    "# From model/training.py\n",
    "from model.training import trainNet, select_gpu, Results\n",
    "\n",
    "# From model/models.py\n",
    "##  will start with model from TwoFeatures_CNN6Layer_A in the first instance\n",
    "##  see relevant cell below\n",
    "\n",
    "from model.models_mjp_19November20 import All_CNN6Layer_A as ModelA\n",
    "from model.models_mjp_19November20 import All_CNN6Layer_E as ModelE\n",
    "from model.models_mjp_19November20 import All_CNN8Layer_W as ModelW\n",
    "\n",
    "# From model/utilities.py\n",
    "from model.utilities import load_full_state, count_parameters, Params\n",
    "\n",
    "from model.plots import dual_train_plots, replace_in_ax\n",
    "\n",
    "## adds image of model architecture\n",
    "import hiddenlayer as HL"
   ]
  },
  {
   "cell_type": "markdown",
   "metadata": {},
   "source": [
    "Set up Torch device configuration. All tensors and model parameters need to know where to be put.\n",
    "This takes a BUS ID number: The BUS ID is the same as the listing at the top of this script."
   ]
  },
  {
   "cell_type": "code",
   "execution_count": 4,
   "metadata": {},
   "outputs": [
    {
     "name": "stdout",
     "output_type": "stream",
     "text": [
      "1 available GPUs (initially using device 0):\n",
      "  0 TITAN V\n"
     ]
    }
   ],
   "source": [
    "device = select_gpu(2)"
   ]
  },
  {
   "cell_type": "markdown",
   "metadata": {},
   "source": [
    "### Set up local parameters"
   ]
  },
  {
   "cell_type": "code",
   "execution_count": 5,
   "metadata": {},
   "outputs": [],
   "source": [
    "# params order - batch size, epochs, lr, epoch_start (which is usually set to 0)\n",
    "args = Params(128, 40, 5e-5, 1420)"
   ]
  },
  {
   "cell_type": "markdown",
   "metadata": {},
   "source": [
    "## Loading data\n",
    "\n",
    "Load the dataset, split into parts, then move to device (see `collectdata.py` in the `../model` directory)"
   ]
  },
  {
   "cell_type": "code",
   "execution_count": 6,
   "metadata": {
    "scrolled": true
   },
   "outputs": [
    {
     "name": "stdout",
     "output_type": "stream",
     "text": [
      "Loading data...\n",
      "Loaded /share/lazy/sokoloff/ML-data_A/Aug14_80K_train.h5 in 12.7 s\n",
      "Loaded /share/lazy/sokoloff/ML-data_AA/Oct03_80K_train.h5 in 12.21 s\n",
      "Constructing 160000 event dataset took 4.378 s\n",
      "Loading data...\n",
      "Loaded /share/lazy/sokoloff/ML-data_AA/Oct03_20K_val.h5 in 3.169 s\n",
      "Constructing 9984 event dataset took 0.1182 s\n"
     ]
    }
   ],
   "source": [
    "## newer vernacular\n",
    "## Training dataset. You can put as many files here as desired.\n",
    "\n",
    "## in this DEMO example we use only one 80K training set -- the model starts with well-trained weights,\n",
    "## and using a smaller training set reduces both the time to load the data and the time to train an epoch\n",
    "##  set the option load_XandXsq = True to use both DKE and KDE^2 as input features\n",
    "train_loader = collect_data('/share/lazy/sokoloff/ML-data_A/Aug14_80K_train.h5',\n",
    "                             '/share/lazy/sokoloff/ML-data_AA/Oct03_80K_train.h5',\n",
    "#                             '/share/lazy/sokoloff/ML-data_AA/Oct03_40K_train.h5',\n",
    "#                             '/share/lazy/will/ML_mdsA/June30_2020_80k_1.h5',\n",
    "#                             '/share/lazy/will/ML_mdsA/June30_2020_80k_3.h5',\n",
    "#                             '/share/lazy/will/ML_mdsA/June30_2020_80k_4.h5',\n",
    "#                             '/share/lazy/will/ML_mdsA/June30_2020_80k_5.h5',\n",
    "#                             '/share/lazy/will/ML_mdsA/June30_2020_80k_6.h5',\n",
    "#                             '/share/lazy/will/ML_mdsA/June30_2020_80k_7.h5',\n",
    "#                             '/share/lazy/will/ML_mdsA/June30_2020_80k_8.h5',\n",
    "#                             '/share/lazy/will/ML_mdsA/June30_2020_80k_9.h5',\n",
    "                            #'/share/lazy/sokoloff/ML-data_AA/Oct03_80K2_train.h5',\n",
    "                             batch_size=args.batch_size,\n",
    "## if we are using a larger dataset (240K events, with the datasets above, and 11 GB  of GPU memory),\n",
    "## not the dataset will overflow the GPU memory; device=device will allow the data to move back\n",
    "## and forth between the CPU and GPU memory. While this allows use of a larger dataset, it slows\n",
    "## down performance by about 10%.  So comment out when not needed.\n",
    "                            device=device,\n",
    "                            masking=True, shuffle=True,\n",
    "                            load_XandXsq=False,\n",
    "                            load_xy=False)\n",
    "\n",
    "# Validation dataset. You can slice to reduce the size.\n",
    "## dataAA -> /share/lazy/sokoloff/ML-data_AA/\n",
    "val_loader = collect_data('/share/lazy/sokoloff/ML-data_AA/Oct03_20K_val.h5',\n",
    "## mds val_loader = collect_data('dataAA/HLT1CPU_1kevts_val.h5',\n",
    "\n",
    "                          batch_size=args.batch_size,\n",
    "                          slice=slice(256 * 39),\n",
    "                          device=device,\n",
    "                          masking=True, shuffle=False,\n",
    "                          load_XandXsq=False,\n",
    "                          load_xy=False)"
   ]
  },
  {
   "cell_type": "markdown",
   "metadata": {},
   "source": [
    "# Preparing the model"
   ]
  },
  {
   "cell_type": "markdown",
   "metadata": {},
   "source": [
    "Prepare a model, use multiple GPUs if they are VISIBLE, and move the model to the device."
   ]
  },
  {
   "cell_type": "code",
   "execution_count": 7,
   "metadata": {
    "scrolled": true
   },
   "outputs": [],
   "source": [
    "model = ModelW()\n",
    "\n",
    "#summary(model.to(device), (1, 4000))\n",
    "\n",
    "mlflow.tracking.set_tracking_uri('file:/share/lazy/pv-finder_model_repo')\n",
    "mlflow.set_experiment('ALLCNN')"
   ]
  },
  {
   "cell_type": "code",
   "execution_count": 8,
   "metadata": {
    "scrolled": true
   },
   "outputs": [
    {
     "name": "stdout",
     "output_type": "stream",
     "text": [
      "Let's use 1 GPUs!\n"
     ]
    }
   ],
   "source": [
    "print(\"Let's use\", torch.cuda.device_count(), \"GPUs!\")\n",
    "if torch.cuda.device_count() > 1:\n",
    "    model = torch.nn.DataParallel(model)"
   ]
  },
  {
   "cell_type": "markdown",
   "metadata": {},
   "source": [
    "Let's move the model's weight matricies to the GPU:"
   ]
  },
  {
   "cell_type": "code",
   "execution_count": 9,
   "metadata": {},
   "outputs": [
    {
     "name": "stdout",
     "output_type": "stream",
     "text": [
      "we also froze 0 weights\n",
      "Of the 8.0 parameter layers to update in the current model, 8.0 were loaded\n"
     ]
    }
   ],
   "source": [
    "##  mds 200121 loss = Loss(epsilon=1e-5,coefficient=1.0)\n",
    "loss = Loss(epsilon=1e-5,coefficient=5.0)\n",
    "optimizer = torch.optim.Adam(model.parameters(), lr=args.lr)\n",
    "\n",
    "##  use the first five layers from a pre-existing model\n",
    "##  see example at https://discuss.pytorch.org/t/how-to-load-part-of-pre-trained-model/1113\n",
    "##   ML -> /share/lazy/sokoloff/ML\n",
    "\n",
    "#path = 'run_stats.pyt'\n",
    "#load_full_state(model, optimizer, path)\n",
    "# For other pretrained models, go to MLFlow and find the path for \"run_stats.pyt\"\n",
    "pretrained_dict = '/share/lazy/pv-finder_model_repo/12/8b785a70654248ef9adc836faf9afb2c/artifacts/run_stats.pyt'\n",
    "load_full_state(model, optimizer, pretrained_dict)"
   ]
  },
  {
   "cell_type": "markdown",
   "metadata": {},
   "source": [
    "Let's move the model's weight matricies to the GPU:"
   ]
  },
  {
   "cell_type": "code",
   "execution_count": 10,
   "metadata": {
    "scrolled": true
   },
   "outputs": [
    {
     "data": {
      "text/plain": [
       "All_CNN8Layer_W(\n",
       "  (conv1): Conv1d(1, 20, kernel_size=(25,), stride=(1,), padding=(12,))\n",
       "  (conv2): Conv1d(20, 10, kernel_size=(15,), stride=(1,), padding=(7,))\n",
       "  (conv3): Conv1d(30, 10, kernel_size=(15,), stride=(1,), padding=(7,))\n",
       "  (conv4): Conv1d(10, 10, kernel_size=(15,), stride=(1,), padding=(7,))\n",
       "  (conv5): Conv1d(20, 10, kernel_size=(15,), stride=(1,), padding=(7,))\n",
       "  (conv6): Conv1d(10, 10, kernel_size=(15,), stride=(1,), padding=(7,))\n",
       "  (conv7): Conv1d(20, 1, kernel_size=(5,), stride=(1,), padding=(2,))\n",
       "  (finalFilter): Conv1d(1, 1, kernel_size=(91,), stride=(1,), padding=(45,))\n",
       "  (conv1dropout): Dropout(p=0.15, inplace=False)\n",
       "  (conv2dropout): Dropout(p=0.15, inplace=False)\n",
       "  (conv3dropout): Dropout(p=0.15, inplace=False)\n",
       "  (conv4dropout): Dropout(p=0.15, inplace=False)\n",
       "  (conv5dropout): Dropout(p=0.15, inplace=False)\n",
       "  (conv6dropout): Dropout(p=0.15, inplace=False)\n",
       "  (conv7dropout): Dropout(p=0.15, inplace=False)\n",
       ")"
      ]
     },
     "execution_count": 10,
     "metadata": {},
     "output_type": "execute_result"
    }
   ],
   "source": [
    "model.to(device)"
   ]
  },
  {
   "cell_type": "markdown",
   "metadata": {},
   "source": [
    "## Train \n",
    "\n",
    "\n",
    "\n",
    "The body of this loop runs once per epoch. Results is a named tuple of values (loss per epoch for training and validation, time each). Start by setting up a plot first:"
   ]
  },
  {
   "cell_type": "code",
   "execution_count": 11,
   "metadata": {},
   "outputs": [
    {
     "data": {
      "application/javascript": [
       "/* Put everything inside the global mpl namespace */\n",
       "window.mpl = {};\n",
       "\n",
       "\n",
       "mpl.get_websocket_type = function() {\n",
       "    if (typeof(WebSocket) !== 'undefined') {\n",
       "        return WebSocket;\n",
       "    } else if (typeof(MozWebSocket) !== 'undefined') {\n",
       "        return MozWebSocket;\n",
       "    } else {\n",
       "        alert('Your browser does not have WebSocket support. ' +\n",
       "              'Please try Chrome, Safari or Firefox ≥ 6. ' +\n",
       "              'Firefox 4 and 5 are also supported but you ' +\n",
       "              'have to enable WebSockets in about:config.');\n",
       "    };\n",
       "}\n",
       "\n",
       "mpl.figure = function(figure_id, websocket, ondownload, parent_element) {\n",
       "    this.id = figure_id;\n",
       "\n",
       "    this.ws = websocket;\n",
       "\n",
       "    this.supports_binary = (this.ws.binaryType != undefined);\n",
       "\n",
       "    if (!this.supports_binary) {\n",
       "        var warnings = document.getElementById(\"mpl-warnings\");\n",
       "        if (warnings) {\n",
       "            warnings.style.display = 'block';\n",
       "            warnings.textContent = (\n",
       "                \"This browser does not support binary websocket messages. \" +\n",
       "                    \"Performance may be slow.\");\n",
       "        }\n",
       "    }\n",
       "\n",
       "    this.imageObj = new Image();\n",
       "\n",
       "    this.context = undefined;\n",
       "    this.message = undefined;\n",
       "    this.canvas = undefined;\n",
       "    this.rubberband_canvas = undefined;\n",
       "    this.rubberband_context = undefined;\n",
       "    this.format_dropdown = undefined;\n",
       "\n",
       "    this.image_mode = 'full';\n",
       "\n",
       "    this.root = $('<div/>');\n",
       "    this._root_extra_style(this.root)\n",
       "    this.root.attr('style', 'display: inline-block');\n",
       "\n",
       "    $(parent_element).append(this.root);\n",
       "\n",
       "    this._init_header(this);\n",
       "    this._init_canvas(this);\n",
       "    this._init_toolbar(this);\n",
       "\n",
       "    var fig = this;\n",
       "\n",
       "    this.waiting = false;\n",
       "\n",
       "    this.ws.onopen =  function () {\n",
       "            fig.send_message(\"supports_binary\", {value: fig.supports_binary});\n",
       "            fig.send_message(\"send_image_mode\", {});\n",
       "            if (mpl.ratio != 1) {\n",
       "                fig.send_message(\"set_dpi_ratio\", {'dpi_ratio': mpl.ratio});\n",
       "            }\n",
       "            fig.send_message(\"refresh\", {});\n",
       "        }\n",
       "\n",
       "    this.imageObj.onload = function() {\n",
       "            if (fig.image_mode == 'full') {\n",
       "                // Full images could contain transparency (where diff images\n",
       "                // almost always do), so we need to clear the canvas so that\n",
       "                // there is no ghosting.\n",
       "                fig.context.clearRect(0, 0, fig.canvas.width, fig.canvas.height);\n",
       "            }\n",
       "            fig.context.drawImage(fig.imageObj, 0, 0);\n",
       "        };\n",
       "\n",
       "    this.imageObj.onunload = function() {\n",
       "        fig.ws.close();\n",
       "    }\n",
       "\n",
       "    this.ws.onmessage = this._make_on_message_function(this);\n",
       "\n",
       "    this.ondownload = ondownload;\n",
       "}\n",
       "\n",
       "mpl.figure.prototype._init_header = function() {\n",
       "    var titlebar = $(\n",
       "        '<div class=\"ui-dialog-titlebar ui-widget-header ui-corner-all ' +\n",
       "        'ui-helper-clearfix\"/>');\n",
       "    var titletext = $(\n",
       "        '<div class=\"ui-dialog-title\" style=\"width: 100%; ' +\n",
       "        'text-align: center; padding: 3px;\"/>');\n",
       "    titlebar.append(titletext)\n",
       "    this.root.append(titlebar);\n",
       "    this.header = titletext[0];\n",
       "}\n",
       "\n",
       "\n",
       "\n",
       "mpl.figure.prototype._canvas_extra_style = function(canvas_div) {\n",
       "\n",
       "}\n",
       "\n",
       "\n",
       "mpl.figure.prototype._root_extra_style = function(canvas_div) {\n",
       "\n",
       "}\n",
       "\n",
       "mpl.figure.prototype._init_canvas = function() {\n",
       "    var fig = this;\n",
       "\n",
       "    var canvas_div = $('<div/>');\n",
       "\n",
       "    canvas_div.attr('style', 'position: relative; clear: both; outline: 0');\n",
       "\n",
       "    function canvas_keyboard_event(event) {\n",
       "        return fig.key_event(event, event['data']);\n",
       "    }\n",
       "\n",
       "    canvas_div.keydown('key_press', canvas_keyboard_event);\n",
       "    canvas_div.keyup('key_release', canvas_keyboard_event);\n",
       "    this.canvas_div = canvas_div\n",
       "    this._canvas_extra_style(canvas_div)\n",
       "    this.root.append(canvas_div);\n",
       "\n",
       "    var canvas = $('<canvas/>');\n",
       "    canvas.addClass('mpl-canvas');\n",
       "    canvas.attr('style', \"left: 0; top: 0; z-index: 0; outline: 0\")\n",
       "\n",
       "    this.canvas = canvas[0];\n",
       "    this.context = canvas[0].getContext(\"2d\");\n",
       "\n",
       "    var backingStore = this.context.backingStorePixelRatio ||\n",
       "\tthis.context.webkitBackingStorePixelRatio ||\n",
       "\tthis.context.mozBackingStorePixelRatio ||\n",
       "\tthis.context.msBackingStorePixelRatio ||\n",
       "\tthis.context.oBackingStorePixelRatio ||\n",
       "\tthis.context.backingStorePixelRatio || 1;\n",
       "\n",
       "    mpl.ratio = (window.devicePixelRatio || 1) / backingStore;\n",
       "\n",
       "    var rubberband = $('<canvas/>');\n",
       "    rubberband.attr('style', \"position: absolute; left: 0; top: 0; z-index: 1;\")\n",
       "\n",
       "    var pass_mouse_events = true;\n",
       "\n",
       "    canvas_div.resizable({\n",
       "        start: function(event, ui) {\n",
       "            pass_mouse_events = false;\n",
       "        },\n",
       "        resize: function(event, ui) {\n",
       "            fig.request_resize(ui.size.width, ui.size.height);\n",
       "        },\n",
       "        stop: function(event, ui) {\n",
       "            pass_mouse_events = true;\n",
       "            fig.request_resize(ui.size.width, ui.size.height);\n",
       "        },\n",
       "    });\n",
       "\n",
       "    function mouse_event_fn(event) {\n",
       "        if (pass_mouse_events)\n",
       "            return fig.mouse_event(event, event['data']);\n",
       "    }\n",
       "\n",
       "    rubberband.mousedown('button_press', mouse_event_fn);\n",
       "    rubberband.mouseup('button_release', mouse_event_fn);\n",
       "    // Throttle sequential mouse events to 1 every 20ms.\n",
       "    rubberband.mousemove('motion_notify', mouse_event_fn);\n",
       "\n",
       "    rubberband.mouseenter('figure_enter', mouse_event_fn);\n",
       "    rubberband.mouseleave('figure_leave', mouse_event_fn);\n",
       "\n",
       "    canvas_div.on(\"wheel\", function (event) {\n",
       "        event = event.originalEvent;\n",
       "        event['data'] = 'scroll'\n",
       "        if (event.deltaY < 0) {\n",
       "            event.step = 1;\n",
       "        } else {\n",
       "            event.step = -1;\n",
       "        }\n",
       "        mouse_event_fn(event);\n",
       "    });\n",
       "\n",
       "    canvas_div.append(canvas);\n",
       "    canvas_div.append(rubberband);\n",
       "\n",
       "    this.rubberband = rubberband;\n",
       "    this.rubberband_canvas = rubberband[0];\n",
       "    this.rubberband_context = rubberband[0].getContext(\"2d\");\n",
       "    this.rubberband_context.strokeStyle = \"#000000\";\n",
       "\n",
       "    this._resize_canvas = function(width, height) {\n",
       "        // Keep the size of the canvas, canvas container, and rubber band\n",
       "        // canvas in synch.\n",
       "        canvas_div.css('width', width)\n",
       "        canvas_div.css('height', height)\n",
       "\n",
       "        canvas.attr('width', width * mpl.ratio);\n",
       "        canvas.attr('height', height * mpl.ratio);\n",
       "        canvas.attr('style', 'width: ' + width + 'px; height: ' + height + 'px;');\n",
       "\n",
       "        rubberband.attr('width', width);\n",
       "        rubberband.attr('height', height);\n",
       "    }\n",
       "\n",
       "    // Set the figure to an initial 600x600px, this will subsequently be updated\n",
       "    // upon first draw.\n",
       "    this._resize_canvas(600, 600);\n",
       "\n",
       "    // Disable right mouse context menu.\n",
       "    $(this.rubberband_canvas).bind(\"contextmenu\",function(e){\n",
       "        return false;\n",
       "    });\n",
       "\n",
       "    function set_focus () {\n",
       "        canvas.focus();\n",
       "        canvas_div.focus();\n",
       "    }\n",
       "\n",
       "    window.setTimeout(set_focus, 100);\n",
       "}\n",
       "\n",
       "mpl.figure.prototype._init_toolbar = function() {\n",
       "    var fig = this;\n",
       "\n",
       "    var nav_element = $('<div/>');\n",
       "    nav_element.attr('style', 'width: 100%');\n",
       "    this.root.append(nav_element);\n",
       "\n",
       "    // Define a callback function for later on.\n",
       "    function toolbar_event(event) {\n",
       "        return fig.toolbar_button_onclick(event['data']);\n",
       "    }\n",
       "    function toolbar_mouse_event(event) {\n",
       "        return fig.toolbar_button_onmouseover(event['data']);\n",
       "    }\n",
       "\n",
       "    for(var toolbar_ind in mpl.toolbar_items) {\n",
       "        var name = mpl.toolbar_items[toolbar_ind][0];\n",
       "        var tooltip = mpl.toolbar_items[toolbar_ind][1];\n",
       "        var image = mpl.toolbar_items[toolbar_ind][2];\n",
       "        var method_name = mpl.toolbar_items[toolbar_ind][3];\n",
       "\n",
       "        if (!name) {\n",
       "            // put a spacer in here.\n",
       "            continue;\n",
       "        }\n",
       "        var button = $('<button/>');\n",
       "        button.addClass('ui-button ui-widget ui-state-default ui-corner-all ' +\n",
       "                        'ui-button-icon-only');\n",
       "        button.attr('role', 'button');\n",
       "        button.attr('aria-disabled', 'false');\n",
       "        button.click(method_name, toolbar_event);\n",
       "        button.mouseover(tooltip, toolbar_mouse_event);\n",
       "\n",
       "        var icon_img = $('<span/>');\n",
       "        icon_img.addClass('ui-button-icon-primary ui-icon');\n",
       "        icon_img.addClass(image);\n",
       "        icon_img.addClass('ui-corner-all');\n",
       "\n",
       "        var tooltip_span = $('<span/>');\n",
       "        tooltip_span.addClass('ui-button-text');\n",
       "        tooltip_span.html(tooltip);\n",
       "\n",
       "        button.append(icon_img);\n",
       "        button.append(tooltip_span);\n",
       "\n",
       "        nav_element.append(button);\n",
       "    }\n",
       "\n",
       "    var fmt_picker_span = $('<span/>');\n",
       "\n",
       "    var fmt_picker = $('<select/>');\n",
       "    fmt_picker.addClass('mpl-toolbar-option ui-widget ui-widget-content');\n",
       "    fmt_picker_span.append(fmt_picker);\n",
       "    nav_element.append(fmt_picker_span);\n",
       "    this.format_dropdown = fmt_picker[0];\n",
       "\n",
       "    for (var ind in mpl.extensions) {\n",
       "        var fmt = mpl.extensions[ind];\n",
       "        var option = $(\n",
       "            '<option/>', {selected: fmt === mpl.default_extension}).html(fmt);\n",
       "        fmt_picker.append(option);\n",
       "    }\n",
       "\n",
       "    // Add hover states to the ui-buttons\n",
       "    $( \".ui-button\" ).hover(\n",
       "        function() { $(this).addClass(\"ui-state-hover\");},\n",
       "        function() { $(this).removeClass(\"ui-state-hover\");}\n",
       "    );\n",
       "\n",
       "    var status_bar = $('<span class=\"mpl-message\"/>');\n",
       "    nav_element.append(status_bar);\n",
       "    this.message = status_bar[0];\n",
       "}\n",
       "\n",
       "mpl.figure.prototype.request_resize = function(x_pixels, y_pixels) {\n",
       "    // Request matplotlib to resize the figure. Matplotlib will then trigger a resize in the client,\n",
       "    // which will in turn request a refresh of the image.\n",
       "    this.send_message('resize', {'width': x_pixels, 'height': y_pixels});\n",
       "}\n",
       "\n",
       "mpl.figure.prototype.send_message = function(type, properties) {\n",
       "    properties['type'] = type;\n",
       "    properties['figure_id'] = this.id;\n",
       "    this.ws.send(JSON.stringify(properties));\n",
       "}\n",
       "\n",
       "mpl.figure.prototype.send_draw_message = function() {\n",
       "    if (!this.waiting) {\n",
       "        this.waiting = true;\n",
       "        this.ws.send(JSON.stringify({type: \"draw\", figure_id: this.id}));\n",
       "    }\n",
       "}\n",
       "\n",
       "\n",
       "mpl.figure.prototype.handle_save = function(fig, msg) {\n",
       "    var format_dropdown = fig.format_dropdown;\n",
       "    var format = format_dropdown.options[format_dropdown.selectedIndex].value;\n",
       "    fig.ondownload(fig, format);\n",
       "}\n",
       "\n",
       "\n",
       "mpl.figure.prototype.handle_resize = function(fig, msg) {\n",
       "    var size = msg['size'];\n",
       "    if (size[0] != fig.canvas.width || size[1] != fig.canvas.height) {\n",
       "        fig._resize_canvas(size[0], size[1]);\n",
       "        fig.send_message(\"refresh\", {});\n",
       "    };\n",
       "}\n",
       "\n",
       "mpl.figure.prototype.handle_rubberband = function(fig, msg) {\n",
       "    var x0 = msg['x0'] / mpl.ratio;\n",
       "    var y0 = (fig.canvas.height - msg['y0']) / mpl.ratio;\n",
       "    var x1 = msg['x1'] / mpl.ratio;\n",
       "    var y1 = (fig.canvas.height - msg['y1']) / mpl.ratio;\n",
       "    x0 = Math.floor(x0) + 0.5;\n",
       "    y0 = Math.floor(y0) + 0.5;\n",
       "    x1 = Math.floor(x1) + 0.5;\n",
       "    y1 = Math.floor(y1) + 0.5;\n",
       "    var min_x = Math.min(x0, x1);\n",
       "    var min_y = Math.min(y0, y1);\n",
       "    var width = Math.abs(x1 - x0);\n",
       "    var height = Math.abs(y1 - y0);\n",
       "\n",
       "    fig.rubberband_context.clearRect(\n",
       "        0, 0, fig.canvas.width / mpl.ratio, fig.canvas.height / mpl.ratio);\n",
       "\n",
       "    fig.rubberband_context.strokeRect(min_x, min_y, width, height);\n",
       "}\n",
       "\n",
       "mpl.figure.prototype.handle_figure_label = function(fig, msg) {\n",
       "    // Updates the figure title.\n",
       "    fig.header.textContent = msg['label'];\n",
       "}\n",
       "\n",
       "mpl.figure.prototype.handle_cursor = function(fig, msg) {\n",
       "    var cursor = msg['cursor'];\n",
       "    switch(cursor)\n",
       "    {\n",
       "    case 0:\n",
       "        cursor = 'pointer';\n",
       "        break;\n",
       "    case 1:\n",
       "        cursor = 'default';\n",
       "        break;\n",
       "    case 2:\n",
       "        cursor = 'crosshair';\n",
       "        break;\n",
       "    case 3:\n",
       "        cursor = 'move';\n",
       "        break;\n",
       "    }\n",
       "    fig.rubberband_canvas.style.cursor = cursor;\n",
       "}\n",
       "\n",
       "mpl.figure.prototype.handle_message = function(fig, msg) {\n",
       "    fig.message.textContent = msg['message'];\n",
       "}\n",
       "\n",
       "mpl.figure.prototype.handle_draw = function(fig, msg) {\n",
       "    // Request the server to send over a new figure.\n",
       "    fig.send_draw_message();\n",
       "}\n",
       "\n",
       "mpl.figure.prototype.handle_image_mode = function(fig, msg) {\n",
       "    fig.image_mode = msg['mode'];\n",
       "}\n",
       "\n",
       "mpl.figure.prototype.updated_canvas_event = function() {\n",
       "    // Called whenever the canvas gets updated.\n",
       "    this.send_message(\"ack\", {});\n",
       "}\n",
       "\n",
       "// A function to construct a web socket function for onmessage handling.\n",
       "// Called in the figure constructor.\n",
       "mpl.figure.prototype._make_on_message_function = function(fig) {\n",
       "    return function socket_on_message(evt) {\n",
       "        if (evt.data instanceof Blob) {\n",
       "            /* FIXME: We get \"Resource interpreted as Image but\n",
       "             * transferred with MIME type text/plain:\" errors on\n",
       "             * Chrome.  But how to set the MIME type?  It doesn't seem\n",
       "             * to be part of the websocket stream */\n",
       "            evt.data.type = \"image/png\";\n",
       "\n",
       "            /* Free the memory for the previous frames */\n",
       "            if (fig.imageObj.src) {\n",
       "                (window.URL || window.webkitURL).revokeObjectURL(\n",
       "                    fig.imageObj.src);\n",
       "            }\n",
       "\n",
       "            fig.imageObj.src = (window.URL || window.webkitURL).createObjectURL(\n",
       "                evt.data);\n",
       "            fig.updated_canvas_event();\n",
       "            fig.waiting = false;\n",
       "            return;\n",
       "        }\n",
       "        else if (typeof evt.data === 'string' && evt.data.slice(0, 21) == \"data:image/png;base64\") {\n",
       "            fig.imageObj.src = evt.data;\n",
       "            fig.updated_canvas_event();\n",
       "            fig.waiting = false;\n",
       "            return;\n",
       "        }\n",
       "\n",
       "        var msg = JSON.parse(evt.data);\n",
       "        var msg_type = msg['type'];\n",
       "\n",
       "        // Call the  \"handle_{type}\" callback, which takes\n",
       "        // the figure and JSON message as its only arguments.\n",
       "        try {\n",
       "            var callback = fig[\"handle_\" + msg_type];\n",
       "        } catch (e) {\n",
       "            console.log(\"No handler for the '\" + msg_type + \"' message type: \", msg);\n",
       "            return;\n",
       "        }\n",
       "\n",
       "        if (callback) {\n",
       "            try {\n",
       "                // console.log(\"Handling '\" + msg_type + \"' message: \", msg);\n",
       "                callback(fig, msg);\n",
       "            } catch (e) {\n",
       "                console.log(\"Exception inside the 'handler_\" + msg_type + \"' callback:\", e, e.stack, msg);\n",
       "            }\n",
       "        }\n",
       "    };\n",
       "}\n",
       "\n",
       "// from http://stackoverflow.com/questions/1114465/getting-mouse-location-in-canvas\n",
       "mpl.findpos = function(e) {\n",
       "    //this section is from http://www.quirksmode.org/js/events_properties.html\n",
       "    var targ;\n",
       "    if (!e)\n",
       "        e = window.event;\n",
       "    if (e.target)\n",
       "        targ = e.target;\n",
       "    else if (e.srcElement)\n",
       "        targ = e.srcElement;\n",
       "    if (targ.nodeType == 3) // defeat Safari bug\n",
       "        targ = targ.parentNode;\n",
       "\n",
       "    // jQuery normalizes the pageX and pageY\n",
       "    // pageX,Y are the mouse positions relative to the document\n",
       "    // offset() returns the position of the element relative to the document\n",
       "    var x = e.pageX - $(targ).offset().left;\n",
       "    var y = e.pageY - $(targ).offset().top;\n",
       "\n",
       "    return {\"x\": x, \"y\": y};\n",
       "};\n",
       "\n",
       "/*\n",
       " * return a copy of an object with only non-object keys\n",
       " * we need this to avoid circular references\n",
       " * http://stackoverflow.com/a/24161582/3208463\n",
       " */\n",
       "function simpleKeys (original) {\n",
       "  return Object.keys(original).reduce(function (obj, key) {\n",
       "    if (typeof original[key] !== 'object')\n",
       "        obj[key] = original[key]\n",
       "    return obj;\n",
       "  }, {});\n",
       "}\n",
       "\n",
       "mpl.figure.prototype.mouse_event = function(event, name) {\n",
       "    var canvas_pos = mpl.findpos(event)\n",
       "\n",
       "    if (name === 'button_press')\n",
       "    {\n",
       "        this.canvas.focus();\n",
       "        this.canvas_div.focus();\n",
       "    }\n",
       "\n",
       "    var x = canvas_pos.x * mpl.ratio;\n",
       "    var y = canvas_pos.y * mpl.ratio;\n",
       "\n",
       "    this.send_message(name, {x: x, y: y, button: event.button,\n",
       "                             step: event.step,\n",
       "                             guiEvent: simpleKeys(event)});\n",
       "\n",
       "    /* This prevents the web browser from automatically changing to\n",
       "     * the text insertion cursor when the button is pressed.  We want\n",
       "     * to control all of the cursor setting manually through the\n",
       "     * 'cursor' event from matplotlib */\n",
       "    event.preventDefault();\n",
       "    return false;\n",
       "}\n",
       "\n",
       "mpl.figure.prototype._key_event_extra = function(event, name) {\n",
       "    // Handle any extra behaviour associated with a key event\n",
       "}\n",
       "\n",
       "mpl.figure.prototype.key_event = function(event, name) {\n",
       "\n",
       "    // Prevent repeat events\n",
       "    if (name == 'key_press')\n",
       "    {\n",
       "        if (event.which === this._key)\n",
       "            return;\n",
       "        else\n",
       "            this._key = event.which;\n",
       "    }\n",
       "    if (name == 'key_release')\n",
       "        this._key = null;\n",
       "\n",
       "    var value = '';\n",
       "    if (event.ctrlKey && event.which != 17)\n",
       "        value += \"ctrl+\";\n",
       "    if (event.altKey && event.which != 18)\n",
       "        value += \"alt+\";\n",
       "    if (event.shiftKey && event.which != 16)\n",
       "        value += \"shift+\";\n",
       "\n",
       "    value += 'k';\n",
       "    value += event.which.toString();\n",
       "\n",
       "    this._key_event_extra(event, name);\n",
       "\n",
       "    this.send_message(name, {key: value,\n",
       "                             guiEvent: simpleKeys(event)});\n",
       "    return false;\n",
       "}\n",
       "\n",
       "mpl.figure.prototype.toolbar_button_onclick = function(name) {\n",
       "    if (name == 'download') {\n",
       "        this.handle_save(this, null);\n",
       "    } else {\n",
       "        this.send_message(\"toolbar_button\", {name: name});\n",
       "    }\n",
       "};\n",
       "\n",
       "mpl.figure.prototype.toolbar_button_onmouseover = function(tooltip) {\n",
       "    this.message.textContent = tooltip;\n",
       "};\n",
       "mpl.toolbar_items = [[\"Home\", \"Reset original view\", \"fa fa-home icon-home\", \"home\"], [\"Back\", \"Back to previous view\", \"fa fa-arrow-left icon-arrow-left\", \"back\"], [\"Forward\", \"Forward to next view\", \"fa fa-arrow-right icon-arrow-right\", \"forward\"], [\"\", \"\", \"\", \"\"], [\"Pan\", \"Pan axes with left mouse, zoom with right\", \"fa fa-arrows icon-move\", \"pan\"], [\"Zoom\", \"Zoom to rectangle\", \"fa fa-square-o icon-check-empty\", \"zoom\"], [\"\", \"\", \"\", \"\"], [\"Download\", \"Download plot\", \"fa fa-floppy-o icon-save\", \"download\"]];\n",
       "\n",
       "mpl.extensions = [\"eps\", \"jpeg\", \"pdf\", \"png\", \"ps\", \"raw\", \"svg\", \"tif\"];\n",
       "\n",
       "mpl.default_extension = \"png\";var comm_websocket_adapter = function(comm) {\n",
       "    // Create a \"websocket\"-like object which calls the given IPython comm\n",
       "    // object with the appropriate methods. Currently this is a non binary\n",
       "    // socket, so there is still some room for performance tuning.\n",
       "    var ws = {};\n",
       "\n",
       "    ws.close = function() {\n",
       "        comm.close()\n",
       "    };\n",
       "    ws.send = function(m) {\n",
       "        //console.log('sending', m);\n",
       "        comm.send(m);\n",
       "    };\n",
       "    // Register the callback with on_msg.\n",
       "    comm.on_msg(function(msg) {\n",
       "        //console.log('receiving', msg['content']['data'], msg);\n",
       "        // Pass the mpl event to the overridden (by mpl) onmessage function.\n",
       "        ws.onmessage(msg['content']['data'])\n",
       "    });\n",
       "    return ws;\n",
       "}\n",
       "\n",
       "mpl.mpl_figure_comm = function(comm, msg) {\n",
       "    // This is the function which gets called when the mpl process\n",
       "    // starts-up an IPython Comm through the \"matplotlib\" channel.\n",
       "\n",
       "    var id = msg.content.data.id;\n",
       "    // Get hold of the div created by the display call when the Comm\n",
       "    // socket was opened in Python.\n",
       "    var element = $(\"#\" + id);\n",
       "    var ws_proxy = comm_websocket_adapter(comm)\n",
       "\n",
       "    function ondownload(figure, format) {\n",
       "        window.open(figure.imageObj.src);\n",
       "    }\n",
       "\n",
       "    var fig = new mpl.figure(id, ws_proxy,\n",
       "                           ondownload,\n",
       "                           element.get(0));\n",
       "\n",
       "    // Call onopen now - mpl needs it, as it is assuming we've passed it a real\n",
       "    // web socket which is closed, not our websocket->open comm proxy.\n",
       "    ws_proxy.onopen();\n",
       "\n",
       "    fig.parent_element = element.get(0);\n",
       "    fig.cell_info = mpl.find_output_cell(\"<div id='\" + id + \"'></div>\");\n",
       "    if (!fig.cell_info) {\n",
       "        console.error(\"Failed to find cell for figure\", id, fig);\n",
       "        return;\n",
       "    }\n",
       "\n",
       "    var output_index = fig.cell_info[2]\n",
       "    var cell = fig.cell_info[0];\n",
       "\n",
       "};\n",
       "\n",
       "mpl.figure.prototype.handle_close = function(fig, msg) {\n",
       "    var width = fig.canvas.width/mpl.ratio\n",
       "    fig.root.unbind('remove')\n",
       "\n",
       "    // Update the output cell to use the data from the current canvas.\n",
       "    fig.push_to_output();\n",
       "    var dataURL = fig.canvas.toDataURL();\n",
       "    // Re-enable the keyboard manager in IPython - without this line, in FF,\n",
       "    // the notebook keyboard shortcuts fail.\n",
       "    IPython.keyboard_manager.enable()\n",
       "    $(fig.parent_element).html('<img src=\"' + dataURL + '\" width=\"' + width + '\">');\n",
       "    fig.close_ws(fig, msg);\n",
       "}\n",
       "\n",
       "mpl.figure.prototype.close_ws = function(fig, msg){\n",
       "    fig.send_message('closing', msg);\n",
       "    // fig.ws.close()\n",
       "}\n",
       "\n",
       "mpl.figure.prototype.push_to_output = function(remove_interactive) {\n",
       "    // Turn the data on the canvas into data in the output cell.\n",
       "    var width = this.canvas.width/mpl.ratio\n",
       "    var dataURL = this.canvas.toDataURL();\n",
       "    this.cell_info[1]['text/html'] = '<img src=\"' + dataURL + '\" width=\"' + width + '\">';\n",
       "}\n",
       "\n",
       "mpl.figure.prototype.updated_canvas_event = function() {\n",
       "    // Tell IPython that the notebook contents must change.\n",
       "    IPython.notebook.set_dirty(true);\n",
       "    this.send_message(\"ack\", {});\n",
       "    var fig = this;\n",
       "    // Wait a second, then push the new image to the DOM so\n",
       "    // that it is saved nicely (might be nice to debounce this).\n",
       "    setTimeout(function () { fig.push_to_output() }, 1000);\n",
       "}\n",
       "\n",
       "mpl.figure.prototype._init_toolbar = function() {\n",
       "    var fig = this;\n",
       "\n",
       "    var nav_element = $('<div/>');\n",
       "    nav_element.attr('style', 'width: 100%');\n",
       "    this.root.append(nav_element);\n",
       "\n",
       "    // Define a callback function for later on.\n",
       "    function toolbar_event(event) {\n",
       "        return fig.toolbar_button_onclick(event['data']);\n",
       "    }\n",
       "    function toolbar_mouse_event(event) {\n",
       "        return fig.toolbar_button_onmouseover(event['data']);\n",
       "    }\n",
       "\n",
       "    for(var toolbar_ind in mpl.toolbar_items){\n",
       "        var name = mpl.toolbar_items[toolbar_ind][0];\n",
       "        var tooltip = mpl.toolbar_items[toolbar_ind][1];\n",
       "        var image = mpl.toolbar_items[toolbar_ind][2];\n",
       "        var method_name = mpl.toolbar_items[toolbar_ind][3];\n",
       "\n",
       "        if (!name) { continue; };\n",
       "\n",
       "        var button = $('<button class=\"btn btn-default\" href=\"#\" title=\"' + name + '\"><i class=\"fa ' + image + ' fa-lg\"></i></button>');\n",
       "        button.click(method_name, toolbar_event);\n",
       "        button.mouseover(tooltip, toolbar_mouse_event);\n",
       "        nav_element.append(button);\n",
       "    }\n",
       "\n",
       "    // Add the status bar.\n",
       "    var status_bar = $('<span class=\"mpl-message\" style=\"text-align:right; float: right;\"/>');\n",
       "    nav_element.append(status_bar);\n",
       "    this.message = status_bar[0];\n",
       "\n",
       "    // Add the close button to the window.\n",
       "    var buttongrp = $('<div class=\"btn-group inline pull-right\"></div>');\n",
       "    var button = $('<button class=\"btn btn-mini btn-primary\" href=\"#\" title=\"Stop Interaction\"><i class=\"fa fa-power-off icon-remove icon-large\"></i></button>');\n",
       "    button.click(function (evt) { fig.handle_close(fig, {}); } );\n",
       "    button.mouseover('Stop Interaction', toolbar_mouse_event);\n",
       "    buttongrp.append(button);\n",
       "    var titlebar = this.root.find($('.ui-dialog-titlebar'));\n",
       "    titlebar.prepend(buttongrp);\n",
       "}\n",
       "\n",
       "mpl.figure.prototype._root_extra_style = function(el){\n",
       "    var fig = this\n",
       "    el.on(\"remove\", function(){\n",
       "\tfig.close_ws(fig, {});\n",
       "    });\n",
       "}\n",
       "\n",
       "mpl.figure.prototype._canvas_extra_style = function(el){\n",
       "    // this is important to make the div 'focusable\n",
       "    el.attr('tabindex', 0)\n",
       "    // reach out to IPython and tell the keyboard manager to turn it's self\n",
       "    // off when our div gets focus\n",
       "\n",
       "    // location in version 3\n",
       "    if (IPython.notebook.keyboard_manager) {\n",
       "        IPython.notebook.keyboard_manager.register_events(el);\n",
       "    }\n",
       "    else {\n",
       "        // location in version 2\n",
       "        IPython.keyboard_manager.register_events(el);\n",
       "    }\n",
       "\n",
       "}\n",
       "\n",
       "mpl.figure.prototype._key_event_extra = function(event, name) {\n",
       "    var manager = IPython.notebook.keyboard_manager;\n",
       "    if (!manager)\n",
       "        manager = IPython.keyboard_manager;\n",
       "\n",
       "    // Check for shift+enter\n",
       "    if (event.shiftKey && event.which == 13) {\n",
       "        this.canvas_div.blur();\n",
       "        // select the cell after this one\n",
       "        var index = IPython.notebook.find_cell_index(this.cell_info[0]);\n",
       "        IPython.notebook.select(index + 1);\n",
       "    }\n",
       "}\n",
       "\n",
       "mpl.figure.prototype.handle_save = function(fig, msg) {\n",
       "    fig.ondownload(fig, null);\n",
       "}\n",
       "\n",
       "\n",
       "mpl.find_output_cell = function(html_output) {\n",
       "    // Return the cell and output element which can be found *uniquely* in the notebook.\n",
       "    // Note - this is a bit hacky, but it is done because the \"notebook_saving.Notebook\"\n",
       "    // IPython event is triggered only after the cells have been serialised, which for\n",
       "    // our purposes (turning an active figure into a static one), is too late.\n",
       "    var cells = IPython.notebook.get_cells();\n",
       "    var ncells = cells.length;\n",
       "    for (var i=0; i<ncells; i++) {\n",
       "        var cell = cells[i];\n",
       "        if (cell.cell_type === 'code'){\n",
       "            for (var j=0; j<cell.output_area.outputs.length; j++) {\n",
       "                var data = cell.output_area.outputs[j];\n",
       "                if (data.data) {\n",
       "                    // IPython >= 3 moved mimebundle to data attribute of output\n",
       "                    data = data.data;\n",
       "                }\n",
       "                if (data['text/html'] == html_output) {\n",
       "                    return [cell, data, j];\n",
       "                }\n",
       "            }\n",
       "        }\n",
       "    }\n",
       "}\n",
       "\n",
       "// Register the function which deals with the matplotlib target/channel.\n",
       "// The kernel may be null if the page has been refreshed.\n",
       "if (IPython.notebook.kernel != null) {\n",
       "    IPython.notebook.kernel.comm_manager.register_target('matplotlib', mpl.mpl_figure_comm);\n",
       "}\n"
      ],
      "text/plain": [
       "<IPython.core.display.Javascript object>"
      ]
     },
     "metadata": {},
     "output_type": "display_data"
    },
    {
     "data": {
      "text/html": [
       "<img src=\"data:image/png;base64,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\" width=\"1000\">"
      ],
      "text/plain": [
       "<IPython.core.display.HTML object>"
      ]
     },
     "metadata": {},
     "output_type": "display_data"
    }
   ],
   "source": [
    "ax, tax, lax, lines = dual_train_plots()\n",
    "fig = ax.figure\n",
    "plt.tight_layout()\n",
    "# This gets built up during the run - do not rerun this cell\n",
    "results = pd.DataFrame([], columns=Results._fields)"
   ]
  },
  {
   "cell_type": "code",
   "execution_count": 12,
   "metadata": {
    "scrolled": false
   },
   "outputs": [
    {
     "name": "stdout",
     "output_type": "stream",
     "text": [
      "for model:  All_CNN8Layer_W(\n",
      "  (conv1): Conv1d(1, 20, kernel_size=(25,), stride=(1,), padding=(12,))\n",
      "  (conv2): Conv1d(20, 10, kernel_size=(15,), stride=(1,), padding=(7,))\n",
      "  (conv3): Conv1d(30, 10, kernel_size=(15,), stride=(1,), padding=(7,))\n",
      "  (conv4): Conv1d(10, 10, kernel_size=(15,), stride=(1,), padding=(7,))\n",
      "  (conv5): Conv1d(20, 10, kernel_size=(15,), stride=(1,), padding=(7,))\n",
      "  (conv6): Conv1d(10, 10, kernel_size=(15,), stride=(1,), padding=(7,))\n",
      "  (conv7): Conv1d(20, 1, kernel_size=(5,), stride=(1,), padding=(2,))\n",
      "  (finalFilter): Conv1d(1, 1, kernel_size=(91,), stride=(1,), padding=(45,))\n",
      "  (conv1dropout): Dropout(p=0.15, inplace=False)\n",
      "  (conv2dropout): Dropout(p=0.15, inplace=False)\n",
      "  (conv3dropout): Dropout(p=0.15, inplace=False)\n",
      "  (conv4dropout): Dropout(p=0.15, inplace=False)\n",
      "  (conv5dropout): Dropout(p=0.15, inplace=False)\n",
      "  (conv6dropout): Dropout(p=0.15, inplace=False)\n",
      "  (conv7dropout): Dropout(p=0.15, inplace=False)\n",
      ")\n",
      "epoch_start 1420\n",
      "batch_size 128\n",
      "epochs 40\n",
      "lr 5e-05\n",
      "Number of batches: train = 1250, val = 78\n"
     ]
    },
    {
     "name": "stderr",
     "output_type": "stream",
     "text": [
      "/home/michael24peters/pv-finder_experimental/notebooks/model/training.py:95: TqdmDeprecationWarning: This function will be removed in tqdm==5.0.0\n",
      "Please use `tqdm.notebook.tqdm` instead of `tqdm.tqdm_notebook`\n",
      "  file=sys.stderr,\n"
     ]
    },
    {
     "data": {
      "application/vnd.jupyter.widget-view+json": {
       "model_id": "abbedb42576344a9bbd52853ce5e13f8",
       "version_major": 2,
       "version_minor": 0
      },
      "text/plain": [
       "HBox(children=(FloatProgress(value=0.0, description='Epochs', layout=Layout(flex='2'), max=40.0, style=Progres…"
      ]
     },
     "metadata": {},
     "output_type": "display_data"
    },
    {
     "data": {
      "application/vnd.jupyter.widget-view+json": {
       "model_id": "",
       "version_major": 2,
       "version_minor": 0
      },
      "text/plain": [
       "HBox(children=(FloatProgress(value=0.0, description='Training', layout=Layout(flex='2'), max=1250.0, style=Pro…"
      ]
     },
     "metadata": {},
     "output_type": "display_data"
    },
    {
     "name": "stdout",
     "output_type": "stream",
     "text": [
      "Epoch 1420: train=10.1321, val=10.1986, took 47.833 s\n",
      "  Validation Found 51625 of 54504, added 2288 (eff 94.72%) (0.229 FP/event)\n",
      "Result epoch:  1420\n",
      "Average Eff:  0.0\n",
      "Average FP Rate:  0.0\n"
     ]
    },
    {
     "data": {
      "application/vnd.jupyter.widget-view+json": {
       "model_id": "",
       "version_major": 2,
       "version_minor": 0
      },
      "text/plain": [
       "HBox(children=(FloatProgress(value=0.0, description='Training', layout=Layout(flex='2'), max=1250.0, style=Pro…"
      ]
     },
     "metadata": {},
     "output_type": "display_data"
    },
    {
     "name": "stdout",
     "output_type": "stream",
     "text": [
      "Epoch 1421: train=10.1044, val=10.1599, took 47.49 s\n",
      "  Validation Found 51694 of 54504, added 2410 (eff 94.84%) (0.241 FP/event)\n",
      "Result epoch:  1421\n",
      "Average Eff:  0.0\n",
      "Average FP Rate:  0.0\n"
     ]
    },
    {
     "data": {
      "application/vnd.jupyter.widget-view+json": {
       "model_id": "",
       "version_major": 2,
       "version_minor": 0
      },
      "text/plain": [
       "HBox(children=(FloatProgress(value=0.0, description='Training', layout=Layout(flex='2'), max=1250.0, style=Pro…"
      ]
     },
     "metadata": {},
     "output_type": "display_data"
    },
    {
     "name": "stdout",
     "output_type": "stream",
     "text": [
      "Epoch 1422: train=10.0981, val=10.1637, took 47.507 s\n",
      "  Validation Found 51653 of 54504, added 2366 (eff 94.77%) (0.237 FP/event)\n",
      "Result epoch:  1422\n",
      "Average Eff:  0.0\n",
      "Average FP Rate:  0.0\n"
     ]
    },
    {
     "data": {
      "application/vnd.jupyter.widget-view+json": {
       "model_id": "",
       "version_major": 2,
       "version_minor": 0
      },
      "text/plain": [
       "HBox(children=(FloatProgress(value=0.0, description='Training', layout=Layout(flex='2'), max=1250.0, style=Pro…"
      ]
     },
     "metadata": {},
     "output_type": "display_data"
    },
    {
     "name": "stdout",
     "output_type": "stream",
     "text": [
      "Epoch 1423: train=10.093, val=10.14, took 47.488 s\n",
      "  Validation Found 51698 of 54504, added 2462 (eff 94.85%) (0.247 FP/event)\n",
      "Result epoch:  1423\n",
      "Average Eff:  0.0\n",
      "Average FP Rate:  0.0\n"
     ]
    },
    {
     "data": {
      "application/vnd.jupyter.widget-view+json": {
       "model_id": "",
       "version_major": 2,
       "version_minor": 0
      },
      "text/plain": [
       "HBox(children=(FloatProgress(value=0.0, description='Training', layout=Layout(flex='2'), max=1250.0, style=Pro…"
      ]
     },
     "metadata": {},
     "output_type": "display_data"
    },
    {
     "name": "stdout",
     "output_type": "stream",
     "text": [
      "Epoch 1424: train=10.0889, val=10.1373, took 47.483 s\n",
      "  Validation Found 51659 of 54504, added 2369 (eff 94.78%) (0.237 FP/event)\n",
      "Result epoch:  1424\n",
      "Average Eff:  0.0\n",
      "Average FP Rate:  0.0\n"
     ]
    },
    {
     "data": {
      "application/vnd.jupyter.widget-view+json": {
       "model_id": "",
       "version_major": 2,
       "version_minor": 0
      },
      "text/plain": [
       "HBox(children=(FloatProgress(value=0.0, description='Training', layout=Layout(flex='2'), max=1250.0, style=Pro…"
      ]
     },
     "metadata": {},
     "output_type": "display_data"
    },
    {
     "name": "stdout",
     "output_type": "stream",
     "text": [
      "Epoch 1425: train=10.0897, val=10.1338, took 47.486 s\n",
      "  Validation Found 51690 of 54504, added 2476 (eff 94.84%) (0.248 FP/event)\n",
      "Result epoch:  1425\n",
      "Average Eff:  0.0\n",
      "Average FP Rate:  0.0\n"
     ]
    },
    {
     "data": {
      "application/vnd.jupyter.widget-view+json": {
       "model_id": "",
       "version_major": 2,
       "version_minor": 0
      },
      "text/plain": [
       "HBox(children=(FloatProgress(value=0.0, description='Training', layout=Layout(flex='2'), max=1250.0, style=Pro…"
      ]
     },
     "metadata": {},
     "output_type": "display_data"
    },
    {
     "name": "stdout",
     "output_type": "stream",
     "text": [
      "Epoch 1426: train=10.0934, val=10.1358, took 47.512 s\n",
      "  Validation Found 51656 of 54504, added 2442 (eff 94.77%) (0.245 FP/event)\n",
      "Result epoch:  1426\n",
      "Average Eff:  0.0\n",
      "Average FP Rate:  0.0\n"
     ]
    },
    {
     "data": {
      "application/vnd.jupyter.widget-view+json": {
       "model_id": "",
       "version_major": 2,
       "version_minor": 0
      },
      "text/plain": [
       "HBox(children=(FloatProgress(value=0.0, description='Training', layout=Layout(flex='2'), max=1250.0, style=Pro…"
      ]
     },
     "metadata": {},
     "output_type": "display_data"
    },
    {
     "name": "stdout",
     "output_type": "stream",
     "text": [
      "Epoch 1427: train=10.0847, val=10.1426, took 47.41 s\n",
      "  Validation Found 51640 of 54504, added 2351 (eff 94.75%) (0.235 FP/event)\n",
      "Result epoch:  1427\n",
      "Average Eff:  0.0\n",
      "Average FP Rate:  0.0\n"
     ]
    },
    {
     "data": {
      "application/vnd.jupyter.widget-view+json": {
       "model_id": "",
       "version_major": 2,
       "version_minor": 0
      },
      "text/plain": [
       "HBox(children=(FloatProgress(value=0.0, description='Training', layout=Layout(flex='2'), max=1250.0, style=Pro…"
      ]
     },
     "metadata": {},
     "output_type": "display_data"
    },
    {
     "name": "stdout",
     "output_type": "stream",
     "text": [
      "Epoch 1428: train=10.0843, val=10.1325, took 47.364 s\n",
      "  Validation Found 51670 of 54504, added 2412 (eff 94.80%) (0.242 FP/event)\n",
      "Result epoch:  1428\n",
      "Average Eff:  0.0\n",
      "Average FP Rate:  0.0\n"
     ]
    },
    {
     "data": {
      "application/vnd.jupyter.widget-view+json": {
       "model_id": "",
       "version_major": 2,
       "version_minor": 0
      },
      "text/plain": [
       "HBox(children=(FloatProgress(value=0.0, description='Training', layout=Layout(flex='2'), max=1250.0, style=Pro…"
      ]
     },
     "metadata": {},
     "output_type": "display_data"
    },
    {
     "name": "stdout",
     "output_type": "stream",
     "text": [
      "Epoch 1429: train=10.0857, val=10.1486, took 47.382 s\n",
      "  Validation Found 51652 of 54504, added 2336 (eff 94.77%) (0.234 FP/event)\n",
      "Result epoch:  1429\n",
      "Average Eff:  0.0\n",
      "Average FP Rate:  0.0\n"
     ]
    },
    {
     "data": {
      "application/vnd.jupyter.widget-view+json": {
       "model_id": "",
       "version_major": 2,
       "version_minor": 0
      },
      "text/plain": [
       "HBox(children=(FloatProgress(value=0.0, description='Training', layout=Layout(flex='2'), max=1250.0, style=Pro…"
      ]
     },
     "metadata": {},
     "output_type": "display_data"
    },
    {
     "name": "stdout",
     "output_type": "stream",
     "text": [
      "Epoch 1430: train=10.0837, val=10.1431, took 47.517 s\n",
      "  Validation Found 51650 of 54504, added 2337 (eff 94.76%) (0.234 FP/event)\n",
      "Result epoch:  1430\n",
      "Average Eff:  0.0\n",
      "Average FP Rate:  0.0\n"
     ]
    },
    {
     "data": {
      "application/vnd.jupyter.widget-view+json": {
       "model_id": "",
       "version_major": 2,
       "version_minor": 0
      },
      "text/plain": [
       "HBox(children=(FloatProgress(value=0.0, description='Training', layout=Layout(flex='2'), max=1250.0, style=Pro…"
      ]
     },
     "metadata": {},
     "output_type": "display_data"
    },
    {
     "name": "stdout",
     "output_type": "stream",
     "text": [
      "Epoch 1431: train=10.0852, val=10.1343, took 47.454 s\n",
      "  Validation Found 51663 of 54504, added 2373 (eff 94.79%) (0.238 FP/event)\n",
      "Result epoch:  1431\n",
      "Average Eff:  0.0\n",
      "Average FP Rate:  0.0\n"
     ]
    },
    {
     "data": {
      "application/vnd.jupyter.widget-view+json": {
       "model_id": "",
       "version_major": 2,
       "version_minor": 0
      },
      "text/plain": [
       "HBox(children=(FloatProgress(value=0.0, description='Training', layout=Layout(flex='2'), max=1250.0, style=Pro…"
      ]
     },
     "metadata": {},
     "output_type": "display_data"
    },
    {
     "name": "stdout",
     "output_type": "stream",
     "text": [
      "Epoch 1432: train=10.0844, val=10.124, took 47.495 s\n",
      "  Validation Found 51683 of 54504, added 2425 (eff 94.82%) (0.243 FP/event)\n",
      "Result epoch:  1432\n",
      "Average Eff:  0.0\n",
      "Average FP Rate:  0.0\n"
     ]
    },
    {
     "data": {
      "application/vnd.jupyter.widget-view+json": {
       "model_id": "",
       "version_major": 2,
       "version_minor": 0
      },
      "text/plain": [
       "HBox(children=(FloatProgress(value=0.0, description='Training', layout=Layout(flex='2'), max=1250.0, style=Pro…"
      ]
     },
     "metadata": {},
     "output_type": "display_data"
    },
    {
     "name": "stdout",
     "output_type": "stream",
     "text": [
      "Epoch 1433: train=10.0803, val=10.1293, took 47.735 s\n",
      "  Validation Found 51642 of 54504, added 2369 (eff 94.75%) (0.237 FP/event)\n",
      "Result epoch:  1433\n",
      "Average Eff:  0.0\n",
      "Average FP Rate:  0.0\n"
     ]
    },
    {
     "data": {
      "application/vnd.jupyter.widget-view+json": {
       "model_id": "",
       "version_major": 2,
       "version_minor": 0
      },
      "text/plain": [
       "HBox(children=(FloatProgress(value=0.0, description='Training', layout=Layout(flex='2'), max=1250.0, style=Pro…"
      ]
     },
     "metadata": {},
     "output_type": "display_data"
    },
    {
     "name": "stdout",
     "output_type": "stream",
     "text": [
      "Epoch 1434: train=10.0796, val=10.1201, took 47.66 s\n",
      "  Validation Found 51675 of 54504, added 2428 (eff 94.81%) (0.243 FP/event)\n",
      "Result epoch:  1434\n",
      "Average Eff:  0.0\n",
      "Average FP Rate:  0.0\n"
     ]
    },
    {
     "data": {
      "application/vnd.jupyter.widget-view+json": {
       "model_id": "",
       "version_major": 2,
       "version_minor": 0
      },
      "text/plain": [
       "HBox(children=(FloatProgress(value=0.0, description='Training', layout=Layout(flex='2'), max=1250.0, style=Pro…"
      ]
     },
     "metadata": {},
     "output_type": "display_data"
    },
    {
     "name": "stdout",
     "output_type": "stream",
     "text": [
      "Epoch 1435: train=10.0798, val=10.1382, took 47.096 s\n",
      "  Validation Found 51623 of 54504, added 2334 (eff 94.71%) (0.234 FP/event)\n",
      "Result epoch:  1435\n",
      "Average Eff:  0.0\n",
      "Average FP Rate:  0.0\n"
     ]
    },
    {
     "data": {
      "application/vnd.jupyter.widget-view+json": {
       "model_id": "",
       "version_major": 2,
       "version_minor": 0
      },
      "text/plain": [
       "HBox(children=(FloatProgress(value=0.0, description='Training', layout=Layout(flex='2'), max=1250.0, style=Pro…"
      ]
     },
     "metadata": {},
     "output_type": "display_data"
    },
    {
     "name": "stdout",
     "output_type": "stream",
     "text": [
      "Epoch 1436: train=10.0818, val=10.1177, took 71.28 s\n",
      "  Validation Found 51648 of 54504, added 2395 (eff 94.76%) (0.24 FP/event)\n",
      "Result epoch:  1436\n",
      "Average Eff:  0.0\n",
      "Average FP Rate:  0.0\n"
     ]
    },
    {
     "data": {
      "application/vnd.jupyter.widget-view+json": {
       "model_id": "",
       "version_major": 2,
       "version_minor": 0
      },
      "text/plain": [
       "HBox(children=(FloatProgress(value=0.0, description='Training', layout=Layout(flex='2'), max=1250.0, style=Pro…"
      ]
     },
     "metadata": {},
     "output_type": "display_data"
    },
    {
     "name": "stdout",
     "output_type": "stream",
     "text": [
      "Epoch 1437: train=10.0762, val=10.1431, took 95.08 s\n",
      "  Validation Found 51649 of 54504, added 2369 (eff 94.76%) (0.237 FP/event)\n",
      "Result epoch:  1437\n",
      "Average Eff:  0.0\n",
      "Average FP Rate:  0.0\n"
     ]
    },
    {
     "data": {
      "application/vnd.jupyter.widget-view+json": {
       "model_id": "",
       "version_major": 2,
       "version_minor": 0
      },
      "text/plain": [
       "HBox(children=(FloatProgress(value=0.0, description='Training', layout=Layout(flex='2'), max=1250.0, style=Pro…"
      ]
     },
     "metadata": {},
     "output_type": "display_data"
    },
    {
     "name": "stdout",
     "output_type": "stream",
     "text": [
      "Epoch 1438: train=10.0796, val=10.1165, took 97.249 s\n",
      "  Validation Found 51657 of 54504, added 2382 (eff 94.78%) (0.239 FP/event)\n",
      "Result epoch:  1438\n",
      "Average Eff:  0.0\n",
      "Average FP Rate:  0.0\n"
     ]
    },
    {
     "data": {
      "application/vnd.jupyter.widget-view+json": {
       "model_id": "",
       "version_major": 2,
       "version_minor": 0
      },
      "text/plain": [
       "HBox(children=(FloatProgress(value=0.0, description='Training', layout=Layout(flex='2'), max=1250.0, style=Pro…"
      ]
     },
     "metadata": {},
     "output_type": "display_data"
    },
    {
     "name": "stdout",
     "output_type": "stream",
     "text": [
      "Epoch 1439: train=10.0792, val=10.1228, took 98.997 s\n",
      "  Validation Found 51638 of 54504, added 2343 (eff 94.74%) (0.235 FP/event)\n",
      "Result epoch:  1439\n",
      "Average Eff:  0.0\n",
      "Average FP Rate:  0.0\n"
     ]
    },
    {
     "data": {
      "application/vnd.jupyter.widget-view+json": {
       "model_id": "",
       "version_major": 2,
       "version_minor": 0
      },
      "text/plain": [
       "HBox(children=(FloatProgress(value=0.0, description='Training', layout=Layout(flex='2'), max=1250.0, style=Pro…"
      ]
     },
     "metadata": {},
     "output_type": "display_data"
    },
    {
     "name": "stdout",
     "output_type": "stream",
     "text": [
      "Epoch 1440: train=10.0754, val=10.1097, took 98.826 s\n",
      "  Validation Found 51679 of 54504, added 2445 (eff 94.82%) (0.245 FP/event)\n",
      "Result epoch:  1440\n",
      "Average Eff:  0.0\n",
      "Average FP Rate:  0.0\n"
     ]
    },
    {
     "data": {
      "application/vnd.jupyter.widget-view+json": {
       "model_id": "",
       "version_major": 2,
       "version_minor": 0
      },
      "text/plain": [
       "HBox(children=(FloatProgress(value=0.0, description='Training', layout=Layout(flex='2'), max=1250.0, style=Pro…"
      ]
     },
     "metadata": {},
     "output_type": "display_data"
    },
    {
     "name": "stdout",
     "output_type": "stream",
     "text": [
      "Epoch 1441: train=10.0786, val=10.1331, took 99.113 s\n",
      "  Validation Found 51624 of 54504, added 2303 (eff 94.72%) (0.231 FP/event)\n",
      "Result epoch:  1441\n",
      "Average Eff:  0.0\n",
      "Average FP Rate:  0.0\n"
     ]
    },
    {
     "data": {
      "application/vnd.jupyter.widget-view+json": {
       "model_id": "",
       "version_major": 2,
       "version_minor": 0
      },
      "text/plain": [
       "HBox(children=(FloatProgress(value=0.0, description='Training', layout=Layout(flex='2'), max=1250.0, style=Pro…"
      ]
     },
     "metadata": {},
     "output_type": "display_data"
    },
    {
     "name": "stdout",
     "output_type": "stream",
     "text": [
      "Epoch 1442: train=10.083, val=10.1245, took 98.348 s\n",
      "  Validation Found 51668 of 54504, added 2378 (eff 94.80%) (0.238 FP/event)\n",
      "Result epoch:  1442\n",
      "Average Eff:  0.0\n",
      "Average FP Rate:  0.0\n"
     ]
    },
    {
     "data": {
      "application/vnd.jupyter.widget-view+json": {
       "model_id": "",
       "version_major": 2,
       "version_minor": 0
      },
      "text/plain": [
       "HBox(children=(FloatProgress(value=0.0, description='Training', layout=Layout(flex='2'), max=1250.0, style=Pro…"
      ]
     },
     "metadata": {},
     "output_type": "display_data"
    },
    {
     "name": "stdout",
     "output_type": "stream",
     "text": [
      "Epoch 1443: train=10.0738, val=10.1275, took 98.806 s\n",
      "  Validation Found 51658 of 54504, added 2380 (eff 94.78%) (0.238 FP/event)\n",
      "Result epoch:  1443\n",
      "Average Eff:  0.0\n",
      "Average FP Rate:  0.0\n"
     ]
    },
    {
     "data": {
      "application/vnd.jupyter.widget-view+json": {
       "model_id": "",
       "version_major": 2,
       "version_minor": 0
      },
      "text/plain": [
       "HBox(children=(FloatProgress(value=0.0, description='Training', layout=Layout(flex='2'), max=1250.0, style=Pro…"
      ]
     },
     "metadata": {},
     "output_type": "display_data"
    },
    {
     "name": "stdout",
     "output_type": "stream",
     "text": [
      "Epoch 1444: train=10.0775, val=10.1005, took 98.948 s\n",
      "  Validation Found 51712 of 54504, added 2520 (eff 94.88%) (0.252 FP/event)\n",
      "Result epoch:  1444\n",
      "Average Eff:  0.0\n",
      "Average FP Rate:  0.0\n"
     ]
    },
    {
     "data": {
      "application/vnd.jupyter.widget-view+json": {
       "model_id": "",
       "version_major": 2,
       "version_minor": 0
      },
      "text/plain": [
       "HBox(children=(FloatProgress(value=0.0, description='Training', layout=Layout(flex='2'), max=1250.0, style=Pro…"
      ]
     },
     "metadata": {},
     "output_type": "display_data"
    },
    {
     "name": "stdout",
     "output_type": "stream",
     "text": [
      "Epoch 1445: train=10.0766, val=10.1028, took 98.163 s\n",
      "  Validation Found 51656 of 54504, added 2388 (eff 94.77%) (0.239 FP/event)\n",
      "Result epoch:  1445\n",
      "Average Eff:  0.0\n",
      "Average FP Rate:  0.0\n"
     ]
    },
    {
     "data": {
      "application/vnd.jupyter.widget-view+json": {
       "model_id": "",
       "version_major": 2,
       "version_minor": 0
      },
      "text/plain": [
       "HBox(children=(FloatProgress(value=0.0, description='Training', layout=Layout(flex='2'), max=1250.0, style=Pro…"
      ]
     },
     "metadata": {},
     "output_type": "display_data"
    },
    {
     "name": "stdout",
     "output_type": "stream",
     "text": [
      "Epoch 1446: train=10.0776, val=10.0993, took 99.056 s\n",
      "  Validation Found 51671 of 54504, added 2431 (eff 94.80%) (0.243 FP/event)\n",
      "Result epoch:  1446\n",
      "Average Eff:  0.0\n",
      "Average FP Rate:  0.0\n"
     ]
    },
    {
     "data": {
      "application/vnd.jupyter.widget-view+json": {
       "model_id": "",
       "version_major": 2,
       "version_minor": 0
      },
      "text/plain": [
       "HBox(children=(FloatProgress(value=0.0, description='Training', layout=Layout(flex='2'), max=1250.0, style=Pro…"
      ]
     },
     "metadata": {},
     "output_type": "display_data"
    },
    {
     "name": "stdout",
     "output_type": "stream",
     "text": [
      "Epoch 1447: train=10.0804, val=10.1155, took 98.685 s\n",
      "  Validation Found 51630 of 54504, added 2317 (eff 94.73%) (0.232 FP/event)\n",
      "Result epoch:  1447\n",
      "Average Eff:  0.0\n",
      "Average FP Rate:  0.0\n"
     ]
    },
    {
     "data": {
      "application/vnd.jupyter.widget-view+json": {
       "model_id": "",
       "version_major": 2,
       "version_minor": 0
      },
      "text/plain": [
       "HBox(children=(FloatProgress(value=0.0, description='Training', layout=Layout(flex='2'), max=1250.0, style=Pro…"
      ]
     },
     "metadata": {},
     "output_type": "display_data"
    },
    {
     "name": "stdout",
     "output_type": "stream",
     "text": [
      "Epoch 1448: train=10.0746, val=10.0961, took 98.005 s\n",
      "  Validation Found 51703 of 54504, added 2530 (eff 94.86%) (0.253 FP/event)\n",
      "Result epoch:  1448\n",
      "Average Eff:  0.0\n",
      "Average FP Rate:  0.0\n"
     ]
    },
    {
     "data": {
      "application/vnd.jupyter.widget-view+json": {
       "model_id": "",
       "version_major": 2,
       "version_minor": 0
      },
      "text/plain": [
       "HBox(children=(FloatProgress(value=0.0, description='Training', layout=Layout(flex='2'), max=1250.0, style=Pro…"
      ]
     },
     "metadata": {},
     "output_type": "display_data"
    },
    {
     "name": "stdout",
     "output_type": "stream",
     "text": [
      "Epoch 1449: train=10.0766, val=10.1088, took 98.826 s\n",
      "  Validation Found 51670 of 54504, added 2413 (eff 94.80%) (0.242 FP/event)\n",
      "Result epoch:  1449\n",
      "Average Eff:  0.0\n",
      "Average FP Rate:  0.0\n"
     ]
    },
    {
     "data": {
      "application/vnd.jupyter.widget-view+json": {
       "model_id": "",
       "version_major": 2,
       "version_minor": 0
      },
      "text/plain": [
       "HBox(children=(FloatProgress(value=0.0, description='Training', layout=Layout(flex='2'), max=1250.0, style=Pro…"
      ]
     },
     "metadata": {},
     "output_type": "display_data"
    },
    {
     "name": "stdout",
     "output_type": "stream",
     "text": [
      "Epoch 1450: train=10.0757, val=10.1036, took 98.971 s\n",
      "  Validation Found 51685 of 54504, added 2446 (eff 94.83%) (0.245 FP/event)\n",
      "Result epoch:  1450\n",
      "Average Eff:  0.9482790253926318\n",
      "Average FP Rate:  0.24496745117676516\n"
     ]
    },
    {
     "data": {
      "application/vnd.jupyter.widget-view+json": {
       "model_id": "",
       "version_major": 2,
       "version_minor": 0
      },
      "text/plain": [
       "HBox(children=(FloatProgress(value=0.0, description='Training', layout=Layout(flex='2'), max=1250.0, style=Pro…"
      ]
     },
     "metadata": {},
     "output_type": "display_data"
    },
    {
     "name": "stdout",
     "output_type": "stream",
     "text": [
      "Epoch 1451: train=10.0785, val=10.0941, took 98.507 s\n",
      "  Validation Found 51683 of 54504, added 2472 (eff 94.82%) (0.248 FP/event)\n",
      "Result epoch:  1451\n",
      "Average Eff:  1.8965213562307355\n",
      "Average FP Rate:  0.4925388082123185\n"
     ]
    },
    {
     "data": {
      "application/vnd.jupyter.widget-view+json": {
       "model_id": "",
       "version_major": 2,
       "version_minor": 0
      },
      "text/plain": [
       "HBox(children=(FloatProgress(value=0.0, description='Training', layout=Layout(flex='2'), max=1250.0, style=Pro…"
      ]
     },
     "metadata": {},
     "output_type": "display_data"
    },
    {
     "name": "stdout",
     "output_type": "stream",
     "text": [
      "Epoch 1452: train=10.0758, val=10.0937, took 98.651 s\n",
      "  Validation Found 51672 of 54504, added 2426 (eff 94.80%) (0.243 FP/event)\n",
      "Result epoch:  1452\n",
      "Average Eff:  2.8445618670189345\n",
      "Average FP Rate:  0.7355032548823235\n"
     ]
    },
    {
     "data": {
      "application/vnd.jupyter.widget-view+json": {
       "model_id": "",
       "version_major": 2,
       "version_minor": 0
      },
      "text/plain": [
       "HBox(children=(FloatProgress(value=0.0, description='Training', layout=Layout(flex='2'), max=1250.0, style=Pro…"
      ]
     },
     "metadata": {},
     "output_type": "display_data"
    },
    {
     "name": "stdout",
     "output_type": "stream",
     "text": [
      "Epoch 1453: train=10.0767, val=10.0848, took 98.793 s\n",
      "  Validation Found 51694 of 54504, added 2483 (eff 94.84%) (0.249 FP/event)\n",
      "Result epoch:  1453\n",
      "Average Eff:  3.7930060179069427\n",
      "Average FP Rate:  0.9841762643965949\n"
     ]
    },
    {
     "data": {
      "application/vnd.jupyter.widget-view+json": {
       "model_id": "",
       "version_major": 2,
       "version_minor": 0
      },
      "text/plain": [
       "HBox(children=(FloatProgress(value=0.0, description='Training', layout=Layout(flex='2'), max=1250.0, style=Pro…"
      ]
     },
     "metadata": {},
     "output_type": "display_data"
    },
    {
     "name": "stdout",
     "output_type": "stream",
     "text": [
      "Epoch 1454: train=10.072, val=10.091, took 97.981 s\n",
      "  Validation Found 51692 of 54504, added 2431 (eff 94.84%) (0.243 FP/event)\n",
      "Result epoch:  1454\n",
      "Average Eff:  4.741413474240423\n",
      "Average FP Rate:  1.2276414621932898\n"
     ]
    },
    {
     "data": {
      "application/vnd.jupyter.widget-view+json": {
       "model_id": "",
       "version_major": 2,
       "version_minor": 0
      },
      "text/plain": [
       "HBox(children=(FloatProgress(value=0.0, description='Training', layout=Layout(flex='2'), max=1250.0, style=Pro…"
      ]
     },
     "metadata": {},
     "output_type": "display_data"
    },
    {
     "name": "stdout",
     "output_type": "stream",
     "text": [
      "Epoch 1455: train=10.072, val=10.0897, took 98.799 s\n",
      "  Validation Found 51697 of 54504, added 2505 (eff 94.85%) (0.251 FP/event)\n",
      "Result epoch:  1455\n",
      "Average Eff:  5.689912666960223\n",
      "Average FP Rate:  1.4785177766649973\n"
     ]
    },
    {
     "data": {
      "application/vnd.jupyter.widget-view+json": {
       "model_id": "",
       "version_major": 2,
       "version_minor": 0
      },
      "text/plain": [
       "HBox(children=(FloatProgress(value=0.0, description='Training', layout=Layout(flex='2'), max=1250.0, style=Pro…"
      ]
     },
     "metadata": {},
     "output_type": "display_data"
    },
    {
     "name": "stdout",
     "output_type": "stream",
     "text": [
      "Epoch 1456: train=10.0766, val=10.1195, took 97.056 s\n",
      "  Validation Found 51655 of 54504, added 2366 (eff 94.77%) (0.237 FP/event)\n",
      "Result epoch:  1456\n",
      "Average Eff:  6.637641274034933\n",
      "Average FP Rate:  1.7154732098147218\n"
     ]
    },
    {
     "data": {
      "application/vnd.jupyter.widget-view+json": {
       "model_id": "",
       "version_major": 2,
       "version_minor": 0
      },
      "text/plain": [
       "HBox(children=(FloatProgress(value=0.0, description='Training', layout=Layout(flex='2'), max=1250.0, style=Pro…"
      ]
     },
     "metadata": {},
     "output_type": "display_data"
    },
    {
     "name": "stdout",
     "output_type": "stream",
     "text": [
      "Epoch 1457: train=10.0742, val=10.1038, took 98.505 s\n",
      "  Validation Found 51668 of 54504, added 2438 (eff 94.80%) (0.244 FP/event)\n",
      "Result epoch:  1457\n",
      "Average Eff:  7.585608395714075\n",
      "Average FP Rate:  1.959639459188783\n"
     ]
    },
    {
     "data": {
      "application/vnd.jupyter.widget-view+json": {
       "model_id": "",
       "version_major": 2,
       "version_minor": 0
      },
      "text/plain": [
       "HBox(children=(FloatProgress(value=0.0, description='Training', layout=Layout(flex='2'), max=1250.0, style=Pro…"
      ]
     },
     "metadata": {},
     "output_type": "display_data"
    },
    {
     "name": "stdout",
     "output_type": "stream",
     "text": [
      "Epoch 1458: train=10.0736, val=10.1016, took 99.13 s\n",
      "  Validation Found 51671 of 54504, added 2457 (eff 94.80%) (0.246 FP/event)\n",
      "Result epoch:  1458\n",
      "Average Eff:  8.53363055922501\n",
      "Average FP Rate:  2.2057085628442663\n"
     ]
    },
    {
     "data": {
      "application/vnd.jupyter.widget-view+json": {
       "model_id": "",
       "version_major": 2,
       "version_minor": 0
      },
      "text/plain": [
       "HBox(children=(FloatProgress(value=0.0, description='Training', layout=Layout(flex='2'), max=1250.0, style=Pro…"
      ]
     },
     "metadata": {},
     "output_type": "display_data"
    },
    {
     "name": "stdout",
     "output_type": "stream",
     "text": [
      "Epoch 1459: train=10.068, val=10.1101, took 98.654 s\n",
      "  Validation Found 51659 of 54504, added 2388 (eff 94.78%) (0.239 FP/event)\n",
      "Result epoch:  1459\n",
      "Averaging...\n",
      "\n",
      "Average Eff:  0.9481432555408776\n",
      "Average FP Rate:  0.2444867300951427\n",
      "\n"
     ]
    },
    {
     "data": {
      "application/javascript": [
       "/* Put everything inside the global mpl namespace */\n",
       "window.mpl = {};\n",
       "\n",
       "\n",
       "mpl.get_websocket_type = function() {\n",
       "    if (typeof(WebSocket) !== 'undefined') {\n",
       "        return WebSocket;\n",
       "    } else if (typeof(MozWebSocket) !== 'undefined') {\n",
       "        return MozWebSocket;\n",
       "    } else {\n",
       "        alert('Your browser does not have WebSocket support. ' +\n",
       "              'Please try Chrome, Safari or Firefox ≥ 6. ' +\n",
       "              'Firefox 4 and 5 are also supported but you ' +\n",
       "              'have to enable WebSockets in about:config.');\n",
       "    };\n",
       "}\n",
       "\n",
       "mpl.figure = function(figure_id, websocket, ondownload, parent_element) {\n",
       "    this.id = figure_id;\n",
       "\n",
       "    this.ws = websocket;\n",
       "\n",
       "    this.supports_binary = (this.ws.binaryType != undefined);\n",
       "\n",
       "    if (!this.supports_binary) {\n",
       "        var warnings = document.getElementById(\"mpl-warnings\");\n",
       "        if (warnings) {\n",
       "            warnings.style.display = 'block';\n",
       "            warnings.textContent = (\n",
       "                \"This browser does not support binary websocket messages. \" +\n",
       "                    \"Performance may be slow.\");\n",
       "        }\n",
       "    }\n",
       "\n",
       "    this.imageObj = new Image();\n",
       "\n",
       "    this.context = undefined;\n",
       "    this.message = undefined;\n",
       "    this.canvas = undefined;\n",
       "    this.rubberband_canvas = undefined;\n",
       "    this.rubberband_context = undefined;\n",
       "    this.format_dropdown = undefined;\n",
       "\n",
       "    this.image_mode = 'full';\n",
       "\n",
       "    this.root = $('<div/>');\n",
       "    this._root_extra_style(this.root)\n",
       "    this.root.attr('style', 'display: inline-block');\n",
       "\n",
       "    $(parent_element).append(this.root);\n",
       "\n",
       "    this._init_header(this);\n",
       "    this._init_canvas(this);\n",
       "    this._init_toolbar(this);\n",
       "\n",
       "    var fig = this;\n",
       "\n",
       "    this.waiting = false;\n",
       "\n",
       "    this.ws.onopen =  function () {\n",
       "            fig.send_message(\"supports_binary\", {value: fig.supports_binary});\n",
       "            fig.send_message(\"send_image_mode\", {});\n",
       "            if (mpl.ratio != 1) {\n",
       "                fig.send_message(\"set_dpi_ratio\", {'dpi_ratio': mpl.ratio});\n",
       "            }\n",
       "            fig.send_message(\"refresh\", {});\n",
       "        }\n",
       "\n",
       "    this.imageObj.onload = function() {\n",
       "            if (fig.image_mode == 'full') {\n",
       "                // Full images could contain transparency (where diff images\n",
       "                // almost always do), so we need to clear the canvas so that\n",
       "                // there is no ghosting.\n",
       "                fig.context.clearRect(0, 0, fig.canvas.width, fig.canvas.height);\n",
       "            }\n",
       "            fig.context.drawImage(fig.imageObj, 0, 0);\n",
       "        };\n",
       "\n",
       "    this.imageObj.onunload = function() {\n",
       "        fig.ws.close();\n",
       "    }\n",
       "\n",
       "    this.ws.onmessage = this._make_on_message_function(this);\n",
       "\n",
       "    this.ondownload = ondownload;\n",
       "}\n",
       "\n",
       "mpl.figure.prototype._init_header = function() {\n",
       "    var titlebar = $(\n",
       "        '<div class=\"ui-dialog-titlebar ui-widget-header ui-corner-all ' +\n",
       "        'ui-helper-clearfix\"/>');\n",
       "    var titletext = $(\n",
       "        '<div class=\"ui-dialog-title\" style=\"width: 100%; ' +\n",
       "        'text-align: center; padding: 3px;\"/>');\n",
       "    titlebar.append(titletext)\n",
       "    this.root.append(titlebar);\n",
       "    this.header = titletext[0];\n",
       "}\n",
       "\n",
       "\n",
       "\n",
       "mpl.figure.prototype._canvas_extra_style = function(canvas_div) {\n",
       "\n",
       "}\n",
       "\n",
       "\n",
       "mpl.figure.prototype._root_extra_style = function(canvas_div) {\n",
       "\n",
       "}\n",
       "\n",
       "mpl.figure.prototype._init_canvas = function() {\n",
       "    var fig = this;\n",
       "\n",
       "    var canvas_div = $('<div/>');\n",
       "\n",
       "    canvas_div.attr('style', 'position: relative; clear: both; outline: 0');\n",
       "\n",
       "    function canvas_keyboard_event(event) {\n",
       "        return fig.key_event(event, event['data']);\n",
       "    }\n",
       "\n",
       "    canvas_div.keydown('key_press', canvas_keyboard_event);\n",
       "    canvas_div.keyup('key_release', canvas_keyboard_event);\n",
       "    this.canvas_div = canvas_div\n",
       "    this._canvas_extra_style(canvas_div)\n",
       "    this.root.append(canvas_div);\n",
       "\n",
       "    var canvas = $('<canvas/>');\n",
       "    canvas.addClass('mpl-canvas');\n",
       "    canvas.attr('style', \"left: 0; top: 0; z-index: 0; outline: 0\")\n",
       "\n",
       "    this.canvas = canvas[0];\n",
       "    this.context = canvas[0].getContext(\"2d\");\n",
       "\n",
       "    var backingStore = this.context.backingStorePixelRatio ||\n",
       "\tthis.context.webkitBackingStorePixelRatio ||\n",
       "\tthis.context.mozBackingStorePixelRatio ||\n",
       "\tthis.context.msBackingStorePixelRatio ||\n",
       "\tthis.context.oBackingStorePixelRatio ||\n",
       "\tthis.context.backingStorePixelRatio || 1;\n",
       "\n",
       "    mpl.ratio = (window.devicePixelRatio || 1) / backingStore;\n",
       "\n",
       "    var rubberband = $('<canvas/>');\n",
       "    rubberband.attr('style', \"position: absolute; left: 0; top: 0; z-index: 1;\")\n",
       "\n",
       "    var pass_mouse_events = true;\n",
       "\n",
       "    canvas_div.resizable({\n",
       "        start: function(event, ui) {\n",
       "            pass_mouse_events = false;\n",
       "        },\n",
       "        resize: function(event, ui) {\n",
       "            fig.request_resize(ui.size.width, ui.size.height);\n",
       "        },\n",
       "        stop: function(event, ui) {\n",
       "            pass_mouse_events = true;\n",
       "            fig.request_resize(ui.size.width, ui.size.height);\n",
       "        },\n",
       "    });\n",
       "\n",
       "    function mouse_event_fn(event) {\n",
       "        if (pass_mouse_events)\n",
       "            return fig.mouse_event(event, event['data']);\n",
       "    }\n",
       "\n",
       "    rubberband.mousedown('button_press', mouse_event_fn);\n",
       "    rubberband.mouseup('button_release', mouse_event_fn);\n",
       "    // Throttle sequential mouse events to 1 every 20ms.\n",
       "    rubberband.mousemove('motion_notify', mouse_event_fn);\n",
       "\n",
       "    rubberband.mouseenter('figure_enter', mouse_event_fn);\n",
       "    rubberband.mouseleave('figure_leave', mouse_event_fn);\n",
       "\n",
       "    canvas_div.on(\"wheel\", function (event) {\n",
       "        event = event.originalEvent;\n",
       "        event['data'] = 'scroll'\n",
       "        if (event.deltaY < 0) {\n",
       "            event.step = 1;\n",
       "        } else {\n",
       "            event.step = -1;\n",
       "        }\n",
       "        mouse_event_fn(event);\n",
       "    });\n",
       "\n",
       "    canvas_div.append(canvas);\n",
       "    canvas_div.append(rubberband);\n",
       "\n",
       "    this.rubberband = rubberband;\n",
       "    this.rubberband_canvas = rubberband[0];\n",
       "    this.rubberband_context = rubberband[0].getContext(\"2d\");\n",
       "    this.rubberband_context.strokeStyle = \"#000000\";\n",
       "\n",
       "    this._resize_canvas = function(width, height) {\n",
       "        // Keep the size of the canvas, canvas container, and rubber band\n",
       "        // canvas in synch.\n",
       "        canvas_div.css('width', width)\n",
       "        canvas_div.css('height', height)\n",
       "\n",
       "        canvas.attr('width', width * mpl.ratio);\n",
       "        canvas.attr('height', height * mpl.ratio);\n",
       "        canvas.attr('style', 'width: ' + width + 'px; height: ' + height + 'px;');\n",
       "\n",
       "        rubberband.attr('width', width);\n",
       "        rubberband.attr('height', height);\n",
       "    }\n",
       "\n",
       "    // Set the figure to an initial 600x600px, this will subsequently be updated\n",
       "    // upon first draw.\n",
       "    this._resize_canvas(600, 600);\n",
       "\n",
       "    // Disable right mouse context menu.\n",
       "    $(this.rubberband_canvas).bind(\"contextmenu\",function(e){\n",
       "        return false;\n",
       "    });\n",
       "\n",
       "    function set_focus () {\n",
       "        canvas.focus();\n",
       "        canvas_div.focus();\n",
       "    }\n",
       "\n",
       "    window.setTimeout(set_focus, 100);\n",
       "}\n",
       "\n",
       "mpl.figure.prototype._init_toolbar = function() {\n",
       "    var fig = this;\n",
       "\n",
       "    var nav_element = $('<div/>');\n",
       "    nav_element.attr('style', 'width: 100%');\n",
       "    this.root.append(nav_element);\n",
       "\n",
       "    // Define a callback function for later on.\n",
       "    function toolbar_event(event) {\n",
       "        return fig.toolbar_button_onclick(event['data']);\n",
       "    }\n",
       "    function toolbar_mouse_event(event) {\n",
       "        return fig.toolbar_button_onmouseover(event['data']);\n",
       "    }\n",
       "\n",
       "    for(var toolbar_ind in mpl.toolbar_items) {\n",
       "        var name = mpl.toolbar_items[toolbar_ind][0];\n",
       "        var tooltip = mpl.toolbar_items[toolbar_ind][1];\n",
       "        var image = mpl.toolbar_items[toolbar_ind][2];\n",
       "        var method_name = mpl.toolbar_items[toolbar_ind][3];\n",
       "\n",
       "        if (!name) {\n",
       "            // put a spacer in here.\n",
       "            continue;\n",
       "        }\n",
       "        var button = $('<button/>');\n",
       "        button.addClass('ui-button ui-widget ui-state-default ui-corner-all ' +\n",
       "                        'ui-button-icon-only');\n",
       "        button.attr('role', 'button');\n",
       "        button.attr('aria-disabled', 'false');\n",
       "        button.click(method_name, toolbar_event);\n",
       "        button.mouseover(tooltip, toolbar_mouse_event);\n",
       "\n",
       "        var icon_img = $('<span/>');\n",
       "        icon_img.addClass('ui-button-icon-primary ui-icon');\n",
       "        icon_img.addClass(image);\n",
       "        icon_img.addClass('ui-corner-all');\n",
       "\n",
       "        var tooltip_span = $('<span/>');\n",
       "        tooltip_span.addClass('ui-button-text');\n",
       "        tooltip_span.html(tooltip);\n",
       "\n",
       "        button.append(icon_img);\n",
       "        button.append(tooltip_span);\n",
       "\n",
       "        nav_element.append(button);\n",
       "    }\n",
       "\n",
       "    var fmt_picker_span = $('<span/>');\n",
       "\n",
       "    var fmt_picker = $('<select/>');\n",
       "    fmt_picker.addClass('mpl-toolbar-option ui-widget ui-widget-content');\n",
       "    fmt_picker_span.append(fmt_picker);\n",
       "    nav_element.append(fmt_picker_span);\n",
       "    this.format_dropdown = fmt_picker[0];\n",
       "\n",
       "    for (var ind in mpl.extensions) {\n",
       "        var fmt = mpl.extensions[ind];\n",
       "        var option = $(\n",
       "            '<option/>', {selected: fmt === mpl.default_extension}).html(fmt);\n",
       "        fmt_picker.append(option);\n",
       "    }\n",
       "\n",
       "    // Add hover states to the ui-buttons\n",
       "    $( \".ui-button\" ).hover(\n",
       "        function() { $(this).addClass(\"ui-state-hover\");},\n",
       "        function() { $(this).removeClass(\"ui-state-hover\");}\n",
       "    );\n",
       "\n",
       "    var status_bar = $('<span class=\"mpl-message\"/>');\n",
       "    nav_element.append(status_bar);\n",
       "    this.message = status_bar[0];\n",
       "}\n",
       "\n",
       "mpl.figure.prototype.request_resize = function(x_pixels, y_pixels) {\n",
       "    // Request matplotlib to resize the figure. Matplotlib will then trigger a resize in the client,\n",
       "    // which will in turn request a refresh of the image.\n",
       "    this.send_message('resize', {'width': x_pixels, 'height': y_pixels});\n",
       "}\n",
       "\n",
       "mpl.figure.prototype.send_message = function(type, properties) {\n",
       "    properties['type'] = type;\n",
       "    properties['figure_id'] = this.id;\n",
       "    this.ws.send(JSON.stringify(properties));\n",
       "}\n",
       "\n",
       "mpl.figure.prototype.send_draw_message = function() {\n",
       "    if (!this.waiting) {\n",
       "        this.waiting = true;\n",
       "        this.ws.send(JSON.stringify({type: \"draw\", figure_id: this.id}));\n",
       "    }\n",
       "}\n",
       "\n",
       "\n",
       "mpl.figure.prototype.handle_save = function(fig, msg) {\n",
       "    var format_dropdown = fig.format_dropdown;\n",
       "    var format = format_dropdown.options[format_dropdown.selectedIndex].value;\n",
       "    fig.ondownload(fig, format);\n",
       "}\n",
       "\n",
       "\n",
       "mpl.figure.prototype.handle_resize = function(fig, msg) {\n",
       "    var size = msg['size'];\n",
       "    if (size[0] != fig.canvas.width || size[1] != fig.canvas.height) {\n",
       "        fig._resize_canvas(size[0], size[1]);\n",
       "        fig.send_message(\"refresh\", {});\n",
       "    };\n",
       "}\n",
       "\n",
       "mpl.figure.prototype.handle_rubberband = function(fig, msg) {\n",
       "    var x0 = msg['x0'] / mpl.ratio;\n",
       "    var y0 = (fig.canvas.height - msg['y0']) / mpl.ratio;\n",
       "    var x1 = msg['x1'] / mpl.ratio;\n",
       "    var y1 = (fig.canvas.height - msg['y1']) / mpl.ratio;\n",
       "    x0 = Math.floor(x0) + 0.5;\n",
       "    y0 = Math.floor(y0) + 0.5;\n",
       "    x1 = Math.floor(x1) + 0.5;\n",
       "    y1 = Math.floor(y1) + 0.5;\n",
       "    var min_x = Math.min(x0, x1);\n",
       "    var min_y = Math.min(y0, y1);\n",
       "    var width = Math.abs(x1 - x0);\n",
       "    var height = Math.abs(y1 - y0);\n",
       "\n",
       "    fig.rubberband_context.clearRect(\n",
       "        0, 0, fig.canvas.width / mpl.ratio, fig.canvas.height / mpl.ratio);\n",
       "\n",
       "    fig.rubberband_context.strokeRect(min_x, min_y, width, height);\n",
       "}\n",
       "\n",
       "mpl.figure.prototype.handle_figure_label = function(fig, msg) {\n",
       "    // Updates the figure title.\n",
       "    fig.header.textContent = msg['label'];\n",
       "}\n",
       "\n",
       "mpl.figure.prototype.handle_cursor = function(fig, msg) {\n",
       "    var cursor = msg['cursor'];\n",
       "    switch(cursor)\n",
       "    {\n",
       "    case 0:\n",
       "        cursor = 'pointer';\n",
       "        break;\n",
       "    case 1:\n",
       "        cursor = 'default';\n",
       "        break;\n",
       "    case 2:\n",
       "        cursor = 'crosshair';\n",
       "        break;\n",
       "    case 3:\n",
       "        cursor = 'move';\n",
       "        break;\n",
       "    }\n",
       "    fig.rubberband_canvas.style.cursor = cursor;\n",
       "}\n",
       "\n",
       "mpl.figure.prototype.handle_message = function(fig, msg) {\n",
       "    fig.message.textContent = msg['message'];\n",
       "}\n",
       "\n",
       "mpl.figure.prototype.handle_draw = function(fig, msg) {\n",
       "    // Request the server to send over a new figure.\n",
       "    fig.send_draw_message();\n",
       "}\n",
       "\n",
       "mpl.figure.prototype.handle_image_mode = function(fig, msg) {\n",
       "    fig.image_mode = msg['mode'];\n",
       "}\n",
       "\n",
       "mpl.figure.prototype.updated_canvas_event = function() {\n",
       "    // Called whenever the canvas gets updated.\n",
       "    this.send_message(\"ack\", {});\n",
       "}\n",
       "\n",
       "// A function to construct a web socket function for onmessage handling.\n",
       "// Called in the figure constructor.\n",
       "mpl.figure.prototype._make_on_message_function = function(fig) {\n",
       "    return function socket_on_message(evt) {\n",
       "        if (evt.data instanceof Blob) {\n",
       "            /* FIXME: We get \"Resource interpreted as Image but\n",
       "             * transferred with MIME type text/plain:\" errors on\n",
       "             * Chrome.  But how to set the MIME type?  It doesn't seem\n",
       "             * to be part of the websocket stream */\n",
       "            evt.data.type = \"image/png\";\n",
       "\n",
       "            /* Free the memory for the previous frames */\n",
       "            if (fig.imageObj.src) {\n",
       "                (window.URL || window.webkitURL).revokeObjectURL(\n",
       "                    fig.imageObj.src);\n",
       "            }\n",
       "\n",
       "            fig.imageObj.src = (window.URL || window.webkitURL).createObjectURL(\n",
       "                evt.data);\n",
       "            fig.updated_canvas_event();\n",
       "            fig.waiting = false;\n",
       "            return;\n",
       "        }\n",
       "        else if (typeof evt.data === 'string' && evt.data.slice(0, 21) == \"data:image/png;base64\") {\n",
       "            fig.imageObj.src = evt.data;\n",
       "            fig.updated_canvas_event();\n",
       "            fig.waiting = false;\n",
       "            return;\n",
       "        }\n",
       "\n",
       "        var msg = JSON.parse(evt.data);\n",
       "        var msg_type = msg['type'];\n",
       "\n",
       "        // Call the  \"handle_{type}\" callback, which takes\n",
       "        // the figure and JSON message as its only arguments.\n",
       "        try {\n",
       "            var callback = fig[\"handle_\" + msg_type];\n",
       "        } catch (e) {\n",
       "            console.log(\"No handler for the '\" + msg_type + \"' message type: \", msg);\n",
       "            return;\n",
       "        }\n",
       "\n",
       "        if (callback) {\n",
       "            try {\n",
       "                // console.log(\"Handling '\" + msg_type + \"' message: \", msg);\n",
       "                callback(fig, msg);\n",
       "            } catch (e) {\n",
       "                console.log(\"Exception inside the 'handler_\" + msg_type + \"' callback:\", e, e.stack, msg);\n",
       "            }\n",
       "        }\n",
       "    };\n",
       "}\n",
       "\n",
       "// from http://stackoverflow.com/questions/1114465/getting-mouse-location-in-canvas\n",
       "mpl.findpos = function(e) {\n",
       "    //this section is from http://www.quirksmode.org/js/events_properties.html\n",
       "    var targ;\n",
       "    if (!e)\n",
       "        e = window.event;\n",
       "    if (e.target)\n",
       "        targ = e.target;\n",
       "    else if (e.srcElement)\n",
       "        targ = e.srcElement;\n",
       "    if (targ.nodeType == 3) // defeat Safari bug\n",
       "        targ = targ.parentNode;\n",
       "\n",
       "    // jQuery normalizes the pageX and pageY\n",
       "    // pageX,Y are the mouse positions relative to the document\n",
       "    // offset() returns the position of the element relative to the document\n",
       "    var x = e.pageX - $(targ).offset().left;\n",
       "    var y = e.pageY - $(targ).offset().top;\n",
       "\n",
       "    return {\"x\": x, \"y\": y};\n",
       "};\n",
       "\n",
       "/*\n",
       " * return a copy of an object with only non-object keys\n",
       " * we need this to avoid circular references\n",
       " * http://stackoverflow.com/a/24161582/3208463\n",
       " */\n",
       "function simpleKeys (original) {\n",
       "  return Object.keys(original).reduce(function (obj, key) {\n",
       "    if (typeof original[key] !== 'object')\n",
       "        obj[key] = original[key]\n",
       "    return obj;\n",
       "  }, {});\n",
       "}\n",
       "\n",
       "mpl.figure.prototype.mouse_event = function(event, name) {\n",
       "    var canvas_pos = mpl.findpos(event)\n",
       "\n",
       "    if (name === 'button_press')\n",
       "    {\n",
       "        this.canvas.focus();\n",
       "        this.canvas_div.focus();\n",
       "    }\n",
       "\n",
       "    var x = canvas_pos.x * mpl.ratio;\n",
       "    var y = canvas_pos.y * mpl.ratio;\n",
       "\n",
       "    this.send_message(name, {x: x, y: y, button: event.button,\n",
       "                             step: event.step,\n",
       "                             guiEvent: simpleKeys(event)});\n",
       "\n",
       "    /* This prevents the web browser from automatically changing to\n",
       "     * the text insertion cursor when the button is pressed.  We want\n",
       "     * to control all of the cursor setting manually through the\n",
       "     * 'cursor' event from matplotlib */\n",
       "    event.preventDefault();\n",
       "    return false;\n",
       "}\n",
       "\n",
       "mpl.figure.prototype._key_event_extra = function(event, name) {\n",
       "    // Handle any extra behaviour associated with a key event\n",
       "}\n",
       "\n",
       "mpl.figure.prototype.key_event = function(event, name) {\n",
       "\n",
       "    // Prevent repeat events\n",
       "    if (name == 'key_press')\n",
       "    {\n",
       "        if (event.which === this._key)\n",
       "            return;\n",
       "        else\n",
       "            this._key = event.which;\n",
       "    }\n",
       "    if (name == 'key_release')\n",
       "        this._key = null;\n",
       "\n",
       "    var value = '';\n",
       "    if (event.ctrlKey && event.which != 17)\n",
       "        value += \"ctrl+\";\n",
       "    if (event.altKey && event.which != 18)\n",
       "        value += \"alt+\";\n",
       "    if (event.shiftKey && event.which != 16)\n",
       "        value += \"shift+\";\n",
       "\n",
       "    value += 'k';\n",
       "    value += event.which.toString();\n",
       "\n",
       "    this._key_event_extra(event, name);\n",
       "\n",
       "    this.send_message(name, {key: value,\n",
       "                             guiEvent: simpleKeys(event)});\n",
       "    return false;\n",
       "}\n",
       "\n",
       "mpl.figure.prototype.toolbar_button_onclick = function(name) {\n",
       "    if (name == 'download') {\n",
       "        this.handle_save(this, null);\n",
       "    } else {\n",
       "        this.send_message(\"toolbar_button\", {name: name});\n",
       "    }\n",
       "};\n",
       "\n",
       "mpl.figure.prototype.toolbar_button_onmouseover = function(tooltip) {\n",
       "    this.message.textContent = tooltip;\n",
       "};\n",
       "mpl.toolbar_items = [[\"Home\", \"Reset original view\", \"fa fa-home icon-home\", \"home\"], [\"Back\", \"Back to previous view\", \"fa fa-arrow-left icon-arrow-left\", \"back\"], [\"Forward\", \"Forward to next view\", \"fa fa-arrow-right icon-arrow-right\", \"forward\"], [\"\", \"\", \"\", \"\"], [\"Pan\", \"Pan axes with left mouse, zoom with right\", \"fa fa-arrows icon-move\", \"pan\"], [\"Zoom\", \"Zoom to rectangle\", \"fa fa-square-o icon-check-empty\", \"zoom\"], [\"\", \"\", \"\", \"\"], [\"Download\", \"Download plot\", \"fa fa-floppy-o icon-save\", \"download\"]];\n",
       "\n",
       "mpl.extensions = [\"eps\", \"jpeg\", \"pdf\", \"png\", \"ps\", \"raw\", \"svg\", \"tif\"];\n",
       "\n",
       "mpl.default_extension = \"png\";var comm_websocket_adapter = function(comm) {\n",
       "    // Create a \"websocket\"-like object which calls the given IPython comm\n",
       "    // object with the appropriate methods. Currently this is a non binary\n",
       "    // socket, so there is still some room for performance tuning.\n",
       "    var ws = {};\n",
       "\n",
       "    ws.close = function() {\n",
       "        comm.close()\n",
       "    };\n",
       "    ws.send = function(m) {\n",
       "        //console.log('sending', m);\n",
       "        comm.send(m);\n",
       "    };\n",
       "    // Register the callback with on_msg.\n",
       "    comm.on_msg(function(msg) {\n",
       "        //console.log('receiving', msg['content']['data'], msg);\n",
       "        // Pass the mpl event to the overridden (by mpl) onmessage function.\n",
       "        ws.onmessage(msg['content']['data'])\n",
       "    });\n",
       "    return ws;\n",
       "}\n",
       "\n",
       "mpl.mpl_figure_comm = function(comm, msg) {\n",
       "    // This is the function which gets called when the mpl process\n",
       "    // starts-up an IPython Comm through the \"matplotlib\" channel.\n",
       "\n",
       "    var id = msg.content.data.id;\n",
       "    // Get hold of the div created by the display call when the Comm\n",
       "    // socket was opened in Python.\n",
       "    var element = $(\"#\" + id);\n",
       "    var ws_proxy = comm_websocket_adapter(comm)\n",
       "\n",
       "    function ondownload(figure, format) {\n",
       "        window.open(figure.imageObj.src);\n",
       "    }\n",
       "\n",
       "    var fig = new mpl.figure(id, ws_proxy,\n",
       "                           ondownload,\n",
       "                           element.get(0));\n",
       "\n",
       "    // Call onopen now - mpl needs it, as it is assuming we've passed it a real\n",
       "    // web socket which is closed, not our websocket->open comm proxy.\n",
       "    ws_proxy.onopen();\n",
       "\n",
       "    fig.parent_element = element.get(0);\n",
       "    fig.cell_info = mpl.find_output_cell(\"<div id='\" + id + \"'></div>\");\n",
       "    if (!fig.cell_info) {\n",
       "        console.error(\"Failed to find cell for figure\", id, fig);\n",
       "        return;\n",
       "    }\n",
       "\n",
       "    var output_index = fig.cell_info[2]\n",
       "    var cell = fig.cell_info[0];\n",
       "\n",
       "};\n",
       "\n",
       "mpl.figure.prototype.handle_close = function(fig, msg) {\n",
       "    var width = fig.canvas.width/mpl.ratio\n",
       "    fig.root.unbind('remove')\n",
       "\n",
       "    // Update the output cell to use the data from the current canvas.\n",
       "    fig.push_to_output();\n",
       "    var dataURL = fig.canvas.toDataURL();\n",
       "    // Re-enable the keyboard manager in IPython - without this line, in FF,\n",
       "    // the notebook keyboard shortcuts fail.\n",
       "    IPython.keyboard_manager.enable()\n",
       "    $(fig.parent_element).html('<img src=\"' + dataURL + '\" width=\"' + width + '\">');\n",
       "    fig.close_ws(fig, msg);\n",
       "}\n",
       "\n",
       "mpl.figure.prototype.close_ws = function(fig, msg){\n",
       "    fig.send_message('closing', msg);\n",
       "    // fig.ws.close()\n",
       "}\n",
       "\n",
       "mpl.figure.prototype.push_to_output = function(remove_interactive) {\n",
       "    // Turn the data on the canvas into data in the output cell.\n",
       "    var width = this.canvas.width/mpl.ratio\n",
       "    var dataURL = this.canvas.toDataURL();\n",
       "    this.cell_info[1]['text/html'] = '<img src=\"' + dataURL + '\" width=\"' + width + '\">';\n",
       "}\n",
       "\n",
       "mpl.figure.prototype.updated_canvas_event = function() {\n",
       "    // Tell IPython that the notebook contents must change.\n",
       "    IPython.notebook.set_dirty(true);\n",
       "    this.send_message(\"ack\", {});\n",
       "    var fig = this;\n",
       "    // Wait a second, then push the new image to the DOM so\n",
       "    // that it is saved nicely (might be nice to debounce this).\n",
       "    setTimeout(function () { fig.push_to_output() }, 1000);\n",
       "}\n",
       "\n",
       "mpl.figure.prototype._init_toolbar = function() {\n",
       "    var fig = this;\n",
       "\n",
       "    var nav_element = $('<div/>');\n",
       "    nav_element.attr('style', 'width: 100%');\n",
       "    this.root.append(nav_element);\n",
       "\n",
       "    // Define a callback function for later on.\n",
       "    function toolbar_event(event) {\n",
       "        return fig.toolbar_button_onclick(event['data']);\n",
       "    }\n",
       "    function toolbar_mouse_event(event) {\n",
       "        return fig.toolbar_button_onmouseover(event['data']);\n",
       "    }\n",
       "\n",
       "    for(var toolbar_ind in mpl.toolbar_items){\n",
       "        var name = mpl.toolbar_items[toolbar_ind][0];\n",
       "        var tooltip = mpl.toolbar_items[toolbar_ind][1];\n",
       "        var image = mpl.toolbar_items[toolbar_ind][2];\n",
       "        var method_name = mpl.toolbar_items[toolbar_ind][3];\n",
       "\n",
       "        if (!name) { continue; };\n",
       "\n",
       "        var button = $('<button class=\"btn btn-default\" href=\"#\" title=\"' + name + '\"><i class=\"fa ' + image + ' fa-lg\"></i></button>');\n",
       "        button.click(method_name, toolbar_event);\n",
       "        button.mouseover(tooltip, toolbar_mouse_event);\n",
       "        nav_element.append(button);\n",
       "    }\n",
       "\n",
       "    // Add the status bar.\n",
       "    var status_bar = $('<span class=\"mpl-message\" style=\"text-align:right; float: right;\"/>');\n",
       "    nav_element.append(status_bar);\n",
       "    this.message = status_bar[0];\n",
       "\n",
       "    // Add the close button to the window.\n",
       "    var buttongrp = $('<div class=\"btn-group inline pull-right\"></div>');\n",
       "    var button = $('<button class=\"btn btn-mini btn-primary\" href=\"#\" title=\"Stop Interaction\"><i class=\"fa fa-power-off icon-remove icon-large\"></i></button>');\n",
       "    button.click(function (evt) { fig.handle_close(fig, {}); } );\n",
       "    button.mouseover('Stop Interaction', toolbar_mouse_event);\n",
       "    buttongrp.append(button);\n",
       "    var titlebar = this.root.find($('.ui-dialog-titlebar'));\n",
       "    titlebar.prepend(buttongrp);\n",
       "}\n",
       "\n",
       "mpl.figure.prototype._root_extra_style = function(el){\n",
       "    var fig = this\n",
       "    el.on(\"remove\", function(){\n",
       "\tfig.close_ws(fig, {});\n",
       "    });\n",
       "}\n",
       "\n",
       "mpl.figure.prototype._canvas_extra_style = function(el){\n",
       "    // this is important to make the div 'focusable\n",
       "    el.attr('tabindex', 0)\n",
       "    // reach out to IPython and tell the keyboard manager to turn it's self\n",
       "    // off when our div gets focus\n",
       "\n",
       "    // location in version 3\n",
       "    if (IPython.notebook.keyboard_manager) {\n",
       "        IPython.notebook.keyboard_manager.register_events(el);\n",
       "    }\n",
       "    else {\n",
       "        // location in version 2\n",
       "        IPython.keyboard_manager.register_events(el);\n",
       "    }\n",
       "\n",
       "}\n",
       "\n",
       "mpl.figure.prototype._key_event_extra = function(event, name) {\n",
       "    var manager = IPython.notebook.keyboard_manager;\n",
       "    if (!manager)\n",
       "        manager = IPython.keyboard_manager;\n",
       "\n",
       "    // Check for shift+enter\n",
       "    if (event.shiftKey && event.which == 13) {\n",
       "        this.canvas_div.blur();\n",
       "        // select the cell after this one\n",
       "        var index = IPython.notebook.find_cell_index(this.cell_info[0]);\n",
       "        IPython.notebook.select(index + 1);\n",
       "    }\n",
       "}\n",
       "\n",
       "mpl.figure.prototype.handle_save = function(fig, msg) {\n",
       "    fig.ondownload(fig, null);\n",
       "}\n",
       "\n",
       "\n",
       "mpl.find_output_cell = function(html_output) {\n",
       "    // Return the cell and output element which can be found *uniquely* in the notebook.\n",
       "    // Note - this is a bit hacky, but it is done because the \"notebook_saving.Notebook\"\n",
       "    // IPython event is triggered only after the cells have been serialised, which for\n",
       "    // our purposes (turning an active figure into a static one), is too late.\n",
       "    var cells = IPython.notebook.get_cells();\n",
       "    var ncells = cells.length;\n",
       "    for (var i=0; i<ncells; i++) {\n",
       "        var cell = cells[i];\n",
       "        if (cell.cell_type === 'code'){\n",
       "            for (var j=0; j<cell.output_area.outputs.length; j++) {\n",
       "                var data = cell.output_area.outputs[j];\n",
       "                if (data.data) {\n",
       "                    // IPython >= 3 moved mimebundle to data attribute of output\n",
       "                    data = data.data;\n",
       "                }\n",
       "                if (data['text/html'] == html_output) {\n",
       "                    return [cell, data, j];\n",
       "                }\n",
       "            }\n",
       "        }\n",
       "    }\n",
       "}\n",
       "\n",
       "// Register the function which deals with the matplotlib target/channel.\n",
       "// The kernel may be null if the page has been refreshed.\n",
       "if (IPython.notebook.kernel != null) {\n",
       "    IPython.notebook.kernel.comm_manager.register_target('matplotlib', mpl.mpl_figure_comm);\n",
       "}\n"
      ],
      "text/plain": [
       "<IPython.core.display.Javascript object>"
      ]
     },
     "metadata": {},
     "output_type": "display_data"
    },
    {
     "data": {
      "text/html": [
       "<img src=\"data:image/png;base64,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\" width=\"1000\">"
      ],
      "text/plain": [
       "<IPython.core.display.HTML object>"
      ]
     },
     "metadata": {},
     "output_type": "display_data"
    }
   ],
   "source": [
    "avgEff = 0.0\n",
    "avgFP = 0.0\n",
    "print('for model: ', model)   \n",
    "run_name = 'ACNN W Avg.'\n",
    "# Create an mlflow run\n",
    "with mlflow.start_run(run_name=run_name) as run:\n",
    "    # Log parameters of the model\n",
    "    for key, value in vars(args).items():\n",
    "        print(key, value)\n",
    "        mlflow.log_param(key, value)\n",
    "    \n",
    "    # Log parameter count in the model\n",
    "    mlflow.log_param('Parameters', count_parameters(model))\n",
    "    \n",
    "    # Begin run\n",
    "    for result in trainNet(model, optimizer, loss,\n",
    "                            train_loader, val_loader,\n",
    "                            args.epochs+args.epoch_start, epoch_start=args.epoch_start,\n",
    "                            notebook=True, device=device):\n",
    "\n",
    "        result = result._asdict()\n",
    "        results = results.append(pd.Series(result), ignore_index=True)\n",
    "    \n",
    "        xs = results.index\n",
    "    \n",
    "        # Update the plot above\n",
    "        lines['train'].set_data(results.index,results.cost)\n",
    "        lines['val'].set_data(results.index,results.val)\n",
    "    \n",
    "        #filter first cost epoch (can be really large)\n",
    "        max_cost = max(max(results.cost if len(results.cost)<2 else results.cost[1:]), max(results.val))\n",
    "        min_cost = min(min(results.cost), min(results.val))\n",
    "    \n",
    "        # The plot limits need updating too\n",
    "        ax.set_ylim(min_cost*.9, max_cost*1.1)  \n",
    "        ax.set_xlim(-.5, len(results.cost) - .5)\n",
    "    \n",
    "        replace_in_ax(lax, lines['eff'], xs, results['eff_val'].apply(lambda x: x.eff_rate))\n",
    "        replace_in_ax(tax, lines['fp'], xs, results['eff_val'].apply(lambda x: x.fp_rate))\n",
    "    \n",
    "        # Redraw the figure\n",
    "        fig.canvas.draw()\n",
    "            \n",
    "        ## MLFLOW ##\n",
    "        # Log metrics\n",
    "        mlflow.log_metric('Efficiency', result['eff_val'].eff_rate, result['epoch'])\n",
    "        mlflow.log_metric('False Positive Rate',  result['eff_val'].fp_rate, result['epoch'])\n",
    "        mlflow.log_metric('Validation Loss',  result['val'], result['epoch'])\n",
    "        mlflow.log_metric('Training Loss',  result['cost'], result['epoch'])\n",
    "        \n",
    "        print('Result epoch: ', result['epoch'])\n",
    "        if(result['epoch'] >= args.epochs + args.epoch_start - 10):\n",
    "            avgEff += result['eff_val'].eff_rate\n",
    "            avgFP += result['eff_val'].fp_rate\n",
    "           \n",
    "        if(result['epoch'] == args.epochs + args.epoch_start - 1):\n",
    "            print('Averaging...\\n')\n",
    "            avgEff /= 10\n",
    "            avgFP /= 10\n",
    "            mlflow.log_metric('10 Efficiency Average', avgEff)\n",
    "            mlflow.log_metric('10 False Positive Average', avgFP)\n",
    "            \n",
    "        print('Average Eff: ', avgEff)\n",
    "        print('Average FP Rate: ', avgFP)\n",
    "            \n",
    "        # Log tags\n",
    "#        mlflow.set_tag('Optimizer', 'Adam')\n",
    "#        mlflow.set_tag('Kernel size', 'Mixed')\n",
    "#        mlflow.set_tag('Skip connections', '4')\n",
    "#        mlflow.set_tag('Activation', 'Softplus')\n",
    "#        mlflow.set_tag('Mid Activation', 'Relu')\n",
    "        mlflow.set_tag('Asymmetry', '5.0')\n",
    "\n",
    "        # Save model state dictionary, optimizer state dictionary, and epoch number\n",
    "        torch.save({\n",
    "            'model':model.state_dict(),\n",
    "            'optimizer':optimizer.state_dict(),\n",
    "            'epoch':args.epochs+result['epoch']\n",
    "            }, 'run_stats.pyt')\n",
    "        # Save the run stats into mlflow\n",
    "        mlflow.log_artifact('run_stats.pyt')\n",
    "            \n",
    "        # Save a diagram of the architecture\n",
    "#        HL.transforms.Fold(\"Conv\", \"Conv\"),\n",
    "#        HL.build_graph(model, torch.zeros([args.batch_size, 1, 4000]).to(device)).save('architecture', format='png')\n",
    "#        mlflow.log_artifact('architecture.png')\n",
    "        \n",
    "        # log the code for the model architecture\n",
    "#        mlflow.log_artifact('architecture.txt')\n",
    "        \n",
    "    dual_train_plots(results.index,\n",
    "                 results.cost, results.val, \n",
    "                 results['eff_val'].apply(lambda x: x.eff_rate),\n",
    "                 results['eff_val'].apply(lambda x: x.fp_rate))\n",
    "    # save plot\n",
    "    plt.tight_layout()\n",
    "    plt.savefig('plot.png')\n",
    "    mlflow.log_artifact('plot.png')"
   ]
  },
  {
   "cell_type": "code",
   "execution_count": 13,
   "metadata": {},
   "outputs": [],
   "source": [
    "##quit()"
   ]
  }
 ],
 "metadata": {
  "kernelspec": {
   "display_name": "goofit-june2020",
   "language": "python",
   "name": "goofit-june2020"
  },
  "language_info": {
   "codemirror_mode": {
    "name": "ipython",
    "version": 3
   },
   "file_extension": ".py",
   "mimetype": "text/x-python",
   "name": "python",
   "nbconvert_exporter": "python",
   "pygments_lexer": "ipython3",
   "version": "3.7.6"
  }
 },
 "nbformat": 4,
 "nbformat_minor": 2
}
