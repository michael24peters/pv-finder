{
 "cells": [
  {
   "cell_type": "code",
   "execution_count": 1,
   "metadata": {},
   "outputs": [],
   "source": [
    "##%matplotlib widget\n",
    "## with %matplotlib notebook: seems to require ipympl as part of environment, either\n",
    "## part of the conda environment or \"pip install ipympl\"\n",
    "## otherwise, does not show ANY plots in notebook, plt.savefig() works\n",
    "%matplotlib notebook  \n",
    "##%matplotlib inline    ## --plt.savefig()  works, but re-sizing does NOT"
   ]
  },
  {
   "cell_type": "markdown",
   "metadata": {},
   "source": [
    "This notebook is a short demo to illustrate execution.   For odd historical reasons, it uses \"toy Monte Carlo\" (simulated data)for \"training\" and \"full LHCB MC\" for validation.\n",
    "\n",
    "The network architecture is a \"simple\" model that uses 1 input channel (the KDE [kernel density estimator] but from the track parameters) feeding 5 convolutional layers followed by a fully connected layer.\n",
    "\n",
    "In today's version, the network will start with weights from a previously trained version.\n",
    " "
   ]
  },
  {
   "cell_type": "markdown",
   "metadata": {},
   "source": [
    "Check the current GPU usage. Please try to be nice!"
   ]
  },
  {
   "cell_type": "code",
   "execution_count": 2,
   "metadata": {},
   "outputs": [
    {
     "name": "stdout",
     "output_type": "stream",
     "text": [
      "Tue Jul 14 10:37:00 2020       \r\n",
      "+-----------------------------------------------------------------------------+\r\n",
      "| NVIDIA-SMI 440.64.00    Driver Version: 440.64.00    CUDA Version: 10.2     |\r\n",
      "|-------------------------------+----------------------+----------------------+\r\n",
      "| GPU  Name        Persistence-M| Bus-Id        Disp.A | Volatile Uncorr. ECC |\r\n",
      "| Fan  Temp  Perf  Pwr:Usage/Cap|         Memory-Usage | GPU-Util  Compute M. |\r\n",
      "|===============================+======================+======================|\r\n",
      "|   0  TITAN V             Off  | 00000000:03:00.0 Off |                  N/A |\r\n",
      "| 21%   35C    P0    32W / 250W |      0MiB / 12066MiB |      0%      Default |\r\n",
      "+-------------------------------+----------------------+----------------------+\r\n",
      "|   1  Tesla P100-PCIE...  Off  | 00000000:83:00.0 Off |                    0 |\r\n",
      "| N/A   33C    P0    34W / 250W |      0MiB / 16280MiB |      0%      Default |\r\n",
      "+-------------------------------+----------------------+----------------------+\r\n",
      "|   2  TITAN V             Off  | 00000000:84:00.0 Off |                  N/A |\r\n",
      "| 25%   35C    P0    34W / 250W |      0MiB / 12066MiB |      0%      Default |\r\n",
      "+-------------------------------+----------------------+----------------------+\r\n",
      "                                                                               \r\n",
      "+-----------------------------------------------------------------------------+\r\n",
      "| Processes:                                                       GPU Memory |\r\n",
      "|  GPU       PID   Type   Process name                             Usage      |\r\n",
      "|=============================================================================|\r\n",
      "|  No running processes found                                                 |\r\n",
      "+-----------------------------------------------------------------------------+\r\n"
     ]
    }
   ],
   "source": [
    "!nvidia-smi"
   ]
  },
  {
   "cell_type": "markdown",
   "metadata": {},
   "source": [
    "> **WARNING**: The card numbers here are *not* the same as in CUDA. You have been warned."
   ]
  },
  {
   "cell_type": "markdown",
   "metadata": {},
   "source": [
    "## Imports"
   ]
  },
  {
   "cell_type": "code",
   "execution_count": 3,
   "metadata": {
    "scrolled": false
   },
   "outputs": [],
   "source": [
    "import matplotlib.pyplot as plt\n",
    "import numpy as np\n",
    "import time\n",
    "import torch\n",
    "import pandas as pd\n",
    "import mlflow\n",
    "\n",
    "# Python 3 standard library\n",
    "from pathlib import Path\n",
    "\n",
    "from torchsummary import summary\n",
    "\n",
    "'''\n",
    "HELPER FUNCTIONS\n",
    "'''\n",
    "# From model/collectdata.py\n",
    "from model.collectdata_mdsA import collect_data\n",
    "\n",
    "# From model/loss.py\n",
    "##from loss import Loss\n",
    "from model.alt_loss_A import Loss\n",
    "\n",
    "# From model/training.py\n",
    "from model.training import trainNet, select_gpu, Results\n",
    "\n",
    "# From model/models.py\n",
    "##  will start with model from TwoFeatures_CNN6Layer_A in the first instance\n",
    "##  see relevant cell below\n",
    "\n",
    "from model.models_mds_07July2020 import All_CNN6Layer_A as ModelA\n",
    "from model.models_mds_07July2020 import All_CNN6Layer_B as ModelB\n",
    "from model.models_mds_07July2020 import All_CNN6Layer_C as ModelC\n",
    "from model.models_mds_07July2020 import All_CNN6Layer_D as ModelD\n",
    "from model.models_mds_07July2020 import All_CNN6Layer_E as ModelE\n",
    "\n",
    "# From model/utilities.py\n",
    "from model.utilities import load_full_state, count_parameters, Params\n",
    "\n",
    "from model.plots import dual_train_plots, replace_in_ax\n",
    "\n",
    "## adds image of model architecture\n",
    "import hiddenlayer as HL"
   ]
  },
  {
   "cell_type": "markdown",
   "metadata": {},
   "source": [
    "Set up Torch device configuration. All tensors and model parameters need to know where to be put.\n",
    "This takes a BUS ID number: The BUS ID is the same as the listing at the top of this script."
   ]
  },
  {
   "cell_type": "code",
   "execution_count": 4,
   "metadata": {},
   "outputs": [
    {
     "name": "stdout",
     "output_type": "stream",
     "text": [
      "1 available GPUs (initially using device 0):\n",
      "  0 TITAN V\n"
     ]
    }
   ],
   "source": [
    "device = select_gpu(2)"
   ]
  },
  {
   "cell_type": "markdown",
   "metadata": {},
   "source": [
    "### Set up local parameters"
   ]
  },
  {
   "cell_type": "code",
   "execution_count": 5,
   "metadata": {},
   "outputs": [],
   "source": [
    "# params order - batch size, epochs, lr, epoch_start (which is usually set to 0)\n",
    "args = Params(128, 1000, 1e-3, 317)"
   ]
  },
  {
   "cell_type": "markdown",
   "metadata": {},
   "source": [
    "## Loading data\n",
    "\n",
    "Load the dataset, split into parts, then move to device (see `collectdata.py` in the `../model` directory)"
   ]
  },
  {
   "cell_type": "code",
   "execution_count": 6,
   "metadata": {
    "scrolled": true
   },
   "outputs": [
    {
     "name": "stdout",
     "output_type": "stream",
     "text": [
      "Loading data...\n",
      "Loaded /share/lazy/sokoloff/ML-data_A/Aug14_80K_train.h5 in 11.96 s\n",
      "Loaded /share/lazy/sokoloff/ML-data_AA/Oct03_80K_train.h5 in 11.58 s\n",
      "Constructing 160000 event dataset took 3.855 s\n",
      "Loading data...\n",
      "Loaded /share/lazy/sokoloff/ML-data_AA/Oct03_20K_val.h5 in 3.151 s\n",
      "Constructing 9984 event dataset took 0.1228 s\n"
     ]
    }
   ],
   "source": [
    "## newer vernacular\n",
    "## Training dataset. You can put as many files here as desired.\n",
    "\n",
    "## in this DEMO example we use only one 80K training set -- the model starts with well-trained weights,\n",
    "## and using a smaller training set reduces both the time to load the data and the time to train an epoch\n",
    "##  set the option load_XandXsq = True to use both DKE and KDE^2 as input features\n",
    "train_loader = collect_data('/share/lazy/sokoloff/ML-data_A/Aug14_80K_train.h5',\n",
    "                             '/share/lazy/sokoloff/ML-data_AA/Oct03_80K_train.h5',\n",
    "#                             '/share/lazy/sokoloff/ML-data_AA/Oct03_40K_train.h5',\n",
    "#                             '/share/lazy/will/ML_mdsA/June30_2020_80k_1.h5',\n",
    "#                             '/share/lazy/will/ML_mdsA/June30_2020_80k_3.h5',\n",
    "#                             '/share/lazy/will/ML_mdsA/June30_2020_80k_4.h5',\n",
    "#                             '/share/lazy/will/ML_mdsA/June30_2020_80k_5.h5',\n",
    "#                             '/share/lazy/will/ML_mdsA/June30_2020_80k_6.h5',\n",
    "#                             '/share/lazy/will/ML_mdsA/June30_2020_80k_7.h5',\n",
    "#                             '/share/lazy/will/ML_mdsA/June30_2020_80k_8.h5',\n",
    "#                             '/share/lazy/will/ML_mdsA/June30_2020_80k_9.h5',\n",
    "                            #'/share/lazy/sokoloff/ML-data_AA/Oct03_80K2_train.h5',\n",
    "                             batch_size=args.batch_size,\n",
    "## if we are using a larger dataset (240K events, with the datasets above, and 11 GB  of GPU memory),\n",
    "## not the dataset will overflow the GPU memory; device=device will allow the data to move back\n",
    "## and forth between the CPU and GPU memory. While this allows use of a larger dataset, it slows\n",
    "## down performance by about 10%.  So comment out when not needed.\n",
    "                            device=device,\n",
    "                            masking=True, shuffle=True,\n",
    "                            load_XandXsq=False,\n",
    "                            load_xy=False)\n",
    "\n",
    "# Validation dataset. You can slice to reduce the size.\n",
    "## dataAA -> /share/lazy/sokoloff/ML-data_AA/\n",
    "val_loader = collect_data('/share/lazy/sokoloff/ML-data_AA/Oct03_20K_val.h5',\n",
    "## mds val_loader = collect_data('dataAA/HLT1CPU_1kevts_val.h5',\n",
    "\n",
    "                          batch_size=args.batch_size,\n",
    "                          slice=slice(256 * 39),\n",
    "                          device=device,\n",
    "                          masking=True, shuffle=False,\n",
    "                          load_XandXsq=False,\n",
    "                          load_xy=False)"
   ]
  },
  {
   "cell_type": "markdown",
   "metadata": {},
   "source": [
    "# Preparing the model"
   ]
  },
  {
   "cell_type": "markdown",
   "metadata": {},
   "source": [
    "Prepare a model, use multiple GPUs if they are VISIBLE, and move the model to the device."
   ]
  },
  {
   "cell_type": "code",
   "execution_count": 7,
   "metadata": {
    "scrolled": true
   },
   "outputs": [
    {
     "name": "stderr",
     "output_type": "stream",
     "text": [
      "WARNING:root:Malformed experiment 'ML'. Detailed error Yaml file '/share/lazy/pv-finder_model_repo/ML/meta.yaml' does not exist.\n",
      "Traceback (most recent call last):\n",
      "  File \"/home/michael24peters/.local/lib/python3.7/site-packages/mlflow/store/tracking/file_store.py\", line 197, in list_experiments\n",
      "    experiment = self._get_experiment(exp_id, view_type)\n",
      "  File \"/home/michael24peters/.local/lib/python3.7/site-packages/mlflow/store/tracking/file_store.py\", line 260, in _get_experiment\n",
      "    meta = read_yaml(experiment_dir, FileStore.META_DATA_FILE_NAME)\n",
      "  File \"/home/michael24peters/.local/lib/python3.7/site-packages/mlflow/utils/file_utils.py\", line 167, in read_yaml\n",
      "    raise MissingConfigException(\"Yaml file '%s' does not exist.\" % file_path)\n",
      "mlflow.exceptions.MissingConfigException: Yaml file '/share/lazy/pv-finder_model_repo/ML/meta.yaml' does not exist.\n"
     ]
    }
   ],
   "source": [
    "model = ModelE()\n",
    "\n",
    "#summary(model.to(device), (1, 4000))\n",
    "\n",
    "mlflow.tracking.set_tracking_uri('file:/share/lazy/pv-finder_model_repo')\n",
    "mlflow.set_experiment('ALLCNN')"
   ]
  },
  {
   "cell_type": "code",
   "execution_count": 8,
   "metadata": {
    "scrolled": true
   },
   "outputs": [
    {
     "name": "stdout",
     "output_type": "stream",
     "text": [
      "Let's use 1 GPUs!\n"
     ]
    }
   ],
   "source": [
    "print(\"Let's use\", torch.cuda.device_count(), \"GPUs!\")\n",
    "if torch.cuda.device_count() > 1:\n",
    "    model = torch.nn.DataParallel(model)"
   ]
  },
  {
   "cell_type": "markdown",
   "metadata": {},
   "source": [
    "Let's move the model's weight matricies to the GPU:"
   ]
  },
  {
   "cell_type": "code",
   "execution_count": 9,
   "metadata": {},
   "outputs": [
    {
     "name": "stdout",
     "output_type": "stream",
     "text": [
      "we also froze 0 weights\n",
      "Of the 18.5 parameter layers to update in the current model, 18.5 were loaded\n"
     ]
    }
   ],
   "source": [
    "##  mds 200121 loss = Loss(epsilon=1e-5,coefficient=1.0)\n",
    "loss = Loss(epsilon=1e-5,coefficient=2.5)\n",
    "optimizer = torch.optim.Adam(model.parameters(), lr=args.lr)\n",
    "\n",
    "##  use the first five layers from a pre-existing model\n",
    "##  see example at https://discuss.pytorch.org/t/how-to-load-part-of-pre-trained-model/1113\n",
    "##   ML -> /share/lazy/sokoloff/ML\n",
    "\n",
    "#path = 'run_stats.pyt'\n",
    "#load_full_state(model, optimizer, path)\n",
    "# For other pretrained models, go to MLFlow and find the path for \"run_stats.pyt\"\n",
    "pretrained_dict = '/share/lazy/pv-finder_model_repo/7/0acd115227d54971a1005c866cc827db/artifacts/run_stats.pyt'\n",
    "load_full_state(model, optimizer, pretrained_dict)"
   ]
  },
  {
   "cell_type": "markdown",
   "metadata": {},
   "source": [
    "Let's move the model's weight matricies to the GPU:"
   ]
  },
  {
   "cell_type": "code",
   "execution_count": 10,
   "metadata": {
    "scrolled": true
   },
   "outputs": [
    {
     "data": {
      "text/plain": [
       "All_CNN6Layer_E(\n",
       "  (conv1): Conv1d(1, 16, kernel_size=(25,), stride=(1,), padding=(12,))\n",
       "  (conv2): Conv1d(16, 9, kernel_size=(15,), stride=(1,), padding=(7,))\n",
       "  (conv3a): Conv1d(25, 9, kernel_size=(15,), stride=(1,), padding=(7,))\n",
       "  (conv4): Conv1d(9, 9, kernel_size=(15,), stride=(1,), padding=(7,))\n",
       "  (conv5): Conv1d(9, 1, kernel_size=(5,), stride=(1,), padding=(2,))\n",
       "  (finalFilter): Conv1d(1, 1, kernel_size=(91,), stride=(1,), padding=(45,))\n",
       "  (conv1dropout): Dropout(p=0.15, inplace=False)\n",
       "  (conv2dropout): Dropout(p=0.15, inplace=False)\n",
       "  (conv3dropout): Dropout(p=0.15, inplace=False)\n",
       "  (conv4dropout): Dropout(p=0.15, inplace=False)\n",
       "  (conv5dropout): Dropout(p=0.15, inplace=False)\n",
       "  (bn1): BatchNorm1d(16, eps=1e-05, momentum=0.1, affine=True, track_running_stats=True)\n",
       "  (bn2): BatchNorm1d(9, eps=1e-05, momentum=0.1, affine=True, track_running_stats=True)\n",
       "  (bn3): BatchNorm1d(9, eps=1e-05, momentum=0.1, affine=True, track_running_stats=True)\n",
       "  (bn4): BatchNorm1d(9, eps=1e-05, momentum=0.1, affine=True, track_running_stats=True)\n",
       "  (bn5): BatchNorm1d(1, eps=1e-05, momentum=0.1, affine=True, track_running_stats=True)\n",
       ")"
      ]
     },
     "execution_count": 10,
     "metadata": {},
     "output_type": "execute_result"
    }
   ],
   "source": [
    "model.to(device)"
   ]
  },
  {
   "cell_type": "markdown",
   "metadata": {},
   "source": [
    "## Train \n",
    "\n",
    "\n",
    "\n",
    "The body of this loop runs once per epoch. Results is a named tuple of values (loss per epoch for training and validation, time each). Start by setting up a plot first:"
   ]
  },
  {
   "cell_type": "code",
   "execution_count": 11,
   "metadata": {},
   "outputs": [
    {
     "data": {
      "application/javascript": [
       "/* Put everything inside the global mpl namespace */\n",
       "window.mpl = {};\n",
       "\n",
       "\n",
       "mpl.get_websocket_type = function() {\n",
       "    if (typeof(WebSocket) !== 'undefined') {\n",
       "        return WebSocket;\n",
       "    } else if (typeof(MozWebSocket) !== 'undefined') {\n",
       "        return MozWebSocket;\n",
       "    } else {\n",
       "        alert('Your browser does not have WebSocket support. ' +\n",
       "              'Please try Chrome, Safari or Firefox ≥ 6. ' +\n",
       "              'Firefox 4 and 5 are also supported but you ' +\n",
       "              'have to enable WebSockets in about:config.');\n",
       "    };\n",
       "}\n",
       "\n",
       "mpl.figure = function(figure_id, websocket, ondownload, parent_element) {\n",
       "    this.id = figure_id;\n",
       "\n",
       "    this.ws = websocket;\n",
       "\n",
       "    this.supports_binary = (this.ws.binaryType != undefined);\n",
       "\n",
       "    if (!this.supports_binary) {\n",
       "        var warnings = document.getElementById(\"mpl-warnings\");\n",
       "        if (warnings) {\n",
       "            warnings.style.display = 'block';\n",
       "            warnings.textContent = (\n",
       "                \"This browser does not support binary websocket messages. \" +\n",
       "                    \"Performance may be slow.\");\n",
       "        }\n",
       "    }\n",
       "\n",
       "    this.imageObj = new Image();\n",
       "\n",
       "    this.context = undefined;\n",
       "    this.message = undefined;\n",
       "    this.canvas = undefined;\n",
       "    this.rubberband_canvas = undefined;\n",
       "    this.rubberband_context = undefined;\n",
       "    this.format_dropdown = undefined;\n",
       "\n",
       "    this.image_mode = 'full';\n",
       "\n",
       "    this.root = $('<div/>');\n",
       "    this._root_extra_style(this.root)\n",
       "    this.root.attr('style', 'display: inline-block');\n",
       "\n",
       "    $(parent_element).append(this.root);\n",
       "\n",
       "    this._init_header(this);\n",
       "    this._init_canvas(this);\n",
       "    this._init_toolbar(this);\n",
       "\n",
       "    var fig = this;\n",
       "\n",
       "    this.waiting = false;\n",
       "\n",
       "    this.ws.onopen =  function () {\n",
       "            fig.send_message(\"supports_binary\", {value: fig.supports_binary});\n",
       "            fig.send_message(\"send_image_mode\", {});\n",
       "            if (mpl.ratio != 1) {\n",
       "                fig.send_message(\"set_dpi_ratio\", {'dpi_ratio': mpl.ratio});\n",
       "            }\n",
       "            fig.send_message(\"refresh\", {});\n",
       "        }\n",
       "\n",
       "    this.imageObj.onload = function() {\n",
       "            if (fig.image_mode == 'full') {\n",
       "                // Full images could contain transparency (where diff images\n",
       "                // almost always do), so we need to clear the canvas so that\n",
       "                // there is no ghosting.\n",
       "                fig.context.clearRect(0, 0, fig.canvas.width, fig.canvas.height);\n",
       "            }\n",
       "            fig.context.drawImage(fig.imageObj, 0, 0);\n",
       "        };\n",
       "\n",
       "    this.imageObj.onunload = function() {\n",
       "        fig.ws.close();\n",
       "    }\n",
       "\n",
       "    this.ws.onmessage = this._make_on_message_function(this);\n",
       "\n",
       "    this.ondownload = ondownload;\n",
       "}\n",
       "\n",
       "mpl.figure.prototype._init_header = function() {\n",
       "    var titlebar = $(\n",
       "        '<div class=\"ui-dialog-titlebar ui-widget-header ui-corner-all ' +\n",
       "        'ui-helper-clearfix\"/>');\n",
       "    var titletext = $(\n",
       "        '<div class=\"ui-dialog-title\" style=\"width: 100%; ' +\n",
       "        'text-align: center; padding: 3px;\"/>');\n",
       "    titlebar.append(titletext)\n",
       "    this.root.append(titlebar);\n",
       "    this.header = titletext[0];\n",
       "}\n",
       "\n",
       "\n",
       "\n",
       "mpl.figure.prototype._canvas_extra_style = function(canvas_div) {\n",
       "\n",
       "}\n",
       "\n",
       "\n",
       "mpl.figure.prototype._root_extra_style = function(canvas_div) {\n",
       "\n",
       "}\n",
       "\n",
       "mpl.figure.prototype._init_canvas = function() {\n",
       "    var fig = this;\n",
       "\n",
       "    var canvas_div = $('<div/>');\n",
       "\n",
       "    canvas_div.attr('style', 'position: relative; clear: both; outline: 0');\n",
       "\n",
       "    function canvas_keyboard_event(event) {\n",
       "        return fig.key_event(event, event['data']);\n",
       "    }\n",
       "\n",
       "    canvas_div.keydown('key_press', canvas_keyboard_event);\n",
       "    canvas_div.keyup('key_release', canvas_keyboard_event);\n",
       "    this.canvas_div = canvas_div\n",
       "    this._canvas_extra_style(canvas_div)\n",
       "    this.root.append(canvas_div);\n",
       "\n",
       "    var canvas = $('<canvas/>');\n",
       "    canvas.addClass('mpl-canvas');\n",
       "    canvas.attr('style', \"left: 0; top: 0; z-index: 0; outline: 0\")\n",
       "\n",
       "    this.canvas = canvas[0];\n",
       "    this.context = canvas[0].getContext(\"2d\");\n",
       "\n",
       "    var backingStore = this.context.backingStorePixelRatio ||\n",
       "\tthis.context.webkitBackingStorePixelRatio ||\n",
       "\tthis.context.mozBackingStorePixelRatio ||\n",
       "\tthis.context.msBackingStorePixelRatio ||\n",
       "\tthis.context.oBackingStorePixelRatio ||\n",
       "\tthis.context.backingStorePixelRatio || 1;\n",
       "\n",
       "    mpl.ratio = (window.devicePixelRatio || 1) / backingStore;\n",
       "\n",
       "    var rubberband = $('<canvas/>');\n",
       "    rubberband.attr('style', \"position: absolute; left: 0; top: 0; z-index: 1;\")\n",
       "\n",
       "    var pass_mouse_events = true;\n",
       "\n",
       "    canvas_div.resizable({\n",
       "        start: function(event, ui) {\n",
       "            pass_mouse_events = false;\n",
       "        },\n",
       "        resize: function(event, ui) {\n",
       "            fig.request_resize(ui.size.width, ui.size.height);\n",
       "        },\n",
       "        stop: function(event, ui) {\n",
       "            pass_mouse_events = true;\n",
       "            fig.request_resize(ui.size.width, ui.size.height);\n",
       "        },\n",
       "    });\n",
       "\n",
       "    function mouse_event_fn(event) {\n",
       "        if (pass_mouse_events)\n",
       "            return fig.mouse_event(event, event['data']);\n",
       "    }\n",
       "\n",
       "    rubberband.mousedown('button_press', mouse_event_fn);\n",
       "    rubberband.mouseup('button_release', mouse_event_fn);\n",
       "    // Throttle sequential mouse events to 1 every 20ms.\n",
       "    rubberband.mousemove('motion_notify', mouse_event_fn);\n",
       "\n",
       "    rubberband.mouseenter('figure_enter', mouse_event_fn);\n",
       "    rubberband.mouseleave('figure_leave', mouse_event_fn);\n",
       "\n",
       "    canvas_div.on(\"wheel\", function (event) {\n",
       "        event = event.originalEvent;\n",
       "        event['data'] = 'scroll'\n",
       "        if (event.deltaY < 0) {\n",
       "            event.step = 1;\n",
       "        } else {\n",
       "            event.step = -1;\n",
       "        }\n",
       "        mouse_event_fn(event);\n",
       "    });\n",
       "\n",
       "    canvas_div.append(canvas);\n",
       "    canvas_div.append(rubberband);\n",
       "\n",
       "    this.rubberband = rubberband;\n",
       "    this.rubberband_canvas = rubberband[0];\n",
       "    this.rubberband_context = rubberband[0].getContext(\"2d\");\n",
       "    this.rubberband_context.strokeStyle = \"#000000\";\n",
       "\n",
       "    this._resize_canvas = function(width, height) {\n",
       "        // Keep the size of the canvas, canvas container, and rubber band\n",
       "        // canvas in synch.\n",
       "        canvas_div.css('width', width)\n",
       "        canvas_div.css('height', height)\n",
       "\n",
       "        canvas.attr('width', width * mpl.ratio);\n",
       "        canvas.attr('height', height * mpl.ratio);\n",
       "        canvas.attr('style', 'width: ' + width + 'px; height: ' + height + 'px;');\n",
       "\n",
       "        rubberband.attr('width', width);\n",
       "        rubberband.attr('height', height);\n",
       "    }\n",
       "\n",
       "    // Set the figure to an initial 600x600px, this will subsequently be updated\n",
       "    // upon first draw.\n",
       "    this._resize_canvas(600, 600);\n",
       "\n",
       "    // Disable right mouse context menu.\n",
       "    $(this.rubberband_canvas).bind(\"contextmenu\",function(e){\n",
       "        return false;\n",
       "    });\n",
       "\n",
       "    function set_focus () {\n",
       "        canvas.focus();\n",
       "        canvas_div.focus();\n",
       "    }\n",
       "\n",
       "    window.setTimeout(set_focus, 100);\n",
       "}\n",
       "\n",
       "mpl.figure.prototype._init_toolbar = function() {\n",
       "    var fig = this;\n",
       "\n",
       "    var nav_element = $('<div/>');\n",
       "    nav_element.attr('style', 'width: 100%');\n",
       "    this.root.append(nav_element);\n",
       "\n",
       "    // Define a callback function for later on.\n",
       "    function toolbar_event(event) {\n",
       "        return fig.toolbar_button_onclick(event['data']);\n",
       "    }\n",
       "    function toolbar_mouse_event(event) {\n",
       "        return fig.toolbar_button_onmouseover(event['data']);\n",
       "    }\n",
       "\n",
       "    for(var toolbar_ind in mpl.toolbar_items) {\n",
       "        var name = mpl.toolbar_items[toolbar_ind][0];\n",
       "        var tooltip = mpl.toolbar_items[toolbar_ind][1];\n",
       "        var image = mpl.toolbar_items[toolbar_ind][2];\n",
       "        var method_name = mpl.toolbar_items[toolbar_ind][3];\n",
       "\n",
       "        if (!name) {\n",
       "            // put a spacer in here.\n",
       "            continue;\n",
       "        }\n",
       "        var button = $('<button/>');\n",
       "        button.addClass('ui-button ui-widget ui-state-default ui-corner-all ' +\n",
       "                        'ui-button-icon-only');\n",
       "        button.attr('role', 'button');\n",
       "        button.attr('aria-disabled', 'false');\n",
       "        button.click(method_name, toolbar_event);\n",
       "        button.mouseover(tooltip, toolbar_mouse_event);\n",
       "\n",
       "        var icon_img = $('<span/>');\n",
       "        icon_img.addClass('ui-button-icon-primary ui-icon');\n",
       "        icon_img.addClass(image);\n",
       "        icon_img.addClass('ui-corner-all');\n",
       "\n",
       "        var tooltip_span = $('<span/>');\n",
       "        tooltip_span.addClass('ui-button-text');\n",
       "        tooltip_span.html(tooltip);\n",
       "\n",
       "        button.append(icon_img);\n",
       "        button.append(tooltip_span);\n",
       "\n",
       "        nav_element.append(button);\n",
       "    }\n",
       "\n",
       "    var fmt_picker_span = $('<span/>');\n",
       "\n",
       "    var fmt_picker = $('<select/>');\n",
       "    fmt_picker.addClass('mpl-toolbar-option ui-widget ui-widget-content');\n",
       "    fmt_picker_span.append(fmt_picker);\n",
       "    nav_element.append(fmt_picker_span);\n",
       "    this.format_dropdown = fmt_picker[0];\n",
       "\n",
       "    for (var ind in mpl.extensions) {\n",
       "        var fmt = mpl.extensions[ind];\n",
       "        var option = $(\n",
       "            '<option/>', {selected: fmt === mpl.default_extension}).html(fmt);\n",
       "        fmt_picker.append(option);\n",
       "    }\n",
       "\n",
       "    // Add hover states to the ui-buttons\n",
       "    $( \".ui-button\" ).hover(\n",
       "        function() { $(this).addClass(\"ui-state-hover\");},\n",
       "        function() { $(this).removeClass(\"ui-state-hover\");}\n",
       "    );\n",
       "\n",
       "    var status_bar = $('<span class=\"mpl-message\"/>');\n",
       "    nav_element.append(status_bar);\n",
       "    this.message = status_bar[0];\n",
       "}\n",
       "\n",
       "mpl.figure.prototype.request_resize = function(x_pixels, y_pixels) {\n",
       "    // Request matplotlib to resize the figure. Matplotlib will then trigger a resize in the client,\n",
       "    // which will in turn request a refresh of the image.\n",
       "    this.send_message('resize', {'width': x_pixels, 'height': y_pixels});\n",
       "}\n",
       "\n",
       "mpl.figure.prototype.send_message = function(type, properties) {\n",
       "    properties['type'] = type;\n",
       "    properties['figure_id'] = this.id;\n",
       "    this.ws.send(JSON.stringify(properties));\n",
       "}\n",
       "\n",
       "mpl.figure.prototype.send_draw_message = function() {\n",
       "    if (!this.waiting) {\n",
       "        this.waiting = true;\n",
       "        this.ws.send(JSON.stringify({type: \"draw\", figure_id: this.id}));\n",
       "    }\n",
       "}\n",
       "\n",
       "\n",
       "mpl.figure.prototype.handle_save = function(fig, msg) {\n",
       "    var format_dropdown = fig.format_dropdown;\n",
       "    var format = format_dropdown.options[format_dropdown.selectedIndex].value;\n",
       "    fig.ondownload(fig, format);\n",
       "}\n",
       "\n",
       "\n",
       "mpl.figure.prototype.handle_resize = function(fig, msg) {\n",
       "    var size = msg['size'];\n",
       "    if (size[0] != fig.canvas.width || size[1] != fig.canvas.height) {\n",
       "        fig._resize_canvas(size[0], size[1]);\n",
       "        fig.send_message(\"refresh\", {});\n",
       "    };\n",
       "}\n",
       "\n",
       "mpl.figure.prototype.handle_rubberband = function(fig, msg) {\n",
       "    var x0 = msg['x0'] / mpl.ratio;\n",
       "    var y0 = (fig.canvas.height - msg['y0']) / mpl.ratio;\n",
       "    var x1 = msg['x1'] / mpl.ratio;\n",
       "    var y1 = (fig.canvas.height - msg['y1']) / mpl.ratio;\n",
       "    x0 = Math.floor(x0) + 0.5;\n",
       "    y0 = Math.floor(y0) + 0.5;\n",
       "    x1 = Math.floor(x1) + 0.5;\n",
       "    y1 = Math.floor(y1) + 0.5;\n",
       "    var min_x = Math.min(x0, x1);\n",
       "    var min_y = Math.min(y0, y1);\n",
       "    var width = Math.abs(x1 - x0);\n",
       "    var height = Math.abs(y1 - y0);\n",
       "\n",
       "    fig.rubberband_context.clearRect(\n",
       "        0, 0, fig.canvas.width / mpl.ratio, fig.canvas.height / mpl.ratio);\n",
       "\n",
       "    fig.rubberband_context.strokeRect(min_x, min_y, width, height);\n",
       "}\n",
       "\n",
       "mpl.figure.prototype.handle_figure_label = function(fig, msg) {\n",
       "    // Updates the figure title.\n",
       "    fig.header.textContent = msg['label'];\n",
       "}\n",
       "\n",
       "mpl.figure.prototype.handle_cursor = function(fig, msg) {\n",
       "    var cursor = msg['cursor'];\n",
       "    switch(cursor)\n",
       "    {\n",
       "    case 0:\n",
       "        cursor = 'pointer';\n",
       "        break;\n",
       "    case 1:\n",
       "        cursor = 'default';\n",
       "        break;\n",
       "    case 2:\n",
       "        cursor = 'crosshair';\n",
       "        break;\n",
       "    case 3:\n",
       "        cursor = 'move';\n",
       "        break;\n",
       "    }\n",
       "    fig.rubberband_canvas.style.cursor = cursor;\n",
       "}\n",
       "\n",
       "mpl.figure.prototype.handle_message = function(fig, msg) {\n",
       "    fig.message.textContent = msg['message'];\n",
       "}\n",
       "\n",
       "mpl.figure.prototype.handle_draw = function(fig, msg) {\n",
       "    // Request the server to send over a new figure.\n",
       "    fig.send_draw_message();\n",
       "}\n",
       "\n",
       "mpl.figure.prototype.handle_image_mode = function(fig, msg) {\n",
       "    fig.image_mode = msg['mode'];\n",
       "}\n",
       "\n",
       "mpl.figure.prototype.updated_canvas_event = function() {\n",
       "    // Called whenever the canvas gets updated.\n",
       "    this.send_message(\"ack\", {});\n",
       "}\n",
       "\n",
       "// A function to construct a web socket function for onmessage handling.\n",
       "// Called in the figure constructor.\n",
       "mpl.figure.prototype._make_on_message_function = function(fig) {\n",
       "    return function socket_on_message(evt) {\n",
       "        if (evt.data instanceof Blob) {\n",
       "            /* FIXME: We get \"Resource interpreted as Image but\n",
       "             * transferred with MIME type text/plain:\" errors on\n",
       "             * Chrome.  But how to set the MIME type?  It doesn't seem\n",
       "             * to be part of the websocket stream */\n",
       "            evt.data.type = \"image/png\";\n",
       "\n",
       "            /* Free the memory for the previous frames */\n",
       "            if (fig.imageObj.src) {\n",
       "                (window.URL || window.webkitURL).revokeObjectURL(\n",
       "                    fig.imageObj.src);\n",
       "            }\n",
       "\n",
       "            fig.imageObj.src = (window.URL || window.webkitURL).createObjectURL(\n",
       "                evt.data);\n",
       "            fig.updated_canvas_event();\n",
       "            fig.waiting = false;\n",
       "            return;\n",
       "        }\n",
       "        else if (typeof evt.data === 'string' && evt.data.slice(0, 21) == \"data:image/png;base64\") {\n",
       "            fig.imageObj.src = evt.data;\n",
       "            fig.updated_canvas_event();\n",
       "            fig.waiting = false;\n",
       "            return;\n",
       "        }\n",
       "\n",
       "        var msg = JSON.parse(evt.data);\n",
       "        var msg_type = msg['type'];\n",
       "\n",
       "        // Call the  \"handle_{type}\" callback, which takes\n",
       "        // the figure and JSON message as its only arguments.\n",
       "        try {\n",
       "            var callback = fig[\"handle_\" + msg_type];\n",
       "        } catch (e) {\n",
       "            console.log(\"No handler for the '\" + msg_type + \"' message type: \", msg);\n",
       "            return;\n",
       "        }\n",
       "\n",
       "        if (callback) {\n",
       "            try {\n",
       "                // console.log(\"Handling '\" + msg_type + \"' message: \", msg);\n",
       "                callback(fig, msg);\n",
       "            } catch (e) {\n",
       "                console.log(\"Exception inside the 'handler_\" + msg_type + \"' callback:\", e, e.stack, msg);\n",
       "            }\n",
       "        }\n",
       "    };\n",
       "}\n",
       "\n",
       "// from http://stackoverflow.com/questions/1114465/getting-mouse-location-in-canvas\n",
       "mpl.findpos = function(e) {\n",
       "    //this section is from http://www.quirksmode.org/js/events_properties.html\n",
       "    var targ;\n",
       "    if (!e)\n",
       "        e = window.event;\n",
       "    if (e.target)\n",
       "        targ = e.target;\n",
       "    else if (e.srcElement)\n",
       "        targ = e.srcElement;\n",
       "    if (targ.nodeType == 3) // defeat Safari bug\n",
       "        targ = targ.parentNode;\n",
       "\n",
       "    // jQuery normalizes the pageX and pageY\n",
       "    // pageX,Y are the mouse positions relative to the document\n",
       "    // offset() returns the position of the element relative to the document\n",
       "    var x = e.pageX - $(targ).offset().left;\n",
       "    var y = e.pageY - $(targ).offset().top;\n",
       "\n",
       "    return {\"x\": x, \"y\": y};\n",
       "};\n",
       "\n",
       "/*\n",
       " * return a copy of an object with only non-object keys\n",
       " * we need this to avoid circular references\n",
       " * http://stackoverflow.com/a/24161582/3208463\n",
       " */\n",
       "function simpleKeys (original) {\n",
       "  return Object.keys(original).reduce(function (obj, key) {\n",
       "    if (typeof original[key] !== 'object')\n",
       "        obj[key] = original[key]\n",
       "    return obj;\n",
       "  }, {});\n",
       "}\n",
       "\n",
       "mpl.figure.prototype.mouse_event = function(event, name) {\n",
       "    var canvas_pos = mpl.findpos(event)\n",
       "\n",
       "    if (name === 'button_press')\n",
       "    {\n",
       "        this.canvas.focus();\n",
       "        this.canvas_div.focus();\n",
       "    }\n",
       "\n",
       "    var x = canvas_pos.x * mpl.ratio;\n",
       "    var y = canvas_pos.y * mpl.ratio;\n",
       "\n",
       "    this.send_message(name, {x: x, y: y, button: event.button,\n",
       "                             step: event.step,\n",
       "                             guiEvent: simpleKeys(event)});\n",
       "\n",
       "    /* This prevents the web browser from automatically changing to\n",
       "     * the text insertion cursor when the button is pressed.  We want\n",
       "     * to control all of the cursor setting manually through the\n",
       "     * 'cursor' event from matplotlib */\n",
       "    event.preventDefault();\n",
       "    return false;\n",
       "}\n",
       "\n",
       "mpl.figure.prototype._key_event_extra = function(event, name) {\n",
       "    // Handle any extra behaviour associated with a key event\n",
       "}\n",
       "\n",
       "mpl.figure.prototype.key_event = function(event, name) {\n",
       "\n",
       "    // Prevent repeat events\n",
       "    if (name == 'key_press')\n",
       "    {\n",
       "        if (event.which === this._key)\n",
       "            return;\n",
       "        else\n",
       "            this._key = event.which;\n",
       "    }\n",
       "    if (name == 'key_release')\n",
       "        this._key = null;\n",
       "\n",
       "    var value = '';\n",
       "    if (event.ctrlKey && event.which != 17)\n",
       "        value += \"ctrl+\";\n",
       "    if (event.altKey && event.which != 18)\n",
       "        value += \"alt+\";\n",
       "    if (event.shiftKey && event.which != 16)\n",
       "        value += \"shift+\";\n",
       "\n",
       "    value += 'k';\n",
       "    value += event.which.toString();\n",
       "\n",
       "    this._key_event_extra(event, name);\n",
       "\n",
       "    this.send_message(name, {key: value,\n",
       "                             guiEvent: simpleKeys(event)});\n",
       "    return false;\n",
       "}\n",
       "\n",
       "mpl.figure.prototype.toolbar_button_onclick = function(name) {\n",
       "    if (name == 'download') {\n",
       "        this.handle_save(this, null);\n",
       "    } else {\n",
       "        this.send_message(\"toolbar_button\", {name: name});\n",
       "    }\n",
       "};\n",
       "\n",
       "mpl.figure.prototype.toolbar_button_onmouseover = function(tooltip) {\n",
       "    this.message.textContent = tooltip;\n",
       "};\n",
       "mpl.toolbar_items = [[\"Home\", \"Reset original view\", \"fa fa-home icon-home\", \"home\"], [\"Back\", \"Back to previous view\", \"fa fa-arrow-left icon-arrow-left\", \"back\"], [\"Forward\", \"Forward to next view\", \"fa fa-arrow-right icon-arrow-right\", \"forward\"], [\"\", \"\", \"\", \"\"], [\"Pan\", \"Pan axes with left mouse, zoom with right\", \"fa fa-arrows icon-move\", \"pan\"], [\"Zoom\", \"Zoom to rectangle\", \"fa fa-square-o icon-check-empty\", \"zoom\"], [\"\", \"\", \"\", \"\"], [\"Download\", \"Download plot\", \"fa fa-floppy-o icon-save\", \"download\"]];\n",
       "\n",
       "mpl.extensions = [\"eps\", \"jpeg\", \"pdf\", \"png\", \"ps\", \"raw\", \"svg\", \"tif\"];\n",
       "\n",
       "mpl.default_extension = \"png\";var comm_websocket_adapter = function(comm) {\n",
       "    // Create a \"websocket\"-like object which calls the given IPython comm\n",
       "    // object with the appropriate methods. Currently this is a non binary\n",
       "    // socket, so there is still some room for performance tuning.\n",
       "    var ws = {};\n",
       "\n",
       "    ws.close = function() {\n",
       "        comm.close()\n",
       "    };\n",
       "    ws.send = function(m) {\n",
       "        //console.log('sending', m);\n",
       "        comm.send(m);\n",
       "    };\n",
       "    // Register the callback with on_msg.\n",
       "    comm.on_msg(function(msg) {\n",
       "        //console.log('receiving', msg['content']['data'], msg);\n",
       "        // Pass the mpl event to the overridden (by mpl) onmessage function.\n",
       "        ws.onmessage(msg['content']['data'])\n",
       "    });\n",
       "    return ws;\n",
       "}\n",
       "\n",
       "mpl.mpl_figure_comm = function(comm, msg) {\n",
       "    // This is the function which gets called when the mpl process\n",
       "    // starts-up an IPython Comm through the \"matplotlib\" channel.\n",
       "\n",
       "    var id = msg.content.data.id;\n",
       "    // Get hold of the div created by the display call when the Comm\n",
       "    // socket was opened in Python.\n",
       "    var element = $(\"#\" + id);\n",
       "    var ws_proxy = comm_websocket_adapter(comm)\n",
       "\n",
       "    function ondownload(figure, format) {\n",
       "        window.open(figure.imageObj.src);\n",
       "    }\n",
       "\n",
       "    var fig = new mpl.figure(id, ws_proxy,\n",
       "                           ondownload,\n",
       "                           element.get(0));\n",
       "\n",
       "    // Call onopen now - mpl needs it, as it is assuming we've passed it a real\n",
       "    // web socket which is closed, not our websocket->open comm proxy.\n",
       "    ws_proxy.onopen();\n",
       "\n",
       "    fig.parent_element = element.get(0);\n",
       "    fig.cell_info = mpl.find_output_cell(\"<div id='\" + id + \"'></div>\");\n",
       "    if (!fig.cell_info) {\n",
       "        console.error(\"Failed to find cell for figure\", id, fig);\n",
       "        return;\n",
       "    }\n",
       "\n",
       "    var output_index = fig.cell_info[2]\n",
       "    var cell = fig.cell_info[0];\n",
       "\n",
       "};\n",
       "\n",
       "mpl.figure.prototype.handle_close = function(fig, msg) {\n",
       "    var width = fig.canvas.width/mpl.ratio\n",
       "    fig.root.unbind('remove')\n",
       "\n",
       "    // Update the output cell to use the data from the current canvas.\n",
       "    fig.push_to_output();\n",
       "    var dataURL = fig.canvas.toDataURL();\n",
       "    // Re-enable the keyboard manager in IPython - without this line, in FF,\n",
       "    // the notebook keyboard shortcuts fail.\n",
       "    IPython.keyboard_manager.enable()\n",
       "    $(fig.parent_element).html('<img src=\"' + dataURL + '\" width=\"' + width + '\">');\n",
       "    fig.close_ws(fig, msg);\n",
       "}\n",
       "\n",
       "mpl.figure.prototype.close_ws = function(fig, msg){\n",
       "    fig.send_message('closing', msg);\n",
       "    // fig.ws.close()\n",
       "}\n",
       "\n",
       "mpl.figure.prototype.push_to_output = function(remove_interactive) {\n",
       "    // Turn the data on the canvas into data in the output cell.\n",
       "    var width = this.canvas.width/mpl.ratio\n",
       "    var dataURL = this.canvas.toDataURL();\n",
       "    this.cell_info[1]['text/html'] = '<img src=\"' + dataURL + '\" width=\"' + width + '\">';\n",
       "}\n",
       "\n",
       "mpl.figure.prototype.updated_canvas_event = function() {\n",
       "    // Tell IPython that the notebook contents must change.\n",
       "    IPython.notebook.set_dirty(true);\n",
       "    this.send_message(\"ack\", {});\n",
       "    var fig = this;\n",
       "    // Wait a second, then push the new image to the DOM so\n",
       "    // that it is saved nicely (might be nice to debounce this).\n",
       "    setTimeout(function () { fig.push_to_output() }, 1000);\n",
       "}\n",
       "\n",
       "mpl.figure.prototype._init_toolbar = function() {\n",
       "    var fig = this;\n",
       "\n",
       "    var nav_element = $('<div/>');\n",
       "    nav_element.attr('style', 'width: 100%');\n",
       "    this.root.append(nav_element);\n",
       "\n",
       "    // Define a callback function for later on.\n",
       "    function toolbar_event(event) {\n",
       "        return fig.toolbar_button_onclick(event['data']);\n",
       "    }\n",
       "    function toolbar_mouse_event(event) {\n",
       "        return fig.toolbar_button_onmouseover(event['data']);\n",
       "    }\n",
       "\n",
       "    for(var toolbar_ind in mpl.toolbar_items){\n",
       "        var name = mpl.toolbar_items[toolbar_ind][0];\n",
       "        var tooltip = mpl.toolbar_items[toolbar_ind][1];\n",
       "        var image = mpl.toolbar_items[toolbar_ind][2];\n",
       "        var method_name = mpl.toolbar_items[toolbar_ind][3];\n",
       "\n",
       "        if (!name) { continue; };\n",
       "\n",
       "        var button = $('<button class=\"btn btn-default\" href=\"#\" title=\"' + name + '\"><i class=\"fa ' + image + ' fa-lg\"></i></button>');\n",
       "        button.click(method_name, toolbar_event);\n",
       "        button.mouseover(tooltip, toolbar_mouse_event);\n",
       "        nav_element.append(button);\n",
       "    }\n",
       "\n",
       "    // Add the status bar.\n",
       "    var status_bar = $('<span class=\"mpl-message\" style=\"text-align:right; float: right;\"/>');\n",
       "    nav_element.append(status_bar);\n",
       "    this.message = status_bar[0];\n",
       "\n",
       "    // Add the close button to the window.\n",
       "    var buttongrp = $('<div class=\"btn-group inline pull-right\"></div>');\n",
       "    var button = $('<button class=\"btn btn-mini btn-primary\" href=\"#\" title=\"Stop Interaction\"><i class=\"fa fa-power-off icon-remove icon-large\"></i></button>');\n",
       "    button.click(function (evt) { fig.handle_close(fig, {}); } );\n",
       "    button.mouseover('Stop Interaction', toolbar_mouse_event);\n",
       "    buttongrp.append(button);\n",
       "    var titlebar = this.root.find($('.ui-dialog-titlebar'));\n",
       "    titlebar.prepend(buttongrp);\n",
       "}\n",
       "\n",
       "mpl.figure.prototype._root_extra_style = function(el){\n",
       "    var fig = this\n",
       "    el.on(\"remove\", function(){\n",
       "\tfig.close_ws(fig, {});\n",
       "    });\n",
       "}\n",
       "\n",
       "mpl.figure.prototype._canvas_extra_style = function(el){\n",
       "    // this is important to make the div 'focusable\n",
       "    el.attr('tabindex', 0)\n",
       "    // reach out to IPython and tell the keyboard manager to turn it's self\n",
       "    // off when our div gets focus\n",
       "\n",
       "    // location in version 3\n",
       "    if (IPython.notebook.keyboard_manager) {\n",
       "        IPython.notebook.keyboard_manager.register_events(el);\n",
       "    }\n",
       "    else {\n",
       "        // location in version 2\n",
       "        IPython.keyboard_manager.register_events(el);\n",
       "    }\n",
       "\n",
       "}\n",
       "\n",
       "mpl.figure.prototype._key_event_extra = function(event, name) {\n",
       "    var manager = IPython.notebook.keyboard_manager;\n",
       "    if (!manager)\n",
       "        manager = IPython.keyboard_manager;\n",
       "\n",
       "    // Check for shift+enter\n",
       "    if (event.shiftKey && event.which == 13) {\n",
       "        this.canvas_div.blur();\n",
       "        // select the cell after this one\n",
       "        var index = IPython.notebook.find_cell_index(this.cell_info[0]);\n",
       "        IPython.notebook.select(index + 1);\n",
       "    }\n",
       "}\n",
       "\n",
       "mpl.figure.prototype.handle_save = function(fig, msg) {\n",
       "    fig.ondownload(fig, null);\n",
       "}\n",
       "\n",
       "\n",
       "mpl.find_output_cell = function(html_output) {\n",
       "    // Return the cell and output element which can be found *uniquely* in the notebook.\n",
       "    // Note - this is a bit hacky, but it is done because the \"notebook_saving.Notebook\"\n",
       "    // IPython event is triggered only after the cells have been serialised, which for\n",
       "    // our purposes (turning an active figure into a static one), is too late.\n",
       "    var cells = IPython.notebook.get_cells();\n",
       "    var ncells = cells.length;\n",
       "    for (var i=0; i<ncells; i++) {\n",
       "        var cell = cells[i];\n",
       "        if (cell.cell_type === 'code'){\n",
       "            for (var j=0; j<cell.output_area.outputs.length; j++) {\n",
       "                var data = cell.output_area.outputs[j];\n",
       "                if (data.data) {\n",
       "                    // IPython >= 3 moved mimebundle to data attribute of output\n",
       "                    data = data.data;\n",
       "                }\n",
       "                if (data['text/html'] == html_output) {\n",
       "                    return [cell, data, j];\n",
       "                }\n",
       "            }\n",
       "        }\n",
       "    }\n",
       "}\n",
       "\n",
       "// Register the function which deals with the matplotlib target/channel.\n",
       "// The kernel may be null if the page has been refreshed.\n",
       "if (IPython.notebook.kernel != null) {\n",
       "    IPython.notebook.kernel.comm_manager.register_target('matplotlib', mpl.mpl_figure_comm);\n",
       "}\n"
      ],
      "text/plain": [
       "<IPython.core.display.Javascript object>"
      ]
     },
     "metadata": {},
     "output_type": "display_data"
    },
    {
     "data": {
      "text/html": [
       "<img src=\"data:image/png;base64,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\" width=\"1000\">"
      ],
      "text/plain": [
       "<IPython.core.display.HTML object>"
      ]
     },
     "metadata": {},
     "output_type": "display_data"
    }
   ],
   "source": [
    "ax, tax, lax, lines = dual_train_plots()\n",
    "fig = ax.figure\n",
    "plt.tight_layout()\n",
    "# This gets built up during the run - do not rerun this cell\n",
    "results = pd.DataFrame([], columns=Results._fields)"
   ]
  },
  {
   "cell_type": "code",
   "execution_count": null,
   "metadata": {
    "scrolled": false
   },
   "outputs": [
    {
     "name": "stdout",
     "output_type": "stream",
     "text": [
      "for model:  All_CNN6Layer_E(\n",
      "  (conv1): Conv1d(1, 16, kernel_size=(25,), stride=(1,), padding=(12,))\n",
      "  (conv2): Conv1d(16, 9, kernel_size=(15,), stride=(1,), padding=(7,))\n",
      "  (conv3a): Conv1d(25, 9, kernel_size=(15,), stride=(1,), padding=(7,))\n",
      "  (conv4): Conv1d(9, 9, kernel_size=(15,), stride=(1,), padding=(7,))\n",
      "  (conv5): Conv1d(9, 1, kernel_size=(5,), stride=(1,), padding=(2,))\n",
      "  (finalFilter): Conv1d(1, 1, kernel_size=(91,), stride=(1,), padding=(45,))\n",
      "  (conv1dropout): Dropout(p=0.15, inplace=False)\n",
      "  (conv2dropout): Dropout(p=0.15, inplace=False)\n",
      "  (conv3dropout): Dropout(p=0.15, inplace=False)\n",
      "  (conv4dropout): Dropout(p=0.15, inplace=False)\n",
      "  (conv5dropout): Dropout(p=0.15, inplace=False)\n",
      "  (bn1): BatchNorm1d(16, eps=1e-05, momentum=0.1, affine=True, track_running_stats=True)\n",
      "  (bn2): BatchNorm1d(9, eps=1e-05, momentum=0.1, affine=True, track_running_stats=True)\n",
      "  (bn3): BatchNorm1d(9, eps=1e-05, momentum=0.1, affine=True, track_running_stats=True)\n",
      "  (bn4): BatchNorm1d(9, eps=1e-05, momentum=0.1, affine=True, track_running_stats=True)\n",
      "  (bn5): BatchNorm1d(1, eps=1e-05, momentum=0.1, affine=True, track_running_stats=True)\n",
      ")\n",
      "epoch_start 317\n",
      "batch_size 128\n",
      "epochs 1000\n",
      "lr 0.001\n",
      "Number of batches: train = 1250, val = 78\n"
     ]
    },
    {
     "name": "stderr",
     "output_type": "stream",
     "text": [
      "/home/michael24peters/pv-finder_experimental/notebooks/model/training.py:95: TqdmDeprecationWarning: This function will be removed in tqdm==5.0.0\n",
      "Please use `tqdm.notebook.tqdm` instead of `tqdm.tqdm_notebook`\n",
      "  file=sys.stderr,\n"
     ]
    },
    {
     "data": {
      "application/vnd.jupyter.widget-view+json": {
       "model_id": "b657eb7fb0ee43608e5178eed1901ab8",
       "version_major": 2,
       "version_minor": 0
      },
      "text/plain": [
       "HBox(children=(FloatProgress(value=0.0, description='Epochs', layout=Layout(flex='2'), max=1000.0, style=Progr…"
      ]
     },
     "metadata": {},
     "output_type": "display_data"
    },
    {
     "data": {
      "application/vnd.jupyter.widget-view+json": {
       "model_id": "",
       "version_major": 2,
       "version_minor": 0
      },
      "text/plain": [
       "HBox(children=(FloatProgress(value=0.0, description='Training', layout=Layout(flex='2'), max=1250.0, style=Pro…"
      ]
     },
     "metadata": {},
     "output_type": "display_data"
    },
    {
     "name": "stdout",
     "output_type": "stream",
     "text": [
      "Epoch 317: train=8.25139, val=8.40359, took 40.279 s\n",
      "  Validation Found 50770 of 54504, added 2483 (eff 93.15%) (0.249 FP/event)\n"
     ]
    },
    {
     "data": {
      "application/vnd.jupyter.widget-view+json": {
       "model_id": "",
       "version_major": 2,
       "version_minor": 0
      },
      "text/plain": [
       "HBox(children=(FloatProgress(value=0.0, description='Training', layout=Layout(flex='2'), max=1250.0, style=Pro…"
      ]
     },
     "metadata": {},
     "output_type": "display_data"
    },
    {
     "name": "stdout",
     "output_type": "stream",
     "text": [
      "Epoch 318: train=8.18801, val=8.76622, took 39.237 s\n",
      "  Validation Found 50866 of 54504, added 3620 (eff 93.33%) (0.363 FP/event)\n"
     ]
    },
    {
     "data": {
      "application/vnd.jupyter.widget-view+json": {
       "model_id": "",
       "version_major": 2,
       "version_minor": 0
      },
      "text/plain": [
       "HBox(children=(FloatProgress(value=0.0, description='Training', layout=Layout(flex='2'), max=1250.0, style=Pro…"
      ]
     },
     "metadata": {},
     "output_type": "display_data"
    },
    {
     "name": "stdout",
     "output_type": "stream",
     "text": [
      "Epoch 319: train=8.16358, val=8.32472, took 39.261 s\n",
      "  Validation Found 50671 of 54504, added 1950 (eff 92.97%) (0.195 FP/event)\n"
     ]
    },
    {
     "data": {
      "application/vnd.jupyter.widget-view+json": {
       "model_id": "",
       "version_major": 2,
       "version_minor": 0
      },
      "text/plain": [
       "HBox(children=(FloatProgress(value=0.0, description='Training', layout=Layout(flex='2'), max=1250.0, style=Pro…"
      ]
     },
     "metadata": {},
     "output_type": "display_data"
    },
    {
     "name": "stdout",
     "output_type": "stream",
     "text": [
      "Epoch 320: train=8.14885, val=8.60296, took 39.266 s\n",
      "  Validation Found 50573 of 54504, added 1910 (eff 92.79%) (0.191 FP/event)\n"
     ]
    },
    {
     "data": {
      "application/vnd.jupyter.widget-view+json": {
       "model_id": "",
       "version_major": 2,
       "version_minor": 0
      },
      "text/plain": [
       "HBox(children=(FloatProgress(value=0.0, description='Training', layout=Layout(flex='2'), max=1250.0, style=Pro…"
      ]
     },
     "metadata": {},
     "output_type": "display_data"
    },
    {
     "name": "stdout",
     "output_type": "stream",
     "text": [
      "Epoch 321: train=8.1349, val=8.35743, took 39.348 s\n",
      "  Validation Found 50823 of 54504, added 2196 (eff 93.25%) (0.22 FP/event)\n"
     ]
    },
    {
     "data": {
      "application/vnd.jupyter.widget-view+json": {
       "model_id": "",
       "version_major": 2,
       "version_minor": 0
      },
      "text/plain": [
       "HBox(children=(FloatProgress(value=0.0, description='Training', layout=Layout(flex='2'), max=1250.0, style=Pro…"
      ]
     },
     "metadata": {},
     "output_type": "display_data"
    },
    {
     "name": "stdout",
     "output_type": "stream",
     "text": [
      "Epoch 322: train=8.10833, val=8.57952, took 39.461 s\n",
      "  Validation Found 50596 of 54504, added 1719 (eff 92.83%) (0.172 FP/event)\n"
     ]
    },
    {
     "data": {
      "application/vnd.jupyter.widget-view+json": {
       "model_id": "",
       "version_major": 2,
       "version_minor": 0
      },
      "text/plain": [
       "HBox(children=(FloatProgress(value=0.0, description='Training', layout=Layout(flex='2'), max=1250.0, style=Pro…"
      ]
     },
     "metadata": {},
     "output_type": "display_data"
    },
    {
     "name": "stdout",
     "output_type": "stream",
     "text": [
      "Epoch 323: train=8.1113, val=8.34323, took 39.73 s\n",
      "  Validation Found 50882 of 54504, added 2323 (eff 93.35%) (0.233 FP/event)\n"
     ]
    },
    {
     "data": {
      "application/vnd.jupyter.widget-view+json": {
       "model_id": "",
       "version_major": 2,
       "version_minor": 0
      },
      "text/plain": [
       "HBox(children=(FloatProgress(value=0.0, description='Training', layout=Layout(flex='2'), max=1250.0, style=Pro…"
      ]
     },
     "metadata": {},
     "output_type": "display_data"
    },
    {
     "name": "stdout",
     "output_type": "stream",
     "text": [
      "Epoch 324: train=8.09925, val=8.37196, took 39.5 s\n",
      "  Validation Found 50814 of 54504, added 2105 (eff 93.23%) (0.211 FP/event)\n"
     ]
    },
    {
     "data": {
      "application/vnd.jupyter.widget-view+json": {
       "model_id": "",
       "version_major": 2,
       "version_minor": 0
      },
      "text/plain": [
       "HBox(children=(FloatProgress(value=0.0, description='Training', layout=Layout(flex='2'), max=1250.0, style=Pro…"
      ]
     },
     "metadata": {},
     "output_type": "display_data"
    },
    {
     "name": "stdout",
     "output_type": "stream",
     "text": [
      "Epoch 325: train=8.08838, val=8.37971, took 39.326 s\n",
      "  Validation Found 50974 of 54504, added 2776 (eff 93.52%) (0.278 FP/event)\n"
     ]
    },
    {
     "data": {
      "application/vnd.jupyter.widget-view+json": {
       "model_id": "",
       "version_major": 2,
       "version_minor": 0
      },
      "text/plain": [
       "HBox(children=(FloatProgress(value=0.0, description='Training', layout=Layout(flex='2'), max=1250.0, style=Pro…"
      ]
     },
     "metadata": {},
     "output_type": "display_data"
    },
    {
     "name": "stdout",
     "output_type": "stream",
     "text": [
      "Epoch 326: train=8.08731, val=8.36339, took 39.19 s\n",
      "  Validation Found 50742 of 54504, added 1837 (eff 93.10%) (0.184 FP/event)\n"
     ]
    },
    {
     "data": {
      "application/vnd.jupyter.widget-view+json": {
       "model_id": "",
       "version_major": 2,
       "version_minor": 0
      },
      "text/plain": [
       "HBox(children=(FloatProgress(value=0.0, description='Training', layout=Layout(flex='2'), max=1250.0, style=Pro…"
      ]
     },
     "metadata": {},
     "output_type": "display_data"
    },
    {
     "name": "stdout",
     "output_type": "stream",
     "text": [
      "Epoch 327: train=8.0805, val=9.01163, took 40.306 s\n",
      "  Validation Found 51176 of 54504, added 4995 (eff 93.89%) (0.5 FP/event)\n"
     ]
    },
    {
     "data": {
      "application/vnd.jupyter.widget-view+json": {
       "model_id": "",
       "version_major": 2,
       "version_minor": 0
      },
      "text/plain": [
       "HBox(children=(FloatProgress(value=0.0, description='Training', layout=Layout(flex='2'), max=1250.0, style=Pro…"
      ]
     },
     "metadata": {},
     "output_type": "display_data"
    },
    {
     "name": "stdout",
     "output_type": "stream",
     "text": [
      "Epoch 328: train=8.08243, val=8.33192, took 39.945 s\n",
      "  Validation Found 50955 of 54504, added 2241 (eff 93.49%) (0.224 FP/event)\n"
     ]
    },
    {
     "data": {
      "application/vnd.jupyter.widget-view+json": {
       "model_id": "",
       "version_major": 2,
       "version_minor": 0
      },
      "text/plain": [
       "HBox(children=(FloatProgress(value=0.0, description='Training', layout=Layout(flex='2'), max=1250.0, style=Pro…"
      ]
     },
     "metadata": {},
     "output_type": "display_data"
    },
    {
     "name": "stdout",
     "output_type": "stream",
     "text": [
      "Epoch 329: train=8.06462, val=8.48723, took 40.06 s\n",
      "  Validation Found 50678 of 54504, added 1700 (eff 92.98%) (0.17 FP/event)\n"
     ]
    },
    {
     "data": {
      "application/vnd.jupyter.widget-view+json": {
       "model_id": "",
       "version_major": 2,
       "version_minor": 0
      },
      "text/plain": [
       "HBox(children=(FloatProgress(value=0.0, description='Training', layout=Layout(flex='2'), max=1250.0, style=Pro…"
      ]
     },
     "metadata": {},
     "output_type": "display_data"
    },
    {
     "name": "stdout",
     "output_type": "stream",
     "text": [
      "Epoch 330: train=8.06182, val=9.15037, took 40.047 s\n",
      "  Validation Found 51189 of 54504, added 4845 (eff 93.92%) (0.485 FP/event)\n"
     ]
    },
    {
     "data": {
      "application/vnd.jupyter.widget-view+json": {
       "model_id": "",
       "version_major": 2,
       "version_minor": 0
      },
      "text/plain": [
       "HBox(children=(FloatProgress(value=0.0, description='Training', layout=Layout(flex='2'), max=1250.0, style=Pro…"
      ]
     },
     "metadata": {},
     "output_type": "display_data"
    },
    {
     "name": "stdout",
     "output_type": "stream",
     "text": [
      "Epoch 331: train=8.06426, val=8.38317, took 39.748 s\n",
      "  Validation Found 51097 of 54504, added 2655 (eff 93.75%) (0.266 FP/event)\n"
     ]
    },
    {
     "data": {
      "application/vnd.jupyter.widget-view+json": {
       "model_id": "",
       "version_major": 2,
       "version_minor": 0
      },
      "text/plain": [
       "HBox(children=(FloatProgress(value=0.0, description='Training', layout=Layout(flex='2'), max=1250.0, style=Pro…"
      ]
     },
     "metadata": {},
     "output_type": "display_data"
    },
    {
     "name": "stdout",
     "output_type": "stream",
     "text": [
      "Epoch 332: train=8.0619, val=8.67274, took 39.407 s\n",
      "  Validation Found 51200 of 54504, added 3686 (eff 93.94%) (0.369 FP/event)\n"
     ]
    },
    {
     "data": {
      "application/vnd.jupyter.widget-view+json": {
       "model_id": "",
       "version_major": 2,
       "version_minor": 0
      },
      "text/plain": [
       "HBox(children=(FloatProgress(value=0.0, description='Training', layout=Layout(flex='2'), max=1250.0, style=Pro…"
      ]
     },
     "metadata": {},
     "output_type": "display_data"
    },
    {
     "name": "stdout",
     "output_type": "stream",
     "text": [
      "Epoch 333: train=8.05097, val=8.28265, took 39.606 s\n",
      "  Validation Found 51095 of 54504, added 2632 (eff 93.75%) (0.264 FP/event)\n"
     ]
    },
    {
     "data": {
      "application/vnd.jupyter.widget-view+json": {
       "model_id": "",
       "version_major": 2,
       "version_minor": 0
      },
      "text/plain": [
       "HBox(children=(FloatProgress(value=0.0, description='Training', layout=Layout(flex='2'), max=1250.0, style=Pro…"
      ]
     },
     "metadata": {},
     "output_type": "display_data"
    },
    {
     "name": "stdout",
     "output_type": "stream",
     "text": [
      "Epoch 334: train=8.05227, val=8.46877, took 40.386 s\n",
      "  Validation Found 51158 of 54504, added 3319 (eff 93.86%) (0.332 FP/event)\n"
     ]
    },
    {
     "data": {
      "application/vnd.jupyter.widget-view+json": {
       "model_id": "",
       "version_major": 2,
       "version_minor": 0
      },
      "text/plain": [
       "HBox(children=(FloatProgress(value=0.0, description='Training', layout=Layout(flex='2'), max=1250.0, style=Pro…"
      ]
     },
     "metadata": {},
     "output_type": "display_data"
    },
    {
     "name": "stdout",
     "output_type": "stream",
     "text": [
      "Epoch 335: train=8.04058, val=8.35351, took 40.215 s\n",
      "  Validation Found 50818 of 54504, added 2047 (eff 93.24%) (0.205 FP/event)\n"
     ]
    },
    {
     "data": {
      "application/vnd.jupyter.widget-view+json": {
       "model_id": "",
       "version_major": 2,
       "version_minor": 0
      },
      "text/plain": [
       "HBox(children=(FloatProgress(value=0.0, description='Training', layout=Layout(flex='2'), max=1250.0, style=Pro…"
      ]
     },
     "metadata": {},
     "output_type": "display_data"
    },
    {
     "name": "stdout",
     "output_type": "stream",
     "text": [
      "Epoch 336: train=8.03885, val=8.23845, took 39.335 s\n",
      "  Validation Found 51006 of 54504, added 2236 (eff 93.58%) (0.224 FP/event)\n"
     ]
    },
    {
     "data": {
      "application/vnd.jupyter.widget-view+json": {
       "model_id": "",
       "version_major": 2,
       "version_minor": 0
      },
      "text/plain": [
       "HBox(children=(FloatProgress(value=0.0, description='Training', layout=Layout(flex='2'), max=1250.0, style=Pro…"
      ]
     },
     "metadata": {},
     "output_type": "display_data"
    },
    {
     "name": "stdout",
     "output_type": "stream",
     "text": [
      "Epoch 337: train=8.03836, val=8.29785, took 39.036 s\n",
      "  Validation Found 50951 of 54504, added 2201 (eff 93.48%) (0.22 FP/event)\n"
     ]
    },
    {
     "data": {
      "application/vnd.jupyter.widget-view+json": {
       "model_id": "",
       "version_major": 2,
       "version_minor": 0
      },
      "text/plain": [
       "HBox(children=(FloatProgress(value=0.0, description='Training', layout=Layout(flex='2'), max=1250.0, style=Pro…"
      ]
     },
     "metadata": {},
     "output_type": "display_data"
    },
    {
     "name": "stdout",
     "output_type": "stream",
     "text": [
      "Epoch 338: train=8.03753, val=8.3416, took 39.126 s\n",
      "  Validation Found 50743 of 54504, added 1750 (eff 93.10%) (0.175 FP/event)\n"
     ]
    },
    {
     "data": {
      "application/vnd.jupyter.widget-view+json": {
       "model_id": "",
       "version_major": 2,
       "version_minor": 0
      },
      "text/plain": [
       "HBox(children=(FloatProgress(value=0.0, description='Training', layout=Layout(flex='2'), max=1250.0, style=Pro…"
      ]
     },
     "metadata": {},
     "output_type": "display_data"
    },
    {
     "name": "stdout",
     "output_type": "stream",
     "text": [
      "Epoch 339: train=8.03229, val=8.41192, took 39.494 s\n",
      "  Validation Found 50605 of 54504, added 1606 (eff 92.85%) (0.161 FP/event)\n"
     ]
    },
    {
     "data": {
      "application/vnd.jupyter.widget-view+json": {
       "model_id": "",
       "version_major": 2,
       "version_minor": 0
      },
      "text/plain": [
       "HBox(children=(FloatProgress(value=0.0, description='Training', layout=Layout(flex='2'), max=1250.0, style=Pro…"
      ]
     },
     "metadata": {},
     "output_type": "display_data"
    },
    {
     "name": "stdout",
     "output_type": "stream",
     "text": [
      "Epoch 340: train=8.02816, val=8.25638, took 39.195 s\n",
      "  Validation Found 50926 of 54504, added 1937 (eff 93.44%) (0.194 FP/event)\n"
     ]
    },
    {
     "data": {
      "application/vnd.jupyter.widget-view+json": {
       "model_id": "",
       "version_major": 2,
       "version_minor": 0
      },
      "text/plain": [
       "HBox(children=(FloatProgress(value=0.0, description='Training', layout=Layout(flex='2'), max=1250.0, style=Pro…"
      ]
     },
     "metadata": {},
     "output_type": "display_data"
    },
    {
     "name": "stdout",
     "output_type": "stream",
     "text": [
      "Epoch 341: train=8.0237, val=9.11661, took 39.08 s\n",
      "  Validation Found 51266 of 54504, added 4777 (eff 94.06%) (0.478 FP/event)\n"
     ]
    },
    {
     "data": {
      "application/vnd.jupyter.widget-view+json": {
       "model_id": "",
       "version_major": 2,
       "version_minor": 0
      },
      "text/plain": [
       "HBox(children=(FloatProgress(value=0.0, description='Training', layout=Layout(flex='2'), max=1250.0, style=Pro…"
      ]
     },
     "metadata": {},
     "output_type": "display_data"
    },
    {
     "name": "stdout",
     "output_type": "stream",
     "text": [
      "Epoch 342: train=8.02503, val=8.16619, took 39.042 s\n",
      "  Validation Found 51006 of 54504, added 2161 (eff 93.58%) (0.216 FP/event)\n"
     ]
    },
    {
     "data": {
      "application/vnd.jupyter.widget-view+json": {
       "model_id": "",
       "version_major": 2,
       "version_minor": 0
      },
      "text/plain": [
       "HBox(children=(FloatProgress(value=0.0, description='Training', layout=Layout(flex='2'), max=1250.0, style=Pro…"
      ]
     },
     "metadata": {},
     "output_type": "display_data"
    },
    {
     "name": "stdout",
     "output_type": "stream",
     "text": [
      "Epoch 343: train=8.01671, val=8.22468, took 39.077 s\n",
      "  Validation Found 51218 of 54504, added 2683 (eff 93.97%) (0.269 FP/event)\n"
     ]
    },
    {
     "data": {
      "application/vnd.jupyter.widget-view+json": {
       "model_id": "",
       "version_major": 2,
       "version_minor": 0
      },
      "text/plain": [
       "HBox(children=(FloatProgress(value=0.0, description='Training', layout=Layout(flex='2'), max=1250.0, style=Pro…"
      ]
     },
     "metadata": {},
     "output_type": "display_data"
    },
    {
     "name": "stdout",
     "output_type": "stream",
     "text": [
      "Epoch 344: train=8.0235, val=8.26907, took 39.06 s\n",
      "  Validation Found 50922 of 54504, added 1853 (eff 93.43%) (0.186 FP/event)\n"
     ]
    },
    {
     "data": {
      "application/vnd.jupyter.widget-view+json": {
       "model_id": "",
       "version_major": 2,
       "version_minor": 0
      },
      "text/plain": [
       "HBox(children=(FloatProgress(value=0.0, description='Training', layout=Layout(flex='2'), max=1250.0, style=Pro…"
      ]
     },
     "metadata": {},
     "output_type": "display_data"
    },
    {
     "name": "stdout",
     "output_type": "stream",
     "text": [
      "Epoch 345: train=8.02206, val=8.38591, took 39.027 s\n",
      "  Validation Found 50786 of 54504, added 1783 (eff 93.18%) (0.179 FP/event)\n"
     ]
    },
    {
     "data": {
      "application/vnd.jupyter.widget-view+json": {
       "model_id": "",
       "version_major": 2,
       "version_minor": 0
      },
      "text/plain": [
       "HBox(children=(FloatProgress(value=0.0, description='Training', layout=Layout(flex='2'), max=1250.0, style=Pro…"
      ]
     },
     "metadata": {},
     "output_type": "display_data"
    },
    {
     "name": "stdout",
     "output_type": "stream",
     "text": [
      "Epoch 346: train=8.01395, val=8.27096, took 38.991 s\n",
      "  Validation Found 50957 of 54504, added 2026 (eff 93.49%) (0.203 FP/event)\n"
     ]
    },
    {
     "data": {
      "application/vnd.jupyter.widget-view+json": {
       "model_id": "",
       "version_major": 2,
       "version_minor": 0
      },
      "text/plain": [
       "HBox(children=(FloatProgress(value=0.0, description='Training', layout=Layout(flex='2'), max=1250.0, style=Pro…"
      ]
     },
     "metadata": {},
     "output_type": "display_data"
    },
    {
     "name": "stdout",
     "output_type": "stream",
     "text": [
      "Epoch 347: train=8.01098, val=8.34331, took 38.999 s\n",
      "  Validation Found 51246 of 54504, added 3103 (eff 94.02%) (0.311 FP/event)\n"
     ]
    },
    {
     "data": {
      "application/vnd.jupyter.widget-view+json": {
       "model_id": "",
       "version_major": 2,
       "version_minor": 0
      },
      "text/plain": [
       "HBox(children=(FloatProgress(value=0.0, description='Training', layout=Layout(flex='2'), max=1250.0, style=Pro…"
      ]
     },
     "metadata": {},
     "output_type": "display_data"
    },
    {
     "name": "stdout",
     "output_type": "stream",
     "text": [
      "Epoch 348: train=8.01273, val=8.26782, took 39.976 s\n",
      "  Validation Found 51063 of 54504, added 2463 (eff 93.69%) (0.247 FP/event)\n"
     ]
    },
    {
     "data": {
      "application/vnd.jupyter.widget-view+json": {
       "model_id": "",
       "version_major": 2,
       "version_minor": 0
      },
      "text/plain": [
       "HBox(children=(FloatProgress(value=0.0, description='Training', layout=Layout(flex='2'), max=1250.0, style=Pro…"
      ]
     },
     "metadata": {},
     "output_type": "display_data"
    },
    {
     "name": "stdout",
     "output_type": "stream",
     "text": [
      "Epoch 349: train=8.01088, val=8.22188, took 39.028 s\n",
      "  Validation Found 50868 of 54504, added 1799 (eff 93.33%) (0.18 FP/event)\n"
     ]
    },
    {
     "data": {
      "application/vnd.jupyter.widget-view+json": {
       "model_id": "",
       "version_major": 2,
       "version_minor": 0
      },
      "text/plain": [
       "HBox(children=(FloatProgress(value=0.0, description='Training', layout=Layout(flex='2'), max=1250.0, style=Pro…"
      ]
     },
     "metadata": {},
     "output_type": "display_data"
    },
    {
     "name": "stdout",
     "output_type": "stream",
     "text": [
      "Epoch 350: train=8.01274, val=13.2364, took 39.035 s\n",
      "  Validation Found 51335 of 54504, added 11725 (eff 94.19%) (1.17 FP/event)\n"
     ]
    },
    {
     "data": {
      "application/vnd.jupyter.widget-view+json": {
       "model_id": "",
       "version_major": 2,
       "version_minor": 0
      },
      "text/plain": [
       "HBox(children=(FloatProgress(value=0.0, description='Training', layout=Layout(flex='2'), max=1250.0, style=Pro…"
      ]
     },
     "metadata": {},
     "output_type": "display_data"
    },
    {
     "name": "stdout",
     "output_type": "stream",
     "text": [
      "Epoch 351: train=7.99926, val=8.25201, took 39.029 s\n",
      "  Validation Found 50901 of 54504, added 2031 (eff 93.39%) (0.203 FP/event)\n"
     ]
    },
    {
     "data": {
      "application/vnd.jupyter.widget-view+json": {
       "model_id": "",
       "version_major": 2,
       "version_minor": 0
      },
      "text/plain": [
       "HBox(children=(FloatProgress(value=0.0, description='Training', layout=Layout(flex='2'), max=1250.0, style=Pro…"
      ]
     },
     "metadata": {},
     "output_type": "display_data"
    },
    {
     "name": "stdout",
     "output_type": "stream",
     "text": [
      "Epoch 352: train=8.00306, val=14.4917, took 39.784 s\n",
      "  Validation Found 51235 of 54504, added 13127 (eff 94.00%) (1.31 FP/event)\n"
     ]
    },
    {
     "data": {
      "application/vnd.jupyter.widget-view+json": {
       "model_id": "",
       "version_major": 2,
       "version_minor": 0
      },
      "text/plain": [
       "HBox(children=(FloatProgress(value=0.0, description='Training', layout=Layout(flex='2'), max=1250.0, style=Pro…"
      ]
     },
     "metadata": {},
     "output_type": "display_data"
    },
    {
     "name": "stdout",
     "output_type": "stream",
     "text": [
      "Epoch 353: train=8.01037, val=8.21032, took 39.267 s\n",
      "  Validation Found 51020 of 54504, added 2095 (eff 93.61%) (0.21 FP/event)\n"
     ]
    },
    {
     "data": {
      "application/vnd.jupyter.widget-view+json": {
       "model_id": "",
       "version_major": 2,
       "version_minor": 0
      },
      "text/plain": [
       "HBox(children=(FloatProgress(value=0.0, description='Training', layout=Layout(flex='2'), max=1250.0, style=Pro…"
      ]
     },
     "metadata": {},
     "output_type": "display_data"
    },
    {
     "name": "stdout",
     "output_type": "stream",
     "text": [
      "Epoch 354: train=7.99995, val=8.27804, took 40.026 s\n",
      "  Validation Found 51113 of 54504, added 2477 (eff 93.78%) (0.248 FP/event)\n"
     ]
    },
    {
     "data": {
      "application/vnd.jupyter.widget-view+json": {
       "model_id": "",
       "version_major": 2,
       "version_minor": 0
      },
      "text/plain": [
       "HBox(children=(FloatProgress(value=0.0, description='Training', layout=Layout(flex='2'), max=1250.0, style=Pro…"
      ]
     },
     "metadata": {},
     "output_type": "display_data"
    },
    {
     "name": "stdout",
     "output_type": "stream",
     "text": [
      "Epoch 355: train=7.99464, val=10.1924, took 39.02 s\n",
      "  Validation Found 51214 of 54504, added 7983 (eff 93.96%) (0.799 FP/event)\n"
     ]
    },
    {
     "data": {
      "application/vnd.jupyter.widget-view+json": {
       "model_id": "",
       "version_major": 2,
       "version_minor": 0
      },
      "text/plain": [
       "HBox(children=(FloatProgress(value=0.0, description='Training', layout=Layout(flex='2'), max=1250.0, style=Pro…"
      ]
     },
     "metadata": {},
     "output_type": "display_data"
    },
    {
     "name": "stdout",
     "output_type": "stream",
     "text": [
      "Epoch 356: train=8.00362, val=8.24082, took 39.031 s\n",
      "  Validation Found 50997 of 54504, added 2190 (eff 93.57%) (0.219 FP/event)\n"
     ]
    },
    {
     "data": {
      "application/vnd.jupyter.widget-view+json": {
       "model_id": "",
       "version_major": 2,
       "version_minor": 0
      },
      "text/plain": [
       "HBox(children=(FloatProgress(value=0.0, description='Training', layout=Layout(flex='2'), max=1250.0, style=Pro…"
      ]
     },
     "metadata": {},
     "output_type": "display_data"
    },
    {
     "name": "stdout",
     "output_type": "stream",
     "text": [
      "Epoch 357: train=7.98905, val=8.25189, took 39.084 s\n",
      "  Validation Found 51024 of 54504, added 2034 (eff 93.62%) (0.204 FP/event)\n"
     ]
    },
    {
     "data": {
      "application/vnd.jupyter.widget-view+json": {
       "model_id": "",
       "version_major": 2,
       "version_minor": 0
      },
      "text/plain": [
       "HBox(children=(FloatProgress(value=0.0, description='Training', layout=Layout(flex='2'), max=1250.0, style=Pro…"
      ]
     },
     "metadata": {},
     "output_type": "display_data"
    },
    {
     "name": "stdout",
     "output_type": "stream",
     "text": [
      "Epoch 358: train=7.98595, val=8.19795, took 39.032 s\n",
      "  Validation Found 50960 of 54504, added 1927 (eff 93.50%) (0.193 FP/event)\n"
     ]
    },
    {
     "data": {
      "application/vnd.jupyter.widget-view+json": {
       "model_id": "",
       "version_major": 2,
       "version_minor": 0
      },
      "text/plain": [
       "HBox(children=(FloatProgress(value=0.0, description='Training', layout=Layout(flex='2'), max=1250.0, style=Pro…"
      ]
     },
     "metadata": {},
     "output_type": "display_data"
    },
    {
     "name": "stdout",
     "output_type": "stream",
     "text": [
      "Epoch 359: train=7.99184, val=8.3878, took 39.039 s\n",
      "  Validation Found 51189 of 54504, added 2715 (eff 93.92%) (0.272 FP/event)\n"
     ]
    },
    {
     "data": {
      "application/vnd.jupyter.widget-view+json": {
       "model_id": "",
       "version_major": 2,
       "version_minor": 0
      },
      "text/plain": [
       "HBox(children=(FloatProgress(value=0.0, description='Training', layout=Layout(flex='2'), max=1250.0, style=Pro…"
      ]
     },
     "metadata": {},
     "output_type": "display_data"
    },
    {
     "name": "stdout",
     "output_type": "stream",
     "text": [
      "Epoch 360: train=7.98298, val=8.32269, took 40.106 s\n",
      "  Validation Found 50952 of 54504, added 1914 (eff 93.48%) (0.192 FP/event)\n"
     ]
    },
    {
     "data": {
      "application/vnd.jupyter.widget-view+json": {
       "model_id": "",
       "version_major": 2,
       "version_minor": 0
      },
      "text/plain": [
       "HBox(children=(FloatProgress(value=0.0, description='Training', layout=Layout(flex='2'), max=1250.0, style=Pro…"
      ]
     },
     "metadata": {},
     "output_type": "display_data"
    },
    {
     "name": "stdout",
     "output_type": "stream",
     "text": [
      "Epoch 361: train=8.00048, val=9.37552, took 39.236 s\n",
      "  Validation Found 51256 of 54504, added 5234 (eff 94.04%) (0.524 FP/event)\n"
     ]
    },
    {
     "data": {
      "application/vnd.jupyter.widget-view+json": {
       "model_id": "",
       "version_major": 2,
       "version_minor": 0
      },
      "text/plain": [
       "HBox(children=(FloatProgress(value=0.0, description='Training', layout=Layout(flex='2'), max=1250.0, style=Pro…"
      ]
     },
     "metadata": {},
     "output_type": "display_data"
    },
    {
     "name": "stdout",
     "output_type": "stream",
     "text": [
      "Epoch 362: train=7.99679, val=8.23512, took 38.986 s\n",
      "  Validation Found 50968 of 54504, added 2058 (eff 93.51%) (0.206 FP/event)\n"
     ]
    },
    {
     "data": {
      "application/vnd.jupyter.widget-view+json": {
       "model_id": "",
       "version_major": 2,
       "version_minor": 0
      },
      "text/plain": [
       "HBox(children=(FloatProgress(value=0.0, description='Training', layout=Layout(flex='2'), max=1250.0, style=Pro…"
      ]
     },
     "metadata": {},
     "output_type": "display_data"
    },
    {
     "name": "stdout",
     "output_type": "stream",
     "text": [
      "Epoch 363: train=7.99007, val=8.27568, took 39.008 s\n",
      "  Validation Found 51143 of 54504, added 2549 (eff 93.83%) (0.255 FP/event)\n"
     ]
    },
    {
     "data": {
      "application/vnd.jupyter.widget-view+json": {
       "model_id": "",
       "version_major": 2,
       "version_minor": 0
      },
      "text/plain": [
       "HBox(children=(FloatProgress(value=0.0, description='Training', layout=Layout(flex='2'), max=1250.0, style=Pro…"
      ]
     },
     "metadata": {},
     "output_type": "display_data"
    },
    {
     "name": "stdout",
     "output_type": "stream",
     "text": [
      "Epoch 364: train=7.97875, val=8.34257, took 39.364 s\n",
      "  Validation Found 50939 of 54504, added 2174 (eff 93.46%) (0.218 FP/event)\n"
     ]
    },
    {
     "data": {
      "application/vnd.jupyter.widget-view+json": {
       "model_id": "",
       "version_major": 2,
       "version_minor": 0
      },
      "text/plain": [
       "HBox(children=(FloatProgress(value=0.0, description='Training', layout=Layout(flex='2'), max=1250.0, style=Pro…"
      ]
     },
     "metadata": {},
     "output_type": "display_data"
    },
    {
     "name": "stdout",
     "output_type": "stream",
     "text": [
      "Epoch 365: train=7.98983, val=8.21344, took 39.419 s\n",
      "  Validation Found 51045 of 54504, added 2032 (eff 93.65%) (0.204 FP/event)\n"
     ]
    },
    {
     "data": {
      "application/vnd.jupyter.widget-view+json": {
       "model_id": "",
       "version_major": 2,
       "version_minor": 0
      },
      "text/plain": [
       "HBox(children=(FloatProgress(value=0.0, description='Training', layout=Layout(flex='2'), max=1250.0, style=Pro…"
      ]
     },
     "metadata": {},
     "output_type": "display_data"
    },
    {
     "name": "stdout",
     "output_type": "stream",
     "text": [
      "Epoch 366: train=7.97581, val=8.26926, took 39.206 s\n",
      "  Validation Found 50812 of 54504, added 1634 (eff 93.23%) (0.164 FP/event)\n"
     ]
    },
    {
     "data": {
      "application/vnd.jupyter.widget-view+json": {
       "model_id": "",
       "version_major": 2,
       "version_minor": 0
      },
      "text/plain": [
       "HBox(children=(FloatProgress(value=0.0, description='Training', layout=Layout(flex='2'), max=1250.0, style=Pro…"
      ]
     },
     "metadata": {},
     "output_type": "display_data"
    },
    {
     "name": "stdout",
     "output_type": "stream",
     "text": [
      "Epoch 367: train=7.98655, val=8.30188, took 39.779 s\n",
      "  Validation Found 50780 of 54504, added 1726 (eff 93.17%) (0.173 FP/event)\n"
     ]
    },
    {
     "data": {
      "application/vnd.jupyter.widget-view+json": {
       "model_id": "",
       "version_major": 2,
       "version_minor": 0
      },
      "text/plain": [
       "HBox(children=(FloatProgress(value=0.0, description='Training', layout=Layout(flex='2'), max=1250.0, style=Pro…"
      ]
     },
     "metadata": {},
     "output_type": "display_data"
    },
    {
     "name": "stdout",
     "output_type": "stream",
     "text": [
      "Epoch 368: train=7.97279, val=8.29501, took 39.688 s\n",
      "  Validation Found 50942 of 54504, added 2051 (eff 93.46%) (0.205 FP/event)\n"
     ]
    },
    {
     "data": {
      "application/vnd.jupyter.widget-view+json": {
       "model_id": "",
       "version_major": 2,
       "version_minor": 0
      },
      "text/plain": [
       "HBox(children=(FloatProgress(value=0.0, description='Training', layout=Layout(flex='2'), max=1250.0, style=Pro…"
      ]
     },
     "metadata": {},
     "output_type": "display_data"
    },
    {
     "name": "stdout",
     "output_type": "stream",
     "text": [
      "Epoch 369: train=7.97117, val=8.22213, took 40.042 s\n",
      "  Validation Found 51128 of 54504, added 2283 (eff 93.81%) (0.229 FP/event)\n"
     ]
    },
    {
     "data": {
      "application/vnd.jupyter.widget-view+json": {
       "model_id": "",
       "version_major": 2,
       "version_minor": 0
      },
      "text/plain": [
       "HBox(children=(FloatProgress(value=0.0, description='Training', layout=Layout(flex='2'), max=1250.0, style=Pro…"
      ]
     },
     "metadata": {},
     "output_type": "display_data"
    },
    {
     "name": "stdout",
     "output_type": "stream",
     "text": [
      "Epoch 370: train=7.97312, val=8.25528, took 39.021 s\n",
      "  Validation Found 50989 of 54504, added 1972 (eff 93.55%) (0.197 FP/event)\n"
     ]
    },
    {
     "data": {
      "application/vnd.jupyter.widget-view+json": {
       "model_id": "",
       "version_major": 2,
       "version_minor": 0
      },
      "text/plain": [
       "HBox(children=(FloatProgress(value=0.0, description='Training', layout=Layout(flex='2'), max=1250.0, style=Pro…"
      ]
     },
     "metadata": {},
     "output_type": "display_data"
    },
    {
     "name": "stdout",
     "output_type": "stream",
     "text": [
      "Epoch 371: train=7.96504, val=8.2031, took 39.004 s\n",
      "  Validation Found 51067 of 54504, added 2117 (eff 93.69%) (0.212 FP/event)\n"
     ]
    },
    {
     "data": {
      "application/vnd.jupyter.widget-view+json": {
       "model_id": "",
       "version_major": 2,
       "version_minor": 0
      },
      "text/plain": [
       "HBox(children=(FloatProgress(value=0.0, description='Training', layout=Layout(flex='2'), max=1250.0, style=Pro…"
      ]
     },
     "metadata": {},
     "output_type": "display_data"
    },
    {
     "name": "stdout",
     "output_type": "stream",
     "text": [
      "Epoch 372: train=7.97612, val=8.28476, took 38.989 s\n",
      "  Validation Found 51040 of 54504, added 2185 (eff 93.64%) (0.219 FP/event)\n"
     ]
    },
    {
     "data": {
      "application/vnd.jupyter.widget-view+json": {
       "model_id": "",
       "version_major": 2,
       "version_minor": 0
      },
      "text/plain": [
       "HBox(children=(FloatProgress(value=0.0, description='Training', layout=Layout(flex='2'), max=1250.0, style=Pro…"
      ]
     },
     "metadata": {},
     "output_type": "display_data"
    },
    {
     "name": "stdout",
     "output_type": "stream",
     "text": [
      "Epoch 373: train=7.96374, val=8.72502, took 38.927 s\n",
      "  Validation Found 51321 of 54504, added 3793 (eff 94.16%) (0.38 FP/event)\n"
     ]
    },
    {
     "data": {
      "application/vnd.jupyter.widget-view+json": {
       "model_id": "",
       "version_major": 2,
       "version_minor": 0
      },
      "text/plain": [
       "HBox(children=(FloatProgress(value=0.0, description='Training', layout=Layout(flex='2'), max=1250.0, style=Pro…"
      ]
     },
     "metadata": {},
     "output_type": "display_data"
    },
    {
     "name": "stdout",
     "output_type": "stream",
     "text": [
      "Epoch 374: train=7.98118, val=8.19862, took 38.908 s\n",
      "  Validation Found 50997 of 54504, added 1955 (eff 93.57%) (0.196 FP/event)\n"
     ]
    },
    {
     "data": {
      "application/vnd.jupyter.widget-view+json": {
       "model_id": "",
       "version_major": 2,
       "version_minor": 0
      },
      "text/plain": [
       "HBox(children=(FloatProgress(value=0.0, description='Training', layout=Layout(flex='2'), max=1250.0, style=Pro…"
      ]
     },
     "metadata": {},
     "output_type": "display_data"
    },
    {
     "name": "stdout",
     "output_type": "stream",
     "text": [
      "Epoch 375: train=7.98076, val=8.27122, took 38.948 s\n",
      "  Validation Found 51104 of 54504, added 2191 (eff 93.76%) (0.219 FP/event)\n"
     ]
    },
    {
     "data": {
      "application/vnd.jupyter.widget-view+json": {
       "model_id": "",
       "version_major": 2,
       "version_minor": 0
      },
      "text/plain": [
       "HBox(children=(FloatProgress(value=0.0, description='Training', layout=Layout(flex='2'), max=1250.0, style=Pro…"
      ]
     },
     "metadata": {},
     "output_type": "display_data"
    },
    {
     "name": "stdout",
     "output_type": "stream",
     "text": [
      "Epoch 376: train=7.96539, val=8.334, took 38.97 s\n",
      "  Validation Found 50978 of 54504, added 2087 (eff 93.53%) (0.209 FP/event)\n"
     ]
    },
    {
     "data": {
      "application/vnd.jupyter.widget-view+json": {
       "model_id": "",
       "version_major": 2,
       "version_minor": 0
      },
      "text/plain": [
       "HBox(children=(FloatProgress(value=0.0, description='Training', layout=Layout(flex='2'), max=1250.0, style=Pro…"
      ]
     },
     "metadata": {},
     "output_type": "display_data"
    },
    {
     "name": "stdout",
     "output_type": "stream",
     "text": [
      "Epoch 377: train=7.97226, val=8.33973, took 38.993 s\n",
      "  Validation Found 51034 of 54504, added 2145 (eff 93.63%) (0.215 FP/event)\n"
     ]
    },
    {
     "data": {
      "application/vnd.jupyter.widget-view+json": {
       "model_id": "",
       "version_major": 2,
       "version_minor": 0
      },
      "text/plain": [
       "HBox(children=(FloatProgress(value=0.0, description='Training', layout=Layout(flex='2'), max=1250.0, style=Pro…"
      ]
     },
     "metadata": {},
     "output_type": "display_data"
    },
    {
     "name": "stdout",
     "output_type": "stream",
     "text": [
      "Epoch 378: train=7.96097, val=8.39444, took 39.436 s\n",
      "  Validation Found 50618 of 54504, added 1588 (eff 92.87%) (0.159 FP/event)\n"
     ]
    },
    {
     "data": {
      "application/vnd.jupyter.widget-view+json": {
       "model_id": "",
       "version_major": 2,
       "version_minor": 0
      },
      "text/plain": [
       "HBox(children=(FloatProgress(value=0.0, description='Training', layout=Layout(flex='2'), max=1250.0, style=Pro…"
      ]
     },
     "metadata": {},
     "output_type": "display_data"
    },
    {
     "name": "stdout",
     "output_type": "stream",
     "text": [
      "Epoch 379: train=7.96324, val=8.1754, took 39.078 s\n",
      "  Validation Found 51139 of 54504, added 2299 (eff 93.83%) (0.23 FP/event)\n"
     ]
    },
    {
     "data": {
      "application/vnd.jupyter.widget-view+json": {
       "model_id": "",
       "version_major": 2,
       "version_minor": 0
      },
      "text/plain": [
       "HBox(children=(FloatProgress(value=0.0, description='Training', layout=Layout(flex='2'), max=1250.0, style=Pro…"
      ]
     },
     "metadata": {},
     "output_type": "display_data"
    },
    {
     "name": "stdout",
     "output_type": "stream",
     "text": [
      "Epoch 380: train=7.96385, val=8.19635, took 38.902 s\n",
      "  Validation Found 51065 of 54504, added 1976 (eff 93.69%) (0.198 FP/event)\n"
     ]
    },
    {
     "data": {
      "application/vnd.jupyter.widget-view+json": {
       "model_id": "",
       "version_major": 2,
       "version_minor": 0
      },
      "text/plain": [
       "HBox(children=(FloatProgress(value=0.0, description='Training', layout=Layout(flex='2'), max=1250.0, style=Pro…"
      ]
     },
     "metadata": {},
     "output_type": "display_data"
    },
    {
     "name": "stdout",
     "output_type": "stream",
     "text": [
      "Epoch 381: train=7.95603, val=8.75297, took 38.898 s\n",
      "  Validation Found 51344 of 54504, added 4355 (eff 94.20%) (0.436 FP/event)\n"
     ]
    },
    {
     "data": {
      "application/vnd.jupyter.widget-view+json": {
       "model_id": "",
       "version_major": 2,
       "version_minor": 0
      },
      "text/plain": [
       "HBox(children=(FloatProgress(value=0.0, description='Training', layout=Layout(flex='2'), max=1250.0, style=Pro…"
      ]
     },
     "metadata": {},
     "output_type": "display_data"
    },
    {
     "name": "stdout",
     "output_type": "stream",
     "text": [
      "Epoch 382: train=7.96371, val=8.29491, took 39.994 s\n",
      "  Validation Found 51312 of 54504, added 2900 (eff 94.14%) (0.29 FP/event)\n"
     ]
    },
    {
     "data": {
      "application/vnd.jupyter.widget-view+json": {
       "model_id": "",
       "version_major": 2,
       "version_minor": 0
      },
      "text/plain": [
       "HBox(children=(FloatProgress(value=0.0, description='Training', layout=Layout(flex='2'), max=1250.0, style=Pro…"
      ]
     },
     "metadata": {},
     "output_type": "display_data"
    },
    {
     "name": "stdout",
     "output_type": "stream",
     "text": [
      "Epoch 383: train=7.95507, val=8.41531, took 39.646 s\n",
      "  Validation Found 50657 of 54504, added 1532 (eff 92.94%) (0.153 FP/event)\n"
     ]
    },
    {
     "data": {
      "application/vnd.jupyter.widget-view+json": {
       "model_id": "",
       "version_major": 2,
       "version_minor": 0
      },
      "text/plain": [
       "HBox(children=(FloatProgress(value=0.0, description='Training', layout=Layout(flex='2'), max=1250.0, style=Pro…"
      ]
     },
     "metadata": {},
     "output_type": "display_data"
    },
    {
     "name": "stdout",
     "output_type": "stream",
     "text": [
      "Epoch 384: train=7.95634, val=8.26673, took 39.073 s\n",
      "  Validation Found 51188 of 54504, added 2387 (eff 93.92%) (0.239 FP/event)\n"
     ]
    },
    {
     "data": {
      "application/vnd.jupyter.widget-view+json": {
       "model_id": "",
       "version_major": 2,
       "version_minor": 0
      },
      "text/plain": [
       "HBox(children=(FloatProgress(value=0.0, description='Training', layout=Layout(flex='2'), max=1250.0, style=Pro…"
      ]
     },
     "metadata": {},
     "output_type": "display_data"
    },
    {
     "name": "stdout",
     "output_type": "stream",
     "text": [
      "Epoch 385: train=7.95238, val=8.29577, took 39.375 s\n",
      "  Validation Found 50988 of 54504, added 1996 (eff 93.55%) (0.2 FP/event)\n"
     ]
    },
    {
     "data": {
      "application/vnd.jupyter.widget-view+json": {
       "model_id": "",
       "version_major": 2,
       "version_minor": 0
      },
      "text/plain": [
       "HBox(children=(FloatProgress(value=0.0, description='Training', layout=Layout(flex='2'), max=1250.0, style=Pro…"
      ]
     },
     "metadata": {},
     "output_type": "display_data"
    },
    {
     "name": "stdout",
     "output_type": "stream",
     "text": [
      "Epoch 386: train=7.95589, val=8.29656, took 39.365 s\n",
      "  Validation Found 51231 of 54504, added 2843 (eff 93.99%) (0.285 FP/event)\n"
     ]
    },
    {
     "data": {
      "application/vnd.jupyter.widget-view+json": {
       "model_id": "",
       "version_major": 2,
       "version_minor": 0
      },
      "text/plain": [
       "HBox(children=(FloatProgress(value=0.0, description='Training', layout=Layout(flex='2'), max=1250.0, style=Pro…"
      ]
     },
     "metadata": {},
     "output_type": "display_data"
    },
    {
     "name": "stdout",
     "output_type": "stream",
     "text": [
      "Epoch 387: train=7.95247, val=8.28954, took 39.375 s\n",
      "  Validation Found 51127 of 54504, added 2320 (eff 93.80%) (0.232 FP/event)\n"
     ]
    },
    {
     "data": {
      "application/vnd.jupyter.widget-view+json": {
       "model_id": "",
       "version_major": 2,
       "version_minor": 0
      },
      "text/plain": [
       "HBox(children=(FloatProgress(value=0.0, description='Training', layout=Layout(flex='2'), max=1250.0, style=Pro…"
      ]
     },
     "metadata": {},
     "output_type": "display_data"
    },
    {
     "name": "stdout",
     "output_type": "stream",
     "text": [
      "Epoch 388: train=7.94789, val=10.123, took 39.375 s\n",
      "  Validation Found 51317 of 54504, added 6764 (eff 94.15%) (0.677 FP/event)\n"
     ]
    },
    {
     "data": {
      "application/vnd.jupyter.widget-view+json": {
       "model_id": "",
       "version_major": 2,
       "version_minor": 0
      },
      "text/plain": [
       "HBox(children=(FloatProgress(value=0.0, description='Training', layout=Layout(flex='2'), max=1250.0, style=Pro…"
      ]
     },
     "metadata": {},
     "output_type": "display_data"
    },
    {
     "name": "stdout",
     "output_type": "stream",
     "text": [
      "Epoch 389: train=7.95522, val=8.21813, took 39.502 s\n",
      "  Validation Found 51160 of 54504, added 2214 (eff 93.86%) (0.222 FP/event)\n"
     ]
    },
    {
     "data": {
      "application/vnd.jupyter.widget-view+json": {
       "model_id": "",
       "version_major": 2,
       "version_minor": 0
      },
      "text/plain": [
       "HBox(children=(FloatProgress(value=0.0, description='Training', layout=Layout(flex='2'), max=1250.0, style=Pro…"
      ]
     },
     "metadata": {},
     "output_type": "display_data"
    },
    {
     "name": "stdout",
     "output_type": "stream",
     "text": [
      "Epoch 390: train=7.94612, val=8.16146, took 39.191 s\n",
      "  Validation Found 51056 of 54504, added 2056 (eff 93.67%) (0.206 FP/event)\n"
     ]
    },
    {
     "data": {
      "application/vnd.jupyter.widget-view+json": {
       "model_id": "",
       "version_major": 2,
       "version_minor": 0
      },
      "text/plain": [
       "HBox(children=(FloatProgress(value=0.0, description='Training', layout=Layout(flex='2'), max=1250.0, style=Pro…"
      ]
     },
     "metadata": {},
     "output_type": "display_data"
    },
    {
     "name": "stdout",
     "output_type": "stream",
     "text": [
      "Epoch 391: train=7.95052, val=8.27689, took 39.448 s\n",
      "  Validation Found 50776 of 54504, added 1649 (eff 93.16%) (0.165 FP/event)\n"
     ]
    },
    {
     "data": {
      "application/vnd.jupyter.widget-view+json": {
       "model_id": "",
       "version_major": 2,
       "version_minor": 0
      },
      "text/plain": [
       "HBox(children=(FloatProgress(value=0.0, description='Training', layout=Layout(flex='2'), max=1250.0, style=Pro…"
      ]
     },
     "metadata": {},
     "output_type": "display_data"
    },
    {
     "name": "stdout",
     "output_type": "stream",
     "text": [
      "Epoch 392: train=7.94743, val=8.50456, took 39.209 s\n",
      "  Validation Found 51203 of 54504, added 3128 (eff 93.94%) (0.313 FP/event)\n"
     ]
    },
    {
     "data": {
      "application/vnd.jupyter.widget-view+json": {
       "model_id": "",
       "version_major": 2,
       "version_minor": 0
      },
      "text/plain": [
       "HBox(children=(FloatProgress(value=0.0, description='Training', layout=Layout(flex='2'), max=1250.0, style=Pro…"
      ]
     },
     "metadata": {},
     "output_type": "display_data"
    },
    {
     "name": "stdout",
     "output_type": "stream",
     "text": [
      "Epoch 393: train=7.94357, val=8.20306, took 38.987 s\n",
      "  Validation Found 51041 of 54504, added 2013 (eff 93.65%) (0.202 FP/event)\n"
     ]
    },
    {
     "data": {
      "application/vnd.jupyter.widget-view+json": {
       "model_id": "",
       "version_major": 2,
       "version_minor": 0
      },
      "text/plain": [
       "HBox(children=(FloatProgress(value=0.0, description='Training', layout=Layout(flex='2'), max=1250.0, style=Pro…"
      ]
     },
     "metadata": {},
     "output_type": "display_data"
    },
    {
     "name": "stdout",
     "output_type": "stream",
     "text": [
      "Epoch 394: train=7.94184, val=8.22362, took 39.199 s\n",
      "  Validation Found 51071 of 54504, added 2014 (eff 93.70%) (0.202 FP/event)\n"
     ]
    },
    {
     "data": {
      "application/vnd.jupyter.widget-view+json": {
       "model_id": "",
       "version_major": 2,
       "version_minor": 0
      },
      "text/plain": [
       "HBox(children=(FloatProgress(value=0.0, description='Training', layout=Layout(flex='2'), max=1250.0, style=Pro…"
      ]
     },
     "metadata": {},
     "output_type": "display_data"
    },
    {
     "name": "stdout",
     "output_type": "stream",
     "text": [
      "Epoch 395: train=7.95076, val=8.21394, took 39.022 s\n",
      "  Validation Found 50891 of 54504, added 1895 (eff 93.37%) (0.19 FP/event)\n"
     ]
    },
    {
     "data": {
      "application/vnd.jupyter.widget-view+json": {
       "model_id": "",
       "version_major": 2,
       "version_minor": 0
      },
      "text/plain": [
       "HBox(children=(FloatProgress(value=0.0, description='Training', layout=Layout(flex='2'), max=1250.0, style=Pro…"
      ]
     },
     "metadata": {},
     "output_type": "display_data"
    },
    {
     "name": "stdout",
     "output_type": "stream",
     "text": [
      "Epoch 396: train=7.95118, val=8.258, took 39.032 s\n",
      "  Validation Found 51063 of 54504, added 2115 (eff 93.69%) (0.212 FP/event)\n"
     ]
    },
    {
     "data": {
      "application/vnd.jupyter.widget-view+json": {
       "model_id": "",
       "version_major": 2,
       "version_minor": 0
      },
      "text/plain": [
       "HBox(children=(FloatProgress(value=0.0, description='Training', layout=Layout(flex='2'), max=1250.0, style=Pro…"
      ]
     },
     "metadata": {},
     "output_type": "display_data"
    },
    {
     "name": "stdout",
     "output_type": "stream",
     "text": [
      "Epoch 397: train=7.95303, val=8.28133, took 38.9 s\n",
      "  Validation Found 50913 of 54504, added 1897 (eff 93.41%) (0.19 FP/event)\n"
     ]
    },
    {
     "data": {
      "application/vnd.jupyter.widget-view+json": {
       "model_id": "",
       "version_major": 2,
       "version_minor": 0
      },
      "text/plain": [
       "HBox(children=(FloatProgress(value=0.0, description='Training', layout=Layout(flex='2'), max=1250.0, style=Pro…"
      ]
     },
     "metadata": {},
     "output_type": "display_data"
    },
    {
     "name": "stdout",
     "output_type": "stream",
     "text": [
      "Epoch 398: train=7.94041, val=8.19486, took 38.912 s\n",
      "  Validation Found 51070 of 54504, added 2006 (eff 93.70%) (0.201 FP/event)\n"
     ]
    },
    {
     "data": {
      "application/vnd.jupyter.widget-view+json": {
       "model_id": "",
       "version_major": 2,
       "version_minor": 0
      },
      "text/plain": [
       "HBox(children=(FloatProgress(value=0.0, description='Training', layout=Layout(flex='2'), max=1250.0, style=Pro…"
      ]
     },
     "metadata": {},
     "output_type": "display_data"
    },
    {
     "name": "stdout",
     "output_type": "stream",
     "text": [
      "Epoch 399: train=7.94973, val=8.32954, took 38.896 s\n",
      "  Validation Found 51180 of 54504, added 2589 (eff 93.90%) (0.259 FP/event)\n"
     ]
    },
    {
     "data": {
      "application/vnd.jupyter.widget-view+json": {
       "model_id": "",
       "version_major": 2,
       "version_minor": 0
      },
      "text/plain": [
       "HBox(children=(FloatProgress(value=0.0, description='Training', layout=Layout(flex='2'), max=1250.0, style=Pro…"
      ]
     },
     "metadata": {},
     "output_type": "display_data"
    },
    {
     "name": "stdout",
     "output_type": "stream",
     "text": [
      "Epoch 400: train=7.93993, val=8.25062, took 38.883 s\n",
      "  Validation Found 50937 of 54504, added 1776 (eff 93.46%) (0.178 FP/event)\n"
     ]
    },
    {
     "data": {
      "application/vnd.jupyter.widget-view+json": {
       "model_id": "",
       "version_major": 2,
       "version_minor": 0
      },
      "text/plain": [
       "HBox(children=(FloatProgress(value=0.0, description='Training', layout=Layout(flex='2'), max=1250.0, style=Pro…"
      ]
     },
     "metadata": {},
     "output_type": "display_data"
    },
    {
     "name": "stdout",
     "output_type": "stream",
     "text": [
      "Epoch 401: train=7.93723, val=8.1861, took 38.9 s\n",
      "  Validation Found 51092 of 54504, added 2079 (eff 93.74%) (0.208 FP/event)\n"
     ]
    },
    {
     "data": {
      "application/vnd.jupyter.widget-view+json": {
       "model_id": "",
       "version_major": 2,
       "version_minor": 0
      },
      "text/plain": [
       "HBox(children=(FloatProgress(value=0.0, description='Training', layout=Layout(flex='2'), max=1250.0, style=Pro…"
      ]
     },
     "metadata": {},
     "output_type": "display_data"
    },
    {
     "name": "stdout",
     "output_type": "stream",
     "text": [
      "Epoch 402: train=7.94396, val=8.24551, took 39.287 s\n",
      "  Validation Found 51177 of 54504, added 2317 (eff 93.90%) (0.232 FP/event)\n"
     ]
    },
    {
     "data": {
      "application/vnd.jupyter.widget-view+json": {
       "model_id": "",
       "version_major": 2,
       "version_minor": 0
      },
      "text/plain": [
       "HBox(children=(FloatProgress(value=0.0, description='Training', layout=Layout(flex='2'), max=1250.0, style=Pro…"
      ]
     },
     "metadata": {},
     "output_type": "display_data"
    },
    {
     "name": "stdout",
     "output_type": "stream",
     "text": [
      "Epoch 403: train=7.93961, val=8.23756, took 39.17 s\n",
      "  Validation Found 50868 of 54504, added 1799 (eff 93.33%) (0.18 FP/event)\n"
     ]
    },
    {
     "data": {
      "application/vnd.jupyter.widget-view+json": {
       "model_id": "",
       "version_major": 2,
       "version_minor": 0
      },
      "text/plain": [
       "HBox(children=(FloatProgress(value=0.0, description='Training', layout=Layout(flex='2'), max=1250.0, style=Pro…"
      ]
     },
     "metadata": {},
     "output_type": "display_data"
    },
    {
     "name": "stdout",
     "output_type": "stream",
     "text": [
      "Epoch 404: train=7.94507, val=8.23067, took 39.031 s\n",
      "  Validation Found 51178 of 54504, added 2340 (eff 93.90%) (0.234 FP/event)\n"
     ]
    },
    {
     "data": {
      "application/vnd.jupyter.widget-view+json": {
       "model_id": "",
       "version_major": 2,
       "version_minor": 0
      },
      "text/plain": [
       "HBox(children=(FloatProgress(value=0.0, description='Training', layout=Layout(flex='2'), max=1250.0, style=Pro…"
      ]
     },
     "metadata": {},
     "output_type": "display_data"
    },
    {
     "name": "stdout",
     "output_type": "stream",
     "text": [
      "Epoch 405: train=7.94247, val=8.26969, took 39.661 s\n",
      "  Validation Found 51294 of 54504, added 2713 (eff 94.11%) (0.272 FP/event)\n"
     ]
    },
    {
     "data": {
      "application/vnd.jupyter.widget-view+json": {
       "model_id": "",
       "version_major": 2,
       "version_minor": 0
      },
      "text/plain": [
       "HBox(children=(FloatProgress(value=0.0, description='Training', layout=Layout(flex='2'), max=1250.0, style=Pro…"
      ]
     },
     "metadata": {},
     "output_type": "display_data"
    },
    {
     "name": "stdout",
     "output_type": "stream",
     "text": [
      "Epoch 406: train=7.93445, val=8.36839, took 40.189 s\n",
      "  Validation Found 50796 of 54504, added 1640 (eff 93.20%) (0.164 FP/event)\n"
     ]
    },
    {
     "data": {
      "application/vnd.jupyter.widget-view+json": {
       "model_id": "",
       "version_major": 2,
       "version_minor": 0
      },
      "text/plain": [
       "HBox(children=(FloatProgress(value=0.0, description='Training', layout=Layout(flex='2'), max=1250.0, style=Pro…"
      ]
     },
     "metadata": {},
     "output_type": "display_data"
    },
    {
     "name": "stdout",
     "output_type": "stream",
     "text": [
      "Epoch 407: train=7.941, val=8.22352, took 38.892 s\n",
      "  Validation Found 51230 of 54504, added 2411 (eff 93.99%) (0.241 FP/event)\n"
     ]
    },
    {
     "data": {
      "application/vnd.jupyter.widget-view+json": {
       "model_id": "",
       "version_major": 2,
       "version_minor": 0
      },
      "text/plain": [
       "HBox(children=(FloatProgress(value=0.0, description='Training', layout=Layout(flex='2'), max=1250.0, style=Pro…"
      ]
     },
     "metadata": {},
     "output_type": "display_data"
    },
    {
     "name": "stdout",
     "output_type": "stream",
     "text": [
      "Epoch 408: train=7.93964, val=8.15102, took 38.872 s\n",
      "  Validation Found 51206 of 54504, added 2382 (eff 93.95%) (0.239 FP/event)\n"
     ]
    },
    {
     "data": {
      "application/vnd.jupyter.widget-view+json": {
       "model_id": "",
       "version_major": 2,
       "version_minor": 0
      },
      "text/plain": [
       "HBox(children=(FloatProgress(value=0.0, description='Training', layout=Layout(flex='2'), max=1250.0, style=Pro…"
      ]
     },
     "metadata": {},
     "output_type": "display_data"
    },
    {
     "name": "stdout",
     "output_type": "stream",
     "text": [
      "Epoch 409: train=7.94589, val=8.21288, took 39.018 s\n",
      "  Validation Found 50897 of 54504, added 1790 (eff 93.38%) (0.179 FP/event)\n"
     ]
    },
    {
     "data": {
      "application/vnd.jupyter.widget-view+json": {
       "model_id": "",
       "version_major": 2,
       "version_minor": 0
      },
      "text/plain": [
       "HBox(children=(FloatProgress(value=0.0, description='Training', layout=Layout(flex='2'), max=1250.0, style=Pro…"
      ]
     },
     "metadata": {},
     "output_type": "display_data"
    },
    {
     "name": "stdout",
     "output_type": "stream",
     "text": [
      "Epoch 410: train=7.93779, val=8.19565, took 39.108 s\n",
      "  Validation Found 50955 of 54504, added 1840 (eff 93.49%) (0.184 FP/event)\n"
     ]
    },
    {
     "data": {
      "application/vnd.jupyter.widget-view+json": {
       "model_id": "",
       "version_major": 2,
       "version_minor": 0
      },
      "text/plain": [
       "HBox(children=(FloatProgress(value=0.0, description='Training', layout=Layout(flex='2'), max=1250.0, style=Pro…"
      ]
     },
     "metadata": {},
     "output_type": "display_data"
    },
    {
     "name": "stdout",
     "output_type": "stream",
     "text": [
      "Epoch 411: train=7.94229, val=8.59417, took 38.982 s\n",
      "  Validation Found 51171 of 54504, added 3320 (eff 93.88%) (0.332 FP/event)\n"
     ]
    },
    {
     "data": {
      "application/vnd.jupyter.widget-view+json": {
       "model_id": "",
       "version_major": 2,
       "version_minor": 0
      },
      "text/plain": [
       "HBox(children=(FloatProgress(value=0.0, description='Training', layout=Layout(flex='2'), max=1250.0, style=Pro…"
      ]
     },
     "metadata": {},
     "output_type": "display_data"
    },
    {
     "name": "stdout",
     "output_type": "stream",
     "text": [
      "Epoch 412: train=7.9359, val=8.13992, took 40.118 s\n",
      "  Validation Found 51124 of 54504, added 2201 (eff 93.80%) (0.22 FP/event)\n"
     ]
    },
    {
     "data": {
      "application/vnd.jupyter.widget-view+json": {
       "model_id": "",
       "version_major": 2,
       "version_minor": 0
      },
      "text/plain": [
       "HBox(children=(FloatProgress(value=0.0, description='Training', layout=Layout(flex='2'), max=1250.0, style=Pro…"
      ]
     },
     "metadata": {},
     "output_type": "display_data"
    },
    {
     "name": "stdout",
     "output_type": "stream",
     "text": [
      "Epoch 413: train=7.94333, val=8.14819, took 39.929 s\n",
      "  Validation Found 50994 of 54504, added 1942 (eff 93.56%) (0.194 FP/event)\n"
     ]
    },
    {
     "data": {
      "application/vnd.jupyter.widget-view+json": {
       "model_id": "",
       "version_major": 2,
       "version_minor": 0
      },
      "text/plain": [
       "HBox(children=(FloatProgress(value=0.0, description='Training', layout=Layout(flex='2'), max=1250.0, style=Pro…"
      ]
     },
     "metadata": {},
     "output_type": "display_data"
    },
    {
     "name": "stdout",
     "output_type": "stream",
     "text": [
      "Epoch 414: train=7.93089, val=13.7372, took 39.927 s\n",
      "  Validation Found 51361 of 54504, added 12123 (eff 94.23%) (1.21 FP/event)\n"
     ]
    },
    {
     "data": {
      "application/vnd.jupyter.widget-view+json": {
       "model_id": "",
       "version_major": 2,
       "version_minor": 0
      },
      "text/plain": [
       "HBox(children=(FloatProgress(value=0.0, description='Training', layout=Layout(flex='2'), max=1250.0, style=Pro…"
      ]
     },
     "metadata": {},
     "output_type": "display_data"
    },
    {
     "name": "stdout",
     "output_type": "stream",
     "text": [
      "Epoch 415: train=7.93023, val=8.17838, took 39.919 s\n",
      "  Validation Found 51054 of 54504, added 2099 (eff 93.67%) (0.21 FP/event)\n"
     ]
    },
    {
     "data": {
      "application/vnd.jupyter.widget-view+json": {
       "model_id": "",
       "version_major": 2,
       "version_minor": 0
      },
      "text/plain": [
       "HBox(children=(FloatProgress(value=0.0, description='Training', layout=Layout(flex='2'), max=1250.0, style=Pro…"
      ]
     },
     "metadata": {},
     "output_type": "display_data"
    },
    {
     "name": "stdout",
     "output_type": "stream",
     "text": [
      "Epoch 416: train=7.93513, val=8.1461, took 39.925 s\n",
      "  Validation Found 51280 of 54504, added 2454 (eff 94.08%) (0.246 FP/event)\n"
     ]
    },
    {
     "data": {
      "application/vnd.jupyter.widget-view+json": {
       "model_id": "",
       "version_major": 2,
       "version_minor": 0
      },
      "text/plain": [
       "HBox(children=(FloatProgress(value=0.0, description='Training', layout=Layout(flex='2'), max=1250.0, style=Pro…"
      ]
     },
     "metadata": {},
     "output_type": "display_data"
    },
    {
     "name": "stdout",
     "output_type": "stream",
     "text": [
      "Epoch 417: train=7.93131, val=8.21359, took 39.927 s\n",
      "  Validation Found 51139 of 54504, added 2351 (eff 93.83%) (0.235 FP/event)\n"
     ]
    },
    {
     "data": {
      "application/vnd.jupyter.widget-view+json": {
       "model_id": "",
       "version_major": 2,
       "version_minor": 0
      },
      "text/plain": [
       "HBox(children=(FloatProgress(value=0.0, description='Training', layout=Layout(flex='2'), max=1250.0, style=Pro…"
      ]
     },
     "metadata": {},
     "output_type": "display_data"
    },
    {
     "name": "stdout",
     "output_type": "stream",
     "text": [
      "Epoch 418: train=7.92894, val=8.28375, took 39.7 s\n",
      "  Validation Found 50929 of 54504, added 1742 (eff 93.44%) (0.174 FP/event)\n"
     ]
    },
    {
     "data": {
      "application/vnd.jupyter.widget-view+json": {
       "model_id": "",
       "version_major": 2,
       "version_minor": 0
      },
      "text/plain": [
       "HBox(children=(FloatProgress(value=0.0, description='Training', layout=Layout(flex='2'), max=1250.0, style=Pro…"
      ]
     },
     "metadata": {},
     "output_type": "display_data"
    },
    {
     "name": "stdout",
     "output_type": "stream",
     "text": [
      "Epoch 419: train=7.92601, val=8.16893, took 39.341 s\n",
      "  Validation Found 51425 of 54504, added 3128 (eff 94.35%) (0.313 FP/event)\n"
     ]
    },
    {
     "data": {
      "application/vnd.jupyter.widget-view+json": {
       "model_id": "",
       "version_major": 2,
       "version_minor": 0
      },
      "text/plain": [
       "HBox(children=(FloatProgress(value=0.0, description='Training', layout=Layout(flex='2'), max=1250.0, style=Pro…"
      ]
     },
     "metadata": {},
     "output_type": "display_data"
    },
    {
     "name": "stdout",
     "output_type": "stream",
     "text": [
      "Epoch 420: train=7.92553, val=8.14245, took 38.905 s\n",
      "  Validation Found 51217 of 54504, added 2442 (eff 93.97%) (0.245 FP/event)\n"
     ]
    },
    {
     "data": {
      "application/vnd.jupyter.widget-view+json": {
       "model_id": "",
       "version_major": 2,
       "version_minor": 0
      },
      "text/plain": [
       "HBox(children=(FloatProgress(value=0.0, description='Training', layout=Layout(flex='2'), max=1250.0, style=Pro…"
      ]
     },
     "metadata": {},
     "output_type": "display_data"
    },
    {
     "name": "stdout",
     "output_type": "stream",
     "text": [
      "Epoch 421: train=7.93236, val=8.12996, took 38.913 s\n",
      "  Validation Found 51201 of 54504, added 2477 (eff 93.94%) (0.248 FP/event)\n"
     ]
    },
    {
     "data": {
      "application/vnd.jupyter.widget-view+json": {
       "model_id": "",
       "version_major": 2,
       "version_minor": 0
      },
      "text/plain": [
       "HBox(children=(FloatProgress(value=0.0, description='Training', layout=Layout(flex='2'), max=1250.0, style=Pro…"
      ]
     },
     "metadata": {},
     "output_type": "display_data"
    },
    {
     "name": "stdout",
     "output_type": "stream",
     "text": [
      "Epoch 422: train=7.92886, val=8.19174, took 38.909 s\n",
      "  Validation Found 51008 of 54504, added 1943 (eff 93.59%) (0.195 FP/event)\n"
     ]
    },
    {
     "data": {
      "application/vnd.jupyter.widget-view+json": {
       "model_id": "",
       "version_major": 2,
       "version_minor": 0
      },
      "text/plain": [
       "HBox(children=(FloatProgress(value=0.0, description='Training', layout=Layout(flex='2'), max=1250.0, style=Pro…"
      ]
     },
     "metadata": {},
     "output_type": "display_data"
    },
    {
     "name": "stdout",
     "output_type": "stream",
     "text": [
      "Epoch 423: train=7.92794, val=8.37857, took 39.064 s\n",
      "  Validation Found 50811 of 54504, added 1661 (eff 93.22%) (0.166 FP/event)\n"
     ]
    },
    {
     "data": {
      "application/vnd.jupyter.widget-view+json": {
       "model_id": "",
       "version_major": 2,
       "version_minor": 0
      },
      "text/plain": [
       "HBox(children=(FloatProgress(value=0.0, description='Training', layout=Layout(flex='2'), max=1250.0, style=Pro…"
      ]
     },
     "metadata": {},
     "output_type": "display_data"
    },
    {
     "name": "stdout",
     "output_type": "stream",
     "text": [
      "Epoch 424: train=7.91874, val=8.12636, took 39.196 s\n",
      "  Validation Found 51195 of 54504, added 2307 (eff 93.93%) (0.231 FP/event)\n"
     ]
    },
    {
     "data": {
      "application/vnd.jupyter.widget-view+json": {
       "model_id": "",
       "version_major": 2,
       "version_minor": 0
      },
      "text/plain": [
       "HBox(children=(FloatProgress(value=0.0, description='Training', layout=Layout(flex='2'), max=1250.0, style=Pro…"
      ]
     },
     "metadata": {},
     "output_type": "display_data"
    },
    {
     "name": "stdout",
     "output_type": "stream",
     "text": [
      "Epoch 425: train=7.92771, val=8.17632, took 39.267 s\n",
      "  Validation Found 51144 of 54504, added 2237 (eff 93.84%) (0.224 FP/event)\n"
     ]
    },
    {
     "data": {
      "application/vnd.jupyter.widget-view+json": {
       "model_id": "",
       "version_major": 2,
       "version_minor": 0
      },
      "text/plain": [
       "HBox(children=(FloatProgress(value=0.0, description='Training', layout=Layout(flex='2'), max=1250.0, style=Pro…"
      ]
     },
     "metadata": {},
     "output_type": "display_data"
    },
    {
     "name": "stdout",
     "output_type": "stream",
     "text": [
      "Epoch 426: train=7.93544, val=8.26566, took 39.273 s\n",
      "  Validation Found 50936 of 54504, added 1922 (eff 93.45%) (0.192 FP/event)\n"
     ]
    },
    {
     "data": {
      "application/vnd.jupyter.widget-view+json": {
       "model_id": "",
       "version_major": 2,
       "version_minor": 0
      },
      "text/plain": [
       "HBox(children=(FloatProgress(value=0.0, description='Training', layout=Layout(flex='2'), max=1250.0, style=Pro…"
      ]
     },
     "metadata": {},
     "output_type": "display_data"
    },
    {
     "name": "stdout",
     "output_type": "stream",
     "text": [
      "Epoch 427: train=7.91736, val=8.22898, took 38.951 s\n",
      "  Validation Found 51248 of 54504, added 2633 (eff 94.03%) (0.264 FP/event)\n"
     ]
    },
    {
     "data": {
      "application/vnd.jupyter.widget-view+json": {
       "model_id": "c8ca6d4b493142cb86b5959dc90e8b81",
       "version_major": 2,
       "version_minor": 0
      },
      "text/plain": [
       "HBox(children=(FloatProgress(value=0.0, description='Training', layout=Layout(flex='2'), max=1250.0, style=Pro…"
      ]
     },
     "metadata": {},
     "output_type": "display_data"
    }
   ],
   "source": [
    "print('for model: ', model)   \n",
    "run_name = 'ACNN E'\n",
    "# Create an mlflow run\n",
    "with mlflow.start_run(run_name=run_name) as run:\n",
    "    # Log parameters of the model\n",
    "    for key, value in vars(args).items():\n",
    "        print(key, value)\n",
    "        mlflow.log_param(key, value)\n",
    "    \n",
    "    # Log parameter count in the model\n",
    "    mlflow.log_param('Parameters', count_parameters(model))\n",
    "    \n",
    "    # Begin run\n",
    "    for result in trainNet(model, optimizer, loss,\n",
    "                            train_loader, val_loader,\n",
    "                            args.epochs+args.epoch_start, epoch_start=args.epoch_start,\n",
    "                            notebook=True, device=device):\n",
    "\n",
    "        result = result._asdict()\n",
    "        results = results.append(pd.Series(result), ignore_index=True)\n",
    "    \n",
    "        xs = results.index\n",
    "    \n",
    "        # Update the plot above\n",
    "        lines['train'].set_data(results.index,results.cost)\n",
    "        lines['val'].set_data(results.index,results.val)\n",
    "    \n",
    "        #filter first cost epoch (can be really large)\n",
    "        max_cost = max(max(results.cost if len(results.cost)<2 else results.cost[1:]), max(results.val))\n",
    "        min_cost = min(min(results.cost), min(results.val))\n",
    "    \n",
    "        # The plot limits need updating too\n",
    "        ax.set_ylim(min_cost*.9, max_cost*1.1)  \n",
    "        ax.set_xlim(-.5, len(results.cost) - .5)\n",
    "    \n",
    "        replace_in_ax(lax, lines['eff'], xs, results['eff_val'].apply(lambda x: x.eff_rate))\n",
    "        replace_in_ax(tax, lines['fp'], xs, results['eff_val'].apply(lambda x: x.fp_rate))\n",
    "    \n",
    "        # Redraw the figure\n",
    "        fig.canvas.draw()\n",
    "            \n",
    "        ## MLFLOW ##\n",
    "        # Log metrics\n",
    "        mlflow.log_metric('Efficiency', result['eff_val'].eff_rate, result['epoch'])\n",
    "        mlflow.log_metric('False Positive Rate',  result['eff_val'].fp_rate, result['epoch'])\n",
    "        mlflow.log_metric('Validation Loss',  result['val'], result['epoch'])\n",
    "        mlflow.log_metric('Training Loss',  result['cost'], result['epoch'])\n",
    "            \n",
    "        # Log tags\n",
    "#        mlflow.set_tag('Optimizer', 'Adam')\n",
    "#        mlflow.set_tag('Kernel size', 'Mixed')\n",
    "#        mlflow.set_tag('Skip connections', '4')\n",
    "#        mlflow.set_tag('Activation', 'Softplus')\n",
    "#        mlflow.set_tag('Mid Activation', 'Relu')\n",
    "        mlflow.set_tag('Extra Data', 'False')\n",
    "\n",
    "        # Save model state dictionary, optimizer state dictionary, and epoch number\n",
    "        torch.save({\n",
    "            'model':model.state_dict(),\n",
    "            'optimizer':optimizer.state_dict(),\n",
    "            'epoch':args.epochs+result['epoch']\n",
    "            }, 'run_stats.pyt')\n",
    "        # Save the run stats into mlflow\n",
    "        mlflow.log_artifact('run_stats.pyt')\n",
    "            \n",
    "        # Save a diagram of the architecture\n",
    "#        HL.transforms.Fold(\"Conv\", \"Conv\"),\n",
    "#        HL.build_graph(model, torch.zeros([args.batch_size, 1, 4000]).to(device)).save('architecture', format='png')\n",
    "#        mlflow.log_artifact('architecture.png')\n",
    "        \n",
    "        # log the code for the model architecture\n",
    "#        mlflow.log_artifact('architecture.txt')\n",
    "        \n",
    "    dual_train_plots(results.index,\n",
    "                 results.cost, results.val, \n",
    "                 results['eff_val'].apply(lambda x: x.eff_rate),\n",
    "                 results['eff_val'].apply(lambda x: x.fp_rate))\n",
    "    # save plot\n",
    "    plt.tight_layout()\n",
    "    plt.savefig('plot.png')\n",
    "    mlflow.log_artifact('plot.png')"
   ]
  },
  {
   "cell_type": "code",
   "execution_count": null,
   "metadata": {},
   "outputs": [],
   "source": [
    "##quit()"
   ]
  }
 ],
 "metadata": {
  "kernelspec": {
   "display_name": "goofit-june2020",
   "language": "python",
   "name": "goofit-june2020"
  },
  "language_info": {
   "codemirror_mode": {
    "name": "ipython",
    "version": 3
   },
   "file_extension": ".py",
   "mimetype": "text/x-python",
   "name": "python",
   "nbconvert_exporter": "python",
   "pygments_lexer": "ipython3",
   "version": "3.7.6"
  }
 },
 "nbformat": 4,
 "nbformat_minor": 2
}
