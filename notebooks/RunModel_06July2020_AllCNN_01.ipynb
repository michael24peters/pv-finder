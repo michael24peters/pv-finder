{
 "cells": [
  {
   "cell_type": "code",
   "execution_count": 1,
   "metadata": {},
   "outputs": [],
   "source": [
    "##%matplotlib widget\n",
    "## with %matplotlib notebook: seems to require ipympl as part of environment, either\n",
    "## part of the conda environment or \"pip install ipympl\"\n",
    "## otherwise, does not show ANY plots in notebook, plt.savefig() works\n",
    "%matplotlib notebook  \n",
    "##%matplotlib inline    ## --plt.savefig()  works, but re-sizing does NOT"
   ]
  },
  {
   "cell_type": "markdown",
   "metadata": {},
   "source": [
    "This notebook is a short demo to illustrate execution.   For odd historical reasons, it uses \"toy Monte Carlo\" (simulated data)for \"training\" and \"full LHCB MC\" for validation.\n",
    "\n",
    "The network architecture is a \"simple\" model that uses 1 input channel (the KDE [kernel density estimator] but from the track parameters) feeding 5 convolutional layers followed by a fully connected layer.\n",
    "\n",
    "In today's version, the network will start with weights from a previously trained version.\n",
    " "
   ]
  },
  {
   "cell_type": "markdown",
   "metadata": {},
   "source": [
    "Check the current GPU usage. Please try to be nice!"
   ]
  },
  {
   "cell_type": "code",
   "execution_count": 2,
   "metadata": {},
   "outputs": [
    {
     "name": "stdout",
     "output_type": "stream",
     "text": [
      "Thu Jul  9 15:11:50 2020       \n",
      "+-----------------------------------------------------------------------------+\n",
      "| NVIDIA-SMI 440.64.00    Driver Version: 440.64.00    CUDA Version: 10.2     |\n",
      "|-------------------------------+----------------------+----------------------+\n",
      "| GPU  Name        Persistence-M| Bus-Id        Disp.A | Volatile Uncorr. ECC |\n",
      "| Fan  Temp  Perf  Pwr:Usage/Cap|         Memory-Usage | GPU-Util  Compute M. |\n",
      "|===============================+======================+======================|\n",
      "|   0  TITAN V             Off  | 00000000:03:00.0 Off |                  N/A |\n",
      "| 20%   36C    P0    32W / 250W |      0MiB / 12066MiB |      0%      Default |\n",
      "+-------------------------------+----------------------+----------------------+\n",
      "|   1  Tesla P100-PCIE...  Off  | 00000000:83:00.0 Off |                    0 |\n",
      "| N/A   34C    P0    28W / 250W |      0MiB / 16280MiB |      0%      Default |\n",
      "+-------------------------------+----------------------+----------------------+\n",
      "|   2  TITAN V             Off  | 00000000:84:00.0 Off |                  N/A |\n",
      "| 31%   41C    P2    38W / 250W |   6471MiB / 12066MiB |      0%      Default |\n",
      "+-------------------------------+----------------------+----------------------+\n",
      "                                                                               \n",
      "+-----------------------------------------------------------------------------+\n",
      "| Processes:                                                       GPU Memory |\n",
      "|  GPU       PID   Type   Process name                             Usage      |\n",
      "|=============================================================================|\n",
      "|    2     30232      C   ...a/conda/envs/goofit-june2020/bin/python  6459MiB |\n",
      "+-----------------------------------------------------------------------------+\n"
     ]
    }
   ],
   "source": [
    "!nvidia-smi"
   ]
  },
  {
   "cell_type": "markdown",
   "metadata": {},
   "source": [
    "> **WARNING**: The card numbers here are *not* the same as in CUDA. You have been warned."
   ]
  },
  {
   "cell_type": "markdown",
   "metadata": {},
   "source": [
    "## Imports"
   ]
  },
  {
   "cell_type": "code",
   "execution_count": 3,
   "metadata": {},
   "outputs": [],
   "source": [
    "import matplotlib.pyplot as plt\n",
    "import numpy as np\n",
    "import time\n",
    "import torch\n",
    "import pandas as pd\n",
    "import mlflow\n",
    "\n",
    "# Python 3 standard library\n",
    "from pathlib import Path\n",
    "\n",
    "from torchsummary import summary\n",
    "\n",
    "'''\n",
    "HELPER FUNCTIONS\n",
    "'''\n",
    "# From model/collectdata.py\n",
    "from model.collectdata_mdsA import collect_data\n",
    "\n",
    "# From model/loss.py\n",
    "##from loss import Loss\n",
    "from model.alt_loss_A import Loss\n",
    "\n",
    "# From model/training.py\n",
    "from model.training import trainNet, select_gpu, Results\n",
    "\n",
    "# From model/models.py\n",
    "##  will start with model from TwoFeatures_CNN6Layer_A in the first instance\n",
    "##  see relevant cell below\n",
    "\n",
    "from model.models_mds_07July2020 import All_CNN6Layer_A as ModelA\n",
    "from model.models_mds_07July2020 import All_CNN6Layer_B as ModelB\n",
    "from model.models_mds_07July2020 import All_CNN6Layer_C as ModelC\n",
    "from model.models_mds_07July2020 import All_CNN6Layer_D as ModelD\n",
    "from model.models_mds_07July2020 import All_CNN6Layer_E as ModelE\n",
    "\n",
    "# From model/utilities.py\n",
    "from model.utilities import load_full_state, count_parameters, Params\n",
    "\n",
    "from model.plots import dual_train_plots, replace_in_ax\n",
    "\n",
    "## adds image of model architecture\n",
    "import hiddenlayer as HL"
   ]
  },
  {
   "cell_type": "markdown",
   "metadata": {},
   "source": [
    "Set up Torch device configuration. All tensors and model parameters need to know where to be put.\n",
    "This takes a BUS ID number: The BUS ID is the same as the listing at the top of this script."
   ]
  },
  {
   "cell_type": "code",
   "execution_count": 4,
   "metadata": {},
   "outputs": [
    {
     "name": "stdout",
     "output_type": "stream",
     "text": [
      "1 available GPUs (initially using device 0):\n",
      "  0 TITAN V\n"
     ]
    }
   ],
   "source": [
    "device = select_gpu(0)"
   ]
  },
  {
   "cell_type": "markdown",
   "metadata": {},
   "source": [
    "### Set up local parameters"
   ]
  },
  {
   "cell_type": "code",
   "execution_count": 5,
   "metadata": {},
   "outputs": [],
   "source": [
    "# params order - batch size, epochs, lr, epoch_start (which is usually set to 0)\n",
    "args = Params(128, 200, 1e-3, 398)"
   ]
  },
  {
   "cell_type": "markdown",
   "metadata": {},
   "source": [
    "## Loading data\n",
    "\n",
    "Load the dataset, split into parts, then move to device (see `collectdata.py` in the `../model` directory)"
   ]
  },
  {
   "cell_type": "code",
   "execution_count": 6,
   "metadata": {
    "scrolled": true
   },
   "outputs": [
    {
     "name": "stdout",
     "output_type": "stream",
     "text": [
      "Loading data...\n",
      "Loaded /share/lazy/sokoloff/ML-data_AA/Aug14_80K_train.h5 in 10.81 s\n",
      "Loaded /share/lazy/sokoloff/ML-data_AA/Oct03_80K_train.h5 in 11.83 s\n",
      "Constructing 160000 event dataset took 3.526 s\n",
      "Loading data...\n",
      "Loaded /share/lazy/sokoloff/ML-data_AA/Oct03_20K_val.h5 in 2.585 s\n",
      "Constructing 9984 event dataset took 0.104 s\n"
     ]
    }
   ],
   "source": [
    "## newer vernacular\n",
    "## Training dataset. You can put as many files here as desired.\n",
    "\n",
    "## in this DEMO example we use only one 80K training set -- the model starts with well-trained weights,\n",
    "## and using a smaller training set reduces both the time to load the data and the time to train an epoch\n",
    "##  set the option load_XandXsq = True to use both DKE and KDE^2 as input features\n",
    "train_loader = collect_data('/share/lazy/sokoloff/ML-data_A/Aug14_80K_train.h5',\n",
    "                             '/share/lazy/sokoloff/ML-data_AA/Oct03_80K_train.h5',\n",
    "#                             '/share/lazy/sokoloff/ML-data_AA/Oct03_40K_train.h5',\n",
    "                             '/share/lazy/will/ML_mdsA/June30_2020_80k_1.h5',\n",
    "                             '/share/lazy/will/ML_mdsA/June30_2020_80k_3.h5',\n",
    "                             '/share/lazy/will/ML_mdsA/June30_2020_80k_4.h5',\n",
    "#                             '/share/lazy/will/ML_mdsA/June30_2020_80k_5.h5',\n",
    "#                             '/share/lazy/will/ML_mdsA/June30_2020_80k_6.h5',\n",
    "#                             '/share/lazy/will/ML_mdsA/June30_2020_80k_7.h5',\n",
    "#                             '/share/lazy/will/ML_mdsA/June30_2020_80k_8.h5',\n",
    "#                             '/share/lazy/will/ML_mdsA/June30_2020_80k_9.h5',\n",
    "                            #'/share/lazy/sokoloff/ML-data_AA/Oct03_80K2_train.h5',\n",
    "                             batch_size=args.batch_size,\n",
    "## if we are using a larger dataset (240K events, with the datasets above, and 11 GB  of GPU memory),\n",
    "## not the dataset will overflow the GPU memory; device=device will allow the data to move back\n",
    "## and forth between the CPU and GPU memory. While this allows use of a larger dataset, it slows\n",
    "## down performance by about 10%.  So comment out when not needed.\n",
    "                            device=device,\n",
    "                            masking=True, shuffle=True,\n",
    "                            load_XandXsq=False,\n",
    "                            load_xy=False)\n",
    "\n",
    "# Validation dataset. You can slice to reduce the size.\n",
    "## dataAA -> /share/lazy/sokoloff/ML-data_AA/\n",
    "val_loader = collect_data('/share/lazy/sokoloff/ML-data_AA/Oct03_20K_val.h5',\n",
    "## mds val_loader = collect_data('dataAA/HLT1CPU_1kevts_val.h5',\n",
    "\n",
    "                          batch_size=args.batch_size,\n",
    "                          slice=slice(256 * 39),\n",
    "                          device=device,\n",
    "                          masking=True, shuffle=False,\n",
    "                          load_XandXsq=False,\n",
    "                          load_xy=False)"
   ]
  },
  {
   "cell_type": "markdown",
   "metadata": {},
   "source": [
    "# Preparing the model"
   ]
  },
  {
   "cell_type": "markdown",
   "metadata": {},
   "source": [
    "Prepare a model, use multiple GPUs if they are VISIBLE, and move the model to the device."
   ]
  },
  {
   "cell_type": "code",
   "execution_count": 7,
   "metadata": {
    "scrolled": true
   },
   "outputs": [
    {
     "name": "stderr",
     "output_type": "stream",
     "text": [
      "WARNING:root:Malformed experiment 'ML'. Detailed error Yaml file '/share/lazy/pv-finder_model_repo/ML/meta.yaml' does not exist.\n",
      "Traceback (most recent call last):\n",
      "  File \"/home/michael24peters/.local/lib/python3.7/site-packages/mlflow/store/tracking/file_store.py\", line 197, in list_experiments\n",
      "    experiment = self._get_experiment(exp_id, view_type)\n",
      "  File \"/home/michael24peters/.local/lib/python3.7/site-packages/mlflow/store/tracking/file_store.py\", line 260, in _get_experiment\n",
      "    meta = read_yaml(experiment_dir, FileStore.META_DATA_FILE_NAME)\n",
      "  File \"/home/michael24peters/.local/lib/python3.7/site-packages/mlflow/utils/file_utils.py\", line 167, in read_yaml\n",
      "    raise MissingConfigException(\"Yaml file '%s' does not exist.\" % file_path)\n",
      "mlflow.exceptions.MissingConfigException: Yaml file '/share/lazy/pv-finder_model_repo/ML/meta.yaml' does not exist.\n"
     ]
    },
    {
     "name": "stdout",
     "output_type": "stream",
     "text": [
      "ct, child =  0    Conv1d(1, 20, kernel_size=(25,), stride=(1,), padding=(12,))\n",
      "ct, child =  1    Conv1d(20, 10, kernel_size=(15,), stride=(1,), padding=(7,))\n",
      "ct, child =  2    Conv1d(30, 10, kernel_size=(15,), stride=(1,), padding=(7,))\n",
      "ct, child =  3    Conv1d(10, 10, kernel_size=(15,), stride=(1,), padding=(7,))\n",
      "ct, child =  4    Conv1d(10, 1, kernel_size=(5,), stride=(1,), padding=(2,))\n",
      "ct, child =  5    Conv1d(1, 1, kernel_size=(91,), stride=(1,), padding=(45,))\n",
      "ct, child =  6    Dropout(p=0.15, inplace=False)\n",
      "ct, child =  7    Dropout(p=0.15, inplace=False)\n",
      "ct, child =  8    Dropout(p=0.15, inplace=False)\n",
      "ct, child =  9    Dropout(p=0.15, inplace=False)\n",
      "ct, child =  10    Dropout(p=0.15, inplace=False)\n"
     ]
    }
   ],
   "source": [
    "model = Model()\n",
    "\n",
    "##summary(model, input_size=(4, 4000))\n",
    "##print(model.parameters)\n",
    "\n",
    "mlflow.tracking.set_tracking_uri('file:/share/lazy/pv-finder_model_repo')\n",
    "mlflow.set_experiment('ALLCNN')"
   ]
  },
  {
   "cell_type": "code",
   "execution_count": 8,
   "metadata": {
    "scrolled": true
   },
   "outputs": [
    {
     "name": "stdout",
     "output_type": "stream",
     "text": [
      "Let's use 1 GPUs!\n"
     ]
    }
   ],
   "source": [
    "print(\"Let's use\", torch.cuda.device_count(), \"GPUs!\")\n",
    "if torch.cuda.device_count() > 1:\n",
    "    model = torch.nn.DataParallel(model)"
   ]
  },
  {
   "cell_type": "markdown",
   "metadata": {},
   "source": [
    "Let's move the model's weight matricies to the GPU:"
   ]
  },
  {
   "cell_type": "code",
   "execution_count": 9,
   "metadata": {},
   "outputs": [
    {
     "name": "stdout",
     "output_type": "stream",
     "text": [
      "Of the 12 parameter layers to update in the current model, 12 were loaded\n",
      "Of the 12 parameter layers to update in the current model, 8 were loaded\n"
     ]
    }
   ],
   "source": [
    "##  mds 200121 loss = Loss(epsilon=1e-5,coefficient=1.0)\n",
    "loss = Loss(epsilon=1e-5,coefficient=2.5)\n",
    "optimizer = torch.optim.Adam(model.parameters(), lr=args.lr)\n",
    "\n",
    "##  use the first five layers from a pre-existing model\n",
    "##  see example at https://discuss.pytorch.org/t/how-to-load-part-of-pre-trained-model/1113\n",
    "##   ML -> /share/lazy/sokoloff/ML\n",
    "\n",
    "path = 'run_stats.pyt'\n",
    "load_full_state(model, optimizer, path)\n",
    "# For other pretrained models, go to MLFlow and find the path for \"run_stats.pyt\"\n",
    "pretrained_dict = '/share/lazy/pv-finder_model_repo/7/d4c36a4ce6a24fa084bf844256bee04f/artifacts/run_stats.pyt'\n",
    "load_full_state(model, optimizer, pretrained_dict)"
   ]
  },
  {
   "cell_type": "markdown",
   "metadata": {},
   "source": [
    "Let's move the model's weight matricies to the GPU:"
   ]
  },
  {
   "cell_type": "code",
   "execution_count": 10,
   "metadata": {
    "scrolled": true
   },
   "outputs": [
    {
     "data": {
      "text/plain": [
       "All_CNN6Layer_C(\n",
       "  (conv1): Conv1d(1, 20, kernel_size=(25,), stride=(1,), padding=(12,))\n",
       "  (conv2): Conv1d(20, 10, kernel_size=(15,), stride=(1,), padding=(7,))\n",
       "  (conv3a): Conv1d(30, 10, kernel_size=(15,), stride=(1,), padding=(7,))\n",
       "  (conv4): Conv1d(10, 10, kernel_size=(15,), stride=(1,), padding=(7,))\n",
       "  (conv5): Conv1d(10, 1, kernel_size=(5,), stride=(1,), padding=(2,))\n",
       "  (finalFilter): Conv1d(1, 1, kernel_size=(91,), stride=(1,), padding=(45,))\n",
       "  (conv1dropout): Dropout(p=0.15, inplace=False)\n",
       "  (conv2dropout): Dropout(p=0.15, inplace=False)\n",
       "  (conv3dropout): Dropout(p=0.15, inplace=False)\n",
       "  (conv4dropout): Dropout(p=0.15, inplace=False)\n",
       "  (conv5dropout): Dropout(p=0.15, inplace=False)\n",
       ")"
      ]
     },
     "execution_count": 10,
     "metadata": {},
     "output_type": "execute_result"
    }
   ],
   "source": [
    "model.to(device)"
   ]
  },
  {
   "cell_type": "markdown",
   "metadata": {},
   "source": [
    "## Train \n",
    "\n",
    "\n",
    "\n",
    "The body of this loop runs once per epoch. Results is a named tuple of values (loss per epoch for training and validation, time each). Start by setting up a plot first:"
   ]
  },
  {
   "cell_type": "code",
   "execution_count": 11,
   "metadata": {},
   "outputs": [
    {
     "data": {
      "application/javascript": [
       "/* Put everything inside the global mpl namespace */\n",
       "window.mpl = {};\n",
       "\n",
       "\n",
       "mpl.get_websocket_type = function() {\n",
       "    if (typeof(WebSocket) !== 'undefined') {\n",
       "        return WebSocket;\n",
       "    } else if (typeof(MozWebSocket) !== 'undefined') {\n",
       "        return MozWebSocket;\n",
       "    } else {\n",
       "        alert('Your browser does not have WebSocket support. ' +\n",
       "              'Please try Chrome, Safari or Firefox ≥ 6. ' +\n",
       "              'Firefox 4 and 5 are also supported but you ' +\n",
       "              'have to enable WebSockets in about:config.');\n",
       "    };\n",
       "}\n",
       "\n",
       "mpl.figure = function(figure_id, websocket, ondownload, parent_element) {\n",
       "    this.id = figure_id;\n",
       "\n",
       "    this.ws = websocket;\n",
       "\n",
       "    this.supports_binary = (this.ws.binaryType != undefined);\n",
       "\n",
       "    if (!this.supports_binary) {\n",
       "        var warnings = document.getElementById(\"mpl-warnings\");\n",
       "        if (warnings) {\n",
       "            warnings.style.display = 'block';\n",
       "            warnings.textContent = (\n",
       "                \"This browser does not support binary websocket messages. \" +\n",
       "                    \"Performance may be slow.\");\n",
       "        }\n",
       "    }\n",
       "\n",
       "    this.imageObj = new Image();\n",
       "\n",
       "    this.context = undefined;\n",
       "    this.message = undefined;\n",
       "    this.canvas = undefined;\n",
       "    this.rubberband_canvas = undefined;\n",
       "    this.rubberband_context = undefined;\n",
       "    this.format_dropdown = undefined;\n",
       "\n",
       "    this.image_mode = 'full';\n",
       "\n",
       "    this.root = $('<div/>');\n",
       "    this._root_extra_style(this.root)\n",
       "    this.root.attr('style', 'display: inline-block');\n",
       "\n",
       "    $(parent_element).append(this.root);\n",
       "\n",
       "    this._init_header(this);\n",
       "    this._init_canvas(this);\n",
       "    this._init_toolbar(this);\n",
       "\n",
       "    var fig = this;\n",
       "\n",
       "    this.waiting = false;\n",
       "\n",
       "    this.ws.onopen =  function () {\n",
       "            fig.send_message(\"supports_binary\", {value: fig.supports_binary});\n",
       "            fig.send_message(\"send_image_mode\", {});\n",
       "            if (mpl.ratio != 1) {\n",
       "                fig.send_message(\"set_dpi_ratio\", {'dpi_ratio': mpl.ratio});\n",
       "            }\n",
       "            fig.send_message(\"refresh\", {});\n",
       "        }\n",
       "\n",
       "    this.imageObj.onload = function() {\n",
       "            if (fig.image_mode == 'full') {\n",
       "                // Full images could contain transparency (where diff images\n",
       "                // almost always do), so we need to clear the canvas so that\n",
       "                // there is no ghosting.\n",
       "                fig.context.clearRect(0, 0, fig.canvas.width, fig.canvas.height);\n",
       "            }\n",
       "            fig.context.drawImage(fig.imageObj, 0, 0);\n",
       "        };\n",
       "\n",
       "    this.imageObj.onunload = function() {\n",
       "        fig.ws.close();\n",
       "    }\n",
       "\n",
       "    this.ws.onmessage = this._make_on_message_function(this);\n",
       "\n",
       "    this.ondownload = ondownload;\n",
       "}\n",
       "\n",
       "mpl.figure.prototype._init_header = function() {\n",
       "    var titlebar = $(\n",
       "        '<div class=\"ui-dialog-titlebar ui-widget-header ui-corner-all ' +\n",
       "        'ui-helper-clearfix\"/>');\n",
       "    var titletext = $(\n",
       "        '<div class=\"ui-dialog-title\" style=\"width: 100%; ' +\n",
       "        'text-align: center; padding: 3px;\"/>');\n",
       "    titlebar.append(titletext)\n",
       "    this.root.append(titlebar);\n",
       "    this.header = titletext[0];\n",
       "}\n",
       "\n",
       "\n",
       "\n",
       "mpl.figure.prototype._canvas_extra_style = function(canvas_div) {\n",
       "\n",
       "}\n",
       "\n",
       "\n",
       "mpl.figure.prototype._root_extra_style = function(canvas_div) {\n",
       "\n",
       "}\n",
       "\n",
       "mpl.figure.prototype._init_canvas = function() {\n",
       "    var fig = this;\n",
       "\n",
       "    var canvas_div = $('<div/>');\n",
       "\n",
       "    canvas_div.attr('style', 'position: relative; clear: both; outline: 0');\n",
       "\n",
       "    function canvas_keyboard_event(event) {\n",
       "        return fig.key_event(event, event['data']);\n",
       "    }\n",
       "\n",
       "    canvas_div.keydown('key_press', canvas_keyboard_event);\n",
       "    canvas_div.keyup('key_release', canvas_keyboard_event);\n",
       "    this.canvas_div = canvas_div\n",
       "    this._canvas_extra_style(canvas_div)\n",
       "    this.root.append(canvas_div);\n",
       "\n",
       "    var canvas = $('<canvas/>');\n",
       "    canvas.addClass('mpl-canvas');\n",
       "    canvas.attr('style', \"left: 0; top: 0; z-index: 0; outline: 0\")\n",
       "\n",
       "    this.canvas = canvas[0];\n",
       "    this.context = canvas[0].getContext(\"2d\");\n",
       "\n",
       "    var backingStore = this.context.backingStorePixelRatio ||\n",
       "\tthis.context.webkitBackingStorePixelRatio ||\n",
       "\tthis.context.mozBackingStorePixelRatio ||\n",
       "\tthis.context.msBackingStorePixelRatio ||\n",
       "\tthis.context.oBackingStorePixelRatio ||\n",
       "\tthis.context.backingStorePixelRatio || 1;\n",
       "\n",
       "    mpl.ratio = (window.devicePixelRatio || 1) / backingStore;\n",
       "\n",
       "    var rubberband = $('<canvas/>');\n",
       "    rubberband.attr('style', \"position: absolute; left: 0; top: 0; z-index: 1;\")\n",
       "\n",
       "    var pass_mouse_events = true;\n",
       "\n",
       "    canvas_div.resizable({\n",
       "        start: function(event, ui) {\n",
       "            pass_mouse_events = false;\n",
       "        },\n",
       "        resize: function(event, ui) {\n",
       "            fig.request_resize(ui.size.width, ui.size.height);\n",
       "        },\n",
       "        stop: function(event, ui) {\n",
       "            pass_mouse_events = true;\n",
       "            fig.request_resize(ui.size.width, ui.size.height);\n",
       "        },\n",
       "    });\n",
       "\n",
       "    function mouse_event_fn(event) {\n",
       "        if (pass_mouse_events)\n",
       "            return fig.mouse_event(event, event['data']);\n",
       "    }\n",
       "\n",
       "    rubberband.mousedown('button_press', mouse_event_fn);\n",
       "    rubberband.mouseup('button_release', mouse_event_fn);\n",
       "    // Throttle sequential mouse events to 1 every 20ms.\n",
       "    rubberband.mousemove('motion_notify', mouse_event_fn);\n",
       "\n",
       "    rubberband.mouseenter('figure_enter', mouse_event_fn);\n",
       "    rubberband.mouseleave('figure_leave', mouse_event_fn);\n",
       "\n",
       "    canvas_div.on(\"wheel\", function (event) {\n",
       "        event = event.originalEvent;\n",
       "        event['data'] = 'scroll'\n",
       "        if (event.deltaY < 0) {\n",
       "            event.step = 1;\n",
       "        } else {\n",
       "            event.step = -1;\n",
       "        }\n",
       "        mouse_event_fn(event);\n",
       "    });\n",
       "\n",
       "    canvas_div.append(canvas);\n",
       "    canvas_div.append(rubberband);\n",
       "\n",
       "    this.rubberband = rubberband;\n",
       "    this.rubberband_canvas = rubberband[0];\n",
       "    this.rubberband_context = rubberband[0].getContext(\"2d\");\n",
       "    this.rubberband_context.strokeStyle = \"#000000\";\n",
       "\n",
       "    this._resize_canvas = function(width, height) {\n",
       "        // Keep the size of the canvas, canvas container, and rubber band\n",
       "        // canvas in synch.\n",
       "        canvas_div.css('width', width)\n",
       "        canvas_div.css('height', height)\n",
       "\n",
       "        canvas.attr('width', width * mpl.ratio);\n",
       "        canvas.attr('height', height * mpl.ratio);\n",
       "        canvas.attr('style', 'width: ' + width + 'px; height: ' + height + 'px;');\n",
       "\n",
       "        rubberband.attr('width', width);\n",
       "        rubberband.attr('height', height);\n",
       "    }\n",
       "\n",
       "    // Set the figure to an initial 600x600px, this will subsequently be updated\n",
       "    // upon first draw.\n",
       "    this._resize_canvas(600, 600);\n",
       "\n",
       "    // Disable right mouse context menu.\n",
       "    $(this.rubberband_canvas).bind(\"contextmenu\",function(e){\n",
       "        return false;\n",
       "    });\n",
       "\n",
       "    function set_focus () {\n",
       "        canvas.focus();\n",
       "        canvas_div.focus();\n",
       "    }\n",
       "\n",
       "    window.setTimeout(set_focus, 100);\n",
       "}\n",
       "\n",
       "mpl.figure.prototype._init_toolbar = function() {\n",
       "    var fig = this;\n",
       "\n",
       "    var nav_element = $('<div/>');\n",
       "    nav_element.attr('style', 'width: 100%');\n",
       "    this.root.append(nav_element);\n",
       "\n",
       "    // Define a callback function for later on.\n",
       "    function toolbar_event(event) {\n",
       "        return fig.toolbar_button_onclick(event['data']);\n",
       "    }\n",
       "    function toolbar_mouse_event(event) {\n",
       "        return fig.toolbar_button_onmouseover(event['data']);\n",
       "    }\n",
       "\n",
       "    for(var toolbar_ind in mpl.toolbar_items) {\n",
       "        var name = mpl.toolbar_items[toolbar_ind][0];\n",
       "        var tooltip = mpl.toolbar_items[toolbar_ind][1];\n",
       "        var image = mpl.toolbar_items[toolbar_ind][2];\n",
       "        var method_name = mpl.toolbar_items[toolbar_ind][3];\n",
       "\n",
       "        if (!name) {\n",
       "            // put a spacer in here.\n",
       "            continue;\n",
       "        }\n",
       "        var button = $('<button/>');\n",
       "        button.addClass('ui-button ui-widget ui-state-default ui-corner-all ' +\n",
       "                        'ui-button-icon-only');\n",
       "        button.attr('role', 'button');\n",
       "        button.attr('aria-disabled', 'false');\n",
       "        button.click(method_name, toolbar_event);\n",
       "        button.mouseover(tooltip, toolbar_mouse_event);\n",
       "\n",
       "        var icon_img = $('<span/>');\n",
       "        icon_img.addClass('ui-button-icon-primary ui-icon');\n",
       "        icon_img.addClass(image);\n",
       "        icon_img.addClass('ui-corner-all');\n",
       "\n",
       "        var tooltip_span = $('<span/>');\n",
       "        tooltip_span.addClass('ui-button-text');\n",
       "        tooltip_span.html(tooltip);\n",
       "\n",
       "        button.append(icon_img);\n",
       "        button.append(tooltip_span);\n",
       "\n",
       "        nav_element.append(button);\n",
       "    }\n",
       "\n",
       "    var fmt_picker_span = $('<span/>');\n",
       "\n",
       "    var fmt_picker = $('<select/>');\n",
       "    fmt_picker.addClass('mpl-toolbar-option ui-widget ui-widget-content');\n",
       "    fmt_picker_span.append(fmt_picker);\n",
       "    nav_element.append(fmt_picker_span);\n",
       "    this.format_dropdown = fmt_picker[0];\n",
       "\n",
       "    for (var ind in mpl.extensions) {\n",
       "        var fmt = mpl.extensions[ind];\n",
       "        var option = $(\n",
       "            '<option/>', {selected: fmt === mpl.default_extension}).html(fmt);\n",
       "        fmt_picker.append(option);\n",
       "    }\n",
       "\n",
       "    // Add hover states to the ui-buttons\n",
       "    $( \".ui-button\" ).hover(\n",
       "        function() { $(this).addClass(\"ui-state-hover\");},\n",
       "        function() { $(this).removeClass(\"ui-state-hover\");}\n",
       "    );\n",
       "\n",
       "    var status_bar = $('<span class=\"mpl-message\"/>');\n",
       "    nav_element.append(status_bar);\n",
       "    this.message = status_bar[0];\n",
       "}\n",
       "\n",
       "mpl.figure.prototype.request_resize = function(x_pixels, y_pixels) {\n",
       "    // Request matplotlib to resize the figure. Matplotlib will then trigger a resize in the client,\n",
       "    // which will in turn request a refresh of the image.\n",
       "    this.send_message('resize', {'width': x_pixels, 'height': y_pixels});\n",
       "}\n",
       "\n",
       "mpl.figure.prototype.send_message = function(type, properties) {\n",
       "    properties['type'] = type;\n",
       "    properties['figure_id'] = this.id;\n",
       "    this.ws.send(JSON.stringify(properties));\n",
       "}\n",
       "\n",
       "mpl.figure.prototype.send_draw_message = function() {\n",
       "    if (!this.waiting) {\n",
       "        this.waiting = true;\n",
       "        this.ws.send(JSON.stringify({type: \"draw\", figure_id: this.id}));\n",
       "    }\n",
       "}\n",
       "\n",
       "\n",
       "mpl.figure.prototype.handle_save = function(fig, msg) {\n",
       "    var format_dropdown = fig.format_dropdown;\n",
       "    var format = format_dropdown.options[format_dropdown.selectedIndex].value;\n",
       "    fig.ondownload(fig, format);\n",
       "}\n",
       "\n",
       "\n",
       "mpl.figure.prototype.handle_resize = function(fig, msg) {\n",
       "    var size = msg['size'];\n",
       "    if (size[0] != fig.canvas.width || size[1] != fig.canvas.height) {\n",
       "        fig._resize_canvas(size[0], size[1]);\n",
       "        fig.send_message(\"refresh\", {});\n",
       "    };\n",
       "}\n",
       "\n",
       "mpl.figure.prototype.handle_rubberband = function(fig, msg) {\n",
       "    var x0 = msg['x0'] / mpl.ratio;\n",
       "    var y0 = (fig.canvas.height - msg['y0']) / mpl.ratio;\n",
       "    var x1 = msg['x1'] / mpl.ratio;\n",
       "    var y1 = (fig.canvas.height - msg['y1']) / mpl.ratio;\n",
       "    x0 = Math.floor(x0) + 0.5;\n",
       "    y0 = Math.floor(y0) + 0.5;\n",
       "    x1 = Math.floor(x1) + 0.5;\n",
       "    y1 = Math.floor(y1) + 0.5;\n",
       "    var min_x = Math.min(x0, x1);\n",
       "    var min_y = Math.min(y0, y1);\n",
       "    var width = Math.abs(x1 - x0);\n",
       "    var height = Math.abs(y1 - y0);\n",
       "\n",
       "    fig.rubberband_context.clearRect(\n",
       "        0, 0, fig.canvas.width / mpl.ratio, fig.canvas.height / mpl.ratio);\n",
       "\n",
       "    fig.rubberband_context.strokeRect(min_x, min_y, width, height);\n",
       "}\n",
       "\n",
       "mpl.figure.prototype.handle_figure_label = function(fig, msg) {\n",
       "    // Updates the figure title.\n",
       "    fig.header.textContent = msg['label'];\n",
       "}\n",
       "\n",
       "mpl.figure.prototype.handle_cursor = function(fig, msg) {\n",
       "    var cursor = msg['cursor'];\n",
       "    switch(cursor)\n",
       "    {\n",
       "    case 0:\n",
       "        cursor = 'pointer';\n",
       "        break;\n",
       "    case 1:\n",
       "        cursor = 'default';\n",
       "        break;\n",
       "    case 2:\n",
       "        cursor = 'crosshair';\n",
       "        break;\n",
       "    case 3:\n",
       "        cursor = 'move';\n",
       "        break;\n",
       "    }\n",
       "    fig.rubberband_canvas.style.cursor = cursor;\n",
       "}\n",
       "\n",
       "mpl.figure.prototype.handle_message = function(fig, msg) {\n",
       "    fig.message.textContent = msg['message'];\n",
       "}\n",
       "\n",
       "mpl.figure.prototype.handle_draw = function(fig, msg) {\n",
       "    // Request the server to send over a new figure.\n",
       "    fig.send_draw_message();\n",
       "}\n",
       "\n",
       "mpl.figure.prototype.handle_image_mode = function(fig, msg) {\n",
       "    fig.image_mode = msg['mode'];\n",
       "}\n",
       "\n",
       "mpl.figure.prototype.updated_canvas_event = function() {\n",
       "    // Called whenever the canvas gets updated.\n",
       "    this.send_message(\"ack\", {});\n",
       "}\n",
       "\n",
       "// A function to construct a web socket function for onmessage handling.\n",
       "// Called in the figure constructor.\n",
       "mpl.figure.prototype._make_on_message_function = function(fig) {\n",
       "    return function socket_on_message(evt) {\n",
       "        if (evt.data instanceof Blob) {\n",
       "            /* FIXME: We get \"Resource interpreted as Image but\n",
       "             * transferred with MIME type text/plain:\" errors on\n",
       "             * Chrome.  But how to set the MIME type?  It doesn't seem\n",
       "             * to be part of the websocket stream */\n",
       "            evt.data.type = \"image/png\";\n",
       "\n",
       "            /* Free the memory for the previous frames */\n",
       "            if (fig.imageObj.src) {\n",
       "                (window.URL || window.webkitURL).revokeObjectURL(\n",
       "                    fig.imageObj.src);\n",
       "            }\n",
       "\n",
       "            fig.imageObj.src = (window.URL || window.webkitURL).createObjectURL(\n",
       "                evt.data);\n",
       "            fig.updated_canvas_event();\n",
       "            fig.waiting = false;\n",
       "            return;\n",
       "        }\n",
       "        else if (typeof evt.data === 'string' && evt.data.slice(0, 21) == \"data:image/png;base64\") {\n",
       "            fig.imageObj.src = evt.data;\n",
       "            fig.updated_canvas_event();\n",
       "            fig.waiting = false;\n",
       "            return;\n",
       "        }\n",
       "\n",
       "        var msg = JSON.parse(evt.data);\n",
       "        var msg_type = msg['type'];\n",
       "\n",
       "        // Call the  \"handle_{type}\" callback, which takes\n",
       "        // the figure and JSON message as its only arguments.\n",
       "        try {\n",
       "            var callback = fig[\"handle_\" + msg_type];\n",
       "        } catch (e) {\n",
       "            console.log(\"No handler for the '\" + msg_type + \"' message type: \", msg);\n",
       "            return;\n",
       "        }\n",
       "\n",
       "        if (callback) {\n",
       "            try {\n",
       "                // console.log(\"Handling '\" + msg_type + \"' message: \", msg);\n",
       "                callback(fig, msg);\n",
       "            } catch (e) {\n",
       "                console.log(\"Exception inside the 'handler_\" + msg_type + \"' callback:\", e, e.stack, msg);\n",
       "            }\n",
       "        }\n",
       "    };\n",
       "}\n",
       "\n",
       "// from http://stackoverflow.com/questions/1114465/getting-mouse-location-in-canvas\n",
       "mpl.findpos = function(e) {\n",
       "    //this section is from http://www.quirksmode.org/js/events_properties.html\n",
       "    var targ;\n",
       "    if (!e)\n",
       "        e = window.event;\n",
       "    if (e.target)\n",
       "        targ = e.target;\n",
       "    else if (e.srcElement)\n",
       "        targ = e.srcElement;\n",
       "    if (targ.nodeType == 3) // defeat Safari bug\n",
       "        targ = targ.parentNode;\n",
       "\n",
       "    // jQuery normalizes the pageX and pageY\n",
       "    // pageX,Y are the mouse positions relative to the document\n",
       "    // offset() returns the position of the element relative to the document\n",
       "    var x = e.pageX - $(targ).offset().left;\n",
       "    var y = e.pageY - $(targ).offset().top;\n",
       "\n",
       "    return {\"x\": x, \"y\": y};\n",
       "};\n",
       "\n",
       "/*\n",
       " * return a copy of an object with only non-object keys\n",
       " * we need this to avoid circular references\n",
       " * http://stackoverflow.com/a/24161582/3208463\n",
       " */\n",
       "function simpleKeys (original) {\n",
       "  return Object.keys(original).reduce(function (obj, key) {\n",
       "    if (typeof original[key] !== 'object')\n",
       "        obj[key] = original[key]\n",
       "    return obj;\n",
       "  }, {});\n",
       "}\n",
       "\n",
       "mpl.figure.prototype.mouse_event = function(event, name) {\n",
       "    var canvas_pos = mpl.findpos(event)\n",
       "\n",
       "    if (name === 'button_press')\n",
       "    {\n",
       "        this.canvas.focus();\n",
       "        this.canvas_div.focus();\n",
       "    }\n",
       "\n",
       "    var x = canvas_pos.x * mpl.ratio;\n",
       "    var y = canvas_pos.y * mpl.ratio;\n",
       "\n",
       "    this.send_message(name, {x: x, y: y, button: event.button,\n",
       "                             step: event.step,\n",
       "                             guiEvent: simpleKeys(event)});\n",
       "\n",
       "    /* This prevents the web browser from automatically changing to\n",
       "     * the text insertion cursor when the button is pressed.  We want\n",
       "     * to control all of the cursor setting manually through the\n",
       "     * 'cursor' event from matplotlib */\n",
       "    event.preventDefault();\n",
       "    return false;\n",
       "}\n",
       "\n",
       "mpl.figure.prototype._key_event_extra = function(event, name) {\n",
       "    // Handle any extra behaviour associated with a key event\n",
       "}\n",
       "\n",
       "mpl.figure.prototype.key_event = function(event, name) {\n",
       "\n",
       "    // Prevent repeat events\n",
       "    if (name == 'key_press')\n",
       "    {\n",
       "        if (event.which === this._key)\n",
       "            return;\n",
       "        else\n",
       "            this._key = event.which;\n",
       "    }\n",
       "    if (name == 'key_release')\n",
       "        this._key = null;\n",
       "\n",
       "    var value = '';\n",
       "    if (event.ctrlKey && event.which != 17)\n",
       "        value += \"ctrl+\";\n",
       "    if (event.altKey && event.which != 18)\n",
       "        value += \"alt+\";\n",
       "    if (event.shiftKey && event.which != 16)\n",
       "        value += \"shift+\";\n",
       "\n",
       "    value += 'k';\n",
       "    value += event.which.toString();\n",
       "\n",
       "    this._key_event_extra(event, name);\n",
       "\n",
       "    this.send_message(name, {key: value,\n",
       "                             guiEvent: simpleKeys(event)});\n",
       "    return false;\n",
       "}\n",
       "\n",
       "mpl.figure.prototype.toolbar_button_onclick = function(name) {\n",
       "    if (name == 'download') {\n",
       "        this.handle_save(this, null);\n",
       "    } else {\n",
       "        this.send_message(\"toolbar_button\", {name: name});\n",
       "    }\n",
       "};\n",
       "\n",
       "mpl.figure.prototype.toolbar_button_onmouseover = function(tooltip) {\n",
       "    this.message.textContent = tooltip;\n",
       "};\n",
       "mpl.toolbar_items = [[\"Home\", \"Reset original view\", \"fa fa-home icon-home\", \"home\"], [\"Back\", \"Back to previous view\", \"fa fa-arrow-left icon-arrow-left\", \"back\"], [\"Forward\", \"Forward to next view\", \"fa fa-arrow-right icon-arrow-right\", \"forward\"], [\"\", \"\", \"\", \"\"], [\"Pan\", \"Pan axes with left mouse, zoom with right\", \"fa fa-arrows icon-move\", \"pan\"], [\"Zoom\", \"Zoom to rectangle\", \"fa fa-square-o icon-check-empty\", \"zoom\"], [\"\", \"\", \"\", \"\"], [\"Download\", \"Download plot\", \"fa fa-floppy-o icon-save\", \"download\"]];\n",
       "\n",
       "mpl.extensions = [\"eps\", \"jpeg\", \"pdf\", \"png\", \"ps\", \"raw\", \"svg\", \"tif\"];\n",
       "\n",
       "mpl.default_extension = \"png\";var comm_websocket_adapter = function(comm) {\n",
       "    // Create a \"websocket\"-like object which calls the given IPython comm\n",
       "    // object with the appropriate methods. Currently this is a non binary\n",
       "    // socket, so there is still some room for performance tuning.\n",
       "    var ws = {};\n",
       "\n",
       "    ws.close = function() {\n",
       "        comm.close()\n",
       "    };\n",
       "    ws.send = function(m) {\n",
       "        //console.log('sending', m);\n",
       "        comm.send(m);\n",
       "    };\n",
       "    // Register the callback with on_msg.\n",
       "    comm.on_msg(function(msg) {\n",
       "        //console.log('receiving', msg['content']['data'], msg);\n",
       "        // Pass the mpl event to the overridden (by mpl) onmessage function.\n",
       "        ws.onmessage(msg['content']['data'])\n",
       "    });\n",
       "    return ws;\n",
       "}\n",
       "\n",
       "mpl.mpl_figure_comm = function(comm, msg) {\n",
       "    // This is the function which gets called when the mpl process\n",
       "    // starts-up an IPython Comm through the \"matplotlib\" channel.\n",
       "\n",
       "    var id = msg.content.data.id;\n",
       "    // Get hold of the div created by the display call when the Comm\n",
       "    // socket was opened in Python.\n",
       "    var element = $(\"#\" + id);\n",
       "    var ws_proxy = comm_websocket_adapter(comm)\n",
       "\n",
       "    function ondownload(figure, format) {\n",
       "        window.open(figure.imageObj.src);\n",
       "    }\n",
       "\n",
       "    var fig = new mpl.figure(id, ws_proxy,\n",
       "                           ondownload,\n",
       "                           element.get(0));\n",
       "\n",
       "    // Call onopen now - mpl needs it, as it is assuming we've passed it a real\n",
       "    // web socket which is closed, not our websocket->open comm proxy.\n",
       "    ws_proxy.onopen();\n",
       "\n",
       "    fig.parent_element = element.get(0);\n",
       "    fig.cell_info = mpl.find_output_cell(\"<div id='\" + id + \"'></div>\");\n",
       "    if (!fig.cell_info) {\n",
       "        console.error(\"Failed to find cell for figure\", id, fig);\n",
       "        return;\n",
       "    }\n",
       "\n",
       "    var output_index = fig.cell_info[2]\n",
       "    var cell = fig.cell_info[0];\n",
       "\n",
       "};\n",
       "\n",
       "mpl.figure.prototype.handle_close = function(fig, msg) {\n",
       "    var width = fig.canvas.width/mpl.ratio\n",
       "    fig.root.unbind('remove')\n",
       "\n",
       "    // Update the output cell to use the data from the current canvas.\n",
       "    fig.push_to_output();\n",
       "    var dataURL = fig.canvas.toDataURL();\n",
       "    // Re-enable the keyboard manager in IPython - without this line, in FF,\n",
       "    // the notebook keyboard shortcuts fail.\n",
       "    IPython.keyboard_manager.enable()\n",
       "    $(fig.parent_element).html('<img src=\"' + dataURL + '\" width=\"' + width + '\">');\n",
       "    fig.close_ws(fig, msg);\n",
       "}\n",
       "\n",
       "mpl.figure.prototype.close_ws = function(fig, msg){\n",
       "    fig.send_message('closing', msg);\n",
       "    // fig.ws.close()\n",
       "}\n",
       "\n",
       "mpl.figure.prototype.push_to_output = function(remove_interactive) {\n",
       "    // Turn the data on the canvas into data in the output cell.\n",
       "    var width = this.canvas.width/mpl.ratio\n",
       "    var dataURL = this.canvas.toDataURL();\n",
       "    this.cell_info[1]['text/html'] = '<img src=\"' + dataURL + '\" width=\"' + width + '\">';\n",
       "}\n",
       "\n",
       "mpl.figure.prototype.updated_canvas_event = function() {\n",
       "    // Tell IPython that the notebook contents must change.\n",
       "    IPython.notebook.set_dirty(true);\n",
       "    this.send_message(\"ack\", {});\n",
       "    var fig = this;\n",
       "    // Wait a second, then push the new image to the DOM so\n",
       "    // that it is saved nicely (might be nice to debounce this).\n",
       "    setTimeout(function () { fig.push_to_output() }, 1000);\n",
       "}\n",
       "\n",
       "mpl.figure.prototype._init_toolbar = function() {\n",
       "    var fig = this;\n",
       "\n",
       "    var nav_element = $('<div/>');\n",
       "    nav_element.attr('style', 'width: 100%');\n",
       "    this.root.append(nav_element);\n",
       "\n",
       "    // Define a callback function for later on.\n",
       "    function toolbar_event(event) {\n",
       "        return fig.toolbar_button_onclick(event['data']);\n",
       "    }\n",
       "    function toolbar_mouse_event(event) {\n",
       "        return fig.toolbar_button_onmouseover(event['data']);\n",
       "    }\n",
       "\n",
       "    for(var toolbar_ind in mpl.toolbar_items){\n",
       "        var name = mpl.toolbar_items[toolbar_ind][0];\n",
       "        var tooltip = mpl.toolbar_items[toolbar_ind][1];\n",
       "        var image = mpl.toolbar_items[toolbar_ind][2];\n",
       "        var method_name = mpl.toolbar_items[toolbar_ind][3];\n",
       "\n",
       "        if (!name) { continue; };\n",
       "\n",
       "        var button = $('<button class=\"btn btn-default\" href=\"#\" title=\"' + name + '\"><i class=\"fa ' + image + ' fa-lg\"></i></button>');\n",
       "        button.click(method_name, toolbar_event);\n",
       "        button.mouseover(tooltip, toolbar_mouse_event);\n",
       "        nav_element.append(button);\n",
       "    }\n",
       "\n",
       "    // Add the status bar.\n",
       "    var status_bar = $('<span class=\"mpl-message\" style=\"text-align:right; float: right;\"/>');\n",
       "    nav_element.append(status_bar);\n",
       "    this.message = status_bar[0];\n",
       "\n",
       "    // Add the close button to the window.\n",
       "    var buttongrp = $('<div class=\"btn-group inline pull-right\"></div>');\n",
       "    var button = $('<button class=\"btn btn-mini btn-primary\" href=\"#\" title=\"Stop Interaction\"><i class=\"fa fa-power-off icon-remove icon-large\"></i></button>');\n",
       "    button.click(function (evt) { fig.handle_close(fig, {}); } );\n",
       "    button.mouseover('Stop Interaction', toolbar_mouse_event);\n",
       "    buttongrp.append(button);\n",
       "    var titlebar = this.root.find($('.ui-dialog-titlebar'));\n",
       "    titlebar.prepend(buttongrp);\n",
       "}\n",
       "\n",
       "mpl.figure.prototype._root_extra_style = function(el){\n",
       "    var fig = this\n",
       "    el.on(\"remove\", function(){\n",
       "\tfig.close_ws(fig, {});\n",
       "    });\n",
       "}\n",
       "\n",
       "mpl.figure.prototype._canvas_extra_style = function(el){\n",
       "    // this is important to make the div 'focusable\n",
       "    el.attr('tabindex', 0)\n",
       "    // reach out to IPython and tell the keyboard manager to turn it's self\n",
       "    // off when our div gets focus\n",
       "\n",
       "    // location in version 3\n",
       "    if (IPython.notebook.keyboard_manager) {\n",
       "        IPython.notebook.keyboard_manager.register_events(el);\n",
       "    }\n",
       "    else {\n",
       "        // location in version 2\n",
       "        IPython.keyboard_manager.register_events(el);\n",
       "    }\n",
       "\n",
       "}\n",
       "\n",
       "mpl.figure.prototype._key_event_extra = function(event, name) {\n",
       "    var manager = IPython.notebook.keyboard_manager;\n",
       "    if (!manager)\n",
       "        manager = IPython.keyboard_manager;\n",
       "\n",
       "    // Check for shift+enter\n",
       "    if (event.shiftKey && event.which == 13) {\n",
       "        this.canvas_div.blur();\n",
       "        // select the cell after this one\n",
       "        var index = IPython.notebook.find_cell_index(this.cell_info[0]);\n",
       "        IPython.notebook.select(index + 1);\n",
       "    }\n",
       "}\n",
       "\n",
       "mpl.figure.prototype.handle_save = function(fig, msg) {\n",
       "    fig.ondownload(fig, null);\n",
       "}\n",
       "\n",
       "\n",
       "mpl.find_output_cell = function(html_output) {\n",
       "    // Return the cell and output element which can be found *uniquely* in the notebook.\n",
       "    // Note - this is a bit hacky, but it is done because the \"notebook_saving.Notebook\"\n",
       "    // IPython event is triggered only after the cells have been serialised, which for\n",
       "    // our purposes (turning an active figure into a static one), is too late.\n",
       "    var cells = IPython.notebook.get_cells();\n",
       "    var ncells = cells.length;\n",
       "    for (var i=0; i<ncells; i++) {\n",
       "        var cell = cells[i];\n",
       "        if (cell.cell_type === 'code'){\n",
       "            for (var j=0; j<cell.output_area.outputs.length; j++) {\n",
       "                var data = cell.output_area.outputs[j];\n",
       "                if (data.data) {\n",
       "                    // IPython >= 3 moved mimebundle to data attribute of output\n",
       "                    data = data.data;\n",
       "                }\n",
       "                if (data['text/html'] == html_output) {\n",
       "                    return [cell, data, j];\n",
       "                }\n",
       "            }\n",
       "        }\n",
       "    }\n",
       "}\n",
       "\n",
       "// Register the function which deals with the matplotlib target/channel.\n",
       "// The kernel may be null if the page has been refreshed.\n",
       "if (IPython.notebook.kernel != null) {\n",
       "    IPython.notebook.kernel.comm_manager.register_target('matplotlib', mpl.mpl_figure_comm);\n",
       "}\n"
      ],
      "text/plain": [
       "<IPython.core.display.Javascript object>"
      ]
     },
     "metadata": {},
     "output_type": "display_data"
    },
    {
     "data": {
      "text/html": [
       "<img src=\"data:image/png;base64,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\" width=\"1000\">"
      ],
      "text/plain": [
       "<IPython.core.display.HTML object>"
      ]
     },
     "metadata": {},
     "output_type": "display_data"
    }
   ],
   "source": [
    "ax, tax, lax, lines = dual_train_plots()\n",
    "fig = ax.figure\n",
    "plt.tight_layout()\n",
    "# This gets built up during the run - do not rerun this cell\n",
    "results = pd.DataFrame([], columns=Results._fields)"
   ]
  },
  {
   "cell_type": "code",
   "execution_count": 12,
   "metadata": {
    "scrolled": false
   },
   "outputs": [
    {
     "name": "stdout",
     "output_type": "stream",
     "text": [
      "for model:  All_CNN6Layer_C(\n",
      "  (conv1): Conv1d(1, 20, kernel_size=(25,), stride=(1,), padding=(12,))\n",
      "  (conv2): Conv1d(20, 10, kernel_size=(15,), stride=(1,), padding=(7,))\n",
      "  (conv3a): Conv1d(30, 10, kernel_size=(15,), stride=(1,), padding=(7,))\n",
      "  (conv4): Conv1d(10, 10, kernel_size=(15,), stride=(1,), padding=(7,))\n",
      "  (conv5): Conv1d(10, 1, kernel_size=(5,), stride=(1,), padding=(2,))\n",
      "  (finalFilter): Conv1d(1, 1, kernel_size=(91,), stride=(1,), padding=(45,))\n",
      "  (conv1dropout): Dropout(p=0.15, inplace=False)\n",
      "  (conv2dropout): Dropout(p=0.15, inplace=False)\n",
      "  (conv3dropout): Dropout(p=0.15, inplace=False)\n",
      "  (conv4dropout): Dropout(p=0.15, inplace=False)\n",
      "  (conv5dropout): Dropout(p=0.15, inplace=False)\n",
      ")\n",
      "epoch_start 398\n",
      "batch_size 128\n",
      "epochs 200\n",
      "lr 0.001\n",
      "Number of batches: train = 1250, val = 78\n"
     ]
    },
    {
     "name": "stderr",
     "output_type": "stream",
     "text": [
      "/home/michael24peters/pv-finder_experimental/notebooks/model/training.py:95: TqdmDeprecationWarning: This function will be removed in tqdm==5.0.0\n",
      "Please use `tqdm.notebook.tqdm` instead of `tqdm.tqdm_notebook`\n",
      "  file=sys.stderr,\n"
     ]
    },
    {
     "data": {
      "application/vnd.jupyter.widget-view+json": {
       "model_id": "e730a216ec264f6b9264e583de41407a",
       "version_major": 2,
       "version_minor": 0
      },
      "text/plain": [
       "HBox(children=(FloatProgress(value=0.0, description='Epochs', layout=Layout(flex='2'), max=200.0, style=Progre…"
      ]
     },
     "metadata": {},
     "output_type": "display_data"
    },
    {
     "data": {
      "application/vnd.jupyter.widget-view+json": {
       "model_id": "",
       "version_major": 2,
       "version_minor": 0
      },
      "text/plain": [
       "HBox(children=(FloatProgress(value=0.0, description='Training', layout=Layout(flex='2'), max=1250.0, style=Pro…"
      ]
     },
     "metadata": {},
     "output_type": "display_data"
    },
    {
     "name": "stdout",
     "output_type": "stream",
     "text": [
      "Epoch 398: train=8.48836, val=7.96988, took 36.11 s\n",
      "  Validation Found 50818 of 54504, added 2241 (eff 93.24%) (0.224 FP/event)\n"
     ]
    },
    {
     "name": "stderr",
     "output_type": "stream",
     "text": [
      "/home/michael24peters/pv-finder_experimental/notebooks/model/training.py:143: TqdmDeprecationWarning: This function will be removed in tqdm==5.0.0\n",
      "Please use `tqdm.notebook.tqdm` instead of `tqdm.tqdm_notebook`\n",
      "  file=sys.stderr,\n"
     ]
    },
    {
     "data": {
      "application/vnd.jupyter.widget-view+json": {
       "model_id": "",
       "version_major": 2,
       "version_minor": 0
      },
      "text/plain": [
       "HBox(children=(FloatProgress(value=0.0, description='Training', layout=Layout(flex='2'), max=1250.0, style=Pro…"
      ]
     },
     "metadata": {},
     "output_type": "display_data"
    },
    {
     "name": "stdout",
     "output_type": "stream",
     "text": [
      "Epoch 399: train=8.38941, val=7.88272, took 35.489 s\n",
      "  Validation Found 50806 of 54504, added 1986 (eff 93.22%) (0.199 FP/event)\n"
     ]
    },
    {
     "name": "stderr",
     "output_type": "stream",
     "text": [
      "/home/michael24peters/pv-finder_experimental/notebooks/model/training.py:143: TqdmDeprecationWarning: This function will be removed in tqdm==5.0.0\n",
      "Please use `tqdm.notebook.tqdm` instead of `tqdm.tqdm_notebook`\n",
      "  file=sys.stderr,\n"
     ]
    },
    {
     "data": {
      "application/vnd.jupyter.widget-view+json": {
       "model_id": "",
       "version_major": 2,
       "version_minor": 0
      },
      "text/plain": [
       "HBox(children=(FloatProgress(value=0.0, description='Training', layout=Layout(flex='2'), max=1250.0, style=Pro…"
      ]
     },
     "metadata": {},
     "output_type": "display_data"
    },
    {
     "name": "stdout",
     "output_type": "stream",
     "text": [
      "Epoch 400: train=8.33349, val=7.96665, took 35.524 s\n",
      "  Validation Found 51203 of 54504, added 3119 (eff 93.94%) (0.312 FP/event)\n"
     ]
    },
    {
     "name": "stderr",
     "output_type": "stream",
     "text": [
      "/home/michael24peters/pv-finder_experimental/notebooks/model/training.py:143: TqdmDeprecationWarning: This function will be removed in tqdm==5.0.0\n",
      "Please use `tqdm.notebook.tqdm` instead of `tqdm.tqdm_notebook`\n",
      "  file=sys.stderr,\n"
     ]
    },
    {
     "data": {
      "application/vnd.jupyter.widget-view+json": {
       "model_id": "",
       "version_major": 2,
       "version_minor": 0
      },
      "text/plain": [
       "HBox(children=(FloatProgress(value=0.0, description='Training', layout=Layout(flex='2'), max=1250.0, style=Pro…"
      ]
     },
     "metadata": {},
     "output_type": "display_data"
    },
    {
     "name": "stdout",
     "output_type": "stream",
     "text": [
      "Epoch 401: train=8.29683, val=7.8112, took 34.571 s\n",
      "  Validation Found 50997 of 54504, added 2293 (eff 93.57%) (0.23 FP/event)\n"
     ]
    },
    {
     "name": "stderr",
     "output_type": "stream",
     "text": [
      "/home/michael24peters/pv-finder_experimental/notebooks/model/training.py:143: TqdmDeprecationWarning: This function will be removed in tqdm==5.0.0\n",
      "Please use `tqdm.notebook.tqdm` instead of `tqdm.tqdm_notebook`\n",
      "  file=sys.stderr,\n"
     ]
    },
    {
     "data": {
      "application/vnd.jupyter.widget-view+json": {
       "model_id": "",
       "version_major": 2,
       "version_minor": 0
      },
      "text/plain": [
       "HBox(children=(FloatProgress(value=0.0, description='Training', layout=Layout(flex='2'), max=1250.0, style=Pro…"
      ]
     },
     "metadata": {},
     "output_type": "display_data"
    },
    {
     "name": "stdout",
     "output_type": "stream",
     "text": [
      "Epoch 402: train=8.26621, val=7.78649, took 34.602 s\n",
      "  Validation Found 51128 of 54504, added 2451 (eff 93.81%) (0.245 FP/event)\n"
     ]
    },
    {
     "name": "stderr",
     "output_type": "stream",
     "text": [
      "/home/michael24peters/pv-finder_experimental/notebooks/model/training.py:143: TqdmDeprecationWarning: This function will be removed in tqdm==5.0.0\n",
      "Please use `tqdm.notebook.tqdm` instead of `tqdm.tqdm_notebook`\n",
      "  file=sys.stderr,\n"
     ]
    },
    {
     "data": {
      "application/vnd.jupyter.widget-view+json": {
       "model_id": "",
       "version_major": 2,
       "version_minor": 0
      },
      "text/plain": [
       "HBox(children=(FloatProgress(value=0.0, description='Training', layout=Layout(flex='2'), max=1250.0, style=Pro…"
      ]
     },
     "metadata": {},
     "output_type": "display_data"
    },
    {
     "name": "stdout",
     "output_type": "stream",
     "text": [
      "Epoch 403: train=8.2352, val=7.83344, took 34.593 s\n",
      "  Validation Found 50771 of 54504, added 1905 (eff 93.15%) (0.191 FP/event)\n"
     ]
    },
    {
     "name": "stderr",
     "output_type": "stream",
     "text": [
      "/home/michael24peters/pv-finder_experimental/notebooks/model/training.py:143: TqdmDeprecationWarning: This function will be removed in tqdm==5.0.0\n",
      "Please use `tqdm.notebook.tqdm` instead of `tqdm.tqdm_notebook`\n",
      "  file=sys.stderr,\n"
     ]
    },
    {
     "data": {
      "application/vnd.jupyter.widget-view+json": {
       "model_id": "",
       "version_major": 2,
       "version_minor": 0
      },
      "text/plain": [
       "HBox(children=(FloatProgress(value=0.0, description='Training', layout=Layout(flex='2'), max=1250.0, style=Pro…"
      ]
     },
     "metadata": {},
     "output_type": "display_data"
    },
    {
     "name": "stdout",
     "output_type": "stream",
     "text": [
      "Epoch 404: train=8.23038, val=7.80264, took 34.524 s\n",
      "  Validation Found 51056 of 54504, added 2419 (eff 93.67%) (0.242 FP/event)\n"
     ]
    },
    {
     "name": "stderr",
     "output_type": "stream",
     "text": [
      "/home/michael24peters/pv-finder_experimental/notebooks/model/training.py:143: TqdmDeprecationWarning: This function will be removed in tqdm==5.0.0\n",
      "Please use `tqdm.notebook.tqdm` instead of `tqdm.tqdm_notebook`\n",
      "  file=sys.stderr,\n"
     ]
    },
    {
     "data": {
      "application/vnd.jupyter.widget-view+json": {
       "model_id": "",
       "version_major": 2,
       "version_minor": 0
      },
      "text/plain": [
       "HBox(children=(FloatProgress(value=0.0, description='Training', layout=Layout(flex='2'), max=1250.0, style=Pro…"
      ]
     },
     "metadata": {},
     "output_type": "display_data"
    },
    {
     "name": "stdout",
     "output_type": "stream",
     "text": [
      "Epoch 405: train=8.20097, val=7.79335, took 35.977 s\n",
      "  Validation Found 51119 of 54504, added 2483 (eff 93.79%) (0.249 FP/event)\n"
     ]
    },
    {
     "name": "stderr",
     "output_type": "stream",
     "text": [
      "/home/michael24peters/pv-finder_experimental/notebooks/model/training.py:143: TqdmDeprecationWarning: This function will be removed in tqdm==5.0.0\n",
      "Please use `tqdm.notebook.tqdm` instead of `tqdm.tqdm_notebook`\n",
      "  file=sys.stderr,\n"
     ]
    },
    {
     "data": {
      "application/vnd.jupyter.widget-view+json": {
       "model_id": "",
       "version_major": 2,
       "version_minor": 0
      },
      "text/plain": [
       "HBox(children=(FloatProgress(value=0.0, description='Training', layout=Layout(flex='2'), max=1250.0, style=Pro…"
      ]
     },
     "metadata": {},
     "output_type": "display_data"
    },
    {
     "name": "stdout",
     "output_type": "stream",
     "text": [
      "Epoch 406: train=8.18965, val=7.7791, took 35.555 s\n",
      "  Validation Found 51032 of 54504, added 2338 (eff 93.63%) (0.234 FP/event)\n"
     ]
    },
    {
     "name": "stderr",
     "output_type": "stream",
     "text": [
      "/home/michael24peters/pv-finder_experimental/notebooks/model/training.py:143: TqdmDeprecationWarning: This function will be removed in tqdm==5.0.0\n",
      "Please use `tqdm.notebook.tqdm` instead of `tqdm.tqdm_notebook`\n",
      "  file=sys.stderr,\n"
     ]
    },
    {
     "data": {
      "application/vnd.jupyter.widget-view+json": {
       "model_id": "",
       "version_major": 2,
       "version_minor": 0
      },
      "text/plain": [
       "HBox(children=(FloatProgress(value=0.0, description='Training', layout=Layout(flex='2'), max=1250.0, style=Pro…"
      ]
     },
     "metadata": {},
     "output_type": "display_data"
    },
    {
     "name": "stdout",
     "output_type": "stream",
     "text": [
      "Epoch 407: train=8.17984, val=7.72625, took 34.518 s\n",
      "  Validation Found 51291 of 54504, added 2701 (eff 94.11%) (0.271 FP/event)\n"
     ]
    },
    {
     "name": "stderr",
     "output_type": "stream",
     "text": [
      "/home/michael24peters/pv-finder_experimental/notebooks/model/training.py:143: TqdmDeprecationWarning: This function will be removed in tqdm==5.0.0\n",
      "Please use `tqdm.notebook.tqdm` instead of `tqdm.tqdm_notebook`\n",
      "  file=sys.stderr,\n"
     ]
    },
    {
     "data": {
      "application/vnd.jupyter.widget-view+json": {
       "model_id": "",
       "version_major": 2,
       "version_minor": 0
      },
      "text/plain": [
       "HBox(children=(FloatProgress(value=0.0, description='Training', layout=Layout(flex='2'), max=1250.0, style=Pro…"
      ]
     },
     "metadata": {},
     "output_type": "display_data"
    },
    {
     "name": "stdout",
     "output_type": "stream",
     "text": [
      "Epoch 408: train=8.16272, val=7.80535, took 34.512 s\n",
      "  Validation Found 51285 of 54504, added 2830 (eff 94.09%) (0.283 FP/event)\n"
     ]
    },
    {
     "name": "stderr",
     "output_type": "stream",
     "text": [
      "/home/michael24peters/pv-finder_experimental/notebooks/model/training.py:143: TqdmDeprecationWarning: This function will be removed in tqdm==5.0.0\n",
      "Please use `tqdm.notebook.tqdm` instead of `tqdm.tqdm_notebook`\n",
      "  file=sys.stderr,\n"
     ]
    },
    {
     "data": {
      "application/vnd.jupyter.widget-view+json": {
       "model_id": "",
       "version_major": 2,
       "version_minor": 0
      },
      "text/plain": [
       "HBox(children=(FloatProgress(value=0.0, description='Training', layout=Layout(flex='2'), max=1250.0, style=Pro…"
      ]
     },
     "metadata": {},
     "output_type": "display_data"
    },
    {
     "name": "stdout",
     "output_type": "stream",
     "text": [
      "Epoch 409: train=8.161, val=7.7992, took 34.475 s\n",
      "  Validation Found 50929 of 54504, added 2091 (eff 93.44%) (0.209 FP/event)\n"
     ]
    },
    {
     "name": "stderr",
     "output_type": "stream",
     "text": [
      "/home/michael24peters/pv-finder_experimental/notebooks/model/training.py:143: TqdmDeprecationWarning: This function will be removed in tqdm==5.0.0\n",
      "Please use `tqdm.notebook.tqdm` instead of `tqdm.tqdm_notebook`\n",
      "  file=sys.stderr,\n"
     ]
    },
    {
     "data": {
      "application/vnd.jupyter.widget-view+json": {
       "model_id": "",
       "version_major": 2,
       "version_minor": 0
      },
      "text/plain": [
       "HBox(children=(FloatProgress(value=0.0, description='Training', layout=Layout(flex='2'), max=1250.0, style=Pro…"
      ]
     },
     "metadata": {},
     "output_type": "display_data"
    },
    {
     "name": "stdout",
     "output_type": "stream",
     "text": [
      "Epoch 410: train=8.15554, val=7.76277, took 34.539 s\n",
      "  Validation Found 50907 of 54504, added 1935 (eff 93.40%) (0.194 FP/event)\n"
     ]
    },
    {
     "name": "stderr",
     "output_type": "stream",
     "text": [
      "/home/michael24peters/pv-finder_experimental/notebooks/model/training.py:143: TqdmDeprecationWarning: This function will be removed in tqdm==5.0.0\n",
      "Please use `tqdm.notebook.tqdm` instead of `tqdm.tqdm_notebook`\n",
      "  file=sys.stderr,\n"
     ]
    },
    {
     "data": {
      "application/vnd.jupyter.widget-view+json": {
       "model_id": "",
       "version_major": 2,
       "version_minor": 0
      },
      "text/plain": [
       "HBox(children=(FloatProgress(value=0.0, description='Training', layout=Layout(flex='2'), max=1250.0, style=Pro…"
      ]
     },
     "metadata": {},
     "output_type": "display_data"
    },
    {
     "name": "stdout",
     "output_type": "stream",
     "text": [
      "Epoch 411: train=8.14029, val=7.81538, took 36.396 s\n",
      "  Validation Found 51073 of 54504, added 2444 (eff 93.71%) (0.245 FP/event)\n"
     ]
    },
    {
     "name": "stderr",
     "output_type": "stream",
     "text": [
      "/home/michael24peters/pv-finder_experimental/notebooks/model/training.py:143: TqdmDeprecationWarning: This function will be removed in tqdm==5.0.0\n",
      "Please use `tqdm.notebook.tqdm` instead of `tqdm.tqdm_notebook`\n",
      "  file=sys.stderr,\n"
     ]
    },
    {
     "data": {
      "application/vnd.jupyter.widget-view+json": {
       "model_id": "",
       "version_major": 2,
       "version_minor": 0
      },
      "text/plain": [
       "HBox(children=(FloatProgress(value=0.0, description='Training', layout=Layout(flex='2'), max=1250.0, style=Pro…"
      ]
     },
     "metadata": {},
     "output_type": "display_data"
    },
    {
     "name": "stdout",
     "output_type": "stream",
     "text": [
      "Epoch 412: train=8.13465, val=7.7185, took 35.575 s\n",
      "  Validation Found 51041 of 54504, added 2195 (eff 93.65%) (0.22 FP/event)\n"
     ]
    },
    {
     "name": "stderr",
     "output_type": "stream",
     "text": [
      "/home/michael24peters/pv-finder_experimental/notebooks/model/training.py:143: TqdmDeprecationWarning: This function will be removed in tqdm==5.0.0\n",
      "Please use `tqdm.notebook.tqdm` instead of `tqdm.tqdm_notebook`\n",
      "  file=sys.stderr,\n"
     ]
    },
    {
     "data": {
      "application/vnd.jupyter.widget-view+json": {
       "model_id": "",
       "version_major": 2,
       "version_minor": 0
      },
      "text/plain": [
       "HBox(children=(FloatProgress(value=0.0, description='Training', layout=Layout(flex='2'), max=1250.0, style=Pro…"
      ]
     },
     "metadata": {},
     "output_type": "display_data"
    },
    {
     "name": "stdout",
     "output_type": "stream",
     "text": [
      "Epoch 413: train=8.12881, val=7.70239, took 35.574 s\n",
      "  Validation Found 51081 of 54504, added 2218 (eff 93.72%) (0.222 FP/event)\n"
     ]
    },
    {
     "name": "stderr",
     "output_type": "stream",
     "text": [
      "/home/michael24peters/pv-finder_experimental/notebooks/model/training.py:143: TqdmDeprecationWarning: This function will be removed in tqdm==5.0.0\n",
      "Please use `tqdm.notebook.tqdm` instead of `tqdm.tqdm_notebook`\n",
      "  file=sys.stderr,\n"
     ]
    },
    {
     "data": {
      "application/vnd.jupyter.widget-view+json": {
       "model_id": "",
       "version_major": 2,
       "version_minor": 0
      },
      "text/plain": [
       "HBox(children=(FloatProgress(value=0.0, description='Training', layout=Layout(flex='2'), max=1250.0, style=Pro…"
      ]
     },
     "metadata": {},
     "output_type": "display_data"
    },
    {
     "name": "stdout",
     "output_type": "stream",
     "text": [
      "Epoch 414: train=8.11693, val=7.72968, took 35.463 s\n",
      "  Validation Found 51063 of 54504, added 2247 (eff 93.69%) (0.225 FP/event)\n"
     ]
    },
    {
     "name": "stderr",
     "output_type": "stream",
     "text": [
      "/home/michael24peters/pv-finder_experimental/notebooks/model/training.py:143: TqdmDeprecationWarning: This function will be removed in tqdm==5.0.0\n",
      "Please use `tqdm.notebook.tqdm` instead of `tqdm.tqdm_notebook`\n",
      "  file=sys.stderr,\n"
     ]
    },
    {
     "data": {
      "application/vnd.jupyter.widget-view+json": {
       "model_id": "",
       "version_major": 2,
       "version_minor": 0
      },
      "text/plain": [
       "HBox(children=(FloatProgress(value=0.0, description='Training', layout=Layout(flex='2'), max=1250.0, style=Pro…"
      ]
     },
     "metadata": {},
     "output_type": "display_data"
    },
    {
     "name": "stdout",
     "output_type": "stream",
     "text": [
      "Epoch 415: train=8.10804, val=7.70195, took 35.489 s\n",
      "  Validation Found 51064 of 54504, added 2160 (eff 93.69%) (0.216 FP/event)\n"
     ]
    },
    {
     "name": "stderr",
     "output_type": "stream",
     "text": [
      "/home/michael24peters/pv-finder_experimental/notebooks/model/training.py:143: TqdmDeprecationWarning: This function will be removed in tqdm==5.0.0\n",
      "Please use `tqdm.notebook.tqdm` instead of `tqdm.tqdm_notebook`\n",
      "  file=sys.stderr,\n"
     ]
    },
    {
     "data": {
      "application/vnd.jupyter.widget-view+json": {
       "model_id": "",
       "version_major": 2,
       "version_minor": 0
      },
      "text/plain": [
       "HBox(children=(FloatProgress(value=0.0, description='Training', layout=Layout(flex='2'), max=1250.0, style=Pro…"
      ]
     },
     "metadata": {},
     "output_type": "display_data"
    },
    {
     "name": "stdout",
     "output_type": "stream",
     "text": [
      "Epoch 416: train=8.10331, val=7.68404, took 35.698 s\n",
      "  Validation Found 51203 of 54504, added 2555 (eff 93.94%) (0.256 FP/event)\n"
     ]
    },
    {
     "name": "stderr",
     "output_type": "stream",
     "text": [
      "/home/michael24peters/pv-finder_experimental/notebooks/model/training.py:143: TqdmDeprecationWarning: This function will be removed in tqdm==5.0.0\n",
      "Please use `tqdm.notebook.tqdm` instead of `tqdm.tqdm_notebook`\n",
      "  file=sys.stderr,\n"
     ]
    },
    {
     "data": {
      "application/vnd.jupyter.widget-view+json": {
       "model_id": "",
       "version_major": 2,
       "version_minor": 0
      },
      "text/plain": [
       "HBox(children=(FloatProgress(value=0.0, description='Training', layout=Layout(flex='2'), max=1250.0, style=Pro…"
      ]
     },
     "metadata": {},
     "output_type": "display_data"
    },
    {
     "name": "stdout",
     "output_type": "stream",
     "text": [
      "Epoch 417: train=8.10659, val=7.68234, took 35.612 s\n",
      "  Validation Found 51152 of 54504, added 2406 (eff 93.85%) (0.241 FP/event)\n"
     ]
    },
    {
     "name": "stderr",
     "output_type": "stream",
     "text": [
      "/home/michael24peters/pv-finder_experimental/notebooks/model/training.py:143: TqdmDeprecationWarning: This function will be removed in tqdm==5.0.0\n",
      "Please use `tqdm.notebook.tqdm` instead of `tqdm.tqdm_notebook`\n",
      "  file=sys.stderr,\n"
     ]
    },
    {
     "data": {
      "application/vnd.jupyter.widget-view+json": {
       "model_id": "",
       "version_major": 2,
       "version_minor": 0
      },
      "text/plain": [
       "HBox(children=(FloatProgress(value=0.0, description='Training', layout=Layout(flex='2'), max=1250.0, style=Pro…"
      ]
     },
     "metadata": {},
     "output_type": "display_data"
    },
    {
     "name": "stdout",
     "output_type": "stream",
     "text": [
      "Epoch 418: train=8.1002, val=7.67248, took 35.51 s\n",
      "  Validation Found 51047 of 54504, added 2080 (eff 93.66%) (0.208 FP/event)\n"
     ]
    },
    {
     "name": "stderr",
     "output_type": "stream",
     "text": [
      "/home/michael24peters/pv-finder_experimental/notebooks/model/training.py:143: TqdmDeprecationWarning: This function will be removed in tqdm==5.0.0\n",
      "Please use `tqdm.notebook.tqdm` instead of `tqdm.tqdm_notebook`\n",
      "  file=sys.stderr,\n"
     ]
    },
    {
     "data": {
      "application/vnd.jupyter.widget-view+json": {
       "model_id": "",
       "version_major": 2,
       "version_minor": 0
      },
      "text/plain": [
       "HBox(children=(FloatProgress(value=0.0, description='Training', layout=Layout(flex='2'), max=1250.0, style=Pro…"
      ]
     },
     "metadata": {},
     "output_type": "display_data"
    },
    {
     "name": "stdout",
     "output_type": "stream",
     "text": [
      "Epoch 419: train=8.08848, val=7.71493, took 35.525 s\n",
      "  Validation Found 51087 of 54504, added 2182 (eff 93.73%) (0.219 FP/event)\n"
     ]
    },
    {
     "name": "stderr",
     "output_type": "stream",
     "text": [
      "/home/michael24peters/pv-finder_experimental/notebooks/model/training.py:143: TqdmDeprecationWarning: This function will be removed in tqdm==5.0.0\n",
      "Please use `tqdm.notebook.tqdm` instead of `tqdm.tqdm_notebook`\n",
      "  file=sys.stderr,\n"
     ]
    },
    {
     "data": {
      "application/vnd.jupyter.widget-view+json": {
       "model_id": "",
       "version_major": 2,
       "version_minor": 0
      },
      "text/plain": [
       "HBox(children=(FloatProgress(value=0.0, description='Training', layout=Layout(flex='2'), max=1250.0, style=Pro…"
      ]
     },
     "metadata": {},
     "output_type": "display_data"
    },
    {
     "name": "stdout",
     "output_type": "stream",
     "text": [
      "Epoch 420: train=8.07691, val=7.67011, took 35.471 s\n",
      "  Validation Found 51137 of 54504, added 2298 (eff 93.82%) (0.23 FP/event)\n"
     ]
    },
    {
     "name": "stderr",
     "output_type": "stream",
     "text": [
      "/home/michael24peters/pv-finder_experimental/notebooks/model/training.py:143: TqdmDeprecationWarning: This function will be removed in tqdm==5.0.0\n",
      "Please use `tqdm.notebook.tqdm` instead of `tqdm.tqdm_notebook`\n",
      "  file=sys.stderr,\n"
     ]
    },
    {
     "data": {
      "application/vnd.jupyter.widget-view+json": {
       "model_id": "",
       "version_major": 2,
       "version_minor": 0
      },
      "text/plain": [
       "HBox(children=(FloatProgress(value=0.0, description='Training', layout=Layout(flex='2'), max=1250.0, style=Pro…"
      ]
     },
     "metadata": {},
     "output_type": "display_data"
    },
    {
     "name": "stdout",
     "output_type": "stream",
     "text": [
      "Epoch 421: train=8.08295, val=7.68273, took 34.563 s\n",
      "  Validation Found 51035 of 54504, added 2100 (eff 93.64%) (0.21 FP/event)\n"
     ]
    },
    {
     "name": "stderr",
     "output_type": "stream",
     "text": [
      "/home/michael24peters/pv-finder_experimental/notebooks/model/training.py:143: TqdmDeprecationWarning: This function will be removed in tqdm==5.0.0\n",
      "Please use `tqdm.notebook.tqdm` instead of `tqdm.tqdm_notebook`\n",
      "  file=sys.stderr,\n"
     ]
    },
    {
     "data": {
      "application/vnd.jupyter.widget-view+json": {
       "model_id": "",
       "version_major": 2,
       "version_minor": 0
      },
      "text/plain": [
       "HBox(children=(FloatProgress(value=0.0, description='Training', layout=Layout(flex='2'), max=1250.0, style=Pro…"
      ]
     },
     "metadata": {},
     "output_type": "display_data"
    },
    {
     "name": "stdout",
     "output_type": "stream",
     "text": [
      "Epoch 422: train=8.07805, val=7.68732, took 34.568 s\n",
      "  Validation Found 50985 of 54504, added 1999 (eff 93.54%) (0.2 FP/event)\n"
     ]
    },
    {
     "name": "stderr",
     "output_type": "stream",
     "text": [
      "/home/michael24peters/pv-finder_experimental/notebooks/model/training.py:143: TqdmDeprecationWarning: This function will be removed in tqdm==5.0.0\n",
      "Please use `tqdm.notebook.tqdm` instead of `tqdm.tqdm_notebook`\n",
      "  file=sys.stderr,\n"
     ]
    },
    {
     "data": {
      "application/vnd.jupyter.widget-view+json": {
       "model_id": "",
       "version_major": 2,
       "version_minor": 0
      },
      "text/plain": [
       "HBox(children=(FloatProgress(value=0.0, description='Training', layout=Layout(flex='2'), max=1250.0, style=Pro…"
      ]
     },
     "metadata": {},
     "output_type": "display_data"
    },
    {
     "name": "stdout",
     "output_type": "stream",
     "text": [
      "Epoch 423: train=8.07032, val=7.80342, took 34.382 s\n",
      "  Validation Found 50898 of 54504, added 1973 (eff 93.38%) (0.198 FP/event)\n"
     ]
    },
    {
     "name": "stderr",
     "output_type": "stream",
     "text": [
      "/home/michael24peters/pv-finder_experimental/notebooks/model/training.py:143: TqdmDeprecationWarning: This function will be removed in tqdm==5.0.0\n",
      "Please use `tqdm.notebook.tqdm` instead of `tqdm.tqdm_notebook`\n",
      "  file=sys.stderr,\n"
     ]
    },
    {
     "data": {
      "application/vnd.jupyter.widget-view+json": {
       "model_id": "",
       "version_major": 2,
       "version_minor": 0
      },
      "text/plain": [
       "HBox(children=(FloatProgress(value=0.0, description='Training', layout=Layout(flex='2'), max=1250.0, style=Pro…"
      ]
     },
     "metadata": {},
     "output_type": "display_data"
    },
    {
     "name": "stdout",
     "output_type": "stream",
     "text": [
      "Epoch 424: train=8.07599, val=7.65773, took 34.537 s\n",
      "  Validation Found 50996 of 54504, added 1979 (eff 93.56%) (0.198 FP/event)\n"
     ]
    },
    {
     "name": "stderr",
     "output_type": "stream",
     "text": [
      "/home/michael24peters/pv-finder_experimental/notebooks/model/training.py:143: TqdmDeprecationWarning: This function will be removed in tqdm==5.0.0\n",
      "Please use `tqdm.notebook.tqdm` instead of `tqdm.tqdm_notebook`\n",
      "  file=sys.stderr,\n"
     ]
    },
    {
     "data": {
      "application/vnd.jupyter.widget-view+json": {
       "model_id": "",
       "version_major": 2,
       "version_minor": 0
      },
      "text/plain": [
       "HBox(children=(FloatProgress(value=0.0, description='Training', layout=Layout(flex='2'), max=1250.0, style=Pro…"
      ]
     },
     "metadata": {},
     "output_type": "display_data"
    },
    {
     "name": "stdout",
     "output_type": "stream",
     "text": [
      "Epoch 425: train=8.07021, val=7.72342, took 35.586 s\n",
      "  Validation Found 50933 of 54504, added 1966 (eff 93.45%) (0.197 FP/event)\n"
     ]
    },
    {
     "name": "stderr",
     "output_type": "stream",
     "text": [
      "/home/michael24peters/pv-finder_experimental/notebooks/model/training.py:143: TqdmDeprecationWarning: This function will be removed in tqdm==5.0.0\n",
      "Please use `tqdm.notebook.tqdm` instead of `tqdm.tqdm_notebook`\n",
      "  file=sys.stderr,\n"
     ]
    },
    {
     "data": {
      "application/vnd.jupyter.widget-view+json": {
       "model_id": "",
       "version_major": 2,
       "version_minor": 0
      },
      "text/plain": [
       "HBox(children=(FloatProgress(value=0.0, description='Training', layout=Layout(flex='2'), max=1250.0, style=Pro…"
      ]
     },
     "metadata": {},
     "output_type": "display_data"
    },
    {
     "name": "stdout",
     "output_type": "stream",
     "text": [
      "Epoch 426: train=8.07339, val=7.66299, took 35.594 s\n",
      "  Validation Found 51231 of 54504, added 2435 (eff 93.99%) (0.244 FP/event)\n"
     ]
    },
    {
     "name": "stderr",
     "output_type": "stream",
     "text": [
      "/home/michael24peters/pv-finder_experimental/notebooks/model/training.py:143: TqdmDeprecationWarning: This function will be removed in tqdm==5.0.0\n",
      "Please use `tqdm.notebook.tqdm` instead of `tqdm.tqdm_notebook`\n",
      "  file=sys.stderr,\n"
     ]
    },
    {
     "data": {
      "application/vnd.jupyter.widget-view+json": {
       "model_id": "",
       "version_major": 2,
       "version_minor": 0
      },
      "text/plain": [
       "HBox(children=(FloatProgress(value=0.0, description='Training', layout=Layout(flex='2'), max=1250.0, style=Pro…"
      ]
     },
     "metadata": {},
     "output_type": "display_data"
    },
    {
     "name": "stdout",
     "output_type": "stream",
     "text": [
      "Epoch 427: train=8.06761, val=7.74103, took 35.08 s\n",
      "  Validation Found 50857 of 54504, added 1865 (eff 93.31%) (0.187 FP/event)\n"
     ]
    },
    {
     "name": "stderr",
     "output_type": "stream",
     "text": [
      "/home/michael24peters/pv-finder_experimental/notebooks/model/training.py:143: TqdmDeprecationWarning: This function will be removed in tqdm==5.0.0\n",
      "Please use `tqdm.notebook.tqdm` instead of `tqdm.tqdm_notebook`\n",
      "  file=sys.stderr,\n"
     ]
    },
    {
     "data": {
      "application/vnd.jupyter.widget-view+json": {
       "model_id": "",
       "version_major": 2,
       "version_minor": 0
      },
      "text/plain": [
       "HBox(children=(FloatProgress(value=0.0, description='Training', layout=Layout(flex='2'), max=1250.0, style=Pro…"
      ]
     },
     "metadata": {},
     "output_type": "display_data"
    },
    {
     "name": "stdout",
     "output_type": "stream",
     "text": [
      "Epoch 428: train=8.0572, val=7.69507, took 35.731 s\n",
      "  Validation Found 50985 of 54504, added 1954 (eff 93.54%) (0.196 FP/event)\n"
     ]
    },
    {
     "name": "stderr",
     "output_type": "stream",
     "text": [
      "/home/michael24peters/pv-finder_experimental/notebooks/model/training.py:143: TqdmDeprecationWarning: This function will be removed in tqdm==5.0.0\n",
      "Please use `tqdm.notebook.tqdm` instead of `tqdm.tqdm_notebook`\n",
      "  file=sys.stderr,\n"
     ]
    },
    {
     "data": {
      "application/vnd.jupyter.widget-view+json": {
       "model_id": "",
       "version_major": 2,
       "version_minor": 0
      },
      "text/plain": [
       "HBox(children=(FloatProgress(value=0.0, description='Training', layout=Layout(flex='2'), max=1250.0, style=Pro…"
      ]
     },
     "metadata": {},
     "output_type": "display_data"
    },
    {
     "name": "stdout",
     "output_type": "stream",
     "text": [
      "Epoch 429: train=8.05889, val=7.69765, took 35.607 s\n",
      "  Validation Found 50918 of 54504, added 1839 (eff 93.42%) (0.184 FP/event)\n"
     ]
    },
    {
     "name": "stderr",
     "output_type": "stream",
     "text": [
      "/home/michael24peters/pv-finder_experimental/notebooks/model/training.py:143: TqdmDeprecationWarning: This function will be removed in tqdm==5.0.0\n",
      "Please use `tqdm.notebook.tqdm` instead of `tqdm.tqdm_notebook`\n",
      "  file=sys.stderr,\n"
     ]
    },
    {
     "data": {
      "application/vnd.jupyter.widget-view+json": {
       "model_id": "",
       "version_major": 2,
       "version_minor": 0
      },
      "text/plain": [
       "HBox(children=(FloatProgress(value=0.0, description='Training', layout=Layout(flex='2'), max=1250.0, style=Pro…"
      ]
     },
     "metadata": {},
     "output_type": "display_data"
    },
    {
     "name": "stdout",
     "output_type": "stream",
     "text": [
      "Epoch 430: train=8.0499, val=7.69954, took 35.482 s\n",
      "  Validation Found 51208 of 54504, added 2590 (eff 93.95%) (0.259 FP/event)\n"
     ]
    },
    {
     "name": "stderr",
     "output_type": "stream",
     "text": [
      "/home/michael24peters/pv-finder_experimental/notebooks/model/training.py:143: TqdmDeprecationWarning: This function will be removed in tqdm==5.0.0\n",
      "Please use `tqdm.notebook.tqdm` instead of `tqdm.tqdm_notebook`\n",
      "  file=sys.stderr,\n"
     ]
    },
    {
     "data": {
      "application/vnd.jupyter.widget-view+json": {
       "model_id": "",
       "version_major": 2,
       "version_minor": 0
      },
      "text/plain": [
       "HBox(children=(FloatProgress(value=0.0, description='Training', layout=Layout(flex='2'), max=1250.0, style=Pro…"
      ]
     },
     "metadata": {},
     "output_type": "display_data"
    },
    {
     "name": "stdout",
     "output_type": "stream",
     "text": [
      "Epoch 431: train=8.03731, val=7.66835, took 35.438 s\n",
      "  Validation Found 51129 of 54504, added 2275 (eff 93.81%) (0.228 FP/event)\n"
     ]
    },
    {
     "name": "stderr",
     "output_type": "stream",
     "text": [
      "/home/michael24peters/pv-finder_experimental/notebooks/model/training.py:143: TqdmDeprecationWarning: This function will be removed in tqdm==5.0.0\n",
      "Please use `tqdm.notebook.tqdm` instead of `tqdm.tqdm_notebook`\n",
      "  file=sys.stderr,\n"
     ]
    },
    {
     "data": {
      "application/vnd.jupyter.widget-view+json": {
       "model_id": "",
       "version_major": 2,
       "version_minor": 0
      },
      "text/plain": [
       "HBox(children=(FloatProgress(value=0.0, description='Training', layout=Layout(flex='2'), max=1250.0, style=Pro…"
      ]
     },
     "metadata": {},
     "output_type": "display_data"
    },
    {
     "name": "stdout",
     "output_type": "stream",
     "text": [
      "Epoch 432: train=8.0367, val=7.66253, took 35.173 s\n",
      "  Validation Found 51077 of 54504, added 2176 (eff 93.71%) (0.218 FP/event)\n"
     ]
    },
    {
     "name": "stderr",
     "output_type": "stream",
     "text": [
      "/home/michael24peters/pv-finder_experimental/notebooks/model/training.py:143: TqdmDeprecationWarning: This function will be removed in tqdm==5.0.0\n",
      "Please use `tqdm.notebook.tqdm` instead of `tqdm.tqdm_notebook`\n",
      "  file=sys.stderr,\n"
     ]
    },
    {
     "data": {
      "application/vnd.jupyter.widget-view+json": {
       "model_id": "",
       "version_major": 2,
       "version_minor": 0
      },
      "text/plain": [
       "HBox(children=(FloatProgress(value=0.0, description='Training', layout=Layout(flex='2'), max=1250.0, style=Pro…"
      ]
     },
     "metadata": {},
     "output_type": "display_data"
    },
    {
     "name": "stdout",
     "output_type": "stream",
     "text": [
      "Epoch 433: train=8.04167, val=7.6429, took 34.599 s\n",
      "  Validation Found 51158 of 54504, added 2329 (eff 93.86%) (0.233 FP/event)\n"
     ]
    },
    {
     "name": "stderr",
     "output_type": "stream",
     "text": [
      "/home/michael24peters/pv-finder_experimental/notebooks/model/training.py:143: TqdmDeprecationWarning: This function will be removed in tqdm==5.0.0\n",
      "Please use `tqdm.notebook.tqdm` instead of `tqdm.tqdm_notebook`\n",
      "  file=sys.stderr,\n"
     ]
    },
    {
     "data": {
      "application/vnd.jupyter.widget-view+json": {
       "model_id": "",
       "version_major": 2,
       "version_minor": 0
      },
      "text/plain": [
       "HBox(children=(FloatProgress(value=0.0, description='Training', layout=Layout(flex='2'), max=1250.0, style=Pro…"
      ]
     },
     "metadata": {},
     "output_type": "display_data"
    },
    {
     "name": "stdout",
     "output_type": "stream",
     "text": [
      "Epoch 434: train=8.02664, val=7.61681, took 34.716 s\n",
      "  Validation Found 51147 of 54504, added 2188 (eff 93.84%) (0.219 FP/event)\n"
     ]
    },
    {
     "name": "stderr",
     "output_type": "stream",
     "text": [
      "/home/michael24peters/pv-finder_experimental/notebooks/model/training.py:143: TqdmDeprecationWarning: This function will be removed in tqdm==5.0.0\n",
      "Please use `tqdm.notebook.tqdm` instead of `tqdm.tqdm_notebook`\n",
      "  file=sys.stderr,\n"
     ]
    },
    {
     "data": {
      "application/vnd.jupyter.widget-view+json": {
       "model_id": "",
       "version_major": 2,
       "version_minor": 0
      },
      "text/plain": [
       "HBox(children=(FloatProgress(value=0.0, description='Training', layout=Layout(flex='2'), max=1250.0, style=Pro…"
      ]
     },
     "metadata": {},
     "output_type": "display_data"
    },
    {
     "name": "stdout",
     "output_type": "stream",
     "text": [
      "Epoch 435: train=8.02407, val=7.72124, took 34.683 s\n",
      "  Validation Found 50957 of 54504, added 1988 (eff 93.49%) (0.199 FP/event)\n"
     ]
    },
    {
     "name": "stderr",
     "output_type": "stream",
     "text": [
      "/home/michael24peters/pv-finder_experimental/notebooks/model/training.py:143: TqdmDeprecationWarning: This function will be removed in tqdm==5.0.0\n",
      "Please use `tqdm.notebook.tqdm` instead of `tqdm.tqdm_notebook`\n",
      "  file=sys.stderr,\n"
     ]
    },
    {
     "data": {
      "application/vnd.jupyter.widget-view+json": {
       "model_id": "",
       "version_major": 2,
       "version_minor": 0
      },
      "text/plain": [
       "HBox(children=(FloatProgress(value=0.0, description='Training', layout=Layout(flex='2'), max=1250.0, style=Pro…"
      ]
     },
     "metadata": {},
     "output_type": "display_data"
    },
    {
     "name": "stdout",
     "output_type": "stream",
     "text": [
      "Epoch 436: train=8.0095, val=7.65565, took 35.385 s\n",
      "  Validation Found 51214 of 54504, added 2453 (eff 93.96%) (0.246 FP/event)\n"
     ]
    },
    {
     "name": "stderr",
     "output_type": "stream",
     "text": [
      "/home/michael24peters/pv-finder_experimental/notebooks/model/training.py:143: TqdmDeprecationWarning: This function will be removed in tqdm==5.0.0\n",
      "Please use `tqdm.notebook.tqdm` instead of `tqdm.tqdm_notebook`\n",
      "  file=sys.stderr,\n"
     ]
    },
    {
     "data": {
      "application/vnd.jupyter.widget-view+json": {
       "model_id": "",
       "version_major": 2,
       "version_minor": 0
      },
      "text/plain": [
       "HBox(children=(FloatProgress(value=0.0, description='Training', layout=Layout(flex='2'), max=1250.0, style=Pro…"
      ]
     },
     "metadata": {},
     "output_type": "display_data"
    },
    {
     "name": "stdout",
     "output_type": "stream",
     "text": [
      "Epoch 437: train=8.02441, val=7.7446, took 34.468 s\n",
      "  Validation Found 50825 of 54504, added 1825 (eff 93.25%) (0.183 FP/event)\n"
     ]
    },
    {
     "name": "stderr",
     "output_type": "stream",
     "text": [
      "/home/michael24peters/pv-finder_experimental/notebooks/model/training.py:143: TqdmDeprecationWarning: This function will be removed in tqdm==5.0.0\n",
      "Please use `tqdm.notebook.tqdm` instead of `tqdm.tqdm_notebook`\n",
      "  file=sys.stderr,\n"
     ]
    },
    {
     "data": {
      "application/vnd.jupyter.widget-view+json": {
       "model_id": "",
       "version_major": 2,
       "version_minor": 0
      },
      "text/plain": [
       "HBox(children=(FloatProgress(value=0.0, description='Training', layout=Layout(flex='2'), max=1250.0, style=Pro…"
      ]
     },
     "metadata": {},
     "output_type": "display_data"
    },
    {
     "name": "stdout",
     "output_type": "stream",
     "text": [
      "Epoch 438: train=8.01074, val=7.70563, took 36.39 s\n",
      "  Validation Found 50957 of 54504, added 2026 (eff 93.49%) (0.203 FP/event)\n"
     ]
    },
    {
     "name": "stderr",
     "output_type": "stream",
     "text": [
      "/home/michael24peters/pv-finder_experimental/notebooks/model/training.py:143: TqdmDeprecationWarning: This function will be removed in tqdm==5.0.0\n",
      "Please use `tqdm.notebook.tqdm` instead of `tqdm.tqdm_notebook`\n",
      "  file=sys.stderr,\n"
     ]
    },
    {
     "data": {
      "application/vnd.jupyter.widget-view+json": {
       "model_id": "",
       "version_major": 2,
       "version_minor": 0
      },
      "text/plain": [
       "HBox(children=(FloatProgress(value=0.0, description='Training', layout=Layout(flex='2'), max=1250.0, style=Pro…"
      ]
     },
     "metadata": {},
     "output_type": "display_data"
    },
    {
     "name": "stdout",
     "output_type": "stream",
     "text": [
      "Epoch 439: train=7.9987, val=7.65881, took 35.635 s\n",
      "  Validation Found 51298 of 54504, added 2560 (eff 94.12%) (0.256 FP/event)\n"
     ]
    },
    {
     "name": "stderr",
     "output_type": "stream",
     "text": [
      "/home/michael24peters/pv-finder_experimental/notebooks/model/training.py:143: TqdmDeprecationWarning: This function will be removed in tqdm==5.0.0\n",
      "Please use `tqdm.notebook.tqdm` instead of `tqdm.tqdm_notebook`\n",
      "  file=sys.stderr,\n"
     ]
    },
    {
     "data": {
      "application/vnd.jupyter.widget-view+json": {
       "model_id": "",
       "version_major": 2,
       "version_minor": 0
      },
      "text/plain": [
       "HBox(children=(FloatProgress(value=0.0, description='Training', layout=Layout(flex='2'), max=1250.0, style=Pro…"
      ]
     },
     "metadata": {},
     "output_type": "display_data"
    },
    {
     "name": "stdout",
     "output_type": "stream",
     "text": [
      "Epoch 440: train=8.01038, val=7.7038, took 35.468 s\n",
      "  Validation Found 50903 of 54504, added 1955 (eff 93.39%) (0.196 FP/event)\n"
     ]
    },
    {
     "name": "stderr",
     "output_type": "stream",
     "text": [
      "/home/michael24peters/pv-finder_experimental/notebooks/model/training.py:143: TqdmDeprecationWarning: This function will be removed in tqdm==5.0.0\n",
      "Please use `tqdm.notebook.tqdm` instead of `tqdm.tqdm_notebook`\n",
      "  file=sys.stderr,\n"
     ]
    },
    {
     "data": {
      "application/vnd.jupyter.widget-view+json": {
       "model_id": "",
       "version_major": 2,
       "version_minor": 0
      },
      "text/plain": [
       "HBox(children=(FloatProgress(value=0.0, description='Training', layout=Layout(flex='2'), max=1250.0, style=Pro…"
      ]
     },
     "metadata": {},
     "output_type": "display_data"
    },
    {
     "name": "stdout",
     "output_type": "stream",
     "text": [
      "Epoch 441: train=8.00539, val=7.62024, took 35.466 s\n",
      "  Validation Found 51020 of 54504, added 2007 (eff 93.61%) (0.201 FP/event)\n"
     ]
    },
    {
     "name": "stderr",
     "output_type": "stream",
     "text": [
      "/home/michael24peters/pv-finder_experimental/notebooks/model/training.py:143: TqdmDeprecationWarning: This function will be removed in tqdm==5.0.0\n",
      "Please use `tqdm.notebook.tqdm` instead of `tqdm.tqdm_notebook`\n",
      "  file=sys.stderr,\n"
     ]
    },
    {
     "data": {
      "application/vnd.jupyter.widget-view+json": {
       "model_id": "",
       "version_major": 2,
       "version_minor": 0
      },
      "text/plain": [
       "HBox(children=(FloatProgress(value=0.0, description='Training', layout=Layout(flex='2'), max=1250.0, style=Pro…"
      ]
     },
     "metadata": {},
     "output_type": "display_data"
    },
    {
     "name": "stdout",
     "output_type": "stream",
     "text": [
      "Epoch 442: train=8.00709, val=7.63465, took 35.628 s\n",
      "  Validation Found 51140 of 54504, added 2321 (eff 93.83%) (0.232 FP/event)\n"
     ]
    },
    {
     "name": "stderr",
     "output_type": "stream",
     "text": [
      "/home/michael24peters/pv-finder_experimental/notebooks/model/training.py:143: TqdmDeprecationWarning: This function will be removed in tqdm==5.0.0\n",
      "Please use `tqdm.notebook.tqdm` instead of `tqdm.tqdm_notebook`\n",
      "  file=sys.stderr,\n"
     ]
    },
    {
     "data": {
      "application/vnd.jupyter.widget-view+json": {
       "model_id": "",
       "version_major": 2,
       "version_minor": 0
      },
      "text/plain": [
       "HBox(children=(FloatProgress(value=0.0, description='Training', layout=Layout(flex='2'), max=1250.0, style=Pro…"
      ]
     },
     "metadata": {},
     "output_type": "display_data"
    },
    {
     "name": "stdout",
     "output_type": "stream",
     "text": [
      "Epoch 443: train=8.00392, val=7.62879, took 34.855 s\n",
      "  Validation Found 51080 of 54504, added 2204 (eff 93.72%) (0.221 FP/event)\n"
     ]
    },
    {
     "name": "stderr",
     "output_type": "stream",
     "text": [
      "/home/michael24peters/pv-finder_experimental/notebooks/model/training.py:143: TqdmDeprecationWarning: This function will be removed in tqdm==5.0.0\n",
      "Please use `tqdm.notebook.tqdm` instead of `tqdm.tqdm_notebook`\n",
      "  file=sys.stderr,\n"
     ]
    },
    {
     "data": {
      "application/vnd.jupyter.widget-view+json": {
       "model_id": "",
       "version_major": 2,
       "version_minor": 0
      },
      "text/plain": [
       "HBox(children=(FloatProgress(value=0.0, description='Training', layout=Layout(flex='2'), max=1250.0, style=Pro…"
      ]
     },
     "metadata": {},
     "output_type": "display_data"
    },
    {
     "name": "stdout",
     "output_type": "stream",
     "text": [
      "Epoch 444: train=8.00039, val=7.60606, took 34.703 s\n",
      "  Validation Found 51139 of 54504, added 2159 (eff 93.83%) (0.216 FP/event)\n"
     ]
    },
    {
     "name": "stderr",
     "output_type": "stream",
     "text": [
      "/home/michael24peters/pv-finder_experimental/notebooks/model/training.py:143: TqdmDeprecationWarning: This function will be removed in tqdm==5.0.0\n",
      "Please use `tqdm.notebook.tqdm` instead of `tqdm.tqdm_notebook`\n",
      "  file=sys.stderr,\n"
     ]
    },
    {
     "data": {
      "application/vnd.jupyter.widget-view+json": {
       "model_id": "",
       "version_major": 2,
       "version_minor": 0
      },
      "text/plain": [
       "HBox(children=(FloatProgress(value=0.0, description='Training', layout=Layout(flex='2'), max=1250.0, style=Pro…"
      ]
     },
     "metadata": {},
     "output_type": "display_data"
    },
    {
     "name": "stdout",
     "output_type": "stream",
     "text": [
      "Epoch 445: train=7.99054, val=7.66771, took 34.489 s\n",
      "  Validation Found 51158 of 54504, added 2366 (eff 93.86%) (0.237 FP/event)\n"
     ]
    },
    {
     "name": "stderr",
     "output_type": "stream",
     "text": [
      "/home/michael24peters/pv-finder_experimental/notebooks/model/training.py:143: TqdmDeprecationWarning: This function will be removed in tqdm==5.0.0\n",
      "Please use `tqdm.notebook.tqdm` instead of `tqdm.tqdm_notebook`\n",
      "  file=sys.stderr,\n"
     ]
    },
    {
     "data": {
      "application/vnd.jupyter.widget-view+json": {
       "model_id": "",
       "version_major": 2,
       "version_minor": 0
      },
      "text/plain": [
       "HBox(children=(FloatProgress(value=0.0, description='Training', layout=Layout(flex='2'), max=1250.0, style=Pro…"
      ]
     },
     "metadata": {},
     "output_type": "display_data"
    },
    {
     "name": "stdout",
     "output_type": "stream",
     "text": [
      "Epoch 446: train=8.00055, val=7.6042, took 34.489 s\n",
      "  Validation Found 51103 of 54504, added 2131 (eff 93.76%) (0.213 FP/event)\n"
     ]
    },
    {
     "name": "stderr",
     "output_type": "stream",
     "text": [
      "/home/michael24peters/pv-finder_experimental/notebooks/model/training.py:143: TqdmDeprecationWarning: This function will be removed in tqdm==5.0.0\n",
      "Please use `tqdm.notebook.tqdm` instead of `tqdm.tqdm_notebook`\n",
      "  file=sys.stderr,\n"
     ]
    },
    {
     "data": {
      "application/vnd.jupyter.widget-view+json": {
       "model_id": "",
       "version_major": 2,
       "version_minor": 0
      },
      "text/plain": [
       "HBox(children=(FloatProgress(value=0.0, description='Training', layout=Layout(flex='2'), max=1250.0, style=Pro…"
      ]
     },
     "metadata": {},
     "output_type": "display_data"
    },
    {
     "name": "stdout",
     "output_type": "stream",
     "text": [
      "Epoch 447: train=7.99198, val=7.68077, took 34.489 s\n",
      "  Validation Found 51334 of 54504, added 2846 (eff 94.18%) (0.285 FP/event)\n"
     ]
    },
    {
     "name": "stderr",
     "output_type": "stream",
     "text": [
      "/home/michael24peters/pv-finder_experimental/notebooks/model/training.py:143: TqdmDeprecationWarning: This function will be removed in tqdm==5.0.0\n",
      "Please use `tqdm.notebook.tqdm` instead of `tqdm.tqdm_notebook`\n",
      "  file=sys.stderr,\n"
     ]
    },
    {
     "data": {
      "application/vnd.jupyter.widget-view+json": {
       "model_id": "",
       "version_major": 2,
       "version_minor": 0
      },
      "text/plain": [
       "HBox(children=(FloatProgress(value=0.0, description='Training', layout=Layout(flex='2'), max=1250.0, style=Pro…"
      ]
     },
     "metadata": {},
     "output_type": "display_data"
    },
    {
     "name": "stdout",
     "output_type": "stream",
     "text": [
      "Epoch 448: train=7.98255, val=7.64721, took 34.465 s\n",
      "  Validation Found 51081 of 54504, added 2223 (eff 93.72%) (0.223 FP/event)\n"
     ]
    },
    {
     "name": "stderr",
     "output_type": "stream",
     "text": [
      "/home/michael24peters/pv-finder_experimental/notebooks/model/training.py:143: TqdmDeprecationWarning: This function will be removed in tqdm==5.0.0\n",
      "Please use `tqdm.notebook.tqdm` instead of `tqdm.tqdm_notebook`\n",
      "  file=sys.stderr,\n"
     ]
    },
    {
     "data": {
      "application/vnd.jupyter.widget-view+json": {
       "model_id": "",
       "version_major": 2,
       "version_minor": 0
      },
      "text/plain": [
       "HBox(children=(FloatProgress(value=0.0, description='Training', layout=Layout(flex='2'), max=1250.0, style=Pro…"
      ]
     },
     "metadata": {},
     "output_type": "display_data"
    },
    {
     "name": "stdout",
     "output_type": "stream",
     "text": [
      "Epoch 449: train=7.98471, val=7.65669, took 35.092 s\n",
      "  Validation Found 51260 of 54504, added 2660 (eff 94.05%) (0.266 FP/event)\n"
     ]
    },
    {
     "name": "stderr",
     "output_type": "stream",
     "text": [
      "/home/michael24peters/pv-finder_experimental/notebooks/model/training.py:143: TqdmDeprecationWarning: This function will be removed in tqdm==5.0.0\n",
      "Please use `tqdm.notebook.tqdm` instead of `tqdm.tqdm_notebook`\n",
      "  file=sys.stderr,\n"
     ]
    },
    {
     "data": {
      "application/vnd.jupyter.widget-view+json": {
       "model_id": "",
       "version_major": 2,
       "version_minor": 0
      },
      "text/plain": [
       "HBox(children=(FloatProgress(value=0.0, description='Training', layout=Layout(flex='2'), max=1250.0, style=Pro…"
      ]
     },
     "metadata": {},
     "output_type": "display_data"
    },
    {
     "name": "stdout",
     "output_type": "stream",
     "text": [
      "Epoch 450: train=7.98847, val=7.67065, took 34.545 s\n",
      "  Validation Found 51032 of 54504, added 2059 (eff 93.63%) (0.206 FP/event)\n"
     ]
    },
    {
     "name": "stderr",
     "output_type": "stream",
     "text": [
      "/home/michael24peters/pv-finder_experimental/notebooks/model/training.py:143: TqdmDeprecationWarning: This function will be removed in tqdm==5.0.0\n",
      "Please use `tqdm.notebook.tqdm` instead of `tqdm.tqdm_notebook`\n",
      "  file=sys.stderr,\n"
     ]
    },
    {
     "data": {
      "application/vnd.jupyter.widget-view+json": {
       "model_id": "",
       "version_major": 2,
       "version_minor": 0
      },
      "text/plain": [
       "HBox(children=(FloatProgress(value=0.0, description='Training', layout=Layout(flex='2'), max=1250.0, style=Pro…"
      ]
     },
     "metadata": {},
     "output_type": "display_data"
    },
    {
     "name": "stdout",
     "output_type": "stream",
     "text": [
      "Epoch 451: train=7.98113, val=7.59766, took 34.604 s\n",
      "  Validation Found 51191 of 54504, added 2271 (eff 93.92%) (0.227 FP/event)\n"
     ]
    },
    {
     "name": "stderr",
     "output_type": "stream",
     "text": [
      "/home/michael24peters/pv-finder_experimental/notebooks/model/training.py:143: TqdmDeprecationWarning: This function will be removed in tqdm==5.0.0\n",
      "Please use `tqdm.notebook.tqdm` instead of `tqdm.tqdm_notebook`\n",
      "  file=sys.stderr,\n"
     ]
    },
    {
     "data": {
      "application/vnd.jupyter.widget-view+json": {
       "model_id": "",
       "version_major": 2,
       "version_minor": 0
      },
      "text/plain": [
       "HBox(children=(FloatProgress(value=0.0, description='Training', layout=Layout(flex='2'), max=1250.0, style=Pro…"
      ]
     },
     "metadata": {},
     "output_type": "display_data"
    },
    {
     "name": "stdout",
     "output_type": "stream",
     "text": [
      "Epoch 452: train=7.97597, val=7.6254, took 34.589 s\n",
      "  Validation Found 51246 of 54504, added 2572 (eff 94.02%) (0.258 FP/event)\n"
     ]
    },
    {
     "name": "stderr",
     "output_type": "stream",
     "text": [
      "/home/michael24peters/pv-finder_experimental/notebooks/model/training.py:143: TqdmDeprecationWarning: This function will be removed in tqdm==5.0.0\n",
      "Please use `tqdm.notebook.tqdm` instead of `tqdm.tqdm_notebook`\n",
      "  file=sys.stderr,\n"
     ]
    },
    {
     "data": {
      "application/vnd.jupyter.widget-view+json": {
       "model_id": "",
       "version_major": 2,
       "version_minor": 0
      },
      "text/plain": [
       "HBox(children=(FloatProgress(value=0.0, description='Training', layout=Layout(flex='2'), max=1250.0, style=Pro…"
      ]
     },
     "metadata": {},
     "output_type": "display_data"
    },
    {
     "name": "stdout",
     "output_type": "stream",
     "text": [
      "Epoch 453: train=7.972, val=7.59647, took 34.556 s\n",
      "  Validation Found 51153 of 54504, added 2207 (eff 93.85%) (0.221 FP/event)\n"
     ]
    },
    {
     "name": "stderr",
     "output_type": "stream",
     "text": [
      "/home/michael24peters/pv-finder_experimental/notebooks/model/training.py:143: TqdmDeprecationWarning: This function will be removed in tqdm==5.0.0\n",
      "Please use `tqdm.notebook.tqdm` instead of `tqdm.tqdm_notebook`\n",
      "  file=sys.stderr,\n"
     ]
    },
    {
     "data": {
      "application/vnd.jupyter.widget-view+json": {
       "model_id": "",
       "version_major": 2,
       "version_minor": 0
      },
      "text/plain": [
       "HBox(children=(FloatProgress(value=0.0, description='Training', layout=Layout(flex='2'), max=1250.0, style=Pro…"
      ]
     },
     "metadata": {},
     "output_type": "display_data"
    },
    {
     "name": "stdout",
     "output_type": "stream",
     "text": [
      "Epoch 454: train=7.9835, val=7.60453, took 34.795 s\n",
      "  Validation Found 51133 of 54504, added 2199 (eff 93.82%) (0.22 FP/event)\n"
     ]
    },
    {
     "name": "stderr",
     "output_type": "stream",
     "text": [
      "/home/michael24peters/pv-finder_experimental/notebooks/model/training.py:143: TqdmDeprecationWarning: This function will be removed in tqdm==5.0.0\n",
      "Please use `tqdm.notebook.tqdm` instead of `tqdm.tqdm_notebook`\n",
      "  file=sys.stderr,\n"
     ]
    },
    {
     "data": {
      "application/vnd.jupyter.widget-view+json": {
       "model_id": "",
       "version_major": 2,
       "version_minor": 0
      },
      "text/plain": [
       "HBox(children=(FloatProgress(value=0.0, description='Training', layout=Layout(flex='2'), max=1250.0, style=Pro…"
      ]
     },
     "metadata": {},
     "output_type": "display_data"
    },
    {
     "name": "stdout",
     "output_type": "stream",
     "text": [
      "Epoch 455: train=7.96621, val=7.67488, took 34.369 s\n",
      "  Validation Found 50973 of 54504, added 1982 (eff 93.52%) (0.198 FP/event)\n"
     ]
    },
    {
     "name": "stderr",
     "output_type": "stream",
     "text": [
      "/home/michael24peters/pv-finder_experimental/notebooks/model/training.py:143: TqdmDeprecationWarning: This function will be removed in tqdm==5.0.0\n",
      "Please use `tqdm.notebook.tqdm` instead of `tqdm.tqdm_notebook`\n",
      "  file=sys.stderr,\n"
     ]
    },
    {
     "data": {
      "application/vnd.jupyter.widget-view+json": {
       "model_id": "",
       "version_major": 2,
       "version_minor": 0
      },
      "text/plain": [
       "HBox(children=(FloatProgress(value=0.0, description='Training', layout=Layout(flex='2'), max=1250.0, style=Pro…"
      ]
     },
     "metadata": {},
     "output_type": "display_data"
    },
    {
     "name": "stdout",
     "output_type": "stream",
     "text": [
      "Epoch 456: train=7.96922, val=7.64846, took 34.632 s\n",
      "  Validation Found 51210 of 54504, added 2506 (eff 93.96%) (0.251 FP/event)\n"
     ]
    },
    {
     "name": "stderr",
     "output_type": "stream",
     "text": [
      "/home/michael24peters/pv-finder_experimental/notebooks/model/training.py:143: TqdmDeprecationWarning: This function will be removed in tqdm==5.0.0\n",
      "Please use `tqdm.notebook.tqdm` instead of `tqdm.tqdm_notebook`\n",
      "  file=sys.stderr,\n"
     ]
    },
    {
     "data": {
      "application/vnd.jupyter.widget-view+json": {
       "model_id": "",
       "version_major": 2,
       "version_minor": 0
      },
      "text/plain": [
       "HBox(children=(FloatProgress(value=0.0, description='Training', layout=Layout(flex='2'), max=1250.0, style=Pro…"
      ]
     },
     "metadata": {},
     "output_type": "display_data"
    },
    {
     "name": "stdout",
     "output_type": "stream",
     "text": [
      "Epoch 457: train=7.96397, val=7.63178, took 34.669 s\n",
      "  Validation Found 51027 of 54504, added 1954 (eff 93.62%) (0.196 FP/event)\n"
     ]
    },
    {
     "name": "stderr",
     "output_type": "stream",
     "text": [
      "/home/michael24peters/pv-finder_experimental/notebooks/model/training.py:143: TqdmDeprecationWarning: This function will be removed in tqdm==5.0.0\n",
      "Please use `tqdm.notebook.tqdm` instead of `tqdm.tqdm_notebook`\n",
      "  file=sys.stderr,\n"
     ]
    },
    {
     "data": {
      "application/vnd.jupyter.widget-view+json": {
       "model_id": "",
       "version_major": 2,
       "version_minor": 0
      },
      "text/plain": [
       "HBox(children=(FloatProgress(value=0.0, description='Training', layout=Layout(flex='2'), max=1250.0, style=Pro…"
      ]
     },
     "metadata": {},
     "output_type": "display_data"
    },
    {
     "name": "stdout",
     "output_type": "stream",
     "text": [
      "Epoch 458: train=7.97164, val=7.61386, took 34.6 s\n",
      "  Validation Found 51147 of 54504, added 2222 (eff 93.84%) (0.223 FP/event)\n"
     ]
    },
    {
     "name": "stderr",
     "output_type": "stream",
     "text": [
      "/home/michael24peters/pv-finder_experimental/notebooks/model/training.py:143: TqdmDeprecationWarning: This function will be removed in tqdm==5.0.0\n",
      "Please use `tqdm.notebook.tqdm` instead of `tqdm.tqdm_notebook`\n",
      "  file=sys.stderr,\n"
     ]
    },
    {
     "data": {
      "application/vnd.jupyter.widget-view+json": {
       "model_id": "",
       "version_major": 2,
       "version_minor": 0
      },
      "text/plain": [
       "HBox(children=(FloatProgress(value=0.0, description='Training', layout=Layout(flex='2'), max=1250.0, style=Pro…"
      ]
     },
     "metadata": {},
     "output_type": "display_data"
    },
    {
     "name": "stdout",
     "output_type": "stream",
     "text": [
      "Epoch 459: train=7.96238, val=7.6278, took 34.519 s\n",
      "  Validation Found 51152 of 54504, added 2367 (eff 93.85%) (0.237 FP/event)\n"
     ]
    },
    {
     "name": "stderr",
     "output_type": "stream",
     "text": [
      "/home/michael24peters/pv-finder_experimental/notebooks/model/training.py:143: TqdmDeprecationWarning: This function will be removed in tqdm==5.0.0\n",
      "Please use `tqdm.notebook.tqdm` instead of `tqdm.tqdm_notebook`\n",
      "  file=sys.stderr,\n"
     ]
    },
    {
     "data": {
      "application/vnd.jupyter.widget-view+json": {
       "model_id": "",
       "version_major": 2,
       "version_minor": 0
      },
      "text/plain": [
       "HBox(children=(FloatProgress(value=0.0, description='Training', layout=Layout(flex='2'), max=1250.0, style=Pro…"
      ]
     },
     "metadata": {},
     "output_type": "display_data"
    },
    {
     "name": "stdout",
     "output_type": "stream",
     "text": [
      "Epoch 460: train=7.97212, val=7.72995, took 34.359 s\n",
      "  Validation Found 50815 of 54504, added 1899 (eff 93.23%) (0.19 FP/event)\n"
     ]
    },
    {
     "name": "stderr",
     "output_type": "stream",
     "text": [
      "/home/michael24peters/pv-finder_experimental/notebooks/model/training.py:143: TqdmDeprecationWarning: This function will be removed in tqdm==5.0.0\n",
      "Please use `tqdm.notebook.tqdm` instead of `tqdm.tqdm_notebook`\n",
      "  file=sys.stderr,\n"
     ]
    },
    {
     "data": {
      "application/vnd.jupyter.widget-view+json": {
       "model_id": "",
       "version_major": 2,
       "version_minor": 0
      },
      "text/plain": [
       "HBox(children=(FloatProgress(value=0.0, description='Training', layout=Layout(flex='2'), max=1250.0, style=Pro…"
      ]
     },
     "metadata": {},
     "output_type": "display_data"
    },
    {
     "name": "stdout",
     "output_type": "stream",
     "text": [
      "Epoch 461: train=7.97356, val=7.64478, took 34.564 s\n",
      "  Validation Found 51056 of 54504, added 1981 (eff 93.67%) (0.198 FP/event)\n"
     ]
    },
    {
     "name": "stderr",
     "output_type": "stream",
     "text": [
      "/home/michael24peters/pv-finder_experimental/notebooks/model/training.py:143: TqdmDeprecationWarning: This function will be removed in tqdm==5.0.0\n",
      "Please use `tqdm.notebook.tqdm` instead of `tqdm.tqdm_notebook`\n",
      "  file=sys.stderr,\n"
     ]
    },
    {
     "data": {
      "application/vnd.jupyter.widget-view+json": {
       "model_id": "",
       "version_major": 2,
       "version_minor": 0
      },
      "text/plain": [
       "HBox(children=(FloatProgress(value=0.0, description='Training', layout=Layout(flex='2'), max=1250.0, style=Pro…"
      ]
     },
     "metadata": {},
     "output_type": "display_data"
    },
    {
     "name": "stdout",
     "output_type": "stream",
     "text": [
      "Epoch 462: train=7.95901, val=7.62061, took 34.573 s\n",
      "  Validation Found 51151 of 54504, added 2320 (eff 93.85%) (0.232 FP/event)\n"
     ]
    },
    {
     "name": "stderr",
     "output_type": "stream",
     "text": [
      "/home/michael24peters/pv-finder_experimental/notebooks/model/training.py:143: TqdmDeprecationWarning: This function will be removed in tqdm==5.0.0\n",
      "Please use `tqdm.notebook.tqdm` instead of `tqdm.tqdm_notebook`\n",
      "  file=sys.stderr,\n"
     ]
    },
    {
     "data": {
      "application/vnd.jupyter.widget-view+json": {
       "model_id": "",
       "version_major": 2,
       "version_minor": 0
      },
      "text/plain": [
       "HBox(children=(FloatProgress(value=0.0, description='Training', layout=Layout(flex='2'), max=1250.0, style=Pro…"
      ]
     },
     "metadata": {},
     "output_type": "display_data"
    },
    {
     "name": "stdout",
     "output_type": "stream",
     "text": [
      "Epoch 463: train=7.9657, val=7.67162, took 34.578 s\n",
      "  Validation Found 51060 of 54504, added 2163 (eff 93.68%) (0.217 FP/event)\n"
     ]
    },
    {
     "name": "stderr",
     "output_type": "stream",
     "text": [
      "/home/michael24peters/pv-finder_experimental/notebooks/model/training.py:143: TqdmDeprecationWarning: This function will be removed in tqdm==5.0.0\n",
      "Please use `tqdm.notebook.tqdm` instead of `tqdm.tqdm_notebook`\n",
      "  file=sys.stderr,\n"
     ]
    },
    {
     "data": {
      "application/vnd.jupyter.widget-view+json": {
       "model_id": "",
       "version_major": 2,
       "version_minor": 0
      },
      "text/plain": [
       "HBox(children=(FloatProgress(value=0.0, description='Training', layout=Layout(flex='2'), max=1250.0, style=Pro…"
      ]
     },
     "metadata": {},
     "output_type": "display_data"
    },
    {
     "name": "stdout",
     "output_type": "stream",
     "text": [
      "Epoch 464: train=7.96079, val=7.60224, took 34.324 s\n",
      "  Validation Found 51362 of 54504, added 2666 (eff 94.24%) (0.267 FP/event)\n"
     ]
    },
    {
     "name": "stderr",
     "output_type": "stream",
     "text": [
      "/home/michael24peters/pv-finder_experimental/notebooks/model/training.py:143: TqdmDeprecationWarning: This function will be removed in tqdm==5.0.0\n",
      "Please use `tqdm.notebook.tqdm` instead of `tqdm.tqdm_notebook`\n",
      "  file=sys.stderr,\n"
     ]
    },
    {
     "data": {
      "application/vnd.jupyter.widget-view+json": {
       "model_id": "",
       "version_major": 2,
       "version_minor": 0
      },
      "text/plain": [
       "HBox(children=(FloatProgress(value=0.0, description='Training', layout=Layout(flex='2'), max=1250.0, style=Pro…"
      ]
     },
     "metadata": {},
     "output_type": "display_data"
    },
    {
     "name": "stdout",
     "output_type": "stream",
     "text": [
      "Epoch 465: train=7.9506, val=7.63278, took 34.507 s\n",
      "  Validation Found 51041 of 54504, added 2059 (eff 93.65%) (0.206 FP/event)\n"
     ]
    },
    {
     "name": "stderr",
     "output_type": "stream",
     "text": [
      "/home/michael24peters/pv-finder_experimental/notebooks/model/training.py:143: TqdmDeprecationWarning: This function will be removed in tqdm==5.0.0\n",
      "Please use `tqdm.notebook.tqdm` instead of `tqdm.tqdm_notebook`\n",
      "  file=sys.stderr,\n"
     ]
    },
    {
     "data": {
      "application/vnd.jupyter.widget-view+json": {
       "model_id": "",
       "version_major": 2,
       "version_minor": 0
      },
      "text/plain": [
       "HBox(children=(FloatProgress(value=0.0, description='Training', layout=Layout(flex='2'), max=1250.0, style=Pro…"
      ]
     },
     "metadata": {},
     "output_type": "display_data"
    },
    {
     "name": "stdout",
     "output_type": "stream",
     "text": [
      "Epoch 466: train=7.95698, val=7.5624, took 35.326 s\n",
      "  Validation Found 51219 of 54504, added 2294 (eff 93.97%) (0.23 FP/event)\n"
     ]
    },
    {
     "name": "stderr",
     "output_type": "stream",
     "text": [
      "/home/michael24peters/pv-finder_experimental/notebooks/model/training.py:143: TqdmDeprecationWarning: This function will be removed in tqdm==5.0.0\n",
      "Please use `tqdm.notebook.tqdm` instead of `tqdm.tqdm_notebook`\n",
      "  file=sys.stderr,\n"
     ]
    },
    {
     "data": {
      "application/vnd.jupyter.widget-view+json": {
       "model_id": "",
       "version_major": 2,
       "version_minor": 0
      },
      "text/plain": [
       "HBox(children=(FloatProgress(value=0.0, description='Training', layout=Layout(flex='2'), max=1250.0, style=Pro…"
      ]
     },
     "metadata": {},
     "output_type": "display_data"
    },
    {
     "name": "stdout",
     "output_type": "stream",
     "text": [
      "Epoch 467: train=7.94993, val=7.63352, took 34.472 s\n",
      "  Validation Found 51068 of 54504, added 2077 (eff 93.70%) (0.208 FP/event)\n"
     ]
    },
    {
     "name": "stderr",
     "output_type": "stream",
     "text": [
      "/home/michael24peters/pv-finder_experimental/notebooks/model/training.py:143: TqdmDeprecationWarning: This function will be removed in tqdm==5.0.0\n",
      "Please use `tqdm.notebook.tqdm` instead of `tqdm.tqdm_notebook`\n",
      "  file=sys.stderr,\n"
     ]
    },
    {
     "data": {
      "application/vnd.jupyter.widget-view+json": {
       "model_id": "",
       "version_major": 2,
       "version_minor": 0
      },
      "text/plain": [
       "HBox(children=(FloatProgress(value=0.0, description='Training', layout=Layout(flex='2'), max=1250.0, style=Pro…"
      ]
     },
     "metadata": {},
     "output_type": "display_data"
    },
    {
     "name": "stdout",
     "output_type": "stream",
     "text": [
      "Epoch 468: train=7.94962, val=7.59707, took 34.619 s\n",
      "  Validation Found 51258 of 54504, added 2452 (eff 94.04%) (0.246 FP/event)\n"
     ]
    },
    {
     "name": "stderr",
     "output_type": "stream",
     "text": [
      "/home/michael24peters/pv-finder_experimental/notebooks/model/training.py:143: TqdmDeprecationWarning: This function will be removed in tqdm==5.0.0\n",
      "Please use `tqdm.notebook.tqdm` instead of `tqdm.tqdm_notebook`\n",
      "  file=sys.stderr,\n"
     ]
    },
    {
     "data": {
      "application/vnd.jupyter.widget-view+json": {
       "model_id": "",
       "version_major": 2,
       "version_minor": 0
      },
      "text/plain": [
       "HBox(children=(FloatProgress(value=0.0, description='Training', layout=Layout(flex='2'), max=1250.0, style=Pro…"
      ]
     },
     "metadata": {},
     "output_type": "display_data"
    },
    {
     "name": "stdout",
     "output_type": "stream",
     "text": [
      "Epoch 469: train=7.94913, val=7.57935, took 35.665 s\n",
      "  Validation Found 51201 of 54504, added 2253 (eff 93.94%) (0.226 FP/event)\n"
     ]
    },
    {
     "name": "stderr",
     "output_type": "stream",
     "text": [
      "/home/michael24peters/pv-finder_experimental/notebooks/model/training.py:143: TqdmDeprecationWarning: This function will be removed in tqdm==5.0.0\n",
      "Please use `tqdm.notebook.tqdm` instead of `tqdm.tqdm_notebook`\n",
      "  file=sys.stderr,\n"
     ]
    },
    {
     "data": {
      "application/vnd.jupyter.widget-view+json": {
       "model_id": "",
       "version_major": 2,
       "version_minor": 0
      },
      "text/plain": [
       "HBox(children=(FloatProgress(value=0.0, description='Training', layout=Layout(flex='2'), max=1250.0, style=Pro…"
      ]
     },
     "metadata": {},
     "output_type": "display_data"
    },
    {
     "name": "stdout",
     "output_type": "stream",
     "text": [
      "Epoch 470: train=7.94697, val=7.63666, took 35.478 s\n",
      "  Validation Found 51013 of 54504, added 1922 (eff 93.59%) (0.192 FP/event)\n"
     ]
    },
    {
     "name": "stderr",
     "output_type": "stream",
     "text": [
      "/home/michael24peters/pv-finder_experimental/notebooks/model/training.py:143: TqdmDeprecationWarning: This function will be removed in tqdm==5.0.0\n",
      "Please use `tqdm.notebook.tqdm` instead of `tqdm.tqdm_notebook`\n",
      "  file=sys.stderr,\n"
     ]
    },
    {
     "data": {
      "application/vnd.jupyter.widget-view+json": {
       "model_id": "",
       "version_major": 2,
       "version_minor": 0
      },
      "text/plain": [
       "HBox(children=(FloatProgress(value=0.0, description='Training', layout=Layout(flex='2'), max=1250.0, style=Pro…"
      ]
     },
     "metadata": {},
     "output_type": "display_data"
    },
    {
     "name": "stdout",
     "output_type": "stream",
     "text": [
      "Epoch 471: train=7.94931, val=7.61214, took 35.608 s\n",
      "  Validation Found 51088 of 54504, added 2092 (eff 93.73%) (0.21 FP/event)\n"
     ]
    },
    {
     "name": "stderr",
     "output_type": "stream",
     "text": [
      "/home/michael24peters/pv-finder_experimental/notebooks/model/training.py:143: TqdmDeprecationWarning: This function will be removed in tqdm==5.0.0\n",
      "Please use `tqdm.notebook.tqdm` instead of `tqdm.tqdm_notebook`\n",
      "  file=sys.stderr,\n"
     ]
    },
    {
     "data": {
      "application/vnd.jupyter.widget-view+json": {
       "model_id": "",
       "version_major": 2,
       "version_minor": 0
      },
      "text/plain": [
       "HBox(children=(FloatProgress(value=0.0, description='Training', layout=Layout(flex='2'), max=1250.0, style=Pro…"
      ]
     },
     "metadata": {},
     "output_type": "display_data"
    },
    {
     "name": "stdout",
     "output_type": "stream",
     "text": [
      "Epoch 472: train=7.95069, val=7.64528, took 35.46 s\n",
      "  Validation Found 50900 of 54504, added 1793 (eff 93.39%) (0.18 FP/event)\n"
     ]
    },
    {
     "name": "stderr",
     "output_type": "stream",
     "text": [
      "/home/michael24peters/pv-finder_experimental/notebooks/model/training.py:143: TqdmDeprecationWarning: This function will be removed in tqdm==5.0.0\n",
      "Please use `tqdm.notebook.tqdm` instead of `tqdm.tqdm_notebook`\n",
      "  file=sys.stderr,\n"
     ]
    },
    {
     "data": {
      "application/vnd.jupyter.widget-view+json": {
       "model_id": "",
       "version_major": 2,
       "version_minor": 0
      },
      "text/plain": [
       "HBox(children=(FloatProgress(value=0.0, description='Training', layout=Layout(flex='2'), max=1250.0, style=Pro…"
      ]
     },
     "metadata": {},
     "output_type": "display_data"
    },
    {
     "name": "stdout",
     "output_type": "stream",
     "text": [
      "Epoch 473: train=7.94238, val=7.5777, took 35.535 s\n",
      "  Validation Found 51134 of 54504, added 2132 (eff 93.82%) (0.214 FP/event)\n"
     ]
    },
    {
     "name": "stderr",
     "output_type": "stream",
     "text": [
      "/home/michael24peters/pv-finder_experimental/notebooks/model/training.py:143: TqdmDeprecationWarning: This function will be removed in tqdm==5.0.0\n",
      "Please use `tqdm.notebook.tqdm` instead of `tqdm.tqdm_notebook`\n",
      "  file=sys.stderr,\n"
     ]
    },
    {
     "data": {
      "application/vnd.jupyter.widget-view+json": {
       "model_id": "",
       "version_major": 2,
       "version_minor": 0
      },
      "text/plain": [
       "HBox(children=(FloatProgress(value=0.0, description='Training', layout=Layout(flex='2'), max=1250.0, style=Pro…"
      ]
     },
     "metadata": {},
     "output_type": "display_data"
    },
    {
     "name": "stdout",
     "output_type": "stream",
     "text": [
      "Epoch 474: train=7.94269, val=7.58173, took 35.558 s\n",
      "  Validation Found 51092 of 54504, added 1998 (eff 93.74%) (0.2 FP/event)\n"
     ]
    },
    {
     "name": "stderr",
     "output_type": "stream",
     "text": [
      "/home/michael24peters/pv-finder_experimental/notebooks/model/training.py:143: TqdmDeprecationWarning: This function will be removed in tqdm==5.0.0\n",
      "Please use `tqdm.notebook.tqdm` instead of `tqdm.tqdm_notebook`\n",
      "  file=sys.stderr,\n"
     ]
    },
    {
     "data": {
      "application/vnd.jupyter.widget-view+json": {
       "model_id": "",
       "version_major": 2,
       "version_minor": 0
      },
      "text/plain": [
       "HBox(children=(FloatProgress(value=0.0, description='Training', layout=Layout(flex='2'), max=1250.0, style=Pro…"
      ]
     },
     "metadata": {},
     "output_type": "display_data"
    },
    {
     "name": "stdout",
     "output_type": "stream",
     "text": [
      "Epoch 475: train=7.94568, val=7.64908, took 34.783 s\n",
      "  Validation Found 51323 of 54504, added 2837 (eff 94.16%) (0.284 FP/event)\n"
     ]
    },
    {
     "name": "stderr",
     "output_type": "stream",
     "text": [
      "/home/michael24peters/pv-finder_experimental/notebooks/model/training.py:143: TqdmDeprecationWarning: This function will be removed in tqdm==5.0.0\n",
      "Please use `tqdm.notebook.tqdm` instead of `tqdm.tqdm_notebook`\n",
      "  file=sys.stderr,\n"
     ]
    },
    {
     "data": {
      "application/vnd.jupyter.widget-view+json": {
       "model_id": "",
       "version_major": 2,
       "version_minor": 0
      },
      "text/plain": [
       "HBox(children=(FloatProgress(value=0.0, description='Training', layout=Layout(flex='2'), max=1250.0, style=Pro…"
      ]
     },
     "metadata": {},
     "output_type": "display_data"
    },
    {
     "name": "stdout",
     "output_type": "stream",
     "text": [
      "Epoch 476: train=7.94176, val=7.61346, took 34.816 s\n",
      "  Validation Found 51186 of 54504, added 2290 (eff 93.91%) (0.229 FP/event)\n"
     ]
    },
    {
     "name": "stderr",
     "output_type": "stream",
     "text": [
      "/home/michael24peters/pv-finder_experimental/notebooks/model/training.py:143: TqdmDeprecationWarning: This function will be removed in tqdm==5.0.0\n",
      "Please use `tqdm.notebook.tqdm` instead of `tqdm.tqdm_notebook`\n",
      "  file=sys.stderr,\n"
     ]
    },
    {
     "data": {
      "application/vnd.jupyter.widget-view+json": {
       "model_id": "",
       "version_major": 2,
       "version_minor": 0
      },
      "text/plain": [
       "HBox(children=(FloatProgress(value=0.0, description='Training', layout=Layout(flex='2'), max=1250.0, style=Pro…"
      ]
     },
     "metadata": {},
     "output_type": "display_data"
    },
    {
     "name": "stdout",
     "output_type": "stream",
     "text": [
      "Epoch 477: train=7.95798, val=7.65822, took 35.9 s\n",
      "  Validation Found 50982 of 54504, added 2038 (eff 93.54%) (0.204 FP/event)\n"
     ]
    },
    {
     "name": "stderr",
     "output_type": "stream",
     "text": [
      "/home/michael24peters/pv-finder_experimental/notebooks/model/training.py:143: TqdmDeprecationWarning: This function will be removed in tqdm==5.0.0\n",
      "Please use `tqdm.notebook.tqdm` instead of `tqdm.tqdm_notebook`\n",
      "  file=sys.stderr,\n"
     ]
    },
    {
     "data": {
      "application/vnd.jupyter.widget-view+json": {
       "model_id": "",
       "version_major": 2,
       "version_minor": 0
      },
      "text/plain": [
       "HBox(children=(FloatProgress(value=0.0, description='Training', layout=Layout(flex='2'), max=1250.0, style=Pro…"
      ]
     },
     "metadata": {},
     "output_type": "display_data"
    },
    {
     "name": "stdout",
     "output_type": "stream",
     "text": [
      "Epoch 478: train=7.94686, val=7.57949, took 35.26 s\n",
      "  Validation Found 51290 of 54504, added 2425 (eff 94.10%) (0.243 FP/event)\n"
     ]
    },
    {
     "name": "stderr",
     "output_type": "stream",
     "text": [
      "/home/michael24peters/pv-finder_experimental/notebooks/model/training.py:143: TqdmDeprecationWarning: This function will be removed in tqdm==5.0.0\n",
      "Please use `tqdm.notebook.tqdm` instead of `tqdm.tqdm_notebook`\n",
      "  file=sys.stderr,\n"
     ]
    },
    {
     "data": {
      "application/vnd.jupyter.widget-view+json": {
       "model_id": "",
       "version_major": 2,
       "version_minor": 0
      },
      "text/plain": [
       "HBox(children=(FloatProgress(value=0.0, description='Training', layout=Layout(flex='2'), max=1250.0, style=Pro…"
      ]
     },
     "metadata": {},
     "output_type": "display_data"
    },
    {
     "name": "stdout",
     "output_type": "stream",
     "text": [
      "Epoch 479: train=7.94561, val=7.56062, took 35.103 s\n",
      "  Validation Found 51238 of 54504, added 2272 (eff 94.01%) (0.228 FP/event)\n"
     ]
    },
    {
     "name": "stderr",
     "output_type": "stream",
     "text": [
      "/home/michael24peters/pv-finder_experimental/notebooks/model/training.py:143: TqdmDeprecationWarning: This function will be removed in tqdm==5.0.0\n",
      "Please use `tqdm.notebook.tqdm` instead of `tqdm.tqdm_notebook`\n",
      "  file=sys.stderr,\n"
     ]
    },
    {
     "data": {
      "application/vnd.jupyter.widget-view+json": {
       "model_id": "",
       "version_major": 2,
       "version_minor": 0
      },
      "text/plain": [
       "HBox(children=(FloatProgress(value=0.0, description='Training', layout=Layout(flex='2'), max=1250.0, style=Pro…"
      ]
     },
     "metadata": {},
     "output_type": "display_data"
    },
    {
     "name": "stdout",
     "output_type": "stream",
     "text": [
      "Epoch 480: train=7.94791, val=7.57311, took 35.057 s\n",
      "  Validation Found 51314 of 54504, added 2574 (eff 94.15%) (0.258 FP/event)\n"
     ]
    },
    {
     "name": "stderr",
     "output_type": "stream",
     "text": [
      "/home/michael24peters/pv-finder_experimental/notebooks/model/training.py:143: TqdmDeprecationWarning: This function will be removed in tqdm==5.0.0\n",
      "Please use `tqdm.notebook.tqdm` instead of `tqdm.tqdm_notebook`\n",
      "  file=sys.stderr,\n"
     ]
    },
    {
     "data": {
      "application/vnd.jupyter.widget-view+json": {
       "model_id": "",
       "version_major": 2,
       "version_minor": 0
      },
      "text/plain": [
       "HBox(children=(FloatProgress(value=0.0, description='Training', layout=Layout(flex='2'), max=1250.0, style=Pro…"
      ]
     },
     "metadata": {},
     "output_type": "display_data"
    },
    {
     "name": "stdout",
     "output_type": "stream",
     "text": [
      "Epoch 481: train=7.94321, val=7.60577, took 35.037 s\n",
      "  Validation Found 51114 of 54504, added 2161 (eff 93.78%) (0.216 FP/event)\n"
     ]
    },
    {
     "name": "stderr",
     "output_type": "stream",
     "text": [
      "/home/michael24peters/pv-finder_experimental/notebooks/model/training.py:143: TqdmDeprecationWarning: This function will be removed in tqdm==5.0.0\n",
      "Please use `tqdm.notebook.tqdm` instead of `tqdm.tqdm_notebook`\n",
      "  file=sys.stderr,\n"
     ]
    },
    {
     "data": {
      "application/vnd.jupyter.widget-view+json": {
       "model_id": "",
       "version_major": 2,
       "version_minor": 0
      },
      "text/plain": [
       "HBox(children=(FloatProgress(value=0.0, description='Training', layout=Layout(flex='2'), max=1250.0, style=Pro…"
      ]
     },
     "metadata": {},
     "output_type": "display_data"
    },
    {
     "name": "stdout",
     "output_type": "stream",
     "text": [
      "Epoch 482: train=7.93903, val=7.56209, took 35.016 s\n",
      "  Validation Found 51115 of 54504, added 2128 (eff 93.78%) (0.213 FP/event)\n"
     ]
    },
    {
     "name": "stderr",
     "output_type": "stream",
     "text": [
      "/home/michael24peters/pv-finder_experimental/notebooks/model/training.py:143: TqdmDeprecationWarning: This function will be removed in tqdm==5.0.0\n",
      "Please use `tqdm.notebook.tqdm` instead of `tqdm.tqdm_notebook`\n",
      "  file=sys.stderr,\n"
     ]
    },
    {
     "data": {
      "application/vnd.jupyter.widget-view+json": {
       "model_id": "",
       "version_major": 2,
       "version_minor": 0
      },
      "text/plain": [
       "HBox(children=(FloatProgress(value=0.0, description='Training', layout=Layout(flex='2'), max=1250.0, style=Pro…"
      ]
     },
     "metadata": {},
     "output_type": "display_data"
    },
    {
     "name": "stdout",
     "output_type": "stream",
     "text": [
      "Epoch 483: train=7.94248, val=7.78527, took 35.038 s\n",
      "  Validation Found 50672 of 54504, added 1578 (eff 92.97%) (0.158 FP/event)\n"
     ]
    },
    {
     "name": "stderr",
     "output_type": "stream",
     "text": [
      "/home/michael24peters/pv-finder_experimental/notebooks/model/training.py:143: TqdmDeprecationWarning: This function will be removed in tqdm==5.0.0\n",
      "Please use `tqdm.notebook.tqdm` instead of `tqdm.tqdm_notebook`\n",
      "  file=sys.stderr,\n"
     ]
    },
    {
     "data": {
      "application/vnd.jupyter.widget-view+json": {
       "model_id": "",
       "version_major": 2,
       "version_minor": 0
      },
      "text/plain": [
       "HBox(children=(FloatProgress(value=0.0, description='Training', layout=Layout(flex='2'), max=1250.0, style=Pro…"
      ]
     },
     "metadata": {},
     "output_type": "display_data"
    },
    {
     "name": "stdout",
     "output_type": "stream",
     "text": [
      "Epoch 484: train=7.93133, val=7.58542, took 35.113 s\n",
      "  Validation Found 51119 of 54504, added 2143 (eff 93.79%) (0.215 FP/event)\n"
     ]
    },
    {
     "name": "stderr",
     "output_type": "stream",
     "text": [
      "/home/michael24peters/pv-finder_experimental/notebooks/model/training.py:143: TqdmDeprecationWarning: This function will be removed in tqdm==5.0.0\n",
      "Please use `tqdm.notebook.tqdm` instead of `tqdm.tqdm_notebook`\n",
      "  file=sys.stderr,\n"
     ]
    },
    {
     "data": {
      "application/vnd.jupyter.widget-view+json": {
       "model_id": "",
       "version_major": 2,
       "version_minor": 0
      },
      "text/plain": [
       "HBox(children=(FloatProgress(value=0.0, description='Training', layout=Layout(flex='2'), max=1250.0, style=Pro…"
      ]
     },
     "metadata": {},
     "output_type": "display_data"
    },
    {
     "name": "stdout",
     "output_type": "stream",
     "text": [
      "Epoch 485: train=7.94291, val=7.58105, took 35.245 s\n",
      "  Validation Found 51260 of 54504, added 2488 (eff 94.05%) (0.249 FP/event)\n"
     ]
    },
    {
     "name": "stderr",
     "output_type": "stream",
     "text": [
      "/home/michael24peters/pv-finder_experimental/notebooks/model/training.py:143: TqdmDeprecationWarning: This function will be removed in tqdm==5.0.0\n",
      "Please use `tqdm.notebook.tqdm` instead of `tqdm.tqdm_notebook`\n",
      "  file=sys.stderr,\n"
     ]
    },
    {
     "data": {
      "application/vnd.jupyter.widget-view+json": {
       "model_id": "",
       "version_major": 2,
       "version_minor": 0
      },
      "text/plain": [
       "HBox(children=(FloatProgress(value=0.0, description='Training', layout=Layout(flex='2'), max=1250.0, style=Pro…"
      ]
     },
     "metadata": {},
     "output_type": "display_data"
    },
    {
     "name": "stdout",
     "output_type": "stream",
     "text": [
      "Epoch 486: train=7.93234, val=7.57523, took 34.231 s\n",
      "  Validation Found 51121 of 54504, added 2075 (eff 93.79%) (0.208 FP/event)\n"
     ]
    },
    {
     "name": "stderr",
     "output_type": "stream",
     "text": [
      "/home/michael24peters/pv-finder_experimental/notebooks/model/training.py:143: TqdmDeprecationWarning: This function will be removed in tqdm==5.0.0\n",
      "Please use `tqdm.notebook.tqdm` instead of `tqdm.tqdm_notebook`\n",
      "  file=sys.stderr,\n"
     ]
    },
    {
     "data": {
      "application/vnd.jupyter.widget-view+json": {
       "model_id": "",
       "version_major": 2,
       "version_minor": 0
      },
      "text/plain": [
       "HBox(children=(FloatProgress(value=0.0, description='Training', layout=Layout(flex='2'), max=1250.0, style=Pro…"
      ]
     },
     "metadata": {},
     "output_type": "display_data"
    },
    {
     "name": "stdout",
     "output_type": "stream",
     "text": [
      "Epoch 487: train=7.9426, val=7.53479, took 34.378 s\n",
      "  Validation Found 51241 of 54504, added 2226 (eff 94.01%) (0.223 FP/event)\n"
     ]
    },
    {
     "name": "stderr",
     "output_type": "stream",
     "text": [
      "/home/michael24peters/pv-finder_experimental/notebooks/model/training.py:143: TqdmDeprecationWarning: This function will be removed in tqdm==5.0.0\n",
      "Please use `tqdm.notebook.tqdm` instead of `tqdm.tqdm_notebook`\n",
      "  file=sys.stderr,\n"
     ]
    },
    {
     "data": {
      "application/vnd.jupyter.widget-view+json": {
       "model_id": "",
       "version_major": 2,
       "version_minor": 0
      },
      "text/plain": [
       "HBox(children=(FloatProgress(value=0.0, description='Training', layout=Layout(flex='2'), max=1250.0, style=Pro…"
      ]
     },
     "metadata": {},
     "output_type": "display_data"
    },
    {
     "name": "stdout",
     "output_type": "stream",
     "text": [
      "Epoch 488: train=7.93235, val=7.6225, took 34.288 s\n",
      "  Validation Found 51106 of 54504, added 2225 (eff 93.77%) (0.223 FP/event)\n"
     ]
    },
    {
     "name": "stderr",
     "output_type": "stream",
     "text": [
      "/home/michael24peters/pv-finder_experimental/notebooks/model/training.py:143: TqdmDeprecationWarning: This function will be removed in tqdm==5.0.0\n",
      "Please use `tqdm.notebook.tqdm` instead of `tqdm.tqdm_notebook`\n",
      "  file=sys.stderr,\n"
     ]
    },
    {
     "data": {
      "application/vnd.jupyter.widget-view+json": {
       "model_id": "",
       "version_major": 2,
       "version_minor": 0
      },
      "text/plain": [
       "HBox(children=(FloatProgress(value=0.0, description='Training', layout=Layout(flex='2'), max=1250.0, style=Pro…"
      ]
     },
     "metadata": {},
     "output_type": "display_data"
    },
    {
     "name": "stdout",
     "output_type": "stream",
     "text": [
      "Epoch 489: train=7.93769, val=7.57705, took 34.614 s\n",
      "  Validation Found 51193 of 54504, added 2280 (eff 93.93%) (0.228 FP/event)\n"
     ]
    },
    {
     "name": "stderr",
     "output_type": "stream",
     "text": [
      "/home/michael24peters/pv-finder_experimental/notebooks/model/training.py:143: TqdmDeprecationWarning: This function will be removed in tqdm==5.0.0\n",
      "Please use `tqdm.notebook.tqdm` instead of `tqdm.tqdm_notebook`\n",
      "  file=sys.stderr,\n"
     ]
    },
    {
     "data": {
      "application/vnd.jupyter.widget-view+json": {
       "model_id": "",
       "version_major": 2,
       "version_minor": 0
      },
      "text/plain": [
       "HBox(children=(FloatProgress(value=0.0, description='Training', layout=Layout(flex='2'), max=1250.0, style=Pro…"
      ]
     },
     "metadata": {},
     "output_type": "display_data"
    },
    {
     "name": "stdout",
     "output_type": "stream",
     "text": [
      "Epoch 490: train=7.93429, val=7.60083, took 34.367 s\n",
      "  Validation Found 51154 of 54504, added 2312 (eff 93.85%) (0.232 FP/event)\n"
     ]
    },
    {
     "name": "stderr",
     "output_type": "stream",
     "text": [
      "/home/michael24peters/pv-finder_experimental/notebooks/model/training.py:143: TqdmDeprecationWarning: This function will be removed in tqdm==5.0.0\n",
      "Please use `tqdm.notebook.tqdm` instead of `tqdm.tqdm_notebook`\n",
      "  file=sys.stderr,\n"
     ]
    },
    {
     "data": {
      "application/vnd.jupyter.widget-view+json": {
       "model_id": "",
       "version_major": 2,
       "version_minor": 0
      },
      "text/plain": [
       "HBox(children=(FloatProgress(value=0.0, description='Training', layout=Layout(flex='2'), max=1250.0, style=Pro…"
      ]
     },
     "metadata": {},
     "output_type": "display_data"
    },
    {
     "name": "stdout",
     "output_type": "stream",
     "text": [
      "Epoch 491: train=7.93196, val=7.58192, took 34.534 s\n",
      "  Validation Found 51117 of 54504, added 2049 (eff 93.79%) (0.205 FP/event)\n"
     ]
    },
    {
     "name": "stderr",
     "output_type": "stream",
     "text": [
      "/home/michael24peters/pv-finder_experimental/notebooks/model/training.py:143: TqdmDeprecationWarning: This function will be removed in tqdm==5.0.0\n",
      "Please use `tqdm.notebook.tqdm` instead of `tqdm.tqdm_notebook`\n",
      "  file=sys.stderr,\n"
     ]
    },
    {
     "data": {
      "application/vnd.jupyter.widget-view+json": {
       "model_id": "",
       "version_major": 2,
       "version_minor": 0
      },
      "text/plain": [
       "HBox(children=(FloatProgress(value=0.0, description='Training', layout=Layout(flex='2'), max=1250.0, style=Pro…"
      ]
     },
     "metadata": {},
     "output_type": "display_data"
    },
    {
     "name": "stdout",
     "output_type": "stream",
     "text": [
      "Epoch 492: train=7.94229, val=7.59138, took 34.101 s\n",
      "  Validation Found 51166 of 54504, added 2287 (eff 93.88%) (0.229 FP/event)\n"
     ]
    },
    {
     "name": "stderr",
     "output_type": "stream",
     "text": [
      "/home/michael24peters/pv-finder_experimental/notebooks/model/training.py:143: TqdmDeprecationWarning: This function will be removed in tqdm==5.0.0\n",
      "Please use `tqdm.notebook.tqdm` instead of `tqdm.tqdm_notebook`\n",
      "  file=sys.stderr,\n"
     ]
    },
    {
     "data": {
      "application/vnd.jupyter.widget-view+json": {
       "model_id": "",
       "version_major": 2,
       "version_minor": 0
      },
      "text/plain": [
       "HBox(children=(FloatProgress(value=0.0, description='Training', layout=Layout(flex='2'), max=1250.0, style=Pro…"
      ]
     },
     "metadata": {},
     "output_type": "display_data"
    },
    {
     "name": "stdout",
     "output_type": "stream",
     "text": [
      "Epoch 493: train=7.93026, val=7.62589, took 34.289 s\n",
      "  Validation Found 51463 of 54504, added 2951 (eff 94.42%) (0.296 FP/event)\n"
     ]
    },
    {
     "name": "stderr",
     "output_type": "stream",
     "text": [
      "/home/michael24peters/pv-finder_experimental/notebooks/model/training.py:143: TqdmDeprecationWarning: This function will be removed in tqdm==5.0.0\n",
      "Please use `tqdm.notebook.tqdm` instead of `tqdm.tqdm_notebook`\n",
      "  file=sys.stderr,\n"
     ]
    },
    {
     "data": {
      "application/vnd.jupyter.widget-view+json": {
       "model_id": "",
       "version_major": 2,
       "version_minor": 0
      },
      "text/plain": [
       "HBox(children=(FloatProgress(value=0.0, description='Training', layout=Layout(flex='2'), max=1250.0, style=Pro…"
      ]
     },
     "metadata": {},
     "output_type": "display_data"
    },
    {
     "name": "stdout",
     "output_type": "stream",
     "text": [
      "Epoch 494: train=7.92584, val=7.54206, took 34.101 s\n",
      "  Validation Found 51284 of 54504, added 2395 (eff 94.09%) (0.24 FP/event)\n"
     ]
    },
    {
     "name": "stderr",
     "output_type": "stream",
     "text": [
      "/home/michael24peters/pv-finder_experimental/notebooks/model/training.py:143: TqdmDeprecationWarning: This function will be removed in tqdm==5.0.0\n",
      "Please use `tqdm.notebook.tqdm` instead of `tqdm.tqdm_notebook`\n",
      "  file=sys.stderr,\n"
     ]
    },
    {
     "data": {
      "application/vnd.jupyter.widget-view+json": {
       "model_id": "",
       "version_major": 2,
       "version_minor": 0
      },
      "text/plain": [
       "HBox(children=(FloatProgress(value=0.0, description='Training', layout=Layout(flex='2'), max=1250.0, style=Pro…"
      ]
     },
     "metadata": {},
     "output_type": "display_data"
    },
    {
     "name": "stdout",
     "output_type": "stream",
     "text": [
      "Epoch 495: train=7.93342, val=7.57585, took 34.161 s\n",
      "  Validation Found 51066 of 54504, added 2112 (eff 93.69%) (0.212 FP/event)\n"
     ]
    },
    {
     "name": "stderr",
     "output_type": "stream",
     "text": [
      "/home/michael24peters/pv-finder_experimental/notebooks/model/training.py:143: TqdmDeprecationWarning: This function will be removed in tqdm==5.0.0\n",
      "Please use `tqdm.notebook.tqdm` instead of `tqdm.tqdm_notebook`\n",
      "  file=sys.stderr,\n"
     ]
    },
    {
     "data": {
      "application/vnd.jupyter.widget-view+json": {
       "model_id": "",
       "version_major": 2,
       "version_minor": 0
      },
      "text/plain": [
       "HBox(children=(FloatProgress(value=0.0, description='Training', layout=Layout(flex='2'), max=1250.0, style=Pro…"
      ]
     },
     "metadata": {},
     "output_type": "display_data"
    },
    {
     "name": "stdout",
     "output_type": "stream",
     "text": [
      "Epoch 496: train=7.93106, val=7.58155, took 34.305 s\n",
      "  Validation Found 51132 of 54504, added 2113 (eff 93.81%) (0.212 FP/event)\n"
     ]
    },
    {
     "name": "stderr",
     "output_type": "stream",
     "text": [
      "/home/michael24peters/pv-finder_experimental/notebooks/model/training.py:143: TqdmDeprecationWarning: This function will be removed in tqdm==5.0.0\n",
      "Please use `tqdm.notebook.tqdm` instead of `tqdm.tqdm_notebook`\n",
      "  file=sys.stderr,\n"
     ]
    },
    {
     "data": {
      "application/vnd.jupyter.widget-view+json": {
       "model_id": "",
       "version_major": 2,
       "version_minor": 0
      },
      "text/plain": [
       "HBox(children=(FloatProgress(value=0.0, description='Training', layout=Layout(flex='2'), max=1250.0, style=Pro…"
      ]
     },
     "metadata": {},
     "output_type": "display_data"
    },
    {
     "name": "stdout",
     "output_type": "stream",
     "text": [
      "Epoch 497: train=7.9197, val=7.54988, took 34.139 s\n",
      "  Validation Found 51262 of 54504, added 2353 (eff 94.05%) (0.236 FP/event)\n"
     ]
    },
    {
     "name": "stderr",
     "output_type": "stream",
     "text": [
      "/home/michael24peters/pv-finder_experimental/notebooks/model/training.py:143: TqdmDeprecationWarning: This function will be removed in tqdm==5.0.0\n",
      "Please use `tqdm.notebook.tqdm` instead of `tqdm.tqdm_notebook`\n",
      "  file=sys.stderr,\n"
     ]
    },
    {
     "data": {
      "application/vnd.jupyter.widget-view+json": {
       "model_id": "",
       "version_major": 2,
       "version_minor": 0
      },
      "text/plain": [
       "HBox(children=(FloatProgress(value=0.0, description='Training', layout=Layout(flex='2'), max=1250.0, style=Pro…"
      ]
     },
     "metadata": {},
     "output_type": "display_data"
    },
    {
     "name": "stdout",
     "output_type": "stream",
     "text": [
      "Epoch 498: train=7.92212, val=7.57662, took 34.084 s\n",
      "  Validation Found 51273 of 54504, added 2373 (eff 94.07%) (0.238 FP/event)\n"
     ]
    },
    {
     "name": "stderr",
     "output_type": "stream",
     "text": [
      "/home/michael24peters/pv-finder_experimental/notebooks/model/training.py:143: TqdmDeprecationWarning: This function will be removed in tqdm==5.0.0\n",
      "Please use `tqdm.notebook.tqdm` instead of `tqdm.tqdm_notebook`\n",
      "  file=sys.stderr,\n"
     ]
    },
    {
     "data": {
      "application/vnd.jupyter.widget-view+json": {
       "model_id": "",
       "version_major": 2,
       "version_minor": 0
      },
      "text/plain": [
       "HBox(children=(FloatProgress(value=0.0, description='Training', layout=Layout(flex='2'), max=1250.0, style=Pro…"
      ]
     },
     "metadata": {},
     "output_type": "display_data"
    },
    {
     "name": "stdout",
     "output_type": "stream",
     "text": [
      "Epoch 499: train=7.92152, val=7.57694, took 34.146 s\n",
      "  Validation Found 51178 of 54504, added 2324 (eff 93.90%) (0.233 FP/event)\n"
     ]
    },
    {
     "name": "stderr",
     "output_type": "stream",
     "text": [
      "/home/michael24peters/pv-finder_experimental/notebooks/model/training.py:143: TqdmDeprecationWarning: This function will be removed in tqdm==5.0.0\n",
      "Please use `tqdm.notebook.tqdm` instead of `tqdm.tqdm_notebook`\n",
      "  file=sys.stderr,\n"
     ]
    },
    {
     "data": {
      "application/vnd.jupyter.widget-view+json": {
       "model_id": "",
       "version_major": 2,
       "version_minor": 0
      },
      "text/plain": [
       "HBox(children=(FloatProgress(value=0.0, description='Training', layout=Layout(flex='2'), max=1250.0, style=Pro…"
      ]
     },
     "metadata": {},
     "output_type": "display_data"
    },
    {
     "name": "stdout",
     "output_type": "stream",
     "text": [
      "Epoch 500: train=7.92256, val=7.58211, took 34.072 s\n",
      "  Validation Found 51182 of 54504, added 2334 (eff 93.91%) (0.234 FP/event)\n"
     ]
    },
    {
     "name": "stderr",
     "output_type": "stream",
     "text": [
      "/home/michael24peters/pv-finder_experimental/notebooks/model/training.py:143: TqdmDeprecationWarning: This function will be removed in tqdm==5.0.0\n",
      "Please use `tqdm.notebook.tqdm` instead of `tqdm.tqdm_notebook`\n",
      "  file=sys.stderr,\n"
     ]
    },
    {
     "data": {
      "application/vnd.jupyter.widget-view+json": {
       "model_id": "",
       "version_major": 2,
       "version_minor": 0
      },
      "text/plain": [
       "HBox(children=(FloatProgress(value=0.0, description='Training', layout=Layout(flex='2'), max=1250.0, style=Pro…"
      ]
     },
     "metadata": {},
     "output_type": "display_data"
    },
    {
     "name": "stdout",
     "output_type": "stream",
     "text": [
      "Epoch 501: train=7.91758, val=7.55879, took 34.134 s\n",
      "  Validation Found 51267 of 54504, added 2326 (eff 94.06%) (0.233 FP/event)\n"
     ]
    },
    {
     "name": "stderr",
     "output_type": "stream",
     "text": [
      "/home/michael24peters/pv-finder_experimental/notebooks/model/training.py:143: TqdmDeprecationWarning: This function will be removed in tqdm==5.0.0\n",
      "Please use `tqdm.notebook.tqdm` instead of `tqdm.tqdm_notebook`\n",
      "  file=sys.stderr,\n"
     ]
    },
    {
     "data": {
      "application/vnd.jupyter.widget-view+json": {
       "model_id": "",
       "version_major": 2,
       "version_minor": 0
      },
      "text/plain": [
       "HBox(children=(FloatProgress(value=0.0, description='Training', layout=Layout(flex='2'), max=1250.0, style=Pro…"
      ]
     },
     "metadata": {},
     "output_type": "display_data"
    },
    {
     "name": "stdout",
     "output_type": "stream",
     "text": [
      "Epoch 502: train=7.92608, val=7.68103, took 34.267 s\n",
      "  Validation Found 50884 of 54504, added 1796 (eff 93.36%) (0.18 FP/event)\n"
     ]
    },
    {
     "name": "stderr",
     "output_type": "stream",
     "text": [
      "/home/michael24peters/pv-finder_experimental/notebooks/model/training.py:143: TqdmDeprecationWarning: This function will be removed in tqdm==5.0.0\n",
      "Please use `tqdm.notebook.tqdm` instead of `tqdm.tqdm_notebook`\n",
      "  file=sys.stderr,\n"
     ]
    },
    {
     "data": {
      "application/vnd.jupyter.widget-view+json": {
       "model_id": "",
       "version_major": 2,
       "version_minor": 0
      },
      "text/plain": [
       "HBox(children=(FloatProgress(value=0.0, description='Training', layout=Layout(flex='2'), max=1250.0, style=Pro…"
      ]
     },
     "metadata": {},
     "output_type": "display_data"
    },
    {
     "name": "stdout",
     "output_type": "stream",
     "text": [
      "Epoch 503: train=7.92079, val=7.53666, took 34.086 s\n",
      "  Validation Found 51184 of 54504, added 2150 (eff 93.91%) (0.215 FP/event)\n"
     ]
    },
    {
     "name": "stderr",
     "output_type": "stream",
     "text": [
      "/home/michael24peters/pv-finder_experimental/notebooks/model/training.py:143: TqdmDeprecationWarning: This function will be removed in tqdm==5.0.0\n",
      "Please use `tqdm.notebook.tqdm` instead of `tqdm.tqdm_notebook`\n",
      "  file=sys.stderr,\n"
     ]
    },
    {
     "data": {
      "application/vnd.jupyter.widget-view+json": {
       "model_id": "",
       "version_major": 2,
       "version_minor": 0
      },
      "text/plain": [
       "HBox(children=(FloatProgress(value=0.0, description='Training', layout=Layout(flex='2'), max=1250.0, style=Pro…"
      ]
     },
     "metadata": {},
     "output_type": "display_data"
    },
    {
     "name": "stdout",
     "output_type": "stream",
     "text": [
      "Epoch 504: train=7.92321, val=7.6041, took 34.0 s\n",
      "  Validation Found 51007 of 54504, added 1960 (eff 93.58%) (0.196 FP/event)\n"
     ]
    },
    {
     "name": "stderr",
     "output_type": "stream",
     "text": [
      "/home/michael24peters/pv-finder_experimental/notebooks/model/training.py:143: TqdmDeprecationWarning: This function will be removed in tqdm==5.0.0\n",
      "Please use `tqdm.notebook.tqdm` instead of `tqdm.tqdm_notebook`\n",
      "  file=sys.stderr,\n"
     ]
    },
    {
     "data": {
      "application/vnd.jupyter.widget-view+json": {
       "model_id": "",
       "version_major": 2,
       "version_minor": 0
      },
      "text/plain": [
       "HBox(children=(FloatProgress(value=0.0, description='Training', layout=Layout(flex='2'), max=1250.0, style=Pro…"
      ]
     },
     "metadata": {},
     "output_type": "display_data"
    },
    {
     "name": "stdout",
     "output_type": "stream",
     "text": [
      "Epoch 505: train=7.92008, val=7.60875, took 34.166 s\n",
      "  Validation Found 51092 of 54504, added 2175 (eff 93.74%) (0.218 FP/event)\n"
     ]
    },
    {
     "name": "stderr",
     "output_type": "stream",
     "text": [
      "/home/michael24peters/pv-finder_experimental/notebooks/model/training.py:143: TqdmDeprecationWarning: This function will be removed in tqdm==5.0.0\n",
      "Please use `tqdm.notebook.tqdm` instead of `tqdm.tqdm_notebook`\n",
      "  file=sys.stderr,\n"
     ]
    },
    {
     "data": {
      "application/vnd.jupyter.widget-view+json": {
       "model_id": "",
       "version_major": 2,
       "version_minor": 0
      },
      "text/plain": [
       "HBox(children=(FloatProgress(value=0.0, description='Training', layout=Layout(flex='2'), max=1250.0, style=Pro…"
      ]
     },
     "metadata": {},
     "output_type": "display_data"
    },
    {
     "name": "stdout",
     "output_type": "stream",
     "text": [
      "Epoch 506: train=7.9221, val=7.57125, took 34.16 s\n",
      "  Validation Found 51386 of 54504, added 2693 (eff 94.28%) (0.27 FP/event)\n"
     ]
    },
    {
     "name": "stderr",
     "output_type": "stream",
     "text": [
      "/home/michael24peters/pv-finder_experimental/notebooks/model/training.py:143: TqdmDeprecationWarning: This function will be removed in tqdm==5.0.0\n",
      "Please use `tqdm.notebook.tqdm` instead of `tqdm.tqdm_notebook`\n",
      "  file=sys.stderr,\n"
     ]
    },
    {
     "data": {
      "application/vnd.jupyter.widget-view+json": {
       "model_id": "",
       "version_major": 2,
       "version_minor": 0
      },
      "text/plain": [
       "HBox(children=(FloatProgress(value=0.0, description='Training', layout=Layout(flex='2'), max=1250.0, style=Pro…"
      ]
     },
     "metadata": {},
     "output_type": "display_data"
    },
    {
     "name": "stdout",
     "output_type": "stream",
     "text": [
      "Epoch 507: train=7.92182, val=7.54134, took 34.202 s\n",
      "  Validation Found 51294 of 54504, added 2363 (eff 94.11%) (0.237 FP/event)\n"
     ]
    },
    {
     "name": "stderr",
     "output_type": "stream",
     "text": [
      "/home/michael24peters/pv-finder_experimental/notebooks/model/training.py:143: TqdmDeprecationWarning: This function will be removed in tqdm==5.0.0\n",
      "Please use `tqdm.notebook.tqdm` instead of `tqdm.tqdm_notebook`\n",
      "  file=sys.stderr,\n"
     ]
    },
    {
     "data": {
      "application/vnd.jupyter.widget-view+json": {
       "model_id": "",
       "version_major": 2,
       "version_minor": 0
      },
      "text/plain": [
       "HBox(children=(FloatProgress(value=0.0, description='Training', layout=Layout(flex='2'), max=1250.0, style=Pro…"
      ]
     },
     "metadata": {},
     "output_type": "display_data"
    },
    {
     "name": "stdout",
     "output_type": "stream",
     "text": [
      "Epoch 508: train=7.91941, val=7.5521, took 35.168 s\n",
      "  Validation Found 51097 of 54504, added 1987 (eff 93.75%) (0.199 FP/event)\n"
     ]
    },
    {
     "name": "stderr",
     "output_type": "stream",
     "text": [
      "/home/michael24peters/pv-finder_experimental/notebooks/model/training.py:143: TqdmDeprecationWarning: This function will be removed in tqdm==5.0.0\n",
      "Please use `tqdm.notebook.tqdm` instead of `tqdm.tqdm_notebook`\n",
      "  file=sys.stderr,\n"
     ]
    },
    {
     "data": {
      "application/vnd.jupyter.widget-view+json": {
       "model_id": "",
       "version_major": 2,
       "version_minor": 0
      },
      "text/plain": [
       "HBox(children=(FloatProgress(value=0.0, description='Training', layout=Layout(flex='2'), max=1250.0, style=Pro…"
      ]
     },
     "metadata": {},
     "output_type": "display_data"
    },
    {
     "name": "stdout",
     "output_type": "stream",
     "text": [
      "Epoch 509: train=7.91167, val=7.56218, took 35.25 s\n",
      "  Validation Found 51137 of 54504, added 2174 (eff 93.82%) (0.218 FP/event)\n"
     ]
    },
    {
     "name": "stderr",
     "output_type": "stream",
     "text": [
      "/home/michael24peters/pv-finder_experimental/notebooks/model/training.py:143: TqdmDeprecationWarning: This function will be removed in tqdm==5.0.0\n",
      "Please use `tqdm.notebook.tqdm` instead of `tqdm.tqdm_notebook`\n",
      "  file=sys.stderr,\n"
     ]
    },
    {
     "data": {
      "application/vnd.jupyter.widget-view+json": {
       "model_id": "",
       "version_major": 2,
       "version_minor": 0
      },
      "text/plain": [
       "HBox(children=(FloatProgress(value=0.0, description='Training', layout=Layout(flex='2'), max=1250.0, style=Pro…"
      ]
     },
     "metadata": {},
     "output_type": "display_data"
    },
    {
     "name": "stdout",
     "output_type": "stream",
     "text": [
      "Epoch 510: train=7.91614, val=7.59309, took 35.24 s\n",
      "  Validation Found 51045 of 54504, added 2100 (eff 93.65%) (0.21 FP/event)\n"
     ]
    },
    {
     "name": "stderr",
     "output_type": "stream",
     "text": [
      "/home/michael24peters/pv-finder_experimental/notebooks/model/training.py:143: TqdmDeprecationWarning: This function will be removed in tqdm==5.0.0\n",
      "Please use `tqdm.notebook.tqdm` instead of `tqdm.tqdm_notebook`\n",
      "  file=sys.stderr,\n"
     ]
    },
    {
     "data": {
      "application/vnd.jupyter.widget-view+json": {
       "model_id": "",
       "version_major": 2,
       "version_minor": 0
      },
      "text/plain": [
       "HBox(children=(FloatProgress(value=0.0, description='Training', layout=Layout(flex='2'), max=1250.0, style=Pro…"
      ]
     },
     "metadata": {},
     "output_type": "display_data"
    },
    {
     "name": "stdout",
     "output_type": "stream",
     "text": [
      "Epoch 511: train=7.91771, val=7.57441, took 34.294 s\n",
      "  Validation Found 51274 of 54504, added 2423 (eff 94.07%) (0.243 FP/event)\n"
     ]
    },
    {
     "name": "stderr",
     "output_type": "stream",
     "text": [
      "/home/michael24peters/pv-finder_experimental/notebooks/model/training.py:143: TqdmDeprecationWarning: This function will be removed in tqdm==5.0.0\n",
      "Please use `tqdm.notebook.tqdm` instead of `tqdm.tqdm_notebook`\n",
      "  file=sys.stderr,\n"
     ]
    },
    {
     "data": {
      "application/vnd.jupyter.widget-view+json": {
       "model_id": "",
       "version_major": 2,
       "version_minor": 0
      },
      "text/plain": [
       "HBox(children=(FloatProgress(value=0.0, description='Training', layout=Layout(flex='2'), max=1250.0, style=Pro…"
      ]
     },
     "metadata": {},
     "output_type": "display_data"
    },
    {
     "name": "stdout",
     "output_type": "stream",
     "text": [
      "Epoch 512: train=7.91361, val=7.5796, took 34.335 s\n",
      "  Validation Found 51144 of 54504, added 2164 (eff 93.84%) (0.217 FP/event)\n"
     ]
    },
    {
     "name": "stderr",
     "output_type": "stream",
     "text": [
      "/home/michael24peters/pv-finder_experimental/notebooks/model/training.py:143: TqdmDeprecationWarning: This function will be removed in tqdm==5.0.0\n",
      "Please use `tqdm.notebook.tqdm` instead of `tqdm.tqdm_notebook`\n",
      "  file=sys.stderr,\n"
     ]
    },
    {
     "data": {
      "application/vnd.jupyter.widget-view+json": {
       "model_id": "",
       "version_major": 2,
       "version_minor": 0
      },
      "text/plain": [
       "HBox(children=(FloatProgress(value=0.0, description='Training', layout=Layout(flex='2'), max=1250.0, style=Pro…"
      ]
     },
     "metadata": {},
     "output_type": "display_data"
    },
    {
     "name": "stdout",
     "output_type": "stream",
     "text": [
      "Epoch 513: train=7.91922, val=7.71292, took 34.375 s\n",
      "  Validation Found 50951 of 54504, added 2058 (eff 93.48%) (0.206 FP/event)\n"
     ]
    },
    {
     "name": "stderr",
     "output_type": "stream",
     "text": [
      "/home/michael24peters/pv-finder_experimental/notebooks/model/training.py:143: TqdmDeprecationWarning: This function will be removed in tqdm==5.0.0\n",
      "Please use `tqdm.notebook.tqdm` instead of `tqdm.tqdm_notebook`\n",
      "  file=sys.stderr,\n"
     ]
    },
    {
     "data": {
      "application/vnd.jupyter.widget-view+json": {
       "model_id": "",
       "version_major": 2,
       "version_minor": 0
      },
      "text/plain": [
       "HBox(children=(FloatProgress(value=0.0, description='Training', layout=Layout(flex='2'), max=1250.0, style=Pro…"
      ]
     },
     "metadata": {},
     "output_type": "display_data"
    },
    {
     "name": "stdout",
     "output_type": "stream",
     "text": [
      "Epoch 514: train=7.92607, val=7.53467, took 34.31 s\n",
      "  Validation Found 51330 of 54504, added 2500 (eff 94.18%) (0.25 FP/event)\n"
     ]
    },
    {
     "name": "stderr",
     "output_type": "stream",
     "text": [
      "/home/michael24peters/pv-finder_experimental/notebooks/model/training.py:143: TqdmDeprecationWarning: This function will be removed in tqdm==5.0.0\n",
      "Please use `tqdm.notebook.tqdm` instead of `tqdm.tqdm_notebook`\n",
      "  file=sys.stderr,\n"
     ]
    },
    {
     "data": {
      "application/vnd.jupyter.widget-view+json": {
       "model_id": "",
       "version_major": 2,
       "version_minor": 0
      },
      "text/plain": [
       "HBox(children=(FloatProgress(value=0.0, description='Training', layout=Layout(flex='2'), max=1250.0, style=Pro…"
      ]
     },
     "metadata": {},
     "output_type": "display_data"
    },
    {
     "name": "stdout",
     "output_type": "stream",
     "text": [
      "Epoch 515: train=7.91261, val=7.5914, took 34.196 s\n",
      "  Validation Found 51031 of 54504, added 2007 (eff 93.63%) (0.201 FP/event)\n"
     ]
    },
    {
     "name": "stderr",
     "output_type": "stream",
     "text": [
      "/home/michael24peters/pv-finder_experimental/notebooks/model/training.py:143: TqdmDeprecationWarning: This function will be removed in tqdm==5.0.0\n",
      "Please use `tqdm.notebook.tqdm` instead of `tqdm.tqdm_notebook`\n",
      "  file=sys.stderr,\n"
     ]
    },
    {
     "data": {
      "application/vnd.jupyter.widget-view+json": {
       "model_id": "",
       "version_major": 2,
       "version_minor": 0
      },
      "text/plain": [
       "HBox(children=(FloatProgress(value=0.0, description='Training', layout=Layout(flex='2'), max=1250.0, style=Pro…"
      ]
     },
     "metadata": {},
     "output_type": "display_data"
    },
    {
     "name": "stdout",
     "output_type": "stream",
     "text": [
      "Epoch 516: train=7.92124, val=7.58276, took 34.917 s\n",
      "  Validation Found 51051 of 54504, added 2033 (eff 93.66%) (0.204 FP/event)\n"
     ]
    },
    {
     "name": "stderr",
     "output_type": "stream",
     "text": [
      "/home/michael24peters/pv-finder_experimental/notebooks/model/training.py:143: TqdmDeprecationWarning: This function will be removed in tqdm==5.0.0\n",
      "Please use `tqdm.notebook.tqdm` instead of `tqdm.tqdm_notebook`\n",
      "  file=sys.stderr,\n"
     ]
    },
    {
     "data": {
      "application/vnd.jupyter.widget-view+json": {
       "model_id": "",
       "version_major": 2,
       "version_minor": 0
      },
      "text/plain": [
       "HBox(children=(FloatProgress(value=0.0, description='Training', layout=Layout(flex='2'), max=1250.0, style=Pro…"
      ]
     },
     "metadata": {},
     "output_type": "display_data"
    },
    {
     "name": "stdout",
     "output_type": "stream",
     "text": [
      "Epoch 517: train=7.90736, val=7.65158, took 34.258 s\n",
      "  Validation Found 51275 of 54504, added 2565 (eff 94.08%) (0.257 FP/event)\n"
     ]
    },
    {
     "name": "stderr",
     "output_type": "stream",
     "text": [
      "/home/michael24peters/pv-finder_experimental/notebooks/model/training.py:143: TqdmDeprecationWarning: This function will be removed in tqdm==5.0.0\n",
      "Please use `tqdm.notebook.tqdm` instead of `tqdm.tqdm_notebook`\n",
      "  file=sys.stderr,\n"
     ]
    },
    {
     "data": {
      "application/vnd.jupyter.widget-view+json": {
       "model_id": "",
       "version_major": 2,
       "version_minor": 0
      },
      "text/plain": [
       "HBox(children=(FloatProgress(value=0.0, description='Training', layout=Layout(flex='2'), max=1250.0, style=Pro…"
      ]
     },
     "metadata": {},
     "output_type": "display_data"
    },
    {
     "name": "stdout",
     "output_type": "stream",
     "text": [
      "Epoch 518: train=7.9076, val=7.56094, took 34.386 s\n",
      "  Validation Found 51264 of 54504, added 2449 (eff 94.06%) (0.245 FP/event)\n"
     ]
    },
    {
     "name": "stderr",
     "output_type": "stream",
     "text": [
      "/home/michael24peters/pv-finder_experimental/notebooks/model/training.py:143: TqdmDeprecationWarning: This function will be removed in tqdm==5.0.0\n",
      "Please use `tqdm.notebook.tqdm` instead of `tqdm.tqdm_notebook`\n",
      "  file=sys.stderr,\n"
     ]
    },
    {
     "data": {
      "application/vnd.jupyter.widget-view+json": {
       "model_id": "",
       "version_major": 2,
       "version_minor": 0
      },
      "text/plain": [
       "HBox(children=(FloatProgress(value=0.0, description='Training', layout=Layout(flex='2'), max=1250.0, style=Pro…"
      ]
     },
     "metadata": {},
     "output_type": "display_data"
    },
    {
     "name": "stdout",
     "output_type": "stream",
     "text": [
      "Epoch 519: train=7.91423, val=7.59779, took 33.857 s\n",
      "  Validation Found 51221 of 54504, added 2373 (eff 93.98%) (0.238 FP/event)\n"
     ]
    },
    {
     "name": "stderr",
     "output_type": "stream",
     "text": [
      "/home/michael24peters/pv-finder_experimental/notebooks/model/training.py:143: TqdmDeprecationWarning: This function will be removed in tqdm==5.0.0\n",
      "Please use `tqdm.notebook.tqdm` instead of `tqdm.tqdm_notebook`\n",
      "  file=sys.stderr,\n"
     ]
    },
    {
     "data": {
      "application/vnd.jupyter.widget-view+json": {
       "model_id": "",
       "version_major": 2,
       "version_minor": 0
      },
      "text/plain": [
       "HBox(children=(FloatProgress(value=0.0, description='Training', layout=Layout(flex='2'), max=1250.0, style=Pro…"
      ]
     },
     "metadata": {},
     "output_type": "display_data"
    },
    {
     "name": "stdout",
     "output_type": "stream",
     "text": [
      "Epoch 520: train=7.91646, val=7.58814, took 33.857 s\n",
      "  Validation Found 51166 of 54504, added 2183 (eff 93.88%) (0.219 FP/event)\n"
     ]
    },
    {
     "name": "stderr",
     "output_type": "stream",
     "text": [
      "/home/michael24peters/pv-finder_experimental/notebooks/model/training.py:143: TqdmDeprecationWarning: This function will be removed in tqdm==5.0.0\n",
      "Please use `tqdm.notebook.tqdm` instead of `tqdm.tqdm_notebook`\n",
      "  file=sys.stderr,\n"
     ]
    },
    {
     "data": {
      "application/vnd.jupyter.widget-view+json": {
       "model_id": "",
       "version_major": 2,
       "version_minor": 0
      },
      "text/plain": [
       "HBox(children=(FloatProgress(value=0.0, description='Training', layout=Layout(flex='2'), max=1250.0, style=Pro…"
      ]
     },
     "metadata": {},
     "output_type": "display_data"
    },
    {
     "name": "stdout",
     "output_type": "stream",
     "text": [
      "Epoch 521: train=7.91462, val=7.52996, took 34.403 s\n",
      "  Validation Found 51334 of 54504, added 2469 (eff 94.18%) (0.247 FP/event)\n"
     ]
    },
    {
     "name": "stderr",
     "output_type": "stream",
     "text": [
      "/home/michael24peters/pv-finder_experimental/notebooks/model/training.py:143: TqdmDeprecationWarning: This function will be removed in tqdm==5.0.0\n",
      "Please use `tqdm.notebook.tqdm` instead of `tqdm.tqdm_notebook`\n",
      "  file=sys.stderr,\n"
     ]
    },
    {
     "data": {
      "application/vnd.jupyter.widget-view+json": {
       "model_id": "",
       "version_major": 2,
       "version_minor": 0
      },
      "text/plain": [
       "HBox(children=(FloatProgress(value=0.0, description='Training', layout=Layout(flex='2'), max=1250.0, style=Pro…"
      ]
     },
     "metadata": {},
     "output_type": "display_data"
    },
    {
     "name": "stdout",
     "output_type": "stream",
     "text": [
      "Epoch 522: train=7.90634, val=7.54258, took 34.344 s\n",
      "  Validation Found 51254 of 54504, added 2378 (eff 94.04%) (0.238 FP/event)\n"
     ]
    },
    {
     "name": "stderr",
     "output_type": "stream",
     "text": [
      "/home/michael24peters/pv-finder_experimental/notebooks/model/training.py:143: TqdmDeprecationWarning: This function will be removed in tqdm==5.0.0\n",
      "Please use `tqdm.notebook.tqdm` instead of `tqdm.tqdm_notebook`\n",
      "  file=sys.stderr,\n"
     ]
    },
    {
     "data": {
      "application/vnd.jupyter.widget-view+json": {
       "model_id": "",
       "version_major": 2,
       "version_minor": 0
      },
      "text/plain": [
       "HBox(children=(FloatProgress(value=0.0, description='Training', layout=Layout(flex='2'), max=1250.0, style=Pro…"
      ]
     },
     "metadata": {},
     "output_type": "display_data"
    },
    {
     "name": "stdout",
     "output_type": "stream",
     "text": [
      "Epoch 523: train=7.91828, val=7.59652, took 34.299 s\n",
      "  Validation Found 51285 of 54504, added 2524 (eff 94.09%) (0.253 FP/event)\n"
     ]
    },
    {
     "name": "stderr",
     "output_type": "stream",
     "text": [
      "/home/michael24peters/pv-finder_experimental/notebooks/model/training.py:143: TqdmDeprecationWarning: This function will be removed in tqdm==5.0.0\n",
      "Please use `tqdm.notebook.tqdm` instead of `tqdm.tqdm_notebook`\n",
      "  file=sys.stderr,\n"
     ]
    },
    {
     "data": {
      "application/vnd.jupyter.widget-view+json": {
       "model_id": "",
       "version_major": 2,
       "version_minor": 0
      },
      "text/plain": [
       "HBox(children=(FloatProgress(value=0.0, description='Training', layout=Layout(flex='2'), max=1250.0, style=Pro…"
      ]
     },
     "metadata": {},
     "output_type": "display_data"
    },
    {
     "name": "stdout",
     "output_type": "stream",
     "text": [
      "Epoch 524: train=7.89535, val=7.58342, took 34.49 s\n",
      "  Validation Found 51162 of 54504, added 2157 (eff 93.87%) (0.216 FP/event)\n"
     ]
    },
    {
     "name": "stderr",
     "output_type": "stream",
     "text": [
      "/home/michael24peters/pv-finder_experimental/notebooks/model/training.py:143: TqdmDeprecationWarning: This function will be removed in tqdm==5.0.0\n",
      "Please use `tqdm.notebook.tqdm` instead of `tqdm.tqdm_notebook`\n",
      "  file=sys.stderr,\n"
     ]
    },
    {
     "data": {
      "application/vnd.jupyter.widget-view+json": {
       "model_id": "",
       "version_major": 2,
       "version_minor": 0
      },
      "text/plain": [
       "HBox(children=(FloatProgress(value=0.0, description='Training', layout=Layout(flex='2'), max=1250.0, style=Pro…"
      ]
     },
     "metadata": {},
     "output_type": "display_data"
    },
    {
     "name": "stdout",
     "output_type": "stream",
     "text": [
      "Epoch 525: train=7.8977, val=7.53346, took 35.201 s\n",
      "  Validation Found 51259 of 54504, added 2319 (eff 94.05%) (0.232 FP/event)\n"
     ]
    },
    {
     "name": "stderr",
     "output_type": "stream",
     "text": [
      "/home/michael24peters/pv-finder_experimental/notebooks/model/training.py:143: TqdmDeprecationWarning: This function will be removed in tqdm==5.0.0\n",
      "Please use `tqdm.notebook.tqdm` instead of `tqdm.tqdm_notebook`\n",
      "  file=sys.stderr,\n"
     ]
    },
    {
     "data": {
      "application/vnd.jupyter.widget-view+json": {
       "model_id": "",
       "version_major": 2,
       "version_minor": 0
      },
      "text/plain": [
       "HBox(children=(FloatProgress(value=0.0, description='Training', layout=Layout(flex='2'), max=1250.0, style=Pro…"
      ]
     },
     "metadata": {},
     "output_type": "display_data"
    },
    {
     "name": "stdout",
     "output_type": "stream",
     "text": [
      "Epoch 526: train=7.90823, val=7.60673, took 34.474 s\n",
      "  Validation Found 51030 of 54504, added 2065 (eff 93.63%) (0.207 FP/event)\n"
     ]
    },
    {
     "name": "stderr",
     "output_type": "stream",
     "text": [
      "/home/michael24peters/pv-finder_experimental/notebooks/model/training.py:143: TqdmDeprecationWarning: This function will be removed in tqdm==5.0.0\n",
      "Please use `tqdm.notebook.tqdm` instead of `tqdm.tqdm_notebook`\n",
      "  file=sys.stderr,\n"
     ]
    },
    {
     "data": {
      "application/vnd.jupyter.widget-view+json": {
       "model_id": "",
       "version_major": 2,
       "version_minor": 0
      },
      "text/plain": [
       "HBox(children=(FloatProgress(value=0.0, description='Training', layout=Layout(flex='2'), max=1250.0, style=Pro…"
      ]
     },
     "metadata": {},
     "output_type": "display_data"
    },
    {
     "name": "stdout",
     "output_type": "stream",
     "text": [
      "Epoch 527: train=7.91056, val=7.53482, took 34.735 s\n",
      "  Validation Found 51175 of 54504, added 2153 (eff 93.89%) (0.216 FP/event)\n"
     ]
    },
    {
     "name": "stderr",
     "output_type": "stream",
     "text": [
      "/home/michael24peters/pv-finder_experimental/notebooks/model/training.py:143: TqdmDeprecationWarning: This function will be removed in tqdm==5.0.0\n",
      "Please use `tqdm.notebook.tqdm` instead of `tqdm.tqdm_notebook`\n",
      "  file=sys.stderr,\n"
     ]
    },
    {
     "data": {
      "application/vnd.jupyter.widget-view+json": {
       "model_id": "",
       "version_major": 2,
       "version_minor": 0
      },
      "text/plain": [
       "HBox(children=(FloatProgress(value=0.0, description='Training', layout=Layout(flex='2'), max=1250.0, style=Pro…"
      ]
     },
     "metadata": {},
     "output_type": "display_data"
    },
    {
     "name": "stdout",
     "output_type": "stream",
     "text": [
      "Epoch 528: train=7.90377, val=7.57024, took 34.444 s\n",
      "  Validation Found 51341 of 54504, added 2609 (eff 94.20%) (0.261 FP/event)\n"
     ]
    },
    {
     "name": "stderr",
     "output_type": "stream",
     "text": [
      "/home/michael24peters/pv-finder_experimental/notebooks/model/training.py:143: TqdmDeprecationWarning: This function will be removed in tqdm==5.0.0\n",
      "Please use `tqdm.notebook.tqdm` instead of `tqdm.tqdm_notebook`\n",
      "  file=sys.stderr,\n"
     ]
    },
    {
     "data": {
      "application/vnd.jupyter.widget-view+json": {
       "model_id": "",
       "version_major": 2,
       "version_minor": 0
      },
      "text/plain": [
       "HBox(children=(FloatProgress(value=0.0, description='Training', layout=Layout(flex='2'), max=1250.0, style=Pro…"
      ]
     },
     "metadata": {},
     "output_type": "display_data"
    },
    {
     "name": "stdout",
     "output_type": "stream",
     "text": [
      "Epoch 529: train=7.89949, val=7.60717, took 34.078 s\n",
      "  Validation Found 51172 of 54504, added 2347 (eff 93.89%) (0.235 FP/event)\n"
     ]
    },
    {
     "name": "stderr",
     "output_type": "stream",
     "text": [
      "/home/michael24peters/pv-finder_experimental/notebooks/model/training.py:143: TqdmDeprecationWarning: This function will be removed in tqdm==5.0.0\n",
      "Please use `tqdm.notebook.tqdm` instead of `tqdm.tqdm_notebook`\n",
      "  file=sys.stderr,\n"
     ]
    },
    {
     "data": {
      "application/vnd.jupyter.widget-view+json": {
       "model_id": "",
       "version_major": 2,
       "version_minor": 0
      },
      "text/plain": [
       "HBox(children=(FloatProgress(value=0.0, description='Training', layout=Layout(flex='2'), max=1250.0, style=Pro…"
      ]
     },
     "metadata": {},
     "output_type": "display_data"
    },
    {
     "name": "stdout",
     "output_type": "stream",
     "text": [
      "Epoch 530: train=7.90156, val=7.53856, took 34.105 s\n",
      "  Validation Found 51279 of 54504, added 2298 (eff 94.08%) (0.23 FP/event)\n"
     ]
    },
    {
     "name": "stderr",
     "output_type": "stream",
     "text": [
      "/home/michael24peters/pv-finder_experimental/notebooks/model/training.py:143: TqdmDeprecationWarning: This function will be removed in tqdm==5.0.0\n",
      "Please use `tqdm.notebook.tqdm` instead of `tqdm.tqdm_notebook`\n",
      "  file=sys.stderr,\n"
     ]
    },
    {
     "data": {
      "application/vnd.jupyter.widget-view+json": {
       "model_id": "",
       "version_major": 2,
       "version_minor": 0
      },
      "text/plain": [
       "HBox(children=(FloatProgress(value=0.0, description='Training', layout=Layout(flex='2'), max=1250.0, style=Pro…"
      ]
     },
     "metadata": {},
     "output_type": "display_data"
    },
    {
     "name": "stdout",
     "output_type": "stream",
     "text": [
      "Epoch 531: train=7.90476, val=7.54473, took 34.038 s\n",
      "  Validation Found 51212 of 54504, added 2197 (eff 93.96%) (0.22 FP/event)\n"
     ]
    },
    {
     "name": "stderr",
     "output_type": "stream",
     "text": [
      "/home/michael24peters/pv-finder_experimental/notebooks/model/training.py:143: TqdmDeprecationWarning: This function will be removed in tqdm==5.0.0\n",
      "Please use `tqdm.notebook.tqdm` instead of `tqdm.tqdm_notebook`\n",
      "  file=sys.stderr,\n"
     ]
    },
    {
     "data": {
      "application/vnd.jupyter.widget-view+json": {
       "model_id": "",
       "version_major": 2,
       "version_minor": 0
      },
      "text/plain": [
       "HBox(children=(FloatProgress(value=0.0, description='Training', layout=Layout(flex='2'), max=1250.0, style=Pro…"
      ]
     },
     "metadata": {},
     "output_type": "display_data"
    },
    {
     "name": "stdout",
     "output_type": "stream",
     "text": [
      "Epoch 532: train=7.90154, val=7.52284, took 34.148 s\n",
      "  Validation Found 51213 of 54504, added 2171 (eff 93.96%) (0.217 FP/event)\n"
     ]
    },
    {
     "name": "stderr",
     "output_type": "stream",
     "text": [
      "/home/michael24peters/pv-finder_experimental/notebooks/model/training.py:143: TqdmDeprecationWarning: This function will be removed in tqdm==5.0.0\n",
      "Please use `tqdm.notebook.tqdm` instead of `tqdm.tqdm_notebook`\n",
      "  file=sys.stderr,\n"
     ]
    },
    {
     "data": {
      "application/vnd.jupyter.widget-view+json": {
       "model_id": "",
       "version_major": 2,
       "version_minor": 0
      },
      "text/plain": [
       "HBox(children=(FloatProgress(value=0.0, description='Training', layout=Layout(flex='2'), max=1250.0, style=Pro…"
      ]
     },
     "metadata": {},
     "output_type": "display_data"
    },
    {
     "name": "stdout",
     "output_type": "stream",
     "text": [
      "Epoch 533: train=7.90927, val=7.55536, took 34.1 s\n",
      "  Validation Found 51369 of 54504, added 2621 (eff 94.25%) (0.262 FP/event)\n"
     ]
    },
    {
     "name": "stderr",
     "output_type": "stream",
     "text": [
      "/home/michael24peters/pv-finder_experimental/notebooks/model/training.py:143: TqdmDeprecationWarning: This function will be removed in tqdm==5.0.0\n",
      "Please use `tqdm.notebook.tqdm` instead of `tqdm.tqdm_notebook`\n",
      "  file=sys.stderr,\n"
     ]
    },
    {
     "data": {
      "application/vnd.jupyter.widget-view+json": {
       "model_id": "",
       "version_major": 2,
       "version_minor": 0
      },
      "text/plain": [
       "HBox(children=(FloatProgress(value=0.0, description='Training', layout=Layout(flex='2'), max=1250.0, style=Pro…"
      ]
     },
     "metadata": {},
     "output_type": "display_data"
    },
    {
     "name": "stdout",
     "output_type": "stream",
     "text": [
      "Epoch 534: train=7.89, val=7.5856, took 34.149 s\n",
      "  Validation Found 51274 of 54504, added 2515 (eff 94.07%) (0.252 FP/event)\n"
     ]
    },
    {
     "name": "stderr",
     "output_type": "stream",
     "text": [
      "/home/michael24peters/pv-finder_experimental/notebooks/model/training.py:143: TqdmDeprecationWarning: This function will be removed in tqdm==5.0.0\n",
      "Please use `tqdm.notebook.tqdm` instead of `tqdm.tqdm_notebook`\n",
      "  file=sys.stderr,\n"
     ]
    },
    {
     "data": {
      "application/vnd.jupyter.widget-view+json": {
       "model_id": "",
       "version_major": 2,
       "version_minor": 0
      },
      "text/plain": [
       "HBox(children=(FloatProgress(value=0.0, description='Training', layout=Layout(flex='2'), max=1250.0, style=Pro…"
      ]
     },
     "metadata": {},
     "output_type": "display_data"
    },
    {
     "name": "stdout",
     "output_type": "stream",
     "text": [
      "Epoch 535: train=7.909, val=7.59581, took 34.207 s\n",
      "  Validation Found 51183 of 54504, added 2339 (eff 93.91%) (0.234 FP/event)\n"
     ]
    },
    {
     "name": "stderr",
     "output_type": "stream",
     "text": [
      "/home/michael24peters/pv-finder_experimental/notebooks/model/training.py:143: TqdmDeprecationWarning: This function will be removed in tqdm==5.0.0\n",
      "Please use `tqdm.notebook.tqdm` instead of `tqdm.tqdm_notebook`\n",
      "  file=sys.stderr,\n"
     ]
    },
    {
     "data": {
      "application/vnd.jupyter.widget-view+json": {
       "model_id": "",
       "version_major": 2,
       "version_minor": 0
      },
      "text/plain": [
       "HBox(children=(FloatProgress(value=0.0, description='Training', layout=Layout(flex='2'), max=1250.0, style=Pro…"
      ]
     },
     "metadata": {},
     "output_type": "display_data"
    },
    {
     "name": "stdout",
     "output_type": "stream",
     "text": [
      "Epoch 536: train=7.90221, val=7.52389, took 34.323 s\n",
      "  Validation Found 51236 of 54504, added 2192 (eff 94.00%) (0.22 FP/event)\n"
     ]
    },
    {
     "name": "stderr",
     "output_type": "stream",
     "text": [
      "/home/michael24peters/pv-finder_experimental/notebooks/model/training.py:143: TqdmDeprecationWarning: This function will be removed in tqdm==5.0.0\n",
      "Please use `tqdm.notebook.tqdm` instead of `tqdm.tqdm_notebook`\n",
      "  file=sys.stderr,\n"
     ]
    },
    {
     "data": {
      "application/vnd.jupyter.widget-view+json": {
       "model_id": "",
       "version_major": 2,
       "version_minor": 0
      },
      "text/plain": [
       "HBox(children=(FloatProgress(value=0.0, description='Training', layout=Layout(flex='2'), max=1250.0, style=Pro…"
      ]
     },
     "metadata": {},
     "output_type": "display_data"
    },
    {
     "name": "stdout",
     "output_type": "stream",
     "text": [
      "Epoch 537: train=7.90459, val=7.59854, took 34.339 s\n",
      "  Validation Found 51066 of 54504, added 1903 (eff 93.69%) (0.191 FP/event)\n"
     ]
    },
    {
     "name": "stderr",
     "output_type": "stream",
     "text": [
      "/home/michael24peters/pv-finder_experimental/notebooks/model/training.py:143: TqdmDeprecationWarning: This function will be removed in tqdm==5.0.0\n",
      "Please use `tqdm.notebook.tqdm` instead of `tqdm.tqdm_notebook`\n",
      "  file=sys.stderr,\n"
     ]
    },
    {
     "data": {
      "application/vnd.jupyter.widget-view+json": {
       "model_id": "",
       "version_major": 2,
       "version_minor": 0
      },
      "text/plain": [
       "HBox(children=(FloatProgress(value=0.0, description='Training', layout=Layout(flex='2'), max=1250.0, style=Pro…"
      ]
     },
     "metadata": {},
     "output_type": "display_data"
    },
    {
     "name": "stdout",
     "output_type": "stream",
     "text": [
      "Epoch 538: train=7.89996, val=7.55309, took 34.337 s\n",
      "  Validation Found 51298 of 54504, added 2328 (eff 94.12%) (0.233 FP/event)\n"
     ]
    },
    {
     "name": "stderr",
     "output_type": "stream",
     "text": [
      "/home/michael24peters/pv-finder_experimental/notebooks/model/training.py:143: TqdmDeprecationWarning: This function will be removed in tqdm==5.0.0\n",
      "Please use `tqdm.notebook.tqdm` instead of `tqdm.tqdm_notebook`\n",
      "  file=sys.stderr,\n"
     ]
    },
    {
     "data": {
      "application/vnd.jupyter.widget-view+json": {
       "model_id": "",
       "version_major": 2,
       "version_minor": 0
      },
      "text/plain": [
       "HBox(children=(FloatProgress(value=0.0, description='Training', layout=Layout(flex='2'), max=1250.0, style=Pro…"
      ]
     },
     "metadata": {},
     "output_type": "display_data"
    },
    {
     "name": "stdout",
     "output_type": "stream",
     "text": [
      "Epoch 539: train=7.90367, val=7.58644, took 34.123 s\n",
      "  Validation Found 51121 of 54504, added 2154 (eff 93.79%) (0.216 FP/event)\n"
     ]
    },
    {
     "name": "stderr",
     "output_type": "stream",
     "text": [
      "/home/michael24peters/pv-finder_experimental/notebooks/model/training.py:143: TqdmDeprecationWarning: This function will be removed in tqdm==5.0.0\n",
      "Please use `tqdm.notebook.tqdm` instead of `tqdm.tqdm_notebook`\n",
      "  file=sys.stderr,\n"
     ]
    },
    {
     "data": {
      "application/vnd.jupyter.widget-view+json": {
       "model_id": "",
       "version_major": 2,
       "version_minor": 0
      },
      "text/plain": [
       "HBox(children=(FloatProgress(value=0.0, description='Training', layout=Layout(flex='2'), max=1250.0, style=Pro…"
      ]
     },
     "metadata": {},
     "output_type": "display_data"
    },
    {
     "name": "stdout",
     "output_type": "stream",
     "text": [
      "Epoch 540: train=7.89489, val=7.5708, took 34.138 s\n",
      "  Validation Found 51396 of 54504, added 2608 (eff 94.30%) (0.261 FP/event)\n"
     ]
    },
    {
     "name": "stderr",
     "output_type": "stream",
     "text": [
      "/home/michael24peters/pv-finder_experimental/notebooks/model/training.py:143: TqdmDeprecationWarning: This function will be removed in tqdm==5.0.0\n",
      "Please use `tqdm.notebook.tqdm` instead of `tqdm.tqdm_notebook`\n",
      "  file=sys.stderr,\n"
     ]
    },
    {
     "data": {
      "application/vnd.jupyter.widget-view+json": {
       "model_id": "",
       "version_major": 2,
       "version_minor": 0
      },
      "text/plain": [
       "HBox(children=(FloatProgress(value=0.0, description='Training', layout=Layout(flex='2'), max=1250.0, style=Pro…"
      ]
     },
     "metadata": {},
     "output_type": "display_data"
    },
    {
     "name": "stdout",
     "output_type": "stream",
     "text": [
      "Epoch 541: train=7.91098, val=7.51586, took 34.193 s\n",
      "  Validation Found 51276 of 54504, added 2345 (eff 94.08%) (0.235 FP/event)\n"
     ]
    },
    {
     "name": "stderr",
     "output_type": "stream",
     "text": [
      "/home/michael24peters/pv-finder_experimental/notebooks/model/training.py:143: TqdmDeprecationWarning: This function will be removed in tqdm==5.0.0\n",
      "Please use `tqdm.notebook.tqdm` instead of `tqdm.tqdm_notebook`\n",
      "  file=sys.stderr,\n"
     ]
    },
    {
     "data": {
      "application/vnd.jupyter.widget-view+json": {
       "model_id": "",
       "version_major": 2,
       "version_minor": 0
      },
      "text/plain": [
       "HBox(children=(FloatProgress(value=0.0, description='Training', layout=Layout(flex='2'), max=1250.0, style=Pro…"
      ]
     },
     "metadata": {},
     "output_type": "display_data"
    },
    {
     "name": "stdout",
     "output_type": "stream",
     "text": [
      "Epoch 542: train=7.90107, val=7.5693, took 34.137 s\n",
      "  Validation Found 51244 of 54504, added 2406 (eff 94.02%) (0.241 FP/event)\n"
     ]
    },
    {
     "name": "stderr",
     "output_type": "stream",
     "text": [
      "/home/michael24peters/pv-finder_experimental/notebooks/model/training.py:143: TqdmDeprecationWarning: This function will be removed in tqdm==5.0.0\n",
      "Please use `tqdm.notebook.tqdm` instead of `tqdm.tqdm_notebook`\n",
      "  file=sys.stderr,\n"
     ]
    },
    {
     "data": {
      "application/vnd.jupyter.widget-view+json": {
       "model_id": "",
       "version_major": 2,
       "version_minor": 0
      },
      "text/plain": [
       "HBox(children=(FloatProgress(value=0.0, description='Training', layout=Layout(flex='2'), max=1250.0, style=Pro…"
      ]
     },
     "metadata": {},
     "output_type": "display_data"
    },
    {
     "name": "stdout",
     "output_type": "stream",
     "text": [
      "Epoch 543: train=7.89304, val=7.54349, took 34.163 s\n",
      "  Validation Found 51074 of 54504, added 2089 (eff 93.71%) (0.209 FP/event)\n"
     ]
    },
    {
     "name": "stderr",
     "output_type": "stream",
     "text": [
      "/home/michael24peters/pv-finder_experimental/notebooks/model/training.py:143: TqdmDeprecationWarning: This function will be removed in tqdm==5.0.0\n",
      "Please use `tqdm.notebook.tqdm` instead of `tqdm.tqdm_notebook`\n",
      "  file=sys.stderr,\n"
     ]
    },
    {
     "data": {
      "application/vnd.jupyter.widget-view+json": {
       "model_id": "",
       "version_major": 2,
       "version_minor": 0
      },
      "text/plain": [
       "HBox(children=(FloatProgress(value=0.0, description='Training', layout=Layout(flex='2'), max=1250.0, style=Pro…"
      ]
     },
     "metadata": {},
     "output_type": "display_data"
    },
    {
     "name": "stdout",
     "output_type": "stream",
     "text": [
      "Epoch 544: train=7.89081, val=7.56891, took 34.1 s\n",
      "  Validation Found 51047 of 54504, added 1959 (eff 93.66%) (0.196 FP/event)\n"
     ]
    },
    {
     "name": "stderr",
     "output_type": "stream",
     "text": [
      "/home/michael24peters/pv-finder_experimental/notebooks/model/training.py:143: TqdmDeprecationWarning: This function will be removed in tqdm==5.0.0\n",
      "Please use `tqdm.notebook.tqdm` instead of `tqdm.tqdm_notebook`\n",
      "  file=sys.stderr,\n"
     ]
    },
    {
     "data": {
      "application/vnd.jupyter.widget-view+json": {
       "model_id": "",
       "version_major": 2,
       "version_minor": 0
      },
      "text/plain": [
       "HBox(children=(FloatProgress(value=0.0, description='Training', layout=Layout(flex='2'), max=1250.0, style=Pro…"
      ]
     },
     "metadata": {},
     "output_type": "display_data"
    },
    {
     "name": "stdout",
     "output_type": "stream",
     "text": [
      "Epoch 545: train=7.90822, val=7.64094, took 34.198 s\n",
      "  Validation Found 50993 of 54504, added 1951 (eff 93.56%) (0.195 FP/event)\n"
     ]
    },
    {
     "name": "stderr",
     "output_type": "stream",
     "text": [
      "/home/michael24peters/pv-finder_experimental/notebooks/model/training.py:143: TqdmDeprecationWarning: This function will be removed in tqdm==5.0.0\n",
      "Please use `tqdm.notebook.tqdm` instead of `tqdm.tqdm_notebook`\n",
      "  file=sys.stderr,\n"
     ]
    },
    {
     "data": {
      "application/vnd.jupyter.widget-view+json": {
       "model_id": "",
       "version_major": 2,
       "version_minor": 0
      },
      "text/plain": [
       "HBox(children=(FloatProgress(value=0.0, description='Training', layout=Layout(flex='2'), max=1250.0, style=Pro…"
      ]
     },
     "metadata": {},
     "output_type": "display_data"
    },
    {
     "name": "stdout",
     "output_type": "stream",
     "text": [
      "Epoch 546: train=7.89505, val=7.62357, took 34.136 s\n",
      "  Validation Found 50914 of 54504, added 1767 (eff 93.41%) (0.177 FP/event)\n"
     ]
    },
    {
     "name": "stderr",
     "output_type": "stream",
     "text": [
      "/home/michael24peters/pv-finder_experimental/notebooks/model/training.py:143: TqdmDeprecationWarning: This function will be removed in tqdm==5.0.0\n",
      "Please use `tqdm.notebook.tqdm` instead of `tqdm.tqdm_notebook`\n",
      "  file=sys.stderr,\n"
     ]
    },
    {
     "data": {
      "application/vnd.jupyter.widget-view+json": {
       "model_id": "",
       "version_major": 2,
       "version_minor": 0
      },
      "text/plain": [
       "HBox(children=(FloatProgress(value=0.0, description='Training', layout=Layout(flex='2'), max=1250.0, style=Pro…"
      ]
     },
     "metadata": {},
     "output_type": "display_data"
    },
    {
     "name": "stdout",
     "output_type": "stream",
     "text": [
      "Epoch 547: train=7.89133, val=7.54733, took 35.118 s\n",
      "  Validation Found 51242 of 54504, added 2324 (eff 94.02%) (0.233 FP/event)\n"
     ]
    },
    {
     "name": "stderr",
     "output_type": "stream",
     "text": [
      "/home/michael24peters/pv-finder_experimental/notebooks/model/training.py:143: TqdmDeprecationWarning: This function will be removed in tqdm==5.0.0\n",
      "Please use `tqdm.notebook.tqdm` instead of `tqdm.tqdm_notebook`\n",
      "  file=sys.stderr,\n"
     ]
    },
    {
     "data": {
      "application/vnd.jupyter.widget-view+json": {
       "model_id": "",
       "version_major": 2,
       "version_minor": 0
      },
      "text/plain": [
       "HBox(children=(FloatProgress(value=0.0, description='Training', layout=Layout(flex='2'), max=1250.0, style=Pro…"
      ]
     },
     "metadata": {},
     "output_type": "display_data"
    },
    {
     "name": "stdout",
     "output_type": "stream",
     "text": [
      "Epoch 548: train=7.89023, val=7.50236, took 34.281 s\n",
      "  Validation Found 51210 of 54504, added 2154 (eff 93.96%) (0.216 FP/event)\n"
     ]
    },
    {
     "name": "stderr",
     "output_type": "stream",
     "text": [
      "/home/michael24peters/pv-finder_experimental/notebooks/model/training.py:143: TqdmDeprecationWarning: This function will be removed in tqdm==5.0.0\n",
      "Please use `tqdm.notebook.tqdm` instead of `tqdm.tqdm_notebook`\n",
      "  file=sys.stderr,\n"
     ]
    },
    {
     "data": {
      "application/vnd.jupyter.widget-view+json": {
       "model_id": "",
       "version_major": 2,
       "version_minor": 0
      },
      "text/plain": [
       "HBox(children=(FloatProgress(value=0.0, description='Training', layout=Layout(flex='2'), max=1250.0, style=Pro…"
      ]
     },
     "metadata": {},
     "output_type": "display_data"
    },
    {
     "name": "stdout",
     "output_type": "stream",
     "text": [
      "Epoch 549: train=7.8898, val=7.53508, took 34.256 s\n",
      "  Validation Found 51218 of 54504, added 2288 (eff 93.97%) (0.229 FP/event)\n"
     ]
    },
    {
     "name": "stderr",
     "output_type": "stream",
     "text": [
      "/home/michael24peters/pv-finder_experimental/notebooks/model/training.py:143: TqdmDeprecationWarning: This function will be removed in tqdm==5.0.0\n",
      "Please use `tqdm.notebook.tqdm` instead of `tqdm.tqdm_notebook`\n",
      "  file=sys.stderr,\n"
     ]
    },
    {
     "data": {
      "application/vnd.jupyter.widget-view+json": {
       "model_id": "",
       "version_major": 2,
       "version_minor": 0
      },
      "text/plain": [
       "HBox(children=(FloatProgress(value=0.0, description='Training', layout=Layout(flex='2'), max=1250.0, style=Pro…"
      ]
     },
     "metadata": {},
     "output_type": "display_data"
    },
    {
     "name": "stdout",
     "output_type": "stream",
     "text": [
      "Epoch 550: train=7.89587, val=7.5603, took 34.318 s\n",
      "  Validation Found 51297 of 54504, added 2427 (eff 94.12%) (0.243 FP/event)\n"
     ]
    },
    {
     "name": "stderr",
     "output_type": "stream",
     "text": [
      "/home/michael24peters/pv-finder_experimental/notebooks/model/training.py:143: TqdmDeprecationWarning: This function will be removed in tqdm==5.0.0\n",
      "Please use `tqdm.notebook.tqdm` instead of `tqdm.tqdm_notebook`\n",
      "  file=sys.stderr,\n"
     ]
    },
    {
     "data": {
      "application/vnd.jupyter.widget-view+json": {
       "model_id": "",
       "version_major": 2,
       "version_minor": 0
      },
      "text/plain": [
       "HBox(children=(FloatProgress(value=0.0, description='Training', layout=Layout(flex='2'), max=1250.0, style=Pro…"
      ]
     },
     "metadata": {},
     "output_type": "display_data"
    },
    {
     "name": "stdout",
     "output_type": "stream",
     "text": [
      "Epoch 551: train=7.89119, val=7.57111, took 34.393 s\n",
      "  Validation Found 51244 of 54504, added 2364 (eff 94.02%) (0.237 FP/event)\n"
     ]
    },
    {
     "name": "stderr",
     "output_type": "stream",
     "text": [
      "/home/michael24peters/pv-finder_experimental/notebooks/model/training.py:143: TqdmDeprecationWarning: This function will be removed in tqdm==5.0.0\n",
      "Please use `tqdm.notebook.tqdm` instead of `tqdm.tqdm_notebook`\n",
      "  file=sys.stderr,\n"
     ]
    },
    {
     "data": {
      "application/vnd.jupyter.widget-view+json": {
       "model_id": "",
       "version_major": 2,
       "version_minor": 0
      },
      "text/plain": [
       "HBox(children=(FloatProgress(value=0.0, description='Training', layout=Layout(flex='2'), max=1250.0, style=Pro…"
      ]
     },
     "metadata": {},
     "output_type": "display_data"
    },
    {
     "name": "stdout",
     "output_type": "stream",
     "text": [
      "Epoch 552: train=7.89009, val=7.56543, took 34.131 s\n",
      "  Validation Found 51041 of 54504, added 1934 (eff 93.65%) (0.194 FP/event)\n"
     ]
    },
    {
     "name": "stderr",
     "output_type": "stream",
     "text": [
      "/home/michael24peters/pv-finder_experimental/notebooks/model/training.py:143: TqdmDeprecationWarning: This function will be removed in tqdm==5.0.0\n",
      "Please use `tqdm.notebook.tqdm` instead of `tqdm.tqdm_notebook`\n",
      "  file=sys.stderr,\n"
     ]
    },
    {
     "data": {
      "application/vnd.jupyter.widget-view+json": {
       "model_id": "",
       "version_major": 2,
       "version_minor": 0
      },
      "text/plain": [
       "HBox(children=(FloatProgress(value=0.0, description='Training', layout=Layout(flex='2'), max=1250.0, style=Pro…"
      ]
     },
     "metadata": {},
     "output_type": "display_data"
    },
    {
     "name": "stdout",
     "output_type": "stream",
     "text": [
      "Epoch 553: train=7.89329, val=7.58474, took 34.095 s\n",
      "  Validation Found 51067 of 54504, added 1973 (eff 93.69%) (0.198 FP/event)\n"
     ]
    },
    {
     "name": "stderr",
     "output_type": "stream",
     "text": [
      "/home/michael24peters/pv-finder_experimental/notebooks/model/training.py:143: TqdmDeprecationWarning: This function will be removed in tqdm==5.0.0\n",
      "Please use `tqdm.notebook.tqdm` instead of `tqdm.tqdm_notebook`\n",
      "  file=sys.stderr,\n"
     ]
    },
    {
     "data": {
      "application/vnd.jupyter.widget-view+json": {
       "model_id": "",
       "version_major": 2,
       "version_minor": 0
      },
      "text/plain": [
       "HBox(children=(FloatProgress(value=0.0, description='Training', layout=Layout(flex='2'), max=1250.0, style=Pro…"
      ]
     },
     "metadata": {},
     "output_type": "display_data"
    },
    {
     "name": "stdout",
     "output_type": "stream",
     "text": [
      "Epoch 554: train=7.8905, val=7.60475, took 34.959 s\n",
      "  Validation Found 50937 of 54504, added 1922 (eff 93.46%) (0.192 FP/event)\n"
     ]
    },
    {
     "name": "stderr",
     "output_type": "stream",
     "text": [
      "/home/michael24peters/pv-finder_experimental/notebooks/model/training.py:143: TqdmDeprecationWarning: This function will be removed in tqdm==5.0.0\n",
      "Please use `tqdm.notebook.tqdm` instead of `tqdm.tqdm_notebook`\n",
      "  file=sys.stderr,\n"
     ]
    },
    {
     "data": {
      "application/vnd.jupyter.widget-view+json": {
       "model_id": "",
       "version_major": 2,
       "version_minor": 0
      },
      "text/plain": [
       "HBox(children=(FloatProgress(value=0.0, description='Training', layout=Layout(flex='2'), max=1250.0, style=Pro…"
      ]
     },
     "metadata": {},
     "output_type": "display_data"
    },
    {
     "name": "stdout",
     "output_type": "stream",
     "text": [
      "Epoch 555: train=7.89336, val=7.60172, took 34.13 s\n",
      "  Validation Found 51008 of 54504, added 2075 (eff 93.59%) (0.208 FP/event)\n"
     ]
    },
    {
     "name": "stderr",
     "output_type": "stream",
     "text": [
      "/home/michael24peters/pv-finder_experimental/notebooks/model/training.py:143: TqdmDeprecationWarning: This function will be removed in tqdm==5.0.0\n",
      "Please use `tqdm.notebook.tqdm` instead of `tqdm.tqdm_notebook`\n",
      "  file=sys.stderr,\n"
     ]
    },
    {
     "data": {
      "application/vnd.jupyter.widget-view+json": {
       "model_id": "",
       "version_major": 2,
       "version_minor": 0
      },
      "text/plain": [
       "HBox(children=(FloatProgress(value=0.0, description='Training', layout=Layout(flex='2'), max=1250.0, style=Pro…"
      ]
     },
     "metadata": {},
     "output_type": "display_data"
    },
    {
     "name": "stdout",
     "output_type": "stream",
     "text": [
      "Epoch 556: train=7.89132, val=7.51032, took 34.138 s\n",
      "  Validation Found 51213 of 54504, added 2211 (eff 93.96%) (0.221 FP/event)\n"
     ]
    },
    {
     "name": "stderr",
     "output_type": "stream",
     "text": [
      "/home/michael24peters/pv-finder_experimental/notebooks/model/training.py:143: TqdmDeprecationWarning: This function will be removed in tqdm==5.0.0\n",
      "Please use `tqdm.notebook.tqdm` instead of `tqdm.tqdm_notebook`\n",
      "  file=sys.stderr,\n"
     ]
    },
    {
     "data": {
      "application/vnd.jupyter.widget-view+json": {
       "model_id": "",
       "version_major": 2,
       "version_minor": 0
      },
      "text/plain": [
       "HBox(children=(FloatProgress(value=0.0, description='Training', layout=Layout(flex='2'), max=1250.0, style=Pro…"
      ]
     },
     "metadata": {},
     "output_type": "display_data"
    },
    {
     "name": "stdout",
     "output_type": "stream",
     "text": [
      "Epoch 557: train=7.89427, val=7.57072, took 34.367 s\n",
      "  Validation Found 51108 of 54504, added 2042 (eff 93.77%) (0.205 FP/event)\n"
     ]
    },
    {
     "name": "stderr",
     "output_type": "stream",
     "text": [
      "/home/michael24peters/pv-finder_experimental/notebooks/model/training.py:143: TqdmDeprecationWarning: This function will be removed in tqdm==5.0.0\n",
      "Please use `tqdm.notebook.tqdm` instead of `tqdm.tqdm_notebook`\n",
      "  file=sys.stderr,\n"
     ]
    },
    {
     "data": {
      "application/vnd.jupyter.widget-view+json": {
       "model_id": "",
       "version_major": 2,
       "version_minor": 0
      },
      "text/plain": [
       "HBox(children=(FloatProgress(value=0.0, description='Training', layout=Layout(flex='2'), max=1250.0, style=Pro…"
      ]
     },
     "metadata": {},
     "output_type": "display_data"
    },
    {
     "name": "stdout",
     "output_type": "stream",
     "text": [
      "Epoch 558: train=7.8962, val=7.51864, took 34.407 s\n",
      "  Validation Found 51249 of 54504, added 2310 (eff 94.03%) (0.231 FP/event)\n"
     ]
    },
    {
     "name": "stderr",
     "output_type": "stream",
     "text": [
      "/home/michael24peters/pv-finder_experimental/notebooks/model/training.py:143: TqdmDeprecationWarning: This function will be removed in tqdm==5.0.0\n",
      "Please use `tqdm.notebook.tqdm` instead of `tqdm.tqdm_notebook`\n",
      "  file=sys.stderr,\n"
     ]
    },
    {
     "data": {
      "application/vnd.jupyter.widget-view+json": {
       "model_id": "",
       "version_major": 2,
       "version_minor": 0
      },
      "text/plain": [
       "HBox(children=(FloatProgress(value=0.0, description='Training', layout=Layout(flex='2'), max=1250.0, style=Pro…"
      ]
     },
     "metadata": {},
     "output_type": "display_data"
    },
    {
     "name": "stdout",
     "output_type": "stream",
     "text": [
      "Epoch 559: train=7.88788, val=7.53164, took 34.365 s\n",
      "  Validation Found 51295 of 54504, added 2343 (eff 94.11%) (0.235 FP/event)\n"
     ]
    },
    {
     "name": "stderr",
     "output_type": "stream",
     "text": [
      "/home/michael24peters/pv-finder_experimental/notebooks/model/training.py:143: TqdmDeprecationWarning: This function will be removed in tqdm==5.0.0\n",
      "Please use `tqdm.notebook.tqdm` instead of `tqdm.tqdm_notebook`\n",
      "  file=sys.stderr,\n"
     ]
    },
    {
     "data": {
      "application/vnd.jupyter.widget-view+json": {
       "model_id": "",
       "version_major": 2,
       "version_minor": 0
      },
      "text/plain": [
       "HBox(children=(FloatProgress(value=0.0, description='Training', layout=Layout(flex='2'), max=1250.0, style=Pro…"
      ]
     },
     "metadata": {},
     "output_type": "display_data"
    },
    {
     "name": "stdout",
     "output_type": "stream",
     "text": [
      "Epoch 560: train=7.8907, val=7.54295, took 34.388 s\n",
      "  Validation Found 51251 of 54504, added 2347 (eff 94.03%) (0.235 FP/event)\n"
     ]
    },
    {
     "name": "stderr",
     "output_type": "stream",
     "text": [
      "/home/michael24peters/pv-finder_experimental/notebooks/model/training.py:143: TqdmDeprecationWarning: This function will be removed in tqdm==5.0.0\n",
      "Please use `tqdm.notebook.tqdm` instead of `tqdm.tqdm_notebook`\n",
      "  file=sys.stderr,\n"
     ]
    },
    {
     "data": {
      "application/vnd.jupyter.widget-view+json": {
       "model_id": "",
       "version_major": 2,
       "version_minor": 0
      },
      "text/plain": [
       "HBox(children=(FloatProgress(value=0.0, description='Training', layout=Layout(flex='2'), max=1250.0, style=Pro…"
      ]
     },
     "metadata": {},
     "output_type": "display_data"
    },
    {
     "name": "stdout",
     "output_type": "stream",
     "text": [
      "Epoch 561: train=7.88662, val=7.55044, took 34.31 s\n",
      "  Validation Found 51117 of 54504, added 2136 (eff 93.79%) (0.214 FP/event)\n"
     ]
    },
    {
     "name": "stderr",
     "output_type": "stream",
     "text": [
      "/home/michael24peters/pv-finder_experimental/notebooks/model/training.py:143: TqdmDeprecationWarning: This function will be removed in tqdm==5.0.0\n",
      "Please use `tqdm.notebook.tqdm` instead of `tqdm.tqdm_notebook`\n",
      "  file=sys.stderr,\n"
     ]
    },
    {
     "data": {
      "application/vnd.jupyter.widget-view+json": {
       "model_id": "",
       "version_major": 2,
       "version_minor": 0
      },
      "text/plain": [
       "HBox(children=(FloatProgress(value=0.0, description='Training', layout=Layout(flex='2'), max=1250.0, style=Pro…"
      ]
     },
     "metadata": {},
     "output_type": "display_data"
    },
    {
     "name": "stdout",
     "output_type": "stream",
     "text": [
      "Epoch 562: train=7.88785, val=7.5593, took 35.226 s\n",
      "  Validation Found 51100 of 54504, added 2044 (eff 93.75%) (0.205 FP/event)\n"
     ]
    },
    {
     "name": "stderr",
     "output_type": "stream",
     "text": [
      "/home/michael24peters/pv-finder_experimental/notebooks/model/training.py:143: TqdmDeprecationWarning: This function will be removed in tqdm==5.0.0\n",
      "Please use `tqdm.notebook.tqdm` instead of `tqdm.tqdm_notebook`\n",
      "  file=sys.stderr,\n"
     ]
    },
    {
     "data": {
      "application/vnd.jupyter.widget-view+json": {
       "model_id": "",
       "version_major": 2,
       "version_minor": 0
      },
      "text/plain": [
       "HBox(children=(FloatProgress(value=0.0, description='Training', layout=Layout(flex='2'), max=1250.0, style=Pro…"
      ]
     },
     "metadata": {},
     "output_type": "display_data"
    },
    {
     "name": "stdout",
     "output_type": "stream",
     "text": [
      "Epoch 563: train=7.88498, val=7.55038, took 35.139 s\n",
      "  Validation Found 51334 of 54504, added 2451 (eff 94.18%) (0.245 FP/event)\n"
     ]
    },
    {
     "name": "stderr",
     "output_type": "stream",
     "text": [
      "/home/michael24peters/pv-finder_experimental/notebooks/model/training.py:143: TqdmDeprecationWarning: This function will be removed in tqdm==5.0.0\n",
      "Please use `tqdm.notebook.tqdm` instead of `tqdm.tqdm_notebook`\n",
      "  file=sys.stderr,\n"
     ]
    },
    {
     "data": {
      "application/vnd.jupyter.widget-view+json": {
       "model_id": "",
       "version_major": 2,
       "version_minor": 0
      },
      "text/plain": [
       "HBox(children=(FloatProgress(value=0.0, description='Training', layout=Layout(flex='2'), max=1250.0, style=Pro…"
      ]
     },
     "metadata": {},
     "output_type": "display_data"
    },
    {
     "name": "stdout",
     "output_type": "stream",
     "text": [
      "Epoch 564: train=7.88745, val=7.56745, took 35.028 s\n",
      "  Validation Found 51049 of 54504, added 1972 (eff 93.66%) (0.197 FP/event)\n"
     ]
    },
    {
     "name": "stderr",
     "output_type": "stream",
     "text": [
      "/home/michael24peters/pv-finder_experimental/notebooks/model/training.py:143: TqdmDeprecationWarning: This function will be removed in tqdm==5.0.0\n",
      "Please use `tqdm.notebook.tqdm` instead of `tqdm.tqdm_notebook`\n",
      "  file=sys.stderr,\n"
     ]
    },
    {
     "data": {
      "application/vnd.jupyter.widget-view+json": {
       "model_id": "",
       "version_major": 2,
       "version_minor": 0
      },
      "text/plain": [
       "HBox(children=(FloatProgress(value=0.0, description='Training', layout=Layout(flex='2'), max=1250.0, style=Pro…"
      ]
     },
     "metadata": {},
     "output_type": "display_data"
    },
    {
     "name": "stdout",
     "output_type": "stream",
     "text": [
      "Epoch 565: train=7.87829, val=7.51358, took 34.4 s\n",
      "  Validation Found 51234 of 54504, added 2249 (eff 94.00%) (0.225 FP/event)\n"
     ]
    },
    {
     "name": "stderr",
     "output_type": "stream",
     "text": [
      "/home/michael24peters/pv-finder_experimental/notebooks/model/training.py:143: TqdmDeprecationWarning: This function will be removed in tqdm==5.0.0\n",
      "Please use `tqdm.notebook.tqdm` instead of `tqdm.tqdm_notebook`\n",
      "  file=sys.stderr,\n"
     ]
    },
    {
     "data": {
      "application/vnd.jupyter.widget-view+json": {
       "model_id": "",
       "version_major": 2,
       "version_minor": 0
      },
      "text/plain": [
       "HBox(children=(FloatProgress(value=0.0, description='Training', layout=Layout(flex='2'), max=1250.0, style=Pro…"
      ]
     },
     "metadata": {},
     "output_type": "display_data"
    },
    {
     "name": "stdout",
     "output_type": "stream",
     "text": [
      "Epoch 566: train=7.88211, val=7.5599, took 34.182 s\n",
      "  Validation Found 51189 of 54504, added 2307 (eff 93.92%) (0.231 FP/event)\n"
     ]
    },
    {
     "name": "stderr",
     "output_type": "stream",
     "text": [
      "/home/michael24peters/pv-finder_experimental/notebooks/model/training.py:143: TqdmDeprecationWarning: This function will be removed in tqdm==5.0.0\n",
      "Please use `tqdm.notebook.tqdm` instead of `tqdm.tqdm_notebook`\n",
      "  file=sys.stderr,\n"
     ]
    },
    {
     "data": {
      "application/vnd.jupyter.widget-view+json": {
       "model_id": "",
       "version_major": 2,
       "version_minor": 0
      },
      "text/plain": [
       "HBox(children=(FloatProgress(value=0.0, description='Training', layout=Layout(flex='2'), max=1250.0, style=Pro…"
      ]
     },
     "metadata": {},
     "output_type": "display_data"
    },
    {
     "name": "stdout",
     "output_type": "stream",
     "text": [
      "Epoch 567: train=7.88648, val=7.55492, took 34.145 s\n",
      "  Validation Found 51144 of 54504, added 2071 (eff 93.84%) (0.207 FP/event)\n"
     ]
    },
    {
     "name": "stderr",
     "output_type": "stream",
     "text": [
      "/home/michael24peters/pv-finder_experimental/notebooks/model/training.py:143: TqdmDeprecationWarning: This function will be removed in tqdm==5.0.0\n",
      "Please use `tqdm.notebook.tqdm` instead of `tqdm.tqdm_notebook`\n",
      "  file=sys.stderr,\n"
     ]
    },
    {
     "data": {
      "application/vnd.jupyter.widget-view+json": {
       "model_id": "",
       "version_major": 2,
       "version_minor": 0
      },
      "text/plain": [
       "HBox(children=(FloatProgress(value=0.0, description='Training', layout=Layout(flex='2'), max=1250.0, style=Pro…"
      ]
     },
     "metadata": {},
     "output_type": "display_data"
    },
    {
     "name": "stdout",
     "output_type": "stream",
     "text": [
      "Epoch 568: train=7.88764, val=7.51348, took 34.019 s\n",
      "  Validation Found 51267 of 54504, added 2311 (eff 94.06%) (0.231 FP/event)\n"
     ]
    },
    {
     "name": "stderr",
     "output_type": "stream",
     "text": [
      "/home/michael24peters/pv-finder_experimental/notebooks/model/training.py:143: TqdmDeprecationWarning: This function will be removed in tqdm==5.0.0\n",
      "Please use `tqdm.notebook.tqdm` instead of `tqdm.tqdm_notebook`\n",
      "  file=sys.stderr,\n"
     ]
    },
    {
     "data": {
      "application/vnd.jupyter.widget-view+json": {
       "model_id": "",
       "version_major": 2,
       "version_minor": 0
      },
      "text/plain": [
       "HBox(children=(FloatProgress(value=0.0, description='Training', layout=Layout(flex='2'), max=1250.0, style=Pro…"
      ]
     },
     "metadata": {},
     "output_type": "display_data"
    },
    {
     "name": "stdout",
     "output_type": "stream",
     "text": [
      "Epoch 569: train=7.88575, val=7.62918, took 34.041 s\n",
      "  Validation Found 50907 of 54504, added 1819 (eff 93.40%) (0.182 FP/event)\n"
     ]
    },
    {
     "name": "stderr",
     "output_type": "stream",
     "text": [
      "/home/michael24peters/pv-finder_experimental/notebooks/model/training.py:143: TqdmDeprecationWarning: This function will be removed in tqdm==5.0.0\n",
      "Please use `tqdm.notebook.tqdm` instead of `tqdm.tqdm_notebook`\n",
      "  file=sys.stderr,\n"
     ]
    },
    {
     "data": {
      "application/vnd.jupyter.widget-view+json": {
       "model_id": "",
       "version_major": 2,
       "version_minor": 0
      },
      "text/plain": [
       "HBox(children=(FloatProgress(value=0.0, description='Training', layout=Layout(flex='2'), max=1250.0, style=Pro…"
      ]
     },
     "metadata": {},
     "output_type": "display_data"
    },
    {
     "name": "stdout",
     "output_type": "stream",
     "text": [
      "Epoch 570: train=7.88697, val=7.56785, took 34.105 s\n",
      "  Validation Found 51148 of 54504, added 2207 (eff 93.84%) (0.221 FP/event)\n"
     ]
    },
    {
     "name": "stderr",
     "output_type": "stream",
     "text": [
      "/home/michael24peters/pv-finder_experimental/notebooks/model/training.py:143: TqdmDeprecationWarning: This function will be removed in tqdm==5.0.0\n",
      "Please use `tqdm.notebook.tqdm` instead of `tqdm.tqdm_notebook`\n",
      "  file=sys.stderr,\n"
     ]
    },
    {
     "data": {
      "application/vnd.jupyter.widget-view+json": {
       "model_id": "",
       "version_major": 2,
       "version_minor": 0
      },
      "text/plain": [
       "HBox(children=(FloatProgress(value=0.0, description='Training', layout=Layout(flex='2'), max=1250.0, style=Pro…"
      ]
     },
     "metadata": {},
     "output_type": "display_data"
    },
    {
     "name": "stdout",
     "output_type": "stream",
     "text": [
      "Epoch 571: train=7.88382, val=7.53805, took 34.102 s\n",
      "  Validation Found 51214 of 54504, added 2256 (eff 93.96%) (0.226 FP/event)\n"
     ]
    },
    {
     "name": "stderr",
     "output_type": "stream",
     "text": [
      "/home/michael24peters/pv-finder_experimental/notebooks/model/training.py:143: TqdmDeprecationWarning: This function will be removed in tqdm==5.0.0\n",
      "Please use `tqdm.notebook.tqdm` instead of `tqdm.tqdm_notebook`\n",
      "  file=sys.stderr,\n"
     ]
    },
    {
     "data": {
      "application/vnd.jupyter.widget-view+json": {
       "model_id": "",
       "version_major": 2,
       "version_minor": 0
      },
      "text/plain": [
       "HBox(children=(FloatProgress(value=0.0, description='Training', layout=Layout(flex='2'), max=1250.0, style=Pro…"
      ]
     },
     "metadata": {},
     "output_type": "display_data"
    },
    {
     "name": "stdout",
     "output_type": "stream",
     "text": [
      "Epoch 572: train=7.88051, val=7.5755, took 34.14 s\n",
      "  Validation Found 51038 of 54504, added 1954 (eff 93.64%) (0.196 FP/event)\n"
     ]
    },
    {
     "name": "stderr",
     "output_type": "stream",
     "text": [
      "/home/michael24peters/pv-finder_experimental/notebooks/model/training.py:143: TqdmDeprecationWarning: This function will be removed in tqdm==5.0.0\n",
      "Please use `tqdm.notebook.tqdm` instead of `tqdm.tqdm_notebook`\n",
      "  file=sys.stderr,\n"
     ]
    },
    {
     "data": {
      "application/vnd.jupyter.widget-view+json": {
       "model_id": "",
       "version_major": 2,
       "version_minor": 0
      },
      "text/plain": [
       "HBox(children=(FloatProgress(value=0.0, description='Training', layout=Layout(flex='2'), max=1250.0, style=Pro…"
      ]
     },
     "metadata": {},
     "output_type": "display_data"
    },
    {
     "name": "stdout",
     "output_type": "stream",
     "text": [
      "Epoch 573: train=7.88393, val=7.58686, took 34.702 s\n",
      "  Validation Found 50978 of 54504, added 1878 (eff 93.53%) (0.188 FP/event)\n"
     ]
    },
    {
     "name": "stderr",
     "output_type": "stream",
     "text": [
      "/home/michael24peters/pv-finder_experimental/notebooks/model/training.py:143: TqdmDeprecationWarning: This function will be removed in tqdm==5.0.0\n",
      "Please use `tqdm.notebook.tqdm` instead of `tqdm.tqdm_notebook`\n",
      "  file=sys.stderr,\n"
     ]
    },
    {
     "data": {
      "application/vnd.jupyter.widget-view+json": {
       "model_id": "",
       "version_major": 2,
       "version_minor": 0
      },
      "text/plain": [
       "HBox(children=(FloatProgress(value=0.0, description='Training', layout=Layout(flex='2'), max=1250.0, style=Pro…"
      ]
     },
     "metadata": {},
     "output_type": "display_data"
    },
    {
     "name": "stdout",
     "output_type": "stream",
     "text": [
      "Epoch 574: train=7.88716, val=7.56378, took 34.289 s\n",
      "  Validation Found 51219 of 54504, added 2355 (eff 93.97%) (0.236 FP/event)\n"
     ]
    },
    {
     "name": "stderr",
     "output_type": "stream",
     "text": [
      "/home/michael24peters/pv-finder_experimental/notebooks/model/training.py:143: TqdmDeprecationWarning: This function will be removed in tqdm==5.0.0\n",
      "Please use `tqdm.notebook.tqdm` instead of `tqdm.tqdm_notebook`\n",
      "  file=sys.stderr,\n"
     ]
    },
    {
     "data": {
      "application/vnd.jupyter.widget-view+json": {
       "model_id": "",
       "version_major": 2,
       "version_minor": 0
      },
      "text/plain": [
       "HBox(children=(FloatProgress(value=0.0, description='Training', layout=Layout(flex='2'), max=1250.0, style=Pro…"
      ]
     },
     "metadata": {},
     "output_type": "display_data"
    },
    {
     "name": "stdout",
     "output_type": "stream",
     "text": [
      "Epoch 575: train=7.87894, val=7.52928, took 34.253 s\n",
      "  Validation Found 51215 of 54504, added 2272 (eff 93.97%) (0.228 FP/event)\n"
     ]
    },
    {
     "name": "stderr",
     "output_type": "stream",
     "text": [
      "/home/michael24peters/pv-finder_experimental/notebooks/model/training.py:143: TqdmDeprecationWarning: This function will be removed in tqdm==5.0.0\n",
      "Please use `tqdm.notebook.tqdm` instead of `tqdm.tqdm_notebook`\n",
      "  file=sys.stderr,\n"
     ]
    },
    {
     "data": {
      "application/vnd.jupyter.widget-view+json": {
       "model_id": "",
       "version_major": 2,
       "version_minor": 0
      },
      "text/plain": [
       "HBox(children=(FloatProgress(value=0.0, description='Training', layout=Layout(flex='2'), max=1250.0, style=Pro…"
      ]
     },
     "metadata": {},
     "output_type": "display_data"
    },
    {
     "name": "stdout",
     "output_type": "stream",
     "text": [
      "Epoch 576: train=7.87954, val=7.61824, took 34.545 s\n",
      "  Validation Found 50994 of 54504, added 1876 (eff 93.56%) (0.188 FP/event)\n"
     ]
    },
    {
     "name": "stderr",
     "output_type": "stream",
     "text": [
      "/home/michael24peters/pv-finder_experimental/notebooks/model/training.py:143: TqdmDeprecationWarning: This function will be removed in tqdm==5.0.0\n",
      "Please use `tqdm.notebook.tqdm` instead of `tqdm.tqdm_notebook`\n",
      "  file=sys.stderr,\n"
     ]
    },
    {
     "data": {
      "application/vnd.jupyter.widget-view+json": {
       "model_id": "",
       "version_major": 2,
       "version_minor": 0
      },
      "text/plain": [
       "HBox(children=(FloatProgress(value=0.0, description='Training', layout=Layout(flex='2'), max=1250.0, style=Pro…"
      ]
     },
     "metadata": {},
     "output_type": "display_data"
    },
    {
     "name": "stdout",
     "output_type": "stream",
     "text": [
      "Epoch 577: train=7.88595, val=7.53427, took 34.19 s\n",
      "  Validation Found 51271 of 54504, added 2303 (eff 94.07%) (0.231 FP/event)\n"
     ]
    },
    {
     "name": "stderr",
     "output_type": "stream",
     "text": [
      "/home/michael24peters/pv-finder_experimental/notebooks/model/training.py:143: TqdmDeprecationWarning: This function will be removed in tqdm==5.0.0\n",
      "Please use `tqdm.notebook.tqdm` instead of `tqdm.tqdm_notebook`\n",
      "  file=sys.stderr,\n"
     ]
    },
    {
     "data": {
      "application/vnd.jupyter.widget-view+json": {
       "model_id": "",
       "version_major": 2,
       "version_minor": 0
      },
      "text/plain": [
       "HBox(children=(FloatProgress(value=0.0, description='Training', layout=Layout(flex='2'), max=1250.0, style=Pro…"
      ]
     },
     "metadata": {},
     "output_type": "display_data"
    },
    {
     "name": "stdout",
     "output_type": "stream",
     "text": [
      "Epoch 578: train=7.88026, val=7.53189, took 35.145 s\n",
      "  Validation Found 51207 of 54504, added 2118 (eff 93.95%) (0.212 FP/event)\n"
     ]
    },
    {
     "name": "stderr",
     "output_type": "stream",
     "text": [
      "/home/michael24peters/pv-finder_experimental/notebooks/model/training.py:143: TqdmDeprecationWarning: This function will be removed in tqdm==5.0.0\n",
      "Please use `tqdm.notebook.tqdm` instead of `tqdm.tqdm_notebook`\n",
      "  file=sys.stderr,\n"
     ]
    },
    {
     "data": {
      "application/vnd.jupyter.widget-view+json": {
       "model_id": "",
       "version_major": 2,
       "version_minor": 0
      },
      "text/plain": [
       "HBox(children=(FloatProgress(value=0.0, description='Training', layout=Layout(flex='2'), max=1250.0, style=Pro…"
      ]
     },
     "metadata": {},
     "output_type": "display_data"
    },
    {
     "name": "stdout",
     "output_type": "stream",
     "text": [
      "Epoch 579: train=7.87566, val=7.56549, took 35.118 s\n",
      "  Validation Found 51057 of 54504, added 1946 (eff 93.68%) (0.195 FP/event)\n"
     ]
    },
    {
     "name": "stderr",
     "output_type": "stream",
     "text": [
      "/home/michael24peters/pv-finder_experimental/notebooks/model/training.py:143: TqdmDeprecationWarning: This function will be removed in tqdm==5.0.0\n",
      "Please use `tqdm.notebook.tqdm` instead of `tqdm.tqdm_notebook`\n",
      "  file=sys.stderr,\n"
     ]
    },
    {
     "data": {
      "application/vnd.jupyter.widget-view+json": {
       "model_id": "",
       "version_major": 2,
       "version_minor": 0
      },
      "text/plain": [
       "HBox(children=(FloatProgress(value=0.0, description='Training', layout=Layout(flex='2'), max=1250.0, style=Pro…"
      ]
     },
     "metadata": {},
     "output_type": "display_data"
    },
    {
     "name": "stdout",
     "output_type": "stream",
     "text": [
      "Epoch 580: train=7.88757, val=7.49783, took 34.212 s\n",
      "  Validation Found 51322 of 54504, added 2408 (eff 94.16%) (0.241 FP/event)\n"
     ]
    },
    {
     "name": "stderr",
     "output_type": "stream",
     "text": [
      "/home/michael24peters/pv-finder_experimental/notebooks/model/training.py:143: TqdmDeprecationWarning: This function will be removed in tqdm==5.0.0\n",
      "Please use `tqdm.notebook.tqdm` instead of `tqdm.tqdm_notebook`\n",
      "  file=sys.stderr,\n"
     ]
    },
    {
     "data": {
      "application/vnd.jupyter.widget-view+json": {
       "model_id": "",
       "version_major": 2,
       "version_minor": 0
      },
      "text/plain": [
       "HBox(children=(FloatProgress(value=0.0, description='Training', layout=Layout(flex='2'), max=1250.0, style=Pro…"
      ]
     },
     "metadata": {},
     "output_type": "display_data"
    },
    {
     "name": "stdout",
     "output_type": "stream",
     "text": [
      "Epoch 581: train=7.87461, val=7.59002, took 35.185 s\n",
      "  Validation Found 51052 of 54504, added 2008 (eff 93.67%) (0.201 FP/event)\n"
     ]
    },
    {
     "name": "stderr",
     "output_type": "stream",
     "text": [
      "/home/michael24peters/pv-finder_experimental/notebooks/model/training.py:143: TqdmDeprecationWarning: This function will be removed in tqdm==5.0.0\n",
      "Please use `tqdm.notebook.tqdm` instead of `tqdm.tqdm_notebook`\n",
      "  file=sys.stderr,\n"
     ]
    },
    {
     "data": {
      "application/vnd.jupyter.widget-view+json": {
       "model_id": "",
       "version_major": 2,
       "version_minor": 0
      },
      "text/plain": [
       "HBox(children=(FloatProgress(value=0.0, description='Training', layout=Layout(flex='2'), max=1250.0, style=Pro…"
      ]
     },
     "metadata": {},
     "output_type": "display_data"
    },
    {
     "name": "stdout",
     "output_type": "stream",
     "text": [
      "Epoch 582: train=7.87929, val=7.55812, took 35.113 s\n",
      "  Validation Found 51186 of 54504, added 2177 (eff 93.91%) (0.218 FP/event)\n"
     ]
    },
    {
     "name": "stderr",
     "output_type": "stream",
     "text": [
      "/home/michael24peters/pv-finder_experimental/notebooks/model/training.py:143: TqdmDeprecationWarning: This function will be removed in tqdm==5.0.0\n",
      "Please use `tqdm.notebook.tqdm` instead of `tqdm.tqdm_notebook`\n",
      "  file=sys.stderr,\n"
     ]
    },
    {
     "data": {
      "application/vnd.jupyter.widget-view+json": {
       "model_id": "",
       "version_major": 2,
       "version_minor": 0
      },
      "text/plain": [
       "HBox(children=(FloatProgress(value=0.0, description='Training', layout=Layout(flex='2'), max=1250.0, style=Pro…"
      ]
     },
     "metadata": {},
     "output_type": "display_data"
    },
    {
     "name": "stdout",
     "output_type": "stream",
     "text": [
      "Epoch 583: train=7.87897, val=7.5196, took 34.526 s\n",
      "  Validation Found 51306 of 54504, added 2352 (eff 94.13%) (0.236 FP/event)\n"
     ]
    },
    {
     "name": "stderr",
     "output_type": "stream",
     "text": [
      "/home/michael24peters/pv-finder_experimental/notebooks/model/training.py:143: TqdmDeprecationWarning: This function will be removed in tqdm==5.0.0\n",
      "Please use `tqdm.notebook.tqdm` instead of `tqdm.tqdm_notebook`\n",
      "  file=sys.stderr,\n"
     ]
    },
    {
     "data": {
      "application/vnd.jupyter.widget-view+json": {
       "model_id": "",
       "version_major": 2,
       "version_minor": 0
      },
      "text/plain": [
       "HBox(children=(FloatProgress(value=0.0, description='Training', layout=Layout(flex='2'), max=1250.0, style=Pro…"
      ]
     },
     "metadata": {},
     "output_type": "display_data"
    },
    {
     "name": "stdout",
     "output_type": "stream",
     "text": [
      "Epoch 584: train=7.873, val=7.5677, took 34.378 s\n",
      "  Validation Found 51052 of 54504, added 1882 (eff 93.67%) (0.188 FP/event)\n"
     ]
    },
    {
     "name": "stderr",
     "output_type": "stream",
     "text": [
      "/home/michael24peters/pv-finder_experimental/notebooks/model/training.py:143: TqdmDeprecationWarning: This function will be removed in tqdm==5.0.0\n",
      "Please use `tqdm.notebook.tqdm` instead of `tqdm.tqdm_notebook`\n",
      "  file=sys.stderr,\n"
     ]
    },
    {
     "data": {
      "application/vnd.jupyter.widget-view+json": {
       "model_id": "",
       "version_major": 2,
       "version_minor": 0
      },
      "text/plain": [
       "HBox(children=(FloatProgress(value=0.0, description='Training', layout=Layout(flex='2'), max=1250.0, style=Pro…"
      ]
     },
     "metadata": {},
     "output_type": "display_data"
    },
    {
     "name": "stdout",
     "output_type": "stream",
     "text": [
      "Epoch 585: train=7.88251, val=7.54074, took 34.401 s\n",
      "  Validation Found 51191 of 54504, added 2169 (eff 93.92%) (0.217 FP/event)\n"
     ]
    },
    {
     "name": "stderr",
     "output_type": "stream",
     "text": [
      "/home/michael24peters/pv-finder_experimental/notebooks/model/training.py:143: TqdmDeprecationWarning: This function will be removed in tqdm==5.0.0\n",
      "Please use `tqdm.notebook.tqdm` instead of `tqdm.tqdm_notebook`\n",
      "  file=sys.stderr,\n"
     ]
    },
    {
     "data": {
      "application/vnd.jupyter.widget-view+json": {
       "model_id": "",
       "version_major": 2,
       "version_minor": 0
      },
      "text/plain": [
       "HBox(children=(FloatProgress(value=0.0, description='Training', layout=Layout(flex='2'), max=1250.0, style=Pro…"
      ]
     },
     "metadata": {},
     "output_type": "display_data"
    },
    {
     "name": "stdout",
     "output_type": "stream",
     "text": [
      "Epoch 586: train=7.87571, val=7.52224, took 34.389 s\n",
      "  Validation Found 51298 of 54504, added 2334 (eff 94.12%) (0.234 FP/event)\n"
     ]
    },
    {
     "name": "stderr",
     "output_type": "stream",
     "text": [
      "/home/michael24peters/pv-finder_experimental/notebooks/model/training.py:143: TqdmDeprecationWarning: This function will be removed in tqdm==5.0.0\n",
      "Please use `tqdm.notebook.tqdm` instead of `tqdm.tqdm_notebook`\n",
      "  file=sys.stderr,\n"
     ]
    },
    {
     "data": {
      "application/vnd.jupyter.widget-view+json": {
       "model_id": "",
       "version_major": 2,
       "version_minor": 0
      },
      "text/plain": [
       "HBox(children=(FloatProgress(value=0.0, description='Training', layout=Layout(flex='2'), max=1250.0, style=Pro…"
      ]
     },
     "metadata": {},
     "output_type": "display_data"
    },
    {
     "name": "stdout",
     "output_type": "stream",
     "text": [
      "Epoch 587: train=7.87082, val=7.53643, took 34.382 s\n",
      "  Validation Found 51224 of 54504, added 2172 (eff 93.98%) (0.218 FP/event)\n"
     ]
    },
    {
     "name": "stderr",
     "output_type": "stream",
     "text": [
      "/home/michael24peters/pv-finder_experimental/notebooks/model/training.py:143: TqdmDeprecationWarning: This function will be removed in tqdm==5.0.0\n",
      "Please use `tqdm.notebook.tqdm` instead of `tqdm.tqdm_notebook`\n",
      "  file=sys.stderr,\n"
     ]
    },
    {
     "data": {
      "application/vnd.jupyter.widget-view+json": {
       "model_id": "",
       "version_major": 2,
       "version_minor": 0
      },
      "text/plain": [
       "HBox(children=(FloatProgress(value=0.0, description='Training', layout=Layout(flex='2'), max=1250.0, style=Pro…"
      ]
     },
     "metadata": {},
     "output_type": "display_data"
    },
    {
     "name": "stdout",
     "output_type": "stream",
     "text": [
      "Epoch 588: train=7.87254, val=7.48933, took 34.451 s\n",
      "  Validation Found 51346 of 54504, added 2438 (eff 94.21%) (0.244 FP/event)\n"
     ]
    },
    {
     "name": "stderr",
     "output_type": "stream",
     "text": [
      "/home/michael24peters/pv-finder_experimental/notebooks/model/training.py:143: TqdmDeprecationWarning: This function will be removed in tqdm==5.0.0\n",
      "Please use `tqdm.notebook.tqdm` instead of `tqdm.tqdm_notebook`\n",
      "  file=sys.stderr,\n"
     ]
    },
    {
     "data": {
      "application/vnd.jupyter.widget-view+json": {
       "model_id": "",
       "version_major": 2,
       "version_minor": 0
      },
      "text/plain": [
       "HBox(children=(FloatProgress(value=0.0, description='Training', layout=Layout(flex='2'), max=1250.0, style=Pro…"
      ]
     },
     "metadata": {},
     "output_type": "display_data"
    },
    {
     "name": "stdout",
     "output_type": "stream",
     "text": [
      "Epoch 589: train=7.87562, val=7.48705, took 34.361 s\n",
      "  Validation Found 51267 of 54504, added 2310 (eff 94.06%) (0.231 FP/event)\n"
     ]
    },
    {
     "name": "stderr",
     "output_type": "stream",
     "text": [
      "/home/michael24peters/pv-finder_experimental/notebooks/model/training.py:143: TqdmDeprecationWarning: This function will be removed in tqdm==5.0.0\n",
      "Please use `tqdm.notebook.tqdm` instead of `tqdm.tqdm_notebook`\n",
      "  file=sys.stderr,\n"
     ]
    },
    {
     "data": {
      "application/vnd.jupyter.widget-view+json": {
       "model_id": "",
       "version_major": 2,
       "version_minor": 0
      },
      "text/plain": [
       "HBox(children=(FloatProgress(value=0.0, description='Training', layout=Layout(flex='2'), max=1250.0, style=Pro…"
      ]
     },
     "metadata": {},
     "output_type": "display_data"
    },
    {
     "name": "stdout",
     "output_type": "stream",
     "text": [
      "Epoch 590: train=7.86475, val=7.50002, took 34.349 s\n",
      "  Validation Found 51257 of 54504, added 2240 (eff 94.04%) (0.224 FP/event)\n"
     ]
    },
    {
     "name": "stderr",
     "output_type": "stream",
     "text": [
      "/home/michael24peters/pv-finder_experimental/notebooks/model/training.py:143: TqdmDeprecationWarning: This function will be removed in tqdm==5.0.0\n",
      "Please use `tqdm.notebook.tqdm` instead of `tqdm.tqdm_notebook`\n",
      "  file=sys.stderr,\n"
     ]
    },
    {
     "data": {
      "application/vnd.jupyter.widget-view+json": {
       "model_id": "",
       "version_major": 2,
       "version_minor": 0
      },
      "text/plain": [
       "HBox(children=(FloatProgress(value=0.0, description='Training', layout=Layout(flex='2'), max=1250.0, style=Pro…"
      ]
     },
     "metadata": {},
     "output_type": "display_data"
    },
    {
     "name": "stdout",
     "output_type": "stream",
     "text": [
      "Epoch 591: train=7.86751, val=7.56245, took 34.349 s\n",
      "  Validation Found 51112 of 54504, added 2112 (eff 93.78%) (0.212 FP/event)\n"
     ]
    },
    {
     "name": "stderr",
     "output_type": "stream",
     "text": [
      "/home/michael24peters/pv-finder_experimental/notebooks/model/training.py:143: TqdmDeprecationWarning: This function will be removed in tqdm==5.0.0\n",
      "Please use `tqdm.notebook.tqdm` instead of `tqdm.tqdm_notebook`\n",
      "  file=sys.stderr,\n"
     ]
    },
    {
     "data": {
      "application/vnd.jupyter.widget-view+json": {
       "model_id": "",
       "version_major": 2,
       "version_minor": 0
      },
      "text/plain": [
       "HBox(children=(FloatProgress(value=0.0, description='Training', layout=Layout(flex='2'), max=1250.0, style=Pro…"
      ]
     },
     "metadata": {},
     "output_type": "display_data"
    },
    {
     "name": "stdout",
     "output_type": "stream",
     "text": [
      "Epoch 592: train=7.87141, val=7.60909, took 34.268 s\n",
      "  Validation Found 50984 of 54504, added 1883 (eff 93.54%) (0.189 FP/event)\n"
     ]
    },
    {
     "name": "stderr",
     "output_type": "stream",
     "text": [
      "/home/michael24peters/pv-finder_experimental/notebooks/model/training.py:143: TqdmDeprecationWarning: This function will be removed in tqdm==5.0.0\n",
      "Please use `tqdm.notebook.tqdm` instead of `tqdm.tqdm_notebook`\n",
      "  file=sys.stderr,\n"
     ]
    },
    {
     "data": {
      "application/vnd.jupyter.widget-view+json": {
       "model_id": "",
       "version_major": 2,
       "version_minor": 0
      },
      "text/plain": [
       "HBox(children=(FloatProgress(value=0.0, description='Training', layout=Layout(flex='2'), max=1250.0, style=Pro…"
      ]
     },
     "metadata": {},
     "output_type": "display_data"
    },
    {
     "name": "stdout",
     "output_type": "stream",
     "text": [
      "Epoch 593: train=7.86988, val=7.5268, took 34.281 s\n",
      "  Validation Found 51214 of 54504, added 2252 (eff 93.96%) (0.226 FP/event)\n"
     ]
    },
    {
     "name": "stderr",
     "output_type": "stream",
     "text": [
      "/home/michael24peters/pv-finder_experimental/notebooks/model/training.py:143: TqdmDeprecationWarning: This function will be removed in tqdm==5.0.0\n",
      "Please use `tqdm.notebook.tqdm` instead of `tqdm.tqdm_notebook`\n",
      "  file=sys.stderr,\n"
     ]
    },
    {
     "data": {
      "application/vnd.jupyter.widget-view+json": {
       "model_id": "",
       "version_major": 2,
       "version_minor": 0
      },
      "text/plain": [
       "HBox(children=(FloatProgress(value=0.0, description='Training', layout=Layout(flex='2'), max=1250.0, style=Pro…"
      ]
     },
     "metadata": {},
     "output_type": "display_data"
    },
    {
     "name": "stdout",
     "output_type": "stream",
     "text": [
      "Epoch 594: train=7.86611, val=7.55996, took 34.176 s\n",
      "  Validation Found 51404 of 54504, added 2751 (eff 94.31%) (0.276 FP/event)\n"
     ]
    },
    {
     "name": "stderr",
     "output_type": "stream",
     "text": [
      "/home/michael24peters/pv-finder_experimental/notebooks/model/training.py:143: TqdmDeprecationWarning: This function will be removed in tqdm==5.0.0\n",
      "Please use `tqdm.notebook.tqdm` instead of `tqdm.tqdm_notebook`\n",
      "  file=sys.stderr,\n"
     ]
    },
    {
     "data": {
      "application/vnd.jupyter.widget-view+json": {
       "model_id": "",
       "version_major": 2,
       "version_minor": 0
      },
      "text/plain": [
       "HBox(children=(FloatProgress(value=0.0, description='Training', layout=Layout(flex='2'), max=1250.0, style=Pro…"
      ]
     },
     "metadata": {},
     "output_type": "display_data"
    },
    {
     "name": "stdout",
     "output_type": "stream",
     "text": [
      "Epoch 595: train=7.85792, val=7.51727, took 34.245 s\n",
      "  Validation Found 51458 of 54504, added 2609 (eff 94.41%) (0.261 FP/event)\n"
     ]
    },
    {
     "name": "stderr",
     "output_type": "stream",
     "text": [
      "/home/michael24peters/pv-finder_experimental/notebooks/model/training.py:143: TqdmDeprecationWarning: This function will be removed in tqdm==5.0.0\n",
      "Please use `tqdm.notebook.tqdm` instead of `tqdm.tqdm_notebook`\n",
      "  file=sys.stderr,\n"
     ]
    },
    {
     "data": {
      "application/vnd.jupyter.widget-view+json": {
       "model_id": "",
       "version_major": 2,
       "version_minor": 0
      },
      "text/plain": [
       "HBox(children=(FloatProgress(value=0.0, description='Training', layout=Layout(flex='2'), max=1250.0, style=Pro…"
      ]
     },
     "metadata": {},
     "output_type": "display_data"
    },
    {
     "name": "stdout",
     "output_type": "stream",
     "text": [
      "Epoch 596: train=7.86815, val=7.5655, took 34.159 s\n",
      "  Validation Found 51070 of 54504, added 2032 (eff 93.70%) (0.204 FP/event)\n"
     ]
    },
    {
     "name": "stderr",
     "output_type": "stream",
     "text": [
      "/home/michael24peters/pv-finder_experimental/notebooks/model/training.py:143: TqdmDeprecationWarning: This function will be removed in tqdm==5.0.0\n",
      "Please use `tqdm.notebook.tqdm` instead of `tqdm.tqdm_notebook`\n",
      "  file=sys.stderr,\n"
     ]
    },
    {
     "data": {
      "application/vnd.jupyter.widget-view+json": {
       "model_id": "",
       "version_major": 2,
       "version_minor": 0
      },
      "text/plain": [
       "HBox(children=(FloatProgress(value=0.0, description='Training', layout=Layout(flex='2'), max=1250.0, style=Pro…"
      ]
     },
     "metadata": {},
     "output_type": "display_data"
    },
    {
     "name": "stdout",
     "output_type": "stream",
     "text": [
      "Epoch 597: train=7.86567, val=7.55538, took 33.866 s\n",
      "  Validation Found 51179 of 54504, added 2238 (eff 93.90%) (0.224 FP/event)\n",
      "\n"
     ]
    }
   ],
   "source": [
    "print('for model: ', model)   \n",
    "run_name = 'ACNN 2'\n",
    "# Create an mlflow run\n",
    "with mlflow.start_run(run_name=run_name) as run:\n",
    "    # Log parameters of the model\n",
    "    for key, value in vars(args).items():\n",
    "        print(key, value)\n",
    "        mlflow.log_param(key, value)\n",
    "    \n",
    "    # Log parameter count in the model\n",
    "    mlflow.log_param('Parameters', count_parameters(model))\n",
    "    \n",
    "    # Begin run\n",
    "    for result in trainNet(model, optimizer, loss,\n",
    "                            train_loader, val_loader,\n",
    "                            args.epochs+args.epoch_start, epoch_start=args.epoch_start,\n",
    "                            notebook=True, device=device):\n",
    "\n",
    "        result = result._asdict()\n",
    "        results = results.append(pd.Series(result), ignore_index=True)\n",
    "        xs = results.index\n",
    "\n",
    "        # Update the plot above\n",
    "        lines['train'].set_data(results.index, results.cost)\n",
    "        lines['val'].set_data(results.index, results.val)\n",
    "\n",
    "        #filter first cost epoch (can be really large)\n",
    "        max_cost = max(max(results.cost if len(results.cost)<2 else results.cost[1:]), max(results.val))\n",
    "        min_cost = min(min(results.cost), min(results.val))\n",
    "    \n",
    "        # The plot limits need updating too\n",
    "        ax.set_ylim(min_cost*.9, max_cost*1.1)  \n",
    "        ax.set_xlim(-.5, len(results.cost) - .5)\n",
    "    \n",
    "        replace_in_ax(lax, lines['eff'], xs, results['eff_val'].apply(lambda x: x.eff_rate))\n",
    "        replace_in_ax(tax, lines['fp'], xs, results['eff_val'].apply(lambda x: x.fp_rate))\n",
    "    \n",
    "        # Redraw the figure\n",
    "        fig.canvas.draw()\n",
    "        plt.tight_layout()\n",
    "        fig.savefig('plot.png')\n",
    "            \n",
    "            \n",
    "        ## MLFLOW ##\n",
    "        # Log metrics\n",
    "        mlflow.log_metric('Efficiency', result['eff_val'].eff_rate, result['epoch'])\n",
    "        mlflow.log_metric('False Positive Rate',  result['eff_val'].fp_rate, result['epoch'])\n",
    "        mlflow.log_metric('Validation Loss',  result['val'], result['epoch'])\n",
    "        mlflow.log_metric('Training Loss',  result['cost'], result['epoch'])\n",
    "            \n",
    "        # Log tags\n",
    "#        mlflow.set_tag('Optimizer', 'Adam')\n",
    "#        mlflow.set_tag('Kernel size', 'Mixed')\n",
    "#        mlflow.set_tag('Skip connections', '4')\n",
    "#        mlflow.set_tag('Activation', 'Softplus')\n",
    "#        mlflow.set_tag('Mid Activation', 'Relu')\n",
    "\n",
    "        # Save model state dictionary, optimizer state dictionary, and epoch number\n",
    "        torch.save({\n",
    "            'model':model.state_dict(),\n",
    "            'optimizer':optimizer.state_dict(),\n",
    "            'epoch':args.epochs+result['epoch']\n",
    "            }, 'run_stats.pyt')\n",
    "        # Save the run stats into mlflow\n",
    "        mlflow.log_artifact('run_stats.pyt')\n",
    "            \n",
    "        # Save a diagram of the architecture\n",
    "        HL.transforms.Fold(\"Conv\", \"Conv\"),\n",
    "        HL.build_graph(model, torch.zeros([args.batch_size, 1, 4000]).to(device)).save('architecture', format='png')\n",
    "        mlflow.log_artifact('architecture.png')\n",
    "        \n",
    "        # log the code for the model architecture\n",
    "#        mlflow.log_artifact('architecture.txt')\n",
    "        \n",
    "        # save plot\n",
    "        mlflow.log_artifact('plot.png')"
   ]
  },
  {
   "cell_type": "code",
   "execution_count": 13,
   "metadata": {},
   "outputs": [],
   "source": [
    "##quit()"
   ]
  }
 ],
 "metadata": {
  "kernelspec": {
   "display_name": "goofit-june2020",
   "language": "python",
   "name": "goofit-june2020"
  },
  "language_info": {
   "codemirror_mode": {
    "name": "ipython",
    "version": 3
   },
   "file_extension": ".py",
   "mimetype": "text/x-python",
   "name": "python",
   "nbconvert_exporter": "python",
   "pygments_lexer": "ipython3",
   "version": "3.7.6"
  }
 },
 "nbformat": 4,
 "nbformat_minor": 2
}
