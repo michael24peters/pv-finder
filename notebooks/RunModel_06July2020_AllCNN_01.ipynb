{
 "cells": [
  {
   "cell_type": "code",
   "execution_count": 1,
   "metadata": {},
   "outputs": [],
   "source": [
    "##%matplotlib widget\n",
    "## with %matplotlib notebook: seems to require ipympl as part of environment, either\n",
    "## part of the conda environment or \"pip install ipympl\"\n",
    "## otherwise, does not show ANY plots in notebook, plt.savefig() works\n",
    "%matplotlib notebook  \n",
    "##%matplotlib inline    ## --plt.savefig()  works, but re-sizing does NOT"
   ]
  },
  {
   "cell_type": "markdown",
   "metadata": {},
   "source": [
    "This notebook is a short demo to illustrate execution.   For odd historical reasons, it uses \"toy Monte Carlo\" (simulated data)for \"training\" and \"full LHCB MC\" for validation.\n",
    "\n",
    "The network architecture is a \"simple\" model that uses 1 input channel (the KDE [kernel density estimator] but from the track parameters) feeding 5 convolutional layers followed by a fully connected layer.\n",
    "\n",
    "In today's version, the network will start with weights from a previously trained version.\n",
    " "
   ]
  },
  {
   "cell_type": "markdown",
   "metadata": {},
   "source": [
    "Check the current GPU usage. Please try to be nice!"
   ]
  },
  {
   "cell_type": "code",
   "execution_count": 2,
   "metadata": {
    "scrolled": true
   },
   "outputs": [
    {
     "name": "stdout",
     "output_type": "stream",
     "text": [
      "Sat Sep 26 10:59:22 2020       \r\n",
      "+-----------------------------------------------------------------------------+\r\n",
      "| NVIDIA-SMI 440.64.00    Driver Version: 440.64.00    CUDA Version: 10.2     |\r\n",
      "|-------------------------------+----------------------+----------------------+\r\n",
      "| GPU  Name        Persistence-M| Bus-Id        Disp.A | Volatile Uncorr. ECC |\r\n",
      "| Fan  Temp  Perf  Pwr:Usage/Cap|         Memory-Usage | GPU-Util  Compute M. |\r\n",
      "|===============================+======================+======================|\r\n",
      "|   0  TITAN V             Off  | 00000000:03:00.0 Off |                  N/A |\r\n",
      "| 20%   35C    P0    32W / 250W |      0MiB / 12066MiB |      0%      Default |\r\n",
      "+-------------------------------+----------------------+----------------------+\r\n",
      "|   1  Tesla P100-PCIE...  Off  | 00000000:83:00.0 Off |                    0 |\r\n",
      "| N/A   33C    P0    33W / 250W |      0MiB / 16280MiB |      0%      Default |\r\n",
      "+-------------------------------+----------------------+----------------------+\r\n",
      "|   2  TITAN V             Off  | 00000000:84:00.0 Off |                  N/A |\r\n",
      "| 22%   37C    P0    34W / 250W |      0MiB / 12066MiB |      0%      Default |\r\n",
      "+-------------------------------+----------------------+----------------------+\r\n",
      "                                                                               \r\n",
      "+-----------------------------------------------------------------------------+\r\n",
      "| Processes:                                                       GPU Memory |\r\n",
      "|  GPU       PID   Type   Process name                             Usage      |\r\n",
      "|=============================================================================|\r\n",
      "|  No running processes found                                                 |\r\n",
      "+-----------------------------------------------------------------------------+\r\n"
     ]
    }
   ],
   "source": [
    "!nvidia-smi"
   ]
  },
  {
   "cell_type": "markdown",
   "metadata": {},
   "source": [
    "> **WARNING**: The card numbers here are *not* the same as in CUDA. You have been warned."
   ]
  },
  {
   "cell_type": "markdown",
   "metadata": {},
   "source": [
    "## Imports"
   ]
  },
  {
   "cell_type": "code",
   "execution_count": 3,
   "metadata": {
    "scrolled": false
   },
   "outputs": [],
   "source": [
    "import matplotlib.pyplot as plt\n",
    "import numpy as np\n",
    "import time\n",
    "import torch\n",
    "import pandas as pd\n",
    "import mlflow\n",
    "\n",
    "# Python 3 standard library\n",
    "from pathlib import Path\n",
    "\n",
    "from torchsummary import summary\n",
    "\n",
    "'''\n",
    "HELPER FUNCTIONS\n",
    "'''\n",
    "# From model/collectdata.py\n",
    "from model.collectdata_mdsA import collect_data\n",
    "\n",
    "# From model/loss.py\n",
    "##from loss import Loss\n",
    "from model.alt_loss_A import Loss\n",
    "\n",
    "# From model/training.py\n",
    "from model.training import trainNet, select_gpu, Results\n",
    "\n",
    "# From model/models.py\n",
    "##  will start with model from TwoFeatures_CNN6Layer_A in the first instance\n",
    "##  see relevant cell below\n",
    "\n",
    "from model.models_mjp_07July2020 import All_CNN6Layer_A as ModelA\n",
    "from model.models_mjp_07July2020 import All_CNN6Layer_B as ModelB\n",
    "from model.models_mjp_07July2020 import All_CNN6Layer_C as ModelC\n",
    "from model.models_mjp_07July2020 import All_CNN6Layer_D as ModelD\n",
    "from model.models_mjp_07July2020 import All_CNN6Layer_E as ModelE\n",
    "from model.models_mjp_07July2020 import All_CNN6Layer_F as ModelF\n",
    "from model.models_mjp_07July2020 import All_CNN6Layer_G as ModelG\n",
    "from model.models_mjp_07July2020 import All_CNN6Layer_H as ModelH\n",
    "from model.models_mjp_07July2020 import All_CNN6Layer_I as ModelI\n",
    "from model.models_mjp_07July2020 import All_CNN6Layer_J as ModelJ\n",
    "from model.models_mjp_07July2020 import All_CNN6Layer_K as ModelK\n",
    "from model.models_mjp_07July2020 import All_CNN6Layer_L as ModelL\n",
    "from model.models_mjp_07July2020 import All_CNN6Layer_M as ModelM\n",
    "from model.models_mjp_07July2020 import All_CNN6Layer_N as ModelN\n",
    "\n",
    "# From model/utilities.py\n",
    "from model.utilities import load_full_state, count_parameters, Params\n",
    "\n",
    "from model.plots import dual_train_plots, replace_in_ax\n",
    "\n",
    "## adds image of model architecture\n",
    "import hiddenlayer as HL"
   ]
  },
  {
   "cell_type": "markdown",
   "metadata": {},
   "source": [
    "Set up Torch device configuration. All tensors and model parameters need to know where to be put.\n",
    "This takes a BUS ID number: The BUS ID is the same as the listing at the top of this script."
   ]
  },
  {
   "cell_type": "code",
   "execution_count": 4,
   "metadata": {},
   "outputs": [
    {
     "name": "stdout",
     "output_type": "stream",
     "text": [
      "1 available GPUs (initially using device 0):\n",
      "  0 TITAN V\n"
     ]
    }
   ],
   "source": [
    "device = select_gpu(0)"
   ]
  },
  {
   "cell_type": "markdown",
   "metadata": {},
   "source": [
    "### Set up local parameters"
   ]
  },
  {
   "cell_type": "code",
   "execution_count": 5,
   "metadata": {},
   "outputs": [],
   "source": [
    "# params order - batch size, epochs, lr, epoch_start (which is usually set to 0)\n",
    "args = Params(128, 200, 1e-3, 1420)"
   ]
  },
  {
   "cell_type": "markdown",
   "metadata": {},
   "source": [
    "## Loading data\n",
    "\n",
    "Load the dataset, split into parts, then move to device (see `collectdata.py` in the `../model` directory)"
   ]
  },
  {
   "cell_type": "code",
   "execution_count": 6,
   "metadata": {
    "scrolled": true
   },
   "outputs": [
    {
     "name": "stdout",
     "output_type": "stream",
     "text": [
      "Loading data...\n",
      "Loaded /share/lazy/sokoloff/ML-data_A/Aug14_80K_train.h5 in 10.67 s\n",
      "Loaded /share/lazy/sokoloff/ML-data_AA/Oct03_80K_train.h5 in 10.47 s\n",
      "Constructing 160000 event dataset took 3.232 s\n",
      "Loading data...\n",
      "Loaded /share/lazy/sokoloff/ML-data_AA/Oct03_20K_val.h5 in 2.562 s\n",
      "Constructing 9984 event dataset took 0.0851 s\n"
     ]
    }
   ],
   "source": [
    "## newer vernacular\n",
    "## Training dataset. You can put as many files here as desired.\n",
    "\n",
    "## in this DEMO example we use only one 80K training set -- the model starts with well-trained weights,\n",
    "## and using a smaller training set reduces both the time to load the data and the time to train an epoch\n",
    "##  set the option load_XandXsq = True to use both DKE and KDE^2 as input features\n",
    "train_loader = collect_data('/share/lazy/sokoloff/ML-data_A/Aug14_80K_train.h5',\n",
    "                             '/share/lazy/sokoloff/ML-data_AA/Oct03_80K_train.h5',\n",
    "#                             '/share/lazy/sokoloff/ML-data_AA/Oct03_40K_train.h5',\n",
    "#                             '/share/lazy/will/ML_mdsA/June30_2020_80k_1.h5',\n",
    "#                             '/share/lazy/will/ML_mdsA/June30_2020_80k_3.h5',\n",
    "#                             '/share/lazy/will/ML_mdsA/June30_2020_80k_4.h5',\n",
    "#                             '/share/lazy/will/ML_mdsA/June30_2020_80k_5.h5',\n",
    "#                             '/share/lazy/will/ML_mdsA/June30_2020_80k_6.h5',\n",
    "#                             '/share/lazy/will/ML_mdsA/June30_2020_80k_7.h5',\n",
    "#                             '/share/lazy/will/ML_mdsA/June30_2020_80k_8.h5',\n",
    "#                             '/share/lazy/will/ML_mdsA/June30_2020_80k_9.h5',\n",
    "                            #'/share/lazy/sokoloff/ML-data_AA/Oct03_80K2_train.h5',\n",
    "                             batch_size=args.batch_size,\n",
    "## if we are using a larger dataset (240K events, with the datasets above, and 11 GB  of GPU memory),\n",
    "## not the dataset will overflow the GPU memory; device=device will allow the data to move back\n",
    "## and forth between the CPU and GPU memory. While this allows use of a larger dataset, it slows\n",
    "## down performance by about 10%.  So comment out when not needed.\n",
    "                            device=device,\n",
    "                            masking=True, shuffle=True,\n",
    "                            load_XandXsq=False,\n",
    "                            load_xy=False)\n",
    "\n",
    "# Validation dataset. You can slice to reduce the size.\n",
    "## dataAA -> /share/lazy/sokoloff/ML-data_AA/\n",
    "val_loader = collect_data('/share/lazy/sokoloff/ML-data_AA/Oct03_20K_val.h5',\n",
    "## mds val_loader = collect_data('dataAA/HLT1CPU_1kevts_val.h5',\n",
    "\n",
    "                          batch_size=args.batch_size,\n",
    "                          slice=slice(256 * 39),\n",
    "                          device=device,\n",
    "                          masking=True, shuffle=False,\n",
    "                          load_XandXsq=False,\n",
    "                          load_xy=False)"
   ]
  },
  {
   "cell_type": "markdown",
   "metadata": {},
   "source": [
    "# Preparing the model"
   ]
  },
  {
   "cell_type": "markdown",
   "metadata": {},
   "source": [
    "Prepare a model, use multiple GPUs if they are VISIBLE, and move the model to the device."
   ]
  },
  {
   "cell_type": "code",
   "execution_count": 7,
   "metadata": {
    "scrolled": true
   },
   "outputs": [
    {
     "name": "stderr",
     "output_type": "stream",
     "text": [
      "WARNING:root:Malformed experiment 'ML'. Detailed error Yaml file '/share/lazy/pv-finder_model_repo/ML/meta.yaml' does not exist.\n",
      "Traceback (most recent call last):\n",
      "  File \"/home/michael24peters/.local/lib/python3.7/site-packages/mlflow/store/tracking/file_store.py\", line 197, in list_experiments\n",
      "    experiment = self._get_experiment(exp_id, view_type)\n",
      "  File \"/home/michael24peters/.local/lib/python3.7/site-packages/mlflow/store/tracking/file_store.py\", line 260, in _get_experiment\n",
      "    meta = read_yaml(experiment_dir, FileStore.META_DATA_FILE_NAME)\n",
      "  File \"/home/michael24peters/.local/lib/python3.7/site-packages/mlflow/utils/file_utils.py\", line 167, in read_yaml\n",
      "    raise MissingConfigException(\"Yaml file '%s' does not exist.\" % file_path)\n",
      "mlflow.exceptions.MissingConfigException: Yaml file '/share/lazy/pv-finder_model_repo/ML/meta.yaml' does not exist.\n"
     ]
    }
   ],
   "source": [
    "model = ModelG()\n",
    "\n",
    "#summary(model.to(device), (1, 4000))\n",
    "\n",
    "mlflow.tracking.set_tracking_uri('file:/share/lazy/pv-finder_model_repo')\n",
    "mlflow.set_experiment('ALLCNN')"
   ]
  },
  {
   "cell_type": "code",
   "execution_count": 8,
   "metadata": {
    "scrolled": true
   },
   "outputs": [
    {
     "name": "stdout",
     "output_type": "stream",
     "text": [
      "Let's use 1 GPUs!\n"
     ]
    }
   ],
   "source": [
    "print(\"Let's use\", torch.cuda.device_count(), \"GPUs!\")\n",
    "if torch.cuda.device_count() > 1:\n",
    "    model = torch.nn.DataParallel(model)"
   ]
  },
  {
   "cell_type": "markdown",
   "metadata": {},
   "source": [
    "Let's move the model's weight matricies to the GPU:"
   ]
  },
  {
   "cell_type": "code",
   "execution_count": 9,
   "metadata": {},
   "outputs": [
    {
     "name": "stdout",
     "output_type": "stream",
     "text": [
      "we also froze 0 weights\n",
      "Of the 6.0 parameter layers to update in the current model, 6.0 were loaded\n"
     ]
    }
   ],
   "source": [
    "##  mds 200121 loss = Loss(epsilon=1e-5,coefficient=1.0)\n",
    "loss = Loss(epsilon=1e-5,coefficient=1.5)\n",
    "optimizer = torch.optim.Adam(model.parameters(), lr=args.lr)\n",
    "\n",
    "##  use the first five layers from a pre-existing model\n",
    "##  see example at https://discuss.pytorch.org/t/how-to-load-part-of-pre-trained-model/1113\n",
    "##   ML -> /share/lazy/sokoloff/ML\n",
    "\n",
    "#path = 'run_stats.pyt'\n",
    "#load_full_state(model, optimizer, path)\n",
    "# For other pretrained models, go to MLFlow and find the path for \"run_stats.pyt\"\n",
    "pretrained_dict = '/share/lazy/pv-finder_model_repo/7/f84b354fead64c8c9cdba4afac00a34f/artifacts/run_stats.pyt'\n",
    "load_full_state(model, optimizer, pretrained_dict)"
   ]
  },
  {
   "cell_type": "markdown",
   "metadata": {},
   "source": [
    "Let's move the model's weight matricies to the GPU:"
   ]
  },
  {
   "cell_type": "code",
   "execution_count": 10,
   "metadata": {
    "scrolled": true
   },
   "outputs": [
    {
     "data": {
      "text/plain": [
       "All_CNN6Layer_G(\n",
       "  (conv1): Conv1d(1, 20, kernel_size=(25,), stride=(1,), padding=(12,))\n",
       "  (conv2): Conv1d(20, 12, kernel_size=(15,), stride=(1,), padding=(7,))\n",
       "  (conv3): Conv1d(12, 8, kernel_size=(15,), stride=(1,), padding=(7,))\n",
       "  (conv4): Conv1d(8, 6, kernel_size=(15,), stride=(1,), padding=(7,))\n",
       "  (conv5): Conv1d(6, 1, kernel_size=(5,), stride=(1,), padding=(2,))\n",
       "  (finalFilter): Conv1d(1, 1, kernel_size=(91,), stride=(1,), padding=(45,))\n",
       "  (conv1dropout): Dropout(p=0.15, inplace=False)\n",
       "  (conv2dropout): Dropout(p=0.15, inplace=False)\n",
       "  (conv3dropout): Dropout(p=0.15, inplace=False)\n",
       "  (conv4dropout): Dropout(p=0.15, inplace=False)\n",
       "  (conv5dropout): Dropout(p=0.15, inplace=False)\n",
       ")"
      ]
     },
     "execution_count": 10,
     "metadata": {},
     "output_type": "execute_result"
    }
   ],
   "source": [
    "model.to(device)"
   ]
  },
  {
   "cell_type": "markdown",
   "metadata": {},
   "source": [
    "## Train \n",
    "\n",
    "\n",
    "\n",
    "The body of this loop runs once per epoch. Results is a named tuple of values (loss per epoch for training and validation, time each). Start by setting up a plot first:"
   ]
  },
  {
   "cell_type": "code",
   "execution_count": 11,
   "metadata": {},
   "outputs": [
    {
     "data": {
      "application/javascript": [
       "/* Put everything inside the global mpl namespace */\n",
       "window.mpl = {};\n",
       "\n",
       "\n",
       "mpl.get_websocket_type = function() {\n",
       "    if (typeof(WebSocket) !== 'undefined') {\n",
       "        return WebSocket;\n",
       "    } else if (typeof(MozWebSocket) !== 'undefined') {\n",
       "        return MozWebSocket;\n",
       "    } else {\n",
       "        alert('Your browser does not have WebSocket support. ' +\n",
       "              'Please try Chrome, Safari or Firefox ≥ 6. ' +\n",
       "              'Firefox 4 and 5 are also supported but you ' +\n",
       "              'have to enable WebSockets in about:config.');\n",
       "    };\n",
       "}\n",
       "\n",
       "mpl.figure = function(figure_id, websocket, ondownload, parent_element) {\n",
       "    this.id = figure_id;\n",
       "\n",
       "    this.ws = websocket;\n",
       "\n",
       "    this.supports_binary = (this.ws.binaryType != undefined);\n",
       "\n",
       "    if (!this.supports_binary) {\n",
       "        var warnings = document.getElementById(\"mpl-warnings\");\n",
       "        if (warnings) {\n",
       "            warnings.style.display = 'block';\n",
       "            warnings.textContent = (\n",
       "                \"This browser does not support binary websocket messages. \" +\n",
       "                    \"Performance may be slow.\");\n",
       "        }\n",
       "    }\n",
       "\n",
       "    this.imageObj = new Image();\n",
       "\n",
       "    this.context = undefined;\n",
       "    this.message = undefined;\n",
       "    this.canvas = undefined;\n",
       "    this.rubberband_canvas = undefined;\n",
       "    this.rubberband_context = undefined;\n",
       "    this.format_dropdown = undefined;\n",
       "\n",
       "    this.image_mode = 'full';\n",
       "\n",
       "    this.root = $('<div/>');\n",
       "    this._root_extra_style(this.root)\n",
       "    this.root.attr('style', 'display: inline-block');\n",
       "\n",
       "    $(parent_element).append(this.root);\n",
       "\n",
       "    this._init_header(this);\n",
       "    this._init_canvas(this);\n",
       "    this._init_toolbar(this);\n",
       "\n",
       "    var fig = this;\n",
       "\n",
       "    this.waiting = false;\n",
       "\n",
       "    this.ws.onopen =  function () {\n",
       "            fig.send_message(\"supports_binary\", {value: fig.supports_binary});\n",
       "            fig.send_message(\"send_image_mode\", {});\n",
       "            if (mpl.ratio != 1) {\n",
       "                fig.send_message(\"set_dpi_ratio\", {'dpi_ratio': mpl.ratio});\n",
       "            }\n",
       "            fig.send_message(\"refresh\", {});\n",
       "        }\n",
       "\n",
       "    this.imageObj.onload = function() {\n",
       "            if (fig.image_mode == 'full') {\n",
       "                // Full images could contain transparency (where diff images\n",
       "                // almost always do), so we need to clear the canvas so that\n",
       "                // there is no ghosting.\n",
       "                fig.context.clearRect(0, 0, fig.canvas.width, fig.canvas.height);\n",
       "            }\n",
       "            fig.context.drawImage(fig.imageObj, 0, 0);\n",
       "        };\n",
       "\n",
       "    this.imageObj.onunload = function() {\n",
       "        fig.ws.close();\n",
       "    }\n",
       "\n",
       "    this.ws.onmessage = this._make_on_message_function(this);\n",
       "\n",
       "    this.ondownload = ondownload;\n",
       "}\n",
       "\n",
       "mpl.figure.prototype._init_header = function() {\n",
       "    var titlebar = $(\n",
       "        '<div class=\"ui-dialog-titlebar ui-widget-header ui-corner-all ' +\n",
       "        'ui-helper-clearfix\"/>');\n",
       "    var titletext = $(\n",
       "        '<div class=\"ui-dialog-title\" style=\"width: 100%; ' +\n",
       "        'text-align: center; padding: 3px;\"/>');\n",
       "    titlebar.append(titletext)\n",
       "    this.root.append(titlebar);\n",
       "    this.header = titletext[0];\n",
       "}\n",
       "\n",
       "\n",
       "\n",
       "mpl.figure.prototype._canvas_extra_style = function(canvas_div) {\n",
       "\n",
       "}\n",
       "\n",
       "\n",
       "mpl.figure.prototype._root_extra_style = function(canvas_div) {\n",
       "\n",
       "}\n",
       "\n",
       "mpl.figure.prototype._init_canvas = function() {\n",
       "    var fig = this;\n",
       "\n",
       "    var canvas_div = $('<div/>');\n",
       "\n",
       "    canvas_div.attr('style', 'position: relative; clear: both; outline: 0');\n",
       "\n",
       "    function canvas_keyboard_event(event) {\n",
       "        return fig.key_event(event, event['data']);\n",
       "    }\n",
       "\n",
       "    canvas_div.keydown('key_press', canvas_keyboard_event);\n",
       "    canvas_div.keyup('key_release', canvas_keyboard_event);\n",
       "    this.canvas_div = canvas_div\n",
       "    this._canvas_extra_style(canvas_div)\n",
       "    this.root.append(canvas_div);\n",
       "\n",
       "    var canvas = $('<canvas/>');\n",
       "    canvas.addClass('mpl-canvas');\n",
       "    canvas.attr('style', \"left: 0; top: 0; z-index: 0; outline: 0\")\n",
       "\n",
       "    this.canvas = canvas[0];\n",
       "    this.context = canvas[0].getContext(\"2d\");\n",
       "\n",
       "    var backingStore = this.context.backingStorePixelRatio ||\n",
       "\tthis.context.webkitBackingStorePixelRatio ||\n",
       "\tthis.context.mozBackingStorePixelRatio ||\n",
       "\tthis.context.msBackingStorePixelRatio ||\n",
       "\tthis.context.oBackingStorePixelRatio ||\n",
       "\tthis.context.backingStorePixelRatio || 1;\n",
       "\n",
       "    mpl.ratio = (window.devicePixelRatio || 1) / backingStore;\n",
       "\n",
       "    var rubberband = $('<canvas/>');\n",
       "    rubberband.attr('style', \"position: absolute; left: 0; top: 0; z-index: 1;\")\n",
       "\n",
       "    var pass_mouse_events = true;\n",
       "\n",
       "    canvas_div.resizable({\n",
       "        start: function(event, ui) {\n",
       "            pass_mouse_events = false;\n",
       "        },\n",
       "        resize: function(event, ui) {\n",
       "            fig.request_resize(ui.size.width, ui.size.height);\n",
       "        },\n",
       "        stop: function(event, ui) {\n",
       "            pass_mouse_events = true;\n",
       "            fig.request_resize(ui.size.width, ui.size.height);\n",
       "        },\n",
       "    });\n",
       "\n",
       "    function mouse_event_fn(event) {\n",
       "        if (pass_mouse_events)\n",
       "            return fig.mouse_event(event, event['data']);\n",
       "    }\n",
       "\n",
       "    rubberband.mousedown('button_press', mouse_event_fn);\n",
       "    rubberband.mouseup('button_release', mouse_event_fn);\n",
       "    // Throttle sequential mouse events to 1 every 20ms.\n",
       "    rubberband.mousemove('motion_notify', mouse_event_fn);\n",
       "\n",
       "    rubberband.mouseenter('figure_enter', mouse_event_fn);\n",
       "    rubberband.mouseleave('figure_leave', mouse_event_fn);\n",
       "\n",
       "    canvas_div.on(\"wheel\", function (event) {\n",
       "        event = event.originalEvent;\n",
       "        event['data'] = 'scroll'\n",
       "        if (event.deltaY < 0) {\n",
       "            event.step = 1;\n",
       "        } else {\n",
       "            event.step = -1;\n",
       "        }\n",
       "        mouse_event_fn(event);\n",
       "    });\n",
       "\n",
       "    canvas_div.append(canvas);\n",
       "    canvas_div.append(rubberband);\n",
       "\n",
       "    this.rubberband = rubberband;\n",
       "    this.rubberband_canvas = rubberband[0];\n",
       "    this.rubberband_context = rubberband[0].getContext(\"2d\");\n",
       "    this.rubberband_context.strokeStyle = \"#000000\";\n",
       "\n",
       "    this._resize_canvas = function(width, height) {\n",
       "        // Keep the size of the canvas, canvas container, and rubber band\n",
       "        // canvas in synch.\n",
       "        canvas_div.css('width', width)\n",
       "        canvas_div.css('height', height)\n",
       "\n",
       "        canvas.attr('width', width * mpl.ratio);\n",
       "        canvas.attr('height', height * mpl.ratio);\n",
       "        canvas.attr('style', 'width: ' + width + 'px; height: ' + height + 'px;');\n",
       "\n",
       "        rubberband.attr('width', width);\n",
       "        rubberband.attr('height', height);\n",
       "    }\n",
       "\n",
       "    // Set the figure to an initial 600x600px, this will subsequently be updated\n",
       "    // upon first draw.\n",
       "    this._resize_canvas(600, 600);\n",
       "\n",
       "    // Disable right mouse context menu.\n",
       "    $(this.rubberband_canvas).bind(\"contextmenu\",function(e){\n",
       "        return false;\n",
       "    });\n",
       "\n",
       "    function set_focus () {\n",
       "        canvas.focus();\n",
       "        canvas_div.focus();\n",
       "    }\n",
       "\n",
       "    window.setTimeout(set_focus, 100);\n",
       "}\n",
       "\n",
       "mpl.figure.prototype._init_toolbar = function() {\n",
       "    var fig = this;\n",
       "\n",
       "    var nav_element = $('<div/>');\n",
       "    nav_element.attr('style', 'width: 100%');\n",
       "    this.root.append(nav_element);\n",
       "\n",
       "    // Define a callback function for later on.\n",
       "    function toolbar_event(event) {\n",
       "        return fig.toolbar_button_onclick(event['data']);\n",
       "    }\n",
       "    function toolbar_mouse_event(event) {\n",
       "        return fig.toolbar_button_onmouseover(event['data']);\n",
       "    }\n",
       "\n",
       "    for(var toolbar_ind in mpl.toolbar_items) {\n",
       "        var name = mpl.toolbar_items[toolbar_ind][0];\n",
       "        var tooltip = mpl.toolbar_items[toolbar_ind][1];\n",
       "        var image = mpl.toolbar_items[toolbar_ind][2];\n",
       "        var method_name = mpl.toolbar_items[toolbar_ind][3];\n",
       "\n",
       "        if (!name) {\n",
       "            // put a spacer in here.\n",
       "            continue;\n",
       "        }\n",
       "        var button = $('<button/>');\n",
       "        button.addClass('ui-button ui-widget ui-state-default ui-corner-all ' +\n",
       "                        'ui-button-icon-only');\n",
       "        button.attr('role', 'button');\n",
       "        button.attr('aria-disabled', 'false');\n",
       "        button.click(method_name, toolbar_event);\n",
       "        button.mouseover(tooltip, toolbar_mouse_event);\n",
       "\n",
       "        var icon_img = $('<span/>');\n",
       "        icon_img.addClass('ui-button-icon-primary ui-icon');\n",
       "        icon_img.addClass(image);\n",
       "        icon_img.addClass('ui-corner-all');\n",
       "\n",
       "        var tooltip_span = $('<span/>');\n",
       "        tooltip_span.addClass('ui-button-text');\n",
       "        tooltip_span.html(tooltip);\n",
       "\n",
       "        button.append(icon_img);\n",
       "        button.append(tooltip_span);\n",
       "\n",
       "        nav_element.append(button);\n",
       "    }\n",
       "\n",
       "    var fmt_picker_span = $('<span/>');\n",
       "\n",
       "    var fmt_picker = $('<select/>');\n",
       "    fmt_picker.addClass('mpl-toolbar-option ui-widget ui-widget-content');\n",
       "    fmt_picker_span.append(fmt_picker);\n",
       "    nav_element.append(fmt_picker_span);\n",
       "    this.format_dropdown = fmt_picker[0];\n",
       "\n",
       "    for (var ind in mpl.extensions) {\n",
       "        var fmt = mpl.extensions[ind];\n",
       "        var option = $(\n",
       "            '<option/>', {selected: fmt === mpl.default_extension}).html(fmt);\n",
       "        fmt_picker.append(option);\n",
       "    }\n",
       "\n",
       "    // Add hover states to the ui-buttons\n",
       "    $( \".ui-button\" ).hover(\n",
       "        function() { $(this).addClass(\"ui-state-hover\");},\n",
       "        function() { $(this).removeClass(\"ui-state-hover\");}\n",
       "    );\n",
       "\n",
       "    var status_bar = $('<span class=\"mpl-message\"/>');\n",
       "    nav_element.append(status_bar);\n",
       "    this.message = status_bar[0];\n",
       "}\n",
       "\n",
       "mpl.figure.prototype.request_resize = function(x_pixels, y_pixels) {\n",
       "    // Request matplotlib to resize the figure. Matplotlib will then trigger a resize in the client,\n",
       "    // which will in turn request a refresh of the image.\n",
       "    this.send_message('resize', {'width': x_pixels, 'height': y_pixels});\n",
       "}\n",
       "\n",
       "mpl.figure.prototype.send_message = function(type, properties) {\n",
       "    properties['type'] = type;\n",
       "    properties['figure_id'] = this.id;\n",
       "    this.ws.send(JSON.stringify(properties));\n",
       "}\n",
       "\n",
       "mpl.figure.prototype.send_draw_message = function() {\n",
       "    if (!this.waiting) {\n",
       "        this.waiting = true;\n",
       "        this.ws.send(JSON.stringify({type: \"draw\", figure_id: this.id}));\n",
       "    }\n",
       "}\n",
       "\n",
       "\n",
       "mpl.figure.prototype.handle_save = function(fig, msg) {\n",
       "    var format_dropdown = fig.format_dropdown;\n",
       "    var format = format_dropdown.options[format_dropdown.selectedIndex].value;\n",
       "    fig.ondownload(fig, format);\n",
       "}\n",
       "\n",
       "\n",
       "mpl.figure.prototype.handle_resize = function(fig, msg) {\n",
       "    var size = msg['size'];\n",
       "    if (size[0] != fig.canvas.width || size[1] != fig.canvas.height) {\n",
       "        fig._resize_canvas(size[0], size[1]);\n",
       "        fig.send_message(\"refresh\", {});\n",
       "    };\n",
       "}\n",
       "\n",
       "mpl.figure.prototype.handle_rubberband = function(fig, msg) {\n",
       "    var x0 = msg['x0'] / mpl.ratio;\n",
       "    var y0 = (fig.canvas.height - msg['y0']) / mpl.ratio;\n",
       "    var x1 = msg['x1'] / mpl.ratio;\n",
       "    var y1 = (fig.canvas.height - msg['y1']) / mpl.ratio;\n",
       "    x0 = Math.floor(x0) + 0.5;\n",
       "    y0 = Math.floor(y0) + 0.5;\n",
       "    x1 = Math.floor(x1) + 0.5;\n",
       "    y1 = Math.floor(y1) + 0.5;\n",
       "    var min_x = Math.min(x0, x1);\n",
       "    var min_y = Math.min(y0, y1);\n",
       "    var width = Math.abs(x1 - x0);\n",
       "    var height = Math.abs(y1 - y0);\n",
       "\n",
       "    fig.rubberband_context.clearRect(\n",
       "        0, 0, fig.canvas.width / mpl.ratio, fig.canvas.height / mpl.ratio);\n",
       "\n",
       "    fig.rubberband_context.strokeRect(min_x, min_y, width, height);\n",
       "}\n",
       "\n",
       "mpl.figure.prototype.handle_figure_label = function(fig, msg) {\n",
       "    // Updates the figure title.\n",
       "    fig.header.textContent = msg['label'];\n",
       "}\n",
       "\n",
       "mpl.figure.prototype.handle_cursor = function(fig, msg) {\n",
       "    var cursor = msg['cursor'];\n",
       "    switch(cursor)\n",
       "    {\n",
       "    case 0:\n",
       "        cursor = 'pointer';\n",
       "        break;\n",
       "    case 1:\n",
       "        cursor = 'default';\n",
       "        break;\n",
       "    case 2:\n",
       "        cursor = 'crosshair';\n",
       "        break;\n",
       "    case 3:\n",
       "        cursor = 'move';\n",
       "        break;\n",
       "    }\n",
       "    fig.rubberband_canvas.style.cursor = cursor;\n",
       "}\n",
       "\n",
       "mpl.figure.prototype.handle_message = function(fig, msg) {\n",
       "    fig.message.textContent = msg['message'];\n",
       "}\n",
       "\n",
       "mpl.figure.prototype.handle_draw = function(fig, msg) {\n",
       "    // Request the server to send over a new figure.\n",
       "    fig.send_draw_message();\n",
       "}\n",
       "\n",
       "mpl.figure.prototype.handle_image_mode = function(fig, msg) {\n",
       "    fig.image_mode = msg['mode'];\n",
       "}\n",
       "\n",
       "mpl.figure.prototype.updated_canvas_event = function() {\n",
       "    // Called whenever the canvas gets updated.\n",
       "    this.send_message(\"ack\", {});\n",
       "}\n",
       "\n",
       "// A function to construct a web socket function for onmessage handling.\n",
       "// Called in the figure constructor.\n",
       "mpl.figure.prototype._make_on_message_function = function(fig) {\n",
       "    return function socket_on_message(evt) {\n",
       "        if (evt.data instanceof Blob) {\n",
       "            /* FIXME: We get \"Resource interpreted as Image but\n",
       "             * transferred with MIME type text/plain:\" errors on\n",
       "             * Chrome.  But how to set the MIME type?  It doesn't seem\n",
       "             * to be part of the websocket stream */\n",
       "            evt.data.type = \"image/png\";\n",
       "\n",
       "            /* Free the memory for the previous frames */\n",
       "            if (fig.imageObj.src) {\n",
       "                (window.URL || window.webkitURL).revokeObjectURL(\n",
       "                    fig.imageObj.src);\n",
       "            }\n",
       "\n",
       "            fig.imageObj.src = (window.URL || window.webkitURL).createObjectURL(\n",
       "                evt.data);\n",
       "            fig.updated_canvas_event();\n",
       "            fig.waiting = false;\n",
       "            return;\n",
       "        }\n",
       "        else if (typeof evt.data === 'string' && evt.data.slice(0, 21) == \"data:image/png;base64\") {\n",
       "            fig.imageObj.src = evt.data;\n",
       "            fig.updated_canvas_event();\n",
       "            fig.waiting = false;\n",
       "            return;\n",
       "        }\n",
       "\n",
       "        var msg = JSON.parse(evt.data);\n",
       "        var msg_type = msg['type'];\n",
       "\n",
       "        // Call the  \"handle_{type}\" callback, which takes\n",
       "        // the figure and JSON message as its only arguments.\n",
       "        try {\n",
       "            var callback = fig[\"handle_\" + msg_type];\n",
       "        } catch (e) {\n",
       "            console.log(\"No handler for the '\" + msg_type + \"' message type: \", msg);\n",
       "            return;\n",
       "        }\n",
       "\n",
       "        if (callback) {\n",
       "            try {\n",
       "                // console.log(\"Handling '\" + msg_type + \"' message: \", msg);\n",
       "                callback(fig, msg);\n",
       "            } catch (e) {\n",
       "                console.log(\"Exception inside the 'handler_\" + msg_type + \"' callback:\", e, e.stack, msg);\n",
       "            }\n",
       "        }\n",
       "    };\n",
       "}\n",
       "\n",
       "// from http://stackoverflow.com/questions/1114465/getting-mouse-location-in-canvas\n",
       "mpl.findpos = function(e) {\n",
       "    //this section is from http://www.quirksmode.org/js/events_properties.html\n",
       "    var targ;\n",
       "    if (!e)\n",
       "        e = window.event;\n",
       "    if (e.target)\n",
       "        targ = e.target;\n",
       "    else if (e.srcElement)\n",
       "        targ = e.srcElement;\n",
       "    if (targ.nodeType == 3) // defeat Safari bug\n",
       "        targ = targ.parentNode;\n",
       "\n",
       "    // jQuery normalizes the pageX and pageY\n",
       "    // pageX,Y are the mouse positions relative to the document\n",
       "    // offset() returns the position of the element relative to the document\n",
       "    var x = e.pageX - $(targ).offset().left;\n",
       "    var y = e.pageY - $(targ).offset().top;\n",
       "\n",
       "    return {\"x\": x, \"y\": y};\n",
       "};\n",
       "\n",
       "/*\n",
       " * return a copy of an object with only non-object keys\n",
       " * we need this to avoid circular references\n",
       " * http://stackoverflow.com/a/24161582/3208463\n",
       " */\n",
       "function simpleKeys (original) {\n",
       "  return Object.keys(original).reduce(function (obj, key) {\n",
       "    if (typeof original[key] !== 'object')\n",
       "        obj[key] = original[key]\n",
       "    return obj;\n",
       "  }, {});\n",
       "}\n",
       "\n",
       "mpl.figure.prototype.mouse_event = function(event, name) {\n",
       "    var canvas_pos = mpl.findpos(event)\n",
       "\n",
       "    if (name === 'button_press')\n",
       "    {\n",
       "        this.canvas.focus();\n",
       "        this.canvas_div.focus();\n",
       "    }\n",
       "\n",
       "    var x = canvas_pos.x * mpl.ratio;\n",
       "    var y = canvas_pos.y * mpl.ratio;\n",
       "\n",
       "    this.send_message(name, {x: x, y: y, button: event.button,\n",
       "                             step: event.step,\n",
       "                             guiEvent: simpleKeys(event)});\n",
       "\n",
       "    /* This prevents the web browser from automatically changing to\n",
       "     * the text insertion cursor when the button is pressed.  We want\n",
       "     * to control all of the cursor setting manually through the\n",
       "     * 'cursor' event from matplotlib */\n",
       "    event.preventDefault();\n",
       "    return false;\n",
       "}\n",
       "\n",
       "mpl.figure.prototype._key_event_extra = function(event, name) {\n",
       "    // Handle any extra behaviour associated with a key event\n",
       "}\n",
       "\n",
       "mpl.figure.prototype.key_event = function(event, name) {\n",
       "\n",
       "    // Prevent repeat events\n",
       "    if (name == 'key_press')\n",
       "    {\n",
       "        if (event.which === this._key)\n",
       "            return;\n",
       "        else\n",
       "            this._key = event.which;\n",
       "    }\n",
       "    if (name == 'key_release')\n",
       "        this._key = null;\n",
       "\n",
       "    var value = '';\n",
       "    if (event.ctrlKey && event.which != 17)\n",
       "        value += \"ctrl+\";\n",
       "    if (event.altKey && event.which != 18)\n",
       "        value += \"alt+\";\n",
       "    if (event.shiftKey && event.which != 16)\n",
       "        value += \"shift+\";\n",
       "\n",
       "    value += 'k';\n",
       "    value += event.which.toString();\n",
       "\n",
       "    this._key_event_extra(event, name);\n",
       "\n",
       "    this.send_message(name, {key: value,\n",
       "                             guiEvent: simpleKeys(event)});\n",
       "    return false;\n",
       "}\n",
       "\n",
       "mpl.figure.prototype.toolbar_button_onclick = function(name) {\n",
       "    if (name == 'download') {\n",
       "        this.handle_save(this, null);\n",
       "    } else {\n",
       "        this.send_message(\"toolbar_button\", {name: name});\n",
       "    }\n",
       "};\n",
       "\n",
       "mpl.figure.prototype.toolbar_button_onmouseover = function(tooltip) {\n",
       "    this.message.textContent = tooltip;\n",
       "};\n",
       "mpl.toolbar_items = [[\"Home\", \"Reset original view\", \"fa fa-home icon-home\", \"home\"], [\"Back\", \"Back to previous view\", \"fa fa-arrow-left icon-arrow-left\", \"back\"], [\"Forward\", \"Forward to next view\", \"fa fa-arrow-right icon-arrow-right\", \"forward\"], [\"\", \"\", \"\", \"\"], [\"Pan\", \"Pan axes with left mouse, zoom with right\", \"fa fa-arrows icon-move\", \"pan\"], [\"Zoom\", \"Zoom to rectangle\", \"fa fa-square-o icon-check-empty\", \"zoom\"], [\"\", \"\", \"\", \"\"], [\"Download\", \"Download plot\", \"fa fa-floppy-o icon-save\", \"download\"]];\n",
       "\n",
       "mpl.extensions = [\"eps\", \"jpeg\", \"pdf\", \"png\", \"ps\", \"raw\", \"svg\", \"tif\"];\n",
       "\n",
       "mpl.default_extension = \"png\";var comm_websocket_adapter = function(comm) {\n",
       "    // Create a \"websocket\"-like object which calls the given IPython comm\n",
       "    // object with the appropriate methods. Currently this is a non binary\n",
       "    // socket, so there is still some room for performance tuning.\n",
       "    var ws = {};\n",
       "\n",
       "    ws.close = function() {\n",
       "        comm.close()\n",
       "    };\n",
       "    ws.send = function(m) {\n",
       "        //console.log('sending', m);\n",
       "        comm.send(m);\n",
       "    };\n",
       "    // Register the callback with on_msg.\n",
       "    comm.on_msg(function(msg) {\n",
       "        //console.log('receiving', msg['content']['data'], msg);\n",
       "        // Pass the mpl event to the overridden (by mpl) onmessage function.\n",
       "        ws.onmessage(msg['content']['data'])\n",
       "    });\n",
       "    return ws;\n",
       "}\n",
       "\n",
       "mpl.mpl_figure_comm = function(comm, msg) {\n",
       "    // This is the function which gets called when the mpl process\n",
       "    // starts-up an IPython Comm through the \"matplotlib\" channel.\n",
       "\n",
       "    var id = msg.content.data.id;\n",
       "    // Get hold of the div created by the display call when the Comm\n",
       "    // socket was opened in Python.\n",
       "    var element = $(\"#\" + id);\n",
       "    var ws_proxy = comm_websocket_adapter(comm)\n",
       "\n",
       "    function ondownload(figure, format) {\n",
       "        window.open(figure.imageObj.src);\n",
       "    }\n",
       "\n",
       "    var fig = new mpl.figure(id, ws_proxy,\n",
       "                           ondownload,\n",
       "                           element.get(0));\n",
       "\n",
       "    // Call onopen now - mpl needs it, as it is assuming we've passed it a real\n",
       "    // web socket which is closed, not our websocket->open comm proxy.\n",
       "    ws_proxy.onopen();\n",
       "\n",
       "    fig.parent_element = element.get(0);\n",
       "    fig.cell_info = mpl.find_output_cell(\"<div id='\" + id + \"'></div>\");\n",
       "    if (!fig.cell_info) {\n",
       "        console.error(\"Failed to find cell for figure\", id, fig);\n",
       "        return;\n",
       "    }\n",
       "\n",
       "    var output_index = fig.cell_info[2]\n",
       "    var cell = fig.cell_info[0];\n",
       "\n",
       "};\n",
       "\n",
       "mpl.figure.prototype.handle_close = function(fig, msg) {\n",
       "    var width = fig.canvas.width/mpl.ratio\n",
       "    fig.root.unbind('remove')\n",
       "\n",
       "    // Update the output cell to use the data from the current canvas.\n",
       "    fig.push_to_output();\n",
       "    var dataURL = fig.canvas.toDataURL();\n",
       "    // Re-enable the keyboard manager in IPython - without this line, in FF,\n",
       "    // the notebook keyboard shortcuts fail.\n",
       "    IPython.keyboard_manager.enable()\n",
       "    $(fig.parent_element).html('<img src=\"' + dataURL + '\" width=\"' + width + '\">');\n",
       "    fig.close_ws(fig, msg);\n",
       "}\n",
       "\n",
       "mpl.figure.prototype.close_ws = function(fig, msg){\n",
       "    fig.send_message('closing', msg);\n",
       "    // fig.ws.close()\n",
       "}\n",
       "\n",
       "mpl.figure.prototype.push_to_output = function(remove_interactive) {\n",
       "    // Turn the data on the canvas into data in the output cell.\n",
       "    var width = this.canvas.width/mpl.ratio\n",
       "    var dataURL = this.canvas.toDataURL();\n",
       "    this.cell_info[1]['text/html'] = '<img src=\"' + dataURL + '\" width=\"' + width + '\">';\n",
       "}\n",
       "\n",
       "mpl.figure.prototype.updated_canvas_event = function() {\n",
       "    // Tell IPython that the notebook contents must change.\n",
       "    IPython.notebook.set_dirty(true);\n",
       "    this.send_message(\"ack\", {});\n",
       "    var fig = this;\n",
       "    // Wait a second, then push the new image to the DOM so\n",
       "    // that it is saved nicely (might be nice to debounce this).\n",
       "    setTimeout(function () { fig.push_to_output() }, 1000);\n",
       "}\n",
       "\n",
       "mpl.figure.prototype._init_toolbar = function() {\n",
       "    var fig = this;\n",
       "\n",
       "    var nav_element = $('<div/>');\n",
       "    nav_element.attr('style', 'width: 100%');\n",
       "    this.root.append(nav_element);\n",
       "\n",
       "    // Define a callback function for later on.\n",
       "    function toolbar_event(event) {\n",
       "        return fig.toolbar_button_onclick(event['data']);\n",
       "    }\n",
       "    function toolbar_mouse_event(event) {\n",
       "        return fig.toolbar_button_onmouseover(event['data']);\n",
       "    }\n",
       "\n",
       "    for(var toolbar_ind in mpl.toolbar_items){\n",
       "        var name = mpl.toolbar_items[toolbar_ind][0];\n",
       "        var tooltip = mpl.toolbar_items[toolbar_ind][1];\n",
       "        var image = mpl.toolbar_items[toolbar_ind][2];\n",
       "        var method_name = mpl.toolbar_items[toolbar_ind][3];\n",
       "\n",
       "        if (!name) { continue; };\n",
       "\n",
       "        var button = $('<button class=\"btn btn-default\" href=\"#\" title=\"' + name + '\"><i class=\"fa ' + image + ' fa-lg\"></i></button>');\n",
       "        button.click(method_name, toolbar_event);\n",
       "        button.mouseover(tooltip, toolbar_mouse_event);\n",
       "        nav_element.append(button);\n",
       "    }\n",
       "\n",
       "    // Add the status bar.\n",
       "    var status_bar = $('<span class=\"mpl-message\" style=\"text-align:right; float: right;\"/>');\n",
       "    nav_element.append(status_bar);\n",
       "    this.message = status_bar[0];\n",
       "\n",
       "    // Add the close button to the window.\n",
       "    var buttongrp = $('<div class=\"btn-group inline pull-right\"></div>');\n",
       "    var button = $('<button class=\"btn btn-mini btn-primary\" href=\"#\" title=\"Stop Interaction\"><i class=\"fa fa-power-off icon-remove icon-large\"></i></button>');\n",
       "    button.click(function (evt) { fig.handle_close(fig, {}); } );\n",
       "    button.mouseover('Stop Interaction', toolbar_mouse_event);\n",
       "    buttongrp.append(button);\n",
       "    var titlebar = this.root.find($('.ui-dialog-titlebar'));\n",
       "    titlebar.prepend(buttongrp);\n",
       "}\n",
       "\n",
       "mpl.figure.prototype._root_extra_style = function(el){\n",
       "    var fig = this\n",
       "    el.on(\"remove\", function(){\n",
       "\tfig.close_ws(fig, {});\n",
       "    });\n",
       "}\n",
       "\n",
       "mpl.figure.prototype._canvas_extra_style = function(el){\n",
       "    // this is important to make the div 'focusable\n",
       "    el.attr('tabindex', 0)\n",
       "    // reach out to IPython and tell the keyboard manager to turn it's self\n",
       "    // off when our div gets focus\n",
       "\n",
       "    // location in version 3\n",
       "    if (IPython.notebook.keyboard_manager) {\n",
       "        IPython.notebook.keyboard_manager.register_events(el);\n",
       "    }\n",
       "    else {\n",
       "        // location in version 2\n",
       "        IPython.keyboard_manager.register_events(el);\n",
       "    }\n",
       "\n",
       "}\n",
       "\n",
       "mpl.figure.prototype._key_event_extra = function(event, name) {\n",
       "    var manager = IPython.notebook.keyboard_manager;\n",
       "    if (!manager)\n",
       "        manager = IPython.keyboard_manager;\n",
       "\n",
       "    // Check for shift+enter\n",
       "    if (event.shiftKey && event.which == 13) {\n",
       "        this.canvas_div.blur();\n",
       "        // select the cell after this one\n",
       "        var index = IPython.notebook.find_cell_index(this.cell_info[0]);\n",
       "        IPython.notebook.select(index + 1);\n",
       "    }\n",
       "}\n",
       "\n",
       "mpl.figure.prototype.handle_save = function(fig, msg) {\n",
       "    fig.ondownload(fig, null);\n",
       "}\n",
       "\n",
       "\n",
       "mpl.find_output_cell = function(html_output) {\n",
       "    // Return the cell and output element which can be found *uniquely* in the notebook.\n",
       "    // Note - this is a bit hacky, but it is done because the \"notebook_saving.Notebook\"\n",
       "    // IPython event is triggered only after the cells have been serialised, which for\n",
       "    // our purposes (turning an active figure into a static one), is too late.\n",
       "    var cells = IPython.notebook.get_cells();\n",
       "    var ncells = cells.length;\n",
       "    for (var i=0; i<ncells; i++) {\n",
       "        var cell = cells[i];\n",
       "        if (cell.cell_type === 'code'){\n",
       "            for (var j=0; j<cell.output_area.outputs.length; j++) {\n",
       "                var data = cell.output_area.outputs[j];\n",
       "                if (data.data) {\n",
       "                    // IPython >= 3 moved mimebundle to data attribute of output\n",
       "                    data = data.data;\n",
       "                }\n",
       "                if (data['text/html'] == html_output) {\n",
       "                    return [cell, data, j];\n",
       "                }\n",
       "            }\n",
       "        }\n",
       "    }\n",
       "}\n",
       "\n",
       "// Register the function which deals with the matplotlib target/channel.\n",
       "// The kernel may be null if the page has been refreshed.\n",
       "if (IPython.notebook.kernel != null) {\n",
       "    IPython.notebook.kernel.comm_manager.register_target('matplotlib', mpl.mpl_figure_comm);\n",
       "}\n"
      ],
      "text/plain": [
       "<IPython.core.display.Javascript object>"
      ]
     },
     "metadata": {},
     "output_type": "display_data"
    },
    {
     "data": {
      "text/html": [
       "<img src=\"data:image/png;base64,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\" width=\"1000\">"
      ],
      "text/plain": [
       "<IPython.core.display.HTML object>"
      ]
     },
     "metadata": {},
     "output_type": "display_data"
    }
   ],
   "source": [
    "ax, tax, lax, lines = dual_train_plots()\n",
    "fig = ax.figure\n",
    "plt.tight_layout()\n",
    "# This gets built up during the run - do not rerun this cell\n",
    "results = pd.DataFrame([], columns=Results._fields)"
   ]
  },
  {
   "cell_type": "code",
   "execution_count": null,
   "metadata": {
    "scrolled": false
   },
   "outputs": [
    {
     "name": "stdout",
     "output_type": "stream",
     "text": [
      "for model:  All_CNN6Layer_G(\n",
      "  (conv1): Conv1d(1, 20, kernel_size=(25,), stride=(1,), padding=(12,))\n",
      "  (conv2): Conv1d(20, 12, kernel_size=(15,), stride=(1,), padding=(7,))\n",
      "  (conv3): Conv1d(12, 8, kernel_size=(15,), stride=(1,), padding=(7,))\n",
      "  (conv4): Conv1d(8, 6, kernel_size=(15,), stride=(1,), padding=(7,))\n",
      "  (conv5): Conv1d(6, 1, kernel_size=(5,), stride=(1,), padding=(2,))\n",
      "  (finalFilter): Conv1d(1, 1, kernel_size=(91,), stride=(1,), padding=(45,))\n",
      "  (conv1dropout): Dropout(p=0.15, inplace=False)\n",
      "  (conv2dropout): Dropout(p=0.15, inplace=False)\n",
      "  (conv3dropout): Dropout(p=0.15, inplace=False)\n",
      "  (conv4dropout): Dropout(p=0.15, inplace=False)\n",
      "  (conv5dropout): Dropout(p=0.15, inplace=False)\n",
      ")\n",
      "epoch_start 1420\n",
      "batch_size 128\n",
      "epochs 200\n",
      "lr 0.001\n",
      "Number of batches: train = 1250, val = 78\n"
     ]
    },
    {
     "name": "stderr",
     "output_type": "stream",
     "text": [
      "/home/michael24peters/pv-finder_experimental/notebooks/model/training.py:95: TqdmDeprecationWarning: This function will be removed in tqdm==5.0.0\n",
      "Please use `tqdm.notebook.tqdm` instead of `tqdm.tqdm_notebook`\n",
      "  file=sys.stderr,\n"
     ]
    },
    {
     "data": {
      "application/vnd.jupyter.widget-view+json": {
       "model_id": "577e2e33dedc417f9da017ceddece4bd",
       "version_major": 2,
       "version_minor": 0
      },
      "text/plain": [
       "HBox(children=(FloatProgress(value=0.0, description='Epochs', layout=Layout(flex='2'), max=200.0, style=Progre…"
      ]
     },
     "metadata": {},
     "output_type": "display_data"
    },
    {
     "data": {
      "application/vnd.jupyter.widget-view+json": {
       "model_id": "",
       "version_major": 2,
       "version_minor": 0
      },
      "text/plain": [
       "HBox(children=(FloatProgress(value=0.0, description='Training', layout=Layout(flex='2'), max=1250.0, style=Pro…"
      ]
     },
     "metadata": {},
     "output_type": "display_data"
    },
    {
     "name": "stdout",
     "output_type": "stream",
     "text": [
      "Epoch 1420: train=6.55835, val=6.77456, took 30.222 s\n",
      "  Validation Found 50854 of 54504, added 1588 (eff 93.30%) (0.159 FP/event)\n"
     ]
    },
    {
     "data": {
      "application/vnd.jupyter.widget-view+json": {
       "model_id": "",
       "version_major": 2,
       "version_minor": 0
      },
      "text/plain": [
       "HBox(children=(FloatProgress(value=0.0, description='Training', layout=Layout(flex='2'), max=1250.0, style=Pro…"
      ]
     },
     "metadata": {},
     "output_type": "display_data"
    },
    {
     "name": "stdout",
     "output_type": "stream",
     "text": [
      "Epoch 1421: train=6.55052, val=6.73786, took 29.861 s\n",
      "  Validation Found 50744 of 54504, added 1424 (eff 93.10%) (0.143 FP/event)\n"
     ]
    },
    {
     "data": {
      "application/vnd.jupyter.widget-view+json": {
       "model_id": "",
       "version_major": 2,
       "version_minor": 0
      },
      "text/plain": [
       "HBox(children=(FloatProgress(value=0.0, description='Training', layout=Layout(flex='2'), max=1250.0, style=Pro…"
      ]
     },
     "metadata": {},
     "output_type": "display_data"
    },
    {
     "name": "stdout",
     "output_type": "stream",
     "text": [
      "Epoch 1422: train=6.5688, val=6.74614, took 29.778 s\n",
      "  Validation Found 50640 of 54504, added 1361 (eff 92.91%) (0.136 FP/event)\n"
     ]
    },
    {
     "data": {
      "application/vnd.jupyter.widget-view+json": {
       "model_id": "",
       "version_major": 2,
       "version_minor": 0
      },
      "text/plain": [
       "HBox(children=(FloatProgress(value=0.0, description='Training', layout=Layout(flex='2'), max=1250.0, style=Pro…"
      ]
     },
     "metadata": {},
     "output_type": "display_data"
    },
    {
     "name": "stdout",
     "output_type": "stream",
     "text": [
      "Epoch 1423: train=6.54303, val=6.65563, took 30.062 s\n",
      "  Validation Found 50896 of 54504, added 1550 (eff 93.38%) (0.155 FP/event)\n"
     ]
    },
    {
     "data": {
      "application/vnd.jupyter.widget-view+json": {
       "model_id": "",
       "version_major": 2,
       "version_minor": 0
      },
      "text/plain": [
       "HBox(children=(FloatProgress(value=0.0, description='Training', layout=Layout(flex='2'), max=1250.0, style=Pro…"
      ]
     },
     "metadata": {},
     "output_type": "display_data"
    },
    {
     "name": "stdout",
     "output_type": "stream",
     "text": [
      "Epoch 1424: train=6.56615, val=6.78984, took 30.115 s\n",
      "  Validation Found 50654 of 54504, added 1339 (eff 92.94%) (0.134 FP/event)\n"
     ]
    },
    {
     "data": {
      "application/vnd.jupyter.widget-view+json": {
       "model_id": "",
       "version_major": 2,
       "version_minor": 0
      },
      "text/plain": [
       "HBox(children=(FloatProgress(value=0.0, description='Training', layout=Layout(flex='2'), max=1250.0, style=Pro…"
      ]
     },
     "metadata": {},
     "output_type": "display_data"
    },
    {
     "name": "stdout",
     "output_type": "stream",
     "text": [
      "Epoch 1425: train=6.55299, val=6.78187, took 30.132 s\n",
      "  Validation Found 50676 of 54504, added 1342 (eff 92.98%) (0.134 FP/event)\n"
     ]
    },
    {
     "data": {
      "application/vnd.jupyter.widget-view+json": {
       "model_id": "",
       "version_major": 2,
       "version_minor": 0
      },
      "text/plain": [
       "HBox(children=(FloatProgress(value=0.0, description='Training', layout=Layout(flex='2'), max=1250.0, style=Pro…"
      ]
     },
     "metadata": {},
     "output_type": "display_data"
    },
    {
     "name": "stdout",
     "output_type": "stream",
     "text": [
      "Epoch 1426: train=6.5611, val=6.75236, took 30.173 s\n",
      "  Validation Found 50748 of 54504, added 1483 (eff 93.11%) (0.149 FP/event)\n"
     ]
    },
    {
     "data": {
      "application/vnd.jupyter.widget-view+json": {
       "model_id": "",
       "version_major": 2,
       "version_minor": 0
      },
      "text/plain": [
       "HBox(children=(FloatProgress(value=0.0, description='Training', layout=Layout(flex='2'), max=1250.0, style=Pro…"
      ]
     },
     "metadata": {},
     "output_type": "display_data"
    },
    {
     "name": "stdout",
     "output_type": "stream",
     "text": [
      "Epoch 1427: train=6.55302, val=6.67634, took 30.132 s\n",
      "  Validation Found 50814 of 54504, added 1513 (eff 93.23%) (0.152 FP/event)\n"
     ]
    },
    {
     "data": {
      "application/vnd.jupyter.widget-view+json": {
       "model_id": "",
       "version_major": 2,
       "version_minor": 0
      },
      "text/plain": [
       "HBox(children=(FloatProgress(value=0.0, description='Training', layout=Layout(flex='2'), max=1250.0, style=Pro…"
      ]
     },
     "metadata": {},
     "output_type": "display_data"
    },
    {
     "name": "stdout",
     "output_type": "stream",
     "text": [
      "Epoch 1428: train=6.57633, val=6.76836, took 30.142 s\n",
      "  Validation Found 50760 of 54504, added 1443 (eff 93.13%) (0.145 FP/event)\n"
     ]
    },
    {
     "data": {
      "application/vnd.jupyter.widget-view+json": {
       "model_id": "",
       "version_major": 2,
       "version_minor": 0
      },
      "text/plain": [
       "HBox(children=(FloatProgress(value=0.0, description='Training', layout=Layout(flex='2'), max=1250.0, style=Pro…"
      ]
     },
     "metadata": {},
     "output_type": "display_data"
    },
    {
     "name": "stdout",
     "output_type": "stream",
     "text": [
      "Epoch 1429: train=6.551, val=6.82301, took 29.868 s\n",
      "  Validation Found 50615 of 54504, added 1345 (eff 92.86%) (0.135 FP/event)\n"
     ]
    },
    {
     "data": {
      "application/vnd.jupyter.widget-view+json": {
       "model_id": "",
       "version_major": 2,
       "version_minor": 0
      },
      "text/plain": [
       "HBox(children=(FloatProgress(value=0.0, description='Training', layout=Layout(flex='2'), max=1250.0, style=Pro…"
      ]
     },
     "metadata": {},
     "output_type": "display_data"
    },
    {
     "name": "stdout",
     "output_type": "stream",
     "text": [
      "Epoch 1430: train=6.55143, val=6.75114, took 29.798 s\n",
      "  Validation Found 50719 of 54504, added 1393 (eff 93.06%) (0.14 FP/event)\n"
     ]
    },
    {
     "data": {
      "application/vnd.jupyter.widget-view+json": {
       "model_id": "",
       "version_major": 2,
       "version_minor": 0
      },
      "text/plain": [
       "HBox(children=(FloatProgress(value=0.0, description='Training', layout=Layout(flex='2'), max=1250.0, style=Pro…"
      ]
     },
     "metadata": {},
     "output_type": "display_data"
    },
    {
     "name": "stdout",
     "output_type": "stream",
     "text": [
      "Epoch 1431: train=6.56155, val=6.75292, took 30.421 s\n",
      "  Validation Found 50644 of 54504, added 1379 (eff 92.92%) (0.138 FP/event)\n"
     ]
    },
    {
     "data": {
      "application/vnd.jupyter.widget-view+json": {
       "model_id": "",
       "version_major": 2,
       "version_minor": 0
      },
      "text/plain": [
       "HBox(children=(FloatProgress(value=0.0, description='Training', layout=Layout(flex='2'), max=1250.0, style=Pro…"
      ]
     },
     "metadata": {},
     "output_type": "display_data"
    },
    {
     "name": "stdout",
     "output_type": "stream",
     "text": [
      "Epoch 1432: train=6.54667, val=6.68973, took 30.051 s\n",
      "  Validation Found 50790 of 54504, added 1462 (eff 93.19%) (0.146 FP/event)\n"
     ]
    },
    {
     "data": {
      "application/vnd.jupyter.widget-view+json": {
       "model_id": "",
       "version_major": 2,
       "version_minor": 0
      },
      "text/plain": [
       "HBox(children=(FloatProgress(value=0.0, description='Training', layout=Layout(flex='2'), max=1250.0, style=Pro…"
      ]
     },
     "metadata": {},
     "output_type": "display_data"
    },
    {
     "name": "stdout",
     "output_type": "stream",
     "text": [
      "Epoch 1433: train=6.55242, val=6.77695, took 30.067 s\n",
      "  Validation Found 50664 of 54504, added 1338 (eff 92.95%) (0.134 FP/event)\n"
     ]
    },
    {
     "data": {
      "application/vnd.jupyter.widget-view+json": {
       "model_id": "",
       "version_major": 2,
       "version_minor": 0
      },
      "text/plain": [
       "HBox(children=(FloatProgress(value=0.0, description='Training', layout=Layout(flex='2'), max=1250.0, style=Pro…"
      ]
     },
     "metadata": {},
     "output_type": "display_data"
    },
    {
     "name": "stdout",
     "output_type": "stream",
     "text": [
      "Epoch 1434: train=6.54141, val=6.7794, took 30.129 s\n",
      "  Validation Found 50513 of 54504, added 1212 (eff 92.68%) (0.121 FP/event)\n"
     ]
    },
    {
     "data": {
      "application/vnd.jupyter.widget-view+json": {
       "model_id": "",
       "version_major": 2,
       "version_minor": 0
      },
      "text/plain": [
       "HBox(children=(FloatProgress(value=0.0, description='Training', layout=Layout(flex='2'), max=1250.0, style=Pro…"
      ]
     },
     "metadata": {},
     "output_type": "display_data"
    },
    {
     "name": "stdout",
     "output_type": "stream",
     "text": [
      "Epoch 1435: train=6.54916, val=6.80342, took 30.06 s\n",
      "  Validation Found 50526 of 54504, added 1363 (eff 92.70%) (0.137 FP/event)\n"
     ]
    },
    {
     "data": {
      "application/vnd.jupyter.widget-view+json": {
       "model_id": "",
       "version_major": 2,
       "version_minor": 0
      },
      "text/plain": [
       "HBox(children=(FloatProgress(value=0.0, description='Training', layout=Layout(flex='2'), max=1250.0, style=Pro…"
      ]
     },
     "metadata": {},
     "output_type": "display_data"
    },
    {
     "name": "stdout",
     "output_type": "stream",
     "text": [
      "Epoch 1436: train=6.55439, val=6.72312, took 30.026 s\n",
      "  Validation Found 50571 of 54504, added 1279 (eff 92.78%) (0.128 FP/event)\n"
     ]
    },
    {
     "data": {
      "application/vnd.jupyter.widget-view+json": {
       "model_id": "",
       "version_major": 2,
       "version_minor": 0
      },
      "text/plain": [
       "HBox(children=(FloatProgress(value=0.0, description='Training', layout=Layout(flex='2'), max=1250.0, style=Pro…"
      ]
     },
     "metadata": {},
     "output_type": "display_data"
    },
    {
     "name": "stdout",
     "output_type": "stream",
     "text": [
      "Epoch 1437: train=6.56285, val=6.82492, took 30.08 s\n",
      "  Validation Found 50918 of 54504, added 1826 (eff 93.42%) (0.183 FP/event)\n"
     ]
    },
    {
     "data": {
      "application/vnd.jupyter.widget-view+json": {
       "model_id": "",
       "version_major": 2,
       "version_minor": 0
      },
      "text/plain": [
       "HBox(children=(FloatProgress(value=0.0, description='Training', layout=Layout(flex='2'), max=1250.0, style=Pro…"
      ]
     },
     "metadata": {},
     "output_type": "display_data"
    },
    {
     "name": "stdout",
     "output_type": "stream",
     "text": [
      "Epoch 1438: train=6.57373, val=6.79318, took 29.787 s\n",
      "  Validation Found 50538 of 54504, added 1270 (eff 92.72%) (0.127 FP/event)\n"
     ]
    },
    {
     "data": {
      "application/vnd.jupyter.widget-view+json": {
       "model_id": "",
       "version_major": 2,
       "version_minor": 0
      },
      "text/plain": [
       "HBox(children=(FloatProgress(value=0.0, description='Training', layout=Layout(flex='2'), max=1250.0, style=Pro…"
      ]
     },
     "metadata": {},
     "output_type": "display_data"
    },
    {
     "name": "stdout",
     "output_type": "stream",
     "text": [
      "Epoch 1439: train=6.55258, val=6.78231, took 29.915 s\n",
      "  Validation Found 50645 of 54504, added 1432 (eff 92.92%) (0.143 FP/event)\n"
     ]
    },
    {
     "data": {
      "application/vnd.jupyter.widget-view+json": {
       "model_id": "",
       "version_major": 2,
       "version_minor": 0
      },
      "text/plain": [
       "HBox(children=(FloatProgress(value=0.0, description='Training', layout=Layout(flex='2'), max=1250.0, style=Pro…"
      ]
     },
     "metadata": {},
     "output_type": "display_data"
    },
    {
     "name": "stdout",
     "output_type": "stream",
     "text": [
      "Epoch 1440: train=6.55094, val=6.71785, took 30.463 s\n",
      "  Validation Found 50785 of 54504, added 1531 (eff 93.18%) (0.153 FP/event)\n"
     ]
    },
    {
     "data": {
      "application/vnd.jupyter.widget-view+json": {
       "model_id": "",
       "version_major": 2,
       "version_minor": 0
      },
      "text/plain": [
       "HBox(children=(FloatProgress(value=0.0, description='Training', layout=Layout(flex='2'), max=1250.0, style=Pro…"
      ]
     },
     "metadata": {},
     "output_type": "display_data"
    },
    {
     "name": "stdout",
     "output_type": "stream",
     "text": [
      "Epoch 1441: train=6.54947, val=6.74082, took 29.993 s\n",
      "  Validation Found 50919 of 54504, added 1689 (eff 93.42%) (0.169 FP/event)\n"
     ]
    },
    {
     "data": {
      "application/vnd.jupyter.widget-view+json": {
       "model_id": "",
       "version_major": 2,
       "version_minor": 0
      },
      "text/plain": [
       "HBox(children=(FloatProgress(value=0.0, description='Training', layout=Layout(flex='2'), max=1250.0, style=Pro…"
      ]
     },
     "metadata": {},
     "output_type": "display_data"
    },
    {
     "name": "stdout",
     "output_type": "stream",
     "text": [
      "Epoch 1442: train=6.55282, val=6.72057, took 30.068 s\n",
      "  Validation Found 50808 of 54504, added 1588 (eff 93.22%) (0.159 FP/event)\n"
     ]
    },
    {
     "data": {
      "application/vnd.jupyter.widget-view+json": {
       "model_id": "",
       "version_major": 2,
       "version_minor": 0
      },
      "text/plain": [
       "HBox(children=(FloatProgress(value=0.0, description='Training', layout=Layout(flex='2'), max=1250.0, style=Pro…"
      ]
     },
     "metadata": {},
     "output_type": "display_data"
    },
    {
     "name": "stdout",
     "output_type": "stream",
     "text": [
      "Epoch 1443: train=6.5513, val=6.66309, took 30.023 s\n",
      "  Validation Found 50873 of 54504, added 1600 (eff 93.34%) (0.16 FP/event)\n"
     ]
    },
    {
     "data": {
      "application/vnd.jupyter.widget-view+json": {
       "model_id": "",
       "version_major": 2,
       "version_minor": 0
      },
      "text/plain": [
       "HBox(children=(FloatProgress(value=0.0, description='Training', layout=Layout(flex='2'), max=1250.0, style=Pro…"
      ]
     },
     "metadata": {},
     "output_type": "display_data"
    },
    {
     "name": "stdout",
     "output_type": "stream",
     "text": [
      "Epoch 1444: train=6.55375, val=6.70475, took 30.096 s\n",
      "  Validation Found 50841 of 54504, added 1507 (eff 93.28%) (0.151 FP/event)\n"
     ]
    },
    {
     "data": {
      "application/vnd.jupyter.widget-view+json": {
       "model_id": "",
       "version_major": 2,
       "version_minor": 0
      },
      "text/plain": [
       "HBox(children=(FloatProgress(value=0.0, description='Training', layout=Layout(flex='2'), max=1250.0, style=Pro…"
      ]
     },
     "metadata": {},
     "output_type": "display_data"
    },
    {
     "name": "stdout",
     "output_type": "stream",
     "text": [
      "Epoch 1445: train=6.57349, val=6.70751, took 30.015 s\n",
      "  Validation Found 50773 of 54504, added 1475 (eff 93.15%) (0.148 FP/event)\n"
     ]
    },
    {
     "data": {
      "application/vnd.jupyter.widget-view+json": {
       "model_id": "",
       "version_major": 2,
       "version_minor": 0
      },
      "text/plain": [
       "HBox(children=(FloatProgress(value=0.0, description='Training', layout=Layout(flex='2'), max=1250.0, style=Pro…"
      ]
     },
     "metadata": {},
     "output_type": "display_data"
    },
    {
     "name": "stdout",
     "output_type": "stream",
     "text": [
      "Epoch 1446: train=6.55039, val=6.71486, took 30.047 s\n",
      "  Validation Found 50723 of 54504, added 1446 (eff 93.06%) (0.145 FP/event)\n"
     ]
    },
    {
     "data": {
      "application/vnd.jupyter.widget-view+json": {
       "model_id": "",
       "version_major": 2,
       "version_minor": 0
      },
      "text/plain": [
       "HBox(children=(FloatProgress(value=0.0, description='Training', layout=Layout(flex='2'), max=1250.0, style=Pro…"
      ]
     },
     "metadata": {},
     "output_type": "display_data"
    },
    {
     "name": "stdout",
     "output_type": "stream",
     "text": [
      "Epoch 1447: train=6.56705, val=6.75125, took 30.077 s\n",
      "  Validation Found 50670 of 54504, added 1481 (eff 92.97%) (0.148 FP/event)\n"
     ]
    },
    {
     "data": {
      "application/vnd.jupyter.widget-view+json": {
       "model_id": "",
       "version_major": 2,
       "version_minor": 0
      },
      "text/plain": [
       "HBox(children=(FloatProgress(value=0.0, description='Training', layout=Layout(flex='2'), max=1250.0, style=Pro…"
      ]
     },
     "metadata": {},
     "output_type": "display_data"
    },
    {
     "name": "stdout",
     "output_type": "stream",
     "text": [
      "Epoch 1448: train=6.54749, val=6.7565, took 29.974 s\n",
      "  Validation Found 51069 of 54504, added 1829 (eff 93.70%) (0.183 FP/event)\n"
     ]
    },
    {
     "data": {
      "application/vnd.jupyter.widget-view+json": {
       "model_id": "",
       "version_major": 2,
       "version_minor": 0
      },
      "text/plain": [
       "HBox(children=(FloatProgress(value=0.0, description='Training', layout=Layout(flex='2'), max=1250.0, style=Pro…"
      ]
     },
     "metadata": {},
     "output_type": "display_data"
    },
    {
     "name": "stdout",
     "output_type": "stream",
     "text": [
      "Epoch 1449: train=6.54921, val=6.71964, took 30.059 s\n",
      "  Validation Found 50727 of 54504, added 1466 (eff 93.07%) (0.147 FP/event)\n"
     ]
    },
    {
     "data": {
      "application/vnd.jupyter.widget-view+json": {
       "model_id": "",
       "version_major": 2,
       "version_minor": 0
      },
      "text/plain": [
       "HBox(children=(FloatProgress(value=0.0, description='Training', layout=Layout(flex='2'), max=1250.0, style=Pro…"
      ]
     },
     "metadata": {},
     "output_type": "display_data"
    },
    {
     "name": "stdout",
     "output_type": "stream",
     "text": [
      "Epoch 1450: train=6.56433, val=6.75692, took 29.973 s\n",
      "  Validation Found 50804 of 54504, added 1482 (eff 93.21%) (0.148 FP/event)\n"
     ]
    },
    {
     "data": {
      "application/vnd.jupyter.widget-view+json": {
       "model_id": "",
       "version_major": 2,
       "version_minor": 0
      },
      "text/plain": [
       "HBox(children=(FloatProgress(value=0.0, description='Training', layout=Layout(flex='2'), max=1250.0, style=Pro…"
      ]
     },
     "metadata": {},
     "output_type": "display_data"
    },
    {
     "name": "stdout",
     "output_type": "stream",
     "text": [
      "Epoch 1451: train=6.54727, val=6.77421, took 30.011 s\n",
      "  Validation Found 50584 of 54504, added 1313 (eff 92.81%) (0.131 FP/event)\n"
     ]
    },
    {
     "data": {
      "application/vnd.jupyter.widget-view+json": {
       "model_id": "",
       "version_major": 2,
       "version_minor": 0
      },
      "text/plain": [
       "HBox(children=(FloatProgress(value=0.0, description='Training', layout=Layout(flex='2'), max=1250.0, style=Pro…"
      ]
     },
     "metadata": {},
     "output_type": "display_data"
    },
    {
     "name": "stdout",
     "output_type": "stream",
     "text": [
      "Epoch 1452: train=6.54728, val=6.70392, took 30.005 s\n",
      "  Validation Found 51025 of 54504, added 1811 (eff 93.62%) (0.181 FP/event)\n"
     ]
    },
    {
     "data": {
      "application/vnd.jupyter.widget-view+json": {
       "model_id": "",
       "version_major": 2,
       "version_minor": 0
      },
      "text/plain": [
       "HBox(children=(FloatProgress(value=0.0, description='Training', layout=Layout(flex='2'), max=1250.0, style=Pro…"
      ]
     },
     "metadata": {},
     "output_type": "display_data"
    },
    {
     "name": "stdout",
     "output_type": "stream",
     "text": [
      "Epoch 1453: train=6.55529, val=6.74042, took 30.069 s\n",
      "  Validation Found 50796 of 54504, added 1492 (eff 93.20%) (0.149 FP/event)\n"
     ]
    },
    {
     "data": {
      "application/vnd.jupyter.widget-view+json": {
       "model_id": "",
       "version_major": 2,
       "version_minor": 0
      },
      "text/plain": [
       "HBox(children=(FloatProgress(value=0.0, description='Training', layout=Layout(flex='2'), max=1250.0, style=Pro…"
      ]
     },
     "metadata": {},
     "output_type": "display_data"
    },
    {
     "name": "stdout",
     "output_type": "stream",
     "text": [
      "Epoch 1454: train=6.55033, val=6.71744, took 29.865 s\n",
      "  Validation Found 50808 of 54504, added 1495 (eff 93.22%) (0.15 FP/event)\n"
     ]
    },
    {
     "data": {
      "application/vnd.jupyter.widget-view+json": {
       "model_id": "",
       "version_major": 2,
       "version_minor": 0
      },
      "text/plain": [
       "HBox(children=(FloatProgress(value=0.0, description='Training', layout=Layout(flex='2'), max=1250.0, style=Pro…"
      ]
     },
     "metadata": {},
     "output_type": "display_data"
    },
    {
     "name": "stdout",
     "output_type": "stream",
     "text": [
      "Epoch 1455: train=6.56077, val=6.76082, took 30.101 s\n",
      "  Validation Found 50689 of 54504, added 1437 (eff 93.00%) (0.144 FP/event)\n"
     ]
    },
    {
     "data": {
      "application/vnd.jupyter.widget-view+json": {
       "model_id": "",
       "version_major": 2,
       "version_minor": 0
      },
      "text/plain": [
       "HBox(children=(FloatProgress(value=0.0, description='Training', layout=Layout(flex='2'), max=1250.0, style=Pro…"
      ]
     },
     "metadata": {},
     "output_type": "display_data"
    },
    {
     "name": "stdout",
     "output_type": "stream",
     "text": [
      "Epoch 1456: train=6.54922, val=6.781, took 30.055 s\n",
      "  Validation Found 50657 of 54504, added 1393 (eff 92.94%) (0.14 FP/event)\n"
     ]
    },
    {
     "data": {
      "application/vnd.jupyter.widget-view+json": {
       "model_id": "",
       "version_major": 2,
       "version_minor": 0
      },
      "text/plain": [
       "HBox(children=(FloatProgress(value=0.0, description='Training', layout=Layout(flex='2'), max=1250.0, style=Pro…"
      ]
     },
     "metadata": {},
     "output_type": "display_data"
    },
    {
     "name": "stdout",
     "output_type": "stream",
     "text": [
      "Epoch 1457: train=6.5517, val=6.73438, took 30.021 s\n",
      "  Validation Found 50736 of 54504, added 1414 (eff 93.09%) (0.142 FP/event)\n"
     ]
    },
    {
     "data": {
      "application/vnd.jupyter.widget-view+json": {
       "model_id": "92c65efb41784574a95efbb899c96c43",
       "version_major": 2,
       "version_minor": 0
      },
      "text/plain": [
       "HBox(children=(FloatProgress(value=0.0, description='Training', layout=Layout(flex='2'), max=1250.0, style=Pro…"
      ]
     },
     "metadata": {},
     "output_type": "display_data"
    }
   ],
   "source": [
    "print('for model: ', model)   \n",
    "run_name = 'ACNN G'\n",
    "# Create an mlflow run\n",
    "with mlflow.start_run(run_name=run_name) as run:\n",
    "    # Log parameters of the model\n",
    "    for key, value in vars(args).items():\n",
    "        print(key, value)\n",
    "        mlflow.log_param(key, value)\n",
    "    \n",
    "    # Log parameter count in the model\n",
    "    mlflow.log_param('Parameters', count_parameters(model))\n",
    "    \n",
    "    # Begin run\n",
    "    for result in trainNet(model, optimizer, loss,\n",
    "                            train_loader, val_loader,\n",
    "                            args.epochs+args.epoch_start, epoch_start=args.epoch_start,\n",
    "                            notebook=True, device=device):\n",
    "\n",
    "        result = result._asdict()\n",
    "        results = results.append(pd.Series(result), ignore_index=True)\n",
    "    \n",
    "        xs = results.index\n",
    "    \n",
    "        # Update the plot above\n",
    "        lines['train'].set_data(results.index,results.cost)\n",
    "        lines['val'].set_data(results.index,results.val)\n",
    "    \n",
    "        #filter first cost epoch (can be really large)\n",
    "        max_cost = max(max(results.cost if len(results.cost)<2 else results.cost[1:]), max(results.val))\n",
    "        min_cost = min(min(results.cost), min(results.val))\n",
    "    \n",
    "        # The plot limits need updating too\n",
    "        ax.set_ylim(min_cost*.9, max_cost*1.1)  \n",
    "        ax.set_xlim(-.5, len(results.cost) - .5)\n",
    "    \n",
    "        replace_in_ax(lax, lines['eff'], xs, results['eff_val'].apply(lambda x: x.eff_rate))\n",
    "        replace_in_ax(tax, lines['fp'], xs, results['eff_val'].apply(lambda x: x.fp_rate))\n",
    "    \n",
    "        # Redraw the figure\n",
    "        fig.canvas.draw()\n",
    "            \n",
    "        ## MLFLOW ##\n",
    "        # Log metrics\n",
    "        mlflow.log_metric('Efficiency', result['eff_val'].eff_rate, result['epoch'])\n",
    "        mlflow.log_metric('False Positive Rate',  result['eff_val'].fp_rate, result['epoch'])\n",
    "        mlflow.log_metric('Validation Loss',  result['val'], result['epoch'])\n",
    "        mlflow.log_metric('Training Loss',  result['cost'], result['epoch'])\n",
    "            \n",
    "        # Log tags\n",
    "#        mlflow.set_tag('Optimizer', 'Adam')\n",
    "#        mlflow.set_tag('Kernel size', 'Mixed')\n",
    "#        mlflow.set_tag('Skip connections', '4')\n",
    "#        mlflow.set_tag('Activation', 'Softplus')\n",
    "#        mlflow.set_tag('Mid Activation', 'Relu')\n",
    "        mlflow.set_tag('Extra Data', 'False')\n",
    "        mlflow.set_tag('Asymmetry', '1.5')\n",
    "\n",
    "        # Save model state dictionary, optimizer state dictionary, and epoch number\n",
    "        torch.save({\n",
    "            'model':model.state_dict(),\n",
    "            'optimizer':optimizer.state_dict(),\n",
    "            'epoch':args.epochs+result['epoch']\n",
    "            }, 'run_stats.pyt')\n",
    "        # Save the run stats into mlflow\n",
    "        mlflow.log_artifact('run_stats.pyt')\n",
    "            \n",
    "        # Save a diagram of the architecture\n",
    "#        HL.transforms.Fold(\"Conv\", \"Conv\"),\n",
    "#        HL.build_graph(model, torch.zeros([args.batch_size, 1, 4000]).to(device)).save('architecture', format='png')\n",
    "#        mlflow.log_artifact('architecture.png')\n",
    "        \n",
    "        # log the code for the model architecture\n",
    "#        mlflow.log_artifact('architecture.txt')\n",
    "        \n",
    "    dual_train_plots(results.index,\n",
    "                 results.cost, results.val, \n",
    "                 results['eff_val'].apply(lambda x: x.eff_rate),\n",
    "                 results['eff_val'].apply(lambda x: x.fp_rate))\n",
    "    # save plot\n",
    "    plt.tight_layout()\n",
    "    plt.savefig('plot.png')\n",
    "    mlflow.log_artifact('plot.png')"
   ]
  },
  {
   "cell_type": "code",
   "execution_count": null,
   "metadata": {},
   "outputs": [],
   "source": [
    "##quit()"
   ]
  }
 ],
 "metadata": {
  "kernelspec": {
   "display_name": "goofit-june2020",
   "language": "python",
   "name": "goofit-june2020"
  },
  "language_info": {
   "codemirror_mode": {
    "name": "ipython",
    "version": 3
   },
   "file_extension": ".py",
   "mimetype": "text/x-python",
   "name": "python",
   "nbconvert_exporter": "python",
   "pygments_lexer": "ipython3",
   "version": "3.7.6"
  }
 },
 "nbformat": 4,
 "nbformat_minor": 2
}
