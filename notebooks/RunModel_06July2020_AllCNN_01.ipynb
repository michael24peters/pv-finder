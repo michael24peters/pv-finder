{
 "cells": [
  {
   "cell_type": "code",
   "execution_count": 1,
   "metadata": {},
   "outputs": [],
   "source": [
    "##%matplotlib widget\n",
    "## with %matplotlib notebook: seems to require ipympl as part of environment, either\n",
    "## part of the conda environment or \"pip install ipympl\"\n",
    "## otherwise, does not show ANY plots in notebook, plt.savefig() works\n",
    "%matplotlib notebook  \n",
    "##%matplotlib inline    ## --plt.savefig()  works, but re-sizing does NOT"
   ]
  },
  {
   "cell_type": "markdown",
   "metadata": {},
   "source": [
    "This notebook is a short demo to illustrate execution.   For odd historical reasons, it uses \"toy Monte Carlo\" (simulated data)for \"training\" and \"full LHCB MC\" for validation.\n",
    "\n",
    "The network architecture is a \"simple\" model that uses 1 input channel (the KDE [kernel density estimator] but from the track parameters) feeding 5 convolutional layers followed by a fully connected layer.\n",
    "\n",
    "In today's version, the network will start with weights from a previously trained version.\n",
    " "
   ]
  },
  {
   "cell_type": "markdown",
   "metadata": {},
   "source": [
    "Check the current GPU usage. Please try to be nice!"
   ]
  },
  {
   "cell_type": "code",
   "execution_count": 2,
   "metadata": {
    "scrolled": true
   },
   "outputs": [
    {
     "name": "stdout",
     "output_type": "stream",
     "text": [
      "Tue Jul 21 17:54:53 2020       \n",
      "+-----------------------------------------------------------------------------+\n",
      "| NVIDIA-SMI 440.64.00    Driver Version: 440.64.00    CUDA Version: 10.2     |\n",
      "|-------------------------------+----------------------+----------------------+\n",
      "| GPU  Name        Persistence-M| Bus-Id        Disp.A | Volatile Uncorr. ECC |\n",
      "| Fan  Temp  Perf  Pwr:Usage/Cap|         Memory-Usage | GPU-Util  Compute M. |\n",
      "|===============================+======================+======================|\n",
      "|   0  TITAN V             Off  | 00000000:03:00.0 Off |                  N/A |\n",
      "| 26%   33C    P0    31W / 250W |      0MiB / 12066MiB |      0%      Default |\n",
      "+-------------------------------+----------------------+----------------------+\n",
      "|   1  Tesla P100-PCIE...  Off  | 00000000:83:00.0 Off |                    0 |\n",
      "| N/A   79C    P0   130W / 250W |   1913MiB / 16280MiB |     95%      Default |\n",
      "+-------------------------------+----------------------+----------------------+\n",
      "|   2  TITAN V             Off  | 00000000:84:00.0 Off |                  N/A |\n",
      "| 28%   36C    P8    25W / 250W |   2275MiB / 12066MiB |      0%      Default |\n",
      "+-------------------------------+----------------------+----------------------+\n",
      "                                                                               \n",
      "+-----------------------------------------------------------------------------+\n",
      "| Processes:                                                       GPU Memory |\n",
      "|  GPU       PID   Type   Process name                             Usage      |\n",
      "|=============================================================================|\n",
      "|    1      7888      C   ...a/conda/envs/goofit-june2020/bin/python  1903MiB |\n",
      "|    2      7894      C   ...a/conda/envs/goofit-june2020/bin/python  2263MiB |\n",
      "+-----------------------------------------------------------------------------+\n"
     ]
    }
   ],
   "source": [
    "!nvidia-smi"
   ]
  },
  {
   "cell_type": "markdown",
   "metadata": {},
   "source": [
    "> **WARNING**: The card numbers here are *not* the same as in CUDA. You have been warned."
   ]
  },
  {
   "cell_type": "markdown",
   "metadata": {},
   "source": [
    "## Imports"
   ]
  },
  {
   "cell_type": "code",
   "execution_count": 3,
   "metadata": {
    "scrolled": false
   },
   "outputs": [],
   "source": [
    "import matplotlib.pyplot as plt\n",
    "import numpy as np\n",
    "import time\n",
    "import torch\n",
    "import pandas as pd\n",
    "import mlflow\n",
    "\n",
    "# Python 3 standard library\n",
    "from pathlib import Path\n",
    "\n",
    "from torchsummary import summary\n",
    "\n",
    "'''\n",
    "HELPER FUNCTIONS\n",
    "'''\n",
    "# From model/collectdata.py\n",
    "from model.collectdata_mdsA import collect_data\n",
    "\n",
    "# From model/loss.py\n",
    "##from loss import Loss\n",
    "from model.alt_loss_A import Loss\n",
    "\n",
    "# From model/training.py\n",
    "from model.training import trainNet, select_gpu, Results\n",
    "\n",
    "# From model/models.py\n",
    "##  will start with model from TwoFeatures_CNN6Layer_A in the first instance\n",
    "##  see relevant cell below\n",
    "\n",
    "from model.models_mjp_07July2020 import All_CNN6Layer_A as ModelA\n",
    "from model.models_mjp_07July2020 import All_CNN6Layer_B as ModelB\n",
    "from model.models_mjp_07July2020 import All_CNN6Layer_C as ModelC\n",
    "from model.models_mjp_07July2020 import All_CNN6Layer_D as ModelD\n",
    "from model.models_mjp_07July2020 import All_CNN6Layer_E as ModelE\n",
    "from model.models_mjp_07July2020 import All_CNN6Layer_F as ModelF\n",
    "\n",
    "# From model/utilities.py\n",
    "from model.utilities import load_full_state, count_parameters, Params\n",
    "\n",
    "from model.plots import dual_train_plots, replace_in_ax\n",
    "\n",
    "## adds image of model architecture\n",
    "import hiddenlayer as HL"
   ]
  },
  {
   "cell_type": "markdown",
   "metadata": {},
   "source": [
    "Set up Torch device configuration. All tensors and model parameters need to know where to be put.\n",
    "This takes a BUS ID number: The BUS ID is the same as the listing at the top of this script."
   ]
  },
  {
   "cell_type": "code",
   "execution_count": 4,
   "metadata": {},
   "outputs": [
    {
     "name": "stdout",
     "output_type": "stream",
     "text": [
      "1 available GPUs (initially using device 0):\n",
      "  0 TITAN V\n"
     ]
    }
   ],
   "source": [
    "device = select_gpu(0)"
   ]
  },
  {
   "cell_type": "markdown",
   "metadata": {},
   "source": [
    "### Set up local parameters"
   ]
  },
  {
   "cell_type": "code",
   "execution_count": 5,
   "metadata": {},
   "outputs": [],
   "source": [
    "# params order - batch size, epochs, lr, epoch_start (which is usually set to 0)\n",
    "args = Params(128, 1000, 1e-3, 1420)"
   ]
  },
  {
   "cell_type": "markdown",
   "metadata": {},
   "source": [
    "## Loading data\n",
    "\n",
    "Load the dataset, split into parts, then move to device (see `collectdata.py` in the `../model` directory)"
   ]
  },
  {
   "cell_type": "code",
   "execution_count": 6,
   "metadata": {
    "scrolled": true
   },
   "outputs": [
    {
     "name": "stdout",
     "output_type": "stream",
     "text": [
      "Loading data...\n",
      "Loaded /share/lazy/sokoloff/ML-data_A/Aug14_80K_train.h5 in 13.91 s\n",
      "Loaded /share/lazy/sokoloff/ML-data_AA/Oct03_80K_train.h5 in 12.35 s\n",
      "Constructing 160000 event dataset took 4.87 s\n",
      "Loading data...\n",
      "Loaded /share/lazy/sokoloff/ML-data_AA/Oct03_20K_val.h5 in 3.027 s\n",
      "Constructing 9984 event dataset took 0.1257 s\n"
     ]
    }
   ],
   "source": [
    "## newer vernacular\n",
    "## Training dataset. You can put as many files here as desired.\n",
    "\n",
    "## in this DEMO example we use only one 80K training set -- the model starts with well-trained weights,\n",
    "## and using a smaller training set reduces both the time to load the data and the time to train an epoch\n",
    "##  set the option load_XandXsq = True to use both DKE and KDE^2 as input features\n",
    "train_loader = collect_data('/share/lazy/sokoloff/ML-data_A/Aug14_80K_train.h5',\n",
    "                             '/share/lazy/sokoloff/ML-data_AA/Oct03_80K_train.h5',\n",
    "#                             '/share/lazy/sokoloff/ML-data_AA/Oct03_40K_train.h5',\n",
    "#                             '/share/lazy/will/ML_mdsA/June30_2020_80k_1.h5',\n",
    "#                             '/share/lazy/will/ML_mdsA/June30_2020_80k_3.h5',\n",
    "#                             '/share/lazy/will/ML_mdsA/June30_2020_80k_4.h5',\n",
    "#                             '/share/lazy/will/ML_mdsA/June30_2020_80k_5.h5',\n",
    "#                             '/share/lazy/will/ML_mdsA/June30_2020_80k_6.h5',\n",
    "#                             '/share/lazy/will/ML_mdsA/June30_2020_80k_7.h5',\n",
    "#                             '/share/lazy/will/ML_mdsA/June30_2020_80k_8.h5',\n",
    "#                             '/share/lazy/will/ML_mdsA/June30_2020_80k_9.h5',\n",
    "                            #'/share/lazy/sokoloff/ML-data_AA/Oct03_80K2_train.h5',\n",
    "                             batch_size=args.batch_size,\n",
    "## if we are using a larger dataset (240K events, with the datasets above, and 11 GB  of GPU memory),\n",
    "## not the dataset will overflow the GPU memory; device=device will allow the data to move back\n",
    "## and forth between the CPU and GPU memory. While this allows use of a larger dataset, it slows\n",
    "## down performance by about 10%.  So comment out when not needed.\n",
    "                            device=device,\n",
    "                            masking=True, shuffle=True,\n",
    "                            load_XandXsq=False,\n",
    "                            load_xy=False)\n",
    "\n",
    "# Validation dataset. You can slice to reduce the size.\n",
    "## dataAA -> /share/lazy/sokoloff/ML-data_AA/\n",
    "val_loader = collect_data('/share/lazy/sokoloff/ML-data_AA/Oct03_20K_val.h5',\n",
    "## mds val_loader = collect_data('dataAA/HLT1CPU_1kevts_val.h5',\n",
    "\n",
    "                          batch_size=args.batch_size,\n",
    "                          slice=slice(256 * 39),\n",
    "                          device=device,\n",
    "                          masking=True, shuffle=False,\n",
    "                          load_XandXsq=False,\n",
    "                          load_xy=False)"
   ]
  },
  {
   "cell_type": "markdown",
   "metadata": {},
   "source": [
    "# Preparing the model"
   ]
  },
  {
   "cell_type": "markdown",
   "metadata": {},
   "source": [
    "Prepare a model, use multiple GPUs if they are VISIBLE, and move the model to the device."
   ]
  },
  {
   "cell_type": "code",
   "execution_count": 7,
   "metadata": {
    "scrolled": true
   },
   "outputs": [
    {
     "name": "stderr",
     "output_type": "stream",
     "text": [
      "WARNING:root:Malformed experiment 'ML'. Detailed error Yaml file '/share/lazy/pv-finder_model_repo/ML/meta.yaml' does not exist.\n",
      "Traceback (most recent call last):\n",
      "  File \"/home/michael24peters/.local/lib/python3.7/site-packages/mlflow/store/tracking/file_store.py\", line 197, in list_experiments\n",
      "    experiment = self._get_experiment(exp_id, view_type)\n",
      "  File \"/home/michael24peters/.local/lib/python3.7/site-packages/mlflow/store/tracking/file_store.py\", line 260, in _get_experiment\n",
      "    meta = read_yaml(experiment_dir, FileStore.META_DATA_FILE_NAME)\n",
      "  File \"/home/michael24peters/.local/lib/python3.7/site-packages/mlflow/utils/file_utils.py\", line 167, in read_yaml\n",
      "    raise MissingConfigException(\"Yaml file '%s' does not exist.\" % file_path)\n",
      "mlflow.exceptions.MissingConfigException: Yaml file '/share/lazy/pv-finder_model_repo/ML/meta.yaml' does not exist.\n"
     ]
    }
   ],
   "source": [
    "model = ModelG()\n",
    "\n",
    "#summary(model.to(device), (1, 4000))\n",
    "\n",
    "mlflow.tracking.set_tracking_uri('file:/share/lazy/pv-finder_model_repo')\n",
    "mlflow.set_experiment('ALLCNN')"
   ]
  },
  {
   "cell_type": "code",
   "execution_count": 8,
   "metadata": {
    "scrolled": true
   },
   "outputs": [
    {
     "name": "stdout",
     "output_type": "stream",
     "text": [
      "Let's use 1 GPUs!\n"
     ]
    }
   ],
   "source": [
    "print(\"Let's use\", torch.cuda.device_count(), \"GPUs!\")\n",
    "if torch.cuda.device_count() > 1:\n",
    "    model = torch.nn.DataParallel(model)"
   ]
  },
  {
   "cell_type": "markdown",
   "metadata": {},
   "source": [
    "Let's move the model's weight matricies to the GPU:"
   ]
  },
  {
   "cell_type": "code",
   "execution_count": 9,
   "metadata": {},
   "outputs": [
    {
     "name": "stdout",
     "output_type": "stream",
     "text": [
      "we also froze 0 weights\n",
      "Of the 6.0 parameter layers to update in the current model, 6.0 were loaded\n"
     ]
    }
   ],
   "source": [
    "##  mds 200121 loss = Loss(epsilon=1e-5,coefficient=1.0)\n",
    "loss = Loss(epsilon=1e-5,coefficient=2.5)\n",
    "optimizer = torch.optim.Adam(model.parameters(), lr=args.lr)\n",
    "\n",
    "##  use the first five layers from a pre-existing model\n",
    "##  see example at https://discuss.pytorch.org/t/how-to-load-part-of-pre-trained-model/1113\n",
    "##   ML -> /share/lazy/sokoloff/ML\n",
    "\n",
    "#path = 'run_stats.pyt'\n",
    "#load_full_state(model, optimizer, path)\n",
    "# For other pretrained models, go to MLFlow and find the path for \"run_stats.pyt\"\n",
    "pretrained_dict = '/share/lazy/pv-finder_model_repo/7/7d6cd2dc9c61451abdbe7fb8591313d3/artifacts/run_stats.pyt'\n",
    "load_full_state(model, optimizer, pretrained_dict)"
   ]
  },
  {
   "cell_type": "markdown",
   "metadata": {},
   "source": [
    "Let's move the model's weight matricies to the GPU:"
   ]
  },
  {
   "cell_type": "code",
   "execution_count": 10,
   "metadata": {
    "scrolled": true
   },
   "outputs": [
    {
     "data": {
      "text/plain": [
       "All_CNN6Layer_F(\n",
       "  (conv1): Conv1d(1, 10, kernel_size=(25,), stride=(1,), padding=(12,))\n",
       "  (conv2): Conv1d(10, 5, kernel_size=(15,), stride=(1,), padding=(7,))\n",
       "  (conv3): Conv1d(5, 5, kernel_size=(15,), stride=(1,), padding=(7,))\n",
       "  (conv4): Conv1d(5, 5, kernel_size=(15,), stride=(1,), padding=(7,))\n",
       "  (conv5): Conv1d(5, 1, kernel_size=(5,), stride=(1,), padding=(2,))\n",
       "  (finalFilter): Conv1d(1, 1, kernel_size=(91,), stride=(1,), padding=(45,))\n",
       "  (conv1dropout): Dropout(p=0.15, inplace=False)\n",
       "  (conv2dropout): Dropout(p=0.15, inplace=False)\n",
       "  (conv3dropout): Dropout(p=0.15, inplace=False)\n",
       "  (conv4dropout): Dropout(p=0.15, inplace=False)\n",
       "  (conv5dropout): Dropout(p=0.15, inplace=False)\n",
       ")"
      ]
     },
     "execution_count": 10,
     "metadata": {},
     "output_type": "execute_result"
    }
   ],
   "source": [
    "model.to(device)"
   ]
  },
  {
   "cell_type": "markdown",
   "metadata": {},
   "source": [
    "## Train \n",
    "\n",
    "\n",
    "\n",
    "The body of this loop runs once per epoch. Results is a named tuple of values (loss per epoch for training and validation, time each). Start by setting up a plot first:"
   ]
  },
  {
   "cell_type": "code",
   "execution_count": 11,
   "metadata": {},
   "outputs": [
    {
     "data": {
      "application/javascript": [
       "/* Put everything inside the global mpl namespace */\n",
       "window.mpl = {};\n",
       "\n",
       "\n",
       "mpl.get_websocket_type = function() {\n",
       "    if (typeof(WebSocket) !== 'undefined') {\n",
       "        return WebSocket;\n",
       "    } else if (typeof(MozWebSocket) !== 'undefined') {\n",
       "        return MozWebSocket;\n",
       "    } else {\n",
       "        alert('Your browser does not have WebSocket support. ' +\n",
       "              'Please try Chrome, Safari or Firefox ≥ 6. ' +\n",
       "              'Firefox 4 and 5 are also supported but you ' +\n",
       "              'have to enable WebSockets in about:config.');\n",
       "    };\n",
       "}\n",
       "\n",
       "mpl.figure = function(figure_id, websocket, ondownload, parent_element) {\n",
       "    this.id = figure_id;\n",
       "\n",
       "    this.ws = websocket;\n",
       "\n",
       "    this.supports_binary = (this.ws.binaryType != undefined);\n",
       "\n",
       "    if (!this.supports_binary) {\n",
       "        var warnings = document.getElementById(\"mpl-warnings\");\n",
       "        if (warnings) {\n",
       "            warnings.style.display = 'block';\n",
       "            warnings.textContent = (\n",
       "                \"This browser does not support binary websocket messages. \" +\n",
       "                    \"Performance may be slow.\");\n",
       "        }\n",
       "    }\n",
       "\n",
       "    this.imageObj = new Image();\n",
       "\n",
       "    this.context = undefined;\n",
       "    this.message = undefined;\n",
       "    this.canvas = undefined;\n",
       "    this.rubberband_canvas = undefined;\n",
       "    this.rubberband_context = undefined;\n",
       "    this.format_dropdown = undefined;\n",
       "\n",
       "    this.image_mode = 'full';\n",
       "\n",
       "    this.root = $('<div/>');\n",
       "    this._root_extra_style(this.root)\n",
       "    this.root.attr('style', 'display: inline-block');\n",
       "\n",
       "    $(parent_element).append(this.root);\n",
       "\n",
       "    this._init_header(this);\n",
       "    this._init_canvas(this);\n",
       "    this._init_toolbar(this);\n",
       "\n",
       "    var fig = this;\n",
       "\n",
       "    this.waiting = false;\n",
       "\n",
       "    this.ws.onopen =  function () {\n",
       "            fig.send_message(\"supports_binary\", {value: fig.supports_binary});\n",
       "            fig.send_message(\"send_image_mode\", {});\n",
       "            if (mpl.ratio != 1) {\n",
       "                fig.send_message(\"set_dpi_ratio\", {'dpi_ratio': mpl.ratio});\n",
       "            }\n",
       "            fig.send_message(\"refresh\", {});\n",
       "        }\n",
       "\n",
       "    this.imageObj.onload = function() {\n",
       "            if (fig.image_mode == 'full') {\n",
       "                // Full images could contain transparency (where diff images\n",
       "                // almost always do), so we need to clear the canvas so that\n",
       "                // there is no ghosting.\n",
       "                fig.context.clearRect(0, 0, fig.canvas.width, fig.canvas.height);\n",
       "            }\n",
       "            fig.context.drawImage(fig.imageObj, 0, 0);\n",
       "        };\n",
       "\n",
       "    this.imageObj.onunload = function() {\n",
       "        fig.ws.close();\n",
       "    }\n",
       "\n",
       "    this.ws.onmessage = this._make_on_message_function(this);\n",
       "\n",
       "    this.ondownload = ondownload;\n",
       "}\n",
       "\n",
       "mpl.figure.prototype._init_header = function() {\n",
       "    var titlebar = $(\n",
       "        '<div class=\"ui-dialog-titlebar ui-widget-header ui-corner-all ' +\n",
       "        'ui-helper-clearfix\"/>');\n",
       "    var titletext = $(\n",
       "        '<div class=\"ui-dialog-title\" style=\"width: 100%; ' +\n",
       "        'text-align: center; padding: 3px;\"/>');\n",
       "    titlebar.append(titletext)\n",
       "    this.root.append(titlebar);\n",
       "    this.header = titletext[0];\n",
       "}\n",
       "\n",
       "\n",
       "\n",
       "mpl.figure.prototype._canvas_extra_style = function(canvas_div) {\n",
       "\n",
       "}\n",
       "\n",
       "\n",
       "mpl.figure.prototype._root_extra_style = function(canvas_div) {\n",
       "\n",
       "}\n",
       "\n",
       "mpl.figure.prototype._init_canvas = function() {\n",
       "    var fig = this;\n",
       "\n",
       "    var canvas_div = $('<div/>');\n",
       "\n",
       "    canvas_div.attr('style', 'position: relative; clear: both; outline: 0');\n",
       "\n",
       "    function canvas_keyboard_event(event) {\n",
       "        return fig.key_event(event, event['data']);\n",
       "    }\n",
       "\n",
       "    canvas_div.keydown('key_press', canvas_keyboard_event);\n",
       "    canvas_div.keyup('key_release', canvas_keyboard_event);\n",
       "    this.canvas_div = canvas_div\n",
       "    this._canvas_extra_style(canvas_div)\n",
       "    this.root.append(canvas_div);\n",
       "\n",
       "    var canvas = $('<canvas/>');\n",
       "    canvas.addClass('mpl-canvas');\n",
       "    canvas.attr('style', \"left: 0; top: 0; z-index: 0; outline: 0\")\n",
       "\n",
       "    this.canvas = canvas[0];\n",
       "    this.context = canvas[0].getContext(\"2d\");\n",
       "\n",
       "    var backingStore = this.context.backingStorePixelRatio ||\n",
       "\tthis.context.webkitBackingStorePixelRatio ||\n",
       "\tthis.context.mozBackingStorePixelRatio ||\n",
       "\tthis.context.msBackingStorePixelRatio ||\n",
       "\tthis.context.oBackingStorePixelRatio ||\n",
       "\tthis.context.backingStorePixelRatio || 1;\n",
       "\n",
       "    mpl.ratio = (window.devicePixelRatio || 1) / backingStore;\n",
       "\n",
       "    var rubberband = $('<canvas/>');\n",
       "    rubberband.attr('style', \"position: absolute; left: 0; top: 0; z-index: 1;\")\n",
       "\n",
       "    var pass_mouse_events = true;\n",
       "\n",
       "    canvas_div.resizable({\n",
       "        start: function(event, ui) {\n",
       "            pass_mouse_events = false;\n",
       "        },\n",
       "        resize: function(event, ui) {\n",
       "            fig.request_resize(ui.size.width, ui.size.height);\n",
       "        },\n",
       "        stop: function(event, ui) {\n",
       "            pass_mouse_events = true;\n",
       "            fig.request_resize(ui.size.width, ui.size.height);\n",
       "        },\n",
       "    });\n",
       "\n",
       "    function mouse_event_fn(event) {\n",
       "        if (pass_mouse_events)\n",
       "            return fig.mouse_event(event, event['data']);\n",
       "    }\n",
       "\n",
       "    rubberband.mousedown('button_press', mouse_event_fn);\n",
       "    rubberband.mouseup('button_release', mouse_event_fn);\n",
       "    // Throttle sequential mouse events to 1 every 20ms.\n",
       "    rubberband.mousemove('motion_notify', mouse_event_fn);\n",
       "\n",
       "    rubberband.mouseenter('figure_enter', mouse_event_fn);\n",
       "    rubberband.mouseleave('figure_leave', mouse_event_fn);\n",
       "\n",
       "    canvas_div.on(\"wheel\", function (event) {\n",
       "        event = event.originalEvent;\n",
       "        event['data'] = 'scroll'\n",
       "        if (event.deltaY < 0) {\n",
       "            event.step = 1;\n",
       "        } else {\n",
       "            event.step = -1;\n",
       "        }\n",
       "        mouse_event_fn(event);\n",
       "    });\n",
       "\n",
       "    canvas_div.append(canvas);\n",
       "    canvas_div.append(rubberband);\n",
       "\n",
       "    this.rubberband = rubberband;\n",
       "    this.rubberband_canvas = rubberband[0];\n",
       "    this.rubberband_context = rubberband[0].getContext(\"2d\");\n",
       "    this.rubberband_context.strokeStyle = \"#000000\";\n",
       "\n",
       "    this._resize_canvas = function(width, height) {\n",
       "        // Keep the size of the canvas, canvas container, and rubber band\n",
       "        // canvas in synch.\n",
       "        canvas_div.css('width', width)\n",
       "        canvas_div.css('height', height)\n",
       "\n",
       "        canvas.attr('width', width * mpl.ratio);\n",
       "        canvas.attr('height', height * mpl.ratio);\n",
       "        canvas.attr('style', 'width: ' + width + 'px; height: ' + height + 'px;');\n",
       "\n",
       "        rubberband.attr('width', width);\n",
       "        rubberband.attr('height', height);\n",
       "    }\n",
       "\n",
       "    // Set the figure to an initial 600x600px, this will subsequently be updated\n",
       "    // upon first draw.\n",
       "    this._resize_canvas(600, 600);\n",
       "\n",
       "    // Disable right mouse context menu.\n",
       "    $(this.rubberband_canvas).bind(\"contextmenu\",function(e){\n",
       "        return false;\n",
       "    });\n",
       "\n",
       "    function set_focus () {\n",
       "        canvas.focus();\n",
       "        canvas_div.focus();\n",
       "    }\n",
       "\n",
       "    window.setTimeout(set_focus, 100);\n",
       "}\n",
       "\n",
       "mpl.figure.prototype._init_toolbar = function() {\n",
       "    var fig = this;\n",
       "\n",
       "    var nav_element = $('<div/>');\n",
       "    nav_element.attr('style', 'width: 100%');\n",
       "    this.root.append(nav_element);\n",
       "\n",
       "    // Define a callback function for later on.\n",
       "    function toolbar_event(event) {\n",
       "        return fig.toolbar_button_onclick(event['data']);\n",
       "    }\n",
       "    function toolbar_mouse_event(event) {\n",
       "        return fig.toolbar_button_onmouseover(event['data']);\n",
       "    }\n",
       "\n",
       "    for(var toolbar_ind in mpl.toolbar_items) {\n",
       "        var name = mpl.toolbar_items[toolbar_ind][0];\n",
       "        var tooltip = mpl.toolbar_items[toolbar_ind][1];\n",
       "        var image = mpl.toolbar_items[toolbar_ind][2];\n",
       "        var method_name = mpl.toolbar_items[toolbar_ind][3];\n",
       "\n",
       "        if (!name) {\n",
       "            // put a spacer in here.\n",
       "            continue;\n",
       "        }\n",
       "        var button = $('<button/>');\n",
       "        button.addClass('ui-button ui-widget ui-state-default ui-corner-all ' +\n",
       "                        'ui-button-icon-only');\n",
       "        button.attr('role', 'button');\n",
       "        button.attr('aria-disabled', 'false');\n",
       "        button.click(method_name, toolbar_event);\n",
       "        button.mouseover(tooltip, toolbar_mouse_event);\n",
       "\n",
       "        var icon_img = $('<span/>');\n",
       "        icon_img.addClass('ui-button-icon-primary ui-icon');\n",
       "        icon_img.addClass(image);\n",
       "        icon_img.addClass('ui-corner-all');\n",
       "\n",
       "        var tooltip_span = $('<span/>');\n",
       "        tooltip_span.addClass('ui-button-text');\n",
       "        tooltip_span.html(tooltip);\n",
       "\n",
       "        button.append(icon_img);\n",
       "        button.append(tooltip_span);\n",
       "\n",
       "        nav_element.append(button);\n",
       "    }\n",
       "\n",
       "    var fmt_picker_span = $('<span/>');\n",
       "\n",
       "    var fmt_picker = $('<select/>');\n",
       "    fmt_picker.addClass('mpl-toolbar-option ui-widget ui-widget-content');\n",
       "    fmt_picker_span.append(fmt_picker);\n",
       "    nav_element.append(fmt_picker_span);\n",
       "    this.format_dropdown = fmt_picker[0];\n",
       "\n",
       "    for (var ind in mpl.extensions) {\n",
       "        var fmt = mpl.extensions[ind];\n",
       "        var option = $(\n",
       "            '<option/>', {selected: fmt === mpl.default_extension}).html(fmt);\n",
       "        fmt_picker.append(option);\n",
       "    }\n",
       "\n",
       "    // Add hover states to the ui-buttons\n",
       "    $( \".ui-button\" ).hover(\n",
       "        function() { $(this).addClass(\"ui-state-hover\");},\n",
       "        function() { $(this).removeClass(\"ui-state-hover\");}\n",
       "    );\n",
       "\n",
       "    var status_bar = $('<span class=\"mpl-message\"/>');\n",
       "    nav_element.append(status_bar);\n",
       "    this.message = status_bar[0];\n",
       "}\n",
       "\n",
       "mpl.figure.prototype.request_resize = function(x_pixels, y_pixels) {\n",
       "    // Request matplotlib to resize the figure. Matplotlib will then trigger a resize in the client,\n",
       "    // which will in turn request a refresh of the image.\n",
       "    this.send_message('resize', {'width': x_pixels, 'height': y_pixels});\n",
       "}\n",
       "\n",
       "mpl.figure.prototype.send_message = function(type, properties) {\n",
       "    properties['type'] = type;\n",
       "    properties['figure_id'] = this.id;\n",
       "    this.ws.send(JSON.stringify(properties));\n",
       "}\n",
       "\n",
       "mpl.figure.prototype.send_draw_message = function() {\n",
       "    if (!this.waiting) {\n",
       "        this.waiting = true;\n",
       "        this.ws.send(JSON.stringify({type: \"draw\", figure_id: this.id}));\n",
       "    }\n",
       "}\n",
       "\n",
       "\n",
       "mpl.figure.prototype.handle_save = function(fig, msg) {\n",
       "    var format_dropdown = fig.format_dropdown;\n",
       "    var format = format_dropdown.options[format_dropdown.selectedIndex].value;\n",
       "    fig.ondownload(fig, format);\n",
       "}\n",
       "\n",
       "\n",
       "mpl.figure.prototype.handle_resize = function(fig, msg) {\n",
       "    var size = msg['size'];\n",
       "    if (size[0] != fig.canvas.width || size[1] != fig.canvas.height) {\n",
       "        fig._resize_canvas(size[0], size[1]);\n",
       "        fig.send_message(\"refresh\", {});\n",
       "    };\n",
       "}\n",
       "\n",
       "mpl.figure.prototype.handle_rubberband = function(fig, msg) {\n",
       "    var x0 = msg['x0'] / mpl.ratio;\n",
       "    var y0 = (fig.canvas.height - msg['y0']) / mpl.ratio;\n",
       "    var x1 = msg['x1'] / mpl.ratio;\n",
       "    var y1 = (fig.canvas.height - msg['y1']) / mpl.ratio;\n",
       "    x0 = Math.floor(x0) + 0.5;\n",
       "    y0 = Math.floor(y0) + 0.5;\n",
       "    x1 = Math.floor(x1) + 0.5;\n",
       "    y1 = Math.floor(y1) + 0.5;\n",
       "    var min_x = Math.min(x0, x1);\n",
       "    var min_y = Math.min(y0, y1);\n",
       "    var width = Math.abs(x1 - x0);\n",
       "    var height = Math.abs(y1 - y0);\n",
       "\n",
       "    fig.rubberband_context.clearRect(\n",
       "        0, 0, fig.canvas.width / mpl.ratio, fig.canvas.height / mpl.ratio);\n",
       "\n",
       "    fig.rubberband_context.strokeRect(min_x, min_y, width, height);\n",
       "}\n",
       "\n",
       "mpl.figure.prototype.handle_figure_label = function(fig, msg) {\n",
       "    // Updates the figure title.\n",
       "    fig.header.textContent = msg['label'];\n",
       "}\n",
       "\n",
       "mpl.figure.prototype.handle_cursor = function(fig, msg) {\n",
       "    var cursor = msg['cursor'];\n",
       "    switch(cursor)\n",
       "    {\n",
       "    case 0:\n",
       "        cursor = 'pointer';\n",
       "        break;\n",
       "    case 1:\n",
       "        cursor = 'default';\n",
       "        break;\n",
       "    case 2:\n",
       "        cursor = 'crosshair';\n",
       "        break;\n",
       "    case 3:\n",
       "        cursor = 'move';\n",
       "        break;\n",
       "    }\n",
       "    fig.rubberband_canvas.style.cursor = cursor;\n",
       "}\n",
       "\n",
       "mpl.figure.prototype.handle_message = function(fig, msg) {\n",
       "    fig.message.textContent = msg['message'];\n",
       "}\n",
       "\n",
       "mpl.figure.prototype.handle_draw = function(fig, msg) {\n",
       "    // Request the server to send over a new figure.\n",
       "    fig.send_draw_message();\n",
       "}\n",
       "\n",
       "mpl.figure.prototype.handle_image_mode = function(fig, msg) {\n",
       "    fig.image_mode = msg['mode'];\n",
       "}\n",
       "\n",
       "mpl.figure.prototype.updated_canvas_event = function() {\n",
       "    // Called whenever the canvas gets updated.\n",
       "    this.send_message(\"ack\", {});\n",
       "}\n",
       "\n",
       "// A function to construct a web socket function for onmessage handling.\n",
       "// Called in the figure constructor.\n",
       "mpl.figure.prototype._make_on_message_function = function(fig) {\n",
       "    return function socket_on_message(evt) {\n",
       "        if (evt.data instanceof Blob) {\n",
       "            /* FIXME: We get \"Resource interpreted as Image but\n",
       "             * transferred with MIME type text/plain:\" errors on\n",
       "             * Chrome.  But how to set the MIME type?  It doesn't seem\n",
       "             * to be part of the websocket stream */\n",
       "            evt.data.type = \"image/png\";\n",
       "\n",
       "            /* Free the memory for the previous frames */\n",
       "            if (fig.imageObj.src) {\n",
       "                (window.URL || window.webkitURL).revokeObjectURL(\n",
       "                    fig.imageObj.src);\n",
       "            }\n",
       "\n",
       "            fig.imageObj.src = (window.URL || window.webkitURL).createObjectURL(\n",
       "                evt.data);\n",
       "            fig.updated_canvas_event();\n",
       "            fig.waiting = false;\n",
       "            return;\n",
       "        }\n",
       "        else if (typeof evt.data === 'string' && evt.data.slice(0, 21) == \"data:image/png;base64\") {\n",
       "            fig.imageObj.src = evt.data;\n",
       "            fig.updated_canvas_event();\n",
       "            fig.waiting = false;\n",
       "            return;\n",
       "        }\n",
       "\n",
       "        var msg = JSON.parse(evt.data);\n",
       "        var msg_type = msg['type'];\n",
       "\n",
       "        // Call the  \"handle_{type}\" callback, which takes\n",
       "        // the figure and JSON message as its only arguments.\n",
       "        try {\n",
       "            var callback = fig[\"handle_\" + msg_type];\n",
       "        } catch (e) {\n",
       "            console.log(\"No handler for the '\" + msg_type + \"' message type: \", msg);\n",
       "            return;\n",
       "        }\n",
       "\n",
       "        if (callback) {\n",
       "            try {\n",
       "                // console.log(\"Handling '\" + msg_type + \"' message: \", msg);\n",
       "                callback(fig, msg);\n",
       "            } catch (e) {\n",
       "                console.log(\"Exception inside the 'handler_\" + msg_type + \"' callback:\", e, e.stack, msg);\n",
       "            }\n",
       "        }\n",
       "    };\n",
       "}\n",
       "\n",
       "// from http://stackoverflow.com/questions/1114465/getting-mouse-location-in-canvas\n",
       "mpl.findpos = function(e) {\n",
       "    //this section is from http://www.quirksmode.org/js/events_properties.html\n",
       "    var targ;\n",
       "    if (!e)\n",
       "        e = window.event;\n",
       "    if (e.target)\n",
       "        targ = e.target;\n",
       "    else if (e.srcElement)\n",
       "        targ = e.srcElement;\n",
       "    if (targ.nodeType == 3) // defeat Safari bug\n",
       "        targ = targ.parentNode;\n",
       "\n",
       "    // jQuery normalizes the pageX and pageY\n",
       "    // pageX,Y are the mouse positions relative to the document\n",
       "    // offset() returns the position of the element relative to the document\n",
       "    var x = e.pageX - $(targ).offset().left;\n",
       "    var y = e.pageY - $(targ).offset().top;\n",
       "\n",
       "    return {\"x\": x, \"y\": y};\n",
       "};\n",
       "\n",
       "/*\n",
       " * return a copy of an object with only non-object keys\n",
       " * we need this to avoid circular references\n",
       " * http://stackoverflow.com/a/24161582/3208463\n",
       " */\n",
       "function simpleKeys (original) {\n",
       "  return Object.keys(original).reduce(function (obj, key) {\n",
       "    if (typeof original[key] !== 'object')\n",
       "        obj[key] = original[key]\n",
       "    return obj;\n",
       "  }, {});\n",
       "}\n",
       "\n",
       "mpl.figure.prototype.mouse_event = function(event, name) {\n",
       "    var canvas_pos = mpl.findpos(event)\n",
       "\n",
       "    if (name === 'button_press')\n",
       "    {\n",
       "        this.canvas.focus();\n",
       "        this.canvas_div.focus();\n",
       "    }\n",
       "\n",
       "    var x = canvas_pos.x * mpl.ratio;\n",
       "    var y = canvas_pos.y * mpl.ratio;\n",
       "\n",
       "    this.send_message(name, {x: x, y: y, button: event.button,\n",
       "                             step: event.step,\n",
       "                             guiEvent: simpleKeys(event)});\n",
       "\n",
       "    /* This prevents the web browser from automatically changing to\n",
       "     * the text insertion cursor when the button is pressed.  We want\n",
       "     * to control all of the cursor setting manually through the\n",
       "     * 'cursor' event from matplotlib */\n",
       "    event.preventDefault();\n",
       "    return false;\n",
       "}\n",
       "\n",
       "mpl.figure.prototype._key_event_extra = function(event, name) {\n",
       "    // Handle any extra behaviour associated with a key event\n",
       "}\n",
       "\n",
       "mpl.figure.prototype.key_event = function(event, name) {\n",
       "\n",
       "    // Prevent repeat events\n",
       "    if (name == 'key_press')\n",
       "    {\n",
       "        if (event.which === this._key)\n",
       "            return;\n",
       "        else\n",
       "            this._key = event.which;\n",
       "    }\n",
       "    if (name == 'key_release')\n",
       "        this._key = null;\n",
       "\n",
       "    var value = '';\n",
       "    if (event.ctrlKey && event.which != 17)\n",
       "        value += \"ctrl+\";\n",
       "    if (event.altKey && event.which != 18)\n",
       "        value += \"alt+\";\n",
       "    if (event.shiftKey && event.which != 16)\n",
       "        value += \"shift+\";\n",
       "\n",
       "    value += 'k';\n",
       "    value += event.which.toString();\n",
       "\n",
       "    this._key_event_extra(event, name);\n",
       "\n",
       "    this.send_message(name, {key: value,\n",
       "                             guiEvent: simpleKeys(event)});\n",
       "    return false;\n",
       "}\n",
       "\n",
       "mpl.figure.prototype.toolbar_button_onclick = function(name) {\n",
       "    if (name == 'download') {\n",
       "        this.handle_save(this, null);\n",
       "    } else {\n",
       "        this.send_message(\"toolbar_button\", {name: name});\n",
       "    }\n",
       "};\n",
       "\n",
       "mpl.figure.prototype.toolbar_button_onmouseover = function(tooltip) {\n",
       "    this.message.textContent = tooltip;\n",
       "};\n",
       "mpl.toolbar_items = [[\"Home\", \"Reset original view\", \"fa fa-home icon-home\", \"home\"], [\"Back\", \"Back to previous view\", \"fa fa-arrow-left icon-arrow-left\", \"back\"], [\"Forward\", \"Forward to next view\", \"fa fa-arrow-right icon-arrow-right\", \"forward\"], [\"\", \"\", \"\", \"\"], [\"Pan\", \"Pan axes with left mouse, zoom with right\", \"fa fa-arrows icon-move\", \"pan\"], [\"Zoom\", \"Zoom to rectangle\", \"fa fa-square-o icon-check-empty\", \"zoom\"], [\"\", \"\", \"\", \"\"], [\"Download\", \"Download plot\", \"fa fa-floppy-o icon-save\", \"download\"]];\n",
       "\n",
       "mpl.extensions = [\"eps\", \"jpeg\", \"pdf\", \"png\", \"ps\", \"raw\", \"svg\", \"tif\"];\n",
       "\n",
       "mpl.default_extension = \"png\";var comm_websocket_adapter = function(comm) {\n",
       "    // Create a \"websocket\"-like object which calls the given IPython comm\n",
       "    // object with the appropriate methods. Currently this is a non binary\n",
       "    // socket, so there is still some room for performance tuning.\n",
       "    var ws = {};\n",
       "\n",
       "    ws.close = function() {\n",
       "        comm.close()\n",
       "    };\n",
       "    ws.send = function(m) {\n",
       "        //console.log('sending', m);\n",
       "        comm.send(m);\n",
       "    };\n",
       "    // Register the callback with on_msg.\n",
       "    comm.on_msg(function(msg) {\n",
       "        //console.log('receiving', msg['content']['data'], msg);\n",
       "        // Pass the mpl event to the overridden (by mpl) onmessage function.\n",
       "        ws.onmessage(msg['content']['data'])\n",
       "    });\n",
       "    return ws;\n",
       "}\n",
       "\n",
       "mpl.mpl_figure_comm = function(comm, msg) {\n",
       "    // This is the function which gets called when the mpl process\n",
       "    // starts-up an IPython Comm through the \"matplotlib\" channel.\n",
       "\n",
       "    var id = msg.content.data.id;\n",
       "    // Get hold of the div created by the display call when the Comm\n",
       "    // socket was opened in Python.\n",
       "    var element = $(\"#\" + id);\n",
       "    var ws_proxy = comm_websocket_adapter(comm)\n",
       "\n",
       "    function ondownload(figure, format) {\n",
       "        window.open(figure.imageObj.src);\n",
       "    }\n",
       "\n",
       "    var fig = new mpl.figure(id, ws_proxy,\n",
       "                           ondownload,\n",
       "                           element.get(0));\n",
       "\n",
       "    // Call onopen now - mpl needs it, as it is assuming we've passed it a real\n",
       "    // web socket which is closed, not our websocket->open comm proxy.\n",
       "    ws_proxy.onopen();\n",
       "\n",
       "    fig.parent_element = element.get(0);\n",
       "    fig.cell_info = mpl.find_output_cell(\"<div id='\" + id + \"'></div>\");\n",
       "    if (!fig.cell_info) {\n",
       "        console.error(\"Failed to find cell for figure\", id, fig);\n",
       "        return;\n",
       "    }\n",
       "\n",
       "    var output_index = fig.cell_info[2]\n",
       "    var cell = fig.cell_info[0];\n",
       "\n",
       "};\n",
       "\n",
       "mpl.figure.prototype.handle_close = function(fig, msg) {\n",
       "    var width = fig.canvas.width/mpl.ratio\n",
       "    fig.root.unbind('remove')\n",
       "\n",
       "    // Update the output cell to use the data from the current canvas.\n",
       "    fig.push_to_output();\n",
       "    var dataURL = fig.canvas.toDataURL();\n",
       "    // Re-enable the keyboard manager in IPython - without this line, in FF,\n",
       "    // the notebook keyboard shortcuts fail.\n",
       "    IPython.keyboard_manager.enable()\n",
       "    $(fig.parent_element).html('<img src=\"' + dataURL + '\" width=\"' + width + '\">');\n",
       "    fig.close_ws(fig, msg);\n",
       "}\n",
       "\n",
       "mpl.figure.prototype.close_ws = function(fig, msg){\n",
       "    fig.send_message('closing', msg);\n",
       "    // fig.ws.close()\n",
       "}\n",
       "\n",
       "mpl.figure.prototype.push_to_output = function(remove_interactive) {\n",
       "    // Turn the data on the canvas into data in the output cell.\n",
       "    var width = this.canvas.width/mpl.ratio\n",
       "    var dataURL = this.canvas.toDataURL();\n",
       "    this.cell_info[1]['text/html'] = '<img src=\"' + dataURL + '\" width=\"' + width + '\">';\n",
       "}\n",
       "\n",
       "mpl.figure.prototype.updated_canvas_event = function() {\n",
       "    // Tell IPython that the notebook contents must change.\n",
       "    IPython.notebook.set_dirty(true);\n",
       "    this.send_message(\"ack\", {});\n",
       "    var fig = this;\n",
       "    // Wait a second, then push the new image to the DOM so\n",
       "    // that it is saved nicely (might be nice to debounce this).\n",
       "    setTimeout(function () { fig.push_to_output() }, 1000);\n",
       "}\n",
       "\n",
       "mpl.figure.prototype._init_toolbar = function() {\n",
       "    var fig = this;\n",
       "\n",
       "    var nav_element = $('<div/>');\n",
       "    nav_element.attr('style', 'width: 100%');\n",
       "    this.root.append(nav_element);\n",
       "\n",
       "    // Define a callback function for later on.\n",
       "    function toolbar_event(event) {\n",
       "        return fig.toolbar_button_onclick(event['data']);\n",
       "    }\n",
       "    function toolbar_mouse_event(event) {\n",
       "        return fig.toolbar_button_onmouseover(event['data']);\n",
       "    }\n",
       "\n",
       "    for(var toolbar_ind in mpl.toolbar_items){\n",
       "        var name = mpl.toolbar_items[toolbar_ind][0];\n",
       "        var tooltip = mpl.toolbar_items[toolbar_ind][1];\n",
       "        var image = mpl.toolbar_items[toolbar_ind][2];\n",
       "        var method_name = mpl.toolbar_items[toolbar_ind][3];\n",
       "\n",
       "        if (!name) { continue; };\n",
       "\n",
       "        var button = $('<button class=\"btn btn-default\" href=\"#\" title=\"' + name + '\"><i class=\"fa ' + image + ' fa-lg\"></i></button>');\n",
       "        button.click(method_name, toolbar_event);\n",
       "        button.mouseover(tooltip, toolbar_mouse_event);\n",
       "        nav_element.append(button);\n",
       "    }\n",
       "\n",
       "    // Add the status bar.\n",
       "    var status_bar = $('<span class=\"mpl-message\" style=\"text-align:right; float: right;\"/>');\n",
       "    nav_element.append(status_bar);\n",
       "    this.message = status_bar[0];\n",
       "\n",
       "    // Add the close button to the window.\n",
       "    var buttongrp = $('<div class=\"btn-group inline pull-right\"></div>');\n",
       "    var button = $('<button class=\"btn btn-mini btn-primary\" href=\"#\" title=\"Stop Interaction\"><i class=\"fa fa-power-off icon-remove icon-large\"></i></button>');\n",
       "    button.click(function (evt) { fig.handle_close(fig, {}); } );\n",
       "    button.mouseover('Stop Interaction', toolbar_mouse_event);\n",
       "    buttongrp.append(button);\n",
       "    var titlebar = this.root.find($('.ui-dialog-titlebar'));\n",
       "    titlebar.prepend(buttongrp);\n",
       "}\n",
       "\n",
       "mpl.figure.prototype._root_extra_style = function(el){\n",
       "    var fig = this\n",
       "    el.on(\"remove\", function(){\n",
       "\tfig.close_ws(fig, {});\n",
       "    });\n",
       "}\n",
       "\n",
       "mpl.figure.prototype._canvas_extra_style = function(el){\n",
       "    // this is important to make the div 'focusable\n",
       "    el.attr('tabindex', 0)\n",
       "    // reach out to IPython and tell the keyboard manager to turn it's self\n",
       "    // off when our div gets focus\n",
       "\n",
       "    // location in version 3\n",
       "    if (IPython.notebook.keyboard_manager) {\n",
       "        IPython.notebook.keyboard_manager.register_events(el);\n",
       "    }\n",
       "    else {\n",
       "        // location in version 2\n",
       "        IPython.keyboard_manager.register_events(el);\n",
       "    }\n",
       "\n",
       "}\n",
       "\n",
       "mpl.figure.prototype._key_event_extra = function(event, name) {\n",
       "    var manager = IPython.notebook.keyboard_manager;\n",
       "    if (!manager)\n",
       "        manager = IPython.keyboard_manager;\n",
       "\n",
       "    // Check for shift+enter\n",
       "    if (event.shiftKey && event.which == 13) {\n",
       "        this.canvas_div.blur();\n",
       "        // select the cell after this one\n",
       "        var index = IPython.notebook.find_cell_index(this.cell_info[0]);\n",
       "        IPython.notebook.select(index + 1);\n",
       "    }\n",
       "}\n",
       "\n",
       "mpl.figure.prototype.handle_save = function(fig, msg) {\n",
       "    fig.ondownload(fig, null);\n",
       "}\n",
       "\n",
       "\n",
       "mpl.find_output_cell = function(html_output) {\n",
       "    // Return the cell and output element which can be found *uniquely* in the notebook.\n",
       "    // Note - this is a bit hacky, but it is done because the \"notebook_saving.Notebook\"\n",
       "    // IPython event is triggered only after the cells have been serialised, which for\n",
       "    // our purposes (turning an active figure into a static one), is too late.\n",
       "    var cells = IPython.notebook.get_cells();\n",
       "    var ncells = cells.length;\n",
       "    for (var i=0; i<ncells; i++) {\n",
       "        var cell = cells[i];\n",
       "        if (cell.cell_type === 'code'){\n",
       "            for (var j=0; j<cell.output_area.outputs.length; j++) {\n",
       "                var data = cell.output_area.outputs[j];\n",
       "                if (data.data) {\n",
       "                    // IPython >= 3 moved mimebundle to data attribute of output\n",
       "                    data = data.data;\n",
       "                }\n",
       "                if (data['text/html'] == html_output) {\n",
       "                    return [cell, data, j];\n",
       "                }\n",
       "            }\n",
       "        }\n",
       "    }\n",
       "}\n",
       "\n",
       "// Register the function which deals with the matplotlib target/channel.\n",
       "// The kernel may be null if the page has been refreshed.\n",
       "if (IPython.notebook.kernel != null) {\n",
       "    IPython.notebook.kernel.comm_manager.register_target('matplotlib', mpl.mpl_figure_comm);\n",
       "}\n"
      ],
      "text/plain": [
       "<IPython.core.display.Javascript object>"
      ]
     },
     "metadata": {},
     "output_type": "display_data"
    },
    {
     "data": {
      "text/html": [
       "<img src=\"data:image/png;base64,iVBORw0KGgoAAAANSUhEUgAAA+gAAAH0CAYAAACuKActAAAgAElEQVR4XuydB5gURfrGX5IgSBCUnBRBCUb+CIIgGFH0QORU8EA5FfMBJgQFRQQVFMFTQUElnKCCKAbMJ1nMeAoiBkBcliAqWcKy/+er2d7tme2Z7p7umumeeft59lF2K/6+b2rq7ar6qkR+fn4++JAACZAACZAACZAACZAACZAACZAACaSVQAkK9LTyZ+UkQAIkQAIkQAIkQAIkQAIkQAIkoAhQoNMRSIAESIAESIAESIAESIAESIAESCAABCjQA2AENoEESIAESIAESIAESIAESIAESIAEKNDpAyRAAiRAAiRAAiRAAiRAAiRAAiQQAAIU6AEwAptAAiRAAiRAAiRAAiRAAiRAAiRAAhTo9AESIAESIAESIAESIAESIAESIAESCAABCvQAGIFNIAESIAESIAESIAESIAESIAESIAEKdPoACZAACZAACZAACZAACZAACZAACQSAAAV6AIzAJpAACZAACZAACZAACZAACZAACZAABTp9gARIgARIgARIgARIgARIgARIgAQCQIACPQBGYBNIgARIgARIgARIgARIgARIgARIgAKdPkACJEACJEACJEACJEACJEACJEACASBAgR4AI7AJJEACJEACJEACJEACJEACJEACJECBbuEDBw8exIYNG1CxYkWUKFGCXkICJEACJJBhBPLz87Fjxw7Url0bJUuWzLDepbc7Bw4cwFdffYUaNWqQbXpNwdpJgARIQAsB0UqbNm3CySefjNKlS2upI5sLpUC3sP6vv/6KevXqZbNfsO8kQAIkkBUE1q9fj7p162ZFX1PVyc8++wynnnpqqqpjPSRAAiRAAmki8Omnn6JVq1Zpqj1zq6VAt7Dttm3bUKVKFcjErVKlSplrffaMBEiABLKUwPbt29WL2D///BOVK1fOUgp6uv3LL7+gQYMGkIlbrVq19FTCUkmABEiABNJGIDc3V72IXbduHerXr5+2dmRqxRToFpaViZtM2ESoU6BnquuzXyRAAtlMgOO8Pusbu9C4O0EfY5ZMAiRAAukkwHFeL30KdAp0vR7G0kmABEgggAQo0PUZhRM3fWxZMgmQAAkEgQDHeb1WoECnQNfrYSydBEiABAJIgAJdn1E4cdPHliWTAAmQQBAIcJzXawUKdAp0vR7G0kmABEgggAQo0PUZhRM3fWxZMgmQAAkEgQDHeb1WoECnQNfrYSydBEJEIC8vD/v37w9Ri9nUeATKlCmDUqVKxQVEga7Pdzhx08eWJZMACegnwLkAYPcdynFerx9SoFOg6/Uwlk4CISAgd2Jv3LhRRfTmkzkE5DaOmjVrokSJEsU6RYGuz86cuOljy5JJgAT0EeBcIJptou9QjvP6/FBKpkCnQNfrYSydBEJAQK4LEXFevXp1lC9f3lLQhaAbbGIBAZlk7d69G5s3b1ZXZlpd9UWBrs9dOHHTx5YlkwAJ6CPAuUCErZPvUI7z+vyQAj0OW07c9DodSyeBIBGQrWyrV69W4rxatWpBahrb4pHA1q1blUhv0qRJse3uHOc9wk2QnRM3fWxZMgmQgB4CnAsU55roO5TjvB4/NErlCroFX07c9DodSyeBIBH466+/sGbNGjRs2BCHHnpokJrGtngksGfPHqxduxZHHXUUypUrF1Uax3mPcCnQ9QFkySRAAiknwLlAceSJvkMp0PW6KAU6BbpeD2PpJBBwAsaXspWIC3jT2TwbAolsS4Guz304cdPHliWTAAnoIcC5QHGuiZhwnNfjh0apFOgU6Ho9jKWTQMAJ8Es52kAdO3bESSedhHHjxgXccvbNo0C3Z6QjBSduOqiyTBIgAZ0EMnkuIEFwe/fujaVLl6ro7BJzx+p3sXwp0HV6XOKyKdAp0NPnfayZBAJAIKxfylaRyc04r7zySkyZMsU14d9//119gVesWNF13qBloEBPj0Uo0NPDnbWSAAkkTyCscwHp8VVXXYWpU6cW6/x5552Hd955B4MGDcJbb72FV199FZUrV1Yxd6x+R4GevP/4nZMCnQLdb59ieSQQKgJ+finnHczHp2t+x+Ydf6F6xXI49aiqKFWy+BVffgCSt9/G89JLL2HYsGH4/vvvC38n5+nli9h45H53Ed7Z9FCgp8faFOjp4c5aSYAEkifg61wgD1i0CMjNBWrVAtq3B0qVSr5tdjlFoG/atAnPP/98VNKyZcvi8MMPR48ePVChQoUoEW/1Owp0O9Kp+zsFOgV66ryNNZFAAAn49aX8zre5GP7GSuRu+6uwl7Uql8O9FzVD5xa1tPZcVsoHDBhQeI+7ERhNhPtTTz2FZcuWYcKECfjb3/6Gm2++GYsWLYKslDdq1AhDhgxBz549C9sXu8Vdguf169cPP/74I2bNmqW+7O+55x71u6A/FOjpsRAFenq4s1YSIIHkCfg1F5gzB+jfH/j116K21K0LjB8PdO+efPsS5RSBLtvWX3vttWLJ5Dt83bp1hb+X3XXz588v9jurHXfc4q7HXk5KpUCnQHfiJ0xDAhlLwI8vZRHnN/znS+THUDLWzif84xStIj2eQJcv5kcffRQnn3wy5E263G06c+ZMnH322ahUqZLa8jZw4EAsWbIErVu3Vq23Eug7duzAiBEjcO6552L27Nm4++67sWLFChx33HGB9gsK9PSYhwI9PdxZKwmQQPIE/JgLiDjv0UPuEY9uR4mCycDs2XpEeiKBvmXLFvTp00d9548fP17dVrNv375ivzPvuDNaT4GevD95zUmBToHu1YeYnwRCTcDqC0iE7J79eY76Jdvazx67AJu277VML9/LNSqVw/u3drDd7n5omVKwO1tuVUk8gS6B3vrLq/wET5cuXdC0aVM88sgjcQV6+/btMX36dPV3YVOzZk0MHz4c119/vSNG6UpEgZ4e8hTo6eHOWkmABJInYD0XAHbvdlZmXh7QrBmQk2OdXkR6nTrAihXOtruXLw8Ywt6uBSLQ//Of/xS7TlTOmQ8dOhTdunVDlSpVouLSWP0uth4KdDvy+v5OgU6Brs+7WDIJhICA1RfQ7n0H0GzYuylv/cr7z0P5Q0q7rjeeQF+8eDHatWtXWF5eXh4eeughyNb3nJwc7N27V/1cfPHFePnll+MK9Jtuugl33HFHYTknnngiLrnkEnXuPcgPBXp6rEOBnh7urJUESCB5AlbfF7t2AYcdlnyZXnLu3AlUqOCsBBHo8p0uR9nMT9WqVSE/FOjOOAYpFQU6BXqQ/JFtIYGUE8hkgf7VV1+pK9OMZ/To0ZAfWVk//vjjVdAYObteunTpwrNrVlvcJY38GI+UKV/49913X8rt5aZCCnQ3tPxLS4HuH0uWRAIkkBoCYRfo8c6gCz0K9NT4kJ+1UKBToPvpTyyLBEJHwOsWd4naftXzn9n2e0rfViqqe6LH7y3usQL9oosuUterPPvss6oZBw8eVNvb5ccILkOBbmtKJrAhQIFOFyEBEggbAa9b3BcuBC64wL7X8+YBHTrYp3O7xZ0C3Z5pmFJQoFOgh8lf2VYS8J2A18Awcgb99If/i43b/ioWJE4aK2fQa1Yuh8WDzrQ9g55s5+JtcY8V6BIQ7pVXXsGLL76oorGPHTtWbW3v1KkTBXqy8JmvGAEKdDoFCZBA2Ah4ngvkAQ0bRs6gxwaJU3OBEoBEc1+zxtkZdDf84l2zJrvjjjjiCK6gu4EZkLQU6BToAXFFNoME0kPA65eytNqI4i7/bw7emu4o7rECXa5W++c//4kPP/wQ5cuXV1el/fLLL9i2bRsFenrcLyNrpUDPSLOyUySQ0QT8mAsYUdzVXMA0GUhFFPepU6cWs8+xxx6LVatWUaCH0HMp0CnQQ+i2bDIJ+EfAjy9lQ6Sn6x50/2hkVklhPoO+cOFCjBkzBl988QVyc3Px6quvqklWomfBggW49dZb1RV4tWvXxp133hkVaX/SpEmYNm0avv32W1VMy5YtMWrUKJx66qmFxUpcAYnQb35q1KiBjRs3OnYOCnTHqJiQBEggIAT8mgtY3YNerx4wbpyeK9Z04mMUd510E5dNgU6Bnj7vY80kEAACfn0pS1dku7ucSd+84y9Ur1hOnTkvVdJYRw9AZ7OsCWEW6G+//ba6n/6UU05REfPtBPqaNWvQokULXHvttbjuuutU3htvvFHdey/55bniiitUVP+2bduq63gkYOCcOXOUoK8j9/8AKvCf3HX/wQcfFHpLqVKlcOSRRzr2Hgp0x6iYkARIICAEfJ0L5AGLFgG5uUCtWkD79v5va08FNgr0VFC2roMCnQI9fd7HmkkgAAT8/FIOQHfYBBOBMAt0syFLlChhK9DlvtvXX38d3333XWFWuaf+66+/xscff2zpF3LtnsQieOKJJ9CnT59CgS4BA5cvX560L1GgJ42OGUmABNJEgHOB4uAp0NPkjBKzID/fKpRB+hoUhJq3b9+OypUrq3OZlSpVCkKT2AYSIAFNBPilrAlsAIrNJoHeoUMHnHzyyRg/fnwheVl1v/TSS7F7926UKVOmmEV27NihovrPmjULF154YaFAl6318h1YtmxZtG7dWm2DP/roox1blALdMSomJAESCAgBzgUo0APiiqoZFOgW1qBAD5KLsi0koJcAv5T18k1n6dkk0Js0aQKJ5DtkyJBC5EuXLlVb2jds2IBass8y5rnpppvw7rvvqjPpsuVdHtlaL4Jeytu0aRMeeOABFWRItsFXq1bN0px79+6F/BhPTk4OmjVrhvXr16OuhC3mQwIkQAIBJ8C5AAV6kFyUAp0CPUj+yLaQQMoJ8Es55chTVmG2CfS+ffti8ODBhXzlHPrpp5+ugszVrFkzirucP3/ooYcwf/58nHDCCXFtsmvXLjRq1EgFnJMAdFaPVWA5SUeBnjJXZ0UkQAIeCXAuQIHu0YV8zU6BToHuq0OxMBIIGwF+KYfNYs7bm00C3c0W90ceeUStjEsguP/7v/+zBXrOOefgmGOOwYQJEyzTcgXdFiETkAAJBJyA8X3RsGFDHHrooQFvbWqat2fPHqxduxZHHXVU4S4ro2YeZdJrAwp0CnS9HsbSSSDgBCjQA24gD83LJoEuQeLeeOMNrFy5spDYDTfcoIK9mYPEyflyEeeytb1Nmza2dEV8ywp6v379MGzYMNv0koATN0eYmIgESCBABCRo5urVq1VcjnjHeQLU3JQ0ZevWrdi8ebM68iS3eZgfjvN6TUCBToGu18NYOgkEnAAFesAN5KF5YRboO3fuxI8//qh6L8Hfxo4di06dOqFq1aqoX7++2souZ73lXnN5jGvW5Io1uWpNRLlEcTdfsybb2ocOHYoZM2aos+nGc9hhh0F+5Ln99ttx0UUXqTpkYiZiXu5X/+abb9CgQQNH1uDEzREmJiIBEggYATkO9OeffyqRXr58ecgNGtn4SPxwiUUi3wFVqlSxjGHCcV6vZ1CgU6Dr9TCWTgIBJ0CBHnADeWhemAW6nA0XQR77XHnllZgyZYoKCCdbDyWd8YiQHjhwoAroVrt2bciquoh045Gtm+vWrStW5r333qvuP5fn8ssvx8KFC/Hbb7+pu89llX3EiBEq6JvThxM3p6SYjgRIIEgERJhu3LhRiXQ+UOJc4pdYvajgOK/XQyjQKdD1ehhLJ4GAE8hmgd6xY0ecdNJJGDdunLKSCLgBAwaon3iPkzu5nZjcr3IS1RVmge6EYVDTcOIWVMuwXSRAAk4IyHb3/fv3O0masWnkas7Ybe3mznKc12t6CnQKdL0extJJIOAEwirQZRuyBHCRQF+xj2xvbtu2Lb744guccsopcS0QK9C3bNmCChUqqK19fgl0WZl97bXX1Flo8yOrFIcffri6a1vXQ4Gui2zicjlxSw931koCJEACqSLAcV4vaQp0CnS9HsbSSSDgBHwV6AfzgHVLgZ2bgMNqAA3aAiWjA6v4hUNEb/fu3dXZ49izwXIG+fPPP8dXX32VsLpYge6kbW5XvuMJdCd1eU1Dge6VYHL5OXFLjhtzkQAJkEBYCHCc12spCnQKdL0extJJIOAEfBPoK18H3hkEbN9Q1ONKtYHODwPN/uY7hQMHDqBu3bqQSN1yhth4JLCLnBm77bbbsGrVKixatAi///67isQ9ZMgQ9OzZszCt3Rb3H374AVdffTU+/fRTHH300Rg/fjzOPfdcvPrqq+jWrZsqR845y7/ly1rqveKKK1S0b9keJ2el5W5u8/P888+r89OxQl+CkPXv318FN5MV/EsuuUQFRjOCl0keORco93o/+uij2LdvnzovLdvzpS6rhwLdd7dzVCAnbo4wMREJkAAJhJYAx3m9pqNAp0DX62EsnQQCTsAXgS7i/OU+APJjelsQAfbSaVpE+p133olZs2bh559/LgziMnXqVEgk759++klF8D777LNRqVIlvPXWWyqA2JIlS9C6dWvVzkQC/eDBgzjxxBNxxBFH4LHHHsP27dvV2XRZlTcLdInyfeaZZ6qgZCKyZfX+1ltvhbRNtuBL1PB33nmncCt+5cqV1R2zZoEuLxUaN26sApINHz5cRY695pprIHd7i8iXRwS61NurVy8l5CXC+WWXXaYEutRJgR6cDxonbsGxBVtCAiRAAjoIcJzXQbWoTAp0CnS9HsbSSSDgBCwFen4+sH+3s5bLtvYnTwV25MZJXwKoVAu48RP77e5lygMurnWRFfKmTZviv//9b2HE7zPOOAN16tRRV2nFPl26dFHpH3nkEVuB/t577+GCCy5QkcJlpV4eEdrnn39+lECPrUPu2X7ppZfUFnt54m1xNwv0SZMmqZX49evXqzPw8sybN09d97VhwwbUqFFDCXSJWC4vHozANZdeeilKliyJF198kQLdmbemJBUnbinBzEpIgARIIG0EOM7rRU+BToGu18NYOgkEnIClQN+3CxhVO/UtH7IBOCQiUJ0+cp+1bD+fPn26Eq+yEi3iWq7oeuihh5RYlvuy9+7dq34uvvhivPzyy7YCXbazy4+szhvPtm3b1LUr5hX02bNnq1VsWdGWu7tl672s2MsquFOBLivusjL/0UcfFatLrg6TlXQR6BLETnYCGI+spMuqvbygsHq4xd2pF/mbjhM3f3myNBIgARIIGgGO83otQoFOga7Xw1g6CQScQNgF+nPPPYebb75Z3d06evRovPDCC0pUy0q2/FvE8/HHH69WpmWLeunSpVVUdXkSbXGXfI8//niUQJdt7rJF3RDoy5YtU2fCZVv6eeedp/4mq9lyRty4R9bJCrpsvf/666+jhLbxMkDu5G7fvr0S6FKm0XZpv/RHosOb7wI3uxsFeno+fJy4pYc7ayUBEiCBVBHgOK+XNAU6BbpeD2PpJBBwAp63uEvU9hd62PfyitmRqO6JHpdb3KUoWbWuVauWEuQjR45U57ElSJtsD69evTqeffZZVaOcKZft7fLjRKAbW9x/+eUXdb5cnnfffRedO3cuFOgixJ966im1cm88cnZcVtUNgT5q1Ch1Fl5Wus1PMlvcKdDt3SwIKThxC4IV2AYSIAES0EeA47w+tlIyBToFul4PY+kkEHACnoPEyRn0cS2A7XIGPTZInBpmAYnmPuAb+zPoSbISUTxnzhzIqrNcu1a/fn0VEO6VV15RK9py37hERJet7bL13YlAF0EvK+8i/kWIy+q5lCl3qxsr6HPnzkWPHj3U9vpWrVqp7eeymp6Xl1co0OUsfL9+/bB48WJ1lr1ixYrq7vPYIHHHHHOMurtdVtxlK7v0SVbOzUHiKNCTdJAUZ+PELcXAWR0JkAAJpJgAx3m9wCnQKdD1ehhLJ4GAE/As0KV/hVHc5R9mka43iruBVq4mE3ErV6DJKrc8crXaP//5T3z44Yfq2jIRybIaLiLeiUCXMlavXl14zVrDhg3VlnfzCrqkkWjtss1ezrdLEDqJxC4i21hBl9/L1WvSDvmd12vWuMU94B8oQF25V69ePRX0zwgwGPxWs4UkQAIkQAJOCXCcd0oquXQU6BToyXkOc5FAhhDwRaAbIr3YPeh1gM4PabliLUPwa+0Gz6BrxRu3cE7c0sOdtZIACZBAqghwnNdLmgKdAl2vh7F0Egg4Ad8EuvRTtrvLmfSdm4DDakTOnJcsFXACmds8CvT02JYTt/RwZ60kQAIkkCoCHOf1kqZAp0DX62EsnQQCTsBXgR7wvmZb8yjQ02NxTtzSw521kgAJkECqCCQ7zktgWQlqm5ubi+bNm6ubZiTejN2zZMkSnHHGGWjRooW6vcX8SLydoUOHqoC1jRo1UgFz5UrZMD8U6BToYfZftp0EPBOgQPeMMLAFUKCnxzTJTtzS01rWSgIkQAIk4JZAMuP8Sy+9hN69e6vbX9q1a4enn34akydPxsqVK1Vw23iPxM455ZRTIMFkN23aFCXQJQaPCPwRI0YoUS5BbOUmGwlM27p1a7fdCkx6CnQK9MA4IxtCAukgQIGeDuqpqZMCPTWcY2tJZuKWnpayVhIgARIggWQIJDPOi2AWoT1hwoTCKuXq127duuHBBx+M24zLL78cjRs3RqlSpVSQW/MK+mWXXaZumXn77bcL80swW7m9Rq54DetDgU6BHlbfZbtJwBcCFOi+YAxkIRTo6TFLMhO39LSUtZIACZAACSRDwO04v2/fPnWjzKxZs6K2n/fv318J7gULFlg2Q25+kRV3WSl/4IEHigl041pZuQbWeB577DG1dX7dunXJdC0QeSjQKdAD4YhsBAmki4Ah4uQasUMPPTRdzWC9Ggjs2bMHa9euxVFHHYVy5cpF1SBv3CtXrqyunatUqZKG2rO3SLcTt+wlxZ6TAAmQQDgJGOO8bE+vU6dOYSfKli0L+Yl9NmzYoNLJWXK5FtZ4Ro0ahalTp+L7778vlueHH37A6aefjkWLFqFJkybqCtfYFfRDDjkEU6ZMQa9evQrzz5gxA3379lXXv4b1oUCnQA+r77LdJOALgby8PHXfd/Xq1VGtWjVfymQhwSCwdetWbN68WX2xy9Y480OBrs9GFOj62LJkEiABEggCAWOcj23Lvffeq4R0PIG+dOlSnHbaaYV/loBu06dPx6pVq6KyyNysTZs2uPrqq3H99derv8UT6CLwe/bsWZj/hRdeUPlkASasDwU6BXpYfZftJgHfCEg00T///FOJdNmCVaJECd/KZkGpJ5Cfn4/du3crcV6lShXUqlWrWCMo0PXZhQJdH1uWTAIZRSAvD1i0CMjNBWSclmjeMS9TM6q/GdQZtyvobre4y5xMzpGbX64fPHgQ8v0uv3vvvfdw5plnquBysr2dW9wzyLnidYUTtywwMrtIAiYCMuBv3LhRiXQ+mUNAxHnNmjUtX7hwnNdnZwp0fWxZMglkDIE5c4D+/YFffy3qUt26wPjxQPfuGdPNTO1IMuO8BIlr2bKlOlNuPM2aNUPXrl2LBYkTMS7b582P5Pvvf/+L2bNnq6NrFSpUgASJ27FjB+bNm1eY9Pzzz1cv5xkkLsO8jxO3DDMou0MCDgnIlqr9+/c7TM1kQSZQpkyZYtvaze3lOK/PeslM3PS1hiWTAAkEjoCI8x49gPz86KYZu9dmz6ZID5zRohuUzDhvXLM2ceJEtc39mWeewaRJk7BixQo0aNAAgwcPRk5ODqZNm2bZe6st7rJlvkOHDurucxH6c+fOxT333MNr1gLuP0k1jxO3pLAxEwmQAAmEhgDHeX2mSmbipq81LJkESCBQBGRbe8OG0Svn5gaKSJeV9DVruN09UIbzLtClBFkFHz16NORoYYsWLSAR10Vgy3PVVVepwK7z5893LNAloayoiyj/+eef0ahRIyXWu4d8FwbPoFu4ACduAR4R2DQSIAES8IEAx3kfIMYpggJdH1uWTAKhJyDiq1Mn+2589BHQsaN9OqZICwGO83qxU6BToOv1MJZOAiRAAgEkQIGuzyicuOljy5JJIPQEZs4ETFdixe3PjBmAKTJ36PudYR3gOK/XoBToFOh6PYylkwAJkEAACVCg6zMKJ2762LJkEgg9Aa6gh96E0gGO83rNSIFOga7Xw1g6CZAACQSQAAW6PqNw4qaPLUsmgdATMM6g5+QUDxInneMZ9FCYmOO8XjNRoFOg6/Uwlk4CJEACASRAga7PKJy46WPLkkkgIwgYUdylM+ZI7oziHhrzcpzXayoKdAp0vR7G0kmABEgggAQo0PUZhRM3fWxZMglkDAGre9Dr1QPGjeMVayEwMsd5vUaiQKdA1+thLJ0ESIAEAkiAAl2fUThx08eWJZNARhGQ7e6lSxd16cABXq0WEgNznNdrKAp0CnS9HsbSSYAESCCABCjQ9RmFEzd9bFkyCWQcAWNbu/z34MGM616mdojjvF7LUqBToOv1MJZOAiRAAgEkQIGuzyicuOljy5JJIOMIUKCH0qQc5/WajQKdAl2vh7F0EiABEgggAQp0fUbhxE0fW5ZMAhlHwBDoJUsCsuWdTygIcJzXayYKdAp0vR7G0kmABEgggAQo0PUZhRM3fWxZMglkHAGuoIfSpBzn9ZqNAp0CXa+HsXQSIAESCCABCnR9RuHETR9blkwCGUeAAj2UJuU4r9dsFOgU6Ho9jKWTAAmQQAAJUKDrMwonbvrYsmQSyDgCFOihNCnHeb1mo0CnQNfrYSydBEiABAJIgAJdn1E4cdPHliWTQMYRoEAPpUk5zus1GwU6BbpeD2PpJEACJBBAAhTo+ozCiZs+tiyZBDKOAAV6KE3KcV6v2SjQKdD1ehhLJwESIIEAEqBA12cUTtz0sWXJAScgUcgXLQJyc4FatYD27YFSpQLe6DQ3jwI9zQZIrnqO88lxc5or4wX6m2++idtuuw0HDx7EoEGDcM0119iy4cTNFhETkAAJkECoCXCc12c+Ttz0sWXJASYwZw7Qvz/w669FjaxbFxg/HujePcANT3PTKNDTbIDkquc4nxw3p7kyWqAfOHAAzZo1w0cffYRKlSrhlFNOwSeffB8g+KsAACAASURBVIKqVasm5MOJm1P3YToSIAESCCcBjvP67MaJmz62LDmgBESc9+gB5OdHN9AQn7NnU6THMx0FekCdOnGzOM7rNVtGC/SlS5dizJgxePXVVxXF/v37o02bNujZsycFul6/YukkQAIkEGgCFOj6zMOJmz62LDmABGRbe8OG0Svn5maKAJWV9DVruN3dynwU6AF0avsmcZy3Z+QlRVICfceOHRg6dKgSvps3b8bJJ5+M8ePHo1WrVl7aEpV34cKFSlx/8cUXyM3NVXV169atWPlPPfWUSidpmjdvjnHjxqG9nPkBMHv2bMyfPx9PPPGE+rekK1GiBG6//XYKdN8sxYJIgARIIHwEKND12YwTN31sWXIACcyfD3TqZN+wjz4COna0T5dtKSjQQ2lxjvN6zZaUQL/sssvw7bffYsKECahduzb+85//4LHHHsPKlStRp06dYi1esmQJTj31VJQpUybqb6tWrUKVKlVQs2bNYnnefvttSD7Zln7JJZdYCvSXXnoJvXv3hoj0du3a4emnn8bkyZNVO+rXr49Zs2ZhwYIFUQK9ZMmS6kx6oocTN71Ox9JJgARIIN0Egj7OO31JbeYo33e33norVqxYob6b77zzTlx//fVRqF955RX1gv2nn35Co0aNMHLkSFx88cVRaRK9+HZiN07cnFBimowhMHMm0KuXfXdmzABsdnDaF5KBKSjQQ2lUjvN6zeZaoO/ZswcVK1bE3Llz0aVLl8LWnXTSSbjwwgvxwAMPRLVYgrOJyG7cuDFefPFFlCqIZrl69WqcccYZGDhwoJpEJHpk1dtqBb1169aqbHlRYDxNmzZVK+0PPvggrLa4S55eNgNp0Cduel2CpZMACZBA5hMI+jjv5CW12Upr1qxBixYtcO211+K6665TL7hvvPFGzJw5U73klufjjz9WO8xGjBihRLl8rw4bNgyLFy+GfDfKY/fi24lncOLmhBLTZAwBrqB7MyUFujd+acrNcV4veNcCXba3S8C1Dz74AGeddVZh60477TSULVtWbSmPfTZs2IAOHTqoCcD06dMhEwkR5yLwZdXb7rES6Pv27UP58uXVKrn57b+cM1++fLlaOZcgcSLYpU1GkLhly5ahWrVqllU++eSTkJ+8vDzIC4Rt27apfHxIgARIgAQyi0DQBbqZdryX1OY0ckvJ66+/ju+++67w17J6/vXXXythLo/sfpN+i/g3ns6dO+Pwww9XQl4euxffTryAEzcnlJgmYwgYZ9BzcooHiZNO8gx6YlNToIfyo8BxXq/ZXAt0aU7btm1xyCGHYMaMGahRo4b6Yu/Tp49aJf/+++8tW/zLL78okS5B2mSy0LFjR0yZMkWdCbd7rCYnIvplO72sEkh7jGfUqFGYOnVqYTtkwiJnzmUlX1bq+/XrZ1edmsBUrlyZAt2WFBOQAAmQQDgJhGmcdyLQ5fvViAdjWERWyC+99FLs3r1bHTGTo1+ya01+jEeOp0nslnXr1sHJi28ra+/duxfyYzw5OTnqBpX169ejrgTH4kMCmU6AUdyTtzAFevLs0piTAl0v/KQEupxd++c//wk5Iydb1mWbeZMmTfDll1+q89/xHkkvK+dHH320EtClS5d21LtEAl22scvqvfHIeTpZpZfz7ck+YZq4JdtH5iMBEiCBbCYQpnHeiUCX7+CrrroKQ4YMKTSrfD9KfBZ5oV2rVi31Yl1ejJuPecmL9r59+yqB7fTFd6zf3HfffRg+fHgxd6JAz+ZPWBb2XUT6DTcAmzcXdb5ePWDcOF6xlsgdzAt1sdfUZaEbhaXLFOh6LZWUQDeatGvXLrXaLF/8snVu586deOuttyxbvGnTJiXOZRLx2WefoUePHvj3v//tqHfJbnF3VLhFojBN3JLtI/ORAAmQQDYTCNM471Sgi9AePHhwoVllh9npp5+ubjmRYKwi0GWHmfmq0RdeeAFXX301/vrrr0KB7vbFN1fQs/mTxL5HEZDjJMauTonaLrcKFcReIqk4BCjQQ+kaFOh6zeZJoBtN++OPP3DUUUdh9OjRllvIf/vtN7WlXbbAy5nxH374Qf1bIrA/8sgjtj1MFCSuZcuWKoq78ci2uq5du6ogcck+YZq4JdtH5iMBEiCBbCYQpnHeiUBP5xb3WD/ixC2bP1lZ3vdPP5VADhEIXA125gzc4u6MU8BScZzXa5CkBPq7776L/Px8HHvssfjxxx9xxx13qABxEgk29io1OfstV6zJWXU5Dydv8OX55ptv0KlTJ9x9991R5+GM7spqvJQtj5yrGzt2rEpftWpVdY5OHiPa7MSJE9U292eeeQaTJk1SV8w0aNAgaXJhmrgl3UlmJAESIIEsJhCmcd6JQJcgcW+88UbUMbMbbrhBBU01B4mTQK/z5s0rtPz555+vrjs1B4nz+uKbE7cs/mBle9cp0N17AAW6e2YByMFxXq8RkhLoL7/8stpGJ8YRwSxXuMjZbwmsZvW8//776mqXcuXKRf1ZJg4SUb2enNGJeSTyugjy2OfKK69UZ+iMR1bPZeVetvDJFTMS8EZWErw8YZq4eekn85IACZBAthII+jhv95JavoMlGNu0adOUCY1r1uSKNblqTUS5RHE3X7MmW9fl+1G+r2WnmVyXes8991hes+blxTcnbtn6qWK/8dlnwKmnRkBwBd2ZQ1CgO+MUsFQc5/UaJCmBrrdJ6S896BO39BNiC0iABEgg3ASCPs7bvaSWgHBr166NutpUrheVCO2yi6x27dqQVXUR6eZn9uzZSpT//PPPaNSokRLr3bt3j0rj9cU3J27h/myw9R4IcAXdPTyeQXfPLAA5OM7rNQIFugXfoE/c9LoESycBEiCBzCfAcV6fjTlx08eWJQecAAW6ewNRoLtnFoAcHOf1GoECnQJdr4exdBIgARIIIAEKdH1G4cRNH1uWHHACFOjuDcQt7u6ZBSAHx3m9RqBAp0DX62EsnQRIgAQCSIACXZ9ROHHTx5YlB5wABbp7A3EF3T2zAOTgOK/XCBToFOh6PYylkwAJkEAACVCg6zMKJ2762LLkgBOgQHdvIAp098wCkIPjvF4jUKBToOv1MJZOAiRAAgEkQIGuzyicuOljy5IDToAC3b2BKNDdMwtADo7zeo1AgU6BrtfDWDoJkAAJBJAABbo+o3Dipo8tSw44AbNAP3gQMIvPgDc9bc2jQE8bei8Vc5z3Qs8+LwU6Bbq9lzAFCZAACWQYAQp0fQblxE0fW5YccAIU6O4NRIHunlkAcnCc12sECnQKdL0extJJgARIIIAEKND1GYUTN31sWXLACZgFel4eULJkwBscgOZRoAfACO6bwHHePTM3OSjQKdDd+AvTkgAJkEBGEKBA12dGTtz0sWXJASdAge7eQBTo7pkFIAfHeb1GoECnQNfrYSydBEiABAJIgAJdn1E4cdPHliUHnAAFunsDUaC7ZxaAHBzn9RqBAp0CXa+HsXQSIAESCCABCnR9RuHETR9blhxwAmaBfuAAUKpUwBscgOZRoAfACO6bwHHePTM3OSjQKdDd+AvTkgAJkEBGEKBA12dGTtz0sWXJASdAge7eQBTo7pkFIAfHeb1GoECnQNfrYSydBEiABAJIgAJdn1E4cdPHliUHnIBZoO/fD5QuHfAGB6B5FOgBMIL7JnCcd8/MTQ4KdAp0N/7CtCRAAiSQEQQo0PWZkRM3fWxZcsAJUKC7NxAFuntmAcjBcV6vESjQKdD1ehhLJwESIIEAEqBA12cUTtz0sWXJASfwySdAmzaRRnIF3ZmxKNCdcQpYKo7zeg1CgU6BrtfDWDoJkAAJBJAABbo+o3Dipo8tSw44AbNA37cPKFMm4A0OQPMo0ANgBPdN4DjvnpmbHBToFOhu/IVpSYAESCAjCFCg6zMjJ2762LLkgBOgQHdvIAp098wCkIPjvF4jUKBToOv1MJZOAiRAAgEkQIGuzyicuOljy5IDTsAs0PfuBQ45JOANDkDzKNADYAT3TeA4756ZmxwU6BTobvyFaUmABEggIwhQoOszIydu+tiy5IATMAeJo0B3ZiwKdGecApaK47xeg1CgU6Dr9TCWTgIkQAIBJECBrs8onLjpY8uSA06AK+juDUSB7p5ZAHJwnNdrBAp0CnS9HsbSSYAESCCABCjQ9RmFEzd9bFlywAmYBfpffwFlywa8wQFoHgV6AIzgvgkc590zc5ODAp0C3Y2/MC0JkAAJZAQBCnR9ZuTETR9blhxwAhTo7g1Ege6eWQBycJzXawQKdAp0vR7G0kmABEgggAQo0PUZhRM3fWxZcsAJmAX6nj1AuXIBb3AAmkeBHgAjuG8Cx3n3zNzkoECnQHfjL0xLAiRAAhlBgAJdnxk5cdPHliUHnAAFunsDUaC7ZxaAHBzn9RqBAp0CXa+HsXQSIAESCCABCnR9RuHETR9blhxwAhTo7g1Ege6eWQBycJzXawQKdAp0vR7G0kmABEgggAQo0PUZhRM3fWxZcsAJmAX67t3AoYcGvMEBaB4FegCM4L4JHOfdM3OTgwKdAt2NvzAtCZAACWQEAQp0fWbkxE0fW5YccAIU6O4NRIHunlkAcnCc12sECnQKdL0extJJgARIIIAEKND1GYUTN31sWXLACZgF+q5dQPnyAW9wAJpHgR4AI7hvAsd598zc5KBAp0B34y9MSwIkQAIZQYACXZ8ZOXHTx5YlB5wABbp7A1Ggu2cWgBwc5/UagQKdAl2vh7F0EiABEgggAQp0fUbhxE0fW5YccAIU6O4NRIHunlkAcnCc12sECnQKdL0extJJgARIIIAEKND1GYUTN31sWXLACZgF+s6dQIUKAW9wAJpHgR4AI7hvAsd598zc5KBAp0B34y9MSwIkQAIZQYACXZ8ZOXHTx5YlB5wABbp7A1Ggu2cWgBwc5/UagQKdAl2vh7F0EiABEgggAQp0fUbhxE0fW5YccAJmgb5jB3DYYQFvcACaR4EeACO4b0Ky4/xTTz2FMWPGIDc3F82bN8e4cePQvn17ywYsXrwYgwYNwqpVq7B79240aNAA1113HQYOHFiYfsqUKejbt2+x/Hv27EG5cuXcdywgOSjQKdAD4opsBgmQAAmkjgAFuj7WyU7c9LWIJZNAighQoLsHTYHunlkAciQzzr/00kvo3bs3RKS3a9cOTz/9NCZPnoyVK1eifv36xXr11VdfKXF+wgknoEKFChDBLgL9scceQ79+/VR6Eej9+/fH999/H5W/Zs2aAaCUfBMo0CnQk/ce5iQBEiCBkBKgQNdnuGQmbvpaw5JJIIUEli0DTjstUiFX0J2Bp0B3xilgqZIZ51u3bo1TTjkFEyZMKOxN06ZN0a1bNzz44IOOeti9e3cl1qdPn14o0AcMGIA///zTUf6wJKJAp0APi6+ynSRAAiTgGwEKdN9QFisomYmbvtY4LDkvD1i0CMjNBWrVAmTLZalSDjMzGQkUEDAL9O3bgYoVicaOAAW6HaFA/t0Y52X1u06dOoVtLFu2LOQn9tm3bx/Kly+PWbNm4eKLLy78s6x+L1++HAsWLLDtp6yon3/++XjggQdwzTXXFAp0+X9pQ15eHk466SSMGDECJ598sm15QU5AgU6BHmT/ZNtIgARIQAsBCnQtWFWhoRPoc+YA/ftLw4ug1K0LjB8PdO+uDxRLzjwCFOjubUqB7p5ZAHIY43xsU+69917cd999xVq4YcMGJaKXLFmCtm3bFv591KhRmDp1arEt6uYC6tatiy1btuDAgQOq7KFDhxb+edmyZfjxxx9x/PHHQ77Xx48fj3nz5uHrr79G48aNA0AquSZQoFOgJ+c5zEUCJEACISZAga7PeKES6CLOe/QA8vOjgRiiYfZsinR9rpJ5JZsF+rZtQKVKmddHv3tEge430ZSU53YF3RDoS5cuxWnGMRAAI0eOVNvV5ax5vGfNmjXYuXMnRIzfddddeOKJJ9CzZ0/L5AcPHlTb6Dt06IDHH388JSx0VEKBToGuw69YJgmQAAkEmgAFuj7zhEagy7b2hg2jV87NWEQ4yEr6mjXc7q7PXTKrZHOQOAp0Z7alQHfGKWCp3I7zfmxxFwSyvV0EfWxQODOea6+9Vu3kevvttwNGzXlzKNAp0J17C1OSAAmQQIYQoEDXZ0i3Ezd9LbEpef58oFMn++o/+gjo2NE+HVOQAFfQ3fsABbp7Zl5z+BBzI5lxXoLEtWzZUkVxN55mzZqha9eujoPEyfnyZ599FmvXrrWkkJ+fj1NPPVVteX/uuee8kkpbfgp0CvS0OR8rJgESIIF0EaBA10c+mYmbvtYkKHnmTKBXL/uqZ8wA4myntM/MFFlFwCzQJap05cpZ1f2kOkuBnhS2pDP5FHMjmXHeuGZt4sSJapv7M888g0mTJmHFihXqjvPBgwcjJycH06ZNU9178skn1fVrxx13nPq3XLMmEdtvueUWtZIuz/Dhw9GmTRt13ly+12Vbu6ywy1l3EephfSjQKdDD6rtsNwmQAAkkTYACPWl0thmTmbjZFqojAVfQdVDN7jIp0N3bnwLdPbNkc/gYcyPZcV5Wz0ePHo3c3Fy0aNFC3Wku58Xlueqqq9TK+HwZmwH8+9//Vnelyxn00qVLo1GjRpDt63IXesmSJVWagQMHYs6cOdi4cSMqV66sordLIDnzOfdkcaUzHwU6BXo6/Y91kwAJkEBaCIRBoMtEZsyYMWoi07x5c4wbNw7t5fqvOI+sNkjwHJngyKrD3XffjT59+hSm7tixo+VVNhdccAHeeustlU4mNrIiYX5q1KihJj9On2Qnbk7L9y2dcQY9J6d4kDiphGfQfUOdNQWZBfoffwBVqmRN15PuKAV60uhcZfQ55kZoxnlXkIKTmAKdAj043siWkAAJkECKCARdoBtbAUWkt2vXTq0iTJ48GXLnrIjv2GfChAkYNGiQ2i7YqlUrfPrpp2qlYcaMGbjoootU8t9//x0SqMd4tm7dihNPPFGVKysXhkCfPXs2Pvjgg8J0pUqVwpFHHunYMqGauBkrStI7cyR3RnF3bG8mNBGgQHfvDhTo7pklk8PnHUOhGueT4ZXmPBToFOhpdkFWTwIkQAKpJxB0gS7BdOSqGBHextO0aVN069bNMpiO3CsrQl5W3I1Hzup9/vnn6tye1SMr8sOGDVMr9BUqVCgU6K+99hqWL1+etFFCN3GzOpNZrx4wbhyvWEvaC7I0IwW6e8NToLtnlkwOn2NuhG6cT4ZZGvNQoFOgp9H9WDUJkAAJpIdAkAV6MtfRSGRc2aouEW6NRwLuPProo9i1axfKlClTDLREuTUC9Rh/lC3uIvLlLF/ZsmUhLwpGjRqFo48+2rGhQjlxk+2fpUtH+njzzRFxXqqU4z4zIQkoAmaB/vvvwOGHE4wdAQp0O0L+/J0r6P5wTFEpFOgU6ClyNVZDAiRAAsEhEGSBvmHDBtSpU0dFoZWVceMRoTx16lTL+1+HDBmC559/Hm+++aZaef/iiy/QpUsXbN68GVJerVq1ouDLFngR35988klUpFu5N3b37t1o0qQJNm3apCLlrlq1SkXZrVatmqUB9+7dC/kxHonCK1fnrF+/HnXlHvGwPIZQGD8e+Ne/wtJqtjNIBCjQ3VuDAt09s2Ry+BxzI5QvYpPhlqY8FOgU6GlyPVZLAiRAAukjEAaBvnTp0qhItCNHjlTXx4hgjn327NmDm266Sf1d7oGVwG7/+Mc/VLRcEdrVq1ePyiJRcKX8b775JqERZPVdIufeeeeduPXWWy3TWgWWk4QU6Onzb9acJgJmgb51K1C1apoaEqJqKdBTZywfY25QoOs1GwU6BbpeD2PpJEACJBBAAkEW6MlscTcQ79+/XwlyWTGXO2YlcNyff/5ZeCWNpJMVcvn7/fffj/79+9ta55xzzsExxxwTdR7enCnjVtBle7sDLrbgmCD7CFCgu7c5Bbp7Zl5y+BRzgwLdixHs81KgU6DbewlTkAAJkECGEQiyQBfUsv1czpVLFHfjkW3jXbt2tQwSZ2WeM844Q22Vl0ju5mfKlCm4/vrrIVvR421bN9KL+JYV9H79+qmAck6e0E7cDKFAge7EzExjRYAC3b1fUKC7Z+Y1hznmhpR14IDrmBuhHee9sktRfgp0CvQUuRqrIQESIIHgEAi6QDeuWZs4cWJhIDe5Qk3Ogjdo0AASAE4E9rRp0xTU1atXq6vVRNj/8ccfGDt2LN5//311Fr1hw4ZR4OUudRHuL774YjGD3H777epaNrnKTc6vyxn0BQsWqK3wUq+TJ7QTNwp0J+ZlmkQEzAL9t9+AOHEbCNFEgAI9Pe7gkXtox/n00HZdKwU6Bbprp2EGEiABEgg7gaALdOErq+dyhlyuQWvRogUee+wxdOjQQaGXe8vXrl2L+RKZF8B3332HXr16qQByErG9U6dOePjhh3HsscdGmUqEvPzuvffeg2xdj30uv/xyLFy4EL/99pu6+7xNmzYqMrys3jt9Qjtxo0B3amKmi0eAAt29b3gUiu4rZA5FwCP30I7zITE/BToFekhclc0kARIgAf8IhEGg+9fb1JYU2okbBXpqHSUTazML9C1bgCOOyMRe+tsnj0LR38ZkUWkeuYd2nA+JiSnQKdBD4qpsJgmQAAn4R4AC3T+WsSWFduJGga7PKbKlZAp095b2KBTdV8gcioBH7qEd50Nifgp0CvSQuCqbSQIkQAL+EaBA948lBbo+liw5ZAQ+/hho2zbSaK6gOzOeR6HorBKmKkbAI3cKdL0+RYFOga7Xw1g6CZAACQSQAAW6PqOEduJmTFgfewwYMEAfIJacuQTMAn3zZuDIIzO3r371zKNQ9KsZWVeOR+6hHedDYmgKdAr0kLgqm0kCJEAC/hGgQPePZWxJoZ24UaDrc4psKZkC3b2lPQpF9xUyhyLgkXtox/mQmJ8CnQI9JK7KZpIACZCAfwQo0P1jSYGujyVLDhkBs0DftAmoXj1kHUhDcz0KxTS0ODOq9MidAl2vG1CgU6Dr9TCWTgIkQAIBJECBrs8ooZ24cQVdn1NkS8kU6O4t7VEouq+QORQBj9xDO86HxPwU6BToIXFVNpMESIAE/CNAge4fy9iSQjtxMyasY8cCAwfqA8SSM5fA0qVAu3aR/nEF3ZmdPQpFZ5UwVTECHrmHdpwPiStQoFOgh8RV2UwSIAES8I8ABbp/LCnQ9bFkySEjYBboGzcCNWqErANpaK5HoZiGFmdGlR65U6DrdQMKdAp0vR7G0kmABEgggAQo0PUZJbQTN66g63OKbCl5yRLg9NMjvaVAd2Z1j0LRWSVMVYyAR+6hHedD4goU6BToIXFVNpMESIAE/CNAge4fy9iSQjtxo0DX5xTZUrJZoOfmAjVrZkvPk++nR6GYfMVZntMj99CO8yExOwU6BXpIXJXNJAESIAH/CFCg+8eSAl0fS5YcMgKLFwPt20caTYHuzHgehaKzSpiqGAGP3CnQ9foUBToFul4PY+kkQAIkEEACFOj6jBLaiRtX0PU5RbaUTIHu3tIehaL7CplDEfDIPbTjfEjMT4FOgR4SV2UzSYAESMA/AhTo/rGMLSm0EzcKdH1OkS0lL1oEdOgQ6e2GDUCtWtnS8+T76VEoJl9xluf0yD2043xIzE6BToEeEldlM1NC4GAesG4psHMTcFgNoEFboGSplFQdykrIK5Rmk0ZToOszXWgnbsaE9dFHgVtv1QeIJWcuAQp097b1KBTdV8gcioBH7qEd50Nifgp0CvSQuCqbqZ3AyteBdwYB2zcUVVWpNtD5YaDZ37RXH7oKyCt0JjM3mAJdn/lCO3GjQNfnFNlS8sKFwBlnRHqbkwPUrp0tPU++nx6FYvIVZ3lOj9xDO86HxOwU6BToIXFVNlMrARGbL/cBkB9TTYnIvy+dRpFuJkNeWt0xFYVToOujHNqJGwW6PqfIlpIp0N1b2qNQdF8hcygCHrmHdpwPifkp0CnQQ+KqbKY2ArJNe1yL6JXzqMpKALKSPuAbbncXLuSlzRVTWTAFuj7aoZ24UaDrc4psKZkC3b2lPQpF9xUyBwV68H2AAp0CPfheyhbqJbBmETD1Qvs6rnwTOKrg+hj71OFJ4fYcebbzCoJl3dqM43xKrUaBnlLcrCxIBBYsADp2jLTo11+BOnWC1LpgtoUCPT128cg9tON8emi7rpUCnRM3107DDBlG4JvZwCtX23fqkmeB43vYpwtTimTOkWczryDYNhmbcZxPqeVCO3EzJqyPPALcdltKmbGyDCFAge7ekB6FovsKmUMR8Mg9tON8SMxPgc6JW0hclc3URiBbV4STPUeerby0OaCLgpO1Gcd5F5C9Jw3txI0C3Zvx8/IAiWKemxu5Xqx9e6BUlt0CMn8+0KlThOP69UDdut6YZkNuj0IxGxBp6aNH7qEd57XA9L9QCnRO3Pz3KpYYLgKFZ6pzLYLEqdesmXcG3cs58mzkFQSP9mIzjvMptWBoJ24U6Mn7yZw5QP/+kW3dxiPidPx4oHv35MsNW04KdPcW8ygU3VfIHIqAR+6hHedDYn4K9EyZuPlwJjMkPstm6iDg48qkjub5XqbXVfBCXtIyc+R7Rr333VZGgV5tFtMwBonTZimEduJGgZ6cU4g479EDyI+5BcTgOXt29oj0jz4CzjwzwpEr6M78yaNQdFYJUxUj4JF7aMf5kLgCBXomCHSfzmSGxGfZTF0ExI9evQ7Yv7uohkp1gM4PZd4Va36cI7f83GUoL10+56ZcP2xmqo8C3Q18d2lDO3GjQHdnaEkt29obNoxeOTeXIkxlJX3NmuzY7m4W6L/8AtSr555ptuXwKBSzDZdv/fXIPbTjvG8A9RZEgR52gZ5tK596Pw8s/bUbgeUvRDhI1PYGbTPzajW/VmNl58r9VSO8mnYF/v58ZvIKwifDL5sV9IUCXZ9RQztxo0B37xTmLd2JcotwNaKbu68lPDn++1/grLMiwjKKEQAAIABJREFU7aVAd2Y3j0LRWSVMVYyAR+6hHedD4goU6GEW6D6fyQyJz7KZOgm8fgvw5bRIDfdt01lTesv28xz5fZUjfWlzE9B5VHr7lcm1+2kzABTo+pwltBM3Y8I6Zgxw++36AGVSyTNnAr162fdoxgygZ0/7dGFPYRbo69YB9euHvUf62+9RKOpvYIbW4JF7aMf5kJiTAj3MAt3nFaWQ+CybqZPA6/8Cvpya+QJdeujXOXJDoJ92M3DeSJ3WYdl+2YwCXasvhXbiRoHu3i+4gh7NLFagyz3o2R7Z3s6rPApFu+L59zgEPHIP7TgfEoegQA+zQPf5TGZIfJbN1Engjf7AF1OyQ6AbIv2dQcD2DUVU3Z67p0DX6ZHFy/bp7D9X0PWZLbQTNwp0905hnEHPySkeJE5Ky7Yz6B9+CJx9doTjxInAAw8wsr2dV3kUinbF8+8U6GH0AQr0MAt0rqCH8TMX7DZnm0AXa5jPkddvC1z1prtz5BToqfdps80atgf6zHVnM66ga7UZBbpWvMEr3IjiLi0zR3LPxijuZoEu/Wdke3t/pUC3Z6QjhUfuoR3ndbDUUCYFepgFus9nMjX4F4sMG4E3BgBfPB9pdSafQY+1iyGym14EXPYfd1Yz8ra9BTj3AXd5mTp5Agb35t0jwflcPlxBdwnMRfLQTty4gu7CyjFJre5Blwjm48ZlzxVrguSDD4BzzknMMdt2Fdh5lUehaFc8/x6HgEfuoR3nQ+IQFOhhFujSdkZxD8lHLSTNfHMg8PlzmSHQ5QXWuqXAzk3AYTWAeq2B9Z8U/dscod4Xgf4v4NwRITF0BjSTAj2wRgztxM2YsI4eDdxxR2D5BrZhst29dOlI8+TstQRJK1UqsM3V0jAnAt2oOFsi29uB9igU7Yrn3ynQw+gDFOhhF+iGSJ93G7Bzc1Fv3J6jDaP3ss3+E8gUgW51TrlESSD/oOkzUhvo/HDkjndD7B13IXB5wTVzTukaedv1B86532kupvNKgALdK0Ft+SnQtaENfsGG2GrSBPj+++C31+8Wvv8+cO65zkrNlsj2djQo0O0I6fm7R+6hHef10PS9VAr0TBDo0ofNq4CnWkd60/NloPHZrs9k+u5dLDB8BN68Ffj82Ui7w7rFPe6uklhzlIj84tJpwMu9I//vSaAPAM4ZHj6bh7XFFOiBtVxoJ25cQffuUxTozgU6V9Aj/uZRKHp32iwtwSP30I7zITE3BXqmCPTffgCe+L9IbwatAw6tEhIXZDMDRSDsAr0wLoMpKntCwCWASrWB7TmRVMd2AXrOcGeSwhV0CnR34DympkD3CFBf9tBO3CjQvTuFwfDYY4FVq7yXF7YS3nsPOO+8IuEZGyTOEKR16wJr1mTfEQAre3oUimFzkcC01yP30I7zgTFA4oZQoGeKQN+yGniyVaQ3d64BylcNpgvGngs2zgHH+30we5G5rXrrNuCzyZH+hXEF3enNBvEseOwFQM+Z7uxrCMXTBwJn3+cuL1MnT4ACPXl2mnOGduJGge7dMwyGxx0HfPed9/LCVkKsQJf2Z3tkezsbehSKdsXz73EIeOQe2nE+JA5Bga5ToKdSdJoF+h0/AxWquXPBVLTV8v7i2kCLHsC3s2PuojadD3bXk8xMnQr7CLm3bgc+mxRegf7NbOCVq5P3gSbnA71edJe/UKDfCpx9r7u8TJ08AQr05NlpzhnaiRsFunfPMBg2bQqsXOm9vLCV8O67QOfOkVY/9RQwalT0PejZGNnezoYehaJd8fw7BXoYfYAC3U6gH1YhOhK0OfJzIovHE6NGUCq/vWXL98CTp0ZKvf1H4LAjndeQirY6PhdsNNt0PliCeGXzkwr7GHzDLtC9rqA7EejyskTqWbcYyAewaEyEXvvbgLOGZbOnprbvhkBvcQnQo+DmARct4DVrLmC5TEqB7hJYJiWnQC8S6D/9BDRoUBTZvk8f4LnnuK091t8p0NMzAnjkHtpxPj20XddKgZ5IoH8yE5UWD3e/spuOq882fwc81SbSm9tWAxVrOHMGu7b2mBJZjTeuqnL6gsJcu+tzwSaRLueDB3wTjIB3qVrFNrOzs48EOPPzBca8O4BPn4m0IIxb3At9LVf2FTr4DMScQW/SGej1Uvx8Yo83/gXs+aN4mqZ/Ay6b7qBOJvGFAAW6Lxh1FBLaiZsxYX34YeDOO3WgyfwyDYbNmgErVmR+f2N7aF5BF4F+9NFFQdCGDQOGM5BoMafwKBSzz8l86rFH7qEd533Cp7sYCvREAv2uSqhUNjaBzcqurRgtEAR+i86N3wIT20Uae+sqoFIte9+xbatE10xwNZV9DZEUXlc1r3wTOKq909r0pEvlKrbRA1v7aPCleXcCnz4daUEYBbq0u/ClhvwjkUi3iOLe+DzgipetfUiVWxDtPZ6XXTrd3xcmerw5utR0vHjyo18U6H5Q1FJGaCduFOje/cFg2Lw58O233ssLWwnvvAOcf36k1T/+CDRqRIFuZ0OPQtGueP49DgGP3EM7zofEISjQLQxVuPXxroqoVLZgEh+VLoEwcipG/Raduf8Dni4QsQNXApXr2Lug07bG9l3+7Wbl1uu54EueBY7vYd8fXSlSvYpt9MOpffz0pUwQ6IZIf/tOYIespBuPfJZNgr1SHaDzQ9H3oDc+F7hiVnFPEhH7WPOY8iwcTsr0++WbLr82OL0zyP0uIZ1tii073gsECvRUWsFVXaGduFGgu7KzZWIKdAp0t17kUSi6rY7pCwh45B7acT4kDkCBnpRAL8hkJYycilG/ReeG5cAzZ0QaNuBboEo9exd02tZiJblcuXUqNOO12E8Bak8lOkU6VrGNFji1T4c7gI6D/TkG8PYg4JOJkRaEdQXd4LdrKzDm6Mi/uk8CSpQGXukb+feVbwAN2hUxM8TeMecA/5hd3Evc+HA6/dWNf6frxZPbNsZ7gWDsZuAZdDdEU5I2tBM3CnTv/mEwbNEC+OYb7+WFrYS33wYuuCDS6h9+AI45pmgFfehQ4P779fQoLw9YtAjIzQVq1QLatw/PWXePQlEP0Cwo1SP30I7zITEtBbqFoexX0AsyWYlspxN5vyfxOV8CkzpFGtb/f8DhDexd0Glb45XktA+uzwUbFbp8EWDfY/cpnDJyysJNC5zWLWXKWX0/AhC+fRfwyYRIK8Mu0Hf/Dow+KtKXfy0HNn0LvPSPyL+HbgVKlS6yhp1Ad/qyREr0++WbG59xmjadL56cttHuBYKxG4IC3SnRlKUL7cSNAt27jxgMjz8e+N//vJcXthLSIdDnzAH694+OFi/3rI8fD3TvHnyCHoVi8DsY0BZ65B7acT6g5ohtFgW6haEcC3QrUfbta5FVuvyDcVxAk+j89XNg8llFYqRqgTCJbYV5u2j5I4C5NwDbnQbUiinMjRBxfC7YqCOFUdwTncF1KszcsHA6OLh6seETr3cGA8ueygyBvus3YEwja4F+9yagTDkLgX428I9XIr83+4UESXx3iDPLnTcKOKxG5CeZoIrOavGWyunLn95zgUYdi/PQ3TcnLxAo0L35gMbcoZ24UaB794qgCfRUryzPmwd06RLhGLuCriNInIjzHj2i71qXug07zJ4dfJHuUSh6d9osLcEj99CO8yExNwV6QoFuFSROjXyRFcvYs6aOrhIr4e78tlNHWv8p8Ow5kdS3fAlUKxAm5vxWgc4OPdw6IrWTekWItL7e+dZqy0BrdQBZAftyKvDXtqJazeeDnbQl2TR2wd+cChkdK+jSJ1cvNnx4+WMW6MP+AEqWTJZs+vPt3Aw80jjSjn99BWxaCbx0ReTfvWYBe7cXiej7q0Z+3+gsoPecCPfYrdXyubeLDO9HUMVUkHP64knGh4sej7QolWfVnX7upF0ZvIL+1FNPYcyYMcjNzUXz5s0xbtw4tJetq3GeJ598Ek888QTWrl2L+vXr4+6770Yfudqp4JkyZQr69i045mEqY8+ePShXruiFldt6Y5sT2ombMWF96CFg0KBUfBIzrw6D4QknAF9/nd7+pWNl2SzQV68GGjfWt8VdXj40bBi9cm4mLraQlfQ1a4K93d2jUEyvk4W4do/cQzvOh8RkFOgWhipaQReBHjspj7NSabviI7q+VOS+3ubd4rtHshGVf1kGPHdepNybvwCOOCa6DruXB6XLAQf+KsoTKzTitdjt1mrpX6EYOjsSMbtkKeCzycBbt0VqEbGbipVHuy20EgjvuC7AuBYJdhn4IIrtBgtLsZggk5eXBWaBHrsN3K6dfv892c+C0Y4dG4FHj438S15abVkFvNireCvFh7dviPy+0ZlAy77AyyJqnFzTZtdpn3Y22FXj9u9uBHDcsjX2zekLBGlbhgr0l156Cb1794aI5Xbt2uHpp5/G5MmTsXLlSiW+Y58JEyZg0KBBmDRpElq1aoVPP/0U1157LWbMmIGLLrpIJReB3r9/f3z//fdR2WvWrFn4b7f1WrlHaCduFOhuR5Li6YMi0NO1svzWW8CFF0a46Bbo8+cDnQqONiay3EcfAR0LdkJ5t7D/JXgUiv43KEtK9Mg9tON8SMxLgW5hqEKBLvegLxoO7CiYvEvaeCu7Tie8icST3WpuIqdatxR4vuBqj5s+A45sUpTaycuDUmWBvL2RPNLG3VuBWVcVlOHwqiqn93Eb531P+gfQ7cnIVuL3hgLLnozUN+x356vyyX7QbJmYhPeqtwoEm1RmZqFRoMT2K+8AMKKas9562W7/zpAiO9yzBSh9iLM6/U6VzGchVtAf3jDyckWemz8HvnoBWPKYRUtNL+GO6ghsXR0d1bxYDgcr6VF5UvASxy1/V8cnEhWeRN+cvHhxOp5K01r0AHo865YACsf5bdtQqVIl1/l1Z2jdujVOOeUUiPA2nqZNm6Jbt2548MEHi1Xftm1bJeRlxd14BgwYgM8//xyLFy9WvxKBLr/7888/4zbfbb1WBYV24kaB7t2tDYYnnggsX+69vGRKSOfKciKB7vcW95kzgV4WL51jmc2YAfTsmQzJ1OTxKBRT08gMrMUj99CO8yExJQW6haGiJm5lSwIPFlxZdu4ooGYLYNeW4udLna74xBNPTlZzEwlg84T2xk+A6scV9czNZFdyGcHBHK/cupykGwL95N6AXGuVyq2zBhWnTIwXKvG25xvXdDn5wDsRJvHKMe88sKvLywr6u3cDHz8RqeHujUCZQ+1q8//vyXwWrOwj56Tl7Lg8N3wMTOkC7Pk9cXtrnghs1LQt04td/KdsOj7hw04Bp+funb54sX2BYHpJkoECfd++fShfvjxmzZqFiy++uND6svq9fPlyLFiwoJhHtGzZEhdccAFGjBhR+LfBgwfj0Ucfxa5du1CmTBkl0K+55hrUqVMHeXl5OOmkk1T6k08+WeVJpl4KdB0fzhCXaUz6TzoJ+Oqr9HQknSvLZoEuO1WaNNG3xV0iwt97rz1jrqDbM8rGFBTogbY6BbobgS5B1Xb/VpTDvL3breAz13tgHzC2aXTZUe2yEcAymV02AXjv7kiu6xYDtY4vKsHpywMjhzl6tw5haAj0o84A1iy02EqcgpVpp0zML1TMLA6tCvx9CtDwdGer/U6FSbzhIm8/MOIIm8HE5YsSq9LMAn3IBuCQCqkdwNzsbJCjEfIkFPQF4rPrk8Dcm+z7UqU+8Ocv9umSSeFlZ0My9TnJI+zeuAXYE39F1UkxUWniHXtx++LFLn1hkLjMW0HfsGGDEtFLliyBrIwbz6hRozB16tRiW9Tl70OGDMHzzz+PN998U628f/HFF+jSpQs2b94MKa9WrVpYtmwZfvzxRxx//PFqB8H48eMxb948fP3112jcuLFK57ZeqXvv3r3qx3hycnLQrFkzrF+/HnXlDGxYHq6ge7eUwVBe+nz5pffykikhnSvLb74JFBwpgU6BLrsEGjQAcnISE5LP39q1PIOejB9leh4K9EBbmALdwjxRK+iH5AMPFT/vF8lmEpK2Z5ULtsdbBZZ7c0BkS7ndY7UCZyX8KhwJdBkLGCvuTl8eGPXHXq9lCGq79jkVIEZ5ZcoD+3fHKdUHsZmovU6ZmJkrwdA7ulQnZ/DthIacdbc7HnBgL/BA9QQ98umlhlmg37UeKOfT1l+73QPG39csABYWbdGN22HDLraCvqCEs+4FPhxu58FA5frANk0C3esKeuwNDPLlarWbx76X0Sl+XgBM+5vbXO580dZOFp93ybPwEWDRI0DevqL6jGNGhfegZ65AX7p0KU477bTCvo8cORLTp0/HqlWrivGXQG833XST+nt+fj5q1KiBf/zjHxg9ejQ2bdqE6tWLjx8HDx5UYr5Dhw54/PHHCwW6m3qlIffddx+GDy/++QqtQJcjBHfd5eNnIouKMib9p5wCfPFFejqezhV0s0CXz+mxxxatoPu5xd1pH+VzKfUG+fEoFIPctUC3zSN3bnHXa10KdAu+UQK95F7gkZiAa1F5rM4qx9kyeun0aCFmF7gttm2xAjhhflO0eJnojjna+SqZ1CPbg+u1BtZ/AkwtCHhi54uJBIhZXLxytV1JRX/3Kmri1eRkC605Un+yIjsZYWLV5v17gJEFgZwkiNmqNyPizHhkd8cJlwLHXuAtwJ5ZoEv07qpHR5cXK7QNH5Gt5PGu3rLbPeD4KIUJjPFZcPqi5bRbgI//be93NY4H9my1Dwq43WbVIt4YYaz627ckOoUdIycvihJ9FozAjW7bFTd9jOB2aqdER0qkro5DgA63R3atGC/6uMU9ygr79+9XglxWzJ955hkVOE7OnJeMcyODBJKTidbbb7+d9Bb3jFhBz88vurWCAr34J9vpdWVBEOjGGXRZXRa7xj46o5u/8Qbwt4IXnrECfehQQLal+/Gkc5eAH+03l+FRKPrdnKwpzyN3CnS9nkKBbsE3SqDnLCy6mimRLcwTy3gr4rFbx1V0cFMAOjtbm8WqW+E3/2Fg/ii7GqL/7jSSe+y1c7EiTnYHvDvYXV+NljhdlXfXs0jquFeYxaxGu2VtbovT1Um7FxF7dxbFQrjgEaDmCcBz50Zqku325rPVyYg1w2bv3QPkxgT2McqTumLjBdhdK2b3YqPtLcBSEc4uz0EbvJweVah7KrB5JbBvZ2JPaXA60Po6+6CAsTspCkt1eOuDG3919CLP4w6KuLtkzP1xGxyvIODkUe0Bp3aSz3upQxJE0Te9eExGoJvGpu35h6HyiedjW4CDxMm5conibjyybbxr166WQeKsXOqMM85QW9YlkrvVIyvtp556qtry/txzz6kkEiTOa72hnLhRoMcfldxcVxYEgS49MaK4y/+bRbru+8FTJdCdrqAH/fy52MejUHTzdcq0JgIeuYdynA+RA1CgWxgrSqCvmgXMu9XepGYhuept4MXLi+cxBLpMEj+ZCLw7xL5cc4q/Ty26os3pilSrayIr4YdWA2ZdCezb4a5O29QxwsBupc+2vJgEdsLVbXmx6Z0Ef3PKOratbs732r2I+Gs78FC9SOs7PwzUOhF4vnPi3sfu2JDUEu/gs0nAH2sBiXLe6lpg9TsWd36bi05CmLW5EWh8HjD3hsQvZhy/BDK1R3YLdH4QqFgLyD/ow/ZsU/8atgeuetP6HnTzDQ5Wgrbp34Ccz6P7G+/WB6d+a/tyKMZO5l0fTuuQdPEEutF+SVPsXngHFbjd6dB7ro3PmFbmjVV/pyvoMZ/17XvzUfmhHYEV6MZ1ZxMnTlTb3GU1XK5QW7FiBRo0aAAJACdnvadNm6YMsXr1anW1mgjsP/74A2PHjsX777+vzqI3lLuSAbUNvU2bNuq8uXzPybZ22RIvZ91FqMtjV68Dq6sV+Xr16oXrDPrBg0XndLmCXmRmt9eVGZP+li2Bzz934i760li9WKhXDxg3DujeXU+9r78OdO0aKfu774DjjtOzxT2duwT8JudRKPrdnKwpzyP3ZMd5eekst43k5uaiefPmGDduHNq3b2+JXW4gkV1gcqxr9+7d6rvvuuuuw8CBA6PSv/LKKxg6dCh++uknNGrUCHIczBxgNYw2pUC3sFqUQP/lQ2C2cd1YAhObxdnq94AZfy+eWAS6FwFbpgLQaQhwaj/gu9cBN1vFdXmnWYA4Wulz2hDNZ9DNzYgNhCfXvMkjV9fJ1u3Nq4BFDs5Fm0W2WxZ2LyIkiNfDDSLtOnckUKMFML1gEhAPqays3/FjURA7ucpOIrSLqC18khDfTk2YinQi0uV8vl109kRtER82tqzLCnrftyKpzX5xzNlAr5eLWFoJ2tNvjWzBfqAgmN+ZQ4HTBzoLIhivfU5fDpnzn/sA8Ne2yKYEWb2OF8jQWE3+fh6wrGiVtrCospWAQWuL2m/mIS8y1i6yt3CxWAG5cXZLFHzeu01w9sJFyjWO3hz/d+CSyYnbYvF5DLpAlw7JREbOkMtEpkWLFnjsscfUeXF5rrrqKqxduxbzZSVNaYHv0KtXLxVATiK2d+rUCQ8//DCOlTOwBY9MaubMmYONGzeicuXKKnq7nB83n3O3q9fe6KBAdwIpDGmSua7MmPT/3/8Bn32W/l5KH0qXjrTj9tuBhx7SGzAtkUD3c4u79CfeLgH5m9hh9mx9LyL8tKxHoehnU7KqLI/ckxHoxgtg+W6Ta0GffvppTJ48GStXrkT9+sXjfX311VdKnJ9wwgmoUKGCujJUBLp8F/br10+Z6+OPP1YCX24kEVH+6quvYtiwYSqtvLC2feTaUfms/PQTcMcdQNWqkQCXNWoAdQpu8bItxP8EFOgWTAsF+tdvo9KunyPbs+M+FkIynkCXybvbbeZW9cqqY7NuwIo5/nuE2xKNO8tdrfTZVeJxu65V8XZBysyCS1aek1ktdBu4TLXT4YuI3b8Do4+K9Ozs4YD4wPtD7UBGBGPHQZF75pc+bp8+dCk8vmA45DDgrl8AYzXWLNCFhflKwK4F18+Zf2/mJWK8091F0fYvnwkcd0Fxona+aM7hdGt4IrvJi5qLxhePf+HEx2N3YRg8Trs5Mv5stxHc/1oeiWMhL7q2/gTMN+7vNh9pMH3eJRickxeP8jLMSGcI9Hhc44xNYRDoofs4FjQ4mYlb2vtqFnJcQY+YI5lt1EET6OprtmCMmTwZuNpFDJxknHLuXKBbt0jOlSuBpk31XbMmdYhIv+UWYIPpuGT58sD06eEQ52b7yP9bxQxIxg7MY08gDQJdBLMEJp0wYUJh+5o2bYpu3bo5PrrVvXt3JdZl95c8l112mdoRJnFUjKdz5844/PDDMVNiNSR6/vc/4OyzgcqVI7cdyM0LRx8NyMu0deuAgh1q9jD9T0GBbsG0UKDfVRGVyhYM7Jbs4wjJD0dEIg/rfkRc7Nvl/vyuuV1yz7UEIEv2MbbtJ7PSF69OWRU9f7R9ZHMnbTYiQX8yAdjzR1GO2HPaUSuibkVfkgGxVGtMZ2oT9WfX1kigP3maXRwR6CtesScg4mzgSuDB2jEr5/ZZw5OiBKBuBJDPgstH+AxaUyTEG7QD+s4rKsSNQG/XP/JCZGSNSP7LXgCaxgRYtAuYF9t8Pz9Xhth2s7tDdheYb54weEhf6/xf4rP6El/g29nRW/7LVQHy84C9pqM25l04TvtrXkGXLe5HNAHifcYPPdwy0CUFusvPiovkoRToBw4AZcpEekmBHuGQTCAyY9LfqhXw6acuvEZj0qAIdD+juJtxbd4cWe0znksvlbMqGoH6XLRHoehza7KnOI/c3Y7z+/btQ/ny5TFr1qyo7ef9+/fH8uXLsWDBAlv2sqJ+/vnn44EHHsA111yj0svKu+wOM297lxV22Tq/TkR2okfEudw4MXo0ULEi8PXXEYG+dCnQq1dEtKfpoUC3AO9YoMeeLzXEoB+r5I4coqRJnLsMsuWofAeJDIHuZaWvVDkg76+iym7/ETjsSAeV2yRRZ8D/FS3MC7PEvFxxepVcvCrN0aWdsrBa2TSXb14RzP0fsHR8ckwkDsFnNluAkys5/LnkPPudPxUJ9HqnAWfeHVnxlaj0xjbqk3sDdivoIkg7DgZG1Y5wuew/QNOLihjZBcyzum7P9rYBFyaQ8UpWtB8/0V3ARvPxi0KBPgA4Z3j8s/otLnEW/K/0oUC3iUCLghUn2/5anEGXoHLma9hiP+NtbrDcwk+B7sJ3XCZ1O3FzWbye5GaBPmoUMDjRzjk9TQhcqV5W0CWmwSefBKNLqRTor70GXHxxpN+pWEGXerZuBY4oOFol/+7ZE4gTGDIYBolphUehGMg+haFRHrkb47xsT5dgpMZTtmxZyE/ss2HDBpVOYp60bdu28M+jRo3C1KlT1fGseE/dunWxZcsWHDhwQB3LkvPmxnPIIYdgypQp6oiX8Uhg1L59+0JuGEn4yMq5bGdv1ChaoIuwl+Nhf5m0SYptSoFuAdyRQJdJa4O2kfOZhjCXc5x//ZlaE57UC/hpPrDDRTT42BbKCpN5ddlND7yuoIto2LMN2G+Kru2HQLe6s7xYvywm+276HpvWWJWPs2JXrGgJiNWoo3WNXmIVxJZY66Tikdm99DOoectVjpy9dvNUqA7c8UORQI8n9pwIdDl2cuE4YHQkIJcS69WOKbqyMKEwjtmFYX45E3druJuOFqQ9b5T74JTm2AqxAl2KNZ9NP7EnINfzuXoJULCL5LgukbgPhWfirXayWERxT4ihBFC+GrD7t2KpKNCT8B+HWUIp0PfvBw45JNJDCvQIB5eByCR5qdKRl9/bm7ZGhW+WoVQph06jM5khRCZNAgpW3bRVZxboK1YAzZrp3eIuZtq8FaVqFAn0g5f3RMmZ1jc3aOt3kgWbfUa53IH8YPhMkv0JVTafBHpsn++9914lomMfQ6AvXbo0Ku6JBHST7epy1jzes2bNGuzcuRPLli3DXXfdhSeeeAI95UUUZNg+RAl849/yuxdeeAFXX301/rIT2LLz5J13gJNPjhbo770XOQ6zfn1B0i0XAAAgAElEQVTaTEqBboHelUD/7g1g7s0aoqM79AkJGHfWvUVXcDnMFpXMy9l4Q6BLdPCxTS0nwgmbJNtu594E7N1elOy274GKBXd+W2W2O8Pr9jy8ebtsMvwK8xSsyveYArwn18rFO58rI8phwOUzigfwSvkuDE8dDlbmQyoUHPlw0SxZJb99dfwo5kZRR50BXPl6UcHxdlzIFm6rl3RKJG61b5j4orwsiz0fLi995DiEl2B4UruMF58+Y98OcwpjBV3OBg6vEvmLBMQ7+97iPOSlhBwTMHYeOKqpBCD9K1MuZmXfQqAb2/RjAzva1VO2YvS2ehEQAY/ibtelIP+dAj3I1nHZNofXlRkB09f/GvkeXIbW+HvdZRg/Pr1Hoc0C8PvbJ+GYh67RKwATCXQNW9yF+303/4b/5RbtOpx76OXI+89MbYHqXXpQ3OSxPiMJ69XNT7vP+NW/wJfjk0B3uoLuxxZ3YSrb20XQGyvunra4S6C5LVuAl1+OBIeTM+nyVlHiSEhAVrnxIU0PBboFeEcCXfIlIwj8NvQJlwHNLwFmXppcyRWOBEQQz/4nsPI192V4iUxfpxVw9bvAw0cBe00rn3JmunKcyIlWK8sifi4YW7RN1uk5VqO35oBT7gkUzyFi49TrgAUP28cHMFbdZfVw4SORrbip3oXhR5+TKiP+6mZSxSWTSY4ZnP8wMOfaxLnljPvgXxNHcU+m/tg8cj3dMgmeEntkJUasymcnJ4kIyW5X0M03AeTtLwqA1/424KxhRa03XljIy75qjZwFekuGV7I7dizGagr0ZAzgLE8oBfq+fYCxLZMr6NGGFiV1881Arrx0LnhM15WZb2LLlxeJElkZbdCuxMfq/9MVTDxWAF6NyXiv7tV6BeCrrxa9kfj2W6B5c20r6Ab3avlbsAXVC00zE5fjihIz08bdyShh5TOSr2SJyHdfunzGSdszJo1PAn39+vWQLehOHgkS17JlS3VDifE0a9YMXbt2dRwkTqK1P/vss+oWE3kkSNyOHTswb15R/CA5p16lShX7IHHbtwMXXADIbpcdO4DatYGNG4HTTgOkvAoVnHRLSxoKdAusjgW6FpOkuFC5tu2MQcBLvSNXt7l9ZEXr5T72QjReuSJQd/8JHNhdlELOyW77tegcsHGUwC64Vdt/AeeOAJyeATdqLCZa3AaJi9M5EeoSDOvgAXuqpctGrgsL0yPccr6MBAJL9jnjLuCrae7ORCdbl9d80l9ZcZdz63ZX3CVblwr8aDruEVWOR7+Udg/4FnjiFOe8jVsApB37dgOjakVa1P524CzTLQKGQO90D1C/jcsVdBewjBV0t59xq3GeK+guwLtLGkaBnrdnH0qVj5yb/PnqkWjw9BC9K63ukKY/9S+/AA0KrvqUSOVduqiVptib2AyBvhSnoR2WqgDqMndfs0bv7WaxgKwEoAj050tEorh7FYDS70WLIu8satUC5BpnWXjLe+VVlOoRuWP90+e+Rcs+zQu3/avI0Pff74stzdyPxGZsRlGQOEOgp4O7k87F8xnJWwL5afMZJ23PqDQmgT7/o/xCH3bax2TGeeOatYkTJ6pt7s888wwmTZqEFStWqDvOBw8ejJycHEwriJ7+5JNPqiBwxx13nGqWXJ02YMAA3HLLLWolXR7ZMi/Xj8pWeRH6c+fOxT333OP8mjUp5L//jZxFP3gwEjROgsel+aFAt5q4bd+u7ojdZhvFPc3W86P6s+4Ddm22vgfZqnzzndHydxHY2z2cf1dv22NWC0UESZAu45EV8vMfAd6/276uHs8DO3Ldn7P1g2WxMjwKKi1t8rFQ2Xnw44fA1zZn3UqVBfISvHw4pHxE/PHRT0A+rxL13NGVeyWAYVuLdg3I+f6HCu4pPbYLIMHXjJdnhkA/857I9vdxLRIf8Ui2p0ZUeTmr7nQbfZwYG1xBT9YI9vmSmbjZl6ovhYi5O/61Fz/llFOVDMFITK87xPFKazyxpq/FaShZrvEqCAT1yjNbUa1xVTWhF5HaqVNRe2IFuvGXjz4COsYJueJ3b+IJQBHoz+FqzwLQWJn/9deilosYliOxfzw3B5O2XqL+0BzfYlud5vg1J7KrYG2fYaj33HBfXvyY4/dVxyZsQtGxQBHovRC5XsoJ91T7b2zsQcNnpL0i0I3ngw+As86K7x2pbrfffprO8sSHu19SdEuVcBcfdnMkJdlxXlbPR48ejdzcXLRo0ULdaS4CW56rrrpKrYzPFycB8O9//1vdlS5n0EuXLo1GjRrh2muvVXehlywpgbIjz+zZs5Uo//nnn1UaEetyHZvtIy8CLrusaPeUkUF2VL34ItBHFiDT81CgW3DPqhV0t37n5by627qSSp/hojgpJpoy9XkDWDQGWLNQUwUsVhuBNjcBn02KE/3cVKv5HvSvXgDm3hjdJOOIxsu9I78/cyjQ4fZIdHcvO2sSddwI0GncXW8H6cQrgK9fKJaKAt0OXPJ/T3bilnyNyec0VlrL5O/FXhQJ9IdKDCmY+CU+Qx1PrLmZ6Cbf+tTkFCE07s4NuG1s5OhZVWzFH6iqJvQ9ekQf0zTE1hK0xelYUthACSpeENNJe6PjCcBrMAnPInI1kzxOxGtsY80r81YduRhzMAcRgd4C32AFWsiasPr3/RiKSXXvdyWC4sEy34BXAxuxEQW7m+R2PJNAt+Nu5b9yFLd/f+Duu4vvevBDFMfe3hdPoEs7JK6flc7Khs+drg+K4cMH86MFurGg7nR3SZjG+bgsZduLbIOpXnRERKWVmxHkd+LwaXpK7N69O3/MmDEYJsEr+CgCFOh0BBJwQKDrk8CbtyZeHXdQDJMEmICxYr3qrTiC2/iCL1j1kICV7W+NdEhdc3gLsMfnmy1k54Zc42YErHOEr/iLOwp0R+CSSqRj4uaHMIjtjHmltSz+wl84VCWRFfQHMcR2pTWeWHMz0dXRLydGs6pX8sVu25bd7FdeCVTcuQEbEBHo1fAbfkc1y2oMsbUY7dAeiwvT2IlhPznEE4CxAv2eeyJB1s1b1BOxM/tLSeShPRahFnKRi1pYhPY4iFLojlfwCnqoYqwE+r2IbHGXmFR//7sTS1mnMb+EqKnaUHC9Z4xAT8Td7mVDtWrAM89EBLL0feTIyArr778XtcntqqvkdLqCLmnlsxQrGP343CVD3k8flQVaOYb9ww+RPrZuDUhYB+OohLl9ftZr9mGrFyNujqToGOeTsYunPLIKv2kTcGTM1c5yH7psDTI7u6eK3Gcu8dtvv+VXr14deWl8S+C+2XpzUKDr5cvSSYAEQkRArgOce0OC4yUm8SvCuWXfoq3vPy8Apv3N385KLIBW/YAHCq4VKnMosH+P6zoo0F0jc5whduLmZYJpJwy6drU+C+yksWahUA57sAflVTZDoBtlWImc2G3UsfU5meimaxVQBM+NN0aCFxuPiDF5ZOHI/Dvj32YReAS2YCtM926bOm8l0EV4JDqD7jeHeALQ2OJu5Ruye18COjduXCTYJZ35hYXYXI6myir5ePRHPRTtcV+PuuiP8WqLtiHQj8f/8C2Oj1pBNwS6LNzJDlrZgZDMY74Br2Z+0csTKSv2DHpsP0QEytOwIWDepm/VDvHj228Hnnsu2jdi0w4fbr3iblVm7O198VbQJa/xOfrxRzlrDOTkRHxXYnvFa6/57L0x9kg+8XfRYWJrKyGcyA5efdQ8BspLL/kMWsmu2BceVvVWqhR5cSI7s50+Rv0ffihR0CO5EnG3e6Em+UMt0OVaNXEuEeISyLF06SKUAksGrM6dI2/S0vSU+PDDD/MlAp5cAM8nQoAC3YUnlKkA7N/lIgOTkgAJhIpAhzuAhWPcNdl8O4HdVvSEgfHiVFuxNrCjIPbF8X8Hvpnlrn28Zs01LzcZjInbyy+vx9KldfHCC9FiMNGqm3kiK6tLjz9uLQxkbiU3/4mwNIvKI44AnngCkOttYwN4xfbBvNKaSKBLAPNLLome1MeKwHh84k103awC2q12G7szN28u2qkp/2+1MnznncAYlx9n6Zt5G7UEJfsNMStOBQCMSf8inI4OWKR+e8cdwOjR1oTccHDqg7I6KT5mTGuNNiUS6LFlW72wOPxwoOMfczBbrZDno+gELHCwYBv7o7gNd+ARVVwigW7UJ8LW/FLA6t74eC+4DHa18nOQg6Io2sYWd9EWUp5sV489L3/ttcC9ppsynbJNlM7p51r8VV58SN/lSSQU/5+964CSoli7d5cFlhwlSxAUSQaQIKgEw/OBiuk3I+anz4SKARAEI2b0GRB5AmLCAKgY0ScGkCwqgqJIzjkuS9r/3K6pnZqeDtU9M7uzS33neITp6gpfVTd9v3A/OR5BqRsod5oTnzs6P+1rl22DeP79zui4cQL4u71vnEC2lx75bmOfCxd67xGNk6zq5yby3NAgYH8H++ldJ7qkSAN0efj4/7vuAsqXj6qxVClhveJLn38uJMnIzMzMu/HGG0GmPCNCAwagm5NgNGA0YDQQ0cDJdwuugUASCX2/6HVA5qcHut+vseK1Z6nJX8b53RB33XjQA6tM+wb54QasABTgIDuQIeD2D9uNG4E77vD36mlPJNLQLadWBdllsBu7IUrq2D3ocjyCf4alMjTZHkbtNienHGB+ONOAoBoW1PtV7zs/ru0gwwk8uo2vApH33gMuClmRVQXoJCVTy3qpYzsBdHrQpQdUBTHUgwqkndZA4ENwqfOd7BZtEQagO82FYe1L0RB1sTIGnMu2BOmbURXVIcIQdAC6Oo4TaPTz3NLg8s6TK7AcEQJPJcSdmGOnQ1EQadwK+hzptLeHpLvtidOZ4W8qSZzOeG5t+MwwHN9PGMXgZczzi5Rh/xZ7v5KqrO6jXxqB3/z8rvN55jtGGnb8QHkYvavrUY1FWVkrcdFFhyNImTW/9RT49TFjRChCtuAfSSfJmDZtWh6p7o1ENWAAekGeBkPqVpDaNmMZDQTSAEuztbkK+F54hIJJRqTKwyr32/wY/nUGrNEcWL9Ap2VMGwPQA6tM+wY/gC47sn/Yag8QsqGaU8su1FDb7LwoQB+Ah/EoBriOQo8wS+eq7OVujZ086Ky0peO9pHNn8GARKZCocLxnnw3mhVTHVEPcCdbVsl5qOwmGv8PJ6IwogSiBthqoWaECsG8fsGeP/8p47/Dh3mR99BZffTWw26EgiJyTPQfdf+TYFp0xBVOgUNb7dHAMfsavOMYxxN3rVhkuTuMMQ+Dd9p+4gkauw7EcyxEpgWfLQQ+6xmS0537xrC1e7B4B43Rm+FuyAHrYdUgwKlNnGI3zwQfheuMzN3KkCMtPpTBkn/qmx93OEeA1rk7kgrUnEXs7Ux1omIxGYzDFo4gD9FRuTIJ9GxZ3BwUagJ7gqQpyO0moWCs81yWhKEhfpq3RgNFAemvgsGbAhoVpMUcD0FO3DboAPXUz8O5ZEnRJ7x4/pMtiF3ZBhDn6AXS2ufNO8THsRt/jloPO9pUrO3s27bMuW9YZcBaG3lSAzj+rZb2cwNa3OAVd8G1Sp9qnD3DWWaJLGcLfsSPQrRswNUoYHzdmsgD6JXgbb+My7TWFBegcgKCLxgu3KAt1EvWxDMvQMP+nt3ApLodP+VPtVaS+oS5QTP1MoiPYU2cKcuyCGitxvRcDgM4XMq0b/Edh+XKA+TGqFCZJXL9+/fIGDx6MUjrxQwV1agp5HAPQC2gD6rYDWvQEvn7QMIEXkMrNMEYDhaqB0hXTxhhnAHrqTkK6A3R67hlKz/BW6Q0KCtB1tEfvJ3N9OZ7MDx87FmBUZVGT2ogSkfHPalkvJ4A+BZ3RFaKWcWFLskLcg3rQj8U8/IJjA3vQg+qrAZZiKRoZgB5UcYd4ewPQAbCCGcMcaHEdOFAwHS5dKpL7ee222wrtlGQ0adIkr0ePHhg2bFihTSLdBjYAPd12xMzHaMBowGgguRpIJkBnjvOiRQBzlK+5RnhWGcJ7qEq6A3SnfSmHndgJsWk6HvRDbW/rIEpExhxsWXLNrgf50f8NuqAbvkkLNTkBdLcyaV4Tjuagr0Im4vMO7DnoBQXQG2IJluAIA9DT4rQVnUkYgA6gcWORh9Gjh/hHe9686G/Tp4sE/0KSjB9++CHvkksusZL8jQgNGIBuToLRgNGA0UDx1kAyATrJmH75BTjiCOEtXbs2vqxq8dZm7OqKOkC/Hw/hEdx/KG2Z71oJylficKtdPayIYQ1Xb05ngC5z0L3KpE3A+Z664L1kcWeudCQ112ovWdyfwR3oi2es3woKoDfC3/gbjQ1A9z3FpoHTs8rfwuX+F4MQ93LlRPJ+/fqi7MUnnwCtWwN//w2wFNu2bYV2aDKWLVuW17RpU+TkBK8jW2izTvHABqCnWMGme6MBowGjgULWQDIB+umnA+vWAW3aiPBlkjeVKeO8QNYTLu5SFAF6eezADlS0tsYA9PgTqgJ0kpJJsG5vme4AnSzrXmXSLsT70AHpH+CCGIC+HIejD4ahJPZhHC6x1HIcfsLPOC7lIe6N8Rf+wpEGoBf3F2uS12c86ACaNgVefx1o317U0aQn/b77BPvirbeK3KRCkowpU6bk9e7dG0sZc2/E0oAB6OYgGA0YDRgNFG8NJBOgE5xL1mIy/p55JlC6tLP+Jkwo3nrl6gxAL357TK/5ikgpL5KSyT+7AfT/oStOxf/SQhESiFyPVzAID3mWSVuJemiEJTiIEp5z34myKAfh2OqCb/A9TrbuuQjjChygN8Gf+BNHGYCeFqet6EzCAHQIMF6xItC/P/D++8Cll4oa6CSMI1HJ0KGFtqEZt9xyS96mTZvwViHG2Rfa6l0GNgA93XbEzMdowGjAaCC5GkgmQFdn1qgRMHs2IGtVJ3fWRaO3ogjQK2A7tqOSpWDjQY8/Z2opL5KSqWW91Nbyo/9rdMNp+DotDqyc0xPoi3vgXzKSgPtbdPGc+zZUREXssNqo4cEX4x28g0ut34/HXMzD8Sn3oB+JRViEpvnzfRuX4DK8XWC6D5PP73Rm7LossAUcogMZgO6w8TNmiJIQTZoA55xTqCcjIycnJ69EiRIoWbJkoU4knQY3AD2ddsPMxWjAaMBoIPkaSCZANyRxsftTFAF6RWzDNlQ2AN3lUVNLeTHnWWUNdwJbX+FUnI6vkv/ghuhRApFXcD3+hVd9e7gUb+WDbLfGm1EFVbA1LQD6UfgDf+Do0AA9EYCdSD6/nHDiQNF3S00DBw0krvcinoO+bx9www2CvZ0EMmkmpg66w4YYgJ5mp9RMx2jAaMBoIMkaSCZANyRxBqAn+XimXXdqKa8jsDiGNbyoAPQn0Rd3J8mDvh6H4TBsjAPoaq30gvKgN8Xv+B3NQgH0RAC2JMwD8pCpHAJJmKeTz8/bEgeKafe4FIkJJa73Ig7QuUuVKwNz56YnQO/WrVveO++8g8MOO6xIHKiCmKQB6AWhZTOG0YDRgNFA4WkgmQDdkMQVfYBeCVuxFVWshZgQ9/jnUgXoJCVTWcOdAPpknIYzMLnwHnBl5PgcdPcyabo56KtRG7Wx1hOgt8Yc/ITWKQ9xPxoLsRDNAwP0RAB2tOTcyhhwLidBkK6ry8SBYlocsyI3icT1XgwA+tVXA61aiTroaSYZJ5xwQl6TJk3w9tsFl6+SZjqIm44B6Om+Q2Z+RgNGA0YDiWkgmQBdJYkbPx74xz8MSdzhh7MkF8u31ktsowrobhWgD8SDeBgDC2jkojGMWmubpGSL0cRx4vKj/0ucjn/gy7RYnFoHfQuqRFjcEVPLPKjXdwXqoR5WpQVAb4YFWIAWgQB6ogC7M6ZgCrr67q9OPn/iQNF3GqaBgwYS13sxAOiPPAI89RRw6qmiDAvLrqly222FdnYyZsyYkXfGGWdg61aRS2PEsLibM2A0YDRgNFDcNZBMgK7qypDEFU0W98rYgi2oam2lAejxT79aa5s5zypruNo63QH6a7gWTmHdskyaX4k1udalaIAGWB4H0Jm//hYut35vg9mYizYp96C3wHzMR6tAAD1RgK2G8nv9W6GTz584UCzu/1qlZn2J670YAHT+g+0mGRmiHnohScbcuXPzOnfubJUWMyI0YDzo5iQYDRgNGA0Ubw0kG6B37w4wEK2SIAIHDfM33yxS3CibNokyqwsWFG+9cnVFkSTOAHTvc8m8c+k1Z86zyhqu3ik/+r/AGTgTX6TFYZdzug6v4r+4zpoTPcgHkCWeVfTHIDzoW1pNXcxfaIzGEB/vKot7YQD0lvgVv+KY/Om9hUtxOd7y1H2iADtRgO90Zuy6TIvDU4wnYQB6em9uRufOnfOqVKmCCYdCcVbNvTAAXVNRppnRgNGA0UAR1UCyAXpmJrB2LVCjhlAIS6vOmxflnmEYfJ06wIEDRVRhAaZdFAF6FWzGZlSzVmk86PGbrQJ05jyrrOFOYOtz/AP/xOcBTk3qmjoBdI4mf78CY/Emrgg0gd/RFE2xKA6gX4Y38/sqKA96K/yCX3BsIICeKMCOhsgnns+fOFAMtHWmcUQDieu9GHjQ0/g0ZLRu3Trvww8/RL16RSNPrCB0aQB6QWjZjGE0YDRgNFB4Gkg1QK9QAfj5ZwPQi0oOugrQB2EIHsKgwjucaTgyieH+wpHWzJjzrLKGF3WA3guv4w30CqT139AczbHQE6CfgFmYgxPyDQEP4X4MwkOBxtFpfAx+xs84LhBATwbAjpLMJZbPnzhQ1NGSaWPXgKp3cgV8j5MDRZEABqCn8lSZMmsO2jUAPZVHzvRtNGA0YDRQ+BowAD11e1AUPehVsQmbUN1SigHo8WeDxHAy77w5fothDXcC6J/hTHTHZ6k7ZAF6VknimIMuRf4eBqD/glZohflxAP1yvJEP9gsKoB+LeZiH4wMBdDaWAJsh+hmKPoMQ5iUjn98A9ACHOUlNuW/jcUFMbyQ+vB3PQZeHwQD0JG2GSzcZzZs3zxs+fDhOZnKcEUsDBqCbg2A0YDRgNFC8NZBsgF6ihAhxlxVL6UH/5RdActCYEPf0Pk/VsBEbIcrNFucQ97JlgdGjgRkzgKef1t+TI7EoP++cOc+/oaXjzRJsfYp/ogc+1R8gZS3z8qt0X4uRSBZAn4vjcTzmeQL0tpiJ2WibcpK44/CTVc5Nik4OumxLoPYarkFlbMu/PyhhnprPz05KYH8gT6wB6LGHv3x5YOfOlD0Q+YaZTOTFDBLEMCNuNB701O0SkPHcc8/lffPNNyYHXdGyAeipPHKmb6MBowGjgcLXQLIBOnPQ//nPaHm1jz8GunWLVm3JzQU+/9zkoLvtPD9KR44EWJY2J6fgz4cK0IuzB/2NN4DLBck47r5bVBjSETK3y7xz5jyrrOHyfhqltu8Qvth0AegZOJgPFiVJHI1pX3wBnHqamOuVGIOxuFJHDfltZqIt2mK29XeVJI757LIvO0BPVYj78ZhrscVLCQLQec+deApP427r9nChztF8frs+dJRqADpw//1A8+ZA7dqCTJTP6LhxOtoL1ibR8nqxoxmAHkz7wVpnLFy40Cqztny5KBdhxHjQzRkwGjAaMBoo7hpINkAnsNSRUaN0WhXtNmFC3L/6Cti2DbggNuoyXxH8sDwZ36M21mANaofIl4zVKQ0qBw9Gf6uODdgAwfBXnAH6N98AXbpAWIq+/x4zJq7BY6Nr4+Nt0fzTunWBNWti9aMCdOY8kzWcVQtq1RJtJbAokSVA7yfojrPwSaEfZCeA3rAh8NdfgJxrGID+IzqgA2ZY6ytsgE4yOnrqpQQF6EMqP4NBW++KW4u6eX7PXyIg2+leVrjKi3XwFvpZSuUE8p/LyCB8PBs0AFatSu6oiZIDxs6mCAP03buFhXLiRGDfPuC004DnnweqizSndJCMP//8M69Vq1bIKQyTdTpowGEOgTzoZaoAOawh7/Ym4T9Wh9BbJk331EzLaCC0BkqWA/btCn27uTE9NZBsgJ6eqyycWQUF6IcfLgBT48Ys0RY/Z6c8VzVfkoz5upVi+eFPoXeK6QgEl2Te//GjDbj/+fQE6FzfiBFAzZpivpddFnxfuW5yAS9ZApT4cDxw++0xyt5zWD3Muvw5HOh5vuXB69cPePLJ6DgsrSaJ4ZjzfPpdxzp73yMKnlyqO87YGwyg89t440a9tXXqBEyd6t9WDb9Wy6xRFytWisPQmx70jCu1ASHPzYQNndAJ06z76x+eZ6UL8PfS747FiS8Lb/zZNWZg0vp2+SHuwyoMxMOlHsTmzf7gk0aU664DNmwA7rjDe53MdZ+FdvmNdAA6z9RVVwHnnQecMvsZZN4tAPqwZ/PixvN7/nifG0D3A/ZO9/II9e0bje5QgboE7tWqidKVBSm33SZSluTY3G9GSiXi6Y55LkvErmb8eHeDpde6hwwBGLH16KPxrRItrxfbYxEG6ATnL70kQhXKlAHeektYLt97ryCPlOdYGR988EFe37598XchFmNPG21EJqIF0CvWBc4cKu54V4ZGOQDx7CpAh5uAA3uB7zVjydJNIamcz2HNgQ2HQGHgVOrQ9G00YDQQWAMGoAdWmfYNEqDXrLkC69Z5V4jhB+r77wNVqwJdu8YPEWWKzkOmclnmS868+320fvh8C3wSzPgJjQHDhgHnnx/bcuqE9eh0fk3rxwcwGA/iAb+ukn6doddqGT7qhDh6wACA16RII0OQCUg9n4/xwIUXxiNE2Sk3I6Kce+4BnnlGzIml1RaiuTXks1f+hDvGRFnDY+YR6Sevew98e/cky6Dw2WfA2LH+s+3fHzj99KhHnmCd4FQ12qj7x6n++9+x+27XYZUK+7F5R0lrcDUHndM8mCcA+uxbRuO8ib0djUPqrCWYojFpd9vOqPzLd9blA/vzovvz+utA797i92kz8H1uO3TpKsY52P9+TGzzkKV+ipOHmJEdd90FPPGEaEPd0+NPT6qbR/mMyjPxxdb2+VO1A3QJagncjjxSiXaQZ/UUhT0AACAASURBVIqbzEEja2FUhDSU+D1/F+J9i1TMCaDrAHtLDwpFXfVqeZYxikeQANVmR4Lcf97ndIz9T5l7C+qJzxzxmtuZU++We+NkVNSZh8MjF3cbdXDDDXrGCPXZYHSLkyEvrAedxghi2bPOElNcvx7IylqJiy46HCtWrCh6lcBoDX7kEeCSS8SCZs4EaPXbsyf2ZauzkSlqk9GyZcu8rl274nm69o1YGvAE6O1uAJqdAzToCGRG3m4LPgI+vg3I2eKgwYi5/sLRwJf9gO1rkutRP/1hoGJtoHxNYPqLwB/pwZqqdZRKlbeCw7B3h1Zz08hPAyZaw09DaXu90x1AuWrA90+7vEdCzJzP194UMs2EmFI63WIAeup2QwL0pUtX4K+/6lnRg5TSpYVnR4rfB6VfvmReRgYyIm7h8R+W8AQ+ffoAPXuK/E4V7Mq5HFizHiXqCIA+GA9gCAbHKYieM/vHOz9cdQwDXtp28urnh4zbvGoEBVlZwfaOcxw+HDi/ZwTtuSEKB3fe3r3C0bRr1gIMeKuFGHjOHKB1lJQsZjZyMfySp3uRpHsDgYcf9p8z83AfslUhi0Tix4bRKzqxX+/YEZg2LRoZcV3vfViyqpQ1uOpB598lMDz42mjkXdmbEf/48ENhwLGHWMeBKRJMMC6Zwv/Lg6UAdEyfDrRvLzqjRBboBDzLlQP+7/+AV14BSonp5gvbO4F62e3Xj85A134d8ttPLHMpzst5y/E5c9wFBaDTCkAn4kUXsXTaASxFQ9TFyhjjmOyDRrKVqIdGWIIDiB5KhvzrAnt1H/jnw+vlYenS6DPqtf/j3zuAt//9PbI2xqe98N3CqAYaNvwiEOR6pBGL7wmehZjUDdtzyHumTHE2Ktp1zOeP0QoEzTrA334/dUAs+dxzsKIvpFSpIt5pfL8yLUV9t7nNza+8Hp+J3dXqYfpbDLUpYQFxt3eRfM8XSYDOh4zhRFScFL7cFy2CZQVKA8moU6dO3ty5c1GTsVNGLA14AvTek4BGNsb7gweAYS2B7atdNJgBVKwD/ONR4L2rIm0SDXuP9NnnV2EooJFg4r/TA+xmVwYuel0AjfeEJbnQpMO/gabdgaU/AN9GIh4KbTIFODDPW7KNQQU4/UNuKO5X66uAKQ4xaYecMgpmwQagp07P8sNtxIgVePDBejEfpQxjvuKKeLDs9EGp6+2xAFKXLp4eN7vHPG71pNmn6xDAEMuHHgXoKjizf7wTENIZ4+XhZJ/SG04iKC+vsNeuOAE7u8fYfj/BAUGBBfp0EYU9IZadLlgAtIgA9NmzgTZRUrKYMaWyzj4b+Ogj69LXXwsQ4SfkITj1VL9W+te53DO67sVelLZucgPoC+8djWZDo98qXp5b6xyxAd2TqrWJhiIiqB07BBqj2AE6LRUPPmhd8jM82FfpOac604ETT8y/5eDFl+C7G9/2BZj5N9gAOn9n9MTMJ6dgChzCWmyTI7Gc2m7KV/vR9qKGKLt5ZUz5NnmbCuwPokSc993p+MXtuoNCdlSqh5+ueg4HzxVpGvLZ8ItAYN9y+3zfE8pE3LzU9rlKYsage27vJ8j9XpEX0nhiZ3HPNyQpUTReT1uRBuj2sitcqL30iv6rJiUtM5YsWZLXkKfXSL4GnAG6DRCr+lryPTAmEvfhpUeCe4LWz+/1APM6GxGxxhIENz9HgHMrzD5R0K8ztmYbacjg3D67B9jByIGIlK8NHMgFchRToGa32s1kCgL1Q/n1feCDaP1T7X6KasOLxnqnXjQ+FVj8dVFdXTGcdyqiHzIAcmSUzE7wfVMM1U1DbG4eKg3dgW3btqEiEzKNJE0DXjnobmGdTh+UuvmSVv7gpZda8w/yERuzYAWgP1thEO7cMST/sltYvGzg5uGU1xlarIaph5mjHEOXOMtRz7qI4pZbRPKr6pL77TegZaS02qxZwAknOJ8XOfA55wh3dGRP6APyyhlmdAK3wCm6IezB5HJ7X+YP0KffOBodXo51JrjukdtGyHXffDPwwgtiyi4e9LDrcZ3Tjz8CtBRJYdguF68rdDUz6ZuiHLAZfd5G++f8CQ8uxVt4G0o7ImynfBXbfAjsv0WXOICuPM7OK/DbAxvADPp86qotEXuX7hiJtPOKvDgvbzw+sNVBz88f0LRSFGmAbi+7QkXbS6/wNyqxkCQjL0/3dV9IMyyEYeMBug0Q2+ekC/4u+C/Q6kKAHvdl04A/PgV+eRfYrcmKIsdVwaev974QFMgh6bk+8zExuFzvznUiFD/vIPB6BDinYnpd+gOn9I2mIHAMXSNKKuZTGH0O3iYMN3ZjkDw7BG46RqXCmLsZM7ka6PWheBZmvgosFB/MxVoyMsU7xkcMQPfTUPjrfiRxbsRI9g/KoB708DOGKGLPWE7+kzVgIL477UF9D2TkO84tX1bze9d1+jq5rnZPuqNRQRdRyJmobsX584FWrcQV5mu2jbKGx0zcAaDzuh/h1QcfxPMCJLSfkYCBf3TNRS6yra50PeihN4JrZ9yxjEMmcO7QIS7EPdF1xd1PtryTTor+TGMVUa6uuAB03YiLec9+g+PuUDztHFuDyZDA/h1cGsyD7vcwuLxcfKMidHWltPPjB/AigAsxXKhbPNd9QQTbsOejjwb4jAewkBVpgM4oFx0yj0Isu2IAusORjwPodm+s/R5d8KeGx4f1ep9yN9ClXxR86o7t+mhnAFauapLzwMtWB/ouigXJcg66Bo2gryOvfco3ZHhwAJDQb48Tj0DQiaRBewJ060szYgySxhHJnZCuhp1Uq+7EW4CjzgSoj02LgSk0IqVR5Ekq1q8aBj1TcVIxuE+fJ98NZFcCJt+fvMGbnA78Ndm3PwPQfVUUuoEfQJcdO4Wyqh+UfvmS1gdWPjW5Q5JokBUw4bROHXGHEoocpIswnnGd/nVx9bPPCqZ3t5xRLcYxdUKqG57sYsccI67OmAG0i7KGx6zBBaCzDfeWTNhq6agwocU6OmMb7kfTBnvw16oy1i0qSRz/np+D/t9RyLxGph969K67EbILO0APea581/vDDyLaQUqyAHoQBKoSIyTgQScjvlVpwO1x1t0Dh5dLKp5PP34AzWhx3y1OpIHrulWAyueZz3UAKdIAPcA6C6upAegOms8H6NPGoGKtRrGEcE475Qv+bOHxiYAjew58QmA3Yj0jy/z0l/TO4KmDgB+GAbnb/ds75evzroSNCg5D0yBw50Igy8auojbNN4qIf5rjpExVoF5b4M8v/NeW7i0kQPeaZ1gjUbqv3Wt+NOJI3ga2c4oykPdremILRR2MgDiqO/Dzm/7DOxoGXZ4B/96S1EJ5J/42IbnpJ1d+DLx+tu88DUD3VVHoBroA3S2UVf2gbPXneLQYfKHIZbXXW+JvyfoCVgG6E1tZaG0kfqNuZLpvaDCn4hfva5+uNIIwXF0Sw0ng6bQ0+dHPZH3WGLZJKkCSl4Ynvp2Dcy8razVRPegqizvoJZN5416d6W6E7INsdcwNt5HEJX4ibD2Q0eyUU6I/Jguge50Xew6FCvb27/eknvfKQR//QV5chYWY1erugdbDkJydSIV3Pjkz8+nlUAborFzGmnk6XvQC2Yz4QQxAd1B8PkAPkpvoCv4cwuNDAVSXHPhQfUUWHSbc+ZwXgHXzgRnD/Y+s9NzZWyZioPAa1c0goN7jy7hfhL2pGSWAvANitdSFWmnATW8WR8DdwI610RalKiQYUZGKfGr/46bdwn5OZJQBeRJ2bQDKHQZUqA3s3lT4JIdOiyLZZPsbxRXLI+4WFeLyznBLfWh5ATCtAKt5kCeBHBGJvMPs+qGR7a4/gIcPE1eOvRRo3A3YsAj4XinqbHLQtR+XMA11AboWGZQECamKH5cLXL06yujLhHEd2vEwyglxTwJOQ+fRiChuvRXgmnVFLUxNQKiGVKt9yA/ec88FJkzQ7T117XbvBkiRbgPoTAFYviLyfaYL0HU3Qq6moAD6d98BnTtHdZhMgK77/KlAh4Y0D9cyL99Q7X2M3CRqHapl1nyL0evugfbLJTlHr6ANT0mZ9aEM0BmiQaNsjRpClRdfDLCaWRoRphuA7nDKQwF09uOV8yvJytgusNfbIwfe13tvWyA9zcwNJwCJC3fWLAFXtpoAL37iBZi/HJh8MOBmEFDnqWMcsDynBOppAtab9wRWzvIn+rJ7fMkMfubjAgR5yZ7twNBIWYk2V4sIAteKBA4dla4A5CopEjT8nPFoasoK+p05nes650T2M38i8D5DHxM4Cwy5Xv2THteE59lzANxBDIP254A8GPbUB/b30a3Anq06mgzfhkD67OfE2Qz6DvMblX2rBJQuDPnGg+6nyPDX/QB6qMh0tb4Y61HRkxYgX9J3NSpAZ0Fu1jVKEwkSaaytEtaGkx+nQdeZX7fNVkye/26SfIly3nkFT7DkhJLItB4B6H/0fRVzW18XTQHICgjQdTZCzUG3A/RUhbh/+61VxSBfkg3Q2bH6/DG/nOXk1MNmB+i8x8O1fKDn+fmlzC69TMmF9qPF0tmDZKW9BH0uilp7dc/IKUFuiQBSpEPc+Z4i74h8B5LB/eefgSOOCKCB1DY1AN1Bv6EBOvtyy/lVxwnqMfLLgfcL3bbG9iG60+ojwGG0hxLbwUEqcmF1POiBdO/iCW5wMrB+fmy9aq53+6oACgrQVHrD3YgF7YAkv2ufPZft9u+NehxZko7khToiz+XRPQTpoRPYS7fqAlyXzjlR1z9/PPD+1ToacW5j3z8rncR+tiJ71fFWYNp/Iv2oRgGPvdQ1DOqugO+w968FFoTxftnW5VmLPUOUY4ypRMFJJmAMcVxjZE7Wc0KOCdF/UQDoL730Ep588kmsWbMGLVq0wLBhw3CymmtqW++LL76IF154AUuXLkX9+vUxYMAAXHklK3wIefXVV/H6669jPsmAwEpZbfDoo4+inZJPPHjwYAwh7bgiLMO6lh8zmqIC9IyMesmLTJcflKxTxtJQyRQmRvPDnpJmAJ1TSnquK4nMSJ0eVmTRaJUB7+DBKGgraIDuBAa5n48/Dlx+uXwAgOuui65YniddD7q6EXYgKfu66SZROJ5C8jaGuEujRSKpE14uWrtXORUAneuRa+zXD3jUVhLUCaDzHhXYswrAvHnxhjW3e93OZkAW97BHvNjfZwC6AehF7ZAnBNB1FqvjMXLydHv17ZVLy/v8QD7b+PWhszbZ5v/GAC3Odb4jEEjWGdSjBJ79dt3oBbLQL5gY60m2s+eroPTw9lGQ6wlKdNYj27isSzUC8Zx8eJOHx9tHN2H33E5W6LYs9j+pj17ERRDVhGob4JzY+w8V8REwxPzMoVGw6sa+7xYNoWMYDKKzRJ9RPj+lKwLfDvUeVTXkhT2LWuuKlJyzADolL+0B+rhx49CrVy8QpHfq1AmvvPIKRo4ciQULFljg2y4vv/wy7r33XguEt23bFjNnzsT111+Pt956C2ezJjWIUy63+urYsSOys7PxxBNPYPz48fjtt99Qt25dqw0B+vvvv4+vWJQ6IiVKlMBh9JpqilcddL+SZZ5DFBRAdwIgmmtPZbOk5rqy5hmL0lPIKkcDjJ/3Ul2cUxgEc49LlhStCNxJzV4Q4gfY5LpGjgSuVcqthgHoXA/Hu+IKICcnujp5sLdujY6RLIDuZnxg3XXqmeHc3bpF55JOAJ2zknru1AkgoZ1dggJ0uQcsBahKQi+XgjioaTbGoQzQ7XXQ06wGuvXYmDJr8Q9MygE6hwwbmur1fNuBGx8+5tSytJlOPjL7ln0s+Rb4LjZnM9CrxctLqQuSOSAB6DEXAdmVI4zb/FHTs+g0YV3goXo97Z5he79OwIJpAA1OSqCslab3O8h6GiksrzFnMITHMogXmh76Z5rphXgHOmRBGmvq06vL3yYCn9wVu478fH0Xj7j0ENv79QPUfteDLD1M2yDPaPzXlkihOZCrZ5hRz1KqzwpLMM4dbRm00t2D3r59e7Ru3RoE3lKaNWuGc889F489FilhqeieoJvgmx53KX369MHs2bPxg9NHseXcOoAqVapYXnfpaSdAnzhxIubR0xVS1NDH2rXr4fspB3BgyveojTVo2qU2SnQ5OVx4uvygZIg7PbSudOUhJr5yJaw6wJT77gMcdByi16TfkrRcVzXEncD1+uuDAXS5MjXXd98+oFSEqJXgiQR+qRadslsSoL/6qrMH/bXXgKsDRkkRGMsc+8mTRd1vfvT/97/RMfjc0YMuQ8HDhLj7GR+o40qVgNNOi2o6KEB/6ing7rvF/V5GmjAedPYp72Otdhot7BIGoLMPRibI+fIcMrpIO8cj1QezCPR/KAN0ex10pxro3EJTBz29DrIE6JN/WoJdKIkaFbLRrlFVlMhU8mSSMeVkh6YmY06yj4Q+0AF45fnqgkpJhsUazpRk6Ms3eiGgl9WVCd05rNZ1i+LyZusC0qPqta+6+2TfD51cfLdxySB+92LnEnpu9yQ1hSITKFMpNsXA7+zrRJD49cHrTsD590/c68375f/rjFkYbXSf0WTMTT2bqR6XY7U4z0rJ2L52CSp17I1tQchAk7FejT727t2LsmXL4r333sN5BKIRuf322y3g/C1zTm3CcPXu3bvjoYceyr/Sr18/PP3009i1axdKSs+mct+OHTtQo0YNa5yzzjrLukKATpBfqVIllC5dGjQUMAz+CI/cvNzcXPA/KatWrULz5s2xYsUK1GNeo53gLWxtLSfG3bB92RWoAvR77wWG+kR/aOxjWjdZtw6oVUtMkfn3ZGa3e4V1FqCyZe/dC5QuLe4qKICuSxrGOSUToHN98uOdZ18aJuwAnXXQZQmyoCHuOsYHnn+u68wzo7uVaoDulALiBbJTBdAJxplWQQkS/aFzrg+FNuqenXACMGtWoFUX6Rx0XYOcqYMe6EykvLEE6If3eReZpUV5jtqVsvHA2c1xZsvaSRv/wME8zFy8AQeWTkWNjK1ofERjlGjYKRjwSdpsbB0l+qHs5WFNBCQnw7OYrOgFX5AbH1Ybt12SLMstj9tvf3X3yb4fuvc5jd/uBqB7iOiKZIYw9/pQPCeynnnEK5o/3Qp1gDZXAdUaB4sg8dO32/VknMuwY6fiPt9nNImDXvkRcESEgVjX4BR2eOU5KJBIqZDzXL16tRVyPnXqVCscXQqB8pgxY/DHH3/E9dy/f3+MGjUKkyZNsjzvc+bMQY8ePbB+/Xqwv9r0Ntvk5ptvxhdffGHlpDPknfLZZ59h9+7dOOqoo7Bu3To8/PDD+P33360w+GouOctOeevsa82IEaj1r3/FfzzLD8MgJdIIhuwhrep6+vQBWNorrBdtxQpApg4cCgCdIe3yTDD/njXgL7kEGDdOaJVF1Znr7yeqB33PHqCMqDmOCy8E3nvP7+7Er+uW3eJIyQToXJ8M4ee6pWFCRiNwPHrQEwHousYHRs1IDzjHTVeAzmgCEufZJRkedDeAnrSQk8SPatr1cCgD9LTbDIfHwoS4xyvFCaDLVld3bIAzWtS2POqUmUs2Y/2OPYG97J/PX4MhHy/Amm178ifgZwSwAL3GeLrtPM9n6A90TQ90skBy2IcsGd54XZCrhNXmT5de6PY3Aaf0Tcwg47tPLvuRCBA692XguMvCaZ7zZYm+L/qHu1/e5RQREOEEOFCuBmYeOBrrd+0L/FwmNqlidndSox48dENjS+MIA7HuMxVY1fHPQVEA6NOmTcOJ/KiNyCOPPIKxY8dagNkuOTk5IODm9by8PJDY7YorrrDyzAm06SlXhb8PHToUU6ZMwTHHHOOqUXrfGzdujHvuuQd33nmnYzs3D/qWWrVQ2Y1cLgiVu58nUZ1VWI/68uVAgwaip3vuEeRixVlU1npGD5CDgOzcBLwUn1rWVtiynS2bOdllhVMDTEN4993Ua1AXxHImbgCdXu9rrgk2VxWgc90RAxdUgM5ydAToMnolaIi7rvGBKRlqxEe6AnTqgpEadgkL0P3u88vdD7bjxa+1AehpvacmB91he7wAumyenZWJA3l52Hcgmr9bqUwWrunUCDd1aYI5y7ZYwL16udI4mJeHH//eiJWbd2PTrn3YkbsPv6zc7nowaASoV6UsqpYvjVoVRXj9F/PXYsDEX7Fl9778+0pmAu0bVkV2qSzk7N2PauVLY+32PfhtzXbsyo3Uw/bx/nuC+cgHOleYoeR9O2SAW3OStSxntRuGA03P9k8LcADJuWVrI6vH4yjRoieSYmjwevwS9XrqglwlrDaO6TwZr4cwxg5dIMQ0A3IYkAtgbE8x2053AKcODG9Y8DUqaCjFJUIjjOFLY7RDt0moqIcMkYO+fzeQo1GuTTW26JwNnkVGcHw5IJYcMT9NRI8PIJ0BepgQd3lI9+3bZwFyesxHjBhhEcdt3boVmZJJGsBTTz1lecZJBHcCQxt95PTTT0eTJk1i8uG9bpGhj9vIT+rXuU694iAgLIx3nnNUATq9kU884Tfzon1dZa1n9ADBtgrQvWpZc+VOLO5KzfECA+g6Zbf8ctATBehct4wcoBHghhvE2SBAb98+Gv4eNMRd99zTmMSoDympBugDBgAPPxx7/nVC3AsSoOvk7qsVCIr20xxu9gagh9NbAd1lALqDonUAegHtT1KHaVqjLI6uXRm1KpfGtt37MOPvzVi+eTcUGwPKlS6B609qhH93PdIyMsz5fDTOX/8C6mRszp/L6rxq+Gj/iTgna1rc70P29cIXB9tZbdkXjQ3lSpfE1wvXWxD+tGY10axWRcxYugmrtuRg7ZadKL1mJiof2IL1qIyZB49G5XKlcfzhlfHTim3YvGtv/rhVy5XEecfVxWnNa/mDf0VzBPrTF2+yjCQ0NZzYuBo6HFEtn1NAXp+6eIM1p4yMDNStUgYdG1ePa8cIhrXbcqx5HbXnZ5w8lTWyfSQIoZpfX27Xg0YE+AAhGlv2lq2FrDvno8SiTx1yrL1rrPvp3J0k0U8B7hEaBOc3vTE3rkiXZI54+YrWSU1R8ZtpsbkuDVksv+dYIk5dqULGt34hMMVWisdJKfbnQ9fglCAfQDoDdKqJud/MKyeLuxTmdffs2dORJM5JtZ07d7ZC5cnkLoX55QTnDG3vwA9mH6F3nB70G264AYMGDfJrbl0PBNDVHGa33nU9ifL+IN55ec+yZUDDhuJvhwJAV0P63QA6deHkhXSrg75rF1C+vNDhRRdFw+W1Tk0CjfzAmBNAV2u2JwrQuW4ZOaAC9O++Ex50mZ8eFKDrGB9oWCGRZIRDwtJiIgCdOd1OXA/sV/7utA4dgE5jxfTp8Rvt5wl3Oxpu9/lF3IR5PyRwPNP2VlV/bdoAs2cHmmqRzkEPtNLCaWwAuoPeiytAD3vEMnEQ7TJ/Rw1szQfRB5EJt9/DjhPkvqwMoEmNcuh2dC10OrI62jasillLNkOCbNnX6q05mLdyW0ykA69lZQLdmtbA1px9+HnlNuTujxCN2CbBcY6rX9mqWv3r6u3Ysy/ajuv/ofRtqIXNcOIPlCD389O/RPXyZa3S1+u378HGnbnWuBmKsYDDyvQFRl2wLdtJgkJeV40M7RtVRWZmhtUmv/2O3Thi1y8olbMeG1DF4jNo11iURnLq+6hNU3D09zdb19UIiYOREImb9vVBhewsPHnwqUibqHJkFMVXLZ9C53OvRSkqNCIEyveN/xVblWgPXqpctiSGnt8KpzevZc2nxB8f49j5j6H0bqW+MsncWl6AvEgt8NjIDQH+nCI0aBA46fH/xaSMqFvJO2tVysYP93ZzJXtMecRGkAOerm39POr2UoRPNgFyosa92GV5pMMENTipHWtGxqQ7QJdl1oYPH26FudMbzhJqzAVv0KABSABHMjbWNacsWrTIKq1GYL9lyxY888wzmDx5spWL3jACPBnWPnDgQAuwk/FdSvny5cH/KH379rXKsrGUG/PXCeZJSvfrr79a4+pIIICebA+6OkGdvmV7FaD37QsobPg6ay5ybdT1MnqADPZ2D7pclFrLmr999lksKZlst2MHUDESM3HxxcA77xScWgjSGVYvScM4MtdET2/v3mIeaoi7WrPdXn5NZ9YcS7LU79wJlCsn7hoxAiDvAoUAnaBU5qcHBejsw8/4wDnQe9+9e3TW3Mc339RZhWijsrhzr5Vom5hOEgXo7doBM2bEzyvZAF038iDI+0Ffm0WnpQHoab1XBqA7bI8B6Gl9ZtNqcv/InImXSw6z5qSCdBXkyogCt4kT2maVyMBeNZRBaSyxr4sNwVMfZUtlIjMjAzuVlAf1Bs7/gZKvO0ZCTD54gqcBgmtci2o4Kfc5XHvyERjQowU+/WUN/v3WXM85lS6RgdzIWmnkOLP8Ylx/fDlkVaqNz3c0xMyl21Br9Vfolzk6Zl5r8qphsBKhUSG7BM4/vi7qVy2Hzbv34sVvFvuejYE9mqFquVJWBETlsqWwdbf4/4+LN2LywvXYlhNNIQkSseEF7pMF/HX60WnjqyS/BgHKOR747UNkvsePY5kAIzuPL3sXN/cGlVBixY+CCNClVGQi6013gE5N0XtOUL1mzRq0bNkSzz77LE455RRLiVdddRWWLl1q5ZBTFi5ciMsuu8wikCNje9euXfH444+jadOm+TtKoL6MwMwmDzzwgMXeTrnkkkvw3XffYePGjVbtc3rZyQxP772uSIBu5aCTLdyJwCmIF8vPI+Y2MR3vvLx36VKgUSPxt7vuEqClOIu6Xp4JEuS5AXTqQf2Y/+IL4Iwz4rWzfbso+UUpaIDOMenZ38hIOYja4CQM3LYNkOSGqQLoNEzIyAE7QCcolfnpYQA610KQfuWVAD31UtSa3598kpgHncYo8i5QWCpPss7bd7ioAHTdiJsg74fi+C4wAD2td9UAdIftMQA9rc9s2k3OC+T6gfN0WIxbJESHzAV4p5Qtz8xhwpfsvR/TDzZHzfIlsW5nFOAmurbCjNCwz71c7oKhYAAAIABJREFUqRI45ajDcEWHBla0xozFm/DenOVYuHYHdu7ZZ3FLqAaWSmVK4ppODXFkjQp46JNYMsgqZbPQoVFVlMoS5QOZUlGzkkg7WbR2J3bu3Yeja1ZEy7qVLF4JGhFWbs3Bh/NWx6R82Ekl3fLvaZSoUq60K5llIiDXK5VBzueYHd/FGYFgK3unwx1gn+eWXXvjdOtEtOm2vqIA0BN9hgrrfgnQQ7G4u7Eu+7G4Oy02iIdMBawkw3v66cJSX8GM+/ffQOPGYiyundERugCd+c4s62VnzCcYrlxZ9ElGeEk4VzArigXo0ii0aRNQvbqYgQrQ1aiARD3oNExUqCDGUAE6yyHSg54oQGe/110naqxT7DW/J00Czj47quWgIe4qQGepPIeSjJF/rMQYYUPc27YFWHbRLsaDXlBPSOw4BqAXjt41RzUA3UFRBqBrnh7TLF8D6QQmk7Ut52ROw/OlXvDt7ra9t+Cjg9FSUL43mAZJ1UD1ciWRXbIEVm6NVoTwGiC7ZCY6H1kdrRtUxU8rtuD7RRuwa280daNMFqyohHLZWcjOKoHDKmSjTpVsVC5TCpt35+LXFduwZ/8Bi4jy74274tJHSmdl4NSja+DT+etcn496x3RFz9YNrMiHxet24vlv/nKdMnksKpUphdenL4sxUHit8YVLjrOMEmN+XIIpf2zE3gPR9UkQ37F+OavWdzrWQU/qASmEzmJyE/lBbq+vrXr/1Pn5sS675cY6ffDbGcb99LBkCSBrvQcF6OlSyinIPP76CzjySKEVrp1pELoAXerSzpi/ZQtQVVS4CZwH7bc/OtcJxAnIKRKg06NOzzpFBehkqZdANFGATsOEDO1/5RXgxhvFeATo9KBLArmwHnT2xbB5gn91bVInH38MnHNOVEOJAHS1ZJzTc8Xf0h2g6+bu89yzlvqhKur7tHVrYM6cQJowOeiB1BW4sQHoDiozAD3wOTI3FEMNBPWgF0MVmCUVYw00qQR83f8sA9BTsMdxH24kDJM1se3ePzm+Tq6tVx102U9YFncVoLP+9zPP6GnGz6ig10virYLO488/gaOOEuPSm87wfgI7mTeupiW4RS/Ydb15czScPGgedOIaEGNzDiqI3bABkCUGVYDOUG5J3hYGoKtneuvWaGi/CtCZfkKALgnkUgXQP/oI6BmpssK1JwLQ1ZJxbgDdqVycDkkcK0bMmhW/0zoedCfjkxqKb0+jke8T9Szwz2HfD8k4n+nWhwHo6bYjMfMxAN0A9LQ+oGZyhacBPxI8NQedpIFGjAaKkgYO5u7GimEXGYCegk2LA+huwE+O7ZdjLvPVyTauSrNmAOus03Mrxc0777dONeS7Tx/g2Wf97tAj8CqIUk46xg37PP74Azj6aLHGxYtF9IDTPunuDQ0cBKoynLwwADq99/IsSMDmBtAZyi3J2+z10f13XrDUS6MTx5Sh/cOHAzfdJHooKID+4YfAuedGZ50IQFcZ6e16kIAuLEB3Ywr3A+huxqeVK6MzdOK54H033yzeEYm+H3TORFFro+r9+OOBud78QfblGQ96ajfcAHQH/RoPemoPnem96GggGSR4RWe1ZqaHkgYMQE/dbgcG6Lqsy/Ypd+kC9OoFXHutuELyslNPDRe2SpDapIno5/bbgWGC/NNVggDXVIbRhp3H778DNHBQGO7OfHQngK67N/QO8yNfRjmcdhrw+efh9iLs0axSRRgJKBKwrV8P1KwpflOBeG5uNDc8UYBOrz3HptgBOvOuJcN7qjzoEycC550X1VoiAF1lpLfvQ6IA3S2M2gugexmfVFDuBNA5fzUyhpEGZLtP5fMY9uwWxn0GoBeG1rXHNADdQVUGoGufH9PwENBAUSfBOwS2yCwxhAYMQA+hNM1bAgN0XdZl+/jduglwfvnl4ooKlDTnmt8sKEDXBa5BiOqCzpntw8yDoH7sWODqq8WIBOtk+3cC6GH3hv3ac9TDrC/IPfRiMx+cIgEbqwjUqiV+Yw739deLPycToDPvXebesyb5v/8txuDeE6BLhvdEADrz2hk+r65N6saegpAIQFcZ6e26TxSgu3lpw9YzV+fnBtDpZWdUDYXRFDLCI8i5Kq5tVb0fdxzw00+BVmo86IHUFbixAegOKjMAPfA5MjcUcw0URxK8Yr5lZnk+GjAAPXVHJO7DzYt8jNPQBZn2KZ9+uqhxTRI6CkOO6UkM4yFTSdNuuw147jlvBekC11SXcgo6D6dwYQLYF18U+rPnoIfdG2qvoPN9WeKNjOoqiGV4c+3a4jcC3BtuEH8mGZokbwvjQWcZuXffFX2RiE6WcisMgP7BB8CFF0bPa1CA/sQTAJn5KSrhnf0JkPs5aBAwZEjsVZ0cdDcQ6HZvkLOnA9BprJF8BKl7/RWdng1AT+u9MgDdYXsMQE/rM2smZzRgNGA0kLAGDEBPWIWuHUiAvvrdd1Gbuc8MQ5clt5w+pP1YlzkSPZSSAEyOzA/+5ctjfw/rtVUB+q23As8/760gXfCQTh506o9Azr4H8kO9Y0dg6lSxbtnGL4Te7xgFqXfv15ffdTKp0wOszn/NGqBOHfEbw8/Jhk4hGZokb0sUoKue2ZdeEnnPlP/9T3jQZQm2VHnQ338f+L//i2onEYCuEt7Z9V3QAF3X+KTut33O5K2oX1/8unp11Fjjd5YOhesGoKf1LhuA7rA9EqBP/mkJdhzMskr7VC1fGjXKlwYygPXb9+T/VqtiNto0qII5y7Zg7bac/N+XbdyF139cZpURklK+dAnr37xdew/k/1Y6C+jeojbqVC2LDGTgxMbV0OGIavhi/lrc/+H8mLJCVcuVxINnt0C1CtnWWBt35mJrzj6rT9ZdZsmkb35fj9z9eXGrIoVXZiawP1ptCCy3dFGbeqhbpQy+WrAOc5ZthXI5ro+aFUph515RXsmI0YDRgNFAUdaAAeip2z0J0BlsXJGAmQzh338vBnTzdLnlmgadZlivrcpqrgJ0t9JlfkaFggKmuvOQeeYqsZaqW86XHuXdu+P3KUwNevu+pdpQwfEIhJlDrZ4zFaDTuy1LoHGdMjecAJ3h/jyjbE+Pu73Gu309qgedee6ylJsdoJO5XJZgSwSgk3iOBganZ4iRDyStk5IIQPdKE0kUoB97LDBvXvwTnUoPOg14DRqIMQnW+T4yIjRgAHpanwQD0B22RwL0ROvjHjiYh5lLNmP9jj2oUSEb7RqJ+qD230pkZjgeEqf73drKDnjP9MWbMHXxBqzeuscC3x0bV7dAv9/YvPeF//2F16YuwbacfflzomHg4Z4t0f2YOpBzmrxgLSbOWx1jQOAyyOwtpXRWJkqWyMBOH0BfrlQmMjLc27FKZeMa5VA+OwtlSmahRZ2KWLhmO2Ys2Yy9B+KNETpPXMOq2WBp5NXb91j/N2I0YDRwaGnAAPTU7XcMQOdHoA6ZE6dDIMicckn0FXaKYcCxCtBvuQX4z3/EfEgYp4Ja1UMfhj097Jq87tMpKcUIhK5d9Ue37xkt/IlIqkP9OTfmepOFnCLnT69p3briNxWgs53MDSdonzTJfZ+d1q0CdDV0mqkCPD8UetALAqAz1J7zkZIIQFfz6e3rThSgH3MM8PPP8dr0y0FftcrdsCd7czP8LVsGNGwoWi1dGgXriZzl4nKvqnc344nHWk0OemoPggHoDvpNFkBP7dalrnddw4C9nYwkcDJIqNEFMhKBEQB2w4UaGaBGFDgZJpzGn7VkM378e6NlKFi3fQ++Wrg+xthQu1I2Hji7Oc5sKXLSpEGD9zA8gkaGN2YsjzE8lMrKQImMDOTsiyL5KmWz0KtDA2sc/lelbClUrxCNsli7NQcf/bIas5ZuwW4lYkK9b9G6nfjhr40x1912VdpwVAOI3wmg2Sec+cKvZ3PdaKDoa8AA9NTtYQxAtw/j9iEt27G82Z13JmdyQby2ixYJojQKQ5RJQOcVDs6wYobvExyTpI45zVLClnpLZNVOxgR1HkHChTkPdZ8OHgyX16+uJ8hehNUDPeL2CACCO+k1pXdblkCjp12GnjuN5xeJoZZZY567ZIpXAfrXXwuAztx4Sqo86OPGAZdcEl1F0BJ3ag66F5FaQQN0rihRFneCckbwUGQ5wbDnq7jdZwB6Wu+oAegO23OoA/S0PrEBJ6drbFC7TTTywa8v1digjlW9nEihoOFC/bNqxGCEw6ipS6zUBinlSpXAKUcdhsva1UdmZoZ1v7yH/Y+ZtsSK2tidux/VK2SjTpVsVMwuaaVD/LxyG3KVvIfKZbKsNIidufvz+6+QXQIXtzkcn8xfizXboh+hlcuWRF5eHrblRNv6bU9WJtCtaQ1s2b0Xv67ejj2K0aN0VgZa1a2EelXKonblbFQtWxort+zG+J9WYcee6Bj2SA32ScXtD2K9iEzU614vA0epEiLqJWwEh5+ezPXUa8AA9NTpOCGATnI21iFPhgTx2qoA3cmjqs7H7qFnDWrWoqYQiPqFR8f8I3EgWGi1l14Y7p6VJVqQ+I2ef0mYp5szL/tXAbrar7zOcHgaJfwMLmGiGcLuPXPKmVtOkfNSWbwJniXDuh9At/5ZyRDgnqW67MSDzPmmkYbCsHjJFG8H6Kz9LWukJwLQOW9GAKhrk3oisR+95lKCAvTHHwfuu0/crYbr2/dBAroHHgAGD469qkMS16oV8Msv8bvrdS9bE6STfV/loGBKAY0JTudVHUEF6IySkaUUw56x4nSfAehpvZsGoDtsjwHoaX1mD/nJhTE6uCktiDHCr63dqMCIChnRQAAt+RWkgUJ3HUEiNWT0hjo2cTs5GrbvEXwNMtqB/BEy7YRpITKKQs6TOqNhY/WW3Zi3krV1M9CwWln0OrEhSmVl5qd7qNEh7PO4wyvjjelLMePvTVi7PRe1Kpa2oit25x7Aqq05yC5ZwkrTYGQFIxxocDj+8CqoWTE730CzeN1OjPpxaYxhgqkmPY+tYxkwKpctha2791r/37wr1+K6WLV5NxiV8ef6nQiZ+RHq2crKAOpXK4uqZUti3sptMTwXoTosoJsMQE+dotMGoAfx2v7xB3D00UIpPXtGAbeXmmT/KkD3A6xqf34h9GG2SH50M6xbDc3XyVXPzo4HuJzDvn1AqVKxsznxRGD6dG+A7ueFDrM+r3v8APoLL0QJ3EgmJ3PD/ebhdI4YXUH2dIpKPsYxyGFA+eor4UFPNUCnIUqWGuS4QQH60KFAv35izmo0gF0viQL0li2BX3+N17YfQOcdd90FPPOM+07p1EGX5QT99tv1gymJxrSwc0jmfare3dIPPMYzIe7J3AyHxyKPLjAjMRowAN0cCKMBo4HC1oCuAcM+TzceirYNq1pklqoRQ/6dxpWDeXmWkUJyV3RoVM2KyHAjxVRTWVSji+TAWLUlx+KWYDTE+u25cekmZUtl4p8ta+GkI2vkE3AyNYTGEEZDbNi+x5rTn+t2unJFMJChfpVs7MsDSmZmYsmmCMGVxuYZgK6hpJBNCh2gh/Ha8uO9WTOx4tNOE+DKT6SHPgxAT1X+uvzoZjkp5kar4jemE4s779+7FyhdOravCy4QQJDRBqonU21V0KH+0qvPOchPW5XFm7wCMj+c5dhk6LnuPqvtVIDOMHrJFG8H6PSgV6ki7kyVB/3NN6OlBjlOUID+2GNA//5ijmo0gF0vhQXQdUgK3aDM338DjRuLlfz2G9C8ud9uO19PljHNjXQy3KwSu8sA9MT0l+K7jQfdQcEGoKf41JnujQaMBg45DYQ1OFBRXuSXasrI5/PXYMjHC2JSMcg7MbBHM1QpVzqm+kXurl0YeMEJSJQM9JDbSI0FJwTQWd6MxGwUO8Gcxtiha2+rAP3ss4GPP/YfTXpW6XH/6CPRXsfn4Ve6LIyBQc5WfnTTa7tlS/waCDRY9k7marOFrINOsjHmM9vXodYMlz2edJIIFydLtgyPHjkSuO460aJLF2HkCFOT3l/zzi0YAZCbGzt/lcVbBeis9y09237jOXnQaaCgLimMVJBEdBzjttvE71x/69aiRCAlVQD9jTfEnkoJCtAfeUTMjeJViswO0FWwyTGluJXxa9ECmD8/XtteHnS/Z0X2tn+/81lj3rkMa2d4PcPsg4qfYUvyUfj1myyQ7zeO7nUD0HU1VSjtDEB3ULsB6IVyFs2gRgNGA0YDCWtA1xBg3vMJq9q1g9As7uzRDtD5mxvo7dxZlG0i2JIS1mu7cGHUu8Z8188+A9zYo+0A+pxzooBeB6Dr5oMHCdGX65cf3Qz3lozm9p0imCOok/LTTwBrypNozAmgqzXDvY4NARBDZSnM0SbgL0ihl5/efgp1R28w9SHzs3m2ZPg5KwVIz7bbHL0MJSQInDBB3KmW71IB+uTJAD3oyQDoJC4kyZ3T8zB2LHDlldFVBGVxf/hhYOBAcb9qbLDrRZ4t5p8T6NorHMj2yQToiT4rLC945JFiZvKcBzmTfgYCXWNaskB+kLn7tTUA3U9DhXrdAHQH9ZsPt0I9k2ZwowGjAaOBlGvAvOdTp+IYgE7AfMQRwLffOoML+zRUgM4cXzcQwPtYu5p9S3DBMN0HHwzntVUB+r/+BZxxhmBxtwMip7xqetxZpssJPDmpWZdRPQjJnRxHzo9kccwdd5LevYHXX49eYekrAms3gK7WDPc6Nk8/LXKFKdQd63MXpDBP3m3NnAcJCKV3m9EFEjjzmj1awy9//rzzgIkTxeropec5p6jnlwCdHvRqosxtnAc9SLizF0DnXnJPpQQF6HxmSPxG8aoVLnUiGezdjFF8bmnAsJ9JhpczzNwuKlCUhhVZi55GHtU773ae3J4VtXzinDliP4JIogYCjuUH8tmGZIQktCvIiBNV724Efh66MjnoQQ5S8LYGoDvozHy4BT9I5g6jAaMBo4GipAHznk/dbskPtzUjRqDWNdcA/E8CQj8Pswpw2NaJQVxOvXt3oF27KKP0a68J0B5GFiwAGIJLueEG4JVXnOugO3nogwL0ZHz0u63RDnacGOXpbaXXVYofQNdhPGdfLDUm894LA6AT3LAknJvwbPCM8Ex9+inAyAcKIyaYoqDm7PtFYqgAnbW269cXfann98svBSCsXl1cU0Pcg4Y7ewH0MWOAq66KrjooQB8yJPoMqWux61GeLZLrMYffTag7lfle3keOBz5nbv3afydo5d5I44HXc+0WbaJWZ5g5E2jbNtjbIRnGNN3nnfswaFCw+SXSupAA+ksvvYQnn3wSa9asQYsWLTBs2DCczPeUg4wfPx4vv/wy5s2bh9zcXKv94MGD8Y9//CO/9ejRo3G1w3s/JycH2Ux7KaJiALrDxpkPtyJ6ms20jQaMBowGNDVg3vOaigrRTAL0lXPnou7xxwvwQBBBsZfv+v57EYosPWYsUyVz0GVb9UPSPh8VLBBUE1yHERWgExSMGCF6UQ0EAwYA/Ii2e7nOOgv45JP49bnNQ4dR3a28l9fanMi02A89x6pH0x7izjSBY49196AHYTyX82OOtixDFmY/gt7jZciRfTHn/NVXgTvuiGW45+8Ez337ipYE74yg8PJmqsSA9Hw2aCDuVcsEugH0MOHOJLfjs2F/hvj30aNjDVNBAToBML3oFHUt9j3weg7tbVXAHBagy6gGRiBs2uR9Itxy0NXqDD/+KAC6/Z3jtc+64NorHUUX5HOF9uiDoM9BkPaFANDHjRuHXr16gSC9U6dOeOWVVzBy5EgsWLAA9aWRS1lDnz59UKdOHXTt2hWVK1fGqFGj8NRTT2HGjBk4nv+2WMd/NG6//Xb8wb1WpJYsfRhEJ2nU1gB0h80wH25pdELNVIwGjAaMBlKgAfOeT4FSI13mA/Q5c1CXHkQngO7mQSQwopdTBSK6wEAtoxV0eQy9ZRkoigrQ+Xc5Pj+0GQZul6AAnfeHAWleawrSX9Ac9CCEanKONAjIMmRB9yJMe10g5da3GuJO73CFCt6zUIkB6S1u2FC0twN0ggjW7KbQCMD8bbZVS+CpI7nlNHsBdD4v114b7SUoQGeKCPPQKQwVp0iDmQpedZ9D2Y/M/Zf3sYwhU0lU8TOs8F6mIvgBdLfIHJX8kWR4rCWv6t7JgGWfH/dLl4/C6dQEOZv26IMwz4LuPYUA0Nu3b4/WrVtbXnEpzZo1w7nnnovHWE1AQ+hFv/jiizEoEm1AgE4gv5W8EsVIDEB32Ezz4VaMTrhZitGA0YDRgHnPF+gZyAfos2ahLutAM/yQXj4KP6S9wKT6oa3jQVdXxhzoO+8Mt1YVoJOJnJ5WKfJDlgRqzL+1S48ewusq16c7A+qB+bWSeZz3+YVWO/Xtl+NqB31XXAGwNJeUuXMBAkm3HHQdQjX7vAoaoAfxUvrtDw0SfjXSVWJAlvJq1Ej0qgL0L74QemXJOwoB+qmnAl27+s1AkNyRCV+KF0D/73+j7PlsHxSgc14Er3axg9cgAN3Jg960KUDArIoueGVahsqbYJ+rG0BXuSWctO7HNcB75PvK/nyr7wUaYdRIINWw4fd82ucVhhzS/0TFt1D3061GvUe/QXPQ9+7di7Jly+K9997DeUwRiQi93wxh/1bylHiMefDgQTRs2BD33HMPbomUTCRAv+6661C3bl0cOHAAxx13HB566KF8D3sY1aTDPQagO+yCAejpcDTNHIwGjAaMBlKnAfOeT51u8wH6zJmoy5BS5qCPGiUGZCiqlwdRnVZQgE5yt+HDwy2M5Z9kCSZ6I1kyjMKcZvmxTdIzSRynjhIWoLOPbt0EGKPw/045434r0gU58sP/8sujnlL2Lcmz3AC6nVDNbz68zg9wWYZMp32QNk7kagxb1gG+OuPQIOFXI10F6CzlRbJCyrBhIoSe4gTQSZQWhvTMC6DzrDLqQ0pQgK6WjFP1YwevugDdLQfdCaDrGlbuvRd4/PHo7HiW1f12A+hq6orb3rtFLajtnSJ+uE4+M1yDn1dep5a7HC8MOaTOuba3SRJAZ3g6wbGU0qVLg//ZZfXq1Va7qVOnomPHjvmXH330UYwZMyYuRN1pScxdHzp0KBYuXIgaEcPX9OnT8ddff6FVq1bgv+vPPfccPv30U/z88884UjL4h9FPId9T7AH6pEmTcNddd4FWl3vvvdeysviJ+XDz05C5bjRgNGA0ULQ1YN7zqdu/fIA+fTrqtm8fC9DtH9Ze0wgK0C++GHjnnXAL+/XXaIkwGhTolSQQ5HxPP130SUZplg+zC8nqWJaN4keCZ7+XHtX//S/cvbIvXZAjP/ztAH32bFEOzA2gM7xYEp3papfkfTNm6LYWutbJDXZLjXjmGefoBv0ZRFvSIOFXI10lBmQpr8aNxf0qQP/8c+FBJ3kehRwGp52mZ0iwe1FZHo4pHE5njNEeKvdCkDro1DvLzZFnwEkkeGV0ilP0iNM9bizuRx0F2PKEoWtcIjgnSJfC50wFmG7PnRrR4HcW/DzXajg+3xH//KfQiVtZOXt9dJUt32sufvPwW4fu9SQBdPtwDzzwgEXkZhcJ0KdNm4YTTzwx//IjjzyCsWPH4nd7dIWtg7ffftvCcB9++CFO43PkIsR7DKM/5ZRT8DxJG4uoFGuAvn//fjRv3hzffPMNKlasaG0YiQWqqqU1HDbOfLgV0dNspm00YDRgNKCpAfOe11RUiGb5AP3HH1G3Q4dYgE6QqONB5LhBATpz3elN1AF69nXZATq94vYSbySrInmcSrjGfgoboOuCHDcP+qxZAFMRaOCQtctV0LFxYzSPWvc8lCkjQJ9O2ShdRnO/PPugxhG3tWze7F8jXeUdYCmvJk1Eb88+G02zIEBnfXlJViVJBsPkNHsBdJ5JRo9IoXeSIes60Ri6Z4ch3Bs26O2+G2ClN5Os6qro5KAz1J4EeZJ1X74b/AA6+6ZnV2Xn91qBjudajkmwTb0H4RLQCXUviHJr0himRiAkEOKu60FPJMSd5HJkamd4fA++m33k+uuvB/8d+kwaTv1uSMPrxRqg00rDcIgJEyZYqmeeQ4cOHXCpJK5w2RDz4ZaGJ9VMyWjAaMBoIIkaMO/5JCrT1lV+mbX//Ae1CGpZ0kt+KKXSg07gzFJKfuGmTkv/5RfBZE7hhyuBixPg4we63TNGTxrBmAQOQVSbDA96UFZ4GkjodZciy0+5AfT166Ne4CBr0/EE+oFuqWs/cKOSvLnNkWHrJIDzA/KMGPBx5EBNayDolKG0XgC9f38BnP1ymu3ni+vxAuisXnDjjfGr9iNA4x260RdB9t0NoNOIQWOGXdxC59UQe4ZM0ygiRceDrmt8kH3qnFc5J3rQJZmll27sffqFursZAYPo36utkzGM7Rmuv3x5oFGC5qCzc5LEtWnTxmJxl0JHas+ePV1J4ug5v+aaa8D/k0zOT/Ly8tCuXTsr5P01nT3y67CQrocC6PRMM3zhzTffxNq1a1G7dm1cddVVuP/++5GZmZmUpXz33XcWuJ4zZ45VK48g22ljvOrpvf/++5gyZQpeiIQFsb+MjAz0laU0XGZqPtySsoWmE6MBowGjgbTVgHnPp25r5IfbNgAV7cPIHHQ3VmS1PT/C+V8yviv8yhepAL1sWWD3bmcFOeWrsiYvS2pR/MCfvVeGan79tfe9OuHfukCXI9kBOkPRGZLuBtDpgQxTssjPI6kDumW5ubA55izv17u30C/J8d54w//gM2KAQMlLVIDOsG2Gb1MYan/XXeLPNErRg05GdEq/fsCjj4o/u+U0M0TeHqFBPTG1IuJssngc1MgEhrerpIZy3joEaEFBrL/23EO+mQbAdAC7uAF0lTDx44+De9CDGB902dPlXLkf5KTwE6dnwCuXX2fPnMZM5B0h+/N7R9rGDQPQZZm14cOHW2HuI0aMwKuvvorffvsNDRo0QL9+/bBq1Sq8HiEEJCi/8sorrbzy85XnokyZMqgU4YkYMmSI5Xxlvjn/XWdYO0PmmetOoF5UJRRAZ77As894ISwnAAAgAElEQVQ+ayX1k+5+9uzZVujBww8/bHmp7SKVVLJkyZhLzDdgXTunWnUMS+B9DEu/4IILHAG6Xz09hkKQFVAF6DQgMCfdS8yHW1E9zmbeRgNGA0YDehow73k9PYVp5QnQZektSbamAlq7F5TXVJK2MJOR9xBwEWi6hVz//LMAU7qiesZSCdB1w78l6CPhlypOrPCMIlRz9f0A+tq1UZCpqx+2U3WUCLEb+yFDtm5qhDrHp56K1jfnBz0Z2u3CfPM+fUQJNApDuf1y7tW0BubOkgCNYgfojMqoU0dcUwE6/24P73aq5e23/+yDc3UrMeVHgMb7uf6dO513lvezf93wdvbi5kEPAtAZicCweoaoM1R/0iRA9Z4m24OuC04T9aBTP35ke357Zt8pvzMiz5ofOaeukSIyfhiAzlvpWH3iiScs52vLli0tPMl8cQqdvUuXLrWcq5QuXbo4srv37t3bqn9OueOOOzB+/HjLYUzQzvrodCKree5BXlvp0jYUQD/rrLNQs2ZN/JckKhEhiCZ9Pq0WqshkfVo23nnnHZSI/OO4aNEidO7c2VIs6fK9hF5vJw+6Xz09pxB33nOZz0vefLily/E08zAaMBowGkiNBsx7PjV6Za+eAF1+BH74YXyON6+xDrr8tiA4539ZWcmZ7JAhQKR2blyHQQG66hnjnCdPFl0G9aCTgO6rr5zvDeIVlwtSP/7dWOHtAH36dMaeunvQV68WQCmIZGcL0MdvPjcAQSMNPcZ+Ql3TC50slnb7eCwDSJ1wHykM6Ze1y93mpqY1sJQXa3xTSKYmozRZeo9GHwnQ77sPsNd6lvtFPRGgq6Kz/wzF19GLV/i2Sninjq+WESMzPaNedMQNoJPpnoz3dvEDrIyi4Hf7E09E79QB6Do56NQ7jVVO1Rmc1mrPQQ9TH91vvXJcPwOXfLY4dz+iOt1ICZ0w/8j8wgJ0nSNk2gChADop7hme8OWXX+Koo46yqOzPOOMMDBs2zDG/m8x9tI4QHBPAL1myxALnTPR/hbkzPuIE0HXIBhiK36xZM8sSI0niSMdfzSV06cUXXwT/Yx09GhC2bdtm3WfEaMBowGjAaKB4acAA9NTtpydA57DyI1D1IA4cCDzwAN0rwG23icnxOgG6Lfou9My9vOjz5gnGbV1RP2RTAdCDhH+rUQF+xFlcn8rWzr//+CNAMj+3EHeCEIKkIELSOZLP+eXc6vQpDQ1+5GpBjSNybHqQGfouc5wZaSFrl7vN78wzRRk1Ckt5NWsm/mwH6PSgS+MGWciHDo3tUe4Xz/jevdFruvtPwM/QfT/xSjdg5KsT27UafREkXNwNLLJWPGvGS3EiK3NahxO/gA5At++HU99ulRnc9Cn36+GHxZ67RQLxficuAf6uC9DlnnlVLrjzTj2iOq5TJwLFLy1F0YsB6H4PXWLXQwF0JuD3798fjz/+uOURJ6Bl2DtzB9xk+fLlFkhnnsCPP/5ohS0wPIHg20+cALpuPb2PPvrIyjmnJ5+e+hvUUhQuA5sPN78dMdeNBowGjAaKtgbMez51++cL0NWPQPkNQABA4Pif/0QB+r59wjNUqlTyJuvmIVIBOsdTwZI6ulP4qZcX3G/mbveG9XjpAHQViHN+06YBLHvkBtBJukewFkQIdidOFORyJF1zE/ILSK4Bexu7rv3I1cICdI7L3HCSuFEY0i9Lo7nNWwXov/0GsL45hSH1d98t/kwP+jHHRI0bXgCdJGh79kRH091/hoLLuute++PlGaVBjM+dKvboC3IylCundwJ0ALobWZneCOLM6Jz1n34CWrd27lU3rN3+/PPvDz0E3H9/MC4B2Y8G7rGaMrKGKRluHnLd8869pCQaaWHTogHouoc1XLtQAJ2h6nfffbdF4sYc9Hnz5qFPnz545plnwLwANyHxGz3nRxxxhFWQPkszbM0LoIetp+elLvPhFu4wmbuMBowGjAaKigbMez51O+UL0FWwID9WJWhXATpBMj9CCV6SJW4eIhVYeY3F+do9Y4kAdDfvu67H0r4eHdBiB+hTpwIszeUG0Mnu3KBBsB0gQGdet0e94pgO7V5SN7IsAjsCSjXcWnp67fn3QWZMTyTzxynMdycpnlPePK+TsI5zYGk+yvz5QIsW4s/qOfrkE1EZQEYfMJ2T9bxVketkWTqVmFB3/+n5v+WW8DnonAvvZxkzVezgb9cuoHx5PY26AXRGQCxZEmWx1wWYTqPqAvS5c4E2bZznHWZ8uV8SoLNnNRLoppuEscOrvKAuQGeExrXXunvI9XZD7C/z91mG0oucs4By0HWnfai3CwXQDz/8cNx33324+eab8/VHgrg33njDtdD8unXrLHDOkPhZs2bhwgsvxH/sFjuX3Qgb4h52c82HW1jNmfuMBowGjAaKhgbMez51+6SVgy4/YOXH6ptvihBMFaBLjyLzmZMlTp5E3TBstxJIOkzsbvN3A+hkdtcBt/b1UK9MC6C4AZCLLoploP7hB6BTJ3eAvmwZQHAVRMhyzpQBhgL7CT2EzINXy+M5kdvJflgqLcLgbPEV0DHEdesCH6f5kCBOksQx555h/wz9Vuck0yPtEQH0YtMYQbEDdHrQZfQBPetqHjXbyzkT/LJuvBRdDzr3n4zXo0bFr8rNyGFvyW95peyV49khn0CFCn476Xzu5Dxo5GEOuh9Zmc4ozNdXnXxuZ33OHIDpFk6SCEDnuWZdeylyjUxxoLHHS3TPKT30Os+Pjr7YhufXK5olYESB8aDrKj5cu1AAnTncBOQ30VIUkcceewyjRo2ycrftsnHjRiuknURxZFb/888/rb/36tULT/Fl5iNeJHFB6+n5jcXr5sNNR0umjdGA0YDRQNHVgHnPp27vfFncZbkctYSaE0DPyRGTpHcxUXEKTWeffrm+6rjjxgEEt3ZJNkB38hLbx3RbD3OZJdmYGwBhiShGAUihR/ikk9wBOr2eJPjyE1bIIUChkOWcocU6AINAhOBYAi7m9tI77eaFVMEiy+O1aiXG1AU+9nUwB50AVebosmQZ0yF1AZwaVfHkk4AkPibzOAF6/fpiRC+ATr4jlWE+SG175o87gUIvI4eqA37LDx8eqxX72lWjiN85cPOgE6CTeVsn1NpvDOb1q1EUTgz47MMA9KgmZZSKUxlJ6lM1RvnpXyEDXbFiBeoF5ajQ6P9QbxIKoJMG/6uvvrII3hji/tNPP1m53Swkz7x0VZj7zTp0ZH0nE3upSC7Zr7/+iq5du2LAgAEWk7tddu7cib8i9RJJmc/webavWrUq6kdedn719MJurvlwC6s5c5/RgNGA0UDR0IB5z6dunzwBuvrxroaGMlT38suBF14Abr1VTI5htfyo5AdlIuLlSdT1VHJ81j12Yns+9VTgf/8TM9QFdXI9dg+6G3O3un6v9fAbi7n7XnOxA/TvvhOlrNxC3EnsxRJZfkI2bPIIUAjQCRp1ogCYa0sdynWRUZ4edTdRwSLZ9wmCKWEB+pVXCgZ3SbZGxniGueuKaixhmLwbQCe7OwG8017SSLBlS+w1HRZ3GrvU0m6yBxo8aPigkcOrRjavMfyZxgRV7OeYxgPOUUfcADq/3UmSp0NWpjOO2oYA8bnn4mvIz54NtG3r3FvQZ1U9Y24edO6FEyeAugc66+e+kThTRnX46cOeIuLWnu3sxiC2pVGMZIcBxHjQAygrRNNQAH3Hjh0YOHCgBbjXr1+POnXqWOztgwYNygfg6lwmT56Mk08+Gdm2MDXmrtMbz5B5u5B5nYDcLmrtO17zqqcXQh/WLebDLazmzH1GA0YDRgNFQwPmPZ+6fYoD6CrpmvpRTCApCeDGjBGeRnrY+GcKQ35JIqZLTuW2JJaiYrgyQ1LtXlndXF/27eZB79ZNMNNTgn70qzXU6QXUCf+1gxH145/h3n4AnUYGWY+ec/72W4B1iNXQd3Ud9C4rKY2uJ4f58BJ8sAzZxx/7k8SpzPq6AF0Fi8kA6CSIowfRg0NJ62nhGZg5EyAZHIWgl959mb/PCAN71KhcM8+oU/gxQTq9+eo1+/6rXns5Ud533nnuJe4IZin2MH55v/0cs856lSpaarAiOBiVQSOHWh6P3/oMx0+GB90+EzejFSsJtGvnPO+gzyp7keMEAeiJEOLx+di82fm9Ig1D0igQ0AMeoxQD0PXOdgG2CgXQC3B+hTKU+XArFLWbQY0GjAaMBgpMA+Y9nzpVxwF0hqjLcHX1ozg3F5CGewIUfoiqQq96z576ua9+S3LysgXxoEumefs4BBzshxL0o18F6AR4OuCFHucuXQQIYj15pgds2BC/ere52AE65965szNA1/Hoy5HHjgV69RJ/I0Ani7lffr+a9+oG0O0e4JYto3XKkwHQaQAiOLfnYfudJ/t1knGR2HDECHGFBgoCdJm/TwMIvdUErYxYUPPmq1cXERoS1Mrr7IfpCIx6kEJPu/RmU7/XXBMbHs92NBIQmIZlALfnI3NMPqM6wufMCSxKEjKvcnk6/Xu1oR5pKNq4UeiZBJMkQHSSoM8q+wgK0O17F3R9fD+q7P7q/WpqBdskkgpkAHrQnUl5ewPQHVRsPtxSfu7MAEYDRgNGA4WqAfOeT5364wC6mvOofhQTtHuFr/MDlKDPrc6zCvx1luPkZQuSg+7GAJ8IQFfLdakeaK/1kJCMH/5+HjM30ieynRPYSXED6EF0w74Y+SC90Aw7p5eWQJNGhOuvjzXAOBlL5P4QWDJdkmD1zz8B5oSra61TByCRG4Xl8ciUroInnbNQEG3sAF0dU65fMs/bQ5Tp0WduOUPYJ0yIDd2mN5skeX7GEz9SMC8d2Bm9aTyTJHlhdcf7CZz95h22f6f7SGynku+pbRIB6CqLu3r21BB3GlwuvVSkGKRCVE6DRAH60UcDCxcGmqUJcQ+krsCNDUB3UJn5cAt8jswNRgNGA0YDRUoD5j2fuu2KA+j0UDKfnKJ+FPvltRK0EIypZFDqtFm7m2zbQcSJXM3Pyyv7Z53sBx+MD5OnN5th4vb16cxLBei6HnSdftmGHs933xXedjW0X4I+2Y9kgreHuAeJLmBfDIO3l+uSQJRh9zI/neCmX794PUqA7lWHXoIheY5Y5/q442JLXenqJ9Xt7rtPhLcrhMr5Q8q1+oFEGlnYVhIrsgOCZeYR66RDJLJGtUIAgfVhhyXSm9hvRs1QHnlEEAjKdIzEeg53t5/unXqV++YH0HXfKeFmLu5SjShqGTzuE/cryPqaNgV+/z3QbAxAD6SuwI0NQHdQmflwC3yOzA1GA0YDRgNFSgPmPZ+67dIG6KwTzXrZYYXeR3p9ApIbWcPZy5Ox/JXMHZbzYekrMoar4uT5ZXg4idYoQT6K2V4F6DIH3atWMXPyZRk1Xb3Z52wH6CS4YxSAHaAzdN4tekF3bAlo6PVnOTIKPYsMRbaHc4cheWOOMeu0u+VS684zFe3oMSar/tq14XtnH6+8EktOyHx0stfrpEOEH1mEitMDTGEKRY0aifQm7h0yJD4iIvFew/UQ9FnlKDoh7rfdlnrjiVyxfI+pxk4aP0gQGGR9rKBAjg3VEOSjVQPQwx073bsMQHfQlPlw0z0+pp3RgNGA0UDR1IB5z6du3+IAugp01Y/GkSNF6HNYIQnWunXAtGmiB+b7Mmddp7SXBB8yv5n53IMGiX7okWXfDzwQPzOnMPlEADpztT//XIxD3aQi/Nc+Z65t4sTo2lhznUR3KkCn5/Zf/xKeuESF45NgTHIM2EOvaUBgaLBTCTu/sUmgJnO+/dom4zo912SRL0ghqFXPIsHy5MmpYUNX16UasdavF4R/xUnovVdrqeusTQegH3986o0ncq7yPaamIPB9SOMXqxPIyCXdtTF1RhOkG4Cuo9TwbQxAd9Cd+XALf6DMnUYDRgNGA0VBA+Y9n7pdigPoah6oCtA/+kgA6rBCwi1+iM6YIXo4/XSAYeg6nkWCD37UOnlemdNML6Vbjrc9TJ4M6AT4FHq3dT3BNA4wTJ9eYIqs5UyQznDwZIb/qnNm5AHzwqV88YVg02dIttSlbtmmsHun3pfIWIncG2buJC5MNKog6LgkiGPUgRQapRg1onPOg44l26vh0zynPC8yXz5sn2Huo2GHQFOyzofpw+0eWd4vSJ9+AJ1RIjRk6JRSCzKuW1sab2hYVCMcmPbToYM4p4yC0RWn9B+Pew1A11VsuHYGoDvozXy4hTtM5i6jAaMBo4GiogHznk/dTmkDdAKNWrW8J8JQaDcv7jnnCLIw1jqmsJY2wSYNApI13t67WpqIHtsgYaD2vqSHkURoP/wgrkqQ7adep9JLaig6azfLdf33v8C11/r1qHedcx42LBage+lYr9dDpxUBmFOd61RqwA7QGTLPPSMQdCrNJufCyBUn7gfVqOFm4CB3AXOZvaoEyHFSaSRhhA3BbiqMESz5JqsO6O6fDkBnBE4q5us0R74zli4VAJ2s9RR60Gn4Y1UBOyeEzjrt6T8u9xiArqPM8G0MQHfQnflwC3+gzJ1GA0YDRgNFQQNF4T3/0ksv4cknn8SaNWvQokULDBs2DCcTDLrIiy++iBdeeAFLly5F/fr1MWDAAFxJ75MiH3zwAQYOHIjFixejcePGeOSRR3AeQ54VCTqufTpxAF0NC1YBcaJhs2efLbzcJAqjMEyb4dr8OJ0+PV5L8uOauZZ33unPgu53kGV46UknAVOnitYss8W8Yy9xC2NXQ9EfeywK0OfMAdq0ET2GIYBS58I5v/MOwOgFI6nVQDJy0DnDwYPFf1JolGI+uB9A5/jDhwuDghoNQu84jTQUt9x9t1JpThqz8yIkE7ATYPLMh0l/8NtdppawzGEQ0QHot94qctC9uCSCjOnXloC6SRNBGkfhu4il5bjHYYxJbtUqbPMwAN1vYxK7bgC6g/6KwodbYttu7jYaMBowGji0NZDu7/lx48ahV69eIFju1KkTXnnlFYwcORILFiywwLddXn75Zdx777149dVX0bZtW8ycORPXX3893nrrLZxNIAsSnv9oAfyHHnrIAuUTJkzAoEGD8MMPP6B9+/ZWm6DjOp0izzJrqoeZ4elkaQ8r9FSRHGnJEtED2cr5sWqv8y37l8CE7ObJ8HBJT5MK0OmV4zhqHWt1fTqlyzg/giuWGKMw7DyyPxZQY1hrWM8/yaNoxAjKfh92j3gfQQ1L4u3enUgvRe9ekg7yLNCTGVacSOIItnk2dM4wzyjPosy1ZmkuGn8kqz/P42mnAWTsDyt2gB4E3DuNqVZ9+M9/RMk9v5KCYebOdweNh0HEj8WdERYkRJRGOPYd9lnVnRcBNQE5jQIUptvwnfTCCwCNBUHFeNCDaiwl7Q1Ad1Brun+4peQkmE6NBowGjAYOIQ2k+3uegLl169Yg8JbSrFkznHvuuXiMH9g26dixowXk6XGX0qdPH8yePdsC4JSLL74YXPdnn32W3+bMM89ElSpV8Pbbb1u/BR3X6cjEAXS1kRrGTQ8T/54sIVkbgYYTQOeHMz1xrC/NcRPJI1ZzNTn3Ro2AFStiV+HE9s4WQUuX8R7uHz+4KV9+Keo6ByWASpaOg/YjAc0ZZ4j0g2RI5coAa4Gnu5CIr3lz4KijnGdKQ4wkznNbC8n6CIDVKBeeNYIwnTxnGmRo1JEAnTXlr7suOhqBJJ8Ft5QQHR2zbxrepDC3m6A/rKgkgvTwpyL/nHMj2R/TYYKILkBnn05pLEHG0m1LQE2jbePG4g6WfCQvxksvidKHFBrIdPaY70gaTtWyjC7zMB503Q0K184AdAe9pfuHW7itNncZDRgNGA0YDUgNpPN7fu/evShbtizee++9mPDz22+/HfPmzcO3sua2sp1t2rRB9+7dLe+4lH79+uHpp5/Grl27ULJkScvzfscdd1j/SXn22Wet0Plly5YhzLhOJ8oToKth3MyzdogGCH1Kjz4aoEHjnnuixGtOnSWSc63On32TRdwpD9iJ7Z3taQjRAVbqvFl7XTLM07jC0mzXXAOMGiVaJbt+etgN6N0bGDMm9m4ZtUCPL0no3EQNi7YDPtUjS911756YgSXs+oLex3NIMOwG0L36Uw08BPoqQF+2DPj7bz0POsdQ9UfGe1k5IVkVA5jSkUxCQ4bvM/2FctVVwOjRQTWv137LFoDGniCiE+JOD7oURigEZYoPMh9J5sfzIM+ZJKoj+aQsbUi+Dp20FrUcon0esuJFpDziykaNcHjDhlixYgXqJdPQGmT9xbitAegOm5vOH27F+CyapRkNGA0YDRSYBtL5Pb969WrUrVsXU6dOBT3jUh599FGMGTMGf/zxR5ye+vfvj1GjRmHSpEmW533OnDno0aMH1q9fD/ZXu3ZtlCpVCqNHj8ZlCkBkCPzVV1+N3Nxcq13QcTkR3sv/pKxatQrNmzfHNgCOAaTSA01vsvT6FNjOaw7ED1964uUHrrxNzd/1Y7V2YkUO40GnV4skUJRJk4AePYCrr44CF4bQ6jLHay4/VDOGIqu15FmuiWRj9MYx6oMM+04i5+4UCkzvMXPmZQ4y+ydhXhjQG2pRCdxEQxCNJyz/F0RoQGMkjPRiEkirZ40pHTyHunnOqvGDBqwbbwR0Ui1055xsgM60F+bZU1hT/PnndWcSrB0Na4xi8BMVmMp3J0s5DhgQvVOeYeZ90+uvSiqfTaYsPPEE8PvvQLNm7ithPftIlJTnctXwdnXdNLAx+kJJNdhaqxaqrF1rALrf+Ql53QB0B8Wl84dbyH02txkNGA0YDRgNKBpI5/e8BMrTpk3DiSQ8iwgJ3caOHYvf+TFmk5ycHNx8883W9by8PNSsWRNXXHEFnnjiCaxbtw41atSwADoB/qX8WIvIm2++iWuvvRZ79uzJB+hBxmU3gwcPxhDmRdvEFaDLdsydDOpNTvYpdiO0Ymgxw3Yvvjg6IsEC63VTCI5082LtH726wMpprfSCkVOAIe5jx4oW6QLQCcL79YvVlwxPZmSHjAJg6Sx6L6UQbLKsnJKe4brNffuK+uxHHpnsk5Ca/hg1MHRosL7Jxs0wdgnQWZuaTO5SFi8GjjgimuccJMeZOd3MiQ9jKHJbBUv0kRwxWcKomuXLRW88PzwXus9akDm89pp4jpguEPEKx3FHuIWp8x3K95eUwgLo0oPOffUihOM74+OPvbWjltbTCM/n+53xB8aDHuTQ6bc1AN1BV+n84aa/taal0YDRgNGA0YCbBtL5PZ9IqPm+ffssQE6P+YgRIyziuK1btyIzMzNlIe6BPehyUwqjZJX9QKjeaXmNOeX0GDG0nP9JoSePpEtBwY1kRZYeKZaukizaQR/RCRMA1n+//PIoQEgXgP7II7FeRRo0JEB/4IGoLgmyn3pKrJwGGobq02vqVTJM6ons+/QASw96pUqCKDBdhfsUpBa1XIdq1GHVARowpPz1VzTyhOCdpcL27NHTANMDPvkkXKqF2wjJ9qDz+ZPEjwSePBt+0Sp6q49tRUMRCelU8K+mFvilANCIxygRSmEBdI7NnH+eM5atdBOW3Nu501tLcj12g5DLXdsBVDIAPczJ07rHAHQHNaXzh5vWrppGRgNGA0YDRgOeGkj39zzJ2phXThZ3KQwb79mzpyNJnNNiO3fubIWsM4ydQpK4HTt24NNPP81v/s9//hOV/7+9MwG7amrf+CNplEpoEEkyVIYipYhMFR9Kn2SszHOZRYWvgTKUSFQo8xT1pzITJRlLxgxJGkklGgz5X/ferffd73n3OXvtffY6Z+3z3uu6XHjP2muv9Vvr7LPv9TzreWrUKBEkLtv7ZjyD7u0oXJ6HDMnvSn300dLnmRs0cF2AU612cCuH1S3sOXJsRODcMISaclVXL/VhrJ+4BgG/EPgLL+QQbii2nEH3npVHv+DqqzYiMNc+wQ2dIF0Q3T4eGL4LA21eeKEI4g2gwPUdbvS2ligWdIzFm+oqdb3BcwLWdR+3Yy0MEGJxZTLADeMW6Dj2Ai8BFGXxx1n01PgGWoMNWSlMKkZYnLFZgrzjKqI+PGxSLdkmXdwxPDwP4HKvW/yCLNap43oRPPOMCLwD8PwLKBToQYSy+5wC3Yef7S9u2U05ryYBEiABErD9Oa/Snd13332Omzus4Uih9vnnn0uDBg0EAeBw1vthpPUSkfnz5zup1SDsV61aJXfeeae8+uqrzln0XTan34Hrert27Zzc5xD6kydPln79+vmmWUt3X52Voy3Qgxrz5k8Pqhv187DiFuLms89EYBHOVfFLYwVxoJMqLZuAeGHHl5qv2yvQYfWH50C2BR4MF11UfN4WAh9R7W0siEaOlHZIBxi2KAs6hBKOBsS5kQUr8QMPuEIsKIq8Tr8rVkQgCp2aenW8FnTltQI3dwTdi/tefj2CoMb3xruZlq7nqR44EL9gqyzruM60QA+70Yn0a6mp/5BHHTEkQngqUKDrLeeotSjQfcjZ/uIWdbJ5HQmQAAmQgEsgCc95WM9xhnzp0qXSrFkzQcR1CGyUnj17yg8//CBvbc5f/OWXXzrB3xBADhHb27dvL0OHDpU99tijxJQ/++yzjij//vvvpVGjRo5YP9H7MinIzpP+vjrrJzaBDquqKSHsDeAWJsqyNwWUDowwddKdh09tQ7demHvHURdC0nskANHmEdQNgQ7BLcjFVqcPSBsFgd60qU7t/NZBAC94XSDVWpgCkffLL+6GBjY5TJy/DtMfWPA9cStKXVqlSrw57rH5pNIWKoGOQGhYS7nccArDyFsX30+4iae6v0dtL+i6sEz8BDpiGiCOQIi1RoEeNDHZfU6B7sMvCS9u2U07ryYBEiCBsk2Az3lz8x+bQIfVMF3k72y7732JNm3h0u2rTl5s3bbyUS+dq21YAZGp78ivjXPrSDNne4FIQ2TtsJsJnTq56dmQRSDsEQgTTOD+vGxZ+pZ1zjeH6ReC5MHdGgUxDBDLAIH2EIDQG+E9TNd42BEAACAASURBVJu5rJuavcGG54t3EwWbHmDqLRG4UqCbXVQU6BToZlcYWycBEiABCwlQoJublNgEOqxmcGuNu8Cai3zQJ5zgRnBW50fjvk9Zaw8WQwTWYnEJQKDjrHyzZuGI1K7tnusOYc0Md4OYa8d9zMCbBx3xG3BEAOnhEGvAG+E95mGUag7u6/BkiLpJoo4p2CDQkepv3jx3iDgnj7gP3uJlrsmVAl0TVMRqFOg+4PjiFnE18TISIAESSAgBPufNTVRsAh3nTuEmrFsQOEsjuJET9RiRv21wH9YdWz7qIShXjx76d45bqOnf2c6aUQW6naNJ36u4Y0V4PUlSA5rhOArSH6YrSEupE5sB16c7KqIs4BCyCEKIEkWkq0B/Ngh0Ly+/zAe0oFv3raNAp0C3blGyQyRAAiRgmgAFujnCsQl0pJZ68kn9jnqtROmuwgv/2LHui3eUl2793iS/JixuYMoSjQAiYsOCXugMM6W6Qzq8+fNL8qtUKXNaOKQ+++OPaMyRLx7cdYoSzt7ngPqbOkOukQ887a0QQwNxGfIl0Lt0EUFaRp2CwHx//SWyeLH2c5EWdB2w0etQoFOgR189vJIESIAEEkqAAt3cxMUm0MN2UUegI2jXq68Guw+ns67Ffd427BhzWf/jj0VatMjlHQvrXhCKCNK4zz6FNa7U0fil7VJ1WrUSmT07d+MPk3YP7vN33FHyWQC39lGjRCD0VUGO+cqVS44BXgPIHpBpk0/FuQgRGT1WUGE2OhAkDh5LiHuAorF5SYEe62yVaowCnQLd7Apj6yRAAiRgIQEKdHOTklGgm4xAjrO+SIGWqcCtHYGngopfYDNY9BH0y1Rk+aA+5fpzCCsILJZoBHBmGhb0sAJdnUEPYc2M1sGYrqpZU2TVKv/GGjd287XnqoQR6J9+KvLllyInn1yyd0hDh2eEisKO6OZI7+Ytut49aCsJsQQg0JF7PpPHQMqzmwLd7KKmQKdAN7vC2DoJkAAJWEiAAt3cpGQU6CbPKeu8DCP694MPBg/+7LPdfMbeApfVG24QgYBauTK4DdRIzWGud5UdtbARgTGzRCMAgQ4L+r77hrseVt1ddgmVkzrcDWKuncmrpEIFN31XrgrE9lNP6d3twgtF7ruvtLU41c3dz4I+cKDIpk2Fs1mnBDrIIY6HX+pJCnS9dRVTLQp0CvSYlhKbIQESIIHkEKBANzdXeXNx1xnS5ZeLwLU1SoFgvekm18qk47aKKM4IeBVWoEXpG6+xjwAEOs5gIwp5aoEL9cSJrshLLZ984l6DnPJlxVsjrtnTtWwH3c+bKm3jRhG4i3vLoEEiELVI+VcIBWfQv/++eCR+5+axXj3PPVrQzU48BToFutkVxtZJgARIwEICFOjmJsVqgY50TYMHhwqGVEQKAZ+URbltW5F3380MEVGcYT3s2dMcbLZsLwGsF5xdRv7u1NK/v5vqb/ny0p/h7H/z5iJPPFE4AjBXsxSXQFf97ddPpE0bkWOOKS3Q8QwolBSNOgId59I9wv2X00+X7R99VBYtWiT14b3EEisBCnQK9FgXFBsjARIggSQQoEA3N0tWC3REcIdVO0QwpCJS11/vinsUuNLCQspCAlEIZBLoH34osv/+Im+9VTgCMAqjKNeESbMWpX11DSzo110nUreuyM8/Z9OSHddGEOgrbrhBag8eTIFuaAYp0CnQDS0tNksCJEAC9hKgQDc3N1YLdJwrxzn0KOmTTjtN5NFHXXBwUUYqJpZgAt681sG1y0YNCHScf/YTdx98IHLAAenPAnsJBaUsKxs0cz9KCHTEo8BZdHhKJKn45a2PItCvv15qDxlCgW5o7inQKdANLS02SwIkQAL2EqBANzc3Vgt0uBWfe647+HTBkNKhOf54kcmT3U/h2goLJ0swAQQ9u/deN0o0i0sArtMQ6L/8UpoIoucfeKD79zA5tLkRkrvVpQT69Okihx2Wu/vGcSd4D6VuLiJrBdICHnKIyJZb+q+7FBf3FX37Su1bbqFAj2NOfNqgQPeBwhc3Q6uNzZIACZCAJQT4nDc3EVYLdIii888vHnwYAXTKKSI4V46C4F+5TB9lbrrMtpzkKPYmyUCgY9Pi119L3+W994rT24VZn5dc4p5rz2XU9CBGhTr/sJxjDt9+W+TQQ4Mo2PW5nwVd9VClmPMLgpkq0K+7TmrfeisFuqHZpUCnQDe0tNgsCZAACdhLgALd3NxYLdBHjRK56KJoAv3KK0Vuv10/irs5xOFbHjpU5Nprw1/HK8wQQOA4bBb55Q+fNUukdevwHh6ZhJeZUQS3ijPaS5cG10taDUTYxzGFJAr0TKzVhhDEeGqhQM/pKqVAp0DP6YLjzUiABEjABgIU6OZmwWqBPnKkyKWXuoPHCycsfLrlqqtEbr3VzVH900+6V9lRD8HtcGaWxQ4Cp58u8sILImvWlO7PzJkiy5aJ9O6dvHWWOhpEo0fauEIryMxw9NFuFH6kbiykkpLvvGhoSBvpiVq/4tprpfbQobSgG5p7CnQKdENLi82SAAmQgL0EKNDNzY3VAr1XL5EHH3QHH/YM+hVXiBx3HCNrm1s6Zaflzp1F3nhD5Ddkk04p2EyB+7SfFTNphJDPfc6cpPWa/dUg8MsJJ8j2kydToGuwilKFAp0CPcq64TUkQAIkkGgCFOjmps9qgY5hT5wocuKJIhs2uHmqdUufPm7wrlNP1b2C9bIlALftCRNEunTJtiW7rkdGgP/7P5G1a0v3a/vto6fuqlDBrjPo++4rMneuXezZm1gIwPejhggFeiw0SzdCgU6BbmhpsVkSIAESsJcABbq5ubFeoO+0k8iCBSLr14tUq6YPAi7HsHx63Dz1L2bNSARq1hQZMkTkwgsjXW7tRcihfffdIn/8EV8Xa9VygxfiDLstZZ99RD791JbesB8xEqBAjxGmT1MU6BToZlcYWycBEiABCwlQoJubFOsFOoaO85Rwv4UA1C04uz58uEiDBiKLF+texXokUJoAUva9/LLIxo3x0cERjCVLRJ58Mr42s21p771F5s3LthVen0sC6c6gp/QBhzOq04JubGYo0CnQjS0uNkwCJEACthKgQDc3M4kQ6EiXdtRRInAn1i0XXyxyzz0iiOB84426V7EeCeSGAKKKz58v8tRTubmfzl3grbJokU5N1rGBQKYo7hToOZ0hCnQK9JwuON6MBEiABGwgQIFubhYSIdARhXnQIBHk/dUtSM+GNG1PPMFz6LrMWC88gahn0BEx/euvRdatC39PXkECIIC1h2dct26BPGhBD0SUVQUKdAr0rBYQLyYBEiCBJBKgQDc3a4kQ6Bg+3Nv98lCnQ3PBBSKjR4u89RbPoZtbPmwZEdyxecRilgDO7K9cafYeSWwdm5YaaSR5Bt3s5FKgU6CbXWFsnQRIgAQsJECBbm5SEiPQwyI4/HARuBG3aSNSo4YbZI6FBOImcN55ImPGxN0q20slcMMNIkhpx1KSgOYZdAp0swuHAp0C3ewKY+skQAIkYCEBCnRzk1KwAl0hg4WpShX3vC8LCZAACeSLgKaYNtE9uriboFrcJgU6BbrZFcbWSYAESMBCAhTo5ial4AV6Hl+Kzc2aoZa33FLkn38MNc5mSSBmAkgLh423DRtibrjwmqNANzunFOgU6GZXGFsnARIgAQsJUKCbm5SCF+jm0OW25UqVzAuRunVFli7N7bh4NxKISqBixXhT30XtRwKuo0A3O0kU6BToZlcYWycBEiABCwlQoJubFAp0c2xjbfmAA0Q+/DDWJks1FjYQn9nesHUSIIGYCFCgxwQyTTMU6BToZlcYWycBEiABCwlQoJubFAp0c2xjaRnRqxGE7OGHRSZPjqXJtI3kwkpvdgRsnQRIwE8riUh1QZr7RVI/TLpK0tQiQIFOga61UFiJBEiABAqJAAW6udnMiUCvWlXkjz/MDaJQWz7kEJE33xTB2fAuXUQmTSrUkXJcJEACBgnQgm4QrohQoFOgm11hbJ0ESIAELCRAgW5uUnIi0M85R2TcOHODKNSWTzxRZOJEd3T47+efz99Iu3UTefrp/N2fd7aLwJlnul4dLIkgQIFudpoo0CnQza4wtk4CJEACFhKgQDc3KTkR6EccIfL66+YGUagtt2ol8t577ui6dhV57rn8jbRaNZG1a/N3f97ZLgLYrMGmDUsiCFCgm50mCnQKdLMrjK2TAAmQgIUEKNDNTUpOBLq57hd2y5Uru6IYLu75tqAXNmmOLiyBhQtFGjQIexXr54kABbpZ8BToFOhmVxhbJwESIAELCVCgm5sUCnRzbGNpGWfQDztMpHNn80HiYukwGykTBCjQEzXNFOhmp4sCnQLd7Apj6yRAAiRgIQEKdHOTQoFujm0sLffpIzJ8uMjxx4u88EIsTbIREsiaAF3cs0aYywYo0M3SpkCnQDe7wtg6CZAACVhIgALd3KSUWYG+9dYiv/9uDmycLSNQ3IMPikyZEmerbCufBLbYQqRiRZENG/LZi+j3HjVK5OKLo1/PK3NKgALdLG4KdAp0syuMrZMACZCAhQQo0M1NSpkV6B07irz0kjmwcbUMIYe8xU2bJqO/cY27LLTzn/+IvPhiMkf65JMi3bsH953BBYMZ5aAGBbpZyBToFOhmVxhbJwESIAELCVCgm5uUMivQERVdpTAzhze+llu2FPngg/jaY0v5JVCrlghSleH4go0FsQ/uuktk0iT/3j31lMjJJ9vYc/bJTyuJSHURWbRokdTHhh9LrAQo0CnQY11QbIwESIAEkkCAAt3cLBWUQN92W5Fff9WDlRQLuhpNs2Yin32mNzbWSgYBCFwIXdtKuXIi//wjct11IkOH+vfu7rtFLr3Utp6zP2kIRLWg33vvvXLbbbfJ0qVLpWnTpjJixAg55JBDfO/y3HPPyejRo2XOnDmyceNGp/5NN90kHTp0KFF/4sSJ0r9/f/nuu++kUaNGMnjwYOnSpUui544CnQI90QuYnScBEiCBKAQo0KNQ07umoAT6zjuL/Pij3sAPOkhk1iy9ujbUatFC5OOPbeiJmT5ss43Ib5ARZagce6ydcQWQ1g9B4Hr0SB+nIcxmWBmaUluHGkWgP/XUU3LGGWcIRHrbtm3l/vvvl3HjxskXX3whO+NZm1L69Okj9erVk/bt20uNGjXkoYcekttvv11mz54tzZs3d2rPmjXLEfgDBw50RPnzzz8vAwYMkBkzZkirVq1sxRfYLwp0CvTARcIKJEACJFBoBCjQzc1oQQn0HXcUWbJE5N9/MwNDvTVrkhEkTp1Bb9RI5K23zC2EfLdcvrzI33/nuxe5vX+FCiJ//pnbe+rcDRZ0fIeCvkc6bbGOFQSiCHQI5hYtWjhWcVX22msv6dy5s9xyyy1a44IV/eSTT3ZEOAr+G7/n06ZNK7q+Y8eOUrNmTXniiSe02rSxEgU6BbqN65J9IgESIAGjBCjQzeEtKIGui8lW12K//kOgP/usyMiRItOn646Q9fJFoFs3NyXe2WeLbNyYr17wviRQgoAS6LB+74gNys2lYsWKgn9Sy59//ilVqlSRZ555poT7ee/evR0X9ukaz6JNmzbJLrvsItdcc41ccsklzi1geb/88sudf1QZPny44zq/cOHCxM4aBToFemIXLztOAiRAAlEJUKBHJRd8XZkT6AjOtXJlMBgbalSqJPLYYyInnihy8MEiM2fa0Cv2IRMBnNuGdRHndGfMKLus9tpLZO1akZ9+KrsMLBq5EuipXbrxxhudc+KpZcmSJY6QnzlzprRp06bo4yFDhsiECRPk66+/Dhwdzq7feuut8uWXX8oOO+zg1K9QoYKMHz9eTj311KLrH3/8cenVq5dzbj2phQKdAj2pa5f9JgESIIHIBCjQI6MLvDDnAr1mTZFVqwL7ZaxCklypcUYZabiee86NmB3WBXy77USQDgsi/6GHjCFlwx4C/fqJDBwoAgGSYJfdrOe0fXsRWE2RLYEl7wTCWtCVQH/33XflIMTr2FwQ0O2RRx6Rr776KuOY4K5+zjnnyOTJk+XII48sqguBDoF/yimnFP3tsccek7PPPls2bNiQd05RO0CBToEede3wOhIgARJILIEkCPQw0W4xEXgpGTZsmHzzzTdSvXp1wTk8BNSpBQuviBx22GG+boTHHHOMTJkyxakDy8fNN99cYl5r164ty5Yt057rnAt07Z6xoiBPdq9e0UXOM8+I/Pe/IjhDetFFdgPdaiuRv/4q3cd69UTwz4cf2t1/1Tt8HxFx/4wzRNats7PPuchNDlH26qsiWIMQY4gKz5I3AmHPoGfj4o7gcrCIwz3+WGwyegpd3PO2BHJ/4yS8uOWeCu9IAiRAAoVDwPbnfNhot4hYe+ihhwrO3h133HGyePFiueCCC6Rx48ZOVFuUX3/9VfCSpMrKlStl3333daLo9uzZs0igP/vss/Laa68V1dtyyy1l++231558CnRtVLmviMjty5eLLF4c/t4HHigye7Z7XRIEesOGIgsWlB5n3boiq1eLrF8fnkE+roDl/PHH83Fnu+65774ic+a4fUIMhZNOsqt/Zaw3YQU68CBI3P777+9EcVelSZMmcsIJJ6QNEgfL+VlnneUEfEMwudSCIHFr166VqVOnFn3UqVMnJ+o7g8QV2KK0/cWtwHBzOCRAAiSQcwK2P+fDRruFpRyRcZEHVpW7777bsagvWrTIly+C6CASLvLRVq1a1akDC/qkSZOcoD1RCwV6VHKWX6fOQqOb550nMnas3R1u3Fjkm2/s7qNO76pUsddyrtP/uOogfsLvv4sgZRsKjmmcc05+j7dkM7aEpwGMItDVxvN9993nuLmPGTNGxo4dK59//rk0aNBA+vbt62wuP/zwww5ZCOwzzzxT7rrrLjkRcTM2l8qVKzteYihwmW/Xrp2T+xxCHy7w/fr1Y5q1bNamrdfa/uJmKzf2iwRIgASSQsDm53wUV0C8pCBXLKzlsB6sWLFCunXrJkhhg5chv7L33nsXvSSpzyHQEYgHLz+IxIuNAgTx2XXXXdNOLQLxeIPx4AULVpE1IrJNmAWR1BdWCIZNmwo/hRTcmMePd2fU1nPAeGlHujuW+AlAIOf7TO/w4SKXXlos0keMEPFE745/0AZb7N/fjS2Q0BJFoGOosJ5j4xgbw82aNXO8viCwUeDJ9cMPP8hbm9M/pjuW1aNHDycwnCrw+oIo//7776VRo0aOWPcK+iQi5hl0n1mz+cUtiYuMfSYBEiAB2wjY/JyPGu0WLyk4p4fAOH///bccf/zxgr9thbO4KeX99993xPfs2bPlQLguby7IJbtu3TrZfffdZfny5TJo0CAneA8sHOose2pbfufWUSe0QEek6r59bVsqwf1BjmcI9GwKxA/asfWMsXds+YpaX6OG65rOkh8CsGDCah1HycYroH59kbvucjMR4Dw60tCx5JxAVIGe844m9IYU6D4TZ/OLW0LXGbtNAiRAAlYRsPk5HyXaLXLRIrItcsF26NDBsU5cffXV0rJlS3nggQdKsT///PMd18B58+ZlnJc//vjDsUgg7+wVV1zhWzdrCzrOt8PK36CByAEHWLVOQnUmGwtjnz4ijzySnHRtocAYqIyzqEi59frrBhpnk74Eund3I/jbULbYwj2H3rq1iCcHtw1dKyt9oEA3O9MU6BToZlcYWycBEiABCwnYLNCjuLifccYZjuUcUW5VQeC4Qw45RCD46yIw1uYCCzn+/3//+5/07t07cHaOOuoo2W233Zwz7jol9Bn0Rx8VOe00kU8/FUEgqHyWihVFoubOzcYqCDddbKT8htfeEAXCfv58EU+ApBBXJ6sqRNm//7p9Pv98Efx/muMbyRpYQnqLKPLYRLKhYO5hSUck/tq19XrkXT96VxRGLeQLX7Ei9rFQoMeOtESDFOg+fG1+cTO7HNg6CZAACZQNArY/58NGu+3atauUL19eEIRHlVmzZkmbNm2coDv1kFZqc8HZPUR4x9/Tua2rurCOw4J+3nnnOQHldEpogf7mm8gBJ/LFFyJNm+rcwhVnynKGiORKuOldnb4WBHqbNiLoUy5Lq1bFEdLD3HennUSOPtoV96ok9Sx/mHGffbYIjm5QoIehll3ds84SefDB7NqI++oXXhA57jj/Vr3xCHDGGQEDly6Nuwdltj0KdLNTT4Huw9f2FzezS4KtkwAJkEDhE7D9OR822i1E97nnnisjR44scnHv06ePlCtXzjln7i2wqu+4447ypI+76lVXXeWkaUNuWQSawxn06dOnO67wiLKrU7QFurKCIRUWAq2FFehwcUVBXu64BDrag+B95ZXiodpueUNe4M157J1ODxok0q+fzlQltw7SAuJIAQV67ubwggvi4+0XTyDK9wwbBtg48BakpIPH0KxZItdf734C6/+QISLY0GKJhQAFeiwY0zZCge6DxvYXN7NLgq2TAAmQQOETSMJzPky0W8wY0qohYvuCBQucHLCHH364DB061BHjqsyfP1/22GMPeeWVVwSu66mle/fu8vbbb8svv/zi5D5v3bq1DBw40InKrltCCXSIbBV86uKLRZYt07vN1VeLDBvmBq1Cyq+VK/Wu06mFsWKzAAX/Dbfzn37SuTI/dQ4/XOSNN4rv/fbbIpujIsfeIYiobbeNl3eUTmJ8mBsK9Cj0ol2D6Ol33x3t2tSrevUSeeihkn+NItBfflmkQ4eS7ajNOjwfrr3W/ezMM93nRZ068fSfrQgFutlFQIHuwzcJL25mlwVbJwESIIHCJsDnvLn51RLocD+F9UuJ87BWcLzMX3WVyO23x2s9T8Vy6KFuIDKk/TnySHPQsmkZLr5w9VXlnntELrkkmxbTX6uCc730Un7zoFeu7FpFx4zJTuTBKvzEE0zNprNaECTyzjt1agbXuewykZEjS9aDYIfnB46sBBXlffPttyI4luItSqDfdpvINde4n0Cg33GHCAJS2lbUcR3Ek8AzLddl//1FPvoo9F0p0EMjC3UBBboPLr64hVpDrEwCJEACiSPA57y5KdMS6IMHu+6n//wjsssu0SzUcIvH9boFAvu113Rru/Xaty+2TuNF2rYCl92OHUuK5f/9T0QzXkCo4cAtGWfdsaly770i8HjIZ/nPf0RefLFkD+DaHOacMWIN/Ppr/Mck0nHBufmqVXObLu7mm0VuvDH7mYI1eujQ7NtBC34WdAQyg3cGng1B/VUbRV26uOkJvUUJdAhyJXh79BBBDnW0b1tRYznhBPdZGGdMDZ2x4juA51zIQoEeEljI6hToPsD44hZyFbE6CZAACSSMAJ/z5iZMS6BfdJHIqFGuZTrCy2Gk3k+cKDJzZjgrINzHVSovGwX6lVe6udO9EfYhnsE37gLrKaLNo8BKD5fnfBa/iPsQ5ypjQfnyIn//7d/D1PgHOCrRtWs+R5P53tiMwmbMDz+E7yOincdxRKN/f5GBA0vfH1ZvBFaElfqXX/T6B2vxiBEl6+J4i4rIjvlAhgm/foMDrsVGEUrq91IJdKxXfD9QELMAudPhuWNTUSkm1VgwbngTocQZVyPTmJG1ItULQYMRBboGpCyqUKD7wOOLWxYripeSAAmQQAII8DlvbpK0BDosWuPHu+7Fp55qrjOpLdeqFe78NKzur77qLwRy1+v0d4JwO+KIkkHtEBzroIPi7x1ckiHKISIQRX316vjvkW2Lq1aJ1KzptrL77m4KOr+irJZKGKFOug2YKGejsx2Huv6kk1zxiw0XeAyotRhX+2HayZQHfbvt9MU5BPZ115X2wEA8CuS3x5pGgXfMO+8Ub+BhIw+eIYccUlzHb96UsIXFHG75KLDYY/1Wq+Y/YsS0gEt8LgvEOTYgKlQoeddMmxMm+kcLugmqWbdJge6DkC9uWa8rNkACJEACVhPgc97c9GgJdFiJEEXe+wJurkvRW0YgPUR0h1iARVa3YHwqyrzuNXHVQ27oAw7I3FrYjQq0Bqs5rNNh4wVk6glcjuFiHlf5/XeRrbd2WwMDsEgtcDPH2vOKc9TJJNDxea4smt7+4mxwixbuX7AR4w0G6MdMeQYsWhQX0fjbgScLLO3IZZ9aYO2Hpdtv4+TCC92jFaklnQUd7cBSj4JI71i/Var4jyfK90GXTLoNnqefFsEGjF/B8wZxFv76S/cu0es9+qjI6aeHvp4W9NDIQl1Age6Diy9uodYQK5MACZBA4gjwOW9uyrQEOm6Pl3G4ocLKletzl7rDR4RoRIlP526brp2bbhLBP/koEHUI/ORXlHswzrticwTu+0jLplNwJOGWW+Jxl1b3Q0wAWEzhmr7DDu5fcRYZOavBL6wo9rrr7refyJw5bpteK+G++xb/3TvudAIdgjLs/Ovw1KmDc9TKCnzYYSLTp6e/SvUfG0O2uuu3bSsyY4YIxLZfBH7vGFJd2OG9kRpYDjTSCXTUxbyhwOMD6RNPPlmHerx1YCn/+efSbfptRqhauTxyEcb7wTMKCvR4l0lqaxToPnz54mZ20bF1EiABEsg3AT7nzc2AtkBXL9a5iMYedbgQeXPnhheKOKuLM7v5KJ98ItK8uXtniF+IYHU2O9U9WAXp09kgiTOKN/oGazwsvcqlOZUVRMq554azsEOcqjO8zZqJfPaZ2yqEvlpvYPPxx6VnJp1Ax7XgpBO8LO759rriY+4gblFgCUbsAW/xns32jiWuM+hxjQ3nwpHBAccR/EpqfAA1FsQ/8Isin06gIyUcosWjwIIOT5g4zuKH5YBNAljzU4vfZgTqqHPoYTenwvYry/oU6FkCDLicAt0HEF/czC46tk4CJEAC+SbA57y5GdAW6OiCehnHizesarpBpsx13z0T+uef7h0qVRLZsCH83WB1T00BFr6VaFfAaoyNBRS45Qe5yaYLTJXqmnvOOSLjxun3KdMZcLRy//2ud0KmAgt/mPR23j577++1oMNl3C+tVJBA9W8x4QAAIABJREFUj5ptQJ9Y6ZpesXrwwSLvvefWQbCzNWvc/378cXezw7v54h0LrMZPPZVNL+K9FlHXN20KbhNzBq8B70ae3znxdAIdHh8q3eCxx4pMmRJ8TxM10lnQvc+/BQvcjapsslqY6HuGNinQzQKnQPfhyxc3s4uOrZMACZBAvgnwOW9uBkIJdNUNvIxDFMOlPEpBQChEgEYQKOQFz3c57TSRxx7LTy8+/VRkn33ce+OlP10kc2/v/AJTwSKLPOE33ODWDBtIC270kyenZwDrOay7mUoYC78SPMrymC4NH9z//c6mZxLoucw24McD3w+kOXv/ffdTr0BPtbTm0j3a5ArHxsMppxQLdASWwxGL1JJOoHtTASIbQ9D5/ShjCXIPzyTOvfdTmxH5XmchGFCgh4AVoSoFug80vrhFWEm8hARIgAQSRIDPeXOTFUmg42UcJUpEd4g8pJ+CIFu7VmSbbcwNTrdl5AiHBS+oKIGq42Ie1Jb6fN48kb33dv9PV6Cjroqa7XWHhyBEFHEU5EBHfmpdN2EEnkIAKhQIELR7++3F7uVoZ8cdg0cVd+qpRo1Evv229H0zCfQw2QZSPQ/iiAKP7wfOoyvLP3LSqyj6XoGeT/dojBOBzVJd74Nn2L9GqgUd6dz80rzpWNAbN3bjGsRd/NLFee8R9LmqqzYjsKkXIWBb3MPSaY8CXYdS9DoU6D7s+OIWfUHxShIgARJIAgE+583NUiSBjpdxlCg50RHESwWUQhTvdKmU0L4SSxDxv+EV01BRwe+CmkffUeLMfey1oMOdGMI7akHeeLhWo/Tt60YUTxd5Wt1DuWUjLzbObaMoEYlAXSpVGDYl6tXT61mcqacQxX39+tJn3+OwoN98s8jYsSU3MeCJ4I2qHmR19SOC7wfEHuIhoCCVnDrDrdja4B7drZsIopMHFQh5zIFfSXcGHZtDqYEX/bIrgAfWyxlnxLdZkG488NyBlwgs3+nmTeeZpjYjkN8dZ+2DCgIqIphiHgsFuln4FOg+fPniZnbRsXUSIAESyDcBPufNzYAS6L82bCg1cbYyqCDF0fLlbi2c89W1JuM6nPP2pmSC9a5q1eI74gy218VbBdKCONCxVEHMBZ3h9hsfXrRViqdM41ebC3EKULj6K54QOzrnff36iD7Bxd0bgRoWb3g5IMjXypWlr/IGvsJGAQQrihKRHTuKvPyy+zdY1OvUCVodxZ9DjCHwl46ACWpVCSJvPZ0z6OnWpldUok1EyPd6InhT9IVNa6U8RBBXQAW98xPopt2jkb4OG2DpCr6PH3wgsuuumenDqwPrys/DxC9wmvobrOewoquS7jsT9ihG0FoJ+jw1YF/DhiLquYdnT6ZnWupmhK4Ffa+9RL78MqhnRj+nQDeKVyjQffjyxc3somPrJEACJJBvAnzOm5uBIoG+++5Sc/784BspgY4X9yAXXYjxJk3c4FH4JzUCOPJb49yqt8BiCTGOM9EqkJaumNlzT5GvvgoeA2p4rfK6At0bpTuuSOGpLtVRokEHnWOGlRQCAdGpvXnMvZHEYfH83/9cdhDEYI/4ANOmuX9btsyNGxCmhD2Tnq5t5VLs/TyTQEe9TMH08DkiyKfmVlfte9v2BqzTGbvaiII4VaLMT6CHccP33hfn2XfbTQTR/72bObrB3LxtgVE6BqoeBDRiJMDCnVq86yeVHc6f4xy6dy6irG0d5tnU8W7qKWu+n4eM32aE7nMJGQrwvVuyJJueZnUtBXpW+AIvpkD3QcQXt8B1wwokQAIkkGgCfM6bmz4l0FeXKyfVda23XosmLIypL+9+L+6pQ0gn7v1ehHWFHsRG9+7uP5nGAnEO626PHm6vwgh0WEiVxc1EpPCwIgZsIJz9LOSKudfrIdVarDZaevUqeYwA40S76hw1rPwq93mY5RjHmfSwFnTVv3TB9DDf6YRpqhs2crXDGh3GMwNrGOywqYHitWar+dUVd17WCGKGWAAqcwECq333nQjO6Z9/vpvOLUxBbnNYx1FSBT7WBVL1DRvmRp5HIEUUeES0bFk6Er26r/r+IoI7UjLa4Mqvy0TNje66CTM23fPtun311tMIqkeBHgWs/jUU6D6s+OKmv4BYkwRIgASSSIDPeXOzViTQEWxa9zZei6b3HDleQr2W73TtBb3YprqSoh0doQfLF6zyOoJ15Mhi0aEr0NV4sjmDH8Q4rEDXTW2G/OpHHFH67pk2Srx9wRlaCMQoBfdAirbUTYRttw3Omw4xiqMQqd4XQRZ01U+/YHqZcrkjD7Y3sB42KuDyjsCGcRTlnYC2whwR8XpvpPYj6pGLSZNEOnd2W8PxjR9/LBb8F13kbgSgeK39EPXYDPAr3s0NXI/vGDaEdM51x8FWtQHvD9w3bIGLu1obuusmyHtF9QHHTXDkwkTRGC8FugnwxW1SoPvw5Yub2UXH1kmABEgg3wT4nDc3A5GDxMFlHeWPP1wLoXrJD3KZRT1d62Gq5dRPiHgjZOOs59lnu5a7oNK/f3GU6bACHRsRBx4YLYp9UL/CCnSMY9CgoFbd88CpUbWDNkq8rSLnPSzxUUrQUYhMbSI/+tdfl6zhF2xM1QjLT12nu1ERZfyp10D047gBCjaVgvrstWanthWVLTZbcEZeHVt48UUR5B/3K96jKPff7262+PXDb3MD48P3K1cFGxk4UuA9yqF7bz9PDZ1rcTQER0R0C4LnYTNA53ur22ZAPQr0mECmaYYC3QcMX9zMLjq2TgIkQAL5JsDnvLkZCCXQ/Szb3kBv3gjtmbqse/7W7+yx17KFVExDh0aL/nzppa6bO4puFHfvmBBQLcxLue4UBom11HayEei6GyW4J6zfsHiHLWE2AfzaRto4RKdXJchaHJYf2s22j2GZeI9x4NquXTO34HfsI9t+Y5NpwIDiOZ0yReSYY/z7gRgGJ5/sfoZAj+eeW7Ke6c2NqMEfw86L3/NGpw3d55lqC89JeBqF8aDQ6UeGOhToWQIMuJwC3QcQX9zMLjq2TgIkQAL5JsDnvLkZ0Bbo6UTChg1uPmUUvKh36RLcWV1hmMmipetamq43Xgs6Am+tWRPcb1UDLFRO8KBI4Spll+IXJCCDPk/tZTYu7mGEBSySsEyGLbpz7W3Xu/nRtq3IjBnF6yvI4hyWH1qO0sewHFLreze7VNT4TIHe/DbHsuk3vluINK/mFMEAEbXfrzzzjAhSsqEgLd055xTX0tncgAcAYkJEmRvcaY89SntRBPHHZhJS24W5Z1QLeth5AE+sY51jO0Hj1Px8dd26UnPpUlm0aJHUhwcHS6wEKNB9cPLFLdY1xsZIgARIwDoCfM6bmxJtgZ4u8BuCaFWqVCygdAS694U/3dBwPwRj8zsvDFHQoEG0M51K6CDKtE7qtkzoISRVrmevEPBuZijraMWKIn/+6baWSTSEERRoK0yQuFSWYYTF6tUi2MgIW8JsAqBtNT9qY0MJdB0hiOu954h1+xq2j7rt6tRDbIAjj9Sp6dbxisio/VbfLcSPwBERlJdeEunQwb8fiHh/0knuZ+PGucdIVAmzhlIzFuiOunlzN2o9igqQF3Rtuu9mpuuirB31HQwTMBIu8dggRMnkEVK3rhtoMOwzwWeMy8aMkbrnnUeBHrRuIn5Oge4Dji9uEVcTLyMBEiCBhBDgc97cRAUKdFii4OLqlyYN3YLohPhUL5tBAl1XaCkrk9/Qw4gC7/Ve4aybWz0TerjEYuypZ2+9mxnqnoiw/cgj/sHSvPeIIhKCvAnSHT3QjY6P/sHDANHvw5aoc6Xuc/DBbsAv3XaGDxfB8YV0geDiXE9hWfjV1wmU573O64atyyT1O6BSzP32W/GmyyuviBx1lP+IvBtq11wjMmRIMV/dTQK41OO+3gB8uvwQ7+H9993a+B6BWTrPFdRRWQsmTy793cx0z2yEcNB30HtfRMe/447iv3iP7SCmhzpCgOMEKiBfNn0TkaVPPy31unWjQNddcyHrUaD7AOOLW8hVxOokQAIkkDACfM6bm7CMUdwzRY5WXYKgxBlRFB0Xd11RkcndVFcUpGLzCmcETRs8ODuwqo+ZIj4rgY5jAEhJF+SirQKI6QTb8/bezxKn01amfOFeUQAxV61aeF5hNgH8WkeE6rffLhlJPKgXOuP2tpFtH71tYWMA7Zkq3u9FFE8S5DVH6jSUtWuLN10yRflPjcDv5Rvm+6yijSObgEqDiLYyiW30E5tg8NRRBQI8U1pB1FObUqkxK+Ci790kwPECPMNQshTBohssDsEa8fzxK3PnukcPUMDlvffCbTKkWXc8g27qC+m2S4Huw5cvbmYXHVsnARIggXwT4HPe3Awogb6qTh2pofI243ZVq4o8/HD6fNGqS96I2s8/X5y2KV2XdcV1poBNuueu0QdYVBGpGu6iEAjKsnrxxSLIIx2l+J0HTteOEugQGSqPdaZ7pjvrr9NP3dRQqW2ly/tcr57I7NlubYg5Fa1fpy/eOtmctW3XTmT6dH0LuvO2vIV7d2Up1ulvNn3EvGKdIS4Bot3jvHa2Yi+1z+nWnK4oVO15j454MzDgO4V82n7zljoWL9+gYGd+/YYoVpsYmY6JRGWY6fuJ+yKPu3KZ3203kW+/dUcd9X7eZ6GOqzvGfMMN/l4en34qsu++botLl4rUqeOyghcJBDvy0GONhewrBbrOQyB6HQp0H3Z8cYu+oHglCZAACSSBAJ/z5mZJCfRFP/wg9XHmW+Us7tVL5MEHg28MS5gSvToCPYzFTaVyS+2FrkCHcMJLrp+7M16Q4aobtoQVf6p+mEjUYTYAwvY/XX0/cQ+hCeGKAjEH9+KoJSj6umo39Qy6EuhhrdxRGOr2MZVB6hGCqO2kY5tpzelueHnbVlZ4bwaGN94oma886CiKly9cyeEZgpIuFoPyCPFzBVfp+7xWcVjWo7jD+40zlSueK9j0QYlToKM93Y2edF4e8+aJ7LOP27fly0V22KFk7yOm1aNAj/rg0ruOAt2HE1/c9BYPa5EACZBAUgnwOW9u5ooEuoruq8QAAkEhIFRQwQs5ok+j6Aj0IKGlI6x0RQnOvcKy6VcmTBDp2TNodKU/TxcsL11LiqfXlVb3rlGjSuu2H1QPogviEwViTkXrD7ou3edqEwCCDrmxU4OG+QXXO/RQ13qOEuacr+pDWIaqjxj3PfcEjzTdGvOO9bHHRH7+ubitsOfOM6053Q0v70iUdwriMKhNF7QD1qrotqv4pvPCwDx7xbnfEQ+1DmBZbtzY9XYBvzDB8/xmKp0XDuIaqNR9jRqJfPede3VIq3TaxaGzQZNu08Ur0LFmttuu9G3QPs6mw5KuWSjQNUFFrEaB7gOOL24RVxMvIwESIIGEEOBz3txEZS3Q0TX1sjlpkpvfN6hkOveMa4Nck8OKB7/+IGDbmWcG9dT93OvC7HWT17k6G4EeNS+zTr906iByN+YCBWJORevXuTaoTpCgU9xg7YQIVCWsS3dUhnGsMdXnVO8EXfGJc8o4r51pzQVtePnNgxLV3hSJsCjDW0EV3U0wL99MRyzCWOTh8aJ7/0zrLN3mzEEHuWe7UUwIdLSL8WINwQsFKQr9it9mpPcMOjwKsJnjVxCcE1Z478ZPBhYU6EEPpOw+p0D34ccXt+wWFa8mARIgAdsJ8DlvbobSCvSzzhJ54AG9G4cV6Gg1SKBlurOOKMmUpg1t43x9jx7uXdIFnQrrzp7uJRx/hwUd50mDAmJ52whr/dWbLf1aEBeI4I0CMaei9eu3kLmmTnA9HLmA+7UqYYVbVIZBa0zH0yPd6ONuW9ftObXP3hSJOOMMy7IqcW5QoM2w7enWT/edg3hNl6YRUeE/+MC9smFDtx4K1krYDbhMK1x3DN416hXoQakNdd3pRYQCPa6Hln87FOg+XPjiZnbRsXUSIAESyDcBPufNzUDeBDqGFDWoGa7N1grvdXFHFGdEdL/rrpLWrrDu7OnEAv4Ogf7UU8FR3FE3G/EX51LxCnRY7FS0/jjvka4ttTmCwGWIORBWOKJ+0CZN0DiyXWOZ2o+77SC3ar/Npr/+cvOKo8yYIYKc86rEvYmgu7GiLPLe4JOZOGY6JpEuEwLyqs+Z47aK4zkqojz+P2wGgEx9CztmtIV+oX8oOpkT/ObdJ5MABXrQlz27zynQffjxxS27RcWrSYAESMB2AnzOm5uhWAU6zhYff7y5zqa2nI0Vfvx4EQTCQ1FnT7PZMEg3aiWM8NKMjYAoQip3REve6eSTRZ5+2v0bxBw2GXJVFDe4eCMFmCpBwlHVw/VBRyV0xpLNGgtqP+62M51799ts8qZIxJnsNm1K9jidZT6KZ0kUa7K6TypH9ferrnJd4b3B5II21TCm7t3d9exXoowt3TxHGTOiy7do4bb4++9uNo2gkvrcUpkEPM82CvQgiNl9ToHuw48vbtktKl5NAiRAArYT4HPe3AylFei6UdzRNfVSm2uBjntHFdV+At0EZsUGljqVWiqskDLRL502IWRg9UeBmPOLhq/TTpQ6ihsChb36askWglx7cWRhzJjgFIG6/Yq6xnTaN9W2TrvwilDHFkaNcgOPpc6xX0CyIBHsN+6gjRU/rxG1BmDlR19V8d5fZ5zquqhHAXTmMa4xf/yxyP77u61lE5gxZfOHAj3qJOpdR4Huw4kvbnqLh7VIgARIIKkE+Jw3N3OJF+hR0Tz0kAjO2aPEFb3Zry9KZODfXldaVTeMwIg61qjXeS3ocDNHlO9ciXTF7aijRF55pfQI/KzPCKjVu3f6HNNRORTidX780rl3v/SSSKdOLoVhw0SuuCLaOgjr1q/WQKtWIrfe6qZMRIT3KOfEg4LU+c1x1PgF3rbCjvmjj0QOOMBtIdu4D55ny9Ly5aVet26ySGXrKMQ1nccxUaBToOdx+fHWJEACJJAfAhTo5rhnLdC9Z0Vxjvvaa6O9vJsbon/LCIB3zjnuZ3EHh/Le0euma3IjIG5+EBann+5Gb1clzvO5Qf0NEui43ubNjaDx5fPzsK7rOGKAjRIUbNQgLkDUEsatX60BBHWbPTvqHd3rdN3NvXeJmgEgtadhxoxxtm7ttgDuyGIQw6ZYqed8djR5dQoBCnSfJcEXN35PSIAESKCwCfA5b25+0wp05AiHlTlTCWOFMzeE8C2j3xDnq1YVX2tKfCZRoINP167puSJHeLoAXOFnw/8Kxe3oo0VefjmuVtlOkCXZz9UcUfQRCwAlNR1bFKK6GytqDcCirKKuR7kfrtEN2OZtPw4LumpPZ8z43l14ociKFbE/lyjQoy4cveso0CnQ9VYKa5EACZBAARGgQDc3mZEFelgrnLkhhGs51/1OmkCHkKhdWwQ5mNMVnPFevjwWy17aeyhuHTqIwMWaJR4CupZkrzjFfyuruV8wuXh6VroVtQZwJvvDD7O7i+64cZd8ZFEw/FyiQM9u+QRdTYFOgR60Rvg5CZAACRQcAQp0c1MaSaBHscKZG4J+y/nod9IEOlyYEZgtqMD9VllVg+pG+Vxx69hRZNq0KC3wGj8CupZkr3u3V9zCBRsu57koag0g7RiCp2VTgoLUqbbjjOKu298cPJco0HUnI1o9CnQK9Ggrh1eRAAmQQIIJUKCbm7xIZ9B1rVFxuojGgSAf/U6aQO/fX2TQoGDa/fqJDBwYXC9qDQr0qOQyXxflO/D2226AQBQEMVNpwMz00G3VG9uiUSORr7/O3mMjKPo/7hslQn22HKLMSch7UqCHBBayOgU6BXrIJcPqJEACJJB8AhTo5uYwkgU9ihXO3BD0W85HvynQ9efHW1NxQ/TwqVOjtcGrShMIsiT7uXe/845Iu3ZuW3Pniuyzj1myJmNb+LW9/fYip50mcsIJ0SLEZ0sjB88lCvRsJynz9RToFOhmVxhbJwESIAELCVCgm5uUSAI9BxYfIyPOR7+TJtBtc3E/5hiRKVOMLIcy22jY1F8zZrjCFeXzz0WaNDGHzvBZbKfjOgHbzI2wdMs5eC5RoJudUAp0CnSzK4ytkwAJkICFBCjQzU1KJIEexQpnbgj6Leej30kT6LYFiTv2WJEXX9SfY9bUIxAm9de774q0beu2C1fz3XfXu0fYWjk4ix22Szmpn4PnEgW62ZmkQKdAN7vC2DoJkAAJWEiAAt3cpKQV6D16iIwfn/7GYa1w5oYQruVc9ztpAh00bUqz9p//iLzwQrg5Zm09ArqW5FmzRNq0cdv87juRXXfVaz9srRxYksN2KWf1DT+XKNDNziQFOgW62RXG1kmABEjAQgIU6OYmJbJAV0Kud2+Rn34q7mA+giyFxRPGehi27dT6SRToam4vu0xk8eLiEZnKFe/HWHE77jiR//u/bGeB12dD4L33RA46yG1h4UKRnXfOprX01+bgLLaZjsfUqsHnEgV6THOUphkKdAp0syuMrZMACZCAhQQo0M1NSlYCHd3StcKZG0K0lnPV76QK9HzPreJ2/PEikydHm2NeFQ+B998XadXKbWvJEpG6deNpN7WVsmxBVywMPZco0M0sWdUqBToFutkVxtZJgARIwEICFOjmJiWtQD/zTJEJE8zduKy0nGSBns85UtwQWXvSpHz2hPf+4IPi3OcrVogg6rmJkoOz2Ca6nYQ2KdDNzhIFOgW62RXG1kmABEjAQgJJEOj33nuv3HbbbbJ06VJp2rSpjBgxQg5RkY99mD722GMybNgw+eabb6R69erSsWNHuf3226VWrVpO7fHjx0uvXr1KXbl+/XqpVKlS0d/D3je1QQp0wwueAj0aYAr0aNxMXOV1cf/1V5GaNU3cxW3T8Flscx23u2UKdLPzQ4FOgW52hbF1EiABErCQgO0C/amnnpIzzjhDIJbbtm0r999/v4wbN06++OIL2dnnvOaMGTPk0EMPleHDh8txxx0nixcvlgsuuEAaN24szz//fJFA7927t3yNqMmeUqdOnaL/C3tfv6mlQDe84CnQowFW3Dp3Ftn8nYjWEK/KmoA3ivtvv4lUq5Z1kxkbMHgW22zH7W2dAt3s3FCgU6CbXWFsnQRIgAQsJGC7QG/VqpW0aNFCRo8eXURvr732ks6dO8stt9xSiigs5aj7HSIiby533323Y1FftGhRkUDv06ePrF69Ou2MhL1vKIF+xhkiDz9s4WpIWJco0KNNmOLWpYtrVWXJH4F33hFp1869/7p1IpUrm++LobPY5jtu5x0o0M3OCwU6BbrZFcbWSYAESMBCAjYL9D///FOqVKkizzzzjHSBmNhcYP2eM2eOTJ8+vRTRd999V9q3b+9Yyzt16iQrVqyQbt26CUT9fffdVyTQzznnHNlxxx3ln3/+kf32208GDhwozZs3dz6Pct+oAv3ff/+Vv//+2+kHS0gCe+5ZfMFXX4W82K2+5ZZbSvny5WULr9iP1FJCLsI6K1/e7SyOibz5JiAkpPMF2E1v8LY//xTZaqsCHGRhD4kC3ez8UqD78LX5xc3scmDrJEACJFA2CNj8nF+yZIkjomfOnCltVK5gERkyZIhMmDChlIu6mrFnn33WOWO+YcMGR/wef/zxgr9ttfnl97333pNvv/1W9t57b8H477rrLpk6darMnTvXcYWPet+NGzcK/lEF7vVNmjRxLPf1kUZLicDNFnRsBOBc/TpYzljCEfj3X5Effyy+BscdIopsbALVrVtXKlSoEK4PSavt596cy/RuSeOVi/6++qrI0Ue7d3r9dZFDD+WGSS64x3gPCvQYYfo0RYFOgW52hbF1EiABErCQQBIEOqziB6lcwSIyePBgeeSRR+QrH6spzqYfeeSRcvnll0uHDh0cAXz11VdLy5Yt5YEHHvCdgU2bNjlu9O3atZORI0cWCfQw90XDN910k9x8882l7lFKoJ9+umyaMMEJYgcL7vbbb++IwzJjxc32e7BmjciyZSJ//VXcEjZfEEOgenXt1uG9gE2Sn3/+2fFgwOZMuXLltK9PVEUVIAwbG96iNjWefVbkxBMTNaTEdxZzcv75Ir/8UjwUbpgkblop0M1OGQU6BbrZFcbWSYAESMBCAjYL9Ciu5ggoB8s53OJVQeA4RH2HZRyWUr9y7rnnCl60pk2bFtnFXduCfvrpsmHsWFmwYIE0aNDAceNn0SSwapWIJ75AqasaNQodCRseDAsXLpSGDRuWiOKv2SP7q6kUWz/95N9XiHQIwwULaL3N1WxywyRXpI3fhwLdLGIKdAp0syuMrZMACZCAhQRsFujAhWBt+++/vxPFXRW4jZ9wwgm+QeK6du3qnClGFHZVZs2a5bjIw+W8Xr16pWYBltQDDzzQcXl/8MEHnc/D3tdvatNGcfcI9IIVhSbWOqy/8+YhSED61uGmvvfeodzdsaGDzZKCnQvvOedM84Lz6IcdZmLm2KaXADdMCmo9UKCbnU4KdAp0syuMrZMACZCAhQRsF+gq3RkCvMHNfcyYMTJ27Fj5/PPPHetz3759HeH98Oao6MhxDms4XNWVizsitsN1efbs2c4MwA29devWjkszxo+6cJnHWXcIdZSg++pMZVqBftppsmHcuMIWhTqAwtZZu1YkJTWebxN77BEqXVXBC/QnnhA59dRg2o8/LnLKKcH1WCM7AtwwyY6fZVdToJudEAp0CnSzK4ytkwAJkICFBGwX6EAG6znSpOE8ebNmzZwc5zgvjtKzZ0/54Ycf5C289G4uSKsGQQ+raI0aNeTwww+XoUOHOgHnUHA+/bnnnpNly5ZJ9erVnejtOD/uPecedF+dqSzx4gbXehU9+8gjZcOkSbLgxx8L12qrAyhsnZUrXTfsoNKwoUitWkG1ij4veIFOQai9FnJSkRsmOcGcq5tQoJslTYFOgW52hbF1EiABErCQQBIEuoXYtLqkXtyWjhkjdf73PxHPGeANrVrJglGjpGHTptmde85xTmNsiCCCfmpBwLvddtvN2TBRn+OowU477SQnnnii47VQtWpVLW79W5lnAAAeTUlEQVRpK6VY0G8aM0YmvfWWzIHl11toQS/JQ7lUL14skhokDjV5Bj27dRn2am6YhCVmdX0KdLPTQ4FOgW52hbF1EiABErCQAAW6uUlRL26rRSQ1tviGXXaRBaNHS8PmzaVS7drROpGHtFkQ4MuXL5eHHnqoRJ8RiR4R6b2f//XXX/LOO+8Ics736NFDRo8erTVOBAf0TXmWcgbdV6DzDLo/YxWUDJ96RTqjuGutyVgrccMkVpz5bowC3ewMUKBToJtdYWydBEiABCwkQIFublIyCvQGDWTBffdJw7p1pdI++4QKaub0OE9RoCHAV69eLZMmTfIF5/c5YgK8+OKLzhEFv7LLLrs4Ih656Z9//nnp3LmzY4W/9tprnf8Hxzp16shpp50mAy69VLb68UcZ/8IL0gteCZ7y0IAB0rNPH1lTrpyTWg99hPv6AQcc4ByL2HfffX3vX/Au7mrUfhs6O+0kMmIEU6yZewxwwyTXbHN8Pwp0s8Ap0CnQza4wtk4CJEACFhKgQDc3KerFbY2IbJNymw1KoG+3nVSCS/bWW4usW6fXGVjgmjQRgcuyX4FVFOftP/9cL20W0rwpS2pAD6II9Msuu0wef/xx+cWb79lzHwj0VatWSf/+/R1xjgJ3+UGDBjnxAxB5f968eU7wvyuuuEKuOfdcWf/NN9J/5Eh5adYseW3UKJEKFaT6nntKpbp1nZR62267rQwYMMCJMXD//fcLggfOnz/f+XtqKTMCHQPP8ZEIvQVdRmtxw6QgJj6qQEdsldtuu83ZuGzatKmMGDHCeXb5FdS58sor5aOPPhIcJ8IzFfW9Bc+4Xr16lbp8/fr12R2jyvMsUaBToOd5CfL2JEACJJB7AhTo5phrC3QENatUyRXp+Si//y6ieT4cAv3RRx8t8cLXqVOnorzzqQL+/fffl2OOOUaOOOKIEqnvvMOEQEegPljLMxW8zCK6/ocffui4ad90/fUy6cUXZc6777rstthC3njjDenSpYusWLFCKlasWNQcBP8111wj5513XtkW6PlYX7xnegLcMEn86ogi0FWWEIj0tm3bOpuI48aNky+++EJ23nnnUkwQCBVeQEg5in8feuihvgK9d+/e8nVKpgt4HyW5UKBToCd5/bLvJEACJBCJAAV6JGxaF2kLdFjQy5VLjEBHWjvveXIEf6uLKPWbo+orAf/3338LzqEjZz2i6u+www6+3CDQYR2/4YYbSnz+7LPPOi+hcH3//fffBe1ts802jvhGQeR9uLHPmTOn6DqI+Ouuu04qV65coi1Yka666ionmn9qKVMWdK2Vy0okQAK6BKII9FatWkmLFi1KPEf32msvx4PolltuyXjrww47TPbbbz9fgY6UojiCVEiFAp0CvZDWM8dCAiRAAloEKNC1MEWqFOoMOu6g6+L+9tsixxwT3KepU0U2p6PLWDlmF3cl4LfaaivHPR3/zlQg0PFiiX9Uee+99+Tggw92or8jnz1c1Z988km54447il5A/QQ6BDjS7HnT7qk2kXJvu+22o0APXjmsQQIkoEkgrEBHEMwqVao4Xkfw9lEF1m9sNk6fPj2yQEcsD6QT/eeffxwRP3DgQMc7KcmFAp0CPcnrl30nARIggUgEKNAjYdO6qIRAxxlvT/TsrKK45zEKdJQz6EGw/AQ6hDjcP7/77ruiy/HyCau6shANGTJEnnjiCed8uiqvvvqqwOUeVne0q1NoQdehxDokQAJ+BNRzHu7pEMeq4IiN95iN+vuSJUucejNnzpQ2bdoU1cfzDMExU13UU++ZzoKOTU089/bee2/B7/pdd90lU6dOlblz50rjxo0TO3kU6BToiV287DgJkAAJRCVAgR6VXPB1GfOgt24tC+65J3oe9DylzcqVQJ88ebL897//lUceeURatmwpU6ZMcazpsAwpgY7AczhTPmPGDKlfv75Uq1bNSc/Wrl07Wbt2rePOvsceewheiPGiCvdRRHRPLRTowWuZNUiABPwJqOd86qc33nijcwwntSiB/u6778pBBx1U9PHgwYOd591XX32VEXU6gZ560aZNmxw3ejwPR44cmdjpo0CnQE/s4mXHSYAESCAqAQr0qOSCryvh+ogz2u+8I4JUY3XryoaWLWXBjz9Kw4YNo0fYzUMU6FwJdNBFULcHH3xQNm7cKMcee6y0bt3aeeFVAh1/R+q1119/3fkbcrOjfxDnOM8+ceJE+fnnn50UbXhJxdnOnZBWLKVQoAevZdYgARLILNB1LeimXNz9eofYHvgdmjZtWmKnjwKdAj2xi5cdJwESIIGoBCjQo5ILvi7T2cTYRCGjQAdPRECN2OYi656wARIggaQRCHsGHeNDkDhEZMcxHlWaNGniBNSMGiQuldu///4rBx54oOPyjo3OpBYKdAr0pK5d9psESIAEIhOgQI+MLvDCnAj0wF6wQhABCvQgQvycBEggHYEoAl2lWUN2C7i5jxkzRsaOHSuff/65NGjQQPr27SsItvnwww8X3VZlq0AsDhzdufrqq50jPRD2KDgCBC8jnDfH7zrc2uEyj7PuEOpJLRToFOhJXbvsNwmQAAlEJkCBHhld4IUU6IGIrKhAgW7FNLATJJBIAlEEOgYK6/mwYcNk6dKl0qxZMye/OY7ioOCoDnKfe7NRbIFAoykFYh71UC6//HJ57rnnZNmyZU7WC0Rvx5Eg7zn3JAKmQKdAT+K6ZZ9JgARIICsCFOhZ4ct4MQW6ObZxtkyBHidNtkUCZYtAVIFetihFHy0FOgV69NXDK0mABEggoQQo0M1NHAW6ObZxtkyBHidNtkUCZYsABbrZ+aZAp0A3u8LYOgmQAAlYSIAC3dykUKCbYxtnyxTocdJkWyRQtghQoJudbwp0CnSzK4ytkwAJkICFBCjQzU2KjkDfZZddpHLlyuY6wZYDCaxfv945x5lVyrvAu7ACCZBAIRKgQDc7qxToFOhmVxhbJwESIAELCVCgm5uUTC9u//zzj8yfP1922GEHqVWrlrlOsOVAAitXrpQVK1bI7rvvLltuuWVgfVYgARIgAUWAAt3sWqBAp0A3u8LYOgmQAAlYSIAC3dykBL24IXrv6tWrHZFepUoV8YvSa653bBl5gtetW+eI8xo1akjdunUJhQRIgARCEQh6zodqjJVLEaBAp0Dn14IESIAEyhwBCnRzUx704gaBiJQ4EOks+SMAcV6nTh1ukORvCnhnEkgsgaDnfGIHZknHKdAp0C1ZiuwGCZAACeSOAAW6Oda6L25wd//rr7/MdYQtpyWw1VZb0a2d64MESCAyAd3nfOQblPELKdAp0Mv4V4DDJwESKIsEKNDNzTpf3MyxZcskQAIkYAMBPufNzgIFOgW62RXG1kmABEjAQgIU6OYmhS9u5tiyZRIgARKwgQCf82ZngQKdAt3sCmPrJEACJGAhAQp0c5PCFzdzbNkyCZAACdhAgM95s7NAgU6BbnaFsXUSIAESsJAABbq5SeGLmzm2bJkESIAEbCDA57zZWaBA9+G7Zs0aJ/XIokWLZJtttjE7A2ydBEiABEgg5wQg0HfaaScnknj16tVzfv9CvuGPP/4oDRo0kPfff58pvAp5ojk2EiCBMksA6TIPPPBAWbhwoey8885lloOpgVOg+5D9/vvvpVGjRqaYs10SIAESIAFLCGAjtn79+pb0pjC6MXPmTDn44IMLYzAcBQmQAAmQQFoC2Iht2bIlCcVMgALdBygsKjVr1hRYAWy3rCgrkO3W/qT0E8uBfY35KbO5uaRwTUo/uVazW6fIxb127VqpV6+elCtXLrvGeHUJAr/++qvUqlVLPvvsM+t/Q7EGmjRpIl988YVUq1bN6plMSl+T0k9MNvsa/5In0/iZ2rhWN23aJMuXL5fmzZtL+fLlzQy6DLdKge4z+Uk6m5iUvialn0r0YGMGRx1sP+JArvE/vck0fqZJ+16ZIVB2WuV3yMxcJ4VrUvqZtOdSUrgmpZ+cfzPPKbYaDwEKdAr0eFZSQCt8YJvBTK7xcyXT+Jkm7UXIDIGy0yq/Q2bmOilck9LPpD2XksI1Kf3k/Jt5TrHVeAhQoFOgx7OSKNBzwjH1JvwhjB87mcbPNGkvQmYIlJ1W+R0yM9dJ4ZqUfibtuZQUrknpJ+ffzHOKrcZDgALdh+PGjRvllltukb59+0rFihXjIW2olaT0NSn9xDSxr2YWa1K4JqWfXKtm1ilbzZ4Av0PZM/RrISlck9JPPkPL9jrl/JuZf7YaDwEK9Hg4shUSIAESIAESIAESIAESIAESIAESyIoABXpW+HgxCZAACZAACZAACZAACZAACZAACcRDgAI9Ho5shQRIgARIgARIgARIgARIgARIgASyIkCBnhU+XkwCJEACJEACJEACJEACJEACJEAC8RCgQE/heO+998ptt90mS5culaZNm8qIESPkkEMOiYe2Zitvv/2204ePPvrI6cfzzz8vnTt3Lrr633//lZtvvlnGjBkjq1atklatWsmoUaOc/qqCIC1XXXWVPPHEE7J+/Xo54ogjBGOrX7++Zi+CqyGQ3nPPPSdfffWVVK5cWdq0aSNDhw6VPfbYw7q+jh49WvDPDz/84PQNrAYMGCCdOnVy/t8WpqnUwfj666+X3r17O2vRpr7edNNNzjr0ltq1a8uyZcus6qfq3+LFi+Xaa6+VadOmOd+J3XffXR544AHZf//9rervLrvsIgsXLiz1Bbzooouc77kta/Xvv/8WrIHHHnvMmfO6detKz549pV+/flKuXDmrmAY/zVgjLgL8DdUnyd/Q+N9L+Btqjil/Q+N9h8Za5e+o/vOyrNWkQPfM+FNPPSVnnHGGI2Tbtm0r999/v4wbN06++OIL2XnnnXO2NiAgZs6cKS1atJCuXbuWEugQwYMHD5bx48c7ImPQoEECUf/1119LtWrVnH5eeOGF8sILLzh1atWqJVdeeaX8+uuvjujfcsstYxlLx44dpXv37tKyZUvnIXPDDTfIvHnzHF5Vq1Z17mFLX8EC495tt92cfk2YMMHZBPnkk08csW5LP70T88EHH0i3bt1km222kfbt2xcJdFv6CnH27LPPymuvvVbUbTDefvvtrZp7dAYbWc2bN3c44ruxww47yHfffScQw40aNbKqvz///LP8888/RUw/++wzOeqoo+TNN9+Uww47zJq1imfQ8OHDne8SvkMffvih9OrVy3keYUPJpu9/LA88NhJIgL+hgYhKVOBvaPzvJfwNNcOUv6FmuPJ3NNwzsyzVpkD3zDYs0RDFsLSqstdeeznWa+x056NsscUWJQQ6rGf16tWTPn36ONZAFFjLYbmEcDv//PNlzZo1jkh65JFH5OSTT3bqLFmyRHbaaSeZOnWqdOjQwchQICwgfKZPny7t2rVzLH229hUAtt12W0ekn3XWWdb18/fff3fWIjaLIHj2228/R6DbxBQCfdKkSTJnzpxS68mmfqJz1113nbPp9c477/iufdv66+0kvusvvviifPPNN86fbflO/ec//3GeO/BCUAUbilWqVHGePTYzNfIAZKOONxd/Q6MvBP6GRmeXeiV/Q+N91+NvqJl3aP6OxvedL7SWKNA3z+iff/7pvFg+88wz0qVLl6J5hiUIAgSiMx8lVaB///33jsXv448/diyCqpxwwglSo0YNx5r1xhtvOC7tsJjXrFmzqM6+++7rbDakuiXHNa5vv/1WGjdu7FjRmzVrJrb2FdZJzHOPHj0cC3qlSpWsY4q+YQMBFkpYTZVAt4kpBDo2OKpXry4VK1Z0Xs6HDBkiu+66q3Vz36RJE2dj6qeffnK+yzvuuKPAZfzcc891lr9NXL3fRzyXIMivuOIK56iDTf289dZb5b777pNXXnnF8eSZO3euHH300c5G0imnnGJVX+N6xrGd9AT4G5r96uBvaPYMVQv8DY33XY+/oSIm3qH5Oxrfd77QWqJA3zyjsDDjpR1WNpylVgWCA6IX7uP5KKkC/d1333Xc73EWCC/uqpx33nnOudWXX35ZHn/8ccfVFJZ1b8HLc8OGDR3X/bgLrGXYJIAblLJS2tZXbBwcdNBBsmHDBtl6660dTsccc4zY1s8nn3zSOcIAF3dsHngFuk19xVGMdevWOeJs+fLljqUf8Qg+//xz5/ti0zoFRxQI3ZNOOknef/99xwsF34UzzzzTujWgvp9PP/20nHrqqfLjjz8633eb5h/feWwawHMHRxuw8YV127dvX6f7NvU17ucd2ytNgL+h2a0K/obG917C39D43/X4GyrOBnTc79D8Hc3uuVnIV1Ogpwh0vFRCxKmCF064a0J45KOkE+h4GUJQJlVgCVy0aJG89NJLaQU6zrHC+g6rV9zl4osvlilTpsiMGTOKAtGpF3Rb+goLD4TO6tWrZeLEiU58AVhT8f8Qkzb0E3N4wAEHOFZJ7Nai+Al0G/qauob++OMPZ31dc8010rp1a2uYop8VKlRwuGJNqnLZZZc5myCzZs0qEpO2cYXVH31HDAWv6LWhn3gJvvrqqx0vCpxBh6cRNj3uvPNOxzvFtu9/3M88tleSgBLo/A2NtjL4GxrPewl/Q8WJWRL3ux5/Q81w5e9otOdlWbiKAn3zLNM9L/pyv/TSS52zyAhUh91FVWxyx/Ub3ZFHHun8iOEsvy3HBsARRyy8gfxgmcRGDSJjwzKNQHc2HnEAY7wYoH8QbrYwRb8aNGjg9A2bMqog1gSs/vBGsXGtwiMGxwWQKQHeKSg29RMxLXAuEcJCFfB89NFHnQ1Nm/oa/enGK3UJ8DdUl1TpevwNjc8dm7+hZlyx+Rtqhit/R6M/Nwv9Sgp0zwzjDC1SLiEwlyo4d4OXY9uCxF1++eWOpRIFL0YIzpYaJA4vyogCjoJ0bUixFmeQOLjm4MUCaeDeeust5/y5t6ggUTb01e+LjHP6eDg+9NBDjvuwDf1cu3ZtqRRbOK6w5557OhsJsFTa0tdUpjhSAVGO4xb9+/e3qp9wE4dlxRskDvM9e/Zsx9Jr41rFGX+44KPf5cuXd3Db1E9kh4AgR1R8VfCcxPdp/vz5VvW10H/IbRkff0PDzQR/Q+N/L+FvaPxMsar5G2qGK39Hwz0zy1JtCnTPbKsUMXABh5s78oyPHTvWOVOL3cNcFUQfRbAYFASCg8so0kMhaBjSvUGIqxdhiGKck4dATk2zhsjPSLOG65ATfeXKlbGmWUOQLZzjnjx5conc5wgahrzoKLb0FWdlkfMcghw/4HArQnAOHAmAZdWWfvqtMa+Lu01MsaaOO+44Z02uWLHCEWs4MoCz/vi+2MQUruyILYEAidi0whl0HAvBd/y0006zaq2iM5s2bXK8URBsDevUW2zhipznSLGHTQRsHCHgIjZnkBUBfbRprebq2V3W78Pf0HArgL+h8b+X8DfUDFP+hprhyt/RcM/MslSbAj1ltmE9HzZsmGNxRiRyRNFGyrBcFohtCPLUgnOdENzYdYfQwIsxgrLBajFq1Cinv6ogEBrcjCGg169f70R1x9ggUOMqcLv2K7Cg4aGDYktfzz77bHn99dedecUGwj777ONYpCHObeqnzsuFLUy7d+/uHGv45ZdfnLR+OHc+cOBAgdeJjUyxYYUAZkhXBvGLgHEqirtt/UUMApw/x6YbgvB5iy3zj40ueErAgwYbNPDswIbCgAEDnHPztjGN67nHdjIT4G+o/grhb2j87yX8DTXHlL+h8b5DY63yd1T/eVnWalKgl7UZ53hJgARIgARIgARIgARIgARIgASsJECBbuW0sFMkQAIkQAIkQAIkQAIkQAIkQAJljQAFelmbcY6XBEiABEiABEiABEiABEiABEjASgIU6FZOCztFAiRAAiRAAiRAAiRAAiRAAiRQ1ghQoJe1Ged4SYAESIAESIAESIAESIAESIAErCRAgW7ltLBTJEACJEACJEACJEACJEACJEACZY0ABXpZm3GOlwRIgARIgARIgARIgARIgARIwEoCFOhWTgs7RQIkQAIkQAIkQAIkQAIkQAIkUNYIUKCXtRnneEmABEiABEiABEiABEiABEiABKwkQIFu5bSwUyRgJ4EttthCnn/+eencubOdHWSvSIAESIAESMBiAvwdtXhy2DUSsIQABbolE8FukEAQgZ49e8qECRNKVevQoYO89NJLQZfH8jlfLGLByEZIgARIgATyQIC/o3mAzluSAAmEJkCBHhoZLyCB/BDAi8Xy5cvloYceKtGBihUrSs2aNXPSKQr0nGDmTUiABEiABAwQ4O+oAahskgRIIHYCFOixI2WDJGCGAF4sVq9eLZMmTfK9AcTzvffeK//3f/8nb731ltSpU0eGDRsmJ510UlH9efPmSe/evWXWrFlSpUoV6dq1q9x5552y9dZbF9V58MEH5Y477pBvv/1Wtt12W6fOPffc43yOe4wdO1amTJkiL7/8suy4445O3eOPP975fNWqVXLJJZfIK6+8Ir///rvUr19frr/+eunVq5cZKGyVBEiABEiABDQJ8HdUExSrkQAJ5JUABXpe8fPmJKBPQOfFolatWnLrrbdKu3bt5JFHHpFbbrlFIMr32msvWbdunTRu3Fhat24tN998s6xYsULOOeccp+748eOdjowePVquuOIKp41OnTrJmjVrZObMmdKnT58igQ7RDeHfsmVLufvuuwWCfuHChY6YhzhHfYj47bbbzhH569evl+OOO05/oKxJAiRAAiRAAgYI8HfUAFQ2SQIkEDsBCvTYkbJBEjBDAC8Wjz76qFSqVKnEDa699lrp37+/Y92+4IILHJGtCsR4ixYtHMs6RDPqLlq0SKpWrepUmTp1qiOelyxZIrVr13Ys4rB2Dxo0yHcQuEe/fv1k4MCBzud//PGHVKtWzWmnY8eOjiUdwhyinYUESIAESIAEbCLA31GbZoN9IQESSEeAAp1rgwQSQgAvFosXLy4hwNF1WK7xD8QzgsideeaZRSO6/PLLZc6cOfLmm286lvFPPvnE+W9VYCGvUaOGTJ8+Xfbcc09HpL/xxhvSvn37tAL96aefLuE2X716dceSjvtOmzbNcYnffffd5eijj3aivbdp0yYhhNlNEiABEiCBQibA39FCnl2OjQQKhwAFeuHMJUdS4AR0XPP8BPrcuXMd0Q2xrv47VaC//fbbst9++8k222wTKNBT06xB4I8YMULQP5Sff/7ZOaP+2muvycSJE+Xiiy+W22+/vcBnh8MjARIgARKwnQB/R22fIfaPBEgABCjQuQ5IICEEdF4sLrzwQsedXZWDDjpImjdvru3i3rBhQznttNMyurgHCXQvzvvvv1+uvvpq+e233xJCmd0kARIgARIoVAL8HS3UmeW4SKCwCFCgF9Z8cjQFTCBdepjy5cs7577h4o5/Dx06VA4++GB57LHHHKGNIHFNmjRxgsTttttujsv5TTfd5Fi6ESTukEMOKQoSBws8zrGjDQSJW7t2rRP07dJLL3XI+qVZ81rQBwwYIPvvv780bdpUNm7cKNddd50TjG727NkFPDMcGgmQAAmQQBII8Hc0CbPEPpIACVCgcw2QQEII4MUCAjq17LHHHvLVV1854nnUqFFOGja4rCPNGqKxd+/evegSnTRrsHoPHz5cvv/+e0fw//e//5WRI0dqCXRsCDz++OPyww8/SOXKlR3xj7ZgmWchARIgARIggXwS4O9oPunz3iRAAroEKNB1SbEeCVhOwM+6bXmX2T0SIAESIAESsIYAf0etmQp2hATKNAEK9DI9/Rx8IRHgi0UhzSbHQgIkQAIkkGsC/B3NNXHejwRIwI8ABTrXBQkUCAG+WBTIRHIYJEACJEACeSHA39G8YOdNSYAEUghQoHNJkAAJkAAJkAAJkAAJkAAJkAAJkIAFBCjQLZgEdoEESIAESIAESIAESIAESIAESIAEKNC5BkiABEiABEiABEiABEiABEiABEjAAgIU6BZMArtAAiRAAiRAAiRAAiRAAiRAAiRAAhToXAMkQAIkQAIkQAIkQAIkQAIkQAIkYAEBCnQLJoFdIAESIAESIAESIAESIAESIAESIAEKdK4BEiABEiABEiABEiABEiABEiABErCAAAW6BZPALpAACZAACZAACZAACZAACZAACZAABTrXAAmQAAmQAAmQAAmQAAmQAAmQAAlYQIAC3YJJYBdIgARIgARIgARIgARIgARIgARIgAKda4AESIAESIAESIAESIAESIAESIAELCBAgW7BJLALJEACJEACJEACJEACJEACJEACJECBzjVAAiRAAiRAAiRAAiRAAiRAAiRAAhYQoEC3YBLYBRIgARIgARIgARIgARIgARIgARKgQOcaIAESIAESIAESIAESIAESIAESIAELCPw/3pspGq3y6YEAAAAASUVORK5CYII=\" width=\"1000\">"
      ],
      "text/plain": [
       "<IPython.core.display.HTML object>"
      ]
     },
     "metadata": {},
     "output_type": "display_data"
    }
   ],
   "source": [
    "ax, tax, lax, lines = dual_train_plots()\n",
    "fig = ax.figure\n",
    "plt.tight_layout()\n",
    "# This gets built up during the run - do not rerun this cell\n",
    "results = pd.DataFrame([], columns=Results._fields)"
   ]
  },
  {
   "cell_type": "code",
   "execution_count": null,
   "metadata": {
    "scrolled": false
   },
   "outputs": [
    {
     "name": "stdout",
     "output_type": "stream",
     "text": [
      "for model:  All_CNN6Layer_F(\n",
      "  (conv1): Conv1d(1, 10, kernel_size=(25,), stride=(1,), padding=(12,))\n",
      "  (conv2): Conv1d(10, 5, kernel_size=(15,), stride=(1,), padding=(7,))\n",
      "  (conv3): Conv1d(5, 5, kernel_size=(15,), stride=(1,), padding=(7,))\n",
      "  (conv4): Conv1d(5, 5, kernel_size=(15,), stride=(1,), padding=(7,))\n",
      "  (conv5): Conv1d(5, 1, kernel_size=(5,), stride=(1,), padding=(2,))\n",
      "  (finalFilter): Conv1d(1, 1, kernel_size=(91,), stride=(1,), padding=(45,))\n",
      "  (conv1dropout): Dropout(p=0.15, inplace=False)\n",
      "  (conv2dropout): Dropout(p=0.15, inplace=False)\n",
      "  (conv3dropout): Dropout(p=0.15, inplace=False)\n",
      "  (conv4dropout): Dropout(p=0.15, inplace=False)\n",
      "  (conv5dropout): Dropout(p=0.15, inplace=False)\n",
      ")\n",
      "epoch_start 1420\n",
      "batch_size 128\n",
      "epochs 1000\n",
      "lr 0.001\n",
      "Number of batches: train = 1250, val = 78\n"
     ]
    },
    {
     "name": "stderr",
     "output_type": "stream",
     "text": [
      "/home/michael24peters/pv-finder_experimental/notebooks/model/training.py:95: TqdmDeprecationWarning: This function will be removed in tqdm==5.0.0\n",
      "Please use `tqdm.notebook.tqdm` instead of `tqdm.tqdm_notebook`\n",
      "  file=sys.stderr,\n"
     ]
    },
    {
     "data": {
      "application/vnd.jupyter.widget-view+json": {
       "model_id": "d0e26301a06c4a459a624fcac3ae6d2b",
       "version_major": 2,
       "version_minor": 0
      },
      "text/plain": [
       "HBox(children=(FloatProgress(value=0.0, description='Epochs', layout=Layout(flex='2'), max=1000.0, style=Progr…"
      ]
     },
     "metadata": {},
     "output_type": "display_data"
    },
    {
     "data": {
      "application/vnd.jupyter.widget-view+json": {
       "model_id": "",
       "version_major": 2,
       "version_minor": 0
      },
      "text/plain": [
       "HBox(children=(FloatProgress(value=0.0, description='Training', layout=Layout(flex='2'), max=1250.0, style=Pro…"
      ]
     },
     "metadata": {},
     "output_type": "display_data"
    },
    {
     "name": "stdout",
     "output_type": "stream",
     "text": [
      "Epoch 1420: train=8.126, val=8.31623, took 26.807 s\n",
      "  Validation Found 51150 of 54504, added 2566 (eff 93.85%) (0.257 FP/event)\n"
     ]
    },
    {
     "data": {
      "application/vnd.jupyter.widget-view+json": {
       "model_id": "",
       "version_major": 2,
       "version_minor": 0
      },
      "text/plain": [
       "HBox(children=(FloatProgress(value=0.0, description='Training', layout=Layout(flex='2'), max=1250.0, style=Pro…"
      ]
     },
     "metadata": {},
     "output_type": "display_data"
    },
    {
     "name": "stdout",
     "output_type": "stream",
     "text": [
      "Epoch 1421: train=8.13025, val=8.34042, took 25.774 s\n",
      "  Validation Found 51058 of 54504, added 2085 (eff 93.68%) (0.209 FP/event)\n"
     ]
    },
    {
     "data": {
      "application/vnd.jupyter.widget-view+json": {
       "model_id": "",
       "version_major": 2,
       "version_minor": 0
      },
      "text/plain": [
       "HBox(children=(FloatProgress(value=0.0, description='Training', layout=Layout(flex='2'), max=1250.0, style=Pro…"
      ]
     },
     "metadata": {},
     "output_type": "display_data"
    },
    {
     "name": "stdout",
     "output_type": "stream",
     "text": [
      "Epoch 1422: train=8.129, val=8.22467, took 25.796 s\n",
      "  Validation Found 51125 of 54504, added 2181 (eff 93.80%) (0.218 FP/event)\n"
     ]
    },
    {
     "data": {
      "application/vnd.jupyter.widget-view+json": {
       "model_id": "",
       "version_major": 2,
       "version_minor": 0
      },
      "text/plain": [
       "HBox(children=(FloatProgress(value=0.0, description='Training', layout=Layout(flex='2'), max=1250.0, style=Pro…"
      ]
     },
     "metadata": {},
     "output_type": "display_data"
    },
    {
     "name": "stdout",
     "output_type": "stream",
     "text": [
      "Epoch 1423: train=8.13532, val=8.25763, took 26.101 s\n",
      "  Validation Found 51108 of 54504, added 2237 (eff 93.77%) (0.224 FP/event)\n"
     ]
    },
    {
     "data": {
      "application/vnd.jupyter.widget-view+json": {
       "model_id": "",
       "version_major": 2,
       "version_minor": 0
      },
      "text/plain": [
       "HBox(children=(FloatProgress(value=0.0, description='Training', layout=Layout(flex='2'), max=1250.0, style=Pro…"
      ]
     },
     "metadata": {},
     "output_type": "display_data"
    },
    {
     "name": "stdout",
     "output_type": "stream",
     "text": [
      "Epoch 1424: train=8.12212, val=8.30453, took 25.695 s\n",
      "  Validation Found 50914 of 54504, added 1870 (eff 93.41%) (0.187 FP/event)\n"
     ]
    },
    {
     "data": {
      "application/vnd.jupyter.widget-view+json": {
       "model_id": "",
       "version_major": 2,
       "version_minor": 0
      },
      "text/plain": [
       "HBox(children=(FloatProgress(value=0.0, description='Training', layout=Layout(flex='2'), max=1250.0, style=Pro…"
      ]
     },
     "metadata": {},
     "output_type": "display_data"
    },
    {
     "name": "stdout",
     "output_type": "stream",
     "text": [
      "Epoch 1425: train=8.12879, val=8.25725, took 26.063 s\n",
      "  Validation Found 51233 of 54504, added 2441 (eff 94.00%) (0.244 FP/event)\n"
     ]
    },
    {
     "data": {
      "application/vnd.jupyter.widget-view+json": {
       "model_id": "",
       "version_major": 2,
       "version_minor": 0
      },
      "text/plain": [
       "HBox(children=(FloatProgress(value=0.0, description='Training', layout=Layout(flex='2'), max=1250.0, style=Pro…"
      ]
     },
     "metadata": {},
     "output_type": "display_data"
    },
    {
     "name": "stdout",
     "output_type": "stream",
     "text": [
      "Epoch 1426: train=8.14566, val=8.37923, took 25.929 s\n",
      "  Validation Found 50850 of 54504, added 1796 (eff 93.30%) (0.18 FP/event)\n"
     ]
    },
    {
     "data": {
      "application/vnd.jupyter.widget-view+json": {
       "model_id": "",
       "version_major": 2,
       "version_minor": 0
      },
      "text/plain": [
       "HBox(children=(FloatProgress(value=0.0, description='Training', layout=Layout(flex='2'), max=1250.0, style=Pro…"
      ]
     },
     "metadata": {},
     "output_type": "display_data"
    },
    {
     "name": "stdout",
     "output_type": "stream",
     "text": [
      "Epoch 1427: train=8.12678, val=8.34853, took 25.855 s\n",
      "  Validation Found 50888 of 54504, added 1891 (eff 93.37%) (0.189 FP/event)\n"
     ]
    },
    {
     "data": {
      "application/vnd.jupyter.widget-view+json": {
       "model_id": "",
       "version_major": 2,
       "version_minor": 0
      },
      "text/plain": [
       "HBox(children=(FloatProgress(value=0.0, description='Training', layout=Layout(flex='2'), max=1250.0, style=Pro…"
      ]
     },
     "metadata": {},
     "output_type": "display_data"
    },
    {
     "name": "stdout",
     "output_type": "stream",
     "text": [
      "Epoch 1428: train=8.13207, val=8.32021, took 25.978 s\n",
      "  Validation Found 51076 of 54504, added 2172 (eff 93.71%) (0.218 FP/event)\n"
     ]
    },
    {
     "data": {
      "application/vnd.jupyter.widget-view+json": {
       "model_id": "",
       "version_major": 2,
       "version_minor": 0
      },
      "text/plain": [
       "HBox(children=(FloatProgress(value=0.0, description='Training', layout=Layout(flex='2'), max=1250.0, style=Pro…"
      ]
     },
     "metadata": {},
     "output_type": "display_data"
    },
    {
     "name": "stdout",
     "output_type": "stream",
     "text": [
      "Epoch 1429: train=8.13857, val=8.28438, took 25.748 s\n",
      "  Validation Found 51173 of 54504, added 2315 (eff 93.89%) (0.232 FP/event)\n"
     ]
    },
    {
     "data": {
      "application/vnd.jupyter.widget-view+json": {
       "model_id": "",
       "version_major": 2,
       "version_minor": 0
      },
      "text/plain": [
       "HBox(children=(FloatProgress(value=0.0, description='Training', layout=Layout(flex='2'), max=1250.0, style=Pro…"
      ]
     },
     "metadata": {},
     "output_type": "display_data"
    },
    {
     "name": "stdout",
     "output_type": "stream",
     "text": [
      "Epoch 1430: train=8.12078, val=8.46761, took 25.641 s\n",
      "  Validation Found 50592 of 54504, added 1525 (eff 92.82%) (0.153 FP/event)\n"
     ]
    },
    {
     "data": {
      "application/vnd.jupyter.widget-view+json": {
       "model_id": "",
       "version_major": 2,
       "version_minor": 0
      },
      "text/plain": [
       "HBox(children=(FloatProgress(value=0.0, description='Training', layout=Layout(flex='2'), max=1250.0, style=Pro…"
      ]
     },
     "metadata": {},
     "output_type": "display_data"
    },
    {
     "name": "stdout",
     "output_type": "stream",
     "text": [
      "Epoch 1431: train=8.13055, val=8.29049, took 25.641 s\n",
      "  Validation Found 51239 of 54504, added 2667 (eff 94.01%) (0.267 FP/event)\n"
     ]
    },
    {
     "data": {
      "application/vnd.jupyter.widget-view+json": {
       "model_id": "",
       "version_major": 2,
       "version_minor": 0
      },
      "text/plain": [
       "HBox(children=(FloatProgress(value=0.0, description='Training', layout=Layout(flex='2'), max=1250.0, style=Pro…"
      ]
     },
     "metadata": {},
     "output_type": "display_data"
    },
    {
     "name": "stdout",
     "output_type": "stream",
     "text": [
      "Epoch 1432: train=8.13352, val=8.28926, took 26.007 s\n",
      "  Validation Found 51014 of 54504, added 2014 (eff 93.60%) (0.202 FP/event)\n"
     ]
    },
    {
     "data": {
      "application/vnd.jupyter.widget-view+json": {
       "model_id": "",
       "version_major": 2,
       "version_minor": 0
      },
      "text/plain": [
       "HBox(children=(FloatProgress(value=0.0, description='Training', layout=Layout(flex='2'), max=1250.0, style=Pro…"
      ]
     },
     "metadata": {},
     "output_type": "display_data"
    },
    {
     "name": "stdout",
     "output_type": "stream",
     "text": [
      "Epoch 1433: train=8.12943, val=8.28763, took 25.82 s\n",
      "  Validation Found 50973 of 54504, added 2207 (eff 93.52%) (0.221 FP/event)\n"
     ]
    },
    {
     "data": {
      "application/vnd.jupyter.widget-view+json": {
       "model_id": "",
       "version_major": 2,
       "version_minor": 0
      },
      "text/plain": [
       "HBox(children=(FloatProgress(value=0.0, description='Training', layout=Layout(flex='2'), max=1250.0, style=Pro…"
      ]
     },
     "metadata": {},
     "output_type": "display_data"
    },
    {
     "name": "stdout",
     "output_type": "stream",
     "text": [
      "Epoch 1434: train=8.13019, val=8.31443, took 25.823 s\n",
      "  Validation Found 50986 of 54504, added 1945 (eff 93.55%) (0.195 FP/event)\n"
     ]
    },
    {
     "data": {
      "application/vnd.jupyter.widget-view+json": {
       "model_id": "",
       "version_major": 2,
       "version_minor": 0
      },
      "text/plain": [
       "HBox(children=(FloatProgress(value=0.0, description='Training', layout=Layout(flex='2'), max=1250.0, style=Pro…"
      ]
     },
     "metadata": {},
     "output_type": "display_data"
    },
    {
     "name": "stdout",
     "output_type": "stream",
     "text": [
      "Epoch 1435: train=8.13744, val=8.2538, took 25.893 s\n",
      "  Validation Found 51062 of 54504, added 2197 (eff 93.68%) (0.22 FP/event)\n"
     ]
    },
    {
     "data": {
      "application/vnd.jupyter.widget-view+json": {
       "model_id": "",
       "version_major": 2,
       "version_minor": 0
      },
      "text/plain": [
       "HBox(children=(FloatProgress(value=0.0, description='Training', layout=Layout(flex='2'), max=1250.0, style=Pro…"
      ]
     },
     "metadata": {},
     "output_type": "display_data"
    },
    {
     "name": "stdout",
     "output_type": "stream",
     "text": [
      "Epoch 1436: train=8.12129, val=8.41653, took 25.887 s\n",
      "  Validation Found 50835 of 54504, added 1814 (eff 93.27%) (0.182 FP/event)\n"
     ]
    },
    {
     "data": {
      "application/vnd.jupyter.widget-view+json": {
       "model_id": "",
       "version_major": 2,
       "version_minor": 0
      },
      "text/plain": [
       "HBox(children=(FloatProgress(value=0.0, description='Training', layout=Layout(flex='2'), max=1250.0, style=Pro…"
      ]
     },
     "metadata": {},
     "output_type": "display_data"
    },
    {
     "name": "stdout",
     "output_type": "stream",
     "text": [
      "Epoch 1437: train=8.12714, val=8.35605, took 25.509 s\n",
      "  Validation Found 50891 of 54504, added 1849 (eff 93.37%) (0.185 FP/event)\n"
     ]
    },
    {
     "data": {
      "application/vnd.jupyter.widget-view+json": {
       "model_id": "",
       "version_major": 2,
       "version_minor": 0
      },
      "text/plain": [
       "HBox(children=(FloatProgress(value=0.0, description='Training', layout=Layout(flex='2'), max=1250.0, style=Pro…"
      ]
     },
     "metadata": {},
     "output_type": "display_data"
    },
    {
     "name": "stdout",
     "output_type": "stream",
     "text": [
      "Epoch 1438: train=8.12501, val=8.33087, took 25.967 s\n",
      "  Validation Found 50985 of 54504, added 2012 (eff 93.54%) (0.202 FP/event)\n"
     ]
    },
    {
     "data": {
      "application/vnd.jupyter.widget-view+json": {
       "model_id": "",
       "version_major": 2,
       "version_minor": 0
      },
      "text/plain": [
       "HBox(children=(FloatProgress(value=0.0, description='Training', layout=Layout(flex='2'), max=1250.0, style=Pro…"
      ]
     },
     "metadata": {},
     "output_type": "display_data"
    },
    {
     "name": "stdout",
     "output_type": "stream",
     "text": [
      "Epoch 1439: train=8.1318, val=8.26142, took 25.852 s\n",
      "  Validation Found 51139 of 54504, added 2272 (eff 93.83%) (0.228 FP/event)\n"
     ]
    },
    {
     "data": {
      "application/vnd.jupyter.widget-view+json": {
       "model_id": "",
       "version_major": 2,
       "version_minor": 0
      },
      "text/plain": [
       "HBox(children=(FloatProgress(value=0.0, description='Training', layout=Layout(flex='2'), max=1250.0, style=Pro…"
      ]
     },
     "metadata": {},
     "output_type": "display_data"
    },
    {
     "name": "stdout",
     "output_type": "stream",
     "text": [
      "Epoch 1440: train=8.12922, val=8.27315, took 25.72 s\n",
      "  Validation Found 51091 of 54504, added 2165 (eff 93.74%) (0.217 FP/event)\n"
     ]
    },
    {
     "data": {
      "application/vnd.jupyter.widget-view+json": {
       "model_id": "",
       "version_major": 2,
       "version_minor": 0
      },
      "text/plain": [
       "HBox(children=(FloatProgress(value=0.0, description='Training', layout=Layout(flex='2'), max=1250.0, style=Pro…"
      ]
     },
     "metadata": {},
     "output_type": "display_data"
    },
    {
     "name": "stdout",
     "output_type": "stream",
     "text": [
      "Epoch 1441: train=8.12367, val=8.33083, took 25.785 s\n",
      "  Validation Found 50926 of 54504, added 1979 (eff 93.44%) (0.198 FP/event)\n"
     ]
    },
    {
     "data": {
      "application/vnd.jupyter.widget-view+json": {
       "model_id": "",
       "version_major": 2,
       "version_minor": 0
      },
      "text/plain": [
       "HBox(children=(FloatProgress(value=0.0, description='Training', layout=Layout(flex='2'), max=1250.0, style=Pro…"
      ]
     },
     "metadata": {},
     "output_type": "display_data"
    },
    {
     "name": "stdout",
     "output_type": "stream",
     "text": [
      "Epoch 1442: train=8.12832, val=8.27085, took 25.897 s\n",
      "  Validation Found 51024 of 54504, added 2035 (eff 93.62%) (0.204 FP/event)\n"
     ]
    },
    {
     "data": {
      "application/vnd.jupyter.widget-view+json": {
       "model_id": "",
       "version_major": 2,
       "version_minor": 0
      },
      "text/plain": [
       "HBox(children=(FloatProgress(value=0.0, description='Training', layout=Layout(flex='2'), max=1250.0, style=Pro…"
      ]
     },
     "metadata": {},
     "output_type": "display_data"
    },
    {
     "name": "stdout",
     "output_type": "stream",
     "text": [
      "Epoch 1443: train=8.13383, val=8.32707, took 25.86 s\n",
      "  Validation Found 50928 of 54504, added 1991 (eff 93.44%) (0.199 FP/event)\n"
     ]
    },
    {
     "data": {
      "application/vnd.jupyter.widget-view+json": {
       "model_id": "",
       "version_major": 2,
       "version_minor": 0
      },
      "text/plain": [
       "HBox(children=(FloatProgress(value=0.0, description='Training', layout=Layout(flex='2'), max=1250.0, style=Pro…"
      ]
     },
     "metadata": {},
     "output_type": "display_data"
    },
    {
     "name": "stdout",
     "output_type": "stream",
     "text": [
      "Epoch 1444: train=8.12708, val=8.28294, took 25.768 s\n",
      "  Validation Found 51030 of 54504, added 2046 (eff 93.63%) (0.205 FP/event)\n"
     ]
    },
    {
     "data": {
      "application/vnd.jupyter.widget-view+json": {
       "model_id": "",
       "version_major": 2,
       "version_minor": 0
      },
      "text/plain": [
       "HBox(children=(FloatProgress(value=0.0, description='Training', layout=Layout(flex='2'), max=1250.0, style=Pro…"
      ]
     },
     "metadata": {},
     "output_type": "display_data"
    },
    {
     "name": "stdout",
     "output_type": "stream",
     "text": [
      "Epoch 1445: train=8.13418, val=8.33124, took 25.707 s\n",
      "  Validation Found 51127 of 54504, added 2133 (eff 93.80%) (0.214 FP/event)\n"
     ]
    },
    {
     "data": {
      "application/vnd.jupyter.widget-view+json": {
       "model_id": "",
       "version_major": 2,
       "version_minor": 0
      },
      "text/plain": [
       "HBox(children=(FloatProgress(value=0.0, description='Training', layout=Layout(flex='2'), max=1250.0, style=Pro…"
      ]
     },
     "metadata": {},
     "output_type": "display_data"
    },
    {
     "name": "stdout",
     "output_type": "stream",
     "text": [
      "Epoch 1446: train=8.13683, val=8.34205, took 25.928 s\n",
      "  Validation Found 51186 of 54504, added 2488 (eff 93.91%) (0.249 FP/event)\n"
     ]
    },
    {
     "data": {
      "application/vnd.jupyter.widget-view+json": {
       "model_id": "",
       "version_major": 2,
       "version_minor": 0
      },
      "text/plain": [
       "HBox(children=(FloatProgress(value=0.0, description='Training', layout=Layout(flex='2'), max=1250.0, style=Pro…"
      ]
     },
     "metadata": {},
     "output_type": "display_data"
    },
    {
     "name": "stdout",
     "output_type": "stream",
     "text": [
      "Epoch 1447: train=8.13427, val=8.32716, took 26.025 s\n",
      "  Validation Found 51083 of 54504, added 2221 (eff 93.72%) (0.222 FP/event)\n"
     ]
    },
    {
     "data": {
      "application/vnd.jupyter.widget-view+json": {
       "model_id": "",
       "version_major": 2,
       "version_minor": 0
      },
      "text/plain": [
       "HBox(children=(FloatProgress(value=0.0, description='Training', layout=Layout(flex='2'), max=1250.0, style=Pro…"
      ]
     },
     "metadata": {},
     "output_type": "display_data"
    },
    {
     "name": "stdout",
     "output_type": "stream",
     "text": [
      "Epoch 1448: train=8.12821, val=8.32418, took 25.671 s\n",
      "  Validation Found 51018 of 54504, added 2050 (eff 93.60%) (0.205 FP/event)\n"
     ]
    },
    {
     "data": {
      "application/vnd.jupyter.widget-view+json": {
       "model_id": "",
       "version_major": 2,
       "version_minor": 0
      },
      "text/plain": [
       "HBox(children=(FloatProgress(value=0.0, description='Training', layout=Layout(flex='2'), max=1250.0, style=Pro…"
      ]
     },
     "metadata": {},
     "output_type": "display_data"
    },
    {
     "name": "stdout",
     "output_type": "stream",
     "text": [
      "Epoch 1449: train=8.12935, val=8.35722, took 25.869 s\n",
      "  Validation Found 51141 of 54504, added 2148 (eff 93.83%) (0.215 FP/event)\n"
     ]
    },
    {
     "data": {
      "application/vnd.jupyter.widget-view+json": {
       "model_id": "",
       "version_major": 2,
       "version_minor": 0
      },
      "text/plain": [
       "HBox(children=(FloatProgress(value=0.0, description='Training', layout=Layout(flex='2'), max=1250.0, style=Pro…"
      ]
     },
     "metadata": {},
     "output_type": "display_data"
    },
    {
     "name": "stdout",
     "output_type": "stream",
     "text": [
      "Epoch 1450: train=8.12849, val=8.36066, took 25.682 s\n",
      "  Validation Found 50999 of 54504, added 2118 (eff 93.57%) (0.212 FP/event)\n"
     ]
    },
    {
     "data": {
      "application/vnd.jupyter.widget-view+json": {
       "model_id": "",
       "version_major": 2,
       "version_minor": 0
      },
      "text/plain": [
       "HBox(children=(FloatProgress(value=0.0, description='Training', layout=Layout(flex='2'), max=1250.0, style=Pro…"
      ]
     },
     "metadata": {},
     "output_type": "display_data"
    },
    {
     "name": "stdout",
     "output_type": "stream",
     "text": [
      "Epoch 1451: train=8.13024, val=8.26628, took 25.983 s\n",
      "  Validation Found 51129 of 54504, added 2183 (eff 93.81%) (0.219 FP/event)\n"
     ]
    },
    {
     "data": {
      "application/vnd.jupyter.widget-view+json": {
       "model_id": "",
       "version_major": 2,
       "version_minor": 0
      },
      "text/plain": [
       "HBox(children=(FloatProgress(value=0.0, description='Training', layout=Layout(flex='2'), max=1250.0, style=Pro…"
      ]
     },
     "metadata": {},
     "output_type": "display_data"
    },
    {
     "name": "stdout",
     "output_type": "stream",
     "text": [
      "Epoch 1452: train=8.12248, val=8.2694, took 25.872 s\n",
      "  Validation Found 51155 of 54504, added 2373 (eff 93.86%) (0.238 FP/event)\n"
     ]
    },
    {
     "data": {
      "application/vnd.jupyter.widget-view+json": {
       "model_id": "",
       "version_major": 2,
       "version_minor": 0
      },
      "text/plain": [
       "HBox(children=(FloatProgress(value=0.0, description='Training', layout=Layout(flex='2'), max=1250.0, style=Pro…"
      ]
     },
     "metadata": {},
     "output_type": "display_data"
    },
    {
     "name": "stdout",
     "output_type": "stream",
     "text": [
      "Epoch 1453: train=8.1272, val=8.31093, took 25.722 s\n",
      "  Validation Found 50998 of 54504, added 2094 (eff 93.57%) (0.21 FP/event)\n"
     ]
    },
    {
     "data": {
      "application/vnd.jupyter.widget-view+json": {
       "model_id": "",
       "version_major": 2,
       "version_minor": 0
      },
      "text/plain": [
       "HBox(children=(FloatProgress(value=0.0, description='Training', layout=Layout(flex='2'), max=1250.0, style=Pro…"
      ]
     },
     "metadata": {},
     "output_type": "display_data"
    },
    {
     "name": "stdout",
     "output_type": "stream",
     "text": [
      "Epoch 1454: train=8.12808, val=8.24905, took 25.839 s\n",
      "  Validation Found 51061 of 54504, added 2069 (eff 93.68%) (0.207 FP/event)\n"
     ]
    },
    {
     "data": {
      "application/vnd.jupyter.widget-view+json": {
       "model_id": "",
       "version_major": 2,
       "version_minor": 0
      },
      "text/plain": [
       "HBox(children=(FloatProgress(value=0.0, description='Training', layout=Layout(flex='2'), max=1250.0, style=Pro…"
      ]
     },
     "metadata": {},
     "output_type": "display_data"
    },
    {
     "name": "stdout",
     "output_type": "stream",
     "text": [
      "Epoch 1455: train=8.12926, val=8.34025, took 25.682 s\n",
      "  Validation Found 50960 of 54504, added 1895 (eff 93.50%) (0.19 FP/event)\n"
     ]
    },
    {
     "data": {
      "application/vnd.jupyter.widget-view+json": {
       "model_id": "",
       "version_major": 2,
       "version_minor": 0
      },
      "text/plain": [
       "HBox(children=(FloatProgress(value=0.0, description='Training', layout=Layout(flex='2'), max=1250.0, style=Pro…"
      ]
     },
     "metadata": {},
     "output_type": "display_data"
    },
    {
     "name": "stdout",
     "output_type": "stream",
     "text": [
      "Epoch 1456: train=8.1219, val=8.36897, took 25.744 s\n",
      "  Validation Found 50997 of 54504, added 2087 (eff 93.57%) (0.209 FP/event)\n"
     ]
    },
    {
     "data": {
      "application/vnd.jupyter.widget-view+json": {
       "model_id": "",
       "version_major": 2,
       "version_minor": 0
      },
      "text/plain": [
       "HBox(children=(FloatProgress(value=0.0, description='Training', layout=Layout(flex='2'), max=1250.0, style=Pro…"
      ]
     },
     "metadata": {},
     "output_type": "display_data"
    },
    {
     "name": "stdout",
     "output_type": "stream",
     "text": [
      "Epoch 1457: train=8.12527, val=8.21181, took 25.768 s\n",
      "  Validation Found 51228 of 54504, added 2608 (eff 93.99%) (0.261 FP/event)\n"
     ]
    },
    {
     "data": {
      "application/vnd.jupyter.widget-view+json": {
       "model_id": "",
       "version_major": 2,
       "version_minor": 0
      },
      "text/plain": [
       "HBox(children=(FloatProgress(value=0.0, description='Training', layout=Layout(flex='2'), max=1250.0, style=Pro…"
      ]
     },
     "metadata": {},
     "output_type": "display_data"
    },
    {
     "name": "stdout",
     "output_type": "stream",
     "text": [
      "Epoch 1458: train=8.12589, val=8.32172, took 25.769 s\n",
      "  Validation Found 51033 of 54504, added 2127 (eff 93.63%) (0.213 FP/event)\n"
     ]
    },
    {
     "data": {
      "application/vnd.jupyter.widget-view+json": {
       "model_id": "",
       "version_major": 2,
       "version_minor": 0
      },
      "text/plain": [
       "HBox(children=(FloatProgress(value=0.0, description='Training', layout=Layout(flex='2'), max=1250.0, style=Pro…"
      ]
     },
     "metadata": {},
     "output_type": "display_data"
    },
    {
     "name": "stdout",
     "output_type": "stream",
     "text": [
      "Epoch 1459: train=8.12938, val=8.26839, took 25.763 s\n",
      "  Validation Found 51178 of 54504, added 2228 (eff 93.90%) (0.223 FP/event)\n"
     ]
    },
    {
     "data": {
      "application/vnd.jupyter.widget-view+json": {
       "model_id": "",
       "version_major": 2,
       "version_minor": 0
      },
      "text/plain": [
       "HBox(children=(FloatProgress(value=0.0, description='Training', layout=Layout(flex='2'), max=1250.0, style=Pro…"
      ]
     },
     "metadata": {},
     "output_type": "display_data"
    },
    {
     "name": "stdout",
     "output_type": "stream",
     "text": [
      "Epoch 1460: train=8.12516, val=8.43918, took 25.772 s\n",
      "  Validation Found 50724 of 54504, added 1667 (eff 93.06%) (0.167 FP/event)\n"
     ]
    },
    {
     "data": {
      "application/vnd.jupyter.widget-view+json": {
       "model_id": "",
       "version_major": 2,
       "version_minor": 0
      },
      "text/plain": [
       "HBox(children=(FloatProgress(value=0.0, description='Training', layout=Layout(flex='2'), max=1250.0, style=Pro…"
      ]
     },
     "metadata": {},
     "output_type": "display_data"
    },
    {
     "name": "stdout",
     "output_type": "stream",
     "text": [
      "Epoch 1461: train=8.13054, val=8.26277, took 25.776 s\n",
      "  Validation Found 51099 of 54504, added 2119 (eff 93.75%) (0.212 FP/event)\n"
     ]
    },
    {
     "data": {
      "application/vnd.jupyter.widget-view+json": {
       "model_id": "",
       "version_major": 2,
       "version_minor": 0
      },
      "text/plain": [
       "HBox(children=(FloatProgress(value=0.0, description='Training', layout=Layout(flex='2'), max=1250.0, style=Pro…"
      ]
     },
     "metadata": {},
     "output_type": "display_data"
    },
    {
     "name": "stdout",
     "output_type": "stream",
     "text": [
      "Epoch 1462: train=8.12402, val=8.37762, took 25.773 s\n",
      "  Validation Found 50894 of 54504, added 1854 (eff 93.38%) (0.186 FP/event)\n"
     ]
    },
    {
     "data": {
      "application/vnd.jupyter.widget-view+json": {
       "model_id": "",
       "version_major": 2,
       "version_minor": 0
      },
      "text/plain": [
       "HBox(children=(FloatProgress(value=0.0, description='Training', layout=Layout(flex='2'), max=1250.0, style=Pro…"
      ]
     },
     "metadata": {},
     "output_type": "display_data"
    },
    {
     "name": "stdout",
     "output_type": "stream",
     "text": [
      "Epoch 1463: train=8.1255, val=8.33929, took 25.761 s\n",
      "  Validation Found 50903 of 54504, added 1872 (eff 93.39%) (0.187 FP/event)\n"
     ]
    },
    {
     "data": {
      "application/vnd.jupyter.widget-view+json": {
       "model_id": "",
       "version_major": 2,
       "version_minor": 0
      },
      "text/plain": [
       "HBox(children=(FloatProgress(value=0.0, description='Training', layout=Layout(flex='2'), max=1250.0, style=Pro…"
      ]
     },
     "metadata": {},
     "output_type": "display_data"
    },
    {
     "name": "stdout",
     "output_type": "stream",
     "text": [
      "Epoch 1464: train=8.12822, val=8.28058, took 25.969 s\n",
      "  Validation Found 51161 of 54504, added 2327 (eff 93.87%) (0.233 FP/event)\n"
     ]
    },
    {
     "data": {
      "application/vnd.jupyter.widget-view+json": {
       "model_id": "",
       "version_major": 2,
       "version_minor": 0
      },
      "text/plain": [
       "HBox(children=(FloatProgress(value=0.0, description='Training', layout=Layout(flex='2'), max=1250.0, style=Pro…"
      ]
     },
     "metadata": {},
     "output_type": "display_data"
    },
    {
     "name": "stdout",
     "output_type": "stream",
     "text": [
      "Epoch 1465: train=8.12207, val=8.26303, took 25.817 s\n",
      "  Validation Found 51114 of 54504, added 2217 (eff 93.78%) (0.222 FP/event)\n"
     ]
    },
    {
     "data": {
      "application/vnd.jupyter.widget-view+json": {
       "model_id": "",
       "version_major": 2,
       "version_minor": 0
      },
      "text/plain": [
       "HBox(children=(FloatProgress(value=0.0, description='Training', layout=Layout(flex='2'), max=1250.0, style=Pro…"
      ]
     },
     "metadata": {},
     "output_type": "display_data"
    },
    {
     "name": "stdout",
     "output_type": "stream",
     "text": [
      "Epoch 1466: train=8.11978, val=8.46837, took 25.806 s\n",
      "  Validation Found 50811 of 54504, added 1865 (eff 93.22%) (0.187 FP/event)\n"
     ]
    },
    {
     "data": {
      "application/vnd.jupyter.widget-view+json": {
       "model_id": "",
       "version_major": 2,
       "version_minor": 0
      },
      "text/plain": [
       "HBox(children=(FloatProgress(value=0.0, description='Training', layout=Layout(flex='2'), max=1250.0, style=Pro…"
      ]
     },
     "metadata": {},
     "output_type": "display_data"
    },
    {
     "name": "stdout",
     "output_type": "stream",
     "text": [
      "Epoch 1467: train=8.13081, val=8.25915, took 26.207 s\n",
      "  Validation Found 51246 of 54504, added 2561 (eff 94.02%) (0.256 FP/event)\n"
     ]
    },
    {
     "data": {
      "application/vnd.jupyter.widget-view+json": {
       "model_id": "",
       "version_major": 2,
       "version_minor": 0
      },
      "text/plain": [
       "HBox(children=(FloatProgress(value=0.0, description='Training', layout=Layout(flex='2'), max=1250.0, style=Pro…"
      ]
     },
     "metadata": {},
     "output_type": "display_data"
    },
    {
     "name": "stdout",
     "output_type": "stream",
     "text": [
      "Epoch 1468: train=8.12791, val=8.32126, took 25.809 s\n",
      "  Validation Found 50912 of 54504, added 1892 (eff 93.41%) (0.189 FP/event)\n"
     ]
    },
    {
     "data": {
      "application/vnd.jupyter.widget-view+json": {
       "model_id": "",
       "version_major": 2,
       "version_minor": 0
      },
      "text/plain": [
       "HBox(children=(FloatProgress(value=0.0, description='Training', layout=Layout(flex='2'), max=1250.0, style=Pro…"
      ]
     },
     "metadata": {},
     "output_type": "display_data"
    },
    {
     "name": "stdout",
     "output_type": "stream",
     "text": [
      "Epoch 1469: train=8.12698, val=8.34366, took 25.815 s\n",
      "  Validation Found 50950 of 54504, added 1952 (eff 93.48%) (0.195 FP/event)\n"
     ]
    },
    {
     "data": {
      "application/vnd.jupyter.widget-view+json": {
       "model_id": "",
       "version_major": 2,
       "version_minor": 0
      },
      "text/plain": [
       "HBox(children=(FloatProgress(value=0.0, description='Training', layout=Layout(flex='2'), max=1250.0, style=Pro…"
      ]
     },
     "metadata": {},
     "output_type": "display_data"
    },
    {
     "name": "stdout",
     "output_type": "stream",
     "text": [
      "Epoch 1470: train=8.13191, val=8.33715, took 26.002 s\n",
      "  Validation Found 50873 of 54504, added 1881 (eff 93.34%) (0.188 FP/event)\n"
     ]
    },
    {
     "data": {
      "application/vnd.jupyter.widget-view+json": {
       "model_id": "",
       "version_major": 2,
       "version_minor": 0
      },
      "text/plain": [
       "HBox(children=(FloatProgress(value=0.0, description='Training', layout=Layout(flex='2'), max=1250.0, style=Pro…"
      ]
     },
     "metadata": {},
     "output_type": "display_data"
    },
    {
     "name": "stdout",
     "output_type": "stream",
     "text": [
      "Epoch 1471: train=8.1271, val=8.35816, took 25.819 s\n",
      "  Validation Found 50892 of 54504, added 1866 (eff 93.37%) (0.187 FP/event)\n"
     ]
    },
    {
     "data": {
      "application/vnd.jupyter.widget-view+json": {
       "model_id": "",
       "version_major": 2,
       "version_minor": 0
      },
      "text/plain": [
       "HBox(children=(FloatProgress(value=0.0, description='Training', layout=Layout(flex='2'), max=1250.0, style=Pro…"
      ]
     },
     "metadata": {},
     "output_type": "display_data"
    },
    {
     "name": "stdout",
     "output_type": "stream",
     "text": [
      "Epoch 1472: train=8.12159, val=8.25576, took 25.872 s\n",
      "  Validation Found 51264 of 54504, added 2758 (eff 94.06%) (0.276 FP/event)\n"
     ]
    },
    {
     "data": {
      "application/vnd.jupyter.widget-view+json": {
       "model_id": "",
       "version_major": 2,
       "version_minor": 0
      },
      "text/plain": [
       "HBox(children=(FloatProgress(value=0.0, description='Training', layout=Layout(flex='2'), max=1250.0, style=Pro…"
      ]
     },
     "metadata": {},
     "output_type": "display_data"
    },
    {
     "name": "stdout",
     "output_type": "stream",
     "text": [
      "Epoch 1473: train=8.13217, val=8.37839, took 25.839 s\n",
      "  Validation Found 50870 of 54504, added 1863 (eff 93.33%) (0.187 FP/event)\n"
     ]
    },
    {
     "data": {
      "application/vnd.jupyter.widget-view+json": {
       "model_id": "",
       "version_major": 2,
       "version_minor": 0
      },
      "text/plain": [
       "HBox(children=(FloatProgress(value=0.0, description='Training', layout=Layout(flex='2'), max=1250.0, style=Pro…"
      ]
     },
     "metadata": {},
     "output_type": "display_data"
    },
    {
     "name": "stdout",
     "output_type": "stream",
     "text": [
      "Epoch 1474: train=8.13257, val=8.30788, took 25.835 s\n",
      "  Validation Found 51016 of 54504, added 1974 (eff 93.60%) (0.198 FP/event)\n"
     ]
    },
    {
     "data": {
      "application/vnd.jupyter.widget-view+json": {
       "model_id": "",
       "version_major": 2,
       "version_minor": 0
      },
      "text/plain": [
       "HBox(children=(FloatProgress(value=0.0, description='Training', layout=Layout(flex='2'), max=1250.0, style=Pro…"
      ]
     },
     "metadata": {},
     "output_type": "display_data"
    },
    {
     "name": "stdout",
     "output_type": "stream",
     "text": [
      "Epoch 1475: train=8.13247, val=8.28346, took 25.819 s\n",
      "  Validation Found 51027 of 54504, added 2038 (eff 93.62%) (0.204 FP/event)\n"
     ]
    },
    {
     "data": {
      "application/vnd.jupyter.widget-view+json": {
       "model_id": "",
       "version_major": 2,
       "version_minor": 0
      },
      "text/plain": [
       "HBox(children=(FloatProgress(value=0.0, description='Training', layout=Layout(flex='2'), max=1250.0, style=Pro…"
      ]
     },
     "metadata": {},
     "output_type": "display_data"
    },
    {
     "name": "stdout",
     "output_type": "stream",
     "text": [
      "Epoch 1476: train=8.11971, val=8.26466, took 25.911 s\n",
      "  Validation Found 51175 of 54504, added 2491 (eff 93.89%) (0.249 FP/event)\n"
     ]
    },
    {
     "data": {
      "application/vnd.jupyter.widget-view+json": {
       "model_id": "",
       "version_major": 2,
       "version_minor": 0
      },
      "text/plain": [
       "HBox(children=(FloatProgress(value=0.0, description='Training', layout=Layout(flex='2'), max=1250.0, style=Pro…"
      ]
     },
     "metadata": {},
     "output_type": "display_data"
    },
    {
     "name": "stdout",
     "output_type": "stream",
     "text": [
      "Epoch 1477: train=8.1261, val=8.35829, took 25.962 s\n",
      "  Validation Found 51140 of 54504, added 2666 (eff 93.83%) (0.267 FP/event)\n"
     ]
    },
    {
     "data": {
      "application/vnd.jupyter.widget-view+json": {
       "model_id": "",
       "version_major": 2,
       "version_minor": 0
      },
      "text/plain": [
       "HBox(children=(FloatProgress(value=0.0, description='Training', layout=Layout(flex='2'), max=1250.0, style=Pro…"
      ]
     },
     "metadata": {},
     "output_type": "display_data"
    },
    {
     "name": "stdout",
     "output_type": "stream",
     "text": [
      "Epoch 1478: train=8.12389, val=8.36212, took 25.823 s\n",
      "  Validation Found 51069 of 54504, added 2188 (eff 93.70%) (0.219 FP/event)\n"
     ]
    },
    {
     "data": {
      "application/vnd.jupyter.widget-view+json": {
       "model_id": "",
       "version_major": 2,
       "version_minor": 0
      },
      "text/plain": [
       "HBox(children=(FloatProgress(value=0.0, description='Training', layout=Layout(flex='2'), max=1250.0, style=Pro…"
      ]
     },
     "metadata": {},
     "output_type": "display_data"
    },
    {
     "name": "stdout",
     "output_type": "stream",
     "text": [
      "Epoch 1479: train=8.12438, val=8.23795, took 25.752 s\n",
      "  Validation Found 51143 of 54504, added 2315 (eff 93.83%) (0.232 FP/event)\n"
     ]
    },
    {
     "data": {
      "application/vnd.jupyter.widget-view+json": {
       "model_id": "",
       "version_major": 2,
       "version_minor": 0
      },
      "text/plain": [
       "HBox(children=(FloatProgress(value=0.0, description='Training', layout=Layout(flex='2'), max=1250.0, style=Pro…"
      ]
     },
     "metadata": {},
     "output_type": "display_data"
    },
    {
     "name": "stdout",
     "output_type": "stream",
     "text": [
      "Epoch 1480: train=8.12512, val=8.38854, took 25.753 s\n",
      "  Validation Found 51045 of 54504, added 2119 (eff 93.65%) (0.212 FP/event)\n"
     ]
    },
    {
     "data": {
      "application/vnd.jupyter.widget-view+json": {
       "model_id": "",
       "version_major": 2,
       "version_minor": 0
      },
      "text/plain": [
       "HBox(children=(FloatProgress(value=0.0, description='Training', layout=Layout(flex='2'), max=1250.0, style=Pro…"
      ]
     },
     "metadata": {},
     "output_type": "display_data"
    },
    {
     "name": "stdout",
     "output_type": "stream",
     "text": [
      "Epoch 1481: train=8.12412, val=8.34847, took 25.719 s\n",
      "  Validation Found 51006 of 54504, added 2155 (eff 93.58%) (0.216 FP/event)\n"
     ]
    },
    {
     "data": {
      "application/vnd.jupyter.widget-view+json": {
       "model_id": "",
       "version_major": 2,
       "version_minor": 0
      },
      "text/plain": [
       "HBox(children=(FloatProgress(value=0.0, description='Training', layout=Layout(flex='2'), max=1250.0, style=Pro…"
      ]
     },
     "metadata": {},
     "output_type": "display_data"
    },
    {
     "name": "stdout",
     "output_type": "stream",
     "text": [
      "Epoch 1482: train=8.12546, val=8.36083, took 25.801 s\n",
      "  Validation Found 50953 of 54504, added 2027 (eff 93.48%) (0.203 FP/event)\n"
     ]
    },
    {
     "data": {
      "application/vnd.jupyter.widget-view+json": {
       "model_id": "",
       "version_major": 2,
       "version_minor": 0
      },
      "text/plain": [
       "HBox(children=(FloatProgress(value=0.0, description='Training', layout=Layout(flex='2'), max=1250.0, style=Pro…"
      ]
     },
     "metadata": {},
     "output_type": "display_data"
    },
    {
     "name": "stdout",
     "output_type": "stream",
     "text": [
      "Epoch 1483: train=8.14299, val=8.36278, took 25.679 s\n",
      "  Validation Found 51070 of 54504, added 2186 (eff 93.70%) (0.219 FP/event)\n"
     ]
    },
    {
     "data": {
      "application/vnd.jupyter.widget-view+json": {
       "model_id": "",
       "version_major": 2,
       "version_minor": 0
      },
      "text/plain": [
       "HBox(children=(FloatProgress(value=0.0, description='Training', layout=Layout(flex='2'), max=1250.0, style=Pro…"
      ]
     },
     "metadata": {},
     "output_type": "display_data"
    },
    {
     "name": "stdout",
     "output_type": "stream",
     "text": [
      "Epoch 1484: train=8.12868, val=8.34664, took 25.796 s\n",
      "  Validation Found 51088 of 54504, added 2434 (eff 93.73%) (0.244 FP/event)\n"
     ]
    },
    {
     "data": {
      "application/vnd.jupyter.widget-view+json": {
       "model_id": "",
       "version_major": 2,
       "version_minor": 0
      },
      "text/plain": [
       "HBox(children=(FloatProgress(value=0.0, description='Training', layout=Layout(flex='2'), max=1250.0, style=Pro…"
      ]
     },
     "metadata": {},
     "output_type": "display_data"
    },
    {
     "name": "stdout",
     "output_type": "stream",
     "text": [
      "Epoch 1485: train=8.12789, val=8.2421, took 25.807 s\n",
      "  Validation Found 51193 of 54504, added 2655 (eff 93.93%) (0.266 FP/event)\n"
     ]
    },
    {
     "data": {
      "application/vnd.jupyter.widget-view+json": {
       "model_id": "",
       "version_major": 2,
       "version_minor": 0
      },
      "text/plain": [
       "HBox(children=(FloatProgress(value=0.0, description='Training', layout=Layout(flex='2'), max=1250.0, style=Pro…"
      ]
     },
     "metadata": {},
     "output_type": "display_data"
    },
    {
     "name": "stdout",
     "output_type": "stream",
     "text": [
      "Epoch 1486: train=8.12656, val=8.25778, took 25.83 s\n",
      "  Validation Found 51252 of 54504, added 2568 (eff 94.03%) (0.257 FP/event)\n"
     ]
    },
    {
     "data": {
      "application/vnd.jupyter.widget-view+json": {
       "model_id": "",
       "version_major": 2,
       "version_minor": 0
      },
      "text/plain": [
       "HBox(children=(FloatProgress(value=0.0, description='Training', layout=Layout(flex='2'), max=1250.0, style=Pro…"
      ]
     },
     "metadata": {},
     "output_type": "display_data"
    },
    {
     "name": "stdout",
     "output_type": "stream",
     "text": [
      "Epoch 1487: train=8.12363, val=8.19424, took 25.856 s\n",
      "  Validation Found 51215 of 54504, added 2409 (eff 93.97%) (0.241 FP/event)\n"
     ]
    },
    {
     "data": {
      "application/vnd.jupyter.widget-view+json": {
       "model_id": "",
       "version_major": 2,
       "version_minor": 0
      },
      "text/plain": [
       "HBox(children=(FloatProgress(value=0.0, description='Training', layout=Layout(flex='2'), max=1250.0, style=Pro…"
      ]
     },
     "metadata": {},
     "output_type": "display_data"
    },
    {
     "name": "stdout",
     "output_type": "stream",
     "text": [
      "Epoch 1488: train=8.12686, val=8.40758, took 25.886 s\n",
      "  Validation Found 50892 of 54504, added 1890 (eff 93.37%) (0.189 FP/event)\n"
     ]
    },
    {
     "data": {
      "application/vnd.jupyter.widget-view+json": {
       "model_id": "",
       "version_major": 2,
       "version_minor": 0
      },
      "text/plain": [
       "HBox(children=(FloatProgress(value=0.0, description='Training', layout=Layout(flex='2'), max=1250.0, style=Pro…"
      ]
     },
     "metadata": {},
     "output_type": "display_data"
    },
    {
     "name": "stdout",
     "output_type": "stream",
     "text": [
      "Epoch 1489: train=8.12426, val=8.29271, took 25.813 s\n",
      "  Validation Found 51083 of 54504, added 2139 (eff 93.72%) (0.214 FP/event)\n"
     ]
    },
    {
     "data": {
      "application/vnd.jupyter.widget-view+json": {
       "model_id": "",
       "version_major": 2,
       "version_minor": 0
      },
      "text/plain": [
       "HBox(children=(FloatProgress(value=0.0, description='Training', layout=Layout(flex='2'), max=1250.0, style=Pro…"
      ]
     },
     "metadata": {},
     "output_type": "display_data"
    },
    {
     "name": "stdout",
     "output_type": "stream",
     "text": [
      "Epoch 1490: train=8.12911, val=8.35183, took 25.954 s\n",
      "  Validation Found 50910 of 54504, added 1951 (eff 93.41%) (0.195 FP/event)\n"
     ]
    },
    {
     "data": {
      "application/vnd.jupyter.widget-view+json": {
       "model_id": "",
       "version_major": 2,
       "version_minor": 0
      },
      "text/plain": [
       "HBox(children=(FloatProgress(value=0.0, description='Training', layout=Layout(flex='2'), max=1250.0, style=Pro…"
      ]
     },
     "metadata": {},
     "output_type": "display_data"
    },
    {
     "name": "stdout",
     "output_type": "stream",
     "text": [
      "Epoch 1491: train=8.12516, val=8.23271, took 25.819 s\n",
      "  Validation Found 51112 of 54504, added 2121 (eff 93.78%) (0.212 FP/event)\n"
     ]
    },
    {
     "data": {
      "application/vnd.jupyter.widget-view+json": {
       "model_id": "",
       "version_major": 2,
       "version_minor": 0
      },
      "text/plain": [
       "HBox(children=(FloatProgress(value=0.0, description='Training', layout=Layout(flex='2'), max=1250.0, style=Pro…"
      ]
     },
     "metadata": {},
     "output_type": "display_data"
    },
    {
     "name": "stdout",
     "output_type": "stream",
     "text": [
      "Epoch 1492: train=8.1293, val=8.40017, took 26.241 s\n",
      "  Validation Found 51015 of 54504, added 2105 (eff 93.60%) (0.211 FP/event)\n"
     ]
    },
    {
     "data": {
      "application/vnd.jupyter.widget-view+json": {
       "model_id": "",
       "version_major": 2,
       "version_minor": 0
      },
      "text/plain": [
       "HBox(children=(FloatProgress(value=0.0, description='Training', layout=Layout(flex='2'), max=1250.0, style=Pro…"
      ]
     },
     "metadata": {},
     "output_type": "display_data"
    },
    {
     "name": "stdout",
     "output_type": "stream",
     "text": [
      "Epoch 1493: train=8.12928, val=8.25591, took 25.915 s\n",
      "  Validation Found 51173 of 54504, added 2295 (eff 93.89%) (0.23 FP/event)\n"
     ]
    },
    {
     "data": {
      "application/vnd.jupyter.widget-view+json": {
       "model_id": "",
       "version_major": 2,
       "version_minor": 0
      },
      "text/plain": [
       "HBox(children=(FloatProgress(value=0.0, description='Training', layout=Layout(flex='2'), max=1250.0, style=Pro…"
      ]
     },
     "metadata": {},
     "output_type": "display_data"
    },
    {
     "name": "stdout",
     "output_type": "stream",
     "text": [
      "Epoch 1494: train=8.13065, val=8.31567, took 25.814 s\n",
      "  Validation Found 51025 of 54504, added 2211 (eff 93.62%) (0.221 FP/event)\n"
     ]
    },
    {
     "data": {
      "application/vnd.jupyter.widget-view+json": {
       "model_id": "",
       "version_major": 2,
       "version_minor": 0
      },
      "text/plain": [
       "HBox(children=(FloatProgress(value=0.0, description='Training', layout=Layout(flex='2'), max=1250.0, style=Pro…"
      ]
     },
     "metadata": {},
     "output_type": "display_data"
    },
    {
     "name": "stdout",
     "output_type": "stream",
     "text": [
      "Epoch 1495: train=8.12673, val=8.42377, took 25.896 s\n",
      "  Validation Found 50806 of 54504, added 1769 (eff 93.22%) (0.177 FP/event)\n"
     ]
    },
    {
     "data": {
      "application/vnd.jupyter.widget-view+json": {
       "model_id": "",
       "version_major": 2,
       "version_minor": 0
      },
      "text/plain": [
       "HBox(children=(FloatProgress(value=0.0, description='Training', layout=Layout(flex='2'), max=1250.0, style=Pro…"
      ]
     },
     "metadata": {},
     "output_type": "display_data"
    },
    {
     "name": "stdout",
     "output_type": "stream",
     "text": [
      "Epoch 1496: train=8.12851, val=8.31137, took 25.869 s\n",
      "  Validation Found 51157 of 54504, added 2451 (eff 93.86%) (0.245 FP/event)\n"
     ]
    },
    {
     "data": {
      "application/vnd.jupyter.widget-view+json": {
       "model_id": "",
       "version_major": 2,
       "version_minor": 0
      },
      "text/plain": [
       "HBox(children=(FloatProgress(value=0.0, description='Training', layout=Layout(flex='2'), max=1250.0, style=Pro…"
      ]
     },
     "metadata": {},
     "output_type": "display_data"
    },
    {
     "name": "stdout",
     "output_type": "stream",
     "text": [
      "Epoch 1497: train=8.12801, val=8.20525, took 25.855 s\n",
      "  Validation Found 51225 of 54504, added 2436 (eff 93.98%) (0.244 FP/event)\n"
     ]
    },
    {
     "data": {
      "application/vnd.jupyter.widget-view+json": {
       "model_id": "",
       "version_major": 2,
       "version_minor": 0
      },
      "text/plain": [
       "HBox(children=(FloatProgress(value=0.0, description='Training', layout=Layout(flex='2'), max=1250.0, style=Pro…"
      ]
     },
     "metadata": {},
     "output_type": "display_data"
    },
    {
     "name": "stdout",
     "output_type": "stream",
     "text": [
      "Epoch 1498: train=8.13263, val=8.3974, took 25.843 s\n",
      "  Validation Found 50858 of 54504, added 1801 (eff 93.31%) (0.18 FP/event)\n"
     ]
    },
    {
     "data": {
      "application/vnd.jupyter.widget-view+json": {
       "model_id": "",
       "version_major": 2,
       "version_minor": 0
      },
      "text/plain": [
       "HBox(children=(FloatProgress(value=0.0, description='Training', layout=Layout(flex='2'), max=1250.0, style=Pro…"
      ]
     },
     "metadata": {},
     "output_type": "display_data"
    },
    {
     "name": "stdout",
     "output_type": "stream",
     "text": [
      "Epoch 1499: train=8.1289, val=8.36258, took 25.694 s\n",
      "  Validation Found 51053 of 54504, added 2277 (eff 93.67%) (0.228 FP/event)\n"
     ]
    },
    {
     "data": {
      "application/vnd.jupyter.widget-view+json": {
       "model_id": "",
       "version_major": 2,
       "version_minor": 0
      },
      "text/plain": [
       "HBox(children=(FloatProgress(value=0.0, description='Training', layout=Layout(flex='2'), max=1250.0, style=Pro…"
      ]
     },
     "metadata": {},
     "output_type": "display_data"
    },
    {
     "name": "stdout",
     "output_type": "stream",
     "text": [
      "Epoch 1500: train=8.1223, val=8.3593, took 25.757 s\n",
      "  Validation Found 50936 of 54504, added 1936 (eff 93.45%) (0.194 FP/event)\n"
     ]
    },
    {
     "data": {
      "application/vnd.jupyter.widget-view+json": {
       "model_id": "",
       "version_major": 2,
       "version_minor": 0
      },
      "text/plain": [
       "HBox(children=(FloatProgress(value=0.0, description='Training', layout=Layout(flex='2'), max=1250.0, style=Pro…"
      ]
     },
     "metadata": {},
     "output_type": "display_data"
    },
    {
     "name": "stdout",
     "output_type": "stream",
     "text": [
      "Epoch 1501: train=8.12498, val=8.2655, took 25.694 s\n",
      "  Validation Found 51184 of 54504, added 2371 (eff 93.91%) (0.237 FP/event)\n"
     ]
    },
    {
     "data": {
      "application/vnd.jupyter.widget-view+json": {
       "model_id": "",
       "version_major": 2,
       "version_minor": 0
      },
      "text/plain": [
       "HBox(children=(FloatProgress(value=0.0, description='Training', layout=Layout(flex='2'), max=1250.0, style=Pro…"
      ]
     },
     "metadata": {},
     "output_type": "display_data"
    },
    {
     "name": "stdout",
     "output_type": "stream",
     "text": [
      "Epoch 1502: train=8.12634, val=8.30263, took 25.777 s\n",
      "  Validation Found 51119 of 54504, added 2152 (eff 93.79%) (0.216 FP/event)\n"
     ]
    },
    {
     "data": {
      "application/vnd.jupyter.widget-view+json": {
       "model_id": "",
       "version_major": 2,
       "version_minor": 0
      },
      "text/plain": [
       "HBox(children=(FloatProgress(value=0.0, description='Training', layout=Layout(flex='2'), max=1250.0, style=Pro…"
      ]
     },
     "metadata": {},
     "output_type": "display_data"
    },
    {
     "name": "stdout",
     "output_type": "stream",
     "text": [
      "Epoch 1503: train=8.11828, val=8.30804, took 25.763 s\n",
      "  Validation Found 50990 of 54504, added 1954 (eff 93.55%) (0.196 FP/event)\n"
     ]
    },
    {
     "data": {
      "application/vnd.jupyter.widget-view+json": {
       "model_id": "",
       "version_major": 2,
       "version_minor": 0
      },
      "text/plain": [
       "HBox(children=(FloatProgress(value=0.0, description='Training', layout=Layout(flex='2'), max=1250.0, style=Pro…"
      ]
     },
     "metadata": {},
     "output_type": "display_data"
    },
    {
     "name": "stdout",
     "output_type": "stream",
     "text": [
      "Epoch 1504: train=8.12632, val=8.3615, took 25.701 s\n",
      "  Validation Found 50871 of 54504, added 1867 (eff 93.33%) (0.187 FP/event)\n"
     ]
    },
    {
     "data": {
      "application/vnd.jupyter.widget-view+json": {
       "model_id": "",
       "version_major": 2,
       "version_minor": 0
      },
      "text/plain": [
       "HBox(children=(FloatProgress(value=0.0, description='Training', layout=Layout(flex='2'), max=1250.0, style=Pro…"
      ]
     },
     "metadata": {},
     "output_type": "display_data"
    },
    {
     "name": "stdout",
     "output_type": "stream",
     "text": [
      "Epoch 1505: train=8.12246, val=8.34456, took 25.735 s\n",
      "  Validation Found 50983 of 54504, added 1961 (eff 93.54%) (0.196 FP/event)\n"
     ]
    },
    {
     "data": {
      "application/vnd.jupyter.widget-view+json": {
       "model_id": "",
       "version_major": 2,
       "version_minor": 0
      },
      "text/plain": [
       "HBox(children=(FloatProgress(value=0.0, description='Training', layout=Layout(flex='2'), max=1250.0, style=Pro…"
      ]
     },
     "metadata": {},
     "output_type": "display_data"
    },
    {
     "name": "stdout",
     "output_type": "stream",
     "text": [
      "Epoch 1506: train=8.12604, val=8.38253, took 25.693 s\n",
      "  Validation Found 51041 of 54504, added 2119 (eff 93.65%) (0.212 FP/event)\n"
     ]
    },
    {
     "data": {
      "application/vnd.jupyter.widget-view+json": {
       "model_id": "",
       "version_major": 2,
       "version_minor": 0
      },
      "text/plain": [
       "HBox(children=(FloatProgress(value=0.0, description='Training', layout=Layout(flex='2'), max=1250.0, style=Pro…"
      ]
     },
     "metadata": {},
     "output_type": "display_data"
    },
    {
     "name": "stdout",
     "output_type": "stream",
     "text": [
      "Epoch 1507: train=8.12637, val=8.23002, took 25.731 s\n",
      "  Validation Found 51135 of 54504, added 2306 (eff 93.82%) (0.231 FP/event)\n"
     ]
    },
    {
     "data": {
      "application/vnd.jupyter.widget-view+json": {
       "model_id": "",
       "version_major": 2,
       "version_minor": 0
      },
      "text/plain": [
       "HBox(children=(FloatProgress(value=0.0, description='Training', layout=Layout(flex='2'), max=1250.0, style=Pro…"
      ]
     },
     "metadata": {},
     "output_type": "display_data"
    },
    {
     "name": "stdout",
     "output_type": "stream",
     "text": [
      "Epoch 1508: train=8.12611, val=8.38077, took 25.743 s\n",
      "  Validation Found 50945 of 54504, added 2025 (eff 93.47%) (0.203 FP/event)\n"
     ]
    },
    {
     "data": {
      "application/vnd.jupyter.widget-view+json": {
       "model_id": "",
       "version_major": 2,
       "version_minor": 0
      },
      "text/plain": [
       "HBox(children=(FloatProgress(value=0.0, description='Training', layout=Layout(flex='2'), max=1250.0, style=Pro…"
      ]
     },
     "metadata": {},
     "output_type": "display_data"
    },
    {
     "name": "stdout",
     "output_type": "stream",
     "text": [
      "Epoch 1509: train=8.13062, val=8.31987, took 25.778 s\n",
      "  Validation Found 50992 of 54504, added 2015 (eff 93.56%) (0.202 FP/event)\n"
     ]
    },
    {
     "data": {
      "application/vnd.jupyter.widget-view+json": {
       "model_id": "",
       "version_major": 2,
       "version_minor": 0
      },
      "text/plain": [
       "HBox(children=(FloatProgress(value=0.0, description='Training', layout=Layout(flex='2'), max=1250.0, style=Pro…"
      ]
     },
     "metadata": {},
     "output_type": "display_data"
    },
    {
     "name": "stdout",
     "output_type": "stream",
     "text": [
      "Epoch 1510: train=8.12919, val=8.25324, took 25.639 s\n",
      "  Validation Found 51030 of 54504, added 2046 (eff 93.63%) (0.205 FP/event)\n"
     ]
    },
    {
     "data": {
      "application/vnd.jupyter.widget-view+json": {
       "model_id": "",
       "version_major": 2,
       "version_minor": 0
      },
      "text/plain": [
       "HBox(children=(FloatProgress(value=0.0, description='Training', layout=Layout(flex='2'), max=1250.0, style=Pro…"
      ]
     },
     "metadata": {},
     "output_type": "display_data"
    },
    {
     "name": "stdout",
     "output_type": "stream",
     "text": [
      "Epoch 1511: train=8.13518, val=8.28129, took 25.506 s\n",
      "  Validation Found 51019 of 54504, added 2073 (eff 93.61%) (0.208 FP/event)\n"
     ]
    },
    {
     "data": {
      "application/vnd.jupyter.widget-view+json": {
       "model_id": "",
       "version_major": 2,
       "version_minor": 0
      },
      "text/plain": [
       "HBox(children=(FloatProgress(value=0.0, description='Training', layout=Layout(flex='2'), max=1250.0, style=Pro…"
      ]
     },
     "metadata": {},
     "output_type": "display_data"
    },
    {
     "name": "stdout",
     "output_type": "stream",
     "text": [
      "Epoch 1512: train=8.13421, val=8.27715, took 25.516 s\n",
      "  Validation Found 51030 of 54504, added 2110 (eff 93.63%) (0.211 FP/event)\n"
     ]
    },
    {
     "data": {
      "application/vnd.jupyter.widget-view+json": {
       "model_id": "",
       "version_major": 2,
       "version_minor": 0
      },
      "text/plain": [
       "HBox(children=(FloatProgress(value=0.0, description='Training', layout=Layout(flex='2'), max=1250.0, style=Pro…"
      ]
     },
     "metadata": {},
     "output_type": "display_data"
    },
    {
     "name": "stdout",
     "output_type": "stream",
     "text": [
      "Epoch 1513: train=8.13159, val=8.26478, took 25.668 s\n",
      "  Validation Found 50962 of 54504, added 1935 (eff 93.50%) (0.194 FP/event)\n"
     ]
    },
    {
     "data": {
      "application/vnd.jupyter.widget-view+json": {
       "model_id": "",
       "version_major": 2,
       "version_minor": 0
      },
      "text/plain": [
       "HBox(children=(FloatProgress(value=0.0, description='Training', layout=Layout(flex='2'), max=1250.0, style=Pro…"
      ]
     },
     "metadata": {},
     "output_type": "display_data"
    },
    {
     "name": "stdout",
     "output_type": "stream",
     "text": [
      "Epoch 1514: train=8.13106, val=8.27489, took 25.913 s\n",
      "  Validation Found 51080 of 54504, added 2057 (eff 93.72%) (0.206 FP/event)\n"
     ]
    },
    {
     "data": {
      "application/vnd.jupyter.widget-view+json": {
       "model_id": "",
       "version_major": 2,
       "version_minor": 0
      },
      "text/plain": [
       "HBox(children=(FloatProgress(value=0.0, description='Training', layout=Layout(flex='2'), max=1250.0, style=Pro…"
      ]
     },
     "metadata": {},
     "output_type": "display_data"
    },
    {
     "name": "stdout",
     "output_type": "stream",
     "text": [
      "Epoch 1515: train=8.1231, val=8.25217, took 25.791 s\n",
      "  Validation Found 51045 of 54504, added 2070 (eff 93.65%) (0.207 FP/event)\n"
     ]
    },
    {
     "data": {
      "application/vnd.jupyter.widget-view+json": {
       "model_id": "",
       "version_major": 2,
       "version_minor": 0
      },
      "text/plain": [
       "HBox(children=(FloatProgress(value=0.0, description='Training', layout=Layout(flex='2'), max=1250.0, style=Pro…"
      ]
     },
     "metadata": {},
     "output_type": "display_data"
    },
    {
     "name": "stdout",
     "output_type": "stream",
     "text": [
      "Epoch 1516: train=8.13414, val=8.31492, took 25.799 s\n",
      "  Validation Found 50956 of 54504, added 1927 (eff 93.49%) (0.193 FP/event)\n"
     ]
    },
    {
     "data": {
      "application/vnd.jupyter.widget-view+json": {
       "model_id": "",
       "version_major": 2,
       "version_minor": 0
      },
      "text/plain": [
       "HBox(children=(FloatProgress(value=0.0, description='Training', layout=Layout(flex='2'), max=1250.0, style=Pro…"
      ]
     },
     "metadata": {},
     "output_type": "display_data"
    },
    {
     "name": "stdout",
     "output_type": "stream",
     "text": [
      "Epoch 1517: train=8.12561, val=8.25682, took 25.812 s\n",
      "  Validation Found 51033 of 54504, added 1987 (eff 93.63%) (0.199 FP/event)\n"
     ]
    },
    {
     "data": {
      "application/vnd.jupyter.widget-view+json": {
       "model_id": "",
       "version_major": 2,
       "version_minor": 0
      },
      "text/plain": [
       "HBox(children=(FloatProgress(value=0.0, description='Training', layout=Layout(flex='2'), max=1250.0, style=Pro…"
      ]
     },
     "metadata": {},
     "output_type": "display_data"
    },
    {
     "name": "stdout",
     "output_type": "stream",
     "text": [
      "Epoch 1518: train=8.12331, val=8.33037, took 25.809 s\n",
      "  Validation Found 50943 of 54504, added 1922 (eff 93.47%) (0.192 FP/event)\n"
     ]
    },
    {
     "data": {
      "application/vnd.jupyter.widget-view+json": {
       "model_id": "",
       "version_major": 2,
       "version_minor": 0
      },
      "text/plain": [
       "HBox(children=(FloatProgress(value=0.0, description='Training', layout=Layout(flex='2'), max=1250.0, style=Pro…"
      ]
     },
     "metadata": {},
     "output_type": "display_data"
    },
    {
     "name": "stdout",
     "output_type": "stream",
     "text": [
      "Epoch 1519: train=8.12737, val=8.35384, took 25.844 s\n",
      "  Validation Found 50906 of 54504, added 1873 (eff 93.40%) (0.188 FP/event)\n"
     ]
    },
    {
     "data": {
      "application/vnd.jupyter.widget-view+json": {
       "model_id": "",
       "version_major": 2,
       "version_minor": 0
      },
      "text/plain": [
       "HBox(children=(FloatProgress(value=0.0, description='Training', layout=Layout(flex='2'), max=1250.0, style=Pro…"
      ]
     },
     "metadata": {},
     "output_type": "display_data"
    },
    {
     "name": "stdout",
     "output_type": "stream",
     "text": [
      "Epoch 1520: train=8.1322, val=8.31552, took 25.849 s\n",
      "  Validation Found 51026 of 54504, added 2045 (eff 93.62%) (0.205 FP/event)\n"
     ]
    },
    {
     "data": {
      "application/vnd.jupyter.widget-view+json": {
       "model_id": "",
       "version_major": 2,
       "version_minor": 0
      },
      "text/plain": [
       "HBox(children=(FloatProgress(value=0.0, description='Training', layout=Layout(flex='2'), max=1250.0, style=Pro…"
      ]
     },
     "metadata": {},
     "output_type": "display_data"
    },
    {
     "name": "stdout",
     "output_type": "stream",
     "text": [
      "Epoch 1521: train=8.13102, val=8.25363, took 25.819 s\n",
      "  Validation Found 51147 of 54504, added 2241 (eff 93.84%) (0.224 FP/event)\n"
     ]
    },
    {
     "data": {
      "application/vnd.jupyter.widget-view+json": {
       "model_id": "",
       "version_major": 2,
       "version_minor": 0
      },
      "text/plain": [
       "HBox(children=(FloatProgress(value=0.0, description='Training', layout=Layout(flex='2'), max=1250.0, style=Pro…"
      ]
     },
     "metadata": {},
     "output_type": "display_data"
    },
    {
     "name": "stdout",
     "output_type": "stream",
     "text": [
      "Epoch 1522: train=8.1236, val=8.29916, took 25.821 s\n",
      "  Validation Found 51011 of 54504, added 2012 (eff 93.59%) (0.202 FP/event)\n"
     ]
    },
    {
     "data": {
      "application/vnd.jupyter.widget-view+json": {
       "model_id": "",
       "version_major": 2,
       "version_minor": 0
      },
      "text/plain": [
       "HBox(children=(FloatProgress(value=0.0, description='Training', layout=Layout(flex='2'), max=1250.0, style=Pro…"
      ]
     },
     "metadata": {},
     "output_type": "display_data"
    },
    {
     "name": "stdout",
     "output_type": "stream",
     "text": [
      "Epoch 1523: train=8.12995, val=8.29636, took 26.212 s\n",
      "  Validation Found 50929 of 54504, added 1895 (eff 93.44%) (0.19 FP/event)\n"
     ]
    },
    {
     "data": {
      "application/vnd.jupyter.widget-view+json": {
       "model_id": "",
       "version_major": 2,
       "version_minor": 0
      },
      "text/plain": [
       "HBox(children=(FloatProgress(value=0.0, description='Training', layout=Layout(flex='2'), max=1250.0, style=Pro…"
      ]
     },
     "metadata": {},
     "output_type": "display_data"
    },
    {
     "name": "stdout",
     "output_type": "stream",
     "text": [
      "Epoch 1524: train=8.12719, val=8.26499, took 25.863 s\n",
      "  Validation Found 51120 of 54504, added 2337 (eff 93.79%) (0.234 FP/event)\n"
     ]
    },
    {
     "data": {
      "application/vnd.jupyter.widget-view+json": {
       "model_id": "",
       "version_major": 2,
       "version_minor": 0
      },
      "text/plain": [
       "HBox(children=(FloatProgress(value=0.0, description='Training', layout=Layout(flex='2'), max=1250.0, style=Pro…"
      ]
     },
     "metadata": {},
     "output_type": "display_data"
    },
    {
     "name": "stdout",
     "output_type": "stream",
     "text": [
      "Epoch 1525: train=8.13052, val=8.29627, took 25.75 s\n",
      "  Validation Found 50935 of 54504, added 1987 (eff 93.45%) (0.199 FP/event)\n"
     ]
    },
    {
     "data": {
      "application/vnd.jupyter.widget-view+json": {
       "model_id": "",
       "version_major": 2,
       "version_minor": 0
      },
      "text/plain": [
       "HBox(children=(FloatProgress(value=0.0, description='Training', layout=Layout(flex='2'), max=1250.0, style=Pro…"
      ]
     },
     "metadata": {},
     "output_type": "display_data"
    },
    {
     "name": "stdout",
     "output_type": "stream",
     "text": [
      "Epoch 1526: train=8.12116, val=8.40935, took 25.768 s\n",
      "  Validation Found 50901 of 54504, added 1836 (eff 93.39%) (0.184 FP/event)\n"
     ]
    },
    {
     "data": {
      "application/vnd.jupyter.widget-view+json": {
       "model_id": "",
       "version_major": 2,
       "version_minor": 0
      },
      "text/plain": [
       "HBox(children=(FloatProgress(value=0.0, description='Training', layout=Layout(flex='2'), max=1250.0, style=Pro…"
      ]
     },
     "metadata": {},
     "output_type": "display_data"
    },
    {
     "name": "stdout",
     "output_type": "stream",
     "text": [
      "Epoch 1527: train=8.12223, val=8.29054, took 26.084 s\n",
      "  Validation Found 51107 of 54504, added 2097 (eff 93.77%) (0.21 FP/event)\n"
     ]
    },
    {
     "data": {
      "application/vnd.jupyter.widget-view+json": {
       "model_id": "",
       "version_major": 2,
       "version_minor": 0
      },
      "text/plain": [
       "HBox(children=(FloatProgress(value=0.0, description='Training', layout=Layout(flex='2'), max=1250.0, style=Pro…"
      ]
     },
     "metadata": {},
     "output_type": "display_data"
    },
    {
     "name": "stdout",
     "output_type": "stream",
     "text": [
      "Epoch 1528: train=8.12575, val=8.54031, took 26.062 s\n",
      "  Validation Found 51344 of 54504, added 3467 (eff 94.20%) (0.347 FP/event)\n"
     ]
    },
    {
     "data": {
      "application/vnd.jupyter.widget-view+json": {
       "model_id": "",
       "version_major": 2,
       "version_minor": 0
      },
      "text/plain": [
       "HBox(children=(FloatProgress(value=0.0, description='Training', layout=Layout(flex='2'), max=1250.0, style=Pro…"
      ]
     },
     "metadata": {},
     "output_type": "display_data"
    },
    {
     "name": "stdout",
     "output_type": "stream",
     "text": [
      "Epoch 1529: train=8.13235, val=8.2564, took 25.833 s\n",
      "  Validation Found 51176 of 54504, added 2410 (eff 93.89%) (0.241 FP/event)\n"
     ]
    },
    {
     "data": {
      "application/vnd.jupyter.widget-view+json": {
       "model_id": "",
       "version_major": 2,
       "version_minor": 0
      },
      "text/plain": [
       "HBox(children=(FloatProgress(value=0.0, description='Training', layout=Layout(flex='2'), max=1250.0, style=Pro…"
      ]
     },
     "metadata": {},
     "output_type": "display_data"
    },
    {
     "name": "stdout",
     "output_type": "stream",
     "text": [
      "Epoch 1530: train=8.13431, val=8.20226, took 25.909 s\n",
      "  Validation Found 51082 of 54504, added 2134 (eff 93.72%) (0.214 FP/event)\n"
     ]
    },
    {
     "data": {
      "application/vnd.jupyter.widget-view+json": {
       "model_id": "",
       "version_major": 2,
       "version_minor": 0
      },
      "text/plain": [
       "HBox(children=(FloatProgress(value=0.0, description='Training', layout=Layout(flex='2'), max=1250.0, style=Pro…"
      ]
     },
     "metadata": {},
     "output_type": "display_data"
    },
    {
     "name": "stdout",
     "output_type": "stream",
     "text": [
      "Epoch 1531: train=8.12603, val=8.31472, took 25.84 s\n",
      "  Validation Found 51056 of 54504, added 2137 (eff 93.67%) (0.214 FP/event)\n"
     ]
    },
    {
     "data": {
      "application/vnd.jupyter.widget-view+json": {
       "model_id": "",
       "version_major": 2,
       "version_minor": 0
      },
      "text/plain": [
       "HBox(children=(FloatProgress(value=0.0, description='Training', layout=Layout(flex='2'), max=1250.0, style=Pro…"
      ]
     },
     "metadata": {},
     "output_type": "display_data"
    },
    {
     "name": "stdout",
     "output_type": "stream",
     "text": [
      "Epoch 1532: train=8.11678, val=8.24891, took 26.012 s\n",
      "  Validation Found 51104 of 54504, added 2206 (eff 93.76%) (0.221 FP/event)\n"
     ]
    },
    {
     "data": {
      "application/vnd.jupyter.widget-view+json": {
       "model_id": "",
       "version_major": 2,
       "version_minor": 0
      },
      "text/plain": [
       "HBox(children=(FloatProgress(value=0.0, description='Training', layout=Layout(flex='2'), max=1250.0, style=Pro…"
      ]
     },
     "metadata": {},
     "output_type": "display_data"
    },
    {
     "name": "stdout",
     "output_type": "stream",
     "text": [
      "Epoch 1533: train=8.12397, val=8.35439, took 25.871 s\n",
      "  Validation Found 50984 of 54504, added 1972 (eff 93.54%) (0.197 FP/event)\n"
     ]
    },
    {
     "data": {
      "application/vnd.jupyter.widget-view+json": {
       "model_id": "",
       "version_major": 2,
       "version_minor": 0
      },
      "text/plain": [
       "HBox(children=(FloatProgress(value=0.0, description='Training', layout=Layout(flex='2'), max=1250.0, style=Pro…"
      ]
     },
     "metadata": {},
     "output_type": "display_data"
    },
    {
     "name": "stdout",
     "output_type": "stream",
     "text": [
      "Epoch 1534: train=8.12447, val=8.38948, took 25.848 s\n",
      "  Validation Found 50823 of 54504, added 1752 (eff 93.25%) (0.175 FP/event)\n"
     ]
    },
    {
     "data": {
      "application/vnd.jupyter.widget-view+json": {
       "model_id": "",
       "version_major": 2,
       "version_minor": 0
      },
      "text/plain": [
       "HBox(children=(FloatProgress(value=0.0, description='Training', layout=Layout(flex='2'), max=1250.0, style=Pro…"
      ]
     },
     "metadata": {},
     "output_type": "display_data"
    },
    {
     "name": "stdout",
     "output_type": "stream",
     "text": [
      "Epoch 1535: train=8.1197, val=8.37275, took 25.882 s\n",
      "  Validation Found 50792 of 54504, added 1777 (eff 93.19%) (0.178 FP/event)\n"
     ]
    },
    {
     "data": {
      "application/vnd.jupyter.widget-view+json": {
       "model_id": "",
       "version_major": 2,
       "version_minor": 0
      },
      "text/plain": [
       "HBox(children=(FloatProgress(value=0.0, description='Training', layout=Layout(flex='2'), max=1250.0, style=Pro…"
      ]
     },
     "metadata": {},
     "output_type": "display_data"
    },
    {
     "name": "stdout",
     "output_type": "stream",
     "text": [
      "Epoch 1536: train=8.13927, val=8.30167, took 25.85 s\n",
      "  Validation Found 50865 of 54504, added 1777 (eff 93.32%) (0.178 FP/event)\n"
     ]
    },
    {
     "data": {
      "application/vnd.jupyter.widget-view+json": {
       "model_id": "",
       "version_major": 2,
       "version_minor": 0
      },
      "text/plain": [
       "HBox(children=(FloatProgress(value=0.0, description='Training', layout=Layout(flex='2'), max=1250.0, style=Pro…"
      ]
     },
     "metadata": {},
     "output_type": "display_data"
    },
    {
     "name": "stdout",
     "output_type": "stream",
     "text": [
      "Epoch 1537: train=8.12075, val=8.28141, took 25.836 s\n",
      "  Validation Found 51131 of 54504, added 2280 (eff 93.81%) (0.228 FP/event)\n"
     ]
    },
    {
     "data": {
      "application/vnd.jupyter.widget-view+json": {
       "model_id": "",
       "version_major": 2,
       "version_minor": 0
      },
      "text/plain": [
       "HBox(children=(FloatProgress(value=0.0, description='Training', layout=Layout(flex='2'), max=1250.0, style=Pro…"
      ]
     },
     "metadata": {},
     "output_type": "display_data"
    },
    {
     "name": "stdout",
     "output_type": "stream",
     "text": [
      "Epoch 1538: train=8.11906, val=8.20102, took 25.813 s\n",
      "  Validation Found 51073 of 54504, added 2067 (eff 93.71%) (0.207 FP/event)\n"
     ]
    },
    {
     "data": {
      "application/vnd.jupyter.widget-view+json": {
       "model_id": "",
       "version_major": 2,
       "version_minor": 0
      },
      "text/plain": [
       "HBox(children=(FloatProgress(value=0.0, description='Training', layout=Layout(flex='2'), max=1250.0, style=Pro…"
      ]
     },
     "metadata": {},
     "output_type": "display_data"
    },
    {
     "name": "stdout",
     "output_type": "stream",
     "text": [
      "Epoch 1539: train=8.12606, val=8.23545, took 25.825 s\n",
      "  Validation Found 51224 of 54504, added 2455 (eff 93.98%) (0.246 FP/event)\n"
     ]
    },
    {
     "data": {
      "application/vnd.jupyter.widget-view+json": {
       "model_id": "",
       "version_major": 2,
       "version_minor": 0
      },
      "text/plain": [
       "HBox(children=(FloatProgress(value=0.0, description='Training', layout=Layout(flex='2'), max=1250.0, style=Pro…"
      ]
     },
     "metadata": {},
     "output_type": "display_data"
    },
    {
     "name": "stdout",
     "output_type": "stream",
     "text": [
      "Epoch 1540: train=8.12385, val=8.38908, took 25.932 s\n",
      "  Validation Found 50927 of 54504, added 2063 (eff 93.44%) (0.207 FP/event)\n"
     ]
    },
    {
     "data": {
      "application/vnd.jupyter.widget-view+json": {
       "model_id": "",
       "version_major": 2,
       "version_minor": 0
      },
      "text/plain": [
       "HBox(children=(FloatProgress(value=0.0, description='Training', layout=Layout(flex='2'), max=1250.0, style=Pro…"
      ]
     },
     "metadata": {},
     "output_type": "display_data"
    },
    {
     "name": "stdout",
     "output_type": "stream",
     "text": [
      "Epoch 1541: train=8.12559, val=8.26584, took 26.195 s\n",
      "  Validation Found 51198 of 54504, added 2351 (eff 93.93%) (0.235 FP/event)\n"
     ]
    },
    {
     "data": {
      "application/vnd.jupyter.widget-view+json": {
       "model_id": "",
       "version_major": 2,
       "version_minor": 0
      },
      "text/plain": [
       "HBox(children=(FloatProgress(value=0.0, description='Training', layout=Layout(flex='2'), max=1250.0, style=Pro…"
      ]
     },
     "metadata": {},
     "output_type": "display_data"
    },
    {
     "name": "stdout",
     "output_type": "stream",
     "text": [
      "Epoch 1542: train=8.12703, val=8.30191, took 26.011 s\n",
      "  Validation Found 51164 of 54504, added 2554 (eff 93.87%) (0.256 FP/event)\n"
     ]
    },
    {
     "data": {
      "application/vnd.jupyter.widget-view+json": {
       "model_id": "",
       "version_major": 2,
       "version_minor": 0
      },
      "text/plain": [
       "HBox(children=(FloatProgress(value=0.0, description='Training', layout=Layout(flex='2'), max=1250.0, style=Pro…"
      ]
     },
     "metadata": {},
     "output_type": "display_data"
    },
    {
     "name": "stdout",
     "output_type": "stream",
     "text": [
      "Epoch 1543: train=8.12461, val=8.2516, took 25.761 s\n",
      "  Validation Found 51046 of 54504, added 2093 (eff 93.66%) (0.21 FP/event)\n"
     ]
    },
    {
     "data": {
      "application/vnd.jupyter.widget-view+json": {
       "model_id": "",
       "version_major": 2,
       "version_minor": 0
      },
      "text/plain": [
       "HBox(children=(FloatProgress(value=0.0, description='Training', layout=Layout(flex='2'), max=1250.0, style=Pro…"
      ]
     },
     "metadata": {},
     "output_type": "display_data"
    },
    {
     "name": "stdout",
     "output_type": "stream",
     "text": [
      "Epoch 1544: train=8.12409, val=8.35741, took 25.78 s\n",
      "  Validation Found 50984 of 54504, added 1983 (eff 93.54%) (0.199 FP/event)\n"
     ]
    },
    {
     "data": {
      "application/vnd.jupyter.widget-view+json": {
       "model_id": "",
       "version_major": 2,
       "version_minor": 0
      },
      "text/plain": [
       "HBox(children=(FloatProgress(value=0.0, description='Training', layout=Layout(flex='2'), max=1250.0, style=Pro…"
      ]
     },
     "metadata": {},
     "output_type": "display_data"
    },
    {
     "name": "stdout",
     "output_type": "stream",
     "text": [
      "Epoch 1545: train=8.12525, val=8.35538, took 25.815 s\n",
      "  Validation Found 50947 of 54504, added 1949 (eff 93.47%) (0.195 FP/event)\n"
     ]
    },
    {
     "data": {
      "application/vnd.jupyter.widget-view+json": {
       "model_id": "",
       "version_major": 2,
       "version_minor": 0
      },
      "text/plain": [
       "HBox(children=(FloatProgress(value=0.0, description='Training', layout=Layout(flex='2'), max=1250.0, style=Pro…"
      ]
     },
     "metadata": {},
     "output_type": "display_data"
    },
    {
     "name": "stdout",
     "output_type": "stream",
     "text": [
      "Epoch 1546: train=8.12816, val=8.34133, took 25.743 s\n",
      "  Validation Found 50964 of 54504, added 1968 (eff 93.51%) (0.197 FP/event)\n"
     ]
    },
    {
     "data": {
      "application/vnd.jupyter.widget-view+json": {
       "model_id": "",
       "version_major": 2,
       "version_minor": 0
      },
      "text/plain": [
       "HBox(children=(FloatProgress(value=0.0, description='Training', layout=Layout(flex='2'), max=1250.0, style=Pro…"
      ]
     },
     "metadata": {},
     "output_type": "display_data"
    },
    {
     "name": "stdout",
     "output_type": "stream",
     "text": [
      "Epoch 1547: train=8.12123, val=8.38934, took 25.703 s\n",
      "  Validation Found 50884 of 54504, added 1855 (eff 93.36%) (0.186 FP/event)\n"
     ]
    },
    {
     "data": {
      "application/vnd.jupyter.widget-view+json": {
       "model_id": "",
       "version_major": 2,
       "version_minor": 0
      },
      "text/plain": [
       "HBox(children=(FloatProgress(value=0.0, description='Training', layout=Layout(flex='2'), max=1250.0, style=Pro…"
      ]
     },
     "metadata": {},
     "output_type": "display_data"
    },
    {
     "name": "stdout",
     "output_type": "stream",
     "text": [
      "Epoch 1548: train=8.12826, val=8.317, took 25.646 s\n",
      "  Validation Found 50989 of 54504, added 2024 (eff 93.55%) (0.203 FP/event)\n"
     ]
    },
    {
     "data": {
      "application/vnd.jupyter.widget-view+json": {
       "model_id": "",
       "version_major": 2,
       "version_minor": 0
      },
      "text/plain": [
       "HBox(children=(FloatProgress(value=0.0, description='Training', layout=Layout(flex='2'), max=1250.0, style=Pro…"
      ]
     },
     "metadata": {},
     "output_type": "display_data"
    },
    {
     "name": "stdout",
     "output_type": "stream",
     "text": [
      "Epoch 1549: train=8.11804, val=8.21553, took 25.905 s\n",
      "  Validation Found 51029 of 54504, added 2056 (eff 93.62%) (0.206 FP/event)\n"
     ]
    },
    {
     "data": {
      "application/vnd.jupyter.widget-view+json": {
       "model_id": "",
       "version_major": 2,
       "version_minor": 0
      },
      "text/plain": [
       "HBox(children=(FloatProgress(value=0.0, description='Training', layout=Layout(flex='2'), max=1250.0, style=Pro…"
      ]
     },
     "metadata": {},
     "output_type": "display_data"
    },
    {
     "name": "stdout",
     "output_type": "stream",
     "text": [
      "Epoch 1550: train=8.12363, val=8.3, took 25.818 s\n",
      "  Validation Found 50954 of 54504, added 1835 (eff 93.49%) (0.184 FP/event)\n"
     ]
    },
    {
     "data": {
      "application/vnd.jupyter.widget-view+json": {
       "model_id": "",
       "version_major": 2,
       "version_minor": 0
      },
      "text/plain": [
       "HBox(children=(FloatProgress(value=0.0, description='Training', layout=Layout(flex='2'), max=1250.0, style=Pro…"
      ]
     },
     "metadata": {},
     "output_type": "display_data"
    },
    {
     "name": "stdout",
     "output_type": "stream",
     "text": [
      "Epoch 1551: train=8.12212, val=8.43436, took 25.806 s\n",
      "  Validation Found 50830 of 54504, added 1800 (eff 93.26%) (0.18 FP/event)\n"
     ]
    },
    {
     "data": {
      "application/vnd.jupyter.widget-view+json": {
       "model_id": "",
       "version_major": 2,
       "version_minor": 0
      },
      "text/plain": [
       "HBox(children=(FloatProgress(value=0.0, description='Training', layout=Layout(flex='2'), max=1250.0, style=Pro…"
      ]
     },
     "metadata": {},
     "output_type": "display_data"
    },
    {
     "name": "stdout",
     "output_type": "stream",
     "text": [
      "Epoch 1552: train=8.12169, val=8.28549, took 25.846 s\n",
      "  Validation Found 51017 of 54504, added 2024 (eff 93.60%) (0.203 FP/event)\n"
     ]
    },
    {
     "data": {
      "application/vnd.jupyter.widget-view+json": {
       "model_id": "",
       "version_major": 2,
       "version_minor": 0
      },
      "text/plain": [
       "HBox(children=(FloatProgress(value=0.0, description='Training', layout=Layout(flex='2'), max=1250.0, style=Pro…"
      ]
     },
     "metadata": {},
     "output_type": "display_data"
    },
    {
     "name": "stdout",
     "output_type": "stream",
     "text": [
      "Epoch 1553: train=8.12737, val=8.2975, took 25.805 s\n",
      "  Validation Found 51028 of 54504, added 2063 (eff 93.62%) (0.207 FP/event)\n"
     ]
    },
    {
     "data": {
      "application/vnd.jupyter.widget-view+json": {
       "model_id": "",
       "version_major": 2,
       "version_minor": 0
      },
      "text/plain": [
       "HBox(children=(FloatProgress(value=0.0, description='Training', layout=Layout(flex='2'), max=1250.0, style=Pro…"
      ]
     },
     "metadata": {},
     "output_type": "display_data"
    },
    {
     "name": "stdout",
     "output_type": "stream",
     "text": [
      "Epoch 1554: train=8.12681, val=8.42416, took 25.739 s\n",
      "  Validation Found 50925 of 54504, added 1930 (eff 93.43%) (0.193 FP/event)\n"
     ]
    },
    {
     "data": {
      "application/vnd.jupyter.widget-view+json": {
       "model_id": "",
       "version_major": 2,
       "version_minor": 0
      },
      "text/plain": [
       "HBox(children=(FloatProgress(value=0.0, description='Training', layout=Layout(flex='2'), max=1250.0, style=Pro…"
      ]
     },
     "metadata": {},
     "output_type": "display_data"
    },
    {
     "name": "stdout",
     "output_type": "stream",
     "text": [
      "Epoch 1555: train=8.12574, val=8.23644, took 25.802 s\n",
      "  Validation Found 51125 of 54504, added 2267 (eff 93.80%) (0.227 FP/event)\n"
     ]
    },
    {
     "data": {
      "application/vnd.jupyter.widget-view+json": {
       "model_id": "",
       "version_major": 2,
       "version_minor": 0
      },
      "text/plain": [
       "HBox(children=(FloatProgress(value=0.0, description='Training', layout=Layout(flex='2'), max=1250.0, style=Pro…"
      ]
     },
     "metadata": {},
     "output_type": "display_data"
    },
    {
     "name": "stdout",
     "output_type": "stream",
     "text": [
      "Epoch 1556: train=8.12285, val=8.3239, took 25.788 s\n",
      "  Validation Found 50916 of 54504, added 1904 (eff 93.42%) (0.191 FP/event)\n"
     ]
    },
    {
     "data": {
      "application/vnd.jupyter.widget-view+json": {
       "model_id": "",
       "version_major": 2,
       "version_minor": 0
      },
      "text/plain": [
       "HBox(children=(FloatProgress(value=0.0, description='Training', layout=Layout(flex='2'), max=1250.0, style=Pro…"
      ]
     },
     "metadata": {},
     "output_type": "display_data"
    },
    {
     "name": "stdout",
     "output_type": "stream",
     "text": [
      "Epoch 1557: train=8.12843, val=8.28569, took 25.892 s\n",
      "  Validation Found 50936 of 54504, added 1856 (eff 93.45%) (0.186 FP/event)\n"
     ]
    },
    {
     "data": {
      "application/vnd.jupyter.widget-view+json": {
       "model_id": "",
       "version_major": 2,
       "version_minor": 0
      },
      "text/plain": [
       "HBox(children=(FloatProgress(value=0.0, description='Training', layout=Layout(flex='2'), max=1250.0, style=Pro…"
      ]
     },
     "metadata": {},
     "output_type": "display_data"
    },
    {
     "name": "stdout",
     "output_type": "stream",
     "text": [
      "Epoch 1558: train=8.12836, val=8.32045, took 25.842 s\n",
      "  Validation Found 51181 of 54504, added 2254 (eff 93.90%) (0.226 FP/event)\n"
     ]
    },
    {
     "data": {
      "application/vnd.jupyter.widget-view+json": {
       "model_id": "",
       "version_major": 2,
       "version_minor": 0
      },
      "text/plain": [
       "HBox(children=(FloatProgress(value=0.0, description='Training', layout=Layout(flex='2'), max=1250.0, style=Pro…"
      ]
     },
     "metadata": {},
     "output_type": "display_data"
    },
    {
     "name": "stdout",
     "output_type": "stream",
     "text": [
      "Epoch 1559: train=8.1258, val=8.34182, took 25.834 s\n",
      "  Validation Found 51036 of 54504, added 2171 (eff 93.64%) (0.217 FP/event)\n"
     ]
    },
    {
     "data": {
      "application/vnd.jupyter.widget-view+json": {
       "model_id": "",
       "version_major": 2,
       "version_minor": 0
      },
      "text/plain": [
       "HBox(children=(FloatProgress(value=0.0, description='Training', layout=Layout(flex='2'), max=1250.0, style=Pro…"
      ]
     },
     "metadata": {},
     "output_type": "display_data"
    },
    {
     "name": "stdout",
     "output_type": "stream",
     "text": [
      "Epoch 1560: train=8.13367, val=8.30619, took 25.868 s\n",
      "  Validation Found 51059 of 54504, added 2147 (eff 93.68%) (0.215 FP/event)\n"
     ]
    },
    {
     "data": {
      "application/vnd.jupyter.widget-view+json": {
       "model_id": "",
       "version_major": 2,
       "version_minor": 0
      },
      "text/plain": [
       "HBox(children=(FloatProgress(value=0.0, description='Training', layout=Layout(flex='2'), max=1250.0, style=Pro…"
      ]
     },
     "metadata": {},
     "output_type": "display_data"
    },
    {
     "name": "stdout",
     "output_type": "stream",
     "text": [
      "Epoch 1561: train=8.12212, val=8.29317, took 25.776 s\n",
      "  Validation Found 51127 of 54504, added 2303 (eff 93.80%) (0.231 FP/event)\n"
     ]
    },
    {
     "data": {
      "application/vnd.jupyter.widget-view+json": {
       "model_id": "",
       "version_major": 2,
       "version_minor": 0
      },
      "text/plain": [
       "HBox(children=(FloatProgress(value=0.0, description='Training', layout=Layout(flex='2'), max=1250.0, style=Pro…"
      ]
     },
     "metadata": {},
     "output_type": "display_data"
    },
    {
     "name": "stdout",
     "output_type": "stream",
     "text": [
      "Epoch 1562: train=8.12305, val=8.27807, took 25.754 s\n",
      "  Validation Found 51324 of 54504, added 2605 (eff 94.17%) (0.261 FP/event)\n"
     ]
    },
    {
     "data": {
      "application/vnd.jupyter.widget-view+json": {
       "model_id": "",
       "version_major": 2,
       "version_minor": 0
      },
      "text/plain": [
       "HBox(children=(FloatProgress(value=0.0, description='Training', layout=Layout(flex='2'), max=1250.0, style=Pro…"
      ]
     },
     "metadata": {},
     "output_type": "display_data"
    },
    {
     "name": "stdout",
     "output_type": "stream",
     "text": [
      "Epoch 1563: train=8.12146, val=8.26038, took 25.743 s\n",
      "  Validation Found 51054 of 54504, added 2202 (eff 93.67%) (0.221 FP/event)\n"
     ]
    },
    {
     "data": {
      "application/vnd.jupyter.widget-view+json": {
       "model_id": "",
       "version_major": 2,
       "version_minor": 0
      },
      "text/plain": [
       "HBox(children=(FloatProgress(value=0.0, description='Training', layout=Layout(flex='2'), max=1250.0, style=Pro…"
      ]
     },
     "metadata": {},
     "output_type": "display_data"
    },
    {
     "name": "stdout",
     "output_type": "stream",
     "text": [
      "Epoch 1564: train=8.12873, val=8.30935, took 25.754 s\n",
      "  Validation Found 51036 of 54504, added 2119 (eff 93.64%) (0.212 FP/event)\n"
     ]
    },
    {
     "data": {
      "application/vnd.jupyter.widget-view+json": {
       "model_id": "",
       "version_major": 2,
       "version_minor": 0
      },
      "text/plain": [
       "HBox(children=(FloatProgress(value=0.0, description='Training', layout=Layout(flex='2'), max=1250.0, style=Pro…"
      ]
     },
     "metadata": {},
     "output_type": "display_data"
    },
    {
     "name": "stdout",
     "output_type": "stream",
     "text": [
      "Epoch 1565: train=8.12622, val=8.4691, took 25.748 s\n",
      "  Validation Found 50959 of 54504, added 2312 (eff 93.50%) (0.232 FP/event)\n"
     ]
    },
    {
     "data": {
      "application/vnd.jupyter.widget-view+json": {
       "model_id": "",
       "version_major": 2,
       "version_minor": 0
      },
      "text/plain": [
       "HBox(children=(FloatProgress(value=0.0, description='Training', layout=Layout(flex='2'), max=1250.0, style=Pro…"
      ]
     },
     "metadata": {},
     "output_type": "display_data"
    },
    {
     "name": "stdout",
     "output_type": "stream",
     "text": [
      "Epoch 1566: train=8.12223, val=8.32143, took 25.771 s\n",
      "  Validation Found 50955 of 54504, added 2092 (eff 93.49%) (0.21 FP/event)\n"
     ]
    },
    {
     "data": {
      "application/vnd.jupyter.widget-view+json": {
       "model_id": "",
       "version_major": 2,
       "version_minor": 0
      },
      "text/plain": [
       "HBox(children=(FloatProgress(value=0.0, description='Training', layout=Layout(flex='2'), max=1250.0, style=Pro…"
      ]
     },
     "metadata": {},
     "output_type": "display_data"
    },
    {
     "name": "stdout",
     "output_type": "stream",
     "text": [
      "Epoch 1567: train=8.11766, val=8.39851, took 25.774 s\n",
      "  Validation Found 50750 of 54504, added 1668 (eff 93.11%) (0.167 FP/event)\n"
     ]
    },
    {
     "data": {
      "application/vnd.jupyter.widget-view+json": {
       "model_id": "",
       "version_major": 2,
       "version_minor": 0
      },
      "text/plain": [
       "HBox(children=(FloatProgress(value=0.0, description='Training', layout=Layout(flex='2'), max=1250.0, style=Pro…"
      ]
     },
     "metadata": {},
     "output_type": "display_data"
    },
    {
     "name": "stdout",
     "output_type": "stream",
     "text": [
      "Epoch 1568: train=8.12441, val=8.35439, took 25.775 s\n",
      "  Validation Found 50928 of 54504, added 1978 (eff 93.44%) (0.198 FP/event)\n"
     ]
    },
    {
     "data": {
      "application/vnd.jupyter.widget-view+json": {
       "model_id": "",
       "version_major": 2,
       "version_minor": 0
      },
      "text/plain": [
       "HBox(children=(FloatProgress(value=0.0, description='Training', layout=Layout(flex='2'), max=1250.0, style=Pro…"
      ]
     },
     "metadata": {},
     "output_type": "display_data"
    },
    {
     "name": "stdout",
     "output_type": "stream",
     "text": [
      "Epoch 1569: train=8.12164, val=8.22143, took 25.8 s\n",
      "  Validation Found 51126 of 54504, added 2267 (eff 93.80%) (0.227 FP/event)\n"
     ]
    },
    {
     "data": {
      "application/vnd.jupyter.widget-view+json": {
       "model_id": "",
       "version_major": 2,
       "version_minor": 0
      },
      "text/plain": [
       "HBox(children=(FloatProgress(value=0.0, description='Training', layout=Layout(flex='2'), max=1250.0, style=Pro…"
      ]
     },
     "metadata": {},
     "output_type": "display_data"
    },
    {
     "name": "stdout",
     "output_type": "stream",
     "text": [
      "Epoch 1570: train=8.12238, val=8.25262, took 25.775 s\n",
      "  Validation Found 51101 of 54504, added 2140 (eff 93.76%) (0.214 FP/event)\n"
     ]
    },
    {
     "data": {
      "application/vnd.jupyter.widget-view+json": {
       "model_id": "",
       "version_major": 2,
       "version_minor": 0
      },
      "text/plain": [
       "HBox(children=(FloatProgress(value=0.0, description='Training', layout=Layout(flex='2'), max=1250.0, style=Pro…"
      ]
     },
     "metadata": {},
     "output_type": "display_data"
    },
    {
     "name": "stdout",
     "output_type": "stream",
     "text": [
      "Epoch 1571: train=8.12186, val=8.2028, took 25.778 s\n",
      "  Validation Found 51116 of 54504, added 2177 (eff 93.78%) (0.218 FP/event)\n"
     ]
    },
    {
     "data": {
      "application/vnd.jupyter.widget-view+json": {
       "model_id": "",
       "version_major": 2,
       "version_minor": 0
      },
      "text/plain": [
       "HBox(children=(FloatProgress(value=0.0, description='Training', layout=Layout(flex='2'), max=1250.0, style=Pro…"
      ]
     },
     "metadata": {},
     "output_type": "display_data"
    },
    {
     "name": "stdout",
     "output_type": "stream",
     "text": [
      "Epoch 1572: train=8.11666, val=8.28181, took 25.777 s\n",
      "  Validation Found 51026 of 54504, added 1998 (eff 93.62%) (0.2 FP/event)\n"
     ]
    },
    {
     "data": {
      "application/vnd.jupyter.widget-view+json": {
       "model_id": "",
       "version_major": 2,
       "version_minor": 0
      },
      "text/plain": [
       "HBox(children=(FloatProgress(value=0.0, description='Training', layout=Layout(flex='2'), max=1250.0, style=Pro…"
      ]
     },
     "metadata": {},
     "output_type": "display_data"
    },
    {
     "name": "stdout",
     "output_type": "stream",
     "text": [
      "Epoch 1573: train=8.11451, val=8.31644, took 25.82 s\n",
      "  Validation Found 51030 of 54504, added 2196 (eff 93.63%) (0.22 FP/event)\n"
     ]
    },
    {
     "data": {
      "application/vnd.jupyter.widget-view+json": {
       "model_id": "",
       "version_major": 2,
       "version_minor": 0
      },
      "text/plain": [
       "HBox(children=(FloatProgress(value=0.0, description='Training', layout=Layout(flex='2'), max=1250.0, style=Pro…"
      ]
     },
     "metadata": {},
     "output_type": "display_data"
    },
    {
     "name": "stdout",
     "output_type": "stream",
     "text": [
      "Epoch 1574: train=8.12813, val=8.38053, took 25.842 s\n",
      "  Validation Found 50820 of 54504, added 1769 (eff 93.24%) (0.177 FP/event)\n"
     ]
    },
    {
     "data": {
      "application/vnd.jupyter.widget-view+json": {
       "model_id": "",
       "version_major": 2,
       "version_minor": 0
      },
      "text/plain": [
       "HBox(children=(FloatProgress(value=0.0, description='Training', layout=Layout(flex='2'), max=1250.0, style=Pro…"
      ]
     },
     "metadata": {},
     "output_type": "display_data"
    },
    {
     "name": "stdout",
     "output_type": "stream",
     "text": [
      "Epoch 1575: train=8.1225, val=8.28198, took 25.821 s\n",
      "  Validation Found 51014 of 54504, added 1935 (eff 93.60%) (0.194 FP/event)\n"
     ]
    },
    {
     "data": {
      "application/vnd.jupyter.widget-view+json": {
       "model_id": "",
       "version_major": 2,
       "version_minor": 0
      },
      "text/plain": [
       "HBox(children=(FloatProgress(value=0.0, description='Training', layout=Layout(flex='2'), max=1250.0, style=Pro…"
      ]
     },
     "metadata": {},
     "output_type": "display_data"
    },
    {
     "name": "stdout",
     "output_type": "stream",
     "text": [
      "Epoch 1576: train=8.11724, val=8.34371, took 25.836 s\n",
      "  Validation Found 50945 of 54504, added 1911 (eff 93.47%) (0.191 FP/event)\n"
     ]
    },
    {
     "data": {
      "application/vnd.jupyter.widget-view+json": {
       "model_id": "",
       "version_major": 2,
       "version_minor": 0
      },
      "text/plain": [
       "HBox(children=(FloatProgress(value=0.0, description='Training', layout=Layout(flex='2'), max=1250.0, style=Pro…"
      ]
     },
     "metadata": {},
     "output_type": "display_data"
    },
    {
     "name": "stdout",
     "output_type": "stream",
     "text": [
      "Epoch 1577: train=8.12149, val=8.39999, took 25.838 s\n",
      "  Validation Found 50968 of 54504, added 2018 (eff 93.51%) (0.202 FP/event)\n"
     ]
    },
    {
     "data": {
      "application/vnd.jupyter.widget-view+json": {
       "model_id": "",
       "version_major": 2,
       "version_minor": 0
      },
      "text/plain": [
       "HBox(children=(FloatProgress(value=0.0, description='Training', layout=Layout(flex='2'), max=1250.0, style=Pro…"
      ]
     },
     "metadata": {},
     "output_type": "display_data"
    },
    {
     "name": "stdout",
     "output_type": "stream",
     "text": [
      "Epoch 1578: train=8.12103, val=8.30293, took 25.875 s\n",
      "  Validation Found 50986 of 54504, added 1950 (eff 93.55%) (0.195 FP/event)\n"
     ]
    },
    {
     "data": {
      "application/vnd.jupyter.widget-view+json": {
       "model_id": "",
       "version_major": 2,
       "version_minor": 0
      },
      "text/plain": [
       "HBox(children=(FloatProgress(value=0.0, description='Training', layout=Layout(flex='2'), max=1250.0, style=Pro…"
      ]
     },
     "metadata": {},
     "output_type": "display_data"
    },
    {
     "name": "stdout",
     "output_type": "stream",
     "text": [
      "Epoch 1579: train=8.12561, val=8.26783, took 25.96 s\n",
      "  Validation Found 51122 of 54504, added 2270 (eff 93.79%) (0.227 FP/event)\n"
     ]
    },
    {
     "data": {
      "application/vnd.jupyter.widget-view+json": {
       "model_id": "",
       "version_major": 2,
       "version_minor": 0
      },
      "text/plain": [
       "HBox(children=(FloatProgress(value=0.0, description='Training', layout=Layout(flex='2'), max=1250.0, style=Pro…"
      ]
     },
     "metadata": {},
     "output_type": "display_data"
    },
    {
     "name": "stdout",
     "output_type": "stream",
     "text": [
      "Epoch 1580: train=8.12443, val=8.46207, took 25.852 s\n",
      "  Validation Found 50845 of 54504, added 1764 (eff 93.29%) (0.177 FP/event)\n"
     ]
    },
    {
     "data": {
      "application/vnd.jupyter.widget-view+json": {
       "model_id": "",
       "version_major": 2,
       "version_minor": 0
      },
      "text/plain": [
       "HBox(children=(FloatProgress(value=0.0, description='Training', layout=Layout(flex='2'), max=1250.0, style=Pro…"
      ]
     },
     "metadata": {},
     "output_type": "display_data"
    },
    {
     "name": "stdout",
     "output_type": "stream",
     "text": [
      "Epoch 1581: train=8.13024, val=8.32612, took 26.059 s\n",
      "  Validation Found 50965 of 54504, added 1988 (eff 93.51%) (0.199 FP/event)\n"
     ]
    },
    {
     "data": {
      "application/vnd.jupyter.widget-view+json": {
       "model_id": "",
       "version_major": 2,
       "version_minor": 0
      },
      "text/plain": [
       "HBox(children=(FloatProgress(value=0.0, description='Training', layout=Layout(flex='2'), max=1250.0, style=Pro…"
      ]
     },
     "metadata": {},
     "output_type": "display_data"
    },
    {
     "name": "stdout",
     "output_type": "stream",
     "text": [
      "Epoch 1582: train=8.13303, val=8.17211, took 25.829 s\n",
      "  Validation Found 51096 of 54504, added 2160 (eff 93.75%) (0.216 FP/event)\n"
     ]
    },
    {
     "data": {
      "application/vnd.jupyter.widget-view+json": {
       "model_id": "",
       "version_major": 2,
       "version_minor": 0
      },
      "text/plain": [
       "HBox(children=(FloatProgress(value=0.0, description='Training', layout=Layout(flex='2'), max=1250.0, style=Pro…"
      ]
     },
     "metadata": {},
     "output_type": "display_data"
    },
    {
     "name": "stdout",
     "output_type": "stream",
     "text": [
      "Epoch 1583: train=8.12163, val=8.33508, took 25.865 s\n",
      "  Validation Found 50898 of 54504, added 1863 (eff 93.38%) (0.187 FP/event)\n"
     ]
    },
    {
     "data": {
      "application/vnd.jupyter.widget-view+json": {
       "model_id": "",
       "version_major": 2,
       "version_minor": 0
      },
      "text/plain": [
       "HBox(children=(FloatProgress(value=0.0, description='Training', layout=Layout(flex='2'), max=1250.0, style=Pro…"
      ]
     },
     "metadata": {},
     "output_type": "display_data"
    },
    {
     "name": "stdout",
     "output_type": "stream",
     "text": [
      "Epoch 1584: train=8.12326, val=8.30908, took 25.804 s\n",
      "  Validation Found 51068 of 54504, added 2148 (eff 93.70%) (0.215 FP/event)\n"
     ]
    },
    {
     "data": {
      "application/vnd.jupyter.widget-view+json": {
       "model_id": "",
       "version_major": 2,
       "version_minor": 0
      },
      "text/plain": [
       "HBox(children=(FloatProgress(value=0.0, description='Training', layout=Layout(flex='2'), max=1250.0, style=Pro…"
      ]
     },
     "metadata": {},
     "output_type": "display_data"
    },
    {
     "name": "stdout",
     "output_type": "stream",
     "text": [
      "Epoch 1585: train=8.13083, val=8.22633, took 25.705 s\n",
      "  Validation Found 51123 of 54504, added 2278 (eff 93.80%) (0.228 FP/event)\n"
     ]
    },
    {
     "data": {
      "application/vnd.jupyter.widget-view+json": {
       "model_id": "",
       "version_major": 2,
       "version_minor": 0
      },
      "text/plain": [
       "HBox(children=(FloatProgress(value=0.0, description='Training', layout=Layout(flex='2'), max=1250.0, style=Pro…"
      ]
     },
     "metadata": {},
     "output_type": "display_data"
    },
    {
     "name": "stdout",
     "output_type": "stream",
     "text": [
      "Epoch 1586: train=8.12546, val=8.32948, took 25.768 s\n",
      "  Validation Found 50880 of 54504, added 1808 (eff 93.35%) (0.181 FP/event)\n"
     ]
    },
    {
     "data": {
      "application/vnd.jupyter.widget-view+json": {
       "model_id": "",
       "version_major": 2,
       "version_minor": 0
      },
      "text/plain": [
       "HBox(children=(FloatProgress(value=0.0, description='Training', layout=Layout(flex='2'), max=1250.0, style=Pro…"
      ]
     },
     "metadata": {},
     "output_type": "display_data"
    },
    {
     "name": "stdout",
     "output_type": "stream",
     "text": [
      "Epoch 1587: train=8.13416, val=8.27344, took 25.785 s\n",
      "  Validation Found 51054 of 54504, added 2000 (eff 93.67%) (0.2 FP/event)\n"
     ]
    },
    {
     "data": {
      "application/vnd.jupyter.widget-view+json": {
       "model_id": "",
       "version_major": 2,
       "version_minor": 0
      },
      "text/plain": [
       "HBox(children=(FloatProgress(value=0.0, description='Training', layout=Layout(flex='2'), max=1250.0, style=Pro…"
      ]
     },
     "metadata": {},
     "output_type": "display_data"
    },
    {
     "name": "stdout",
     "output_type": "stream",
     "text": [
      "Epoch 1588: train=8.12491, val=8.28409, took 25.982 s\n",
      "  Validation Found 51060 of 54504, added 2237 (eff 93.68%) (0.224 FP/event)\n"
     ]
    },
    {
     "data": {
      "application/vnd.jupyter.widget-view+json": {
       "model_id": "",
       "version_major": 2,
       "version_minor": 0
      },
      "text/plain": [
       "HBox(children=(FloatProgress(value=0.0, description='Training', layout=Layout(flex='2'), max=1250.0, style=Pro…"
      ]
     },
     "metadata": {},
     "output_type": "display_data"
    },
    {
     "name": "stdout",
     "output_type": "stream",
     "text": [
      "Epoch 1589: train=8.11826, val=8.23863, took 25.726 s\n",
      "  Validation Found 51067 of 54504, added 1977 (eff 93.69%) (0.198 FP/event)\n"
     ]
    },
    {
     "data": {
      "application/vnd.jupyter.widget-view+json": {
       "model_id": "",
       "version_major": 2,
       "version_minor": 0
      },
      "text/plain": [
       "HBox(children=(FloatProgress(value=0.0, description='Training', layout=Layout(flex='2'), max=1250.0, style=Pro…"
      ]
     },
     "metadata": {},
     "output_type": "display_data"
    },
    {
     "name": "stdout",
     "output_type": "stream",
     "text": [
      "Epoch 1590: train=8.13084, val=8.43125, took 25.789 s\n",
      "  Validation Found 50800 of 54504, added 1781 (eff 93.20%) (0.178 FP/event)\n"
     ]
    },
    {
     "data": {
      "application/vnd.jupyter.widget-view+json": {
       "model_id": "",
       "version_major": 2,
       "version_minor": 0
      },
      "text/plain": [
       "HBox(children=(FloatProgress(value=0.0, description='Training', layout=Layout(flex='2'), max=1250.0, style=Pro…"
      ]
     },
     "metadata": {},
     "output_type": "display_data"
    },
    {
     "name": "stdout",
     "output_type": "stream",
     "text": [
      "Epoch 1591: train=8.12482, val=8.2333, took 25.894 s\n",
      "  Validation Found 51109 of 54504, added 2172 (eff 93.77%) (0.218 FP/event)\n"
     ]
    },
    {
     "data": {
      "application/vnd.jupyter.widget-view+json": {
       "model_id": "",
       "version_major": 2,
       "version_minor": 0
      },
      "text/plain": [
       "HBox(children=(FloatProgress(value=0.0, description='Training', layout=Layout(flex='2'), max=1250.0, style=Pro…"
      ]
     },
     "metadata": {},
     "output_type": "display_data"
    },
    {
     "name": "stdout",
     "output_type": "stream",
     "text": [
      "Epoch 1592: train=8.12083, val=8.3051, took 25.935 s\n",
      "  Validation Found 51002 of 54504, added 1981 (eff 93.57%) (0.198 FP/event)\n"
     ]
    },
    {
     "data": {
      "application/vnd.jupyter.widget-view+json": {
       "model_id": "",
       "version_major": 2,
       "version_minor": 0
      },
      "text/plain": [
       "HBox(children=(FloatProgress(value=0.0, description='Training', layout=Layout(flex='2'), max=1250.0, style=Pro…"
      ]
     },
     "metadata": {},
     "output_type": "display_data"
    },
    {
     "name": "stdout",
     "output_type": "stream",
     "text": [
      "Epoch 1593: train=8.12112, val=8.31422, took 26.076 s\n",
      "  Validation Found 50896 of 54504, added 1903 (eff 93.38%) (0.191 FP/event)\n"
     ]
    },
    {
     "data": {
      "application/vnd.jupyter.widget-view+json": {
       "model_id": "",
       "version_major": 2,
       "version_minor": 0
      },
      "text/plain": [
       "HBox(children=(FloatProgress(value=0.0, description='Training', layout=Layout(flex='2'), max=1250.0, style=Pro…"
      ]
     },
     "metadata": {},
     "output_type": "display_data"
    },
    {
     "name": "stdout",
     "output_type": "stream",
     "text": [
      "Epoch 1594: train=8.12488, val=8.29738, took 25.88 s\n",
      "  Validation Found 51161 of 54504, added 2230 (eff 93.87%) (0.223 FP/event)\n"
     ]
    },
    {
     "data": {
      "application/vnd.jupyter.widget-view+json": {
       "model_id": "",
       "version_major": 2,
       "version_minor": 0
      },
      "text/plain": [
       "HBox(children=(FloatProgress(value=0.0, description='Training', layout=Layout(flex='2'), max=1250.0, style=Pro…"
      ]
     },
     "metadata": {},
     "output_type": "display_data"
    },
    {
     "name": "stdout",
     "output_type": "stream",
     "text": [
      "Epoch 1595: train=8.11621, val=8.2099, took 25.907 s\n",
      "  Validation Found 51219 of 54504, added 2336 (eff 93.97%) (0.234 FP/event)\n"
     ]
    },
    {
     "data": {
      "application/vnd.jupyter.widget-view+json": {
       "model_id": "",
       "version_major": 2,
       "version_minor": 0
      },
      "text/plain": [
       "HBox(children=(FloatProgress(value=0.0, description='Training', layout=Layout(flex='2'), max=1250.0, style=Pro…"
      ]
     },
     "metadata": {},
     "output_type": "display_data"
    },
    {
     "name": "stdout",
     "output_type": "stream",
     "text": [
      "Epoch 1596: train=8.11471, val=8.31903, took 25.891 s\n",
      "  Validation Found 50968 of 54504, added 1898 (eff 93.51%) (0.19 FP/event)\n"
     ]
    },
    {
     "data": {
      "application/vnd.jupyter.widget-view+json": {
       "model_id": "",
       "version_major": 2,
       "version_minor": 0
      },
      "text/plain": [
       "HBox(children=(FloatProgress(value=0.0, description='Training', layout=Layout(flex='2'), max=1250.0, style=Pro…"
      ]
     },
     "metadata": {},
     "output_type": "display_data"
    },
    {
     "name": "stdout",
     "output_type": "stream",
     "text": [
      "Epoch 1597: train=8.12446, val=8.17381, took 25.831 s\n",
      "  Validation Found 51267 of 54504, added 2532 (eff 94.06%) (0.254 FP/event)\n"
     ]
    },
    {
     "data": {
      "application/vnd.jupyter.widget-view+json": {
       "model_id": "",
       "version_major": 2,
       "version_minor": 0
      },
      "text/plain": [
       "HBox(children=(FloatProgress(value=0.0, description='Training', layout=Layout(flex='2'), max=1250.0, style=Pro…"
      ]
     },
     "metadata": {},
     "output_type": "display_data"
    },
    {
     "name": "stdout",
     "output_type": "stream",
     "text": [
      "Epoch 1598: train=8.1233, val=8.25338, took 25.728 s\n",
      "  Validation Found 51072 of 54504, added 2043 (eff 93.70%) (0.205 FP/event)\n"
     ]
    },
    {
     "data": {
      "application/vnd.jupyter.widget-view+json": {
       "model_id": "",
       "version_major": 2,
       "version_minor": 0
      },
      "text/plain": [
       "HBox(children=(FloatProgress(value=0.0, description='Training', layout=Layout(flex='2'), max=1250.0, style=Pro…"
      ]
     },
     "metadata": {},
     "output_type": "display_data"
    },
    {
     "name": "stdout",
     "output_type": "stream",
     "text": [
      "Epoch 1599: train=8.12363, val=8.19871, took 25.82 s\n",
      "  Validation Found 51152 of 54504, added 2247 (eff 93.85%) (0.225 FP/event)\n"
     ]
    },
    {
     "data": {
      "application/vnd.jupyter.widget-view+json": {
       "model_id": "",
       "version_major": 2,
       "version_minor": 0
      },
      "text/plain": [
       "HBox(children=(FloatProgress(value=0.0, description='Training', layout=Layout(flex='2'), max=1250.0, style=Pro…"
      ]
     },
     "metadata": {},
     "output_type": "display_data"
    },
    {
     "name": "stdout",
     "output_type": "stream",
     "text": [
      "Epoch 1600: train=8.12041, val=8.32865, took 25.91 s\n",
      "  Validation Found 51070 of 54504, added 2131 (eff 93.70%) (0.213 FP/event)\n"
     ]
    },
    {
     "data": {
      "application/vnd.jupyter.widget-view+json": {
       "model_id": "",
       "version_major": 2,
       "version_minor": 0
      },
      "text/plain": [
       "HBox(children=(FloatProgress(value=0.0, description='Training', layout=Layout(flex='2'), max=1250.0, style=Pro…"
      ]
     },
     "metadata": {},
     "output_type": "display_data"
    },
    {
     "name": "stdout",
     "output_type": "stream",
     "text": [
      "Epoch 1601: train=8.12917, val=8.24918, took 25.818 s\n",
      "  Validation Found 51031 of 54504, added 2227 (eff 93.63%) (0.223 FP/event)\n"
     ]
    },
    {
     "data": {
      "application/vnd.jupyter.widget-view+json": {
       "model_id": "",
       "version_major": 2,
       "version_minor": 0
      },
      "text/plain": [
       "HBox(children=(FloatProgress(value=0.0, description='Training', layout=Layout(flex='2'), max=1250.0, style=Pro…"
      ]
     },
     "metadata": {},
     "output_type": "display_data"
    },
    {
     "name": "stdout",
     "output_type": "stream",
     "text": [
      "Epoch 1602: train=8.12036, val=8.31422, took 26.026 s\n",
      "  Validation Found 51012 of 54504, added 2057 (eff 93.59%) (0.206 FP/event)\n"
     ]
    },
    {
     "data": {
      "application/vnd.jupyter.widget-view+json": {
       "model_id": "",
       "version_major": 2,
       "version_minor": 0
      },
      "text/plain": [
       "HBox(children=(FloatProgress(value=0.0, description='Training', layout=Layout(flex='2'), max=1250.0, style=Pro…"
      ]
     },
     "metadata": {},
     "output_type": "display_data"
    },
    {
     "name": "stdout",
     "output_type": "stream",
     "text": [
      "Epoch 1603: train=8.12676, val=8.25873, took 26.159 s\n",
      "  Validation Found 51045 of 54504, added 2012 (eff 93.65%) (0.202 FP/event)\n"
     ]
    },
    {
     "data": {
      "application/vnd.jupyter.widget-view+json": {
       "model_id": "",
       "version_major": 2,
       "version_minor": 0
      },
      "text/plain": [
       "HBox(children=(FloatProgress(value=0.0, description='Training', layout=Layout(flex='2'), max=1250.0, style=Pro…"
      ]
     },
     "metadata": {},
     "output_type": "display_data"
    },
    {
     "name": "stdout",
     "output_type": "stream",
     "text": [
      "Epoch 1604: train=8.12729, val=8.35679, took 25.868 s\n",
      "  Validation Found 50848 of 54504, added 1866 (eff 93.29%) (0.187 FP/event)\n"
     ]
    },
    {
     "data": {
      "application/vnd.jupyter.widget-view+json": {
       "model_id": "",
       "version_major": 2,
       "version_minor": 0
      },
      "text/plain": [
       "HBox(children=(FloatProgress(value=0.0, description='Training', layout=Layout(flex='2'), max=1250.0, style=Pro…"
      ]
     },
     "metadata": {},
     "output_type": "display_data"
    },
    {
     "name": "stdout",
     "output_type": "stream",
     "text": [
      "Epoch 1605: train=8.13318, val=8.2489, took 25.903 s\n",
      "  Validation Found 51136 of 54504, added 2313 (eff 93.82%) (0.232 FP/event)\n"
     ]
    },
    {
     "data": {
      "application/vnd.jupyter.widget-view+json": {
       "model_id": "",
       "version_major": 2,
       "version_minor": 0
      },
      "text/plain": [
       "HBox(children=(FloatProgress(value=0.0, description='Training', layout=Layout(flex='2'), max=1250.0, style=Pro…"
      ]
     },
     "metadata": {},
     "output_type": "display_data"
    },
    {
     "name": "stdout",
     "output_type": "stream",
     "text": [
      "Epoch 1606: train=8.11486, val=8.33796, took 25.943 s\n",
      "  Validation Found 51154 of 54504, added 2230 (eff 93.85%) (0.223 FP/event)\n"
     ]
    },
    {
     "data": {
      "application/vnd.jupyter.widget-view+json": {
       "model_id": "",
       "version_major": 2,
       "version_minor": 0
      },
      "text/plain": [
       "HBox(children=(FloatProgress(value=0.0, description='Training', layout=Layout(flex='2'), max=1250.0, style=Pro…"
      ]
     },
     "metadata": {},
     "output_type": "display_data"
    },
    {
     "name": "stdout",
     "output_type": "stream",
     "text": [
      "Epoch 1607: train=8.12568, val=8.31478, took 26.02 s\n",
      "  Validation Found 51074 of 54504, added 2177 (eff 93.71%) (0.218 FP/event)\n"
     ]
    },
    {
     "data": {
      "application/vnd.jupyter.widget-view+json": {
       "model_id": "",
       "version_major": 2,
       "version_minor": 0
      },
      "text/plain": [
       "HBox(children=(FloatProgress(value=0.0, description='Training', layout=Layout(flex='2'), max=1250.0, style=Pro…"
      ]
     },
     "metadata": {},
     "output_type": "display_data"
    },
    {
     "name": "stdout",
     "output_type": "stream",
     "text": [
      "Epoch 1608: train=8.11796, val=8.34387, took 25.939 s\n",
      "  Validation Found 50936 of 54504, added 1911 (eff 93.45%) (0.191 FP/event)\n"
     ]
    },
    {
     "data": {
      "application/vnd.jupyter.widget-view+json": {
       "model_id": "",
       "version_major": 2,
       "version_minor": 0
      },
      "text/plain": [
       "HBox(children=(FloatProgress(value=0.0, description='Training', layout=Layout(flex='2'), max=1250.0, style=Pro…"
      ]
     },
     "metadata": {},
     "output_type": "display_data"
    },
    {
     "name": "stdout",
     "output_type": "stream",
     "text": [
      "Epoch 1609: train=8.12553, val=8.26782, took 25.96 s\n",
      "  Validation Found 51111 of 54504, added 2166 (eff 93.77%) (0.217 FP/event)\n"
     ]
    },
    {
     "data": {
      "application/vnd.jupyter.widget-view+json": {
       "model_id": "",
       "version_major": 2,
       "version_minor": 0
      },
      "text/plain": [
       "HBox(children=(FloatProgress(value=0.0, description='Training', layout=Layout(flex='2'), max=1250.0, style=Pro…"
      ]
     },
     "metadata": {},
     "output_type": "display_data"
    },
    {
     "name": "stdout",
     "output_type": "stream",
     "text": [
      "Epoch 1610: train=8.12123, val=8.35931, took 25.868 s\n",
      "  Validation Found 50890 of 54504, added 1981 (eff 93.37%) (0.198 FP/event)\n"
     ]
    },
    {
     "data": {
      "application/vnd.jupyter.widget-view+json": {
       "model_id": "",
       "version_major": 2,
       "version_minor": 0
      },
      "text/plain": [
       "HBox(children=(FloatProgress(value=0.0, description='Training', layout=Layout(flex='2'), max=1250.0, style=Pro…"
      ]
     },
     "metadata": {},
     "output_type": "display_data"
    },
    {
     "name": "stdout",
     "output_type": "stream",
     "text": [
      "Epoch 1611: train=8.11688, val=8.39444, took 25.835 s\n",
      "  Validation Found 51157 of 54504, added 2397 (eff 93.86%) (0.24 FP/event)\n"
     ]
    },
    {
     "data": {
      "application/vnd.jupyter.widget-view+json": {
       "model_id": "",
       "version_major": 2,
       "version_minor": 0
      },
      "text/plain": [
       "HBox(children=(FloatProgress(value=0.0, description='Training', layout=Layout(flex='2'), max=1250.0, style=Pro…"
      ]
     },
     "metadata": {},
     "output_type": "display_data"
    },
    {
     "name": "stdout",
     "output_type": "stream",
     "text": [
      "Epoch 1612: train=8.12168, val=8.36101, took 25.945 s\n",
      "  Validation Found 50904 of 54504, added 1807 (eff 93.39%) (0.181 FP/event)\n"
     ]
    },
    {
     "data": {
      "application/vnd.jupyter.widget-view+json": {
       "model_id": "",
       "version_major": 2,
       "version_minor": 0
      },
      "text/plain": [
       "HBox(children=(FloatProgress(value=0.0, description='Training', layout=Layout(flex='2'), max=1250.0, style=Pro…"
      ]
     },
     "metadata": {},
     "output_type": "display_data"
    },
    {
     "name": "stdout",
     "output_type": "stream",
     "text": [
      "Epoch 1613: train=8.12236, val=8.30001, took 25.893 s\n",
      "  Validation Found 51121 of 54504, added 2202 (eff 93.79%) (0.221 FP/event)\n"
     ]
    },
    {
     "data": {
      "application/vnd.jupyter.widget-view+json": {
       "model_id": "",
       "version_major": 2,
       "version_minor": 0
      },
      "text/plain": [
       "HBox(children=(FloatProgress(value=0.0, description='Training', layout=Layout(flex='2'), max=1250.0, style=Pro…"
      ]
     },
     "metadata": {},
     "output_type": "display_data"
    },
    {
     "name": "stdout",
     "output_type": "stream",
     "text": [
      "Epoch 1614: train=8.12192, val=8.36223, took 25.864 s\n",
      "  Validation Found 51021 of 54504, added 2228 (eff 93.61%) (0.223 FP/event)\n"
     ]
    },
    {
     "data": {
      "application/vnd.jupyter.widget-view+json": {
       "model_id": "",
       "version_major": 2,
       "version_minor": 0
      },
      "text/plain": [
       "HBox(children=(FloatProgress(value=0.0, description='Training', layout=Layout(flex='2'), max=1250.0, style=Pro…"
      ]
     },
     "metadata": {},
     "output_type": "display_data"
    },
    {
     "name": "stdout",
     "output_type": "stream",
     "text": [
      "Epoch 1615: train=8.1239, val=8.2837, took 25.836 s\n",
      "  Validation Found 50988 of 54504, added 2041 (eff 93.55%) (0.204 FP/event)\n"
     ]
    },
    {
     "data": {
      "application/vnd.jupyter.widget-view+json": {
       "model_id": "",
       "version_major": 2,
       "version_minor": 0
      },
      "text/plain": [
       "HBox(children=(FloatProgress(value=0.0, description='Training', layout=Layout(flex='2'), max=1250.0, style=Pro…"
      ]
     },
     "metadata": {},
     "output_type": "display_data"
    },
    {
     "name": "stdout",
     "output_type": "stream",
     "text": [
      "Epoch 1616: train=8.1274, val=8.36411, took 25.908 s\n",
      "  Validation Found 50937 of 54504, added 1914 (eff 93.46%) (0.192 FP/event)\n"
     ]
    },
    {
     "data": {
      "application/vnd.jupyter.widget-view+json": {
       "model_id": "",
       "version_major": 2,
       "version_minor": 0
      },
      "text/plain": [
       "HBox(children=(FloatProgress(value=0.0, description='Training', layout=Layout(flex='2'), max=1250.0, style=Pro…"
      ]
     },
     "metadata": {},
     "output_type": "display_data"
    },
    {
     "name": "stdout",
     "output_type": "stream",
     "text": [
      "Epoch 1617: train=8.11206, val=8.24798, took 25.895 s\n",
      "  Validation Found 51137 of 54504, added 2232 (eff 93.82%) (0.224 FP/event)\n"
     ]
    },
    {
     "data": {
      "application/vnd.jupyter.widget-view+json": {
       "model_id": "",
       "version_major": 2,
       "version_minor": 0
      },
      "text/plain": [
       "HBox(children=(FloatProgress(value=0.0, description='Training', layout=Layout(flex='2'), max=1250.0, style=Pro…"
      ]
     },
     "metadata": {},
     "output_type": "display_data"
    },
    {
     "name": "stdout",
     "output_type": "stream",
     "text": [
      "Epoch 1618: train=8.12755, val=8.31107, took 25.881 s\n",
      "  Validation Found 51140 of 54504, added 2268 (eff 93.83%) (0.227 FP/event)\n"
     ]
    },
    {
     "data": {
      "application/vnd.jupyter.widget-view+json": {
       "model_id": "",
       "version_major": 2,
       "version_minor": 0
      },
      "text/plain": [
       "HBox(children=(FloatProgress(value=0.0, description='Training', layout=Layout(flex='2'), max=1250.0, style=Pro…"
      ]
     },
     "metadata": {},
     "output_type": "display_data"
    },
    {
     "name": "stdout",
     "output_type": "stream",
     "text": [
      "Epoch 1619: train=8.1293, val=8.23598, took 25.863 s\n",
      "  Validation Found 51225 of 54504, added 2439 (eff 93.98%) (0.244 FP/event)\n"
     ]
    },
    {
     "data": {
      "application/vnd.jupyter.widget-view+json": {
       "model_id": "",
       "version_major": 2,
       "version_minor": 0
      },
      "text/plain": [
       "HBox(children=(FloatProgress(value=0.0, description='Training', layout=Layout(flex='2'), max=1250.0, style=Pro…"
      ]
     },
     "metadata": {},
     "output_type": "display_data"
    },
    {
     "name": "stdout",
     "output_type": "stream",
     "text": [
      "Epoch 1620: train=8.12935, val=8.24065, took 25.847 s\n",
      "  Validation Found 51111 of 54504, added 2133 (eff 93.77%) (0.214 FP/event)\n"
     ]
    },
    {
     "data": {
      "application/vnd.jupyter.widget-view+json": {
       "model_id": "",
       "version_major": 2,
       "version_minor": 0
      },
      "text/plain": [
       "HBox(children=(FloatProgress(value=0.0, description='Training', layout=Layout(flex='2'), max=1250.0, style=Pro…"
      ]
     },
     "metadata": {},
     "output_type": "display_data"
    },
    {
     "name": "stdout",
     "output_type": "stream",
     "text": [
      "Epoch 1621: train=8.12198, val=8.29324, took 25.746 s\n",
      "  Validation Found 50922 of 54504, added 1879 (eff 93.43%) (0.188 FP/event)\n"
     ]
    },
    {
     "data": {
      "application/vnd.jupyter.widget-view+json": {
       "model_id": "",
       "version_major": 2,
       "version_minor": 0
      },
      "text/plain": [
       "HBox(children=(FloatProgress(value=0.0, description='Training', layout=Layout(flex='2'), max=1250.0, style=Pro…"
      ]
     },
     "metadata": {},
     "output_type": "display_data"
    },
    {
     "name": "stdout",
     "output_type": "stream",
     "text": [
      "Epoch 1622: train=8.11331, val=8.39906, took 25.731 s\n",
      "  Validation Found 50951 of 54504, added 1919 (eff 93.48%) (0.192 FP/event)\n"
     ]
    },
    {
     "data": {
      "application/vnd.jupyter.widget-view+json": {
       "model_id": "",
       "version_major": 2,
       "version_minor": 0
      },
      "text/plain": [
       "HBox(children=(FloatProgress(value=0.0, description='Training', layout=Layout(flex='2'), max=1250.0, style=Pro…"
      ]
     },
     "metadata": {},
     "output_type": "display_data"
    },
    {
     "name": "stdout",
     "output_type": "stream",
     "text": [
      "Epoch 1623: train=8.11979, val=8.25907, took 25.802 s\n",
      "  Validation Found 51072 of 54504, added 2162 (eff 93.70%) (0.217 FP/event)\n"
     ]
    },
    {
     "data": {
      "application/vnd.jupyter.widget-view+json": {
       "model_id": "",
       "version_major": 2,
       "version_minor": 0
      },
      "text/plain": [
       "HBox(children=(FloatProgress(value=0.0, description='Training', layout=Layout(flex='2'), max=1250.0, style=Pro…"
      ]
     },
     "metadata": {},
     "output_type": "display_data"
    },
    {
     "name": "stdout",
     "output_type": "stream",
     "text": [
      "Epoch 1624: train=8.11615, val=8.30089, took 26.071 s\n",
      "  Validation Found 50966 of 54504, added 1846 (eff 93.51%) (0.185 FP/event)\n"
     ]
    },
    {
     "data": {
      "application/vnd.jupyter.widget-view+json": {
       "model_id": "",
       "version_major": 2,
       "version_minor": 0
      },
      "text/plain": [
       "HBox(children=(FloatProgress(value=0.0, description='Training', layout=Layout(flex='2'), max=1250.0, style=Pro…"
      ]
     },
     "metadata": {},
     "output_type": "display_data"
    },
    {
     "name": "stdout",
     "output_type": "stream",
     "text": [
      "Epoch 1625: train=8.12458, val=8.26726, took 25.895 s\n",
      "  Validation Found 51144 of 54504, added 2195 (eff 93.84%) (0.22 FP/event)\n"
     ]
    },
    {
     "data": {
      "application/vnd.jupyter.widget-view+json": {
       "model_id": "",
       "version_major": 2,
       "version_minor": 0
      },
      "text/plain": [
       "HBox(children=(FloatProgress(value=0.0, description='Training', layout=Layout(flex='2'), max=1250.0, style=Pro…"
      ]
     },
     "metadata": {},
     "output_type": "display_data"
    },
    {
     "name": "stdout",
     "output_type": "stream",
     "text": [
      "Epoch 1626: train=8.12292, val=8.35041, took 26.051 s\n",
      "  Validation Found 50953 of 54504, added 1868 (eff 93.48%) (0.187 FP/event)\n"
     ]
    },
    {
     "data": {
      "application/vnd.jupyter.widget-view+json": {
       "model_id": "",
       "version_major": 2,
       "version_minor": 0
      },
      "text/plain": [
       "HBox(children=(FloatProgress(value=0.0, description='Training', layout=Layout(flex='2'), max=1250.0, style=Pro…"
      ]
     },
     "metadata": {},
     "output_type": "display_data"
    },
    {
     "name": "stdout",
     "output_type": "stream",
     "text": [
      "Epoch 1627: train=8.12764, val=8.47656, took 25.854 s\n",
      "  Validation Found 50607 of 54504, added 1559 (eff 92.85%) (0.156 FP/event)\n"
     ]
    },
    {
     "data": {
      "application/vnd.jupyter.widget-view+json": {
       "model_id": "",
       "version_major": 2,
       "version_minor": 0
      },
      "text/plain": [
       "HBox(children=(FloatProgress(value=0.0, description='Training', layout=Layout(flex='2'), max=1250.0, style=Pro…"
      ]
     },
     "metadata": {},
     "output_type": "display_data"
    },
    {
     "name": "stdout",
     "output_type": "stream",
     "text": [
      "Epoch 1628: train=8.12545, val=8.29178, took 25.853 s\n",
      "  Validation Found 51092 of 54504, added 2069 (eff 93.74%) (0.207 FP/event)\n"
     ]
    },
    {
     "data": {
      "application/vnd.jupyter.widget-view+json": {
       "model_id": "",
       "version_major": 2,
       "version_minor": 0
      },
      "text/plain": [
       "HBox(children=(FloatProgress(value=0.0, description='Training', layout=Layout(flex='2'), max=1250.0, style=Pro…"
      ]
     },
     "metadata": {},
     "output_type": "display_data"
    },
    {
     "name": "stdout",
     "output_type": "stream",
     "text": [
      "Epoch 1629: train=8.11019, val=8.25666, took 25.944 s\n",
      "  Validation Found 51163 of 54504, added 2231 (eff 93.87%) (0.223 FP/event)\n"
     ]
    },
    {
     "data": {
      "application/vnd.jupyter.widget-view+json": {
       "model_id": "",
       "version_major": 2,
       "version_minor": 0
      },
      "text/plain": [
       "HBox(children=(FloatProgress(value=0.0, description='Training', layout=Layout(flex='2'), max=1250.0, style=Pro…"
      ]
     },
     "metadata": {},
     "output_type": "display_data"
    },
    {
     "name": "stdout",
     "output_type": "stream",
     "text": [
      "Epoch 1630: train=8.12511, val=8.27163, took 25.848 s\n",
      "  Validation Found 51230 of 54504, added 2368 (eff 93.99%) (0.237 FP/event)\n"
     ]
    },
    {
     "data": {
      "application/vnd.jupyter.widget-view+json": {
       "model_id": "",
       "version_major": 2,
       "version_minor": 0
      },
      "text/plain": [
       "HBox(children=(FloatProgress(value=0.0, description='Training', layout=Layout(flex='2'), max=1250.0, style=Pro…"
      ]
     },
     "metadata": {},
     "output_type": "display_data"
    },
    {
     "name": "stdout",
     "output_type": "stream",
     "text": [
      "Epoch 1631: train=8.12331, val=8.27837, took 25.852 s\n",
      "  Validation Found 51012 of 54504, added 1974 (eff 93.59%) (0.198 FP/event)\n"
     ]
    },
    {
     "data": {
      "application/vnd.jupyter.widget-view+json": {
       "model_id": "",
       "version_major": 2,
       "version_minor": 0
      },
      "text/plain": [
       "HBox(children=(FloatProgress(value=0.0, description='Training', layout=Layout(flex='2'), max=1250.0, style=Pro…"
      ]
     },
     "metadata": {},
     "output_type": "display_data"
    },
    {
     "name": "stdout",
     "output_type": "stream",
     "text": [
      "Epoch 1632: train=8.11754, val=8.26123, took 25.843 s\n",
      "  Validation Found 51117 of 54504, added 2123 (eff 93.79%) (0.213 FP/event)\n"
     ]
    },
    {
     "data": {
      "application/vnd.jupyter.widget-view+json": {
       "model_id": "",
       "version_major": 2,
       "version_minor": 0
      },
      "text/plain": [
       "HBox(children=(FloatProgress(value=0.0, description='Training', layout=Layout(flex='2'), max=1250.0, style=Pro…"
      ]
     },
     "metadata": {},
     "output_type": "display_data"
    },
    {
     "name": "stdout",
     "output_type": "stream",
     "text": [
      "Epoch 1633: train=8.12502, val=8.30276, took 25.851 s\n",
      "  Validation Found 51012 of 54504, added 2018 (eff 93.59%) (0.202 FP/event)\n"
     ]
    },
    {
     "data": {
      "application/vnd.jupyter.widget-view+json": {
       "model_id": "",
       "version_major": 2,
       "version_minor": 0
      },
      "text/plain": [
       "HBox(children=(FloatProgress(value=0.0, description='Training', layout=Layout(flex='2'), max=1250.0, style=Pro…"
      ]
     },
     "metadata": {},
     "output_type": "display_data"
    },
    {
     "name": "stdout",
     "output_type": "stream",
     "text": [
      "Epoch 1634: train=8.12429, val=8.30203, took 25.864 s\n",
      "  Validation Found 51042 of 54504, added 1983 (eff 93.65%) (0.199 FP/event)\n"
     ]
    },
    {
     "data": {
      "application/vnd.jupyter.widget-view+json": {
       "model_id": "",
       "version_major": 2,
       "version_minor": 0
      },
      "text/plain": [
       "HBox(children=(FloatProgress(value=0.0, description='Training', layout=Layout(flex='2'), max=1250.0, style=Pro…"
      ]
     },
     "metadata": {},
     "output_type": "display_data"
    },
    {
     "name": "stdout",
     "output_type": "stream",
     "text": [
      "Epoch 1635: train=8.1283, val=8.17879, took 25.863 s\n",
      "  Validation Found 51189 of 54504, added 2269 (eff 93.92%) (0.227 FP/event)\n"
     ]
    },
    {
     "data": {
      "application/vnd.jupyter.widget-view+json": {
       "model_id": "",
       "version_major": 2,
       "version_minor": 0
      },
      "text/plain": [
       "HBox(children=(FloatProgress(value=0.0, description='Training', layout=Layout(flex='2'), max=1250.0, style=Pro…"
      ]
     },
     "metadata": {},
     "output_type": "display_data"
    },
    {
     "name": "stdout",
     "output_type": "stream",
     "text": [
      "Epoch 1636: train=8.12113, val=8.20681, took 25.852 s\n",
      "  Validation Found 51137 of 54504, added 2181 (eff 93.82%) (0.218 FP/event)\n"
     ]
    },
    {
     "data": {
      "application/vnd.jupyter.widget-view+json": {
       "model_id": "",
       "version_major": 2,
       "version_minor": 0
      },
      "text/plain": [
       "HBox(children=(FloatProgress(value=0.0, description='Training', layout=Layout(flex='2'), max=1250.0, style=Pro…"
      ]
     },
     "metadata": {},
     "output_type": "display_data"
    },
    {
     "name": "stdout",
     "output_type": "stream",
     "text": [
      "Epoch 1637: train=8.13176, val=8.41824, took 25.875 s\n",
      "  Validation Found 50877 of 54504, added 1809 (eff 93.35%) (0.181 FP/event)\n"
     ]
    },
    {
     "data": {
      "application/vnd.jupyter.widget-view+json": {
       "model_id": "",
       "version_major": 2,
       "version_minor": 0
      },
      "text/plain": [
       "HBox(children=(FloatProgress(value=0.0, description='Training', layout=Layout(flex='2'), max=1250.0, style=Pro…"
      ]
     },
     "metadata": {},
     "output_type": "display_data"
    },
    {
     "name": "stdout",
     "output_type": "stream",
     "text": [
      "Epoch 1638: train=8.11721, val=8.25288, took 25.96 s\n",
      "  Validation Found 51215 of 54504, added 2376 (eff 93.97%) (0.238 FP/event)\n"
     ]
    },
    {
     "data": {
      "application/vnd.jupyter.widget-view+json": {
       "model_id": "",
       "version_major": 2,
       "version_minor": 0
      },
      "text/plain": [
       "HBox(children=(FloatProgress(value=0.0, description='Training', layout=Layout(flex='2'), max=1250.0, style=Pro…"
      ]
     },
     "metadata": {},
     "output_type": "display_data"
    },
    {
     "name": "stdout",
     "output_type": "stream",
     "text": [
      "Epoch 1639: train=8.1207, val=8.30008, took 25.856 s\n",
      "  Validation Found 50978 of 54504, added 2036 (eff 93.53%) (0.204 FP/event)\n"
     ]
    },
    {
     "data": {
      "application/vnd.jupyter.widget-view+json": {
       "model_id": "",
       "version_major": 2,
       "version_minor": 0
      },
      "text/plain": [
       "HBox(children=(FloatProgress(value=0.0, description='Training', layout=Layout(flex='2'), max=1250.0, style=Pro…"
      ]
     },
     "metadata": {},
     "output_type": "display_data"
    },
    {
     "name": "stdout",
     "output_type": "stream",
     "text": [
      "Epoch 1640: train=8.11964, val=8.47584, took 25.846 s\n",
      "  Validation Found 50765 of 54504, added 1754 (eff 93.14%) (0.176 FP/event)\n"
     ]
    },
    {
     "data": {
      "application/vnd.jupyter.widget-view+json": {
       "model_id": "",
       "version_major": 2,
       "version_minor": 0
      },
      "text/plain": [
       "HBox(children=(FloatProgress(value=0.0, description='Training', layout=Layout(flex='2'), max=1250.0, style=Pro…"
      ]
     },
     "metadata": {},
     "output_type": "display_data"
    },
    {
     "name": "stdout",
     "output_type": "stream",
     "text": [
      "Epoch 1641: train=8.11453, val=8.28419, took 25.856 s\n",
      "  Validation Found 51132 of 54504, added 2269 (eff 93.81%) (0.227 FP/event)\n"
     ]
    },
    {
     "data": {
      "application/vnd.jupyter.widget-view+json": {
       "model_id": "",
       "version_major": 2,
       "version_minor": 0
      },
      "text/plain": [
       "HBox(children=(FloatProgress(value=0.0, description='Training', layout=Layout(flex='2'), max=1250.0, style=Pro…"
      ]
     },
     "metadata": {},
     "output_type": "display_data"
    },
    {
     "name": "stdout",
     "output_type": "stream",
     "text": [
      "Epoch 1642: train=8.12434, val=8.27083, took 25.851 s\n",
      "  Validation Found 51011 of 54504, added 1969 (eff 93.59%) (0.197 FP/event)\n"
     ]
    },
    {
     "data": {
      "application/vnd.jupyter.widget-view+json": {
       "model_id": "",
       "version_major": 2,
       "version_minor": 0
      },
      "text/plain": [
       "HBox(children=(FloatProgress(value=0.0, description='Training', layout=Layout(flex='2'), max=1250.0, style=Pro…"
      ]
     },
     "metadata": {},
     "output_type": "display_data"
    },
    {
     "name": "stdout",
     "output_type": "stream",
     "text": [
      "Epoch 1643: train=8.12306, val=8.30817, took 25.887 s\n",
      "  Validation Found 51179 of 54504, added 2602 (eff 93.90%) (0.261 FP/event)\n"
     ]
    },
    {
     "data": {
      "application/vnd.jupyter.widget-view+json": {
       "model_id": "",
       "version_major": 2,
       "version_minor": 0
      },
      "text/plain": [
       "HBox(children=(FloatProgress(value=0.0, description='Training', layout=Layout(flex='2'), max=1250.0, style=Pro…"
      ]
     },
     "metadata": {},
     "output_type": "display_data"
    },
    {
     "name": "stdout",
     "output_type": "stream",
     "text": [
      "Epoch 1644: train=8.12088, val=8.19563, took 26.016 s\n",
      "  Validation Found 51233 of 54504, added 2495 (eff 94.00%) (0.25 FP/event)\n"
     ]
    },
    {
     "data": {
      "application/vnd.jupyter.widget-view+json": {
       "model_id": "",
       "version_major": 2,
       "version_minor": 0
      },
      "text/plain": [
       "HBox(children=(FloatProgress(value=0.0, description='Training', layout=Layout(flex='2'), max=1250.0, style=Pro…"
      ]
     },
     "metadata": {},
     "output_type": "display_data"
    },
    {
     "name": "stdout",
     "output_type": "stream",
     "text": [
      "Epoch 1645: train=8.12801, val=8.278, took 25.935 s\n",
      "  Validation Found 51100 of 54504, added 2260 (eff 93.75%) (0.226 FP/event)\n"
     ]
    },
    {
     "data": {
      "application/vnd.jupyter.widget-view+json": {
       "model_id": "",
       "version_major": 2,
       "version_minor": 0
      },
      "text/plain": [
       "HBox(children=(FloatProgress(value=0.0, description='Training', layout=Layout(flex='2'), max=1250.0, style=Pro…"
      ]
     },
     "metadata": {},
     "output_type": "display_data"
    },
    {
     "name": "stdout",
     "output_type": "stream",
     "text": [
      "Epoch 1646: train=8.11309, val=8.21086, took 26.222 s\n",
      "  Validation Found 51183 of 54504, added 2350 (eff 93.91%) (0.235 FP/event)\n"
     ]
    },
    {
     "data": {
      "application/vnd.jupyter.widget-view+json": {
       "model_id": "",
       "version_major": 2,
       "version_minor": 0
      },
      "text/plain": [
       "HBox(children=(FloatProgress(value=0.0, description='Training', layout=Layout(flex='2'), max=1250.0, style=Pro…"
      ]
     },
     "metadata": {},
     "output_type": "display_data"
    },
    {
     "name": "stdout",
     "output_type": "stream",
     "text": [
      "Epoch 1647: train=8.12093, val=8.34717, took 26.099 s\n",
      "  Validation Found 51031 of 54504, added 2046 (eff 93.63%) (0.205 FP/event)\n"
     ]
    },
    {
     "data": {
      "application/vnd.jupyter.widget-view+json": {
       "model_id": "",
       "version_major": 2,
       "version_minor": 0
      },
      "text/plain": [
       "HBox(children=(FloatProgress(value=0.0, description='Training', layout=Layout(flex='2'), max=1250.0, style=Pro…"
      ]
     },
     "metadata": {},
     "output_type": "display_data"
    },
    {
     "name": "stdout",
     "output_type": "stream",
     "text": [
      "Epoch 1648: train=8.11396, val=8.33012, took 25.8 s\n",
      "  Validation Found 50841 of 54504, added 1744 (eff 93.28%) (0.175 FP/event)\n"
     ]
    },
    {
     "data": {
      "application/vnd.jupyter.widget-view+json": {
       "model_id": "",
       "version_major": 2,
       "version_minor": 0
      },
      "text/plain": [
       "HBox(children=(FloatProgress(value=0.0, description='Training', layout=Layout(flex='2'), max=1250.0, style=Pro…"
      ]
     },
     "metadata": {},
     "output_type": "display_data"
    },
    {
     "name": "stdout",
     "output_type": "stream",
     "text": [
      "Epoch 1649: train=8.12226, val=8.25628, took 25.759 s\n",
      "  Validation Found 51099 of 54504, added 2136 (eff 93.75%) (0.214 FP/event)\n"
     ]
    },
    {
     "data": {
      "application/vnd.jupyter.widget-view+json": {
       "model_id": "",
       "version_major": 2,
       "version_minor": 0
      },
      "text/plain": [
       "HBox(children=(FloatProgress(value=0.0, description='Training', layout=Layout(flex='2'), max=1250.0, style=Pro…"
      ]
     },
     "metadata": {},
     "output_type": "display_data"
    },
    {
     "name": "stdout",
     "output_type": "stream",
     "text": [
      "Epoch 1650: train=8.11897, val=8.34468, took 25.81 s\n",
      "  Validation Found 50974 of 54504, added 2052 (eff 93.52%) (0.206 FP/event)\n"
     ]
    },
    {
     "data": {
      "application/vnd.jupyter.widget-view+json": {
       "model_id": "",
       "version_major": 2,
       "version_minor": 0
      },
      "text/plain": [
       "HBox(children=(FloatProgress(value=0.0, description='Training', layout=Layout(flex='2'), max=1250.0, style=Pro…"
      ]
     },
     "metadata": {},
     "output_type": "display_data"
    },
    {
     "name": "stdout",
     "output_type": "stream",
     "text": [
      "Epoch 1651: train=8.13412, val=8.20235, took 25.809 s\n",
      "  Validation Found 51170 of 54504, added 2265 (eff 93.88%) (0.227 FP/event)\n"
     ]
    },
    {
     "data": {
      "application/vnd.jupyter.widget-view+json": {
       "model_id": "",
       "version_major": 2,
       "version_minor": 0
      },
      "text/plain": [
       "HBox(children=(FloatProgress(value=0.0, description='Training', layout=Layout(flex='2'), max=1250.0, style=Pro…"
      ]
     },
     "metadata": {},
     "output_type": "display_data"
    },
    {
     "name": "stdout",
     "output_type": "stream",
     "text": [
      "Epoch 1652: train=8.11531, val=8.31332, took 25.836 s\n",
      "  Validation Found 50958 of 54504, added 1950 (eff 93.49%) (0.195 FP/event)\n"
     ]
    },
    {
     "data": {
      "application/vnd.jupyter.widget-view+json": {
       "model_id": "",
       "version_major": 2,
       "version_minor": 0
      },
      "text/plain": [
       "HBox(children=(FloatProgress(value=0.0, description='Training', layout=Layout(flex='2'), max=1250.0, style=Pro…"
      ]
     },
     "metadata": {},
     "output_type": "display_data"
    },
    {
     "name": "stdout",
     "output_type": "stream",
     "text": [
      "Epoch 1653: train=8.12253, val=8.29881, took 25.837 s\n",
      "  Validation Found 51088 of 54504, added 2123 (eff 93.73%) (0.213 FP/event)\n"
     ]
    },
    {
     "data": {
      "application/vnd.jupyter.widget-view+json": {
       "model_id": "",
       "version_major": 2,
       "version_minor": 0
      },
      "text/plain": [
       "HBox(children=(FloatProgress(value=0.0, description='Training', layout=Layout(flex='2'), max=1250.0, style=Pro…"
      ]
     },
     "metadata": {},
     "output_type": "display_data"
    },
    {
     "name": "stdout",
     "output_type": "stream",
     "text": [
      "Epoch 1654: train=8.11768, val=8.29904, took 25.869 s\n",
      "  Validation Found 50969 of 54504, added 1905 (eff 93.51%) (0.191 FP/event)\n"
     ]
    },
    {
     "data": {
      "application/vnd.jupyter.widget-view+json": {
       "model_id": "",
       "version_major": 2,
       "version_minor": 0
      },
      "text/plain": [
       "HBox(children=(FloatProgress(value=0.0, description='Training', layout=Layout(flex='2'), max=1250.0, style=Pro…"
      ]
     },
     "metadata": {},
     "output_type": "display_data"
    },
    {
     "name": "stdout",
     "output_type": "stream",
     "text": [
      "Epoch 1655: train=8.12354, val=8.28595, took 25.828 s\n",
      "  Validation Found 51041 of 54504, added 2024 (eff 93.65%) (0.203 FP/event)\n"
     ]
    },
    {
     "data": {
      "application/vnd.jupyter.widget-view+json": {
       "model_id": "",
       "version_major": 2,
       "version_minor": 0
      },
      "text/plain": [
       "HBox(children=(FloatProgress(value=0.0, description='Training', layout=Layout(flex='2'), max=1250.0, style=Pro…"
      ]
     },
     "metadata": {},
     "output_type": "display_data"
    },
    {
     "name": "stdout",
     "output_type": "stream",
     "text": [
      "Epoch 1656: train=8.11694, val=8.21198, took 25.916 s\n",
      "  Validation Found 51099 of 54504, added 2123 (eff 93.75%) (0.213 FP/event)\n"
     ]
    },
    {
     "data": {
      "application/vnd.jupyter.widget-view+json": {
       "model_id": "",
       "version_major": 2,
       "version_minor": 0
      },
      "text/plain": [
       "HBox(children=(FloatProgress(value=0.0, description='Training', layout=Layout(flex='2'), max=1250.0, style=Pro…"
      ]
     },
     "metadata": {},
     "output_type": "display_data"
    },
    {
     "name": "stdout",
     "output_type": "stream",
     "text": [
      "Epoch 1657: train=8.11939, val=8.31662, took 25.725 s\n",
      "  Validation Found 50983 of 54504, added 1920 (eff 93.54%) (0.192 FP/event)\n"
     ]
    },
    {
     "data": {
      "application/vnd.jupyter.widget-view+json": {
       "model_id": "",
       "version_major": 2,
       "version_minor": 0
      },
      "text/plain": [
       "HBox(children=(FloatProgress(value=0.0, description='Training', layout=Layout(flex='2'), max=1250.0, style=Pro…"
      ]
     },
     "metadata": {},
     "output_type": "display_data"
    },
    {
     "name": "stdout",
     "output_type": "stream",
     "text": [
      "Epoch 1658: train=8.12535, val=8.2961, took 26.088 s\n",
      "  Validation Found 51097 of 54504, added 2151 (eff 93.75%) (0.215 FP/event)\n"
     ]
    },
    {
     "data": {
      "application/vnd.jupyter.widget-view+json": {
       "model_id": "",
       "version_major": 2,
       "version_minor": 0
      },
      "text/plain": [
       "HBox(children=(FloatProgress(value=0.0, description='Training', layout=Layout(flex='2'), max=1250.0, style=Pro…"
      ]
     },
     "metadata": {},
     "output_type": "display_data"
    },
    {
     "name": "stdout",
     "output_type": "stream",
     "text": [
      "Epoch 1659: train=8.12181, val=8.2767, took 25.779 s\n",
      "  Validation Found 51123 of 54504, added 2310 (eff 93.80%) (0.231 FP/event)\n"
     ]
    },
    {
     "data": {
      "application/vnd.jupyter.widget-view+json": {
       "model_id": "",
       "version_major": 2,
       "version_minor": 0
      },
      "text/plain": [
       "HBox(children=(FloatProgress(value=0.0, description='Training', layout=Layout(flex='2'), max=1250.0, style=Pro…"
      ]
     },
     "metadata": {},
     "output_type": "display_data"
    },
    {
     "name": "stdout",
     "output_type": "stream",
     "text": [
      "Epoch 1660: train=8.11597, val=8.20744, took 25.817 s\n",
      "  Validation Found 51139 of 54504, added 2157 (eff 93.83%) (0.216 FP/event)\n"
     ]
    },
    {
     "data": {
      "application/vnd.jupyter.widget-view+json": {
       "model_id": "",
       "version_major": 2,
       "version_minor": 0
      },
      "text/plain": [
       "HBox(children=(FloatProgress(value=0.0, description='Training', layout=Layout(flex='2'), max=1250.0, style=Pro…"
      ]
     },
     "metadata": {},
     "output_type": "display_data"
    },
    {
     "name": "stdout",
     "output_type": "stream",
     "text": [
      "Epoch 1661: train=8.12328, val=8.30132, took 25.799 s\n",
      "  Validation Found 51125 of 54504, added 2239 (eff 93.80%) (0.224 FP/event)\n"
     ]
    },
    {
     "data": {
      "application/vnd.jupyter.widget-view+json": {
       "model_id": "",
       "version_major": 2,
       "version_minor": 0
      },
      "text/plain": [
       "HBox(children=(FloatProgress(value=0.0, description='Training', layout=Layout(flex='2'), max=1250.0, style=Pro…"
      ]
     },
     "metadata": {},
     "output_type": "display_data"
    },
    {
     "name": "stdout",
     "output_type": "stream",
     "text": [
      "Epoch 1662: train=8.11504, val=8.30796, took 25.974 s\n",
      "  Validation Found 51086 of 54504, added 2222 (eff 93.73%) (0.223 FP/event)\n"
     ]
    },
    {
     "data": {
      "application/vnd.jupyter.widget-view+json": {
       "model_id": "",
       "version_major": 2,
       "version_minor": 0
      },
      "text/plain": [
       "HBox(children=(FloatProgress(value=0.0, description='Training', layout=Layout(flex='2'), max=1250.0, style=Pro…"
      ]
     },
     "metadata": {},
     "output_type": "display_data"
    },
    {
     "name": "stdout",
     "output_type": "stream",
     "text": [
      "Epoch 1663: train=8.1231, val=8.19097, took 25.748 s\n",
      "  Validation Found 51184 of 54504, added 2238 (eff 93.91%) (0.224 FP/event)\n"
     ]
    },
    {
     "data": {
      "application/vnd.jupyter.widget-view+json": {
       "model_id": "",
       "version_major": 2,
       "version_minor": 0
      },
      "text/plain": [
       "HBox(children=(FloatProgress(value=0.0, description='Training', layout=Layout(flex='2'), max=1250.0, style=Pro…"
      ]
     },
     "metadata": {},
     "output_type": "display_data"
    },
    {
     "name": "stdout",
     "output_type": "stream",
     "text": [
      "Epoch 1664: train=8.12352, val=8.26998, took 25.865 s\n",
      "  Validation Found 51152 of 54504, added 2289 (eff 93.85%) (0.229 FP/event)\n"
     ]
    },
    {
     "data": {
      "application/vnd.jupyter.widget-view+json": {
       "model_id": "",
       "version_major": 2,
       "version_minor": 0
      },
      "text/plain": [
       "HBox(children=(FloatProgress(value=0.0, description='Training', layout=Layout(flex='2'), max=1250.0, style=Pro…"
      ]
     },
     "metadata": {},
     "output_type": "display_data"
    },
    {
     "name": "stdout",
     "output_type": "stream",
     "text": [
      "Epoch 1665: train=8.11716, val=8.3053, took 25.793 s\n",
      "  Validation Found 51245 of 54504, added 2578 (eff 94.02%) (0.258 FP/event)\n"
     ]
    },
    {
     "data": {
      "application/vnd.jupyter.widget-view+json": {
       "model_id": "",
       "version_major": 2,
       "version_minor": 0
      },
      "text/plain": [
       "HBox(children=(FloatProgress(value=0.0, description='Training', layout=Layout(flex='2'), max=1250.0, style=Pro…"
      ]
     },
     "metadata": {},
     "output_type": "display_data"
    },
    {
     "name": "stdout",
     "output_type": "stream",
     "text": [
      "Epoch 1666: train=8.11752, val=8.2403, took 25.894 s\n",
      "  Validation Found 51112 of 54504, added 2206 (eff 93.78%) (0.221 FP/event)\n"
     ]
    },
    {
     "data": {
      "application/vnd.jupyter.widget-view+json": {
       "model_id": "",
       "version_major": 2,
       "version_minor": 0
      },
      "text/plain": [
       "HBox(children=(FloatProgress(value=0.0, description='Training', layout=Layout(flex='2'), max=1250.0, style=Pro…"
      ]
     },
     "metadata": {},
     "output_type": "display_data"
    },
    {
     "name": "stdout",
     "output_type": "stream",
     "text": [
      "Epoch 1667: train=8.12174, val=8.35771, took 26.01 s\n",
      "  Validation Found 51109 of 54504, added 2287 (eff 93.77%) (0.229 FP/event)\n"
     ]
    },
    {
     "data": {
      "application/vnd.jupyter.widget-view+json": {
       "model_id": "",
       "version_major": 2,
       "version_minor": 0
      },
      "text/plain": [
       "HBox(children=(FloatProgress(value=0.0, description='Training', layout=Layout(flex='2'), max=1250.0, style=Pro…"
      ]
     },
     "metadata": {},
     "output_type": "display_data"
    },
    {
     "name": "stdout",
     "output_type": "stream",
     "text": [
      "Epoch 1668: train=8.12465, val=8.35124, took 25.875 s\n",
      "  Validation Found 51271 of 54504, added 2761 (eff 94.07%) (0.277 FP/event)\n"
     ]
    },
    {
     "data": {
      "application/vnd.jupyter.widget-view+json": {
       "model_id": "",
       "version_major": 2,
       "version_minor": 0
      },
      "text/plain": [
       "HBox(children=(FloatProgress(value=0.0, description='Training', layout=Layout(flex='2'), max=1250.0, style=Pro…"
      ]
     },
     "metadata": {},
     "output_type": "display_data"
    },
    {
     "name": "stdout",
     "output_type": "stream",
     "text": [
      "Epoch 1669: train=8.11918, val=8.30652, took 25.851 s\n",
      "  Validation Found 51003 of 54504, added 1914 (eff 93.58%) (0.192 FP/event)\n"
     ]
    },
    {
     "data": {
      "application/vnd.jupyter.widget-view+json": {
       "model_id": "",
       "version_major": 2,
       "version_minor": 0
      },
      "text/plain": [
       "HBox(children=(FloatProgress(value=0.0, description='Training', layout=Layout(flex='2'), max=1250.0, style=Pro…"
      ]
     },
     "metadata": {},
     "output_type": "display_data"
    },
    {
     "name": "stdout",
     "output_type": "stream",
     "text": [
      "Epoch 1670: train=8.1146, val=8.25025, took 26.283 s\n",
      "  Validation Found 50960 of 54504, added 1965 (eff 93.50%) (0.197 FP/event)\n"
     ]
    },
    {
     "data": {
      "application/vnd.jupyter.widget-view+json": {
       "model_id": "",
       "version_major": 2,
       "version_minor": 0
      },
      "text/plain": [
       "HBox(children=(FloatProgress(value=0.0, description='Training', layout=Layout(flex='2'), max=1250.0, style=Pro…"
      ]
     },
     "metadata": {},
     "output_type": "display_data"
    },
    {
     "name": "stdout",
     "output_type": "stream",
     "text": [
      "Epoch 1671: train=8.11922, val=8.22753, took 25.881 s\n",
      "  Validation Found 51116 of 54504, added 2223 (eff 93.78%) (0.223 FP/event)\n"
     ]
    },
    {
     "data": {
      "application/vnd.jupyter.widget-view+json": {
       "model_id": "",
       "version_major": 2,
       "version_minor": 0
      },
      "text/plain": [
       "HBox(children=(FloatProgress(value=0.0, description='Training', layout=Layout(flex='2'), max=1250.0, style=Pro…"
      ]
     },
     "metadata": {},
     "output_type": "display_data"
    },
    {
     "name": "stdout",
     "output_type": "stream",
     "text": [
      "Epoch 1672: train=8.11552, val=8.31077, took 25.904 s\n",
      "  Validation Found 50939 of 54504, added 1942 (eff 93.46%) (0.194 FP/event)\n"
     ]
    },
    {
     "data": {
      "application/vnd.jupyter.widget-view+json": {
       "model_id": "",
       "version_major": 2,
       "version_minor": 0
      },
      "text/plain": [
       "HBox(children=(FloatProgress(value=0.0, description='Training', layout=Layout(flex='2'), max=1250.0, style=Pro…"
      ]
     },
     "metadata": {},
     "output_type": "display_data"
    },
    {
     "name": "stdout",
     "output_type": "stream",
     "text": [
      "Epoch 1673: train=8.1173, val=8.26704, took 25.978 s\n",
      "  Validation Found 50973 of 54504, added 1963 (eff 93.52%) (0.197 FP/event)\n"
     ]
    },
    {
     "data": {
      "application/vnd.jupyter.widget-view+json": {
       "model_id": "",
       "version_major": 2,
       "version_minor": 0
      },
      "text/plain": [
       "HBox(children=(FloatProgress(value=0.0, description='Training', layout=Layout(flex='2'), max=1250.0, style=Pro…"
      ]
     },
     "metadata": {},
     "output_type": "display_data"
    },
    {
     "name": "stdout",
     "output_type": "stream",
     "text": [
      "Epoch 1674: train=8.11553, val=8.2588, took 25.869 s\n",
      "  Validation Found 51082 of 54504, added 2161 (eff 93.72%) (0.216 FP/event)\n"
     ]
    },
    {
     "data": {
      "application/vnd.jupyter.widget-view+json": {
       "model_id": "",
       "version_major": 2,
       "version_minor": 0
      },
      "text/plain": [
       "HBox(children=(FloatProgress(value=0.0, description='Training', layout=Layout(flex='2'), max=1250.0, style=Pro…"
      ]
     },
     "metadata": {},
     "output_type": "display_data"
    },
    {
     "name": "stdout",
     "output_type": "stream",
     "text": [
      "Epoch 1675: train=8.11788, val=8.29298, took 26.155 s\n",
      "  Validation Found 51141 of 54504, added 2334 (eff 93.83%) (0.234 FP/event)\n"
     ]
    },
    {
     "data": {
      "application/vnd.jupyter.widget-view+json": {
       "model_id": "",
       "version_major": 2,
       "version_minor": 0
      },
      "text/plain": [
       "HBox(children=(FloatProgress(value=0.0, description='Training', layout=Layout(flex='2'), max=1250.0, style=Pro…"
      ]
     },
     "metadata": {},
     "output_type": "display_data"
    },
    {
     "name": "stdout",
     "output_type": "stream",
     "text": [
      "Epoch 1676: train=8.11794, val=8.33736, took 25.801 s\n",
      "  Validation Found 50922 of 54504, added 1965 (eff 93.43%) (0.197 FP/event)\n"
     ]
    },
    {
     "data": {
      "application/vnd.jupyter.widget-view+json": {
       "model_id": "",
       "version_major": 2,
       "version_minor": 0
      },
      "text/plain": [
       "HBox(children=(FloatProgress(value=0.0, description='Training', layout=Layout(flex='2'), max=1250.0, style=Pro…"
      ]
     },
     "metadata": {},
     "output_type": "display_data"
    },
    {
     "name": "stdout",
     "output_type": "stream",
     "text": [
      "Epoch 1677: train=8.11789, val=8.23673, took 25.828 s\n",
      "  Validation Found 51084 of 54504, added 2156 (eff 93.73%) (0.216 FP/event)\n"
     ]
    },
    {
     "data": {
      "application/vnd.jupyter.widget-view+json": {
       "model_id": "",
       "version_major": 2,
       "version_minor": 0
      },
      "text/plain": [
       "HBox(children=(FloatProgress(value=0.0, description='Training', layout=Layout(flex='2'), max=1250.0, style=Pro…"
      ]
     },
     "metadata": {},
     "output_type": "display_data"
    },
    {
     "name": "stdout",
     "output_type": "stream",
     "text": [
      "Epoch 1678: train=8.12223, val=8.29334, took 25.823 s\n",
      "  Validation Found 50982 of 54504, added 1971 (eff 93.54%) (0.197 FP/event)\n"
     ]
    },
    {
     "data": {
      "application/vnd.jupyter.widget-view+json": {
       "model_id": "",
       "version_major": 2,
       "version_minor": 0
      },
      "text/plain": [
       "HBox(children=(FloatProgress(value=0.0, description='Training', layout=Layout(flex='2'), max=1250.0, style=Pro…"
      ]
     },
     "metadata": {},
     "output_type": "display_data"
    },
    {
     "name": "stdout",
     "output_type": "stream",
     "text": [
      "Epoch 1679: train=8.12222, val=8.26351, took 25.857 s\n",
      "  Validation Found 51283 of 54504, added 2725 (eff 94.09%) (0.273 FP/event)\n"
     ]
    },
    {
     "data": {
      "application/vnd.jupyter.widget-view+json": {
       "model_id": "",
       "version_major": 2,
       "version_minor": 0
      },
      "text/plain": [
       "HBox(children=(FloatProgress(value=0.0, description='Training', layout=Layout(flex='2'), max=1250.0, style=Pro…"
      ]
     },
     "metadata": {},
     "output_type": "display_data"
    },
    {
     "name": "stdout",
     "output_type": "stream",
     "text": [
      "Epoch 1680: train=8.1115, val=8.33609, took 25.817 s\n",
      "  Validation Found 50979 of 54504, added 1886 (eff 93.53%) (0.189 FP/event)\n"
     ]
    },
    {
     "data": {
      "application/vnd.jupyter.widget-view+json": {
       "model_id": "",
       "version_major": 2,
       "version_minor": 0
      },
      "text/plain": [
       "HBox(children=(FloatProgress(value=0.0, description='Training', layout=Layout(flex='2'), max=1250.0, style=Pro…"
      ]
     },
     "metadata": {},
     "output_type": "display_data"
    },
    {
     "name": "stdout",
     "output_type": "stream",
     "text": [
      "Epoch 1681: train=8.11596, val=8.29408, took 25.824 s\n",
      "  Validation Found 51118 of 54504, added 2175 (eff 93.79%) (0.218 FP/event)\n"
     ]
    },
    {
     "data": {
      "application/vnd.jupyter.widget-view+json": {
       "model_id": "",
       "version_major": 2,
       "version_minor": 0
      },
      "text/plain": [
       "HBox(children=(FloatProgress(value=0.0, description='Training', layout=Layout(flex='2'), max=1250.0, style=Pro…"
      ]
     },
     "metadata": {},
     "output_type": "display_data"
    },
    {
     "name": "stdout",
     "output_type": "stream",
     "text": [
      "Epoch 1682: train=8.1206, val=8.27285, took 25.837 s\n",
      "  Validation Found 51093 of 54504, added 2304 (eff 93.74%) (0.231 FP/event)\n"
     ]
    },
    {
     "data": {
      "application/vnd.jupyter.widget-view+json": {
       "model_id": "",
       "version_major": 2,
       "version_minor": 0
      },
      "text/plain": [
       "HBox(children=(FloatProgress(value=0.0, description='Training', layout=Layout(flex='2'), max=1250.0, style=Pro…"
      ]
     },
     "metadata": {},
     "output_type": "display_data"
    },
    {
     "name": "stdout",
     "output_type": "stream",
     "text": [
      "Epoch 1683: train=8.114, val=8.34172, took 25.818 s\n",
      "  Validation Found 51072 of 54504, added 2134 (eff 93.70%) (0.214 FP/event)\n"
     ]
    },
    {
     "data": {
      "application/vnd.jupyter.widget-view+json": {
       "model_id": "",
       "version_major": 2,
       "version_minor": 0
      },
      "text/plain": [
       "HBox(children=(FloatProgress(value=0.0, description='Training', layout=Layout(flex='2'), max=1250.0, style=Pro…"
      ]
     },
     "metadata": {},
     "output_type": "display_data"
    },
    {
     "name": "stdout",
     "output_type": "stream",
     "text": [
      "Epoch 1684: train=8.11618, val=8.27784, took 25.823 s\n",
      "  Validation Found 51006 of 54504, added 2001 (eff 93.58%) (0.2 FP/event)\n"
     ]
    },
    {
     "data": {
      "application/vnd.jupyter.widget-view+json": {
       "model_id": "",
       "version_major": 2,
       "version_minor": 0
      },
      "text/plain": [
       "HBox(children=(FloatProgress(value=0.0, description='Training', layout=Layout(flex='2'), max=1250.0, style=Pro…"
      ]
     },
     "metadata": {},
     "output_type": "display_data"
    },
    {
     "name": "stdout",
     "output_type": "stream",
     "text": [
      "Epoch 1685: train=8.12371, val=8.26483, took 25.896 s\n",
      "  Validation Found 51123 of 54504, added 2206 (eff 93.80%) (0.221 FP/event)\n"
     ]
    },
    {
     "data": {
      "application/vnd.jupyter.widget-view+json": {
       "model_id": "",
       "version_major": 2,
       "version_minor": 0
      },
      "text/plain": [
       "HBox(children=(FloatProgress(value=0.0, description='Training', layout=Layout(flex='2'), max=1250.0, style=Pro…"
      ]
     },
     "metadata": {},
     "output_type": "display_data"
    },
    {
     "name": "stdout",
     "output_type": "stream",
     "text": [
      "Epoch 1686: train=8.11678, val=8.24778, took 25.699 s\n",
      "  Validation Found 51072 of 54504, added 2085 (eff 93.70%) (0.209 FP/event)\n"
     ]
    },
    {
     "data": {
      "application/vnd.jupyter.widget-view+json": {
       "model_id": "",
       "version_major": 2,
       "version_minor": 0
      },
      "text/plain": [
       "HBox(children=(FloatProgress(value=0.0, description='Training', layout=Layout(flex='2'), max=1250.0, style=Pro…"
      ]
     },
     "metadata": {},
     "output_type": "display_data"
    },
    {
     "name": "stdout",
     "output_type": "stream",
     "text": [
      "Epoch 1687: train=8.1115, val=8.27725, took 25.706 s\n",
      "  Validation Found 51001 of 54504, added 2002 (eff 93.57%) (0.201 FP/event)\n"
     ]
    },
    {
     "data": {
      "application/vnd.jupyter.widget-view+json": {
       "model_id": "",
       "version_major": 2,
       "version_minor": 0
      },
      "text/plain": [
       "HBox(children=(FloatProgress(value=0.0, description='Training', layout=Layout(flex='2'), max=1250.0, style=Pro…"
      ]
     },
     "metadata": {},
     "output_type": "display_data"
    },
    {
     "name": "stdout",
     "output_type": "stream",
     "text": [
      "Epoch 1688: train=8.12457, val=8.29093, took 25.866 s\n",
      "  Validation Found 51071 of 54504, added 2102 (eff 93.70%) (0.211 FP/event)\n"
     ]
    },
    {
     "data": {
      "application/vnd.jupyter.widget-view+json": {
       "model_id": "",
       "version_major": 2,
       "version_minor": 0
      },
      "text/plain": [
       "HBox(children=(FloatProgress(value=0.0, description='Training', layout=Layout(flex='2'), max=1250.0, style=Pro…"
      ]
     },
     "metadata": {},
     "output_type": "display_data"
    },
    {
     "name": "stdout",
     "output_type": "stream",
     "text": [
      "Epoch 1689: train=8.11706, val=8.33761, took 25.969 s\n",
      "  Validation Found 50965 of 54504, added 1932 (eff 93.51%) (0.193 FP/event)\n"
     ]
    },
    {
     "data": {
      "application/vnd.jupyter.widget-view+json": {
       "model_id": "",
       "version_major": 2,
       "version_minor": 0
      },
      "text/plain": [
       "HBox(children=(FloatProgress(value=0.0, description='Training', layout=Layout(flex='2'), max=1250.0, style=Pro…"
      ]
     },
     "metadata": {},
     "output_type": "display_data"
    },
    {
     "name": "stdout",
     "output_type": "stream",
     "text": [
      "Epoch 1690: train=8.12078, val=8.26901, took 25.94 s\n",
      "  Validation Found 51154 of 54504, added 2345 (eff 93.85%) (0.235 FP/event)\n"
     ]
    },
    {
     "data": {
      "application/vnd.jupyter.widget-view+json": {
       "model_id": "",
       "version_major": 2,
       "version_minor": 0
      },
      "text/plain": [
       "HBox(children=(FloatProgress(value=0.0, description='Training', layout=Layout(flex='2'), max=1250.0, style=Pro…"
      ]
     },
     "metadata": {},
     "output_type": "display_data"
    },
    {
     "name": "stdout",
     "output_type": "stream",
     "text": [
      "Epoch 1691: train=8.1204, val=8.32139, took 25.93 s\n",
      "  Validation Found 50867 of 54504, added 1813 (eff 93.33%) (0.182 FP/event)\n"
     ]
    },
    {
     "data": {
      "application/vnd.jupyter.widget-view+json": {
       "model_id": "",
       "version_major": 2,
       "version_minor": 0
      },
      "text/plain": [
       "HBox(children=(FloatProgress(value=0.0, description='Training', layout=Layout(flex='2'), max=1250.0, style=Pro…"
      ]
     },
     "metadata": {},
     "output_type": "display_data"
    },
    {
     "name": "stdout",
     "output_type": "stream",
     "text": [
      "Epoch 1692: train=8.10822, val=8.37301, took 25.935 s\n",
      "  Validation Found 50848 of 54504, added 1804 (eff 93.29%) (0.181 FP/event)\n"
     ]
    },
    {
     "data": {
      "application/vnd.jupyter.widget-view+json": {
       "model_id": "",
       "version_major": 2,
       "version_minor": 0
      },
      "text/plain": [
       "HBox(children=(FloatProgress(value=0.0, description='Training', layout=Layout(flex='2'), max=1250.0, style=Pro…"
      ]
     },
     "metadata": {},
     "output_type": "display_data"
    },
    {
     "name": "stdout",
     "output_type": "stream",
     "text": [
      "Epoch 1693: train=8.12846, val=8.2561, took 25.861 s\n",
      "  Validation Found 51110 of 54504, added 2149 (eff 93.77%) (0.215 FP/event)\n"
     ]
    },
    {
     "data": {
      "application/vnd.jupyter.widget-view+json": {
       "model_id": "",
       "version_major": 2,
       "version_minor": 0
      },
      "text/plain": [
       "HBox(children=(FloatProgress(value=0.0, description='Training', layout=Layout(flex='2'), max=1250.0, style=Pro…"
      ]
     },
     "metadata": {},
     "output_type": "display_data"
    },
    {
     "name": "stdout",
     "output_type": "stream",
     "text": [
      "Epoch 1694: train=8.11576, val=8.27745, took 26.136 s\n",
      "  Validation Found 51290 of 54504, added 2694 (eff 94.10%) (0.27 FP/event)\n"
     ]
    },
    {
     "data": {
      "application/vnd.jupyter.widget-view+json": {
       "model_id": "",
       "version_major": 2,
       "version_minor": 0
      },
      "text/plain": [
       "HBox(children=(FloatProgress(value=0.0, description='Training', layout=Layout(flex='2'), max=1250.0, style=Pro…"
      ]
     },
     "metadata": {},
     "output_type": "display_data"
    },
    {
     "name": "stdout",
     "output_type": "stream",
     "text": [
      "Epoch 1695: train=8.11753, val=8.35972, took 25.89 s\n",
      "  Validation Found 50922 of 54504, added 2033 (eff 93.43%) (0.204 FP/event)\n"
     ]
    },
    {
     "data": {
      "application/vnd.jupyter.widget-view+json": {
       "model_id": "",
       "version_major": 2,
       "version_minor": 0
      },
      "text/plain": [
       "HBox(children=(FloatProgress(value=0.0, description='Training', layout=Layout(flex='2'), max=1250.0, style=Pro…"
      ]
     },
     "metadata": {},
     "output_type": "display_data"
    },
    {
     "name": "stdout",
     "output_type": "stream",
     "text": [
      "Epoch 1696: train=8.11519, val=8.37722, took 25.805 s\n",
      "  Validation Found 51288 of 54504, added 3008 (eff 94.10%) (0.301 FP/event)\n"
     ]
    },
    {
     "data": {
      "application/vnd.jupyter.widget-view+json": {
       "model_id": "",
       "version_major": 2,
       "version_minor": 0
      },
      "text/plain": [
       "HBox(children=(FloatProgress(value=0.0, description='Training', layout=Layout(flex='2'), max=1250.0, style=Pro…"
      ]
     },
     "metadata": {},
     "output_type": "display_data"
    },
    {
     "name": "stdout",
     "output_type": "stream",
     "text": [
      "Epoch 1697: train=8.12524, val=8.26359, took 25.869 s\n",
      "  Validation Found 51204 of 54504, added 2382 (eff 93.95%) (0.239 FP/event)\n"
     ]
    },
    {
     "data": {
      "application/vnd.jupyter.widget-view+json": {
       "model_id": "",
       "version_major": 2,
       "version_minor": 0
      },
      "text/plain": [
       "HBox(children=(FloatProgress(value=0.0, description='Training', layout=Layout(flex='2'), max=1250.0, style=Pro…"
      ]
     },
     "metadata": {},
     "output_type": "display_data"
    },
    {
     "name": "stdout",
     "output_type": "stream",
     "text": [
      "Epoch 1698: train=8.12235, val=8.24246, took 25.949 s\n",
      "  Validation Found 51084 of 54504, added 2093 (eff 93.73%) (0.21 FP/event)\n"
     ]
    },
    {
     "data": {
      "application/vnd.jupyter.widget-view+json": {
       "model_id": "",
       "version_major": 2,
       "version_minor": 0
      },
      "text/plain": [
       "HBox(children=(FloatProgress(value=0.0, description='Training', layout=Layout(flex='2'), max=1250.0, style=Pro…"
      ]
     },
     "metadata": {},
     "output_type": "display_data"
    },
    {
     "name": "stdout",
     "output_type": "stream",
     "text": [
      "Epoch 1699: train=8.12156, val=8.27104, took 25.85 s\n",
      "  Validation Found 51314 of 54504, added 2613 (eff 94.15%) (0.262 FP/event)\n"
     ]
    },
    {
     "data": {
      "application/vnd.jupyter.widget-view+json": {
       "model_id": "",
       "version_major": 2,
       "version_minor": 0
      },
      "text/plain": [
       "HBox(children=(FloatProgress(value=0.0, description='Training', layout=Layout(flex='2'), max=1250.0, style=Pro…"
      ]
     },
     "metadata": {},
     "output_type": "display_data"
    },
    {
     "name": "stdout",
     "output_type": "stream",
     "text": [
      "Epoch 1700: train=8.11725, val=8.28409, took 25.874 s\n",
      "  Validation Found 51125 of 54504, added 2361 (eff 93.80%) (0.236 FP/event)\n"
     ]
    },
    {
     "data": {
      "application/vnd.jupyter.widget-view+json": {
       "model_id": "",
       "version_major": 2,
       "version_minor": 0
      },
      "text/plain": [
       "HBox(children=(FloatProgress(value=0.0, description='Training', layout=Layout(flex='2'), max=1250.0, style=Pro…"
      ]
     },
     "metadata": {},
     "output_type": "display_data"
    },
    {
     "name": "stdout",
     "output_type": "stream",
     "text": [
      "Epoch 1701: train=8.11701, val=8.28884, took 25.912 s\n",
      "  Validation Found 51059 of 54504, added 2026 (eff 93.68%) (0.203 FP/event)\n"
     ]
    },
    {
     "data": {
      "application/vnd.jupyter.widget-view+json": {
       "model_id": "",
       "version_major": 2,
       "version_minor": 0
      },
      "text/plain": [
       "HBox(children=(FloatProgress(value=0.0, description='Training', layout=Layout(flex='2'), max=1250.0, style=Pro…"
      ]
     },
     "metadata": {},
     "output_type": "display_data"
    },
    {
     "name": "stdout",
     "output_type": "stream",
     "text": [
      "Epoch 1702: train=8.11804, val=8.27871, took 25.935 s\n",
      "  Validation Found 51117 of 54504, added 2151 (eff 93.79%) (0.215 FP/event)\n"
     ]
    },
    {
     "data": {
      "application/vnd.jupyter.widget-view+json": {
       "model_id": "",
       "version_major": 2,
       "version_minor": 0
      },
      "text/plain": [
       "HBox(children=(FloatProgress(value=0.0, description='Training', layout=Layout(flex='2'), max=1250.0, style=Pro…"
      ]
     },
     "metadata": {},
     "output_type": "display_data"
    },
    {
     "name": "stdout",
     "output_type": "stream",
     "text": [
      "Epoch 1703: train=8.11734, val=8.21734, took 25.886 s\n",
      "  Validation Found 51113 of 54504, added 2196 (eff 93.78%) (0.22 FP/event)\n"
     ]
    },
    {
     "data": {
      "application/vnd.jupyter.widget-view+json": {
       "model_id": "",
       "version_major": 2,
       "version_minor": 0
      },
      "text/plain": [
       "HBox(children=(FloatProgress(value=0.0, description='Training', layout=Layout(flex='2'), max=1250.0, style=Pro…"
      ]
     },
     "metadata": {},
     "output_type": "display_data"
    },
    {
     "name": "stdout",
     "output_type": "stream",
     "text": [
      "Epoch 1704: train=8.1212, val=8.24554, took 25.831 s\n",
      "  Validation Found 51278 of 54504, added 2513 (eff 94.08%) (0.252 FP/event)\n"
     ]
    },
    {
     "data": {
      "application/vnd.jupyter.widget-view+json": {
       "model_id": "",
       "version_major": 2,
       "version_minor": 0
      },
      "text/plain": [
       "HBox(children=(FloatProgress(value=0.0, description='Training', layout=Layout(flex='2'), max=1250.0, style=Pro…"
      ]
     },
     "metadata": {},
     "output_type": "display_data"
    },
    {
     "name": "stdout",
     "output_type": "stream",
     "text": [
      "Epoch 1705: train=8.11966, val=8.31162, took 25.993 s\n",
      "  Validation Found 50952 of 54504, added 1866 (eff 93.48%) (0.187 FP/event)\n"
     ]
    },
    {
     "data": {
      "application/vnd.jupyter.widget-view+json": {
       "model_id": "",
       "version_major": 2,
       "version_minor": 0
      },
      "text/plain": [
       "HBox(children=(FloatProgress(value=0.0, description='Training', layout=Layout(flex='2'), max=1250.0, style=Pro…"
      ]
     },
     "metadata": {},
     "output_type": "display_data"
    },
    {
     "name": "stdout",
     "output_type": "stream",
     "text": [
      "Epoch 1706: train=8.11633, val=8.26984, took 25.929 s\n",
      "  Validation Found 51154 of 54504, added 2449 (eff 93.85%) (0.245 FP/event)\n"
     ]
    },
    {
     "data": {
      "application/vnd.jupyter.widget-view+json": {
       "model_id": "",
       "version_major": 2,
       "version_minor": 0
      },
      "text/plain": [
       "HBox(children=(FloatProgress(value=0.0, description='Training', layout=Layout(flex='2'), max=1250.0, style=Pro…"
      ]
     },
     "metadata": {},
     "output_type": "display_data"
    },
    {
     "name": "stdout",
     "output_type": "stream",
     "text": [
      "Epoch 1707: train=8.12343, val=8.34929, took 25.828 s\n",
      "  Validation Found 50930 of 54504, added 1945 (eff 93.44%) (0.195 FP/event)\n"
     ]
    },
    {
     "data": {
      "application/vnd.jupyter.widget-view+json": {
       "model_id": "",
       "version_major": 2,
       "version_minor": 0
      },
      "text/plain": [
       "HBox(children=(FloatProgress(value=0.0, description='Training', layout=Layout(flex='2'), max=1250.0, style=Pro…"
      ]
     },
     "metadata": {},
     "output_type": "display_data"
    },
    {
     "name": "stdout",
     "output_type": "stream",
     "text": [
      "Epoch 1708: train=8.1161, val=8.2593, took 25.8 s\n",
      "  Validation Found 51043 of 54504, added 2097 (eff 93.65%) (0.21 FP/event)\n"
     ]
    },
    {
     "data": {
      "application/vnd.jupyter.widget-view+json": {
       "model_id": "",
       "version_major": 2,
       "version_minor": 0
      },
      "text/plain": [
       "HBox(children=(FloatProgress(value=0.0, description='Training', layout=Layout(flex='2'), max=1250.0, style=Pro…"
      ]
     },
     "metadata": {},
     "output_type": "display_data"
    },
    {
     "name": "stdout",
     "output_type": "stream",
     "text": [
      "Epoch 1709: train=8.12459, val=8.18025, took 25.817 s\n",
      "  Validation Found 51257 of 54504, added 2470 (eff 94.04%) (0.247 FP/event)\n"
     ]
    },
    {
     "data": {
      "application/vnd.jupyter.widget-view+json": {
       "model_id": "",
       "version_major": 2,
       "version_minor": 0
      },
      "text/plain": [
       "HBox(children=(FloatProgress(value=0.0, description='Training', layout=Layout(flex='2'), max=1250.0, style=Pro…"
      ]
     },
     "metadata": {},
     "output_type": "display_data"
    },
    {
     "name": "stdout",
     "output_type": "stream",
     "text": [
      "Epoch 1710: train=8.11573, val=8.28949, took 25.801 s\n",
      "  Validation Found 51250 of 54504, added 2587 (eff 94.03%) (0.259 FP/event)\n"
     ]
    },
    {
     "data": {
      "application/vnd.jupyter.widget-view+json": {
       "model_id": "",
       "version_major": 2,
       "version_minor": 0
      },
      "text/plain": [
       "HBox(children=(FloatProgress(value=0.0, description='Training', layout=Layout(flex='2'), max=1250.0, style=Pro…"
      ]
     },
     "metadata": {},
     "output_type": "display_data"
    },
    {
     "name": "stdout",
     "output_type": "stream",
     "text": [
      "Epoch 1711: train=8.1133, val=8.322, took 25.821 s\n",
      "  Validation Found 50961 of 54504, added 1858 (eff 93.50%) (0.186 FP/event)\n"
     ]
    },
    {
     "data": {
      "application/vnd.jupyter.widget-view+json": {
       "model_id": "",
       "version_major": 2,
       "version_minor": 0
      },
      "text/plain": [
       "HBox(children=(FloatProgress(value=0.0, description='Training', layout=Layout(flex='2'), max=1250.0, style=Pro…"
      ]
     },
     "metadata": {},
     "output_type": "display_data"
    },
    {
     "name": "stdout",
     "output_type": "stream",
     "text": [
      "Epoch 1712: train=8.11148, val=8.26214, took 25.807 s\n",
      "  Validation Found 51122 of 54504, added 2151 (eff 93.79%) (0.215 FP/event)\n"
     ]
    },
    {
     "data": {
      "application/vnd.jupyter.widget-view+json": {
       "model_id": "",
       "version_major": 2,
       "version_minor": 0
      },
      "text/plain": [
       "HBox(children=(FloatProgress(value=0.0, description='Training', layout=Layout(flex='2'), max=1250.0, style=Pro…"
      ]
     },
     "metadata": {},
     "output_type": "display_data"
    },
    {
     "name": "stdout",
     "output_type": "stream",
     "text": [
      "Epoch 1713: train=8.11888, val=8.2476, took 25.958 s\n",
      "  Validation Found 51107 of 54504, added 2156 (eff 93.77%) (0.216 FP/event)\n"
     ]
    },
    {
     "data": {
      "application/vnd.jupyter.widget-view+json": {
       "model_id": "",
       "version_major": 2,
       "version_minor": 0
      },
      "text/plain": [
       "HBox(children=(FloatProgress(value=0.0, description='Training', layout=Layout(flex='2'), max=1250.0, style=Pro…"
      ]
     },
     "metadata": {},
     "output_type": "display_data"
    },
    {
     "name": "stdout",
     "output_type": "stream",
     "text": [
      "Epoch 1714: train=8.12543, val=8.43392, took 25.765 s\n",
      "  Validation Found 51009 of 54504, added 2217 (eff 93.59%) (0.222 FP/event)\n"
     ]
    },
    {
     "data": {
      "application/vnd.jupyter.widget-view+json": {
       "model_id": "",
       "version_major": 2,
       "version_minor": 0
      },
      "text/plain": [
       "HBox(children=(FloatProgress(value=0.0, description='Training', layout=Layout(flex='2'), max=1250.0, style=Pro…"
      ]
     },
     "metadata": {},
     "output_type": "display_data"
    },
    {
     "name": "stdout",
     "output_type": "stream",
     "text": [
      "Epoch 1715: train=8.11531, val=8.25339, took 25.867 s\n",
      "  Validation Found 51148 of 54504, added 2145 (eff 93.84%) (0.215 FP/event)\n"
     ]
    },
    {
     "data": {
      "application/vnd.jupyter.widget-view+json": {
       "model_id": "",
       "version_major": 2,
       "version_minor": 0
      },
      "text/plain": [
       "HBox(children=(FloatProgress(value=0.0, description='Training', layout=Layout(flex='2'), max=1250.0, style=Pro…"
      ]
     },
     "metadata": {},
     "output_type": "display_data"
    },
    {
     "name": "stdout",
     "output_type": "stream",
     "text": [
      "Epoch 1716: train=8.12642, val=8.31304, took 25.864 s\n",
      "  Validation Found 51050 of 54504, added 2022 (eff 93.66%) (0.203 FP/event)\n"
     ]
    },
    {
     "data": {
      "application/vnd.jupyter.widget-view+json": {
       "model_id": "",
       "version_major": 2,
       "version_minor": 0
      },
      "text/plain": [
       "HBox(children=(FloatProgress(value=0.0, description='Training', layout=Layout(flex='2'), max=1250.0, style=Pro…"
      ]
     },
     "metadata": {},
     "output_type": "display_data"
    },
    {
     "name": "stdout",
     "output_type": "stream",
     "text": [
      "Epoch 1717: train=8.12508, val=8.28533, took 26.048 s\n",
      "  Validation Found 51274 of 54504, added 2584 (eff 94.07%) (0.259 FP/event)\n"
     ]
    },
    {
     "data": {
      "application/vnd.jupyter.widget-view+json": {
       "model_id": "",
       "version_major": 2,
       "version_minor": 0
      },
      "text/plain": [
       "HBox(children=(FloatProgress(value=0.0, description='Training', layout=Layout(flex='2'), max=1250.0, style=Pro…"
      ]
     },
     "metadata": {},
     "output_type": "display_data"
    },
    {
     "name": "stdout",
     "output_type": "stream",
     "text": [
      "Epoch 1718: train=8.12076, val=8.23706, took 26.074 s\n",
      "  Validation Found 51439 of 54504, added 3208 (eff 94.38%) (0.321 FP/event)\n"
     ]
    },
    {
     "data": {
      "application/vnd.jupyter.widget-view+json": {
       "model_id": "",
       "version_major": 2,
       "version_minor": 0
      },
      "text/plain": [
       "HBox(children=(FloatProgress(value=0.0, description='Training', layout=Layout(flex='2'), max=1250.0, style=Pro…"
      ]
     },
     "metadata": {},
     "output_type": "display_data"
    },
    {
     "name": "stdout",
     "output_type": "stream",
     "text": [
      "Epoch 1719: train=8.11468, val=8.31524, took 25.92 s\n",
      "  Validation Found 50962 of 54504, added 1977 (eff 93.50%) (0.198 FP/event)\n"
     ]
    },
    {
     "data": {
      "application/vnd.jupyter.widget-view+json": {
       "model_id": "",
       "version_major": 2,
       "version_minor": 0
      },
      "text/plain": [
       "HBox(children=(FloatProgress(value=0.0, description='Training', layout=Layout(flex='2'), max=1250.0, style=Pro…"
      ]
     },
     "metadata": {},
     "output_type": "display_data"
    },
    {
     "name": "stdout",
     "output_type": "stream",
     "text": [
      "Epoch 1720: train=8.12251, val=8.28259, took 25.938 s\n",
      "  Validation Found 51136 of 54504, added 2358 (eff 93.82%) (0.236 FP/event)\n"
     ]
    },
    {
     "data": {
      "application/vnd.jupyter.widget-view+json": {
       "model_id": "",
       "version_major": 2,
       "version_minor": 0
      },
      "text/plain": [
       "HBox(children=(FloatProgress(value=0.0, description='Training', layout=Layout(flex='2'), max=1250.0, style=Pro…"
      ]
     },
     "metadata": {},
     "output_type": "display_data"
    },
    {
     "name": "stdout",
     "output_type": "stream",
     "text": [
      "Epoch 1721: train=8.12922, val=8.3432, took 25.897 s\n",
      "  Validation Found 50902 of 54504, added 1901 (eff 93.39%) (0.19 FP/event)\n"
     ]
    },
    {
     "data": {
      "application/vnd.jupyter.widget-view+json": {
       "model_id": "",
       "version_major": 2,
       "version_minor": 0
      },
      "text/plain": [
       "HBox(children=(FloatProgress(value=0.0, description='Training', layout=Layout(flex='2'), max=1250.0, style=Pro…"
      ]
     },
     "metadata": {},
     "output_type": "display_data"
    },
    {
     "name": "stdout",
     "output_type": "stream",
     "text": [
      "Epoch 1722: train=8.10961, val=8.22048, took 25.708 s\n",
      "  Validation Found 51146 of 54504, added 2253 (eff 93.84%) (0.226 FP/event)\n"
     ]
    },
    {
     "data": {
      "application/vnd.jupyter.widget-view+json": {
       "model_id": "",
       "version_major": 2,
       "version_minor": 0
      },
      "text/plain": [
       "HBox(children=(FloatProgress(value=0.0, description='Training', layout=Layout(flex='2'), max=1250.0, style=Pro…"
      ]
     },
     "metadata": {},
     "output_type": "display_data"
    },
    {
     "name": "stdout",
     "output_type": "stream",
     "text": [
      "Epoch 1723: train=8.12065, val=8.27204, took 25.563 s\n",
      "  Validation Found 51022 of 54504, added 2008 (eff 93.61%) (0.201 FP/event)\n"
     ]
    },
    {
     "data": {
      "application/vnd.jupyter.widget-view+json": {
       "model_id": "",
       "version_major": 2,
       "version_minor": 0
      },
      "text/plain": [
       "HBox(children=(FloatProgress(value=0.0, description='Training', layout=Layout(flex='2'), max=1250.0, style=Pro…"
      ]
     },
     "metadata": {},
     "output_type": "display_data"
    },
    {
     "name": "stdout",
     "output_type": "stream",
     "text": [
      "Epoch 1724: train=8.12131, val=8.24675, took 25.579 s\n",
      "  Validation Found 51011 of 54504, added 2033 (eff 93.59%) (0.204 FP/event)\n"
     ]
    },
    {
     "data": {
      "application/vnd.jupyter.widget-view+json": {
       "model_id": "",
       "version_major": 2,
       "version_minor": 0
      },
      "text/plain": [
       "HBox(children=(FloatProgress(value=0.0, description='Training', layout=Layout(flex='2'), max=1250.0, style=Pro…"
      ]
     },
     "metadata": {},
     "output_type": "display_data"
    },
    {
     "name": "stdout",
     "output_type": "stream",
     "text": [
      "Epoch 1725: train=8.1139, val=8.38124, took 25.554 s\n",
      "  Validation Found 50880 of 54504, added 1939 (eff 93.35%) (0.194 FP/event)\n"
     ]
    },
    {
     "data": {
      "application/vnd.jupyter.widget-view+json": {
       "model_id": "",
       "version_major": 2,
       "version_minor": 0
      },
      "text/plain": [
       "HBox(children=(FloatProgress(value=0.0, description='Training', layout=Layout(flex='2'), max=1250.0, style=Pro…"
      ]
     },
     "metadata": {},
     "output_type": "display_data"
    },
    {
     "name": "stdout",
     "output_type": "stream",
     "text": [
      "Epoch 1726: train=8.11864, val=8.33926, took 25.965 s\n",
      "  Validation Found 50903 of 54504, added 1796 (eff 93.39%) (0.18 FP/event)\n"
     ]
    },
    {
     "data": {
      "application/vnd.jupyter.widget-view+json": {
       "model_id": "",
       "version_major": 2,
       "version_minor": 0
      },
      "text/plain": [
       "HBox(children=(FloatProgress(value=0.0, description='Training', layout=Layout(flex='2'), max=1250.0, style=Pro…"
      ]
     },
     "metadata": {},
     "output_type": "display_data"
    },
    {
     "name": "stdout",
     "output_type": "stream",
     "text": [
      "Epoch 1727: train=8.12273, val=8.20222, took 25.877 s\n",
      "  Validation Found 51050 of 54504, added 2006 (eff 93.66%) (0.201 FP/event)\n"
     ]
    },
    {
     "data": {
      "application/vnd.jupyter.widget-view+json": {
       "model_id": "",
       "version_major": 2,
       "version_minor": 0
      },
      "text/plain": [
       "HBox(children=(FloatProgress(value=0.0, description='Training', layout=Layout(flex='2'), max=1250.0, style=Pro…"
      ]
     },
     "metadata": {},
     "output_type": "display_data"
    },
    {
     "name": "stdout",
     "output_type": "stream",
     "text": [
      "Epoch 1728: train=8.11438, val=8.24463, took 26.023 s\n",
      "  Validation Found 51081 of 54504, added 2145 (eff 93.72%) (0.215 FP/event)\n"
     ]
    },
    {
     "data": {
      "application/vnd.jupyter.widget-view+json": {
       "model_id": "",
       "version_major": 2,
       "version_minor": 0
      },
      "text/plain": [
       "HBox(children=(FloatProgress(value=0.0, description='Training', layout=Layout(flex='2'), max=1250.0, style=Pro…"
      ]
     },
     "metadata": {},
     "output_type": "display_data"
    },
    {
     "name": "stdout",
     "output_type": "stream",
     "text": [
      "Epoch 1729: train=8.11512, val=8.26903, took 25.842 s\n",
      "  Validation Found 51074 of 54504, added 2172 (eff 93.71%) (0.218 FP/event)\n"
     ]
    },
    {
     "data": {
      "application/vnd.jupyter.widget-view+json": {
       "model_id": "",
       "version_major": 2,
       "version_minor": 0
      },
      "text/plain": [
       "HBox(children=(FloatProgress(value=0.0, description='Training', layout=Layout(flex='2'), max=1250.0, style=Pro…"
      ]
     },
     "metadata": {},
     "output_type": "display_data"
    },
    {
     "name": "stdout",
     "output_type": "stream",
     "text": [
      "Epoch 1730: train=8.12267, val=8.25929, took 25.794 s\n",
      "  Validation Found 50972 of 54504, added 1973 (eff 93.52%) (0.198 FP/event)\n"
     ]
    },
    {
     "data": {
      "application/vnd.jupyter.widget-view+json": {
       "model_id": "",
       "version_major": 2,
       "version_minor": 0
      },
      "text/plain": [
       "HBox(children=(FloatProgress(value=0.0, description='Training', layout=Layout(flex='2'), max=1250.0, style=Pro…"
      ]
     },
     "metadata": {},
     "output_type": "display_data"
    },
    {
     "name": "stdout",
     "output_type": "stream",
     "text": [
      "Epoch 1731: train=8.12238, val=8.35256, took 25.798 s\n",
      "  Validation Found 50972 of 54504, added 1885 (eff 93.52%) (0.189 FP/event)\n"
     ]
    },
    {
     "data": {
      "application/vnd.jupyter.widget-view+json": {
       "model_id": "",
       "version_major": 2,
       "version_minor": 0
      },
      "text/plain": [
       "HBox(children=(FloatProgress(value=0.0, description='Training', layout=Layout(flex='2'), max=1250.0, style=Pro…"
      ]
     },
     "metadata": {},
     "output_type": "display_data"
    },
    {
     "name": "stdout",
     "output_type": "stream",
     "text": [
      "Epoch 1732: train=8.11137, val=8.32403, took 25.81 s\n",
      "  Validation Found 51093 of 54504, added 2239 (eff 93.74%) (0.224 FP/event)\n"
     ]
    },
    {
     "data": {
      "application/vnd.jupyter.widget-view+json": {
       "model_id": "",
       "version_major": 2,
       "version_minor": 0
      },
      "text/plain": [
       "HBox(children=(FloatProgress(value=0.0, description='Training', layout=Layout(flex='2'), max=1250.0, style=Pro…"
      ]
     },
     "metadata": {},
     "output_type": "display_data"
    },
    {
     "name": "stdout",
     "output_type": "stream",
     "text": [
      "Epoch 1733: train=8.12105, val=8.2752, took 25.807 s\n",
      "  Validation Found 51207 of 54504, added 2422 (eff 93.95%) (0.243 FP/event)\n"
     ]
    },
    {
     "data": {
      "application/vnd.jupyter.widget-view+json": {
       "model_id": "",
       "version_major": 2,
       "version_minor": 0
      },
      "text/plain": [
       "HBox(children=(FloatProgress(value=0.0, description='Training', layout=Layout(flex='2'), max=1250.0, style=Pro…"
      ]
     },
     "metadata": {},
     "output_type": "display_data"
    },
    {
     "name": "stdout",
     "output_type": "stream",
     "text": [
      "Epoch 1734: train=8.1187, val=8.24234, took 25.805 s\n",
      "  Validation Found 51149 of 54504, added 2431 (eff 93.84%) (0.243 FP/event)\n"
     ]
    },
    {
     "data": {
      "application/vnd.jupyter.widget-view+json": {
       "model_id": "",
       "version_major": 2,
       "version_minor": 0
      },
      "text/plain": [
       "HBox(children=(FloatProgress(value=0.0, description='Training', layout=Layout(flex='2'), max=1250.0, style=Pro…"
      ]
     },
     "metadata": {},
     "output_type": "display_data"
    },
    {
     "name": "stdout",
     "output_type": "stream",
     "text": [
      "Epoch 1735: train=8.10984, val=8.21075, took 25.825 s\n",
      "  Validation Found 50980 of 54504, added 1934 (eff 93.53%) (0.194 FP/event)\n"
     ]
    },
    {
     "data": {
      "application/vnd.jupyter.widget-view+json": {
       "model_id": "",
       "version_major": 2,
       "version_minor": 0
      },
      "text/plain": [
       "HBox(children=(FloatProgress(value=0.0, description='Training', layout=Layout(flex='2'), max=1250.0, style=Pro…"
      ]
     },
     "metadata": {},
     "output_type": "display_data"
    },
    {
     "name": "stdout",
     "output_type": "stream",
     "text": [
      "Epoch 1736: train=8.12714, val=8.34016, took 25.972 s\n",
      "  Validation Found 50960 of 54504, added 2046 (eff 93.50%) (0.205 FP/event)\n"
     ]
    },
    {
     "data": {
      "application/vnd.jupyter.widget-view+json": {
       "model_id": "",
       "version_major": 2,
       "version_minor": 0
      },
      "text/plain": [
       "HBox(children=(FloatProgress(value=0.0, description='Training', layout=Layout(flex='2'), max=1250.0, style=Pro…"
      ]
     },
     "metadata": {},
     "output_type": "display_data"
    },
    {
     "name": "stdout",
     "output_type": "stream",
     "text": [
      "Epoch 1737: train=8.11462, val=8.45877, took 25.834 s\n",
      "  Validation Found 50737 of 54504, added 1670 (eff 93.09%) (0.167 FP/event)\n"
     ]
    },
    {
     "data": {
      "application/vnd.jupyter.widget-view+json": {
       "model_id": "",
       "version_major": 2,
       "version_minor": 0
      },
      "text/plain": [
       "HBox(children=(FloatProgress(value=0.0, description='Training', layout=Layout(flex='2'), max=1250.0, style=Pro…"
      ]
     },
     "metadata": {},
     "output_type": "display_data"
    },
    {
     "name": "stdout",
     "output_type": "stream",
     "text": [
      "Epoch 1738: train=8.11671, val=8.40766, took 25.878 s\n",
      "  Validation Found 50748 of 54504, added 1677 (eff 93.11%) (0.168 FP/event)\n"
     ]
    },
    {
     "data": {
      "application/vnd.jupyter.widget-view+json": {
       "model_id": "",
       "version_major": 2,
       "version_minor": 0
      },
      "text/plain": [
       "HBox(children=(FloatProgress(value=0.0, description='Training', layout=Layout(flex='2'), max=1250.0, style=Pro…"
      ]
     },
     "metadata": {},
     "output_type": "display_data"
    },
    {
     "name": "stdout",
     "output_type": "stream",
     "text": [
      "Epoch 1739: train=8.11919, val=8.21139, took 25.917 s\n",
      "  Validation Found 51137 of 54504, added 2279 (eff 93.82%) (0.228 FP/event)\n"
     ]
    },
    {
     "data": {
      "application/vnd.jupyter.widget-view+json": {
       "model_id": "",
       "version_major": 2,
       "version_minor": 0
      },
      "text/plain": [
       "HBox(children=(FloatProgress(value=0.0, description='Training', layout=Layout(flex='2'), max=1250.0, style=Pro…"
      ]
     },
     "metadata": {},
     "output_type": "display_data"
    },
    {
     "name": "stdout",
     "output_type": "stream",
     "text": [
      "Epoch 1740: train=8.12603, val=8.35443, took 25.863 s\n",
      "  Validation Found 51106 of 54504, added 2166 (eff 93.77%) (0.217 FP/event)\n"
     ]
    },
    {
     "data": {
      "application/vnd.jupyter.widget-view+json": {
       "model_id": "",
       "version_major": 2,
       "version_minor": 0
      },
      "text/plain": [
       "HBox(children=(FloatProgress(value=0.0, description='Training', layout=Layout(flex='2'), max=1250.0, style=Pro…"
      ]
     },
     "metadata": {},
     "output_type": "display_data"
    },
    {
     "name": "stdout",
     "output_type": "stream",
     "text": [
      "Epoch 1741: train=8.11701, val=8.22064, took 25.825 s\n",
      "  Validation Found 51159 of 54504, added 2349 (eff 93.86%) (0.235 FP/event)\n"
     ]
    },
    {
     "data": {
      "application/vnd.jupyter.widget-view+json": {
       "model_id": "",
       "version_major": 2,
       "version_minor": 0
      },
      "text/plain": [
       "HBox(children=(FloatProgress(value=0.0, description='Training', layout=Layout(flex='2'), max=1250.0, style=Pro…"
      ]
     },
     "metadata": {},
     "output_type": "display_data"
    },
    {
     "name": "stdout",
     "output_type": "stream",
     "text": [
      "Epoch 1742: train=8.11751, val=8.36259, took 25.873 s\n",
      "  Validation Found 50979 of 54504, added 2141 (eff 93.53%) (0.214 FP/event)\n"
     ]
    },
    {
     "data": {
      "application/vnd.jupyter.widget-view+json": {
       "model_id": "",
       "version_major": 2,
       "version_minor": 0
      },
      "text/plain": [
       "HBox(children=(FloatProgress(value=0.0, description='Training', layout=Layout(flex='2'), max=1250.0, style=Pro…"
      ]
     },
     "metadata": {},
     "output_type": "display_data"
    },
    {
     "name": "stdout",
     "output_type": "stream",
     "text": [
      "Epoch 1743: train=8.11347, val=8.26375, took 25.887 s\n",
      "  Validation Found 51117 of 54504, added 2113 (eff 93.79%) (0.212 FP/event)\n"
     ]
    },
    {
     "data": {
      "application/vnd.jupyter.widget-view+json": {
       "model_id": "",
       "version_major": 2,
       "version_minor": 0
      },
      "text/plain": [
       "HBox(children=(FloatProgress(value=0.0, description='Training', layout=Layout(flex='2'), max=1250.0, style=Pro…"
      ]
     },
     "metadata": {},
     "output_type": "display_data"
    },
    {
     "name": "stdout",
     "output_type": "stream",
     "text": [
      "Epoch 1744: train=8.12266, val=8.20901, took 25.805 s\n",
      "  Validation Found 51184 of 54504, added 2252 (eff 93.91%) (0.226 FP/event)\n"
     ]
    },
    {
     "data": {
      "application/vnd.jupyter.widget-view+json": {
       "model_id": "",
       "version_major": 2,
       "version_minor": 0
      },
      "text/plain": [
       "HBox(children=(FloatProgress(value=0.0, description='Training', layout=Layout(flex='2'), max=1250.0, style=Pro…"
      ]
     },
     "metadata": {},
     "output_type": "display_data"
    },
    {
     "name": "stdout",
     "output_type": "stream",
     "text": [
      "Epoch 1745: train=8.11729, val=8.3679, took 25.855 s\n",
      "  Validation Found 51009 of 54504, added 1973 (eff 93.59%) (0.198 FP/event)\n"
     ]
    },
    {
     "data": {
      "application/vnd.jupyter.widget-view+json": {
       "model_id": "",
       "version_major": 2,
       "version_minor": 0
      },
      "text/plain": [
       "HBox(children=(FloatProgress(value=0.0, description='Training', layout=Layout(flex='2'), max=1250.0, style=Pro…"
      ]
     },
     "metadata": {},
     "output_type": "display_data"
    },
    {
     "name": "stdout",
     "output_type": "stream",
     "text": [
      "Epoch 1746: train=8.11179, val=8.23526, took 25.88 s\n",
      "  Validation Found 51181 of 54504, added 2258 (eff 93.90%) (0.226 FP/event)\n"
     ]
    },
    {
     "data": {
      "application/vnd.jupyter.widget-view+json": {
       "model_id": "",
       "version_major": 2,
       "version_minor": 0
      },
      "text/plain": [
       "HBox(children=(FloatProgress(value=0.0, description='Training', layout=Layout(flex='2'), max=1250.0, style=Pro…"
      ]
     },
     "metadata": {},
     "output_type": "display_data"
    },
    {
     "name": "stdout",
     "output_type": "stream",
     "text": [
      "Epoch 1747: train=8.11508, val=8.3137, took 25.905 s\n",
      "  Validation Found 50943 of 54504, added 1912 (eff 93.47%) (0.191 FP/event)\n"
     ]
    },
    {
     "data": {
      "application/vnd.jupyter.widget-view+json": {
       "model_id": "",
       "version_major": 2,
       "version_minor": 0
      },
      "text/plain": [
       "HBox(children=(FloatProgress(value=0.0, description='Training', layout=Layout(flex='2'), max=1250.0, style=Pro…"
      ]
     },
     "metadata": {},
     "output_type": "display_data"
    },
    {
     "name": "stdout",
     "output_type": "stream",
     "text": [
      "Epoch 1748: train=8.12336, val=8.29227, took 25.789 s\n",
      "  Validation Found 51036 of 54504, added 2001 (eff 93.64%) (0.2 FP/event)\n"
     ]
    },
    {
     "data": {
      "application/vnd.jupyter.widget-view+json": {
       "model_id": "",
       "version_major": 2,
       "version_minor": 0
      },
      "text/plain": [
       "HBox(children=(FloatProgress(value=0.0, description='Training', layout=Layout(flex='2'), max=1250.0, style=Pro…"
      ]
     },
     "metadata": {},
     "output_type": "display_data"
    },
    {
     "name": "stdout",
     "output_type": "stream",
     "text": [
      "Epoch 1749: train=8.1206, val=8.21567, took 25.806 s\n",
      "  Validation Found 51038 of 54504, added 2029 (eff 93.64%) (0.203 FP/event)\n"
     ]
    },
    {
     "data": {
      "application/vnd.jupyter.widget-view+json": {
       "model_id": "",
       "version_major": 2,
       "version_minor": 0
      },
      "text/plain": [
       "HBox(children=(FloatProgress(value=0.0, description='Training', layout=Layout(flex='2'), max=1250.0, style=Pro…"
      ]
     },
     "metadata": {},
     "output_type": "display_data"
    },
    {
     "name": "stdout",
     "output_type": "stream",
     "text": [
      "Epoch 1750: train=8.11475, val=8.33807, took 25.802 s\n",
      "  Validation Found 50966 of 54504, added 1962 (eff 93.51%) (0.196 FP/event)\n"
     ]
    },
    {
     "data": {
      "application/vnd.jupyter.widget-view+json": {
       "model_id": "",
       "version_major": 2,
       "version_minor": 0
      },
      "text/plain": [
       "HBox(children=(FloatProgress(value=0.0, description='Training', layout=Layout(flex='2'), max=1250.0, style=Pro…"
      ]
     },
     "metadata": {},
     "output_type": "display_data"
    },
    {
     "name": "stdout",
     "output_type": "stream",
     "text": [
      "Epoch 1751: train=8.12619, val=8.27481, took 25.886 s\n",
      "  Validation Found 51079 of 54504, added 2202 (eff 93.72%) (0.221 FP/event)\n"
     ]
    },
    {
     "data": {
      "application/vnd.jupyter.widget-view+json": {
       "model_id": "",
       "version_major": 2,
       "version_minor": 0
      },
      "text/plain": [
       "HBox(children=(FloatProgress(value=0.0, description='Training', layout=Layout(flex='2'), max=1250.0, style=Pro…"
      ]
     },
     "metadata": {},
     "output_type": "display_data"
    },
    {
     "name": "stdout",
     "output_type": "stream",
     "text": [
      "Epoch 1752: train=8.11741, val=8.28364, took 25.851 s\n",
      "  Validation Found 51014 of 54504, added 1971 (eff 93.60%) (0.197 FP/event)\n"
     ]
    },
    {
     "data": {
      "application/vnd.jupyter.widget-view+json": {
       "model_id": "",
       "version_major": 2,
       "version_minor": 0
      },
      "text/plain": [
       "HBox(children=(FloatProgress(value=0.0, description='Training', layout=Layout(flex='2'), max=1250.0, style=Pro…"
      ]
     },
     "metadata": {},
     "output_type": "display_data"
    },
    {
     "name": "stdout",
     "output_type": "stream",
     "text": [
      "Epoch 1753: train=8.1151, val=8.15487, took 26.128 s\n",
      "  Validation Found 51265 of 54504, added 2461 (eff 94.06%) (0.246 FP/event)\n"
     ]
    },
    {
     "data": {
      "application/vnd.jupyter.widget-view+json": {
       "model_id": "",
       "version_major": 2,
       "version_minor": 0
      },
      "text/plain": [
       "HBox(children=(FloatProgress(value=0.0, description='Training', layout=Layout(flex='2'), max=1250.0, style=Pro…"
      ]
     },
     "metadata": {},
     "output_type": "display_data"
    },
    {
     "name": "stdout",
     "output_type": "stream",
     "text": [
      "Epoch 1754: train=8.12298, val=8.35292, took 26.031 s\n",
      "  Validation Found 50898 of 54504, added 1913 (eff 93.38%) (0.192 FP/event)\n"
     ]
    },
    {
     "data": {
      "application/vnd.jupyter.widget-view+json": {
       "model_id": "",
       "version_major": 2,
       "version_minor": 0
      },
      "text/plain": [
       "HBox(children=(FloatProgress(value=0.0, description='Training', layout=Layout(flex='2'), max=1250.0, style=Pro…"
      ]
     },
     "metadata": {},
     "output_type": "display_data"
    },
    {
     "name": "stdout",
     "output_type": "stream",
     "text": [
      "Epoch 1755: train=8.11535, val=8.32764, took 25.974 s\n",
      "  Validation Found 51036 of 54504, added 2026 (eff 93.64%) (0.203 FP/event)\n"
     ]
    },
    {
     "data": {
      "application/vnd.jupyter.widget-view+json": {
       "model_id": "",
       "version_major": 2,
       "version_minor": 0
      },
      "text/plain": [
       "HBox(children=(FloatProgress(value=0.0, description='Training', layout=Layout(flex='2'), max=1250.0, style=Pro…"
      ]
     },
     "metadata": {},
     "output_type": "display_data"
    },
    {
     "name": "stdout",
     "output_type": "stream",
     "text": [
      "Epoch 1756: train=8.1227, val=8.27277, took 25.813 s\n",
      "  Validation Found 51157 of 54504, added 2300 (eff 93.86%) (0.23 FP/event)\n"
     ]
    },
    {
     "data": {
      "application/vnd.jupyter.widget-view+json": {
       "model_id": "",
       "version_major": 2,
       "version_minor": 0
      },
      "text/plain": [
       "HBox(children=(FloatProgress(value=0.0, description='Training', layout=Layout(flex='2'), max=1250.0, style=Pro…"
      ]
     },
     "metadata": {},
     "output_type": "display_data"
    },
    {
     "name": "stdout",
     "output_type": "stream",
     "text": [
      "Epoch 1757: train=8.11433, val=8.33186, took 26.069 s\n",
      "  Validation Found 50991 of 54504, added 1926 (eff 93.55%) (0.193 FP/event)\n"
     ]
    },
    {
     "data": {
      "application/vnd.jupyter.widget-view+json": {
       "model_id": "",
       "version_major": 2,
       "version_minor": 0
      },
      "text/plain": [
       "HBox(children=(FloatProgress(value=0.0, description='Training', layout=Layout(flex='2'), max=1250.0, style=Pro…"
      ]
     },
     "metadata": {},
     "output_type": "display_data"
    },
    {
     "name": "stdout",
     "output_type": "stream",
     "text": [
      "Epoch 1758: train=8.11689, val=8.2149, took 25.957 s\n",
      "  Validation Found 51170 of 54504, added 2291 (eff 93.88%) (0.229 FP/event)\n"
     ]
    },
    {
     "data": {
      "application/vnd.jupyter.widget-view+json": {
       "model_id": "",
       "version_major": 2,
       "version_minor": 0
      },
      "text/plain": [
       "HBox(children=(FloatProgress(value=0.0, description='Training', layout=Layout(flex='2'), max=1250.0, style=Pro…"
      ]
     },
     "metadata": {},
     "output_type": "display_data"
    },
    {
     "name": "stdout",
     "output_type": "stream",
     "text": [
      "Epoch 1759: train=8.11888, val=8.20322, took 25.876 s\n",
      "  Validation Found 51095 of 54504, added 2124 (eff 93.75%) (0.213 FP/event)\n"
     ]
    },
    {
     "data": {
      "application/vnd.jupyter.widget-view+json": {
       "model_id": "",
       "version_major": 2,
       "version_minor": 0
      },
      "text/plain": [
       "HBox(children=(FloatProgress(value=0.0, description='Training', layout=Layout(flex='2'), max=1250.0, style=Pro…"
      ]
     },
     "metadata": {},
     "output_type": "display_data"
    },
    {
     "name": "stdout",
     "output_type": "stream",
     "text": [
      "Epoch 1760: train=8.11855, val=8.27166, took 25.776 s\n",
      "  Validation Found 51184 of 54504, added 2363 (eff 93.91%) (0.237 FP/event)\n"
     ]
    },
    {
     "data": {
      "application/vnd.jupyter.widget-view+json": {
       "model_id": "",
       "version_major": 2,
       "version_minor": 0
      },
      "text/plain": [
       "HBox(children=(FloatProgress(value=0.0, description='Training', layout=Layout(flex='2'), max=1250.0, style=Pro…"
      ]
     },
     "metadata": {},
     "output_type": "display_data"
    },
    {
     "name": "stdout",
     "output_type": "stream",
     "text": [
      "Epoch 1761: train=8.11187, val=8.32757, took 25.806 s\n",
      "  Validation Found 51089 of 54504, added 2208 (eff 93.73%) (0.221 FP/event)\n"
     ]
    },
    {
     "data": {
      "application/vnd.jupyter.widget-view+json": {
       "model_id": "",
       "version_major": 2,
       "version_minor": 0
      },
      "text/plain": [
       "HBox(children=(FloatProgress(value=0.0, description='Training', layout=Layout(flex='2'), max=1250.0, style=Pro…"
      ]
     },
     "metadata": {},
     "output_type": "display_data"
    },
    {
     "name": "stdout",
     "output_type": "stream",
     "text": [
      "Epoch 1762: train=8.11323, val=8.26188, took 25.795 s\n",
      "  Validation Found 50989 of 54504, added 1927 (eff 93.55%) (0.193 FP/event)\n"
     ]
    },
    {
     "data": {
      "application/vnd.jupyter.widget-view+json": {
       "model_id": "",
       "version_major": 2,
       "version_minor": 0
      },
      "text/plain": [
       "HBox(children=(FloatProgress(value=0.0, description='Training', layout=Layout(flex='2'), max=1250.0, style=Pro…"
      ]
     },
     "metadata": {},
     "output_type": "display_data"
    },
    {
     "name": "stdout",
     "output_type": "stream",
     "text": [
      "Epoch 1763: train=8.11928, val=8.24129, took 25.805 s\n",
      "  Validation Found 51104 of 54504, added 2128 (eff 93.76%) (0.213 FP/event)\n"
     ]
    },
    {
     "data": {
      "application/vnd.jupyter.widget-view+json": {
       "model_id": "",
       "version_major": 2,
       "version_minor": 0
      },
      "text/plain": [
       "HBox(children=(FloatProgress(value=0.0, description='Training', layout=Layout(flex='2'), max=1250.0, style=Pro…"
      ]
     },
     "metadata": {},
     "output_type": "display_data"
    },
    {
     "name": "stdout",
     "output_type": "stream",
     "text": [
      "Epoch 1764: train=8.11991, val=8.21255, took 25.797 s\n",
      "  Validation Found 50990 of 54504, added 1982 (eff 93.55%) (0.198 FP/event)\n"
     ]
    },
    {
     "data": {
      "application/vnd.jupyter.widget-view+json": {
       "model_id": "",
       "version_major": 2,
       "version_minor": 0
      },
      "text/plain": [
       "HBox(children=(FloatProgress(value=0.0, description='Training', layout=Layout(flex='2'), max=1250.0, style=Pro…"
      ]
     },
     "metadata": {},
     "output_type": "display_data"
    },
    {
     "name": "stdout",
     "output_type": "stream",
     "text": [
      "Epoch 1765: train=8.11894, val=8.32403, took 25.747 s\n",
      "  Validation Found 51048 of 54504, added 2008 (eff 93.66%) (0.201 FP/event)\n"
     ]
    },
    {
     "data": {
      "application/vnd.jupyter.widget-view+json": {
       "model_id": "",
       "version_major": 2,
       "version_minor": 0
      },
      "text/plain": [
       "HBox(children=(FloatProgress(value=0.0, description='Training', layout=Layout(flex='2'), max=1250.0, style=Pro…"
      ]
     },
     "metadata": {},
     "output_type": "display_data"
    },
    {
     "name": "stdout",
     "output_type": "stream",
     "text": [
      "Epoch 1766: train=8.11876, val=8.39444, took 25.791 s\n",
      "  Validation Found 50850 of 54504, added 1897 (eff 93.30%) (0.19 FP/event)\n"
     ]
    },
    {
     "data": {
      "application/vnd.jupyter.widget-view+json": {
       "model_id": "",
       "version_major": 2,
       "version_minor": 0
      },
      "text/plain": [
       "HBox(children=(FloatProgress(value=0.0, description='Training', layout=Layout(flex='2'), max=1250.0, style=Pro…"
      ]
     },
     "metadata": {},
     "output_type": "display_data"
    },
    {
     "name": "stdout",
     "output_type": "stream",
     "text": [
      "Epoch 1767: train=8.10919, val=8.25423, took 25.818 s\n",
      "  Validation Found 51112 of 54504, added 2047 (eff 93.78%) (0.205 FP/event)\n"
     ]
    },
    {
     "data": {
      "application/vnd.jupyter.widget-view+json": {
       "model_id": "",
       "version_major": 2,
       "version_minor": 0
      },
      "text/plain": [
       "HBox(children=(FloatProgress(value=0.0, description='Training', layout=Layout(flex='2'), max=1250.0, style=Pro…"
      ]
     },
     "metadata": {},
     "output_type": "display_data"
    },
    {
     "name": "stdout",
     "output_type": "stream",
     "text": [
      "Epoch 1768: train=8.11555, val=8.2485, took 25.906 s\n",
      "  Validation Found 51014 of 54504, added 1998 (eff 93.60%) (0.2 FP/event)\n"
     ]
    },
    {
     "data": {
      "application/vnd.jupyter.widget-view+json": {
       "model_id": "",
       "version_major": 2,
       "version_minor": 0
      },
      "text/plain": [
       "HBox(children=(FloatProgress(value=0.0, description='Training', layout=Layout(flex='2'), max=1250.0, style=Pro…"
      ]
     },
     "metadata": {},
     "output_type": "display_data"
    },
    {
     "name": "stdout",
     "output_type": "stream",
     "text": [
      "Epoch 1769: train=8.11317, val=8.30039, took 25.845 s\n",
      "  Validation Found 51132 of 54504, added 2369 (eff 93.81%) (0.237 FP/event)\n"
     ]
    },
    {
     "data": {
      "application/vnd.jupyter.widget-view+json": {
       "model_id": "",
       "version_major": 2,
       "version_minor": 0
      },
      "text/plain": [
       "HBox(children=(FloatProgress(value=0.0, description='Training', layout=Layout(flex='2'), max=1250.0, style=Pro…"
      ]
     },
     "metadata": {},
     "output_type": "display_data"
    },
    {
     "name": "stdout",
     "output_type": "stream",
     "text": [
      "Epoch 1770: train=8.11888, val=8.35003, took 25.873 s\n",
      "  Validation Found 51029 of 54504, added 2212 (eff 93.62%) (0.222 FP/event)\n"
     ]
    },
    {
     "data": {
      "application/vnd.jupyter.widget-view+json": {
       "model_id": "",
       "version_major": 2,
       "version_minor": 0
      },
      "text/plain": [
       "HBox(children=(FloatProgress(value=0.0, description='Training', layout=Layout(flex='2'), max=1250.0, style=Pro…"
      ]
     },
     "metadata": {},
     "output_type": "display_data"
    },
    {
     "name": "stdout",
     "output_type": "stream",
     "text": [
      "Epoch 1771: train=8.12012, val=8.18177, took 25.836 s\n",
      "  Validation Found 51057 of 54504, added 2029 (eff 93.68%) (0.203 FP/event)\n"
     ]
    },
    {
     "data": {
      "application/vnd.jupyter.widget-view+json": {
       "model_id": "",
       "version_major": 2,
       "version_minor": 0
      },
      "text/plain": [
       "HBox(children=(FloatProgress(value=0.0, description='Training', layout=Layout(flex='2'), max=1250.0, style=Pro…"
      ]
     },
     "metadata": {},
     "output_type": "display_data"
    },
    {
     "name": "stdout",
     "output_type": "stream",
     "text": [
      "Epoch 1772: train=8.11645, val=8.28195, took 25.891 s\n",
      "  Validation Found 51129 of 54504, added 2252 (eff 93.81%) (0.226 FP/event)\n"
     ]
    },
    {
     "data": {
      "application/vnd.jupyter.widget-view+json": {
       "model_id": "",
       "version_major": 2,
       "version_minor": 0
      },
      "text/plain": [
       "HBox(children=(FloatProgress(value=0.0, description='Training', layout=Layout(flex='2'), max=1250.0, style=Pro…"
      ]
     },
     "metadata": {},
     "output_type": "display_data"
    },
    {
     "name": "stdout",
     "output_type": "stream",
     "text": [
      "Epoch 1773: train=8.11624, val=8.31174, took 26.049 s\n",
      "  Validation Found 50983 of 54504, added 1994 (eff 93.54%) (0.2 FP/event)\n"
     ]
    },
    {
     "data": {
      "application/vnd.jupyter.widget-view+json": {
       "model_id": "",
       "version_major": 2,
       "version_minor": 0
      },
      "text/plain": [
       "HBox(children=(FloatProgress(value=0.0, description='Training', layout=Layout(flex='2'), max=1250.0, style=Pro…"
      ]
     },
     "metadata": {},
     "output_type": "display_data"
    },
    {
     "name": "stdout",
     "output_type": "stream",
     "text": [
      "Epoch 1774: train=8.11885, val=8.41306, took 25.798 s\n",
      "  Validation Found 50911 of 54504, added 1873 (eff 93.41%) (0.188 FP/event)\n"
     ]
    },
    {
     "data": {
      "application/vnd.jupyter.widget-view+json": {
       "model_id": "",
       "version_major": 2,
       "version_minor": 0
      },
      "text/plain": [
       "HBox(children=(FloatProgress(value=0.0, description='Training', layout=Layout(flex='2'), max=1250.0, style=Pro…"
      ]
     },
     "metadata": {},
     "output_type": "display_data"
    },
    {
     "name": "stdout",
     "output_type": "stream",
     "text": [
      "Epoch 1775: train=8.1205, val=8.27527, took 25.813 s\n",
      "  Validation Found 51144 of 54504, added 2211 (eff 93.84%) (0.221 FP/event)\n"
     ]
    },
    {
     "data": {
      "application/vnd.jupyter.widget-view+json": {
       "model_id": "",
       "version_major": 2,
       "version_minor": 0
      },
      "text/plain": [
       "HBox(children=(FloatProgress(value=0.0, description='Training', layout=Layout(flex='2'), max=1250.0, style=Pro…"
      ]
     },
     "metadata": {},
     "output_type": "display_data"
    },
    {
     "name": "stdout",
     "output_type": "stream",
     "text": [
      "Epoch 1776: train=8.11044, val=8.18561, took 25.951 s\n",
      "  Validation Found 51095 of 54504, added 2043 (eff 93.75%) (0.205 FP/event)\n"
     ]
    },
    {
     "data": {
      "application/vnd.jupyter.widget-view+json": {
       "model_id": "",
       "version_major": 2,
       "version_minor": 0
      },
      "text/plain": [
       "HBox(children=(FloatProgress(value=0.0, description='Training', layout=Layout(flex='2'), max=1250.0, style=Pro…"
      ]
     },
     "metadata": {},
     "output_type": "display_data"
    },
    {
     "name": "stdout",
     "output_type": "stream",
     "text": [
      "Epoch 1777: train=8.11731, val=8.35818, took 25.922 s\n",
      "  Validation Found 50929 of 54504, added 1983 (eff 93.44%) (0.199 FP/event)\n"
     ]
    },
    {
     "data": {
      "application/vnd.jupyter.widget-view+json": {
       "model_id": "",
       "version_major": 2,
       "version_minor": 0
      },
      "text/plain": [
       "HBox(children=(FloatProgress(value=0.0, description='Training', layout=Layout(flex='2'), max=1250.0, style=Pro…"
      ]
     },
     "metadata": {},
     "output_type": "display_data"
    },
    {
     "name": "stdout",
     "output_type": "stream",
     "text": [
      "Epoch 1778: train=8.12047, val=8.28353, took 25.93 s\n",
      "  Validation Found 51126 of 54504, added 2466 (eff 93.80%) (0.247 FP/event)\n"
     ]
    },
    {
     "data": {
      "application/vnd.jupyter.widget-view+json": {
       "model_id": "",
       "version_major": 2,
       "version_minor": 0
      },
      "text/plain": [
       "HBox(children=(FloatProgress(value=0.0, description='Training', layout=Layout(flex='2'), max=1250.0, style=Pro…"
      ]
     },
     "metadata": {},
     "output_type": "display_data"
    },
    {
     "name": "stdout",
     "output_type": "stream",
     "text": [
      "Epoch 1779: train=8.11066, val=8.23794, took 25.882 s\n",
      "  Validation Found 51053 of 54504, added 2115 (eff 93.67%) (0.212 FP/event)\n"
     ]
    },
    {
     "data": {
      "application/vnd.jupyter.widget-view+json": {
       "model_id": "",
       "version_major": 2,
       "version_minor": 0
      },
      "text/plain": [
       "HBox(children=(FloatProgress(value=0.0, description='Training', layout=Layout(flex='2'), max=1250.0, style=Pro…"
      ]
     },
     "metadata": {},
     "output_type": "display_data"
    },
    {
     "name": "stdout",
     "output_type": "stream",
     "text": [
      "Epoch 1780: train=8.11791, val=8.33421, took 25.867 s\n",
      "  Validation Found 50997 of 54504, added 2212 (eff 93.57%) (0.222 FP/event)\n"
     ]
    },
    {
     "data": {
      "application/vnd.jupyter.widget-view+json": {
       "model_id": "",
       "version_major": 2,
       "version_minor": 0
      },
      "text/plain": [
       "HBox(children=(FloatProgress(value=0.0, description='Training', layout=Layout(flex='2'), max=1250.0, style=Pro…"
      ]
     },
     "metadata": {},
     "output_type": "display_data"
    },
    {
     "name": "stdout",
     "output_type": "stream",
     "text": [
      "Epoch 1781: train=8.11962, val=8.27002, took 25.856 s\n",
      "  Validation Found 51068 of 54504, added 2128 (eff 93.70%) (0.213 FP/event)\n"
     ]
    },
    {
     "data": {
      "application/vnd.jupyter.widget-view+json": {
       "model_id": "",
       "version_major": 2,
       "version_minor": 0
      },
      "text/plain": [
       "HBox(children=(FloatProgress(value=0.0, description='Training', layout=Layout(flex='2'), max=1250.0, style=Pro…"
      ]
     },
     "metadata": {},
     "output_type": "display_data"
    },
    {
     "name": "stdout",
     "output_type": "stream",
     "text": [
      "Epoch 1782: train=8.11436, val=8.28348, took 25.781 s\n",
      "  Validation Found 50896 of 54504, added 1845 (eff 93.38%) (0.185 FP/event)\n"
     ]
    },
    {
     "data": {
      "application/vnd.jupyter.widget-view+json": {
       "model_id": "",
       "version_major": 2,
       "version_minor": 0
      },
      "text/plain": [
       "HBox(children=(FloatProgress(value=0.0, description='Training', layout=Layout(flex='2'), max=1250.0, style=Pro…"
      ]
     },
     "metadata": {},
     "output_type": "display_data"
    },
    {
     "name": "stdout",
     "output_type": "stream",
     "text": [
      "Epoch 1783: train=8.11487, val=8.21508, took 25.866 s\n",
      "  Validation Found 51104 of 54504, added 2130 (eff 93.76%) (0.213 FP/event)\n"
     ]
    },
    {
     "data": {
      "application/vnd.jupyter.widget-view+json": {
       "model_id": "",
       "version_major": 2,
       "version_minor": 0
      },
      "text/plain": [
       "HBox(children=(FloatProgress(value=0.0, description='Training', layout=Layout(flex='2'), max=1250.0, style=Pro…"
      ]
     },
     "metadata": {},
     "output_type": "display_data"
    },
    {
     "name": "stdout",
     "output_type": "stream",
     "text": [
      "Epoch 1784: train=8.1192, val=8.2036, took 25.985 s\n",
      "  Validation Found 51150 of 54504, added 2254 (eff 93.85%) (0.226 FP/event)\n"
     ]
    },
    {
     "data": {
      "application/vnd.jupyter.widget-view+json": {
       "model_id": "",
       "version_major": 2,
       "version_minor": 0
      },
      "text/plain": [
       "HBox(children=(FloatProgress(value=0.0, description='Training', layout=Layout(flex='2'), max=1250.0, style=Pro…"
      ]
     },
     "metadata": {},
     "output_type": "display_data"
    },
    {
     "name": "stdout",
     "output_type": "stream",
     "text": [
      "Epoch 1785: train=8.11258, val=8.28959, took 25.897 s\n",
      "  Validation Found 51120 of 54504, added 2340 (eff 93.79%) (0.234 FP/event)\n"
     ]
    },
    {
     "data": {
      "application/vnd.jupyter.widget-view+json": {
       "model_id": "",
       "version_major": 2,
       "version_minor": 0
      },
      "text/plain": [
       "HBox(children=(FloatProgress(value=0.0, description='Training', layout=Layout(flex='2'), max=1250.0, style=Pro…"
      ]
     },
     "metadata": {},
     "output_type": "display_data"
    },
    {
     "name": "stdout",
     "output_type": "stream",
     "text": [
      "Epoch 1786: train=8.10919, val=8.35022, took 25.977 s\n",
      "  Validation Found 50855 of 54504, added 1791 (eff 93.31%) (0.179 FP/event)\n"
     ]
    },
    {
     "data": {
      "application/vnd.jupyter.widget-view+json": {
       "model_id": "",
       "version_major": 2,
       "version_minor": 0
      },
      "text/plain": [
       "HBox(children=(FloatProgress(value=0.0, description='Training', layout=Layout(flex='2'), max=1250.0, style=Pro…"
      ]
     },
     "metadata": {},
     "output_type": "display_data"
    },
    {
     "name": "stdout",
     "output_type": "stream",
     "text": [
      "Epoch 1787: train=8.11848, val=8.27424, took 25.876 s\n",
      "  Validation Found 51026 of 54504, added 1995 (eff 93.62%) (0.2 FP/event)\n"
     ]
    },
    {
     "data": {
      "application/vnd.jupyter.widget-view+json": {
       "model_id": "",
       "version_major": 2,
       "version_minor": 0
      },
      "text/plain": [
       "HBox(children=(FloatProgress(value=0.0, description='Training', layout=Layout(flex='2'), max=1250.0, style=Pro…"
      ]
     },
     "metadata": {},
     "output_type": "display_data"
    },
    {
     "name": "stdout",
     "output_type": "stream",
     "text": [
      "Epoch 1788: train=8.11968, val=8.27634, took 25.869 s\n",
      "  Validation Found 50994 of 54504, added 2048 (eff 93.56%) (0.205 FP/event)\n"
     ]
    },
    {
     "data": {
      "application/vnd.jupyter.widget-view+json": {
       "model_id": "",
       "version_major": 2,
       "version_minor": 0
      },
      "text/plain": [
       "HBox(children=(FloatProgress(value=0.0, description='Training', layout=Layout(flex='2'), max=1250.0, style=Pro…"
      ]
     },
     "metadata": {},
     "output_type": "display_data"
    },
    {
     "name": "stdout",
     "output_type": "stream",
     "text": [
      "Epoch 1789: train=8.11281, val=8.19207, took 25.869 s\n",
      "  Validation Found 51182 of 54504, added 2283 (eff 93.91%) (0.229 FP/event)\n"
     ]
    },
    {
     "data": {
      "application/vnd.jupyter.widget-view+json": {
       "model_id": "",
       "version_major": 2,
       "version_minor": 0
      },
      "text/plain": [
       "HBox(children=(FloatProgress(value=0.0, description='Training', layout=Layout(flex='2'), max=1250.0, style=Pro…"
      ]
     },
     "metadata": {},
     "output_type": "display_data"
    },
    {
     "name": "stdout",
     "output_type": "stream",
     "text": [
      "Epoch 1790: train=8.11783, val=8.24687, took 25.864 s\n",
      "  Validation Found 51158 of 54504, added 2354 (eff 93.86%) (0.236 FP/event)\n"
     ]
    },
    {
     "data": {
      "application/vnd.jupyter.widget-view+json": {
       "model_id": "",
       "version_major": 2,
       "version_minor": 0
      },
      "text/plain": [
       "HBox(children=(FloatProgress(value=0.0, description='Training', layout=Layout(flex='2'), max=1250.0, style=Pro…"
      ]
     },
     "metadata": {},
     "output_type": "display_data"
    },
    {
     "name": "stdout",
     "output_type": "stream",
     "text": [
      "Epoch 1791: train=8.1208, val=8.35515, took 25.909 s\n",
      "  Validation Found 51190 of 54504, added 2685 (eff 93.92%) (0.269 FP/event)\n"
     ]
    },
    {
     "data": {
      "application/vnd.jupyter.widget-view+json": {
       "model_id": "",
       "version_major": 2,
       "version_minor": 0
      },
      "text/plain": [
       "HBox(children=(FloatProgress(value=0.0, description='Training', layout=Layout(flex='2'), max=1250.0, style=Pro…"
      ]
     },
     "metadata": {},
     "output_type": "display_data"
    },
    {
     "name": "stdout",
     "output_type": "stream",
     "text": [
      "Epoch 1792: train=8.10961, val=8.24176, took 25.497 s\n",
      "  Validation Found 51147 of 54504, added 2117 (eff 93.84%) (0.212 FP/event)\n"
     ]
    },
    {
     "data": {
      "application/vnd.jupyter.widget-view+json": {
       "model_id": "",
       "version_major": 2,
       "version_minor": 0
      },
      "text/plain": [
       "HBox(children=(FloatProgress(value=0.0, description='Training', layout=Layout(flex='2'), max=1250.0, style=Pro…"
      ]
     },
     "metadata": {},
     "output_type": "display_data"
    },
    {
     "name": "stdout",
     "output_type": "stream",
     "text": [
      "Epoch 1793: train=8.11819, val=8.33726, took 25.973 s\n",
      "  Validation Found 51096 of 54504, added 2081 (eff 93.75%) (0.208 FP/event)\n"
     ]
    },
    {
     "data": {
      "application/vnd.jupyter.widget-view+json": {
       "model_id": "",
       "version_major": 2,
       "version_minor": 0
      },
      "text/plain": [
       "HBox(children=(FloatProgress(value=0.0, description='Training', layout=Layout(flex='2'), max=1250.0, style=Pro…"
      ]
     },
     "metadata": {},
     "output_type": "display_data"
    },
    {
     "name": "stdout",
     "output_type": "stream",
     "text": [
      "Epoch 1794: train=8.11575, val=8.35739, took 25.885 s\n",
      "  Validation Found 50943 of 54504, added 1932 (eff 93.47%) (0.193 FP/event)\n"
     ]
    },
    {
     "data": {
      "application/vnd.jupyter.widget-view+json": {
       "model_id": "",
       "version_major": 2,
       "version_minor": 0
      },
      "text/plain": [
       "HBox(children=(FloatProgress(value=0.0, description='Training', layout=Layout(flex='2'), max=1250.0, style=Pro…"
      ]
     },
     "metadata": {},
     "output_type": "display_data"
    },
    {
     "name": "stdout",
     "output_type": "stream",
     "text": [
      "Epoch 1795: train=8.115, val=8.32375, took 25.9 s\n",
      "  Validation Found 50867 of 54504, added 1774 (eff 93.33%) (0.178 FP/event)\n"
     ]
    },
    {
     "data": {
      "application/vnd.jupyter.widget-view+json": {
       "model_id": "",
       "version_major": 2,
       "version_minor": 0
      },
      "text/plain": [
       "HBox(children=(FloatProgress(value=0.0, description='Training', layout=Layout(flex='2'), max=1250.0, style=Pro…"
      ]
     },
     "metadata": {},
     "output_type": "display_data"
    },
    {
     "name": "stdout",
     "output_type": "stream",
     "text": [
      "Epoch 1796: train=8.11006, val=8.24484, took 25.942 s\n",
      "  Validation Found 51232 of 54504, added 2507 (eff 94.00%) (0.251 FP/event)\n"
     ]
    },
    {
     "data": {
      "application/vnd.jupyter.widget-view+json": {
       "model_id": "",
       "version_major": 2,
       "version_minor": 0
      },
      "text/plain": [
       "HBox(children=(FloatProgress(value=0.0, description='Training', layout=Layout(flex='2'), max=1250.0, style=Pro…"
      ]
     },
     "metadata": {},
     "output_type": "display_data"
    },
    {
     "name": "stdout",
     "output_type": "stream",
     "text": [
      "Epoch 1797: train=8.11023, val=8.29038, took 25.866 s\n",
      "  Validation Found 51019 of 54504, added 2056 (eff 93.61%) (0.206 FP/event)\n"
     ]
    },
    {
     "data": {
      "application/vnd.jupyter.widget-view+json": {
       "model_id": "",
       "version_major": 2,
       "version_minor": 0
      },
      "text/plain": [
       "HBox(children=(FloatProgress(value=0.0, description='Training', layout=Layout(flex='2'), max=1250.0, style=Pro…"
      ]
     },
     "metadata": {},
     "output_type": "display_data"
    },
    {
     "name": "stdout",
     "output_type": "stream",
     "text": [
      "Epoch 1798: train=8.1204, val=8.33648, took 25.922 s\n",
      "  Validation Found 51075 of 54504, added 2416 (eff 93.71%) (0.242 FP/event)\n"
     ]
    },
    {
     "data": {
      "application/vnd.jupyter.widget-view+json": {
       "model_id": "",
       "version_major": 2,
       "version_minor": 0
      },
      "text/plain": [
       "HBox(children=(FloatProgress(value=0.0, description='Training', layout=Layout(flex='2'), max=1250.0, style=Pro…"
      ]
     },
     "metadata": {},
     "output_type": "display_data"
    },
    {
     "name": "stdout",
     "output_type": "stream",
     "text": [
      "Epoch 1799: train=8.10967, val=8.2636, took 25.752 s\n",
      "  Validation Found 51159 of 54504, added 2433 (eff 93.86%) (0.244 FP/event)\n"
     ]
    },
    {
     "data": {
      "application/vnd.jupyter.widget-view+json": {
       "model_id": "",
       "version_major": 2,
       "version_minor": 0
      },
      "text/plain": [
       "HBox(children=(FloatProgress(value=0.0, description='Training', layout=Layout(flex='2'), max=1250.0, style=Pro…"
      ]
     },
     "metadata": {},
     "output_type": "display_data"
    },
    {
     "name": "stdout",
     "output_type": "stream",
     "text": [
      "Epoch 1800: train=8.11706, val=8.21483, took 25.883 s\n",
      "  Validation Found 51151 of 54504, added 2230 (eff 93.85%) (0.223 FP/event)\n"
     ]
    },
    {
     "data": {
      "application/vnd.jupyter.widget-view+json": {
       "model_id": "",
       "version_major": 2,
       "version_minor": 0
      },
      "text/plain": [
       "HBox(children=(FloatProgress(value=0.0, description='Training', layout=Layout(flex='2'), max=1250.0, style=Pro…"
      ]
     },
     "metadata": {},
     "output_type": "display_data"
    },
    {
     "name": "stdout",
     "output_type": "stream",
     "text": [
      "Epoch 1801: train=8.11683, val=8.36955, took 25.864 s\n",
      "  Validation Found 50881 of 54504, added 1833 (eff 93.35%) (0.184 FP/event)\n"
     ]
    },
    {
     "data": {
      "application/vnd.jupyter.widget-view+json": {
       "model_id": "",
       "version_major": 2,
       "version_minor": 0
      },
      "text/plain": [
       "HBox(children=(FloatProgress(value=0.0, description='Training', layout=Layout(flex='2'), max=1250.0, style=Pro…"
      ]
     },
     "metadata": {},
     "output_type": "display_data"
    },
    {
     "name": "stdout",
     "output_type": "stream",
     "text": [
      "Epoch 1802: train=8.11677, val=8.29091, took 25.85 s\n",
      "  Validation Found 51105 of 54504, added 2214 (eff 93.76%) (0.222 FP/event)\n"
     ]
    },
    {
     "data": {
      "application/vnd.jupyter.widget-view+json": {
       "model_id": "",
       "version_major": 2,
       "version_minor": 0
      },
      "text/plain": [
       "HBox(children=(FloatProgress(value=0.0, description='Training', layout=Layout(flex='2'), max=1250.0, style=Pro…"
      ]
     },
     "metadata": {},
     "output_type": "display_data"
    },
    {
     "name": "stdout",
     "output_type": "stream",
     "text": [
      "Epoch 1803: train=8.11325, val=8.23187, took 25.858 s\n",
      "  Validation Found 51111 of 54504, added 2087 (eff 93.77%) (0.209 FP/event)\n"
     ]
    },
    {
     "data": {
      "application/vnd.jupyter.widget-view+json": {
       "model_id": "",
       "version_major": 2,
       "version_minor": 0
      },
      "text/plain": [
       "HBox(children=(FloatProgress(value=0.0, description='Training', layout=Layout(flex='2'), max=1250.0, style=Pro…"
      ]
     },
     "metadata": {},
     "output_type": "display_data"
    },
    {
     "name": "stdout",
     "output_type": "stream",
     "text": [
      "Epoch 1804: train=8.11216, val=8.26851, took 25.878 s\n",
      "  Validation Found 51391 of 54504, added 3059 (eff 94.29%) (0.306 FP/event)\n"
     ]
    },
    {
     "data": {
      "application/vnd.jupyter.widget-view+json": {
       "model_id": "",
       "version_major": 2,
       "version_minor": 0
      },
      "text/plain": [
       "HBox(children=(FloatProgress(value=0.0, description='Training', layout=Layout(flex='2'), max=1250.0, style=Pro…"
      ]
     },
     "metadata": {},
     "output_type": "display_data"
    },
    {
     "name": "stdout",
     "output_type": "stream",
     "text": [
      "Epoch 1805: train=8.11139, val=8.26597, took 26.018 s\n",
      "  Validation Found 51051 of 54504, added 2102 (eff 93.66%) (0.211 FP/event)\n"
     ]
    },
    {
     "data": {
      "application/vnd.jupyter.widget-view+json": {
       "model_id": "",
       "version_major": 2,
       "version_minor": 0
      },
      "text/plain": [
       "HBox(children=(FloatProgress(value=0.0, description='Training', layout=Layout(flex='2'), max=1250.0, style=Pro…"
      ]
     },
     "metadata": {},
     "output_type": "display_data"
    },
    {
     "name": "stdout",
     "output_type": "stream",
     "text": [
      "Epoch 1806: train=8.11706, val=8.2767, took 25.92 s\n",
      "  Validation Found 50983 of 54504, added 1917 (eff 93.54%) (0.192 FP/event)\n"
     ]
    },
    {
     "data": {
      "application/vnd.jupyter.widget-view+json": {
       "model_id": "",
       "version_major": 2,
       "version_minor": 0
      },
      "text/plain": [
       "HBox(children=(FloatProgress(value=0.0, description='Training', layout=Layout(flex='2'), max=1250.0, style=Pro…"
      ]
     },
     "metadata": {},
     "output_type": "display_data"
    },
    {
     "name": "stdout",
     "output_type": "stream",
     "text": [
      "Epoch 1807: train=8.11292, val=8.28172, took 26.03 s\n",
      "  Validation Found 51140 of 54504, added 2411 (eff 93.83%) (0.241 FP/event)\n"
     ]
    },
    {
     "data": {
      "application/vnd.jupyter.widget-view+json": {
       "model_id": "",
       "version_major": 2,
       "version_minor": 0
      },
      "text/plain": [
       "HBox(children=(FloatProgress(value=0.0, description='Training', layout=Layout(flex='2'), max=1250.0, style=Pro…"
      ]
     },
     "metadata": {},
     "output_type": "display_data"
    },
    {
     "name": "stdout",
     "output_type": "stream",
     "text": [
      "Epoch 1808: train=8.11605, val=8.21104, took 25.992 s\n",
      "  Validation Found 51228 of 54504, added 2392 (eff 93.99%) (0.24 FP/event)\n"
     ]
    },
    {
     "data": {
      "application/vnd.jupyter.widget-view+json": {
       "model_id": "",
       "version_major": 2,
       "version_minor": 0
      },
      "text/plain": [
       "HBox(children=(FloatProgress(value=0.0, description='Training', layout=Layout(flex='2'), max=1250.0, style=Pro…"
      ]
     },
     "metadata": {},
     "output_type": "display_data"
    },
    {
     "name": "stdout",
     "output_type": "stream",
     "text": [
      "Epoch 1809: train=8.12349, val=8.46935, took 26.074 s\n",
      "  Validation Found 50681 of 54504, added 1566 (eff 92.99%) (0.157 FP/event)\n"
     ]
    },
    {
     "data": {
      "application/vnd.jupyter.widget-view+json": {
       "model_id": "",
       "version_major": 2,
       "version_minor": 0
      },
      "text/plain": [
       "HBox(children=(FloatProgress(value=0.0, description='Training', layout=Layout(flex='2'), max=1250.0, style=Pro…"
      ]
     },
     "metadata": {},
     "output_type": "display_data"
    },
    {
     "name": "stdout",
     "output_type": "stream",
     "text": [
      "Epoch 1810: train=8.10863, val=8.37095, took 25.981 s\n",
      "  Validation Found 50966 of 54504, added 2041 (eff 93.51%) (0.204 FP/event)\n"
     ]
    },
    {
     "data": {
      "application/vnd.jupyter.widget-view+json": {
       "model_id": "",
       "version_major": 2,
       "version_minor": 0
      },
      "text/plain": [
       "HBox(children=(FloatProgress(value=0.0, description='Training', layout=Layout(flex='2'), max=1250.0, style=Pro…"
      ]
     },
     "metadata": {},
     "output_type": "display_data"
    },
    {
     "name": "stdout",
     "output_type": "stream",
     "text": [
      "Epoch 1811: train=8.1173, val=8.28795, took 25.895 s\n",
      "  Validation Found 51119 of 54504, added 2435 (eff 93.79%) (0.244 FP/event)\n"
     ]
    },
    {
     "data": {
      "application/vnd.jupyter.widget-view+json": {
       "model_id": "",
       "version_major": 2,
       "version_minor": 0
      },
      "text/plain": [
       "HBox(children=(FloatProgress(value=0.0, description='Training', layout=Layout(flex='2'), max=1250.0, style=Pro…"
      ]
     },
     "metadata": {},
     "output_type": "display_data"
    },
    {
     "name": "stdout",
     "output_type": "stream",
     "text": [
      "Epoch 1812: train=8.12161, val=8.2388, took 25.889 s\n",
      "  Validation Found 51106 of 54504, added 2181 (eff 93.77%) (0.218 FP/event)\n"
     ]
    },
    {
     "data": {
      "application/vnd.jupyter.widget-view+json": {
       "model_id": "",
       "version_major": 2,
       "version_minor": 0
      },
      "text/plain": [
       "HBox(children=(FloatProgress(value=0.0, description='Training', layout=Layout(flex='2'), max=1250.0, style=Pro…"
      ]
     },
     "metadata": {},
     "output_type": "display_data"
    },
    {
     "name": "stdout",
     "output_type": "stream",
     "text": [
      "Epoch 1813: train=8.11076, val=8.23652, took 25.895 s\n",
      "  Validation Found 51037 of 54504, added 2033 (eff 93.64%) (0.204 FP/event)\n"
     ]
    },
    {
     "data": {
      "application/vnd.jupyter.widget-view+json": {
       "model_id": "",
       "version_major": 2,
       "version_minor": 0
      },
      "text/plain": [
       "HBox(children=(FloatProgress(value=0.0, description='Training', layout=Layout(flex='2'), max=1250.0, style=Pro…"
      ]
     },
     "metadata": {},
     "output_type": "display_data"
    },
    {
     "name": "stdout",
     "output_type": "stream",
     "text": [
      "Epoch 1814: train=8.11742, val=8.30111, took 26.29 s\n",
      "  Validation Found 51054 of 54504, added 2018 (eff 93.67%) (0.202 FP/event)\n"
     ]
    },
    {
     "data": {
      "application/vnd.jupyter.widget-view+json": {
       "model_id": "",
       "version_major": 2,
       "version_minor": 0
      },
      "text/plain": [
       "HBox(children=(FloatProgress(value=0.0, description='Training', layout=Layout(flex='2'), max=1250.0, style=Pro…"
      ]
     },
     "metadata": {},
     "output_type": "display_data"
    },
    {
     "name": "stdout",
     "output_type": "stream",
     "text": [
      "Epoch 1815: train=8.11261, val=8.20667, took 25.917 s\n",
      "  Validation Found 51208 of 54504, added 2375 (eff 93.95%) (0.238 FP/event)\n"
     ]
    },
    {
     "data": {
      "application/vnd.jupyter.widget-view+json": {
       "model_id": "",
       "version_major": 2,
       "version_minor": 0
      },
      "text/plain": [
       "HBox(children=(FloatProgress(value=0.0, description='Training', layout=Layout(flex='2'), max=1250.0, style=Pro…"
      ]
     },
     "metadata": {},
     "output_type": "display_data"
    },
    {
     "name": "stdout",
     "output_type": "stream",
     "text": [
      "Epoch 1816: train=8.10454, val=8.21429, took 25.896 s\n",
      "  Validation Found 51226 of 54504, added 2492 (eff 93.99%) (0.25 FP/event)\n"
     ]
    },
    {
     "data": {
      "application/vnd.jupyter.widget-view+json": {
       "model_id": "",
       "version_major": 2,
       "version_minor": 0
      },
      "text/plain": [
       "HBox(children=(FloatProgress(value=0.0, description='Training', layout=Layout(flex='2'), max=1250.0, style=Pro…"
      ]
     },
     "metadata": {},
     "output_type": "display_data"
    },
    {
     "name": "stdout",
     "output_type": "stream",
     "text": [
      "Epoch 1817: train=8.11462, val=8.31818, took 25.921 s\n",
      "  Validation Found 50980 of 54504, added 1950 (eff 93.53%) (0.195 FP/event)\n"
     ]
    },
    {
     "data": {
      "application/vnd.jupyter.widget-view+json": {
       "model_id": "",
       "version_major": 2,
       "version_minor": 0
      },
      "text/plain": [
       "HBox(children=(FloatProgress(value=0.0, description='Training', layout=Layout(flex='2'), max=1250.0, style=Pro…"
      ]
     },
     "metadata": {},
     "output_type": "display_data"
    },
    {
     "name": "stdout",
     "output_type": "stream",
     "text": [
      "Epoch 1818: train=8.1246, val=8.44394, took 26.04 s\n",
      "  Validation Found 51281 of 54504, added 2872 (eff 94.09%) (0.288 FP/event)\n"
     ]
    },
    {
     "data": {
      "application/vnd.jupyter.widget-view+json": {
       "model_id": "",
       "version_major": 2,
       "version_minor": 0
      },
      "text/plain": [
       "HBox(children=(FloatProgress(value=0.0, description='Training', layout=Layout(flex='2'), max=1250.0, style=Pro…"
      ]
     },
     "metadata": {},
     "output_type": "display_data"
    },
    {
     "name": "stdout",
     "output_type": "stream",
     "text": [
      "Epoch 1819: train=8.11272, val=8.34046, took 25.872 s\n",
      "  Validation Found 51072 of 54504, added 2154 (eff 93.70%) (0.216 FP/event)\n"
     ]
    },
    {
     "data": {
      "application/vnd.jupyter.widget-view+json": {
       "model_id": "",
       "version_major": 2,
       "version_minor": 0
      },
      "text/plain": [
       "HBox(children=(FloatProgress(value=0.0, description='Training', layout=Layout(flex='2'), max=1250.0, style=Pro…"
      ]
     },
     "metadata": {},
     "output_type": "display_data"
    },
    {
     "name": "stdout",
     "output_type": "stream",
     "text": [
      "Epoch 1820: train=8.11413, val=8.28868, took 25.882 s\n",
      "  Validation Found 51201 of 54504, added 2361 (eff 93.94%) (0.236 FP/event)\n"
     ]
    },
    {
     "data": {
      "application/vnd.jupyter.widget-view+json": {
       "model_id": "",
       "version_major": 2,
       "version_minor": 0
      },
      "text/plain": [
       "HBox(children=(FloatProgress(value=0.0, description='Training', layout=Layout(flex='2'), max=1250.0, style=Pro…"
      ]
     },
     "metadata": {},
     "output_type": "display_data"
    },
    {
     "name": "stdout",
     "output_type": "stream",
     "text": [
      "Epoch 1821: train=8.10827, val=8.32487, took 25.99 s\n",
      "  Validation Found 51059 of 54504, added 2064 (eff 93.68%) (0.207 FP/event)\n"
     ]
    },
    {
     "data": {
      "application/vnd.jupyter.widget-view+json": {
       "model_id": "",
       "version_major": 2,
       "version_minor": 0
      },
      "text/plain": [
       "HBox(children=(FloatProgress(value=0.0, description='Training', layout=Layout(flex='2'), max=1250.0, style=Pro…"
      ]
     },
     "metadata": {},
     "output_type": "display_data"
    },
    {
     "name": "stdout",
     "output_type": "stream",
     "text": [
      "Epoch 1822: train=8.11565, val=8.28922, took 25.904 s\n",
      "  Validation Found 51136 of 54504, added 2186 (eff 93.82%) (0.219 FP/event)\n"
     ]
    },
    {
     "data": {
      "application/vnd.jupyter.widget-view+json": {
       "model_id": "",
       "version_major": 2,
       "version_minor": 0
      },
      "text/plain": [
       "HBox(children=(FloatProgress(value=0.0, description='Training', layout=Layout(flex='2'), max=1250.0, style=Pro…"
      ]
     },
     "metadata": {},
     "output_type": "display_data"
    },
    {
     "name": "stdout",
     "output_type": "stream",
     "text": [
      "Epoch 1823: train=8.11934, val=8.37517, took 25.882 s\n",
      "  Validation Found 50925 of 54504, added 1952 (eff 93.43%) (0.195 FP/event)\n"
     ]
    },
    {
     "data": {
      "application/vnd.jupyter.widget-view+json": {
       "model_id": "",
       "version_major": 2,
       "version_minor": 0
      },
      "text/plain": [
       "HBox(children=(FloatProgress(value=0.0, description='Training', layout=Layout(flex='2'), max=1250.0, style=Pro…"
      ]
     },
     "metadata": {},
     "output_type": "display_data"
    },
    {
     "name": "stdout",
     "output_type": "stream",
     "text": [
      "Epoch 1824: train=8.10685, val=8.33893, took 26.03 s\n",
      "  Validation Found 51003 of 54504, added 2050 (eff 93.58%) (0.205 FP/event)\n"
     ]
    },
    {
     "data": {
      "application/vnd.jupyter.widget-view+json": {
       "model_id": "",
       "version_major": 2,
       "version_minor": 0
      },
      "text/plain": [
       "HBox(children=(FloatProgress(value=0.0, description='Training', layout=Layout(flex='2'), max=1250.0, style=Pro…"
      ]
     },
     "metadata": {},
     "output_type": "display_data"
    },
    {
     "name": "stdout",
     "output_type": "stream",
     "text": [
      "Epoch 1825: train=8.11235, val=8.39976, took 26.014 s\n",
      "  Validation Found 51118 of 54504, added 2361 (eff 93.79%) (0.236 FP/event)\n"
     ]
    },
    {
     "data": {
      "application/vnd.jupyter.widget-view+json": {
       "model_id": "",
       "version_major": 2,
       "version_minor": 0
      },
      "text/plain": [
       "HBox(children=(FloatProgress(value=0.0, description='Training', layout=Layout(flex='2'), max=1250.0, style=Pro…"
      ]
     },
     "metadata": {},
     "output_type": "display_data"
    },
    {
     "name": "stdout",
     "output_type": "stream",
     "text": [
      "Epoch 1826: train=8.12438, val=8.25206, took 25.86 s\n",
      "  Validation Found 51247 of 54504, added 2349 (eff 94.02%) (0.235 FP/event)\n"
     ]
    },
    {
     "data": {
      "application/vnd.jupyter.widget-view+json": {
       "model_id": "",
       "version_major": 2,
       "version_minor": 0
      },
      "text/plain": [
       "HBox(children=(FloatProgress(value=0.0, description='Training', layout=Layout(flex='2'), max=1250.0, style=Pro…"
      ]
     },
     "metadata": {},
     "output_type": "display_data"
    },
    {
     "name": "stdout",
     "output_type": "stream",
     "text": [
      "Epoch 1827: train=8.1128, val=8.38925, took 26.342 s\n",
      "  Validation Found 51124 of 54504, added 2555 (eff 93.80%) (0.256 FP/event)\n"
     ]
    },
    {
     "data": {
      "application/vnd.jupyter.widget-view+json": {
       "model_id": "",
       "version_major": 2,
       "version_minor": 0
      },
      "text/plain": [
       "HBox(children=(FloatProgress(value=0.0, description='Training', layout=Layout(flex='2'), max=1250.0, style=Pro…"
      ]
     },
     "metadata": {},
     "output_type": "display_data"
    },
    {
     "name": "stdout",
     "output_type": "stream",
     "text": [
      "Epoch 1828: train=8.11172, val=8.31492, took 26.066 s\n",
      "  Validation Found 50857 of 54504, added 1775 (eff 93.31%) (0.178 FP/event)\n"
     ]
    },
    {
     "data": {
      "application/vnd.jupyter.widget-view+json": {
       "model_id": "",
       "version_major": 2,
       "version_minor": 0
      },
      "text/plain": [
       "HBox(children=(FloatProgress(value=0.0, description='Training', layout=Layout(flex='2'), max=1250.0, style=Pro…"
      ]
     },
     "metadata": {},
     "output_type": "display_data"
    },
    {
     "name": "stdout",
     "output_type": "stream",
     "text": [
      "Epoch 1829: train=8.11496, val=8.17337, took 26.077 s\n",
      "  Validation Found 51166 of 54504, added 2313 (eff 93.88%) (0.232 FP/event)\n"
     ]
    },
    {
     "data": {
      "application/vnd.jupyter.widget-view+json": {
       "model_id": "",
       "version_major": 2,
       "version_minor": 0
      },
      "text/plain": [
       "HBox(children=(FloatProgress(value=0.0, description='Training', layout=Layout(flex='2'), max=1250.0, style=Pro…"
      ]
     },
     "metadata": {},
     "output_type": "display_data"
    },
    {
     "name": "stdout",
     "output_type": "stream",
     "text": [
      "Epoch 1830: train=8.11384, val=8.35561, took 25.847 s\n",
      "  Validation Found 50947 of 54504, added 1930 (eff 93.47%) (0.193 FP/event)\n"
     ]
    },
    {
     "data": {
      "application/vnd.jupyter.widget-view+json": {
       "model_id": "",
       "version_major": 2,
       "version_minor": 0
      },
      "text/plain": [
       "HBox(children=(FloatProgress(value=0.0, description='Training', layout=Layout(flex='2'), max=1250.0, style=Pro…"
      ]
     },
     "metadata": {},
     "output_type": "display_data"
    },
    {
     "name": "stdout",
     "output_type": "stream",
     "text": [
      "Epoch 1831: train=8.1092, val=8.32119, took 26.028 s\n",
      "  Validation Found 50887 of 54504, added 1743 (eff 93.36%) (0.175 FP/event)\n"
     ]
    },
    {
     "data": {
      "application/vnd.jupyter.widget-view+json": {
       "model_id": "",
       "version_major": 2,
       "version_minor": 0
      },
      "text/plain": [
       "HBox(children=(FloatProgress(value=0.0, description='Training', layout=Layout(flex='2'), max=1250.0, style=Pro…"
      ]
     },
     "metadata": {},
     "output_type": "display_data"
    },
    {
     "name": "stdout",
     "output_type": "stream",
     "text": [
      "Epoch 1832: train=8.12459, val=8.30282, took 26.098 s\n",
      "  Validation Found 51095 of 54504, added 2201 (eff 93.75%) (0.22 FP/event)\n"
     ]
    },
    {
     "data": {
      "application/vnd.jupyter.widget-view+json": {
       "model_id": "",
       "version_major": 2,
       "version_minor": 0
      },
      "text/plain": [
       "HBox(children=(FloatProgress(value=0.0, description='Training', layout=Layout(flex='2'), max=1250.0, style=Pro…"
      ]
     },
     "metadata": {},
     "output_type": "display_data"
    },
    {
     "name": "stdout",
     "output_type": "stream",
     "text": [
      "Epoch 1833: train=8.11527, val=8.26607, took 26.212 s\n",
      "  Validation Found 51014 of 54504, added 2030 (eff 93.60%) (0.203 FP/event)\n"
     ]
    },
    {
     "data": {
      "application/vnd.jupyter.widget-view+json": {
       "model_id": "",
       "version_major": 2,
       "version_minor": 0
      },
      "text/plain": [
       "HBox(children=(FloatProgress(value=0.0, description='Training', layout=Layout(flex='2'), max=1250.0, style=Pro…"
      ]
     },
     "metadata": {},
     "output_type": "display_data"
    },
    {
     "name": "stdout",
     "output_type": "stream",
     "text": [
      "Epoch 1834: train=8.1132, val=8.34815, took 26.0 s\n",
      "  Validation Found 51191 of 54504, added 2370 (eff 93.92%) (0.237 FP/event)\n"
     ]
    },
    {
     "data": {
      "application/vnd.jupyter.widget-view+json": {
       "model_id": "",
       "version_major": 2,
       "version_minor": 0
      },
      "text/plain": [
       "HBox(children=(FloatProgress(value=0.0, description='Training', layout=Layout(flex='2'), max=1250.0, style=Pro…"
      ]
     },
     "metadata": {},
     "output_type": "display_data"
    },
    {
     "name": "stdout",
     "output_type": "stream",
     "text": [
      "Epoch 1835: train=8.1119, val=8.36375, took 25.88 s\n",
      "  Validation Found 50985 of 54504, added 1948 (eff 93.54%) (0.195 FP/event)\n"
     ]
    },
    {
     "data": {
      "application/vnd.jupyter.widget-view+json": {
       "model_id": "",
       "version_major": 2,
       "version_minor": 0
      },
      "text/plain": [
       "HBox(children=(FloatProgress(value=0.0, description='Training', layout=Layout(flex='2'), max=1250.0, style=Pro…"
      ]
     },
     "metadata": {},
     "output_type": "display_data"
    },
    {
     "name": "stdout",
     "output_type": "stream",
     "text": [
      "Epoch 1836: train=8.11673, val=8.36362, took 26.221 s\n",
      "  Validation Found 50805 of 54504, added 1744 (eff 93.21%) (0.175 FP/event)\n"
     ]
    },
    {
     "data": {
      "application/vnd.jupyter.widget-view+json": {
       "model_id": "",
       "version_major": 2,
       "version_minor": 0
      },
      "text/plain": [
       "HBox(children=(FloatProgress(value=0.0, description='Training', layout=Layout(flex='2'), max=1250.0, style=Pro…"
      ]
     },
     "metadata": {},
     "output_type": "display_data"
    },
    {
     "name": "stdout",
     "output_type": "stream",
     "text": [
      "Epoch 1837: train=8.11065, val=8.25065, took 25.879 s\n",
      "  Validation Found 51116 of 54504, added 2201 (eff 93.78%) (0.22 FP/event)\n"
     ]
    },
    {
     "data": {
      "application/vnd.jupyter.widget-view+json": {
       "model_id": "",
       "version_major": 2,
       "version_minor": 0
      },
      "text/plain": [
       "HBox(children=(FloatProgress(value=0.0, description='Training', layout=Layout(flex='2'), max=1250.0, style=Pro…"
      ]
     },
     "metadata": {},
     "output_type": "display_data"
    },
    {
     "name": "stdout",
     "output_type": "stream",
     "text": [
      "Epoch 1838: train=8.11359, val=8.30429, took 25.909 s\n",
      "  Validation Found 51069 of 54504, added 2115 (eff 93.70%) (0.212 FP/event)\n"
     ]
    },
    {
     "data": {
      "application/vnd.jupyter.widget-view+json": {
       "model_id": "",
       "version_major": 2,
       "version_minor": 0
      },
      "text/plain": [
       "HBox(children=(FloatProgress(value=0.0, description='Training', layout=Layout(flex='2'), max=1250.0, style=Pro…"
      ]
     },
     "metadata": {},
     "output_type": "display_data"
    },
    {
     "name": "stdout",
     "output_type": "stream",
     "text": [
      "Epoch 1839: train=8.11383, val=8.2606, took 26.019 s\n",
      "  Validation Found 51238 of 54504, added 2400 (eff 94.01%) (0.24 FP/event)\n"
     ]
    },
    {
     "data": {
      "application/vnd.jupyter.widget-view+json": {
       "model_id": "",
       "version_major": 2,
       "version_minor": 0
      },
      "text/plain": [
       "HBox(children=(FloatProgress(value=0.0, description='Training', layout=Layout(flex='2'), max=1250.0, style=Pro…"
      ]
     },
     "metadata": {},
     "output_type": "display_data"
    },
    {
     "name": "stdout",
     "output_type": "stream",
     "text": [
      "Epoch 1840: train=8.11023, val=8.27775, took 26.026 s\n",
      "  Validation Found 51042 of 54504, added 2074 (eff 93.65%) (0.208 FP/event)\n"
     ]
    },
    {
     "data": {
      "application/vnd.jupyter.widget-view+json": {
       "model_id": "",
       "version_major": 2,
       "version_minor": 0
      },
      "text/plain": [
       "HBox(children=(FloatProgress(value=0.0, description='Training', layout=Layout(flex='2'), max=1250.0, style=Pro…"
      ]
     },
     "metadata": {},
     "output_type": "display_data"
    },
    {
     "name": "stdout",
     "output_type": "stream",
     "text": [
      "Epoch 1841: train=8.10971, val=8.22943, took 25.977 s\n",
      "  Validation Found 51125 of 54504, added 2261 (eff 93.80%) (0.226 FP/event)\n"
     ]
    },
    {
     "data": {
      "application/vnd.jupyter.widget-view+json": {
       "model_id": "",
       "version_major": 2,
       "version_minor": 0
      },
      "text/plain": [
       "HBox(children=(FloatProgress(value=0.0, description='Training', layout=Layout(flex='2'), max=1250.0, style=Pro…"
      ]
     },
     "metadata": {},
     "output_type": "display_data"
    },
    {
     "name": "stdout",
     "output_type": "stream",
     "text": [
      "Epoch 1842: train=8.10808, val=8.30544, took 25.928 s\n",
      "  Validation Found 50947 of 54504, added 1993 (eff 93.47%) (0.2 FP/event)\n"
     ]
    },
    {
     "data": {
      "application/vnd.jupyter.widget-view+json": {
       "model_id": "",
       "version_major": 2,
       "version_minor": 0
      },
      "text/plain": [
       "HBox(children=(FloatProgress(value=0.0, description='Training', layout=Layout(flex='2'), max=1250.0, style=Pro…"
      ]
     },
     "metadata": {},
     "output_type": "display_data"
    },
    {
     "name": "stdout",
     "output_type": "stream",
     "text": [
      "Epoch 1843: train=8.11713, val=8.30446, took 25.828 s\n",
      "  Validation Found 51067 of 54504, added 2241 (eff 93.69%) (0.224 FP/event)\n"
     ]
    },
    {
     "data": {
      "application/vnd.jupyter.widget-view+json": {
       "model_id": "",
       "version_major": 2,
       "version_minor": 0
      },
      "text/plain": [
       "HBox(children=(FloatProgress(value=0.0, description='Training', layout=Layout(flex='2'), max=1250.0, style=Pro…"
      ]
     },
     "metadata": {},
     "output_type": "display_data"
    },
    {
     "name": "stdout",
     "output_type": "stream",
     "text": [
      "Epoch 1844: train=8.12018, val=8.25388, took 25.723 s\n",
      "  Validation Found 51186 of 54504, added 2325 (eff 93.91%) (0.233 FP/event)\n"
     ]
    },
    {
     "data": {
      "application/vnd.jupyter.widget-view+json": {
       "model_id": "",
       "version_major": 2,
       "version_minor": 0
      },
      "text/plain": [
       "HBox(children=(FloatProgress(value=0.0, description='Training', layout=Layout(flex='2'), max=1250.0, style=Pro…"
      ]
     },
     "metadata": {},
     "output_type": "display_data"
    },
    {
     "name": "stdout",
     "output_type": "stream",
     "text": [
      "Epoch 1845: train=8.10658, val=8.32251, took 25.795 s\n",
      "  Validation Found 50967 of 54504, added 1936 (eff 93.51%) (0.194 FP/event)\n"
     ]
    },
    {
     "data": {
      "application/vnd.jupyter.widget-view+json": {
       "model_id": "",
       "version_major": 2,
       "version_minor": 0
      },
      "text/plain": [
       "HBox(children=(FloatProgress(value=0.0, description='Training', layout=Layout(flex='2'), max=1250.0, style=Pro…"
      ]
     },
     "metadata": {},
     "output_type": "display_data"
    },
    {
     "name": "stdout",
     "output_type": "stream",
     "text": [
      "Epoch 1846: train=8.11953, val=8.2408, took 25.888 s\n",
      "  Validation Found 51000 of 54504, added 1907 (eff 93.57%) (0.191 FP/event)\n"
     ]
    },
    {
     "data": {
      "application/vnd.jupyter.widget-view+json": {
       "model_id": "",
       "version_major": 2,
       "version_minor": 0
      },
      "text/plain": [
       "HBox(children=(FloatProgress(value=0.0, description='Training', layout=Layout(flex='2'), max=1250.0, style=Pro…"
      ]
     },
     "metadata": {},
     "output_type": "display_data"
    },
    {
     "name": "stdout",
     "output_type": "stream",
     "text": [
      "Epoch 1847: train=8.10505, val=8.24203, took 25.758 s\n",
      "  Validation Found 51104 of 54504, added 2062 (eff 93.76%) (0.207 FP/event)\n"
     ]
    },
    {
     "data": {
      "application/vnd.jupyter.widget-view+json": {
       "model_id": "",
       "version_major": 2,
       "version_minor": 0
      },
      "text/plain": [
       "HBox(children=(FloatProgress(value=0.0, description='Training', layout=Layout(flex='2'), max=1250.0, style=Pro…"
      ]
     },
     "metadata": {},
     "output_type": "display_data"
    },
    {
     "name": "stdout",
     "output_type": "stream",
     "text": [
      "Epoch 1848: train=8.11207, val=8.33375, took 25.836 s\n",
      "  Validation Found 51075 of 54504, added 2299 (eff 93.71%) (0.23 FP/event)\n"
     ]
    },
    {
     "data": {
      "application/vnd.jupyter.widget-view+json": {
       "model_id": "",
       "version_major": 2,
       "version_minor": 0
      },
      "text/plain": [
       "HBox(children=(FloatProgress(value=0.0, description='Training', layout=Layout(flex='2'), max=1250.0, style=Pro…"
      ]
     },
     "metadata": {},
     "output_type": "display_data"
    },
    {
     "name": "stdout",
     "output_type": "stream",
     "text": [
      "Epoch 1849: train=8.10914, val=8.28208, took 25.849 s\n",
      "  Validation Found 51053 of 54504, added 2010 (eff 93.67%) (0.201 FP/event)\n"
     ]
    },
    {
     "data": {
      "application/vnd.jupyter.widget-view+json": {
       "model_id": "",
       "version_major": 2,
       "version_minor": 0
      },
      "text/plain": [
       "HBox(children=(FloatProgress(value=0.0, description='Training', layout=Layout(flex='2'), max=1250.0, style=Pro…"
      ]
     },
     "metadata": {},
     "output_type": "display_data"
    },
    {
     "name": "stdout",
     "output_type": "stream",
     "text": [
      "Epoch 1850: train=8.11164, val=8.24125, took 25.832 s\n",
      "  Validation Found 51040 of 54504, added 1986 (eff 93.64%) (0.199 FP/event)\n"
     ]
    },
    {
     "data": {
      "application/vnd.jupyter.widget-view+json": {
       "model_id": "",
       "version_major": 2,
       "version_minor": 0
      },
      "text/plain": [
       "HBox(children=(FloatProgress(value=0.0, description='Training', layout=Layout(flex='2'), max=1250.0, style=Pro…"
      ]
     },
     "metadata": {},
     "output_type": "display_data"
    },
    {
     "name": "stdout",
     "output_type": "stream",
     "text": [
      "Epoch 1851: train=8.12346, val=8.38604, took 25.838 s\n",
      "  Validation Found 51014 of 54504, added 2400 (eff 93.60%) (0.24 FP/event)\n"
     ]
    },
    {
     "data": {
      "application/vnd.jupyter.widget-view+json": {
       "model_id": "",
       "version_major": 2,
       "version_minor": 0
      },
      "text/plain": [
       "HBox(children=(FloatProgress(value=0.0, description='Training', layout=Layout(flex='2'), max=1250.0, style=Pro…"
      ]
     },
     "metadata": {},
     "output_type": "display_data"
    },
    {
     "name": "stdout",
     "output_type": "stream",
     "text": [
      "Epoch 1852: train=8.11217, val=8.38671, took 25.834 s\n",
      "  Validation Found 50898 of 54504, added 1852 (eff 93.38%) (0.185 FP/event)\n"
     ]
    },
    {
     "data": {
      "application/vnd.jupyter.widget-view+json": {
       "model_id": "",
       "version_major": 2,
       "version_minor": 0
      },
      "text/plain": [
       "HBox(children=(FloatProgress(value=0.0, description='Training', layout=Layout(flex='2'), max=1250.0, style=Pro…"
      ]
     },
     "metadata": {},
     "output_type": "display_data"
    },
    {
     "name": "stdout",
     "output_type": "stream",
     "text": [
      "Epoch 1853: train=8.11281, val=8.2877, took 25.827 s\n",
      "  Validation Found 50952 of 54504, added 1906 (eff 93.48%) (0.191 FP/event)\n"
     ]
    },
    {
     "data": {
      "application/vnd.jupyter.widget-view+json": {
       "model_id": "",
       "version_major": 2,
       "version_minor": 0
      },
      "text/plain": [
       "HBox(children=(FloatProgress(value=0.0, description='Training', layout=Layout(flex='2'), max=1250.0, style=Pro…"
      ]
     },
     "metadata": {},
     "output_type": "display_data"
    },
    {
     "name": "stdout",
     "output_type": "stream",
     "text": [
      "Epoch 1854: train=8.10881, val=8.2504, took 25.745 s\n",
      "  Validation Found 51363 of 54504, added 2919 (eff 94.24%) (0.292 FP/event)\n"
     ]
    },
    {
     "data": {
      "application/vnd.jupyter.widget-view+json": {
       "model_id": "",
       "version_major": 2,
       "version_minor": 0
      },
      "text/plain": [
       "HBox(children=(FloatProgress(value=0.0, description='Training', layout=Layout(flex='2'), max=1250.0, style=Pro…"
      ]
     },
     "metadata": {},
     "output_type": "display_data"
    },
    {
     "name": "stdout",
     "output_type": "stream",
     "text": [
      "Epoch 1855: train=8.10947, val=8.24532, took 25.765 s\n",
      "  Validation Found 51302 of 54504, added 2739 (eff 94.13%) (0.274 FP/event)\n"
     ]
    },
    {
     "data": {
      "application/vnd.jupyter.widget-view+json": {
       "model_id": "",
       "version_major": 2,
       "version_minor": 0
      },
      "text/plain": [
       "HBox(children=(FloatProgress(value=0.0, description='Training', layout=Layout(flex='2'), max=1250.0, style=Pro…"
      ]
     },
     "metadata": {},
     "output_type": "display_data"
    },
    {
     "name": "stdout",
     "output_type": "stream",
     "text": [
      "Epoch 1856: train=8.10937, val=8.26416, took 25.715 s\n",
      "  Validation Found 51027 of 54504, added 1986 (eff 93.62%) (0.199 FP/event)\n"
     ]
    },
    {
     "data": {
      "application/vnd.jupyter.widget-view+json": {
       "model_id": "",
       "version_major": 2,
       "version_minor": 0
      },
      "text/plain": [
       "HBox(children=(FloatProgress(value=0.0, description='Training', layout=Layout(flex='2'), max=1250.0, style=Pro…"
      ]
     },
     "metadata": {},
     "output_type": "display_data"
    },
    {
     "name": "stdout",
     "output_type": "stream",
     "text": [
      "Epoch 1857: train=8.11273, val=8.32079, took 25.816 s\n",
      "  Validation Found 51030 of 54504, added 1954 (eff 93.63%) (0.196 FP/event)\n"
     ]
    },
    {
     "data": {
      "application/vnd.jupyter.widget-view+json": {
       "model_id": "",
       "version_major": 2,
       "version_minor": 0
      },
      "text/plain": [
       "HBox(children=(FloatProgress(value=0.0, description='Training', layout=Layout(flex='2'), max=1250.0, style=Pro…"
      ]
     },
     "metadata": {},
     "output_type": "display_data"
    },
    {
     "name": "stdout",
     "output_type": "stream",
     "text": [
      "Epoch 1858: train=8.11386, val=8.3206, took 26.067 s\n",
      "  Validation Found 50940 of 54504, added 1907 (eff 93.46%) (0.191 FP/event)\n"
     ]
    },
    {
     "data": {
      "application/vnd.jupyter.widget-view+json": {
       "model_id": "",
       "version_major": 2,
       "version_minor": 0
      },
      "text/plain": [
       "HBox(children=(FloatProgress(value=0.0, description='Training', layout=Layout(flex='2'), max=1250.0, style=Pro…"
      ]
     },
     "metadata": {},
     "output_type": "display_data"
    },
    {
     "name": "stdout",
     "output_type": "stream",
     "text": [
      "Epoch 1859: train=8.12066, val=8.2425, took 25.956 s\n",
      "  Validation Found 51100 of 54504, added 2137 (eff 93.75%) (0.214 FP/event)\n"
     ]
    },
    {
     "data": {
      "application/vnd.jupyter.widget-view+json": {
       "model_id": "",
       "version_major": 2,
       "version_minor": 0
      },
      "text/plain": [
       "HBox(children=(FloatProgress(value=0.0, description='Training', layout=Layout(flex='2'), max=1250.0, style=Pro…"
      ]
     },
     "metadata": {},
     "output_type": "display_data"
    },
    {
     "name": "stdout",
     "output_type": "stream",
     "text": [
      "Epoch 1860: train=8.10334, val=8.36546, took 25.891 s\n",
      "  Validation Found 50993 of 54504, added 2001 (eff 93.56%) (0.2 FP/event)\n"
     ]
    },
    {
     "data": {
      "application/vnd.jupyter.widget-view+json": {
       "model_id": "",
       "version_major": 2,
       "version_minor": 0
      },
      "text/plain": [
       "HBox(children=(FloatProgress(value=0.0, description='Training', layout=Layout(flex='2'), max=1250.0, style=Pro…"
      ]
     },
     "metadata": {},
     "output_type": "display_data"
    },
    {
     "name": "stdout",
     "output_type": "stream",
     "text": [
      "Epoch 1861: train=8.11376, val=8.29577, took 25.909 s\n",
      "  Validation Found 51145 of 54504, added 2369 (eff 93.84%) (0.237 FP/event)\n"
     ]
    },
    {
     "data": {
      "application/vnd.jupyter.widget-view+json": {
       "model_id": "",
       "version_major": 2,
       "version_minor": 0
      },
      "text/plain": [
       "HBox(children=(FloatProgress(value=0.0, description='Training', layout=Layout(flex='2'), max=1250.0, style=Pro…"
      ]
     },
     "metadata": {},
     "output_type": "display_data"
    },
    {
     "name": "stdout",
     "output_type": "stream",
     "text": [
      "Epoch 1862: train=8.11251, val=8.2174, took 25.885 s\n",
      "  Validation Found 51107 of 54504, added 2164 (eff 93.77%) (0.217 FP/event)\n"
     ]
    },
    {
     "data": {
      "application/vnd.jupyter.widget-view+json": {
       "model_id": "",
       "version_major": 2,
       "version_minor": 0
      },
      "text/plain": [
       "HBox(children=(FloatProgress(value=0.0, description='Training', layout=Layout(flex='2'), max=1250.0, style=Pro…"
      ]
     },
     "metadata": {},
     "output_type": "display_data"
    },
    {
     "name": "stdout",
     "output_type": "stream",
     "text": [
      "Epoch 1863: train=8.11604, val=8.1633, took 25.911 s\n",
      "  Validation Found 51247 of 54504, added 2313 (eff 94.02%) (0.232 FP/event)\n"
     ]
    },
    {
     "data": {
      "application/vnd.jupyter.widget-view+json": {
       "model_id": "",
       "version_major": 2,
       "version_minor": 0
      },
      "text/plain": [
       "HBox(children=(FloatProgress(value=0.0, description='Training', layout=Layout(flex='2'), max=1250.0, style=Pro…"
      ]
     },
     "metadata": {},
     "output_type": "display_data"
    },
    {
     "name": "stdout",
     "output_type": "stream",
     "text": [
      "Epoch 1864: train=8.1144, val=8.22141, took 25.942 s\n",
      "  Validation Found 50977 of 54504, added 1992 (eff 93.53%) (0.199 FP/event)\n"
     ]
    },
    {
     "data": {
      "application/vnd.jupyter.widget-view+json": {
       "model_id": "",
       "version_major": 2,
       "version_minor": 0
      },
      "text/plain": [
       "HBox(children=(FloatProgress(value=0.0, description='Training', layout=Layout(flex='2'), max=1250.0, style=Pro…"
      ]
     },
     "metadata": {},
     "output_type": "display_data"
    },
    {
     "name": "stdout",
     "output_type": "stream",
     "text": [
      "Epoch 1865: train=8.11684, val=8.39135, took 25.903 s\n",
      "  Validation Found 50921 of 54504, added 1992 (eff 93.43%) (0.199 FP/event)\n"
     ]
    },
    {
     "data": {
      "application/vnd.jupyter.widget-view+json": {
       "model_id": "",
       "version_major": 2,
       "version_minor": 0
      },
      "text/plain": [
       "HBox(children=(FloatProgress(value=0.0, description='Training', layout=Layout(flex='2'), max=1250.0, style=Pro…"
      ]
     },
     "metadata": {},
     "output_type": "display_data"
    },
    {
     "name": "stdout",
     "output_type": "stream",
     "text": [
      "Epoch 1866: train=8.11823, val=8.28862, took 25.867 s\n",
      "  Validation Found 50980 of 54504, added 1895 (eff 93.53%) (0.19 FP/event)\n"
     ]
    },
    {
     "data": {
      "application/vnd.jupyter.widget-view+json": {
       "model_id": "",
       "version_major": 2,
       "version_minor": 0
      },
      "text/plain": [
       "HBox(children=(FloatProgress(value=0.0, description='Training', layout=Layout(flex='2'), max=1250.0, style=Pro…"
      ]
     },
     "metadata": {},
     "output_type": "display_data"
    },
    {
     "name": "stdout",
     "output_type": "stream",
     "text": [
      "Epoch 1867: train=8.1159, val=8.26482, took 25.88 s\n",
      "  Validation Found 51099 of 54504, added 2126 (eff 93.75%) (0.213 FP/event)\n"
     ]
    },
    {
     "data": {
      "application/vnd.jupyter.widget-view+json": {
       "model_id": "",
       "version_major": 2,
       "version_minor": 0
      },
      "text/plain": [
       "HBox(children=(FloatProgress(value=0.0, description='Training', layout=Layout(flex='2'), max=1250.0, style=Pro…"
      ]
     },
     "metadata": {},
     "output_type": "display_data"
    },
    {
     "name": "stdout",
     "output_type": "stream",
     "text": [
      "Epoch 1868: train=8.11764, val=8.26315, took 25.88 s\n",
      "  Validation Found 51111 of 54504, added 2112 (eff 93.77%) (0.212 FP/event)\n"
     ]
    },
    {
     "data": {
      "application/vnd.jupyter.widget-view+json": {
       "model_id": "",
       "version_major": 2,
       "version_minor": 0
      },
      "text/plain": [
       "HBox(children=(FloatProgress(value=0.0, description='Training', layout=Layout(flex='2'), max=1250.0, style=Pro…"
      ]
     },
     "metadata": {},
     "output_type": "display_data"
    },
    {
     "name": "stdout",
     "output_type": "stream",
     "text": [
      "Epoch 1869: train=8.12621, val=8.58103, took 26.146 s\n",
      "  Validation Found 51357 of 54504, added 3816 (eff 94.23%) (0.382 FP/event)\n"
     ]
    },
    {
     "data": {
      "application/vnd.jupyter.widget-view+json": {
       "model_id": "",
       "version_major": 2,
       "version_minor": 0
      },
      "text/plain": [
       "HBox(children=(FloatProgress(value=0.0, description='Training', layout=Layout(flex='2'), max=1250.0, style=Pro…"
      ]
     },
     "metadata": {},
     "output_type": "display_data"
    },
    {
     "name": "stdout",
     "output_type": "stream",
     "text": [
      "Epoch 1870: train=8.10938, val=8.34591, took 25.672 s\n",
      "  Validation Found 50928 of 54504, added 1911 (eff 93.44%) (0.191 FP/event)\n"
     ]
    },
    {
     "data": {
      "application/vnd.jupyter.widget-view+json": {
       "model_id": "",
       "version_major": 2,
       "version_minor": 0
      },
      "text/plain": [
       "HBox(children=(FloatProgress(value=0.0, description='Training', layout=Layout(flex='2'), max=1250.0, style=Pro…"
      ]
     },
     "metadata": {},
     "output_type": "display_data"
    },
    {
     "name": "stdout",
     "output_type": "stream",
     "text": [
      "Epoch 1871: train=8.11434, val=8.2769, took 25.739 s\n",
      "  Validation Found 50954 of 54504, added 1931 (eff 93.49%) (0.193 FP/event)\n"
     ]
    },
    {
     "data": {
      "application/vnd.jupyter.widget-view+json": {
       "model_id": "",
       "version_major": 2,
       "version_minor": 0
      },
      "text/plain": [
       "HBox(children=(FloatProgress(value=0.0, description='Training', layout=Layout(flex='2'), max=1250.0, style=Pro…"
      ]
     },
     "metadata": {},
     "output_type": "display_data"
    },
    {
     "name": "stdout",
     "output_type": "stream",
     "text": [
      "Epoch 1872: train=8.10376, val=8.39612, took 25.919 s\n",
      "  Validation Found 50961 of 54504, added 1874 (eff 93.50%) (0.188 FP/event)\n"
     ]
    },
    {
     "data": {
      "application/vnd.jupyter.widget-view+json": {
       "model_id": "",
       "version_major": 2,
       "version_minor": 0
      },
      "text/plain": [
       "HBox(children=(FloatProgress(value=0.0, description='Training', layout=Layout(flex='2'), max=1250.0, style=Pro…"
      ]
     },
     "metadata": {},
     "output_type": "display_data"
    },
    {
     "name": "stdout",
     "output_type": "stream",
     "text": [
      "Epoch 1873: train=8.11923, val=8.24286, took 26.044 s\n",
      "  Validation Found 51020 of 54504, added 2039 (eff 93.61%) (0.204 FP/event)\n"
     ]
    },
    {
     "data": {
      "application/vnd.jupyter.widget-view+json": {
       "model_id": "",
       "version_major": 2,
       "version_minor": 0
      },
      "text/plain": [
       "HBox(children=(FloatProgress(value=0.0, description='Training', layout=Layout(flex='2'), max=1250.0, style=Pro…"
      ]
     },
     "metadata": {},
     "output_type": "display_data"
    },
    {
     "name": "stdout",
     "output_type": "stream",
     "text": [
      "Epoch 1874: train=8.10793, val=8.22157, took 26.035 s\n",
      "  Validation Found 51112 of 54504, added 2195 (eff 93.78%) (0.22 FP/event)\n"
     ]
    },
    {
     "data": {
      "application/vnd.jupyter.widget-view+json": {
       "model_id": "",
       "version_major": 2,
       "version_minor": 0
      },
      "text/plain": [
       "HBox(children=(FloatProgress(value=0.0, description='Training', layout=Layout(flex='2'), max=1250.0, style=Pro…"
      ]
     },
     "metadata": {},
     "output_type": "display_data"
    },
    {
     "name": "stdout",
     "output_type": "stream",
     "text": [
      "Epoch 1875: train=8.10719, val=8.38136, took 26.097 s\n",
      "  Validation Found 50889 of 54504, added 1932 (eff 93.37%) (0.193 FP/event)\n"
     ]
    },
    {
     "data": {
      "application/vnd.jupyter.widget-view+json": {
       "model_id": "",
       "version_major": 2,
       "version_minor": 0
      },
      "text/plain": [
       "HBox(children=(FloatProgress(value=0.0, description='Training', layout=Layout(flex='2'), max=1250.0, style=Pro…"
      ]
     },
     "metadata": {},
     "output_type": "display_data"
    },
    {
     "name": "stdout",
     "output_type": "stream",
     "text": [
      "Epoch 1876: train=8.11283, val=8.34278, took 25.952 s\n",
      "  Validation Found 50978 of 54504, added 2036 (eff 93.53%) (0.204 FP/event)\n"
     ]
    },
    {
     "data": {
      "application/vnd.jupyter.widget-view+json": {
       "model_id": "",
       "version_major": 2,
       "version_minor": 0
      },
      "text/plain": [
       "HBox(children=(FloatProgress(value=0.0, description='Training', layout=Layout(flex='2'), max=1250.0, style=Pro…"
      ]
     },
     "metadata": {},
     "output_type": "display_data"
    },
    {
     "name": "stdout",
     "output_type": "stream",
     "text": [
      "Epoch 1877: train=8.12141, val=8.18428, took 25.893 s\n",
      "  Validation Found 51171 of 54504, added 2182 (eff 93.88%) (0.219 FP/event)\n"
     ]
    },
    {
     "data": {
      "application/vnd.jupyter.widget-view+json": {
       "model_id": "",
       "version_major": 2,
       "version_minor": 0
      },
      "text/plain": [
       "HBox(children=(FloatProgress(value=0.0, description='Training', layout=Layout(flex='2'), max=1250.0, style=Pro…"
      ]
     },
     "metadata": {},
     "output_type": "display_data"
    },
    {
     "name": "stdout",
     "output_type": "stream",
     "text": [
      "Epoch 1878: train=8.11144, val=8.29155, took 25.832 s\n",
      "  Validation Found 51044 of 54504, added 2022 (eff 93.65%) (0.203 FP/event)\n"
     ]
    },
    {
     "data": {
      "application/vnd.jupyter.widget-view+json": {
       "model_id": "",
       "version_major": 2,
       "version_minor": 0
      },
      "text/plain": [
       "HBox(children=(FloatProgress(value=0.0, description='Training', layout=Layout(flex='2'), max=1250.0, style=Pro…"
      ]
     },
     "metadata": {},
     "output_type": "display_data"
    },
    {
     "name": "stdout",
     "output_type": "stream",
     "text": [
      "Epoch 1879: train=8.11647, val=8.31443, took 25.91 s\n",
      "  Validation Found 51335 of 54504, added 3171 (eff 94.19%) (0.318 FP/event)\n"
     ]
    },
    {
     "data": {
      "application/vnd.jupyter.widget-view+json": {
       "model_id": "",
       "version_major": 2,
       "version_minor": 0
      },
      "text/plain": [
       "HBox(children=(FloatProgress(value=0.0, description='Training', layout=Layout(flex='2'), max=1250.0, style=Pro…"
      ]
     },
     "metadata": {},
     "output_type": "display_data"
    },
    {
     "name": "stdout",
     "output_type": "stream",
     "text": [
      "Epoch 1880: train=8.11062, val=8.36586, took 25.847 s\n",
      "  Validation Found 50970 of 54504, added 2048 (eff 93.52%) (0.205 FP/event)\n"
     ]
    },
    {
     "data": {
      "application/vnd.jupyter.widget-view+json": {
       "model_id": "",
       "version_major": 2,
       "version_minor": 0
      },
      "text/plain": [
       "HBox(children=(FloatProgress(value=0.0, description='Training', layout=Layout(flex='2'), max=1250.0, style=Pro…"
      ]
     },
     "metadata": {},
     "output_type": "display_data"
    },
    {
     "name": "stdout",
     "output_type": "stream",
     "text": [
      "Epoch 1881: train=8.11332, val=8.29948, took 25.835 s\n",
      "  Validation Found 50952 of 54504, added 1953 (eff 93.48%) (0.196 FP/event)\n"
     ]
    },
    {
     "data": {
      "application/vnd.jupyter.widget-view+json": {
       "model_id": "",
       "version_major": 2,
       "version_minor": 0
      },
      "text/plain": [
       "HBox(children=(FloatProgress(value=0.0, description='Training', layout=Layout(flex='2'), max=1250.0, style=Pro…"
      ]
     },
     "metadata": {},
     "output_type": "display_data"
    },
    {
     "name": "stdout",
     "output_type": "stream",
     "text": [
      "Epoch 1882: train=8.11802, val=8.28676, took 25.729 s\n",
      "  Validation Found 50938 of 54504, added 1789 (eff 93.46%) (0.179 FP/event)\n"
     ]
    },
    {
     "data": {
      "application/vnd.jupyter.widget-view+json": {
       "model_id": "",
       "version_major": 2,
       "version_minor": 0
      },
      "text/plain": [
       "HBox(children=(FloatProgress(value=0.0, description='Training', layout=Layout(flex='2'), max=1250.0, style=Pro…"
      ]
     },
     "metadata": {},
     "output_type": "display_data"
    },
    {
     "name": "stdout",
     "output_type": "stream",
     "text": [
      "Epoch 1883: train=8.11955, val=8.29591, took 25.809 s\n",
      "  Validation Found 51084 of 54504, added 2097 (eff 93.73%) (0.21 FP/event)\n"
     ]
    },
    {
     "data": {
      "application/vnd.jupyter.widget-view+json": {
       "model_id": "",
       "version_major": 2,
       "version_minor": 0
      },
      "text/plain": [
       "HBox(children=(FloatProgress(value=0.0, description='Training', layout=Layout(flex='2'), max=1250.0, style=Pro…"
      ]
     },
     "metadata": {},
     "output_type": "display_data"
    },
    {
     "name": "stdout",
     "output_type": "stream",
     "text": [
      "Epoch 1884: train=8.11259, val=8.13109, took 25.834 s\n",
      "  Validation Found 51262 of 54504, added 2364 (eff 94.05%) (0.237 FP/event)\n"
     ]
    },
    {
     "data": {
      "application/vnd.jupyter.widget-view+json": {
       "model_id": "",
       "version_major": 2,
       "version_minor": 0
      },
      "text/plain": [
       "HBox(children=(FloatProgress(value=0.0, description='Training', layout=Layout(flex='2'), max=1250.0, style=Pro…"
      ]
     },
     "metadata": {},
     "output_type": "display_data"
    },
    {
     "name": "stdout",
     "output_type": "stream",
     "text": [
      "Epoch 1885: train=8.11337, val=8.29853, took 25.813 s\n",
      "  Validation Found 51064 of 54504, added 2021 (eff 93.69%) (0.202 FP/event)\n"
     ]
    },
    {
     "data": {
      "application/vnd.jupyter.widget-view+json": {
       "model_id": "",
       "version_major": 2,
       "version_minor": 0
      },
      "text/plain": [
       "HBox(children=(FloatProgress(value=0.0, description='Training', layout=Layout(flex='2'), max=1250.0, style=Pro…"
      ]
     },
     "metadata": {},
     "output_type": "display_data"
    },
    {
     "name": "stdout",
     "output_type": "stream",
     "text": [
      "Epoch 1886: train=8.1036, val=8.20537, took 25.882 s\n",
      "  Validation Found 51198 of 54504, added 2311 (eff 93.93%) (0.231 FP/event)\n"
     ]
    },
    {
     "data": {
      "application/vnd.jupyter.widget-view+json": {
       "model_id": "",
       "version_major": 2,
       "version_minor": 0
      },
      "text/plain": [
       "HBox(children=(FloatProgress(value=0.0, description='Training', layout=Layout(flex='2'), max=1250.0, style=Pro…"
      ]
     },
     "metadata": {},
     "output_type": "display_data"
    },
    {
     "name": "stdout",
     "output_type": "stream",
     "text": [
      "Epoch 1887: train=8.1106, val=8.29932, took 25.778 s\n",
      "  Validation Found 51004 of 54504, added 2055 (eff 93.58%) (0.206 FP/event)\n"
     ]
    },
    {
     "data": {
      "application/vnd.jupyter.widget-view+json": {
       "model_id": "",
       "version_major": 2,
       "version_minor": 0
      },
      "text/plain": [
       "HBox(children=(FloatProgress(value=0.0, description='Training', layout=Layout(flex='2'), max=1250.0, style=Pro…"
      ]
     },
     "metadata": {},
     "output_type": "display_data"
    },
    {
     "name": "stdout",
     "output_type": "stream",
     "text": [
      "Epoch 1888: train=8.11451, val=8.39676, took 25.81 s\n",
      "  Validation Found 50926 of 54504, added 1943 (eff 93.44%) (0.195 FP/event)\n"
     ]
    },
    {
     "data": {
      "application/vnd.jupyter.widget-view+json": {
       "model_id": "",
       "version_major": 2,
       "version_minor": 0
      },
      "text/plain": [
       "HBox(children=(FloatProgress(value=0.0, description='Training', layout=Layout(flex='2'), max=1250.0, style=Pro…"
      ]
     },
     "metadata": {},
     "output_type": "display_data"
    },
    {
     "name": "stdout",
     "output_type": "stream",
     "text": [
      "Epoch 1889: train=8.11986, val=8.25384, took 25.763 s\n",
      "  Validation Found 50984 of 54504, added 2126 (eff 93.54%) (0.213 FP/event)\n"
     ]
    },
    {
     "data": {
      "application/vnd.jupyter.widget-view+json": {
       "model_id": "",
       "version_major": 2,
       "version_minor": 0
      },
      "text/plain": [
       "HBox(children=(FloatProgress(value=0.0, description='Training', layout=Layout(flex='2'), max=1250.0, style=Pro…"
      ]
     },
     "metadata": {},
     "output_type": "display_data"
    },
    {
     "name": "stdout",
     "output_type": "stream",
     "text": [
      "Epoch 1890: train=8.12175, val=8.26365, took 25.811 s\n",
      "  Validation Found 50995 of 54504, added 1882 (eff 93.56%) (0.188 FP/event)\n"
     ]
    },
    {
     "data": {
      "application/vnd.jupyter.widget-view+json": {
       "model_id": "",
       "version_major": 2,
       "version_minor": 0
      },
      "text/plain": [
       "HBox(children=(FloatProgress(value=0.0, description='Training', layout=Layout(flex='2'), max=1250.0, style=Pro…"
      ]
     },
     "metadata": {},
     "output_type": "display_data"
    },
    {
     "name": "stdout",
     "output_type": "stream",
     "text": [
      "Epoch 1891: train=8.12284, val=8.33307, took 25.803 s\n",
      "  Validation Found 50908 of 54504, added 1874 (eff 93.40%) (0.188 FP/event)\n"
     ]
    },
    {
     "data": {
      "application/vnd.jupyter.widget-view+json": {
       "model_id": "",
       "version_major": 2,
       "version_minor": 0
      },
      "text/plain": [
       "HBox(children=(FloatProgress(value=0.0, description='Training', layout=Layout(flex='2'), max=1250.0, style=Pro…"
      ]
     },
     "metadata": {},
     "output_type": "display_data"
    },
    {
     "name": "stdout",
     "output_type": "stream",
     "text": [
      "Epoch 1892: train=8.11086, val=8.3273, took 25.873 s\n",
      "  Validation Found 50838 of 54504, added 1757 (eff 93.27%) (0.176 FP/event)\n"
     ]
    },
    {
     "data": {
      "application/vnd.jupyter.widget-view+json": {
       "model_id": "",
       "version_major": 2,
       "version_minor": 0
      },
      "text/plain": [
       "HBox(children=(FloatProgress(value=0.0, description='Training', layout=Layout(flex='2'), max=1250.0, style=Pro…"
      ]
     },
     "metadata": {},
     "output_type": "display_data"
    },
    {
     "name": "stdout",
     "output_type": "stream",
     "text": [
      "Epoch 1893: train=8.11811, val=8.24874, took 25.818 s\n",
      "  Validation Found 51125 of 54504, added 2294 (eff 93.80%) (0.23 FP/event)\n"
     ]
    },
    {
     "data": {
      "application/vnd.jupyter.widget-view+json": {
       "model_id": "",
       "version_major": 2,
       "version_minor": 0
      },
      "text/plain": [
       "HBox(children=(FloatProgress(value=0.0, description='Training', layout=Layout(flex='2'), max=1250.0, style=Pro…"
      ]
     },
     "metadata": {},
     "output_type": "display_data"
    },
    {
     "name": "stdout",
     "output_type": "stream",
     "text": [
      "Epoch 1894: train=8.11009, val=8.21781, took 25.724 s\n",
      "  Validation Found 51194 of 54504, added 2305 (eff 93.93%) (0.231 FP/event)\n"
     ]
    },
    {
     "data": {
      "application/vnd.jupyter.widget-view+json": {
       "model_id": "",
       "version_major": 2,
       "version_minor": 0
      },
      "text/plain": [
       "HBox(children=(FloatProgress(value=0.0, description='Training', layout=Layout(flex='2'), max=1250.0, style=Pro…"
      ]
     },
     "metadata": {},
     "output_type": "display_data"
    },
    {
     "name": "stdout",
     "output_type": "stream",
     "text": [
      "Epoch 1895: train=8.11082, val=8.28083, took 25.833 s\n",
      "  Validation Found 51219 of 54504, added 2266 (eff 93.97%) (0.227 FP/event)\n"
     ]
    },
    {
     "data": {
      "application/vnd.jupyter.widget-view+json": {
       "model_id": "",
       "version_major": 2,
       "version_minor": 0
      },
      "text/plain": [
       "HBox(children=(FloatProgress(value=0.0, description='Training', layout=Layout(flex='2'), max=1250.0, style=Pro…"
      ]
     },
     "metadata": {},
     "output_type": "display_data"
    },
    {
     "name": "stdout",
     "output_type": "stream",
     "text": [
      "Epoch 1896: train=8.11377, val=8.30412, took 25.679 s\n",
      "  Validation Found 51182 of 54504, added 2499 (eff 93.91%) (0.25 FP/event)\n"
     ]
    },
    {
     "data": {
      "application/vnd.jupyter.widget-view+json": {
       "model_id": "",
       "version_major": 2,
       "version_minor": 0
      },
      "text/plain": [
       "HBox(children=(FloatProgress(value=0.0, description='Training', layout=Layout(flex='2'), max=1250.0, style=Pro…"
      ]
     },
     "metadata": {},
     "output_type": "display_data"
    },
    {
     "name": "stdout",
     "output_type": "stream",
     "text": [
      "Epoch 1897: train=8.10465, val=8.39755, took 25.62 s\n",
      "  Validation Found 50854 of 54504, added 1782 (eff 93.30%) (0.178 FP/event)\n"
     ]
    },
    {
     "data": {
      "application/vnd.jupyter.widget-view+json": {
       "model_id": "",
       "version_major": 2,
       "version_minor": 0
      },
      "text/plain": [
       "HBox(children=(FloatProgress(value=0.0, description='Training', layout=Layout(flex='2'), max=1250.0, style=Pro…"
      ]
     },
     "metadata": {},
     "output_type": "display_data"
    },
    {
     "name": "stdout",
     "output_type": "stream",
     "text": [
      "Epoch 1898: train=8.10973, val=8.33124, took 25.925 s\n",
      "  Validation Found 50872 of 54504, added 1836 (eff 93.34%) (0.184 FP/event)\n"
     ]
    },
    {
     "data": {
      "application/vnd.jupyter.widget-view+json": {
       "model_id": "",
       "version_major": 2,
       "version_minor": 0
      },
      "text/plain": [
       "HBox(children=(FloatProgress(value=0.0, description='Training', layout=Layout(flex='2'), max=1250.0, style=Pro…"
      ]
     },
     "metadata": {},
     "output_type": "display_data"
    },
    {
     "name": "stdout",
     "output_type": "stream",
     "text": [
      "Epoch 1899: train=8.10611, val=8.23206, took 26.135 s\n",
      "  Validation Found 51073 of 54504, added 2059 (eff 93.71%) (0.206 FP/event)\n"
     ]
    },
    {
     "data": {
      "application/vnd.jupyter.widget-view+json": {
       "model_id": "",
       "version_major": 2,
       "version_minor": 0
      },
      "text/plain": [
       "HBox(children=(FloatProgress(value=0.0, description='Training', layout=Layout(flex='2'), max=1250.0, style=Pro…"
      ]
     },
     "metadata": {},
     "output_type": "display_data"
    },
    {
     "name": "stdout",
     "output_type": "stream",
     "text": [
      "Epoch 1900: train=8.10913, val=8.30916, took 25.894 s\n",
      "  Validation Found 50914 of 54504, added 1833 (eff 93.41%) (0.184 FP/event)\n"
     ]
    },
    {
     "data": {
      "application/vnd.jupyter.widget-view+json": {
       "model_id": "",
       "version_major": 2,
       "version_minor": 0
      },
      "text/plain": [
       "HBox(children=(FloatProgress(value=0.0, description='Training', layout=Layout(flex='2'), max=1250.0, style=Pro…"
      ]
     },
     "metadata": {},
     "output_type": "display_data"
    },
    {
     "name": "stdout",
     "output_type": "stream",
     "text": [
      "Epoch 1901: train=8.10662, val=8.2111, took 25.88 s\n",
      "  Validation Found 51161 of 54504, added 2367 (eff 93.87%) (0.237 FP/event)\n"
     ]
    },
    {
     "data": {
      "application/vnd.jupyter.widget-view+json": {
       "model_id": "",
       "version_major": 2,
       "version_minor": 0
      },
      "text/plain": [
       "HBox(children=(FloatProgress(value=0.0, description='Training', layout=Layout(flex='2'), max=1250.0, style=Pro…"
      ]
     },
     "metadata": {},
     "output_type": "display_data"
    },
    {
     "name": "stdout",
     "output_type": "stream",
     "text": [
      "Epoch 1902: train=8.11381, val=8.27017, took 26.365 s\n",
      "  Validation Found 51113 of 54504, added 2361 (eff 93.78%) (0.236 FP/event)\n"
     ]
    },
    {
     "data": {
      "application/vnd.jupyter.widget-view+json": {
       "model_id": "",
       "version_major": 2,
       "version_minor": 0
      },
      "text/plain": [
       "HBox(children=(FloatProgress(value=0.0, description='Training', layout=Layout(flex='2'), max=1250.0, style=Pro…"
      ]
     },
     "metadata": {},
     "output_type": "display_data"
    },
    {
     "name": "stdout",
     "output_type": "stream",
     "text": [
      "Epoch 1903: train=8.11153, val=8.34704, took 25.778 s\n",
      "  Validation Found 50921 of 54504, added 1817 (eff 93.43%) (0.182 FP/event)\n"
     ]
    },
    {
     "data": {
      "application/vnd.jupyter.widget-view+json": {
       "model_id": "",
       "version_major": 2,
       "version_minor": 0
      },
      "text/plain": [
       "HBox(children=(FloatProgress(value=0.0, description='Training', layout=Layout(flex='2'), max=1250.0, style=Pro…"
      ]
     },
     "metadata": {},
     "output_type": "display_data"
    },
    {
     "name": "stdout",
     "output_type": "stream",
     "text": [
      "Epoch 1904: train=8.105, val=8.2455, took 25.722 s\n",
      "  Validation Found 51078 of 54504, added 2082 (eff 93.71%) (0.209 FP/event)\n"
     ]
    },
    {
     "data": {
      "application/vnd.jupyter.widget-view+json": {
       "model_id": "",
       "version_major": 2,
       "version_minor": 0
      },
      "text/plain": [
       "HBox(children=(FloatProgress(value=0.0, description='Training', layout=Layout(flex='2'), max=1250.0, style=Pro…"
      ]
     },
     "metadata": {},
     "output_type": "display_data"
    },
    {
     "name": "stdout",
     "output_type": "stream",
     "text": [
      "Epoch 1905: train=8.11432, val=8.32035, took 25.777 s\n",
      "  Validation Found 50911 of 54504, added 1849 (eff 93.41%) (0.185 FP/event)\n"
     ]
    },
    {
     "data": {
      "application/vnd.jupyter.widget-view+json": {
       "model_id": "",
       "version_major": 2,
       "version_minor": 0
      },
      "text/plain": [
       "HBox(children=(FloatProgress(value=0.0, description='Training', layout=Layout(flex='2'), max=1250.0, style=Pro…"
      ]
     },
     "metadata": {},
     "output_type": "display_data"
    },
    {
     "name": "stdout",
     "output_type": "stream",
     "text": [
      "Epoch 1906: train=8.10841, val=8.23514, took 25.831 s\n",
      "  Validation Found 51070 of 54504, added 2096 (eff 93.70%) (0.21 FP/event)\n"
     ]
    },
    {
     "data": {
      "application/vnd.jupyter.widget-view+json": {
       "model_id": "",
       "version_major": 2,
       "version_minor": 0
      },
      "text/plain": [
       "HBox(children=(FloatProgress(value=0.0, description='Training', layout=Layout(flex='2'), max=1250.0, style=Pro…"
      ]
     },
     "metadata": {},
     "output_type": "display_data"
    },
    {
     "name": "stdout",
     "output_type": "stream",
     "text": [
      "Epoch 1907: train=8.11566, val=8.24767, took 25.849 s\n",
      "  Validation Found 51030 of 54504, added 2072 (eff 93.63%) (0.208 FP/event)\n"
     ]
    },
    {
     "data": {
      "application/vnd.jupyter.widget-view+json": {
       "model_id": "",
       "version_major": 2,
       "version_minor": 0
      },
      "text/plain": [
       "HBox(children=(FloatProgress(value=0.0, description='Training', layout=Layout(flex='2'), max=1250.0, style=Pro…"
      ]
     },
     "metadata": {},
     "output_type": "display_data"
    },
    {
     "name": "stdout",
     "output_type": "stream",
     "text": [
      "Epoch 1908: train=8.10673, val=8.38771, took 25.889 s\n",
      "  Validation Found 51003 of 54504, added 2070 (eff 93.58%) (0.207 FP/event)\n"
     ]
    },
    {
     "data": {
      "application/vnd.jupyter.widget-view+json": {
       "model_id": "",
       "version_major": 2,
       "version_minor": 0
      },
      "text/plain": [
       "HBox(children=(FloatProgress(value=0.0, description='Training', layout=Layout(flex='2'), max=1250.0, style=Pro…"
      ]
     },
     "metadata": {},
     "output_type": "display_data"
    },
    {
     "name": "stdout",
     "output_type": "stream",
     "text": [
      "Epoch 1909: train=8.10906, val=8.35017, took 26.156 s\n",
      "  Validation Found 50904 of 54504, added 1802 (eff 93.39%) (0.18 FP/event)\n"
     ]
    },
    {
     "data": {
      "application/vnd.jupyter.widget-view+json": {
       "model_id": "",
       "version_major": 2,
       "version_minor": 0
      },
      "text/plain": [
       "HBox(children=(FloatProgress(value=0.0, description='Training', layout=Layout(flex='2'), max=1250.0, style=Pro…"
      ]
     },
     "metadata": {},
     "output_type": "display_data"
    },
    {
     "name": "stdout",
     "output_type": "stream",
     "text": [
      "Epoch 1910: train=8.10544, val=8.2888, took 25.782 s\n",
      "  Validation Found 51057 of 54504, added 2097 (eff 93.68%) (0.21 FP/event)\n"
     ]
    },
    {
     "data": {
      "application/vnd.jupyter.widget-view+json": {
       "model_id": "",
       "version_major": 2,
       "version_minor": 0
      },
      "text/plain": [
       "HBox(children=(FloatProgress(value=0.0, description='Training', layout=Layout(flex='2'), max=1250.0, style=Pro…"
      ]
     },
     "metadata": {},
     "output_type": "display_data"
    },
    {
     "name": "stdout",
     "output_type": "stream",
     "text": [
      "Epoch 1911: train=8.12904, val=8.27891, took 25.917 s\n",
      "  Validation Found 50984 of 54504, added 1930 (eff 93.54%) (0.193 FP/event)\n"
     ]
    },
    {
     "data": {
      "application/vnd.jupyter.widget-view+json": {
       "model_id": "",
       "version_major": 2,
       "version_minor": 0
      },
      "text/plain": [
       "HBox(children=(FloatProgress(value=0.0, description='Training', layout=Layout(flex='2'), max=1250.0, style=Pro…"
      ]
     },
     "metadata": {},
     "output_type": "display_data"
    },
    {
     "name": "stdout",
     "output_type": "stream",
     "text": [
      "Epoch 1912: train=8.11264, val=8.32747, took 26.144 s\n",
      "  Validation Found 50944 of 54504, added 1926 (eff 93.47%) (0.193 FP/event)\n"
     ]
    },
    {
     "data": {
      "application/vnd.jupyter.widget-view+json": {
       "model_id": "",
       "version_major": 2,
       "version_minor": 0
      },
      "text/plain": [
       "HBox(children=(FloatProgress(value=0.0, description='Training', layout=Layout(flex='2'), max=1250.0, style=Pro…"
      ]
     },
     "metadata": {},
     "output_type": "display_data"
    },
    {
     "name": "stdout",
     "output_type": "stream",
     "text": [
      "Epoch 1913: train=8.11169, val=8.29275, took 25.688 s\n",
      "  Validation Found 51114 of 54504, added 2100 (eff 93.78%) (0.21 FP/event)\n"
     ]
    },
    {
     "data": {
      "application/vnd.jupyter.widget-view+json": {
       "model_id": "",
       "version_major": 2,
       "version_minor": 0
      },
      "text/plain": [
       "HBox(children=(FloatProgress(value=0.0, description='Training', layout=Layout(flex='2'), max=1250.0, style=Pro…"
      ]
     },
     "metadata": {},
     "output_type": "display_data"
    },
    {
     "name": "stdout",
     "output_type": "stream",
     "text": [
      "Epoch 1914: train=8.12495, val=8.25886, took 25.824 s\n",
      "  Validation Found 51107 of 54504, added 2156 (eff 93.77%) (0.216 FP/event)\n"
     ]
    },
    {
     "data": {
      "application/vnd.jupyter.widget-view+json": {
       "model_id": "",
       "version_major": 2,
       "version_minor": 0
      },
      "text/plain": [
       "HBox(children=(FloatProgress(value=0.0, description='Training', layout=Layout(flex='2'), max=1250.0, style=Pro…"
      ]
     },
     "metadata": {},
     "output_type": "display_data"
    },
    {
     "name": "stdout",
     "output_type": "stream",
     "text": [
      "Epoch 1915: train=8.10436, val=8.34335, took 25.854 s\n",
      "  Validation Found 51045 of 54504, added 2265 (eff 93.65%) (0.227 FP/event)\n"
     ]
    },
    {
     "data": {
      "application/vnd.jupyter.widget-view+json": {
       "model_id": "",
       "version_major": 2,
       "version_minor": 0
      },
      "text/plain": [
       "HBox(children=(FloatProgress(value=0.0, description='Training', layout=Layout(flex='2'), max=1250.0, style=Pro…"
      ]
     },
     "metadata": {},
     "output_type": "display_data"
    },
    {
     "name": "stdout",
     "output_type": "stream",
     "text": [
      "Epoch 1916: train=8.11746, val=8.33518, took 25.812 s\n",
      "  Validation Found 51095 of 54504, added 2040 (eff 93.75%) (0.204 FP/event)\n"
     ]
    },
    {
     "data": {
      "application/vnd.jupyter.widget-view+json": {
       "model_id": "",
       "version_major": 2,
       "version_minor": 0
      },
      "text/plain": [
       "HBox(children=(FloatProgress(value=0.0, description='Training', layout=Layout(flex='2'), max=1250.0, style=Pro…"
      ]
     },
     "metadata": {},
     "output_type": "display_data"
    },
    {
     "name": "stdout",
     "output_type": "stream",
     "text": [
      "Epoch 1917: train=8.10149, val=8.29165, took 25.827 s\n",
      "  Validation Found 51129 of 54504, added 2124 (eff 93.81%) (0.213 FP/event)\n"
     ]
    },
    {
     "data": {
      "application/vnd.jupyter.widget-view+json": {
       "model_id": "",
       "version_major": 2,
       "version_minor": 0
      },
      "text/plain": [
       "HBox(children=(FloatProgress(value=0.0, description='Training', layout=Layout(flex='2'), max=1250.0, style=Pro…"
      ]
     },
     "metadata": {},
     "output_type": "display_data"
    },
    {
     "name": "stdout",
     "output_type": "stream",
     "text": [
      "Epoch 1918: train=8.10799, val=8.22078, took 25.841 s\n",
      "  Validation Found 51222 of 54504, added 2440 (eff 93.98%) (0.244 FP/event)\n"
     ]
    },
    {
     "data": {
      "application/vnd.jupyter.widget-view+json": {
       "model_id": "",
       "version_major": 2,
       "version_minor": 0
      },
      "text/plain": [
       "HBox(children=(FloatProgress(value=0.0, description='Training', layout=Layout(flex='2'), max=1250.0, style=Pro…"
      ]
     },
     "metadata": {},
     "output_type": "display_data"
    },
    {
     "name": "stdout",
     "output_type": "stream",
     "text": [
      "Epoch 1919: train=8.1075, val=8.20318, took 26.08 s\n",
      "  Validation Found 51103 of 54504, added 2140 (eff 93.76%) (0.214 FP/event)\n"
     ]
    },
    {
     "data": {
      "application/vnd.jupyter.widget-view+json": {
       "model_id": "",
       "version_major": 2,
       "version_minor": 0
      },
      "text/plain": [
       "HBox(children=(FloatProgress(value=0.0, description='Training', layout=Layout(flex='2'), max=1250.0, style=Pro…"
      ]
     },
     "metadata": {},
     "output_type": "display_data"
    },
    {
     "name": "stdout",
     "output_type": "stream",
     "text": [
      "Epoch 1920: train=8.11259, val=8.38775, took 25.767 s\n",
      "  Validation Found 51153 of 54504, added 2683 (eff 93.85%) (0.269 FP/event)\n"
     ]
    },
    {
     "data": {
      "application/vnd.jupyter.widget-view+json": {
       "model_id": "",
       "version_major": 2,
       "version_minor": 0
      },
      "text/plain": [
       "HBox(children=(FloatProgress(value=0.0, description='Training', layout=Layout(flex='2'), max=1250.0, style=Pro…"
      ]
     },
     "metadata": {},
     "output_type": "display_data"
    },
    {
     "name": "stdout",
     "output_type": "stream",
     "text": [
      "Epoch 1921: train=8.1126, val=8.24514, took 25.797 s\n",
      "  Validation Found 51122 of 54504, added 2228 (eff 93.79%) (0.223 FP/event)\n"
     ]
    },
    {
     "data": {
      "application/vnd.jupyter.widget-view+json": {
       "model_id": "",
       "version_major": 2,
       "version_minor": 0
      },
      "text/plain": [
       "HBox(children=(FloatProgress(value=0.0, description='Training', layout=Layout(flex='2'), max=1250.0, style=Pro…"
      ]
     },
     "metadata": {},
     "output_type": "display_data"
    },
    {
     "name": "stdout",
     "output_type": "stream",
     "text": [
      "Epoch 1922: train=8.11497, val=8.40178, took 25.776 s\n",
      "  Validation Found 50814 of 54504, added 1787 (eff 93.23%) (0.179 FP/event)\n"
     ]
    },
    {
     "data": {
      "application/vnd.jupyter.widget-view+json": {
       "model_id": "",
       "version_major": 2,
       "version_minor": 0
      },
      "text/plain": [
       "HBox(children=(FloatProgress(value=0.0, description='Training', layout=Layout(flex='2'), max=1250.0, style=Pro…"
      ]
     },
     "metadata": {},
     "output_type": "display_data"
    },
    {
     "name": "stdout",
     "output_type": "stream",
     "text": [
      "Epoch 1923: train=8.1152, val=8.33287, took 25.814 s\n",
      "  Validation Found 50953 of 54504, added 1948 (eff 93.48%) (0.195 FP/event)\n"
     ]
    },
    {
     "data": {
      "application/vnd.jupyter.widget-view+json": {
       "model_id": "",
       "version_major": 2,
       "version_minor": 0
      },
      "text/plain": [
       "HBox(children=(FloatProgress(value=0.0, description='Training', layout=Layout(flex='2'), max=1250.0, style=Pro…"
      ]
     },
     "metadata": {},
     "output_type": "display_data"
    },
    {
     "name": "stdout",
     "output_type": "stream",
     "text": [
      "Epoch 1924: train=8.1068, val=8.25572, took 25.869 s\n",
      "  Validation Found 51003 of 54504, added 1957 (eff 93.58%) (0.196 FP/event)\n"
     ]
    },
    {
     "data": {
      "application/vnd.jupyter.widget-view+json": {
       "model_id": "",
       "version_major": 2,
       "version_minor": 0
      },
      "text/plain": [
       "HBox(children=(FloatProgress(value=0.0, description='Training', layout=Layout(flex='2'), max=1250.0, style=Pro…"
      ]
     },
     "metadata": {},
     "output_type": "display_data"
    },
    {
     "name": "stdout",
     "output_type": "stream",
     "text": [
      "Epoch 1925: train=8.11088, val=8.18573, took 25.689 s\n",
      "  Validation Found 51183 of 54504, added 2270 (eff 93.91%) (0.227 FP/event)\n"
     ]
    },
    {
     "data": {
      "application/vnd.jupyter.widget-view+json": {
       "model_id": "",
       "version_major": 2,
       "version_minor": 0
      },
      "text/plain": [
       "HBox(children=(FloatProgress(value=0.0, description='Training', layout=Layout(flex='2'), max=1250.0, style=Pro…"
      ]
     },
     "metadata": {},
     "output_type": "display_data"
    },
    {
     "name": "stdout",
     "output_type": "stream",
     "text": [
      "Epoch 1926: train=8.10754, val=8.23076, took 25.912 s\n",
      "  Validation Found 51100 of 54504, added 2145 (eff 93.75%) (0.215 FP/event)\n"
     ]
    },
    {
     "data": {
      "application/vnd.jupyter.widget-view+json": {
       "model_id": "",
       "version_major": 2,
       "version_minor": 0
      },
      "text/plain": [
       "HBox(children=(FloatProgress(value=0.0, description='Training', layout=Layout(flex='2'), max=1250.0, style=Pro…"
      ]
     },
     "metadata": {},
     "output_type": "display_data"
    },
    {
     "name": "stdout",
     "output_type": "stream",
     "text": [
      "Epoch 1927: train=8.10925, val=8.19745, took 25.934 s\n",
      "  Validation Found 51124 of 54504, added 2180 (eff 93.80%) (0.218 FP/event)\n"
     ]
    },
    {
     "data": {
      "application/vnd.jupyter.widget-view+json": {
       "model_id": "",
       "version_major": 2,
       "version_minor": 0
      },
      "text/plain": [
       "HBox(children=(FloatProgress(value=0.0, description='Training', layout=Layout(flex='2'), max=1250.0, style=Pro…"
      ]
     },
     "metadata": {},
     "output_type": "display_data"
    },
    {
     "name": "stdout",
     "output_type": "stream",
     "text": [
      "Epoch 1928: train=8.12021, val=8.33684, took 25.861 s\n",
      "  Validation Found 51028 of 54504, added 2022 (eff 93.62%) (0.203 FP/event)\n"
     ]
    },
    {
     "data": {
      "application/vnd.jupyter.widget-view+json": {
       "model_id": "",
       "version_major": 2,
       "version_minor": 0
      },
      "text/plain": [
       "HBox(children=(FloatProgress(value=0.0, description='Training', layout=Layout(flex='2'), max=1250.0, style=Pro…"
      ]
     },
     "metadata": {},
     "output_type": "display_data"
    },
    {
     "name": "stdout",
     "output_type": "stream",
     "text": [
      "Epoch 1929: train=8.11947, val=8.34829, took 25.876 s\n",
      "  Validation Found 50877 of 54504, added 1781 (eff 93.35%) (0.178 FP/event)\n"
     ]
    },
    {
     "data": {
      "application/vnd.jupyter.widget-view+json": {
       "model_id": "",
       "version_major": 2,
       "version_minor": 0
      },
      "text/plain": [
       "HBox(children=(FloatProgress(value=0.0, description='Training', layout=Layout(flex='2'), max=1250.0, style=Pro…"
      ]
     },
     "metadata": {},
     "output_type": "display_data"
    },
    {
     "name": "stdout",
     "output_type": "stream",
     "text": [
      "Epoch 1930: train=8.10994, val=8.24418, took 25.884 s\n",
      "  Validation Found 51071 of 54504, added 2059 (eff 93.70%) (0.206 FP/event)\n"
     ]
    },
    {
     "data": {
      "application/vnd.jupyter.widget-view+json": {
       "model_id": "",
       "version_major": 2,
       "version_minor": 0
      },
      "text/plain": [
       "HBox(children=(FloatProgress(value=0.0, description='Training', layout=Layout(flex='2'), max=1250.0, style=Pro…"
      ]
     },
     "metadata": {},
     "output_type": "display_data"
    },
    {
     "name": "stdout",
     "output_type": "stream",
     "text": [
      "Epoch 1931: train=8.11259, val=8.26833, took 26.141 s\n",
      "  Validation Found 51059 of 54504, added 2114 (eff 93.68%) (0.212 FP/event)\n"
     ]
    },
    {
     "data": {
      "application/vnd.jupyter.widget-view+json": {
       "model_id": "",
       "version_major": 2,
       "version_minor": 0
      },
      "text/plain": [
       "HBox(children=(FloatProgress(value=0.0, description='Training', layout=Layout(flex='2'), max=1250.0, style=Pro…"
      ]
     },
     "metadata": {},
     "output_type": "display_data"
    },
    {
     "name": "stdout",
     "output_type": "stream",
     "text": [
      "Epoch 1932: train=8.10189, val=8.29215, took 26.141 s\n",
      "  Validation Found 50963 of 54504, added 1900 (eff 93.50%) (0.19 FP/event)\n"
     ]
    },
    {
     "data": {
      "application/vnd.jupyter.widget-view+json": {
       "model_id": "",
       "version_major": 2,
       "version_minor": 0
      },
      "text/plain": [
       "HBox(children=(FloatProgress(value=0.0, description='Training', layout=Layout(flex='2'), max=1250.0, style=Pro…"
      ]
     },
     "metadata": {},
     "output_type": "display_data"
    },
    {
     "name": "stdout",
     "output_type": "stream",
     "text": [
      "Epoch 1933: train=8.1132, val=8.34173, took 26.467 s\n",
      "  Validation Found 50993 of 54504, added 1983 (eff 93.56%) (0.199 FP/event)\n"
     ]
    },
    {
     "data": {
      "application/vnd.jupyter.widget-view+json": {
       "model_id": "",
       "version_major": 2,
       "version_minor": 0
      },
      "text/plain": [
       "HBox(children=(FloatProgress(value=0.0, description='Training', layout=Layout(flex='2'), max=1250.0, style=Pro…"
      ]
     },
     "metadata": {},
     "output_type": "display_data"
    },
    {
     "name": "stdout",
     "output_type": "stream",
     "text": [
      "Epoch 1934: train=8.1108, val=8.2575, took 25.901 s\n",
      "  Validation Found 51152 of 54504, added 2279 (eff 93.85%) (0.228 FP/event)\n"
     ]
    },
    {
     "data": {
      "application/vnd.jupyter.widget-view+json": {
       "model_id": "",
       "version_major": 2,
       "version_minor": 0
      },
      "text/plain": [
       "HBox(children=(FloatProgress(value=0.0, description='Training', layout=Layout(flex='2'), max=1250.0, style=Pro…"
      ]
     },
     "metadata": {},
     "output_type": "display_data"
    },
    {
     "name": "stdout",
     "output_type": "stream",
     "text": [
      "Epoch 1935: train=8.11407, val=8.24845, took 25.881 s\n",
      "  Validation Found 50995 of 54504, added 2092 (eff 93.56%) (0.21 FP/event)\n"
     ]
    },
    {
     "data": {
      "application/vnd.jupyter.widget-view+json": {
       "model_id": "",
       "version_major": 2,
       "version_minor": 0
      },
      "text/plain": [
       "HBox(children=(FloatProgress(value=0.0, description='Training', layout=Layout(flex='2'), max=1250.0, style=Pro…"
      ]
     },
     "metadata": {},
     "output_type": "display_data"
    },
    {
     "name": "stdout",
     "output_type": "stream",
     "text": [
      "Epoch 1936: train=8.10922, val=8.16699, took 25.903 s\n",
      "  Validation Found 51211 of 54504, added 2375 (eff 93.96%) (0.238 FP/event)\n"
     ]
    },
    {
     "data": {
      "application/vnd.jupyter.widget-view+json": {
       "model_id": "",
       "version_major": 2,
       "version_minor": 0
      },
      "text/plain": [
       "HBox(children=(FloatProgress(value=0.0, description='Training', layout=Layout(flex='2'), max=1250.0, style=Pro…"
      ]
     },
     "metadata": {},
     "output_type": "display_data"
    },
    {
     "name": "stdout",
     "output_type": "stream",
     "text": [
      "Epoch 1937: train=8.10894, val=8.32915, took 26.207 s\n",
      "  Validation Found 51425 of 54504, added 3042 (eff 94.35%) (0.305 FP/event)\n"
     ]
    },
    {
     "data": {
      "application/vnd.jupyter.widget-view+json": {
       "model_id": "",
       "version_major": 2,
       "version_minor": 0
      },
      "text/plain": [
       "HBox(children=(FloatProgress(value=0.0, description='Training', layout=Layout(flex='2'), max=1250.0, style=Pro…"
      ]
     },
     "metadata": {},
     "output_type": "display_data"
    },
    {
     "name": "stdout",
     "output_type": "stream",
     "text": [
      "Epoch 1938: train=8.11212, val=8.27915, took 25.928 s\n",
      "  Validation Found 51175 of 54504, added 2340 (eff 93.89%) (0.234 FP/event)\n"
     ]
    },
    {
     "data": {
      "application/vnd.jupyter.widget-view+json": {
       "model_id": "",
       "version_major": 2,
       "version_minor": 0
      },
      "text/plain": [
       "HBox(children=(FloatProgress(value=0.0, description='Training', layout=Layout(flex='2'), max=1250.0, style=Pro…"
      ]
     },
     "metadata": {},
     "output_type": "display_data"
    },
    {
     "name": "stdout",
     "output_type": "stream",
     "text": [
      "Epoch 1939: train=8.11684, val=8.24552, took 25.96 s\n",
      "  Validation Found 51158 of 54504, added 2259 (eff 93.86%) (0.226 FP/event)\n"
     ]
    },
    {
     "data": {
      "application/vnd.jupyter.widget-view+json": {
       "model_id": "",
       "version_major": 2,
       "version_minor": 0
      },
      "text/plain": [
       "HBox(children=(FloatProgress(value=0.0, description='Training', layout=Layout(flex='2'), max=1250.0, style=Pro…"
      ]
     },
     "metadata": {},
     "output_type": "display_data"
    },
    {
     "name": "stdout",
     "output_type": "stream",
     "text": [
      "Epoch 1940: train=8.1054, val=8.40385, took 25.713 s\n",
      "  Validation Found 51224 of 54504, added 3070 (eff 93.98%) (0.307 FP/event)\n"
     ]
    },
    {
     "data": {
      "application/vnd.jupyter.widget-view+json": {
       "model_id": "",
       "version_major": 2,
       "version_minor": 0
      },
      "text/plain": [
       "HBox(children=(FloatProgress(value=0.0, description='Training', layout=Layout(flex='2'), max=1250.0, style=Pro…"
      ]
     },
     "metadata": {},
     "output_type": "display_data"
    },
    {
     "name": "stdout",
     "output_type": "stream",
     "text": [
      "Epoch 1941: train=8.11251, val=8.18249, took 25.766 s\n",
      "  Validation Found 51121 of 54504, added 2234 (eff 93.79%) (0.224 FP/event)\n"
     ]
    },
    {
     "data": {
      "application/vnd.jupyter.widget-view+json": {
       "model_id": "",
       "version_major": 2,
       "version_minor": 0
      },
      "text/plain": [
       "HBox(children=(FloatProgress(value=0.0, description='Training', layout=Layout(flex='2'), max=1250.0, style=Pro…"
      ]
     },
     "metadata": {},
     "output_type": "display_data"
    },
    {
     "name": "stdout",
     "output_type": "stream",
     "text": [
      "Epoch 1942: train=8.10931, val=8.18976, took 25.73 s\n",
      "  Validation Found 51230 of 54504, added 2449 (eff 93.99%) (0.245 FP/event)\n"
     ]
    },
    {
     "data": {
      "application/vnd.jupyter.widget-view+json": {
       "model_id": "",
       "version_major": 2,
       "version_minor": 0
      },
      "text/plain": [
       "HBox(children=(FloatProgress(value=0.0, description='Training', layout=Layout(flex='2'), max=1250.0, style=Pro…"
      ]
     },
     "metadata": {},
     "output_type": "display_data"
    },
    {
     "name": "stdout",
     "output_type": "stream",
     "text": [
      "Epoch 1943: train=8.1161, val=8.38252, took 25.851 s\n",
      "  Validation Found 50911 of 54504, added 1945 (eff 93.41%) (0.195 FP/event)\n"
     ]
    },
    {
     "data": {
      "application/vnd.jupyter.widget-view+json": {
       "model_id": "",
       "version_major": 2,
       "version_minor": 0
      },
      "text/plain": [
       "HBox(children=(FloatProgress(value=0.0, description='Training', layout=Layout(flex='2'), max=1250.0, style=Pro…"
      ]
     },
     "metadata": {},
     "output_type": "display_data"
    },
    {
     "name": "stdout",
     "output_type": "stream",
     "text": [
      "Epoch 1944: train=8.10914, val=8.39932, took 25.837 s\n",
      "  Validation Found 50999 of 54504, added 1981 (eff 93.57%) (0.198 FP/event)\n"
     ]
    },
    {
     "data": {
      "application/vnd.jupyter.widget-view+json": {
       "model_id": "",
       "version_major": 2,
       "version_minor": 0
      },
      "text/plain": [
       "HBox(children=(FloatProgress(value=0.0, description='Training', layout=Layout(flex='2'), max=1250.0, style=Pro…"
      ]
     },
     "metadata": {},
     "output_type": "display_data"
    },
    {
     "name": "stdout",
     "output_type": "stream",
     "text": [
      "Epoch 1945: train=8.11575, val=8.19107, took 25.86 s\n",
      "  Validation Found 51139 of 54504, added 2117 (eff 93.83%) (0.212 FP/event)\n"
     ]
    },
    {
     "data": {
      "application/vnd.jupyter.widget-view+json": {
       "model_id": "",
       "version_major": 2,
       "version_minor": 0
      },
      "text/plain": [
       "HBox(children=(FloatProgress(value=0.0, description='Training', layout=Layout(flex='2'), max=1250.0, style=Pro…"
      ]
     },
     "metadata": {},
     "output_type": "display_data"
    },
    {
     "name": "stdout",
     "output_type": "stream",
     "text": [
      "Epoch 1946: train=8.11893, val=8.33238, took 25.97 s\n",
      "  Validation Found 51172 of 54504, added 2306 (eff 93.89%) (0.231 FP/event)\n"
     ]
    },
    {
     "data": {
      "application/vnd.jupyter.widget-view+json": {
       "model_id": "",
       "version_major": 2,
       "version_minor": 0
      },
      "text/plain": [
       "HBox(children=(FloatProgress(value=0.0, description='Training', layout=Layout(flex='2'), max=1250.0, style=Pro…"
      ]
     },
     "metadata": {},
     "output_type": "display_data"
    },
    {
     "name": "stdout",
     "output_type": "stream",
     "text": [
      "Epoch 1947: train=8.11354, val=8.36986, took 25.844 s\n",
      "  Validation Found 50822 of 54504, added 1752 (eff 93.24%) (0.175 FP/event)\n"
     ]
    },
    {
     "data": {
      "application/vnd.jupyter.widget-view+json": {
       "model_id": "",
       "version_major": 2,
       "version_minor": 0
      },
      "text/plain": [
       "HBox(children=(FloatProgress(value=0.0, description='Training', layout=Layout(flex='2'), max=1250.0, style=Pro…"
      ]
     },
     "metadata": {},
     "output_type": "display_data"
    },
    {
     "name": "stdout",
     "output_type": "stream",
     "text": [
      "Epoch 1948: train=8.10755, val=8.27412, took 25.825 s\n",
      "  Validation Found 50952 of 54504, added 1829 (eff 93.48%) (0.183 FP/event)\n"
     ]
    },
    {
     "data": {
      "application/vnd.jupyter.widget-view+json": {
       "model_id": "",
       "version_major": 2,
       "version_minor": 0
      },
      "text/plain": [
       "HBox(children=(FloatProgress(value=0.0, description='Training', layout=Layout(flex='2'), max=1250.0, style=Pro…"
      ]
     },
     "metadata": {},
     "output_type": "display_data"
    },
    {
     "name": "stdout",
     "output_type": "stream",
     "text": [
      "Epoch 1949: train=8.11315, val=8.26992, took 25.851 s\n",
      "  Validation Found 51081 of 54504, added 2187 (eff 93.72%) (0.219 FP/event)\n"
     ]
    },
    {
     "data": {
      "application/vnd.jupyter.widget-view+json": {
       "model_id": "",
       "version_major": 2,
       "version_minor": 0
      },
      "text/plain": [
       "HBox(children=(FloatProgress(value=0.0, description='Training', layout=Layout(flex='2'), max=1250.0, style=Pro…"
      ]
     },
     "metadata": {},
     "output_type": "display_data"
    },
    {
     "name": "stdout",
     "output_type": "stream",
     "text": [
      "Epoch 1950: train=8.12004, val=8.2792, took 25.861 s\n",
      "  Validation Found 51064 of 54504, added 2078 (eff 93.69%) (0.208 FP/event)\n"
     ]
    },
    {
     "data": {
      "application/vnd.jupyter.widget-view+json": {
       "model_id": "",
       "version_major": 2,
       "version_minor": 0
      },
      "text/plain": [
       "HBox(children=(FloatProgress(value=0.0, description='Training', layout=Layout(flex='2'), max=1250.0, style=Pro…"
      ]
     },
     "metadata": {},
     "output_type": "display_data"
    },
    {
     "name": "stdout",
     "output_type": "stream",
     "text": [
      "Epoch 1951: train=8.11018, val=8.42653, took 25.841 s\n",
      "  Validation Found 51043 of 54504, added 2056 (eff 93.65%) (0.206 FP/event)\n"
     ]
    },
    {
     "data": {
      "application/vnd.jupyter.widget-view+json": {
       "model_id": "",
       "version_major": 2,
       "version_minor": 0
      },
      "text/plain": [
       "HBox(children=(FloatProgress(value=0.0, description='Training', layout=Layout(flex='2'), max=1250.0, style=Pro…"
      ]
     },
     "metadata": {},
     "output_type": "display_data"
    },
    {
     "name": "stdout",
     "output_type": "stream",
     "text": [
      "Epoch 1952: train=8.11051, val=8.16196, took 26.124 s\n",
      "  Validation Found 51206 of 54504, added 2285 (eff 93.95%) (0.229 FP/event)\n"
     ]
    },
    {
     "data": {
      "application/vnd.jupyter.widget-view+json": {
       "model_id": "",
       "version_major": 2,
       "version_minor": 0
      },
      "text/plain": [
       "HBox(children=(FloatProgress(value=0.0, description='Training', layout=Layout(flex='2'), max=1250.0, style=Pro…"
      ]
     },
     "metadata": {},
     "output_type": "display_data"
    },
    {
     "name": "stdout",
     "output_type": "stream",
     "text": [
      "Epoch 1953: train=8.11384, val=8.28758, took 25.845 s\n",
      "  Validation Found 51070 of 54504, added 1989 (eff 93.70%) (0.199 FP/event)\n"
     ]
    },
    {
     "data": {
      "application/vnd.jupyter.widget-view+json": {
       "model_id": "",
       "version_major": 2,
       "version_minor": 0
      },
      "text/plain": [
       "HBox(children=(FloatProgress(value=0.0, description='Training', layout=Layout(flex='2'), max=1250.0, style=Pro…"
      ]
     },
     "metadata": {},
     "output_type": "display_data"
    },
    {
     "name": "stdout",
     "output_type": "stream",
     "text": [
      "Epoch 1954: train=8.11581, val=8.21597, took 26.061 s\n",
      "  Validation Found 51021 of 54504, added 1941 (eff 93.61%) (0.194 FP/event)\n"
     ]
    },
    {
     "data": {
      "application/vnd.jupyter.widget-view+json": {
       "model_id": "",
       "version_major": 2,
       "version_minor": 0
      },
      "text/plain": [
       "HBox(children=(FloatProgress(value=0.0, description='Training', layout=Layout(flex='2'), max=1250.0, style=Pro…"
      ]
     },
     "metadata": {},
     "output_type": "display_data"
    },
    {
     "name": "stdout",
     "output_type": "stream",
     "text": [
      "Epoch 1955: train=8.10975, val=8.30517, took 25.791 s\n",
      "  Validation Found 51051 of 54504, added 2038 (eff 93.66%) (0.204 FP/event)\n"
     ]
    },
    {
     "data": {
      "application/vnd.jupyter.widget-view+json": {
       "model_id": "",
       "version_major": 2,
       "version_minor": 0
      },
      "text/plain": [
       "HBox(children=(FloatProgress(value=0.0, description='Training', layout=Layout(flex='2'), max=1250.0, style=Pro…"
      ]
     },
     "metadata": {},
     "output_type": "display_data"
    },
    {
     "name": "stdout",
     "output_type": "stream",
     "text": [
      "Epoch 1956: train=8.11106, val=8.19037, took 25.866 s\n",
      "  Validation Found 51245 of 54504, added 2384 (eff 94.02%) (0.239 FP/event)\n"
     ]
    },
    {
     "data": {
      "application/vnd.jupyter.widget-view+json": {
       "model_id": "",
       "version_major": 2,
       "version_minor": 0
      },
      "text/plain": [
       "HBox(children=(FloatProgress(value=0.0, description='Training', layout=Layout(flex='2'), max=1250.0, style=Pro…"
      ]
     },
     "metadata": {},
     "output_type": "display_data"
    },
    {
     "name": "stdout",
     "output_type": "stream",
     "text": [
      "Epoch 1957: train=8.10467, val=8.22926, took 25.867 s\n",
      "  Validation Found 51160 of 54504, added 2204 (eff 93.86%) (0.221 FP/event)\n"
     ]
    },
    {
     "data": {
      "application/vnd.jupyter.widget-view+json": {
       "model_id": "",
       "version_major": 2,
       "version_minor": 0
      },
      "text/plain": [
       "HBox(children=(FloatProgress(value=0.0, description='Training', layout=Layout(flex='2'), max=1250.0, style=Pro…"
      ]
     },
     "metadata": {},
     "output_type": "display_data"
    },
    {
     "name": "stdout",
     "output_type": "stream",
     "text": [
      "Epoch 1958: train=8.11564, val=8.2958, took 25.847 s\n",
      "  Validation Found 50916 of 54504, added 1840 (eff 93.42%) (0.184 FP/event)\n"
     ]
    },
    {
     "data": {
      "application/vnd.jupyter.widget-view+json": {
       "model_id": "",
       "version_major": 2,
       "version_minor": 0
      },
      "text/plain": [
       "HBox(children=(FloatProgress(value=0.0, description='Training', layout=Layout(flex='2'), max=1250.0, style=Pro…"
      ]
     },
     "metadata": {},
     "output_type": "display_data"
    },
    {
     "name": "stdout",
     "output_type": "stream",
     "text": [
      "Epoch 1959: train=8.11212, val=8.35867, took 25.868 s\n",
      "  Validation Found 50880 of 54504, added 1783 (eff 93.35%) (0.179 FP/event)\n"
     ]
    },
    {
     "data": {
      "application/vnd.jupyter.widget-view+json": {
       "model_id": "",
       "version_major": 2,
       "version_minor": 0
      },
      "text/plain": [
       "HBox(children=(FloatProgress(value=0.0, description='Training', layout=Layout(flex='2'), max=1250.0, style=Pro…"
      ]
     },
     "metadata": {},
     "output_type": "display_data"
    },
    {
     "name": "stdout",
     "output_type": "stream",
     "text": [
      "Epoch 1960: train=8.12151, val=8.30346, took 25.84 s\n",
      "  Validation Found 50908 of 54504, added 1885 (eff 93.40%) (0.189 FP/event)\n"
     ]
    },
    {
     "data": {
      "application/vnd.jupyter.widget-view+json": {
       "model_id": "",
       "version_major": 2,
       "version_minor": 0
      },
      "text/plain": [
       "HBox(children=(FloatProgress(value=0.0, description='Training', layout=Layout(flex='2'), max=1250.0, style=Pro…"
      ]
     },
     "metadata": {},
     "output_type": "display_data"
    },
    {
     "name": "stdout",
     "output_type": "stream",
     "text": [
      "Epoch 1961: train=8.11417, val=8.37068, took 26.064 s\n",
      "  Validation Found 50958 of 54504, added 1944 (eff 93.49%) (0.195 FP/event)\n"
     ]
    },
    {
     "data": {
      "application/vnd.jupyter.widget-view+json": {
       "model_id": "",
       "version_major": 2,
       "version_minor": 0
      },
      "text/plain": [
       "HBox(children=(FloatProgress(value=0.0, description='Training', layout=Layout(flex='2'), max=1250.0, style=Pro…"
      ]
     },
     "metadata": {},
     "output_type": "display_data"
    },
    {
     "name": "stdout",
     "output_type": "stream",
     "text": [
      "Epoch 1962: train=8.11307, val=8.29599, took 26.35 s\n",
      "  Validation Found 51093 of 54504, added 2205 (eff 93.74%) (0.221 FP/event)\n"
     ]
    },
    {
     "data": {
      "application/vnd.jupyter.widget-view+json": {
       "model_id": "",
       "version_major": 2,
       "version_minor": 0
      },
      "text/plain": [
       "HBox(children=(FloatProgress(value=0.0, description='Training', layout=Layout(flex='2'), max=1250.0, style=Pro…"
      ]
     },
     "metadata": {},
     "output_type": "display_data"
    },
    {
     "name": "stdout",
     "output_type": "stream",
     "text": [
      "Epoch 1963: train=8.11201, val=8.31795, took 25.903 s\n",
      "  Validation Found 50967 of 54504, added 1936 (eff 93.51%) (0.194 FP/event)\n"
     ]
    },
    {
     "data": {
      "application/vnd.jupyter.widget-view+json": {
       "model_id": "",
       "version_major": 2,
       "version_minor": 0
      },
      "text/plain": [
       "HBox(children=(FloatProgress(value=0.0, description='Training', layout=Layout(flex='2'), max=1250.0, style=Pro…"
      ]
     },
     "metadata": {},
     "output_type": "display_data"
    },
    {
     "name": "stdout",
     "output_type": "stream",
     "text": [
      "Epoch 1964: train=8.11866, val=8.38724, took 26.071 s\n",
      "  Validation Found 50909 of 54504, added 1861 (eff 93.40%) (0.186 FP/event)\n"
     ]
    },
    {
     "data": {
      "application/vnd.jupyter.widget-view+json": {
       "model_id": "",
       "version_major": 2,
       "version_minor": 0
      },
      "text/plain": [
       "HBox(children=(FloatProgress(value=0.0, description='Training', layout=Layout(flex='2'), max=1250.0, style=Pro…"
      ]
     },
     "metadata": {},
     "output_type": "display_data"
    },
    {
     "name": "stdout",
     "output_type": "stream",
     "text": [
      "Epoch 1965: train=8.10671, val=8.24632, took 25.966 s\n",
      "  Validation Found 51135 of 54504, added 2266 (eff 93.82%) (0.227 FP/event)\n"
     ]
    },
    {
     "data": {
      "application/vnd.jupyter.widget-view+json": {
       "model_id": "",
       "version_major": 2,
       "version_minor": 0
      },
      "text/plain": [
       "HBox(children=(FloatProgress(value=0.0, description='Training', layout=Layout(flex='2'), max=1250.0, style=Pro…"
      ]
     },
     "metadata": {},
     "output_type": "display_data"
    },
    {
     "name": "stdout",
     "output_type": "stream",
     "text": [
      "Epoch 1966: train=8.10351, val=8.27745, took 25.841 s\n",
      "  Validation Found 51146 of 54504, added 2242 (eff 93.84%) (0.225 FP/event)\n"
     ]
    },
    {
     "data": {
      "application/vnd.jupyter.widget-view+json": {
       "model_id": "",
       "version_major": 2,
       "version_minor": 0
      },
      "text/plain": [
       "HBox(children=(FloatProgress(value=0.0, description='Training', layout=Layout(flex='2'), max=1250.0, style=Pro…"
      ]
     },
     "metadata": {},
     "output_type": "display_data"
    },
    {
     "name": "stdout",
     "output_type": "stream",
     "text": [
      "Epoch 1967: train=8.10763, val=8.29774, took 25.9 s\n",
      "  Validation Found 51097 of 54504, added 2105 (eff 93.75%) (0.211 FP/event)\n"
     ]
    },
    {
     "data": {
      "application/vnd.jupyter.widget-view+json": {
       "model_id": "",
       "version_major": 2,
       "version_minor": 0
      },
      "text/plain": [
       "HBox(children=(FloatProgress(value=0.0, description='Training', layout=Layout(flex='2'), max=1250.0, style=Pro…"
      ]
     },
     "metadata": {},
     "output_type": "display_data"
    },
    {
     "name": "stdout",
     "output_type": "stream",
     "text": [
      "Epoch 1968: train=8.11045, val=8.27516, took 25.9 s\n",
      "  Validation Found 51017 of 54504, added 1989 (eff 93.60%) (0.199 FP/event)\n"
     ]
    },
    {
     "data": {
      "application/vnd.jupyter.widget-view+json": {
       "model_id": "",
       "version_major": 2,
       "version_minor": 0
      },
      "text/plain": [
       "HBox(children=(FloatProgress(value=0.0, description='Training', layout=Layout(flex='2'), max=1250.0, style=Pro…"
      ]
     },
     "metadata": {},
     "output_type": "display_data"
    },
    {
     "name": "stdout",
     "output_type": "stream",
     "text": [
      "Epoch 1969: train=8.11929, val=8.19285, took 25.92 s\n",
      "  Validation Found 51149 of 54504, added 2222 (eff 93.84%) (0.223 FP/event)\n"
     ]
    },
    {
     "data": {
      "application/vnd.jupyter.widget-view+json": {
       "model_id": "",
       "version_major": 2,
       "version_minor": 0
      },
      "text/plain": [
       "HBox(children=(FloatProgress(value=0.0, description='Training', layout=Layout(flex='2'), max=1250.0, style=Pro…"
      ]
     },
     "metadata": {},
     "output_type": "display_data"
    },
    {
     "name": "stdout",
     "output_type": "stream",
     "text": [
      "Epoch 1970: train=8.11187, val=8.36277, took 25.932 s\n",
      "  Validation Found 51047 of 54504, added 2032 (eff 93.66%) (0.204 FP/event)\n"
     ]
    },
    {
     "data": {
      "application/vnd.jupyter.widget-view+json": {
       "model_id": "",
       "version_major": 2,
       "version_minor": 0
      },
      "text/plain": [
       "HBox(children=(FloatProgress(value=0.0, description='Training', layout=Layout(flex='2'), max=1250.0, style=Pro…"
      ]
     },
     "metadata": {},
     "output_type": "display_data"
    },
    {
     "name": "stdout",
     "output_type": "stream",
     "text": [
      "Epoch 1971: train=8.10673, val=8.24801, took 25.901 s\n",
      "  Validation Found 51066 of 54504, added 2103 (eff 93.69%) (0.211 FP/event)\n"
     ]
    },
    {
     "data": {
      "application/vnd.jupyter.widget-view+json": {
       "model_id": "",
       "version_major": 2,
       "version_minor": 0
      },
      "text/plain": [
       "HBox(children=(FloatProgress(value=0.0, description='Training', layout=Layout(flex='2'), max=1250.0, style=Pro…"
      ]
     },
     "metadata": {},
     "output_type": "display_data"
    },
    {
     "name": "stdout",
     "output_type": "stream",
     "text": [
      "Epoch 1972: train=8.11706, val=8.31929, took 25.908 s\n",
      "  Validation Found 50956 of 54504, added 1868 (eff 93.49%) (0.187 FP/event)\n"
     ]
    },
    {
     "data": {
      "application/vnd.jupyter.widget-view+json": {
       "model_id": "",
       "version_major": 2,
       "version_minor": 0
      },
      "text/plain": [
       "HBox(children=(FloatProgress(value=0.0, description='Training', layout=Layout(flex='2'), max=1250.0, style=Pro…"
      ]
     },
     "metadata": {},
     "output_type": "display_data"
    },
    {
     "name": "stdout",
     "output_type": "stream",
     "text": [
      "Epoch 1973: train=8.10625, val=8.21791, took 25.902 s\n",
      "  Validation Found 51206 of 54504, added 2383 (eff 93.95%) (0.239 FP/event)\n"
     ]
    },
    {
     "data": {
      "application/vnd.jupyter.widget-view+json": {
       "model_id": "",
       "version_major": 2,
       "version_minor": 0
      },
      "text/plain": [
       "HBox(children=(FloatProgress(value=0.0, description='Training', layout=Layout(flex='2'), max=1250.0, style=Pro…"
      ]
     },
     "metadata": {},
     "output_type": "display_data"
    },
    {
     "name": "stdout",
     "output_type": "stream",
     "text": [
      "Epoch 1974: train=8.10888, val=8.20243, took 25.887 s\n",
      "  Validation Found 51329 of 54504, added 2837 (eff 94.17%) (0.284 FP/event)\n"
     ]
    },
    {
     "data": {
      "application/vnd.jupyter.widget-view+json": {
       "model_id": "",
       "version_major": 2,
       "version_minor": 0
      },
      "text/plain": [
       "HBox(children=(FloatProgress(value=0.0, description='Training', layout=Layout(flex='2'), max=1250.0, style=Pro…"
      ]
     },
     "metadata": {},
     "output_type": "display_data"
    },
    {
     "name": "stdout",
     "output_type": "stream",
     "text": [
      "Epoch 1975: train=8.10668, val=8.29613, took 26.19 s\n",
      "  Validation Found 51106 of 54504, added 2313 (eff 93.77%) (0.232 FP/event)\n"
     ]
    },
    {
     "data": {
      "application/vnd.jupyter.widget-view+json": {
       "model_id": "",
       "version_major": 2,
       "version_minor": 0
      },
      "text/plain": [
       "HBox(children=(FloatProgress(value=0.0, description='Training', layout=Layout(flex='2'), max=1250.0, style=Pro…"
      ]
     },
     "metadata": {},
     "output_type": "display_data"
    },
    {
     "name": "stdout",
     "output_type": "stream",
     "text": [
      "Epoch 1976: train=8.11051, val=8.29836, took 25.946 s\n",
      "  Validation Found 51022 of 54504, added 1992 (eff 93.61%) (0.199 FP/event)\n"
     ]
    },
    {
     "data": {
      "application/vnd.jupyter.widget-view+json": {
       "model_id": "",
       "version_major": 2,
       "version_minor": 0
      },
      "text/plain": [
       "HBox(children=(FloatProgress(value=0.0, description='Training', layout=Layout(flex='2'), max=1250.0, style=Pro…"
      ]
     },
     "metadata": {},
     "output_type": "display_data"
    },
    {
     "name": "stdout",
     "output_type": "stream",
     "text": [
      "Epoch 1977: train=8.10467, val=8.27876, took 26.159 s\n",
      "  Validation Found 50973 of 54504, added 1926 (eff 93.52%) (0.193 FP/event)\n"
     ]
    },
    {
     "data": {
      "application/vnd.jupyter.widget-view+json": {
       "model_id": "",
       "version_major": 2,
       "version_minor": 0
      },
      "text/plain": [
       "HBox(children=(FloatProgress(value=0.0, description='Training', layout=Layout(flex='2'), max=1250.0, style=Pro…"
      ]
     },
     "metadata": {},
     "output_type": "display_data"
    },
    {
     "name": "stdout",
     "output_type": "stream",
     "text": [
      "Epoch 1978: train=8.11398, val=8.18586, took 25.818 s\n",
      "  Validation Found 51309 of 54504, added 2478 (eff 94.14%) (0.248 FP/event)\n"
     ]
    },
    {
     "data": {
      "application/vnd.jupyter.widget-view+json": {
       "model_id": "",
       "version_major": 2,
       "version_minor": 0
      },
      "text/plain": [
       "HBox(children=(FloatProgress(value=0.0, description='Training', layout=Layout(flex='2'), max=1250.0, style=Pro…"
      ]
     },
     "metadata": {},
     "output_type": "display_data"
    },
    {
     "name": "stdout",
     "output_type": "stream",
     "text": [
      "Epoch 1979: train=8.11268, val=8.3548, took 25.824 s\n",
      "  Validation Found 50971 of 54504, added 1858 (eff 93.52%) (0.186 FP/event)\n"
     ]
    },
    {
     "data": {
      "application/vnd.jupyter.widget-view+json": {
       "model_id": "",
       "version_major": 2,
       "version_minor": 0
      },
      "text/plain": [
       "HBox(children=(FloatProgress(value=0.0, description='Training', layout=Layout(flex='2'), max=1250.0, style=Pro…"
      ]
     },
     "metadata": {},
     "output_type": "display_data"
    },
    {
     "name": "stdout",
     "output_type": "stream",
     "text": [
      "Epoch 1980: train=8.11356, val=8.42129, took 26.226 s\n",
      "  Validation Found 50923 of 54504, added 1861 (eff 93.43%) (0.186 FP/event)\n"
     ]
    },
    {
     "data": {
      "application/vnd.jupyter.widget-view+json": {
       "model_id": "",
       "version_major": 2,
       "version_minor": 0
      },
      "text/plain": [
       "HBox(children=(FloatProgress(value=0.0, description='Training', layout=Layout(flex='2'), max=1250.0, style=Pro…"
      ]
     },
     "metadata": {},
     "output_type": "display_data"
    },
    {
     "name": "stdout",
     "output_type": "stream",
     "text": [
      "Epoch 1981: train=8.11545, val=8.33067, took 25.896 s\n",
      "  Validation Found 51085 of 54504, added 2030 (eff 93.73%) (0.203 FP/event)\n"
     ]
    },
    {
     "data": {
      "application/vnd.jupyter.widget-view+json": {
       "model_id": "",
       "version_major": 2,
       "version_minor": 0
      },
      "text/plain": [
       "HBox(children=(FloatProgress(value=0.0, description='Training', layout=Layout(flex='2'), max=1250.0, style=Pro…"
      ]
     },
     "metadata": {},
     "output_type": "display_data"
    },
    {
     "name": "stdout",
     "output_type": "stream",
     "text": [
      "Epoch 1982: train=8.10882, val=8.27038, took 25.896 s\n",
      "  Validation Found 51009 of 54504, added 2127 (eff 93.59%) (0.213 FP/event)\n"
     ]
    },
    {
     "data": {
      "application/vnd.jupyter.widget-view+json": {
       "model_id": "",
       "version_major": 2,
       "version_minor": 0
      },
      "text/plain": [
       "HBox(children=(FloatProgress(value=0.0, description='Training', layout=Layout(flex='2'), max=1250.0, style=Pro…"
      ]
     },
     "metadata": {},
     "output_type": "display_data"
    },
    {
     "name": "stdout",
     "output_type": "stream",
     "text": [
      "Epoch 1983: train=8.1089, val=8.28761, took 26.215 s\n",
      "  Validation Found 51074 of 54504, added 2212 (eff 93.71%) (0.222 FP/event)\n"
     ]
    },
    {
     "data": {
      "application/vnd.jupyter.widget-view+json": {
       "model_id": "",
       "version_major": 2,
       "version_minor": 0
      },
      "text/plain": [
       "HBox(children=(FloatProgress(value=0.0, description='Training', layout=Layout(flex='2'), max=1250.0, style=Pro…"
      ]
     },
     "metadata": {},
     "output_type": "display_data"
    },
    {
     "name": "stdout",
     "output_type": "stream",
     "text": [
      "Epoch 1984: train=8.13867, val=8.39806, took 25.965 s\n",
      "  Validation Found 51030 of 54504, added 2257 (eff 93.63%) (0.226 FP/event)\n"
     ]
    },
    {
     "data": {
      "application/vnd.jupyter.widget-view+json": {
       "model_id": "",
       "version_major": 2,
       "version_minor": 0
      },
      "text/plain": [
       "HBox(children=(FloatProgress(value=0.0, description='Training', layout=Layout(flex='2'), max=1250.0, style=Pro…"
      ]
     },
     "metadata": {},
     "output_type": "display_data"
    },
    {
     "name": "stdout",
     "output_type": "stream",
     "text": [
      "Epoch 1985: train=8.10562, val=8.34176, took 26.297 s\n",
      "  Validation Found 50963 of 54504, added 1864 (eff 93.50%) (0.187 FP/event)\n"
     ]
    },
    {
     "data": {
      "application/vnd.jupyter.widget-view+json": {
       "model_id": "",
       "version_major": 2,
       "version_minor": 0
      },
      "text/plain": [
       "HBox(children=(FloatProgress(value=0.0, description='Training', layout=Layout(flex='2'), max=1250.0, style=Pro…"
      ]
     },
     "metadata": {},
     "output_type": "display_data"
    },
    {
     "name": "stdout",
     "output_type": "stream",
     "text": [
      "Epoch 1986: train=8.10081, val=8.1906, took 25.876 s\n",
      "  Validation Found 51184 of 54504, added 2323 (eff 93.91%) (0.233 FP/event)\n"
     ]
    },
    {
     "data": {
      "application/vnd.jupyter.widget-view+json": {
       "model_id": "",
       "version_major": 2,
       "version_minor": 0
      },
      "text/plain": [
       "HBox(children=(FloatProgress(value=0.0, description='Training', layout=Layout(flex='2'), max=1250.0, style=Pro…"
      ]
     },
     "metadata": {},
     "output_type": "display_data"
    },
    {
     "name": "stdout",
     "output_type": "stream",
     "text": [
      "Epoch 1987: train=8.1132, val=8.33587, took 26.006 s\n",
      "  Validation Found 51105 of 54504, added 2191 (eff 93.76%) (0.219 FP/event)\n"
     ]
    },
    {
     "data": {
      "application/vnd.jupyter.widget-view+json": {
       "model_id": "",
       "version_major": 2,
       "version_minor": 0
      },
      "text/plain": [
       "HBox(children=(FloatProgress(value=0.0, description='Training', layout=Layout(flex='2'), max=1250.0, style=Pro…"
      ]
     },
     "metadata": {},
     "output_type": "display_data"
    },
    {
     "name": "stdout",
     "output_type": "stream",
     "text": [
      "Epoch 1988: train=8.11086, val=8.24896, took 26.098 s\n",
      "  Validation Found 51118 of 54504, added 2228 (eff 93.79%) (0.223 FP/event)\n"
     ]
    },
    {
     "data": {
      "application/vnd.jupyter.widget-view+json": {
       "model_id": "",
       "version_major": 2,
       "version_minor": 0
      },
      "text/plain": [
       "HBox(children=(FloatProgress(value=0.0, description='Training', layout=Layout(flex='2'), max=1250.0, style=Pro…"
      ]
     },
     "metadata": {},
     "output_type": "display_data"
    },
    {
     "name": "stdout",
     "output_type": "stream",
     "text": [
      "Epoch 1989: train=8.10021, val=8.49629, took 25.842 s\n",
      "  Validation Found 50798 of 54504, added 1786 (eff 93.20%) (0.179 FP/event)\n"
     ]
    },
    {
     "data": {
      "application/vnd.jupyter.widget-view+json": {
       "model_id": "",
       "version_major": 2,
       "version_minor": 0
      },
      "text/plain": [
       "HBox(children=(FloatProgress(value=0.0, description='Training', layout=Layout(flex='2'), max=1250.0, style=Pro…"
      ]
     },
     "metadata": {},
     "output_type": "display_data"
    },
    {
     "name": "stdout",
     "output_type": "stream",
     "text": [
      "Epoch 1990: train=8.10769, val=8.22471, took 25.849 s\n",
      "  Validation Found 51062 of 54504, added 2021 (eff 93.68%) (0.202 FP/event)\n"
     ]
    },
    {
     "data": {
      "application/vnd.jupyter.widget-view+json": {
       "model_id": "",
       "version_major": 2,
       "version_minor": 0
      },
      "text/plain": [
       "HBox(children=(FloatProgress(value=0.0, description='Training', layout=Layout(flex='2'), max=1250.0, style=Pro…"
      ]
     },
     "metadata": {},
     "output_type": "display_data"
    },
    {
     "name": "stdout",
     "output_type": "stream",
     "text": [
      "Epoch 1991: train=8.11318, val=8.39521, took 25.843 s\n",
      "  Validation Found 50794 of 54504, added 1761 (eff 93.19%) (0.176 FP/event)\n"
     ]
    },
    {
     "data": {
      "application/vnd.jupyter.widget-view+json": {
       "model_id": "",
       "version_major": 2,
       "version_minor": 0
      },
      "text/plain": [
       "HBox(children=(FloatProgress(value=0.0, description='Training', layout=Layout(flex='2'), max=1250.0, style=Pro…"
      ]
     },
     "metadata": {},
     "output_type": "display_data"
    },
    {
     "name": "stdout",
     "output_type": "stream",
     "text": [
      "Epoch 1992: train=8.1138, val=8.25224, took 25.841 s\n",
      "  Validation Found 51118 of 54504, added 2135 (eff 93.79%) (0.214 FP/event)\n"
     ]
    },
    {
     "data": {
      "application/vnd.jupyter.widget-view+json": {
       "model_id": "",
       "version_major": 2,
       "version_minor": 0
      },
      "text/plain": [
       "HBox(children=(FloatProgress(value=0.0, description='Training', layout=Layout(flex='2'), max=1250.0, style=Pro…"
      ]
     },
     "metadata": {},
     "output_type": "display_data"
    },
    {
     "name": "stdout",
     "output_type": "stream",
     "text": [
      "Epoch 1993: train=8.11038, val=8.24171, took 25.905 s\n",
      "  Validation Found 51131 of 54504, added 2240 (eff 93.81%) (0.224 FP/event)\n"
     ]
    },
    {
     "data": {
      "application/vnd.jupyter.widget-view+json": {
       "model_id": "",
       "version_major": 2,
       "version_minor": 0
      },
      "text/plain": [
       "HBox(children=(FloatProgress(value=0.0, description='Training', layout=Layout(flex='2'), max=1250.0, style=Pro…"
      ]
     },
     "metadata": {},
     "output_type": "display_data"
    },
    {
     "name": "stdout",
     "output_type": "stream",
     "text": [
      "Epoch 1994: train=8.10214, val=8.23569, took 26.972 s\n",
      "  Validation Found 51216 of 54504, added 2332 (eff 93.97%) (0.234 FP/event)\n"
     ]
    },
    {
     "data": {
      "application/vnd.jupyter.widget-view+json": {
       "model_id": "",
       "version_major": 2,
       "version_minor": 0
      },
      "text/plain": [
       "HBox(children=(FloatProgress(value=0.0, description='Training', layout=Layout(flex='2'), max=1250.0, style=Pro…"
      ]
     },
     "metadata": {},
     "output_type": "display_data"
    },
    {
     "name": "stdout",
     "output_type": "stream",
     "text": [
      "Epoch 1995: train=8.10644, val=8.25804, took 25.916 s\n",
      "  Validation Found 51053 of 54504, added 2140 (eff 93.67%) (0.214 FP/event)\n"
     ]
    },
    {
     "data": {
      "application/vnd.jupyter.widget-view+json": {
       "model_id": "",
       "version_major": 2,
       "version_minor": 0
      },
      "text/plain": [
       "HBox(children=(FloatProgress(value=0.0, description='Training', layout=Layout(flex='2'), max=1250.0, style=Pro…"
      ]
     },
     "metadata": {},
     "output_type": "display_data"
    },
    {
     "name": "stdout",
     "output_type": "stream",
     "text": [
      "Epoch 1996: train=8.10712, val=8.27073, took 25.884 s\n",
      "  Validation Found 51262 of 54504, added 2758 (eff 94.05%) (0.276 FP/event)\n"
     ]
    },
    {
     "data": {
      "application/vnd.jupyter.widget-view+json": {
       "model_id": "",
       "version_major": 2,
       "version_minor": 0
      },
      "text/plain": [
       "HBox(children=(FloatProgress(value=0.0, description='Training', layout=Layout(flex='2'), max=1250.0, style=Pro…"
      ]
     },
     "metadata": {},
     "output_type": "display_data"
    },
    {
     "name": "stdout",
     "output_type": "stream",
     "text": [
      "Epoch 1997: train=8.10465, val=8.32213, took 25.821 s\n",
      "  Validation Found 50973 of 54504, added 1989 (eff 93.52%) (0.199 FP/event)\n"
     ]
    },
    {
     "data": {
      "application/vnd.jupyter.widget-view+json": {
       "model_id": "",
       "version_major": 2,
       "version_minor": 0
      },
      "text/plain": [
       "HBox(children=(FloatProgress(value=0.0, description='Training', layout=Layout(flex='2'), max=1250.0, style=Pro…"
      ]
     },
     "metadata": {},
     "output_type": "display_data"
    },
    {
     "name": "stdout",
     "output_type": "stream",
     "text": [
      "Epoch 1998: train=8.11665, val=8.4952, took 25.821 s\n",
      "  Validation Found 50781 of 54504, added 1752 (eff 93.17%) (0.175 FP/event)\n"
     ]
    },
    {
     "data": {
      "application/vnd.jupyter.widget-view+json": {
       "model_id": "",
       "version_major": 2,
       "version_minor": 0
      },
      "text/plain": [
       "HBox(children=(FloatProgress(value=0.0, description='Training', layout=Layout(flex='2'), max=1250.0, style=Pro…"
      ]
     },
     "metadata": {},
     "output_type": "display_data"
    },
    {
     "name": "stdout",
     "output_type": "stream",
     "text": [
      "Epoch 1999: train=8.10715, val=8.3547, took 25.916 s\n",
      "  Validation Found 50881 of 54504, added 1805 (eff 93.35%) (0.181 FP/event)\n"
     ]
    },
    {
     "data": {
      "application/vnd.jupyter.widget-view+json": {
       "model_id": "",
       "version_major": 2,
       "version_minor": 0
      },
      "text/plain": [
       "HBox(children=(FloatProgress(value=0.0, description='Training', layout=Layout(flex='2'), max=1250.0, style=Pro…"
      ]
     },
     "metadata": {},
     "output_type": "display_data"
    },
    {
     "name": "stdout",
     "output_type": "stream",
     "text": [
      "Epoch 2000: train=8.11207, val=8.27667, took 25.846 s\n",
      "  Validation Found 51095 of 54504, added 2077 (eff 93.75%) (0.208 FP/event)\n"
     ]
    },
    {
     "data": {
      "application/vnd.jupyter.widget-view+json": {
       "model_id": "",
       "version_major": 2,
       "version_minor": 0
      },
      "text/plain": [
       "HBox(children=(FloatProgress(value=0.0, description='Training', layout=Layout(flex='2'), max=1250.0, style=Pro…"
      ]
     },
     "metadata": {},
     "output_type": "display_data"
    },
    {
     "name": "stdout",
     "output_type": "stream",
     "text": [
      "Epoch 2001: train=8.10462, val=8.23272, took 25.817 s\n",
      "  Validation Found 51301 of 54504, added 2470 (eff 94.12%) (0.247 FP/event)\n"
     ]
    },
    {
     "data": {
      "application/vnd.jupyter.widget-view+json": {
       "model_id": "",
       "version_major": 2,
       "version_minor": 0
      },
      "text/plain": [
       "HBox(children=(FloatProgress(value=0.0, description='Training', layout=Layout(flex='2'), max=1250.0, style=Pro…"
      ]
     },
     "metadata": {},
     "output_type": "display_data"
    },
    {
     "name": "stdout",
     "output_type": "stream",
     "text": [
      "Epoch 2002: train=8.10607, val=8.32595, took 25.927 s\n",
      "  Validation Found 50867 of 54504, added 1823 (eff 93.33%) (0.183 FP/event)\n"
     ]
    },
    {
     "data": {
      "application/vnd.jupyter.widget-view+json": {
       "model_id": "",
       "version_major": 2,
       "version_minor": 0
      },
      "text/plain": [
       "HBox(children=(FloatProgress(value=0.0, description='Training', layout=Layout(flex='2'), max=1250.0, style=Pro…"
      ]
     },
     "metadata": {},
     "output_type": "display_data"
    },
    {
     "name": "stdout",
     "output_type": "stream",
     "text": [
      "Epoch 2003: train=8.10873, val=8.34038, took 25.827 s\n",
      "  Validation Found 51022 of 54504, added 2096 (eff 93.61%) (0.21 FP/event)\n"
     ]
    },
    {
     "data": {
      "application/vnd.jupyter.widget-view+json": {
       "model_id": "",
       "version_major": 2,
       "version_minor": 0
      },
      "text/plain": [
       "HBox(children=(FloatProgress(value=0.0, description='Training', layout=Layout(flex='2'), max=1250.0, style=Pro…"
      ]
     },
     "metadata": {},
     "output_type": "display_data"
    },
    {
     "name": "stdout",
     "output_type": "stream",
     "text": [
      "Epoch 2004: train=8.11947, val=8.42833, took 25.833 s\n",
      "  Validation Found 50789 of 54504, added 1863 (eff 93.18%) (0.187 FP/event)\n"
     ]
    },
    {
     "data": {
      "application/vnd.jupyter.widget-view+json": {
       "model_id": "",
       "version_major": 2,
       "version_minor": 0
      },
      "text/plain": [
       "HBox(children=(FloatProgress(value=0.0, description='Training', layout=Layout(flex='2'), max=1250.0, style=Pro…"
      ]
     },
     "metadata": {},
     "output_type": "display_data"
    },
    {
     "name": "stdout",
     "output_type": "stream",
     "text": [
      "Epoch 2005: train=8.11298, val=8.31016, took 26.348 s\n",
      "  Validation Found 51120 of 54504, added 2151 (eff 93.79%) (0.215 FP/event)\n"
     ]
    },
    {
     "data": {
      "application/vnd.jupyter.widget-view+json": {
       "model_id": "",
       "version_major": 2,
       "version_minor": 0
      },
      "text/plain": [
       "HBox(children=(FloatProgress(value=0.0, description='Training', layout=Layout(flex='2'), max=1250.0, style=Pro…"
      ]
     },
     "metadata": {},
     "output_type": "display_data"
    },
    {
     "name": "stdout",
     "output_type": "stream",
     "text": [
      "Epoch 2006: train=8.10686, val=8.32825, took 25.969 s\n",
      "  Validation Found 51238 of 54504, added 2511 (eff 94.01%) (0.251 FP/event)\n"
     ]
    },
    {
     "data": {
      "application/vnd.jupyter.widget-view+json": {
       "model_id": "",
       "version_major": 2,
       "version_minor": 0
      },
      "text/plain": [
       "HBox(children=(FloatProgress(value=0.0, description='Training', layout=Layout(flex='2'), max=1250.0, style=Pro…"
      ]
     },
     "metadata": {},
     "output_type": "display_data"
    },
    {
     "name": "stdout",
     "output_type": "stream",
     "text": [
      "Epoch 2007: train=8.11722, val=8.3538, took 25.894 s\n",
      "  Validation Found 50932 of 54504, added 1937 (eff 93.45%) (0.194 FP/event)\n"
     ]
    },
    {
     "data": {
      "application/vnd.jupyter.widget-view+json": {
       "model_id": "",
       "version_major": 2,
       "version_minor": 0
      },
      "text/plain": [
       "HBox(children=(FloatProgress(value=0.0, description='Training', layout=Layout(flex='2'), max=1250.0, style=Pro…"
      ]
     },
     "metadata": {},
     "output_type": "display_data"
    },
    {
     "name": "stdout",
     "output_type": "stream",
     "text": [
      "Epoch 2008: train=8.11394, val=8.2594, took 25.906 s\n",
      "  Validation Found 51045 of 54504, added 2041 (eff 93.65%) (0.204 FP/event)\n"
     ]
    },
    {
     "data": {
      "application/vnd.jupyter.widget-view+json": {
       "model_id": "",
       "version_major": 2,
       "version_minor": 0
      },
      "text/plain": [
       "HBox(children=(FloatProgress(value=0.0, description='Training', layout=Layout(flex='2'), max=1250.0, style=Pro…"
      ]
     },
     "metadata": {},
     "output_type": "display_data"
    },
    {
     "name": "stdout",
     "output_type": "stream",
     "text": [
      "Epoch 2009: train=8.11482, val=8.29283, took 25.898 s\n",
      "  Validation Found 51063 of 54504, added 2110 (eff 93.69%) (0.211 FP/event)\n"
     ]
    },
    {
     "data": {
      "application/vnd.jupyter.widget-view+json": {
       "model_id": "",
       "version_major": 2,
       "version_minor": 0
      },
      "text/plain": [
       "HBox(children=(FloatProgress(value=0.0, description='Training', layout=Layout(flex='2'), max=1250.0, style=Pro…"
      ]
     },
     "metadata": {},
     "output_type": "display_data"
    },
    {
     "name": "stdout",
     "output_type": "stream",
     "text": [
      "Epoch 2010: train=8.10651, val=8.23864, took 25.89 s\n",
      "  Validation Found 51019 of 54504, added 2082 (eff 93.61%) (0.209 FP/event)\n"
     ]
    },
    {
     "data": {
      "application/vnd.jupyter.widget-view+json": {
       "model_id": "",
       "version_major": 2,
       "version_minor": 0
      },
      "text/plain": [
       "HBox(children=(FloatProgress(value=0.0, description='Training', layout=Layout(flex='2'), max=1250.0, style=Pro…"
      ]
     },
     "metadata": {},
     "output_type": "display_data"
    },
    {
     "name": "stdout",
     "output_type": "stream",
     "text": [
      "Epoch 2011: train=8.10956, val=8.33312, took 25.886 s\n",
      "  Validation Found 50983 of 54504, added 2016 (eff 93.54%) (0.202 FP/event)\n"
     ]
    },
    {
     "data": {
      "application/vnd.jupyter.widget-view+json": {
       "model_id": "",
       "version_major": 2,
       "version_minor": 0
      },
      "text/plain": [
       "HBox(children=(FloatProgress(value=0.0, description='Training', layout=Layout(flex='2'), max=1250.0, style=Pro…"
      ]
     },
     "metadata": {},
     "output_type": "display_data"
    },
    {
     "name": "stdout",
     "output_type": "stream",
     "text": [
      "Epoch 2012: train=8.10033, val=8.22179, took 25.904 s\n",
      "  Validation Found 51103 of 54504, added 2203 (eff 93.76%) (0.221 FP/event)\n"
     ]
    },
    {
     "data": {
      "application/vnd.jupyter.widget-view+json": {
       "model_id": "",
       "version_major": 2,
       "version_minor": 0
      },
      "text/plain": [
       "HBox(children=(FloatProgress(value=0.0, description='Training', layout=Layout(flex='2'), max=1250.0, style=Pro…"
      ]
     },
     "metadata": {},
     "output_type": "display_data"
    },
    {
     "name": "stdout",
     "output_type": "stream",
     "text": [
      "Epoch 2013: train=8.11538, val=8.55818, took 25.88 s\n",
      "  Validation Found 51131 of 54504, added 2842 (eff 93.81%) (0.285 FP/event)\n"
     ]
    },
    {
     "data": {
      "application/vnd.jupyter.widget-view+json": {
       "model_id": "",
       "version_major": 2,
       "version_minor": 0
      },
      "text/plain": [
       "HBox(children=(FloatProgress(value=0.0, description='Training', layout=Layout(flex='2'), max=1250.0, style=Pro…"
      ]
     },
     "metadata": {},
     "output_type": "display_data"
    },
    {
     "name": "stdout",
     "output_type": "stream",
     "text": [
      "Epoch 2014: train=8.10754, val=8.33, took 25.888 s\n",
      "  Validation Found 51116 of 54504, added 2216 (eff 93.78%) (0.222 FP/event)\n"
     ]
    },
    {
     "data": {
      "application/vnd.jupyter.widget-view+json": {
       "model_id": "",
       "version_major": 2,
       "version_minor": 0
      },
      "text/plain": [
       "HBox(children=(FloatProgress(value=0.0, description='Training', layout=Layout(flex='2'), max=1250.0, style=Pro…"
      ]
     },
     "metadata": {},
     "output_type": "display_data"
    },
    {
     "name": "stdout",
     "output_type": "stream",
     "text": [
      "Epoch 2015: train=8.10385, val=8.28717, took 26.297 s\n",
      "  Validation Found 50991 of 54504, added 1933 (eff 93.55%) (0.194 FP/event)\n"
     ]
    },
    {
     "data": {
      "application/vnd.jupyter.widget-view+json": {
       "model_id": "",
       "version_major": 2,
       "version_minor": 0
      },
      "text/plain": [
       "HBox(children=(FloatProgress(value=0.0, description='Training', layout=Layout(flex='2'), max=1250.0, style=Pro…"
      ]
     },
     "metadata": {},
     "output_type": "display_data"
    },
    {
     "name": "stdout",
     "output_type": "stream",
     "text": [
      "Epoch 2016: train=8.1053, val=8.22648, took 26.153 s\n",
      "  Validation Found 51005 of 54504, added 1936 (eff 93.58%) (0.194 FP/event)\n"
     ]
    },
    {
     "data": {
      "application/vnd.jupyter.widget-view+json": {
       "model_id": "",
       "version_major": 2,
       "version_minor": 0
      },
      "text/plain": [
       "HBox(children=(FloatProgress(value=0.0, description='Training', layout=Layout(flex='2'), max=1250.0, style=Pro…"
      ]
     },
     "metadata": {},
     "output_type": "display_data"
    },
    {
     "name": "stdout",
     "output_type": "stream",
     "text": [
      "Epoch 2017: train=8.11308, val=8.2219, took 26.046 s\n",
      "  Validation Found 51093 of 54504, added 2071 (eff 93.74%) (0.207 FP/event)\n"
     ]
    },
    {
     "data": {
      "application/vnd.jupyter.widget-view+json": {
       "model_id": "",
       "version_major": 2,
       "version_minor": 0
      },
      "text/plain": [
       "HBox(children=(FloatProgress(value=0.0, description='Training', layout=Layout(flex='2'), max=1250.0, style=Pro…"
      ]
     },
     "metadata": {},
     "output_type": "display_data"
    },
    {
     "name": "stdout",
     "output_type": "stream",
     "text": [
      "Epoch 2018: train=8.12265, val=8.28614, took 25.866 s\n",
      "  Validation Found 51171 of 54504, added 2308 (eff 93.88%) (0.231 FP/event)\n"
     ]
    },
    {
     "data": {
      "application/vnd.jupyter.widget-view+json": {
       "model_id": "",
       "version_major": 2,
       "version_minor": 0
      },
      "text/plain": [
       "HBox(children=(FloatProgress(value=0.0, description='Training', layout=Layout(flex='2'), max=1250.0, style=Pro…"
      ]
     },
     "metadata": {},
     "output_type": "display_data"
    },
    {
     "name": "stdout",
     "output_type": "stream",
     "text": [
      "Epoch 2019: train=8.10951, val=8.37035, took 25.998 s\n",
      "  Validation Found 50844 of 54504, added 1681 (eff 93.28%) (0.168 FP/event)\n"
     ]
    },
    {
     "data": {
      "application/vnd.jupyter.widget-view+json": {
       "model_id": "",
       "version_major": 2,
       "version_minor": 0
      },
      "text/plain": [
       "HBox(children=(FloatProgress(value=0.0, description='Training', layout=Layout(flex='2'), max=1250.0, style=Pro…"
      ]
     },
     "metadata": {},
     "output_type": "display_data"
    },
    {
     "name": "stdout",
     "output_type": "stream",
     "text": [
      "Epoch 2020: train=8.10737, val=8.25728, took 25.972 s\n",
      "  Validation Found 51018 of 54504, added 1972 (eff 93.60%) (0.197 FP/event)\n"
     ]
    },
    {
     "data": {
      "application/vnd.jupyter.widget-view+json": {
       "model_id": "",
       "version_major": 2,
       "version_minor": 0
      },
      "text/plain": [
       "HBox(children=(FloatProgress(value=0.0, description='Training', layout=Layout(flex='2'), max=1250.0, style=Pro…"
      ]
     },
     "metadata": {},
     "output_type": "display_data"
    },
    {
     "name": "stdout",
     "output_type": "stream",
     "text": [
      "Epoch 2021: train=8.10843, val=8.30447, took 25.737 s\n",
      "  Validation Found 50970 of 54504, added 1884 (eff 93.52%) (0.189 FP/event)\n"
     ]
    },
    {
     "data": {
      "application/vnd.jupyter.widget-view+json": {
       "model_id": "",
       "version_major": 2,
       "version_minor": 0
      },
      "text/plain": [
       "HBox(children=(FloatProgress(value=0.0, description='Training', layout=Layout(flex='2'), max=1250.0, style=Pro…"
      ]
     },
     "metadata": {},
     "output_type": "display_data"
    },
    {
     "name": "stdout",
     "output_type": "stream",
     "text": [
      "Epoch 2022: train=8.10893, val=8.30106, took 25.704 s\n",
      "  Validation Found 51141 of 54504, added 2373 (eff 93.83%) (0.238 FP/event)\n"
     ]
    },
    {
     "data": {
      "application/vnd.jupyter.widget-view+json": {
       "model_id": "",
       "version_major": 2,
       "version_minor": 0
      },
      "text/plain": [
       "HBox(children=(FloatProgress(value=0.0, description='Training', layout=Layout(flex='2'), max=1250.0, style=Pro…"
      ]
     },
     "metadata": {},
     "output_type": "display_data"
    },
    {
     "name": "stdout",
     "output_type": "stream",
     "text": [
      "Epoch 2023: train=8.11049, val=8.32797, took 25.681 s\n",
      "  Validation Found 50999 of 54504, added 1956 (eff 93.57%) (0.196 FP/event)\n"
     ]
    },
    {
     "data": {
      "application/vnd.jupyter.widget-view+json": {
       "model_id": "",
       "version_major": 2,
       "version_minor": 0
      },
      "text/plain": [
       "HBox(children=(FloatProgress(value=0.0, description='Training', layout=Layout(flex='2'), max=1250.0, style=Pro…"
      ]
     },
     "metadata": {},
     "output_type": "display_data"
    },
    {
     "name": "stdout",
     "output_type": "stream",
     "text": [
      "Epoch 2024: train=8.10805, val=8.27888, took 25.919 s\n",
      "  Validation Found 51069 of 54504, added 2097 (eff 93.70%) (0.21 FP/event)\n"
     ]
    },
    {
     "data": {
      "application/vnd.jupyter.widget-view+json": {
       "model_id": "",
       "version_major": 2,
       "version_minor": 0
      },
      "text/plain": [
       "HBox(children=(FloatProgress(value=0.0, description='Training', layout=Layout(flex='2'), max=1250.0, style=Pro…"
      ]
     },
     "metadata": {},
     "output_type": "display_data"
    },
    {
     "name": "stdout",
     "output_type": "stream",
     "text": [
      "Epoch 2025: train=8.11745, val=8.31807, took 25.772 s\n",
      "  Validation Found 50981 of 54504, added 1908 (eff 93.54%) (0.191 FP/event)\n"
     ]
    },
    {
     "data": {
      "application/vnd.jupyter.widget-view+json": {
       "model_id": "",
       "version_major": 2,
       "version_minor": 0
      },
      "text/plain": [
       "HBox(children=(FloatProgress(value=0.0, description='Training', layout=Layout(flex='2'), max=1250.0, style=Pro…"
      ]
     },
     "metadata": {},
     "output_type": "display_data"
    },
    {
     "name": "stdout",
     "output_type": "stream",
     "text": [
      "Epoch 2026: train=8.10264, val=8.3266, took 26.159 s\n",
      "  Validation Found 50962 of 54504, added 1854 (eff 93.50%) (0.186 FP/event)\n"
     ]
    },
    {
     "data": {
      "application/vnd.jupyter.widget-view+json": {
       "model_id": "",
       "version_major": 2,
       "version_minor": 0
      },
      "text/plain": [
       "HBox(children=(FloatProgress(value=0.0, description='Training', layout=Layout(flex='2'), max=1250.0, style=Pro…"
      ]
     },
     "metadata": {},
     "output_type": "display_data"
    },
    {
     "name": "stdout",
     "output_type": "stream",
     "text": [
      "Epoch 2027: train=8.10759, val=8.43626, took 25.858 s\n",
      "  Validation Found 50824 of 54504, added 1853 (eff 93.25%) (0.186 FP/event)\n"
     ]
    },
    {
     "data": {
      "application/vnd.jupyter.widget-view+json": {
       "model_id": "",
       "version_major": 2,
       "version_minor": 0
      },
      "text/plain": [
       "HBox(children=(FloatProgress(value=0.0, description='Training', layout=Layout(flex='2'), max=1250.0, style=Pro…"
      ]
     },
     "metadata": {},
     "output_type": "display_data"
    },
    {
     "name": "stdout",
     "output_type": "stream",
     "text": [
      "Epoch 2028: train=8.1068, val=8.31717, took 26.131 s\n",
      "  Validation Found 50962 of 54504, added 1943 (eff 93.50%) (0.195 FP/event)\n"
     ]
    },
    {
     "data": {
      "application/vnd.jupyter.widget-view+json": {
       "model_id": "",
       "version_major": 2,
       "version_minor": 0
      },
      "text/plain": [
       "HBox(children=(FloatProgress(value=0.0, description='Training', layout=Layout(flex='2'), max=1250.0, style=Pro…"
      ]
     },
     "metadata": {},
     "output_type": "display_data"
    },
    {
     "name": "stdout",
     "output_type": "stream",
     "text": [
      "Epoch 2029: train=8.1116, val=8.31989, took 26.029 s\n",
      "  Validation Found 51194 of 54504, added 2751 (eff 93.93%) (0.276 FP/event)\n"
     ]
    },
    {
     "data": {
      "application/vnd.jupyter.widget-view+json": {
       "model_id": "",
       "version_major": 2,
       "version_minor": 0
      },
      "text/plain": [
       "HBox(children=(FloatProgress(value=0.0, description='Training', layout=Layout(flex='2'), max=1250.0, style=Pro…"
      ]
     },
     "metadata": {},
     "output_type": "display_data"
    },
    {
     "name": "stdout",
     "output_type": "stream",
     "text": [
      "Epoch 2030: train=8.10318, val=8.28957, took 25.942 s\n",
      "  Validation Found 51125 of 54504, added 2288 (eff 93.80%) (0.229 FP/event)\n"
     ]
    },
    {
     "data": {
      "application/vnd.jupyter.widget-view+json": {
       "model_id": "",
       "version_major": 2,
       "version_minor": 0
      },
      "text/plain": [
       "HBox(children=(FloatProgress(value=0.0, description='Training', layout=Layout(flex='2'), max=1250.0, style=Pro…"
      ]
     },
     "metadata": {},
     "output_type": "display_data"
    },
    {
     "name": "stdout",
     "output_type": "stream",
     "text": [
      "Epoch 2031: train=8.11429, val=8.27775, took 25.871 s\n",
      "  Validation Found 51089 of 54504, added 2123 (eff 93.73%) (0.213 FP/event)\n"
     ]
    },
    {
     "data": {
      "application/vnd.jupyter.widget-view+json": {
       "model_id": "",
       "version_major": 2,
       "version_minor": 0
      },
      "text/plain": [
       "HBox(children=(FloatProgress(value=0.0, description='Training', layout=Layout(flex='2'), max=1250.0, style=Pro…"
      ]
     },
     "metadata": {},
     "output_type": "display_data"
    },
    {
     "name": "stdout",
     "output_type": "stream",
     "text": [
      "Epoch 2032: train=8.10435, val=8.21035, took 25.877 s\n",
      "  Validation Found 51225 of 54504, added 2339 (eff 93.98%) (0.234 FP/event)\n"
     ]
    },
    {
     "data": {
      "application/vnd.jupyter.widget-view+json": {
       "model_id": "",
       "version_major": 2,
       "version_minor": 0
      },
      "text/plain": [
       "HBox(children=(FloatProgress(value=0.0, description='Training', layout=Layout(flex='2'), max=1250.0, style=Pro…"
      ]
     },
     "metadata": {},
     "output_type": "display_data"
    },
    {
     "name": "stdout",
     "output_type": "stream",
     "text": [
      "Epoch 2033: train=8.10746, val=8.26834, took 25.891 s\n",
      "  Validation Found 51117 of 54504, added 2071 (eff 93.79%) (0.207 FP/event)\n"
     ]
    },
    {
     "data": {
      "application/vnd.jupyter.widget-view+json": {
       "model_id": "",
       "version_major": 2,
       "version_minor": 0
      },
      "text/plain": [
       "HBox(children=(FloatProgress(value=0.0, description='Training', layout=Layout(flex='2'), max=1250.0, style=Pro…"
      ]
     },
     "metadata": {},
     "output_type": "display_data"
    },
    {
     "name": "stdout",
     "output_type": "stream",
     "text": [
      "Epoch 2034: train=8.10822, val=8.3463, took 25.897 s\n",
      "  Validation Found 51179 of 54504, added 2225 (eff 93.90%) (0.223 FP/event)\n"
     ]
    },
    {
     "data": {
      "application/vnd.jupyter.widget-view+json": {
       "model_id": "",
       "version_major": 2,
       "version_minor": 0
      },
      "text/plain": [
       "HBox(children=(FloatProgress(value=0.0, description='Training', layout=Layout(flex='2'), max=1250.0, style=Pro…"
      ]
     },
     "metadata": {},
     "output_type": "display_data"
    },
    {
     "name": "stdout",
     "output_type": "stream",
     "text": [
      "Epoch 2035: train=8.10639, val=8.3429, took 25.907 s\n",
      "  Validation Found 51088 of 54504, added 2212 (eff 93.73%) (0.222 FP/event)\n"
     ]
    },
    {
     "data": {
      "application/vnd.jupyter.widget-view+json": {
       "model_id": "",
       "version_major": 2,
       "version_minor": 0
      },
      "text/plain": [
       "HBox(children=(FloatProgress(value=0.0, description='Training', layout=Layout(flex='2'), max=1250.0, style=Pro…"
      ]
     },
     "metadata": {},
     "output_type": "display_data"
    },
    {
     "name": "stdout",
     "output_type": "stream",
     "text": [
      "Epoch 2036: train=8.10555, val=8.20419, took 25.897 s\n",
      "  Validation Found 51192 of 54504, added 2220 (eff 93.92%) (0.222 FP/event)\n"
     ]
    },
    {
     "data": {
      "application/vnd.jupyter.widget-view+json": {
       "model_id": "",
       "version_major": 2,
       "version_minor": 0
      },
      "text/plain": [
       "HBox(children=(FloatProgress(value=0.0, description='Training', layout=Layout(flex='2'), max=1250.0, style=Pro…"
      ]
     },
     "metadata": {},
     "output_type": "display_data"
    },
    {
     "name": "stdout",
     "output_type": "stream",
     "text": [
      "Epoch 2037: train=8.10576, val=8.30309, took 25.795 s\n",
      "  Validation Found 51041 of 54504, added 1991 (eff 93.65%) (0.199 FP/event)\n"
     ]
    },
    {
     "data": {
      "application/vnd.jupyter.widget-view+json": {
       "model_id": "",
       "version_major": 2,
       "version_minor": 0
      },
      "text/plain": [
       "HBox(children=(FloatProgress(value=0.0, description='Training', layout=Layout(flex='2'), max=1250.0, style=Pro…"
      ]
     },
     "metadata": {},
     "output_type": "display_data"
    },
    {
     "name": "stdout",
     "output_type": "stream",
     "text": [
      "Epoch 2038: train=8.10925, val=8.19427, took 25.9 s\n",
      "  Validation Found 51123 of 54504, added 2104 (eff 93.80%) (0.211 FP/event)\n"
     ]
    },
    {
     "data": {
      "application/vnd.jupyter.widget-view+json": {
       "model_id": "",
       "version_major": 2,
       "version_minor": 0
      },
      "text/plain": [
       "HBox(children=(FloatProgress(value=0.0, description='Training', layout=Layout(flex='2'), max=1250.0, style=Pro…"
      ]
     },
     "metadata": {},
     "output_type": "display_data"
    },
    {
     "name": "stdout",
     "output_type": "stream",
     "text": [
      "Epoch 2039: train=8.10751, val=8.31262, took 26.162 s\n",
      "  Validation Found 51137 of 54504, added 2353 (eff 93.82%) (0.236 FP/event)\n"
     ]
    },
    {
     "data": {
      "application/vnd.jupyter.widget-view+json": {
       "model_id": "",
       "version_major": 2,
       "version_minor": 0
      },
      "text/plain": [
       "HBox(children=(FloatProgress(value=0.0, description='Training', layout=Layout(flex='2'), max=1250.0, style=Pro…"
      ]
     },
     "metadata": {},
     "output_type": "display_data"
    },
    {
     "name": "stdout",
     "output_type": "stream",
     "text": [
      "Epoch 2040: train=8.1101, val=8.20299, took 25.977 s\n",
      "  Validation Found 51214 of 54504, added 2324 (eff 93.96%) (0.233 FP/event)\n"
     ]
    },
    {
     "data": {
      "application/vnd.jupyter.widget-view+json": {
       "model_id": "",
       "version_major": 2,
       "version_minor": 0
      },
      "text/plain": [
       "HBox(children=(FloatProgress(value=0.0, description='Training', layout=Layout(flex='2'), max=1250.0, style=Pro…"
      ]
     },
     "metadata": {},
     "output_type": "display_data"
    },
    {
     "name": "stdout",
     "output_type": "stream",
     "text": [
      "Epoch 2041: train=8.10927, val=8.46315, took 26.069 s\n",
      "  Validation Found 50904 of 54504, added 2126 (eff 93.39%) (0.213 FP/event)\n"
     ]
    },
    {
     "data": {
      "application/vnd.jupyter.widget-view+json": {
       "model_id": "",
       "version_major": 2,
       "version_minor": 0
      },
      "text/plain": [
       "HBox(children=(FloatProgress(value=0.0, description='Training', layout=Layout(flex='2'), max=1250.0, style=Pro…"
      ]
     },
     "metadata": {},
     "output_type": "display_data"
    },
    {
     "name": "stdout",
     "output_type": "stream",
     "text": [
      "Epoch 2042: train=8.11036, val=8.46784, took 26.075 s\n",
      "  Validation Found 50688 of 54504, added 1557 (eff 93.00%) (0.156 FP/event)\n"
     ]
    },
    {
     "data": {
      "application/vnd.jupyter.widget-view+json": {
       "model_id": "",
       "version_major": 2,
       "version_minor": 0
      },
      "text/plain": [
       "HBox(children=(FloatProgress(value=0.0, description='Training', layout=Layout(flex='2'), max=1250.0, style=Pro…"
      ]
     },
     "metadata": {},
     "output_type": "display_data"
    },
    {
     "name": "stdout",
     "output_type": "stream",
     "text": [
      "Epoch 2043: train=8.11179, val=8.30805, took 25.847 s\n",
      "  Validation Found 50869 of 54504, added 1745 (eff 93.33%) (0.175 FP/event)\n"
     ]
    },
    {
     "data": {
      "application/vnd.jupyter.widget-view+json": {
       "model_id": "",
       "version_major": 2,
       "version_minor": 0
      },
      "text/plain": [
       "HBox(children=(FloatProgress(value=0.0, description='Training', layout=Layout(flex='2'), max=1250.0, style=Pro…"
      ]
     },
     "metadata": {},
     "output_type": "display_data"
    },
    {
     "name": "stdout",
     "output_type": "stream",
     "text": [
      "Epoch 2044: train=8.10357, val=8.23309, took 25.782 s\n",
      "  Validation Found 51225 of 54504, added 2413 (eff 93.98%) (0.242 FP/event)\n"
     ]
    },
    {
     "data": {
      "application/vnd.jupyter.widget-view+json": {
       "model_id": "",
       "version_major": 2,
       "version_minor": 0
      },
      "text/plain": [
       "HBox(children=(FloatProgress(value=0.0, description='Training', layout=Layout(flex='2'), max=1250.0, style=Pro…"
      ]
     },
     "metadata": {},
     "output_type": "display_data"
    },
    {
     "name": "stdout",
     "output_type": "stream",
     "text": [
      "Epoch 2045: train=8.11044, val=8.28908, took 25.921 s\n",
      "  Validation Found 51143 of 54504, added 2123 (eff 93.83%) (0.213 FP/event)\n"
     ]
    },
    {
     "data": {
      "application/vnd.jupyter.widget-view+json": {
       "model_id": "",
       "version_major": 2,
       "version_minor": 0
      },
      "text/plain": [
       "HBox(children=(FloatProgress(value=0.0, description='Training', layout=Layout(flex='2'), max=1250.0, style=Pro…"
      ]
     },
     "metadata": {},
     "output_type": "display_data"
    },
    {
     "name": "stdout",
     "output_type": "stream",
     "text": [
      "Epoch 2046: train=8.11194, val=8.25858, took 25.87 s\n",
      "  Validation Found 51132 of 54504, added 2197 (eff 93.81%) (0.22 FP/event)\n"
     ]
    },
    {
     "data": {
      "application/vnd.jupyter.widget-view+json": {
       "model_id": "",
       "version_major": 2,
       "version_minor": 0
      },
      "text/plain": [
       "HBox(children=(FloatProgress(value=0.0, description='Training', layout=Layout(flex='2'), max=1250.0, style=Pro…"
      ]
     },
     "metadata": {},
     "output_type": "display_data"
    },
    {
     "name": "stdout",
     "output_type": "stream",
     "text": [
      "Epoch 2047: train=8.11039, val=8.3635, took 25.825 s\n",
      "  Validation Found 50871 of 54504, added 1860 (eff 93.33%) (0.186 FP/event)\n"
     ]
    },
    {
     "data": {
      "application/vnd.jupyter.widget-view+json": {
       "model_id": "",
       "version_major": 2,
       "version_minor": 0
      },
      "text/plain": [
       "HBox(children=(FloatProgress(value=0.0, description='Training', layout=Layout(flex='2'), max=1250.0, style=Pro…"
      ]
     },
     "metadata": {},
     "output_type": "display_data"
    },
    {
     "name": "stdout",
     "output_type": "stream",
     "text": [
      "Epoch 2048: train=8.10908, val=8.58029, took 25.839 s\n",
      "  Validation Found 51439 of 54504, added 3952 (eff 94.38%) (0.396 FP/event)\n"
     ]
    },
    {
     "data": {
      "application/vnd.jupyter.widget-view+json": {
       "model_id": "",
       "version_major": 2,
       "version_minor": 0
      },
      "text/plain": [
       "HBox(children=(FloatProgress(value=0.0, description='Training', layout=Layout(flex='2'), max=1250.0, style=Pro…"
      ]
     },
     "metadata": {},
     "output_type": "display_data"
    },
    {
     "name": "stdout",
     "output_type": "stream",
     "text": [
      "Epoch 2049: train=8.11174, val=8.26372, took 25.909 s\n",
      "  Validation Found 51125 of 54504, added 2117 (eff 93.80%) (0.212 FP/event)\n"
     ]
    },
    {
     "data": {
      "application/vnd.jupyter.widget-view+json": {
       "model_id": "",
       "version_major": 2,
       "version_minor": 0
      },
      "text/plain": [
       "HBox(children=(FloatProgress(value=0.0, description='Training', layout=Layout(flex='2'), max=1250.0, style=Pro…"
      ]
     },
     "metadata": {},
     "output_type": "display_data"
    },
    {
     "name": "stdout",
     "output_type": "stream",
     "text": [
      "Epoch 2050: train=8.10351, val=8.23548, took 25.911 s\n",
      "  Validation Found 51149 of 54504, added 2180 (eff 93.84%) (0.218 FP/event)\n"
     ]
    },
    {
     "data": {
      "application/vnd.jupyter.widget-view+json": {
       "model_id": "",
       "version_major": 2,
       "version_minor": 0
      },
      "text/plain": [
       "HBox(children=(FloatProgress(value=0.0, description='Training', layout=Layout(flex='2'), max=1250.0, style=Pro…"
      ]
     },
     "metadata": {},
     "output_type": "display_data"
    },
    {
     "name": "stdout",
     "output_type": "stream",
     "text": [
      "Epoch 2051: train=8.1111, val=8.35886, took 25.897 s\n",
      "  Validation Found 51056 of 54504, added 2231 (eff 93.67%) (0.223 FP/event)\n"
     ]
    },
    {
     "data": {
      "application/vnd.jupyter.widget-view+json": {
       "model_id": "",
       "version_major": 2,
       "version_minor": 0
      },
      "text/plain": [
       "HBox(children=(FloatProgress(value=0.0, description='Training', layout=Layout(flex='2'), max=1250.0, style=Pro…"
      ]
     },
     "metadata": {},
     "output_type": "display_data"
    },
    {
     "name": "stdout",
     "output_type": "stream",
     "text": [
      "Epoch 2052: train=8.11557, val=8.30959, took 25.911 s\n",
      "  Validation Found 51092 of 54504, added 2378 (eff 93.74%) (0.238 FP/event)\n"
     ]
    },
    {
     "data": {
      "application/vnd.jupyter.widget-view+json": {
       "model_id": "",
       "version_major": 2,
       "version_minor": 0
      },
      "text/plain": [
       "HBox(children=(FloatProgress(value=0.0, description='Training', layout=Layout(flex='2'), max=1250.0, style=Pro…"
      ]
     },
     "metadata": {},
     "output_type": "display_data"
    },
    {
     "name": "stdout",
     "output_type": "stream",
     "text": [
      "Epoch 2053: train=8.10606, val=8.19009, took 26.007 s\n",
      "  Validation Found 51321 of 54504, added 2497 (eff 94.16%) (0.25 FP/event)\n"
     ]
    },
    {
     "data": {
      "application/vnd.jupyter.widget-view+json": {
       "model_id": "",
       "version_major": 2,
       "version_minor": 0
      },
      "text/plain": [
       "HBox(children=(FloatProgress(value=0.0, description='Training', layout=Layout(flex='2'), max=1250.0, style=Pro…"
      ]
     },
     "metadata": {},
     "output_type": "display_data"
    },
    {
     "name": "stdout",
     "output_type": "stream",
     "text": [
      "Epoch 2054: train=8.10633, val=8.2563, took 25.905 s\n",
      "  Validation Found 51084 of 54504, added 2114 (eff 93.73%) (0.212 FP/event)\n"
     ]
    },
    {
     "data": {
      "application/vnd.jupyter.widget-view+json": {
       "model_id": "",
       "version_major": 2,
       "version_minor": 0
      },
      "text/plain": [
       "HBox(children=(FloatProgress(value=0.0, description='Training', layout=Layout(flex='2'), max=1250.0, style=Pro…"
      ]
     },
     "metadata": {},
     "output_type": "display_data"
    },
    {
     "name": "stdout",
     "output_type": "stream",
     "text": [
      "Epoch 2055: train=8.10669, val=8.28275, took 25.907 s\n",
      "  Validation Found 51027 of 54504, added 1988 (eff 93.62%) (0.199 FP/event)\n"
     ]
    },
    {
     "data": {
      "application/vnd.jupyter.widget-view+json": {
       "model_id": "",
       "version_major": 2,
       "version_minor": 0
      },
      "text/plain": [
       "HBox(children=(FloatProgress(value=0.0, description='Training', layout=Layout(flex='2'), max=1250.0, style=Pro…"
      ]
     },
     "metadata": {},
     "output_type": "display_data"
    },
    {
     "name": "stdout",
     "output_type": "stream",
     "text": [
      "Epoch 2056: train=8.10679, val=8.24314, took 25.89 s\n",
      "  Validation Found 51069 of 54504, added 2135 (eff 93.70%) (0.214 FP/event)\n"
     ]
    },
    {
     "data": {
      "application/vnd.jupyter.widget-view+json": {
       "model_id": "",
       "version_major": 2,
       "version_minor": 0
      },
      "text/plain": [
       "HBox(children=(FloatProgress(value=0.0, description='Training', layout=Layout(flex='2'), max=1250.0, style=Pro…"
      ]
     },
     "metadata": {},
     "output_type": "display_data"
    },
    {
     "name": "stdout",
     "output_type": "stream",
     "text": [
      "Epoch 2057: train=8.11324, val=8.43253, took 26.321 s\n",
      "  Validation Found 50928 of 54504, added 1941 (eff 93.44%) (0.194 FP/event)\n"
     ]
    },
    {
     "data": {
      "application/vnd.jupyter.widget-view+json": {
       "model_id": "",
       "version_major": 2,
       "version_minor": 0
      },
      "text/plain": [
       "HBox(children=(FloatProgress(value=0.0, description='Training', layout=Layout(flex='2'), max=1250.0, style=Pro…"
      ]
     },
     "metadata": {},
     "output_type": "display_data"
    },
    {
     "name": "stdout",
     "output_type": "stream",
     "text": [
      "Epoch 2058: train=8.10208, val=8.30598, took 26.199 s\n",
      "  Validation Found 50954 of 54504, added 1955 (eff 93.49%) (0.196 FP/event)\n"
     ]
    },
    {
     "data": {
      "application/vnd.jupyter.widget-view+json": {
       "model_id": "",
       "version_major": 2,
       "version_minor": 0
      },
      "text/plain": [
       "HBox(children=(FloatProgress(value=0.0, description='Training', layout=Layout(flex='2'), max=1250.0, style=Pro…"
      ]
     },
     "metadata": {},
     "output_type": "display_data"
    },
    {
     "name": "stdout",
     "output_type": "stream",
     "text": [
      "Epoch 2059: train=8.10589, val=8.31818, took 25.945 s\n",
      "  Validation Found 51235 of 54504, added 2433 (eff 94.00%) (0.244 FP/event)\n"
     ]
    },
    {
     "data": {
      "application/vnd.jupyter.widget-view+json": {
       "model_id": "",
       "version_major": 2,
       "version_minor": 0
      },
      "text/plain": [
       "HBox(children=(FloatProgress(value=0.0, description='Training', layout=Layout(flex='2'), max=1250.0, style=Pro…"
      ]
     },
     "metadata": {},
     "output_type": "display_data"
    },
    {
     "name": "stdout",
     "output_type": "stream",
     "text": [
      "Epoch 2060: train=8.10155, val=8.25189, took 25.958 s\n",
      "  Validation Found 51062 of 54504, added 2046 (eff 93.68%) (0.205 FP/event)\n"
     ]
    },
    {
     "data": {
      "application/vnd.jupyter.widget-view+json": {
       "model_id": "",
       "version_major": 2,
       "version_minor": 0
      },
      "text/plain": [
       "HBox(children=(FloatProgress(value=0.0, description='Training', layout=Layout(flex='2'), max=1250.0, style=Pro…"
      ]
     },
     "metadata": {},
     "output_type": "display_data"
    },
    {
     "name": "stdout",
     "output_type": "stream",
     "text": [
      "Epoch 2061: train=8.10363, val=8.26463, took 25.926 s\n",
      "  Validation Found 51067 of 54504, added 2024 (eff 93.69%) (0.203 FP/event)\n"
     ]
    },
    {
     "data": {
      "application/vnd.jupyter.widget-view+json": {
       "model_id": "",
       "version_major": 2,
       "version_minor": 0
      },
      "text/plain": [
       "HBox(children=(FloatProgress(value=0.0, description='Training', layout=Layout(flex='2'), max=1250.0, style=Pro…"
      ]
     },
     "metadata": {},
     "output_type": "display_data"
    },
    {
     "name": "stdout",
     "output_type": "stream",
     "text": [
      "Epoch 2062: train=8.10733, val=8.36412, took 25.905 s\n",
      "  Validation Found 51021 of 54504, added 2084 (eff 93.61%) (0.209 FP/event)\n"
     ]
    },
    {
     "data": {
      "application/vnd.jupyter.widget-view+json": {
       "model_id": "",
       "version_major": 2,
       "version_minor": 0
      },
      "text/plain": [
       "HBox(children=(FloatProgress(value=0.0, description='Training', layout=Layout(flex='2'), max=1250.0, style=Pro…"
      ]
     },
     "metadata": {},
     "output_type": "display_data"
    },
    {
     "name": "stdout",
     "output_type": "stream",
     "text": [
      "Epoch 2063: train=8.10344, val=8.30924, took 25.941 s\n",
      "  Validation Found 51008 of 54504, added 1929 (eff 93.59%) (0.193 FP/event)\n"
     ]
    },
    {
     "data": {
      "application/vnd.jupyter.widget-view+json": {
       "model_id": "",
       "version_major": 2,
       "version_minor": 0
      },
      "text/plain": [
       "HBox(children=(FloatProgress(value=0.0, description='Training', layout=Layout(flex='2'), max=1250.0, style=Pro…"
      ]
     },
     "metadata": {},
     "output_type": "display_data"
    },
    {
     "name": "stdout",
     "output_type": "stream",
     "text": [
      "Epoch 2064: train=8.10466, val=8.21564, took 26.037 s\n",
      "  Validation Found 51212 of 54504, added 2213 (eff 93.96%) (0.222 FP/event)\n"
     ]
    },
    {
     "data": {
      "application/vnd.jupyter.widget-view+json": {
       "model_id": "",
       "version_major": 2,
       "version_minor": 0
      },
      "text/plain": [
       "HBox(children=(FloatProgress(value=0.0, description='Training', layout=Layout(flex='2'), max=1250.0, style=Pro…"
      ]
     },
     "metadata": {},
     "output_type": "display_data"
    },
    {
     "name": "stdout",
     "output_type": "stream",
     "text": [
      "Epoch 2065: train=8.10813, val=8.24013, took 26.215 s\n",
      "  Validation Found 51176 of 54504, added 2245 (eff 93.89%) (0.225 FP/event)\n"
     ]
    },
    {
     "data": {
      "application/vnd.jupyter.widget-view+json": {
       "model_id": "",
       "version_major": 2,
       "version_minor": 0
      },
      "text/plain": [
       "HBox(children=(FloatProgress(value=0.0, description='Training', layout=Layout(flex='2'), max=1250.0, style=Pro…"
      ]
     },
     "metadata": {},
     "output_type": "display_data"
    },
    {
     "name": "stdout",
     "output_type": "stream",
     "text": [
      "Epoch 2066: train=8.10913, val=8.32917, took 26.335 s\n",
      "  Validation Found 50865 of 54504, added 1783 (eff 93.32%) (0.179 FP/event)\n"
     ]
    },
    {
     "data": {
      "application/vnd.jupyter.widget-view+json": {
       "model_id": "",
       "version_major": 2,
       "version_minor": 0
      },
      "text/plain": [
       "HBox(children=(FloatProgress(value=0.0, description='Training', layout=Layout(flex='2'), max=1250.0, style=Pro…"
      ]
     },
     "metadata": {},
     "output_type": "display_data"
    },
    {
     "name": "stdout",
     "output_type": "stream",
     "text": [
      "Epoch 2067: train=8.10744, val=8.26551, took 25.987 s\n",
      "  Validation Found 50995 of 54504, added 1927 (eff 93.56%) (0.193 FP/event)\n"
     ]
    },
    {
     "data": {
      "application/vnd.jupyter.widget-view+json": {
       "model_id": "",
       "version_major": 2,
       "version_minor": 0
      },
      "text/plain": [
       "HBox(children=(FloatProgress(value=0.0, description='Training', layout=Layout(flex='2'), max=1250.0, style=Pro…"
      ]
     },
     "metadata": {},
     "output_type": "display_data"
    },
    {
     "name": "stdout",
     "output_type": "stream",
     "text": [
      "Epoch 2068: train=8.11717, val=8.24995, took 25.609 s\n",
      "  Validation Found 51073 of 54504, added 2135 (eff 93.71%) (0.214 FP/event)\n"
     ]
    },
    {
     "data": {
      "application/vnd.jupyter.widget-view+json": {
       "model_id": "",
       "version_major": 2,
       "version_minor": 0
      },
      "text/plain": [
       "HBox(children=(FloatProgress(value=0.0, description='Training', layout=Layout(flex='2'), max=1250.0, style=Pro…"
      ]
     },
     "metadata": {},
     "output_type": "display_data"
    },
    {
     "name": "stdout",
     "output_type": "stream",
     "text": [
      "Epoch 2069: train=8.10449, val=8.26769, took 25.726 s\n",
      "  Validation Found 51091 of 54504, added 2120 (eff 93.74%) (0.212 FP/event)\n"
     ]
    },
    {
     "data": {
      "application/vnd.jupyter.widget-view+json": {
       "model_id": "",
       "version_major": 2,
       "version_minor": 0
      },
      "text/plain": [
       "HBox(children=(FloatProgress(value=0.0, description='Training', layout=Layout(flex='2'), max=1250.0, style=Pro…"
      ]
     },
     "metadata": {},
     "output_type": "display_data"
    },
    {
     "name": "stdout",
     "output_type": "stream",
     "text": [
      "Epoch 2070: train=8.10071, val=8.2702, took 25.657 s\n",
      "  Validation Found 51248 of 54504, added 2596 (eff 94.03%) (0.26 FP/event)\n"
     ]
    },
    {
     "data": {
      "application/vnd.jupyter.widget-view+json": {
       "model_id": "",
       "version_major": 2,
       "version_minor": 0
      },
      "text/plain": [
       "HBox(children=(FloatProgress(value=0.0, description='Training', layout=Layout(flex='2'), max=1250.0, style=Pro…"
      ]
     },
     "metadata": {},
     "output_type": "display_data"
    },
    {
     "name": "stdout",
     "output_type": "stream",
     "text": [
      "Epoch 2071: train=8.10022, val=8.21215, took 25.857 s\n",
      "  Validation Found 51219 of 54504, added 2398 (eff 93.97%) (0.24 FP/event)\n"
     ]
    },
    {
     "data": {
      "application/vnd.jupyter.widget-view+json": {
       "model_id": "",
       "version_major": 2,
       "version_minor": 0
      },
      "text/plain": [
       "HBox(children=(FloatProgress(value=0.0, description='Training', layout=Layout(flex='2'), max=1250.0, style=Pro…"
      ]
     },
     "metadata": {},
     "output_type": "display_data"
    },
    {
     "name": "stdout",
     "output_type": "stream",
     "text": [
      "Epoch 2072: train=8.10371, val=8.30629, took 25.972 s\n",
      "  Validation Found 51224 of 54504, added 2534 (eff 93.98%) (0.254 FP/event)\n"
     ]
    },
    {
     "data": {
      "application/vnd.jupyter.widget-view+json": {
       "model_id": "",
       "version_major": 2,
       "version_minor": 0
      },
      "text/plain": [
       "HBox(children=(FloatProgress(value=0.0, description='Training', layout=Layout(flex='2'), max=1250.0, style=Pro…"
      ]
     },
     "metadata": {},
     "output_type": "display_data"
    },
    {
     "name": "stdout",
     "output_type": "stream",
     "text": [
      "Epoch 2073: train=8.10635, val=8.23399, took 25.835 s\n",
      "  Validation Found 51151 of 54504, added 2333 (eff 93.85%) (0.234 FP/event)\n"
     ]
    },
    {
     "data": {
      "application/vnd.jupyter.widget-view+json": {
       "model_id": "",
       "version_major": 2,
       "version_minor": 0
      },
      "text/plain": [
       "HBox(children=(FloatProgress(value=0.0, description='Training', layout=Layout(flex='2'), max=1250.0, style=Pro…"
      ]
     },
     "metadata": {},
     "output_type": "display_data"
    },
    {
     "name": "stdout",
     "output_type": "stream",
     "text": [
      "Epoch 2074: train=8.10901, val=8.33821, took 25.853 s\n",
      "  Validation Found 51159 of 54504, added 2370 (eff 93.86%) (0.237 FP/event)\n"
     ]
    },
    {
     "data": {
      "application/vnd.jupyter.widget-view+json": {
       "model_id": "",
       "version_major": 2,
       "version_minor": 0
      },
      "text/plain": [
       "HBox(children=(FloatProgress(value=0.0, description='Training', layout=Layout(flex='2'), max=1250.0, style=Pro…"
      ]
     },
     "metadata": {},
     "output_type": "display_data"
    },
    {
     "name": "stdout",
     "output_type": "stream",
     "text": [
      "Epoch 2075: train=8.10102, val=8.30384, took 25.853 s\n",
      "  Validation Found 51101 of 54504, added 2174 (eff 93.76%) (0.218 FP/event)\n"
     ]
    },
    {
     "data": {
      "application/vnd.jupyter.widget-view+json": {
       "model_id": "",
       "version_major": 2,
       "version_minor": 0
      },
      "text/plain": [
       "HBox(children=(FloatProgress(value=0.0, description='Training', layout=Layout(flex='2'), max=1250.0, style=Pro…"
      ]
     },
     "metadata": {},
     "output_type": "display_data"
    },
    {
     "name": "stdout",
     "output_type": "stream",
     "text": [
      "Epoch 2076: train=8.1103, val=8.25686, took 25.95 s\n",
      "  Validation Found 51122 of 54504, added 2178 (eff 93.79%) (0.218 FP/event)\n"
     ]
    },
    {
     "data": {
      "application/vnd.jupyter.widget-view+json": {
       "model_id": "",
       "version_major": 2,
       "version_minor": 0
      },
      "text/plain": [
       "HBox(children=(FloatProgress(value=0.0, description='Training', layout=Layout(flex='2'), max=1250.0, style=Pro…"
      ]
     },
     "metadata": {},
     "output_type": "display_data"
    },
    {
     "name": "stdout",
     "output_type": "stream",
     "text": [
      "Epoch 2077: train=8.11294, val=8.37894, took 25.995 s\n",
      "  Validation Found 51157 of 54504, added 2328 (eff 93.86%) (0.233 FP/event)\n"
     ]
    },
    {
     "data": {
      "application/vnd.jupyter.widget-view+json": {
       "model_id": "",
       "version_major": 2,
       "version_minor": 0
      },
      "text/plain": [
       "HBox(children=(FloatProgress(value=0.0, description='Training', layout=Layout(flex='2'), max=1250.0, style=Pro…"
      ]
     },
     "metadata": {},
     "output_type": "display_data"
    },
    {
     "name": "stdout",
     "output_type": "stream",
     "text": [
      "Epoch 2078: train=8.10558, val=8.32474, took 25.944 s\n",
      "  Validation Found 50965 of 54504, added 2065 (eff 93.51%) (0.207 FP/event)\n"
     ]
    },
    {
     "data": {
      "application/vnd.jupyter.widget-view+json": {
       "model_id": "",
       "version_major": 2,
       "version_minor": 0
      },
      "text/plain": [
       "HBox(children=(FloatProgress(value=0.0, description='Training', layout=Layout(flex='2'), max=1250.0, style=Pro…"
      ]
     },
     "metadata": {},
     "output_type": "display_data"
    },
    {
     "name": "stdout",
     "output_type": "stream",
     "text": [
      "Epoch 2079: train=8.1137, val=8.28936, took 25.908 s\n",
      "  Validation Found 51006 of 54504, added 2015 (eff 93.58%) (0.202 FP/event)\n"
     ]
    },
    {
     "data": {
      "application/vnd.jupyter.widget-view+json": {
       "model_id": "",
       "version_major": 2,
       "version_minor": 0
      },
      "text/plain": [
       "HBox(children=(FloatProgress(value=0.0, description='Training', layout=Layout(flex='2'), max=1250.0, style=Pro…"
      ]
     },
     "metadata": {},
     "output_type": "display_data"
    },
    {
     "name": "stdout",
     "output_type": "stream",
     "text": [
      "Epoch 2080: train=8.10455, val=8.27268, took 26.063 s\n",
      "  Validation Found 51270 of 54504, added 2386 (eff 94.07%) (0.239 FP/event)\n"
     ]
    },
    {
     "data": {
      "application/vnd.jupyter.widget-view+json": {
       "model_id": "",
       "version_major": 2,
       "version_minor": 0
      },
      "text/plain": [
       "HBox(children=(FloatProgress(value=0.0, description='Training', layout=Layout(flex='2'), max=1250.0, style=Pro…"
      ]
     },
     "metadata": {},
     "output_type": "display_data"
    },
    {
     "name": "stdout",
     "output_type": "stream",
     "text": [
      "Epoch 2081: train=8.10441, val=8.2034, took 25.902 s\n",
      "  Validation Found 51319 of 54504, added 2735 (eff 94.16%) (0.274 FP/event)\n"
     ]
    },
    {
     "data": {
      "application/vnd.jupyter.widget-view+json": {
       "model_id": "",
       "version_major": 2,
       "version_minor": 0
      },
      "text/plain": [
       "HBox(children=(FloatProgress(value=0.0, description='Training', layout=Layout(flex='2'), max=1250.0, style=Pro…"
      ]
     },
     "metadata": {},
     "output_type": "display_data"
    },
    {
     "name": "stdout",
     "output_type": "stream",
     "text": [
      "Epoch 2082: train=8.11098, val=8.29475, took 25.991 s\n",
      "  Validation Found 51066 of 54504, added 2098 (eff 93.69%) (0.21 FP/event)\n"
     ]
    },
    {
     "data": {
      "application/vnd.jupyter.widget-view+json": {
       "model_id": "",
       "version_major": 2,
       "version_minor": 0
      },
      "text/plain": [
       "HBox(children=(FloatProgress(value=0.0, description='Training', layout=Layout(flex='2'), max=1250.0, style=Pro…"
      ]
     },
     "metadata": {},
     "output_type": "display_data"
    },
    {
     "name": "stdout",
     "output_type": "stream",
     "text": [
      "Epoch 2083: train=8.1064, val=8.27756, took 26.018 s\n",
      "  Validation Found 51073 of 54504, added 2116 (eff 93.71%) (0.212 FP/event)\n"
     ]
    },
    {
     "data": {
      "application/vnd.jupyter.widget-view+json": {
       "model_id": "",
       "version_major": 2,
       "version_minor": 0
      },
      "text/plain": [
       "HBox(children=(FloatProgress(value=0.0, description='Training', layout=Layout(flex='2'), max=1250.0, style=Pro…"
      ]
     },
     "metadata": {},
     "output_type": "display_data"
    },
    {
     "name": "stdout",
     "output_type": "stream",
     "text": [
      "Epoch 2084: train=8.11381, val=8.25917, took 25.909 s\n",
      "  Validation Found 51026 of 54504, added 1995 (eff 93.62%) (0.2 FP/event)\n"
     ]
    },
    {
     "data": {
      "application/vnd.jupyter.widget-view+json": {
       "model_id": "",
       "version_major": 2,
       "version_minor": 0
      },
      "text/plain": [
       "HBox(children=(FloatProgress(value=0.0, description='Training', layout=Layout(flex='2'), max=1250.0, style=Pro…"
      ]
     },
     "metadata": {},
     "output_type": "display_data"
    },
    {
     "name": "stdout",
     "output_type": "stream",
     "text": [
      "Epoch 2085: train=8.10799, val=8.31416, took 25.901 s\n",
      "  Validation Found 50839 of 54504, added 1807 (eff 93.28%) (0.181 FP/event)\n"
     ]
    },
    {
     "data": {
      "application/vnd.jupyter.widget-view+json": {
       "model_id": "",
       "version_major": 2,
       "version_minor": 0
      },
      "text/plain": [
       "HBox(children=(FloatProgress(value=0.0, description='Training', layout=Layout(flex='2'), max=1250.0, style=Pro…"
      ]
     },
     "metadata": {},
     "output_type": "display_data"
    },
    {
     "name": "stdout",
     "output_type": "stream",
     "text": [
      "Epoch 2086: train=8.10343, val=8.25086, took 26.008 s\n",
      "  Validation Found 51195 of 54504, added 2366 (eff 93.93%) (0.237 FP/event)\n"
     ]
    },
    {
     "data": {
      "application/vnd.jupyter.widget-view+json": {
       "model_id": "",
       "version_major": 2,
       "version_minor": 0
      },
      "text/plain": [
       "HBox(children=(FloatProgress(value=0.0, description='Training', layout=Layout(flex='2'), max=1250.0, style=Pro…"
      ]
     },
     "metadata": {},
     "output_type": "display_data"
    },
    {
     "name": "stdout",
     "output_type": "stream",
     "text": [
      "Epoch 2087: train=8.10812, val=8.29193, took 25.868 s\n",
      "  Validation Found 51033 of 54504, added 2007 (eff 93.63%) (0.201 FP/event)\n"
     ]
    },
    {
     "data": {
      "application/vnd.jupyter.widget-view+json": {
       "model_id": "",
       "version_major": 2,
       "version_minor": 0
      },
      "text/plain": [
       "HBox(children=(FloatProgress(value=0.0, description='Training', layout=Layout(flex='2'), max=1250.0, style=Pro…"
      ]
     },
     "metadata": {},
     "output_type": "display_data"
    },
    {
     "name": "stdout",
     "output_type": "stream",
     "text": [
      "Epoch 2088: train=8.10785, val=8.30125, took 25.878 s\n",
      "  Validation Found 50837 of 54504, added 1733 (eff 93.27%) (0.174 FP/event)\n"
     ]
    },
    {
     "data": {
      "application/vnd.jupyter.widget-view+json": {
       "model_id": "",
       "version_major": 2,
       "version_minor": 0
      },
      "text/plain": [
       "HBox(children=(FloatProgress(value=0.0, description='Training', layout=Layout(flex='2'), max=1250.0, style=Pro…"
      ]
     },
     "metadata": {},
     "output_type": "display_data"
    },
    {
     "name": "stdout",
     "output_type": "stream",
     "text": [
      "Epoch 2089: train=8.11377, val=8.35023, took 25.896 s\n",
      "  Validation Found 51048 of 54504, added 2036 (eff 93.66%) (0.204 FP/event)\n"
     ]
    },
    {
     "data": {
      "application/vnd.jupyter.widget-view+json": {
       "model_id": "",
       "version_major": 2,
       "version_minor": 0
      },
      "text/plain": [
       "HBox(children=(FloatProgress(value=0.0, description='Training', layout=Layout(flex='2'), max=1250.0, style=Pro…"
      ]
     },
     "metadata": {},
     "output_type": "display_data"
    },
    {
     "name": "stdout",
     "output_type": "stream",
     "text": [
      "Epoch 2090: train=8.11386, val=8.24979, took 25.957 s\n",
      "  Validation Found 51132 of 54504, added 2185 (eff 93.81%) (0.219 FP/event)\n"
     ]
    },
    {
     "data": {
      "application/vnd.jupyter.widget-view+json": {
       "model_id": "",
       "version_major": 2,
       "version_minor": 0
      },
      "text/plain": [
       "HBox(children=(FloatProgress(value=0.0, description='Training', layout=Layout(flex='2'), max=1250.0, style=Pro…"
      ]
     },
     "metadata": {},
     "output_type": "display_data"
    },
    {
     "name": "stdout",
     "output_type": "stream",
     "text": [
      "Epoch 2091: train=8.11084, val=8.32213, took 25.811 s\n",
      "  Validation Found 50963 of 54504, added 2020 (eff 93.50%) (0.202 FP/event)\n"
     ]
    },
    {
     "data": {
      "application/vnd.jupyter.widget-view+json": {
       "model_id": "",
       "version_major": 2,
       "version_minor": 0
      },
      "text/plain": [
       "HBox(children=(FloatProgress(value=0.0, description='Training', layout=Layout(flex='2'), max=1250.0, style=Pro…"
      ]
     },
     "metadata": {},
     "output_type": "display_data"
    },
    {
     "name": "stdout",
     "output_type": "stream",
     "text": [
      "Epoch 2092: train=8.10316, val=8.29947, took 25.813 s\n",
      "  Validation Found 50996 of 54504, added 1966 (eff 93.56%) (0.197 FP/event)\n"
     ]
    },
    {
     "data": {
      "application/vnd.jupyter.widget-view+json": {
       "model_id": "",
       "version_major": 2,
       "version_minor": 0
      },
      "text/plain": [
       "HBox(children=(FloatProgress(value=0.0, description='Training', layout=Layout(flex='2'), max=1250.0, style=Pro…"
      ]
     },
     "metadata": {},
     "output_type": "display_data"
    },
    {
     "name": "stdout",
     "output_type": "stream",
     "text": [
      "Epoch 2093: train=8.11125, val=8.29781, took 25.817 s\n",
      "  Validation Found 51174 of 54504, added 2364 (eff 93.89%) (0.237 FP/event)\n"
     ]
    },
    {
     "data": {
      "application/vnd.jupyter.widget-view+json": {
       "model_id": "",
       "version_major": 2,
       "version_minor": 0
      },
      "text/plain": [
       "HBox(children=(FloatProgress(value=0.0, description='Training', layout=Layout(flex='2'), max=1250.0, style=Pro…"
      ]
     },
     "metadata": {},
     "output_type": "display_data"
    },
    {
     "name": "stdout",
     "output_type": "stream",
     "text": [
      "Epoch 2094: train=8.11125, val=8.30021, took 25.807 s\n",
      "  Validation Found 51039 of 54504, added 2079 (eff 93.64%) (0.208 FP/event)\n"
     ]
    },
    {
     "data": {
      "application/vnd.jupyter.widget-view+json": {
       "model_id": "",
       "version_major": 2,
       "version_minor": 0
      },
      "text/plain": [
       "HBox(children=(FloatProgress(value=0.0, description='Training', layout=Layout(flex='2'), max=1250.0, style=Pro…"
      ]
     },
     "metadata": {},
     "output_type": "display_data"
    },
    {
     "name": "stdout",
     "output_type": "stream",
     "text": [
      "Epoch 2095: train=8.10992, val=8.26837, took 25.804 s\n",
      "  Validation Found 51043 of 54504, added 2065 (eff 93.65%) (0.207 FP/event)\n"
     ]
    },
    {
     "data": {
      "application/vnd.jupyter.widget-view+json": {
       "model_id": "",
       "version_major": 2,
       "version_minor": 0
      },
      "text/plain": [
       "HBox(children=(FloatProgress(value=0.0, description='Training', layout=Layout(flex='2'), max=1250.0, style=Pro…"
      ]
     },
     "metadata": {},
     "output_type": "display_data"
    },
    {
     "name": "stdout",
     "output_type": "stream",
     "text": [
      "Epoch 2096: train=8.10776, val=8.2574, took 26.04 s\n",
      "  Validation Found 51156 of 54504, added 2176 (eff 93.86%) (0.218 FP/event)\n"
     ]
    },
    {
     "data": {
      "application/vnd.jupyter.widget-view+json": {
       "model_id": "",
       "version_major": 2,
       "version_minor": 0
      },
      "text/plain": [
       "HBox(children=(FloatProgress(value=0.0, description='Training', layout=Layout(flex='2'), max=1250.0, style=Pro…"
      ]
     },
     "metadata": {},
     "output_type": "display_data"
    },
    {
     "name": "stdout",
     "output_type": "stream",
     "text": [
      "Epoch 2097: train=8.10904, val=8.26948, took 25.893 s\n",
      "  Validation Found 51114 of 54504, added 2300 (eff 93.78%) (0.23 FP/event)\n"
     ]
    },
    {
     "data": {
      "application/vnd.jupyter.widget-view+json": {
       "model_id": "",
       "version_major": 2,
       "version_minor": 0
      },
      "text/plain": [
       "HBox(children=(FloatProgress(value=0.0, description='Training', layout=Layout(flex='2'), max=1250.0, style=Pro…"
      ]
     },
     "metadata": {},
     "output_type": "display_data"
    },
    {
     "name": "stdout",
     "output_type": "stream",
     "text": [
      "Epoch 2098: train=8.11194, val=8.20191, took 26.359 s\n",
      "  Validation Found 51172 of 54504, added 2332 (eff 93.89%) (0.234 FP/event)\n"
     ]
    },
    {
     "data": {
      "application/vnd.jupyter.widget-view+json": {
       "model_id": "",
       "version_major": 2,
       "version_minor": 0
      },
      "text/plain": [
       "HBox(children=(FloatProgress(value=0.0, description='Training', layout=Layout(flex='2'), max=1250.0, style=Pro…"
      ]
     },
     "metadata": {},
     "output_type": "display_data"
    },
    {
     "name": "stdout",
     "output_type": "stream",
     "text": [
      "Epoch 2099: train=8.10085, val=8.21843, took 26.323 s\n",
      "  Validation Found 51193 of 54504, added 2357 (eff 93.93%) (0.236 FP/event)\n"
     ]
    },
    {
     "data": {
      "application/vnd.jupyter.widget-view+json": {
       "model_id": "",
       "version_major": 2,
       "version_minor": 0
      },
      "text/plain": [
       "HBox(children=(FloatProgress(value=0.0, description='Training', layout=Layout(flex='2'), max=1250.0, style=Pro…"
      ]
     },
     "metadata": {},
     "output_type": "display_data"
    },
    {
     "name": "stdout",
     "output_type": "stream",
     "text": [
      "Epoch 2100: train=8.10396, val=8.36373, took 25.896 s\n",
      "  Validation Found 50870 of 54504, added 1787 (eff 93.33%) (0.179 FP/event)\n"
     ]
    },
    {
     "data": {
      "application/vnd.jupyter.widget-view+json": {
       "model_id": "",
       "version_major": 2,
       "version_minor": 0
      },
      "text/plain": [
       "HBox(children=(FloatProgress(value=0.0, description='Training', layout=Layout(flex='2'), max=1250.0, style=Pro…"
      ]
     },
     "metadata": {},
     "output_type": "display_data"
    },
    {
     "name": "stdout",
     "output_type": "stream",
     "text": [
      "Epoch 2101: train=8.10776, val=8.33731, took 25.9 s\n",
      "  Validation Found 50953 of 54504, added 1818 (eff 93.48%) (0.182 FP/event)\n"
     ]
    },
    {
     "data": {
      "application/vnd.jupyter.widget-view+json": {
       "model_id": "",
       "version_major": 2,
       "version_minor": 0
      },
      "text/plain": [
       "HBox(children=(FloatProgress(value=0.0, description='Training', layout=Layout(flex='2'), max=1250.0, style=Pro…"
      ]
     },
     "metadata": {},
     "output_type": "display_data"
    },
    {
     "name": "stdout",
     "output_type": "stream",
     "text": [
      "Epoch 2102: train=8.09869, val=8.3288, took 26.019 s\n",
      "  Validation Found 50889 of 54504, added 1814 (eff 93.37%) (0.182 FP/event)\n"
     ]
    },
    {
     "data": {
      "application/vnd.jupyter.widget-view+json": {
       "model_id": "",
       "version_major": 2,
       "version_minor": 0
      },
      "text/plain": [
       "HBox(children=(FloatProgress(value=0.0, description='Training', layout=Layout(flex='2'), max=1250.0, style=Pro…"
      ]
     },
     "metadata": {},
     "output_type": "display_data"
    },
    {
     "name": "stdout",
     "output_type": "stream",
     "text": [
      "Epoch 2103: train=8.11464, val=8.22864, took 26.295 s\n",
      "  Validation Found 51257 of 54504, added 2655 (eff 94.04%) (0.266 FP/event)\n"
     ]
    },
    {
     "data": {
      "application/vnd.jupyter.widget-view+json": {
       "model_id": "",
       "version_major": 2,
       "version_minor": 0
      },
      "text/plain": [
       "HBox(children=(FloatProgress(value=0.0, description='Training', layout=Layout(flex='2'), max=1250.0, style=Pro…"
      ]
     },
     "metadata": {},
     "output_type": "display_data"
    },
    {
     "name": "stdout",
     "output_type": "stream",
     "text": [
      "Epoch 2104: train=8.10575, val=8.22003, took 26.385 s\n",
      "  Validation Found 51156 of 54504, added 2358 (eff 93.86%) (0.236 FP/event)\n"
     ]
    },
    {
     "data": {
      "application/vnd.jupyter.widget-view+json": {
       "model_id": "",
       "version_major": 2,
       "version_minor": 0
      },
      "text/plain": [
       "HBox(children=(FloatProgress(value=0.0, description='Training', layout=Layout(flex='2'), max=1250.0, style=Pro…"
      ]
     },
     "metadata": {},
     "output_type": "display_data"
    },
    {
     "name": "stdout",
     "output_type": "stream",
     "text": [
      "Epoch 2105: train=8.10987, val=8.27498, took 25.903 s\n",
      "  Validation Found 51082 of 54504, added 2106 (eff 93.72%) (0.211 FP/event)\n"
     ]
    },
    {
     "data": {
      "application/vnd.jupyter.widget-view+json": {
       "model_id": "",
       "version_major": 2,
       "version_minor": 0
      },
      "text/plain": [
       "HBox(children=(FloatProgress(value=0.0, description='Training', layout=Layout(flex='2'), max=1250.0, style=Pro…"
      ]
     },
     "metadata": {},
     "output_type": "display_data"
    },
    {
     "name": "stdout",
     "output_type": "stream",
     "text": [
      "Epoch 2106: train=8.10735, val=8.27258, took 25.91 s\n",
      "  Validation Found 51133 of 54504, added 2300 (eff 93.82%) (0.23 FP/event)\n"
     ]
    },
    {
     "data": {
      "application/vnd.jupyter.widget-view+json": {
       "model_id": "",
       "version_major": 2,
       "version_minor": 0
      },
      "text/plain": [
       "HBox(children=(FloatProgress(value=0.0, description='Training', layout=Layout(flex='2'), max=1250.0, style=Pro…"
      ]
     },
     "metadata": {},
     "output_type": "display_data"
    },
    {
     "name": "stdout",
     "output_type": "stream",
     "text": [
      "Epoch 2107: train=8.10555, val=8.31526, took 25.898 s\n",
      "  Validation Found 51008 of 54504, added 1989 (eff 93.59%) (0.199 FP/event)\n"
     ]
    },
    {
     "data": {
      "application/vnd.jupyter.widget-view+json": {
       "model_id": "",
       "version_major": 2,
       "version_minor": 0
      },
      "text/plain": [
       "HBox(children=(FloatProgress(value=0.0, description='Training', layout=Layout(flex='2'), max=1250.0, style=Pro…"
      ]
     },
     "metadata": {},
     "output_type": "display_data"
    },
    {
     "name": "stdout",
     "output_type": "stream",
     "text": [
      "Epoch 2108: train=8.10644, val=8.22334, took 26.297 s\n",
      "  Validation Found 51239 of 54504, added 2473 (eff 94.01%) (0.248 FP/event)\n"
     ]
    },
    {
     "data": {
      "application/vnd.jupyter.widget-view+json": {
       "model_id": "",
       "version_major": 2,
       "version_minor": 0
      },
      "text/plain": [
       "HBox(children=(FloatProgress(value=0.0, description='Training', layout=Layout(flex='2'), max=1250.0, style=Pro…"
      ]
     },
     "metadata": {},
     "output_type": "display_data"
    },
    {
     "name": "stdout",
     "output_type": "stream",
     "text": [
      "Epoch 2109: train=8.10158, val=8.24645, took 25.907 s\n",
      "  Validation Found 51143 of 54504, added 2203 (eff 93.83%) (0.221 FP/event)\n"
     ]
    },
    {
     "data": {
      "application/vnd.jupyter.widget-view+json": {
       "model_id": "",
       "version_major": 2,
       "version_minor": 0
      },
      "text/plain": [
       "HBox(children=(FloatProgress(value=0.0, description='Training', layout=Layout(flex='2'), max=1250.0, style=Pro…"
      ]
     },
     "metadata": {},
     "output_type": "display_data"
    },
    {
     "name": "stdout",
     "output_type": "stream",
     "text": [
      "Epoch 2110: train=8.1161, val=8.28649, took 25.906 s\n",
      "  Validation Found 50996 of 54504, added 1965 (eff 93.56%) (0.197 FP/event)\n"
     ]
    },
    {
     "data": {
      "application/vnd.jupyter.widget-view+json": {
       "model_id": "",
       "version_major": 2,
       "version_minor": 0
      },
      "text/plain": [
       "HBox(children=(FloatProgress(value=0.0, description='Training', layout=Layout(flex='2'), max=1250.0, style=Pro…"
      ]
     },
     "metadata": {},
     "output_type": "display_data"
    },
    {
     "name": "stdout",
     "output_type": "stream",
     "text": [
      "Epoch 2111: train=8.10769, val=8.40596, took 25.903 s\n",
      "  Validation Found 50764 of 54504, added 1640 (eff 93.14%) (0.164 FP/event)\n"
     ]
    },
    {
     "data": {
      "application/vnd.jupyter.widget-view+json": {
       "model_id": "",
       "version_major": 2,
       "version_minor": 0
      },
      "text/plain": [
       "HBox(children=(FloatProgress(value=0.0, description='Training', layout=Layout(flex='2'), max=1250.0, style=Pro…"
      ]
     },
     "metadata": {},
     "output_type": "display_data"
    },
    {
     "name": "stdout",
     "output_type": "stream",
     "text": [
      "Epoch 2112: train=8.10791, val=8.23377, took 26.027 s\n",
      "  Validation Found 51202 of 54504, added 2483 (eff 93.94%) (0.249 FP/event)\n"
     ]
    },
    {
     "data": {
      "application/vnd.jupyter.widget-view+json": {
       "model_id": "",
       "version_major": 2,
       "version_minor": 0
      },
      "text/plain": [
       "HBox(children=(FloatProgress(value=0.0, description='Training', layout=Layout(flex='2'), max=1250.0, style=Pro…"
      ]
     },
     "metadata": {},
     "output_type": "display_data"
    },
    {
     "name": "stdout",
     "output_type": "stream",
     "text": [
      "Epoch 2113: train=8.10849, val=8.22879, took 26.004 s\n",
      "  Validation Found 51117 of 54504, added 2205 (eff 93.79%) (0.221 FP/event)\n"
     ]
    },
    {
     "data": {
      "application/vnd.jupyter.widget-view+json": {
       "model_id": "",
       "version_major": 2,
       "version_minor": 0
      },
      "text/plain": [
       "HBox(children=(FloatProgress(value=0.0, description='Training', layout=Layout(flex='2'), max=1250.0, style=Pro…"
      ]
     },
     "metadata": {},
     "output_type": "display_data"
    },
    {
     "name": "stdout",
     "output_type": "stream",
     "text": [
      "Epoch 2114: train=8.10185, val=8.32687, took 25.852 s\n",
      "  Validation Found 50945 of 54504, added 1860 (eff 93.47%) (0.186 FP/event)\n"
     ]
    },
    {
     "data": {
      "application/vnd.jupyter.widget-view+json": {
       "model_id": "",
       "version_major": 2,
       "version_minor": 0
      },
      "text/plain": [
       "HBox(children=(FloatProgress(value=0.0, description='Training', layout=Layout(flex='2'), max=1250.0, style=Pro…"
      ]
     },
     "metadata": {},
     "output_type": "display_data"
    },
    {
     "name": "stdout",
     "output_type": "stream",
     "text": [
      "Epoch 2115: train=8.10966, val=8.34598, took 25.851 s\n",
      "  Validation Found 50924 of 54504, added 1974 (eff 93.43%) (0.198 FP/event)\n"
     ]
    },
    {
     "data": {
      "application/vnd.jupyter.widget-view+json": {
       "model_id": "",
       "version_major": 2,
       "version_minor": 0
      },
      "text/plain": [
       "HBox(children=(FloatProgress(value=0.0, description='Training', layout=Layout(flex='2'), max=1250.0, style=Pro…"
      ]
     },
     "metadata": {},
     "output_type": "display_data"
    },
    {
     "name": "stdout",
     "output_type": "stream",
     "text": [
      "Epoch 2116: train=8.10626, val=8.35347, took 25.784 s\n",
      "  Validation Found 51011 of 54504, added 2093 (eff 93.59%) (0.21 FP/event)\n"
     ]
    },
    {
     "data": {
      "application/vnd.jupyter.widget-view+json": {
       "model_id": "",
       "version_major": 2,
       "version_minor": 0
      },
      "text/plain": [
       "HBox(children=(FloatProgress(value=0.0, description='Training', layout=Layout(flex='2'), max=1250.0, style=Pro…"
      ]
     },
     "metadata": {},
     "output_type": "display_data"
    },
    {
     "name": "stdout",
     "output_type": "stream",
     "text": [
      "Epoch 2117: train=8.10778, val=8.29243, took 25.828 s\n",
      "  Validation Found 50966 of 54504, added 1979 (eff 93.51%) (0.198 FP/event)\n"
     ]
    },
    {
     "data": {
      "application/vnd.jupyter.widget-view+json": {
       "model_id": "",
       "version_major": 2,
       "version_minor": 0
      },
      "text/plain": [
       "HBox(children=(FloatProgress(value=0.0, description='Training', layout=Layout(flex='2'), max=1250.0, style=Pro…"
      ]
     },
     "metadata": {},
     "output_type": "display_data"
    },
    {
     "name": "stdout",
     "output_type": "stream",
     "text": [
      "Epoch 2118: train=8.10264, val=8.40533, took 25.926 s\n",
      "  Validation Found 50807 of 54504, added 1747 (eff 93.22%) (0.175 FP/event)\n"
     ]
    },
    {
     "data": {
      "application/vnd.jupyter.widget-view+json": {
       "model_id": "",
       "version_major": 2,
       "version_minor": 0
      },
      "text/plain": [
       "HBox(children=(FloatProgress(value=0.0, description='Training', layout=Layout(flex='2'), max=1250.0, style=Pro…"
      ]
     },
     "metadata": {},
     "output_type": "display_data"
    },
    {
     "name": "stdout",
     "output_type": "stream",
     "text": [
      "Epoch 2119: train=8.1068, val=8.35807, took 25.896 s\n",
      "  Validation Found 50901 of 54504, added 1829 (eff 93.39%) (0.183 FP/event)\n"
     ]
    },
    {
     "data": {
      "application/vnd.jupyter.widget-view+json": {
       "model_id": "",
       "version_major": 2,
       "version_minor": 0
      },
      "text/plain": [
       "HBox(children=(FloatProgress(value=0.0, description='Training', layout=Layout(flex='2'), max=1250.0, style=Pro…"
      ]
     },
     "metadata": {},
     "output_type": "display_data"
    },
    {
     "name": "stdout",
     "output_type": "stream",
     "text": [
      "Epoch 2120: train=8.10573, val=8.26835, took 25.904 s\n",
      "  Validation Found 51089 of 54504, added 2168 (eff 93.73%) (0.217 FP/event)\n"
     ]
    },
    {
     "data": {
      "application/vnd.jupyter.widget-view+json": {
       "model_id": "",
       "version_major": 2,
       "version_minor": 0
      },
      "text/plain": [
       "HBox(children=(FloatProgress(value=0.0, description='Training', layout=Layout(flex='2'), max=1250.0, style=Pro…"
      ]
     },
     "metadata": {},
     "output_type": "display_data"
    },
    {
     "name": "stdout",
     "output_type": "stream",
     "text": [
      "Epoch 2121: train=8.10784, val=8.32304, took 25.917 s\n",
      "  Validation Found 51024 of 54504, added 1964 (eff 93.62%) (0.197 FP/event)\n"
     ]
    },
    {
     "data": {
      "application/vnd.jupyter.widget-view+json": {
       "model_id": "",
       "version_major": 2,
       "version_minor": 0
      },
      "text/plain": [
       "HBox(children=(FloatProgress(value=0.0, description='Training', layout=Layout(flex='2'), max=1250.0, style=Pro…"
      ]
     },
     "metadata": {},
     "output_type": "display_data"
    },
    {
     "name": "stdout",
     "output_type": "stream",
     "text": [
      "Epoch 2122: train=8.10642, val=8.25003, took 25.96 s\n",
      "  Validation Found 51201 of 54504, added 2285 (eff 93.94%) (0.229 FP/event)\n"
     ]
    },
    {
     "data": {
      "application/vnd.jupyter.widget-view+json": {
       "model_id": "",
       "version_major": 2,
       "version_minor": 0
      },
      "text/plain": [
       "HBox(children=(FloatProgress(value=0.0, description='Training', layout=Layout(flex='2'), max=1250.0, style=Pro…"
      ]
     },
     "metadata": {},
     "output_type": "display_data"
    },
    {
     "name": "stdout",
     "output_type": "stream",
     "text": [
      "Epoch 2123: train=8.10246, val=8.23623, took 25.85 s\n",
      "  Validation Found 51039 of 54504, added 1975 (eff 93.64%) (0.198 FP/event)\n"
     ]
    },
    {
     "data": {
      "application/vnd.jupyter.widget-view+json": {
       "model_id": "",
       "version_major": 2,
       "version_minor": 0
      },
      "text/plain": [
       "HBox(children=(FloatProgress(value=0.0, description='Training', layout=Layout(flex='2'), max=1250.0, style=Pro…"
      ]
     },
     "metadata": {},
     "output_type": "display_data"
    },
    {
     "name": "stdout",
     "output_type": "stream",
     "text": [
      "Epoch 2124: train=8.10958, val=8.27081, took 25.819 s\n",
      "  Validation Found 51143 of 54504, added 2200 (eff 93.83%) (0.22 FP/event)\n"
     ]
    },
    {
     "data": {
      "application/vnd.jupyter.widget-view+json": {
       "model_id": "",
       "version_major": 2,
       "version_minor": 0
      },
      "text/plain": [
       "HBox(children=(FloatProgress(value=0.0, description='Training', layout=Layout(flex='2'), max=1250.0, style=Pro…"
      ]
     },
     "metadata": {},
     "output_type": "display_data"
    },
    {
     "name": "stdout",
     "output_type": "stream",
     "text": [
      "Epoch 2125: train=8.10268, val=8.25719, took 25.816 s\n",
      "  Validation Found 51154 of 54504, added 2219 (eff 93.85%) (0.222 FP/event)\n"
     ]
    },
    {
     "data": {
      "application/vnd.jupyter.widget-view+json": {
       "model_id": "",
       "version_major": 2,
       "version_minor": 0
      },
      "text/plain": [
       "HBox(children=(FloatProgress(value=0.0, description='Training', layout=Layout(flex='2'), max=1250.0, style=Pro…"
      ]
     },
     "metadata": {},
     "output_type": "display_data"
    },
    {
     "name": "stdout",
     "output_type": "stream",
     "text": [
      "Epoch 2126: train=8.10307, val=8.24607, took 25.804 s\n",
      "  Validation Found 51041 of 54504, added 1976 (eff 93.65%) (0.198 FP/event)\n"
     ]
    },
    {
     "data": {
      "application/vnd.jupyter.widget-view+json": {
       "model_id": "",
       "version_major": 2,
       "version_minor": 0
      },
      "text/plain": [
       "HBox(children=(FloatProgress(value=0.0, description='Training', layout=Layout(flex='2'), max=1250.0, style=Pro…"
      ]
     },
     "metadata": {},
     "output_type": "display_data"
    },
    {
     "name": "stdout",
     "output_type": "stream",
     "text": [
      "Epoch 2127: train=8.10526, val=8.20727, took 25.797 s\n",
      "  Validation Found 51090 of 54504, added 2071 (eff 93.74%) (0.207 FP/event)\n"
     ]
    },
    {
     "data": {
      "application/vnd.jupyter.widget-view+json": {
       "model_id": "",
       "version_major": 2,
       "version_minor": 0
      },
      "text/plain": [
       "HBox(children=(FloatProgress(value=0.0, description='Training', layout=Layout(flex='2'), max=1250.0, style=Pro…"
      ]
     },
     "metadata": {},
     "output_type": "display_data"
    },
    {
     "name": "stdout",
     "output_type": "stream",
     "text": [
      "Epoch 2128: train=8.10609, val=8.28298, took 25.786 s\n",
      "  Validation Found 50955 of 54504, added 1928 (eff 93.49%) (0.193 FP/event)\n"
     ]
    },
    {
     "data": {
      "application/vnd.jupyter.widget-view+json": {
       "model_id": "",
       "version_major": 2,
       "version_minor": 0
      },
      "text/plain": [
       "HBox(children=(FloatProgress(value=0.0, description='Training', layout=Layout(flex='2'), max=1250.0, style=Pro…"
      ]
     },
     "metadata": {},
     "output_type": "display_data"
    },
    {
     "name": "stdout",
     "output_type": "stream",
     "text": [
      "Epoch 2129: train=8.10137, val=8.28713, took 25.784 s\n",
      "  Validation Found 50994 of 54504, added 1923 (eff 93.56%) (0.193 FP/event)\n"
     ]
    },
    {
     "data": {
      "application/vnd.jupyter.widget-view+json": {
       "model_id": "",
       "version_major": 2,
       "version_minor": 0
      },
      "text/plain": [
       "HBox(children=(FloatProgress(value=0.0, description='Training', layout=Layout(flex='2'), max=1250.0, style=Pro…"
      ]
     },
     "metadata": {},
     "output_type": "display_data"
    },
    {
     "name": "stdout",
     "output_type": "stream",
     "text": [
      "Epoch 2130: train=8.10146, val=8.33563, took 25.849 s\n",
      "  Validation Found 50905 of 54504, added 1793 (eff 93.40%) (0.18 FP/event)\n"
     ]
    },
    {
     "data": {
      "application/vnd.jupyter.widget-view+json": {
       "model_id": "",
       "version_major": 2,
       "version_minor": 0
      },
      "text/plain": [
       "HBox(children=(FloatProgress(value=0.0, description='Training', layout=Layout(flex='2'), max=1250.0, style=Pro…"
      ]
     },
     "metadata": {},
     "output_type": "display_data"
    },
    {
     "name": "stdout",
     "output_type": "stream",
     "text": [
      "Epoch 2131: train=8.11528, val=8.38429, took 25.839 s\n",
      "  Validation Found 50900 of 54504, added 1919 (eff 93.39%) (0.192 FP/event)\n"
     ]
    },
    {
     "data": {
      "application/vnd.jupyter.widget-view+json": {
       "model_id": "",
       "version_major": 2,
       "version_minor": 0
      },
      "text/plain": [
       "HBox(children=(FloatProgress(value=0.0, description='Training', layout=Layout(flex='2'), max=1250.0, style=Pro…"
      ]
     },
     "metadata": {},
     "output_type": "display_data"
    },
    {
     "name": "stdout",
     "output_type": "stream",
     "text": [
      "Epoch 2132: train=8.10877, val=8.3217, took 26.015 s\n",
      "  Validation Found 50928 of 54504, added 1870 (eff 93.44%) (0.187 FP/event)\n"
     ]
    },
    {
     "data": {
      "application/vnd.jupyter.widget-view+json": {
       "model_id": "",
       "version_major": 2,
       "version_minor": 0
      },
      "text/plain": [
       "HBox(children=(FloatProgress(value=0.0, description='Training', layout=Layout(flex='2'), max=1250.0, style=Pro…"
      ]
     },
     "metadata": {},
     "output_type": "display_data"
    },
    {
     "name": "stdout",
     "output_type": "stream",
     "text": [
      "Epoch 2133: train=8.09891, val=8.27711, took 26.02 s\n",
      "  Validation Found 51048 of 54504, added 2141 (eff 93.66%) (0.214 FP/event)\n"
     ]
    },
    {
     "data": {
      "application/vnd.jupyter.widget-view+json": {
       "model_id": "",
       "version_major": 2,
       "version_minor": 0
      },
      "text/plain": [
       "HBox(children=(FloatProgress(value=0.0, description='Training', layout=Layout(flex='2'), max=1250.0, style=Pro…"
      ]
     },
     "metadata": {},
     "output_type": "display_data"
    },
    {
     "name": "stdout",
     "output_type": "stream",
     "text": [
      "Epoch 2134: train=8.10443, val=8.38385, took 26.525 s\n",
      "  Validation Found 50857 of 54504, added 1757 (eff 93.31%) (0.176 FP/event)\n"
     ]
    },
    {
     "data": {
      "application/vnd.jupyter.widget-view+json": {
       "model_id": "",
       "version_major": 2,
       "version_minor": 0
      },
      "text/plain": [
       "HBox(children=(FloatProgress(value=0.0, description='Training', layout=Layout(flex='2'), max=1250.0, style=Pro…"
      ]
     },
     "metadata": {},
     "output_type": "display_data"
    },
    {
     "name": "stdout",
     "output_type": "stream",
     "text": [
      "Epoch 2135: train=8.10077, val=8.28935, took 25.876 s\n",
      "  Validation Found 51077 of 54504, added 2092 (eff 93.71%) (0.21 FP/event)\n"
     ]
    },
    {
     "data": {
      "application/vnd.jupyter.widget-view+json": {
       "model_id": "",
       "version_major": 2,
       "version_minor": 0
      },
      "text/plain": [
       "HBox(children=(FloatProgress(value=0.0, description='Training', layout=Layout(flex='2'), max=1250.0, style=Pro…"
      ]
     },
     "metadata": {},
     "output_type": "display_data"
    },
    {
     "name": "stdout",
     "output_type": "stream",
     "text": [
      "Epoch 2136: train=8.10271, val=8.27036, took 25.88 s\n",
      "  Validation Found 51160 of 54504, added 2190 (eff 93.86%) (0.219 FP/event)\n"
     ]
    },
    {
     "data": {
      "application/vnd.jupyter.widget-view+json": {
       "model_id": "",
       "version_major": 2,
       "version_minor": 0
      },
      "text/plain": [
       "HBox(children=(FloatProgress(value=0.0, description='Training', layout=Layout(flex='2'), max=1250.0, style=Pro…"
      ]
     },
     "metadata": {},
     "output_type": "display_data"
    },
    {
     "name": "stdout",
     "output_type": "stream",
     "text": [
      "Epoch 2137: train=8.09771, val=8.32069, took 25.919 s\n",
      "  Validation Found 50987 of 54504, added 1851 (eff 93.55%) (0.185 FP/event)\n"
     ]
    },
    {
     "data": {
      "application/vnd.jupyter.widget-view+json": {
       "model_id": "",
       "version_major": 2,
       "version_minor": 0
      },
      "text/plain": [
       "HBox(children=(FloatProgress(value=0.0, description='Training', layout=Layout(flex='2'), max=1250.0, style=Pro…"
      ]
     },
     "metadata": {},
     "output_type": "display_data"
    },
    {
     "name": "stdout",
     "output_type": "stream",
     "text": [
      "Epoch 2138: train=8.09888, val=8.32587, took 25.933 s\n",
      "  Validation Found 51123 of 54504, added 2088 (eff 93.80%) (0.209 FP/event)\n"
     ]
    },
    {
     "data": {
      "application/vnd.jupyter.widget-view+json": {
       "model_id": "",
       "version_major": 2,
       "version_minor": 0
      },
      "text/plain": [
       "HBox(children=(FloatProgress(value=0.0, description='Training', layout=Layout(flex='2'), max=1250.0, style=Pro…"
      ]
     },
     "metadata": {},
     "output_type": "display_data"
    },
    {
     "name": "stdout",
     "output_type": "stream",
     "text": [
      "Epoch 2139: train=8.10036, val=8.29296, took 25.951 s\n",
      "  Validation Found 51101 of 54504, added 2041 (eff 93.76%) (0.204 FP/event)\n"
     ]
    },
    {
     "data": {
      "application/vnd.jupyter.widget-view+json": {
       "model_id": "",
       "version_major": 2,
       "version_minor": 0
      },
      "text/plain": [
       "HBox(children=(FloatProgress(value=0.0, description='Training', layout=Layout(flex='2'), max=1250.0, style=Pro…"
      ]
     },
     "metadata": {},
     "output_type": "display_data"
    },
    {
     "name": "stdout",
     "output_type": "stream",
     "text": [
      "Epoch 2140: train=8.10767, val=8.30436, took 26.237 s\n",
      "  Validation Found 50933 of 54504, added 1852 (eff 93.45%) (0.185 FP/event)\n"
     ]
    },
    {
     "data": {
      "application/vnd.jupyter.widget-view+json": {
       "model_id": "",
       "version_major": 2,
       "version_minor": 0
      },
      "text/plain": [
       "HBox(children=(FloatProgress(value=0.0, description='Training', layout=Layout(flex='2'), max=1250.0, style=Pro…"
      ]
     },
     "metadata": {},
     "output_type": "display_data"
    },
    {
     "name": "stdout",
     "output_type": "stream",
     "text": [
      "Epoch 2141: train=8.10346, val=8.30862, took 26.15 s\n",
      "  Validation Found 51051 of 54504, added 2033 (eff 93.66%) (0.204 FP/event)\n"
     ]
    },
    {
     "data": {
      "application/vnd.jupyter.widget-view+json": {
       "model_id": "",
       "version_major": 2,
       "version_minor": 0
      },
      "text/plain": [
       "HBox(children=(FloatProgress(value=0.0, description='Training', layout=Layout(flex='2'), max=1250.0, style=Pro…"
      ]
     },
     "metadata": {},
     "output_type": "display_data"
    },
    {
     "name": "stdout",
     "output_type": "stream",
     "text": [
      "Epoch 2142: train=8.10355, val=8.34517, took 25.794 s\n",
      "  Validation Found 50916 of 54504, added 1851 (eff 93.42%) (0.185 FP/event)\n"
     ]
    },
    {
     "data": {
      "application/vnd.jupyter.widget-view+json": {
       "model_id": "",
       "version_major": 2,
       "version_minor": 0
      },
      "text/plain": [
       "HBox(children=(FloatProgress(value=0.0, description='Training', layout=Layout(flex='2'), max=1250.0, style=Pro…"
      ]
     },
     "metadata": {},
     "output_type": "display_data"
    },
    {
     "name": "stdout",
     "output_type": "stream",
     "text": [
      "Epoch 2143: train=8.10404, val=8.24784, took 25.849 s\n",
      "  Validation Found 51186 of 54504, added 2289 (eff 93.91%) (0.229 FP/event)\n"
     ]
    },
    {
     "data": {
      "application/vnd.jupyter.widget-view+json": {
       "model_id": "",
       "version_major": 2,
       "version_minor": 0
      },
      "text/plain": [
       "HBox(children=(FloatProgress(value=0.0, description='Training', layout=Layout(flex='2'), max=1250.0, style=Pro…"
      ]
     },
     "metadata": {},
     "output_type": "display_data"
    },
    {
     "name": "stdout",
     "output_type": "stream",
     "text": [
      "Epoch 2144: train=8.11315, val=8.23526, took 25.865 s\n",
      "  Validation Found 51127 of 54504, added 2121 (eff 93.80%) (0.212 FP/event)\n"
     ]
    },
    {
     "data": {
      "application/vnd.jupyter.widget-view+json": {
       "model_id": "",
       "version_major": 2,
       "version_minor": 0
      },
      "text/plain": [
       "HBox(children=(FloatProgress(value=0.0, description='Training', layout=Layout(flex='2'), max=1250.0, style=Pro…"
      ]
     },
     "metadata": {},
     "output_type": "display_data"
    },
    {
     "name": "stdout",
     "output_type": "stream",
     "text": [
      "Epoch 2145: train=8.10097, val=8.2682, took 25.859 s\n",
      "  Validation Found 51065 of 54504, added 2070 (eff 93.69%) (0.207 FP/event)\n"
     ]
    },
    {
     "data": {
      "application/vnd.jupyter.widget-view+json": {
       "model_id": "",
       "version_major": 2,
       "version_minor": 0
      },
      "text/plain": [
       "HBox(children=(FloatProgress(value=0.0, description='Training', layout=Layout(flex='2'), max=1250.0, style=Pro…"
      ]
     },
     "metadata": {},
     "output_type": "display_data"
    },
    {
     "name": "stdout",
     "output_type": "stream",
     "text": [
      "Epoch 2146: train=8.10664, val=8.33661, took 25.849 s\n",
      "  Validation Found 50938 of 54504, added 1889 (eff 93.46%) (0.189 FP/event)\n"
     ]
    },
    {
     "data": {
      "application/vnd.jupyter.widget-view+json": {
       "model_id": "",
       "version_major": 2,
       "version_minor": 0
      },
      "text/plain": [
       "HBox(children=(FloatProgress(value=0.0, description='Training', layout=Layout(flex='2'), max=1250.0, style=Pro…"
      ]
     },
     "metadata": {},
     "output_type": "display_data"
    },
    {
     "name": "stdout",
     "output_type": "stream",
     "text": [
      "Epoch 2147: train=8.10754, val=8.3062, took 25.857 s\n",
      "  Validation Found 50916 of 54504, added 1933 (eff 93.42%) (0.194 FP/event)\n"
     ]
    },
    {
     "data": {
      "application/vnd.jupyter.widget-view+json": {
       "model_id": "",
       "version_major": 2,
       "version_minor": 0
      },
      "text/plain": [
       "HBox(children=(FloatProgress(value=0.0, description='Training', layout=Layout(flex='2'), max=1250.0, style=Pro…"
      ]
     },
     "metadata": {},
     "output_type": "display_data"
    },
    {
     "name": "stdout",
     "output_type": "stream",
     "text": [
      "Epoch 2148: train=8.10184, val=8.2396, took 25.752 s\n",
      "  Validation Found 51265 of 54504, added 2529 (eff 94.06%) (0.253 FP/event)\n"
     ]
    },
    {
     "data": {
      "application/vnd.jupyter.widget-view+json": {
       "model_id": "",
       "version_major": 2,
       "version_minor": 0
      },
      "text/plain": [
       "HBox(children=(FloatProgress(value=0.0, description='Training', layout=Layout(flex='2'), max=1250.0, style=Pro…"
      ]
     },
     "metadata": {},
     "output_type": "display_data"
    },
    {
     "name": "stdout",
     "output_type": "stream",
     "text": [
      "Epoch 2149: train=8.09866, val=8.2621, took 26.099 s\n",
      "  Validation Found 50994 of 54504, added 1940 (eff 93.56%) (0.194 FP/event)\n"
     ]
    },
    {
     "data": {
      "application/vnd.jupyter.widget-view+json": {
       "model_id": "",
       "version_major": 2,
       "version_minor": 0
      },
      "text/plain": [
       "HBox(children=(FloatProgress(value=0.0, description='Training', layout=Layout(flex='2'), max=1250.0, style=Pro…"
      ]
     },
     "metadata": {},
     "output_type": "display_data"
    },
    {
     "name": "stdout",
     "output_type": "stream",
     "text": [
      "Epoch 2150: train=8.10229, val=8.23368, took 26.093 s\n",
      "  Validation Found 51066 of 54504, added 2010 (eff 93.69%) (0.201 FP/event)\n"
     ]
    },
    {
     "data": {
      "application/vnd.jupyter.widget-view+json": {
       "model_id": "",
       "version_major": 2,
       "version_minor": 0
      },
      "text/plain": [
       "HBox(children=(FloatProgress(value=0.0, description='Training', layout=Layout(flex='2'), max=1250.0, style=Pro…"
      ]
     },
     "metadata": {},
     "output_type": "display_data"
    },
    {
     "name": "stdout",
     "output_type": "stream",
     "text": [
      "Epoch 2151: train=8.10656, val=8.24412, took 25.862 s\n",
      "  Validation Found 51083 of 54504, added 2108 (eff 93.72%) (0.211 FP/event)\n"
     ]
    },
    {
     "data": {
      "application/vnd.jupyter.widget-view+json": {
       "model_id": "",
       "version_major": 2,
       "version_minor": 0
      },
      "text/plain": [
       "HBox(children=(FloatProgress(value=0.0, description='Training', layout=Layout(flex='2'), max=1250.0, style=Pro…"
      ]
     },
     "metadata": {},
     "output_type": "display_data"
    },
    {
     "name": "stdout",
     "output_type": "stream",
     "text": [
      "Epoch 2152: train=8.10393, val=8.30228, took 26.102 s\n",
      "  Validation Found 50908 of 54504, added 1807 (eff 93.40%) (0.181 FP/event)\n"
     ]
    },
    {
     "data": {
      "application/vnd.jupyter.widget-view+json": {
       "model_id": "",
       "version_major": 2,
       "version_minor": 0
      },
      "text/plain": [
       "HBox(children=(FloatProgress(value=0.0, description='Training', layout=Layout(flex='2'), max=1250.0, style=Pro…"
      ]
     },
     "metadata": {},
     "output_type": "display_data"
    },
    {
     "name": "stdout",
     "output_type": "stream",
     "text": [
      "Epoch 2153: train=8.10407, val=8.25233, took 25.847 s\n",
      "  Validation Found 51142 of 54504, added 2152 (eff 93.83%) (0.216 FP/event)\n"
     ]
    },
    {
     "data": {
      "application/vnd.jupyter.widget-view+json": {
       "model_id": "",
       "version_major": 2,
       "version_minor": 0
      },
      "text/plain": [
       "HBox(children=(FloatProgress(value=0.0, description='Training', layout=Layout(flex='2'), max=1250.0, style=Pro…"
      ]
     },
     "metadata": {},
     "output_type": "display_data"
    },
    {
     "name": "stdout",
     "output_type": "stream",
     "text": [
      "Epoch 2154: train=8.10312, val=8.33697, took 26.013 s\n",
      "  Validation Found 50948 of 54504, added 1956 (eff 93.48%) (0.196 FP/event)\n"
     ]
    },
    {
     "data": {
      "application/vnd.jupyter.widget-view+json": {
       "model_id": "",
       "version_major": 2,
       "version_minor": 0
      },
      "text/plain": [
       "HBox(children=(FloatProgress(value=0.0, description='Training', layout=Layout(flex='2'), max=1250.0, style=Pro…"
      ]
     },
     "metadata": {},
     "output_type": "display_data"
    },
    {
     "name": "stdout",
     "output_type": "stream",
     "text": [
      "Epoch 2155: train=8.10704, val=8.21456, took 25.921 s\n",
      "  Validation Found 51118 of 54504, added 2107 (eff 93.79%) (0.211 FP/event)\n"
     ]
    },
    {
     "data": {
      "application/vnd.jupyter.widget-view+json": {
       "model_id": "",
       "version_major": 2,
       "version_minor": 0
      },
      "text/plain": [
       "HBox(children=(FloatProgress(value=0.0, description='Training', layout=Layout(flex='2'), max=1250.0, style=Pro…"
      ]
     },
     "metadata": {},
     "output_type": "display_data"
    },
    {
     "name": "stdout",
     "output_type": "stream",
     "text": [
      "Epoch 2156: train=8.10043, val=8.31013, took 25.942 s\n",
      "  Validation Found 50948 of 54504, added 1963 (eff 93.48%) (0.197 FP/event)\n"
     ]
    },
    {
     "data": {
      "application/vnd.jupyter.widget-view+json": {
       "model_id": "",
       "version_major": 2,
       "version_minor": 0
      },
      "text/plain": [
       "HBox(children=(FloatProgress(value=0.0, description='Training', layout=Layout(flex='2'), max=1250.0, style=Pro…"
      ]
     },
     "metadata": {},
     "output_type": "display_data"
    },
    {
     "name": "stdout",
     "output_type": "stream",
     "text": [
      "Epoch 2157: train=8.09977, val=8.38536, took 25.875 s\n",
      "  Validation Found 50940 of 54504, added 2083 (eff 93.46%) (0.209 FP/event)\n"
     ]
    },
    {
     "data": {
      "application/vnd.jupyter.widget-view+json": {
       "model_id": "",
       "version_major": 2,
       "version_minor": 0
      },
      "text/plain": [
       "HBox(children=(FloatProgress(value=0.0, description='Training', layout=Layout(flex='2'), max=1250.0, style=Pro…"
      ]
     },
     "metadata": {},
     "output_type": "display_data"
    },
    {
     "name": "stdout",
     "output_type": "stream",
     "text": [
      "Epoch 2158: train=8.10709, val=8.24711, took 25.892 s\n",
      "  Validation Found 50981 of 54504, added 1920 (eff 93.54%) (0.192 FP/event)\n"
     ]
    },
    {
     "data": {
      "application/vnd.jupyter.widget-view+json": {
       "model_id": "",
       "version_major": 2,
       "version_minor": 0
      },
      "text/plain": [
       "HBox(children=(FloatProgress(value=0.0, description='Training', layout=Layout(flex='2'), max=1250.0, style=Pro…"
      ]
     },
     "metadata": {},
     "output_type": "display_data"
    },
    {
     "name": "stdout",
     "output_type": "stream",
     "text": [
      "Epoch 2159: train=8.1028, val=8.27601, took 25.828 s\n",
      "  Validation Found 51163 of 54504, added 2272 (eff 93.87%) (0.228 FP/event)\n"
     ]
    },
    {
     "data": {
      "application/vnd.jupyter.widget-view+json": {
       "model_id": "",
       "version_major": 2,
       "version_minor": 0
      },
      "text/plain": [
       "HBox(children=(FloatProgress(value=0.0, description='Training', layout=Layout(flex='2'), max=1250.0, style=Pro…"
      ]
     },
     "metadata": {},
     "output_type": "display_data"
    },
    {
     "name": "stdout",
     "output_type": "stream",
     "text": [
      "Epoch 2160: train=8.10317, val=8.29298, took 26.473 s\n",
      "  Validation Found 51038 of 54504, added 2025 (eff 93.64%) (0.203 FP/event)\n"
     ]
    },
    {
     "data": {
      "application/vnd.jupyter.widget-view+json": {
       "model_id": "",
       "version_major": 2,
       "version_minor": 0
      },
      "text/plain": [
       "HBox(children=(FloatProgress(value=0.0, description='Training', layout=Layout(flex='2'), max=1250.0, style=Pro…"
      ]
     },
     "metadata": {},
     "output_type": "display_data"
    },
    {
     "name": "stdout",
     "output_type": "stream",
     "text": [
      "Epoch 2161: train=8.1022, val=8.37999, took 25.977 s\n",
      "  Validation Found 50890 of 54504, added 1806 (eff 93.37%) (0.181 FP/event)\n"
     ]
    },
    {
     "data": {
      "application/vnd.jupyter.widget-view+json": {
       "model_id": "",
       "version_major": 2,
       "version_minor": 0
      },
      "text/plain": [
       "HBox(children=(FloatProgress(value=0.0, description='Training', layout=Layout(flex='2'), max=1250.0, style=Pro…"
      ]
     },
     "metadata": {},
     "output_type": "display_data"
    },
    {
     "name": "stdout",
     "output_type": "stream",
     "text": [
      "Epoch 2162: train=8.11296, val=8.25432, took 25.98 s\n",
      "  Validation Found 51214 of 54504, added 2471 (eff 93.96%) (0.247 FP/event)\n"
     ]
    },
    {
     "data": {
      "application/vnd.jupyter.widget-view+json": {
       "model_id": "",
       "version_major": 2,
       "version_minor": 0
      },
      "text/plain": [
       "HBox(children=(FloatProgress(value=0.0, description='Training', layout=Layout(flex='2'), max=1250.0, style=Pro…"
      ]
     },
     "metadata": {},
     "output_type": "display_data"
    },
    {
     "name": "stdout",
     "output_type": "stream",
     "text": [
      "Epoch 2163: train=8.10562, val=8.4531, took 25.914 s\n",
      "  Validation Found 50694 of 54504, added 1699 (eff 93.01%) (0.17 FP/event)\n"
     ]
    },
    {
     "data": {
      "application/vnd.jupyter.widget-view+json": {
       "model_id": "",
       "version_major": 2,
       "version_minor": 0
      },
      "text/plain": [
       "HBox(children=(FloatProgress(value=0.0, description='Training', layout=Layout(flex='2'), max=1250.0, style=Pro…"
      ]
     },
     "metadata": {},
     "output_type": "display_data"
    },
    {
     "name": "stdout",
     "output_type": "stream",
     "text": [
      "Epoch 2164: train=8.10214, val=8.38849, took 25.933 s\n",
      "  Validation Found 50915 of 54504, added 1870 (eff 93.42%) (0.187 FP/event)\n"
     ]
    },
    {
     "data": {
      "application/vnd.jupyter.widget-view+json": {
       "model_id": "",
       "version_major": 2,
       "version_minor": 0
      },
      "text/plain": [
       "HBox(children=(FloatProgress(value=0.0, description='Training', layout=Layout(flex='2'), max=1250.0, style=Pro…"
      ]
     },
     "metadata": {},
     "output_type": "display_data"
    },
    {
     "name": "stdout",
     "output_type": "stream",
     "text": [
      "Epoch 2165: train=8.09963, val=8.34542, took 25.978 s\n",
      "  Validation Found 51072 of 54504, added 2232 (eff 93.70%) (0.224 FP/event)\n"
     ]
    },
    {
     "data": {
      "application/vnd.jupyter.widget-view+json": {
       "model_id": "",
       "version_major": 2,
       "version_minor": 0
      },
      "text/plain": [
       "HBox(children=(FloatProgress(value=0.0, description='Training', layout=Layout(flex='2'), max=1250.0, style=Pro…"
      ]
     },
     "metadata": {},
     "output_type": "display_data"
    },
    {
     "name": "stdout",
     "output_type": "stream",
     "text": [
      "Epoch 2166: train=8.09997, val=8.24215, took 25.93 s\n",
      "  Validation Found 51028 of 54504, added 1970 (eff 93.62%) (0.197 FP/event)\n"
     ]
    },
    {
     "data": {
      "application/vnd.jupyter.widget-view+json": {
       "model_id": "",
       "version_major": 2,
       "version_minor": 0
      },
      "text/plain": [
       "HBox(children=(FloatProgress(value=0.0, description='Training', layout=Layout(flex='2'), max=1250.0, style=Pro…"
      ]
     },
     "metadata": {},
     "output_type": "display_data"
    },
    {
     "name": "stdout",
     "output_type": "stream",
     "text": [
      "Epoch 2167: train=8.10806, val=8.27272, took 26.132 s\n",
      "  Validation Found 50964 of 54504, added 1930 (eff 93.51%) (0.193 FP/event)\n"
     ]
    },
    {
     "data": {
      "application/vnd.jupyter.widget-view+json": {
       "model_id": "",
       "version_major": 2,
       "version_minor": 0
      },
      "text/plain": [
       "HBox(children=(FloatProgress(value=0.0, description='Training', layout=Layout(flex='2'), max=1250.0, style=Pro…"
      ]
     },
     "metadata": {},
     "output_type": "display_data"
    },
    {
     "name": "stdout",
     "output_type": "stream",
     "text": [
      "Epoch 2168: train=8.09866, val=8.27424, took 26.138 s\n",
      "  Validation Found 51101 of 54504, added 2039 (eff 93.76%) (0.204 FP/event)\n"
     ]
    },
    {
     "data": {
      "application/vnd.jupyter.widget-view+json": {
       "model_id": "",
       "version_major": 2,
       "version_minor": 0
      },
      "text/plain": [
       "HBox(children=(FloatProgress(value=0.0, description='Training', layout=Layout(flex='2'), max=1250.0, style=Pro…"
      ]
     },
     "metadata": {},
     "output_type": "display_data"
    },
    {
     "name": "stdout",
     "output_type": "stream",
     "text": [
      "Epoch 2169: train=8.10568, val=8.25986, took 26.061 s\n",
      "  Validation Found 51158 of 54504, added 2211 (eff 93.86%) (0.221 FP/event)\n"
     ]
    },
    {
     "data": {
      "application/vnd.jupyter.widget-view+json": {
       "model_id": "",
       "version_major": 2,
       "version_minor": 0
      },
      "text/plain": [
       "HBox(children=(FloatProgress(value=0.0, description='Training', layout=Layout(flex='2'), max=1250.0, style=Pro…"
      ]
     },
     "metadata": {},
     "output_type": "display_data"
    },
    {
     "name": "stdout",
     "output_type": "stream",
     "text": [
      "Epoch 2170: train=8.10111, val=8.43497, took 26.071 s\n",
      "  Validation Found 50833 of 54504, added 1704 (eff 93.26%) (0.171 FP/event)\n"
     ]
    },
    {
     "data": {
      "application/vnd.jupyter.widget-view+json": {
       "model_id": "",
       "version_major": 2,
       "version_minor": 0
      },
      "text/plain": [
       "HBox(children=(FloatProgress(value=0.0, description='Training', layout=Layout(flex='2'), max=1250.0, style=Pro…"
      ]
     },
     "metadata": {},
     "output_type": "display_data"
    },
    {
     "name": "stdout",
     "output_type": "stream",
     "text": [
      "Epoch 2171: train=8.10617, val=8.25303, took 25.776 s\n",
      "  Validation Found 51048 of 54504, added 2026 (eff 93.66%) (0.203 FP/event)\n"
     ]
    },
    {
     "data": {
      "application/vnd.jupyter.widget-view+json": {
       "model_id": "",
       "version_major": 2,
       "version_minor": 0
      },
      "text/plain": [
       "HBox(children=(FloatProgress(value=0.0, description='Training', layout=Layout(flex='2'), max=1250.0, style=Pro…"
      ]
     },
     "metadata": {},
     "output_type": "display_data"
    },
    {
     "name": "stdout",
     "output_type": "stream",
     "text": [
      "Epoch 2172: train=8.10584, val=8.21267, took 26.039 s\n",
      "  Validation Found 51147 of 54504, added 2175 (eff 93.84%) (0.218 FP/event)\n"
     ]
    },
    {
     "data": {
      "application/vnd.jupyter.widget-view+json": {
       "model_id": "",
       "version_major": 2,
       "version_minor": 0
      },
      "text/plain": [
       "HBox(children=(FloatProgress(value=0.0, description='Training', layout=Layout(flex='2'), max=1250.0, style=Pro…"
      ]
     },
     "metadata": {},
     "output_type": "display_data"
    },
    {
     "name": "stdout",
     "output_type": "stream",
     "text": [
      "Epoch 2173: train=8.10179, val=8.26449, took 25.873 s\n",
      "  Validation Found 51089 of 54504, added 2101 (eff 93.73%) (0.21 FP/event)\n"
     ]
    },
    {
     "data": {
      "application/vnd.jupyter.widget-view+json": {
       "model_id": "",
       "version_major": 2,
       "version_minor": 0
      },
      "text/plain": [
       "HBox(children=(FloatProgress(value=0.0, description='Training', layout=Layout(flex='2'), max=1250.0, style=Pro…"
      ]
     },
     "metadata": {},
     "output_type": "display_data"
    },
    {
     "name": "stdout",
     "output_type": "stream",
     "text": [
      "Epoch 2174: train=8.1079, val=8.28292, took 25.906 s\n",
      "  Validation Found 51148 of 54504, added 2168 (eff 93.84%) (0.217 FP/event)\n"
     ]
    },
    {
     "data": {
      "application/vnd.jupyter.widget-view+json": {
       "model_id": "",
       "version_major": 2,
       "version_minor": 0
      },
      "text/plain": [
       "HBox(children=(FloatProgress(value=0.0, description='Training', layout=Layout(flex='2'), max=1250.0, style=Pro…"
      ]
     },
     "metadata": {},
     "output_type": "display_data"
    },
    {
     "name": "stdout",
     "output_type": "stream",
     "text": [
      "Epoch 2175: train=8.10393, val=8.20607, took 25.851 s\n",
      "  Validation Found 51098 of 54504, added 2080 (eff 93.75%) (0.208 FP/event)\n"
     ]
    },
    {
     "data": {
      "application/vnd.jupyter.widget-view+json": {
       "model_id": "",
       "version_major": 2,
       "version_minor": 0
      },
      "text/plain": [
       "HBox(children=(FloatProgress(value=0.0, description='Training', layout=Layout(flex='2'), max=1250.0, style=Pro…"
      ]
     },
     "metadata": {},
     "output_type": "display_data"
    },
    {
     "name": "stdout",
     "output_type": "stream",
     "text": [
      "Epoch 2176: train=8.0969, val=8.24034, took 25.863 s\n",
      "  Validation Found 51016 of 54504, added 1954 (eff 93.60%) (0.196 FP/event)\n"
     ]
    },
    {
     "data": {
      "application/vnd.jupyter.widget-view+json": {
       "model_id": "",
       "version_major": 2,
       "version_minor": 0
      },
      "text/plain": [
       "HBox(children=(FloatProgress(value=0.0, description='Training', layout=Layout(flex='2'), max=1250.0, style=Pro…"
      ]
     },
     "metadata": {},
     "output_type": "display_data"
    },
    {
     "name": "stdout",
     "output_type": "stream",
     "text": [
      "Epoch 2177: train=8.10618, val=8.31303, took 26.196 s\n",
      "  Validation Found 51134 of 54504, added 2129 (eff 93.82%) (0.213 FP/event)\n"
     ]
    },
    {
     "data": {
      "application/vnd.jupyter.widget-view+json": {
       "model_id": "",
       "version_major": 2,
       "version_minor": 0
      },
      "text/plain": [
       "HBox(children=(FloatProgress(value=0.0, description='Training', layout=Layout(flex='2'), max=1250.0, style=Pro…"
      ]
     },
     "metadata": {},
     "output_type": "display_data"
    },
    {
     "name": "stdout",
     "output_type": "stream",
     "text": [
      "Epoch 2178: train=8.10628, val=8.20105, took 25.826 s\n",
      "  Validation Found 51011 of 54504, added 1974 (eff 93.59%) (0.198 FP/event)\n"
     ]
    },
    {
     "data": {
      "application/vnd.jupyter.widget-view+json": {
       "model_id": "",
       "version_major": 2,
       "version_minor": 0
      },
      "text/plain": [
       "HBox(children=(FloatProgress(value=0.0, description='Training', layout=Layout(flex='2'), max=1250.0, style=Pro…"
      ]
     },
     "metadata": {},
     "output_type": "display_data"
    },
    {
     "name": "stdout",
     "output_type": "stream",
     "text": [
      "Epoch 2179: train=8.10494, val=8.24347, took 25.837 s\n",
      "  Validation Found 51166 of 54504, added 2369 (eff 93.88%) (0.237 FP/event)\n"
     ]
    },
    {
     "data": {
      "application/vnd.jupyter.widget-view+json": {
       "model_id": "",
       "version_major": 2,
       "version_minor": 0
      },
      "text/plain": [
       "HBox(children=(FloatProgress(value=0.0, description='Training', layout=Layout(flex='2'), max=1250.0, style=Pro…"
      ]
     },
     "metadata": {},
     "output_type": "display_data"
    },
    {
     "name": "stdout",
     "output_type": "stream",
     "text": [
      "Epoch 2180: train=8.10119, val=8.25731, took 25.812 s\n",
      "  Validation Found 51007 of 54504, added 1909 (eff 93.58%) (0.191 FP/event)\n"
     ]
    },
    {
     "data": {
      "application/vnd.jupyter.widget-view+json": {
       "model_id": "",
       "version_major": 2,
       "version_minor": 0
      },
      "text/plain": [
       "HBox(children=(FloatProgress(value=0.0, description='Training', layout=Layout(flex='2'), max=1250.0, style=Pro…"
      ]
     },
     "metadata": {},
     "output_type": "display_data"
    },
    {
     "name": "stdout",
     "output_type": "stream",
     "text": [
      "Epoch 2181: train=8.09647, val=8.17884, took 25.965 s\n",
      "  Validation Found 51083 of 54504, added 1994 (eff 93.72%) (0.2 FP/event)\n"
     ]
    },
    {
     "data": {
      "application/vnd.jupyter.widget-view+json": {
       "model_id": "",
       "version_major": 2,
       "version_minor": 0
      },
      "text/plain": [
       "HBox(children=(FloatProgress(value=0.0, description='Training', layout=Layout(flex='2'), max=1250.0, style=Pro…"
      ]
     },
     "metadata": {},
     "output_type": "display_data"
    },
    {
     "name": "stdout",
     "output_type": "stream",
     "text": [
      "Epoch 2182: train=8.10184, val=8.25614, took 25.881 s\n",
      "  Validation Found 51048 of 54504, added 2003 (eff 93.66%) (0.201 FP/event)\n"
     ]
    },
    {
     "data": {
      "application/vnd.jupyter.widget-view+json": {
       "model_id": "",
       "version_major": 2,
       "version_minor": 0
      },
      "text/plain": [
       "HBox(children=(FloatProgress(value=0.0, description='Training', layout=Layout(flex='2'), max=1250.0, style=Pro…"
      ]
     },
     "metadata": {},
     "output_type": "display_data"
    },
    {
     "name": "stdout",
     "output_type": "stream",
     "text": [
      "Epoch 2183: train=8.10811, val=8.25706, took 25.9 s\n",
      "  Validation Found 51245 of 54504, added 2379 (eff 94.02%) (0.238 FP/event)\n"
     ]
    },
    {
     "data": {
      "application/vnd.jupyter.widget-view+json": {
       "model_id": "",
       "version_major": 2,
       "version_minor": 0
      },
      "text/plain": [
       "HBox(children=(FloatProgress(value=0.0, description='Training', layout=Layout(flex='2'), max=1250.0, style=Pro…"
      ]
     },
     "metadata": {},
     "output_type": "display_data"
    },
    {
     "name": "stdout",
     "output_type": "stream",
     "text": [
      "Epoch 2184: train=8.1049, val=8.30299, took 25.887 s\n",
      "  Validation Found 51038 of 54504, added 2019 (eff 93.64%) (0.202 FP/event)\n"
     ]
    },
    {
     "data": {
      "application/vnd.jupyter.widget-view+json": {
       "model_id": "",
       "version_major": 2,
       "version_minor": 0
      },
      "text/plain": [
       "HBox(children=(FloatProgress(value=0.0, description='Training', layout=Layout(flex='2'), max=1250.0, style=Pro…"
      ]
     },
     "metadata": {},
     "output_type": "display_data"
    },
    {
     "name": "stdout",
     "output_type": "stream",
     "text": [
      "Epoch 2185: train=8.10506, val=8.31641, took 25.895 s\n",
      "  Validation Found 51039 of 54504, added 2087 (eff 93.64%) (0.209 FP/event)\n"
     ]
    },
    {
     "data": {
      "application/vnd.jupyter.widget-view+json": {
       "model_id": "",
       "version_major": 2,
       "version_minor": 0
      },
      "text/plain": [
       "HBox(children=(FloatProgress(value=0.0, description='Training', layout=Layout(flex='2'), max=1250.0, style=Pro…"
      ]
     },
     "metadata": {},
     "output_type": "display_data"
    },
    {
     "name": "stdout",
     "output_type": "stream",
     "text": [
      "Epoch 2186: train=8.1015, val=8.43507, took 25.902 s\n",
      "  Validation Found 50846 of 54504, added 1853 (eff 93.29%) (0.186 FP/event)\n"
     ]
    },
    {
     "data": {
      "application/vnd.jupyter.widget-view+json": {
       "model_id": "",
       "version_major": 2,
       "version_minor": 0
      },
      "text/plain": [
       "HBox(children=(FloatProgress(value=0.0, description='Training', layout=Layout(flex='2'), max=1250.0, style=Pro…"
      ]
     },
     "metadata": {},
     "output_type": "display_data"
    },
    {
     "name": "stdout",
     "output_type": "stream",
     "text": [
      "Epoch 2187: train=8.10614, val=8.29142, took 25.739 s\n",
      "  Validation Found 50992 of 54504, added 1931 (eff 93.56%) (0.193 FP/event)\n"
     ]
    },
    {
     "data": {
      "application/vnd.jupyter.widget-view+json": {
       "model_id": "",
       "version_major": 2,
       "version_minor": 0
      },
      "text/plain": [
       "HBox(children=(FloatProgress(value=0.0, description='Training', layout=Layout(flex='2'), max=1250.0, style=Pro…"
      ]
     },
     "metadata": {},
     "output_type": "display_data"
    },
    {
     "name": "stdout",
     "output_type": "stream",
     "text": [
      "Epoch 2188: train=8.10805, val=8.34178, took 25.613 s\n",
      "  Validation Found 51141 of 54504, added 2524 (eff 93.83%) (0.253 FP/event)\n"
     ]
    },
    {
     "data": {
      "application/vnd.jupyter.widget-view+json": {
       "model_id": "",
       "version_major": 2,
       "version_minor": 0
      },
      "text/plain": [
       "HBox(children=(FloatProgress(value=0.0, description='Training', layout=Layout(flex='2'), max=1250.0, style=Pro…"
      ]
     },
     "metadata": {},
     "output_type": "display_data"
    },
    {
     "name": "stdout",
     "output_type": "stream",
     "text": [
      "Epoch 2189: train=8.10684, val=8.23999, took 25.618 s\n",
      "  Validation Found 51145 of 54504, added 2132 (eff 93.84%) (0.214 FP/event)\n"
     ]
    },
    {
     "data": {
      "application/vnd.jupyter.widget-view+json": {
       "model_id": "",
       "version_major": 2,
       "version_minor": 0
      },
      "text/plain": [
       "HBox(children=(FloatProgress(value=0.0, description='Training', layout=Layout(flex='2'), max=1250.0, style=Pro…"
      ]
     },
     "metadata": {},
     "output_type": "display_data"
    },
    {
     "name": "stdout",
     "output_type": "stream",
     "text": [
      "Epoch 2190: train=8.09998, val=8.25446, took 25.61 s\n",
      "  Validation Found 51194 of 54504, added 2281 (eff 93.93%) (0.228 FP/event)\n"
     ]
    },
    {
     "data": {
      "application/vnd.jupyter.widget-view+json": {
       "model_id": "",
       "version_major": 2,
       "version_minor": 0
      },
      "text/plain": [
       "HBox(children=(FloatProgress(value=0.0, description='Training', layout=Layout(flex='2'), max=1250.0, style=Pro…"
      ]
     },
     "metadata": {},
     "output_type": "display_data"
    },
    {
     "name": "stdout",
     "output_type": "stream",
     "text": [
      "Epoch 2191: train=8.10461, val=8.16669, took 25.624 s\n",
      "  Validation Found 51264 of 54504, added 2368 (eff 94.06%) (0.237 FP/event)\n"
     ]
    },
    {
     "data": {
      "application/vnd.jupyter.widget-view+json": {
       "model_id": "",
       "version_major": 2,
       "version_minor": 0
      },
      "text/plain": [
       "HBox(children=(FloatProgress(value=0.0, description='Training', layout=Layout(flex='2'), max=1250.0, style=Pro…"
      ]
     },
     "metadata": {},
     "output_type": "display_data"
    },
    {
     "name": "stdout",
     "output_type": "stream",
     "text": [
      "Epoch 2192: train=8.10248, val=8.25658, took 25.611 s\n",
      "  Validation Found 51096 of 54504, added 2037 (eff 93.75%) (0.204 FP/event)\n"
     ]
    },
    {
     "data": {
      "application/vnd.jupyter.widget-view+json": {
       "model_id": "",
       "version_major": 2,
       "version_minor": 0
      },
      "text/plain": [
       "HBox(children=(FloatProgress(value=0.0, description='Training', layout=Layout(flex='2'), max=1250.0, style=Pro…"
      ]
     },
     "metadata": {},
     "output_type": "display_data"
    },
    {
     "name": "stdout",
     "output_type": "stream",
     "text": [
      "Epoch 2193: train=8.10804, val=8.26271, took 25.839 s\n",
      "  Validation Found 51264 of 54504, added 2499 (eff 94.06%) (0.25 FP/event)\n"
     ]
    },
    {
     "data": {
      "application/vnd.jupyter.widget-view+json": {
       "model_id": "",
       "version_major": 2,
       "version_minor": 0
      },
      "text/plain": [
       "HBox(children=(FloatProgress(value=0.0, description='Training', layout=Layout(flex='2'), max=1250.0, style=Pro…"
      ]
     },
     "metadata": {},
     "output_type": "display_data"
    },
    {
     "name": "stdout",
     "output_type": "stream",
     "text": [
      "Epoch 2194: train=8.10853, val=8.28435, took 26.711 s\n",
      "  Validation Found 51053 of 54504, added 2014 (eff 93.67%) (0.202 FP/event)\n"
     ]
    },
    {
     "data": {
      "application/vnd.jupyter.widget-view+json": {
       "model_id": "",
       "version_major": 2,
       "version_minor": 0
      },
      "text/plain": [
       "HBox(children=(FloatProgress(value=0.0, description='Training', layout=Layout(flex='2'), max=1250.0, style=Pro…"
      ]
     },
     "metadata": {},
     "output_type": "display_data"
    },
    {
     "name": "stdout",
     "output_type": "stream",
     "text": [
      "Epoch 2195: train=8.10042, val=8.22335, took 25.932 s\n",
      "  Validation Found 51068 of 54504, added 2010 (eff 93.70%) (0.201 FP/event)\n"
     ]
    },
    {
     "data": {
      "application/vnd.jupyter.widget-view+json": {
       "model_id": "",
       "version_major": 2,
       "version_minor": 0
      },
      "text/plain": [
       "HBox(children=(FloatProgress(value=0.0, description='Training', layout=Layout(flex='2'), max=1250.0, style=Pro…"
      ]
     },
     "metadata": {},
     "output_type": "display_data"
    },
    {
     "name": "stdout",
     "output_type": "stream",
     "text": [
      "Epoch 2196: train=8.10272, val=8.21262, took 26.037 s\n",
      "  Validation Found 51199 of 54504, added 2450 (eff 93.94%) (0.245 FP/event)\n"
     ]
    },
    {
     "data": {
      "application/vnd.jupyter.widget-view+json": {
       "model_id": "",
       "version_major": 2,
       "version_minor": 0
      },
      "text/plain": [
       "HBox(children=(FloatProgress(value=0.0, description='Training', layout=Layout(flex='2'), max=1250.0, style=Pro…"
      ]
     },
     "metadata": {},
     "output_type": "display_data"
    },
    {
     "name": "stdout",
     "output_type": "stream",
     "text": [
      "Epoch 2197: train=8.1104, val=8.16691, took 26.064 s\n",
      "  Validation Found 51273 of 54504, added 2431 (eff 94.07%) (0.243 FP/event)\n"
     ]
    },
    {
     "data": {
      "application/vnd.jupyter.widget-view+json": {
       "model_id": "",
       "version_major": 2,
       "version_minor": 0
      },
      "text/plain": [
       "HBox(children=(FloatProgress(value=0.0, description='Training', layout=Layout(flex='2'), max=1250.0, style=Pro…"
      ]
     },
     "metadata": {},
     "output_type": "display_data"
    },
    {
     "name": "stdout",
     "output_type": "stream",
     "text": [
      "Epoch 2198: train=8.10431, val=8.2783, took 26.054 s\n",
      "  Validation Found 51053 of 54504, added 2018 (eff 93.67%) (0.202 FP/event)\n"
     ]
    },
    {
     "data": {
      "application/vnd.jupyter.widget-view+json": {
       "model_id": "",
       "version_major": 2,
       "version_minor": 0
      },
      "text/plain": [
       "HBox(children=(FloatProgress(value=0.0, description='Training', layout=Layout(flex='2'), max=1250.0, style=Pro…"
      ]
     },
     "metadata": {},
     "output_type": "display_data"
    },
    {
     "name": "stdout",
     "output_type": "stream",
     "text": [
      "Epoch 2199: train=8.10437, val=8.27394, took 26.175 s\n",
      "  Validation Found 51051 of 54504, added 2070 (eff 93.66%) (0.207 FP/event)\n"
     ]
    },
    {
     "data": {
      "application/vnd.jupyter.widget-view+json": {
       "model_id": "",
       "version_major": 2,
       "version_minor": 0
      },
      "text/plain": [
       "HBox(children=(FloatProgress(value=0.0, description='Training', layout=Layout(flex='2'), max=1250.0, style=Pro…"
      ]
     },
     "metadata": {},
     "output_type": "display_data"
    },
    {
     "name": "stdout",
     "output_type": "stream",
     "text": [
      "Epoch 2200: train=8.11143, val=8.41532, took 25.923 s\n",
      "  Validation Found 50976 of 54504, added 1984 (eff 93.53%) (0.199 FP/event)\n"
     ]
    },
    {
     "data": {
      "application/vnd.jupyter.widget-view+json": {
       "model_id": "",
       "version_major": 2,
       "version_minor": 0
      },
      "text/plain": [
       "HBox(children=(FloatProgress(value=0.0, description='Training', layout=Layout(flex='2'), max=1250.0, style=Pro…"
      ]
     },
     "metadata": {},
     "output_type": "display_data"
    },
    {
     "name": "stdout",
     "output_type": "stream",
     "text": [
      "Epoch 2201: train=8.1067, val=8.20952, took 26.378 s\n",
      "  Validation Found 51205 of 54504, added 2390 (eff 93.95%) (0.239 FP/event)\n"
     ]
    },
    {
     "data": {
      "application/vnd.jupyter.widget-view+json": {
       "model_id": "",
       "version_major": 2,
       "version_minor": 0
      },
      "text/plain": [
       "HBox(children=(FloatProgress(value=0.0, description='Training', layout=Layout(flex='2'), max=1250.0, style=Pro…"
      ]
     },
     "metadata": {},
     "output_type": "display_data"
    },
    {
     "name": "stdout",
     "output_type": "stream",
     "text": [
      "Epoch 2202: train=8.10731, val=8.32572, took 25.996 s\n",
      "  Validation Found 51013 of 54504, added 1950 (eff 93.59%) (0.195 FP/event)\n"
     ]
    },
    {
     "data": {
      "application/vnd.jupyter.widget-view+json": {
       "model_id": "",
       "version_major": 2,
       "version_minor": 0
      },
      "text/plain": [
       "HBox(children=(FloatProgress(value=0.0, description='Training', layout=Layout(flex='2'), max=1250.0, style=Pro…"
      ]
     },
     "metadata": {},
     "output_type": "display_data"
    },
    {
     "name": "stdout",
     "output_type": "stream",
     "text": [
      "Epoch 2203: train=8.10243, val=8.27267, took 25.926 s\n",
      "  Validation Found 51107 of 54504, added 2165 (eff 93.77%) (0.217 FP/event)\n"
     ]
    },
    {
     "data": {
      "application/vnd.jupyter.widget-view+json": {
       "model_id": "",
       "version_major": 2,
       "version_minor": 0
      },
      "text/plain": [
       "HBox(children=(FloatProgress(value=0.0, description='Training', layout=Layout(flex='2'), max=1250.0, style=Pro…"
      ]
     },
     "metadata": {},
     "output_type": "display_data"
    },
    {
     "name": "stdout",
     "output_type": "stream",
     "text": [
      "Epoch 2204: train=8.10426, val=8.26373, took 26.179 s\n",
      "  Validation Found 51203 of 54504, added 2291 (eff 93.94%) (0.229 FP/event)\n"
     ]
    },
    {
     "data": {
      "application/vnd.jupyter.widget-view+json": {
       "model_id": "",
       "version_major": 2,
       "version_minor": 0
      },
      "text/plain": [
       "HBox(children=(FloatProgress(value=0.0, description='Training', layout=Layout(flex='2'), max=1250.0, style=Pro…"
      ]
     },
     "metadata": {},
     "output_type": "display_data"
    },
    {
     "name": "stdout",
     "output_type": "stream",
     "text": [
      "Epoch 2205: train=8.10251, val=8.23771, took 26.029 s\n",
      "  Validation Found 51118 of 54504, added 2143 (eff 93.79%) (0.215 FP/event)\n"
     ]
    },
    {
     "data": {
      "application/vnd.jupyter.widget-view+json": {
       "model_id": "",
       "version_major": 2,
       "version_minor": 0
      },
      "text/plain": [
       "HBox(children=(FloatProgress(value=0.0, description='Training', layout=Layout(flex='2'), max=1250.0, style=Pro…"
      ]
     },
     "metadata": {},
     "output_type": "display_data"
    },
    {
     "name": "stdout",
     "output_type": "stream",
     "text": [
      "Epoch 2206: train=8.09965, val=8.20875, took 25.616 s\n",
      "  Validation Found 51207 of 54504, added 2262 (eff 93.95%) (0.227 FP/event)\n"
     ]
    },
    {
     "data": {
      "application/vnd.jupyter.widget-view+json": {
       "model_id": "",
       "version_major": 2,
       "version_minor": 0
      },
      "text/plain": [
       "HBox(children=(FloatProgress(value=0.0, description='Training', layout=Layout(flex='2'), max=1250.0, style=Pro…"
      ]
     },
     "metadata": {},
     "output_type": "display_data"
    },
    {
     "name": "stdout",
     "output_type": "stream",
     "text": [
      "Epoch 2207: train=8.1047, val=8.27552, took 25.616 s\n",
      "  Validation Found 51011 of 54504, added 1949 (eff 93.59%) (0.195 FP/event)\n"
     ]
    },
    {
     "data": {
      "application/vnd.jupyter.widget-view+json": {
       "model_id": "",
       "version_major": 2,
       "version_minor": 0
      },
      "text/plain": [
       "HBox(children=(FloatProgress(value=0.0, description='Training', layout=Layout(flex='2'), max=1250.0, style=Pro…"
      ]
     },
     "metadata": {},
     "output_type": "display_data"
    },
    {
     "name": "stdout",
     "output_type": "stream",
     "text": [
      "Epoch 2208: train=8.10399, val=8.23645, took 25.612 s\n",
      "  Validation Found 51139 of 54504, added 2225 (eff 93.83%) (0.223 FP/event)\n"
     ]
    },
    {
     "data": {
      "application/vnd.jupyter.widget-view+json": {
       "model_id": "",
       "version_major": 2,
       "version_minor": 0
      },
      "text/plain": [
       "HBox(children=(FloatProgress(value=0.0, description='Training', layout=Layout(flex='2'), max=1250.0, style=Pro…"
      ]
     },
     "metadata": {},
     "output_type": "display_data"
    },
    {
     "name": "stdout",
     "output_type": "stream",
     "text": [
      "Epoch 2209: train=8.09661, val=8.25397, took 25.596 s\n",
      "  Validation Found 51180 of 54504, added 2332 (eff 93.90%) (0.234 FP/event)\n"
     ]
    },
    {
     "data": {
      "application/vnd.jupyter.widget-view+json": {
       "model_id": "",
       "version_major": 2,
       "version_minor": 0
      },
      "text/plain": [
       "HBox(children=(FloatProgress(value=0.0, description='Training', layout=Layout(flex='2'), max=1250.0, style=Pro…"
      ]
     },
     "metadata": {},
     "output_type": "display_data"
    },
    {
     "name": "stdout",
     "output_type": "stream",
     "text": [
      "Epoch 2210: train=8.10771, val=8.25945, took 25.616 s\n",
      "  Validation Found 51002 of 54504, added 1918 (eff 93.57%) (0.192 FP/event)\n"
     ]
    },
    {
     "data": {
      "application/vnd.jupyter.widget-view+json": {
       "model_id": "",
       "version_major": 2,
       "version_minor": 0
      },
      "text/plain": [
       "HBox(children=(FloatProgress(value=0.0, description='Training', layout=Layout(flex='2'), max=1250.0, style=Pro…"
      ]
     },
     "metadata": {},
     "output_type": "display_data"
    },
    {
     "name": "stdout",
     "output_type": "stream",
     "text": [
      "Epoch 2211: train=8.09815, val=8.30567, took 25.68 s\n",
      "  Validation Found 51210 of 54504, added 2364 (eff 93.96%) (0.237 FP/event)\n"
     ]
    },
    {
     "data": {
      "application/vnd.jupyter.widget-view+json": {
       "model_id": "",
       "version_major": 2,
       "version_minor": 0
      },
      "text/plain": [
       "HBox(children=(FloatProgress(value=0.0, description='Training', layout=Layout(flex='2'), max=1250.0, style=Pro…"
      ]
     },
     "metadata": {},
     "output_type": "display_data"
    },
    {
     "name": "stdout",
     "output_type": "stream",
     "text": [
      "Epoch 2212: train=8.10063, val=8.29078, took 25.764 s\n",
      "  Validation Found 50943 of 54504, added 1853 (eff 93.47%) (0.186 FP/event)\n"
     ]
    },
    {
     "data": {
      "application/vnd.jupyter.widget-view+json": {
       "model_id": "",
       "version_major": 2,
       "version_minor": 0
      },
      "text/plain": [
       "HBox(children=(FloatProgress(value=0.0, description='Training', layout=Layout(flex='2'), max=1250.0, style=Pro…"
      ]
     },
     "metadata": {},
     "output_type": "display_data"
    },
    {
     "name": "stdout",
     "output_type": "stream",
     "text": [
      "Epoch 2213: train=8.09532, val=8.30728, took 25.886 s\n",
      "  Validation Found 51114 of 54504, added 2179 (eff 93.78%) (0.218 FP/event)\n"
     ]
    },
    {
     "data": {
      "application/vnd.jupyter.widget-view+json": {
       "model_id": "",
       "version_major": 2,
       "version_minor": 0
      },
      "text/plain": [
       "HBox(children=(FloatProgress(value=0.0, description='Training', layout=Layout(flex='2'), max=1250.0, style=Pro…"
      ]
     },
     "metadata": {},
     "output_type": "display_data"
    },
    {
     "name": "stdout",
     "output_type": "stream",
     "text": [
      "Epoch 2214: train=8.10195, val=8.30552, took 26.243 s\n",
      "  Validation Found 50929 of 54504, added 1837 (eff 93.44%) (0.184 FP/event)\n"
     ]
    },
    {
     "data": {
      "application/vnd.jupyter.widget-view+json": {
       "model_id": "",
       "version_major": 2,
       "version_minor": 0
      },
      "text/plain": [
       "HBox(children=(FloatProgress(value=0.0, description='Training', layout=Layout(flex='2'), max=1250.0, style=Pro…"
      ]
     },
     "metadata": {},
     "output_type": "display_data"
    },
    {
     "name": "stdout",
     "output_type": "stream",
     "text": [
      "Epoch 2215: train=8.10281, val=8.26927, took 25.793 s\n",
      "  Validation Found 51086 of 54504, added 2033 (eff 93.73%) (0.204 FP/event)\n"
     ]
    },
    {
     "data": {
      "application/vnd.jupyter.widget-view+json": {
       "model_id": "",
       "version_major": 2,
       "version_minor": 0
      },
      "text/plain": [
       "HBox(children=(FloatProgress(value=0.0, description='Training', layout=Layout(flex='2'), max=1250.0, style=Pro…"
      ]
     },
     "metadata": {},
     "output_type": "display_data"
    },
    {
     "name": "stdout",
     "output_type": "stream",
     "text": [
      "Epoch 2216: train=8.11866, val=8.23663, took 25.755 s\n",
      "  Validation Found 51111 of 54504, added 2246 (eff 93.77%) (0.225 FP/event)\n"
     ]
    },
    {
     "data": {
      "application/vnd.jupyter.widget-view+json": {
       "model_id": "",
       "version_major": 2,
       "version_minor": 0
      },
      "text/plain": [
       "HBox(children=(FloatProgress(value=0.0, description='Training', layout=Layout(flex='2'), max=1250.0, style=Pro…"
      ]
     },
     "metadata": {},
     "output_type": "display_data"
    },
    {
     "name": "stdout",
     "output_type": "stream",
     "text": [
      "Epoch 2217: train=8.10895, val=8.37924, took 25.807 s\n",
      "  Validation Found 50871 of 54504, added 1800 (eff 93.33%) (0.18 FP/event)\n"
     ]
    },
    {
     "data": {
      "application/vnd.jupyter.widget-view+json": {
       "model_id": "",
       "version_major": 2,
       "version_minor": 0
      },
      "text/plain": [
       "HBox(children=(FloatProgress(value=0.0, description='Training', layout=Layout(flex='2'), max=1250.0, style=Pro…"
      ]
     },
     "metadata": {},
     "output_type": "display_data"
    },
    {
     "name": "stdout",
     "output_type": "stream",
     "text": [
      "Epoch 2218: train=8.10603, val=8.21213, took 25.734 s\n",
      "  Validation Found 51267 of 54504, added 2372 (eff 94.06%) (0.238 FP/event)\n"
     ]
    },
    {
     "data": {
      "application/vnd.jupyter.widget-view+json": {
       "model_id": "",
       "version_major": 2,
       "version_minor": 0
      },
      "text/plain": [
       "HBox(children=(FloatProgress(value=0.0, description='Training', layout=Layout(flex='2'), max=1250.0, style=Pro…"
      ]
     },
     "metadata": {},
     "output_type": "display_data"
    },
    {
     "name": "stdout",
     "output_type": "stream",
     "text": [
      "Epoch 2219: train=8.09983, val=8.1687, took 25.848 s\n",
      "  Validation Found 51233 of 54504, added 2346 (eff 94.00%) (0.235 FP/event)\n"
     ]
    },
    {
     "data": {
      "application/vnd.jupyter.widget-view+json": {
       "model_id": "",
       "version_major": 2,
       "version_minor": 0
      },
      "text/plain": [
       "HBox(children=(FloatProgress(value=0.0, description='Training', layout=Layout(flex='2'), max=1250.0, style=Pro…"
      ]
     },
     "metadata": {},
     "output_type": "display_data"
    },
    {
     "name": "stdout",
     "output_type": "stream",
     "text": [
      "Epoch 2220: train=8.10052, val=8.15798, took 25.928 s\n",
      "  Validation Found 51244 of 54504, added 2420 (eff 94.02%) (0.242 FP/event)\n"
     ]
    },
    {
     "data": {
      "application/vnd.jupyter.widget-view+json": {
       "model_id": "",
       "version_major": 2,
       "version_minor": 0
      },
      "text/plain": [
       "HBox(children=(FloatProgress(value=0.0, description='Training', layout=Layout(flex='2'), max=1250.0, style=Pro…"
      ]
     },
     "metadata": {},
     "output_type": "display_data"
    },
    {
     "name": "stdout",
     "output_type": "stream",
     "text": [
      "Epoch 2221: train=8.10254, val=8.17037, took 26.181 s\n",
      "  Validation Found 51238 of 54504, added 2304 (eff 94.01%) (0.231 FP/event)\n"
     ]
    },
    {
     "data": {
      "application/vnd.jupyter.widget-view+json": {
       "model_id": "",
       "version_major": 2,
       "version_minor": 0
      },
      "text/plain": [
       "HBox(children=(FloatProgress(value=0.0, description='Training', layout=Layout(flex='2'), max=1250.0, style=Pro…"
      ]
     },
     "metadata": {},
     "output_type": "display_data"
    },
    {
     "name": "stdout",
     "output_type": "stream",
     "text": [
      "Epoch 2222: train=8.10938, val=8.26471, took 26.13 s\n",
      "  Validation Found 51093 of 54504, added 2138 (eff 93.74%) (0.214 FP/event)\n"
     ]
    },
    {
     "data": {
      "application/vnd.jupyter.widget-view+json": {
       "model_id": "",
       "version_major": 2,
       "version_minor": 0
      },
      "text/plain": [
       "HBox(children=(FloatProgress(value=0.0, description='Training', layout=Layout(flex='2'), max=1250.0, style=Pro…"
      ]
     },
     "metadata": {},
     "output_type": "display_data"
    },
    {
     "name": "stdout",
     "output_type": "stream",
     "text": [
      "Epoch 2223: train=8.10739, val=8.30029, took 25.864 s\n",
      "  Validation Found 50838 of 54504, added 1783 (eff 93.27%) (0.179 FP/event)\n"
     ]
    },
    {
     "data": {
      "application/vnd.jupyter.widget-view+json": {
       "model_id": "",
       "version_major": 2,
       "version_minor": 0
      },
      "text/plain": [
       "HBox(children=(FloatProgress(value=0.0, description='Training', layout=Layout(flex='2'), max=1250.0, style=Pro…"
      ]
     },
     "metadata": {},
     "output_type": "display_data"
    },
    {
     "name": "stdout",
     "output_type": "stream",
     "text": [
      "Epoch 2224: train=8.09481, val=8.35841, took 25.887 s\n",
      "  Validation Found 50937 of 54504, added 1973 (eff 93.46%) (0.198 FP/event)\n"
     ]
    },
    {
     "data": {
      "application/vnd.jupyter.widget-view+json": {
       "model_id": "",
       "version_major": 2,
       "version_minor": 0
      },
      "text/plain": [
       "HBox(children=(FloatProgress(value=0.0, description='Training', layout=Layout(flex='2'), max=1250.0, style=Pro…"
      ]
     },
     "metadata": {},
     "output_type": "display_data"
    },
    {
     "name": "stdout",
     "output_type": "stream",
     "text": [
      "Epoch 2225: train=8.09695, val=8.37214, took 25.846 s\n",
      "  Validation Found 51036 of 54504, added 1998 (eff 93.64%) (0.2 FP/event)\n"
     ]
    },
    {
     "data": {
      "application/vnd.jupyter.widget-view+json": {
       "model_id": "",
       "version_major": 2,
       "version_minor": 0
      },
      "text/plain": [
       "HBox(children=(FloatProgress(value=0.0, description='Training', layout=Layout(flex='2'), max=1250.0, style=Pro…"
      ]
     },
     "metadata": {},
     "output_type": "display_data"
    },
    {
     "name": "stdout",
     "output_type": "stream",
     "text": [
      "Epoch 2226: train=8.10406, val=8.2988, took 25.86 s\n",
      "  Validation Found 51192 of 54504, added 2263 (eff 93.92%) (0.227 FP/event)\n"
     ]
    },
    {
     "data": {
      "application/vnd.jupyter.widget-view+json": {
       "model_id": "",
       "version_major": 2,
       "version_minor": 0
      },
      "text/plain": [
       "HBox(children=(FloatProgress(value=0.0, description='Training', layout=Layout(flex='2'), max=1250.0, style=Pro…"
      ]
     },
     "metadata": {},
     "output_type": "display_data"
    },
    {
     "name": "stdout",
     "output_type": "stream",
     "text": [
      "Epoch 2227: train=8.09978, val=8.23431, took 25.857 s\n",
      "  Validation Found 51071 of 54504, added 2039 (eff 93.70%) (0.204 FP/event)\n"
     ]
    },
    {
     "data": {
      "application/vnd.jupyter.widget-view+json": {
       "model_id": "",
       "version_major": 2,
       "version_minor": 0
      },
      "text/plain": [
       "HBox(children=(FloatProgress(value=0.0, description='Training', layout=Layout(flex='2'), max=1250.0, style=Pro…"
      ]
     },
     "metadata": {},
     "output_type": "display_data"
    },
    {
     "name": "stdout",
     "output_type": "stream",
     "text": [
      "Epoch 2228: train=8.10219, val=8.41909, took 25.743 s\n",
      "  Validation Found 50852 of 54504, added 1876 (eff 93.30%) (0.188 FP/event)\n"
     ]
    },
    {
     "data": {
      "application/vnd.jupyter.widget-view+json": {
       "model_id": "",
       "version_major": 2,
       "version_minor": 0
      },
      "text/plain": [
       "HBox(children=(FloatProgress(value=0.0, description='Training', layout=Layout(flex='2'), max=1250.0, style=Pro…"
      ]
     },
     "metadata": {},
     "output_type": "display_data"
    },
    {
     "name": "stdout",
     "output_type": "stream",
     "text": [
      "Epoch 2229: train=8.10668, val=8.30447, took 25.835 s\n",
      "  Validation Found 51072 of 54504, added 2048 (eff 93.70%) (0.205 FP/event)\n"
     ]
    },
    {
     "data": {
      "application/vnd.jupyter.widget-view+json": {
       "model_id": "",
       "version_major": 2,
       "version_minor": 0
      },
      "text/plain": [
       "HBox(children=(FloatProgress(value=0.0, description='Training', layout=Layout(flex='2'), max=1250.0, style=Pro…"
      ]
     },
     "metadata": {},
     "output_type": "display_data"
    },
    {
     "name": "stdout",
     "output_type": "stream",
     "text": [
      "Epoch 2230: train=8.10355, val=8.27185, took 25.639 s\n",
      "  Validation Found 51054 of 54504, added 2034 (eff 93.67%) (0.204 FP/event)\n"
     ]
    },
    {
     "data": {
      "application/vnd.jupyter.widget-view+json": {
       "model_id": "",
       "version_major": 2,
       "version_minor": 0
      },
      "text/plain": [
       "HBox(children=(FloatProgress(value=0.0, description='Training', layout=Layout(flex='2'), max=1250.0, style=Pro…"
      ]
     },
     "metadata": {},
     "output_type": "display_data"
    },
    {
     "name": "stdout",
     "output_type": "stream",
     "text": [
      "Epoch 2231: train=8.1018, val=8.23361, took 25.795 s\n",
      "  Validation Found 51107 of 54504, added 2084 (eff 93.77%) (0.209 FP/event)\n"
     ]
    },
    {
     "data": {
      "application/vnd.jupyter.widget-view+json": {
       "model_id": "",
       "version_major": 2,
       "version_minor": 0
      },
      "text/plain": [
       "HBox(children=(FloatProgress(value=0.0, description='Training', layout=Layout(flex='2'), max=1250.0, style=Pro…"
      ]
     },
     "metadata": {},
     "output_type": "display_data"
    },
    {
     "name": "stdout",
     "output_type": "stream",
     "text": [
      "Epoch 2232: train=8.10127, val=8.29762, took 26.06 s\n",
      "  Validation Found 50866 of 54504, added 1731 (eff 93.33%) (0.173 FP/event)\n"
     ]
    },
    {
     "data": {
      "application/vnd.jupyter.widget-view+json": {
       "model_id": "",
       "version_major": 2,
       "version_minor": 0
      },
      "text/plain": [
       "HBox(children=(FloatProgress(value=0.0, description='Training', layout=Layout(flex='2'), max=1250.0, style=Pro…"
      ]
     },
     "metadata": {},
     "output_type": "display_data"
    },
    {
     "name": "stdout",
     "output_type": "stream",
     "text": [
      "Epoch 2233: train=8.09803, val=8.30638, took 26.117 s\n",
      "  Validation Found 51003 of 54504, added 1999 (eff 93.58%) (0.2 FP/event)\n"
     ]
    },
    {
     "data": {
      "application/vnd.jupyter.widget-view+json": {
       "model_id": "",
       "version_major": 2,
       "version_minor": 0
      },
      "text/plain": [
       "HBox(children=(FloatProgress(value=0.0, description='Training', layout=Layout(flex='2'), max=1250.0, style=Pro…"
      ]
     },
     "metadata": {},
     "output_type": "display_data"
    },
    {
     "name": "stdout",
     "output_type": "stream",
     "text": [
      "Epoch 2234: train=8.10217, val=8.25113, took 26.305 s\n",
      "  Validation Found 51000 of 54504, added 1982 (eff 93.57%) (0.198 FP/event)\n"
     ]
    },
    {
     "data": {
      "application/vnd.jupyter.widget-view+json": {
       "model_id": "",
       "version_major": 2,
       "version_minor": 0
      },
      "text/plain": [
       "HBox(children=(FloatProgress(value=0.0, description='Training', layout=Layout(flex='2'), max=1250.0, style=Pro…"
      ]
     },
     "metadata": {},
     "output_type": "display_data"
    },
    {
     "name": "stdout",
     "output_type": "stream",
     "text": [
      "Epoch 2235: train=8.10477, val=8.26859, took 25.878 s\n",
      "  Validation Found 51141 of 54504, added 2173 (eff 93.83%) (0.218 FP/event)\n"
     ]
    },
    {
     "data": {
      "application/vnd.jupyter.widget-view+json": {
       "model_id": "",
       "version_major": 2,
       "version_minor": 0
      },
      "text/plain": [
       "HBox(children=(FloatProgress(value=0.0, description='Training', layout=Layout(flex='2'), max=1250.0, style=Pro…"
      ]
     },
     "metadata": {},
     "output_type": "display_data"
    },
    {
     "name": "stdout",
     "output_type": "stream",
     "text": [
      "Epoch 2236: train=8.1096, val=8.24299, took 25.864 s\n",
      "  Validation Found 51002 of 54504, added 1845 (eff 93.57%) (0.185 FP/event)\n"
     ]
    },
    {
     "data": {
      "application/vnd.jupyter.widget-view+json": {
       "model_id": "",
       "version_major": 2,
       "version_minor": 0
      },
      "text/plain": [
       "HBox(children=(FloatProgress(value=0.0, description='Training', layout=Layout(flex='2'), max=1250.0, style=Pro…"
      ]
     },
     "metadata": {},
     "output_type": "display_data"
    },
    {
     "name": "stdout",
     "output_type": "stream",
     "text": [
      "Epoch 2237: train=8.10535, val=8.23115, took 25.838 s\n",
      "  Validation Found 51109 of 54504, added 2238 (eff 93.77%) (0.224 FP/event)\n"
     ]
    },
    {
     "data": {
      "application/vnd.jupyter.widget-view+json": {
       "model_id": "",
       "version_major": 2,
       "version_minor": 0
      },
      "text/plain": [
       "HBox(children=(FloatProgress(value=0.0, description='Training', layout=Layout(flex='2'), max=1250.0, style=Pro…"
      ]
     },
     "metadata": {},
     "output_type": "display_data"
    },
    {
     "name": "stdout",
     "output_type": "stream",
     "text": [
      "Epoch 2238: train=8.10465, val=8.29274, took 25.942 s\n",
      "  Validation Found 51142 of 54504, added 2202 (eff 93.83%) (0.221 FP/event)\n"
     ]
    },
    {
     "data": {
      "application/vnd.jupyter.widget-view+json": {
       "model_id": "",
       "version_major": 2,
       "version_minor": 0
      },
      "text/plain": [
       "HBox(children=(FloatProgress(value=0.0, description='Training', layout=Layout(flex='2'), max=1250.0, style=Pro…"
      ]
     },
     "metadata": {},
     "output_type": "display_data"
    },
    {
     "name": "stdout",
     "output_type": "stream",
     "text": [
      "Epoch 2239: train=8.09915, val=8.30925, took 25.796 s\n",
      "  Validation Found 51168 of 54504, added 2440 (eff 93.88%) (0.244 FP/event)\n"
     ]
    },
    {
     "data": {
      "application/vnd.jupyter.widget-view+json": {
       "model_id": "",
       "version_major": 2,
       "version_minor": 0
      },
      "text/plain": [
       "HBox(children=(FloatProgress(value=0.0, description='Training', layout=Layout(flex='2'), max=1250.0, style=Pro…"
      ]
     },
     "metadata": {},
     "output_type": "display_data"
    },
    {
     "name": "stdout",
     "output_type": "stream",
     "text": [
      "Epoch 2240: train=8.10636, val=8.32517, took 25.908 s\n",
      "  Validation Found 51012 of 54504, added 2011 (eff 93.59%) (0.201 FP/event)\n"
     ]
    },
    {
     "data": {
      "application/vnd.jupyter.widget-view+json": {
       "model_id": "",
       "version_major": 2,
       "version_minor": 0
      },
      "text/plain": [
       "HBox(children=(FloatProgress(value=0.0, description='Training', layout=Layout(flex='2'), max=1250.0, style=Pro…"
      ]
     },
     "metadata": {},
     "output_type": "display_data"
    },
    {
     "name": "stdout",
     "output_type": "stream",
     "text": [
      "Epoch 2241: train=8.11644, val=8.3609, took 25.842 s\n",
      "  Validation Found 50933 of 54504, added 1879 (eff 93.45%) (0.188 FP/event)\n"
     ]
    },
    {
     "data": {
      "application/vnd.jupyter.widget-view+json": {
       "model_id": "",
       "version_major": 2,
       "version_minor": 0
      },
      "text/plain": [
       "HBox(children=(FloatProgress(value=0.0, description='Training', layout=Layout(flex='2'), max=1250.0, style=Pro…"
      ]
     },
     "metadata": {},
     "output_type": "display_data"
    },
    {
     "name": "stdout",
     "output_type": "stream",
     "text": [
      "Epoch 2242: train=8.10226, val=8.24699, took 25.86 s\n",
      "  Validation Found 51136 of 54504, added 2153 (eff 93.82%) (0.216 FP/event)\n"
     ]
    },
    {
     "data": {
      "application/vnd.jupyter.widget-view+json": {
       "model_id": "",
       "version_major": 2,
       "version_minor": 0
      },
      "text/plain": [
       "HBox(children=(FloatProgress(value=0.0, description='Training', layout=Layout(flex='2'), max=1250.0, style=Pro…"
      ]
     },
     "metadata": {},
     "output_type": "display_data"
    },
    {
     "name": "stdout",
     "output_type": "stream",
     "text": [
      "Epoch 2243: train=8.1056, val=8.20345, took 25.855 s\n",
      "  Validation Found 51204 of 54504, added 2298 (eff 93.95%) (0.23 FP/event)\n"
     ]
    },
    {
     "data": {
      "application/vnd.jupyter.widget-view+json": {
       "model_id": "",
       "version_major": 2,
       "version_minor": 0
      },
      "text/plain": [
       "HBox(children=(FloatProgress(value=0.0, description='Training', layout=Layout(flex='2'), max=1250.0, style=Pro…"
      ]
     },
     "metadata": {},
     "output_type": "display_data"
    },
    {
     "name": "stdout",
     "output_type": "stream",
     "text": [
      "Epoch 2244: train=8.09958, val=8.29818, took 25.833 s\n",
      "  Validation Found 50920 of 54504, added 1853 (eff 93.42%) (0.186 FP/event)\n"
     ]
    },
    {
     "data": {
      "application/vnd.jupyter.widget-view+json": {
       "model_id": "",
       "version_major": 2,
       "version_minor": 0
      },
      "text/plain": [
       "HBox(children=(FloatProgress(value=0.0, description='Training', layout=Layout(flex='2'), max=1250.0, style=Pro…"
      ]
     },
     "metadata": {},
     "output_type": "display_data"
    },
    {
     "name": "stdout",
     "output_type": "stream",
     "text": [
      "Epoch 2245: train=8.0976, val=8.29219, took 25.836 s\n",
      "  Validation Found 51114 of 54504, added 2160 (eff 93.78%) (0.216 FP/event)\n"
     ]
    },
    {
     "data": {
      "application/vnd.jupyter.widget-view+json": {
       "model_id": "",
       "version_major": 2,
       "version_minor": 0
      },
      "text/plain": [
       "HBox(children=(FloatProgress(value=0.0, description='Training', layout=Layout(flex='2'), max=1250.0, style=Pro…"
      ]
     },
     "metadata": {},
     "output_type": "display_data"
    },
    {
     "name": "stdout",
     "output_type": "stream",
     "text": [
      "Epoch 2246: train=8.10792, val=8.23734, took 25.88 s\n",
      "  Validation Found 50959 of 54504, added 1849 (eff 93.50%) (0.185 FP/event)\n"
     ]
    },
    {
     "data": {
      "application/vnd.jupyter.widget-view+json": {
       "model_id": "",
       "version_major": 2,
       "version_minor": 0
      },
      "text/plain": [
       "HBox(children=(FloatProgress(value=0.0, description='Training', layout=Layout(flex='2'), max=1250.0, style=Pro…"
      ]
     },
     "metadata": {},
     "output_type": "display_data"
    },
    {
     "name": "stdout",
     "output_type": "stream",
     "text": [
      "Epoch 2247: train=8.10204, val=8.26751, took 25.876 s\n",
      "  Validation Found 50958 of 54504, added 2040 (eff 93.49%) (0.204 FP/event)\n"
     ]
    },
    {
     "data": {
      "application/vnd.jupyter.widget-view+json": {
       "model_id": "",
       "version_major": 2,
       "version_minor": 0
      },
      "text/plain": [
       "HBox(children=(FloatProgress(value=0.0, description='Training', layout=Layout(flex='2'), max=1250.0, style=Pro…"
      ]
     },
     "metadata": {},
     "output_type": "display_data"
    },
    {
     "name": "stdout",
     "output_type": "stream",
     "text": [
      "Epoch 2248: train=8.09824, val=8.35627, took 25.848 s\n",
      "  Validation Found 50902 of 54504, added 1818 (eff 93.39%) (0.182 FP/event)\n"
     ]
    },
    {
     "data": {
      "application/vnd.jupyter.widget-view+json": {
       "model_id": "",
       "version_major": 2,
       "version_minor": 0
      },
      "text/plain": [
       "HBox(children=(FloatProgress(value=0.0, description='Training', layout=Layout(flex='2'), max=1250.0, style=Pro…"
      ]
     },
     "metadata": {},
     "output_type": "display_data"
    },
    {
     "name": "stdout",
     "output_type": "stream",
     "text": [
      "Epoch 2249: train=8.09973, val=8.33315, took 25.851 s\n",
      "  Validation Found 51021 of 54504, added 1904 (eff 93.61%) (0.191 FP/event)\n"
     ]
    },
    {
     "data": {
      "application/vnd.jupyter.widget-view+json": {
       "model_id": "",
       "version_major": 2,
       "version_minor": 0
      },
      "text/plain": [
       "HBox(children=(FloatProgress(value=0.0, description='Training', layout=Layout(flex='2'), max=1250.0, style=Pro…"
      ]
     },
     "metadata": {},
     "output_type": "display_data"
    },
    {
     "name": "stdout",
     "output_type": "stream",
     "text": [
      "Epoch 2250: train=8.09832, val=8.16511, took 25.794 s\n",
      "  Validation Found 51222 of 54504, added 2404 (eff 93.98%) (0.241 FP/event)\n"
     ]
    },
    {
     "data": {
      "application/vnd.jupyter.widget-view+json": {
       "model_id": "",
       "version_major": 2,
       "version_minor": 0
      },
      "text/plain": [
       "HBox(children=(FloatProgress(value=0.0, description='Training', layout=Layout(flex='2'), max=1250.0, style=Pro…"
      ]
     },
     "metadata": {},
     "output_type": "display_data"
    },
    {
     "name": "stdout",
     "output_type": "stream",
     "text": [
      "Epoch 2251: train=8.10674, val=8.40165, took 25.793 s\n",
      "  Validation Found 51055 of 54504, added 2189 (eff 93.67%) (0.219 FP/event)\n"
     ]
    },
    {
     "data": {
      "application/vnd.jupyter.widget-view+json": {
       "model_id": "",
       "version_major": 2,
       "version_minor": 0
      },
      "text/plain": [
       "HBox(children=(FloatProgress(value=0.0, description='Training', layout=Layout(flex='2'), max=1250.0, style=Pro…"
      ]
     },
     "metadata": {},
     "output_type": "display_data"
    },
    {
     "name": "stdout",
     "output_type": "stream",
     "text": [
      "Epoch 2252: train=8.10163, val=8.33047, took 25.67 s\n",
      "  Validation Found 51053 of 54504, added 2111 (eff 93.67%) (0.211 FP/event)\n"
     ]
    },
    {
     "data": {
      "application/vnd.jupyter.widget-view+json": {
       "model_id": "",
       "version_major": 2,
       "version_minor": 0
      },
      "text/plain": [
       "HBox(children=(FloatProgress(value=0.0, description='Training', layout=Layout(flex='2'), max=1250.0, style=Pro…"
      ]
     },
     "metadata": {},
     "output_type": "display_data"
    },
    {
     "name": "stdout",
     "output_type": "stream",
     "text": [
      "Epoch 2253: train=8.09709, val=8.25376, took 25.861 s\n",
      "  Validation Found 51079 of 54504, added 1976 (eff 93.72%) (0.198 FP/event)\n"
     ]
    },
    {
     "data": {
      "application/vnd.jupyter.widget-view+json": {
       "model_id": "",
       "version_major": 2,
       "version_minor": 0
      },
      "text/plain": [
       "HBox(children=(FloatProgress(value=0.0, description='Training', layout=Layout(flex='2'), max=1250.0, style=Pro…"
      ]
     },
     "metadata": {},
     "output_type": "display_data"
    },
    {
     "name": "stdout",
     "output_type": "stream",
     "text": [
      "Epoch 2254: train=8.09758, val=8.20499, took 25.918 s\n",
      "  Validation Found 51130 of 54504, added 2244 (eff 93.81%) (0.225 FP/event)\n"
     ]
    },
    {
     "data": {
      "application/vnd.jupyter.widget-view+json": {
       "model_id": "",
       "version_major": 2,
       "version_minor": 0
      },
      "text/plain": [
       "HBox(children=(FloatProgress(value=0.0, description='Training', layout=Layout(flex='2'), max=1250.0, style=Pro…"
      ]
     },
     "metadata": {},
     "output_type": "display_data"
    },
    {
     "name": "stdout",
     "output_type": "stream",
     "text": [
      "Epoch 2255: train=8.09865, val=8.45061, took 25.79 s\n",
      "  Validation Found 50766 of 54504, added 1671 (eff 93.14%) (0.167 FP/event)\n"
     ]
    },
    {
     "data": {
      "application/vnd.jupyter.widget-view+json": {
       "model_id": "",
       "version_major": 2,
       "version_minor": 0
      },
      "text/plain": [
       "HBox(children=(FloatProgress(value=0.0, description='Training', layout=Layout(flex='2'), max=1250.0, style=Pro…"
      ]
     },
     "metadata": {},
     "output_type": "display_data"
    },
    {
     "name": "stdout",
     "output_type": "stream",
     "text": [
      "Epoch 2256: train=8.10047, val=8.24722, took 25.907 s\n",
      "  Validation Found 51046 of 54504, added 2061 (eff 93.66%) (0.206 FP/event)\n"
     ]
    },
    {
     "data": {
      "application/vnd.jupyter.widget-view+json": {
       "model_id": "",
       "version_major": 2,
       "version_minor": 0
      },
      "text/plain": [
       "HBox(children=(FloatProgress(value=0.0, description='Training', layout=Layout(flex='2'), max=1250.0, style=Pro…"
      ]
     },
     "metadata": {},
     "output_type": "display_data"
    },
    {
     "name": "stdout",
     "output_type": "stream",
     "text": [
      "Epoch 2257: train=8.09995, val=8.18388, took 26.054 s\n",
      "  Validation Found 51241 of 54504, added 2365 (eff 94.01%) (0.237 FP/event)\n"
     ]
    },
    {
     "data": {
      "application/vnd.jupyter.widget-view+json": {
       "model_id": "",
       "version_major": 2,
       "version_minor": 0
      },
      "text/plain": [
       "HBox(children=(FloatProgress(value=0.0, description='Training', layout=Layout(flex='2'), max=1250.0, style=Pro…"
      ]
     },
     "metadata": {},
     "output_type": "display_data"
    },
    {
     "name": "stdout",
     "output_type": "stream",
     "text": [
      "Epoch 2258: train=8.10525, val=8.32529, took 25.907 s\n",
      "  Validation Found 50908 of 54504, added 1848 (eff 93.40%) (0.185 FP/event)\n"
     ]
    },
    {
     "data": {
      "application/vnd.jupyter.widget-view+json": {
       "model_id": "",
       "version_major": 2,
       "version_minor": 0
      },
      "text/plain": [
       "HBox(children=(FloatProgress(value=0.0, description='Training', layout=Layout(flex='2'), max=1250.0, style=Pro…"
      ]
     },
     "metadata": {},
     "output_type": "display_data"
    },
    {
     "name": "stdout",
     "output_type": "stream",
     "text": [
      "Epoch 2259: train=8.09099, val=8.26107, took 25.908 s\n",
      "  Validation Found 51138 of 54504, added 2150 (eff 93.82%) (0.215 FP/event)\n"
     ]
    },
    {
     "data": {
      "application/vnd.jupyter.widget-view+json": {
       "model_id": "",
       "version_major": 2,
       "version_minor": 0
      },
      "text/plain": [
       "HBox(children=(FloatProgress(value=0.0, description='Training', layout=Layout(flex='2'), max=1250.0, style=Pro…"
      ]
     },
     "metadata": {},
     "output_type": "display_data"
    },
    {
     "name": "stdout",
     "output_type": "stream",
     "text": [
      "Epoch 2260: train=8.09446, val=8.21461, took 25.914 s\n",
      "  Validation Found 51043 of 54504, added 2056 (eff 93.65%) (0.206 FP/event)\n"
     ]
    },
    {
     "data": {
      "application/vnd.jupyter.widget-view+json": {
       "model_id": "",
       "version_major": 2,
       "version_minor": 0
      },
      "text/plain": [
       "HBox(children=(FloatProgress(value=0.0, description='Training', layout=Layout(flex='2'), max=1250.0, style=Pro…"
      ]
     },
     "metadata": {},
     "output_type": "display_data"
    },
    {
     "name": "stdout",
     "output_type": "stream",
     "text": [
      "Epoch 2261: train=8.11021, val=8.31106, took 25.958 s\n",
      "  Validation Found 50933 of 54504, added 1836 (eff 93.45%) (0.184 FP/event)\n"
     ]
    },
    {
     "data": {
      "application/vnd.jupyter.widget-view+json": {
       "model_id": "",
       "version_major": 2,
       "version_minor": 0
      },
      "text/plain": [
       "HBox(children=(FloatProgress(value=0.0, description='Training', layout=Layout(flex='2'), max=1250.0, style=Pro…"
      ]
     },
     "metadata": {},
     "output_type": "display_data"
    },
    {
     "name": "stdout",
     "output_type": "stream",
     "text": [
      "Epoch 2262: train=8.09401, val=8.26415, took 25.934 s\n",
      "  Validation Found 51029 of 54504, added 1944 (eff 93.62%) (0.195 FP/event)\n"
     ]
    },
    {
     "data": {
      "application/vnd.jupyter.widget-view+json": {
       "model_id": "",
       "version_major": 2,
       "version_minor": 0
      },
      "text/plain": [
       "HBox(children=(FloatProgress(value=0.0, description='Training', layout=Layout(flex='2'), max=1250.0, style=Pro…"
      ]
     },
     "metadata": {},
     "output_type": "display_data"
    },
    {
     "name": "stdout",
     "output_type": "stream",
     "text": [
      "Epoch 2263: train=8.10716, val=8.22642, took 25.941 s\n",
      "  Validation Found 51047 of 54504, added 2012 (eff 93.66%) (0.202 FP/event)\n"
     ]
    },
    {
     "data": {
      "application/vnd.jupyter.widget-view+json": {
       "model_id": "",
       "version_major": 2,
       "version_minor": 0
      },
      "text/plain": [
       "HBox(children=(FloatProgress(value=0.0, description='Training', layout=Layout(flex='2'), max=1250.0, style=Pro…"
      ]
     },
     "metadata": {},
     "output_type": "display_data"
    },
    {
     "name": "stdout",
     "output_type": "stream",
     "text": [
      "Epoch 2264: train=8.10231, val=8.24746, took 26.221 s\n",
      "  Validation Found 51210 of 54504, added 2450 (eff 93.96%) (0.245 FP/event)\n"
     ]
    },
    {
     "data": {
      "application/vnd.jupyter.widget-view+json": {
       "model_id": "",
       "version_major": 2,
       "version_minor": 0
      },
      "text/plain": [
       "HBox(children=(FloatProgress(value=0.0, description='Training', layout=Layout(flex='2'), max=1250.0, style=Pro…"
      ]
     },
     "metadata": {},
     "output_type": "display_data"
    },
    {
     "name": "stdout",
     "output_type": "stream",
     "text": [
      "Epoch 2265: train=8.10575, val=8.28343, took 26.226 s\n",
      "  Validation Found 51177 of 54504, added 2332 (eff 93.90%) (0.234 FP/event)\n"
     ]
    },
    {
     "data": {
      "application/vnd.jupyter.widget-view+json": {
       "model_id": "",
       "version_major": 2,
       "version_minor": 0
      },
      "text/plain": [
       "HBox(children=(FloatProgress(value=0.0, description='Training', layout=Layout(flex='2'), max=1250.0, style=Pro…"
      ]
     },
     "metadata": {},
     "output_type": "display_data"
    },
    {
     "name": "stdout",
     "output_type": "stream",
     "text": [
      "Epoch 2266: train=8.09904, val=8.30914, took 26.047 s\n",
      "  Validation Found 50995 of 54504, added 1800 (eff 93.56%) (0.18 FP/event)\n"
     ]
    },
    {
     "data": {
      "application/vnd.jupyter.widget-view+json": {
       "model_id": "",
       "version_major": 2,
       "version_minor": 0
      },
      "text/plain": [
       "HBox(children=(FloatProgress(value=0.0, description='Training', layout=Layout(flex='2'), max=1250.0, style=Pro…"
      ]
     },
     "metadata": {},
     "output_type": "display_data"
    },
    {
     "name": "stdout",
     "output_type": "stream",
     "text": [
      "Epoch 2267: train=8.10524, val=8.20903, took 25.911 s\n",
      "  Validation Found 51194 of 54504, added 2355 (eff 93.93%) (0.236 FP/event)\n"
     ]
    },
    {
     "data": {
      "application/vnd.jupyter.widget-view+json": {
       "model_id": "",
       "version_major": 2,
       "version_minor": 0
      },
      "text/plain": [
       "HBox(children=(FloatProgress(value=0.0, description='Training', layout=Layout(flex='2'), max=1250.0, style=Pro…"
      ]
     },
     "metadata": {},
     "output_type": "display_data"
    },
    {
     "name": "stdout",
     "output_type": "stream",
     "text": [
      "Epoch 2268: train=8.10198, val=8.56103, took 25.893 s\n",
      "  Validation Found 51229 of 54504, added 3441 (eff 93.99%) (0.345 FP/event)\n"
     ]
    },
    {
     "data": {
      "application/vnd.jupyter.widget-view+json": {
       "model_id": "",
       "version_major": 2,
       "version_minor": 0
      },
      "text/plain": [
       "HBox(children=(FloatProgress(value=0.0, description='Training', layout=Layout(flex='2'), max=1250.0, style=Pro…"
      ]
     },
     "metadata": {},
     "output_type": "display_data"
    },
    {
     "name": "stdout",
     "output_type": "stream",
     "text": [
      "Epoch 2269: train=8.09767, val=8.1766, took 25.913 s\n",
      "  Validation Found 51096 of 54504, added 2003 (eff 93.75%) (0.201 FP/event)\n"
     ]
    },
    {
     "data": {
      "application/vnd.jupyter.widget-view+json": {
       "model_id": "",
       "version_major": 2,
       "version_minor": 0
      },
      "text/plain": [
       "HBox(children=(FloatProgress(value=0.0, description='Training', layout=Layout(flex='2'), max=1250.0, style=Pro…"
      ]
     },
     "metadata": {},
     "output_type": "display_data"
    },
    {
     "name": "stdout",
     "output_type": "stream",
     "text": [
      "Epoch 2270: train=8.0996, val=8.22212, took 25.982 s\n",
      "  Validation Found 51341 of 54504, added 2783 (eff 94.20%) (0.279 FP/event)\n"
     ]
    },
    {
     "data": {
      "application/vnd.jupyter.widget-view+json": {
       "model_id": "",
       "version_major": 2,
       "version_minor": 0
      },
      "text/plain": [
       "HBox(children=(FloatProgress(value=0.0, description='Training', layout=Layout(flex='2'), max=1250.0, style=Pro…"
      ]
     },
     "metadata": {},
     "output_type": "display_data"
    },
    {
     "name": "stdout",
     "output_type": "stream",
     "text": [
      "Epoch 2271: train=8.09976, val=8.25475, took 26.03 s\n",
      "  Validation Found 51075 of 54504, added 2173 (eff 93.71%) (0.218 FP/event)\n"
     ]
    },
    {
     "data": {
      "application/vnd.jupyter.widget-view+json": {
       "model_id": "",
       "version_major": 2,
       "version_minor": 0
      },
      "text/plain": [
       "HBox(children=(FloatProgress(value=0.0, description='Training', layout=Layout(flex='2'), max=1250.0, style=Pro…"
      ]
     },
     "metadata": {},
     "output_type": "display_data"
    },
    {
     "name": "stdout",
     "output_type": "stream",
     "text": [
      "Epoch 2272: train=8.11498, val=8.24879, took 25.935 s\n",
      "  Validation Found 51056 of 54504, added 2049 (eff 93.67%) (0.205 FP/event)\n"
     ]
    },
    {
     "data": {
      "application/vnd.jupyter.widget-view+json": {
       "model_id": "",
       "version_major": 2,
       "version_minor": 0
      },
      "text/plain": [
       "HBox(children=(FloatProgress(value=0.0, description='Training', layout=Layout(flex='2'), max=1250.0, style=Pro…"
      ]
     },
     "metadata": {},
     "output_type": "display_data"
    },
    {
     "name": "stdout",
     "output_type": "stream",
     "text": [
      "Epoch 2273: train=8.09893, val=8.30986, took 26.14 s\n",
      "  Validation Found 51046 of 54504, added 2111 (eff 93.66%) (0.211 FP/event)\n"
     ]
    },
    {
     "data": {
      "application/vnd.jupyter.widget-view+json": {
       "model_id": "",
       "version_major": 2,
       "version_minor": 0
      },
      "text/plain": [
       "HBox(children=(FloatProgress(value=0.0, description='Training', layout=Layout(flex='2'), max=1250.0, style=Pro…"
      ]
     },
     "metadata": {},
     "output_type": "display_data"
    },
    {
     "name": "stdout",
     "output_type": "stream",
     "text": [
      "Epoch 2274: train=8.09972, val=8.26498, took 26.027 s\n",
      "  Validation Found 51066 of 54504, added 2023 (eff 93.69%) (0.203 FP/event)\n"
     ]
    },
    {
     "data": {
      "application/vnd.jupyter.widget-view+json": {
       "model_id": "",
       "version_major": 2,
       "version_minor": 0
      },
      "text/plain": [
       "HBox(children=(FloatProgress(value=0.0, description='Training', layout=Layout(flex='2'), max=1250.0, style=Pro…"
      ]
     },
     "metadata": {},
     "output_type": "display_data"
    },
    {
     "name": "stdout",
     "output_type": "stream",
     "text": [
      "Epoch 2275: train=8.09971, val=8.37353, took 25.892 s\n",
      "  Validation Found 50903 of 54504, added 1854 (eff 93.39%) (0.186 FP/event)\n"
     ]
    },
    {
     "data": {
      "application/vnd.jupyter.widget-view+json": {
       "model_id": "",
       "version_major": 2,
       "version_minor": 0
      },
      "text/plain": [
       "HBox(children=(FloatProgress(value=0.0, description='Training', layout=Layout(flex='2'), max=1250.0, style=Pro…"
      ]
     },
     "metadata": {},
     "output_type": "display_data"
    },
    {
     "name": "stdout",
     "output_type": "stream",
     "text": [
      "Epoch 2276: train=8.10269, val=8.27331, took 25.99 s\n",
      "  Validation Found 51033 of 54504, added 1988 (eff 93.63%) (0.199 FP/event)\n"
     ]
    },
    {
     "data": {
      "application/vnd.jupyter.widget-view+json": {
       "model_id": "",
       "version_major": 2,
       "version_minor": 0
      },
      "text/plain": [
       "HBox(children=(FloatProgress(value=0.0, description='Training', layout=Layout(flex='2'), max=1250.0, style=Pro…"
      ]
     },
     "metadata": {},
     "output_type": "display_data"
    },
    {
     "name": "stdout",
     "output_type": "stream",
     "text": [
      "Epoch 2277: train=8.10505, val=8.2835, took 25.928 s\n",
      "  Validation Found 51013 of 54504, added 1940 (eff 93.59%) (0.194 FP/event)\n"
     ]
    },
    {
     "data": {
      "application/vnd.jupyter.widget-view+json": {
       "model_id": "",
       "version_major": 2,
       "version_minor": 0
      },
      "text/plain": [
       "HBox(children=(FloatProgress(value=0.0, description='Training', layout=Layout(flex='2'), max=1250.0, style=Pro…"
      ]
     },
     "metadata": {},
     "output_type": "display_data"
    },
    {
     "name": "stdout",
     "output_type": "stream",
     "text": [
      "Epoch 2278: train=8.10362, val=8.38024, took 25.939 s\n",
      "  Validation Found 50863 of 54504, added 1781 (eff 93.32%) (0.178 FP/event)\n"
     ]
    },
    {
     "data": {
      "application/vnd.jupyter.widget-view+json": {
       "model_id": "",
       "version_major": 2,
       "version_minor": 0
      },
      "text/plain": [
       "HBox(children=(FloatProgress(value=0.0, description='Training', layout=Layout(flex='2'), max=1250.0, style=Pro…"
      ]
     },
     "metadata": {},
     "output_type": "display_data"
    },
    {
     "name": "stdout",
     "output_type": "stream",
     "text": [
      "Epoch 2279: train=8.09976, val=8.2762, took 25.957 s\n",
      "  Validation Found 50943 of 54504, added 1933 (eff 93.47%) (0.194 FP/event)\n"
     ]
    },
    {
     "data": {
      "application/vnd.jupyter.widget-view+json": {
       "model_id": "",
       "version_major": 2,
       "version_minor": 0
      },
      "text/plain": [
       "HBox(children=(FloatProgress(value=0.0, description='Training', layout=Layout(flex='2'), max=1250.0, style=Pro…"
      ]
     },
     "metadata": {},
     "output_type": "display_data"
    },
    {
     "name": "stdout",
     "output_type": "stream",
     "text": [
      "Epoch 2280: train=8.10273, val=8.32161, took 25.923 s\n",
      "  Validation Found 50890 of 54504, added 1888 (eff 93.37%) (0.189 FP/event)\n"
     ]
    },
    {
     "data": {
      "application/vnd.jupyter.widget-view+json": {
       "model_id": "",
       "version_major": 2,
       "version_minor": 0
      },
      "text/plain": [
       "HBox(children=(FloatProgress(value=0.0, description='Training', layout=Layout(flex='2'), max=1250.0, style=Pro…"
      ]
     },
     "metadata": {},
     "output_type": "display_data"
    },
    {
     "name": "stdout",
     "output_type": "stream",
     "text": [
      "Epoch 2281: train=8.10053, val=8.29805, took 25.937 s\n",
      "  Validation Found 51001 of 54504, added 2053 (eff 93.57%) (0.206 FP/event)\n"
     ]
    },
    {
     "data": {
      "application/vnd.jupyter.widget-view+json": {
       "model_id": "",
       "version_major": 2,
       "version_minor": 0
      },
      "text/plain": [
       "HBox(children=(FloatProgress(value=0.0, description='Training', layout=Layout(flex='2'), max=1250.0, style=Pro…"
      ]
     },
     "metadata": {},
     "output_type": "display_data"
    },
    {
     "name": "stdout",
     "output_type": "stream",
     "text": [
      "Epoch 2282: train=8.10397, val=8.25947, took 25.932 s\n",
      "  Validation Found 50972 of 54504, added 1916 (eff 93.52%) (0.192 FP/event)\n"
     ]
    },
    {
     "data": {
      "application/vnd.jupyter.widget-view+json": {
       "model_id": "",
       "version_major": 2,
       "version_minor": 0
      },
      "text/plain": [
       "HBox(children=(FloatProgress(value=0.0, description='Training', layout=Layout(flex='2'), max=1250.0, style=Pro…"
      ]
     },
     "metadata": {},
     "output_type": "display_data"
    },
    {
     "name": "stdout",
     "output_type": "stream",
     "text": [
      "Epoch 2283: train=8.1036, val=8.29897, took 25.972 s\n",
      "  Validation Found 51085 of 54504, added 2017 (eff 93.73%) (0.202 FP/event)\n"
     ]
    },
    {
     "data": {
      "application/vnd.jupyter.widget-view+json": {
       "model_id": "",
       "version_major": 2,
       "version_minor": 0
      },
      "text/plain": [
       "HBox(children=(FloatProgress(value=0.0, description='Training', layout=Layout(flex='2'), max=1250.0, style=Pro…"
      ]
     },
     "metadata": {},
     "output_type": "display_data"
    },
    {
     "name": "stdout",
     "output_type": "stream",
     "text": [
      "Epoch 2284: train=8.09014, val=8.17114, took 26.175 s\n",
      "  Validation Found 51224 of 54504, added 2275 (eff 93.98%) (0.228 FP/event)\n"
     ]
    },
    {
     "data": {
      "application/vnd.jupyter.widget-view+json": {
       "model_id": "",
       "version_major": 2,
       "version_minor": 0
      },
      "text/plain": [
       "HBox(children=(FloatProgress(value=0.0, description='Training', layout=Layout(flex='2'), max=1250.0, style=Pro…"
      ]
     },
     "metadata": {},
     "output_type": "display_data"
    },
    {
     "name": "stdout",
     "output_type": "stream",
     "text": [
      "Epoch 2285: train=8.10718, val=8.32522, took 25.929 s\n",
      "  Validation Found 50852 of 54504, added 1759 (eff 93.30%) (0.176 FP/event)\n"
     ]
    },
    {
     "data": {
      "application/vnd.jupyter.widget-view+json": {
       "model_id": "",
       "version_major": 2,
       "version_minor": 0
      },
      "text/plain": [
       "HBox(children=(FloatProgress(value=0.0, description='Training', layout=Layout(flex='2'), max=1250.0, style=Pro…"
      ]
     },
     "metadata": {},
     "output_type": "display_data"
    },
    {
     "name": "stdout",
     "output_type": "stream",
     "text": [
      "Epoch 2286: train=8.10381, val=8.33523, took 25.933 s\n",
      "  Validation Found 50997 of 54504, added 1884 (eff 93.57%) (0.189 FP/event)\n"
     ]
    },
    {
     "data": {
      "application/vnd.jupyter.widget-view+json": {
       "model_id": "",
       "version_major": 2,
       "version_minor": 0
      },
      "text/plain": [
       "HBox(children=(FloatProgress(value=0.0, description='Training', layout=Layout(flex='2'), max=1250.0, style=Pro…"
      ]
     },
     "metadata": {},
     "output_type": "display_data"
    },
    {
     "name": "stdout",
     "output_type": "stream",
     "text": [
      "Epoch 2287: train=8.10052, val=8.27967, took 25.923 s\n",
      "  Validation Found 51021 of 54504, added 2002 (eff 93.61%) (0.201 FP/event)\n"
     ]
    },
    {
     "data": {
      "application/vnd.jupyter.widget-view+json": {
       "model_id": "",
       "version_major": 2,
       "version_minor": 0
      },
      "text/plain": [
       "HBox(children=(FloatProgress(value=0.0, description='Training', layout=Layout(flex='2'), max=1250.0, style=Pro…"
      ]
     },
     "metadata": {},
     "output_type": "display_data"
    },
    {
     "name": "stdout",
     "output_type": "stream",
     "text": [
      "Epoch 2288: train=8.10065, val=8.27475, took 25.981 s\n",
      "  Validation Found 50984 of 54504, added 2015 (eff 93.54%) (0.202 FP/event)\n"
     ]
    },
    {
     "data": {
      "application/vnd.jupyter.widget-view+json": {
       "model_id": "",
       "version_major": 2,
       "version_minor": 0
      },
      "text/plain": [
       "HBox(children=(FloatProgress(value=0.0, description='Training', layout=Layout(flex='2'), max=1250.0, style=Pro…"
      ]
     },
     "metadata": {},
     "output_type": "display_data"
    },
    {
     "name": "stdout",
     "output_type": "stream",
     "text": [
      "Epoch 2289: train=8.10947, val=8.22285, took 26.027 s\n",
      "  Validation Found 51125 of 54504, added 2294 (eff 93.80%) (0.23 FP/event)\n"
     ]
    },
    {
     "data": {
      "application/vnd.jupyter.widget-view+json": {
       "model_id": "",
       "version_major": 2,
       "version_minor": 0
      },
      "text/plain": [
       "HBox(children=(FloatProgress(value=0.0, description='Training', layout=Layout(flex='2'), max=1250.0, style=Pro…"
      ]
     },
     "metadata": {},
     "output_type": "display_data"
    },
    {
     "name": "stdout",
     "output_type": "stream",
     "text": [
      "Epoch 2290: train=8.10554, val=8.32622, took 25.858 s\n",
      "  Validation Found 51045 of 54504, added 2088 (eff 93.65%) (0.209 FP/event)\n"
     ]
    },
    {
     "data": {
      "application/vnd.jupyter.widget-view+json": {
       "model_id": "",
       "version_major": 2,
       "version_minor": 0
      },
      "text/plain": [
       "HBox(children=(FloatProgress(value=0.0, description='Training', layout=Layout(flex='2'), max=1250.0, style=Pro…"
      ]
     },
     "metadata": {},
     "output_type": "display_data"
    },
    {
     "name": "stdout",
     "output_type": "stream",
     "text": [
      "Epoch 2291: train=8.10737, val=8.2685, took 26.076 s\n",
      "  Validation Found 50976 of 54504, added 1955 (eff 93.53%) (0.196 FP/event)\n"
     ]
    },
    {
     "data": {
      "application/vnd.jupyter.widget-view+json": {
       "model_id": "",
       "version_major": 2,
       "version_minor": 0
      },
      "text/plain": [
       "HBox(children=(FloatProgress(value=0.0, description='Training', layout=Layout(flex='2'), max=1250.0, style=Pro…"
      ]
     },
     "metadata": {},
     "output_type": "display_data"
    },
    {
     "name": "stdout",
     "output_type": "stream",
     "text": [
      "Epoch 2292: train=8.10049, val=8.32481, took 25.937 s\n",
      "  Validation Found 50932 of 54504, added 1822 (eff 93.45%) (0.182 FP/event)\n"
     ]
    },
    {
     "data": {
      "application/vnd.jupyter.widget-view+json": {
       "model_id": "",
       "version_major": 2,
       "version_minor": 0
      },
      "text/plain": [
       "HBox(children=(FloatProgress(value=0.0, description='Training', layout=Layout(flex='2'), max=1250.0, style=Pro…"
      ]
     },
     "metadata": {},
     "output_type": "display_data"
    },
    {
     "name": "stdout",
     "output_type": "stream",
     "text": [
      "Epoch 2293: train=8.11253, val=8.30465, took 25.924 s\n",
      "  Validation Found 50881 of 54504, added 1807 (eff 93.35%) (0.181 FP/event)\n"
     ]
    },
    {
     "data": {
      "application/vnd.jupyter.widget-view+json": {
       "model_id": "",
       "version_major": 2,
       "version_minor": 0
      },
      "text/plain": [
       "HBox(children=(FloatProgress(value=0.0, description='Training', layout=Layout(flex='2'), max=1250.0, style=Pro…"
      ]
     },
     "metadata": {},
     "output_type": "display_data"
    },
    {
     "name": "stdout",
     "output_type": "stream",
     "text": [
      "Epoch 2294: train=8.10438, val=8.31308, took 25.913 s\n",
      "  Validation Found 51010 of 54504, added 2149 (eff 93.59%) (0.215 FP/event)\n"
     ]
    },
    {
     "data": {
      "application/vnd.jupyter.widget-view+json": {
       "model_id": "",
       "version_major": 2,
       "version_minor": 0
      },
      "text/plain": [
       "HBox(children=(FloatProgress(value=0.0, description='Training', layout=Layout(flex='2'), max=1250.0, style=Pro…"
      ]
     },
     "metadata": {},
     "output_type": "display_data"
    },
    {
     "name": "stdout",
     "output_type": "stream",
     "text": [
      "Epoch 2295: train=8.09488, val=8.25609, took 25.919 s\n",
      "  Validation Found 51122 of 54504, added 2114 (eff 93.79%) (0.212 FP/event)\n"
     ]
    },
    {
     "data": {
      "application/vnd.jupyter.widget-view+json": {
       "model_id": "",
       "version_major": 2,
       "version_minor": 0
      },
      "text/plain": [
       "HBox(children=(FloatProgress(value=0.0, description='Training', layout=Layout(flex='2'), max=1250.0, style=Pro…"
      ]
     },
     "metadata": {},
     "output_type": "display_data"
    },
    {
     "name": "stdout",
     "output_type": "stream",
     "text": [
      "Epoch 2296: train=8.09915, val=8.28354, took 26.022 s\n",
      "  Validation Found 50945 of 54504, added 1873 (eff 93.47%) (0.188 FP/event)\n"
     ]
    },
    {
     "data": {
      "application/vnd.jupyter.widget-view+json": {
       "model_id": "",
       "version_major": 2,
       "version_minor": 0
      },
      "text/plain": [
       "HBox(children=(FloatProgress(value=0.0, description='Training', layout=Layout(flex='2'), max=1250.0, style=Pro…"
      ]
     },
     "metadata": {},
     "output_type": "display_data"
    },
    {
     "name": "stdout",
     "output_type": "stream",
     "text": [
      "Epoch 2297: train=8.10225, val=8.26324, took 26.315 s\n",
      "  Validation Found 51064 of 54504, added 2112 (eff 93.69%) (0.212 FP/event)\n"
     ]
    },
    {
     "data": {
      "application/vnd.jupyter.widget-view+json": {
       "model_id": "",
       "version_major": 2,
       "version_minor": 0
      },
      "text/plain": [
       "HBox(children=(FloatProgress(value=0.0, description='Training', layout=Layout(flex='2'), max=1250.0, style=Pro…"
      ]
     },
     "metadata": {},
     "output_type": "display_data"
    },
    {
     "name": "stdout",
     "output_type": "stream",
     "text": [
      "Epoch 2298: train=8.09729, val=8.29208, took 25.894 s\n",
      "  Validation Found 51106 of 54504, added 2300 (eff 93.77%) (0.23 FP/event)\n"
     ]
    },
    {
     "data": {
      "application/vnd.jupyter.widget-view+json": {
       "model_id": "",
       "version_major": 2,
       "version_minor": 0
      },
      "text/plain": [
       "HBox(children=(FloatProgress(value=0.0, description='Training', layout=Layout(flex='2'), max=1250.0, style=Pro…"
      ]
     },
     "metadata": {},
     "output_type": "display_data"
    },
    {
     "name": "stdout",
     "output_type": "stream",
     "text": [
      "Epoch 2299: train=8.09064, val=8.3676, took 25.879 s\n",
      "  Validation Found 50875 of 54504, added 1748 (eff 93.34%) (0.175 FP/event)\n"
     ]
    },
    {
     "data": {
      "application/vnd.jupyter.widget-view+json": {
       "model_id": "",
       "version_major": 2,
       "version_minor": 0
      },
      "text/plain": [
       "HBox(children=(FloatProgress(value=0.0, description='Training', layout=Layout(flex='2'), max=1250.0, style=Pro…"
      ]
     },
     "metadata": {},
     "output_type": "display_data"
    },
    {
     "name": "stdout",
     "output_type": "stream",
     "text": [
      "Epoch 2300: train=8.10098, val=8.23267, took 25.867 s\n",
      "  Validation Found 51196 of 54504, added 2266 (eff 93.93%) (0.227 FP/event)\n"
     ]
    },
    {
     "data": {
      "application/vnd.jupyter.widget-view+json": {
       "model_id": "",
       "version_major": 2,
       "version_minor": 0
      },
      "text/plain": [
       "HBox(children=(FloatProgress(value=0.0, description='Training', layout=Layout(flex='2'), max=1250.0, style=Pro…"
      ]
     },
     "metadata": {},
     "output_type": "display_data"
    },
    {
     "name": "stdout",
     "output_type": "stream",
     "text": [
      "Epoch 2301: train=8.10152, val=8.39428, took 26.213 s\n",
      "  Validation Found 50989 of 54504, added 1956 (eff 93.55%) (0.196 FP/event)\n"
     ]
    },
    {
     "data": {
      "application/vnd.jupyter.widget-view+json": {
       "model_id": "",
       "version_major": 2,
       "version_minor": 0
      },
      "text/plain": [
       "HBox(children=(FloatProgress(value=0.0, description='Training', layout=Layout(flex='2'), max=1250.0, style=Pro…"
      ]
     },
     "metadata": {},
     "output_type": "display_data"
    },
    {
     "name": "stdout",
     "output_type": "stream",
     "text": [
      "Epoch 2302: train=8.09504, val=8.34553, took 25.722 s\n",
      "  Validation Found 50917 of 54504, added 1856 (eff 93.42%) (0.186 FP/event)\n"
     ]
    },
    {
     "data": {
      "application/vnd.jupyter.widget-view+json": {
       "model_id": "",
       "version_major": 2,
       "version_minor": 0
      },
      "text/plain": [
       "HBox(children=(FloatProgress(value=0.0, description='Training', layout=Layout(flex='2'), max=1250.0, style=Pro…"
      ]
     },
     "metadata": {},
     "output_type": "display_data"
    },
    {
     "name": "stdout",
     "output_type": "stream",
     "text": [
      "Epoch 2303: train=8.10058, val=8.19625, took 25.617 s\n",
      "  Validation Found 51079 of 54504, added 2079 (eff 93.72%) (0.208 FP/event)\n"
     ]
    },
    {
     "data": {
      "application/vnd.jupyter.widget-view+json": {
       "model_id": "",
       "version_major": 2,
       "version_minor": 0
      },
      "text/plain": [
       "HBox(children=(FloatProgress(value=0.0, description='Training', layout=Layout(flex='2'), max=1250.0, style=Pro…"
      ]
     },
     "metadata": {},
     "output_type": "display_data"
    },
    {
     "name": "stdout",
     "output_type": "stream",
     "text": [
      "Epoch 2304: train=8.10143, val=8.26061, took 25.61 s\n",
      "  Validation Found 50998 of 54504, added 1948 (eff 93.57%) (0.195 FP/event)\n"
     ]
    },
    {
     "data": {
      "application/vnd.jupyter.widget-view+json": {
       "model_id": "",
       "version_major": 2,
       "version_minor": 0
      },
      "text/plain": [
       "HBox(children=(FloatProgress(value=0.0, description='Training', layout=Layout(flex='2'), max=1250.0, style=Pro…"
      ]
     },
     "metadata": {},
     "output_type": "display_data"
    },
    {
     "name": "stdout",
     "output_type": "stream",
     "text": [
      "Epoch 2305: train=8.10707, val=8.29833, took 25.885 s\n",
      "  Validation Found 51060 of 54504, added 2098 (eff 93.68%) (0.21 FP/event)\n"
     ]
    },
    {
     "data": {
      "application/vnd.jupyter.widget-view+json": {
       "model_id": "08cb1f08f9d64b3e9c2d7e3cb2cf0156",
       "version_major": 2,
       "version_minor": 0
      },
      "text/plain": [
       "HBox(children=(FloatProgress(value=0.0, description='Training', layout=Layout(flex='2'), max=1250.0, style=Pro…"
      ]
     },
     "metadata": {},
     "output_type": "display_data"
    }
   ],
   "source": [
    "print('for model: ', model)   \n",
    "run_name = 'ACNN F Continued'\n",
    "# Create an mlflow run\n",
    "with mlflow.start_run(run_name=run_name) as run:\n",
    "    # Log parameters of the model\n",
    "    for key, value in vars(args).items():\n",
    "        print(key, value)\n",
    "        mlflow.log_param(key, value)\n",
    "    \n",
    "    # Log parameter count in the model\n",
    "    mlflow.log_param('Parameters', count_parameters(model))\n",
    "    \n",
    "    # Begin run\n",
    "    for result in trainNet(model, optimizer, loss,\n",
    "                            train_loader, val_loader,\n",
    "                            args.epochs+args.epoch_start, epoch_start=args.epoch_start,\n",
    "                            notebook=True, device=device):\n",
    "\n",
    "        result = result._asdict()\n",
    "        results = results.append(pd.Series(result), ignore_index=True)\n",
    "    \n",
    "        xs = results.index\n",
    "    \n",
    "        # Update the plot above\n",
    "        lines['train'].set_data(results.index,results.cost)\n",
    "        lines['val'].set_data(results.index,results.val)\n",
    "    \n",
    "        #filter first cost epoch (can be really large)\n",
    "        max_cost = max(max(results.cost if len(results.cost)<2 else results.cost[1:]), max(results.val))\n",
    "        min_cost = min(min(results.cost), min(results.val))\n",
    "    \n",
    "        # The plot limits need updating too\n",
    "        ax.set_ylim(min_cost*.9, max_cost*1.1)  \n",
    "        ax.set_xlim(-.5, len(results.cost) - .5)\n",
    "    \n",
    "        replace_in_ax(lax, lines['eff'], xs, results['eff_val'].apply(lambda x: x.eff_rate))\n",
    "        replace_in_ax(tax, lines['fp'], xs, results['eff_val'].apply(lambda x: x.fp_rate))\n",
    "    \n",
    "        # Redraw the figure\n",
    "        fig.canvas.draw()\n",
    "            \n",
    "        ## MLFLOW ##\n",
    "        # Log metrics\n",
    "        mlflow.log_metric('Efficiency', result['eff_val'].eff_rate, result['epoch'])\n",
    "        mlflow.log_metric('False Positive Rate',  result['eff_val'].fp_rate, result['epoch'])\n",
    "        mlflow.log_metric('Validation Loss',  result['val'], result['epoch'])\n",
    "        mlflow.log_metric('Training Loss',  result['cost'], result['epoch'])\n",
    "            \n",
    "        # Log tags\n",
    "#        mlflow.set_tag('Optimizer', 'Adam')\n",
    "#        mlflow.set_tag('Kernel size', 'Mixed')\n",
    "#        mlflow.set_tag('Skip connections', '4')\n",
    "#        mlflow.set_tag('Activation', 'Softplus')\n",
    "#        mlflow.set_tag('Mid Activation', 'Relu')\n",
    "        mlflow.set_tag('Extra Data', 'False')\n",
    "\n",
    "        # Save model state dictionary, optimizer state dictionary, and epoch number\n",
    "        torch.save({\n",
    "            'model':model.state_dict(),\n",
    "            'optimizer':optimizer.state_dict(),\n",
    "            'epoch':args.epochs+result['epoch']\n",
    "            }, 'run_stats.pyt')\n",
    "        # Save the run stats into mlflow\n",
    "        mlflow.log_artifact('run_stats.pyt')\n",
    "            \n",
    "        # Save a diagram of the architecture\n",
    "#        HL.transforms.Fold(\"Conv\", \"Conv\"),\n",
    "#        HL.build_graph(model, torch.zeros([args.batch_size, 1, 4000]).to(device)).save('architecture', format='png')\n",
    "#        mlflow.log_artifact('architecture.png')\n",
    "        \n",
    "        # log the code for the model architecture\n",
    "#        mlflow.log_artifact('architecture.txt')\n",
    "        \n",
    "    dual_train_plots(results.index,\n",
    "                 results.cost, results.val, \n",
    "                 results['eff_val'].apply(lambda x: x.eff_rate),\n",
    "                 results['eff_val'].apply(lambda x: x.fp_rate))\n",
    "    # save plot\n",
    "    plt.tight_layout()\n",
    "    plt.savefig('plot.png')\n",
    "    mlflow.log_artifact('plot.png')"
   ]
  },
  {
   "cell_type": "code",
   "execution_count": null,
   "metadata": {},
   "outputs": [],
   "source": [
    "##quit()"
   ]
  }
 ],
 "metadata": {
  "kernelspec": {
   "display_name": "goofit-june2020",
   "language": "python",
   "name": "goofit-june2020"
  },
  "language_info": {
   "codemirror_mode": {
    "name": "ipython",
    "version": 3
   },
   "file_extension": ".py",
   "mimetype": "text/x-python",
   "name": "python",
   "nbconvert_exporter": "python",
   "pygments_lexer": "ipython3",
   "version": "3.7.6"
  }
 },
 "nbformat": 4,
 "nbformat_minor": 2
}
