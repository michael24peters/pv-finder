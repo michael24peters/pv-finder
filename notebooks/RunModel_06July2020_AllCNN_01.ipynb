{
 "cells": [
  {
   "cell_type": "code",
   "execution_count": 1,
   "metadata": {},
   "outputs": [],
   "source": [
    "##%matplotlib widget\n",
    "## with %matplotlib notebook: seems to require ipympl as part of environment, either\n",
    "## part of the conda environment or \"pip install ipympl\"\n",
    "## otherwise, does not show ANY plots in notebook, plt.savefig() works\n",
    "%matplotlib notebook  \n",
    "##%matplotlib inline    ## --plt.savefig()  works, but re-sizing does NOT"
   ]
  },
  {
   "cell_type": "markdown",
   "metadata": {},
   "source": [
    "This notebook is a short demo to illustrate execution.   For odd historical reasons, it uses \"toy Monte Carlo\" (simulated data)for \"training\" and \"full LHCB MC\" for validation.\n",
    "\n",
    "The network architecture is a \"simple\" model that uses 1 input channel (the KDE [kernel density estimator] but from the track parameters) feeding 5 convolutional layers followed by a fully connected layer.\n",
    "\n",
    "In today's version, the network will start with weights from a previously trained version.\n",
    " "
   ]
  },
  {
   "cell_type": "markdown",
   "metadata": {},
   "source": [
    "Check the current GPU usage. Please try to be nice!"
   ]
  },
  {
   "cell_type": "code",
   "execution_count": 2,
   "metadata": {},
   "outputs": [
    {
     "name": "stdout",
     "output_type": "stream",
     "text": [
      "Sat Jul 18 00:52:50 2020       \n",
      "+-----------------------------------------------------------------------------+\n",
      "| NVIDIA-SMI 440.64.00    Driver Version: 440.64.00    CUDA Version: 10.2     |\n",
      "|-------------------------------+----------------------+----------------------+\n",
      "| GPU  Name        Persistence-M| Bus-Id        Disp.A | Volatile Uncorr. ECC |\n",
      "| Fan  Temp  Perf  Pwr:Usage/Cap|         Memory-Usage | GPU-Util  Compute M. |\n",
      "|===============================+======================+======================|\n",
      "|   0  TITAN V             Off  | 00000000:03:00.0 Off |                  N/A |\n",
      "| 40%   57C    P2   103W / 250W |   7245MiB / 12066MiB |     65%      Default |\n",
      "+-------------------------------+----------------------+----------------------+\n",
      "|   1  Tesla P100-PCIE...  Off  | 00000000:83:00.0 Off |                    0 |\n",
      "| N/A   79C    P0   119W / 250W |   6803MiB / 16280MiB |     95%      Default |\n",
      "+-------------------------------+----------------------+----------------------+\n",
      "|   2  TITAN V             Off  | 00000000:84:00.0 Off |                  N/A |\n",
      "| 26%   37C    P0    34W / 250W |      0MiB / 12066MiB |      8%      Default |\n",
      "+-------------------------------+----------------------+----------------------+\n",
      "                                                                               \n",
      "+-----------------------------------------------------------------------------+\n",
      "| Processes:                                                       GPU Memory |\n",
      "|  GPU       PID   Type   Process name                             Usage      |\n",
      "|=============================================================================|\n",
      "|    0     15251      C   ...a/conda/envs/goofit-june2020/bin/python  7233MiB |\n",
      "|    1     15280      C   ...a/conda/envs/goofit-june2020/bin/python  6793MiB |\n",
      "+-----------------------------------------------------------------------------+\n"
     ]
    }
   ],
   "source": [
    "!nvidia-smi"
   ]
  },
  {
   "cell_type": "markdown",
   "metadata": {},
   "source": [
    "> **WARNING**: The card numbers here are *not* the same as in CUDA. You have been warned."
   ]
  },
  {
   "cell_type": "markdown",
   "metadata": {},
   "source": [
    "## Imports"
   ]
  },
  {
   "cell_type": "code",
   "execution_count": 3,
   "metadata": {
    "scrolled": false
   },
   "outputs": [],
   "source": [
    "import matplotlib.pyplot as plt\n",
    "import numpy as np\n",
    "import time\n",
    "import torch\n",
    "import pandas as pd\n",
    "import mlflow\n",
    "\n",
    "# Python 3 standard library\n",
    "from pathlib import Path\n",
    "\n",
    "from torchsummary import summary\n",
    "\n",
    "'''\n",
    "HELPER FUNCTIONS\n",
    "'''\n",
    "# From model/collectdata.py\n",
    "from model.collectdata_mdsA import collect_data\n",
    "\n",
    "# From model/loss.py\n",
    "##from loss import Loss\n",
    "from model.alt_loss_A import Loss\n",
    "\n",
    "# From model/training.py\n",
    "from model.training import trainNet, select_gpu, Results\n",
    "\n",
    "# From model/models.py\n",
    "##  will start with model from TwoFeatures_CNN6Layer_A in the first instance\n",
    "##  see relevant cell below\n",
    "\n",
    "from model.models_mds_07July2020 import All_CNN6Layer_A as ModelA\n",
    "from model.models_mds_07July2020 import All_CNN6Layer_B as ModelB\n",
    "from model.models_mds_07July2020 import All_CNN6Layer_C as ModelC\n",
    "from model.models_mds_07July2020 import All_CNN6Layer_D as ModelD\n",
    "from model.models_mds_07July2020 import All_CNN6Layer_E as ModelE\n",
    "\n",
    "# From model/utilities.py\n",
    "from model.utilities import load_full_state, count_parameters, Params\n",
    "\n",
    "from model.plots import dual_train_plots, replace_in_ax\n",
    "\n",
    "## adds image of model architecture\n",
    "import hiddenlayer as HL"
   ]
  },
  {
   "cell_type": "markdown",
   "metadata": {},
   "source": [
    "Set up Torch device configuration. All tensors and model parameters need to know where to be put.\n",
    "This takes a BUS ID number: The BUS ID is the same as the listing at the top of this script."
   ]
  },
  {
   "cell_type": "code",
   "execution_count": 4,
   "metadata": {},
   "outputs": [
    {
     "name": "stdout",
     "output_type": "stream",
     "text": [
      "1 available GPUs (initially using device 0):\n",
      "  0 TITAN V\n"
     ]
    }
   ],
   "source": [
    "device = select_gpu(2)"
   ]
  },
  {
   "cell_type": "markdown",
   "metadata": {},
   "source": [
    "### Set up local parameters"
   ]
  },
  {
   "cell_type": "code",
   "execution_count": 5,
   "metadata": {},
   "outputs": [],
   "source": [
    "# params order - batch size, epochs, lr, epoch_start (which is usually set to 0)\n",
    "args = Params(128, 1000, 1e-4, 3317)"
   ]
  },
  {
   "cell_type": "markdown",
   "metadata": {},
   "source": [
    "## Loading data\n",
    "\n",
    "Load the dataset, split into parts, then move to device (see `collectdata.py` in the `../model` directory)"
   ]
  },
  {
   "cell_type": "code",
   "execution_count": 6,
   "metadata": {
    "scrolled": true
   },
   "outputs": [
    {
     "name": "stdout",
     "output_type": "stream",
     "text": [
      "Loading data...\n",
      "Loaded /share/lazy/sokoloff/ML-data_A/Aug14_80K_train.h5 in 13.33 s\n",
      "Loaded /share/lazy/sokoloff/ML-data_AA/Oct03_80K_train.h5 in 12.82 s\n",
      "Constructing 160000 event dataset took 4.321 s\n",
      "Loading data...\n",
      "Loaded /share/lazy/sokoloff/ML-data_AA/Oct03_20K_val.h5 in 2.965 s\n",
      "Constructing 9984 event dataset took 0.08981 s\n"
     ]
    }
   ],
   "source": [
    "## newer vernacular\n",
    "## Training dataset. You can put as many files here as desired.\n",
    "\n",
    "## in this DEMO example we use only one 80K training set -- the model starts with well-trained weights,\n",
    "## and using a smaller training set reduces both the time to load the data and the time to train an epoch\n",
    "##  set the option load_XandXsq = True to use both DKE and KDE^2 as input features\n",
    "train_loader = collect_data('/share/lazy/sokoloff/ML-data_A/Aug14_80K_train.h5',\n",
    "                             '/share/lazy/sokoloff/ML-data_AA/Oct03_80K_train.h5',\n",
    "#                             '/share/lazy/sokoloff/ML-data_AA/Oct03_40K_train.h5',\n",
    "#                             '/share/lazy/will/ML_mdsA/June30_2020_80k_1.h5',\n",
    "#                             '/share/lazy/will/ML_mdsA/June30_2020_80k_3.h5',\n",
    "#                             '/share/lazy/will/ML_mdsA/June30_2020_80k_4.h5',\n",
    "#                             '/share/lazy/will/ML_mdsA/June30_2020_80k_5.h5',\n",
    "#                             '/share/lazy/will/ML_mdsA/June30_2020_80k_6.h5',\n",
    "#                             '/share/lazy/will/ML_mdsA/June30_2020_80k_7.h5',\n",
    "#                             '/share/lazy/will/ML_mdsA/June30_2020_80k_8.h5',\n",
    "#                             '/share/lazy/will/ML_mdsA/June30_2020_80k_9.h5',\n",
    "                            #'/share/lazy/sokoloff/ML-data_AA/Oct03_80K2_train.h5',\n",
    "                             batch_size=args.batch_size,\n",
    "## if we are using a larger dataset (240K events, with the datasets above, and 11 GB  of GPU memory),\n",
    "## not the dataset will overflow the GPU memory; device=device will allow the data to move back\n",
    "## and forth between the CPU and GPU memory. While this allows use of a larger dataset, it slows\n",
    "## down performance by about 10%.  So comment out when not needed.\n",
    "                            device=device,\n",
    "                            masking=True, shuffle=True,\n",
    "                            load_XandXsq=False,\n",
    "                            load_xy=False)\n",
    "\n",
    "# Validation dataset. You can slice to reduce the size.\n",
    "## dataAA -> /share/lazy/sokoloff/ML-data_AA/\n",
    "val_loader = collect_data('/share/lazy/sokoloff/ML-data_AA/Oct03_20K_val.h5',\n",
    "## mds val_loader = collect_data('dataAA/HLT1CPU_1kevts_val.h5',\n",
    "\n",
    "                          batch_size=args.batch_size,\n",
    "                          slice=slice(256 * 39),\n",
    "                          device=device,\n",
    "                          masking=True, shuffle=False,\n",
    "                          load_XandXsq=False,\n",
    "                          load_xy=False)"
   ]
  },
  {
   "cell_type": "markdown",
   "metadata": {},
   "source": [
    "# Preparing the model"
   ]
  },
  {
   "cell_type": "markdown",
   "metadata": {},
   "source": [
    "Prepare a model, use multiple GPUs if they are VISIBLE, and move the model to the device."
   ]
  },
  {
   "cell_type": "code",
   "execution_count": 7,
   "metadata": {
    "scrolled": true
   },
   "outputs": [
    {
     "name": "stderr",
     "output_type": "stream",
     "text": [
      "WARNING:root:Malformed experiment 'ML'. Detailed error Yaml file '/share/lazy/pv-finder_model_repo/ML/meta.yaml' does not exist.\n",
      "Traceback (most recent call last):\n",
      "  File \"/home/michael24peters/.local/lib/python3.7/site-packages/mlflow/store/tracking/file_store.py\", line 197, in list_experiments\n",
      "    experiment = self._get_experiment(exp_id, view_type)\n",
      "  File \"/home/michael24peters/.local/lib/python3.7/site-packages/mlflow/store/tracking/file_store.py\", line 260, in _get_experiment\n",
      "    meta = read_yaml(experiment_dir, FileStore.META_DATA_FILE_NAME)\n",
      "  File \"/home/michael24peters/.local/lib/python3.7/site-packages/mlflow/utils/file_utils.py\", line 167, in read_yaml\n",
      "    raise MissingConfigException(\"Yaml file '%s' does not exist.\" % file_path)\n",
      "mlflow.exceptions.MissingConfigException: Yaml file '/share/lazy/pv-finder_model_repo/ML/meta.yaml' does not exist.\n"
     ]
    }
   ],
   "source": [
    "model = ModelA()\n",
    "\n",
    "#summary(model.to(device), (1, 4000))\n",
    "\n",
    "mlflow.tracking.set_tracking_uri('file:/share/lazy/pv-finder_model_repo')\n",
    "mlflow.set_experiment('ALLCNN')"
   ]
  },
  {
   "cell_type": "code",
   "execution_count": 8,
   "metadata": {
    "scrolled": true
   },
   "outputs": [
    {
     "name": "stdout",
     "output_type": "stream",
     "text": [
      "Let's use 1 GPUs!\n"
     ]
    }
   ],
   "source": [
    "print(\"Let's use\", torch.cuda.device_count(), \"GPUs!\")\n",
    "if torch.cuda.device_count() > 1:\n",
    "    model = torch.nn.DataParallel(model)"
   ]
  },
  {
   "cell_type": "markdown",
   "metadata": {},
   "source": [
    "Let's move the model's weight matricies to the GPU:"
   ]
  },
  {
   "cell_type": "code",
   "execution_count": 9,
   "metadata": {},
   "outputs": [
    {
     "name": "stdout",
     "output_type": "stream",
     "text": [
      "we also froze 0 weights\n",
      "Of the 6.0 parameter layers to update in the current model, 6.0 were loaded\n"
     ]
    }
   ],
   "source": [
    "##  mds 200121 loss = Loss(epsilon=1e-5,coefficient=1.0)\n",
    "loss = Loss(epsilon=1e-5,coefficient=2.5)\n",
    "optimizer = torch.optim.Adam(model.parameters(), lr=args.lr)\n",
    "\n",
    "##  use the first five layers from a pre-existing model\n",
    "##  see example at https://discuss.pytorch.org/t/how-to-load-part-of-pre-trained-model/1113\n",
    "##   ML -> /share/lazy/sokoloff/ML\n",
    "\n",
    "#path = 'run_stats.pyt'\n",
    "#load_full_state(model, optimizer, path)\n",
    "# For other pretrained models, go to MLFlow and find the path for \"run_stats.pyt\"\n",
    "pretrained_dict = '/share/lazy/pv-finder_model_repo/7/7deaed4c99c648c0bc27dbc10a33e5aa/artifacts/run_stats.pyt'\n",
    "load_full_state(model, optimizer, pretrained_dict)"
   ]
  },
  {
   "cell_type": "markdown",
   "metadata": {},
   "source": [
    "Let's move the model's weight matricies to the GPU:"
   ]
  },
  {
   "cell_type": "code",
   "execution_count": 10,
   "metadata": {
    "scrolled": true
   },
   "outputs": [
    {
     "data": {
      "text/plain": [
       "All_CNN6Layer_A(\n",
       "  (conv1): Conv1d(1, 20, kernel_size=(25,), stride=(1,), padding=(12,))\n",
       "  (conv2): Conv1d(20, 10, kernel_size=(15,), stride=(1,), padding=(7,))\n",
       "  (conv3): Conv1d(10, 10, kernel_size=(15,), stride=(1,), padding=(7,))\n",
       "  (conv4): Conv1d(10, 10, kernel_size=(15,), stride=(1,), padding=(7,))\n",
       "  (conv5): Conv1d(10, 1, kernel_size=(5,), stride=(1,), padding=(2,))\n",
       "  (finalFilter): Conv1d(1, 1, kernel_size=(91,), stride=(1,), padding=(45,))\n",
       "  (conv1dropout): Dropout(p=0.15, inplace=False)\n",
       "  (conv2dropout): Dropout(p=0.15, inplace=False)\n",
       "  (conv3dropout): Dropout(p=0.15, inplace=False)\n",
       "  (conv4dropout): Dropout(p=0.15, inplace=False)\n",
       "  (conv5dropout): Dropout(p=0.15, inplace=False)\n",
       ")"
      ]
     },
     "execution_count": 10,
     "metadata": {},
     "output_type": "execute_result"
    }
   ],
   "source": [
    "model.to(device)"
   ]
  },
  {
   "cell_type": "markdown",
   "metadata": {},
   "source": [
    "## Train \n",
    "\n",
    "\n",
    "\n",
    "The body of this loop runs once per epoch. Results is a named tuple of values (loss per epoch for training and validation, time each). Start by setting up a plot first:"
   ]
  },
  {
   "cell_type": "code",
   "execution_count": 11,
   "metadata": {},
   "outputs": [
    {
     "data": {
      "application/javascript": [
       "/* Put everything inside the global mpl namespace */\n",
       "window.mpl = {};\n",
       "\n",
       "\n",
       "mpl.get_websocket_type = function() {\n",
       "    if (typeof(WebSocket) !== 'undefined') {\n",
       "        return WebSocket;\n",
       "    } else if (typeof(MozWebSocket) !== 'undefined') {\n",
       "        return MozWebSocket;\n",
       "    } else {\n",
       "        alert('Your browser does not have WebSocket support. ' +\n",
       "              'Please try Chrome, Safari or Firefox ≥ 6. ' +\n",
       "              'Firefox 4 and 5 are also supported but you ' +\n",
       "              'have to enable WebSockets in about:config.');\n",
       "    };\n",
       "}\n",
       "\n",
       "mpl.figure = function(figure_id, websocket, ondownload, parent_element) {\n",
       "    this.id = figure_id;\n",
       "\n",
       "    this.ws = websocket;\n",
       "\n",
       "    this.supports_binary = (this.ws.binaryType != undefined);\n",
       "\n",
       "    if (!this.supports_binary) {\n",
       "        var warnings = document.getElementById(\"mpl-warnings\");\n",
       "        if (warnings) {\n",
       "            warnings.style.display = 'block';\n",
       "            warnings.textContent = (\n",
       "                \"This browser does not support binary websocket messages. \" +\n",
       "                    \"Performance may be slow.\");\n",
       "        }\n",
       "    }\n",
       "\n",
       "    this.imageObj = new Image();\n",
       "\n",
       "    this.context = undefined;\n",
       "    this.message = undefined;\n",
       "    this.canvas = undefined;\n",
       "    this.rubberband_canvas = undefined;\n",
       "    this.rubberband_context = undefined;\n",
       "    this.format_dropdown = undefined;\n",
       "\n",
       "    this.image_mode = 'full';\n",
       "\n",
       "    this.root = $('<div/>');\n",
       "    this._root_extra_style(this.root)\n",
       "    this.root.attr('style', 'display: inline-block');\n",
       "\n",
       "    $(parent_element).append(this.root);\n",
       "\n",
       "    this._init_header(this);\n",
       "    this._init_canvas(this);\n",
       "    this._init_toolbar(this);\n",
       "\n",
       "    var fig = this;\n",
       "\n",
       "    this.waiting = false;\n",
       "\n",
       "    this.ws.onopen =  function () {\n",
       "            fig.send_message(\"supports_binary\", {value: fig.supports_binary});\n",
       "            fig.send_message(\"send_image_mode\", {});\n",
       "            if (mpl.ratio != 1) {\n",
       "                fig.send_message(\"set_dpi_ratio\", {'dpi_ratio': mpl.ratio});\n",
       "            }\n",
       "            fig.send_message(\"refresh\", {});\n",
       "        }\n",
       "\n",
       "    this.imageObj.onload = function() {\n",
       "            if (fig.image_mode == 'full') {\n",
       "                // Full images could contain transparency (where diff images\n",
       "                // almost always do), so we need to clear the canvas so that\n",
       "                // there is no ghosting.\n",
       "                fig.context.clearRect(0, 0, fig.canvas.width, fig.canvas.height);\n",
       "            }\n",
       "            fig.context.drawImage(fig.imageObj, 0, 0);\n",
       "        };\n",
       "\n",
       "    this.imageObj.onunload = function() {\n",
       "        fig.ws.close();\n",
       "    }\n",
       "\n",
       "    this.ws.onmessage = this._make_on_message_function(this);\n",
       "\n",
       "    this.ondownload = ondownload;\n",
       "}\n",
       "\n",
       "mpl.figure.prototype._init_header = function() {\n",
       "    var titlebar = $(\n",
       "        '<div class=\"ui-dialog-titlebar ui-widget-header ui-corner-all ' +\n",
       "        'ui-helper-clearfix\"/>');\n",
       "    var titletext = $(\n",
       "        '<div class=\"ui-dialog-title\" style=\"width: 100%; ' +\n",
       "        'text-align: center; padding: 3px;\"/>');\n",
       "    titlebar.append(titletext)\n",
       "    this.root.append(titlebar);\n",
       "    this.header = titletext[0];\n",
       "}\n",
       "\n",
       "\n",
       "\n",
       "mpl.figure.prototype._canvas_extra_style = function(canvas_div) {\n",
       "\n",
       "}\n",
       "\n",
       "\n",
       "mpl.figure.prototype._root_extra_style = function(canvas_div) {\n",
       "\n",
       "}\n",
       "\n",
       "mpl.figure.prototype._init_canvas = function() {\n",
       "    var fig = this;\n",
       "\n",
       "    var canvas_div = $('<div/>');\n",
       "\n",
       "    canvas_div.attr('style', 'position: relative; clear: both; outline: 0');\n",
       "\n",
       "    function canvas_keyboard_event(event) {\n",
       "        return fig.key_event(event, event['data']);\n",
       "    }\n",
       "\n",
       "    canvas_div.keydown('key_press', canvas_keyboard_event);\n",
       "    canvas_div.keyup('key_release', canvas_keyboard_event);\n",
       "    this.canvas_div = canvas_div\n",
       "    this._canvas_extra_style(canvas_div)\n",
       "    this.root.append(canvas_div);\n",
       "\n",
       "    var canvas = $('<canvas/>');\n",
       "    canvas.addClass('mpl-canvas');\n",
       "    canvas.attr('style', \"left: 0; top: 0; z-index: 0; outline: 0\")\n",
       "\n",
       "    this.canvas = canvas[0];\n",
       "    this.context = canvas[0].getContext(\"2d\");\n",
       "\n",
       "    var backingStore = this.context.backingStorePixelRatio ||\n",
       "\tthis.context.webkitBackingStorePixelRatio ||\n",
       "\tthis.context.mozBackingStorePixelRatio ||\n",
       "\tthis.context.msBackingStorePixelRatio ||\n",
       "\tthis.context.oBackingStorePixelRatio ||\n",
       "\tthis.context.backingStorePixelRatio || 1;\n",
       "\n",
       "    mpl.ratio = (window.devicePixelRatio || 1) / backingStore;\n",
       "\n",
       "    var rubberband = $('<canvas/>');\n",
       "    rubberband.attr('style', \"position: absolute; left: 0; top: 0; z-index: 1;\")\n",
       "\n",
       "    var pass_mouse_events = true;\n",
       "\n",
       "    canvas_div.resizable({\n",
       "        start: function(event, ui) {\n",
       "            pass_mouse_events = false;\n",
       "        },\n",
       "        resize: function(event, ui) {\n",
       "            fig.request_resize(ui.size.width, ui.size.height);\n",
       "        },\n",
       "        stop: function(event, ui) {\n",
       "            pass_mouse_events = true;\n",
       "            fig.request_resize(ui.size.width, ui.size.height);\n",
       "        },\n",
       "    });\n",
       "\n",
       "    function mouse_event_fn(event) {\n",
       "        if (pass_mouse_events)\n",
       "            return fig.mouse_event(event, event['data']);\n",
       "    }\n",
       "\n",
       "    rubberband.mousedown('button_press', mouse_event_fn);\n",
       "    rubberband.mouseup('button_release', mouse_event_fn);\n",
       "    // Throttle sequential mouse events to 1 every 20ms.\n",
       "    rubberband.mousemove('motion_notify', mouse_event_fn);\n",
       "\n",
       "    rubberband.mouseenter('figure_enter', mouse_event_fn);\n",
       "    rubberband.mouseleave('figure_leave', mouse_event_fn);\n",
       "\n",
       "    canvas_div.on(\"wheel\", function (event) {\n",
       "        event = event.originalEvent;\n",
       "        event['data'] = 'scroll'\n",
       "        if (event.deltaY < 0) {\n",
       "            event.step = 1;\n",
       "        } else {\n",
       "            event.step = -1;\n",
       "        }\n",
       "        mouse_event_fn(event);\n",
       "    });\n",
       "\n",
       "    canvas_div.append(canvas);\n",
       "    canvas_div.append(rubberband);\n",
       "\n",
       "    this.rubberband = rubberband;\n",
       "    this.rubberband_canvas = rubberband[0];\n",
       "    this.rubberband_context = rubberband[0].getContext(\"2d\");\n",
       "    this.rubberband_context.strokeStyle = \"#000000\";\n",
       "\n",
       "    this._resize_canvas = function(width, height) {\n",
       "        // Keep the size of the canvas, canvas container, and rubber band\n",
       "        // canvas in synch.\n",
       "        canvas_div.css('width', width)\n",
       "        canvas_div.css('height', height)\n",
       "\n",
       "        canvas.attr('width', width * mpl.ratio);\n",
       "        canvas.attr('height', height * mpl.ratio);\n",
       "        canvas.attr('style', 'width: ' + width + 'px; height: ' + height + 'px;');\n",
       "\n",
       "        rubberband.attr('width', width);\n",
       "        rubberband.attr('height', height);\n",
       "    }\n",
       "\n",
       "    // Set the figure to an initial 600x600px, this will subsequently be updated\n",
       "    // upon first draw.\n",
       "    this._resize_canvas(600, 600);\n",
       "\n",
       "    // Disable right mouse context menu.\n",
       "    $(this.rubberband_canvas).bind(\"contextmenu\",function(e){\n",
       "        return false;\n",
       "    });\n",
       "\n",
       "    function set_focus () {\n",
       "        canvas.focus();\n",
       "        canvas_div.focus();\n",
       "    }\n",
       "\n",
       "    window.setTimeout(set_focus, 100);\n",
       "}\n",
       "\n",
       "mpl.figure.prototype._init_toolbar = function() {\n",
       "    var fig = this;\n",
       "\n",
       "    var nav_element = $('<div/>');\n",
       "    nav_element.attr('style', 'width: 100%');\n",
       "    this.root.append(nav_element);\n",
       "\n",
       "    // Define a callback function for later on.\n",
       "    function toolbar_event(event) {\n",
       "        return fig.toolbar_button_onclick(event['data']);\n",
       "    }\n",
       "    function toolbar_mouse_event(event) {\n",
       "        return fig.toolbar_button_onmouseover(event['data']);\n",
       "    }\n",
       "\n",
       "    for(var toolbar_ind in mpl.toolbar_items) {\n",
       "        var name = mpl.toolbar_items[toolbar_ind][0];\n",
       "        var tooltip = mpl.toolbar_items[toolbar_ind][1];\n",
       "        var image = mpl.toolbar_items[toolbar_ind][2];\n",
       "        var method_name = mpl.toolbar_items[toolbar_ind][3];\n",
       "\n",
       "        if (!name) {\n",
       "            // put a spacer in here.\n",
       "            continue;\n",
       "        }\n",
       "        var button = $('<button/>');\n",
       "        button.addClass('ui-button ui-widget ui-state-default ui-corner-all ' +\n",
       "                        'ui-button-icon-only');\n",
       "        button.attr('role', 'button');\n",
       "        button.attr('aria-disabled', 'false');\n",
       "        button.click(method_name, toolbar_event);\n",
       "        button.mouseover(tooltip, toolbar_mouse_event);\n",
       "\n",
       "        var icon_img = $('<span/>');\n",
       "        icon_img.addClass('ui-button-icon-primary ui-icon');\n",
       "        icon_img.addClass(image);\n",
       "        icon_img.addClass('ui-corner-all');\n",
       "\n",
       "        var tooltip_span = $('<span/>');\n",
       "        tooltip_span.addClass('ui-button-text');\n",
       "        tooltip_span.html(tooltip);\n",
       "\n",
       "        button.append(icon_img);\n",
       "        button.append(tooltip_span);\n",
       "\n",
       "        nav_element.append(button);\n",
       "    }\n",
       "\n",
       "    var fmt_picker_span = $('<span/>');\n",
       "\n",
       "    var fmt_picker = $('<select/>');\n",
       "    fmt_picker.addClass('mpl-toolbar-option ui-widget ui-widget-content');\n",
       "    fmt_picker_span.append(fmt_picker);\n",
       "    nav_element.append(fmt_picker_span);\n",
       "    this.format_dropdown = fmt_picker[0];\n",
       "\n",
       "    for (var ind in mpl.extensions) {\n",
       "        var fmt = mpl.extensions[ind];\n",
       "        var option = $(\n",
       "            '<option/>', {selected: fmt === mpl.default_extension}).html(fmt);\n",
       "        fmt_picker.append(option);\n",
       "    }\n",
       "\n",
       "    // Add hover states to the ui-buttons\n",
       "    $( \".ui-button\" ).hover(\n",
       "        function() { $(this).addClass(\"ui-state-hover\");},\n",
       "        function() { $(this).removeClass(\"ui-state-hover\");}\n",
       "    );\n",
       "\n",
       "    var status_bar = $('<span class=\"mpl-message\"/>');\n",
       "    nav_element.append(status_bar);\n",
       "    this.message = status_bar[0];\n",
       "}\n",
       "\n",
       "mpl.figure.prototype.request_resize = function(x_pixels, y_pixels) {\n",
       "    // Request matplotlib to resize the figure. Matplotlib will then trigger a resize in the client,\n",
       "    // which will in turn request a refresh of the image.\n",
       "    this.send_message('resize', {'width': x_pixels, 'height': y_pixels});\n",
       "}\n",
       "\n",
       "mpl.figure.prototype.send_message = function(type, properties) {\n",
       "    properties['type'] = type;\n",
       "    properties['figure_id'] = this.id;\n",
       "    this.ws.send(JSON.stringify(properties));\n",
       "}\n",
       "\n",
       "mpl.figure.prototype.send_draw_message = function() {\n",
       "    if (!this.waiting) {\n",
       "        this.waiting = true;\n",
       "        this.ws.send(JSON.stringify({type: \"draw\", figure_id: this.id}));\n",
       "    }\n",
       "}\n",
       "\n",
       "\n",
       "mpl.figure.prototype.handle_save = function(fig, msg) {\n",
       "    var format_dropdown = fig.format_dropdown;\n",
       "    var format = format_dropdown.options[format_dropdown.selectedIndex].value;\n",
       "    fig.ondownload(fig, format);\n",
       "}\n",
       "\n",
       "\n",
       "mpl.figure.prototype.handle_resize = function(fig, msg) {\n",
       "    var size = msg['size'];\n",
       "    if (size[0] != fig.canvas.width || size[1] != fig.canvas.height) {\n",
       "        fig._resize_canvas(size[0], size[1]);\n",
       "        fig.send_message(\"refresh\", {});\n",
       "    };\n",
       "}\n",
       "\n",
       "mpl.figure.prototype.handle_rubberband = function(fig, msg) {\n",
       "    var x0 = msg['x0'] / mpl.ratio;\n",
       "    var y0 = (fig.canvas.height - msg['y0']) / mpl.ratio;\n",
       "    var x1 = msg['x1'] / mpl.ratio;\n",
       "    var y1 = (fig.canvas.height - msg['y1']) / mpl.ratio;\n",
       "    x0 = Math.floor(x0) + 0.5;\n",
       "    y0 = Math.floor(y0) + 0.5;\n",
       "    x1 = Math.floor(x1) + 0.5;\n",
       "    y1 = Math.floor(y1) + 0.5;\n",
       "    var min_x = Math.min(x0, x1);\n",
       "    var min_y = Math.min(y0, y1);\n",
       "    var width = Math.abs(x1 - x0);\n",
       "    var height = Math.abs(y1 - y0);\n",
       "\n",
       "    fig.rubberband_context.clearRect(\n",
       "        0, 0, fig.canvas.width / mpl.ratio, fig.canvas.height / mpl.ratio);\n",
       "\n",
       "    fig.rubberband_context.strokeRect(min_x, min_y, width, height);\n",
       "}\n",
       "\n",
       "mpl.figure.prototype.handle_figure_label = function(fig, msg) {\n",
       "    // Updates the figure title.\n",
       "    fig.header.textContent = msg['label'];\n",
       "}\n",
       "\n",
       "mpl.figure.prototype.handle_cursor = function(fig, msg) {\n",
       "    var cursor = msg['cursor'];\n",
       "    switch(cursor)\n",
       "    {\n",
       "    case 0:\n",
       "        cursor = 'pointer';\n",
       "        break;\n",
       "    case 1:\n",
       "        cursor = 'default';\n",
       "        break;\n",
       "    case 2:\n",
       "        cursor = 'crosshair';\n",
       "        break;\n",
       "    case 3:\n",
       "        cursor = 'move';\n",
       "        break;\n",
       "    }\n",
       "    fig.rubberband_canvas.style.cursor = cursor;\n",
       "}\n",
       "\n",
       "mpl.figure.prototype.handle_message = function(fig, msg) {\n",
       "    fig.message.textContent = msg['message'];\n",
       "}\n",
       "\n",
       "mpl.figure.prototype.handle_draw = function(fig, msg) {\n",
       "    // Request the server to send over a new figure.\n",
       "    fig.send_draw_message();\n",
       "}\n",
       "\n",
       "mpl.figure.prototype.handle_image_mode = function(fig, msg) {\n",
       "    fig.image_mode = msg['mode'];\n",
       "}\n",
       "\n",
       "mpl.figure.prototype.updated_canvas_event = function() {\n",
       "    // Called whenever the canvas gets updated.\n",
       "    this.send_message(\"ack\", {});\n",
       "}\n",
       "\n",
       "// A function to construct a web socket function for onmessage handling.\n",
       "// Called in the figure constructor.\n",
       "mpl.figure.prototype._make_on_message_function = function(fig) {\n",
       "    return function socket_on_message(evt) {\n",
       "        if (evt.data instanceof Blob) {\n",
       "            /* FIXME: We get \"Resource interpreted as Image but\n",
       "             * transferred with MIME type text/plain:\" errors on\n",
       "             * Chrome.  But how to set the MIME type?  It doesn't seem\n",
       "             * to be part of the websocket stream */\n",
       "            evt.data.type = \"image/png\";\n",
       "\n",
       "            /* Free the memory for the previous frames */\n",
       "            if (fig.imageObj.src) {\n",
       "                (window.URL || window.webkitURL).revokeObjectURL(\n",
       "                    fig.imageObj.src);\n",
       "            }\n",
       "\n",
       "            fig.imageObj.src = (window.URL || window.webkitURL).createObjectURL(\n",
       "                evt.data);\n",
       "            fig.updated_canvas_event();\n",
       "            fig.waiting = false;\n",
       "            return;\n",
       "        }\n",
       "        else if (typeof evt.data === 'string' && evt.data.slice(0, 21) == \"data:image/png;base64\") {\n",
       "            fig.imageObj.src = evt.data;\n",
       "            fig.updated_canvas_event();\n",
       "            fig.waiting = false;\n",
       "            return;\n",
       "        }\n",
       "\n",
       "        var msg = JSON.parse(evt.data);\n",
       "        var msg_type = msg['type'];\n",
       "\n",
       "        // Call the  \"handle_{type}\" callback, which takes\n",
       "        // the figure and JSON message as its only arguments.\n",
       "        try {\n",
       "            var callback = fig[\"handle_\" + msg_type];\n",
       "        } catch (e) {\n",
       "            console.log(\"No handler for the '\" + msg_type + \"' message type: \", msg);\n",
       "            return;\n",
       "        }\n",
       "\n",
       "        if (callback) {\n",
       "            try {\n",
       "                // console.log(\"Handling '\" + msg_type + \"' message: \", msg);\n",
       "                callback(fig, msg);\n",
       "            } catch (e) {\n",
       "                console.log(\"Exception inside the 'handler_\" + msg_type + \"' callback:\", e, e.stack, msg);\n",
       "            }\n",
       "        }\n",
       "    };\n",
       "}\n",
       "\n",
       "// from http://stackoverflow.com/questions/1114465/getting-mouse-location-in-canvas\n",
       "mpl.findpos = function(e) {\n",
       "    //this section is from http://www.quirksmode.org/js/events_properties.html\n",
       "    var targ;\n",
       "    if (!e)\n",
       "        e = window.event;\n",
       "    if (e.target)\n",
       "        targ = e.target;\n",
       "    else if (e.srcElement)\n",
       "        targ = e.srcElement;\n",
       "    if (targ.nodeType == 3) // defeat Safari bug\n",
       "        targ = targ.parentNode;\n",
       "\n",
       "    // jQuery normalizes the pageX and pageY\n",
       "    // pageX,Y are the mouse positions relative to the document\n",
       "    // offset() returns the position of the element relative to the document\n",
       "    var x = e.pageX - $(targ).offset().left;\n",
       "    var y = e.pageY - $(targ).offset().top;\n",
       "\n",
       "    return {\"x\": x, \"y\": y};\n",
       "};\n",
       "\n",
       "/*\n",
       " * return a copy of an object with only non-object keys\n",
       " * we need this to avoid circular references\n",
       " * http://stackoverflow.com/a/24161582/3208463\n",
       " */\n",
       "function simpleKeys (original) {\n",
       "  return Object.keys(original).reduce(function (obj, key) {\n",
       "    if (typeof original[key] !== 'object')\n",
       "        obj[key] = original[key]\n",
       "    return obj;\n",
       "  }, {});\n",
       "}\n",
       "\n",
       "mpl.figure.prototype.mouse_event = function(event, name) {\n",
       "    var canvas_pos = mpl.findpos(event)\n",
       "\n",
       "    if (name === 'button_press')\n",
       "    {\n",
       "        this.canvas.focus();\n",
       "        this.canvas_div.focus();\n",
       "    }\n",
       "\n",
       "    var x = canvas_pos.x * mpl.ratio;\n",
       "    var y = canvas_pos.y * mpl.ratio;\n",
       "\n",
       "    this.send_message(name, {x: x, y: y, button: event.button,\n",
       "                             step: event.step,\n",
       "                             guiEvent: simpleKeys(event)});\n",
       "\n",
       "    /* This prevents the web browser from automatically changing to\n",
       "     * the text insertion cursor when the button is pressed.  We want\n",
       "     * to control all of the cursor setting manually through the\n",
       "     * 'cursor' event from matplotlib */\n",
       "    event.preventDefault();\n",
       "    return false;\n",
       "}\n",
       "\n",
       "mpl.figure.prototype._key_event_extra = function(event, name) {\n",
       "    // Handle any extra behaviour associated with a key event\n",
       "}\n",
       "\n",
       "mpl.figure.prototype.key_event = function(event, name) {\n",
       "\n",
       "    // Prevent repeat events\n",
       "    if (name == 'key_press')\n",
       "    {\n",
       "        if (event.which === this._key)\n",
       "            return;\n",
       "        else\n",
       "            this._key = event.which;\n",
       "    }\n",
       "    if (name == 'key_release')\n",
       "        this._key = null;\n",
       "\n",
       "    var value = '';\n",
       "    if (event.ctrlKey && event.which != 17)\n",
       "        value += \"ctrl+\";\n",
       "    if (event.altKey && event.which != 18)\n",
       "        value += \"alt+\";\n",
       "    if (event.shiftKey && event.which != 16)\n",
       "        value += \"shift+\";\n",
       "\n",
       "    value += 'k';\n",
       "    value += event.which.toString();\n",
       "\n",
       "    this._key_event_extra(event, name);\n",
       "\n",
       "    this.send_message(name, {key: value,\n",
       "                             guiEvent: simpleKeys(event)});\n",
       "    return false;\n",
       "}\n",
       "\n",
       "mpl.figure.prototype.toolbar_button_onclick = function(name) {\n",
       "    if (name == 'download') {\n",
       "        this.handle_save(this, null);\n",
       "    } else {\n",
       "        this.send_message(\"toolbar_button\", {name: name});\n",
       "    }\n",
       "};\n",
       "\n",
       "mpl.figure.prototype.toolbar_button_onmouseover = function(tooltip) {\n",
       "    this.message.textContent = tooltip;\n",
       "};\n",
       "mpl.toolbar_items = [[\"Home\", \"Reset original view\", \"fa fa-home icon-home\", \"home\"], [\"Back\", \"Back to previous view\", \"fa fa-arrow-left icon-arrow-left\", \"back\"], [\"Forward\", \"Forward to next view\", \"fa fa-arrow-right icon-arrow-right\", \"forward\"], [\"\", \"\", \"\", \"\"], [\"Pan\", \"Pan axes with left mouse, zoom with right\", \"fa fa-arrows icon-move\", \"pan\"], [\"Zoom\", \"Zoom to rectangle\", \"fa fa-square-o icon-check-empty\", \"zoom\"], [\"\", \"\", \"\", \"\"], [\"Download\", \"Download plot\", \"fa fa-floppy-o icon-save\", \"download\"]];\n",
       "\n",
       "mpl.extensions = [\"eps\", \"jpeg\", \"pdf\", \"png\", \"ps\", \"raw\", \"svg\", \"tif\"];\n",
       "\n",
       "mpl.default_extension = \"png\";var comm_websocket_adapter = function(comm) {\n",
       "    // Create a \"websocket\"-like object which calls the given IPython comm\n",
       "    // object with the appropriate methods. Currently this is a non binary\n",
       "    // socket, so there is still some room for performance tuning.\n",
       "    var ws = {};\n",
       "\n",
       "    ws.close = function() {\n",
       "        comm.close()\n",
       "    };\n",
       "    ws.send = function(m) {\n",
       "        //console.log('sending', m);\n",
       "        comm.send(m);\n",
       "    };\n",
       "    // Register the callback with on_msg.\n",
       "    comm.on_msg(function(msg) {\n",
       "        //console.log('receiving', msg['content']['data'], msg);\n",
       "        // Pass the mpl event to the overridden (by mpl) onmessage function.\n",
       "        ws.onmessage(msg['content']['data'])\n",
       "    });\n",
       "    return ws;\n",
       "}\n",
       "\n",
       "mpl.mpl_figure_comm = function(comm, msg) {\n",
       "    // This is the function which gets called when the mpl process\n",
       "    // starts-up an IPython Comm through the \"matplotlib\" channel.\n",
       "\n",
       "    var id = msg.content.data.id;\n",
       "    // Get hold of the div created by the display call when the Comm\n",
       "    // socket was opened in Python.\n",
       "    var element = $(\"#\" + id);\n",
       "    var ws_proxy = comm_websocket_adapter(comm)\n",
       "\n",
       "    function ondownload(figure, format) {\n",
       "        window.open(figure.imageObj.src);\n",
       "    }\n",
       "\n",
       "    var fig = new mpl.figure(id, ws_proxy,\n",
       "                           ondownload,\n",
       "                           element.get(0));\n",
       "\n",
       "    // Call onopen now - mpl needs it, as it is assuming we've passed it a real\n",
       "    // web socket which is closed, not our websocket->open comm proxy.\n",
       "    ws_proxy.onopen();\n",
       "\n",
       "    fig.parent_element = element.get(0);\n",
       "    fig.cell_info = mpl.find_output_cell(\"<div id='\" + id + \"'></div>\");\n",
       "    if (!fig.cell_info) {\n",
       "        console.error(\"Failed to find cell for figure\", id, fig);\n",
       "        return;\n",
       "    }\n",
       "\n",
       "    var output_index = fig.cell_info[2]\n",
       "    var cell = fig.cell_info[0];\n",
       "\n",
       "};\n",
       "\n",
       "mpl.figure.prototype.handle_close = function(fig, msg) {\n",
       "    var width = fig.canvas.width/mpl.ratio\n",
       "    fig.root.unbind('remove')\n",
       "\n",
       "    // Update the output cell to use the data from the current canvas.\n",
       "    fig.push_to_output();\n",
       "    var dataURL = fig.canvas.toDataURL();\n",
       "    // Re-enable the keyboard manager in IPython - without this line, in FF,\n",
       "    // the notebook keyboard shortcuts fail.\n",
       "    IPython.keyboard_manager.enable()\n",
       "    $(fig.parent_element).html('<img src=\"' + dataURL + '\" width=\"' + width + '\">');\n",
       "    fig.close_ws(fig, msg);\n",
       "}\n",
       "\n",
       "mpl.figure.prototype.close_ws = function(fig, msg){\n",
       "    fig.send_message('closing', msg);\n",
       "    // fig.ws.close()\n",
       "}\n",
       "\n",
       "mpl.figure.prototype.push_to_output = function(remove_interactive) {\n",
       "    // Turn the data on the canvas into data in the output cell.\n",
       "    var width = this.canvas.width/mpl.ratio\n",
       "    var dataURL = this.canvas.toDataURL();\n",
       "    this.cell_info[1]['text/html'] = '<img src=\"' + dataURL + '\" width=\"' + width + '\">';\n",
       "}\n",
       "\n",
       "mpl.figure.prototype.updated_canvas_event = function() {\n",
       "    // Tell IPython that the notebook contents must change.\n",
       "    IPython.notebook.set_dirty(true);\n",
       "    this.send_message(\"ack\", {});\n",
       "    var fig = this;\n",
       "    // Wait a second, then push the new image to the DOM so\n",
       "    // that it is saved nicely (might be nice to debounce this).\n",
       "    setTimeout(function () { fig.push_to_output() }, 1000);\n",
       "}\n",
       "\n",
       "mpl.figure.prototype._init_toolbar = function() {\n",
       "    var fig = this;\n",
       "\n",
       "    var nav_element = $('<div/>');\n",
       "    nav_element.attr('style', 'width: 100%');\n",
       "    this.root.append(nav_element);\n",
       "\n",
       "    // Define a callback function for later on.\n",
       "    function toolbar_event(event) {\n",
       "        return fig.toolbar_button_onclick(event['data']);\n",
       "    }\n",
       "    function toolbar_mouse_event(event) {\n",
       "        return fig.toolbar_button_onmouseover(event['data']);\n",
       "    }\n",
       "\n",
       "    for(var toolbar_ind in mpl.toolbar_items){\n",
       "        var name = mpl.toolbar_items[toolbar_ind][0];\n",
       "        var tooltip = mpl.toolbar_items[toolbar_ind][1];\n",
       "        var image = mpl.toolbar_items[toolbar_ind][2];\n",
       "        var method_name = mpl.toolbar_items[toolbar_ind][3];\n",
       "\n",
       "        if (!name) { continue; };\n",
       "\n",
       "        var button = $('<button class=\"btn btn-default\" href=\"#\" title=\"' + name + '\"><i class=\"fa ' + image + ' fa-lg\"></i></button>');\n",
       "        button.click(method_name, toolbar_event);\n",
       "        button.mouseover(tooltip, toolbar_mouse_event);\n",
       "        nav_element.append(button);\n",
       "    }\n",
       "\n",
       "    // Add the status bar.\n",
       "    var status_bar = $('<span class=\"mpl-message\" style=\"text-align:right; float: right;\"/>');\n",
       "    nav_element.append(status_bar);\n",
       "    this.message = status_bar[0];\n",
       "\n",
       "    // Add the close button to the window.\n",
       "    var buttongrp = $('<div class=\"btn-group inline pull-right\"></div>');\n",
       "    var button = $('<button class=\"btn btn-mini btn-primary\" href=\"#\" title=\"Stop Interaction\"><i class=\"fa fa-power-off icon-remove icon-large\"></i></button>');\n",
       "    button.click(function (evt) { fig.handle_close(fig, {}); } );\n",
       "    button.mouseover('Stop Interaction', toolbar_mouse_event);\n",
       "    buttongrp.append(button);\n",
       "    var titlebar = this.root.find($('.ui-dialog-titlebar'));\n",
       "    titlebar.prepend(buttongrp);\n",
       "}\n",
       "\n",
       "mpl.figure.prototype._root_extra_style = function(el){\n",
       "    var fig = this\n",
       "    el.on(\"remove\", function(){\n",
       "\tfig.close_ws(fig, {});\n",
       "    });\n",
       "}\n",
       "\n",
       "mpl.figure.prototype._canvas_extra_style = function(el){\n",
       "    // this is important to make the div 'focusable\n",
       "    el.attr('tabindex', 0)\n",
       "    // reach out to IPython and tell the keyboard manager to turn it's self\n",
       "    // off when our div gets focus\n",
       "\n",
       "    // location in version 3\n",
       "    if (IPython.notebook.keyboard_manager) {\n",
       "        IPython.notebook.keyboard_manager.register_events(el);\n",
       "    }\n",
       "    else {\n",
       "        // location in version 2\n",
       "        IPython.keyboard_manager.register_events(el);\n",
       "    }\n",
       "\n",
       "}\n",
       "\n",
       "mpl.figure.prototype._key_event_extra = function(event, name) {\n",
       "    var manager = IPython.notebook.keyboard_manager;\n",
       "    if (!manager)\n",
       "        manager = IPython.keyboard_manager;\n",
       "\n",
       "    // Check for shift+enter\n",
       "    if (event.shiftKey && event.which == 13) {\n",
       "        this.canvas_div.blur();\n",
       "        // select the cell after this one\n",
       "        var index = IPython.notebook.find_cell_index(this.cell_info[0]);\n",
       "        IPython.notebook.select(index + 1);\n",
       "    }\n",
       "}\n",
       "\n",
       "mpl.figure.prototype.handle_save = function(fig, msg) {\n",
       "    fig.ondownload(fig, null);\n",
       "}\n",
       "\n",
       "\n",
       "mpl.find_output_cell = function(html_output) {\n",
       "    // Return the cell and output element which can be found *uniquely* in the notebook.\n",
       "    // Note - this is a bit hacky, but it is done because the \"notebook_saving.Notebook\"\n",
       "    // IPython event is triggered only after the cells have been serialised, which for\n",
       "    // our purposes (turning an active figure into a static one), is too late.\n",
       "    var cells = IPython.notebook.get_cells();\n",
       "    var ncells = cells.length;\n",
       "    for (var i=0; i<ncells; i++) {\n",
       "        var cell = cells[i];\n",
       "        if (cell.cell_type === 'code'){\n",
       "            for (var j=0; j<cell.output_area.outputs.length; j++) {\n",
       "                var data = cell.output_area.outputs[j];\n",
       "                if (data.data) {\n",
       "                    // IPython >= 3 moved mimebundle to data attribute of output\n",
       "                    data = data.data;\n",
       "                }\n",
       "                if (data['text/html'] == html_output) {\n",
       "                    return [cell, data, j];\n",
       "                }\n",
       "            }\n",
       "        }\n",
       "    }\n",
       "}\n",
       "\n",
       "// Register the function which deals with the matplotlib target/channel.\n",
       "// The kernel may be null if the page has been refreshed.\n",
       "if (IPython.notebook.kernel != null) {\n",
       "    IPython.notebook.kernel.comm_manager.register_target('matplotlib', mpl.mpl_figure_comm);\n",
       "}\n"
      ],
      "text/plain": [
       "<IPython.core.display.Javascript object>"
      ]
     },
     "metadata": {},
     "output_type": "display_data"
    },
    {
     "data": {
      "text/html": [
       "<img src=\"data:image/png;base64,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\" width=\"1000\">"
      ],
      "text/plain": [
       "<IPython.core.display.HTML object>"
      ]
     },
     "metadata": {},
     "output_type": "display_data"
    }
   ],
   "source": [
    "ax, tax, lax, lines = dual_train_plots()\n",
    "fig = ax.figure\n",
    "plt.tight_layout()\n",
    "# This gets built up during the run - do not rerun this cell\n",
    "results = pd.DataFrame([], columns=Results._fields)"
   ]
  },
  {
   "cell_type": "code",
   "execution_count": 12,
   "metadata": {
    "scrolled": false
   },
   "outputs": [
    {
     "name": "stdout",
     "output_type": "stream",
     "text": [
      "for model:  All_CNN6Layer_A(\n",
      "  (conv1): Conv1d(1, 20, kernel_size=(25,), stride=(1,), padding=(12,))\n",
      "  (conv2): Conv1d(20, 10, kernel_size=(15,), stride=(1,), padding=(7,))\n",
      "  (conv3): Conv1d(10, 10, kernel_size=(15,), stride=(1,), padding=(7,))\n",
      "  (conv4): Conv1d(10, 10, kernel_size=(15,), stride=(1,), padding=(7,))\n",
      "  (conv5): Conv1d(10, 1, kernel_size=(5,), stride=(1,), padding=(2,))\n",
      "  (finalFilter): Conv1d(1, 1, kernel_size=(91,), stride=(1,), padding=(45,))\n",
      "  (conv1dropout): Dropout(p=0.15, inplace=False)\n",
      "  (conv2dropout): Dropout(p=0.15, inplace=False)\n",
      "  (conv3dropout): Dropout(p=0.15, inplace=False)\n",
      "  (conv4dropout): Dropout(p=0.15, inplace=False)\n",
      "  (conv5dropout): Dropout(p=0.15, inplace=False)\n",
      ")\n",
      "epoch_start 3317\n",
      "batch_size 128\n",
      "epochs 1000\n",
      "lr 0.0001\n",
      "Number of batches: train = 1250, val = 78\n"
     ]
    },
    {
     "name": "stderr",
     "output_type": "stream",
     "text": [
      "/home/michael24peters/pv-finder_experimental/notebooks/model/training.py:95: TqdmDeprecationWarning: This function will be removed in tqdm==5.0.0\n",
      "Please use `tqdm.notebook.tqdm` instead of `tqdm.tqdm_notebook`\n",
      "  file=sys.stderr,\n"
     ]
    },
    {
     "data": {
      "application/vnd.jupyter.widget-view+json": {
       "model_id": "5cca53a8337a44659c913b12cc80f891",
       "version_major": 2,
       "version_minor": 0
      },
      "text/plain": [
       "HBox(children=(FloatProgress(value=0.0, description='Epochs', layout=Layout(flex='2'), max=1000.0, style=Progr…"
      ]
     },
     "metadata": {},
     "output_type": "display_data"
    },
    {
     "data": {
      "application/vnd.jupyter.widget-view+json": {
       "model_id": "",
       "version_major": 2,
       "version_minor": 0
      },
      "text/plain": [
       "HBox(children=(FloatProgress(value=0.0, description='Training', layout=Layout(flex='2'), max=1250.0, style=Pro…"
      ]
     },
     "metadata": {},
     "output_type": "display_data"
    },
    {
     "name": "stdout",
     "output_type": "stream",
     "text": [
      "Epoch 3317: train=7.73546, val=7.83229, took 31.543 s\n",
      "  Validation Found 51268 of 54504, added 1800 (eff 94.06%) (0.18 FP/event)\n"
     ]
    },
    {
     "data": {
      "application/vnd.jupyter.widget-view+json": {
       "model_id": "",
       "version_major": 2,
       "version_minor": 0
      },
      "text/plain": [
       "HBox(children=(FloatProgress(value=0.0, description='Training', layout=Layout(flex='2'), max=1250.0, style=Pro…"
      ]
     },
     "metadata": {},
     "output_type": "display_data"
    },
    {
     "name": "stdout",
     "output_type": "stream",
     "text": [
      "Epoch 3318: train=7.7355, val=7.81041, took 31.227 s\n",
      "  Validation Found 51314 of 54504, added 1889 (eff 94.15%) (0.189 FP/event)\n"
     ]
    },
    {
     "data": {
      "application/vnd.jupyter.widget-view+json": {
       "model_id": "",
       "version_major": 2,
       "version_minor": 0
      },
      "text/plain": [
       "HBox(children=(FloatProgress(value=0.0, description='Training', layout=Layout(flex='2'), max=1250.0, style=Pro…"
      ]
     },
     "metadata": {},
     "output_type": "display_data"
    },
    {
     "name": "stdout",
     "output_type": "stream",
     "text": [
      "Epoch 3319: train=7.73523, val=7.85171, took 31.681 s\n",
      "  Validation Found 51258 of 54504, added 1816 (eff 94.04%) (0.182 FP/event)\n"
     ]
    },
    {
     "data": {
      "application/vnd.jupyter.widget-view+json": {
       "model_id": "",
       "version_major": 2,
       "version_minor": 0
      },
      "text/plain": [
       "HBox(children=(FloatProgress(value=0.0, description='Training', layout=Layout(flex='2'), max=1250.0, style=Pro…"
      ]
     },
     "metadata": {},
     "output_type": "display_data"
    },
    {
     "name": "stdout",
     "output_type": "stream",
     "text": [
      "Epoch 3320: train=7.7343, val=7.80164, took 31.317 s\n",
      "  Validation Found 51317 of 54504, added 1901 (eff 94.15%) (0.19 FP/event)\n"
     ]
    },
    {
     "data": {
      "application/vnd.jupyter.widget-view+json": {
       "model_id": "",
       "version_major": 2,
       "version_minor": 0
      },
      "text/plain": [
       "HBox(children=(FloatProgress(value=0.0, description='Training', layout=Layout(flex='2'), max=1250.0, style=Pro…"
      ]
     },
     "metadata": {},
     "output_type": "display_data"
    },
    {
     "name": "stdout",
     "output_type": "stream",
     "text": [
      "Epoch 3321: train=7.72919, val=7.82816, took 31.223 s\n",
      "  Validation Found 51260 of 54504, added 1824 (eff 94.05%) (0.183 FP/event)\n"
     ]
    },
    {
     "data": {
      "application/vnd.jupyter.widget-view+json": {
       "model_id": "",
       "version_major": 2,
       "version_minor": 0
      },
      "text/plain": [
       "HBox(children=(FloatProgress(value=0.0, description='Training', layout=Layout(flex='2'), max=1250.0, style=Pro…"
      ]
     },
     "metadata": {},
     "output_type": "display_data"
    },
    {
     "name": "stdout",
     "output_type": "stream",
     "text": [
      "Epoch 3322: train=7.73131, val=7.83853, took 31.184 s\n",
      "  Validation Found 51271 of 54504, added 1819 (eff 94.07%) (0.182 FP/event)\n"
     ]
    },
    {
     "data": {
      "application/vnd.jupyter.widget-view+json": {
       "model_id": "",
       "version_major": 2,
       "version_minor": 0
      },
      "text/plain": [
       "HBox(children=(FloatProgress(value=0.0, description='Training', layout=Layout(flex='2'), max=1250.0, style=Pro…"
      ]
     },
     "metadata": {},
     "output_type": "display_data"
    },
    {
     "name": "stdout",
     "output_type": "stream",
     "text": [
      "Epoch 3323: train=7.73411, val=7.84219, took 31.472 s\n",
      "  Validation Found 51260 of 54504, added 1807 (eff 94.05%) (0.181 FP/event)\n"
     ]
    },
    {
     "data": {
      "application/vnd.jupyter.widget-view+json": {
       "model_id": "",
       "version_major": 2,
       "version_minor": 0
      },
      "text/plain": [
       "HBox(children=(FloatProgress(value=0.0, description='Training', layout=Layout(flex='2'), max=1250.0, style=Pro…"
      ]
     },
     "metadata": {},
     "output_type": "display_data"
    },
    {
     "name": "stdout",
     "output_type": "stream",
     "text": [
      "Epoch 3324: train=7.72923, val=7.8523, took 31.152 s\n",
      "  Validation Found 51251 of 54504, added 1782 (eff 94.03%) (0.178 FP/event)\n"
     ]
    },
    {
     "data": {
      "application/vnd.jupyter.widget-view+json": {
       "model_id": "",
       "version_major": 2,
       "version_minor": 0
      },
      "text/plain": [
       "HBox(children=(FloatProgress(value=0.0, description='Training', layout=Layout(flex='2'), max=1250.0, style=Pro…"
      ]
     },
     "metadata": {},
     "output_type": "display_data"
    },
    {
     "name": "stdout",
     "output_type": "stream",
     "text": [
      "Epoch 3325: train=7.73452, val=7.84037, took 31.375 s\n",
      "  Validation Found 51279 of 54504, added 1803 (eff 94.08%) (0.181 FP/event)\n"
     ]
    },
    {
     "data": {
      "application/vnd.jupyter.widget-view+json": {
       "model_id": "",
       "version_major": 2,
       "version_minor": 0
      },
      "text/plain": [
       "HBox(children=(FloatProgress(value=0.0, description='Training', layout=Layout(flex='2'), max=1250.0, style=Pro…"
      ]
     },
     "metadata": {},
     "output_type": "display_data"
    },
    {
     "name": "stdout",
     "output_type": "stream",
     "text": [
      "Epoch 3326: train=7.7354, val=7.82152, took 31.133 s\n",
      "  Validation Found 51302 of 54504, added 1850 (eff 94.13%) (0.185 FP/event)\n"
     ]
    },
    {
     "data": {
      "application/vnd.jupyter.widget-view+json": {
       "model_id": "",
       "version_major": 2,
       "version_minor": 0
      },
      "text/plain": [
       "HBox(children=(FloatProgress(value=0.0, description='Training', layout=Layout(flex='2'), max=1250.0, style=Pro…"
      ]
     },
     "metadata": {},
     "output_type": "display_data"
    },
    {
     "name": "stdout",
     "output_type": "stream",
     "text": [
      "Epoch 3327: train=7.72879, val=7.8177, took 31.198 s\n",
      "  Validation Found 51266 of 54504, added 1803 (eff 94.06%) (0.181 FP/event)\n"
     ]
    },
    {
     "data": {
      "application/vnd.jupyter.widget-view+json": {
       "model_id": "",
       "version_major": 2,
       "version_minor": 0
      },
      "text/plain": [
       "HBox(children=(FloatProgress(value=0.0, description='Training', layout=Layout(flex='2'), max=1250.0, style=Pro…"
      ]
     },
     "metadata": {},
     "output_type": "display_data"
    },
    {
     "name": "stdout",
     "output_type": "stream",
     "text": [
      "Epoch 3328: train=7.7324, val=7.82623, took 31.516 s\n",
      "  Validation Found 51266 of 54504, added 1820 (eff 94.06%) (0.182 FP/event)\n"
     ]
    },
    {
     "data": {
      "application/vnd.jupyter.widget-view+json": {
       "model_id": "",
       "version_major": 2,
       "version_minor": 0
      },
      "text/plain": [
       "HBox(children=(FloatProgress(value=0.0, description='Training', layout=Layout(flex='2'), max=1250.0, style=Pro…"
      ]
     },
     "metadata": {},
     "output_type": "display_data"
    },
    {
     "name": "stdout",
     "output_type": "stream",
     "text": [
      "Epoch 3329: train=7.73533, val=7.81623, took 31.316 s\n",
      "  Validation Found 51294 of 54504, added 1878 (eff 94.11%) (0.188 FP/event)\n"
     ]
    },
    {
     "data": {
      "application/vnd.jupyter.widget-view+json": {
       "model_id": "",
       "version_major": 2,
       "version_minor": 0
      },
      "text/plain": [
       "HBox(children=(FloatProgress(value=0.0, description='Training', layout=Layout(flex='2'), max=1250.0, style=Pro…"
      ]
     },
     "metadata": {},
     "output_type": "display_data"
    },
    {
     "name": "stdout",
     "output_type": "stream",
     "text": [
      "Epoch 3330: train=7.73151, val=7.82017, took 31.149 s\n",
      "  Validation Found 51271 of 54504, added 1831 (eff 94.07%) (0.183 FP/event)\n"
     ]
    },
    {
     "data": {
      "application/vnd.jupyter.widget-view+json": {
       "model_id": "",
       "version_major": 2,
       "version_minor": 0
      },
      "text/plain": [
       "HBox(children=(FloatProgress(value=0.0, description='Training', layout=Layout(flex='2'), max=1250.0, style=Pro…"
      ]
     },
     "metadata": {},
     "output_type": "display_data"
    },
    {
     "name": "stdout",
     "output_type": "stream",
     "text": [
      "Epoch 3331: train=7.7314, val=7.8502, took 31.075 s\n",
      "  Validation Found 51255 of 54504, added 1809 (eff 94.04%) (0.181 FP/event)\n"
     ]
    },
    {
     "data": {
      "application/vnd.jupyter.widget-view+json": {
       "model_id": "",
       "version_major": 2,
       "version_minor": 0
      },
      "text/plain": [
       "HBox(children=(FloatProgress(value=0.0, description='Training', layout=Layout(flex='2'), max=1250.0, style=Pro…"
      ]
     },
     "metadata": {},
     "output_type": "display_data"
    },
    {
     "name": "stdout",
     "output_type": "stream",
     "text": [
      "Epoch 3332: train=7.7305, val=7.81426, took 31.294 s\n",
      "  Validation Found 51286 of 54504, added 1860 (eff 94.10%) (0.186 FP/event)\n"
     ]
    },
    {
     "data": {
      "application/vnd.jupyter.widget-view+json": {
       "model_id": "",
       "version_major": 2,
       "version_minor": 0
      },
      "text/plain": [
       "HBox(children=(FloatProgress(value=0.0, description='Training', layout=Layout(flex='2'), max=1250.0, style=Pro…"
      ]
     },
     "metadata": {},
     "output_type": "display_data"
    },
    {
     "name": "stdout",
     "output_type": "stream",
     "text": [
      "Epoch 3333: train=7.73409, val=7.83102, took 31.515 s\n",
      "  Validation Found 51317 of 54504, added 1891 (eff 94.15%) (0.189 FP/event)\n"
     ]
    },
    {
     "data": {
      "application/vnd.jupyter.widget-view+json": {
       "model_id": "",
       "version_major": 2,
       "version_minor": 0
      },
      "text/plain": [
       "HBox(children=(FloatProgress(value=0.0, description='Training', layout=Layout(flex='2'), max=1250.0, style=Pro…"
      ]
     },
     "metadata": {},
     "output_type": "display_data"
    },
    {
     "name": "stdout",
     "output_type": "stream",
     "text": [
      "Epoch 3334: train=7.73009, val=7.80264, took 31.335 s\n",
      "  Validation Found 51308 of 54504, added 1862 (eff 94.14%) (0.186 FP/event)\n"
     ]
    },
    {
     "data": {
      "application/vnd.jupyter.widget-view+json": {
       "model_id": "",
       "version_major": 2,
       "version_minor": 0
      },
      "text/plain": [
       "HBox(children=(FloatProgress(value=0.0, description='Training', layout=Layout(flex='2'), max=1250.0, style=Pro…"
      ]
     },
     "metadata": {},
     "output_type": "display_data"
    },
    {
     "name": "stdout",
     "output_type": "stream",
     "text": [
      "Epoch 3335: train=7.73247, val=7.83927, took 31.407 s\n",
      "  Validation Found 51270 of 54504, added 1815 (eff 94.07%) (0.182 FP/event)\n"
     ]
    },
    {
     "data": {
      "application/vnd.jupyter.widget-view+json": {
       "model_id": "",
       "version_major": 2,
       "version_minor": 0
      },
      "text/plain": [
       "HBox(children=(FloatProgress(value=0.0, description='Training', layout=Layout(flex='2'), max=1250.0, style=Pro…"
      ]
     },
     "metadata": {},
     "output_type": "display_data"
    },
    {
     "name": "stdout",
     "output_type": "stream",
     "text": [
      "Epoch 3336: train=7.73495, val=7.81774, took 31.454 s\n",
      "  Validation Found 51275 of 54504, added 1833 (eff 94.08%) (0.184 FP/event)\n"
     ]
    },
    {
     "data": {
      "application/vnd.jupyter.widget-view+json": {
       "model_id": "",
       "version_major": 2,
       "version_minor": 0
      },
      "text/plain": [
       "HBox(children=(FloatProgress(value=0.0, description='Training', layout=Layout(flex='2'), max=1250.0, style=Pro…"
      ]
     },
     "metadata": {},
     "output_type": "display_data"
    },
    {
     "name": "stdout",
     "output_type": "stream",
     "text": [
      "Epoch 3337: train=7.72972, val=7.8229, took 31.523 s\n",
      "  Validation Found 51296 of 54504, added 1854 (eff 94.11%) (0.186 FP/event)\n"
     ]
    },
    {
     "data": {
      "application/vnd.jupyter.widget-view+json": {
       "model_id": "",
       "version_major": 2,
       "version_minor": 0
      },
      "text/plain": [
       "HBox(children=(FloatProgress(value=0.0, description='Training', layout=Layout(flex='2'), max=1250.0, style=Pro…"
      ]
     },
     "metadata": {},
     "output_type": "display_data"
    },
    {
     "name": "stdout",
     "output_type": "stream",
     "text": [
      "Epoch 3338: train=7.73412, val=7.81117, took 31.679 s\n",
      "  Validation Found 51295 of 54504, added 1841 (eff 94.11%) (0.184 FP/event)\n"
     ]
    },
    {
     "data": {
      "application/vnd.jupyter.widget-view+json": {
       "model_id": "",
       "version_major": 2,
       "version_minor": 0
      },
      "text/plain": [
       "HBox(children=(FloatProgress(value=0.0, description='Training', layout=Layout(flex='2'), max=1250.0, style=Pro…"
      ]
     },
     "metadata": {},
     "output_type": "display_data"
    },
    {
     "name": "stdout",
     "output_type": "stream",
     "text": [
      "Epoch 3339: train=7.73268, val=7.80332, took 30.944 s\n",
      "  Validation Found 51320 of 54504, added 1880 (eff 94.16%) (0.188 FP/event)\n"
     ]
    },
    {
     "data": {
      "application/vnd.jupyter.widget-view+json": {
       "model_id": "",
       "version_major": 2,
       "version_minor": 0
      },
      "text/plain": [
       "HBox(children=(FloatProgress(value=0.0, description='Training', layout=Layout(flex='2'), max=1250.0, style=Pro…"
      ]
     },
     "metadata": {},
     "output_type": "display_data"
    },
    {
     "name": "stdout",
     "output_type": "stream",
     "text": [
      "Epoch 3340: train=7.73268, val=7.83582, took 31.264 s\n",
      "  Validation Found 51260 of 54504, added 1807 (eff 94.05%) (0.181 FP/event)\n"
     ]
    },
    {
     "data": {
      "application/vnd.jupyter.widget-view+json": {
       "model_id": "",
       "version_major": 2,
       "version_minor": 0
      },
      "text/plain": [
       "HBox(children=(FloatProgress(value=0.0, description='Training', layout=Layout(flex='2'), max=1250.0, style=Pro…"
      ]
     },
     "metadata": {},
     "output_type": "display_data"
    },
    {
     "name": "stdout",
     "output_type": "stream",
     "text": [
      "Epoch 3341: train=7.7346, val=7.80866, took 31.031 s\n",
      "  Validation Found 51335 of 54504, added 1894 (eff 94.19%) (0.19 FP/event)\n"
     ]
    },
    {
     "data": {
      "application/vnd.jupyter.widget-view+json": {
       "model_id": "",
       "version_major": 2,
       "version_minor": 0
      },
      "text/plain": [
       "HBox(children=(FloatProgress(value=0.0, description='Training', layout=Layout(flex='2'), max=1250.0, style=Pro…"
      ]
     },
     "metadata": {},
     "output_type": "display_data"
    },
    {
     "name": "stdout",
     "output_type": "stream",
     "text": [
      "Epoch 3342: train=7.73337, val=7.83156, took 31.068 s\n",
      "  Validation Found 51263 of 54504, added 1815 (eff 94.05%) (0.182 FP/event)\n"
     ]
    },
    {
     "data": {
      "application/vnd.jupyter.widget-view+json": {
       "model_id": "",
       "version_major": 2,
       "version_minor": 0
      },
      "text/plain": [
       "HBox(children=(FloatProgress(value=0.0, description='Training', layout=Layout(flex='2'), max=1250.0, style=Pro…"
      ]
     },
     "metadata": {},
     "output_type": "display_data"
    },
    {
     "name": "stdout",
     "output_type": "stream",
     "text": [
      "Epoch 3343: train=7.73409, val=7.82663, took 31.285 s\n",
      "  Validation Found 51250 of 54504, added 1804 (eff 94.03%) (0.181 FP/event)\n"
     ]
    },
    {
     "data": {
      "application/vnd.jupyter.widget-view+json": {
       "model_id": "",
       "version_major": 2,
       "version_minor": 0
      },
      "text/plain": [
       "HBox(children=(FloatProgress(value=0.0, description='Training', layout=Layout(flex='2'), max=1250.0, style=Pro…"
      ]
     },
     "metadata": {},
     "output_type": "display_data"
    },
    {
     "name": "stdout",
     "output_type": "stream",
     "text": [
      "Epoch 3344: train=7.73173, val=7.82615, took 31.335 s\n",
      "  Validation Found 51314 of 54504, added 1868 (eff 94.15%) (0.187 FP/event)\n"
     ]
    },
    {
     "data": {
      "application/vnd.jupyter.widget-view+json": {
       "model_id": "",
       "version_major": 2,
       "version_minor": 0
      },
      "text/plain": [
       "HBox(children=(FloatProgress(value=0.0, description='Training', layout=Layout(flex='2'), max=1250.0, style=Pro…"
      ]
     },
     "metadata": {},
     "output_type": "display_data"
    },
    {
     "name": "stdout",
     "output_type": "stream",
     "text": [
      "Epoch 3345: train=7.73068, val=7.83667, took 31.38 s\n",
      "  Validation Found 51253 of 54504, added 1799 (eff 94.04%) (0.18 FP/event)\n"
     ]
    },
    {
     "data": {
      "application/vnd.jupyter.widget-view+json": {
       "model_id": "",
       "version_major": 2,
       "version_minor": 0
      },
      "text/plain": [
       "HBox(children=(FloatProgress(value=0.0, description='Training', layout=Layout(flex='2'), max=1250.0, style=Pro…"
      ]
     },
     "metadata": {},
     "output_type": "display_data"
    },
    {
     "name": "stdout",
     "output_type": "stream",
     "text": [
      "Epoch 3346: train=7.72866, val=7.81684, took 31.644 s\n",
      "  Validation Found 51340 of 54504, added 1905 (eff 94.19%) (0.191 FP/event)\n"
     ]
    },
    {
     "data": {
      "application/vnd.jupyter.widget-view+json": {
       "model_id": "",
       "version_major": 2,
       "version_minor": 0
      },
      "text/plain": [
       "HBox(children=(FloatProgress(value=0.0, description='Training', layout=Layout(flex='2'), max=1250.0, style=Pro…"
      ]
     },
     "metadata": {},
     "output_type": "display_data"
    },
    {
     "name": "stdout",
     "output_type": "stream",
     "text": [
      "Epoch 3347: train=7.73141, val=7.79367, took 32.172 s\n",
      "  Validation Found 51295 of 54504, added 1879 (eff 94.11%) (0.188 FP/event)\n"
     ]
    },
    {
     "data": {
      "application/vnd.jupyter.widget-view+json": {
       "model_id": "",
       "version_major": 2,
       "version_minor": 0
      },
      "text/plain": [
       "HBox(children=(FloatProgress(value=0.0, description='Training', layout=Layout(flex='2'), max=1250.0, style=Pro…"
      ]
     },
     "metadata": {},
     "output_type": "display_data"
    },
    {
     "name": "stdout",
     "output_type": "stream",
     "text": [
      "Epoch 3348: train=7.73214, val=7.81551, took 31.367 s\n",
      "  Validation Found 51318 of 54504, added 1925 (eff 94.15%) (0.193 FP/event)\n"
     ]
    },
    {
     "data": {
      "application/vnd.jupyter.widget-view+json": {
       "model_id": "",
       "version_major": 2,
       "version_minor": 0
      },
      "text/plain": [
       "HBox(children=(FloatProgress(value=0.0, description='Training', layout=Layout(flex='2'), max=1250.0, style=Pro…"
      ]
     },
     "metadata": {},
     "output_type": "display_data"
    },
    {
     "name": "stdout",
     "output_type": "stream",
     "text": [
      "Epoch 3349: train=7.73126, val=7.82393, took 31.339 s\n",
      "  Validation Found 51281 of 54504, added 1829 (eff 94.09%) (0.183 FP/event)\n"
     ]
    },
    {
     "data": {
      "application/vnd.jupyter.widget-view+json": {
       "model_id": "",
       "version_major": 2,
       "version_minor": 0
      },
      "text/plain": [
       "HBox(children=(FloatProgress(value=0.0, description='Training', layout=Layout(flex='2'), max=1250.0, style=Pro…"
      ]
     },
     "metadata": {},
     "output_type": "display_data"
    },
    {
     "name": "stdout",
     "output_type": "stream",
     "text": [
      "Epoch 3350: train=7.73006, val=7.79249, took 31.418 s\n",
      "  Validation Found 51318 of 54504, added 1902 (eff 94.15%) (0.19 FP/event)\n"
     ]
    },
    {
     "data": {
      "application/vnd.jupyter.widget-view+json": {
       "model_id": "",
       "version_major": 2,
       "version_minor": 0
      },
      "text/plain": [
       "HBox(children=(FloatProgress(value=0.0, description='Training', layout=Layout(flex='2'), max=1250.0, style=Pro…"
      ]
     },
     "metadata": {},
     "output_type": "display_data"
    },
    {
     "name": "stdout",
     "output_type": "stream",
     "text": [
      "Epoch 3351: train=7.73007, val=7.83922, took 31.466 s\n",
      "  Validation Found 51257 of 54504, added 1792 (eff 94.04%) (0.179 FP/event)\n"
     ]
    },
    {
     "data": {
      "application/vnd.jupyter.widget-view+json": {
       "model_id": "",
       "version_major": 2,
       "version_minor": 0
      },
      "text/plain": [
       "HBox(children=(FloatProgress(value=0.0, description='Training', layout=Layout(flex='2'), max=1250.0, style=Pro…"
      ]
     },
     "metadata": {},
     "output_type": "display_data"
    },
    {
     "name": "stdout",
     "output_type": "stream",
     "text": [
      "Epoch 3352: train=7.73241, val=7.8275, took 31.549 s\n",
      "  Validation Found 51268 of 54504, added 1807 (eff 94.06%) (0.181 FP/event)\n"
     ]
    },
    {
     "data": {
      "application/vnd.jupyter.widget-view+json": {
       "model_id": "",
       "version_major": 2,
       "version_minor": 0
      },
      "text/plain": [
       "HBox(children=(FloatProgress(value=0.0, description='Training', layout=Layout(flex='2'), max=1250.0, style=Pro…"
      ]
     },
     "metadata": {},
     "output_type": "display_data"
    },
    {
     "name": "stdout",
     "output_type": "stream",
     "text": [
      "Epoch 3353: train=7.72831, val=7.79578, took 31.394 s\n",
      "  Validation Found 51327 of 54504, added 1882 (eff 94.17%) (0.188 FP/event)\n"
     ]
    },
    {
     "data": {
      "application/vnd.jupyter.widget-view+json": {
       "model_id": "",
       "version_major": 2,
       "version_minor": 0
      },
      "text/plain": [
       "HBox(children=(FloatProgress(value=0.0, description='Training', layout=Layout(flex='2'), max=1250.0, style=Pro…"
      ]
     },
     "metadata": {},
     "output_type": "display_data"
    },
    {
     "name": "stdout",
     "output_type": "stream",
     "text": [
      "Epoch 3354: train=7.7349, val=7.80968, took 31.353 s\n",
      "  Validation Found 51270 of 54504, added 1790 (eff 94.07%) (0.179 FP/event)\n"
     ]
    },
    {
     "data": {
      "application/vnd.jupyter.widget-view+json": {
       "model_id": "",
       "version_major": 2,
       "version_minor": 0
      },
      "text/plain": [
       "HBox(children=(FloatProgress(value=0.0, description='Training', layout=Layout(flex='2'), max=1250.0, style=Pro…"
      ]
     },
     "metadata": {},
     "output_type": "display_data"
    },
    {
     "name": "stdout",
     "output_type": "stream",
     "text": [
      "Epoch 3355: train=7.72762, val=7.80282, took 31.349 s\n",
      "  Validation Found 51303 of 54504, added 1857 (eff 94.13%) (0.186 FP/event)\n"
     ]
    },
    {
     "data": {
      "application/vnd.jupyter.widget-view+json": {
       "model_id": "",
       "version_major": 2,
       "version_minor": 0
      },
      "text/plain": [
       "HBox(children=(FloatProgress(value=0.0, description='Training', layout=Layout(flex='2'), max=1250.0, style=Pro…"
      ]
     },
     "metadata": {},
     "output_type": "display_data"
    },
    {
     "name": "stdout",
     "output_type": "stream",
     "text": [
      "Epoch 3356: train=7.73077, val=7.80689, took 31.172 s\n",
      "  Validation Found 51304 of 54504, added 1879 (eff 94.13%) (0.188 FP/event)\n"
     ]
    },
    {
     "data": {
      "application/vnd.jupyter.widget-view+json": {
       "model_id": "",
       "version_major": 2,
       "version_minor": 0
      },
      "text/plain": [
       "HBox(children=(FloatProgress(value=0.0, description='Training', layout=Layout(flex='2'), max=1250.0, style=Pro…"
      ]
     },
     "metadata": {},
     "output_type": "display_data"
    },
    {
     "name": "stdout",
     "output_type": "stream",
     "text": [
      "Epoch 3357: train=7.73128, val=7.82004, took 31.466 s\n",
      "  Validation Found 51263 of 54504, added 1815 (eff 94.05%) (0.182 FP/event)\n"
     ]
    },
    {
     "data": {
      "application/vnd.jupyter.widget-view+json": {
       "model_id": "",
       "version_major": 2,
       "version_minor": 0
      },
      "text/plain": [
       "HBox(children=(FloatProgress(value=0.0, description='Training', layout=Layout(flex='2'), max=1250.0, style=Pro…"
      ]
     },
     "metadata": {},
     "output_type": "display_data"
    },
    {
     "name": "stdout",
     "output_type": "stream",
     "text": [
      "Epoch 3358: train=7.73155, val=7.82025, took 31.296 s\n",
      "  Validation Found 51292 of 54504, added 1827 (eff 94.11%) (0.183 FP/event)\n"
     ]
    },
    {
     "data": {
      "application/vnd.jupyter.widget-view+json": {
       "model_id": "",
       "version_major": 2,
       "version_minor": 0
      },
      "text/plain": [
       "HBox(children=(FloatProgress(value=0.0, description='Training', layout=Layout(flex='2'), max=1250.0, style=Pro…"
      ]
     },
     "metadata": {},
     "output_type": "display_data"
    },
    {
     "name": "stdout",
     "output_type": "stream",
     "text": [
      "Epoch 3359: train=7.73051, val=7.82244, took 31.459 s\n",
      "  Validation Found 51291 of 54504, added 1839 (eff 94.11%) (0.184 FP/event)\n"
     ]
    },
    {
     "data": {
      "application/vnd.jupyter.widget-view+json": {
       "model_id": "",
       "version_major": 2,
       "version_minor": 0
      },
      "text/plain": [
       "HBox(children=(FloatProgress(value=0.0, description='Training', layout=Layout(flex='2'), max=1250.0, style=Pro…"
      ]
     },
     "metadata": {},
     "output_type": "display_data"
    },
    {
     "name": "stdout",
     "output_type": "stream",
     "text": [
      "Epoch 3360: train=7.73104, val=7.81927, took 31.208 s\n",
      "  Validation Found 51262 of 54504, added 1812 (eff 94.05%) (0.181 FP/event)\n"
     ]
    },
    {
     "data": {
      "application/vnd.jupyter.widget-view+json": {
       "model_id": "",
       "version_major": 2,
       "version_minor": 0
      },
      "text/plain": [
       "HBox(children=(FloatProgress(value=0.0, description='Training', layout=Layout(flex='2'), max=1250.0, style=Pro…"
      ]
     },
     "metadata": {},
     "output_type": "display_data"
    },
    {
     "name": "stdout",
     "output_type": "stream",
     "text": [
      "Epoch 3361: train=7.72968, val=7.81824, took 31.495 s\n",
      "  Validation Found 51267 of 54504, added 1832 (eff 94.06%) (0.183 FP/event)\n"
     ]
    },
    {
     "data": {
      "application/vnd.jupyter.widget-view+json": {
       "model_id": "",
       "version_major": 2,
       "version_minor": 0
      },
      "text/plain": [
       "HBox(children=(FloatProgress(value=0.0, description='Training', layout=Layout(flex='2'), max=1250.0, style=Pro…"
      ]
     },
     "metadata": {},
     "output_type": "display_data"
    },
    {
     "name": "stdout",
     "output_type": "stream",
     "text": [
      "Epoch 3362: train=7.7299, val=7.83563, took 31.405 s\n",
      "  Validation Found 51260 of 54504, added 1814 (eff 94.05%) (0.182 FP/event)\n"
     ]
    },
    {
     "data": {
      "application/vnd.jupyter.widget-view+json": {
       "model_id": "",
       "version_major": 2,
       "version_minor": 0
      },
      "text/plain": [
       "HBox(children=(FloatProgress(value=0.0, description='Training', layout=Layout(flex='2'), max=1250.0, style=Pro…"
      ]
     },
     "metadata": {},
     "output_type": "display_data"
    },
    {
     "name": "stdout",
     "output_type": "stream",
     "text": [
      "Epoch 3363: train=7.72916, val=7.80486, took 31.583 s\n",
      "  Validation Found 51319 of 54504, added 1887 (eff 94.16%) (0.189 FP/event)\n"
     ]
    },
    {
     "data": {
      "application/vnd.jupyter.widget-view+json": {
       "model_id": "",
       "version_major": 2,
       "version_minor": 0
      },
      "text/plain": [
       "HBox(children=(FloatProgress(value=0.0, description='Training', layout=Layout(flex='2'), max=1250.0, style=Pro…"
      ]
     },
     "metadata": {},
     "output_type": "display_data"
    },
    {
     "name": "stdout",
     "output_type": "stream",
     "text": [
      "Epoch 3364: train=7.73173, val=7.80236, took 31.178 s\n",
      "  Validation Found 51289 of 54504, added 1846 (eff 94.10%) (0.185 FP/event)\n"
     ]
    },
    {
     "data": {
      "application/vnd.jupyter.widget-view+json": {
       "model_id": "",
       "version_major": 2,
       "version_minor": 0
      },
      "text/plain": [
       "HBox(children=(FloatProgress(value=0.0, description='Training', layout=Layout(flex='2'), max=1250.0, style=Pro…"
      ]
     },
     "metadata": {},
     "output_type": "display_data"
    },
    {
     "name": "stdout",
     "output_type": "stream",
     "text": [
      "Epoch 3365: train=7.73223, val=7.79757, took 31.393 s\n",
      "  Validation Found 51308 of 54504, added 1859 (eff 94.14%) (0.186 FP/event)\n"
     ]
    },
    {
     "data": {
      "application/vnd.jupyter.widget-view+json": {
       "model_id": "",
       "version_major": 2,
       "version_minor": 0
      },
      "text/plain": [
       "HBox(children=(FloatProgress(value=0.0, description='Training', layout=Layout(flex='2'), max=1250.0, style=Pro…"
      ]
     },
     "metadata": {},
     "output_type": "display_data"
    },
    {
     "name": "stdout",
     "output_type": "stream",
     "text": [
      "Epoch 3366: train=7.73173, val=7.8185, took 31.487 s\n",
      "  Validation Found 51300 of 54504, added 1855 (eff 94.12%) (0.186 FP/event)\n"
     ]
    },
    {
     "data": {
      "application/vnd.jupyter.widget-view+json": {
       "model_id": "",
       "version_major": 2,
       "version_minor": 0
      },
      "text/plain": [
       "HBox(children=(FloatProgress(value=0.0, description='Training', layout=Layout(flex='2'), max=1250.0, style=Pro…"
      ]
     },
     "metadata": {},
     "output_type": "display_data"
    },
    {
     "name": "stdout",
     "output_type": "stream",
     "text": [
      "Epoch 3367: train=7.72915, val=7.79555, took 31.108 s\n",
      "  Validation Found 51322 of 54504, added 1898 (eff 94.16%) (0.19 FP/event)\n"
     ]
    },
    {
     "data": {
      "application/vnd.jupyter.widget-view+json": {
       "model_id": "",
       "version_major": 2,
       "version_minor": 0
      },
      "text/plain": [
       "HBox(children=(FloatProgress(value=0.0, description='Training', layout=Layout(flex='2'), max=1250.0, style=Pro…"
      ]
     },
     "metadata": {},
     "output_type": "display_data"
    },
    {
     "name": "stdout",
     "output_type": "stream",
     "text": [
      "Epoch 3368: train=7.73097, val=7.832, took 31.237 s\n",
      "  Validation Found 51294 of 54504, added 1871 (eff 94.11%) (0.187 FP/event)\n"
     ]
    },
    {
     "data": {
      "application/vnd.jupyter.widget-view+json": {
       "model_id": "",
       "version_major": 2,
       "version_minor": 0
      },
      "text/plain": [
       "HBox(children=(FloatProgress(value=0.0, description='Training', layout=Layout(flex='2'), max=1250.0, style=Pro…"
      ]
     },
     "metadata": {},
     "output_type": "display_data"
    },
    {
     "name": "stdout",
     "output_type": "stream",
     "text": [
      "Epoch 3369: train=7.72948, val=7.79973, took 31.33 s\n",
      "  Validation Found 51339 of 54504, added 1909 (eff 94.19%) (0.191 FP/event)\n"
     ]
    },
    {
     "data": {
      "application/vnd.jupyter.widget-view+json": {
       "model_id": "",
       "version_major": 2,
       "version_minor": 0
      },
      "text/plain": [
       "HBox(children=(FloatProgress(value=0.0, description='Training', layout=Layout(flex='2'), max=1250.0, style=Pro…"
      ]
     },
     "metadata": {},
     "output_type": "display_data"
    },
    {
     "name": "stdout",
     "output_type": "stream",
     "text": [
      "Epoch 3370: train=7.73064, val=7.83031, took 31.181 s\n",
      "  Validation Found 51263 of 54504, added 1826 (eff 94.05%) (0.183 FP/event)\n"
     ]
    },
    {
     "data": {
      "application/vnd.jupyter.widget-view+json": {
       "model_id": "",
       "version_major": 2,
       "version_minor": 0
      },
      "text/plain": [
       "HBox(children=(FloatProgress(value=0.0, description='Training', layout=Layout(flex='2'), max=1250.0, style=Pro…"
      ]
     },
     "metadata": {},
     "output_type": "display_data"
    },
    {
     "name": "stdout",
     "output_type": "stream",
     "text": [
      "Epoch 3371: train=7.72942, val=7.83259, took 31.293 s\n",
      "  Validation Found 51265 of 54504, added 1827 (eff 94.06%) (0.183 FP/event)\n"
     ]
    },
    {
     "data": {
      "application/vnd.jupyter.widget-view+json": {
       "model_id": "",
       "version_major": 2,
       "version_minor": 0
      },
      "text/plain": [
       "HBox(children=(FloatProgress(value=0.0, description='Training', layout=Layout(flex='2'), max=1250.0, style=Pro…"
      ]
     },
     "metadata": {},
     "output_type": "display_data"
    },
    {
     "name": "stdout",
     "output_type": "stream",
     "text": [
      "Epoch 3372: train=7.73254, val=7.80618, took 31.397 s\n",
      "  Validation Found 51290 of 54504, added 1841 (eff 94.10%) (0.184 FP/event)\n"
     ]
    },
    {
     "data": {
      "application/vnd.jupyter.widget-view+json": {
       "model_id": "",
       "version_major": 2,
       "version_minor": 0
      },
      "text/plain": [
       "HBox(children=(FloatProgress(value=0.0, description='Training', layout=Layout(flex='2'), max=1250.0, style=Pro…"
      ]
     },
     "metadata": {},
     "output_type": "display_data"
    },
    {
     "name": "stdout",
     "output_type": "stream",
     "text": [
      "Epoch 3373: train=7.73139, val=7.80552, took 31.205 s\n",
      "  Validation Found 51325 of 54504, added 1874 (eff 94.17%) (0.188 FP/event)\n"
     ]
    },
    {
     "data": {
      "application/vnd.jupyter.widget-view+json": {
       "model_id": "",
       "version_major": 2,
       "version_minor": 0
      },
      "text/plain": [
       "HBox(children=(FloatProgress(value=0.0, description='Training', layout=Layout(flex='2'), max=1250.0, style=Pro…"
      ]
     },
     "metadata": {},
     "output_type": "display_data"
    },
    {
     "name": "stdout",
     "output_type": "stream",
     "text": [
      "Epoch 3374: train=7.7297, val=7.81201, took 31.324 s\n",
      "  Validation Found 51283 of 54504, added 1827 (eff 94.09%) (0.183 FP/event)\n"
     ]
    },
    {
     "data": {
      "application/vnd.jupyter.widget-view+json": {
       "model_id": "",
       "version_major": 2,
       "version_minor": 0
      },
      "text/plain": [
       "HBox(children=(FloatProgress(value=0.0, description='Training', layout=Layout(flex='2'), max=1250.0, style=Pro…"
      ]
     },
     "metadata": {},
     "output_type": "display_data"
    },
    {
     "name": "stdout",
     "output_type": "stream",
     "text": [
      "Epoch 3375: train=7.73198, val=7.80723, took 31.413 s\n",
      "  Validation Found 51308 of 54504, added 1878 (eff 94.14%) (0.188 FP/event)\n"
     ]
    },
    {
     "data": {
      "application/vnd.jupyter.widget-view+json": {
       "model_id": "",
       "version_major": 2,
       "version_minor": 0
      },
      "text/plain": [
       "HBox(children=(FloatProgress(value=0.0, description='Training', layout=Layout(flex='2'), max=1250.0, style=Pro…"
      ]
     },
     "metadata": {},
     "output_type": "display_data"
    },
    {
     "name": "stdout",
     "output_type": "stream",
     "text": [
      "Epoch 3376: train=7.73496, val=7.81725, took 31.465 s\n",
      "  Validation Found 51318 of 54504, added 1872 (eff 94.15%) (0.187 FP/event)\n"
     ]
    },
    {
     "data": {
      "application/vnd.jupyter.widget-view+json": {
       "model_id": "",
       "version_major": 2,
       "version_minor": 0
      },
      "text/plain": [
       "HBox(children=(FloatProgress(value=0.0, description='Training', layout=Layout(flex='2'), max=1250.0, style=Pro…"
      ]
     },
     "metadata": {},
     "output_type": "display_data"
    },
    {
     "name": "stdout",
     "output_type": "stream",
     "text": [
      "Epoch 3377: train=7.72921, val=7.82649, took 31.334 s\n",
      "  Validation Found 51279 of 54504, added 1826 (eff 94.08%) (0.183 FP/event)\n"
     ]
    },
    {
     "data": {
      "application/vnd.jupyter.widget-view+json": {
       "model_id": "",
       "version_major": 2,
       "version_minor": 0
      },
      "text/plain": [
       "HBox(children=(FloatProgress(value=0.0, description='Training', layout=Layout(flex='2'), max=1250.0, style=Pro…"
      ]
     },
     "metadata": {},
     "output_type": "display_data"
    },
    {
     "name": "stdout",
     "output_type": "stream",
     "text": [
      "Epoch 3378: train=7.72596, val=7.82277, took 31.286 s\n",
      "  Validation Found 51299 of 54504, added 1848 (eff 94.12%) (0.185 FP/event)\n"
     ]
    },
    {
     "data": {
      "application/vnd.jupyter.widget-view+json": {
       "model_id": "",
       "version_major": 2,
       "version_minor": 0
      },
      "text/plain": [
       "HBox(children=(FloatProgress(value=0.0, description='Training', layout=Layout(flex='2'), max=1250.0, style=Pro…"
      ]
     },
     "metadata": {},
     "output_type": "display_data"
    },
    {
     "name": "stdout",
     "output_type": "stream",
     "text": [
      "Epoch 3379: train=7.72885, val=7.80485, took 31.708 s\n",
      "  Validation Found 51331 of 54504, added 1886 (eff 94.18%) (0.189 FP/event)\n"
     ]
    },
    {
     "data": {
      "application/vnd.jupyter.widget-view+json": {
       "model_id": "",
       "version_major": 2,
       "version_minor": 0
      },
      "text/plain": [
       "HBox(children=(FloatProgress(value=0.0, description='Training', layout=Layout(flex='2'), max=1250.0, style=Pro…"
      ]
     },
     "metadata": {},
     "output_type": "display_data"
    },
    {
     "name": "stdout",
     "output_type": "stream",
     "text": [
      "Epoch 3380: train=7.73029, val=7.80646, took 31.247 s\n",
      "  Validation Found 51270 of 54504, added 1824 (eff 94.07%) (0.183 FP/event)\n"
     ]
    },
    {
     "data": {
      "application/vnd.jupyter.widget-view+json": {
       "model_id": "",
       "version_major": 2,
       "version_minor": 0
      },
      "text/plain": [
       "HBox(children=(FloatProgress(value=0.0, description='Training', layout=Layout(flex='2'), max=1250.0, style=Pro…"
      ]
     },
     "metadata": {},
     "output_type": "display_data"
    },
    {
     "name": "stdout",
     "output_type": "stream",
     "text": [
      "Epoch 3381: train=7.73421, val=7.81929, took 31.325 s\n",
      "  Validation Found 51276 of 54504, added 1827 (eff 94.08%) (0.183 FP/event)\n"
     ]
    },
    {
     "data": {
      "application/vnd.jupyter.widget-view+json": {
       "model_id": "",
       "version_major": 2,
       "version_minor": 0
      },
      "text/plain": [
       "HBox(children=(FloatProgress(value=0.0, description='Training', layout=Layout(flex='2'), max=1250.0, style=Pro…"
      ]
     },
     "metadata": {},
     "output_type": "display_data"
    },
    {
     "name": "stdout",
     "output_type": "stream",
     "text": [
      "Epoch 3382: train=7.72825, val=7.82933, took 31.31 s\n",
      "  Validation Found 51286 of 54504, added 1806 (eff 94.10%) (0.181 FP/event)\n"
     ]
    },
    {
     "data": {
      "application/vnd.jupyter.widget-view+json": {
       "model_id": "",
       "version_major": 2,
       "version_minor": 0
      },
      "text/plain": [
       "HBox(children=(FloatProgress(value=0.0, description='Training', layout=Layout(flex='2'), max=1250.0, style=Pro…"
      ]
     },
     "metadata": {},
     "output_type": "display_data"
    },
    {
     "name": "stdout",
     "output_type": "stream",
     "text": [
      "Epoch 3383: train=7.73031, val=7.83919, took 31.756 s\n",
      "  Validation Found 51218 of 54504, added 1741 (eff 93.97%) (0.174 FP/event)\n"
     ]
    },
    {
     "data": {
      "application/vnd.jupyter.widget-view+json": {
       "model_id": "",
       "version_major": 2,
       "version_minor": 0
      },
      "text/plain": [
       "HBox(children=(FloatProgress(value=0.0, description='Training', layout=Layout(flex='2'), max=1250.0, style=Pro…"
      ]
     },
     "metadata": {},
     "output_type": "display_data"
    },
    {
     "name": "stdout",
     "output_type": "stream",
     "text": [
      "Epoch 3384: train=7.72717, val=7.82811, took 31.332 s\n",
      "  Validation Found 51273 of 54504, added 1825 (eff 94.07%) (0.183 FP/event)\n"
     ]
    },
    {
     "data": {
      "application/vnd.jupyter.widget-view+json": {
       "model_id": "",
       "version_major": 2,
       "version_minor": 0
      },
      "text/plain": [
       "HBox(children=(FloatProgress(value=0.0, description='Training', layout=Layout(flex='2'), max=1250.0, style=Pro…"
      ]
     },
     "metadata": {},
     "output_type": "display_data"
    },
    {
     "name": "stdout",
     "output_type": "stream",
     "text": [
      "Epoch 3385: train=7.72928, val=7.8209, took 31.501 s\n",
      "  Validation Found 51291 of 54504, added 1820 (eff 94.11%) (0.182 FP/event)\n"
     ]
    },
    {
     "data": {
      "application/vnd.jupyter.widget-view+json": {
       "model_id": "",
       "version_major": 2,
       "version_minor": 0
      },
      "text/plain": [
       "HBox(children=(FloatProgress(value=0.0, description='Training', layout=Layout(flex='2'), max=1250.0, style=Pro…"
      ]
     },
     "metadata": {},
     "output_type": "display_data"
    },
    {
     "name": "stdout",
     "output_type": "stream",
     "text": [
      "Epoch 3386: train=7.72769, val=7.82838, took 31.514 s\n",
      "  Validation Found 51270 of 54504, added 1833 (eff 94.07%) (0.184 FP/event)\n"
     ]
    },
    {
     "data": {
      "application/vnd.jupyter.widget-view+json": {
       "model_id": "",
       "version_major": 2,
       "version_minor": 0
      },
      "text/plain": [
       "HBox(children=(FloatProgress(value=0.0, description='Training', layout=Layout(flex='2'), max=1250.0, style=Pro…"
      ]
     },
     "metadata": {},
     "output_type": "display_data"
    },
    {
     "name": "stdout",
     "output_type": "stream",
     "text": [
      "Epoch 3387: train=7.7312, val=7.8113, took 31.279 s\n",
      "  Validation Found 51295 of 54504, added 1860 (eff 94.11%) (0.186 FP/event)\n"
     ]
    },
    {
     "data": {
      "application/vnd.jupyter.widget-view+json": {
       "model_id": "",
       "version_major": 2,
       "version_minor": 0
      },
      "text/plain": [
       "HBox(children=(FloatProgress(value=0.0, description='Training', layout=Layout(flex='2'), max=1250.0, style=Pro…"
      ]
     },
     "metadata": {},
     "output_type": "display_data"
    },
    {
     "name": "stdout",
     "output_type": "stream",
     "text": [
      "Epoch 3388: train=7.72927, val=7.81536, took 31.353 s\n",
      "  Validation Found 51282 of 54504, added 1839 (eff 94.09%) (0.184 FP/event)\n"
     ]
    },
    {
     "data": {
      "application/vnd.jupyter.widget-view+json": {
       "model_id": "",
       "version_major": 2,
       "version_minor": 0
      },
      "text/plain": [
       "HBox(children=(FloatProgress(value=0.0, description='Training', layout=Layout(flex='2'), max=1250.0, style=Pro…"
      ]
     },
     "metadata": {},
     "output_type": "display_data"
    },
    {
     "name": "stdout",
     "output_type": "stream",
     "text": [
      "Epoch 3389: train=7.73111, val=7.78601, took 31.518 s\n",
      "  Validation Found 51322 of 54504, added 1883 (eff 94.16%) (0.189 FP/event)\n"
     ]
    },
    {
     "data": {
      "application/vnd.jupyter.widget-view+json": {
       "model_id": "",
       "version_major": 2,
       "version_minor": 0
      },
      "text/plain": [
       "HBox(children=(FloatProgress(value=0.0, description='Training', layout=Layout(flex='2'), max=1250.0, style=Pro…"
      ]
     },
     "metadata": {},
     "output_type": "display_data"
    },
    {
     "name": "stdout",
     "output_type": "stream",
     "text": [
      "Epoch 3390: train=7.72506, val=7.84277, took 31.125 s\n",
      "  Validation Found 51256 of 54504, added 1814 (eff 94.04%) (0.182 FP/event)\n"
     ]
    },
    {
     "data": {
      "application/vnd.jupyter.widget-view+json": {
       "model_id": "",
       "version_major": 2,
       "version_minor": 0
      },
      "text/plain": [
       "HBox(children=(FloatProgress(value=0.0, description='Training', layout=Layout(flex='2'), max=1250.0, style=Pro…"
      ]
     },
     "metadata": {},
     "output_type": "display_data"
    },
    {
     "name": "stdout",
     "output_type": "stream",
     "text": [
      "Epoch 3391: train=7.72501, val=7.79611, took 31.376 s\n",
      "  Validation Found 51349 of 54504, added 1906 (eff 94.21%) (0.191 FP/event)\n"
     ]
    },
    {
     "data": {
      "application/vnd.jupyter.widget-view+json": {
       "model_id": "",
       "version_major": 2,
       "version_minor": 0
      },
      "text/plain": [
       "HBox(children=(FloatProgress(value=0.0, description='Training', layout=Layout(flex='2'), max=1250.0, style=Pro…"
      ]
     },
     "metadata": {},
     "output_type": "display_data"
    },
    {
     "name": "stdout",
     "output_type": "stream",
     "text": [
      "Epoch 3392: train=7.7285, val=7.79711, took 31.243 s\n",
      "  Validation Found 51354 of 54504, added 1912 (eff 94.22%) (0.191 FP/event)\n"
     ]
    },
    {
     "data": {
      "application/vnd.jupyter.widget-view+json": {
       "model_id": "",
       "version_major": 2,
       "version_minor": 0
      },
      "text/plain": [
       "HBox(children=(FloatProgress(value=0.0, description='Training', layout=Layout(flex='2'), max=1250.0, style=Pro…"
      ]
     },
     "metadata": {},
     "output_type": "display_data"
    },
    {
     "name": "stdout",
     "output_type": "stream",
     "text": [
      "Epoch 3393: train=7.73165, val=7.83074, took 31.234 s\n",
      "  Validation Found 51277 of 54504, added 1820 (eff 94.08%) (0.182 FP/event)\n"
     ]
    },
    {
     "data": {
      "application/vnd.jupyter.widget-view+json": {
       "model_id": "",
       "version_major": 2,
       "version_minor": 0
      },
      "text/plain": [
       "HBox(children=(FloatProgress(value=0.0, description='Training', layout=Layout(flex='2'), max=1250.0, style=Pro…"
      ]
     },
     "metadata": {},
     "output_type": "display_data"
    },
    {
     "name": "stdout",
     "output_type": "stream",
     "text": [
      "Epoch 3394: train=7.73099, val=7.80077, took 31.301 s\n",
      "  Validation Found 51327 of 54504, added 1899 (eff 94.17%) (0.19 FP/event)\n"
     ]
    },
    {
     "data": {
      "application/vnd.jupyter.widget-view+json": {
       "model_id": "",
       "version_major": 2,
       "version_minor": 0
      },
      "text/plain": [
       "HBox(children=(FloatProgress(value=0.0, description='Training', layout=Layout(flex='2'), max=1250.0, style=Pro…"
      ]
     },
     "metadata": {},
     "output_type": "display_data"
    },
    {
     "name": "stdout",
     "output_type": "stream",
     "text": [
      "Epoch 3395: train=7.73235, val=7.8151, took 31.38 s\n",
      "  Validation Found 51350 of 54504, added 1918 (eff 94.21%) (0.192 FP/event)\n"
     ]
    },
    {
     "data": {
      "application/vnd.jupyter.widget-view+json": {
       "model_id": "",
       "version_major": 2,
       "version_minor": 0
      },
      "text/plain": [
       "HBox(children=(FloatProgress(value=0.0, description='Training', layout=Layout(flex='2'), max=1250.0, style=Pro…"
      ]
     },
     "metadata": {},
     "output_type": "display_data"
    },
    {
     "name": "stdout",
     "output_type": "stream",
     "text": [
      "Epoch 3396: train=7.72967, val=7.80937, took 31.515 s\n",
      "  Validation Found 51323 of 54504, added 1838 (eff 94.16%) (0.184 FP/event)\n"
     ]
    },
    {
     "data": {
      "application/vnd.jupyter.widget-view+json": {
       "model_id": "",
       "version_major": 2,
       "version_minor": 0
      },
      "text/plain": [
       "HBox(children=(FloatProgress(value=0.0, description='Training', layout=Layout(flex='2'), max=1250.0, style=Pro…"
      ]
     },
     "metadata": {},
     "output_type": "display_data"
    },
    {
     "name": "stdout",
     "output_type": "stream",
     "text": [
      "Epoch 3397: train=7.72955, val=7.8109, took 31.346 s\n",
      "  Validation Found 51306 of 54504, added 1866 (eff 94.13%) (0.187 FP/event)\n"
     ]
    },
    {
     "data": {
      "application/vnd.jupyter.widget-view+json": {
       "model_id": "",
       "version_major": 2,
       "version_minor": 0
      },
      "text/plain": [
       "HBox(children=(FloatProgress(value=0.0, description='Training', layout=Layout(flex='2'), max=1250.0, style=Pro…"
      ]
     },
     "metadata": {},
     "output_type": "display_data"
    },
    {
     "name": "stdout",
     "output_type": "stream",
     "text": [
      "Epoch 3398: train=7.72578, val=7.80296, took 31.274 s\n",
      "  Validation Found 51289 of 54504, added 1857 (eff 94.10%) (0.186 FP/event)\n"
     ]
    },
    {
     "data": {
      "application/vnd.jupyter.widget-view+json": {
       "model_id": "",
       "version_major": 2,
       "version_minor": 0
      },
      "text/plain": [
       "HBox(children=(FloatProgress(value=0.0, description='Training', layout=Layout(flex='2'), max=1250.0, style=Pro…"
      ]
     },
     "metadata": {},
     "output_type": "display_data"
    },
    {
     "name": "stdout",
     "output_type": "stream",
     "text": [
      "Epoch 3399: train=7.73164, val=7.79067, took 31.388 s\n",
      "  Validation Found 51360 of 54504, added 1958 (eff 94.23%) (0.196 FP/event)\n"
     ]
    },
    {
     "data": {
      "application/vnd.jupyter.widget-view+json": {
       "model_id": "",
       "version_major": 2,
       "version_minor": 0
      },
      "text/plain": [
       "HBox(children=(FloatProgress(value=0.0, description='Training', layout=Layout(flex='2'), max=1250.0, style=Pro…"
      ]
     },
     "metadata": {},
     "output_type": "display_data"
    },
    {
     "name": "stdout",
     "output_type": "stream",
     "text": [
      "Epoch 3400: train=7.72859, val=7.82243, took 31.237 s\n",
      "  Validation Found 51274 of 54504, added 1805 (eff 94.07%) (0.181 FP/event)\n"
     ]
    },
    {
     "data": {
      "application/vnd.jupyter.widget-view+json": {
       "model_id": "",
       "version_major": 2,
       "version_minor": 0
      },
      "text/plain": [
       "HBox(children=(FloatProgress(value=0.0, description='Training', layout=Layout(flex='2'), max=1250.0, style=Pro…"
      ]
     },
     "metadata": {},
     "output_type": "display_data"
    },
    {
     "name": "stdout",
     "output_type": "stream",
     "text": [
      "Epoch 3401: train=7.72995, val=7.78395, took 31.94 s\n",
      "  Validation Found 51345 of 54504, added 1887 (eff 94.20%) (0.189 FP/event)\n"
     ]
    },
    {
     "data": {
      "application/vnd.jupyter.widget-view+json": {
       "model_id": "",
       "version_major": 2,
       "version_minor": 0
      },
      "text/plain": [
       "HBox(children=(FloatProgress(value=0.0, description='Training', layout=Layout(flex='2'), max=1250.0, style=Pro…"
      ]
     },
     "metadata": {},
     "output_type": "display_data"
    },
    {
     "name": "stdout",
     "output_type": "stream",
     "text": [
      "Epoch 3402: train=7.73057, val=7.82035, took 31.798 s\n",
      "  Validation Found 51273 of 54504, added 1819 (eff 94.07%) (0.182 FP/event)\n"
     ]
    },
    {
     "data": {
      "application/vnd.jupyter.widget-view+json": {
       "model_id": "",
       "version_major": 2,
       "version_minor": 0
      },
      "text/plain": [
       "HBox(children=(FloatProgress(value=0.0, description='Training', layout=Layout(flex='2'), max=1250.0, style=Pro…"
      ]
     },
     "metadata": {},
     "output_type": "display_data"
    },
    {
     "name": "stdout",
     "output_type": "stream",
     "text": [
      "Epoch 3403: train=7.72834, val=7.83909, took 31.448 s\n",
      "  Validation Found 51242 of 54504, added 1756 (eff 94.02%) (0.176 FP/event)\n"
     ]
    },
    {
     "data": {
      "application/vnd.jupyter.widget-view+json": {
       "model_id": "",
       "version_major": 2,
       "version_minor": 0
      },
      "text/plain": [
       "HBox(children=(FloatProgress(value=0.0, description='Training', layout=Layout(flex='2'), max=1250.0, style=Pro…"
      ]
     },
     "metadata": {},
     "output_type": "display_data"
    },
    {
     "name": "stdout",
     "output_type": "stream",
     "text": [
      "Epoch 3404: train=7.72737, val=7.79188, took 31.305 s\n",
      "  Validation Found 51315 of 54504, added 1875 (eff 94.15%) (0.188 FP/event)\n"
     ]
    },
    {
     "data": {
      "application/vnd.jupyter.widget-view+json": {
       "model_id": "",
       "version_major": 2,
       "version_minor": 0
      },
      "text/plain": [
       "HBox(children=(FloatProgress(value=0.0, description='Training', layout=Layout(flex='2'), max=1250.0, style=Pro…"
      ]
     },
     "metadata": {},
     "output_type": "display_data"
    },
    {
     "name": "stdout",
     "output_type": "stream",
     "text": [
      "Epoch 3405: train=7.72895, val=7.83027, took 31.289 s\n",
      "  Validation Found 51266 of 54504, added 1816 (eff 94.06%) (0.182 FP/event)\n"
     ]
    },
    {
     "data": {
      "application/vnd.jupyter.widget-view+json": {
       "model_id": "",
       "version_major": 2,
       "version_minor": 0
      },
      "text/plain": [
       "HBox(children=(FloatProgress(value=0.0, description='Training', layout=Layout(flex='2'), max=1250.0, style=Pro…"
      ]
     },
     "metadata": {},
     "output_type": "display_data"
    },
    {
     "name": "stdout",
     "output_type": "stream",
     "text": [
      "Epoch 3406: train=7.73327, val=7.80217, took 31.181 s\n",
      "  Validation Found 51342 of 54504, added 1882 (eff 94.20%) (0.188 FP/event)\n"
     ]
    },
    {
     "data": {
      "application/vnd.jupyter.widget-view+json": {
       "model_id": "",
       "version_major": 2,
       "version_minor": 0
      },
      "text/plain": [
       "HBox(children=(FloatProgress(value=0.0, description='Training', layout=Layout(flex='2'), max=1250.0, style=Pro…"
      ]
     },
     "metadata": {},
     "output_type": "display_data"
    },
    {
     "name": "stdout",
     "output_type": "stream",
     "text": [
      "Epoch 3407: train=7.73142, val=7.80722, took 31.332 s\n",
      "  Validation Found 51303 of 54504, added 1843 (eff 94.13%) (0.185 FP/event)\n"
     ]
    },
    {
     "data": {
      "application/vnd.jupyter.widget-view+json": {
       "model_id": "",
       "version_major": 2,
       "version_minor": 0
      },
      "text/plain": [
       "HBox(children=(FloatProgress(value=0.0, description='Training', layout=Layout(flex='2'), max=1250.0, style=Pro…"
      ]
     },
     "metadata": {},
     "output_type": "display_data"
    },
    {
     "name": "stdout",
     "output_type": "stream",
     "text": [
      "Epoch 3408: train=7.73097, val=7.83257, took 31.151 s\n",
      "  Validation Found 51243 of 54504, added 1757 (eff 94.02%) (0.176 FP/event)\n"
     ]
    },
    {
     "data": {
      "application/vnd.jupyter.widget-view+json": {
       "model_id": "",
       "version_major": 2,
       "version_minor": 0
      },
      "text/plain": [
       "HBox(children=(FloatProgress(value=0.0, description='Training', layout=Layout(flex='2'), max=1250.0, style=Pro…"
      ]
     },
     "metadata": {},
     "output_type": "display_data"
    },
    {
     "name": "stdout",
     "output_type": "stream",
     "text": [
      "Epoch 3409: train=7.7287, val=7.80546, took 31.413 s\n",
      "  Validation Found 51345 of 54504, added 1894 (eff 94.20%) (0.19 FP/event)\n"
     ]
    },
    {
     "data": {
      "application/vnd.jupyter.widget-view+json": {
       "model_id": "",
       "version_major": 2,
       "version_minor": 0
      },
      "text/plain": [
       "HBox(children=(FloatProgress(value=0.0, description='Training', layout=Layout(flex='2'), max=1250.0, style=Pro…"
      ]
     },
     "metadata": {},
     "output_type": "display_data"
    },
    {
     "name": "stdout",
     "output_type": "stream",
     "text": [
      "Epoch 3410: train=7.72789, val=7.82066, took 31.374 s\n",
      "  Validation Found 51257 of 54504, added 1747 (eff 94.04%) (0.175 FP/event)\n"
     ]
    },
    {
     "data": {
      "application/vnd.jupyter.widget-view+json": {
       "model_id": "",
       "version_major": 2,
       "version_minor": 0
      },
      "text/plain": [
       "HBox(children=(FloatProgress(value=0.0, description='Training', layout=Layout(flex='2'), max=1250.0, style=Pro…"
      ]
     },
     "metadata": {},
     "output_type": "display_data"
    },
    {
     "name": "stdout",
     "output_type": "stream",
     "text": [
      "Epoch 3411: train=7.7298, val=7.80278, took 31.245 s\n",
      "  Validation Found 51313 of 54504, added 1864 (eff 94.15%) (0.187 FP/event)\n"
     ]
    },
    {
     "data": {
      "application/vnd.jupyter.widget-view+json": {
       "model_id": "",
       "version_major": 2,
       "version_minor": 0
      },
      "text/plain": [
       "HBox(children=(FloatProgress(value=0.0, description='Training', layout=Layout(flex='2'), max=1250.0, style=Pro…"
      ]
     },
     "metadata": {},
     "output_type": "display_data"
    },
    {
     "name": "stdout",
     "output_type": "stream",
     "text": [
      "Epoch 3412: train=7.72871, val=7.81581, took 31.527 s\n",
      "  Validation Found 51277 of 54504, added 1831 (eff 94.08%) (0.183 FP/event)\n"
     ]
    },
    {
     "data": {
      "application/vnd.jupyter.widget-view+json": {
       "model_id": "",
       "version_major": 2,
       "version_minor": 0
      },
      "text/plain": [
       "HBox(children=(FloatProgress(value=0.0, description='Training', layout=Layout(flex='2'), max=1250.0, style=Pro…"
      ]
     },
     "metadata": {},
     "output_type": "display_data"
    },
    {
     "name": "stdout",
     "output_type": "stream",
     "text": [
      "Epoch 3413: train=7.73167, val=7.81737, took 31.378 s\n",
      "  Validation Found 51292 of 54504, added 1846 (eff 94.11%) (0.185 FP/event)\n"
     ]
    },
    {
     "data": {
      "application/vnd.jupyter.widget-view+json": {
       "model_id": "",
       "version_major": 2,
       "version_minor": 0
      },
      "text/plain": [
       "HBox(children=(FloatProgress(value=0.0, description='Training', layout=Layout(flex='2'), max=1250.0, style=Pro…"
      ]
     },
     "metadata": {},
     "output_type": "display_data"
    },
    {
     "name": "stdout",
     "output_type": "stream",
     "text": [
      "Epoch 3414: train=7.72602, val=7.79976, took 31.102 s\n",
      "  Validation Found 51339 of 54504, added 1897 (eff 94.19%) (0.19 FP/event)\n"
     ]
    },
    {
     "data": {
      "application/vnd.jupyter.widget-view+json": {
       "model_id": "",
       "version_major": 2,
       "version_minor": 0
      },
      "text/plain": [
       "HBox(children=(FloatProgress(value=0.0, description='Training', layout=Layout(flex='2'), max=1250.0, style=Pro…"
      ]
     },
     "metadata": {},
     "output_type": "display_data"
    },
    {
     "name": "stdout",
     "output_type": "stream",
     "text": [
      "Epoch 3415: train=7.72706, val=7.82307, took 31.382 s\n",
      "  Validation Found 51286 of 54504, added 1816 (eff 94.10%) (0.182 FP/event)\n"
     ]
    },
    {
     "data": {
      "application/vnd.jupyter.widget-view+json": {
       "model_id": "",
       "version_major": 2,
       "version_minor": 0
      },
      "text/plain": [
       "HBox(children=(FloatProgress(value=0.0, description='Training', layout=Layout(flex='2'), max=1250.0, style=Pro…"
      ]
     },
     "metadata": {},
     "output_type": "display_data"
    },
    {
     "name": "stdout",
     "output_type": "stream",
     "text": [
      "Epoch 3416: train=7.72771, val=7.84986, took 31.39 s\n",
      "  Validation Found 51239 of 54504, added 1770 (eff 94.01%) (0.177 FP/event)\n"
     ]
    },
    {
     "data": {
      "application/vnd.jupyter.widget-view+json": {
       "model_id": "",
       "version_major": 2,
       "version_minor": 0
      },
      "text/plain": [
       "HBox(children=(FloatProgress(value=0.0, description='Training', layout=Layout(flex='2'), max=1250.0, style=Pro…"
      ]
     },
     "metadata": {},
     "output_type": "display_data"
    },
    {
     "name": "stdout",
     "output_type": "stream",
     "text": [
      "Epoch 3417: train=7.72525, val=7.80189, took 31.379 s\n",
      "  Validation Found 51305 of 54504, added 1831 (eff 94.13%) (0.183 FP/event)\n"
     ]
    },
    {
     "data": {
      "application/vnd.jupyter.widget-view+json": {
       "model_id": "",
       "version_major": 2,
       "version_minor": 0
      },
      "text/plain": [
       "HBox(children=(FloatProgress(value=0.0, description='Training', layout=Layout(flex='2'), max=1250.0, style=Pro…"
      ]
     },
     "metadata": {},
     "output_type": "display_data"
    },
    {
     "name": "stdout",
     "output_type": "stream",
     "text": [
      "Epoch 3418: train=7.73147, val=7.81773, took 31.426 s\n",
      "  Validation Found 51293 of 54504, added 1814 (eff 94.11%) (0.182 FP/event)\n"
     ]
    },
    {
     "data": {
      "application/vnd.jupyter.widget-view+json": {
       "model_id": "",
       "version_major": 2,
       "version_minor": 0
      },
      "text/plain": [
       "HBox(children=(FloatProgress(value=0.0, description='Training', layout=Layout(flex='2'), max=1250.0, style=Pro…"
      ]
     },
     "metadata": {},
     "output_type": "display_data"
    },
    {
     "name": "stdout",
     "output_type": "stream",
     "text": [
      "Epoch 3419: train=7.7308, val=7.80979, took 31.608 s\n",
      "  Validation Found 51310 of 54504, added 1859 (eff 94.14%) (0.186 FP/event)\n"
     ]
    },
    {
     "data": {
      "application/vnd.jupyter.widget-view+json": {
       "model_id": "",
       "version_major": 2,
       "version_minor": 0
      },
      "text/plain": [
       "HBox(children=(FloatProgress(value=0.0, description='Training', layout=Layout(flex='2'), max=1250.0, style=Pro…"
      ]
     },
     "metadata": {},
     "output_type": "display_data"
    },
    {
     "name": "stdout",
     "output_type": "stream",
     "text": [
      "Epoch 3420: train=7.73015, val=7.80247, took 31.204 s\n",
      "  Validation Found 51326 of 54504, added 1889 (eff 94.17%) (0.189 FP/event)\n"
     ]
    },
    {
     "data": {
      "application/vnd.jupyter.widget-view+json": {
       "model_id": "",
       "version_major": 2,
       "version_minor": 0
      },
      "text/plain": [
       "HBox(children=(FloatProgress(value=0.0, description='Training', layout=Layout(flex='2'), max=1250.0, style=Pro…"
      ]
     },
     "metadata": {},
     "output_type": "display_data"
    },
    {
     "name": "stdout",
     "output_type": "stream",
     "text": [
      "Epoch 3421: train=7.72595, val=7.81093, took 31.221 s\n",
      "  Validation Found 51305 of 54504, added 1855 (eff 94.13%) (0.186 FP/event)\n"
     ]
    },
    {
     "data": {
      "application/vnd.jupyter.widget-view+json": {
       "model_id": "",
       "version_major": 2,
       "version_minor": 0
      },
      "text/plain": [
       "HBox(children=(FloatProgress(value=0.0, description='Training', layout=Layout(flex='2'), max=1250.0, style=Pro…"
      ]
     },
     "metadata": {},
     "output_type": "display_data"
    },
    {
     "name": "stdout",
     "output_type": "stream",
     "text": [
      "Epoch 3422: train=7.72784, val=7.79596, took 32.094 s\n",
      "  Validation Found 51344 of 54504, added 1907 (eff 94.20%) (0.191 FP/event)\n"
     ]
    },
    {
     "data": {
      "application/vnd.jupyter.widget-view+json": {
       "model_id": "",
       "version_major": 2,
       "version_minor": 0
      },
      "text/plain": [
       "HBox(children=(FloatProgress(value=0.0, description='Training', layout=Layout(flex='2'), max=1250.0, style=Pro…"
      ]
     },
     "metadata": {},
     "output_type": "display_data"
    },
    {
     "name": "stdout",
     "output_type": "stream",
     "text": [
      "Epoch 3423: train=7.73138, val=7.81099, took 31.415 s\n",
      "  Validation Found 51316 of 54504, added 1873 (eff 94.15%) (0.188 FP/event)\n"
     ]
    },
    {
     "data": {
      "application/vnd.jupyter.widget-view+json": {
       "model_id": "",
       "version_major": 2,
       "version_minor": 0
      },
      "text/plain": [
       "HBox(children=(FloatProgress(value=0.0, description='Training', layout=Layout(flex='2'), max=1250.0, style=Pro…"
      ]
     },
     "metadata": {},
     "output_type": "display_data"
    },
    {
     "name": "stdout",
     "output_type": "stream",
     "text": [
      "Epoch 3424: train=7.72936, val=7.78673, took 31.53 s\n",
      "  Validation Found 51368 of 54504, added 1917 (eff 94.25%) (0.192 FP/event)\n"
     ]
    },
    {
     "data": {
      "application/vnd.jupyter.widget-view+json": {
       "model_id": "",
       "version_major": 2,
       "version_minor": 0
      },
      "text/plain": [
       "HBox(children=(FloatProgress(value=0.0, description='Training', layout=Layout(flex='2'), max=1250.0, style=Pro…"
      ]
     },
     "metadata": {},
     "output_type": "display_data"
    },
    {
     "name": "stdout",
     "output_type": "stream",
     "text": [
      "Epoch 3425: train=7.73049, val=7.79293, took 31.98 s\n",
      "  Validation Found 51329 of 54504, added 1900 (eff 94.17%) (0.19 FP/event)\n"
     ]
    },
    {
     "data": {
      "application/vnd.jupyter.widget-view+json": {
       "model_id": "",
       "version_major": 2,
       "version_minor": 0
      },
      "text/plain": [
       "HBox(children=(FloatProgress(value=0.0, description='Training', layout=Layout(flex='2'), max=1250.0, style=Pro…"
      ]
     },
     "metadata": {},
     "output_type": "display_data"
    },
    {
     "name": "stdout",
     "output_type": "stream",
     "text": [
      "Epoch 3426: train=7.72624, val=7.8264, took 31.44 s\n",
      "  Validation Found 51259 of 54504, added 1784 (eff 94.05%) (0.179 FP/event)\n"
     ]
    },
    {
     "data": {
      "application/vnd.jupyter.widget-view+json": {
       "model_id": "",
       "version_major": 2,
       "version_minor": 0
      },
      "text/plain": [
       "HBox(children=(FloatProgress(value=0.0, description='Training', layout=Layout(flex='2'), max=1250.0, style=Pro…"
      ]
     },
     "metadata": {},
     "output_type": "display_data"
    },
    {
     "name": "stdout",
     "output_type": "stream",
     "text": [
      "Epoch 3427: train=7.73063, val=7.81017, took 31.121 s\n",
      "  Validation Found 51278 of 54504, added 1808 (eff 94.08%) (0.181 FP/event)\n"
     ]
    },
    {
     "data": {
      "application/vnd.jupyter.widget-view+json": {
       "model_id": "",
       "version_major": 2,
       "version_minor": 0
      },
      "text/plain": [
       "HBox(children=(FloatProgress(value=0.0, description='Training', layout=Layout(flex='2'), max=1250.0, style=Pro…"
      ]
     },
     "metadata": {},
     "output_type": "display_data"
    },
    {
     "name": "stdout",
     "output_type": "stream",
     "text": [
      "Epoch 3428: train=7.72683, val=7.8182, took 31.332 s\n",
      "  Validation Found 51288 of 54504, added 1865 (eff 94.10%) (0.187 FP/event)\n"
     ]
    },
    {
     "data": {
      "application/vnd.jupyter.widget-view+json": {
       "model_id": "",
       "version_major": 2,
       "version_minor": 0
      },
      "text/plain": [
       "HBox(children=(FloatProgress(value=0.0, description='Training', layout=Layout(flex='2'), max=1250.0, style=Pro…"
      ]
     },
     "metadata": {},
     "output_type": "display_data"
    },
    {
     "name": "stdout",
     "output_type": "stream",
     "text": [
      "Epoch 3429: train=7.72769, val=7.81968, took 31.452 s\n",
      "  Validation Found 51286 of 54504, added 1838 (eff 94.10%) (0.184 FP/event)\n"
     ]
    },
    {
     "data": {
      "application/vnd.jupyter.widget-view+json": {
       "model_id": "",
       "version_major": 2,
       "version_minor": 0
      },
      "text/plain": [
       "HBox(children=(FloatProgress(value=0.0, description='Training', layout=Layout(flex='2'), max=1250.0, style=Pro…"
      ]
     },
     "metadata": {},
     "output_type": "display_data"
    },
    {
     "name": "stdout",
     "output_type": "stream",
     "text": [
      "Epoch 3430: train=7.72952, val=7.82147, took 31.272 s\n",
      "  Validation Found 51282 of 54504, added 1817 (eff 94.09%) (0.182 FP/event)\n"
     ]
    },
    {
     "data": {
      "application/vnd.jupyter.widget-view+json": {
       "model_id": "",
       "version_major": 2,
       "version_minor": 0
      },
      "text/plain": [
       "HBox(children=(FloatProgress(value=0.0, description='Training', layout=Layout(flex='2'), max=1250.0, style=Pro…"
      ]
     },
     "metadata": {},
     "output_type": "display_data"
    },
    {
     "name": "stdout",
     "output_type": "stream",
     "text": [
      "Epoch 3431: train=7.72905, val=7.8156, took 31.291 s\n",
      "  Validation Found 51290 of 54504, added 1838 (eff 94.10%) (0.184 FP/event)\n"
     ]
    },
    {
     "data": {
      "application/vnd.jupyter.widget-view+json": {
       "model_id": "",
       "version_major": 2,
       "version_minor": 0
      },
      "text/plain": [
       "HBox(children=(FloatProgress(value=0.0, description='Training', layout=Layout(flex='2'), max=1250.0, style=Pro…"
      ]
     },
     "metadata": {},
     "output_type": "display_data"
    },
    {
     "name": "stdout",
     "output_type": "stream",
     "text": [
      "Epoch 3432: train=7.72959, val=7.80202, took 31.321 s\n",
      "  Validation Found 51319 of 54504, added 1863 (eff 94.16%) (0.187 FP/event)\n"
     ]
    },
    {
     "data": {
      "application/vnd.jupyter.widget-view+json": {
       "model_id": "",
       "version_major": 2,
       "version_minor": 0
      },
      "text/plain": [
       "HBox(children=(FloatProgress(value=0.0, description='Training', layout=Layout(flex='2'), max=1250.0, style=Pro…"
      ]
     },
     "metadata": {},
     "output_type": "display_data"
    },
    {
     "name": "stdout",
     "output_type": "stream",
     "text": [
      "Epoch 3433: train=7.72965, val=7.81485, took 31.443 s\n",
      "  Validation Found 51281 of 54504, added 1812 (eff 94.09%) (0.181 FP/event)\n"
     ]
    },
    {
     "data": {
      "application/vnd.jupyter.widget-view+json": {
       "model_id": "",
       "version_major": 2,
       "version_minor": 0
      },
      "text/plain": [
       "HBox(children=(FloatProgress(value=0.0, description='Training', layout=Layout(flex='2'), max=1250.0, style=Pro…"
      ]
     },
     "metadata": {},
     "output_type": "display_data"
    },
    {
     "name": "stdout",
     "output_type": "stream",
     "text": [
      "Epoch 3434: train=7.72993, val=7.80475, took 31.395 s\n",
      "  Validation Found 51275 of 54504, added 1830 (eff 94.08%) (0.183 FP/event)\n"
     ]
    },
    {
     "data": {
      "application/vnd.jupyter.widget-view+json": {
       "model_id": "",
       "version_major": 2,
       "version_minor": 0
      },
      "text/plain": [
       "HBox(children=(FloatProgress(value=0.0, description='Training', layout=Layout(flex='2'), max=1250.0, style=Pro…"
      ]
     },
     "metadata": {},
     "output_type": "display_data"
    },
    {
     "name": "stdout",
     "output_type": "stream",
     "text": [
      "Epoch 3435: train=7.72709, val=7.80686, took 31.387 s\n",
      "  Validation Found 51349 of 54504, added 1914 (eff 94.21%) (0.192 FP/event)\n"
     ]
    },
    {
     "data": {
      "application/vnd.jupyter.widget-view+json": {
       "model_id": "",
       "version_major": 2,
       "version_minor": 0
      },
      "text/plain": [
       "HBox(children=(FloatProgress(value=0.0, description='Training', layout=Layout(flex='2'), max=1250.0, style=Pro…"
      ]
     },
     "metadata": {},
     "output_type": "display_data"
    },
    {
     "name": "stdout",
     "output_type": "stream",
     "text": [
      "Epoch 3436: train=7.72997, val=7.7967, took 31.357 s\n",
      "  Validation Found 51329 of 54504, added 1898 (eff 94.17%) (0.19 FP/event)\n"
     ]
    },
    {
     "data": {
      "application/vnd.jupyter.widget-view+json": {
       "model_id": "",
       "version_major": 2,
       "version_minor": 0
      },
      "text/plain": [
       "HBox(children=(FloatProgress(value=0.0, description='Training', layout=Layout(flex='2'), max=1250.0, style=Pro…"
      ]
     },
     "metadata": {},
     "output_type": "display_data"
    },
    {
     "name": "stdout",
     "output_type": "stream",
     "text": [
      "Epoch 3437: train=7.72914, val=7.77927, took 31.294 s\n",
      "  Validation Found 51377 of 54504, added 1955 (eff 94.26%) (0.196 FP/event)\n"
     ]
    },
    {
     "data": {
      "application/vnd.jupyter.widget-view+json": {
       "model_id": "",
       "version_major": 2,
       "version_minor": 0
      },
      "text/plain": [
       "HBox(children=(FloatProgress(value=0.0, description='Training', layout=Layout(flex='2'), max=1250.0, style=Pro…"
      ]
     },
     "metadata": {},
     "output_type": "display_data"
    },
    {
     "name": "stdout",
     "output_type": "stream",
     "text": [
      "Epoch 3438: train=7.73009, val=7.80763, took 31.25 s\n",
      "  Validation Found 51333 of 54504, added 1886 (eff 94.18%) (0.189 FP/event)\n"
     ]
    },
    {
     "data": {
      "application/vnd.jupyter.widget-view+json": {
       "model_id": "",
       "version_major": 2,
       "version_minor": 0
      },
      "text/plain": [
       "HBox(children=(FloatProgress(value=0.0, description='Training', layout=Layout(flex='2'), max=1250.0, style=Pro…"
      ]
     },
     "metadata": {},
     "output_type": "display_data"
    },
    {
     "name": "stdout",
     "output_type": "stream",
     "text": [
      "Epoch 3439: train=7.73094, val=7.81956, took 31.312 s\n",
      "  Validation Found 51314 of 54504, added 1893 (eff 94.15%) (0.19 FP/event)\n"
     ]
    },
    {
     "data": {
      "application/vnd.jupyter.widget-view+json": {
       "model_id": "",
       "version_major": 2,
       "version_minor": 0
      },
      "text/plain": [
       "HBox(children=(FloatProgress(value=0.0, description='Training', layout=Layout(flex='2'), max=1250.0, style=Pro…"
      ]
     },
     "metadata": {},
     "output_type": "display_data"
    },
    {
     "name": "stdout",
     "output_type": "stream",
     "text": [
      "Epoch 3440: train=7.73013, val=7.83121, took 31.28 s\n",
      "  Validation Found 51283 of 54504, added 1824 (eff 94.09%) (0.183 FP/event)\n"
     ]
    },
    {
     "data": {
      "application/vnd.jupyter.widget-view+json": {
       "model_id": "",
       "version_major": 2,
       "version_minor": 0
      },
      "text/plain": [
       "HBox(children=(FloatProgress(value=0.0, description='Training', layout=Layout(flex='2'), max=1250.0, style=Pro…"
      ]
     },
     "metadata": {},
     "output_type": "display_data"
    },
    {
     "name": "stdout",
     "output_type": "stream",
     "text": [
      "Epoch 3441: train=7.72413, val=7.80134, took 31.493 s\n",
      "  Validation Found 51285 of 54504, added 1853 (eff 94.09%) (0.186 FP/event)\n"
     ]
    },
    {
     "data": {
      "application/vnd.jupyter.widget-view+json": {
       "model_id": "",
       "version_major": 2,
       "version_minor": 0
      },
      "text/plain": [
       "HBox(children=(FloatProgress(value=0.0, description='Training', layout=Layout(flex='2'), max=1250.0, style=Pro…"
      ]
     },
     "metadata": {},
     "output_type": "display_data"
    },
    {
     "name": "stdout",
     "output_type": "stream",
     "text": [
      "Epoch 3442: train=7.72644, val=7.8144, took 31.224 s\n",
      "  Validation Found 51306 of 54504, added 1858 (eff 94.13%) (0.186 FP/event)\n"
     ]
    },
    {
     "data": {
      "application/vnd.jupyter.widget-view+json": {
       "model_id": "",
       "version_major": 2,
       "version_minor": 0
      },
      "text/plain": [
       "HBox(children=(FloatProgress(value=0.0, description='Training', layout=Layout(flex='2'), max=1250.0, style=Pro…"
      ]
     },
     "metadata": {},
     "output_type": "display_data"
    },
    {
     "name": "stdout",
     "output_type": "stream",
     "text": [
      "Epoch 3443: train=7.72666, val=7.79432, took 31.299 s\n",
      "  Validation Found 51340 of 54504, added 1919 (eff 94.19%) (0.192 FP/event)\n"
     ]
    },
    {
     "data": {
      "application/vnd.jupyter.widget-view+json": {
       "model_id": "",
       "version_major": 2,
       "version_minor": 0
      },
      "text/plain": [
       "HBox(children=(FloatProgress(value=0.0, description='Training', layout=Layout(flex='2'), max=1250.0, style=Pro…"
      ]
     },
     "metadata": {},
     "output_type": "display_data"
    },
    {
     "name": "stdout",
     "output_type": "stream",
     "text": [
      "Epoch 3444: train=7.72969, val=7.84603, took 31.331 s\n",
      "  Validation Found 51260 of 54504, added 1824 (eff 94.05%) (0.183 FP/event)\n"
     ]
    },
    {
     "data": {
      "application/vnd.jupyter.widget-view+json": {
       "model_id": "",
       "version_major": 2,
       "version_minor": 0
      },
      "text/plain": [
       "HBox(children=(FloatProgress(value=0.0, description='Training', layout=Layout(flex='2'), max=1250.0, style=Pro…"
      ]
     },
     "metadata": {},
     "output_type": "display_data"
    },
    {
     "name": "stdout",
     "output_type": "stream",
     "text": [
      "Epoch 3445: train=7.72773, val=7.81717, took 31.178 s\n",
      "  Validation Found 51304 of 54504, added 1836 (eff 94.13%) (0.184 FP/event)\n"
     ]
    },
    {
     "data": {
      "application/vnd.jupyter.widget-view+json": {
       "model_id": "",
       "version_major": 2,
       "version_minor": 0
      },
      "text/plain": [
       "HBox(children=(FloatProgress(value=0.0, description='Training', layout=Layout(flex='2'), max=1250.0, style=Pro…"
      ]
     },
     "metadata": {},
     "output_type": "display_data"
    },
    {
     "name": "stdout",
     "output_type": "stream",
     "text": [
      "Epoch 3446: train=7.7314, val=7.81378, took 31.424 s\n",
      "  Validation Found 51292 of 54504, added 1845 (eff 94.11%) (0.185 FP/event)\n"
     ]
    },
    {
     "data": {
      "application/vnd.jupyter.widget-view+json": {
       "model_id": "",
       "version_major": 2,
       "version_minor": 0
      },
      "text/plain": [
       "HBox(children=(FloatProgress(value=0.0, description='Training', layout=Layout(flex='2'), max=1250.0, style=Pro…"
      ]
     },
     "metadata": {},
     "output_type": "display_data"
    },
    {
     "name": "stdout",
     "output_type": "stream",
     "text": [
      "Epoch 3447: train=7.72986, val=7.8123, took 31.541 s\n",
      "  Validation Found 51270 of 54504, added 1801 (eff 94.07%) (0.18 FP/event)\n"
     ]
    },
    {
     "data": {
      "application/vnd.jupyter.widget-view+json": {
       "model_id": "",
       "version_major": 2,
       "version_minor": 0
      },
      "text/plain": [
       "HBox(children=(FloatProgress(value=0.0, description='Training', layout=Layout(flex='2'), max=1250.0, style=Pro…"
      ]
     },
     "metadata": {},
     "output_type": "display_data"
    },
    {
     "name": "stdout",
     "output_type": "stream",
     "text": [
      "Epoch 3448: train=7.73252, val=7.80317, took 31.227 s\n",
      "  Validation Found 51294 of 54504, added 1843 (eff 94.11%) (0.185 FP/event)\n"
     ]
    },
    {
     "data": {
      "application/vnd.jupyter.widget-view+json": {
       "model_id": "",
       "version_major": 2,
       "version_minor": 0
      },
      "text/plain": [
       "HBox(children=(FloatProgress(value=0.0, description='Training', layout=Layout(flex='2'), max=1250.0, style=Pro…"
      ]
     },
     "metadata": {},
     "output_type": "display_data"
    },
    {
     "name": "stdout",
     "output_type": "stream",
     "text": [
      "Epoch 3449: train=7.72536, val=7.80081, took 31.303 s\n",
      "  Validation Found 51330 of 54504, added 1894 (eff 94.18%) (0.19 FP/event)\n"
     ]
    },
    {
     "data": {
      "application/vnd.jupyter.widget-view+json": {
       "model_id": "",
       "version_major": 2,
       "version_minor": 0
      },
      "text/plain": [
       "HBox(children=(FloatProgress(value=0.0, description='Training', layout=Layout(flex='2'), max=1250.0, style=Pro…"
      ]
     },
     "metadata": {},
     "output_type": "display_data"
    },
    {
     "name": "stdout",
     "output_type": "stream",
     "text": [
      "Epoch 3450: train=7.73289, val=7.79357, took 31.438 s\n",
      "  Validation Found 51324 of 54504, added 1867 (eff 94.17%) (0.187 FP/event)\n"
     ]
    },
    {
     "data": {
      "application/vnd.jupyter.widget-view+json": {
       "model_id": "",
       "version_major": 2,
       "version_minor": 0
      },
      "text/plain": [
       "HBox(children=(FloatProgress(value=0.0, description='Training', layout=Layout(flex='2'), max=1250.0, style=Pro…"
      ]
     },
     "metadata": {},
     "output_type": "display_data"
    },
    {
     "name": "stdout",
     "output_type": "stream",
     "text": [
      "Epoch 3451: train=7.73123, val=7.80721, took 31.359 s\n",
      "  Validation Found 51321 of 54504, added 1875 (eff 94.16%) (0.188 FP/event)\n"
     ]
    },
    {
     "data": {
      "application/vnd.jupyter.widget-view+json": {
       "model_id": "",
       "version_major": 2,
       "version_minor": 0
      },
      "text/plain": [
       "HBox(children=(FloatProgress(value=0.0, description='Training', layout=Layout(flex='2'), max=1250.0, style=Pro…"
      ]
     },
     "metadata": {},
     "output_type": "display_data"
    },
    {
     "name": "stdout",
     "output_type": "stream",
     "text": [
      "Epoch 3452: train=7.7276, val=7.80246, took 31.376 s\n",
      "  Validation Found 51294 of 54504, added 1848 (eff 94.11%) (0.185 FP/event)\n"
     ]
    },
    {
     "data": {
      "application/vnd.jupyter.widget-view+json": {
       "model_id": "",
       "version_major": 2,
       "version_minor": 0
      },
      "text/plain": [
       "HBox(children=(FloatProgress(value=0.0, description='Training', layout=Layout(flex='2'), max=1250.0, style=Pro…"
      ]
     },
     "metadata": {},
     "output_type": "display_data"
    },
    {
     "name": "stdout",
     "output_type": "stream",
     "text": [
      "Epoch 3453: train=7.73116, val=7.79901, took 31.178 s\n",
      "  Validation Found 51326 of 54504, added 1894 (eff 94.17%) (0.19 FP/event)\n"
     ]
    },
    {
     "data": {
      "application/vnd.jupyter.widget-view+json": {
       "model_id": "",
       "version_major": 2,
       "version_minor": 0
      },
      "text/plain": [
       "HBox(children=(FloatProgress(value=0.0, description='Training', layout=Layout(flex='2'), max=1250.0, style=Pro…"
      ]
     },
     "metadata": {},
     "output_type": "display_data"
    },
    {
     "name": "stdout",
     "output_type": "stream",
     "text": [
      "Epoch 3454: train=7.73106, val=7.81416, took 31.25 s\n",
      "  Validation Found 51305 of 54504, added 1821 (eff 94.13%) (0.182 FP/event)\n"
     ]
    },
    {
     "data": {
      "application/vnd.jupyter.widget-view+json": {
       "model_id": "",
       "version_major": 2,
       "version_minor": 0
      },
      "text/plain": [
       "HBox(children=(FloatProgress(value=0.0, description='Training', layout=Layout(flex='2'), max=1250.0, style=Pro…"
      ]
     },
     "metadata": {},
     "output_type": "display_data"
    },
    {
     "name": "stdout",
     "output_type": "stream",
     "text": [
      "Epoch 3455: train=7.72828, val=7.80725, took 31.426 s\n",
      "  Validation Found 51333 of 54504, added 1871 (eff 94.18%) (0.187 FP/event)\n"
     ]
    },
    {
     "data": {
      "application/vnd.jupyter.widget-view+json": {
       "model_id": "",
       "version_major": 2,
       "version_minor": 0
      },
      "text/plain": [
       "HBox(children=(FloatProgress(value=0.0, description='Training', layout=Layout(flex='2'), max=1250.0, style=Pro…"
      ]
     },
     "metadata": {},
     "output_type": "display_data"
    },
    {
     "name": "stdout",
     "output_type": "stream",
     "text": [
      "Epoch 3456: train=7.73033, val=7.81675, took 31.33 s\n",
      "  Validation Found 51255 of 54504, added 1808 (eff 94.04%) (0.181 FP/event)\n"
     ]
    },
    {
     "data": {
      "application/vnd.jupyter.widget-view+json": {
       "model_id": "",
       "version_major": 2,
       "version_minor": 0
      },
      "text/plain": [
       "HBox(children=(FloatProgress(value=0.0, description='Training', layout=Layout(flex='2'), max=1250.0, style=Pro…"
      ]
     },
     "metadata": {},
     "output_type": "display_data"
    },
    {
     "name": "stdout",
     "output_type": "stream",
     "text": [
      "Epoch 3457: train=7.72958, val=7.79565, took 31.236 s\n",
      "  Validation Found 51339 of 54504, added 1898 (eff 94.19%) (0.19 FP/event)\n"
     ]
    },
    {
     "data": {
      "application/vnd.jupyter.widget-view+json": {
       "model_id": "",
       "version_major": 2,
       "version_minor": 0
      },
      "text/plain": [
       "HBox(children=(FloatProgress(value=0.0, description='Training', layout=Layout(flex='2'), max=1250.0, style=Pro…"
      ]
     },
     "metadata": {},
     "output_type": "display_data"
    },
    {
     "name": "stdout",
     "output_type": "stream",
     "text": [
      "Epoch 3458: train=7.72957, val=7.79474, took 31.361 s\n",
      "  Validation Found 51327 of 54504, added 1874 (eff 94.17%) (0.188 FP/event)\n"
     ]
    },
    {
     "data": {
      "application/vnd.jupyter.widget-view+json": {
       "model_id": "",
       "version_major": 2,
       "version_minor": 0
      },
      "text/plain": [
       "HBox(children=(FloatProgress(value=0.0, description='Training', layout=Layout(flex='2'), max=1250.0, style=Pro…"
      ]
     },
     "metadata": {},
     "output_type": "display_data"
    },
    {
     "name": "stdout",
     "output_type": "stream",
     "text": [
      "Epoch 3459: train=7.73107, val=7.80383, took 31.296 s\n",
      "  Validation Found 51330 of 54504, added 1889 (eff 94.18%) (0.189 FP/event)\n"
     ]
    },
    {
     "data": {
      "application/vnd.jupyter.widget-view+json": {
       "model_id": "",
       "version_major": 2,
       "version_minor": 0
      },
      "text/plain": [
       "HBox(children=(FloatProgress(value=0.0, description='Training', layout=Layout(flex='2'), max=1250.0, style=Pro…"
      ]
     },
     "metadata": {},
     "output_type": "display_data"
    },
    {
     "name": "stdout",
     "output_type": "stream",
     "text": [
      "Epoch 3460: train=7.72483, val=7.79779, took 31.273 s\n",
      "  Validation Found 51313 of 54504, added 1854 (eff 94.15%) (0.186 FP/event)\n"
     ]
    },
    {
     "data": {
      "application/vnd.jupyter.widget-view+json": {
       "model_id": "",
       "version_major": 2,
       "version_minor": 0
      },
      "text/plain": [
       "HBox(children=(FloatProgress(value=0.0, description='Training', layout=Layout(flex='2'), max=1250.0, style=Pro…"
      ]
     },
     "metadata": {},
     "output_type": "display_data"
    },
    {
     "name": "stdout",
     "output_type": "stream",
     "text": [
      "Epoch 3461: train=7.73076, val=7.79683, took 31.667 s\n",
      "  Validation Found 51328 of 54504, added 1885 (eff 94.17%) (0.189 FP/event)\n"
     ]
    },
    {
     "data": {
      "application/vnd.jupyter.widget-view+json": {
       "model_id": "",
       "version_major": 2,
       "version_minor": 0
      },
      "text/plain": [
       "HBox(children=(FloatProgress(value=0.0, description='Training', layout=Layout(flex='2'), max=1250.0, style=Pro…"
      ]
     },
     "metadata": {},
     "output_type": "display_data"
    },
    {
     "name": "stdout",
     "output_type": "stream",
     "text": [
      "Epoch 3462: train=7.73004, val=7.80576, took 31.525 s\n",
      "  Validation Found 51318 of 54504, added 1870 (eff 94.15%) (0.187 FP/event)\n"
     ]
    },
    {
     "data": {
      "application/vnd.jupyter.widget-view+json": {
       "model_id": "",
       "version_major": 2,
       "version_minor": 0
      },
      "text/plain": [
       "HBox(children=(FloatProgress(value=0.0, description='Training', layout=Layout(flex='2'), max=1250.0, style=Pro…"
      ]
     },
     "metadata": {},
     "output_type": "display_data"
    },
    {
     "name": "stdout",
     "output_type": "stream",
     "text": [
      "Epoch 3463: train=7.72694, val=7.84372, took 31.596 s\n",
      "  Validation Found 51234 of 54504, added 1757 (eff 94.00%) (0.176 FP/event)\n"
     ]
    },
    {
     "data": {
      "application/vnd.jupyter.widget-view+json": {
       "model_id": "",
       "version_major": 2,
       "version_minor": 0
      },
      "text/plain": [
       "HBox(children=(FloatProgress(value=0.0, description='Training', layout=Layout(flex='2'), max=1250.0, style=Pro…"
      ]
     },
     "metadata": {},
     "output_type": "display_data"
    },
    {
     "name": "stdout",
     "output_type": "stream",
     "text": [
      "Epoch 3464: train=7.73153, val=7.79358, took 31.522 s\n",
      "  Validation Found 51344 of 54504, added 1917 (eff 94.20%) (0.192 FP/event)\n"
     ]
    },
    {
     "data": {
      "application/vnd.jupyter.widget-view+json": {
       "model_id": "",
       "version_major": 2,
       "version_minor": 0
      },
      "text/plain": [
       "HBox(children=(FloatProgress(value=0.0, description='Training', layout=Layout(flex='2'), max=1250.0, style=Pro…"
      ]
     },
     "metadata": {},
     "output_type": "display_data"
    },
    {
     "name": "stdout",
     "output_type": "stream",
     "text": [
      "Epoch 3465: train=7.72567, val=7.80759, took 31.371 s\n",
      "  Validation Found 51295 of 54504, added 1837 (eff 94.11%) (0.184 FP/event)\n"
     ]
    },
    {
     "data": {
      "application/vnd.jupyter.widget-view+json": {
       "model_id": "",
       "version_major": 2,
       "version_minor": 0
      },
      "text/plain": [
       "HBox(children=(FloatProgress(value=0.0, description='Training', layout=Layout(flex='2'), max=1250.0, style=Pro…"
      ]
     },
     "metadata": {},
     "output_type": "display_data"
    },
    {
     "name": "stdout",
     "output_type": "stream",
     "text": [
      "Epoch 3466: train=7.72937, val=7.81015, took 31.369 s\n",
      "  Validation Found 51291 of 54504, added 1807 (eff 94.11%) (0.181 FP/event)\n"
     ]
    },
    {
     "data": {
      "application/vnd.jupyter.widget-view+json": {
       "model_id": "",
       "version_major": 2,
       "version_minor": 0
      },
      "text/plain": [
       "HBox(children=(FloatProgress(value=0.0, description='Training', layout=Layout(flex='2'), max=1250.0, style=Pro…"
      ]
     },
     "metadata": {},
     "output_type": "display_data"
    },
    {
     "name": "stdout",
     "output_type": "stream",
     "text": [
      "Epoch 3467: train=7.72982, val=7.8264, took 31.357 s\n",
      "  Validation Found 51254 of 54504, added 1753 (eff 94.04%) (0.176 FP/event)\n"
     ]
    },
    {
     "data": {
      "application/vnd.jupyter.widget-view+json": {
       "model_id": "",
       "version_major": 2,
       "version_minor": 0
      },
      "text/plain": [
       "HBox(children=(FloatProgress(value=0.0, description='Training', layout=Layout(flex='2'), max=1250.0, style=Pro…"
      ]
     },
     "metadata": {},
     "output_type": "display_data"
    },
    {
     "name": "stdout",
     "output_type": "stream",
     "text": [
      "Epoch 3468: train=7.72497, val=7.8123, took 31.267 s\n",
      "  Validation Found 51278 of 54504, added 1822 (eff 94.08%) (0.182 FP/event)\n"
     ]
    },
    {
     "data": {
      "application/vnd.jupyter.widget-view+json": {
       "model_id": "",
       "version_major": 2,
       "version_minor": 0
      },
      "text/plain": [
       "HBox(children=(FloatProgress(value=0.0, description='Training', layout=Layout(flex='2'), max=1250.0, style=Pro…"
      ]
     },
     "metadata": {},
     "output_type": "display_data"
    },
    {
     "name": "stdout",
     "output_type": "stream",
     "text": [
      "Epoch 3469: train=7.72918, val=7.79286, took 31.599 s\n",
      "  Validation Found 51326 of 54504, added 1894 (eff 94.17%) (0.19 FP/event)\n"
     ]
    },
    {
     "data": {
      "application/vnd.jupyter.widget-view+json": {
       "model_id": "",
       "version_major": 2,
       "version_minor": 0
      },
      "text/plain": [
       "HBox(children=(FloatProgress(value=0.0, description='Training', layout=Layout(flex='2'), max=1250.0, style=Pro…"
      ]
     },
     "metadata": {},
     "output_type": "display_data"
    },
    {
     "name": "stdout",
     "output_type": "stream",
     "text": [
      "Epoch 3470: train=7.73149, val=7.78709, took 31.335 s\n",
      "  Validation Found 51338 of 54504, added 1903 (eff 94.19%) (0.191 FP/event)\n"
     ]
    },
    {
     "data": {
      "application/vnd.jupyter.widget-view+json": {
       "model_id": "",
       "version_major": 2,
       "version_minor": 0
      },
      "text/plain": [
       "HBox(children=(FloatProgress(value=0.0, description='Training', layout=Layout(flex='2'), max=1250.0, style=Pro…"
      ]
     },
     "metadata": {},
     "output_type": "display_data"
    },
    {
     "name": "stdout",
     "output_type": "stream",
     "text": [
      "Epoch 3471: train=7.72692, val=7.83548, took 31.146 s\n",
      "  Validation Found 51260 of 54504, added 1807 (eff 94.05%) (0.181 FP/event)\n"
     ]
    },
    {
     "data": {
      "application/vnd.jupyter.widget-view+json": {
       "model_id": "",
       "version_major": 2,
       "version_minor": 0
      },
      "text/plain": [
       "HBox(children=(FloatProgress(value=0.0, description='Training', layout=Layout(flex='2'), max=1250.0, style=Pro…"
      ]
     },
     "metadata": {},
     "output_type": "display_data"
    },
    {
     "name": "stdout",
     "output_type": "stream",
     "text": [
      "Epoch 3472: train=7.72463, val=7.79095, took 31.328 s\n",
      "  Validation Found 51355 of 54504, added 1919 (eff 94.22%) (0.192 FP/event)\n"
     ]
    },
    {
     "data": {
      "application/vnd.jupyter.widget-view+json": {
       "model_id": "",
       "version_major": 2,
       "version_minor": 0
      },
      "text/plain": [
       "HBox(children=(FloatProgress(value=0.0, description='Training', layout=Layout(flex='2'), max=1250.0, style=Pro…"
      ]
     },
     "metadata": {},
     "output_type": "display_data"
    },
    {
     "name": "stdout",
     "output_type": "stream",
     "text": [
      "Epoch 3473: train=7.72762, val=7.83372, took 31.395 s\n",
      "  Validation Found 51281 of 54504, added 1793 (eff 94.09%) (0.18 FP/event)\n"
     ]
    },
    {
     "data": {
      "application/vnd.jupyter.widget-view+json": {
       "model_id": "",
       "version_major": 2,
       "version_minor": 0
      },
      "text/plain": [
       "HBox(children=(FloatProgress(value=0.0, description='Training', layout=Layout(flex='2'), max=1250.0, style=Pro…"
      ]
     },
     "metadata": {},
     "output_type": "display_data"
    },
    {
     "name": "stdout",
     "output_type": "stream",
     "text": [
      "Epoch 3474: train=7.7299, val=7.79523, took 31.292 s\n",
      "  Validation Found 51315 of 54504, added 1878 (eff 94.15%) (0.188 FP/event)\n"
     ]
    },
    {
     "data": {
      "application/vnd.jupyter.widget-view+json": {
       "model_id": "",
       "version_major": 2,
       "version_minor": 0
      },
      "text/plain": [
       "HBox(children=(FloatProgress(value=0.0, description='Training', layout=Layout(flex='2'), max=1250.0, style=Pro…"
      ]
     },
     "metadata": {},
     "output_type": "display_data"
    },
    {
     "name": "stdout",
     "output_type": "stream",
     "text": [
      "Epoch 3475: train=7.72658, val=7.81948, took 31.407 s\n",
      "  Validation Found 51308 of 54504, added 1865 (eff 94.14%) (0.187 FP/event)\n"
     ]
    },
    {
     "data": {
      "application/vnd.jupyter.widget-view+json": {
       "model_id": "",
       "version_major": 2,
       "version_minor": 0
      },
      "text/plain": [
       "HBox(children=(FloatProgress(value=0.0, description='Training', layout=Layout(flex='2'), max=1250.0, style=Pro…"
      ]
     },
     "metadata": {},
     "output_type": "display_data"
    },
    {
     "name": "stdout",
     "output_type": "stream",
     "text": [
      "Epoch 3476: train=7.72619, val=7.79787, took 31.335 s\n",
      "  Validation Found 51345 of 54504, added 1886 (eff 94.20%) (0.189 FP/event)\n"
     ]
    },
    {
     "data": {
      "application/vnd.jupyter.widget-view+json": {
       "model_id": "",
       "version_major": 2,
       "version_minor": 0
      },
      "text/plain": [
       "HBox(children=(FloatProgress(value=0.0, description='Training', layout=Layout(flex='2'), max=1250.0, style=Pro…"
      ]
     },
     "metadata": {},
     "output_type": "display_data"
    },
    {
     "name": "stdout",
     "output_type": "stream",
     "text": [
      "Epoch 3477: train=7.7286, val=7.79493, took 31.48 s\n",
      "  Validation Found 51301 of 54504, added 1832 (eff 94.12%) (0.183 FP/event)\n"
     ]
    },
    {
     "data": {
      "application/vnd.jupyter.widget-view+json": {
       "model_id": "",
       "version_major": 2,
       "version_minor": 0
      },
      "text/plain": [
       "HBox(children=(FloatProgress(value=0.0, description='Training', layout=Layout(flex='2'), max=1250.0, style=Pro…"
      ]
     },
     "metadata": {},
     "output_type": "display_data"
    },
    {
     "name": "stdout",
     "output_type": "stream",
     "text": [
      "Epoch 3478: train=7.72645, val=7.81312, took 31.156 s\n",
      "  Validation Found 51335 of 54504, added 1871 (eff 94.19%) (0.187 FP/event)\n"
     ]
    },
    {
     "data": {
      "application/vnd.jupyter.widget-view+json": {
       "model_id": "",
       "version_major": 2,
       "version_minor": 0
      },
      "text/plain": [
       "HBox(children=(FloatProgress(value=0.0, description='Training', layout=Layout(flex='2'), max=1250.0, style=Pro…"
      ]
     },
     "metadata": {},
     "output_type": "display_data"
    },
    {
     "name": "stdout",
     "output_type": "stream",
     "text": [
      "Epoch 3479: train=7.72868, val=7.8018, took 31.295 s\n",
      "  Validation Found 51330 of 54504, added 1860 (eff 94.18%) (0.186 FP/event)\n"
     ]
    },
    {
     "data": {
      "application/vnd.jupyter.widget-view+json": {
       "model_id": "",
       "version_major": 2,
       "version_minor": 0
      },
      "text/plain": [
       "HBox(children=(FloatProgress(value=0.0, description='Training', layout=Layout(flex='2'), max=1250.0, style=Pro…"
      ]
     },
     "metadata": {},
     "output_type": "display_data"
    },
    {
     "name": "stdout",
     "output_type": "stream",
     "text": [
      "Epoch 3480: train=7.7258, val=7.81444, took 31.239 s\n",
      "  Validation Found 51306 of 54504, added 1842 (eff 94.13%) (0.184 FP/event)\n"
     ]
    },
    {
     "data": {
      "application/vnd.jupyter.widget-view+json": {
       "model_id": "",
       "version_major": 2,
       "version_minor": 0
      },
      "text/plain": [
       "HBox(children=(FloatProgress(value=0.0, description='Training', layout=Layout(flex='2'), max=1250.0, style=Pro…"
      ]
     },
     "metadata": {},
     "output_type": "display_data"
    },
    {
     "name": "stdout",
     "output_type": "stream",
     "text": [
      "Epoch 3481: train=7.72926, val=7.80239, took 31.394 s\n",
      "  Validation Found 51330 of 54504, added 1870 (eff 94.18%) (0.187 FP/event)\n"
     ]
    },
    {
     "data": {
      "application/vnd.jupyter.widget-view+json": {
       "model_id": "",
       "version_major": 2,
       "version_minor": 0
      },
      "text/plain": [
       "HBox(children=(FloatProgress(value=0.0, description='Training', layout=Layout(flex='2'), max=1250.0, style=Pro…"
      ]
     },
     "metadata": {},
     "output_type": "display_data"
    },
    {
     "name": "stdout",
     "output_type": "stream",
     "text": [
      "Epoch 3482: train=7.73011, val=7.8061, took 31.557 s\n",
      "  Validation Found 51332 of 54504, added 1882 (eff 94.18%) (0.188 FP/event)\n"
     ]
    },
    {
     "data": {
      "application/vnd.jupyter.widget-view+json": {
       "model_id": "",
       "version_major": 2,
       "version_minor": 0
      },
      "text/plain": [
       "HBox(children=(FloatProgress(value=0.0, description='Training', layout=Layout(flex='2'), max=1250.0, style=Pro…"
      ]
     },
     "metadata": {},
     "output_type": "display_data"
    },
    {
     "name": "stdout",
     "output_type": "stream",
     "text": [
      "Epoch 3483: train=7.72751, val=7.77866, took 31.244 s\n",
      "  Validation Found 51313 of 54504, added 1860 (eff 94.15%) (0.186 FP/event)\n"
     ]
    },
    {
     "data": {
      "application/vnd.jupyter.widget-view+json": {
       "model_id": "",
       "version_major": 2,
       "version_minor": 0
      },
      "text/plain": [
       "HBox(children=(FloatProgress(value=0.0, description='Training', layout=Layout(flex='2'), max=1250.0, style=Pro…"
      ]
     },
     "metadata": {},
     "output_type": "display_data"
    },
    {
     "name": "stdout",
     "output_type": "stream",
     "text": [
      "Epoch 3484: train=7.7287, val=7.82073, took 31.5 s\n",
      "  Validation Found 51316 of 54504, added 1900 (eff 94.15%) (0.19 FP/event)\n"
     ]
    },
    {
     "data": {
      "application/vnd.jupyter.widget-view+json": {
       "model_id": "",
       "version_major": 2,
       "version_minor": 0
      },
      "text/plain": [
       "HBox(children=(FloatProgress(value=0.0, description='Training', layout=Layout(flex='2'), max=1250.0, style=Pro…"
      ]
     },
     "metadata": {},
     "output_type": "display_data"
    },
    {
     "name": "stdout",
     "output_type": "stream",
     "text": [
      "Epoch 3485: train=7.7255, val=7.80781, took 31.535 s\n",
      "  Validation Found 51340 of 54504, added 1901 (eff 94.19%) (0.19 FP/event)\n"
     ]
    },
    {
     "data": {
      "application/vnd.jupyter.widget-view+json": {
       "model_id": "",
       "version_major": 2,
       "version_minor": 0
      },
      "text/plain": [
       "HBox(children=(FloatProgress(value=0.0, description='Training', layout=Layout(flex='2'), max=1250.0, style=Pro…"
      ]
     },
     "metadata": {},
     "output_type": "display_data"
    },
    {
     "name": "stdout",
     "output_type": "stream",
     "text": [
      "Epoch 3486: train=7.72604, val=7.78967, took 30.872 s\n",
      "  Validation Found 51328 of 54504, added 1890 (eff 94.17%) (0.189 FP/event)\n"
     ]
    },
    {
     "data": {
      "application/vnd.jupyter.widget-view+json": {
       "model_id": "",
       "version_major": 2,
       "version_minor": 0
      },
      "text/plain": [
       "HBox(children=(FloatProgress(value=0.0, description='Training', layout=Layout(flex='2'), max=1250.0, style=Pro…"
      ]
     },
     "metadata": {},
     "output_type": "display_data"
    },
    {
     "name": "stdout",
     "output_type": "stream",
     "text": [
      "Epoch 3487: train=7.72776, val=7.77502, took 30.839 s\n",
      "  Validation Found 51378 of 54504, added 1958 (eff 94.26%) (0.196 FP/event)\n"
     ]
    },
    {
     "data": {
      "application/vnd.jupyter.widget-view+json": {
       "model_id": "",
       "version_major": 2,
       "version_minor": 0
      },
      "text/plain": [
       "HBox(children=(FloatProgress(value=0.0, description='Training', layout=Layout(flex='2'), max=1250.0, style=Pro…"
      ]
     },
     "metadata": {},
     "output_type": "display_data"
    },
    {
     "name": "stdout",
     "output_type": "stream",
     "text": [
      "Epoch 3488: train=7.72931, val=7.80426, took 30.815 s\n",
      "  Validation Found 51265 of 54504, added 1796 (eff 94.06%) (0.18 FP/event)\n"
     ]
    },
    {
     "data": {
      "application/vnd.jupyter.widget-view+json": {
       "model_id": "",
       "version_major": 2,
       "version_minor": 0
      },
      "text/plain": [
       "HBox(children=(FloatProgress(value=0.0, description='Training', layout=Layout(flex='2'), max=1250.0, style=Pro…"
      ]
     },
     "metadata": {},
     "output_type": "display_data"
    },
    {
     "name": "stdout",
     "output_type": "stream",
     "text": [
      "Epoch 3489: train=7.72673, val=7.80265, took 30.836 s\n",
      "  Validation Found 51272 of 54504, added 1828 (eff 94.07%) (0.183 FP/event)\n"
     ]
    },
    {
     "data": {
      "application/vnd.jupyter.widget-view+json": {
       "model_id": "",
       "version_major": 2,
       "version_minor": 0
      },
      "text/plain": [
       "HBox(children=(FloatProgress(value=0.0, description='Training', layout=Layout(flex='2'), max=1250.0, style=Pro…"
      ]
     },
     "metadata": {},
     "output_type": "display_data"
    },
    {
     "name": "stdout",
     "output_type": "stream",
     "text": [
      "Epoch 3490: train=7.73003, val=7.80505, took 30.828 s\n",
      "  Validation Found 51305 of 54504, added 1851 (eff 94.13%) (0.185 FP/event)\n"
     ]
    },
    {
     "data": {
      "application/vnd.jupyter.widget-view+json": {
       "model_id": "",
       "version_major": 2,
       "version_minor": 0
      },
      "text/plain": [
       "HBox(children=(FloatProgress(value=0.0, description='Training', layout=Layout(flex='2'), max=1250.0, style=Pro…"
      ]
     },
     "metadata": {},
     "output_type": "display_data"
    },
    {
     "name": "stdout",
     "output_type": "stream",
     "text": [
      "Epoch 3491: train=7.72718, val=7.81434, took 31.127 s\n",
      "  Validation Found 51266 of 54504, added 1794 (eff 94.06%) (0.18 FP/event)\n"
     ]
    },
    {
     "data": {
      "application/vnd.jupyter.widget-view+json": {
       "model_id": "",
       "version_major": 2,
       "version_minor": 0
      },
      "text/plain": [
       "HBox(children=(FloatProgress(value=0.0, description='Training', layout=Layout(flex='2'), max=1250.0, style=Pro…"
      ]
     },
     "metadata": {},
     "output_type": "display_data"
    },
    {
     "name": "stdout",
     "output_type": "stream",
     "text": [
      "Epoch 3492: train=7.72944, val=7.78917, took 31.206 s\n",
      "  Validation Found 51365 of 54504, added 1941 (eff 94.24%) (0.194 FP/event)\n"
     ]
    },
    {
     "data": {
      "application/vnd.jupyter.widget-view+json": {
       "model_id": "",
       "version_major": 2,
       "version_minor": 0
      },
      "text/plain": [
       "HBox(children=(FloatProgress(value=0.0, description='Training', layout=Layout(flex='2'), max=1250.0, style=Pro…"
      ]
     },
     "metadata": {},
     "output_type": "display_data"
    },
    {
     "name": "stdout",
     "output_type": "stream",
     "text": [
      "Epoch 3493: train=7.73017, val=7.79475, took 31.425 s\n",
      "  Validation Found 51325 of 54504, added 1875 (eff 94.17%) (0.188 FP/event)\n"
     ]
    },
    {
     "data": {
      "application/vnd.jupyter.widget-view+json": {
       "model_id": "",
       "version_major": 2,
       "version_minor": 0
      },
      "text/plain": [
       "HBox(children=(FloatProgress(value=0.0, description='Training', layout=Layout(flex='2'), max=1250.0, style=Pro…"
      ]
     },
     "metadata": {},
     "output_type": "display_data"
    },
    {
     "name": "stdout",
     "output_type": "stream",
     "text": [
      "Epoch 3494: train=7.73017, val=7.79892, took 31.409 s\n",
      "  Validation Found 51310 of 54504, added 1883 (eff 94.14%) (0.189 FP/event)\n"
     ]
    },
    {
     "data": {
      "application/vnd.jupyter.widget-view+json": {
       "model_id": "",
       "version_major": 2,
       "version_minor": 0
      },
      "text/plain": [
       "HBox(children=(FloatProgress(value=0.0, description='Training', layout=Layout(flex='2'), max=1250.0, style=Pro…"
      ]
     },
     "metadata": {},
     "output_type": "display_data"
    },
    {
     "name": "stdout",
     "output_type": "stream",
     "text": [
      "Epoch 3495: train=7.7295, val=7.79792, took 31.371 s\n",
      "  Validation Found 51269 of 54504, added 1793 (eff 94.06%) (0.18 FP/event)\n"
     ]
    },
    {
     "data": {
      "application/vnd.jupyter.widget-view+json": {
       "model_id": "",
       "version_major": 2,
       "version_minor": 0
      },
      "text/plain": [
       "HBox(children=(FloatProgress(value=0.0, description='Training', layout=Layout(flex='2'), max=1250.0, style=Pro…"
      ]
     },
     "metadata": {},
     "output_type": "display_data"
    },
    {
     "name": "stdout",
     "output_type": "stream",
     "text": [
      "Epoch 3496: train=7.729, val=7.80874, took 31.247 s\n",
      "  Validation Found 51308 of 54504, added 1864 (eff 94.14%) (0.187 FP/event)\n"
     ]
    },
    {
     "data": {
      "application/vnd.jupyter.widget-view+json": {
       "model_id": "",
       "version_major": 2,
       "version_minor": 0
      },
      "text/plain": [
       "HBox(children=(FloatProgress(value=0.0, description='Training', layout=Layout(flex='2'), max=1250.0, style=Pro…"
      ]
     },
     "metadata": {},
     "output_type": "display_data"
    },
    {
     "name": "stdout",
     "output_type": "stream",
     "text": [
      "Epoch 3497: train=7.7325, val=7.80854, took 31.383 s\n",
      "  Validation Found 51285 of 54504, added 1823 (eff 94.09%) (0.183 FP/event)\n"
     ]
    },
    {
     "data": {
      "application/vnd.jupyter.widget-view+json": {
       "model_id": "",
       "version_major": 2,
       "version_minor": 0
      },
      "text/plain": [
       "HBox(children=(FloatProgress(value=0.0, description='Training', layout=Layout(flex='2'), max=1250.0, style=Pro…"
      ]
     },
     "metadata": {},
     "output_type": "display_data"
    },
    {
     "name": "stdout",
     "output_type": "stream",
     "text": [
      "Epoch 3498: train=7.72532, val=7.77045, took 31.565 s\n",
      "  Validation Found 51388 of 54504, added 1979 (eff 94.28%) (0.198 FP/event)\n"
     ]
    },
    {
     "data": {
      "application/vnd.jupyter.widget-view+json": {
       "model_id": "",
       "version_major": 2,
       "version_minor": 0
      },
      "text/plain": [
       "HBox(children=(FloatProgress(value=0.0, description='Training', layout=Layout(flex='2'), max=1250.0, style=Pro…"
      ]
     },
     "metadata": {},
     "output_type": "display_data"
    },
    {
     "name": "stdout",
     "output_type": "stream",
     "text": [
      "Epoch 3499: train=7.72355, val=7.79926, took 31.346 s\n",
      "  Validation Found 51302 of 54504, added 1855 (eff 94.13%) (0.186 FP/event)\n"
     ]
    },
    {
     "data": {
      "application/vnd.jupyter.widget-view+json": {
       "model_id": "",
       "version_major": 2,
       "version_minor": 0
      },
      "text/plain": [
       "HBox(children=(FloatProgress(value=0.0, description='Training', layout=Layout(flex='2'), max=1250.0, style=Pro…"
      ]
     },
     "metadata": {},
     "output_type": "display_data"
    },
    {
     "name": "stdout",
     "output_type": "stream",
     "text": [
      "Epoch 3500: train=7.72806, val=7.79582, took 31.36 s\n",
      "  Validation Found 51310 of 54504, added 1858 (eff 94.14%) (0.186 FP/event)\n"
     ]
    },
    {
     "data": {
      "application/vnd.jupyter.widget-view+json": {
       "model_id": "",
       "version_major": 2,
       "version_minor": 0
      },
      "text/plain": [
       "HBox(children=(FloatProgress(value=0.0, description='Training', layout=Layout(flex='2'), max=1250.0, style=Pro…"
      ]
     },
     "metadata": {},
     "output_type": "display_data"
    },
    {
     "name": "stdout",
     "output_type": "stream",
     "text": [
      "Epoch 3501: train=7.73136, val=7.79808, took 31.384 s\n",
      "  Validation Found 51367 of 54504, added 1938 (eff 94.24%) (0.194 FP/event)\n"
     ]
    },
    {
     "data": {
      "application/vnd.jupyter.widget-view+json": {
       "model_id": "",
       "version_major": 2,
       "version_minor": 0
      },
      "text/plain": [
       "HBox(children=(FloatProgress(value=0.0, description='Training', layout=Layout(flex='2'), max=1250.0, style=Pro…"
      ]
     },
     "metadata": {},
     "output_type": "display_data"
    },
    {
     "name": "stdout",
     "output_type": "stream",
     "text": [
      "Epoch 3502: train=7.72685, val=7.79828, took 31.497 s\n",
      "  Validation Found 51334 of 54504, added 1880 (eff 94.18%) (0.188 FP/event)\n"
     ]
    },
    {
     "data": {
      "application/vnd.jupyter.widget-view+json": {
       "model_id": "",
       "version_major": 2,
       "version_minor": 0
      },
      "text/plain": [
       "HBox(children=(FloatProgress(value=0.0, description='Training', layout=Layout(flex='2'), max=1250.0, style=Pro…"
      ]
     },
     "metadata": {},
     "output_type": "display_data"
    },
    {
     "name": "stdout",
     "output_type": "stream",
     "text": [
      "Epoch 3503: train=7.72797, val=7.77988, took 31.324 s\n",
      "  Validation Found 51372 of 54504, added 1975 (eff 94.25%) (0.198 FP/event)\n"
     ]
    },
    {
     "data": {
      "application/vnd.jupyter.widget-view+json": {
       "model_id": "",
       "version_major": 2,
       "version_minor": 0
      },
      "text/plain": [
       "HBox(children=(FloatProgress(value=0.0, description='Training', layout=Layout(flex='2'), max=1250.0, style=Pro…"
      ]
     },
     "metadata": {},
     "output_type": "display_data"
    },
    {
     "name": "stdout",
     "output_type": "stream",
     "text": [
      "Epoch 3504: train=7.73048, val=7.83028, took 31.661 s\n",
      "  Validation Found 51261 of 54504, added 1758 (eff 94.05%) (0.176 FP/event)\n"
     ]
    },
    {
     "data": {
      "application/vnd.jupyter.widget-view+json": {
       "model_id": "",
       "version_major": 2,
       "version_minor": 0
      },
      "text/plain": [
       "HBox(children=(FloatProgress(value=0.0, description='Training', layout=Layout(flex='2'), max=1250.0, style=Pro…"
      ]
     },
     "metadata": {},
     "output_type": "display_data"
    },
    {
     "name": "stdout",
     "output_type": "stream",
     "text": [
      "Epoch 3505: train=7.72882, val=7.82228, took 31.313 s\n",
      "  Validation Found 51261 of 54504, added 1810 (eff 94.05%) (0.181 FP/event)\n"
     ]
    },
    {
     "data": {
      "application/vnd.jupyter.widget-view+json": {
       "model_id": "",
       "version_major": 2,
       "version_minor": 0
      },
      "text/plain": [
       "HBox(children=(FloatProgress(value=0.0, description='Training', layout=Layout(flex='2'), max=1250.0, style=Pro…"
      ]
     },
     "metadata": {},
     "output_type": "display_data"
    },
    {
     "name": "stdout",
     "output_type": "stream",
     "text": [
      "Epoch 3506: train=7.72622, val=7.80739, took 31.357 s\n",
      "  Validation Found 51290 of 54504, added 1842 (eff 94.10%) (0.184 FP/event)\n"
     ]
    },
    {
     "data": {
      "application/vnd.jupyter.widget-view+json": {
       "model_id": "",
       "version_major": 2,
       "version_minor": 0
      },
      "text/plain": [
       "HBox(children=(FloatProgress(value=0.0, description='Training', layout=Layout(flex='2'), max=1250.0, style=Pro…"
      ]
     },
     "metadata": {},
     "output_type": "display_data"
    },
    {
     "name": "stdout",
     "output_type": "stream",
     "text": [
      "Epoch 3507: train=7.72889, val=7.78176, took 31.69 s\n",
      "  Validation Found 51354 of 54504, added 1912 (eff 94.22%) (0.191 FP/event)\n"
     ]
    },
    {
     "data": {
      "application/vnd.jupyter.widget-view+json": {
       "model_id": "",
       "version_major": 2,
       "version_minor": 0
      },
      "text/plain": [
       "HBox(children=(FloatProgress(value=0.0, description='Training', layout=Layout(flex='2'), max=1250.0, style=Pro…"
      ]
     },
     "metadata": {},
     "output_type": "display_data"
    },
    {
     "name": "stdout",
     "output_type": "stream",
     "text": [
      "Epoch 3508: train=7.72699, val=7.80696, took 31.579 s\n",
      "  Validation Found 51324 of 54504, added 1858 (eff 94.17%) (0.186 FP/event)\n"
     ]
    },
    {
     "data": {
      "application/vnd.jupyter.widget-view+json": {
       "model_id": "",
       "version_major": 2,
       "version_minor": 0
      },
      "text/plain": [
       "HBox(children=(FloatProgress(value=0.0, description='Training', layout=Layout(flex='2'), max=1250.0, style=Pro…"
      ]
     },
     "metadata": {},
     "output_type": "display_data"
    },
    {
     "name": "stdout",
     "output_type": "stream",
     "text": [
      "Epoch 3509: train=7.73411, val=7.80753, took 31.279 s\n",
      "  Validation Found 51307 of 54504, added 1849 (eff 94.13%) (0.185 FP/event)\n"
     ]
    },
    {
     "data": {
      "application/vnd.jupyter.widget-view+json": {
       "model_id": "",
       "version_major": 2,
       "version_minor": 0
      },
      "text/plain": [
       "HBox(children=(FloatProgress(value=0.0, description='Training', layout=Layout(flex='2'), max=1250.0, style=Pro…"
      ]
     },
     "metadata": {},
     "output_type": "display_data"
    },
    {
     "name": "stdout",
     "output_type": "stream",
     "text": [
      "Epoch 3510: train=7.72849, val=7.7866, took 31.254 s\n",
      "  Validation Found 51293 of 54504, added 1833 (eff 94.11%) (0.184 FP/event)\n"
     ]
    },
    {
     "data": {
      "application/vnd.jupyter.widget-view+json": {
       "model_id": "",
       "version_major": 2,
       "version_minor": 0
      },
      "text/plain": [
       "HBox(children=(FloatProgress(value=0.0, description='Training', layout=Layout(flex='2'), max=1250.0, style=Pro…"
      ]
     },
     "metadata": {},
     "output_type": "display_data"
    },
    {
     "name": "stdout",
     "output_type": "stream",
     "text": [
      "Epoch 3511: train=7.72871, val=7.79236, took 31.4 s\n",
      "  Validation Found 51335 of 54504, added 1893 (eff 94.19%) (0.19 FP/event)\n"
     ]
    },
    {
     "data": {
      "application/vnd.jupyter.widget-view+json": {
       "model_id": "",
       "version_major": 2,
       "version_minor": 0
      },
      "text/plain": [
       "HBox(children=(FloatProgress(value=0.0, description='Training', layout=Layout(flex='2'), max=1250.0, style=Pro…"
      ]
     },
     "metadata": {},
     "output_type": "display_data"
    },
    {
     "name": "stdout",
     "output_type": "stream",
     "text": [
      "Epoch 3512: train=7.73132, val=7.81023, took 31.338 s\n",
      "  Validation Found 51305 of 54504, added 1859 (eff 94.13%) (0.186 FP/event)\n"
     ]
    },
    {
     "data": {
      "application/vnd.jupyter.widget-view+json": {
       "model_id": "",
       "version_major": 2,
       "version_minor": 0
      },
      "text/plain": [
       "HBox(children=(FloatProgress(value=0.0, description='Training', layout=Layout(flex='2'), max=1250.0, style=Pro…"
      ]
     },
     "metadata": {},
     "output_type": "display_data"
    },
    {
     "name": "stdout",
     "output_type": "stream",
     "text": [
      "Epoch 3513: train=7.72697, val=7.78818, took 31.307 s\n",
      "  Validation Found 51324 of 54504, added 1867 (eff 94.17%) (0.187 FP/event)\n"
     ]
    },
    {
     "data": {
      "application/vnd.jupyter.widget-view+json": {
       "model_id": "",
       "version_major": 2,
       "version_minor": 0
      },
      "text/plain": [
       "HBox(children=(FloatProgress(value=0.0, description='Training', layout=Layout(flex='2'), max=1250.0, style=Pro…"
      ]
     },
     "metadata": {},
     "output_type": "display_data"
    },
    {
     "name": "stdout",
     "output_type": "stream",
     "text": [
      "Epoch 3514: train=7.72797, val=7.78099, took 31.318 s\n",
      "  Validation Found 51383 of 54504, added 1984 (eff 94.27%) (0.199 FP/event)\n"
     ]
    },
    {
     "data": {
      "application/vnd.jupyter.widget-view+json": {
       "model_id": "",
       "version_major": 2,
       "version_minor": 0
      },
      "text/plain": [
       "HBox(children=(FloatProgress(value=0.0, description='Training', layout=Layout(flex='2'), max=1250.0, style=Pro…"
      ]
     },
     "metadata": {},
     "output_type": "display_data"
    },
    {
     "name": "stdout",
     "output_type": "stream",
     "text": [
      "Epoch 3515: train=7.72914, val=7.80779, took 31.232 s\n",
      "  Validation Found 51309 of 54504, added 1833 (eff 94.14%) (0.184 FP/event)\n"
     ]
    },
    {
     "data": {
      "application/vnd.jupyter.widget-view+json": {
       "model_id": "",
       "version_major": 2,
       "version_minor": 0
      },
      "text/plain": [
       "HBox(children=(FloatProgress(value=0.0, description='Training', layout=Layout(flex='2'), max=1250.0, style=Pro…"
      ]
     },
     "metadata": {},
     "output_type": "display_data"
    },
    {
     "name": "stdout",
     "output_type": "stream",
     "text": [
      "Epoch 3516: train=7.72704, val=7.81492, took 31.321 s\n",
      "  Validation Found 51320 of 54504, added 1878 (eff 94.16%) (0.188 FP/event)\n"
     ]
    },
    {
     "data": {
      "application/vnd.jupyter.widget-view+json": {
       "model_id": "",
       "version_major": 2,
       "version_minor": 0
      },
      "text/plain": [
       "HBox(children=(FloatProgress(value=0.0, description='Training', layout=Layout(flex='2'), max=1250.0, style=Pro…"
      ]
     },
     "metadata": {},
     "output_type": "display_data"
    },
    {
     "name": "stdout",
     "output_type": "stream",
     "text": [
      "Epoch 3517: train=7.72674, val=7.79705, took 31.266 s\n",
      "  Validation Found 51307 of 54504, added 1864 (eff 94.13%) (0.187 FP/event)\n"
     ]
    },
    {
     "data": {
      "application/vnd.jupyter.widget-view+json": {
       "model_id": "",
       "version_major": 2,
       "version_minor": 0
      },
      "text/plain": [
       "HBox(children=(FloatProgress(value=0.0, description='Training', layout=Layout(flex='2'), max=1250.0, style=Pro…"
      ]
     },
     "metadata": {},
     "output_type": "display_data"
    },
    {
     "name": "stdout",
     "output_type": "stream",
     "text": [
      "Epoch 3518: train=7.7339, val=7.79108, took 31.209 s\n",
      "  Validation Found 51357 of 54504, added 1942 (eff 94.23%) (0.194 FP/event)\n"
     ]
    },
    {
     "data": {
      "application/vnd.jupyter.widget-view+json": {
       "model_id": "",
       "version_major": 2,
       "version_minor": 0
      },
      "text/plain": [
       "HBox(children=(FloatProgress(value=0.0, description='Training', layout=Layout(flex='2'), max=1250.0, style=Pro…"
      ]
     },
     "metadata": {},
     "output_type": "display_data"
    },
    {
     "name": "stdout",
     "output_type": "stream",
     "text": [
      "Epoch 3519: train=7.73117, val=7.82299, took 31.213 s\n",
      "  Validation Found 51253 of 54504, added 1772 (eff 94.04%) (0.177 FP/event)\n"
     ]
    },
    {
     "data": {
      "application/vnd.jupyter.widget-view+json": {
       "model_id": "",
       "version_major": 2,
       "version_minor": 0
      },
      "text/plain": [
       "HBox(children=(FloatProgress(value=0.0, description='Training', layout=Layout(flex='2'), max=1250.0, style=Pro…"
      ]
     },
     "metadata": {},
     "output_type": "display_data"
    },
    {
     "name": "stdout",
     "output_type": "stream",
     "text": [
      "Epoch 3520: train=7.72829, val=7.7999, took 31.311 s\n",
      "  Validation Found 51303 of 54504, added 1804 (eff 94.13%) (0.181 FP/event)\n"
     ]
    },
    {
     "data": {
      "application/vnd.jupyter.widget-view+json": {
       "model_id": "",
       "version_major": 2,
       "version_minor": 0
      },
      "text/plain": [
       "HBox(children=(FloatProgress(value=0.0, description='Training', layout=Layout(flex='2'), max=1250.0, style=Pro…"
      ]
     },
     "metadata": {},
     "output_type": "display_data"
    },
    {
     "name": "stdout",
     "output_type": "stream",
     "text": [
      "Epoch 3521: train=7.72943, val=7.81087, took 31.338 s\n",
      "  Validation Found 51280 of 54504, added 1809 (eff 94.08%) (0.181 FP/event)\n"
     ]
    },
    {
     "data": {
      "application/vnd.jupyter.widget-view+json": {
       "model_id": "",
       "version_major": 2,
       "version_minor": 0
      },
      "text/plain": [
       "HBox(children=(FloatProgress(value=0.0, description='Training', layout=Layout(flex='2'), max=1250.0, style=Pro…"
      ]
     },
     "metadata": {},
     "output_type": "display_data"
    },
    {
     "name": "stdout",
     "output_type": "stream",
     "text": [
      "Epoch 3522: train=7.72839, val=7.80494, took 31.444 s\n",
      "  Validation Found 51293 of 54504, added 1856 (eff 94.11%) (0.186 FP/event)\n"
     ]
    },
    {
     "data": {
      "application/vnd.jupyter.widget-view+json": {
       "model_id": "",
       "version_major": 2,
       "version_minor": 0
      },
      "text/plain": [
       "HBox(children=(FloatProgress(value=0.0, description='Training', layout=Layout(flex='2'), max=1250.0, style=Pro…"
      ]
     },
     "metadata": {},
     "output_type": "display_data"
    },
    {
     "name": "stdout",
     "output_type": "stream",
     "text": [
      "Epoch 3523: train=7.72888, val=7.79463, took 31.32 s\n",
      "  Validation Found 51362 of 54504, added 1932 (eff 94.24%) (0.193 FP/event)\n"
     ]
    },
    {
     "data": {
      "application/vnd.jupyter.widget-view+json": {
       "model_id": "",
       "version_major": 2,
       "version_minor": 0
      },
      "text/plain": [
       "HBox(children=(FloatProgress(value=0.0, description='Training', layout=Layout(flex='2'), max=1250.0, style=Pro…"
      ]
     },
     "metadata": {},
     "output_type": "display_data"
    },
    {
     "name": "stdout",
     "output_type": "stream",
     "text": [
      "Epoch 3524: train=7.72981, val=7.80574, took 31.229 s\n",
      "  Validation Found 51321 of 54504, added 1894 (eff 94.16%) (0.19 FP/event)\n"
     ]
    },
    {
     "data": {
      "application/vnd.jupyter.widget-view+json": {
       "model_id": "",
       "version_major": 2,
       "version_minor": 0
      },
      "text/plain": [
       "HBox(children=(FloatProgress(value=0.0, description='Training', layout=Layout(flex='2'), max=1250.0, style=Pro…"
      ]
     },
     "metadata": {},
     "output_type": "display_data"
    },
    {
     "name": "stdout",
     "output_type": "stream",
     "text": [
      "Epoch 3525: train=7.7304, val=7.79839, took 31.628 s\n",
      "  Validation Found 51309 of 54504, added 1848 (eff 94.14%) (0.185 FP/event)\n"
     ]
    },
    {
     "data": {
      "application/vnd.jupyter.widget-view+json": {
       "model_id": "",
       "version_major": 2,
       "version_minor": 0
      },
      "text/plain": [
       "HBox(children=(FloatProgress(value=0.0, description='Training', layout=Layout(flex='2'), max=1250.0, style=Pro…"
      ]
     },
     "metadata": {},
     "output_type": "display_data"
    },
    {
     "name": "stdout",
     "output_type": "stream",
     "text": [
      "Epoch 3526: train=7.72538, val=7.78887, took 31.362 s\n",
      "  Validation Found 51369 of 54504, added 1922 (eff 94.25%) (0.192 FP/event)\n"
     ]
    },
    {
     "data": {
      "application/vnd.jupyter.widget-view+json": {
       "model_id": "",
       "version_major": 2,
       "version_minor": 0
      },
      "text/plain": [
       "HBox(children=(FloatProgress(value=0.0, description='Training', layout=Layout(flex='2'), max=1250.0, style=Pro…"
      ]
     },
     "metadata": {},
     "output_type": "display_data"
    },
    {
     "name": "stdout",
     "output_type": "stream",
     "text": [
      "Epoch 3527: train=7.72913, val=7.80016, took 31.386 s\n",
      "  Validation Found 51307 of 54504, added 1880 (eff 94.13%) (0.188 FP/event)\n"
     ]
    },
    {
     "data": {
      "application/vnd.jupyter.widget-view+json": {
       "model_id": "",
       "version_major": 2,
       "version_minor": 0
      },
      "text/plain": [
       "HBox(children=(FloatProgress(value=0.0, description='Training', layout=Layout(flex='2'), max=1250.0, style=Pro…"
      ]
     },
     "metadata": {},
     "output_type": "display_data"
    },
    {
     "name": "stdout",
     "output_type": "stream",
     "text": [
      "Epoch 3528: train=7.727, val=7.79923, took 31.501 s\n",
      "  Validation Found 51268 of 54504, added 1817 (eff 94.06%) (0.182 FP/event)\n"
     ]
    },
    {
     "data": {
      "application/vnd.jupyter.widget-view+json": {
       "model_id": "",
       "version_major": 2,
       "version_minor": 0
      },
      "text/plain": [
       "HBox(children=(FloatProgress(value=0.0, description='Training', layout=Layout(flex='2'), max=1250.0, style=Pro…"
      ]
     },
     "metadata": {},
     "output_type": "display_data"
    },
    {
     "name": "stdout",
     "output_type": "stream",
     "text": [
      "Epoch 3529: train=7.72667, val=7.81393, took 31.74 s\n",
      "  Validation Found 51304 of 54504, added 1850 (eff 94.13%) (0.185 FP/event)\n"
     ]
    },
    {
     "data": {
      "application/vnd.jupyter.widget-view+json": {
       "model_id": "",
       "version_major": 2,
       "version_minor": 0
      },
      "text/plain": [
       "HBox(children=(FloatProgress(value=0.0, description='Training', layout=Layout(flex='2'), max=1250.0, style=Pro…"
      ]
     },
     "metadata": {},
     "output_type": "display_data"
    },
    {
     "name": "stdout",
     "output_type": "stream",
     "text": [
      "Epoch 3530: train=7.72454, val=7.81127, took 31.638 s\n",
      "  Validation Found 51300 of 54504, added 1837 (eff 94.12%) (0.184 FP/event)\n"
     ]
    },
    {
     "data": {
      "application/vnd.jupyter.widget-view+json": {
       "model_id": "",
       "version_major": 2,
       "version_minor": 0
      },
      "text/plain": [
       "HBox(children=(FloatProgress(value=0.0, description='Training', layout=Layout(flex='2'), max=1250.0, style=Pro…"
      ]
     },
     "metadata": {},
     "output_type": "display_data"
    },
    {
     "name": "stdout",
     "output_type": "stream",
     "text": [
      "Epoch 3531: train=7.7275, val=7.79942, took 31.236 s\n",
      "  Validation Found 51319 of 54504, added 1865 (eff 94.16%) (0.187 FP/event)\n"
     ]
    },
    {
     "data": {
      "application/vnd.jupyter.widget-view+json": {
       "model_id": "",
       "version_major": 2,
       "version_minor": 0
      },
      "text/plain": [
       "HBox(children=(FloatProgress(value=0.0, description='Training', layout=Layout(flex='2'), max=1250.0, style=Pro…"
      ]
     },
     "metadata": {},
     "output_type": "display_data"
    },
    {
     "name": "stdout",
     "output_type": "stream",
     "text": [
      "Epoch 3532: train=7.7252, val=7.80923, took 31.388 s\n",
      "  Validation Found 51308 of 54504, added 1838 (eff 94.14%) (0.184 FP/event)\n"
     ]
    },
    {
     "data": {
      "application/vnd.jupyter.widget-view+json": {
       "model_id": "",
       "version_major": 2,
       "version_minor": 0
      },
      "text/plain": [
       "HBox(children=(FloatProgress(value=0.0, description='Training', layout=Layout(flex='2'), max=1250.0, style=Pro…"
      ]
     },
     "metadata": {},
     "output_type": "display_data"
    },
    {
     "name": "stdout",
     "output_type": "stream",
     "text": [
      "Epoch 3533: train=7.72674, val=7.77966, took 31.239 s\n",
      "  Validation Found 51351 of 54504, added 1923 (eff 94.22%) (0.193 FP/event)\n"
     ]
    },
    {
     "data": {
      "application/vnd.jupyter.widget-view+json": {
       "model_id": "",
       "version_major": 2,
       "version_minor": 0
      },
      "text/plain": [
       "HBox(children=(FloatProgress(value=0.0, description='Training', layout=Layout(flex='2'), max=1250.0, style=Pro…"
      ]
     },
     "metadata": {},
     "output_type": "display_data"
    },
    {
     "name": "stdout",
     "output_type": "stream",
     "text": [
      "Epoch 3534: train=7.72837, val=7.81311, took 31.494 s\n",
      "  Validation Found 51268 of 54504, added 1813 (eff 94.06%) (0.182 FP/event)\n"
     ]
    },
    {
     "data": {
      "application/vnd.jupyter.widget-view+json": {
       "model_id": "",
       "version_major": 2,
       "version_minor": 0
      },
      "text/plain": [
       "HBox(children=(FloatProgress(value=0.0, description='Training', layout=Layout(flex='2'), max=1250.0, style=Pro…"
      ]
     },
     "metadata": {},
     "output_type": "display_data"
    },
    {
     "name": "stdout",
     "output_type": "stream",
     "text": [
      "Epoch 3535: train=7.72697, val=7.81433, took 31.475 s\n",
      "  Validation Found 51271 of 54504, added 1785 (eff 94.07%) (0.179 FP/event)\n"
     ]
    },
    {
     "data": {
      "application/vnd.jupyter.widget-view+json": {
       "model_id": "",
       "version_major": 2,
       "version_minor": 0
      },
      "text/plain": [
       "HBox(children=(FloatProgress(value=0.0, description='Training', layout=Layout(flex='2'), max=1250.0, style=Pro…"
      ]
     },
     "metadata": {},
     "output_type": "display_data"
    },
    {
     "name": "stdout",
     "output_type": "stream",
     "text": [
      "Epoch 3536: train=7.72517, val=7.79653, took 31.441 s\n",
      "  Validation Found 51342 of 54504, added 1899 (eff 94.20%) (0.19 FP/event)\n"
     ]
    },
    {
     "data": {
      "application/vnd.jupyter.widget-view+json": {
       "model_id": "",
       "version_major": 2,
       "version_minor": 0
      },
      "text/plain": [
       "HBox(children=(FloatProgress(value=0.0, description='Training', layout=Layout(flex='2'), max=1250.0, style=Pro…"
      ]
     },
     "metadata": {},
     "output_type": "display_data"
    },
    {
     "name": "stdout",
     "output_type": "stream",
     "text": [
      "Epoch 3537: train=7.72459, val=7.79488, took 31.272 s\n",
      "  Validation Found 51346 of 54504, added 1897 (eff 94.21%) (0.19 FP/event)\n"
     ]
    },
    {
     "data": {
      "application/vnd.jupyter.widget-view+json": {
       "model_id": "",
       "version_major": 2,
       "version_minor": 0
      },
      "text/plain": [
       "HBox(children=(FloatProgress(value=0.0, description='Training', layout=Layout(flex='2'), max=1250.0, style=Pro…"
      ]
     },
     "metadata": {},
     "output_type": "display_data"
    },
    {
     "name": "stdout",
     "output_type": "stream",
     "text": [
      "Epoch 3538: train=7.72815, val=7.80082, took 31.3 s\n",
      "  Validation Found 51295 of 54504, added 1873 (eff 94.11%) (0.188 FP/event)\n"
     ]
    },
    {
     "data": {
      "application/vnd.jupyter.widget-view+json": {
       "model_id": "",
       "version_major": 2,
       "version_minor": 0
      },
      "text/plain": [
       "HBox(children=(FloatProgress(value=0.0, description='Training', layout=Layout(flex='2'), max=1250.0, style=Pro…"
      ]
     },
     "metadata": {},
     "output_type": "display_data"
    },
    {
     "name": "stdout",
     "output_type": "stream",
     "text": [
      "Epoch 3539: train=7.72717, val=7.81466, took 31.312 s\n",
      "  Validation Found 51274 of 54504, added 1789 (eff 94.07%) (0.179 FP/event)\n"
     ]
    },
    {
     "data": {
      "application/vnd.jupyter.widget-view+json": {
       "model_id": "",
       "version_major": 2,
       "version_minor": 0
      },
      "text/plain": [
       "HBox(children=(FloatProgress(value=0.0, description='Training', layout=Layout(flex='2'), max=1250.0, style=Pro…"
      ]
     },
     "metadata": {},
     "output_type": "display_data"
    },
    {
     "name": "stdout",
     "output_type": "stream",
     "text": [
      "Epoch 3540: train=7.72249, val=7.82133, took 31.343 s\n",
      "  Validation Found 51246 of 54504, added 1788 (eff 94.02%) (0.179 FP/event)\n"
     ]
    },
    {
     "data": {
      "application/vnd.jupyter.widget-view+json": {
       "model_id": "",
       "version_major": 2,
       "version_minor": 0
      },
      "text/plain": [
       "HBox(children=(FloatProgress(value=0.0, description='Training', layout=Layout(flex='2'), max=1250.0, style=Pro…"
      ]
     },
     "metadata": {},
     "output_type": "display_data"
    },
    {
     "name": "stdout",
     "output_type": "stream",
     "text": [
      "Epoch 3541: train=7.72602, val=7.80404, took 31.484 s\n",
      "  Validation Found 51313 of 54504, added 1867 (eff 94.15%) (0.187 FP/event)\n"
     ]
    },
    {
     "data": {
      "application/vnd.jupyter.widget-view+json": {
       "model_id": "",
       "version_major": 2,
       "version_minor": 0
      },
      "text/plain": [
       "HBox(children=(FloatProgress(value=0.0, description='Training', layout=Layout(flex='2'), max=1250.0, style=Pro…"
      ]
     },
     "metadata": {},
     "output_type": "display_data"
    },
    {
     "name": "stdout",
     "output_type": "stream",
     "text": [
      "Epoch 3542: train=7.72934, val=7.81023, took 31.864 s\n",
      "  Validation Found 51281 of 54504, added 1838 (eff 94.09%) (0.184 FP/event)\n"
     ]
    },
    {
     "data": {
      "application/vnd.jupyter.widget-view+json": {
       "model_id": "",
       "version_major": 2,
       "version_minor": 0
      },
      "text/plain": [
       "HBox(children=(FloatProgress(value=0.0, description='Training', layout=Layout(flex='2'), max=1250.0, style=Pro…"
      ]
     },
     "metadata": {},
     "output_type": "display_data"
    },
    {
     "name": "stdout",
     "output_type": "stream",
     "text": [
      "Epoch 3543: train=7.72497, val=7.82661, took 31.421 s\n",
      "  Validation Found 51259 of 54504, added 1782 (eff 94.05%) (0.178 FP/event)\n"
     ]
    },
    {
     "data": {
      "application/vnd.jupyter.widget-view+json": {
       "model_id": "",
       "version_major": 2,
       "version_minor": 0
      },
      "text/plain": [
       "HBox(children=(FloatProgress(value=0.0, description='Training', layout=Layout(flex='2'), max=1250.0, style=Pro…"
      ]
     },
     "metadata": {},
     "output_type": "display_data"
    },
    {
     "name": "stdout",
     "output_type": "stream",
     "text": [
      "Epoch 3544: train=7.72768, val=7.82307, took 31.373 s\n",
      "  Validation Found 51283 of 54504, added 1820 (eff 94.09%) (0.182 FP/event)\n"
     ]
    },
    {
     "data": {
      "application/vnd.jupyter.widget-view+json": {
       "model_id": "",
       "version_major": 2,
       "version_minor": 0
      },
      "text/plain": [
       "HBox(children=(FloatProgress(value=0.0, description='Training', layout=Layout(flex='2'), max=1250.0, style=Pro…"
      ]
     },
     "metadata": {},
     "output_type": "display_data"
    },
    {
     "name": "stdout",
     "output_type": "stream",
     "text": [
      "Epoch 3545: train=7.72673, val=7.79837, took 31.554 s\n",
      "  Validation Found 51355 of 54504, added 1931 (eff 94.22%) (0.193 FP/event)\n"
     ]
    },
    {
     "data": {
      "application/vnd.jupyter.widget-view+json": {
       "model_id": "",
       "version_major": 2,
       "version_minor": 0
      },
      "text/plain": [
       "HBox(children=(FloatProgress(value=0.0, description='Training', layout=Layout(flex='2'), max=1250.0, style=Pro…"
      ]
     },
     "metadata": {},
     "output_type": "display_data"
    },
    {
     "name": "stdout",
     "output_type": "stream",
     "text": [
      "Epoch 3546: train=7.72892, val=7.8088, took 31.18 s\n",
      "  Validation Found 51303 of 54504, added 1831 (eff 94.13%) (0.183 FP/event)\n"
     ]
    },
    {
     "data": {
      "application/vnd.jupyter.widget-view+json": {
       "model_id": "",
       "version_major": 2,
       "version_minor": 0
      },
      "text/plain": [
       "HBox(children=(FloatProgress(value=0.0, description='Training', layout=Layout(flex='2'), max=1250.0, style=Pro…"
      ]
     },
     "metadata": {},
     "output_type": "display_data"
    },
    {
     "name": "stdout",
     "output_type": "stream",
     "text": [
      "Epoch 3547: train=7.73111, val=7.82037, took 31.145 s\n",
      "  Validation Found 51272 of 54504, added 1793 (eff 94.07%) (0.18 FP/event)\n"
     ]
    },
    {
     "data": {
      "application/vnd.jupyter.widget-view+json": {
       "model_id": "",
       "version_major": 2,
       "version_minor": 0
      },
      "text/plain": [
       "HBox(children=(FloatProgress(value=0.0, description='Training', layout=Layout(flex='2'), max=1250.0, style=Pro…"
      ]
     },
     "metadata": {},
     "output_type": "display_data"
    },
    {
     "name": "stdout",
     "output_type": "stream",
     "text": [
      "Epoch 3548: train=7.7254, val=7.80063, took 31.307 s\n",
      "  Validation Found 51321 of 54504, added 1889 (eff 94.16%) (0.189 FP/event)\n"
     ]
    },
    {
     "data": {
      "application/vnd.jupyter.widget-view+json": {
       "model_id": "",
       "version_major": 2,
       "version_minor": 0
      },
      "text/plain": [
       "HBox(children=(FloatProgress(value=0.0, description='Training', layout=Layout(flex='2'), max=1250.0, style=Pro…"
      ]
     },
     "metadata": {},
     "output_type": "display_data"
    },
    {
     "name": "stdout",
     "output_type": "stream",
     "text": [
      "Epoch 3549: train=7.72959, val=7.80083, took 31.315 s\n",
      "  Validation Found 51300 of 54504, added 1834 (eff 94.12%) (0.184 FP/event)\n"
     ]
    },
    {
     "data": {
      "application/vnd.jupyter.widget-view+json": {
       "model_id": "",
       "version_major": 2,
       "version_minor": 0
      },
      "text/plain": [
       "HBox(children=(FloatProgress(value=0.0, description='Training', layout=Layout(flex='2'), max=1250.0, style=Pro…"
      ]
     },
     "metadata": {},
     "output_type": "display_data"
    },
    {
     "name": "stdout",
     "output_type": "stream",
     "text": [
      "Epoch 3550: train=7.72852, val=7.81689, took 31.435 s\n",
      "  Validation Found 51303 of 54504, added 1822 (eff 94.13%) (0.182 FP/event)\n"
     ]
    },
    {
     "data": {
      "application/vnd.jupyter.widget-view+json": {
       "model_id": "",
       "version_major": 2,
       "version_minor": 0
      },
      "text/plain": [
       "HBox(children=(FloatProgress(value=0.0, description='Training', layout=Layout(flex='2'), max=1250.0, style=Pro…"
      ]
     },
     "metadata": {},
     "output_type": "display_data"
    },
    {
     "name": "stdout",
     "output_type": "stream",
     "text": [
      "Epoch 3551: train=7.73107, val=7.8013, took 31.619 s\n",
      "  Validation Found 51338 of 54504, added 1892 (eff 94.19%) (0.189 FP/event)\n"
     ]
    },
    {
     "data": {
      "application/vnd.jupyter.widget-view+json": {
       "model_id": "",
       "version_major": 2,
       "version_minor": 0
      },
      "text/plain": [
       "HBox(children=(FloatProgress(value=0.0, description='Training', layout=Layout(flex='2'), max=1250.0, style=Pro…"
      ]
     },
     "metadata": {},
     "output_type": "display_data"
    },
    {
     "name": "stdout",
     "output_type": "stream",
     "text": [
      "Epoch 3552: train=7.725, val=7.78965, took 31.422 s\n",
      "  Validation Found 51330 of 54504, added 1863 (eff 94.18%) (0.187 FP/event)\n"
     ]
    },
    {
     "data": {
      "application/vnd.jupyter.widget-view+json": {
       "model_id": "",
       "version_major": 2,
       "version_minor": 0
      },
      "text/plain": [
       "HBox(children=(FloatProgress(value=0.0, description='Training', layout=Layout(flex='2'), max=1250.0, style=Pro…"
      ]
     },
     "metadata": {},
     "output_type": "display_data"
    },
    {
     "name": "stdout",
     "output_type": "stream",
     "text": [
      "Epoch 3553: train=7.72676, val=7.79934, took 31.273 s\n",
      "  Validation Found 51287 of 54504, added 1822 (eff 94.10%) (0.182 FP/event)\n"
     ]
    },
    {
     "data": {
      "application/vnd.jupyter.widget-view+json": {
       "model_id": "",
       "version_major": 2,
       "version_minor": 0
      },
      "text/plain": [
       "HBox(children=(FloatProgress(value=0.0, description='Training', layout=Layout(flex='2'), max=1250.0, style=Pro…"
      ]
     },
     "metadata": {},
     "output_type": "display_data"
    },
    {
     "name": "stdout",
     "output_type": "stream",
     "text": [
      "Epoch 3554: train=7.73283, val=7.82978, took 31.197 s\n",
      "  Validation Found 51273 of 54504, added 1811 (eff 94.07%) (0.181 FP/event)\n"
     ]
    },
    {
     "data": {
      "application/vnd.jupyter.widget-view+json": {
       "model_id": "",
       "version_major": 2,
       "version_minor": 0
      },
      "text/plain": [
       "HBox(children=(FloatProgress(value=0.0, description='Training', layout=Layout(flex='2'), max=1250.0, style=Pro…"
      ]
     },
     "metadata": {},
     "output_type": "display_data"
    },
    {
     "name": "stdout",
     "output_type": "stream",
     "text": [
      "Epoch 3555: train=7.72698, val=7.8153, took 31.314 s\n",
      "  Validation Found 51310 of 54504, added 1847 (eff 94.14%) (0.185 FP/event)\n"
     ]
    },
    {
     "data": {
      "application/vnd.jupyter.widget-view+json": {
       "model_id": "",
       "version_major": 2,
       "version_minor": 0
      },
      "text/plain": [
       "HBox(children=(FloatProgress(value=0.0, description='Training', layout=Layout(flex='2'), max=1250.0, style=Pro…"
      ]
     },
     "metadata": {},
     "output_type": "display_data"
    },
    {
     "name": "stdout",
     "output_type": "stream",
     "text": [
      "Epoch 3556: train=7.72772, val=7.81764, took 31.331 s\n",
      "  Validation Found 51276 of 54504, added 1819 (eff 94.08%) (0.182 FP/event)\n"
     ]
    },
    {
     "data": {
      "application/vnd.jupyter.widget-view+json": {
       "model_id": "",
       "version_major": 2,
       "version_minor": 0
      },
      "text/plain": [
       "HBox(children=(FloatProgress(value=0.0, description='Training', layout=Layout(flex='2'), max=1250.0, style=Pro…"
      ]
     },
     "metadata": {},
     "output_type": "display_data"
    },
    {
     "name": "stdout",
     "output_type": "stream",
     "text": [
      "Epoch 3557: train=7.72771, val=7.78608, took 31.292 s\n",
      "  Validation Found 51350 of 54504, added 1922 (eff 94.21%) (0.192 FP/event)\n"
     ]
    },
    {
     "data": {
      "application/vnd.jupyter.widget-view+json": {
       "model_id": "",
       "version_major": 2,
       "version_minor": 0
      },
      "text/plain": [
       "HBox(children=(FloatProgress(value=0.0, description='Training', layout=Layout(flex='2'), max=1250.0, style=Pro…"
      ]
     },
     "metadata": {},
     "output_type": "display_data"
    },
    {
     "name": "stdout",
     "output_type": "stream",
     "text": [
      "Epoch 3558: train=7.72538, val=7.79399, took 31.528 s\n",
      "  Validation Found 51359 of 54504, added 1904 (eff 94.23%) (0.191 FP/event)\n"
     ]
    },
    {
     "data": {
      "application/vnd.jupyter.widget-view+json": {
       "model_id": "",
       "version_major": 2,
       "version_minor": 0
      },
      "text/plain": [
       "HBox(children=(FloatProgress(value=0.0, description='Training', layout=Layout(flex='2'), max=1250.0, style=Pro…"
      ]
     },
     "metadata": {},
     "output_type": "display_data"
    },
    {
     "name": "stdout",
     "output_type": "stream",
     "text": [
      "Epoch 3559: train=7.72675, val=7.82311, took 31.235 s\n",
      "  Validation Found 51262 of 54504, added 1788 (eff 94.05%) (0.179 FP/event)\n"
     ]
    },
    {
     "data": {
      "application/vnd.jupyter.widget-view+json": {
       "model_id": "",
       "version_major": 2,
       "version_minor": 0
      },
      "text/plain": [
       "HBox(children=(FloatProgress(value=0.0, description='Training', layout=Layout(flex='2'), max=1250.0, style=Pro…"
      ]
     },
     "metadata": {},
     "output_type": "display_data"
    },
    {
     "name": "stdout",
     "output_type": "stream",
     "text": [
      "Epoch 3560: train=7.72964, val=7.78995, took 31.371 s\n",
      "  Validation Found 51318 of 54504, added 1891 (eff 94.15%) (0.189 FP/event)\n"
     ]
    },
    {
     "data": {
      "application/vnd.jupyter.widget-view+json": {
       "model_id": "",
       "version_major": 2,
       "version_minor": 0
      },
      "text/plain": [
       "HBox(children=(FloatProgress(value=0.0, description='Training', layout=Layout(flex='2'), max=1250.0, style=Pro…"
      ]
     },
     "metadata": {},
     "output_type": "display_data"
    },
    {
     "name": "stdout",
     "output_type": "stream",
     "text": [
      "Epoch 3561: train=7.72593, val=7.80849, took 31.342 s\n",
      "  Validation Found 51281 of 54504, added 1805 (eff 94.09%) (0.181 FP/event)\n"
     ]
    },
    {
     "data": {
      "application/vnd.jupyter.widget-view+json": {
       "model_id": "",
       "version_major": 2,
       "version_minor": 0
      },
      "text/plain": [
       "HBox(children=(FloatProgress(value=0.0, description='Training', layout=Layout(flex='2'), max=1250.0, style=Pro…"
      ]
     },
     "metadata": {},
     "output_type": "display_data"
    },
    {
     "name": "stdout",
     "output_type": "stream",
     "text": [
      "Epoch 3562: train=7.72868, val=7.79905, took 31.157 s\n",
      "  Validation Found 51315 of 54504, added 1857 (eff 94.15%) (0.186 FP/event)\n"
     ]
    },
    {
     "data": {
      "application/vnd.jupyter.widget-view+json": {
       "model_id": "",
       "version_major": 2,
       "version_minor": 0
      },
      "text/plain": [
       "HBox(children=(FloatProgress(value=0.0, description='Training', layout=Layout(flex='2'), max=1250.0, style=Pro…"
      ]
     },
     "metadata": {},
     "output_type": "display_data"
    },
    {
     "name": "stdout",
     "output_type": "stream",
     "text": [
      "Epoch 3563: train=7.72404, val=7.78936, took 31.766 s\n",
      "  Validation Found 51301 of 54504, added 1815 (eff 94.12%) (0.182 FP/event)\n"
     ]
    },
    {
     "data": {
      "application/vnd.jupyter.widget-view+json": {
       "model_id": "",
       "version_major": 2,
       "version_minor": 0
      },
      "text/plain": [
       "HBox(children=(FloatProgress(value=0.0, description='Training', layout=Layout(flex='2'), max=1250.0, style=Pro…"
      ]
     },
     "metadata": {},
     "output_type": "display_data"
    },
    {
     "name": "stdout",
     "output_type": "stream",
     "text": [
      "Epoch 3564: train=7.72861, val=7.80275, took 31.233 s\n",
      "  Validation Found 51327 of 54504, added 1897 (eff 94.17%) (0.19 FP/event)\n"
     ]
    },
    {
     "data": {
      "application/vnd.jupyter.widget-view+json": {
       "model_id": "",
       "version_major": 2,
       "version_minor": 0
      },
      "text/plain": [
       "HBox(children=(FloatProgress(value=0.0, description='Training', layout=Layout(flex='2'), max=1250.0, style=Pro…"
      ]
     },
     "metadata": {},
     "output_type": "display_data"
    },
    {
     "name": "stdout",
     "output_type": "stream",
     "text": [
      "Epoch 3565: train=7.72925, val=7.8062, took 31.341 s\n",
      "  Validation Found 51316 of 54504, added 1875 (eff 94.15%) (0.188 FP/event)\n"
     ]
    },
    {
     "data": {
      "application/vnd.jupyter.widget-view+json": {
       "model_id": "",
       "version_major": 2,
       "version_minor": 0
      },
      "text/plain": [
       "HBox(children=(FloatProgress(value=0.0, description='Training', layout=Layout(flex='2'), max=1250.0, style=Pro…"
      ]
     },
     "metadata": {},
     "output_type": "display_data"
    },
    {
     "name": "stdout",
     "output_type": "stream",
     "text": [
      "Epoch 3566: train=7.72803, val=7.80774, took 31.355 s\n",
      "  Validation Found 51275 of 54504, added 1813 (eff 94.08%) (0.182 FP/event)\n"
     ]
    },
    {
     "data": {
      "application/vnd.jupyter.widget-view+json": {
       "model_id": "",
       "version_major": 2,
       "version_minor": 0
      },
      "text/plain": [
       "HBox(children=(FloatProgress(value=0.0, description='Training', layout=Layout(flex='2'), max=1250.0, style=Pro…"
      ]
     },
     "metadata": {},
     "output_type": "display_data"
    },
    {
     "name": "stdout",
     "output_type": "stream",
     "text": [
      "Epoch 3567: train=7.73023, val=7.8116, took 31.343 s\n",
      "  Validation Found 51313 of 54504, added 1852 (eff 94.15%) (0.185 FP/event)\n"
     ]
    },
    {
     "data": {
      "application/vnd.jupyter.widget-view+json": {
       "model_id": "",
       "version_major": 2,
       "version_minor": 0
      },
      "text/plain": [
       "HBox(children=(FloatProgress(value=0.0, description='Training', layout=Layout(flex='2'), max=1250.0, style=Pro…"
      ]
     },
     "metadata": {},
     "output_type": "display_data"
    },
    {
     "name": "stdout",
     "output_type": "stream",
     "text": [
      "Epoch 3568: train=7.72569, val=7.79377, took 31.75 s\n",
      "  Validation Found 51302 of 54504, added 1874 (eff 94.13%) (0.188 FP/event)\n"
     ]
    },
    {
     "data": {
      "application/vnd.jupyter.widget-view+json": {
       "model_id": "",
       "version_major": 2,
       "version_minor": 0
      },
      "text/plain": [
       "HBox(children=(FloatProgress(value=0.0, description='Training', layout=Layout(flex='2'), max=1250.0, style=Pro…"
      ]
     },
     "metadata": {},
     "output_type": "display_data"
    },
    {
     "name": "stdout",
     "output_type": "stream",
     "text": [
      "Epoch 3569: train=7.73071, val=7.81584, took 31.064 s\n",
      "  Validation Found 51296 of 54504, added 1843 (eff 94.11%) (0.185 FP/event)\n"
     ]
    },
    {
     "data": {
      "application/vnd.jupyter.widget-view+json": {
       "model_id": "",
       "version_major": 2,
       "version_minor": 0
      },
      "text/plain": [
       "HBox(children=(FloatProgress(value=0.0, description='Training', layout=Layout(flex='2'), max=1250.0, style=Pro…"
      ]
     },
     "metadata": {},
     "output_type": "display_data"
    },
    {
     "name": "stdout",
     "output_type": "stream",
     "text": [
      "Epoch 3570: train=7.72667, val=7.79247, took 31.116 s\n",
      "  Validation Found 51357 of 54504, added 1899 (eff 94.23%) (0.19 FP/event)\n"
     ]
    },
    {
     "data": {
      "application/vnd.jupyter.widget-view+json": {
       "model_id": "",
       "version_major": 2,
       "version_minor": 0
      },
      "text/plain": [
       "HBox(children=(FloatProgress(value=0.0, description='Training', layout=Layout(flex='2'), max=1250.0, style=Pro…"
      ]
     },
     "metadata": {},
     "output_type": "display_data"
    },
    {
     "name": "stdout",
     "output_type": "stream",
     "text": [
      "Epoch 3571: train=7.7289, val=7.79534, took 31.181 s\n",
      "  Validation Found 51303 of 54504, added 1867 (eff 94.13%) (0.187 FP/event)\n"
     ]
    },
    {
     "data": {
      "application/vnd.jupyter.widget-view+json": {
       "model_id": "",
       "version_major": 2,
       "version_minor": 0
      },
      "text/plain": [
       "HBox(children=(FloatProgress(value=0.0, description='Training', layout=Layout(flex='2'), max=1250.0, style=Pro…"
      ]
     },
     "metadata": {},
     "output_type": "display_data"
    },
    {
     "name": "stdout",
     "output_type": "stream",
     "text": [
      "Epoch 3572: train=7.72295, val=7.80542, took 31.18 s\n",
      "  Validation Found 51310 of 54504, added 1831 (eff 94.14%) (0.183 FP/event)\n"
     ]
    },
    {
     "data": {
      "application/vnd.jupyter.widget-view+json": {
       "model_id": "",
       "version_major": 2,
       "version_minor": 0
      },
      "text/plain": [
       "HBox(children=(FloatProgress(value=0.0, description='Training', layout=Layout(flex='2'), max=1250.0, style=Pro…"
      ]
     },
     "metadata": {},
     "output_type": "display_data"
    },
    {
     "name": "stdout",
     "output_type": "stream",
     "text": [
      "Epoch 3573: train=7.73032, val=7.79388, took 31.3 s\n",
      "  Validation Found 51317 of 54504, added 1868 (eff 94.15%) (0.187 FP/event)\n"
     ]
    },
    {
     "data": {
      "application/vnd.jupyter.widget-view+json": {
       "model_id": "",
       "version_major": 2,
       "version_minor": 0
      },
      "text/plain": [
       "HBox(children=(FloatProgress(value=0.0, description='Training', layout=Layout(flex='2'), max=1250.0, style=Pro…"
      ]
     },
     "metadata": {},
     "output_type": "display_data"
    },
    {
     "name": "stdout",
     "output_type": "stream",
     "text": [
      "Epoch 3574: train=7.72324, val=7.80283, took 31.254 s\n",
      "  Validation Found 51293 of 54504, added 1833 (eff 94.11%) (0.184 FP/event)\n"
     ]
    },
    {
     "data": {
      "application/vnd.jupyter.widget-view+json": {
       "model_id": "",
       "version_major": 2,
       "version_minor": 0
      },
      "text/plain": [
       "HBox(children=(FloatProgress(value=0.0, description='Training', layout=Layout(flex='2'), max=1250.0, style=Pro…"
      ]
     },
     "metadata": {},
     "output_type": "display_data"
    },
    {
     "name": "stdout",
     "output_type": "stream",
     "text": [
      "Epoch 3575: train=7.72847, val=7.81356, took 31.811 s\n",
      "  Validation Found 51265 of 54504, added 1773 (eff 94.06%) (0.178 FP/event)\n"
     ]
    },
    {
     "data": {
      "application/vnd.jupyter.widget-view+json": {
       "model_id": "",
       "version_major": 2,
       "version_minor": 0
      },
      "text/plain": [
       "HBox(children=(FloatProgress(value=0.0, description='Training', layout=Layout(flex='2'), max=1250.0, style=Pro…"
      ]
     },
     "metadata": {},
     "output_type": "display_data"
    },
    {
     "name": "stdout",
     "output_type": "stream",
     "text": [
      "Epoch 3576: train=7.72708, val=7.81043, took 31.778 s\n",
      "  Validation Found 51289 of 54504, added 1796 (eff 94.10%) (0.18 FP/event)\n"
     ]
    },
    {
     "data": {
      "application/vnd.jupyter.widget-view+json": {
       "model_id": "",
       "version_major": 2,
       "version_minor": 0
      },
      "text/plain": [
       "HBox(children=(FloatProgress(value=0.0, description='Training', layout=Layout(flex='2'), max=1250.0, style=Pro…"
      ]
     },
     "metadata": {},
     "output_type": "display_data"
    },
    {
     "name": "stdout",
     "output_type": "stream",
     "text": [
      "Epoch 3577: train=7.7288, val=7.82106, took 31.413 s\n",
      "  Validation Found 51292 of 54504, added 1830 (eff 94.11%) (0.183 FP/event)\n"
     ]
    },
    {
     "data": {
      "application/vnd.jupyter.widget-view+json": {
       "model_id": "",
       "version_major": 2,
       "version_minor": 0
      },
      "text/plain": [
       "HBox(children=(FloatProgress(value=0.0, description='Training', layout=Layout(flex='2'), max=1250.0, style=Pro…"
      ]
     },
     "metadata": {},
     "output_type": "display_data"
    },
    {
     "name": "stdout",
     "output_type": "stream",
     "text": [
      "Epoch 3578: train=7.72805, val=7.79762, took 31.336 s\n",
      "  Validation Found 51338 of 54504, added 1893 (eff 94.19%) (0.19 FP/event)\n"
     ]
    },
    {
     "data": {
      "application/vnd.jupyter.widget-view+json": {
       "model_id": "",
       "version_major": 2,
       "version_minor": 0
      },
      "text/plain": [
       "HBox(children=(FloatProgress(value=0.0, description='Training', layout=Layout(flex='2'), max=1250.0, style=Pro…"
      ]
     },
     "metadata": {},
     "output_type": "display_data"
    },
    {
     "name": "stdout",
     "output_type": "stream",
     "text": [
      "Epoch 3579: train=7.7302, val=7.79113, took 31.339 s\n",
      "  Validation Found 51340 of 54504, added 1918 (eff 94.19%) (0.192 FP/event)\n"
     ]
    },
    {
     "data": {
      "application/vnd.jupyter.widget-view+json": {
       "model_id": "",
       "version_major": 2,
       "version_minor": 0
      },
      "text/plain": [
       "HBox(children=(FloatProgress(value=0.0, description='Training', layout=Layout(flex='2'), max=1250.0, style=Pro…"
      ]
     },
     "metadata": {},
     "output_type": "display_data"
    },
    {
     "name": "stdout",
     "output_type": "stream",
     "text": [
      "Epoch 3580: train=7.72592, val=7.8265, took 31.401 s\n",
      "  Validation Found 51243 of 54504, added 1746 (eff 94.02%) (0.175 FP/event)\n"
     ]
    },
    {
     "data": {
      "application/vnd.jupyter.widget-view+json": {
       "model_id": "",
       "version_major": 2,
       "version_minor": 0
      },
      "text/plain": [
       "HBox(children=(FloatProgress(value=0.0, description='Training', layout=Layout(flex='2'), max=1250.0, style=Pro…"
      ]
     },
     "metadata": {},
     "output_type": "display_data"
    },
    {
     "name": "stdout",
     "output_type": "stream",
     "text": [
      "Epoch 3581: train=7.72586, val=7.80671, took 31.666 s\n",
      "  Validation Found 51346 of 54504, added 1887 (eff 94.21%) (0.189 FP/event)\n"
     ]
    },
    {
     "data": {
      "application/vnd.jupyter.widget-view+json": {
       "model_id": "",
       "version_major": 2,
       "version_minor": 0
      },
      "text/plain": [
       "HBox(children=(FloatProgress(value=0.0, description='Training', layout=Layout(flex='2'), max=1250.0, style=Pro…"
      ]
     },
     "metadata": {},
     "output_type": "display_data"
    },
    {
     "name": "stdout",
     "output_type": "stream",
     "text": [
      "Epoch 3582: train=7.72815, val=7.79095, took 31.293 s\n",
      "  Validation Found 51332 of 54504, added 1877 (eff 94.18%) (0.188 FP/event)\n"
     ]
    },
    {
     "data": {
      "application/vnd.jupyter.widget-view+json": {
       "model_id": "",
       "version_major": 2,
       "version_minor": 0
      },
      "text/plain": [
       "HBox(children=(FloatProgress(value=0.0, description='Training', layout=Layout(flex='2'), max=1250.0, style=Pro…"
      ]
     },
     "metadata": {},
     "output_type": "display_data"
    },
    {
     "name": "stdout",
     "output_type": "stream",
     "text": [
      "Epoch 3583: train=7.72659, val=7.80527, took 31.26 s\n",
      "  Validation Found 51330 of 54504, added 1895 (eff 94.18%) (0.19 FP/event)\n"
     ]
    },
    {
     "data": {
      "application/vnd.jupyter.widget-view+json": {
       "model_id": "",
       "version_major": 2,
       "version_minor": 0
      },
      "text/plain": [
       "HBox(children=(FloatProgress(value=0.0, description='Training', layout=Layout(flex='2'), max=1250.0, style=Pro…"
      ]
     },
     "metadata": {},
     "output_type": "display_data"
    },
    {
     "name": "stdout",
     "output_type": "stream",
     "text": [
      "Epoch 3584: train=7.72523, val=7.81227, took 31.251 s\n",
      "  Validation Found 51281 of 54504, added 1819 (eff 94.09%) (0.182 FP/event)\n"
     ]
    },
    {
     "data": {
      "application/vnd.jupyter.widget-view+json": {
       "model_id": "",
       "version_major": 2,
       "version_minor": 0
      },
      "text/plain": [
       "HBox(children=(FloatProgress(value=0.0, description='Training', layout=Layout(flex='2'), max=1250.0, style=Pro…"
      ]
     },
     "metadata": {},
     "output_type": "display_data"
    },
    {
     "name": "stdout",
     "output_type": "stream",
     "text": [
      "Epoch 3585: train=7.73034, val=7.79958, took 31.487 s\n",
      "  Validation Found 51348 of 54504, added 1895 (eff 94.21%) (0.19 FP/event)\n"
     ]
    },
    {
     "data": {
      "application/vnd.jupyter.widget-view+json": {
       "model_id": "",
       "version_major": 2,
       "version_minor": 0
      },
      "text/plain": [
       "HBox(children=(FloatProgress(value=0.0, description='Training', layout=Layout(flex='2'), max=1250.0, style=Pro…"
      ]
     },
     "metadata": {},
     "output_type": "display_data"
    },
    {
     "name": "stdout",
     "output_type": "stream",
     "text": [
      "Epoch 3586: train=7.72498, val=7.80464, took 31.407 s\n",
      "  Validation Found 51333 of 54504, added 1892 (eff 94.18%) (0.189 FP/event)\n"
     ]
    },
    {
     "data": {
      "application/vnd.jupyter.widget-view+json": {
       "model_id": "",
       "version_major": 2,
       "version_minor": 0
      },
      "text/plain": [
       "HBox(children=(FloatProgress(value=0.0, description='Training', layout=Layout(flex='2'), max=1250.0, style=Pro…"
      ]
     },
     "metadata": {},
     "output_type": "display_data"
    },
    {
     "name": "stdout",
     "output_type": "stream",
     "text": [
      "Epoch 3587: train=7.72513, val=7.7912, took 31.243 s\n",
      "  Validation Found 51307 of 54504, added 1846 (eff 94.13%) (0.185 FP/event)\n"
     ]
    },
    {
     "data": {
      "application/vnd.jupyter.widget-view+json": {
       "model_id": "",
       "version_major": 2,
       "version_minor": 0
      },
      "text/plain": [
       "HBox(children=(FloatProgress(value=0.0, description='Training', layout=Layout(flex='2'), max=1250.0, style=Pro…"
      ]
     },
     "metadata": {},
     "output_type": "display_data"
    },
    {
     "name": "stdout",
     "output_type": "stream",
     "text": [
      "Epoch 3588: train=7.72628, val=7.80415, took 31.116 s\n",
      "  Validation Found 51324 of 54504, added 1881 (eff 94.17%) (0.188 FP/event)\n"
     ]
    },
    {
     "data": {
      "application/vnd.jupyter.widget-view+json": {
       "model_id": "",
       "version_major": 2,
       "version_minor": 0
      },
      "text/plain": [
       "HBox(children=(FloatProgress(value=0.0, description='Training', layout=Layout(flex='2'), max=1250.0, style=Pro…"
      ]
     },
     "metadata": {},
     "output_type": "display_data"
    },
    {
     "name": "stdout",
     "output_type": "stream",
     "text": [
      "Epoch 3589: train=7.72546, val=7.80333, took 31.256 s\n",
      "  Validation Found 51318 of 54504, added 1879 (eff 94.15%) (0.188 FP/event)\n"
     ]
    },
    {
     "data": {
      "application/vnd.jupyter.widget-view+json": {
       "model_id": "",
       "version_major": 2,
       "version_minor": 0
      },
      "text/plain": [
       "HBox(children=(FloatProgress(value=0.0, description='Training', layout=Layout(flex='2'), max=1250.0, style=Pro…"
      ]
     },
     "metadata": {},
     "output_type": "display_data"
    },
    {
     "name": "stdout",
     "output_type": "stream",
     "text": [
      "Epoch 3590: train=7.72534, val=7.81445, took 31.283 s\n",
      "  Validation Found 51311 of 54504, added 1860 (eff 94.14%) (0.186 FP/event)\n"
     ]
    },
    {
     "data": {
      "application/vnd.jupyter.widget-view+json": {
       "model_id": "",
       "version_major": 2,
       "version_minor": 0
      },
      "text/plain": [
       "HBox(children=(FloatProgress(value=0.0, description='Training', layout=Layout(flex='2'), max=1250.0, style=Pro…"
      ]
     },
     "metadata": {},
     "output_type": "display_data"
    },
    {
     "name": "stdout",
     "output_type": "stream",
     "text": [
      "Epoch 3591: train=7.72422, val=7.80388, took 31.504 s\n",
      "  Validation Found 51298 of 54504, added 1825 (eff 94.12%) (0.183 FP/event)\n"
     ]
    },
    {
     "data": {
      "application/vnd.jupyter.widget-view+json": {
       "model_id": "",
       "version_major": 2,
       "version_minor": 0
      },
      "text/plain": [
       "HBox(children=(FloatProgress(value=0.0, description='Training', layout=Layout(flex='2'), max=1250.0, style=Pro…"
      ]
     },
     "metadata": {},
     "output_type": "display_data"
    },
    {
     "name": "stdout",
     "output_type": "stream",
     "text": [
      "Epoch 3592: train=7.72388, val=7.80377, took 31.213 s\n",
      "  Validation Found 51274 of 54504, added 1792 (eff 94.07%) (0.179 FP/event)\n"
     ]
    },
    {
     "data": {
      "application/vnd.jupyter.widget-view+json": {
       "model_id": "",
       "version_major": 2,
       "version_minor": 0
      },
      "text/plain": [
       "HBox(children=(FloatProgress(value=0.0, description='Training', layout=Layout(flex='2'), max=1250.0, style=Pro…"
      ]
     },
     "metadata": {},
     "output_type": "display_data"
    },
    {
     "name": "stdout",
     "output_type": "stream",
     "text": [
      "Epoch 3593: train=7.72839, val=7.82073, took 31.265 s\n",
      "  Validation Found 51267 of 54504, added 1799 (eff 94.06%) (0.18 FP/event)\n"
     ]
    },
    {
     "data": {
      "application/vnd.jupyter.widget-view+json": {
       "model_id": "",
       "version_major": 2,
       "version_minor": 0
      },
      "text/plain": [
       "HBox(children=(FloatProgress(value=0.0, description='Training', layout=Layout(flex='2'), max=1250.0, style=Pro…"
      ]
     },
     "metadata": {},
     "output_type": "display_data"
    },
    {
     "name": "stdout",
     "output_type": "stream",
     "text": [
      "Epoch 3594: train=7.7306, val=7.80936, took 31.612 s\n",
      "  Validation Found 51291 of 54504, added 1823 (eff 94.11%) (0.183 FP/event)\n"
     ]
    },
    {
     "data": {
      "application/vnd.jupyter.widget-view+json": {
       "model_id": "",
       "version_major": 2,
       "version_minor": 0
      },
      "text/plain": [
       "HBox(children=(FloatProgress(value=0.0, description='Training', layout=Layout(flex='2'), max=1250.0, style=Pro…"
      ]
     },
     "metadata": {},
     "output_type": "display_data"
    },
    {
     "name": "stdout",
     "output_type": "stream",
     "text": [
      "Epoch 3595: train=7.72549, val=7.80886, took 31.314 s\n",
      "  Validation Found 51282 of 54504, added 1811 (eff 94.09%) (0.181 FP/event)\n"
     ]
    },
    {
     "data": {
      "application/vnd.jupyter.widget-view+json": {
       "model_id": "",
       "version_major": 2,
       "version_minor": 0
      },
      "text/plain": [
       "HBox(children=(FloatProgress(value=0.0, description='Training', layout=Layout(flex='2'), max=1250.0, style=Pro…"
      ]
     },
     "metadata": {},
     "output_type": "display_data"
    },
    {
     "name": "stdout",
     "output_type": "stream",
     "text": [
      "Epoch 3596: train=7.72515, val=7.8167, took 31.441 s\n",
      "  Validation Found 51286 of 54504, added 1806 (eff 94.10%) (0.181 FP/event)\n"
     ]
    },
    {
     "data": {
      "application/vnd.jupyter.widget-view+json": {
       "model_id": "",
       "version_major": 2,
       "version_minor": 0
      },
      "text/plain": [
       "HBox(children=(FloatProgress(value=0.0, description='Training', layout=Layout(flex='2'), max=1250.0, style=Pro…"
      ]
     },
     "metadata": {},
     "output_type": "display_data"
    },
    {
     "name": "stdout",
     "output_type": "stream",
     "text": [
      "Epoch 3597: train=7.72779, val=7.80619, took 31.292 s\n",
      "  Validation Found 51327 of 54504, added 1875 (eff 94.17%) (0.188 FP/event)\n"
     ]
    },
    {
     "data": {
      "application/vnd.jupyter.widget-view+json": {
       "model_id": "",
       "version_major": 2,
       "version_minor": 0
      },
      "text/plain": [
       "HBox(children=(FloatProgress(value=0.0, description='Training', layout=Layout(flex='2'), max=1250.0, style=Pro…"
      ]
     },
     "metadata": {},
     "output_type": "display_data"
    },
    {
     "name": "stdout",
     "output_type": "stream",
     "text": [
      "Epoch 3598: train=7.72702, val=7.80133, took 31.495 s\n",
      "  Validation Found 51320 of 54504, added 1881 (eff 94.16%) (0.188 FP/event)\n"
     ]
    },
    {
     "data": {
      "application/vnd.jupyter.widget-view+json": {
       "model_id": "",
       "version_major": 2,
       "version_minor": 0
      },
      "text/plain": [
       "HBox(children=(FloatProgress(value=0.0, description='Training', layout=Layout(flex='2'), max=1250.0, style=Pro…"
      ]
     },
     "metadata": {},
     "output_type": "display_data"
    },
    {
     "name": "stdout",
     "output_type": "stream",
     "text": [
      "Epoch 3599: train=7.72642, val=7.80107, took 31.483 s\n",
      "  Validation Found 51322 of 54504, added 1863 (eff 94.16%) (0.187 FP/event)\n"
     ]
    },
    {
     "data": {
      "application/vnd.jupyter.widget-view+json": {
       "model_id": "",
       "version_major": 2,
       "version_minor": 0
      },
      "text/plain": [
       "HBox(children=(FloatProgress(value=0.0, description='Training', layout=Layout(flex='2'), max=1250.0, style=Pro…"
      ]
     },
     "metadata": {},
     "output_type": "display_data"
    },
    {
     "name": "stdout",
     "output_type": "stream",
     "text": [
      "Epoch 3600: train=7.72909, val=7.79712, took 31.348 s\n",
      "  Validation Found 51289 of 54504, added 1806 (eff 94.10%) (0.181 FP/event)\n"
     ]
    },
    {
     "data": {
      "application/vnd.jupyter.widget-view+json": {
       "model_id": "",
       "version_major": 2,
       "version_minor": 0
      },
      "text/plain": [
       "HBox(children=(FloatProgress(value=0.0, description='Training', layout=Layout(flex='2'), max=1250.0, style=Pro…"
      ]
     },
     "metadata": {},
     "output_type": "display_data"
    },
    {
     "name": "stdout",
     "output_type": "stream",
     "text": [
      "Epoch 3601: train=7.72902, val=7.78954, took 31.28 s\n",
      "  Validation Found 51360 of 54504, added 1937 (eff 94.23%) (0.194 FP/event)\n"
     ]
    },
    {
     "data": {
      "application/vnd.jupyter.widget-view+json": {
       "model_id": "",
       "version_major": 2,
       "version_minor": 0
      },
      "text/plain": [
       "HBox(children=(FloatProgress(value=0.0, description='Training', layout=Layout(flex='2'), max=1250.0, style=Pro…"
      ]
     },
     "metadata": {},
     "output_type": "display_data"
    },
    {
     "name": "stdout",
     "output_type": "stream",
     "text": [
      "Epoch 3602: train=7.72894, val=7.79153, took 31.316 s\n",
      "  Validation Found 51386 of 54504, added 1961 (eff 94.28%) (0.196 FP/event)\n"
     ]
    },
    {
     "data": {
      "application/vnd.jupyter.widget-view+json": {
       "model_id": "",
       "version_major": 2,
       "version_minor": 0
      },
      "text/plain": [
       "HBox(children=(FloatProgress(value=0.0, description='Training', layout=Layout(flex='2'), max=1250.0, style=Pro…"
      ]
     },
     "metadata": {},
     "output_type": "display_data"
    },
    {
     "name": "stdout",
     "output_type": "stream",
     "text": [
      "Epoch 3603: train=7.72975, val=7.83212, took 31.464 s\n",
      "  Validation Found 51253 of 54504, added 1781 (eff 94.04%) (0.178 FP/event)\n"
     ]
    },
    {
     "data": {
      "application/vnd.jupyter.widget-view+json": {
       "model_id": "",
       "version_major": 2,
       "version_minor": 0
      },
      "text/plain": [
       "HBox(children=(FloatProgress(value=0.0, description='Training', layout=Layout(flex='2'), max=1250.0, style=Pro…"
      ]
     },
     "metadata": {},
     "output_type": "display_data"
    },
    {
     "name": "stdout",
     "output_type": "stream",
     "text": [
      "Epoch 3604: train=7.72612, val=7.81633, took 31.377 s\n",
      "  Validation Found 51250 of 54504, added 1765 (eff 94.03%) (0.177 FP/event)\n"
     ]
    },
    {
     "data": {
      "application/vnd.jupyter.widget-view+json": {
       "model_id": "",
       "version_major": 2,
       "version_minor": 0
      },
      "text/plain": [
       "HBox(children=(FloatProgress(value=0.0, description='Training', layout=Layout(flex='2'), max=1250.0, style=Pro…"
      ]
     },
     "metadata": {},
     "output_type": "display_data"
    },
    {
     "name": "stdout",
     "output_type": "stream",
     "text": [
      "Epoch 3605: train=7.73232, val=7.82282, took 31.48 s\n",
      "  Validation Found 51236 of 54504, added 1752 (eff 94.00%) (0.175 FP/event)\n"
     ]
    },
    {
     "data": {
      "application/vnd.jupyter.widget-view+json": {
       "model_id": "",
       "version_major": 2,
       "version_minor": 0
      },
      "text/plain": [
       "HBox(children=(FloatProgress(value=0.0, description='Training', layout=Layout(flex='2'), max=1250.0, style=Pro…"
      ]
     },
     "metadata": {},
     "output_type": "display_data"
    },
    {
     "name": "stdout",
     "output_type": "stream",
     "text": [
      "Epoch 3606: train=7.72403, val=7.81156, took 31.488 s\n",
      "  Validation Found 51269 of 54504, added 1801 (eff 94.06%) (0.18 FP/event)\n"
     ]
    },
    {
     "data": {
      "application/vnd.jupyter.widget-view+json": {
       "model_id": "",
       "version_major": 2,
       "version_minor": 0
      },
      "text/plain": [
       "HBox(children=(FloatProgress(value=0.0, description='Training', layout=Layout(flex='2'), max=1250.0, style=Pro…"
      ]
     },
     "metadata": {},
     "output_type": "display_data"
    },
    {
     "name": "stdout",
     "output_type": "stream",
     "text": [
      "Epoch 3607: train=7.72521, val=7.82331, took 31.478 s\n",
      "  Validation Found 51305 of 54504, added 1820 (eff 94.13%) (0.182 FP/event)\n"
     ]
    },
    {
     "data": {
      "application/vnd.jupyter.widget-view+json": {
       "model_id": "",
       "version_major": 2,
       "version_minor": 0
      },
      "text/plain": [
       "HBox(children=(FloatProgress(value=0.0, description='Training', layout=Layout(flex='2'), max=1250.0, style=Pro…"
      ]
     },
     "metadata": {},
     "output_type": "display_data"
    },
    {
     "name": "stdout",
     "output_type": "stream",
     "text": [
      "Epoch 3608: train=7.72476, val=7.77804, took 31.381 s\n",
      "  Validation Found 51341 of 54504, added 1912 (eff 94.20%) (0.191 FP/event)\n"
     ]
    },
    {
     "data": {
      "application/vnd.jupyter.widget-view+json": {
       "model_id": "",
       "version_major": 2,
       "version_minor": 0
      },
      "text/plain": [
       "HBox(children=(FloatProgress(value=0.0, description='Training', layout=Layout(flex='2'), max=1250.0, style=Pro…"
      ]
     },
     "metadata": {},
     "output_type": "display_data"
    },
    {
     "name": "stdout",
     "output_type": "stream",
     "text": [
      "Epoch 3609: train=7.72959, val=7.785, took 31.628 s\n",
      "  Validation Found 51347 of 54504, added 1915 (eff 94.21%) (0.192 FP/event)\n"
     ]
    },
    {
     "data": {
      "application/vnd.jupyter.widget-view+json": {
       "model_id": "",
       "version_major": 2,
       "version_minor": 0
      },
      "text/plain": [
       "HBox(children=(FloatProgress(value=0.0, description='Training', layout=Layout(flex='2'), max=1250.0, style=Pro…"
      ]
     },
     "metadata": {},
     "output_type": "display_data"
    },
    {
     "name": "stdout",
     "output_type": "stream",
     "text": [
      "Epoch 3610: train=7.7271, val=7.81431, took 31.13 s\n",
      "  Validation Found 51294 of 54504, added 1812 (eff 94.11%) (0.181 FP/event)\n"
     ]
    },
    {
     "data": {
      "application/vnd.jupyter.widget-view+json": {
       "model_id": "",
       "version_major": 2,
       "version_minor": 0
      },
      "text/plain": [
       "HBox(children=(FloatProgress(value=0.0, description='Training', layout=Layout(flex='2'), max=1250.0, style=Pro…"
      ]
     },
     "metadata": {},
     "output_type": "display_data"
    },
    {
     "name": "stdout",
     "output_type": "stream",
     "text": [
      "Epoch 3611: train=7.7246, val=7.80163, took 31.446 s\n",
      "  Validation Found 51317 of 54504, added 1856 (eff 94.15%) (0.186 FP/event)\n"
     ]
    },
    {
     "data": {
      "application/vnd.jupyter.widget-view+json": {
       "model_id": "",
       "version_major": 2,
       "version_minor": 0
      },
      "text/plain": [
       "HBox(children=(FloatProgress(value=0.0, description='Training', layout=Layout(flex='2'), max=1250.0, style=Pro…"
      ]
     },
     "metadata": {},
     "output_type": "display_data"
    },
    {
     "name": "stdout",
     "output_type": "stream",
     "text": [
      "Epoch 3612: train=7.72712, val=7.79002, took 31.54 s\n",
      "  Validation Found 51325 of 54504, added 1873 (eff 94.17%) (0.188 FP/event)\n"
     ]
    },
    {
     "data": {
      "application/vnd.jupyter.widget-view+json": {
       "model_id": "",
       "version_major": 2,
       "version_minor": 0
      },
      "text/plain": [
       "HBox(children=(FloatProgress(value=0.0, description='Training', layout=Layout(flex='2'), max=1250.0, style=Pro…"
      ]
     },
     "metadata": {},
     "output_type": "display_data"
    },
    {
     "name": "stdout",
     "output_type": "stream",
     "text": [
      "Epoch 3613: train=7.72484, val=7.81247, took 31.249 s\n",
      "  Validation Found 51287 of 54504, added 1797 (eff 94.10%) (0.18 FP/event)\n"
     ]
    },
    {
     "data": {
      "application/vnd.jupyter.widget-view+json": {
       "model_id": "",
       "version_major": 2,
       "version_minor": 0
      },
      "text/plain": [
       "HBox(children=(FloatProgress(value=0.0, description='Training', layout=Layout(flex='2'), max=1250.0, style=Pro…"
      ]
     },
     "metadata": {},
     "output_type": "display_data"
    },
    {
     "name": "stdout",
     "output_type": "stream",
     "text": [
      "Epoch 3614: train=7.72787, val=7.79131, took 31.439 s\n",
      "  Validation Found 51335 of 54504, added 1873 (eff 94.19%) (0.188 FP/event)\n"
     ]
    },
    {
     "data": {
      "application/vnd.jupyter.widget-view+json": {
       "model_id": "",
       "version_major": 2,
       "version_minor": 0
      },
      "text/plain": [
       "HBox(children=(FloatProgress(value=0.0, description='Training', layout=Layout(flex='2'), max=1250.0, style=Pro…"
      ]
     },
     "metadata": {},
     "output_type": "display_data"
    },
    {
     "name": "stdout",
     "output_type": "stream",
     "text": [
      "Epoch 3615: train=7.72595, val=7.78646, took 31.02 s\n",
      "  Validation Found 51343 of 54504, added 1894 (eff 94.20%) (0.19 FP/event)\n"
     ]
    },
    {
     "data": {
      "application/vnd.jupyter.widget-view+json": {
       "model_id": "",
       "version_major": 2,
       "version_minor": 0
      },
      "text/plain": [
       "HBox(children=(FloatProgress(value=0.0, description='Training', layout=Layout(flex='2'), max=1250.0, style=Pro…"
      ]
     },
     "metadata": {},
     "output_type": "display_data"
    },
    {
     "name": "stdout",
     "output_type": "stream",
     "text": [
      "Epoch 3616: train=7.72144, val=7.79795, took 31.417 s\n",
      "  Validation Found 51327 of 54504, added 1863 (eff 94.17%) (0.187 FP/event)\n"
     ]
    },
    {
     "data": {
      "application/vnd.jupyter.widget-view+json": {
       "model_id": "",
       "version_major": 2,
       "version_minor": 0
      },
      "text/plain": [
       "HBox(children=(FloatProgress(value=0.0, description='Training', layout=Layout(flex='2'), max=1250.0, style=Pro…"
      ]
     },
     "metadata": {},
     "output_type": "display_data"
    },
    {
     "name": "stdout",
     "output_type": "stream",
     "text": [
      "Epoch 3617: train=7.72662, val=7.80361, took 31.456 s\n",
      "  Validation Found 51301 of 54504, added 1849 (eff 94.12%) (0.185 FP/event)\n"
     ]
    },
    {
     "data": {
      "application/vnd.jupyter.widget-view+json": {
       "model_id": "",
       "version_major": 2,
       "version_minor": 0
      },
      "text/plain": [
       "HBox(children=(FloatProgress(value=0.0, description='Training', layout=Layout(flex='2'), max=1250.0, style=Pro…"
      ]
     },
     "metadata": {},
     "output_type": "display_data"
    },
    {
     "name": "stdout",
     "output_type": "stream",
     "text": [
      "Epoch 3618: train=7.72674, val=7.8035, took 31.376 s\n",
      "  Validation Found 51268 of 54504, added 1778 (eff 94.06%) (0.178 FP/event)\n"
     ]
    },
    {
     "data": {
      "application/vnd.jupyter.widget-view+json": {
       "model_id": "",
       "version_major": 2,
       "version_minor": 0
      },
      "text/plain": [
       "HBox(children=(FloatProgress(value=0.0, description='Training', layout=Layout(flex='2'), max=1250.0, style=Pro…"
      ]
     },
     "metadata": {},
     "output_type": "display_data"
    },
    {
     "name": "stdout",
     "output_type": "stream",
     "text": [
      "Epoch 3619: train=7.7286, val=7.82166, took 31.268 s\n",
      "  Validation Found 51304 of 54504, added 1860 (eff 94.13%) (0.186 FP/event)\n"
     ]
    },
    {
     "data": {
      "application/vnd.jupyter.widget-view+json": {
       "model_id": "",
       "version_major": 2,
       "version_minor": 0
      },
      "text/plain": [
       "HBox(children=(FloatProgress(value=0.0, description='Training', layout=Layout(flex='2'), max=1250.0, style=Pro…"
      ]
     },
     "metadata": {},
     "output_type": "display_data"
    },
    {
     "name": "stdout",
     "output_type": "stream",
     "text": [
      "Epoch 3620: train=7.72509, val=7.78315, took 31.239 s\n",
      "  Validation Found 51335 of 54504, added 1883 (eff 94.19%) (0.189 FP/event)\n"
     ]
    },
    {
     "data": {
      "application/vnd.jupyter.widget-view+json": {
       "model_id": "",
       "version_major": 2,
       "version_minor": 0
      },
      "text/plain": [
       "HBox(children=(FloatProgress(value=0.0, description='Training', layout=Layout(flex='2'), max=1250.0, style=Pro…"
      ]
     },
     "metadata": {},
     "output_type": "display_data"
    },
    {
     "name": "stdout",
     "output_type": "stream",
     "text": [
      "Epoch 3621: train=7.73014, val=7.79518, took 31.735 s\n",
      "  Validation Found 51332 of 54504, added 1908 (eff 94.18%) (0.191 FP/event)\n"
     ]
    },
    {
     "data": {
      "application/vnd.jupyter.widget-view+json": {
       "model_id": "",
       "version_major": 2,
       "version_minor": 0
      },
      "text/plain": [
       "HBox(children=(FloatProgress(value=0.0, description='Training', layout=Layout(flex='2'), max=1250.0, style=Pro…"
      ]
     },
     "metadata": {},
     "output_type": "display_data"
    },
    {
     "name": "stdout",
     "output_type": "stream",
     "text": [
      "Epoch 3622: train=7.72461, val=7.80557, took 31.462 s\n",
      "  Validation Found 51298 of 54504, added 1822 (eff 94.12%) (0.182 FP/event)\n"
     ]
    },
    {
     "data": {
      "application/vnd.jupyter.widget-view+json": {
       "model_id": "",
       "version_major": 2,
       "version_minor": 0
      },
      "text/plain": [
       "HBox(children=(FloatProgress(value=0.0, description='Training', layout=Layout(flex='2'), max=1250.0, style=Pro…"
      ]
     },
     "metadata": {},
     "output_type": "display_data"
    },
    {
     "name": "stdout",
     "output_type": "stream",
     "text": [
      "Epoch 3623: train=7.72693, val=7.8007, took 31.459 s\n",
      "  Validation Found 51334 of 54504, added 1907 (eff 94.18%) (0.191 FP/event)\n"
     ]
    },
    {
     "data": {
      "application/vnd.jupyter.widget-view+json": {
       "model_id": "",
       "version_major": 2,
       "version_minor": 0
      },
      "text/plain": [
       "HBox(children=(FloatProgress(value=0.0, description='Training', layout=Layout(flex='2'), max=1250.0, style=Pro…"
      ]
     },
     "metadata": {},
     "output_type": "display_data"
    },
    {
     "name": "stdout",
     "output_type": "stream",
     "text": [
      "Epoch 3624: train=7.72886, val=7.79562, took 31.493 s\n",
      "  Validation Found 51345 of 54504, added 1925 (eff 94.20%) (0.193 FP/event)\n"
     ]
    },
    {
     "data": {
      "application/vnd.jupyter.widget-view+json": {
       "model_id": "",
       "version_major": 2,
       "version_minor": 0
      },
      "text/plain": [
       "HBox(children=(FloatProgress(value=0.0, description='Training', layout=Layout(flex='2'), max=1250.0, style=Pro…"
      ]
     },
     "metadata": {},
     "output_type": "display_data"
    },
    {
     "name": "stdout",
     "output_type": "stream",
     "text": [
      "Epoch 3625: train=7.72666, val=7.81959, took 31.175 s\n",
      "  Validation Found 51302 of 54504, added 1831 (eff 94.13%) (0.183 FP/event)\n"
     ]
    },
    {
     "data": {
      "application/vnd.jupyter.widget-view+json": {
       "model_id": "",
       "version_major": 2,
       "version_minor": 0
      },
      "text/plain": [
       "HBox(children=(FloatProgress(value=0.0, description='Training', layout=Layout(flex='2'), max=1250.0, style=Pro…"
      ]
     },
     "metadata": {},
     "output_type": "display_data"
    },
    {
     "name": "stdout",
     "output_type": "stream",
     "text": [
      "Epoch 3626: train=7.72723, val=7.78492, took 31.496 s\n",
      "  Validation Found 51370 of 54504, added 1936 (eff 94.25%) (0.194 FP/event)\n"
     ]
    },
    {
     "data": {
      "application/vnd.jupyter.widget-view+json": {
       "model_id": "",
       "version_major": 2,
       "version_minor": 0
      },
      "text/plain": [
       "HBox(children=(FloatProgress(value=0.0, description='Training', layout=Layout(flex='2'), max=1250.0, style=Pro…"
      ]
     },
     "metadata": {},
     "output_type": "display_data"
    },
    {
     "name": "stdout",
     "output_type": "stream",
     "text": [
      "Epoch 3627: train=7.7221, val=7.79115, took 31.354 s\n",
      "  Validation Found 51366 of 54504, added 1928 (eff 94.24%) (0.193 FP/event)\n"
     ]
    },
    {
     "data": {
      "application/vnd.jupyter.widget-view+json": {
       "model_id": "",
       "version_major": 2,
       "version_minor": 0
      },
      "text/plain": [
       "HBox(children=(FloatProgress(value=0.0, description='Training', layout=Layout(flex='2'), max=1250.0, style=Pro…"
      ]
     },
     "metadata": {},
     "output_type": "display_data"
    },
    {
     "name": "stdout",
     "output_type": "stream",
     "text": [
      "Epoch 3628: train=7.72803, val=7.81793, took 31.34 s\n",
      "  Validation Found 51270 of 54504, added 1790 (eff 94.07%) (0.179 FP/event)\n"
     ]
    },
    {
     "data": {
      "application/vnd.jupyter.widget-view+json": {
       "model_id": "",
       "version_major": 2,
       "version_minor": 0
      },
      "text/plain": [
       "HBox(children=(FloatProgress(value=0.0, description='Training', layout=Layout(flex='2'), max=1250.0, style=Pro…"
      ]
     },
     "metadata": {},
     "output_type": "display_data"
    },
    {
     "name": "stdout",
     "output_type": "stream",
     "text": [
      "Epoch 3629: train=7.72585, val=7.79821, took 31.393 s\n",
      "  Validation Found 51325 of 54504, added 1869 (eff 94.17%) (0.187 FP/event)\n"
     ]
    },
    {
     "data": {
      "application/vnd.jupyter.widget-view+json": {
       "model_id": "",
       "version_major": 2,
       "version_minor": 0
      },
      "text/plain": [
       "HBox(children=(FloatProgress(value=0.0, description='Training', layout=Layout(flex='2'), max=1250.0, style=Pro…"
      ]
     },
     "metadata": {},
     "output_type": "display_data"
    },
    {
     "name": "stdout",
     "output_type": "stream",
     "text": [
      "Epoch 3630: train=7.72484, val=7.81009, took 31.902 s\n",
      "  Validation Found 51279 of 54504, added 1809 (eff 94.08%) (0.181 FP/event)\n"
     ]
    },
    {
     "data": {
      "application/vnd.jupyter.widget-view+json": {
       "model_id": "",
       "version_major": 2,
       "version_minor": 0
      },
      "text/plain": [
       "HBox(children=(FloatProgress(value=0.0, description='Training', layout=Layout(flex='2'), max=1250.0, style=Pro…"
      ]
     },
     "metadata": {},
     "output_type": "display_data"
    },
    {
     "name": "stdout",
     "output_type": "stream",
     "text": [
      "Epoch 3631: train=7.72945, val=7.79943, took 31.408 s\n",
      "  Validation Found 51293 of 54504, added 1842 (eff 94.11%) (0.184 FP/event)\n"
     ]
    },
    {
     "data": {
      "application/vnd.jupyter.widget-view+json": {
       "model_id": "",
       "version_major": 2,
       "version_minor": 0
      },
      "text/plain": [
       "HBox(children=(FloatProgress(value=0.0, description='Training', layout=Layout(flex='2'), max=1250.0, style=Pro…"
      ]
     },
     "metadata": {},
     "output_type": "display_data"
    },
    {
     "name": "stdout",
     "output_type": "stream",
     "text": [
      "Epoch 3632: train=7.72672, val=7.82201, took 35.234 s\n",
      "  Validation Found 51298 of 54504, added 1819 (eff 94.12%) (0.182 FP/event)\n"
     ]
    },
    {
     "data": {
      "application/vnd.jupyter.widget-view+json": {
       "model_id": "",
       "version_major": 2,
       "version_minor": 0
      },
      "text/plain": [
       "HBox(children=(FloatProgress(value=0.0, description='Training', layout=Layout(flex='2'), max=1250.0, style=Pro…"
      ]
     },
     "metadata": {},
     "output_type": "display_data"
    },
    {
     "name": "stdout",
     "output_type": "stream",
     "text": [
      "Epoch 3633: train=7.72795, val=7.7943, took 54.932 s\n",
      "  Validation Found 51348 of 54504, added 1917 (eff 94.21%) (0.192 FP/event)\n"
     ]
    },
    {
     "data": {
      "application/vnd.jupyter.widget-view+json": {
       "model_id": "",
       "version_major": 2,
       "version_minor": 0
      },
      "text/plain": [
       "HBox(children=(FloatProgress(value=0.0, description='Training', layout=Layout(flex='2'), max=1250.0, style=Pro…"
      ]
     },
     "metadata": {},
     "output_type": "display_data"
    },
    {
     "name": "stdout",
     "output_type": "stream",
     "text": [
      "Epoch 3634: train=7.72686, val=7.80105, took 53.68 s\n",
      "  Validation Found 51328 of 54504, added 1872 (eff 94.17%) (0.187 FP/event)\n"
     ]
    },
    {
     "data": {
      "application/vnd.jupyter.widget-view+json": {
       "model_id": "",
       "version_major": 2,
       "version_minor": 0
      },
      "text/plain": [
       "HBox(children=(FloatProgress(value=0.0, description='Training', layout=Layout(flex='2'), max=1250.0, style=Pro…"
      ]
     },
     "metadata": {},
     "output_type": "display_data"
    },
    {
     "name": "stdout",
     "output_type": "stream",
     "text": [
      "Epoch 3635: train=7.72671, val=7.79929, took 55.223 s\n",
      "  Validation Found 51303 of 54504, added 1830 (eff 94.13%) (0.183 FP/event)\n"
     ]
    },
    {
     "data": {
      "application/vnd.jupyter.widget-view+json": {
       "model_id": "",
       "version_major": 2,
       "version_minor": 0
      },
      "text/plain": [
       "HBox(children=(FloatProgress(value=0.0, description='Training', layout=Layout(flex='2'), max=1250.0, style=Pro…"
      ]
     },
     "metadata": {},
     "output_type": "display_data"
    },
    {
     "name": "stdout",
     "output_type": "stream",
     "text": [
      "Epoch 3636: train=7.72481, val=7.79936, took 54.669 s\n",
      "  Validation Found 51299 of 54504, added 1836 (eff 94.12%) (0.184 FP/event)\n"
     ]
    },
    {
     "data": {
      "application/vnd.jupyter.widget-view+json": {
       "model_id": "",
       "version_major": 2,
       "version_minor": 0
      },
      "text/plain": [
       "HBox(children=(FloatProgress(value=0.0, description='Training', layout=Layout(flex='2'), max=1250.0, style=Pro…"
      ]
     },
     "metadata": {},
     "output_type": "display_data"
    },
    {
     "name": "stdout",
     "output_type": "stream",
     "text": [
      "Epoch 3637: train=7.72511, val=7.80471, took 57.113 s\n",
      "  Validation Found 51280 of 54504, added 1807 (eff 94.08%) (0.181 FP/event)\n"
     ]
    },
    {
     "data": {
      "application/vnd.jupyter.widget-view+json": {
       "model_id": "",
       "version_major": 2,
       "version_minor": 0
      },
      "text/plain": [
       "HBox(children=(FloatProgress(value=0.0, description='Training', layout=Layout(flex='2'), max=1250.0, style=Pro…"
      ]
     },
     "metadata": {},
     "output_type": "display_data"
    },
    {
     "name": "stdout",
     "output_type": "stream",
     "text": [
      "Epoch 3638: train=7.72972, val=7.81385, took 53.87 s\n",
      "  Validation Found 51292 of 54504, added 1842 (eff 94.11%) (0.184 FP/event)\n"
     ]
    },
    {
     "data": {
      "application/vnd.jupyter.widget-view+json": {
       "model_id": "",
       "version_major": 2,
       "version_minor": 0
      },
      "text/plain": [
       "HBox(children=(FloatProgress(value=0.0, description='Training', layout=Layout(flex='2'), max=1250.0, style=Pro…"
      ]
     },
     "metadata": {},
     "output_type": "display_data"
    },
    {
     "name": "stdout",
     "output_type": "stream",
     "text": [
      "Epoch 3639: train=7.72823, val=7.80338, took 52.096 s\n",
      "  Validation Found 51313 of 54504, added 1862 (eff 94.15%) (0.186 FP/event)\n"
     ]
    },
    {
     "data": {
      "application/vnd.jupyter.widget-view+json": {
       "model_id": "",
       "version_major": 2,
       "version_minor": 0
      },
      "text/plain": [
       "HBox(children=(FloatProgress(value=0.0, description='Training', layout=Layout(flex='2'), max=1250.0, style=Pro…"
      ]
     },
     "metadata": {},
     "output_type": "display_data"
    },
    {
     "name": "stdout",
     "output_type": "stream",
     "text": [
      "Epoch 3640: train=7.72479, val=7.82331, took 56.941 s\n",
      "  Validation Found 51263 of 54504, added 1800 (eff 94.05%) (0.18 FP/event)\n"
     ]
    },
    {
     "data": {
      "application/vnd.jupyter.widget-view+json": {
       "model_id": "",
       "version_major": 2,
       "version_minor": 0
      },
      "text/plain": [
       "HBox(children=(FloatProgress(value=0.0, description='Training', layout=Layout(flex='2'), max=1250.0, style=Pro…"
      ]
     },
     "metadata": {},
     "output_type": "display_data"
    },
    {
     "name": "stdout",
     "output_type": "stream",
     "text": [
      "Epoch 3641: train=7.72821, val=7.78945, took 55.05 s\n",
      "  Validation Found 51367 of 54504, added 1916 (eff 94.24%) (0.192 FP/event)\n"
     ]
    },
    {
     "data": {
      "application/vnd.jupyter.widget-view+json": {
       "model_id": "",
       "version_major": 2,
       "version_minor": 0
      },
      "text/plain": [
       "HBox(children=(FloatProgress(value=0.0, description='Training', layout=Layout(flex='2'), max=1250.0, style=Pro…"
      ]
     },
     "metadata": {},
     "output_type": "display_data"
    },
    {
     "name": "stdout",
     "output_type": "stream",
     "text": [
      "Epoch 3642: train=7.72955, val=7.78596, took 53.533 s\n",
      "  Validation Found 51322 of 54504, added 1878 (eff 94.16%) (0.188 FP/event)\n"
     ]
    },
    {
     "data": {
      "application/vnd.jupyter.widget-view+json": {
       "model_id": "",
       "version_major": 2,
       "version_minor": 0
      },
      "text/plain": [
       "HBox(children=(FloatProgress(value=0.0, description='Training', layout=Layout(flex='2'), max=1250.0, style=Pro…"
      ]
     },
     "metadata": {},
     "output_type": "display_data"
    },
    {
     "name": "stdout",
     "output_type": "stream",
     "text": [
      "Epoch 3643: train=7.72807, val=7.81678, took 56.847 s\n",
      "  Validation Found 51320 of 54504, added 1871 (eff 94.16%) (0.187 FP/event)\n"
     ]
    },
    {
     "data": {
      "application/vnd.jupyter.widget-view+json": {
       "model_id": "",
       "version_major": 2,
       "version_minor": 0
      },
      "text/plain": [
       "HBox(children=(FloatProgress(value=0.0, description='Training', layout=Layout(flex='2'), max=1250.0, style=Pro…"
      ]
     },
     "metadata": {},
     "output_type": "display_data"
    },
    {
     "name": "stdout",
     "output_type": "stream",
     "text": [
      "Epoch 3644: train=7.72353, val=7.79929, took 52.089 s\n",
      "  Validation Found 51346 of 54504, added 1888 (eff 94.21%) (0.189 FP/event)\n"
     ]
    },
    {
     "data": {
      "application/vnd.jupyter.widget-view+json": {
       "model_id": "",
       "version_major": 2,
       "version_minor": 0
      },
      "text/plain": [
       "HBox(children=(FloatProgress(value=0.0, description='Training', layout=Layout(flex='2'), max=1250.0, style=Pro…"
      ]
     },
     "metadata": {},
     "output_type": "display_data"
    },
    {
     "name": "stdout",
     "output_type": "stream",
     "text": [
      "Epoch 3645: train=7.72146, val=7.8309, took 56.473 s\n",
      "  Validation Found 51304 of 54504, added 1831 (eff 94.13%) (0.183 FP/event)\n"
     ]
    },
    {
     "data": {
      "application/vnd.jupyter.widget-view+json": {
       "model_id": "",
       "version_major": 2,
       "version_minor": 0
      },
      "text/plain": [
       "HBox(children=(FloatProgress(value=0.0, description='Training', layout=Layout(flex='2'), max=1250.0, style=Pro…"
      ]
     },
     "metadata": {},
     "output_type": "display_data"
    },
    {
     "name": "stdout",
     "output_type": "stream",
     "text": [
      "Epoch 3646: train=7.72555, val=7.81548, took 57.478 s\n",
      "  Validation Found 51284 of 54504, added 1847 (eff 94.09%) (0.185 FP/event)\n"
     ]
    },
    {
     "data": {
      "application/vnd.jupyter.widget-view+json": {
       "model_id": "",
       "version_major": 2,
       "version_minor": 0
      },
      "text/plain": [
       "HBox(children=(FloatProgress(value=0.0, description='Training', layout=Layout(flex='2'), max=1250.0, style=Pro…"
      ]
     },
     "metadata": {},
     "output_type": "display_data"
    },
    {
     "name": "stdout",
     "output_type": "stream",
     "text": [
      "Epoch 3647: train=7.72748, val=7.79775, took 55.929 s\n",
      "  Validation Found 51347 of 54504, added 1902 (eff 94.21%) (0.19 FP/event)\n"
     ]
    },
    {
     "data": {
      "application/vnd.jupyter.widget-view+json": {
       "model_id": "",
       "version_major": 2,
       "version_minor": 0
      },
      "text/plain": [
       "HBox(children=(FloatProgress(value=0.0, description='Training', layout=Layout(flex='2'), max=1250.0, style=Pro…"
      ]
     },
     "metadata": {},
     "output_type": "display_data"
    },
    {
     "name": "stdout",
     "output_type": "stream",
     "text": [
      "Epoch 3648: train=7.72419, val=7.79253, took 54.943 s\n",
      "  Validation Found 51316 of 54504, added 1873 (eff 94.15%) (0.188 FP/event)\n"
     ]
    },
    {
     "data": {
      "application/vnd.jupyter.widget-view+json": {
       "model_id": "",
       "version_major": 2,
       "version_minor": 0
      },
      "text/plain": [
       "HBox(children=(FloatProgress(value=0.0, description='Training', layout=Layout(flex='2'), max=1250.0, style=Pro…"
      ]
     },
     "metadata": {},
     "output_type": "display_data"
    },
    {
     "name": "stdout",
     "output_type": "stream",
     "text": [
      "Epoch 3649: train=7.72635, val=7.79479, took 54.272 s\n",
      "  Validation Found 51301 of 54504, added 1844 (eff 94.12%) (0.185 FP/event)\n"
     ]
    },
    {
     "data": {
      "application/vnd.jupyter.widget-view+json": {
       "model_id": "",
       "version_major": 2,
       "version_minor": 0
      },
      "text/plain": [
       "HBox(children=(FloatProgress(value=0.0, description='Training', layout=Layout(flex='2'), max=1250.0, style=Pro…"
      ]
     },
     "metadata": {},
     "output_type": "display_data"
    },
    {
     "name": "stdout",
     "output_type": "stream",
     "text": [
      "Epoch 3650: train=7.73015, val=7.80846, took 56.882 s\n",
      "  Validation Found 51312 of 54504, added 1866 (eff 94.14%) (0.187 FP/event)\n"
     ]
    },
    {
     "data": {
      "application/vnd.jupyter.widget-view+json": {
       "model_id": "",
       "version_major": 2,
       "version_minor": 0
      },
      "text/plain": [
       "HBox(children=(FloatProgress(value=0.0, description='Training', layout=Layout(flex='2'), max=1250.0, style=Pro…"
      ]
     },
     "metadata": {},
     "output_type": "display_data"
    },
    {
     "name": "stdout",
     "output_type": "stream",
     "text": [
      "Epoch 3651: train=7.72715, val=7.79843, took 60.616 s\n",
      "  Validation Found 51258 of 54504, added 1792 (eff 94.04%) (0.179 FP/event)\n"
     ]
    },
    {
     "data": {
      "application/vnd.jupyter.widget-view+json": {
       "model_id": "",
       "version_major": 2,
       "version_minor": 0
      },
      "text/plain": [
       "HBox(children=(FloatProgress(value=0.0, description='Training', layout=Layout(flex='2'), max=1250.0, style=Pro…"
      ]
     },
     "metadata": {},
     "output_type": "display_data"
    },
    {
     "name": "stdout",
     "output_type": "stream",
     "text": [
      "Epoch 3652: train=7.71801, val=7.82041, took 52.956 s\n",
      "  Validation Found 51245 of 54504, added 1786 (eff 94.02%) (0.179 FP/event)\n"
     ]
    },
    {
     "data": {
      "application/vnd.jupyter.widget-view+json": {
       "model_id": "",
       "version_major": 2,
       "version_minor": 0
      },
      "text/plain": [
       "HBox(children=(FloatProgress(value=0.0, description='Training', layout=Layout(flex='2'), max=1250.0, style=Pro…"
      ]
     },
     "metadata": {},
     "output_type": "display_data"
    },
    {
     "name": "stdout",
     "output_type": "stream",
     "text": [
      "Epoch 3653: train=7.72483, val=7.80357, took 56.298 s\n",
      "  Validation Found 51263 of 54504, added 1783 (eff 94.05%) (0.179 FP/event)\n"
     ]
    },
    {
     "data": {
      "application/vnd.jupyter.widget-view+json": {
       "model_id": "",
       "version_major": 2,
       "version_minor": 0
      },
      "text/plain": [
       "HBox(children=(FloatProgress(value=0.0, description='Training', layout=Layout(flex='2'), max=1250.0, style=Pro…"
      ]
     },
     "metadata": {},
     "output_type": "display_data"
    },
    {
     "name": "stdout",
     "output_type": "stream",
     "text": [
      "Epoch 3654: train=7.72715, val=7.82728, took 50.945 s\n",
      "  Validation Found 51272 of 54504, added 1775 (eff 94.07%) (0.178 FP/event)\n"
     ]
    },
    {
     "data": {
      "application/vnd.jupyter.widget-view+json": {
       "model_id": "",
       "version_major": 2,
       "version_minor": 0
      },
      "text/plain": [
       "HBox(children=(FloatProgress(value=0.0, description='Training', layout=Layout(flex='2'), max=1250.0, style=Pro…"
      ]
     },
     "metadata": {},
     "output_type": "display_data"
    },
    {
     "name": "stdout",
     "output_type": "stream",
     "text": [
      "Epoch 3655: train=7.72811, val=7.79643, took 56.267 s\n",
      "  Validation Found 51314 of 54504, added 1844 (eff 94.15%) (0.185 FP/event)\n"
     ]
    },
    {
     "data": {
      "application/vnd.jupyter.widget-view+json": {
       "model_id": "",
       "version_major": 2,
       "version_minor": 0
      },
      "text/plain": [
       "HBox(children=(FloatProgress(value=0.0, description='Training', layout=Layout(flex='2'), max=1250.0, style=Pro…"
      ]
     },
     "metadata": {},
     "output_type": "display_data"
    },
    {
     "name": "stdout",
     "output_type": "stream",
     "text": [
      "Epoch 3656: train=7.72876, val=7.82242, took 56.722 s\n",
      "  Validation Found 51250 of 54504, added 1773 (eff 94.03%) (0.178 FP/event)\n"
     ]
    },
    {
     "data": {
      "application/vnd.jupyter.widget-view+json": {
       "model_id": "",
       "version_major": 2,
       "version_minor": 0
      },
      "text/plain": [
       "HBox(children=(FloatProgress(value=0.0, description='Training', layout=Layout(flex='2'), max=1250.0, style=Pro…"
      ]
     },
     "metadata": {},
     "output_type": "display_data"
    },
    {
     "name": "stdout",
     "output_type": "stream",
     "text": [
      "Epoch 3657: train=7.72715, val=7.82695, took 45.253 s\n",
      "  Validation Found 51255 of 54504, added 1767 (eff 94.04%) (0.177 FP/event)\n"
     ]
    },
    {
     "data": {
      "application/vnd.jupyter.widget-view+json": {
       "model_id": "",
       "version_major": 2,
       "version_minor": 0
      },
      "text/plain": [
       "HBox(children=(FloatProgress(value=0.0, description='Training', layout=Layout(flex='2'), max=1250.0, style=Pro…"
      ]
     },
     "metadata": {},
     "output_type": "display_data"
    },
    {
     "name": "stdout",
     "output_type": "stream",
     "text": [
      "Epoch 3658: train=7.7255, val=7.78461, took 33.598 s\n",
      "  Validation Found 51336 of 54504, added 1905 (eff 94.19%) (0.191 FP/event)\n"
     ]
    },
    {
     "data": {
      "application/vnd.jupyter.widget-view+json": {
       "model_id": "",
       "version_major": 2,
       "version_minor": 0
      },
      "text/plain": [
       "HBox(children=(FloatProgress(value=0.0, description='Training', layout=Layout(flex='2'), max=1250.0, style=Pro…"
      ]
     },
     "metadata": {},
     "output_type": "display_data"
    },
    {
     "name": "stdout",
     "output_type": "stream",
     "text": [
      "Epoch 3659: train=7.72596, val=7.78522, took 31.871 s\n",
      "  Validation Found 51330 of 54504, added 1882 (eff 94.18%) (0.188 FP/event)\n"
     ]
    },
    {
     "data": {
      "application/vnd.jupyter.widget-view+json": {
       "model_id": "",
       "version_major": 2,
       "version_minor": 0
      },
      "text/plain": [
       "HBox(children=(FloatProgress(value=0.0, description='Training', layout=Layout(flex='2'), max=1250.0, style=Pro…"
      ]
     },
     "metadata": {},
     "output_type": "display_data"
    },
    {
     "name": "stdout",
     "output_type": "stream",
     "text": [
      "Epoch 3660: train=7.72306, val=7.81776, took 49.561 s\n",
      "  Validation Found 51287 of 54504, added 1830 (eff 94.10%) (0.183 FP/event)\n"
     ]
    },
    {
     "data": {
      "application/vnd.jupyter.widget-view+json": {
       "model_id": "",
       "version_major": 2,
       "version_minor": 0
      },
      "text/plain": [
       "HBox(children=(FloatProgress(value=0.0, description='Training', layout=Layout(flex='2'), max=1250.0, style=Pro…"
      ]
     },
     "metadata": {},
     "output_type": "display_data"
    },
    {
     "name": "stdout",
     "output_type": "stream",
     "text": [
      "Epoch 3661: train=7.72699, val=7.78315, took 56.84 s\n",
      "  Validation Found 51328 of 54504, added 1889 (eff 94.17%) (0.189 FP/event)\n"
     ]
    },
    {
     "data": {
      "application/vnd.jupyter.widget-view+json": {
       "model_id": "",
       "version_major": 2,
       "version_minor": 0
      },
      "text/plain": [
       "HBox(children=(FloatProgress(value=0.0, description='Training', layout=Layout(flex='2'), max=1250.0, style=Pro…"
      ]
     },
     "metadata": {},
     "output_type": "display_data"
    },
    {
     "name": "stdout",
     "output_type": "stream",
     "text": [
      "Epoch 3662: train=7.72514, val=7.80204, took 57.452 s\n",
      "  Validation Found 51289 of 54504, added 1810 (eff 94.10%) (0.181 FP/event)\n"
     ]
    },
    {
     "data": {
      "application/vnd.jupyter.widget-view+json": {
       "model_id": "",
       "version_major": 2,
       "version_minor": 0
      },
      "text/plain": [
       "HBox(children=(FloatProgress(value=0.0, description='Training', layout=Layout(flex='2'), max=1250.0, style=Pro…"
      ]
     },
     "metadata": {},
     "output_type": "display_data"
    },
    {
     "name": "stdout",
     "output_type": "stream",
     "text": [
      "Epoch 3663: train=7.72657, val=7.80635, took 54.934 s\n",
      "  Validation Found 51277 of 54504, added 1802 (eff 94.08%) (0.18 FP/event)\n"
     ]
    },
    {
     "data": {
      "application/vnd.jupyter.widget-view+json": {
       "model_id": "",
       "version_major": 2,
       "version_minor": 0
      },
      "text/plain": [
       "HBox(children=(FloatProgress(value=0.0, description='Training', layout=Layout(flex='2'), max=1250.0, style=Pro…"
      ]
     },
     "metadata": {},
     "output_type": "display_data"
    },
    {
     "name": "stdout",
     "output_type": "stream",
     "text": [
      "Epoch 3664: train=7.72584, val=7.8051, took 53.809 s\n",
      "  Validation Found 51342 of 54504, added 1872 (eff 94.20%) (0.187 FP/event)\n"
     ]
    },
    {
     "data": {
      "application/vnd.jupyter.widget-view+json": {
       "model_id": "",
       "version_major": 2,
       "version_minor": 0
      },
      "text/plain": [
       "HBox(children=(FloatProgress(value=0.0, description='Training', layout=Layout(flex='2'), max=1250.0, style=Pro…"
      ]
     },
     "metadata": {},
     "output_type": "display_data"
    },
    {
     "name": "stdout",
     "output_type": "stream",
     "text": [
      "Epoch 3665: train=7.72415, val=7.81843, took 55.126 s\n",
      "  Validation Found 51280 of 54504, added 1794 (eff 94.08%) (0.18 FP/event)\n"
     ]
    },
    {
     "data": {
      "application/vnd.jupyter.widget-view+json": {
       "model_id": "",
       "version_major": 2,
       "version_minor": 0
      },
      "text/plain": [
       "HBox(children=(FloatProgress(value=0.0, description='Training', layout=Layout(flex='2'), max=1250.0, style=Pro…"
      ]
     },
     "metadata": {},
     "output_type": "display_data"
    },
    {
     "name": "stdout",
     "output_type": "stream",
     "text": [
      "Epoch 3666: train=7.72647, val=7.80328, took 53.896 s\n",
      "  Validation Found 51322 of 54504, added 1858 (eff 94.16%) (0.186 FP/event)\n"
     ]
    },
    {
     "data": {
      "application/vnd.jupyter.widget-view+json": {
       "model_id": "",
       "version_major": 2,
       "version_minor": 0
      },
      "text/plain": [
       "HBox(children=(FloatProgress(value=0.0, description='Training', layout=Layout(flex='2'), max=1250.0, style=Pro…"
      ]
     },
     "metadata": {},
     "output_type": "display_data"
    },
    {
     "name": "stdout",
     "output_type": "stream",
     "text": [
      "Epoch 3667: train=7.72271, val=7.80431, took 56.699 s\n",
      "  Validation Found 51319 of 54504, added 1849 (eff 94.16%) (0.185 FP/event)\n"
     ]
    },
    {
     "data": {
      "application/vnd.jupyter.widget-view+json": {
       "model_id": "",
       "version_major": 2,
       "version_minor": 0
      },
      "text/plain": [
       "HBox(children=(FloatProgress(value=0.0, description='Training', layout=Layout(flex='2'), max=1250.0, style=Pro…"
      ]
     },
     "metadata": {},
     "output_type": "display_data"
    },
    {
     "name": "stdout",
     "output_type": "stream",
     "text": [
      "Epoch 3668: train=7.7259, val=7.78557, took 54.452 s\n",
      "  Validation Found 51315 of 54504, added 1857 (eff 94.15%) (0.186 FP/event)\n"
     ]
    },
    {
     "data": {
      "application/vnd.jupyter.widget-view+json": {
       "model_id": "",
       "version_major": 2,
       "version_minor": 0
      },
      "text/plain": [
       "HBox(children=(FloatProgress(value=0.0, description='Training', layout=Layout(flex='2'), max=1250.0, style=Pro…"
      ]
     },
     "metadata": {},
     "output_type": "display_data"
    },
    {
     "name": "stdout",
     "output_type": "stream",
     "text": [
      "Epoch 3669: train=7.72727, val=7.79492, took 53.503 s\n",
      "  Validation Found 51337 of 54504, added 1920 (eff 94.19%) (0.192 FP/event)\n"
     ]
    },
    {
     "data": {
      "application/vnd.jupyter.widget-view+json": {
       "model_id": "",
       "version_major": 2,
       "version_minor": 0
      },
      "text/plain": [
       "HBox(children=(FloatProgress(value=0.0, description='Training', layout=Layout(flex='2'), max=1250.0, style=Pro…"
      ]
     },
     "metadata": {},
     "output_type": "display_data"
    },
    {
     "name": "stdout",
     "output_type": "stream",
     "text": [
      "Epoch 3670: train=7.72671, val=7.80619, took 57.586 s\n",
      "  Validation Found 51298 of 54504, added 1834 (eff 94.12%) (0.184 FP/event)\n"
     ]
    },
    {
     "data": {
      "application/vnd.jupyter.widget-view+json": {
       "model_id": "",
       "version_major": 2,
       "version_minor": 0
      },
      "text/plain": [
       "HBox(children=(FloatProgress(value=0.0, description='Training', layout=Layout(flex='2'), max=1250.0, style=Pro…"
      ]
     },
     "metadata": {},
     "output_type": "display_data"
    },
    {
     "name": "stdout",
     "output_type": "stream",
     "text": [
      "Epoch 3671: train=7.72478, val=7.8465, took 53.381 s\n",
      "  Validation Found 51230 of 54504, added 1757 (eff 93.99%) (0.176 FP/event)\n"
     ]
    },
    {
     "data": {
      "application/vnd.jupyter.widget-view+json": {
       "model_id": "",
       "version_major": 2,
       "version_minor": 0
      },
      "text/plain": [
       "HBox(children=(FloatProgress(value=0.0, description='Training', layout=Layout(flex='2'), max=1250.0, style=Pro…"
      ]
     },
     "metadata": {},
     "output_type": "display_data"
    },
    {
     "name": "stdout",
     "output_type": "stream",
     "text": [
      "Epoch 3672: train=7.72801, val=7.81617, took 53.264 s\n",
      "  Validation Found 51285 of 54504, added 1802 (eff 94.09%) (0.18 FP/event)\n"
     ]
    },
    {
     "data": {
      "application/vnd.jupyter.widget-view+json": {
       "model_id": "",
       "version_major": 2,
       "version_minor": 0
      },
      "text/plain": [
       "HBox(children=(FloatProgress(value=0.0, description='Training', layout=Layout(flex='2'), max=1250.0, style=Pro…"
      ]
     },
     "metadata": {},
     "output_type": "display_data"
    },
    {
     "name": "stdout",
     "output_type": "stream",
     "text": [
      "Epoch 3673: train=7.72602, val=7.79363, took 55.362 s\n",
      "  Validation Found 51297 of 54504, added 1845 (eff 94.12%) (0.185 FP/event)\n"
     ]
    },
    {
     "data": {
      "application/vnd.jupyter.widget-view+json": {
       "model_id": "",
       "version_major": 2,
       "version_minor": 0
      },
      "text/plain": [
       "HBox(children=(FloatProgress(value=0.0, description='Training', layout=Layout(flex='2'), max=1250.0, style=Pro…"
      ]
     },
     "metadata": {},
     "output_type": "display_data"
    },
    {
     "name": "stdout",
     "output_type": "stream",
     "text": [
      "Epoch 3674: train=7.72872, val=7.79317, took 52.235 s\n",
      "  Validation Found 51299 of 54504, added 1867 (eff 94.12%) (0.187 FP/event)\n"
     ]
    },
    {
     "data": {
      "application/vnd.jupyter.widget-view+json": {
       "model_id": "",
       "version_major": 2,
       "version_minor": 0
      },
      "text/plain": [
       "HBox(children=(FloatProgress(value=0.0, description='Training', layout=Layout(flex='2'), max=1250.0, style=Pro…"
      ]
     },
     "metadata": {},
     "output_type": "display_data"
    },
    {
     "name": "stdout",
     "output_type": "stream",
     "text": [
      "Epoch 3675: train=7.7264, val=7.81449, took 51.85 s\n",
      "  Validation Found 51262 of 54504, added 1771 (eff 94.05%) (0.177 FP/event)\n"
     ]
    },
    {
     "data": {
      "application/vnd.jupyter.widget-view+json": {
       "model_id": "",
       "version_major": 2,
       "version_minor": 0
      },
      "text/plain": [
       "HBox(children=(FloatProgress(value=0.0, description='Training', layout=Layout(flex='2'), max=1250.0, style=Pro…"
      ]
     },
     "metadata": {},
     "output_type": "display_data"
    },
    {
     "name": "stdout",
     "output_type": "stream",
     "text": [
      "Epoch 3676: train=7.72578, val=7.78344, took 55.641 s\n",
      "  Validation Found 51358 of 54504, added 1920 (eff 94.23%) (0.192 FP/event)\n"
     ]
    },
    {
     "data": {
      "application/vnd.jupyter.widget-view+json": {
       "model_id": "",
       "version_major": 2,
       "version_minor": 0
      },
      "text/plain": [
       "HBox(children=(FloatProgress(value=0.0, description='Training', layout=Layout(flex='2'), max=1250.0, style=Pro…"
      ]
     },
     "metadata": {},
     "output_type": "display_data"
    },
    {
     "name": "stdout",
     "output_type": "stream",
     "text": [
      "Epoch 3677: train=7.72425, val=7.81505, took 54.119 s\n",
      "  Validation Found 51288 of 54504, added 1829 (eff 94.10%) (0.183 FP/event)\n"
     ]
    },
    {
     "data": {
      "application/vnd.jupyter.widget-view+json": {
       "model_id": "",
       "version_major": 2,
       "version_minor": 0
      },
      "text/plain": [
       "HBox(children=(FloatProgress(value=0.0, description='Training', layout=Layout(flex='2'), max=1250.0, style=Pro…"
      ]
     },
     "metadata": {},
     "output_type": "display_data"
    },
    {
     "name": "stdout",
     "output_type": "stream",
     "text": [
      "Epoch 3678: train=7.7263, val=7.81015, took 54.97 s\n",
      "  Validation Found 51287 of 54504, added 1823 (eff 94.10%) (0.183 FP/event)\n"
     ]
    },
    {
     "data": {
      "application/vnd.jupyter.widget-view+json": {
       "model_id": "",
       "version_major": 2,
       "version_minor": 0
      },
      "text/plain": [
       "HBox(children=(FloatProgress(value=0.0, description='Training', layout=Layout(flex='2'), max=1250.0, style=Pro…"
      ]
     },
     "metadata": {},
     "output_type": "display_data"
    },
    {
     "name": "stdout",
     "output_type": "stream",
     "text": [
      "Epoch 3679: train=7.72728, val=7.79526, took 53.496 s\n",
      "  Validation Found 51269 of 54504, added 1815 (eff 94.06%) (0.182 FP/event)\n"
     ]
    },
    {
     "data": {
      "application/vnd.jupyter.widget-view+json": {
       "model_id": "",
       "version_major": 2,
       "version_minor": 0
      },
      "text/plain": [
       "HBox(children=(FloatProgress(value=0.0, description='Training', layout=Layout(flex='2'), max=1250.0, style=Pro…"
      ]
     },
     "metadata": {},
     "output_type": "display_data"
    },
    {
     "name": "stdout",
     "output_type": "stream",
     "text": [
      "Epoch 3680: train=7.72556, val=7.78558, took 53.38 s\n",
      "  Validation Found 51332 of 54504, added 1883 (eff 94.18%) (0.189 FP/event)\n"
     ]
    },
    {
     "data": {
      "application/vnd.jupyter.widget-view+json": {
       "model_id": "",
       "version_major": 2,
       "version_minor": 0
      },
      "text/plain": [
       "HBox(children=(FloatProgress(value=0.0, description='Training', layout=Layout(flex='2'), max=1250.0, style=Pro…"
      ]
     },
     "metadata": {},
     "output_type": "display_data"
    },
    {
     "name": "stdout",
     "output_type": "stream",
     "text": [
      "Epoch 3681: train=7.72408, val=7.79956, took 56.89 s\n",
      "  Validation Found 51330 of 54504, added 1871 (eff 94.18%) (0.187 FP/event)\n"
     ]
    },
    {
     "data": {
      "application/vnd.jupyter.widget-view+json": {
       "model_id": "",
       "version_major": 2,
       "version_minor": 0
      },
      "text/plain": [
       "HBox(children=(FloatProgress(value=0.0, description='Training', layout=Layout(flex='2'), max=1250.0, style=Pro…"
      ]
     },
     "metadata": {},
     "output_type": "display_data"
    },
    {
     "name": "stdout",
     "output_type": "stream",
     "text": [
      "Epoch 3682: train=7.72664, val=7.79464, took 58.029 s\n",
      "  Validation Found 51322 of 54504, added 1861 (eff 94.16%) (0.186 FP/event)\n"
     ]
    },
    {
     "data": {
      "application/vnd.jupyter.widget-view+json": {
       "model_id": "",
       "version_major": 2,
       "version_minor": 0
      },
      "text/plain": [
       "HBox(children=(FloatProgress(value=0.0, description='Training', layout=Layout(flex='2'), max=1250.0, style=Pro…"
      ]
     },
     "metadata": {},
     "output_type": "display_data"
    },
    {
     "name": "stdout",
     "output_type": "stream",
     "text": [
      "Epoch 3683: train=7.72515, val=7.78114, took 61.484 s\n",
      "  Validation Found 51333 of 54504, added 1886 (eff 94.18%) (0.189 FP/event)\n"
     ]
    },
    {
     "data": {
      "application/vnd.jupyter.widget-view+json": {
       "model_id": "",
       "version_major": 2,
       "version_minor": 0
      },
      "text/plain": [
       "HBox(children=(FloatProgress(value=0.0, description='Training', layout=Layout(flex='2'), max=1250.0, style=Pro…"
      ]
     },
     "metadata": {},
     "output_type": "display_data"
    },
    {
     "name": "stdout",
     "output_type": "stream",
     "text": [
      "Epoch 3684: train=7.72612, val=7.81349, took 48.482 s\n",
      "  Validation Found 51259 of 54504, added 1751 (eff 94.05%) (0.175 FP/event)\n"
     ]
    },
    {
     "data": {
      "application/vnd.jupyter.widget-view+json": {
       "model_id": "",
       "version_major": 2,
       "version_minor": 0
      },
      "text/plain": [
       "HBox(children=(FloatProgress(value=0.0, description='Training', layout=Layout(flex='2'), max=1250.0, style=Pro…"
      ]
     },
     "metadata": {},
     "output_type": "display_data"
    },
    {
     "name": "stdout",
     "output_type": "stream",
     "text": [
      "Epoch 3685: train=7.72433, val=7.8106, took 35.415 s\n",
      "  Validation Found 51280 of 54504, added 1807 (eff 94.08%) (0.181 FP/event)\n"
     ]
    },
    {
     "data": {
      "application/vnd.jupyter.widget-view+json": {
       "model_id": "",
       "version_major": 2,
       "version_minor": 0
      },
      "text/plain": [
       "HBox(children=(FloatProgress(value=0.0, description='Training', layout=Layout(flex='2'), max=1250.0, style=Pro…"
      ]
     },
     "metadata": {},
     "output_type": "display_data"
    },
    {
     "name": "stdout",
     "output_type": "stream",
     "text": [
      "Epoch 3686: train=7.72553, val=7.7955, took 31.674 s\n",
      "  Validation Found 51301 of 54504, added 1821 (eff 94.12%) (0.182 FP/event)\n"
     ]
    },
    {
     "data": {
      "application/vnd.jupyter.widget-view+json": {
       "model_id": "",
       "version_major": 2,
       "version_minor": 0
      },
      "text/plain": [
       "HBox(children=(FloatProgress(value=0.0, description='Training', layout=Layout(flex='2'), max=1250.0, style=Pro…"
      ]
     },
     "metadata": {},
     "output_type": "display_data"
    },
    {
     "name": "stdout",
     "output_type": "stream",
     "text": [
      "Epoch 3687: train=7.73086, val=7.80374, took 31.323 s\n",
      "  Validation Found 51339 of 54504, added 1889 (eff 94.19%) (0.189 FP/event)\n"
     ]
    },
    {
     "data": {
      "application/vnd.jupyter.widget-view+json": {
       "model_id": "",
       "version_major": 2,
       "version_minor": 0
      },
      "text/plain": [
       "HBox(children=(FloatProgress(value=0.0, description='Training', layout=Layout(flex='2'), max=1250.0, style=Pro…"
      ]
     },
     "metadata": {},
     "output_type": "display_data"
    },
    {
     "name": "stdout",
     "output_type": "stream",
     "text": [
      "Epoch 3688: train=7.727, val=7.78448, took 31.28 s\n",
      "  Validation Found 51340 of 54504, added 1916 (eff 94.19%) (0.192 FP/event)\n"
     ]
    },
    {
     "data": {
      "application/vnd.jupyter.widget-view+json": {
       "model_id": "",
       "version_major": 2,
       "version_minor": 0
      },
      "text/plain": [
       "HBox(children=(FloatProgress(value=0.0, description='Training', layout=Layout(flex='2'), max=1250.0, style=Pro…"
      ]
     },
     "metadata": {},
     "output_type": "display_data"
    },
    {
     "name": "stdout",
     "output_type": "stream",
     "text": [
      "Epoch 3689: train=7.72333, val=7.78282, took 31.768 s\n",
      "  Validation Found 51327 of 54504, added 1883 (eff 94.17%) (0.189 FP/event)\n"
     ]
    },
    {
     "data": {
      "application/vnd.jupyter.widget-view+json": {
       "model_id": "",
       "version_major": 2,
       "version_minor": 0
      },
      "text/plain": [
       "HBox(children=(FloatProgress(value=0.0, description='Training', layout=Layout(flex='2'), max=1250.0, style=Pro…"
      ]
     },
     "metadata": {},
     "output_type": "display_data"
    },
    {
     "name": "stdout",
     "output_type": "stream",
     "text": [
      "Epoch 3690: train=7.72261, val=7.78771, took 31.722 s\n",
      "  Validation Found 51305 of 54504, added 1854 (eff 94.13%) (0.186 FP/event)\n"
     ]
    },
    {
     "data": {
      "application/vnd.jupyter.widget-view+json": {
       "model_id": "",
       "version_major": 2,
       "version_minor": 0
      },
      "text/plain": [
       "HBox(children=(FloatProgress(value=0.0, description='Training', layout=Layout(flex='2'), max=1250.0, style=Pro…"
      ]
     },
     "metadata": {},
     "output_type": "display_data"
    },
    {
     "name": "stdout",
     "output_type": "stream",
     "text": [
      "Epoch 3691: train=7.72796, val=7.78848, took 32.195 s\n",
      "  Validation Found 51317 of 54504, added 1847 (eff 94.15%) (0.185 FP/event)\n"
     ]
    },
    {
     "data": {
      "application/vnd.jupyter.widget-view+json": {
       "model_id": "",
       "version_major": 2,
       "version_minor": 0
      },
      "text/plain": [
       "HBox(children=(FloatProgress(value=0.0, description='Training', layout=Layout(flex='2'), max=1250.0, style=Pro…"
      ]
     },
     "metadata": {},
     "output_type": "display_data"
    },
    {
     "name": "stdout",
     "output_type": "stream",
     "text": [
      "Epoch 3692: train=7.72658, val=7.82087, took 32.204 s\n",
      "  Validation Found 51263 of 54504, added 1775 (eff 94.05%) (0.178 FP/event)\n"
     ]
    },
    {
     "data": {
      "application/vnd.jupyter.widget-view+json": {
       "model_id": "",
       "version_major": 2,
       "version_minor": 0
      },
      "text/plain": [
       "HBox(children=(FloatProgress(value=0.0, description='Training', layout=Layout(flex='2'), max=1250.0, style=Pro…"
      ]
     },
     "metadata": {},
     "output_type": "display_data"
    },
    {
     "name": "stdout",
     "output_type": "stream",
     "text": [
      "Epoch 3693: train=7.72536, val=7.82341, took 31.934 s\n",
      "  Validation Found 51263 of 54504, added 1802 (eff 94.05%) (0.18 FP/event)\n"
     ]
    },
    {
     "data": {
      "application/vnd.jupyter.widget-view+json": {
       "model_id": "",
       "version_major": 2,
       "version_minor": 0
      },
      "text/plain": [
       "HBox(children=(FloatProgress(value=0.0, description='Training', layout=Layout(flex='2'), max=1250.0, style=Pro…"
      ]
     },
     "metadata": {},
     "output_type": "display_data"
    },
    {
     "name": "stdout",
     "output_type": "stream",
     "text": [
      "Epoch 3694: train=7.72683, val=7.78999, took 32.082 s\n",
      "  Validation Found 51322 of 54504, added 1841 (eff 94.16%) (0.184 FP/event)\n"
     ]
    },
    {
     "data": {
      "application/vnd.jupyter.widget-view+json": {
       "model_id": "",
       "version_major": 2,
       "version_minor": 0
      },
      "text/plain": [
       "HBox(children=(FloatProgress(value=0.0, description='Training', layout=Layout(flex='2'), max=1250.0, style=Pro…"
      ]
     },
     "metadata": {},
     "output_type": "display_data"
    },
    {
     "name": "stdout",
     "output_type": "stream",
     "text": [
      "Epoch 3695: train=7.72956, val=7.80803, took 32.095 s\n",
      "  Validation Found 51340 of 54504, added 1903 (eff 94.19%) (0.191 FP/event)\n"
     ]
    },
    {
     "data": {
      "application/vnd.jupyter.widget-view+json": {
       "model_id": "",
       "version_major": 2,
       "version_minor": 0
      },
      "text/plain": [
       "HBox(children=(FloatProgress(value=0.0, description='Training', layout=Layout(flex='2'), max=1250.0, style=Pro…"
      ]
     },
     "metadata": {},
     "output_type": "display_data"
    },
    {
     "name": "stdout",
     "output_type": "stream",
     "text": [
      "Epoch 3696: train=7.72376, val=7.80743, took 32.195 s\n",
      "  Validation Found 51334 of 54504, added 1899 (eff 94.18%) (0.19 FP/event)\n"
     ]
    },
    {
     "data": {
      "application/vnd.jupyter.widget-view+json": {
       "model_id": "",
       "version_major": 2,
       "version_minor": 0
      },
      "text/plain": [
       "HBox(children=(FloatProgress(value=0.0, description='Training', layout=Layout(flex='2'), max=1250.0, style=Pro…"
      ]
     },
     "metadata": {},
     "output_type": "display_data"
    },
    {
     "name": "stdout",
     "output_type": "stream",
     "text": [
      "Epoch 3697: train=7.72848, val=7.80029, took 32.142 s\n",
      "  Validation Found 51309 of 54504, added 1827 (eff 94.14%) (0.183 FP/event)\n"
     ]
    },
    {
     "data": {
      "application/vnd.jupyter.widget-view+json": {
       "model_id": "",
       "version_major": 2,
       "version_minor": 0
      },
      "text/plain": [
       "HBox(children=(FloatProgress(value=0.0, description='Training', layout=Layout(flex='2'), max=1250.0, style=Pro…"
      ]
     },
     "metadata": {},
     "output_type": "display_data"
    },
    {
     "name": "stdout",
     "output_type": "stream",
     "text": [
      "Epoch 3698: train=7.72955, val=7.81853, took 32.039 s\n",
      "  Validation Found 51305 of 54504, added 1852 (eff 94.13%) (0.185 FP/event)\n"
     ]
    },
    {
     "data": {
      "application/vnd.jupyter.widget-view+json": {
       "model_id": "",
       "version_major": 2,
       "version_minor": 0
      },
      "text/plain": [
       "HBox(children=(FloatProgress(value=0.0, description='Training', layout=Layout(flex='2'), max=1250.0, style=Pro…"
      ]
     },
     "metadata": {},
     "output_type": "display_data"
    },
    {
     "name": "stdout",
     "output_type": "stream",
     "text": [
      "Epoch 3699: train=7.72283, val=7.77629, took 31.956 s\n",
      "  Validation Found 51349 of 54504, added 1877 (eff 94.21%) (0.188 FP/event)\n"
     ]
    },
    {
     "data": {
      "application/vnd.jupyter.widget-view+json": {
       "model_id": "",
       "version_major": 2,
       "version_minor": 0
      },
      "text/plain": [
       "HBox(children=(FloatProgress(value=0.0, description='Training', layout=Layout(flex='2'), max=1250.0, style=Pro…"
      ]
     },
     "metadata": {},
     "output_type": "display_data"
    },
    {
     "name": "stdout",
     "output_type": "stream",
     "text": [
      "Epoch 3700: train=7.72625, val=7.79164, took 31.988 s\n",
      "  Validation Found 51313 of 54504, added 1841 (eff 94.15%) (0.184 FP/event)\n"
     ]
    },
    {
     "data": {
      "application/vnd.jupyter.widget-view+json": {
       "model_id": "",
       "version_major": 2,
       "version_minor": 0
      },
      "text/plain": [
       "HBox(children=(FloatProgress(value=0.0, description='Training', layout=Layout(flex='2'), max=1250.0, style=Pro…"
      ]
     },
     "metadata": {},
     "output_type": "display_data"
    },
    {
     "name": "stdout",
     "output_type": "stream",
     "text": [
      "Epoch 3701: train=7.73012, val=7.82006, took 31.849 s\n",
      "  Validation Found 51287 of 54504, added 1800 (eff 94.10%) (0.18 FP/event)\n"
     ]
    },
    {
     "data": {
      "application/vnd.jupyter.widget-view+json": {
       "model_id": "",
       "version_major": 2,
       "version_minor": 0
      },
      "text/plain": [
       "HBox(children=(FloatProgress(value=0.0, description='Training', layout=Layout(flex='2'), max=1250.0, style=Pro…"
      ]
     },
     "metadata": {},
     "output_type": "display_data"
    },
    {
     "name": "stdout",
     "output_type": "stream",
     "text": [
      "Epoch 3702: train=7.727, val=7.80404, took 32.066 s\n",
      "  Validation Found 51297 of 54504, added 1819 (eff 94.12%) (0.182 FP/event)\n"
     ]
    },
    {
     "data": {
      "application/vnd.jupyter.widget-view+json": {
       "model_id": "",
       "version_major": 2,
       "version_minor": 0
      },
      "text/plain": [
       "HBox(children=(FloatProgress(value=0.0, description='Training', layout=Layout(flex='2'), max=1250.0, style=Pro…"
      ]
     },
     "metadata": {},
     "output_type": "display_data"
    },
    {
     "name": "stdout",
     "output_type": "stream",
     "text": [
      "Epoch 3703: train=7.72645, val=7.78596, took 32.015 s\n",
      "  Validation Found 51331 of 54504, added 1867 (eff 94.18%) (0.187 FP/event)\n"
     ]
    },
    {
     "data": {
      "application/vnd.jupyter.widget-view+json": {
       "model_id": "",
       "version_major": 2,
       "version_minor": 0
      },
      "text/plain": [
       "HBox(children=(FloatProgress(value=0.0, description='Training', layout=Layout(flex='2'), max=1250.0, style=Pro…"
      ]
     },
     "metadata": {},
     "output_type": "display_data"
    },
    {
     "name": "stdout",
     "output_type": "stream",
     "text": [
      "Epoch 3704: train=7.72753, val=7.78821, took 31.908 s\n",
      "  Validation Found 51367 of 54504, added 1959 (eff 94.24%) (0.196 FP/event)\n"
     ]
    },
    {
     "data": {
      "application/vnd.jupyter.widget-view+json": {
       "model_id": "",
       "version_major": 2,
       "version_minor": 0
      },
      "text/plain": [
       "HBox(children=(FloatProgress(value=0.0, description='Training', layout=Layout(flex='2'), max=1250.0, style=Pro…"
      ]
     },
     "metadata": {},
     "output_type": "display_data"
    },
    {
     "name": "stdout",
     "output_type": "stream",
     "text": [
      "Epoch 3705: train=7.72729, val=7.81397, took 32.165 s\n",
      "  Validation Found 51296 of 54504, added 1832 (eff 94.11%) (0.183 FP/event)\n"
     ]
    },
    {
     "data": {
      "application/vnd.jupyter.widget-view+json": {
       "model_id": "",
       "version_major": 2,
       "version_minor": 0
      },
      "text/plain": [
       "HBox(children=(FloatProgress(value=0.0, description='Training', layout=Layout(flex='2'), max=1250.0, style=Pro…"
      ]
     },
     "metadata": {},
     "output_type": "display_data"
    },
    {
     "name": "stdout",
     "output_type": "stream",
     "text": [
      "Epoch 3706: train=7.72538, val=7.8127, took 32.125 s\n",
      "  Validation Found 51279 of 54504, added 1821 (eff 94.08%) (0.182 FP/event)\n"
     ]
    },
    {
     "data": {
      "application/vnd.jupyter.widget-view+json": {
       "model_id": "",
       "version_major": 2,
       "version_minor": 0
      },
      "text/plain": [
       "HBox(children=(FloatProgress(value=0.0, description='Training', layout=Layout(flex='2'), max=1250.0, style=Pro…"
      ]
     },
     "metadata": {},
     "output_type": "display_data"
    },
    {
     "name": "stdout",
     "output_type": "stream",
     "text": [
      "Epoch 3707: train=7.72693, val=7.79206, took 32.006 s\n",
      "  Validation Found 51342 of 54504, added 1890 (eff 94.20%) (0.189 FP/event)\n"
     ]
    },
    {
     "data": {
      "application/vnd.jupyter.widget-view+json": {
       "model_id": "",
       "version_major": 2,
       "version_minor": 0
      },
      "text/plain": [
       "HBox(children=(FloatProgress(value=0.0, description='Training', layout=Layout(flex='2'), max=1250.0, style=Pro…"
      ]
     },
     "metadata": {},
     "output_type": "display_data"
    },
    {
     "name": "stdout",
     "output_type": "stream",
     "text": [
      "Epoch 3708: train=7.72662, val=7.7742, took 31.288 s\n",
      "  Validation Found 51352 of 54504, added 1896 (eff 94.22%) (0.19 FP/event)\n"
     ]
    },
    {
     "data": {
      "application/vnd.jupyter.widget-view+json": {
       "model_id": "",
       "version_major": 2,
       "version_minor": 0
      },
      "text/plain": [
       "HBox(children=(FloatProgress(value=0.0, description='Training', layout=Layout(flex='2'), max=1250.0, style=Pro…"
      ]
     },
     "metadata": {},
     "output_type": "display_data"
    },
    {
     "name": "stdout",
     "output_type": "stream",
     "text": [
      "Epoch 3709: train=7.72496, val=7.82521, took 31.248 s\n",
      "  Validation Found 51233 of 54504, added 1719 (eff 94.00%) (0.172 FP/event)\n"
     ]
    },
    {
     "data": {
      "application/vnd.jupyter.widget-view+json": {
       "model_id": "",
       "version_major": 2,
       "version_minor": 0
      },
      "text/plain": [
       "HBox(children=(FloatProgress(value=0.0, description='Training', layout=Layout(flex='2'), max=1250.0, style=Pro…"
      ]
     },
     "metadata": {},
     "output_type": "display_data"
    },
    {
     "name": "stdout",
     "output_type": "stream",
     "text": [
      "Epoch 3710: train=7.72683, val=7.79318, took 31.163 s\n",
      "  Validation Found 51335 of 54504, added 1892 (eff 94.19%) (0.189 FP/event)\n"
     ]
    },
    {
     "data": {
      "application/vnd.jupyter.widget-view+json": {
       "model_id": "",
       "version_major": 2,
       "version_minor": 0
      },
      "text/plain": [
       "HBox(children=(FloatProgress(value=0.0, description='Training', layout=Layout(flex='2'), max=1250.0, style=Pro…"
      ]
     },
     "metadata": {},
     "output_type": "display_data"
    },
    {
     "name": "stdout",
     "output_type": "stream",
     "text": [
      "Epoch 3711: train=7.7252, val=7.79869, took 31.121 s\n",
      "  Validation Found 51275 of 54504, added 1785 (eff 94.08%) (0.179 FP/event)\n"
     ]
    },
    {
     "data": {
      "application/vnd.jupyter.widget-view+json": {
       "model_id": "",
       "version_major": 2,
       "version_minor": 0
      },
      "text/plain": [
       "HBox(children=(FloatProgress(value=0.0, description='Training', layout=Layout(flex='2'), max=1250.0, style=Pro…"
      ]
     },
     "metadata": {},
     "output_type": "display_data"
    },
    {
     "name": "stdout",
     "output_type": "stream",
     "text": [
      "Epoch 3712: train=7.72801, val=7.8213, took 31.559 s\n",
      "  Validation Found 51280 of 54504, added 1814 (eff 94.08%) (0.182 FP/event)\n"
     ]
    },
    {
     "data": {
      "application/vnd.jupyter.widget-view+json": {
       "model_id": "",
       "version_major": 2,
       "version_minor": 0
      },
      "text/plain": [
       "HBox(children=(FloatProgress(value=0.0, description='Training', layout=Layout(flex='2'), max=1250.0, style=Pro…"
      ]
     },
     "metadata": {},
     "output_type": "display_data"
    },
    {
     "name": "stdout",
     "output_type": "stream",
     "text": [
      "Epoch 3713: train=7.72814, val=7.79213, took 31.217 s\n",
      "  Validation Found 51312 of 54504, added 1853 (eff 94.14%) (0.186 FP/event)\n"
     ]
    },
    {
     "data": {
      "application/vnd.jupyter.widget-view+json": {
       "model_id": "",
       "version_major": 2,
       "version_minor": 0
      },
      "text/plain": [
       "HBox(children=(FloatProgress(value=0.0, description='Training', layout=Layout(flex='2'), max=1250.0, style=Pro…"
      ]
     },
     "metadata": {},
     "output_type": "display_data"
    },
    {
     "name": "stdout",
     "output_type": "stream",
     "text": [
      "Epoch 3714: train=7.72794, val=7.79948, took 31.523 s\n",
      "  Validation Found 51312 of 54504, added 1822 (eff 94.14%) (0.182 FP/event)\n"
     ]
    },
    {
     "data": {
      "application/vnd.jupyter.widget-view+json": {
       "model_id": "",
       "version_major": 2,
       "version_minor": 0
      },
      "text/plain": [
       "HBox(children=(FloatProgress(value=0.0, description='Training', layout=Layout(flex='2'), max=1250.0, style=Pro…"
      ]
     },
     "metadata": {},
     "output_type": "display_data"
    },
    {
     "name": "stdout",
     "output_type": "stream",
     "text": [
      "Epoch 3715: train=7.721, val=7.83331, took 32.139 s\n",
      "  Validation Found 51264 of 54504, added 1794 (eff 94.06%) (0.18 FP/event)\n"
     ]
    },
    {
     "data": {
      "application/vnd.jupyter.widget-view+json": {
       "model_id": "",
       "version_major": 2,
       "version_minor": 0
      },
      "text/plain": [
       "HBox(children=(FloatProgress(value=0.0, description='Training', layout=Layout(flex='2'), max=1250.0, style=Pro…"
      ]
     },
     "metadata": {},
     "output_type": "display_data"
    },
    {
     "name": "stdout",
     "output_type": "stream",
     "text": [
      "Epoch 3716: train=7.7294, val=7.80943, took 31.948 s\n",
      "  Validation Found 51304 of 54504, added 1849 (eff 94.13%) (0.185 FP/event)\n"
     ]
    },
    {
     "data": {
      "application/vnd.jupyter.widget-view+json": {
       "model_id": "",
       "version_major": 2,
       "version_minor": 0
      },
      "text/plain": [
       "HBox(children=(FloatProgress(value=0.0, description='Training', layout=Layout(flex='2'), max=1250.0, style=Pro…"
      ]
     },
     "metadata": {},
     "output_type": "display_data"
    },
    {
     "name": "stdout",
     "output_type": "stream",
     "text": [
      "Epoch 3717: train=7.7285, val=7.80733, took 31.863 s\n",
      "  Validation Found 51327 of 54504, added 1844 (eff 94.17%) (0.185 FP/event)\n"
     ]
    },
    {
     "data": {
      "application/vnd.jupyter.widget-view+json": {
       "model_id": "",
       "version_major": 2,
       "version_minor": 0
      },
      "text/plain": [
       "HBox(children=(FloatProgress(value=0.0, description='Training', layout=Layout(flex='2'), max=1250.0, style=Pro…"
      ]
     },
     "metadata": {},
     "output_type": "display_data"
    },
    {
     "name": "stdout",
     "output_type": "stream",
     "text": [
      "Epoch 3718: train=7.72587, val=7.78348, took 31.775 s\n",
      "  Validation Found 51304 of 54504, added 1841 (eff 94.13%) (0.184 FP/event)\n"
     ]
    },
    {
     "data": {
      "application/vnd.jupyter.widget-view+json": {
       "model_id": "",
       "version_major": 2,
       "version_minor": 0
      },
      "text/plain": [
       "HBox(children=(FloatProgress(value=0.0, description='Training', layout=Layout(flex='2'), max=1250.0, style=Pro…"
      ]
     },
     "metadata": {},
     "output_type": "display_data"
    },
    {
     "name": "stdout",
     "output_type": "stream",
     "text": [
      "Epoch 3719: train=7.72572, val=7.79141, took 32.083 s\n",
      "  Validation Found 51353 of 54504, added 1895 (eff 94.22%) (0.19 FP/event)\n"
     ]
    },
    {
     "data": {
      "application/vnd.jupyter.widget-view+json": {
       "model_id": "",
       "version_major": 2,
       "version_minor": 0
      },
      "text/plain": [
       "HBox(children=(FloatProgress(value=0.0, description='Training', layout=Layout(flex='2'), max=1250.0, style=Pro…"
      ]
     },
     "metadata": {},
     "output_type": "display_data"
    },
    {
     "name": "stdout",
     "output_type": "stream",
     "text": [
      "Epoch 3720: train=7.7251, val=7.7752, took 31.877 s\n",
      "  Validation Found 51392 of 54504, added 1951 (eff 94.29%) (0.195 FP/event)\n"
     ]
    },
    {
     "data": {
      "application/vnd.jupyter.widget-view+json": {
       "model_id": "",
       "version_major": 2,
       "version_minor": 0
      },
      "text/plain": [
       "HBox(children=(FloatProgress(value=0.0, description='Training', layout=Layout(flex='2'), max=1250.0, style=Pro…"
      ]
     },
     "metadata": {},
     "output_type": "display_data"
    },
    {
     "name": "stdout",
     "output_type": "stream",
     "text": [
      "Epoch 3721: train=7.72238, val=7.82491, took 31.907 s\n",
      "  Validation Found 51234 of 54504, added 1739 (eff 94.00%) (0.174 FP/event)\n"
     ]
    },
    {
     "data": {
      "application/vnd.jupyter.widget-view+json": {
       "model_id": "",
       "version_major": 2,
       "version_minor": 0
      },
      "text/plain": [
       "HBox(children=(FloatProgress(value=0.0, description='Training', layout=Layout(flex='2'), max=1250.0, style=Pro…"
      ]
     },
     "metadata": {},
     "output_type": "display_data"
    },
    {
     "name": "stdout",
     "output_type": "stream",
     "text": [
      "Epoch 3722: train=7.72489, val=7.80363, took 31.901 s\n",
      "  Validation Found 51300 of 54504, added 1815 (eff 94.12%) (0.182 FP/event)\n"
     ]
    },
    {
     "data": {
      "application/vnd.jupyter.widget-view+json": {
       "model_id": "",
       "version_major": 2,
       "version_minor": 0
      },
      "text/plain": [
       "HBox(children=(FloatProgress(value=0.0, description='Training', layout=Layout(flex='2'), max=1250.0, style=Pro…"
      ]
     },
     "metadata": {},
     "output_type": "display_data"
    },
    {
     "name": "stdout",
     "output_type": "stream",
     "text": [
      "Epoch 3723: train=7.72621, val=7.8144, took 31.298 s\n",
      "  Validation Found 51291 of 54504, added 1800 (eff 94.11%) (0.18 FP/event)\n"
     ]
    },
    {
     "data": {
      "application/vnd.jupyter.widget-view+json": {
       "model_id": "",
       "version_major": 2,
       "version_minor": 0
      },
      "text/plain": [
       "HBox(children=(FloatProgress(value=0.0, description='Training', layout=Layout(flex='2'), max=1250.0, style=Pro…"
      ]
     },
     "metadata": {},
     "output_type": "display_data"
    },
    {
     "name": "stdout",
     "output_type": "stream",
     "text": [
      "Epoch 3724: train=7.72035, val=7.81328, took 31.351 s\n",
      "  Validation Found 51280 of 54504, added 1794 (eff 94.08%) (0.18 FP/event)\n"
     ]
    },
    {
     "data": {
      "application/vnd.jupyter.widget-view+json": {
       "model_id": "",
       "version_major": 2,
       "version_minor": 0
      },
      "text/plain": [
       "HBox(children=(FloatProgress(value=0.0, description='Training', layout=Layout(flex='2'), max=1250.0, style=Pro…"
      ]
     },
     "metadata": {},
     "output_type": "display_data"
    },
    {
     "name": "stdout",
     "output_type": "stream",
     "text": [
      "Epoch 3725: train=7.72247, val=7.80959, took 31.49 s\n",
      "  Validation Found 51295 of 54504, added 1830 (eff 94.11%) (0.183 FP/event)\n"
     ]
    },
    {
     "data": {
      "application/vnd.jupyter.widget-view+json": {
       "model_id": "",
       "version_major": 2,
       "version_minor": 0
      },
      "text/plain": [
       "HBox(children=(FloatProgress(value=0.0, description='Training', layout=Layout(flex='2'), max=1250.0, style=Pro…"
      ]
     },
     "metadata": {},
     "output_type": "display_data"
    },
    {
     "name": "stdout",
     "output_type": "stream",
     "text": [
      "Epoch 3726: train=7.72772, val=7.82516, took 31.449 s\n",
      "  Validation Found 51289 of 54504, added 1803 (eff 94.10%) (0.181 FP/event)\n"
     ]
    },
    {
     "data": {
      "application/vnd.jupyter.widget-view+json": {
       "model_id": "",
       "version_major": 2,
       "version_minor": 0
      },
      "text/plain": [
       "HBox(children=(FloatProgress(value=0.0, description='Training', layout=Layout(flex='2'), max=1250.0, style=Pro…"
      ]
     },
     "metadata": {},
     "output_type": "display_data"
    },
    {
     "name": "stdout",
     "output_type": "stream",
     "text": [
      "Epoch 3727: train=7.72548, val=7.7977, took 31.535 s\n",
      "  Validation Found 51277 of 54504, added 1812 (eff 94.08%) (0.181 FP/event)\n"
     ]
    },
    {
     "data": {
      "application/vnd.jupyter.widget-view+json": {
       "model_id": "",
       "version_major": 2,
       "version_minor": 0
      },
      "text/plain": [
       "HBox(children=(FloatProgress(value=0.0, description='Training', layout=Layout(flex='2'), max=1250.0, style=Pro…"
      ]
     },
     "metadata": {},
     "output_type": "display_data"
    },
    {
     "name": "stdout",
     "output_type": "stream",
     "text": [
      "Epoch 3728: train=7.72765, val=7.81688, took 31.432 s\n",
      "  Validation Found 51355 of 54504, added 1909 (eff 94.22%) (0.191 FP/event)\n"
     ]
    },
    {
     "data": {
      "application/vnd.jupyter.widget-view+json": {
       "model_id": "",
       "version_major": 2,
       "version_minor": 0
      },
      "text/plain": [
       "HBox(children=(FloatProgress(value=0.0, description='Training', layout=Layout(flex='2'), max=1250.0, style=Pro…"
      ]
     },
     "metadata": {},
     "output_type": "display_data"
    },
    {
     "name": "stdout",
     "output_type": "stream",
     "text": [
      "Epoch 3729: train=7.7251, val=7.81736, took 31.461 s\n",
      "  Validation Found 51274 of 54504, added 1785 (eff 94.07%) (0.179 FP/event)\n"
     ]
    },
    {
     "data": {
      "application/vnd.jupyter.widget-view+json": {
       "model_id": "",
       "version_major": 2,
       "version_minor": 0
      },
      "text/plain": [
       "HBox(children=(FloatProgress(value=0.0, description='Training', layout=Layout(flex='2'), max=1250.0, style=Pro…"
      ]
     },
     "metadata": {},
     "output_type": "display_data"
    },
    {
     "name": "stdout",
     "output_type": "stream",
     "text": [
      "Epoch 3730: train=7.72621, val=7.83411, took 31.273 s\n",
      "  Validation Found 51249 of 54504, added 1737 (eff 94.03%) (0.174 FP/event)\n"
     ]
    },
    {
     "data": {
      "application/vnd.jupyter.widget-view+json": {
       "model_id": "",
       "version_major": 2,
       "version_minor": 0
      },
      "text/plain": [
       "HBox(children=(FloatProgress(value=0.0, description='Training', layout=Layout(flex='2'), max=1250.0, style=Pro…"
      ]
     },
     "metadata": {},
     "output_type": "display_data"
    },
    {
     "name": "stdout",
     "output_type": "stream",
     "text": [
      "Epoch 3731: train=7.72423, val=7.82983, took 31.333 s\n",
      "  Validation Found 51246 of 54504, added 1775 (eff 94.02%) (0.178 FP/event)\n"
     ]
    },
    {
     "data": {
      "application/vnd.jupyter.widget-view+json": {
       "model_id": "",
       "version_major": 2,
       "version_minor": 0
      },
      "text/plain": [
       "HBox(children=(FloatProgress(value=0.0, description='Training', layout=Layout(flex='2'), max=1250.0, style=Pro…"
      ]
     },
     "metadata": {},
     "output_type": "display_data"
    },
    {
     "name": "stdout",
     "output_type": "stream",
     "text": [
      "Epoch 3732: train=7.72394, val=7.79849, took 31.38 s\n",
      "  Validation Found 51300 of 54504, added 1834 (eff 94.12%) (0.184 FP/event)\n"
     ]
    },
    {
     "data": {
      "application/vnd.jupyter.widget-view+json": {
       "model_id": "",
       "version_major": 2,
       "version_minor": 0
      },
      "text/plain": [
       "HBox(children=(FloatProgress(value=0.0, description='Training', layout=Layout(flex='2'), max=1250.0, style=Pro…"
      ]
     },
     "metadata": {},
     "output_type": "display_data"
    },
    {
     "name": "stdout",
     "output_type": "stream",
     "text": [
      "Epoch 3733: train=7.72221, val=7.79131, took 31.2 s\n",
      "  Validation Found 51338 of 54504, added 1902 (eff 94.19%) (0.19 FP/event)\n"
     ]
    },
    {
     "data": {
      "application/vnd.jupyter.widget-view+json": {
       "model_id": "",
       "version_major": 2,
       "version_minor": 0
      },
      "text/plain": [
       "HBox(children=(FloatProgress(value=0.0, description='Training', layout=Layout(flex='2'), max=1250.0, style=Pro…"
      ]
     },
     "metadata": {},
     "output_type": "display_data"
    },
    {
     "name": "stdout",
     "output_type": "stream",
     "text": [
      "Epoch 3734: train=7.72452, val=7.7937, took 31.181 s\n",
      "  Validation Found 51316 of 54504, added 1823 (eff 94.15%) (0.183 FP/event)\n"
     ]
    },
    {
     "data": {
      "application/vnd.jupyter.widget-view+json": {
       "model_id": "",
       "version_major": 2,
       "version_minor": 0
      },
      "text/plain": [
       "HBox(children=(FloatProgress(value=0.0, description='Training', layout=Layout(flex='2'), max=1250.0, style=Pro…"
      ]
     },
     "metadata": {},
     "output_type": "display_data"
    },
    {
     "name": "stdout",
     "output_type": "stream",
     "text": [
      "Epoch 3735: train=7.72723, val=7.81537, took 31.279 s\n",
      "  Validation Found 51274 of 54504, added 1789 (eff 94.07%) (0.179 FP/event)\n"
     ]
    },
    {
     "data": {
      "application/vnd.jupyter.widget-view+json": {
       "model_id": "",
       "version_major": 2,
       "version_minor": 0
      },
      "text/plain": [
       "HBox(children=(FloatProgress(value=0.0, description='Training', layout=Layout(flex='2'), max=1250.0, style=Pro…"
      ]
     },
     "metadata": {},
     "output_type": "display_data"
    },
    {
     "name": "stdout",
     "output_type": "stream",
     "text": [
      "Epoch 3736: train=7.72667, val=7.79149, took 31.194 s\n",
      "  Validation Found 51329 of 54504, added 1863 (eff 94.17%) (0.187 FP/event)\n"
     ]
    },
    {
     "data": {
      "application/vnd.jupyter.widget-view+json": {
       "model_id": "",
       "version_major": 2,
       "version_minor": 0
      },
      "text/plain": [
       "HBox(children=(FloatProgress(value=0.0, description='Training', layout=Layout(flex='2'), max=1250.0, style=Pro…"
      ]
     },
     "metadata": {},
     "output_type": "display_data"
    },
    {
     "name": "stdout",
     "output_type": "stream",
     "text": [
      "Epoch 3737: train=7.72746, val=7.80882, took 31.117 s\n",
      "  Validation Found 51307 of 54504, added 1840 (eff 94.13%) (0.184 FP/event)\n"
     ]
    },
    {
     "data": {
      "application/vnd.jupyter.widget-view+json": {
       "model_id": "",
       "version_major": 2,
       "version_minor": 0
      },
      "text/plain": [
       "HBox(children=(FloatProgress(value=0.0, description='Training', layout=Layout(flex='2'), max=1250.0, style=Pro…"
      ]
     },
     "metadata": {},
     "output_type": "display_data"
    },
    {
     "name": "stdout",
     "output_type": "stream",
     "text": [
      "Epoch 3738: train=7.72723, val=7.7983, took 31.257 s\n",
      "  Validation Found 51328 of 54504, added 1870 (eff 94.17%) (0.187 FP/event)\n"
     ]
    },
    {
     "data": {
      "application/vnd.jupyter.widget-view+json": {
       "model_id": "",
       "version_major": 2,
       "version_minor": 0
      },
      "text/plain": [
       "HBox(children=(FloatProgress(value=0.0, description='Training', layout=Layout(flex='2'), max=1250.0, style=Pro…"
      ]
     },
     "metadata": {},
     "output_type": "display_data"
    },
    {
     "name": "stdout",
     "output_type": "stream",
     "text": [
      "Epoch 3739: train=7.72108, val=7.79853, took 31.238 s\n",
      "  Validation Found 51307 of 54504, added 1871 (eff 94.13%) (0.187 FP/event)\n"
     ]
    },
    {
     "data": {
      "application/vnd.jupyter.widget-view+json": {
       "model_id": "",
       "version_major": 2,
       "version_minor": 0
      },
      "text/plain": [
       "HBox(children=(FloatProgress(value=0.0, description='Training', layout=Layout(flex='2'), max=1250.0, style=Pro…"
      ]
     },
     "metadata": {},
     "output_type": "display_data"
    },
    {
     "name": "stdout",
     "output_type": "stream",
     "text": [
      "Epoch 3740: train=7.72265, val=7.78869, took 31.236 s\n",
      "  Validation Found 51322 of 54504, added 1846 (eff 94.16%) (0.185 FP/event)\n"
     ]
    },
    {
     "data": {
      "application/vnd.jupyter.widget-view+json": {
       "model_id": "",
       "version_major": 2,
       "version_minor": 0
      },
      "text/plain": [
       "HBox(children=(FloatProgress(value=0.0, description='Training', layout=Layout(flex='2'), max=1250.0, style=Pro…"
      ]
     },
     "metadata": {},
     "output_type": "display_data"
    },
    {
     "name": "stdout",
     "output_type": "stream",
     "text": [
      "Epoch 3741: train=7.72813, val=7.80566, took 31.453 s\n",
      "  Validation Found 51276 of 54504, added 1799 (eff 94.08%) (0.18 FP/event)\n"
     ]
    },
    {
     "data": {
      "application/vnd.jupyter.widget-view+json": {
       "model_id": "",
       "version_major": 2,
       "version_minor": 0
      },
      "text/plain": [
       "HBox(children=(FloatProgress(value=0.0, description='Training', layout=Layout(flex='2'), max=1250.0, style=Pro…"
      ]
     },
     "metadata": {},
     "output_type": "display_data"
    },
    {
     "name": "stdout",
     "output_type": "stream",
     "text": [
      "Epoch 3742: train=7.72706, val=7.80763, took 31.256 s\n",
      "  Validation Found 51317 of 54504, added 1867 (eff 94.15%) (0.187 FP/event)\n"
     ]
    },
    {
     "data": {
      "application/vnd.jupyter.widget-view+json": {
       "model_id": "",
       "version_major": 2,
       "version_minor": 0
      },
      "text/plain": [
       "HBox(children=(FloatProgress(value=0.0, description='Training', layout=Layout(flex='2'), max=1250.0, style=Pro…"
      ]
     },
     "metadata": {},
     "output_type": "display_data"
    },
    {
     "name": "stdout",
     "output_type": "stream",
     "text": [
      "Epoch 3743: train=7.72265, val=7.78312, took 31.103 s\n",
      "  Validation Found 51341 of 54504, added 1885 (eff 94.20%) (0.189 FP/event)\n"
     ]
    },
    {
     "data": {
      "application/vnd.jupyter.widget-view+json": {
       "model_id": "",
       "version_major": 2,
       "version_minor": 0
      },
      "text/plain": [
       "HBox(children=(FloatProgress(value=0.0, description='Training', layout=Layout(flex='2'), max=1250.0, style=Pro…"
      ]
     },
     "metadata": {},
     "output_type": "display_data"
    },
    {
     "name": "stdout",
     "output_type": "stream",
     "text": [
      "Epoch 3744: train=7.72608, val=7.80329, took 31.467 s\n",
      "  Validation Found 51328 of 54504, added 1859 (eff 94.17%) (0.186 FP/event)\n"
     ]
    },
    {
     "data": {
      "application/vnd.jupyter.widget-view+json": {
       "model_id": "",
       "version_major": 2,
       "version_minor": 0
      },
      "text/plain": [
       "HBox(children=(FloatProgress(value=0.0, description='Training', layout=Layout(flex='2'), max=1250.0, style=Pro…"
      ]
     },
     "metadata": {},
     "output_type": "display_data"
    },
    {
     "name": "stdout",
     "output_type": "stream",
     "text": [
      "Epoch 3745: train=7.72066, val=7.81434, took 31.382 s\n",
      "  Validation Found 51348 of 54504, added 1922 (eff 94.21%) (0.192 FP/event)\n"
     ]
    },
    {
     "data": {
      "application/vnd.jupyter.widget-view+json": {
       "model_id": "",
       "version_major": 2,
       "version_minor": 0
      },
      "text/plain": [
       "HBox(children=(FloatProgress(value=0.0, description='Training', layout=Layout(flex='2'), max=1250.0, style=Pro…"
      ]
     },
     "metadata": {},
     "output_type": "display_data"
    },
    {
     "name": "stdout",
     "output_type": "stream",
     "text": [
      "Epoch 3746: train=7.72747, val=7.80692, took 31.847 s\n",
      "  Validation Found 51281 of 54504, added 1809 (eff 94.09%) (0.181 FP/event)\n"
     ]
    },
    {
     "data": {
      "application/vnd.jupyter.widget-view+json": {
       "model_id": "",
       "version_major": 2,
       "version_minor": 0
      },
      "text/plain": [
       "HBox(children=(FloatProgress(value=0.0, description='Training', layout=Layout(flex='2'), max=1250.0, style=Pro…"
      ]
     },
     "metadata": {},
     "output_type": "display_data"
    },
    {
     "name": "stdout",
     "output_type": "stream",
     "text": [
      "Epoch 3747: train=7.72803, val=7.79872, took 31.323 s\n",
      "  Validation Found 51303 of 54504, added 1831 (eff 94.13%) (0.183 FP/event)\n"
     ]
    },
    {
     "data": {
      "application/vnd.jupyter.widget-view+json": {
       "model_id": "",
       "version_major": 2,
       "version_minor": 0
      },
      "text/plain": [
       "HBox(children=(FloatProgress(value=0.0, description='Training', layout=Layout(flex='2'), max=1250.0, style=Pro…"
      ]
     },
     "metadata": {},
     "output_type": "display_data"
    },
    {
     "name": "stdout",
     "output_type": "stream",
     "text": [
      "Epoch 3748: train=7.72756, val=7.83741, took 31.377 s\n",
      "  Validation Found 51233 of 54504, added 1747 (eff 94.00%) (0.175 FP/event)\n"
     ]
    },
    {
     "data": {
      "application/vnd.jupyter.widget-view+json": {
       "model_id": "",
       "version_major": 2,
       "version_minor": 0
      },
      "text/plain": [
       "HBox(children=(FloatProgress(value=0.0, description='Training', layout=Layout(flex='2'), max=1250.0, style=Pro…"
      ]
     },
     "metadata": {},
     "output_type": "display_data"
    },
    {
     "name": "stdout",
     "output_type": "stream",
     "text": [
      "Epoch 3749: train=7.72764, val=7.79432, took 31.334 s\n",
      "  Validation Found 51333 of 54504, added 1879 (eff 94.18%) (0.188 FP/event)\n"
     ]
    },
    {
     "data": {
      "application/vnd.jupyter.widget-view+json": {
       "model_id": "",
       "version_major": 2,
       "version_minor": 0
      },
      "text/plain": [
       "HBox(children=(FloatProgress(value=0.0, description='Training', layout=Layout(flex='2'), max=1250.0, style=Pro…"
      ]
     },
     "metadata": {},
     "output_type": "display_data"
    },
    {
     "name": "stdout",
     "output_type": "stream",
     "text": [
      "Epoch 3750: train=7.72391, val=7.79748, took 31.374 s\n",
      "  Validation Found 51321 of 54504, added 1859 (eff 94.16%) (0.186 FP/event)\n"
     ]
    },
    {
     "data": {
      "application/vnd.jupyter.widget-view+json": {
       "model_id": "",
       "version_major": 2,
       "version_minor": 0
      },
      "text/plain": [
       "HBox(children=(FloatProgress(value=0.0, description='Training', layout=Layout(flex='2'), max=1250.0, style=Pro…"
      ]
     },
     "metadata": {},
     "output_type": "display_data"
    },
    {
     "name": "stdout",
     "output_type": "stream",
     "text": [
      "Epoch 3751: train=7.72554, val=7.78507, took 31.28 s\n",
      "  Validation Found 51319 of 54504, added 1891 (eff 94.16%) (0.189 FP/event)\n"
     ]
    },
    {
     "data": {
      "application/vnd.jupyter.widget-view+json": {
       "model_id": "",
       "version_major": 2,
       "version_minor": 0
      },
      "text/plain": [
       "HBox(children=(FloatProgress(value=0.0, description='Training', layout=Layout(flex='2'), max=1250.0, style=Pro…"
      ]
     },
     "metadata": {},
     "output_type": "display_data"
    },
    {
     "name": "stdout",
     "output_type": "stream",
     "text": [
      "Epoch 3752: train=7.72433, val=7.79209, took 31.182 s\n",
      "  Validation Found 51369 of 54504, added 1923 (eff 94.25%) (0.193 FP/event)\n"
     ]
    },
    {
     "data": {
      "application/vnd.jupyter.widget-view+json": {
       "model_id": "",
       "version_major": 2,
       "version_minor": 0
      },
      "text/plain": [
       "HBox(children=(FloatProgress(value=0.0, description='Training', layout=Layout(flex='2'), max=1250.0, style=Pro…"
      ]
     },
     "metadata": {},
     "output_type": "display_data"
    },
    {
     "name": "stdout",
     "output_type": "stream",
     "text": [
      "Epoch 3753: train=7.72638, val=7.80237, took 31.168 s\n",
      "  Validation Found 51303 of 54504, added 1826 (eff 94.13%) (0.183 FP/event)\n"
     ]
    },
    {
     "data": {
      "application/vnd.jupyter.widget-view+json": {
       "model_id": "",
       "version_major": 2,
       "version_minor": 0
      },
      "text/plain": [
       "HBox(children=(FloatProgress(value=0.0, description='Training', layout=Layout(flex='2'), max=1250.0, style=Pro…"
      ]
     },
     "metadata": {},
     "output_type": "display_data"
    },
    {
     "name": "stdout",
     "output_type": "stream",
     "text": [
      "Epoch 3754: train=7.72552, val=7.80338, took 31.251 s\n",
      "  Validation Found 51264 of 54504, added 1777 (eff 94.06%) (0.178 FP/event)\n"
     ]
    },
    {
     "data": {
      "application/vnd.jupyter.widget-view+json": {
       "model_id": "",
       "version_major": 2,
       "version_minor": 0
      },
      "text/plain": [
       "HBox(children=(FloatProgress(value=0.0, description='Training', layout=Layout(flex='2'), max=1250.0, style=Pro…"
      ]
     },
     "metadata": {},
     "output_type": "display_data"
    },
    {
     "name": "stdout",
     "output_type": "stream",
     "text": [
      "Epoch 3755: train=7.7243, val=7.7836, took 31.309 s\n",
      "  Validation Found 51337 of 54504, added 1892 (eff 94.19%) (0.189 FP/event)\n"
     ]
    },
    {
     "data": {
      "application/vnd.jupyter.widget-view+json": {
       "model_id": "",
       "version_major": 2,
       "version_minor": 0
      },
      "text/plain": [
       "HBox(children=(FloatProgress(value=0.0, description='Training', layout=Layout(flex='2'), max=1250.0, style=Pro…"
      ]
     },
     "metadata": {},
     "output_type": "display_data"
    },
    {
     "name": "stdout",
     "output_type": "stream",
     "text": [
      "Epoch 3756: train=7.72585, val=7.79111, took 31.158 s\n",
      "  Validation Found 51333 of 54504, added 1854 (eff 94.18%) (0.186 FP/event)\n"
     ]
    },
    {
     "data": {
      "application/vnd.jupyter.widget-view+json": {
       "model_id": "",
       "version_major": 2,
       "version_minor": 0
      },
      "text/plain": [
       "HBox(children=(FloatProgress(value=0.0, description='Training', layout=Layout(flex='2'), max=1250.0, style=Pro…"
      ]
     },
     "metadata": {},
     "output_type": "display_data"
    },
    {
     "name": "stdout",
     "output_type": "stream",
     "text": [
      "Epoch 3757: train=7.72287, val=7.80563, took 31.743 s\n",
      "  Validation Found 51293 of 54504, added 1825 (eff 94.11%) (0.183 FP/event)\n"
     ]
    },
    {
     "data": {
      "application/vnd.jupyter.widget-view+json": {
       "model_id": "",
       "version_major": 2,
       "version_minor": 0
      },
      "text/plain": [
       "HBox(children=(FloatProgress(value=0.0, description='Training', layout=Layout(flex='2'), max=1250.0, style=Pro…"
      ]
     },
     "metadata": {},
     "output_type": "display_data"
    },
    {
     "name": "stdout",
     "output_type": "stream",
     "text": [
      "Epoch 3758: train=7.72512, val=7.79695, took 31.482 s\n",
      "  Validation Found 51321 of 54504, added 1879 (eff 94.16%) (0.188 FP/event)\n"
     ]
    },
    {
     "data": {
      "application/vnd.jupyter.widget-view+json": {
       "model_id": "",
       "version_major": 2,
       "version_minor": 0
      },
      "text/plain": [
       "HBox(children=(FloatProgress(value=0.0, description='Training', layout=Layout(flex='2'), max=1250.0, style=Pro…"
      ]
     },
     "metadata": {},
     "output_type": "display_data"
    },
    {
     "name": "stdout",
     "output_type": "stream",
     "text": [
      "Epoch 3759: train=7.7206, val=7.78386, took 31.321 s\n",
      "  Validation Found 51378 of 54504, added 1982 (eff 94.26%) (0.198 FP/event)\n"
     ]
    },
    {
     "data": {
      "application/vnd.jupyter.widget-view+json": {
       "model_id": "",
       "version_major": 2,
       "version_minor": 0
      },
      "text/plain": [
       "HBox(children=(FloatProgress(value=0.0, description='Training', layout=Layout(flex='2'), max=1250.0, style=Pro…"
      ]
     },
     "metadata": {},
     "output_type": "display_data"
    },
    {
     "name": "stdout",
     "output_type": "stream",
     "text": [
      "Epoch 3760: train=7.72656, val=7.79891, took 31.593 s\n",
      "  Validation Found 51299 of 54504, added 1842 (eff 94.12%) (0.184 FP/event)\n"
     ]
    },
    {
     "data": {
      "application/vnd.jupyter.widget-view+json": {
       "model_id": "",
       "version_major": 2,
       "version_minor": 0
      },
      "text/plain": [
       "HBox(children=(FloatProgress(value=0.0, description='Training', layout=Layout(flex='2'), max=1250.0, style=Pro…"
      ]
     },
     "metadata": {},
     "output_type": "display_data"
    },
    {
     "name": "stdout",
     "output_type": "stream",
     "text": [
      "Epoch 3761: train=7.72244, val=7.81416, took 31.239 s\n",
      "  Validation Found 51247 of 54504, added 1777 (eff 94.02%) (0.178 FP/event)\n"
     ]
    },
    {
     "data": {
      "application/vnd.jupyter.widget-view+json": {
       "model_id": "",
       "version_major": 2,
       "version_minor": 0
      },
      "text/plain": [
       "HBox(children=(FloatProgress(value=0.0, description='Training', layout=Layout(flex='2'), max=1250.0, style=Pro…"
      ]
     },
     "metadata": {},
     "output_type": "display_data"
    },
    {
     "name": "stdout",
     "output_type": "stream",
     "text": [
      "Epoch 3762: train=7.72518, val=7.8046, took 31.268 s\n",
      "  Validation Found 51295 of 54504, added 1824 (eff 94.11%) (0.183 FP/event)\n"
     ]
    },
    {
     "data": {
      "application/vnd.jupyter.widget-view+json": {
       "model_id": "",
       "version_major": 2,
       "version_minor": 0
      },
      "text/plain": [
       "HBox(children=(FloatProgress(value=0.0, description='Training', layout=Layout(flex='2'), max=1250.0, style=Pro…"
      ]
     },
     "metadata": {},
     "output_type": "display_data"
    },
    {
     "name": "stdout",
     "output_type": "stream",
     "text": [
      "Epoch 3763: train=7.72562, val=7.79824, took 31.321 s\n",
      "  Validation Found 51306 of 54504, added 1820 (eff 94.13%) (0.182 FP/event)\n"
     ]
    },
    {
     "data": {
      "application/vnd.jupyter.widget-view+json": {
       "model_id": "",
       "version_major": 2,
       "version_minor": 0
      },
      "text/plain": [
       "HBox(children=(FloatProgress(value=0.0, description='Training', layout=Layout(flex='2'), max=1250.0, style=Pro…"
      ]
     },
     "metadata": {},
     "output_type": "display_data"
    },
    {
     "name": "stdout",
     "output_type": "stream",
     "text": [
      "Epoch 3764: train=7.7207, val=7.80176, took 31.17 s\n",
      "  Validation Found 51266 of 54504, added 1788 (eff 94.06%) (0.179 FP/event)\n"
     ]
    },
    {
     "data": {
      "application/vnd.jupyter.widget-view+json": {
       "model_id": "",
       "version_major": 2,
       "version_minor": 0
      },
      "text/plain": [
       "HBox(children=(FloatProgress(value=0.0, description='Training', layout=Layout(flex='2'), max=1250.0, style=Pro…"
      ]
     },
     "metadata": {},
     "output_type": "display_data"
    },
    {
     "name": "stdout",
     "output_type": "stream",
     "text": [
      "Epoch 3765: train=7.72173, val=7.80603, took 31.327 s\n",
      "  Validation Found 51287 of 54504, added 1818 (eff 94.10%) (0.182 FP/event)\n"
     ]
    },
    {
     "data": {
      "application/vnd.jupyter.widget-view+json": {
       "model_id": "",
       "version_major": 2,
       "version_minor": 0
      },
      "text/plain": [
       "HBox(children=(FloatProgress(value=0.0, description='Training', layout=Layout(flex='2'), max=1250.0, style=Pro…"
      ]
     },
     "metadata": {},
     "output_type": "display_data"
    },
    {
     "name": "stdout",
     "output_type": "stream",
     "text": [
      "Epoch 3766: train=7.72677, val=7.80208, took 31.294 s\n",
      "  Validation Found 51319 of 54504, added 1839 (eff 94.16%) (0.184 FP/event)\n"
     ]
    },
    {
     "data": {
      "application/vnd.jupyter.widget-view+json": {
       "model_id": "",
       "version_major": 2,
       "version_minor": 0
      },
      "text/plain": [
       "HBox(children=(FloatProgress(value=0.0, description='Training', layout=Layout(flex='2'), max=1250.0, style=Pro…"
      ]
     },
     "metadata": {},
     "output_type": "display_data"
    },
    {
     "name": "stdout",
     "output_type": "stream",
     "text": [
      "Epoch 3767: train=7.72552, val=7.82491, took 31.46 s\n",
      "  Validation Found 51282 of 54504, added 1817 (eff 94.09%) (0.182 FP/event)\n"
     ]
    },
    {
     "data": {
      "application/vnd.jupyter.widget-view+json": {
       "model_id": "",
       "version_major": 2,
       "version_minor": 0
      },
      "text/plain": [
       "HBox(children=(FloatProgress(value=0.0, description='Training', layout=Layout(flex='2'), max=1250.0, style=Pro…"
      ]
     },
     "metadata": {},
     "output_type": "display_data"
    },
    {
     "name": "stdout",
     "output_type": "stream",
     "text": [
      "Epoch 3768: train=7.72588, val=7.78726, took 31.361 s\n",
      "  Validation Found 51316 of 54504, added 1865 (eff 94.15%) (0.187 FP/event)\n"
     ]
    },
    {
     "data": {
      "application/vnd.jupyter.widget-view+json": {
       "model_id": "",
       "version_major": 2,
       "version_minor": 0
      },
      "text/plain": [
       "HBox(children=(FloatProgress(value=0.0, description='Training', layout=Layout(flex='2'), max=1250.0, style=Pro…"
      ]
     },
     "metadata": {},
     "output_type": "display_data"
    },
    {
     "name": "stdout",
     "output_type": "stream",
     "text": [
      "Epoch 3769: train=7.72757, val=7.78899, took 31.244 s\n",
      "  Validation Found 51324 of 54504, added 1870 (eff 94.17%) (0.187 FP/event)\n"
     ]
    },
    {
     "data": {
      "application/vnd.jupyter.widget-view+json": {
       "model_id": "",
       "version_major": 2,
       "version_minor": 0
      },
      "text/plain": [
       "HBox(children=(FloatProgress(value=0.0, description='Training', layout=Layout(flex='2'), max=1250.0, style=Pro…"
      ]
     },
     "metadata": {},
     "output_type": "display_data"
    },
    {
     "name": "stdout",
     "output_type": "stream",
     "text": [
      "Epoch 3770: train=7.72254, val=7.79573, took 31.367 s\n",
      "  Validation Found 51279 of 54504, added 1821 (eff 94.08%) (0.182 FP/event)\n"
     ]
    },
    {
     "data": {
      "application/vnd.jupyter.widget-view+json": {
       "model_id": "",
       "version_major": 2,
       "version_minor": 0
      },
      "text/plain": [
       "HBox(children=(FloatProgress(value=0.0, description='Training', layout=Layout(flex='2'), max=1250.0, style=Pro…"
      ]
     },
     "metadata": {},
     "output_type": "display_data"
    },
    {
     "name": "stdout",
     "output_type": "stream",
     "text": [
      "Epoch 3771: train=7.72619, val=7.78547, took 31.477 s\n",
      "  Validation Found 51314 of 54504, added 1869 (eff 94.15%) (0.187 FP/event)\n"
     ]
    },
    {
     "data": {
      "application/vnd.jupyter.widget-view+json": {
       "model_id": "",
       "version_major": 2,
       "version_minor": 0
      },
      "text/plain": [
       "HBox(children=(FloatProgress(value=0.0, description='Training', layout=Layout(flex='2'), max=1250.0, style=Pro…"
      ]
     },
     "metadata": {},
     "output_type": "display_data"
    },
    {
     "name": "stdout",
     "output_type": "stream",
     "text": [
      "Epoch 3772: train=7.72496, val=7.7971, took 31.415 s\n",
      "  Validation Found 51287 of 54504, added 1805 (eff 94.10%) (0.181 FP/event)\n"
     ]
    },
    {
     "data": {
      "application/vnd.jupyter.widget-view+json": {
       "model_id": "",
       "version_major": 2,
       "version_minor": 0
      },
      "text/plain": [
       "HBox(children=(FloatProgress(value=0.0, description='Training', layout=Layout(flex='2'), max=1250.0, style=Pro…"
      ]
     },
     "metadata": {},
     "output_type": "display_data"
    },
    {
     "name": "stdout",
     "output_type": "stream",
     "text": [
      "Epoch 3773: train=7.72436, val=7.80964, took 31.413 s\n",
      "  Validation Found 51262 of 54504, added 1786 (eff 94.05%) (0.179 FP/event)\n"
     ]
    },
    {
     "data": {
      "application/vnd.jupyter.widget-view+json": {
       "model_id": "",
       "version_major": 2,
       "version_minor": 0
      },
      "text/plain": [
       "HBox(children=(FloatProgress(value=0.0, description='Training', layout=Layout(flex='2'), max=1250.0, style=Pro…"
      ]
     },
     "metadata": {},
     "output_type": "display_data"
    },
    {
     "name": "stdout",
     "output_type": "stream",
     "text": [
      "Epoch 3774: train=7.7251, val=7.80083, took 31.45 s\n",
      "  Validation Found 51332 of 54504, added 1879 (eff 94.18%) (0.188 FP/event)\n"
     ]
    },
    {
     "data": {
      "application/vnd.jupyter.widget-view+json": {
       "model_id": "",
       "version_major": 2,
       "version_minor": 0
      },
      "text/plain": [
       "HBox(children=(FloatProgress(value=0.0, description='Training', layout=Layout(flex='2'), max=1250.0, style=Pro…"
      ]
     },
     "metadata": {},
     "output_type": "display_data"
    },
    {
     "name": "stdout",
     "output_type": "stream",
     "text": [
      "Epoch 3775: train=7.72192, val=7.78481, took 31.342 s\n",
      "  Validation Found 51359 of 54504, added 1916 (eff 94.23%) (0.192 FP/event)\n"
     ]
    },
    {
     "data": {
      "application/vnd.jupyter.widget-view+json": {
       "model_id": "",
       "version_major": 2,
       "version_minor": 0
      },
      "text/plain": [
       "HBox(children=(FloatProgress(value=0.0, description='Training', layout=Layout(flex='2'), max=1250.0, style=Pro…"
      ]
     },
     "metadata": {},
     "output_type": "display_data"
    },
    {
     "name": "stdout",
     "output_type": "stream",
     "text": [
      "Epoch 3776: train=7.72439, val=7.78931, took 31.393 s\n",
      "  Validation Found 51352 of 54504, added 1898 (eff 94.22%) (0.19 FP/event)\n"
     ]
    },
    {
     "data": {
      "application/vnd.jupyter.widget-view+json": {
       "model_id": "",
       "version_major": 2,
       "version_minor": 0
      },
      "text/plain": [
       "HBox(children=(FloatProgress(value=0.0, description='Training', layout=Layout(flex='2'), max=1250.0, style=Pro…"
      ]
     },
     "metadata": {},
     "output_type": "display_data"
    },
    {
     "name": "stdout",
     "output_type": "stream",
     "text": [
      "Epoch 3777: train=7.72433, val=7.80745, took 31.377 s\n",
      "  Validation Found 51316 of 54504, added 1870 (eff 94.15%) (0.187 FP/event)\n"
     ]
    },
    {
     "data": {
      "application/vnd.jupyter.widget-view+json": {
       "model_id": "",
       "version_major": 2,
       "version_minor": 0
      },
      "text/plain": [
       "HBox(children=(FloatProgress(value=0.0, description='Training', layout=Layout(flex='2'), max=1250.0, style=Pro…"
      ]
     },
     "metadata": {},
     "output_type": "display_data"
    },
    {
     "name": "stdout",
     "output_type": "stream",
     "text": [
      "Epoch 3778: train=7.72684, val=7.79707, took 31.581 s\n",
      "  Validation Found 51333 of 54504, added 1876 (eff 94.18%) (0.188 FP/event)\n"
     ]
    },
    {
     "data": {
      "application/vnd.jupyter.widget-view+json": {
       "model_id": "",
       "version_major": 2,
       "version_minor": 0
      },
      "text/plain": [
       "HBox(children=(FloatProgress(value=0.0, description='Training', layout=Layout(flex='2'), max=1250.0, style=Pro…"
      ]
     },
     "metadata": {},
     "output_type": "display_data"
    },
    {
     "name": "stdout",
     "output_type": "stream",
     "text": [
      "Epoch 3779: train=7.73094, val=7.80223, took 31.362 s\n",
      "  Validation Found 51269 of 54504, added 1794 (eff 94.06%) (0.18 FP/event)\n"
     ]
    },
    {
     "data": {
      "application/vnd.jupyter.widget-view+json": {
       "model_id": "",
       "version_major": 2,
       "version_minor": 0
      },
      "text/plain": [
       "HBox(children=(FloatProgress(value=0.0, description='Training', layout=Layout(flex='2'), max=1250.0, style=Pro…"
      ]
     },
     "metadata": {},
     "output_type": "display_data"
    },
    {
     "name": "stdout",
     "output_type": "stream",
     "text": [
      "Epoch 3780: train=7.7268, val=7.80222, took 31.094 s\n",
      "  Validation Found 51322 of 54504, added 1864 (eff 94.16%) (0.187 FP/event)\n"
     ]
    },
    {
     "data": {
      "application/vnd.jupyter.widget-view+json": {
       "model_id": "",
       "version_major": 2,
       "version_minor": 0
      },
      "text/plain": [
       "HBox(children=(FloatProgress(value=0.0, description='Training', layout=Layout(flex='2'), max=1250.0, style=Pro…"
      ]
     },
     "metadata": {},
     "output_type": "display_data"
    },
    {
     "name": "stdout",
     "output_type": "stream",
     "text": [
      "Epoch 3781: train=7.72503, val=7.78421, took 31.525 s\n",
      "  Validation Found 51322 of 54504, added 1871 (eff 94.16%) (0.187 FP/event)\n"
     ]
    },
    {
     "data": {
      "application/vnd.jupyter.widget-view+json": {
       "model_id": "",
       "version_major": 2,
       "version_minor": 0
      },
      "text/plain": [
       "HBox(children=(FloatProgress(value=0.0, description='Training', layout=Layout(flex='2'), max=1250.0, style=Pro…"
      ]
     },
     "metadata": {},
     "output_type": "display_data"
    },
    {
     "name": "stdout",
     "output_type": "stream",
     "text": [
      "Epoch 3782: train=7.7252, val=7.79584, took 31.158 s\n",
      "  Validation Found 51343 of 54504, added 1879 (eff 94.20%) (0.188 FP/event)\n"
     ]
    },
    {
     "data": {
      "application/vnd.jupyter.widget-view+json": {
       "model_id": "",
       "version_major": 2,
       "version_minor": 0
      },
      "text/plain": [
       "HBox(children=(FloatProgress(value=0.0, description='Training', layout=Layout(flex='2'), max=1250.0, style=Pro…"
      ]
     },
     "metadata": {},
     "output_type": "display_data"
    },
    {
     "name": "stdout",
     "output_type": "stream",
     "text": [
      "Epoch 3783: train=7.72361, val=7.77376, took 31.615 s\n",
      "  Validation Found 51336 of 54504, added 1876 (eff 94.19%) (0.188 FP/event)\n"
     ]
    },
    {
     "data": {
      "application/vnd.jupyter.widget-view+json": {
       "model_id": "",
       "version_major": 2,
       "version_minor": 0
      },
      "text/plain": [
       "HBox(children=(FloatProgress(value=0.0, description='Training', layout=Layout(flex='2'), max=1250.0, style=Pro…"
      ]
     },
     "metadata": {},
     "output_type": "display_data"
    },
    {
     "name": "stdout",
     "output_type": "stream",
     "text": [
      "Epoch 3784: train=7.72558, val=7.82305, took 31.099 s\n",
      "  Validation Found 51266 of 54504, added 1793 (eff 94.06%) (0.18 FP/event)\n"
     ]
    },
    {
     "data": {
      "application/vnd.jupyter.widget-view+json": {
       "model_id": "",
       "version_major": 2,
       "version_minor": 0
      },
      "text/plain": [
       "HBox(children=(FloatProgress(value=0.0, description='Training', layout=Layout(flex='2'), max=1250.0, style=Pro…"
      ]
     },
     "metadata": {},
     "output_type": "display_data"
    },
    {
     "name": "stdout",
     "output_type": "stream",
     "text": [
      "Epoch 3785: train=7.72713, val=7.79431, took 31.571 s\n",
      "  Validation Found 51342 of 54504, added 1889 (eff 94.20%) (0.189 FP/event)\n"
     ]
    },
    {
     "data": {
      "application/vnd.jupyter.widget-view+json": {
       "model_id": "",
       "version_major": 2,
       "version_minor": 0
      },
      "text/plain": [
       "HBox(children=(FloatProgress(value=0.0, description='Training', layout=Layout(flex='2'), max=1250.0, style=Pro…"
      ]
     },
     "metadata": {},
     "output_type": "display_data"
    },
    {
     "name": "stdout",
     "output_type": "stream",
     "text": [
      "Epoch 3786: train=7.72535, val=7.80457, took 31.245 s\n",
      "  Validation Found 51353 of 54504, added 1891 (eff 94.22%) (0.189 FP/event)\n"
     ]
    },
    {
     "data": {
      "application/vnd.jupyter.widget-view+json": {
       "model_id": "",
       "version_major": 2,
       "version_minor": 0
      },
      "text/plain": [
       "HBox(children=(FloatProgress(value=0.0, description='Training', layout=Layout(flex='2'), max=1250.0, style=Pro…"
      ]
     },
     "metadata": {},
     "output_type": "display_data"
    },
    {
     "name": "stdout",
     "output_type": "stream",
     "text": [
      "Epoch 3787: train=7.72873, val=7.82536, took 31.563 s\n",
      "  Validation Found 51241 of 54504, added 1735 (eff 94.01%) (0.174 FP/event)\n"
     ]
    },
    {
     "data": {
      "application/vnd.jupyter.widget-view+json": {
       "model_id": "",
       "version_major": 2,
       "version_minor": 0
      },
      "text/plain": [
       "HBox(children=(FloatProgress(value=0.0, description='Training', layout=Layout(flex='2'), max=1250.0, style=Pro…"
      ]
     },
     "metadata": {},
     "output_type": "display_data"
    },
    {
     "name": "stdout",
     "output_type": "stream",
     "text": [
      "Epoch 3788: train=7.7257, val=7.79301, took 31.421 s\n",
      "  Validation Found 51364 of 54504, added 1929 (eff 94.24%) (0.193 FP/event)\n"
     ]
    },
    {
     "data": {
      "application/vnd.jupyter.widget-view+json": {
       "model_id": "",
       "version_major": 2,
       "version_minor": 0
      },
      "text/plain": [
       "HBox(children=(FloatProgress(value=0.0, description='Training', layout=Layout(flex='2'), max=1250.0, style=Pro…"
      ]
     },
     "metadata": {},
     "output_type": "display_data"
    },
    {
     "name": "stdout",
     "output_type": "stream",
     "text": [
      "Epoch 3789: train=7.724, val=7.78644, took 31.246 s\n",
      "  Validation Found 51309 of 54504, added 1860 (eff 94.14%) (0.186 FP/event)\n"
     ]
    },
    {
     "data": {
      "application/vnd.jupyter.widget-view+json": {
       "model_id": "",
       "version_major": 2,
       "version_minor": 0
      },
      "text/plain": [
       "HBox(children=(FloatProgress(value=0.0, description='Training', layout=Layout(flex='2'), max=1250.0, style=Pro…"
      ]
     },
     "metadata": {},
     "output_type": "display_data"
    },
    {
     "name": "stdout",
     "output_type": "stream",
     "text": [
      "Epoch 3790: train=7.72744, val=7.80623, took 31.326 s\n",
      "  Validation Found 51310 of 54504, added 1826 (eff 94.14%) (0.183 FP/event)\n"
     ]
    },
    {
     "data": {
      "application/vnd.jupyter.widget-view+json": {
       "model_id": "",
       "version_major": 2,
       "version_minor": 0
      },
      "text/plain": [
       "HBox(children=(FloatProgress(value=0.0, description='Training', layout=Layout(flex='2'), max=1250.0, style=Pro…"
      ]
     },
     "metadata": {},
     "output_type": "display_data"
    },
    {
     "name": "stdout",
     "output_type": "stream",
     "text": [
      "Epoch 3791: train=7.72607, val=7.80846, took 31.318 s\n",
      "  Validation Found 51318 of 54504, added 1844 (eff 94.15%) (0.185 FP/event)\n"
     ]
    },
    {
     "data": {
      "application/vnd.jupyter.widget-view+json": {
       "model_id": "",
       "version_major": 2,
       "version_minor": 0
      },
      "text/plain": [
       "HBox(children=(FloatProgress(value=0.0, description='Training', layout=Layout(flex='2'), max=1250.0, style=Pro…"
      ]
     },
     "metadata": {},
     "output_type": "display_data"
    },
    {
     "name": "stdout",
     "output_type": "stream",
     "text": [
      "Epoch 3792: train=7.72416, val=7.82776, took 31.488 s\n",
      "  Validation Found 51236 of 54504, added 1740 (eff 94.00%) (0.174 FP/event)\n"
     ]
    },
    {
     "data": {
      "application/vnd.jupyter.widget-view+json": {
       "model_id": "",
       "version_major": 2,
       "version_minor": 0
      },
      "text/plain": [
       "HBox(children=(FloatProgress(value=0.0, description='Training', layout=Layout(flex='2'), max=1250.0, style=Pro…"
      ]
     },
     "metadata": {},
     "output_type": "display_data"
    },
    {
     "name": "stdout",
     "output_type": "stream",
     "text": [
      "Epoch 3793: train=7.72427, val=7.76563, took 31.303 s\n",
      "  Validation Found 51408 of 54504, added 2008 (eff 94.32%) (0.201 FP/event)\n"
     ]
    },
    {
     "data": {
      "application/vnd.jupyter.widget-view+json": {
       "model_id": "",
       "version_major": 2,
       "version_minor": 0
      },
      "text/plain": [
       "HBox(children=(FloatProgress(value=0.0, description='Training', layout=Layout(flex='2'), max=1250.0, style=Pro…"
      ]
     },
     "metadata": {},
     "output_type": "display_data"
    },
    {
     "name": "stdout",
     "output_type": "stream",
     "text": [
      "Epoch 3794: train=7.72406, val=7.80901, took 31.561 s\n",
      "  Validation Found 51304 of 54504, added 1839 (eff 94.13%) (0.184 FP/event)\n"
     ]
    },
    {
     "data": {
      "application/vnd.jupyter.widget-view+json": {
       "model_id": "",
       "version_major": 2,
       "version_minor": 0
      },
      "text/plain": [
       "HBox(children=(FloatProgress(value=0.0, description='Training', layout=Layout(flex='2'), max=1250.0, style=Pro…"
      ]
     },
     "metadata": {},
     "output_type": "display_data"
    },
    {
     "name": "stdout",
     "output_type": "stream",
     "text": [
      "Epoch 3795: train=7.72669, val=7.78968, took 31.108 s\n",
      "  Validation Found 51353 of 54504, added 1902 (eff 94.22%) (0.19 FP/event)\n"
     ]
    },
    {
     "data": {
      "application/vnd.jupyter.widget-view+json": {
       "model_id": "",
       "version_major": 2,
       "version_minor": 0
      },
      "text/plain": [
       "HBox(children=(FloatProgress(value=0.0, description='Training', layout=Layout(flex='2'), max=1250.0, style=Pro…"
      ]
     },
     "metadata": {},
     "output_type": "display_data"
    },
    {
     "name": "stdout",
     "output_type": "stream",
     "text": [
      "Epoch 3796: train=7.72482, val=7.79761, took 31.259 s\n",
      "  Validation Found 51313 of 54504, added 1875 (eff 94.15%) (0.188 FP/event)\n"
     ]
    },
    {
     "data": {
      "application/vnd.jupyter.widget-view+json": {
       "model_id": "",
       "version_major": 2,
       "version_minor": 0
      },
      "text/plain": [
       "HBox(children=(FloatProgress(value=0.0, description='Training', layout=Layout(flex='2'), max=1250.0, style=Pro…"
      ]
     },
     "metadata": {},
     "output_type": "display_data"
    },
    {
     "name": "stdout",
     "output_type": "stream",
     "text": [
      "Epoch 3797: train=7.72664, val=7.78179, took 31.381 s\n",
      "  Validation Found 51341 of 54504, added 1878 (eff 94.20%) (0.188 FP/event)\n"
     ]
    },
    {
     "data": {
      "application/vnd.jupyter.widget-view+json": {
       "model_id": "",
       "version_major": 2,
       "version_minor": 0
      },
      "text/plain": [
       "HBox(children=(FloatProgress(value=0.0, description='Training', layout=Layout(flex='2'), max=1250.0, style=Pro…"
      ]
     },
     "metadata": {},
     "output_type": "display_data"
    },
    {
     "name": "stdout",
     "output_type": "stream",
     "text": [
      "Epoch 3798: train=7.72414, val=7.79172, took 31.302 s\n",
      "  Validation Found 51321 of 54504, added 1862 (eff 94.16%) (0.186 FP/event)\n"
     ]
    },
    {
     "data": {
      "application/vnd.jupyter.widget-view+json": {
       "model_id": "",
       "version_major": 2,
       "version_minor": 0
      },
      "text/plain": [
       "HBox(children=(FloatProgress(value=0.0, description='Training', layout=Layout(flex='2'), max=1250.0, style=Pro…"
      ]
     },
     "metadata": {},
     "output_type": "display_data"
    },
    {
     "name": "stdout",
     "output_type": "stream",
     "text": [
      "Epoch 3799: train=7.72291, val=7.81531, took 31.281 s\n",
      "  Validation Found 51296 of 54504, added 1835 (eff 94.11%) (0.184 FP/event)\n"
     ]
    },
    {
     "data": {
      "application/vnd.jupyter.widget-view+json": {
       "model_id": "",
       "version_major": 2,
       "version_minor": 0
      },
      "text/plain": [
       "HBox(children=(FloatProgress(value=0.0, description='Training', layout=Layout(flex='2'), max=1250.0, style=Pro…"
      ]
     },
     "metadata": {},
     "output_type": "display_data"
    },
    {
     "name": "stdout",
     "output_type": "stream",
     "text": [
      "Epoch 3800: train=7.73075, val=7.80979, took 31.155 s\n",
      "  Validation Found 51311 of 54504, added 1855 (eff 94.14%) (0.186 FP/event)\n"
     ]
    },
    {
     "data": {
      "application/vnd.jupyter.widget-view+json": {
       "model_id": "",
       "version_major": 2,
       "version_minor": 0
      },
      "text/plain": [
       "HBox(children=(FloatProgress(value=0.0, description='Training', layout=Layout(flex='2'), max=1250.0, style=Pro…"
      ]
     },
     "metadata": {},
     "output_type": "display_data"
    },
    {
     "name": "stdout",
     "output_type": "stream",
     "text": [
      "Epoch 3801: train=7.72855, val=7.78639, took 31.194 s\n",
      "  Validation Found 51348 of 54504, added 1893 (eff 94.21%) (0.19 FP/event)\n"
     ]
    },
    {
     "data": {
      "application/vnd.jupyter.widget-view+json": {
       "model_id": "",
       "version_major": 2,
       "version_minor": 0
      },
      "text/plain": [
       "HBox(children=(FloatProgress(value=0.0, description='Training', layout=Layout(flex='2'), max=1250.0, style=Pro…"
      ]
     },
     "metadata": {},
     "output_type": "display_data"
    },
    {
     "name": "stdout",
     "output_type": "stream",
     "text": [
      "Epoch 3802: train=7.7248, val=7.80564, took 31.508 s\n",
      "  Validation Found 51370 of 54504, added 1955 (eff 94.25%) (0.196 FP/event)\n"
     ]
    },
    {
     "data": {
      "application/vnd.jupyter.widget-view+json": {
       "model_id": "",
       "version_major": 2,
       "version_minor": 0
      },
      "text/plain": [
       "HBox(children=(FloatProgress(value=0.0, description='Training', layout=Layout(flex='2'), max=1250.0, style=Pro…"
      ]
     },
     "metadata": {},
     "output_type": "display_data"
    },
    {
     "name": "stdout",
     "output_type": "stream",
     "text": [
      "Epoch 3803: train=7.72188, val=7.78589, took 31.23 s\n",
      "  Validation Found 51310 of 54504, added 1843 (eff 94.14%) (0.185 FP/event)\n"
     ]
    },
    {
     "data": {
      "application/vnd.jupyter.widget-view+json": {
       "model_id": "",
       "version_major": 2,
       "version_minor": 0
      },
      "text/plain": [
       "HBox(children=(FloatProgress(value=0.0, description='Training', layout=Layout(flex='2'), max=1250.0, style=Pro…"
      ]
     },
     "metadata": {},
     "output_type": "display_data"
    },
    {
     "name": "stdout",
     "output_type": "stream",
     "text": [
      "Epoch 3804: train=7.72693, val=7.7978, took 31.18 s\n",
      "  Validation Found 51331 of 54504, added 1875 (eff 94.18%) (0.188 FP/event)\n"
     ]
    },
    {
     "data": {
      "application/vnd.jupyter.widget-view+json": {
       "model_id": "",
       "version_major": 2,
       "version_minor": 0
      },
      "text/plain": [
       "HBox(children=(FloatProgress(value=0.0, description='Training', layout=Layout(flex='2'), max=1250.0, style=Pro…"
      ]
     },
     "metadata": {},
     "output_type": "display_data"
    },
    {
     "name": "stdout",
     "output_type": "stream",
     "text": [
      "Epoch 3805: train=7.7288, val=7.83571, took 31.266 s\n",
      "  Validation Found 51248 of 54504, added 1755 (eff 94.03%) (0.176 FP/event)\n"
     ]
    },
    {
     "data": {
      "application/vnd.jupyter.widget-view+json": {
       "model_id": "",
       "version_major": 2,
       "version_minor": 0
      },
      "text/plain": [
       "HBox(children=(FloatProgress(value=0.0, description='Training', layout=Layout(flex='2'), max=1250.0, style=Pro…"
      ]
     },
     "metadata": {},
     "output_type": "display_data"
    },
    {
     "name": "stdout",
     "output_type": "stream",
     "text": [
      "Epoch 3806: train=7.72865, val=7.78527, took 31.338 s\n",
      "  Validation Found 51337 of 54504, added 1886 (eff 94.19%) (0.189 FP/event)\n"
     ]
    },
    {
     "data": {
      "application/vnd.jupyter.widget-view+json": {
       "model_id": "",
       "version_major": 2,
       "version_minor": 0
      },
      "text/plain": [
       "HBox(children=(FloatProgress(value=0.0, description='Training', layout=Layout(flex='2'), max=1250.0, style=Pro…"
      ]
     },
     "metadata": {},
     "output_type": "display_data"
    },
    {
     "name": "stdout",
     "output_type": "stream",
     "text": [
      "Epoch 3807: train=7.72583, val=7.78936, took 31.245 s\n",
      "  Validation Found 51350 of 54504, added 1906 (eff 94.21%) (0.191 FP/event)\n"
     ]
    },
    {
     "data": {
      "application/vnd.jupyter.widget-view+json": {
       "model_id": "",
       "version_major": 2,
       "version_minor": 0
      },
      "text/plain": [
       "HBox(children=(FloatProgress(value=0.0, description='Training', layout=Layout(flex='2'), max=1250.0, style=Pro…"
      ]
     },
     "metadata": {},
     "output_type": "display_data"
    },
    {
     "name": "stdout",
     "output_type": "stream",
     "text": [
      "Epoch 3808: train=7.72651, val=7.79429, took 31.382 s\n",
      "  Validation Found 51343 of 54504, added 1890 (eff 94.20%) (0.189 FP/event)\n"
     ]
    },
    {
     "data": {
      "application/vnd.jupyter.widget-view+json": {
       "model_id": "",
       "version_major": 2,
       "version_minor": 0
      },
      "text/plain": [
       "HBox(children=(FloatProgress(value=0.0, description='Training', layout=Layout(flex='2'), max=1250.0, style=Pro…"
      ]
     },
     "metadata": {},
     "output_type": "display_data"
    },
    {
     "name": "stdout",
     "output_type": "stream",
     "text": [
      "Epoch 3809: train=7.72886, val=7.81501, took 31.1 s\n",
      "  Validation Found 51282 of 54504, added 1820 (eff 94.09%) (0.182 FP/event)\n"
     ]
    },
    {
     "data": {
      "application/vnd.jupyter.widget-view+json": {
       "model_id": "",
       "version_major": 2,
       "version_minor": 0
      },
      "text/plain": [
       "HBox(children=(FloatProgress(value=0.0, description='Training', layout=Layout(flex='2'), max=1250.0, style=Pro…"
      ]
     },
     "metadata": {},
     "output_type": "display_data"
    },
    {
     "name": "stdout",
     "output_type": "stream",
     "text": [
      "Epoch 3810: train=7.72606, val=7.81067, took 31.463 s\n",
      "  Validation Found 51308 of 54504, added 1838 (eff 94.14%) (0.184 FP/event)\n"
     ]
    },
    {
     "data": {
      "application/vnd.jupyter.widget-view+json": {
       "model_id": "",
       "version_major": 2,
       "version_minor": 0
      },
      "text/plain": [
       "HBox(children=(FloatProgress(value=0.0, description='Training', layout=Layout(flex='2'), max=1250.0, style=Pro…"
      ]
     },
     "metadata": {},
     "output_type": "display_data"
    },
    {
     "name": "stdout",
     "output_type": "stream",
     "text": [
      "Epoch 3811: train=7.72521, val=7.81236, took 31.377 s\n",
      "  Validation Found 51286 of 54504, added 1818 (eff 94.10%) (0.182 FP/event)\n"
     ]
    },
    {
     "data": {
      "application/vnd.jupyter.widget-view+json": {
       "model_id": "",
       "version_major": 2,
       "version_minor": 0
      },
      "text/plain": [
       "HBox(children=(FloatProgress(value=0.0, description='Training', layout=Layout(flex='2'), max=1250.0, style=Pro…"
      ]
     },
     "metadata": {},
     "output_type": "display_data"
    },
    {
     "name": "stdout",
     "output_type": "stream",
     "text": [
      "Epoch 3812: train=7.72259, val=7.80779, took 31.424 s\n",
      "  Validation Found 51309 of 54504, added 1855 (eff 94.14%) (0.186 FP/event)\n"
     ]
    },
    {
     "data": {
      "application/vnd.jupyter.widget-view+json": {
       "model_id": "",
       "version_major": 2,
       "version_minor": 0
      },
      "text/plain": [
       "HBox(children=(FloatProgress(value=0.0, description='Training', layout=Layout(flex='2'), max=1250.0, style=Pro…"
      ]
     },
     "metadata": {},
     "output_type": "display_data"
    },
    {
     "name": "stdout",
     "output_type": "stream",
     "text": [
      "Epoch 3813: train=7.72037, val=7.78583, took 31.433 s\n",
      "  Validation Found 51323 of 54504, added 1865 (eff 94.16%) (0.187 FP/event)\n"
     ]
    },
    {
     "data": {
      "application/vnd.jupyter.widget-view+json": {
       "model_id": "",
       "version_major": 2,
       "version_minor": 0
      },
      "text/plain": [
       "HBox(children=(FloatProgress(value=0.0, description='Training', layout=Layout(flex='2'), max=1250.0, style=Pro…"
      ]
     },
     "metadata": {},
     "output_type": "display_data"
    },
    {
     "name": "stdout",
     "output_type": "stream",
     "text": [
      "Epoch 3814: train=7.72516, val=7.79137, took 31.381 s\n",
      "  Validation Found 51299 of 54504, added 1829 (eff 94.12%) (0.183 FP/event)\n"
     ]
    },
    {
     "data": {
      "application/vnd.jupyter.widget-view+json": {
       "model_id": "",
       "version_major": 2,
       "version_minor": 0
      },
      "text/plain": [
       "HBox(children=(FloatProgress(value=0.0, description='Training', layout=Layout(flex='2'), max=1250.0, style=Pro…"
      ]
     },
     "metadata": {},
     "output_type": "display_data"
    },
    {
     "name": "stdout",
     "output_type": "stream",
     "text": [
      "Epoch 3815: train=7.72821, val=7.78256, took 31.471 s\n",
      "  Validation Found 51337 of 54504, added 1875 (eff 94.19%) (0.188 FP/event)\n"
     ]
    },
    {
     "data": {
      "application/vnd.jupyter.widget-view+json": {
       "model_id": "",
       "version_major": 2,
       "version_minor": 0
      },
      "text/plain": [
       "HBox(children=(FloatProgress(value=0.0, description='Training', layout=Layout(flex='2'), max=1250.0, style=Pro…"
      ]
     },
     "metadata": {},
     "output_type": "display_data"
    },
    {
     "name": "stdout",
     "output_type": "stream",
     "text": [
      "Epoch 3816: train=7.72325, val=7.79402, took 31.364 s\n",
      "  Validation Found 51318 of 54504, added 1866 (eff 94.15%) (0.187 FP/event)\n"
     ]
    },
    {
     "data": {
      "application/vnd.jupyter.widget-view+json": {
       "model_id": "",
       "version_major": 2,
       "version_minor": 0
      },
      "text/plain": [
       "HBox(children=(FloatProgress(value=0.0, description='Training', layout=Layout(flex='2'), max=1250.0, style=Pro…"
      ]
     },
     "metadata": {},
     "output_type": "display_data"
    },
    {
     "name": "stdout",
     "output_type": "stream",
     "text": [
      "Epoch 3817: train=7.72328, val=7.78357, took 31.302 s\n",
      "  Validation Found 51351 of 54504, added 1889 (eff 94.22%) (0.189 FP/event)\n"
     ]
    },
    {
     "data": {
      "application/vnd.jupyter.widget-view+json": {
       "model_id": "",
       "version_major": 2,
       "version_minor": 0
      },
      "text/plain": [
       "HBox(children=(FloatProgress(value=0.0, description='Training', layout=Layout(flex='2'), max=1250.0, style=Pro…"
      ]
     },
     "metadata": {},
     "output_type": "display_data"
    },
    {
     "name": "stdout",
     "output_type": "stream",
     "text": [
      "Epoch 3818: train=7.72044, val=7.79945, took 31.015 s\n",
      "  Validation Found 51287 of 54504, added 1802 (eff 94.10%) (0.18 FP/event)\n"
     ]
    },
    {
     "data": {
      "application/vnd.jupyter.widget-view+json": {
       "model_id": "",
       "version_major": 2,
       "version_minor": 0
      },
      "text/plain": [
       "HBox(children=(FloatProgress(value=0.0, description='Training', layout=Layout(flex='2'), max=1250.0, style=Pro…"
      ]
     },
     "metadata": {},
     "output_type": "display_data"
    },
    {
     "name": "stdout",
     "output_type": "stream",
     "text": [
      "Epoch 3819: train=7.72595, val=7.81446, took 31.289 s\n",
      "  Validation Found 51279 of 54504, added 1817 (eff 94.08%) (0.182 FP/event)\n"
     ]
    },
    {
     "data": {
      "application/vnd.jupyter.widget-view+json": {
       "model_id": "",
       "version_major": 2,
       "version_minor": 0
      },
      "text/plain": [
       "HBox(children=(FloatProgress(value=0.0, description='Training', layout=Layout(flex='2'), max=1250.0, style=Pro…"
      ]
     },
     "metadata": {},
     "output_type": "display_data"
    },
    {
     "name": "stdout",
     "output_type": "stream",
     "text": [
      "Epoch 3820: train=7.7234, val=7.82236, took 31.204 s\n",
      "  Validation Found 51277 of 54504, added 1827 (eff 94.08%) (0.183 FP/event)\n"
     ]
    },
    {
     "data": {
      "application/vnd.jupyter.widget-view+json": {
       "model_id": "",
       "version_major": 2,
       "version_minor": 0
      },
      "text/plain": [
       "HBox(children=(FloatProgress(value=0.0, description='Training', layout=Layout(flex='2'), max=1250.0, style=Pro…"
      ]
     },
     "metadata": {},
     "output_type": "display_data"
    },
    {
     "name": "stdout",
     "output_type": "stream",
     "text": [
      "Epoch 3821: train=7.72107, val=7.80876, took 31.402 s\n",
      "  Validation Found 51327 of 54504, added 1857 (eff 94.17%) (0.186 FP/event)\n"
     ]
    },
    {
     "data": {
      "application/vnd.jupyter.widget-view+json": {
       "model_id": "",
       "version_major": 2,
       "version_minor": 0
      },
      "text/plain": [
       "HBox(children=(FloatProgress(value=0.0, description='Training', layout=Layout(flex='2'), max=1250.0, style=Pro…"
      ]
     },
     "metadata": {},
     "output_type": "display_data"
    },
    {
     "name": "stdout",
     "output_type": "stream",
     "text": [
      "Epoch 3822: train=7.72448, val=7.79421, took 31.309 s\n",
      "  Validation Found 51320 of 54504, added 1855 (eff 94.16%) (0.186 FP/event)\n"
     ]
    },
    {
     "data": {
      "application/vnd.jupyter.widget-view+json": {
       "model_id": "",
       "version_major": 2,
       "version_minor": 0
      },
      "text/plain": [
       "HBox(children=(FloatProgress(value=0.0, description='Training', layout=Layout(flex='2'), max=1250.0, style=Pro…"
      ]
     },
     "metadata": {},
     "output_type": "display_data"
    },
    {
     "name": "stdout",
     "output_type": "stream",
     "text": [
      "Epoch 3823: train=7.72412, val=7.78855, took 31.289 s\n",
      "  Validation Found 51312 of 54504, added 1839 (eff 94.14%) (0.184 FP/event)\n"
     ]
    },
    {
     "data": {
      "application/vnd.jupyter.widget-view+json": {
       "model_id": "",
       "version_major": 2,
       "version_minor": 0
      },
      "text/plain": [
       "HBox(children=(FloatProgress(value=0.0, description='Training', layout=Layout(flex='2'), max=1250.0, style=Pro…"
      ]
     },
     "metadata": {},
     "output_type": "display_data"
    },
    {
     "name": "stdout",
     "output_type": "stream",
     "text": [
      "Epoch 3824: train=7.7261, val=7.80847, took 31.214 s\n",
      "  Validation Found 51286 of 54504, added 1818 (eff 94.10%) (0.182 FP/event)\n"
     ]
    },
    {
     "data": {
      "application/vnd.jupyter.widget-view+json": {
       "model_id": "",
       "version_major": 2,
       "version_minor": 0
      },
      "text/plain": [
       "HBox(children=(FloatProgress(value=0.0, description='Training', layout=Layout(flex='2'), max=1250.0, style=Pro…"
      ]
     },
     "metadata": {},
     "output_type": "display_data"
    },
    {
     "name": "stdout",
     "output_type": "stream",
     "text": [
      "Epoch 3825: train=7.72196, val=7.77998, took 31.198 s\n",
      "  Validation Found 51321 of 54504, added 1876 (eff 94.16%) (0.188 FP/event)\n"
     ]
    },
    {
     "data": {
      "application/vnd.jupyter.widget-view+json": {
       "model_id": "",
       "version_major": 2,
       "version_minor": 0
      },
      "text/plain": [
       "HBox(children=(FloatProgress(value=0.0, description='Training', layout=Layout(flex='2'), max=1250.0, style=Pro…"
      ]
     },
     "metadata": {},
     "output_type": "display_data"
    },
    {
     "name": "stdout",
     "output_type": "stream",
     "text": [
      "Epoch 3826: train=7.72828, val=7.76699, took 31.338 s\n",
      "  Validation Found 51359 of 54504, added 1912 (eff 94.23%) (0.191 FP/event)\n"
     ]
    },
    {
     "data": {
      "application/vnd.jupyter.widget-view+json": {
       "model_id": "",
       "version_major": 2,
       "version_minor": 0
      },
      "text/plain": [
       "HBox(children=(FloatProgress(value=0.0, description='Training', layout=Layout(flex='2'), max=1250.0, style=Pro…"
      ]
     },
     "metadata": {},
     "output_type": "display_data"
    },
    {
     "name": "stdout",
     "output_type": "stream",
     "text": [
      "Epoch 3827: train=7.72476, val=7.79867, took 31.385 s\n",
      "  Validation Found 51315 of 54504, added 1842 (eff 94.15%) (0.184 FP/event)\n"
     ]
    },
    {
     "data": {
      "application/vnd.jupyter.widget-view+json": {
       "model_id": "",
       "version_major": 2,
       "version_minor": 0
      },
      "text/plain": [
       "HBox(children=(FloatProgress(value=0.0, description='Training', layout=Layout(flex='2'), max=1250.0, style=Pro…"
      ]
     },
     "metadata": {},
     "output_type": "display_data"
    },
    {
     "name": "stdout",
     "output_type": "stream",
     "text": [
      "Epoch 3828: train=7.72536, val=7.79231, took 31.27 s\n",
      "  Validation Found 51318 of 54504, added 1885 (eff 94.15%) (0.189 FP/event)\n"
     ]
    },
    {
     "data": {
      "application/vnd.jupyter.widget-view+json": {
       "model_id": "",
       "version_major": 2,
       "version_minor": 0
      },
      "text/plain": [
       "HBox(children=(FloatProgress(value=0.0, description='Training', layout=Layout(flex='2'), max=1250.0, style=Pro…"
      ]
     },
     "metadata": {},
     "output_type": "display_data"
    },
    {
     "name": "stdout",
     "output_type": "stream",
     "text": [
      "Epoch 3829: train=7.72635, val=7.79682, took 31.478 s\n",
      "  Validation Found 51337 of 54504, added 1893 (eff 94.19%) (0.19 FP/event)\n"
     ]
    },
    {
     "data": {
      "application/vnd.jupyter.widget-view+json": {
       "model_id": "",
       "version_major": 2,
       "version_minor": 0
      },
      "text/plain": [
       "HBox(children=(FloatProgress(value=0.0, description='Training', layout=Layout(flex='2'), max=1250.0, style=Pro…"
      ]
     },
     "metadata": {},
     "output_type": "display_data"
    },
    {
     "name": "stdout",
     "output_type": "stream",
     "text": [
      "Epoch 3830: train=7.72562, val=7.82716, took 31.348 s\n",
      "  Validation Found 51248 of 54504, added 1763 (eff 94.03%) (0.177 FP/event)\n"
     ]
    },
    {
     "data": {
      "application/vnd.jupyter.widget-view+json": {
       "model_id": "",
       "version_major": 2,
       "version_minor": 0
      },
      "text/plain": [
       "HBox(children=(FloatProgress(value=0.0, description='Training', layout=Layout(flex='2'), max=1250.0, style=Pro…"
      ]
     },
     "metadata": {},
     "output_type": "display_data"
    },
    {
     "name": "stdout",
     "output_type": "stream",
     "text": [
      "Epoch 3831: train=7.72404, val=7.80947, took 30.867 s\n",
      "  Validation Found 51293 of 54504, added 1834 (eff 94.11%) (0.184 FP/event)\n"
     ]
    },
    {
     "data": {
      "application/vnd.jupyter.widget-view+json": {
       "model_id": "",
       "version_major": 2,
       "version_minor": 0
      },
      "text/plain": [
       "HBox(children=(FloatProgress(value=0.0, description='Training', layout=Layout(flex='2'), max=1250.0, style=Pro…"
      ]
     },
     "metadata": {},
     "output_type": "display_data"
    },
    {
     "name": "stdout",
     "output_type": "stream",
     "text": [
      "Epoch 3832: train=7.72613, val=7.78649, took 31.502 s\n",
      "  Validation Found 51342 of 54504, added 1892 (eff 94.20%) (0.189 FP/event)\n"
     ]
    },
    {
     "data": {
      "application/vnd.jupyter.widget-view+json": {
       "model_id": "",
       "version_major": 2,
       "version_minor": 0
      },
      "text/plain": [
       "HBox(children=(FloatProgress(value=0.0, description='Training', layout=Layout(flex='2'), max=1250.0, style=Pro…"
      ]
     },
     "metadata": {},
     "output_type": "display_data"
    },
    {
     "name": "stdout",
     "output_type": "stream",
     "text": [
      "Epoch 3833: train=7.72456, val=7.79172, took 31.647 s\n",
      "  Validation Found 51331 of 54504, added 1865 (eff 94.18%) (0.187 FP/event)\n"
     ]
    },
    {
     "data": {
      "application/vnd.jupyter.widget-view+json": {
       "model_id": "",
       "version_major": 2,
       "version_minor": 0
      },
      "text/plain": [
       "HBox(children=(FloatProgress(value=0.0, description='Training', layout=Layout(flex='2'), max=1250.0, style=Pro…"
      ]
     },
     "metadata": {},
     "output_type": "display_data"
    },
    {
     "name": "stdout",
     "output_type": "stream",
     "text": [
      "Epoch 3834: train=7.72285, val=7.79649, took 31.429 s\n",
      "  Validation Found 51341 of 54504, added 1887 (eff 94.20%) (0.189 FP/event)\n"
     ]
    },
    {
     "data": {
      "application/vnd.jupyter.widget-view+json": {
       "model_id": "",
       "version_major": 2,
       "version_minor": 0
      },
      "text/plain": [
       "HBox(children=(FloatProgress(value=0.0, description='Training', layout=Layout(flex='2'), max=1250.0, style=Pro…"
      ]
     },
     "metadata": {},
     "output_type": "display_data"
    },
    {
     "name": "stdout",
     "output_type": "stream",
     "text": [
      "Epoch 3835: train=7.7253, val=7.79295, took 31.466 s\n",
      "  Validation Found 51339 of 54504, added 1874 (eff 94.19%) (0.188 FP/event)\n"
     ]
    },
    {
     "data": {
      "application/vnd.jupyter.widget-view+json": {
       "model_id": "",
       "version_major": 2,
       "version_minor": 0
      },
      "text/plain": [
       "HBox(children=(FloatProgress(value=0.0, description='Training', layout=Layout(flex='2'), max=1250.0, style=Pro…"
      ]
     },
     "metadata": {},
     "output_type": "display_data"
    },
    {
     "name": "stdout",
     "output_type": "stream",
     "text": [
      "Epoch 3836: train=7.72526, val=7.7965, took 31.414 s\n",
      "  Validation Found 51332 of 54504, added 1866 (eff 94.18%) (0.187 FP/event)\n"
     ]
    },
    {
     "data": {
      "application/vnd.jupyter.widget-view+json": {
       "model_id": "",
       "version_major": 2,
       "version_minor": 0
      },
      "text/plain": [
       "HBox(children=(FloatProgress(value=0.0, description='Training', layout=Layout(flex='2'), max=1250.0, style=Pro…"
      ]
     },
     "metadata": {},
     "output_type": "display_data"
    },
    {
     "name": "stdout",
     "output_type": "stream",
     "text": [
      "Epoch 3837: train=7.72266, val=7.79092, took 31.302 s\n",
      "  Validation Found 51368 of 54504, added 1930 (eff 94.25%) (0.193 FP/event)\n"
     ]
    },
    {
     "data": {
      "application/vnd.jupyter.widget-view+json": {
       "model_id": "",
       "version_major": 2,
       "version_minor": 0
      },
      "text/plain": [
       "HBox(children=(FloatProgress(value=0.0, description='Training', layout=Layout(flex='2'), max=1250.0, style=Pro…"
      ]
     },
     "metadata": {},
     "output_type": "display_data"
    },
    {
     "name": "stdout",
     "output_type": "stream",
     "text": [
      "Epoch 3838: train=7.72485, val=7.798, took 31.48 s\n",
      "  Validation Found 51287 of 54504, added 1824 (eff 94.10%) (0.183 FP/event)\n"
     ]
    },
    {
     "data": {
      "application/vnd.jupyter.widget-view+json": {
       "model_id": "",
       "version_major": 2,
       "version_minor": 0
      },
      "text/plain": [
       "HBox(children=(FloatProgress(value=0.0, description='Training', layout=Layout(flex='2'), max=1250.0, style=Pro…"
      ]
     },
     "metadata": {},
     "output_type": "display_data"
    },
    {
     "name": "stdout",
     "output_type": "stream",
     "text": [
      "Epoch 3839: train=7.72048, val=7.82267, took 31.353 s\n",
      "  Validation Found 51254 of 54504, added 1770 (eff 94.04%) (0.177 FP/event)\n"
     ]
    },
    {
     "data": {
      "application/vnd.jupyter.widget-view+json": {
       "model_id": "",
       "version_major": 2,
       "version_minor": 0
      },
      "text/plain": [
       "HBox(children=(FloatProgress(value=0.0, description='Training', layout=Layout(flex='2'), max=1250.0, style=Pro…"
      ]
     },
     "metadata": {},
     "output_type": "display_data"
    },
    {
     "name": "stdout",
     "output_type": "stream",
     "text": [
      "Epoch 3840: train=7.7252, val=7.79548, took 31.511 s\n",
      "  Validation Found 51335 of 54504, added 1888 (eff 94.19%) (0.189 FP/event)\n"
     ]
    },
    {
     "data": {
      "application/vnd.jupyter.widget-view+json": {
       "model_id": "",
       "version_major": 2,
       "version_minor": 0
      },
      "text/plain": [
       "HBox(children=(FloatProgress(value=0.0, description='Training', layout=Layout(flex='2'), max=1250.0, style=Pro…"
      ]
     },
     "metadata": {},
     "output_type": "display_data"
    },
    {
     "name": "stdout",
     "output_type": "stream",
     "text": [
      "Epoch 3841: train=7.72385, val=7.78612, took 31.52 s\n",
      "  Validation Found 51331 of 54504, added 1866 (eff 94.18%) (0.187 FP/event)\n"
     ]
    },
    {
     "data": {
      "application/vnd.jupyter.widget-view+json": {
       "model_id": "",
       "version_major": 2,
       "version_minor": 0
      },
      "text/plain": [
       "HBox(children=(FloatProgress(value=0.0, description='Training', layout=Layout(flex='2'), max=1250.0, style=Pro…"
      ]
     },
     "metadata": {},
     "output_type": "display_data"
    },
    {
     "name": "stdout",
     "output_type": "stream",
     "text": [
      "Epoch 3842: train=7.72462, val=7.79653, took 31.424 s\n",
      "  Validation Found 51332 of 54504, added 1901 (eff 94.18%) (0.19 FP/event)\n"
     ]
    },
    {
     "data": {
      "application/vnd.jupyter.widget-view+json": {
       "model_id": "",
       "version_major": 2,
       "version_minor": 0
      },
      "text/plain": [
       "HBox(children=(FloatProgress(value=0.0, description='Training', layout=Layout(flex='2'), max=1250.0, style=Pro…"
      ]
     },
     "metadata": {},
     "output_type": "display_data"
    },
    {
     "name": "stdout",
     "output_type": "stream",
     "text": [
      "Epoch 3843: train=7.71962, val=7.80919, took 31.571 s\n",
      "  Validation Found 51298 of 54504, added 1816 (eff 94.12%) (0.182 FP/event)\n"
     ]
    },
    {
     "data": {
      "application/vnd.jupyter.widget-view+json": {
       "model_id": "",
       "version_major": 2,
       "version_minor": 0
      },
      "text/plain": [
       "HBox(children=(FloatProgress(value=0.0, description='Training', layout=Layout(flex='2'), max=1250.0, style=Pro…"
      ]
     },
     "metadata": {},
     "output_type": "display_data"
    },
    {
     "name": "stdout",
     "output_type": "stream",
     "text": [
      "Epoch 3844: train=7.72356, val=7.78161, took 31.404 s\n",
      "  Validation Found 51339 of 54504, added 1886 (eff 94.19%) (0.189 FP/event)\n"
     ]
    },
    {
     "data": {
      "application/vnd.jupyter.widget-view+json": {
       "model_id": "",
       "version_major": 2,
       "version_minor": 0
      },
      "text/plain": [
       "HBox(children=(FloatProgress(value=0.0, description='Training', layout=Layout(flex='2'), max=1250.0, style=Pro…"
      ]
     },
     "metadata": {},
     "output_type": "display_data"
    },
    {
     "name": "stdout",
     "output_type": "stream",
     "text": [
      "Epoch 3845: train=7.72858, val=7.79659, took 31.407 s\n",
      "  Validation Found 51286 of 54504, added 1820 (eff 94.10%) (0.182 FP/event)\n"
     ]
    },
    {
     "data": {
      "application/vnd.jupyter.widget-view+json": {
       "model_id": "",
       "version_major": 2,
       "version_minor": 0
      },
      "text/plain": [
       "HBox(children=(FloatProgress(value=0.0, description='Training', layout=Layout(flex='2'), max=1250.0, style=Pro…"
      ]
     },
     "metadata": {},
     "output_type": "display_data"
    },
    {
     "name": "stdout",
     "output_type": "stream",
     "text": [
      "Epoch 3846: train=7.72709, val=7.79419, took 31.351 s\n",
      "  Validation Found 51332 of 54504, added 1857 (eff 94.18%) (0.186 FP/event)\n"
     ]
    },
    {
     "data": {
      "application/vnd.jupyter.widget-view+json": {
       "model_id": "",
       "version_major": 2,
       "version_minor": 0
      },
      "text/plain": [
       "HBox(children=(FloatProgress(value=0.0, description='Training', layout=Layout(flex='2'), max=1250.0, style=Pro…"
      ]
     },
     "metadata": {},
     "output_type": "display_data"
    },
    {
     "name": "stdout",
     "output_type": "stream",
     "text": [
      "Epoch 3847: train=7.72341, val=7.81529, took 31.382 s\n",
      "  Validation Found 51310 of 54504, added 1846 (eff 94.14%) (0.185 FP/event)\n"
     ]
    },
    {
     "data": {
      "application/vnd.jupyter.widget-view+json": {
       "model_id": "",
       "version_major": 2,
       "version_minor": 0
      },
      "text/plain": [
       "HBox(children=(FloatProgress(value=0.0, description='Training', layout=Layout(flex='2'), max=1250.0, style=Pro…"
      ]
     },
     "metadata": {},
     "output_type": "display_data"
    },
    {
     "name": "stdout",
     "output_type": "stream",
     "text": [
      "Epoch 3848: train=7.72774, val=7.79342, took 31.263 s\n",
      "  Validation Found 51343 of 54504, added 1896 (eff 94.20%) (0.19 FP/event)\n"
     ]
    },
    {
     "data": {
      "application/vnd.jupyter.widget-view+json": {
       "model_id": "",
       "version_major": 2,
       "version_minor": 0
      },
      "text/plain": [
       "HBox(children=(FloatProgress(value=0.0, description='Training', layout=Layout(flex='2'), max=1250.0, style=Pro…"
      ]
     },
     "metadata": {},
     "output_type": "display_data"
    },
    {
     "name": "stdout",
     "output_type": "stream",
     "text": [
      "Epoch 3849: train=7.7226, val=7.81011, took 31.2 s\n",
      "  Validation Found 51316 of 54504, added 1859 (eff 94.15%) (0.186 FP/event)\n"
     ]
    },
    {
     "data": {
      "application/vnd.jupyter.widget-view+json": {
       "model_id": "",
       "version_major": 2,
       "version_minor": 0
      },
      "text/plain": [
       "HBox(children=(FloatProgress(value=0.0, description='Training', layout=Layout(flex='2'), max=1250.0, style=Pro…"
      ]
     },
     "metadata": {},
     "output_type": "display_data"
    },
    {
     "name": "stdout",
     "output_type": "stream",
     "text": [
      "Epoch 3850: train=7.72356, val=7.78143, took 31.31 s\n",
      "  Validation Found 51385 of 54504, added 1930 (eff 94.28%) (0.193 FP/event)\n"
     ]
    },
    {
     "data": {
      "application/vnd.jupyter.widget-view+json": {
       "model_id": "",
       "version_major": 2,
       "version_minor": 0
      },
      "text/plain": [
       "HBox(children=(FloatProgress(value=0.0, description='Training', layout=Layout(flex='2'), max=1250.0, style=Pro…"
      ]
     },
     "metadata": {},
     "output_type": "display_data"
    },
    {
     "name": "stdout",
     "output_type": "stream",
     "text": [
      "Epoch 3851: train=7.72379, val=7.80126, took 31.454 s\n",
      "  Validation Found 51288 of 54504, added 1811 (eff 94.10%) (0.181 FP/event)\n"
     ]
    },
    {
     "data": {
      "application/vnd.jupyter.widget-view+json": {
       "model_id": "",
       "version_major": 2,
       "version_minor": 0
      },
      "text/plain": [
       "HBox(children=(FloatProgress(value=0.0, description='Training', layout=Layout(flex='2'), max=1250.0, style=Pro…"
      ]
     },
     "metadata": {},
     "output_type": "display_data"
    },
    {
     "name": "stdout",
     "output_type": "stream",
     "text": [
      "Epoch 3852: train=7.72336, val=7.7915, took 31.357 s\n",
      "  Validation Found 51338 of 54504, added 1895 (eff 94.19%) (0.19 FP/event)\n"
     ]
    },
    {
     "data": {
      "application/vnd.jupyter.widget-view+json": {
       "model_id": "",
       "version_major": 2,
       "version_minor": 0
      },
      "text/plain": [
       "HBox(children=(FloatProgress(value=0.0, description='Training', layout=Layout(flex='2'), max=1250.0, style=Pro…"
      ]
     },
     "metadata": {},
     "output_type": "display_data"
    },
    {
     "name": "stdout",
     "output_type": "stream",
     "text": [
      "Epoch 3853: train=7.72137, val=7.8294, took 31.331 s\n",
      "  Validation Found 51241 of 54504, added 1734 (eff 94.01%) (0.174 FP/event)\n"
     ]
    },
    {
     "data": {
      "application/vnd.jupyter.widget-view+json": {
       "model_id": "",
       "version_major": 2,
       "version_minor": 0
      },
      "text/plain": [
       "HBox(children=(FloatProgress(value=0.0, description='Training', layout=Layout(flex='2'), max=1250.0, style=Pro…"
      ]
     },
     "metadata": {},
     "output_type": "display_data"
    },
    {
     "name": "stdout",
     "output_type": "stream",
     "text": [
      "Epoch 3854: train=7.7257, val=7.79942, took 31.307 s\n",
      "  Validation Found 51355 of 54504, added 1934 (eff 94.22%) (0.194 FP/event)\n"
     ]
    },
    {
     "data": {
      "application/vnd.jupyter.widget-view+json": {
       "model_id": "",
       "version_major": 2,
       "version_minor": 0
      },
      "text/plain": [
       "HBox(children=(FloatProgress(value=0.0, description='Training', layout=Layout(flex='2'), max=1250.0, style=Pro…"
      ]
     },
     "metadata": {},
     "output_type": "display_data"
    },
    {
     "name": "stdout",
     "output_type": "stream",
     "text": [
      "Epoch 3855: train=7.72044, val=7.7822, took 31.346 s\n",
      "  Validation Found 51365 of 54504, added 1946 (eff 94.24%) (0.195 FP/event)\n"
     ]
    },
    {
     "data": {
      "application/vnd.jupyter.widget-view+json": {
       "model_id": "",
       "version_major": 2,
       "version_minor": 0
      },
      "text/plain": [
       "HBox(children=(FloatProgress(value=0.0, description='Training', layout=Layout(flex='2'), max=1250.0, style=Pro…"
      ]
     },
     "metadata": {},
     "output_type": "display_data"
    },
    {
     "name": "stdout",
     "output_type": "stream",
     "text": [
      "Epoch 3856: train=7.72285, val=7.81838, took 31.418 s\n",
      "  Validation Found 51253 of 54504, added 1755 (eff 94.04%) (0.176 FP/event)\n"
     ]
    },
    {
     "data": {
      "application/vnd.jupyter.widget-view+json": {
       "model_id": "",
       "version_major": 2,
       "version_minor": 0
      },
      "text/plain": [
       "HBox(children=(FloatProgress(value=0.0, description='Training', layout=Layout(flex='2'), max=1250.0, style=Pro…"
      ]
     },
     "metadata": {},
     "output_type": "display_data"
    },
    {
     "name": "stdout",
     "output_type": "stream",
     "text": [
      "Epoch 3857: train=7.72393, val=7.80639, took 31.542 s\n",
      "  Validation Found 51285 of 54504, added 1812 (eff 94.09%) (0.181 FP/event)\n"
     ]
    },
    {
     "data": {
      "application/vnd.jupyter.widget-view+json": {
       "model_id": "",
       "version_major": 2,
       "version_minor": 0
      },
      "text/plain": [
       "HBox(children=(FloatProgress(value=0.0, description='Training', layout=Layout(flex='2'), max=1250.0, style=Pro…"
      ]
     },
     "metadata": {},
     "output_type": "display_data"
    },
    {
     "name": "stdout",
     "output_type": "stream",
     "text": [
      "Epoch 3858: train=7.72793, val=7.8129, took 31.3 s\n",
      "  Validation Found 51276 of 54504, added 1804 (eff 94.08%) (0.181 FP/event)\n"
     ]
    },
    {
     "data": {
      "application/vnd.jupyter.widget-view+json": {
       "model_id": "",
       "version_major": 2,
       "version_minor": 0
      },
      "text/plain": [
       "HBox(children=(FloatProgress(value=0.0, description='Training', layout=Layout(flex='2'), max=1250.0, style=Pro…"
      ]
     },
     "metadata": {},
     "output_type": "display_data"
    },
    {
     "name": "stdout",
     "output_type": "stream",
     "text": [
      "Epoch 3859: train=7.72465, val=7.78899, took 31.308 s\n",
      "  Validation Found 51305 of 54504, added 1829 (eff 94.13%) (0.183 FP/event)\n"
     ]
    },
    {
     "data": {
      "application/vnd.jupyter.widget-view+json": {
       "model_id": "",
       "version_major": 2,
       "version_minor": 0
      },
      "text/plain": [
       "HBox(children=(FloatProgress(value=0.0, description='Training', layout=Layout(flex='2'), max=1250.0, style=Pro…"
      ]
     },
     "metadata": {},
     "output_type": "display_data"
    },
    {
     "name": "stdout",
     "output_type": "stream",
     "text": [
      "Epoch 3860: train=7.72597, val=7.79462, took 31.219 s\n",
      "  Validation Found 51286 of 54504, added 1813 (eff 94.10%) (0.182 FP/event)\n"
     ]
    },
    {
     "data": {
      "application/vnd.jupyter.widget-view+json": {
       "model_id": "",
       "version_major": 2,
       "version_minor": 0
      },
      "text/plain": [
       "HBox(children=(FloatProgress(value=0.0, description='Training', layout=Layout(flex='2'), max=1250.0, style=Pro…"
      ]
     },
     "metadata": {},
     "output_type": "display_data"
    },
    {
     "name": "stdout",
     "output_type": "stream",
     "text": [
      "Epoch 3861: train=7.72363, val=7.78106, took 31.055 s\n",
      "  Validation Found 51350 of 54504, added 1880 (eff 94.21%) (0.188 FP/event)\n"
     ]
    },
    {
     "data": {
      "application/vnd.jupyter.widget-view+json": {
       "model_id": "",
       "version_major": 2,
       "version_minor": 0
      },
      "text/plain": [
       "HBox(children=(FloatProgress(value=0.0, description='Training', layout=Layout(flex='2'), max=1250.0, style=Pro…"
      ]
     },
     "metadata": {},
     "output_type": "display_data"
    },
    {
     "name": "stdout",
     "output_type": "stream",
     "text": [
      "Epoch 3862: train=7.72523, val=7.8276, took 31.152 s\n",
      "  Validation Found 51275 of 54504, added 1783 (eff 94.08%) (0.179 FP/event)\n"
     ]
    },
    {
     "data": {
      "application/vnd.jupyter.widget-view+json": {
       "model_id": "",
       "version_major": 2,
       "version_minor": 0
      },
      "text/plain": [
       "HBox(children=(FloatProgress(value=0.0, description='Training', layout=Layout(flex='2'), max=1250.0, style=Pro…"
      ]
     },
     "metadata": {},
     "output_type": "display_data"
    },
    {
     "name": "stdout",
     "output_type": "stream",
     "text": [
      "Epoch 3863: train=7.72591, val=7.81645, took 31.149 s\n",
      "  Validation Found 51272 of 54504, added 1820 (eff 94.07%) (0.182 FP/event)\n"
     ]
    },
    {
     "data": {
      "application/vnd.jupyter.widget-view+json": {
       "model_id": "",
       "version_major": 2,
       "version_minor": 0
      },
      "text/plain": [
       "HBox(children=(FloatProgress(value=0.0, description='Training', layout=Layout(flex='2'), max=1250.0, style=Pro…"
      ]
     },
     "metadata": {},
     "output_type": "display_data"
    },
    {
     "name": "stdout",
     "output_type": "stream",
     "text": [
      "Epoch 3864: train=7.72402, val=7.80533, took 31.172 s\n",
      "  Validation Found 51298 of 54504, added 1814 (eff 94.12%) (0.182 FP/event)\n"
     ]
    },
    {
     "data": {
      "application/vnd.jupyter.widget-view+json": {
       "model_id": "",
       "version_major": 2,
       "version_minor": 0
      },
      "text/plain": [
       "HBox(children=(FloatProgress(value=0.0, description='Training', layout=Layout(flex='2'), max=1250.0, style=Pro…"
      ]
     },
     "metadata": {},
     "output_type": "display_data"
    },
    {
     "name": "stdout",
     "output_type": "stream",
     "text": [
      "Epoch 3865: train=7.72758, val=7.79545, took 31.058 s\n",
      "  Validation Found 51317 of 54504, added 1860 (eff 94.15%) (0.186 FP/event)\n"
     ]
    },
    {
     "data": {
      "application/vnd.jupyter.widget-view+json": {
       "model_id": "",
       "version_major": 2,
       "version_minor": 0
      },
      "text/plain": [
       "HBox(children=(FloatProgress(value=0.0, description='Training', layout=Layout(flex='2'), max=1250.0, style=Pro…"
      ]
     },
     "metadata": {},
     "output_type": "display_data"
    },
    {
     "name": "stdout",
     "output_type": "stream",
     "text": [
      "Epoch 3866: train=7.72595, val=7.80652, took 31.332 s\n",
      "  Validation Found 51295 of 54504, added 1810 (eff 94.11%) (0.181 FP/event)\n"
     ]
    },
    {
     "data": {
      "application/vnd.jupyter.widget-view+json": {
       "model_id": "",
       "version_major": 2,
       "version_minor": 0
      },
      "text/plain": [
       "HBox(children=(FloatProgress(value=0.0, description='Training', layout=Layout(flex='2'), max=1250.0, style=Pro…"
      ]
     },
     "metadata": {},
     "output_type": "display_data"
    },
    {
     "name": "stdout",
     "output_type": "stream",
     "text": [
      "Epoch 3867: train=7.72144, val=7.8056, took 31.146 s\n",
      "  Validation Found 51338 of 54504, added 1906 (eff 94.19%) (0.191 FP/event)\n"
     ]
    },
    {
     "data": {
      "application/vnd.jupyter.widget-view+json": {
       "model_id": "",
       "version_major": 2,
       "version_minor": 0
      },
      "text/plain": [
       "HBox(children=(FloatProgress(value=0.0, description='Training', layout=Layout(flex='2'), max=1250.0, style=Pro…"
      ]
     },
     "metadata": {},
     "output_type": "display_data"
    },
    {
     "name": "stdout",
     "output_type": "stream",
     "text": [
      "Epoch 3868: train=7.72823, val=7.79742, took 31.139 s\n",
      "  Validation Found 51325 of 54504, added 1871 (eff 94.17%) (0.187 FP/event)\n"
     ]
    },
    {
     "data": {
      "application/vnd.jupyter.widget-view+json": {
       "model_id": "",
       "version_major": 2,
       "version_minor": 0
      },
      "text/plain": [
       "HBox(children=(FloatProgress(value=0.0, description='Training', layout=Layout(flex='2'), max=1250.0, style=Pro…"
      ]
     },
     "metadata": {},
     "output_type": "display_data"
    },
    {
     "name": "stdout",
     "output_type": "stream",
     "text": [
      "Epoch 3869: train=7.72603, val=7.81215, took 31.451 s\n",
      "  Validation Found 51308 of 54504, added 1823 (eff 94.14%) (0.183 FP/event)\n"
     ]
    },
    {
     "data": {
      "application/vnd.jupyter.widget-view+json": {
       "model_id": "",
       "version_major": 2,
       "version_minor": 0
      },
      "text/plain": [
       "HBox(children=(FloatProgress(value=0.0, description='Training', layout=Layout(flex='2'), max=1250.0, style=Pro…"
      ]
     },
     "metadata": {},
     "output_type": "display_data"
    },
    {
     "name": "stdout",
     "output_type": "stream",
     "text": [
      "Epoch 3870: train=7.72752, val=7.82553, took 31.324 s\n",
      "  Validation Found 51274 of 54504, added 1784 (eff 94.07%) (0.179 FP/event)\n"
     ]
    },
    {
     "data": {
      "application/vnd.jupyter.widget-view+json": {
       "model_id": "",
       "version_major": 2,
       "version_minor": 0
      },
      "text/plain": [
       "HBox(children=(FloatProgress(value=0.0, description='Training', layout=Layout(flex='2'), max=1250.0, style=Pro…"
      ]
     },
     "metadata": {},
     "output_type": "display_data"
    },
    {
     "name": "stdout",
     "output_type": "stream",
     "text": [
      "Epoch 3871: train=7.72664, val=7.78248, took 31.343 s\n",
      "  Validation Found 51328 of 54504, added 1869 (eff 94.17%) (0.187 FP/event)\n"
     ]
    },
    {
     "data": {
      "application/vnd.jupyter.widget-view+json": {
       "model_id": "",
       "version_major": 2,
       "version_minor": 0
      },
      "text/plain": [
       "HBox(children=(FloatProgress(value=0.0, description='Training', layout=Layout(flex='2'), max=1250.0, style=Pro…"
      ]
     },
     "metadata": {},
     "output_type": "display_data"
    },
    {
     "name": "stdout",
     "output_type": "stream",
     "text": [
      "Epoch 3872: train=7.72529, val=7.7932, took 31.253 s\n",
      "  Validation Found 51357 of 54504, added 1915 (eff 94.23%) (0.192 FP/event)\n"
     ]
    },
    {
     "data": {
      "application/vnd.jupyter.widget-view+json": {
       "model_id": "",
       "version_major": 2,
       "version_minor": 0
      },
      "text/plain": [
       "HBox(children=(FloatProgress(value=0.0, description='Training', layout=Layout(flex='2'), max=1250.0, style=Pro…"
      ]
     },
     "metadata": {},
     "output_type": "display_data"
    },
    {
     "name": "stdout",
     "output_type": "stream",
     "text": [
      "Epoch 3873: train=7.72483, val=7.78163, took 31.295 s\n",
      "  Validation Found 51391 of 54504, added 1952 (eff 94.29%) (0.195 FP/event)\n"
     ]
    },
    {
     "data": {
      "application/vnd.jupyter.widget-view+json": {
       "model_id": "",
       "version_major": 2,
       "version_minor": 0
      },
      "text/plain": [
       "HBox(children=(FloatProgress(value=0.0, description='Training', layout=Layout(flex='2'), max=1250.0, style=Pro…"
      ]
     },
     "metadata": {},
     "output_type": "display_data"
    },
    {
     "name": "stdout",
     "output_type": "stream",
     "text": [
      "Epoch 3874: train=7.72586, val=7.80182, took 31.341 s\n",
      "  Validation Found 51328 of 54504, added 1832 (eff 94.17%) (0.183 FP/event)\n"
     ]
    },
    {
     "data": {
      "application/vnd.jupyter.widget-view+json": {
       "model_id": "",
       "version_major": 2,
       "version_minor": 0
      },
      "text/plain": [
       "HBox(children=(FloatProgress(value=0.0, description='Training', layout=Layout(flex='2'), max=1250.0, style=Pro…"
      ]
     },
     "metadata": {},
     "output_type": "display_data"
    },
    {
     "name": "stdout",
     "output_type": "stream",
     "text": [
      "Epoch 3875: train=7.72323, val=7.82445, took 31.405 s\n",
      "  Validation Found 51258 of 54504, added 1753 (eff 94.04%) (0.176 FP/event)\n"
     ]
    },
    {
     "data": {
      "application/vnd.jupyter.widget-view+json": {
       "model_id": "",
       "version_major": 2,
       "version_minor": 0
      },
      "text/plain": [
       "HBox(children=(FloatProgress(value=0.0, description='Training', layout=Layout(flex='2'), max=1250.0, style=Pro…"
      ]
     },
     "metadata": {},
     "output_type": "display_data"
    },
    {
     "name": "stdout",
     "output_type": "stream",
     "text": [
      "Epoch 3876: train=7.72242, val=7.81045, took 31.434 s\n",
      "  Validation Found 51278 of 54504, added 1809 (eff 94.08%) (0.181 FP/event)\n"
     ]
    },
    {
     "data": {
      "application/vnd.jupyter.widget-view+json": {
       "model_id": "",
       "version_major": 2,
       "version_minor": 0
      },
      "text/plain": [
       "HBox(children=(FloatProgress(value=0.0, description='Training', layout=Layout(flex='2'), max=1250.0, style=Pro…"
      ]
     },
     "metadata": {},
     "output_type": "display_data"
    },
    {
     "name": "stdout",
     "output_type": "stream",
     "text": [
      "Epoch 3877: train=7.72441, val=7.80623, took 31.445 s\n",
      "  Validation Found 51264 of 54504, added 1809 (eff 94.06%) (0.181 FP/event)\n"
     ]
    },
    {
     "data": {
      "application/vnd.jupyter.widget-view+json": {
       "model_id": "",
       "version_major": 2,
       "version_minor": 0
      },
      "text/plain": [
       "HBox(children=(FloatProgress(value=0.0, description='Training', layout=Layout(flex='2'), max=1250.0, style=Pro…"
      ]
     },
     "metadata": {},
     "output_type": "display_data"
    },
    {
     "name": "stdout",
     "output_type": "stream",
     "text": [
      "Epoch 3878: train=7.72737, val=7.82319, took 31.194 s\n",
      "  Validation Found 51283 of 54504, added 1786 (eff 94.09%) (0.179 FP/event)\n"
     ]
    },
    {
     "data": {
      "application/vnd.jupyter.widget-view+json": {
       "model_id": "",
       "version_major": 2,
       "version_minor": 0
      },
      "text/plain": [
       "HBox(children=(FloatProgress(value=0.0, description='Training', layout=Layout(flex='2'), max=1250.0, style=Pro…"
      ]
     },
     "metadata": {},
     "output_type": "display_data"
    },
    {
     "name": "stdout",
     "output_type": "stream",
     "text": [
      "Epoch 3879: train=7.72718, val=7.79221, took 31.306 s\n",
      "  Validation Found 51296 of 54504, added 1805 (eff 94.11%) (0.181 FP/event)\n"
     ]
    },
    {
     "data": {
      "application/vnd.jupyter.widget-view+json": {
       "model_id": "",
       "version_major": 2,
       "version_minor": 0
      },
      "text/plain": [
       "HBox(children=(FloatProgress(value=0.0, description='Training', layout=Layout(flex='2'), max=1250.0, style=Pro…"
      ]
     },
     "metadata": {},
     "output_type": "display_data"
    },
    {
     "name": "stdout",
     "output_type": "stream",
     "text": [
      "Epoch 3880: train=7.72348, val=7.77241, took 31.213 s\n",
      "  Validation Found 51360 of 54504, added 1938 (eff 94.23%) (0.194 FP/event)\n"
     ]
    },
    {
     "data": {
      "application/vnd.jupyter.widget-view+json": {
       "model_id": "",
       "version_major": 2,
       "version_minor": 0
      },
      "text/plain": [
       "HBox(children=(FloatProgress(value=0.0, description='Training', layout=Layout(flex='2'), max=1250.0, style=Pro…"
      ]
     },
     "metadata": {},
     "output_type": "display_data"
    },
    {
     "name": "stdout",
     "output_type": "stream",
     "text": [
      "Epoch 3881: train=7.72278, val=7.79764, took 31.323 s\n",
      "  Validation Found 51301 of 54504, added 1811 (eff 94.12%) (0.181 FP/event)\n"
     ]
    },
    {
     "data": {
      "application/vnd.jupyter.widget-view+json": {
       "model_id": "",
       "version_major": 2,
       "version_minor": 0
      },
      "text/plain": [
       "HBox(children=(FloatProgress(value=0.0, description='Training', layout=Layout(flex='2'), max=1250.0, style=Pro…"
      ]
     },
     "metadata": {},
     "output_type": "display_data"
    },
    {
     "name": "stdout",
     "output_type": "stream",
     "text": [
      "Epoch 3882: train=7.72659, val=7.79982, took 31.434 s\n",
      "  Validation Found 51296 of 54504, added 1821 (eff 94.11%) (0.182 FP/event)\n"
     ]
    },
    {
     "data": {
      "application/vnd.jupyter.widget-view+json": {
       "model_id": "",
       "version_major": 2,
       "version_minor": 0
      },
      "text/plain": [
       "HBox(children=(FloatProgress(value=0.0, description='Training', layout=Layout(flex='2'), max=1250.0, style=Pro…"
      ]
     },
     "metadata": {},
     "output_type": "display_data"
    },
    {
     "name": "stdout",
     "output_type": "stream",
     "text": [
      "Epoch 3883: train=7.72154, val=7.80736, took 31.165 s\n",
      "  Validation Found 51324 of 54504, added 1868 (eff 94.17%) (0.187 FP/event)\n"
     ]
    },
    {
     "data": {
      "application/vnd.jupyter.widget-view+json": {
       "model_id": "",
       "version_major": 2,
       "version_minor": 0
      },
      "text/plain": [
       "HBox(children=(FloatProgress(value=0.0, description='Training', layout=Layout(flex='2'), max=1250.0, style=Pro…"
      ]
     },
     "metadata": {},
     "output_type": "display_data"
    },
    {
     "name": "stdout",
     "output_type": "stream",
     "text": [
      "Epoch 3884: train=7.72481, val=7.7828, took 31.248 s\n",
      "  Validation Found 51323 of 54504, added 1854 (eff 94.16%) (0.186 FP/event)\n"
     ]
    },
    {
     "data": {
      "application/vnd.jupyter.widget-view+json": {
       "model_id": "",
       "version_major": 2,
       "version_minor": 0
      },
      "text/plain": [
       "HBox(children=(FloatProgress(value=0.0, description='Training', layout=Layout(flex='2'), max=1250.0, style=Pro…"
      ]
     },
     "metadata": {},
     "output_type": "display_data"
    },
    {
     "name": "stdout",
     "output_type": "stream",
     "text": [
      "Epoch 3885: train=7.72312, val=7.77796, took 31.196 s\n",
      "  Validation Found 51344 of 54504, added 1892 (eff 94.20%) (0.189 FP/event)\n"
     ]
    },
    {
     "data": {
      "application/vnd.jupyter.widget-view+json": {
       "model_id": "",
       "version_major": 2,
       "version_minor": 0
      },
      "text/plain": [
       "HBox(children=(FloatProgress(value=0.0, description='Training', layout=Layout(flex='2'), max=1250.0, style=Pro…"
      ]
     },
     "metadata": {},
     "output_type": "display_data"
    },
    {
     "name": "stdout",
     "output_type": "stream",
     "text": [
      "Epoch 3886: train=7.72434, val=7.80817, took 31.288 s\n",
      "  Validation Found 51353 of 54504, added 1907 (eff 94.22%) (0.191 FP/event)\n"
     ]
    },
    {
     "data": {
      "application/vnd.jupyter.widget-view+json": {
       "model_id": "",
       "version_major": 2,
       "version_minor": 0
      },
      "text/plain": [
       "HBox(children=(FloatProgress(value=0.0, description='Training', layout=Layout(flex='2'), max=1250.0, style=Pro…"
      ]
     },
     "metadata": {},
     "output_type": "display_data"
    },
    {
     "name": "stdout",
     "output_type": "stream",
     "text": [
      "Epoch 3887: train=7.72252, val=7.82654, took 31.289 s\n",
      "  Validation Found 51202 of 54504, added 1678 (eff 93.94%) (0.168 FP/event)\n"
     ]
    },
    {
     "data": {
      "application/vnd.jupyter.widget-view+json": {
       "model_id": "",
       "version_major": 2,
       "version_minor": 0
      },
      "text/plain": [
       "HBox(children=(FloatProgress(value=0.0, description='Training', layout=Layout(flex='2'), max=1250.0, style=Pro…"
      ]
     },
     "metadata": {},
     "output_type": "display_data"
    },
    {
     "name": "stdout",
     "output_type": "stream",
     "text": [
      "Epoch 3888: train=7.72285, val=7.74967, took 31.384 s\n",
      "  Validation Found 51412 of 54504, added 2012 (eff 94.33%) (0.202 FP/event)\n"
     ]
    },
    {
     "data": {
      "application/vnd.jupyter.widget-view+json": {
       "model_id": "",
       "version_major": 2,
       "version_minor": 0
      },
      "text/plain": [
       "HBox(children=(FloatProgress(value=0.0, description='Training', layout=Layout(flex='2'), max=1250.0, style=Pro…"
      ]
     },
     "metadata": {},
     "output_type": "display_data"
    },
    {
     "name": "stdout",
     "output_type": "stream",
     "text": [
      "Epoch 3889: train=7.7254, val=7.80558, took 31.316 s\n",
      "  Validation Found 51292 of 54504, added 1813 (eff 94.11%) (0.182 FP/event)\n"
     ]
    },
    {
     "data": {
      "application/vnd.jupyter.widget-view+json": {
       "model_id": "",
       "version_major": 2,
       "version_minor": 0
      },
      "text/plain": [
       "HBox(children=(FloatProgress(value=0.0, description='Training', layout=Layout(flex='2'), max=1250.0, style=Pro…"
      ]
     },
     "metadata": {},
     "output_type": "display_data"
    },
    {
     "name": "stdout",
     "output_type": "stream",
     "text": [
      "Epoch 3890: train=7.72597, val=7.78682, took 31.252 s\n",
      "  Validation Found 51349 of 54504, added 1937 (eff 94.21%) (0.194 FP/event)\n"
     ]
    },
    {
     "data": {
      "application/vnd.jupyter.widget-view+json": {
       "model_id": "",
       "version_major": 2,
       "version_minor": 0
      },
      "text/plain": [
       "HBox(children=(FloatProgress(value=0.0, description='Training', layout=Layout(flex='2'), max=1250.0, style=Pro…"
      ]
     },
     "metadata": {},
     "output_type": "display_data"
    },
    {
     "name": "stdout",
     "output_type": "stream",
     "text": [
      "Epoch 3891: train=7.72279, val=7.78694, took 31.201 s\n",
      "  Validation Found 51412 of 54504, added 1974 (eff 94.33%) (0.198 FP/event)\n"
     ]
    },
    {
     "data": {
      "application/vnd.jupyter.widget-view+json": {
       "model_id": "",
       "version_major": 2,
       "version_minor": 0
      },
      "text/plain": [
       "HBox(children=(FloatProgress(value=0.0, description='Training', layout=Layout(flex='2'), max=1250.0, style=Pro…"
      ]
     },
     "metadata": {},
     "output_type": "display_data"
    },
    {
     "name": "stdout",
     "output_type": "stream",
     "text": [
      "Epoch 3892: train=7.72268, val=7.77837, took 31.287 s\n",
      "  Validation Found 51355 of 54504, added 1891 (eff 94.22%) (0.189 FP/event)\n"
     ]
    },
    {
     "data": {
      "application/vnd.jupyter.widget-view+json": {
       "model_id": "",
       "version_major": 2,
       "version_minor": 0
      },
      "text/plain": [
       "HBox(children=(FloatProgress(value=0.0, description='Training', layout=Layout(flex='2'), max=1250.0, style=Pro…"
      ]
     },
     "metadata": {},
     "output_type": "display_data"
    },
    {
     "name": "stdout",
     "output_type": "stream",
     "text": [
      "Epoch 3893: train=7.72041, val=7.78483, took 31.219 s\n",
      "  Validation Found 51355 of 54504, added 1883 (eff 94.22%) (0.189 FP/event)\n"
     ]
    },
    {
     "data": {
      "application/vnd.jupyter.widget-view+json": {
       "model_id": "",
       "version_major": 2,
       "version_minor": 0
      },
      "text/plain": [
       "HBox(children=(FloatProgress(value=0.0, description='Training', layout=Layout(flex='2'), max=1250.0, style=Pro…"
      ]
     },
     "metadata": {},
     "output_type": "display_data"
    },
    {
     "name": "stdout",
     "output_type": "stream",
     "text": [
      "Epoch 3894: train=7.72458, val=7.80464, took 31.547 s\n",
      "  Validation Found 51299 of 54504, added 1834 (eff 94.12%) (0.184 FP/event)\n"
     ]
    },
    {
     "data": {
      "application/vnd.jupyter.widget-view+json": {
       "model_id": "",
       "version_major": 2,
       "version_minor": 0
      },
      "text/plain": [
       "HBox(children=(FloatProgress(value=0.0, description='Training', layout=Layout(flex='2'), max=1250.0, style=Pro…"
      ]
     },
     "metadata": {},
     "output_type": "display_data"
    },
    {
     "name": "stdout",
     "output_type": "stream",
     "text": [
      "Epoch 3895: train=7.72046, val=7.78621, took 31.512 s\n",
      "  Validation Found 51345 of 54504, added 1881 (eff 94.20%) (0.188 FP/event)\n"
     ]
    },
    {
     "data": {
      "application/vnd.jupyter.widget-view+json": {
       "model_id": "",
       "version_major": 2,
       "version_minor": 0
      },
      "text/plain": [
       "HBox(children=(FloatProgress(value=0.0, description='Training', layout=Layout(flex='2'), max=1250.0, style=Pro…"
      ]
     },
     "metadata": {},
     "output_type": "display_data"
    },
    {
     "name": "stdout",
     "output_type": "stream",
     "text": [
      "Epoch 3896: train=7.7253, val=7.80566, took 31.437 s\n",
      "  Validation Found 51293 of 54504, added 1809 (eff 94.11%) (0.181 FP/event)\n"
     ]
    },
    {
     "data": {
      "application/vnd.jupyter.widget-view+json": {
       "model_id": "",
       "version_major": 2,
       "version_minor": 0
      },
      "text/plain": [
       "HBox(children=(FloatProgress(value=0.0, description='Training', layout=Layout(flex='2'), max=1250.0, style=Pro…"
      ]
     },
     "metadata": {},
     "output_type": "display_data"
    },
    {
     "name": "stdout",
     "output_type": "stream",
     "text": [
      "Epoch 3897: train=7.7276, val=7.80678, took 31.26 s\n",
      "  Validation Found 51302 of 54504, added 1825 (eff 94.13%) (0.183 FP/event)\n"
     ]
    },
    {
     "data": {
      "application/vnd.jupyter.widget-view+json": {
       "model_id": "",
       "version_major": 2,
       "version_minor": 0
      },
      "text/plain": [
       "HBox(children=(FloatProgress(value=0.0, description='Training', layout=Layout(flex='2'), max=1250.0, style=Pro…"
      ]
     },
     "metadata": {},
     "output_type": "display_data"
    },
    {
     "name": "stdout",
     "output_type": "stream",
     "text": [
      "Epoch 3898: train=7.72373, val=7.79911, took 31.167 s\n",
      "  Validation Found 51304 of 54504, added 1832 (eff 94.13%) (0.183 FP/event)\n"
     ]
    },
    {
     "data": {
      "application/vnd.jupyter.widget-view+json": {
       "model_id": "",
       "version_major": 2,
       "version_minor": 0
      },
      "text/plain": [
       "HBox(children=(FloatProgress(value=0.0, description='Training', layout=Layout(flex='2'), max=1250.0, style=Pro…"
      ]
     },
     "metadata": {},
     "output_type": "display_data"
    },
    {
     "name": "stdout",
     "output_type": "stream",
     "text": [
      "Epoch 3899: train=7.72643, val=7.80503, took 31.613 s\n",
      "  Validation Found 51321 of 54504, added 1839 (eff 94.16%) (0.184 FP/event)\n"
     ]
    },
    {
     "data": {
      "application/vnd.jupyter.widget-view+json": {
       "model_id": "",
       "version_major": 2,
       "version_minor": 0
      },
      "text/plain": [
       "HBox(children=(FloatProgress(value=0.0, description='Training', layout=Layout(flex='2'), max=1250.0, style=Pro…"
      ]
     },
     "metadata": {},
     "output_type": "display_data"
    },
    {
     "name": "stdout",
     "output_type": "stream",
     "text": [
      "Epoch 3900: train=7.72496, val=7.79092, took 31.358 s\n",
      "  Validation Found 51328 of 54504, added 1864 (eff 94.17%) (0.187 FP/event)\n"
     ]
    },
    {
     "data": {
      "application/vnd.jupyter.widget-view+json": {
       "model_id": "",
       "version_major": 2,
       "version_minor": 0
      },
      "text/plain": [
       "HBox(children=(FloatProgress(value=0.0, description='Training', layout=Layout(flex='2'), max=1250.0, style=Pro…"
      ]
     },
     "metadata": {},
     "output_type": "display_data"
    },
    {
     "name": "stdout",
     "output_type": "stream",
     "text": [
      "Epoch 3901: train=7.72703, val=7.79282, took 31.206 s\n",
      "  Validation Found 51305 of 54504, added 1857 (eff 94.13%) (0.186 FP/event)\n"
     ]
    },
    {
     "data": {
      "application/vnd.jupyter.widget-view+json": {
       "model_id": "",
       "version_major": 2,
       "version_minor": 0
      },
      "text/plain": [
       "HBox(children=(FloatProgress(value=0.0, description='Training', layout=Layout(flex='2'), max=1250.0, style=Pro…"
      ]
     },
     "metadata": {},
     "output_type": "display_data"
    },
    {
     "name": "stdout",
     "output_type": "stream",
     "text": [
      "Epoch 3902: train=7.72401, val=7.79589, took 31.192 s\n",
      "  Validation Found 51304 of 54504, added 1837 (eff 94.13%) (0.184 FP/event)\n"
     ]
    },
    {
     "data": {
      "application/vnd.jupyter.widget-view+json": {
       "model_id": "",
       "version_major": 2,
       "version_minor": 0
      },
      "text/plain": [
       "HBox(children=(FloatProgress(value=0.0, description='Training', layout=Layout(flex='2'), max=1250.0, style=Pro…"
      ]
     },
     "metadata": {},
     "output_type": "display_data"
    },
    {
     "name": "stdout",
     "output_type": "stream",
     "text": [
      "Epoch 3903: train=7.72463, val=7.81293, took 31.215 s\n",
      "  Validation Found 51284 of 54504, added 1799 (eff 94.09%) (0.18 FP/event)\n"
     ]
    },
    {
     "data": {
      "application/vnd.jupyter.widget-view+json": {
       "model_id": "",
       "version_major": 2,
       "version_minor": 0
      },
      "text/plain": [
       "HBox(children=(FloatProgress(value=0.0, description='Training', layout=Layout(flex='2'), max=1250.0, style=Pro…"
      ]
     },
     "metadata": {},
     "output_type": "display_data"
    },
    {
     "name": "stdout",
     "output_type": "stream",
     "text": [
      "Epoch 3904: train=7.72518, val=7.78386, took 31.195 s\n",
      "  Validation Found 51313 of 54504, added 1857 (eff 94.15%) (0.186 FP/event)\n"
     ]
    },
    {
     "data": {
      "application/vnd.jupyter.widget-view+json": {
       "model_id": "",
       "version_major": 2,
       "version_minor": 0
      },
      "text/plain": [
       "HBox(children=(FloatProgress(value=0.0, description='Training', layout=Layout(flex='2'), max=1250.0, style=Pro…"
      ]
     },
     "metadata": {},
     "output_type": "display_data"
    },
    {
     "name": "stdout",
     "output_type": "stream",
     "text": [
      "Epoch 3905: train=7.7269, val=7.81354, took 31.29 s\n",
      "  Validation Found 51276 of 54504, added 1788 (eff 94.08%) (0.179 FP/event)\n"
     ]
    },
    {
     "data": {
      "application/vnd.jupyter.widget-view+json": {
       "model_id": "",
       "version_major": 2,
       "version_minor": 0
      },
      "text/plain": [
       "HBox(children=(FloatProgress(value=0.0, description='Training', layout=Layout(flex='2'), max=1250.0, style=Pro…"
      ]
     },
     "metadata": {},
     "output_type": "display_data"
    },
    {
     "name": "stdout",
     "output_type": "stream",
     "text": [
      "Epoch 3906: train=7.72295, val=7.80611, took 31.288 s\n",
      "  Validation Found 51299 of 54504, added 1828 (eff 94.12%) (0.183 FP/event)\n"
     ]
    },
    {
     "data": {
      "application/vnd.jupyter.widget-view+json": {
       "model_id": "",
       "version_major": 2,
       "version_minor": 0
      },
      "text/plain": [
       "HBox(children=(FloatProgress(value=0.0, description='Training', layout=Layout(flex='2'), max=1250.0, style=Pro…"
      ]
     },
     "metadata": {},
     "output_type": "display_data"
    },
    {
     "name": "stdout",
     "output_type": "stream",
     "text": [
      "Epoch 3907: train=7.72597, val=7.79403, took 31.218 s\n",
      "  Validation Found 51315 of 54504, added 1839 (eff 94.15%) (0.184 FP/event)\n"
     ]
    },
    {
     "data": {
      "application/vnd.jupyter.widget-view+json": {
       "model_id": "",
       "version_major": 2,
       "version_minor": 0
      },
      "text/plain": [
       "HBox(children=(FloatProgress(value=0.0, description='Training', layout=Layout(flex='2'), max=1250.0, style=Pro…"
      ]
     },
     "metadata": {},
     "output_type": "display_data"
    },
    {
     "name": "stdout",
     "output_type": "stream",
     "text": [
      "Epoch 3908: train=7.7241, val=7.8043, took 31.273 s\n",
      "  Validation Found 51283 of 54504, added 1805 (eff 94.09%) (0.181 FP/event)\n"
     ]
    },
    {
     "data": {
      "application/vnd.jupyter.widget-view+json": {
       "model_id": "",
       "version_major": 2,
       "version_minor": 0
      },
      "text/plain": [
       "HBox(children=(FloatProgress(value=0.0, description='Training', layout=Layout(flex='2'), max=1250.0, style=Pro…"
      ]
     },
     "metadata": {},
     "output_type": "display_data"
    },
    {
     "name": "stdout",
     "output_type": "stream",
     "text": [
      "Epoch 3909: train=7.72351, val=7.80731, took 31.379 s\n",
      "  Validation Found 51304 of 54504, added 1829 (eff 94.13%) (0.183 FP/event)\n"
     ]
    },
    {
     "data": {
      "application/vnd.jupyter.widget-view+json": {
       "model_id": "",
       "version_major": 2,
       "version_minor": 0
      },
      "text/plain": [
       "HBox(children=(FloatProgress(value=0.0, description='Training', layout=Layout(flex='2'), max=1250.0, style=Pro…"
      ]
     },
     "metadata": {},
     "output_type": "display_data"
    },
    {
     "name": "stdout",
     "output_type": "stream",
     "text": [
      "Epoch 3910: train=7.72819, val=7.80129, took 31.393 s\n",
      "  Validation Found 51301 of 54504, added 1834 (eff 94.12%) (0.184 FP/event)\n"
     ]
    },
    {
     "data": {
      "application/vnd.jupyter.widget-view+json": {
       "model_id": "",
       "version_major": 2,
       "version_minor": 0
      },
      "text/plain": [
       "HBox(children=(FloatProgress(value=0.0, description='Training', layout=Layout(flex='2'), max=1250.0, style=Pro…"
      ]
     },
     "metadata": {},
     "output_type": "display_data"
    },
    {
     "name": "stdout",
     "output_type": "stream",
     "text": [
      "Epoch 3911: train=7.72366, val=7.80628, took 31.185 s\n",
      "  Validation Found 51312 of 54504, added 1850 (eff 94.14%) (0.185 FP/event)\n"
     ]
    },
    {
     "data": {
      "application/vnd.jupyter.widget-view+json": {
       "model_id": "",
       "version_major": 2,
       "version_minor": 0
      },
      "text/plain": [
       "HBox(children=(FloatProgress(value=0.0, description='Training', layout=Layout(flex='2'), max=1250.0, style=Pro…"
      ]
     },
     "metadata": {},
     "output_type": "display_data"
    },
    {
     "name": "stdout",
     "output_type": "stream",
     "text": [
      "Epoch 3912: train=7.72401, val=7.79545, took 31.235 s\n",
      "  Validation Found 51317 of 54504, added 1838 (eff 94.15%) (0.184 FP/event)\n"
     ]
    },
    {
     "data": {
      "application/vnd.jupyter.widget-view+json": {
       "model_id": "",
       "version_major": 2,
       "version_minor": 0
      },
      "text/plain": [
       "HBox(children=(FloatProgress(value=0.0, description='Training', layout=Layout(flex='2'), max=1250.0, style=Pro…"
      ]
     },
     "metadata": {},
     "output_type": "display_data"
    },
    {
     "name": "stdout",
     "output_type": "stream",
     "text": [
      "Epoch 3913: train=7.72514, val=7.78863, took 31.214 s\n",
      "  Validation Found 51347 of 54504, added 1929 (eff 94.21%) (0.193 FP/event)\n"
     ]
    },
    {
     "data": {
      "application/vnd.jupyter.widget-view+json": {
       "model_id": "",
       "version_major": 2,
       "version_minor": 0
      },
      "text/plain": [
       "HBox(children=(FloatProgress(value=0.0, description='Training', layout=Layout(flex='2'), max=1250.0, style=Pro…"
      ]
     },
     "metadata": {},
     "output_type": "display_data"
    },
    {
     "name": "stdout",
     "output_type": "stream",
     "text": [
      "Epoch 3914: train=7.72566, val=7.80129, took 31.337 s\n",
      "  Validation Found 51364 of 54504, added 1940 (eff 94.24%) (0.194 FP/event)\n"
     ]
    },
    {
     "data": {
      "application/vnd.jupyter.widget-view+json": {
       "model_id": "",
       "version_major": 2,
       "version_minor": 0
      },
      "text/plain": [
       "HBox(children=(FloatProgress(value=0.0, description='Training', layout=Layout(flex='2'), max=1250.0, style=Pro…"
      ]
     },
     "metadata": {},
     "output_type": "display_data"
    },
    {
     "name": "stdout",
     "output_type": "stream",
     "text": [
      "Epoch 3915: train=7.72826, val=7.80946, took 31.222 s\n",
      "  Validation Found 51272 of 54504, added 1800 (eff 94.07%) (0.18 FP/event)\n"
     ]
    },
    {
     "data": {
      "application/vnd.jupyter.widget-view+json": {
       "model_id": "",
       "version_major": 2,
       "version_minor": 0
      },
      "text/plain": [
       "HBox(children=(FloatProgress(value=0.0, description='Training', layout=Layout(flex='2'), max=1250.0, style=Pro…"
      ]
     },
     "metadata": {},
     "output_type": "display_data"
    },
    {
     "name": "stdout",
     "output_type": "stream",
     "text": [
      "Epoch 3916: train=7.72409, val=7.80052, took 31.225 s\n",
      "  Validation Found 51340 of 54504, added 1899 (eff 94.19%) (0.19 FP/event)\n"
     ]
    },
    {
     "data": {
      "application/vnd.jupyter.widget-view+json": {
       "model_id": "",
       "version_major": 2,
       "version_minor": 0
      },
      "text/plain": [
       "HBox(children=(FloatProgress(value=0.0, description='Training', layout=Layout(flex='2'), max=1250.0, style=Pro…"
      ]
     },
     "metadata": {},
     "output_type": "display_data"
    },
    {
     "name": "stdout",
     "output_type": "stream",
     "text": [
      "Epoch 3917: train=7.72456, val=7.81456, took 31.198 s\n",
      "  Validation Found 51246 of 54504, added 1781 (eff 94.02%) (0.178 FP/event)\n"
     ]
    },
    {
     "data": {
      "application/vnd.jupyter.widget-view+json": {
       "model_id": "",
       "version_major": 2,
       "version_minor": 0
      },
      "text/plain": [
       "HBox(children=(FloatProgress(value=0.0, description='Training', layout=Layout(flex='2'), max=1250.0, style=Pro…"
      ]
     },
     "metadata": {},
     "output_type": "display_data"
    },
    {
     "name": "stdout",
     "output_type": "stream",
     "text": [
      "Epoch 3918: train=7.72139, val=7.78074, took 31.047 s\n",
      "  Validation Found 51361 of 54504, added 1917 (eff 94.23%) (0.192 FP/event)\n"
     ]
    },
    {
     "data": {
      "application/vnd.jupyter.widget-view+json": {
       "model_id": "",
       "version_major": 2,
       "version_minor": 0
      },
      "text/plain": [
       "HBox(children=(FloatProgress(value=0.0, description='Training', layout=Layout(flex='2'), max=1250.0, style=Pro…"
      ]
     },
     "metadata": {},
     "output_type": "display_data"
    },
    {
     "name": "stdout",
     "output_type": "stream",
     "text": [
      "Epoch 3919: train=7.72605, val=7.81018, took 30.815 s\n",
      "  Validation Found 51276 of 54504, added 1808 (eff 94.08%) (0.181 FP/event)\n"
     ]
    },
    {
     "data": {
      "application/vnd.jupyter.widget-view+json": {
       "model_id": "",
       "version_major": 2,
       "version_minor": 0
      },
      "text/plain": [
       "HBox(children=(FloatProgress(value=0.0, description='Training', layout=Layout(flex='2'), max=1250.0, style=Pro…"
      ]
     },
     "metadata": {},
     "output_type": "display_data"
    },
    {
     "name": "stdout",
     "output_type": "stream",
     "text": [
      "Epoch 3920: train=7.72255, val=7.78717, took 30.819 s\n",
      "  Validation Found 51331 of 54504, added 1912 (eff 94.18%) (0.191 FP/event)\n"
     ]
    },
    {
     "data": {
      "application/vnd.jupyter.widget-view+json": {
       "model_id": "",
       "version_major": 2,
       "version_minor": 0
      },
      "text/plain": [
       "HBox(children=(FloatProgress(value=0.0, description='Training', layout=Layout(flex='2'), max=1250.0, style=Pro…"
      ]
     },
     "metadata": {},
     "output_type": "display_data"
    },
    {
     "name": "stdout",
     "output_type": "stream",
     "text": [
      "Epoch 3921: train=7.72326, val=7.77378, took 30.909 s\n",
      "  Validation Found 51368 of 54504, added 1923 (eff 94.25%) (0.193 FP/event)\n"
     ]
    },
    {
     "data": {
      "application/vnd.jupyter.widget-view+json": {
       "model_id": "",
       "version_major": 2,
       "version_minor": 0
      },
      "text/plain": [
       "HBox(children=(FloatProgress(value=0.0, description='Training', layout=Layout(flex='2'), max=1250.0, style=Pro…"
      ]
     },
     "metadata": {},
     "output_type": "display_data"
    },
    {
     "name": "stdout",
     "output_type": "stream",
     "text": [
      "Epoch 3922: train=7.72505, val=7.76493, took 31.198 s\n",
      "  Validation Found 51375 of 54504, added 1939 (eff 94.26%) (0.194 FP/event)\n"
     ]
    },
    {
     "data": {
      "application/vnd.jupyter.widget-view+json": {
       "model_id": "",
       "version_major": 2,
       "version_minor": 0
      },
      "text/plain": [
       "HBox(children=(FloatProgress(value=0.0, description='Training', layout=Layout(flex='2'), max=1250.0, style=Pro…"
      ]
     },
     "metadata": {},
     "output_type": "display_data"
    },
    {
     "name": "stdout",
     "output_type": "stream",
     "text": [
      "Epoch 3923: train=7.72423, val=7.79884, took 30.946 s\n",
      "  Validation Found 51334 of 54504, added 1868 (eff 94.18%) (0.187 FP/event)\n"
     ]
    },
    {
     "data": {
      "application/vnd.jupyter.widget-view+json": {
       "model_id": "",
       "version_major": 2,
       "version_minor": 0
      },
      "text/plain": [
       "HBox(children=(FloatProgress(value=0.0, description='Training', layout=Layout(flex='2'), max=1250.0, style=Pro…"
      ]
     },
     "metadata": {},
     "output_type": "display_data"
    },
    {
     "name": "stdout",
     "output_type": "stream",
     "text": [
      "Epoch 3924: train=7.72441, val=7.80121, took 31.316 s\n",
      "  Validation Found 51306 of 54504, added 1824 (eff 94.13%) (0.183 FP/event)\n"
     ]
    },
    {
     "data": {
      "application/vnd.jupyter.widget-view+json": {
       "model_id": "",
       "version_major": 2,
       "version_minor": 0
      },
      "text/plain": [
       "HBox(children=(FloatProgress(value=0.0, description='Training', layout=Layout(flex='2'), max=1250.0, style=Pro…"
      ]
     },
     "metadata": {},
     "output_type": "display_data"
    },
    {
     "name": "stdout",
     "output_type": "stream",
     "text": [
      "Epoch 3925: train=7.7278, val=7.79302, took 31.222 s\n",
      "  Validation Found 51322 of 54504, added 1875 (eff 94.16%) (0.188 FP/event)\n"
     ]
    },
    {
     "data": {
      "application/vnd.jupyter.widget-view+json": {
       "model_id": "",
       "version_major": 2,
       "version_minor": 0
      },
      "text/plain": [
       "HBox(children=(FloatProgress(value=0.0, description='Training', layout=Layout(flex='2'), max=1250.0, style=Pro…"
      ]
     },
     "metadata": {},
     "output_type": "display_data"
    },
    {
     "name": "stdout",
     "output_type": "stream",
     "text": [
      "Epoch 3926: train=7.72612, val=7.79465, took 31.24 s\n",
      "  Validation Found 51313 of 54504, added 1861 (eff 94.15%) (0.186 FP/event)\n"
     ]
    },
    {
     "data": {
      "application/vnd.jupyter.widget-view+json": {
       "model_id": "",
       "version_major": 2,
       "version_minor": 0
      },
      "text/plain": [
       "HBox(children=(FloatProgress(value=0.0, description='Training', layout=Layout(flex='2'), max=1250.0, style=Pro…"
      ]
     },
     "metadata": {},
     "output_type": "display_data"
    },
    {
     "name": "stdout",
     "output_type": "stream",
     "text": [
      "Epoch 3927: train=7.72457, val=7.76485, took 31.601 s\n",
      "  Validation Found 51382 of 54504, added 1950 (eff 94.27%) (0.195 FP/event)\n"
     ]
    },
    {
     "data": {
      "application/vnd.jupyter.widget-view+json": {
       "model_id": "",
       "version_major": 2,
       "version_minor": 0
      },
      "text/plain": [
       "HBox(children=(FloatProgress(value=0.0, description='Training', layout=Layout(flex='2'), max=1250.0, style=Pro…"
      ]
     },
     "metadata": {},
     "output_type": "display_data"
    },
    {
     "name": "stdout",
     "output_type": "stream",
     "text": [
      "Epoch 3928: train=7.72743, val=7.77223, took 31.204 s\n",
      "  Validation Found 51336 of 54504, added 1896 (eff 94.19%) (0.19 FP/event)\n"
     ]
    },
    {
     "data": {
      "application/vnd.jupyter.widget-view+json": {
       "model_id": "",
       "version_major": 2,
       "version_minor": 0
      },
      "text/plain": [
       "HBox(children=(FloatProgress(value=0.0, description='Training', layout=Layout(flex='2'), max=1250.0, style=Pro…"
      ]
     },
     "metadata": {},
     "output_type": "display_data"
    },
    {
     "name": "stdout",
     "output_type": "stream",
     "text": [
      "Epoch 3929: train=7.72253, val=7.79255, took 31.296 s\n",
      "  Validation Found 51324 of 54504, added 1875 (eff 94.17%) (0.188 FP/event)\n"
     ]
    },
    {
     "data": {
      "application/vnd.jupyter.widget-view+json": {
       "model_id": "",
       "version_major": 2,
       "version_minor": 0
      },
      "text/plain": [
       "HBox(children=(FloatProgress(value=0.0, description='Training', layout=Layout(flex='2'), max=1250.0, style=Pro…"
      ]
     },
     "metadata": {},
     "output_type": "display_data"
    },
    {
     "name": "stdout",
     "output_type": "stream",
     "text": [
      "Epoch 3930: train=7.72125, val=7.78137, took 31.123 s\n",
      "  Validation Found 51309 of 54504, added 1855 (eff 94.14%) (0.186 FP/event)\n"
     ]
    },
    {
     "data": {
      "application/vnd.jupyter.widget-view+json": {
       "model_id": "",
       "version_major": 2,
       "version_minor": 0
      },
      "text/plain": [
       "HBox(children=(FloatProgress(value=0.0, description='Training', layout=Layout(flex='2'), max=1250.0, style=Pro…"
      ]
     },
     "metadata": {},
     "output_type": "display_data"
    },
    {
     "name": "stdout",
     "output_type": "stream",
     "text": [
      "Epoch 3931: train=7.72744, val=7.78177, took 31.195 s\n",
      "  Validation Found 51343 of 54504, added 1892 (eff 94.20%) (0.189 FP/event)\n"
     ]
    },
    {
     "data": {
      "application/vnd.jupyter.widget-view+json": {
       "model_id": "",
       "version_major": 2,
       "version_minor": 0
      },
      "text/plain": [
       "HBox(children=(FloatProgress(value=0.0, description='Training', layout=Layout(flex='2'), max=1250.0, style=Pro…"
      ]
     },
     "metadata": {},
     "output_type": "display_data"
    },
    {
     "name": "stdout",
     "output_type": "stream",
     "text": [
      "Epoch 3932: train=7.72583, val=7.78571, took 31.325 s\n",
      "  Validation Found 51324 of 54504, added 1876 (eff 94.17%) (0.188 FP/event)\n"
     ]
    },
    {
     "data": {
      "application/vnd.jupyter.widget-view+json": {
       "model_id": "",
       "version_major": 2,
       "version_minor": 0
      },
      "text/plain": [
       "HBox(children=(FloatProgress(value=0.0, description='Training', layout=Layout(flex='2'), max=1250.0, style=Pro…"
      ]
     },
     "metadata": {},
     "output_type": "display_data"
    },
    {
     "name": "stdout",
     "output_type": "stream",
     "text": [
      "Epoch 3933: train=7.72937, val=7.80155, took 31.34 s\n",
      "  Validation Found 51307 of 54504, added 1826 (eff 94.13%) (0.183 FP/event)\n"
     ]
    },
    {
     "data": {
      "application/vnd.jupyter.widget-view+json": {
       "model_id": "",
       "version_major": 2,
       "version_minor": 0
      },
      "text/plain": [
       "HBox(children=(FloatProgress(value=0.0, description='Training', layout=Layout(flex='2'), max=1250.0, style=Pro…"
      ]
     },
     "metadata": {},
     "output_type": "display_data"
    },
    {
     "name": "stdout",
     "output_type": "stream",
     "text": [
      "Epoch 3934: train=7.72281, val=7.82341, took 31.094 s\n",
      "  Validation Found 51267 of 54504, added 1785 (eff 94.06%) (0.179 FP/event)\n"
     ]
    },
    {
     "data": {
      "application/vnd.jupyter.widget-view+json": {
       "model_id": "",
       "version_major": 2,
       "version_minor": 0
      },
      "text/plain": [
       "HBox(children=(FloatProgress(value=0.0, description='Training', layout=Layout(flex='2'), max=1250.0, style=Pro…"
      ]
     },
     "metadata": {},
     "output_type": "display_data"
    },
    {
     "name": "stdout",
     "output_type": "stream",
     "text": [
      "Epoch 3935: train=7.72275, val=7.79178, took 31.041 s\n",
      "  Validation Found 51350 of 54504, added 1898 (eff 94.21%) (0.19 FP/event)\n"
     ]
    },
    {
     "data": {
      "application/vnd.jupyter.widget-view+json": {
       "model_id": "",
       "version_major": 2,
       "version_minor": 0
      },
      "text/plain": [
       "HBox(children=(FloatProgress(value=0.0, description='Training', layout=Layout(flex='2'), max=1250.0, style=Pro…"
      ]
     },
     "metadata": {},
     "output_type": "display_data"
    },
    {
     "name": "stdout",
     "output_type": "stream",
     "text": [
      "Epoch 3936: train=7.72691, val=7.78413, took 31.134 s\n",
      "  Validation Found 51324 of 54504, added 1878 (eff 94.17%) (0.188 FP/event)\n"
     ]
    },
    {
     "data": {
      "application/vnd.jupyter.widget-view+json": {
       "model_id": "",
       "version_major": 2,
       "version_minor": 0
      },
      "text/plain": [
       "HBox(children=(FloatProgress(value=0.0, description='Training', layout=Layout(flex='2'), max=1250.0, style=Pro…"
      ]
     },
     "metadata": {},
     "output_type": "display_data"
    },
    {
     "name": "stdout",
     "output_type": "stream",
     "text": [
      "Epoch 3937: train=7.72215, val=7.80096, took 31.086 s\n",
      "  Validation Found 51291 of 54504, added 1812 (eff 94.11%) (0.181 FP/event)\n"
     ]
    },
    {
     "data": {
      "application/vnd.jupyter.widget-view+json": {
       "model_id": "",
       "version_major": 2,
       "version_minor": 0
      },
      "text/plain": [
       "HBox(children=(FloatProgress(value=0.0, description='Training', layout=Layout(flex='2'), max=1250.0, style=Pro…"
      ]
     },
     "metadata": {},
     "output_type": "display_data"
    },
    {
     "name": "stdout",
     "output_type": "stream",
     "text": [
      "Epoch 3938: train=7.72236, val=7.78012, took 31.271 s\n",
      "  Validation Found 51354 of 54504, added 1909 (eff 94.22%) (0.191 FP/event)\n"
     ]
    },
    {
     "data": {
      "application/vnd.jupyter.widget-view+json": {
       "model_id": "",
       "version_major": 2,
       "version_minor": 0
      },
      "text/plain": [
       "HBox(children=(FloatProgress(value=0.0, description='Training', layout=Layout(flex='2'), max=1250.0, style=Pro…"
      ]
     },
     "metadata": {},
     "output_type": "display_data"
    },
    {
     "name": "stdout",
     "output_type": "stream",
     "text": [
      "Epoch 3939: train=7.7227, val=7.79242, took 31.212 s\n",
      "  Validation Found 51312 of 54504, added 1858 (eff 94.14%) (0.186 FP/event)\n"
     ]
    },
    {
     "data": {
      "application/vnd.jupyter.widget-view+json": {
       "model_id": "",
       "version_major": 2,
       "version_minor": 0
      },
      "text/plain": [
       "HBox(children=(FloatProgress(value=0.0, description='Training', layout=Layout(flex='2'), max=1250.0, style=Pro…"
      ]
     },
     "metadata": {},
     "output_type": "display_data"
    },
    {
     "name": "stdout",
     "output_type": "stream",
     "text": [
      "Epoch 3940: train=7.72615, val=7.78847, took 31.185 s\n",
      "  Validation Found 51316 of 54504, added 1834 (eff 94.15%) (0.184 FP/event)\n"
     ]
    },
    {
     "data": {
      "application/vnd.jupyter.widget-view+json": {
       "model_id": "",
       "version_major": 2,
       "version_minor": 0
      },
      "text/plain": [
       "HBox(children=(FloatProgress(value=0.0, description='Training', layout=Layout(flex='2'), max=1250.0, style=Pro…"
      ]
     },
     "metadata": {},
     "output_type": "display_data"
    },
    {
     "name": "stdout",
     "output_type": "stream",
     "text": [
      "Epoch 3941: train=7.72433, val=7.81068, took 31.211 s\n",
      "  Validation Found 51288 of 54504, added 1807 (eff 94.10%) (0.181 FP/event)\n"
     ]
    },
    {
     "data": {
      "application/vnd.jupyter.widget-view+json": {
       "model_id": "",
       "version_major": 2,
       "version_minor": 0
      },
      "text/plain": [
       "HBox(children=(FloatProgress(value=0.0, description='Training', layout=Layout(flex='2'), max=1250.0, style=Pro…"
      ]
     },
     "metadata": {},
     "output_type": "display_data"
    },
    {
     "name": "stdout",
     "output_type": "stream",
     "text": [
      "Epoch 3942: train=7.72324, val=7.80005, took 31.402 s\n",
      "  Validation Found 51310 of 54504, added 1838 (eff 94.14%) (0.184 FP/event)\n"
     ]
    },
    {
     "data": {
      "application/vnd.jupyter.widget-view+json": {
       "model_id": "",
       "version_major": 2,
       "version_minor": 0
      },
      "text/plain": [
       "HBox(children=(FloatProgress(value=0.0, description='Training', layout=Layout(flex='2'), max=1250.0, style=Pro…"
      ]
     },
     "metadata": {},
     "output_type": "display_data"
    },
    {
     "name": "stdout",
     "output_type": "stream",
     "text": [
      "Epoch 3943: train=7.72679, val=7.79711, took 31.078 s\n",
      "  Validation Found 51307 of 54504, added 1815 (eff 94.13%) (0.182 FP/event)\n"
     ]
    },
    {
     "data": {
      "application/vnd.jupyter.widget-view+json": {
       "model_id": "",
       "version_major": 2,
       "version_minor": 0
      },
      "text/plain": [
       "HBox(children=(FloatProgress(value=0.0, description='Training', layout=Layout(flex='2'), max=1250.0, style=Pro…"
      ]
     },
     "metadata": {},
     "output_type": "display_data"
    },
    {
     "name": "stdout",
     "output_type": "stream",
     "text": [
      "Epoch 3944: train=7.72534, val=7.80107, took 31.286 s\n",
      "  Validation Found 51308 of 54504, added 1861 (eff 94.14%) (0.186 FP/event)\n"
     ]
    },
    {
     "data": {
      "application/vnd.jupyter.widget-view+json": {
       "model_id": "",
       "version_major": 2,
       "version_minor": 0
      },
      "text/plain": [
       "HBox(children=(FloatProgress(value=0.0, description='Training', layout=Layout(flex='2'), max=1250.0, style=Pro…"
      ]
     },
     "metadata": {},
     "output_type": "display_data"
    },
    {
     "name": "stdout",
     "output_type": "stream",
     "text": [
      "Epoch 3945: train=7.72312, val=7.80755, took 31.235 s\n",
      "  Validation Found 51284 of 54504, added 1795 (eff 94.09%) (0.18 FP/event)\n"
     ]
    },
    {
     "data": {
      "application/vnd.jupyter.widget-view+json": {
       "model_id": "",
       "version_major": 2,
       "version_minor": 0
      },
      "text/plain": [
       "HBox(children=(FloatProgress(value=0.0, description='Training', layout=Layout(flex='2'), max=1250.0, style=Pro…"
      ]
     },
     "metadata": {},
     "output_type": "display_data"
    },
    {
     "name": "stdout",
     "output_type": "stream",
     "text": [
      "Epoch 3946: train=7.72459, val=7.79715, took 31.358 s\n",
      "  Validation Found 51327 of 54504, added 1854 (eff 94.17%) (0.186 FP/event)\n"
     ]
    },
    {
     "data": {
      "application/vnd.jupyter.widget-view+json": {
       "model_id": "",
       "version_major": 2,
       "version_minor": 0
      },
      "text/plain": [
       "HBox(children=(FloatProgress(value=0.0, description='Training', layout=Layout(flex='2'), max=1250.0, style=Pro…"
      ]
     },
     "metadata": {},
     "output_type": "display_data"
    },
    {
     "name": "stdout",
     "output_type": "stream",
     "text": [
      "Epoch 3947: train=7.72283, val=7.80879, took 31.168 s\n",
      "  Validation Found 51279 of 54504, added 1797 (eff 94.08%) (0.18 FP/event)\n"
     ]
    },
    {
     "data": {
      "application/vnd.jupyter.widget-view+json": {
       "model_id": "",
       "version_major": 2,
       "version_minor": 0
      },
      "text/plain": [
       "HBox(children=(FloatProgress(value=0.0, description='Training', layout=Layout(flex='2'), max=1250.0, style=Pro…"
      ]
     },
     "metadata": {},
     "output_type": "display_data"
    },
    {
     "name": "stdout",
     "output_type": "stream",
     "text": [
      "Epoch 3948: train=7.72231, val=7.79456, took 31.462 s\n",
      "  Validation Found 51339 of 54504, added 1893 (eff 94.19%) (0.19 FP/event)\n"
     ]
    },
    {
     "data": {
      "application/vnd.jupyter.widget-view+json": {
       "model_id": "",
       "version_major": 2,
       "version_minor": 0
      },
      "text/plain": [
       "HBox(children=(FloatProgress(value=0.0, description='Training', layout=Layout(flex='2'), max=1250.0, style=Pro…"
      ]
     },
     "metadata": {},
     "output_type": "display_data"
    },
    {
     "name": "stdout",
     "output_type": "stream",
     "text": [
      "Epoch 3949: train=7.72543, val=7.79296, took 31.087 s\n",
      "  Validation Found 51333 of 54504, added 1858 (eff 94.18%) (0.186 FP/event)\n"
     ]
    },
    {
     "data": {
      "application/vnd.jupyter.widget-view+json": {
       "model_id": "",
       "version_major": 2,
       "version_minor": 0
      },
      "text/plain": [
       "HBox(children=(FloatProgress(value=0.0, description='Training', layout=Layout(flex='2'), max=1250.0, style=Pro…"
      ]
     },
     "metadata": {},
     "output_type": "display_data"
    },
    {
     "name": "stdout",
     "output_type": "stream",
     "text": [
      "Epoch 3950: train=7.72707, val=7.79838, took 31.246 s\n",
      "  Validation Found 51321 of 54504, added 1850 (eff 94.16%) (0.185 FP/event)\n"
     ]
    },
    {
     "data": {
      "application/vnd.jupyter.widget-view+json": {
       "model_id": "",
       "version_major": 2,
       "version_minor": 0
      },
      "text/plain": [
       "HBox(children=(FloatProgress(value=0.0, description='Training', layout=Layout(flex='2'), max=1250.0, style=Pro…"
      ]
     },
     "metadata": {},
     "output_type": "display_data"
    },
    {
     "name": "stdout",
     "output_type": "stream",
     "text": [
      "Epoch 3951: train=7.72478, val=7.80089, took 31.346 s\n",
      "  Validation Found 51281 of 54504, added 1804 (eff 94.09%) (0.181 FP/event)\n"
     ]
    },
    {
     "data": {
      "application/vnd.jupyter.widget-view+json": {
       "model_id": "",
       "version_major": 2,
       "version_minor": 0
      },
      "text/plain": [
       "HBox(children=(FloatProgress(value=0.0, description='Training', layout=Layout(flex='2'), max=1250.0, style=Pro…"
      ]
     },
     "metadata": {},
     "output_type": "display_data"
    },
    {
     "name": "stdout",
     "output_type": "stream",
     "text": [
      "Epoch 3952: train=7.72627, val=7.80963, took 31.198 s\n",
      "  Validation Found 51286 of 54504, added 1828 (eff 94.10%) (0.183 FP/event)\n"
     ]
    },
    {
     "data": {
      "application/vnd.jupyter.widget-view+json": {
       "model_id": "",
       "version_major": 2,
       "version_minor": 0
      },
      "text/plain": [
       "HBox(children=(FloatProgress(value=0.0, description='Training', layout=Layout(flex='2'), max=1250.0, style=Pro…"
      ]
     },
     "metadata": {},
     "output_type": "display_data"
    },
    {
     "name": "stdout",
     "output_type": "stream",
     "text": [
      "Epoch 3953: train=7.72618, val=7.82618, took 31.186 s\n",
      "  Validation Found 51267 of 54504, added 1789 (eff 94.06%) (0.179 FP/event)\n"
     ]
    },
    {
     "data": {
      "application/vnd.jupyter.widget-view+json": {
       "model_id": "",
       "version_major": 2,
       "version_minor": 0
      },
      "text/plain": [
       "HBox(children=(FloatProgress(value=0.0, description='Training', layout=Layout(flex='2'), max=1250.0, style=Pro…"
      ]
     },
     "metadata": {},
     "output_type": "display_data"
    },
    {
     "name": "stdout",
     "output_type": "stream",
     "text": [
      "Epoch 3954: train=7.72433, val=7.83439, took 31.184 s\n",
      "  Validation Found 51273 of 54504, added 1791 (eff 94.07%) (0.179 FP/event)\n"
     ]
    },
    {
     "data": {
      "application/vnd.jupyter.widget-view+json": {
       "model_id": "",
       "version_major": 2,
       "version_minor": 0
      },
      "text/plain": [
       "HBox(children=(FloatProgress(value=0.0, description='Training', layout=Layout(flex='2'), max=1250.0, style=Pro…"
      ]
     },
     "metadata": {},
     "output_type": "display_data"
    },
    {
     "name": "stdout",
     "output_type": "stream",
     "text": [
      "Epoch 3955: train=7.72156, val=7.78757, took 31.163 s\n",
      "  Validation Found 51320 of 54504, added 1851 (eff 94.16%) (0.185 FP/event)\n"
     ]
    },
    {
     "data": {
      "application/vnd.jupyter.widget-view+json": {
       "model_id": "",
       "version_major": 2,
       "version_minor": 0
      },
      "text/plain": [
       "HBox(children=(FloatProgress(value=0.0, description='Training', layout=Layout(flex='2'), max=1250.0, style=Pro…"
      ]
     },
     "metadata": {},
     "output_type": "display_data"
    },
    {
     "name": "stdout",
     "output_type": "stream",
     "text": [
      "Epoch 3956: train=7.72517, val=7.79685, took 30.985 s\n",
      "  Validation Found 51317 of 54504, added 1843 (eff 94.15%) (0.185 FP/event)\n"
     ]
    },
    {
     "data": {
      "application/vnd.jupyter.widget-view+json": {
       "model_id": "",
       "version_major": 2,
       "version_minor": 0
      },
      "text/plain": [
       "HBox(children=(FloatProgress(value=0.0, description='Training', layout=Layout(flex='2'), max=1250.0, style=Pro…"
      ]
     },
     "metadata": {},
     "output_type": "display_data"
    },
    {
     "name": "stdout",
     "output_type": "stream",
     "text": [
      "Epoch 3957: train=7.72585, val=7.79486, took 30.982 s\n",
      "  Validation Found 51295 of 54504, added 1832 (eff 94.11%) (0.183 FP/event)\n"
     ]
    },
    {
     "data": {
      "application/vnd.jupyter.widget-view+json": {
       "model_id": "",
       "version_major": 2,
       "version_minor": 0
      },
      "text/plain": [
       "HBox(children=(FloatProgress(value=0.0, description='Training', layout=Layout(flex='2'), max=1250.0, style=Pro…"
      ]
     },
     "metadata": {},
     "output_type": "display_data"
    },
    {
     "name": "stdout",
     "output_type": "stream",
     "text": [
      "Epoch 3958: train=7.72216, val=7.82578, took 31.313 s\n",
      "  Validation Found 51249 of 54504, added 1757 (eff 94.03%) (0.176 FP/event)\n"
     ]
    },
    {
     "data": {
      "application/vnd.jupyter.widget-view+json": {
       "model_id": "",
       "version_major": 2,
       "version_minor": 0
      },
      "text/plain": [
       "HBox(children=(FloatProgress(value=0.0, description='Training', layout=Layout(flex='2'), max=1250.0, style=Pro…"
      ]
     },
     "metadata": {},
     "output_type": "display_data"
    },
    {
     "name": "stdout",
     "output_type": "stream",
     "text": [
      "Epoch 3959: train=7.72821, val=7.80495, took 31.234 s\n",
      "  Validation Found 51341 of 54504, added 1905 (eff 94.20%) (0.191 FP/event)\n"
     ]
    },
    {
     "data": {
      "application/vnd.jupyter.widget-view+json": {
       "model_id": "",
       "version_major": 2,
       "version_minor": 0
      },
      "text/plain": [
       "HBox(children=(FloatProgress(value=0.0, description='Training', layout=Layout(flex='2'), max=1250.0, style=Pro…"
      ]
     },
     "metadata": {},
     "output_type": "display_data"
    },
    {
     "name": "stdout",
     "output_type": "stream",
     "text": [
      "Epoch 3960: train=7.72378, val=7.814, took 31.241 s\n",
      "  Validation Found 51283 of 54504, added 1784 (eff 94.09%) (0.179 FP/event)\n"
     ]
    },
    {
     "data": {
      "application/vnd.jupyter.widget-view+json": {
       "model_id": "",
       "version_major": 2,
       "version_minor": 0
      },
      "text/plain": [
       "HBox(children=(FloatProgress(value=0.0, description='Training', layout=Layout(flex='2'), max=1250.0, style=Pro…"
      ]
     },
     "metadata": {},
     "output_type": "display_data"
    },
    {
     "name": "stdout",
     "output_type": "stream",
     "text": [
      "Epoch 3961: train=7.72679, val=7.78567, took 31.268 s\n",
      "  Validation Found 51348 of 54504, added 1911 (eff 94.21%) (0.191 FP/event)\n"
     ]
    },
    {
     "data": {
      "application/vnd.jupyter.widget-view+json": {
       "model_id": "",
       "version_major": 2,
       "version_minor": 0
      },
      "text/plain": [
       "HBox(children=(FloatProgress(value=0.0, description='Training', layout=Layout(flex='2'), max=1250.0, style=Pro…"
      ]
     },
     "metadata": {},
     "output_type": "display_data"
    },
    {
     "name": "stdout",
     "output_type": "stream",
     "text": [
      "Epoch 3962: train=7.72093, val=7.79129, took 31.019 s\n",
      "  Validation Found 51328 of 54504, added 1872 (eff 94.17%) (0.187 FP/event)\n"
     ]
    },
    {
     "data": {
      "application/vnd.jupyter.widget-view+json": {
       "model_id": "",
       "version_major": 2,
       "version_minor": 0
      },
      "text/plain": [
       "HBox(children=(FloatProgress(value=0.0, description='Training', layout=Layout(flex='2'), max=1250.0, style=Pro…"
      ]
     },
     "metadata": {},
     "output_type": "display_data"
    },
    {
     "name": "stdout",
     "output_type": "stream",
     "text": [
      "Epoch 3963: train=7.72556, val=7.79396, took 30.996 s\n",
      "  Validation Found 51336 of 54504, added 1893 (eff 94.19%) (0.19 FP/event)\n"
     ]
    },
    {
     "data": {
      "application/vnd.jupyter.widget-view+json": {
       "model_id": "",
       "version_major": 2,
       "version_minor": 0
      },
      "text/plain": [
       "HBox(children=(FloatProgress(value=0.0, description='Training', layout=Layout(flex='2'), max=1250.0, style=Pro…"
      ]
     },
     "metadata": {},
     "output_type": "display_data"
    },
    {
     "name": "stdout",
     "output_type": "stream",
     "text": [
      "Epoch 3964: train=7.72242, val=7.78891, took 30.977 s\n",
      "  Validation Found 51333 of 54504, added 1874 (eff 94.18%) (0.188 FP/event)\n"
     ]
    },
    {
     "data": {
      "application/vnd.jupyter.widget-view+json": {
       "model_id": "",
       "version_major": 2,
       "version_minor": 0
      },
      "text/plain": [
       "HBox(children=(FloatProgress(value=0.0, description='Training', layout=Layout(flex='2'), max=1250.0, style=Pro…"
      ]
     },
     "metadata": {},
     "output_type": "display_data"
    },
    {
     "name": "stdout",
     "output_type": "stream",
     "text": [
      "Epoch 3965: train=7.72269, val=7.77921, took 31.049 s\n",
      "  Validation Found 51369 of 54504, added 1900 (eff 94.25%) (0.19 FP/event)\n"
     ]
    },
    {
     "data": {
      "application/vnd.jupyter.widget-view+json": {
       "model_id": "",
       "version_major": 2,
       "version_minor": 0
      },
      "text/plain": [
       "HBox(children=(FloatProgress(value=0.0, description='Training', layout=Layout(flex='2'), max=1250.0, style=Pro…"
      ]
     },
     "metadata": {},
     "output_type": "display_data"
    },
    {
     "name": "stdout",
     "output_type": "stream",
     "text": [
      "Epoch 3966: train=7.72353, val=7.80745, took 31.176 s\n",
      "  Validation Found 51297 of 54504, added 1814 (eff 94.12%) (0.182 FP/event)\n"
     ]
    },
    {
     "data": {
      "application/vnd.jupyter.widget-view+json": {
       "model_id": "",
       "version_major": 2,
       "version_minor": 0
      },
      "text/plain": [
       "HBox(children=(FloatProgress(value=0.0, description='Training', layout=Layout(flex='2'), max=1250.0, style=Pro…"
      ]
     },
     "metadata": {},
     "output_type": "display_data"
    },
    {
     "name": "stdout",
     "output_type": "stream",
     "text": [
      "Epoch 3967: train=7.72574, val=7.83445, took 31.317 s\n",
      "  Validation Found 51268 of 54504, added 1776 (eff 94.06%) (0.178 FP/event)\n"
     ]
    },
    {
     "data": {
      "application/vnd.jupyter.widget-view+json": {
       "model_id": "",
       "version_major": 2,
       "version_minor": 0
      },
      "text/plain": [
       "HBox(children=(FloatProgress(value=0.0, description='Training', layout=Layout(flex='2'), max=1250.0, style=Pro…"
      ]
     },
     "metadata": {},
     "output_type": "display_data"
    },
    {
     "name": "stdout",
     "output_type": "stream",
     "text": [
      "Epoch 3968: train=7.72841, val=7.7873, took 31.223 s\n",
      "  Validation Found 51335 of 54504, added 1878 (eff 94.19%) (0.188 FP/event)\n"
     ]
    },
    {
     "data": {
      "application/vnd.jupyter.widget-view+json": {
       "model_id": "",
       "version_major": 2,
       "version_minor": 0
      },
      "text/plain": [
       "HBox(children=(FloatProgress(value=0.0, description='Training', layout=Layout(flex='2'), max=1250.0, style=Pro…"
      ]
     },
     "metadata": {},
     "output_type": "display_data"
    },
    {
     "name": "stdout",
     "output_type": "stream",
     "text": [
      "Epoch 3969: train=7.72764, val=7.79737, took 31.385 s\n",
      "  Validation Found 51303 of 54504, added 1854 (eff 94.13%) (0.186 FP/event)\n"
     ]
    },
    {
     "data": {
      "application/vnd.jupyter.widget-view+json": {
       "model_id": "",
       "version_major": 2,
       "version_minor": 0
      },
      "text/plain": [
       "HBox(children=(FloatProgress(value=0.0, description='Training', layout=Layout(flex='2'), max=1250.0, style=Pro…"
      ]
     },
     "metadata": {},
     "output_type": "display_data"
    },
    {
     "name": "stdout",
     "output_type": "stream",
     "text": [
      "Epoch 3970: train=7.72132, val=7.81903, took 31.331 s\n",
      "  Validation Found 51265 of 54504, added 1759 (eff 94.06%) (0.176 FP/event)\n"
     ]
    },
    {
     "data": {
      "application/vnd.jupyter.widget-view+json": {
       "model_id": "",
       "version_major": 2,
       "version_minor": 0
      },
      "text/plain": [
       "HBox(children=(FloatProgress(value=0.0, description='Training', layout=Layout(flex='2'), max=1250.0, style=Pro…"
      ]
     },
     "metadata": {},
     "output_type": "display_data"
    },
    {
     "name": "stdout",
     "output_type": "stream",
     "text": [
      "Epoch 3971: train=7.72055, val=7.79883, took 31.422 s\n",
      "  Validation Found 51324 of 54504, added 1866 (eff 94.17%) (0.187 FP/event)\n"
     ]
    },
    {
     "data": {
      "application/vnd.jupyter.widget-view+json": {
       "model_id": "",
       "version_major": 2,
       "version_minor": 0
      },
      "text/plain": [
       "HBox(children=(FloatProgress(value=0.0, description='Training', layout=Layout(flex='2'), max=1250.0, style=Pro…"
      ]
     },
     "metadata": {},
     "output_type": "display_data"
    },
    {
     "name": "stdout",
     "output_type": "stream",
     "text": [
      "Epoch 3972: train=7.72398, val=7.77251, took 31.288 s\n",
      "  Validation Found 51383 of 54504, added 1949 (eff 94.27%) (0.195 FP/event)\n"
     ]
    },
    {
     "data": {
      "application/vnd.jupyter.widget-view+json": {
       "model_id": "",
       "version_major": 2,
       "version_minor": 0
      },
      "text/plain": [
       "HBox(children=(FloatProgress(value=0.0, description='Training', layout=Layout(flex='2'), max=1250.0, style=Pro…"
      ]
     },
     "metadata": {},
     "output_type": "display_data"
    },
    {
     "name": "stdout",
     "output_type": "stream",
     "text": [
      "Epoch 3973: train=7.72439, val=7.80085, took 31.524 s\n",
      "  Validation Found 51279 of 54504, added 1797 (eff 94.08%) (0.18 FP/event)\n"
     ]
    },
    {
     "data": {
      "application/vnd.jupyter.widget-view+json": {
       "model_id": "",
       "version_major": 2,
       "version_minor": 0
      },
      "text/plain": [
       "HBox(children=(FloatProgress(value=0.0, description='Training', layout=Layout(flex='2'), max=1250.0, style=Pro…"
      ]
     },
     "metadata": {},
     "output_type": "display_data"
    },
    {
     "name": "stdout",
     "output_type": "stream",
     "text": [
      "Epoch 3974: train=7.72569, val=7.80574, took 31.305 s\n",
      "  Validation Found 51302 of 54504, added 1841 (eff 94.13%) (0.184 FP/event)\n"
     ]
    },
    {
     "data": {
      "application/vnd.jupyter.widget-view+json": {
       "model_id": "",
       "version_major": 2,
       "version_minor": 0
      },
      "text/plain": [
       "HBox(children=(FloatProgress(value=0.0, description='Training', layout=Layout(flex='2'), max=1250.0, style=Pro…"
      ]
     },
     "metadata": {},
     "output_type": "display_data"
    },
    {
     "name": "stdout",
     "output_type": "stream",
     "text": [
      "Epoch 3975: train=7.72384, val=7.80824, took 31.168 s\n",
      "  Validation Found 51284 of 54504, added 1809 (eff 94.09%) (0.181 FP/event)\n"
     ]
    },
    {
     "data": {
      "application/vnd.jupyter.widget-view+json": {
       "model_id": "",
       "version_major": 2,
       "version_minor": 0
      },
      "text/plain": [
       "HBox(children=(FloatProgress(value=0.0, description='Training', layout=Layout(flex='2'), max=1250.0, style=Pro…"
      ]
     },
     "metadata": {},
     "output_type": "display_data"
    },
    {
     "name": "stdout",
     "output_type": "stream",
     "text": [
      "Epoch 3976: train=7.72818, val=7.79833, took 31.193 s\n",
      "  Validation Found 51332 of 54504, added 1870 (eff 94.18%) (0.187 FP/event)\n"
     ]
    },
    {
     "data": {
      "application/vnd.jupyter.widget-view+json": {
       "model_id": "",
       "version_major": 2,
       "version_minor": 0
      },
      "text/plain": [
       "HBox(children=(FloatProgress(value=0.0, description='Training', layout=Layout(flex='2'), max=1250.0, style=Pro…"
      ]
     },
     "metadata": {},
     "output_type": "display_data"
    },
    {
     "name": "stdout",
     "output_type": "stream",
     "text": [
      "Epoch 3977: train=7.72307, val=7.79033, took 31.204 s\n",
      "  Validation Found 51314 of 54504, added 1853 (eff 94.15%) (0.186 FP/event)\n"
     ]
    },
    {
     "data": {
      "application/vnd.jupyter.widget-view+json": {
       "model_id": "",
       "version_major": 2,
       "version_minor": 0
      },
      "text/plain": [
       "HBox(children=(FloatProgress(value=0.0, description='Training', layout=Layout(flex='2'), max=1250.0, style=Pro…"
      ]
     },
     "metadata": {},
     "output_type": "display_data"
    },
    {
     "name": "stdout",
     "output_type": "stream",
     "text": [
      "Epoch 3978: train=7.72254, val=7.81501, took 31.351 s\n",
      "  Validation Found 51293 of 54504, added 1784 (eff 94.11%) (0.179 FP/event)\n"
     ]
    },
    {
     "data": {
      "application/vnd.jupyter.widget-view+json": {
       "model_id": "",
       "version_major": 2,
       "version_minor": 0
      },
      "text/plain": [
       "HBox(children=(FloatProgress(value=0.0, description='Training', layout=Layout(flex='2'), max=1250.0, style=Pro…"
      ]
     },
     "metadata": {},
     "output_type": "display_data"
    },
    {
     "name": "stdout",
     "output_type": "stream",
     "text": [
      "Epoch 3979: train=7.72109, val=7.78976, took 31.492 s\n",
      "  Validation Found 51335 of 54504, added 1874 (eff 94.19%) (0.188 FP/event)\n"
     ]
    },
    {
     "data": {
      "application/vnd.jupyter.widget-view+json": {
       "model_id": "",
       "version_major": 2,
       "version_minor": 0
      },
      "text/plain": [
       "HBox(children=(FloatProgress(value=0.0, description='Training', layout=Layout(flex='2'), max=1250.0, style=Pro…"
      ]
     },
     "metadata": {},
     "output_type": "display_data"
    },
    {
     "name": "stdout",
     "output_type": "stream",
     "text": [
      "Epoch 3980: train=7.72461, val=7.79002, took 31.393 s\n",
      "  Validation Found 51332 of 54504, added 1864 (eff 94.18%) (0.187 FP/event)\n"
     ]
    },
    {
     "data": {
      "application/vnd.jupyter.widget-view+json": {
       "model_id": "",
       "version_major": 2,
       "version_minor": 0
      },
      "text/plain": [
       "HBox(children=(FloatProgress(value=0.0, description='Training', layout=Layout(flex='2'), max=1250.0, style=Pro…"
      ]
     },
     "metadata": {},
     "output_type": "display_data"
    },
    {
     "name": "stdout",
     "output_type": "stream",
     "text": [
      "Epoch 3981: train=7.72327, val=7.8157, took 31.315 s\n",
      "  Validation Found 51297 of 54504, added 1829 (eff 94.12%) (0.183 FP/event)\n"
     ]
    },
    {
     "data": {
      "application/vnd.jupyter.widget-view+json": {
       "model_id": "",
       "version_major": 2,
       "version_minor": 0
      },
      "text/plain": [
       "HBox(children=(FloatProgress(value=0.0, description='Training', layout=Layout(flex='2'), max=1250.0, style=Pro…"
      ]
     },
     "metadata": {},
     "output_type": "display_data"
    },
    {
     "name": "stdout",
     "output_type": "stream",
     "text": [
      "Epoch 3982: train=7.72414, val=7.78682, took 31.229 s\n",
      "  Validation Found 51366 of 54504, added 1942 (eff 94.24%) (0.194 FP/event)\n"
     ]
    },
    {
     "data": {
      "application/vnd.jupyter.widget-view+json": {
       "model_id": "",
       "version_major": 2,
       "version_minor": 0
      },
      "text/plain": [
       "HBox(children=(FloatProgress(value=0.0, description='Training', layout=Layout(flex='2'), max=1250.0, style=Pro…"
      ]
     },
     "metadata": {},
     "output_type": "display_data"
    },
    {
     "name": "stdout",
     "output_type": "stream",
     "text": [
      "Epoch 3983: train=7.72522, val=7.79744, took 31.273 s\n",
      "  Validation Found 51297 of 54504, added 1812 (eff 94.12%) (0.181 FP/event)\n"
     ]
    },
    {
     "data": {
      "application/vnd.jupyter.widget-view+json": {
       "model_id": "",
       "version_major": 2,
       "version_minor": 0
      },
      "text/plain": [
       "HBox(children=(FloatProgress(value=0.0, description='Training', layout=Layout(flex='2'), max=1250.0, style=Pro…"
      ]
     },
     "metadata": {},
     "output_type": "display_data"
    },
    {
     "name": "stdout",
     "output_type": "stream",
     "text": [
      "Epoch 3984: train=7.72426, val=7.78007, took 31.297 s\n",
      "  Validation Found 51375 of 54504, added 1925 (eff 94.26%) (0.193 FP/event)\n"
     ]
    },
    {
     "data": {
      "application/vnd.jupyter.widget-view+json": {
       "model_id": "",
       "version_major": 2,
       "version_minor": 0
      },
      "text/plain": [
       "HBox(children=(FloatProgress(value=0.0, description='Training', layout=Layout(flex='2'), max=1250.0, style=Pro…"
      ]
     },
     "metadata": {},
     "output_type": "display_data"
    },
    {
     "name": "stdout",
     "output_type": "stream",
     "text": [
      "Epoch 3985: train=7.7236, val=7.81201, took 31.402 s\n",
      "  Validation Found 51242 of 54504, added 1746 (eff 94.02%) (0.175 FP/event)\n"
     ]
    },
    {
     "data": {
      "application/vnd.jupyter.widget-view+json": {
       "model_id": "",
       "version_major": 2,
       "version_minor": 0
      },
      "text/plain": [
       "HBox(children=(FloatProgress(value=0.0, description='Training', layout=Layout(flex='2'), max=1250.0, style=Pro…"
      ]
     },
     "metadata": {},
     "output_type": "display_data"
    },
    {
     "name": "stdout",
     "output_type": "stream",
     "text": [
      "Epoch 3986: train=7.72675, val=7.80039, took 31.201 s\n",
      "  Validation Found 51279 of 54504, added 1807 (eff 94.08%) (0.181 FP/event)\n"
     ]
    },
    {
     "data": {
      "application/vnd.jupyter.widget-view+json": {
       "model_id": "",
       "version_major": 2,
       "version_minor": 0
      },
      "text/plain": [
       "HBox(children=(FloatProgress(value=0.0, description='Training', layout=Layout(flex='2'), max=1250.0, style=Pro…"
      ]
     },
     "metadata": {},
     "output_type": "display_data"
    },
    {
     "name": "stdout",
     "output_type": "stream",
     "text": [
      "Epoch 3987: train=7.72211, val=7.82533, took 31.229 s\n",
      "  Validation Found 51258 of 54504, added 1768 (eff 94.04%) (0.177 FP/event)\n"
     ]
    },
    {
     "data": {
      "application/vnd.jupyter.widget-view+json": {
       "model_id": "",
       "version_major": 2,
       "version_minor": 0
      },
      "text/plain": [
       "HBox(children=(FloatProgress(value=0.0, description='Training', layout=Layout(flex='2'), max=1250.0, style=Pro…"
      ]
     },
     "metadata": {},
     "output_type": "display_data"
    },
    {
     "name": "stdout",
     "output_type": "stream",
     "text": [
      "Epoch 3988: train=7.72295, val=7.79402, took 31.307 s\n",
      "  Validation Found 51320 of 54504, added 1844 (eff 94.16%) (0.185 FP/event)\n"
     ]
    },
    {
     "data": {
      "application/vnd.jupyter.widget-view+json": {
       "model_id": "",
       "version_major": 2,
       "version_minor": 0
      },
      "text/plain": [
       "HBox(children=(FloatProgress(value=0.0, description='Training', layout=Layout(flex='2'), max=1250.0, style=Pro…"
      ]
     },
     "metadata": {},
     "output_type": "display_data"
    },
    {
     "name": "stdout",
     "output_type": "stream",
     "text": [
      "Epoch 3989: train=7.71825, val=7.80707, took 31.267 s\n",
      "  Validation Found 51274 of 54504, added 1783 (eff 94.07%) (0.179 FP/event)\n"
     ]
    },
    {
     "data": {
      "application/vnd.jupyter.widget-view+json": {
       "model_id": "",
       "version_major": 2,
       "version_minor": 0
      },
      "text/plain": [
       "HBox(children=(FloatProgress(value=0.0, description='Training', layout=Layout(flex='2'), max=1250.0, style=Pro…"
      ]
     },
     "metadata": {},
     "output_type": "display_data"
    },
    {
     "name": "stdout",
     "output_type": "stream",
     "text": [
      "Epoch 3990: train=7.7209, val=7.80854, took 31.212 s\n",
      "  Validation Found 51304 of 54504, added 1843 (eff 94.13%) (0.185 FP/event)\n"
     ]
    },
    {
     "data": {
      "application/vnd.jupyter.widget-view+json": {
       "model_id": "",
       "version_major": 2,
       "version_minor": 0
      },
      "text/plain": [
       "HBox(children=(FloatProgress(value=0.0, description='Training', layout=Layout(flex='2'), max=1250.0, style=Pro…"
      ]
     },
     "metadata": {},
     "output_type": "display_data"
    },
    {
     "name": "stdout",
     "output_type": "stream",
     "text": [
      "Epoch 3991: train=7.72682, val=7.83322, took 31.196 s\n",
      "  Validation Found 51178 of 54504, added 1697 (eff 93.90%) (0.17 FP/event)\n"
     ]
    },
    {
     "data": {
      "application/vnd.jupyter.widget-view+json": {
       "model_id": "",
       "version_major": 2,
       "version_minor": 0
      },
      "text/plain": [
       "HBox(children=(FloatProgress(value=0.0, description='Training', layout=Layout(flex='2'), max=1250.0, style=Pro…"
      ]
     },
     "metadata": {},
     "output_type": "display_data"
    },
    {
     "name": "stdout",
     "output_type": "stream",
     "text": [
      "Epoch 3992: train=7.72126, val=7.8024, took 31.245 s\n",
      "  Validation Found 51316 of 54504, added 1830 (eff 94.15%) (0.183 FP/event)\n"
     ]
    },
    {
     "data": {
      "application/vnd.jupyter.widget-view+json": {
       "model_id": "",
       "version_major": 2,
       "version_minor": 0
      },
      "text/plain": [
       "HBox(children=(FloatProgress(value=0.0, description='Training', layout=Layout(flex='2'), max=1250.0, style=Pro…"
      ]
     },
     "metadata": {},
     "output_type": "display_data"
    },
    {
     "name": "stdout",
     "output_type": "stream",
     "text": [
      "Epoch 3993: train=7.723, val=7.78781, took 31.256 s\n",
      "  Validation Found 51361 of 54504, added 1900 (eff 94.23%) (0.19 FP/event)\n"
     ]
    },
    {
     "data": {
      "application/vnd.jupyter.widget-view+json": {
       "model_id": "",
       "version_major": 2,
       "version_minor": 0
      },
      "text/plain": [
       "HBox(children=(FloatProgress(value=0.0, description='Training', layout=Layout(flex='2'), max=1250.0, style=Pro…"
      ]
     },
     "metadata": {},
     "output_type": "display_data"
    },
    {
     "name": "stdout",
     "output_type": "stream",
     "text": [
      "Epoch 3994: train=7.72281, val=7.79705, took 31.483 s\n",
      "  Validation Found 51326 of 54504, added 1860 (eff 94.17%) (0.186 FP/event)\n"
     ]
    },
    {
     "data": {
      "application/vnd.jupyter.widget-view+json": {
       "model_id": "",
       "version_major": 2,
       "version_minor": 0
      },
      "text/plain": [
       "HBox(children=(FloatProgress(value=0.0, description='Training', layout=Layout(flex='2'), max=1250.0, style=Pro…"
      ]
     },
     "metadata": {},
     "output_type": "display_data"
    },
    {
     "name": "stdout",
     "output_type": "stream",
     "text": [
      "Epoch 3995: train=7.72326, val=7.79865, took 31.276 s\n",
      "  Validation Found 51327 of 54504, added 1861 (eff 94.17%) (0.186 FP/event)\n"
     ]
    },
    {
     "data": {
      "application/vnd.jupyter.widget-view+json": {
       "model_id": "",
       "version_major": 2,
       "version_minor": 0
      },
      "text/plain": [
       "HBox(children=(FloatProgress(value=0.0, description='Training', layout=Layout(flex='2'), max=1250.0, style=Pro…"
      ]
     },
     "metadata": {},
     "output_type": "display_data"
    },
    {
     "name": "stdout",
     "output_type": "stream",
     "text": [
      "Epoch 3996: train=7.72487, val=7.79495, took 31.324 s\n",
      "  Validation Found 51333 of 54504, added 1861 (eff 94.18%) (0.186 FP/event)\n"
     ]
    },
    {
     "data": {
      "application/vnd.jupyter.widget-view+json": {
       "model_id": "",
       "version_major": 2,
       "version_minor": 0
      },
      "text/plain": [
       "HBox(children=(FloatProgress(value=0.0, description='Training', layout=Layout(flex='2'), max=1250.0, style=Pro…"
      ]
     },
     "metadata": {},
     "output_type": "display_data"
    },
    {
     "name": "stdout",
     "output_type": "stream",
     "text": [
      "Epoch 3997: train=7.7247, val=7.7992, took 31.238 s\n",
      "  Validation Found 51330 of 54504, added 1849 (eff 94.18%) (0.185 FP/event)\n"
     ]
    },
    {
     "data": {
      "application/vnd.jupyter.widget-view+json": {
       "model_id": "",
       "version_major": 2,
       "version_minor": 0
      },
      "text/plain": [
       "HBox(children=(FloatProgress(value=0.0, description='Training', layout=Layout(flex='2'), max=1250.0, style=Pro…"
      ]
     },
     "metadata": {},
     "output_type": "display_data"
    },
    {
     "name": "stdout",
     "output_type": "stream",
     "text": [
      "Epoch 3998: train=7.72797, val=7.78885, took 31.298 s\n",
      "  Validation Found 51368 of 54504, added 1942 (eff 94.25%) (0.194 FP/event)\n"
     ]
    },
    {
     "data": {
      "application/vnd.jupyter.widget-view+json": {
       "model_id": "",
       "version_major": 2,
       "version_minor": 0
      },
      "text/plain": [
       "HBox(children=(FloatProgress(value=0.0, description='Training', layout=Layout(flex='2'), max=1250.0, style=Pro…"
      ]
     },
     "metadata": {},
     "output_type": "display_data"
    },
    {
     "name": "stdout",
     "output_type": "stream",
     "text": [
      "Epoch 3999: train=7.72459, val=7.78613, took 31.198 s\n",
      "  Validation Found 51348 of 54504, added 1882 (eff 94.21%) (0.188 FP/event)\n"
     ]
    },
    {
     "data": {
      "application/vnd.jupyter.widget-view+json": {
       "model_id": "",
       "version_major": 2,
       "version_minor": 0
      },
      "text/plain": [
       "HBox(children=(FloatProgress(value=0.0, description='Training', layout=Layout(flex='2'), max=1250.0, style=Pro…"
      ]
     },
     "metadata": {},
     "output_type": "display_data"
    },
    {
     "name": "stdout",
     "output_type": "stream",
     "text": [
      "Epoch 4000: train=7.72575, val=7.81374, took 31.242 s\n",
      "  Validation Found 51262 of 54504, added 1778 (eff 94.05%) (0.178 FP/event)\n"
     ]
    },
    {
     "data": {
      "application/vnd.jupyter.widget-view+json": {
       "model_id": "",
       "version_major": 2,
       "version_minor": 0
      },
      "text/plain": [
       "HBox(children=(FloatProgress(value=0.0, description='Training', layout=Layout(flex='2'), max=1250.0, style=Pro…"
      ]
     },
     "metadata": {},
     "output_type": "display_data"
    },
    {
     "name": "stdout",
     "output_type": "stream",
     "text": [
      "Epoch 4001: train=7.72245, val=7.76391, took 31.353 s\n",
      "  Validation Found 51378 of 54504, added 1929 (eff 94.26%) (0.193 FP/event)\n"
     ]
    },
    {
     "data": {
      "application/vnd.jupyter.widget-view+json": {
       "model_id": "",
       "version_major": 2,
       "version_minor": 0
      },
      "text/plain": [
       "HBox(children=(FloatProgress(value=0.0, description='Training', layout=Layout(flex='2'), max=1250.0, style=Pro…"
      ]
     },
     "metadata": {},
     "output_type": "display_data"
    },
    {
     "name": "stdout",
     "output_type": "stream",
     "text": [
      "Epoch 4002: train=7.72332, val=7.801, took 31.394 s\n",
      "  Validation Found 51356 of 54504, added 1917 (eff 94.22%) (0.192 FP/event)\n"
     ]
    },
    {
     "data": {
      "application/vnd.jupyter.widget-view+json": {
       "model_id": "",
       "version_major": 2,
       "version_minor": 0
      },
      "text/plain": [
       "HBox(children=(FloatProgress(value=0.0, description='Training', layout=Layout(flex='2'), max=1250.0, style=Pro…"
      ]
     },
     "metadata": {},
     "output_type": "display_data"
    },
    {
     "name": "stdout",
     "output_type": "stream",
     "text": [
      "Epoch 4003: train=7.7198, val=7.81347, took 31.215 s\n",
      "  Validation Found 51278 of 54504, added 1798 (eff 94.08%) (0.18 FP/event)\n"
     ]
    },
    {
     "data": {
      "application/vnd.jupyter.widget-view+json": {
       "model_id": "",
       "version_major": 2,
       "version_minor": 0
      },
      "text/plain": [
       "HBox(children=(FloatProgress(value=0.0, description='Training', layout=Layout(flex='2'), max=1250.0, style=Pro…"
      ]
     },
     "metadata": {},
     "output_type": "display_data"
    },
    {
     "name": "stdout",
     "output_type": "stream",
     "text": [
      "Epoch 4004: train=7.72118, val=7.79603, took 31.661 s\n",
      "  Validation Found 51318 of 54504, added 1852 (eff 94.15%) (0.185 FP/event)\n"
     ]
    },
    {
     "data": {
      "application/vnd.jupyter.widget-view+json": {
       "model_id": "",
       "version_major": 2,
       "version_minor": 0
      },
      "text/plain": [
       "HBox(children=(FloatProgress(value=0.0, description='Training', layout=Layout(flex='2'), max=1250.0, style=Pro…"
      ]
     },
     "metadata": {},
     "output_type": "display_data"
    },
    {
     "name": "stdout",
     "output_type": "stream",
     "text": [
      "Epoch 4005: train=7.7249, val=7.80456, took 31.317 s\n",
      "  Validation Found 51337 of 54504, added 1857 (eff 94.19%) (0.186 FP/event)\n"
     ]
    },
    {
     "data": {
      "application/vnd.jupyter.widget-view+json": {
       "model_id": "",
       "version_major": 2,
       "version_minor": 0
      },
      "text/plain": [
       "HBox(children=(FloatProgress(value=0.0, description='Training', layout=Layout(flex='2'), max=1250.0, style=Pro…"
      ]
     },
     "metadata": {},
     "output_type": "display_data"
    },
    {
     "name": "stdout",
     "output_type": "stream",
     "text": [
      "Epoch 4006: train=7.72875, val=7.78798, took 31.264 s\n",
      "  Validation Found 51330 of 54504, added 1861 (eff 94.18%) (0.186 FP/event)\n"
     ]
    },
    {
     "data": {
      "application/vnd.jupyter.widget-view+json": {
       "model_id": "",
       "version_major": 2,
       "version_minor": 0
      },
      "text/plain": [
       "HBox(children=(FloatProgress(value=0.0, description='Training', layout=Layout(flex='2'), max=1250.0, style=Pro…"
      ]
     },
     "metadata": {},
     "output_type": "display_data"
    },
    {
     "name": "stdout",
     "output_type": "stream",
     "text": [
      "Epoch 4007: train=7.72497, val=7.80524, took 31.235 s\n",
      "  Validation Found 51274 of 54504, added 1814 (eff 94.07%) (0.182 FP/event)\n"
     ]
    },
    {
     "data": {
      "application/vnd.jupyter.widget-view+json": {
       "model_id": "",
       "version_major": 2,
       "version_minor": 0
      },
      "text/plain": [
       "HBox(children=(FloatProgress(value=0.0, description='Training', layout=Layout(flex='2'), max=1250.0, style=Pro…"
      ]
     },
     "metadata": {},
     "output_type": "display_data"
    },
    {
     "name": "stdout",
     "output_type": "stream",
     "text": [
      "Epoch 4008: train=7.72146, val=7.79719, took 31.391 s\n",
      "  Validation Found 51328 of 54504, added 1859 (eff 94.17%) (0.186 FP/event)\n"
     ]
    },
    {
     "data": {
      "application/vnd.jupyter.widget-view+json": {
       "model_id": "",
       "version_major": 2,
       "version_minor": 0
      },
      "text/plain": [
       "HBox(children=(FloatProgress(value=0.0, description='Training', layout=Layout(flex='2'), max=1250.0, style=Pro…"
      ]
     },
     "metadata": {},
     "output_type": "display_data"
    },
    {
     "name": "stdout",
     "output_type": "stream",
     "text": [
      "Epoch 4009: train=7.72126, val=7.7842, took 31.184 s\n",
      "  Validation Found 51372 of 54504, added 1923 (eff 94.25%) (0.193 FP/event)\n"
     ]
    },
    {
     "data": {
      "application/vnd.jupyter.widget-view+json": {
       "model_id": "",
       "version_major": 2,
       "version_minor": 0
      },
      "text/plain": [
       "HBox(children=(FloatProgress(value=0.0, description='Training', layout=Layout(flex='2'), max=1250.0, style=Pro…"
      ]
     },
     "metadata": {},
     "output_type": "display_data"
    },
    {
     "name": "stdout",
     "output_type": "stream",
     "text": [
      "Epoch 4010: train=7.72568, val=7.80167, took 31.198 s\n",
      "  Validation Found 51338 of 54504, added 1890 (eff 94.19%) (0.189 FP/event)\n"
     ]
    },
    {
     "data": {
      "application/vnd.jupyter.widget-view+json": {
       "model_id": "",
       "version_major": 2,
       "version_minor": 0
      },
      "text/plain": [
       "HBox(children=(FloatProgress(value=0.0, description='Training', layout=Layout(flex='2'), max=1250.0, style=Pro…"
      ]
     },
     "metadata": {},
     "output_type": "display_data"
    },
    {
     "name": "stdout",
     "output_type": "stream",
     "text": [
      "Epoch 4011: train=7.72021, val=7.82111, took 31.171 s\n",
      "  Validation Found 51253 of 54504, added 1747 (eff 94.04%) (0.175 FP/event)\n"
     ]
    },
    {
     "data": {
      "application/vnd.jupyter.widget-view+json": {
       "model_id": "",
       "version_major": 2,
       "version_minor": 0
      },
      "text/plain": [
       "HBox(children=(FloatProgress(value=0.0, description='Training', layout=Layout(flex='2'), max=1250.0, style=Pro…"
      ]
     },
     "metadata": {},
     "output_type": "display_data"
    },
    {
     "name": "stdout",
     "output_type": "stream",
     "text": [
      "Epoch 4012: train=7.72445, val=7.79076, took 31.281 s\n",
      "  Validation Found 51288 of 54504, added 1802 (eff 94.10%) (0.18 FP/event)\n"
     ]
    },
    {
     "data": {
      "application/vnd.jupyter.widget-view+json": {
       "model_id": "",
       "version_major": 2,
       "version_minor": 0
      },
      "text/plain": [
       "HBox(children=(FloatProgress(value=0.0, description='Training', layout=Layout(flex='2'), max=1250.0, style=Pro…"
      ]
     },
     "metadata": {},
     "output_type": "display_data"
    },
    {
     "name": "stdout",
     "output_type": "stream",
     "text": [
      "Epoch 4013: train=7.72471, val=7.78518, took 31.282 s\n",
      "  Validation Found 51344 of 54504, added 1900 (eff 94.20%) (0.19 FP/event)\n"
     ]
    },
    {
     "data": {
      "application/vnd.jupyter.widget-view+json": {
       "model_id": "",
       "version_major": 2,
       "version_minor": 0
      },
      "text/plain": [
       "HBox(children=(FloatProgress(value=0.0, description='Training', layout=Layout(flex='2'), max=1250.0, style=Pro…"
      ]
     },
     "metadata": {},
     "output_type": "display_data"
    },
    {
     "name": "stdout",
     "output_type": "stream",
     "text": [
      "Epoch 4014: train=7.7246, val=7.78536, took 31.35 s\n",
      "  Validation Found 51303 of 54504, added 1846 (eff 94.13%) (0.185 FP/event)\n"
     ]
    },
    {
     "data": {
      "application/vnd.jupyter.widget-view+json": {
       "model_id": "",
       "version_major": 2,
       "version_minor": 0
      },
      "text/plain": [
       "HBox(children=(FloatProgress(value=0.0, description='Training', layout=Layout(flex='2'), max=1250.0, style=Pro…"
      ]
     },
     "metadata": {},
     "output_type": "display_data"
    },
    {
     "name": "stdout",
     "output_type": "stream",
     "text": [
      "Epoch 4015: train=7.72656, val=7.80436, took 31.343 s\n",
      "  Validation Found 51288 of 54504, added 1799 (eff 94.10%) (0.18 FP/event)\n"
     ]
    },
    {
     "data": {
      "application/vnd.jupyter.widget-view+json": {
       "model_id": "",
       "version_major": 2,
       "version_minor": 0
      },
      "text/plain": [
       "HBox(children=(FloatProgress(value=0.0, description='Training', layout=Layout(flex='2'), max=1250.0, style=Pro…"
      ]
     },
     "metadata": {},
     "output_type": "display_data"
    },
    {
     "name": "stdout",
     "output_type": "stream",
     "text": [
      "Epoch 4016: train=7.72429, val=7.78909, took 31.289 s\n",
      "  Validation Found 51298 of 54504, added 1849 (eff 94.12%) (0.185 FP/event)\n"
     ]
    },
    {
     "data": {
      "application/vnd.jupyter.widget-view+json": {
       "model_id": "",
       "version_major": 2,
       "version_minor": 0
      },
      "text/plain": [
       "HBox(children=(FloatProgress(value=0.0, description='Training', layout=Layout(flex='2'), max=1250.0, style=Pro…"
      ]
     },
     "metadata": {},
     "output_type": "display_data"
    },
    {
     "name": "stdout",
     "output_type": "stream",
     "text": [
      "Epoch 4017: train=7.72425, val=7.78459, took 31.431 s\n",
      "  Validation Found 51372 of 54504, added 1946 (eff 94.25%) (0.195 FP/event)\n"
     ]
    },
    {
     "data": {
      "application/vnd.jupyter.widget-view+json": {
       "model_id": "",
       "version_major": 2,
       "version_minor": 0
      },
      "text/plain": [
       "HBox(children=(FloatProgress(value=0.0, description='Training', layout=Layout(flex='2'), max=1250.0, style=Pro…"
      ]
     },
     "metadata": {},
     "output_type": "display_data"
    },
    {
     "name": "stdout",
     "output_type": "stream",
     "text": [
      "Epoch 4018: train=7.72666, val=7.79447, took 31.059 s\n",
      "  Validation Found 51309 of 54504, added 1844 (eff 94.14%) (0.185 FP/event)\n"
     ]
    },
    {
     "data": {
      "application/vnd.jupyter.widget-view+json": {
       "model_id": "",
       "version_major": 2,
       "version_minor": 0
      },
      "text/plain": [
       "HBox(children=(FloatProgress(value=0.0, description='Training', layout=Layout(flex='2'), max=1250.0, style=Pro…"
      ]
     },
     "metadata": {},
     "output_type": "display_data"
    },
    {
     "name": "stdout",
     "output_type": "stream",
     "text": [
      "Epoch 4019: train=7.72474, val=7.79851, took 31.174 s\n",
      "  Validation Found 51329 of 54504, added 1874 (eff 94.17%) (0.188 FP/event)\n"
     ]
    },
    {
     "data": {
      "application/vnd.jupyter.widget-view+json": {
       "model_id": "",
       "version_major": 2,
       "version_minor": 0
      },
      "text/plain": [
       "HBox(children=(FloatProgress(value=0.0, description='Training', layout=Layout(flex='2'), max=1250.0, style=Pro…"
      ]
     },
     "metadata": {},
     "output_type": "display_data"
    },
    {
     "name": "stdout",
     "output_type": "stream",
     "text": [
      "Epoch 4020: train=7.72549, val=7.78272, took 31.244 s\n",
      "  Validation Found 51323 of 54504, added 1882 (eff 94.16%) (0.188 FP/event)\n"
     ]
    },
    {
     "data": {
      "application/vnd.jupyter.widget-view+json": {
       "model_id": "",
       "version_major": 2,
       "version_minor": 0
      },
      "text/plain": [
       "HBox(children=(FloatProgress(value=0.0, description='Training', layout=Layout(flex='2'), max=1250.0, style=Pro…"
      ]
     },
     "metadata": {},
     "output_type": "display_data"
    },
    {
     "name": "stdout",
     "output_type": "stream",
     "text": [
      "Epoch 4021: train=7.72732, val=7.77886, took 31.363 s\n",
      "  Validation Found 51376 of 54504, added 1922 (eff 94.26%) (0.192 FP/event)\n"
     ]
    },
    {
     "data": {
      "application/vnd.jupyter.widget-view+json": {
       "model_id": "",
       "version_major": 2,
       "version_minor": 0
      },
      "text/plain": [
       "HBox(children=(FloatProgress(value=0.0, description='Training', layout=Layout(flex='2'), max=1250.0, style=Pro…"
      ]
     },
     "metadata": {},
     "output_type": "display_data"
    },
    {
     "name": "stdout",
     "output_type": "stream",
     "text": [
      "Epoch 4022: train=7.72796, val=7.79329, took 31.355 s\n",
      "  Validation Found 51299 of 54504, added 1818 (eff 94.12%) (0.182 FP/event)\n"
     ]
    },
    {
     "data": {
      "application/vnd.jupyter.widget-view+json": {
       "model_id": "",
       "version_major": 2,
       "version_minor": 0
      },
      "text/plain": [
       "HBox(children=(FloatProgress(value=0.0, description='Training', layout=Layout(flex='2'), max=1250.0, style=Pro…"
      ]
     },
     "metadata": {},
     "output_type": "display_data"
    },
    {
     "name": "stdout",
     "output_type": "stream",
     "text": [
      "Epoch 4023: train=7.72944, val=7.80303, took 31.674 s\n",
      "  Validation Found 51338 of 54504, added 1878 (eff 94.19%) (0.188 FP/event)\n"
     ]
    },
    {
     "data": {
      "application/vnd.jupyter.widget-view+json": {
       "model_id": "",
       "version_major": 2,
       "version_minor": 0
      },
      "text/plain": [
       "HBox(children=(FloatProgress(value=0.0, description='Training', layout=Layout(flex='2'), max=1250.0, style=Pro…"
      ]
     },
     "metadata": {},
     "output_type": "display_data"
    },
    {
     "name": "stdout",
     "output_type": "stream",
     "text": [
      "Epoch 4024: train=7.72721, val=7.7953, took 31.646 s\n",
      "  Validation Found 51316 of 54504, added 1849 (eff 94.15%) (0.185 FP/event)\n"
     ]
    },
    {
     "data": {
      "application/vnd.jupyter.widget-view+json": {
       "model_id": "",
       "version_major": 2,
       "version_minor": 0
      },
      "text/plain": [
       "HBox(children=(FloatProgress(value=0.0, description='Training', layout=Layout(flex='2'), max=1250.0, style=Pro…"
      ]
     },
     "metadata": {},
     "output_type": "display_data"
    },
    {
     "name": "stdout",
     "output_type": "stream",
     "text": [
      "Epoch 4025: train=7.72219, val=7.81562, took 31.044 s\n",
      "  Validation Found 51266 of 54504, added 1767 (eff 94.06%) (0.177 FP/event)\n"
     ]
    },
    {
     "data": {
      "application/vnd.jupyter.widget-view+json": {
       "model_id": "",
       "version_major": 2,
       "version_minor": 0
      },
      "text/plain": [
       "HBox(children=(FloatProgress(value=0.0, description='Training', layout=Layout(flex='2'), max=1250.0, style=Pro…"
      ]
     },
     "metadata": {},
     "output_type": "display_data"
    },
    {
     "name": "stdout",
     "output_type": "stream",
     "text": [
      "Epoch 4026: train=7.71951, val=7.79665, took 31.108 s\n",
      "  Validation Found 51408 of 54504, added 2010 (eff 94.32%) (0.201 FP/event)\n"
     ]
    },
    {
     "data": {
      "application/vnd.jupyter.widget-view+json": {
       "model_id": "",
       "version_major": 2,
       "version_minor": 0
      },
      "text/plain": [
       "HBox(children=(FloatProgress(value=0.0, description='Training', layout=Layout(flex='2'), max=1250.0, style=Pro…"
      ]
     },
     "metadata": {},
     "output_type": "display_data"
    },
    {
     "name": "stdout",
     "output_type": "stream",
     "text": [
      "Epoch 4027: train=7.725, val=7.79205, took 31.073 s\n",
      "  Validation Found 51315 of 54504, added 1857 (eff 94.15%) (0.186 FP/event)\n"
     ]
    },
    {
     "data": {
      "application/vnd.jupyter.widget-view+json": {
       "model_id": "",
       "version_major": 2,
       "version_minor": 0
      },
      "text/plain": [
       "HBox(children=(FloatProgress(value=0.0, description='Training', layout=Layout(flex='2'), max=1250.0, style=Pro…"
      ]
     },
     "metadata": {},
     "output_type": "display_data"
    },
    {
     "name": "stdout",
     "output_type": "stream",
     "text": [
      "Epoch 4028: train=7.72979, val=7.79426, took 31.121 s\n",
      "  Validation Found 51336 of 54504, added 1873 (eff 94.19%) (0.188 FP/event)\n"
     ]
    },
    {
     "data": {
      "application/vnd.jupyter.widget-view+json": {
       "model_id": "",
       "version_major": 2,
       "version_minor": 0
      },
      "text/plain": [
       "HBox(children=(FloatProgress(value=0.0, description='Training', layout=Layout(flex='2'), max=1250.0, style=Pro…"
      ]
     },
     "metadata": {},
     "output_type": "display_data"
    },
    {
     "name": "stdout",
     "output_type": "stream",
     "text": [
      "Epoch 4029: train=7.72847, val=7.80434, took 31.283 s\n",
      "  Validation Found 51304 of 54504, added 1825 (eff 94.13%) (0.183 FP/event)\n"
     ]
    },
    {
     "data": {
      "application/vnd.jupyter.widget-view+json": {
       "model_id": "",
       "version_major": 2,
       "version_minor": 0
      },
      "text/plain": [
       "HBox(children=(FloatProgress(value=0.0, description='Training', layout=Layout(flex='2'), max=1250.0, style=Pro…"
      ]
     },
     "metadata": {},
     "output_type": "display_data"
    },
    {
     "name": "stdout",
     "output_type": "stream",
     "text": [
      "Epoch 4030: train=7.7277, val=7.79783, took 31.363 s\n",
      "  Validation Found 51286 of 54504, added 1816 (eff 94.10%) (0.182 FP/event)\n"
     ]
    },
    {
     "data": {
      "application/vnd.jupyter.widget-view+json": {
       "model_id": "",
       "version_major": 2,
       "version_minor": 0
      },
      "text/plain": [
       "HBox(children=(FloatProgress(value=0.0, description='Training', layout=Layout(flex='2'), max=1250.0, style=Pro…"
      ]
     },
     "metadata": {},
     "output_type": "display_data"
    },
    {
     "name": "stdout",
     "output_type": "stream",
     "text": [
      "Epoch 4031: train=7.72562, val=7.78056, took 31.271 s\n",
      "  Validation Found 51345 of 54504, added 1888 (eff 94.20%) (0.189 FP/event)\n"
     ]
    },
    {
     "data": {
      "application/vnd.jupyter.widget-view+json": {
       "model_id": "",
       "version_major": 2,
       "version_minor": 0
      },
      "text/plain": [
       "HBox(children=(FloatProgress(value=0.0, description='Training', layout=Layout(flex='2'), max=1250.0, style=Pro…"
      ]
     },
     "metadata": {},
     "output_type": "display_data"
    },
    {
     "name": "stdout",
     "output_type": "stream",
     "text": [
      "Epoch 4032: train=7.72513, val=7.7955, took 31.634 s\n",
      "  Validation Found 51319 of 54504, added 1832 (eff 94.16%) (0.183 FP/event)\n"
     ]
    },
    {
     "data": {
      "application/vnd.jupyter.widget-view+json": {
       "model_id": "",
       "version_major": 2,
       "version_minor": 0
      },
      "text/plain": [
       "HBox(children=(FloatProgress(value=0.0, description='Training', layout=Layout(flex='2'), max=1250.0, style=Pro…"
      ]
     },
     "metadata": {},
     "output_type": "display_data"
    },
    {
     "name": "stdout",
     "output_type": "stream",
     "text": [
      "Epoch 4033: train=7.72404, val=7.79833, took 31.247 s\n",
      "  Validation Found 51313 of 54504, added 1839 (eff 94.15%) (0.184 FP/event)\n"
     ]
    },
    {
     "data": {
      "application/vnd.jupyter.widget-view+json": {
       "model_id": "",
       "version_major": 2,
       "version_minor": 0
      },
      "text/plain": [
       "HBox(children=(FloatProgress(value=0.0, description='Training', layout=Layout(flex='2'), max=1250.0, style=Pro…"
      ]
     },
     "metadata": {},
     "output_type": "display_data"
    },
    {
     "name": "stdout",
     "output_type": "stream",
     "text": [
      "Epoch 4034: train=7.72603, val=7.79505, took 31.253 s\n",
      "  Validation Found 51324 of 54504, added 1868 (eff 94.17%) (0.187 FP/event)\n"
     ]
    },
    {
     "data": {
      "application/vnd.jupyter.widget-view+json": {
       "model_id": "",
       "version_major": 2,
       "version_minor": 0
      },
      "text/plain": [
       "HBox(children=(FloatProgress(value=0.0, description='Training', layout=Layout(flex='2'), max=1250.0, style=Pro…"
      ]
     },
     "metadata": {},
     "output_type": "display_data"
    },
    {
     "name": "stdout",
     "output_type": "stream",
     "text": [
      "Epoch 4035: train=7.72287, val=7.80367, took 31.264 s\n",
      "  Validation Found 51292 of 54504, added 1820 (eff 94.11%) (0.182 FP/event)\n"
     ]
    },
    {
     "data": {
      "application/vnd.jupyter.widget-view+json": {
       "model_id": "",
       "version_major": 2,
       "version_minor": 0
      },
      "text/plain": [
       "HBox(children=(FloatProgress(value=0.0, description='Training', layout=Layout(flex='2'), max=1250.0, style=Pro…"
      ]
     },
     "metadata": {},
     "output_type": "display_data"
    },
    {
     "name": "stdout",
     "output_type": "stream",
     "text": [
      "Epoch 4036: train=7.72344, val=7.80261, took 31.261 s\n",
      "  Validation Found 51296 of 54504, added 1827 (eff 94.11%) (0.183 FP/event)\n"
     ]
    },
    {
     "data": {
      "application/vnd.jupyter.widget-view+json": {
       "model_id": "",
       "version_major": 2,
       "version_minor": 0
      },
      "text/plain": [
       "HBox(children=(FloatProgress(value=0.0, description='Training', layout=Layout(flex='2'), max=1250.0, style=Pro…"
      ]
     },
     "metadata": {},
     "output_type": "display_data"
    },
    {
     "name": "stdout",
     "output_type": "stream",
     "text": [
      "Epoch 4037: train=7.72538, val=7.76919, took 31.302 s\n",
      "  Validation Found 51335 of 54504, added 1869 (eff 94.19%) (0.187 FP/event)\n"
     ]
    },
    {
     "data": {
      "application/vnd.jupyter.widget-view+json": {
       "model_id": "",
       "version_major": 2,
       "version_minor": 0
      },
      "text/plain": [
       "HBox(children=(FloatProgress(value=0.0, description='Training', layout=Layout(flex='2'), max=1250.0, style=Pro…"
      ]
     },
     "metadata": {},
     "output_type": "display_data"
    },
    {
     "name": "stdout",
     "output_type": "stream",
     "text": [
      "Epoch 4038: train=7.72524, val=7.80238, took 31.16 s\n",
      "  Validation Found 51329 of 54504, added 1858 (eff 94.17%) (0.186 FP/event)\n"
     ]
    },
    {
     "data": {
      "application/vnd.jupyter.widget-view+json": {
       "model_id": "",
       "version_major": 2,
       "version_minor": 0
      },
      "text/plain": [
       "HBox(children=(FloatProgress(value=0.0, description='Training', layout=Layout(flex='2'), max=1250.0, style=Pro…"
      ]
     },
     "metadata": {},
     "output_type": "display_data"
    },
    {
     "name": "stdout",
     "output_type": "stream",
     "text": [
      "Epoch 4039: train=7.72388, val=7.83006, took 31.159 s\n",
      "  Validation Found 51221 of 54504, added 1723 (eff 93.98%) (0.173 FP/event)\n"
     ]
    },
    {
     "data": {
      "application/vnd.jupyter.widget-view+json": {
       "model_id": "",
       "version_major": 2,
       "version_minor": 0
      },
      "text/plain": [
       "HBox(children=(FloatProgress(value=0.0, description='Training', layout=Layout(flex='2'), max=1250.0, style=Pro…"
      ]
     },
     "metadata": {},
     "output_type": "display_data"
    },
    {
     "name": "stdout",
     "output_type": "stream",
     "text": [
      "Epoch 4040: train=7.72193, val=7.79649, took 31.256 s\n",
      "  Validation Found 51308 of 54504, added 1834 (eff 94.14%) (0.184 FP/event)\n"
     ]
    },
    {
     "data": {
      "application/vnd.jupyter.widget-view+json": {
       "model_id": "",
       "version_major": 2,
       "version_minor": 0
      },
      "text/plain": [
       "HBox(children=(FloatProgress(value=0.0, description='Training', layout=Layout(flex='2'), max=1250.0, style=Pro…"
      ]
     },
     "metadata": {},
     "output_type": "display_data"
    },
    {
     "name": "stdout",
     "output_type": "stream",
     "text": [
      "Epoch 4041: train=7.72507, val=7.78489, took 31.215 s\n",
      "  Validation Found 51325 of 54504, added 1873 (eff 94.17%) (0.188 FP/event)\n"
     ]
    },
    {
     "data": {
      "application/vnd.jupyter.widget-view+json": {
       "model_id": "",
       "version_major": 2,
       "version_minor": 0
      },
      "text/plain": [
       "HBox(children=(FloatProgress(value=0.0, description='Training', layout=Layout(flex='2'), max=1250.0, style=Pro…"
      ]
     },
     "metadata": {},
     "output_type": "display_data"
    },
    {
     "name": "stdout",
     "output_type": "stream",
     "text": [
      "Epoch 4042: train=7.72457, val=7.78266, took 31.118 s\n",
      "  Validation Found 51335 of 54504, added 1853 (eff 94.19%) (0.186 FP/event)\n"
     ]
    },
    {
     "data": {
      "application/vnd.jupyter.widget-view+json": {
       "model_id": "",
       "version_major": 2,
       "version_minor": 0
      },
      "text/plain": [
       "HBox(children=(FloatProgress(value=0.0, description='Training', layout=Layout(flex='2'), max=1250.0, style=Pro…"
      ]
     },
     "metadata": {},
     "output_type": "display_data"
    },
    {
     "name": "stdout",
     "output_type": "stream",
     "text": [
      "Epoch 4043: train=7.72282, val=7.8034, took 31.411 s\n",
      "  Validation Found 51310 of 54504, added 1848 (eff 94.14%) (0.185 FP/event)\n"
     ]
    },
    {
     "data": {
      "application/vnd.jupyter.widget-view+json": {
       "model_id": "",
       "version_major": 2,
       "version_minor": 0
      },
      "text/plain": [
       "HBox(children=(FloatProgress(value=0.0, description='Training', layout=Layout(flex='2'), max=1250.0, style=Pro…"
      ]
     },
     "metadata": {},
     "output_type": "display_data"
    },
    {
     "name": "stdout",
     "output_type": "stream",
     "text": [
      "Epoch 4044: train=7.72396, val=7.76668, took 31.323 s\n",
      "  Validation Found 51387 of 54504, added 1942 (eff 94.28%) (0.194 FP/event)\n"
     ]
    },
    {
     "data": {
      "application/vnd.jupyter.widget-view+json": {
       "model_id": "",
       "version_major": 2,
       "version_minor": 0
      },
      "text/plain": [
       "HBox(children=(FloatProgress(value=0.0, description='Training', layout=Layout(flex='2'), max=1250.0, style=Pro…"
      ]
     },
     "metadata": {},
     "output_type": "display_data"
    },
    {
     "name": "stdout",
     "output_type": "stream",
     "text": [
      "Epoch 4045: train=7.72473, val=7.80888, took 31.335 s\n",
      "  Validation Found 51251 of 54504, added 1781 (eff 94.03%) (0.178 FP/event)\n"
     ]
    },
    {
     "data": {
      "application/vnd.jupyter.widget-view+json": {
       "model_id": "",
       "version_major": 2,
       "version_minor": 0
      },
      "text/plain": [
       "HBox(children=(FloatProgress(value=0.0, description='Training', layout=Layout(flex='2'), max=1250.0, style=Pro…"
      ]
     },
     "metadata": {},
     "output_type": "display_data"
    },
    {
     "name": "stdout",
     "output_type": "stream",
     "text": [
      "Epoch 4046: train=7.72395, val=7.81825, took 31.173 s\n",
      "  Validation Found 51286 of 54504, added 1789 (eff 94.10%) (0.179 FP/event)\n"
     ]
    },
    {
     "data": {
      "application/vnd.jupyter.widget-view+json": {
       "model_id": "",
       "version_major": 2,
       "version_minor": 0
      },
      "text/plain": [
       "HBox(children=(FloatProgress(value=0.0, description='Training', layout=Layout(flex='2'), max=1250.0, style=Pro…"
      ]
     },
     "metadata": {},
     "output_type": "display_data"
    },
    {
     "name": "stdout",
     "output_type": "stream",
     "text": [
      "Epoch 4047: train=7.72645, val=7.79084, took 31.539 s\n",
      "  Validation Found 51309 of 54504, added 1800 (eff 94.14%) (0.18 FP/event)\n"
     ]
    },
    {
     "data": {
      "application/vnd.jupyter.widget-view+json": {
       "model_id": "",
       "version_major": 2,
       "version_minor": 0
      },
      "text/plain": [
       "HBox(children=(FloatProgress(value=0.0, description='Training', layout=Layout(flex='2'), max=1250.0, style=Pro…"
      ]
     },
     "metadata": {},
     "output_type": "display_data"
    },
    {
     "name": "stdout",
     "output_type": "stream",
     "text": [
      "Epoch 4048: train=7.72209, val=7.83007, took 31.134 s\n",
      "  Validation Found 51233 of 54504, added 1726 (eff 94.00%) (0.173 FP/event)\n"
     ]
    },
    {
     "data": {
      "application/vnd.jupyter.widget-view+json": {
       "model_id": "",
       "version_major": 2,
       "version_minor": 0
      },
      "text/plain": [
       "HBox(children=(FloatProgress(value=0.0, description='Training', layout=Layout(flex='2'), max=1250.0, style=Pro…"
      ]
     },
     "metadata": {},
     "output_type": "display_data"
    },
    {
     "name": "stdout",
     "output_type": "stream",
     "text": [
      "Epoch 4049: train=7.72247, val=7.79004, took 31.229 s\n",
      "  Validation Found 51325 of 54504, added 1870 (eff 94.17%) (0.187 FP/event)\n"
     ]
    },
    {
     "data": {
      "application/vnd.jupyter.widget-view+json": {
       "model_id": "",
       "version_major": 2,
       "version_minor": 0
      },
      "text/plain": [
       "HBox(children=(FloatProgress(value=0.0, description='Training', layout=Layout(flex='2'), max=1250.0, style=Pro…"
      ]
     },
     "metadata": {},
     "output_type": "display_data"
    },
    {
     "name": "stdout",
     "output_type": "stream",
     "text": [
      "Epoch 4050: train=7.7249, val=7.77939, took 31.166 s\n",
      "  Validation Found 51376 of 54504, added 1923 (eff 94.26%) (0.193 FP/event)\n"
     ]
    },
    {
     "data": {
      "application/vnd.jupyter.widget-view+json": {
       "model_id": "",
       "version_major": 2,
       "version_minor": 0
      },
      "text/plain": [
       "HBox(children=(FloatProgress(value=0.0, description='Training', layout=Layout(flex='2'), max=1250.0, style=Pro…"
      ]
     },
     "metadata": {},
     "output_type": "display_data"
    },
    {
     "name": "stdout",
     "output_type": "stream",
     "text": [
      "Epoch 4051: train=7.72303, val=7.78813, took 31.173 s\n",
      "  Validation Found 51306 of 54504, added 1835 (eff 94.13%) (0.184 FP/event)\n"
     ]
    },
    {
     "data": {
      "application/vnd.jupyter.widget-view+json": {
       "model_id": "",
       "version_major": 2,
       "version_minor": 0
      },
      "text/plain": [
       "HBox(children=(FloatProgress(value=0.0, description='Training', layout=Layout(flex='2'), max=1250.0, style=Pro…"
      ]
     },
     "metadata": {},
     "output_type": "display_data"
    },
    {
     "name": "stdout",
     "output_type": "stream",
     "text": [
      "Epoch 4052: train=7.7221, val=7.77729, took 31.254 s\n",
      "  Validation Found 51323 of 54504, added 1854 (eff 94.16%) (0.186 FP/event)\n"
     ]
    },
    {
     "data": {
      "application/vnd.jupyter.widget-view+json": {
       "model_id": "",
       "version_major": 2,
       "version_minor": 0
      },
      "text/plain": [
       "HBox(children=(FloatProgress(value=0.0, description='Training', layout=Layout(flex='2'), max=1250.0, style=Pro…"
      ]
     },
     "metadata": {},
     "output_type": "display_data"
    },
    {
     "name": "stdout",
     "output_type": "stream",
     "text": [
      "Epoch 4053: train=7.72489, val=7.78128, took 31.365 s\n",
      "  Validation Found 51390 of 54504, added 1933 (eff 94.29%) (0.194 FP/event)\n"
     ]
    },
    {
     "data": {
      "application/vnd.jupyter.widget-view+json": {
       "model_id": "",
       "version_major": 2,
       "version_minor": 0
      },
      "text/plain": [
       "HBox(children=(FloatProgress(value=0.0, description='Training', layout=Layout(flex='2'), max=1250.0, style=Pro…"
      ]
     },
     "metadata": {},
     "output_type": "display_data"
    },
    {
     "name": "stdout",
     "output_type": "stream",
     "text": [
      "Epoch 4054: train=7.72372, val=7.81618, took 31.267 s\n",
      "  Validation Found 51241 of 54504, added 1757 (eff 94.01%) (0.176 FP/event)\n"
     ]
    },
    {
     "data": {
      "application/vnd.jupyter.widget-view+json": {
       "model_id": "",
       "version_major": 2,
       "version_minor": 0
      },
      "text/plain": [
       "HBox(children=(FloatProgress(value=0.0, description='Training', layout=Layout(flex='2'), max=1250.0, style=Pro…"
      ]
     },
     "metadata": {},
     "output_type": "display_data"
    },
    {
     "name": "stdout",
     "output_type": "stream",
     "text": [
      "Epoch 4055: train=7.7245, val=7.7986, took 31.116 s\n",
      "  Validation Found 51301 of 54504, added 1839 (eff 94.12%) (0.184 FP/event)\n"
     ]
    },
    {
     "data": {
      "application/vnd.jupyter.widget-view+json": {
       "model_id": "",
       "version_major": 2,
       "version_minor": 0
      },
      "text/plain": [
       "HBox(children=(FloatProgress(value=0.0, description='Training', layout=Layout(flex='2'), max=1250.0, style=Pro…"
      ]
     },
     "metadata": {},
     "output_type": "display_data"
    },
    {
     "name": "stdout",
     "output_type": "stream",
     "text": [
      "Epoch 4056: train=7.72456, val=7.7935, took 31.214 s\n",
      "  Validation Found 51314 of 54504, added 1820 (eff 94.15%) (0.182 FP/event)\n"
     ]
    },
    {
     "data": {
      "application/vnd.jupyter.widget-view+json": {
       "model_id": "",
       "version_major": 2,
       "version_minor": 0
      },
      "text/plain": [
       "HBox(children=(FloatProgress(value=0.0, description='Training', layout=Layout(flex='2'), max=1250.0, style=Pro…"
      ]
     },
     "metadata": {},
     "output_type": "display_data"
    },
    {
     "name": "stdout",
     "output_type": "stream",
     "text": [
      "Epoch 4057: train=7.72111, val=7.79391, took 31.331 s\n",
      "  Validation Found 51325 of 54504, added 1865 (eff 94.17%) (0.187 FP/event)\n"
     ]
    },
    {
     "data": {
      "application/vnd.jupyter.widget-view+json": {
       "model_id": "",
       "version_major": 2,
       "version_minor": 0
      },
      "text/plain": [
       "HBox(children=(FloatProgress(value=0.0, description='Training', layout=Layout(flex='2'), max=1250.0, style=Pro…"
      ]
     },
     "metadata": {},
     "output_type": "display_data"
    },
    {
     "name": "stdout",
     "output_type": "stream",
     "text": [
      "Epoch 4058: train=7.72732, val=7.80553, took 31.336 s\n",
      "  Validation Found 51317 of 54504, added 1854 (eff 94.15%) (0.186 FP/event)\n"
     ]
    },
    {
     "data": {
      "application/vnd.jupyter.widget-view+json": {
       "model_id": "",
       "version_major": 2,
       "version_minor": 0
      },
      "text/plain": [
       "HBox(children=(FloatProgress(value=0.0, description='Training', layout=Layout(flex='2'), max=1250.0, style=Pro…"
      ]
     },
     "metadata": {},
     "output_type": "display_data"
    },
    {
     "name": "stdout",
     "output_type": "stream",
     "text": [
      "Epoch 4059: train=7.72365, val=7.78365, took 31.238 s\n",
      "  Validation Found 51327 of 54504, added 1875 (eff 94.17%) (0.188 FP/event)\n"
     ]
    },
    {
     "data": {
      "application/vnd.jupyter.widget-view+json": {
       "model_id": "",
       "version_major": 2,
       "version_minor": 0
      },
      "text/plain": [
       "HBox(children=(FloatProgress(value=0.0, description='Training', layout=Layout(flex='2'), max=1250.0, style=Pro…"
      ]
     },
     "metadata": {},
     "output_type": "display_data"
    },
    {
     "name": "stdout",
     "output_type": "stream",
     "text": [
      "Epoch 4060: train=7.72272, val=7.79626, took 30.952 s\n",
      "  Validation Found 51368 of 54504, added 1956 (eff 94.25%) (0.196 FP/event)\n"
     ]
    },
    {
     "data": {
      "application/vnd.jupyter.widget-view+json": {
       "model_id": "",
       "version_major": 2,
       "version_minor": 0
      },
      "text/plain": [
       "HBox(children=(FloatProgress(value=0.0, description='Training', layout=Layout(flex='2'), max=1250.0, style=Pro…"
      ]
     },
     "metadata": {},
     "output_type": "display_data"
    },
    {
     "name": "stdout",
     "output_type": "stream",
     "text": [
      "Epoch 4061: train=7.72258, val=7.83079, took 30.853 s\n",
      "  Validation Found 51243 of 54504, added 1761 (eff 94.02%) (0.176 FP/event)\n"
     ]
    },
    {
     "data": {
      "application/vnd.jupyter.widget-view+json": {
       "model_id": "",
       "version_major": 2,
       "version_minor": 0
      },
      "text/plain": [
       "HBox(children=(FloatProgress(value=0.0, description='Training', layout=Layout(flex='2'), max=1250.0, style=Pro…"
      ]
     },
     "metadata": {},
     "output_type": "display_data"
    },
    {
     "name": "stdout",
     "output_type": "stream",
     "text": [
      "Epoch 4062: train=7.72589, val=7.81187, took 30.869 s\n",
      "  Validation Found 51285 of 54504, added 1828 (eff 94.09%) (0.183 FP/event)\n"
     ]
    },
    {
     "data": {
      "application/vnd.jupyter.widget-view+json": {
       "model_id": "",
       "version_major": 2,
       "version_minor": 0
      },
      "text/plain": [
       "HBox(children=(FloatProgress(value=0.0, description='Training', layout=Layout(flex='2'), max=1250.0, style=Pro…"
      ]
     },
     "metadata": {},
     "output_type": "display_data"
    },
    {
     "name": "stdout",
     "output_type": "stream",
     "text": [
      "Epoch 4063: train=7.71982, val=7.80716, took 30.878 s\n",
      "  Validation Found 51285 of 54504, added 1826 (eff 94.09%) (0.183 FP/event)\n"
     ]
    },
    {
     "data": {
      "application/vnd.jupyter.widget-view+json": {
       "model_id": "",
       "version_major": 2,
       "version_minor": 0
      },
      "text/plain": [
       "HBox(children=(FloatProgress(value=0.0, description='Training', layout=Layout(flex='2'), max=1250.0, style=Pro…"
      ]
     },
     "metadata": {},
     "output_type": "display_data"
    },
    {
     "name": "stdout",
     "output_type": "stream",
     "text": [
      "Epoch 4064: train=7.72486, val=7.7749, took 31.148 s\n",
      "  Validation Found 51308 of 54504, added 1857 (eff 94.14%) (0.186 FP/event)\n"
     ]
    },
    {
     "data": {
      "application/vnd.jupyter.widget-view+json": {
       "model_id": "",
       "version_major": 2,
       "version_minor": 0
      },
      "text/plain": [
       "HBox(children=(FloatProgress(value=0.0, description='Training', layout=Layout(flex='2'), max=1250.0, style=Pro…"
      ]
     },
     "metadata": {},
     "output_type": "display_data"
    },
    {
     "name": "stdout",
     "output_type": "stream",
     "text": [
      "Epoch 4065: train=7.72129, val=7.80514, took 31.32 s\n",
      "  Validation Found 51319 of 54504, added 1845 (eff 94.16%) (0.185 FP/event)\n"
     ]
    },
    {
     "data": {
      "application/vnd.jupyter.widget-view+json": {
       "model_id": "",
       "version_major": 2,
       "version_minor": 0
      },
      "text/plain": [
       "HBox(children=(FloatProgress(value=0.0, description='Training', layout=Layout(flex='2'), max=1250.0, style=Pro…"
      ]
     },
     "metadata": {},
     "output_type": "display_data"
    },
    {
     "name": "stdout",
     "output_type": "stream",
     "text": [
      "Epoch 4066: train=7.72532, val=7.77773, took 31.272 s\n",
      "  Validation Found 51363 of 54504, added 1923 (eff 94.24%) (0.193 FP/event)\n"
     ]
    },
    {
     "data": {
      "application/vnd.jupyter.widget-view+json": {
       "model_id": "",
       "version_major": 2,
       "version_minor": 0
      },
      "text/plain": [
       "HBox(children=(FloatProgress(value=0.0, description='Training', layout=Layout(flex='2'), max=1250.0, style=Pro…"
      ]
     },
     "metadata": {},
     "output_type": "display_data"
    },
    {
     "name": "stdout",
     "output_type": "stream",
     "text": [
      "Epoch 4067: train=7.72377, val=7.79438, took 31.192 s\n",
      "  Validation Found 51323 of 54504, added 1855 (eff 94.16%) (0.186 FP/event)\n"
     ]
    },
    {
     "data": {
      "application/vnd.jupyter.widget-view+json": {
       "model_id": "",
       "version_major": 2,
       "version_minor": 0
      },
      "text/plain": [
       "HBox(children=(FloatProgress(value=0.0, description='Training', layout=Layout(flex='2'), max=1250.0, style=Pro…"
      ]
     },
     "metadata": {},
     "output_type": "display_data"
    },
    {
     "name": "stdout",
     "output_type": "stream",
     "text": [
      "Epoch 4068: train=7.72573, val=7.79293, took 31.231 s\n",
      "  Validation Found 51314 of 54504, added 1854 (eff 94.15%) (0.186 FP/event)\n"
     ]
    },
    {
     "data": {
      "application/vnd.jupyter.widget-view+json": {
       "model_id": "",
       "version_major": 2,
       "version_minor": 0
      },
      "text/plain": [
       "HBox(children=(FloatProgress(value=0.0, description='Training', layout=Layout(flex='2'), max=1250.0, style=Pro…"
      ]
     },
     "metadata": {},
     "output_type": "display_data"
    },
    {
     "name": "stdout",
     "output_type": "stream",
     "text": [
      "Epoch 4069: train=7.72272, val=7.79375, took 31.395 s\n",
      "  Validation Found 51318 of 54504, added 1850 (eff 94.15%) (0.185 FP/event)\n"
     ]
    },
    {
     "data": {
      "application/vnd.jupyter.widget-view+json": {
       "model_id": "",
       "version_major": 2,
       "version_minor": 0
      },
      "text/plain": [
       "HBox(children=(FloatProgress(value=0.0, description='Training', layout=Layout(flex='2'), max=1250.0, style=Pro…"
      ]
     },
     "metadata": {},
     "output_type": "display_data"
    },
    {
     "name": "stdout",
     "output_type": "stream",
     "text": [
      "Epoch 4070: train=7.72597, val=7.77966, took 31.134 s\n",
      "  Validation Found 51346 of 54504, added 1902 (eff 94.21%) (0.19 FP/event)\n"
     ]
    },
    {
     "data": {
      "application/vnd.jupyter.widget-view+json": {
       "model_id": "",
       "version_major": 2,
       "version_minor": 0
      },
      "text/plain": [
       "HBox(children=(FloatProgress(value=0.0, description='Training', layout=Layout(flex='2'), max=1250.0, style=Pro…"
      ]
     },
     "metadata": {},
     "output_type": "display_data"
    },
    {
     "name": "stdout",
     "output_type": "stream",
     "text": [
      "Epoch 4071: train=7.72472, val=7.80362, took 31.506 s\n",
      "  Validation Found 51286 of 54504, added 1787 (eff 94.10%) (0.179 FP/event)\n"
     ]
    },
    {
     "data": {
      "application/vnd.jupyter.widget-view+json": {
       "model_id": "",
       "version_major": 2,
       "version_minor": 0
      },
      "text/plain": [
       "HBox(children=(FloatProgress(value=0.0, description='Training', layout=Layout(flex='2'), max=1250.0, style=Pro…"
      ]
     },
     "metadata": {},
     "output_type": "display_data"
    },
    {
     "name": "stdout",
     "output_type": "stream",
     "text": [
      "Epoch 4072: train=7.72511, val=7.78831, took 31.461 s\n",
      "  Validation Found 51301 of 54504, added 1846 (eff 94.12%) (0.185 FP/event)\n"
     ]
    },
    {
     "data": {
      "application/vnd.jupyter.widget-view+json": {
       "model_id": "",
       "version_major": 2,
       "version_minor": 0
      },
      "text/plain": [
       "HBox(children=(FloatProgress(value=0.0, description='Training', layout=Layout(flex='2'), max=1250.0, style=Pro…"
      ]
     },
     "metadata": {},
     "output_type": "display_data"
    },
    {
     "name": "stdout",
     "output_type": "stream",
     "text": [
      "Epoch 4073: train=7.7261, val=7.81785, took 31.168 s\n",
      "  Validation Found 51310 of 54504, added 1849 (eff 94.14%) (0.185 FP/event)\n"
     ]
    },
    {
     "data": {
      "application/vnd.jupyter.widget-view+json": {
       "model_id": "",
       "version_major": 2,
       "version_minor": 0
      },
      "text/plain": [
       "HBox(children=(FloatProgress(value=0.0, description='Training', layout=Layout(flex='2'), max=1250.0, style=Pro…"
      ]
     },
     "metadata": {},
     "output_type": "display_data"
    },
    {
     "name": "stdout",
     "output_type": "stream",
     "text": [
      "Epoch 4074: train=7.72385, val=7.78971, took 31.306 s\n",
      "  Validation Found 51357 of 54504, added 1919 (eff 94.23%) (0.192 FP/event)\n"
     ]
    },
    {
     "data": {
      "application/vnd.jupyter.widget-view+json": {
       "model_id": "",
       "version_major": 2,
       "version_minor": 0
      },
      "text/plain": [
       "HBox(children=(FloatProgress(value=0.0, description='Training', layout=Layout(flex='2'), max=1250.0, style=Pro…"
      ]
     },
     "metadata": {},
     "output_type": "display_data"
    },
    {
     "name": "stdout",
     "output_type": "stream",
     "text": [
      "Epoch 4075: train=7.72227, val=7.80422, took 31.293 s\n",
      "  Validation Found 51277 of 54504, added 1810 (eff 94.08%) (0.181 FP/event)\n"
     ]
    },
    {
     "data": {
      "application/vnd.jupyter.widget-view+json": {
       "model_id": "",
       "version_major": 2,
       "version_minor": 0
      },
      "text/plain": [
       "HBox(children=(FloatProgress(value=0.0, description='Training', layout=Layout(flex='2'), max=1250.0, style=Pro…"
      ]
     },
     "metadata": {},
     "output_type": "display_data"
    },
    {
     "name": "stdout",
     "output_type": "stream",
     "text": [
      "Epoch 4076: train=7.72045, val=7.79547, took 31.171 s\n",
      "  Validation Found 51277 of 54504, added 1775 (eff 94.08%) (0.178 FP/event)\n"
     ]
    },
    {
     "data": {
      "application/vnd.jupyter.widget-view+json": {
       "model_id": "",
       "version_major": 2,
       "version_minor": 0
      },
      "text/plain": [
       "HBox(children=(FloatProgress(value=0.0, description='Training', layout=Layout(flex='2'), max=1250.0, style=Pro…"
      ]
     },
     "metadata": {},
     "output_type": "display_data"
    },
    {
     "name": "stdout",
     "output_type": "stream",
     "text": [
      "Epoch 4077: train=7.72555, val=7.77738, took 31.338 s\n",
      "  Validation Found 51344 of 54504, added 1888 (eff 94.20%) (0.189 FP/event)\n"
     ]
    },
    {
     "data": {
      "application/vnd.jupyter.widget-view+json": {
       "model_id": "",
       "version_major": 2,
       "version_minor": 0
      },
      "text/plain": [
       "HBox(children=(FloatProgress(value=0.0, description='Training', layout=Layout(flex='2'), max=1250.0, style=Pro…"
      ]
     },
     "metadata": {},
     "output_type": "display_data"
    },
    {
     "name": "stdout",
     "output_type": "stream",
     "text": [
      "Epoch 4078: train=7.72262, val=7.78245, took 31.203 s\n",
      "  Validation Found 51350 of 54504, added 1895 (eff 94.21%) (0.19 FP/event)\n"
     ]
    },
    {
     "data": {
      "application/vnd.jupyter.widget-view+json": {
       "model_id": "",
       "version_major": 2,
       "version_minor": 0
      },
      "text/plain": [
       "HBox(children=(FloatProgress(value=0.0, description='Training', layout=Layout(flex='2'), max=1250.0, style=Pro…"
      ]
     },
     "metadata": {},
     "output_type": "display_data"
    },
    {
     "name": "stdout",
     "output_type": "stream",
     "text": [
      "Epoch 4079: train=7.72015, val=7.80322, took 31.202 s\n",
      "  Validation Found 51275 of 54504, added 1780 (eff 94.08%) (0.178 FP/event)\n"
     ]
    },
    {
     "data": {
      "application/vnd.jupyter.widget-view+json": {
       "model_id": "",
       "version_major": 2,
       "version_minor": 0
      },
      "text/plain": [
       "HBox(children=(FloatProgress(value=0.0, description='Training', layout=Layout(flex='2'), max=1250.0, style=Pro…"
      ]
     },
     "metadata": {},
     "output_type": "display_data"
    },
    {
     "name": "stdout",
     "output_type": "stream",
     "text": [
      "Epoch 4080: train=7.72571, val=7.7941, took 31.302 s\n",
      "  Validation Found 51355 of 54504, added 1887 (eff 94.22%) (0.189 FP/event)\n"
     ]
    },
    {
     "data": {
      "application/vnd.jupyter.widget-view+json": {
       "model_id": "",
       "version_major": 2,
       "version_minor": 0
      },
      "text/plain": [
       "HBox(children=(FloatProgress(value=0.0, description='Training', layout=Layout(flex='2'), max=1250.0, style=Pro…"
      ]
     },
     "metadata": {},
     "output_type": "display_data"
    },
    {
     "name": "stdout",
     "output_type": "stream",
     "text": [
      "Epoch 4081: train=7.72323, val=7.81196, took 31.309 s\n",
      "  Validation Found 51266 of 54504, added 1766 (eff 94.06%) (0.177 FP/event)\n"
     ]
    },
    {
     "data": {
      "application/vnd.jupyter.widget-view+json": {
       "model_id": "",
       "version_major": 2,
       "version_minor": 0
      },
      "text/plain": [
       "HBox(children=(FloatProgress(value=0.0, description='Training', layout=Layout(flex='2'), max=1250.0, style=Pro…"
      ]
     },
     "metadata": {},
     "output_type": "display_data"
    },
    {
     "name": "stdout",
     "output_type": "stream",
     "text": [
      "Epoch 4082: train=7.72087, val=7.79756, took 31.216 s\n",
      "  Validation Found 51311 of 54504, added 1826 (eff 94.14%) (0.183 FP/event)\n"
     ]
    },
    {
     "data": {
      "application/vnd.jupyter.widget-view+json": {
       "model_id": "",
       "version_major": 2,
       "version_minor": 0
      },
      "text/plain": [
       "HBox(children=(FloatProgress(value=0.0, description='Training', layout=Layout(flex='2'), max=1250.0, style=Pro…"
      ]
     },
     "metadata": {},
     "output_type": "display_data"
    },
    {
     "name": "stdout",
     "output_type": "stream",
     "text": [
      "Epoch 4083: train=7.7207, val=7.81591, took 31.242 s\n",
      "  Validation Found 51256 of 54504, added 1772 (eff 94.04%) (0.177 FP/event)\n"
     ]
    },
    {
     "data": {
      "application/vnd.jupyter.widget-view+json": {
       "model_id": "",
       "version_major": 2,
       "version_minor": 0
      },
      "text/plain": [
       "HBox(children=(FloatProgress(value=0.0, description='Training', layout=Layout(flex='2'), max=1250.0, style=Pro…"
      ]
     },
     "metadata": {},
     "output_type": "display_data"
    },
    {
     "name": "stdout",
     "output_type": "stream",
     "text": [
      "Epoch 4084: train=7.72568, val=7.79709, took 31.077 s\n",
      "  Validation Found 51309 of 54504, added 1853 (eff 94.14%) (0.186 FP/event)\n"
     ]
    },
    {
     "data": {
      "application/vnd.jupyter.widget-view+json": {
       "model_id": "",
       "version_major": 2,
       "version_minor": 0
      },
      "text/plain": [
       "HBox(children=(FloatProgress(value=0.0, description='Training', layout=Layout(flex='2'), max=1250.0, style=Pro…"
      ]
     },
     "metadata": {},
     "output_type": "display_data"
    },
    {
     "name": "stdout",
     "output_type": "stream",
     "text": [
      "Epoch 4085: train=7.7221, val=7.82043, took 31.335 s\n",
      "  Validation Found 51247 of 54504, added 1755 (eff 94.02%) (0.176 FP/event)\n"
     ]
    },
    {
     "data": {
      "application/vnd.jupyter.widget-view+json": {
       "model_id": "",
       "version_major": 2,
       "version_minor": 0
      },
      "text/plain": [
       "HBox(children=(FloatProgress(value=0.0, description='Training', layout=Layout(flex='2'), max=1250.0, style=Pro…"
      ]
     },
     "metadata": {},
     "output_type": "display_data"
    },
    {
     "name": "stdout",
     "output_type": "stream",
     "text": [
      "Epoch 4086: train=7.72284, val=7.78808, took 31.227 s\n",
      "  Validation Found 51345 of 54504, added 1887 (eff 94.20%) (0.189 FP/event)\n"
     ]
    },
    {
     "data": {
      "application/vnd.jupyter.widget-view+json": {
       "model_id": "",
       "version_major": 2,
       "version_minor": 0
      },
      "text/plain": [
       "HBox(children=(FloatProgress(value=0.0, description='Training', layout=Layout(flex='2'), max=1250.0, style=Pro…"
      ]
     },
     "metadata": {},
     "output_type": "display_data"
    },
    {
     "name": "stdout",
     "output_type": "stream",
     "text": [
      "Epoch 4087: train=7.72571, val=7.79669, took 31.238 s\n",
      "  Validation Found 51330 of 54504, added 1843 (eff 94.18%) (0.185 FP/event)\n"
     ]
    },
    {
     "data": {
      "application/vnd.jupyter.widget-view+json": {
       "model_id": "",
       "version_major": 2,
       "version_minor": 0
      },
      "text/plain": [
       "HBox(children=(FloatProgress(value=0.0, description='Training', layout=Layout(flex='2'), max=1250.0, style=Pro…"
      ]
     },
     "metadata": {},
     "output_type": "display_data"
    },
    {
     "name": "stdout",
     "output_type": "stream",
     "text": [
      "Epoch 4088: train=7.72036, val=7.80119, took 31.352 s\n",
      "  Validation Found 51346 of 54504, added 1909 (eff 94.21%) (0.191 FP/event)\n"
     ]
    },
    {
     "data": {
      "application/vnd.jupyter.widget-view+json": {
       "model_id": "",
       "version_major": 2,
       "version_minor": 0
      },
      "text/plain": [
       "HBox(children=(FloatProgress(value=0.0, description='Training', layout=Layout(flex='2'), max=1250.0, style=Pro…"
      ]
     },
     "metadata": {},
     "output_type": "display_data"
    },
    {
     "name": "stdout",
     "output_type": "stream",
     "text": [
      "Epoch 4089: train=7.72396, val=7.80371, took 31.197 s\n",
      "  Validation Found 51327 of 54504, added 1874 (eff 94.17%) (0.188 FP/event)\n"
     ]
    },
    {
     "data": {
      "application/vnd.jupyter.widget-view+json": {
       "model_id": "",
       "version_major": 2,
       "version_minor": 0
      },
      "text/plain": [
       "HBox(children=(FloatProgress(value=0.0, description='Training', layout=Layout(flex='2'), max=1250.0, style=Pro…"
      ]
     },
     "metadata": {},
     "output_type": "display_data"
    },
    {
     "name": "stdout",
     "output_type": "stream",
     "text": [
      "Epoch 4090: train=7.72558, val=7.79119, took 31.271 s\n",
      "  Validation Found 51335 of 54504, added 1876 (eff 94.19%) (0.188 FP/event)\n"
     ]
    },
    {
     "data": {
      "application/vnd.jupyter.widget-view+json": {
       "model_id": "",
       "version_major": 2,
       "version_minor": 0
      },
      "text/plain": [
       "HBox(children=(FloatProgress(value=0.0, description='Training', layout=Layout(flex='2'), max=1250.0, style=Pro…"
      ]
     },
     "metadata": {},
     "output_type": "display_data"
    },
    {
     "name": "stdout",
     "output_type": "stream",
     "text": [
      "Epoch 4091: train=7.72571, val=7.78437, took 31.369 s\n",
      "  Validation Found 51352 of 54504, added 1918 (eff 94.22%) (0.192 FP/event)\n"
     ]
    },
    {
     "data": {
      "application/vnd.jupyter.widget-view+json": {
       "model_id": "",
       "version_major": 2,
       "version_minor": 0
      },
      "text/plain": [
       "HBox(children=(FloatProgress(value=0.0, description='Training', layout=Layout(flex='2'), max=1250.0, style=Pro…"
      ]
     },
     "metadata": {},
     "output_type": "display_data"
    },
    {
     "name": "stdout",
     "output_type": "stream",
     "text": [
      "Epoch 4092: train=7.72531, val=7.77535, took 31.318 s\n",
      "  Validation Found 51391 of 54504, added 1971 (eff 94.29%) (0.197 FP/event)\n"
     ]
    },
    {
     "data": {
      "application/vnd.jupyter.widget-view+json": {
       "model_id": "",
       "version_major": 2,
       "version_minor": 0
      },
      "text/plain": [
       "HBox(children=(FloatProgress(value=0.0, description='Training', layout=Layout(flex='2'), max=1250.0, style=Pro…"
      ]
     },
     "metadata": {},
     "output_type": "display_data"
    },
    {
     "name": "stdout",
     "output_type": "stream",
     "text": [
      "Epoch 4093: train=7.72635, val=7.79549, took 31.372 s\n",
      "  Validation Found 51313 of 54504, added 1844 (eff 94.15%) (0.185 FP/event)\n"
     ]
    },
    {
     "data": {
      "application/vnd.jupyter.widget-view+json": {
       "model_id": "",
       "version_major": 2,
       "version_minor": 0
      },
      "text/plain": [
       "HBox(children=(FloatProgress(value=0.0, description='Training', layout=Layout(flex='2'), max=1250.0, style=Pro…"
      ]
     },
     "metadata": {},
     "output_type": "display_data"
    },
    {
     "name": "stdout",
     "output_type": "stream",
     "text": [
      "Epoch 4094: train=7.72471, val=7.79887, took 31.254 s\n",
      "  Validation Found 51367 of 54504, added 1933 (eff 94.24%) (0.194 FP/event)\n"
     ]
    },
    {
     "data": {
      "application/vnd.jupyter.widget-view+json": {
       "model_id": "",
       "version_major": 2,
       "version_minor": 0
      },
      "text/plain": [
       "HBox(children=(FloatProgress(value=0.0, description='Training', layout=Layout(flex='2'), max=1250.0, style=Pro…"
      ]
     },
     "metadata": {},
     "output_type": "display_data"
    },
    {
     "name": "stdout",
     "output_type": "stream",
     "text": [
      "Epoch 4095: train=7.72229, val=7.79874, took 31.249 s\n",
      "  Validation Found 51265 of 54504, added 1798 (eff 94.06%) (0.18 FP/event)\n"
     ]
    },
    {
     "data": {
      "application/vnd.jupyter.widget-view+json": {
       "model_id": "",
       "version_major": 2,
       "version_minor": 0
      },
      "text/plain": [
       "HBox(children=(FloatProgress(value=0.0, description='Training', layout=Layout(flex='2'), max=1250.0, style=Pro…"
      ]
     },
     "metadata": {},
     "output_type": "display_data"
    },
    {
     "name": "stdout",
     "output_type": "stream",
     "text": [
      "Epoch 4096: train=7.72483, val=7.80641, took 31.249 s\n",
      "  Validation Found 51277 of 54504, added 1806 (eff 94.08%) (0.181 FP/event)\n"
     ]
    },
    {
     "data": {
      "application/vnd.jupyter.widget-view+json": {
       "model_id": "",
       "version_major": 2,
       "version_minor": 0
      },
      "text/plain": [
       "HBox(children=(FloatProgress(value=0.0, description='Training', layout=Layout(flex='2'), max=1250.0, style=Pro…"
      ]
     },
     "metadata": {},
     "output_type": "display_data"
    },
    {
     "name": "stdout",
     "output_type": "stream",
     "text": [
      "Epoch 4097: train=7.72006, val=7.78227, took 31.133 s\n",
      "  Validation Found 51317 of 54504, added 1836 (eff 94.15%) (0.184 FP/event)\n"
     ]
    },
    {
     "data": {
      "application/vnd.jupyter.widget-view+json": {
       "model_id": "",
       "version_major": 2,
       "version_minor": 0
      },
      "text/plain": [
       "HBox(children=(FloatProgress(value=0.0, description='Training', layout=Layout(flex='2'), max=1250.0, style=Pro…"
      ]
     },
     "metadata": {},
     "output_type": "display_data"
    },
    {
     "name": "stdout",
     "output_type": "stream",
     "text": [
      "Epoch 4098: train=7.72262, val=7.76907, took 31.284 s\n",
      "  Validation Found 51368 of 54504, added 1937 (eff 94.25%) (0.194 FP/event)\n"
     ]
    },
    {
     "data": {
      "application/vnd.jupyter.widget-view+json": {
       "model_id": "",
       "version_major": 2,
       "version_minor": 0
      },
      "text/plain": [
       "HBox(children=(FloatProgress(value=0.0, description='Training', layout=Layout(flex='2'), max=1250.0, style=Pro…"
      ]
     },
     "metadata": {},
     "output_type": "display_data"
    },
    {
     "name": "stdout",
     "output_type": "stream",
     "text": [
      "Epoch 4099: train=7.72218, val=7.80832, took 31.305 s\n",
      "  Validation Found 51283 of 54504, added 1788 (eff 94.09%) (0.179 FP/event)\n"
     ]
    },
    {
     "data": {
      "application/vnd.jupyter.widget-view+json": {
       "model_id": "",
       "version_major": 2,
       "version_minor": 0
      },
      "text/plain": [
       "HBox(children=(FloatProgress(value=0.0, description='Training', layout=Layout(flex='2'), max=1250.0, style=Pro…"
      ]
     },
     "metadata": {},
     "output_type": "display_data"
    },
    {
     "name": "stdout",
     "output_type": "stream",
     "text": [
      "Epoch 4100: train=7.72103, val=7.79076, took 31.231 s\n",
      "  Validation Found 51360 of 54504, added 1890 (eff 94.23%) (0.189 FP/event)\n"
     ]
    },
    {
     "data": {
      "application/vnd.jupyter.widget-view+json": {
       "model_id": "",
       "version_major": 2,
       "version_minor": 0
      },
      "text/plain": [
       "HBox(children=(FloatProgress(value=0.0, description='Training', layout=Layout(flex='2'), max=1250.0, style=Pro…"
      ]
     },
     "metadata": {},
     "output_type": "display_data"
    },
    {
     "name": "stdout",
     "output_type": "stream",
     "text": [
      "Epoch 4101: train=7.72251, val=7.79872, took 31.175 s\n",
      "  Validation Found 51299 of 54504, added 1847 (eff 94.12%) (0.185 FP/event)\n"
     ]
    },
    {
     "data": {
      "application/vnd.jupyter.widget-view+json": {
       "model_id": "",
       "version_major": 2,
       "version_minor": 0
      },
      "text/plain": [
       "HBox(children=(FloatProgress(value=0.0, description='Training', layout=Layout(flex='2'), max=1250.0, style=Pro…"
      ]
     },
     "metadata": {},
     "output_type": "display_data"
    },
    {
     "name": "stdout",
     "output_type": "stream",
     "text": [
      "Epoch 4102: train=7.72731, val=7.78544, took 31.001 s\n",
      "  Validation Found 51343 of 54504, added 1902 (eff 94.20%) (0.19 FP/event)\n"
     ]
    },
    {
     "data": {
      "application/vnd.jupyter.widget-view+json": {
       "model_id": "",
       "version_major": 2,
       "version_minor": 0
      },
      "text/plain": [
       "HBox(children=(FloatProgress(value=0.0, description='Training', layout=Layout(flex='2'), max=1250.0, style=Pro…"
      ]
     },
     "metadata": {},
     "output_type": "display_data"
    },
    {
     "name": "stdout",
     "output_type": "stream",
     "text": [
      "Epoch 4103: train=7.72156, val=7.79317, took 31.127 s\n",
      "  Validation Found 51323 of 54504, added 1870 (eff 94.16%) (0.187 FP/event)\n"
     ]
    },
    {
     "data": {
      "application/vnd.jupyter.widget-view+json": {
       "model_id": "",
       "version_major": 2,
       "version_minor": 0
      },
      "text/plain": [
       "HBox(children=(FloatProgress(value=0.0, description='Training', layout=Layout(flex='2'), max=1250.0, style=Pro…"
      ]
     },
     "metadata": {},
     "output_type": "display_data"
    },
    {
     "name": "stdout",
     "output_type": "stream",
     "text": [
      "Epoch 4104: train=7.7274, val=7.78342, took 31.118 s\n",
      "  Validation Found 51352 of 54504, added 1859 (eff 94.22%) (0.186 FP/event)\n"
     ]
    },
    {
     "data": {
      "application/vnd.jupyter.widget-view+json": {
       "model_id": "",
       "version_major": 2,
       "version_minor": 0
      },
      "text/plain": [
       "HBox(children=(FloatProgress(value=0.0, description='Training', layout=Layout(flex='2'), max=1250.0, style=Pro…"
      ]
     },
     "metadata": {},
     "output_type": "display_data"
    },
    {
     "name": "stdout",
     "output_type": "stream",
     "text": [
      "Epoch 4105: train=7.72557, val=7.80864, took 31.179 s\n",
      "  Validation Found 51280 of 54504, added 1808 (eff 94.08%) (0.181 FP/event)\n"
     ]
    },
    {
     "data": {
      "application/vnd.jupyter.widget-view+json": {
       "model_id": "",
       "version_major": 2,
       "version_minor": 0
      },
      "text/plain": [
       "HBox(children=(FloatProgress(value=0.0, description='Training', layout=Layout(flex='2'), max=1250.0, style=Pro…"
      ]
     },
     "metadata": {},
     "output_type": "display_data"
    },
    {
     "name": "stdout",
     "output_type": "stream",
     "text": [
      "Epoch 4106: train=7.72347, val=7.79199, took 31.256 s\n",
      "  Validation Found 51311 of 54504, added 1847 (eff 94.14%) (0.185 FP/event)\n"
     ]
    },
    {
     "data": {
      "application/vnd.jupyter.widget-view+json": {
       "model_id": "",
       "version_major": 2,
       "version_minor": 0
      },
      "text/plain": [
       "HBox(children=(FloatProgress(value=0.0, description='Training', layout=Layout(flex='2'), max=1250.0, style=Pro…"
      ]
     },
     "metadata": {},
     "output_type": "display_data"
    },
    {
     "name": "stdout",
     "output_type": "stream",
     "text": [
      "Epoch 4107: train=7.72544, val=7.80478, took 31.341 s\n",
      "  Validation Found 51299 of 54504, added 1835 (eff 94.12%) (0.184 FP/event)\n"
     ]
    },
    {
     "data": {
      "application/vnd.jupyter.widget-view+json": {
       "model_id": "",
       "version_major": 2,
       "version_minor": 0
      },
      "text/plain": [
       "HBox(children=(FloatProgress(value=0.0, description='Training', layout=Layout(flex='2'), max=1250.0, style=Pro…"
      ]
     },
     "metadata": {},
     "output_type": "display_data"
    },
    {
     "name": "stdout",
     "output_type": "stream",
     "text": [
      "Epoch 4108: train=7.72506, val=7.80717, took 31.182 s\n",
      "  Validation Found 51253 of 54504, added 1771 (eff 94.04%) (0.177 FP/event)\n"
     ]
    },
    {
     "data": {
      "application/vnd.jupyter.widget-view+json": {
       "model_id": "",
       "version_major": 2,
       "version_minor": 0
      },
      "text/plain": [
       "HBox(children=(FloatProgress(value=0.0, description='Training', layout=Layout(flex='2'), max=1250.0, style=Pro…"
      ]
     },
     "metadata": {},
     "output_type": "display_data"
    },
    {
     "name": "stdout",
     "output_type": "stream",
     "text": [
      "Epoch 4109: train=7.72491, val=7.80392, took 31.343 s\n",
      "  Validation Found 51304 of 54504, added 1846 (eff 94.13%) (0.185 FP/event)\n"
     ]
    },
    {
     "data": {
      "application/vnd.jupyter.widget-view+json": {
       "model_id": "",
       "version_major": 2,
       "version_minor": 0
      },
      "text/plain": [
       "HBox(children=(FloatProgress(value=0.0, description='Training', layout=Layout(flex='2'), max=1250.0, style=Pro…"
      ]
     },
     "metadata": {},
     "output_type": "display_data"
    },
    {
     "name": "stdout",
     "output_type": "stream",
     "text": [
      "Epoch 4110: train=7.72516, val=7.7875, took 31.3 s\n",
      "  Validation Found 51291 of 54504, added 1830 (eff 94.11%) (0.183 FP/event)\n"
     ]
    },
    {
     "data": {
      "application/vnd.jupyter.widget-view+json": {
       "model_id": "",
       "version_major": 2,
       "version_minor": 0
      },
      "text/plain": [
       "HBox(children=(FloatProgress(value=0.0, description='Training', layout=Layout(flex='2'), max=1250.0, style=Pro…"
      ]
     },
     "metadata": {},
     "output_type": "display_data"
    },
    {
     "name": "stdout",
     "output_type": "stream",
     "text": [
      "Epoch 4111: train=7.72541, val=7.77961, took 31.256 s\n",
      "  Validation Found 51341 of 54504, added 1881 (eff 94.20%) (0.188 FP/event)\n"
     ]
    },
    {
     "data": {
      "application/vnd.jupyter.widget-view+json": {
       "model_id": "",
       "version_major": 2,
       "version_minor": 0
      },
      "text/plain": [
       "HBox(children=(FloatProgress(value=0.0, description='Training', layout=Layout(flex='2'), max=1250.0, style=Pro…"
      ]
     },
     "metadata": {},
     "output_type": "display_data"
    },
    {
     "name": "stdout",
     "output_type": "stream",
     "text": [
      "Epoch 4112: train=7.72137, val=7.81537, took 31.285 s\n",
      "  Validation Found 51265 of 54504, added 1781 (eff 94.06%) (0.178 FP/event)\n"
     ]
    },
    {
     "data": {
      "application/vnd.jupyter.widget-view+json": {
       "model_id": "",
       "version_major": 2,
       "version_minor": 0
      },
      "text/plain": [
       "HBox(children=(FloatProgress(value=0.0, description='Training', layout=Layout(flex='2'), max=1250.0, style=Pro…"
      ]
     },
     "metadata": {},
     "output_type": "display_data"
    },
    {
     "name": "stdout",
     "output_type": "stream",
     "text": [
      "Epoch 4113: train=7.72207, val=7.79068, took 31.135 s\n",
      "  Validation Found 51303 of 54504, added 1823 (eff 94.13%) (0.183 FP/event)\n"
     ]
    },
    {
     "data": {
      "application/vnd.jupyter.widget-view+json": {
       "model_id": "",
       "version_major": 2,
       "version_minor": 0
      },
      "text/plain": [
       "HBox(children=(FloatProgress(value=0.0, description='Training', layout=Layout(flex='2'), max=1250.0, style=Pro…"
      ]
     },
     "metadata": {},
     "output_type": "display_data"
    },
    {
     "name": "stdout",
     "output_type": "stream",
     "text": [
      "Epoch 4114: train=7.7234, val=7.79202, took 31.167 s\n",
      "  Validation Found 51321 of 54504, added 1845 (eff 94.16%) (0.185 FP/event)\n"
     ]
    },
    {
     "data": {
      "application/vnd.jupyter.widget-view+json": {
       "model_id": "",
       "version_major": 2,
       "version_minor": 0
      },
      "text/plain": [
       "HBox(children=(FloatProgress(value=0.0, description='Training', layout=Layout(flex='2'), max=1250.0, style=Pro…"
      ]
     },
     "metadata": {},
     "output_type": "display_data"
    },
    {
     "name": "stdout",
     "output_type": "stream",
     "text": [
      "Epoch 4115: train=7.72191, val=7.82298, took 31.107 s\n",
      "  Validation Found 51300 of 54504, added 1833 (eff 94.12%) (0.184 FP/event)\n"
     ]
    },
    {
     "data": {
      "application/vnd.jupyter.widget-view+json": {
       "model_id": "",
       "version_major": 2,
       "version_minor": 0
      },
      "text/plain": [
       "HBox(children=(FloatProgress(value=0.0, description='Training', layout=Layout(flex='2'), max=1250.0, style=Pro…"
      ]
     },
     "metadata": {},
     "output_type": "display_data"
    },
    {
     "name": "stdout",
     "output_type": "stream",
     "text": [
      "Epoch 4116: train=7.72224, val=7.78222, took 30.904 s\n",
      "  Validation Found 51373 of 54504, added 1940 (eff 94.26%) (0.194 FP/event)\n"
     ]
    },
    {
     "data": {
      "application/vnd.jupyter.widget-view+json": {
       "model_id": "",
       "version_major": 2,
       "version_minor": 0
      },
      "text/plain": [
       "HBox(children=(FloatProgress(value=0.0, description='Training', layout=Layout(flex='2'), max=1250.0, style=Pro…"
      ]
     },
     "metadata": {},
     "output_type": "display_data"
    },
    {
     "name": "stdout",
     "output_type": "stream",
     "text": [
      "Epoch 4117: train=7.72285, val=7.80069, took 30.903 s\n",
      "  Validation Found 51315 of 54504, added 1835 (eff 94.15%) (0.184 FP/event)\n"
     ]
    },
    {
     "data": {
      "application/vnd.jupyter.widget-view+json": {
       "model_id": "",
       "version_major": 2,
       "version_minor": 0
      },
      "text/plain": [
       "HBox(children=(FloatProgress(value=0.0, description='Training', layout=Layout(flex='2'), max=1250.0, style=Pro…"
      ]
     },
     "metadata": {},
     "output_type": "display_data"
    },
    {
     "name": "stdout",
     "output_type": "stream",
     "text": [
      "Epoch 4118: train=7.72159, val=7.78707, took 30.889 s\n",
      "  Validation Found 51360 of 54504, added 1872 (eff 94.23%) (0.187 FP/event)\n"
     ]
    },
    {
     "data": {
      "application/vnd.jupyter.widget-view+json": {
       "model_id": "",
       "version_major": 2,
       "version_minor": 0
      },
      "text/plain": [
       "HBox(children=(FloatProgress(value=0.0, description='Training', layout=Layout(flex='2'), max=1250.0, style=Pro…"
      ]
     },
     "metadata": {},
     "output_type": "display_data"
    },
    {
     "name": "stdout",
     "output_type": "stream",
     "text": [
      "Epoch 4119: train=7.72314, val=7.78296, took 31.064 s\n",
      "  Validation Found 51351 of 54504, added 1901 (eff 94.22%) (0.19 FP/event)\n"
     ]
    },
    {
     "data": {
      "application/vnd.jupyter.widget-view+json": {
       "model_id": "",
       "version_major": 2,
       "version_minor": 0
      },
      "text/plain": [
       "HBox(children=(FloatProgress(value=0.0, description='Training', layout=Layout(flex='2'), max=1250.0, style=Pro…"
      ]
     },
     "metadata": {},
     "output_type": "display_data"
    },
    {
     "name": "stdout",
     "output_type": "stream",
     "text": [
      "Epoch 4120: train=7.723, val=7.76257, took 31.182 s\n",
      "  Validation Found 51372 of 54504, added 1965 (eff 94.25%) (0.197 FP/event)\n"
     ]
    },
    {
     "data": {
      "application/vnd.jupyter.widget-view+json": {
       "model_id": "",
       "version_major": 2,
       "version_minor": 0
      },
      "text/plain": [
       "HBox(children=(FloatProgress(value=0.0, description='Training', layout=Layout(flex='2'), max=1250.0, style=Pro…"
      ]
     },
     "metadata": {},
     "output_type": "display_data"
    },
    {
     "name": "stdout",
     "output_type": "stream",
     "text": [
      "Epoch 4121: train=7.72493, val=7.79644, took 31.293 s\n",
      "  Validation Found 51285 of 54504, added 1793 (eff 94.09%) (0.18 FP/event)\n"
     ]
    },
    {
     "data": {
      "application/vnd.jupyter.widget-view+json": {
       "model_id": "",
       "version_major": 2,
       "version_minor": 0
      },
      "text/plain": [
       "HBox(children=(FloatProgress(value=0.0, description='Training', layout=Layout(flex='2'), max=1250.0, style=Pro…"
      ]
     },
     "metadata": {},
     "output_type": "display_data"
    },
    {
     "name": "stdout",
     "output_type": "stream",
     "text": [
      "Epoch 4122: train=7.72146, val=7.78291, took 31.355 s\n",
      "  Validation Found 51348 of 54504, added 1904 (eff 94.21%) (0.191 FP/event)\n"
     ]
    },
    {
     "data": {
      "application/vnd.jupyter.widget-view+json": {
       "model_id": "",
       "version_major": 2,
       "version_minor": 0
      },
      "text/plain": [
       "HBox(children=(FloatProgress(value=0.0, description='Training', layout=Layout(flex='2'), max=1250.0, style=Pro…"
      ]
     },
     "metadata": {},
     "output_type": "display_data"
    },
    {
     "name": "stdout",
     "output_type": "stream",
     "text": [
      "Epoch 4123: train=7.7247, val=7.80122, took 31.162 s\n",
      "  Validation Found 51272 of 54504, added 1781 (eff 94.07%) (0.178 FP/event)\n"
     ]
    },
    {
     "data": {
      "application/vnd.jupyter.widget-view+json": {
       "model_id": "",
       "version_major": 2,
       "version_minor": 0
      },
      "text/plain": [
       "HBox(children=(FloatProgress(value=0.0, description='Training', layout=Layout(flex='2'), max=1250.0, style=Pro…"
      ]
     },
     "metadata": {},
     "output_type": "display_data"
    },
    {
     "name": "stdout",
     "output_type": "stream",
     "text": [
      "Epoch 4124: train=7.72408, val=7.80475, took 31.215 s\n",
      "  Validation Found 51260 of 54504, added 1786 (eff 94.05%) (0.179 FP/event)\n"
     ]
    },
    {
     "data": {
      "application/vnd.jupyter.widget-view+json": {
       "model_id": "",
       "version_major": 2,
       "version_minor": 0
      },
      "text/plain": [
       "HBox(children=(FloatProgress(value=0.0, description='Training', layout=Layout(flex='2'), max=1250.0, style=Pro…"
      ]
     },
     "metadata": {},
     "output_type": "display_data"
    },
    {
     "name": "stdout",
     "output_type": "stream",
     "text": [
      "Epoch 4125: train=7.72, val=7.80165, took 31.266 s\n",
      "  Validation Found 51304 of 54504, added 1828 (eff 94.13%) (0.183 FP/event)\n"
     ]
    },
    {
     "data": {
      "application/vnd.jupyter.widget-view+json": {
       "model_id": "",
       "version_major": 2,
       "version_minor": 0
      },
      "text/plain": [
       "HBox(children=(FloatProgress(value=0.0, description='Training', layout=Layout(flex='2'), max=1250.0, style=Pro…"
      ]
     },
     "metadata": {},
     "output_type": "display_data"
    },
    {
     "name": "stdout",
     "output_type": "stream",
     "text": [
      "Epoch 4126: train=7.72153, val=7.81095, took 31.349 s\n",
      "  Validation Found 51265 of 54504, added 1770 (eff 94.06%) (0.177 FP/event)\n"
     ]
    },
    {
     "data": {
      "application/vnd.jupyter.widget-view+json": {
       "model_id": "",
       "version_major": 2,
       "version_minor": 0
      },
      "text/plain": [
       "HBox(children=(FloatProgress(value=0.0, description='Training', layout=Layout(flex='2'), max=1250.0, style=Pro…"
      ]
     },
     "metadata": {},
     "output_type": "display_data"
    },
    {
     "name": "stdout",
     "output_type": "stream",
     "text": [
      "Epoch 4127: train=7.71924, val=7.80163, took 31.179 s\n",
      "  Validation Found 51291 of 54504, added 1792 (eff 94.11%) (0.179 FP/event)\n"
     ]
    },
    {
     "data": {
      "application/vnd.jupyter.widget-view+json": {
       "model_id": "",
       "version_major": 2,
       "version_minor": 0
      },
      "text/plain": [
       "HBox(children=(FloatProgress(value=0.0, description='Training', layout=Layout(flex='2'), max=1250.0, style=Pro…"
      ]
     },
     "metadata": {},
     "output_type": "display_data"
    },
    {
     "name": "stdout",
     "output_type": "stream",
     "text": [
      "Epoch 4128: train=7.71898, val=7.79761, took 31.54 s\n",
      "  Validation Found 51319 of 54504, added 1836 (eff 94.16%) (0.184 FP/event)\n"
     ]
    },
    {
     "data": {
      "application/vnd.jupyter.widget-view+json": {
       "model_id": "",
       "version_major": 2,
       "version_minor": 0
      },
      "text/plain": [
       "HBox(children=(FloatProgress(value=0.0, description='Training', layout=Layout(flex='2'), max=1250.0, style=Pro…"
      ]
     },
     "metadata": {},
     "output_type": "display_data"
    },
    {
     "name": "stdout",
     "output_type": "stream",
     "text": [
      "Epoch 4129: train=7.72356, val=7.79105, took 31.37 s\n",
      "  Validation Found 51313 of 54504, added 1862 (eff 94.15%) (0.186 FP/event)\n"
     ]
    },
    {
     "data": {
      "application/vnd.jupyter.widget-view+json": {
       "model_id": "",
       "version_major": 2,
       "version_minor": 0
      },
      "text/plain": [
       "HBox(children=(FloatProgress(value=0.0, description='Training', layout=Layout(flex='2'), max=1250.0, style=Pro…"
      ]
     },
     "metadata": {},
     "output_type": "display_data"
    },
    {
     "name": "stdout",
     "output_type": "stream",
     "text": [
      "Epoch 4130: train=7.72053, val=7.80234, took 31.718 s\n",
      "  Validation Found 51290 of 54504, added 1807 (eff 94.10%) (0.181 FP/event)\n"
     ]
    },
    {
     "data": {
      "application/vnd.jupyter.widget-view+json": {
       "model_id": "",
       "version_major": 2,
       "version_minor": 0
      },
      "text/plain": [
       "HBox(children=(FloatProgress(value=0.0, description='Training', layout=Layout(flex='2'), max=1250.0, style=Pro…"
      ]
     },
     "metadata": {},
     "output_type": "display_data"
    },
    {
     "name": "stdout",
     "output_type": "stream",
     "text": [
      "Epoch 4131: train=7.7285, val=7.79818, took 31.638 s\n",
      "  Validation Found 51292 of 54504, added 1829 (eff 94.11%) (0.183 FP/event)\n"
     ]
    },
    {
     "data": {
      "application/vnd.jupyter.widget-view+json": {
       "model_id": "",
       "version_major": 2,
       "version_minor": 0
      },
      "text/plain": [
       "HBox(children=(FloatProgress(value=0.0, description='Training', layout=Layout(flex='2'), max=1250.0, style=Pro…"
      ]
     },
     "metadata": {},
     "output_type": "display_data"
    },
    {
     "name": "stdout",
     "output_type": "stream",
     "text": [
      "Epoch 4132: train=7.72756, val=7.80454, took 31.507 s\n",
      "  Validation Found 51276 of 54504, added 1772 (eff 94.08%) (0.177 FP/event)\n"
     ]
    },
    {
     "data": {
      "application/vnd.jupyter.widget-view+json": {
       "model_id": "",
       "version_major": 2,
       "version_minor": 0
      },
      "text/plain": [
       "HBox(children=(FloatProgress(value=0.0, description='Training', layout=Layout(flex='2'), max=1250.0, style=Pro…"
      ]
     },
     "metadata": {},
     "output_type": "display_data"
    },
    {
     "name": "stdout",
     "output_type": "stream",
     "text": [
      "Epoch 4133: train=7.72555, val=7.78334, took 31.241 s\n",
      "  Validation Found 51356 of 54504, added 1893 (eff 94.22%) (0.19 FP/event)\n"
     ]
    },
    {
     "data": {
      "application/vnd.jupyter.widget-view+json": {
       "model_id": "",
       "version_major": 2,
       "version_minor": 0
      },
      "text/plain": [
       "HBox(children=(FloatProgress(value=0.0, description='Training', layout=Layout(flex='2'), max=1250.0, style=Pro…"
      ]
     },
     "metadata": {},
     "output_type": "display_data"
    },
    {
     "name": "stdout",
     "output_type": "stream",
     "text": [
      "Epoch 4134: train=7.72308, val=7.79277, took 31.225 s\n",
      "  Validation Found 51340 of 54504, added 1866 (eff 94.19%) (0.187 FP/event)\n"
     ]
    },
    {
     "data": {
      "application/vnd.jupyter.widget-view+json": {
       "model_id": "",
       "version_major": 2,
       "version_minor": 0
      },
      "text/plain": [
       "HBox(children=(FloatProgress(value=0.0, description='Training', layout=Layout(flex='2'), max=1250.0, style=Pro…"
      ]
     },
     "metadata": {},
     "output_type": "display_data"
    },
    {
     "name": "stdout",
     "output_type": "stream",
     "text": [
      "Epoch 4135: train=7.72049, val=7.78044, took 31.066 s\n",
      "  Validation Found 51355 of 54504, added 1899 (eff 94.22%) (0.19 FP/event)\n"
     ]
    },
    {
     "data": {
      "application/vnd.jupyter.widget-view+json": {
       "model_id": "",
       "version_major": 2,
       "version_minor": 0
      },
      "text/plain": [
       "HBox(children=(FloatProgress(value=0.0, description='Training', layout=Layout(flex='2'), max=1250.0, style=Pro…"
      ]
     },
     "metadata": {},
     "output_type": "display_data"
    },
    {
     "name": "stdout",
     "output_type": "stream",
     "text": [
      "Epoch 4136: train=7.72263, val=7.7897, took 31.183 s\n",
      "  Validation Found 51309 of 54504, added 1822 (eff 94.14%) (0.182 FP/event)\n"
     ]
    },
    {
     "data": {
      "application/vnd.jupyter.widget-view+json": {
       "model_id": "",
       "version_major": 2,
       "version_minor": 0
      },
      "text/plain": [
       "HBox(children=(FloatProgress(value=0.0, description='Training', layout=Layout(flex='2'), max=1250.0, style=Pro…"
      ]
     },
     "metadata": {},
     "output_type": "display_data"
    },
    {
     "name": "stdout",
     "output_type": "stream",
     "text": [
      "Epoch 4137: train=7.72321, val=7.82305, took 31.394 s\n",
      "  Validation Found 51268 of 54504, added 1778 (eff 94.06%) (0.178 FP/event)\n"
     ]
    },
    {
     "data": {
      "application/vnd.jupyter.widget-view+json": {
       "model_id": "",
       "version_major": 2,
       "version_minor": 0
      },
      "text/plain": [
       "HBox(children=(FloatProgress(value=0.0, description='Training', layout=Layout(flex='2'), max=1250.0, style=Pro…"
      ]
     },
     "metadata": {},
     "output_type": "display_data"
    },
    {
     "name": "stdout",
     "output_type": "stream",
     "text": [
      "Epoch 4138: train=7.7205, val=7.76701, took 31.201 s\n",
      "  Validation Found 51398 of 54504, added 1977 (eff 94.30%) (0.198 FP/event)\n"
     ]
    },
    {
     "data": {
      "application/vnd.jupyter.widget-view+json": {
       "model_id": "",
       "version_major": 2,
       "version_minor": 0
      },
      "text/plain": [
       "HBox(children=(FloatProgress(value=0.0, description='Training', layout=Layout(flex='2'), max=1250.0, style=Pro…"
      ]
     },
     "metadata": {},
     "output_type": "display_data"
    },
    {
     "name": "stdout",
     "output_type": "stream",
     "text": [
      "Epoch 4139: train=7.72471, val=7.7999, took 31.482 s\n",
      "  Validation Found 51286 of 54504, added 1803 (eff 94.10%) (0.181 FP/event)\n"
     ]
    },
    {
     "data": {
      "application/vnd.jupyter.widget-view+json": {
       "model_id": "",
       "version_major": 2,
       "version_minor": 0
      },
      "text/plain": [
       "HBox(children=(FloatProgress(value=0.0, description='Training', layout=Layout(flex='2'), max=1250.0, style=Pro…"
      ]
     },
     "metadata": {},
     "output_type": "display_data"
    },
    {
     "name": "stdout",
     "output_type": "stream",
     "text": [
      "Epoch 4140: train=7.72262, val=7.78707, took 31.491 s\n",
      "  Validation Found 51306 of 54504, added 1854 (eff 94.13%) (0.186 FP/event)\n"
     ]
    },
    {
     "data": {
      "application/vnd.jupyter.widget-view+json": {
       "model_id": "",
       "version_major": 2,
       "version_minor": 0
      },
      "text/plain": [
       "HBox(children=(FloatProgress(value=0.0, description='Training', layout=Layout(flex='2'), max=1250.0, style=Pro…"
      ]
     },
     "metadata": {},
     "output_type": "display_data"
    },
    {
     "name": "stdout",
     "output_type": "stream",
     "text": [
      "Epoch 4141: train=7.71923, val=7.77926, took 31.462 s\n",
      "  Validation Found 51345 of 54504, added 1890 (eff 94.20%) (0.189 FP/event)\n"
     ]
    },
    {
     "data": {
      "application/vnd.jupyter.widget-view+json": {
       "model_id": "",
       "version_major": 2,
       "version_minor": 0
      },
      "text/plain": [
       "HBox(children=(FloatProgress(value=0.0, description='Training', layout=Layout(flex='2'), max=1250.0, style=Pro…"
      ]
     },
     "metadata": {},
     "output_type": "display_data"
    },
    {
     "name": "stdout",
     "output_type": "stream",
     "text": [
      "Epoch 4142: train=7.71729, val=7.8209, took 31.159 s\n",
      "  Validation Found 51263 of 54504, added 1780 (eff 94.05%) (0.178 FP/event)\n"
     ]
    },
    {
     "data": {
      "application/vnd.jupyter.widget-view+json": {
       "model_id": "",
       "version_major": 2,
       "version_minor": 0
      },
      "text/plain": [
       "HBox(children=(FloatProgress(value=0.0, description='Training', layout=Layout(flex='2'), max=1250.0, style=Pro…"
      ]
     },
     "metadata": {},
     "output_type": "display_data"
    },
    {
     "name": "stdout",
     "output_type": "stream",
     "text": [
      "Epoch 4143: train=7.72314, val=7.79841, took 31.073 s\n",
      "  Validation Found 51311 of 54504, added 1883 (eff 94.14%) (0.189 FP/event)\n"
     ]
    },
    {
     "data": {
      "application/vnd.jupyter.widget-view+json": {
       "model_id": "",
       "version_major": 2,
       "version_minor": 0
      },
      "text/plain": [
       "HBox(children=(FloatProgress(value=0.0, description='Training', layout=Layout(flex='2'), max=1250.0, style=Pro…"
      ]
     },
     "metadata": {},
     "output_type": "display_data"
    },
    {
     "name": "stdout",
     "output_type": "stream",
     "text": [
      "Epoch 4144: train=7.72637, val=7.79868, took 30.923 s\n",
      "  Validation Found 51335 of 54504, added 1876 (eff 94.19%) (0.188 FP/event)\n"
     ]
    },
    {
     "data": {
      "application/vnd.jupyter.widget-view+json": {
       "model_id": "",
       "version_major": 2,
       "version_minor": 0
      },
      "text/plain": [
       "HBox(children=(FloatProgress(value=0.0, description='Training', layout=Layout(flex='2'), max=1250.0, style=Pro…"
      ]
     },
     "metadata": {},
     "output_type": "display_data"
    },
    {
     "name": "stdout",
     "output_type": "stream",
     "text": [
      "Epoch 4145: train=7.72491, val=7.80865, took 31.345 s\n",
      "  Validation Found 51289 of 54504, added 1807 (eff 94.10%) (0.181 FP/event)\n"
     ]
    },
    {
     "data": {
      "application/vnd.jupyter.widget-view+json": {
       "model_id": "",
       "version_major": 2,
       "version_minor": 0
      },
      "text/plain": [
       "HBox(children=(FloatProgress(value=0.0, description='Training', layout=Layout(flex='2'), max=1250.0, style=Pro…"
      ]
     },
     "metadata": {},
     "output_type": "display_data"
    },
    {
     "name": "stdout",
     "output_type": "stream",
     "text": [
      "Epoch 4146: train=7.72792, val=7.81037, took 31.162 s\n",
      "  Validation Found 51235 of 54504, added 1703 (eff 94.00%) (0.171 FP/event)\n"
     ]
    },
    {
     "data": {
      "application/vnd.jupyter.widget-view+json": {
       "model_id": "",
       "version_major": 2,
       "version_minor": 0
      },
      "text/plain": [
       "HBox(children=(FloatProgress(value=0.0, description='Training', layout=Layout(flex='2'), max=1250.0, style=Pro…"
      ]
     },
     "metadata": {},
     "output_type": "display_data"
    },
    {
     "name": "stdout",
     "output_type": "stream",
     "text": [
      "Epoch 4147: train=7.72508, val=7.79593, took 31.186 s\n",
      "  Validation Found 51280 of 54504, added 1796 (eff 94.08%) (0.18 FP/event)\n"
     ]
    },
    {
     "data": {
      "application/vnd.jupyter.widget-view+json": {
       "model_id": "",
       "version_major": 2,
       "version_minor": 0
      },
      "text/plain": [
       "HBox(children=(FloatProgress(value=0.0, description='Training', layout=Layout(flex='2'), max=1250.0, style=Pro…"
      ]
     },
     "metadata": {},
     "output_type": "display_data"
    },
    {
     "name": "stdout",
     "output_type": "stream",
     "text": [
      "Epoch 4148: train=7.72, val=7.77303, took 31.374 s\n",
      "  Validation Found 51339 of 54504, added 1883 (eff 94.19%) (0.189 FP/event)\n"
     ]
    },
    {
     "data": {
      "application/vnd.jupyter.widget-view+json": {
       "model_id": "",
       "version_major": 2,
       "version_minor": 0
      },
      "text/plain": [
       "HBox(children=(FloatProgress(value=0.0, description='Training', layout=Layout(flex='2'), max=1250.0, style=Pro…"
      ]
     },
     "metadata": {},
     "output_type": "display_data"
    },
    {
     "name": "stdout",
     "output_type": "stream",
     "text": [
      "Epoch 4149: train=7.7249, val=7.77797, took 31.27 s\n",
      "  Validation Found 51348 of 54504, added 1885 (eff 94.21%) (0.189 FP/event)\n"
     ]
    },
    {
     "data": {
      "application/vnd.jupyter.widget-view+json": {
       "model_id": "",
       "version_major": 2,
       "version_minor": 0
      },
      "text/plain": [
       "HBox(children=(FloatProgress(value=0.0, description='Training', layout=Layout(flex='2'), max=1250.0, style=Pro…"
      ]
     },
     "metadata": {},
     "output_type": "display_data"
    },
    {
     "name": "stdout",
     "output_type": "stream",
     "text": [
      "Epoch 4150: train=7.72285, val=7.77666, took 31.523 s\n",
      "  Validation Found 51357 of 54504, added 1925 (eff 94.23%) (0.193 FP/event)\n"
     ]
    },
    {
     "data": {
      "application/vnd.jupyter.widget-view+json": {
       "model_id": "",
       "version_major": 2,
       "version_minor": 0
      },
      "text/plain": [
       "HBox(children=(FloatProgress(value=0.0, description='Training', layout=Layout(flex='2'), max=1250.0, style=Pro…"
      ]
     },
     "metadata": {},
     "output_type": "display_data"
    },
    {
     "name": "stdout",
     "output_type": "stream",
     "text": [
      "Epoch 4151: train=7.7205, val=7.78699, took 31.217 s\n",
      "  Validation Found 51335 of 54504, added 1872 (eff 94.19%) (0.187 FP/event)\n"
     ]
    },
    {
     "data": {
      "application/vnd.jupyter.widget-view+json": {
       "model_id": "",
       "version_major": 2,
       "version_minor": 0
      },
      "text/plain": [
       "HBox(children=(FloatProgress(value=0.0, description='Training', layout=Layout(flex='2'), max=1250.0, style=Pro…"
      ]
     },
     "metadata": {},
     "output_type": "display_data"
    },
    {
     "name": "stdout",
     "output_type": "stream",
     "text": [
      "Epoch 4152: train=7.7256, val=7.76804, took 31.206 s\n",
      "  Validation Found 51389 of 54504, added 1969 (eff 94.28%) (0.197 FP/event)\n"
     ]
    },
    {
     "data": {
      "application/vnd.jupyter.widget-view+json": {
       "model_id": "",
       "version_major": 2,
       "version_minor": 0
      },
      "text/plain": [
       "HBox(children=(FloatProgress(value=0.0, description='Training', layout=Layout(flex='2'), max=1250.0, style=Pro…"
      ]
     },
     "metadata": {},
     "output_type": "display_data"
    },
    {
     "name": "stdout",
     "output_type": "stream",
     "text": [
      "Epoch 4153: train=7.72815, val=7.80045, took 31.267 s\n",
      "  Validation Found 51313 of 54504, added 1860 (eff 94.15%) (0.186 FP/event)\n"
     ]
    },
    {
     "data": {
      "application/vnd.jupyter.widget-view+json": {
       "model_id": "",
       "version_major": 2,
       "version_minor": 0
      },
      "text/plain": [
       "HBox(children=(FloatProgress(value=0.0, description='Training', layout=Layout(flex='2'), max=1250.0, style=Pro…"
      ]
     },
     "metadata": {},
     "output_type": "display_data"
    },
    {
     "name": "stdout",
     "output_type": "stream",
     "text": [
      "Epoch 4154: train=7.72504, val=7.81644, took 31.334 s\n",
      "  Validation Found 51294 of 54504, added 1803 (eff 94.11%) (0.181 FP/event)\n"
     ]
    },
    {
     "data": {
      "application/vnd.jupyter.widget-view+json": {
       "model_id": "",
       "version_major": 2,
       "version_minor": 0
      },
      "text/plain": [
       "HBox(children=(FloatProgress(value=0.0, description='Training', layout=Layout(flex='2'), max=1250.0, style=Pro…"
      ]
     },
     "metadata": {},
     "output_type": "display_data"
    },
    {
     "name": "stdout",
     "output_type": "stream",
     "text": [
      "Epoch 4155: train=7.72308, val=7.79709, took 31.411 s\n",
      "  Validation Found 51284 of 54504, added 1788 (eff 94.09%) (0.179 FP/event)\n"
     ]
    },
    {
     "data": {
      "application/vnd.jupyter.widget-view+json": {
       "model_id": "",
       "version_major": 2,
       "version_minor": 0
      },
      "text/plain": [
       "HBox(children=(FloatProgress(value=0.0, description='Training', layout=Layout(flex='2'), max=1250.0, style=Pro…"
      ]
     },
     "metadata": {},
     "output_type": "display_data"
    },
    {
     "name": "stdout",
     "output_type": "stream",
     "text": [
      "Epoch 4156: train=7.72414, val=7.8089, took 31.28 s\n",
      "  Validation Found 51279 of 54504, added 1783 (eff 94.08%) (0.179 FP/event)\n"
     ]
    },
    {
     "data": {
      "application/vnd.jupyter.widget-view+json": {
       "model_id": "",
       "version_major": 2,
       "version_minor": 0
      },
      "text/plain": [
       "HBox(children=(FloatProgress(value=0.0, description='Training', layout=Layout(flex='2'), max=1250.0, style=Pro…"
      ]
     },
     "metadata": {},
     "output_type": "display_data"
    },
    {
     "name": "stdout",
     "output_type": "stream",
     "text": [
      "Epoch 4157: train=7.72114, val=7.80688, took 31.688 s\n",
      "  Validation Found 51263 of 54504, added 1797 (eff 94.05%) (0.18 FP/event)\n"
     ]
    },
    {
     "data": {
      "application/vnd.jupyter.widget-view+json": {
       "model_id": "",
       "version_major": 2,
       "version_minor": 0
      },
      "text/plain": [
       "HBox(children=(FloatProgress(value=0.0, description='Training', layout=Layout(flex='2'), max=1250.0, style=Pro…"
      ]
     },
     "metadata": {},
     "output_type": "display_data"
    },
    {
     "name": "stdout",
     "output_type": "stream",
     "text": [
      "Epoch 4158: train=7.72167, val=7.82061, took 31.477 s\n",
      "  Validation Found 51252 of 54504, added 1767 (eff 94.03%) (0.177 FP/event)\n"
     ]
    },
    {
     "data": {
      "application/vnd.jupyter.widget-view+json": {
       "model_id": "",
       "version_major": 2,
       "version_minor": 0
      },
      "text/plain": [
       "HBox(children=(FloatProgress(value=0.0, description='Training', layout=Layout(flex='2'), max=1250.0, style=Pro…"
      ]
     },
     "metadata": {},
     "output_type": "display_data"
    },
    {
     "name": "stdout",
     "output_type": "stream",
     "text": [
      "Epoch 4159: train=7.72585, val=7.79392, took 31.292 s\n",
      "  Validation Found 51357 of 54504, added 1915 (eff 94.23%) (0.192 FP/event)\n"
     ]
    },
    {
     "data": {
      "application/vnd.jupyter.widget-view+json": {
       "model_id": "",
       "version_major": 2,
       "version_minor": 0
      },
      "text/plain": [
       "HBox(children=(FloatProgress(value=0.0, description='Training', layout=Layout(flex='2'), max=1250.0, style=Pro…"
      ]
     },
     "metadata": {},
     "output_type": "display_data"
    },
    {
     "name": "stdout",
     "output_type": "stream",
     "text": [
      "Epoch 4160: train=7.72536, val=7.79277, took 31.196 s\n",
      "  Validation Found 51315 of 54504, added 1828 (eff 94.15%) (0.183 FP/event)\n"
     ]
    },
    {
     "data": {
      "application/vnd.jupyter.widget-view+json": {
       "model_id": "",
       "version_major": 2,
       "version_minor": 0
      },
      "text/plain": [
       "HBox(children=(FloatProgress(value=0.0, description='Training', layout=Layout(flex='2'), max=1250.0, style=Pro…"
      ]
     },
     "metadata": {},
     "output_type": "display_data"
    },
    {
     "name": "stdout",
     "output_type": "stream",
     "text": [
      "Epoch 4161: train=7.72286, val=7.78075, took 31.228 s\n",
      "  Validation Found 51338 of 54504, added 1878 (eff 94.19%) (0.188 FP/event)\n"
     ]
    },
    {
     "data": {
      "application/vnd.jupyter.widget-view+json": {
       "model_id": "",
       "version_major": 2,
       "version_minor": 0
      },
      "text/plain": [
       "HBox(children=(FloatProgress(value=0.0, description='Training', layout=Layout(flex='2'), max=1250.0, style=Pro…"
      ]
     },
     "metadata": {},
     "output_type": "display_data"
    },
    {
     "name": "stdout",
     "output_type": "stream",
     "text": [
      "Epoch 4162: train=7.72318, val=7.797, took 31.079 s\n",
      "  Validation Found 51331 of 54504, added 1857 (eff 94.18%) (0.186 FP/event)\n"
     ]
    },
    {
     "data": {
      "application/vnd.jupyter.widget-view+json": {
       "model_id": "",
       "version_major": 2,
       "version_minor": 0
      },
      "text/plain": [
       "HBox(children=(FloatProgress(value=0.0, description='Training', layout=Layout(flex='2'), max=1250.0, style=Pro…"
      ]
     },
     "metadata": {},
     "output_type": "display_data"
    },
    {
     "name": "stdout",
     "output_type": "stream",
     "text": [
      "Epoch 4163: train=7.72625, val=7.8376, took 31.214 s\n",
      "  Validation Found 51235 of 54504, added 1740 (eff 94.00%) (0.174 FP/event)\n"
     ]
    },
    {
     "data": {
      "application/vnd.jupyter.widget-view+json": {
       "model_id": "",
       "version_major": 2,
       "version_minor": 0
      },
      "text/plain": [
       "HBox(children=(FloatProgress(value=0.0, description='Training', layout=Layout(flex='2'), max=1250.0, style=Pro…"
      ]
     },
     "metadata": {},
     "output_type": "display_data"
    },
    {
     "name": "stdout",
     "output_type": "stream",
     "text": [
      "Epoch 4164: train=7.72613, val=7.78819, took 31.177 s\n",
      "  Validation Found 51308 of 54504, added 1836 (eff 94.14%) (0.184 FP/event)\n"
     ]
    },
    {
     "data": {
      "application/vnd.jupyter.widget-view+json": {
       "model_id": "",
       "version_major": 2,
       "version_minor": 0
      },
      "text/plain": [
       "HBox(children=(FloatProgress(value=0.0, description='Training', layout=Layout(flex='2'), max=1250.0, style=Pro…"
      ]
     },
     "metadata": {},
     "output_type": "display_data"
    },
    {
     "name": "stdout",
     "output_type": "stream",
     "text": [
      "Epoch 4165: train=7.72336, val=7.77857, took 31.223 s\n",
      "  Validation Found 51350 of 54504, added 1880 (eff 94.21%) (0.188 FP/event)\n"
     ]
    },
    {
     "data": {
      "application/vnd.jupyter.widget-view+json": {
       "model_id": "",
       "version_major": 2,
       "version_minor": 0
      },
      "text/plain": [
       "HBox(children=(FloatProgress(value=0.0, description='Training', layout=Layout(flex='2'), max=1250.0, style=Pro…"
      ]
     },
     "metadata": {},
     "output_type": "display_data"
    },
    {
     "name": "stdout",
     "output_type": "stream",
     "text": [
      "Epoch 4166: train=7.72429, val=7.777, took 31.281 s\n",
      "  Validation Found 51387 of 54504, added 1938 (eff 94.28%) (0.194 FP/event)\n"
     ]
    },
    {
     "data": {
      "application/vnd.jupyter.widget-view+json": {
       "model_id": "",
       "version_major": 2,
       "version_minor": 0
      },
      "text/plain": [
       "HBox(children=(FloatProgress(value=0.0, description='Training', layout=Layout(flex='2'), max=1250.0, style=Pro…"
      ]
     },
     "metadata": {},
     "output_type": "display_data"
    },
    {
     "name": "stdout",
     "output_type": "stream",
     "text": [
      "Epoch 4167: train=7.72428, val=7.79987, took 31.055 s\n",
      "  Validation Found 51338 of 54504, added 1867 (eff 94.19%) (0.187 FP/event)\n"
     ]
    },
    {
     "data": {
      "application/vnd.jupyter.widget-view+json": {
       "model_id": "",
       "version_major": 2,
       "version_minor": 0
      },
      "text/plain": [
       "HBox(children=(FloatProgress(value=0.0, description='Training', layout=Layout(flex='2'), max=1250.0, style=Pro…"
      ]
     },
     "metadata": {},
     "output_type": "display_data"
    },
    {
     "name": "stdout",
     "output_type": "stream",
     "text": [
      "Epoch 4168: train=7.72309, val=7.78956, took 31.391 s\n",
      "  Validation Found 51340 of 54504, added 1863 (eff 94.19%) (0.187 FP/event)\n"
     ]
    },
    {
     "data": {
      "application/vnd.jupyter.widget-view+json": {
       "model_id": "",
       "version_major": 2,
       "version_minor": 0
      },
      "text/plain": [
       "HBox(children=(FloatProgress(value=0.0, description='Training', layout=Layout(flex='2'), max=1250.0, style=Pro…"
      ]
     },
     "metadata": {},
     "output_type": "display_data"
    },
    {
     "name": "stdout",
     "output_type": "stream",
     "text": [
      "Epoch 4169: train=7.72122, val=7.78175, took 31.327 s\n",
      "  Validation Found 51402 of 54504, added 2024 (eff 94.31%) (0.203 FP/event)\n"
     ]
    },
    {
     "data": {
      "application/vnd.jupyter.widget-view+json": {
       "model_id": "",
       "version_major": 2,
       "version_minor": 0
      },
      "text/plain": [
       "HBox(children=(FloatProgress(value=0.0, description='Training', layout=Layout(flex='2'), max=1250.0, style=Pro…"
      ]
     },
     "metadata": {},
     "output_type": "display_data"
    },
    {
     "name": "stdout",
     "output_type": "stream",
     "text": [
      "Epoch 4170: train=7.72176, val=7.79604, took 31.247 s\n",
      "  Validation Found 51330 of 54504, added 1876 (eff 94.18%) (0.188 FP/event)\n"
     ]
    },
    {
     "data": {
      "application/vnd.jupyter.widget-view+json": {
       "model_id": "",
       "version_major": 2,
       "version_minor": 0
      },
      "text/plain": [
       "HBox(children=(FloatProgress(value=0.0, description='Training', layout=Layout(flex='2'), max=1250.0, style=Pro…"
      ]
     },
     "metadata": {},
     "output_type": "display_data"
    },
    {
     "name": "stdout",
     "output_type": "stream",
     "text": [
      "Epoch 4171: train=7.72397, val=7.78755, took 31.368 s\n",
      "  Validation Found 51307 of 54504, added 1835 (eff 94.13%) (0.184 FP/event)\n"
     ]
    },
    {
     "data": {
      "application/vnd.jupyter.widget-view+json": {
       "model_id": "",
       "version_major": 2,
       "version_minor": 0
      },
      "text/plain": [
       "HBox(children=(FloatProgress(value=0.0, description='Training', layout=Layout(flex='2'), max=1250.0, style=Pro…"
      ]
     },
     "metadata": {},
     "output_type": "display_data"
    },
    {
     "name": "stdout",
     "output_type": "stream",
     "text": [
      "Epoch 4172: train=7.72503, val=7.79885, took 31.315 s\n",
      "  Validation Found 51314 of 54504, added 1836 (eff 94.15%) (0.184 FP/event)\n"
     ]
    },
    {
     "data": {
      "application/vnd.jupyter.widget-view+json": {
       "model_id": "",
       "version_major": 2,
       "version_minor": 0
      },
      "text/plain": [
       "HBox(children=(FloatProgress(value=0.0, description='Training', layout=Layout(flex='2'), max=1250.0, style=Pro…"
      ]
     },
     "metadata": {},
     "output_type": "display_data"
    },
    {
     "name": "stdout",
     "output_type": "stream",
     "text": [
      "Epoch 4173: train=7.72635, val=7.77373, took 31.341 s\n",
      "  Validation Found 51343 of 54504, added 1909 (eff 94.20%) (0.191 FP/event)\n"
     ]
    },
    {
     "data": {
      "application/vnd.jupyter.widget-view+json": {
       "model_id": "",
       "version_major": 2,
       "version_minor": 0
      },
      "text/plain": [
       "HBox(children=(FloatProgress(value=0.0, description='Training', layout=Layout(flex='2'), max=1250.0, style=Pro…"
      ]
     },
     "metadata": {},
     "output_type": "display_data"
    },
    {
     "name": "stdout",
     "output_type": "stream",
     "text": [
      "Epoch 4174: train=7.72047, val=7.80026, took 31.698 s\n",
      "  Validation Found 51290 of 54504, added 1807 (eff 94.10%) (0.181 FP/event)\n"
     ]
    },
    {
     "data": {
      "application/vnd.jupyter.widget-view+json": {
       "model_id": "",
       "version_major": 2,
       "version_minor": 0
      },
      "text/plain": [
       "HBox(children=(FloatProgress(value=0.0, description='Training', layout=Layout(flex='2'), max=1250.0, style=Pro…"
      ]
     },
     "metadata": {},
     "output_type": "display_data"
    },
    {
     "name": "stdout",
     "output_type": "stream",
     "text": [
      "Epoch 4175: train=7.71821, val=7.81557, took 31.822 s\n",
      "  Validation Found 51248 of 54504, added 1764 (eff 94.03%) (0.177 FP/event)\n"
     ]
    },
    {
     "data": {
      "application/vnd.jupyter.widget-view+json": {
       "model_id": "",
       "version_major": 2,
       "version_minor": 0
      },
      "text/plain": [
       "HBox(children=(FloatProgress(value=0.0, description='Training', layout=Layout(flex='2'), max=1250.0, style=Pro…"
      ]
     },
     "metadata": {},
     "output_type": "display_data"
    },
    {
     "name": "stdout",
     "output_type": "stream",
     "text": [
      "Epoch 4176: train=7.72474, val=7.79006, took 31.775 s\n",
      "  Validation Found 51344 of 54504, added 1894 (eff 94.20%) (0.19 FP/event)\n"
     ]
    },
    {
     "data": {
      "application/vnd.jupyter.widget-view+json": {
       "model_id": "",
       "version_major": 2,
       "version_minor": 0
      },
      "text/plain": [
       "HBox(children=(FloatProgress(value=0.0, description='Training', layout=Layout(flex='2'), max=1250.0, style=Pro…"
      ]
     },
     "metadata": {},
     "output_type": "display_data"
    },
    {
     "name": "stdout",
     "output_type": "stream",
     "text": [
      "Epoch 4177: train=7.72224, val=7.78564, took 31.787 s\n",
      "  Validation Found 51356 of 54504, added 1880 (eff 94.22%) (0.188 FP/event)\n"
     ]
    },
    {
     "data": {
      "application/vnd.jupyter.widget-view+json": {
       "model_id": "",
       "version_major": 2,
       "version_minor": 0
      },
      "text/plain": [
       "HBox(children=(FloatProgress(value=0.0, description='Training', layout=Layout(flex='2'), max=1250.0, style=Pro…"
      ]
     },
     "metadata": {},
     "output_type": "display_data"
    },
    {
     "name": "stdout",
     "output_type": "stream",
     "text": [
      "Epoch 4178: train=7.72331, val=7.78789, took 31.687 s\n",
      "  Validation Found 51323 of 54504, added 1853 (eff 94.16%) (0.186 FP/event)\n"
     ]
    },
    {
     "data": {
      "application/vnd.jupyter.widget-view+json": {
       "model_id": "",
       "version_major": 2,
       "version_minor": 0
      },
      "text/plain": [
       "HBox(children=(FloatProgress(value=0.0, description='Training', layout=Layout(flex='2'), max=1250.0, style=Pro…"
      ]
     },
     "metadata": {},
     "output_type": "display_data"
    },
    {
     "name": "stdout",
     "output_type": "stream",
     "text": [
      "Epoch 4179: train=7.72289, val=7.7996, took 31.783 s\n",
      "  Validation Found 51311 of 54504, added 1818 (eff 94.14%) (0.182 FP/event)\n"
     ]
    },
    {
     "data": {
      "application/vnd.jupyter.widget-view+json": {
       "model_id": "",
       "version_major": 2,
       "version_minor": 0
      },
      "text/plain": [
       "HBox(children=(FloatProgress(value=0.0, description='Training', layout=Layout(flex='2'), max=1250.0, style=Pro…"
      ]
     },
     "metadata": {},
     "output_type": "display_data"
    },
    {
     "name": "stdout",
     "output_type": "stream",
     "text": [
      "Epoch 4180: train=7.7227, val=7.7899, took 31.665 s\n",
      "  Validation Found 51332 of 54504, added 1882 (eff 94.18%) (0.188 FP/event)\n"
     ]
    },
    {
     "data": {
      "application/vnd.jupyter.widget-view+json": {
       "model_id": "",
       "version_major": 2,
       "version_minor": 0
      },
      "text/plain": [
       "HBox(children=(FloatProgress(value=0.0, description='Training', layout=Layout(flex='2'), max=1250.0, style=Pro…"
      ]
     },
     "metadata": {},
     "output_type": "display_data"
    },
    {
     "name": "stdout",
     "output_type": "stream",
     "text": [
      "Epoch 4181: train=7.72479, val=7.80138, took 31.697 s\n",
      "  Validation Found 51320 of 54504, added 1886 (eff 94.16%) (0.189 FP/event)\n"
     ]
    },
    {
     "data": {
      "application/vnd.jupyter.widget-view+json": {
       "model_id": "",
       "version_major": 2,
       "version_minor": 0
      },
      "text/plain": [
       "HBox(children=(FloatProgress(value=0.0, description='Training', layout=Layout(flex='2'), max=1250.0, style=Pro…"
      ]
     },
     "metadata": {},
     "output_type": "display_data"
    },
    {
     "name": "stdout",
     "output_type": "stream",
     "text": [
      "Epoch 4182: train=7.72431, val=7.80309, took 31.463 s\n",
      "  Validation Found 51312 of 54504, added 1832 (eff 94.14%) (0.183 FP/event)\n"
     ]
    },
    {
     "data": {
      "application/vnd.jupyter.widget-view+json": {
       "model_id": "",
       "version_major": 2,
       "version_minor": 0
      },
      "text/plain": [
       "HBox(children=(FloatProgress(value=0.0, description='Training', layout=Layout(flex='2'), max=1250.0, style=Pro…"
      ]
     },
     "metadata": {},
     "output_type": "display_data"
    },
    {
     "name": "stdout",
     "output_type": "stream",
     "text": [
      "Epoch 4183: train=7.72272, val=7.77793, took 31.057 s\n",
      "  Validation Found 51334 of 54504, added 1911 (eff 94.18%) (0.191 FP/event)\n"
     ]
    },
    {
     "data": {
      "application/vnd.jupyter.widget-view+json": {
       "model_id": "",
       "version_major": 2,
       "version_minor": 0
      },
      "text/plain": [
       "HBox(children=(FloatProgress(value=0.0, description='Training', layout=Layout(flex='2'), max=1250.0, style=Pro…"
      ]
     },
     "metadata": {},
     "output_type": "display_data"
    },
    {
     "name": "stdout",
     "output_type": "stream",
     "text": [
      "Epoch 4184: train=7.72504, val=7.79176, took 31.408 s\n",
      "  Validation Found 51326 of 54504, added 1858 (eff 94.17%) (0.186 FP/event)\n"
     ]
    },
    {
     "data": {
      "application/vnd.jupyter.widget-view+json": {
       "model_id": "",
       "version_major": 2,
       "version_minor": 0
      },
      "text/plain": [
       "HBox(children=(FloatProgress(value=0.0, description='Training', layout=Layout(flex='2'), max=1250.0, style=Pro…"
      ]
     },
     "metadata": {},
     "output_type": "display_data"
    },
    {
     "name": "stdout",
     "output_type": "stream",
     "text": [
      "Epoch 4185: train=7.72448, val=7.79303, took 31.227 s\n",
      "  Validation Found 51299 of 54504, added 1794 (eff 94.12%) (0.18 FP/event)\n"
     ]
    },
    {
     "data": {
      "application/vnd.jupyter.widget-view+json": {
       "model_id": "",
       "version_major": 2,
       "version_minor": 0
      },
      "text/plain": [
       "HBox(children=(FloatProgress(value=0.0, description='Training', layout=Layout(flex='2'), max=1250.0, style=Pro…"
      ]
     },
     "metadata": {},
     "output_type": "display_data"
    },
    {
     "name": "stdout",
     "output_type": "stream",
     "text": [
      "Epoch 4186: train=7.72439, val=7.78198, took 31.202 s\n",
      "  Validation Found 51335 of 54504, added 1878 (eff 94.19%) (0.188 FP/event)\n"
     ]
    },
    {
     "data": {
      "application/vnd.jupyter.widget-view+json": {
       "model_id": "",
       "version_major": 2,
       "version_minor": 0
      },
      "text/plain": [
       "HBox(children=(FloatProgress(value=0.0, description='Training', layout=Layout(flex='2'), max=1250.0, style=Pro…"
      ]
     },
     "metadata": {},
     "output_type": "display_data"
    },
    {
     "name": "stdout",
     "output_type": "stream",
     "text": [
      "Epoch 4187: train=7.72459, val=7.80876, took 31.223 s\n",
      "  Validation Found 51281 of 54504, added 1778 (eff 94.09%) (0.178 FP/event)\n"
     ]
    },
    {
     "data": {
      "application/vnd.jupyter.widget-view+json": {
       "model_id": "",
       "version_major": 2,
       "version_minor": 0
      },
      "text/plain": [
       "HBox(children=(FloatProgress(value=0.0, description='Training', layout=Layout(flex='2'), max=1250.0, style=Pro…"
      ]
     },
     "metadata": {},
     "output_type": "display_data"
    },
    {
     "name": "stdout",
     "output_type": "stream",
     "text": [
      "Epoch 4188: train=7.72493, val=7.77577, took 31.258 s\n",
      "  Validation Found 51357 of 54504, added 1904 (eff 94.23%) (0.191 FP/event)\n"
     ]
    },
    {
     "data": {
      "application/vnd.jupyter.widget-view+json": {
       "model_id": "",
       "version_major": 2,
       "version_minor": 0
      },
      "text/plain": [
       "HBox(children=(FloatProgress(value=0.0, description='Training', layout=Layout(flex='2'), max=1250.0, style=Pro…"
      ]
     },
     "metadata": {},
     "output_type": "display_data"
    },
    {
     "name": "stdout",
     "output_type": "stream",
     "text": [
      "Epoch 4189: train=7.72449, val=7.80553, took 31.238 s\n",
      "  Validation Found 51284 of 54504, added 1806 (eff 94.09%) (0.181 FP/event)\n"
     ]
    },
    {
     "data": {
      "application/vnd.jupyter.widget-view+json": {
       "model_id": "",
       "version_major": 2,
       "version_minor": 0
      },
      "text/plain": [
       "HBox(children=(FloatProgress(value=0.0, description='Training', layout=Layout(flex='2'), max=1250.0, style=Pro…"
      ]
     },
     "metadata": {},
     "output_type": "display_data"
    },
    {
     "name": "stdout",
     "output_type": "stream",
     "text": [
      "Epoch 4190: train=7.72053, val=7.79571, took 31.198 s\n",
      "  Validation Found 51316 of 54504, added 1847 (eff 94.15%) (0.185 FP/event)\n"
     ]
    },
    {
     "data": {
      "application/vnd.jupyter.widget-view+json": {
       "model_id": "",
       "version_major": 2,
       "version_minor": 0
      },
      "text/plain": [
       "HBox(children=(FloatProgress(value=0.0, description='Training', layout=Layout(flex='2'), max=1250.0, style=Pro…"
      ]
     },
     "metadata": {},
     "output_type": "display_data"
    },
    {
     "name": "stdout",
     "output_type": "stream",
     "text": [
      "Epoch 4191: train=7.72105, val=7.78116, took 31.194 s\n",
      "  Validation Found 51345 of 54504, added 1895 (eff 94.20%) (0.19 FP/event)\n"
     ]
    },
    {
     "data": {
      "application/vnd.jupyter.widget-view+json": {
       "model_id": "",
       "version_major": 2,
       "version_minor": 0
      },
      "text/plain": [
       "HBox(children=(FloatProgress(value=0.0, description='Training', layout=Layout(flex='2'), max=1250.0, style=Pro…"
      ]
     },
     "metadata": {},
     "output_type": "display_data"
    },
    {
     "name": "stdout",
     "output_type": "stream",
     "text": [
      "Epoch 4192: train=7.72144, val=7.78834, took 31.199 s\n",
      "  Validation Found 51330 of 54504, added 1868 (eff 94.18%) (0.187 FP/event)\n"
     ]
    },
    {
     "data": {
      "application/vnd.jupyter.widget-view+json": {
       "model_id": "",
       "version_major": 2,
       "version_minor": 0
      },
      "text/plain": [
       "HBox(children=(FloatProgress(value=0.0, description='Training', layout=Layout(flex='2'), max=1250.0, style=Pro…"
      ]
     },
     "metadata": {},
     "output_type": "display_data"
    },
    {
     "name": "stdout",
     "output_type": "stream",
     "text": [
      "Epoch 4193: train=7.72501, val=7.77162, took 31.224 s\n",
      "  Validation Found 51368 of 54504, added 1936 (eff 94.25%) (0.194 FP/event)\n"
     ]
    },
    {
     "data": {
      "application/vnd.jupyter.widget-view+json": {
       "model_id": "",
       "version_major": 2,
       "version_minor": 0
      },
      "text/plain": [
       "HBox(children=(FloatProgress(value=0.0, description='Training', layout=Layout(flex='2'), max=1250.0, style=Pro…"
      ]
     },
     "metadata": {},
     "output_type": "display_data"
    },
    {
     "name": "stdout",
     "output_type": "stream",
     "text": [
      "Epoch 4194: train=7.72344, val=7.76064, took 31.297 s\n",
      "  Validation Found 51363 of 54504, added 1922 (eff 94.24%) (0.192 FP/event)\n"
     ]
    },
    {
     "data": {
      "application/vnd.jupyter.widget-view+json": {
       "model_id": "",
       "version_major": 2,
       "version_minor": 0
      },
      "text/plain": [
       "HBox(children=(FloatProgress(value=0.0, description='Training', layout=Layout(flex='2'), max=1250.0, style=Pro…"
      ]
     },
     "metadata": {},
     "output_type": "display_data"
    },
    {
     "name": "stdout",
     "output_type": "stream",
     "text": [
      "Epoch 4195: train=7.72352, val=7.78409, took 31.28 s\n",
      "  Validation Found 51354 of 54504, added 1929 (eff 94.22%) (0.193 FP/event)\n"
     ]
    },
    {
     "data": {
      "application/vnd.jupyter.widget-view+json": {
       "model_id": "",
       "version_major": 2,
       "version_minor": 0
      },
      "text/plain": [
       "HBox(children=(FloatProgress(value=0.0, description='Training', layout=Layout(flex='2'), max=1250.0, style=Pro…"
      ]
     },
     "metadata": {},
     "output_type": "display_data"
    },
    {
     "name": "stdout",
     "output_type": "stream",
     "text": [
      "Epoch 4196: train=7.72116, val=7.77977, took 31.53 s\n",
      "  Validation Found 51328 of 54504, added 1882 (eff 94.17%) (0.188 FP/event)\n"
     ]
    },
    {
     "data": {
      "application/vnd.jupyter.widget-view+json": {
       "model_id": "",
       "version_major": 2,
       "version_minor": 0
      },
      "text/plain": [
       "HBox(children=(FloatProgress(value=0.0, description='Training', layout=Layout(flex='2'), max=1250.0, style=Pro…"
      ]
     },
     "metadata": {},
     "output_type": "display_data"
    },
    {
     "name": "stdout",
     "output_type": "stream",
     "text": [
      "Epoch 4197: train=7.72004, val=7.84597, took 31.329 s\n",
      "  Validation Found 51210 of 54504, added 1698 (eff 93.96%) (0.17 FP/event)\n"
     ]
    },
    {
     "data": {
      "application/vnd.jupyter.widget-view+json": {
       "model_id": "",
       "version_major": 2,
       "version_minor": 0
      },
      "text/plain": [
       "HBox(children=(FloatProgress(value=0.0, description='Training', layout=Layout(flex='2'), max=1250.0, style=Pro…"
      ]
     },
     "metadata": {},
     "output_type": "display_data"
    },
    {
     "name": "stdout",
     "output_type": "stream",
     "text": [
      "Epoch 4198: train=7.71954, val=7.82715, took 31.711 s\n",
      "  Validation Found 51259 of 54504, added 1798 (eff 94.05%) (0.18 FP/event)\n"
     ]
    },
    {
     "data": {
      "application/vnd.jupyter.widget-view+json": {
       "model_id": "",
       "version_major": 2,
       "version_minor": 0
      },
      "text/plain": [
       "HBox(children=(FloatProgress(value=0.0, description='Training', layout=Layout(flex='2'), max=1250.0, style=Pro…"
      ]
     },
     "metadata": {},
     "output_type": "display_data"
    },
    {
     "name": "stdout",
     "output_type": "stream",
     "text": [
      "Epoch 4199: train=7.72598, val=7.77183, took 31.881 s\n",
      "  Validation Found 51339 of 54504, added 1914 (eff 94.19%) (0.192 FP/event)\n"
     ]
    },
    {
     "data": {
      "application/vnd.jupyter.widget-view+json": {
       "model_id": "",
       "version_major": 2,
       "version_minor": 0
      },
      "text/plain": [
       "HBox(children=(FloatProgress(value=0.0, description='Training', layout=Layout(flex='2'), max=1250.0, style=Pro…"
      ]
     },
     "metadata": {},
     "output_type": "display_data"
    },
    {
     "name": "stdout",
     "output_type": "stream",
     "text": [
      "Epoch 4200: train=7.72361, val=7.78514, took 31.805 s\n",
      "  Validation Found 51361 of 54504, added 1913 (eff 94.23%) (0.192 FP/event)\n"
     ]
    },
    {
     "data": {
      "application/vnd.jupyter.widget-view+json": {
       "model_id": "",
       "version_major": 2,
       "version_minor": 0
      },
      "text/plain": [
       "HBox(children=(FloatProgress(value=0.0, description='Training', layout=Layout(flex='2'), max=1250.0, style=Pro…"
      ]
     },
     "metadata": {},
     "output_type": "display_data"
    },
    {
     "name": "stdout",
     "output_type": "stream",
     "text": [
      "Epoch 4201: train=7.72659, val=7.79056, took 31.871 s\n",
      "  Validation Found 51333 of 54504, added 1865 (eff 94.18%) (0.187 FP/event)\n"
     ]
    },
    {
     "data": {
      "application/vnd.jupyter.widget-view+json": {
       "model_id": "",
       "version_major": 2,
       "version_minor": 0
      },
      "text/plain": [
       "HBox(children=(FloatProgress(value=0.0, description='Training', layout=Layout(flex='2'), max=1250.0, style=Pro…"
      ]
     },
     "metadata": {},
     "output_type": "display_data"
    },
    {
     "name": "stdout",
     "output_type": "stream",
     "text": [
      "Epoch 4202: train=7.71974, val=7.82102, took 31.798 s\n",
      "  Validation Found 51256 of 54504, added 1789 (eff 94.04%) (0.179 FP/event)\n"
     ]
    },
    {
     "data": {
      "application/vnd.jupyter.widget-view+json": {
       "model_id": "",
       "version_major": 2,
       "version_minor": 0
      },
      "text/plain": [
       "HBox(children=(FloatProgress(value=0.0, description='Training', layout=Layout(flex='2'), max=1250.0, style=Pro…"
      ]
     },
     "metadata": {},
     "output_type": "display_data"
    },
    {
     "name": "stdout",
     "output_type": "stream",
     "text": [
      "Epoch 4203: train=7.72537, val=7.79183, took 31.893 s\n",
      "  Validation Found 51279 of 54504, added 1822 (eff 94.08%) (0.182 FP/event)\n"
     ]
    },
    {
     "data": {
      "application/vnd.jupyter.widget-view+json": {
       "model_id": "",
       "version_major": 2,
       "version_minor": 0
      },
      "text/plain": [
       "HBox(children=(FloatProgress(value=0.0, description='Training', layout=Layout(flex='2'), max=1250.0, style=Pro…"
      ]
     },
     "metadata": {},
     "output_type": "display_data"
    },
    {
     "name": "stdout",
     "output_type": "stream",
     "text": [
      "Epoch 4204: train=7.72688, val=7.79209, took 31.828 s\n",
      "  Validation Found 51313 of 54504, added 1856 (eff 94.15%) (0.186 FP/event)\n"
     ]
    },
    {
     "data": {
      "application/vnd.jupyter.widget-view+json": {
       "model_id": "",
       "version_major": 2,
       "version_minor": 0
      },
      "text/plain": [
       "HBox(children=(FloatProgress(value=0.0, description='Training', layout=Layout(flex='2'), max=1250.0, style=Pro…"
      ]
     },
     "metadata": {},
     "output_type": "display_data"
    },
    {
     "name": "stdout",
     "output_type": "stream",
     "text": [
      "Epoch 4205: train=7.72689, val=7.77511, took 32.055 s\n",
      "  Validation Found 51338 of 54504, added 1871 (eff 94.19%) (0.187 FP/event)\n"
     ]
    },
    {
     "data": {
      "application/vnd.jupyter.widget-view+json": {
       "model_id": "",
       "version_major": 2,
       "version_minor": 0
      },
      "text/plain": [
       "HBox(children=(FloatProgress(value=0.0, description='Training', layout=Layout(flex='2'), max=1250.0, style=Pro…"
      ]
     },
     "metadata": {},
     "output_type": "display_data"
    },
    {
     "name": "stdout",
     "output_type": "stream",
     "text": [
      "Epoch 4206: train=7.72205, val=7.77072, took 31.751 s\n",
      "  Validation Found 51387 of 54504, added 1960 (eff 94.28%) (0.196 FP/event)\n"
     ]
    },
    {
     "data": {
      "application/vnd.jupyter.widget-view+json": {
       "model_id": "",
       "version_major": 2,
       "version_minor": 0
      },
      "text/plain": [
       "HBox(children=(FloatProgress(value=0.0, description='Training', layout=Layout(flex='2'), max=1250.0, style=Pro…"
      ]
     },
     "metadata": {},
     "output_type": "display_data"
    },
    {
     "name": "stdout",
     "output_type": "stream",
     "text": [
      "Epoch 4207: train=7.72221, val=7.80383, took 32.008 s\n",
      "  Validation Found 51284 of 54504, added 1805 (eff 94.09%) (0.181 FP/event)\n"
     ]
    },
    {
     "data": {
      "application/vnd.jupyter.widget-view+json": {
       "model_id": "",
       "version_major": 2,
       "version_minor": 0
      },
      "text/plain": [
       "HBox(children=(FloatProgress(value=0.0, description='Training', layout=Layout(flex='2'), max=1250.0, style=Pro…"
      ]
     },
     "metadata": {},
     "output_type": "display_data"
    },
    {
     "name": "stdout",
     "output_type": "stream",
     "text": [
      "Epoch 4208: train=7.72206, val=7.82327, took 31.738 s\n",
      "  Validation Found 51239 of 54504, added 1738 (eff 94.01%) (0.174 FP/event)\n"
     ]
    },
    {
     "data": {
      "application/vnd.jupyter.widget-view+json": {
       "model_id": "",
       "version_major": 2,
       "version_minor": 0
      },
      "text/plain": [
       "HBox(children=(FloatProgress(value=0.0, description='Training', layout=Layout(flex='2'), max=1250.0, style=Pro…"
      ]
     },
     "metadata": {},
     "output_type": "display_data"
    },
    {
     "name": "stdout",
     "output_type": "stream",
     "text": [
      "Epoch 4209: train=7.72084, val=7.77628, took 32.057 s\n",
      "  Validation Found 51354 of 54504, added 1918 (eff 94.22%) (0.192 FP/event)\n"
     ]
    },
    {
     "data": {
      "application/vnd.jupyter.widget-view+json": {
       "model_id": "",
       "version_major": 2,
       "version_minor": 0
      },
      "text/plain": [
       "HBox(children=(FloatProgress(value=0.0, description='Training', layout=Layout(flex='2'), max=1250.0, style=Pro…"
      ]
     },
     "metadata": {},
     "output_type": "display_data"
    },
    {
     "name": "stdout",
     "output_type": "stream",
     "text": [
      "Epoch 4210: train=7.7271, val=7.77933, took 32.005 s\n",
      "  Validation Found 51346 of 54504, added 1887 (eff 94.21%) (0.189 FP/event)\n"
     ]
    },
    {
     "data": {
      "application/vnd.jupyter.widget-view+json": {
       "model_id": "",
       "version_major": 2,
       "version_minor": 0
      },
      "text/plain": [
       "HBox(children=(FloatProgress(value=0.0, description='Training', layout=Layout(flex='2'), max=1250.0, style=Pro…"
      ]
     },
     "metadata": {},
     "output_type": "display_data"
    },
    {
     "name": "stdout",
     "output_type": "stream",
     "text": [
      "Epoch 4211: train=7.72084, val=7.80413, took 31.959 s\n",
      "  Validation Found 51290 of 54504, added 1800 (eff 94.10%) (0.18 FP/event)\n"
     ]
    },
    {
     "data": {
      "application/vnd.jupyter.widget-view+json": {
       "model_id": "",
       "version_major": 2,
       "version_minor": 0
      },
      "text/plain": [
       "HBox(children=(FloatProgress(value=0.0, description='Training', layout=Layout(flex='2'), max=1250.0, style=Pro…"
      ]
     },
     "metadata": {},
     "output_type": "display_data"
    },
    {
     "name": "stdout",
     "output_type": "stream",
     "text": [
      "Epoch 4212: train=7.72328, val=7.78844, took 32.012 s\n",
      "  Validation Found 51337 of 54504, added 1863 (eff 94.19%) (0.187 FP/event)\n"
     ]
    },
    {
     "data": {
      "application/vnd.jupyter.widget-view+json": {
       "model_id": "",
       "version_major": 2,
       "version_minor": 0
      },
      "text/plain": [
       "HBox(children=(FloatProgress(value=0.0, description='Training', layout=Layout(flex='2'), max=1250.0, style=Pro…"
      ]
     },
     "metadata": {},
     "output_type": "display_data"
    },
    {
     "name": "stdout",
     "output_type": "stream",
     "text": [
      "Epoch 4213: train=7.72309, val=7.81124, took 31.978 s\n",
      "  Validation Found 51314 of 54504, added 1833 (eff 94.15%) (0.184 FP/event)\n"
     ]
    },
    {
     "data": {
      "application/vnd.jupyter.widget-view+json": {
       "model_id": "",
       "version_major": 2,
       "version_minor": 0
      },
      "text/plain": [
       "HBox(children=(FloatProgress(value=0.0, description='Training', layout=Layout(flex='2'), max=1250.0, style=Pro…"
      ]
     },
     "metadata": {},
     "output_type": "display_data"
    },
    {
     "name": "stdout",
     "output_type": "stream",
     "text": [
      "Epoch 4214: train=7.72372, val=7.77787, took 31.936 s\n",
      "  Validation Found 51333 of 54504, added 1940 (eff 94.18%) (0.194 FP/event)\n"
     ]
    },
    {
     "data": {
      "application/vnd.jupyter.widget-view+json": {
       "model_id": "",
       "version_major": 2,
       "version_minor": 0
      },
      "text/plain": [
       "HBox(children=(FloatProgress(value=0.0, description='Training', layout=Layout(flex='2'), max=1250.0, style=Pro…"
      ]
     },
     "metadata": {},
     "output_type": "display_data"
    },
    {
     "name": "stdout",
     "output_type": "stream",
     "text": [
      "Epoch 4215: train=7.72608, val=7.78971, took 31.926 s\n",
      "  Validation Found 51313 of 54504, added 1843 (eff 94.15%) (0.185 FP/event)\n"
     ]
    },
    {
     "data": {
      "application/vnd.jupyter.widget-view+json": {
       "model_id": "",
       "version_major": 2,
       "version_minor": 0
      },
      "text/plain": [
       "HBox(children=(FloatProgress(value=0.0, description='Training', layout=Layout(flex='2'), max=1250.0, style=Pro…"
      ]
     },
     "metadata": {},
     "output_type": "display_data"
    },
    {
     "name": "stdout",
     "output_type": "stream",
     "text": [
      "Epoch 4216: train=7.72352, val=7.7805, took 32.253 s\n",
      "  Validation Found 51372 of 54504, added 1892 (eff 94.25%) (0.189 FP/event)\n"
     ]
    },
    {
     "data": {
      "application/vnd.jupyter.widget-view+json": {
       "model_id": "",
       "version_major": 2,
       "version_minor": 0
      },
      "text/plain": [
       "HBox(children=(FloatProgress(value=0.0, description='Training', layout=Layout(flex='2'), max=1250.0, style=Pro…"
      ]
     },
     "metadata": {},
     "output_type": "display_data"
    },
    {
     "name": "stdout",
     "output_type": "stream",
     "text": [
      "Epoch 4217: train=7.72275, val=7.79244, took 31.556 s\n",
      "  Validation Found 51340 of 54504, added 1868 (eff 94.19%) (0.187 FP/event)\n"
     ]
    },
    {
     "data": {
      "application/vnd.jupyter.widget-view+json": {
       "model_id": "",
       "version_major": 2,
       "version_minor": 0
      },
      "text/plain": [
       "HBox(children=(FloatProgress(value=0.0, description='Training', layout=Layout(flex='2'), max=1250.0, style=Pro…"
      ]
     },
     "metadata": {},
     "output_type": "display_data"
    },
    {
     "name": "stdout",
     "output_type": "stream",
     "text": [
      "Epoch 4218: train=7.7236, val=7.79146, took 31.792 s\n",
      "  Validation Found 51294 of 54504, added 1838 (eff 94.11%) (0.184 FP/event)\n"
     ]
    },
    {
     "data": {
      "application/vnd.jupyter.widget-view+json": {
       "model_id": "",
       "version_major": 2,
       "version_minor": 0
      },
      "text/plain": [
       "HBox(children=(FloatProgress(value=0.0, description='Training', layout=Layout(flex='2'), max=1250.0, style=Pro…"
      ]
     },
     "metadata": {},
     "output_type": "display_data"
    },
    {
     "name": "stdout",
     "output_type": "stream",
     "text": [
      "Epoch 4219: train=7.72788, val=7.7883, took 31.32 s\n",
      "  Validation Found 51324 of 54504, added 1888 (eff 94.17%) (0.189 FP/event)\n"
     ]
    },
    {
     "data": {
      "application/vnd.jupyter.widget-view+json": {
       "model_id": "",
       "version_major": 2,
       "version_minor": 0
      },
      "text/plain": [
       "HBox(children=(FloatProgress(value=0.0, description='Training', layout=Layout(flex='2'), max=1250.0, style=Pro…"
      ]
     },
     "metadata": {},
     "output_type": "display_data"
    },
    {
     "name": "stdout",
     "output_type": "stream",
     "text": [
      "Epoch 4220: train=7.72317, val=7.79986, took 33.441 s\n",
      "  Validation Found 51281 of 54504, added 1789 (eff 94.09%) (0.179 FP/event)\n"
     ]
    },
    {
     "data": {
      "application/vnd.jupyter.widget-view+json": {
       "model_id": "",
       "version_major": 2,
       "version_minor": 0
      },
      "text/plain": [
       "HBox(children=(FloatProgress(value=0.0, description='Training', layout=Layout(flex='2'), max=1250.0, style=Pro…"
      ]
     },
     "metadata": {},
     "output_type": "display_data"
    },
    {
     "name": "stdout",
     "output_type": "stream",
     "text": [
      "Epoch 4221: train=7.72371, val=7.78704, took 47.095 s\n",
      "  Validation Found 51417 of 54504, added 2029 (eff 94.34%) (0.203 FP/event)\n"
     ]
    },
    {
     "data": {
      "application/vnd.jupyter.widget-view+json": {
       "model_id": "",
       "version_major": 2,
       "version_minor": 0
      },
      "text/plain": [
       "HBox(children=(FloatProgress(value=0.0, description='Training', layout=Layout(flex='2'), max=1250.0, style=Pro…"
      ]
     },
     "metadata": {},
     "output_type": "display_data"
    },
    {
     "name": "stdout",
     "output_type": "stream",
     "text": [
      "Epoch 4222: train=7.72711, val=7.81449, took 47.026 s\n",
      "  Validation Found 51263 of 54504, added 1774 (eff 94.05%) (0.178 FP/event)\n"
     ]
    },
    {
     "data": {
      "application/vnd.jupyter.widget-view+json": {
       "model_id": "",
       "version_major": 2,
       "version_minor": 0
      },
      "text/plain": [
       "HBox(children=(FloatProgress(value=0.0, description='Training', layout=Layout(flex='2'), max=1250.0, style=Pro…"
      ]
     },
     "metadata": {},
     "output_type": "display_data"
    },
    {
     "name": "stdout",
     "output_type": "stream",
     "text": [
      "Epoch 4223: train=7.72498, val=7.78407, took 49.721 s\n",
      "  Validation Found 51324 of 54504, added 1866 (eff 94.17%) (0.187 FP/event)\n"
     ]
    },
    {
     "data": {
      "application/vnd.jupyter.widget-view+json": {
       "model_id": "",
       "version_major": 2,
       "version_minor": 0
      },
      "text/plain": [
       "HBox(children=(FloatProgress(value=0.0, description='Training', layout=Layout(flex='2'), max=1250.0, style=Pro…"
      ]
     },
     "metadata": {},
     "output_type": "display_data"
    },
    {
     "name": "stdout",
     "output_type": "stream",
     "text": [
      "Epoch 4224: train=7.72371, val=7.7862, took 54.463 s\n",
      "  Validation Found 51347 of 54504, added 1899 (eff 94.21%) (0.19 FP/event)\n"
     ]
    },
    {
     "data": {
      "application/vnd.jupyter.widget-view+json": {
       "model_id": "",
       "version_major": 2,
       "version_minor": 0
      },
      "text/plain": [
       "HBox(children=(FloatProgress(value=0.0, description='Training', layout=Layout(flex='2'), max=1250.0, style=Pro…"
      ]
     },
     "metadata": {},
     "output_type": "display_data"
    },
    {
     "name": "stdout",
     "output_type": "stream",
     "text": [
      "Epoch 4225: train=7.72392, val=7.76208, took 44.295 s\n",
      "  Validation Found 51395 of 54504, added 1956 (eff 94.30%) (0.196 FP/event)\n"
     ]
    },
    {
     "data": {
      "application/vnd.jupyter.widget-view+json": {
       "model_id": "",
       "version_major": 2,
       "version_minor": 0
      },
      "text/plain": [
       "HBox(children=(FloatProgress(value=0.0, description='Training', layout=Layout(flex='2'), max=1250.0, style=Pro…"
      ]
     },
     "metadata": {},
     "output_type": "display_data"
    },
    {
     "name": "stdout",
     "output_type": "stream",
     "text": [
      "Epoch 4226: train=7.72803, val=7.80208, took 47.078 s\n",
      "  Validation Found 51265 of 54504, added 1793 (eff 94.06%) (0.18 FP/event)\n"
     ]
    },
    {
     "data": {
      "application/vnd.jupyter.widget-view+json": {
       "model_id": "",
       "version_major": 2,
       "version_minor": 0
      },
      "text/plain": [
       "HBox(children=(FloatProgress(value=0.0, description='Training', layout=Layout(flex='2'), max=1250.0, style=Pro…"
      ]
     },
     "metadata": {},
     "output_type": "display_data"
    },
    {
     "name": "stdout",
     "output_type": "stream",
     "text": [
      "Epoch 4227: train=7.72383, val=7.79707, took 57.011 s\n",
      "  Validation Found 51327 of 54504, added 1858 (eff 94.17%) (0.186 FP/event)\n"
     ]
    },
    {
     "data": {
      "application/vnd.jupyter.widget-view+json": {
       "model_id": "",
       "version_major": 2,
       "version_minor": 0
      },
      "text/plain": [
       "HBox(children=(FloatProgress(value=0.0, description='Training', layout=Layout(flex='2'), max=1250.0, style=Pro…"
      ]
     },
     "metadata": {},
     "output_type": "display_data"
    },
    {
     "name": "stdout",
     "output_type": "stream",
     "text": [
      "Epoch 4228: train=7.72171, val=7.76955, took 57.931 s\n",
      "  Validation Found 51327 of 54504, added 1873 (eff 94.17%) (0.188 FP/event)\n"
     ]
    },
    {
     "data": {
      "application/vnd.jupyter.widget-view+json": {
       "model_id": "",
       "version_major": 2,
       "version_minor": 0
      },
      "text/plain": [
       "HBox(children=(FloatProgress(value=0.0, description='Training', layout=Layout(flex='2'), max=1250.0, style=Pro…"
      ]
     },
     "metadata": {},
     "output_type": "display_data"
    },
    {
     "name": "stdout",
     "output_type": "stream",
     "text": [
      "Epoch 4229: train=7.72262, val=7.80383, took 46.707 s\n",
      "  Validation Found 51303 of 54504, added 1833 (eff 94.13%) (0.184 FP/event)\n"
     ]
    },
    {
     "data": {
      "application/vnd.jupyter.widget-view+json": {
       "model_id": "",
       "version_major": 2,
       "version_minor": 0
      },
      "text/plain": [
       "HBox(children=(FloatProgress(value=0.0, description='Training', layout=Layout(flex='2'), max=1250.0, style=Pro…"
      ]
     },
     "metadata": {},
     "output_type": "display_data"
    },
    {
     "name": "stdout",
     "output_type": "stream",
     "text": [
      "Epoch 4230: train=7.72619, val=7.80241, took 45.762 s\n",
      "  Validation Found 51291 of 54504, added 1832 (eff 94.11%) (0.183 FP/event)\n"
     ]
    },
    {
     "data": {
      "application/vnd.jupyter.widget-view+json": {
       "model_id": "",
       "version_major": 2,
       "version_minor": 0
      },
      "text/plain": [
       "HBox(children=(FloatProgress(value=0.0, description='Training', layout=Layout(flex='2'), max=1250.0, style=Pro…"
      ]
     },
     "metadata": {},
     "output_type": "display_data"
    },
    {
     "name": "stdout",
     "output_type": "stream",
     "text": [
      "Epoch 4231: train=7.7283, val=7.79935, took 46.319 s\n",
      "  Validation Found 51294 of 54504, added 1794 (eff 94.11%) (0.18 FP/event)\n"
     ]
    },
    {
     "data": {
      "application/vnd.jupyter.widget-view+json": {
       "model_id": "",
       "version_major": 2,
       "version_minor": 0
      },
      "text/plain": [
       "HBox(children=(FloatProgress(value=0.0, description='Training', layout=Layout(flex='2'), max=1250.0, style=Pro…"
      ]
     },
     "metadata": {},
     "output_type": "display_data"
    },
    {
     "name": "stdout",
     "output_type": "stream",
     "text": [
      "Epoch 4232: train=7.72272, val=7.80466, took 45.717 s\n",
      "  Validation Found 51298 of 54504, added 1819 (eff 94.12%) (0.182 FP/event)\n"
     ]
    },
    {
     "data": {
      "application/vnd.jupyter.widget-view+json": {
       "model_id": "",
       "version_major": 2,
       "version_minor": 0
      },
      "text/plain": [
       "HBox(children=(FloatProgress(value=0.0, description='Training', layout=Layout(flex='2'), max=1250.0, style=Pro…"
      ]
     },
     "metadata": {},
     "output_type": "display_data"
    },
    {
     "name": "stdout",
     "output_type": "stream",
     "text": [
      "Epoch 4233: train=7.72364, val=7.78666, took 45.942 s\n",
      "  Validation Found 51330 of 54504, added 1891 (eff 94.18%) (0.189 FP/event)\n"
     ]
    },
    {
     "data": {
      "application/vnd.jupyter.widget-view+json": {
       "model_id": "",
       "version_major": 2,
       "version_minor": 0
      },
      "text/plain": [
       "HBox(children=(FloatProgress(value=0.0, description='Training', layout=Layout(flex='2'), max=1250.0, style=Pro…"
      ]
     },
     "metadata": {},
     "output_type": "display_data"
    },
    {
     "name": "stdout",
     "output_type": "stream",
     "text": [
      "Epoch 4234: train=7.72138, val=7.7947, took 51.006 s\n",
      "  Validation Found 51305 of 54504, added 1845 (eff 94.13%) (0.185 FP/event)\n"
     ]
    },
    {
     "data": {
      "application/vnd.jupyter.widget-view+json": {
       "model_id": "",
       "version_major": 2,
       "version_minor": 0
      },
      "text/plain": [
       "HBox(children=(FloatProgress(value=0.0, description='Training', layout=Layout(flex='2'), max=1250.0, style=Pro…"
      ]
     },
     "metadata": {},
     "output_type": "display_data"
    },
    {
     "name": "stdout",
     "output_type": "stream",
     "text": [
      "Epoch 4235: train=7.72637, val=7.78776, took 48.381 s\n",
      "  Validation Found 51331 of 54504, added 1882 (eff 94.18%) (0.188 FP/event)\n"
     ]
    },
    {
     "data": {
      "application/vnd.jupyter.widget-view+json": {
       "model_id": "",
       "version_major": 2,
       "version_minor": 0
      },
      "text/plain": [
       "HBox(children=(FloatProgress(value=0.0, description='Training', layout=Layout(flex='2'), max=1250.0, style=Pro…"
      ]
     },
     "metadata": {},
     "output_type": "display_data"
    },
    {
     "name": "stdout",
     "output_type": "stream",
     "text": [
      "Epoch 4236: train=7.72447, val=7.81579, took 46.933 s\n",
      "  Validation Found 51253 of 54504, added 1761 (eff 94.04%) (0.176 FP/event)\n"
     ]
    },
    {
     "data": {
      "application/vnd.jupyter.widget-view+json": {
       "model_id": "",
       "version_major": 2,
       "version_minor": 0
      },
      "text/plain": [
       "HBox(children=(FloatProgress(value=0.0, description='Training', layout=Layout(flex='2'), max=1250.0, style=Pro…"
      ]
     },
     "metadata": {},
     "output_type": "display_data"
    },
    {
     "name": "stdout",
     "output_type": "stream",
     "text": [
      "Epoch 4237: train=7.72101, val=7.78965, took 49.666 s\n",
      "  Validation Found 51345 of 54504, added 1909 (eff 94.20%) (0.191 FP/event)\n"
     ]
    },
    {
     "data": {
      "application/vnd.jupyter.widget-view+json": {
       "model_id": "",
       "version_major": 2,
       "version_minor": 0
      },
      "text/plain": [
       "HBox(children=(FloatProgress(value=0.0, description='Training', layout=Layout(flex='2'), max=1250.0, style=Pro…"
      ]
     },
     "metadata": {},
     "output_type": "display_data"
    },
    {
     "name": "stdout",
     "output_type": "stream",
     "text": [
      "Epoch 4238: train=7.72652, val=7.80466, took 49.089 s\n",
      "  Validation Found 51275 of 54504, added 1811 (eff 94.08%) (0.181 FP/event)\n"
     ]
    },
    {
     "data": {
      "application/vnd.jupyter.widget-view+json": {
       "model_id": "",
       "version_major": 2,
       "version_minor": 0
      },
      "text/plain": [
       "HBox(children=(FloatProgress(value=0.0, description='Training', layout=Layout(flex='2'), max=1250.0, style=Pro…"
      ]
     },
     "metadata": {},
     "output_type": "display_data"
    },
    {
     "name": "stdout",
     "output_type": "stream",
     "text": [
      "Epoch 4239: train=7.72313, val=7.80734, took 37.602 s\n",
      "  Validation Found 51274 of 54504, added 1805 (eff 94.07%) (0.181 FP/event)\n"
     ]
    },
    {
     "data": {
      "application/vnd.jupyter.widget-view+json": {
       "model_id": "",
       "version_major": 2,
       "version_minor": 0
      },
      "text/plain": [
       "HBox(children=(FloatProgress(value=0.0, description='Training', layout=Layout(flex='2'), max=1250.0, style=Pro…"
      ]
     },
     "metadata": {},
     "output_type": "display_data"
    },
    {
     "name": "stdout",
     "output_type": "stream",
     "text": [
      "Epoch 4240: train=7.72315, val=7.78718, took 31.196 s\n",
      "  Validation Found 51315 of 54504, added 1843 (eff 94.15%) (0.185 FP/event)\n"
     ]
    },
    {
     "data": {
      "application/vnd.jupyter.widget-view+json": {
       "model_id": "",
       "version_major": 2,
       "version_minor": 0
      },
      "text/plain": [
       "HBox(children=(FloatProgress(value=0.0, description='Training', layout=Layout(flex='2'), max=1250.0, style=Pro…"
      ]
     },
     "metadata": {},
     "output_type": "display_data"
    },
    {
     "name": "stdout",
     "output_type": "stream",
     "text": [
      "Epoch 4241: train=7.7227, val=7.79304, took 31.28 s\n",
      "  Validation Found 51309 of 54504, added 1864 (eff 94.14%) (0.187 FP/event)\n"
     ]
    },
    {
     "data": {
      "application/vnd.jupyter.widget-view+json": {
       "model_id": "",
       "version_major": 2,
       "version_minor": 0
      },
      "text/plain": [
       "HBox(children=(FloatProgress(value=0.0, description='Training', layout=Layout(flex='2'), max=1250.0, style=Pro…"
      ]
     },
     "metadata": {},
     "output_type": "display_data"
    },
    {
     "name": "stdout",
     "output_type": "stream",
     "text": [
      "Epoch 4242: train=7.72182, val=7.77063, took 31.434 s\n",
      "  Validation Found 51379 of 54504, added 1939 (eff 94.27%) (0.194 FP/event)\n"
     ]
    },
    {
     "data": {
      "application/vnd.jupyter.widget-view+json": {
       "model_id": "",
       "version_major": 2,
       "version_minor": 0
      },
      "text/plain": [
       "HBox(children=(FloatProgress(value=0.0, description='Training', layout=Layout(flex='2'), max=1250.0, style=Pro…"
      ]
     },
     "metadata": {},
     "output_type": "display_data"
    },
    {
     "name": "stdout",
     "output_type": "stream",
     "text": [
      "Epoch 4243: train=7.72469, val=7.80727, took 32.269 s\n",
      "  Validation Found 51289 of 54504, added 1828 (eff 94.10%) (0.183 FP/event)\n"
     ]
    },
    {
     "data": {
      "application/vnd.jupyter.widget-view+json": {
       "model_id": "",
       "version_major": 2,
       "version_minor": 0
      },
      "text/plain": [
       "HBox(children=(FloatProgress(value=0.0, description='Training', layout=Layout(flex='2'), max=1250.0, style=Pro…"
      ]
     },
     "metadata": {},
     "output_type": "display_data"
    },
    {
     "name": "stdout",
     "output_type": "stream",
     "text": [
      "Epoch 4244: train=7.72175, val=7.78721, took 44.846 s\n",
      "  Validation Found 51319 of 54504, added 1832 (eff 94.16%) (0.183 FP/event)\n"
     ]
    },
    {
     "data": {
      "application/vnd.jupyter.widget-view+json": {
       "model_id": "",
       "version_major": 2,
       "version_minor": 0
      },
      "text/plain": [
       "HBox(children=(FloatProgress(value=0.0, description='Training', layout=Layout(flex='2'), max=1250.0, style=Pro…"
      ]
     },
     "metadata": {},
     "output_type": "display_data"
    },
    {
     "name": "stdout",
     "output_type": "stream",
     "text": [
      "Epoch 4245: train=7.72245, val=7.81089, took 45.525 s\n",
      "  Validation Found 51295 of 54504, added 1822 (eff 94.11%) (0.182 FP/event)\n"
     ]
    },
    {
     "data": {
      "application/vnd.jupyter.widget-view+json": {
       "model_id": "",
       "version_major": 2,
       "version_minor": 0
      },
      "text/plain": [
       "HBox(children=(FloatProgress(value=0.0, description='Training', layout=Layout(flex='2'), max=1250.0, style=Pro…"
      ]
     },
     "metadata": {},
     "output_type": "display_data"
    },
    {
     "name": "stdout",
     "output_type": "stream",
     "text": [
      "Epoch 4246: train=7.72229, val=7.75951, took 49.461 s\n",
      "  Validation Found 51364 of 54504, added 1907 (eff 94.24%) (0.191 FP/event)\n"
     ]
    },
    {
     "data": {
      "application/vnd.jupyter.widget-view+json": {
       "model_id": "",
       "version_major": 2,
       "version_minor": 0
      },
      "text/plain": [
       "HBox(children=(FloatProgress(value=0.0, description='Training', layout=Layout(flex='2'), max=1250.0, style=Pro…"
      ]
     },
     "metadata": {},
     "output_type": "display_data"
    },
    {
     "name": "stdout",
     "output_type": "stream",
     "text": [
      "Epoch 4247: train=7.72325, val=7.79391, took 47.371 s\n",
      "  Validation Found 51333 of 54504, added 1878 (eff 94.18%) (0.188 FP/event)\n"
     ]
    },
    {
     "data": {
      "application/vnd.jupyter.widget-view+json": {
       "model_id": "",
       "version_major": 2,
       "version_minor": 0
      },
      "text/plain": [
       "HBox(children=(FloatProgress(value=0.0, description='Training', layout=Layout(flex='2'), max=1250.0, style=Pro…"
      ]
     },
     "metadata": {},
     "output_type": "display_data"
    },
    {
     "name": "stdout",
     "output_type": "stream",
     "text": [
      "Epoch 4248: train=7.72378, val=7.7925, took 51.483 s\n",
      "  Validation Found 51347 of 54504, added 1910 (eff 94.21%) (0.191 FP/event)\n"
     ]
    },
    {
     "data": {
      "application/vnd.jupyter.widget-view+json": {
       "model_id": "",
       "version_major": 2,
       "version_minor": 0
      },
      "text/plain": [
       "HBox(children=(FloatProgress(value=0.0, description='Training', layout=Layout(flex='2'), max=1250.0, style=Pro…"
      ]
     },
     "metadata": {},
     "output_type": "display_data"
    },
    {
     "name": "stdout",
     "output_type": "stream",
     "text": [
      "Epoch 4249: train=7.72129, val=7.79291, took 47.061 s\n",
      "  Validation Found 51318 of 54504, added 1883 (eff 94.15%) (0.189 FP/event)\n"
     ]
    },
    {
     "data": {
      "application/vnd.jupyter.widget-view+json": {
       "model_id": "",
       "version_major": 2,
       "version_minor": 0
      },
      "text/plain": [
       "HBox(children=(FloatProgress(value=0.0, description='Training', layout=Layout(flex='2'), max=1250.0, style=Pro…"
      ]
     },
     "metadata": {},
     "output_type": "display_data"
    },
    {
     "name": "stdout",
     "output_type": "stream",
     "text": [
      "Epoch 4250: train=7.72564, val=7.82232, took 50.126 s\n",
      "  Validation Found 51226 of 54504, added 1745 (eff 93.99%) (0.175 FP/event)\n"
     ]
    },
    {
     "data": {
      "application/vnd.jupyter.widget-view+json": {
       "model_id": "",
       "version_major": 2,
       "version_minor": 0
      },
      "text/plain": [
       "HBox(children=(FloatProgress(value=0.0, description='Training', layout=Layout(flex='2'), max=1250.0, style=Pro…"
      ]
     },
     "metadata": {},
     "output_type": "display_data"
    },
    {
     "name": "stdout",
     "output_type": "stream",
     "text": [
      "Epoch 4251: train=7.72137, val=7.77307, took 48.669 s\n",
      "  Validation Found 51354 of 54504, added 1882 (eff 94.22%) (0.188 FP/event)\n"
     ]
    },
    {
     "data": {
      "application/vnd.jupyter.widget-view+json": {
       "model_id": "",
       "version_major": 2,
       "version_minor": 0
      },
      "text/plain": [
       "HBox(children=(FloatProgress(value=0.0, description='Training', layout=Layout(flex='2'), max=1250.0, style=Pro…"
      ]
     },
     "metadata": {},
     "output_type": "display_data"
    },
    {
     "name": "stdout",
     "output_type": "stream",
     "text": [
      "Epoch 4252: train=7.72108, val=7.81536, took 50.794 s\n",
      "  Validation Found 51301 of 54504, added 1813 (eff 94.12%) (0.182 FP/event)\n"
     ]
    },
    {
     "data": {
      "application/vnd.jupyter.widget-view+json": {
       "model_id": "",
       "version_major": 2,
       "version_minor": 0
      },
      "text/plain": [
       "HBox(children=(FloatProgress(value=0.0, description='Training', layout=Layout(flex='2'), max=1250.0, style=Pro…"
      ]
     },
     "metadata": {},
     "output_type": "display_data"
    },
    {
     "name": "stdout",
     "output_type": "stream",
     "text": [
      "Epoch 4253: train=7.72209, val=7.80013, took 52.153 s\n",
      "  Validation Found 51298 of 54504, added 1843 (eff 94.12%) (0.185 FP/event)\n"
     ]
    },
    {
     "data": {
      "application/vnd.jupyter.widget-view+json": {
       "model_id": "",
       "version_major": 2,
       "version_minor": 0
      },
      "text/plain": [
       "HBox(children=(FloatProgress(value=0.0, description='Training', layout=Layout(flex='2'), max=1250.0, style=Pro…"
      ]
     },
     "metadata": {},
     "output_type": "display_data"
    },
    {
     "name": "stdout",
     "output_type": "stream",
     "text": [
      "Epoch 4254: train=7.72292, val=7.80712, took 53.467 s\n",
      "  Validation Found 51268 of 54504, added 1788 (eff 94.06%) (0.179 FP/event)\n"
     ]
    },
    {
     "data": {
      "application/vnd.jupyter.widget-view+json": {
       "model_id": "",
       "version_major": 2,
       "version_minor": 0
      },
      "text/plain": [
       "HBox(children=(FloatProgress(value=0.0, description='Training', layout=Layout(flex='2'), max=1250.0, style=Pro…"
      ]
     },
     "metadata": {},
     "output_type": "display_data"
    },
    {
     "name": "stdout",
     "output_type": "stream",
     "text": [
      "Epoch 4255: train=7.72266, val=7.79118, took 51.464 s\n",
      "  Validation Found 51301 of 54504, added 1834 (eff 94.12%) (0.184 FP/event)\n"
     ]
    },
    {
     "data": {
      "application/vnd.jupyter.widget-view+json": {
       "model_id": "",
       "version_major": 2,
       "version_minor": 0
      },
      "text/plain": [
       "HBox(children=(FloatProgress(value=0.0, description='Training', layout=Layout(flex='2'), max=1250.0, style=Pro…"
      ]
     },
     "metadata": {},
     "output_type": "display_data"
    },
    {
     "name": "stdout",
     "output_type": "stream",
     "text": [
      "Epoch 4256: train=7.72203, val=7.77497, took 53.321 s\n",
      "  Validation Found 51356 of 54504, added 1922 (eff 94.22%) (0.192 FP/event)\n"
     ]
    },
    {
     "data": {
      "application/vnd.jupyter.widget-view+json": {
       "model_id": "",
       "version_major": 2,
       "version_minor": 0
      },
      "text/plain": [
       "HBox(children=(FloatProgress(value=0.0, description='Training', layout=Layout(flex='2'), max=1250.0, style=Pro…"
      ]
     },
     "metadata": {},
     "output_type": "display_data"
    },
    {
     "name": "stdout",
     "output_type": "stream",
     "text": [
      "Epoch 4257: train=7.72086, val=7.77518, took 55.12 s\n",
      "  Validation Found 51330 of 54504, added 1875 (eff 94.18%) (0.188 FP/event)\n"
     ]
    },
    {
     "data": {
      "application/vnd.jupyter.widget-view+json": {
       "model_id": "",
       "version_major": 2,
       "version_minor": 0
      },
      "text/plain": [
       "HBox(children=(FloatProgress(value=0.0, description='Training', layout=Layout(flex='2'), max=1250.0, style=Pro…"
      ]
     },
     "metadata": {},
     "output_type": "display_data"
    },
    {
     "name": "stdout",
     "output_type": "stream",
     "text": [
      "Epoch 4258: train=7.71814, val=7.79805, took 52.479 s\n",
      "  Validation Found 51316 of 54504, added 1838 (eff 94.15%) (0.184 FP/event)\n"
     ]
    },
    {
     "data": {
      "application/vnd.jupyter.widget-view+json": {
       "model_id": "",
       "version_major": 2,
       "version_minor": 0
      },
      "text/plain": [
       "HBox(children=(FloatProgress(value=0.0, description='Training', layout=Layout(flex='2'), max=1250.0, style=Pro…"
      ]
     },
     "metadata": {},
     "output_type": "display_data"
    },
    {
     "name": "stdout",
     "output_type": "stream",
     "text": [
      "Epoch 4259: train=7.72071, val=7.80258, took 51.0 s\n",
      "  Validation Found 51284 of 54504, added 1816 (eff 94.09%) (0.182 FP/event)\n"
     ]
    },
    {
     "data": {
      "application/vnd.jupyter.widget-view+json": {
       "model_id": "",
       "version_major": 2,
       "version_minor": 0
      },
      "text/plain": [
       "HBox(children=(FloatProgress(value=0.0, description='Training', layout=Layout(flex='2'), max=1250.0, style=Pro…"
      ]
     },
     "metadata": {},
     "output_type": "display_data"
    },
    {
     "name": "stdout",
     "output_type": "stream",
     "text": [
      "Epoch 4260: train=7.72257, val=7.77699, took 46.646 s\n",
      "  Validation Found 51355 of 54504, added 1905 (eff 94.22%) (0.191 FP/event)\n"
     ]
    },
    {
     "data": {
      "application/vnd.jupyter.widget-view+json": {
       "model_id": "",
       "version_major": 2,
       "version_minor": 0
      },
      "text/plain": [
       "HBox(children=(FloatProgress(value=0.0, description='Training', layout=Layout(flex='2'), max=1250.0, style=Pro…"
      ]
     },
     "metadata": {},
     "output_type": "display_data"
    },
    {
     "name": "stdout",
     "output_type": "stream",
     "text": [
      "Epoch 4261: train=7.72026, val=7.79742, took 44.236 s\n",
      "  Validation Found 51266 of 54504, added 1794 (eff 94.06%) (0.18 FP/event)\n"
     ]
    },
    {
     "data": {
      "application/vnd.jupyter.widget-view+json": {
       "model_id": "",
       "version_major": 2,
       "version_minor": 0
      },
      "text/plain": [
       "HBox(children=(FloatProgress(value=0.0, description='Training', layout=Layout(flex='2'), max=1250.0, style=Pro…"
      ]
     },
     "metadata": {},
     "output_type": "display_data"
    },
    {
     "name": "stdout",
     "output_type": "stream",
     "text": [
      "Epoch 4262: train=7.72325, val=7.80918, took 31.643 s\n",
      "  Validation Found 51275 of 54504, added 1812 (eff 94.08%) (0.181 FP/event)\n"
     ]
    },
    {
     "data": {
      "application/vnd.jupyter.widget-view+json": {
       "model_id": "",
       "version_major": 2,
       "version_minor": 0
      },
      "text/plain": [
       "HBox(children=(FloatProgress(value=0.0, description='Training', layout=Layout(flex='2'), max=1250.0, style=Pro…"
      ]
     },
     "metadata": {},
     "output_type": "display_data"
    },
    {
     "name": "stdout",
     "output_type": "stream",
     "text": [
      "Epoch 4263: train=7.72197, val=7.80311, took 31.6 s\n",
      "  Validation Found 51302 of 54504, added 1798 (eff 94.13%) (0.18 FP/event)\n"
     ]
    },
    {
     "data": {
      "application/vnd.jupyter.widget-view+json": {
       "model_id": "",
       "version_major": 2,
       "version_minor": 0
      },
      "text/plain": [
       "HBox(children=(FloatProgress(value=0.0, description='Training', layout=Layout(flex='2'), max=1250.0, style=Pro…"
      ]
     },
     "metadata": {},
     "output_type": "display_data"
    },
    {
     "name": "stdout",
     "output_type": "stream",
     "text": [
      "Epoch 4264: train=7.72723, val=7.80351, took 31.492 s\n",
      "  Validation Found 51319 of 54504, added 1858 (eff 94.16%) (0.186 FP/event)\n"
     ]
    },
    {
     "data": {
      "application/vnd.jupyter.widget-view+json": {
       "model_id": "",
       "version_major": 2,
       "version_minor": 0
      },
      "text/plain": [
       "HBox(children=(FloatProgress(value=0.0, description='Training', layout=Layout(flex='2'), max=1250.0, style=Pro…"
      ]
     },
     "metadata": {},
     "output_type": "display_data"
    },
    {
     "name": "stdout",
     "output_type": "stream",
     "text": [
      "Epoch 4265: train=7.7191, val=7.785, took 31.73 s\n",
      "  Validation Found 51297 of 54504, added 1821 (eff 94.12%) (0.182 FP/event)\n"
     ]
    },
    {
     "data": {
      "application/vnd.jupyter.widget-view+json": {
       "model_id": "",
       "version_major": 2,
       "version_minor": 0
      },
      "text/plain": [
       "HBox(children=(FloatProgress(value=0.0, description='Training', layout=Layout(flex='2'), max=1250.0, style=Pro…"
      ]
     },
     "metadata": {},
     "output_type": "display_data"
    },
    {
     "name": "stdout",
     "output_type": "stream",
     "text": [
      "Epoch 4266: train=7.72491, val=7.77599, took 31.14 s\n",
      "  Validation Found 51364 of 54504, added 1932 (eff 94.24%) (0.193 FP/event)\n"
     ]
    },
    {
     "data": {
      "application/vnd.jupyter.widget-view+json": {
       "model_id": "",
       "version_major": 2,
       "version_minor": 0
      },
      "text/plain": [
       "HBox(children=(FloatProgress(value=0.0, description='Training', layout=Layout(flex='2'), max=1250.0, style=Pro…"
      ]
     },
     "metadata": {},
     "output_type": "display_data"
    },
    {
     "name": "stdout",
     "output_type": "stream",
     "text": [
      "Epoch 4267: train=7.7206, val=7.78899, took 31.409 s\n",
      "  Validation Found 51296 of 54504, added 1837 (eff 94.11%) (0.184 FP/event)\n"
     ]
    },
    {
     "data": {
      "application/vnd.jupyter.widget-view+json": {
       "model_id": "",
       "version_major": 2,
       "version_minor": 0
      },
      "text/plain": [
       "HBox(children=(FloatProgress(value=0.0, description='Training', layout=Layout(flex='2'), max=1250.0, style=Pro…"
      ]
     },
     "metadata": {},
     "output_type": "display_data"
    },
    {
     "name": "stdout",
     "output_type": "stream",
     "text": [
      "Epoch 4268: train=7.7241, val=7.78338, took 31.145 s\n",
      "  Validation Found 51316 of 54504, added 1832 (eff 94.15%) (0.183 FP/event)\n"
     ]
    },
    {
     "data": {
      "application/vnd.jupyter.widget-view+json": {
       "model_id": "",
       "version_major": 2,
       "version_minor": 0
      },
      "text/plain": [
       "HBox(children=(FloatProgress(value=0.0, description='Training', layout=Layout(flex='2'), max=1250.0, style=Pro…"
      ]
     },
     "metadata": {},
     "output_type": "display_data"
    },
    {
     "name": "stdout",
     "output_type": "stream",
     "text": [
      "Epoch 4269: train=7.72094, val=7.80026, took 31.282 s\n",
      "  Validation Found 51265 of 54504, added 1771 (eff 94.06%) (0.177 FP/event)\n"
     ]
    },
    {
     "data": {
      "application/vnd.jupyter.widget-view+json": {
       "model_id": "",
       "version_major": 2,
       "version_minor": 0
      },
      "text/plain": [
       "HBox(children=(FloatProgress(value=0.0, description='Training', layout=Layout(flex='2'), max=1250.0, style=Pro…"
      ]
     },
     "metadata": {},
     "output_type": "display_data"
    },
    {
     "name": "stdout",
     "output_type": "stream",
     "text": [
      "Epoch 4270: train=7.72333, val=7.79417, took 31.068 s\n",
      "  Validation Found 51318 of 54504, added 1825 (eff 94.15%) (0.183 FP/event)\n"
     ]
    },
    {
     "data": {
      "application/vnd.jupyter.widget-view+json": {
       "model_id": "",
       "version_major": 2,
       "version_minor": 0
      },
      "text/plain": [
       "HBox(children=(FloatProgress(value=0.0, description='Training', layout=Layout(flex='2'), max=1250.0, style=Pro…"
      ]
     },
     "metadata": {},
     "output_type": "display_data"
    },
    {
     "name": "stdout",
     "output_type": "stream",
     "text": [
      "Epoch 4271: train=7.72514, val=7.79552, took 31.139 s\n",
      "  Validation Found 51302 of 54504, added 1828 (eff 94.13%) (0.183 FP/event)\n"
     ]
    },
    {
     "data": {
      "application/vnd.jupyter.widget-view+json": {
       "model_id": "",
       "version_major": 2,
       "version_minor": 0
      },
      "text/plain": [
       "HBox(children=(FloatProgress(value=0.0, description='Training', layout=Layout(flex='2'), max=1250.0, style=Pro…"
      ]
     },
     "metadata": {},
     "output_type": "display_data"
    },
    {
     "name": "stdout",
     "output_type": "stream",
     "text": [
      "Epoch 4272: train=7.72689, val=7.78648, took 31.179 s\n",
      "  Validation Found 51323 of 54504, added 1874 (eff 94.16%) (0.188 FP/event)\n"
     ]
    },
    {
     "data": {
      "application/vnd.jupyter.widget-view+json": {
       "model_id": "",
       "version_major": 2,
       "version_minor": 0
      },
      "text/plain": [
       "HBox(children=(FloatProgress(value=0.0, description='Training', layout=Layout(flex='2'), max=1250.0, style=Pro…"
      ]
     },
     "metadata": {},
     "output_type": "display_data"
    },
    {
     "name": "stdout",
     "output_type": "stream",
     "text": [
      "Epoch 4273: train=7.72315, val=7.78955, took 31.132 s\n",
      "  Validation Found 51342 of 54504, added 1891 (eff 94.20%) (0.189 FP/event)\n"
     ]
    },
    {
     "data": {
      "application/vnd.jupyter.widget-view+json": {
       "model_id": "",
       "version_major": 2,
       "version_minor": 0
      },
      "text/plain": [
       "HBox(children=(FloatProgress(value=0.0, description='Training', layout=Layout(flex='2'), max=1250.0, style=Pro…"
      ]
     },
     "metadata": {},
     "output_type": "display_data"
    },
    {
     "name": "stdout",
     "output_type": "stream",
     "text": [
      "Epoch 4274: train=7.7242, val=7.78793, took 31.058 s\n",
      "  Validation Found 51334 of 54504, added 1866 (eff 94.18%) (0.187 FP/event)\n"
     ]
    },
    {
     "data": {
      "application/vnd.jupyter.widget-view+json": {
       "model_id": "",
       "version_major": 2,
       "version_minor": 0
      },
      "text/plain": [
       "HBox(children=(FloatProgress(value=0.0, description='Training', layout=Layout(flex='2'), max=1250.0, style=Pro…"
      ]
     },
     "metadata": {},
     "output_type": "display_data"
    },
    {
     "name": "stdout",
     "output_type": "stream",
     "text": [
      "Epoch 4275: train=7.72131, val=7.79298, took 31.148 s\n",
      "  Validation Found 51355 of 54504, added 1938 (eff 94.22%) (0.194 FP/event)\n"
     ]
    },
    {
     "data": {
      "application/vnd.jupyter.widget-view+json": {
       "model_id": "",
       "version_major": 2,
       "version_minor": 0
      },
      "text/plain": [
       "HBox(children=(FloatProgress(value=0.0, description='Training', layout=Layout(flex='2'), max=1250.0, style=Pro…"
      ]
     },
     "metadata": {},
     "output_type": "display_data"
    },
    {
     "name": "stdout",
     "output_type": "stream",
     "text": [
      "Epoch 4276: train=7.72222, val=7.77853, took 30.951 s\n",
      "  Validation Found 51369 of 54504, added 1955 (eff 94.25%) (0.196 FP/event)\n"
     ]
    },
    {
     "data": {
      "application/vnd.jupyter.widget-view+json": {
       "model_id": "",
       "version_major": 2,
       "version_minor": 0
      },
      "text/plain": [
       "HBox(children=(FloatProgress(value=0.0, description='Training', layout=Layout(flex='2'), max=1250.0, style=Pro…"
      ]
     },
     "metadata": {},
     "output_type": "display_data"
    },
    {
     "name": "stdout",
     "output_type": "stream",
     "text": [
      "Epoch 4277: train=7.72685, val=7.81212, took 31.156 s\n",
      "  Validation Found 51304 of 54504, added 1836 (eff 94.13%) (0.184 FP/event)\n"
     ]
    },
    {
     "data": {
      "application/vnd.jupyter.widget-view+json": {
       "model_id": "",
       "version_major": 2,
       "version_minor": 0
      },
      "text/plain": [
       "HBox(children=(FloatProgress(value=0.0, description='Training', layout=Layout(flex='2'), max=1250.0, style=Pro…"
      ]
     },
     "metadata": {},
     "output_type": "display_data"
    },
    {
     "name": "stdout",
     "output_type": "stream",
     "text": [
      "Epoch 4278: train=7.72452, val=7.79241, took 31.087 s\n",
      "  Validation Found 51308 of 54504, added 1837 (eff 94.14%) (0.184 FP/event)\n"
     ]
    },
    {
     "data": {
      "application/vnd.jupyter.widget-view+json": {
       "model_id": "",
       "version_major": 2,
       "version_minor": 0
      },
      "text/plain": [
       "HBox(children=(FloatProgress(value=0.0, description='Training', layout=Layout(flex='2'), max=1250.0, style=Pro…"
      ]
     },
     "metadata": {},
     "output_type": "display_data"
    },
    {
     "name": "stdout",
     "output_type": "stream",
     "text": [
      "Epoch 4279: train=7.7261, val=7.79221, took 31.261 s\n",
      "  Validation Found 51312 of 54504, added 1862 (eff 94.14%) (0.186 FP/event)\n"
     ]
    },
    {
     "data": {
      "application/vnd.jupyter.widget-view+json": {
       "model_id": "",
       "version_major": 2,
       "version_minor": 0
      },
      "text/plain": [
       "HBox(children=(FloatProgress(value=0.0, description='Training', layout=Layout(flex='2'), max=1250.0, style=Pro…"
      ]
     },
     "metadata": {},
     "output_type": "display_data"
    },
    {
     "name": "stdout",
     "output_type": "stream",
     "text": [
      "Epoch 4280: train=7.72313, val=7.78722, took 31.234 s\n",
      "  Validation Found 51300 of 54504, added 1834 (eff 94.12%) (0.184 FP/event)\n"
     ]
    },
    {
     "data": {
      "application/vnd.jupyter.widget-view+json": {
       "model_id": "",
       "version_major": 2,
       "version_minor": 0
      },
      "text/plain": [
       "HBox(children=(FloatProgress(value=0.0, description='Training', layout=Layout(flex='2'), max=1250.0, style=Pro…"
      ]
     },
     "metadata": {},
     "output_type": "display_data"
    },
    {
     "name": "stdout",
     "output_type": "stream",
     "text": [
      "Epoch 4281: train=7.72269, val=7.80261, took 31.585 s\n",
      "  Validation Found 51297 of 54504, added 1822 (eff 94.12%) (0.182 FP/event)\n"
     ]
    },
    {
     "data": {
      "application/vnd.jupyter.widget-view+json": {
       "model_id": "",
       "version_major": 2,
       "version_minor": 0
      },
      "text/plain": [
       "HBox(children=(FloatProgress(value=0.0, description='Training', layout=Layout(flex='2'), max=1250.0, style=Pro…"
      ]
     },
     "metadata": {},
     "output_type": "display_data"
    },
    {
     "name": "stdout",
     "output_type": "stream",
     "text": [
      "Epoch 4282: train=7.72246, val=7.8098, took 31.149 s\n",
      "  Validation Found 51262 of 54504, added 1779 (eff 94.05%) (0.178 FP/event)\n"
     ]
    },
    {
     "data": {
      "application/vnd.jupyter.widget-view+json": {
       "model_id": "",
       "version_major": 2,
       "version_minor": 0
      },
      "text/plain": [
       "HBox(children=(FloatProgress(value=0.0, description='Training', layout=Layout(flex='2'), max=1250.0, style=Pro…"
      ]
     },
     "metadata": {},
     "output_type": "display_data"
    },
    {
     "name": "stdout",
     "output_type": "stream",
     "text": [
      "Epoch 4283: train=7.72359, val=7.78602, took 31.056 s\n",
      "  Validation Found 51325 of 54504, added 1871 (eff 94.17%) (0.187 FP/event)\n"
     ]
    },
    {
     "data": {
      "application/vnd.jupyter.widget-view+json": {
       "model_id": "",
       "version_major": 2,
       "version_minor": 0
      },
      "text/plain": [
       "HBox(children=(FloatProgress(value=0.0, description='Training', layout=Layout(flex='2'), max=1250.0, style=Pro…"
      ]
     },
     "metadata": {},
     "output_type": "display_data"
    },
    {
     "name": "stdout",
     "output_type": "stream",
     "text": [
      "Epoch 4284: train=7.72448, val=7.81468, took 31.08 s\n",
      "  Validation Found 51287 of 54504, added 1806 (eff 94.10%) (0.181 FP/event)\n"
     ]
    },
    {
     "data": {
      "application/vnd.jupyter.widget-view+json": {
       "model_id": "",
       "version_major": 2,
       "version_minor": 0
      },
      "text/plain": [
       "HBox(children=(FloatProgress(value=0.0, description='Training', layout=Layout(flex='2'), max=1250.0, style=Pro…"
      ]
     },
     "metadata": {},
     "output_type": "display_data"
    },
    {
     "name": "stdout",
     "output_type": "stream",
     "text": [
      "Epoch 4285: train=7.72613, val=7.79144, took 31.106 s\n",
      "  Validation Found 51309 of 54504, added 1832 (eff 94.14%) (0.183 FP/event)\n"
     ]
    },
    {
     "data": {
      "application/vnd.jupyter.widget-view+json": {
       "model_id": "",
       "version_major": 2,
       "version_minor": 0
      },
      "text/plain": [
       "HBox(children=(FloatProgress(value=0.0, description='Training', layout=Layout(flex='2'), max=1250.0, style=Pro…"
      ]
     },
     "metadata": {},
     "output_type": "display_data"
    },
    {
     "name": "stdout",
     "output_type": "stream",
     "text": [
      "Epoch 4286: train=7.7263, val=7.78871, took 31.081 s\n",
      "  Validation Found 51344 of 54504, added 1890 (eff 94.20%) (0.189 FP/event)\n"
     ]
    },
    {
     "data": {
      "application/vnd.jupyter.widget-view+json": {
       "model_id": "",
       "version_major": 2,
       "version_minor": 0
      },
      "text/plain": [
       "HBox(children=(FloatProgress(value=0.0, description='Training', layout=Layout(flex='2'), max=1250.0, style=Pro…"
      ]
     },
     "metadata": {},
     "output_type": "display_data"
    },
    {
     "name": "stdout",
     "output_type": "stream",
     "text": [
      "Epoch 4287: train=7.723, val=7.77664, took 31.161 s\n",
      "  Validation Found 51336 of 54504, added 1888 (eff 94.19%) (0.189 FP/event)\n"
     ]
    },
    {
     "data": {
      "application/vnd.jupyter.widget-view+json": {
       "model_id": "",
       "version_major": 2,
       "version_minor": 0
      },
      "text/plain": [
       "HBox(children=(FloatProgress(value=0.0, description='Training', layout=Layout(flex='2'), max=1250.0, style=Pro…"
      ]
     },
     "metadata": {},
     "output_type": "display_data"
    },
    {
     "name": "stdout",
     "output_type": "stream",
     "text": [
      "Epoch 4288: train=7.72182, val=7.80933, took 31.239 s\n",
      "  Validation Found 51311 of 54504, added 1834 (eff 94.14%) (0.184 FP/event)\n"
     ]
    },
    {
     "data": {
      "application/vnd.jupyter.widget-view+json": {
       "model_id": "",
       "version_major": 2,
       "version_minor": 0
      },
      "text/plain": [
       "HBox(children=(FloatProgress(value=0.0, description='Training', layout=Layout(flex='2'), max=1250.0, style=Pro…"
      ]
     },
     "metadata": {},
     "output_type": "display_data"
    },
    {
     "name": "stdout",
     "output_type": "stream",
     "text": [
      "Epoch 4289: train=7.72217, val=7.79953, took 31.054 s\n",
      "  Validation Found 51316 of 54504, added 1845 (eff 94.15%) (0.185 FP/event)\n"
     ]
    },
    {
     "data": {
      "application/vnd.jupyter.widget-view+json": {
       "model_id": "",
       "version_major": 2,
       "version_minor": 0
      },
      "text/plain": [
       "HBox(children=(FloatProgress(value=0.0, description='Training', layout=Layout(flex='2'), max=1250.0, style=Pro…"
      ]
     },
     "metadata": {},
     "output_type": "display_data"
    },
    {
     "name": "stdout",
     "output_type": "stream",
     "text": [
      "Epoch 4290: train=7.72085, val=7.77888, took 31.123 s\n",
      "  Validation Found 51331 of 54504, added 1860 (eff 94.18%) (0.186 FP/event)\n"
     ]
    },
    {
     "data": {
      "application/vnd.jupyter.widget-view+json": {
       "model_id": "",
       "version_major": 2,
       "version_minor": 0
      },
      "text/plain": [
       "HBox(children=(FloatProgress(value=0.0, description='Training', layout=Layout(flex='2'), max=1250.0, style=Pro…"
      ]
     },
     "metadata": {},
     "output_type": "display_data"
    },
    {
     "name": "stdout",
     "output_type": "stream",
     "text": [
      "Epoch 4291: train=7.72383, val=7.7932, took 31.195 s\n",
      "  Validation Found 51325 of 54504, added 1840 (eff 94.17%) (0.184 FP/event)\n"
     ]
    },
    {
     "data": {
      "application/vnd.jupyter.widget-view+json": {
       "model_id": "",
       "version_major": 2,
       "version_minor": 0
      },
      "text/plain": [
       "HBox(children=(FloatProgress(value=0.0, description='Training', layout=Layout(flex='2'), max=1250.0, style=Pro…"
      ]
     },
     "metadata": {},
     "output_type": "display_data"
    },
    {
     "name": "stdout",
     "output_type": "stream",
     "text": [
      "Epoch 4292: train=7.72451, val=7.80269, took 31.223 s\n",
      "  Validation Found 51307 of 54504, added 1845 (eff 94.13%) (0.185 FP/event)\n"
     ]
    },
    {
     "data": {
      "application/vnd.jupyter.widget-view+json": {
       "model_id": "",
       "version_major": 2,
       "version_minor": 0
      },
      "text/plain": [
       "HBox(children=(FloatProgress(value=0.0, description='Training', layout=Layout(flex='2'), max=1250.0, style=Pro…"
      ]
     },
     "metadata": {},
     "output_type": "display_data"
    },
    {
     "name": "stdout",
     "output_type": "stream",
     "text": [
      "Epoch 4293: train=7.72159, val=7.82089, took 31.105 s\n",
      "  Validation Found 51233 of 54504, added 1726 (eff 94.00%) (0.173 FP/event)\n"
     ]
    },
    {
     "data": {
      "application/vnd.jupyter.widget-view+json": {
       "model_id": "",
       "version_major": 2,
       "version_minor": 0
      },
      "text/plain": [
       "HBox(children=(FloatProgress(value=0.0, description='Training', layout=Layout(flex='2'), max=1250.0, style=Pro…"
      ]
     },
     "metadata": {},
     "output_type": "display_data"
    },
    {
     "name": "stdout",
     "output_type": "stream",
     "text": [
      "Epoch 4294: train=7.72342, val=7.79049, took 31.132 s\n",
      "  Validation Found 51326 of 54504, added 1858 (eff 94.17%) (0.186 FP/event)\n"
     ]
    },
    {
     "data": {
      "application/vnd.jupyter.widget-view+json": {
       "model_id": "",
       "version_major": 2,
       "version_minor": 0
      },
      "text/plain": [
       "HBox(children=(FloatProgress(value=0.0, description='Training', layout=Layout(flex='2'), max=1250.0, style=Pro…"
      ]
     },
     "metadata": {},
     "output_type": "display_data"
    },
    {
     "name": "stdout",
     "output_type": "stream",
     "text": [
      "Epoch 4295: train=7.72386, val=7.79753, took 31.182 s\n",
      "  Validation Found 51308 of 54504, added 1848 (eff 94.14%) (0.185 FP/event)\n"
     ]
    },
    {
     "data": {
      "application/vnd.jupyter.widget-view+json": {
       "model_id": "",
       "version_major": 2,
       "version_minor": 0
      },
      "text/plain": [
       "HBox(children=(FloatProgress(value=0.0, description='Training', layout=Layout(flex='2'), max=1250.0, style=Pro…"
      ]
     },
     "metadata": {},
     "output_type": "display_data"
    },
    {
     "name": "stdout",
     "output_type": "stream",
     "text": [
      "Epoch 4296: train=7.72354, val=7.78142, took 31.052 s\n",
      "  Validation Found 51335 of 54504, added 1881 (eff 94.19%) (0.188 FP/event)\n"
     ]
    },
    {
     "data": {
      "application/vnd.jupyter.widget-view+json": {
       "model_id": "",
       "version_major": 2,
       "version_minor": 0
      },
      "text/plain": [
       "HBox(children=(FloatProgress(value=0.0, description='Training', layout=Layout(flex='2'), max=1250.0, style=Pro…"
      ]
     },
     "metadata": {},
     "output_type": "display_data"
    },
    {
     "name": "stdout",
     "output_type": "stream",
     "text": [
      "Epoch 4297: train=7.72458, val=7.79682, took 31.128 s\n",
      "  Validation Found 51322 of 54504, added 1845 (eff 94.16%) (0.185 FP/event)\n"
     ]
    },
    {
     "data": {
      "application/vnd.jupyter.widget-view+json": {
       "model_id": "",
       "version_major": 2,
       "version_minor": 0
      },
      "text/plain": [
       "HBox(children=(FloatProgress(value=0.0, description='Training', layout=Layout(flex='2'), max=1250.0, style=Pro…"
      ]
     },
     "metadata": {},
     "output_type": "display_data"
    },
    {
     "name": "stdout",
     "output_type": "stream",
     "text": [
      "Epoch 4298: train=7.72254, val=7.80024, took 31.072 s\n",
      "  Validation Found 51293 of 54504, added 1802 (eff 94.11%) (0.18 FP/event)\n"
     ]
    },
    {
     "data": {
      "application/vnd.jupyter.widget-view+json": {
       "model_id": "",
       "version_major": 2,
       "version_minor": 0
      },
      "text/plain": [
       "HBox(children=(FloatProgress(value=0.0, description='Training', layout=Layout(flex='2'), max=1250.0, style=Pro…"
      ]
     },
     "metadata": {},
     "output_type": "display_data"
    },
    {
     "name": "stdout",
     "output_type": "stream",
     "text": [
      "Epoch 4299: train=7.72334, val=7.7976, took 31.304 s\n",
      "  Validation Found 51259 of 54504, added 1786 (eff 94.05%) (0.179 FP/event)\n"
     ]
    },
    {
     "data": {
      "application/vnd.jupyter.widget-view+json": {
       "model_id": "",
       "version_major": 2,
       "version_minor": 0
      },
      "text/plain": [
       "HBox(children=(FloatProgress(value=0.0, description='Training', layout=Layout(flex='2'), max=1250.0, style=Pro…"
      ]
     },
     "metadata": {},
     "output_type": "display_data"
    },
    {
     "name": "stdout",
     "output_type": "stream",
     "text": [
      "Epoch 4300: train=7.72396, val=7.78222, took 31.316 s\n",
      "  Validation Found 51378 of 54504, added 1971 (eff 94.26%) (0.197 FP/event)\n"
     ]
    },
    {
     "data": {
      "application/vnd.jupyter.widget-view+json": {
       "model_id": "",
       "version_major": 2,
       "version_minor": 0
      },
      "text/plain": [
       "HBox(children=(FloatProgress(value=0.0, description='Training', layout=Layout(flex='2'), max=1250.0, style=Pro…"
      ]
     },
     "metadata": {},
     "output_type": "display_data"
    },
    {
     "name": "stdout",
     "output_type": "stream",
     "text": [
      "Epoch 4301: train=7.72651, val=7.81085, took 31.304 s\n",
      "  Validation Found 51273 of 54504, added 1794 (eff 94.07%) (0.18 FP/event)\n"
     ]
    },
    {
     "data": {
      "application/vnd.jupyter.widget-view+json": {
       "model_id": "",
       "version_major": 2,
       "version_minor": 0
      },
      "text/plain": [
       "HBox(children=(FloatProgress(value=0.0, description='Training', layout=Layout(flex='2'), max=1250.0, style=Pro…"
      ]
     },
     "metadata": {},
     "output_type": "display_data"
    },
    {
     "name": "stdout",
     "output_type": "stream",
     "text": [
      "Epoch 4302: train=7.72148, val=7.79029, took 31.218 s\n",
      "  Validation Found 51294 of 54504, added 1822 (eff 94.11%) (0.182 FP/event)\n"
     ]
    },
    {
     "data": {
      "application/vnd.jupyter.widget-view+json": {
       "model_id": "",
       "version_major": 2,
       "version_minor": 0
      },
      "text/plain": [
       "HBox(children=(FloatProgress(value=0.0, description='Training', layout=Layout(flex='2'), max=1250.0, style=Pro…"
      ]
     },
     "metadata": {},
     "output_type": "display_data"
    },
    {
     "name": "stdout",
     "output_type": "stream",
     "text": [
      "Epoch 4303: train=7.72238, val=7.78133, took 31.18 s\n",
      "  Validation Found 51394 of 54504, added 1973 (eff 94.29%) (0.198 FP/event)\n"
     ]
    },
    {
     "data": {
      "application/vnd.jupyter.widget-view+json": {
       "model_id": "",
       "version_major": 2,
       "version_minor": 0
      },
      "text/plain": [
       "HBox(children=(FloatProgress(value=0.0, description='Training', layout=Layout(flex='2'), max=1250.0, style=Pro…"
      ]
     },
     "metadata": {},
     "output_type": "display_data"
    },
    {
     "name": "stdout",
     "output_type": "stream",
     "text": [
      "Epoch 4304: train=7.72129, val=7.77225, took 31.093 s\n",
      "  Validation Found 51318 of 54504, added 1853 (eff 94.15%) (0.186 FP/event)\n"
     ]
    },
    {
     "data": {
      "application/vnd.jupyter.widget-view+json": {
       "model_id": "",
       "version_major": 2,
       "version_minor": 0
      },
      "text/plain": [
       "HBox(children=(FloatProgress(value=0.0, description='Training', layout=Layout(flex='2'), max=1250.0, style=Pro…"
      ]
     },
     "metadata": {},
     "output_type": "display_data"
    },
    {
     "name": "stdout",
     "output_type": "stream",
     "text": [
      "Epoch 4305: train=7.72213, val=7.8072, took 31.146 s\n",
      "  Validation Found 51298 of 54504, added 1808 (eff 94.12%) (0.181 FP/event)\n"
     ]
    },
    {
     "data": {
      "application/vnd.jupyter.widget-view+json": {
       "model_id": "",
       "version_major": 2,
       "version_minor": 0
      },
      "text/plain": [
       "HBox(children=(FloatProgress(value=0.0, description='Training', layout=Layout(flex='2'), max=1250.0, style=Pro…"
      ]
     },
     "metadata": {},
     "output_type": "display_data"
    },
    {
     "name": "stdout",
     "output_type": "stream",
     "text": [
      "Epoch 4306: train=7.72213, val=7.79139, took 31.298 s\n",
      "  Validation Found 51364 of 54504, added 1908 (eff 94.24%) (0.191 FP/event)\n"
     ]
    },
    {
     "data": {
      "application/vnd.jupyter.widget-view+json": {
       "model_id": "",
       "version_major": 2,
       "version_minor": 0
      },
      "text/plain": [
       "HBox(children=(FloatProgress(value=0.0, description='Training', layout=Layout(flex='2'), max=1250.0, style=Pro…"
      ]
     },
     "metadata": {},
     "output_type": "display_data"
    },
    {
     "name": "stdout",
     "output_type": "stream",
     "text": [
      "Epoch 4307: train=7.72352, val=7.78871, took 31.392 s\n",
      "  Validation Found 51304 of 54504, added 1830 (eff 94.13%) (0.183 FP/event)\n"
     ]
    },
    {
     "data": {
      "application/vnd.jupyter.widget-view+json": {
       "model_id": "",
       "version_major": 2,
       "version_minor": 0
      },
      "text/plain": [
       "HBox(children=(FloatProgress(value=0.0, description='Training', layout=Layout(flex='2'), max=1250.0, style=Pro…"
      ]
     },
     "metadata": {},
     "output_type": "display_data"
    },
    {
     "name": "stdout",
     "output_type": "stream",
     "text": [
      "Epoch 4308: train=7.72244, val=7.79094, took 31.054 s\n",
      "  Validation Found 51335 of 54504, added 1856 (eff 94.19%) (0.186 FP/event)\n"
     ]
    },
    {
     "data": {
      "application/vnd.jupyter.widget-view+json": {
       "model_id": "",
       "version_major": 2,
       "version_minor": 0
      },
      "text/plain": [
       "HBox(children=(FloatProgress(value=0.0, description='Training', layout=Layout(flex='2'), max=1250.0, style=Pro…"
      ]
     },
     "metadata": {},
     "output_type": "display_data"
    },
    {
     "name": "stdout",
     "output_type": "stream",
     "text": [
      "Epoch 4309: train=7.72434, val=7.78921, took 31.084 s\n",
      "  Validation Found 51336 of 54504, added 1863 (eff 94.19%) (0.187 FP/event)\n"
     ]
    },
    {
     "data": {
      "application/vnd.jupyter.widget-view+json": {
       "model_id": "",
       "version_major": 2,
       "version_minor": 0
      },
      "text/plain": [
       "HBox(children=(FloatProgress(value=0.0, description='Training', layout=Layout(flex='2'), max=1250.0, style=Pro…"
      ]
     },
     "metadata": {},
     "output_type": "display_data"
    },
    {
     "name": "stdout",
     "output_type": "stream",
     "text": [
      "Epoch 4310: train=7.72336, val=7.79564, took 31.187 s\n",
      "  Validation Found 51334 of 54504, added 1875 (eff 94.18%) (0.188 FP/event)\n"
     ]
    },
    {
     "data": {
      "application/vnd.jupyter.widget-view+json": {
       "model_id": "",
       "version_major": 2,
       "version_minor": 0
      },
      "text/plain": [
       "HBox(children=(FloatProgress(value=0.0, description='Training', layout=Layout(flex='2'), max=1250.0, style=Pro…"
      ]
     },
     "metadata": {},
     "output_type": "display_data"
    },
    {
     "name": "stdout",
     "output_type": "stream",
     "text": [
      "Epoch 4311: train=7.72199, val=7.80467, took 31.119 s\n",
      "  Validation Found 51290 of 54504, added 1816 (eff 94.10%) (0.182 FP/event)\n"
     ]
    },
    {
     "data": {
      "application/vnd.jupyter.widget-view+json": {
       "model_id": "",
       "version_major": 2,
       "version_minor": 0
      },
      "text/plain": [
       "HBox(children=(FloatProgress(value=0.0, description='Training', layout=Layout(flex='2'), max=1250.0, style=Pro…"
      ]
     },
     "metadata": {},
     "output_type": "display_data"
    },
    {
     "name": "stdout",
     "output_type": "stream",
     "text": [
      "Epoch 4312: train=7.72389, val=7.82854, took 31.105 s\n",
      "  Validation Found 51226 of 54504, added 1747 (eff 93.99%) (0.175 FP/event)\n"
     ]
    },
    {
     "data": {
      "application/vnd.jupyter.widget-view+json": {
       "model_id": "",
       "version_major": 2,
       "version_minor": 0
      },
      "text/plain": [
       "HBox(children=(FloatProgress(value=0.0, description='Training', layout=Layout(flex='2'), max=1250.0, style=Pro…"
      ]
     },
     "metadata": {},
     "output_type": "display_data"
    },
    {
     "name": "stdout",
     "output_type": "stream",
     "text": [
      "Epoch 4313: train=7.72031, val=7.79105, took 31.144 s\n",
      "  Validation Found 51278 of 54504, added 1801 (eff 94.08%) (0.18 FP/event)\n"
     ]
    },
    {
     "data": {
      "application/vnd.jupyter.widget-view+json": {
       "model_id": "",
       "version_major": 2,
       "version_minor": 0
      },
      "text/plain": [
       "HBox(children=(FloatProgress(value=0.0, description='Training', layout=Layout(flex='2'), max=1250.0, style=Pro…"
      ]
     },
     "metadata": {},
     "output_type": "display_data"
    },
    {
     "name": "stdout",
     "output_type": "stream",
     "text": [
      "Epoch 4314: train=7.72347, val=7.77353, took 31.207 s\n",
      "  Validation Found 51351 of 54504, added 1906 (eff 94.22%) (0.191 FP/event)\n"
     ]
    },
    {
     "data": {
      "application/vnd.jupyter.widget-view+json": {
       "model_id": "",
       "version_major": 2,
       "version_minor": 0
      },
      "text/plain": [
       "HBox(children=(FloatProgress(value=0.0, description='Training', layout=Layout(flex='2'), max=1250.0, style=Pro…"
      ]
     },
     "metadata": {},
     "output_type": "display_data"
    },
    {
     "name": "stdout",
     "output_type": "stream",
     "text": [
      "Epoch 4315: train=7.7227, val=7.78508, took 31.085 s\n",
      "  Validation Found 51337 of 54504, added 1872 (eff 94.19%) (0.187 FP/event)\n"
     ]
    },
    {
     "data": {
      "application/vnd.jupyter.widget-view+json": {
       "model_id": "",
       "version_major": 2,
       "version_minor": 0
      },
      "text/plain": [
       "HBox(children=(FloatProgress(value=0.0, description='Training', layout=Layout(flex='2'), max=1250.0, style=Pro…"
      ]
     },
     "metadata": {},
     "output_type": "display_data"
    },
    {
     "name": "stdout",
     "output_type": "stream",
     "text": [
      "Epoch 4316: train=7.72409, val=7.80753, took 31.078 s\n",
      "  Validation Found 51276 of 54504, added 1793 (eff 94.08%) (0.18 FP/event)\n",
      "\n"
     ]
    },
    {
     "data": {
      "application/javascript": [
       "/* Put everything inside the global mpl namespace */\n",
       "window.mpl = {};\n",
       "\n",
       "\n",
       "mpl.get_websocket_type = function() {\n",
       "    if (typeof(WebSocket) !== 'undefined') {\n",
       "        return WebSocket;\n",
       "    } else if (typeof(MozWebSocket) !== 'undefined') {\n",
       "        return MozWebSocket;\n",
       "    } else {\n",
       "        alert('Your browser does not have WebSocket support. ' +\n",
       "              'Please try Chrome, Safari or Firefox ≥ 6. ' +\n",
       "              'Firefox 4 and 5 are also supported but you ' +\n",
       "              'have to enable WebSockets in about:config.');\n",
       "    };\n",
       "}\n",
       "\n",
       "mpl.figure = function(figure_id, websocket, ondownload, parent_element) {\n",
       "    this.id = figure_id;\n",
       "\n",
       "    this.ws = websocket;\n",
       "\n",
       "    this.supports_binary = (this.ws.binaryType != undefined);\n",
       "\n",
       "    if (!this.supports_binary) {\n",
       "        var warnings = document.getElementById(\"mpl-warnings\");\n",
       "        if (warnings) {\n",
       "            warnings.style.display = 'block';\n",
       "            warnings.textContent = (\n",
       "                \"This browser does not support binary websocket messages. \" +\n",
       "                    \"Performance may be slow.\");\n",
       "        }\n",
       "    }\n",
       "\n",
       "    this.imageObj = new Image();\n",
       "\n",
       "    this.context = undefined;\n",
       "    this.message = undefined;\n",
       "    this.canvas = undefined;\n",
       "    this.rubberband_canvas = undefined;\n",
       "    this.rubberband_context = undefined;\n",
       "    this.format_dropdown = undefined;\n",
       "\n",
       "    this.image_mode = 'full';\n",
       "\n",
       "    this.root = $('<div/>');\n",
       "    this._root_extra_style(this.root)\n",
       "    this.root.attr('style', 'display: inline-block');\n",
       "\n",
       "    $(parent_element).append(this.root);\n",
       "\n",
       "    this._init_header(this);\n",
       "    this._init_canvas(this);\n",
       "    this._init_toolbar(this);\n",
       "\n",
       "    var fig = this;\n",
       "\n",
       "    this.waiting = false;\n",
       "\n",
       "    this.ws.onopen =  function () {\n",
       "            fig.send_message(\"supports_binary\", {value: fig.supports_binary});\n",
       "            fig.send_message(\"send_image_mode\", {});\n",
       "            if (mpl.ratio != 1) {\n",
       "                fig.send_message(\"set_dpi_ratio\", {'dpi_ratio': mpl.ratio});\n",
       "            }\n",
       "            fig.send_message(\"refresh\", {});\n",
       "        }\n",
       "\n",
       "    this.imageObj.onload = function() {\n",
       "            if (fig.image_mode == 'full') {\n",
       "                // Full images could contain transparency (where diff images\n",
       "                // almost always do), so we need to clear the canvas so that\n",
       "                // there is no ghosting.\n",
       "                fig.context.clearRect(0, 0, fig.canvas.width, fig.canvas.height);\n",
       "            }\n",
       "            fig.context.drawImage(fig.imageObj, 0, 0);\n",
       "        };\n",
       "\n",
       "    this.imageObj.onunload = function() {\n",
       "        fig.ws.close();\n",
       "    }\n",
       "\n",
       "    this.ws.onmessage = this._make_on_message_function(this);\n",
       "\n",
       "    this.ondownload = ondownload;\n",
       "}\n",
       "\n",
       "mpl.figure.prototype._init_header = function() {\n",
       "    var titlebar = $(\n",
       "        '<div class=\"ui-dialog-titlebar ui-widget-header ui-corner-all ' +\n",
       "        'ui-helper-clearfix\"/>');\n",
       "    var titletext = $(\n",
       "        '<div class=\"ui-dialog-title\" style=\"width: 100%; ' +\n",
       "        'text-align: center; padding: 3px;\"/>');\n",
       "    titlebar.append(titletext)\n",
       "    this.root.append(titlebar);\n",
       "    this.header = titletext[0];\n",
       "}\n",
       "\n",
       "\n",
       "\n",
       "mpl.figure.prototype._canvas_extra_style = function(canvas_div) {\n",
       "\n",
       "}\n",
       "\n",
       "\n",
       "mpl.figure.prototype._root_extra_style = function(canvas_div) {\n",
       "\n",
       "}\n",
       "\n",
       "mpl.figure.prototype._init_canvas = function() {\n",
       "    var fig = this;\n",
       "\n",
       "    var canvas_div = $('<div/>');\n",
       "\n",
       "    canvas_div.attr('style', 'position: relative; clear: both; outline: 0');\n",
       "\n",
       "    function canvas_keyboard_event(event) {\n",
       "        return fig.key_event(event, event['data']);\n",
       "    }\n",
       "\n",
       "    canvas_div.keydown('key_press', canvas_keyboard_event);\n",
       "    canvas_div.keyup('key_release', canvas_keyboard_event);\n",
       "    this.canvas_div = canvas_div\n",
       "    this._canvas_extra_style(canvas_div)\n",
       "    this.root.append(canvas_div);\n",
       "\n",
       "    var canvas = $('<canvas/>');\n",
       "    canvas.addClass('mpl-canvas');\n",
       "    canvas.attr('style', \"left: 0; top: 0; z-index: 0; outline: 0\")\n",
       "\n",
       "    this.canvas = canvas[0];\n",
       "    this.context = canvas[0].getContext(\"2d\");\n",
       "\n",
       "    var backingStore = this.context.backingStorePixelRatio ||\n",
       "\tthis.context.webkitBackingStorePixelRatio ||\n",
       "\tthis.context.mozBackingStorePixelRatio ||\n",
       "\tthis.context.msBackingStorePixelRatio ||\n",
       "\tthis.context.oBackingStorePixelRatio ||\n",
       "\tthis.context.backingStorePixelRatio || 1;\n",
       "\n",
       "    mpl.ratio = (window.devicePixelRatio || 1) / backingStore;\n",
       "\n",
       "    var rubberband = $('<canvas/>');\n",
       "    rubberband.attr('style', \"position: absolute; left: 0; top: 0; z-index: 1;\")\n",
       "\n",
       "    var pass_mouse_events = true;\n",
       "\n",
       "    canvas_div.resizable({\n",
       "        start: function(event, ui) {\n",
       "            pass_mouse_events = false;\n",
       "        },\n",
       "        resize: function(event, ui) {\n",
       "            fig.request_resize(ui.size.width, ui.size.height);\n",
       "        },\n",
       "        stop: function(event, ui) {\n",
       "            pass_mouse_events = true;\n",
       "            fig.request_resize(ui.size.width, ui.size.height);\n",
       "        },\n",
       "    });\n",
       "\n",
       "    function mouse_event_fn(event) {\n",
       "        if (pass_mouse_events)\n",
       "            return fig.mouse_event(event, event['data']);\n",
       "    }\n",
       "\n",
       "    rubberband.mousedown('button_press', mouse_event_fn);\n",
       "    rubberband.mouseup('button_release', mouse_event_fn);\n",
       "    // Throttle sequential mouse events to 1 every 20ms.\n",
       "    rubberband.mousemove('motion_notify', mouse_event_fn);\n",
       "\n",
       "    rubberband.mouseenter('figure_enter', mouse_event_fn);\n",
       "    rubberband.mouseleave('figure_leave', mouse_event_fn);\n",
       "\n",
       "    canvas_div.on(\"wheel\", function (event) {\n",
       "        event = event.originalEvent;\n",
       "        event['data'] = 'scroll'\n",
       "        if (event.deltaY < 0) {\n",
       "            event.step = 1;\n",
       "        } else {\n",
       "            event.step = -1;\n",
       "        }\n",
       "        mouse_event_fn(event);\n",
       "    });\n",
       "\n",
       "    canvas_div.append(canvas);\n",
       "    canvas_div.append(rubberband);\n",
       "\n",
       "    this.rubberband = rubberband;\n",
       "    this.rubberband_canvas = rubberband[0];\n",
       "    this.rubberband_context = rubberband[0].getContext(\"2d\");\n",
       "    this.rubberband_context.strokeStyle = \"#000000\";\n",
       "\n",
       "    this._resize_canvas = function(width, height) {\n",
       "        // Keep the size of the canvas, canvas container, and rubber band\n",
       "        // canvas in synch.\n",
       "        canvas_div.css('width', width)\n",
       "        canvas_div.css('height', height)\n",
       "\n",
       "        canvas.attr('width', width * mpl.ratio);\n",
       "        canvas.attr('height', height * mpl.ratio);\n",
       "        canvas.attr('style', 'width: ' + width + 'px; height: ' + height + 'px;');\n",
       "\n",
       "        rubberband.attr('width', width);\n",
       "        rubberband.attr('height', height);\n",
       "    }\n",
       "\n",
       "    // Set the figure to an initial 600x600px, this will subsequently be updated\n",
       "    // upon first draw.\n",
       "    this._resize_canvas(600, 600);\n",
       "\n",
       "    // Disable right mouse context menu.\n",
       "    $(this.rubberband_canvas).bind(\"contextmenu\",function(e){\n",
       "        return false;\n",
       "    });\n",
       "\n",
       "    function set_focus () {\n",
       "        canvas.focus();\n",
       "        canvas_div.focus();\n",
       "    }\n",
       "\n",
       "    window.setTimeout(set_focus, 100);\n",
       "}\n",
       "\n",
       "mpl.figure.prototype._init_toolbar = function() {\n",
       "    var fig = this;\n",
       "\n",
       "    var nav_element = $('<div/>');\n",
       "    nav_element.attr('style', 'width: 100%');\n",
       "    this.root.append(nav_element);\n",
       "\n",
       "    // Define a callback function for later on.\n",
       "    function toolbar_event(event) {\n",
       "        return fig.toolbar_button_onclick(event['data']);\n",
       "    }\n",
       "    function toolbar_mouse_event(event) {\n",
       "        return fig.toolbar_button_onmouseover(event['data']);\n",
       "    }\n",
       "\n",
       "    for(var toolbar_ind in mpl.toolbar_items) {\n",
       "        var name = mpl.toolbar_items[toolbar_ind][0];\n",
       "        var tooltip = mpl.toolbar_items[toolbar_ind][1];\n",
       "        var image = mpl.toolbar_items[toolbar_ind][2];\n",
       "        var method_name = mpl.toolbar_items[toolbar_ind][3];\n",
       "\n",
       "        if (!name) {\n",
       "            // put a spacer in here.\n",
       "            continue;\n",
       "        }\n",
       "        var button = $('<button/>');\n",
       "        button.addClass('ui-button ui-widget ui-state-default ui-corner-all ' +\n",
       "                        'ui-button-icon-only');\n",
       "        button.attr('role', 'button');\n",
       "        button.attr('aria-disabled', 'false');\n",
       "        button.click(method_name, toolbar_event);\n",
       "        button.mouseover(tooltip, toolbar_mouse_event);\n",
       "\n",
       "        var icon_img = $('<span/>');\n",
       "        icon_img.addClass('ui-button-icon-primary ui-icon');\n",
       "        icon_img.addClass(image);\n",
       "        icon_img.addClass('ui-corner-all');\n",
       "\n",
       "        var tooltip_span = $('<span/>');\n",
       "        tooltip_span.addClass('ui-button-text');\n",
       "        tooltip_span.html(tooltip);\n",
       "\n",
       "        button.append(icon_img);\n",
       "        button.append(tooltip_span);\n",
       "\n",
       "        nav_element.append(button);\n",
       "    }\n",
       "\n",
       "    var fmt_picker_span = $('<span/>');\n",
       "\n",
       "    var fmt_picker = $('<select/>');\n",
       "    fmt_picker.addClass('mpl-toolbar-option ui-widget ui-widget-content');\n",
       "    fmt_picker_span.append(fmt_picker);\n",
       "    nav_element.append(fmt_picker_span);\n",
       "    this.format_dropdown = fmt_picker[0];\n",
       "\n",
       "    for (var ind in mpl.extensions) {\n",
       "        var fmt = mpl.extensions[ind];\n",
       "        var option = $(\n",
       "            '<option/>', {selected: fmt === mpl.default_extension}).html(fmt);\n",
       "        fmt_picker.append(option);\n",
       "    }\n",
       "\n",
       "    // Add hover states to the ui-buttons\n",
       "    $( \".ui-button\" ).hover(\n",
       "        function() { $(this).addClass(\"ui-state-hover\");},\n",
       "        function() { $(this).removeClass(\"ui-state-hover\");}\n",
       "    );\n",
       "\n",
       "    var status_bar = $('<span class=\"mpl-message\"/>');\n",
       "    nav_element.append(status_bar);\n",
       "    this.message = status_bar[0];\n",
       "}\n",
       "\n",
       "mpl.figure.prototype.request_resize = function(x_pixels, y_pixels) {\n",
       "    // Request matplotlib to resize the figure. Matplotlib will then trigger a resize in the client,\n",
       "    // which will in turn request a refresh of the image.\n",
       "    this.send_message('resize', {'width': x_pixels, 'height': y_pixels});\n",
       "}\n",
       "\n",
       "mpl.figure.prototype.send_message = function(type, properties) {\n",
       "    properties['type'] = type;\n",
       "    properties['figure_id'] = this.id;\n",
       "    this.ws.send(JSON.stringify(properties));\n",
       "}\n",
       "\n",
       "mpl.figure.prototype.send_draw_message = function() {\n",
       "    if (!this.waiting) {\n",
       "        this.waiting = true;\n",
       "        this.ws.send(JSON.stringify({type: \"draw\", figure_id: this.id}));\n",
       "    }\n",
       "}\n",
       "\n",
       "\n",
       "mpl.figure.prototype.handle_save = function(fig, msg) {\n",
       "    var format_dropdown = fig.format_dropdown;\n",
       "    var format = format_dropdown.options[format_dropdown.selectedIndex].value;\n",
       "    fig.ondownload(fig, format);\n",
       "}\n",
       "\n",
       "\n",
       "mpl.figure.prototype.handle_resize = function(fig, msg) {\n",
       "    var size = msg['size'];\n",
       "    if (size[0] != fig.canvas.width || size[1] != fig.canvas.height) {\n",
       "        fig._resize_canvas(size[0], size[1]);\n",
       "        fig.send_message(\"refresh\", {});\n",
       "    };\n",
       "}\n",
       "\n",
       "mpl.figure.prototype.handle_rubberband = function(fig, msg) {\n",
       "    var x0 = msg['x0'] / mpl.ratio;\n",
       "    var y0 = (fig.canvas.height - msg['y0']) / mpl.ratio;\n",
       "    var x1 = msg['x1'] / mpl.ratio;\n",
       "    var y1 = (fig.canvas.height - msg['y1']) / mpl.ratio;\n",
       "    x0 = Math.floor(x0) + 0.5;\n",
       "    y0 = Math.floor(y0) + 0.5;\n",
       "    x1 = Math.floor(x1) + 0.5;\n",
       "    y1 = Math.floor(y1) + 0.5;\n",
       "    var min_x = Math.min(x0, x1);\n",
       "    var min_y = Math.min(y0, y1);\n",
       "    var width = Math.abs(x1 - x0);\n",
       "    var height = Math.abs(y1 - y0);\n",
       "\n",
       "    fig.rubberband_context.clearRect(\n",
       "        0, 0, fig.canvas.width / mpl.ratio, fig.canvas.height / mpl.ratio);\n",
       "\n",
       "    fig.rubberband_context.strokeRect(min_x, min_y, width, height);\n",
       "}\n",
       "\n",
       "mpl.figure.prototype.handle_figure_label = function(fig, msg) {\n",
       "    // Updates the figure title.\n",
       "    fig.header.textContent = msg['label'];\n",
       "}\n",
       "\n",
       "mpl.figure.prototype.handle_cursor = function(fig, msg) {\n",
       "    var cursor = msg['cursor'];\n",
       "    switch(cursor)\n",
       "    {\n",
       "    case 0:\n",
       "        cursor = 'pointer';\n",
       "        break;\n",
       "    case 1:\n",
       "        cursor = 'default';\n",
       "        break;\n",
       "    case 2:\n",
       "        cursor = 'crosshair';\n",
       "        break;\n",
       "    case 3:\n",
       "        cursor = 'move';\n",
       "        break;\n",
       "    }\n",
       "    fig.rubberband_canvas.style.cursor = cursor;\n",
       "}\n",
       "\n",
       "mpl.figure.prototype.handle_message = function(fig, msg) {\n",
       "    fig.message.textContent = msg['message'];\n",
       "}\n",
       "\n",
       "mpl.figure.prototype.handle_draw = function(fig, msg) {\n",
       "    // Request the server to send over a new figure.\n",
       "    fig.send_draw_message();\n",
       "}\n",
       "\n",
       "mpl.figure.prototype.handle_image_mode = function(fig, msg) {\n",
       "    fig.image_mode = msg['mode'];\n",
       "}\n",
       "\n",
       "mpl.figure.prototype.updated_canvas_event = function() {\n",
       "    // Called whenever the canvas gets updated.\n",
       "    this.send_message(\"ack\", {});\n",
       "}\n",
       "\n",
       "// A function to construct a web socket function for onmessage handling.\n",
       "// Called in the figure constructor.\n",
       "mpl.figure.prototype._make_on_message_function = function(fig) {\n",
       "    return function socket_on_message(evt) {\n",
       "        if (evt.data instanceof Blob) {\n",
       "            /* FIXME: We get \"Resource interpreted as Image but\n",
       "             * transferred with MIME type text/plain:\" errors on\n",
       "             * Chrome.  But how to set the MIME type?  It doesn't seem\n",
       "             * to be part of the websocket stream */\n",
       "            evt.data.type = \"image/png\";\n",
       "\n",
       "            /* Free the memory for the previous frames */\n",
       "            if (fig.imageObj.src) {\n",
       "                (window.URL || window.webkitURL).revokeObjectURL(\n",
       "                    fig.imageObj.src);\n",
       "            }\n",
       "\n",
       "            fig.imageObj.src = (window.URL || window.webkitURL).createObjectURL(\n",
       "                evt.data);\n",
       "            fig.updated_canvas_event();\n",
       "            fig.waiting = false;\n",
       "            return;\n",
       "        }\n",
       "        else if (typeof evt.data === 'string' && evt.data.slice(0, 21) == \"data:image/png;base64\") {\n",
       "            fig.imageObj.src = evt.data;\n",
       "            fig.updated_canvas_event();\n",
       "            fig.waiting = false;\n",
       "            return;\n",
       "        }\n",
       "\n",
       "        var msg = JSON.parse(evt.data);\n",
       "        var msg_type = msg['type'];\n",
       "\n",
       "        // Call the  \"handle_{type}\" callback, which takes\n",
       "        // the figure and JSON message as its only arguments.\n",
       "        try {\n",
       "            var callback = fig[\"handle_\" + msg_type];\n",
       "        } catch (e) {\n",
       "            console.log(\"No handler for the '\" + msg_type + \"' message type: \", msg);\n",
       "            return;\n",
       "        }\n",
       "\n",
       "        if (callback) {\n",
       "            try {\n",
       "                // console.log(\"Handling '\" + msg_type + \"' message: \", msg);\n",
       "                callback(fig, msg);\n",
       "            } catch (e) {\n",
       "                console.log(\"Exception inside the 'handler_\" + msg_type + \"' callback:\", e, e.stack, msg);\n",
       "            }\n",
       "        }\n",
       "    };\n",
       "}\n",
       "\n",
       "// from http://stackoverflow.com/questions/1114465/getting-mouse-location-in-canvas\n",
       "mpl.findpos = function(e) {\n",
       "    //this section is from http://www.quirksmode.org/js/events_properties.html\n",
       "    var targ;\n",
       "    if (!e)\n",
       "        e = window.event;\n",
       "    if (e.target)\n",
       "        targ = e.target;\n",
       "    else if (e.srcElement)\n",
       "        targ = e.srcElement;\n",
       "    if (targ.nodeType == 3) // defeat Safari bug\n",
       "        targ = targ.parentNode;\n",
       "\n",
       "    // jQuery normalizes the pageX and pageY\n",
       "    // pageX,Y are the mouse positions relative to the document\n",
       "    // offset() returns the position of the element relative to the document\n",
       "    var x = e.pageX - $(targ).offset().left;\n",
       "    var y = e.pageY - $(targ).offset().top;\n",
       "\n",
       "    return {\"x\": x, \"y\": y};\n",
       "};\n",
       "\n",
       "/*\n",
       " * return a copy of an object with only non-object keys\n",
       " * we need this to avoid circular references\n",
       " * http://stackoverflow.com/a/24161582/3208463\n",
       " */\n",
       "function simpleKeys (original) {\n",
       "  return Object.keys(original).reduce(function (obj, key) {\n",
       "    if (typeof original[key] !== 'object')\n",
       "        obj[key] = original[key]\n",
       "    return obj;\n",
       "  }, {});\n",
       "}\n",
       "\n",
       "mpl.figure.prototype.mouse_event = function(event, name) {\n",
       "    var canvas_pos = mpl.findpos(event)\n",
       "\n",
       "    if (name === 'button_press')\n",
       "    {\n",
       "        this.canvas.focus();\n",
       "        this.canvas_div.focus();\n",
       "    }\n",
       "\n",
       "    var x = canvas_pos.x * mpl.ratio;\n",
       "    var y = canvas_pos.y * mpl.ratio;\n",
       "\n",
       "    this.send_message(name, {x: x, y: y, button: event.button,\n",
       "                             step: event.step,\n",
       "                             guiEvent: simpleKeys(event)});\n",
       "\n",
       "    /* This prevents the web browser from automatically changing to\n",
       "     * the text insertion cursor when the button is pressed.  We want\n",
       "     * to control all of the cursor setting manually through the\n",
       "     * 'cursor' event from matplotlib */\n",
       "    event.preventDefault();\n",
       "    return false;\n",
       "}\n",
       "\n",
       "mpl.figure.prototype._key_event_extra = function(event, name) {\n",
       "    // Handle any extra behaviour associated with a key event\n",
       "}\n",
       "\n",
       "mpl.figure.prototype.key_event = function(event, name) {\n",
       "\n",
       "    // Prevent repeat events\n",
       "    if (name == 'key_press')\n",
       "    {\n",
       "        if (event.which === this._key)\n",
       "            return;\n",
       "        else\n",
       "            this._key = event.which;\n",
       "    }\n",
       "    if (name == 'key_release')\n",
       "        this._key = null;\n",
       "\n",
       "    var value = '';\n",
       "    if (event.ctrlKey && event.which != 17)\n",
       "        value += \"ctrl+\";\n",
       "    if (event.altKey && event.which != 18)\n",
       "        value += \"alt+\";\n",
       "    if (event.shiftKey && event.which != 16)\n",
       "        value += \"shift+\";\n",
       "\n",
       "    value += 'k';\n",
       "    value += event.which.toString();\n",
       "\n",
       "    this._key_event_extra(event, name);\n",
       "\n",
       "    this.send_message(name, {key: value,\n",
       "                             guiEvent: simpleKeys(event)});\n",
       "    return false;\n",
       "}\n",
       "\n",
       "mpl.figure.prototype.toolbar_button_onclick = function(name) {\n",
       "    if (name == 'download') {\n",
       "        this.handle_save(this, null);\n",
       "    } else {\n",
       "        this.send_message(\"toolbar_button\", {name: name});\n",
       "    }\n",
       "};\n",
       "\n",
       "mpl.figure.prototype.toolbar_button_onmouseover = function(tooltip) {\n",
       "    this.message.textContent = tooltip;\n",
       "};\n",
       "mpl.toolbar_items = [[\"Home\", \"Reset original view\", \"fa fa-home icon-home\", \"home\"], [\"Back\", \"Back to previous view\", \"fa fa-arrow-left icon-arrow-left\", \"back\"], [\"Forward\", \"Forward to next view\", \"fa fa-arrow-right icon-arrow-right\", \"forward\"], [\"\", \"\", \"\", \"\"], [\"Pan\", \"Pan axes with left mouse, zoom with right\", \"fa fa-arrows icon-move\", \"pan\"], [\"Zoom\", \"Zoom to rectangle\", \"fa fa-square-o icon-check-empty\", \"zoom\"], [\"\", \"\", \"\", \"\"], [\"Download\", \"Download plot\", \"fa fa-floppy-o icon-save\", \"download\"]];\n",
       "\n",
       "mpl.extensions = [\"eps\", \"jpeg\", \"pdf\", \"png\", \"ps\", \"raw\", \"svg\", \"tif\"];\n",
       "\n",
       "mpl.default_extension = \"png\";var comm_websocket_adapter = function(comm) {\n",
       "    // Create a \"websocket\"-like object which calls the given IPython comm\n",
       "    // object with the appropriate methods. Currently this is a non binary\n",
       "    // socket, so there is still some room for performance tuning.\n",
       "    var ws = {};\n",
       "\n",
       "    ws.close = function() {\n",
       "        comm.close()\n",
       "    };\n",
       "    ws.send = function(m) {\n",
       "        //console.log('sending', m);\n",
       "        comm.send(m);\n",
       "    };\n",
       "    // Register the callback with on_msg.\n",
       "    comm.on_msg(function(msg) {\n",
       "        //console.log('receiving', msg['content']['data'], msg);\n",
       "        // Pass the mpl event to the overridden (by mpl) onmessage function.\n",
       "        ws.onmessage(msg['content']['data'])\n",
       "    });\n",
       "    return ws;\n",
       "}\n",
       "\n",
       "mpl.mpl_figure_comm = function(comm, msg) {\n",
       "    // This is the function which gets called when the mpl process\n",
       "    // starts-up an IPython Comm through the \"matplotlib\" channel.\n",
       "\n",
       "    var id = msg.content.data.id;\n",
       "    // Get hold of the div created by the display call when the Comm\n",
       "    // socket was opened in Python.\n",
       "    var element = $(\"#\" + id);\n",
       "    var ws_proxy = comm_websocket_adapter(comm)\n",
       "\n",
       "    function ondownload(figure, format) {\n",
       "        window.open(figure.imageObj.src);\n",
       "    }\n",
       "\n",
       "    var fig = new mpl.figure(id, ws_proxy,\n",
       "                           ondownload,\n",
       "                           element.get(0));\n",
       "\n",
       "    // Call onopen now - mpl needs it, as it is assuming we've passed it a real\n",
       "    // web socket which is closed, not our websocket->open comm proxy.\n",
       "    ws_proxy.onopen();\n",
       "\n",
       "    fig.parent_element = element.get(0);\n",
       "    fig.cell_info = mpl.find_output_cell(\"<div id='\" + id + \"'></div>\");\n",
       "    if (!fig.cell_info) {\n",
       "        console.error(\"Failed to find cell for figure\", id, fig);\n",
       "        return;\n",
       "    }\n",
       "\n",
       "    var output_index = fig.cell_info[2]\n",
       "    var cell = fig.cell_info[0];\n",
       "\n",
       "};\n",
       "\n",
       "mpl.figure.prototype.handle_close = function(fig, msg) {\n",
       "    var width = fig.canvas.width/mpl.ratio\n",
       "    fig.root.unbind('remove')\n",
       "\n",
       "    // Update the output cell to use the data from the current canvas.\n",
       "    fig.push_to_output();\n",
       "    var dataURL = fig.canvas.toDataURL();\n",
       "    // Re-enable the keyboard manager in IPython - without this line, in FF,\n",
       "    // the notebook keyboard shortcuts fail.\n",
       "    IPython.keyboard_manager.enable()\n",
       "    $(fig.parent_element).html('<img src=\"' + dataURL + '\" width=\"' + width + '\">');\n",
       "    fig.close_ws(fig, msg);\n",
       "}\n",
       "\n",
       "mpl.figure.prototype.close_ws = function(fig, msg){\n",
       "    fig.send_message('closing', msg);\n",
       "    // fig.ws.close()\n",
       "}\n",
       "\n",
       "mpl.figure.prototype.push_to_output = function(remove_interactive) {\n",
       "    // Turn the data on the canvas into data in the output cell.\n",
       "    var width = this.canvas.width/mpl.ratio\n",
       "    var dataURL = this.canvas.toDataURL();\n",
       "    this.cell_info[1]['text/html'] = '<img src=\"' + dataURL + '\" width=\"' + width + '\">';\n",
       "}\n",
       "\n",
       "mpl.figure.prototype.updated_canvas_event = function() {\n",
       "    // Tell IPython that the notebook contents must change.\n",
       "    IPython.notebook.set_dirty(true);\n",
       "    this.send_message(\"ack\", {});\n",
       "    var fig = this;\n",
       "    // Wait a second, then push the new image to the DOM so\n",
       "    // that it is saved nicely (might be nice to debounce this).\n",
       "    setTimeout(function () { fig.push_to_output() }, 1000);\n",
       "}\n",
       "\n",
       "mpl.figure.prototype._init_toolbar = function() {\n",
       "    var fig = this;\n",
       "\n",
       "    var nav_element = $('<div/>');\n",
       "    nav_element.attr('style', 'width: 100%');\n",
       "    this.root.append(nav_element);\n",
       "\n",
       "    // Define a callback function for later on.\n",
       "    function toolbar_event(event) {\n",
       "        return fig.toolbar_button_onclick(event['data']);\n",
       "    }\n",
       "    function toolbar_mouse_event(event) {\n",
       "        return fig.toolbar_button_onmouseover(event['data']);\n",
       "    }\n",
       "\n",
       "    for(var toolbar_ind in mpl.toolbar_items){\n",
       "        var name = mpl.toolbar_items[toolbar_ind][0];\n",
       "        var tooltip = mpl.toolbar_items[toolbar_ind][1];\n",
       "        var image = mpl.toolbar_items[toolbar_ind][2];\n",
       "        var method_name = mpl.toolbar_items[toolbar_ind][3];\n",
       "\n",
       "        if (!name) { continue; };\n",
       "\n",
       "        var button = $('<button class=\"btn btn-default\" href=\"#\" title=\"' + name + '\"><i class=\"fa ' + image + ' fa-lg\"></i></button>');\n",
       "        button.click(method_name, toolbar_event);\n",
       "        button.mouseover(tooltip, toolbar_mouse_event);\n",
       "        nav_element.append(button);\n",
       "    }\n",
       "\n",
       "    // Add the status bar.\n",
       "    var status_bar = $('<span class=\"mpl-message\" style=\"text-align:right; float: right;\"/>');\n",
       "    nav_element.append(status_bar);\n",
       "    this.message = status_bar[0];\n",
       "\n",
       "    // Add the close button to the window.\n",
       "    var buttongrp = $('<div class=\"btn-group inline pull-right\"></div>');\n",
       "    var button = $('<button class=\"btn btn-mini btn-primary\" href=\"#\" title=\"Stop Interaction\"><i class=\"fa fa-power-off icon-remove icon-large\"></i></button>');\n",
       "    button.click(function (evt) { fig.handle_close(fig, {}); } );\n",
       "    button.mouseover('Stop Interaction', toolbar_mouse_event);\n",
       "    buttongrp.append(button);\n",
       "    var titlebar = this.root.find($('.ui-dialog-titlebar'));\n",
       "    titlebar.prepend(buttongrp);\n",
       "}\n",
       "\n",
       "mpl.figure.prototype._root_extra_style = function(el){\n",
       "    var fig = this\n",
       "    el.on(\"remove\", function(){\n",
       "\tfig.close_ws(fig, {});\n",
       "    });\n",
       "}\n",
       "\n",
       "mpl.figure.prototype._canvas_extra_style = function(el){\n",
       "    // this is important to make the div 'focusable\n",
       "    el.attr('tabindex', 0)\n",
       "    // reach out to IPython and tell the keyboard manager to turn it's self\n",
       "    // off when our div gets focus\n",
       "\n",
       "    // location in version 3\n",
       "    if (IPython.notebook.keyboard_manager) {\n",
       "        IPython.notebook.keyboard_manager.register_events(el);\n",
       "    }\n",
       "    else {\n",
       "        // location in version 2\n",
       "        IPython.keyboard_manager.register_events(el);\n",
       "    }\n",
       "\n",
       "}\n",
       "\n",
       "mpl.figure.prototype._key_event_extra = function(event, name) {\n",
       "    var manager = IPython.notebook.keyboard_manager;\n",
       "    if (!manager)\n",
       "        manager = IPython.keyboard_manager;\n",
       "\n",
       "    // Check for shift+enter\n",
       "    if (event.shiftKey && event.which == 13) {\n",
       "        this.canvas_div.blur();\n",
       "        // select the cell after this one\n",
       "        var index = IPython.notebook.find_cell_index(this.cell_info[0]);\n",
       "        IPython.notebook.select(index + 1);\n",
       "    }\n",
       "}\n",
       "\n",
       "mpl.figure.prototype.handle_save = function(fig, msg) {\n",
       "    fig.ondownload(fig, null);\n",
       "}\n",
       "\n",
       "\n",
       "mpl.find_output_cell = function(html_output) {\n",
       "    // Return the cell and output element which can be found *uniquely* in the notebook.\n",
       "    // Note - this is a bit hacky, but it is done because the \"notebook_saving.Notebook\"\n",
       "    // IPython event is triggered only after the cells have been serialised, which for\n",
       "    // our purposes (turning an active figure into a static one), is too late.\n",
       "    var cells = IPython.notebook.get_cells();\n",
       "    var ncells = cells.length;\n",
       "    for (var i=0; i<ncells; i++) {\n",
       "        var cell = cells[i];\n",
       "        if (cell.cell_type === 'code'){\n",
       "            for (var j=0; j<cell.output_area.outputs.length; j++) {\n",
       "                var data = cell.output_area.outputs[j];\n",
       "                if (data.data) {\n",
       "                    // IPython >= 3 moved mimebundle to data attribute of output\n",
       "                    data = data.data;\n",
       "                }\n",
       "                if (data['text/html'] == html_output) {\n",
       "                    return [cell, data, j];\n",
       "                }\n",
       "            }\n",
       "        }\n",
       "    }\n",
       "}\n",
       "\n",
       "// Register the function which deals with the matplotlib target/channel.\n",
       "// The kernel may be null if the page has been refreshed.\n",
       "if (IPython.notebook.kernel != null) {\n",
       "    IPython.notebook.kernel.comm_manager.register_target('matplotlib', mpl.mpl_figure_comm);\n",
       "}\n"
      ],
      "text/plain": [
       "<IPython.core.display.Javascript object>"
      ]
     },
     "metadata": {},
     "output_type": "display_data"
    },
    {
     "data": {
      "text/html": [
       "<img src=\"data:image/png;base64,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\" width=\"1000\">"
      ],
      "text/plain": [
       "<IPython.core.display.HTML object>"
      ]
     },
     "metadata": {},
     "output_type": "display_data"
    }
   ],
   "source": [
    "print('for model: ', model)   \n",
    "run_name = 'ACNN A Continued P3'\n",
    "# Create an mlflow run\n",
    "with mlflow.start_run(run_name=run_name) as run:\n",
    "    # Log parameters of the model\n",
    "    for key, value in vars(args).items():\n",
    "        print(key, value)\n",
    "        mlflow.log_param(key, value)\n",
    "    \n",
    "    # Log parameter count in the model\n",
    "    mlflow.log_param('Parameters', count_parameters(model))\n",
    "    \n",
    "    # Begin run\n",
    "    for result in trainNet(model, optimizer, loss,\n",
    "                            train_loader, val_loader,\n",
    "                            args.epochs+args.epoch_start, epoch_start=args.epoch_start,\n",
    "                            notebook=True, device=device):\n",
    "\n",
    "        result = result._asdict()\n",
    "        results = results.append(pd.Series(result), ignore_index=True)\n",
    "    \n",
    "        xs = results.index\n",
    "    \n",
    "        # Update the plot above\n",
    "        lines['train'].set_data(results.index,results.cost)\n",
    "        lines['val'].set_data(results.index,results.val)\n",
    "    \n",
    "        #filter first cost epoch (can be really large)\n",
    "        max_cost = max(max(results.cost if len(results.cost)<2 else results.cost[1:]), max(results.val))\n",
    "        min_cost = min(min(results.cost), min(results.val))\n",
    "    \n",
    "        # The plot limits need updating too\n",
    "        ax.set_ylim(min_cost*.9, max_cost*1.1)  \n",
    "        ax.set_xlim(-.5, len(results.cost) - .5)\n",
    "    \n",
    "        replace_in_ax(lax, lines['eff'], xs, results['eff_val'].apply(lambda x: x.eff_rate))\n",
    "        replace_in_ax(tax, lines['fp'], xs, results['eff_val'].apply(lambda x: x.fp_rate))\n",
    "    \n",
    "        # Redraw the figure\n",
    "        fig.canvas.draw()\n",
    "            \n",
    "        ## MLFLOW ##\n",
    "        # Log metrics\n",
    "        mlflow.log_metric('Efficiency', result['eff_val'].eff_rate, result['epoch'])\n",
    "        mlflow.log_metric('False Positive Rate',  result['eff_val'].fp_rate, result['epoch'])\n",
    "        mlflow.log_metric('Validation Loss',  result['val'], result['epoch'])\n",
    "        mlflow.log_metric('Training Loss',  result['cost'], result['epoch'])\n",
    "            \n",
    "        # Log tags\n",
    "#        mlflow.set_tag('Optimizer', 'Adam')\n",
    "#        mlflow.set_tag('Kernel size', 'Mixed')\n",
    "#        mlflow.set_tag('Skip connections', '4')\n",
    "#        mlflow.set_tag('Activation', 'Softplus')\n",
    "#        mlflow.set_tag('Mid Activation', 'Relu')\n",
    "        mlflow.set_tag('Extra Data', 'False')\n",
    "\n",
    "        # Save model state dictionary, optimizer state dictionary, and epoch number\n",
    "        torch.save({\n",
    "            'model':model.state_dict(),\n",
    "            'optimizer':optimizer.state_dict(),\n",
    "            'epoch':args.epochs+result['epoch']\n",
    "            }, 'run_stats.pyt')\n",
    "        # Save the run stats into mlflow\n",
    "        mlflow.log_artifact('run_stats.pyt')\n",
    "            \n",
    "        # Save a diagram of the architecture\n",
    "#        HL.transforms.Fold(\"Conv\", \"Conv\"),\n",
    "#        HL.build_graph(model, torch.zeros([args.batch_size, 1, 4000]).to(device)).save('architecture', format='png')\n",
    "#        mlflow.log_artifact('architecture.png')\n",
    "        \n",
    "        # log the code for the model architecture\n",
    "#        mlflow.log_artifact('architecture.txt')\n",
    "        \n",
    "    dual_train_plots(results.index,\n",
    "                 results.cost, results.val, \n",
    "                 results['eff_val'].apply(lambda x: x.eff_rate),\n",
    "                 results['eff_val'].apply(lambda x: x.fp_rate))\n",
    "    # save plot\n",
    "    plt.tight_layout()\n",
    "    plt.savefig('plot.png')\n",
    "    mlflow.log_artifact('plot.png')"
   ]
  },
  {
   "cell_type": "code",
   "execution_count": 13,
   "metadata": {},
   "outputs": [],
   "source": [
    "##quit()"
   ]
  }
 ],
 "metadata": {
  "kernelspec": {
   "display_name": "goofit-june2020",
   "language": "python",
   "name": "goofit-june2020"
  },
  "language_info": {
   "codemirror_mode": {
    "name": "ipython",
    "version": 3
   },
   "file_extension": ".py",
   "mimetype": "text/x-python",
   "name": "python",
   "nbconvert_exporter": "python",
   "pygments_lexer": "ipython3",
   "version": "3.7.6"
  }
 },
 "nbformat": 4,
 "nbformat_minor": 2
}
