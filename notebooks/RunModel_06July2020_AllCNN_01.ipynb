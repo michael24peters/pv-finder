{
 "cells": [
  {
   "cell_type": "code",
   "execution_count": 1,
   "metadata": {},
   "outputs": [],
   "source": [
    "##%matplotlib widget\n",
    "## with %matplotlib notebook: seems to require ipympl as part of environment, either\n",
    "## part of the conda environment or \"pip install ipympl\"\n",
    "## otherwise, does not show ANY plots in notebook, plt.savefig() works\n",
    "%matplotlib notebook  \n",
    "##%matplotlib inline    ## --plt.savefig()  works, but re-sizing does NOT"
   ]
  },
  {
   "cell_type": "markdown",
   "metadata": {},
   "source": [
    "This notebook is a short demo to illustrate execution.   For odd historical reasons, it uses \"toy Monte Carlo\" (simulated data)for \"training\" and \"full LHCB MC\" for validation.\n",
    "\n",
    "The network architecture is a \"simple\" model that uses 1 input channel (the KDE [kernel density estimator] but from the track parameters) feeding 5 convolutional layers followed by a fully connected layer.\n",
    "\n",
    "In today's version, the network will start with weights from a previously trained version.\n",
    " "
   ]
  },
  {
   "cell_type": "markdown",
   "metadata": {},
   "source": [
    "Check the current GPU usage. Please try to be nice!"
   ]
  },
  {
   "cell_type": "code",
   "execution_count": 2,
   "metadata": {
    "scrolled": true
   },
   "outputs": [
    {
     "name": "stdout",
     "output_type": "stream",
     "text": [
      "Sat Dec 19 13:46:13 2020       \n",
      "+-----------------------------------------------------------------------------+\n",
      "| NVIDIA-SMI 440.64.00    Driver Version: 440.64.00    CUDA Version: 10.2     |\n",
      "|-------------------------------+----------------------+----------------------+\n",
      "| GPU  Name        Persistence-M| Bus-Id        Disp.A | Volatile Uncorr. ECC |\n",
      "| Fan  Temp  Perf  Pwr:Usage/Cap|         Memory-Usage | GPU-Util  Compute M. |\n",
      "|===============================+======================+======================|\n",
      "|   0  TITAN V             Off  | 00000000:03:00.0 Off |                  N/A |\n",
      "| 28%   38C    P8    24W / 250W |   5572MiB / 12066MiB |      0%      Default |\n",
      "+-------------------------------+----------------------+----------------------+\n",
      "|   1  Tesla P100-PCIE...  Off  | 00000000:83:00.0 Off |                    0 |\n",
      "| N/A   42C    P0    40W / 250W |      0MiB / 16280MiB |      0%      Default |\n",
      "+-------------------------------+----------------------+----------------------+\n",
      "|   2  TITAN V             Off  | 00000000:84:00.0 Off |                  N/A |\n",
      "| 28%   41C    P8    27W / 250W |   1645MiB / 12066MiB |      0%      Default |\n",
      "+-------------------------------+----------------------+----------------------+\n",
      "                                                                               \n",
      "+-----------------------------------------------------------------------------+\n",
      "| Processes:                                                       GPU Memory |\n",
      "|  GPU       PID   Type   Process name                             Usage      |\n",
      "|=============================================================================|\n",
      "|    0     15562      C   /data/conda/envs/goofit/bin/python          2351MiB |\n",
      "|    0     44398      C   /data/conda/envs/goofit/bin/python          3209MiB |\n",
      "|    2     45541      C   ...a/conda/envs/goofit-june2020/bin/python  1633MiB |\n",
      "+-----------------------------------------------------------------------------+\n"
     ]
    }
   ],
   "source": [
    "!nvidia-smi"
   ]
  },
  {
   "cell_type": "markdown",
   "metadata": {},
   "source": [
    "> **WARNING**: The card numbers here are *not* the same as in CUDA. You have been warned."
   ]
  },
  {
   "cell_type": "markdown",
   "metadata": {},
   "source": [
    "## Imports"
   ]
  },
  {
   "cell_type": "code",
   "execution_count": 3,
   "metadata": {
    "scrolled": false
   },
   "outputs": [],
   "source": [
    "import matplotlib.pyplot as plt\n",
    "import numpy as np\n",
    "import time\n",
    "import torch\n",
    "import pandas as pd\n",
    "import mlflow\n",
    "\n",
    "# Python 3 standard library\n",
    "from pathlib import Path\n",
    "\n",
    "from torchsummary import summary\n",
    "\n",
    "'''\n",
    "HELPER FUNCTIONS\n",
    "'''\n",
    "# From model/collectdata.py\n",
    "from model.collectdata_mdsA import collect_data\n",
    "\n",
    "# From model/loss.py\n",
    "##from loss import Loss\n",
    "from model.alt_loss_A import Loss\n",
    "\n",
    "# From model/training.py\n",
    "from model.training import trainNet, select_gpu, Results\n",
    "\n",
    "# From model/models.py\n",
    "##  will start with model from TwoFeatures_CNN6Layer_A in the first instance\n",
    "##  see relevant cell below\n",
    "\n",
    "from model.models_mjp_07July2020 import All_CNN6Layer_A as ModelA\n",
    "from model.models_mjp_07July2020 import All_CNN6Layer_B as ModelB\n",
    "from model.models_mjp_07July2020 import All_CNN6Layer_C as ModelC\n",
    "from model.models_mjp_07July2020 import All_CNN6Layer_D as ModelD\n",
    "from model.models_mjp_07July2020 import All_CNN6Layer_E as ModelE\n",
    "from model.models_mjp_07July2020 import All_CNN6Layer_F as ModelF\n",
    "from model.models_mjp_07July2020 import All_CNN6Layer_G as ModelG\n",
    "from model.models_mjp_07July2020 import All_CNN6Layer_H as ModelH\n",
    "from model.models_mjp_07July2020 import All_CNN6Layer_I as ModelI\n",
    "from model.models_mjp_07July2020 import All_CNN6Layer_J as ModelJ\n",
    "from model.models_mjp_07July2020 import All_CNN6Layer_K as ModelK\n",
    "from model.models_mjp_07July2020 import All_CNN6Layer_L as ModelL\n",
    "from model.models_mjp_07July2020 import All_CNN6Layer_M as ModelM\n",
    "from model.models_mjp_07July2020 import All_CNN6Layer_N as ModelN\n",
    "\n",
    "# From model/utilities.py\n",
    "from model.utilities import load_full_state, count_parameters, Params\n",
    "\n",
    "from model.plots import dual_train_plots, replace_in_ax\n",
    "\n",
    "## adds image of model architecture\n",
    "import hiddenlayer as HL"
   ]
  },
  {
   "cell_type": "markdown",
   "metadata": {},
   "source": [
    "Set up Torch device configuration. All tensors and model parameters need to know where to be put.\n",
    "This takes a BUS ID number: The BUS ID is the same as the listing at the top of this script."
   ]
  },
  {
   "cell_type": "code",
   "execution_count": 4,
   "metadata": {},
   "outputs": [
    {
     "name": "stdout",
     "output_type": "stream",
     "text": [
      "1 available GPUs (initially using device 0):\n",
      "  0 Tesla P100-PCIE-16GB\n"
     ]
    }
   ],
   "source": [
    "device = select_gpu(1)"
   ]
  },
  {
   "cell_type": "markdown",
   "metadata": {},
   "source": [
    "### Set up local parameters"
   ]
  },
  {
   "cell_type": "code",
   "execution_count": 5,
   "metadata": {},
   "outputs": [],
   "source": [
    "# params order - batch size, epochs, lr, epoch_start (which is usually set to 0)\n",
    "args = Params(128, 40, 5e-5, 1620)"
   ]
  },
  {
   "cell_type": "markdown",
   "metadata": {},
   "source": [
    "## Loading data\n",
    "\n",
    "Load the dataset, split into parts, then move to device (see `collectdata.py` in the `../model` directory)"
   ]
  },
  {
   "cell_type": "code",
   "execution_count": 6,
   "metadata": {
    "scrolled": true
   },
   "outputs": [
    {
     "name": "stdout",
     "output_type": "stream",
     "text": [
      "Loading data...\n",
      "Loaded /share/lazy/sokoloff/ML-data_A/Aug14_80K_train.h5 in 12.61 s\n",
      "Loaded /share/lazy/sokoloff/ML-data_AA/Oct03_80K_train.h5 in 12.82 s\n",
      "Constructing 160000 event dataset took 3.893 s\n",
      "Loading data...\n",
      "Loaded /share/lazy/sokoloff/ML-data_AA/Oct03_20K_val.h5 in 3.087 s\n",
      "Constructing 9984 event dataset took 0.1267 s\n"
     ]
    }
   ],
   "source": [
    "## newer vernacular\n",
    "## Training dataset. You can put as many files here as desired.\n",
    "\n",
    "## in this DEMO example we use only one 80K training set -- the model starts with well-trained weights,\n",
    "## and using a smaller training set reduces both the time to load the data and the time to train an epoch\n",
    "##  set the option load_XandXsq = True to use both DKE and KDE^2 as input features\n",
    "train_loader = collect_data('/share/lazy/sokoloff/ML-data_A/Aug14_80K_train.h5',\n",
    "                             '/share/lazy/sokoloff/ML-data_AA/Oct03_80K_train.h5',\n",
    "#                             '/share/lazy/sokoloff/ML-data_AA/Oct03_40K_train.h5',\n",
    "#                             '/share/lazy/will/ML_mdsA/June30_2020_80k_1.h5',\n",
    "#                             '/share/lazy/will/ML_mdsA/June30_2020_80k_3.h5',\n",
    "#                             '/share/lazy/will/ML_mdsA/June30_2020_80k_4.h5',\n",
    "#                             '/share/lazy/will/ML_mdsA/June30_2020_80k_5.h5',\n",
    "#                             '/share/lazy/will/ML_mdsA/June30_2020_80k_6.h5',\n",
    "#                             '/share/lazy/will/ML_mdsA/June30_2020_80k_7.h5',\n",
    "#                             '/share/lazy/will/ML_mdsA/June30_2020_80k_8.h5',\n",
    "#                             '/share/lazy/will/ML_mdsA/June30_2020_80k_9.h5',\n",
    "                            #'/share/lazy/sokoloff/ML-data_AA/Oct03_80K2_train.h5',\n",
    "                             batch_size=args.batch_size,\n",
    "## if we are using a larger dataset (240K events, with the datasets above, and 11 GB  of GPU memory),\n",
    "## not the dataset will overflow the GPU memory; device=device will allow the data to move back\n",
    "## and forth between the CPU and GPU memory. While this allows use of a larger dataset, it slows\n",
    "## down performance by about 10%.  So comment out when not needed.\n",
    "                            device=device,\n",
    "                            masking=True, shuffle=True,\n",
    "                            load_XandXsq=False,\n",
    "                            load_xy=False)\n",
    "\n",
    "# Validation dataset. You can slice to reduce the size.\n",
    "## dataAA -> /share/lazy/sokoloff/ML-data_AA/\n",
    "val_loader = collect_data('/share/lazy/sokoloff/ML-data_AA/Oct03_20K_val.h5',\n",
    "## mds val_loader = collect_data('dataAA/HLT1CPU_1kevts_val.h5',\n",
    "\n",
    "                          batch_size=args.batch_size,\n",
    "                          slice=slice(256 * 39),\n",
    "                          device=device,\n",
    "                          masking=True, shuffle=False,\n",
    "                          load_XandXsq=False,\n",
    "                          load_xy=False)"
   ]
  },
  {
   "cell_type": "markdown",
   "metadata": {},
   "source": [
    "# Preparing the model"
   ]
  },
  {
   "cell_type": "markdown",
   "metadata": {},
   "source": [
    "Prepare a model, use multiple GPUs if they are VISIBLE, and move the model to the device."
   ]
  },
  {
   "cell_type": "code",
   "execution_count": 7,
   "metadata": {
    "scrolled": true
   },
   "outputs": [],
   "source": [
    "model = ModelA()\n",
    "\n",
    "#summary(model.to(device), (1, 4000))\n",
    "\n",
    "mlflow.tracking.set_tracking_uri('file:/share/lazy/pv-finder_model_repo')\n",
    "mlflow.set_experiment('ALLCNN')"
   ]
  },
  {
   "cell_type": "code",
   "execution_count": 8,
   "metadata": {
    "scrolled": true
   },
   "outputs": [
    {
     "name": "stdout",
     "output_type": "stream",
     "text": [
      "Let's use 1 GPUs!\n"
     ]
    }
   ],
   "source": [
    "print(\"Let's use\", torch.cuda.device_count(), \"GPUs!\")\n",
    "if torch.cuda.device_count() > 1:\n",
    "    model = torch.nn.DataParallel(model)"
   ]
  },
  {
   "cell_type": "markdown",
   "metadata": {},
   "source": [
    "Let's move the model's weight matricies to the GPU:"
   ]
  },
  {
   "cell_type": "code",
   "execution_count": 9,
   "metadata": {},
   "outputs": [
    {
     "name": "stdout",
     "output_type": "stream",
     "text": [
      "we also froze 0 weights\n",
      "Of the 6.0 parameter layers to update in the current model, 6.0 were loaded\n"
     ]
    }
   ],
   "source": [
    "##  mds 200121 loss = Loss(epsilon=1e-5,coefficient=1.0)\n",
    "loss = Loss(epsilon=1e-5,coefficient=0.0)\n",
    "optimizer = torch.optim.Adam(model.parameters(), lr=args.lr)\n",
    "\n",
    "##  use the first five layers from a pre-existing model\n",
    "##  see example at https://discuss.pytorch.org/t/how-to-load-part-of-pre-trained-model/1113\n",
    "##   ML -> /share/lazy/sokoloff/ML\n",
    "\n",
    "#path = 'run_stats.pyt'\n",
    "#load_full_state(model, optimizer, path)\n",
    "# For other pretrained models, go to MLFlow and find the path for \"run_stats.pyt\"\n",
    "pretrained_dict = '/share/lazy/pv-finder_model_repo/7/8d2a957ee46d4706a7a9ce6db1e46b20/artifacts/run_stats.pyt'\n",
    "load_full_state(model, optimizer, pretrained_dict)"
   ]
  },
  {
   "cell_type": "markdown",
   "metadata": {},
   "source": [
    "Let's move the model's weight matricies to the GPU:"
   ]
  },
  {
   "cell_type": "code",
   "execution_count": 10,
   "metadata": {
    "scrolled": true
   },
   "outputs": [
    {
     "data": {
      "text/plain": [
       "All_CNN6Layer_A(\n",
       "  (conv1): Conv1d(1, 20, kernel_size=(25,), stride=(1,), padding=(12,))\n",
       "  (conv2): Conv1d(20, 10, kernel_size=(15,), stride=(1,), padding=(7,))\n",
       "  (conv3): Conv1d(10, 10, kernel_size=(15,), stride=(1,), padding=(7,))\n",
       "  (conv4): Conv1d(10, 10, kernel_size=(15,), stride=(1,), padding=(7,))\n",
       "  (conv5): Conv1d(10, 1, kernel_size=(5,), stride=(1,), padding=(2,))\n",
       "  (finalFilter): Conv1d(1, 1, kernel_size=(91,), stride=(1,), padding=(45,))\n",
       "  (conv1dropout): Dropout(p=0.15, inplace=False)\n",
       "  (conv2dropout): Dropout(p=0.15, inplace=False)\n",
       "  (conv3dropout): Dropout(p=0.15, inplace=False)\n",
       "  (conv4dropout): Dropout(p=0.15, inplace=False)\n",
       "  (conv5dropout): Dropout(p=0.15, inplace=False)\n",
       ")"
      ]
     },
     "execution_count": 10,
     "metadata": {},
     "output_type": "execute_result"
    }
   ],
   "source": [
    "model.to(device)"
   ]
  },
  {
   "cell_type": "markdown",
   "metadata": {},
   "source": [
    "## Train \n",
    "\n",
    "\n",
    "\n",
    "The body of this loop runs once per epoch. Results is a named tuple of values (loss per epoch for training and validation, time each). Start by setting up a plot first:"
   ]
  },
  {
   "cell_type": "code",
   "execution_count": 11,
   "metadata": {},
   "outputs": [
    {
     "data": {
      "application/javascript": [
       "/* Put everything inside the global mpl namespace */\n",
       "window.mpl = {};\n",
       "\n",
       "\n",
       "mpl.get_websocket_type = function() {\n",
       "    if (typeof(WebSocket) !== 'undefined') {\n",
       "        return WebSocket;\n",
       "    } else if (typeof(MozWebSocket) !== 'undefined') {\n",
       "        return MozWebSocket;\n",
       "    } else {\n",
       "        alert('Your browser does not have WebSocket support. ' +\n",
       "              'Please try Chrome, Safari or Firefox ≥ 6. ' +\n",
       "              'Firefox 4 and 5 are also supported but you ' +\n",
       "              'have to enable WebSockets in about:config.');\n",
       "    };\n",
       "}\n",
       "\n",
       "mpl.figure = function(figure_id, websocket, ondownload, parent_element) {\n",
       "    this.id = figure_id;\n",
       "\n",
       "    this.ws = websocket;\n",
       "\n",
       "    this.supports_binary = (this.ws.binaryType != undefined);\n",
       "\n",
       "    if (!this.supports_binary) {\n",
       "        var warnings = document.getElementById(\"mpl-warnings\");\n",
       "        if (warnings) {\n",
       "            warnings.style.display = 'block';\n",
       "            warnings.textContent = (\n",
       "                \"This browser does not support binary websocket messages. \" +\n",
       "                    \"Performance may be slow.\");\n",
       "        }\n",
       "    }\n",
       "\n",
       "    this.imageObj = new Image();\n",
       "\n",
       "    this.context = undefined;\n",
       "    this.message = undefined;\n",
       "    this.canvas = undefined;\n",
       "    this.rubberband_canvas = undefined;\n",
       "    this.rubberband_context = undefined;\n",
       "    this.format_dropdown = undefined;\n",
       "\n",
       "    this.image_mode = 'full';\n",
       "\n",
       "    this.root = $('<div/>');\n",
       "    this._root_extra_style(this.root)\n",
       "    this.root.attr('style', 'display: inline-block');\n",
       "\n",
       "    $(parent_element).append(this.root);\n",
       "\n",
       "    this._init_header(this);\n",
       "    this._init_canvas(this);\n",
       "    this._init_toolbar(this);\n",
       "\n",
       "    var fig = this;\n",
       "\n",
       "    this.waiting = false;\n",
       "\n",
       "    this.ws.onopen =  function () {\n",
       "            fig.send_message(\"supports_binary\", {value: fig.supports_binary});\n",
       "            fig.send_message(\"send_image_mode\", {});\n",
       "            if (mpl.ratio != 1) {\n",
       "                fig.send_message(\"set_dpi_ratio\", {'dpi_ratio': mpl.ratio});\n",
       "            }\n",
       "            fig.send_message(\"refresh\", {});\n",
       "        }\n",
       "\n",
       "    this.imageObj.onload = function() {\n",
       "            if (fig.image_mode == 'full') {\n",
       "                // Full images could contain transparency (where diff images\n",
       "                // almost always do), so we need to clear the canvas so that\n",
       "                // there is no ghosting.\n",
       "                fig.context.clearRect(0, 0, fig.canvas.width, fig.canvas.height);\n",
       "            }\n",
       "            fig.context.drawImage(fig.imageObj, 0, 0);\n",
       "        };\n",
       "\n",
       "    this.imageObj.onunload = function() {\n",
       "        fig.ws.close();\n",
       "    }\n",
       "\n",
       "    this.ws.onmessage = this._make_on_message_function(this);\n",
       "\n",
       "    this.ondownload = ondownload;\n",
       "}\n",
       "\n",
       "mpl.figure.prototype._init_header = function() {\n",
       "    var titlebar = $(\n",
       "        '<div class=\"ui-dialog-titlebar ui-widget-header ui-corner-all ' +\n",
       "        'ui-helper-clearfix\"/>');\n",
       "    var titletext = $(\n",
       "        '<div class=\"ui-dialog-title\" style=\"width: 100%; ' +\n",
       "        'text-align: center; padding: 3px;\"/>');\n",
       "    titlebar.append(titletext)\n",
       "    this.root.append(titlebar);\n",
       "    this.header = titletext[0];\n",
       "}\n",
       "\n",
       "\n",
       "\n",
       "mpl.figure.prototype._canvas_extra_style = function(canvas_div) {\n",
       "\n",
       "}\n",
       "\n",
       "\n",
       "mpl.figure.prototype._root_extra_style = function(canvas_div) {\n",
       "\n",
       "}\n",
       "\n",
       "mpl.figure.prototype._init_canvas = function() {\n",
       "    var fig = this;\n",
       "\n",
       "    var canvas_div = $('<div/>');\n",
       "\n",
       "    canvas_div.attr('style', 'position: relative; clear: both; outline: 0');\n",
       "\n",
       "    function canvas_keyboard_event(event) {\n",
       "        return fig.key_event(event, event['data']);\n",
       "    }\n",
       "\n",
       "    canvas_div.keydown('key_press', canvas_keyboard_event);\n",
       "    canvas_div.keyup('key_release', canvas_keyboard_event);\n",
       "    this.canvas_div = canvas_div\n",
       "    this._canvas_extra_style(canvas_div)\n",
       "    this.root.append(canvas_div);\n",
       "\n",
       "    var canvas = $('<canvas/>');\n",
       "    canvas.addClass('mpl-canvas');\n",
       "    canvas.attr('style', \"left: 0; top: 0; z-index: 0; outline: 0\")\n",
       "\n",
       "    this.canvas = canvas[0];\n",
       "    this.context = canvas[0].getContext(\"2d\");\n",
       "\n",
       "    var backingStore = this.context.backingStorePixelRatio ||\n",
       "\tthis.context.webkitBackingStorePixelRatio ||\n",
       "\tthis.context.mozBackingStorePixelRatio ||\n",
       "\tthis.context.msBackingStorePixelRatio ||\n",
       "\tthis.context.oBackingStorePixelRatio ||\n",
       "\tthis.context.backingStorePixelRatio || 1;\n",
       "\n",
       "    mpl.ratio = (window.devicePixelRatio || 1) / backingStore;\n",
       "\n",
       "    var rubberband = $('<canvas/>');\n",
       "    rubberband.attr('style', \"position: absolute; left: 0; top: 0; z-index: 1;\")\n",
       "\n",
       "    var pass_mouse_events = true;\n",
       "\n",
       "    canvas_div.resizable({\n",
       "        start: function(event, ui) {\n",
       "            pass_mouse_events = false;\n",
       "        },\n",
       "        resize: function(event, ui) {\n",
       "            fig.request_resize(ui.size.width, ui.size.height);\n",
       "        },\n",
       "        stop: function(event, ui) {\n",
       "            pass_mouse_events = true;\n",
       "            fig.request_resize(ui.size.width, ui.size.height);\n",
       "        },\n",
       "    });\n",
       "\n",
       "    function mouse_event_fn(event) {\n",
       "        if (pass_mouse_events)\n",
       "            return fig.mouse_event(event, event['data']);\n",
       "    }\n",
       "\n",
       "    rubberband.mousedown('button_press', mouse_event_fn);\n",
       "    rubberband.mouseup('button_release', mouse_event_fn);\n",
       "    // Throttle sequential mouse events to 1 every 20ms.\n",
       "    rubberband.mousemove('motion_notify', mouse_event_fn);\n",
       "\n",
       "    rubberband.mouseenter('figure_enter', mouse_event_fn);\n",
       "    rubberband.mouseleave('figure_leave', mouse_event_fn);\n",
       "\n",
       "    canvas_div.on(\"wheel\", function (event) {\n",
       "        event = event.originalEvent;\n",
       "        event['data'] = 'scroll'\n",
       "        if (event.deltaY < 0) {\n",
       "            event.step = 1;\n",
       "        } else {\n",
       "            event.step = -1;\n",
       "        }\n",
       "        mouse_event_fn(event);\n",
       "    });\n",
       "\n",
       "    canvas_div.append(canvas);\n",
       "    canvas_div.append(rubberband);\n",
       "\n",
       "    this.rubberband = rubberband;\n",
       "    this.rubberband_canvas = rubberband[0];\n",
       "    this.rubberband_context = rubberband[0].getContext(\"2d\");\n",
       "    this.rubberband_context.strokeStyle = \"#000000\";\n",
       "\n",
       "    this._resize_canvas = function(width, height) {\n",
       "        // Keep the size of the canvas, canvas container, and rubber band\n",
       "        // canvas in synch.\n",
       "        canvas_div.css('width', width)\n",
       "        canvas_div.css('height', height)\n",
       "\n",
       "        canvas.attr('width', width * mpl.ratio);\n",
       "        canvas.attr('height', height * mpl.ratio);\n",
       "        canvas.attr('style', 'width: ' + width + 'px; height: ' + height + 'px;');\n",
       "\n",
       "        rubberband.attr('width', width);\n",
       "        rubberband.attr('height', height);\n",
       "    }\n",
       "\n",
       "    // Set the figure to an initial 600x600px, this will subsequently be updated\n",
       "    // upon first draw.\n",
       "    this._resize_canvas(600, 600);\n",
       "\n",
       "    // Disable right mouse context menu.\n",
       "    $(this.rubberband_canvas).bind(\"contextmenu\",function(e){\n",
       "        return false;\n",
       "    });\n",
       "\n",
       "    function set_focus () {\n",
       "        canvas.focus();\n",
       "        canvas_div.focus();\n",
       "    }\n",
       "\n",
       "    window.setTimeout(set_focus, 100);\n",
       "}\n",
       "\n",
       "mpl.figure.prototype._init_toolbar = function() {\n",
       "    var fig = this;\n",
       "\n",
       "    var nav_element = $('<div/>');\n",
       "    nav_element.attr('style', 'width: 100%');\n",
       "    this.root.append(nav_element);\n",
       "\n",
       "    // Define a callback function for later on.\n",
       "    function toolbar_event(event) {\n",
       "        return fig.toolbar_button_onclick(event['data']);\n",
       "    }\n",
       "    function toolbar_mouse_event(event) {\n",
       "        return fig.toolbar_button_onmouseover(event['data']);\n",
       "    }\n",
       "\n",
       "    for(var toolbar_ind in mpl.toolbar_items) {\n",
       "        var name = mpl.toolbar_items[toolbar_ind][0];\n",
       "        var tooltip = mpl.toolbar_items[toolbar_ind][1];\n",
       "        var image = mpl.toolbar_items[toolbar_ind][2];\n",
       "        var method_name = mpl.toolbar_items[toolbar_ind][3];\n",
       "\n",
       "        if (!name) {\n",
       "            // put a spacer in here.\n",
       "            continue;\n",
       "        }\n",
       "        var button = $('<button/>');\n",
       "        button.addClass('ui-button ui-widget ui-state-default ui-corner-all ' +\n",
       "                        'ui-button-icon-only');\n",
       "        button.attr('role', 'button');\n",
       "        button.attr('aria-disabled', 'false');\n",
       "        button.click(method_name, toolbar_event);\n",
       "        button.mouseover(tooltip, toolbar_mouse_event);\n",
       "\n",
       "        var icon_img = $('<span/>');\n",
       "        icon_img.addClass('ui-button-icon-primary ui-icon');\n",
       "        icon_img.addClass(image);\n",
       "        icon_img.addClass('ui-corner-all');\n",
       "\n",
       "        var tooltip_span = $('<span/>');\n",
       "        tooltip_span.addClass('ui-button-text');\n",
       "        tooltip_span.html(tooltip);\n",
       "\n",
       "        button.append(icon_img);\n",
       "        button.append(tooltip_span);\n",
       "\n",
       "        nav_element.append(button);\n",
       "    }\n",
       "\n",
       "    var fmt_picker_span = $('<span/>');\n",
       "\n",
       "    var fmt_picker = $('<select/>');\n",
       "    fmt_picker.addClass('mpl-toolbar-option ui-widget ui-widget-content');\n",
       "    fmt_picker_span.append(fmt_picker);\n",
       "    nav_element.append(fmt_picker_span);\n",
       "    this.format_dropdown = fmt_picker[0];\n",
       "\n",
       "    for (var ind in mpl.extensions) {\n",
       "        var fmt = mpl.extensions[ind];\n",
       "        var option = $(\n",
       "            '<option/>', {selected: fmt === mpl.default_extension}).html(fmt);\n",
       "        fmt_picker.append(option);\n",
       "    }\n",
       "\n",
       "    // Add hover states to the ui-buttons\n",
       "    $( \".ui-button\" ).hover(\n",
       "        function() { $(this).addClass(\"ui-state-hover\");},\n",
       "        function() { $(this).removeClass(\"ui-state-hover\");}\n",
       "    );\n",
       "\n",
       "    var status_bar = $('<span class=\"mpl-message\"/>');\n",
       "    nav_element.append(status_bar);\n",
       "    this.message = status_bar[0];\n",
       "}\n",
       "\n",
       "mpl.figure.prototype.request_resize = function(x_pixels, y_pixels) {\n",
       "    // Request matplotlib to resize the figure. Matplotlib will then trigger a resize in the client,\n",
       "    // which will in turn request a refresh of the image.\n",
       "    this.send_message('resize', {'width': x_pixels, 'height': y_pixels});\n",
       "}\n",
       "\n",
       "mpl.figure.prototype.send_message = function(type, properties) {\n",
       "    properties['type'] = type;\n",
       "    properties['figure_id'] = this.id;\n",
       "    this.ws.send(JSON.stringify(properties));\n",
       "}\n",
       "\n",
       "mpl.figure.prototype.send_draw_message = function() {\n",
       "    if (!this.waiting) {\n",
       "        this.waiting = true;\n",
       "        this.ws.send(JSON.stringify({type: \"draw\", figure_id: this.id}));\n",
       "    }\n",
       "}\n",
       "\n",
       "\n",
       "mpl.figure.prototype.handle_save = function(fig, msg) {\n",
       "    var format_dropdown = fig.format_dropdown;\n",
       "    var format = format_dropdown.options[format_dropdown.selectedIndex].value;\n",
       "    fig.ondownload(fig, format);\n",
       "}\n",
       "\n",
       "\n",
       "mpl.figure.prototype.handle_resize = function(fig, msg) {\n",
       "    var size = msg['size'];\n",
       "    if (size[0] != fig.canvas.width || size[1] != fig.canvas.height) {\n",
       "        fig._resize_canvas(size[0], size[1]);\n",
       "        fig.send_message(\"refresh\", {});\n",
       "    };\n",
       "}\n",
       "\n",
       "mpl.figure.prototype.handle_rubberband = function(fig, msg) {\n",
       "    var x0 = msg['x0'] / mpl.ratio;\n",
       "    var y0 = (fig.canvas.height - msg['y0']) / mpl.ratio;\n",
       "    var x1 = msg['x1'] / mpl.ratio;\n",
       "    var y1 = (fig.canvas.height - msg['y1']) / mpl.ratio;\n",
       "    x0 = Math.floor(x0) + 0.5;\n",
       "    y0 = Math.floor(y0) + 0.5;\n",
       "    x1 = Math.floor(x1) + 0.5;\n",
       "    y1 = Math.floor(y1) + 0.5;\n",
       "    var min_x = Math.min(x0, x1);\n",
       "    var min_y = Math.min(y0, y1);\n",
       "    var width = Math.abs(x1 - x0);\n",
       "    var height = Math.abs(y1 - y0);\n",
       "\n",
       "    fig.rubberband_context.clearRect(\n",
       "        0, 0, fig.canvas.width / mpl.ratio, fig.canvas.height / mpl.ratio);\n",
       "\n",
       "    fig.rubberband_context.strokeRect(min_x, min_y, width, height);\n",
       "}\n",
       "\n",
       "mpl.figure.prototype.handle_figure_label = function(fig, msg) {\n",
       "    // Updates the figure title.\n",
       "    fig.header.textContent = msg['label'];\n",
       "}\n",
       "\n",
       "mpl.figure.prototype.handle_cursor = function(fig, msg) {\n",
       "    var cursor = msg['cursor'];\n",
       "    switch(cursor)\n",
       "    {\n",
       "    case 0:\n",
       "        cursor = 'pointer';\n",
       "        break;\n",
       "    case 1:\n",
       "        cursor = 'default';\n",
       "        break;\n",
       "    case 2:\n",
       "        cursor = 'crosshair';\n",
       "        break;\n",
       "    case 3:\n",
       "        cursor = 'move';\n",
       "        break;\n",
       "    }\n",
       "    fig.rubberband_canvas.style.cursor = cursor;\n",
       "}\n",
       "\n",
       "mpl.figure.prototype.handle_message = function(fig, msg) {\n",
       "    fig.message.textContent = msg['message'];\n",
       "}\n",
       "\n",
       "mpl.figure.prototype.handle_draw = function(fig, msg) {\n",
       "    // Request the server to send over a new figure.\n",
       "    fig.send_draw_message();\n",
       "}\n",
       "\n",
       "mpl.figure.prototype.handle_image_mode = function(fig, msg) {\n",
       "    fig.image_mode = msg['mode'];\n",
       "}\n",
       "\n",
       "mpl.figure.prototype.updated_canvas_event = function() {\n",
       "    // Called whenever the canvas gets updated.\n",
       "    this.send_message(\"ack\", {});\n",
       "}\n",
       "\n",
       "// A function to construct a web socket function for onmessage handling.\n",
       "// Called in the figure constructor.\n",
       "mpl.figure.prototype._make_on_message_function = function(fig) {\n",
       "    return function socket_on_message(evt) {\n",
       "        if (evt.data instanceof Blob) {\n",
       "            /* FIXME: We get \"Resource interpreted as Image but\n",
       "             * transferred with MIME type text/plain:\" errors on\n",
       "             * Chrome.  But how to set the MIME type?  It doesn't seem\n",
       "             * to be part of the websocket stream */\n",
       "            evt.data.type = \"image/png\";\n",
       "\n",
       "            /* Free the memory for the previous frames */\n",
       "            if (fig.imageObj.src) {\n",
       "                (window.URL || window.webkitURL).revokeObjectURL(\n",
       "                    fig.imageObj.src);\n",
       "            }\n",
       "\n",
       "            fig.imageObj.src = (window.URL || window.webkitURL).createObjectURL(\n",
       "                evt.data);\n",
       "            fig.updated_canvas_event();\n",
       "            fig.waiting = false;\n",
       "            return;\n",
       "        }\n",
       "        else if (typeof evt.data === 'string' && evt.data.slice(0, 21) == \"data:image/png;base64\") {\n",
       "            fig.imageObj.src = evt.data;\n",
       "            fig.updated_canvas_event();\n",
       "            fig.waiting = false;\n",
       "            return;\n",
       "        }\n",
       "\n",
       "        var msg = JSON.parse(evt.data);\n",
       "        var msg_type = msg['type'];\n",
       "\n",
       "        // Call the  \"handle_{type}\" callback, which takes\n",
       "        // the figure and JSON message as its only arguments.\n",
       "        try {\n",
       "            var callback = fig[\"handle_\" + msg_type];\n",
       "        } catch (e) {\n",
       "            console.log(\"No handler for the '\" + msg_type + \"' message type: \", msg);\n",
       "            return;\n",
       "        }\n",
       "\n",
       "        if (callback) {\n",
       "            try {\n",
       "                // console.log(\"Handling '\" + msg_type + \"' message: \", msg);\n",
       "                callback(fig, msg);\n",
       "            } catch (e) {\n",
       "                console.log(\"Exception inside the 'handler_\" + msg_type + \"' callback:\", e, e.stack, msg);\n",
       "            }\n",
       "        }\n",
       "    };\n",
       "}\n",
       "\n",
       "// from http://stackoverflow.com/questions/1114465/getting-mouse-location-in-canvas\n",
       "mpl.findpos = function(e) {\n",
       "    //this section is from http://www.quirksmode.org/js/events_properties.html\n",
       "    var targ;\n",
       "    if (!e)\n",
       "        e = window.event;\n",
       "    if (e.target)\n",
       "        targ = e.target;\n",
       "    else if (e.srcElement)\n",
       "        targ = e.srcElement;\n",
       "    if (targ.nodeType == 3) // defeat Safari bug\n",
       "        targ = targ.parentNode;\n",
       "\n",
       "    // jQuery normalizes the pageX and pageY\n",
       "    // pageX,Y are the mouse positions relative to the document\n",
       "    // offset() returns the position of the element relative to the document\n",
       "    var x = e.pageX - $(targ).offset().left;\n",
       "    var y = e.pageY - $(targ).offset().top;\n",
       "\n",
       "    return {\"x\": x, \"y\": y};\n",
       "};\n",
       "\n",
       "/*\n",
       " * return a copy of an object with only non-object keys\n",
       " * we need this to avoid circular references\n",
       " * http://stackoverflow.com/a/24161582/3208463\n",
       " */\n",
       "function simpleKeys (original) {\n",
       "  return Object.keys(original).reduce(function (obj, key) {\n",
       "    if (typeof original[key] !== 'object')\n",
       "        obj[key] = original[key]\n",
       "    return obj;\n",
       "  }, {});\n",
       "}\n",
       "\n",
       "mpl.figure.prototype.mouse_event = function(event, name) {\n",
       "    var canvas_pos = mpl.findpos(event)\n",
       "\n",
       "    if (name === 'button_press')\n",
       "    {\n",
       "        this.canvas.focus();\n",
       "        this.canvas_div.focus();\n",
       "    }\n",
       "\n",
       "    var x = canvas_pos.x * mpl.ratio;\n",
       "    var y = canvas_pos.y * mpl.ratio;\n",
       "\n",
       "    this.send_message(name, {x: x, y: y, button: event.button,\n",
       "                             step: event.step,\n",
       "                             guiEvent: simpleKeys(event)});\n",
       "\n",
       "    /* This prevents the web browser from automatically changing to\n",
       "     * the text insertion cursor when the button is pressed.  We want\n",
       "     * to control all of the cursor setting manually through the\n",
       "     * 'cursor' event from matplotlib */\n",
       "    event.preventDefault();\n",
       "    return false;\n",
       "}\n",
       "\n",
       "mpl.figure.prototype._key_event_extra = function(event, name) {\n",
       "    // Handle any extra behaviour associated with a key event\n",
       "}\n",
       "\n",
       "mpl.figure.prototype.key_event = function(event, name) {\n",
       "\n",
       "    // Prevent repeat events\n",
       "    if (name == 'key_press')\n",
       "    {\n",
       "        if (event.which === this._key)\n",
       "            return;\n",
       "        else\n",
       "            this._key = event.which;\n",
       "    }\n",
       "    if (name == 'key_release')\n",
       "        this._key = null;\n",
       "\n",
       "    var value = '';\n",
       "    if (event.ctrlKey && event.which != 17)\n",
       "        value += \"ctrl+\";\n",
       "    if (event.altKey && event.which != 18)\n",
       "        value += \"alt+\";\n",
       "    if (event.shiftKey && event.which != 16)\n",
       "        value += \"shift+\";\n",
       "\n",
       "    value += 'k';\n",
       "    value += event.which.toString();\n",
       "\n",
       "    this._key_event_extra(event, name);\n",
       "\n",
       "    this.send_message(name, {key: value,\n",
       "                             guiEvent: simpleKeys(event)});\n",
       "    return false;\n",
       "}\n",
       "\n",
       "mpl.figure.prototype.toolbar_button_onclick = function(name) {\n",
       "    if (name == 'download') {\n",
       "        this.handle_save(this, null);\n",
       "    } else {\n",
       "        this.send_message(\"toolbar_button\", {name: name});\n",
       "    }\n",
       "};\n",
       "\n",
       "mpl.figure.prototype.toolbar_button_onmouseover = function(tooltip) {\n",
       "    this.message.textContent = tooltip;\n",
       "};\n",
       "mpl.toolbar_items = [[\"Home\", \"Reset original view\", \"fa fa-home icon-home\", \"home\"], [\"Back\", \"Back to previous view\", \"fa fa-arrow-left icon-arrow-left\", \"back\"], [\"Forward\", \"Forward to next view\", \"fa fa-arrow-right icon-arrow-right\", \"forward\"], [\"\", \"\", \"\", \"\"], [\"Pan\", \"Pan axes with left mouse, zoom with right\", \"fa fa-arrows icon-move\", \"pan\"], [\"Zoom\", \"Zoom to rectangle\", \"fa fa-square-o icon-check-empty\", \"zoom\"], [\"\", \"\", \"\", \"\"], [\"Download\", \"Download plot\", \"fa fa-floppy-o icon-save\", \"download\"]];\n",
       "\n",
       "mpl.extensions = [\"eps\", \"jpeg\", \"pdf\", \"png\", \"ps\", \"raw\", \"svg\", \"tif\"];\n",
       "\n",
       "mpl.default_extension = \"png\";var comm_websocket_adapter = function(comm) {\n",
       "    // Create a \"websocket\"-like object which calls the given IPython comm\n",
       "    // object with the appropriate methods. Currently this is a non binary\n",
       "    // socket, so there is still some room for performance tuning.\n",
       "    var ws = {};\n",
       "\n",
       "    ws.close = function() {\n",
       "        comm.close()\n",
       "    };\n",
       "    ws.send = function(m) {\n",
       "        //console.log('sending', m);\n",
       "        comm.send(m);\n",
       "    };\n",
       "    // Register the callback with on_msg.\n",
       "    comm.on_msg(function(msg) {\n",
       "        //console.log('receiving', msg['content']['data'], msg);\n",
       "        // Pass the mpl event to the overridden (by mpl) onmessage function.\n",
       "        ws.onmessage(msg['content']['data'])\n",
       "    });\n",
       "    return ws;\n",
       "}\n",
       "\n",
       "mpl.mpl_figure_comm = function(comm, msg) {\n",
       "    // This is the function which gets called when the mpl process\n",
       "    // starts-up an IPython Comm through the \"matplotlib\" channel.\n",
       "\n",
       "    var id = msg.content.data.id;\n",
       "    // Get hold of the div created by the display call when the Comm\n",
       "    // socket was opened in Python.\n",
       "    var element = $(\"#\" + id);\n",
       "    var ws_proxy = comm_websocket_adapter(comm)\n",
       "\n",
       "    function ondownload(figure, format) {\n",
       "        window.open(figure.imageObj.src);\n",
       "    }\n",
       "\n",
       "    var fig = new mpl.figure(id, ws_proxy,\n",
       "                           ondownload,\n",
       "                           element.get(0));\n",
       "\n",
       "    // Call onopen now - mpl needs it, as it is assuming we've passed it a real\n",
       "    // web socket which is closed, not our websocket->open comm proxy.\n",
       "    ws_proxy.onopen();\n",
       "\n",
       "    fig.parent_element = element.get(0);\n",
       "    fig.cell_info = mpl.find_output_cell(\"<div id='\" + id + \"'></div>\");\n",
       "    if (!fig.cell_info) {\n",
       "        console.error(\"Failed to find cell for figure\", id, fig);\n",
       "        return;\n",
       "    }\n",
       "\n",
       "    var output_index = fig.cell_info[2]\n",
       "    var cell = fig.cell_info[0];\n",
       "\n",
       "};\n",
       "\n",
       "mpl.figure.prototype.handle_close = function(fig, msg) {\n",
       "    var width = fig.canvas.width/mpl.ratio\n",
       "    fig.root.unbind('remove')\n",
       "\n",
       "    // Update the output cell to use the data from the current canvas.\n",
       "    fig.push_to_output();\n",
       "    var dataURL = fig.canvas.toDataURL();\n",
       "    // Re-enable the keyboard manager in IPython - without this line, in FF,\n",
       "    // the notebook keyboard shortcuts fail.\n",
       "    IPython.keyboard_manager.enable()\n",
       "    $(fig.parent_element).html('<img src=\"' + dataURL + '\" width=\"' + width + '\">');\n",
       "    fig.close_ws(fig, msg);\n",
       "}\n",
       "\n",
       "mpl.figure.prototype.close_ws = function(fig, msg){\n",
       "    fig.send_message('closing', msg);\n",
       "    // fig.ws.close()\n",
       "}\n",
       "\n",
       "mpl.figure.prototype.push_to_output = function(remove_interactive) {\n",
       "    // Turn the data on the canvas into data in the output cell.\n",
       "    var width = this.canvas.width/mpl.ratio\n",
       "    var dataURL = this.canvas.toDataURL();\n",
       "    this.cell_info[1]['text/html'] = '<img src=\"' + dataURL + '\" width=\"' + width + '\">';\n",
       "}\n",
       "\n",
       "mpl.figure.prototype.updated_canvas_event = function() {\n",
       "    // Tell IPython that the notebook contents must change.\n",
       "    IPython.notebook.set_dirty(true);\n",
       "    this.send_message(\"ack\", {});\n",
       "    var fig = this;\n",
       "    // Wait a second, then push the new image to the DOM so\n",
       "    // that it is saved nicely (might be nice to debounce this).\n",
       "    setTimeout(function () { fig.push_to_output() }, 1000);\n",
       "}\n",
       "\n",
       "mpl.figure.prototype._init_toolbar = function() {\n",
       "    var fig = this;\n",
       "\n",
       "    var nav_element = $('<div/>');\n",
       "    nav_element.attr('style', 'width: 100%');\n",
       "    this.root.append(nav_element);\n",
       "\n",
       "    // Define a callback function for later on.\n",
       "    function toolbar_event(event) {\n",
       "        return fig.toolbar_button_onclick(event['data']);\n",
       "    }\n",
       "    function toolbar_mouse_event(event) {\n",
       "        return fig.toolbar_button_onmouseover(event['data']);\n",
       "    }\n",
       "\n",
       "    for(var toolbar_ind in mpl.toolbar_items){\n",
       "        var name = mpl.toolbar_items[toolbar_ind][0];\n",
       "        var tooltip = mpl.toolbar_items[toolbar_ind][1];\n",
       "        var image = mpl.toolbar_items[toolbar_ind][2];\n",
       "        var method_name = mpl.toolbar_items[toolbar_ind][3];\n",
       "\n",
       "        if (!name) { continue; };\n",
       "\n",
       "        var button = $('<button class=\"btn btn-default\" href=\"#\" title=\"' + name + '\"><i class=\"fa ' + image + ' fa-lg\"></i></button>');\n",
       "        button.click(method_name, toolbar_event);\n",
       "        button.mouseover(tooltip, toolbar_mouse_event);\n",
       "        nav_element.append(button);\n",
       "    }\n",
       "\n",
       "    // Add the status bar.\n",
       "    var status_bar = $('<span class=\"mpl-message\" style=\"text-align:right; float: right;\"/>');\n",
       "    nav_element.append(status_bar);\n",
       "    this.message = status_bar[0];\n",
       "\n",
       "    // Add the close button to the window.\n",
       "    var buttongrp = $('<div class=\"btn-group inline pull-right\"></div>');\n",
       "    var button = $('<button class=\"btn btn-mini btn-primary\" href=\"#\" title=\"Stop Interaction\"><i class=\"fa fa-power-off icon-remove icon-large\"></i></button>');\n",
       "    button.click(function (evt) { fig.handle_close(fig, {}); } );\n",
       "    button.mouseover('Stop Interaction', toolbar_mouse_event);\n",
       "    buttongrp.append(button);\n",
       "    var titlebar = this.root.find($('.ui-dialog-titlebar'));\n",
       "    titlebar.prepend(buttongrp);\n",
       "}\n",
       "\n",
       "mpl.figure.prototype._root_extra_style = function(el){\n",
       "    var fig = this\n",
       "    el.on(\"remove\", function(){\n",
       "\tfig.close_ws(fig, {});\n",
       "    });\n",
       "}\n",
       "\n",
       "mpl.figure.prototype._canvas_extra_style = function(el){\n",
       "    // this is important to make the div 'focusable\n",
       "    el.attr('tabindex', 0)\n",
       "    // reach out to IPython and tell the keyboard manager to turn it's self\n",
       "    // off when our div gets focus\n",
       "\n",
       "    // location in version 3\n",
       "    if (IPython.notebook.keyboard_manager) {\n",
       "        IPython.notebook.keyboard_manager.register_events(el);\n",
       "    }\n",
       "    else {\n",
       "        // location in version 2\n",
       "        IPython.keyboard_manager.register_events(el);\n",
       "    }\n",
       "\n",
       "}\n",
       "\n",
       "mpl.figure.prototype._key_event_extra = function(event, name) {\n",
       "    var manager = IPython.notebook.keyboard_manager;\n",
       "    if (!manager)\n",
       "        manager = IPython.keyboard_manager;\n",
       "\n",
       "    // Check for shift+enter\n",
       "    if (event.shiftKey && event.which == 13) {\n",
       "        this.canvas_div.blur();\n",
       "        // select the cell after this one\n",
       "        var index = IPython.notebook.find_cell_index(this.cell_info[0]);\n",
       "        IPython.notebook.select(index + 1);\n",
       "    }\n",
       "}\n",
       "\n",
       "mpl.figure.prototype.handle_save = function(fig, msg) {\n",
       "    fig.ondownload(fig, null);\n",
       "}\n",
       "\n",
       "\n",
       "mpl.find_output_cell = function(html_output) {\n",
       "    // Return the cell and output element which can be found *uniquely* in the notebook.\n",
       "    // Note - this is a bit hacky, but it is done because the \"notebook_saving.Notebook\"\n",
       "    // IPython event is triggered only after the cells have been serialised, which for\n",
       "    // our purposes (turning an active figure into a static one), is too late.\n",
       "    var cells = IPython.notebook.get_cells();\n",
       "    var ncells = cells.length;\n",
       "    for (var i=0; i<ncells; i++) {\n",
       "        var cell = cells[i];\n",
       "        if (cell.cell_type === 'code'){\n",
       "            for (var j=0; j<cell.output_area.outputs.length; j++) {\n",
       "                var data = cell.output_area.outputs[j];\n",
       "                if (data.data) {\n",
       "                    // IPython >= 3 moved mimebundle to data attribute of output\n",
       "                    data = data.data;\n",
       "                }\n",
       "                if (data['text/html'] == html_output) {\n",
       "                    return [cell, data, j];\n",
       "                }\n",
       "            }\n",
       "        }\n",
       "    }\n",
       "}\n",
       "\n",
       "// Register the function which deals with the matplotlib target/channel.\n",
       "// The kernel may be null if the page has been refreshed.\n",
       "if (IPython.notebook.kernel != null) {\n",
       "    IPython.notebook.kernel.comm_manager.register_target('matplotlib', mpl.mpl_figure_comm);\n",
       "}\n"
      ],
      "text/plain": [
       "<IPython.core.display.Javascript object>"
      ]
     },
     "metadata": {},
     "output_type": "display_data"
    },
    {
     "data": {
      "text/html": [
       "<img src=\"data:image/png;base64,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\" width=\"1000\">"
      ],
      "text/plain": [
       "<IPython.core.display.HTML object>"
      ]
     },
     "metadata": {},
     "output_type": "display_data"
    }
   ],
   "source": [
    "ax, tax, lax, lines = dual_train_plots()\n",
    "fig = ax.figure\n",
    "plt.tight_layout()\n",
    "# This gets built up during the run - do not rerun this cell\n",
    "results = pd.DataFrame([], columns=Results._fields)"
   ]
  },
  {
   "cell_type": "code",
   "execution_count": 12,
   "metadata": {
    "scrolled": false
   },
   "outputs": [
    {
     "name": "stdout",
     "output_type": "stream",
     "text": [
      "for model:  All_CNN6Layer_A(\n",
      "  (conv1): Conv1d(1, 20, kernel_size=(25,), stride=(1,), padding=(12,))\n",
      "  (conv2): Conv1d(20, 10, kernel_size=(15,), stride=(1,), padding=(7,))\n",
      "  (conv3): Conv1d(10, 10, kernel_size=(15,), stride=(1,), padding=(7,))\n",
      "  (conv4): Conv1d(10, 10, kernel_size=(15,), stride=(1,), padding=(7,))\n",
      "  (conv5): Conv1d(10, 1, kernel_size=(5,), stride=(1,), padding=(2,))\n",
      "  (finalFilter): Conv1d(1, 1, kernel_size=(91,), stride=(1,), padding=(45,))\n",
      "  (conv1dropout): Dropout(p=0.15, inplace=False)\n",
      "  (conv2dropout): Dropout(p=0.15, inplace=False)\n",
      "  (conv3dropout): Dropout(p=0.15, inplace=False)\n",
      "  (conv4dropout): Dropout(p=0.15, inplace=False)\n",
      "  (conv5dropout): Dropout(p=0.15, inplace=False)\n",
      ")\n",
      "epoch_start 1620\n",
      "batch_size 128\n",
      "epochs 40\n",
      "lr 5e-05\n",
      "Number of batches: train = 1250, val = 78\n"
     ]
    },
    {
     "name": "stderr",
     "output_type": "stream",
     "text": [
      "/home/michael24peters/pv-finder_experimental/notebooks/model/training.py:95: TqdmDeprecationWarning: This function will be removed in tqdm==5.0.0\n",
      "Please use `tqdm.notebook.tqdm` instead of `tqdm.tqdm_notebook`\n",
      "  file=sys.stderr,\n"
     ]
    },
    {
     "data": {
      "application/vnd.jupyter.widget-view+json": {
       "model_id": "ecc43e2520114df5a8992747152a2cbd",
       "version_major": 2,
       "version_minor": 0
      },
      "text/plain": [
       "HBox(children=(FloatProgress(value=0.0, description='Epochs', layout=Layout(flex='2'), max=40.0, style=Progres…"
      ]
     },
     "metadata": {},
     "output_type": "display_data"
    },
    {
     "data": {
      "application/vnd.jupyter.widget-view+json": {
       "model_id": "",
       "version_major": 2,
       "version_minor": 0
      },
      "text/plain": [
       "HBox(children=(FloatProgress(value=0.0, description='Training', layout=Layout(flex='2'), max=1250.0, style=Pro…"
      ]
     },
     "metadata": {},
     "output_type": "display_data"
    },
    {
     "name": "stdout",
     "output_type": "stream",
     "text": [
      "Epoch 1620: train=3.85389, val=3.88066, took 53.848 s\n",
      "  Validation Found 49399 of 54504, added 700 (eff 90.63%) (0.0701 FP/event)\n",
      "Result epoch:  1620\n",
      "Average Eff:  0.0\n",
      "Average FP Rate:  0.0\n"
     ]
    },
    {
     "data": {
      "application/vnd.jupyter.widget-view+json": {
       "model_id": "",
       "version_major": 2,
       "version_minor": 0
      },
      "text/plain": [
       "HBox(children=(FloatProgress(value=0.0, description='Training', layout=Layout(flex='2'), max=1250.0, style=Pro…"
      ]
     },
     "metadata": {},
     "output_type": "display_data"
    },
    {
     "name": "stdout",
     "output_type": "stream",
     "text": [
      "Epoch 1621: train=3.76236, val=3.88573, took 54.107 s\n",
      "  Validation Found 49478 of 54504, added 702 (eff 90.78%) (0.0703 FP/event)\n",
      "Result epoch:  1621\n",
      "Average Eff:  0.0\n",
      "Average FP Rate:  0.0\n"
     ]
    },
    {
     "data": {
      "application/vnd.jupyter.widget-view+json": {
       "model_id": "",
       "version_major": 2,
       "version_minor": 0
      },
      "text/plain": [
       "HBox(children=(FloatProgress(value=0.0, description='Training', layout=Layout(flex='2'), max=1250.0, style=Pro…"
      ]
     },
     "metadata": {},
     "output_type": "display_data"
    },
    {
     "name": "stdout",
     "output_type": "stream",
     "text": [
      "Epoch 1622: train=3.75242, val=3.89475, took 53.906 s\n",
      "  Validation Found 49458 of 54504, added 697 (eff 90.74%) (0.0698 FP/event)\n",
      "Result epoch:  1622\n",
      "Average Eff:  0.0\n",
      "Average FP Rate:  0.0\n"
     ]
    },
    {
     "data": {
      "application/vnd.jupyter.widget-view+json": {
       "model_id": "",
       "version_major": 2,
       "version_minor": 0
      },
      "text/plain": [
       "HBox(children=(FloatProgress(value=0.0, description='Training', layout=Layout(flex='2'), max=1250.0, style=Pro…"
      ]
     },
     "metadata": {},
     "output_type": "display_data"
    },
    {
     "name": "stdout",
     "output_type": "stream",
     "text": [
      "Epoch 1623: train=3.75025, val=3.89738, took 53.888 s\n",
      "  Validation Found 49571 of 54504, added 741 (eff 90.95%) (0.0742 FP/event)\n",
      "Result epoch:  1623\n",
      "Average Eff:  0.0\n",
      "Average FP Rate:  0.0\n"
     ]
    },
    {
     "data": {
      "application/vnd.jupyter.widget-view+json": {
       "model_id": "",
       "version_major": 2,
       "version_minor": 0
      },
      "text/plain": [
       "HBox(children=(FloatProgress(value=0.0, description='Training', layout=Layout(flex='2'), max=1250.0, style=Pro…"
      ]
     },
     "metadata": {},
     "output_type": "display_data"
    },
    {
     "name": "stdout",
     "output_type": "stream",
     "text": [
      "Epoch 1624: train=3.74734, val=3.89192, took 57.674 s\n",
      "  Validation Found 49501 of 54504, added 709 (eff 90.82%) (0.071 FP/event)\n",
      "Result epoch:  1624\n",
      "Average Eff:  0.0\n",
      "Average FP Rate:  0.0\n"
     ]
    },
    {
     "data": {
      "application/vnd.jupyter.widget-view+json": {
       "model_id": "",
       "version_major": 2,
       "version_minor": 0
      },
      "text/plain": [
       "HBox(children=(FloatProgress(value=0.0, description='Training', layout=Layout(flex='2'), max=1250.0, style=Pro…"
      ]
     },
     "metadata": {},
     "output_type": "display_data"
    },
    {
     "name": "stdout",
     "output_type": "stream",
     "text": [
      "Epoch 1625: train=3.74605, val=3.90396, took 59.984 s\n",
      "  Validation Found 49493 of 54504, added 696 (eff 90.81%) (0.0697 FP/event)\n",
      "Result epoch:  1625\n",
      "Average Eff:  0.0\n",
      "Average FP Rate:  0.0\n"
     ]
    },
    {
     "data": {
      "application/vnd.jupyter.widget-view+json": {
       "model_id": "",
       "version_major": 2,
       "version_minor": 0
      },
      "text/plain": [
       "HBox(children=(FloatProgress(value=0.0, description='Training', layout=Layout(flex='2'), max=1250.0, style=Pro…"
      ]
     },
     "metadata": {},
     "output_type": "display_data"
    },
    {
     "name": "stdout",
     "output_type": "stream",
     "text": [
      "Epoch 1626: train=3.74311, val=3.90848, took 59.461 s\n",
      "  Validation Found 49538 of 54504, added 718 (eff 90.89%) (0.0719 FP/event)\n",
      "Result epoch:  1626\n",
      "Average Eff:  0.0\n",
      "Average FP Rate:  0.0\n"
     ]
    },
    {
     "data": {
      "application/vnd.jupyter.widget-view+json": {
       "model_id": "",
       "version_major": 2,
       "version_minor": 0
      },
      "text/plain": [
       "HBox(children=(FloatProgress(value=0.0, description='Training', layout=Layout(flex='2'), max=1250.0, style=Pro…"
      ]
     },
     "metadata": {},
     "output_type": "display_data"
    },
    {
     "name": "stdout",
     "output_type": "stream",
     "text": [
      "Epoch 1627: train=3.74406, val=3.90559, took 60.149 s\n",
      "  Validation Found 49474 of 54504, added 689 (eff 90.77%) (0.069 FP/event)\n",
      "Result epoch:  1627\n",
      "Average Eff:  0.0\n",
      "Average FP Rate:  0.0\n"
     ]
    },
    {
     "data": {
      "application/vnd.jupyter.widget-view+json": {
       "model_id": "",
       "version_major": 2,
       "version_minor": 0
      },
      "text/plain": [
       "HBox(children=(FloatProgress(value=0.0, description='Training', layout=Layout(flex='2'), max=1250.0, style=Pro…"
      ]
     },
     "metadata": {},
     "output_type": "display_data"
    },
    {
     "name": "stdout",
     "output_type": "stream",
     "text": [
      "Epoch 1628: train=3.7413, val=3.91456, took 59.796 s\n",
      "  Validation Found 49488 of 54504, added 703 (eff 90.80%) (0.0704 FP/event)\n",
      "Result epoch:  1628\n",
      "Average Eff:  0.0\n",
      "Average FP Rate:  0.0\n"
     ]
    },
    {
     "data": {
      "application/vnd.jupyter.widget-view+json": {
       "model_id": "",
       "version_major": 2,
       "version_minor": 0
      },
      "text/plain": [
       "HBox(children=(FloatProgress(value=0.0, description='Training', layout=Layout(flex='2'), max=1250.0, style=Pro…"
      ]
     },
     "metadata": {},
     "output_type": "display_data"
    },
    {
     "name": "stdout",
     "output_type": "stream",
     "text": [
      "Epoch 1629: train=3.74128, val=3.90493, took 60.593 s\n",
      "  Validation Found 49520 of 54504, added 707 (eff 90.86%) (0.0708 FP/event)\n",
      "Result epoch:  1629\n",
      "Average Eff:  0.0\n",
      "Average FP Rate:  0.0\n"
     ]
    },
    {
     "data": {
      "application/vnd.jupyter.widget-view+json": {
       "model_id": "",
       "version_major": 2,
       "version_minor": 0
      },
      "text/plain": [
       "HBox(children=(FloatProgress(value=0.0, description='Training', layout=Layout(flex='2'), max=1250.0, style=Pro…"
      ]
     },
     "metadata": {},
     "output_type": "display_data"
    },
    {
     "name": "stdout",
     "output_type": "stream",
     "text": [
      "Epoch 1630: train=3.74087, val=3.90188, took 60.389 s\n",
      "  Validation Found 49633 of 54504, added 760 (eff 91.06%) (0.0761 FP/event)\n",
      "Result epoch:  1630\n",
      "Average Eff:  0.0\n",
      "Average FP Rate:  0.0\n"
     ]
    },
    {
     "data": {
      "application/vnd.jupyter.widget-view+json": {
       "model_id": "",
       "version_major": 2,
       "version_minor": 0
      },
      "text/plain": [
       "HBox(children=(FloatProgress(value=0.0, description='Training', layout=Layout(flex='2'), max=1250.0, style=Pro…"
      ]
     },
     "metadata": {},
     "output_type": "display_data"
    },
    {
     "name": "stdout",
     "output_type": "stream",
     "text": [
      "Epoch 1631: train=3.74175, val=3.91657, took 60.063 s\n",
      "  Validation Found 49457 of 54504, added 681 (eff 90.74%) (0.0682 FP/event)\n",
      "Result epoch:  1631\n",
      "Average Eff:  0.0\n",
      "Average FP Rate:  0.0\n"
     ]
    },
    {
     "data": {
      "application/vnd.jupyter.widget-view+json": {
       "model_id": "",
       "version_major": 2,
       "version_minor": 0
      },
      "text/plain": [
       "HBox(children=(FloatProgress(value=0.0, description='Training', layout=Layout(flex='2'), max=1250.0, style=Pro…"
      ]
     },
     "metadata": {},
     "output_type": "display_data"
    },
    {
     "name": "stdout",
     "output_type": "stream",
     "text": [
      "Epoch 1632: train=3.73985, val=3.90239, took 60.796 s\n",
      "  Validation Found 49572 of 54504, added 739 (eff 90.95%) (0.074 FP/event)\n",
      "Result epoch:  1632\n",
      "Average Eff:  0.0\n",
      "Average FP Rate:  0.0\n"
     ]
    },
    {
     "data": {
      "application/vnd.jupyter.widget-view+json": {
       "model_id": "",
       "version_major": 2,
       "version_minor": 0
      },
      "text/plain": [
       "HBox(children=(FloatProgress(value=0.0, description='Training', layout=Layout(flex='2'), max=1250.0, style=Pro…"
      ]
     },
     "metadata": {},
     "output_type": "display_data"
    },
    {
     "name": "stdout",
     "output_type": "stream",
     "text": [
      "Epoch 1633: train=3.73979, val=3.91053, took 60.302 s\n",
      "  Validation Found 49578 of 54504, added 740 (eff 90.96%) (0.0741 FP/event)\n",
      "Result epoch:  1633\n",
      "Average Eff:  0.0\n",
      "Average FP Rate:  0.0\n"
     ]
    },
    {
     "data": {
      "application/vnd.jupyter.widget-view+json": {
       "model_id": "",
       "version_major": 2,
       "version_minor": 0
      },
      "text/plain": [
       "HBox(children=(FloatProgress(value=0.0, description='Training', layout=Layout(flex='2'), max=1250.0, style=Pro…"
      ]
     },
     "metadata": {},
     "output_type": "display_data"
    },
    {
     "name": "stdout",
     "output_type": "stream",
     "text": [
      "Epoch 1634: train=3.73976, val=3.90727, took 60.368 s\n",
      "  Validation Found 49549 of 54504, added 722 (eff 90.91%) (0.0723 FP/event)\n",
      "Result epoch:  1634\n",
      "Average Eff:  0.0\n",
      "Average FP Rate:  0.0\n"
     ]
    },
    {
     "data": {
      "application/vnd.jupyter.widget-view+json": {
       "model_id": "",
       "version_major": 2,
       "version_minor": 0
      },
      "text/plain": [
       "HBox(children=(FloatProgress(value=0.0, description='Training', layout=Layout(flex='2'), max=1250.0, style=Pro…"
      ]
     },
     "metadata": {},
     "output_type": "display_data"
    },
    {
     "name": "stdout",
     "output_type": "stream",
     "text": [
      "Epoch 1635: train=3.73808, val=3.90991, took 60.641 s\n",
      "  Validation Found 49576 of 54504, added 729 (eff 90.96%) (0.073 FP/event)\n",
      "Result epoch:  1635\n",
      "Average Eff:  0.0\n",
      "Average FP Rate:  0.0\n"
     ]
    },
    {
     "data": {
      "application/vnd.jupyter.widget-view+json": {
       "model_id": "",
       "version_major": 2,
       "version_minor": 0
      },
      "text/plain": [
       "HBox(children=(FloatProgress(value=0.0, description='Training', layout=Layout(flex='2'), max=1250.0, style=Pro…"
      ]
     },
     "metadata": {},
     "output_type": "display_data"
    },
    {
     "name": "stdout",
     "output_type": "stream",
     "text": [
      "Epoch 1636: train=3.73908, val=3.91243, took 60.342 s\n",
      "  Validation Found 49531 of 54504, added 719 (eff 90.88%) (0.072 FP/event)\n",
      "Result epoch:  1636\n",
      "Average Eff:  0.0\n",
      "Average FP Rate:  0.0\n"
     ]
    },
    {
     "data": {
      "application/vnd.jupyter.widget-view+json": {
       "model_id": "",
       "version_major": 2,
       "version_minor": 0
      },
      "text/plain": [
       "HBox(children=(FloatProgress(value=0.0, description='Training', layout=Layout(flex='2'), max=1250.0, style=Pro…"
      ]
     },
     "metadata": {},
     "output_type": "display_data"
    },
    {
     "name": "stdout",
     "output_type": "stream",
     "text": [
      "Epoch 1637: train=3.73839, val=3.91088, took 60.527 s\n",
      "  Validation Found 49562 of 54504, added 726 (eff 90.93%) (0.0727 FP/event)\n",
      "Result epoch:  1637\n",
      "Average Eff:  0.0\n",
      "Average FP Rate:  0.0\n"
     ]
    },
    {
     "data": {
      "application/vnd.jupyter.widget-view+json": {
       "model_id": "",
       "version_major": 2,
       "version_minor": 0
      },
      "text/plain": [
       "HBox(children=(FloatProgress(value=0.0, description='Training', layout=Layout(flex='2'), max=1250.0, style=Pro…"
      ]
     },
     "metadata": {},
     "output_type": "display_data"
    },
    {
     "name": "stdout",
     "output_type": "stream",
     "text": [
      "Epoch 1638: train=3.73856, val=3.90551, took 60.699 s\n",
      "  Validation Found 49558 of 54504, added 719 (eff 90.93%) (0.072 FP/event)\n",
      "Result epoch:  1638\n",
      "Average Eff:  0.0\n",
      "Average FP Rate:  0.0\n"
     ]
    },
    {
     "data": {
      "application/vnd.jupyter.widget-view+json": {
       "model_id": "",
       "version_major": 2,
       "version_minor": 0
      },
      "text/plain": [
       "HBox(children=(FloatProgress(value=0.0, description='Training', layout=Layout(flex='2'), max=1250.0, style=Pro…"
      ]
     },
     "metadata": {},
     "output_type": "display_data"
    },
    {
     "name": "stdout",
     "output_type": "stream",
     "text": [
      "Epoch 1639: train=3.73859, val=3.91277, took 60.025 s\n",
      "  Validation Found 49545 of 54504, added 729 (eff 90.90%) (0.073 FP/event)\n",
      "Result epoch:  1639\n",
      "Average Eff:  0.0\n",
      "Average FP Rate:  0.0\n"
     ]
    },
    {
     "data": {
      "application/vnd.jupyter.widget-view+json": {
       "model_id": "",
       "version_major": 2,
       "version_minor": 0
      },
      "text/plain": [
       "HBox(children=(FloatProgress(value=0.0, description='Training', layout=Layout(flex='2'), max=1250.0, style=Pro…"
      ]
     },
     "metadata": {},
     "output_type": "display_data"
    },
    {
     "name": "stdout",
     "output_type": "stream",
     "text": [
      "Epoch 1640: train=3.73839, val=3.91095, took 60.708 s\n",
      "  Validation Found 49530 of 54504, added 718 (eff 90.87%) (0.0719 FP/event)\n",
      "Result epoch:  1640\n",
      "Average Eff:  0.0\n",
      "Average FP Rate:  0.0\n"
     ]
    },
    {
     "data": {
      "application/vnd.jupyter.widget-view+json": {
       "model_id": "",
       "version_major": 2,
       "version_minor": 0
      },
      "text/plain": [
       "HBox(children=(FloatProgress(value=0.0, description='Training', layout=Layout(flex='2'), max=1250.0, style=Pro…"
      ]
     },
     "metadata": {},
     "output_type": "display_data"
    },
    {
     "name": "stdout",
     "output_type": "stream",
     "text": [
      "Epoch 1641: train=3.73988, val=3.91452, took 60.877 s\n",
      "  Validation Found 49588 of 54504, added 731 (eff 90.98%) (0.0732 FP/event)\n",
      "Result epoch:  1641\n",
      "Average Eff:  0.0\n",
      "Average FP Rate:  0.0\n"
     ]
    },
    {
     "data": {
      "application/vnd.jupyter.widget-view+json": {
       "model_id": "",
       "version_major": 2,
       "version_minor": 0
      },
      "text/plain": [
       "HBox(children=(FloatProgress(value=0.0, description='Training', layout=Layout(flex='2'), max=1250.0, style=Pro…"
      ]
     },
     "metadata": {},
     "output_type": "display_data"
    },
    {
     "name": "stdout",
     "output_type": "stream",
     "text": [
      "Epoch 1642: train=3.73737, val=3.91598, took 60.435 s\n",
      "  Validation Found 49478 of 54504, added 705 (eff 90.78%) (0.0706 FP/event)\n",
      "Result epoch:  1642\n",
      "Average Eff:  0.0\n",
      "Average FP Rate:  0.0\n"
     ]
    },
    {
     "data": {
      "application/vnd.jupyter.widget-view+json": {
       "model_id": "",
       "version_major": 2,
       "version_minor": 0
      },
      "text/plain": [
       "HBox(children=(FloatProgress(value=0.0, description='Training', layout=Layout(flex='2'), max=1250.0, style=Pro…"
      ]
     },
     "metadata": {},
     "output_type": "display_data"
    },
    {
     "name": "stdout",
     "output_type": "stream",
     "text": [
      "Epoch 1643: train=3.7376, val=3.91543, took 60.171 s\n",
      "  Validation Found 49569 of 54504, added 727 (eff 90.95%) (0.0728 FP/event)\n",
      "Result epoch:  1643\n",
      "Average Eff:  0.0\n",
      "Average FP Rate:  0.0\n"
     ]
    },
    {
     "data": {
      "application/vnd.jupyter.widget-view+json": {
       "model_id": "",
       "version_major": 2,
       "version_minor": 0
      },
      "text/plain": [
       "HBox(children=(FloatProgress(value=0.0, description='Training', layout=Layout(flex='2'), max=1250.0, style=Pro…"
      ]
     },
     "metadata": {},
     "output_type": "display_data"
    },
    {
     "name": "stdout",
     "output_type": "stream",
     "text": [
      "Epoch 1644: train=3.73746, val=3.91546, took 60.162 s\n",
      "  Validation Found 49553 of 54504, added 727 (eff 90.92%) (0.0728 FP/event)\n",
      "Result epoch:  1644\n",
      "Average Eff:  0.0\n",
      "Average FP Rate:  0.0\n"
     ]
    },
    {
     "data": {
      "application/vnd.jupyter.widget-view+json": {
       "model_id": "",
       "version_major": 2,
       "version_minor": 0
      },
      "text/plain": [
       "HBox(children=(FloatProgress(value=0.0, description='Training', layout=Layout(flex='2'), max=1250.0, style=Pro…"
      ]
     },
     "metadata": {},
     "output_type": "display_data"
    },
    {
     "name": "stdout",
     "output_type": "stream",
     "text": [
      "Epoch 1645: train=3.73699, val=3.91832, took 61.072 s\n",
      "  Validation Found 49497 of 54504, added 698 (eff 90.81%) (0.0699 FP/event)\n",
      "Result epoch:  1645\n",
      "Average Eff:  0.0\n",
      "Average FP Rate:  0.0\n"
     ]
    },
    {
     "data": {
      "application/vnd.jupyter.widget-view+json": {
       "model_id": "",
       "version_major": 2,
       "version_minor": 0
      },
      "text/plain": [
       "HBox(children=(FloatProgress(value=0.0, description='Training', layout=Layout(flex='2'), max=1250.0, style=Pro…"
      ]
     },
     "metadata": {},
     "output_type": "display_data"
    },
    {
     "name": "stdout",
     "output_type": "stream",
     "text": [
      "Epoch 1646: train=3.73593, val=3.91054, took 60.425 s\n",
      "  Validation Found 49562 of 54504, added 715 (eff 90.93%) (0.0716 FP/event)\n",
      "Result epoch:  1646\n",
      "Average Eff:  0.0\n",
      "Average FP Rate:  0.0\n"
     ]
    },
    {
     "data": {
      "application/vnd.jupyter.widget-view+json": {
       "model_id": "",
       "version_major": 2,
       "version_minor": 0
      },
      "text/plain": [
       "HBox(children=(FloatProgress(value=0.0, description='Training', layout=Layout(flex='2'), max=1250.0, style=Pro…"
      ]
     },
     "metadata": {},
     "output_type": "display_data"
    },
    {
     "name": "stdout",
     "output_type": "stream",
     "text": [
      "Epoch 1647: train=3.73677, val=3.92769, took 60.004 s\n",
      "  Validation Found 49471 of 54504, added 686 (eff 90.77%) (0.0687 FP/event)\n",
      "Result epoch:  1647\n",
      "Average Eff:  0.0\n",
      "Average FP Rate:  0.0\n"
     ]
    },
    {
     "data": {
      "application/vnd.jupyter.widget-view+json": {
       "model_id": "",
       "version_major": 2,
       "version_minor": 0
      },
      "text/plain": [
       "HBox(children=(FloatProgress(value=0.0, description='Training', layout=Layout(flex='2'), max=1250.0, style=Pro…"
      ]
     },
     "metadata": {},
     "output_type": "display_data"
    },
    {
     "name": "stdout",
     "output_type": "stream",
     "text": [
      "Epoch 1648: train=3.73581, val=3.91525, took 60.54 s\n",
      "  Validation Found 49526 of 54504, added 712 (eff 90.87%) (0.0713 FP/event)\n",
      "Result epoch:  1648\n",
      "Average Eff:  0.0\n",
      "Average FP Rate:  0.0\n"
     ]
    },
    {
     "data": {
      "application/vnd.jupyter.widget-view+json": {
       "model_id": "",
       "version_major": 2,
       "version_minor": 0
      },
      "text/plain": [
       "HBox(children=(FloatProgress(value=0.0, description='Training', layout=Layout(flex='2'), max=1250.0, style=Pro…"
      ]
     },
     "metadata": {},
     "output_type": "display_data"
    },
    {
     "name": "stdout",
     "output_type": "stream",
     "text": [
      "Epoch 1649: train=3.73512, val=3.91864, took 60.43 s\n",
      "  Validation Found 49521 of 54504, added 703 (eff 90.86%) (0.0704 FP/event)\n",
      "Result epoch:  1649\n",
      "Average Eff:  0.0\n",
      "Average FP Rate:  0.0\n"
     ]
    },
    {
     "data": {
      "application/vnd.jupyter.widget-view+json": {
       "model_id": "",
       "version_major": 2,
       "version_minor": 0
      },
      "text/plain": [
       "HBox(children=(FloatProgress(value=0.0, description='Training', layout=Layout(flex='2'), max=1250.0, style=Pro…"
      ]
     },
     "metadata": {},
     "output_type": "display_data"
    },
    {
     "name": "stdout",
     "output_type": "stream",
     "text": [
      "Epoch 1650: train=3.7362, val=3.91362, took 59.982 s\n",
      "  Validation Found 49573 of 54504, added 726 (eff 90.95%) (0.0727 FP/event)\n",
      "Result epoch:  1650\n",
      "Average Eff:  0.9095295758109496\n",
      "Average FP Rate:  0.07270906359539309\n"
     ]
    },
    {
     "data": {
      "application/vnd.jupyter.widget-view+json": {
       "model_id": "",
       "version_major": 2,
       "version_minor": 0
      },
      "text/plain": [
       "HBox(children=(FloatProgress(value=0.0, description='Training', layout=Layout(flex='2'), max=1250.0, style=Pro…"
      ]
     },
     "metadata": {},
     "output_type": "display_data"
    },
    {
     "name": "stdout",
     "output_type": "stream",
     "text": [
      "Epoch 1651: train=3.73647, val=3.91978, took 60.047 s\n",
      "  Validation Found 49532 of 54504, added 708 (eff 90.88%) (0.0709 FP/event)\n",
      "Result epoch:  1651\n",
      "Average Eff:  1.818306913254073\n",
      "Average FP Rate:  0.14361542313470205\n"
     ]
    },
    {
     "data": {
      "application/vnd.jupyter.widget-view+json": {
       "model_id": "",
       "version_major": 2,
       "version_minor": 0
      },
      "text/plain": [
       "HBox(children=(FloatProgress(value=0.0, description='Training', layout=Layout(flex='2'), max=1250.0, style=Pro…"
      ]
     },
     "metadata": {},
     "output_type": "display_data"
    },
    {
     "name": "stdout",
     "output_type": "stream",
     "text": [
      "Epoch 1652: train=3.73606, val=3.91841, took 60.621 s\n",
      "  Validation Found 49553 of 54504, added 715 (eff 90.92%) (0.0716 FP/event)\n",
      "Result epoch:  1652\n",
      "Average Eff:  2.7274695435197414\n",
      "Average FP Rate:  0.21522283425137706\n"
     ]
    },
    {
     "data": {
      "application/vnd.jupyter.widget-view+json": {
       "model_id": "",
       "version_major": 2,
       "version_minor": 0
      },
      "text/plain": [
       "HBox(children=(FloatProgress(value=0.0, description='Training', layout=Layout(flex='2'), max=1250.0, style=Pro…"
      ]
     },
     "metadata": {},
     "output_type": "display_data"
    },
    {
     "name": "stdout",
     "output_type": "stream",
     "text": [
      "Epoch 1653: train=3.73686, val=3.91524, took 60.144 s\n",
      "  Validation Found 49487 of 54504, added 688 (eff 90.80%) (0.0689 FP/event)\n",
      "Result epoch:  1653\n",
      "Average Eff:  3.6354212534859824\n",
      "Average FP Rate:  0.28412618928392586\n"
     ]
    },
    {
     "data": {
      "application/vnd.jupyter.widget-view+json": {
       "model_id": "",
       "version_major": 2,
       "version_minor": 0
      },
      "text/plain": [
       "HBox(children=(FloatProgress(value=0.0, description='Training', layout=Layout(flex='2'), max=1250.0, style=Pro…"
      ]
     },
     "metadata": {},
     "output_type": "display_data"
    },
    {
     "name": "stdout",
     "output_type": "stream",
     "text": [
      "Epoch 1654: train=3.73578, val=3.90792, took 60.201 s\n",
      "  Validation Found 49558 of 54504, added 706 (eff 90.93%) (0.0707 FP/event)\n",
      "Result epoch:  1654\n",
      "Average Eff:  4.544675620137971\n",
      "Average FP Rate:  0.3548322483725588\n"
     ]
    },
    {
     "data": {
      "application/vnd.jupyter.widget-view+json": {
       "model_id": "",
       "version_major": 2,
       "version_minor": 0
      },
      "text/plain": [
       "HBox(children=(FloatProgress(value=0.0, description='Training', layout=Layout(flex='2'), max=1250.0, style=Pro…"
      ]
     },
     "metadata": {},
     "output_type": "display_data"
    },
    {
     "name": "stdout",
     "output_type": "stream",
     "text": [
      "Epoch 1655: train=3.73666, val=3.91321, took 60.83 s\n",
      "  Validation Found 49505 of 54504, added 699 (eff 90.83%) (0.07 FP/event)\n",
      "Result epoch:  1655\n",
      "Average Eff:  5.452957581094965\n",
      "Average FP Rate:  0.4248372558838257\n"
     ]
    },
    {
     "data": {
      "application/vnd.jupyter.widget-view+json": {
       "model_id": "",
       "version_major": 2,
       "version_minor": 0
      },
      "text/plain": [
       "HBox(children=(FloatProgress(value=0.0, description='Training', layout=Layout(flex='2'), max=1250.0, style=Pro…"
      ]
     },
     "metadata": {},
     "output_type": "display_data"
    },
    {
     "name": "stdout",
     "output_type": "stream",
     "text": [
      "Epoch 1656: train=3.73476, val=3.91465, took 60.693 s\n",
      "  Validation Found 49526 of 54504, added 701 (eff 90.87%) (0.0702 FP/event)\n",
      "Result epoch:  1656\n",
      "Average Eff:  6.361624834874504\n",
      "Average FP Rate:  0.4950425638457686\n"
     ]
    },
    {
     "data": {
      "application/vnd.jupyter.widget-view+json": {
       "model_id": "",
       "version_major": 2,
       "version_minor": 0
      },
      "text/plain": [
       "HBox(children=(FloatProgress(value=0.0, description='Training', layout=Layout(flex='2'), max=1250.0, style=Pro…"
      ]
     },
     "metadata": {},
     "output_type": "display_data"
    },
    {
     "name": "stdout",
     "output_type": "stream",
     "text": [
      "Epoch 1657: train=3.73588, val=3.92134, took 60.252 s\n",
      "  Validation Found 49549 of 54504, added 716 (eff 90.91%) (0.0717 FP/event)\n",
      "Result epoch:  1657\n",
      "Average Eff:  7.270714076031116\n",
      "Average FP Rate:  0.5667501251877817\n"
     ]
    },
    {
     "data": {
      "application/vnd.jupyter.widget-view+json": {
       "model_id": "",
       "version_major": 2,
       "version_minor": 0
      },
      "text/plain": [
       "HBox(children=(FloatProgress(value=0.0, description='Training', layout=Layout(flex='2'), max=1250.0, style=Pro…"
      ]
     },
     "metadata": {},
     "output_type": "display_data"
    },
    {
     "name": "stdout",
     "output_type": "stream",
     "text": [
      "Epoch 1658: train=3.7344, val=3.9144, took 60.573 s\n",
      "  Validation Found 49511 of 54504, added 697 (eff 90.84%) (0.0698 FP/event)\n",
      "Result epoch:  1658\n",
      "Average Eff:  8.179106120651694\n",
      "Average FP Rate:  0.6365548322483725\n"
     ]
    },
    {
     "data": {
      "application/vnd.jupyter.widget-view+json": {
       "model_id": "",
       "version_major": 2,
       "version_minor": 0
      },
      "text/plain": [
       "HBox(children=(FloatProgress(value=0.0, description='Training', layout=Layout(flex='2'), max=1250.0, style=Pro…"
      ]
     },
     "metadata": {},
     "output_type": "display_data"
    },
    {
     "name": "stdout",
     "output_type": "stream",
     "text": [
      "Epoch 1659: train=3.73489, val=3.92192, took 60.845 s\n",
      "  Validation Found 49485 of 54504, added 692 (eff 90.79%) (0.0693 FP/event)\n",
      "Result epoch:  1659\n",
      "Averaging...\n",
      "\n",
      "Average Eff:  0.9087021136063408\n",
      "Average FP Rate:  0.07058587881822734\n",
      "\n"
     ]
    },
    {
     "data": {
      "application/javascript": [
       "/* Put everything inside the global mpl namespace */\n",
       "window.mpl = {};\n",
       "\n",
       "\n",
       "mpl.get_websocket_type = function() {\n",
       "    if (typeof(WebSocket) !== 'undefined') {\n",
       "        return WebSocket;\n",
       "    } else if (typeof(MozWebSocket) !== 'undefined') {\n",
       "        return MozWebSocket;\n",
       "    } else {\n",
       "        alert('Your browser does not have WebSocket support. ' +\n",
       "              'Please try Chrome, Safari or Firefox ≥ 6. ' +\n",
       "              'Firefox 4 and 5 are also supported but you ' +\n",
       "              'have to enable WebSockets in about:config.');\n",
       "    };\n",
       "}\n",
       "\n",
       "mpl.figure = function(figure_id, websocket, ondownload, parent_element) {\n",
       "    this.id = figure_id;\n",
       "\n",
       "    this.ws = websocket;\n",
       "\n",
       "    this.supports_binary = (this.ws.binaryType != undefined);\n",
       "\n",
       "    if (!this.supports_binary) {\n",
       "        var warnings = document.getElementById(\"mpl-warnings\");\n",
       "        if (warnings) {\n",
       "            warnings.style.display = 'block';\n",
       "            warnings.textContent = (\n",
       "                \"This browser does not support binary websocket messages. \" +\n",
       "                    \"Performance may be slow.\");\n",
       "        }\n",
       "    }\n",
       "\n",
       "    this.imageObj = new Image();\n",
       "\n",
       "    this.context = undefined;\n",
       "    this.message = undefined;\n",
       "    this.canvas = undefined;\n",
       "    this.rubberband_canvas = undefined;\n",
       "    this.rubberband_context = undefined;\n",
       "    this.format_dropdown = undefined;\n",
       "\n",
       "    this.image_mode = 'full';\n",
       "\n",
       "    this.root = $('<div/>');\n",
       "    this._root_extra_style(this.root)\n",
       "    this.root.attr('style', 'display: inline-block');\n",
       "\n",
       "    $(parent_element).append(this.root);\n",
       "\n",
       "    this._init_header(this);\n",
       "    this._init_canvas(this);\n",
       "    this._init_toolbar(this);\n",
       "\n",
       "    var fig = this;\n",
       "\n",
       "    this.waiting = false;\n",
       "\n",
       "    this.ws.onopen =  function () {\n",
       "            fig.send_message(\"supports_binary\", {value: fig.supports_binary});\n",
       "            fig.send_message(\"send_image_mode\", {});\n",
       "            if (mpl.ratio != 1) {\n",
       "                fig.send_message(\"set_dpi_ratio\", {'dpi_ratio': mpl.ratio});\n",
       "            }\n",
       "            fig.send_message(\"refresh\", {});\n",
       "        }\n",
       "\n",
       "    this.imageObj.onload = function() {\n",
       "            if (fig.image_mode == 'full') {\n",
       "                // Full images could contain transparency (where diff images\n",
       "                // almost always do), so we need to clear the canvas so that\n",
       "                // there is no ghosting.\n",
       "                fig.context.clearRect(0, 0, fig.canvas.width, fig.canvas.height);\n",
       "            }\n",
       "            fig.context.drawImage(fig.imageObj, 0, 0);\n",
       "        };\n",
       "\n",
       "    this.imageObj.onunload = function() {\n",
       "        fig.ws.close();\n",
       "    }\n",
       "\n",
       "    this.ws.onmessage = this._make_on_message_function(this);\n",
       "\n",
       "    this.ondownload = ondownload;\n",
       "}\n",
       "\n",
       "mpl.figure.prototype._init_header = function() {\n",
       "    var titlebar = $(\n",
       "        '<div class=\"ui-dialog-titlebar ui-widget-header ui-corner-all ' +\n",
       "        'ui-helper-clearfix\"/>');\n",
       "    var titletext = $(\n",
       "        '<div class=\"ui-dialog-title\" style=\"width: 100%; ' +\n",
       "        'text-align: center; padding: 3px;\"/>');\n",
       "    titlebar.append(titletext)\n",
       "    this.root.append(titlebar);\n",
       "    this.header = titletext[0];\n",
       "}\n",
       "\n",
       "\n",
       "\n",
       "mpl.figure.prototype._canvas_extra_style = function(canvas_div) {\n",
       "\n",
       "}\n",
       "\n",
       "\n",
       "mpl.figure.prototype._root_extra_style = function(canvas_div) {\n",
       "\n",
       "}\n",
       "\n",
       "mpl.figure.prototype._init_canvas = function() {\n",
       "    var fig = this;\n",
       "\n",
       "    var canvas_div = $('<div/>');\n",
       "\n",
       "    canvas_div.attr('style', 'position: relative; clear: both; outline: 0');\n",
       "\n",
       "    function canvas_keyboard_event(event) {\n",
       "        return fig.key_event(event, event['data']);\n",
       "    }\n",
       "\n",
       "    canvas_div.keydown('key_press', canvas_keyboard_event);\n",
       "    canvas_div.keyup('key_release', canvas_keyboard_event);\n",
       "    this.canvas_div = canvas_div\n",
       "    this._canvas_extra_style(canvas_div)\n",
       "    this.root.append(canvas_div);\n",
       "\n",
       "    var canvas = $('<canvas/>');\n",
       "    canvas.addClass('mpl-canvas');\n",
       "    canvas.attr('style', \"left: 0; top: 0; z-index: 0; outline: 0\")\n",
       "\n",
       "    this.canvas = canvas[0];\n",
       "    this.context = canvas[0].getContext(\"2d\");\n",
       "\n",
       "    var backingStore = this.context.backingStorePixelRatio ||\n",
       "\tthis.context.webkitBackingStorePixelRatio ||\n",
       "\tthis.context.mozBackingStorePixelRatio ||\n",
       "\tthis.context.msBackingStorePixelRatio ||\n",
       "\tthis.context.oBackingStorePixelRatio ||\n",
       "\tthis.context.backingStorePixelRatio || 1;\n",
       "\n",
       "    mpl.ratio = (window.devicePixelRatio || 1) / backingStore;\n",
       "\n",
       "    var rubberband = $('<canvas/>');\n",
       "    rubberband.attr('style', \"position: absolute; left: 0; top: 0; z-index: 1;\")\n",
       "\n",
       "    var pass_mouse_events = true;\n",
       "\n",
       "    canvas_div.resizable({\n",
       "        start: function(event, ui) {\n",
       "            pass_mouse_events = false;\n",
       "        },\n",
       "        resize: function(event, ui) {\n",
       "            fig.request_resize(ui.size.width, ui.size.height);\n",
       "        },\n",
       "        stop: function(event, ui) {\n",
       "            pass_mouse_events = true;\n",
       "            fig.request_resize(ui.size.width, ui.size.height);\n",
       "        },\n",
       "    });\n",
       "\n",
       "    function mouse_event_fn(event) {\n",
       "        if (pass_mouse_events)\n",
       "            return fig.mouse_event(event, event['data']);\n",
       "    }\n",
       "\n",
       "    rubberband.mousedown('button_press', mouse_event_fn);\n",
       "    rubberband.mouseup('button_release', mouse_event_fn);\n",
       "    // Throttle sequential mouse events to 1 every 20ms.\n",
       "    rubberband.mousemove('motion_notify', mouse_event_fn);\n",
       "\n",
       "    rubberband.mouseenter('figure_enter', mouse_event_fn);\n",
       "    rubberband.mouseleave('figure_leave', mouse_event_fn);\n",
       "\n",
       "    canvas_div.on(\"wheel\", function (event) {\n",
       "        event = event.originalEvent;\n",
       "        event['data'] = 'scroll'\n",
       "        if (event.deltaY < 0) {\n",
       "            event.step = 1;\n",
       "        } else {\n",
       "            event.step = -1;\n",
       "        }\n",
       "        mouse_event_fn(event);\n",
       "    });\n",
       "\n",
       "    canvas_div.append(canvas);\n",
       "    canvas_div.append(rubberband);\n",
       "\n",
       "    this.rubberband = rubberband;\n",
       "    this.rubberband_canvas = rubberband[0];\n",
       "    this.rubberband_context = rubberband[0].getContext(\"2d\");\n",
       "    this.rubberband_context.strokeStyle = \"#000000\";\n",
       "\n",
       "    this._resize_canvas = function(width, height) {\n",
       "        // Keep the size of the canvas, canvas container, and rubber band\n",
       "        // canvas in synch.\n",
       "        canvas_div.css('width', width)\n",
       "        canvas_div.css('height', height)\n",
       "\n",
       "        canvas.attr('width', width * mpl.ratio);\n",
       "        canvas.attr('height', height * mpl.ratio);\n",
       "        canvas.attr('style', 'width: ' + width + 'px; height: ' + height + 'px;');\n",
       "\n",
       "        rubberband.attr('width', width);\n",
       "        rubberband.attr('height', height);\n",
       "    }\n",
       "\n",
       "    // Set the figure to an initial 600x600px, this will subsequently be updated\n",
       "    // upon first draw.\n",
       "    this._resize_canvas(600, 600);\n",
       "\n",
       "    // Disable right mouse context menu.\n",
       "    $(this.rubberband_canvas).bind(\"contextmenu\",function(e){\n",
       "        return false;\n",
       "    });\n",
       "\n",
       "    function set_focus () {\n",
       "        canvas.focus();\n",
       "        canvas_div.focus();\n",
       "    }\n",
       "\n",
       "    window.setTimeout(set_focus, 100);\n",
       "}\n",
       "\n",
       "mpl.figure.prototype._init_toolbar = function() {\n",
       "    var fig = this;\n",
       "\n",
       "    var nav_element = $('<div/>');\n",
       "    nav_element.attr('style', 'width: 100%');\n",
       "    this.root.append(nav_element);\n",
       "\n",
       "    // Define a callback function for later on.\n",
       "    function toolbar_event(event) {\n",
       "        return fig.toolbar_button_onclick(event['data']);\n",
       "    }\n",
       "    function toolbar_mouse_event(event) {\n",
       "        return fig.toolbar_button_onmouseover(event['data']);\n",
       "    }\n",
       "\n",
       "    for(var toolbar_ind in mpl.toolbar_items) {\n",
       "        var name = mpl.toolbar_items[toolbar_ind][0];\n",
       "        var tooltip = mpl.toolbar_items[toolbar_ind][1];\n",
       "        var image = mpl.toolbar_items[toolbar_ind][2];\n",
       "        var method_name = mpl.toolbar_items[toolbar_ind][3];\n",
       "\n",
       "        if (!name) {\n",
       "            // put a spacer in here.\n",
       "            continue;\n",
       "        }\n",
       "        var button = $('<button/>');\n",
       "        button.addClass('ui-button ui-widget ui-state-default ui-corner-all ' +\n",
       "                        'ui-button-icon-only');\n",
       "        button.attr('role', 'button');\n",
       "        button.attr('aria-disabled', 'false');\n",
       "        button.click(method_name, toolbar_event);\n",
       "        button.mouseover(tooltip, toolbar_mouse_event);\n",
       "\n",
       "        var icon_img = $('<span/>');\n",
       "        icon_img.addClass('ui-button-icon-primary ui-icon');\n",
       "        icon_img.addClass(image);\n",
       "        icon_img.addClass('ui-corner-all');\n",
       "\n",
       "        var tooltip_span = $('<span/>');\n",
       "        tooltip_span.addClass('ui-button-text');\n",
       "        tooltip_span.html(tooltip);\n",
       "\n",
       "        button.append(icon_img);\n",
       "        button.append(tooltip_span);\n",
       "\n",
       "        nav_element.append(button);\n",
       "    }\n",
       "\n",
       "    var fmt_picker_span = $('<span/>');\n",
       "\n",
       "    var fmt_picker = $('<select/>');\n",
       "    fmt_picker.addClass('mpl-toolbar-option ui-widget ui-widget-content');\n",
       "    fmt_picker_span.append(fmt_picker);\n",
       "    nav_element.append(fmt_picker_span);\n",
       "    this.format_dropdown = fmt_picker[0];\n",
       "\n",
       "    for (var ind in mpl.extensions) {\n",
       "        var fmt = mpl.extensions[ind];\n",
       "        var option = $(\n",
       "            '<option/>', {selected: fmt === mpl.default_extension}).html(fmt);\n",
       "        fmt_picker.append(option);\n",
       "    }\n",
       "\n",
       "    // Add hover states to the ui-buttons\n",
       "    $( \".ui-button\" ).hover(\n",
       "        function() { $(this).addClass(\"ui-state-hover\");},\n",
       "        function() { $(this).removeClass(\"ui-state-hover\");}\n",
       "    );\n",
       "\n",
       "    var status_bar = $('<span class=\"mpl-message\"/>');\n",
       "    nav_element.append(status_bar);\n",
       "    this.message = status_bar[0];\n",
       "}\n",
       "\n",
       "mpl.figure.prototype.request_resize = function(x_pixels, y_pixels) {\n",
       "    // Request matplotlib to resize the figure. Matplotlib will then trigger a resize in the client,\n",
       "    // which will in turn request a refresh of the image.\n",
       "    this.send_message('resize', {'width': x_pixels, 'height': y_pixels});\n",
       "}\n",
       "\n",
       "mpl.figure.prototype.send_message = function(type, properties) {\n",
       "    properties['type'] = type;\n",
       "    properties['figure_id'] = this.id;\n",
       "    this.ws.send(JSON.stringify(properties));\n",
       "}\n",
       "\n",
       "mpl.figure.prototype.send_draw_message = function() {\n",
       "    if (!this.waiting) {\n",
       "        this.waiting = true;\n",
       "        this.ws.send(JSON.stringify({type: \"draw\", figure_id: this.id}));\n",
       "    }\n",
       "}\n",
       "\n",
       "\n",
       "mpl.figure.prototype.handle_save = function(fig, msg) {\n",
       "    var format_dropdown = fig.format_dropdown;\n",
       "    var format = format_dropdown.options[format_dropdown.selectedIndex].value;\n",
       "    fig.ondownload(fig, format);\n",
       "}\n",
       "\n",
       "\n",
       "mpl.figure.prototype.handle_resize = function(fig, msg) {\n",
       "    var size = msg['size'];\n",
       "    if (size[0] != fig.canvas.width || size[1] != fig.canvas.height) {\n",
       "        fig._resize_canvas(size[0], size[1]);\n",
       "        fig.send_message(\"refresh\", {});\n",
       "    };\n",
       "}\n",
       "\n",
       "mpl.figure.prototype.handle_rubberband = function(fig, msg) {\n",
       "    var x0 = msg['x0'] / mpl.ratio;\n",
       "    var y0 = (fig.canvas.height - msg['y0']) / mpl.ratio;\n",
       "    var x1 = msg['x1'] / mpl.ratio;\n",
       "    var y1 = (fig.canvas.height - msg['y1']) / mpl.ratio;\n",
       "    x0 = Math.floor(x0) + 0.5;\n",
       "    y0 = Math.floor(y0) + 0.5;\n",
       "    x1 = Math.floor(x1) + 0.5;\n",
       "    y1 = Math.floor(y1) + 0.5;\n",
       "    var min_x = Math.min(x0, x1);\n",
       "    var min_y = Math.min(y0, y1);\n",
       "    var width = Math.abs(x1 - x0);\n",
       "    var height = Math.abs(y1 - y0);\n",
       "\n",
       "    fig.rubberband_context.clearRect(\n",
       "        0, 0, fig.canvas.width / mpl.ratio, fig.canvas.height / mpl.ratio);\n",
       "\n",
       "    fig.rubberband_context.strokeRect(min_x, min_y, width, height);\n",
       "}\n",
       "\n",
       "mpl.figure.prototype.handle_figure_label = function(fig, msg) {\n",
       "    // Updates the figure title.\n",
       "    fig.header.textContent = msg['label'];\n",
       "}\n",
       "\n",
       "mpl.figure.prototype.handle_cursor = function(fig, msg) {\n",
       "    var cursor = msg['cursor'];\n",
       "    switch(cursor)\n",
       "    {\n",
       "    case 0:\n",
       "        cursor = 'pointer';\n",
       "        break;\n",
       "    case 1:\n",
       "        cursor = 'default';\n",
       "        break;\n",
       "    case 2:\n",
       "        cursor = 'crosshair';\n",
       "        break;\n",
       "    case 3:\n",
       "        cursor = 'move';\n",
       "        break;\n",
       "    }\n",
       "    fig.rubberband_canvas.style.cursor = cursor;\n",
       "}\n",
       "\n",
       "mpl.figure.prototype.handle_message = function(fig, msg) {\n",
       "    fig.message.textContent = msg['message'];\n",
       "}\n",
       "\n",
       "mpl.figure.prototype.handle_draw = function(fig, msg) {\n",
       "    // Request the server to send over a new figure.\n",
       "    fig.send_draw_message();\n",
       "}\n",
       "\n",
       "mpl.figure.prototype.handle_image_mode = function(fig, msg) {\n",
       "    fig.image_mode = msg['mode'];\n",
       "}\n",
       "\n",
       "mpl.figure.prototype.updated_canvas_event = function() {\n",
       "    // Called whenever the canvas gets updated.\n",
       "    this.send_message(\"ack\", {});\n",
       "}\n",
       "\n",
       "// A function to construct a web socket function for onmessage handling.\n",
       "// Called in the figure constructor.\n",
       "mpl.figure.prototype._make_on_message_function = function(fig) {\n",
       "    return function socket_on_message(evt) {\n",
       "        if (evt.data instanceof Blob) {\n",
       "            /* FIXME: We get \"Resource interpreted as Image but\n",
       "             * transferred with MIME type text/plain:\" errors on\n",
       "             * Chrome.  But how to set the MIME type?  It doesn't seem\n",
       "             * to be part of the websocket stream */\n",
       "            evt.data.type = \"image/png\";\n",
       "\n",
       "            /* Free the memory for the previous frames */\n",
       "            if (fig.imageObj.src) {\n",
       "                (window.URL || window.webkitURL).revokeObjectURL(\n",
       "                    fig.imageObj.src);\n",
       "            }\n",
       "\n",
       "            fig.imageObj.src = (window.URL || window.webkitURL).createObjectURL(\n",
       "                evt.data);\n",
       "            fig.updated_canvas_event();\n",
       "            fig.waiting = false;\n",
       "            return;\n",
       "        }\n",
       "        else if (typeof evt.data === 'string' && evt.data.slice(0, 21) == \"data:image/png;base64\") {\n",
       "            fig.imageObj.src = evt.data;\n",
       "            fig.updated_canvas_event();\n",
       "            fig.waiting = false;\n",
       "            return;\n",
       "        }\n",
       "\n",
       "        var msg = JSON.parse(evt.data);\n",
       "        var msg_type = msg['type'];\n",
       "\n",
       "        // Call the  \"handle_{type}\" callback, which takes\n",
       "        // the figure and JSON message as its only arguments.\n",
       "        try {\n",
       "            var callback = fig[\"handle_\" + msg_type];\n",
       "        } catch (e) {\n",
       "            console.log(\"No handler for the '\" + msg_type + \"' message type: \", msg);\n",
       "            return;\n",
       "        }\n",
       "\n",
       "        if (callback) {\n",
       "            try {\n",
       "                // console.log(\"Handling '\" + msg_type + \"' message: \", msg);\n",
       "                callback(fig, msg);\n",
       "            } catch (e) {\n",
       "                console.log(\"Exception inside the 'handler_\" + msg_type + \"' callback:\", e, e.stack, msg);\n",
       "            }\n",
       "        }\n",
       "    };\n",
       "}\n",
       "\n",
       "// from http://stackoverflow.com/questions/1114465/getting-mouse-location-in-canvas\n",
       "mpl.findpos = function(e) {\n",
       "    //this section is from http://www.quirksmode.org/js/events_properties.html\n",
       "    var targ;\n",
       "    if (!e)\n",
       "        e = window.event;\n",
       "    if (e.target)\n",
       "        targ = e.target;\n",
       "    else if (e.srcElement)\n",
       "        targ = e.srcElement;\n",
       "    if (targ.nodeType == 3) // defeat Safari bug\n",
       "        targ = targ.parentNode;\n",
       "\n",
       "    // jQuery normalizes the pageX and pageY\n",
       "    // pageX,Y are the mouse positions relative to the document\n",
       "    // offset() returns the position of the element relative to the document\n",
       "    var x = e.pageX - $(targ).offset().left;\n",
       "    var y = e.pageY - $(targ).offset().top;\n",
       "\n",
       "    return {\"x\": x, \"y\": y};\n",
       "};\n",
       "\n",
       "/*\n",
       " * return a copy of an object with only non-object keys\n",
       " * we need this to avoid circular references\n",
       " * http://stackoverflow.com/a/24161582/3208463\n",
       " */\n",
       "function simpleKeys (original) {\n",
       "  return Object.keys(original).reduce(function (obj, key) {\n",
       "    if (typeof original[key] !== 'object')\n",
       "        obj[key] = original[key]\n",
       "    return obj;\n",
       "  }, {});\n",
       "}\n",
       "\n",
       "mpl.figure.prototype.mouse_event = function(event, name) {\n",
       "    var canvas_pos = mpl.findpos(event)\n",
       "\n",
       "    if (name === 'button_press')\n",
       "    {\n",
       "        this.canvas.focus();\n",
       "        this.canvas_div.focus();\n",
       "    }\n",
       "\n",
       "    var x = canvas_pos.x * mpl.ratio;\n",
       "    var y = canvas_pos.y * mpl.ratio;\n",
       "\n",
       "    this.send_message(name, {x: x, y: y, button: event.button,\n",
       "                             step: event.step,\n",
       "                             guiEvent: simpleKeys(event)});\n",
       "\n",
       "    /* This prevents the web browser from automatically changing to\n",
       "     * the text insertion cursor when the button is pressed.  We want\n",
       "     * to control all of the cursor setting manually through the\n",
       "     * 'cursor' event from matplotlib */\n",
       "    event.preventDefault();\n",
       "    return false;\n",
       "}\n",
       "\n",
       "mpl.figure.prototype._key_event_extra = function(event, name) {\n",
       "    // Handle any extra behaviour associated with a key event\n",
       "}\n",
       "\n",
       "mpl.figure.prototype.key_event = function(event, name) {\n",
       "\n",
       "    // Prevent repeat events\n",
       "    if (name == 'key_press')\n",
       "    {\n",
       "        if (event.which === this._key)\n",
       "            return;\n",
       "        else\n",
       "            this._key = event.which;\n",
       "    }\n",
       "    if (name == 'key_release')\n",
       "        this._key = null;\n",
       "\n",
       "    var value = '';\n",
       "    if (event.ctrlKey && event.which != 17)\n",
       "        value += \"ctrl+\";\n",
       "    if (event.altKey && event.which != 18)\n",
       "        value += \"alt+\";\n",
       "    if (event.shiftKey && event.which != 16)\n",
       "        value += \"shift+\";\n",
       "\n",
       "    value += 'k';\n",
       "    value += event.which.toString();\n",
       "\n",
       "    this._key_event_extra(event, name);\n",
       "\n",
       "    this.send_message(name, {key: value,\n",
       "                             guiEvent: simpleKeys(event)});\n",
       "    return false;\n",
       "}\n",
       "\n",
       "mpl.figure.prototype.toolbar_button_onclick = function(name) {\n",
       "    if (name == 'download') {\n",
       "        this.handle_save(this, null);\n",
       "    } else {\n",
       "        this.send_message(\"toolbar_button\", {name: name});\n",
       "    }\n",
       "};\n",
       "\n",
       "mpl.figure.prototype.toolbar_button_onmouseover = function(tooltip) {\n",
       "    this.message.textContent = tooltip;\n",
       "};\n",
       "mpl.toolbar_items = [[\"Home\", \"Reset original view\", \"fa fa-home icon-home\", \"home\"], [\"Back\", \"Back to previous view\", \"fa fa-arrow-left icon-arrow-left\", \"back\"], [\"Forward\", \"Forward to next view\", \"fa fa-arrow-right icon-arrow-right\", \"forward\"], [\"\", \"\", \"\", \"\"], [\"Pan\", \"Pan axes with left mouse, zoom with right\", \"fa fa-arrows icon-move\", \"pan\"], [\"Zoom\", \"Zoom to rectangle\", \"fa fa-square-o icon-check-empty\", \"zoom\"], [\"\", \"\", \"\", \"\"], [\"Download\", \"Download plot\", \"fa fa-floppy-o icon-save\", \"download\"]];\n",
       "\n",
       "mpl.extensions = [\"eps\", \"jpeg\", \"pdf\", \"png\", \"ps\", \"raw\", \"svg\", \"tif\"];\n",
       "\n",
       "mpl.default_extension = \"png\";var comm_websocket_adapter = function(comm) {\n",
       "    // Create a \"websocket\"-like object which calls the given IPython comm\n",
       "    // object with the appropriate methods. Currently this is a non binary\n",
       "    // socket, so there is still some room for performance tuning.\n",
       "    var ws = {};\n",
       "\n",
       "    ws.close = function() {\n",
       "        comm.close()\n",
       "    };\n",
       "    ws.send = function(m) {\n",
       "        //console.log('sending', m);\n",
       "        comm.send(m);\n",
       "    };\n",
       "    // Register the callback with on_msg.\n",
       "    comm.on_msg(function(msg) {\n",
       "        //console.log('receiving', msg['content']['data'], msg);\n",
       "        // Pass the mpl event to the overridden (by mpl) onmessage function.\n",
       "        ws.onmessage(msg['content']['data'])\n",
       "    });\n",
       "    return ws;\n",
       "}\n",
       "\n",
       "mpl.mpl_figure_comm = function(comm, msg) {\n",
       "    // This is the function which gets called when the mpl process\n",
       "    // starts-up an IPython Comm through the \"matplotlib\" channel.\n",
       "\n",
       "    var id = msg.content.data.id;\n",
       "    // Get hold of the div created by the display call when the Comm\n",
       "    // socket was opened in Python.\n",
       "    var element = $(\"#\" + id);\n",
       "    var ws_proxy = comm_websocket_adapter(comm)\n",
       "\n",
       "    function ondownload(figure, format) {\n",
       "        window.open(figure.imageObj.src);\n",
       "    }\n",
       "\n",
       "    var fig = new mpl.figure(id, ws_proxy,\n",
       "                           ondownload,\n",
       "                           element.get(0));\n",
       "\n",
       "    // Call onopen now - mpl needs it, as it is assuming we've passed it a real\n",
       "    // web socket which is closed, not our websocket->open comm proxy.\n",
       "    ws_proxy.onopen();\n",
       "\n",
       "    fig.parent_element = element.get(0);\n",
       "    fig.cell_info = mpl.find_output_cell(\"<div id='\" + id + \"'></div>\");\n",
       "    if (!fig.cell_info) {\n",
       "        console.error(\"Failed to find cell for figure\", id, fig);\n",
       "        return;\n",
       "    }\n",
       "\n",
       "    var output_index = fig.cell_info[2]\n",
       "    var cell = fig.cell_info[0];\n",
       "\n",
       "};\n",
       "\n",
       "mpl.figure.prototype.handle_close = function(fig, msg) {\n",
       "    var width = fig.canvas.width/mpl.ratio\n",
       "    fig.root.unbind('remove')\n",
       "\n",
       "    // Update the output cell to use the data from the current canvas.\n",
       "    fig.push_to_output();\n",
       "    var dataURL = fig.canvas.toDataURL();\n",
       "    // Re-enable the keyboard manager in IPython - without this line, in FF,\n",
       "    // the notebook keyboard shortcuts fail.\n",
       "    IPython.keyboard_manager.enable()\n",
       "    $(fig.parent_element).html('<img src=\"' + dataURL + '\" width=\"' + width + '\">');\n",
       "    fig.close_ws(fig, msg);\n",
       "}\n",
       "\n",
       "mpl.figure.prototype.close_ws = function(fig, msg){\n",
       "    fig.send_message('closing', msg);\n",
       "    // fig.ws.close()\n",
       "}\n",
       "\n",
       "mpl.figure.prototype.push_to_output = function(remove_interactive) {\n",
       "    // Turn the data on the canvas into data in the output cell.\n",
       "    var width = this.canvas.width/mpl.ratio\n",
       "    var dataURL = this.canvas.toDataURL();\n",
       "    this.cell_info[1]['text/html'] = '<img src=\"' + dataURL + '\" width=\"' + width + '\">';\n",
       "}\n",
       "\n",
       "mpl.figure.prototype.updated_canvas_event = function() {\n",
       "    // Tell IPython that the notebook contents must change.\n",
       "    IPython.notebook.set_dirty(true);\n",
       "    this.send_message(\"ack\", {});\n",
       "    var fig = this;\n",
       "    // Wait a second, then push the new image to the DOM so\n",
       "    // that it is saved nicely (might be nice to debounce this).\n",
       "    setTimeout(function () { fig.push_to_output() }, 1000);\n",
       "}\n",
       "\n",
       "mpl.figure.prototype._init_toolbar = function() {\n",
       "    var fig = this;\n",
       "\n",
       "    var nav_element = $('<div/>');\n",
       "    nav_element.attr('style', 'width: 100%');\n",
       "    this.root.append(nav_element);\n",
       "\n",
       "    // Define a callback function for later on.\n",
       "    function toolbar_event(event) {\n",
       "        return fig.toolbar_button_onclick(event['data']);\n",
       "    }\n",
       "    function toolbar_mouse_event(event) {\n",
       "        return fig.toolbar_button_onmouseover(event['data']);\n",
       "    }\n",
       "\n",
       "    for(var toolbar_ind in mpl.toolbar_items){\n",
       "        var name = mpl.toolbar_items[toolbar_ind][0];\n",
       "        var tooltip = mpl.toolbar_items[toolbar_ind][1];\n",
       "        var image = mpl.toolbar_items[toolbar_ind][2];\n",
       "        var method_name = mpl.toolbar_items[toolbar_ind][3];\n",
       "\n",
       "        if (!name) { continue; };\n",
       "\n",
       "        var button = $('<button class=\"btn btn-default\" href=\"#\" title=\"' + name + '\"><i class=\"fa ' + image + ' fa-lg\"></i></button>');\n",
       "        button.click(method_name, toolbar_event);\n",
       "        button.mouseover(tooltip, toolbar_mouse_event);\n",
       "        nav_element.append(button);\n",
       "    }\n",
       "\n",
       "    // Add the status bar.\n",
       "    var status_bar = $('<span class=\"mpl-message\" style=\"text-align:right; float: right;\"/>');\n",
       "    nav_element.append(status_bar);\n",
       "    this.message = status_bar[0];\n",
       "\n",
       "    // Add the close button to the window.\n",
       "    var buttongrp = $('<div class=\"btn-group inline pull-right\"></div>');\n",
       "    var button = $('<button class=\"btn btn-mini btn-primary\" href=\"#\" title=\"Stop Interaction\"><i class=\"fa fa-power-off icon-remove icon-large\"></i></button>');\n",
       "    button.click(function (evt) { fig.handle_close(fig, {}); } );\n",
       "    button.mouseover('Stop Interaction', toolbar_mouse_event);\n",
       "    buttongrp.append(button);\n",
       "    var titlebar = this.root.find($('.ui-dialog-titlebar'));\n",
       "    titlebar.prepend(buttongrp);\n",
       "}\n",
       "\n",
       "mpl.figure.prototype._root_extra_style = function(el){\n",
       "    var fig = this\n",
       "    el.on(\"remove\", function(){\n",
       "\tfig.close_ws(fig, {});\n",
       "    });\n",
       "}\n",
       "\n",
       "mpl.figure.prototype._canvas_extra_style = function(el){\n",
       "    // this is important to make the div 'focusable\n",
       "    el.attr('tabindex', 0)\n",
       "    // reach out to IPython and tell the keyboard manager to turn it's self\n",
       "    // off when our div gets focus\n",
       "\n",
       "    // location in version 3\n",
       "    if (IPython.notebook.keyboard_manager) {\n",
       "        IPython.notebook.keyboard_manager.register_events(el);\n",
       "    }\n",
       "    else {\n",
       "        // location in version 2\n",
       "        IPython.keyboard_manager.register_events(el);\n",
       "    }\n",
       "\n",
       "}\n",
       "\n",
       "mpl.figure.prototype._key_event_extra = function(event, name) {\n",
       "    var manager = IPython.notebook.keyboard_manager;\n",
       "    if (!manager)\n",
       "        manager = IPython.keyboard_manager;\n",
       "\n",
       "    // Check for shift+enter\n",
       "    if (event.shiftKey && event.which == 13) {\n",
       "        this.canvas_div.blur();\n",
       "        // select the cell after this one\n",
       "        var index = IPython.notebook.find_cell_index(this.cell_info[0]);\n",
       "        IPython.notebook.select(index + 1);\n",
       "    }\n",
       "}\n",
       "\n",
       "mpl.figure.prototype.handle_save = function(fig, msg) {\n",
       "    fig.ondownload(fig, null);\n",
       "}\n",
       "\n",
       "\n",
       "mpl.find_output_cell = function(html_output) {\n",
       "    // Return the cell and output element which can be found *uniquely* in the notebook.\n",
       "    // Note - this is a bit hacky, but it is done because the \"notebook_saving.Notebook\"\n",
       "    // IPython event is triggered only after the cells have been serialised, which for\n",
       "    // our purposes (turning an active figure into a static one), is too late.\n",
       "    var cells = IPython.notebook.get_cells();\n",
       "    var ncells = cells.length;\n",
       "    for (var i=0; i<ncells; i++) {\n",
       "        var cell = cells[i];\n",
       "        if (cell.cell_type === 'code'){\n",
       "            for (var j=0; j<cell.output_area.outputs.length; j++) {\n",
       "                var data = cell.output_area.outputs[j];\n",
       "                if (data.data) {\n",
       "                    // IPython >= 3 moved mimebundle to data attribute of output\n",
       "                    data = data.data;\n",
       "                }\n",
       "                if (data['text/html'] == html_output) {\n",
       "                    return [cell, data, j];\n",
       "                }\n",
       "            }\n",
       "        }\n",
       "    }\n",
       "}\n",
       "\n",
       "// Register the function which deals with the matplotlib target/channel.\n",
       "// The kernel may be null if the page has been refreshed.\n",
       "if (IPython.notebook.kernel != null) {\n",
       "    IPython.notebook.kernel.comm_manager.register_target('matplotlib', mpl.mpl_figure_comm);\n",
       "}\n"
      ],
      "text/plain": [
       "<IPython.core.display.Javascript object>"
      ]
     },
     "metadata": {},
     "output_type": "display_data"
    },
    {
     "data": {
      "text/html": [
       "<img src=\"data:image/png;base64,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\" width=\"1000\">"
      ],
      "text/plain": [
       "<IPython.core.display.HTML object>"
      ]
     },
     "metadata": {},
     "output_type": "display_data"
    }
   ],
   "source": [
    "avgEff = 0.0\n",
    "avgFP = 0.0\n",
    "print('for model: ', model)   \n",
    "run_name = 'ACNN A Avg.'\n",
    "# Create an mlflow run\n",
    "with mlflow.start_run(run_name=run_name) as run:\n",
    "    # Log parameters of the model\n",
    "    for key, value in vars(args).items():\n",
    "        print(key, value)\n",
    "        mlflow.log_param(key, value)\n",
    "    \n",
    "    # Log parameter count in the model\n",
    "    mlflow.log_param('Parameters', count_parameters(model))\n",
    "    \n",
    "    # Begin run\n",
    "    for result in trainNet(model, optimizer, loss,\n",
    "                            train_loader, val_loader,\n",
    "                            args.epochs+args.epoch_start, epoch_start=args.epoch_start,\n",
    "                            notebook=True, device=device):\n",
    "\n",
    "        result = result._asdict()\n",
    "        results = results.append(pd.Series(result), ignore_index=True)\n",
    "    \n",
    "        xs = results.index\n",
    "    \n",
    "        # Update the plot above\n",
    "        lines['train'].set_data(results.index,results.cost)\n",
    "        lines['val'].set_data(results.index,results.val)\n",
    "    \n",
    "        # filter first cost epoch\n",
    "        max_cost = max(max(results.cost if len(results.cost)<2 else results.cost[1:]), max(results.val))\n",
    "        min_cost = min(min(results.cost), min(results.val))\n",
    "    \n",
    "        # The plot limits need updating too\n",
    "        ax.set_ylim(min_cost*.9, max_cost*1.1)  \n",
    "        ax.set_xlim(-.5, len(results.cost) - .5)\n",
    "    \n",
    "        replace_in_ax(lax, lines['eff'], xs, results['eff_val'].apply(lambda x: x.eff_rate))\n",
    "        replace_in_ax(tax, lines['fp'], xs, results['eff_val'].apply(lambda x: x.fp_rate))\n",
    "    \n",
    "        # Redraw the figure\n",
    "        fig.canvas.draw()\n",
    "            \n",
    "        ## MLFLOW ##\n",
    "        # Log metrics\n",
    "        mlflow.log_metric('Efficiency', result['eff_val'].eff_rate, result['epoch'])\n",
    "        mlflow.log_metric('False Positive Rate',  result['eff_val'].fp_rate, result['epoch'])\n",
    "        mlflow.log_metric('Validation Loss',  result['val'], result['epoch'])\n",
    "        mlflow.log_metric('Training Loss',  result['cost'], result['epoch'])\n",
    "        \n",
    "        print('Result epoch: ', result['epoch'])\n",
    "        if(result['epoch'] >= args.epochs + args.epoch_start - 10):\n",
    "            avgEff += result['eff_val'].eff_rate\n",
    "            avgFP += result['eff_val'].fp_rate\n",
    "           \n",
    "        if(result['epoch'] == args.epochs + args.epoch_start - 1):\n",
    "            print('Averaging...\\n')\n",
    "            avgEff /= 10\n",
    "            avgFP /= 10\n",
    "            mlflow.log_metric('10 Efficiency Average', avgEff)\n",
    "            mlflow.log_metric('10 False Positive Average', avgFP)\n",
    "            \n",
    "        print('Average Eff: ', avgEff)\n",
    "        print('Average FP Rate: ', avgFP)\n",
    "        \n",
    "            \n",
    "        # Log tags\n",
    "#        mlflow.set_tag('Optimizer', 'Adam')\n",
    "#        mlflow.set_tag('Kernel size', 'Mixed')\n",
    "#        mlflow.set_tag('Skip connections', '4')\n",
    "#        mlflow.set_tag('Activation', 'Softplus')\n",
    "#        mlflow.set_tag('Mid Activation', 'Relu')\n",
    "        mlflow.set_tag('Extra Data', 'False')\n",
    "        mlflow.set_tag('Asymmetry', '0.0')\n",
    "\n",
    "        # Save model state dictionary, optimizer state dictionary, and epoch number\n",
    "        torch.save({\n",
    "            'model':model.state_dict(),\n",
    "            'optimizer':optimizer.state_dict(),\n",
    "            'epoch':args.epochs+result['epoch']\n",
    "            }, 'run_stats.pyt')\n",
    "        # Save the run stats into mlflow\n",
    "        mlflow.log_artifact('run_stats.pyt')\n",
    "            \n",
    "        # Save a diagram of the architecture\n",
    "#        HL.transforms.Fold(\"Conv\", \"Conv\"),\n",
    "#        HL.build_graph(model, torch.zeros([args.batch_size, 1, 4000]).to(device)).save('architecture', format='png')\n",
    "#        mlflow.log_artifact('architecture.png')\n",
    "        \n",
    "        # log the code for the model architecture\n",
    "#        mlflow.log_artifact('architecture.txt')\n",
    "        \n",
    "    dual_train_plots(results.index,\n",
    "                 results.cost, results.val, \n",
    "                 results['eff_val'].apply(lambda x: x.eff_rate),\n",
    "                 results['eff_val'].apply(lambda x: x.fp_rate))\n",
    "    # save plot\n",
    "    plt.tight_layout()\n",
    "    plt.savefig('plot.png')\n",
    "    mlflow.log_artifact('plot.png')"
   ]
  },
  {
   "cell_type": "code",
   "execution_count": 13,
   "metadata": {},
   "outputs": [],
   "source": [
    "##quit()"
   ]
  }
 ],
 "metadata": {
  "kernelspec": {
   "display_name": "goofit-june2020",
   "language": "python",
   "name": "goofit-june2020"
  },
  "language_info": {
   "codemirror_mode": {
    "name": "ipython",
    "version": 3
   },
   "file_extension": ".py",
   "mimetype": "text/x-python",
   "name": "python",
   "nbconvert_exporter": "python",
   "pygments_lexer": "ipython3",
   "version": "3.7.6"
  }
 },
 "nbformat": 4,
 "nbformat_minor": 2
}
