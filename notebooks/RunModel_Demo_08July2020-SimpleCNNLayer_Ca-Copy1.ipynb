{
 "cells": [
  {
   "cell_type": "code",
   "execution_count": 1,
   "metadata": {},
   "outputs": [],
   "source": [
    "##%matplotlib widget\n",
    "## with %matplotlib notebook: seems to require ipympl as part of environment, either\n",
    "## part of the conda environment or \"pip install ipympl\"\n",
    "## otherwise, does not show ANY plots in notebook, plt.savefig() works\n",
    "%matplotlib notebook  \n",
    "##%matplotlib inline    ## --plt.savefig()  works, but re-sizing does NOT"
   ]
  },
  {
   "cell_type": "markdown",
   "metadata": {},
   "source": [
    "Check the current GPU usage. Please try to be nice!"
   ]
  },
  {
   "cell_type": "code",
   "execution_count": 2,
   "metadata": {},
   "outputs": [
    {
     "name": "stdout",
     "output_type": "stream",
     "text": [
      "Wed Jul 22 09:44:39 2020       \r\n",
      "+-----------------------------------------------------------------------------+\r\n",
      "| NVIDIA-SMI 440.64.00    Driver Version: 440.64.00    CUDA Version: 10.2     |\r\n",
      "|-------------------------------+----------------------+----------------------+\r\n",
      "| GPU  Name        Persistence-M| Bus-Id        Disp.A | Volatile Uncorr. ECC |\r\n",
      "| Fan  Temp  Perf  Pwr:Usage/Cap|         Memory-Usage | GPU-Util  Compute M. |\r\n",
      "|===============================+======================+======================|\r\n",
      "|   0  TITAN V             Off  | 00000000:03:00.0 Off |                  N/A |\r\n",
      "| 25%   32C    P0    31W / 250W |      0MiB / 12066MiB |      7%      Default |\r\n",
      "+-------------------------------+----------------------+----------------------+\r\n",
      "|   1  Tesla P100-PCIE...  Off  | 00000000:83:00.0 Off |                    0 |\r\n",
      "| N/A   79C    P0    74W / 250W |   7736MiB / 16280MiB |     94%      Default |\r\n",
      "+-------------------------------+----------------------+----------------------+\r\n",
      "|   2  TITAN V             Off  | 00000000:84:00.0 Off |                  N/A |\r\n",
      "| 28%   37C    P8    25W / 250W |   2289MiB / 12066MiB |      0%      Default |\r\n",
      "+-------------------------------+----------------------+----------------------+\r\n",
      "                                                                               \r\n",
      "+-----------------------------------------------------------------------------+\r\n",
      "| Processes:                                                       GPU Memory |\r\n",
      "|  GPU       PID   Type   Process name                             Usage      |\r\n",
      "|=============================================================================|\r\n",
      "|    1      7888      C   ...a/conda/envs/goofit-june2020/bin/python  1903MiB |\r\n",
      "|    1     41483      C   ...a/conda/envs/goofit-june2020/bin/python  5823MiB |\r\n",
      "|    2      7894      C   ...a/conda/envs/goofit-june2020/bin/python  2263MiB |\r\n",
      "|    2     45727      C   ...a/conda/envs/goofit-june2020/bin/python    14MiB |\r\n",
      "+-----------------------------------------------------------------------------+\r\n"
     ]
    }
   ],
   "source": [
    "!nvidia-smi"
   ]
  },
  {
   "cell_type": "markdown",
   "metadata": {},
   "source": [
    "## Imports"
   ]
  },
  {
   "cell_type": "code",
   "execution_count": 3,
   "metadata": {},
   "outputs": [],
   "source": [
    "import matplotlib.pyplot as plt\n",
    "import numpy as np\n",
    "import time\n",
    "import torch\n",
    "import pandas as pd\n",
    "import mlflow\n",
    "\n",
    "# Python 3 standard library\n",
    "from pathlib import Path\n",
    "\n",
    "from torchsummary import summary\n",
    "\n",
    "'''\n",
    "HELPER FUNCTIONS\n",
    "'''\n",
    "# From model/collectdata.py\n",
    "from model.collectdata_mdsA import collect_data\n",
    "\n",
    "# From model/loss.py\n",
    "##from loss import Loss\n",
    "from model.alt_loss_A import Loss\n",
    "\n",
    "# From model/training.py\n",
    "from model.training import trainNet, select_gpu, Results\n",
    "\n",
    "# From model/models.py\n",
    "##  will start with model from TwoFeatures_CNN6Layer_A in the first instance\n",
    "##  see relevant cell below\n",
    "\n",
    "from model.models_mjp_07July2020 import SimpleCNN5Layer_Ca as Model\n",
    "from model.models_mjp_07July2020 import SimpleCNN5Layer_Ca_B as Model_B\n",
    "from model.models_mjp_07July2020 import SimpleCNN5Layer_Ca_F as Model_F\n",
    "from model.models_mjp_07July2020 import SimpleCNN5Layer_Ca_G as Model_G\n",
    "from model.models_mjp_07July2020 import SimpleCNN5Layer_Ca_H as Model_H\n",
    "\n",
    "# From model/utilities.py\n",
    "from model.utilities import load_full_state, count_parameters, Params\n",
    "\n",
    "from model.plots import dual_train_plots, replace_in_ax\n",
    "\n",
    "## adds image of model architecture\n",
    "import hiddenlayer as HL"
   ]
  },
  {
   "cell_type": "markdown",
   "metadata": {},
   "source": [
    "Set up Torch device configuration. All tensors and model parameters need to know where to be put.\n",
    "This takes a BUS ID number: The BUS ID is the same as the listing at the top of this script."
   ]
  },
  {
   "cell_type": "code",
   "execution_count": 4,
   "metadata": {},
   "outputs": [
    {
     "name": "stdout",
     "output_type": "stream",
     "text": [
      "1 available GPUs (initially using device 0):\n",
      "  0 TITAN V\n"
     ]
    }
   ],
   "source": [
    "device = select_gpu(0)"
   ]
  },
  {
   "cell_type": "markdown",
   "metadata": {},
   "source": [
    "### Set up local parameters"
   ]
  },
  {
   "cell_type": "code",
   "execution_count": 5,
   "metadata": {},
   "outputs": [],
   "source": [
    "# params order - batch size, epochs, lr, epoch_start (which is usually set to 0)\n",
    "args = Params(128, 200, 1e-3, 20)"
   ]
  },
  {
   "cell_type": "markdown",
   "metadata": {},
   "source": [
    "## Loading data\n",
    "\n",
    "Load the dataset, split into parts, then move to device (see `collectdata.py` in the `../model` directory)"
   ]
  },
  {
   "cell_type": "code",
   "execution_count": 6,
   "metadata": {
    "scrolled": true
   },
   "outputs": [
    {
     "name": "stdout",
     "output_type": "stream",
     "text": [
      "Loading data...\n",
      "Loaded /share/lazy/sokoloff/ML-data_A/Aug14_80K_train.h5 in 17.41 s\n",
      "Loaded /share/lazy/sokoloff/ML-data_AA/Oct03_80K_train.h5 in 17.06 s\n",
      "Constructing 160000 event dataset took 5.646 s\n",
      "Loading data...\n",
      "Loaded /share/lazy/sokoloff/ML-data_AA/Oct03_20K_val.h5 in 4.398 s\n",
      "Constructing 9984 event dataset took 0.2209 s\n"
     ]
    }
   ],
   "source": [
    "## newer vernacular\n",
    "## Training dataset. You can put as many files here as desired.\n",
    "\n",
    "## in this DEMO example we use only one 80K training set -- the model starts with well-trained weights,\n",
    "## and using a smaller training set reduces both the time to load the data and the time to train an epoch\n",
    "##  set the option load_XandXsq = True to use both DKE and KDE^2 as input features\n",
    "train_loader = collect_data('/share/lazy/sokoloff/ML-data_A/Aug14_80K_train.h5',\n",
    "                             '/share/lazy/sokoloff/ML-data_AA/Oct03_80K_train.h5',\n",
    "#                             '/share/lazy/sokoloff/ML-data_AA/Oct03_40K_train.h5',\n",
    "#                             '/share/lazy/will/ML_mdsA/June30_2020_80k_1.h5',\n",
    "#                             '/share/lazy/will/ML_mdsA/June30_2020_80k_3.h5',\n",
    "#                             '/share/lazy/will/ML_mdsA/June30_2020_80k_4.h5',\n",
    "#                             '/share/lazy/will/ML_mdsA/June30_2020_80k_5.h5',\n",
    "#                             '/share/lazy/will/ML_mdsA/June30_2020_80k_6.h5',\n",
    "#                             '/share/lazy/will/ML_mdsA/June30_2020_80k_7.h5',\n",
    "#                             '/share/lazy/will/ML_mdsA/June30_2020_80k_8.h5',\n",
    "#                             '/share/lazy/will/ML_mdsA/June30_2020_80k_9.h5',\n",
    "                            #'/share/lazy/sokoloff/ML-data_AA/Oct03_80K2_train.h5',\n",
    "                             batch_size=args.batch_size,\n",
    "## if we are using a larger dataset (240K events, with the datasets above, and 11 GB  of GPU memory),\n",
    "## not the dataset will overflow the GPU memory; device=device will allow the data to move back\n",
    "## and forth between the CPU and GPU memory. While this allows use of a larger dataset, it slows\n",
    "## down performance by about 10%.  So comment out when not needed.\n",
    "                            device=device,\n",
    "                            masking=True, shuffle=True,\n",
    "                            load_XandXsq=False,\n",
    "                            load_xy=False)\n",
    "\n",
    "# Validation dataset. You can slice to reduce the size.\n",
    "## dataAA -> /share/lazy/sokoloff/ML-data_AA/\n",
    "val_loader = collect_data('/share/lazy/sokoloff/ML-data_AA/Oct03_20K_val.h5',\n",
    "## mds val_loader = collect_data('dataAA/HLT1CPU_1kevts_val.h5',\n",
    "\n",
    "                          batch_size=args.batch_size,\n",
    "                          slice=slice(256 * 39),\n",
    "                          device=device,\n",
    "                          masking=True, shuffle=False,\n",
    "                          load_XandXsq=False,\n",
    "                          load_xy=False)"
   ]
  },
  {
   "cell_type": "markdown",
   "metadata": {},
   "source": [
    "# Preparing the model"
   ]
  },
  {
   "cell_type": "markdown",
   "metadata": {},
   "source": [
    "Prepare a model, use multiple GPUs if they are VISIBLE, and move the model to the device."
   ]
  },
  {
   "cell_type": "code",
   "execution_count": 7,
   "metadata": {
    "scrolled": true
   },
   "outputs": [
    {
     "name": "stderr",
     "output_type": "stream",
     "text": [
      "WARNING:root:Malformed experiment 'ML'. Detailed error Yaml file '/share/lazy/pv-finder_model_repo/ML/meta.yaml' does not exist.\n",
      "Traceback (most recent call last):\n",
      "  File \"/home/michael24peters/.local/lib/python3.7/site-packages/mlflow/store/tracking/file_store.py\", line 197, in list_experiments\n",
      "    experiment = self._get_experiment(exp_id, view_type)\n",
      "  File \"/home/michael24peters/.local/lib/python3.7/site-packages/mlflow/store/tracking/file_store.py\", line 260, in _get_experiment\n",
      "    meta = read_yaml(experiment_dir, FileStore.META_DATA_FILE_NAME)\n",
      "  File \"/home/michael24peters/.local/lib/python3.7/site-packages/mlflow/utils/file_utils.py\", line 167, in read_yaml\n",
      "    raise MissingConfigException(\"Yaml file '%s' does not exist.\" % file_path)\n",
      "mlflow.exceptions.MissingConfigException: Yaml file '/share/lazy/pv-finder_model_repo/ML/meta.yaml' does not exist.\n"
     ]
    }
   ],
   "source": [
    "model = Model_H()\n",
    "\n",
    "##summary(model, input_size=(4, 4000))\n",
    "##print(model.parameters)\n",
    "\n",
    "mlflow.tracking.set_tracking_uri('file:/share/lazy/pv-finder_model_repo')\n",
    "mlflow.set_experiment('ALLCNN')"
   ]
  },
  {
   "cell_type": "code",
   "execution_count": 8,
   "metadata": {
    "scrolled": true
   },
   "outputs": [
    {
     "name": "stdout",
     "output_type": "stream",
     "text": [
      "Let's use 1 GPUs!\n"
     ]
    }
   ],
   "source": [
    "print(\"Let's use\", torch.cuda.device_count(), \"GPUs!\")\n",
    "if torch.cuda.device_count() > 1:\n",
    "    model = torch.nn.DataParallel(model)"
   ]
  },
  {
   "cell_type": "code",
   "execution_count": 9,
   "metadata": {
    "scrolled": true
   },
   "outputs": [
    {
     "name": "stdout",
     "output_type": "stream",
     "text": [
      "we also froze 0 weights\n",
      "Of the 6.0 parameter layers to update in the current model, 6.0 were loaded\n"
     ]
    }
   ],
   "source": [
    "##  mds 200121 loss = Loss(epsilon=1e-5,coefficient=1.0)\n",
    "loss = Loss(epsilon=1e-5,coefficient=2.5)\n",
    "optimizer = torch.optim.Adam(model.parameters(), lr=args.lr)\n",
    "\n",
    "##  use the first five layers from a pre-existing model\n",
    "##  see example at https://discuss.pytorch.org/t/how-to-load-part-of-pre-trained-model/1113\n",
    "##   ML -> /share/lazy/sokoloff/ML\n",
    "\n",
    "#path = 'run_stats.pyt'\n",
    "#load_full_state(model, optimizer, path)\n",
    "# For other pretrained models, go to MLFlow and find the path for \"run_stats.pyt\"\n",
    "pretrained_dict = '/share/lazy/pv-finder_model_repo/7/a3ac4cb170144169b87e6158414beae9/artifacts/run_stats.pyt'\n",
    "load_full_state(model, optimizer, pretrained_dict)"
   ]
  },
  {
   "cell_type": "code",
   "execution_count": 10,
   "metadata": {},
   "outputs": [
    {
     "data": {
      "text/plain": [
       "SimpleCNN5Layer_Ca_H(\n",
       "  (conv1): Conv1d(1, 12, kernel_size=(25,), stride=(1,), padding=(12,))\n",
       "  (conv2): Conv1d(12, 9, kernel_size=(15,), stride=(1,), padding=(7,))\n",
       "  (conv3): Conv1d(9, 6, kernel_size=(15,), stride=(1,), padding=(7,))\n",
       "  (conv4): Conv1d(6, 3, kernel_size=(15,), stride=(1,), padding=(7,))\n",
       "  (conv5): Conv1d(3, 1, kernel_size=(5,), stride=(1,), padding=(2,))\n",
       "  (conv1dropout): Dropout(p=0.15, inplace=False)\n",
       "  (conv2dropout): Dropout(p=0.15, inplace=False)\n",
       "  (conv3dropout): Dropout(p=0.15, inplace=False)\n",
       "  (conv4dropout): Dropout(p=0.15, inplace=False)\n",
       "  (conv5dropout): Dropout(p=0.35, inplace=False)\n",
       "  (fc1): Linear(in_features=4000, out_features=4000, bias=True)\n",
       ")"
      ]
     },
     "execution_count": 10,
     "metadata": {},
     "output_type": "execute_result"
    }
   ],
   "source": [
    "model.to(device)"
   ]
  },
  {
   "cell_type": "markdown",
   "metadata": {},
   "source": [
    "## Train \n",
    "\n",
    "\n",
    "\n",
    "The body of this loop runs once per epoch. Results is a named tuple of values (loss per epoch for training and validation, time each). Start by setting up a plot first:"
   ]
  },
  {
   "cell_type": "code",
   "execution_count": 11,
   "metadata": {},
   "outputs": [
    {
     "data": {
      "application/javascript": [
       "/* Put everything inside the global mpl namespace */\n",
       "window.mpl = {};\n",
       "\n",
       "\n",
       "mpl.get_websocket_type = function() {\n",
       "    if (typeof(WebSocket) !== 'undefined') {\n",
       "        return WebSocket;\n",
       "    } else if (typeof(MozWebSocket) !== 'undefined') {\n",
       "        return MozWebSocket;\n",
       "    } else {\n",
       "        alert('Your browser does not have WebSocket support. ' +\n",
       "              'Please try Chrome, Safari or Firefox ≥ 6. ' +\n",
       "              'Firefox 4 and 5 are also supported but you ' +\n",
       "              'have to enable WebSockets in about:config.');\n",
       "    };\n",
       "}\n",
       "\n",
       "mpl.figure = function(figure_id, websocket, ondownload, parent_element) {\n",
       "    this.id = figure_id;\n",
       "\n",
       "    this.ws = websocket;\n",
       "\n",
       "    this.supports_binary = (this.ws.binaryType != undefined);\n",
       "\n",
       "    if (!this.supports_binary) {\n",
       "        var warnings = document.getElementById(\"mpl-warnings\");\n",
       "        if (warnings) {\n",
       "            warnings.style.display = 'block';\n",
       "            warnings.textContent = (\n",
       "                \"This browser does not support binary websocket messages. \" +\n",
       "                    \"Performance may be slow.\");\n",
       "        }\n",
       "    }\n",
       "\n",
       "    this.imageObj = new Image();\n",
       "\n",
       "    this.context = undefined;\n",
       "    this.message = undefined;\n",
       "    this.canvas = undefined;\n",
       "    this.rubberband_canvas = undefined;\n",
       "    this.rubberband_context = undefined;\n",
       "    this.format_dropdown = undefined;\n",
       "\n",
       "    this.image_mode = 'full';\n",
       "\n",
       "    this.root = $('<div/>');\n",
       "    this._root_extra_style(this.root)\n",
       "    this.root.attr('style', 'display: inline-block');\n",
       "\n",
       "    $(parent_element).append(this.root);\n",
       "\n",
       "    this._init_header(this);\n",
       "    this._init_canvas(this);\n",
       "    this._init_toolbar(this);\n",
       "\n",
       "    var fig = this;\n",
       "\n",
       "    this.waiting = false;\n",
       "\n",
       "    this.ws.onopen =  function () {\n",
       "            fig.send_message(\"supports_binary\", {value: fig.supports_binary});\n",
       "            fig.send_message(\"send_image_mode\", {});\n",
       "            if (mpl.ratio != 1) {\n",
       "                fig.send_message(\"set_dpi_ratio\", {'dpi_ratio': mpl.ratio});\n",
       "            }\n",
       "            fig.send_message(\"refresh\", {});\n",
       "        }\n",
       "\n",
       "    this.imageObj.onload = function() {\n",
       "            if (fig.image_mode == 'full') {\n",
       "                // Full images could contain transparency (where diff images\n",
       "                // almost always do), so we need to clear the canvas so that\n",
       "                // there is no ghosting.\n",
       "                fig.context.clearRect(0, 0, fig.canvas.width, fig.canvas.height);\n",
       "            }\n",
       "            fig.context.drawImage(fig.imageObj, 0, 0);\n",
       "        };\n",
       "\n",
       "    this.imageObj.onunload = function() {\n",
       "        fig.ws.close();\n",
       "    }\n",
       "\n",
       "    this.ws.onmessage = this._make_on_message_function(this);\n",
       "\n",
       "    this.ondownload = ondownload;\n",
       "}\n",
       "\n",
       "mpl.figure.prototype._init_header = function() {\n",
       "    var titlebar = $(\n",
       "        '<div class=\"ui-dialog-titlebar ui-widget-header ui-corner-all ' +\n",
       "        'ui-helper-clearfix\"/>');\n",
       "    var titletext = $(\n",
       "        '<div class=\"ui-dialog-title\" style=\"width: 100%; ' +\n",
       "        'text-align: center; padding: 3px;\"/>');\n",
       "    titlebar.append(titletext)\n",
       "    this.root.append(titlebar);\n",
       "    this.header = titletext[0];\n",
       "}\n",
       "\n",
       "\n",
       "\n",
       "mpl.figure.prototype._canvas_extra_style = function(canvas_div) {\n",
       "\n",
       "}\n",
       "\n",
       "\n",
       "mpl.figure.prototype._root_extra_style = function(canvas_div) {\n",
       "\n",
       "}\n",
       "\n",
       "mpl.figure.prototype._init_canvas = function() {\n",
       "    var fig = this;\n",
       "\n",
       "    var canvas_div = $('<div/>');\n",
       "\n",
       "    canvas_div.attr('style', 'position: relative; clear: both; outline: 0');\n",
       "\n",
       "    function canvas_keyboard_event(event) {\n",
       "        return fig.key_event(event, event['data']);\n",
       "    }\n",
       "\n",
       "    canvas_div.keydown('key_press', canvas_keyboard_event);\n",
       "    canvas_div.keyup('key_release', canvas_keyboard_event);\n",
       "    this.canvas_div = canvas_div\n",
       "    this._canvas_extra_style(canvas_div)\n",
       "    this.root.append(canvas_div);\n",
       "\n",
       "    var canvas = $('<canvas/>');\n",
       "    canvas.addClass('mpl-canvas');\n",
       "    canvas.attr('style', \"left: 0; top: 0; z-index: 0; outline: 0\")\n",
       "\n",
       "    this.canvas = canvas[0];\n",
       "    this.context = canvas[0].getContext(\"2d\");\n",
       "\n",
       "    var backingStore = this.context.backingStorePixelRatio ||\n",
       "\tthis.context.webkitBackingStorePixelRatio ||\n",
       "\tthis.context.mozBackingStorePixelRatio ||\n",
       "\tthis.context.msBackingStorePixelRatio ||\n",
       "\tthis.context.oBackingStorePixelRatio ||\n",
       "\tthis.context.backingStorePixelRatio || 1;\n",
       "\n",
       "    mpl.ratio = (window.devicePixelRatio || 1) / backingStore;\n",
       "\n",
       "    var rubberband = $('<canvas/>');\n",
       "    rubberband.attr('style', \"position: absolute; left: 0; top: 0; z-index: 1;\")\n",
       "\n",
       "    var pass_mouse_events = true;\n",
       "\n",
       "    canvas_div.resizable({\n",
       "        start: function(event, ui) {\n",
       "            pass_mouse_events = false;\n",
       "        },\n",
       "        resize: function(event, ui) {\n",
       "            fig.request_resize(ui.size.width, ui.size.height);\n",
       "        },\n",
       "        stop: function(event, ui) {\n",
       "            pass_mouse_events = true;\n",
       "            fig.request_resize(ui.size.width, ui.size.height);\n",
       "        },\n",
       "    });\n",
       "\n",
       "    function mouse_event_fn(event) {\n",
       "        if (pass_mouse_events)\n",
       "            return fig.mouse_event(event, event['data']);\n",
       "    }\n",
       "\n",
       "    rubberband.mousedown('button_press', mouse_event_fn);\n",
       "    rubberband.mouseup('button_release', mouse_event_fn);\n",
       "    // Throttle sequential mouse events to 1 every 20ms.\n",
       "    rubberband.mousemove('motion_notify', mouse_event_fn);\n",
       "\n",
       "    rubberband.mouseenter('figure_enter', mouse_event_fn);\n",
       "    rubberband.mouseleave('figure_leave', mouse_event_fn);\n",
       "\n",
       "    canvas_div.on(\"wheel\", function (event) {\n",
       "        event = event.originalEvent;\n",
       "        event['data'] = 'scroll'\n",
       "        if (event.deltaY < 0) {\n",
       "            event.step = 1;\n",
       "        } else {\n",
       "            event.step = -1;\n",
       "        }\n",
       "        mouse_event_fn(event);\n",
       "    });\n",
       "\n",
       "    canvas_div.append(canvas);\n",
       "    canvas_div.append(rubberband);\n",
       "\n",
       "    this.rubberband = rubberband;\n",
       "    this.rubberband_canvas = rubberband[0];\n",
       "    this.rubberband_context = rubberband[0].getContext(\"2d\");\n",
       "    this.rubberband_context.strokeStyle = \"#000000\";\n",
       "\n",
       "    this._resize_canvas = function(width, height) {\n",
       "        // Keep the size of the canvas, canvas container, and rubber band\n",
       "        // canvas in synch.\n",
       "        canvas_div.css('width', width)\n",
       "        canvas_div.css('height', height)\n",
       "\n",
       "        canvas.attr('width', width * mpl.ratio);\n",
       "        canvas.attr('height', height * mpl.ratio);\n",
       "        canvas.attr('style', 'width: ' + width + 'px; height: ' + height + 'px;');\n",
       "\n",
       "        rubberband.attr('width', width);\n",
       "        rubberband.attr('height', height);\n",
       "    }\n",
       "\n",
       "    // Set the figure to an initial 600x600px, this will subsequently be updated\n",
       "    // upon first draw.\n",
       "    this._resize_canvas(600, 600);\n",
       "\n",
       "    // Disable right mouse context menu.\n",
       "    $(this.rubberband_canvas).bind(\"contextmenu\",function(e){\n",
       "        return false;\n",
       "    });\n",
       "\n",
       "    function set_focus () {\n",
       "        canvas.focus();\n",
       "        canvas_div.focus();\n",
       "    }\n",
       "\n",
       "    window.setTimeout(set_focus, 100);\n",
       "}\n",
       "\n",
       "mpl.figure.prototype._init_toolbar = function() {\n",
       "    var fig = this;\n",
       "\n",
       "    var nav_element = $('<div/>');\n",
       "    nav_element.attr('style', 'width: 100%');\n",
       "    this.root.append(nav_element);\n",
       "\n",
       "    // Define a callback function for later on.\n",
       "    function toolbar_event(event) {\n",
       "        return fig.toolbar_button_onclick(event['data']);\n",
       "    }\n",
       "    function toolbar_mouse_event(event) {\n",
       "        return fig.toolbar_button_onmouseover(event['data']);\n",
       "    }\n",
       "\n",
       "    for(var toolbar_ind in mpl.toolbar_items) {\n",
       "        var name = mpl.toolbar_items[toolbar_ind][0];\n",
       "        var tooltip = mpl.toolbar_items[toolbar_ind][1];\n",
       "        var image = mpl.toolbar_items[toolbar_ind][2];\n",
       "        var method_name = mpl.toolbar_items[toolbar_ind][3];\n",
       "\n",
       "        if (!name) {\n",
       "            // put a spacer in here.\n",
       "            continue;\n",
       "        }\n",
       "        var button = $('<button/>');\n",
       "        button.addClass('ui-button ui-widget ui-state-default ui-corner-all ' +\n",
       "                        'ui-button-icon-only');\n",
       "        button.attr('role', 'button');\n",
       "        button.attr('aria-disabled', 'false');\n",
       "        button.click(method_name, toolbar_event);\n",
       "        button.mouseover(tooltip, toolbar_mouse_event);\n",
       "\n",
       "        var icon_img = $('<span/>');\n",
       "        icon_img.addClass('ui-button-icon-primary ui-icon');\n",
       "        icon_img.addClass(image);\n",
       "        icon_img.addClass('ui-corner-all');\n",
       "\n",
       "        var tooltip_span = $('<span/>');\n",
       "        tooltip_span.addClass('ui-button-text');\n",
       "        tooltip_span.html(tooltip);\n",
       "\n",
       "        button.append(icon_img);\n",
       "        button.append(tooltip_span);\n",
       "\n",
       "        nav_element.append(button);\n",
       "    }\n",
       "\n",
       "    var fmt_picker_span = $('<span/>');\n",
       "\n",
       "    var fmt_picker = $('<select/>');\n",
       "    fmt_picker.addClass('mpl-toolbar-option ui-widget ui-widget-content');\n",
       "    fmt_picker_span.append(fmt_picker);\n",
       "    nav_element.append(fmt_picker_span);\n",
       "    this.format_dropdown = fmt_picker[0];\n",
       "\n",
       "    for (var ind in mpl.extensions) {\n",
       "        var fmt = mpl.extensions[ind];\n",
       "        var option = $(\n",
       "            '<option/>', {selected: fmt === mpl.default_extension}).html(fmt);\n",
       "        fmt_picker.append(option);\n",
       "    }\n",
       "\n",
       "    // Add hover states to the ui-buttons\n",
       "    $( \".ui-button\" ).hover(\n",
       "        function() { $(this).addClass(\"ui-state-hover\");},\n",
       "        function() { $(this).removeClass(\"ui-state-hover\");}\n",
       "    );\n",
       "\n",
       "    var status_bar = $('<span class=\"mpl-message\"/>');\n",
       "    nav_element.append(status_bar);\n",
       "    this.message = status_bar[0];\n",
       "}\n",
       "\n",
       "mpl.figure.prototype.request_resize = function(x_pixels, y_pixels) {\n",
       "    // Request matplotlib to resize the figure. Matplotlib will then trigger a resize in the client,\n",
       "    // which will in turn request a refresh of the image.\n",
       "    this.send_message('resize', {'width': x_pixels, 'height': y_pixels});\n",
       "}\n",
       "\n",
       "mpl.figure.prototype.send_message = function(type, properties) {\n",
       "    properties['type'] = type;\n",
       "    properties['figure_id'] = this.id;\n",
       "    this.ws.send(JSON.stringify(properties));\n",
       "}\n",
       "\n",
       "mpl.figure.prototype.send_draw_message = function() {\n",
       "    if (!this.waiting) {\n",
       "        this.waiting = true;\n",
       "        this.ws.send(JSON.stringify({type: \"draw\", figure_id: this.id}));\n",
       "    }\n",
       "}\n",
       "\n",
       "\n",
       "mpl.figure.prototype.handle_save = function(fig, msg) {\n",
       "    var format_dropdown = fig.format_dropdown;\n",
       "    var format = format_dropdown.options[format_dropdown.selectedIndex].value;\n",
       "    fig.ondownload(fig, format);\n",
       "}\n",
       "\n",
       "\n",
       "mpl.figure.prototype.handle_resize = function(fig, msg) {\n",
       "    var size = msg['size'];\n",
       "    if (size[0] != fig.canvas.width || size[1] != fig.canvas.height) {\n",
       "        fig._resize_canvas(size[0], size[1]);\n",
       "        fig.send_message(\"refresh\", {});\n",
       "    };\n",
       "}\n",
       "\n",
       "mpl.figure.prototype.handle_rubberband = function(fig, msg) {\n",
       "    var x0 = msg['x0'] / mpl.ratio;\n",
       "    var y0 = (fig.canvas.height - msg['y0']) / mpl.ratio;\n",
       "    var x1 = msg['x1'] / mpl.ratio;\n",
       "    var y1 = (fig.canvas.height - msg['y1']) / mpl.ratio;\n",
       "    x0 = Math.floor(x0) + 0.5;\n",
       "    y0 = Math.floor(y0) + 0.5;\n",
       "    x1 = Math.floor(x1) + 0.5;\n",
       "    y1 = Math.floor(y1) + 0.5;\n",
       "    var min_x = Math.min(x0, x1);\n",
       "    var min_y = Math.min(y0, y1);\n",
       "    var width = Math.abs(x1 - x0);\n",
       "    var height = Math.abs(y1 - y0);\n",
       "\n",
       "    fig.rubberband_context.clearRect(\n",
       "        0, 0, fig.canvas.width / mpl.ratio, fig.canvas.height / mpl.ratio);\n",
       "\n",
       "    fig.rubberband_context.strokeRect(min_x, min_y, width, height);\n",
       "}\n",
       "\n",
       "mpl.figure.prototype.handle_figure_label = function(fig, msg) {\n",
       "    // Updates the figure title.\n",
       "    fig.header.textContent = msg['label'];\n",
       "}\n",
       "\n",
       "mpl.figure.prototype.handle_cursor = function(fig, msg) {\n",
       "    var cursor = msg['cursor'];\n",
       "    switch(cursor)\n",
       "    {\n",
       "    case 0:\n",
       "        cursor = 'pointer';\n",
       "        break;\n",
       "    case 1:\n",
       "        cursor = 'default';\n",
       "        break;\n",
       "    case 2:\n",
       "        cursor = 'crosshair';\n",
       "        break;\n",
       "    case 3:\n",
       "        cursor = 'move';\n",
       "        break;\n",
       "    }\n",
       "    fig.rubberband_canvas.style.cursor = cursor;\n",
       "}\n",
       "\n",
       "mpl.figure.prototype.handle_message = function(fig, msg) {\n",
       "    fig.message.textContent = msg['message'];\n",
       "}\n",
       "\n",
       "mpl.figure.prototype.handle_draw = function(fig, msg) {\n",
       "    // Request the server to send over a new figure.\n",
       "    fig.send_draw_message();\n",
       "}\n",
       "\n",
       "mpl.figure.prototype.handle_image_mode = function(fig, msg) {\n",
       "    fig.image_mode = msg['mode'];\n",
       "}\n",
       "\n",
       "mpl.figure.prototype.updated_canvas_event = function() {\n",
       "    // Called whenever the canvas gets updated.\n",
       "    this.send_message(\"ack\", {});\n",
       "}\n",
       "\n",
       "// A function to construct a web socket function for onmessage handling.\n",
       "// Called in the figure constructor.\n",
       "mpl.figure.prototype._make_on_message_function = function(fig) {\n",
       "    return function socket_on_message(evt) {\n",
       "        if (evt.data instanceof Blob) {\n",
       "            /* FIXME: We get \"Resource interpreted as Image but\n",
       "             * transferred with MIME type text/plain:\" errors on\n",
       "             * Chrome.  But how to set the MIME type?  It doesn't seem\n",
       "             * to be part of the websocket stream */\n",
       "            evt.data.type = \"image/png\";\n",
       "\n",
       "            /* Free the memory for the previous frames */\n",
       "            if (fig.imageObj.src) {\n",
       "                (window.URL || window.webkitURL).revokeObjectURL(\n",
       "                    fig.imageObj.src);\n",
       "            }\n",
       "\n",
       "            fig.imageObj.src = (window.URL || window.webkitURL).createObjectURL(\n",
       "                evt.data);\n",
       "            fig.updated_canvas_event();\n",
       "            fig.waiting = false;\n",
       "            return;\n",
       "        }\n",
       "        else if (typeof evt.data === 'string' && evt.data.slice(0, 21) == \"data:image/png;base64\") {\n",
       "            fig.imageObj.src = evt.data;\n",
       "            fig.updated_canvas_event();\n",
       "            fig.waiting = false;\n",
       "            return;\n",
       "        }\n",
       "\n",
       "        var msg = JSON.parse(evt.data);\n",
       "        var msg_type = msg['type'];\n",
       "\n",
       "        // Call the  \"handle_{type}\" callback, which takes\n",
       "        // the figure and JSON message as its only arguments.\n",
       "        try {\n",
       "            var callback = fig[\"handle_\" + msg_type];\n",
       "        } catch (e) {\n",
       "            console.log(\"No handler for the '\" + msg_type + \"' message type: \", msg);\n",
       "            return;\n",
       "        }\n",
       "\n",
       "        if (callback) {\n",
       "            try {\n",
       "                // console.log(\"Handling '\" + msg_type + \"' message: \", msg);\n",
       "                callback(fig, msg);\n",
       "            } catch (e) {\n",
       "                console.log(\"Exception inside the 'handler_\" + msg_type + \"' callback:\", e, e.stack, msg);\n",
       "            }\n",
       "        }\n",
       "    };\n",
       "}\n",
       "\n",
       "// from http://stackoverflow.com/questions/1114465/getting-mouse-location-in-canvas\n",
       "mpl.findpos = function(e) {\n",
       "    //this section is from http://www.quirksmode.org/js/events_properties.html\n",
       "    var targ;\n",
       "    if (!e)\n",
       "        e = window.event;\n",
       "    if (e.target)\n",
       "        targ = e.target;\n",
       "    else if (e.srcElement)\n",
       "        targ = e.srcElement;\n",
       "    if (targ.nodeType == 3) // defeat Safari bug\n",
       "        targ = targ.parentNode;\n",
       "\n",
       "    // jQuery normalizes the pageX and pageY\n",
       "    // pageX,Y are the mouse positions relative to the document\n",
       "    // offset() returns the position of the element relative to the document\n",
       "    var x = e.pageX - $(targ).offset().left;\n",
       "    var y = e.pageY - $(targ).offset().top;\n",
       "\n",
       "    return {\"x\": x, \"y\": y};\n",
       "};\n",
       "\n",
       "/*\n",
       " * return a copy of an object with only non-object keys\n",
       " * we need this to avoid circular references\n",
       " * http://stackoverflow.com/a/24161582/3208463\n",
       " */\n",
       "function simpleKeys (original) {\n",
       "  return Object.keys(original).reduce(function (obj, key) {\n",
       "    if (typeof original[key] !== 'object')\n",
       "        obj[key] = original[key]\n",
       "    return obj;\n",
       "  }, {});\n",
       "}\n",
       "\n",
       "mpl.figure.prototype.mouse_event = function(event, name) {\n",
       "    var canvas_pos = mpl.findpos(event)\n",
       "\n",
       "    if (name === 'button_press')\n",
       "    {\n",
       "        this.canvas.focus();\n",
       "        this.canvas_div.focus();\n",
       "    }\n",
       "\n",
       "    var x = canvas_pos.x * mpl.ratio;\n",
       "    var y = canvas_pos.y * mpl.ratio;\n",
       "\n",
       "    this.send_message(name, {x: x, y: y, button: event.button,\n",
       "                             step: event.step,\n",
       "                             guiEvent: simpleKeys(event)});\n",
       "\n",
       "    /* This prevents the web browser from automatically changing to\n",
       "     * the text insertion cursor when the button is pressed.  We want\n",
       "     * to control all of the cursor setting manually through the\n",
       "     * 'cursor' event from matplotlib */\n",
       "    event.preventDefault();\n",
       "    return false;\n",
       "}\n",
       "\n",
       "mpl.figure.prototype._key_event_extra = function(event, name) {\n",
       "    // Handle any extra behaviour associated with a key event\n",
       "}\n",
       "\n",
       "mpl.figure.prototype.key_event = function(event, name) {\n",
       "\n",
       "    // Prevent repeat events\n",
       "    if (name == 'key_press')\n",
       "    {\n",
       "        if (event.which === this._key)\n",
       "            return;\n",
       "        else\n",
       "            this._key = event.which;\n",
       "    }\n",
       "    if (name == 'key_release')\n",
       "        this._key = null;\n",
       "\n",
       "    var value = '';\n",
       "    if (event.ctrlKey && event.which != 17)\n",
       "        value += \"ctrl+\";\n",
       "    if (event.altKey && event.which != 18)\n",
       "        value += \"alt+\";\n",
       "    if (event.shiftKey && event.which != 16)\n",
       "        value += \"shift+\";\n",
       "\n",
       "    value += 'k';\n",
       "    value += event.which.toString();\n",
       "\n",
       "    this._key_event_extra(event, name);\n",
       "\n",
       "    this.send_message(name, {key: value,\n",
       "                             guiEvent: simpleKeys(event)});\n",
       "    return false;\n",
       "}\n",
       "\n",
       "mpl.figure.prototype.toolbar_button_onclick = function(name) {\n",
       "    if (name == 'download') {\n",
       "        this.handle_save(this, null);\n",
       "    } else {\n",
       "        this.send_message(\"toolbar_button\", {name: name});\n",
       "    }\n",
       "};\n",
       "\n",
       "mpl.figure.prototype.toolbar_button_onmouseover = function(tooltip) {\n",
       "    this.message.textContent = tooltip;\n",
       "};\n",
       "mpl.toolbar_items = [[\"Home\", \"Reset original view\", \"fa fa-home icon-home\", \"home\"], [\"Back\", \"Back to previous view\", \"fa fa-arrow-left icon-arrow-left\", \"back\"], [\"Forward\", \"Forward to next view\", \"fa fa-arrow-right icon-arrow-right\", \"forward\"], [\"\", \"\", \"\", \"\"], [\"Pan\", \"Pan axes with left mouse, zoom with right\", \"fa fa-arrows icon-move\", \"pan\"], [\"Zoom\", \"Zoom to rectangle\", \"fa fa-square-o icon-check-empty\", \"zoom\"], [\"\", \"\", \"\", \"\"], [\"Download\", \"Download plot\", \"fa fa-floppy-o icon-save\", \"download\"]];\n",
       "\n",
       "mpl.extensions = [\"eps\", \"jpeg\", \"pdf\", \"png\", \"ps\", \"raw\", \"svg\", \"tif\"];\n",
       "\n",
       "mpl.default_extension = \"png\";var comm_websocket_adapter = function(comm) {\n",
       "    // Create a \"websocket\"-like object which calls the given IPython comm\n",
       "    // object with the appropriate methods. Currently this is a non binary\n",
       "    // socket, so there is still some room for performance tuning.\n",
       "    var ws = {};\n",
       "\n",
       "    ws.close = function() {\n",
       "        comm.close()\n",
       "    };\n",
       "    ws.send = function(m) {\n",
       "        //console.log('sending', m);\n",
       "        comm.send(m);\n",
       "    };\n",
       "    // Register the callback with on_msg.\n",
       "    comm.on_msg(function(msg) {\n",
       "        //console.log('receiving', msg['content']['data'], msg);\n",
       "        // Pass the mpl event to the overridden (by mpl) onmessage function.\n",
       "        ws.onmessage(msg['content']['data'])\n",
       "    });\n",
       "    return ws;\n",
       "}\n",
       "\n",
       "mpl.mpl_figure_comm = function(comm, msg) {\n",
       "    // This is the function which gets called when the mpl process\n",
       "    // starts-up an IPython Comm through the \"matplotlib\" channel.\n",
       "\n",
       "    var id = msg.content.data.id;\n",
       "    // Get hold of the div created by the display call when the Comm\n",
       "    // socket was opened in Python.\n",
       "    var element = $(\"#\" + id);\n",
       "    var ws_proxy = comm_websocket_adapter(comm)\n",
       "\n",
       "    function ondownload(figure, format) {\n",
       "        window.open(figure.imageObj.src);\n",
       "    }\n",
       "\n",
       "    var fig = new mpl.figure(id, ws_proxy,\n",
       "                           ondownload,\n",
       "                           element.get(0));\n",
       "\n",
       "    // Call onopen now - mpl needs it, as it is assuming we've passed it a real\n",
       "    // web socket which is closed, not our websocket->open comm proxy.\n",
       "    ws_proxy.onopen();\n",
       "\n",
       "    fig.parent_element = element.get(0);\n",
       "    fig.cell_info = mpl.find_output_cell(\"<div id='\" + id + \"'></div>\");\n",
       "    if (!fig.cell_info) {\n",
       "        console.error(\"Failed to find cell for figure\", id, fig);\n",
       "        return;\n",
       "    }\n",
       "\n",
       "    var output_index = fig.cell_info[2]\n",
       "    var cell = fig.cell_info[0];\n",
       "\n",
       "};\n",
       "\n",
       "mpl.figure.prototype.handle_close = function(fig, msg) {\n",
       "    var width = fig.canvas.width/mpl.ratio\n",
       "    fig.root.unbind('remove')\n",
       "\n",
       "    // Update the output cell to use the data from the current canvas.\n",
       "    fig.push_to_output();\n",
       "    var dataURL = fig.canvas.toDataURL();\n",
       "    // Re-enable the keyboard manager in IPython - without this line, in FF,\n",
       "    // the notebook keyboard shortcuts fail.\n",
       "    IPython.keyboard_manager.enable()\n",
       "    $(fig.parent_element).html('<img src=\"' + dataURL + '\" width=\"' + width + '\">');\n",
       "    fig.close_ws(fig, msg);\n",
       "}\n",
       "\n",
       "mpl.figure.prototype.close_ws = function(fig, msg){\n",
       "    fig.send_message('closing', msg);\n",
       "    // fig.ws.close()\n",
       "}\n",
       "\n",
       "mpl.figure.prototype.push_to_output = function(remove_interactive) {\n",
       "    // Turn the data on the canvas into data in the output cell.\n",
       "    var width = this.canvas.width/mpl.ratio\n",
       "    var dataURL = this.canvas.toDataURL();\n",
       "    this.cell_info[1]['text/html'] = '<img src=\"' + dataURL + '\" width=\"' + width + '\">';\n",
       "}\n",
       "\n",
       "mpl.figure.prototype.updated_canvas_event = function() {\n",
       "    // Tell IPython that the notebook contents must change.\n",
       "    IPython.notebook.set_dirty(true);\n",
       "    this.send_message(\"ack\", {});\n",
       "    var fig = this;\n",
       "    // Wait a second, then push the new image to the DOM so\n",
       "    // that it is saved nicely (might be nice to debounce this).\n",
       "    setTimeout(function () { fig.push_to_output() }, 1000);\n",
       "}\n",
       "\n",
       "mpl.figure.prototype._init_toolbar = function() {\n",
       "    var fig = this;\n",
       "\n",
       "    var nav_element = $('<div/>');\n",
       "    nav_element.attr('style', 'width: 100%');\n",
       "    this.root.append(nav_element);\n",
       "\n",
       "    // Define a callback function for later on.\n",
       "    function toolbar_event(event) {\n",
       "        return fig.toolbar_button_onclick(event['data']);\n",
       "    }\n",
       "    function toolbar_mouse_event(event) {\n",
       "        return fig.toolbar_button_onmouseover(event['data']);\n",
       "    }\n",
       "\n",
       "    for(var toolbar_ind in mpl.toolbar_items){\n",
       "        var name = mpl.toolbar_items[toolbar_ind][0];\n",
       "        var tooltip = mpl.toolbar_items[toolbar_ind][1];\n",
       "        var image = mpl.toolbar_items[toolbar_ind][2];\n",
       "        var method_name = mpl.toolbar_items[toolbar_ind][3];\n",
       "\n",
       "        if (!name) { continue; };\n",
       "\n",
       "        var button = $('<button class=\"btn btn-default\" href=\"#\" title=\"' + name + '\"><i class=\"fa ' + image + ' fa-lg\"></i></button>');\n",
       "        button.click(method_name, toolbar_event);\n",
       "        button.mouseover(tooltip, toolbar_mouse_event);\n",
       "        nav_element.append(button);\n",
       "    }\n",
       "\n",
       "    // Add the status bar.\n",
       "    var status_bar = $('<span class=\"mpl-message\" style=\"text-align:right; float: right;\"/>');\n",
       "    nav_element.append(status_bar);\n",
       "    this.message = status_bar[0];\n",
       "\n",
       "    // Add the close button to the window.\n",
       "    var buttongrp = $('<div class=\"btn-group inline pull-right\"></div>');\n",
       "    var button = $('<button class=\"btn btn-mini btn-primary\" href=\"#\" title=\"Stop Interaction\"><i class=\"fa fa-power-off icon-remove icon-large\"></i></button>');\n",
       "    button.click(function (evt) { fig.handle_close(fig, {}); } );\n",
       "    button.mouseover('Stop Interaction', toolbar_mouse_event);\n",
       "    buttongrp.append(button);\n",
       "    var titlebar = this.root.find($('.ui-dialog-titlebar'));\n",
       "    titlebar.prepend(buttongrp);\n",
       "}\n",
       "\n",
       "mpl.figure.prototype._root_extra_style = function(el){\n",
       "    var fig = this\n",
       "    el.on(\"remove\", function(){\n",
       "\tfig.close_ws(fig, {});\n",
       "    });\n",
       "}\n",
       "\n",
       "mpl.figure.prototype._canvas_extra_style = function(el){\n",
       "    // this is important to make the div 'focusable\n",
       "    el.attr('tabindex', 0)\n",
       "    // reach out to IPython and tell the keyboard manager to turn it's self\n",
       "    // off when our div gets focus\n",
       "\n",
       "    // location in version 3\n",
       "    if (IPython.notebook.keyboard_manager) {\n",
       "        IPython.notebook.keyboard_manager.register_events(el);\n",
       "    }\n",
       "    else {\n",
       "        // location in version 2\n",
       "        IPython.keyboard_manager.register_events(el);\n",
       "    }\n",
       "\n",
       "}\n",
       "\n",
       "mpl.figure.prototype._key_event_extra = function(event, name) {\n",
       "    var manager = IPython.notebook.keyboard_manager;\n",
       "    if (!manager)\n",
       "        manager = IPython.keyboard_manager;\n",
       "\n",
       "    // Check for shift+enter\n",
       "    if (event.shiftKey && event.which == 13) {\n",
       "        this.canvas_div.blur();\n",
       "        // select the cell after this one\n",
       "        var index = IPython.notebook.find_cell_index(this.cell_info[0]);\n",
       "        IPython.notebook.select(index + 1);\n",
       "    }\n",
       "}\n",
       "\n",
       "mpl.figure.prototype.handle_save = function(fig, msg) {\n",
       "    fig.ondownload(fig, null);\n",
       "}\n",
       "\n",
       "\n",
       "mpl.find_output_cell = function(html_output) {\n",
       "    // Return the cell and output element which can be found *uniquely* in the notebook.\n",
       "    // Note - this is a bit hacky, but it is done because the \"notebook_saving.Notebook\"\n",
       "    // IPython event is triggered only after the cells have been serialised, which for\n",
       "    // our purposes (turning an active figure into a static one), is too late.\n",
       "    var cells = IPython.notebook.get_cells();\n",
       "    var ncells = cells.length;\n",
       "    for (var i=0; i<ncells; i++) {\n",
       "        var cell = cells[i];\n",
       "        if (cell.cell_type === 'code'){\n",
       "            for (var j=0; j<cell.output_area.outputs.length; j++) {\n",
       "                var data = cell.output_area.outputs[j];\n",
       "                if (data.data) {\n",
       "                    // IPython >= 3 moved mimebundle to data attribute of output\n",
       "                    data = data.data;\n",
       "                }\n",
       "                if (data['text/html'] == html_output) {\n",
       "                    return [cell, data, j];\n",
       "                }\n",
       "            }\n",
       "        }\n",
       "    }\n",
       "}\n",
       "\n",
       "// Register the function which deals with the matplotlib target/channel.\n",
       "// The kernel may be null if the page has been refreshed.\n",
       "if (IPython.notebook.kernel != null) {\n",
       "    IPython.notebook.kernel.comm_manager.register_target('matplotlib', mpl.mpl_figure_comm);\n",
       "}\n"
      ],
      "text/plain": [
       "<IPython.core.display.Javascript object>"
      ]
     },
     "metadata": {},
     "output_type": "display_data"
    },
    {
     "data": {
      "text/html": [
       "<img src=\"data:image/png;base64,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\" width=\"1000\">"
      ],
      "text/plain": [
       "<IPython.core.display.HTML object>"
      ]
     },
     "metadata": {},
     "output_type": "display_data"
    }
   ],
   "source": [
    "ax, tax, lax, lines = dual_train_plots()\n",
    "fig = ax.figure\n",
    "plt.tight_layout()\n",
    "# This gets built up during the run - do not rerun this cell\n",
    "results = pd.DataFrame([], columns=Results._fields)"
   ]
  },
  {
   "cell_type": "code",
   "execution_count": 12,
   "metadata": {
    "scrolled": true
   },
   "outputs": [
    {
     "name": "stdout",
     "output_type": "stream",
     "text": [
      "for model:  SimpleCNN5Layer_Ca_H(\n",
      "  (conv1): Conv1d(1, 12, kernel_size=(25,), stride=(1,), padding=(12,))\n",
      "  (conv2): Conv1d(12, 9, kernel_size=(15,), stride=(1,), padding=(7,))\n",
      "  (conv3): Conv1d(9, 6, kernel_size=(15,), stride=(1,), padding=(7,))\n",
      "  (conv4): Conv1d(6, 3, kernel_size=(15,), stride=(1,), padding=(7,))\n",
      "  (conv5): Conv1d(3, 1, kernel_size=(5,), stride=(1,), padding=(2,))\n",
      "  (conv1dropout): Dropout(p=0.15, inplace=False)\n",
      "  (conv2dropout): Dropout(p=0.15, inplace=False)\n",
      "  (conv3dropout): Dropout(p=0.15, inplace=False)\n",
      "  (conv4dropout): Dropout(p=0.15, inplace=False)\n",
      "  (conv5dropout): Dropout(p=0.35, inplace=False)\n",
      "  (fc1): Linear(in_features=4000, out_features=4000, bias=True)\n",
      ")\n",
      "epoch_start 20\n",
      "batch_size 128\n",
      "epochs 200\n",
      "lr 0.001\n",
      "Number of batches: train = 1250, val = 78\n"
     ]
    },
    {
     "name": "stderr",
     "output_type": "stream",
     "text": [
      "/home/michael24peters/pv-finder_experimental/notebooks/model/training.py:95: TqdmDeprecationWarning: This function will be removed in tqdm==5.0.0\n",
      "Please use `tqdm.notebook.tqdm` instead of `tqdm.tqdm_notebook`\n",
      "  file=sys.stderr,\n"
     ]
    },
    {
     "data": {
      "application/vnd.jupyter.widget-view+json": {
       "model_id": "078e746eeac34b85bafc4e1b5c07a56a",
       "version_major": 2,
       "version_minor": 0
      },
      "text/plain": [
       "HBox(children=(FloatProgress(value=0.0, description='Epochs', layout=Layout(flex='2'), max=200.0, style=Progre…"
      ]
     },
     "metadata": {},
     "output_type": "display_data"
    },
    {
     "data": {
      "application/vnd.jupyter.widget-view+json": {
       "model_id": "",
       "version_major": 2,
       "version_minor": 0
      },
      "text/plain": [
       "HBox(children=(FloatProgress(value=0.0, description='Training', layout=Layout(flex='2'), max=1250.0, style=Pro…"
      ]
     },
     "metadata": {},
     "output_type": "display_data"
    },
    {
     "name": "stdout",
     "output_type": "stream",
     "text": [
      "Epoch 20: train=29.7718, val=16.8227, took 34.162 s\n",
      "  Validation Found 39509 of 54504, added 901 (eff 72.49%) (0.0902 FP/event)\n"
     ]
    },
    {
     "data": {
      "application/vnd.jupyter.widget-view+json": {
       "model_id": "",
       "version_major": 2,
       "version_minor": 0
      },
      "text/plain": [
       "HBox(children=(FloatProgress(value=0.0, description='Training', layout=Layout(flex='2'), max=1250.0, style=Pro…"
      ]
     },
     "metadata": {},
     "output_type": "display_data"
    },
    {
     "name": "stdout",
     "output_type": "stream",
     "text": [
      "Epoch 21: train=17.5524, val=15.0582, took 33.783 s\n",
      "  Validation Found 43250 of 54504, added 1126 (eff 79.35%) (0.113 FP/event)\n"
     ]
    },
    {
     "data": {
      "application/vnd.jupyter.widget-view+json": {
       "model_id": "",
       "version_major": 2,
       "version_minor": 0
      },
      "text/plain": [
       "HBox(children=(FloatProgress(value=0.0, description='Training', layout=Layout(flex='2'), max=1250.0, style=Pro…"
      ]
     },
     "metadata": {},
     "output_type": "display_data"
    },
    {
     "name": "stdout",
     "output_type": "stream",
     "text": [
      "Epoch 22: train=16.0513, val=14.6308, took 33.227 s\n",
      "  Validation Found 44205 of 54504, added 1085 (eff 81.10%) (0.109 FP/event)\n"
     ]
    },
    {
     "data": {
      "application/vnd.jupyter.widget-view+json": {
       "model_id": "",
       "version_major": 2,
       "version_minor": 0
      },
      "text/plain": [
       "HBox(children=(FloatProgress(value=0.0, description='Training', layout=Layout(flex='2'), max=1250.0, style=Pro…"
      ]
     },
     "metadata": {},
     "output_type": "display_data"
    },
    {
     "name": "stdout",
     "output_type": "stream",
     "text": [
      "Epoch 23: train=15.2333, val=14.3126, took 33.636 s\n",
      "  Validation Found 44537 of 54504, added 1062 (eff 81.71%) (0.106 FP/event)\n"
     ]
    },
    {
     "data": {
      "application/vnd.jupyter.widget-view+json": {
       "model_id": "",
       "version_major": 2,
       "version_minor": 0
      },
      "text/plain": [
       "HBox(children=(FloatProgress(value=0.0, description='Training', layout=Layout(flex='2'), max=1250.0, style=Pro…"
      ]
     },
     "metadata": {},
     "output_type": "display_data"
    },
    {
     "name": "stdout",
     "output_type": "stream",
     "text": [
      "Epoch 24: train=14.7819, val=13.929, took 33.424 s\n",
      "  Validation Found 44955 of 54504, added 1260 (eff 82.48%) (0.126 FP/event)\n"
     ]
    },
    {
     "data": {
      "application/vnd.jupyter.widget-view+json": {
       "model_id": "",
       "version_major": 2,
       "version_minor": 0
      },
      "text/plain": [
       "HBox(children=(FloatProgress(value=0.0, description='Training', layout=Layout(flex='2'), max=1250.0, style=Pro…"
      ]
     },
     "metadata": {},
     "output_type": "display_data"
    },
    {
     "name": "stdout",
     "output_type": "stream",
     "text": [
      "Epoch 25: train=14.4723, val=13.8858, took 33.231 s\n",
      "  Validation Found 44996 of 54504, added 1180 (eff 82.56%) (0.118 FP/event)\n"
     ]
    },
    {
     "data": {
      "application/vnd.jupyter.widget-view+json": {
       "model_id": "",
       "version_major": 2,
       "version_minor": 0
      },
      "text/plain": [
       "HBox(children=(FloatProgress(value=0.0, description='Training', layout=Layout(flex='2'), max=1250.0, style=Pro…"
      ]
     },
     "metadata": {},
     "output_type": "display_data"
    },
    {
     "name": "stdout",
     "output_type": "stream",
     "text": [
      "Epoch 26: train=14.2427, val=13.7791, took 33.094 s\n",
      "  Validation Found 44952 of 54504, added 1057 (eff 82.47%) (0.106 FP/event)\n"
     ]
    },
    {
     "data": {
      "application/vnd.jupyter.widget-view+json": {
       "model_id": "",
       "version_major": 2,
       "version_minor": 0
      },
      "text/plain": [
       "HBox(children=(FloatProgress(value=0.0, description='Training', layout=Layout(flex='2'), max=1250.0, style=Pro…"
      ]
     },
     "metadata": {},
     "output_type": "display_data"
    },
    {
     "name": "stdout",
     "output_type": "stream",
     "text": [
      "Epoch 27: train=14.0803, val=13.7062, took 33.58 s\n",
      "  Validation Found 45202 of 54504, added 1228 (eff 82.93%) (0.123 FP/event)\n"
     ]
    },
    {
     "data": {
      "application/vnd.jupyter.widget-view+json": {
       "model_id": "",
       "version_major": 2,
       "version_minor": 0
      },
      "text/plain": [
       "HBox(children=(FloatProgress(value=0.0, description='Training', layout=Layout(flex='2'), max=1250.0, style=Pro…"
      ]
     },
     "metadata": {},
     "output_type": "display_data"
    },
    {
     "name": "stdout",
     "output_type": "stream",
     "text": [
      "Epoch 28: train=13.9047, val=13.5885, took 33.089 s\n",
      "  Validation Found 45067 of 54504, added 1052 (eff 82.69%) (0.105 FP/event)\n"
     ]
    },
    {
     "data": {
      "application/vnd.jupyter.widget-view+json": {
       "model_id": "",
       "version_major": 2,
       "version_minor": 0
      },
      "text/plain": [
       "HBox(children=(FloatProgress(value=0.0, description='Training', layout=Layout(flex='2'), max=1250.0, style=Pro…"
      ]
     },
     "metadata": {},
     "output_type": "display_data"
    },
    {
     "name": "stdout",
     "output_type": "stream",
     "text": [
      "Epoch 29: train=13.7626, val=13.4199, took 30.702 s\n",
      "  Validation Found 45718 of 54504, added 1491 (eff 83.88%) (0.149 FP/event)\n"
     ]
    },
    {
     "data": {
      "application/vnd.jupyter.widget-view+json": {
       "model_id": "",
       "version_major": 2,
       "version_minor": 0
      },
      "text/plain": [
       "HBox(children=(FloatProgress(value=0.0, description='Training', layout=Layout(flex='2'), max=1250.0, style=Pro…"
      ]
     },
     "metadata": {},
     "output_type": "display_data"
    },
    {
     "name": "stdout",
     "output_type": "stream",
     "text": [
      "Epoch 30: train=13.6327, val=13.4613, took 27.551 s\n",
      "  Validation Found 45375 of 54504, added 1133 (eff 83.25%) (0.113 FP/event)\n"
     ]
    },
    {
     "data": {
      "application/vnd.jupyter.widget-view+json": {
       "model_id": "",
       "version_major": 2,
       "version_minor": 0
      },
      "text/plain": [
       "HBox(children=(FloatProgress(value=0.0, description='Training', layout=Layout(flex='2'), max=1250.0, style=Pro…"
      ]
     },
     "metadata": {},
     "output_type": "display_data"
    },
    {
     "name": "stdout",
     "output_type": "stream",
     "text": [
      "Epoch 31: train=13.5526, val=13.2797, took 27.37 s\n",
      "  Validation Found 45348 of 54504, added 1139 (eff 83.20%) (0.114 FP/event)\n"
     ]
    },
    {
     "data": {
      "application/vnd.jupyter.widget-view+json": {
       "model_id": "",
       "version_major": 2,
       "version_minor": 0
      },
      "text/plain": [
       "HBox(children=(FloatProgress(value=0.0, description='Training', layout=Layout(flex='2'), max=1250.0, style=Pro…"
      ]
     },
     "metadata": {},
     "output_type": "display_data"
    },
    {
     "name": "stdout",
     "output_type": "stream",
     "text": [
      "Epoch 32: train=13.4784, val=13.3015, took 27.447 s\n",
      "  Validation Found 45275 of 54504, added 1081 (eff 83.07%) (0.108 FP/event)\n"
     ]
    },
    {
     "data": {
      "application/vnd.jupyter.widget-view+json": {
       "model_id": "",
       "version_major": 2,
       "version_minor": 0
      },
      "text/plain": [
       "HBox(children=(FloatProgress(value=0.0, description='Training', layout=Layout(flex='2'), max=1250.0, style=Pro…"
      ]
     },
     "metadata": {},
     "output_type": "display_data"
    },
    {
     "name": "stdout",
     "output_type": "stream",
     "text": [
      "Epoch 33: train=13.4132, val=13.2419, took 27.714 s\n",
      "  Validation Found 45448 of 54504, added 1228 (eff 83.38%) (0.123 FP/event)\n"
     ]
    },
    {
     "data": {
      "application/vnd.jupyter.widget-view+json": {
       "model_id": "",
       "version_major": 2,
       "version_minor": 0
      },
      "text/plain": [
       "HBox(children=(FloatProgress(value=0.0, description='Training', layout=Layout(flex='2'), max=1250.0, style=Pro…"
      ]
     },
     "metadata": {},
     "output_type": "display_data"
    },
    {
     "name": "stdout",
     "output_type": "stream",
     "text": [
      "Epoch 34: train=13.3382, val=13.1356, took 27.571 s\n",
      "  Validation Found 45730 of 54504, added 1522 (eff 83.90%) (0.152 FP/event)\n"
     ]
    },
    {
     "data": {
      "application/vnd.jupyter.widget-view+json": {
       "model_id": "",
       "version_major": 2,
       "version_minor": 0
      },
      "text/plain": [
       "HBox(children=(FloatProgress(value=0.0, description='Training', layout=Layout(flex='2'), max=1250.0, style=Pro…"
      ]
     },
     "metadata": {},
     "output_type": "display_data"
    },
    {
     "name": "stdout",
     "output_type": "stream",
     "text": [
      "Epoch 35: train=13.284, val=13.0952, took 27.43 s\n",
      "  Validation Found 45529 of 54504, added 1215 (eff 83.53%) (0.122 FP/event)\n"
     ]
    },
    {
     "data": {
      "application/vnd.jupyter.widget-view+json": {
       "model_id": "",
       "version_major": 2,
       "version_minor": 0
      },
      "text/plain": [
       "HBox(children=(FloatProgress(value=0.0, description='Training', layout=Layout(flex='2'), max=1250.0, style=Pro…"
      ]
     },
     "metadata": {},
     "output_type": "display_data"
    },
    {
     "name": "stdout",
     "output_type": "stream",
     "text": [
      "Epoch 36: train=13.2373, val=13.027, took 27.714 s\n",
      "  Validation Found 45710 of 54504, added 1329 (eff 83.87%) (0.133 FP/event)\n"
     ]
    },
    {
     "data": {
      "application/vnd.jupyter.widget-view+json": {
       "model_id": "",
       "version_major": 2,
       "version_minor": 0
      },
      "text/plain": [
       "HBox(children=(FloatProgress(value=0.0, description='Training', layout=Layout(flex='2'), max=1250.0, style=Pro…"
      ]
     },
     "metadata": {},
     "output_type": "display_data"
    },
    {
     "name": "stdout",
     "output_type": "stream",
     "text": [
      "Epoch 37: train=13.1928, val=13.0633, took 28.193 s\n",
      "  Validation Found 45708 of 54504, added 1315 (eff 83.86%) (0.132 FP/event)\n"
     ]
    },
    {
     "data": {
      "application/vnd.jupyter.widget-view+json": {
       "model_id": "",
       "version_major": 2,
       "version_minor": 0
      },
      "text/plain": [
       "HBox(children=(FloatProgress(value=0.0, description='Training', layout=Layout(flex='2'), max=1250.0, style=Pro…"
      ]
     },
     "metadata": {},
     "output_type": "display_data"
    },
    {
     "name": "stdout",
     "output_type": "stream",
     "text": [
      "Epoch 38: train=13.1554, val=12.986, took 28.37 s\n",
      "  Validation Found 45789 of 54504, added 1423 (eff 84.01%) (0.143 FP/event)\n"
     ]
    },
    {
     "data": {
      "application/vnd.jupyter.widget-view+json": {
       "model_id": "",
       "version_major": 2,
       "version_minor": 0
      },
      "text/plain": [
       "HBox(children=(FloatProgress(value=0.0, description='Training', layout=Layout(flex='2'), max=1250.0, style=Pro…"
      ]
     },
     "metadata": {},
     "output_type": "display_data"
    },
    {
     "name": "stdout",
     "output_type": "stream",
     "text": [
      "Epoch 39: train=13.1232, val=12.9755, took 28.23 s\n",
      "  Validation Found 45616 of 54504, added 1139 (eff 83.69%) (0.114 FP/event)\n"
     ]
    },
    {
     "data": {
      "application/vnd.jupyter.widget-view+json": {
       "model_id": "",
       "version_major": 2,
       "version_minor": 0
      },
      "text/plain": [
       "HBox(children=(FloatProgress(value=0.0, description='Training', layout=Layout(flex='2'), max=1250.0, style=Pro…"
      ]
     },
     "metadata": {},
     "output_type": "display_data"
    },
    {
     "name": "stdout",
     "output_type": "stream",
     "text": [
      "Epoch 40: train=13.0721, val=12.9421, took 27.683 s\n",
      "  Validation Found 45805 of 54504, added 1282 (eff 84.04%) (0.128 FP/event)\n"
     ]
    },
    {
     "data": {
      "application/vnd.jupyter.widget-view+json": {
       "model_id": "",
       "version_major": 2,
       "version_minor": 0
      },
      "text/plain": [
       "HBox(children=(FloatProgress(value=0.0, description='Training', layout=Layout(flex='2'), max=1250.0, style=Pro…"
      ]
     },
     "metadata": {},
     "output_type": "display_data"
    },
    {
     "name": "stdout",
     "output_type": "stream",
     "text": [
      "Epoch 41: train=13.0254, val=12.9146, took 27.725 s\n",
      "  Validation Found 45789 of 54504, added 1173 (eff 84.01%) (0.117 FP/event)\n"
     ]
    },
    {
     "data": {
      "application/vnd.jupyter.widget-view+json": {
       "model_id": "",
       "version_major": 2,
       "version_minor": 0
      },
      "text/plain": [
       "HBox(children=(FloatProgress(value=0.0, description='Training', layout=Layout(flex='2'), max=1250.0, style=Pro…"
      ]
     },
     "metadata": {},
     "output_type": "display_data"
    },
    {
     "name": "stdout",
     "output_type": "stream",
     "text": [
      "Epoch 42: train=12.996, val=12.9311, took 27.573 s\n",
      "  Validation Found 45572 of 54504, added 1083 (eff 83.61%) (0.108 FP/event)\n"
     ]
    },
    {
     "data": {
      "application/vnd.jupyter.widget-view+json": {
       "model_id": "",
       "version_major": 2,
       "version_minor": 0
      },
      "text/plain": [
       "HBox(children=(FloatProgress(value=0.0, description='Training', layout=Layout(flex='2'), max=1250.0, style=Pro…"
      ]
     },
     "metadata": {},
     "output_type": "display_data"
    },
    {
     "name": "stdout",
     "output_type": "stream",
     "text": [
      "Epoch 43: train=12.9499, val=12.9775, took 27.789 s\n",
      "  Validation Found 45711 of 54504, added 1114 (eff 83.87%) (0.112 FP/event)\n"
     ]
    },
    {
     "data": {
      "application/vnd.jupyter.widget-view+json": {
       "model_id": "",
       "version_major": 2,
       "version_minor": 0
      },
      "text/plain": [
       "HBox(children=(FloatProgress(value=0.0, description='Training', layout=Layout(flex='2'), max=1250.0, style=Pro…"
      ]
     },
     "metadata": {},
     "output_type": "display_data"
    },
    {
     "name": "stdout",
     "output_type": "stream",
     "text": [
      "Epoch 44: train=12.9124, val=12.916, took 27.848 s\n",
      "  Validation Found 45618 of 54504, added 1085 (eff 83.70%) (0.109 FP/event)\n"
     ]
    },
    {
     "data": {
      "application/vnd.jupyter.widget-view+json": {
       "model_id": "",
       "version_major": 2,
       "version_minor": 0
      },
      "text/plain": [
       "HBox(children=(FloatProgress(value=0.0, description='Training', layout=Layout(flex='2'), max=1250.0, style=Pro…"
      ]
     },
     "metadata": {},
     "output_type": "display_data"
    },
    {
     "name": "stdout",
     "output_type": "stream",
     "text": [
      "Epoch 45: train=12.8946, val=12.8461, took 27.644 s\n",
      "  Validation Found 45658 of 54504, added 1078 (eff 83.77%) (0.108 FP/event)\n"
     ]
    },
    {
     "data": {
      "application/vnd.jupyter.widget-view+json": {
       "model_id": "",
       "version_major": 2,
       "version_minor": 0
      },
      "text/plain": [
       "HBox(children=(FloatProgress(value=0.0, description='Training', layout=Layout(flex='2'), max=1250.0, style=Pro…"
      ]
     },
     "metadata": {},
     "output_type": "display_data"
    },
    {
     "name": "stdout",
     "output_type": "stream",
     "text": [
      "Epoch 46: train=12.8723, val=12.9352, took 27.852 s\n",
      "  Validation Found 45786 of 54504, added 1122 (eff 84.00%) (0.112 FP/event)\n"
     ]
    },
    {
     "data": {
      "application/vnd.jupyter.widget-view+json": {
       "model_id": "",
       "version_major": 2,
       "version_minor": 0
      },
      "text/plain": [
       "HBox(children=(FloatProgress(value=0.0, description='Training', layout=Layout(flex='2'), max=1250.0, style=Pro…"
      ]
     },
     "metadata": {},
     "output_type": "display_data"
    },
    {
     "name": "stdout",
     "output_type": "stream",
     "text": [
      "Epoch 47: train=12.8335, val=12.8637, took 27.964 s\n",
      "  Validation Found 45891 of 54504, added 1141 (eff 84.20%) (0.114 FP/event)\n"
     ]
    },
    {
     "data": {
      "application/vnd.jupyter.widget-view+json": {
       "model_id": "",
       "version_major": 2,
       "version_minor": 0
      },
      "text/plain": [
       "HBox(children=(FloatProgress(value=0.0, description='Training', layout=Layout(flex='2'), max=1250.0, style=Pro…"
      ]
     },
     "metadata": {},
     "output_type": "display_data"
    },
    {
     "name": "stdout",
     "output_type": "stream",
     "text": [
      "Epoch 48: train=12.7916, val=12.8925, took 27.714 s\n",
      "  Validation Found 45577 of 54504, added 975 (eff 83.62%) (0.0976 FP/event)\n"
     ]
    },
    {
     "data": {
      "application/vnd.jupyter.widget-view+json": {
       "model_id": "",
       "version_major": 2,
       "version_minor": 0
      },
      "text/plain": [
       "HBox(children=(FloatProgress(value=0.0, description='Training', layout=Layout(flex='2'), max=1250.0, style=Pro…"
      ]
     },
     "metadata": {},
     "output_type": "display_data"
    },
    {
     "name": "stdout",
     "output_type": "stream",
     "text": [
      "Epoch 49: train=12.7769, val=12.9303, took 27.875 s\n",
      "  Validation Found 46218 of 54504, added 1554 (eff 84.80%) (0.156 FP/event)\n"
     ]
    },
    {
     "data": {
      "application/vnd.jupyter.widget-view+json": {
       "model_id": "",
       "version_major": 2,
       "version_minor": 0
      },
      "text/plain": [
       "HBox(children=(FloatProgress(value=0.0, description='Training', layout=Layout(flex='2'), max=1250.0, style=Pro…"
      ]
     },
     "metadata": {},
     "output_type": "display_data"
    },
    {
     "name": "stdout",
     "output_type": "stream",
     "text": [
      "Epoch 50: train=12.7444, val=12.7583, took 27.772 s\n",
      "  Validation Found 46007 of 54504, added 1270 (eff 84.41%) (0.127 FP/event)\n"
     ]
    },
    {
     "data": {
      "application/vnd.jupyter.widget-view+json": {
       "model_id": "",
       "version_major": 2,
       "version_minor": 0
      },
      "text/plain": [
       "HBox(children=(FloatProgress(value=0.0, description='Training', layout=Layout(flex='2'), max=1250.0, style=Pro…"
      ]
     },
     "metadata": {},
     "output_type": "display_data"
    },
    {
     "name": "stdout",
     "output_type": "stream",
     "text": [
      "Epoch 51: train=12.7099, val=12.8257, took 27.646 s\n",
      "  Validation Found 45761 of 54504, added 1007 (eff 83.96%) (0.101 FP/event)\n"
     ]
    },
    {
     "data": {
      "application/vnd.jupyter.widget-view+json": {
       "model_id": "",
       "version_major": 2,
       "version_minor": 0
      },
      "text/plain": [
       "HBox(children=(FloatProgress(value=0.0, description='Training', layout=Layout(flex='2'), max=1250.0, style=Pro…"
      ]
     },
     "metadata": {},
     "output_type": "display_data"
    },
    {
     "name": "stdout",
     "output_type": "stream",
     "text": [
      "Epoch 52: train=12.6951, val=12.746, took 27.444 s\n",
      "  Validation Found 46155 of 54504, added 1388 (eff 84.68%) (0.139 FP/event)\n"
     ]
    },
    {
     "data": {
      "application/vnd.jupyter.widget-view+json": {
       "model_id": "",
       "version_major": 2,
       "version_minor": 0
      },
      "text/plain": [
       "HBox(children=(FloatProgress(value=0.0, description='Training', layout=Layout(flex='2'), max=1250.0, style=Pro…"
      ]
     },
     "metadata": {},
     "output_type": "display_data"
    },
    {
     "name": "stdout",
     "output_type": "stream",
     "text": [
      "Epoch 53: train=12.6577, val=12.7839, took 27.422 s\n",
      "  Validation Found 45918 of 54504, added 1126 (eff 84.25%) (0.113 FP/event)\n"
     ]
    },
    {
     "data": {
      "application/vnd.jupyter.widget-view+json": {
       "model_id": "",
       "version_major": 2,
       "version_minor": 0
      },
      "text/plain": [
       "HBox(children=(FloatProgress(value=0.0, description='Training', layout=Layout(flex='2'), max=1250.0, style=Pro…"
      ]
     },
     "metadata": {},
     "output_type": "display_data"
    },
    {
     "name": "stdout",
     "output_type": "stream",
     "text": [
      "Epoch 54: train=12.6303, val=12.7142, took 27.61 s\n",
      "  Validation Found 45840 of 54504, added 1065 (eff 84.10%) (0.107 FP/event)\n"
     ]
    },
    {
     "data": {
      "application/vnd.jupyter.widget-view+json": {
       "model_id": "",
       "version_major": 2,
       "version_minor": 0
      },
      "text/plain": [
       "HBox(children=(FloatProgress(value=0.0, description='Training', layout=Layout(flex='2'), max=1250.0, style=Pro…"
      ]
     },
     "metadata": {},
     "output_type": "display_data"
    },
    {
     "name": "stdout",
     "output_type": "stream",
     "text": [
      "Epoch 55: train=12.5884, val=12.6477, took 27.769 s\n",
      "  Validation Found 45893 of 54504, added 1064 (eff 84.20%) (0.107 FP/event)\n"
     ]
    },
    {
     "data": {
      "application/vnd.jupyter.widget-view+json": {
       "model_id": "",
       "version_major": 2,
       "version_minor": 0
      },
      "text/plain": [
       "HBox(children=(FloatProgress(value=0.0, description='Training', layout=Layout(flex='2'), max=1250.0, style=Pro…"
      ]
     },
     "metadata": {},
     "output_type": "display_data"
    },
    {
     "name": "stdout",
     "output_type": "stream",
     "text": [
      "Epoch 56: train=12.561, val=12.8344, took 27.596 s\n",
      "  Validation Found 45610 of 54504, added 939 (eff 83.68%) (0.094 FP/event)\n"
     ]
    },
    {
     "data": {
      "application/vnd.jupyter.widget-view+json": {
       "model_id": "",
       "version_major": 2,
       "version_minor": 0
      },
      "text/plain": [
       "HBox(children=(FloatProgress(value=0.0, description='Training', layout=Layout(flex='2'), max=1250.0, style=Pro…"
      ]
     },
     "metadata": {},
     "output_type": "display_data"
    },
    {
     "name": "stdout",
     "output_type": "stream",
     "text": [
      "Epoch 57: train=12.5311, val=12.6206, took 27.779 s\n",
      "  Validation Found 45984 of 54504, added 1173 (eff 84.37%) (0.117 FP/event)\n"
     ]
    },
    {
     "data": {
      "application/vnd.jupyter.widget-view+json": {
       "model_id": "",
       "version_major": 2,
       "version_minor": 0
      },
      "text/plain": [
       "HBox(children=(FloatProgress(value=0.0, description='Training', layout=Layout(flex='2'), max=1250.0, style=Pro…"
      ]
     },
     "metadata": {},
     "output_type": "display_data"
    },
    {
     "name": "stdout",
     "output_type": "stream",
     "text": [
      "Epoch 58: train=12.4866, val=12.5378, took 27.498 s\n",
      "  Validation Found 46194 of 54504, added 1279 (eff 84.75%) (0.128 FP/event)\n"
     ]
    },
    {
     "data": {
      "application/vnd.jupyter.widget-view+json": {
       "model_id": "",
       "version_major": 2,
       "version_minor": 0
      },
      "text/plain": [
       "HBox(children=(FloatProgress(value=0.0, description='Training', layout=Layout(flex='2'), max=1250.0, style=Pro…"
      ]
     },
     "metadata": {},
     "output_type": "display_data"
    },
    {
     "name": "stdout",
     "output_type": "stream",
     "text": [
      "Epoch 59: train=12.4709, val=12.6512, took 27.544 s\n",
      "  Validation Found 45906 of 54504, added 1058 (eff 84.23%) (0.106 FP/event)\n"
     ]
    },
    {
     "data": {
      "application/vnd.jupyter.widget-view+json": {
       "model_id": "",
       "version_major": 2,
       "version_minor": 0
      },
      "text/plain": [
       "HBox(children=(FloatProgress(value=0.0, description='Training', layout=Layout(flex='2'), max=1250.0, style=Pro…"
      ]
     },
     "metadata": {},
     "output_type": "display_data"
    },
    {
     "name": "stdout",
     "output_type": "stream",
     "text": [
      "Epoch 60: train=12.4422, val=12.6387, took 27.524 s\n",
      "  Validation Found 45907 of 54504, added 997 (eff 84.23%) (0.0998 FP/event)\n"
     ]
    },
    {
     "data": {
      "application/vnd.jupyter.widget-view+json": {
       "model_id": "",
       "version_major": 2,
       "version_minor": 0
      },
      "text/plain": [
       "HBox(children=(FloatProgress(value=0.0, description='Training', layout=Layout(flex='2'), max=1250.0, style=Pro…"
      ]
     },
     "metadata": {},
     "output_type": "display_data"
    },
    {
     "name": "stdout",
     "output_type": "stream",
     "text": [
      "Epoch 61: train=12.4003, val=12.4175, took 27.611 s\n",
      "  Validation Found 46385 of 54504, added 1271 (eff 85.10%) (0.127 FP/event)\n"
     ]
    },
    {
     "data": {
      "application/vnd.jupyter.widget-view+json": {
       "model_id": "",
       "version_major": 2,
       "version_minor": 0
      },
      "text/plain": [
       "HBox(children=(FloatProgress(value=0.0, description='Training', layout=Layout(flex='2'), max=1250.0, style=Pro…"
      ]
     },
     "metadata": {},
     "output_type": "display_data"
    },
    {
     "name": "stdout",
     "output_type": "stream",
     "text": [
      "Epoch 62: train=12.386, val=12.6186, took 27.58 s\n",
      "  Validation Found 46028 of 54504, added 1009 (eff 84.45%) (0.101 FP/event)\n"
     ]
    },
    {
     "data": {
      "application/vnd.jupyter.widget-view+json": {
       "model_id": "",
       "version_major": 2,
       "version_minor": 0
      },
      "text/plain": [
       "HBox(children=(FloatProgress(value=0.0, description='Training', layout=Layout(flex='2'), max=1250.0, style=Pro…"
      ]
     },
     "metadata": {},
     "output_type": "display_data"
    },
    {
     "name": "stdout",
     "output_type": "stream",
     "text": [
      "Epoch 63: train=12.3537, val=12.6821, took 27.262 s\n",
      "  Validation Found 45873 of 54504, added 946 (eff 84.16%) (0.0947 FP/event)\n"
     ]
    },
    {
     "data": {
      "application/vnd.jupyter.widget-view+json": {
       "model_id": "",
       "version_major": 2,
       "version_minor": 0
      },
      "text/plain": [
       "HBox(children=(FloatProgress(value=0.0, description='Training', layout=Layout(flex='2'), max=1250.0, style=Pro…"
      ]
     },
     "metadata": {},
     "output_type": "display_data"
    },
    {
     "name": "stdout",
     "output_type": "stream",
     "text": [
      "Epoch 64: train=12.3314, val=12.5886, took 27.545 s\n",
      "  Validation Found 45926 of 54504, added 935 (eff 84.26%) (0.0936 FP/event)\n"
     ]
    },
    {
     "data": {
      "application/vnd.jupyter.widget-view+json": {
       "model_id": "",
       "version_major": 2,
       "version_minor": 0
      },
      "text/plain": [
       "HBox(children=(FloatProgress(value=0.0, description='Training', layout=Layout(flex='2'), max=1250.0, style=Pro…"
      ]
     },
     "metadata": {},
     "output_type": "display_data"
    },
    {
     "name": "stdout",
     "output_type": "stream",
     "text": [
      "Epoch 65: train=12.3078, val=12.4567, took 27.781 s\n",
      "  Validation Found 46228 of 54504, added 1129 (eff 84.82%) (0.113 FP/event)\n"
     ]
    },
    {
     "data": {
      "application/vnd.jupyter.widget-view+json": {
       "model_id": "",
       "version_major": 2,
       "version_minor": 0
      },
      "text/plain": [
       "HBox(children=(FloatProgress(value=0.0, description='Training', layout=Layout(flex='2'), max=1250.0, style=Pro…"
      ]
     },
     "metadata": {},
     "output_type": "display_data"
    },
    {
     "name": "stdout",
     "output_type": "stream",
     "text": [
      "Epoch 66: train=12.2815, val=12.656, took 27.623 s\n",
      "  Validation Found 46225 of 54504, added 1453 (eff 84.81%) (0.146 FP/event)\n"
     ]
    },
    {
     "data": {
      "application/vnd.jupyter.widget-view+json": {
       "model_id": "",
       "version_major": 2,
       "version_minor": 0
      },
      "text/plain": [
       "HBox(children=(FloatProgress(value=0.0, description='Training', layout=Layout(flex='2'), max=1250.0, style=Pro…"
      ]
     },
     "metadata": {},
     "output_type": "display_data"
    },
    {
     "name": "stdout",
     "output_type": "stream",
     "text": [
      "Epoch 67: train=12.243, val=12.4181, took 27.561 s\n",
      "  Validation Found 46117 of 54504, added 1065 (eff 84.61%) (0.107 FP/event)\n"
     ]
    },
    {
     "data": {
      "application/vnd.jupyter.widget-view+json": {
       "model_id": "",
       "version_major": 2,
       "version_minor": 0
      },
      "text/plain": [
       "HBox(children=(FloatProgress(value=0.0, description='Training', layout=Layout(flex='2'), max=1250.0, style=Pro…"
      ]
     },
     "metadata": {},
     "output_type": "display_data"
    },
    {
     "name": "stdout",
     "output_type": "stream",
     "text": [
      "Epoch 68: train=12.2046, val=12.4068, took 27.606 s\n",
      "  Validation Found 46337 of 54504, added 1205 (eff 85.02%) (0.121 FP/event)\n"
     ]
    },
    {
     "data": {
      "application/vnd.jupyter.widget-view+json": {
       "model_id": "",
       "version_major": 2,
       "version_minor": 0
      },
      "text/plain": [
       "HBox(children=(FloatProgress(value=0.0, description='Training', layout=Layout(flex='2'), max=1250.0, style=Pro…"
      ]
     },
     "metadata": {},
     "output_type": "display_data"
    },
    {
     "name": "stdout",
     "output_type": "stream",
     "text": [
      "Epoch 69: train=12.1707, val=12.3917, took 27.565 s\n",
      "  Validation Found 46147 of 54504, added 998 (eff 84.67%) (0.0999 FP/event)\n"
     ]
    },
    {
     "data": {
      "application/vnd.jupyter.widget-view+json": {
       "model_id": "",
       "version_major": 2,
       "version_minor": 0
      },
      "text/plain": [
       "HBox(children=(FloatProgress(value=0.0, description='Training', layout=Layout(flex='2'), max=1250.0, style=Pro…"
      ]
     },
     "metadata": {},
     "output_type": "display_data"
    },
    {
     "name": "stdout",
     "output_type": "stream",
     "text": [
      "Epoch 70: train=12.1504, val=12.4127, took 27.639 s\n",
      "  Validation Found 46267 of 54504, added 1081 (eff 84.89%) (0.108 FP/event)\n"
     ]
    },
    {
     "data": {
      "application/vnd.jupyter.widget-view+json": {
       "model_id": "",
       "version_major": 2,
       "version_minor": 0
      },
      "text/plain": [
       "HBox(children=(FloatProgress(value=0.0, description='Training', layout=Layout(flex='2'), max=1250.0, style=Pro…"
      ]
     },
     "metadata": {},
     "output_type": "display_data"
    },
    {
     "name": "stdout",
     "output_type": "stream",
     "text": [
      "Epoch 71: train=12.1363, val=12.244, took 27.654 s\n",
      "  Validation Found 46520 of 54504, added 1297 (eff 85.35%) (0.13 FP/event)\n"
     ]
    },
    {
     "data": {
      "application/vnd.jupyter.widget-view+json": {
       "model_id": "",
       "version_major": 2,
       "version_minor": 0
      },
      "text/plain": [
       "HBox(children=(FloatProgress(value=0.0, description='Training', layout=Layout(flex='2'), max=1250.0, style=Pro…"
      ]
     },
     "metadata": {},
     "output_type": "display_data"
    },
    {
     "name": "stdout",
     "output_type": "stream",
     "text": [
      "Epoch 72: train=12.0969, val=12.3358, took 27.263 s\n",
      "  Validation Found 46308 of 54504, added 1058 (eff 84.96%) (0.106 FP/event)\n"
     ]
    },
    {
     "data": {
      "application/vnd.jupyter.widget-view+json": {
       "model_id": "",
       "version_major": 2,
       "version_minor": 0
      },
      "text/plain": [
       "HBox(children=(FloatProgress(value=0.0, description='Training', layout=Layout(flex='2'), max=1250.0, style=Pro…"
      ]
     },
     "metadata": {},
     "output_type": "display_data"
    },
    {
     "name": "stdout",
     "output_type": "stream",
     "text": [
      "Epoch 73: train=12.0607, val=12.3109, took 27.607 s\n",
      "  Validation Found 46309 of 54504, added 965 (eff 84.96%) (0.0966 FP/event)\n"
     ]
    },
    {
     "data": {
      "application/vnd.jupyter.widget-view+json": {
       "model_id": "",
       "version_major": 2,
       "version_minor": 0
      },
      "text/plain": [
       "HBox(children=(FloatProgress(value=0.0, description='Training', layout=Layout(flex='2'), max=1250.0, style=Pro…"
      ]
     },
     "metadata": {},
     "output_type": "display_data"
    },
    {
     "name": "stdout",
     "output_type": "stream",
     "text": [
      "Epoch 74: train=12.0214, val=12.3197, took 27.849 s\n",
      "  Validation Found 46164 of 54504, added 936 (eff 84.70%) (0.0937 FP/event)\n"
     ]
    },
    {
     "data": {
      "application/vnd.jupyter.widget-view+json": {
       "model_id": "",
       "version_major": 2,
       "version_minor": 0
      },
      "text/plain": [
       "HBox(children=(FloatProgress(value=0.0, description='Training', layout=Layout(flex='2'), max=1250.0, style=Pro…"
      ]
     },
     "metadata": {},
     "output_type": "display_data"
    },
    {
     "name": "stdout",
     "output_type": "stream",
     "text": [
      "Epoch 75: train=11.9838, val=12.1346, took 27.26 s\n",
      "  Validation Found 46723 of 54504, added 1339 (eff 85.72%) (0.134 FP/event)\n"
     ]
    },
    {
     "data": {
      "application/vnd.jupyter.widget-view+json": {
       "model_id": "",
       "version_major": 2,
       "version_minor": 0
      },
      "text/plain": [
       "HBox(children=(FloatProgress(value=0.0, description='Training', layout=Layout(flex='2'), max=1250.0, style=Pro…"
      ]
     },
     "metadata": {},
     "output_type": "display_data"
    },
    {
     "name": "stdout",
     "output_type": "stream",
     "text": [
      "Epoch 76: train=11.9486, val=12.2472, took 27.29 s\n",
      "  Validation Found 46490 of 54504, added 1168 (eff 85.30%) (0.117 FP/event)\n"
     ]
    },
    {
     "data": {
      "application/vnd.jupyter.widget-view+json": {
       "model_id": "",
       "version_major": 2,
       "version_minor": 0
      },
      "text/plain": [
       "HBox(children=(FloatProgress(value=0.0, description='Training', layout=Layout(flex='2'), max=1250.0, style=Pro…"
      ]
     },
     "metadata": {},
     "output_type": "display_data"
    },
    {
     "name": "stdout",
     "output_type": "stream",
     "text": [
      "Epoch 77: train=11.924, val=12.154, took 27.264 s\n",
      "  Validation Found 46774 of 54504, added 1241 (eff 85.82%) (0.124 FP/event)\n"
     ]
    },
    {
     "data": {
      "application/vnd.jupyter.widget-view+json": {
       "model_id": "",
       "version_major": 2,
       "version_minor": 0
      },
      "text/plain": [
       "HBox(children=(FloatProgress(value=0.0, description='Training', layout=Layout(flex='2'), max=1250.0, style=Pro…"
      ]
     },
     "metadata": {},
     "output_type": "display_data"
    },
    {
     "name": "stdout",
     "output_type": "stream",
     "text": [
      "Epoch 78: train=11.9031, val=12.021, took 27.742 s\n",
      "  Validation Found 47107 of 54504, added 1337 (eff 86.43%) (0.134 FP/event)\n"
     ]
    },
    {
     "data": {
      "application/vnd.jupyter.widget-view+json": {
       "model_id": "",
       "version_major": 2,
       "version_minor": 0
      },
      "text/plain": [
       "HBox(children=(FloatProgress(value=0.0, description='Training', layout=Layout(flex='2'), max=1250.0, style=Pro…"
      ]
     },
     "metadata": {},
     "output_type": "display_data"
    },
    {
     "name": "stdout",
     "output_type": "stream",
     "text": [
      "Epoch 79: train=11.8694, val=12.0436, took 27.687 s\n",
      "  Validation Found 46705 of 54504, added 1056 (eff 85.69%) (0.106 FP/event)\n"
     ]
    },
    {
     "data": {
      "application/vnd.jupyter.widget-view+json": {
       "model_id": "",
       "version_major": 2,
       "version_minor": 0
      },
      "text/plain": [
       "HBox(children=(FloatProgress(value=0.0, description='Training', layout=Layout(flex='2'), max=1250.0, style=Pro…"
      ]
     },
     "metadata": {},
     "output_type": "display_data"
    },
    {
     "name": "stdout",
     "output_type": "stream",
     "text": [
      "Epoch 80: train=11.8561, val=12.1171, took 27.535 s\n",
      "  Validation Found 46661 of 54504, added 1058 (eff 85.61%) (0.106 FP/event)\n"
     ]
    },
    {
     "data": {
      "application/vnd.jupyter.widget-view+json": {
       "model_id": "",
       "version_major": 2,
       "version_minor": 0
      },
      "text/plain": [
       "HBox(children=(FloatProgress(value=0.0, description='Training', layout=Layout(flex='2'), max=1250.0, style=Pro…"
      ]
     },
     "metadata": {},
     "output_type": "display_data"
    },
    {
     "name": "stdout",
     "output_type": "stream",
     "text": [
      "Epoch 81: train=11.8228, val=12.0135, took 27.694 s\n",
      "  Validation Found 46783 of 54504, added 1047 (eff 85.83%) (0.105 FP/event)\n"
     ]
    },
    {
     "data": {
      "application/vnd.jupyter.widget-view+json": {
       "model_id": "",
       "version_major": 2,
       "version_minor": 0
      },
      "text/plain": [
       "HBox(children=(FloatProgress(value=0.0, description='Training', layout=Layout(flex='2'), max=1250.0, style=Pro…"
      ]
     },
     "metadata": {},
     "output_type": "display_data"
    },
    {
     "name": "stdout",
     "output_type": "stream",
     "text": [
      "Epoch 82: train=11.8052, val=12.1401, took 27.521 s\n",
      "  Validation Found 46577 of 54504, added 1018 (eff 85.46%) (0.102 FP/event)\n"
     ]
    },
    {
     "data": {
      "application/vnd.jupyter.widget-view+json": {
       "model_id": "",
       "version_major": 2,
       "version_minor": 0
      },
      "text/plain": [
       "HBox(children=(FloatProgress(value=0.0, description='Training', layout=Layout(flex='2'), max=1250.0, style=Pro…"
      ]
     },
     "metadata": {},
     "output_type": "display_data"
    },
    {
     "name": "stdout",
     "output_type": "stream",
     "text": [
      "Epoch 83: train=11.7984, val=11.9628, took 27.615 s\n",
      "  Validation Found 46761 of 54504, added 1030 (eff 85.79%) (0.103 FP/event)\n"
     ]
    },
    {
     "data": {
      "application/vnd.jupyter.widget-view+json": {
       "model_id": "",
       "version_major": 2,
       "version_minor": 0
      },
      "text/plain": [
       "HBox(children=(FloatProgress(value=0.0, description='Training', layout=Layout(flex='2'), max=1250.0, style=Pro…"
      ]
     },
     "metadata": {},
     "output_type": "display_data"
    },
    {
     "name": "stdout",
     "output_type": "stream",
     "text": [
      "Epoch 84: train=11.776, val=11.9123, took 27.744 s\n",
      "  Validation Found 46998 of 54504, added 1207 (eff 86.23%) (0.121 FP/event)\n"
     ]
    },
    {
     "data": {
      "application/vnd.jupyter.widget-view+json": {
       "model_id": "",
       "version_major": 2,
       "version_minor": 0
      },
      "text/plain": [
       "HBox(children=(FloatProgress(value=0.0, description='Training', layout=Layout(flex='2'), max=1250.0, style=Pro…"
      ]
     },
     "metadata": {},
     "output_type": "display_data"
    },
    {
     "name": "stdout",
     "output_type": "stream",
     "text": [
      "Epoch 85: train=11.7782, val=12.0638, took 27.57 s\n",
      "  Validation Found 46564 of 54504, added 943 (eff 85.43%) (0.0944 FP/event)\n"
     ]
    },
    {
     "data": {
      "application/vnd.jupyter.widget-view+json": {
       "model_id": "",
       "version_major": 2,
       "version_minor": 0
      },
      "text/plain": [
       "HBox(children=(FloatProgress(value=0.0, description='Training', layout=Layout(flex='2'), max=1250.0, style=Pro…"
      ]
     },
     "metadata": {},
     "output_type": "display_data"
    },
    {
     "name": "stdout",
     "output_type": "stream",
     "text": [
      "Epoch 86: train=11.7649, val=11.9904, took 27.732 s\n",
      "  Validation Found 46746 of 54504, added 1120 (eff 85.77%) (0.112 FP/event)\n"
     ]
    },
    {
     "data": {
      "application/vnd.jupyter.widget-view+json": {
       "model_id": "",
       "version_major": 2,
       "version_minor": 0
      },
      "text/plain": [
       "HBox(children=(FloatProgress(value=0.0, description='Training', layout=Layout(flex='2'), max=1250.0, style=Pro…"
      ]
     },
     "metadata": {},
     "output_type": "display_data"
    },
    {
     "name": "stdout",
     "output_type": "stream",
     "text": [
      "Epoch 87: train=11.7393, val=12.0061, took 27.763 s\n",
      "  Validation Found 46739 of 54504, added 1067 (eff 85.75%) (0.107 FP/event)\n"
     ]
    },
    {
     "data": {
      "application/vnd.jupyter.widget-view+json": {
       "model_id": "",
       "version_major": 2,
       "version_minor": 0
      },
      "text/plain": [
       "HBox(children=(FloatProgress(value=0.0, description='Training', layout=Layout(flex='2'), max=1250.0, style=Pro…"
      ]
     },
     "metadata": {},
     "output_type": "display_data"
    },
    {
     "name": "stdout",
     "output_type": "stream",
     "text": [
      "Epoch 88: train=11.7258, val=11.895, took 27.565 s\n",
      "  Validation Found 47057 of 54504, added 1298 (eff 86.34%) (0.13 FP/event)\n"
     ]
    },
    {
     "data": {
      "application/vnd.jupyter.widget-view+json": {
       "model_id": "",
       "version_major": 2,
       "version_minor": 0
      },
      "text/plain": [
       "HBox(children=(FloatProgress(value=0.0, description='Training', layout=Layout(flex='2'), max=1250.0, style=Pro…"
      ]
     },
     "metadata": {},
     "output_type": "display_data"
    },
    {
     "name": "stdout",
     "output_type": "stream",
     "text": [
      "Epoch 89: train=11.7281, val=11.9685, took 27.635 s\n",
      "  Validation Found 46808 of 54504, added 1110 (eff 85.88%) (0.111 FP/event)\n"
     ]
    },
    {
     "data": {
      "application/vnd.jupyter.widget-view+json": {
       "model_id": "",
       "version_major": 2,
       "version_minor": 0
      },
      "text/plain": [
       "HBox(children=(FloatProgress(value=0.0, description='Training', layout=Layout(flex='2'), max=1250.0, style=Pro…"
      ]
     },
     "metadata": {},
     "output_type": "display_data"
    },
    {
     "name": "stdout",
     "output_type": "stream",
     "text": [
      "Epoch 90: train=11.7097, val=11.9976, took 27.42 s\n",
      "  Validation Found 46715 of 54504, added 1086 (eff 85.71%) (0.109 FP/event)\n"
     ]
    },
    {
     "data": {
      "application/vnd.jupyter.widget-view+json": {
       "model_id": "",
       "version_major": 2,
       "version_minor": 0
      },
      "text/plain": [
       "HBox(children=(FloatProgress(value=0.0, description='Training', layout=Layout(flex='2'), max=1250.0, style=Pro…"
      ]
     },
     "metadata": {},
     "output_type": "display_data"
    },
    {
     "name": "stdout",
     "output_type": "stream",
     "text": [
      "Epoch 91: train=11.701, val=11.9607, took 27.729 s\n",
      "  Validation Found 46880 of 54504, added 1091 (eff 86.01%) (0.109 FP/event)\n"
     ]
    },
    {
     "data": {
      "application/vnd.jupyter.widget-view+json": {
       "model_id": "",
       "version_major": 2,
       "version_minor": 0
      },
      "text/plain": [
       "HBox(children=(FloatProgress(value=0.0, description='Training', layout=Layout(flex='2'), max=1250.0, style=Pro…"
      ]
     },
     "metadata": {},
     "output_type": "display_data"
    },
    {
     "name": "stdout",
     "output_type": "stream",
     "text": [
      "Epoch 92: train=11.6727, val=11.8087, took 27.606 s\n",
      "  Validation Found 47028 of 54504, added 1090 (eff 86.28%) (0.109 FP/event)\n"
     ]
    },
    {
     "data": {
      "application/vnd.jupyter.widget-view+json": {
       "model_id": "",
       "version_major": 2,
       "version_minor": 0
      },
      "text/plain": [
       "HBox(children=(FloatProgress(value=0.0, description='Training', layout=Layout(flex='2'), max=1250.0, style=Pro…"
      ]
     },
     "metadata": {},
     "output_type": "display_data"
    },
    {
     "name": "stdout",
     "output_type": "stream",
     "text": [
      "Epoch 93: train=11.6366, val=11.8971, took 27.594 s\n",
      "  Validation Found 46937 of 54504, added 1070 (eff 86.12%) (0.107 FP/event)\n"
     ]
    },
    {
     "data": {
      "application/vnd.jupyter.widget-view+json": {
       "model_id": "",
       "version_major": 2,
       "version_minor": 0
      },
      "text/plain": [
       "HBox(children=(FloatProgress(value=0.0, description='Training', layout=Layout(flex='2'), max=1250.0, style=Pro…"
      ]
     },
     "metadata": {},
     "output_type": "display_data"
    },
    {
     "name": "stdout",
     "output_type": "stream",
     "text": [
      "Epoch 94: train=11.6306, val=11.8295, took 27.578 s\n",
      "  Validation Found 46944 of 54504, added 1063 (eff 86.13%) (0.106 FP/event)\n"
     ]
    },
    {
     "data": {
      "application/vnd.jupyter.widget-view+json": {
       "model_id": "",
       "version_major": 2,
       "version_minor": 0
      },
      "text/plain": [
       "HBox(children=(FloatProgress(value=0.0, description='Training', layout=Layout(flex='2'), max=1250.0, style=Pro…"
      ]
     },
     "metadata": {},
     "output_type": "display_data"
    },
    {
     "name": "stdout",
     "output_type": "stream",
     "text": [
      "Epoch 95: train=11.603, val=11.729, took 27.59 s\n",
      "  Validation Found 47132 of 54504, added 1121 (eff 86.47%) (0.112 FP/event)\n"
     ]
    },
    {
     "data": {
      "application/vnd.jupyter.widget-view+json": {
       "model_id": "",
       "version_major": 2,
       "version_minor": 0
      },
      "text/plain": [
       "HBox(children=(FloatProgress(value=0.0, description='Training', layout=Layout(flex='2'), max=1250.0, style=Pro…"
      ]
     },
     "metadata": {},
     "output_type": "display_data"
    },
    {
     "name": "stdout",
     "output_type": "stream",
     "text": [
      "Epoch 96: train=11.5728, val=11.894, took 27.63 s\n",
      "  Validation Found 46966 of 54504, added 974 (eff 86.17%) (0.0975 FP/event)\n"
     ]
    },
    {
     "data": {
      "application/vnd.jupyter.widget-view+json": {
       "model_id": "",
       "version_major": 2,
       "version_minor": 0
      },
      "text/plain": [
       "HBox(children=(FloatProgress(value=0.0, description='Training', layout=Layout(flex='2'), max=1250.0, style=Pro…"
      ]
     },
     "metadata": {},
     "output_type": "display_data"
    },
    {
     "name": "stdout",
     "output_type": "stream",
     "text": [
      "Epoch 97: train=11.5562, val=11.7452, took 27.56 s\n",
      "  Validation Found 47374 of 54504, added 1316 (eff 86.92%) (0.132 FP/event)\n"
     ]
    },
    {
     "data": {
      "application/vnd.jupyter.widget-view+json": {
       "model_id": "",
       "version_major": 2,
       "version_minor": 0
      },
      "text/plain": [
       "HBox(children=(FloatProgress(value=0.0, description='Training', layout=Layout(flex='2'), max=1250.0, style=Pro…"
      ]
     },
     "metadata": {},
     "output_type": "display_data"
    },
    {
     "name": "stdout",
     "output_type": "stream",
     "text": [
      "Epoch 98: train=11.5327, val=11.7852, took 27.667 s\n",
      "  Validation Found 47068 of 54504, added 1145 (eff 86.36%) (0.115 FP/event)\n"
     ]
    },
    {
     "data": {
      "application/vnd.jupyter.widget-view+json": {
       "model_id": "",
       "version_major": 2,
       "version_minor": 0
      },
      "text/plain": [
       "HBox(children=(FloatProgress(value=0.0, description='Training', layout=Layout(flex='2'), max=1250.0, style=Pro…"
      ]
     },
     "metadata": {},
     "output_type": "display_data"
    },
    {
     "name": "stdout",
     "output_type": "stream",
     "text": [
      "Epoch 99: train=11.5182, val=11.7902, took 27.548 s\n",
      "  Validation Found 46893 of 54504, added 941 (eff 86.04%) (0.0942 FP/event)\n"
     ]
    },
    {
     "data": {
      "application/vnd.jupyter.widget-view+json": {
       "model_id": "",
       "version_major": 2,
       "version_minor": 0
      },
      "text/plain": [
       "HBox(children=(FloatProgress(value=0.0, description='Training', layout=Layout(flex='2'), max=1250.0, style=Pro…"
      ]
     },
     "metadata": {},
     "output_type": "display_data"
    },
    {
     "name": "stdout",
     "output_type": "stream",
     "text": [
      "Epoch 100: train=11.4815, val=11.6867, took 27.752 s\n",
      "  Validation Found 47305 of 54504, added 1091 (eff 86.79%) (0.109 FP/event)\n"
     ]
    },
    {
     "data": {
      "application/vnd.jupyter.widget-view+json": {
       "model_id": "",
       "version_major": 2,
       "version_minor": 0
      },
      "text/plain": [
       "HBox(children=(FloatProgress(value=0.0, description='Training', layout=Layout(flex='2'), max=1250.0, style=Pro…"
      ]
     },
     "metadata": {},
     "output_type": "display_data"
    },
    {
     "name": "stdout",
     "output_type": "stream",
     "text": [
      "Epoch 101: train=11.4419, val=11.6477, took 27.599 s\n",
      "  Validation Found 47124 of 54504, added 1040 (eff 86.46%) (0.104 FP/event)\n"
     ]
    },
    {
     "data": {
      "application/vnd.jupyter.widget-view+json": {
       "model_id": "",
       "version_major": 2,
       "version_minor": 0
      },
      "text/plain": [
       "HBox(children=(FloatProgress(value=0.0, description='Training', layout=Layout(flex='2'), max=1250.0, style=Pro…"
      ]
     },
     "metadata": {},
     "output_type": "display_data"
    },
    {
     "name": "stdout",
     "output_type": "stream",
     "text": [
      "Epoch 102: train=11.4208, val=11.5453, took 27.496 s\n",
      "  Validation Found 47356 of 54504, added 1100 (eff 86.89%) (0.11 FP/event)\n"
     ]
    },
    {
     "data": {
      "application/vnd.jupyter.widget-view+json": {
       "model_id": "",
       "version_major": 2,
       "version_minor": 0
      },
      "text/plain": [
       "HBox(children=(FloatProgress(value=0.0, description='Training', layout=Layout(flex='2'), max=1250.0, style=Pro…"
      ]
     },
     "metadata": {},
     "output_type": "display_data"
    },
    {
     "name": "stdout",
     "output_type": "stream",
     "text": [
      "Epoch 103: train=11.3905, val=11.6157, took 27.508 s\n",
      "  Validation Found 47295 of 54504, added 1098 (eff 86.77%) (0.11 FP/event)\n"
     ]
    },
    {
     "data": {
      "application/vnd.jupyter.widget-view+json": {
       "model_id": "",
       "version_major": 2,
       "version_minor": 0
      },
      "text/plain": [
       "HBox(children=(FloatProgress(value=0.0, description='Training', layout=Layout(flex='2'), max=1250.0, style=Pro…"
      ]
     },
     "metadata": {},
     "output_type": "display_data"
    },
    {
     "name": "stdout",
     "output_type": "stream",
     "text": [
      "Epoch 104: train=11.3835, val=11.7054, took 27.729 s\n",
      "  Validation Found 47124 of 54504, added 947 (eff 86.46%) (0.0948 FP/event)\n"
     ]
    },
    {
     "data": {
      "application/vnd.jupyter.widget-view+json": {
       "model_id": "",
       "version_major": 2,
       "version_minor": 0
      },
      "text/plain": [
       "HBox(children=(FloatProgress(value=0.0, description='Training', layout=Layout(flex='2'), max=1250.0, style=Pro…"
      ]
     },
     "metadata": {},
     "output_type": "display_data"
    },
    {
     "name": "stdout",
     "output_type": "stream",
     "text": [
      "Epoch 105: train=11.3661, val=11.5599, took 27.531 s\n",
      "  Validation Found 47437 of 54504, added 1344 (eff 87.03%) (0.135 FP/event)\n"
     ]
    },
    {
     "data": {
      "application/vnd.jupyter.widget-view+json": {
       "model_id": "",
       "version_major": 2,
       "version_minor": 0
      },
      "text/plain": [
       "HBox(children=(FloatProgress(value=0.0, description='Training', layout=Layout(flex='2'), max=1250.0, style=Pro…"
      ]
     },
     "metadata": {},
     "output_type": "display_data"
    },
    {
     "name": "stdout",
     "output_type": "stream",
     "text": [
      "Epoch 106: train=11.36, val=11.6845, took 27.715 s\n",
      "  Validation Found 47368 of 54504, added 1073 (eff 86.91%) (0.107 FP/event)\n"
     ]
    },
    {
     "data": {
      "application/vnd.jupyter.widget-view+json": {
       "model_id": "",
       "version_major": 2,
       "version_minor": 0
      },
      "text/plain": [
       "HBox(children=(FloatProgress(value=0.0, description='Training', layout=Layout(flex='2'), max=1250.0, style=Pro…"
      ]
     },
     "metadata": {},
     "output_type": "display_data"
    },
    {
     "name": "stdout",
     "output_type": "stream",
     "text": [
      "Epoch 107: train=11.348, val=11.5499, took 27.599 s\n",
      "  Validation Found 47279 of 54504, added 1023 (eff 86.74%) (0.102 FP/event)\n"
     ]
    },
    {
     "data": {
      "application/vnd.jupyter.widget-view+json": {
       "model_id": "",
       "version_major": 2,
       "version_minor": 0
      },
      "text/plain": [
       "HBox(children=(FloatProgress(value=0.0, description='Training', layout=Layout(flex='2'), max=1250.0, style=Pro…"
      ]
     },
     "metadata": {},
     "output_type": "display_data"
    },
    {
     "name": "stdout",
     "output_type": "stream",
     "text": [
      "Epoch 108: train=11.3441, val=11.5031, took 27.697 s\n",
      "  Validation Found 47650 of 54504, added 1213 (eff 87.42%) (0.121 FP/event)\n"
     ]
    },
    {
     "data": {
      "application/vnd.jupyter.widget-view+json": {
       "model_id": "",
       "version_major": 2,
       "version_minor": 0
      },
      "text/plain": [
       "HBox(children=(FloatProgress(value=0.0, description='Training', layout=Layout(flex='2'), max=1250.0, style=Pro…"
      ]
     },
     "metadata": {},
     "output_type": "display_data"
    },
    {
     "name": "stdout",
     "output_type": "stream",
     "text": [
      "Epoch 109: train=11.3252, val=11.6169, took 27.653 s\n",
      "  Validation Found 47281 of 54504, added 1046 (eff 86.75%) (0.105 FP/event)\n"
     ]
    },
    {
     "data": {
      "application/vnd.jupyter.widget-view+json": {
       "model_id": "",
       "version_major": 2,
       "version_minor": 0
      },
      "text/plain": [
       "HBox(children=(FloatProgress(value=0.0, description='Training', layout=Layout(flex='2'), max=1250.0, style=Pro…"
      ]
     },
     "metadata": {},
     "output_type": "display_data"
    },
    {
     "name": "stdout",
     "output_type": "stream",
     "text": [
      "Epoch 110: train=11.3166, val=11.4936, took 28.046 s\n",
      "  Validation Found 47577 of 54504, added 1171 (eff 87.29%) (0.117 FP/event)\n"
     ]
    },
    {
     "data": {
      "application/vnd.jupyter.widget-view+json": {
       "model_id": "",
       "version_major": 2,
       "version_minor": 0
      },
      "text/plain": [
       "HBox(children=(FloatProgress(value=0.0, description='Training', layout=Layout(flex='2'), max=1250.0, style=Pro…"
      ]
     },
     "metadata": {},
     "output_type": "display_data"
    },
    {
     "name": "stdout",
     "output_type": "stream",
     "text": [
      "Epoch 111: train=11.2991, val=11.5367, took 27.595 s\n",
      "  Validation Found 47472 of 54504, added 1106 (eff 87.10%) (0.111 FP/event)\n"
     ]
    },
    {
     "data": {
      "application/vnd.jupyter.widget-view+json": {
       "model_id": "",
       "version_major": 2,
       "version_minor": 0
      },
      "text/plain": [
       "HBox(children=(FloatProgress(value=0.0, description='Training', layout=Layout(flex='2'), max=1250.0, style=Pro…"
      ]
     },
     "metadata": {},
     "output_type": "display_data"
    },
    {
     "name": "stdout",
     "output_type": "stream",
     "text": [
      "Epoch 112: train=11.287, val=11.4676, took 27.531 s\n",
      "  Validation Found 47362 of 54504, added 1014 (eff 86.90%) (0.102 FP/event)\n"
     ]
    },
    {
     "data": {
      "application/vnd.jupyter.widget-view+json": {
       "model_id": "",
       "version_major": 2,
       "version_minor": 0
      },
      "text/plain": [
       "HBox(children=(FloatProgress(value=0.0, description='Training', layout=Layout(flex='2'), max=1250.0, style=Pro…"
      ]
     },
     "metadata": {},
     "output_type": "display_data"
    },
    {
     "name": "stdout",
     "output_type": "stream",
     "text": [
      "Epoch 113: train=11.2833, val=11.5504, took 27.813 s\n",
      "  Validation Found 47468 of 54504, added 1125 (eff 87.09%) (0.113 FP/event)\n"
     ]
    },
    {
     "data": {
      "application/vnd.jupyter.widget-view+json": {
       "model_id": "",
       "version_major": 2,
       "version_minor": 0
      },
      "text/plain": [
       "HBox(children=(FloatProgress(value=0.0, description='Training', layout=Layout(flex='2'), max=1250.0, style=Pro…"
      ]
     },
     "metadata": {},
     "output_type": "display_data"
    },
    {
     "name": "stdout",
     "output_type": "stream",
     "text": [
      "Epoch 114: train=11.2555, val=11.4563, took 27.538 s\n",
      "  Validation Found 47452 of 54504, added 1037 (eff 87.06%) (0.104 FP/event)\n"
     ]
    },
    {
     "data": {
      "application/vnd.jupyter.widget-view+json": {
       "model_id": "",
       "version_major": 2,
       "version_minor": 0
      },
      "text/plain": [
       "HBox(children=(FloatProgress(value=0.0, description='Training', layout=Layout(flex='2'), max=1250.0, style=Pro…"
      ]
     },
     "metadata": {},
     "output_type": "display_data"
    },
    {
     "name": "stdout",
     "output_type": "stream",
     "text": [
      "Epoch 115: train=11.2406, val=11.4595, took 27.629 s\n",
      "  Validation Found 47519 of 54504, added 1052 (eff 87.18%) (0.105 FP/event)\n"
     ]
    },
    {
     "data": {
      "application/vnd.jupyter.widget-view+json": {
       "model_id": "",
       "version_major": 2,
       "version_minor": 0
      },
      "text/plain": [
       "HBox(children=(FloatProgress(value=0.0, description='Training', layout=Layout(flex='2'), max=1250.0, style=Pro…"
      ]
     },
     "metadata": {},
     "output_type": "display_data"
    },
    {
     "name": "stdout",
     "output_type": "stream",
     "text": [
      "Epoch 116: train=11.2192, val=11.3897, took 27.892 s\n",
      "  Validation Found 47838 of 54504, added 1240 (eff 87.77%) (0.124 FP/event)\n"
     ]
    },
    {
     "data": {
      "application/vnd.jupyter.widget-view+json": {
       "model_id": "",
       "version_major": 2,
       "version_minor": 0
      },
      "text/plain": [
       "HBox(children=(FloatProgress(value=0.0, description='Training', layout=Layout(flex='2'), max=1250.0, style=Pro…"
      ]
     },
     "metadata": {},
     "output_type": "display_data"
    },
    {
     "name": "stdout",
     "output_type": "stream",
     "text": [
      "Epoch 117: train=11.223, val=11.3672, took 27.512 s\n",
      "  Validation Found 47883 of 54504, added 1214 (eff 87.85%) (0.122 FP/event)\n"
     ]
    },
    {
     "data": {
      "application/vnd.jupyter.widget-view+json": {
       "model_id": "",
       "version_major": 2,
       "version_minor": 0
      },
      "text/plain": [
       "HBox(children=(FloatProgress(value=0.0, description='Training', layout=Layout(flex='2'), max=1250.0, style=Pro…"
      ]
     },
     "metadata": {},
     "output_type": "display_data"
    },
    {
     "name": "stdout",
     "output_type": "stream",
     "text": [
      "Epoch 118: train=11.2004, val=11.4055, took 27.967 s\n",
      "  Validation Found 47864 of 54504, added 1406 (eff 87.82%) (0.141 FP/event)\n"
     ]
    },
    {
     "data": {
      "application/vnd.jupyter.widget-view+json": {
       "model_id": "",
       "version_major": 2,
       "version_minor": 0
      },
      "text/plain": [
       "HBox(children=(FloatProgress(value=0.0, description='Training', layout=Layout(flex='2'), max=1250.0, style=Pro…"
      ]
     },
     "metadata": {},
     "output_type": "display_data"
    },
    {
     "name": "stdout",
     "output_type": "stream",
     "text": [
      "Epoch 119: train=11.2063, val=11.4571, took 27.686 s\n",
      "  Validation Found 47515 of 54504, added 1057 (eff 87.18%) (0.106 FP/event)\n"
     ]
    },
    {
     "data": {
      "application/vnd.jupyter.widget-view+json": {
       "model_id": "",
       "version_major": 2,
       "version_minor": 0
      },
      "text/plain": [
       "HBox(children=(FloatProgress(value=0.0, description='Training', layout=Layout(flex='2'), max=1250.0, style=Pro…"
      ]
     },
     "metadata": {},
     "output_type": "display_data"
    },
    {
     "name": "stdout",
     "output_type": "stream",
     "text": [
      "Epoch 120: train=11.1969, val=11.2999, took 27.555 s\n",
      "  Validation Found 48107 of 54504, added 1449 (eff 88.26%) (0.145 FP/event)\n"
     ]
    },
    {
     "data": {
      "application/vnd.jupyter.widget-view+json": {
       "model_id": "",
       "version_major": 2,
       "version_minor": 0
      },
      "text/plain": [
       "HBox(children=(FloatProgress(value=0.0, description='Training', layout=Layout(flex='2'), max=1250.0, style=Pro…"
      ]
     },
     "metadata": {},
     "output_type": "display_data"
    },
    {
     "name": "stdout",
     "output_type": "stream",
     "text": [
      "Epoch 121: train=11.1768, val=11.3491, took 27.596 s\n",
      "  Validation Found 47584 of 54504, added 1083 (eff 87.30%) (0.108 FP/event)\n"
     ]
    },
    {
     "data": {
      "application/vnd.jupyter.widget-view+json": {
       "model_id": "",
       "version_major": 2,
       "version_minor": 0
      },
      "text/plain": [
       "HBox(children=(FloatProgress(value=0.0, description='Training', layout=Layout(flex='2'), max=1250.0, style=Pro…"
      ]
     },
     "metadata": {},
     "output_type": "display_data"
    },
    {
     "name": "stdout",
     "output_type": "stream",
     "text": [
      "Epoch 122: train=11.1727, val=11.5766, took 27.484 s\n",
      "  Validation Found 47263 of 54504, added 933 (eff 86.71%) (0.0934 FP/event)\n"
     ]
    },
    {
     "data": {
      "application/vnd.jupyter.widget-view+json": {
       "model_id": "",
       "version_major": 2,
       "version_minor": 0
      },
      "text/plain": [
       "HBox(children=(FloatProgress(value=0.0, description='Training', layout=Layout(flex='2'), max=1250.0, style=Pro…"
      ]
     },
     "metadata": {},
     "output_type": "display_data"
    },
    {
     "name": "stdout",
     "output_type": "stream",
     "text": [
      "Epoch 123: train=11.1749, val=11.3693, took 27.584 s\n",
      "  Validation Found 47882 of 54504, added 1339 (eff 87.85%) (0.134 FP/event)\n"
     ]
    },
    {
     "data": {
      "application/vnd.jupyter.widget-view+json": {
       "model_id": "",
       "version_major": 2,
       "version_minor": 0
      },
      "text/plain": [
       "HBox(children=(FloatProgress(value=0.0, description='Training', layout=Layout(flex='2'), max=1250.0, style=Pro…"
      ]
     },
     "metadata": {},
     "output_type": "display_data"
    },
    {
     "name": "stdout",
     "output_type": "stream",
     "text": [
      "Epoch 124: train=11.1615, val=11.3922, took 27.495 s\n",
      "  Validation Found 47752 of 54504, added 1189 (eff 87.61%) (0.119 FP/event)\n"
     ]
    },
    {
     "data": {
      "application/vnd.jupyter.widget-view+json": {
       "model_id": "",
       "version_major": 2,
       "version_minor": 0
      },
      "text/plain": [
       "HBox(children=(FloatProgress(value=0.0, description='Training', layout=Layout(flex='2'), max=1250.0, style=Pro…"
      ]
     },
     "metadata": {},
     "output_type": "display_data"
    },
    {
     "name": "stdout",
     "output_type": "stream",
     "text": [
      "Epoch 125: train=11.1634, val=11.369, took 27.585 s\n",
      "  Validation Found 47921 of 54504, added 1296 (eff 87.92%) (0.13 FP/event)\n"
     ]
    },
    {
     "data": {
      "application/vnd.jupyter.widget-view+json": {
       "model_id": "",
       "version_major": 2,
       "version_minor": 0
      },
      "text/plain": [
       "HBox(children=(FloatProgress(value=0.0, description='Training', layout=Layout(flex='2'), max=1250.0, style=Pro…"
      ]
     },
     "metadata": {},
     "output_type": "display_data"
    },
    {
     "name": "stdout",
     "output_type": "stream",
     "text": [
      "Epoch 126: train=11.1495, val=11.327, took 27.6 s\n",
      "  Validation Found 47878 of 54504, added 1173 (eff 87.84%) (0.117 FP/event)\n"
     ]
    },
    {
     "data": {
      "application/vnd.jupyter.widget-view+json": {
       "model_id": "",
       "version_major": 2,
       "version_minor": 0
      },
      "text/plain": [
       "HBox(children=(FloatProgress(value=0.0, description='Training', layout=Layout(flex='2'), max=1250.0, style=Pro…"
      ]
     },
     "metadata": {},
     "output_type": "display_data"
    },
    {
     "name": "stdout",
     "output_type": "stream",
     "text": [
      "Epoch 127: train=11.1396, val=11.3304, took 27.644 s\n",
      "  Validation Found 47851 of 54504, added 1217 (eff 87.79%) (0.122 FP/event)\n"
     ]
    },
    {
     "data": {
      "application/vnd.jupyter.widget-view+json": {
       "model_id": "",
       "version_major": 2,
       "version_minor": 0
      },
      "text/plain": [
       "HBox(children=(FloatProgress(value=0.0, description='Training', layout=Layout(flex='2'), max=1250.0, style=Pro…"
      ]
     },
     "metadata": {},
     "output_type": "display_data"
    },
    {
     "name": "stdout",
     "output_type": "stream",
     "text": [
      "Epoch 128: train=11.1349, val=11.3368, took 27.634 s\n",
      "  Validation Found 47713 of 54504, added 1205 (eff 87.54%) (0.121 FP/event)\n"
     ]
    },
    {
     "data": {
      "application/vnd.jupyter.widget-view+json": {
       "model_id": "",
       "version_major": 2,
       "version_minor": 0
      },
      "text/plain": [
       "HBox(children=(FloatProgress(value=0.0, description='Training', layout=Layout(flex='2'), max=1250.0, style=Pro…"
      ]
     },
     "metadata": {},
     "output_type": "display_data"
    },
    {
     "name": "stdout",
     "output_type": "stream",
     "text": [
      "Epoch 129: train=11.1334, val=11.394, took 27.443 s\n",
      "  Validation Found 47693 of 54504, added 1067 (eff 87.50%) (0.107 FP/event)\n"
     ]
    },
    {
     "data": {
      "application/vnd.jupyter.widget-view+json": {
       "model_id": "",
       "version_major": 2,
       "version_minor": 0
      },
      "text/plain": [
       "HBox(children=(FloatProgress(value=0.0, description='Training', layout=Layout(flex='2'), max=1250.0, style=Pro…"
      ]
     },
     "metadata": {},
     "output_type": "display_data"
    },
    {
     "name": "stdout",
     "output_type": "stream",
     "text": [
      "Epoch 130: train=11.1266, val=11.357, took 27.596 s\n",
      "  Validation Found 47659 of 54504, added 1154 (eff 87.44%) (0.116 FP/event)\n"
     ]
    },
    {
     "data": {
      "application/vnd.jupyter.widget-view+json": {
       "model_id": "",
       "version_major": 2,
       "version_minor": 0
      },
      "text/plain": [
       "HBox(children=(FloatProgress(value=0.0, description='Training', layout=Layout(flex='2'), max=1250.0, style=Pro…"
      ]
     },
     "metadata": {},
     "output_type": "display_data"
    },
    {
     "name": "stdout",
     "output_type": "stream",
     "text": [
      "Epoch 131: train=11.1226, val=11.2975, took 27.603 s\n",
      "  Validation Found 47911 of 54504, added 1329 (eff 87.90%) (0.133 FP/event)\n"
     ]
    },
    {
     "data": {
      "application/vnd.jupyter.widget-view+json": {
       "model_id": "",
       "version_major": 2,
       "version_minor": 0
      },
      "text/plain": [
       "HBox(children=(FloatProgress(value=0.0, description='Training', layout=Layout(flex='2'), max=1250.0, style=Pro…"
      ]
     },
     "metadata": {},
     "output_type": "display_data"
    },
    {
     "name": "stdout",
     "output_type": "stream",
     "text": [
      "Epoch 132: train=11.1233, val=11.4781, took 27.537 s\n",
      "  Validation Found 47473 of 54504, added 1043 (eff 87.10%) (0.104 FP/event)\n"
     ]
    },
    {
     "data": {
      "application/vnd.jupyter.widget-view+json": {
       "model_id": "",
       "version_major": 2,
       "version_minor": 0
      },
      "text/plain": [
       "HBox(children=(FloatProgress(value=0.0, description='Training', layout=Layout(flex='2'), max=1250.0, style=Pro…"
      ]
     },
     "metadata": {},
     "output_type": "display_data"
    },
    {
     "name": "stdout",
     "output_type": "stream",
     "text": [
      "Epoch 133: train=11.1213, val=11.3286, took 27.596 s\n",
      "  Validation Found 47752 of 54504, added 1160 (eff 87.61%) (0.116 FP/event)\n"
     ]
    },
    {
     "data": {
      "application/vnd.jupyter.widget-view+json": {
       "model_id": "",
       "version_major": 2,
       "version_minor": 0
      },
      "text/plain": [
       "HBox(children=(FloatProgress(value=0.0, description='Training', layout=Layout(flex='2'), max=1250.0, style=Pro…"
      ]
     },
     "metadata": {},
     "output_type": "display_data"
    },
    {
     "name": "stdout",
     "output_type": "stream",
     "text": [
      "Epoch 134: train=11.1117, val=11.3039, took 27.614 s\n",
      "  Validation Found 48030 of 54504, added 1272 (eff 88.12%) (0.127 FP/event)\n"
     ]
    },
    {
     "data": {
      "application/vnd.jupyter.widget-view+json": {
       "model_id": "",
       "version_major": 2,
       "version_minor": 0
      },
      "text/plain": [
       "HBox(children=(FloatProgress(value=0.0, description='Training', layout=Layout(flex='2'), max=1250.0, style=Pro…"
      ]
     },
     "metadata": {},
     "output_type": "display_data"
    },
    {
     "name": "stdout",
     "output_type": "stream",
     "text": [
      "Epoch 135: train=11.1068, val=11.3718, took 27.539 s\n",
      "  Validation Found 47741 of 54504, added 1165 (eff 87.59%) (0.117 FP/event)\n"
     ]
    },
    {
     "data": {
      "application/vnd.jupyter.widget-view+json": {
       "model_id": "",
       "version_major": 2,
       "version_minor": 0
      },
      "text/plain": [
       "HBox(children=(FloatProgress(value=0.0, description='Training', layout=Layout(flex='2'), max=1250.0, style=Pro…"
      ]
     },
     "metadata": {},
     "output_type": "display_data"
    },
    {
     "name": "stdout",
     "output_type": "stream",
     "text": [
      "Epoch 136: train=11.1031, val=11.2713, took 27.602 s\n",
      "  Validation Found 47896 of 54504, added 1288 (eff 87.88%) (0.129 FP/event)\n"
     ]
    },
    {
     "data": {
      "application/vnd.jupyter.widget-view+json": {
       "model_id": "",
       "version_major": 2,
       "version_minor": 0
      },
      "text/plain": [
       "HBox(children=(FloatProgress(value=0.0, description='Training', layout=Layout(flex='2'), max=1250.0, style=Pro…"
      ]
     },
     "metadata": {},
     "output_type": "display_data"
    },
    {
     "name": "stdout",
     "output_type": "stream",
     "text": [
      "Epoch 137: train=11.0918, val=11.3663, took 27.382 s\n",
      "  Validation Found 47689 of 54504, added 1076 (eff 87.50%) (0.108 FP/event)\n"
     ]
    },
    {
     "data": {
      "application/vnd.jupyter.widget-view+json": {
       "model_id": "",
       "version_major": 2,
       "version_minor": 0
      },
      "text/plain": [
       "HBox(children=(FloatProgress(value=0.0, description='Training', layout=Layout(flex='2'), max=1250.0, style=Pro…"
      ]
     },
     "metadata": {},
     "output_type": "display_data"
    },
    {
     "name": "stdout",
     "output_type": "stream",
     "text": [
      "Epoch 138: train=11.1162, val=11.3815, took 27.533 s\n",
      "  Validation Found 47617 of 54504, added 1147 (eff 87.36%) (0.115 FP/event)\n"
     ]
    },
    {
     "data": {
      "application/vnd.jupyter.widget-view+json": {
       "model_id": "",
       "version_major": 2,
       "version_minor": 0
      },
      "text/plain": [
       "HBox(children=(FloatProgress(value=0.0, description='Training', layout=Layout(flex='2'), max=1250.0, style=Pro…"
      ]
     },
     "metadata": {},
     "output_type": "display_data"
    },
    {
     "name": "stdout",
     "output_type": "stream",
     "text": [
      "Epoch 139: train=11.1043, val=11.2558, took 27.425 s\n",
      "  Validation Found 47947 of 54504, added 1238 (eff 87.97%) (0.124 FP/event)\n"
     ]
    },
    {
     "data": {
      "application/vnd.jupyter.widget-view+json": {
       "model_id": "",
       "version_major": 2,
       "version_minor": 0
      },
      "text/plain": [
       "HBox(children=(FloatProgress(value=0.0, description='Training', layout=Layout(flex='2'), max=1250.0, style=Pro…"
      ]
     },
     "metadata": {},
     "output_type": "display_data"
    },
    {
     "name": "stdout",
     "output_type": "stream",
     "text": [
      "Epoch 140: train=11.0874, val=11.3427, took 27.681 s\n",
      "  Validation Found 47772 of 54504, added 1094 (eff 87.65%) (0.11 FP/event)\n"
     ]
    },
    {
     "data": {
      "application/vnd.jupyter.widget-view+json": {
       "model_id": "",
       "version_major": 2,
       "version_minor": 0
      },
      "text/plain": [
       "HBox(children=(FloatProgress(value=0.0, description='Training', layout=Layout(flex='2'), max=1250.0, style=Pro…"
      ]
     },
     "metadata": {},
     "output_type": "display_data"
    },
    {
     "name": "stdout",
     "output_type": "stream",
     "text": [
      "Epoch 141: train=11.0917, val=11.4116, took 27.619 s\n",
      "  Validation Found 47708 of 54504, added 1135 (eff 87.53%) (0.114 FP/event)\n"
     ]
    },
    {
     "data": {
      "application/vnd.jupyter.widget-view+json": {
       "model_id": "",
       "version_major": 2,
       "version_minor": 0
      },
      "text/plain": [
       "HBox(children=(FloatProgress(value=0.0, description='Training', layout=Layout(flex='2'), max=1250.0, style=Pro…"
      ]
     },
     "metadata": {},
     "output_type": "display_data"
    },
    {
     "name": "stdout",
     "output_type": "stream",
     "text": [
      "Epoch 142: train=11.0685, val=11.2941, took 27.909 s\n",
      "  Validation Found 47734 of 54504, added 1163 (eff 87.58%) (0.116 FP/event)\n"
     ]
    },
    {
     "data": {
      "application/vnd.jupyter.widget-view+json": {
       "model_id": "",
       "version_major": 2,
       "version_minor": 0
      },
      "text/plain": [
       "HBox(children=(FloatProgress(value=0.0, description='Training', layout=Layout(flex='2'), max=1250.0, style=Pro…"
      ]
     },
     "metadata": {},
     "output_type": "display_data"
    },
    {
     "name": "stdout",
     "output_type": "stream",
     "text": [
      "Epoch 143: train=11.0568, val=11.2678, took 27.642 s\n",
      "  Validation Found 47919 of 54504, added 1261 (eff 87.92%) (0.126 FP/event)\n"
     ]
    },
    {
     "data": {
      "application/vnd.jupyter.widget-view+json": {
       "model_id": "",
       "version_major": 2,
       "version_minor": 0
      },
      "text/plain": [
       "HBox(children=(FloatProgress(value=0.0, description='Training', layout=Layout(flex='2'), max=1250.0, style=Pro…"
      ]
     },
     "metadata": {},
     "output_type": "display_data"
    },
    {
     "name": "stdout",
     "output_type": "stream",
     "text": [
      "Epoch 144: train=11.0495, val=11.2705, took 27.728 s\n",
      "  Validation Found 47859 of 54504, added 1179 (eff 87.81%) (0.118 FP/event)\n"
     ]
    },
    {
     "data": {
      "application/vnd.jupyter.widget-view+json": {
       "model_id": "",
       "version_major": 2,
       "version_minor": 0
      },
      "text/plain": [
       "HBox(children=(FloatProgress(value=0.0, description='Training', layout=Layout(flex='2'), max=1250.0, style=Pro…"
      ]
     },
     "metadata": {},
     "output_type": "display_data"
    },
    {
     "name": "stdout",
     "output_type": "stream",
     "text": [
      "Epoch 145: train=11.0438, val=11.2002, took 27.723 s\n",
      "  Validation Found 48059 of 54504, added 1350 (eff 88.18%) (0.135 FP/event)\n"
     ]
    },
    {
     "data": {
      "application/vnd.jupyter.widget-view+json": {
       "model_id": "",
       "version_major": 2,
       "version_minor": 0
      },
      "text/plain": [
       "HBox(children=(FloatProgress(value=0.0, description='Training', layout=Layout(flex='2'), max=1250.0, style=Pro…"
      ]
     },
     "metadata": {},
     "output_type": "display_data"
    },
    {
     "name": "stdout",
     "output_type": "stream",
     "text": [
      "Epoch 146: train=11.0482, val=11.2612, took 27.559 s\n",
      "  Validation Found 47707 of 54504, added 1135 (eff 87.53%) (0.114 FP/event)\n"
     ]
    },
    {
     "data": {
      "application/vnd.jupyter.widget-view+json": {
       "model_id": "",
       "version_major": 2,
       "version_minor": 0
      },
      "text/plain": [
       "HBox(children=(FloatProgress(value=0.0, description='Training', layout=Layout(flex='2'), max=1250.0, style=Pro…"
      ]
     },
     "metadata": {},
     "output_type": "display_data"
    },
    {
     "name": "stdout",
     "output_type": "stream",
     "text": [
      "Epoch 147: train=11.0442, val=11.3475, took 27.575 s\n",
      "  Validation Found 47673 of 54504, added 1114 (eff 87.47%) (0.112 FP/event)\n"
     ]
    },
    {
     "data": {
      "application/vnd.jupyter.widget-view+json": {
       "model_id": "",
       "version_major": 2,
       "version_minor": 0
      },
      "text/plain": [
       "HBox(children=(FloatProgress(value=0.0, description='Training', layout=Layout(flex='2'), max=1250.0, style=Pro…"
      ]
     },
     "metadata": {},
     "output_type": "display_data"
    },
    {
     "name": "stdout",
     "output_type": "stream",
     "text": [
      "Epoch 148: train=11.0354, val=11.3755, took 27.522 s\n",
      "  Validation Found 47589 of 54504, added 1096 (eff 87.31%) (0.11 FP/event)\n"
     ]
    },
    {
     "data": {
      "application/vnd.jupyter.widget-view+json": {
       "model_id": "",
       "version_major": 2,
       "version_minor": 0
      },
      "text/plain": [
       "HBox(children=(FloatProgress(value=0.0, description='Training', layout=Layout(flex='2'), max=1250.0, style=Pro…"
      ]
     },
     "metadata": {},
     "output_type": "display_data"
    },
    {
     "name": "stdout",
     "output_type": "stream",
     "text": [
      "Epoch 149: train=11.03, val=11.2351, took 27.843 s\n",
      "  Validation Found 47879 of 54504, added 1193 (eff 87.84%) (0.119 FP/event)\n"
     ]
    },
    {
     "data": {
      "application/vnd.jupyter.widget-view+json": {
       "model_id": "",
       "version_major": 2,
       "version_minor": 0
      },
      "text/plain": [
       "HBox(children=(FloatProgress(value=0.0, description='Training', layout=Layout(flex='2'), max=1250.0, style=Pro…"
      ]
     },
     "metadata": {},
     "output_type": "display_data"
    },
    {
     "name": "stdout",
     "output_type": "stream",
     "text": [
      "Epoch 150: train=11.0245, val=11.2856, took 27.593 s\n",
      "  Validation Found 47846 of 54504, added 1165 (eff 87.78%) (0.117 FP/event)\n"
     ]
    },
    {
     "data": {
      "application/vnd.jupyter.widget-view+json": {
       "model_id": "",
       "version_major": 2,
       "version_minor": 0
      },
      "text/plain": [
       "HBox(children=(FloatProgress(value=0.0, description='Training', layout=Layout(flex='2'), max=1250.0, style=Pro…"
      ]
     },
     "metadata": {},
     "output_type": "display_data"
    },
    {
     "name": "stdout",
     "output_type": "stream",
     "text": [
      "Epoch 151: train=11.0166, val=11.4017, took 27.498 s\n",
      "  Validation Found 47593 of 54504, added 1106 (eff 87.32%) (0.111 FP/event)\n"
     ]
    },
    {
     "data": {
      "application/vnd.jupyter.widget-view+json": {
       "model_id": "",
       "version_major": 2,
       "version_minor": 0
      },
      "text/plain": [
       "HBox(children=(FloatProgress(value=0.0, description='Training', layout=Layout(flex='2'), max=1250.0, style=Pro…"
      ]
     },
     "metadata": {},
     "output_type": "display_data"
    },
    {
     "name": "stdout",
     "output_type": "stream",
     "text": [
      "Epoch 152: train=11.0082, val=11.1823, took 27.6 s\n",
      "  Validation Found 47912 of 54504, added 1251 (eff 87.91%) (0.125 FP/event)\n"
     ]
    },
    {
     "data": {
      "application/vnd.jupyter.widget-view+json": {
       "model_id": "",
       "version_major": 2,
       "version_minor": 0
      },
      "text/plain": [
       "HBox(children=(FloatProgress(value=0.0, description='Training', layout=Layout(flex='2'), max=1250.0, style=Pro…"
      ]
     },
     "metadata": {},
     "output_type": "display_data"
    },
    {
     "name": "stdout",
     "output_type": "stream",
     "text": [
      "Epoch 153: train=10.9986, val=11.2922, took 27.653 s\n",
      "  Validation Found 47777 of 54504, added 1187 (eff 87.66%) (0.119 FP/event)\n"
     ]
    },
    {
     "data": {
      "application/vnd.jupyter.widget-view+json": {
       "model_id": "",
       "version_major": 2,
       "version_minor": 0
      },
      "text/plain": [
       "HBox(children=(FloatProgress(value=0.0, description='Training', layout=Layout(flex='2'), max=1250.0, style=Pro…"
      ]
     },
     "metadata": {},
     "output_type": "display_data"
    },
    {
     "name": "stdout",
     "output_type": "stream",
     "text": [
      "Epoch 154: train=10.993, val=11.25, took 27.586 s\n",
      "  Validation Found 47747 of 54504, added 1081 (eff 87.60%) (0.108 FP/event)\n"
     ]
    },
    {
     "data": {
      "application/vnd.jupyter.widget-view+json": {
       "model_id": "",
       "version_major": 2,
       "version_minor": 0
      },
      "text/plain": [
       "HBox(children=(FloatProgress(value=0.0, description='Training', layout=Layout(flex='2'), max=1250.0, style=Pro…"
      ]
     },
     "metadata": {},
     "output_type": "display_data"
    },
    {
     "name": "stdout",
     "output_type": "stream",
     "text": [
      "Epoch 155: train=10.9877, val=11.3531, took 27.633 s\n",
      "  Validation Found 47722 of 54504, added 1181 (eff 87.56%) (0.118 FP/event)\n"
     ]
    },
    {
     "data": {
      "application/vnd.jupyter.widget-view+json": {
       "model_id": "",
       "version_major": 2,
       "version_minor": 0
      },
      "text/plain": [
       "HBox(children=(FloatProgress(value=0.0, description='Training', layout=Layout(flex='2'), max=1250.0, style=Pro…"
      ]
     },
     "metadata": {},
     "output_type": "display_data"
    },
    {
     "name": "stdout",
     "output_type": "stream",
     "text": [
      "Epoch 156: train=10.9837, val=11.2149, took 27.573 s\n",
      "  Validation Found 47890 of 54504, added 1274 (eff 87.87%) (0.128 FP/event)\n"
     ]
    },
    {
     "data": {
      "application/vnd.jupyter.widget-view+json": {
       "model_id": "",
       "version_major": 2,
       "version_minor": 0
      },
      "text/plain": [
       "HBox(children=(FloatProgress(value=0.0, description='Training', layout=Layout(flex='2'), max=1250.0, style=Pro…"
      ]
     },
     "metadata": {},
     "output_type": "display_data"
    },
    {
     "name": "stdout",
     "output_type": "stream",
     "text": [
      "Epoch 157: train=10.9704, val=11.3339, took 27.586 s\n",
      "  Validation Found 47881 of 54504, added 1279 (eff 87.85%) (0.128 FP/event)\n"
     ]
    },
    {
     "data": {
      "application/vnd.jupyter.widget-view+json": {
       "model_id": "",
       "version_major": 2,
       "version_minor": 0
      },
      "text/plain": [
       "HBox(children=(FloatProgress(value=0.0, description='Training', layout=Layout(flex='2'), max=1250.0, style=Pro…"
      ]
     },
     "metadata": {},
     "output_type": "display_data"
    },
    {
     "name": "stdout",
     "output_type": "stream",
     "text": [
      "Epoch 158: train=10.9709, val=11.1905, took 27.547 s\n",
      "  Validation Found 47887 of 54504, added 1220 (eff 87.86%) (0.122 FP/event)\n"
     ]
    },
    {
     "data": {
      "application/vnd.jupyter.widget-view+json": {
       "model_id": "",
       "version_major": 2,
       "version_minor": 0
      },
      "text/plain": [
       "HBox(children=(FloatProgress(value=0.0, description='Training', layout=Layout(flex='2'), max=1250.0, style=Pro…"
      ]
     },
     "metadata": {},
     "output_type": "display_data"
    },
    {
     "name": "stdout",
     "output_type": "stream",
     "text": [
      "Epoch 159: train=10.9641, val=11.2275, took 27.466 s\n",
      "  Validation Found 47784 of 54504, added 1175 (eff 87.67%) (0.118 FP/event)\n"
     ]
    },
    {
     "data": {
      "application/vnd.jupyter.widget-view+json": {
       "model_id": "",
       "version_major": 2,
       "version_minor": 0
      },
      "text/plain": [
       "HBox(children=(FloatProgress(value=0.0, description='Training', layout=Layout(flex='2'), max=1250.0, style=Pro…"
      ]
     },
     "metadata": {},
     "output_type": "display_data"
    },
    {
     "name": "stdout",
     "output_type": "stream",
     "text": [
      "Epoch 160: train=10.9613, val=11.1943, took 27.539 s\n",
      "  Validation Found 47868 of 54504, added 1162 (eff 87.82%) (0.116 FP/event)\n"
     ]
    },
    {
     "data": {
      "application/vnd.jupyter.widget-view+json": {
       "model_id": "",
       "version_major": 2,
       "version_minor": 0
      },
      "text/plain": [
       "HBox(children=(FloatProgress(value=0.0, description='Training', layout=Layout(flex='2'), max=1250.0, style=Pro…"
      ]
     },
     "metadata": {},
     "output_type": "display_data"
    },
    {
     "name": "stdout",
     "output_type": "stream",
     "text": [
      "Epoch 161: train=10.9561, val=11.3009, took 27.521 s\n",
      "  Validation Found 47817 of 54504, added 1182 (eff 87.73%) (0.118 FP/event)\n"
     ]
    },
    {
     "data": {
      "application/vnd.jupyter.widget-view+json": {
       "model_id": "",
       "version_major": 2,
       "version_minor": 0
      },
      "text/plain": [
       "HBox(children=(FloatProgress(value=0.0, description='Training', layout=Layout(flex='2'), max=1250.0, style=Pro…"
      ]
     },
     "metadata": {},
     "output_type": "display_data"
    },
    {
     "name": "stdout",
     "output_type": "stream",
     "text": [
      "Epoch 162: train=10.9526, val=11.2715, took 27.475 s\n",
      "  Validation Found 47767 of 54504, added 1065 (eff 87.64%) (0.107 FP/event)\n"
     ]
    },
    {
     "data": {
      "application/vnd.jupyter.widget-view+json": {
       "model_id": "",
       "version_major": 2,
       "version_minor": 0
      },
      "text/plain": [
       "HBox(children=(FloatProgress(value=0.0, description='Training', layout=Layout(flex='2'), max=1250.0, style=Pro…"
      ]
     },
     "metadata": {},
     "output_type": "display_data"
    },
    {
     "name": "stdout",
     "output_type": "stream",
     "text": [
      "Epoch 163: train=10.9538, val=11.2018, took 27.748 s\n",
      "  Validation Found 48014 of 54504, added 1336 (eff 88.09%) (0.134 FP/event)\n"
     ]
    },
    {
     "data": {
      "application/vnd.jupyter.widget-view+json": {
       "model_id": "",
       "version_major": 2,
       "version_minor": 0
      },
      "text/plain": [
       "HBox(children=(FloatProgress(value=0.0, description='Training', layout=Layout(flex='2'), max=1250.0, style=Pro…"
      ]
     },
     "metadata": {},
     "output_type": "display_data"
    },
    {
     "name": "stdout",
     "output_type": "stream",
     "text": [
      "Epoch 164: train=10.9531, val=11.1657, took 27.611 s\n",
      "  Validation Found 48007 of 54504, added 1196 (eff 88.08%) (0.12 FP/event)\n"
     ]
    },
    {
     "data": {
      "application/vnd.jupyter.widget-view+json": {
       "model_id": "",
       "version_major": 2,
       "version_minor": 0
      },
      "text/plain": [
       "HBox(children=(FloatProgress(value=0.0, description='Training', layout=Layout(flex='2'), max=1250.0, style=Pro…"
      ]
     },
     "metadata": {},
     "output_type": "display_data"
    },
    {
     "name": "stdout",
     "output_type": "stream",
     "text": [
      "Epoch 165: train=10.9451, val=11.209, took 27.639 s\n",
      "  Validation Found 47677 of 54504, added 1016 (eff 87.47%) (0.102 FP/event)\n"
     ]
    },
    {
     "data": {
      "application/vnd.jupyter.widget-view+json": {
       "model_id": "",
       "version_major": 2,
       "version_minor": 0
      },
      "text/plain": [
       "HBox(children=(FloatProgress(value=0.0, description='Training', layout=Layout(flex='2'), max=1250.0, style=Pro…"
      ]
     },
     "metadata": {},
     "output_type": "display_data"
    },
    {
     "name": "stdout",
     "output_type": "stream",
     "text": [
      "Epoch 166: train=10.9448, val=11.1361, took 27.421 s\n",
      "  Validation Found 47976 of 54504, added 1300 (eff 88.02%) (0.13 FP/event)\n"
     ]
    },
    {
     "data": {
      "application/vnd.jupyter.widget-view+json": {
       "model_id": "",
       "version_major": 2,
       "version_minor": 0
      },
      "text/plain": [
       "HBox(children=(FloatProgress(value=0.0, description='Training', layout=Layout(flex='2'), max=1250.0, style=Pro…"
      ]
     },
     "metadata": {},
     "output_type": "display_data"
    },
    {
     "name": "stdout",
     "output_type": "stream",
     "text": [
      "Epoch 167: train=10.9389, val=11.1824, took 27.517 s\n",
      "  Validation Found 47848 of 54504, added 1103 (eff 87.79%) (0.11 FP/event)\n"
     ]
    },
    {
     "data": {
      "application/vnd.jupyter.widget-view+json": {
       "model_id": "",
       "version_major": 2,
       "version_minor": 0
      },
      "text/plain": [
       "HBox(children=(FloatProgress(value=0.0, description='Training', layout=Layout(flex='2'), max=1250.0, style=Pro…"
      ]
     },
     "metadata": {},
     "output_type": "display_data"
    },
    {
     "name": "stdout",
     "output_type": "stream",
     "text": [
      "Epoch 168: train=10.9342, val=11.1937, took 27.507 s\n",
      "  Validation Found 47812 of 54504, added 1241 (eff 87.72%) (0.124 FP/event)\n"
     ]
    },
    {
     "data": {
      "application/vnd.jupyter.widget-view+json": {
       "model_id": "",
       "version_major": 2,
       "version_minor": 0
      },
      "text/plain": [
       "HBox(children=(FloatProgress(value=0.0, description='Training', layout=Layout(flex='2'), max=1250.0, style=Pro…"
      ]
     },
     "metadata": {},
     "output_type": "display_data"
    },
    {
     "name": "stdout",
     "output_type": "stream",
     "text": [
      "Epoch 169: train=10.9393, val=11.2174, took 27.473 s\n",
      "  Validation Found 47970 of 54504, added 1304 (eff 88.01%) (0.131 FP/event)\n"
     ]
    },
    {
     "data": {
      "application/vnd.jupyter.widget-view+json": {
       "model_id": "",
       "version_major": 2,
       "version_minor": 0
      },
      "text/plain": [
       "HBox(children=(FloatProgress(value=0.0, description='Training', layout=Layout(flex='2'), max=1250.0, style=Pro…"
      ]
     },
     "metadata": {},
     "output_type": "display_data"
    },
    {
     "name": "stdout",
     "output_type": "stream",
     "text": [
      "Epoch 170: train=10.9219, val=11.2343, took 27.415 s\n",
      "  Validation Found 47869 of 54504, added 1213 (eff 87.83%) (0.121 FP/event)\n"
     ]
    },
    {
     "data": {
      "application/vnd.jupyter.widget-view+json": {
       "model_id": "",
       "version_major": 2,
       "version_minor": 0
      },
      "text/plain": [
       "HBox(children=(FloatProgress(value=0.0, description='Training', layout=Layout(flex='2'), max=1250.0, style=Pro…"
      ]
     },
     "metadata": {},
     "output_type": "display_data"
    },
    {
     "name": "stdout",
     "output_type": "stream",
     "text": [
      "Epoch 171: train=10.9341, val=11.2568, took 27.912 s\n",
      "  Validation Found 47621 of 54504, added 1048 (eff 87.37%) (0.105 FP/event)\n"
     ]
    },
    {
     "data": {
      "application/vnd.jupyter.widget-view+json": {
       "model_id": "",
       "version_major": 2,
       "version_minor": 0
      },
      "text/plain": [
       "HBox(children=(FloatProgress(value=0.0, description='Training', layout=Layout(flex='2'), max=1250.0, style=Pro…"
      ]
     },
     "metadata": {},
     "output_type": "display_data"
    },
    {
     "name": "stdout",
     "output_type": "stream",
     "text": [
      "Epoch 172: train=10.9347, val=11.2765, took 27.765 s\n",
      "  Validation Found 47553 of 54504, added 1040 (eff 87.25%) (0.104 FP/event)\n"
     ]
    },
    {
     "data": {
      "application/vnd.jupyter.widget-view+json": {
       "model_id": "",
       "version_major": 2,
       "version_minor": 0
      },
      "text/plain": [
       "HBox(children=(FloatProgress(value=0.0, description='Training', layout=Layout(flex='2'), max=1250.0, style=Pro…"
      ]
     },
     "metadata": {},
     "output_type": "display_data"
    },
    {
     "name": "stdout",
     "output_type": "stream",
     "text": [
      "Epoch 173: train=10.9262, val=11.2444, took 27.441 s\n",
      "  Validation Found 47733 of 54504, added 1079 (eff 87.58%) (0.108 FP/event)\n"
     ]
    },
    {
     "data": {
      "application/vnd.jupyter.widget-view+json": {
       "model_id": "",
       "version_major": 2,
       "version_minor": 0
      },
      "text/plain": [
       "HBox(children=(FloatProgress(value=0.0, description='Training', layout=Layout(flex='2'), max=1250.0, style=Pro…"
      ]
     },
     "metadata": {},
     "output_type": "display_data"
    },
    {
     "name": "stdout",
     "output_type": "stream",
     "text": [
      "Epoch 174: train=10.9216, val=11.2094, took 27.649 s\n",
      "  Validation Found 47870 of 54504, added 1165 (eff 87.83%) (0.117 FP/event)\n"
     ]
    },
    {
     "data": {
      "application/vnd.jupyter.widget-view+json": {
       "model_id": "",
       "version_major": 2,
       "version_minor": 0
      },
      "text/plain": [
       "HBox(children=(FloatProgress(value=0.0, description='Training', layout=Layout(flex='2'), max=1250.0, style=Pro…"
      ]
     },
     "metadata": {},
     "output_type": "display_data"
    },
    {
     "name": "stdout",
     "output_type": "stream",
     "text": [
      "Epoch 175: train=10.9179, val=11.0771, took 27.686 s\n",
      "  Validation Found 48029 of 54504, added 1249 (eff 88.12%) (0.125 FP/event)\n"
     ]
    },
    {
     "data": {
      "application/vnd.jupyter.widget-view+json": {
       "model_id": "",
       "version_major": 2,
       "version_minor": 0
      },
      "text/plain": [
       "HBox(children=(FloatProgress(value=0.0, description='Training', layout=Layout(flex='2'), max=1250.0, style=Pro…"
      ]
     },
     "metadata": {},
     "output_type": "display_data"
    },
    {
     "name": "stdout",
     "output_type": "stream",
     "text": [
      "Epoch 176: train=10.9153, val=11.2113, took 27.429 s\n",
      "  Validation Found 47923 of 54504, added 1233 (eff 87.93%) (0.123 FP/event)\n"
     ]
    },
    {
     "data": {
      "application/vnd.jupyter.widget-view+json": {
       "model_id": "",
       "version_major": 2,
       "version_minor": 0
      },
      "text/plain": [
       "HBox(children=(FloatProgress(value=0.0, description='Training', layout=Layout(flex='2'), max=1250.0, style=Pro…"
      ]
     },
     "metadata": {},
     "output_type": "display_data"
    },
    {
     "name": "stdout",
     "output_type": "stream",
     "text": [
      "Epoch 177: train=10.9044, val=11.1503, took 27.51 s\n",
      "  Validation Found 48060 of 54504, added 1387 (eff 88.18%) (0.139 FP/event)\n"
     ]
    },
    {
     "data": {
      "application/vnd.jupyter.widget-view+json": {
       "model_id": "",
       "version_major": 2,
       "version_minor": 0
      },
      "text/plain": [
       "HBox(children=(FloatProgress(value=0.0, description='Training', layout=Layout(flex='2'), max=1250.0, style=Pro…"
      ]
     },
     "metadata": {},
     "output_type": "display_data"
    },
    {
     "name": "stdout",
     "output_type": "stream",
     "text": [
      "Epoch 178: train=10.9105, val=11.1906, took 27.357 s\n",
      "  Validation Found 47882 of 54504, added 1211 (eff 87.85%) (0.121 FP/event)\n"
     ]
    },
    {
     "data": {
      "application/vnd.jupyter.widget-view+json": {
       "model_id": "",
       "version_major": 2,
       "version_minor": 0
      },
      "text/plain": [
       "HBox(children=(FloatProgress(value=0.0, description='Training', layout=Layout(flex='2'), max=1250.0, style=Pro…"
      ]
     },
     "metadata": {},
     "output_type": "display_data"
    },
    {
     "name": "stdout",
     "output_type": "stream",
     "text": [
      "Epoch 179: train=10.8942, val=11.1344, took 27.515 s\n",
      "  Validation Found 47872 of 54504, added 1274 (eff 87.83%) (0.128 FP/event)\n"
     ]
    },
    {
     "data": {
      "application/vnd.jupyter.widget-view+json": {
       "model_id": "",
       "version_major": 2,
       "version_minor": 0
      },
      "text/plain": [
       "HBox(children=(FloatProgress(value=0.0, description='Training', layout=Layout(flex='2'), max=1250.0, style=Pro…"
      ]
     },
     "metadata": {},
     "output_type": "display_data"
    },
    {
     "name": "stdout",
     "output_type": "stream",
     "text": [
      "Epoch 180: train=10.9015, val=11.1373, took 27.605 s\n",
      "  Validation Found 47892 of 54504, added 1206 (eff 87.87%) (0.121 FP/event)\n"
     ]
    },
    {
     "data": {
      "application/vnd.jupyter.widget-view+json": {
       "model_id": "",
       "version_major": 2,
       "version_minor": 0
      },
      "text/plain": [
       "HBox(children=(FloatProgress(value=0.0, description='Training', layout=Layout(flex='2'), max=1250.0, style=Pro…"
      ]
     },
     "metadata": {},
     "output_type": "display_data"
    },
    {
     "name": "stdout",
     "output_type": "stream",
     "text": [
      "Epoch 181: train=10.8937, val=11.2379, took 27.427 s\n",
      "  Validation Found 47604 of 54504, added 995 (eff 87.34%) (0.0996 FP/event)\n"
     ]
    },
    {
     "data": {
      "application/vnd.jupyter.widget-view+json": {
       "model_id": "",
       "version_major": 2,
       "version_minor": 0
      },
      "text/plain": [
       "HBox(children=(FloatProgress(value=0.0, description='Training', layout=Layout(flex='2'), max=1250.0, style=Pro…"
      ]
     },
     "metadata": {},
     "output_type": "display_data"
    },
    {
     "name": "stdout",
     "output_type": "stream",
     "text": [
      "Epoch 182: train=10.8972, val=11.1424, took 27.411 s\n",
      "  Validation Found 47995 of 54504, added 1310 (eff 88.06%) (0.131 FP/event)\n"
     ]
    },
    {
     "data": {
      "application/vnd.jupyter.widget-view+json": {
       "model_id": "",
       "version_major": 2,
       "version_minor": 0
      },
      "text/plain": [
       "HBox(children=(FloatProgress(value=0.0, description='Training', layout=Layout(flex='2'), max=1250.0, style=Pro…"
      ]
     },
     "metadata": {},
     "output_type": "display_data"
    },
    {
     "name": "stdout",
     "output_type": "stream",
     "text": [
      "Epoch 183: train=10.8849, val=11.1859, took 27.514 s\n",
      "  Validation Found 47929 of 54504, added 1210 (eff 87.94%) (0.121 FP/event)\n"
     ]
    },
    {
     "data": {
      "application/vnd.jupyter.widget-view+json": {
       "model_id": "",
       "version_major": 2,
       "version_minor": 0
      },
      "text/plain": [
       "HBox(children=(FloatProgress(value=0.0, description='Training', layout=Layout(flex='2'), max=1250.0, style=Pro…"
      ]
     },
     "metadata": {},
     "output_type": "display_data"
    },
    {
     "name": "stdout",
     "output_type": "stream",
     "text": [
      "Epoch 184: train=10.8897, val=11.1822, took 27.518 s\n",
      "  Validation Found 47956 of 54504, added 1235 (eff 87.99%) (0.124 FP/event)\n"
     ]
    },
    {
     "data": {
      "application/vnd.jupyter.widget-view+json": {
       "model_id": "",
       "version_major": 2,
       "version_minor": 0
      },
      "text/plain": [
       "HBox(children=(FloatProgress(value=0.0, description='Training', layout=Layout(flex='2'), max=1250.0, style=Pro…"
      ]
     },
     "metadata": {},
     "output_type": "display_data"
    },
    {
     "name": "stdout",
     "output_type": "stream",
     "text": [
      "Epoch 185: train=10.8827, val=11.2335, took 27.219 s\n",
      "  Validation Found 47681 of 54504, added 1157 (eff 87.48%) (0.116 FP/event)\n"
     ]
    },
    {
     "data": {
      "application/vnd.jupyter.widget-view+json": {
       "model_id": "",
       "version_major": 2,
       "version_minor": 0
      },
      "text/plain": [
       "HBox(children=(FloatProgress(value=0.0, description='Training', layout=Layout(flex='2'), max=1250.0, style=Pro…"
      ]
     },
     "metadata": {},
     "output_type": "display_data"
    },
    {
     "name": "stdout",
     "output_type": "stream",
     "text": [
      "Epoch 186: train=10.8802, val=11.2009, took 27.598 s\n",
      "  Validation Found 47604 of 54504, added 1058 (eff 87.34%) (0.106 FP/event)\n"
     ]
    },
    {
     "data": {
      "application/vnd.jupyter.widget-view+json": {
       "model_id": "",
       "version_major": 2,
       "version_minor": 0
      },
      "text/plain": [
       "HBox(children=(FloatProgress(value=0.0, description='Training', layout=Layout(flex='2'), max=1250.0, style=Pro…"
      ]
     },
     "metadata": {},
     "output_type": "display_data"
    },
    {
     "name": "stdout",
     "output_type": "stream",
     "text": [
      "Epoch 187: train=10.8809, val=11.1222, took 27.469 s\n",
      "  Validation Found 47756 of 54504, added 1135 (eff 87.62%) (0.114 FP/event)\n"
     ]
    },
    {
     "data": {
      "application/vnd.jupyter.widget-view+json": {
       "model_id": "",
       "version_major": 2,
       "version_minor": 0
      },
      "text/plain": [
       "HBox(children=(FloatProgress(value=0.0, description='Training', layout=Layout(flex='2'), max=1250.0, style=Pro…"
      ]
     },
     "metadata": {},
     "output_type": "display_data"
    },
    {
     "name": "stdout",
     "output_type": "stream",
     "text": [
      "Epoch 188: train=10.8792, val=11.1201, took 27.485 s\n",
      "  Validation Found 48013 of 54504, added 1326 (eff 88.09%) (0.133 FP/event)\n"
     ]
    },
    {
     "data": {
      "application/vnd.jupyter.widget-view+json": {
       "model_id": "",
       "version_major": 2,
       "version_minor": 0
      },
      "text/plain": [
       "HBox(children=(FloatProgress(value=0.0, description='Training', layout=Layout(flex='2'), max=1250.0, style=Pro…"
      ]
     },
     "metadata": {},
     "output_type": "display_data"
    },
    {
     "name": "stdout",
     "output_type": "stream",
     "text": [
      "Epoch 189: train=10.8716, val=11.0148, took 27.654 s\n",
      "  Validation Found 48142 of 54504, added 1336 (eff 88.33%) (0.134 FP/event)\n"
     ]
    },
    {
     "data": {
      "application/vnd.jupyter.widget-view+json": {
       "model_id": "",
       "version_major": 2,
       "version_minor": 0
      },
      "text/plain": [
       "HBox(children=(FloatProgress(value=0.0, description='Training', layout=Layout(flex='2'), max=1250.0, style=Pro…"
      ]
     },
     "metadata": {},
     "output_type": "display_data"
    },
    {
     "name": "stdout",
     "output_type": "stream",
     "text": [
      "Epoch 190: train=10.8761, val=11.2288, took 27.473 s\n",
      "  Validation Found 47665 of 54504, added 1101 (eff 87.45%) (0.11 FP/event)\n"
     ]
    },
    {
     "data": {
      "application/vnd.jupyter.widget-view+json": {
       "model_id": "",
       "version_major": 2,
       "version_minor": 0
      },
      "text/plain": [
       "HBox(children=(FloatProgress(value=0.0, description='Training', layout=Layout(flex='2'), max=1250.0, style=Pro…"
      ]
     },
     "metadata": {},
     "output_type": "display_data"
    },
    {
     "name": "stdout",
     "output_type": "stream",
     "text": [
      "Epoch 191: train=10.8679, val=11.1373, took 27.813 s\n",
      "  Validation Found 47733 of 54504, added 1114 (eff 87.58%) (0.112 FP/event)\n"
     ]
    },
    {
     "data": {
      "application/vnd.jupyter.widget-view+json": {
       "model_id": "",
       "version_major": 2,
       "version_minor": 0
      },
      "text/plain": [
       "HBox(children=(FloatProgress(value=0.0, description='Training', layout=Layout(flex='2'), max=1250.0, style=Pro…"
      ]
     },
     "metadata": {},
     "output_type": "display_data"
    },
    {
     "name": "stdout",
     "output_type": "stream",
     "text": [
      "Epoch 192: train=10.8592, val=11.1383, took 27.496 s\n",
      "  Validation Found 47922 of 54504, added 1162 (eff 87.92%) (0.116 FP/event)\n"
     ]
    },
    {
     "data": {
      "application/vnd.jupyter.widget-view+json": {
       "model_id": "",
       "version_major": 2,
       "version_minor": 0
      },
      "text/plain": [
       "HBox(children=(FloatProgress(value=0.0, description='Training', layout=Layout(flex='2'), max=1250.0, style=Pro…"
      ]
     },
     "metadata": {},
     "output_type": "display_data"
    },
    {
     "name": "stdout",
     "output_type": "stream",
     "text": [
      "Epoch 193: train=10.8519, val=11.1401, took 27.589 s\n",
      "  Validation Found 47779 of 54504, added 1092 (eff 87.66%) (0.109 FP/event)\n"
     ]
    },
    {
     "data": {
      "application/vnd.jupyter.widget-view+json": {
       "model_id": "",
       "version_major": 2,
       "version_minor": 0
      },
      "text/plain": [
       "HBox(children=(FloatProgress(value=0.0, description='Training', layout=Layout(flex='2'), max=1250.0, style=Pro…"
      ]
     },
     "metadata": {},
     "output_type": "display_data"
    },
    {
     "name": "stdout",
     "output_type": "stream",
     "text": [
      "Epoch 194: train=10.8447, val=11.0091, took 27.549 s\n",
      "  Validation Found 48160 of 54504, added 1370 (eff 88.36%) (0.137 FP/event)\n"
     ]
    },
    {
     "data": {
      "application/vnd.jupyter.widget-view+json": {
       "model_id": "",
       "version_major": 2,
       "version_minor": 0
      },
      "text/plain": [
       "HBox(children=(FloatProgress(value=0.0, description='Training', layout=Layout(flex='2'), max=1250.0, style=Pro…"
      ]
     },
     "metadata": {},
     "output_type": "display_data"
    },
    {
     "name": "stdout",
     "output_type": "stream",
     "text": [
      "Epoch 195: train=10.8371, val=11.1303, took 27.502 s\n",
      "  Validation Found 48076 of 54504, added 1340 (eff 88.21%) (0.134 FP/event)\n"
     ]
    },
    {
     "data": {
      "application/vnd.jupyter.widget-view+json": {
       "model_id": "",
       "version_major": 2,
       "version_minor": 0
      },
      "text/plain": [
       "HBox(children=(FloatProgress(value=0.0, description='Training', layout=Layout(flex='2'), max=1250.0, style=Pro…"
      ]
     },
     "metadata": {},
     "output_type": "display_data"
    },
    {
     "name": "stdout",
     "output_type": "stream",
     "text": [
      "Epoch 196: train=10.8423, val=11.0231, took 27.626 s\n",
      "  Validation Found 48457 of 54504, added 1612 (eff 88.91%) (0.161 FP/event)\n"
     ]
    },
    {
     "data": {
      "application/vnd.jupyter.widget-view+json": {
       "model_id": "",
       "version_major": 2,
       "version_minor": 0
      },
      "text/plain": [
       "HBox(children=(FloatProgress(value=0.0, description='Training', layout=Layout(flex='2'), max=1250.0, style=Pro…"
      ]
     },
     "metadata": {},
     "output_type": "display_data"
    },
    {
     "name": "stdout",
     "output_type": "stream",
     "text": [
      "Epoch 197: train=10.8323, val=11.1122, took 27.687 s\n",
      "  Validation Found 47796 of 54504, added 1148 (eff 87.69%) (0.115 FP/event)\n"
     ]
    },
    {
     "data": {
      "application/vnd.jupyter.widget-view+json": {
       "model_id": "",
       "version_major": 2,
       "version_minor": 0
      },
      "text/plain": [
       "HBox(children=(FloatProgress(value=0.0, description='Training', layout=Layout(flex='2'), max=1250.0, style=Pro…"
      ]
     },
     "metadata": {},
     "output_type": "display_data"
    },
    {
     "name": "stdout",
     "output_type": "stream",
     "text": [
      "Epoch 198: train=10.8298, val=11.0097, took 27.572 s\n",
      "  Validation Found 47948 of 54504, added 1228 (eff 87.97%) (0.123 FP/event)\n"
     ]
    },
    {
     "data": {
      "application/vnd.jupyter.widget-view+json": {
       "model_id": "",
       "version_major": 2,
       "version_minor": 0
      },
      "text/plain": [
       "HBox(children=(FloatProgress(value=0.0, description='Training', layout=Layout(flex='2'), max=1250.0, style=Pro…"
      ]
     },
     "metadata": {},
     "output_type": "display_data"
    },
    {
     "name": "stdout",
     "output_type": "stream",
     "text": [
      "Epoch 199: train=10.8182, val=11.1987, took 27.588 s\n",
      "  Validation Found 47722 of 54504, added 1196 (eff 87.56%) (0.12 FP/event)\n"
     ]
    },
    {
     "data": {
      "application/vnd.jupyter.widget-view+json": {
       "model_id": "",
       "version_major": 2,
       "version_minor": 0
      },
      "text/plain": [
       "HBox(children=(FloatProgress(value=0.0, description='Training', layout=Layout(flex='2'), max=1250.0, style=Pro…"
      ]
     },
     "metadata": {},
     "output_type": "display_data"
    },
    {
     "name": "stdout",
     "output_type": "stream",
     "text": [
      "Epoch 200: train=10.822, val=11.0284, took 27.555 s\n",
      "  Validation Found 48061 of 54504, added 1274 (eff 88.18%) (0.128 FP/event)\n"
     ]
    },
    {
     "data": {
      "application/vnd.jupyter.widget-view+json": {
       "model_id": "",
       "version_major": 2,
       "version_minor": 0
      },
      "text/plain": [
       "HBox(children=(FloatProgress(value=0.0, description='Training', layout=Layout(flex='2'), max=1250.0, style=Pro…"
      ]
     },
     "metadata": {},
     "output_type": "display_data"
    },
    {
     "name": "stdout",
     "output_type": "stream",
     "text": [
      "Epoch 201: train=10.8116, val=11.1572, took 27.606 s\n",
      "  Validation Found 47977 of 54504, added 1314 (eff 88.02%) (0.132 FP/event)\n"
     ]
    },
    {
     "data": {
      "application/vnd.jupyter.widget-view+json": {
       "model_id": "",
       "version_major": 2,
       "version_minor": 0
      },
      "text/plain": [
       "HBox(children=(FloatProgress(value=0.0, description='Training', layout=Layout(flex='2'), max=1250.0, style=Pro…"
      ]
     },
     "metadata": {},
     "output_type": "display_data"
    },
    {
     "name": "stdout",
     "output_type": "stream",
     "text": [
      "Epoch 202: train=10.8187, val=11.0568, took 27.516 s\n",
      "  Validation Found 48017 of 54504, added 1224 (eff 88.10%) (0.123 FP/event)\n"
     ]
    },
    {
     "data": {
      "application/vnd.jupyter.widget-view+json": {
       "model_id": "",
       "version_major": 2,
       "version_minor": 0
      },
      "text/plain": [
       "HBox(children=(FloatProgress(value=0.0, description='Training', layout=Layout(flex='2'), max=1250.0, style=Pro…"
      ]
     },
     "metadata": {},
     "output_type": "display_data"
    },
    {
     "name": "stdout",
     "output_type": "stream",
     "text": [
      "Epoch 203: train=10.811, val=11.147, took 27.893 s\n",
      "  Validation Found 47893 of 54504, added 1192 (eff 87.87%) (0.119 FP/event)\n"
     ]
    },
    {
     "data": {
      "application/vnd.jupyter.widget-view+json": {
       "model_id": "",
       "version_major": 2,
       "version_minor": 0
      },
      "text/plain": [
       "HBox(children=(FloatProgress(value=0.0, description='Training', layout=Layout(flex='2'), max=1250.0, style=Pro…"
      ]
     },
     "metadata": {},
     "output_type": "display_data"
    },
    {
     "name": "stdout",
     "output_type": "stream",
     "text": [
      "Epoch 204: train=10.8025, val=11.0678, took 27.399 s\n",
      "  Validation Found 48201 of 54504, added 1387 (eff 88.44%) (0.139 FP/event)\n"
     ]
    },
    {
     "data": {
      "application/vnd.jupyter.widget-view+json": {
       "model_id": "",
       "version_major": 2,
       "version_minor": 0
      },
      "text/plain": [
       "HBox(children=(FloatProgress(value=0.0, description='Training', layout=Layout(flex='2'), max=1250.0, style=Pro…"
      ]
     },
     "metadata": {},
     "output_type": "display_data"
    },
    {
     "name": "stdout",
     "output_type": "stream",
     "text": [
      "Epoch 205: train=10.8102, val=11.1228, took 27.437 s\n",
      "  Validation Found 47762 of 54504, added 1119 (eff 87.63%) (0.112 FP/event)\n"
     ]
    },
    {
     "data": {
      "application/vnd.jupyter.widget-view+json": {
       "model_id": "",
       "version_major": 2,
       "version_minor": 0
      },
      "text/plain": [
       "HBox(children=(FloatProgress(value=0.0, description='Training', layout=Layout(flex='2'), max=1250.0, style=Pro…"
      ]
     },
     "metadata": {},
     "output_type": "display_data"
    },
    {
     "name": "stdout",
     "output_type": "stream",
     "text": [
      "Epoch 206: train=10.8071, val=11.0753, took 27.586 s\n",
      "  Validation Found 48034 of 54504, added 1401 (eff 88.13%) (0.14 FP/event)\n"
     ]
    },
    {
     "data": {
      "application/vnd.jupyter.widget-view+json": {
       "model_id": "",
       "version_major": 2,
       "version_minor": 0
      },
      "text/plain": [
       "HBox(children=(FloatProgress(value=0.0, description='Training', layout=Layout(flex='2'), max=1250.0, style=Pro…"
      ]
     },
     "metadata": {},
     "output_type": "display_data"
    },
    {
     "name": "stdout",
     "output_type": "stream",
     "text": [
      "Epoch 207: train=10.8061, val=11.0722, took 27.233 s\n",
      "  Validation Found 47984 of 54504, added 1158 (eff 88.04%) (0.116 FP/event)\n"
     ]
    },
    {
     "data": {
      "application/vnd.jupyter.widget-view+json": {
       "model_id": "",
       "version_major": 2,
       "version_minor": 0
      },
      "text/plain": [
       "HBox(children=(FloatProgress(value=0.0, description='Training', layout=Layout(flex='2'), max=1250.0, style=Pro…"
      ]
     },
     "metadata": {},
     "output_type": "display_data"
    },
    {
     "name": "stdout",
     "output_type": "stream",
     "text": [
      "Epoch 208: train=10.8032, val=11.0947, took 27.54 s\n",
      "  Validation Found 48107 of 54504, added 1335 (eff 88.26%) (0.134 FP/event)\n"
     ]
    },
    {
     "data": {
      "application/vnd.jupyter.widget-view+json": {
       "model_id": "",
       "version_major": 2,
       "version_minor": 0
      },
      "text/plain": [
       "HBox(children=(FloatProgress(value=0.0, description='Training', layout=Layout(flex='2'), max=1250.0, style=Pro…"
      ]
     },
     "metadata": {},
     "output_type": "display_data"
    },
    {
     "name": "stdout",
     "output_type": "stream",
     "text": [
      "Epoch 209: train=10.8038, val=11.2139, took 27.546 s\n",
      "  Validation Found 47630 of 54504, added 1024 (eff 87.39%) (0.103 FP/event)\n"
     ]
    },
    {
     "data": {
      "application/vnd.jupyter.widget-view+json": {
       "model_id": "",
       "version_major": 2,
       "version_minor": 0
      },
      "text/plain": [
       "HBox(children=(FloatProgress(value=0.0, description='Training', layout=Layout(flex='2'), max=1250.0, style=Pro…"
      ]
     },
     "metadata": {},
     "output_type": "display_data"
    },
    {
     "name": "stdout",
     "output_type": "stream",
     "text": [
      "Epoch 210: train=10.7991, val=11.107, took 27.565 s\n",
      "  Validation Found 47895 of 54504, added 1161 (eff 87.87%) (0.116 FP/event)\n"
     ]
    },
    {
     "data": {
      "application/vnd.jupyter.widget-view+json": {
       "model_id": "",
       "version_major": 2,
       "version_minor": 0
      },
      "text/plain": [
       "HBox(children=(FloatProgress(value=0.0, description='Training', layout=Layout(flex='2'), max=1250.0, style=Pro…"
      ]
     },
     "metadata": {},
     "output_type": "display_data"
    },
    {
     "name": "stdout",
     "output_type": "stream",
     "text": [
      "Epoch 211: train=10.7956, val=11.1018, took 27.222 s\n",
      "  Validation Found 47971 of 54504, added 1212 (eff 88.01%) (0.121 FP/event)\n"
     ]
    },
    {
     "data": {
      "application/vnd.jupyter.widget-view+json": {
       "model_id": "",
       "version_major": 2,
       "version_minor": 0
      },
      "text/plain": [
       "HBox(children=(FloatProgress(value=0.0, description='Training', layout=Layout(flex='2'), max=1250.0, style=Pro…"
      ]
     },
     "metadata": {},
     "output_type": "display_data"
    },
    {
     "name": "stdout",
     "output_type": "stream",
     "text": [
      "Epoch 212: train=10.7959, val=10.9969, took 27.229 s\n",
      "  Validation Found 48024 of 54504, added 1185 (eff 88.11%) (0.119 FP/event)\n"
     ]
    },
    {
     "data": {
      "application/vnd.jupyter.widget-view+json": {
       "model_id": "",
       "version_major": 2,
       "version_minor": 0
      },
      "text/plain": [
       "HBox(children=(FloatProgress(value=0.0, description='Training', layout=Layout(flex='2'), max=1250.0, style=Pro…"
      ]
     },
     "metadata": {},
     "output_type": "display_data"
    },
    {
     "name": "stdout",
     "output_type": "stream",
     "text": [
      "Epoch 213: train=10.7957, val=11.1309, took 27.278 s\n",
      "  Validation Found 47955 of 54504, added 1177 (eff 87.98%) (0.118 FP/event)\n"
     ]
    },
    {
     "data": {
      "application/vnd.jupyter.widget-view+json": {
       "model_id": "",
       "version_major": 2,
       "version_minor": 0
      },
      "text/plain": [
       "HBox(children=(FloatProgress(value=0.0, description='Training', layout=Layout(flex='2'), max=1250.0, style=Pro…"
      ]
     },
     "metadata": {},
     "output_type": "display_data"
    },
    {
     "name": "stdout",
     "output_type": "stream",
     "text": [
      "Epoch 214: train=10.7845, val=11.0891, took 27.23 s\n",
      "  Validation Found 47786 of 54504, added 1168 (eff 87.67%) (0.117 FP/event)\n"
     ]
    },
    {
     "data": {
      "application/vnd.jupyter.widget-view+json": {
       "model_id": "",
       "version_major": 2,
       "version_minor": 0
      },
      "text/plain": [
       "HBox(children=(FloatProgress(value=0.0, description='Training', layout=Layout(flex='2'), max=1250.0, style=Pro…"
      ]
     },
     "metadata": {},
     "output_type": "display_data"
    },
    {
     "name": "stdout",
     "output_type": "stream",
     "text": [
      "Epoch 215: train=10.7929, val=11.0332, took 27.633 s\n",
      "  Validation Found 47972 of 54504, added 1166 (eff 88.02%) (0.117 FP/event)\n"
     ]
    },
    {
     "data": {
      "application/vnd.jupyter.widget-view+json": {
       "model_id": "",
       "version_major": 2,
       "version_minor": 0
      },
      "text/plain": [
       "HBox(children=(FloatProgress(value=0.0, description='Training', layout=Layout(flex='2'), max=1250.0, style=Pro…"
      ]
     },
     "metadata": {},
     "output_type": "display_data"
    },
    {
     "name": "stdout",
     "output_type": "stream",
     "text": [
      "Epoch 216: train=10.7808, val=11.131, took 27.429 s\n",
      "  Validation Found 47909 of 54504, added 1128 (eff 87.90%) (0.113 FP/event)\n"
     ]
    },
    {
     "data": {
      "application/vnd.jupyter.widget-view+json": {
       "model_id": "",
       "version_major": 2,
       "version_minor": 0
      },
      "text/plain": [
       "HBox(children=(FloatProgress(value=0.0, description='Training', layout=Layout(flex='2'), max=1250.0, style=Pro…"
      ]
     },
     "metadata": {},
     "output_type": "display_data"
    },
    {
     "name": "stdout",
     "output_type": "stream",
     "text": [
      "Epoch 217: train=10.7827, val=11.0399, took 27.585 s\n",
      "  Validation Found 48014 of 54504, added 1291 (eff 88.09%) (0.129 FP/event)\n"
     ]
    },
    {
     "data": {
      "application/vnd.jupyter.widget-view+json": {
       "model_id": "",
       "version_major": 2,
       "version_minor": 0
      },
      "text/plain": [
       "HBox(children=(FloatProgress(value=0.0, description='Training', layout=Layout(flex='2'), max=1250.0, style=Pro…"
      ]
     },
     "metadata": {},
     "output_type": "display_data"
    },
    {
     "name": "stdout",
     "output_type": "stream",
     "text": [
      "Epoch 218: train=10.7867, val=11.0847, took 27.502 s\n",
      "  Validation Found 47652 of 54504, added 1089 (eff 87.43%) (0.109 FP/event)\n"
     ]
    },
    {
     "data": {
      "application/vnd.jupyter.widget-view+json": {
       "model_id": "",
       "version_major": 2,
       "version_minor": 0
      },
      "text/plain": [
       "HBox(children=(FloatProgress(value=0.0, description='Training', layout=Layout(flex='2'), max=1250.0, style=Pro…"
      ]
     },
     "metadata": {},
     "output_type": "display_data"
    },
    {
     "name": "stdout",
     "output_type": "stream",
     "text": [
      "Epoch 219: train=10.7813, val=11.2885, took 27.548 s\n",
      "  Validation Found 47756 of 54504, added 1163 (eff 87.62%) (0.116 FP/event)\n",
      "\n"
     ]
    },
    {
     "data": {
      "application/javascript": [
       "/* Put everything inside the global mpl namespace */\n",
       "window.mpl = {};\n",
       "\n",
       "\n",
       "mpl.get_websocket_type = function() {\n",
       "    if (typeof(WebSocket) !== 'undefined') {\n",
       "        return WebSocket;\n",
       "    } else if (typeof(MozWebSocket) !== 'undefined') {\n",
       "        return MozWebSocket;\n",
       "    } else {\n",
       "        alert('Your browser does not have WebSocket support. ' +\n",
       "              'Please try Chrome, Safari or Firefox ≥ 6. ' +\n",
       "              'Firefox 4 and 5 are also supported but you ' +\n",
       "              'have to enable WebSockets in about:config.');\n",
       "    };\n",
       "}\n",
       "\n",
       "mpl.figure = function(figure_id, websocket, ondownload, parent_element) {\n",
       "    this.id = figure_id;\n",
       "\n",
       "    this.ws = websocket;\n",
       "\n",
       "    this.supports_binary = (this.ws.binaryType != undefined);\n",
       "\n",
       "    if (!this.supports_binary) {\n",
       "        var warnings = document.getElementById(\"mpl-warnings\");\n",
       "        if (warnings) {\n",
       "            warnings.style.display = 'block';\n",
       "            warnings.textContent = (\n",
       "                \"This browser does not support binary websocket messages. \" +\n",
       "                    \"Performance may be slow.\");\n",
       "        }\n",
       "    }\n",
       "\n",
       "    this.imageObj = new Image();\n",
       "\n",
       "    this.context = undefined;\n",
       "    this.message = undefined;\n",
       "    this.canvas = undefined;\n",
       "    this.rubberband_canvas = undefined;\n",
       "    this.rubberband_context = undefined;\n",
       "    this.format_dropdown = undefined;\n",
       "\n",
       "    this.image_mode = 'full';\n",
       "\n",
       "    this.root = $('<div/>');\n",
       "    this._root_extra_style(this.root)\n",
       "    this.root.attr('style', 'display: inline-block');\n",
       "\n",
       "    $(parent_element).append(this.root);\n",
       "\n",
       "    this._init_header(this);\n",
       "    this._init_canvas(this);\n",
       "    this._init_toolbar(this);\n",
       "\n",
       "    var fig = this;\n",
       "\n",
       "    this.waiting = false;\n",
       "\n",
       "    this.ws.onopen =  function () {\n",
       "            fig.send_message(\"supports_binary\", {value: fig.supports_binary});\n",
       "            fig.send_message(\"send_image_mode\", {});\n",
       "            if (mpl.ratio != 1) {\n",
       "                fig.send_message(\"set_dpi_ratio\", {'dpi_ratio': mpl.ratio});\n",
       "            }\n",
       "            fig.send_message(\"refresh\", {});\n",
       "        }\n",
       "\n",
       "    this.imageObj.onload = function() {\n",
       "            if (fig.image_mode == 'full') {\n",
       "                // Full images could contain transparency (where diff images\n",
       "                // almost always do), so we need to clear the canvas so that\n",
       "                // there is no ghosting.\n",
       "                fig.context.clearRect(0, 0, fig.canvas.width, fig.canvas.height);\n",
       "            }\n",
       "            fig.context.drawImage(fig.imageObj, 0, 0);\n",
       "        };\n",
       "\n",
       "    this.imageObj.onunload = function() {\n",
       "        fig.ws.close();\n",
       "    }\n",
       "\n",
       "    this.ws.onmessage = this._make_on_message_function(this);\n",
       "\n",
       "    this.ondownload = ondownload;\n",
       "}\n",
       "\n",
       "mpl.figure.prototype._init_header = function() {\n",
       "    var titlebar = $(\n",
       "        '<div class=\"ui-dialog-titlebar ui-widget-header ui-corner-all ' +\n",
       "        'ui-helper-clearfix\"/>');\n",
       "    var titletext = $(\n",
       "        '<div class=\"ui-dialog-title\" style=\"width: 100%; ' +\n",
       "        'text-align: center; padding: 3px;\"/>');\n",
       "    titlebar.append(titletext)\n",
       "    this.root.append(titlebar);\n",
       "    this.header = titletext[0];\n",
       "}\n",
       "\n",
       "\n",
       "\n",
       "mpl.figure.prototype._canvas_extra_style = function(canvas_div) {\n",
       "\n",
       "}\n",
       "\n",
       "\n",
       "mpl.figure.prototype._root_extra_style = function(canvas_div) {\n",
       "\n",
       "}\n",
       "\n",
       "mpl.figure.prototype._init_canvas = function() {\n",
       "    var fig = this;\n",
       "\n",
       "    var canvas_div = $('<div/>');\n",
       "\n",
       "    canvas_div.attr('style', 'position: relative; clear: both; outline: 0');\n",
       "\n",
       "    function canvas_keyboard_event(event) {\n",
       "        return fig.key_event(event, event['data']);\n",
       "    }\n",
       "\n",
       "    canvas_div.keydown('key_press', canvas_keyboard_event);\n",
       "    canvas_div.keyup('key_release', canvas_keyboard_event);\n",
       "    this.canvas_div = canvas_div\n",
       "    this._canvas_extra_style(canvas_div)\n",
       "    this.root.append(canvas_div);\n",
       "\n",
       "    var canvas = $('<canvas/>');\n",
       "    canvas.addClass('mpl-canvas');\n",
       "    canvas.attr('style', \"left: 0; top: 0; z-index: 0; outline: 0\")\n",
       "\n",
       "    this.canvas = canvas[0];\n",
       "    this.context = canvas[0].getContext(\"2d\");\n",
       "\n",
       "    var backingStore = this.context.backingStorePixelRatio ||\n",
       "\tthis.context.webkitBackingStorePixelRatio ||\n",
       "\tthis.context.mozBackingStorePixelRatio ||\n",
       "\tthis.context.msBackingStorePixelRatio ||\n",
       "\tthis.context.oBackingStorePixelRatio ||\n",
       "\tthis.context.backingStorePixelRatio || 1;\n",
       "\n",
       "    mpl.ratio = (window.devicePixelRatio || 1) / backingStore;\n",
       "\n",
       "    var rubberband = $('<canvas/>');\n",
       "    rubberband.attr('style', \"position: absolute; left: 0; top: 0; z-index: 1;\")\n",
       "\n",
       "    var pass_mouse_events = true;\n",
       "\n",
       "    canvas_div.resizable({\n",
       "        start: function(event, ui) {\n",
       "            pass_mouse_events = false;\n",
       "        },\n",
       "        resize: function(event, ui) {\n",
       "            fig.request_resize(ui.size.width, ui.size.height);\n",
       "        },\n",
       "        stop: function(event, ui) {\n",
       "            pass_mouse_events = true;\n",
       "            fig.request_resize(ui.size.width, ui.size.height);\n",
       "        },\n",
       "    });\n",
       "\n",
       "    function mouse_event_fn(event) {\n",
       "        if (pass_mouse_events)\n",
       "            return fig.mouse_event(event, event['data']);\n",
       "    }\n",
       "\n",
       "    rubberband.mousedown('button_press', mouse_event_fn);\n",
       "    rubberband.mouseup('button_release', mouse_event_fn);\n",
       "    // Throttle sequential mouse events to 1 every 20ms.\n",
       "    rubberband.mousemove('motion_notify', mouse_event_fn);\n",
       "\n",
       "    rubberband.mouseenter('figure_enter', mouse_event_fn);\n",
       "    rubberband.mouseleave('figure_leave', mouse_event_fn);\n",
       "\n",
       "    canvas_div.on(\"wheel\", function (event) {\n",
       "        event = event.originalEvent;\n",
       "        event['data'] = 'scroll'\n",
       "        if (event.deltaY < 0) {\n",
       "            event.step = 1;\n",
       "        } else {\n",
       "            event.step = -1;\n",
       "        }\n",
       "        mouse_event_fn(event);\n",
       "    });\n",
       "\n",
       "    canvas_div.append(canvas);\n",
       "    canvas_div.append(rubberband);\n",
       "\n",
       "    this.rubberband = rubberband;\n",
       "    this.rubberband_canvas = rubberband[0];\n",
       "    this.rubberband_context = rubberband[0].getContext(\"2d\");\n",
       "    this.rubberband_context.strokeStyle = \"#000000\";\n",
       "\n",
       "    this._resize_canvas = function(width, height) {\n",
       "        // Keep the size of the canvas, canvas container, and rubber band\n",
       "        // canvas in synch.\n",
       "        canvas_div.css('width', width)\n",
       "        canvas_div.css('height', height)\n",
       "\n",
       "        canvas.attr('width', width * mpl.ratio);\n",
       "        canvas.attr('height', height * mpl.ratio);\n",
       "        canvas.attr('style', 'width: ' + width + 'px; height: ' + height + 'px;');\n",
       "\n",
       "        rubberband.attr('width', width);\n",
       "        rubberband.attr('height', height);\n",
       "    }\n",
       "\n",
       "    // Set the figure to an initial 600x600px, this will subsequently be updated\n",
       "    // upon first draw.\n",
       "    this._resize_canvas(600, 600);\n",
       "\n",
       "    // Disable right mouse context menu.\n",
       "    $(this.rubberband_canvas).bind(\"contextmenu\",function(e){\n",
       "        return false;\n",
       "    });\n",
       "\n",
       "    function set_focus () {\n",
       "        canvas.focus();\n",
       "        canvas_div.focus();\n",
       "    }\n",
       "\n",
       "    window.setTimeout(set_focus, 100);\n",
       "}\n",
       "\n",
       "mpl.figure.prototype._init_toolbar = function() {\n",
       "    var fig = this;\n",
       "\n",
       "    var nav_element = $('<div/>');\n",
       "    nav_element.attr('style', 'width: 100%');\n",
       "    this.root.append(nav_element);\n",
       "\n",
       "    // Define a callback function for later on.\n",
       "    function toolbar_event(event) {\n",
       "        return fig.toolbar_button_onclick(event['data']);\n",
       "    }\n",
       "    function toolbar_mouse_event(event) {\n",
       "        return fig.toolbar_button_onmouseover(event['data']);\n",
       "    }\n",
       "\n",
       "    for(var toolbar_ind in mpl.toolbar_items) {\n",
       "        var name = mpl.toolbar_items[toolbar_ind][0];\n",
       "        var tooltip = mpl.toolbar_items[toolbar_ind][1];\n",
       "        var image = mpl.toolbar_items[toolbar_ind][2];\n",
       "        var method_name = mpl.toolbar_items[toolbar_ind][3];\n",
       "\n",
       "        if (!name) {\n",
       "            // put a spacer in here.\n",
       "            continue;\n",
       "        }\n",
       "        var button = $('<button/>');\n",
       "        button.addClass('ui-button ui-widget ui-state-default ui-corner-all ' +\n",
       "                        'ui-button-icon-only');\n",
       "        button.attr('role', 'button');\n",
       "        button.attr('aria-disabled', 'false');\n",
       "        button.click(method_name, toolbar_event);\n",
       "        button.mouseover(tooltip, toolbar_mouse_event);\n",
       "\n",
       "        var icon_img = $('<span/>');\n",
       "        icon_img.addClass('ui-button-icon-primary ui-icon');\n",
       "        icon_img.addClass(image);\n",
       "        icon_img.addClass('ui-corner-all');\n",
       "\n",
       "        var tooltip_span = $('<span/>');\n",
       "        tooltip_span.addClass('ui-button-text');\n",
       "        tooltip_span.html(tooltip);\n",
       "\n",
       "        button.append(icon_img);\n",
       "        button.append(tooltip_span);\n",
       "\n",
       "        nav_element.append(button);\n",
       "    }\n",
       "\n",
       "    var fmt_picker_span = $('<span/>');\n",
       "\n",
       "    var fmt_picker = $('<select/>');\n",
       "    fmt_picker.addClass('mpl-toolbar-option ui-widget ui-widget-content');\n",
       "    fmt_picker_span.append(fmt_picker);\n",
       "    nav_element.append(fmt_picker_span);\n",
       "    this.format_dropdown = fmt_picker[0];\n",
       "\n",
       "    for (var ind in mpl.extensions) {\n",
       "        var fmt = mpl.extensions[ind];\n",
       "        var option = $(\n",
       "            '<option/>', {selected: fmt === mpl.default_extension}).html(fmt);\n",
       "        fmt_picker.append(option);\n",
       "    }\n",
       "\n",
       "    // Add hover states to the ui-buttons\n",
       "    $( \".ui-button\" ).hover(\n",
       "        function() { $(this).addClass(\"ui-state-hover\");},\n",
       "        function() { $(this).removeClass(\"ui-state-hover\");}\n",
       "    );\n",
       "\n",
       "    var status_bar = $('<span class=\"mpl-message\"/>');\n",
       "    nav_element.append(status_bar);\n",
       "    this.message = status_bar[0];\n",
       "}\n",
       "\n",
       "mpl.figure.prototype.request_resize = function(x_pixels, y_pixels) {\n",
       "    // Request matplotlib to resize the figure. Matplotlib will then trigger a resize in the client,\n",
       "    // which will in turn request a refresh of the image.\n",
       "    this.send_message('resize', {'width': x_pixels, 'height': y_pixels});\n",
       "}\n",
       "\n",
       "mpl.figure.prototype.send_message = function(type, properties) {\n",
       "    properties['type'] = type;\n",
       "    properties['figure_id'] = this.id;\n",
       "    this.ws.send(JSON.stringify(properties));\n",
       "}\n",
       "\n",
       "mpl.figure.prototype.send_draw_message = function() {\n",
       "    if (!this.waiting) {\n",
       "        this.waiting = true;\n",
       "        this.ws.send(JSON.stringify({type: \"draw\", figure_id: this.id}));\n",
       "    }\n",
       "}\n",
       "\n",
       "\n",
       "mpl.figure.prototype.handle_save = function(fig, msg) {\n",
       "    var format_dropdown = fig.format_dropdown;\n",
       "    var format = format_dropdown.options[format_dropdown.selectedIndex].value;\n",
       "    fig.ondownload(fig, format);\n",
       "}\n",
       "\n",
       "\n",
       "mpl.figure.prototype.handle_resize = function(fig, msg) {\n",
       "    var size = msg['size'];\n",
       "    if (size[0] != fig.canvas.width || size[1] != fig.canvas.height) {\n",
       "        fig._resize_canvas(size[0], size[1]);\n",
       "        fig.send_message(\"refresh\", {});\n",
       "    };\n",
       "}\n",
       "\n",
       "mpl.figure.prototype.handle_rubberband = function(fig, msg) {\n",
       "    var x0 = msg['x0'] / mpl.ratio;\n",
       "    var y0 = (fig.canvas.height - msg['y0']) / mpl.ratio;\n",
       "    var x1 = msg['x1'] / mpl.ratio;\n",
       "    var y1 = (fig.canvas.height - msg['y1']) / mpl.ratio;\n",
       "    x0 = Math.floor(x0) + 0.5;\n",
       "    y0 = Math.floor(y0) + 0.5;\n",
       "    x1 = Math.floor(x1) + 0.5;\n",
       "    y1 = Math.floor(y1) + 0.5;\n",
       "    var min_x = Math.min(x0, x1);\n",
       "    var min_y = Math.min(y0, y1);\n",
       "    var width = Math.abs(x1 - x0);\n",
       "    var height = Math.abs(y1 - y0);\n",
       "\n",
       "    fig.rubberband_context.clearRect(\n",
       "        0, 0, fig.canvas.width / mpl.ratio, fig.canvas.height / mpl.ratio);\n",
       "\n",
       "    fig.rubberband_context.strokeRect(min_x, min_y, width, height);\n",
       "}\n",
       "\n",
       "mpl.figure.prototype.handle_figure_label = function(fig, msg) {\n",
       "    // Updates the figure title.\n",
       "    fig.header.textContent = msg['label'];\n",
       "}\n",
       "\n",
       "mpl.figure.prototype.handle_cursor = function(fig, msg) {\n",
       "    var cursor = msg['cursor'];\n",
       "    switch(cursor)\n",
       "    {\n",
       "    case 0:\n",
       "        cursor = 'pointer';\n",
       "        break;\n",
       "    case 1:\n",
       "        cursor = 'default';\n",
       "        break;\n",
       "    case 2:\n",
       "        cursor = 'crosshair';\n",
       "        break;\n",
       "    case 3:\n",
       "        cursor = 'move';\n",
       "        break;\n",
       "    }\n",
       "    fig.rubberband_canvas.style.cursor = cursor;\n",
       "}\n",
       "\n",
       "mpl.figure.prototype.handle_message = function(fig, msg) {\n",
       "    fig.message.textContent = msg['message'];\n",
       "}\n",
       "\n",
       "mpl.figure.prototype.handle_draw = function(fig, msg) {\n",
       "    // Request the server to send over a new figure.\n",
       "    fig.send_draw_message();\n",
       "}\n",
       "\n",
       "mpl.figure.prototype.handle_image_mode = function(fig, msg) {\n",
       "    fig.image_mode = msg['mode'];\n",
       "}\n",
       "\n",
       "mpl.figure.prototype.updated_canvas_event = function() {\n",
       "    // Called whenever the canvas gets updated.\n",
       "    this.send_message(\"ack\", {});\n",
       "}\n",
       "\n",
       "// A function to construct a web socket function for onmessage handling.\n",
       "// Called in the figure constructor.\n",
       "mpl.figure.prototype._make_on_message_function = function(fig) {\n",
       "    return function socket_on_message(evt) {\n",
       "        if (evt.data instanceof Blob) {\n",
       "            /* FIXME: We get \"Resource interpreted as Image but\n",
       "             * transferred with MIME type text/plain:\" errors on\n",
       "             * Chrome.  But how to set the MIME type?  It doesn't seem\n",
       "             * to be part of the websocket stream */\n",
       "            evt.data.type = \"image/png\";\n",
       "\n",
       "            /* Free the memory for the previous frames */\n",
       "            if (fig.imageObj.src) {\n",
       "                (window.URL || window.webkitURL).revokeObjectURL(\n",
       "                    fig.imageObj.src);\n",
       "            }\n",
       "\n",
       "            fig.imageObj.src = (window.URL || window.webkitURL).createObjectURL(\n",
       "                evt.data);\n",
       "            fig.updated_canvas_event();\n",
       "            fig.waiting = false;\n",
       "            return;\n",
       "        }\n",
       "        else if (typeof evt.data === 'string' && evt.data.slice(0, 21) == \"data:image/png;base64\") {\n",
       "            fig.imageObj.src = evt.data;\n",
       "            fig.updated_canvas_event();\n",
       "            fig.waiting = false;\n",
       "            return;\n",
       "        }\n",
       "\n",
       "        var msg = JSON.parse(evt.data);\n",
       "        var msg_type = msg['type'];\n",
       "\n",
       "        // Call the  \"handle_{type}\" callback, which takes\n",
       "        // the figure and JSON message as its only arguments.\n",
       "        try {\n",
       "            var callback = fig[\"handle_\" + msg_type];\n",
       "        } catch (e) {\n",
       "            console.log(\"No handler for the '\" + msg_type + \"' message type: \", msg);\n",
       "            return;\n",
       "        }\n",
       "\n",
       "        if (callback) {\n",
       "            try {\n",
       "                // console.log(\"Handling '\" + msg_type + \"' message: \", msg);\n",
       "                callback(fig, msg);\n",
       "            } catch (e) {\n",
       "                console.log(\"Exception inside the 'handler_\" + msg_type + \"' callback:\", e, e.stack, msg);\n",
       "            }\n",
       "        }\n",
       "    };\n",
       "}\n",
       "\n",
       "// from http://stackoverflow.com/questions/1114465/getting-mouse-location-in-canvas\n",
       "mpl.findpos = function(e) {\n",
       "    //this section is from http://www.quirksmode.org/js/events_properties.html\n",
       "    var targ;\n",
       "    if (!e)\n",
       "        e = window.event;\n",
       "    if (e.target)\n",
       "        targ = e.target;\n",
       "    else if (e.srcElement)\n",
       "        targ = e.srcElement;\n",
       "    if (targ.nodeType == 3) // defeat Safari bug\n",
       "        targ = targ.parentNode;\n",
       "\n",
       "    // jQuery normalizes the pageX and pageY\n",
       "    // pageX,Y are the mouse positions relative to the document\n",
       "    // offset() returns the position of the element relative to the document\n",
       "    var x = e.pageX - $(targ).offset().left;\n",
       "    var y = e.pageY - $(targ).offset().top;\n",
       "\n",
       "    return {\"x\": x, \"y\": y};\n",
       "};\n",
       "\n",
       "/*\n",
       " * return a copy of an object with only non-object keys\n",
       " * we need this to avoid circular references\n",
       " * http://stackoverflow.com/a/24161582/3208463\n",
       " */\n",
       "function simpleKeys (original) {\n",
       "  return Object.keys(original).reduce(function (obj, key) {\n",
       "    if (typeof original[key] !== 'object')\n",
       "        obj[key] = original[key]\n",
       "    return obj;\n",
       "  }, {});\n",
       "}\n",
       "\n",
       "mpl.figure.prototype.mouse_event = function(event, name) {\n",
       "    var canvas_pos = mpl.findpos(event)\n",
       "\n",
       "    if (name === 'button_press')\n",
       "    {\n",
       "        this.canvas.focus();\n",
       "        this.canvas_div.focus();\n",
       "    }\n",
       "\n",
       "    var x = canvas_pos.x * mpl.ratio;\n",
       "    var y = canvas_pos.y * mpl.ratio;\n",
       "\n",
       "    this.send_message(name, {x: x, y: y, button: event.button,\n",
       "                             step: event.step,\n",
       "                             guiEvent: simpleKeys(event)});\n",
       "\n",
       "    /* This prevents the web browser from automatically changing to\n",
       "     * the text insertion cursor when the button is pressed.  We want\n",
       "     * to control all of the cursor setting manually through the\n",
       "     * 'cursor' event from matplotlib */\n",
       "    event.preventDefault();\n",
       "    return false;\n",
       "}\n",
       "\n",
       "mpl.figure.prototype._key_event_extra = function(event, name) {\n",
       "    // Handle any extra behaviour associated with a key event\n",
       "}\n",
       "\n",
       "mpl.figure.prototype.key_event = function(event, name) {\n",
       "\n",
       "    // Prevent repeat events\n",
       "    if (name == 'key_press')\n",
       "    {\n",
       "        if (event.which === this._key)\n",
       "            return;\n",
       "        else\n",
       "            this._key = event.which;\n",
       "    }\n",
       "    if (name == 'key_release')\n",
       "        this._key = null;\n",
       "\n",
       "    var value = '';\n",
       "    if (event.ctrlKey && event.which != 17)\n",
       "        value += \"ctrl+\";\n",
       "    if (event.altKey && event.which != 18)\n",
       "        value += \"alt+\";\n",
       "    if (event.shiftKey && event.which != 16)\n",
       "        value += \"shift+\";\n",
       "\n",
       "    value += 'k';\n",
       "    value += event.which.toString();\n",
       "\n",
       "    this._key_event_extra(event, name);\n",
       "\n",
       "    this.send_message(name, {key: value,\n",
       "                             guiEvent: simpleKeys(event)});\n",
       "    return false;\n",
       "}\n",
       "\n",
       "mpl.figure.prototype.toolbar_button_onclick = function(name) {\n",
       "    if (name == 'download') {\n",
       "        this.handle_save(this, null);\n",
       "    } else {\n",
       "        this.send_message(\"toolbar_button\", {name: name});\n",
       "    }\n",
       "};\n",
       "\n",
       "mpl.figure.prototype.toolbar_button_onmouseover = function(tooltip) {\n",
       "    this.message.textContent = tooltip;\n",
       "};\n",
       "mpl.toolbar_items = [[\"Home\", \"Reset original view\", \"fa fa-home icon-home\", \"home\"], [\"Back\", \"Back to previous view\", \"fa fa-arrow-left icon-arrow-left\", \"back\"], [\"Forward\", \"Forward to next view\", \"fa fa-arrow-right icon-arrow-right\", \"forward\"], [\"\", \"\", \"\", \"\"], [\"Pan\", \"Pan axes with left mouse, zoom with right\", \"fa fa-arrows icon-move\", \"pan\"], [\"Zoom\", \"Zoom to rectangle\", \"fa fa-square-o icon-check-empty\", \"zoom\"], [\"\", \"\", \"\", \"\"], [\"Download\", \"Download plot\", \"fa fa-floppy-o icon-save\", \"download\"]];\n",
       "\n",
       "mpl.extensions = [\"eps\", \"jpeg\", \"pdf\", \"png\", \"ps\", \"raw\", \"svg\", \"tif\"];\n",
       "\n",
       "mpl.default_extension = \"png\";var comm_websocket_adapter = function(comm) {\n",
       "    // Create a \"websocket\"-like object which calls the given IPython comm\n",
       "    // object with the appropriate methods. Currently this is a non binary\n",
       "    // socket, so there is still some room for performance tuning.\n",
       "    var ws = {};\n",
       "\n",
       "    ws.close = function() {\n",
       "        comm.close()\n",
       "    };\n",
       "    ws.send = function(m) {\n",
       "        //console.log('sending', m);\n",
       "        comm.send(m);\n",
       "    };\n",
       "    // Register the callback with on_msg.\n",
       "    comm.on_msg(function(msg) {\n",
       "        //console.log('receiving', msg['content']['data'], msg);\n",
       "        // Pass the mpl event to the overridden (by mpl) onmessage function.\n",
       "        ws.onmessage(msg['content']['data'])\n",
       "    });\n",
       "    return ws;\n",
       "}\n",
       "\n",
       "mpl.mpl_figure_comm = function(comm, msg) {\n",
       "    // This is the function which gets called when the mpl process\n",
       "    // starts-up an IPython Comm through the \"matplotlib\" channel.\n",
       "\n",
       "    var id = msg.content.data.id;\n",
       "    // Get hold of the div created by the display call when the Comm\n",
       "    // socket was opened in Python.\n",
       "    var element = $(\"#\" + id);\n",
       "    var ws_proxy = comm_websocket_adapter(comm)\n",
       "\n",
       "    function ondownload(figure, format) {\n",
       "        window.open(figure.imageObj.src);\n",
       "    }\n",
       "\n",
       "    var fig = new mpl.figure(id, ws_proxy,\n",
       "                           ondownload,\n",
       "                           element.get(0));\n",
       "\n",
       "    // Call onopen now - mpl needs it, as it is assuming we've passed it a real\n",
       "    // web socket which is closed, not our websocket->open comm proxy.\n",
       "    ws_proxy.onopen();\n",
       "\n",
       "    fig.parent_element = element.get(0);\n",
       "    fig.cell_info = mpl.find_output_cell(\"<div id='\" + id + \"'></div>\");\n",
       "    if (!fig.cell_info) {\n",
       "        console.error(\"Failed to find cell for figure\", id, fig);\n",
       "        return;\n",
       "    }\n",
       "\n",
       "    var output_index = fig.cell_info[2]\n",
       "    var cell = fig.cell_info[0];\n",
       "\n",
       "};\n",
       "\n",
       "mpl.figure.prototype.handle_close = function(fig, msg) {\n",
       "    var width = fig.canvas.width/mpl.ratio\n",
       "    fig.root.unbind('remove')\n",
       "\n",
       "    // Update the output cell to use the data from the current canvas.\n",
       "    fig.push_to_output();\n",
       "    var dataURL = fig.canvas.toDataURL();\n",
       "    // Re-enable the keyboard manager in IPython - without this line, in FF,\n",
       "    // the notebook keyboard shortcuts fail.\n",
       "    IPython.keyboard_manager.enable()\n",
       "    $(fig.parent_element).html('<img src=\"' + dataURL + '\" width=\"' + width + '\">');\n",
       "    fig.close_ws(fig, msg);\n",
       "}\n",
       "\n",
       "mpl.figure.prototype.close_ws = function(fig, msg){\n",
       "    fig.send_message('closing', msg);\n",
       "    // fig.ws.close()\n",
       "}\n",
       "\n",
       "mpl.figure.prototype.push_to_output = function(remove_interactive) {\n",
       "    // Turn the data on the canvas into data in the output cell.\n",
       "    var width = this.canvas.width/mpl.ratio\n",
       "    var dataURL = this.canvas.toDataURL();\n",
       "    this.cell_info[1]['text/html'] = '<img src=\"' + dataURL + '\" width=\"' + width + '\">';\n",
       "}\n",
       "\n",
       "mpl.figure.prototype.updated_canvas_event = function() {\n",
       "    // Tell IPython that the notebook contents must change.\n",
       "    IPython.notebook.set_dirty(true);\n",
       "    this.send_message(\"ack\", {});\n",
       "    var fig = this;\n",
       "    // Wait a second, then push the new image to the DOM so\n",
       "    // that it is saved nicely (might be nice to debounce this).\n",
       "    setTimeout(function () { fig.push_to_output() }, 1000);\n",
       "}\n",
       "\n",
       "mpl.figure.prototype._init_toolbar = function() {\n",
       "    var fig = this;\n",
       "\n",
       "    var nav_element = $('<div/>');\n",
       "    nav_element.attr('style', 'width: 100%');\n",
       "    this.root.append(nav_element);\n",
       "\n",
       "    // Define a callback function for later on.\n",
       "    function toolbar_event(event) {\n",
       "        return fig.toolbar_button_onclick(event['data']);\n",
       "    }\n",
       "    function toolbar_mouse_event(event) {\n",
       "        return fig.toolbar_button_onmouseover(event['data']);\n",
       "    }\n",
       "\n",
       "    for(var toolbar_ind in mpl.toolbar_items){\n",
       "        var name = mpl.toolbar_items[toolbar_ind][0];\n",
       "        var tooltip = mpl.toolbar_items[toolbar_ind][1];\n",
       "        var image = mpl.toolbar_items[toolbar_ind][2];\n",
       "        var method_name = mpl.toolbar_items[toolbar_ind][3];\n",
       "\n",
       "        if (!name) { continue; };\n",
       "\n",
       "        var button = $('<button class=\"btn btn-default\" href=\"#\" title=\"' + name + '\"><i class=\"fa ' + image + ' fa-lg\"></i></button>');\n",
       "        button.click(method_name, toolbar_event);\n",
       "        button.mouseover(tooltip, toolbar_mouse_event);\n",
       "        nav_element.append(button);\n",
       "    }\n",
       "\n",
       "    // Add the status bar.\n",
       "    var status_bar = $('<span class=\"mpl-message\" style=\"text-align:right; float: right;\"/>');\n",
       "    nav_element.append(status_bar);\n",
       "    this.message = status_bar[0];\n",
       "\n",
       "    // Add the close button to the window.\n",
       "    var buttongrp = $('<div class=\"btn-group inline pull-right\"></div>');\n",
       "    var button = $('<button class=\"btn btn-mini btn-primary\" href=\"#\" title=\"Stop Interaction\"><i class=\"fa fa-power-off icon-remove icon-large\"></i></button>');\n",
       "    button.click(function (evt) { fig.handle_close(fig, {}); } );\n",
       "    button.mouseover('Stop Interaction', toolbar_mouse_event);\n",
       "    buttongrp.append(button);\n",
       "    var titlebar = this.root.find($('.ui-dialog-titlebar'));\n",
       "    titlebar.prepend(buttongrp);\n",
       "}\n",
       "\n",
       "mpl.figure.prototype._root_extra_style = function(el){\n",
       "    var fig = this\n",
       "    el.on(\"remove\", function(){\n",
       "\tfig.close_ws(fig, {});\n",
       "    });\n",
       "}\n",
       "\n",
       "mpl.figure.prototype._canvas_extra_style = function(el){\n",
       "    // this is important to make the div 'focusable\n",
       "    el.attr('tabindex', 0)\n",
       "    // reach out to IPython and tell the keyboard manager to turn it's self\n",
       "    // off when our div gets focus\n",
       "\n",
       "    // location in version 3\n",
       "    if (IPython.notebook.keyboard_manager) {\n",
       "        IPython.notebook.keyboard_manager.register_events(el);\n",
       "    }\n",
       "    else {\n",
       "        // location in version 2\n",
       "        IPython.keyboard_manager.register_events(el);\n",
       "    }\n",
       "\n",
       "}\n",
       "\n",
       "mpl.figure.prototype._key_event_extra = function(event, name) {\n",
       "    var manager = IPython.notebook.keyboard_manager;\n",
       "    if (!manager)\n",
       "        manager = IPython.keyboard_manager;\n",
       "\n",
       "    // Check for shift+enter\n",
       "    if (event.shiftKey && event.which == 13) {\n",
       "        this.canvas_div.blur();\n",
       "        // select the cell after this one\n",
       "        var index = IPython.notebook.find_cell_index(this.cell_info[0]);\n",
       "        IPython.notebook.select(index + 1);\n",
       "    }\n",
       "}\n",
       "\n",
       "mpl.figure.prototype.handle_save = function(fig, msg) {\n",
       "    fig.ondownload(fig, null);\n",
       "}\n",
       "\n",
       "\n",
       "mpl.find_output_cell = function(html_output) {\n",
       "    // Return the cell and output element which can be found *uniquely* in the notebook.\n",
       "    // Note - this is a bit hacky, but it is done because the \"notebook_saving.Notebook\"\n",
       "    // IPython event is triggered only after the cells have been serialised, which for\n",
       "    // our purposes (turning an active figure into a static one), is too late.\n",
       "    var cells = IPython.notebook.get_cells();\n",
       "    var ncells = cells.length;\n",
       "    for (var i=0; i<ncells; i++) {\n",
       "        var cell = cells[i];\n",
       "        if (cell.cell_type === 'code'){\n",
       "            for (var j=0; j<cell.output_area.outputs.length; j++) {\n",
       "                var data = cell.output_area.outputs[j];\n",
       "                if (data.data) {\n",
       "                    // IPython >= 3 moved mimebundle to data attribute of output\n",
       "                    data = data.data;\n",
       "                }\n",
       "                if (data['text/html'] == html_output) {\n",
       "                    return [cell, data, j];\n",
       "                }\n",
       "            }\n",
       "        }\n",
       "    }\n",
       "}\n",
       "\n",
       "// Register the function which deals with the matplotlib target/channel.\n",
       "// The kernel may be null if the page has been refreshed.\n",
       "if (IPython.notebook.kernel != null) {\n",
       "    IPython.notebook.kernel.comm_manager.register_target('matplotlib', mpl.mpl_figure_comm);\n",
       "}\n"
      ],
      "text/plain": [
       "<IPython.core.display.Javascript object>"
      ]
     },
     "metadata": {},
     "output_type": "display_data"
    },
    {
     "data": {
      "text/html": [
       "<img src=\"data:image/png;base64,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\" width=\"1000\">"
      ],
      "text/plain": [
       "<IPython.core.display.HTML object>"
      ]
     },
     "metadata": {},
     "output_type": "display_data"
    }
   ],
   "source": [
    "print('for model: ', model)   \n",
    "run_name = 'SimpleCNN5Layer_Ca H'\n",
    "# Create an mlflow run\n",
    "with mlflow.start_run(run_name=run_name) as run:\n",
    "    # Log parameters of the model\n",
    "    for key, value in vars(args).items():\n",
    "        print(key, value)\n",
    "        mlflow.log_param(key, value)\n",
    "    \n",
    "    # Log parameter count in the model\n",
    "    mlflow.log_param('Parameters', count_parameters(model))\n",
    "    \n",
    "    # Begin run\n",
    "    for result in trainNet(model, optimizer, loss,\n",
    "                            train_loader, val_loader,\n",
    "                            args.epochs+args.epoch_start, epoch_start=args.epoch_start,\n",
    "                            notebook=True, device=device):\n",
    "\n",
    "        result = result._asdict()\n",
    "        results = results.append(pd.Series(result), ignore_index=True)\n",
    "        xs = results.index\n",
    "\n",
    "        # Update the plot above\n",
    "        lines['train'].set_data(results.index, results.cost)\n",
    "        lines['val'].set_data(results.index, results.val)\n",
    "\n",
    "        #filter first cost epoch (can be really large)\n",
    "        max_cost = max(max(results.cost if len(results.cost)<2 else results.cost[1:]), max(results.val))\n",
    "        min_cost = min(min(results.cost), min(results.val))\n",
    "    \n",
    "        # The plot limits need updating too\n",
    "        ax.set_ylim(min_cost*.9, max_cost*1.1)  \n",
    "        ax.set_xlim(-.5, len(results.cost) - .5)\n",
    "    \n",
    "        replace_in_ax(lax, lines['eff'], xs, results['eff_val'].apply(lambda x: x.eff_rate))\n",
    "        replace_in_ax(tax, lines['fp'], xs, results['eff_val'].apply(lambda x: x.fp_rate))            \n",
    "            \n",
    "        # Redraw the figure\n",
    "        fig.canvas.draw()\n",
    "            \n",
    "        ## MLFLOW ##\n",
    "        # Log metrics\n",
    "        mlflow.log_metric('Efficiency', result['eff_val'].eff_rate, result['epoch'])\n",
    "        mlflow.log_metric('False Positive Rate',  result['eff_val'].fp_rate, result['epoch'])\n",
    "        mlflow.log_metric('Validation Loss',  result['val'], result['epoch'])\n",
    "        mlflow.log_metric('Training Loss',  result['cost'], result['epoch'])\n",
    "            \n",
    "        # Log tags\n",
    "#        mlflow.set_tag('Optimizer', 'Adam')\n",
    "#        mlflow.set_tag('Kernel size', 'Mixed')\n",
    "#        mlflow.set_tag('Skip connections', '4')\n",
    "#        mlflow.set_tag('Activation', 'Softplus')\n",
    "#        mlflow.set_tag('Mid Activation', 'Relu')\n",
    "        mlflow.set_tag('Extra Data', 'False')\n",
    "\n",
    "        # Save model state dictionary, optimizer state dictionary, and epoch number\n",
    "        torch.save({\n",
    "            'model':model.state_dict(),\n",
    "            'optimizer':optimizer.state_dict(),\n",
    "            'epoch':args.epochs+result['epoch']\n",
    "            }, 'run_stats.pyt')\n",
    "        # Save the run stats into mlflow\n",
    "        mlflow.log_artifact('run_stats.pyt')\n",
    "        \n",
    "    dual_train_plots(results.index,\n",
    "                 results.cost, results.val, \n",
    "                 results['eff_val'].apply(lambda x: x.eff_rate),\n",
    "                 results['eff_val'].apply(lambda x: x.fp_rate))\n",
    "    plt.tight_layout()\n",
    "    # save plot\n",
    "    plt.savefig('plot.png')  \n",
    "    mlflow.log_artifact('plot.png')"
   ]
  },
  {
   "cell_type": "code",
   "execution_count": 13,
   "metadata": {},
   "outputs": [],
   "source": [
    "##quit()"
   ]
  }
 ],
 "metadata": {
  "celltoolbar": "Raw Cell Format",
  "kernelspec": {
   "display_name": "goofit-june2020",
   "language": "python",
   "name": "goofit-june2020"
  },
  "language_info": {
   "codemirror_mode": {
    "name": "ipython",
    "version": 3
   },
   "file_extension": ".py",
   "mimetype": "text/x-python",
   "name": "python",
   "nbconvert_exporter": "python",
   "pygments_lexer": "ipython3",
   "version": "3.7.6"
  }
 },
 "nbformat": 4,
 "nbformat_minor": 2
}
