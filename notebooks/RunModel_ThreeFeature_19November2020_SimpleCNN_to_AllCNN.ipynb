{
 "cells": [
  {
   "cell_type": "code",
   "execution_count": 1,
   "metadata": {},
   "outputs": [],
   "source": [
    "##%matplotlib widget\n",
    "## with %matplotlib notebook: seems to require ipympl as part of environment, either\n",
    "## part of the conda environment or \"pip install ipympl\"\n",
    "## otherwise, does not show ANY plots in notebook, plt.savefig() works\n",
    "%matplotlib notebook  \n",
    "##%matplotlib inline    ## --plt.savefig()  works, but re-sizing does NOT"
   ]
  },
  {
   "cell_type": "markdown",
   "metadata": {},
   "source": [
    "This notebook is a short demo to illustrate execution.   For odd historical reasons, it uses \"toy Monte Carlo\" (simulated data)for \"training\" and \"full LHCB MC\" for validation.\n",
    "\n",
    "The network architecture is a \"simple\" model that uses 1 input channel (the KDE [kernel density estimator] but from the track parameters) feeding 5 convolutional layers followed by a fully connected layer.\n",
    "\n",
    "In today's version, the network will start with weights from a previously trained version.\n",
    " "
   ]
  },
  {
   "cell_type": "markdown",
   "metadata": {},
   "source": [
    "Check the current GPU usage. Please try to be nice!"
   ]
  },
  {
   "cell_type": "code",
   "execution_count": 2,
   "metadata": {},
   "outputs": [
    {
     "name": "stdout",
     "output_type": "stream",
     "text": [
      "Thu Jan 14 15:55:16 2021       \r\n",
      "+-----------------------------------------------------------------------------+\r\n",
      "| NVIDIA-SMI 440.64.00    Driver Version: 440.64.00    CUDA Version: 10.2     |\r\n",
      "|-------------------------------+----------------------+----------------------+\r\n",
      "| GPU  Name        Persistence-M| Bus-Id        Disp.A | Volatile Uncorr. ECC |\r\n",
      "| Fan  Temp  Perf  Pwr:Usage/Cap|         Memory-Usage | GPU-Util  Compute M. |\r\n",
      "|===============================+======================+======================|\r\n",
      "|   0  TITAN V             Off  | 00000000:03:00.0 Off |                  N/A |\r\n",
      "| 26%   32C    P0    31W / 250W |      0MiB / 12066MiB |      0%      Default |\r\n",
      "+-------------------------------+----------------------+----------------------+\r\n",
      "|   1  Tesla P100-PCIE...  Off  | 00000000:83:00.0 Off |                    0 |\r\n",
      "| N/A   33C    P0    33W / 250W |      0MiB / 16280MiB |      0%      Default |\r\n",
      "+-------------------------------+----------------------+----------------------+\r\n",
      "|   2  TITAN V             Off  | 00000000:84:00.0 Off |                  N/A |\r\n",
      "| 22%   37C    P0    34W / 250W |      0MiB / 12066MiB |      4%      Default |\r\n",
      "+-------------------------------+----------------------+----------------------+\r\n",
      "                                                                               \r\n",
      "+-----------------------------------------------------------------------------+\r\n",
      "| Processes:                                                       GPU Memory |\r\n",
      "|  GPU       PID   Type   Process name                             Usage      |\r\n",
      "|=============================================================================|\r\n",
      "|  No running processes found                                                 |\r\n",
      "+-----------------------------------------------------------------------------+\r\n"
     ]
    }
   ],
   "source": [
    "!nvidia-smi"
   ]
  },
  {
   "cell_type": "markdown",
   "metadata": {},
   "source": [
    "> **WARNING**: The card numbers here are *not* the same as in CUDA. You have been warned."
   ]
  },
  {
   "cell_type": "markdown",
   "metadata": {},
   "source": [
    "## Imports"
   ]
  },
  {
   "cell_type": "code",
   "execution_count": 3,
   "metadata": {},
   "outputs": [],
   "source": [
    "import matplotlib.pyplot as plt\n",
    "import numpy as np\n",
    "import time\n",
    "import torch\n",
    "import pandas as pd\n",
    "import mlflow\n",
    "\n",
    "# Python 3 standard library\n",
    "from pathlib import Path\n",
    "\n",
    "from torchsummary import summary\n",
    "\n",
    "'''\n",
    "HELPER FUNCTIONS\n",
    "'''\n",
    "# From model/collectdata.py\n",
    "from model.collectdata_mdsA import collect_data\n",
    "\n",
    "# From model/loss.py\n",
    "##from loss import Loss\n",
    "from model.alt_loss_A import Loss\n",
    "\n",
    "# From model/training.py\n",
    "from model.training import trainNet, select_gpu, Results\n",
    "\n",
    "# From model/models.py\n",
    "##  will start with model from TwoFeatures_CNN6Layer_A in the first instance\n",
    "##  see relevant cell below\n",
    "\n",
    "from model.models_mjp_19November20 import All_CNN6Layer_A as ModelA\n",
    "from model.models_mjp_19November20 import All_CNN6Layer_E as ModelE\n",
    "from model.models_mjp_19November20 import All_CNN8Layer_W as ModelW\n",
    "from model.models_mjp_26December20 import All_CNN10Layer_X as ModelX\n",
    "from model.models_mjp_26December20 import All_CNN8Layer_Y as ModelY\n",
    "\n",
    "# From model/utilities.py\n",
    "from model.utilities import load_full_state, count_parameters, Params\n",
    "\n",
    "from model.plots import dual_train_plots, replace_in_ax\n",
    "\n",
    "## adds image of model architecture\n",
    "import hiddenlayer as HL"
   ]
  },
  {
   "cell_type": "markdown",
   "metadata": {},
   "source": [
    "Set up Torch device configuration. All tensors and model parameters need to know where to be put.\n",
    "This takes a BUS ID number: The BUS ID is the same as the listing at the top of this script."
   ]
  },
  {
   "cell_type": "code",
   "execution_count": 4,
   "metadata": {
    "scrolled": true
   },
   "outputs": [
    {
     "name": "stdout",
     "output_type": "stream",
     "text": [
      "1 available GPUs (initially using device 0):\n",
      "  0 TITAN V\n"
     ]
    }
   ],
   "source": [
    "device = select_gpu(0)"
   ]
  },
  {
   "cell_type": "markdown",
   "metadata": {},
   "source": [
    "### Set up local parameters"
   ]
  },
  {
   "cell_type": "code",
   "execution_count": 5,
   "metadata": {},
   "outputs": [],
   "source": [
    "# params order - batch size, epochs, lr, epoch_start (which is usually set to 0)\n",
    "args = Params(128, 200, 1e-3, 220)"
   ]
  },
  {
   "cell_type": "markdown",
   "metadata": {},
   "source": [
    "## Loading data\n",
    "\n",
    "Load the dataset, split into parts, then move to device (see `collectdata.py` in the `../model` directory)"
   ]
  },
  {
   "cell_type": "code",
   "execution_count": 6,
   "metadata": {
    "scrolled": true
   },
   "outputs": [
    {
     "name": "stdout",
     "output_type": "stream",
     "text": [
      "Loading data...\n",
      "Loaded /share/lazy/sokoloff/ML-data_A/Aug14_80K_train.h5 in 10.46 s\n",
      "Loaded /share/lazy/sokoloff/ML-data_AA/Oct03_80K_train.h5 in 10.76 s\n",
      "Constructing 160000 event dataset took 3.356 s\n",
      "Loading data...\n",
      "Loaded /share/lazy/sokoloff/ML-data_AA/Oct03_20K_val.h5 in 2.548 s\n",
      "Constructing 9984 event dataset took 0.05882 s\n"
     ]
    }
   ],
   "source": [
    "## newer vernacular\n",
    "## Training dataset. You can put as many files here as desired.\n",
    "\n",
    "## in this DEMO example we use only one 80K training set -- the model starts with well-trained weights,\n",
    "## and using a smaller training set reduces both the time to load the data and the time to train an epoch\n",
    "##  set the option load_XandXsq = True to use both DKE and KDE^2 as input features\n",
    "train_loader = collect_data('/share/lazy/sokoloff/ML-data_A/Aug14_80K_train.h5',\n",
    "                             '/share/lazy/sokoloff/ML-data_AA/Oct03_80K_train.h5',\n",
    "#                             '/share/lazy/sokoloff/ML-data_AA/Oct03_40K_train.h5',\n",
    "#                             '/share/lazy/will/ML_mdsA/June30_2020_80k_1.h5',\n",
    "#                             '/share/lazy/will/ML_mdsA/June30_2020_80k_3.h5',\n",
    "#                             '/share/lazy/will/ML_mdsA/June30_2020_80k_4.h5',\n",
    "#                             '/share/lazy/will/ML_mdsA/June30_2020_80k_5.h5',\n",
    "#                             '/share/lazy/will/ML_mdsA/June30_2020_80k_6.h5',\n",
    "#                             '/share/lazy/will/ML_mdsA/June30_2020_80k_7.h5',\n",
    "#                             '/share/lazy/will/ML_mdsA/June30_2020_80k_8.h5',\n",
    "#                             '/share/lazy/will/ML_mdsA/June30_2020_80k_9.h5',\n",
    "                            #'/share/lazy/sokoloff/ML-data_AA/Oct03_80K2_train.h5',\n",
    "                             batch_size=args.batch_size,\n",
    "## if we are using a larger dataset (240K events, with the datasets above, and 11 GB  of GPU memory),\n",
    "## not the dataset will overflow the GPU memory; device=device will allow the data to move back\n",
    "## and forth between the CPU and GPU memory. While this allows use of a larger dataset, it slows\n",
    "## down performance by about 10%.  So comment out when not needed.\n",
    "                            device=device,\n",
    "                            masking=True, shuffle=True,\n",
    "                            load_XandXsq=False,\n",
    "                            load_xy=False)\n",
    "\n",
    "# Validation dataset. You can slice to reduce the size.\n",
    "## dataAA -> /share/lazy/sokoloff/ML-data_AA/\n",
    "val_loader = collect_data('/share/lazy/sokoloff/ML-data_AA/Oct03_20K_val.h5',\n",
    "## mds val_loader = collect_data('dataAA/HLT1CPU_1kevts_val.h5',\n",
    "\n",
    "                          batch_size=args.batch_size,\n",
    "                          slice=slice(256 * 39),\n",
    "                          device=device,\n",
    "                          masking=True, shuffle=False,\n",
    "                          load_XandXsq=False,\n",
    "                          load_xy=False)"
   ]
  },
  {
   "cell_type": "markdown",
   "metadata": {},
   "source": [
    "# Preparing the model"
   ]
  },
  {
   "cell_type": "markdown",
   "metadata": {},
   "source": [
    "Prepare a model, use multiple GPUs if they are VISIBLE, and move the model to the device."
   ]
  },
  {
   "cell_type": "code",
   "execution_count": 7,
   "metadata": {
    "scrolled": true
   },
   "outputs": [
    {
     "name": "stderr",
     "output_type": "stream",
     "text": [
      "WARNING:root:Malformed experiment 'ML'. Detailed error Yaml file '/share/lazy/pv-finder_model_repo/ML/meta.yaml' does not exist.\n",
      "Traceback (most recent call last):\n",
      "  File \"/home/michael24peters/.local/lib/python3.7/site-packages/mlflow/store/tracking/file_store.py\", line 197, in list_experiments\n",
      "    experiment = self._get_experiment(exp_id, view_type)\n",
      "  File \"/home/michael24peters/.local/lib/python3.7/site-packages/mlflow/store/tracking/file_store.py\", line 260, in _get_experiment\n",
      "    meta = read_yaml(experiment_dir, FileStore.META_DATA_FILE_NAME)\n",
      "  File \"/home/michael24peters/.local/lib/python3.7/site-packages/mlflow/utils/file_utils.py\", line 167, in read_yaml\n",
      "    raise MissingConfigException(\"Yaml file '%s' does not exist.\" % file_path)\n",
      "mlflow.exceptions.MissingConfigException: Yaml file '/share/lazy/pv-finder_model_repo/ML/meta.yaml' does not exist.\n"
     ]
    }
   ],
   "source": [
    "model = ModelY()\n",
    "\n",
    "##summary(model, input_size=(4, 4000))\n",
    "##print(model.parameters)\n",
    "\n",
    "mlflow.tracking.set_tracking_uri('file:/share/lazy/pv-finder_model_repo')\n",
    "mlflow.set_experiment('Four Feature AllCNN')"
   ]
  },
  {
   "cell_type": "code",
   "execution_count": 8,
   "metadata": {
    "scrolled": true
   },
   "outputs": [
    {
     "name": "stdout",
     "output_type": "stream",
     "text": [
      "Let's use 1 GPUs!\n"
     ]
    }
   ],
   "source": [
    "print(\"Let's use\", torch.cuda.device_count(), \"GPUs!\")\n",
    "if torch.cuda.device_count() > 1:\n",
    "    model = torch.nn.DataParallel(model)"
   ]
  },
  {
   "cell_type": "code",
   "execution_count": 9,
   "metadata": {},
   "outputs": [
    {
     "name": "stdout",
     "output_type": "stream",
     "text": [
      "we also froze 7 weights\n",
      "Of the 28.0 parameter layers to update in the current model, 7.0 were loaded\n"
     ]
    }
   ],
   "source": [
    "##  mds 200121 loss = Loss(epsilon=1e-5,coefficient=1.0)\n",
    "loss = Loss(epsilon=1e-5,coefficient=2.5)\n",
    "optimizer = torch.optim.Adam(model.parameters(), lr=args.lr)\n",
    "\n",
    "##  use the first five layers from a pre-existing model\n",
    "##  see example at https://discuss.pytorch.org/t/how-to-load-part-of-pre-trained-model/1113\n",
    "##   ML -> /share/lazy/sokoloff/ML\n",
    "\n",
    "#path = 'run_stats.pyt'\n",
    "#load_full_state(model, optimizer, path, freeze_weights=True)\n",
    "# For other pretrained models, go to MLFlow and find the path for \"run_stats.pyt\"\n",
    "pretrained_dict = '/share/lazy/pv-finder_model_repo/12/da7c2ca894234d7999ef8b8e8c3b7833/artifacts/run_stats.pyt'\n",
    "load_full_state(model, optimizer, pretrained_dict, freeze_weights=True)"
   ]
  },
  {
   "cell_type": "markdown",
   "metadata": {},
   "source": [
    "Let's move the model's weight matricies to the GPU:"
   ]
  },
  {
   "cell_type": "code",
   "execution_count": 10,
   "metadata": {
    "scrolled": true
   },
   "outputs": [
    {
     "data": {
      "text/plain": [
       "All_CNN8Layer_Y(\n",
       "  (conv1): Conv1d(1, 20, kernel_size=(25,), stride=(1,), padding=(12,))\n",
       "  (conv2): Conv1d(20, 10, kernel_size=(15,), stride=(1,), padding=(7,))\n",
       "  (conv3): Conv1d(30, 10, kernel_size=(15,), stride=(1,), padding=(7,))\n",
       "  (conv4): Conv1d(40, 10, kernel_size=(15,), stride=(1,), padding=(7,))\n",
       "  (conv5): Conv1d(50, 10, kernel_size=(15,), stride=(1,), padding=(7,))\n",
       "  (conv6): Conv1d(60, 10, kernel_size=(15,), stride=(1,), padding=(7,))\n",
       "  (conv7): Conv1d(70, 1, kernel_size=(5,), stride=(1,), padding=(2,))\n",
       "  (finalFilter): Conv1d(71, 1, kernel_size=(91,), stride=(1,), padding=(45,))\n",
       "  (conv1dropout): Dropout(p=0.15, inplace=False)\n",
       "  (conv2dropout): Dropout(p=0.15, inplace=False)\n",
       "  (conv3dropout): Dropout(p=0.15, inplace=False)\n",
       "  (conv4dropout): Dropout(p=0.15, inplace=False)\n",
       "  (conv5dropout): Dropout(p=0.15, inplace=False)\n",
       "  (conv6dropout): Dropout(p=0.15, inplace=False)\n",
       "  (conv7dropout): Dropout(p=0.15, inplace=False)\n",
       "  (bn1): BatchNorm1d(20, eps=1e-05, momentum=0.1, affine=True, track_running_stats=True)\n",
       "  (bn2): BatchNorm1d(10, eps=1e-05, momentum=0.1, affine=True, track_running_stats=True)\n",
       "  (bn3): BatchNorm1d(10, eps=1e-05, momentum=0.1, affine=True, track_running_stats=True)\n",
       "  (bn4): BatchNorm1d(10, eps=1e-05, momentum=0.1, affine=True, track_running_stats=True)\n",
       "  (bn5): BatchNorm1d(10, eps=1e-05, momentum=0.1, affine=True, track_running_stats=True)\n",
       "  (bn6): BatchNorm1d(10, eps=1e-05, momentum=0.1, affine=True, track_running_stats=True)\n",
       "  (bn7): BatchNorm1d(1, eps=1e-05, momentum=0.1, affine=True, track_running_stats=True)\n",
       "  (bnFF): BatchNorm1d(1, eps=1e-05, momentum=0.1, affine=True, track_running_stats=True)\n",
       ")"
      ]
     },
     "execution_count": 10,
     "metadata": {},
     "output_type": "execute_result"
    }
   ],
   "source": [
    "model.to(device)"
   ]
  },
  {
   "cell_type": "markdown",
   "metadata": {},
   "source": [
    "## Train \n",
    "\n",
    "\n",
    "\n",
    "The body of this loop runs once per epoch. Results is a named tuple of values (loss per epoch for training and validation, time each). Start by setting up a plot first:"
   ]
  },
  {
   "cell_type": "code",
   "execution_count": 11,
   "metadata": {},
   "outputs": [
    {
     "data": {
      "application/javascript": [
       "/* Put everything inside the global mpl namespace */\n",
       "window.mpl = {};\n",
       "\n",
       "\n",
       "mpl.get_websocket_type = function() {\n",
       "    if (typeof(WebSocket) !== 'undefined') {\n",
       "        return WebSocket;\n",
       "    } else if (typeof(MozWebSocket) !== 'undefined') {\n",
       "        return MozWebSocket;\n",
       "    } else {\n",
       "        alert('Your browser does not have WebSocket support. ' +\n",
       "              'Please try Chrome, Safari or Firefox ≥ 6. ' +\n",
       "              'Firefox 4 and 5 are also supported but you ' +\n",
       "              'have to enable WebSockets in about:config.');\n",
       "    };\n",
       "}\n",
       "\n",
       "mpl.figure = function(figure_id, websocket, ondownload, parent_element) {\n",
       "    this.id = figure_id;\n",
       "\n",
       "    this.ws = websocket;\n",
       "\n",
       "    this.supports_binary = (this.ws.binaryType != undefined);\n",
       "\n",
       "    if (!this.supports_binary) {\n",
       "        var warnings = document.getElementById(\"mpl-warnings\");\n",
       "        if (warnings) {\n",
       "            warnings.style.display = 'block';\n",
       "            warnings.textContent = (\n",
       "                \"This browser does not support binary websocket messages. \" +\n",
       "                    \"Performance may be slow.\");\n",
       "        }\n",
       "    }\n",
       "\n",
       "    this.imageObj = new Image();\n",
       "\n",
       "    this.context = undefined;\n",
       "    this.message = undefined;\n",
       "    this.canvas = undefined;\n",
       "    this.rubberband_canvas = undefined;\n",
       "    this.rubberband_context = undefined;\n",
       "    this.format_dropdown = undefined;\n",
       "\n",
       "    this.image_mode = 'full';\n",
       "\n",
       "    this.root = $('<div/>');\n",
       "    this._root_extra_style(this.root)\n",
       "    this.root.attr('style', 'display: inline-block');\n",
       "\n",
       "    $(parent_element).append(this.root);\n",
       "\n",
       "    this._init_header(this);\n",
       "    this._init_canvas(this);\n",
       "    this._init_toolbar(this);\n",
       "\n",
       "    var fig = this;\n",
       "\n",
       "    this.waiting = false;\n",
       "\n",
       "    this.ws.onopen =  function () {\n",
       "            fig.send_message(\"supports_binary\", {value: fig.supports_binary});\n",
       "            fig.send_message(\"send_image_mode\", {});\n",
       "            if (mpl.ratio != 1) {\n",
       "                fig.send_message(\"set_dpi_ratio\", {'dpi_ratio': mpl.ratio});\n",
       "            }\n",
       "            fig.send_message(\"refresh\", {});\n",
       "        }\n",
       "\n",
       "    this.imageObj.onload = function() {\n",
       "            if (fig.image_mode == 'full') {\n",
       "                // Full images could contain transparency (where diff images\n",
       "                // almost always do), so we need to clear the canvas so that\n",
       "                // there is no ghosting.\n",
       "                fig.context.clearRect(0, 0, fig.canvas.width, fig.canvas.height);\n",
       "            }\n",
       "            fig.context.drawImage(fig.imageObj, 0, 0);\n",
       "        };\n",
       "\n",
       "    this.imageObj.onunload = function() {\n",
       "        fig.ws.close();\n",
       "    }\n",
       "\n",
       "    this.ws.onmessage = this._make_on_message_function(this);\n",
       "\n",
       "    this.ondownload = ondownload;\n",
       "}\n",
       "\n",
       "mpl.figure.prototype._init_header = function() {\n",
       "    var titlebar = $(\n",
       "        '<div class=\"ui-dialog-titlebar ui-widget-header ui-corner-all ' +\n",
       "        'ui-helper-clearfix\"/>');\n",
       "    var titletext = $(\n",
       "        '<div class=\"ui-dialog-title\" style=\"width: 100%; ' +\n",
       "        'text-align: center; padding: 3px;\"/>');\n",
       "    titlebar.append(titletext)\n",
       "    this.root.append(titlebar);\n",
       "    this.header = titletext[0];\n",
       "}\n",
       "\n",
       "\n",
       "\n",
       "mpl.figure.prototype._canvas_extra_style = function(canvas_div) {\n",
       "\n",
       "}\n",
       "\n",
       "\n",
       "mpl.figure.prototype._root_extra_style = function(canvas_div) {\n",
       "\n",
       "}\n",
       "\n",
       "mpl.figure.prototype._init_canvas = function() {\n",
       "    var fig = this;\n",
       "\n",
       "    var canvas_div = $('<div/>');\n",
       "\n",
       "    canvas_div.attr('style', 'position: relative; clear: both; outline: 0');\n",
       "\n",
       "    function canvas_keyboard_event(event) {\n",
       "        return fig.key_event(event, event['data']);\n",
       "    }\n",
       "\n",
       "    canvas_div.keydown('key_press', canvas_keyboard_event);\n",
       "    canvas_div.keyup('key_release', canvas_keyboard_event);\n",
       "    this.canvas_div = canvas_div\n",
       "    this._canvas_extra_style(canvas_div)\n",
       "    this.root.append(canvas_div);\n",
       "\n",
       "    var canvas = $('<canvas/>');\n",
       "    canvas.addClass('mpl-canvas');\n",
       "    canvas.attr('style', \"left: 0; top: 0; z-index: 0; outline: 0\")\n",
       "\n",
       "    this.canvas = canvas[0];\n",
       "    this.context = canvas[0].getContext(\"2d\");\n",
       "\n",
       "    var backingStore = this.context.backingStorePixelRatio ||\n",
       "\tthis.context.webkitBackingStorePixelRatio ||\n",
       "\tthis.context.mozBackingStorePixelRatio ||\n",
       "\tthis.context.msBackingStorePixelRatio ||\n",
       "\tthis.context.oBackingStorePixelRatio ||\n",
       "\tthis.context.backingStorePixelRatio || 1;\n",
       "\n",
       "    mpl.ratio = (window.devicePixelRatio || 1) / backingStore;\n",
       "\n",
       "    var rubberband = $('<canvas/>');\n",
       "    rubberband.attr('style', \"position: absolute; left: 0; top: 0; z-index: 1;\")\n",
       "\n",
       "    var pass_mouse_events = true;\n",
       "\n",
       "    canvas_div.resizable({\n",
       "        start: function(event, ui) {\n",
       "            pass_mouse_events = false;\n",
       "        },\n",
       "        resize: function(event, ui) {\n",
       "            fig.request_resize(ui.size.width, ui.size.height);\n",
       "        },\n",
       "        stop: function(event, ui) {\n",
       "            pass_mouse_events = true;\n",
       "            fig.request_resize(ui.size.width, ui.size.height);\n",
       "        },\n",
       "    });\n",
       "\n",
       "    function mouse_event_fn(event) {\n",
       "        if (pass_mouse_events)\n",
       "            return fig.mouse_event(event, event['data']);\n",
       "    }\n",
       "\n",
       "    rubberband.mousedown('button_press', mouse_event_fn);\n",
       "    rubberband.mouseup('button_release', mouse_event_fn);\n",
       "    // Throttle sequential mouse events to 1 every 20ms.\n",
       "    rubberband.mousemove('motion_notify', mouse_event_fn);\n",
       "\n",
       "    rubberband.mouseenter('figure_enter', mouse_event_fn);\n",
       "    rubberband.mouseleave('figure_leave', mouse_event_fn);\n",
       "\n",
       "    canvas_div.on(\"wheel\", function (event) {\n",
       "        event = event.originalEvent;\n",
       "        event['data'] = 'scroll'\n",
       "        if (event.deltaY < 0) {\n",
       "            event.step = 1;\n",
       "        } else {\n",
       "            event.step = -1;\n",
       "        }\n",
       "        mouse_event_fn(event);\n",
       "    });\n",
       "\n",
       "    canvas_div.append(canvas);\n",
       "    canvas_div.append(rubberband);\n",
       "\n",
       "    this.rubberband = rubberband;\n",
       "    this.rubberband_canvas = rubberband[0];\n",
       "    this.rubberband_context = rubberband[0].getContext(\"2d\");\n",
       "    this.rubberband_context.strokeStyle = \"#000000\";\n",
       "\n",
       "    this._resize_canvas = function(width, height) {\n",
       "        // Keep the size of the canvas, canvas container, and rubber band\n",
       "        // canvas in synch.\n",
       "        canvas_div.css('width', width)\n",
       "        canvas_div.css('height', height)\n",
       "\n",
       "        canvas.attr('width', width * mpl.ratio);\n",
       "        canvas.attr('height', height * mpl.ratio);\n",
       "        canvas.attr('style', 'width: ' + width + 'px; height: ' + height + 'px;');\n",
       "\n",
       "        rubberband.attr('width', width);\n",
       "        rubberband.attr('height', height);\n",
       "    }\n",
       "\n",
       "    // Set the figure to an initial 600x600px, this will subsequently be updated\n",
       "    // upon first draw.\n",
       "    this._resize_canvas(600, 600);\n",
       "\n",
       "    // Disable right mouse context menu.\n",
       "    $(this.rubberband_canvas).bind(\"contextmenu\",function(e){\n",
       "        return false;\n",
       "    });\n",
       "\n",
       "    function set_focus () {\n",
       "        canvas.focus();\n",
       "        canvas_div.focus();\n",
       "    }\n",
       "\n",
       "    window.setTimeout(set_focus, 100);\n",
       "}\n",
       "\n",
       "mpl.figure.prototype._init_toolbar = function() {\n",
       "    var fig = this;\n",
       "\n",
       "    var nav_element = $('<div/>');\n",
       "    nav_element.attr('style', 'width: 100%');\n",
       "    this.root.append(nav_element);\n",
       "\n",
       "    // Define a callback function for later on.\n",
       "    function toolbar_event(event) {\n",
       "        return fig.toolbar_button_onclick(event['data']);\n",
       "    }\n",
       "    function toolbar_mouse_event(event) {\n",
       "        return fig.toolbar_button_onmouseover(event['data']);\n",
       "    }\n",
       "\n",
       "    for(var toolbar_ind in mpl.toolbar_items) {\n",
       "        var name = mpl.toolbar_items[toolbar_ind][0];\n",
       "        var tooltip = mpl.toolbar_items[toolbar_ind][1];\n",
       "        var image = mpl.toolbar_items[toolbar_ind][2];\n",
       "        var method_name = mpl.toolbar_items[toolbar_ind][3];\n",
       "\n",
       "        if (!name) {\n",
       "            // put a spacer in here.\n",
       "            continue;\n",
       "        }\n",
       "        var button = $('<button/>');\n",
       "        button.addClass('ui-button ui-widget ui-state-default ui-corner-all ' +\n",
       "                        'ui-button-icon-only');\n",
       "        button.attr('role', 'button');\n",
       "        button.attr('aria-disabled', 'false');\n",
       "        button.click(method_name, toolbar_event);\n",
       "        button.mouseover(tooltip, toolbar_mouse_event);\n",
       "\n",
       "        var icon_img = $('<span/>');\n",
       "        icon_img.addClass('ui-button-icon-primary ui-icon');\n",
       "        icon_img.addClass(image);\n",
       "        icon_img.addClass('ui-corner-all');\n",
       "\n",
       "        var tooltip_span = $('<span/>');\n",
       "        tooltip_span.addClass('ui-button-text');\n",
       "        tooltip_span.html(tooltip);\n",
       "\n",
       "        button.append(icon_img);\n",
       "        button.append(tooltip_span);\n",
       "\n",
       "        nav_element.append(button);\n",
       "    }\n",
       "\n",
       "    var fmt_picker_span = $('<span/>');\n",
       "\n",
       "    var fmt_picker = $('<select/>');\n",
       "    fmt_picker.addClass('mpl-toolbar-option ui-widget ui-widget-content');\n",
       "    fmt_picker_span.append(fmt_picker);\n",
       "    nav_element.append(fmt_picker_span);\n",
       "    this.format_dropdown = fmt_picker[0];\n",
       "\n",
       "    for (var ind in mpl.extensions) {\n",
       "        var fmt = mpl.extensions[ind];\n",
       "        var option = $(\n",
       "            '<option/>', {selected: fmt === mpl.default_extension}).html(fmt);\n",
       "        fmt_picker.append(option);\n",
       "    }\n",
       "\n",
       "    // Add hover states to the ui-buttons\n",
       "    $( \".ui-button\" ).hover(\n",
       "        function() { $(this).addClass(\"ui-state-hover\");},\n",
       "        function() { $(this).removeClass(\"ui-state-hover\");}\n",
       "    );\n",
       "\n",
       "    var status_bar = $('<span class=\"mpl-message\"/>');\n",
       "    nav_element.append(status_bar);\n",
       "    this.message = status_bar[0];\n",
       "}\n",
       "\n",
       "mpl.figure.prototype.request_resize = function(x_pixels, y_pixels) {\n",
       "    // Request matplotlib to resize the figure. Matplotlib will then trigger a resize in the client,\n",
       "    // which will in turn request a refresh of the image.\n",
       "    this.send_message('resize', {'width': x_pixels, 'height': y_pixels});\n",
       "}\n",
       "\n",
       "mpl.figure.prototype.send_message = function(type, properties) {\n",
       "    properties['type'] = type;\n",
       "    properties['figure_id'] = this.id;\n",
       "    this.ws.send(JSON.stringify(properties));\n",
       "}\n",
       "\n",
       "mpl.figure.prototype.send_draw_message = function() {\n",
       "    if (!this.waiting) {\n",
       "        this.waiting = true;\n",
       "        this.ws.send(JSON.stringify({type: \"draw\", figure_id: this.id}));\n",
       "    }\n",
       "}\n",
       "\n",
       "\n",
       "mpl.figure.prototype.handle_save = function(fig, msg) {\n",
       "    var format_dropdown = fig.format_dropdown;\n",
       "    var format = format_dropdown.options[format_dropdown.selectedIndex].value;\n",
       "    fig.ondownload(fig, format);\n",
       "}\n",
       "\n",
       "\n",
       "mpl.figure.prototype.handle_resize = function(fig, msg) {\n",
       "    var size = msg['size'];\n",
       "    if (size[0] != fig.canvas.width || size[1] != fig.canvas.height) {\n",
       "        fig._resize_canvas(size[0], size[1]);\n",
       "        fig.send_message(\"refresh\", {});\n",
       "    };\n",
       "}\n",
       "\n",
       "mpl.figure.prototype.handle_rubberband = function(fig, msg) {\n",
       "    var x0 = msg['x0'] / mpl.ratio;\n",
       "    var y0 = (fig.canvas.height - msg['y0']) / mpl.ratio;\n",
       "    var x1 = msg['x1'] / mpl.ratio;\n",
       "    var y1 = (fig.canvas.height - msg['y1']) / mpl.ratio;\n",
       "    x0 = Math.floor(x0) + 0.5;\n",
       "    y0 = Math.floor(y0) + 0.5;\n",
       "    x1 = Math.floor(x1) + 0.5;\n",
       "    y1 = Math.floor(y1) + 0.5;\n",
       "    var min_x = Math.min(x0, x1);\n",
       "    var min_y = Math.min(y0, y1);\n",
       "    var width = Math.abs(x1 - x0);\n",
       "    var height = Math.abs(y1 - y0);\n",
       "\n",
       "    fig.rubberband_context.clearRect(\n",
       "        0, 0, fig.canvas.width / mpl.ratio, fig.canvas.height / mpl.ratio);\n",
       "\n",
       "    fig.rubberband_context.strokeRect(min_x, min_y, width, height);\n",
       "}\n",
       "\n",
       "mpl.figure.prototype.handle_figure_label = function(fig, msg) {\n",
       "    // Updates the figure title.\n",
       "    fig.header.textContent = msg['label'];\n",
       "}\n",
       "\n",
       "mpl.figure.prototype.handle_cursor = function(fig, msg) {\n",
       "    var cursor = msg['cursor'];\n",
       "    switch(cursor)\n",
       "    {\n",
       "    case 0:\n",
       "        cursor = 'pointer';\n",
       "        break;\n",
       "    case 1:\n",
       "        cursor = 'default';\n",
       "        break;\n",
       "    case 2:\n",
       "        cursor = 'crosshair';\n",
       "        break;\n",
       "    case 3:\n",
       "        cursor = 'move';\n",
       "        break;\n",
       "    }\n",
       "    fig.rubberband_canvas.style.cursor = cursor;\n",
       "}\n",
       "\n",
       "mpl.figure.prototype.handle_message = function(fig, msg) {\n",
       "    fig.message.textContent = msg['message'];\n",
       "}\n",
       "\n",
       "mpl.figure.prototype.handle_draw = function(fig, msg) {\n",
       "    // Request the server to send over a new figure.\n",
       "    fig.send_draw_message();\n",
       "}\n",
       "\n",
       "mpl.figure.prototype.handle_image_mode = function(fig, msg) {\n",
       "    fig.image_mode = msg['mode'];\n",
       "}\n",
       "\n",
       "mpl.figure.prototype.updated_canvas_event = function() {\n",
       "    // Called whenever the canvas gets updated.\n",
       "    this.send_message(\"ack\", {});\n",
       "}\n",
       "\n",
       "// A function to construct a web socket function for onmessage handling.\n",
       "// Called in the figure constructor.\n",
       "mpl.figure.prototype._make_on_message_function = function(fig) {\n",
       "    return function socket_on_message(evt) {\n",
       "        if (evt.data instanceof Blob) {\n",
       "            /* FIXME: We get \"Resource interpreted as Image but\n",
       "             * transferred with MIME type text/plain:\" errors on\n",
       "             * Chrome.  But how to set the MIME type?  It doesn't seem\n",
       "             * to be part of the websocket stream */\n",
       "            evt.data.type = \"image/png\";\n",
       "\n",
       "            /* Free the memory for the previous frames */\n",
       "            if (fig.imageObj.src) {\n",
       "                (window.URL || window.webkitURL).revokeObjectURL(\n",
       "                    fig.imageObj.src);\n",
       "            }\n",
       "\n",
       "            fig.imageObj.src = (window.URL || window.webkitURL).createObjectURL(\n",
       "                evt.data);\n",
       "            fig.updated_canvas_event();\n",
       "            fig.waiting = false;\n",
       "            return;\n",
       "        }\n",
       "        else if (typeof evt.data === 'string' && evt.data.slice(0, 21) == \"data:image/png;base64\") {\n",
       "            fig.imageObj.src = evt.data;\n",
       "            fig.updated_canvas_event();\n",
       "            fig.waiting = false;\n",
       "            return;\n",
       "        }\n",
       "\n",
       "        var msg = JSON.parse(evt.data);\n",
       "        var msg_type = msg['type'];\n",
       "\n",
       "        // Call the  \"handle_{type}\" callback, which takes\n",
       "        // the figure and JSON message as its only arguments.\n",
       "        try {\n",
       "            var callback = fig[\"handle_\" + msg_type];\n",
       "        } catch (e) {\n",
       "            console.log(\"No handler for the '\" + msg_type + \"' message type: \", msg);\n",
       "            return;\n",
       "        }\n",
       "\n",
       "        if (callback) {\n",
       "            try {\n",
       "                // console.log(\"Handling '\" + msg_type + \"' message: \", msg);\n",
       "                callback(fig, msg);\n",
       "            } catch (e) {\n",
       "                console.log(\"Exception inside the 'handler_\" + msg_type + \"' callback:\", e, e.stack, msg);\n",
       "            }\n",
       "        }\n",
       "    };\n",
       "}\n",
       "\n",
       "// from http://stackoverflow.com/questions/1114465/getting-mouse-location-in-canvas\n",
       "mpl.findpos = function(e) {\n",
       "    //this section is from http://www.quirksmode.org/js/events_properties.html\n",
       "    var targ;\n",
       "    if (!e)\n",
       "        e = window.event;\n",
       "    if (e.target)\n",
       "        targ = e.target;\n",
       "    else if (e.srcElement)\n",
       "        targ = e.srcElement;\n",
       "    if (targ.nodeType == 3) // defeat Safari bug\n",
       "        targ = targ.parentNode;\n",
       "\n",
       "    // jQuery normalizes the pageX and pageY\n",
       "    // pageX,Y are the mouse positions relative to the document\n",
       "    // offset() returns the position of the element relative to the document\n",
       "    var x = e.pageX - $(targ).offset().left;\n",
       "    var y = e.pageY - $(targ).offset().top;\n",
       "\n",
       "    return {\"x\": x, \"y\": y};\n",
       "};\n",
       "\n",
       "/*\n",
       " * return a copy of an object with only non-object keys\n",
       " * we need this to avoid circular references\n",
       " * http://stackoverflow.com/a/24161582/3208463\n",
       " */\n",
       "function simpleKeys (original) {\n",
       "  return Object.keys(original).reduce(function (obj, key) {\n",
       "    if (typeof original[key] !== 'object')\n",
       "        obj[key] = original[key]\n",
       "    return obj;\n",
       "  }, {});\n",
       "}\n",
       "\n",
       "mpl.figure.prototype.mouse_event = function(event, name) {\n",
       "    var canvas_pos = mpl.findpos(event)\n",
       "\n",
       "    if (name === 'button_press')\n",
       "    {\n",
       "        this.canvas.focus();\n",
       "        this.canvas_div.focus();\n",
       "    }\n",
       "\n",
       "    var x = canvas_pos.x * mpl.ratio;\n",
       "    var y = canvas_pos.y * mpl.ratio;\n",
       "\n",
       "    this.send_message(name, {x: x, y: y, button: event.button,\n",
       "                             step: event.step,\n",
       "                             guiEvent: simpleKeys(event)});\n",
       "\n",
       "    /* This prevents the web browser from automatically changing to\n",
       "     * the text insertion cursor when the button is pressed.  We want\n",
       "     * to control all of the cursor setting manually through the\n",
       "     * 'cursor' event from matplotlib */\n",
       "    event.preventDefault();\n",
       "    return false;\n",
       "}\n",
       "\n",
       "mpl.figure.prototype._key_event_extra = function(event, name) {\n",
       "    // Handle any extra behaviour associated with a key event\n",
       "}\n",
       "\n",
       "mpl.figure.prototype.key_event = function(event, name) {\n",
       "\n",
       "    // Prevent repeat events\n",
       "    if (name == 'key_press')\n",
       "    {\n",
       "        if (event.which === this._key)\n",
       "            return;\n",
       "        else\n",
       "            this._key = event.which;\n",
       "    }\n",
       "    if (name == 'key_release')\n",
       "        this._key = null;\n",
       "\n",
       "    var value = '';\n",
       "    if (event.ctrlKey && event.which != 17)\n",
       "        value += \"ctrl+\";\n",
       "    if (event.altKey && event.which != 18)\n",
       "        value += \"alt+\";\n",
       "    if (event.shiftKey && event.which != 16)\n",
       "        value += \"shift+\";\n",
       "\n",
       "    value += 'k';\n",
       "    value += event.which.toString();\n",
       "\n",
       "    this._key_event_extra(event, name);\n",
       "\n",
       "    this.send_message(name, {key: value,\n",
       "                             guiEvent: simpleKeys(event)});\n",
       "    return false;\n",
       "}\n",
       "\n",
       "mpl.figure.prototype.toolbar_button_onclick = function(name) {\n",
       "    if (name == 'download') {\n",
       "        this.handle_save(this, null);\n",
       "    } else {\n",
       "        this.send_message(\"toolbar_button\", {name: name});\n",
       "    }\n",
       "};\n",
       "\n",
       "mpl.figure.prototype.toolbar_button_onmouseover = function(tooltip) {\n",
       "    this.message.textContent = tooltip;\n",
       "};\n",
       "mpl.toolbar_items = [[\"Home\", \"Reset original view\", \"fa fa-home icon-home\", \"home\"], [\"Back\", \"Back to previous view\", \"fa fa-arrow-left icon-arrow-left\", \"back\"], [\"Forward\", \"Forward to next view\", \"fa fa-arrow-right icon-arrow-right\", \"forward\"], [\"\", \"\", \"\", \"\"], [\"Pan\", \"Pan axes with left mouse, zoom with right\", \"fa fa-arrows icon-move\", \"pan\"], [\"Zoom\", \"Zoom to rectangle\", \"fa fa-square-o icon-check-empty\", \"zoom\"], [\"\", \"\", \"\", \"\"], [\"Download\", \"Download plot\", \"fa fa-floppy-o icon-save\", \"download\"]];\n",
       "\n",
       "mpl.extensions = [\"eps\", \"jpeg\", \"pdf\", \"png\", \"ps\", \"raw\", \"svg\", \"tif\"];\n",
       "\n",
       "mpl.default_extension = \"png\";var comm_websocket_adapter = function(comm) {\n",
       "    // Create a \"websocket\"-like object which calls the given IPython comm\n",
       "    // object with the appropriate methods. Currently this is a non binary\n",
       "    // socket, so there is still some room for performance tuning.\n",
       "    var ws = {};\n",
       "\n",
       "    ws.close = function() {\n",
       "        comm.close()\n",
       "    };\n",
       "    ws.send = function(m) {\n",
       "        //console.log('sending', m);\n",
       "        comm.send(m);\n",
       "    };\n",
       "    // Register the callback with on_msg.\n",
       "    comm.on_msg(function(msg) {\n",
       "        //console.log('receiving', msg['content']['data'], msg);\n",
       "        // Pass the mpl event to the overridden (by mpl) onmessage function.\n",
       "        ws.onmessage(msg['content']['data'])\n",
       "    });\n",
       "    return ws;\n",
       "}\n",
       "\n",
       "mpl.mpl_figure_comm = function(comm, msg) {\n",
       "    // This is the function which gets called when the mpl process\n",
       "    // starts-up an IPython Comm through the \"matplotlib\" channel.\n",
       "\n",
       "    var id = msg.content.data.id;\n",
       "    // Get hold of the div created by the display call when the Comm\n",
       "    // socket was opened in Python.\n",
       "    var element = $(\"#\" + id);\n",
       "    var ws_proxy = comm_websocket_adapter(comm)\n",
       "\n",
       "    function ondownload(figure, format) {\n",
       "        window.open(figure.imageObj.src);\n",
       "    }\n",
       "\n",
       "    var fig = new mpl.figure(id, ws_proxy,\n",
       "                           ondownload,\n",
       "                           element.get(0));\n",
       "\n",
       "    // Call onopen now - mpl needs it, as it is assuming we've passed it a real\n",
       "    // web socket which is closed, not our websocket->open comm proxy.\n",
       "    ws_proxy.onopen();\n",
       "\n",
       "    fig.parent_element = element.get(0);\n",
       "    fig.cell_info = mpl.find_output_cell(\"<div id='\" + id + \"'></div>\");\n",
       "    if (!fig.cell_info) {\n",
       "        console.error(\"Failed to find cell for figure\", id, fig);\n",
       "        return;\n",
       "    }\n",
       "\n",
       "    var output_index = fig.cell_info[2]\n",
       "    var cell = fig.cell_info[0];\n",
       "\n",
       "};\n",
       "\n",
       "mpl.figure.prototype.handle_close = function(fig, msg) {\n",
       "    var width = fig.canvas.width/mpl.ratio\n",
       "    fig.root.unbind('remove')\n",
       "\n",
       "    // Update the output cell to use the data from the current canvas.\n",
       "    fig.push_to_output();\n",
       "    var dataURL = fig.canvas.toDataURL();\n",
       "    // Re-enable the keyboard manager in IPython - without this line, in FF,\n",
       "    // the notebook keyboard shortcuts fail.\n",
       "    IPython.keyboard_manager.enable()\n",
       "    $(fig.parent_element).html('<img src=\"' + dataURL + '\" width=\"' + width + '\">');\n",
       "    fig.close_ws(fig, msg);\n",
       "}\n",
       "\n",
       "mpl.figure.prototype.close_ws = function(fig, msg){\n",
       "    fig.send_message('closing', msg);\n",
       "    // fig.ws.close()\n",
       "}\n",
       "\n",
       "mpl.figure.prototype.push_to_output = function(remove_interactive) {\n",
       "    // Turn the data on the canvas into data in the output cell.\n",
       "    var width = this.canvas.width/mpl.ratio\n",
       "    var dataURL = this.canvas.toDataURL();\n",
       "    this.cell_info[1]['text/html'] = '<img src=\"' + dataURL + '\" width=\"' + width + '\">';\n",
       "}\n",
       "\n",
       "mpl.figure.prototype.updated_canvas_event = function() {\n",
       "    // Tell IPython that the notebook contents must change.\n",
       "    IPython.notebook.set_dirty(true);\n",
       "    this.send_message(\"ack\", {});\n",
       "    var fig = this;\n",
       "    // Wait a second, then push the new image to the DOM so\n",
       "    // that it is saved nicely (might be nice to debounce this).\n",
       "    setTimeout(function () { fig.push_to_output() }, 1000);\n",
       "}\n",
       "\n",
       "mpl.figure.prototype._init_toolbar = function() {\n",
       "    var fig = this;\n",
       "\n",
       "    var nav_element = $('<div/>');\n",
       "    nav_element.attr('style', 'width: 100%');\n",
       "    this.root.append(nav_element);\n",
       "\n",
       "    // Define a callback function for later on.\n",
       "    function toolbar_event(event) {\n",
       "        return fig.toolbar_button_onclick(event['data']);\n",
       "    }\n",
       "    function toolbar_mouse_event(event) {\n",
       "        return fig.toolbar_button_onmouseover(event['data']);\n",
       "    }\n",
       "\n",
       "    for(var toolbar_ind in mpl.toolbar_items){\n",
       "        var name = mpl.toolbar_items[toolbar_ind][0];\n",
       "        var tooltip = mpl.toolbar_items[toolbar_ind][1];\n",
       "        var image = mpl.toolbar_items[toolbar_ind][2];\n",
       "        var method_name = mpl.toolbar_items[toolbar_ind][3];\n",
       "\n",
       "        if (!name) { continue; };\n",
       "\n",
       "        var button = $('<button class=\"btn btn-default\" href=\"#\" title=\"' + name + '\"><i class=\"fa ' + image + ' fa-lg\"></i></button>');\n",
       "        button.click(method_name, toolbar_event);\n",
       "        button.mouseover(tooltip, toolbar_mouse_event);\n",
       "        nav_element.append(button);\n",
       "    }\n",
       "\n",
       "    // Add the status bar.\n",
       "    var status_bar = $('<span class=\"mpl-message\" style=\"text-align:right; float: right;\"/>');\n",
       "    nav_element.append(status_bar);\n",
       "    this.message = status_bar[0];\n",
       "\n",
       "    // Add the close button to the window.\n",
       "    var buttongrp = $('<div class=\"btn-group inline pull-right\"></div>');\n",
       "    var button = $('<button class=\"btn btn-mini btn-primary\" href=\"#\" title=\"Stop Interaction\"><i class=\"fa fa-power-off icon-remove icon-large\"></i></button>');\n",
       "    button.click(function (evt) { fig.handle_close(fig, {}); } );\n",
       "    button.mouseover('Stop Interaction', toolbar_mouse_event);\n",
       "    buttongrp.append(button);\n",
       "    var titlebar = this.root.find($('.ui-dialog-titlebar'));\n",
       "    titlebar.prepend(buttongrp);\n",
       "}\n",
       "\n",
       "mpl.figure.prototype._root_extra_style = function(el){\n",
       "    var fig = this\n",
       "    el.on(\"remove\", function(){\n",
       "\tfig.close_ws(fig, {});\n",
       "    });\n",
       "}\n",
       "\n",
       "mpl.figure.prototype._canvas_extra_style = function(el){\n",
       "    // this is important to make the div 'focusable\n",
       "    el.attr('tabindex', 0)\n",
       "    // reach out to IPython and tell the keyboard manager to turn it's self\n",
       "    // off when our div gets focus\n",
       "\n",
       "    // location in version 3\n",
       "    if (IPython.notebook.keyboard_manager) {\n",
       "        IPython.notebook.keyboard_manager.register_events(el);\n",
       "    }\n",
       "    else {\n",
       "        // location in version 2\n",
       "        IPython.keyboard_manager.register_events(el);\n",
       "    }\n",
       "\n",
       "}\n",
       "\n",
       "mpl.figure.prototype._key_event_extra = function(event, name) {\n",
       "    var manager = IPython.notebook.keyboard_manager;\n",
       "    if (!manager)\n",
       "        manager = IPython.keyboard_manager;\n",
       "\n",
       "    // Check for shift+enter\n",
       "    if (event.shiftKey && event.which == 13) {\n",
       "        this.canvas_div.blur();\n",
       "        // select the cell after this one\n",
       "        var index = IPython.notebook.find_cell_index(this.cell_info[0]);\n",
       "        IPython.notebook.select(index + 1);\n",
       "    }\n",
       "}\n",
       "\n",
       "mpl.figure.prototype.handle_save = function(fig, msg) {\n",
       "    fig.ondownload(fig, null);\n",
       "}\n",
       "\n",
       "\n",
       "mpl.find_output_cell = function(html_output) {\n",
       "    // Return the cell and output element which can be found *uniquely* in the notebook.\n",
       "    // Note - this is a bit hacky, but it is done because the \"notebook_saving.Notebook\"\n",
       "    // IPython event is triggered only after the cells have been serialised, which for\n",
       "    // our purposes (turning an active figure into a static one), is too late.\n",
       "    var cells = IPython.notebook.get_cells();\n",
       "    var ncells = cells.length;\n",
       "    for (var i=0; i<ncells; i++) {\n",
       "        var cell = cells[i];\n",
       "        if (cell.cell_type === 'code'){\n",
       "            for (var j=0; j<cell.output_area.outputs.length; j++) {\n",
       "                var data = cell.output_area.outputs[j];\n",
       "                if (data.data) {\n",
       "                    // IPython >= 3 moved mimebundle to data attribute of output\n",
       "                    data = data.data;\n",
       "                }\n",
       "                if (data['text/html'] == html_output) {\n",
       "                    return [cell, data, j];\n",
       "                }\n",
       "            }\n",
       "        }\n",
       "    }\n",
       "}\n",
       "\n",
       "// Register the function which deals with the matplotlib target/channel.\n",
       "// The kernel may be null if the page has been refreshed.\n",
       "if (IPython.notebook.kernel != null) {\n",
       "    IPython.notebook.kernel.comm_manager.register_target('matplotlib', mpl.mpl_figure_comm);\n",
       "}\n"
      ],
      "text/plain": [
       "<IPython.core.display.Javascript object>"
      ]
     },
     "metadata": {},
     "output_type": "display_data"
    },
    {
     "data": {
      "text/html": [
       "<img src=\"data:image/png;base64,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\" width=\"1000\">"
      ],
      "text/plain": [
       "<IPython.core.display.HTML object>"
      ]
     },
     "metadata": {},
     "output_type": "display_data"
    }
   ],
   "source": [
    "ax, tax, lax, lines = dual_train_plots()\n",
    "fig = ax.figure\n",
    "plt.tight_layout()\n",
    "# This gets built up during the run - do not rerun this cell\n",
    "results = pd.DataFrame([], columns=Results._fields)"
   ]
  },
  {
   "cell_type": "code",
   "execution_count": 12,
   "metadata": {
    "scrolled": false
   },
   "outputs": [
    {
     "name": "stdout",
     "output_type": "stream",
     "text": [
      "for model:  All_CNN8Layer_Y(\n",
      "  (conv1): Conv1d(1, 20, kernel_size=(25,), stride=(1,), padding=(12,))\n",
      "  (conv2): Conv1d(20, 10, kernel_size=(15,), stride=(1,), padding=(7,))\n",
      "  (conv3): Conv1d(30, 10, kernel_size=(15,), stride=(1,), padding=(7,))\n",
      "  (conv4): Conv1d(40, 10, kernel_size=(15,), stride=(1,), padding=(7,))\n",
      "  (conv5): Conv1d(50, 10, kernel_size=(15,), stride=(1,), padding=(7,))\n",
      "  (conv6): Conv1d(60, 10, kernel_size=(15,), stride=(1,), padding=(7,))\n",
      "  (conv7): Conv1d(70, 1, kernel_size=(5,), stride=(1,), padding=(2,))\n",
      "  (finalFilter): Conv1d(71, 1, kernel_size=(91,), stride=(1,), padding=(45,))\n",
      "  (conv1dropout): Dropout(p=0.15, inplace=False)\n",
      "  (conv2dropout): Dropout(p=0.15, inplace=False)\n",
      "  (conv3dropout): Dropout(p=0.15, inplace=False)\n",
      "  (conv4dropout): Dropout(p=0.15, inplace=False)\n",
      "  (conv5dropout): Dropout(p=0.15, inplace=False)\n",
      "  (conv6dropout): Dropout(p=0.15, inplace=False)\n",
      "  (conv7dropout): Dropout(p=0.15, inplace=False)\n",
      "  (bn1): BatchNorm1d(20, eps=1e-05, momentum=0.1, affine=True, track_running_stats=True)\n",
      "  (bn2): BatchNorm1d(10, eps=1e-05, momentum=0.1, affine=True, track_running_stats=True)\n",
      "  (bn3): BatchNorm1d(10, eps=1e-05, momentum=0.1, affine=True, track_running_stats=True)\n",
      "  (bn4): BatchNorm1d(10, eps=1e-05, momentum=0.1, affine=True, track_running_stats=True)\n",
      "  (bn5): BatchNorm1d(10, eps=1e-05, momentum=0.1, affine=True, track_running_stats=True)\n",
      "  (bn6): BatchNorm1d(10, eps=1e-05, momentum=0.1, affine=True, track_running_stats=True)\n",
      "  (bn7): BatchNorm1d(1, eps=1e-05, momentum=0.1, affine=True, track_running_stats=True)\n",
      "  (bnFF): BatchNorm1d(1, eps=1e-05, momentum=0.1, affine=True, track_running_stats=True)\n",
      ")\n",
      "epoch_start 220\n",
      "batch_size 128\n",
      "epochs 200\n",
      "lr 0.001\n",
      "Number of batches: train = 1250, val = 78\n"
     ]
    },
    {
     "name": "stderr",
     "output_type": "stream",
     "text": [
      "/home/michael24peters/pv-finder_experimental/notebooks/model/training.py:95: TqdmDeprecationWarning: This function will be removed in tqdm==5.0.0\n",
      "Please use `tqdm.notebook.tqdm` instead of `tqdm.tqdm_notebook`\n",
      "  file=sys.stderr,\n"
     ]
    },
    {
     "data": {
      "application/vnd.jupyter.widget-view+json": {
       "model_id": "957391b94b48488198b2c97649e831a0",
       "version_major": 2,
       "version_minor": 0
      },
      "text/plain": [
       "HBox(children=(FloatProgress(value=0.0, description='Epochs', layout=Layout(flex='2'), max=200.0, style=Progre…"
      ]
     },
     "metadata": {},
     "output_type": "display_data"
    },
    {
     "data": {
      "application/vnd.jupyter.widget-view+json": {
       "model_id": "",
       "version_major": 2,
       "version_minor": 0
      },
      "text/plain": [
       "HBox(children=(FloatProgress(value=0.0, description='Training', layout=Layout(flex='2'), max=1250.0, style=Pro…"
      ]
     },
     "metadata": {},
     "output_type": "display_data"
    },
    {
     "name": "stdout",
     "output_type": "stream",
     "text": [
      "Epoch 220: train=1225.44, val=1142.98, took 119.91 s\n",
      "  Validation Found 382 of 54504, added 9422 (eff 0.70%) (0.944 FP/event)\n",
      "Result epoch:  220\n",
      "Average Eff:  0.0\n",
      "Average FP Rate:  0.0\n"
     ]
    },
    {
     "data": {
      "application/vnd.jupyter.widget-view+json": {
       "model_id": "",
       "version_major": 2,
       "version_minor": 0
      },
      "text/plain": [
       "HBox(children=(FloatProgress(value=0.0, description='Training', layout=Layout(flex='2'), max=1250.0, style=Pro…"
      ]
     },
     "metadata": {},
     "output_type": "display_data"
    },
    {
     "name": "stdout",
     "output_type": "stream",
     "text": [
      "Epoch 221: train=1040.44, val=974.786, took 119.73 s\n",
      "  Validation Found 8087 of 54504, added 64840 (eff 14.84%) (6.49 FP/event)\n",
      "Result epoch:  221\n",
      "Average Eff:  0.0\n",
      "Average FP Rate:  0.0\n"
     ]
    },
    {
     "data": {
      "application/vnd.jupyter.widget-view+json": {
       "model_id": "",
       "version_major": 2,
       "version_minor": 0
      },
      "text/plain": [
       "HBox(children=(FloatProgress(value=0.0, description='Training', layout=Layout(flex='2'), max=1250.0, style=Pro…"
      ]
     },
     "metadata": {},
     "output_type": "display_data"
    },
    {
     "name": "stdout",
     "output_type": "stream",
     "text": [
      "Epoch 222: train=848.585, val=811.965, took 119.7 s\n",
      "  Validation Found 11237 of 54504, added 41295 (eff 20.62%) (4.14 FP/event)\n",
      "Result epoch:  222\n",
      "Average Eff:  0.0\n",
      "Average FP Rate:  0.0\n"
     ]
    },
    {
     "data": {
      "application/vnd.jupyter.widget-view+json": {
       "model_id": "",
       "version_major": 2,
       "version_minor": 0
      },
      "text/plain": [
       "HBox(children=(FloatProgress(value=0.0, description='Training', layout=Layout(flex='2'), max=1250.0, style=Pro…"
      ]
     },
     "metadata": {},
     "output_type": "display_data"
    },
    {
     "name": "stdout",
     "output_type": "stream",
     "text": [
      "Epoch 223: train=659.006, val=516.529, took 119.71 s\n",
      "  Validation Found 16679 of 54504, added 34586 (eff 30.60%) (3.46 FP/event)\n",
      "Result epoch:  223\n",
      "Average Eff:  0.0\n",
      "Average FP Rate:  0.0\n"
     ]
    },
    {
     "data": {
      "application/vnd.jupyter.widget-view+json": {
       "model_id": "",
       "version_major": 2,
       "version_minor": 0
      },
      "text/plain": [
       "HBox(children=(FloatProgress(value=0.0, description='Training', layout=Layout(flex='2'), max=1250.0, style=Pro…"
      ]
     },
     "metadata": {},
     "output_type": "display_data"
    },
    {
     "name": "stdout",
     "output_type": "stream",
     "text": [
      "Epoch 224: train=476.899, val=436.707, took 119.7 s\n",
      "  Validation Found 22230 of 54504, added 30965 (eff 40.79%) (3.1 FP/event)\n",
      "Result epoch:  224\n",
      "Average Eff:  0.0\n",
      "Average FP Rate:  0.0\n"
     ]
    },
    {
     "data": {
      "application/vnd.jupyter.widget-view+json": {
       "model_id": "",
       "version_major": 2,
       "version_minor": 0
      },
      "text/plain": [
       "HBox(children=(FloatProgress(value=0.0, description='Training', layout=Layout(flex='2'), max=1250.0, style=Pro…"
      ]
     },
     "metadata": {},
     "output_type": "display_data"
    },
    {
     "name": "stdout",
     "output_type": "stream",
     "text": [
      "Epoch 225: train=318.019, val=258.678, took 119.68 s\n",
      "  Validation Found 9534 of 54504, added 47923 (eff 17.49%) (4.8 FP/event)\n",
      "Result epoch:  225\n",
      "Average Eff:  0.0\n",
      "Average FP Rate:  0.0\n"
     ]
    },
    {
     "data": {
      "application/vnd.jupyter.widget-view+json": {
       "model_id": "",
       "version_major": 2,
       "version_minor": 0
      },
      "text/plain": [
       "HBox(children=(FloatProgress(value=0.0, description='Training', layout=Layout(flex='2'), max=1250.0, style=Pro…"
      ]
     },
     "metadata": {},
     "output_type": "display_data"
    },
    {
     "name": "stdout",
     "output_type": "stream",
     "text": [
      "Epoch 226: train=201.795, val=145.704, took 119.67 s\n",
      "  Validation Found 9083 of 54504, added 52724 (eff 16.66%) (5.28 FP/event)\n",
      "Result epoch:  226\n",
      "Average Eff:  0.0\n",
      "Average FP Rate:  0.0\n"
     ]
    },
    {
     "data": {
      "application/vnd.jupyter.widget-view+json": {
       "model_id": "",
       "version_major": 2,
       "version_minor": 0
      },
      "text/plain": [
       "HBox(children=(FloatProgress(value=0.0, description='Training', layout=Layout(flex='2'), max=1250.0, style=Pro…"
      ]
     },
     "metadata": {},
     "output_type": "display_data"
    },
    {
     "name": "stdout",
     "output_type": "stream",
     "text": [
      "Epoch 227: train=125.302, val=97.3498, took 119.64 s\n",
      "  Validation Found 34297 of 54504, added 21667 (eff 62.93%) (2.17 FP/event)\n",
      "Result epoch:  227\n",
      "Average Eff:  0.0\n",
      "Average FP Rate:  0.0\n"
     ]
    },
    {
     "data": {
      "application/vnd.jupyter.widget-view+json": {
       "model_id": "",
       "version_major": 2,
       "version_minor": 0
      },
      "text/plain": [
       "HBox(children=(FloatProgress(value=0.0, description='Training', layout=Layout(flex='2'), max=1250.0, style=Pro…"
      ]
     },
     "metadata": {},
     "output_type": "display_data"
    },
    {
     "name": "stdout",
     "output_type": "stream",
     "text": [
      "Epoch 228: train=75.0386, val=55.3633, took 119.66 s\n",
      "  Validation Found 48619 of 54504, added 4908 (eff 89.20%) (0.492 FP/event)\n",
      "Result epoch:  228\n",
      "Average Eff:  0.0\n",
      "Average FP Rate:  0.0\n"
     ]
    },
    {
     "data": {
      "application/vnd.jupyter.widget-view+json": {
       "model_id": "",
       "version_major": 2,
       "version_minor": 0
      },
      "text/plain": [
       "HBox(children=(FloatProgress(value=0.0, description='Training', layout=Layout(flex='2'), max=1250.0, style=Pro…"
      ]
     },
     "metadata": {},
     "output_type": "display_data"
    },
    {
     "name": "stdout",
     "output_type": "stream",
     "text": [
      "Epoch 229: train=43.4024, val=30.58, took 120.04 s\n",
      "  Validation Found 49400 of 54504, added 2958 (eff 90.64%) (0.296 FP/event)\n",
      "Result epoch:  229\n",
      "Average Eff:  0.0\n",
      "Average FP Rate:  0.0\n"
     ]
    },
    {
     "data": {
      "application/vnd.jupyter.widget-view+json": {
       "model_id": "",
       "version_major": 2,
       "version_minor": 0
      },
      "text/plain": [
       "HBox(children=(FloatProgress(value=0.0, description='Training', layout=Layout(flex='2'), max=1250.0, style=Pro…"
      ]
     },
     "metadata": {},
     "output_type": "display_data"
    },
    {
     "name": "stdout",
     "output_type": "stream",
     "text": [
      "Epoch 230: train=27.4293, val=23.388, took 120.2 s\n",
      "  Validation Found 49444 of 54504, added 2272 (eff 90.72%) (0.228 FP/event)\n",
      "Result epoch:  230\n",
      "Average Eff:  0.0\n",
      "Average FP Rate:  0.0\n"
     ]
    },
    {
     "data": {
      "application/vnd.jupyter.widget-view+json": {
       "model_id": "",
       "version_major": 2,
       "version_minor": 0
      },
      "text/plain": [
       "HBox(children=(FloatProgress(value=0.0, description='Training', layout=Layout(flex='2'), max=1250.0, style=Pro…"
      ]
     },
     "metadata": {},
     "output_type": "display_data"
    },
    {
     "name": "stdout",
     "output_type": "stream",
     "text": [
      "Epoch 231: train=19.822, val=17.4882, took 120.24 s\n",
      "  Validation Found 48556 of 54504, added 1201 (eff 89.09%) (0.12 FP/event)\n",
      "Result epoch:  231\n",
      "Average Eff:  0.0\n",
      "Average FP Rate:  0.0\n"
     ]
    },
    {
     "data": {
      "application/vnd.jupyter.widget-view+json": {
       "model_id": "",
       "version_major": 2,
       "version_minor": 0
      },
      "text/plain": [
       "HBox(children=(FloatProgress(value=0.0, description='Training', layout=Layout(flex='2'), max=1250.0, style=Pro…"
      ]
     },
     "metadata": {},
     "output_type": "display_data"
    },
    {
     "name": "stdout",
     "output_type": "stream",
     "text": [
      "Epoch 232: train=14.966, val=13.1241, took 120.23 s\n",
      "  Validation Found 47579 of 54504, added 777 (eff 87.29%) (0.0778 FP/event)\n",
      "Result epoch:  232\n",
      "Average Eff:  0.0\n",
      "Average FP Rate:  0.0\n"
     ]
    },
    {
     "data": {
      "application/vnd.jupyter.widget-view+json": {
       "model_id": "",
       "version_major": 2,
       "version_minor": 0
      },
      "text/plain": [
       "HBox(children=(FloatProgress(value=0.0, description='Training', layout=Layout(flex='2'), max=1250.0, style=Pro…"
      ]
     },
     "metadata": {},
     "output_type": "display_data"
    },
    {
     "name": "stdout",
     "output_type": "stream",
     "text": [
      "Epoch 233: train=12.5614, val=12.0253, took 120.23 s\n",
      "  Validation Found 48640 of 54504, added 1094 (eff 89.24%) (0.11 FP/event)\n",
      "Result epoch:  233\n",
      "Average Eff:  0.0\n",
      "Average FP Rate:  0.0\n"
     ]
    },
    {
     "data": {
      "application/vnd.jupyter.widget-view+json": {
       "model_id": "",
       "version_major": 2,
       "version_minor": 0
      },
      "text/plain": [
       "HBox(children=(FloatProgress(value=0.0, description='Training', layout=Layout(flex='2'), max=1250.0, style=Pro…"
      ]
     },
     "metadata": {},
     "output_type": "display_data"
    },
    {
     "name": "stdout",
     "output_type": "stream",
     "text": [
      "Epoch 234: train=11.5126, val=11.1648, took 120.22 s\n",
      "  Validation Found 48623 of 54504, added 959 (eff 89.21%) (0.096 FP/event)\n",
      "Result epoch:  234\n",
      "Average Eff:  0.0\n",
      "Average FP Rate:  0.0\n"
     ]
    },
    {
     "data": {
      "application/vnd.jupyter.widget-view+json": {
       "model_id": "",
       "version_major": 2,
       "version_minor": 0
      },
      "text/plain": [
       "HBox(children=(FloatProgress(value=0.0, description='Training', layout=Layout(flex='2'), max=1250.0, style=Pro…"
      ]
     },
     "metadata": {},
     "output_type": "display_data"
    },
    {
     "name": "stdout",
     "output_type": "stream",
     "text": [
      "Epoch 235: train=10.9203, val=10.7705, took 120.27 s\n",
      "  Validation Found 48903 of 54504, added 1152 (eff 89.72%) (0.115 FP/event)\n",
      "Result epoch:  235\n",
      "Average Eff:  0.0\n",
      "Average FP Rate:  0.0\n"
     ]
    },
    {
     "data": {
      "application/vnd.jupyter.widget-view+json": {
       "model_id": "",
       "version_major": 2,
       "version_minor": 0
      },
      "text/plain": [
       "HBox(children=(FloatProgress(value=0.0, description='Training', layout=Layout(flex='2'), max=1250.0, style=Pro…"
      ]
     },
     "metadata": {},
     "output_type": "display_data"
    },
    {
     "name": "stdout",
     "output_type": "stream",
     "text": [
      "Epoch 236: train=10.549, val=10.4665, took 120.18 s\n",
      "  Validation Found 48968 of 54504, added 1129 (eff 89.84%) (0.113 FP/event)\n",
      "Result epoch:  236\n",
      "Average Eff:  0.0\n",
      "Average FP Rate:  0.0\n"
     ]
    },
    {
     "data": {
      "application/vnd.jupyter.widget-view+json": {
       "model_id": "",
       "version_major": 2,
       "version_minor": 0
      },
      "text/plain": [
       "HBox(children=(FloatProgress(value=0.0, description='Training', layout=Layout(flex='2'), max=1250.0, style=Pro…"
      ]
     },
     "metadata": {},
     "output_type": "display_data"
    },
    {
     "name": "stdout",
     "output_type": "stream",
     "text": [
      "Epoch 237: train=10.3216, val=10.467, took 120.25 s\n",
      "  Validation Found 49282 of 54504, added 1405 (eff 90.42%) (0.141 FP/event)\n",
      "Result epoch:  237\n",
      "Average Eff:  0.0\n",
      "Average FP Rate:  0.0\n"
     ]
    },
    {
     "data": {
      "application/vnd.jupyter.widget-view+json": {
       "model_id": "",
       "version_major": 2,
       "version_minor": 0
      },
      "text/plain": [
       "HBox(children=(FloatProgress(value=0.0, description='Training', layout=Layout(flex='2'), max=1250.0, style=Pro…"
      ]
     },
     "metadata": {},
     "output_type": "display_data"
    },
    {
     "name": "stdout",
     "output_type": "stream",
     "text": [
      "Epoch 238: train=10.1586, val=10.1381, took 120.24 s\n",
      "  Validation Found 49180 of 54504, added 1312 (eff 90.23%) (0.131 FP/event)\n",
      "Result epoch:  238\n",
      "Average Eff:  0.0\n",
      "Average FP Rate:  0.0\n"
     ]
    },
    {
     "data": {
      "application/vnd.jupyter.widget-view+json": {
       "model_id": "",
       "version_major": 2,
       "version_minor": 0
      },
      "text/plain": [
       "HBox(children=(FloatProgress(value=0.0, description='Training', layout=Layout(flex='2'), max=1250.0, style=Pro…"
      ]
     },
     "metadata": {},
     "output_type": "display_data"
    },
    {
     "name": "stdout",
     "output_type": "stream",
     "text": [
      "Epoch 239: train=9.96374, val=10.0383, took 120.19 s\n",
      "  Validation Found 49401 of 54504, added 1410 (eff 90.64%) (0.141 FP/event)\n",
      "Result epoch:  239\n",
      "Average Eff:  0.0\n",
      "Average FP Rate:  0.0\n"
     ]
    },
    {
     "data": {
      "application/vnd.jupyter.widget-view+json": {
       "model_id": "",
       "version_major": 2,
       "version_minor": 0
      },
      "text/plain": [
       "HBox(children=(FloatProgress(value=0.0, description='Training', layout=Layout(flex='2'), max=1250.0, style=Pro…"
      ]
     },
     "metadata": {},
     "output_type": "display_data"
    },
    {
     "name": "stdout",
     "output_type": "stream",
     "text": [
      "Epoch 240: train=9.78113, val=10.0253, took 120.19 s\n",
      "  Validation Found 48899 of 54504, added 982 (eff 89.72%) (0.0983 FP/event)\n",
      "Result epoch:  240\n",
      "Average Eff:  0.0\n",
      "Average FP Rate:  0.0\n"
     ]
    },
    {
     "data": {
      "application/vnd.jupyter.widget-view+json": {
       "model_id": "",
       "version_major": 2,
       "version_minor": 0
      },
      "text/plain": [
       "HBox(children=(FloatProgress(value=0.0, description='Training', layout=Layout(flex='2'), max=1250.0, style=Pro…"
      ]
     },
     "metadata": {},
     "output_type": "display_data"
    },
    {
     "name": "stdout",
     "output_type": "stream",
     "text": [
      "Epoch 241: train=9.65011, val=9.79351, took 120.19 s\n",
      "  Validation Found 49254 of 54504, added 1151 (eff 90.37%) (0.115 FP/event)\n",
      "Result epoch:  241\n",
      "Average Eff:  0.0\n",
      "Average FP Rate:  0.0\n"
     ]
    },
    {
     "data": {
      "application/vnd.jupyter.widget-view+json": {
       "model_id": "",
       "version_major": 2,
       "version_minor": 0
      },
      "text/plain": [
       "HBox(children=(FloatProgress(value=0.0, description='Training', layout=Layout(flex='2'), max=1250.0, style=Pro…"
      ]
     },
     "metadata": {},
     "output_type": "display_data"
    },
    {
     "name": "stdout",
     "output_type": "stream",
     "text": [
      "Epoch 242: train=9.53449, val=9.76538, took 120.18 s\n",
      "  Validation Found 49178 of 54504, added 1040 (eff 90.23%) (0.104 FP/event)\n",
      "Result epoch:  242\n",
      "Average Eff:  0.0\n",
      "Average FP Rate:  0.0\n"
     ]
    },
    {
     "data": {
      "application/vnd.jupyter.widget-view+json": {
       "model_id": "",
       "version_major": 2,
       "version_minor": 0
      },
      "text/plain": [
       "HBox(children=(FloatProgress(value=0.0, description='Training', layout=Layout(flex='2'), max=1250.0, style=Pro…"
      ]
     },
     "metadata": {},
     "output_type": "display_data"
    },
    {
     "name": "stdout",
     "output_type": "stream",
     "text": [
      "Epoch 243: train=9.3909, val=9.41676, took 120.17 s\n",
      "  Validation Found 49291 of 54504, added 934 (eff 90.44%) (0.0935 FP/event)\n",
      "Result epoch:  243\n",
      "Average Eff:  0.0\n",
      "Average FP Rate:  0.0\n"
     ]
    },
    {
     "data": {
      "application/vnd.jupyter.widget-view+json": {
       "model_id": "",
       "version_major": 2,
       "version_minor": 0
      },
      "text/plain": [
       "HBox(children=(FloatProgress(value=0.0, description='Training', layout=Layout(flex='2'), max=1250.0, style=Pro…"
      ]
     },
     "metadata": {},
     "output_type": "display_data"
    },
    {
     "name": "stdout",
     "output_type": "stream",
     "text": [
      "Epoch 244: train=9.263, val=9.45633, took 120.21 s\n",
      "  Validation Found 49071 of 54504, added 814 (eff 90.03%) (0.0815 FP/event)\n",
      "Result epoch:  244\n",
      "Average Eff:  0.0\n",
      "Average FP Rate:  0.0\n"
     ]
    },
    {
     "data": {
      "application/vnd.jupyter.widget-view+json": {
       "model_id": "",
       "version_major": 2,
       "version_minor": 0
      },
      "text/plain": [
       "HBox(children=(FloatProgress(value=0.0, description='Training', layout=Layout(flex='2'), max=1250.0, style=Pro…"
      ]
     },
     "metadata": {},
     "output_type": "display_data"
    },
    {
     "name": "stdout",
     "output_type": "stream",
     "text": [
      "Epoch 245: train=9.19254, val=9.21202, took 120.18 s\n",
      "  Validation Found 49677 of 54504, added 1123 (eff 91.14%) (0.112 FP/event)\n",
      "Result epoch:  245\n",
      "Average Eff:  0.0\n",
      "Average FP Rate:  0.0\n"
     ]
    },
    {
     "data": {
      "application/vnd.jupyter.widget-view+json": {
       "model_id": "",
       "version_major": 2,
       "version_minor": 0
      },
      "text/plain": [
       "HBox(children=(FloatProgress(value=0.0, description='Training', layout=Layout(flex='2'), max=1250.0, style=Pro…"
      ]
     },
     "metadata": {},
     "output_type": "display_data"
    },
    {
     "name": "stdout",
     "output_type": "stream",
     "text": [
      "Epoch 246: train=9.14557, val=9.23671, took 120.17 s\n",
      "  Validation Found 49869 of 54504, added 1242 (eff 91.50%) (0.124 FP/event)\n",
      "Result epoch:  246\n",
      "Average Eff:  0.0\n",
      "Average FP Rate:  0.0\n"
     ]
    },
    {
     "data": {
      "application/vnd.jupyter.widget-view+json": {
       "model_id": "",
       "version_major": 2,
       "version_minor": 0
      },
      "text/plain": [
       "HBox(children=(FloatProgress(value=0.0, description='Training', layout=Layout(flex='2'), max=1250.0, style=Pro…"
      ]
     },
     "metadata": {},
     "output_type": "display_data"
    },
    {
     "name": "stdout",
     "output_type": "stream",
     "text": [
      "Epoch 247: train=9.10493, val=9.24236, took 120.17 s\n",
      "  Validation Found 49382 of 54504, added 921 (eff 90.60%) (0.0922 FP/event)\n",
      "Result epoch:  247\n",
      "Average Eff:  0.0\n",
      "Average FP Rate:  0.0\n"
     ]
    },
    {
     "data": {
      "application/vnd.jupyter.widget-view+json": {
       "model_id": "",
       "version_major": 2,
       "version_minor": 0
      },
      "text/plain": [
       "HBox(children=(FloatProgress(value=0.0, description='Training', layout=Layout(flex='2'), max=1250.0, style=Pro…"
      ]
     },
     "metadata": {},
     "output_type": "display_data"
    },
    {
     "name": "stdout",
     "output_type": "stream",
     "text": [
      "Epoch 248: train=9.05736, val=9.11617, took 120.18 s\n",
      "  Validation Found 49359 of 54504, added 893 (eff 90.56%) (0.0894 FP/event)\n",
      "Result epoch:  248\n",
      "Average Eff:  0.0\n",
      "Average FP Rate:  0.0\n"
     ]
    },
    {
     "data": {
      "application/vnd.jupyter.widget-view+json": {
       "model_id": "",
       "version_major": 2,
       "version_minor": 0
      },
      "text/plain": [
       "HBox(children=(FloatProgress(value=0.0, description='Training', layout=Layout(flex='2'), max=1250.0, style=Pro…"
      ]
     },
     "metadata": {},
     "output_type": "display_data"
    },
    {
     "name": "stdout",
     "output_type": "stream",
     "text": [
      "Epoch 249: train=9.01189, val=9.13064, took 120.17 s\n",
      "  Validation Found 49642 of 54504, added 1035 (eff 91.08%) (0.104 FP/event)\n",
      "Result epoch:  249\n",
      "Average Eff:  0.0\n",
      "Average FP Rate:  0.0\n"
     ]
    },
    {
     "data": {
      "application/vnd.jupyter.widget-view+json": {
       "model_id": "",
       "version_major": 2,
       "version_minor": 0
      },
      "text/plain": [
       "HBox(children=(FloatProgress(value=0.0, description='Training', layout=Layout(flex='2'), max=1250.0, style=Pro…"
      ]
     },
     "metadata": {},
     "output_type": "display_data"
    },
    {
     "name": "stdout",
     "output_type": "stream",
     "text": [
      "Epoch 250: train=8.96984, val=9.059, took 119.7 s\n",
      "  Validation Found 49886 of 54504, added 1198 (eff 91.53%) (0.12 FP/event)\n",
      "Result epoch:  250\n",
      "Average Eff:  0.0\n",
      "Average FP Rate:  0.0\n"
     ]
    },
    {
     "data": {
      "application/vnd.jupyter.widget-view+json": {
       "model_id": "",
       "version_major": 2,
       "version_minor": 0
      },
      "text/plain": [
       "HBox(children=(FloatProgress(value=0.0, description='Training', layout=Layout(flex='2'), max=1250.0, style=Pro…"
      ]
     },
     "metadata": {},
     "output_type": "display_data"
    },
    {
     "name": "stdout",
     "output_type": "stream",
     "text": [
      "Epoch 251: train=8.91846, val=9.04717, took 119.6 s\n",
      "  Validation Found 49737 of 54504, added 1096 (eff 91.25%) (0.11 FP/event)\n",
      "Result epoch:  251\n",
      "Average Eff:  0.0\n",
      "Average FP Rate:  0.0\n"
     ]
    },
    {
     "data": {
      "application/vnd.jupyter.widget-view+json": {
       "model_id": "",
       "version_major": 2,
       "version_minor": 0
      },
      "text/plain": [
       "HBox(children=(FloatProgress(value=0.0, description='Training', layout=Layout(flex='2'), max=1250.0, style=Pro…"
      ]
     },
     "metadata": {},
     "output_type": "display_data"
    },
    {
     "name": "stdout",
     "output_type": "stream",
     "text": [
      "Epoch 252: train=8.88026, val=8.94904, took 119.59 s\n",
      "  Validation Found 49891 of 54504, added 1211 (eff 91.54%) (0.121 FP/event)\n",
      "Result epoch:  252\n",
      "Average Eff:  0.0\n",
      "Average FP Rate:  0.0\n"
     ]
    },
    {
     "data": {
      "application/vnd.jupyter.widget-view+json": {
       "model_id": "",
       "version_major": 2,
       "version_minor": 0
      },
      "text/plain": [
       "HBox(children=(FloatProgress(value=0.0, description='Training', layout=Layout(flex='2'), max=1250.0, style=Pro…"
      ]
     },
     "metadata": {},
     "output_type": "display_data"
    },
    {
     "name": "stdout",
     "output_type": "stream",
     "text": [
      "Epoch 253: train=8.86121, val=9.01719, took 120.1 s\n",
      "  Validation Found 49761 of 54504, added 1094 (eff 91.30%) (0.11 FP/event)\n",
      "Result epoch:  253\n",
      "Average Eff:  0.0\n",
      "Average FP Rate:  0.0\n"
     ]
    },
    {
     "data": {
      "application/vnd.jupyter.widget-view+json": {
       "model_id": "",
       "version_major": 2,
       "version_minor": 0
      },
      "text/plain": [
       "HBox(children=(FloatProgress(value=0.0, description='Training', layout=Layout(flex='2'), max=1250.0, style=Pro…"
      ]
     },
     "metadata": {},
     "output_type": "display_data"
    },
    {
     "name": "stdout",
     "output_type": "stream",
     "text": [
      "Epoch 254: train=8.82775, val=8.96609, took 119.64 s\n",
      "  Validation Found 49977 of 54504, added 1229 (eff 91.69%) (0.123 FP/event)\n",
      "Result epoch:  254\n",
      "Average Eff:  0.0\n",
      "Average FP Rate:  0.0\n"
     ]
    },
    {
     "data": {
      "application/vnd.jupyter.widget-view+json": {
       "model_id": "",
       "version_major": 2,
       "version_minor": 0
      },
      "text/plain": [
       "HBox(children=(FloatProgress(value=0.0, description='Training', layout=Layout(flex='2'), max=1250.0, style=Pro…"
      ]
     },
     "metadata": {},
     "output_type": "display_data"
    },
    {
     "name": "stdout",
     "output_type": "stream",
     "text": [
      "Epoch 255: train=8.80379, val=8.89387, took 119.56 s\n",
      "  Validation Found 49863 of 54504, added 1143 (eff 91.49%) (0.114 FP/event)\n",
      "Result epoch:  255\n",
      "Average Eff:  0.0\n",
      "Average FP Rate:  0.0\n"
     ]
    },
    {
     "data": {
      "application/vnd.jupyter.widget-view+json": {
       "model_id": "",
       "version_major": 2,
       "version_minor": 0
      },
      "text/plain": [
       "HBox(children=(FloatProgress(value=0.0, description='Training', layout=Layout(flex='2'), max=1250.0, style=Pro…"
      ]
     },
     "metadata": {},
     "output_type": "display_data"
    },
    {
     "name": "stdout",
     "output_type": "stream",
     "text": [
      "Epoch 256: train=8.7825, val=8.79236, took 119.57 s\n",
      "  Validation Found 49796 of 54504, added 1108 (eff 91.36%) (0.111 FP/event)\n",
      "Result epoch:  256\n",
      "Average Eff:  0.0\n",
      "Average FP Rate:  0.0\n"
     ]
    },
    {
     "data": {
      "application/vnd.jupyter.widget-view+json": {
       "model_id": "",
       "version_major": 2,
       "version_minor": 0
      },
      "text/plain": [
       "HBox(children=(FloatProgress(value=0.0, description='Training', layout=Layout(flex='2'), max=1250.0, style=Pro…"
      ]
     },
     "metadata": {},
     "output_type": "display_data"
    },
    {
     "name": "stdout",
     "output_type": "stream",
     "text": [
      "Epoch 257: train=8.76381, val=8.94089, took 119.59 s\n",
      "  Validation Found 49977 of 54504, added 1206 (eff 91.69%) (0.121 FP/event)\n",
      "Result epoch:  257\n",
      "Average Eff:  0.0\n",
      "Average FP Rate:  0.0\n"
     ]
    },
    {
     "data": {
      "application/vnd.jupyter.widget-view+json": {
       "model_id": "",
       "version_major": 2,
       "version_minor": 0
      },
      "text/plain": [
       "HBox(children=(FloatProgress(value=0.0, description='Training', layout=Layout(flex='2'), max=1250.0, style=Pro…"
      ]
     },
     "metadata": {},
     "output_type": "display_data"
    },
    {
     "name": "stdout",
     "output_type": "stream",
     "text": [
      "Epoch 258: train=8.75414, val=8.95284, took 119.55 s\n",
      "  Validation Found 49789 of 54504, added 1066 (eff 91.35%) (0.107 FP/event)\n",
      "Result epoch:  258\n",
      "Average Eff:  0.0\n",
      "Average FP Rate:  0.0\n"
     ]
    },
    {
     "data": {
      "application/vnd.jupyter.widget-view+json": {
       "model_id": "",
       "version_major": 2,
       "version_minor": 0
      },
      "text/plain": [
       "HBox(children=(FloatProgress(value=0.0, description='Training', layout=Layout(flex='2'), max=1250.0, style=Pro…"
      ]
     },
     "metadata": {},
     "output_type": "display_data"
    },
    {
     "name": "stdout",
     "output_type": "stream",
     "text": [
      "Epoch 259: train=8.73927, val=8.83171, took 119.56 s\n",
      "  Validation Found 50003 of 54504, added 1246 (eff 91.74%) (0.125 FP/event)\n",
      "Result epoch:  259\n",
      "Average Eff:  0.0\n",
      "Average FP Rate:  0.0\n"
     ]
    },
    {
     "data": {
      "application/vnd.jupyter.widget-view+json": {
       "model_id": "",
       "version_major": 2,
       "version_minor": 0
      },
      "text/plain": [
       "HBox(children=(FloatProgress(value=0.0, description='Training', layout=Layout(flex='2'), max=1250.0, style=Pro…"
      ]
     },
     "metadata": {},
     "output_type": "display_data"
    },
    {
     "name": "stdout",
     "output_type": "stream",
     "text": [
      "Epoch 260: train=8.73544, val=8.84547, took 119.54 s\n",
      "  Validation Found 49927 of 54504, added 1182 (eff 91.60%) (0.118 FP/event)\n",
      "Result epoch:  260\n",
      "Average Eff:  0.0\n",
      "Average FP Rate:  0.0\n"
     ]
    },
    {
     "data": {
      "application/vnd.jupyter.widget-view+json": {
       "model_id": "",
       "version_major": 2,
       "version_minor": 0
      },
      "text/plain": [
       "HBox(children=(FloatProgress(value=0.0, description='Training', layout=Layout(flex='2'), max=1250.0, style=Pro…"
      ]
     },
     "metadata": {},
     "output_type": "display_data"
    },
    {
     "name": "stdout",
     "output_type": "stream",
     "text": [
      "Epoch 261: train=8.72631, val=8.89304, took 119.63 s\n",
      "  Validation Found 49762 of 54504, added 1060 (eff 91.30%) (0.106 FP/event)\n",
      "Result epoch:  261\n",
      "Average Eff:  0.0\n",
      "Average FP Rate:  0.0\n"
     ]
    },
    {
     "data": {
      "application/vnd.jupyter.widget-view+json": {
       "model_id": "",
       "version_major": 2,
       "version_minor": 0
      },
      "text/plain": [
       "HBox(children=(FloatProgress(value=0.0, description='Training', layout=Layout(flex='2'), max=1250.0, style=Pro…"
      ]
     },
     "metadata": {},
     "output_type": "display_data"
    },
    {
     "name": "stdout",
     "output_type": "stream",
     "text": [
      "Epoch 262: train=8.71446, val=8.86569, took 119.58 s\n",
      "  Validation Found 49795 of 54504, added 1079 (eff 91.36%) (0.108 FP/event)\n",
      "Result epoch:  262\n",
      "Average Eff:  0.0\n",
      "Average FP Rate:  0.0\n"
     ]
    },
    {
     "data": {
      "application/vnd.jupyter.widget-view+json": {
       "model_id": "",
       "version_major": 2,
       "version_minor": 0
      },
      "text/plain": [
       "HBox(children=(FloatProgress(value=0.0, description='Training', layout=Layout(flex='2'), max=1250.0, style=Pro…"
      ]
     },
     "metadata": {},
     "output_type": "display_data"
    },
    {
     "name": "stdout",
     "output_type": "stream",
     "text": [
      "Epoch 263: train=8.71561, val=8.88143, took 119.65 s\n",
      "  Validation Found 49956 of 54504, added 1219 (eff 91.66%) (0.122 FP/event)\n",
      "Result epoch:  263\n",
      "Average Eff:  0.0\n",
      "Average FP Rate:  0.0\n"
     ]
    },
    {
     "data": {
      "application/vnd.jupyter.widget-view+json": {
       "model_id": "",
       "version_major": 2,
       "version_minor": 0
      },
      "text/plain": [
       "HBox(children=(FloatProgress(value=0.0, description='Training', layout=Layout(flex='2'), max=1250.0, style=Pro…"
      ]
     },
     "metadata": {},
     "output_type": "display_data"
    },
    {
     "name": "stdout",
     "output_type": "stream",
     "text": [
      "Epoch 264: train=8.71076, val=8.8366, took 119.64 s\n",
      "  Validation Found 49990 of 54504, added 1191 (eff 91.72%) (0.119 FP/event)\n",
      "Result epoch:  264\n",
      "Average Eff:  0.0\n",
      "Average FP Rate:  0.0\n"
     ]
    },
    {
     "data": {
      "application/vnd.jupyter.widget-view+json": {
       "model_id": "",
       "version_major": 2,
       "version_minor": 0
      },
      "text/plain": [
       "HBox(children=(FloatProgress(value=0.0, description='Training', layout=Layout(flex='2'), max=1250.0, style=Pro…"
      ]
     },
     "metadata": {},
     "output_type": "display_data"
    },
    {
     "name": "stdout",
     "output_type": "stream",
     "text": [
      "Epoch 265: train=8.70099, val=8.87481, took 119.64 s\n",
      "  Validation Found 49869 of 54504, added 1106 (eff 91.50%) (0.111 FP/event)\n",
      "Result epoch:  265\n",
      "Average Eff:  0.0\n",
      "Average FP Rate:  0.0\n"
     ]
    },
    {
     "data": {
      "application/vnd.jupyter.widget-view+json": {
       "model_id": "",
       "version_major": 2,
       "version_minor": 0
      },
      "text/plain": [
       "HBox(children=(FloatProgress(value=0.0, description='Training', layout=Layout(flex='2'), max=1250.0, style=Pro…"
      ]
     },
     "metadata": {},
     "output_type": "display_data"
    },
    {
     "name": "stdout",
     "output_type": "stream",
     "text": [
      "Epoch 266: train=8.69493, val=8.88413, took 119.62 s\n",
      "  Validation Found 49893 of 54504, added 1185 (eff 91.54%) (0.119 FP/event)\n",
      "Result epoch:  266\n",
      "Average Eff:  0.0\n",
      "Average FP Rate:  0.0\n"
     ]
    },
    {
     "data": {
      "application/vnd.jupyter.widget-view+json": {
       "model_id": "",
       "version_major": 2,
       "version_minor": 0
      },
      "text/plain": [
       "HBox(children=(FloatProgress(value=0.0, description='Training', layout=Layout(flex='2'), max=1250.0, style=Pro…"
      ]
     },
     "metadata": {},
     "output_type": "display_data"
    },
    {
     "name": "stdout",
     "output_type": "stream",
     "text": [
      "Epoch 267: train=8.69356, val=8.95691, took 119.53 s\n",
      "  Validation Found 49979 of 54504, added 1238 (eff 91.70%) (0.124 FP/event)\n",
      "Result epoch:  267\n",
      "Average Eff:  0.0\n",
      "Average FP Rate:  0.0\n"
     ]
    },
    {
     "data": {
      "application/vnd.jupyter.widget-view+json": {
       "model_id": "",
       "version_major": 2,
       "version_minor": 0
      },
      "text/plain": [
       "HBox(children=(FloatProgress(value=0.0, description='Training', layout=Layout(flex='2'), max=1250.0, style=Pro…"
      ]
     },
     "metadata": {},
     "output_type": "display_data"
    },
    {
     "name": "stdout",
     "output_type": "stream",
     "text": [
      "Epoch 268: train=8.67984, val=8.85852, took 119.6 s\n",
      "  Validation Found 49793 of 54504, added 1057 (eff 91.36%) (0.106 FP/event)\n",
      "Result epoch:  268\n",
      "Average Eff:  0.0\n",
      "Average FP Rate:  0.0\n"
     ]
    },
    {
     "data": {
      "application/vnd.jupyter.widget-view+json": {
       "model_id": "",
       "version_major": 2,
       "version_minor": 0
      },
      "text/plain": [
       "HBox(children=(FloatProgress(value=0.0, description='Training', layout=Layout(flex='2'), max=1250.0, style=Pro…"
      ]
     },
     "metadata": {},
     "output_type": "display_data"
    },
    {
     "name": "stdout",
     "output_type": "stream",
     "text": [
      "Epoch 269: train=8.67101, val=8.85468, took 119.52 s\n",
      "  Validation Found 49703 of 54504, added 1061 (eff 91.19%) (0.106 FP/event)\n",
      "Result epoch:  269\n",
      "Average Eff:  0.0\n",
      "Average FP Rate:  0.0\n"
     ]
    },
    {
     "data": {
      "application/vnd.jupyter.widget-view+json": {
       "model_id": "",
       "version_major": 2,
       "version_minor": 0
      },
      "text/plain": [
       "HBox(children=(FloatProgress(value=0.0, description='Training', layout=Layout(flex='2'), max=1250.0, style=Pro…"
      ]
     },
     "metadata": {},
     "output_type": "display_data"
    },
    {
     "name": "stdout",
     "output_type": "stream",
     "text": [
      "Epoch 270: train=8.67128, val=8.82123, took 119.62 s\n",
      "  Validation Found 49896 of 54504, added 1145 (eff 91.55%) (0.115 FP/event)\n",
      "Result epoch:  270\n",
      "Average Eff:  0.0\n",
      "Average FP Rate:  0.0\n"
     ]
    },
    {
     "data": {
      "application/vnd.jupyter.widget-view+json": {
       "model_id": "",
       "version_major": 2,
       "version_minor": 0
      },
      "text/plain": [
       "HBox(children=(FloatProgress(value=0.0, description='Training', layout=Layout(flex='2'), max=1250.0, style=Pro…"
      ]
     },
     "metadata": {},
     "output_type": "display_data"
    },
    {
     "name": "stdout",
     "output_type": "stream",
     "text": [
      "Epoch 271: train=8.66614, val=8.80137, took 119.45 s\n",
      "  Validation Found 49860 of 54504, added 1145 (eff 91.48%) (0.115 FP/event)\n",
      "Result epoch:  271\n",
      "Average Eff:  0.0\n",
      "Average FP Rate:  0.0\n"
     ]
    },
    {
     "data": {
      "application/vnd.jupyter.widget-view+json": {
       "model_id": "",
       "version_major": 2,
       "version_minor": 0
      },
      "text/plain": [
       "HBox(children=(FloatProgress(value=0.0, description='Training', layout=Layout(flex='2'), max=1250.0, style=Pro…"
      ]
     },
     "metadata": {},
     "output_type": "display_data"
    },
    {
     "name": "stdout",
     "output_type": "stream",
     "text": [
      "Epoch 272: train=8.66162, val=8.83989, took 119.6 s\n",
      "  Validation Found 49933 of 54504, added 1169 (eff 91.61%) (0.117 FP/event)\n",
      "Result epoch:  272\n",
      "Average Eff:  0.0\n",
      "Average FP Rate:  0.0\n"
     ]
    },
    {
     "data": {
      "application/vnd.jupyter.widget-view+json": {
       "model_id": "",
       "version_major": 2,
       "version_minor": 0
      },
      "text/plain": [
       "HBox(children=(FloatProgress(value=0.0, description='Training', layout=Layout(flex='2'), max=1250.0, style=Pro…"
      ]
     },
     "metadata": {},
     "output_type": "display_data"
    },
    {
     "name": "stdout",
     "output_type": "stream",
     "text": [
      "Epoch 273: train=8.65875, val=8.87089, took 119.57 s\n",
      "  Validation Found 49983 of 54504, added 1167 (eff 91.71%) (0.117 FP/event)\n",
      "Result epoch:  273\n",
      "Average Eff:  0.0\n",
      "Average FP Rate:  0.0\n"
     ]
    },
    {
     "data": {
      "application/vnd.jupyter.widget-view+json": {
       "model_id": "",
       "version_major": 2,
       "version_minor": 0
      },
      "text/plain": [
       "HBox(children=(FloatProgress(value=0.0, description='Training', layout=Layout(flex='2'), max=1250.0, style=Pro…"
      ]
     },
     "metadata": {},
     "output_type": "display_data"
    },
    {
     "name": "stdout",
     "output_type": "stream",
     "text": [
      "Epoch 274: train=8.6488, val=8.82577, took 119.5 s\n",
      "  Validation Found 49844 of 54504, added 1108 (eff 91.45%) (0.111 FP/event)\n",
      "Result epoch:  274\n",
      "Average Eff:  0.0\n",
      "Average FP Rate:  0.0\n"
     ]
    },
    {
     "data": {
      "application/vnd.jupyter.widget-view+json": {
       "model_id": "",
       "version_major": 2,
       "version_minor": 0
      },
      "text/plain": [
       "HBox(children=(FloatProgress(value=0.0, description='Training', layout=Layout(flex='2'), max=1250.0, style=Pro…"
      ]
     },
     "metadata": {},
     "output_type": "display_data"
    },
    {
     "name": "stdout",
     "output_type": "stream",
     "text": [
      "Epoch 275: train=8.64827, val=8.81578, took 119.36 s\n",
      "  Validation Found 49912 of 54504, added 1155 (eff 91.57%) (0.116 FP/event)\n",
      "Result epoch:  275\n",
      "Average Eff:  0.0\n",
      "Average FP Rate:  0.0\n"
     ]
    },
    {
     "data": {
      "application/vnd.jupyter.widget-view+json": {
       "model_id": "",
       "version_major": 2,
       "version_minor": 0
      },
      "text/plain": [
       "HBox(children=(FloatProgress(value=0.0, description='Training', layout=Layout(flex='2'), max=1250.0, style=Pro…"
      ]
     },
     "metadata": {},
     "output_type": "display_data"
    },
    {
     "name": "stdout",
     "output_type": "stream",
     "text": [
      "Epoch 276: train=8.64219, val=8.82274, took 119.39 s\n",
      "  Validation Found 49995 of 54504, added 1207 (eff 91.73%) (0.121 FP/event)\n",
      "Result epoch:  276\n",
      "Average Eff:  0.0\n",
      "Average FP Rate:  0.0\n"
     ]
    },
    {
     "data": {
      "application/vnd.jupyter.widget-view+json": {
       "model_id": "",
       "version_major": 2,
       "version_minor": 0
      },
      "text/plain": [
       "HBox(children=(FloatProgress(value=0.0, description='Training', layout=Layout(flex='2'), max=1250.0, style=Pro…"
      ]
     },
     "metadata": {},
     "output_type": "display_data"
    },
    {
     "name": "stdout",
     "output_type": "stream",
     "text": [
      "Epoch 277: train=8.64153, val=8.84294, took 119.42 s\n",
      "  Validation Found 50037 of 54504, added 1262 (eff 91.80%) (0.126 FP/event)\n",
      "Result epoch:  277\n",
      "Average Eff:  0.0\n",
      "Average FP Rate:  0.0\n"
     ]
    },
    {
     "data": {
      "application/vnd.jupyter.widget-view+json": {
       "model_id": "",
       "version_major": 2,
       "version_minor": 0
      },
      "text/plain": [
       "HBox(children=(FloatProgress(value=0.0, description='Training', layout=Layout(flex='2'), max=1250.0, style=Pro…"
      ]
     },
     "metadata": {},
     "output_type": "display_data"
    },
    {
     "name": "stdout",
     "output_type": "stream",
     "text": [
      "Epoch 278: train=8.62702, val=8.77862, took 119.31 s\n",
      "  Validation Found 49917 of 54504, added 1206 (eff 91.58%) (0.121 FP/event)\n",
      "Result epoch:  278\n",
      "Average Eff:  0.0\n",
      "Average FP Rate:  0.0\n"
     ]
    },
    {
     "data": {
      "application/vnd.jupyter.widget-view+json": {
       "model_id": "",
       "version_major": 2,
       "version_minor": 0
      },
      "text/plain": [
       "HBox(children=(FloatProgress(value=0.0, description='Training', layout=Layout(flex='2'), max=1250.0, style=Pro…"
      ]
     },
     "metadata": {},
     "output_type": "display_data"
    },
    {
     "name": "stdout",
     "output_type": "stream",
     "text": [
      "Epoch 279: train=8.62198, val=8.79206, took 119.33 s\n",
      "  Validation Found 50020 of 54504, added 1247 (eff 91.77%) (0.125 FP/event)\n",
      "Result epoch:  279\n",
      "Average Eff:  0.0\n",
      "Average FP Rate:  0.0\n"
     ]
    },
    {
     "data": {
      "application/vnd.jupyter.widget-view+json": {
       "model_id": "",
       "version_major": 2,
       "version_minor": 0
      },
      "text/plain": [
       "HBox(children=(FloatProgress(value=0.0, description='Training', layout=Layout(flex='2'), max=1250.0, style=Pro…"
      ]
     },
     "metadata": {},
     "output_type": "display_data"
    },
    {
     "name": "stdout",
     "output_type": "stream",
     "text": [
      "Epoch 280: train=8.62198, val=8.80755, took 119.31 s\n",
      "  Validation Found 49932 of 54504, added 1155 (eff 91.61%) (0.116 FP/event)\n",
      "Result epoch:  280\n",
      "Average Eff:  0.0\n",
      "Average FP Rate:  0.0\n"
     ]
    },
    {
     "data": {
      "application/vnd.jupyter.widget-view+json": {
       "model_id": "",
       "version_major": 2,
       "version_minor": 0
      },
      "text/plain": [
       "HBox(children=(FloatProgress(value=0.0, description='Training', layout=Layout(flex='2'), max=1250.0, style=Pro…"
      ]
     },
     "metadata": {},
     "output_type": "display_data"
    },
    {
     "name": "stdout",
     "output_type": "stream",
     "text": [
      "Epoch 281: train=8.61723, val=8.82446, took 119.3 s\n",
      "  Validation Found 49884 of 54504, added 1140 (eff 91.52%) (0.114 FP/event)\n",
      "Result epoch:  281\n",
      "Average Eff:  0.0\n",
      "Average FP Rate:  0.0\n"
     ]
    },
    {
     "data": {
      "application/vnd.jupyter.widget-view+json": {
       "model_id": "",
       "version_major": 2,
       "version_minor": 0
      },
      "text/plain": [
       "HBox(children=(FloatProgress(value=0.0, description='Training', layout=Layout(flex='2'), max=1250.0, style=Pro…"
      ]
     },
     "metadata": {},
     "output_type": "display_data"
    },
    {
     "name": "stdout",
     "output_type": "stream",
     "text": [
      "Epoch 282: train=8.61845, val=8.84295, took 119.28 s\n",
      "  Validation Found 50009 of 54504, added 1228 (eff 91.75%) (0.123 FP/event)\n",
      "Result epoch:  282\n",
      "Average Eff:  0.0\n",
      "Average FP Rate:  0.0\n"
     ]
    },
    {
     "data": {
      "application/vnd.jupyter.widget-view+json": {
       "model_id": "",
       "version_major": 2,
       "version_minor": 0
      },
      "text/plain": [
       "HBox(children=(FloatProgress(value=0.0, description='Training', layout=Layout(flex='2'), max=1250.0, style=Pro…"
      ]
     },
     "metadata": {},
     "output_type": "display_data"
    },
    {
     "name": "stdout",
     "output_type": "stream",
     "text": [
      "Epoch 283: train=8.60366, val=8.76939, took 119.35 s\n",
      "  Validation Found 50085 of 54504, added 1268 (eff 91.89%) (0.127 FP/event)\n",
      "Result epoch:  283\n",
      "Average Eff:  0.0\n",
      "Average FP Rate:  0.0\n"
     ]
    },
    {
     "data": {
      "application/vnd.jupyter.widget-view+json": {
       "model_id": "",
       "version_major": 2,
       "version_minor": 0
      },
      "text/plain": [
       "HBox(children=(FloatProgress(value=0.0, description='Training', layout=Layout(flex='2'), max=1250.0, style=Pro…"
      ]
     },
     "metadata": {},
     "output_type": "display_data"
    },
    {
     "name": "stdout",
     "output_type": "stream",
     "text": [
      "Epoch 284: train=8.60064, val=8.79384, took 119.27 s\n",
      "  Validation Found 50054 of 54504, added 1278 (eff 91.84%) (0.128 FP/event)\n",
      "Result epoch:  284\n",
      "Average Eff:  0.0\n",
      "Average FP Rate:  0.0\n"
     ]
    },
    {
     "data": {
      "application/vnd.jupyter.widget-view+json": {
       "model_id": "",
       "version_major": 2,
       "version_minor": 0
      },
      "text/plain": [
       "HBox(children=(FloatProgress(value=0.0, description='Training', layout=Layout(flex='2'), max=1250.0, style=Pro…"
      ]
     },
     "metadata": {},
     "output_type": "display_data"
    },
    {
     "name": "stdout",
     "output_type": "stream",
     "text": [
      "Epoch 285: train=8.58714, val=8.75079, took 119.24 s\n",
      "  Validation Found 49958 of 54504, added 1198 (eff 91.66%) (0.12 FP/event)\n",
      "Result epoch:  285\n",
      "Average Eff:  0.0\n",
      "Average FP Rate:  0.0\n"
     ]
    },
    {
     "data": {
      "application/vnd.jupyter.widget-view+json": {
       "model_id": "",
       "version_major": 2,
       "version_minor": 0
      },
      "text/plain": [
       "HBox(children=(FloatProgress(value=0.0, description='Training', layout=Layout(flex='2'), max=1250.0, style=Pro…"
      ]
     },
     "metadata": {},
     "output_type": "display_data"
    },
    {
     "name": "stdout",
     "output_type": "stream",
     "text": [
      "Epoch 286: train=8.5906, val=8.78728, took 119.24 s\n",
      "  Validation Found 49940 of 54504, added 1145 (eff 91.63%) (0.115 FP/event)\n",
      "Result epoch:  286\n",
      "Average Eff:  0.0\n",
      "Average FP Rate:  0.0\n"
     ]
    },
    {
     "data": {
      "application/vnd.jupyter.widget-view+json": {
       "model_id": "",
       "version_major": 2,
       "version_minor": 0
      },
      "text/plain": [
       "HBox(children=(FloatProgress(value=0.0, description='Training', layout=Layout(flex='2'), max=1250.0, style=Pro…"
      ]
     },
     "metadata": {},
     "output_type": "display_data"
    },
    {
     "name": "stdout",
     "output_type": "stream",
     "text": [
      "Epoch 287: train=8.58573, val=8.76032, took 119.24 s\n",
      "  Validation Found 50015 of 54504, added 1210 (eff 91.76%) (0.121 FP/event)\n",
      "Result epoch:  287\n",
      "Average Eff:  0.0\n",
      "Average FP Rate:  0.0\n"
     ]
    },
    {
     "data": {
      "application/vnd.jupyter.widget-view+json": {
       "model_id": "",
       "version_major": 2,
       "version_minor": 0
      },
      "text/plain": [
       "HBox(children=(FloatProgress(value=0.0, description='Training', layout=Layout(flex='2'), max=1250.0, style=Pro…"
      ]
     },
     "metadata": {},
     "output_type": "display_data"
    },
    {
     "name": "stdout",
     "output_type": "stream",
     "text": [
      "Epoch 288: train=8.58448, val=8.69489, took 119.28 s\n",
      "  Validation Found 50026 of 54504, added 1211 (eff 91.78%) (0.121 FP/event)\n",
      "Result epoch:  288\n",
      "Average Eff:  0.0\n",
      "Average FP Rate:  0.0\n"
     ]
    },
    {
     "data": {
      "application/vnd.jupyter.widget-view+json": {
       "model_id": "",
       "version_major": 2,
       "version_minor": 0
      },
      "text/plain": [
       "HBox(children=(FloatProgress(value=0.0, description='Training', layout=Layout(flex='2'), max=1250.0, style=Pro…"
      ]
     },
     "metadata": {},
     "output_type": "display_data"
    },
    {
     "name": "stdout",
     "output_type": "stream",
     "text": [
      "Epoch 289: train=8.58219, val=8.74545, took 119.23 s\n",
      "  Validation Found 49996 of 54504, added 1230 (eff 91.73%) (0.123 FP/event)\n",
      "Result epoch:  289\n",
      "Average Eff:  0.0\n",
      "Average FP Rate:  0.0\n"
     ]
    },
    {
     "data": {
      "application/vnd.jupyter.widget-view+json": {
       "model_id": "",
       "version_major": 2,
       "version_minor": 0
      },
      "text/plain": [
       "HBox(children=(FloatProgress(value=0.0, description='Training', layout=Layout(flex='2'), max=1250.0, style=Pro…"
      ]
     },
     "metadata": {},
     "output_type": "display_data"
    },
    {
     "name": "stdout",
     "output_type": "stream",
     "text": [
      "Epoch 290: train=8.5779, val=8.7225, took 119.24 s\n",
      "  Validation Found 49957 of 54504, added 1179 (eff 91.66%) (0.118 FP/event)\n",
      "Result epoch:  290\n",
      "Average Eff:  0.0\n",
      "Average FP Rate:  0.0\n"
     ]
    },
    {
     "data": {
      "application/vnd.jupyter.widget-view+json": {
       "model_id": "",
       "version_major": 2,
       "version_minor": 0
      },
      "text/plain": [
       "HBox(children=(FloatProgress(value=0.0, description='Training', layout=Layout(flex='2'), max=1250.0, style=Pro…"
      ]
     },
     "metadata": {},
     "output_type": "display_data"
    },
    {
     "name": "stdout",
     "output_type": "stream",
     "text": [
      "Epoch 291: train=8.54877, val=8.7187, took 119.23 s\n",
      "  Validation Found 50080 of 54504, added 1224 (eff 91.88%) (0.123 FP/event)\n",
      "Result epoch:  291\n",
      "Average Eff:  0.0\n",
      "Average FP Rate:  0.0\n"
     ]
    },
    {
     "data": {
      "application/vnd.jupyter.widget-view+json": {
       "model_id": "",
       "version_major": 2,
       "version_minor": 0
      },
      "text/plain": [
       "HBox(children=(FloatProgress(value=0.0, description='Training', layout=Layout(flex='2'), max=1250.0, style=Pro…"
      ]
     },
     "metadata": {},
     "output_type": "display_data"
    },
    {
     "name": "stdout",
     "output_type": "stream",
     "text": [
      "Epoch 292: train=8.52411, val=8.75913, took 119.23 s\n",
      "  Validation Found 50061 of 54504, added 1183 (eff 91.85%) (0.118 FP/event)\n",
      "Result epoch:  292\n",
      "Average Eff:  0.0\n",
      "Average FP Rate:  0.0\n"
     ]
    },
    {
     "data": {
      "application/vnd.jupyter.widget-view+json": {
       "model_id": "",
       "version_major": 2,
       "version_minor": 0
      },
      "text/plain": [
       "HBox(children=(FloatProgress(value=0.0, description='Training', layout=Layout(flex='2'), max=1250.0, style=Pro…"
      ]
     },
     "metadata": {},
     "output_type": "display_data"
    },
    {
     "name": "stdout",
     "output_type": "stream",
     "text": [
      "Epoch 293: train=8.50178, val=8.69474, took 119.23 s\n",
      "  Validation Found 50162 of 54504, added 1252 (eff 92.03%) (0.125 FP/event)\n",
      "Result epoch:  293\n",
      "Average Eff:  0.0\n",
      "Average FP Rate:  0.0\n"
     ]
    },
    {
     "data": {
      "application/vnd.jupyter.widget-view+json": {
       "model_id": "",
       "version_major": 2,
       "version_minor": 0
      },
      "text/plain": [
       "HBox(children=(FloatProgress(value=0.0, description='Training', layout=Layout(flex='2'), max=1250.0, style=Pro…"
      ]
     },
     "metadata": {},
     "output_type": "display_data"
    },
    {
     "name": "stdout",
     "output_type": "stream",
     "text": [
      "Epoch 294: train=8.49823, val=8.63416, took 119.23 s\n",
      "  Validation Found 50181 of 54504, added 1267 (eff 92.07%) (0.127 FP/event)\n",
      "Result epoch:  294\n",
      "Average Eff:  0.0\n",
      "Average FP Rate:  0.0\n"
     ]
    },
    {
     "data": {
      "application/vnd.jupyter.widget-view+json": {
       "model_id": "",
       "version_major": 2,
       "version_minor": 0
      },
      "text/plain": [
       "HBox(children=(FloatProgress(value=0.0, description='Training', layout=Layout(flex='2'), max=1250.0, style=Pro…"
      ]
     },
     "metadata": {},
     "output_type": "display_data"
    },
    {
     "name": "stdout",
     "output_type": "stream",
     "text": [
      "Epoch 295: train=8.48477, val=8.66795, took 119.23 s\n",
      "  Validation Found 50025 of 54504, added 1174 (eff 91.78%) (0.118 FP/event)\n",
      "Result epoch:  295\n",
      "Average Eff:  0.0\n",
      "Average FP Rate:  0.0\n"
     ]
    },
    {
     "data": {
      "application/vnd.jupyter.widget-view+json": {
       "model_id": "",
       "version_major": 2,
       "version_minor": 0
      },
      "text/plain": [
       "HBox(children=(FloatProgress(value=0.0, description='Training', layout=Layout(flex='2'), max=1250.0, style=Pro…"
      ]
     },
     "metadata": {},
     "output_type": "display_data"
    },
    {
     "name": "stdout",
     "output_type": "stream",
     "text": [
      "Epoch 296: train=8.48477, val=8.70408, took 119.23 s\n",
      "  Validation Found 50143 of 54504, added 1289 (eff 92.00%) (0.129 FP/event)\n",
      "Result epoch:  296\n",
      "Average Eff:  0.0\n",
      "Average FP Rate:  0.0\n"
     ]
    },
    {
     "data": {
      "application/vnd.jupyter.widget-view+json": {
       "model_id": "",
       "version_major": 2,
       "version_minor": 0
      },
      "text/plain": [
       "HBox(children=(FloatProgress(value=0.0, description='Training', layout=Layout(flex='2'), max=1250.0, style=Pro…"
      ]
     },
     "metadata": {},
     "output_type": "display_data"
    },
    {
     "name": "stdout",
     "output_type": "stream",
     "text": [
      "Epoch 297: train=8.48526, val=8.68315, took 119.7 s\n",
      "  Validation Found 50047 of 54504, added 1171 (eff 91.82%) (0.117 FP/event)\n",
      "Result epoch:  297\n",
      "Average Eff:  0.0\n",
      "Average FP Rate:  0.0\n"
     ]
    },
    {
     "data": {
      "application/vnd.jupyter.widget-view+json": {
       "model_id": "",
       "version_major": 2,
       "version_minor": 0
      },
      "text/plain": [
       "HBox(children=(FloatProgress(value=0.0, description='Training', layout=Layout(flex='2'), max=1250.0, style=Pro…"
      ]
     },
     "metadata": {},
     "output_type": "display_data"
    },
    {
     "name": "stdout",
     "output_type": "stream",
     "text": [
      "Epoch 298: train=8.48311, val=8.63293, took 119.32 s\n",
      "  Validation Found 50113 of 54504, added 1240 (eff 91.94%) (0.124 FP/event)\n",
      "Result epoch:  298\n",
      "Average Eff:  0.0\n",
      "Average FP Rate:  0.0\n"
     ]
    },
    {
     "data": {
      "application/vnd.jupyter.widget-view+json": {
       "model_id": "",
       "version_major": 2,
       "version_minor": 0
      },
      "text/plain": [
       "HBox(children=(FloatProgress(value=0.0, description='Training', layout=Layout(flex='2'), max=1250.0, style=Pro…"
      ]
     },
     "metadata": {},
     "output_type": "display_data"
    },
    {
     "name": "stdout",
     "output_type": "stream",
     "text": [
      "Epoch 299: train=8.47603, val=8.64944, took 119.28 s\n",
      "  Validation Found 50287 of 54504, added 1370 (eff 92.26%) (0.137 FP/event)\n",
      "Result epoch:  299\n",
      "Average Eff:  0.0\n",
      "Average FP Rate:  0.0\n"
     ]
    },
    {
     "data": {
      "application/vnd.jupyter.widget-view+json": {
       "model_id": "",
       "version_major": 2,
       "version_minor": 0
      },
      "text/plain": [
       "HBox(children=(FloatProgress(value=0.0, description='Training', layout=Layout(flex='2'), max=1250.0, style=Pro…"
      ]
     },
     "metadata": {},
     "output_type": "display_data"
    },
    {
     "name": "stdout",
     "output_type": "stream",
     "text": [
      "Epoch 300: train=8.46523, val=8.63125, took 119.25 s\n",
      "  Validation Found 50169 of 54504, added 1276 (eff 92.05%) (0.128 FP/event)\n",
      "Result epoch:  300\n",
      "Average Eff:  0.0\n",
      "Average FP Rate:  0.0\n"
     ]
    },
    {
     "data": {
      "application/vnd.jupyter.widget-view+json": {
       "model_id": "",
       "version_major": 2,
       "version_minor": 0
      },
      "text/plain": [
       "HBox(children=(FloatProgress(value=0.0, description='Training', layout=Layout(flex='2'), max=1250.0, style=Pro…"
      ]
     },
     "metadata": {},
     "output_type": "display_data"
    },
    {
     "name": "stdout",
     "output_type": "stream",
     "text": [
      "Epoch 301: train=8.46964, val=8.63555, took 119.23 s\n",
      "  Validation Found 50217 of 54504, added 1332 (eff 92.13%) (0.133 FP/event)\n",
      "Result epoch:  301\n",
      "Average Eff:  0.0\n",
      "Average FP Rate:  0.0\n"
     ]
    },
    {
     "data": {
      "application/vnd.jupyter.widget-view+json": {
       "model_id": "",
       "version_major": 2,
       "version_minor": 0
      },
      "text/plain": [
       "HBox(children=(FloatProgress(value=0.0, description='Training', layout=Layout(flex='2'), max=1250.0, style=Pro…"
      ]
     },
     "metadata": {},
     "output_type": "display_data"
    },
    {
     "name": "stdout",
     "output_type": "stream",
     "text": [
      "Epoch 302: train=8.46556, val=8.66218, took 119.24 s\n",
      "  Validation Found 50088 of 54504, added 1218 (eff 91.90%) (0.122 FP/event)\n",
      "Result epoch:  302\n",
      "Average Eff:  0.0\n",
      "Average FP Rate:  0.0\n"
     ]
    },
    {
     "data": {
      "application/vnd.jupyter.widget-view+json": {
       "model_id": "",
       "version_major": 2,
       "version_minor": 0
      },
      "text/plain": [
       "HBox(children=(FloatProgress(value=0.0, description='Training', layout=Layout(flex='2'), max=1250.0, style=Pro…"
      ]
     },
     "metadata": {},
     "output_type": "display_data"
    },
    {
     "name": "stdout",
     "output_type": "stream",
     "text": [
      "Epoch 303: train=8.46351, val=8.68869, took 119.25 s\n",
      "  Validation Found 50173 of 54504, added 1265 (eff 92.05%) (0.127 FP/event)\n",
      "Result epoch:  303\n",
      "Average Eff:  0.0\n",
      "Average FP Rate:  0.0\n"
     ]
    },
    {
     "data": {
      "application/vnd.jupyter.widget-view+json": {
       "model_id": "",
       "version_major": 2,
       "version_minor": 0
      },
      "text/plain": [
       "HBox(children=(FloatProgress(value=0.0, description='Training', layout=Layout(flex='2'), max=1250.0, style=Pro…"
      ]
     },
     "metadata": {},
     "output_type": "display_data"
    },
    {
     "name": "stdout",
     "output_type": "stream",
     "text": [
      "Epoch 304: train=8.45493, val=8.6193, took 119.24 s\n",
      "  Validation Found 50204 of 54504, added 1284 (eff 92.11%) (0.129 FP/event)\n",
      "Result epoch:  304\n",
      "Average Eff:  0.0\n",
      "Average FP Rate:  0.0\n"
     ]
    },
    {
     "data": {
      "application/vnd.jupyter.widget-view+json": {
       "model_id": "",
       "version_major": 2,
       "version_minor": 0
      },
      "text/plain": [
       "HBox(children=(FloatProgress(value=0.0, description='Training', layout=Layout(flex='2'), max=1250.0, style=Pro…"
      ]
     },
     "metadata": {},
     "output_type": "display_data"
    },
    {
     "name": "stdout",
     "output_type": "stream",
     "text": [
      "Epoch 305: train=8.45879, val=8.57135, took 119.24 s\n",
      "  Validation Found 50224 of 54504, added 1313 (eff 92.15%) (0.131 FP/event)\n",
      "Result epoch:  305\n",
      "Average Eff:  0.0\n",
      "Average FP Rate:  0.0\n"
     ]
    },
    {
     "data": {
      "application/vnd.jupyter.widget-view+json": {
       "model_id": "",
       "version_major": 2,
       "version_minor": 0
      },
      "text/plain": [
       "HBox(children=(FloatProgress(value=0.0, description='Training', layout=Layout(flex='2'), max=1250.0, style=Pro…"
      ]
     },
     "metadata": {},
     "output_type": "display_data"
    },
    {
     "name": "stdout",
     "output_type": "stream",
     "text": [
      "Epoch 306: train=8.45214, val=8.70347, took 119.25 s\n",
      "  Validation Found 50141 of 54504, added 1258 (eff 92.00%) (0.126 FP/event)\n",
      "Result epoch:  306\n",
      "Average Eff:  0.0\n",
      "Average FP Rate:  0.0\n"
     ]
    },
    {
     "data": {
      "application/vnd.jupyter.widget-view+json": {
       "model_id": "",
       "version_major": 2,
       "version_minor": 0
      },
      "text/plain": [
       "HBox(children=(FloatProgress(value=0.0, description='Training', layout=Layout(flex='2'), max=1250.0, style=Pro…"
      ]
     },
     "metadata": {},
     "output_type": "display_data"
    },
    {
     "name": "stdout",
     "output_type": "stream",
     "text": [
      "Epoch 307: train=8.44832, val=8.64758, took 119.33 s\n",
      "  Validation Found 50208 of 54504, added 1297 (eff 92.12%) (0.13 FP/event)\n",
      "Result epoch:  307\n",
      "Average Eff:  0.0\n",
      "Average FP Rate:  0.0\n"
     ]
    },
    {
     "data": {
      "application/vnd.jupyter.widget-view+json": {
       "model_id": "",
       "version_major": 2,
       "version_minor": 0
      },
      "text/plain": [
       "HBox(children=(FloatProgress(value=0.0, description='Training', layout=Layout(flex='2'), max=1250.0, style=Pro…"
      ]
     },
     "metadata": {},
     "output_type": "display_data"
    },
    {
     "name": "stdout",
     "output_type": "stream",
     "text": [
      "Epoch 308: train=8.45717, val=8.70915, took 119.5 s\n",
      "  Validation Found 50041 of 54504, added 1210 (eff 91.81%) (0.121 FP/event)\n",
      "Result epoch:  308\n",
      "Average Eff:  0.0\n",
      "Average FP Rate:  0.0\n"
     ]
    },
    {
     "data": {
      "application/vnd.jupyter.widget-view+json": {
       "model_id": "",
       "version_major": 2,
       "version_minor": 0
      },
      "text/plain": [
       "HBox(children=(FloatProgress(value=0.0, description='Training', layout=Layout(flex='2'), max=1250.0, style=Pro…"
      ]
     },
     "metadata": {},
     "output_type": "display_data"
    },
    {
     "name": "stdout",
     "output_type": "stream",
     "text": [
      "Epoch 309: train=8.44545, val=8.63406, took 119.26 s\n",
      "  Validation Found 50306 of 54504, added 1419 (eff 92.30%) (0.142 FP/event)\n",
      "Result epoch:  309\n",
      "Average Eff:  0.0\n",
      "Average FP Rate:  0.0\n"
     ]
    },
    {
     "data": {
      "application/vnd.jupyter.widget-view+json": {
       "model_id": "",
       "version_major": 2,
       "version_minor": 0
      },
      "text/plain": [
       "HBox(children=(FloatProgress(value=0.0, description='Training', layout=Layout(flex='2'), max=1250.0, style=Pro…"
      ]
     },
     "metadata": {},
     "output_type": "display_data"
    },
    {
     "name": "stdout",
     "output_type": "stream",
     "text": [
      "Epoch 310: train=8.44523, val=8.65074, took 119.25 s\n",
      "  Validation Found 50121 of 54504, added 1242 (eff 91.96%) (0.124 FP/event)\n",
      "Result epoch:  310\n",
      "Average Eff:  0.0\n",
      "Average FP Rate:  0.0\n"
     ]
    },
    {
     "data": {
      "application/vnd.jupyter.widget-view+json": {
       "model_id": "",
       "version_major": 2,
       "version_minor": 0
      },
      "text/plain": [
       "HBox(children=(FloatProgress(value=0.0, description='Training', layout=Layout(flex='2'), max=1250.0, style=Pro…"
      ]
     },
     "metadata": {},
     "output_type": "display_data"
    },
    {
     "name": "stdout",
     "output_type": "stream",
     "text": [
      "Epoch 311: train=8.44088, val=8.61181, took 119.24 s\n",
      "  Validation Found 50319 of 54504, added 1392 (eff 92.32%) (0.139 FP/event)\n",
      "Result epoch:  311\n",
      "Average Eff:  0.0\n",
      "Average FP Rate:  0.0\n"
     ]
    },
    {
     "data": {
      "application/vnd.jupyter.widget-view+json": {
       "model_id": "",
       "version_major": 2,
       "version_minor": 0
      },
      "text/plain": [
       "HBox(children=(FloatProgress(value=0.0, description='Training', layout=Layout(flex='2'), max=1250.0, style=Pro…"
      ]
     },
     "metadata": {},
     "output_type": "display_data"
    },
    {
     "name": "stdout",
     "output_type": "stream",
     "text": [
      "Epoch 312: train=8.4428, val=8.64542, took 119.25 s\n",
      "  Validation Found 50276 of 54504, added 1375 (eff 92.24%) (0.138 FP/event)\n",
      "Result epoch:  312\n",
      "Average Eff:  0.0\n",
      "Average FP Rate:  0.0\n"
     ]
    },
    {
     "data": {
      "application/vnd.jupyter.widget-view+json": {
       "model_id": "",
       "version_major": 2,
       "version_minor": 0
      },
      "text/plain": [
       "HBox(children=(FloatProgress(value=0.0, description='Training', layout=Layout(flex='2'), max=1250.0, style=Pro…"
      ]
     },
     "metadata": {},
     "output_type": "display_data"
    },
    {
     "name": "stdout",
     "output_type": "stream",
     "text": [
      "Epoch 313: train=8.44159, val=8.63481, took 119.25 s\n",
      "  Validation Found 50323 of 54504, added 1381 (eff 92.33%) (0.138 FP/event)\n",
      "Result epoch:  313\n",
      "Average Eff:  0.0\n",
      "Average FP Rate:  0.0\n"
     ]
    },
    {
     "data": {
      "application/vnd.jupyter.widget-view+json": {
       "model_id": "",
       "version_major": 2,
       "version_minor": 0
      },
      "text/plain": [
       "HBox(children=(FloatProgress(value=0.0, description='Training', layout=Layout(flex='2'), max=1250.0, style=Pro…"
      ]
     },
     "metadata": {},
     "output_type": "display_data"
    },
    {
     "name": "stdout",
     "output_type": "stream",
     "text": [
      "Epoch 314: train=8.43683, val=8.59192, took 119.24 s\n",
      "  Validation Found 50230 of 54504, added 1292 (eff 92.16%) (0.129 FP/event)\n",
      "Result epoch:  314\n",
      "Average Eff:  0.0\n",
      "Average FP Rate:  0.0\n"
     ]
    },
    {
     "data": {
      "application/vnd.jupyter.widget-view+json": {
       "model_id": "",
       "version_major": 2,
       "version_minor": 0
      },
      "text/plain": [
       "HBox(children=(FloatProgress(value=0.0, description='Training', layout=Layout(flex='2'), max=1250.0, style=Pro…"
      ]
     },
     "metadata": {},
     "output_type": "display_data"
    },
    {
     "name": "stdout",
     "output_type": "stream",
     "text": [
      "Epoch 315: train=8.43735, val=8.60776, took 119.24 s\n",
      "  Validation Found 50276 of 54504, added 1373 (eff 92.24%) (0.138 FP/event)\n",
      "Result epoch:  315\n",
      "Average Eff:  0.0\n",
      "Average FP Rate:  0.0\n"
     ]
    },
    {
     "data": {
      "application/vnd.jupyter.widget-view+json": {
       "model_id": "",
       "version_major": 2,
       "version_minor": 0
      },
      "text/plain": [
       "HBox(children=(FloatProgress(value=0.0, description='Training', layout=Layout(flex='2'), max=1250.0, style=Pro…"
      ]
     },
     "metadata": {},
     "output_type": "display_data"
    },
    {
     "name": "stdout",
     "output_type": "stream",
     "text": [
      "Epoch 316: train=8.43584, val=8.67394, took 119.25 s\n",
      "  Validation Found 50295 of 54504, added 1378 (eff 92.28%) (0.138 FP/event)\n",
      "Result epoch:  316\n",
      "Average Eff:  0.0\n",
      "Average FP Rate:  0.0\n"
     ]
    },
    {
     "data": {
      "application/vnd.jupyter.widget-view+json": {
       "model_id": "",
       "version_major": 2,
       "version_minor": 0
      },
      "text/plain": [
       "HBox(children=(FloatProgress(value=0.0, description='Training', layout=Layout(flex='2'), max=1250.0, style=Pro…"
      ]
     },
     "metadata": {},
     "output_type": "display_data"
    },
    {
     "name": "stdout",
     "output_type": "stream",
     "text": [
      "Epoch 317: train=8.43756, val=8.60474, took 119.25 s\n",
      "  Validation Found 50281 of 54504, added 1371 (eff 92.25%) (0.137 FP/event)\n",
      "Result epoch:  317\n",
      "Average Eff:  0.0\n",
      "Average FP Rate:  0.0\n"
     ]
    },
    {
     "data": {
      "application/vnd.jupyter.widget-view+json": {
       "model_id": "",
       "version_major": 2,
       "version_minor": 0
      },
      "text/plain": [
       "HBox(children=(FloatProgress(value=0.0, description='Training', layout=Layout(flex='2'), max=1250.0, style=Pro…"
      ]
     },
     "metadata": {},
     "output_type": "display_data"
    },
    {
     "name": "stdout",
     "output_type": "stream",
     "text": [
      "Epoch 318: train=8.43153, val=8.57059, took 119.24 s\n",
      "  Validation Found 50354 of 54504, added 1429 (eff 92.39%) (0.143 FP/event)\n",
      "Result epoch:  318\n",
      "Average Eff:  0.0\n",
      "Average FP Rate:  0.0\n"
     ]
    },
    {
     "data": {
      "application/vnd.jupyter.widget-view+json": {
       "model_id": "",
       "version_major": 2,
       "version_minor": 0
      },
      "text/plain": [
       "HBox(children=(FloatProgress(value=0.0, description='Training', layout=Layout(flex='2'), max=1250.0, style=Pro…"
      ]
     },
     "metadata": {},
     "output_type": "display_data"
    },
    {
     "name": "stdout",
     "output_type": "stream",
     "text": [
      "Epoch 319: train=8.42795, val=8.64669, took 119.26 s\n",
      "  Validation Found 50326 of 54504, added 1373 (eff 92.33%) (0.138 FP/event)\n",
      "Result epoch:  319\n",
      "Average Eff:  0.0\n",
      "Average FP Rate:  0.0\n"
     ]
    },
    {
     "data": {
      "application/vnd.jupyter.widget-view+json": {
       "model_id": "",
       "version_major": 2,
       "version_minor": 0
      },
      "text/plain": [
       "HBox(children=(FloatProgress(value=0.0, description='Training', layout=Layout(flex='2'), max=1250.0, style=Pro…"
      ]
     },
     "metadata": {},
     "output_type": "display_data"
    },
    {
     "name": "stdout",
     "output_type": "stream",
     "text": [
      "Epoch 320: train=8.42319, val=8.68749, took 119.23 s\n",
      "  Validation Found 50171 of 54504, added 1284 (eff 92.05%) (0.129 FP/event)\n",
      "Result epoch:  320\n",
      "Average Eff:  0.0\n",
      "Average FP Rate:  0.0\n"
     ]
    },
    {
     "data": {
      "application/vnd.jupyter.widget-view+json": {
       "model_id": "",
       "version_major": 2,
       "version_minor": 0
      },
      "text/plain": [
       "HBox(children=(FloatProgress(value=0.0, description='Training', layout=Layout(flex='2'), max=1250.0, style=Pro…"
      ]
     },
     "metadata": {},
     "output_type": "display_data"
    },
    {
     "name": "stdout",
     "output_type": "stream",
     "text": [
      "Epoch 321: train=8.4272, val=8.57653, took 119.26 s\n",
      "  Validation Found 50434 of 54504, added 1515 (eff 92.53%) (0.152 FP/event)\n",
      "Result epoch:  321\n",
      "Average Eff:  0.0\n",
      "Average FP Rate:  0.0\n"
     ]
    },
    {
     "data": {
      "application/vnd.jupyter.widget-view+json": {
       "model_id": "",
       "version_major": 2,
       "version_minor": 0
      },
      "text/plain": [
       "HBox(children=(FloatProgress(value=0.0, description='Training', layout=Layout(flex='2'), max=1250.0, style=Pro…"
      ]
     },
     "metadata": {},
     "output_type": "display_data"
    },
    {
     "name": "stdout",
     "output_type": "stream",
     "text": [
      "Epoch 322: train=8.42017, val=8.68643, took 119.46 s\n",
      "  Validation Found 50256 of 54504, added 1357 (eff 92.21%) (0.136 FP/event)\n",
      "Result epoch:  322\n",
      "Average Eff:  0.0\n",
      "Average FP Rate:  0.0\n"
     ]
    },
    {
     "data": {
      "application/vnd.jupyter.widget-view+json": {
       "model_id": "",
       "version_major": 2,
       "version_minor": 0
      },
      "text/plain": [
       "HBox(children=(FloatProgress(value=0.0, description='Training', layout=Layout(flex='2'), max=1250.0, style=Pro…"
      ]
     },
     "metadata": {},
     "output_type": "display_data"
    },
    {
     "name": "stdout",
     "output_type": "stream",
     "text": [
      "Epoch 323: train=8.42163, val=8.60985, took 119.26 s\n",
      "  Validation Found 50185 of 54504, added 1299 (eff 92.08%) (0.13 FP/event)\n",
      "Result epoch:  323\n",
      "Average Eff:  0.0\n",
      "Average FP Rate:  0.0\n"
     ]
    },
    {
     "data": {
      "application/vnd.jupyter.widget-view+json": {
       "model_id": "",
       "version_major": 2,
       "version_minor": 0
      },
      "text/plain": [
       "HBox(children=(FloatProgress(value=0.0, description='Training', layout=Layout(flex='2'), max=1250.0, style=Pro…"
      ]
     },
     "metadata": {},
     "output_type": "display_data"
    },
    {
     "name": "stdout",
     "output_type": "stream",
     "text": [
      "Epoch 324: train=8.41477, val=8.57284, took 119.25 s\n",
      "  Validation Found 50323 of 54504, added 1383 (eff 92.33%) (0.139 FP/event)\n",
      "Result epoch:  324\n",
      "Average Eff:  0.0\n",
      "Average FP Rate:  0.0\n"
     ]
    },
    {
     "data": {
      "application/vnd.jupyter.widget-view+json": {
       "model_id": "",
       "version_major": 2,
       "version_minor": 0
      },
      "text/plain": [
       "HBox(children=(FloatProgress(value=0.0, description='Training', layout=Layout(flex='2'), max=1250.0, style=Pro…"
      ]
     },
     "metadata": {},
     "output_type": "display_data"
    },
    {
     "name": "stdout",
     "output_type": "stream",
     "text": [
      "Epoch 325: train=8.42177, val=8.60875, took 119.26 s\n",
      "  Validation Found 50255 of 54504, added 1342 (eff 92.20%) (0.134 FP/event)\n",
      "Result epoch:  325\n",
      "Average Eff:  0.0\n",
      "Average FP Rate:  0.0\n"
     ]
    },
    {
     "data": {
      "application/vnd.jupyter.widget-view+json": {
       "model_id": "",
       "version_major": 2,
       "version_minor": 0
      },
      "text/plain": [
       "HBox(children=(FloatProgress(value=0.0, description='Training', layout=Layout(flex='2'), max=1250.0, style=Pro…"
      ]
     },
     "metadata": {},
     "output_type": "display_data"
    },
    {
     "name": "stdout",
     "output_type": "stream",
     "text": [
      "Epoch 326: train=8.4136, val=8.67584, took 119.25 s\n",
      "  Validation Found 50202 of 54504, added 1289 (eff 92.11%) (0.129 FP/event)\n",
      "Result epoch:  326\n",
      "Average Eff:  0.0\n",
      "Average FP Rate:  0.0\n"
     ]
    },
    {
     "data": {
      "application/vnd.jupyter.widget-view+json": {
       "model_id": "",
       "version_major": 2,
       "version_minor": 0
      },
      "text/plain": [
       "HBox(children=(FloatProgress(value=0.0, description='Training', layout=Layout(flex='2'), max=1250.0, style=Pro…"
      ]
     },
     "metadata": {},
     "output_type": "display_data"
    },
    {
     "name": "stdout",
     "output_type": "stream",
     "text": [
      "Epoch 327: train=8.40898, val=8.64941, took 119.34 s\n",
      "  Validation Found 50243 of 54504, added 1320 (eff 92.18%) (0.132 FP/event)\n",
      "Result epoch:  327\n",
      "Average Eff:  0.0\n",
      "Average FP Rate:  0.0\n"
     ]
    },
    {
     "data": {
      "application/vnd.jupyter.widget-view+json": {
       "model_id": "",
       "version_major": 2,
       "version_minor": 0
      },
      "text/plain": [
       "HBox(children=(FloatProgress(value=0.0, description='Training', layout=Layout(flex='2'), max=1250.0, style=Pro…"
      ]
     },
     "metadata": {},
     "output_type": "display_data"
    },
    {
     "name": "stdout",
     "output_type": "stream",
     "text": [
      "Epoch 328: train=8.41148, val=8.6323, took 119.32 s\n",
      "  Validation Found 50186 of 54504, added 1269 (eff 92.08%) (0.127 FP/event)\n",
      "Result epoch:  328\n",
      "Average Eff:  0.0\n",
      "Average FP Rate:  0.0\n"
     ]
    },
    {
     "data": {
      "application/vnd.jupyter.widget-view+json": {
       "model_id": "",
       "version_major": 2,
       "version_minor": 0
      },
      "text/plain": [
       "HBox(children=(FloatProgress(value=0.0, description='Training', layout=Layout(flex='2'), max=1250.0, style=Pro…"
      ]
     },
     "metadata": {},
     "output_type": "display_data"
    },
    {
     "name": "stdout",
     "output_type": "stream",
     "text": [
      "Epoch 329: train=8.41319, val=8.59921, took 119.31 s\n",
      "  Validation Found 50237 of 54504, added 1320 (eff 92.17%) (0.132 FP/event)\n",
      "Result epoch:  329\n",
      "Average Eff:  0.0\n",
      "Average FP Rate:  0.0\n"
     ]
    },
    {
     "data": {
      "application/vnd.jupyter.widget-view+json": {
       "model_id": "",
       "version_major": 2,
       "version_minor": 0
      },
      "text/plain": [
       "HBox(children=(FloatProgress(value=0.0, description='Training', layout=Layout(flex='2'), max=1250.0, style=Pro…"
      ]
     },
     "metadata": {},
     "output_type": "display_data"
    },
    {
     "name": "stdout",
     "output_type": "stream",
     "text": [
      "Epoch 330: train=8.40915, val=8.66365, took 119.32 s\n",
      "  Validation Found 50238 of 54504, added 1349 (eff 92.17%) (0.135 FP/event)\n",
      "Result epoch:  330\n",
      "Average Eff:  0.0\n",
      "Average FP Rate:  0.0\n"
     ]
    },
    {
     "data": {
      "application/vnd.jupyter.widget-view+json": {
       "model_id": "",
       "version_major": 2,
       "version_minor": 0
      },
      "text/plain": [
       "HBox(children=(FloatProgress(value=0.0, description='Training', layout=Layout(flex='2'), max=1250.0, style=Pro…"
      ]
     },
     "metadata": {},
     "output_type": "display_data"
    },
    {
     "name": "stdout",
     "output_type": "stream",
     "text": [
      "Epoch 331: train=8.41036, val=8.66086, took 119.28 s\n",
      "  Validation Found 50141 of 54504, added 1283 (eff 92.00%) (0.128 FP/event)\n",
      "Result epoch:  331\n",
      "Average Eff:  0.0\n",
      "Average FP Rate:  0.0\n"
     ]
    },
    {
     "data": {
      "application/vnd.jupyter.widget-view+json": {
       "model_id": "",
       "version_major": 2,
       "version_minor": 0
      },
      "text/plain": [
       "HBox(children=(FloatProgress(value=0.0, description='Training', layout=Layout(flex='2'), max=1250.0, style=Pro…"
      ]
     },
     "metadata": {},
     "output_type": "display_data"
    },
    {
     "name": "stdout",
     "output_type": "stream",
     "text": [
      "Epoch 332: train=8.41068, val=8.64417, took 119.3 s\n",
      "  Validation Found 50294 of 54504, added 1379 (eff 92.28%) (0.138 FP/event)\n",
      "Result epoch:  332\n",
      "Average Eff:  0.0\n",
      "Average FP Rate:  0.0\n"
     ]
    },
    {
     "data": {
      "application/vnd.jupyter.widget-view+json": {
       "model_id": "",
       "version_major": 2,
       "version_minor": 0
      },
      "text/plain": [
       "HBox(children=(FloatProgress(value=0.0, description='Training', layout=Layout(flex='2'), max=1250.0, style=Pro…"
      ]
     },
     "metadata": {},
     "output_type": "display_data"
    },
    {
     "name": "stdout",
     "output_type": "stream",
     "text": [
      "Epoch 333: train=8.40812, val=8.57002, took 119.28 s\n",
      "  Validation Found 50476 of 54504, added 1557 (eff 92.61%) (0.156 FP/event)\n",
      "Result epoch:  333\n",
      "Average Eff:  0.0\n",
      "Average FP Rate:  0.0\n"
     ]
    },
    {
     "data": {
      "application/vnd.jupyter.widget-view+json": {
       "model_id": "",
       "version_major": 2,
       "version_minor": 0
      },
      "text/plain": [
       "HBox(children=(FloatProgress(value=0.0, description='Training', layout=Layout(flex='2'), max=1250.0, style=Pro…"
      ]
     },
     "metadata": {},
     "output_type": "display_data"
    },
    {
     "name": "stdout",
     "output_type": "stream",
     "text": [
      "Epoch 334: train=8.40154, val=8.59939, took 119.27 s\n",
      "  Validation Found 50429 of 54504, added 1570 (eff 92.52%) (0.157 FP/event)\n",
      "Result epoch:  334\n",
      "Average Eff:  0.0\n",
      "Average FP Rate:  0.0\n"
     ]
    },
    {
     "data": {
      "application/vnd.jupyter.widget-view+json": {
       "model_id": "",
       "version_major": 2,
       "version_minor": 0
      },
      "text/plain": [
       "HBox(children=(FloatProgress(value=0.0, description='Training', layout=Layout(flex='2'), max=1250.0, style=Pro…"
      ]
     },
     "metadata": {},
     "output_type": "display_data"
    },
    {
     "name": "stdout",
     "output_type": "stream",
     "text": [
      "Epoch 335: train=8.40556, val=8.5805, took 119.28 s\n",
      "  Validation Found 50429 of 54504, added 1528 (eff 92.52%) (0.153 FP/event)\n",
      "Result epoch:  335\n",
      "Average Eff:  0.0\n",
      "Average FP Rate:  0.0\n"
     ]
    },
    {
     "data": {
      "application/vnd.jupyter.widget-view+json": {
       "model_id": "",
       "version_major": 2,
       "version_minor": 0
      },
      "text/plain": [
       "HBox(children=(FloatProgress(value=0.0, description='Training', layout=Layout(flex='2'), max=1250.0, style=Pro…"
      ]
     },
     "metadata": {},
     "output_type": "display_data"
    },
    {
     "name": "stdout",
     "output_type": "stream",
     "text": [
      "Epoch 336: train=8.40405, val=8.65776, took 119.29 s\n",
      "  Validation Found 50169 of 54504, added 1295 (eff 92.05%) (0.13 FP/event)\n",
      "Result epoch:  336\n",
      "Average Eff:  0.0\n",
      "Average FP Rate:  0.0\n"
     ]
    },
    {
     "data": {
      "application/vnd.jupyter.widget-view+json": {
       "model_id": "",
       "version_major": 2,
       "version_minor": 0
      },
      "text/plain": [
       "HBox(children=(FloatProgress(value=0.0, description='Training', layout=Layout(flex='2'), max=1250.0, style=Pro…"
      ]
     },
     "metadata": {},
     "output_type": "display_data"
    },
    {
     "name": "stdout",
     "output_type": "stream",
     "text": [
      "Epoch 337: train=8.40084, val=8.62213, took 119.28 s\n",
      "  Validation Found 50289 of 54504, added 1376 (eff 92.27%) (0.138 FP/event)\n",
      "Result epoch:  337\n",
      "Average Eff:  0.0\n",
      "Average FP Rate:  0.0\n"
     ]
    },
    {
     "data": {
      "application/vnd.jupyter.widget-view+json": {
       "model_id": "",
       "version_major": 2,
       "version_minor": 0
      },
      "text/plain": [
       "HBox(children=(FloatProgress(value=0.0, description='Training', layout=Layout(flex='2'), max=1250.0, style=Pro…"
      ]
     },
     "metadata": {},
     "output_type": "display_data"
    },
    {
     "name": "stdout",
     "output_type": "stream",
     "text": [
      "Epoch 338: train=8.39582, val=8.62126, took 119.3 s\n",
      "  Validation Found 50354 of 54504, added 1454 (eff 92.39%) (0.146 FP/event)\n",
      "Result epoch:  338\n",
      "Average Eff:  0.0\n",
      "Average FP Rate:  0.0\n"
     ]
    },
    {
     "data": {
      "application/vnd.jupyter.widget-view+json": {
       "model_id": "",
       "version_major": 2,
       "version_minor": 0
      },
      "text/plain": [
       "HBox(children=(FloatProgress(value=0.0, description='Training', layout=Layout(flex='2'), max=1250.0, style=Pro…"
      ]
     },
     "metadata": {},
     "output_type": "display_data"
    },
    {
     "name": "stdout",
     "output_type": "stream",
     "text": [
      "Epoch 339: train=8.39873, val=8.64182, took 119.28 s\n",
      "  Validation Found 50224 of 54504, added 1323 (eff 92.15%) (0.132 FP/event)\n",
      "Result epoch:  339\n",
      "Average Eff:  0.0\n",
      "Average FP Rate:  0.0\n"
     ]
    },
    {
     "data": {
      "application/vnd.jupyter.widget-view+json": {
       "model_id": "",
       "version_major": 2,
       "version_minor": 0
      },
      "text/plain": [
       "HBox(children=(FloatProgress(value=0.0, description='Training', layout=Layout(flex='2'), max=1250.0, style=Pro…"
      ]
     },
     "metadata": {},
     "output_type": "display_data"
    },
    {
     "name": "stdout",
     "output_type": "stream",
     "text": [
      "Epoch 340: train=8.39862, val=8.6612, took 119.29 s\n",
      "  Validation Found 50303 of 54504, added 1391 (eff 92.29%) (0.139 FP/event)\n",
      "Result epoch:  340\n",
      "Average Eff:  0.0\n",
      "Average FP Rate:  0.0\n"
     ]
    },
    {
     "data": {
      "application/vnd.jupyter.widget-view+json": {
       "model_id": "",
       "version_major": 2,
       "version_minor": 0
      },
      "text/plain": [
       "HBox(children=(FloatProgress(value=0.0, description='Training', layout=Layout(flex='2'), max=1250.0, style=Pro…"
      ]
     },
     "metadata": {},
     "output_type": "display_data"
    },
    {
     "name": "stdout",
     "output_type": "stream",
     "text": [
      "Epoch 341: train=8.39865, val=8.58988, took 119.3 s\n",
      "  Validation Found 50339 of 54504, added 1393 (eff 92.36%) (0.14 FP/event)\n",
      "Result epoch:  341\n",
      "Average Eff:  0.0\n",
      "Average FP Rate:  0.0\n"
     ]
    },
    {
     "data": {
      "application/vnd.jupyter.widget-view+json": {
       "model_id": "",
       "version_major": 2,
       "version_minor": 0
      },
      "text/plain": [
       "HBox(children=(FloatProgress(value=0.0, description='Training', layout=Layout(flex='2'), max=1250.0, style=Pro…"
      ]
     },
     "metadata": {},
     "output_type": "display_data"
    },
    {
     "name": "stdout",
     "output_type": "stream",
     "text": [
      "Epoch 342: train=8.39959, val=8.64231, took 119.3 s\n",
      "  Validation Found 50157 of 54504, added 1292 (eff 92.02%) (0.129 FP/event)\n",
      "Result epoch:  342\n",
      "Average Eff:  0.0\n",
      "Average FP Rate:  0.0\n"
     ]
    },
    {
     "data": {
      "application/vnd.jupyter.widget-view+json": {
       "model_id": "",
       "version_major": 2,
       "version_minor": 0
      },
      "text/plain": [
       "HBox(children=(FloatProgress(value=0.0, description='Training', layout=Layout(flex='2'), max=1250.0, style=Pro…"
      ]
     },
     "metadata": {},
     "output_type": "display_data"
    },
    {
     "name": "stdout",
     "output_type": "stream",
     "text": [
      "Epoch 343: train=8.39046, val=8.62685, took 119.39 s\n",
      "  Validation Found 50348 of 54504, added 1412 (eff 92.37%) (0.141 FP/event)\n",
      "Result epoch:  343\n",
      "Average Eff:  0.0\n",
      "Average FP Rate:  0.0\n"
     ]
    },
    {
     "data": {
      "application/vnd.jupyter.widget-view+json": {
       "model_id": "",
       "version_major": 2,
       "version_minor": 0
      },
      "text/plain": [
       "HBox(children=(FloatProgress(value=0.0, description='Training', layout=Layout(flex='2'), max=1250.0, style=Pro…"
      ]
     },
     "metadata": {},
     "output_type": "display_data"
    },
    {
     "name": "stdout",
     "output_type": "stream",
     "text": [
      "Epoch 344: train=8.39834, val=8.61681, took 119.33 s\n",
      "  Validation Found 50322 of 54504, added 1401 (eff 92.33%) (0.14 FP/event)\n",
      "Result epoch:  344\n",
      "Average Eff:  0.0\n",
      "Average FP Rate:  0.0\n"
     ]
    },
    {
     "data": {
      "application/vnd.jupyter.widget-view+json": {
       "model_id": "",
       "version_major": 2,
       "version_minor": 0
      },
      "text/plain": [
       "HBox(children=(FloatProgress(value=0.0, description='Training', layout=Layout(flex='2'), max=1250.0, style=Pro…"
      ]
     },
     "metadata": {},
     "output_type": "display_data"
    },
    {
     "name": "stdout",
     "output_type": "stream",
     "text": [
      "Epoch 345: train=8.3872, val=8.65718, took 119.3 s\n",
      "  Validation Found 50164 of 54504, added 1305 (eff 92.04%) (0.131 FP/event)\n",
      "Result epoch:  345\n",
      "Average Eff:  0.0\n",
      "Average FP Rate:  0.0\n"
     ]
    },
    {
     "data": {
      "application/vnd.jupyter.widget-view+json": {
       "model_id": "",
       "version_major": 2,
       "version_minor": 0
      },
      "text/plain": [
       "HBox(children=(FloatProgress(value=0.0, description='Training', layout=Layout(flex='2'), max=1250.0, style=Pro…"
      ]
     },
     "metadata": {},
     "output_type": "display_data"
    },
    {
     "name": "stdout",
     "output_type": "stream",
     "text": [
      "Epoch 346: train=8.39171, val=8.62448, took 119.3 s\n",
      "  Validation Found 50364 of 54504, added 1472 (eff 92.40%) (0.147 FP/event)\n",
      "Result epoch:  346\n",
      "Average Eff:  0.0\n",
      "Average FP Rate:  0.0\n"
     ]
    },
    {
     "data": {
      "application/vnd.jupyter.widget-view+json": {
       "model_id": "",
       "version_major": 2,
       "version_minor": 0
      },
      "text/plain": [
       "HBox(children=(FloatProgress(value=0.0, description='Training', layout=Layout(flex='2'), max=1250.0, style=Pro…"
      ]
     },
     "metadata": {},
     "output_type": "display_data"
    },
    {
     "name": "stdout",
     "output_type": "stream",
     "text": [
      "Epoch 347: train=8.39255, val=8.61597, took 119.3 s\n",
      "  Validation Found 50345 of 54504, added 1410 (eff 92.37%) (0.141 FP/event)\n",
      "Result epoch:  347\n",
      "Average Eff:  0.0\n",
      "Average FP Rate:  0.0\n"
     ]
    },
    {
     "data": {
      "application/vnd.jupyter.widget-view+json": {
       "model_id": "",
       "version_major": 2,
       "version_minor": 0
      },
      "text/plain": [
       "HBox(children=(FloatProgress(value=0.0, description='Training', layout=Layout(flex='2'), max=1250.0, style=Pro…"
      ]
     },
     "metadata": {},
     "output_type": "display_data"
    },
    {
     "name": "stdout",
     "output_type": "stream",
     "text": [
      "Epoch 348: train=8.38708, val=8.61889, took 119.25 s\n",
      "  Validation Found 50346 of 54504, added 1429 (eff 92.37%) (0.143 FP/event)\n",
      "Result epoch:  348\n",
      "Average Eff:  0.0\n",
      "Average FP Rate:  0.0\n"
     ]
    },
    {
     "data": {
      "application/vnd.jupyter.widget-view+json": {
       "model_id": "",
       "version_major": 2,
       "version_minor": 0
      },
      "text/plain": [
       "HBox(children=(FloatProgress(value=0.0, description='Training', layout=Layout(flex='2'), max=1250.0, style=Pro…"
      ]
     },
     "metadata": {},
     "output_type": "display_data"
    },
    {
     "name": "stdout",
     "output_type": "stream",
     "text": [
      "Epoch 349: train=8.38592, val=8.6442, took 119.26 s\n",
      "  Validation Found 50202 of 54504, added 1306 (eff 92.11%) (0.131 FP/event)\n",
      "Result epoch:  349\n",
      "Average Eff:  0.0\n",
      "Average FP Rate:  0.0\n"
     ]
    },
    {
     "data": {
      "application/vnd.jupyter.widget-view+json": {
       "model_id": "",
       "version_major": 2,
       "version_minor": 0
      },
      "text/plain": [
       "HBox(children=(FloatProgress(value=0.0, description='Training', layout=Layout(flex='2'), max=1250.0, style=Pro…"
      ]
     },
     "metadata": {},
     "output_type": "display_data"
    },
    {
     "name": "stdout",
     "output_type": "stream",
     "text": [
      "Epoch 350: train=8.38594, val=8.66508, took 119.27 s\n",
      "  Validation Found 50366 of 54504, added 1429 (eff 92.41%) (0.143 FP/event)\n",
      "Result epoch:  350\n",
      "Average Eff:  0.0\n",
      "Average FP Rate:  0.0\n"
     ]
    },
    {
     "data": {
      "application/vnd.jupyter.widget-view+json": {
       "model_id": "",
       "version_major": 2,
       "version_minor": 0
      },
      "text/plain": [
       "HBox(children=(FloatProgress(value=0.0, description='Training', layout=Layout(flex='2'), max=1250.0, style=Pro…"
      ]
     },
     "metadata": {},
     "output_type": "display_data"
    },
    {
     "name": "stdout",
     "output_type": "stream",
     "text": [
      "Epoch 351: train=8.38284, val=8.57979, took 119.26 s\n",
      "  Validation Found 50449 of 54504, added 1555 (eff 92.56%) (0.156 FP/event)\n",
      "Result epoch:  351\n",
      "Average Eff:  0.0\n",
      "Average FP Rate:  0.0\n"
     ]
    },
    {
     "data": {
      "application/vnd.jupyter.widget-view+json": {
       "model_id": "",
       "version_major": 2,
       "version_minor": 0
      },
      "text/plain": [
       "HBox(children=(FloatProgress(value=0.0, description='Training', layout=Layout(flex='2'), max=1250.0, style=Pro…"
      ]
     },
     "metadata": {},
     "output_type": "display_data"
    },
    {
     "name": "stdout",
     "output_type": "stream",
     "text": [
      "Epoch 352: train=8.38138, val=8.60524, took 119.26 s\n",
      "  Validation Found 50386 of 54504, added 1477 (eff 92.44%) (0.148 FP/event)\n",
      "Result epoch:  352\n",
      "Average Eff:  0.0\n",
      "Average FP Rate:  0.0\n"
     ]
    },
    {
     "data": {
      "application/vnd.jupyter.widget-view+json": {
       "model_id": "",
       "version_major": 2,
       "version_minor": 0
      },
      "text/plain": [
       "HBox(children=(FloatProgress(value=0.0, description='Training', layout=Layout(flex='2'), max=1250.0, style=Pro…"
      ]
     },
     "metadata": {},
     "output_type": "display_data"
    },
    {
     "name": "stdout",
     "output_type": "stream",
     "text": [
      "Epoch 353: train=8.38713, val=8.60053, took 119.25 s\n",
      "  Validation Found 50429 of 54504, added 1490 (eff 92.52%) (0.149 FP/event)\n",
      "Result epoch:  353\n",
      "Average Eff:  0.0\n",
      "Average FP Rate:  0.0\n"
     ]
    },
    {
     "data": {
      "application/vnd.jupyter.widget-view+json": {
       "model_id": "",
       "version_major": 2,
       "version_minor": 0
      },
      "text/plain": [
       "HBox(children=(FloatProgress(value=0.0, description='Training', layout=Layout(flex='2'), max=1250.0, style=Pro…"
      ]
     },
     "metadata": {},
     "output_type": "display_data"
    },
    {
     "name": "stdout",
     "output_type": "stream",
     "text": [
      "Epoch 354: train=8.37942, val=8.6215, took 119.27 s\n",
      "  Validation Found 50323 of 54504, added 1402 (eff 92.33%) (0.14 FP/event)\n",
      "Result epoch:  354\n",
      "Average Eff:  0.0\n",
      "Average FP Rate:  0.0\n"
     ]
    },
    {
     "data": {
      "application/vnd.jupyter.widget-view+json": {
       "model_id": "",
       "version_major": 2,
       "version_minor": 0
      },
      "text/plain": [
       "HBox(children=(FloatProgress(value=0.0, description='Training', layout=Layout(flex='2'), max=1250.0, style=Pro…"
      ]
     },
     "metadata": {},
     "output_type": "display_data"
    },
    {
     "name": "stdout",
     "output_type": "stream",
     "text": [
      "Epoch 355: train=8.38033, val=8.55536, took 119.23 s\n",
      "  Validation Found 50338 of 54504, added 1390 (eff 92.36%) (0.139 FP/event)\n",
      "Result epoch:  355\n",
      "Average Eff:  0.0\n",
      "Average FP Rate:  0.0\n"
     ]
    },
    {
     "data": {
      "application/vnd.jupyter.widget-view+json": {
       "model_id": "",
       "version_major": 2,
       "version_minor": 0
      },
      "text/plain": [
       "HBox(children=(FloatProgress(value=0.0, description='Training', layout=Layout(flex='2'), max=1250.0, style=Pro…"
      ]
     },
     "metadata": {},
     "output_type": "display_data"
    },
    {
     "name": "stdout",
     "output_type": "stream",
     "text": [
      "Epoch 356: train=8.38234, val=8.57354, took 119.24 s\n",
      "  Validation Found 50515 of 54504, added 1602 (eff 92.68%) (0.16 FP/event)\n",
      "Result epoch:  356\n",
      "Average Eff:  0.0\n",
      "Average FP Rate:  0.0\n"
     ]
    },
    {
     "data": {
      "application/vnd.jupyter.widget-view+json": {
       "model_id": "",
       "version_major": 2,
       "version_minor": 0
      },
      "text/plain": [
       "HBox(children=(FloatProgress(value=0.0, description='Training', layout=Layout(flex='2'), max=1250.0, style=Pro…"
      ]
     },
     "metadata": {},
     "output_type": "display_data"
    },
    {
     "name": "stdout",
     "output_type": "stream",
     "text": [
      "Epoch 357: train=8.38282, val=8.68723, took 119.24 s\n",
      "  Validation Found 50233 of 54504, added 1330 (eff 92.16%) (0.133 FP/event)\n",
      "Result epoch:  357\n",
      "Average Eff:  0.0\n",
      "Average FP Rate:  0.0\n"
     ]
    },
    {
     "data": {
      "application/vnd.jupyter.widget-view+json": {
       "model_id": "",
       "version_major": 2,
       "version_minor": 0
      },
      "text/plain": [
       "HBox(children=(FloatProgress(value=0.0, description='Training', layout=Layout(flex='2'), max=1250.0, style=Pro…"
      ]
     },
     "metadata": {},
     "output_type": "display_data"
    },
    {
     "name": "stdout",
     "output_type": "stream",
     "text": [
      "Epoch 358: train=8.3822, val=8.6703, took 119.26 s\n",
      "  Validation Found 50343 of 54504, added 1420 (eff 92.37%) (0.142 FP/event)\n",
      "Result epoch:  358\n",
      "Average Eff:  0.0\n",
      "Average FP Rate:  0.0\n"
     ]
    },
    {
     "data": {
      "application/vnd.jupyter.widget-view+json": {
       "model_id": "",
       "version_major": 2,
       "version_minor": 0
      },
      "text/plain": [
       "HBox(children=(FloatProgress(value=0.0, description='Training', layout=Layout(flex='2'), max=1250.0, style=Pro…"
      ]
     },
     "metadata": {},
     "output_type": "display_data"
    },
    {
     "name": "stdout",
     "output_type": "stream",
     "text": [
      "Epoch 359: train=8.37968, val=8.62225, took 119.23 s\n",
      "  Validation Found 50377 of 54504, added 1444 (eff 92.43%) (0.145 FP/event)\n",
      "Result epoch:  359\n",
      "Average Eff:  0.0\n",
      "Average FP Rate:  0.0\n"
     ]
    },
    {
     "data": {
      "application/vnd.jupyter.widget-view+json": {
       "model_id": "",
       "version_major": 2,
       "version_minor": 0
      },
      "text/plain": [
       "HBox(children=(FloatProgress(value=0.0, description='Training', layout=Layout(flex='2'), max=1250.0, style=Pro…"
      ]
     },
     "metadata": {},
     "output_type": "display_data"
    },
    {
     "name": "stdout",
     "output_type": "stream",
     "text": [
      "Epoch 360: train=8.38098, val=8.60028, took 119.3 s\n",
      "  Validation Found 50430 of 54504, added 1516 (eff 92.53%) (0.152 FP/event)\n",
      "Result epoch:  360\n",
      "Average Eff:  0.0\n",
      "Average FP Rate:  0.0\n"
     ]
    },
    {
     "data": {
      "application/vnd.jupyter.widget-view+json": {
       "model_id": "",
       "version_major": 2,
       "version_minor": 0
      },
      "text/plain": [
       "HBox(children=(FloatProgress(value=0.0, description='Training', layout=Layout(flex='2'), max=1250.0, style=Pro…"
      ]
     },
     "metadata": {},
     "output_type": "display_data"
    },
    {
     "name": "stdout",
     "output_type": "stream",
     "text": [
      "Epoch 361: train=8.37272, val=8.58271, took 119.29 s\n",
      "  Validation Found 50437 of 54504, added 1513 (eff 92.54%) (0.152 FP/event)\n",
      "Result epoch:  361\n",
      "Average Eff:  0.0\n",
      "Average FP Rate:  0.0\n"
     ]
    },
    {
     "data": {
      "application/vnd.jupyter.widget-view+json": {
       "model_id": "",
       "version_major": 2,
       "version_minor": 0
      },
      "text/plain": [
       "HBox(children=(FloatProgress(value=0.0, description='Training', layout=Layout(flex='2'), max=1250.0, style=Pro…"
      ]
     },
     "metadata": {},
     "output_type": "display_data"
    },
    {
     "name": "stdout",
     "output_type": "stream",
     "text": [
      "Epoch 362: train=8.37082, val=8.62874, took 119.33 s\n",
      "  Validation Found 50413 of 54504, added 1486 (eff 92.49%) (0.149 FP/event)\n",
      "Result epoch:  362\n",
      "Average Eff:  0.0\n",
      "Average FP Rate:  0.0\n"
     ]
    },
    {
     "data": {
      "application/vnd.jupyter.widget-view+json": {
       "model_id": "",
       "version_major": 2,
       "version_minor": 0
      },
      "text/plain": [
       "HBox(children=(FloatProgress(value=0.0, description='Training', layout=Layout(flex='2'), max=1250.0, style=Pro…"
      ]
     },
     "metadata": {},
     "output_type": "display_data"
    },
    {
     "name": "stdout",
     "output_type": "stream",
     "text": [
      "Epoch 363: train=8.37219, val=8.64095, took 119.29 s\n",
      "  Validation Found 50376 of 54504, added 1468 (eff 92.43%) (0.147 FP/event)\n",
      "Result epoch:  363\n",
      "Average Eff:  0.0\n",
      "Average FP Rate:  0.0\n"
     ]
    },
    {
     "data": {
      "application/vnd.jupyter.widget-view+json": {
       "model_id": "",
       "version_major": 2,
       "version_minor": 0
      },
      "text/plain": [
       "HBox(children=(FloatProgress(value=0.0, description='Training', layout=Layout(flex='2'), max=1250.0, style=Pro…"
      ]
     },
     "metadata": {},
     "output_type": "display_data"
    },
    {
     "name": "stdout",
     "output_type": "stream",
     "text": [
      "Epoch 364: train=8.36861, val=8.59499, took 119.29 s\n",
      "  Validation Found 50355 of 54504, added 1447 (eff 92.39%) (0.145 FP/event)\n",
      "Result epoch:  364\n",
      "Average Eff:  0.0\n",
      "Average FP Rate:  0.0\n"
     ]
    },
    {
     "data": {
      "application/vnd.jupyter.widget-view+json": {
       "model_id": "",
       "version_major": 2,
       "version_minor": 0
      },
      "text/plain": [
       "HBox(children=(FloatProgress(value=0.0, description='Training', layout=Layout(flex='2'), max=1250.0, style=Pro…"
      ]
     },
     "metadata": {},
     "output_type": "display_data"
    },
    {
     "name": "stdout",
     "output_type": "stream",
     "text": [
      "Epoch 365: train=8.36704, val=8.6487, took 119.3 s\n",
      "  Validation Found 50329 of 54504, added 1415 (eff 92.34%) (0.142 FP/event)\n",
      "Result epoch:  365\n",
      "Average Eff:  0.0\n",
      "Average FP Rate:  0.0\n"
     ]
    },
    {
     "data": {
      "application/vnd.jupyter.widget-view+json": {
       "model_id": "",
       "version_major": 2,
       "version_minor": 0
      },
      "text/plain": [
       "HBox(children=(FloatProgress(value=0.0, description='Training', layout=Layout(flex='2'), max=1250.0, style=Pro…"
      ]
     },
     "metadata": {},
     "output_type": "display_data"
    },
    {
     "name": "stdout",
     "output_type": "stream",
     "text": [
      "Epoch 366: train=8.36691, val=8.61074, took 119.3 s\n",
      "  Validation Found 50305 of 54504, added 1379 (eff 92.30%) (0.138 FP/event)\n",
      "Result epoch:  366\n",
      "Average Eff:  0.0\n",
      "Average FP Rate:  0.0\n"
     ]
    },
    {
     "data": {
      "application/vnd.jupyter.widget-view+json": {
       "model_id": "",
       "version_major": 2,
       "version_minor": 0
      },
      "text/plain": [
       "HBox(children=(FloatProgress(value=0.0, description='Training', layout=Layout(flex='2'), max=1250.0, style=Pro…"
      ]
     },
     "metadata": {},
     "output_type": "display_data"
    },
    {
     "name": "stdout",
     "output_type": "stream",
     "text": [
      "Epoch 367: train=8.364, val=8.63049, took 119.32 s\n",
      "  Validation Found 50432 of 54504, added 1526 (eff 92.53%) (0.153 FP/event)\n",
      "Result epoch:  367\n",
      "Average Eff:  0.0\n",
      "Average FP Rate:  0.0\n"
     ]
    },
    {
     "data": {
      "application/vnd.jupyter.widget-view+json": {
       "model_id": "",
       "version_major": 2,
       "version_minor": 0
      },
      "text/plain": [
       "HBox(children=(FloatProgress(value=0.0, description='Training', layout=Layout(flex='2'), max=1250.0, style=Pro…"
      ]
     },
     "metadata": {},
     "output_type": "display_data"
    },
    {
     "name": "stdout",
     "output_type": "stream",
     "text": [
      "Epoch 368: train=8.36481, val=8.62328, took 119.28 s\n",
      "  Validation Found 50319 of 54504, added 1376 (eff 92.32%) (0.138 FP/event)\n",
      "Result epoch:  368\n",
      "Average Eff:  0.0\n",
      "Average FP Rate:  0.0\n"
     ]
    },
    {
     "data": {
      "application/vnd.jupyter.widget-view+json": {
       "model_id": "",
       "version_major": 2,
       "version_minor": 0
      },
      "text/plain": [
       "HBox(children=(FloatProgress(value=0.0, description='Training', layout=Layout(flex='2'), max=1250.0, style=Pro…"
      ]
     },
     "metadata": {},
     "output_type": "display_data"
    },
    {
     "name": "stdout",
     "output_type": "stream",
     "text": [
      "Epoch 369: train=8.36508, val=8.63039, took 119.26 s\n",
      "  Validation Found 50439 of 54504, added 1541 (eff 92.54%) (0.154 FP/event)\n",
      "Result epoch:  369\n",
      "Average Eff:  0.0\n",
      "Average FP Rate:  0.0\n"
     ]
    },
    {
     "data": {
      "application/vnd.jupyter.widget-view+json": {
       "model_id": "",
       "version_major": 2,
       "version_minor": 0
      },
      "text/plain": [
       "HBox(children=(FloatProgress(value=0.0, description='Training', layout=Layout(flex='2'), max=1250.0, style=Pro…"
      ]
     },
     "metadata": {},
     "output_type": "display_data"
    },
    {
     "name": "stdout",
     "output_type": "stream",
     "text": [
      "Epoch 370: train=8.36608, val=8.54487, took 119.27 s\n",
      "  Validation Found 50452 of 54504, added 1549 (eff 92.57%) (0.155 FP/event)\n",
      "Result epoch:  370\n",
      "Average Eff:  0.0\n",
      "Average FP Rate:  0.0\n"
     ]
    },
    {
     "data": {
      "application/vnd.jupyter.widget-view+json": {
       "model_id": "",
       "version_major": 2,
       "version_minor": 0
      },
      "text/plain": [
       "HBox(children=(FloatProgress(value=0.0, description='Training', layout=Layout(flex='2'), max=1250.0, style=Pro…"
      ]
     },
     "metadata": {},
     "output_type": "display_data"
    },
    {
     "name": "stdout",
     "output_type": "stream",
     "text": [
      "Epoch 371: train=8.36605, val=8.55354, took 119.28 s\n",
      "  Validation Found 50490 of 54504, added 1553 (eff 92.64%) (0.156 FP/event)\n",
      "Result epoch:  371\n",
      "Average Eff:  0.0\n",
      "Average FP Rate:  0.0\n"
     ]
    },
    {
     "data": {
      "application/vnd.jupyter.widget-view+json": {
       "model_id": "",
       "version_major": 2,
       "version_minor": 0
      },
      "text/plain": [
       "HBox(children=(FloatProgress(value=0.0, description='Training', layout=Layout(flex='2'), max=1250.0, style=Pro…"
      ]
     },
     "metadata": {},
     "output_type": "display_data"
    },
    {
     "name": "stdout",
     "output_type": "stream",
     "text": [
      "Epoch 372: train=8.36965, val=8.59072, took 119.27 s\n",
      "  Validation Found 50448 of 54504, added 1533 (eff 92.56%) (0.154 FP/event)\n",
      "Result epoch:  372\n",
      "Average Eff:  0.0\n",
      "Average FP Rate:  0.0\n"
     ]
    },
    {
     "data": {
      "application/vnd.jupyter.widget-view+json": {
       "model_id": "",
       "version_major": 2,
       "version_minor": 0
      },
      "text/plain": [
       "HBox(children=(FloatProgress(value=0.0, description='Training', layout=Layout(flex='2'), max=1250.0, style=Pro…"
      ]
     },
     "metadata": {},
     "output_type": "display_data"
    },
    {
     "name": "stdout",
     "output_type": "stream",
     "text": [
      "Epoch 373: train=8.36215, val=8.68223, took 119.27 s\n",
      "  Validation Found 50411 of 54504, added 1504 (eff 92.49%) (0.151 FP/event)\n",
      "Result epoch:  373\n",
      "Average Eff:  0.0\n",
      "Average FP Rate:  0.0\n"
     ]
    },
    {
     "data": {
      "application/vnd.jupyter.widget-view+json": {
       "model_id": "",
       "version_major": 2,
       "version_minor": 0
      },
      "text/plain": [
       "HBox(children=(FloatProgress(value=0.0, description='Training', layout=Layout(flex='2'), max=1250.0, style=Pro…"
      ]
     },
     "metadata": {},
     "output_type": "display_data"
    },
    {
     "name": "stdout",
     "output_type": "stream",
     "text": [
      "Epoch 374: train=8.36206, val=8.57948, took 119.28 s\n",
      "  Validation Found 50398 of 54504, added 1498 (eff 92.47%) (0.15 FP/event)\n",
      "Result epoch:  374\n",
      "Average Eff:  0.0\n",
      "Average FP Rate:  0.0\n"
     ]
    },
    {
     "data": {
      "application/vnd.jupyter.widget-view+json": {
       "model_id": "",
       "version_major": 2,
       "version_minor": 0
      },
      "text/plain": [
       "HBox(children=(FloatProgress(value=0.0, description='Training', layout=Layout(flex='2'), max=1250.0, style=Pro…"
      ]
     },
     "metadata": {},
     "output_type": "display_data"
    },
    {
     "name": "stdout",
     "output_type": "stream",
     "text": [
      "Epoch 375: train=8.3643, val=8.6281, took 119.28 s\n",
      "  Validation Found 50425 of 54504, added 1533 (eff 92.52%) (0.154 FP/event)\n",
      "Result epoch:  375\n",
      "Average Eff:  0.0\n",
      "Average FP Rate:  0.0\n"
     ]
    },
    {
     "data": {
      "application/vnd.jupyter.widget-view+json": {
       "model_id": "",
       "version_major": 2,
       "version_minor": 0
      },
      "text/plain": [
       "HBox(children=(FloatProgress(value=0.0, description='Training', layout=Layout(flex='2'), max=1250.0, style=Pro…"
      ]
     },
     "metadata": {},
     "output_type": "display_data"
    },
    {
     "name": "stdout",
     "output_type": "stream",
     "text": [
      "Epoch 376: train=8.35732, val=8.62206, took 119.32 s\n",
      "  Validation Found 50369 of 54504, added 1444 (eff 92.41%) (0.145 FP/event)\n",
      "Result epoch:  376\n",
      "Average Eff:  0.0\n",
      "Average FP Rate:  0.0\n"
     ]
    },
    {
     "data": {
      "application/vnd.jupyter.widget-view+json": {
       "model_id": "",
       "version_major": 2,
       "version_minor": 0
      },
      "text/plain": [
       "HBox(children=(FloatProgress(value=0.0, description='Training', layout=Layout(flex='2'), max=1250.0, style=Pro…"
      ]
     },
     "metadata": {},
     "output_type": "display_data"
    },
    {
     "name": "stdout",
     "output_type": "stream",
     "text": [
      "Epoch 377: train=8.36466, val=8.58244, took 119.32 s\n",
      "  Validation Found 50508 of 54504, added 1637 (eff 92.67%) (0.164 FP/event)\n",
      "Result epoch:  377\n",
      "Average Eff:  0.0\n",
      "Average FP Rate:  0.0\n"
     ]
    },
    {
     "data": {
      "application/vnd.jupyter.widget-view+json": {
       "model_id": "",
       "version_major": 2,
       "version_minor": 0
      },
      "text/plain": [
       "HBox(children=(FloatProgress(value=0.0, description='Training', layout=Layout(flex='2'), max=1250.0, style=Pro…"
      ]
     },
     "metadata": {},
     "output_type": "display_data"
    },
    {
     "name": "stdout",
     "output_type": "stream",
     "text": [
      "Epoch 378: train=8.3545, val=8.56838, took 119.28 s\n",
      "  Validation Found 50455 of 54504, added 1535 (eff 92.57%) (0.154 FP/event)\n",
      "Result epoch:  378\n",
      "Average Eff:  0.0\n",
      "Average FP Rate:  0.0\n"
     ]
    },
    {
     "data": {
      "application/vnd.jupyter.widget-view+json": {
       "model_id": "",
       "version_major": 2,
       "version_minor": 0
      },
      "text/plain": [
       "HBox(children=(FloatProgress(value=0.0, description='Training', layout=Layout(flex='2'), max=1250.0, style=Pro…"
      ]
     },
     "metadata": {},
     "output_type": "display_data"
    },
    {
     "name": "stdout",
     "output_type": "stream",
     "text": [
      "Epoch 379: train=8.364, val=8.60407, took 119.28 s\n",
      "  Validation Found 50313 of 54504, added 1421 (eff 92.31%) (0.142 FP/event)\n",
      "Result epoch:  379\n",
      "Average Eff:  0.0\n",
      "Average FP Rate:  0.0\n"
     ]
    },
    {
     "data": {
      "application/vnd.jupyter.widget-view+json": {
       "model_id": "",
       "version_major": 2,
       "version_minor": 0
      },
      "text/plain": [
       "HBox(children=(FloatProgress(value=0.0, description='Training', layout=Layout(flex='2'), max=1250.0, style=Pro…"
      ]
     },
     "metadata": {},
     "output_type": "display_data"
    },
    {
     "name": "stdout",
     "output_type": "stream",
     "text": [
      "Epoch 380: train=8.36442, val=8.63985, took 119.3 s\n",
      "  Validation Found 50437 of 54504, added 1556 (eff 92.54%) (0.156 FP/event)\n",
      "Result epoch:  380\n",
      "Average Eff:  0.0\n",
      "Average FP Rate:  0.0\n"
     ]
    },
    {
     "data": {
      "application/vnd.jupyter.widget-view+json": {
       "model_id": "",
       "version_major": 2,
       "version_minor": 0
      },
      "text/plain": [
       "HBox(children=(FloatProgress(value=0.0, description='Training', layout=Layout(flex='2'), max=1250.0, style=Pro…"
      ]
     },
     "metadata": {},
     "output_type": "display_data"
    },
    {
     "name": "stdout",
     "output_type": "stream",
     "text": [
      "Epoch 381: train=8.35646, val=8.58775, took 119.29 s\n",
      "  Validation Found 50427 of 54504, added 1523 (eff 92.52%) (0.153 FP/event)\n",
      "Result epoch:  381\n",
      "Average Eff:  0.0\n",
      "Average FP Rate:  0.0\n"
     ]
    },
    {
     "data": {
      "application/vnd.jupyter.widget-view+json": {
       "model_id": "",
       "version_major": 2,
       "version_minor": 0
      },
      "text/plain": [
       "HBox(children=(FloatProgress(value=0.0, description='Training', layout=Layout(flex='2'), max=1250.0, style=Pro…"
      ]
     },
     "metadata": {},
     "output_type": "display_data"
    },
    {
     "name": "stdout",
     "output_type": "stream",
     "text": [
      "Epoch 382: train=8.35527, val=8.55377, took 119.28 s\n",
      "  Validation Found 50535 of 54504, added 1597 (eff 92.72%) (0.16 FP/event)\n",
      "Result epoch:  382\n",
      "Average Eff:  0.0\n",
      "Average FP Rate:  0.0\n"
     ]
    },
    {
     "data": {
      "application/vnd.jupyter.widget-view+json": {
       "model_id": "",
       "version_major": 2,
       "version_minor": 0
      },
      "text/plain": [
       "HBox(children=(FloatProgress(value=0.0, description='Training', layout=Layout(flex='2'), max=1250.0, style=Pro…"
      ]
     },
     "metadata": {},
     "output_type": "display_data"
    },
    {
     "name": "stdout",
     "output_type": "stream",
     "text": [
      "Epoch 383: train=8.35046, val=8.61183, took 119.27 s\n",
      "  Validation Found 50526 of 54504, added 1622 (eff 92.70%) (0.162 FP/event)\n",
      "Result epoch:  383\n",
      "Average Eff:  0.0\n",
      "Average FP Rate:  0.0\n"
     ]
    },
    {
     "data": {
      "application/vnd.jupyter.widget-view+json": {
       "model_id": "",
       "version_major": 2,
       "version_minor": 0
      },
      "text/plain": [
       "HBox(children=(FloatProgress(value=0.0, description='Training', layout=Layout(flex='2'), max=1250.0, style=Pro…"
      ]
     },
     "metadata": {},
     "output_type": "display_data"
    },
    {
     "name": "stdout",
     "output_type": "stream",
     "text": [
      "Epoch 384: train=8.35256, val=8.56891, took 119.25 s\n",
      "  Validation Found 50421 of 54504, added 1506 (eff 92.51%) (0.151 FP/event)\n",
      "Result epoch:  384\n",
      "Average Eff:  0.0\n",
      "Average FP Rate:  0.0\n"
     ]
    },
    {
     "data": {
      "application/vnd.jupyter.widget-view+json": {
       "model_id": "",
       "version_major": 2,
       "version_minor": 0
      },
      "text/plain": [
       "HBox(children=(FloatProgress(value=0.0, description='Training', layout=Layout(flex='2'), max=1250.0, style=Pro…"
      ]
     },
     "metadata": {},
     "output_type": "display_data"
    },
    {
     "name": "stdout",
     "output_type": "stream",
     "text": [
      "Epoch 385: train=8.3501, val=8.55412, took 119.25 s\n",
      "  Validation Found 50480 of 54504, added 1568 (eff 92.62%) (0.157 FP/event)\n",
      "Result epoch:  385\n",
      "Average Eff:  0.0\n",
      "Average FP Rate:  0.0\n"
     ]
    },
    {
     "data": {
      "application/vnd.jupyter.widget-view+json": {
       "model_id": "",
       "version_major": 2,
       "version_minor": 0
      },
      "text/plain": [
       "HBox(children=(FloatProgress(value=0.0, description='Training', layout=Layout(flex='2'), max=1250.0, style=Pro…"
      ]
     },
     "metadata": {},
     "output_type": "display_data"
    },
    {
     "name": "stdout",
     "output_type": "stream",
     "text": [
      "Epoch 386: train=8.3498, val=8.614, took 119.24 s\n",
      "  Validation Found 50304 of 54504, added 1429 (eff 92.29%) (0.143 FP/event)\n",
      "Result epoch:  386\n",
      "Average Eff:  0.0\n",
      "Average FP Rate:  0.0\n"
     ]
    },
    {
     "data": {
      "application/vnd.jupyter.widget-view+json": {
       "model_id": "",
       "version_major": 2,
       "version_minor": 0
      },
      "text/plain": [
       "HBox(children=(FloatProgress(value=0.0, description='Training', layout=Layout(flex='2'), max=1250.0, style=Pro…"
      ]
     },
     "metadata": {},
     "output_type": "display_data"
    },
    {
     "name": "stdout",
     "output_type": "stream",
     "text": [
      "Epoch 387: train=8.35567, val=8.60222, took 119.27 s\n",
      "  Validation Found 50391 of 54504, added 1492 (eff 92.45%) (0.149 FP/event)\n",
      "Result epoch:  387\n",
      "Average Eff:  0.0\n",
      "Average FP Rate:  0.0\n"
     ]
    },
    {
     "data": {
      "application/vnd.jupyter.widget-view+json": {
       "model_id": "",
       "version_major": 2,
       "version_minor": 0
      },
      "text/plain": [
       "HBox(children=(FloatProgress(value=0.0, description='Training', layout=Layout(flex='2'), max=1250.0, style=Pro…"
      ]
     },
     "metadata": {},
     "output_type": "display_data"
    },
    {
     "name": "stdout",
     "output_type": "stream",
     "text": [
      "Epoch 388: train=8.3472, val=8.60171, took 119.34 s\n",
      "  Validation Found 50426 of 54504, added 1523 (eff 92.52%) (0.153 FP/event)\n",
      "Result epoch:  388\n",
      "Average Eff:  0.0\n",
      "Average FP Rate:  0.0\n"
     ]
    },
    {
     "data": {
      "application/vnd.jupyter.widget-view+json": {
       "model_id": "",
       "version_major": 2,
       "version_minor": 0
      },
      "text/plain": [
       "HBox(children=(FloatProgress(value=0.0, description='Training', layout=Layout(flex='2'), max=1250.0, style=Pro…"
      ]
     },
     "metadata": {},
     "output_type": "display_data"
    },
    {
     "name": "stdout",
     "output_type": "stream",
     "text": [
      "Epoch 389: train=8.34263, val=8.64005, took 119.31 s\n",
      "  Validation Found 50209 of 54504, added 1322 (eff 92.12%) (0.132 FP/event)\n",
      "Result epoch:  389\n",
      "Average Eff:  0.0\n",
      "Average FP Rate:  0.0\n"
     ]
    },
    {
     "data": {
      "application/vnd.jupyter.widget-view+json": {
       "model_id": "",
       "version_major": 2,
       "version_minor": 0
      },
      "text/plain": [
       "HBox(children=(FloatProgress(value=0.0, description='Training', layout=Layout(flex='2'), max=1250.0, style=Pro…"
      ]
     },
     "metadata": {},
     "output_type": "display_data"
    },
    {
     "name": "stdout",
     "output_type": "stream",
     "text": [
      "Epoch 390: train=8.34884, val=8.55923, took 119.29 s\n",
      "  Validation Found 50448 of 54504, added 1513 (eff 92.56%) (0.152 FP/event)\n",
      "Result epoch:  390\n",
      "Average Eff:  0.0\n",
      "Average FP Rate:  0.0\n"
     ]
    },
    {
     "data": {
      "application/vnd.jupyter.widget-view+json": {
       "model_id": "",
       "version_major": 2,
       "version_minor": 0
      },
      "text/plain": [
       "HBox(children=(FloatProgress(value=0.0, description='Training', layout=Layout(flex='2'), max=1250.0, style=Pro…"
      ]
     },
     "metadata": {},
     "output_type": "display_data"
    },
    {
     "name": "stdout",
     "output_type": "stream",
     "text": [
      "Epoch 391: train=8.34458, val=8.59974, took 119.31 s\n",
      "  Validation Found 50465 of 54504, added 1528 (eff 92.59%) (0.153 FP/event)\n",
      "Result epoch:  391\n",
      "Average Eff:  0.0\n",
      "Average FP Rate:  0.0\n"
     ]
    },
    {
     "data": {
      "application/vnd.jupyter.widget-view+json": {
       "model_id": "",
       "version_major": 2,
       "version_minor": 0
      },
      "text/plain": [
       "HBox(children=(FloatProgress(value=0.0, description='Training', layout=Layout(flex='2'), max=1250.0, style=Pro…"
      ]
     },
     "metadata": {},
     "output_type": "display_data"
    },
    {
     "name": "stdout",
     "output_type": "stream",
     "text": [
      "Epoch 392: train=8.34488, val=8.56556, took 119.29 s\n",
      "  Validation Found 50420 of 54504, added 1527 (eff 92.51%) (0.153 FP/event)\n",
      "Result epoch:  392\n",
      "Average Eff:  0.0\n",
      "Average FP Rate:  0.0\n"
     ]
    },
    {
     "data": {
      "application/vnd.jupyter.widget-view+json": {
       "model_id": "",
       "version_major": 2,
       "version_minor": 0
      },
      "text/plain": [
       "HBox(children=(FloatProgress(value=0.0, description='Training', layout=Layout(flex='2'), max=1250.0, style=Pro…"
      ]
     },
     "metadata": {},
     "output_type": "display_data"
    },
    {
     "name": "stdout",
     "output_type": "stream",
     "text": [
      "Epoch 393: train=8.33717, val=8.5803, took 119.29 s\n",
      "  Validation Found 50455 of 54504, added 1521 (eff 92.57%) (0.152 FP/event)\n",
      "Result epoch:  393\n",
      "Average Eff:  0.0\n",
      "Average FP Rate:  0.0\n"
     ]
    },
    {
     "data": {
      "application/vnd.jupyter.widget-view+json": {
       "model_id": "",
       "version_major": 2,
       "version_minor": 0
      },
      "text/plain": [
       "HBox(children=(FloatProgress(value=0.0, description='Training', layout=Layout(flex='2'), max=1250.0, style=Pro…"
      ]
     },
     "metadata": {},
     "output_type": "display_data"
    },
    {
     "name": "stdout",
     "output_type": "stream",
     "text": [
      "Epoch 394: train=8.34125, val=8.49647, took 119.29 s\n",
      "  Validation Found 50513 of 54504, added 1579 (eff 92.68%) (0.158 FP/event)\n",
      "Result epoch:  394\n",
      "Average Eff:  0.0\n",
      "Average FP Rate:  0.0\n"
     ]
    },
    {
     "data": {
      "application/vnd.jupyter.widget-view+json": {
       "model_id": "",
       "version_major": 2,
       "version_minor": 0
      },
      "text/plain": [
       "HBox(children=(FloatProgress(value=0.0, description='Training', layout=Layout(flex='2'), max=1250.0, style=Pro…"
      ]
     },
     "metadata": {},
     "output_type": "display_data"
    },
    {
     "name": "stdout",
     "output_type": "stream",
     "text": [
      "Epoch 395: train=8.34222, val=8.56761, took 119.29 s\n",
      "  Validation Found 50551 of 54504, added 1674 (eff 92.75%) (0.168 FP/event)\n",
      "Result epoch:  395\n",
      "Average Eff:  0.0\n",
      "Average FP Rate:  0.0\n"
     ]
    },
    {
     "data": {
      "application/vnd.jupyter.widget-view+json": {
       "model_id": "",
       "version_major": 2,
       "version_minor": 0
      },
      "text/plain": [
       "HBox(children=(FloatProgress(value=0.0, description='Training', layout=Layout(flex='2'), max=1250.0, style=Pro…"
      ]
     },
     "metadata": {},
     "output_type": "display_data"
    },
    {
     "name": "stdout",
     "output_type": "stream",
     "text": [
      "Epoch 396: train=8.33847, val=8.5618, took 119.29 s\n",
      "  Validation Found 50422 of 54504, added 1514 (eff 92.51%) (0.152 FP/event)\n",
      "Result epoch:  396\n",
      "Average Eff:  0.0\n",
      "Average FP Rate:  0.0\n"
     ]
    },
    {
     "data": {
      "application/vnd.jupyter.widget-view+json": {
       "model_id": "",
       "version_major": 2,
       "version_minor": 0
      },
      "text/plain": [
       "HBox(children=(FloatProgress(value=0.0, description='Training', layout=Layout(flex='2'), max=1250.0, style=Pro…"
      ]
     },
     "metadata": {},
     "output_type": "display_data"
    },
    {
     "name": "stdout",
     "output_type": "stream",
     "text": [
      "Epoch 397: train=8.33585, val=8.51794, took 119.3 s\n",
      "  Validation Found 50561 of 54504, added 1653 (eff 92.77%) (0.166 FP/event)\n",
      "Result epoch:  397\n",
      "Average Eff:  0.0\n",
      "Average FP Rate:  0.0\n"
     ]
    },
    {
     "data": {
      "application/vnd.jupyter.widget-view+json": {
       "model_id": "",
       "version_major": 2,
       "version_minor": 0
      },
      "text/plain": [
       "HBox(children=(FloatProgress(value=0.0, description='Training', layout=Layout(flex='2'), max=1250.0, style=Pro…"
      ]
     },
     "metadata": {},
     "output_type": "display_data"
    },
    {
     "name": "stdout",
     "output_type": "stream",
     "text": [
      "Epoch 398: train=8.33885, val=8.58041, took 119.28 s\n",
      "  Validation Found 50558 of 54504, added 1648 (eff 92.76%) (0.165 FP/event)\n",
      "Result epoch:  398\n",
      "Average Eff:  0.0\n",
      "Average FP Rate:  0.0\n"
     ]
    },
    {
     "data": {
      "application/vnd.jupyter.widget-view+json": {
       "model_id": "",
       "version_major": 2,
       "version_minor": 0
      },
      "text/plain": [
       "HBox(children=(FloatProgress(value=0.0, description='Training', layout=Layout(flex='2'), max=1250.0, style=Pro…"
      ]
     },
     "metadata": {},
     "output_type": "display_data"
    },
    {
     "name": "stdout",
     "output_type": "stream",
     "text": [
      "Epoch 399: train=8.33311, val=8.55313, took 119.28 s\n",
      "  Validation Found 50443 of 54504, added 1498 (eff 92.55%) (0.15 FP/event)\n",
      "Result epoch:  399\n",
      "Average Eff:  0.0\n",
      "Average FP Rate:  0.0\n"
     ]
    },
    {
     "data": {
      "application/vnd.jupyter.widget-view+json": {
       "model_id": "",
       "version_major": 2,
       "version_minor": 0
      },
      "text/plain": [
       "HBox(children=(FloatProgress(value=0.0, description='Training', layout=Layout(flex='2'), max=1250.0, style=Pro…"
      ]
     },
     "metadata": {},
     "output_type": "display_data"
    },
    {
     "name": "stdout",
     "output_type": "stream",
     "text": [
      "Epoch 400: train=8.34247, val=8.55017, took 119.3 s\n",
      "  Validation Found 50490 of 54504, added 1547 (eff 92.64%) (0.155 FP/event)\n",
      "Result epoch:  400\n",
      "Average Eff:  0.0\n",
      "Average FP Rate:  0.0\n"
     ]
    },
    {
     "data": {
      "application/vnd.jupyter.widget-view+json": {
       "model_id": "",
       "version_major": 2,
       "version_minor": 0
      },
      "text/plain": [
       "HBox(children=(FloatProgress(value=0.0, description='Training', layout=Layout(flex='2'), max=1250.0, style=Pro…"
      ]
     },
     "metadata": {},
     "output_type": "display_data"
    },
    {
     "name": "stdout",
     "output_type": "stream",
     "text": [
      "Epoch 401: train=8.33581, val=8.51234, took 119.29 s\n",
      "  Validation Found 50409 of 54504, added 1472 (eff 92.49%) (0.147 FP/event)\n",
      "Result epoch:  401\n",
      "Average Eff:  0.0\n",
      "Average FP Rate:  0.0\n"
     ]
    },
    {
     "data": {
      "application/vnd.jupyter.widget-view+json": {
       "model_id": "",
       "version_major": 2,
       "version_minor": 0
      },
      "text/plain": [
       "HBox(children=(FloatProgress(value=0.0, description='Training', layout=Layout(flex='2'), max=1250.0, style=Pro…"
      ]
     },
     "metadata": {},
     "output_type": "display_data"
    },
    {
     "name": "stdout",
     "output_type": "stream",
     "text": [
      "Epoch 402: train=8.3361, val=8.6126, took 119.28 s\n",
      "  Validation Found 50448 of 54504, added 1539 (eff 92.56%) (0.154 FP/event)\n",
      "Result epoch:  402\n",
      "Average Eff:  0.0\n",
      "Average FP Rate:  0.0\n"
     ]
    },
    {
     "data": {
      "application/vnd.jupyter.widget-view+json": {
       "model_id": "",
       "version_major": 2,
       "version_minor": 0
      },
      "text/plain": [
       "HBox(children=(FloatProgress(value=0.0, description='Training', layout=Layout(flex='2'), max=1250.0, style=Pro…"
      ]
     },
     "metadata": {},
     "output_type": "display_data"
    },
    {
     "name": "stdout",
     "output_type": "stream",
     "text": [
      "Epoch 403: train=8.32816, val=8.59092, took 119.29 s\n",
      "  Validation Found 50342 of 54504, added 1409 (eff 92.36%) (0.141 FP/event)\n",
      "Result epoch:  403\n",
      "Average Eff:  0.0\n",
      "Average FP Rate:  0.0\n"
     ]
    },
    {
     "data": {
      "application/vnd.jupyter.widget-view+json": {
       "model_id": "",
       "version_major": 2,
       "version_minor": 0
      },
      "text/plain": [
       "HBox(children=(FloatProgress(value=0.0, description='Training', layout=Layout(flex='2'), max=1250.0, style=Pro…"
      ]
     },
     "metadata": {},
     "output_type": "display_data"
    },
    {
     "name": "stdout",
     "output_type": "stream",
     "text": [
      "Epoch 404: train=8.33294, val=8.58835, took 119.28 s\n",
      "  Validation Found 50355 of 54504, added 1421 (eff 92.39%) (0.142 FP/event)\n",
      "Result epoch:  404\n",
      "Average Eff:  0.0\n",
      "Average FP Rate:  0.0\n"
     ]
    },
    {
     "data": {
      "application/vnd.jupyter.widget-view+json": {
       "model_id": "",
       "version_major": 2,
       "version_minor": 0
      },
      "text/plain": [
       "HBox(children=(FloatProgress(value=0.0, description='Training', layout=Layout(flex='2'), max=1250.0, style=Pro…"
      ]
     },
     "metadata": {},
     "output_type": "display_data"
    },
    {
     "name": "stdout",
     "output_type": "stream",
     "text": [
      "Epoch 405: train=8.33376, val=8.60114, took 119.29 s\n",
      "  Validation Found 50392 of 54504, added 1477 (eff 92.46%) (0.148 FP/event)\n",
      "Result epoch:  405\n",
      "Average Eff:  0.0\n",
      "Average FP Rate:  0.0\n"
     ]
    },
    {
     "data": {
      "application/vnd.jupyter.widget-view+json": {
       "model_id": "",
       "version_major": 2,
       "version_minor": 0
      },
      "text/plain": [
       "HBox(children=(FloatProgress(value=0.0, description='Training', layout=Layout(flex='2'), max=1250.0, style=Pro…"
      ]
     },
     "metadata": {},
     "output_type": "display_data"
    },
    {
     "name": "stdout",
     "output_type": "stream",
     "text": [
      "Epoch 406: train=8.32476, val=8.59268, took 119.29 s\n",
      "  Validation Found 50393 of 54504, added 1457 (eff 92.46%) (0.146 FP/event)\n",
      "Result epoch:  406\n",
      "Average Eff:  0.0\n",
      "Average FP Rate:  0.0\n"
     ]
    },
    {
     "data": {
      "application/vnd.jupyter.widget-view+json": {
       "model_id": "",
       "version_major": 2,
       "version_minor": 0
      },
      "text/plain": [
       "HBox(children=(FloatProgress(value=0.0, description='Training', layout=Layout(flex='2'), max=1250.0, style=Pro…"
      ]
     },
     "metadata": {},
     "output_type": "display_data"
    },
    {
     "name": "stdout",
     "output_type": "stream",
     "text": [
      "Epoch 407: train=8.32982, val=8.54179, took 119.31 s\n",
      "  Validation Found 50413 of 54504, added 1482 (eff 92.49%) (0.148 FP/event)\n",
      "Result epoch:  407\n",
      "Average Eff:  0.0\n",
      "Average FP Rate:  0.0\n"
     ]
    },
    {
     "data": {
      "application/vnd.jupyter.widget-view+json": {
       "model_id": "",
       "version_major": 2,
       "version_minor": 0
      },
      "text/plain": [
       "HBox(children=(FloatProgress(value=0.0, description='Training', layout=Layout(flex='2'), max=1250.0, style=Pro…"
      ]
     },
     "metadata": {},
     "output_type": "display_data"
    },
    {
     "name": "stdout",
     "output_type": "stream",
     "text": [
      "Epoch 408: train=8.32892, val=8.56146, took 119.3 s\n",
      "  Validation Found 50456 of 54504, added 1475 (eff 92.57%) (0.148 FP/event)\n",
      "Result epoch:  408\n",
      "Average Eff:  0.0\n",
      "Average FP Rate:  0.0\n"
     ]
    },
    {
     "data": {
      "application/vnd.jupyter.widget-view+json": {
       "model_id": "",
       "version_major": 2,
       "version_minor": 0
      },
      "text/plain": [
       "HBox(children=(FloatProgress(value=0.0, description='Training', layout=Layout(flex='2'), max=1250.0, style=Pro…"
      ]
     },
     "metadata": {},
     "output_type": "display_data"
    },
    {
     "name": "stdout",
     "output_type": "stream",
     "text": [
      "Epoch 409: train=8.32941, val=8.60326, took 119.3 s\n",
      "  Validation Found 50375 of 54504, added 1468 (eff 92.42%) (0.147 FP/event)\n",
      "Result epoch:  409\n",
      "Average Eff:  0.0\n",
      "Average FP Rate:  0.0\n"
     ]
    },
    {
     "data": {
      "application/vnd.jupyter.widget-view+json": {
       "model_id": "",
       "version_major": 2,
       "version_minor": 0
      },
      "text/plain": [
       "HBox(children=(FloatProgress(value=0.0, description='Training', layout=Layout(flex='2'), max=1250.0, style=Pro…"
      ]
     },
     "metadata": {},
     "output_type": "display_data"
    },
    {
     "name": "stdout",
     "output_type": "stream",
     "text": [
      "Epoch 410: train=8.32914, val=8.57826, took 119.29 s\n",
      "  Validation Found 50422 of 54504, added 1500 (eff 92.51%) (0.15 FP/event)\n",
      "Result epoch:  410\n",
      "Average Eff:  0.9251064142081316\n",
      "Average FP Rate:  0.15022533800701052\n"
     ]
    },
    {
     "data": {
      "application/vnd.jupyter.widget-view+json": {
       "model_id": "",
       "version_major": 2,
       "version_minor": 0
      },
      "text/plain": [
       "HBox(children=(FloatProgress(value=0.0, description='Training', layout=Layout(flex='2'), max=1250.0, style=Pro…"
      ]
     },
     "metadata": {},
     "output_type": "display_data"
    },
    {
     "name": "stdout",
     "output_type": "stream",
     "text": [
      "Epoch 411: train=8.32809, val=8.5626, took 119.29 s\n",
      "  Validation Found 50349 of 54504, added 1418 (eff 92.38%) (0.142 FP/event)\n",
      "Result epoch:  411\n",
      "Average Eff:  1.8488734771759872\n",
      "Average FP Rate:  0.29223835753630445\n"
     ]
    },
    {
     "data": {
      "application/vnd.jupyter.widget-view+json": {
       "model_id": "",
       "version_major": 2,
       "version_minor": 0
      },
      "text/plain": [
       "HBox(children=(FloatProgress(value=0.0, description='Training', layout=Layout(flex='2'), max=1250.0, style=Pro…"
      ]
     },
     "metadata": {},
     "output_type": "display_data"
    },
    {
     "name": "stdout",
     "output_type": "stream",
     "text": [
      "Epoch 412: train=8.32967, val=8.55643, took 119.29 s\n",
      "  Validation Found 50480 of 54504, added 1530 (eff 92.62%) (0.153 FP/event)\n",
      "Result epoch:  412\n",
      "Average Eff:  2.775044033465434\n",
      "Average FP Rate:  0.4454682023034552\n"
     ]
    },
    {
     "data": {
      "application/vnd.jupyter.widget-view+json": {
       "model_id": "",
       "version_major": 2,
       "version_minor": 0
      },
      "text/plain": [
       "HBox(children=(FloatProgress(value=0.0, description='Training', layout=Layout(flex='2'), max=1250.0, style=Pro…"
      ]
     },
     "metadata": {},
     "output_type": "display_data"
    },
    {
     "name": "stdout",
     "output_type": "stream",
     "text": [
      "Epoch 413: train=8.32792, val=8.52491, took 119.3 s\n",
      "  Validation Found 50538 of 54504, added 1579 (eff 92.72%) (0.158 FP/event)\n",
      "Result epoch:  413\n",
      "Average Eff:  3.702278731836196\n",
      "Average FP Rate:  0.6036054081121682\n"
     ]
    },
    {
     "data": {
      "application/vnd.jupyter.widget-view+json": {
       "model_id": "",
       "version_major": 2,
       "version_minor": 0
      },
      "text/plain": [
       "HBox(children=(FloatProgress(value=0.0, description='Training', layout=Layout(flex='2'), max=1250.0, style=Pro…"
      ]
     },
     "metadata": {},
     "output_type": "display_data"
    },
    {
     "name": "stdout",
     "output_type": "stream",
     "text": [
      "Epoch 414: train=8.32795, val=8.49196, took 119.3 s\n",
      "  Validation Found 50532 of 54504, added 1584 (eff 92.71%) (0.159 FP/event)\n",
      "Result epoch:  414\n",
      "Average Eff:  4.6294033465433735\n",
      "Average FP Rate:  0.7622433650475713\n"
     ]
    },
    {
     "data": {
      "application/vnd.jupyter.widget-view+json": {
       "model_id": "",
       "version_major": 2,
       "version_minor": 0
      },
      "text/plain": [
       "HBox(children=(FloatProgress(value=0.0, description='Training', layout=Layout(flex='2'), max=1250.0, style=Pro…"
      ]
     },
     "metadata": {},
     "output_type": "display_data"
    },
    {
     "name": "stdout",
     "output_type": "stream",
     "text": [
      "Epoch 415: train=8.32423, val=8.52201, took 119.29 s\n",
      "  Validation Found 50558 of 54504, added 1612 (eff 92.76%) (0.161 FP/event)\n",
      "Result epoch:  415\n",
      "Average Eff:  5.557004990459417\n",
      "Average FP Rate:  0.9236855282924386\n"
     ]
    },
    {
     "data": {
      "application/vnd.jupyter.widget-view+json": {
       "model_id": "",
       "version_major": 2,
       "version_minor": 0
      },
      "text/plain": [
       "HBox(children=(FloatProgress(value=0.0, description='Training', layout=Layout(flex='2'), max=1250.0, style=Pro…"
      ]
     },
     "metadata": {},
     "output_type": "display_data"
    },
    {
     "name": "stdout",
     "output_type": "stream",
     "text": [
      "Epoch 416: train=8.32308, val=8.53321, took 119.31 s\n",
      "  Validation Found 50382 of 54504, added 1444 (eff 92.44%) (0.145 FP/event)\n",
      "Result epoch:  416\n",
      "Average Eff:  6.481377513576986\n",
      "Average FP Rate:  1.0683024536805208\n"
     ]
    },
    {
     "data": {
      "application/vnd.jupyter.widget-view+json": {
       "model_id": "",
       "version_major": 2,
       "version_minor": 0
      },
      "text/plain": [
       "HBox(children=(FloatProgress(value=0.0, description='Training', layout=Layout(flex='2'), max=1250.0, style=Pro…"
      ]
     },
     "metadata": {},
     "output_type": "display_data"
    },
    {
     "name": "stdout",
     "output_type": "stream",
     "text": [
      "Epoch 417: train=8.3273, val=8.55151, took 119.59 s\n",
      "  Validation Found 50399 of 54504, added 1456 (eff 92.47%) (0.146 FP/event)\n",
      "Result epoch:  417\n",
      "Average Eff:  7.406061940408045\n",
      "Average FP Rate:  1.214121181772659\n"
     ]
    },
    {
     "data": {
      "application/vnd.jupyter.widget-view+json": {
       "model_id": "",
       "version_major": 2,
       "version_minor": 0
      },
      "text/plain": [
       "HBox(children=(FloatProgress(value=0.0, description='Training', layout=Layout(flex='2'), max=1250.0, style=Pro…"
      ]
     },
     "metadata": {},
     "output_type": "display_data"
    },
    {
     "name": "stdout",
     "output_type": "stream",
     "text": [
      "Epoch 418: train=8.32732, val=8.57214, took 119.52 s\n",
      "  Validation Found 50410 of 54504, added 1449 (eff 92.49%) (0.145 FP/event)\n",
      "Result epoch:  418\n",
      "Average Eff:  8.330948187289009\n",
      "Average FP Rate:  1.359238858287431\n"
     ]
    },
    {
     "data": {
      "application/vnd.jupyter.widget-view+json": {
       "model_id": "",
       "version_major": 2,
       "version_minor": 0
      },
      "text/plain": [
       "HBox(children=(FloatProgress(value=0.0, description='Training', layout=Layout(flex='2'), max=1250.0, style=Pro…"
      ]
     },
     "metadata": {},
     "output_type": "display_data"
    },
    {
     "name": "stdout",
     "output_type": "stream",
     "text": [
      "Epoch 419: train=8.31754, val=8.54225, took 119.28 s\n",
      "  Validation Found 50393 of 54504, added 1453 (eff 92.46%) (0.146 FP/event)\n",
      "Result epoch:  419\n",
      "Averaging...\n",
      "\n",
      "Average Eff:  0.9255522530456484\n",
      "Average FP Rate:  0.15047571357035552\n",
      "\n"
     ]
    },
    {
     "data": {
      "application/javascript": [
       "/* Put everything inside the global mpl namespace */\n",
       "window.mpl = {};\n",
       "\n",
       "\n",
       "mpl.get_websocket_type = function() {\n",
       "    if (typeof(WebSocket) !== 'undefined') {\n",
       "        return WebSocket;\n",
       "    } else if (typeof(MozWebSocket) !== 'undefined') {\n",
       "        return MozWebSocket;\n",
       "    } else {\n",
       "        alert('Your browser does not have WebSocket support. ' +\n",
       "              'Please try Chrome, Safari or Firefox ≥ 6. ' +\n",
       "              'Firefox 4 and 5 are also supported but you ' +\n",
       "              'have to enable WebSockets in about:config.');\n",
       "    };\n",
       "}\n",
       "\n",
       "mpl.figure = function(figure_id, websocket, ondownload, parent_element) {\n",
       "    this.id = figure_id;\n",
       "\n",
       "    this.ws = websocket;\n",
       "\n",
       "    this.supports_binary = (this.ws.binaryType != undefined);\n",
       "\n",
       "    if (!this.supports_binary) {\n",
       "        var warnings = document.getElementById(\"mpl-warnings\");\n",
       "        if (warnings) {\n",
       "            warnings.style.display = 'block';\n",
       "            warnings.textContent = (\n",
       "                \"This browser does not support binary websocket messages. \" +\n",
       "                    \"Performance may be slow.\");\n",
       "        }\n",
       "    }\n",
       "\n",
       "    this.imageObj = new Image();\n",
       "\n",
       "    this.context = undefined;\n",
       "    this.message = undefined;\n",
       "    this.canvas = undefined;\n",
       "    this.rubberband_canvas = undefined;\n",
       "    this.rubberband_context = undefined;\n",
       "    this.format_dropdown = undefined;\n",
       "\n",
       "    this.image_mode = 'full';\n",
       "\n",
       "    this.root = $('<div/>');\n",
       "    this._root_extra_style(this.root)\n",
       "    this.root.attr('style', 'display: inline-block');\n",
       "\n",
       "    $(parent_element).append(this.root);\n",
       "\n",
       "    this._init_header(this);\n",
       "    this._init_canvas(this);\n",
       "    this._init_toolbar(this);\n",
       "\n",
       "    var fig = this;\n",
       "\n",
       "    this.waiting = false;\n",
       "\n",
       "    this.ws.onopen =  function () {\n",
       "            fig.send_message(\"supports_binary\", {value: fig.supports_binary});\n",
       "            fig.send_message(\"send_image_mode\", {});\n",
       "            if (mpl.ratio != 1) {\n",
       "                fig.send_message(\"set_dpi_ratio\", {'dpi_ratio': mpl.ratio});\n",
       "            }\n",
       "            fig.send_message(\"refresh\", {});\n",
       "        }\n",
       "\n",
       "    this.imageObj.onload = function() {\n",
       "            if (fig.image_mode == 'full') {\n",
       "                // Full images could contain transparency (where diff images\n",
       "                // almost always do), so we need to clear the canvas so that\n",
       "                // there is no ghosting.\n",
       "                fig.context.clearRect(0, 0, fig.canvas.width, fig.canvas.height);\n",
       "            }\n",
       "            fig.context.drawImage(fig.imageObj, 0, 0);\n",
       "        };\n",
       "\n",
       "    this.imageObj.onunload = function() {\n",
       "        fig.ws.close();\n",
       "    }\n",
       "\n",
       "    this.ws.onmessage = this._make_on_message_function(this);\n",
       "\n",
       "    this.ondownload = ondownload;\n",
       "}\n",
       "\n",
       "mpl.figure.prototype._init_header = function() {\n",
       "    var titlebar = $(\n",
       "        '<div class=\"ui-dialog-titlebar ui-widget-header ui-corner-all ' +\n",
       "        'ui-helper-clearfix\"/>');\n",
       "    var titletext = $(\n",
       "        '<div class=\"ui-dialog-title\" style=\"width: 100%; ' +\n",
       "        'text-align: center; padding: 3px;\"/>');\n",
       "    titlebar.append(titletext)\n",
       "    this.root.append(titlebar);\n",
       "    this.header = titletext[0];\n",
       "}\n",
       "\n",
       "\n",
       "\n",
       "mpl.figure.prototype._canvas_extra_style = function(canvas_div) {\n",
       "\n",
       "}\n",
       "\n",
       "\n",
       "mpl.figure.prototype._root_extra_style = function(canvas_div) {\n",
       "\n",
       "}\n",
       "\n",
       "mpl.figure.prototype._init_canvas = function() {\n",
       "    var fig = this;\n",
       "\n",
       "    var canvas_div = $('<div/>');\n",
       "\n",
       "    canvas_div.attr('style', 'position: relative; clear: both; outline: 0');\n",
       "\n",
       "    function canvas_keyboard_event(event) {\n",
       "        return fig.key_event(event, event['data']);\n",
       "    }\n",
       "\n",
       "    canvas_div.keydown('key_press', canvas_keyboard_event);\n",
       "    canvas_div.keyup('key_release', canvas_keyboard_event);\n",
       "    this.canvas_div = canvas_div\n",
       "    this._canvas_extra_style(canvas_div)\n",
       "    this.root.append(canvas_div);\n",
       "\n",
       "    var canvas = $('<canvas/>');\n",
       "    canvas.addClass('mpl-canvas');\n",
       "    canvas.attr('style', \"left: 0; top: 0; z-index: 0; outline: 0\")\n",
       "\n",
       "    this.canvas = canvas[0];\n",
       "    this.context = canvas[0].getContext(\"2d\");\n",
       "\n",
       "    var backingStore = this.context.backingStorePixelRatio ||\n",
       "\tthis.context.webkitBackingStorePixelRatio ||\n",
       "\tthis.context.mozBackingStorePixelRatio ||\n",
       "\tthis.context.msBackingStorePixelRatio ||\n",
       "\tthis.context.oBackingStorePixelRatio ||\n",
       "\tthis.context.backingStorePixelRatio || 1;\n",
       "\n",
       "    mpl.ratio = (window.devicePixelRatio || 1) / backingStore;\n",
       "\n",
       "    var rubberband = $('<canvas/>');\n",
       "    rubberband.attr('style', \"position: absolute; left: 0; top: 0; z-index: 1;\")\n",
       "\n",
       "    var pass_mouse_events = true;\n",
       "\n",
       "    canvas_div.resizable({\n",
       "        start: function(event, ui) {\n",
       "            pass_mouse_events = false;\n",
       "        },\n",
       "        resize: function(event, ui) {\n",
       "            fig.request_resize(ui.size.width, ui.size.height);\n",
       "        },\n",
       "        stop: function(event, ui) {\n",
       "            pass_mouse_events = true;\n",
       "            fig.request_resize(ui.size.width, ui.size.height);\n",
       "        },\n",
       "    });\n",
       "\n",
       "    function mouse_event_fn(event) {\n",
       "        if (pass_mouse_events)\n",
       "            return fig.mouse_event(event, event['data']);\n",
       "    }\n",
       "\n",
       "    rubberband.mousedown('button_press', mouse_event_fn);\n",
       "    rubberband.mouseup('button_release', mouse_event_fn);\n",
       "    // Throttle sequential mouse events to 1 every 20ms.\n",
       "    rubberband.mousemove('motion_notify', mouse_event_fn);\n",
       "\n",
       "    rubberband.mouseenter('figure_enter', mouse_event_fn);\n",
       "    rubberband.mouseleave('figure_leave', mouse_event_fn);\n",
       "\n",
       "    canvas_div.on(\"wheel\", function (event) {\n",
       "        event = event.originalEvent;\n",
       "        event['data'] = 'scroll'\n",
       "        if (event.deltaY < 0) {\n",
       "            event.step = 1;\n",
       "        } else {\n",
       "            event.step = -1;\n",
       "        }\n",
       "        mouse_event_fn(event);\n",
       "    });\n",
       "\n",
       "    canvas_div.append(canvas);\n",
       "    canvas_div.append(rubberband);\n",
       "\n",
       "    this.rubberband = rubberband;\n",
       "    this.rubberband_canvas = rubberband[0];\n",
       "    this.rubberband_context = rubberband[0].getContext(\"2d\");\n",
       "    this.rubberband_context.strokeStyle = \"#000000\";\n",
       "\n",
       "    this._resize_canvas = function(width, height) {\n",
       "        // Keep the size of the canvas, canvas container, and rubber band\n",
       "        // canvas in synch.\n",
       "        canvas_div.css('width', width)\n",
       "        canvas_div.css('height', height)\n",
       "\n",
       "        canvas.attr('width', width * mpl.ratio);\n",
       "        canvas.attr('height', height * mpl.ratio);\n",
       "        canvas.attr('style', 'width: ' + width + 'px; height: ' + height + 'px;');\n",
       "\n",
       "        rubberband.attr('width', width);\n",
       "        rubberband.attr('height', height);\n",
       "    }\n",
       "\n",
       "    // Set the figure to an initial 600x600px, this will subsequently be updated\n",
       "    // upon first draw.\n",
       "    this._resize_canvas(600, 600);\n",
       "\n",
       "    // Disable right mouse context menu.\n",
       "    $(this.rubberband_canvas).bind(\"contextmenu\",function(e){\n",
       "        return false;\n",
       "    });\n",
       "\n",
       "    function set_focus () {\n",
       "        canvas.focus();\n",
       "        canvas_div.focus();\n",
       "    }\n",
       "\n",
       "    window.setTimeout(set_focus, 100);\n",
       "}\n",
       "\n",
       "mpl.figure.prototype._init_toolbar = function() {\n",
       "    var fig = this;\n",
       "\n",
       "    var nav_element = $('<div/>');\n",
       "    nav_element.attr('style', 'width: 100%');\n",
       "    this.root.append(nav_element);\n",
       "\n",
       "    // Define a callback function for later on.\n",
       "    function toolbar_event(event) {\n",
       "        return fig.toolbar_button_onclick(event['data']);\n",
       "    }\n",
       "    function toolbar_mouse_event(event) {\n",
       "        return fig.toolbar_button_onmouseover(event['data']);\n",
       "    }\n",
       "\n",
       "    for(var toolbar_ind in mpl.toolbar_items) {\n",
       "        var name = mpl.toolbar_items[toolbar_ind][0];\n",
       "        var tooltip = mpl.toolbar_items[toolbar_ind][1];\n",
       "        var image = mpl.toolbar_items[toolbar_ind][2];\n",
       "        var method_name = mpl.toolbar_items[toolbar_ind][3];\n",
       "\n",
       "        if (!name) {\n",
       "            // put a spacer in here.\n",
       "            continue;\n",
       "        }\n",
       "        var button = $('<button/>');\n",
       "        button.addClass('ui-button ui-widget ui-state-default ui-corner-all ' +\n",
       "                        'ui-button-icon-only');\n",
       "        button.attr('role', 'button');\n",
       "        button.attr('aria-disabled', 'false');\n",
       "        button.click(method_name, toolbar_event);\n",
       "        button.mouseover(tooltip, toolbar_mouse_event);\n",
       "\n",
       "        var icon_img = $('<span/>');\n",
       "        icon_img.addClass('ui-button-icon-primary ui-icon');\n",
       "        icon_img.addClass(image);\n",
       "        icon_img.addClass('ui-corner-all');\n",
       "\n",
       "        var tooltip_span = $('<span/>');\n",
       "        tooltip_span.addClass('ui-button-text');\n",
       "        tooltip_span.html(tooltip);\n",
       "\n",
       "        button.append(icon_img);\n",
       "        button.append(tooltip_span);\n",
       "\n",
       "        nav_element.append(button);\n",
       "    }\n",
       "\n",
       "    var fmt_picker_span = $('<span/>');\n",
       "\n",
       "    var fmt_picker = $('<select/>');\n",
       "    fmt_picker.addClass('mpl-toolbar-option ui-widget ui-widget-content');\n",
       "    fmt_picker_span.append(fmt_picker);\n",
       "    nav_element.append(fmt_picker_span);\n",
       "    this.format_dropdown = fmt_picker[0];\n",
       "\n",
       "    for (var ind in mpl.extensions) {\n",
       "        var fmt = mpl.extensions[ind];\n",
       "        var option = $(\n",
       "            '<option/>', {selected: fmt === mpl.default_extension}).html(fmt);\n",
       "        fmt_picker.append(option);\n",
       "    }\n",
       "\n",
       "    // Add hover states to the ui-buttons\n",
       "    $( \".ui-button\" ).hover(\n",
       "        function() { $(this).addClass(\"ui-state-hover\");},\n",
       "        function() { $(this).removeClass(\"ui-state-hover\");}\n",
       "    );\n",
       "\n",
       "    var status_bar = $('<span class=\"mpl-message\"/>');\n",
       "    nav_element.append(status_bar);\n",
       "    this.message = status_bar[0];\n",
       "}\n",
       "\n",
       "mpl.figure.prototype.request_resize = function(x_pixels, y_pixels) {\n",
       "    // Request matplotlib to resize the figure. Matplotlib will then trigger a resize in the client,\n",
       "    // which will in turn request a refresh of the image.\n",
       "    this.send_message('resize', {'width': x_pixels, 'height': y_pixels});\n",
       "}\n",
       "\n",
       "mpl.figure.prototype.send_message = function(type, properties) {\n",
       "    properties['type'] = type;\n",
       "    properties['figure_id'] = this.id;\n",
       "    this.ws.send(JSON.stringify(properties));\n",
       "}\n",
       "\n",
       "mpl.figure.prototype.send_draw_message = function() {\n",
       "    if (!this.waiting) {\n",
       "        this.waiting = true;\n",
       "        this.ws.send(JSON.stringify({type: \"draw\", figure_id: this.id}));\n",
       "    }\n",
       "}\n",
       "\n",
       "\n",
       "mpl.figure.prototype.handle_save = function(fig, msg) {\n",
       "    var format_dropdown = fig.format_dropdown;\n",
       "    var format = format_dropdown.options[format_dropdown.selectedIndex].value;\n",
       "    fig.ondownload(fig, format);\n",
       "}\n",
       "\n",
       "\n",
       "mpl.figure.prototype.handle_resize = function(fig, msg) {\n",
       "    var size = msg['size'];\n",
       "    if (size[0] != fig.canvas.width || size[1] != fig.canvas.height) {\n",
       "        fig._resize_canvas(size[0], size[1]);\n",
       "        fig.send_message(\"refresh\", {});\n",
       "    };\n",
       "}\n",
       "\n",
       "mpl.figure.prototype.handle_rubberband = function(fig, msg) {\n",
       "    var x0 = msg['x0'] / mpl.ratio;\n",
       "    var y0 = (fig.canvas.height - msg['y0']) / mpl.ratio;\n",
       "    var x1 = msg['x1'] / mpl.ratio;\n",
       "    var y1 = (fig.canvas.height - msg['y1']) / mpl.ratio;\n",
       "    x0 = Math.floor(x0) + 0.5;\n",
       "    y0 = Math.floor(y0) + 0.5;\n",
       "    x1 = Math.floor(x1) + 0.5;\n",
       "    y1 = Math.floor(y1) + 0.5;\n",
       "    var min_x = Math.min(x0, x1);\n",
       "    var min_y = Math.min(y0, y1);\n",
       "    var width = Math.abs(x1 - x0);\n",
       "    var height = Math.abs(y1 - y0);\n",
       "\n",
       "    fig.rubberband_context.clearRect(\n",
       "        0, 0, fig.canvas.width / mpl.ratio, fig.canvas.height / mpl.ratio);\n",
       "\n",
       "    fig.rubberband_context.strokeRect(min_x, min_y, width, height);\n",
       "}\n",
       "\n",
       "mpl.figure.prototype.handle_figure_label = function(fig, msg) {\n",
       "    // Updates the figure title.\n",
       "    fig.header.textContent = msg['label'];\n",
       "}\n",
       "\n",
       "mpl.figure.prototype.handle_cursor = function(fig, msg) {\n",
       "    var cursor = msg['cursor'];\n",
       "    switch(cursor)\n",
       "    {\n",
       "    case 0:\n",
       "        cursor = 'pointer';\n",
       "        break;\n",
       "    case 1:\n",
       "        cursor = 'default';\n",
       "        break;\n",
       "    case 2:\n",
       "        cursor = 'crosshair';\n",
       "        break;\n",
       "    case 3:\n",
       "        cursor = 'move';\n",
       "        break;\n",
       "    }\n",
       "    fig.rubberband_canvas.style.cursor = cursor;\n",
       "}\n",
       "\n",
       "mpl.figure.prototype.handle_message = function(fig, msg) {\n",
       "    fig.message.textContent = msg['message'];\n",
       "}\n",
       "\n",
       "mpl.figure.prototype.handle_draw = function(fig, msg) {\n",
       "    // Request the server to send over a new figure.\n",
       "    fig.send_draw_message();\n",
       "}\n",
       "\n",
       "mpl.figure.prototype.handle_image_mode = function(fig, msg) {\n",
       "    fig.image_mode = msg['mode'];\n",
       "}\n",
       "\n",
       "mpl.figure.prototype.updated_canvas_event = function() {\n",
       "    // Called whenever the canvas gets updated.\n",
       "    this.send_message(\"ack\", {});\n",
       "}\n",
       "\n",
       "// A function to construct a web socket function for onmessage handling.\n",
       "// Called in the figure constructor.\n",
       "mpl.figure.prototype._make_on_message_function = function(fig) {\n",
       "    return function socket_on_message(evt) {\n",
       "        if (evt.data instanceof Blob) {\n",
       "            /* FIXME: We get \"Resource interpreted as Image but\n",
       "             * transferred with MIME type text/plain:\" errors on\n",
       "             * Chrome.  But how to set the MIME type?  It doesn't seem\n",
       "             * to be part of the websocket stream */\n",
       "            evt.data.type = \"image/png\";\n",
       "\n",
       "            /* Free the memory for the previous frames */\n",
       "            if (fig.imageObj.src) {\n",
       "                (window.URL || window.webkitURL).revokeObjectURL(\n",
       "                    fig.imageObj.src);\n",
       "            }\n",
       "\n",
       "            fig.imageObj.src = (window.URL || window.webkitURL).createObjectURL(\n",
       "                evt.data);\n",
       "            fig.updated_canvas_event();\n",
       "            fig.waiting = false;\n",
       "            return;\n",
       "        }\n",
       "        else if (typeof evt.data === 'string' && evt.data.slice(0, 21) == \"data:image/png;base64\") {\n",
       "            fig.imageObj.src = evt.data;\n",
       "            fig.updated_canvas_event();\n",
       "            fig.waiting = false;\n",
       "            return;\n",
       "        }\n",
       "\n",
       "        var msg = JSON.parse(evt.data);\n",
       "        var msg_type = msg['type'];\n",
       "\n",
       "        // Call the  \"handle_{type}\" callback, which takes\n",
       "        // the figure and JSON message as its only arguments.\n",
       "        try {\n",
       "            var callback = fig[\"handle_\" + msg_type];\n",
       "        } catch (e) {\n",
       "            console.log(\"No handler for the '\" + msg_type + \"' message type: \", msg);\n",
       "            return;\n",
       "        }\n",
       "\n",
       "        if (callback) {\n",
       "            try {\n",
       "                // console.log(\"Handling '\" + msg_type + \"' message: \", msg);\n",
       "                callback(fig, msg);\n",
       "            } catch (e) {\n",
       "                console.log(\"Exception inside the 'handler_\" + msg_type + \"' callback:\", e, e.stack, msg);\n",
       "            }\n",
       "        }\n",
       "    };\n",
       "}\n",
       "\n",
       "// from http://stackoverflow.com/questions/1114465/getting-mouse-location-in-canvas\n",
       "mpl.findpos = function(e) {\n",
       "    //this section is from http://www.quirksmode.org/js/events_properties.html\n",
       "    var targ;\n",
       "    if (!e)\n",
       "        e = window.event;\n",
       "    if (e.target)\n",
       "        targ = e.target;\n",
       "    else if (e.srcElement)\n",
       "        targ = e.srcElement;\n",
       "    if (targ.nodeType == 3) // defeat Safari bug\n",
       "        targ = targ.parentNode;\n",
       "\n",
       "    // jQuery normalizes the pageX and pageY\n",
       "    // pageX,Y are the mouse positions relative to the document\n",
       "    // offset() returns the position of the element relative to the document\n",
       "    var x = e.pageX - $(targ).offset().left;\n",
       "    var y = e.pageY - $(targ).offset().top;\n",
       "\n",
       "    return {\"x\": x, \"y\": y};\n",
       "};\n",
       "\n",
       "/*\n",
       " * return a copy of an object with only non-object keys\n",
       " * we need this to avoid circular references\n",
       " * http://stackoverflow.com/a/24161582/3208463\n",
       " */\n",
       "function simpleKeys (original) {\n",
       "  return Object.keys(original).reduce(function (obj, key) {\n",
       "    if (typeof original[key] !== 'object')\n",
       "        obj[key] = original[key]\n",
       "    return obj;\n",
       "  }, {});\n",
       "}\n",
       "\n",
       "mpl.figure.prototype.mouse_event = function(event, name) {\n",
       "    var canvas_pos = mpl.findpos(event)\n",
       "\n",
       "    if (name === 'button_press')\n",
       "    {\n",
       "        this.canvas.focus();\n",
       "        this.canvas_div.focus();\n",
       "    }\n",
       "\n",
       "    var x = canvas_pos.x * mpl.ratio;\n",
       "    var y = canvas_pos.y * mpl.ratio;\n",
       "\n",
       "    this.send_message(name, {x: x, y: y, button: event.button,\n",
       "                             step: event.step,\n",
       "                             guiEvent: simpleKeys(event)});\n",
       "\n",
       "    /* This prevents the web browser from automatically changing to\n",
       "     * the text insertion cursor when the button is pressed.  We want\n",
       "     * to control all of the cursor setting manually through the\n",
       "     * 'cursor' event from matplotlib */\n",
       "    event.preventDefault();\n",
       "    return false;\n",
       "}\n",
       "\n",
       "mpl.figure.prototype._key_event_extra = function(event, name) {\n",
       "    // Handle any extra behaviour associated with a key event\n",
       "}\n",
       "\n",
       "mpl.figure.prototype.key_event = function(event, name) {\n",
       "\n",
       "    // Prevent repeat events\n",
       "    if (name == 'key_press')\n",
       "    {\n",
       "        if (event.which === this._key)\n",
       "            return;\n",
       "        else\n",
       "            this._key = event.which;\n",
       "    }\n",
       "    if (name == 'key_release')\n",
       "        this._key = null;\n",
       "\n",
       "    var value = '';\n",
       "    if (event.ctrlKey && event.which != 17)\n",
       "        value += \"ctrl+\";\n",
       "    if (event.altKey && event.which != 18)\n",
       "        value += \"alt+\";\n",
       "    if (event.shiftKey && event.which != 16)\n",
       "        value += \"shift+\";\n",
       "\n",
       "    value += 'k';\n",
       "    value += event.which.toString();\n",
       "\n",
       "    this._key_event_extra(event, name);\n",
       "\n",
       "    this.send_message(name, {key: value,\n",
       "                             guiEvent: simpleKeys(event)});\n",
       "    return false;\n",
       "}\n",
       "\n",
       "mpl.figure.prototype.toolbar_button_onclick = function(name) {\n",
       "    if (name == 'download') {\n",
       "        this.handle_save(this, null);\n",
       "    } else {\n",
       "        this.send_message(\"toolbar_button\", {name: name});\n",
       "    }\n",
       "};\n",
       "\n",
       "mpl.figure.prototype.toolbar_button_onmouseover = function(tooltip) {\n",
       "    this.message.textContent = tooltip;\n",
       "};\n",
       "mpl.toolbar_items = [[\"Home\", \"Reset original view\", \"fa fa-home icon-home\", \"home\"], [\"Back\", \"Back to previous view\", \"fa fa-arrow-left icon-arrow-left\", \"back\"], [\"Forward\", \"Forward to next view\", \"fa fa-arrow-right icon-arrow-right\", \"forward\"], [\"\", \"\", \"\", \"\"], [\"Pan\", \"Pan axes with left mouse, zoom with right\", \"fa fa-arrows icon-move\", \"pan\"], [\"Zoom\", \"Zoom to rectangle\", \"fa fa-square-o icon-check-empty\", \"zoom\"], [\"\", \"\", \"\", \"\"], [\"Download\", \"Download plot\", \"fa fa-floppy-o icon-save\", \"download\"]];\n",
       "\n",
       "mpl.extensions = [\"eps\", \"jpeg\", \"pdf\", \"png\", \"ps\", \"raw\", \"svg\", \"tif\"];\n",
       "\n",
       "mpl.default_extension = \"png\";var comm_websocket_adapter = function(comm) {\n",
       "    // Create a \"websocket\"-like object which calls the given IPython comm\n",
       "    // object with the appropriate methods. Currently this is a non binary\n",
       "    // socket, so there is still some room for performance tuning.\n",
       "    var ws = {};\n",
       "\n",
       "    ws.close = function() {\n",
       "        comm.close()\n",
       "    };\n",
       "    ws.send = function(m) {\n",
       "        //console.log('sending', m);\n",
       "        comm.send(m);\n",
       "    };\n",
       "    // Register the callback with on_msg.\n",
       "    comm.on_msg(function(msg) {\n",
       "        //console.log('receiving', msg['content']['data'], msg);\n",
       "        // Pass the mpl event to the overridden (by mpl) onmessage function.\n",
       "        ws.onmessage(msg['content']['data'])\n",
       "    });\n",
       "    return ws;\n",
       "}\n",
       "\n",
       "mpl.mpl_figure_comm = function(comm, msg) {\n",
       "    // This is the function which gets called when the mpl process\n",
       "    // starts-up an IPython Comm through the \"matplotlib\" channel.\n",
       "\n",
       "    var id = msg.content.data.id;\n",
       "    // Get hold of the div created by the display call when the Comm\n",
       "    // socket was opened in Python.\n",
       "    var element = $(\"#\" + id);\n",
       "    var ws_proxy = comm_websocket_adapter(comm)\n",
       "\n",
       "    function ondownload(figure, format) {\n",
       "        window.open(figure.imageObj.src);\n",
       "    }\n",
       "\n",
       "    var fig = new mpl.figure(id, ws_proxy,\n",
       "                           ondownload,\n",
       "                           element.get(0));\n",
       "\n",
       "    // Call onopen now - mpl needs it, as it is assuming we've passed it a real\n",
       "    // web socket which is closed, not our websocket->open comm proxy.\n",
       "    ws_proxy.onopen();\n",
       "\n",
       "    fig.parent_element = element.get(0);\n",
       "    fig.cell_info = mpl.find_output_cell(\"<div id='\" + id + \"'></div>\");\n",
       "    if (!fig.cell_info) {\n",
       "        console.error(\"Failed to find cell for figure\", id, fig);\n",
       "        return;\n",
       "    }\n",
       "\n",
       "    var output_index = fig.cell_info[2]\n",
       "    var cell = fig.cell_info[0];\n",
       "\n",
       "};\n",
       "\n",
       "mpl.figure.prototype.handle_close = function(fig, msg) {\n",
       "    var width = fig.canvas.width/mpl.ratio\n",
       "    fig.root.unbind('remove')\n",
       "\n",
       "    // Update the output cell to use the data from the current canvas.\n",
       "    fig.push_to_output();\n",
       "    var dataURL = fig.canvas.toDataURL();\n",
       "    // Re-enable the keyboard manager in IPython - without this line, in FF,\n",
       "    // the notebook keyboard shortcuts fail.\n",
       "    IPython.keyboard_manager.enable()\n",
       "    $(fig.parent_element).html('<img src=\"' + dataURL + '\" width=\"' + width + '\">');\n",
       "    fig.close_ws(fig, msg);\n",
       "}\n",
       "\n",
       "mpl.figure.prototype.close_ws = function(fig, msg){\n",
       "    fig.send_message('closing', msg);\n",
       "    // fig.ws.close()\n",
       "}\n",
       "\n",
       "mpl.figure.prototype.push_to_output = function(remove_interactive) {\n",
       "    // Turn the data on the canvas into data in the output cell.\n",
       "    var width = this.canvas.width/mpl.ratio\n",
       "    var dataURL = this.canvas.toDataURL();\n",
       "    this.cell_info[1]['text/html'] = '<img src=\"' + dataURL + '\" width=\"' + width + '\">';\n",
       "}\n",
       "\n",
       "mpl.figure.prototype.updated_canvas_event = function() {\n",
       "    // Tell IPython that the notebook contents must change.\n",
       "    IPython.notebook.set_dirty(true);\n",
       "    this.send_message(\"ack\", {});\n",
       "    var fig = this;\n",
       "    // Wait a second, then push the new image to the DOM so\n",
       "    // that it is saved nicely (might be nice to debounce this).\n",
       "    setTimeout(function () { fig.push_to_output() }, 1000);\n",
       "}\n",
       "\n",
       "mpl.figure.prototype._init_toolbar = function() {\n",
       "    var fig = this;\n",
       "\n",
       "    var nav_element = $('<div/>');\n",
       "    nav_element.attr('style', 'width: 100%');\n",
       "    this.root.append(nav_element);\n",
       "\n",
       "    // Define a callback function for later on.\n",
       "    function toolbar_event(event) {\n",
       "        return fig.toolbar_button_onclick(event['data']);\n",
       "    }\n",
       "    function toolbar_mouse_event(event) {\n",
       "        return fig.toolbar_button_onmouseover(event['data']);\n",
       "    }\n",
       "\n",
       "    for(var toolbar_ind in mpl.toolbar_items){\n",
       "        var name = mpl.toolbar_items[toolbar_ind][0];\n",
       "        var tooltip = mpl.toolbar_items[toolbar_ind][1];\n",
       "        var image = mpl.toolbar_items[toolbar_ind][2];\n",
       "        var method_name = mpl.toolbar_items[toolbar_ind][3];\n",
       "\n",
       "        if (!name) { continue; };\n",
       "\n",
       "        var button = $('<button class=\"btn btn-default\" href=\"#\" title=\"' + name + '\"><i class=\"fa ' + image + ' fa-lg\"></i></button>');\n",
       "        button.click(method_name, toolbar_event);\n",
       "        button.mouseover(tooltip, toolbar_mouse_event);\n",
       "        nav_element.append(button);\n",
       "    }\n",
       "\n",
       "    // Add the status bar.\n",
       "    var status_bar = $('<span class=\"mpl-message\" style=\"text-align:right; float: right;\"/>');\n",
       "    nav_element.append(status_bar);\n",
       "    this.message = status_bar[0];\n",
       "\n",
       "    // Add the close button to the window.\n",
       "    var buttongrp = $('<div class=\"btn-group inline pull-right\"></div>');\n",
       "    var button = $('<button class=\"btn btn-mini btn-primary\" href=\"#\" title=\"Stop Interaction\"><i class=\"fa fa-power-off icon-remove icon-large\"></i></button>');\n",
       "    button.click(function (evt) { fig.handle_close(fig, {}); } );\n",
       "    button.mouseover('Stop Interaction', toolbar_mouse_event);\n",
       "    buttongrp.append(button);\n",
       "    var titlebar = this.root.find($('.ui-dialog-titlebar'));\n",
       "    titlebar.prepend(buttongrp);\n",
       "}\n",
       "\n",
       "mpl.figure.prototype._root_extra_style = function(el){\n",
       "    var fig = this\n",
       "    el.on(\"remove\", function(){\n",
       "\tfig.close_ws(fig, {});\n",
       "    });\n",
       "}\n",
       "\n",
       "mpl.figure.prototype._canvas_extra_style = function(el){\n",
       "    // this is important to make the div 'focusable\n",
       "    el.attr('tabindex', 0)\n",
       "    // reach out to IPython and tell the keyboard manager to turn it's self\n",
       "    // off when our div gets focus\n",
       "\n",
       "    // location in version 3\n",
       "    if (IPython.notebook.keyboard_manager) {\n",
       "        IPython.notebook.keyboard_manager.register_events(el);\n",
       "    }\n",
       "    else {\n",
       "        // location in version 2\n",
       "        IPython.keyboard_manager.register_events(el);\n",
       "    }\n",
       "\n",
       "}\n",
       "\n",
       "mpl.figure.prototype._key_event_extra = function(event, name) {\n",
       "    var manager = IPython.notebook.keyboard_manager;\n",
       "    if (!manager)\n",
       "        manager = IPython.keyboard_manager;\n",
       "\n",
       "    // Check for shift+enter\n",
       "    if (event.shiftKey && event.which == 13) {\n",
       "        this.canvas_div.blur();\n",
       "        // select the cell after this one\n",
       "        var index = IPython.notebook.find_cell_index(this.cell_info[0]);\n",
       "        IPython.notebook.select(index + 1);\n",
       "    }\n",
       "}\n",
       "\n",
       "mpl.figure.prototype.handle_save = function(fig, msg) {\n",
       "    fig.ondownload(fig, null);\n",
       "}\n",
       "\n",
       "\n",
       "mpl.find_output_cell = function(html_output) {\n",
       "    // Return the cell and output element which can be found *uniquely* in the notebook.\n",
       "    // Note - this is a bit hacky, but it is done because the \"notebook_saving.Notebook\"\n",
       "    // IPython event is triggered only after the cells have been serialised, which for\n",
       "    // our purposes (turning an active figure into a static one), is too late.\n",
       "    var cells = IPython.notebook.get_cells();\n",
       "    var ncells = cells.length;\n",
       "    for (var i=0; i<ncells; i++) {\n",
       "        var cell = cells[i];\n",
       "        if (cell.cell_type === 'code'){\n",
       "            for (var j=0; j<cell.output_area.outputs.length; j++) {\n",
       "                var data = cell.output_area.outputs[j];\n",
       "                if (data.data) {\n",
       "                    // IPython >= 3 moved mimebundle to data attribute of output\n",
       "                    data = data.data;\n",
       "                }\n",
       "                if (data['text/html'] == html_output) {\n",
       "                    return [cell, data, j];\n",
       "                }\n",
       "            }\n",
       "        }\n",
       "    }\n",
       "}\n",
       "\n",
       "// Register the function which deals with the matplotlib target/channel.\n",
       "// The kernel may be null if the page has been refreshed.\n",
       "if (IPython.notebook.kernel != null) {\n",
       "    IPython.notebook.kernel.comm_manager.register_target('matplotlib', mpl.mpl_figure_comm);\n",
       "}\n"
      ],
      "text/plain": [
       "<IPython.core.display.Javascript object>"
      ]
     },
     "metadata": {},
     "output_type": "display_data"
    },
    {
     "data": {
      "text/html": [
       "<img src=\"data:image/png;base64,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\" width=\"1000\">"
      ],
      "text/plain": [
       "<IPython.core.display.HTML object>"
      ]
     },
     "metadata": {},
     "output_type": "display_data"
    }
   ],
   "source": [
    "avgEff = 0.0\n",
    "avgFP = 0.0\n",
    "print('for model: ', model)   \n",
    "run_name = 'Model Y (P3)'\n",
    "# Create an mlflow run\n",
    "with mlflow.start_run(run_name=run_name) as run:\n",
    "    # Log parameters of the model\n",
    "    for key, value in vars(args).items():\n",
    "        print(key, value)\n",
    "        mlflow.log_param(key, value)\n",
    "    \n",
    "    # Log parameter count in the model\n",
    "    mlflow.log_param('Parameters', count_parameters(model))\n",
    "    \n",
    "    # Begin run\n",
    "    for result in trainNet(model, optimizer, loss,\n",
    "                            train_loader, val_loader,\n",
    "                            args.epochs+args.epoch_start, epoch_start=args.epoch_start,\n",
    "                            notebook=True, device=device):\n",
    "\n",
    "        result = result._asdict()\n",
    "        results = results.append(pd.Series(result), ignore_index=True)\n",
    "        xs = results.index\n",
    "\n",
    "        # Update the plot above\n",
    "        lines['train'].set_data(results.index, results.cost)\n",
    "        lines['val'].set_data(results.index, results.val)\n",
    "\n",
    "        #filter first cost epoch (can be really large)\n",
    "        max_cost = max(max(results.cost if len(results.cost)<2 else results.cost[1:]), max(results.val))\n",
    "        min_cost = min(min(results.cost), min(results.val))\n",
    "    \n",
    "        # The plot limits need updating too\n",
    "        ax.set_ylim(min_cost*.9, max_cost*1.1)  \n",
    "        ax.set_xlim(-.5, len(results.cost) - .5)\n",
    "    \n",
    "        replace_in_ax(lax, lines['eff'], xs, results['eff_val'].apply(lambda x: x.eff_rate))\n",
    "        replace_in_ax(tax, lines['fp'], xs, results['eff_val'].apply(lambda x: x.fp_rate)) \n",
    "            \n",
    "        # Redraw the figure\n",
    "        fig.canvas.draw()  \n",
    "        \n",
    "        ## MLFLOW ##\n",
    "        # Log metrics\n",
    "        mlflow.log_metric('Efficiency', result['eff_val'].eff_rate, result['epoch'])\n",
    "        mlflow.log_metric('False Positive Rate',  result['eff_val'].fp_rate, result['epoch'])\n",
    "        mlflow.log_metric('Validation Loss',  result['val'], result['epoch'])\n",
    "        mlflow.log_metric('Training Loss',  result['cost'], result['epoch'])\n",
    "        \n",
    "        # computes averages for eff and fp of last 10 epochs\n",
    "        print('Result epoch: ', result['epoch'])\n",
    "        if(result['epoch'] >= args.epochs + args.epoch_start - 10):\n",
    "            avgEff += result['eff_val'].eff_rate\n",
    "            avgFP += result['eff_val'].fp_rate\n",
    "           \n",
    "        if(result['epoch'] == args.epochs + args.epoch_start - 1):\n",
    "            print('Averaging...\\n')\n",
    "            avgEff /= 10\n",
    "            avgFP /= 10\n",
    "            mlflow.log_metric('10 Efficiency Average', avgEff)\n",
    "            mlflow.log_metric('10 False Positive Average', avgFP)\n",
    "            \n",
    "        print('Average Eff: ', avgEff)\n",
    "        print('Average FP Rate: ', avgFP)\n",
    "            \n",
    "        # Log tags\n",
    "#        mlflow.set_tag('Optimizer', 'Adam')\n",
    "#        mlflow.set_tag('Kernel size', 'Mixed')\n",
    "#        mlflow.set_tag('Skip connections', '4')\n",
    "#        mlflow.set_tag('Activation', 'Softplus')\n",
    "#        mlflow.set_tag('Mid Activation', 'Relu')\n",
    "        mlflow.set_tag('Asymmetry', '2.5')\n",
    "\n",
    "        # Save model state dictionary, optimizer state dictionary, and epoch number\n",
    "        torch.save({\n",
    "            'model':model.state_dict(),\n",
    "            'optimizer':optimizer.state_dict(),\n",
    "            'epoch':args.epochs+result['epoch']\n",
    "            }, 'run_stats.pyt')\n",
    "        # Save the run stats into mlflow\n",
    "        mlflow.log_artifact('run_stats.pyt')\n",
    "        \n",
    "    dual_train_plots(results.index,\n",
    "                 results.cost, results.val, \n",
    "                 results['eff_val'].apply(lambda x: x.eff_rate),\n",
    "                 results['eff_val'].apply(lambda x: x.fp_rate))\n",
    "    plt.tight_layout()\n",
    "    # save plot\n",
    "    fig.savefig('plot.png')  \n",
    "    mlflow.log_artifact('plot.png')"
   ]
  },
  {
   "cell_type": "code",
   "execution_count": 13,
   "metadata": {},
   "outputs": [],
   "source": [
    "##quit()"
   ]
  }
 ],
 "metadata": {
  "kernelspec": {
   "display_name": "goofit-june2020",
   "language": "python",
   "name": "goofit-june2020"
  },
  "language_info": {
   "codemirror_mode": {
    "name": "ipython",
    "version": 3
   },
   "file_extension": ".py",
   "mimetype": "text/x-python",
   "name": "python",
   "nbconvert_exporter": "python",
   "pygments_lexer": "ipython3",
   "version": "3.7.6"
  }
 },
 "nbformat": 4,
 "nbformat_minor": 2
}
