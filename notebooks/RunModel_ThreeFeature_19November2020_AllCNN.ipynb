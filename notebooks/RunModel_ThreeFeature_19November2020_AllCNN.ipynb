{
 "cells": [
  {
   "cell_type": "code",
   "execution_count": 1,
   "metadata": {},
   "outputs": [],
   "source": [
    "##%matplotlib widget\n",
    "## with %matplotlib notebook: seems to require ipympl as part of environment, either\n",
    "## part of the conda environment or \"pip install ipympl\"\n",
    "## otherwise, does not show ANY plots in notebook, plt.savefig() works\n",
    "%matplotlib notebook  \n",
    "##%matplotlib inline    ## --plt.savefig()  works, but re-sizing does NOT"
   ]
  },
  {
   "cell_type": "markdown",
   "metadata": {},
   "source": [
    "This notebook is a short demo to illustrate execution.   For odd historical reasons, it uses \"toy Monte Carlo\" (simulated data)for \"training\" and \"full LHCB MC\" for validation.\n",
    "\n",
    "The network architecture is a \"simple\" model that uses 1 input channel (the KDE [kernel density estimator] but from the track parameters) feeding 5 convolutional layers followed by a fully connected layer.\n",
    "\n",
    "In today's version, the network will start with weights from a previously trained version.\n",
    " "
   ]
  },
  {
   "cell_type": "markdown",
   "metadata": {},
   "source": [
    "Check the current GPU usage. Please try to be nice!"
   ]
  },
  {
   "cell_type": "code",
   "execution_count": 2,
   "metadata": {
    "scrolled": true
   },
   "outputs": [
    {
     "name": "stdout",
     "output_type": "stream",
     "text": [
      "Fri Jan 15 12:55:25 2021       \r\n",
      "+-----------------------------------------------------------------------------+\r\n",
      "| NVIDIA-SMI 440.64.00    Driver Version: 440.64.00    CUDA Version: 10.2     |\r\n",
      "|-------------------------------+----------------------+----------------------+\r\n",
      "| GPU  Name        Persistence-M| Bus-Id        Disp.A | Volatile Uncorr. ECC |\r\n",
      "| Fan  Temp  Perf  Pwr:Usage/Cap|         Memory-Usage | GPU-Util  Compute M. |\r\n",
      "|===============================+======================+======================|\r\n",
      "|   0  TITAN V             Off  | 00000000:03:00.0 Off |                  N/A |\r\n",
      "| 20%   33C    P0    31W / 250W |      0MiB / 12066MiB |      0%      Default |\r\n",
      "+-------------------------------+----------------------+----------------------+\r\n",
      "|   1  Tesla P100-PCIE...  Off  | 00000000:83:00.0 Off |                    0 |\r\n",
      "| N/A   33C    P0    33W / 250W |      0MiB / 16280MiB |      0%      Default |\r\n",
      "+-------------------------------+----------------------+----------------------+\r\n",
      "|   2  TITAN V             Off  | 00000000:84:00.0 Off |                  N/A |\r\n",
      "| 22%   37C    P0    34W / 250W |      0MiB / 12066MiB |      0%      Default |\r\n",
      "+-------------------------------+----------------------+----------------------+\r\n",
      "                                                                               \r\n",
      "+-----------------------------------------------------------------------------+\r\n",
      "| Processes:                                                       GPU Memory |\r\n",
      "|  GPU       PID   Type   Process name                             Usage      |\r\n",
      "|=============================================================================|\r\n",
      "|  No running processes found                                                 |\r\n",
      "+-----------------------------------------------------------------------------+\r\n"
     ]
    }
   ],
   "source": [
    "!nvidia-smi"
   ]
  },
  {
   "cell_type": "markdown",
   "metadata": {},
   "source": [
    "> **WARNING**: The card numbers here are *not* the same as in CUDA. You have been warned."
   ]
  },
  {
   "cell_type": "markdown",
   "metadata": {},
   "source": [
    "## Imports"
   ]
  },
  {
   "cell_type": "code",
   "execution_count": 3,
   "metadata": {
    "scrolled": false
   },
   "outputs": [],
   "source": [
    "import matplotlib.pyplot as plt\n",
    "import numpy as np\n",
    "import time\n",
    "import torch\n",
    "import pandas as pd\n",
    "import mlflow\n",
    "\n",
    "# Python 3 standard library\n",
    "from pathlib import Path\n",
    "\n",
    "from torchsummary import summary\n",
    "\n",
    "'''\n",
    "HELPER FUNCTIONS\n",
    "'''\n",
    "# From model/collectdata.py\n",
    "from model.collectdata_mdsA import collect_data\n",
    "\n",
    "# From model/loss.py\n",
    "##from loss import Loss\n",
    "from model.alt_loss_A import Loss\n",
    "\n",
    "# From model/training.py\n",
    "from model.training import trainNet, select_gpu, Results\n",
    "\n",
    "# From model/models.py\n",
    "##  will start with model from TwoFeatures_CNN6Layer_A in the first instance\n",
    "##  see relevant cell below\n",
    "\n",
    "from model.models_mjp_19November20 import All_CNN6Layer_A as ModelA\n",
    "from model.models_mjp_19November20 import All_CNN6Layer_E as ModelE\n",
    "from model.models_mjp_19November20 import All_CNN8Layer_W as ModelW\n",
    "from model.models_mjp_26December20 import All_CNN10Layer_X as ModelX\n",
    "from model.models_mjp_26December20 import All_CNN8Layer_Y as ModelY\n",
    "\n",
    "# From model/utilities.py\n",
    "from model.utilities import load_full_state, count_parameters, Params\n",
    "\n",
    "from model.plots import dual_train_plots, replace_in_ax\n",
    "\n",
    "## adds image of model architecture\n",
    "import hiddenlayer as HL"
   ]
  },
  {
   "cell_type": "markdown",
   "metadata": {},
   "source": [
    "Set up Torch device configuration. All tensors and model parameters need to know where to be put.\n",
    "This takes a BUS ID number: The BUS ID is the same as the listing at the top of this script."
   ]
  },
  {
   "cell_type": "code",
   "execution_count": 4,
   "metadata": {},
   "outputs": [
    {
     "name": "stdout",
     "output_type": "stream",
     "text": [
      "1 available GPUs (initially using device 0):\n",
      "  0 TITAN V\n"
     ]
    }
   ],
   "source": [
    "device = select_gpu(2)"
   ]
  },
  {
   "cell_type": "markdown",
   "metadata": {},
   "source": [
    "### Set up local parameters"
   ]
  },
  {
   "cell_type": "code",
   "execution_count": 5,
   "metadata": {},
   "outputs": [],
   "source": [
    "# params order - batch size, epochs, lr, epoch_start (which is usually set to 0)\n",
    "args = Params(128, 1000, 1e-3, 420)"
   ]
  },
  {
   "cell_type": "markdown",
   "metadata": {},
   "source": [
    "## Loading data\n",
    "\n",
    "Load the dataset, split into parts, then move to device (see `collectdata.py` in the `../model` directory)"
   ]
  },
  {
   "cell_type": "code",
   "execution_count": 6,
   "metadata": {
    "scrolled": true
   },
   "outputs": [
    {
     "name": "stdout",
     "output_type": "stream",
     "text": [
      "Loading data...\n",
      "Loaded /share/lazy/sokoloff/ML-data_A/Aug14_80K_train.h5 in 10.84 s\n",
      "Loaded /share/lazy/sokoloff/ML-data_AA/Oct03_80K_train.h5 in 10.33 s\n",
      "Constructing 160000 event dataset took 3.338 s\n",
      "Loading data...\n",
      "Loaded /share/lazy/sokoloff/ML-data_AA/Oct03_20K_val.h5 in 2.54 s\n",
      "Constructing 9984 event dataset took 0.05915 s\n"
     ]
    }
   ],
   "source": [
    "## newer vernacular\n",
    "## Training dataset. You can put as many files here as desired.\n",
    "\n",
    "## in this DEMO example we use only one 80K training set -- the model starts with well-trained weights,\n",
    "## and using a smaller training set reduces both the time to load the data and the time to train an epoch\n",
    "##  set the option load_XandXsq = True to use both DKE and KDE^2 as input features\n",
    "train_loader = collect_data('/share/lazy/sokoloff/ML-data_A/Aug14_80K_train.h5',\n",
    "                             '/share/lazy/sokoloff/ML-data_AA/Oct03_80K_train.h5',\n",
    "#                             '/share/lazy/sokoloff/ML-data_AA/Oct03_40K_train.h5',\n",
    "#                             '/share/lazy/will/ML_mdsA/June30_2020_80k_1.h5',\n",
    "#                             '/share/lazy/will/ML_mdsA/June30_2020_80k_3.h5',\n",
    "#                             '/share/lazy/will/ML_mdsA/June30_2020_80k_4.h5',\n",
    "#                             '/share/lazy/will/ML_mdsA/June30_2020_80k_5.h5',\n",
    "#                             '/share/lazy/will/ML_mdsA/June30_2020_80k_6.h5',\n",
    "#                             '/share/lazy/will/ML_mdsA/June30_2020_80k_7.h5',\n",
    "#                             '/share/lazy/will/ML_mdsA/June30_2020_80k_8.h5',\n",
    "#                             '/share/lazy/will/ML_mdsA/June30_2020_80k_9.h5',\n",
    "                            #'/share/lazy/sokoloff/ML-data_AA/Oct03_80K2_train.h5',\n",
    "                             batch_size=args.batch_size,\n",
    "## if we are using a larger dataset (240K events, with the datasets above, and 11 GB  of GPU memory),\n",
    "## not the dataset will overflow the GPU memory; device=device will allow the data to move back\n",
    "## and forth between the CPU and GPU memory. While this allows use of a larger dataset, it slows\n",
    "## down performance by about 10%.  So comment out when not needed.\n",
    "                            device=device,\n",
    "                            masking=True, shuffle=True,\n",
    "                            load_XandXsq=False,\n",
    "                            load_xy=False)\n",
    "\n",
    "# Validation dataset. You can slice to reduce the size.\n",
    "## dataAA -> /share/lazy/sokoloff/ML-data_AA/\n",
    "val_loader = collect_data('/share/lazy/sokoloff/ML-data_AA/Oct03_20K_val.h5',\n",
    "## mds val_loader = collect_data('dataAA/HLT1CPU_1kevts_val.h5',\n",
    "\n",
    "                          batch_size=args.batch_size,\n",
    "                          slice=slice(256 * 39),\n",
    "                          device=device,\n",
    "                          masking=True, shuffle=False,\n",
    "                          load_XandXsq=False,\n",
    "                          load_xy=False)"
   ]
  },
  {
   "cell_type": "markdown",
   "metadata": {},
   "source": [
    "# Preparing the model"
   ]
  },
  {
   "cell_type": "markdown",
   "metadata": {},
   "source": [
    "Prepare a model, use multiple GPUs if they are VISIBLE, and move the model to the device."
   ]
  },
  {
   "cell_type": "code",
   "execution_count": 7,
   "metadata": {
    "scrolled": true
   },
   "outputs": [
    {
     "name": "stderr",
     "output_type": "stream",
     "text": [
      "WARNING:root:Malformed experiment 'ML'. Detailed error Yaml file '/share/lazy/pv-finder_model_repo/ML/meta.yaml' does not exist.\n",
      "Traceback (most recent call last):\n",
      "  File \"/home/michael24peters/.local/lib/python3.7/site-packages/mlflow/store/tracking/file_store.py\", line 197, in list_experiments\n",
      "    experiment = self._get_experiment(exp_id, view_type)\n",
      "  File \"/home/michael24peters/.local/lib/python3.7/site-packages/mlflow/store/tracking/file_store.py\", line 260, in _get_experiment\n",
      "    meta = read_yaml(experiment_dir, FileStore.META_DATA_FILE_NAME)\n",
      "  File \"/home/michael24peters/.local/lib/python3.7/site-packages/mlflow/utils/file_utils.py\", line 167, in read_yaml\n",
      "    raise MissingConfigException(\"Yaml file '%s' does not exist.\" % file_path)\n",
      "mlflow.exceptions.MissingConfigException: Yaml file '/share/lazy/pv-finder_model_repo/ML/meta.yaml' does not exist.\n"
     ]
    }
   ],
   "source": [
    "model = ModelY()\n",
    "\n",
    "#summary(model.to(device), (1, 4000))\n",
    "\n",
    "mlflow.tracking.set_tracking_uri('file:/share/lazy/pv-finder_model_repo')\n",
    "mlflow.set_experiment('Four Feature AllCNN')"
   ]
  },
  {
   "cell_type": "code",
   "execution_count": 8,
   "metadata": {
    "scrolled": true
   },
   "outputs": [
    {
     "name": "stdout",
     "output_type": "stream",
     "text": [
      "Let's use 1 GPUs!\n"
     ]
    }
   ],
   "source": [
    "print(\"Let's use\", torch.cuda.device_count(), \"GPUs!\")\n",
    "if torch.cuda.device_count() > 1:\n",
    "    model = torch.nn.DataParallel(model)"
   ]
  },
  {
   "cell_type": "markdown",
   "metadata": {},
   "source": [
    "Let's move the model's weight matricies to the GPU:"
   ]
  },
  {
   "cell_type": "code",
   "execution_count": 9,
   "metadata": {},
   "outputs": [
    {
     "name": "stdout",
     "output_type": "stream",
     "text": [
      "we also froze 0 weights\n",
      "Of the 28.0 parameter layers to update in the current model, 28.0 were loaded\n"
     ]
    }
   ],
   "source": [
    "##  mds 200121 loss = Loss(epsilon=1e-5,coefficient=1.0)\n",
    "loss = Loss(epsilon=1e-5,coefficient=2.5)\n",
    "optimizer = torch.optim.Adam(model.parameters(), lr=args.lr)\n",
    "\n",
    "##  use the first five layers from a pre-existing model\n",
    "##  see example at https://discuss.pytorch.org/t/how-to-load-part-of-pre-trained-model/1113\n",
    "##   ML -> /share/lazy/sokoloff/ML\n",
    "\n",
    "#path = 'run_stats.pyt'\n",
    "#load_full_state(model, optimizer, path)\n",
    "# For other pretrained models, go to MLFlow and find the path for \"run_stats.pyt\"\n",
    "pretrained_dict = '/share/lazy/pv-finder_model_repo/12/696019a572414cf18a495f23dfc016e7/artifacts/run_stats.pyt'\n",
    "load_full_state(model, optimizer, pretrained_dict)"
   ]
  },
  {
   "cell_type": "markdown",
   "metadata": {},
   "source": [
    "Let's move the model's weight matricies to the GPU:"
   ]
  },
  {
   "cell_type": "code",
   "execution_count": 10,
   "metadata": {
    "scrolled": true
   },
   "outputs": [
    {
     "data": {
      "text/plain": [
       "All_CNN8Layer_Y(\n",
       "  (conv1): Conv1d(1, 20, kernel_size=(25,), stride=(1,), padding=(12,))\n",
       "  (conv2): Conv1d(20, 10, kernel_size=(15,), stride=(1,), padding=(7,))\n",
       "  (conv3): Conv1d(30, 10, kernel_size=(15,), stride=(1,), padding=(7,))\n",
       "  (conv4): Conv1d(40, 10, kernel_size=(15,), stride=(1,), padding=(7,))\n",
       "  (conv5): Conv1d(50, 10, kernel_size=(15,), stride=(1,), padding=(7,))\n",
       "  (conv6): Conv1d(60, 10, kernel_size=(15,), stride=(1,), padding=(7,))\n",
       "  (conv7): Conv1d(70, 1, kernel_size=(5,), stride=(1,), padding=(2,))\n",
       "  (finalFilter): Conv1d(71, 1, kernel_size=(91,), stride=(1,), padding=(45,))\n",
       "  (conv1dropout): Dropout(p=0.15, inplace=False)\n",
       "  (conv2dropout): Dropout(p=0.15, inplace=False)\n",
       "  (conv3dropout): Dropout(p=0.15, inplace=False)\n",
       "  (conv4dropout): Dropout(p=0.15, inplace=False)\n",
       "  (conv5dropout): Dropout(p=0.15, inplace=False)\n",
       "  (conv6dropout): Dropout(p=0.15, inplace=False)\n",
       "  (conv7dropout): Dropout(p=0.15, inplace=False)\n",
       "  (bn1): BatchNorm1d(20, eps=1e-05, momentum=0.1, affine=True, track_running_stats=True)\n",
       "  (bn2): BatchNorm1d(10, eps=1e-05, momentum=0.1, affine=True, track_running_stats=True)\n",
       "  (bn3): BatchNorm1d(10, eps=1e-05, momentum=0.1, affine=True, track_running_stats=True)\n",
       "  (bn4): BatchNorm1d(10, eps=1e-05, momentum=0.1, affine=True, track_running_stats=True)\n",
       "  (bn5): BatchNorm1d(10, eps=1e-05, momentum=0.1, affine=True, track_running_stats=True)\n",
       "  (bn6): BatchNorm1d(10, eps=1e-05, momentum=0.1, affine=True, track_running_stats=True)\n",
       "  (bn7): BatchNorm1d(1, eps=1e-05, momentum=0.1, affine=True, track_running_stats=True)\n",
       "  (bnFF): BatchNorm1d(1, eps=1e-05, momentum=0.1, affine=True, track_running_stats=True)\n",
       ")"
      ]
     },
     "execution_count": 10,
     "metadata": {},
     "output_type": "execute_result"
    }
   ],
   "source": [
    "model.to(device)"
   ]
  },
  {
   "cell_type": "markdown",
   "metadata": {},
   "source": [
    "## Train \n",
    "\n",
    "\n",
    "\n",
    "The body of this loop runs once per epoch. Results is a named tuple of values (loss per epoch for training and validation, time each). Start by setting up a plot first:"
   ]
  },
  {
   "cell_type": "code",
   "execution_count": 11,
   "metadata": {},
   "outputs": [
    {
     "data": {
      "application/javascript": [
       "/* Put everything inside the global mpl namespace */\n",
       "window.mpl = {};\n",
       "\n",
       "\n",
       "mpl.get_websocket_type = function() {\n",
       "    if (typeof(WebSocket) !== 'undefined') {\n",
       "        return WebSocket;\n",
       "    } else if (typeof(MozWebSocket) !== 'undefined') {\n",
       "        return MozWebSocket;\n",
       "    } else {\n",
       "        alert('Your browser does not have WebSocket support. ' +\n",
       "              'Please try Chrome, Safari or Firefox ≥ 6. ' +\n",
       "              'Firefox 4 and 5 are also supported but you ' +\n",
       "              'have to enable WebSockets in about:config.');\n",
       "    };\n",
       "}\n",
       "\n",
       "mpl.figure = function(figure_id, websocket, ondownload, parent_element) {\n",
       "    this.id = figure_id;\n",
       "\n",
       "    this.ws = websocket;\n",
       "\n",
       "    this.supports_binary = (this.ws.binaryType != undefined);\n",
       "\n",
       "    if (!this.supports_binary) {\n",
       "        var warnings = document.getElementById(\"mpl-warnings\");\n",
       "        if (warnings) {\n",
       "            warnings.style.display = 'block';\n",
       "            warnings.textContent = (\n",
       "                \"This browser does not support binary websocket messages. \" +\n",
       "                    \"Performance may be slow.\");\n",
       "        }\n",
       "    }\n",
       "\n",
       "    this.imageObj = new Image();\n",
       "\n",
       "    this.context = undefined;\n",
       "    this.message = undefined;\n",
       "    this.canvas = undefined;\n",
       "    this.rubberband_canvas = undefined;\n",
       "    this.rubberband_context = undefined;\n",
       "    this.format_dropdown = undefined;\n",
       "\n",
       "    this.image_mode = 'full';\n",
       "\n",
       "    this.root = $('<div/>');\n",
       "    this._root_extra_style(this.root)\n",
       "    this.root.attr('style', 'display: inline-block');\n",
       "\n",
       "    $(parent_element).append(this.root);\n",
       "\n",
       "    this._init_header(this);\n",
       "    this._init_canvas(this);\n",
       "    this._init_toolbar(this);\n",
       "\n",
       "    var fig = this;\n",
       "\n",
       "    this.waiting = false;\n",
       "\n",
       "    this.ws.onopen =  function () {\n",
       "            fig.send_message(\"supports_binary\", {value: fig.supports_binary});\n",
       "            fig.send_message(\"send_image_mode\", {});\n",
       "            if (mpl.ratio != 1) {\n",
       "                fig.send_message(\"set_dpi_ratio\", {'dpi_ratio': mpl.ratio});\n",
       "            }\n",
       "            fig.send_message(\"refresh\", {});\n",
       "        }\n",
       "\n",
       "    this.imageObj.onload = function() {\n",
       "            if (fig.image_mode == 'full') {\n",
       "                // Full images could contain transparency (where diff images\n",
       "                // almost always do), so we need to clear the canvas so that\n",
       "                // there is no ghosting.\n",
       "                fig.context.clearRect(0, 0, fig.canvas.width, fig.canvas.height);\n",
       "            }\n",
       "            fig.context.drawImage(fig.imageObj, 0, 0);\n",
       "        };\n",
       "\n",
       "    this.imageObj.onunload = function() {\n",
       "        fig.ws.close();\n",
       "    }\n",
       "\n",
       "    this.ws.onmessage = this._make_on_message_function(this);\n",
       "\n",
       "    this.ondownload = ondownload;\n",
       "}\n",
       "\n",
       "mpl.figure.prototype._init_header = function() {\n",
       "    var titlebar = $(\n",
       "        '<div class=\"ui-dialog-titlebar ui-widget-header ui-corner-all ' +\n",
       "        'ui-helper-clearfix\"/>');\n",
       "    var titletext = $(\n",
       "        '<div class=\"ui-dialog-title\" style=\"width: 100%; ' +\n",
       "        'text-align: center; padding: 3px;\"/>');\n",
       "    titlebar.append(titletext)\n",
       "    this.root.append(titlebar);\n",
       "    this.header = titletext[0];\n",
       "}\n",
       "\n",
       "\n",
       "\n",
       "mpl.figure.prototype._canvas_extra_style = function(canvas_div) {\n",
       "\n",
       "}\n",
       "\n",
       "\n",
       "mpl.figure.prototype._root_extra_style = function(canvas_div) {\n",
       "\n",
       "}\n",
       "\n",
       "mpl.figure.prototype._init_canvas = function() {\n",
       "    var fig = this;\n",
       "\n",
       "    var canvas_div = $('<div/>');\n",
       "\n",
       "    canvas_div.attr('style', 'position: relative; clear: both; outline: 0');\n",
       "\n",
       "    function canvas_keyboard_event(event) {\n",
       "        return fig.key_event(event, event['data']);\n",
       "    }\n",
       "\n",
       "    canvas_div.keydown('key_press', canvas_keyboard_event);\n",
       "    canvas_div.keyup('key_release', canvas_keyboard_event);\n",
       "    this.canvas_div = canvas_div\n",
       "    this._canvas_extra_style(canvas_div)\n",
       "    this.root.append(canvas_div);\n",
       "\n",
       "    var canvas = $('<canvas/>');\n",
       "    canvas.addClass('mpl-canvas');\n",
       "    canvas.attr('style', \"left: 0; top: 0; z-index: 0; outline: 0\")\n",
       "\n",
       "    this.canvas = canvas[0];\n",
       "    this.context = canvas[0].getContext(\"2d\");\n",
       "\n",
       "    var backingStore = this.context.backingStorePixelRatio ||\n",
       "\tthis.context.webkitBackingStorePixelRatio ||\n",
       "\tthis.context.mozBackingStorePixelRatio ||\n",
       "\tthis.context.msBackingStorePixelRatio ||\n",
       "\tthis.context.oBackingStorePixelRatio ||\n",
       "\tthis.context.backingStorePixelRatio || 1;\n",
       "\n",
       "    mpl.ratio = (window.devicePixelRatio || 1) / backingStore;\n",
       "\n",
       "    var rubberband = $('<canvas/>');\n",
       "    rubberband.attr('style', \"position: absolute; left: 0; top: 0; z-index: 1;\")\n",
       "\n",
       "    var pass_mouse_events = true;\n",
       "\n",
       "    canvas_div.resizable({\n",
       "        start: function(event, ui) {\n",
       "            pass_mouse_events = false;\n",
       "        },\n",
       "        resize: function(event, ui) {\n",
       "            fig.request_resize(ui.size.width, ui.size.height);\n",
       "        },\n",
       "        stop: function(event, ui) {\n",
       "            pass_mouse_events = true;\n",
       "            fig.request_resize(ui.size.width, ui.size.height);\n",
       "        },\n",
       "    });\n",
       "\n",
       "    function mouse_event_fn(event) {\n",
       "        if (pass_mouse_events)\n",
       "            return fig.mouse_event(event, event['data']);\n",
       "    }\n",
       "\n",
       "    rubberband.mousedown('button_press', mouse_event_fn);\n",
       "    rubberband.mouseup('button_release', mouse_event_fn);\n",
       "    // Throttle sequential mouse events to 1 every 20ms.\n",
       "    rubberband.mousemove('motion_notify', mouse_event_fn);\n",
       "\n",
       "    rubberband.mouseenter('figure_enter', mouse_event_fn);\n",
       "    rubberband.mouseleave('figure_leave', mouse_event_fn);\n",
       "\n",
       "    canvas_div.on(\"wheel\", function (event) {\n",
       "        event = event.originalEvent;\n",
       "        event['data'] = 'scroll'\n",
       "        if (event.deltaY < 0) {\n",
       "            event.step = 1;\n",
       "        } else {\n",
       "            event.step = -1;\n",
       "        }\n",
       "        mouse_event_fn(event);\n",
       "    });\n",
       "\n",
       "    canvas_div.append(canvas);\n",
       "    canvas_div.append(rubberband);\n",
       "\n",
       "    this.rubberband = rubberband;\n",
       "    this.rubberband_canvas = rubberband[0];\n",
       "    this.rubberband_context = rubberband[0].getContext(\"2d\");\n",
       "    this.rubberband_context.strokeStyle = \"#000000\";\n",
       "\n",
       "    this._resize_canvas = function(width, height) {\n",
       "        // Keep the size of the canvas, canvas container, and rubber band\n",
       "        // canvas in synch.\n",
       "        canvas_div.css('width', width)\n",
       "        canvas_div.css('height', height)\n",
       "\n",
       "        canvas.attr('width', width * mpl.ratio);\n",
       "        canvas.attr('height', height * mpl.ratio);\n",
       "        canvas.attr('style', 'width: ' + width + 'px; height: ' + height + 'px;');\n",
       "\n",
       "        rubberband.attr('width', width);\n",
       "        rubberband.attr('height', height);\n",
       "    }\n",
       "\n",
       "    // Set the figure to an initial 600x600px, this will subsequently be updated\n",
       "    // upon first draw.\n",
       "    this._resize_canvas(600, 600);\n",
       "\n",
       "    // Disable right mouse context menu.\n",
       "    $(this.rubberband_canvas).bind(\"contextmenu\",function(e){\n",
       "        return false;\n",
       "    });\n",
       "\n",
       "    function set_focus () {\n",
       "        canvas.focus();\n",
       "        canvas_div.focus();\n",
       "    }\n",
       "\n",
       "    window.setTimeout(set_focus, 100);\n",
       "}\n",
       "\n",
       "mpl.figure.prototype._init_toolbar = function() {\n",
       "    var fig = this;\n",
       "\n",
       "    var nav_element = $('<div/>');\n",
       "    nav_element.attr('style', 'width: 100%');\n",
       "    this.root.append(nav_element);\n",
       "\n",
       "    // Define a callback function for later on.\n",
       "    function toolbar_event(event) {\n",
       "        return fig.toolbar_button_onclick(event['data']);\n",
       "    }\n",
       "    function toolbar_mouse_event(event) {\n",
       "        return fig.toolbar_button_onmouseover(event['data']);\n",
       "    }\n",
       "\n",
       "    for(var toolbar_ind in mpl.toolbar_items) {\n",
       "        var name = mpl.toolbar_items[toolbar_ind][0];\n",
       "        var tooltip = mpl.toolbar_items[toolbar_ind][1];\n",
       "        var image = mpl.toolbar_items[toolbar_ind][2];\n",
       "        var method_name = mpl.toolbar_items[toolbar_ind][3];\n",
       "\n",
       "        if (!name) {\n",
       "            // put a spacer in here.\n",
       "            continue;\n",
       "        }\n",
       "        var button = $('<button/>');\n",
       "        button.addClass('ui-button ui-widget ui-state-default ui-corner-all ' +\n",
       "                        'ui-button-icon-only');\n",
       "        button.attr('role', 'button');\n",
       "        button.attr('aria-disabled', 'false');\n",
       "        button.click(method_name, toolbar_event);\n",
       "        button.mouseover(tooltip, toolbar_mouse_event);\n",
       "\n",
       "        var icon_img = $('<span/>');\n",
       "        icon_img.addClass('ui-button-icon-primary ui-icon');\n",
       "        icon_img.addClass(image);\n",
       "        icon_img.addClass('ui-corner-all');\n",
       "\n",
       "        var tooltip_span = $('<span/>');\n",
       "        tooltip_span.addClass('ui-button-text');\n",
       "        tooltip_span.html(tooltip);\n",
       "\n",
       "        button.append(icon_img);\n",
       "        button.append(tooltip_span);\n",
       "\n",
       "        nav_element.append(button);\n",
       "    }\n",
       "\n",
       "    var fmt_picker_span = $('<span/>');\n",
       "\n",
       "    var fmt_picker = $('<select/>');\n",
       "    fmt_picker.addClass('mpl-toolbar-option ui-widget ui-widget-content');\n",
       "    fmt_picker_span.append(fmt_picker);\n",
       "    nav_element.append(fmt_picker_span);\n",
       "    this.format_dropdown = fmt_picker[0];\n",
       "\n",
       "    for (var ind in mpl.extensions) {\n",
       "        var fmt = mpl.extensions[ind];\n",
       "        var option = $(\n",
       "            '<option/>', {selected: fmt === mpl.default_extension}).html(fmt);\n",
       "        fmt_picker.append(option);\n",
       "    }\n",
       "\n",
       "    // Add hover states to the ui-buttons\n",
       "    $( \".ui-button\" ).hover(\n",
       "        function() { $(this).addClass(\"ui-state-hover\");},\n",
       "        function() { $(this).removeClass(\"ui-state-hover\");}\n",
       "    );\n",
       "\n",
       "    var status_bar = $('<span class=\"mpl-message\"/>');\n",
       "    nav_element.append(status_bar);\n",
       "    this.message = status_bar[0];\n",
       "}\n",
       "\n",
       "mpl.figure.prototype.request_resize = function(x_pixels, y_pixels) {\n",
       "    // Request matplotlib to resize the figure. Matplotlib will then trigger a resize in the client,\n",
       "    // which will in turn request a refresh of the image.\n",
       "    this.send_message('resize', {'width': x_pixels, 'height': y_pixels});\n",
       "}\n",
       "\n",
       "mpl.figure.prototype.send_message = function(type, properties) {\n",
       "    properties['type'] = type;\n",
       "    properties['figure_id'] = this.id;\n",
       "    this.ws.send(JSON.stringify(properties));\n",
       "}\n",
       "\n",
       "mpl.figure.prototype.send_draw_message = function() {\n",
       "    if (!this.waiting) {\n",
       "        this.waiting = true;\n",
       "        this.ws.send(JSON.stringify({type: \"draw\", figure_id: this.id}));\n",
       "    }\n",
       "}\n",
       "\n",
       "\n",
       "mpl.figure.prototype.handle_save = function(fig, msg) {\n",
       "    var format_dropdown = fig.format_dropdown;\n",
       "    var format = format_dropdown.options[format_dropdown.selectedIndex].value;\n",
       "    fig.ondownload(fig, format);\n",
       "}\n",
       "\n",
       "\n",
       "mpl.figure.prototype.handle_resize = function(fig, msg) {\n",
       "    var size = msg['size'];\n",
       "    if (size[0] != fig.canvas.width || size[1] != fig.canvas.height) {\n",
       "        fig._resize_canvas(size[0], size[1]);\n",
       "        fig.send_message(\"refresh\", {});\n",
       "    };\n",
       "}\n",
       "\n",
       "mpl.figure.prototype.handle_rubberband = function(fig, msg) {\n",
       "    var x0 = msg['x0'] / mpl.ratio;\n",
       "    var y0 = (fig.canvas.height - msg['y0']) / mpl.ratio;\n",
       "    var x1 = msg['x1'] / mpl.ratio;\n",
       "    var y1 = (fig.canvas.height - msg['y1']) / mpl.ratio;\n",
       "    x0 = Math.floor(x0) + 0.5;\n",
       "    y0 = Math.floor(y0) + 0.5;\n",
       "    x1 = Math.floor(x1) + 0.5;\n",
       "    y1 = Math.floor(y1) + 0.5;\n",
       "    var min_x = Math.min(x0, x1);\n",
       "    var min_y = Math.min(y0, y1);\n",
       "    var width = Math.abs(x1 - x0);\n",
       "    var height = Math.abs(y1 - y0);\n",
       "\n",
       "    fig.rubberband_context.clearRect(\n",
       "        0, 0, fig.canvas.width / mpl.ratio, fig.canvas.height / mpl.ratio);\n",
       "\n",
       "    fig.rubberband_context.strokeRect(min_x, min_y, width, height);\n",
       "}\n",
       "\n",
       "mpl.figure.prototype.handle_figure_label = function(fig, msg) {\n",
       "    // Updates the figure title.\n",
       "    fig.header.textContent = msg['label'];\n",
       "}\n",
       "\n",
       "mpl.figure.prototype.handle_cursor = function(fig, msg) {\n",
       "    var cursor = msg['cursor'];\n",
       "    switch(cursor)\n",
       "    {\n",
       "    case 0:\n",
       "        cursor = 'pointer';\n",
       "        break;\n",
       "    case 1:\n",
       "        cursor = 'default';\n",
       "        break;\n",
       "    case 2:\n",
       "        cursor = 'crosshair';\n",
       "        break;\n",
       "    case 3:\n",
       "        cursor = 'move';\n",
       "        break;\n",
       "    }\n",
       "    fig.rubberband_canvas.style.cursor = cursor;\n",
       "}\n",
       "\n",
       "mpl.figure.prototype.handle_message = function(fig, msg) {\n",
       "    fig.message.textContent = msg['message'];\n",
       "}\n",
       "\n",
       "mpl.figure.prototype.handle_draw = function(fig, msg) {\n",
       "    // Request the server to send over a new figure.\n",
       "    fig.send_draw_message();\n",
       "}\n",
       "\n",
       "mpl.figure.prototype.handle_image_mode = function(fig, msg) {\n",
       "    fig.image_mode = msg['mode'];\n",
       "}\n",
       "\n",
       "mpl.figure.prototype.updated_canvas_event = function() {\n",
       "    // Called whenever the canvas gets updated.\n",
       "    this.send_message(\"ack\", {});\n",
       "}\n",
       "\n",
       "// A function to construct a web socket function for onmessage handling.\n",
       "// Called in the figure constructor.\n",
       "mpl.figure.prototype._make_on_message_function = function(fig) {\n",
       "    return function socket_on_message(evt) {\n",
       "        if (evt.data instanceof Blob) {\n",
       "            /* FIXME: We get \"Resource interpreted as Image but\n",
       "             * transferred with MIME type text/plain:\" errors on\n",
       "             * Chrome.  But how to set the MIME type?  It doesn't seem\n",
       "             * to be part of the websocket stream */\n",
       "            evt.data.type = \"image/png\";\n",
       "\n",
       "            /* Free the memory for the previous frames */\n",
       "            if (fig.imageObj.src) {\n",
       "                (window.URL || window.webkitURL).revokeObjectURL(\n",
       "                    fig.imageObj.src);\n",
       "            }\n",
       "\n",
       "            fig.imageObj.src = (window.URL || window.webkitURL).createObjectURL(\n",
       "                evt.data);\n",
       "            fig.updated_canvas_event();\n",
       "            fig.waiting = false;\n",
       "            return;\n",
       "        }\n",
       "        else if (typeof evt.data === 'string' && evt.data.slice(0, 21) == \"data:image/png;base64\") {\n",
       "            fig.imageObj.src = evt.data;\n",
       "            fig.updated_canvas_event();\n",
       "            fig.waiting = false;\n",
       "            return;\n",
       "        }\n",
       "\n",
       "        var msg = JSON.parse(evt.data);\n",
       "        var msg_type = msg['type'];\n",
       "\n",
       "        // Call the  \"handle_{type}\" callback, which takes\n",
       "        // the figure and JSON message as its only arguments.\n",
       "        try {\n",
       "            var callback = fig[\"handle_\" + msg_type];\n",
       "        } catch (e) {\n",
       "            console.log(\"No handler for the '\" + msg_type + \"' message type: \", msg);\n",
       "            return;\n",
       "        }\n",
       "\n",
       "        if (callback) {\n",
       "            try {\n",
       "                // console.log(\"Handling '\" + msg_type + \"' message: \", msg);\n",
       "                callback(fig, msg);\n",
       "            } catch (e) {\n",
       "                console.log(\"Exception inside the 'handler_\" + msg_type + \"' callback:\", e, e.stack, msg);\n",
       "            }\n",
       "        }\n",
       "    };\n",
       "}\n",
       "\n",
       "// from http://stackoverflow.com/questions/1114465/getting-mouse-location-in-canvas\n",
       "mpl.findpos = function(e) {\n",
       "    //this section is from http://www.quirksmode.org/js/events_properties.html\n",
       "    var targ;\n",
       "    if (!e)\n",
       "        e = window.event;\n",
       "    if (e.target)\n",
       "        targ = e.target;\n",
       "    else if (e.srcElement)\n",
       "        targ = e.srcElement;\n",
       "    if (targ.nodeType == 3) // defeat Safari bug\n",
       "        targ = targ.parentNode;\n",
       "\n",
       "    // jQuery normalizes the pageX and pageY\n",
       "    // pageX,Y are the mouse positions relative to the document\n",
       "    // offset() returns the position of the element relative to the document\n",
       "    var x = e.pageX - $(targ).offset().left;\n",
       "    var y = e.pageY - $(targ).offset().top;\n",
       "\n",
       "    return {\"x\": x, \"y\": y};\n",
       "};\n",
       "\n",
       "/*\n",
       " * return a copy of an object with only non-object keys\n",
       " * we need this to avoid circular references\n",
       " * http://stackoverflow.com/a/24161582/3208463\n",
       " */\n",
       "function simpleKeys (original) {\n",
       "  return Object.keys(original).reduce(function (obj, key) {\n",
       "    if (typeof original[key] !== 'object')\n",
       "        obj[key] = original[key]\n",
       "    return obj;\n",
       "  }, {});\n",
       "}\n",
       "\n",
       "mpl.figure.prototype.mouse_event = function(event, name) {\n",
       "    var canvas_pos = mpl.findpos(event)\n",
       "\n",
       "    if (name === 'button_press')\n",
       "    {\n",
       "        this.canvas.focus();\n",
       "        this.canvas_div.focus();\n",
       "    }\n",
       "\n",
       "    var x = canvas_pos.x * mpl.ratio;\n",
       "    var y = canvas_pos.y * mpl.ratio;\n",
       "\n",
       "    this.send_message(name, {x: x, y: y, button: event.button,\n",
       "                             step: event.step,\n",
       "                             guiEvent: simpleKeys(event)});\n",
       "\n",
       "    /* This prevents the web browser from automatically changing to\n",
       "     * the text insertion cursor when the button is pressed.  We want\n",
       "     * to control all of the cursor setting manually through the\n",
       "     * 'cursor' event from matplotlib */\n",
       "    event.preventDefault();\n",
       "    return false;\n",
       "}\n",
       "\n",
       "mpl.figure.prototype._key_event_extra = function(event, name) {\n",
       "    // Handle any extra behaviour associated with a key event\n",
       "}\n",
       "\n",
       "mpl.figure.prototype.key_event = function(event, name) {\n",
       "\n",
       "    // Prevent repeat events\n",
       "    if (name == 'key_press')\n",
       "    {\n",
       "        if (event.which === this._key)\n",
       "            return;\n",
       "        else\n",
       "            this._key = event.which;\n",
       "    }\n",
       "    if (name == 'key_release')\n",
       "        this._key = null;\n",
       "\n",
       "    var value = '';\n",
       "    if (event.ctrlKey && event.which != 17)\n",
       "        value += \"ctrl+\";\n",
       "    if (event.altKey && event.which != 18)\n",
       "        value += \"alt+\";\n",
       "    if (event.shiftKey && event.which != 16)\n",
       "        value += \"shift+\";\n",
       "\n",
       "    value += 'k';\n",
       "    value += event.which.toString();\n",
       "\n",
       "    this._key_event_extra(event, name);\n",
       "\n",
       "    this.send_message(name, {key: value,\n",
       "                             guiEvent: simpleKeys(event)});\n",
       "    return false;\n",
       "}\n",
       "\n",
       "mpl.figure.prototype.toolbar_button_onclick = function(name) {\n",
       "    if (name == 'download') {\n",
       "        this.handle_save(this, null);\n",
       "    } else {\n",
       "        this.send_message(\"toolbar_button\", {name: name});\n",
       "    }\n",
       "};\n",
       "\n",
       "mpl.figure.prototype.toolbar_button_onmouseover = function(tooltip) {\n",
       "    this.message.textContent = tooltip;\n",
       "};\n",
       "mpl.toolbar_items = [[\"Home\", \"Reset original view\", \"fa fa-home icon-home\", \"home\"], [\"Back\", \"Back to previous view\", \"fa fa-arrow-left icon-arrow-left\", \"back\"], [\"Forward\", \"Forward to next view\", \"fa fa-arrow-right icon-arrow-right\", \"forward\"], [\"\", \"\", \"\", \"\"], [\"Pan\", \"Pan axes with left mouse, zoom with right\", \"fa fa-arrows icon-move\", \"pan\"], [\"Zoom\", \"Zoom to rectangle\", \"fa fa-square-o icon-check-empty\", \"zoom\"], [\"\", \"\", \"\", \"\"], [\"Download\", \"Download plot\", \"fa fa-floppy-o icon-save\", \"download\"]];\n",
       "\n",
       "mpl.extensions = [\"eps\", \"jpeg\", \"pdf\", \"png\", \"ps\", \"raw\", \"svg\", \"tif\"];\n",
       "\n",
       "mpl.default_extension = \"png\";var comm_websocket_adapter = function(comm) {\n",
       "    // Create a \"websocket\"-like object which calls the given IPython comm\n",
       "    // object with the appropriate methods. Currently this is a non binary\n",
       "    // socket, so there is still some room for performance tuning.\n",
       "    var ws = {};\n",
       "\n",
       "    ws.close = function() {\n",
       "        comm.close()\n",
       "    };\n",
       "    ws.send = function(m) {\n",
       "        //console.log('sending', m);\n",
       "        comm.send(m);\n",
       "    };\n",
       "    // Register the callback with on_msg.\n",
       "    comm.on_msg(function(msg) {\n",
       "        //console.log('receiving', msg['content']['data'], msg);\n",
       "        // Pass the mpl event to the overridden (by mpl) onmessage function.\n",
       "        ws.onmessage(msg['content']['data'])\n",
       "    });\n",
       "    return ws;\n",
       "}\n",
       "\n",
       "mpl.mpl_figure_comm = function(comm, msg) {\n",
       "    // This is the function which gets called when the mpl process\n",
       "    // starts-up an IPython Comm through the \"matplotlib\" channel.\n",
       "\n",
       "    var id = msg.content.data.id;\n",
       "    // Get hold of the div created by the display call when the Comm\n",
       "    // socket was opened in Python.\n",
       "    var element = $(\"#\" + id);\n",
       "    var ws_proxy = comm_websocket_adapter(comm)\n",
       "\n",
       "    function ondownload(figure, format) {\n",
       "        window.open(figure.imageObj.src);\n",
       "    }\n",
       "\n",
       "    var fig = new mpl.figure(id, ws_proxy,\n",
       "                           ondownload,\n",
       "                           element.get(0));\n",
       "\n",
       "    // Call onopen now - mpl needs it, as it is assuming we've passed it a real\n",
       "    // web socket which is closed, not our websocket->open comm proxy.\n",
       "    ws_proxy.onopen();\n",
       "\n",
       "    fig.parent_element = element.get(0);\n",
       "    fig.cell_info = mpl.find_output_cell(\"<div id='\" + id + \"'></div>\");\n",
       "    if (!fig.cell_info) {\n",
       "        console.error(\"Failed to find cell for figure\", id, fig);\n",
       "        return;\n",
       "    }\n",
       "\n",
       "    var output_index = fig.cell_info[2]\n",
       "    var cell = fig.cell_info[0];\n",
       "\n",
       "};\n",
       "\n",
       "mpl.figure.prototype.handle_close = function(fig, msg) {\n",
       "    var width = fig.canvas.width/mpl.ratio\n",
       "    fig.root.unbind('remove')\n",
       "\n",
       "    // Update the output cell to use the data from the current canvas.\n",
       "    fig.push_to_output();\n",
       "    var dataURL = fig.canvas.toDataURL();\n",
       "    // Re-enable the keyboard manager in IPython - without this line, in FF,\n",
       "    // the notebook keyboard shortcuts fail.\n",
       "    IPython.keyboard_manager.enable()\n",
       "    $(fig.parent_element).html('<img src=\"' + dataURL + '\" width=\"' + width + '\">');\n",
       "    fig.close_ws(fig, msg);\n",
       "}\n",
       "\n",
       "mpl.figure.prototype.close_ws = function(fig, msg){\n",
       "    fig.send_message('closing', msg);\n",
       "    // fig.ws.close()\n",
       "}\n",
       "\n",
       "mpl.figure.prototype.push_to_output = function(remove_interactive) {\n",
       "    // Turn the data on the canvas into data in the output cell.\n",
       "    var width = this.canvas.width/mpl.ratio\n",
       "    var dataURL = this.canvas.toDataURL();\n",
       "    this.cell_info[1]['text/html'] = '<img src=\"' + dataURL + '\" width=\"' + width + '\">';\n",
       "}\n",
       "\n",
       "mpl.figure.prototype.updated_canvas_event = function() {\n",
       "    // Tell IPython that the notebook contents must change.\n",
       "    IPython.notebook.set_dirty(true);\n",
       "    this.send_message(\"ack\", {});\n",
       "    var fig = this;\n",
       "    // Wait a second, then push the new image to the DOM so\n",
       "    // that it is saved nicely (might be nice to debounce this).\n",
       "    setTimeout(function () { fig.push_to_output() }, 1000);\n",
       "}\n",
       "\n",
       "mpl.figure.prototype._init_toolbar = function() {\n",
       "    var fig = this;\n",
       "\n",
       "    var nav_element = $('<div/>');\n",
       "    nav_element.attr('style', 'width: 100%');\n",
       "    this.root.append(nav_element);\n",
       "\n",
       "    // Define a callback function for later on.\n",
       "    function toolbar_event(event) {\n",
       "        return fig.toolbar_button_onclick(event['data']);\n",
       "    }\n",
       "    function toolbar_mouse_event(event) {\n",
       "        return fig.toolbar_button_onmouseover(event['data']);\n",
       "    }\n",
       "\n",
       "    for(var toolbar_ind in mpl.toolbar_items){\n",
       "        var name = mpl.toolbar_items[toolbar_ind][0];\n",
       "        var tooltip = mpl.toolbar_items[toolbar_ind][1];\n",
       "        var image = mpl.toolbar_items[toolbar_ind][2];\n",
       "        var method_name = mpl.toolbar_items[toolbar_ind][3];\n",
       "\n",
       "        if (!name) { continue; };\n",
       "\n",
       "        var button = $('<button class=\"btn btn-default\" href=\"#\" title=\"' + name + '\"><i class=\"fa ' + image + ' fa-lg\"></i></button>');\n",
       "        button.click(method_name, toolbar_event);\n",
       "        button.mouseover(tooltip, toolbar_mouse_event);\n",
       "        nav_element.append(button);\n",
       "    }\n",
       "\n",
       "    // Add the status bar.\n",
       "    var status_bar = $('<span class=\"mpl-message\" style=\"text-align:right; float: right;\"/>');\n",
       "    nav_element.append(status_bar);\n",
       "    this.message = status_bar[0];\n",
       "\n",
       "    // Add the close button to the window.\n",
       "    var buttongrp = $('<div class=\"btn-group inline pull-right\"></div>');\n",
       "    var button = $('<button class=\"btn btn-mini btn-primary\" href=\"#\" title=\"Stop Interaction\"><i class=\"fa fa-power-off icon-remove icon-large\"></i></button>');\n",
       "    button.click(function (evt) { fig.handle_close(fig, {}); } );\n",
       "    button.mouseover('Stop Interaction', toolbar_mouse_event);\n",
       "    buttongrp.append(button);\n",
       "    var titlebar = this.root.find($('.ui-dialog-titlebar'));\n",
       "    titlebar.prepend(buttongrp);\n",
       "}\n",
       "\n",
       "mpl.figure.prototype._root_extra_style = function(el){\n",
       "    var fig = this\n",
       "    el.on(\"remove\", function(){\n",
       "\tfig.close_ws(fig, {});\n",
       "    });\n",
       "}\n",
       "\n",
       "mpl.figure.prototype._canvas_extra_style = function(el){\n",
       "    // this is important to make the div 'focusable\n",
       "    el.attr('tabindex', 0)\n",
       "    // reach out to IPython and tell the keyboard manager to turn it's self\n",
       "    // off when our div gets focus\n",
       "\n",
       "    // location in version 3\n",
       "    if (IPython.notebook.keyboard_manager) {\n",
       "        IPython.notebook.keyboard_manager.register_events(el);\n",
       "    }\n",
       "    else {\n",
       "        // location in version 2\n",
       "        IPython.keyboard_manager.register_events(el);\n",
       "    }\n",
       "\n",
       "}\n",
       "\n",
       "mpl.figure.prototype._key_event_extra = function(event, name) {\n",
       "    var manager = IPython.notebook.keyboard_manager;\n",
       "    if (!manager)\n",
       "        manager = IPython.keyboard_manager;\n",
       "\n",
       "    // Check for shift+enter\n",
       "    if (event.shiftKey && event.which == 13) {\n",
       "        this.canvas_div.blur();\n",
       "        // select the cell after this one\n",
       "        var index = IPython.notebook.find_cell_index(this.cell_info[0]);\n",
       "        IPython.notebook.select(index + 1);\n",
       "    }\n",
       "}\n",
       "\n",
       "mpl.figure.prototype.handle_save = function(fig, msg) {\n",
       "    fig.ondownload(fig, null);\n",
       "}\n",
       "\n",
       "\n",
       "mpl.find_output_cell = function(html_output) {\n",
       "    // Return the cell and output element which can be found *uniquely* in the notebook.\n",
       "    // Note - this is a bit hacky, but it is done because the \"notebook_saving.Notebook\"\n",
       "    // IPython event is triggered only after the cells have been serialised, which for\n",
       "    // our purposes (turning an active figure into a static one), is too late.\n",
       "    var cells = IPython.notebook.get_cells();\n",
       "    var ncells = cells.length;\n",
       "    for (var i=0; i<ncells; i++) {\n",
       "        var cell = cells[i];\n",
       "        if (cell.cell_type === 'code'){\n",
       "            for (var j=0; j<cell.output_area.outputs.length; j++) {\n",
       "                var data = cell.output_area.outputs[j];\n",
       "                if (data.data) {\n",
       "                    // IPython >= 3 moved mimebundle to data attribute of output\n",
       "                    data = data.data;\n",
       "                }\n",
       "                if (data['text/html'] == html_output) {\n",
       "                    return [cell, data, j];\n",
       "                }\n",
       "            }\n",
       "        }\n",
       "    }\n",
       "}\n",
       "\n",
       "// Register the function which deals with the matplotlib target/channel.\n",
       "// The kernel may be null if the page has been refreshed.\n",
       "if (IPython.notebook.kernel != null) {\n",
       "    IPython.notebook.kernel.comm_manager.register_target('matplotlib', mpl.mpl_figure_comm);\n",
       "}\n"
      ],
      "text/plain": [
       "<IPython.core.display.Javascript object>"
      ]
     },
     "metadata": {},
     "output_type": "display_data"
    },
    {
     "data": {
      "text/html": [
       "<img src=\"data:image/png;base64,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\" width=\"1000\">"
      ],
      "text/plain": [
       "<IPython.core.display.HTML object>"
      ]
     },
     "metadata": {},
     "output_type": "display_data"
    }
   ],
   "source": [
    "ax, tax, lax, lines = dual_train_plots()\n",
    "fig = ax.figure\n",
    "plt.tight_layout()\n",
    "# This gets built up during the run - do not rerun this cell\n",
    "results = pd.DataFrame([], columns=Results._fields)"
   ]
  },
  {
   "cell_type": "code",
   "execution_count": null,
   "metadata": {
    "scrolled": false
   },
   "outputs": [
    {
     "name": "stdout",
     "output_type": "stream",
     "text": [
      "for model:  All_CNN8Layer_Y(\n",
      "  (conv1): Conv1d(1, 20, kernel_size=(25,), stride=(1,), padding=(12,))\n",
      "  (conv2): Conv1d(20, 10, kernel_size=(15,), stride=(1,), padding=(7,))\n",
      "  (conv3): Conv1d(30, 10, kernel_size=(15,), stride=(1,), padding=(7,))\n",
      "  (conv4): Conv1d(40, 10, kernel_size=(15,), stride=(1,), padding=(7,))\n",
      "  (conv5): Conv1d(50, 10, kernel_size=(15,), stride=(1,), padding=(7,))\n",
      "  (conv6): Conv1d(60, 10, kernel_size=(15,), stride=(1,), padding=(7,))\n",
      "  (conv7): Conv1d(70, 1, kernel_size=(5,), stride=(1,), padding=(2,))\n",
      "  (finalFilter): Conv1d(71, 1, kernel_size=(91,), stride=(1,), padding=(45,))\n",
      "  (conv1dropout): Dropout(p=0.15, inplace=False)\n",
      "  (conv2dropout): Dropout(p=0.15, inplace=False)\n",
      "  (conv3dropout): Dropout(p=0.15, inplace=False)\n",
      "  (conv4dropout): Dropout(p=0.15, inplace=False)\n",
      "  (conv5dropout): Dropout(p=0.15, inplace=False)\n",
      "  (conv6dropout): Dropout(p=0.15, inplace=False)\n",
      "  (conv7dropout): Dropout(p=0.15, inplace=False)\n",
      "  (bn1): BatchNorm1d(20, eps=1e-05, momentum=0.1, affine=True, track_running_stats=True)\n",
      "  (bn2): BatchNorm1d(10, eps=1e-05, momentum=0.1, affine=True, track_running_stats=True)\n",
      "  (bn3): BatchNorm1d(10, eps=1e-05, momentum=0.1, affine=True, track_running_stats=True)\n",
      "  (bn4): BatchNorm1d(10, eps=1e-05, momentum=0.1, affine=True, track_running_stats=True)\n",
      "  (bn5): BatchNorm1d(10, eps=1e-05, momentum=0.1, affine=True, track_running_stats=True)\n",
      "  (bn6): BatchNorm1d(10, eps=1e-05, momentum=0.1, affine=True, track_running_stats=True)\n",
      "  (bn7): BatchNorm1d(1, eps=1e-05, momentum=0.1, affine=True, track_running_stats=True)\n",
      "  (bnFF): BatchNorm1d(1, eps=1e-05, momentum=0.1, affine=True, track_running_stats=True)\n",
      ")\n",
      "epoch_start 420\n",
      "batch_size 128\n",
      "epochs 1000\n",
      "lr 0.001\n",
      "Number of batches: train = 1250, val = 78\n"
     ]
    },
    {
     "name": "stderr",
     "output_type": "stream",
     "text": [
      "/home/michael24peters/pv-finder_experimental/notebooks/model/training.py:95: TqdmDeprecationWarning: This function will be removed in tqdm==5.0.0\n",
      "Please use `tqdm.notebook.tqdm` instead of `tqdm.tqdm_notebook`\n",
      "  file=sys.stderr,\n"
     ]
    },
    {
     "data": {
      "application/vnd.jupyter.widget-view+json": {
       "model_id": "30c2912e4b474634b7fbccfcf597e03c",
       "version_major": 2,
       "version_minor": 0
      },
      "text/plain": [
       "HBox(children=(FloatProgress(value=0.0, description='Epochs', layout=Layout(flex='2'), max=1000.0, style=Progr…"
      ]
     },
     "metadata": {},
     "output_type": "display_data"
    },
    {
     "data": {
      "application/vnd.jupyter.widget-view+json": {
       "model_id": "",
       "version_major": 2,
       "version_minor": 0
      },
      "text/plain": [
       "HBox(children=(FloatProgress(value=0.0, description='Training', layout=Layout(flex='2'), max=1250.0, style=Pro…"
      ]
     },
     "metadata": {},
     "output_type": "display_data"
    },
    {
     "name": "stdout",
     "output_type": "stream",
     "text": [
      "Epoch 420: train=8.14704, val=8.13191, took 149.18 s\n",
      "  Validation Found 50896 of 54504, added 1794 (eff 93.38%) (0.18 FP/event)\n",
      "Result epoch:  420\n",
      "Average Eff:  0.0\n",
      "Average FP Rate:  0.0\n"
     ]
    },
    {
     "data": {
      "application/vnd.jupyter.widget-view+json": {
       "model_id": "",
       "version_major": 2,
       "version_minor": 0
      },
      "text/plain": [
       "HBox(children=(FloatProgress(value=0.0, description='Training', layout=Layout(flex='2'), max=1250.0, style=Pro…"
      ]
     },
     "metadata": {},
     "output_type": "display_data"
    },
    {
     "name": "stdout",
     "output_type": "stream",
     "text": [
      "Epoch 421: train=7.99331, val=8.28998, took 148.86 s\n",
      "  Validation Found 50501 of 54504, added 1324 (eff 92.66%) (0.133 FP/event)\n",
      "Result epoch:  421\n",
      "Average Eff:  0.0\n",
      "Average FP Rate:  0.0\n"
     ]
    },
    {
     "data": {
      "application/vnd.jupyter.widget-view+json": {
       "model_id": "",
       "version_major": 2,
       "version_minor": 0
      },
      "text/plain": [
       "HBox(children=(FloatProgress(value=0.0, description='Training', layout=Layout(flex='2'), max=1250.0, style=Pro…"
      ]
     },
     "metadata": {},
     "output_type": "display_data"
    },
    {
     "name": "stdout",
     "output_type": "stream",
     "text": [
      "Epoch 422: train=7.93536, val=8.17376, took 149.41 s\n",
      "  Validation Found 50844 of 54504, added 1716 (eff 93.28%) (0.172 FP/event)\n",
      "Result epoch:  422\n",
      "Average Eff:  0.0\n",
      "Average FP Rate:  0.0\n"
     ]
    },
    {
     "data": {
      "application/vnd.jupyter.widget-view+json": {
       "model_id": "",
       "version_major": 2,
       "version_minor": 0
      },
      "text/plain": [
       "HBox(children=(FloatProgress(value=0.0, description='Training', layout=Layout(flex='2'), max=1250.0, style=Pro…"
      ]
     },
     "metadata": {},
     "output_type": "display_data"
    },
    {
     "name": "stdout",
     "output_type": "stream",
     "text": [
      "Epoch 423: train=7.88467, val=8.15067, took 150.68 s\n",
      "  Validation Found 50757 of 54504, added 1582 (eff 93.13%) (0.158 FP/event)\n",
      "Result epoch:  423\n",
      "Average Eff:  0.0\n",
      "Average FP Rate:  0.0\n"
     ]
    },
    {
     "data": {
      "application/vnd.jupyter.widget-view+json": {
       "model_id": "",
       "version_major": 2,
       "version_minor": 0
      },
      "text/plain": [
       "HBox(children=(FloatProgress(value=0.0, description='Training', layout=Layout(flex='2'), max=1250.0, style=Pro…"
      ]
     },
     "metadata": {},
     "output_type": "display_data"
    },
    {
     "name": "stdout",
     "output_type": "stream",
     "text": [
      "Epoch 424: train=7.85293, val=8.1425, took 150.38 s\n",
      "  Validation Found 50765 of 54504, added 1662 (eff 93.14%) (0.166 FP/event)\n",
      "Result epoch:  424\n",
      "Average Eff:  0.0\n",
      "Average FP Rate:  0.0\n"
     ]
    },
    {
     "data": {
      "application/vnd.jupyter.widget-view+json": {
       "model_id": "",
       "version_major": 2,
       "version_minor": 0
      },
      "text/plain": [
       "HBox(children=(FloatProgress(value=0.0, description='Training', layout=Layout(flex='2'), max=1250.0, style=Pro…"
      ]
     },
     "metadata": {},
     "output_type": "display_data"
    },
    {
     "name": "stdout",
     "output_type": "stream",
     "text": [
      "Epoch 425: train=7.83403, val=8.05766, took 150.17 s\n",
      "  Validation Found 50883 of 54504, added 1694 (eff 93.36%) (0.17 FP/event)\n",
      "Result epoch:  425\n",
      "Average Eff:  0.0\n",
      "Average FP Rate:  0.0\n"
     ]
    },
    {
     "data": {
      "application/vnd.jupyter.widget-view+json": {
       "model_id": "",
       "version_major": 2,
       "version_minor": 0
      },
      "text/plain": [
       "HBox(children=(FloatProgress(value=0.0, description='Training', layout=Layout(flex='2'), max=1250.0, style=Pro…"
      ]
     },
     "metadata": {},
     "output_type": "display_data"
    },
    {
     "name": "stdout",
     "output_type": "stream",
     "text": [
      "Epoch 426: train=7.80639, val=8.0308, took 150.34 s\n",
      "  Validation Found 50882 of 54504, added 1649 (eff 93.35%) (0.165 FP/event)\n",
      "Result epoch:  426\n",
      "Average Eff:  0.0\n",
      "Average FP Rate:  0.0\n"
     ]
    },
    {
     "data": {
      "application/vnd.jupyter.widget-view+json": {
       "model_id": "",
       "version_major": 2,
       "version_minor": 0
      },
      "text/plain": [
       "HBox(children=(FloatProgress(value=0.0, description='Training', layout=Layout(flex='2'), max=1250.0, style=Pro…"
      ]
     },
     "metadata": {},
     "output_type": "display_data"
    },
    {
     "name": "stdout",
     "output_type": "stream",
     "text": [
      "Epoch 427: train=7.79465, val=8.07233, took 150.02 s\n",
      "  Validation Found 50977 of 54504, added 1725 (eff 93.53%) (0.173 FP/event)\n",
      "Result epoch:  427\n",
      "Average Eff:  0.0\n",
      "Average FP Rate:  0.0\n"
     ]
    },
    {
     "data": {
      "application/vnd.jupyter.widget-view+json": {
       "model_id": "",
       "version_major": 2,
       "version_minor": 0
      },
      "text/plain": [
       "HBox(children=(FloatProgress(value=0.0, description='Training', layout=Layout(flex='2'), max=1250.0, style=Pro…"
      ]
     },
     "metadata": {},
     "output_type": "display_data"
    },
    {
     "name": "stdout",
     "output_type": "stream",
     "text": [
      "Epoch 428: train=7.78184, val=8.01258, took 149.43 s\n",
      "  Validation Found 50861 of 54504, added 1582 (eff 93.32%) (0.158 FP/event)\n",
      "Result epoch:  428\n",
      "Average Eff:  0.0\n",
      "Average FP Rate:  0.0\n"
     ]
    },
    {
     "data": {
      "application/vnd.jupyter.widget-view+json": {
       "model_id": "",
       "version_major": 2,
       "version_minor": 0
      },
      "text/plain": [
       "HBox(children=(FloatProgress(value=0.0, description='Training', layout=Layout(flex='2'), max=1250.0, style=Pro…"
      ]
     },
     "metadata": {},
     "output_type": "display_data"
    },
    {
     "name": "stdout",
     "output_type": "stream",
     "text": [
      "Epoch 429: train=7.76671, val=8.02375, took 150.15 s\n",
      "  Validation Found 51018 of 54504, added 1777 (eff 93.60%) (0.178 FP/event)\n",
      "Result epoch:  429\n",
      "Average Eff:  0.0\n",
      "Average FP Rate:  0.0\n"
     ]
    },
    {
     "data": {
      "application/vnd.jupyter.widget-view+json": {
       "model_id": "",
       "version_major": 2,
       "version_minor": 0
      },
      "text/plain": [
       "HBox(children=(FloatProgress(value=0.0, description='Training', layout=Layout(flex='2'), max=1250.0, style=Pro…"
      ]
     },
     "metadata": {},
     "output_type": "display_data"
    },
    {
     "name": "stdout",
     "output_type": "stream",
     "text": [
      "Epoch 430: train=7.75734, val=8.07864, took 150.24 s\n",
      "  Validation Found 50982 of 54504, added 1763 (eff 93.54%) (0.177 FP/event)\n",
      "Result epoch:  430\n",
      "Average Eff:  0.0\n",
      "Average FP Rate:  0.0\n"
     ]
    },
    {
     "data": {
      "application/vnd.jupyter.widget-view+json": {
       "model_id": "",
       "version_major": 2,
       "version_minor": 0
      },
      "text/plain": [
       "HBox(children=(FloatProgress(value=0.0, description='Training', layout=Layout(flex='2'), max=1250.0, style=Pro…"
      ]
     },
     "metadata": {},
     "output_type": "display_data"
    },
    {
     "name": "stdout",
     "output_type": "stream",
     "text": [
      "Epoch 431: train=7.74131, val=7.99984, took 149.5 s\n",
      "  Validation Found 50925 of 54504, added 1655 (eff 93.43%) (0.166 FP/event)\n",
      "Result epoch:  431\n",
      "Average Eff:  0.0\n",
      "Average FP Rate:  0.0\n"
     ]
    },
    {
     "data": {
      "application/vnd.jupyter.widget-view+json": {
       "model_id": "",
       "version_major": 2,
       "version_minor": 0
      },
      "text/plain": [
       "HBox(children=(FloatProgress(value=0.0, description='Training', layout=Layout(flex='2'), max=1250.0, style=Pro…"
      ]
     },
     "metadata": {},
     "output_type": "display_data"
    },
    {
     "name": "stdout",
     "output_type": "stream",
     "text": [
      "Epoch 432: train=7.7344, val=7.94133, took 150.11 s\n",
      "  Validation Found 50986 of 54504, added 1691 (eff 93.55%) (0.169 FP/event)\n",
      "Result epoch:  432\n",
      "Average Eff:  0.0\n",
      "Average FP Rate:  0.0\n"
     ]
    },
    {
     "data": {
      "application/vnd.jupyter.widget-view+json": {
       "model_id": "",
       "version_major": 2,
       "version_minor": 0
      },
      "text/plain": [
       "HBox(children=(FloatProgress(value=0.0, description='Training', layout=Layout(flex='2'), max=1250.0, style=Pro…"
      ]
     },
     "metadata": {},
     "output_type": "display_data"
    },
    {
     "name": "stdout",
     "output_type": "stream",
     "text": [
      "Epoch 433: train=7.72712, val=8.03376, took 150.59 s\n",
      "  Validation Found 50819 of 54504, added 1511 (eff 93.24%) (0.151 FP/event)\n",
      "Result epoch:  433\n",
      "Average Eff:  0.0\n",
      "Average FP Rate:  0.0\n"
     ]
    },
    {
     "data": {
      "application/vnd.jupyter.widget-view+json": {
       "model_id": "",
       "version_major": 2,
       "version_minor": 0
      },
      "text/plain": [
       "HBox(children=(FloatProgress(value=0.0, description='Training', layout=Layout(flex='2'), max=1250.0, style=Pro…"
      ]
     },
     "metadata": {},
     "output_type": "display_data"
    },
    {
     "name": "stdout",
     "output_type": "stream",
     "text": [
      "Epoch 434: train=7.7219, val=7.98973, took 149.76 s\n",
      "  Validation Found 51009 of 54504, added 1717 (eff 93.59%) (0.172 FP/event)\n",
      "Result epoch:  434\n",
      "Average Eff:  0.0\n",
      "Average FP Rate:  0.0\n"
     ]
    },
    {
     "data": {
      "application/vnd.jupyter.widget-view+json": {
       "model_id": "",
       "version_major": 2,
       "version_minor": 0
      },
      "text/plain": [
       "HBox(children=(FloatProgress(value=0.0, description='Training', layout=Layout(flex='2'), max=1250.0, style=Pro…"
      ]
     },
     "metadata": {},
     "output_type": "display_data"
    },
    {
     "name": "stdout",
     "output_type": "stream",
     "text": [
      "Epoch 435: train=7.71615, val=8.03965, took 149.85 s\n",
      "  Validation Found 50726 of 54504, added 1427 (eff 93.07%) (0.143 FP/event)\n",
      "Result epoch:  435\n",
      "Average Eff:  0.0\n",
      "Average FP Rate:  0.0\n"
     ]
    },
    {
     "data": {
      "application/vnd.jupyter.widget-view+json": {
       "model_id": "",
       "version_major": 2,
       "version_minor": 0
      },
      "text/plain": [
       "HBox(children=(FloatProgress(value=0.0, description='Training', layout=Layout(flex='2'), max=1250.0, style=Pro…"
      ]
     },
     "metadata": {},
     "output_type": "display_data"
    },
    {
     "name": "stdout",
     "output_type": "stream",
     "text": [
      "Epoch 436: train=7.70751, val=7.92385, took 150.26 s\n",
      "  Validation Found 51234 of 54504, added 1931 (eff 94.00%) (0.193 FP/event)\n",
      "Result epoch:  436\n",
      "Average Eff:  0.0\n",
      "Average FP Rate:  0.0\n"
     ]
    },
    {
     "data": {
      "application/vnd.jupyter.widget-view+json": {
       "model_id": "",
       "version_major": 2,
       "version_minor": 0
      },
      "text/plain": [
       "HBox(children=(FloatProgress(value=0.0, description='Training', layout=Layout(flex='2'), max=1250.0, style=Pro…"
      ]
     },
     "metadata": {},
     "output_type": "display_data"
    },
    {
     "name": "stdout",
     "output_type": "stream",
     "text": [
      "Epoch 437: train=7.69554, val=7.96464, took 149.47 s\n",
      "  Validation Found 50931 of 54504, added 1629 (eff 93.44%) (0.163 FP/event)\n",
      "Result epoch:  437\n",
      "Average Eff:  0.0\n",
      "Average FP Rate:  0.0\n"
     ]
    },
    {
     "data": {
      "application/vnd.jupyter.widget-view+json": {
       "model_id": "",
       "version_major": 2,
       "version_minor": 0
      },
      "text/plain": [
       "HBox(children=(FloatProgress(value=0.0, description='Training', layout=Layout(flex='2'), max=1250.0, style=Pro…"
      ]
     },
     "metadata": {},
     "output_type": "display_data"
    },
    {
     "name": "stdout",
     "output_type": "stream",
     "text": [
      "Epoch 438: train=7.69215, val=7.99627, took 149.78 s\n",
      "  Validation Found 50833 of 54504, added 1494 (eff 93.26%) (0.15 FP/event)\n",
      "Result epoch:  438\n",
      "Average Eff:  0.0\n",
      "Average FP Rate:  0.0\n"
     ]
    },
    {
     "data": {
      "application/vnd.jupyter.widget-view+json": {
       "model_id": "",
       "version_major": 2,
       "version_minor": 0
      },
      "text/plain": [
       "HBox(children=(FloatProgress(value=0.0, description='Training', layout=Layout(flex='2'), max=1250.0, style=Pro…"
      ]
     },
     "metadata": {},
     "output_type": "display_data"
    },
    {
     "name": "stdout",
     "output_type": "stream",
     "text": [
      "Epoch 439: train=7.69069, val=7.91497, took 150.32 s\n",
      "  Validation Found 51007 of 54504, added 1671 (eff 93.58%) (0.167 FP/event)\n",
      "Result epoch:  439\n",
      "Average Eff:  0.0\n",
      "Average FP Rate:  0.0\n"
     ]
    },
    {
     "data": {
      "application/vnd.jupyter.widget-view+json": {
       "model_id": "",
       "version_major": 2,
       "version_minor": 0
      },
      "text/plain": [
       "HBox(children=(FloatProgress(value=0.0, description='Training', layout=Layout(flex='2'), max=1250.0, style=Pro…"
      ]
     },
     "metadata": {},
     "output_type": "display_data"
    },
    {
     "name": "stdout",
     "output_type": "stream",
     "text": [
      "Epoch 440: train=7.68465, val=8.01184, took 149.63 s\n",
      "  Validation Found 50866 of 54504, added 1658 (eff 93.33%) (0.166 FP/event)\n",
      "Result epoch:  440\n",
      "Average Eff:  0.0\n",
      "Average FP Rate:  0.0\n"
     ]
    },
    {
     "data": {
      "application/vnd.jupyter.widget-view+json": {
       "model_id": "",
       "version_major": 2,
       "version_minor": 0
      },
      "text/plain": [
       "HBox(children=(FloatProgress(value=0.0, description='Training', layout=Layout(flex='2'), max=1250.0, style=Pro…"
      ]
     },
     "metadata": {},
     "output_type": "display_data"
    },
    {
     "name": "stdout",
     "output_type": "stream",
     "text": [
      "Epoch 441: train=7.68255, val=7.87294, took 149.65 s\n",
      "  Validation Found 51025 of 54504, added 1705 (eff 93.62%) (0.171 FP/event)\n",
      "Result epoch:  441\n",
      "Average Eff:  0.0\n",
      "Average FP Rate:  0.0\n"
     ]
    },
    {
     "data": {
      "application/vnd.jupyter.widget-view+json": {
       "model_id": "",
       "version_major": 2,
       "version_minor": 0
      },
      "text/plain": [
       "HBox(children=(FloatProgress(value=0.0, description='Training', layout=Layout(flex='2'), max=1250.0, style=Pro…"
      ]
     },
     "metadata": {},
     "output_type": "display_data"
    },
    {
     "name": "stdout",
     "output_type": "stream",
     "text": [
      "Epoch 442: train=7.67759, val=8.01823, took 150.52 s\n",
      "  Validation Found 50833 of 54504, added 1549 (eff 93.26%) (0.155 FP/event)\n",
      "Result epoch:  442\n",
      "Average Eff:  0.0\n",
      "Average FP Rate:  0.0\n"
     ]
    },
    {
     "data": {
      "application/vnd.jupyter.widget-view+json": {
       "model_id": "",
       "version_major": 2,
       "version_minor": 0
      },
      "text/plain": [
       "HBox(children=(FloatProgress(value=0.0, description='Training', layout=Layout(flex='2'), max=1250.0, style=Pro…"
      ]
     },
     "metadata": {},
     "output_type": "display_data"
    },
    {
     "name": "stdout",
     "output_type": "stream",
     "text": [
      "Epoch 443: train=7.66588, val=7.96222, took 149.83 s\n",
      "  Validation Found 50851 of 54504, added 1485 (eff 93.30%) (0.149 FP/event)\n",
      "Result epoch:  443\n",
      "Average Eff:  0.0\n",
      "Average FP Rate:  0.0\n"
     ]
    },
    {
     "data": {
      "application/vnd.jupyter.widget-view+json": {
       "model_id": "",
       "version_major": 2,
       "version_minor": 0
      },
      "text/plain": [
       "HBox(children=(FloatProgress(value=0.0, description='Training', layout=Layout(flex='2'), max=1250.0, style=Pro…"
      ]
     },
     "metadata": {},
     "output_type": "display_data"
    },
    {
     "name": "stdout",
     "output_type": "stream",
     "text": [
      "Epoch 444: train=7.66387, val=8.01198, took 149.48 s\n",
      "  Validation Found 50818 of 54504, added 1654 (eff 93.24%) (0.166 FP/event)\n",
      "Result epoch:  444\n",
      "Average Eff:  0.0\n",
      "Average FP Rate:  0.0\n"
     ]
    },
    {
     "data": {
      "application/vnd.jupyter.widget-view+json": {
       "model_id": "",
       "version_major": 2,
       "version_minor": 0
      },
      "text/plain": [
       "HBox(children=(FloatProgress(value=0.0, description='Training', layout=Layout(flex='2'), max=1250.0, style=Pro…"
      ]
     },
     "metadata": {},
     "output_type": "display_data"
    },
    {
     "name": "stdout",
     "output_type": "stream",
     "text": [
      "Epoch 445: train=7.65978, val=7.87263, took 150.2 s\n",
      "  Validation Found 51148 of 54504, added 1831 (eff 93.84%) (0.183 FP/event)\n",
      "Result epoch:  445\n",
      "Average Eff:  0.0\n",
      "Average FP Rate:  0.0\n"
     ]
    },
    {
     "data": {
      "application/vnd.jupyter.widget-view+json": {
       "model_id": "",
       "version_major": 2,
       "version_minor": 0
      },
      "text/plain": [
       "HBox(children=(FloatProgress(value=0.0, description='Training', layout=Layout(flex='2'), max=1250.0, style=Pro…"
      ]
     },
     "metadata": {},
     "output_type": "display_data"
    },
    {
     "name": "stdout",
     "output_type": "stream",
     "text": [
      "Epoch 446: train=7.65372, val=7.94234, took 150.04 s\n",
      "  Validation Found 50972 of 54504, added 1594 (eff 93.52%) (0.16 FP/event)\n",
      "Result epoch:  446\n",
      "Average Eff:  0.0\n",
      "Average FP Rate:  0.0\n"
     ]
    },
    {
     "data": {
      "application/vnd.jupyter.widget-view+json": {
       "model_id": "",
       "version_major": 2,
       "version_minor": 0
      },
      "text/plain": [
       "HBox(children=(FloatProgress(value=0.0, description='Training', layout=Layout(flex='2'), max=1250.0, style=Pro…"
      ]
     },
     "metadata": {},
     "output_type": "display_data"
    },
    {
     "name": "stdout",
     "output_type": "stream",
     "text": [
      "Epoch 447: train=7.64845, val=7.89116, took 149.4 s\n",
      "  Validation Found 51125 of 54504, added 1807 (eff 93.80%) (0.181 FP/event)\n",
      "Result epoch:  447\n",
      "Average Eff:  0.0\n",
      "Average FP Rate:  0.0\n"
     ]
    },
    {
     "data": {
      "application/vnd.jupyter.widget-view+json": {
       "model_id": "",
       "version_major": 2,
       "version_minor": 0
      },
      "text/plain": [
       "HBox(children=(FloatProgress(value=0.0, description='Training', layout=Layout(flex='2'), max=1250.0, style=Pro…"
      ]
     },
     "metadata": {},
     "output_type": "display_data"
    },
    {
     "name": "stdout",
     "output_type": "stream",
     "text": [
      "Epoch 448: train=7.6491, val=7.85653, took 149.98 s\n",
      "  Validation Found 51093 of 54504, added 1690 (eff 93.74%) (0.169 FP/event)\n",
      "Result epoch:  448\n",
      "Average Eff:  0.0\n",
      "Average FP Rate:  0.0\n"
     ]
    },
    {
     "data": {
      "application/vnd.jupyter.widget-view+json": {
       "model_id": "",
       "version_major": 2,
       "version_minor": 0
      },
      "text/plain": [
       "HBox(children=(FloatProgress(value=0.0, description='Training', layout=Layout(flex='2'), max=1250.0, style=Pro…"
      ]
     },
     "metadata": {},
     "output_type": "display_data"
    },
    {
     "name": "stdout",
     "output_type": "stream",
     "text": [
      "Epoch 449: train=7.64072, val=7.92121, took 150.07 s\n",
      "  Validation Found 50980 of 54504, added 1623 (eff 93.53%) (0.163 FP/event)\n",
      "Result epoch:  449\n",
      "Average Eff:  0.0\n",
      "Average FP Rate:  0.0\n"
     ]
    },
    {
     "data": {
      "application/vnd.jupyter.widget-view+json": {
       "model_id": "",
       "version_major": 2,
       "version_minor": 0
      },
      "text/plain": [
       "HBox(children=(FloatProgress(value=0.0, description='Training', layout=Layout(flex='2'), max=1250.0, style=Pro…"
      ]
     },
     "metadata": {},
     "output_type": "display_data"
    },
    {
     "name": "stdout",
     "output_type": "stream",
     "text": [
      "Epoch 450: train=7.63709, val=7.83741, took 149.34 s\n",
      "  Validation Found 51119 of 54504, added 1746 (eff 93.79%) (0.175 FP/event)\n",
      "Result epoch:  450\n",
      "Average Eff:  0.0\n",
      "Average FP Rate:  0.0\n"
     ]
    },
    {
     "data": {
      "application/vnd.jupyter.widget-view+json": {
       "model_id": "",
       "version_major": 2,
       "version_minor": 0
      },
      "text/plain": [
       "HBox(children=(FloatProgress(value=0.0, description='Training', layout=Layout(flex='2'), max=1250.0, style=Pro…"
      ]
     },
     "metadata": {},
     "output_type": "display_data"
    },
    {
     "name": "stdout",
     "output_type": "stream",
     "text": [
      "Epoch 451: train=7.64059, val=7.8327, took 149.86 s\n",
      "  Validation Found 51164 of 54504, added 1781 (eff 93.87%) (0.178 FP/event)\n",
      "Result epoch:  451\n",
      "Average Eff:  0.0\n",
      "Average FP Rate:  0.0\n"
     ]
    },
    {
     "data": {
      "application/vnd.jupyter.widget-view+json": {
       "model_id": "",
       "version_major": 2,
       "version_minor": 0
      },
      "text/plain": [
       "HBox(children=(FloatProgress(value=0.0, description='Training', layout=Layout(flex='2'), max=1250.0, style=Pro…"
      ]
     },
     "metadata": {},
     "output_type": "display_data"
    },
    {
     "name": "stdout",
     "output_type": "stream",
     "text": [
      "Epoch 452: train=7.63539, val=7.88902, took 150.28 s\n",
      "  Validation Found 50993 of 54504, added 1564 (eff 93.56%) (0.157 FP/event)\n",
      "Result epoch:  452\n",
      "Average Eff:  0.0\n",
      "Average FP Rate:  0.0\n"
     ]
    },
    {
     "data": {
      "application/vnd.jupyter.widget-view+json": {
       "model_id": "",
       "version_major": 2,
       "version_minor": 0
      },
      "text/plain": [
       "HBox(children=(FloatProgress(value=0.0, description='Training', layout=Layout(flex='2'), max=1250.0, style=Pro…"
      ]
     },
     "metadata": {},
     "output_type": "display_data"
    },
    {
     "name": "stdout",
     "output_type": "stream",
     "text": [
      "Epoch 453: train=7.6299, val=7.89075, took 149.27 s\n",
      "  Validation Found 51090 of 54504, added 1685 (eff 93.74%) (0.169 FP/event)\n",
      "Result epoch:  453\n",
      "Average Eff:  0.0\n",
      "Average FP Rate:  0.0\n"
     ]
    },
    {
     "data": {
      "application/vnd.jupyter.widget-view+json": {
       "model_id": "",
       "version_major": 2,
       "version_minor": 0
      },
      "text/plain": [
       "HBox(children=(FloatProgress(value=0.0, description='Training', layout=Layout(flex='2'), max=1250.0, style=Pro…"
      ]
     },
     "metadata": {},
     "output_type": "display_data"
    },
    {
     "name": "stdout",
     "output_type": "stream",
     "text": [
      "Epoch 454: train=7.62478, val=7.87037, took 149.76 s\n",
      "  Validation Found 50896 of 54504, added 1432 (eff 93.38%) (0.143 FP/event)\n",
      "Result epoch:  454\n",
      "Average Eff:  0.0\n",
      "Average FP Rate:  0.0\n"
     ]
    },
    {
     "data": {
      "application/vnd.jupyter.widget-view+json": {
       "model_id": "",
       "version_major": 2,
       "version_minor": 0
      },
      "text/plain": [
       "HBox(children=(FloatProgress(value=0.0, description='Training', layout=Layout(flex='2'), max=1250.0, style=Pro…"
      ]
     },
     "metadata": {},
     "output_type": "display_data"
    },
    {
     "name": "stdout",
     "output_type": "stream",
     "text": [
      "Epoch 455: train=7.62137, val=7.88737, took 150.1 s\n",
      "  Validation Found 51014 of 54504, added 1687 (eff 93.60%) (0.169 FP/event)\n",
      "Result epoch:  455\n",
      "Average Eff:  0.0\n",
      "Average FP Rate:  0.0\n"
     ]
    },
    {
     "data": {
      "application/vnd.jupyter.widget-view+json": {
       "model_id": "",
       "version_major": 2,
       "version_minor": 0
      },
      "text/plain": [
       "HBox(children=(FloatProgress(value=0.0, description='Training', layout=Layout(flex='2'), max=1250.0, style=Pro…"
      ]
     },
     "metadata": {},
     "output_type": "display_data"
    },
    {
     "name": "stdout",
     "output_type": "stream",
     "text": [
      "Epoch 456: train=7.61799, val=7.81781, took 149.43 s\n",
      "  Validation Found 51077 of 54504, added 1663 (eff 93.71%) (0.167 FP/event)\n",
      "Result epoch:  456\n",
      "Average Eff:  0.0\n",
      "Average FP Rate:  0.0\n"
     ]
    },
    {
     "data": {
      "application/vnd.jupyter.widget-view+json": {
       "model_id": "",
       "version_major": 2,
       "version_minor": 0
      },
      "text/plain": [
       "HBox(children=(FloatProgress(value=0.0, description='Training', layout=Layout(flex='2'), max=1250.0, style=Pro…"
      ]
     },
     "metadata": {},
     "output_type": "display_data"
    },
    {
     "name": "stdout",
     "output_type": "stream",
     "text": [
      "Epoch 457: train=7.61414, val=7.84296, took 149.6 s\n",
      "  Validation Found 51032 of 54504, added 1613 (eff 93.63%) (0.162 FP/event)\n",
      "Result epoch:  457\n",
      "Average Eff:  0.0\n",
      "Average FP Rate:  0.0\n"
     ]
    },
    {
     "data": {
      "application/vnd.jupyter.widget-view+json": {
       "model_id": "",
       "version_major": 2,
       "version_minor": 0
      },
      "text/plain": [
       "HBox(children=(FloatProgress(value=0.0, description='Training', layout=Layout(flex='2'), max=1250.0, style=Pro…"
      ]
     },
     "metadata": {},
     "output_type": "display_data"
    },
    {
     "name": "stdout",
     "output_type": "stream",
     "text": [
      "Epoch 458: train=7.62006, val=7.81937, took 150.19 s\n",
      "  Validation Found 51006 of 54504, added 1531 (eff 93.58%) (0.153 FP/event)\n",
      "Result epoch:  458\n",
      "Average Eff:  0.0\n",
      "Average FP Rate:  0.0\n"
     ]
    },
    {
     "data": {
      "application/vnd.jupyter.widget-view+json": {
       "model_id": "",
       "version_major": 2,
       "version_minor": 0
      },
      "text/plain": [
       "HBox(children=(FloatProgress(value=0.0, description='Training', layout=Layout(flex='2'), max=1250.0, style=Pro…"
      ]
     },
     "metadata": {},
     "output_type": "display_data"
    },
    {
     "name": "stdout",
     "output_type": "stream",
     "text": [
      "Epoch 459: train=7.60935, val=7.81027, took 149.59 s\n",
      "  Validation Found 51151 of 54504, added 1747 (eff 93.85%) (0.175 FP/event)\n",
      "Result epoch:  459\n",
      "Average Eff:  0.0\n",
      "Average FP Rate:  0.0\n"
     ]
    },
    {
     "data": {
      "application/vnd.jupyter.widget-view+json": {
       "model_id": "",
       "version_major": 2,
       "version_minor": 0
      },
      "text/plain": [
       "HBox(children=(FloatProgress(value=0.0, description='Training', layout=Layout(flex='2'), max=1250.0, style=Pro…"
      ]
     },
     "metadata": {},
     "output_type": "display_data"
    },
    {
     "name": "stdout",
     "output_type": "stream",
     "text": [
      "Epoch 460: train=7.60991, val=7.86275, took 149.54 s\n",
      "  Validation Found 50974 of 54504, added 1577 (eff 93.52%) (0.158 FP/event)\n",
      "Result epoch:  460\n",
      "Average Eff:  0.0\n",
      "Average FP Rate:  0.0\n"
     ]
    },
    {
     "data": {
      "application/vnd.jupyter.widget-view+json": {
       "model_id": "",
       "version_major": 2,
       "version_minor": 0
      },
      "text/plain": [
       "HBox(children=(FloatProgress(value=0.0, description='Training', layout=Layout(flex='2'), max=1250.0, style=Pro…"
      ]
     },
     "metadata": {},
     "output_type": "display_data"
    },
    {
     "name": "stdout",
     "output_type": "stream",
     "text": [
      "Epoch 461: train=7.60426, val=7.95646, took 150.22 s\n",
      "  Validation Found 51169 of 54504, added 1972 (eff 93.88%) (0.197 FP/event)\n",
      "Result epoch:  461\n",
      "Average Eff:  0.0\n",
      "Average FP Rate:  0.0\n"
     ]
    },
    {
     "data": {
      "application/vnd.jupyter.widget-view+json": {
       "model_id": "",
       "version_major": 2,
       "version_minor": 0
      },
      "text/plain": [
       "HBox(children=(FloatProgress(value=0.0, description='Training', layout=Layout(flex='2'), max=1250.0, style=Pro…"
      ]
     },
     "metadata": {},
     "output_type": "display_data"
    },
    {
     "name": "stdout",
     "output_type": "stream",
     "text": [
      "Epoch 462: train=7.60996, val=7.8676, took 149.77 s\n",
      "  Validation Found 50972 of 54504, added 1542 (eff 93.52%) (0.154 FP/event)\n",
      "Result epoch:  462\n",
      "Average Eff:  0.0\n",
      "Average FP Rate:  0.0\n"
     ]
    },
    {
     "data": {
      "application/vnd.jupyter.widget-view+json": {
       "model_id": "",
       "version_major": 2,
       "version_minor": 0
      },
      "text/plain": [
       "HBox(children=(FloatProgress(value=0.0, description='Training', layout=Layout(flex='2'), max=1250.0, style=Pro…"
      ]
     },
     "metadata": {},
     "output_type": "display_data"
    },
    {
     "name": "stdout",
     "output_type": "stream",
     "text": [
      "Epoch 463: train=7.59547, val=7.84527, took 149.39 s\n",
      "  Validation Found 51119 of 54504, added 1708 (eff 93.79%) (0.171 FP/event)\n",
      "Result epoch:  463\n",
      "Average Eff:  0.0\n",
      "Average FP Rate:  0.0\n"
     ]
    },
    {
     "data": {
      "application/vnd.jupyter.widget-view+json": {
       "model_id": "",
       "version_major": 2,
       "version_minor": 0
      },
      "text/plain": [
       "HBox(children=(FloatProgress(value=0.0, description='Training', layout=Layout(flex='2'), max=1250.0, style=Pro…"
      ]
     },
     "metadata": {},
     "output_type": "display_data"
    },
    {
     "name": "stdout",
     "output_type": "stream",
     "text": [
      "Epoch 464: train=7.59752, val=7.872, took 150.07 s\n",
      "  Validation Found 51055 of 54504, added 1649 (eff 93.67%) (0.165 FP/event)\n",
      "Result epoch:  464\n",
      "Average Eff:  0.0\n",
      "Average FP Rate:  0.0\n"
     ]
    },
    {
     "data": {
      "application/vnd.jupyter.widget-view+json": {
       "model_id": "",
       "version_major": 2,
       "version_minor": 0
      },
      "text/plain": [
       "HBox(children=(FloatProgress(value=0.0, description='Training', layout=Layout(flex='2'), max=1250.0, style=Pro…"
      ]
     },
     "metadata": {},
     "output_type": "display_data"
    },
    {
     "name": "stdout",
     "output_type": "stream",
     "text": [
      "Epoch 465: train=7.59417, val=7.88789, took 149.96 s\n",
      "  Validation Found 50948 of 54504, added 1493 (eff 93.48%) (0.15 FP/event)\n",
      "Result epoch:  465\n",
      "Average Eff:  0.0\n",
      "Average FP Rate:  0.0\n"
     ]
    },
    {
     "data": {
      "application/vnd.jupyter.widget-view+json": {
       "model_id": "",
       "version_major": 2,
       "version_minor": 0
      },
      "text/plain": [
       "HBox(children=(FloatProgress(value=0.0, description='Training', layout=Layout(flex='2'), max=1250.0, style=Pro…"
      ]
     },
     "metadata": {},
     "output_type": "display_data"
    },
    {
     "name": "stdout",
     "output_type": "stream",
     "text": [
      "Epoch 466: train=7.59235, val=7.861, took 149.13 s\n",
      "  Validation Found 50970 of 54504, added 1497 (eff 93.52%) (0.15 FP/event)\n",
      "Result epoch:  466\n",
      "Average Eff:  0.0\n",
      "Average FP Rate:  0.0\n"
     ]
    },
    {
     "data": {
      "application/vnd.jupyter.widget-view+json": {
       "model_id": "",
       "version_major": 2,
       "version_minor": 0
      },
      "text/plain": [
       "HBox(children=(FloatProgress(value=0.0, description='Training', layout=Layout(flex='2'), max=1250.0, style=Pro…"
      ]
     },
     "metadata": {},
     "output_type": "display_data"
    },
    {
     "name": "stdout",
     "output_type": "stream",
     "text": [
      "Epoch 467: train=7.58516, val=7.84896, took 150.03 s\n",
      "  Validation Found 51150 of 54504, added 1713 (eff 93.85%) (0.172 FP/event)\n",
      "Result epoch:  467\n",
      "Average Eff:  0.0\n",
      "Average FP Rate:  0.0\n"
     ]
    },
    {
     "data": {
      "application/vnd.jupyter.widget-view+json": {
       "model_id": "",
       "version_major": 2,
       "version_minor": 0
      },
      "text/plain": [
       "HBox(children=(FloatProgress(value=0.0, description='Training', layout=Layout(flex='2'), max=1250.0, style=Pro…"
      ]
     },
     "metadata": {},
     "output_type": "display_data"
    },
    {
     "name": "stdout",
     "output_type": "stream",
     "text": [
      "Epoch 468: train=7.59364, val=7.81016, took 150.08 s\n",
      "  Validation Found 51046 of 54504, added 1572 (eff 93.66%) (0.157 FP/event)\n",
      "Result epoch:  468\n",
      "Average Eff:  0.0\n",
      "Average FP Rate:  0.0\n"
     ]
    },
    {
     "data": {
      "application/vnd.jupyter.widget-view+json": {
       "model_id": "",
       "version_major": 2,
       "version_minor": 0
      },
      "text/plain": [
       "HBox(children=(FloatProgress(value=0.0, description='Training', layout=Layout(flex='2'), max=1250.0, style=Pro…"
      ]
     },
     "metadata": {},
     "output_type": "display_data"
    },
    {
     "name": "stdout",
     "output_type": "stream",
     "text": [
      "Epoch 469: train=7.58527, val=7.80399, took 149.29 s\n",
      "  Validation Found 51091 of 54504, added 1656 (eff 93.74%) (0.166 FP/event)\n",
      "Result epoch:  469\n",
      "Average Eff:  0.0\n",
      "Average FP Rate:  0.0\n"
     ]
    },
    {
     "data": {
      "application/vnd.jupyter.widget-view+json": {
       "model_id": "",
       "version_major": 2,
       "version_minor": 0
      },
      "text/plain": [
       "HBox(children=(FloatProgress(value=0.0, description='Training', layout=Layout(flex='2'), max=1250.0, style=Pro…"
      ]
     },
     "metadata": {},
     "output_type": "display_data"
    },
    {
     "name": "stdout",
     "output_type": "stream",
     "text": [
      "Epoch 470: train=7.5839, val=7.8253, took 149.76 s\n",
      "  Validation Found 51119 of 54504, added 1677 (eff 93.79%) (0.168 FP/event)\n",
      "Result epoch:  470\n",
      "Average Eff:  0.0\n",
      "Average FP Rate:  0.0\n"
     ]
    },
    {
     "data": {
      "application/vnd.jupyter.widget-view+json": {
       "model_id": "",
       "version_major": 2,
       "version_minor": 0
      },
      "text/plain": [
       "HBox(children=(FloatProgress(value=0.0, description='Training', layout=Layout(flex='2'), max=1250.0, style=Pro…"
      ]
     },
     "metadata": {},
     "output_type": "display_data"
    },
    {
     "name": "stdout",
     "output_type": "stream",
     "text": [
      "Epoch 471: train=7.57822, val=7.84304, took 150.3 s\n",
      "  Validation Found 50982 of 54504, added 1507 (eff 93.54%) (0.151 FP/event)\n",
      "Result epoch:  471\n",
      "Average Eff:  0.0\n",
      "Average FP Rate:  0.0\n"
     ]
    },
    {
     "data": {
      "application/vnd.jupyter.widget-view+json": {
       "model_id": "",
       "version_major": 2,
       "version_minor": 0
      },
      "text/plain": [
       "HBox(children=(FloatProgress(value=0.0, description='Training', layout=Layout(flex='2'), max=1250.0, style=Pro…"
      ]
     },
     "metadata": {},
     "output_type": "display_data"
    },
    {
     "name": "stdout",
     "output_type": "stream",
     "text": [
      "Epoch 472: train=7.57107, val=7.88997, took 149.44 s\n",
      "  Validation Found 51033 of 54504, added 1708 (eff 93.63%) (0.171 FP/event)\n",
      "Result epoch:  472\n",
      "Average Eff:  0.0\n",
      "Average FP Rate:  0.0\n"
     ]
    },
    {
     "data": {
      "application/vnd.jupyter.widget-view+json": {
       "model_id": "",
       "version_major": 2,
       "version_minor": 0
      },
      "text/plain": [
       "HBox(children=(FloatProgress(value=0.0, description='Training', layout=Layout(flex='2'), max=1250.0, style=Pro…"
      ]
     },
     "metadata": {},
     "output_type": "display_data"
    },
    {
     "name": "stdout",
     "output_type": "stream",
     "text": [
      "Epoch 473: train=7.57411, val=7.8345, took 149.59 s\n",
      "  Validation Found 50954 of 54504, added 1445 (eff 93.49%) (0.145 FP/event)\n",
      "Result epoch:  473\n",
      "Average Eff:  0.0\n",
      "Average FP Rate:  0.0\n"
     ]
    },
    {
     "data": {
      "application/vnd.jupyter.widget-view+json": {
       "model_id": "",
       "version_major": 2,
       "version_minor": 0
      },
      "text/plain": [
       "HBox(children=(FloatProgress(value=0.0, description='Training', layout=Layout(flex='2'), max=1250.0, style=Pro…"
      ]
     },
     "metadata": {},
     "output_type": "display_data"
    },
    {
     "name": "stdout",
     "output_type": "stream",
     "text": [
      "Epoch 474: train=7.57565, val=7.86346, took 150.25 s\n",
      "  Validation Found 51110 of 54504, added 1672 (eff 93.77%) (0.167 FP/event)\n",
      "Result epoch:  474\n",
      "Average Eff:  0.0\n",
      "Average FP Rate:  0.0\n"
     ]
    },
    {
     "data": {
      "application/vnd.jupyter.widget-view+json": {
       "model_id": "",
       "version_major": 2,
       "version_minor": 0
      },
      "text/plain": [
       "HBox(children=(FloatProgress(value=0.0, description='Training', layout=Layout(flex='2'), max=1250.0, style=Pro…"
      ]
     },
     "metadata": {},
     "output_type": "display_data"
    },
    {
     "name": "stdout",
     "output_type": "stream",
     "text": [
      "Epoch 475: train=7.57705, val=7.74437, took 149.79 s\n",
      "  Validation Found 51189 of 54504, added 1753 (eff 93.92%) (0.176 FP/event)\n",
      "Result epoch:  475\n",
      "Average Eff:  0.0\n",
      "Average FP Rate:  0.0\n"
     ]
    },
    {
     "data": {
      "application/vnd.jupyter.widget-view+json": {
       "model_id": "",
       "version_major": 2,
       "version_minor": 0
      },
      "text/plain": [
       "HBox(children=(FloatProgress(value=0.0, description='Training', layout=Layout(flex='2'), max=1250.0, style=Pro…"
      ]
     },
     "metadata": {},
     "output_type": "display_data"
    },
    {
     "name": "stdout",
     "output_type": "stream",
     "text": [
      "Epoch 476: train=7.56684, val=7.90701, took 149.43 s\n",
      "  Validation Found 50867 of 54504, added 1394 (eff 93.33%) (0.14 FP/event)\n",
      "Result epoch:  476\n",
      "Average Eff:  0.0\n",
      "Average FP Rate:  0.0\n"
     ]
    },
    {
     "data": {
      "application/vnd.jupyter.widget-view+json": {
       "model_id": "",
       "version_major": 2,
       "version_minor": 0
      },
      "text/plain": [
       "HBox(children=(FloatProgress(value=0.0, description='Training', layout=Layout(flex='2'), max=1250.0, style=Pro…"
      ]
     },
     "metadata": {},
     "output_type": "display_data"
    },
    {
     "name": "stdout",
     "output_type": "stream",
     "text": [
      "Epoch 477: train=7.5684, val=7.79495, took 150.15 s\n",
      "  Validation Found 51107 of 54504, added 1627 (eff 93.77%) (0.163 FP/event)\n",
      "Result epoch:  477\n",
      "Average Eff:  0.0\n",
      "Average FP Rate:  0.0\n"
     ]
    },
    {
     "data": {
      "application/vnd.jupyter.widget-view+json": {
       "model_id": "",
       "version_major": 2,
       "version_minor": 0
      },
      "text/plain": [
       "HBox(children=(FloatProgress(value=0.0, description='Training', layout=Layout(flex='2'), max=1250.0, style=Pro…"
      ]
     },
     "metadata": {},
     "output_type": "display_data"
    },
    {
     "name": "stdout",
     "output_type": "stream",
     "text": [
      "Epoch 478: train=7.5667, val=7.81286, took 150.06 s\n",
      "  Validation Found 51159 of 54504, added 1610 (eff 93.86%) (0.161 FP/event)\n",
      "Result epoch:  478\n",
      "Average Eff:  0.0\n",
      "Average FP Rate:  0.0\n"
     ]
    },
    {
     "data": {
      "application/vnd.jupyter.widget-view+json": {
       "model_id": "",
       "version_major": 2,
       "version_minor": 0
      },
      "text/plain": [
       "HBox(children=(FloatProgress(value=0.0, description='Training', layout=Layout(flex='2'), max=1250.0, style=Pro…"
      ]
     },
     "metadata": {},
     "output_type": "display_data"
    },
    {
     "name": "stdout",
     "output_type": "stream",
     "text": [
      "Epoch 479: train=7.56605, val=7.89085, took 149.3 s\n",
      "  Validation Found 51022 of 54504, added 1529 (eff 93.61%) (0.153 FP/event)\n",
      "Result epoch:  479\n",
      "Average Eff:  0.0\n",
      "Average FP Rate:  0.0\n"
     ]
    },
    {
     "data": {
      "application/vnd.jupyter.widget-view+json": {
       "model_id": "",
       "version_major": 2,
       "version_minor": 0
      },
      "text/plain": [
       "HBox(children=(FloatProgress(value=0.0, description='Training', layout=Layout(flex='2'), max=1250.0, style=Pro…"
      ]
     },
     "metadata": {},
     "output_type": "display_data"
    },
    {
     "name": "stdout",
     "output_type": "stream",
     "text": [
      "Epoch 480: train=7.56273, val=7.80885, took 149.85 s\n",
      "  Validation Found 50891 of 54504, added 1413 (eff 93.37%) (0.142 FP/event)\n",
      "Result epoch:  480\n",
      "Average Eff:  0.0\n",
      "Average FP Rate:  0.0\n"
     ]
    },
    {
     "data": {
      "application/vnd.jupyter.widget-view+json": {
       "model_id": "",
       "version_major": 2,
       "version_minor": 0
      },
      "text/plain": [
       "HBox(children=(FloatProgress(value=0.0, description='Training', layout=Layout(flex='2'), max=1250.0, style=Pro…"
      ]
     },
     "metadata": {},
     "output_type": "display_data"
    },
    {
     "name": "stdout",
     "output_type": "stream",
     "text": [
      "Epoch 481: train=7.55935, val=7.87554, took 149.99 s\n",
      "  Validation Found 51017 of 54504, added 1640 (eff 93.60%) (0.164 FP/event)\n",
      "Result epoch:  481\n",
      "Average Eff:  0.0\n",
      "Average FP Rate:  0.0\n"
     ]
    },
    {
     "data": {
      "application/vnd.jupyter.widget-view+json": {
       "model_id": "",
       "version_major": 2,
       "version_minor": 0
      },
      "text/plain": [
       "HBox(children=(FloatProgress(value=0.0, description='Training', layout=Layout(flex='2'), max=1250.0, style=Pro…"
      ]
     },
     "metadata": {},
     "output_type": "display_data"
    },
    {
     "name": "stdout",
     "output_type": "stream",
     "text": [
      "Epoch 482: train=7.55766, val=7.90192, took 149.25 s\n",
      "  Validation Found 50803 of 54504, added 1361 (eff 93.21%) (0.136 FP/event)\n",
      "Result epoch:  482\n",
      "Average Eff:  0.0\n",
      "Average FP Rate:  0.0\n"
     ]
    },
    {
     "data": {
      "application/vnd.jupyter.widget-view+json": {
       "model_id": "",
       "version_major": 2,
       "version_minor": 0
      },
      "text/plain": [
       "HBox(children=(FloatProgress(value=0.0, description='Training', layout=Layout(flex='2'), max=1250.0, style=Pro…"
      ]
     },
     "metadata": {},
     "output_type": "display_data"
    },
    {
     "name": "stdout",
     "output_type": "stream",
     "text": [
      "Epoch 483: train=7.55878, val=7.86535, took 149.63 s\n",
      "  Validation Found 51024 of 54504, added 1585 (eff 93.62%) (0.159 FP/event)\n",
      "Result epoch:  483\n",
      "Average Eff:  0.0\n",
      "Average FP Rate:  0.0\n"
     ]
    },
    {
     "data": {
      "application/vnd.jupyter.widget-view+json": {
       "model_id": "",
       "version_major": 2,
       "version_minor": 0
      },
      "text/plain": [
       "HBox(children=(FloatProgress(value=0.0, description='Training', layout=Layout(flex='2'), max=1250.0, style=Pro…"
      ]
     },
     "metadata": {},
     "output_type": "display_data"
    },
    {
     "name": "stdout",
     "output_type": "stream",
     "text": [
      "Epoch 484: train=7.55075, val=7.86878, took 150.08 s\n",
      "  Validation Found 51171 of 54504, added 1691 (eff 93.88%) (0.169 FP/event)\n",
      "Result epoch:  484\n",
      "Average Eff:  0.0\n",
      "Average FP Rate:  0.0\n"
     ]
    },
    {
     "data": {
      "application/vnd.jupyter.widget-view+json": {
       "model_id": "",
       "version_major": 2,
       "version_minor": 0
      },
      "text/plain": [
       "HBox(children=(FloatProgress(value=0.0, description='Training', layout=Layout(flex='2'), max=1250.0, style=Pro…"
      ]
     },
     "metadata": {},
     "output_type": "display_data"
    },
    {
     "name": "stdout",
     "output_type": "stream",
     "text": [
      "Epoch 485: train=7.54894, val=7.84022, took 149.15 s\n",
      "  Validation Found 50946 of 54504, added 1475 (eff 93.47%) (0.148 FP/event)\n",
      "Result epoch:  485\n",
      "Average Eff:  0.0\n",
      "Average FP Rate:  0.0\n"
     ]
    },
    {
     "data": {
      "application/vnd.jupyter.widget-view+json": {
       "model_id": "",
       "version_major": 2,
       "version_minor": 0
      },
      "text/plain": [
       "HBox(children=(FloatProgress(value=0.0, description='Training', layout=Layout(flex='2'), max=1250.0, style=Pro…"
      ]
     },
     "metadata": {},
     "output_type": "display_data"
    },
    {
     "name": "stdout",
     "output_type": "stream",
     "text": [
      "Epoch 486: train=7.5504, val=7.77668, took 149.66 s\n",
      "  Validation Found 51085 of 54504, added 1555 (eff 93.73%) (0.156 FP/event)\n",
      "Result epoch:  486\n",
      "Average Eff:  0.0\n",
      "Average FP Rate:  0.0\n"
     ]
    },
    {
     "data": {
      "application/vnd.jupyter.widget-view+json": {
       "model_id": "",
       "version_major": 2,
       "version_minor": 0
      },
      "text/plain": [
       "HBox(children=(FloatProgress(value=0.0, description='Training', layout=Layout(flex='2'), max=1250.0, style=Pro…"
      ]
     },
     "metadata": {},
     "output_type": "display_data"
    },
    {
     "name": "stdout",
     "output_type": "stream",
     "text": [
      "Epoch 487: train=7.54937, val=7.84443, took 150.19 s\n",
      "  Validation Found 51035 of 54504, added 1622 (eff 93.64%) (0.162 FP/event)\n",
      "Result epoch:  487\n",
      "Average Eff:  0.0\n",
      "Average FP Rate:  0.0\n"
     ]
    },
    {
     "data": {
      "application/vnd.jupyter.widget-view+json": {
       "model_id": "",
       "version_major": 2,
       "version_minor": 0
      },
      "text/plain": [
       "HBox(children=(FloatProgress(value=0.0, description='Training', layout=Layout(flex='2'), max=1250.0, style=Pro…"
      ]
     },
     "metadata": {},
     "output_type": "display_data"
    },
    {
     "name": "stdout",
     "output_type": "stream",
     "text": [
      "Epoch 488: train=7.54644, val=7.79328, took 149.55 s\n",
      "  Validation Found 51126 of 54504, added 1629 (eff 93.80%) (0.163 FP/event)\n",
      "Result epoch:  488\n",
      "Average Eff:  0.0\n",
      "Average FP Rate:  0.0\n"
     ]
    },
    {
     "data": {
      "application/vnd.jupyter.widget-view+json": {
       "model_id": "",
       "version_major": 2,
       "version_minor": 0
      },
      "text/plain": [
       "HBox(children=(FloatProgress(value=0.0, description='Training', layout=Layout(flex='2'), max=1250.0, style=Pro…"
      ]
     },
     "metadata": {},
     "output_type": "display_data"
    },
    {
     "name": "stdout",
     "output_type": "stream",
     "text": [
      "Epoch 489: train=7.54653, val=7.82015, took 149.43 s\n",
      "  Validation Found 51180 of 54504, added 1836 (eff 93.90%) (0.184 FP/event)\n",
      "Result epoch:  489\n",
      "Average Eff:  0.0\n",
      "Average FP Rate:  0.0\n"
     ]
    },
    {
     "data": {
      "application/vnd.jupyter.widget-view+json": {
       "model_id": "",
       "version_major": 2,
       "version_minor": 0
      },
      "text/plain": [
       "HBox(children=(FloatProgress(value=0.0, description='Training', layout=Layout(flex='2'), max=1250.0, style=Pro…"
      ]
     },
     "metadata": {},
     "output_type": "display_data"
    },
    {
     "name": "stdout",
     "output_type": "stream",
     "text": [
      "Epoch 490: train=7.54233, val=7.86965, took 150.32 s\n",
      "  Validation Found 50966 of 54504, added 1500 (eff 93.51%) (0.15 FP/event)\n",
      "Result epoch:  490\n",
      "Average Eff:  0.0\n",
      "Average FP Rate:  0.0\n"
     ]
    },
    {
     "data": {
      "application/vnd.jupyter.widget-view+json": {
       "model_id": "",
       "version_major": 2,
       "version_minor": 0
      },
      "text/plain": [
       "HBox(children=(FloatProgress(value=0.0, description='Training', layout=Layout(flex='2'), max=1250.0, style=Pro…"
      ]
     },
     "metadata": {},
     "output_type": "display_data"
    },
    {
     "name": "stdout",
     "output_type": "stream",
     "text": [
      "Epoch 491: train=7.54348, val=7.81943, took 149.79 s\n",
      "  Validation Found 51075 of 54504, added 1592 (eff 93.71%) (0.159 FP/event)\n",
      "Result epoch:  491\n",
      "Average Eff:  0.0\n",
      "Average FP Rate:  0.0\n"
     ]
    },
    {
     "data": {
      "application/vnd.jupyter.widget-view+json": {
       "model_id": "",
       "version_major": 2,
       "version_minor": 0
      },
      "text/plain": [
       "HBox(children=(FloatProgress(value=0.0, description='Training', layout=Layout(flex='2'), max=1250.0, style=Pro…"
      ]
     },
     "metadata": {},
     "output_type": "display_data"
    },
    {
     "name": "stdout",
     "output_type": "stream",
     "text": [
      "Epoch 492: train=7.53791, val=7.82566, took 149.45 s\n",
      "  Validation Found 51028 of 54504, added 1513 (eff 93.62%) (0.152 FP/event)\n",
      "Result epoch:  492\n",
      "Average Eff:  0.0\n",
      "Average FP Rate:  0.0\n"
     ]
    },
    {
     "data": {
      "application/vnd.jupyter.widget-view+json": {
       "model_id": "",
       "version_major": 2,
       "version_minor": 0
      },
      "text/plain": [
       "HBox(children=(FloatProgress(value=0.0, description='Training', layout=Layout(flex='2'), max=1250.0, style=Pro…"
      ]
     },
     "metadata": {},
     "output_type": "display_data"
    },
    {
     "name": "stdout",
     "output_type": "stream",
     "text": [
      "Epoch 493: train=7.53984, val=7.8014, took 149.98 s\n",
      "  Validation Found 51230 of 54504, added 1783 (eff 93.99%) (0.179 FP/event)\n",
      "Result epoch:  493\n",
      "Average Eff:  0.0\n",
      "Average FP Rate:  0.0\n"
     ]
    },
    {
     "data": {
      "application/vnd.jupyter.widget-view+json": {
       "model_id": "",
       "version_major": 2,
       "version_minor": 0
      },
      "text/plain": [
       "HBox(children=(FloatProgress(value=0.0, description='Training', layout=Layout(flex='2'), max=1250.0, style=Pro…"
      ]
     },
     "metadata": {},
     "output_type": "display_data"
    },
    {
     "name": "stdout",
     "output_type": "stream",
     "text": [
      "Epoch 494: train=7.53811, val=7.82231, took 150.14 s\n",
      "  Validation Found 51008 of 54504, added 1483 (eff 93.59%) (0.149 FP/event)\n",
      "Result epoch:  494\n",
      "Average Eff:  0.0\n",
      "Average FP Rate:  0.0\n"
     ]
    },
    {
     "data": {
      "application/vnd.jupyter.widget-view+json": {
       "model_id": "",
       "version_major": 2,
       "version_minor": 0
      },
      "text/plain": [
       "HBox(children=(FloatProgress(value=0.0, description='Training', layout=Layout(flex='2'), max=1250.0, style=Pro…"
      ]
     },
     "metadata": {},
     "output_type": "display_data"
    },
    {
     "name": "stdout",
     "output_type": "stream",
     "text": [
      "Epoch 495: train=7.54169, val=7.82978, took 149.27 s\n",
      "  Validation Found 50945 of 54504, added 1447 (eff 93.47%) (0.145 FP/event)\n",
      "Result epoch:  495\n",
      "Average Eff:  0.0\n",
      "Average FP Rate:  0.0\n"
     ]
    },
    {
     "data": {
      "application/vnd.jupyter.widget-view+json": {
       "model_id": "",
       "version_major": 2,
       "version_minor": 0
      },
      "text/plain": [
       "HBox(children=(FloatProgress(value=0.0, description='Training', layout=Layout(flex='2'), max=1250.0, style=Pro…"
      ]
     },
     "metadata": {},
     "output_type": "display_data"
    },
    {
     "name": "stdout",
     "output_type": "stream",
     "text": [
      "Epoch 496: train=7.5353, val=7.84213, took 149.89 s\n",
      "  Validation Found 51183 of 54504, added 1780 (eff 93.91%) (0.178 FP/event)\n",
      "Result epoch:  496\n",
      "Average Eff:  0.0\n",
      "Average FP Rate:  0.0\n"
     ]
    },
    {
     "data": {
      "application/vnd.jupyter.widget-view+json": {
       "model_id": "41af56982daf4f9e85d12d8e13d433fc",
       "version_major": 2,
       "version_minor": 0
      },
      "text/plain": [
       "HBox(children=(FloatProgress(value=0.0, description='Training', layout=Layout(flex='2'), max=1250.0, style=Pro…"
      ]
     },
     "metadata": {},
     "output_type": "display_data"
    }
   ],
   "source": [
    "avgEff = 0.0\n",
    "avgFP = 0.0\n",
    "print('for model: ', model)   \n",
    "run_name = 'ACNN Y (P4)'\n",
    "# Create an mlflow run\n",
    "with mlflow.start_run(run_name=run_name) as run:\n",
    "    # Log parameters of the model\n",
    "    for key, value in vars(args).items():\n",
    "        print(key, value)\n",
    "        mlflow.log_param(key, value)\n",
    "    \n",
    "    # Log parameter count in the model\n",
    "    mlflow.log_param('Parameters', count_parameters(model))\n",
    "    \n",
    "    # Begin run\n",
    "    for result in trainNet(model, optimizer, loss,\n",
    "                            train_loader, val_loader,\n",
    "                            args.epochs+args.epoch_start, epoch_start=args.epoch_start,\n",
    "                            notebook=True, device=device):\n",
    "\n",
    "        result = result._asdict()\n",
    "        results = results.append(pd.Series(result), ignore_index=True)\n",
    "    \n",
    "        xs = results.index\n",
    "    \n",
    "        # Update the plot above\n",
    "        lines['train'].set_data(results.index,results.cost)\n",
    "        lines['val'].set_data(results.index,results.val)\n",
    "    \n",
    "        #filter first cost epoch (can be really large)\n",
    "        max_cost = max(max(results.cost if len(results.cost)<2 else results.cost[1:]), max(results.val))\n",
    "        min_cost = min(min(results.cost), min(results.val))\n",
    "    \n",
    "        # The plot limits need updating too\n",
    "        ax.set_ylim(min_cost*.9, max_cost*1.1)  \n",
    "        ax.set_xlim(-.5, len(results.cost) - .5)\n",
    "    \n",
    "        replace_in_ax(lax, lines['eff'], xs, results['eff_val'].apply(lambda x: x.eff_rate))\n",
    "        replace_in_ax(tax, lines['fp'], xs, results['eff_val'].apply(lambda x: x.fp_rate))\n",
    "    \n",
    "        # Redraw the figure\n",
    "        fig.canvas.draw()\n",
    "            \n",
    "        ## MLFLOW ##\n",
    "        # Log metrics\n",
    "        mlflow.log_metric('Efficiency', result['eff_val'].eff_rate, result['epoch'])\n",
    "        mlflow.log_metric('False Positive Rate',  result['eff_val'].fp_rate, result['epoch'])\n",
    "        mlflow.log_metric('Validation Loss',  result['val'], result['epoch'])\n",
    "        mlflow.log_metric('Training Loss',  result['cost'], result['epoch'])\n",
    "        \n",
    "        print('Result epoch: ', result['epoch'])\n",
    "        if(result['epoch'] >= args.epochs + args.epoch_start - 10):\n",
    "            avgEff += result['eff_val'].eff_rate\n",
    "            avgFP += result['eff_val'].fp_rate\n",
    "           \n",
    "        if(result['epoch'] == args.epochs + args.epoch_start - 1):\n",
    "            print('Averaging...\\n')\n",
    "            avgEff /= 10\n",
    "            avgFP /= 10\n",
    "            mlflow.log_metric('10 Efficiency Average', avgEff)\n",
    "            mlflow.log_metric('10 False Positive Average', avgFP)\n",
    "            \n",
    "        print('Average Eff: ', avgEff)\n",
    "        print('Average FP Rate: ', avgFP)\n",
    "            \n",
    "        # Log tags\n",
    "#        mlflow.set_tag('Optimizer', 'Adam')\n",
    "#        mlflow.set_tag('Kernel size', 'Mixed')\n",
    "#        mlflow.set_tag('Skip connections', '4')\n",
    "#        mlflow.set_tag('Activation', 'Softplus')\n",
    "#        mlflow.set_tag('Mid Activation', 'Relu')\n",
    "        mlflow.set_tag('Asymmetry', '2.5')\n",
    "\n",
    "        # Save model state dictionary, optimizer state dictionary, and epoch number\n",
    "        torch.save({\n",
    "            'model':model.state_dict(),\n",
    "            'optimizer':optimizer.state_dict(),\n",
    "            'epoch':args.epochs+result['epoch']\n",
    "            }, 'run_stats.pyt')\n",
    "        # Save the run stats into mlflow\n",
    "        mlflow.log_artifact('run_stats.pyt')\n",
    "            \n",
    "        # Save a diagram of the architecture\n",
    "#        HL.transforms.Fold(\"Conv\", \"Conv\"),\n",
    "#        HL.build_graph(model, torch.zeros([args.batch_size, 1, 4000]).to(device)).save('architecture', format='png')\n",
    "#        mlflow.log_artifact('architecture.png')\n",
    "        \n",
    "        # log the code for the model architecture\n",
    "#        mlflow.log_artifact('architecture.txt')\n",
    "        \n",
    "    dual_train_plots(results.index,\n",
    "                 results.cost, results.val, \n",
    "                 results['eff_val'].apply(lambda x: x.eff_rate),\n",
    "                 results['eff_val'].apply(lambda x: x.fp_rate))\n",
    "    # save plot\n",
    "    plt.tight_layout()\n",
    "    plt.savefig('plot.png')\n",
    "    mlflow.log_artifact('plot.png')"
   ]
  },
  {
   "cell_type": "code",
   "execution_count": null,
   "metadata": {},
   "outputs": [],
   "source": [
    "##quit()"
   ]
  }
 ],
 "metadata": {
  "kernelspec": {
   "display_name": "goofit-june2020",
   "language": "python",
   "name": "goofit-june2020"
  },
  "language_info": {
   "codemirror_mode": {
    "name": "ipython",
    "version": 3
   },
   "file_extension": ".py",
   "mimetype": "text/x-python",
   "name": "python",
   "nbconvert_exporter": "python",
   "pygments_lexer": "ipython3",
   "version": "3.7.6"
  }
 },
 "nbformat": 4,
 "nbformat_minor": 2
}
