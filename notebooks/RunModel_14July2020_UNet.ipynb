{
 "cells": [
  {
   "cell_type": "code",
   "execution_count": 1,
   "metadata": {},
   "outputs": [],
   "source": [
    "##%matplotlib widget\n",
    "## with %matplotlib notebook: seems to require ipympl as part of environment, either\n",
    "## part of the conda environment or \"pip install ipympl\"\n",
    "## otherwise, does not show ANY plots in notebook, plt.savefig() works\n",
    "%matplotlib notebook  \n",
    "##%matplotlib inline    ## --plt.savefig()  works, but re-sizing does NOT"
   ]
  },
  {
   "cell_type": "markdown",
   "metadata": {},
   "source": [
    "This notebook is a short demo to illustrate execution.   For odd historical reasons, it uses \"toy Monte Carlo\" (simulated data)for \"training\" and \"full LHCB MC\" for validation.\n",
    "\n",
    "The network architecture is a \"simple\" model that uses 1 input channel (the KDE [kernel density estimator] but from the track parameters) feeding 5 convolutional layers followed by a fully connected layer.\n",
    "\n",
    "In today's version, the network will start with weights from a previously trained version.\n",
    " "
   ]
  },
  {
   "cell_type": "markdown",
   "metadata": {},
   "source": [
    "Check the current GPU usage. Please try to be nice!"
   ]
  },
  {
   "cell_type": "code",
   "execution_count": 2,
   "metadata": {},
   "outputs": [
    {
     "name": "stdout",
     "output_type": "stream",
     "text": [
      "Wed Jul 22 09:47:49 2020       \r\n",
      "+-----------------------------------------------------------------------------+\r\n",
      "| NVIDIA-SMI 440.64.00    Driver Version: 440.64.00    CUDA Version: 10.2     |\r\n",
      "|-------------------------------+----------------------+----------------------+\r\n",
      "| GPU  Name        Persistence-M| Bus-Id        Disp.A | Volatile Uncorr. ECC |\r\n",
      "| Fan  Temp  Perf  Pwr:Usage/Cap|         Memory-Usage | GPU-Util  Compute M. |\r\n",
      "|===============================+======================+======================|\r\n",
      "|   0  TITAN V             Off  | 00000000:03:00.0 Off |                  N/A |\r\n",
      "| 33%   51C    P2   101W / 250W |   6685MiB / 12066MiB |     83%      Default |\r\n",
      "+-------------------------------+----------------------+----------------------+\r\n",
      "|   1  Tesla P100-PCIE...  Off  | 00000000:83:00.0 Off |                    0 |\r\n",
      "| N/A   79C    P0    81W / 250W |   1913MiB / 16280MiB |     91%      Default |\r\n",
      "+-------------------------------+----------------------+----------------------+\r\n",
      "|   2  TITAN V             Off  | 00000000:84:00.0 Off |                  N/A |\r\n",
      "| 41%   61C    P2   118W / 250W |   9068MiB / 12066MiB |     88%      Default |\r\n",
      "+-------------------------------+----------------------+----------------------+\r\n",
      "                                                                               \r\n",
      "+-----------------------------------------------------------------------------+\r\n",
      "| Processes:                                                       GPU Memory |\r\n",
      "|  GPU       PID   Type   Process name                             Usage      |\r\n",
      "|=============================================================================|\r\n",
      "|    0     45918      C   ...a/conda/envs/goofit-june2020/bin/python  6673MiB |\r\n",
      "|    1      7888      C   ...a/conda/envs/goofit-june2020/bin/python  1903MiB |\r\n",
      "|    2      7894      C   ...a/conda/envs/goofit-june2020/bin/python  2263MiB |\r\n",
      "|    2     45727      C   ...a/conda/envs/goofit-june2020/bin/python  6793MiB |\r\n",
      "+-----------------------------------------------------------------------------+\r\n"
     ]
    }
   ],
   "source": [
    "!nvidia-smi"
   ]
  },
  {
   "cell_type": "markdown",
   "metadata": {},
   "source": [
    "> **WARNING**: The card numbers here are *not* the same as in CUDA. You have been warned."
   ]
  },
  {
   "cell_type": "markdown",
   "metadata": {},
   "source": [
    "## Imports"
   ]
  },
  {
   "cell_type": "code",
   "execution_count": 3,
   "metadata": {
    "scrolled": false
   },
   "outputs": [],
   "source": [
    "import matplotlib.pyplot as plt\n",
    "import numpy as np\n",
    "import time\n",
    "import torch\n",
    "import pandas as pd\n",
    "import mlflow\n",
    "\n",
    "# Python 3 standard library\n",
    "from pathlib import Path\n",
    "\n",
    "from torchsummary import summary\n",
    "\n",
    "'''\n",
    "HELPER FUNCTIONS\n",
    "'''\n",
    "# From model/collectdata.py\n",
    "from model.collectdata_mdsA import collect_data\n",
    "\n",
    "# From model/loss.py\n",
    "##from loss import Loss\n",
    "from model.alt_loss_A import Loss\n",
    "\n",
    "# From model/training.py\n",
    "from model.training import trainNet, select_gpu, Results\n",
    "\n",
    "# From model/models.py\n",
    "##  will start with model from TwoFeatures_CNN6Layer_A in the first instance\n",
    "##  see relevant cell below\n",
    "\n",
    "from model.models_mjp_14July2020 import UNet_A as ModelA\n",
    "from model.models_mjp_14July2020 import UNet_B as ModelB\n",
    "from model.models_mjp_14July2020 import UNet_C as ModelC\n",
    "from model.models_mjp_14July2020 import UNet_D as ModelD\n",
    "\n",
    "# From model/utilities.py\n",
    "from model.utilities import load_full_state, count_parameters, Params\n",
    "\n",
    "from model.plots import dual_train_plots, replace_in_ax\n",
    "\n",
    "## adds image of model architecture\n",
    "import hiddenlayer as HL"
   ]
  },
  {
   "cell_type": "markdown",
   "metadata": {},
   "source": [
    "Set up Torch device configuration. All tensors and model parameters need to know where to be put.\n",
    "This takes a BUS ID number: The BUS ID is the same as the listing at the top of this script."
   ]
  },
  {
   "cell_type": "code",
   "execution_count": 4,
   "metadata": {},
   "outputs": [
    {
     "name": "stdout",
     "output_type": "stream",
     "text": [
      "1 available GPUs (initially using device 0):\n",
      "  0 Tesla P100-PCIE-16GB\n"
     ]
    }
   ],
   "source": [
    "device = select_gpu(1)"
   ]
  },
  {
   "cell_type": "markdown",
   "metadata": {},
   "source": [
    "### Set up local parameters"
   ]
  },
  {
   "cell_type": "code",
   "execution_count": 5,
   "metadata": {},
   "outputs": [],
   "source": [
    "# params order - batch size, epochs, lr, epoch_start (which is usually set to 0)\n",
    "args = Params(128, 1000, 1e-3, 0)"
   ]
  },
  {
   "cell_type": "markdown",
   "metadata": {},
   "source": [
    "## Loading data\n",
    "\n",
    "Load the dataset, split into parts, then move to device (see `collectdata.py` in the `../model` directory)"
   ]
  },
  {
   "cell_type": "code",
   "execution_count": 6,
   "metadata": {
    "scrolled": true
   },
   "outputs": [
    {
     "name": "stdout",
     "output_type": "stream",
     "text": [
      "Loading data...\n",
      "Loaded /share/lazy/sokoloff/ML-data_A/Aug14_80K_train.h5 in 17.5 s\n",
      "Loaded /share/lazy/sokoloff/ML-data_AA/Oct03_80K_train.h5 in 17.23 s\n",
      "Constructing 160000 event dataset took 6.28 s\n",
      "Loading data...\n",
      "Loaded /share/lazy/sokoloff/ML-data_AA/Oct03_20K_val.h5 in 4.114 s\n",
      "Constructing 9984 event dataset took 0.2499 s\n"
     ]
    }
   ],
   "source": [
    "## newer vernacular\n",
    "## Training dataset. You can put as many files here as desired.\n",
    "\n",
    "## in this DEMO example we use only one 80K training set -- the model starts with well-trained weights,\n",
    "## and using a smaller training set reduces both the time to load the data and the time to train an epoch\n",
    "##  set the option load_XandXsq = True to use both DKE and KDE^2 as input features\n",
    "train_loader = collect_data('/share/lazy/sokoloff/ML-data_A/Aug14_80K_train.h5',\n",
    "                             '/share/lazy/sokoloff/ML-data_AA/Oct03_80K_train.h5',\n",
    "#                             '/share/lazy/sokoloff/ML-data_AA/Oct03_40K_train.h5',\n",
    "#                             '/share/lazy/will/ML_mdsA/June30_2020_80k_1.h5',\n",
    "#                             '/share/lazy/will/ML_mdsA/June30_2020_80k_3.h5',\n",
    "#                             '/share/lazy/will/ML_mdsA/June30_2020_80k_4.h5',\n",
    "#                             '/share/lazy/will/ML_mdsA/June30_2020_80k_5.h5',\n",
    "#                             '/share/lazy/will/ML_mdsA/June30_2020_80k_6.h5',\n",
    "#                             '/share/lazy/will/ML_mdsA/June30_2020_80k_7.h5',\n",
    "#                             '/share/lazy/will/ML_mdsA/June30_2020_80k_8.h5',\n",
    "#                             '/share/lazy/will/ML_mdsA/June30_2020_80k_9.h5',\n",
    "                            #'/share/lazy/sokoloff/ML-data_AA/Oct03_80K2_train.h5',\n",
    "                             batch_size=args.batch_size,\n",
    "## if we are using a larger dataset (240K events, with the datasets above, and 11 GB  of GPU memory),\n",
    "## not the dataset will overflow the GPU memory; device=device will allow the data to move back\n",
    "## and forth between the CPU and GPU memory. While this allows use of a larger dataset, it slows\n",
    "## down performance by about 10%.  So comment out when not needed.\n",
    "                            device=device,\n",
    "                            masking=True, shuffle=True,\n",
    "                            load_XandXsq=False,\n",
    "                            load_xy=False)\n",
    "\n",
    "# Validation dataset. You can slice to reduce the size.\n",
    "## dataAA -> /share/lazy/sokoloff/ML-data_AA/\n",
    "val_loader = collect_data('/share/lazy/sokoloff/ML-data_AA/Oct03_20K_val.h5',\n",
    "## mds val_loader = collect_data('dataAA/HLT1CPU_1kevts_val.h5',\n",
    "\n",
    "                          batch_size=args.batch_size,\n",
    "                          slice=slice(256 * 39),\n",
    "                          device=device,\n",
    "                          masking=True, shuffle=False,\n",
    "                          load_XandXsq=False,\n",
    "                          load_xy=False)"
   ]
  },
  {
   "cell_type": "markdown",
   "metadata": {},
   "source": [
    "# Preparing the model"
   ]
  },
  {
   "cell_type": "markdown",
   "metadata": {},
   "source": [
    "Prepare a model, use multiple GPUs if they are VISIBLE, and move the model to the device."
   ]
  },
  {
   "cell_type": "code",
   "execution_count": 7,
   "metadata": {
    "scrolled": true
   },
   "outputs": [
    {
     "name": "stderr",
     "output_type": "stream",
     "text": [
      "WARNING:root:Malformed experiment 'ML'. Detailed error Yaml file '/share/lazy/pv-finder_model_repo/ML/meta.yaml' does not exist.\n",
      "Traceback (most recent call last):\n",
      "  File \"/home/michael24peters/.local/lib/python3.7/site-packages/mlflow/store/tracking/file_store.py\", line 197, in list_experiments\n",
      "    experiment = self._get_experiment(exp_id, view_type)\n",
      "  File \"/home/michael24peters/.local/lib/python3.7/site-packages/mlflow/store/tracking/file_store.py\", line 260, in _get_experiment\n",
      "    meta = read_yaml(experiment_dir, FileStore.META_DATA_FILE_NAME)\n",
      "  File \"/home/michael24peters/.local/lib/python3.7/site-packages/mlflow/utils/file_utils.py\", line 167, in read_yaml\n",
      "    raise MissingConfigException(\"Yaml file '%s' does not exist.\" % file_path)\n",
      "mlflow.exceptions.MissingConfigException: Yaml file '/share/lazy/pv-finder_model_repo/ML/meta.yaml' does not exist.\n"
     ]
    }
   ],
   "source": [
    "model = ModelD()\n",
    "\n",
    "#summary(model.to(device), (1, 4000))\n",
    "\n",
    "mlflow.tracking.set_tracking_uri('file:/share/lazy/pv-finder_model_repo')\n",
    "mlflow.set_experiment('Weird U-Net')"
   ]
  },
  {
   "cell_type": "code",
   "execution_count": 8,
   "metadata": {
    "scrolled": true
   },
   "outputs": [
    {
     "name": "stdout",
     "output_type": "stream",
     "text": [
      "Let's use 1 GPUs!\n"
     ]
    }
   ],
   "source": [
    "print(\"Let's use\", torch.cuda.device_count(), \"GPUs!\")\n",
    "if torch.cuda.device_count() > 1:\n",
    "    model = torch.nn.DataParallel(model)"
   ]
  },
  {
   "cell_type": "markdown",
   "metadata": {},
   "source": [
    "Load any trained weights here:"
   ]
  },
  {
   "cell_type": "code",
   "execution_count": 9,
   "metadata": {},
   "outputs": [],
   "source": [
    "##  mds 200121 loss = Loss(epsilon=1e-5,coefficient=1.0)\n",
    "loss = Loss(epsilon=1e-5,coefficient=2.5)\n",
    "optimizer = torch.optim.Adam(model.parameters(), lr=args.lr)\n",
    "\n",
    "##  use the first five layers from a pre-existing model\n",
    "##  see example at https://discuss.pytorch.org/t/how-to-load-part-of-pre-trained-model/1113\n",
    "##   ML -> /share/lazy/sokoloff/ML\n",
    "\n",
    "#path = 'run_stats.pyt'\n",
    "#load_full_state(model, optimizer, path)\n",
    "# For other pretrained models, go to MLFlow and find the path for \"run_stats.pyt\" in the artifacts section\n",
    "#pretrained_dict = '/share/lazy/pv-finder_model_repo/1/e67db7e2c8d949e0aeac3a6f6f426f2b/artifacts/run_stats.pyt'\n",
    "#load_full_state(model, optimizer, pretrained_dict)"
   ]
  },
  {
   "cell_type": "markdown",
   "metadata": {},
   "source": [
    "Let's move the model's weight matricies to the GPU:"
   ]
  },
  {
   "cell_type": "code",
   "execution_count": 10,
   "metadata": {
    "scrolled": true
   },
   "outputs": [
    {
     "data": {
      "text/plain": [
       "UNet_D(\n",
       "  (d2): MaxPool1d(kernel_size=2, stride=2, padding=0, dilation=1, ceil_mode=False)\n",
       "  (d4): MaxPool1d(kernel_size=4, stride=4, padding=0, dilation=1, ceil_mode=False)\n",
       "  (rcbn1): ConvBNRelu_D(\n",
       "    (0): Conv1d(1, 24, kernel_size=(25,), stride=(1,), padding=(12,))\n",
       "    (1): BatchNorm1d(24, eps=1e-05, momentum=0.1, affine=True, track_running_stats=True)\n",
       "    (2): LeakyReLU(negative_slope=0.01)\n",
       "  )\n",
       "  (rcbn2): ConvBNRelu_D(\n",
       "    (0): Conv1d(24, 24, kernel_size=(7,), stride=(1,), padding=(3,))\n",
       "    (1): BatchNorm1d(24, eps=1e-05, momentum=0.1, affine=True, track_running_stats=True)\n",
       "    (2): LeakyReLU(negative_slope=0.01)\n",
       "  )\n",
       "  (rcbn3): ConvBNRelu_D(\n",
       "    (0): Conv1d(24, 24, kernel_size=(5,), stride=(1,), padding=(2,))\n",
       "    (1): BatchNorm1d(24, eps=1e-05, momentum=0.1, affine=True, track_running_stats=True)\n",
       "    (2): LeakyReLU(negative_slope=0.01)\n",
       "  )\n",
       "  (rcbn4): ConvBNRelu_D(\n",
       "    (0): Conv1d(24, 24, kernel_size=(3,), stride=(1,), padding=(1,))\n",
       "    (1): BatchNorm1d(24, eps=1e-05, momentum=0.1, affine=True, track_running_stats=True)\n",
       "    (2): LeakyReLU(negative_slope=0.01)\n",
       "  )\n",
       "  (up1): Up_D(\n",
       "    (0): ConvTranspose1d(24, 24, kernel_size=(4,), stride=(4,))\n",
       "    (1): ConvBNRelu_D(\n",
       "      (0): Conv1d(24, 24, kernel_size=(5,), stride=(1,), padding=(2,))\n",
       "      (1): BatchNorm1d(24, eps=1e-05, momentum=0.1, affine=True, track_running_stats=True)\n",
       "      (2): LeakyReLU(negative_slope=0.01)\n",
       "    )\n",
       "  )\n",
       "  (up2): Up_D(\n",
       "    (0): ConvTranspose1d(48, 24, kernel_size=(4,), stride=(4,))\n",
       "    (1): ConvBNRelu_D(\n",
       "      (0): Conv1d(24, 24, kernel_size=(5,), stride=(1,), padding=(2,))\n",
       "      (1): BatchNorm1d(24, eps=1e-05, momentum=0.1, affine=True, track_running_stats=True)\n",
       "      (2): LeakyReLU(negative_slope=0.01)\n",
       "    )\n",
       "  )\n",
       "  (up3): Up_D(\n",
       "    (0): ConvTranspose1d(48, 24, kernel_size=(2,), stride=(2,))\n",
       "    (1): ConvBNRelu_D(\n",
       "      (0): Conv1d(24, 24, kernel_size=(5,), stride=(1,), padding=(2,))\n",
       "      (1): BatchNorm1d(24, eps=1e-05, momentum=0.1, affine=True, track_running_stats=True)\n",
       "      (2): LeakyReLU(negative_slope=0.01)\n",
       "    )\n",
       "  )\n",
       "  (outc): Conv1d(48, 1, kernel_size=(5,), stride=(1,), padding=(2,))\n",
       ")"
      ]
     },
     "execution_count": 10,
     "metadata": {},
     "output_type": "execute_result"
    }
   ],
   "source": [
    "model.to(device)"
   ]
  },
  {
   "cell_type": "markdown",
   "metadata": {},
   "source": [
    "## Train \n",
    "\n",
    "\n",
    "\n",
    "The body of this loop runs once per epoch. Results is a named tuple of values (loss per epoch for training and validation, time each). Start by setting up a plot first:"
   ]
  },
  {
   "cell_type": "code",
   "execution_count": 11,
   "metadata": {},
   "outputs": [
    {
     "data": {
      "application/javascript": [
       "/* Put everything inside the global mpl namespace */\n",
       "window.mpl = {};\n",
       "\n",
       "\n",
       "mpl.get_websocket_type = function() {\n",
       "    if (typeof(WebSocket) !== 'undefined') {\n",
       "        return WebSocket;\n",
       "    } else if (typeof(MozWebSocket) !== 'undefined') {\n",
       "        return MozWebSocket;\n",
       "    } else {\n",
       "        alert('Your browser does not have WebSocket support. ' +\n",
       "              'Please try Chrome, Safari or Firefox ≥ 6. ' +\n",
       "              'Firefox 4 and 5 are also supported but you ' +\n",
       "              'have to enable WebSockets in about:config.');\n",
       "    };\n",
       "}\n",
       "\n",
       "mpl.figure = function(figure_id, websocket, ondownload, parent_element) {\n",
       "    this.id = figure_id;\n",
       "\n",
       "    this.ws = websocket;\n",
       "\n",
       "    this.supports_binary = (this.ws.binaryType != undefined);\n",
       "\n",
       "    if (!this.supports_binary) {\n",
       "        var warnings = document.getElementById(\"mpl-warnings\");\n",
       "        if (warnings) {\n",
       "            warnings.style.display = 'block';\n",
       "            warnings.textContent = (\n",
       "                \"This browser does not support binary websocket messages. \" +\n",
       "                    \"Performance may be slow.\");\n",
       "        }\n",
       "    }\n",
       "\n",
       "    this.imageObj = new Image();\n",
       "\n",
       "    this.context = undefined;\n",
       "    this.message = undefined;\n",
       "    this.canvas = undefined;\n",
       "    this.rubberband_canvas = undefined;\n",
       "    this.rubberband_context = undefined;\n",
       "    this.format_dropdown = undefined;\n",
       "\n",
       "    this.image_mode = 'full';\n",
       "\n",
       "    this.root = $('<div/>');\n",
       "    this._root_extra_style(this.root)\n",
       "    this.root.attr('style', 'display: inline-block');\n",
       "\n",
       "    $(parent_element).append(this.root);\n",
       "\n",
       "    this._init_header(this);\n",
       "    this._init_canvas(this);\n",
       "    this._init_toolbar(this);\n",
       "\n",
       "    var fig = this;\n",
       "\n",
       "    this.waiting = false;\n",
       "\n",
       "    this.ws.onopen =  function () {\n",
       "            fig.send_message(\"supports_binary\", {value: fig.supports_binary});\n",
       "            fig.send_message(\"send_image_mode\", {});\n",
       "            if (mpl.ratio != 1) {\n",
       "                fig.send_message(\"set_dpi_ratio\", {'dpi_ratio': mpl.ratio});\n",
       "            }\n",
       "            fig.send_message(\"refresh\", {});\n",
       "        }\n",
       "\n",
       "    this.imageObj.onload = function() {\n",
       "            if (fig.image_mode == 'full') {\n",
       "                // Full images could contain transparency (where diff images\n",
       "                // almost always do), so we need to clear the canvas so that\n",
       "                // there is no ghosting.\n",
       "                fig.context.clearRect(0, 0, fig.canvas.width, fig.canvas.height);\n",
       "            }\n",
       "            fig.context.drawImage(fig.imageObj, 0, 0);\n",
       "        };\n",
       "\n",
       "    this.imageObj.onunload = function() {\n",
       "        fig.ws.close();\n",
       "    }\n",
       "\n",
       "    this.ws.onmessage = this._make_on_message_function(this);\n",
       "\n",
       "    this.ondownload = ondownload;\n",
       "}\n",
       "\n",
       "mpl.figure.prototype._init_header = function() {\n",
       "    var titlebar = $(\n",
       "        '<div class=\"ui-dialog-titlebar ui-widget-header ui-corner-all ' +\n",
       "        'ui-helper-clearfix\"/>');\n",
       "    var titletext = $(\n",
       "        '<div class=\"ui-dialog-title\" style=\"width: 100%; ' +\n",
       "        'text-align: center; padding: 3px;\"/>');\n",
       "    titlebar.append(titletext)\n",
       "    this.root.append(titlebar);\n",
       "    this.header = titletext[0];\n",
       "}\n",
       "\n",
       "\n",
       "\n",
       "mpl.figure.prototype._canvas_extra_style = function(canvas_div) {\n",
       "\n",
       "}\n",
       "\n",
       "\n",
       "mpl.figure.prototype._root_extra_style = function(canvas_div) {\n",
       "\n",
       "}\n",
       "\n",
       "mpl.figure.prototype._init_canvas = function() {\n",
       "    var fig = this;\n",
       "\n",
       "    var canvas_div = $('<div/>');\n",
       "\n",
       "    canvas_div.attr('style', 'position: relative; clear: both; outline: 0');\n",
       "\n",
       "    function canvas_keyboard_event(event) {\n",
       "        return fig.key_event(event, event['data']);\n",
       "    }\n",
       "\n",
       "    canvas_div.keydown('key_press', canvas_keyboard_event);\n",
       "    canvas_div.keyup('key_release', canvas_keyboard_event);\n",
       "    this.canvas_div = canvas_div\n",
       "    this._canvas_extra_style(canvas_div)\n",
       "    this.root.append(canvas_div);\n",
       "\n",
       "    var canvas = $('<canvas/>');\n",
       "    canvas.addClass('mpl-canvas');\n",
       "    canvas.attr('style', \"left: 0; top: 0; z-index: 0; outline: 0\")\n",
       "\n",
       "    this.canvas = canvas[0];\n",
       "    this.context = canvas[0].getContext(\"2d\");\n",
       "\n",
       "    var backingStore = this.context.backingStorePixelRatio ||\n",
       "\tthis.context.webkitBackingStorePixelRatio ||\n",
       "\tthis.context.mozBackingStorePixelRatio ||\n",
       "\tthis.context.msBackingStorePixelRatio ||\n",
       "\tthis.context.oBackingStorePixelRatio ||\n",
       "\tthis.context.backingStorePixelRatio || 1;\n",
       "\n",
       "    mpl.ratio = (window.devicePixelRatio || 1) / backingStore;\n",
       "\n",
       "    var rubberband = $('<canvas/>');\n",
       "    rubberband.attr('style', \"position: absolute; left: 0; top: 0; z-index: 1;\")\n",
       "\n",
       "    var pass_mouse_events = true;\n",
       "\n",
       "    canvas_div.resizable({\n",
       "        start: function(event, ui) {\n",
       "            pass_mouse_events = false;\n",
       "        },\n",
       "        resize: function(event, ui) {\n",
       "            fig.request_resize(ui.size.width, ui.size.height);\n",
       "        },\n",
       "        stop: function(event, ui) {\n",
       "            pass_mouse_events = true;\n",
       "            fig.request_resize(ui.size.width, ui.size.height);\n",
       "        },\n",
       "    });\n",
       "\n",
       "    function mouse_event_fn(event) {\n",
       "        if (pass_mouse_events)\n",
       "            return fig.mouse_event(event, event['data']);\n",
       "    }\n",
       "\n",
       "    rubberband.mousedown('button_press', mouse_event_fn);\n",
       "    rubberband.mouseup('button_release', mouse_event_fn);\n",
       "    // Throttle sequential mouse events to 1 every 20ms.\n",
       "    rubberband.mousemove('motion_notify', mouse_event_fn);\n",
       "\n",
       "    rubberband.mouseenter('figure_enter', mouse_event_fn);\n",
       "    rubberband.mouseleave('figure_leave', mouse_event_fn);\n",
       "\n",
       "    canvas_div.on(\"wheel\", function (event) {\n",
       "        event = event.originalEvent;\n",
       "        event['data'] = 'scroll'\n",
       "        if (event.deltaY < 0) {\n",
       "            event.step = 1;\n",
       "        } else {\n",
       "            event.step = -1;\n",
       "        }\n",
       "        mouse_event_fn(event);\n",
       "    });\n",
       "\n",
       "    canvas_div.append(canvas);\n",
       "    canvas_div.append(rubberband);\n",
       "\n",
       "    this.rubberband = rubberband;\n",
       "    this.rubberband_canvas = rubberband[0];\n",
       "    this.rubberband_context = rubberband[0].getContext(\"2d\");\n",
       "    this.rubberband_context.strokeStyle = \"#000000\";\n",
       "\n",
       "    this._resize_canvas = function(width, height) {\n",
       "        // Keep the size of the canvas, canvas container, and rubber band\n",
       "        // canvas in synch.\n",
       "        canvas_div.css('width', width)\n",
       "        canvas_div.css('height', height)\n",
       "\n",
       "        canvas.attr('width', width * mpl.ratio);\n",
       "        canvas.attr('height', height * mpl.ratio);\n",
       "        canvas.attr('style', 'width: ' + width + 'px; height: ' + height + 'px;');\n",
       "\n",
       "        rubberband.attr('width', width);\n",
       "        rubberband.attr('height', height);\n",
       "    }\n",
       "\n",
       "    // Set the figure to an initial 600x600px, this will subsequently be updated\n",
       "    // upon first draw.\n",
       "    this._resize_canvas(600, 600);\n",
       "\n",
       "    // Disable right mouse context menu.\n",
       "    $(this.rubberband_canvas).bind(\"contextmenu\",function(e){\n",
       "        return false;\n",
       "    });\n",
       "\n",
       "    function set_focus () {\n",
       "        canvas.focus();\n",
       "        canvas_div.focus();\n",
       "    }\n",
       "\n",
       "    window.setTimeout(set_focus, 100);\n",
       "}\n",
       "\n",
       "mpl.figure.prototype._init_toolbar = function() {\n",
       "    var fig = this;\n",
       "\n",
       "    var nav_element = $('<div/>');\n",
       "    nav_element.attr('style', 'width: 100%');\n",
       "    this.root.append(nav_element);\n",
       "\n",
       "    // Define a callback function for later on.\n",
       "    function toolbar_event(event) {\n",
       "        return fig.toolbar_button_onclick(event['data']);\n",
       "    }\n",
       "    function toolbar_mouse_event(event) {\n",
       "        return fig.toolbar_button_onmouseover(event['data']);\n",
       "    }\n",
       "\n",
       "    for(var toolbar_ind in mpl.toolbar_items) {\n",
       "        var name = mpl.toolbar_items[toolbar_ind][0];\n",
       "        var tooltip = mpl.toolbar_items[toolbar_ind][1];\n",
       "        var image = mpl.toolbar_items[toolbar_ind][2];\n",
       "        var method_name = mpl.toolbar_items[toolbar_ind][3];\n",
       "\n",
       "        if (!name) {\n",
       "            // put a spacer in here.\n",
       "            continue;\n",
       "        }\n",
       "        var button = $('<button/>');\n",
       "        button.addClass('ui-button ui-widget ui-state-default ui-corner-all ' +\n",
       "                        'ui-button-icon-only');\n",
       "        button.attr('role', 'button');\n",
       "        button.attr('aria-disabled', 'false');\n",
       "        button.click(method_name, toolbar_event);\n",
       "        button.mouseover(tooltip, toolbar_mouse_event);\n",
       "\n",
       "        var icon_img = $('<span/>');\n",
       "        icon_img.addClass('ui-button-icon-primary ui-icon');\n",
       "        icon_img.addClass(image);\n",
       "        icon_img.addClass('ui-corner-all');\n",
       "\n",
       "        var tooltip_span = $('<span/>');\n",
       "        tooltip_span.addClass('ui-button-text');\n",
       "        tooltip_span.html(tooltip);\n",
       "\n",
       "        button.append(icon_img);\n",
       "        button.append(tooltip_span);\n",
       "\n",
       "        nav_element.append(button);\n",
       "    }\n",
       "\n",
       "    var fmt_picker_span = $('<span/>');\n",
       "\n",
       "    var fmt_picker = $('<select/>');\n",
       "    fmt_picker.addClass('mpl-toolbar-option ui-widget ui-widget-content');\n",
       "    fmt_picker_span.append(fmt_picker);\n",
       "    nav_element.append(fmt_picker_span);\n",
       "    this.format_dropdown = fmt_picker[0];\n",
       "\n",
       "    for (var ind in mpl.extensions) {\n",
       "        var fmt = mpl.extensions[ind];\n",
       "        var option = $(\n",
       "            '<option/>', {selected: fmt === mpl.default_extension}).html(fmt);\n",
       "        fmt_picker.append(option);\n",
       "    }\n",
       "\n",
       "    // Add hover states to the ui-buttons\n",
       "    $( \".ui-button\" ).hover(\n",
       "        function() { $(this).addClass(\"ui-state-hover\");},\n",
       "        function() { $(this).removeClass(\"ui-state-hover\");}\n",
       "    );\n",
       "\n",
       "    var status_bar = $('<span class=\"mpl-message\"/>');\n",
       "    nav_element.append(status_bar);\n",
       "    this.message = status_bar[0];\n",
       "}\n",
       "\n",
       "mpl.figure.prototype.request_resize = function(x_pixels, y_pixels) {\n",
       "    // Request matplotlib to resize the figure. Matplotlib will then trigger a resize in the client,\n",
       "    // which will in turn request a refresh of the image.\n",
       "    this.send_message('resize', {'width': x_pixels, 'height': y_pixels});\n",
       "}\n",
       "\n",
       "mpl.figure.prototype.send_message = function(type, properties) {\n",
       "    properties['type'] = type;\n",
       "    properties['figure_id'] = this.id;\n",
       "    this.ws.send(JSON.stringify(properties));\n",
       "}\n",
       "\n",
       "mpl.figure.prototype.send_draw_message = function() {\n",
       "    if (!this.waiting) {\n",
       "        this.waiting = true;\n",
       "        this.ws.send(JSON.stringify({type: \"draw\", figure_id: this.id}));\n",
       "    }\n",
       "}\n",
       "\n",
       "\n",
       "mpl.figure.prototype.handle_save = function(fig, msg) {\n",
       "    var format_dropdown = fig.format_dropdown;\n",
       "    var format = format_dropdown.options[format_dropdown.selectedIndex].value;\n",
       "    fig.ondownload(fig, format);\n",
       "}\n",
       "\n",
       "\n",
       "mpl.figure.prototype.handle_resize = function(fig, msg) {\n",
       "    var size = msg['size'];\n",
       "    if (size[0] != fig.canvas.width || size[1] != fig.canvas.height) {\n",
       "        fig._resize_canvas(size[0], size[1]);\n",
       "        fig.send_message(\"refresh\", {});\n",
       "    };\n",
       "}\n",
       "\n",
       "mpl.figure.prototype.handle_rubberband = function(fig, msg) {\n",
       "    var x0 = msg['x0'] / mpl.ratio;\n",
       "    var y0 = (fig.canvas.height - msg['y0']) / mpl.ratio;\n",
       "    var x1 = msg['x1'] / mpl.ratio;\n",
       "    var y1 = (fig.canvas.height - msg['y1']) / mpl.ratio;\n",
       "    x0 = Math.floor(x0) + 0.5;\n",
       "    y0 = Math.floor(y0) + 0.5;\n",
       "    x1 = Math.floor(x1) + 0.5;\n",
       "    y1 = Math.floor(y1) + 0.5;\n",
       "    var min_x = Math.min(x0, x1);\n",
       "    var min_y = Math.min(y0, y1);\n",
       "    var width = Math.abs(x1 - x0);\n",
       "    var height = Math.abs(y1 - y0);\n",
       "\n",
       "    fig.rubberband_context.clearRect(\n",
       "        0, 0, fig.canvas.width / mpl.ratio, fig.canvas.height / mpl.ratio);\n",
       "\n",
       "    fig.rubberband_context.strokeRect(min_x, min_y, width, height);\n",
       "}\n",
       "\n",
       "mpl.figure.prototype.handle_figure_label = function(fig, msg) {\n",
       "    // Updates the figure title.\n",
       "    fig.header.textContent = msg['label'];\n",
       "}\n",
       "\n",
       "mpl.figure.prototype.handle_cursor = function(fig, msg) {\n",
       "    var cursor = msg['cursor'];\n",
       "    switch(cursor)\n",
       "    {\n",
       "    case 0:\n",
       "        cursor = 'pointer';\n",
       "        break;\n",
       "    case 1:\n",
       "        cursor = 'default';\n",
       "        break;\n",
       "    case 2:\n",
       "        cursor = 'crosshair';\n",
       "        break;\n",
       "    case 3:\n",
       "        cursor = 'move';\n",
       "        break;\n",
       "    }\n",
       "    fig.rubberband_canvas.style.cursor = cursor;\n",
       "}\n",
       "\n",
       "mpl.figure.prototype.handle_message = function(fig, msg) {\n",
       "    fig.message.textContent = msg['message'];\n",
       "}\n",
       "\n",
       "mpl.figure.prototype.handle_draw = function(fig, msg) {\n",
       "    // Request the server to send over a new figure.\n",
       "    fig.send_draw_message();\n",
       "}\n",
       "\n",
       "mpl.figure.prototype.handle_image_mode = function(fig, msg) {\n",
       "    fig.image_mode = msg['mode'];\n",
       "}\n",
       "\n",
       "mpl.figure.prototype.updated_canvas_event = function() {\n",
       "    // Called whenever the canvas gets updated.\n",
       "    this.send_message(\"ack\", {});\n",
       "}\n",
       "\n",
       "// A function to construct a web socket function for onmessage handling.\n",
       "// Called in the figure constructor.\n",
       "mpl.figure.prototype._make_on_message_function = function(fig) {\n",
       "    return function socket_on_message(evt) {\n",
       "        if (evt.data instanceof Blob) {\n",
       "            /* FIXME: We get \"Resource interpreted as Image but\n",
       "             * transferred with MIME type text/plain:\" errors on\n",
       "             * Chrome.  But how to set the MIME type?  It doesn't seem\n",
       "             * to be part of the websocket stream */\n",
       "            evt.data.type = \"image/png\";\n",
       "\n",
       "            /* Free the memory for the previous frames */\n",
       "            if (fig.imageObj.src) {\n",
       "                (window.URL || window.webkitURL).revokeObjectURL(\n",
       "                    fig.imageObj.src);\n",
       "            }\n",
       "\n",
       "            fig.imageObj.src = (window.URL || window.webkitURL).createObjectURL(\n",
       "                evt.data);\n",
       "            fig.updated_canvas_event();\n",
       "            fig.waiting = false;\n",
       "            return;\n",
       "        }\n",
       "        else if (typeof evt.data === 'string' && evt.data.slice(0, 21) == \"data:image/png;base64\") {\n",
       "            fig.imageObj.src = evt.data;\n",
       "            fig.updated_canvas_event();\n",
       "            fig.waiting = false;\n",
       "            return;\n",
       "        }\n",
       "\n",
       "        var msg = JSON.parse(evt.data);\n",
       "        var msg_type = msg['type'];\n",
       "\n",
       "        // Call the  \"handle_{type}\" callback, which takes\n",
       "        // the figure and JSON message as its only arguments.\n",
       "        try {\n",
       "            var callback = fig[\"handle_\" + msg_type];\n",
       "        } catch (e) {\n",
       "            console.log(\"No handler for the '\" + msg_type + \"' message type: \", msg);\n",
       "            return;\n",
       "        }\n",
       "\n",
       "        if (callback) {\n",
       "            try {\n",
       "                // console.log(\"Handling '\" + msg_type + \"' message: \", msg);\n",
       "                callback(fig, msg);\n",
       "            } catch (e) {\n",
       "                console.log(\"Exception inside the 'handler_\" + msg_type + \"' callback:\", e, e.stack, msg);\n",
       "            }\n",
       "        }\n",
       "    };\n",
       "}\n",
       "\n",
       "// from http://stackoverflow.com/questions/1114465/getting-mouse-location-in-canvas\n",
       "mpl.findpos = function(e) {\n",
       "    //this section is from http://www.quirksmode.org/js/events_properties.html\n",
       "    var targ;\n",
       "    if (!e)\n",
       "        e = window.event;\n",
       "    if (e.target)\n",
       "        targ = e.target;\n",
       "    else if (e.srcElement)\n",
       "        targ = e.srcElement;\n",
       "    if (targ.nodeType == 3) // defeat Safari bug\n",
       "        targ = targ.parentNode;\n",
       "\n",
       "    // jQuery normalizes the pageX and pageY\n",
       "    // pageX,Y are the mouse positions relative to the document\n",
       "    // offset() returns the position of the element relative to the document\n",
       "    var x = e.pageX - $(targ).offset().left;\n",
       "    var y = e.pageY - $(targ).offset().top;\n",
       "\n",
       "    return {\"x\": x, \"y\": y};\n",
       "};\n",
       "\n",
       "/*\n",
       " * return a copy of an object with only non-object keys\n",
       " * we need this to avoid circular references\n",
       " * http://stackoverflow.com/a/24161582/3208463\n",
       " */\n",
       "function simpleKeys (original) {\n",
       "  return Object.keys(original).reduce(function (obj, key) {\n",
       "    if (typeof original[key] !== 'object')\n",
       "        obj[key] = original[key]\n",
       "    return obj;\n",
       "  }, {});\n",
       "}\n",
       "\n",
       "mpl.figure.prototype.mouse_event = function(event, name) {\n",
       "    var canvas_pos = mpl.findpos(event)\n",
       "\n",
       "    if (name === 'button_press')\n",
       "    {\n",
       "        this.canvas.focus();\n",
       "        this.canvas_div.focus();\n",
       "    }\n",
       "\n",
       "    var x = canvas_pos.x * mpl.ratio;\n",
       "    var y = canvas_pos.y * mpl.ratio;\n",
       "\n",
       "    this.send_message(name, {x: x, y: y, button: event.button,\n",
       "                             step: event.step,\n",
       "                             guiEvent: simpleKeys(event)});\n",
       "\n",
       "    /* This prevents the web browser from automatically changing to\n",
       "     * the text insertion cursor when the button is pressed.  We want\n",
       "     * to control all of the cursor setting manually through the\n",
       "     * 'cursor' event from matplotlib */\n",
       "    event.preventDefault();\n",
       "    return false;\n",
       "}\n",
       "\n",
       "mpl.figure.prototype._key_event_extra = function(event, name) {\n",
       "    // Handle any extra behaviour associated with a key event\n",
       "}\n",
       "\n",
       "mpl.figure.prototype.key_event = function(event, name) {\n",
       "\n",
       "    // Prevent repeat events\n",
       "    if (name == 'key_press')\n",
       "    {\n",
       "        if (event.which === this._key)\n",
       "            return;\n",
       "        else\n",
       "            this._key = event.which;\n",
       "    }\n",
       "    if (name == 'key_release')\n",
       "        this._key = null;\n",
       "\n",
       "    var value = '';\n",
       "    if (event.ctrlKey && event.which != 17)\n",
       "        value += \"ctrl+\";\n",
       "    if (event.altKey && event.which != 18)\n",
       "        value += \"alt+\";\n",
       "    if (event.shiftKey && event.which != 16)\n",
       "        value += \"shift+\";\n",
       "\n",
       "    value += 'k';\n",
       "    value += event.which.toString();\n",
       "\n",
       "    this._key_event_extra(event, name);\n",
       "\n",
       "    this.send_message(name, {key: value,\n",
       "                             guiEvent: simpleKeys(event)});\n",
       "    return false;\n",
       "}\n",
       "\n",
       "mpl.figure.prototype.toolbar_button_onclick = function(name) {\n",
       "    if (name == 'download') {\n",
       "        this.handle_save(this, null);\n",
       "    } else {\n",
       "        this.send_message(\"toolbar_button\", {name: name});\n",
       "    }\n",
       "};\n",
       "\n",
       "mpl.figure.prototype.toolbar_button_onmouseover = function(tooltip) {\n",
       "    this.message.textContent = tooltip;\n",
       "};\n",
       "mpl.toolbar_items = [[\"Home\", \"Reset original view\", \"fa fa-home icon-home\", \"home\"], [\"Back\", \"Back to previous view\", \"fa fa-arrow-left icon-arrow-left\", \"back\"], [\"Forward\", \"Forward to next view\", \"fa fa-arrow-right icon-arrow-right\", \"forward\"], [\"\", \"\", \"\", \"\"], [\"Pan\", \"Pan axes with left mouse, zoom with right\", \"fa fa-arrows icon-move\", \"pan\"], [\"Zoom\", \"Zoom to rectangle\", \"fa fa-square-o icon-check-empty\", \"zoom\"], [\"\", \"\", \"\", \"\"], [\"Download\", \"Download plot\", \"fa fa-floppy-o icon-save\", \"download\"]];\n",
       "\n",
       "mpl.extensions = [\"eps\", \"jpeg\", \"pdf\", \"png\", \"ps\", \"raw\", \"svg\", \"tif\"];\n",
       "\n",
       "mpl.default_extension = \"png\";var comm_websocket_adapter = function(comm) {\n",
       "    // Create a \"websocket\"-like object which calls the given IPython comm\n",
       "    // object with the appropriate methods. Currently this is a non binary\n",
       "    // socket, so there is still some room for performance tuning.\n",
       "    var ws = {};\n",
       "\n",
       "    ws.close = function() {\n",
       "        comm.close()\n",
       "    };\n",
       "    ws.send = function(m) {\n",
       "        //console.log('sending', m);\n",
       "        comm.send(m);\n",
       "    };\n",
       "    // Register the callback with on_msg.\n",
       "    comm.on_msg(function(msg) {\n",
       "        //console.log('receiving', msg['content']['data'], msg);\n",
       "        // Pass the mpl event to the overridden (by mpl) onmessage function.\n",
       "        ws.onmessage(msg['content']['data'])\n",
       "    });\n",
       "    return ws;\n",
       "}\n",
       "\n",
       "mpl.mpl_figure_comm = function(comm, msg) {\n",
       "    // This is the function which gets called when the mpl process\n",
       "    // starts-up an IPython Comm through the \"matplotlib\" channel.\n",
       "\n",
       "    var id = msg.content.data.id;\n",
       "    // Get hold of the div created by the display call when the Comm\n",
       "    // socket was opened in Python.\n",
       "    var element = $(\"#\" + id);\n",
       "    var ws_proxy = comm_websocket_adapter(comm)\n",
       "\n",
       "    function ondownload(figure, format) {\n",
       "        window.open(figure.imageObj.src);\n",
       "    }\n",
       "\n",
       "    var fig = new mpl.figure(id, ws_proxy,\n",
       "                           ondownload,\n",
       "                           element.get(0));\n",
       "\n",
       "    // Call onopen now - mpl needs it, as it is assuming we've passed it a real\n",
       "    // web socket which is closed, not our websocket->open comm proxy.\n",
       "    ws_proxy.onopen();\n",
       "\n",
       "    fig.parent_element = element.get(0);\n",
       "    fig.cell_info = mpl.find_output_cell(\"<div id='\" + id + \"'></div>\");\n",
       "    if (!fig.cell_info) {\n",
       "        console.error(\"Failed to find cell for figure\", id, fig);\n",
       "        return;\n",
       "    }\n",
       "\n",
       "    var output_index = fig.cell_info[2]\n",
       "    var cell = fig.cell_info[0];\n",
       "\n",
       "};\n",
       "\n",
       "mpl.figure.prototype.handle_close = function(fig, msg) {\n",
       "    var width = fig.canvas.width/mpl.ratio\n",
       "    fig.root.unbind('remove')\n",
       "\n",
       "    // Update the output cell to use the data from the current canvas.\n",
       "    fig.push_to_output();\n",
       "    var dataURL = fig.canvas.toDataURL();\n",
       "    // Re-enable the keyboard manager in IPython - without this line, in FF,\n",
       "    // the notebook keyboard shortcuts fail.\n",
       "    IPython.keyboard_manager.enable()\n",
       "    $(fig.parent_element).html('<img src=\"' + dataURL + '\" width=\"' + width + '\">');\n",
       "    fig.close_ws(fig, msg);\n",
       "}\n",
       "\n",
       "mpl.figure.prototype.close_ws = function(fig, msg){\n",
       "    fig.send_message('closing', msg);\n",
       "    // fig.ws.close()\n",
       "}\n",
       "\n",
       "mpl.figure.prototype.push_to_output = function(remove_interactive) {\n",
       "    // Turn the data on the canvas into data in the output cell.\n",
       "    var width = this.canvas.width/mpl.ratio\n",
       "    var dataURL = this.canvas.toDataURL();\n",
       "    this.cell_info[1]['text/html'] = '<img src=\"' + dataURL + '\" width=\"' + width + '\">';\n",
       "}\n",
       "\n",
       "mpl.figure.prototype.updated_canvas_event = function() {\n",
       "    // Tell IPython that the notebook contents must change.\n",
       "    IPython.notebook.set_dirty(true);\n",
       "    this.send_message(\"ack\", {});\n",
       "    var fig = this;\n",
       "    // Wait a second, then push the new image to the DOM so\n",
       "    // that it is saved nicely (might be nice to debounce this).\n",
       "    setTimeout(function () { fig.push_to_output() }, 1000);\n",
       "}\n",
       "\n",
       "mpl.figure.prototype._init_toolbar = function() {\n",
       "    var fig = this;\n",
       "\n",
       "    var nav_element = $('<div/>');\n",
       "    nav_element.attr('style', 'width: 100%');\n",
       "    this.root.append(nav_element);\n",
       "\n",
       "    // Define a callback function for later on.\n",
       "    function toolbar_event(event) {\n",
       "        return fig.toolbar_button_onclick(event['data']);\n",
       "    }\n",
       "    function toolbar_mouse_event(event) {\n",
       "        return fig.toolbar_button_onmouseover(event['data']);\n",
       "    }\n",
       "\n",
       "    for(var toolbar_ind in mpl.toolbar_items){\n",
       "        var name = mpl.toolbar_items[toolbar_ind][0];\n",
       "        var tooltip = mpl.toolbar_items[toolbar_ind][1];\n",
       "        var image = mpl.toolbar_items[toolbar_ind][2];\n",
       "        var method_name = mpl.toolbar_items[toolbar_ind][3];\n",
       "\n",
       "        if (!name) { continue; };\n",
       "\n",
       "        var button = $('<button class=\"btn btn-default\" href=\"#\" title=\"' + name + '\"><i class=\"fa ' + image + ' fa-lg\"></i></button>');\n",
       "        button.click(method_name, toolbar_event);\n",
       "        button.mouseover(tooltip, toolbar_mouse_event);\n",
       "        nav_element.append(button);\n",
       "    }\n",
       "\n",
       "    // Add the status bar.\n",
       "    var status_bar = $('<span class=\"mpl-message\" style=\"text-align:right; float: right;\"/>');\n",
       "    nav_element.append(status_bar);\n",
       "    this.message = status_bar[0];\n",
       "\n",
       "    // Add the close button to the window.\n",
       "    var buttongrp = $('<div class=\"btn-group inline pull-right\"></div>');\n",
       "    var button = $('<button class=\"btn btn-mini btn-primary\" href=\"#\" title=\"Stop Interaction\"><i class=\"fa fa-power-off icon-remove icon-large\"></i></button>');\n",
       "    button.click(function (evt) { fig.handle_close(fig, {}); } );\n",
       "    button.mouseover('Stop Interaction', toolbar_mouse_event);\n",
       "    buttongrp.append(button);\n",
       "    var titlebar = this.root.find($('.ui-dialog-titlebar'));\n",
       "    titlebar.prepend(buttongrp);\n",
       "}\n",
       "\n",
       "mpl.figure.prototype._root_extra_style = function(el){\n",
       "    var fig = this\n",
       "    el.on(\"remove\", function(){\n",
       "\tfig.close_ws(fig, {});\n",
       "    });\n",
       "}\n",
       "\n",
       "mpl.figure.prototype._canvas_extra_style = function(el){\n",
       "    // this is important to make the div 'focusable\n",
       "    el.attr('tabindex', 0)\n",
       "    // reach out to IPython and tell the keyboard manager to turn it's self\n",
       "    // off when our div gets focus\n",
       "\n",
       "    // location in version 3\n",
       "    if (IPython.notebook.keyboard_manager) {\n",
       "        IPython.notebook.keyboard_manager.register_events(el);\n",
       "    }\n",
       "    else {\n",
       "        // location in version 2\n",
       "        IPython.keyboard_manager.register_events(el);\n",
       "    }\n",
       "\n",
       "}\n",
       "\n",
       "mpl.figure.prototype._key_event_extra = function(event, name) {\n",
       "    var manager = IPython.notebook.keyboard_manager;\n",
       "    if (!manager)\n",
       "        manager = IPython.keyboard_manager;\n",
       "\n",
       "    // Check for shift+enter\n",
       "    if (event.shiftKey && event.which == 13) {\n",
       "        this.canvas_div.blur();\n",
       "        // select the cell after this one\n",
       "        var index = IPython.notebook.find_cell_index(this.cell_info[0]);\n",
       "        IPython.notebook.select(index + 1);\n",
       "    }\n",
       "}\n",
       "\n",
       "mpl.figure.prototype.handle_save = function(fig, msg) {\n",
       "    fig.ondownload(fig, null);\n",
       "}\n",
       "\n",
       "\n",
       "mpl.find_output_cell = function(html_output) {\n",
       "    // Return the cell and output element which can be found *uniquely* in the notebook.\n",
       "    // Note - this is a bit hacky, but it is done because the \"notebook_saving.Notebook\"\n",
       "    // IPython event is triggered only after the cells have been serialised, which for\n",
       "    // our purposes (turning an active figure into a static one), is too late.\n",
       "    var cells = IPython.notebook.get_cells();\n",
       "    var ncells = cells.length;\n",
       "    for (var i=0; i<ncells; i++) {\n",
       "        var cell = cells[i];\n",
       "        if (cell.cell_type === 'code'){\n",
       "            for (var j=0; j<cell.output_area.outputs.length; j++) {\n",
       "                var data = cell.output_area.outputs[j];\n",
       "                if (data.data) {\n",
       "                    // IPython >= 3 moved mimebundle to data attribute of output\n",
       "                    data = data.data;\n",
       "                }\n",
       "                if (data['text/html'] == html_output) {\n",
       "                    return [cell, data, j];\n",
       "                }\n",
       "            }\n",
       "        }\n",
       "    }\n",
       "}\n",
       "\n",
       "// Register the function which deals with the matplotlib target/channel.\n",
       "// The kernel may be null if the page has been refreshed.\n",
       "if (IPython.notebook.kernel != null) {\n",
       "    IPython.notebook.kernel.comm_manager.register_target('matplotlib', mpl.mpl_figure_comm);\n",
       "}\n"
      ],
      "text/plain": [
       "<IPython.core.display.Javascript object>"
      ]
     },
     "metadata": {},
     "output_type": "display_data"
    },
    {
     "data": {
      "text/html": [
       "<img src=\"data:image/png;base64,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\" width=\"1000\">"
      ],
      "text/plain": [
       "<IPython.core.display.HTML object>"
      ]
     },
     "metadata": {},
     "output_type": "display_data"
    }
   ],
   "source": [
    "ax, tax, lax, lines = dual_train_plots()\n",
    "fig = ax.figure\n",
    "plt.tight_layout()\n",
    "# This gets built up during the run - do not rerun this cell\n",
    "results = pd.DataFrame([], columns=Results._fields)"
   ]
  },
  {
   "cell_type": "code",
   "execution_count": 12,
   "metadata": {
    "scrolled": true
   },
   "outputs": [
    {
     "name": "stdout",
     "output_type": "stream",
     "text": [
      "for model:  UNet_D(\n",
      "  (d2): MaxPool1d(kernel_size=2, stride=2, padding=0, dilation=1, ceil_mode=False)\n",
      "  (d4): MaxPool1d(kernel_size=4, stride=4, padding=0, dilation=1, ceil_mode=False)\n",
      "  (rcbn1): ConvBNRelu_D(\n",
      "    (0): Conv1d(1, 24, kernel_size=(25,), stride=(1,), padding=(12,))\n",
      "    (1): BatchNorm1d(24, eps=1e-05, momentum=0.1, affine=True, track_running_stats=True)\n",
      "    (2): LeakyReLU(negative_slope=0.01)\n",
      "  )\n",
      "  (rcbn2): ConvBNRelu_D(\n",
      "    (0): Conv1d(24, 24, kernel_size=(7,), stride=(1,), padding=(3,))\n",
      "    (1): BatchNorm1d(24, eps=1e-05, momentum=0.1, affine=True, track_running_stats=True)\n",
      "    (2): LeakyReLU(negative_slope=0.01)\n",
      "  )\n",
      "  (rcbn3): ConvBNRelu_D(\n",
      "    (0): Conv1d(24, 24, kernel_size=(5,), stride=(1,), padding=(2,))\n",
      "    (1): BatchNorm1d(24, eps=1e-05, momentum=0.1, affine=True, track_running_stats=True)\n",
      "    (2): LeakyReLU(negative_slope=0.01)\n",
      "  )\n",
      "  (rcbn4): ConvBNRelu_D(\n",
      "    (0): Conv1d(24, 24, kernel_size=(3,), stride=(1,), padding=(1,))\n",
      "    (1): BatchNorm1d(24, eps=1e-05, momentum=0.1, affine=True, track_running_stats=True)\n",
      "    (2): LeakyReLU(negative_slope=0.01)\n",
      "  )\n",
      "  (up1): Up_D(\n",
      "    (0): ConvTranspose1d(24, 24, kernel_size=(4,), stride=(4,))\n",
      "    (1): ConvBNRelu_D(\n",
      "      (0): Conv1d(24, 24, kernel_size=(5,), stride=(1,), padding=(2,))\n",
      "      (1): BatchNorm1d(24, eps=1e-05, momentum=0.1, affine=True, track_running_stats=True)\n",
      "      (2): LeakyReLU(negative_slope=0.01)\n",
      "    )\n",
      "  )\n",
      "  (up2): Up_D(\n",
      "    (0): ConvTranspose1d(48, 24, kernel_size=(4,), stride=(4,))\n",
      "    (1): ConvBNRelu_D(\n",
      "      (0): Conv1d(24, 24, kernel_size=(5,), stride=(1,), padding=(2,))\n",
      "      (1): BatchNorm1d(24, eps=1e-05, momentum=0.1, affine=True, track_running_stats=True)\n",
      "      (2): LeakyReLU(negative_slope=0.01)\n",
      "    )\n",
      "  )\n",
      "  (up3): Up_D(\n",
      "    (0): ConvTranspose1d(48, 24, kernel_size=(2,), stride=(2,))\n",
      "    (1): ConvBNRelu_D(\n",
      "      (0): Conv1d(24, 24, kernel_size=(5,), stride=(1,), padding=(2,))\n",
      "      (1): BatchNorm1d(24, eps=1e-05, momentum=0.1, affine=True, track_running_stats=True)\n",
      "      (2): LeakyReLU(negative_slope=0.01)\n",
      "    )\n",
      "  )\n",
      "  (outc): Conv1d(48, 1, kernel_size=(5,), stride=(1,), padding=(2,))\n",
      ")\n",
      "epoch_start 0\n",
      "batch_size 128\n",
      "epochs 1000\n",
      "lr 0.001\n",
      "Number of batches: train = 1250, val = 78\n"
     ]
    },
    {
     "name": "stderr",
     "output_type": "stream",
     "text": [
      "/home/michael24peters/pv-finder_experimental/notebooks/model/training.py:95: TqdmDeprecationWarning: This function will be removed in tqdm==5.0.0\n",
      "Please use `tqdm.notebook.tqdm` instead of `tqdm.tqdm_notebook`\n",
      "  file=sys.stderr,\n"
     ]
    },
    {
     "data": {
      "application/vnd.jupyter.widget-view+json": {
       "model_id": "0d4beca4779d4d7892c63873a66e95c4",
       "version_major": 2,
       "version_minor": 0
      },
      "text/plain": [
       "HBox(children=(FloatProgress(value=0.0, description='Epochs', layout=Layout(flex='2'), max=1000.0, style=Progr…"
      ]
     },
     "metadata": {},
     "output_type": "display_data"
    },
    {
     "data": {
      "application/vnd.jupyter.widget-view+json": {
       "model_id": "",
       "version_major": 2,
       "version_minor": 0
      },
      "text/plain": [
       "HBox(children=(FloatProgress(value=0.0, description='Training', layout=Layout(flex='2'), max=1250.0, style=Pro…"
      ]
     },
     "metadata": {},
     "output_type": "display_data"
    },
    {
     "name": "stdout",
     "output_type": "stream",
     "text": [
      "Epoch 0: train=62.7708, val=8.91952, took 239.86 s\n",
      "  Validation Found 50299 of 54504, added 2016 (eff 92.28%) (0.202 FP/event)\n"
     ]
    },
    {
     "data": {
      "application/vnd.jupyter.widget-view+json": {
       "model_id": "",
       "version_major": 2,
       "version_minor": 0
      },
      "text/plain": [
       "HBox(children=(FloatProgress(value=0.0, description='Training', layout=Layout(flex='2'), max=1250.0, style=Pro…"
      ]
     },
     "metadata": {},
     "output_type": "display_data"
    },
    {
     "name": "stdout",
     "output_type": "stream",
     "text": [
      "Epoch 1: train=8.05116, val=9.0562, took 230.38 s\n",
      "  Validation Found 49907 of 54504, added 1280 (eff 91.57%) (0.128 FP/event)\n"
     ]
    },
    {
     "data": {
      "application/vnd.jupyter.widget-view+json": {
       "model_id": "",
       "version_major": 2,
       "version_minor": 0
      },
      "text/plain": [
       "HBox(children=(FloatProgress(value=0.0, description='Training', layout=Layout(flex='2'), max=1250.0, style=Pro…"
      ]
     },
     "metadata": {},
     "output_type": "display_data"
    },
    {
     "name": "stdout",
     "output_type": "stream",
     "text": [
      "Epoch 2: train=7.84594, val=8.4178, took 223.52 s\n",
      "  Validation Found 50830 of 54504, added 1929 (eff 93.26%) (0.193 FP/event)\n"
     ]
    },
    {
     "data": {
      "application/vnd.jupyter.widget-view+json": {
       "model_id": "",
       "version_major": 2,
       "version_minor": 0
      },
      "text/plain": [
       "HBox(children=(FloatProgress(value=0.0, description='Training', layout=Layout(flex='2'), max=1250.0, style=Pro…"
      ]
     },
     "metadata": {},
     "output_type": "display_data"
    },
    {
     "name": "stdout",
     "output_type": "stream",
     "text": [
      "Epoch 3: train=7.75499, val=8.31661, took 222.21 s\n",
      "  Validation Found 50658 of 54504, added 1662 (eff 92.94%) (0.166 FP/event)\n"
     ]
    },
    {
     "data": {
      "application/vnd.jupyter.widget-view+json": {
       "model_id": "",
       "version_major": 2,
       "version_minor": 0
      },
      "text/plain": [
       "HBox(children=(FloatProgress(value=0.0, description='Training', layout=Layout(flex='2'), max=1250.0, style=Pro…"
      ]
     },
     "metadata": {},
     "output_type": "display_data"
    },
    {
     "name": "stdout",
     "output_type": "stream",
     "text": [
      "Epoch 4: train=7.69352, val=8.20994, took 222.86 s\n",
      "  Validation Found 50611 of 54504, added 1490 (eff 92.86%) (0.149 FP/event)\n"
     ]
    },
    {
     "data": {
      "application/vnd.jupyter.widget-view+json": {
       "model_id": "",
       "version_major": 2,
       "version_minor": 0
      },
      "text/plain": [
       "HBox(children=(FloatProgress(value=0.0, description='Training', layout=Layout(flex='2'), max=1250.0, style=Pro…"
      ]
     },
     "metadata": {},
     "output_type": "display_data"
    },
    {
     "name": "stdout",
     "output_type": "stream",
     "text": [
      "Epoch 5: train=7.64513, val=8.46337, took 225.02 s\n",
      "  Validation Found 51539 of 54504, added 3395 (eff 94.56%) (0.34 FP/event)\n"
     ]
    },
    {
     "data": {
      "application/vnd.jupyter.widget-view+json": {
       "model_id": "",
       "version_major": 2,
       "version_minor": 0
      },
      "text/plain": [
       "HBox(children=(FloatProgress(value=0.0, description='Training', layout=Layout(flex='2'), max=1250.0, style=Pro…"
      ]
     },
     "metadata": {},
     "output_type": "display_data"
    },
    {
     "name": "stdout",
     "output_type": "stream",
     "text": [
      "Epoch 6: train=7.61035, val=8.21894, took 234.22 s\n",
      "  Validation Found 51139 of 54504, added 2027 (eff 93.83%) (0.203 FP/event)\n"
     ]
    },
    {
     "data": {
      "application/vnd.jupyter.widget-view+json": {
       "model_id": "",
       "version_major": 2,
       "version_minor": 0
      },
      "text/plain": [
       "HBox(children=(FloatProgress(value=0.0, description='Training', layout=Layout(flex='2'), max=1250.0, style=Pro…"
      ]
     },
     "metadata": {},
     "output_type": "display_data"
    },
    {
     "name": "stdout",
     "output_type": "stream",
     "text": [
      "Epoch 7: train=7.58917, val=8.10103, took 232.85 s\n",
      "  Validation Found 50843 of 54504, added 1493 (eff 93.28%) (0.15 FP/event)\n"
     ]
    },
    {
     "data": {
      "application/vnd.jupyter.widget-view+json": {
       "model_id": "",
       "version_major": 2,
       "version_minor": 0
      },
      "text/plain": [
       "HBox(children=(FloatProgress(value=0.0, description='Training', layout=Layout(flex='2'), max=1250.0, style=Pro…"
      ]
     },
     "metadata": {},
     "output_type": "display_data"
    },
    {
     "name": "stdout",
     "output_type": "stream",
     "text": [
      "Epoch 8: train=7.55694, val=8.06829, took 231.36 s\n",
      "  Validation Found 51161 of 54504, added 1983 (eff 93.87%) (0.199 FP/event)\n"
     ]
    },
    {
     "data": {
      "application/vnd.jupyter.widget-view+json": {
       "model_id": "",
       "version_major": 2,
       "version_minor": 0
      },
      "text/plain": [
       "HBox(children=(FloatProgress(value=0.0, description='Training', layout=Layout(flex='2'), max=1250.0, style=Pro…"
      ]
     },
     "metadata": {},
     "output_type": "display_data"
    },
    {
     "name": "stdout",
     "output_type": "stream",
     "text": [
      "Epoch 9: train=7.53157, val=8.07882, took 229.25 s\n",
      "  Validation Found 51061 of 54504, added 1725 (eff 93.68%) (0.173 FP/event)\n"
     ]
    },
    {
     "data": {
      "application/vnd.jupyter.widget-view+json": {
       "model_id": "",
       "version_major": 2,
       "version_minor": 0
      },
      "text/plain": [
       "HBox(children=(FloatProgress(value=0.0, description='Training', layout=Layout(flex='2'), max=1250.0, style=Pro…"
      ]
     },
     "metadata": {},
     "output_type": "display_data"
    },
    {
     "name": "stdout",
     "output_type": "stream",
     "text": [
      "Epoch 10: train=7.50714, val=9.85146, took 235.65 s\n",
      "  Validation Found 48879 of 54504, added 854 (eff 89.68%) (0.0855 FP/event)\n"
     ]
    },
    {
     "data": {
      "application/vnd.jupyter.widget-view+json": {
       "model_id": "",
       "version_major": 2,
       "version_minor": 0
      },
      "text/plain": [
       "HBox(children=(FloatProgress(value=0.0, description='Training', layout=Layout(flex='2'), max=1250.0, style=Pro…"
      ]
     },
     "metadata": {},
     "output_type": "display_data"
    },
    {
     "name": "stdout",
     "output_type": "stream",
     "text": [
      "Epoch 11: train=7.48267, val=8.1652, took 239.44 s\n",
      "  Validation Found 50967 of 54504, added 1536 (eff 93.51%) (0.154 FP/event)\n"
     ]
    },
    {
     "data": {
      "application/vnd.jupyter.widget-view+json": {
       "model_id": "",
       "version_major": 2,
       "version_minor": 0
      },
      "text/plain": [
       "HBox(children=(FloatProgress(value=0.0, description='Training', layout=Layout(flex='2'), max=1250.0, style=Pro…"
      ]
     },
     "metadata": {},
     "output_type": "display_data"
    },
    {
     "name": "stdout",
     "output_type": "stream",
     "text": [
      "Epoch 12: train=7.46749, val=7.84726, took 239.11 s\n",
      "  Validation Found 51328 of 54504, added 1916 (eff 94.17%) (0.192 FP/event)\n"
     ]
    },
    {
     "data": {
      "application/vnd.jupyter.widget-view+json": {
       "model_id": "",
       "version_major": 2,
       "version_minor": 0
      },
      "text/plain": [
       "HBox(children=(FloatProgress(value=0.0, description='Training', layout=Layout(flex='2'), max=1250.0, style=Pro…"
      ]
     },
     "metadata": {},
     "output_type": "display_data"
    },
    {
     "name": "stdout",
     "output_type": "stream",
     "text": [
      "Epoch 13: train=7.45129, val=8.16409, took 239.27 s\n",
      "  Validation Found 50998 of 54504, added 1608 (eff 93.57%) (0.161 FP/event)\n"
     ]
    },
    {
     "data": {
      "application/vnd.jupyter.widget-view+json": {
       "model_id": "",
       "version_major": 2,
       "version_minor": 0
      },
      "text/plain": [
       "HBox(children=(FloatProgress(value=0.0, description='Training', layout=Layout(flex='2'), max=1250.0, style=Pro…"
      ]
     },
     "metadata": {},
     "output_type": "display_data"
    },
    {
     "name": "stdout",
     "output_type": "stream",
     "text": [
      "Epoch 14: train=7.43802, val=8.28476, took 239.32 s\n",
      "  Validation Found 51771 of 54504, added 3319 (eff 94.99%) (0.332 FP/event)\n"
     ]
    },
    {
     "data": {
      "application/vnd.jupyter.widget-view+json": {
       "model_id": "",
       "version_major": 2,
       "version_minor": 0
      },
      "text/plain": [
       "HBox(children=(FloatProgress(value=0.0, description='Training', layout=Layout(flex='2'), max=1250.0, style=Pro…"
      ]
     },
     "metadata": {},
     "output_type": "display_data"
    },
    {
     "name": "stdout",
     "output_type": "stream",
     "text": [
      "Epoch 15: train=7.42288, val=8.0485, took 239.71 s\n",
      "  Validation Found 51314 of 54504, added 1716 (eff 94.15%) (0.172 FP/event)\n"
     ]
    },
    {
     "data": {
      "application/vnd.jupyter.widget-view+json": {
       "model_id": "",
       "version_major": 2,
       "version_minor": 0
      },
      "text/plain": [
       "HBox(children=(FloatProgress(value=0.0, description='Training', layout=Layout(flex='2'), max=1250.0, style=Pro…"
      ]
     },
     "metadata": {},
     "output_type": "display_data"
    },
    {
     "name": "stdout",
     "output_type": "stream",
     "text": [
      "Epoch 16: train=7.40749, val=7.87817, took 239.09 s\n",
      "  Validation Found 51311 of 54504, added 1739 (eff 94.14%) (0.174 FP/event)\n"
     ]
    },
    {
     "data": {
      "application/vnd.jupyter.widget-view+json": {
       "model_id": "",
       "version_major": 2,
       "version_minor": 0
      },
      "text/plain": [
       "HBox(children=(FloatProgress(value=0.0, description='Training', layout=Layout(flex='2'), max=1250.0, style=Pro…"
      ]
     },
     "metadata": {},
     "output_type": "display_data"
    },
    {
     "name": "stdout",
     "output_type": "stream",
     "text": [
      "Epoch 17: train=7.39511, val=8.72137, took 239.27 s\n",
      "  Validation Found 50081 of 54504, added 1041 (eff 91.88%) (0.104 FP/event)\n"
     ]
    },
    {
     "data": {
      "application/vnd.jupyter.widget-view+json": {
       "model_id": "",
       "version_major": 2,
       "version_minor": 0
      },
      "text/plain": [
       "HBox(children=(FloatProgress(value=0.0, description='Training', layout=Layout(flex='2'), max=1250.0, style=Pro…"
      ]
     },
     "metadata": {},
     "output_type": "display_data"
    },
    {
     "name": "stdout",
     "output_type": "stream",
     "text": [
      "Epoch 18: train=7.3936, val=7.79062, took 239.17 s\n",
      "  Validation Found 51483 of 54504, added 2205 (eff 94.46%) (0.221 FP/event)\n"
     ]
    },
    {
     "data": {
      "application/vnd.jupyter.widget-view+json": {
       "model_id": "",
       "version_major": 2,
       "version_minor": 0
      },
      "text/plain": [
       "HBox(children=(FloatProgress(value=0.0, description='Training', layout=Layout(flex='2'), max=1250.0, style=Pro…"
      ]
     },
     "metadata": {},
     "output_type": "display_data"
    },
    {
     "name": "stdout",
     "output_type": "stream",
     "text": [
      "Epoch 19: train=7.37891, val=8.09993, took 238.71 s\n",
      "  Validation Found 51088 of 54504, added 1643 (eff 93.73%) (0.165 FP/event)\n"
     ]
    },
    {
     "data": {
      "application/vnd.jupyter.widget-view+json": {
       "model_id": "",
       "version_major": 2,
       "version_minor": 0
      },
      "text/plain": [
       "HBox(children=(FloatProgress(value=0.0, description='Training', layout=Layout(flex='2'), max=1250.0, style=Pro…"
      ]
     },
     "metadata": {},
     "output_type": "display_data"
    },
    {
     "name": "stdout",
     "output_type": "stream",
     "text": [
      "Epoch 20: train=7.36787, val=7.74278, took 239.11 s\n",
      "  Validation Found 51167 of 54504, added 1559 (eff 93.88%) (0.156 FP/event)\n"
     ]
    },
    {
     "data": {
      "application/vnd.jupyter.widget-view+json": {
       "model_id": "",
       "version_major": 2,
       "version_minor": 0
      },
      "text/plain": [
       "HBox(children=(FloatProgress(value=0.0, description='Training', layout=Layout(flex='2'), max=1250.0, style=Pro…"
      ]
     },
     "metadata": {},
     "output_type": "display_data"
    },
    {
     "name": "stdout",
     "output_type": "stream",
     "text": [
      "Epoch 21: train=7.36006, val=8.47679, took 239.32 s\n",
      "  Validation Found 50191 of 54504, added 1017 (eff 92.09%) (0.102 FP/event)\n"
     ]
    },
    {
     "data": {
      "application/vnd.jupyter.widget-view+json": {
       "model_id": "",
       "version_major": 2,
       "version_minor": 0
      },
      "text/plain": [
       "HBox(children=(FloatProgress(value=0.0, description='Training', layout=Layout(flex='2'), max=1250.0, style=Pro…"
      ]
     },
     "metadata": {},
     "output_type": "display_data"
    },
    {
     "name": "stdout",
     "output_type": "stream",
     "text": [
      "Epoch 22: train=7.35671, val=7.6701, took 239.19 s\n",
      "  Validation Found 51417 of 54504, added 1871 (eff 94.34%) (0.187 FP/event)\n"
     ]
    },
    {
     "data": {
      "application/vnd.jupyter.widget-view+json": {
       "model_id": "",
       "version_major": 2,
       "version_minor": 0
      },
      "text/plain": [
       "HBox(children=(FloatProgress(value=0.0, description='Training', layout=Layout(flex='2'), max=1250.0, style=Pro…"
      ]
     },
     "metadata": {},
     "output_type": "display_data"
    },
    {
     "name": "stdout",
     "output_type": "stream",
     "text": [
      "Epoch 23: train=7.34585, val=8.31876, took 239.1 s\n",
      "  Validation Found 51156 of 54504, added 1888 (eff 93.86%) (0.189 FP/event)\n"
     ]
    },
    {
     "data": {
      "application/vnd.jupyter.widget-view+json": {
       "model_id": "",
       "version_major": 2,
       "version_minor": 0
      },
      "text/plain": [
       "HBox(children=(FloatProgress(value=0.0, description='Training', layout=Layout(flex='2'), max=1250.0, style=Pro…"
      ]
     },
     "metadata": {},
     "output_type": "display_data"
    },
    {
     "name": "stdout",
     "output_type": "stream",
     "text": [
      "Epoch 24: train=7.33478, val=7.67886, took 238.89 s\n",
      "  Validation Found 51606 of 54504, added 2082 (eff 94.68%) (0.209 FP/event)\n"
     ]
    },
    {
     "data": {
      "application/vnd.jupyter.widget-view+json": {
       "model_id": "",
       "version_major": 2,
       "version_minor": 0
      },
      "text/plain": [
       "HBox(children=(FloatProgress(value=0.0, description='Training', layout=Layout(flex='2'), max=1250.0, style=Pro…"
      ]
     },
     "metadata": {},
     "output_type": "display_data"
    },
    {
     "name": "stdout",
     "output_type": "stream",
     "text": [
      "Epoch 25: train=7.3305, val=7.78185, took 238.95 s\n",
      "  Validation Found 51199 of 54504, added 1594 (eff 93.94%) (0.16 FP/event)\n"
     ]
    },
    {
     "data": {
      "application/vnd.jupyter.widget-view+json": {
       "model_id": "",
       "version_major": 2,
       "version_minor": 0
      },
      "text/plain": [
       "HBox(children=(FloatProgress(value=0.0, description='Training', layout=Layout(flex='2'), max=1250.0, style=Pro…"
      ]
     },
     "metadata": {},
     "output_type": "display_data"
    },
    {
     "name": "stdout",
     "output_type": "stream",
     "text": [
      "Epoch 26: train=7.32625, val=7.81294, took 239.05 s\n",
      "  Validation Found 51291 of 54504, added 1807 (eff 94.11%) (0.181 FP/event)\n"
     ]
    },
    {
     "data": {
      "application/vnd.jupyter.widget-view+json": {
       "model_id": "",
       "version_major": 2,
       "version_minor": 0
      },
      "text/plain": [
       "HBox(children=(FloatProgress(value=0.0, description='Training', layout=Layout(flex='2'), max=1250.0, style=Pro…"
      ]
     },
     "metadata": {},
     "output_type": "display_data"
    },
    {
     "name": "stdout",
     "output_type": "stream",
     "text": [
      "Epoch 27: train=7.32085, val=7.77189, took 238.65 s\n",
      "  Validation Found 51192 of 54504, added 1578 (eff 93.92%) (0.158 FP/event)\n"
     ]
    },
    {
     "data": {
      "application/vnd.jupyter.widget-view+json": {
       "model_id": "",
       "version_major": 2,
       "version_minor": 0
      },
      "text/plain": [
       "HBox(children=(FloatProgress(value=0.0, description='Training', layout=Layout(flex='2'), max=1250.0, style=Pro…"
      ]
     },
     "metadata": {},
     "output_type": "display_data"
    },
    {
     "name": "stdout",
     "output_type": "stream",
     "text": [
      "Epoch 28: train=7.30965, val=7.75738, took 239.24 s\n",
      "  Validation Found 51206 of 54504, added 1575 (eff 93.95%) (0.158 FP/event)\n"
     ]
    },
    {
     "data": {
      "application/vnd.jupyter.widget-view+json": {
       "model_id": "",
       "version_major": 2,
       "version_minor": 0
      },
      "text/plain": [
       "HBox(children=(FloatProgress(value=0.0, description='Training', layout=Layout(flex='2'), max=1250.0, style=Pro…"
      ]
     },
     "metadata": {},
     "output_type": "display_data"
    },
    {
     "name": "stdout",
     "output_type": "stream",
     "text": [
      "Epoch 29: train=7.30724, val=7.65137, took 239.17 s\n",
      "  Validation Found 51491 of 54504, added 1865 (eff 94.47%) (0.187 FP/event)\n"
     ]
    },
    {
     "data": {
      "application/vnd.jupyter.widget-view+json": {
       "model_id": "",
       "version_major": 2,
       "version_minor": 0
      },
      "text/plain": [
       "HBox(children=(FloatProgress(value=0.0, description='Training', layout=Layout(flex='2'), max=1250.0, style=Pro…"
      ]
     },
     "metadata": {},
     "output_type": "display_data"
    },
    {
     "name": "stdout",
     "output_type": "stream",
     "text": [
      "Epoch 30: train=7.30191, val=7.56039, took 238.08 s\n",
      "  Validation Found 51626 of 54504, added 2051 (eff 94.72%) (0.205 FP/event)\n"
     ]
    },
    {
     "data": {
      "application/vnd.jupyter.widget-view+json": {
       "model_id": "",
       "version_major": 2,
       "version_minor": 0
      },
      "text/plain": [
       "HBox(children=(FloatProgress(value=0.0, description='Training', layout=Layout(flex='2'), max=1250.0, style=Pro…"
      ]
     },
     "metadata": {},
     "output_type": "display_data"
    },
    {
     "name": "stdout",
     "output_type": "stream",
     "text": [
      "Epoch 31: train=7.29731, val=7.81949, took 239.44 s\n",
      "  Validation Found 51357 of 54504, added 1870 (eff 94.23%) (0.187 FP/event)\n"
     ]
    },
    {
     "data": {
      "application/vnd.jupyter.widget-view+json": {
       "model_id": "",
       "version_major": 2,
       "version_minor": 0
      },
      "text/plain": [
       "HBox(children=(FloatProgress(value=0.0, description='Training', layout=Layout(flex='2'), max=1250.0, style=Pro…"
      ]
     },
     "metadata": {},
     "output_type": "display_data"
    },
    {
     "name": "stdout",
     "output_type": "stream",
     "text": [
      "Epoch 32: train=7.29429, val=7.92018, took 239.6 s\n",
      "  Validation Found 51387 of 54504, added 1802 (eff 94.28%) (0.18 FP/event)\n"
     ]
    },
    {
     "data": {
      "application/vnd.jupyter.widget-view+json": {
       "model_id": "",
       "version_major": 2,
       "version_minor": 0
      },
      "text/plain": [
       "HBox(children=(FloatProgress(value=0.0, description='Training', layout=Layout(flex='2'), max=1250.0, style=Pro…"
      ]
     },
     "metadata": {},
     "output_type": "display_data"
    },
    {
     "name": "stdout",
     "output_type": "stream",
     "text": [
      "Epoch 33: train=7.285, val=7.76611, took 239.65 s\n",
      "  Validation Found 51108 of 54504, added 1427 (eff 93.77%) (0.143 FP/event)\n"
     ]
    },
    {
     "data": {
      "application/vnd.jupyter.widget-view+json": {
       "model_id": "",
       "version_major": 2,
       "version_minor": 0
      },
      "text/plain": [
       "HBox(children=(FloatProgress(value=0.0, description='Training', layout=Layout(flex='2'), max=1250.0, style=Pro…"
      ]
     },
     "metadata": {},
     "output_type": "display_data"
    },
    {
     "name": "stdout",
     "output_type": "stream",
     "text": [
      "Epoch 34: train=7.28127, val=8.17294, took 239.49 s\n",
      "  Validation Found 51451 of 54504, added 2241 (eff 94.40%) (0.224 FP/event)\n"
     ]
    },
    {
     "data": {
      "application/vnd.jupyter.widget-view+json": {
       "model_id": "",
       "version_major": 2,
       "version_minor": 0
      },
      "text/plain": [
       "HBox(children=(FloatProgress(value=0.0, description='Training', layout=Layout(flex='2'), max=1250.0, style=Pro…"
      ]
     },
     "metadata": {},
     "output_type": "display_data"
    },
    {
     "name": "stdout",
     "output_type": "stream",
     "text": [
      "Epoch 35: train=7.27858, val=7.5567, took 239.03 s\n",
      "  Validation Found 51662 of 54504, added 2103 (eff 94.79%) (0.211 FP/event)\n"
     ]
    },
    {
     "data": {
      "application/vnd.jupyter.widget-view+json": {
       "model_id": "",
       "version_major": 2,
       "version_minor": 0
      },
      "text/plain": [
       "HBox(children=(FloatProgress(value=0.0, description='Training', layout=Layout(flex='2'), max=1250.0, style=Pro…"
      ]
     },
     "metadata": {},
     "output_type": "display_data"
    },
    {
     "name": "stdout",
     "output_type": "stream",
     "text": [
      "Epoch 36: train=7.27422, val=7.92963, took 239.38 s\n",
      "  Validation Found 51173 of 54504, added 1562 (eff 93.89%) (0.156 FP/event)\n"
     ]
    },
    {
     "data": {
      "application/vnd.jupyter.widget-view+json": {
       "model_id": "",
       "version_major": 2,
       "version_minor": 0
      },
      "text/plain": [
       "HBox(children=(FloatProgress(value=0.0, description='Training', layout=Layout(flex='2'), max=1250.0, style=Pro…"
      ]
     },
     "metadata": {},
     "output_type": "display_data"
    },
    {
     "name": "stdout",
     "output_type": "stream",
     "text": [
      "Epoch 37: train=7.2671, val=7.82116, took 239.22 s\n",
      "  Validation Found 51291 of 54504, added 1580 (eff 94.11%) (0.158 FP/event)\n"
     ]
    },
    {
     "data": {
      "application/vnd.jupyter.widget-view+json": {
       "model_id": "",
       "version_major": 2,
       "version_minor": 0
      },
      "text/plain": [
       "HBox(children=(FloatProgress(value=0.0, description='Training', layout=Layout(flex='2'), max=1250.0, style=Pro…"
      ]
     },
     "metadata": {},
     "output_type": "display_data"
    },
    {
     "name": "stdout",
     "output_type": "stream",
     "text": [
      "Epoch 38: train=7.26819, val=7.79474, took 239.4 s\n",
      "  Validation Found 51754 of 54504, added 2486 (eff 94.95%) (0.249 FP/event)\n"
     ]
    },
    {
     "data": {
      "application/vnd.jupyter.widget-view+json": {
       "model_id": "",
       "version_major": 2,
       "version_minor": 0
      },
      "text/plain": [
       "HBox(children=(FloatProgress(value=0.0, description='Training', layout=Layout(flex='2'), max=1250.0, style=Pro…"
      ]
     },
     "metadata": {},
     "output_type": "display_data"
    },
    {
     "name": "stdout",
     "output_type": "stream",
     "text": [
      "Epoch 39: train=7.25901, val=7.84472, took 239.08 s\n",
      "  Validation Found 51175 of 54504, added 1468 (eff 93.89%) (0.147 FP/event)\n"
     ]
    },
    {
     "data": {
      "application/vnd.jupyter.widget-view+json": {
       "model_id": "",
       "version_major": 2,
       "version_minor": 0
      },
      "text/plain": [
       "HBox(children=(FloatProgress(value=0.0, description='Training', layout=Layout(flex='2'), max=1250.0, style=Pro…"
      ]
     },
     "metadata": {},
     "output_type": "display_data"
    },
    {
     "name": "stdout",
     "output_type": "stream",
     "text": [
      "Epoch 40: train=7.25628, val=7.82173, took 235.35 s\n",
      "  Validation Found 51388 of 54504, added 1720 (eff 94.28%) (0.172 FP/event)\n"
     ]
    },
    {
     "data": {
      "application/vnd.jupyter.widget-view+json": {
       "model_id": "",
       "version_major": 2,
       "version_minor": 0
      },
      "text/plain": [
       "HBox(children=(FloatProgress(value=0.0, description='Training', layout=Layout(flex='2'), max=1250.0, style=Pro…"
      ]
     },
     "metadata": {},
     "output_type": "display_data"
    },
    {
     "name": "stdout",
     "output_type": "stream",
     "text": [
      "Epoch 41: train=7.25366, val=8.22557, took 239.3 s\n",
      "  Validation Found 51144 of 54504, added 1858 (eff 93.84%) (0.186 FP/event)\n"
     ]
    },
    {
     "data": {
      "application/vnd.jupyter.widget-view+json": {
       "model_id": "",
       "version_major": 2,
       "version_minor": 0
      },
      "text/plain": [
       "HBox(children=(FloatProgress(value=0.0, description='Training', layout=Layout(flex='2'), max=1250.0, style=Pro…"
      ]
     },
     "metadata": {},
     "output_type": "display_data"
    },
    {
     "name": "stdout",
     "output_type": "stream",
     "text": [
      "Epoch 42: train=7.24834, val=7.91623, took 239.45 s\n",
      "  Validation Found 51315 of 54504, added 1751 (eff 94.15%) (0.175 FP/event)\n"
     ]
    },
    {
     "data": {
      "application/vnd.jupyter.widget-view+json": {
       "model_id": "",
       "version_major": 2,
       "version_minor": 0
      },
      "text/plain": [
       "HBox(children=(FloatProgress(value=0.0, description='Training', layout=Layout(flex='2'), max=1250.0, style=Pro…"
      ]
     },
     "metadata": {},
     "output_type": "display_data"
    },
    {
     "name": "stdout",
     "output_type": "stream",
     "text": [
      "Epoch 43: train=7.23937, val=7.71011, took 239.32 s\n",
      "  Validation Found 51574 of 54504, added 1985 (eff 94.62%) (0.199 FP/event)\n"
     ]
    },
    {
     "data": {
      "application/vnd.jupyter.widget-view+json": {
       "model_id": "",
       "version_major": 2,
       "version_minor": 0
      },
      "text/plain": [
       "HBox(children=(FloatProgress(value=0.0, description='Training', layout=Layout(flex='2'), max=1250.0, style=Pro…"
      ]
     },
     "metadata": {},
     "output_type": "display_data"
    },
    {
     "name": "stdout",
     "output_type": "stream",
     "text": [
      "Epoch 44: train=7.24141, val=7.94841, took 239.41 s\n",
      "  Validation Found 51236 of 54504, added 1485 (eff 94.00%) (0.149 FP/event)\n"
     ]
    },
    {
     "data": {
      "application/vnd.jupyter.widget-view+json": {
       "model_id": "",
       "version_major": 2,
       "version_minor": 0
      },
      "text/plain": [
       "HBox(children=(FloatProgress(value=0.0, description='Training', layout=Layout(flex='2'), max=1250.0, style=Pro…"
      ]
     },
     "metadata": {},
     "output_type": "display_data"
    },
    {
     "name": "stdout",
     "output_type": "stream",
     "text": [
      "Epoch 45: train=7.23681, val=7.85257, took 239.17 s\n",
      "  Validation Found 51238 of 54504, added 1559 (eff 94.01%) (0.156 FP/event)\n"
     ]
    },
    {
     "data": {
      "application/vnd.jupyter.widget-view+json": {
       "model_id": "",
       "version_major": 2,
       "version_minor": 0
      },
      "text/plain": [
       "HBox(children=(FloatProgress(value=0.0, description='Training', layout=Layout(flex='2'), max=1250.0, style=Pro…"
      ]
     },
     "metadata": {},
     "output_type": "display_data"
    },
    {
     "name": "stdout",
     "output_type": "stream",
     "text": [
      "Epoch 46: train=7.23475, val=7.69437, took 239.27 s\n",
      "  Validation Found 51733 of 54504, added 2396 (eff 94.92%) (0.24 FP/event)\n"
     ]
    },
    {
     "data": {
      "application/vnd.jupyter.widget-view+json": {
       "model_id": "",
       "version_major": 2,
       "version_minor": 0
      },
      "text/plain": [
       "HBox(children=(FloatProgress(value=0.0, description='Training', layout=Layout(flex='2'), max=1250.0, style=Pro…"
      ]
     },
     "metadata": {},
     "output_type": "display_data"
    },
    {
     "name": "stdout",
     "output_type": "stream",
     "text": [
      "Epoch 47: train=7.22595, val=7.94517, took 239.24 s\n",
      "  Validation Found 51070 of 54504, added 1439 (eff 93.70%) (0.144 FP/event)\n"
     ]
    },
    {
     "data": {
      "application/vnd.jupyter.widget-view+json": {
       "model_id": "",
       "version_major": 2,
       "version_minor": 0
      },
      "text/plain": [
       "HBox(children=(FloatProgress(value=0.0, description='Training', layout=Layout(flex='2'), max=1250.0, style=Pro…"
      ]
     },
     "metadata": {},
     "output_type": "display_data"
    },
    {
     "name": "stdout",
     "output_type": "stream",
     "text": [
      "Epoch 48: train=7.22177, val=7.81397, took 239.57 s\n",
      "  Validation Found 51172 of 54504, added 1458 (eff 93.89%) (0.146 FP/event)\n"
     ]
    },
    {
     "data": {
      "application/vnd.jupyter.widget-view+json": {
       "model_id": "",
       "version_major": 2,
       "version_minor": 0
      },
      "text/plain": [
       "HBox(children=(FloatProgress(value=0.0, description='Training', layout=Layout(flex='2'), max=1250.0, style=Pro…"
      ]
     },
     "metadata": {},
     "output_type": "display_data"
    },
    {
     "name": "stdout",
     "output_type": "stream",
     "text": [
      "Epoch 49: train=7.22465, val=7.64496, took 239.21 s\n",
      "  Validation Found 51622 of 54504, added 2003 (eff 94.71%) (0.201 FP/event)\n"
     ]
    },
    {
     "data": {
      "application/vnd.jupyter.widget-view+json": {
       "model_id": "",
       "version_major": 2,
       "version_minor": 0
      },
      "text/plain": [
       "HBox(children=(FloatProgress(value=0.0, description='Training', layout=Layout(flex='2'), max=1250.0, style=Pro…"
      ]
     },
     "metadata": {},
     "output_type": "display_data"
    },
    {
     "name": "stdout",
     "output_type": "stream",
     "text": [
      "Epoch 50: train=7.21974, val=7.83521, took 238.09 s\n",
      "  Validation Found 51158 of 54504, added 1474 (eff 93.86%) (0.148 FP/event)\n"
     ]
    },
    {
     "data": {
      "application/vnd.jupyter.widget-view+json": {
       "model_id": "",
       "version_major": 2,
       "version_minor": 0
      },
      "text/plain": [
       "HBox(children=(FloatProgress(value=0.0, description='Training', layout=Layout(flex='2'), max=1250.0, style=Pro…"
      ]
     },
     "metadata": {},
     "output_type": "display_data"
    },
    {
     "name": "stdout",
     "output_type": "stream",
     "text": [
      "Epoch 51: train=7.21674, val=7.68599, took 239.49 s\n",
      "  Validation Found 51420 of 54504, added 1742 (eff 94.34%) (0.174 FP/event)\n"
     ]
    },
    {
     "data": {
      "application/vnd.jupyter.widget-view+json": {
       "model_id": "",
       "version_major": 2,
       "version_minor": 0
      },
      "text/plain": [
       "HBox(children=(FloatProgress(value=0.0, description='Training', layout=Layout(flex='2'), max=1250.0, style=Pro…"
      ]
     },
     "metadata": {},
     "output_type": "display_data"
    },
    {
     "name": "stdout",
     "output_type": "stream",
     "text": [
      "Epoch 52: train=7.2103, val=7.56805, took 239.41 s\n",
      "  Validation Found 51627 of 54504, added 1963 (eff 94.72%) (0.197 FP/event)\n"
     ]
    },
    {
     "data": {
      "application/vnd.jupyter.widget-view+json": {
       "model_id": "",
       "version_major": 2,
       "version_minor": 0
      },
      "text/plain": [
       "HBox(children=(FloatProgress(value=0.0, description='Training', layout=Layout(flex='2'), max=1250.0, style=Pro…"
      ]
     },
     "metadata": {},
     "output_type": "display_data"
    },
    {
     "name": "stdout",
     "output_type": "stream",
     "text": [
      "Epoch 53: train=7.20892, val=8.11052, took 239.29 s\n",
      "  Validation Found 50702 of 54504, added 1161 (eff 93.02%) (0.116 FP/event)\n"
     ]
    },
    {
     "data": {
      "application/vnd.jupyter.widget-view+json": {
       "model_id": "",
       "version_major": 2,
       "version_minor": 0
      },
      "text/plain": [
       "HBox(children=(FloatProgress(value=0.0, description='Training', layout=Layout(flex='2'), max=1250.0, style=Pro…"
      ]
     },
     "metadata": {},
     "output_type": "display_data"
    },
    {
     "name": "stdout",
     "output_type": "stream",
     "text": [
      "Epoch 54: train=7.20591, val=7.56516, took 239.07 s\n",
      "  Validation Found 51577 of 54504, added 1957 (eff 94.63%) (0.196 FP/event)\n"
     ]
    },
    {
     "data": {
      "application/vnd.jupyter.widget-view+json": {
       "model_id": "",
       "version_major": 2,
       "version_minor": 0
      },
      "text/plain": [
       "HBox(children=(FloatProgress(value=0.0, description='Training', layout=Layout(flex='2'), max=1250.0, style=Pro…"
      ]
     },
     "metadata": {},
     "output_type": "display_data"
    },
    {
     "name": "stdout",
     "output_type": "stream",
     "text": [
      "Epoch 55: train=7.2044, val=7.80033, took 239.15 s\n",
      "  Validation Found 51581 of 54504, added 2024 (eff 94.64%) (0.203 FP/event)\n"
     ]
    },
    {
     "data": {
      "application/vnd.jupyter.widget-view+json": {
       "model_id": "",
       "version_major": 2,
       "version_minor": 0
      },
      "text/plain": [
       "HBox(children=(FloatProgress(value=0.0, description='Training', layout=Layout(flex='2'), max=1250.0, style=Pro…"
      ]
     },
     "metadata": {},
     "output_type": "display_data"
    },
    {
     "name": "stdout",
     "output_type": "stream",
     "text": [
      "Epoch 56: train=7.20448, val=7.62419, took 239.15 s\n",
      "  Validation Found 51578 of 54504, added 1889 (eff 94.63%) (0.189 FP/event)\n"
     ]
    },
    {
     "data": {
      "application/vnd.jupyter.widget-view+json": {
       "model_id": "",
       "version_major": 2,
       "version_minor": 0
      },
      "text/plain": [
       "HBox(children=(FloatProgress(value=0.0, description='Training', layout=Layout(flex='2'), max=1250.0, style=Pro…"
      ]
     },
     "metadata": {},
     "output_type": "display_data"
    },
    {
     "name": "stdout",
     "output_type": "stream",
     "text": [
      "Epoch 57: train=7.20328, val=7.72004, took 239.41 s\n",
      "  Validation Found 51567 of 54504, added 1877 (eff 94.61%) (0.188 FP/event)\n"
     ]
    },
    {
     "data": {
      "application/vnd.jupyter.widget-view+json": {
       "model_id": "",
       "version_major": 2,
       "version_minor": 0
      },
      "text/plain": [
       "HBox(children=(FloatProgress(value=0.0, description='Training', layout=Layout(flex='2'), max=1250.0, style=Pro…"
      ]
     },
     "metadata": {},
     "output_type": "display_data"
    },
    {
     "name": "stdout",
     "output_type": "stream",
     "text": [
      "Epoch 58: train=7.19739, val=7.64973, took 239.24 s\n",
      "  Validation Found 51494 of 54504, added 1753 (eff 94.48%) (0.176 FP/event)\n"
     ]
    },
    {
     "data": {
      "application/vnd.jupyter.widget-view+json": {
       "model_id": "",
       "version_major": 2,
       "version_minor": 0
      },
      "text/plain": [
       "HBox(children=(FloatProgress(value=0.0, description='Training', layout=Layout(flex='2'), max=1250.0, style=Pro…"
      ]
     },
     "metadata": {},
     "output_type": "display_data"
    },
    {
     "name": "stdout",
     "output_type": "stream",
     "text": [
      "Epoch 59: train=7.19276, val=7.73902, took 238.9 s\n",
      "  Validation Found 51391 of 54504, added 1687 (eff 94.29%) (0.169 FP/event)\n"
     ]
    },
    {
     "data": {
      "application/vnd.jupyter.widget-view+json": {
       "model_id": "",
       "version_major": 2,
       "version_minor": 0
      },
      "text/plain": [
       "HBox(children=(FloatProgress(value=0.0, description='Training', layout=Layout(flex='2'), max=1250.0, style=Pro…"
      ]
     },
     "metadata": {},
     "output_type": "display_data"
    },
    {
     "name": "stdout",
     "output_type": "stream",
     "text": [
      "Epoch 60: train=7.19016, val=7.64576, took 237.89 s\n",
      "  Validation Found 51505 of 54504, added 1764 (eff 94.50%) (0.177 FP/event)\n"
     ]
    },
    {
     "data": {
      "application/vnd.jupyter.widget-view+json": {
       "model_id": "",
       "version_major": 2,
       "version_minor": 0
      },
      "text/plain": [
       "HBox(children=(FloatProgress(value=0.0, description='Training', layout=Layout(flex='2'), max=1250.0, style=Pro…"
      ]
     },
     "metadata": {},
     "output_type": "display_data"
    },
    {
     "name": "stdout",
     "output_type": "stream",
     "text": [
      "Epoch 61: train=7.18958, val=7.62379, took 239.07 s\n",
      "  Validation Found 51762 of 54504, added 2247 (eff 94.97%) (0.225 FP/event)\n"
     ]
    },
    {
     "data": {
      "application/vnd.jupyter.widget-view+json": {
       "model_id": "",
       "version_major": 2,
       "version_minor": 0
      },
      "text/plain": [
       "HBox(children=(FloatProgress(value=0.0, description='Training', layout=Layout(flex='2'), max=1250.0, style=Pro…"
      ]
     },
     "metadata": {},
     "output_type": "display_data"
    },
    {
     "name": "stdout",
     "output_type": "stream",
     "text": [
      "Epoch 62: train=7.18484, val=7.65857, took 238.88 s\n",
      "  Validation Found 51433 of 54504, added 1643 (eff 94.37%) (0.165 FP/event)\n"
     ]
    },
    {
     "data": {
      "application/vnd.jupyter.widget-view+json": {
       "model_id": "",
       "version_major": 2,
       "version_minor": 0
      },
      "text/plain": [
       "HBox(children=(FloatProgress(value=0.0, description='Training', layout=Layout(flex='2'), max=1250.0, style=Pro…"
      ]
     },
     "metadata": {},
     "output_type": "display_data"
    },
    {
     "name": "stdout",
     "output_type": "stream",
     "text": [
      "Epoch 63: train=7.18477, val=7.63964, took 239.27 s\n",
      "  Validation Found 51607 of 54504, added 1969 (eff 94.68%) (0.197 FP/event)\n"
     ]
    },
    {
     "data": {
      "application/vnd.jupyter.widget-view+json": {
       "model_id": "",
       "version_major": 2,
       "version_minor": 0
      },
      "text/plain": [
       "HBox(children=(FloatProgress(value=0.0, description='Training', layout=Layout(flex='2'), max=1250.0, style=Pro…"
      ]
     },
     "metadata": {},
     "output_type": "display_data"
    },
    {
     "name": "stdout",
     "output_type": "stream",
     "text": [
      "Epoch 64: train=7.17917, val=7.56292, took 239.53 s\n",
      "  Validation Found 51669 of 54504, added 2048 (eff 94.80%) (0.205 FP/event)\n"
     ]
    },
    {
     "data": {
      "application/vnd.jupyter.widget-view+json": {
       "model_id": "",
       "version_major": 2,
       "version_minor": 0
      },
      "text/plain": [
       "HBox(children=(FloatProgress(value=0.0, description='Training', layout=Layout(flex='2'), max=1250.0, style=Pro…"
      ]
     },
     "metadata": {},
     "output_type": "display_data"
    },
    {
     "name": "stdout",
     "output_type": "stream",
     "text": [
      "Epoch 65: train=7.18228, val=7.57715, took 239.2 s\n",
      "  Validation Found 51768 of 54504, added 2159 (eff 94.98%) (0.216 FP/event)\n"
     ]
    },
    {
     "data": {
      "application/vnd.jupyter.widget-view+json": {
       "model_id": "",
       "version_major": 2,
       "version_minor": 0
      },
      "text/plain": [
       "HBox(children=(FloatProgress(value=0.0, description='Training', layout=Layout(flex='2'), max=1250.0, style=Pro…"
      ]
     },
     "metadata": {},
     "output_type": "display_data"
    },
    {
     "name": "stdout",
     "output_type": "stream",
     "text": [
      "Epoch 66: train=7.17491, val=7.81603, took 239.19 s\n",
      "  Validation Found 51234 of 54504, added 1554 (eff 94.00%) (0.156 FP/event)\n"
     ]
    },
    {
     "data": {
      "application/vnd.jupyter.widget-view+json": {
       "model_id": "",
       "version_major": 2,
       "version_minor": 0
      },
      "text/plain": [
       "HBox(children=(FloatProgress(value=0.0, description='Training', layout=Layout(flex='2'), max=1250.0, style=Pro…"
      ]
     },
     "metadata": {},
     "output_type": "display_data"
    },
    {
     "name": "stdout",
     "output_type": "stream",
     "text": [
      "Epoch 67: train=7.17381, val=7.88974, took 239.48 s\n",
      "  Validation Found 51264 of 54504, added 1574 (eff 94.06%) (0.158 FP/event)\n"
     ]
    },
    {
     "data": {
      "application/vnd.jupyter.widget-view+json": {
       "model_id": "",
       "version_major": 2,
       "version_minor": 0
      },
      "text/plain": [
       "HBox(children=(FloatProgress(value=0.0, description='Training', layout=Layout(flex='2'), max=1250.0, style=Pro…"
      ]
     },
     "metadata": {},
     "output_type": "display_data"
    },
    {
     "name": "stdout",
     "output_type": "stream",
     "text": [
      "Epoch 68: train=7.17355, val=7.92362, took 239.01 s\n",
      "  Validation Found 51132 of 54504, added 1401 (eff 93.81%) (0.14 FP/event)\n"
     ]
    },
    {
     "data": {
      "application/vnd.jupyter.widget-view+json": {
       "model_id": "",
       "version_major": 2,
       "version_minor": 0
      },
      "text/plain": [
       "HBox(children=(FloatProgress(value=0.0, description='Training', layout=Layout(flex='2'), max=1250.0, style=Pro…"
      ]
     },
     "metadata": {},
     "output_type": "display_data"
    },
    {
     "name": "stdout",
     "output_type": "stream",
     "text": [
      "Epoch 69: train=7.16697, val=7.8073, took 239.71 s\n",
      "  Validation Found 51387 of 54504, added 1675 (eff 94.28%) (0.168 FP/event)\n"
     ]
    },
    {
     "data": {
      "application/vnd.jupyter.widget-view+json": {
       "model_id": "",
       "version_major": 2,
       "version_minor": 0
      },
      "text/plain": [
       "HBox(children=(FloatProgress(value=0.0, description='Training', layout=Layout(flex='2'), max=1250.0, style=Pro…"
      ]
     },
     "metadata": {},
     "output_type": "display_data"
    },
    {
     "name": "stdout",
     "output_type": "stream",
     "text": [
      "Epoch 70: train=7.16608, val=7.74921, took 238.39 s\n",
      "  Validation Found 51450 of 54504, added 1681 (eff 94.40%) (0.168 FP/event)\n"
     ]
    },
    {
     "data": {
      "application/vnd.jupyter.widget-view+json": {
       "model_id": "",
       "version_major": 2,
       "version_minor": 0
      },
      "text/plain": [
       "HBox(children=(FloatProgress(value=0.0, description='Training', layout=Layout(flex='2'), max=1250.0, style=Pro…"
      ]
     },
     "metadata": {},
     "output_type": "display_data"
    },
    {
     "name": "stdout",
     "output_type": "stream",
     "text": [
      "Epoch 71: train=7.16352, val=7.65773, took 239.64 s\n",
      "  Validation Found 51496 of 54504, added 1677 (eff 94.48%) (0.168 FP/event)\n"
     ]
    },
    {
     "data": {
      "application/vnd.jupyter.widget-view+json": {
       "model_id": "",
       "version_major": 2,
       "version_minor": 0
      },
      "text/plain": [
       "HBox(children=(FloatProgress(value=0.0, description='Training', layout=Layout(flex='2'), max=1250.0, style=Pro…"
      ]
     },
     "metadata": {},
     "output_type": "display_data"
    },
    {
     "name": "stdout",
     "output_type": "stream",
     "text": [
      "Epoch 72: train=7.16769, val=7.6107, took 239.37 s\n",
      "  Validation Found 51534 of 54504, added 1825 (eff 94.55%) (0.183 FP/event)\n"
     ]
    },
    {
     "data": {
      "application/vnd.jupyter.widget-view+json": {
       "model_id": "",
       "version_major": 2,
       "version_minor": 0
      },
      "text/plain": [
       "HBox(children=(FloatProgress(value=0.0, description='Training', layout=Layout(flex='2'), max=1250.0, style=Pro…"
      ]
     },
     "metadata": {},
     "output_type": "display_data"
    },
    {
     "name": "stdout",
     "output_type": "stream",
     "text": [
      "Epoch 73: train=7.16308, val=7.70482, took 238.42 s\n",
      "  Validation Found 51410 of 54504, added 1691 (eff 94.32%) (0.169 FP/event)\n"
     ]
    },
    {
     "data": {
      "application/vnd.jupyter.widget-view+json": {
       "model_id": "",
       "version_major": 2,
       "version_minor": 0
      },
      "text/plain": [
       "HBox(children=(FloatProgress(value=0.0, description='Training', layout=Layout(flex='2'), max=1250.0, style=Pro…"
      ]
     },
     "metadata": {},
     "output_type": "display_data"
    },
    {
     "name": "stdout",
     "output_type": "stream",
     "text": [
      "Epoch 74: train=7.15797, val=7.70692, took 238.46 s\n",
      "  Validation Found 51409 of 54504, added 1698 (eff 94.32%) (0.17 FP/event)\n"
     ]
    },
    {
     "data": {
      "application/vnd.jupyter.widget-view+json": {
       "model_id": "",
       "version_major": 2,
       "version_minor": 0
      },
      "text/plain": [
       "HBox(children=(FloatProgress(value=0.0, description='Training', layout=Layout(flex='2'), max=1250.0, style=Pro…"
      ]
     },
     "metadata": {},
     "output_type": "display_data"
    },
    {
     "name": "stdout",
     "output_type": "stream",
     "text": [
      "Epoch 75: train=7.15567, val=7.63865, took 238.84 s\n",
      "  Validation Found 51409 of 54504, added 1579 (eff 94.32%) (0.158 FP/event)\n"
     ]
    },
    {
     "data": {
      "application/vnd.jupyter.widget-view+json": {
       "model_id": "",
       "version_major": 2,
       "version_minor": 0
      },
      "text/plain": [
       "HBox(children=(FloatProgress(value=0.0, description='Training', layout=Layout(flex='2'), max=1250.0, style=Pro…"
      ]
     },
     "metadata": {},
     "output_type": "display_data"
    },
    {
     "name": "stdout",
     "output_type": "stream",
     "text": [
      "Epoch 76: train=7.15736, val=7.86878, took 239.0 s\n",
      "  Validation Found 51269 of 54504, added 1555 (eff 94.06%) (0.156 FP/event)\n"
     ]
    },
    {
     "data": {
      "application/vnd.jupyter.widget-view+json": {
       "model_id": "",
       "version_major": 2,
       "version_minor": 0
      },
      "text/plain": [
       "HBox(children=(FloatProgress(value=0.0, description='Training', layout=Layout(flex='2'), max=1250.0, style=Pro…"
      ]
     },
     "metadata": {},
     "output_type": "display_data"
    },
    {
     "name": "stdout",
     "output_type": "stream",
     "text": [
      "Epoch 77: train=7.15844, val=8.05723, took 239.34 s\n",
      "  Validation Found 51038 of 54504, added 1469 (eff 93.64%) (0.147 FP/event)\n"
     ]
    },
    {
     "data": {
      "application/vnd.jupyter.widget-view+json": {
       "model_id": "",
       "version_major": 2,
       "version_minor": 0
      },
      "text/plain": [
       "HBox(children=(FloatProgress(value=0.0, description='Training', layout=Layout(flex='2'), max=1250.0, style=Pro…"
      ]
     },
     "metadata": {},
     "output_type": "display_data"
    },
    {
     "name": "stdout",
     "output_type": "stream",
     "text": [
      "Epoch 78: train=7.15361, val=7.7176, took 239.39 s\n",
      "  Validation Found 51501 of 54504, added 1748 (eff 94.49%) (0.175 FP/event)\n"
     ]
    },
    {
     "data": {
      "application/vnd.jupyter.widget-view+json": {
       "model_id": "",
       "version_major": 2,
       "version_minor": 0
      },
      "text/plain": [
       "HBox(children=(FloatProgress(value=0.0, description='Training', layout=Layout(flex='2'), max=1250.0, style=Pro…"
      ]
     },
     "metadata": {},
     "output_type": "display_data"
    },
    {
     "name": "stdout",
     "output_type": "stream",
     "text": [
      "Epoch 79: train=7.14832, val=7.54686, took 239.19 s\n",
      "  Validation Found 51681 of 54504, added 1990 (eff 94.82%) (0.199 FP/event)\n"
     ]
    },
    {
     "data": {
      "application/vnd.jupyter.widget-view+json": {
       "model_id": "",
       "version_major": 2,
       "version_minor": 0
      },
      "text/plain": [
       "HBox(children=(FloatProgress(value=0.0, description='Training', layout=Layout(flex='2'), max=1250.0, style=Pro…"
      ]
     },
     "metadata": {},
     "output_type": "display_data"
    },
    {
     "name": "stdout",
     "output_type": "stream",
     "text": [
      "Epoch 80: train=7.14937, val=7.80732, took 238.57 s\n",
      "  Validation Found 51300 of 54504, added 1572 (eff 94.12%) (0.157 FP/event)\n"
     ]
    },
    {
     "data": {
      "application/vnd.jupyter.widget-view+json": {
       "model_id": "",
       "version_major": 2,
       "version_minor": 0
      },
      "text/plain": [
       "HBox(children=(FloatProgress(value=0.0, description='Training', layout=Layout(flex='2'), max=1250.0, style=Pro…"
      ]
     },
     "metadata": {},
     "output_type": "display_data"
    },
    {
     "name": "stdout",
     "output_type": "stream",
     "text": [
      "Epoch 81: train=7.14859, val=8.00045, took 239.28 s\n",
      "  Validation Found 51056 of 54504, added 1347 (eff 93.67%) (0.135 FP/event)\n"
     ]
    },
    {
     "data": {
      "application/vnd.jupyter.widget-view+json": {
       "model_id": "",
       "version_major": 2,
       "version_minor": 0
      },
      "text/plain": [
       "HBox(children=(FloatProgress(value=0.0, description='Training', layout=Layout(flex='2'), max=1250.0, style=Pro…"
      ]
     },
     "metadata": {},
     "output_type": "display_data"
    },
    {
     "name": "stdout",
     "output_type": "stream",
     "text": [
      "Epoch 82: train=7.14733, val=7.59397, took 239.46 s\n",
      "  Validation Found 51594 of 54504, added 2092 (eff 94.66%) (0.21 FP/event)\n"
     ]
    },
    {
     "data": {
      "application/vnd.jupyter.widget-view+json": {
       "model_id": "",
       "version_major": 2,
       "version_minor": 0
      },
      "text/plain": [
       "HBox(children=(FloatProgress(value=0.0, description='Training', layout=Layout(flex='2'), max=1250.0, style=Pro…"
      ]
     },
     "metadata": {},
     "output_type": "display_data"
    },
    {
     "name": "stdout",
     "output_type": "stream",
     "text": [
      "Epoch 83: train=7.14507, val=7.60856, took 239.01 s\n",
      "  Validation Found 51648 of 54504, added 1888 (eff 94.76%) (0.189 FP/event)\n"
     ]
    },
    {
     "data": {
      "application/vnd.jupyter.widget-view+json": {
       "model_id": "",
       "version_major": 2,
       "version_minor": 0
      },
      "text/plain": [
       "HBox(children=(FloatProgress(value=0.0, description='Training', layout=Layout(flex='2'), max=1250.0, style=Pro…"
      ]
     },
     "metadata": {},
     "output_type": "display_data"
    },
    {
     "name": "stdout",
     "output_type": "stream",
     "text": [
      "Epoch 84: train=7.14198, val=7.7114, took 238.95 s\n",
      "  Validation Found 51575 of 54504, added 1792 (eff 94.63%) (0.179 FP/event)\n"
     ]
    },
    {
     "data": {
      "application/vnd.jupyter.widget-view+json": {
       "model_id": "",
       "version_major": 2,
       "version_minor": 0
      },
      "text/plain": [
       "HBox(children=(FloatProgress(value=0.0, description='Training', layout=Layout(flex='2'), max=1250.0, style=Pro…"
      ]
     },
     "metadata": {},
     "output_type": "display_data"
    },
    {
     "name": "stdout",
     "output_type": "stream",
     "text": [
      "Epoch 85: train=7.14007, val=7.51093, took 239.13 s\n",
      "  Validation Found 51693 of 54504, added 2019 (eff 94.84%) (0.202 FP/event)\n"
     ]
    },
    {
     "data": {
      "application/vnd.jupyter.widget-view+json": {
       "model_id": "",
       "version_major": 2,
       "version_minor": 0
      },
      "text/plain": [
       "HBox(children=(FloatProgress(value=0.0, description='Training', layout=Layout(flex='2'), max=1250.0, style=Pro…"
      ]
     },
     "metadata": {},
     "output_type": "display_data"
    },
    {
     "name": "stdout",
     "output_type": "stream",
     "text": [
      "Epoch 86: train=7.13775, val=7.63621, took 239.11 s\n",
      "  Validation Found 51601 of 54504, added 1929 (eff 94.67%) (0.193 FP/event)\n"
     ]
    },
    {
     "data": {
      "application/vnd.jupyter.widget-view+json": {
       "model_id": "",
       "version_major": 2,
       "version_minor": 0
      },
      "text/plain": [
       "HBox(children=(FloatProgress(value=0.0, description='Training', layout=Layout(flex='2'), max=1250.0, style=Pro…"
      ]
     },
     "metadata": {},
     "output_type": "display_data"
    },
    {
     "name": "stdout",
     "output_type": "stream",
     "text": [
      "Epoch 87: train=7.14044, val=7.57936, took 239.42 s\n",
      "  Validation Found 51585 of 54504, added 1833 (eff 94.64%) (0.184 FP/event)\n"
     ]
    },
    {
     "data": {
      "application/vnd.jupyter.widget-view+json": {
       "model_id": "",
       "version_major": 2,
       "version_minor": 0
      },
      "text/plain": [
       "HBox(children=(FloatProgress(value=0.0, description='Training', layout=Layout(flex='2'), max=1250.0, style=Pro…"
      ]
     },
     "metadata": {},
     "output_type": "display_data"
    },
    {
     "name": "stdout",
     "output_type": "stream",
     "text": [
      "Epoch 88: train=7.13563, val=7.80827, took 239.36 s\n",
      "  Validation Found 51417 of 54504, added 1811 (eff 94.34%) (0.181 FP/event)\n"
     ]
    },
    {
     "data": {
      "application/vnd.jupyter.widget-view+json": {
       "model_id": "",
       "version_major": 2,
       "version_minor": 0
      },
      "text/plain": [
       "HBox(children=(FloatProgress(value=0.0, description='Training', layout=Layout(flex='2'), max=1250.0, style=Pro…"
      ]
     },
     "metadata": {},
     "output_type": "display_data"
    },
    {
     "name": "stdout",
     "output_type": "stream",
     "text": [
      "Epoch 89: train=7.13734, val=7.65967, took 239.2 s\n",
      "  Validation Found 51693 of 54504, added 2056 (eff 94.84%) (0.206 FP/event)\n"
     ]
    },
    {
     "data": {
      "application/vnd.jupyter.widget-view+json": {
       "model_id": "",
       "version_major": 2,
       "version_minor": 0
      },
      "text/plain": [
       "HBox(children=(FloatProgress(value=0.0, description='Training', layout=Layout(flex='2'), max=1250.0, style=Pro…"
      ]
     },
     "metadata": {},
     "output_type": "display_data"
    },
    {
     "name": "stdout",
     "output_type": "stream",
     "text": [
      "Epoch 90: train=7.13341, val=7.60635, took 238.54 s\n",
      "  Validation Found 51936 of 54504, added 2657 (eff 95.29%) (0.266 FP/event)\n"
     ]
    },
    {
     "data": {
      "application/vnd.jupyter.widget-view+json": {
       "model_id": "",
       "version_major": 2,
       "version_minor": 0
      },
      "text/plain": [
       "HBox(children=(FloatProgress(value=0.0, description='Training', layout=Layout(flex='2'), max=1250.0, style=Pro…"
      ]
     },
     "metadata": {},
     "output_type": "display_data"
    },
    {
     "name": "stdout",
     "output_type": "stream",
     "text": [
      "Epoch 91: train=7.1299, val=7.57452, took 240.27 s\n",
      "  Validation Found 51601 of 54504, added 1861 (eff 94.67%) (0.186 FP/event)\n"
     ]
    },
    {
     "data": {
      "application/vnd.jupyter.widget-view+json": {
       "model_id": "",
       "version_major": 2,
       "version_minor": 0
      },
      "text/plain": [
       "HBox(children=(FloatProgress(value=0.0, description='Training', layout=Layout(flex='2'), max=1250.0, style=Pro…"
      ]
     },
     "metadata": {},
     "output_type": "display_data"
    },
    {
     "name": "stdout",
     "output_type": "stream",
     "text": [
      "Epoch 92: train=7.1293, val=7.55727, took 240.32 s\n",
      "  Validation Found 51675 of 54504, added 1899 (eff 94.81%) (0.19 FP/event)\n"
     ]
    },
    {
     "data": {
      "application/vnd.jupyter.widget-view+json": {
       "model_id": "",
       "version_major": 2,
       "version_minor": 0
      },
      "text/plain": [
       "HBox(children=(FloatProgress(value=0.0, description='Training', layout=Layout(flex='2'), max=1250.0, style=Pro…"
      ]
     },
     "metadata": {},
     "output_type": "display_data"
    },
    {
     "name": "stdout",
     "output_type": "stream",
     "text": [
      "Epoch 93: train=7.12698, val=7.7247, took 240.26 s\n",
      "  Validation Found 51474 of 54504, added 1759 (eff 94.44%) (0.176 FP/event)\n"
     ]
    },
    {
     "data": {
      "application/vnd.jupyter.widget-view+json": {
       "model_id": "",
       "version_major": 2,
       "version_minor": 0
      },
      "text/plain": [
       "HBox(children=(FloatProgress(value=0.0, description='Training', layout=Layout(flex='2'), max=1250.0, style=Pro…"
      ]
     },
     "metadata": {},
     "output_type": "display_data"
    },
    {
     "name": "stdout",
     "output_type": "stream",
     "text": [
      "Epoch 94: train=7.12369, val=7.87528, took 240.19 s\n",
      "  Validation Found 51226 of 54504, added 1522 (eff 93.99%) (0.152 FP/event)\n"
     ]
    },
    {
     "data": {
      "application/vnd.jupyter.widget-view+json": {
       "model_id": "",
       "version_major": 2,
       "version_minor": 0
      },
      "text/plain": [
       "HBox(children=(FloatProgress(value=0.0, description='Training', layout=Layout(flex='2'), max=1250.0, style=Pro…"
      ]
     },
     "metadata": {},
     "output_type": "display_data"
    },
    {
     "name": "stdout",
     "output_type": "stream",
     "text": [
      "Epoch 95: train=7.12437, val=7.70217, took 240.0 s\n",
      "  Validation Found 51445 of 54504, added 1652 (eff 94.39%) (0.165 FP/event)\n"
     ]
    },
    {
     "data": {
      "application/vnd.jupyter.widget-view+json": {
       "model_id": "",
       "version_major": 2,
       "version_minor": 0
      },
      "text/plain": [
       "HBox(children=(FloatProgress(value=0.0, description='Training', layout=Layout(flex='2'), max=1250.0, style=Pro…"
      ]
     },
     "metadata": {},
     "output_type": "display_data"
    },
    {
     "name": "stdout",
     "output_type": "stream",
     "text": [
      "Epoch 96: train=7.12276, val=7.55718, took 239.96 s\n",
      "  Validation Found 51766 of 54504, added 2037 (eff 94.98%) (0.204 FP/event)\n"
     ]
    },
    {
     "data": {
      "application/vnd.jupyter.widget-view+json": {
       "model_id": "",
       "version_major": 2,
       "version_minor": 0
      },
      "text/plain": [
       "HBox(children=(FloatProgress(value=0.0, description='Training', layout=Layout(flex='2'), max=1250.0, style=Pro…"
      ]
     },
     "metadata": {},
     "output_type": "display_data"
    },
    {
     "name": "stdout",
     "output_type": "stream",
     "text": [
      "Epoch 97: train=7.12079, val=7.69159, took 240.19 s\n",
      "  Validation Found 51542 of 54504, added 1716 (eff 94.57%) (0.172 FP/event)\n"
     ]
    },
    {
     "data": {
      "application/vnd.jupyter.widget-view+json": {
       "model_id": "",
       "version_major": 2,
       "version_minor": 0
      },
      "text/plain": [
       "HBox(children=(FloatProgress(value=0.0, description='Training', layout=Layout(flex='2'), max=1250.0, style=Pro…"
      ]
     },
     "metadata": {},
     "output_type": "display_data"
    },
    {
     "name": "stdout",
     "output_type": "stream",
     "text": [
      "Epoch 98: train=7.11944, val=7.72175, took 240.19 s\n",
      "  Validation Found 51539 of 54504, added 1712 (eff 94.56%) (0.171 FP/event)\n"
     ]
    },
    {
     "data": {
      "application/vnd.jupyter.widget-view+json": {
       "model_id": "",
       "version_major": 2,
       "version_minor": 0
      },
      "text/plain": [
       "HBox(children=(FloatProgress(value=0.0, description='Training', layout=Layout(flex='2'), max=1250.0, style=Pro…"
      ]
     },
     "metadata": {},
     "output_type": "display_data"
    },
    {
     "name": "stdout",
     "output_type": "stream",
     "text": [
      "Epoch 99: train=7.1193, val=7.68053, took 240.27 s\n",
      "  Validation Found 51447 of 54504, added 1739 (eff 94.39%) (0.174 FP/event)\n"
     ]
    },
    {
     "data": {
      "application/vnd.jupyter.widget-view+json": {
       "model_id": "",
       "version_major": 2,
       "version_minor": 0
      },
      "text/plain": [
       "HBox(children=(FloatProgress(value=0.0, description='Training', layout=Layout(flex='2'), max=1250.0, style=Pro…"
      ]
     },
     "metadata": {},
     "output_type": "display_data"
    },
    {
     "name": "stdout",
     "output_type": "stream",
     "text": [
      "Epoch 100: train=7.11667, val=7.73065, took 238.92 s\n",
      "  Validation Found 51542 of 54504, added 1921 (eff 94.57%) (0.192 FP/event)\n"
     ]
    },
    {
     "data": {
      "application/vnd.jupyter.widget-view+json": {
       "model_id": "",
       "version_major": 2,
       "version_minor": 0
      },
      "text/plain": [
       "HBox(children=(FloatProgress(value=0.0, description='Training', layout=Layout(flex='2'), max=1250.0, style=Pro…"
      ]
     },
     "metadata": {},
     "output_type": "display_data"
    },
    {
     "name": "stdout",
     "output_type": "stream",
     "text": [
      "Epoch 101: train=7.11741, val=7.61626, took 239.5 s\n",
      "  Validation Found 51498 of 54504, added 1697 (eff 94.48%) (0.17 FP/event)\n"
     ]
    },
    {
     "data": {
      "application/vnd.jupyter.widget-view+json": {
       "model_id": "",
       "version_major": 2,
       "version_minor": 0
      },
      "text/plain": [
       "HBox(children=(FloatProgress(value=0.0, description='Training', layout=Layout(flex='2'), max=1250.0, style=Pro…"
      ]
     },
     "metadata": {},
     "output_type": "display_data"
    },
    {
     "name": "stdout",
     "output_type": "stream",
     "text": [
      "Epoch 102: train=7.11707, val=7.62952, took 239.54 s\n",
      "  Validation Found 51585 of 54504, added 1818 (eff 94.64%) (0.182 FP/event)\n"
     ]
    },
    {
     "data": {
      "application/vnd.jupyter.widget-view+json": {
       "model_id": "",
       "version_major": 2,
       "version_minor": 0
      },
      "text/plain": [
       "HBox(children=(FloatProgress(value=0.0, description='Training', layout=Layout(flex='2'), max=1250.0, style=Pro…"
      ]
     },
     "metadata": {},
     "output_type": "display_data"
    },
    {
     "name": "stdout",
     "output_type": "stream",
     "text": [
      "Epoch 103: train=7.11458, val=7.68547, took 239.5 s\n",
      "  Validation Found 51588 of 54504, added 1773 (eff 94.65%) (0.178 FP/event)\n"
     ]
    },
    {
     "data": {
      "application/vnd.jupyter.widget-view+json": {
       "model_id": "",
       "version_major": 2,
       "version_minor": 0
      },
      "text/plain": [
       "HBox(children=(FloatProgress(value=0.0, description='Training', layout=Layout(flex='2'), max=1250.0, style=Pro…"
      ]
     },
     "metadata": {},
     "output_type": "display_data"
    },
    {
     "name": "stdout",
     "output_type": "stream",
     "text": [
      "Epoch 104: train=7.11229, val=7.76736, took 239.44 s\n",
      "  Validation Found 51296 of 54504, added 1601 (eff 94.11%) (0.16 FP/event)\n"
     ]
    },
    {
     "data": {
      "application/vnd.jupyter.widget-view+json": {
       "model_id": "",
       "version_major": 2,
       "version_minor": 0
      },
      "text/plain": [
       "HBox(children=(FloatProgress(value=0.0, description='Training', layout=Layout(flex='2'), max=1250.0, style=Pro…"
      ]
     },
     "metadata": {},
     "output_type": "display_data"
    },
    {
     "name": "stdout",
     "output_type": "stream",
     "text": [
      "Epoch 105: train=7.10925, val=7.54924, took 239.71 s\n",
      "  Validation Found 51829 of 54504, added 2263 (eff 95.09%) (0.227 FP/event)\n"
     ]
    },
    {
     "data": {
      "application/vnd.jupyter.widget-view+json": {
       "model_id": "",
       "version_major": 2,
       "version_minor": 0
      },
      "text/plain": [
       "HBox(children=(FloatProgress(value=0.0, description='Training', layout=Layout(flex='2'), max=1250.0, style=Pro…"
      ]
     },
     "metadata": {},
     "output_type": "display_data"
    },
    {
     "name": "stdout",
     "output_type": "stream",
     "text": [
      "Epoch 106: train=7.10818, val=7.68422, took 239.39 s\n",
      "  Validation Found 51579 of 54504, added 1778 (eff 94.63%) (0.178 FP/event)\n"
     ]
    },
    {
     "data": {
      "application/vnd.jupyter.widget-view+json": {
       "model_id": "",
       "version_major": 2,
       "version_minor": 0
      },
      "text/plain": [
       "HBox(children=(FloatProgress(value=0.0, description='Training', layout=Layout(flex='2'), max=1250.0, style=Pro…"
      ]
     },
     "metadata": {},
     "output_type": "display_data"
    },
    {
     "name": "stdout",
     "output_type": "stream",
     "text": [
      "Epoch 107: train=7.10931, val=7.66407, took 239.33 s\n",
      "  Validation Found 51620 of 54504, added 1836 (eff 94.71%) (0.184 FP/event)\n"
     ]
    },
    {
     "data": {
      "application/vnd.jupyter.widget-view+json": {
       "model_id": "",
       "version_major": 2,
       "version_minor": 0
      },
      "text/plain": [
       "HBox(children=(FloatProgress(value=0.0, description='Training', layout=Layout(flex='2'), max=1250.0, style=Pro…"
      ]
     },
     "metadata": {},
     "output_type": "display_data"
    },
    {
     "name": "stdout",
     "output_type": "stream",
     "text": [
      "Epoch 108: train=7.10625, val=7.51215, took 239.42 s\n",
      "  Validation Found 51748 of 54504, added 2090 (eff 94.94%) (0.209 FP/event)\n"
     ]
    },
    {
     "data": {
      "application/vnd.jupyter.widget-view+json": {
       "model_id": "",
       "version_major": 2,
       "version_minor": 0
      },
      "text/plain": [
       "HBox(children=(FloatProgress(value=0.0, description='Training', layout=Layout(flex='2'), max=1250.0, style=Pro…"
      ]
     },
     "metadata": {},
     "output_type": "display_data"
    },
    {
     "name": "stdout",
     "output_type": "stream",
     "text": [
      "Epoch 109: train=7.1082, val=7.67858, took 239.09 s\n",
      "  Validation Found 51579 of 54504, added 1817 (eff 94.63%) (0.182 FP/event)\n"
     ]
    },
    {
     "data": {
      "application/vnd.jupyter.widget-view+json": {
       "model_id": "",
       "version_major": 2,
       "version_minor": 0
      },
      "text/plain": [
       "HBox(children=(FloatProgress(value=0.0, description='Training', layout=Layout(flex='2'), max=1250.0, style=Pro…"
      ]
     },
     "metadata": {},
     "output_type": "display_data"
    },
    {
     "name": "stdout",
     "output_type": "stream",
     "text": [
      "Epoch 110: train=7.10263, val=7.95669, took 238.28 s\n",
      "  Validation Found 51075 of 54504, added 1322 (eff 93.71%) (0.132 FP/event)\n"
     ]
    },
    {
     "data": {
      "application/vnd.jupyter.widget-view+json": {
       "model_id": "",
       "version_major": 2,
       "version_minor": 0
      },
      "text/plain": [
       "HBox(children=(FloatProgress(value=0.0, description='Training', layout=Layout(flex='2'), max=1250.0, style=Pro…"
      ]
     },
     "metadata": {},
     "output_type": "display_data"
    },
    {
     "name": "stdout",
     "output_type": "stream",
     "text": [
      "Epoch 111: train=7.10189, val=7.72876, took 239.51 s\n",
      "  Validation Found 51474 of 54504, added 1666 (eff 94.44%) (0.167 FP/event)\n"
     ]
    },
    {
     "data": {
      "application/vnd.jupyter.widget-view+json": {
       "model_id": "",
       "version_major": 2,
       "version_minor": 0
      },
      "text/plain": [
       "HBox(children=(FloatProgress(value=0.0, description='Training', layout=Layout(flex='2'), max=1250.0, style=Pro…"
      ]
     },
     "metadata": {},
     "output_type": "display_data"
    },
    {
     "name": "stdout",
     "output_type": "stream",
     "text": [
      "Epoch 112: train=7.10321, val=7.66137, took 239.37 s\n",
      "  Validation Found 51679 of 54504, added 1949 (eff 94.82%) (0.195 FP/event)\n"
     ]
    },
    {
     "data": {
      "application/vnd.jupyter.widget-view+json": {
       "model_id": "",
       "version_major": 2,
       "version_minor": 0
      },
      "text/plain": [
       "HBox(children=(FloatProgress(value=0.0, description='Training', layout=Layout(flex='2'), max=1250.0, style=Pro…"
      ]
     },
     "metadata": {},
     "output_type": "display_data"
    },
    {
     "name": "stdout",
     "output_type": "stream",
     "text": [
      "Epoch 113: train=7.09958, val=7.66911, took 239.35 s\n",
      "  Validation Found 51565 of 54504, added 1779 (eff 94.61%) (0.178 FP/event)\n"
     ]
    },
    {
     "data": {
      "application/vnd.jupyter.widget-view+json": {
       "model_id": "",
       "version_major": 2,
       "version_minor": 0
      },
      "text/plain": [
       "HBox(children=(FloatProgress(value=0.0, description='Training', layout=Layout(flex='2'), max=1250.0, style=Pro…"
      ]
     },
     "metadata": {},
     "output_type": "display_data"
    },
    {
     "name": "stdout",
     "output_type": "stream",
     "text": [
      "Epoch 114: train=7.10068, val=7.75375, took 239.17 s\n",
      "  Validation Found 51417 of 54504, added 1575 (eff 94.34%) (0.158 FP/event)\n"
     ]
    },
    {
     "data": {
      "application/vnd.jupyter.widget-view+json": {
       "model_id": "",
       "version_major": 2,
       "version_minor": 0
      },
      "text/plain": [
       "HBox(children=(FloatProgress(value=0.0, description='Training', layout=Layout(flex='2'), max=1250.0, style=Pro…"
      ]
     },
     "metadata": {},
     "output_type": "display_data"
    },
    {
     "name": "stdout",
     "output_type": "stream",
     "text": [
      "Epoch 115: train=7.10035, val=7.62221, took 239.27 s\n",
      "  Validation Found 51654 of 54504, added 1930 (eff 94.77%) (0.193 FP/event)\n"
     ]
    },
    {
     "data": {
      "application/vnd.jupyter.widget-view+json": {
       "model_id": "",
       "version_major": 2,
       "version_minor": 0
      },
      "text/plain": [
       "HBox(children=(FloatProgress(value=0.0, description='Training', layout=Layout(flex='2'), max=1250.0, style=Pro…"
      ]
     },
     "metadata": {},
     "output_type": "display_data"
    },
    {
     "name": "stdout",
     "output_type": "stream",
     "text": [
      "Epoch 116: train=7.09653, val=7.61423, took 239.22 s\n",
      "  Validation Found 51742 of 54504, added 2132 (eff 94.93%) (0.214 FP/event)\n"
     ]
    },
    {
     "data": {
      "application/vnd.jupyter.widget-view+json": {
       "model_id": "",
       "version_major": 2,
       "version_minor": 0
      },
      "text/plain": [
       "HBox(children=(FloatProgress(value=0.0, description='Training', layout=Layout(flex='2'), max=1250.0, style=Pro…"
      ]
     },
     "metadata": {},
     "output_type": "display_data"
    },
    {
     "name": "stdout",
     "output_type": "stream",
     "text": [
      "Epoch 117: train=7.09778, val=7.49879, took 239.26 s\n",
      "  Validation Found 51707 of 54504, added 2045 (eff 94.87%) (0.205 FP/event)\n"
     ]
    },
    {
     "data": {
      "application/vnd.jupyter.widget-view+json": {
       "model_id": "",
       "version_major": 2,
       "version_minor": 0
      },
      "text/plain": [
       "HBox(children=(FloatProgress(value=0.0, description='Training', layout=Layout(flex='2'), max=1250.0, style=Pro…"
      ]
     },
     "metadata": {},
     "output_type": "display_data"
    },
    {
     "name": "stdout",
     "output_type": "stream",
     "text": [
      "Epoch 118: train=7.09602, val=7.53857, took 239.34 s\n",
      "  Validation Found 51550 of 54504, added 1752 (eff 94.58%) (0.175 FP/event)\n"
     ]
    },
    {
     "data": {
      "application/vnd.jupyter.widget-view+json": {
       "model_id": "",
       "version_major": 2,
       "version_minor": 0
      },
      "text/plain": [
       "HBox(children=(FloatProgress(value=0.0, description='Training', layout=Layout(flex='2'), max=1250.0, style=Pro…"
      ]
     },
     "metadata": {},
     "output_type": "display_data"
    },
    {
     "name": "stdout",
     "output_type": "stream",
     "text": [
      "Epoch 119: train=7.09605, val=7.6146, took 239.29 s\n",
      "  Validation Found 51671 of 54504, added 1969 (eff 94.80%) (0.197 FP/event)\n"
     ]
    },
    {
     "data": {
      "application/vnd.jupyter.widget-view+json": {
       "model_id": "",
       "version_major": 2,
       "version_minor": 0
      },
      "text/plain": [
       "HBox(children=(FloatProgress(value=0.0, description='Training', layout=Layout(flex='2'), max=1250.0, style=Pro…"
      ]
     },
     "metadata": {},
     "output_type": "display_data"
    },
    {
     "name": "stdout",
     "output_type": "stream",
     "text": [
      "Epoch 120: train=7.09938, val=7.65894, took 238.21 s\n",
      "  Validation Found 51456 of 54504, added 1645 (eff 94.41%) (0.165 FP/event)\n"
     ]
    },
    {
     "data": {
      "application/vnd.jupyter.widget-view+json": {
       "model_id": "",
       "version_major": 2,
       "version_minor": 0
      },
      "text/plain": [
       "HBox(children=(FloatProgress(value=0.0, description='Training', layout=Layout(flex='2'), max=1250.0, style=Pro…"
      ]
     },
     "metadata": {},
     "output_type": "display_data"
    },
    {
     "name": "stdout",
     "output_type": "stream",
     "text": [
      "Epoch 121: train=7.08999, val=7.61431, took 239.59 s\n",
      "  Validation Found 51507 of 54504, added 1702 (eff 94.50%) (0.17 FP/event)\n"
     ]
    },
    {
     "data": {
      "application/vnd.jupyter.widget-view+json": {
       "model_id": "",
       "version_major": 2,
       "version_minor": 0
      },
      "text/plain": [
       "HBox(children=(FloatProgress(value=0.0, description='Training', layout=Layout(flex='2'), max=1250.0, style=Pro…"
      ]
     },
     "metadata": {},
     "output_type": "display_data"
    },
    {
     "name": "stdout",
     "output_type": "stream",
     "text": [
      "Epoch 122: train=7.08931, val=7.72433, took 239.64 s\n",
      "  Validation Found 51384 of 54504, added 1584 (eff 94.28%) (0.159 FP/event)\n"
     ]
    },
    {
     "data": {
      "application/vnd.jupyter.widget-view+json": {
       "model_id": "",
       "version_major": 2,
       "version_minor": 0
      },
      "text/plain": [
       "HBox(children=(FloatProgress(value=0.0, description='Training', layout=Layout(flex='2'), max=1250.0, style=Pro…"
      ]
     },
     "metadata": {},
     "output_type": "display_data"
    },
    {
     "name": "stdout",
     "output_type": "stream",
     "text": [
      "Epoch 123: train=7.0924, val=7.71482, took 239.25 s\n",
      "  Validation Found 51434 of 54504, added 1682 (eff 94.37%) (0.168 FP/event)\n"
     ]
    },
    {
     "data": {
      "application/vnd.jupyter.widget-view+json": {
       "model_id": "",
       "version_major": 2,
       "version_minor": 0
      },
      "text/plain": [
       "HBox(children=(FloatProgress(value=0.0, description='Training', layout=Layout(flex='2'), max=1250.0, style=Pro…"
      ]
     },
     "metadata": {},
     "output_type": "display_data"
    },
    {
     "name": "stdout",
     "output_type": "stream",
     "text": [
      "Epoch 124: train=7.08791, val=7.65087, took 239.26 s\n",
      "  Validation Found 51582 of 54504, added 1808 (eff 94.64%) (0.181 FP/event)\n"
     ]
    },
    {
     "data": {
      "application/vnd.jupyter.widget-view+json": {
       "model_id": "",
       "version_major": 2,
       "version_minor": 0
      },
      "text/plain": [
       "HBox(children=(FloatProgress(value=0.0, description='Training', layout=Layout(flex='2'), max=1250.0, style=Pro…"
      ]
     },
     "metadata": {},
     "output_type": "display_data"
    },
    {
     "name": "stdout",
     "output_type": "stream",
     "text": [
      "Epoch 125: train=7.08971, val=7.60414, took 239.07 s\n",
      "  Validation Found 51548 of 54504, added 1783 (eff 94.58%) (0.179 FP/event)\n"
     ]
    },
    {
     "data": {
      "application/vnd.jupyter.widget-view+json": {
       "model_id": "",
       "version_major": 2,
       "version_minor": 0
      },
      "text/plain": [
       "HBox(children=(FloatProgress(value=0.0, description='Training', layout=Layout(flex='2'), max=1250.0, style=Pro…"
      ]
     },
     "metadata": {},
     "output_type": "display_data"
    },
    {
     "name": "stdout",
     "output_type": "stream",
     "text": [
      "Epoch 126: train=7.08911, val=7.6633, took 239.34 s\n",
      "  Validation Found 51542 of 54504, added 1771 (eff 94.57%) (0.177 FP/event)\n"
     ]
    },
    {
     "data": {
      "application/vnd.jupyter.widget-view+json": {
       "model_id": "",
       "version_major": 2,
       "version_minor": 0
      },
      "text/plain": [
       "HBox(children=(FloatProgress(value=0.0, description='Training', layout=Layout(flex='2'), max=1250.0, style=Pro…"
      ]
     },
     "metadata": {},
     "output_type": "display_data"
    },
    {
     "name": "stdout",
     "output_type": "stream",
     "text": [
      "Epoch 127: train=7.08707, val=7.53966, took 239.53 s\n",
      "  Validation Found 51847 of 54504, added 2317 (eff 95.13%) (0.232 FP/event)\n"
     ]
    },
    {
     "data": {
      "application/vnd.jupyter.widget-view+json": {
       "model_id": "",
       "version_major": 2,
       "version_minor": 0
      },
      "text/plain": [
       "HBox(children=(FloatProgress(value=0.0, description='Training', layout=Layout(flex='2'), max=1250.0, style=Pro…"
      ]
     },
     "metadata": {},
     "output_type": "display_data"
    },
    {
     "name": "stdout",
     "output_type": "stream",
     "text": [
      "Epoch 128: train=7.0848, val=7.73346, took 239.29 s\n",
      "  Validation Found 51498 of 54504, added 1683 (eff 94.48%) (0.169 FP/event)\n"
     ]
    },
    {
     "data": {
      "application/vnd.jupyter.widget-view+json": {
       "model_id": "",
       "version_major": 2,
       "version_minor": 0
      },
      "text/plain": [
       "HBox(children=(FloatProgress(value=0.0, description='Training', layout=Layout(flex='2'), max=1250.0, style=Pro…"
      ]
     },
     "metadata": {},
     "output_type": "display_data"
    },
    {
     "name": "stdout",
     "output_type": "stream",
     "text": [
      "Epoch 129: train=7.0835, val=7.60243, took 239.34 s\n",
      "  Validation Found 51712 of 54504, added 2026 (eff 94.88%) (0.203 FP/event)\n"
     ]
    },
    {
     "data": {
      "application/vnd.jupyter.widget-view+json": {
       "model_id": "",
       "version_major": 2,
       "version_minor": 0
      },
      "text/plain": [
       "HBox(children=(FloatProgress(value=0.0, description='Training', layout=Layout(flex='2'), max=1250.0, style=Pro…"
      ]
     },
     "metadata": {},
     "output_type": "display_data"
    },
    {
     "name": "stdout",
     "output_type": "stream",
     "text": [
      "Epoch 130: train=7.0816, val=7.64037, took 238.09 s\n",
      "  Validation Found 51572 of 54504, added 1828 (eff 94.62%) (0.183 FP/event)\n"
     ]
    },
    {
     "data": {
      "application/vnd.jupyter.widget-view+json": {
       "model_id": "",
       "version_major": 2,
       "version_minor": 0
      },
      "text/plain": [
       "HBox(children=(FloatProgress(value=0.0, description='Training', layout=Layout(flex='2'), max=1250.0, style=Pro…"
      ]
     },
     "metadata": {},
     "output_type": "display_data"
    },
    {
     "name": "stdout",
     "output_type": "stream",
     "text": [
      "Epoch 131: train=7.08103, val=7.69182, took 239.32 s\n",
      "  Validation Found 51384 of 54504, added 1607 (eff 94.28%) (0.161 FP/event)\n"
     ]
    },
    {
     "data": {
      "application/vnd.jupyter.widget-view+json": {
       "model_id": "",
       "version_major": 2,
       "version_minor": 0
      },
      "text/plain": [
       "HBox(children=(FloatProgress(value=0.0, description='Training', layout=Layout(flex='2'), max=1250.0, style=Pro…"
      ]
     },
     "metadata": {},
     "output_type": "display_data"
    },
    {
     "name": "stdout",
     "output_type": "stream",
     "text": [
      "Epoch 132: train=7.0815, val=7.69159, took 239.7 s\n",
      "  Validation Found 51431 of 54504, added 1618 (eff 94.36%) (0.162 FP/event)\n"
     ]
    },
    {
     "data": {
      "application/vnd.jupyter.widget-view+json": {
       "model_id": "",
       "version_major": 2,
       "version_minor": 0
      },
      "text/plain": [
       "HBox(children=(FloatProgress(value=0.0, description='Training', layout=Layout(flex='2'), max=1250.0, style=Pro…"
      ]
     },
     "metadata": {},
     "output_type": "display_data"
    },
    {
     "name": "stdout",
     "output_type": "stream",
     "text": [
      "Epoch 133: train=7.07857, val=7.65255, took 239.19 s\n",
      "  Validation Found 51553 of 54504, added 1878 (eff 94.59%) (0.188 FP/event)\n"
     ]
    },
    {
     "data": {
      "application/vnd.jupyter.widget-view+json": {
       "model_id": "",
       "version_major": 2,
       "version_minor": 0
      },
      "text/plain": [
       "HBox(children=(FloatProgress(value=0.0, description='Training', layout=Layout(flex='2'), max=1250.0, style=Pro…"
      ]
     },
     "metadata": {},
     "output_type": "display_data"
    },
    {
     "name": "stdout",
     "output_type": "stream",
     "text": [
      "Epoch 134: train=7.07859, val=7.55138, took 239.76 s\n",
      "  Validation Found 51721 of 54504, added 1968 (eff 94.89%) (0.197 FP/event)\n"
     ]
    },
    {
     "data": {
      "application/vnd.jupyter.widget-view+json": {
       "model_id": "",
       "version_major": 2,
       "version_minor": 0
      },
      "text/plain": [
       "HBox(children=(FloatProgress(value=0.0, description='Training', layout=Layout(flex='2'), max=1250.0, style=Pro…"
      ]
     },
     "metadata": {},
     "output_type": "display_data"
    },
    {
     "name": "stdout",
     "output_type": "stream",
     "text": [
      "Epoch 135: train=7.07597, val=7.63981, took 239.29 s\n",
      "  Validation Found 51565 of 54504, added 1759 (eff 94.61%) (0.176 FP/event)\n"
     ]
    },
    {
     "data": {
      "application/vnd.jupyter.widget-view+json": {
       "model_id": "",
       "version_major": 2,
       "version_minor": 0
      },
      "text/plain": [
       "HBox(children=(FloatProgress(value=0.0, description='Training', layout=Layout(flex='2'), max=1250.0, style=Pro…"
      ]
     },
     "metadata": {},
     "output_type": "display_data"
    },
    {
     "name": "stdout",
     "output_type": "stream",
     "text": [
      "Epoch 136: train=7.08139, val=7.57697, took 239.23 s\n",
      "  Validation Found 51738 of 54504, added 2173 (eff 94.93%) (0.218 FP/event)\n"
     ]
    },
    {
     "data": {
      "application/vnd.jupyter.widget-view+json": {
       "model_id": "",
       "version_major": 2,
       "version_minor": 0
      },
      "text/plain": [
       "HBox(children=(FloatProgress(value=0.0, description='Training', layout=Layout(flex='2'), max=1250.0, style=Pro…"
      ]
     },
     "metadata": {},
     "output_type": "display_data"
    },
    {
     "name": "stdout",
     "output_type": "stream",
     "text": [
      "Epoch 137: train=7.07823, val=7.72756, took 239.33 s\n",
      "  Validation Found 51337 of 54504, added 1572 (eff 94.19%) (0.157 FP/event)\n"
     ]
    },
    {
     "data": {
      "application/vnd.jupyter.widget-view+json": {
       "model_id": "",
       "version_major": 2,
       "version_minor": 0
      },
      "text/plain": [
       "HBox(children=(FloatProgress(value=0.0, description='Training', layout=Layout(flex='2'), max=1250.0, style=Pro…"
      ]
     },
     "metadata": {},
     "output_type": "display_data"
    },
    {
     "name": "stdout",
     "output_type": "stream",
     "text": [
      "Epoch 138: train=7.07562, val=7.57782, took 239.38 s\n",
      "  Validation Found 51635 of 54504, added 1978 (eff 94.74%) (0.198 FP/event)\n"
     ]
    },
    {
     "data": {
      "application/vnd.jupyter.widget-view+json": {
       "model_id": "",
       "version_major": 2,
       "version_minor": 0
      },
      "text/plain": [
       "HBox(children=(FloatProgress(value=0.0, description='Training', layout=Layout(flex='2'), max=1250.0, style=Pro…"
      ]
     },
     "metadata": {},
     "output_type": "display_data"
    },
    {
     "name": "stdout",
     "output_type": "stream",
     "text": [
      "Epoch 139: train=7.07437, val=7.62795, took 239.33 s\n",
      "  Validation Found 51678 of 54504, added 1964 (eff 94.82%) (0.197 FP/event)\n"
     ]
    },
    {
     "data": {
      "application/vnd.jupyter.widget-view+json": {
       "model_id": "",
       "version_major": 2,
       "version_minor": 0
      },
      "text/plain": [
       "HBox(children=(FloatProgress(value=0.0, description='Training', layout=Layout(flex='2'), max=1250.0, style=Pro…"
      ]
     },
     "metadata": {},
     "output_type": "display_data"
    },
    {
     "name": "stdout",
     "output_type": "stream",
     "text": [
      "Epoch 140: train=7.07444, val=7.58056, took 237.94 s\n",
      "  Validation Found 51659 of 54504, added 1931 (eff 94.78%) (0.193 FP/event)\n"
     ]
    },
    {
     "data": {
      "application/vnd.jupyter.widget-view+json": {
       "model_id": "",
       "version_major": 2,
       "version_minor": 0
      },
      "text/plain": [
       "HBox(children=(FloatProgress(value=0.0, description='Training', layout=Layout(flex='2'), max=1250.0, style=Pro…"
      ]
     },
     "metadata": {},
     "output_type": "display_data"
    },
    {
     "name": "stdout",
     "output_type": "stream",
     "text": [
      "Epoch 141: train=7.07053, val=7.64224, took 239.24 s\n",
      "  Validation Found 51617 of 54504, added 1851 (eff 94.70%) (0.185 FP/event)\n"
     ]
    },
    {
     "data": {
      "application/vnd.jupyter.widget-view+json": {
       "model_id": "",
       "version_major": 2,
       "version_minor": 0
      },
      "text/plain": [
       "HBox(children=(FloatProgress(value=0.0, description='Training', layout=Layout(flex='2'), max=1250.0, style=Pro…"
      ]
     },
     "metadata": {},
     "output_type": "display_data"
    },
    {
     "name": "stdout",
     "output_type": "stream",
     "text": [
      "Epoch 142: train=7.07327, val=7.69206, took 239.28 s\n",
      "  Validation Found 51617 of 54504, added 1875 (eff 94.70%) (0.188 FP/event)\n"
     ]
    },
    {
     "data": {
      "application/vnd.jupyter.widget-view+json": {
       "model_id": "",
       "version_major": 2,
       "version_minor": 0
      },
      "text/plain": [
       "HBox(children=(FloatProgress(value=0.0, description='Training', layout=Layout(flex='2'), max=1250.0, style=Pro…"
      ]
     },
     "metadata": {},
     "output_type": "display_data"
    },
    {
     "name": "stdout",
     "output_type": "stream",
     "text": [
      "Epoch 143: train=7.07065, val=7.52998, took 239.23 s\n",
      "  Validation Found 51700 of 54504, added 1977 (eff 94.86%) (0.198 FP/event)\n"
     ]
    },
    {
     "data": {
      "application/vnd.jupyter.widget-view+json": {
       "model_id": "",
       "version_major": 2,
       "version_minor": 0
      },
      "text/plain": [
       "HBox(children=(FloatProgress(value=0.0, description='Training', layout=Layout(flex='2'), max=1250.0, style=Pro…"
      ]
     },
     "metadata": {},
     "output_type": "display_data"
    },
    {
     "name": "stdout",
     "output_type": "stream",
     "text": [
      "Epoch 144: train=7.07164, val=7.63772, took 239.24 s\n",
      "  Validation Found 51428 of 54504, added 1601 (eff 94.36%) (0.16 FP/event)\n"
     ]
    },
    {
     "data": {
      "application/vnd.jupyter.widget-view+json": {
       "model_id": "",
       "version_major": 2,
       "version_minor": 0
      },
      "text/plain": [
       "HBox(children=(FloatProgress(value=0.0, description='Training', layout=Layout(flex='2'), max=1250.0, style=Pro…"
      ]
     },
     "metadata": {},
     "output_type": "display_data"
    },
    {
     "name": "stdout",
     "output_type": "stream",
     "text": [
      "Epoch 145: train=7.06993, val=7.48221, took 239.22 s\n",
      "  Validation Found 51778 of 54504, added 2173 (eff 95.00%) (0.218 FP/event)\n"
     ]
    },
    {
     "data": {
      "application/vnd.jupyter.widget-view+json": {
       "model_id": "",
       "version_major": 2,
       "version_minor": 0
      },
      "text/plain": [
       "HBox(children=(FloatProgress(value=0.0, description='Training', layout=Layout(flex='2'), max=1250.0, style=Pro…"
      ]
     },
     "metadata": {},
     "output_type": "display_data"
    },
    {
     "name": "stdout",
     "output_type": "stream",
     "text": [
      "Epoch 146: train=7.06682, val=7.88091, took 239.33 s\n",
      "  Validation Found 51256 of 54504, added 1441 (eff 94.04%) (0.144 FP/event)\n"
     ]
    },
    {
     "data": {
      "application/vnd.jupyter.widget-view+json": {
       "model_id": "",
       "version_major": 2,
       "version_minor": 0
      },
      "text/plain": [
       "HBox(children=(FloatProgress(value=0.0, description='Training', layout=Layout(flex='2'), max=1250.0, style=Pro…"
      ]
     },
     "metadata": {},
     "output_type": "display_data"
    },
    {
     "name": "stdout",
     "output_type": "stream",
     "text": [
      "Epoch 147: train=7.06743, val=7.68984, took 239.47 s\n",
      "  Validation Found 51664 of 54504, added 1947 (eff 94.79%) (0.195 FP/event)\n"
     ]
    },
    {
     "data": {
      "application/vnd.jupyter.widget-view+json": {
       "model_id": "",
       "version_major": 2,
       "version_minor": 0
      },
      "text/plain": [
       "HBox(children=(FloatProgress(value=0.0, description='Training', layout=Layout(flex='2'), max=1250.0, style=Pro…"
      ]
     },
     "metadata": {},
     "output_type": "display_data"
    },
    {
     "name": "stdout",
     "output_type": "stream",
     "text": [
      "Epoch 148: train=7.06957, val=7.76827, took 239.39 s\n",
      "  Validation Found 51455 of 54504, added 1679 (eff 94.41%) (0.168 FP/event)\n"
     ]
    },
    {
     "data": {
      "application/vnd.jupyter.widget-view+json": {
       "model_id": "",
       "version_major": 2,
       "version_minor": 0
      },
      "text/plain": [
       "HBox(children=(FloatProgress(value=0.0, description='Training', layout=Layout(flex='2'), max=1250.0, style=Pro…"
      ]
     },
     "metadata": {},
     "output_type": "display_data"
    },
    {
     "name": "stdout",
     "output_type": "stream",
     "text": [
      "Epoch 149: train=7.06742, val=7.51939, took 239.17 s\n",
      "  Validation Found 51667 of 54504, added 1884 (eff 94.79%) (0.189 FP/event)\n"
     ]
    },
    {
     "data": {
      "application/vnd.jupyter.widget-view+json": {
       "model_id": "",
       "version_major": 2,
       "version_minor": 0
      },
      "text/plain": [
       "HBox(children=(FloatProgress(value=0.0, description='Training', layout=Layout(flex='2'), max=1250.0, style=Pro…"
      ]
     },
     "metadata": {},
     "output_type": "display_data"
    },
    {
     "name": "stdout",
     "output_type": "stream",
     "text": [
      "Epoch 150: train=7.06584, val=7.74905, took 238.55 s\n",
      "  Validation Found 51380 of 54504, added 1536 (eff 94.27%) (0.154 FP/event)\n"
     ]
    },
    {
     "data": {
      "application/vnd.jupyter.widget-view+json": {
       "model_id": "",
       "version_major": 2,
       "version_minor": 0
      },
      "text/plain": [
       "HBox(children=(FloatProgress(value=0.0, description='Training', layout=Layout(flex='2'), max=1250.0, style=Pro…"
      ]
     },
     "metadata": {},
     "output_type": "display_data"
    },
    {
     "name": "stdout",
     "output_type": "stream",
     "text": [
      "Epoch 151: train=7.06424, val=7.57216, took 239.62 s\n",
      "  Validation Found 51478 of 54504, added 1643 (eff 94.45%) (0.165 FP/event)\n"
     ]
    },
    {
     "data": {
      "application/vnd.jupyter.widget-view+json": {
       "model_id": "",
       "version_major": 2,
       "version_minor": 0
      },
      "text/plain": [
       "HBox(children=(FloatProgress(value=0.0, description='Training', layout=Layout(flex='2'), max=1250.0, style=Pro…"
      ]
     },
     "metadata": {},
     "output_type": "display_data"
    },
    {
     "name": "stdout",
     "output_type": "stream",
     "text": [
      "Epoch 152: train=7.06375, val=7.97249, took 239.28 s\n",
      "  Validation Found 51147 of 54504, added 1363 (eff 93.84%) (0.137 FP/event)\n"
     ]
    },
    {
     "data": {
      "application/vnd.jupyter.widget-view+json": {
       "model_id": "",
       "version_major": 2,
       "version_minor": 0
      },
      "text/plain": [
       "HBox(children=(FloatProgress(value=0.0, description='Training', layout=Layout(flex='2'), max=1250.0, style=Pro…"
      ]
     },
     "metadata": {},
     "output_type": "display_data"
    },
    {
     "name": "stdout",
     "output_type": "stream",
     "text": [
      "Epoch 153: train=7.0629, val=7.81669, took 239.44 s\n",
      "  Validation Found 51295 of 54504, added 1549 (eff 94.11%) (0.155 FP/event)\n"
     ]
    },
    {
     "data": {
      "application/vnd.jupyter.widget-view+json": {
       "model_id": "",
       "version_major": 2,
       "version_minor": 0
      },
      "text/plain": [
       "HBox(children=(FloatProgress(value=0.0, description='Training', layout=Layout(flex='2'), max=1250.0, style=Pro…"
      ]
     },
     "metadata": {},
     "output_type": "display_data"
    },
    {
     "name": "stdout",
     "output_type": "stream",
     "text": [
      "Epoch 154: train=7.06415, val=7.58084, took 239.37 s\n",
      "  Validation Found 51683 of 54504, added 1891 (eff 94.82%) (0.189 FP/event)\n"
     ]
    },
    {
     "data": {
      "application/vnd.jupyter.widget-view+json": {
       "model_id": "",
       "version_major": 2,
       "version_minor": 0
      },
      "text/plain": [
       "HBox(children=(FloatProgress(value=0.0, description='Training', layout=Layout(flex='2'), max=1250.0, style=Pro…"
      ]
     },
     "metadata": {},
     "output_type": "display_data"
    },
    {
     "name": "stdout",
     "output_type": "stream",
     "text": [
      "Epoch 155: train=7.06152, val=7.527, took 239.45 s\n",
      "  Validation Found 51700 of 54504, added 1976 (eff 94.86%) (0.198 FP/event)\n"
     ]
    },
    {
     "data": {
      "application/vnd.jupyter.widget-view+json": {
       "model_id": "",
       "version_major": 2,
       "version_minor": 0
      },
      "text/plain": [
       "HBox(children=(FloatProgress(value=0.0, description='Training', layout=Layout(flex='2'), max=1250.0, style=Pro…"
      ]
     },
     "metadata": {},
     "output_type": "display_data"
    },
    {
     "name": "stdout",
     "output_type": "stream",
     "text": [
      "Epoch 156: train=7.0589, val=7.50373, took 239.29 s\n",
      "  Validation Found 51802 of 54504, added 2128 (eff 95.04%) (0.213 FP/event)\n"
     ]
    },
    {
     "data": {
      "application/vnd.jupyter.widget-view+json": {
       "model_id": "",
       "version_major": 2,
       "version_minor": 0
      },
      "text/plain": [
       "HBox(children=(FloatProgress(value=0.0, description='Training', layout=Layout(flex='2'), max=1250.0, style=Pro…"
      ]
     },
     "metadata": {},
     "output_type": "display_data"
    },
    {
     "name": "stdout",
     "output_type": "stream",
     "text": [
      "Epoch 157: train=7.06136, val=7.52856, took 238.88 s\n",
      "  Validation Found 51906 of 54504, added 2442 (eff 95.23%) (0.245 FP/event)\n"
     ]
    },
    {
     "data": {
      "application/vnd.jupyter.widget-view+json": {
       "model_id": "",
       "version_major": 2,
       "version_minor": 0
      },
      "text/plain": [
       "HBox(children=(FloatProgress(value=0.0, description='Training', layout=Layout(flex='2'), max=1250.0, style=Pro…"
      ]
     },
     "metadata": {},
     "output_type": "display_data"
    },
    {
     "name": "stdout",
     "output_type": "stream",
     "text": [
      "Epoch 158: train=7.05742, val=7.66408, took 239.27 s\n",
      "  Validation Found 51467 of 54504, added 1653 (eff 94.43%) (0.166 FP/event)\n"
     ]
    },
    {
     "data": {
      "application/vnd.jupyter.widget-view+json": {
       "model_id": "",
       "version_major": 2,
       "version_minor": 0
      },
      "text/plain": [
       "HBox(children=(FloatProgress(value=0.0, description='Training', layout=Layout(flex='2'), max=1250.0, style=Pro…"
      ]
     },
     "metadata": {},
     "output_type": "display_data"
    },
    {
     "name": "stdout",
     "output_type": "stream",
     "text": [
      "Epoch 159: train=7.06259, val=7.68752, took 239.42 s\n",
      "  Validation Found 51488 of 54504, added 1669 (eff 94.47%) (0.167 FP/event)\n"
     ]
    },
    {
     "data": {
      "application/vnd.jupyter.widget-view+json": {
       "model_id": "",
       "version_major": 2,
       "version_minor": 0
      },
      "text/plain": [
       "HBox(children=(FloatProgress(value=0.0, description='Training', layout=Layout(flex='2'), max=1250.0, style=Pro…"
      ]
     },
     "metadata": {},
     "output_type": "display_data"
    },
    {
     "name": "stdout",
     "output_type": "stream",
     "text": [
      "Epoch 160: train=7.05978, val=7.54539, took 238.54 s\n",
      "  Validation Found 51628 of 54504, added 1833 (eff 94.72%) (0.184 FP/event)\n"
     ]
    },
    {
     "data": {
      "application/vnd.jupyter.widget-view+json": {
       "model_id": "",
       "version_major": 2,
       "version_minor": 0
      },
      "text/plain": [
       "HBox(children=(FloatProgress(value=0.0, description='Training', layout=Layout(flex='2'), max=1250.0, style=Pro…"
      ]
     },
     "metadata": {},
     "output_type": "display_data"
    },
    {
     "name": "stdout",
     "output_type": "stream",
     "text": [
      "Epoch 161: train=7.05538, val=7.71396, took 239.65 s\n",
      "  Validation Found 51301 of 54504, added 1495 (eff 94.12%) (0.15 FP/event)\n"
     ]
    },
    {
     "data": {
      "application/vnd.jupyter.widget-view+json": {
       "model_id": "",
       "version_major": 2,
       "version_minor": 0
      },
      "text/plain": [
       "HBox(children=(FloatProgress(value=0.0, description='Training', layout=Layout(flex='2'), max=1250.0, style=Pro…"
      ]
     },
     "metadata": {},
     "output_type": "display_data"
    },
    {
     "name": "stdout",
     "output_type": "stream",
     "text": [
      "Epoch 162: train=7.0568, val=7.5772, took 239.26 s\n",
      "  Validation Found 51609 of 54504, added 1811 (eff 94.69%) (0.181 FP/event)\n"
     ]
    },
    {
     "data": {
      "application/vnd.jupyter.widget-view+json": {
       "model_id": "",
       "version_major": 2,
       "version_minor": 0
      },
      "text/plain": [
       "HBox(children=(FloatProgress(value=0.0, description='Training', layout=Layout(flex='2'), max=1250.0, style=Pro…"
      ]
     },
     "metadata": {},
     "output_type": "display_data"
    },
    {
     "name": "stdout",
     "output_type": "stream",
     "text": [
      "Epoch 163: train=7.05419, val=7.5682, took 239.39 s\n",
      "  Validation Found 51631 of 54504, added 1862 (eff 94.73%) (0.186 FP/event)\n"
     ]
    },
    {
     "data": {
      "application/vnd.jupyter.widget-view+json": {
       "model_id": "",
       "version_major": 2,
       "version_minor": 0
      },
      "text/plain": [
       "HBox(children=(FloatProgress(value=0.0, description='Training', layout=Layout(flex='2'), max=1250.0, style=Pro…"
      ]
     },
     "metadata": {},
     "output_type": "display_data"
    },
    {
     "name": "stdout",
     "output_type": "stream",
     "text": [
      "Epoch 164: train=7.05198, val=7.71153, took 239.16 s\n",
      "  Validation Found 51486 of 54504, added 1658 (eff 94.46%) (0.166 FP/event)\n"
     ]
    },
    {
     "data": {
      "application/vnd.jupyter.widget-view+json": {
       "model_id": "",
       "version_major": 2,
       "version_minor": 0
      },
      "text/plain": [
       "HBox(children=(FloatProgress(value=0.0, description='Training', layout=Layout(flex='2'), max=1250.0, style=Pro…"
      ]
     },
     "metadata": {},
     "output_type": "display_data"
    },
    {
     "name": "stdout",
     "output_type": "stream",
     "text": [
      "Epoch 165: train=7.05295, val=7.53954, took 239.28 s\n",
      "  Validation Found 51778 of 54504, added 2070 (eff 95.00%) (0.207 FP/event)\n"
     ]
    },
    {
     "data": {
      "application/vnd.jupyter.widget-view+json": {
       "model_id": "",
       "version_major": 2,
       "version_minor": 0
      },
      "text/plain": [
       "HBox(children=(FloatProgress(value=0.0, description='Training', layout=Layout(flex='2'), max=1250.0, style=Pro…"
      ]
     },
     "metadata": {},
     "output_type": "display_data"
    },
    {
     "name": "stdout",
     "output_type": "stream",
     "text": [
      "Epoch 166: train=7.05571, val=7.55831, took 239.27 s\n",
      "  Validation Found 51687 of 54504, added 2018 (eff 94.83%) (0.202 FP/event)\n"
     ]
    },
    {
     "data": {
      "application/vnd.jupyter.widget-view+json": {
       "model_id": "",
       "version_major": 2,
       "version_minor": 0
      },
      "text/plain": [
       "HBox(children=(FloatProgress(value=0.0, description='Training', layout=Layout(flex='2'), max=1250.0, style=Pro…"
      ]
     },
     "metadata": {},
     "output_type": "display_data"
    },
    {
     "name": "stdout",
     "output_type": "stream",
     "text": [
      "Epoch 167: train=7.05157, val=7.56727, took 238.99 s\n",
      "  Validation Found 51598 of 54504, added 1796 (eff 94.67%) (0.18 FP/event)\n"
     ]
    },
    {
     "data": {
      "application/vnd.jupyter.widget-view+json": {
       "model_id": "",
       "version_major": 2,
       "version_minor": 0
      },
      "text/plain": [
       "HBox(children=(FloatProgress(value=0.0, description='Training', layout=Layout(flex='2'), max=1250.0, style=Pro…"
      ]
     },
     "metadata": {},
     "output_type": "display_data"
    },
    {
     "name": "stdout",
     "output_type": "stream",
     "text": [
      "Epoch 168: train=7.05129, val=7.60911, took 239.05 s\n",
      "  Validation Found 51570 of 54504, added 1779 (eff 94.62%) (0.178 FP/event)\n"
     ]
    },
    {
     "data": {
      "application/vnd.jupyter.widget-view+json": {
       "model_id": "",
       "version_major": 2,
       "version_minor": 0
      },
      "text/plain": [
       "HBox(children=(FloatProgress(value=0.0, description='Training', layout=Layout(flex='2'), max=1250.0, style=Pro…"
      ]
     },
     "metadata": {},
     "output_type": "display_data"
    },
    {
     "name": "stdout",
     "output_type": "stream",
     "text": [
      "Epoch 169: train=7.04883, val=7.56368, took 238.99 s\n",
      "  Validation Found 51666 of 54504, added 1978 (eff 94.79%) (0.198 FP/event)\n"
     ]
    },
    {
     "data": {
      "application/vnd.jupyter.widget-view+json": {
       "model_id": "",
       "version_major": 2,
       "version_minor": 0
      },
      "text/plain": [
       "HBox(children=(FloatProgress(value=0.0, description='Training', layout=Layout(flex='2'), max=1250.0, style=Pro…"
      ]
     },
     "metadata": {},
     "output_type": "display_data"
    },
    {
     "name": "stdout",
     "output_type": "stream",
     "text": [
      "Epoch 170: train=7.05192, val=7.54348, took 238.19 s\n",
      "  Validation Found 51718 of 54504, added 2010 (eff 94.89%) (0.201 FP/event)\n"
     ]
    },
    {
     "data": {
      "application/vnd.jupyter.widget-view+json": {
       "model_id": "",
       "version_major": 2,
       "version_minor": 0
      },
      "text/plain": [
       "HBox(children=(FloatProgress(value=0.0, description='Training', layout=Layout(flex='2'), max=1250.0, style=Pro…"
      ]
     },
     "metadata": {},
     "output_type": "display_data"
    },
    {
     "name": "stdout",
     "output_type": "stream",
     "text": [
      "Epoch 171: train=7.04916, val=7.57446, took 239.39 s\n",
      "  Validation Found 51582 of 54504, added 1767 (eff 94.64%) (0.177 FP/event)\n"
     ]
    },
    {
     "data": {
      "application/vnd.jupyter.widget-view+json": {
       "model_id": "",
       "version_major": 2,
       "version_minor": 0
      },
      "text/plain": [
       "HBox(children=(FloatProgress(value=0.0, description='Training', layout=Layout(flex='2'), max=1250.0, style=Pro…"
      ]
     },
     "metadata": {},
     "output_type": "display_data"
    },
    {
     "name": "stdout",
     "output_type": "stream",
     "text": [
      "Epoch 172: train=7.04605, val=7.57524, took 239.68 s\n",
      "  Validation Found 51726 of 54504, added 2025 (eff 94.90%) (0.203 FP/event)\n"
     ]
    },
    {
     "data": {
      "application/vnd.jupyter.widget-view+json": {
       "model_id": "",
       "version_major": 2,
       "version_minor": 0
      },
      "text/plain": [
       "HBox(children=(FloatProgress(value=0.0, description='Training', layout=Layout(flex='2'), max=1250.0, style=Pro…"
      ]
     },
     "metadata": {},
     "output_type": "display_data"
    },
    {
     "name": "stdout",
     "output_type": "stream",
     "text": [
      "Epoch 173: train=7.04869, val=7.68634, took 239.54 s\n",
      "  Validation Found 51399 of 54504, added 1569 (eff 94.30%) (0.157 FP/event)\n"
     ]
    },
    {
     "data": {
      "application/vnd.jupyter.widget-view+json": {
       "model_id": "",
       "version_major": 2,
       "version_minor": 0
      },
      "text/plain": [
       "HBox(children=(FloatProgress(value=0.0, description='Training', layout=Layout(flex='2'), max=1250.0, style=Pro…"
      ]
     },
     "metadata": {},
     "output_type": "display_data"
    },
    {
     "name": "stdout",
     "output_type": "stream",
     "text": [
      "Epoch 174: train=7.04614, val=7.73254, took 239.3 s\n",
      "  Validation Found 51432 of 54504, added 1644 (eff 94.36%) (0.165 FP/event)\n"
     ]
    },
    {
     "data": {
      "application/vnd.jupyter.widget-view+json": {
       "model_id": "",
       "version_major": 2,
       "version_minor": 0
      },
      "text/plain": [
       "HBox(children=(FloatProgress(value=0.0, description='Training', layout=Layout(flex='2'), max=1250.0, style=Pro…"
      ]
     },
     "metadata": {},
     "output_type": "display_data"
    },
    {
     "name": "stdout",
     "output_type": "stream",
     "text": [
      "Epoch 175: train=7.04953, val=7.69888, took 238.99 s\n",
      "  Validation Found 51609 of 54504, added 1955 (eff 94.69%) (0.196 FP/event)\n"
     ]
    },
    {
     "data": {
      "application/vnd.jupyter.widget-view+json": {
       "model_id": "",
       "version_major": 2,
       "version_minor": 0
      },
      "text/plain": [
       "HBox(children=(FloatProgress(value=0.0, description='Training', layout=Layout(flex='2'), max=1250.0, style=Pro…"
      ]
     },
     "metadata": {},
     "output_type": "display_data"
    },
    {
     "name": "stdout",
     "output_type": "stream",
     "text": [
      "Epoch 176: train=7.04538, val=7.64357, took 238.89 s\n",
      "  Validation Found 51753 of 54504, added 2106 (eff 94.95%) (0.211 FP/event)\n"
     ]
    },
    {
     "data": {
      "application/vnd.jupyter.widget-view+json": {
       "model_id": "",
       "version_major": 2,
       "version_minor": 0
      },
      "text/plain": [
       "HBox(children=(FloatProgress(value=0.0, description='Training', layout=Layout(flex='2'), max=1250.0, style=Pro…"
      ]
     },
     "metadata": {},
     "output_type": "display_data"
    },
    {
     "name": "stdout",
     "output_type": "stream",
     "text": [
      "Epoch 177: train=7.0422, val=7.65276, took 239.22 s\n",
      "  Validation Found 51553 of 54504, added 1768 (eff 94.59%) (0.177 FP/event)\n"
     ]
    },
    {
     "data": {
      "application/vnd.jupyter.widget-view+json": {
       "model_id": "",
       "version_major": 2,
       "version_minor": 0
      },
      "text/plain": [
       "HBox(children=(FloatProgress(value=0.0, description='Training', layout=Layout(flex='2'), max=1250.0, style=Pro…"
      ]
     },
     "metadata": {},
     "output_type": "display_data"
    },
    {
     "name": "stdout",
     "output_type": "stream",
     "text": [
      "Epoch 178: train=7.04227, val=7.57892, took 239.02 s\n",
      "  Validation Found 51680 of 54504, added 1895 (eff 94.82%) (0.19 FP/event)\n"
     ]
    },
    {
     "data": {
      "application/vnd.jupyter.widget-view+json": {
       "model_id": "",
       "version_major": 2,
       "version_minor": 0
      },
      "text/plain": [
       "HBox(children=(FloatProgress(value=0.0, description='Training', layout=Layout(flex='2'), max=1250.0, style=Pro…"
      ]
     },
     "metadata": {},
     "output_type": "display_data"
    },
    {
     "name": "stdout",
     "output_type": "stream",
     "text": [
      "Epoch 179: train=7.04424, val=7.58633, took 239.25 s\n",
      "  Validation Found 51666 of 54504, added 1921 (eff 94.79%) (0.192 FP/event)\n"
     ]
    },
    {
     "data": {
      "application/vnd.jupyter.widget-view+json": {
       "model_id": "",
       "version_major": 2,
       "version_minor": 0
      },
      "text/plain": [
       "HBox(children=(FloatProgress(value=0.0, description='Training', layout=Layout(flex='2'), max=1250.0, style=Pro…"
      ]
     },
     "metadata": {},
     "output_type": "display_data"
    },
    {
     "name": "stdout",
     "output_type": "stream",
     "text": [
      "Epoch 180: train=7.04497, val=7.59465, took 238.05 s\n",
      "  Validation Found 51684 of 54504, added 1898 (eff 94.83%) (0.19 FP/event)\n"
     ]
    },
    {
     "data": {
      "application/vnd.jupyter.widget-view+json": {
       "model_id": "",
       "version_major": 2,
       "version_minor": 0
      },
      "text/plain": [
       "HBox(children=(FloatProgress(value=0.0, description='Training', layout=Layout(flex='2'), max=1250.0, style=Pro…"
      ]
     },
     "metadata": {},
     "output_type": "display_data"
    },
    {
     "name": "stdout",
     "output_type": "stream",
     "text": [
      "Epoch 181: train=7.04264, val=7.61541, took 239.03 s\n",
      "  Validation Found 51859 of 54504, added 2446 (eff 95.15%) (0.245 FP/event)\n"
     ]
    },
    {
     "data": {
      "application/vnd.jupyter.widget-view+json": {
       "model_id": "",
       "version_major": 2,
       "version_minor": 0
      },
      "text/plain": [
       "HBox(children=(FloatProgress(value=0.0, description='Training', layout=Layout(flex='2'), max=1250.0, style=Pro…"
      ]
     },
     "metadata": {},
     "output_type": "display_data"
    },
    {
     "name": "stdout",
     "output_type": "stream",
     "text": [
      "Epoch 182: train=7.04148, val=7.64438, took 239.41 s\n",
      "  Validation Found 51684 of 54504, added 1967 (eff 94.83%) (0.197 FP/event)\n"
     ]
    },
    {
     "data": {
      "application/vnd.jupyter.widget-view+json": {
       "model_id": "",
       "version_major": 2,
       "version_minor": 0
      },
      "text/plain": [
       "HBox(children=(FloatProgress(value=0.0, description='Training', layout=Layout(flex='2'), max=1250.0, style=Pro…"
      ]
     },
     "metadata": {},
     "output_type": "display_data"
    },
    {
     "name": "stdout",
     "output_type": "stream",
     "text": [
      "Epoch 183: train=7.04189, val=7.62148, took 239.43 s\n",
      "  Validation Found 51629 of 54504, added 1845 (eff 94.73%) (0.185 FP/event)\n"
     ]
    },
    {
     "data": {
      "application/vnd.jupyter.widget-view+json": {
       "model_id": "",
       "version_major": 2,
       "version_minor": 0
      },
      "text/plain": [
       "HBox(children=(FloatProgress(value=0.0, description='Training', layout=Layout(flex='2'), max=1250.0, style=Pro…"
      ]
     },
     "metadata": {},
     "output_type": "display_data"
    },
    {
     "name": "stdout",
     "output_type": "stream",
     "text": [
      "Epoch 184: train=7.0418, val=7.74861, took 239.33 s\n",
      "  Validation Found 51475 of 54504, added 1662 (eff 94.44%) (0.166 FP/event)\n"
     ]
    },
    {
     "data": {
      "application/vnd.jupyter.widget-view+json": {
       "model_id": "",
       "version_major": 2,
       "version_minor": 0
      },
      "text/plain": [
       "HBox(children=(FloatProgress(value=0.0, description='Training', layout=Layout(flex='2'), max=1250.0, style=Pro…"
      ]
     },
     "metadata": {},
     "output_type": "display_data"
    },
    {
     "name": "stdout",
     "output_type": "stream",
     "text": [
      "Epoch 185: train=7.04212, val=7.62526, took 239.21 s\n",
      "  Validation Found 51573 of 54504, added 1757 (eff 94.62%) (0.176 FP/event)\n"
     ]
    },
    {
     "data": {
      "application/vnd.jupyter.widget-view+json": {
       "model_id": "",
       "version_major": 2,
       "version_minor": 0
      },
      "text/plain": [
       "HBox(children=(FloatProgress(value=0.0, description='Training', layout=Layout(flex='2'), max=1250.0, style=Pro…"
      ]
     },
     "metadata": {},
     "output_type": "display_data"
    },
    {
     "name": "stdout",
     "output_type": "stream",
     "text": [
      "Epoch 186: train=7.03895, val=7.64852, took 239.27 s\n",
      "  Validation Found 51630 of 54504, added 1902 (eff 94.73%) (0.19 FP/event)\n"
     ]
    },
    {
     "data": {
      "application/vnd.jupyter.widget-view+json": {
       "model_id": "",
       "version_major": 2,
       "version_minor": 0
      },
      "text/plain": [
       "HBox(children=(FloatProgress(value=0.0, description='Training', layout=Layout(flex='2'), max=1250.0, style=Pro…"
      ]
     },
     "metadata": {},
     "output_type": "display_data"
    },
    {
     "name": "stdout",
     "output_type": "stream",
     "text": [
      "Epoch 187: train=7.03922, val=7.52172, took 238.56 s\n",
      "  Validation Found 51698 of 54504, added 2008 (eff 94.85%) (0.201 FP/event)\n"
     ]
    },
    {
     "data": {
      "application/vnd.jupyter.widget-view+json": {
       "model_id": "",
       "version_major": 2,
       "version_minor": 0
      },
      "text/plain": [
       "HBox(children=(FloatProgress(value=0.0, description='Training', layout=Layout(flex='2'), max=1250.0, style=Pro…"
      ]
     },
     "metadata": {},
     "output_type": "display_data"
    },
    {
     "name": "stdout",
     "output_type": "stream",
     "text": [
      "Epoch 188: train=7.04015, val=7.69989, took 239.11 s\n",
      "  Validation Found 51687 of 54504, added 1930 (eff 94.83%) (0.193 FP/event)\n"
     ]
    },
    {
     "data": {
      "application/vnd.jupyter.widget-view+json": {
       "model_id": "",
       "version_major": 2,
       "version_minor": 0
      },
      "text/plain": [
       "HBox(children=(FloatProgress(value=0.0, description='Training', layout=Layout(flex='2'), max=1250.0, style=Pro…"
      ]
     },
     "metadata": {},
     "output_type": "display_data"
    },
    {
     "name": "stdout",
     "output_type": "stream",
     "text": [
      "Epoch 189: train=7.03712, val=7.65992, took 239.21 s\n",
      "  Validation Found 51596 of 54504, added 1847 (eff 94.66%) (0.185 FP/event)\n"
     ]
    },
    {
     "data": {
      "application/vnd.jupyter.widget-view+json": {
       "model_id": "",
       "version_major": 2,
       "version_minor": 0
      },
      "text/plain": [
       "HBox(children=(FloatProgress(value=0.0, description='Training', layout=Layout(flex='2'), max=1250.0, style=Pro…"
      ]
     },
     "metadata": {},
     "output_type": "display_data"
    },
    {
     "name": "stdout",
     "output_type": "stream",
     "text": [
      "Epoch 190: train=7.03684, val=7.52831, took 238.11 s\n",
      "  Validation Found 51582 of 54504, added 1786 (eff 94.64%) (0.179 FP/event)\n"
     ]
    },
    {
     "data": {
      "application/vnd.jupyter.widget-view+json": {
       "model_id": "",
       "version_major": 2,
       "version_minor": 0
      },
      "text/plain": [
       "HBox(children=(FloatProgress(value=0.0, description='Training', layout=Layout(flex='2'), max=1250.0, style=Pro…"
      ]
     },
     "metadata": {},
     "output_type": "display_data"
    },
    {
     "name": "stdout",
     "output_type": "stream",
     "text": [
      "Epoch 191: train=7.03901, val=7.53195, took 239.03 s\n",
      "  Validation Found 51702 of 54504, added 1941 (eff 94.86%) (0.194 FP/event)\n"
     ]
    },
    {
     "data": {
      "application/vnd.jupyter.widget-view+json": {
       "model_id": "",
       "version_major": 2,
       "version_minor": 0
      },
      "text/plain": [
       "HBox(children=(FloatProgress(value=0.0, description='Training', layout=Layout(flex='2'), max=1250.0, style=Pro…"
      ]
     },
     "metadata": {},
     "output_type": "display_data"
    },
    {
     "name": "stdout",
     "output_type": "stream",
     "text": [
      "Epoch 192: train=7.03583, val=7.64743, took 239.36 s\n",
      "  Validation Found 51494 of 54504, added 1597 (eff 94.48%) (0.16 FP/event)\n"
     ]
    },
    {
     "data": {
      "application/vnd.jupyter.widget-view+json": {
       "model_id": "",
       "version_major": 2,
       "version_minor": 0
      },
      "text/plain": [
       "HBox(children=(FloatProgress(value=0.0, description='Training', layout=Layout(flex='2'), max=1250.0, style=Pro…"
      ]
     },
     "metadata": {},
     "output_type": "display_data"
    },
    {
     "name": "stdout",
     "output_type": "stream",
     "text": [
      "Epoch 193: train=7.03168, val=7.60118, took 239.39 s\n",
      "  Validation Found 51653 of 54504, added 1917 (eff 94.77%) (0.192 FP/event)\n"
     ]
    },
    {
     "data": {
      "application/vnd.jupyter.widget-view+json": {
       "model_id": "",
       "version_major": 2,
       "version_minor": 0
      },
      "text/plain": [
       "HBox(children=(FloatProgress(value=0.0, description='Training', layout=Layout(flex='2'), max=1250.0, style=Pro…"
      ]
     },
     "metadata": {},
     "output_type": "display_data"
    },
    {
     "name": "stdout",
     "output_type": "stream",
     "text": [
      "Epoch 194: train=7.03472, val=7.70818, took 239.13 s\n",
      "  Validation Found 51520 of 54504, added 1717 (eff 94.53%) (0.172 FP/event)\n"
     ]
    },
    {
     "data": {
      "application/vnd.jupyter.widget-view+json": {
       "model_id": "",
       "version_major": 2,
       "version_minor": 0
      },
      "text/plain": [
       "HBox(children=(FloatProgress(value=0.0, description='Training', layout=Layout(flex='2'), max=1250.0, style=Pro…"
      ]
     },
     "metadata": {},
     "output_type": "display_data"
    },
    {
     "name": "stdout",
     "output_type": "stream",
     "text": [
      "Epoch 195: train=7.03346, val=7.602, took 239.01 s\n",
      "  Validation Found 51606 of 54504, added 1791 (eff 94.68%) (0.179 FP/event)\n"
     ]
    },
    {
     "data": {
      "application/vnd.jupyter.widget-view+json": {
       "model_id": "",
       "version_major": 2,
       "version_minor": 0
      },
      "text/plain": [
       "HBox(children=(FloatProgress(value=0.0, description='Training', layout=Layout(flex='2'), max=1250.0, style=Pro…"
      ]
     },
     "metadata": {},
     "output_type": "display_data"
    },
    {
     "name": "stdout",
     "output_type": "stream",
     "text": [
      "Epoch 196: train=7.03462, val=7.59762, took 239.11 s\n",
      "  Validation Found 51665 of 54504, added 1896 (eff 94.79%) (0.19 FP/event)\n"
     ]
    },
    {
     "data": {
      "application/vnd.jupyter.widget-view+json": {
       "model_id": "",
       "version_major": 2,
       "version_minor": 0
      },
      "text/plain": [
       "HBox(children=(FloatProgress(value=0.0, description='Training', layout=Layout(flex='2'), max=1250.0, style=Pro…"
      ]
     },
     "metadata": {},
     "output_type": "display_data"
    },
    {
     "name": "stdout",
     "output_type": "stream",
     "text": [
      "Epoch 197: train=7.03241, val=7.60597, took 239.11 s\n",
      "  Validation Found 51603 of 54504, added 1865 (eff 94.68%) (0.187 FP/event)\n"
     ]
    },
    {
     "data": {
      "application/vnd.jupyter.widget-view+json": {
       "model_id": "",
       "version_major": 2,
       "version_minor": 0
      },
      "text/plain": [
       "HBox(children=(FloatProgress(value=0.0, description='Training', layout=Layout(flex='2'), max=1250.0, style=Pro…"
      ]
     },
     "metadata": {},
     "output_type": "display_data"
    },
    {
     "name": "stdout",
     "output_type": "stream",
     "text": [
      "Epoch 198: train=7.03102, val=7.64543, took 239.43 s\n",
      "  Validation Found 51522 of 54504, added 1687 (eff 94.53%) (0.169 FP/event)\n"
     ]
    },
    {
     "data": {
      "application/vnd.jupyter.widget-view+json": {
       "model_id": "",
       "version_major": 2,
       "version_minor": 0
      },
      "text/plain": [
       "HBox(children=(FloatProgress(value=0.0, description='Training', layout=Layout(flex='2'), max=1250.0, style=Pro…"
      ]
     },
     "metadata": {},
     "output_type": "display_data"
    },
    {
     "name": "stdout",
     "output_type": "stream",
     "text": [
      "Epoch 199: train=7.03163, val=7.60192, took 238.6 s\n",
      "  Validation Found 51702 of 54504, added 1959 (eff 94.86%) (0.196 FP/event)\n"
     ]
    },
    {
     "data": {
      "application/vnd.jupyter.widget-view+json": {
       "model_id": "",
       "version_major": 2,
       "version_minor": 0
      },
      "text/plain": [
       "HBox(children=(FloatProgress(value=0.0, description='Training', layout=Layout(flex='2'), max=1250.0, style=Pro…"
      ]
     },
     "metadata": {},
     "output_type": "display_data"
    },
    {
     "name": "stdout",
     "output_type": "stream",
     "text": [
      "Epoch 200: train=7.03058, val=7.69919, took 237.47 s\n",
      "  Validation Found 51464 of 54504, added 1689 (eff 94.42%) (0.169 FP/event)\n"
     ]
    },
    {
     "data": {
      "application/vnd.jupyter.widget-view+json": {
       "model_id": "",
       "version_major": 2,
       "version_minor": 0
      },
      "text/plain": [
       "HBox(children=(FloatProgress(value=0.0, description='Training', layout=Layout(flex='2'), max=1250.0, style=Pro…"
      ]
     },
     "metadata": {},
     "output_type": "display_data"
    },
    {
     "name": "stdout",
     "output_type": "stream",
     "text": [
      "Epoch 201: train=7.02995, val=7.6754, took 239.34 s\n",
      "  Validation Found 51506 of 54504, added 1705 (eff 94.50%) (0.171 FP/event)\n"
     ]
    },
    {
     "data": {
      "application/vnd.jupyter.widget-view+json": {
       "model_id": "",
       "version_major": 2,
       "version_minor": 0
      },
      "text/plain": [
       "HBox(children=(FloatProgress(value=0.0, description='Training', layout=Layout(flex='2'), max=1250.0, style=Pro…"
      ]
     },
     "metadata": {},
     "output_type": "display_data"
    },
    {
     "name": "stdout",
     "output_type": "stream",
     "text": [
      "Epoch 202: train=7.02924, val=7.60933, took 239.23 s\n",
      "  Validation Found 51633 of 54504, added 1879 (eff 94.73%) (0.188 FP/event)\n"
     ]
    },
    {
     "data": {
      "application/vnd.jupyter.widget-view+json": {
       "model_id": "",
       "version_major": 2,
       "version_minor": 0
      },
      "text/plain": [
       "HBox(children=(FloatProgress(value=0.0, description='Training', layout=Layout(flex='2'), max=1250.0, style=Pro…"
      ]
     },
     "metadata": {},
     "output_type": "display_data"
    },
    {
     "name": "stdout",
     "output_type": "stream",
     "text": [
      "Epoch 203: train=7.02956, val=7.70564, took 239.28 s\n",
      "  Validation Found 51423 of 54504, added 1639 (eff 94.35%) (0.164 FP/event)\n"
     ]
    },
    {
     "data": {
      "application/vnd.jupyter.widget-view+json": {
       "model_id": "",
       "version_major": 2,
       "version_minor": 0
      },
      "text/plain": [
       "HBox(children=(FloatProgress(value=0.0, description='Training', layout=Layout(flex='2'), max=1250.0, style=Pro…"
      ]
     },
     "metadata": {},
     "output_type": "display_data"
    },
    {
     "name": "stdout",
     "output_type": "stream",
     "text": [
      "Epoch 204: train=7.02935, val=7.62357, took 239.13 s\n",
      "  Validation Found 51507 of 54504, added 1657 (eff 94.50%) (0.166 FP/event)\n"
     ]
    },
    {
     "data": {
      "application/vnd.jupyter.widget-view+json": {
       "model_id": "",
       "version_major": 2,
       "version_minor": 0
      },
      "text/plain": [
       "HBox(children=(FloatProgress(value=0.0, description='Training', layout=Layout(flex='2'), max=1250.0, style=Pro…"
      ]
     },
     "metadata": {},
     "output_type": "display_data"
    },
    {
     "name": "stdout",
     "output_type": "stream",
     "text": [
      "Epoch 205: train=7.0263, val=7.67843, took 239.72 s\n",
      "  Validation Found 51578 of 54504, added 1833 (eff 94.63%) (0.184 FP/event)\n"
     ]
    },
    {
     "data": {
      "application/vnd.jupyter.widget-view+json": {
       "model_id": "",
       "version_major": 2,
       "version_minor": 0
      },
      "text/plain": [
       "HBox(children=(FloatProgress(value=0.0, description='Training', layout=Layout(flex='2'), max=1250.0, style=Pro…"
      ]
     },
     "metadata": {},
     "output_type": "display_data"
    },
    {
     "name": "stdout",
     "output_type": "stream",
     "text": [
      "Epoch 206: train=7.02726, val=7.6527, took 239.24 s\n",
      "  Validation Found 51543 of 54504, added 1737 (eff 94.57%) (0.174 FP/event)\n"
     ]
    },
    {
     "data": {
      "application/vnd.jupyter.widget-view+json": {
       "model_id": "",
       "version_major": 2,
       "version_minor": 0
      },
      "text/plain": [
       "HBox(children=(FloatProgress(value=0.0, description='Training', layout=Layout(flex='2'), max=1250.0, style=Pro…"
      ]
     },
     "metadata": {},
     "output_type": "display_data"
    },
    {
     "name": "stdout",
     "output_type": "stream",
     "text": [
      "Epoch 207: train=7.02406, val=7.53193, took 239.31 s\n",
      "  Validation Found 51806 of 54504, added 2224 (eff 95.05%) (0.223 FP/event)\n"
     ]
    },
    {
     "data": {
      "application/vnd.jupyter.widget-view+json": {
       "model_id": "",
       "version_major": 2,
       "version_minor": 0
      },
      "text/plain": [
       "HBox(children=(FloatProgress(value=0.0, description='Training', layout=Layout(flex='2'), max=1250.0, style=Pro…"
      ]
     },
     "metadata": {},
     "output_type": "display_data"
    },
    {
     "name": "stdout",
     "output_type": "stream",
     "text": [
      "Epoch 208: train=7.02789, val=7.61161, took 239.29 s\n",
      "  Validation Found 51724 of 54504, added 2078 (eff 94.90%) (0.208 FP/event)\n"
     ]
    },
    {
     "data": {
      "application/vnd.jupyter.widget-view+json": {
       "model_id": "",
       "version_major": 2,
       "version_minor": 0
      },
      "text/plain": [
       "HBox(children=(FloatProgress(value=0.0, description='Training', layout=Layout(flex='2'), max=1250.0, style=Pro…"
      ]
     },
     "metadata": {},
     "output_type": "display_data"
    },
    {
     "name": "stdout",
     "output_type": "stream",
     "text": [
      "Epoch 209: train=7.0225, val=7.58687, took 239.37 s\n",
      "  Validation Found 51723 of 54504, added 2051 (eff 94.90%) (0.205 FP/event)\n"
     ]
    },
    {
     "data": {
      "application/vnd.jupyter.widget-view+json": {
       "model_id": "",
       "version_major": 2,
       "version_minor": 0
      },
      "text/plain": [
       "HBox(children=(FloatProgress(value=0.0, description='Training', layout=Layout(flex='2'), max=1250.0, style=Pro…"
      ]
     },
     "metadata": {},
     "output_type": "display_data"
    },
    {
     "name": "stdout",
     "output_type": "stream",
     "text": [
      "Epoch 210: train=7.02473, val=7.61412, took 238.19 s\n",
      "  Validation Found 51623 of 54504, added 1854 (eff 94.71%) (0.186 FP/event)\n"
     ]
    },
    {
     "data": {
      "application/vnd.jupyter.widget-view+json": {
       "model_id": "",
       "version_major": 2,
       "version_minor": 0
      },
      "text/plain": [
       "HBox(children=(FloatProgress(value=0.0, description='Training', layout=Layout(flex='2'), max=1250.0, style=Pro…"
      ]
     },
     "metadata": {},
     "output_type": "display_data"
    },
    {
     "name": "stdout",
     "output_type": "stream",
     "text": [
      "Epoch 211: train=7.02381, val=7.61965, took 239.15 s\n",
      "  Validation Found 51644 of 54504, added 1939 (eff 94.75%) (0.194 FP/event)\n"
     ]
    },
    {
     "data": {
      "application/vnd.jupyter.widget-view+json": {
       "model_id": "",
       "version_major": 2,
       "version_minor": 0
      },
      "text/plain": [
       "HBox(children=(FloatProgress(value=0.0, description='Training', layout=Layout(flex='2'), max=1250.0, style=Pro…"
      ]
     },
     "metadata": {},
     "output_type": "display_data"
    },
    {
     "name": "stdout",
     "output_type": "stream",
     "text": [
      "Epoch 212: train=7.02329, val=7.77883, took 239.12 s\n",
      "  Validation Found 51476 of 54504, added 1639 (eff 94.44%) (0.164 FP/event)\n"
     ]
    },
    {
     "data": {
      "application/vnd.jupyter.widget-view+json": {
       "model_id": "",
       "version_major": 2,
       "version_minor": 0
      },
      "text/plain": [
       "HBox(children=(FloatProgress(value=0.0, description='Training', layout=Layout(flex='2'), max=1250.0, style=Pro…"
      ]
     },
     "metadata": {},
     "output_type": "display_data"
    },
    {
     "name": "stdout",
     "output_type": "stream",
     "text": [
      "Epoch 213: train=7.02488, val=7.66353, took 238.86 s\n",
      "  Validation Found 51589 of 54504, added 1782 (eff 94.65%) (0.178 FP/event)\n"
     ]
    },
    {
     "data": {
      "application/vnd.jupyter.widget-view+json": {
       "model_id": "",
       "version_major": 2,
       "version_minor": 0
      },
      "text/plain": [
       "HBox(children=(FloatProgress(value=0.0, description='Training', layout=Layout(flex='2'), max=1250.0, style=Pro…"
      ]
     },
     "metadata": {},
     "output_type": "display_data"
    },
    {
     "name": "stdout",
     "output_type": "stream",
     "text": [
      "Epoch 214: train=7.02001, val=7.52805, took 239.38 s\n",
      "  Validation Found 51606 of 54504, added 1822 (eff 94.68%) (0.182 FP/event)\n"
     ]
    },
    {
     "data": {
      "application/vnd.jupyter.widget-view+json": {
       "model_id": "",
       "version_major": 2,
       "version_minor": 0
      },
      "text/plain": [
       "HBox(children=(FloatProgress(value=0.0, description='Training', layout=Layout(flex='2'), max=1250.0, style=Pro…"
      ]
     },
     "metadata": {},
     "output_type": "display_data"
    },
    {
     "name": "stdout",
     "output_type": "stream",
     "text": [
      "Epoch 215: train=7.02218, val=7.59288, took 239.37 s\n",
      "  Validation Found 51772 of 54504, added 2207 (eff 94.99%) (0.221 FP/event)\n"
     ]
    },
    {
     "data": {
      "application/vnd.jupyter.widget-view+json": {
       "model_id": "",
       "version_major": 2,
       "version_minor": 0
      },
      "text/plain": [
       "HBox(children=(FloatProgress(value=0.0, description='Training', layout=Layout(flex='2'), max=1250.0, style=Pro…"
      ]
     },
     "metadata": {},
     "output_type": "display_data"
    },
    {
     "name": "stdout",
     "output_type": "stream",
     "text": [
      "Epoch 216: train=7.02107, val=7.59761, took 239.3 s\n",
      "  Validation Found 51680 of 54504, added 1992 (eff 94.82%) (0.199 FP/event)\n"
     ]
    },
    {
     "data": {
      "application/vnd.jupyter.widget-view+json": {
       "model_id": "",
       "version_major": 2,
       "version_minor": 0
      },
      "text/plain": [
       "HBox(children=(FloatProgress(value=0.0, description='Training', layout=Layout(flex='2'), max=1250.0, style=Pro…"
      ]
     },
     "metadata": {},
     "output_type": "display_data"
    },
    {
     "name": "stdout",
     "output_type": "stream",
     "text": [
      "Epoch 217: train=7.01929, val=7.57879, took 239.39 s\n",
      "  Validation Found 51676 of 54504, added 1925 (eff 94.81%) (0.193 FP/event)\n"
     ]
    },
    {
     "data": {
      "application/vnd.jupyter.widget-view+json": {
       "model_id": "",
       "version_major": 2,
       "version_minor": 0
      },
      "text/plain": [
       "HBox(children=(FloatProgress(value=0.0, description='Training', layout=Layout(flex='2'), max=1250.0, style=Pro…"
      ]
     },
     "metadata": {},
     "output_type": "display_data"
    },
    {
     "name": "stdout",
     "output_type": "stream",
     "text": [
      "Epoch 218: train=7.01963, val=7.67018, took 239.11 s\n",
      "  Validation Found 51648 of 54504, added 1806 (eff 94.76%) (0.181 FP/event)\n"
     ]
    },
    {
     "data": {
      "application/vnd.jupyter.widget-view+json": {
       "model_id": "",
       "version_major": 2,
       "version_minor": 0
      },
      "text/plain": [
       "HBox(children=(FloatProgress(value=0.0, description='Training', layout=Layout(flex='2'), max=1250.0, style=Pro…"
      ]
     },
     "metadata": {},
     "output_type": "display_data"
    },
    {
     "name": "stdout",
     "output_type": "stream",
     "text": [
      "Epoch 219: train=7.01687, val=7.63119, took 239.2 s\n",
      "  Validation Found 51600 of 54504, added 1777 (eff 94.67%) (0.178 FP/event)\n"
     ]
    },
    {
     "data": {
      "application/vnd.jupyter.widget-view+json": {
       "model_id": "",
       "version_major": 2,
       "version_minor": 0
      },
      "text/plain": [
       "HBox(children=(FloatProgress(value=0.0, description='Training', layout=Layout(flex='2'), max=1250.0, style=Pro…"
      ]
     },
     "metadata": {},
     "output_type": "display_data"
    },
    {
     "name": "stdout",
     "output_type": "stream",
     "text": [
      "Epoch 220: train=7.01868, val=7.6166, took 238.3 s\n",
      "  Validation Found 51550 of 54504, added 1796 (eff 94.58%) (0.18 FP/event)\n"
     ]
    },
    {
     "data": {
      "application/vnd.jupyter.widget-view+json": {
       "model_id": "",
       "version_major": 2,
       "version_minor": 0
      },
      "text/plain": [
       "HBox(children=(FloatProgress(value=0.0, description='Training', layout=Layout(flex='2'), max=1250.0, style=Pro…"
      ]
     },
     "metadata": {},
     "output_type": "display_data"
    },
    {
     "name": "stdout",
     "output_type": "stream",
     "text": [
      "Epoch 221: train=7.02293, val=7.69278, took 239.43 s\n",
      "  Validation Found 51540 of 54504, added 1789 (eff 94.56%) (0.179 FP/event)\n"
     ]
    },
    {
     "data": {
      "application/vnd.jupyter.widget-view+json": {
       "model_id": "",
       "version_major": 2,
       "version_minor": 0
      },
      "text/plain": [
       "HBox(children=(FloatProgress(value=0.0, description='Training', layout=Layout(flex='2'), max=1250.0, style=Pro…"
      ]
     },
     "metadata": {},
     "output_type": "display_data"
    },
    {
     "name": "stdout",
     "output_type": "stream",
     "text": [
      "Epoch 222: train=7.01823, val=7.70188, took 239.28 s\n",
      "  Validation Found 51563 of 54504, added 1769 (eff 94.60%) (0.177 FP/event)\n"
     ]
    },
    {
     "data": {
      "application/vnd.jupyter.widget-view+json": {
       "model_id": "",
       "version_major": 2,
       "version_minor": 0
      },
      "text/plain": [
       "HBox(children=(FloatProgress(value=0.0, description='Training', layout=Layout(flex='2'), max=1250.0, style=Pro…"
      ]
     },
     "metadata": {},
     "output_type": "display_data"
    },
    {
     "name": "stdout",
     "output_type": "stream",
     "text": [
      "Epoch 223: train=7.01851, val=7.59541, took 239.22 s\n",
      "  Validation Found 51666 of 54504, added 1958 (eff 94.79%) (0.196 FP/event)\n"
     ]
    },
    {
     "data": {
      "application/vnd.jupyter.widget-view+json": {
       "model_id": "",
       "version_major": 2,
       "version_minor": 0
      },
      "text/plain": [
       "HBox(children=(FloatProgress(value=0.0, description='Training', layout=Layout(flex='2'), max=1250.0, style=Pro…"
      ]
     },
     "metadata": {},
     "output_type": "display_data"
    },
    {
     "name": "stdout",
     "output_type": "stream",
     "text": [
      "Epoch 224: train=7.01517, val=7.53886, took 239.59 s\n",
      "  Validation Found 51770 of 54504, added 2081 (eff 94.98%) (0.208 FP/event)\n"
     ]
    },
    {
     "data": {
      "application/vnd.jupyter.widget-view+json": {
       "model_id": "",
       "version_major": 2,
       "version_minor": 0
      },
      "text/plain": [
       "HBox(children=(FloatProgress(value=0.0, description='Training', layout=Layout(flex='2'), max=1250.0, style=Pro…"
      ]
     },
     "metadata": {},
     "output_type": "display_data"
    },
    {
     "name": "stdout",
     "output_type": "stream",
     "text": [
      "Epoch 225: train=7.01603, val=7.68794, took 239.46 s\n",
      "  Validation Found 51544 of 54504, added 1744 (eff 94.57%) (0.175 FP/event)\n"
     ]
    },
    {
     "data": {
      "application/vnd.jupyter.widget-view+json": {
       "model_id": "",
       "version_major": 2,
       "version_minor": 0
      },
      "text/plain": [
       "HBox(children=(FloatProgress(value=0.0, description='Training', layout=Layout(flex='2'), max=1250.0, style=Pro…"
      ]
     },
     "metadata": {},
     "output_type": "display_data"
    },
    {
     "name": "stdout",
     "output_type": "stream",
     "text": [
      "Epoch 226: train=7.01498, val=7.62051, took 239.33 s\n",
      "  Validation Found 51637 of 54504, added 1891 (eff 94.74%) (0.189 FP/event)\n"
     ]
    },
    {
     "data": {
      "application/vnd.jupyter.widget-view+json": {
       "model_id": "",
       "version_major": 2,
       "version_minor": 0
      },
      "text/plain": [
       "HBox(children=(FloatProgress(value=0.0, description='Training', layout=Layout(flex='2'), max=1250.0, style=Pro…"
      ]
     },
     "metadata": {},
     "output_type": "display_data"
    },
    {
     "name": "stdout",
     "output_type": "stream",
     "text": [
      "Epoch 227: train=7.01477, val=7.59894, took 239.21 s\n",
      "  Validation Found 51661 of 54504, added 1967 (eff 94.78%) (0.197 FP/event)\n"
     ]
    },
    {
     "data": {
      "application/vnd.jupyter.widget-view+json": {
       "model_id": "",
       "version_major": 2,
       "version_minor": 0
      },
      "text/plain": [
       "HBox(children=(FloatProgress(value=0.0, description='Training', layout=Layout(flex='2'), max=1250.0, style=Pro…"
      ]
     },
     "metadata": {},
     "output_type": "display_data"
    },
    {
     "name": "stdout",
     "output_type": "stream",
     "text": [
      "Epoch 228: train=7.01458, val=7.60606, took 239.37 s\n",
      "  Validation Found 51593 of 54504, added 1803 (eff 94.66%) (0.181 FP/event)\n"
     ]
    },
    {
     "data": {
      "application/vnd.jupyter.widget-view+json": {
       "model_id": "",
       "version_major": 2,
       "version_minor": 0
      },
      "text/plain": [
       "HBox(children=(FloatProgress(value=0.0, description='Training', layout=Layout(flex='2'), max=1250.0, style=Pro…"
      ]
     },
     "metadata": {},
     "output_type": "display_data"
    },
    {
     "name": "stdout",
     "output_type": "stream",
     "text": [
      "Epoch 229: train=7.0142, val=7.69528, took 239.29 s\n",
      "  Validation Found 51738 of 54504, added 2030 (eff 94.93%) (0.203 FP/event)\n"
     ]
    },
    {
     "data": {
      "application/vnd.jupyter.widget-view+json": {
       "model_id": "",
       "version_major": 2,
       "version_minor": 0
      },
      "text/plain": [
       "HBox(children=(FloatProgress(value=0.0, description='Training', layout=Layout(flex='2'), max=1250.0, style=Pro…"
      ]
     },
     "metadata": {},
     "output_type": "display_data"
    },
    {
     "name": "stdout",
     "output_type": "stream",
     "text": [
      "Epoch 230: train=7.01258, val=7.61658, took 237.71 s\n",
      "  Validation Found 51623 of 54504, added 1809 (eff 94.71%) (0.181 FP/event)\n"
     ]
    },
    {
     "data": {
      "application/vnd.jupyter.widget-view+json": {
       "model_id": "",
       "version_major": 2,
       "version_minor": 0
      },
      "text/plain": [
       "HBox(children=(FloatProgress(value=0.0, description='Training', layout=Layout(flex='2'), max=1250.0, style=Pro…"
      ]
     },
     "metadata": {},
     "output_type": "display_data"
    },
    {
     "name": "stdout",
     "output_type": "stream",
     "text": [
      "Epoch 231: train=7.01353, val=7.66428, took 238.63 s\n",
      "  Validation Found 51637 of 54504, added 1917 (eff 94.74%) (0.192 FP/event)\n"
     ]
    },
    {
     "data": {
      "application/vnd.jupyter.widget-view+json": {
       "model_id": "",
       "version_major": 2,
       "version_minor": 0
      },
      "text/plain": [
       "HBox(children=(FloatProgress(value=0.0, description='Training', layout=Layout(flex='2'), max=1250.0, style=Pro…"
      ]
     },
     "metadata": {},
     "output_type": "display_data"
    },
    {
     "name": "stdout",
     "output_type": "stream",
     "text": [
      "Epoch 232: train=7.01191, val=7.60623, took 238.81 s\n",
      "  Validation Found 51607 of 54504, added 1858 (eff 94.68%) (0.186 FP/event)\n"
     ]
    },
    {
     "data": {
      "application/vnd.jupyter.widget-view+json": {
       "model_id": "",
       "version_major": 2,
       "version_minor": 0
      },
      "text/plain": [
       "HBox(children=(FloatProgress(value=0.0, description='Training', layout=Layout(flex='2'), max=1250.0, style=Pro…"
      ]
     },
     "metadata": {},
     "output_type": "display_data"
    },
    {
     "name": "stdout",
     "output_type": "stream",
     "text": [
      "Epoch 233: train=7.0147, val=7.57603, took 238.98 s\n",
      "  Validation Found 51599 of 54504, added 1813 (eff 94.67%) (0.182 FP/event)\n"
     ]
    },
    {
     "data": {
      "application/vnd.jupyter.widget-view+json": {
       "model_id": "",
       "version_major": 2,
       "version_minor": 0
      },
      "text/plain": [
       "HBox(children=(FloatProgress(value=0.0, description='Training', layout=Layout(flex='2'), max=1250.0, style=Pro…"
      ]
     },
     "metadata": {},
     "output_type": "display_data"
    },
    {
     "name": "stdout",
     "output_type": "stream",
     "text": [
      "Epoch 234: train=7.01226, val=7.57246, took 239.39 s\n",
      "  Validation Found 51580 of 54504, added 1856 (eff 94.64%) (0.186 FP/event)\n"
     ]
    },
    {
     "data": {
      "application/vnd.jupyter.widget-view+json": {
       "model_id": "",
       "version_major": 2,
       "version_minor": 0
      },
      "text/plain": [
       "HBox(children=(FloatProgress(value=0.0, description='Training', layout=Layout(flex='2'), max=1250.0, style=Pro…"
      ]
     },
     "metadata": {},
     "output_type": "display_data"
    },
    {
     "name": "stdout",
     "output_type": "stream",
     "text": [
      "Epoch 235: train=7.00751, val=7.60647, took 239.14 s\n",
      "  Validation Found 51689 of 54504, added 1920 (eff 94.84%) (0.192 FP/event)\n"
     ]
    },
    {
     "data": {
      "application/vnd.jupyter.widget-view+json": {
       "model_id": "",
       "version_major": 2,
       "version_minor": 0
      },
      "text/plain": [
       "HBox(children=(FloatProgress(value=0.0, description='Training', layout=Layout(flex='2'), max=1250.0, style=Pro…"
      ]
     },
     "metadata": {},
     "output_type": "display_data"
    },
    {
     "name": "stdout",
     "output_type": "stream",
     "text": [
      "Epoch 236: train=7.01045, val=7.62587, took 239.1 s\n",
      "  Validation Found 51658 of 54504, added 1961 (eff 94.78%) (0.196 FP/event)\n"
     ]
    },
    {
     "data": {
      "application/vnd.jupyter.widget-view+json": {
       "model_id": "",
       "version_major": 2,
       "version_minor": 0
      },
      "text/plain": [
       "HBox(children=(FloatProgress(value=0.0, description='Training', layout=Layout(flex='2'), max=1250.0, style=Pro…"
      ]
     },
     "metadata": {},
     "output_type": "display_data"
    },
    {
     "name": "stdout",
     "output_type": "stream",
     "text": [
      "Epoch 237: train=7.01137, val=7.63877, took 238.58 s\n",
      "  Validation Found 51523 of 54504, added 1767 (eff 94.53%) (0.177 FP/event)\n"
     ]
    },
    {
     "data": {
      "application/vnd.jupyter.widget-view+json": {
       "model_id": "",
       "version_major": 2,
       "version_minor": 0
      },
      "text/plain": [
       "HBox(children=(FloatProgress(value=0.0, description='Training', layout=Layout(flex='2'), max=1250.0, style=Pro…"
      ]
     },
     "metadata": {},
     "output_type": "display_data"
    },
    {
     "name": "stdout",
     "output_type": "stream",
     "text": [
      "Epoch 238: train=7.01256, val=7.63924, took 238.66 s\n",
      "  Validation Found 51542 of 54504, added 1742 (eff 94.57%) (0.174 FP/event)\n"
     ]
    },
    {
     "data": {
      "application/vnd.jupyter.widget-view+json": {
       "model_id": "",
       "version_major": 2,
       "version_minor": 0
      },
      "text/plain": [
       "HBox(children=(FloatProgress(value=0.0, description='Training', layout=Layout(flex='2'), max=1250.0, style=Pro…"
      ]
     },
     "metadata": {},
     "output_type": "display_data"
    },
    {
     "name": "stdout",
     "output_type": "stream",
     "text": [
      "Epoch 239: train=7.01034, val=7.67677, took 239.37 s\n",
      "  Validation Found 51541 of 54504, added 1739 (eff 94.56%) (0.174 FP/event)\n"
     ]
    },
    {
     "data": {
      "application/vnd.jupyter.widget-view+json": {
       "model_id": "",
       "version_major": 2,
       "version_minor": 0
      },
      "text/plain": [
       "HBox(children=(FloatProgress(value=0.0, description='Training', layout=Layout(flex='2'), max=1250.0, style=Pro…"
      ]
     },
     "metadata": {},
     "output_type": "display_data"
    },
    {
     "name": "stdout",
     "output_type": "stream",
     "text": [
      "Epoch 240: train=7.01263, val=7.60761, took 238.33 s\n",
      "  Validation Found 51634 of 54504, added 1849 (eff 94.73%) (0.185 FP/event)\n"
     ]
    },
    {
     "data": {
      "application/vnd.jupyter.widget-view+json": {
       "model_id": "",
       "version_major": 2,
       "version_minor": 0
      },
      "text/plain": [
       "HBox(children=(FloatProgress(value=0.0, description='Training', layout=Layout(flex='2'), max=1250.0, style=Pro…"
      ]
     },
     "metadata": {},
     "output_type": "display_data"
    },
    {
     "name": "stdout",
     "output_type": "stream",
     "text": [
      "Epoch 241: train=7.00996, val=7.56773, took 239.41 s\n",
      "  Validation Found 51679 of 54504, added 1897 (eff 94.82%) (0.19 FP/event)\n"
     ]
    },
    {
     "data": {
      "application/vnd.jupyter.widget-view+json": {
       "model_id": "",
       "version_major": 2,
       "version_minor": 0
      },
      "text/plain": [
       "HBox(children=(FloatProgress(value=0.0, description='Training', layout=Layout(flex='2'), max=1250.0, style=Pro…"
      ]
     },
     "metadata": {},
     "output_type": "display_data"
    },
    {
     "name": "stdout",
     "output_type": "stream",
     "text": [
      "Epoch 242: train=7.00773, val=7.58853, took 239.01 s\n",
      "  Validation Found 51623 of 54504, added 1901 (eff 94.71%) (0.19 FP/event)\n"
     ]
    },
    {
     "data": {
      "application/vnd.jupyter.widget-view+json": {
       "model_id": "",
       "version_major": 2,
       "version_minor": 0
      },
      "text/plain": [
       "HBox(children=(FloatProgress(value=0.0, description='Training', layout=Layout(flex='2'), max=1250.0, style=Pro…"
      ]
     },
     "metadata": {},
     "output_type": "display_data"
    },
    {
     "name": "stdout",
     "output_type": "stream",
     "text": [
      "Epoch 243: train=7.00711, val=7.67087, took 239.6 s\n",
      "  Validation Found 51555 of 54504, added 1752 (eff 94.59%) (0.175 FP/event)\n"
     ]
    },
    {
     "data": {
      "application/vnd.jupyter.widget-view+json": {
       "model_id": "",
       "version_major": 2,
       "version_minor": 0
      },
      "text/plain": [
       "HBox(children=(FloatProgress(value=0.0, description='Training', layout=Layout(flex='2'), max=1250.0, style=Pro…"
      ]
     },
     "metadata": {},
     "output_type": "display_data"
    },
    {
     "name": "stdout",
     "output_type": "stream",
     "text": [
      "Epoch 244: train=7.00985, val=7.6622, took 239.26 s\n",
      "  Validation Found 51564 of 54504, added 1816 (eff 94.61%) (0.182 FP/event)\n"
     ]
    },
    {
     "data": {
      "application/vnd.jupyter.widget-view+json": {
       "model_id": "",
       "version_major": 2,
       "version_minor": 0
      },
      "text/plain": [
       "HBox(children=(FloatProgress(value=0.0, description='Training', layout=Layout(flex='2'), max=1250.0, style=Pro…"
      ]
     },
     "metadata": {},
     "output_type": "display_data"
    },
    {
     "name": "stdout",
     "output_type": "stream",
     "text": [
      "Epoch 245: train=7.00617, val=7.66023, took 239.14 s\n",
      "  Validation Found 51636 of 54504, added 1854 (eff 94.74%) (0.186 FP/event)\n"
     ]
    },
    {
     "data": {
      "application/vnd.jupyter.widget-view+json": {
       "model_id": "",
       "version_major": 2,
       "version_minor": 0
      },
      "text/plain": [
       "HBox(children=(FloatProgress(value=0.0, description='Training', layout=Layout(flex='2'), max=1250.0, style=Pro…"
      ]
     },
     "metadata": {},
     "output_type": "display_data"
    },
    {
     "name": "stdout",
     "output_type": "stream",
     "text": [
      "Epoch 246: train=7.00509, val=7.70089, took 239.26 s\n",
      "  Validation Found 51535 of 54504, added 1710 (eff 94.55%) (0.171 FP/event)\n"
     ]
    },
    {
     "data": {
      "application/vnd.jupyter.widget-view+json": {
       "model_id": "",
       "version_major": 2,
       "version_minor": 0
      },
      "text/plain": [
       "HBox(children=(FloatProgress(value=0.0, description='Training', layout=Layout(flex='2'), max=1250.0, style=Pro…"
      ]
     },
     "metadata": {},
     "output_type": "display_data"
    },
    {
     "name": "stdout",
     "output_type": "stream",
     "text": [
      "Epoch 247: train=7.0064, val=7.66198, took 239.19 s\n",
      "  Validation Found 51656 of 54504, added 1958 (eff 94.77%) (0.196 FP/event)\n"
     ]
    },
    {
     "data": {
      "application/vnd.jupyter.widget-view+json": {
       "model_id": "",
       "version_major": 2,
       "version_minor": 0
      },
      "text/plain": [
       "HBox(children=(FloatProgress(value=0.0, description='Training', layout=Layout(flex='2'), max=1250.0, style=Pro…"
      ]
     },
     "metadata": {},
     "output_type": "display_data"
    },
    {
     "name": "stdout",
     "output_type": "stream",
     "text": [
      "Epoch 248: train=7.00944, val=7.6202, took 239.54 s\n",
      "  Validation Found 51634 of 54504, added 1833 (eff 94.73%) (0.184 FP/event)\n"
     ]
    },
    {
     "data": {
      "application/vnd.jupyter.widget-view+json": {
       "model_id": "",
       "version_major": 2,
       "version_minor": 0
      },
      "text/plain": [
       "HBox(children=(FloatProgress(value=0.0, description='Training', layout=Layout(flex='2'), max=1250.0, style=Pro…"
      ]
     },
     "metadata": {},
     "output_type": "display_data"
    },
    {
     "name": "stdout",
     "output_type": "stream",
     "text": [
      "Epoch 249: train=7.00731, val=7.5826, took 239.39 s\n",
      "  Validation Found 51669 of 54504, added 1936 (eff 94.80%) (0.194 FP/event)\n"
     ]
    },
    {
     "data": {
      "application/vnd.jupyter.widget-view+json": {
       "model_id": "",
       "version_major": 2,
       "version_minor": 0
      },
      "text/plain": [
       "HBox(children=(FloatProgress(value=0.0, description='Training', layout=Layout(flex='2'), max=1250.0, style=Pro…"
      ]
     },
     "metadata": {},
     "output_type": "display_data"
    },
    {
     "name": "stdout",
     "output_type": "stream",
     "text": [
      "Epoch 250: train=7.00452, val=7.75013, took 238.25 s\n",
      "  Validation Found 51398 of 54504, added 1602 (eff 94.30%) (0.16 FP/event)\n"
     ]
    },
    {
     "data": {
      "application/vnd.jupyter.widget-view+json": {
       "model_id": "",
       "version_major": 2,
       "version_minor": 0
      },
      "text/plain": [
       "HBox(children=(FloatProgress(value=0.0, description='Training', layout=Layout(flex='2'), max=1250.0, style=Pro…"
      ]
     },
     "metadata": {},
     "output_type": "display_data"
    },
    {
     "name": "stdout",
     "output_type": "stream",
     "text": [
      "Epoch 251: train=7.00163, val=7.57601, took 239.19 s\n",
      "  Validation Found 51849 of 54504, added 2314 (eff 95.13%) (0.232 FP/event)\n"
     ]
    },
    {
     "data": {
      "application/vnd.jupyter.widget-view+json": {
       "model_id": "",
       "version_major": 2,
       "version_minor": 0
      },
      "text/plain": [
       "HBox(children=(FloatProgress(value=0.0, description='Training', layout=Layout(flex='2'), max=1250.0, style=Pro…"
      ]
     },
     "metadata": {},
     "output_type": "display_data"
    },
    {
     "name": "stdout",
     "output_type": "stream",
     "text": [
      "Epoch 252: train=7.00466, val=7.63462, took 239.32 s\n",
      "  Validation Found 51626 of 54504, added 1881 (eff 94.72%) (0.188 FP/event)\n"
     ]
    },
    {
     "data": {
      "application/vnd.jupyter.widget-view+json": {
       "model_id": "",
       "version_major": 2,
       "version_minor": 0
      },
      "text/plain": [
       "HBox(children=(FloatProgress(value=0.0, description='Training', layout=Layout(flex='2'), max=1250.0, style=Pro…"
      ]
     },
     "metadata": {},
     "output_type": "display_data"
    },
    {
     "name": "stdout",
     "output_type": "stream",
     "text": [
      "Epoch 253: train=7.00421, val=7.60559, took 239.28 s\n",
      "  Validation Found 51690 of 54504, added 1964 (eff 94.84%) (0.197 FP/event)\n"
     ]
    },
    {
     "data": {
      "application/vnd.jupyter.widget-view+json": {
       "model_id": "",
       "version_major": 2,
       "version_minor": 0
      },
      "text/plain": [
       "HBox(children=(FloatProgress(value=0.0, description='Training', layout=Layout(flex='2'), max=1250.0, style=Pro…"
      ]
     },
     "metadata": {},
     "output_type": "display_data"
    },
    {
     "name": "stdout",
     "output_type": "stream",
     "text": [
      "Epoch 254: train=7.00509, val=7.59466, took 239.59 s\n",
      "  Validation Found 51779 of 54504, added 2189 (eff 95.00%) (0.219 FP/event)\n"
     ]
    },
    {
     "data": {
      "application/vnd.jupyter.widget-view+json": {
       "model_id": "",
       "version_major": 2,
       "version_minor": 0
      },
      "text/plain": [
       "HBox(children=(FloatProgress(value=0.0, description='Training', layout=Layout(flex='2'), max=1250.0, style=Pro…"
      ]
     },
     "metadata": {},
     "output_type": "display_data"
    },
    {
     "name": "stdout",
     "output_type": "stream",
     "text": [
      "Epoch 255: train=7.00164, val=7.61278, took 239.32 s\n",
      "  Validation Found 51553 of 54504, added 1696 (eff 94.59%) (0.17 FP/event)\n"
     ]
    },
    {
     "data": {
      "application/vnd.jupyter.widget-view+json": {
       "model_id": "",
       "version_major": 2,
       "version_minor": 0
      },
      "text/plain": [
       "HBox(children=(FloatProgress(value=0.0, description='Training', layout=Layout(flex='2'), max=1250.0, style=Pro…"
      ]
     },
     "metadata": {},
     "output_type": "display_data"
    },
    {
     "name": "stdout",
     "output_type": "stream",
     "text": [
      "Epoch 256: train=7.00312, val=7.68244, took 239.24 s\n",
      "  Validation Found 51560 of 54504, added 1726 (eff 94.60%) (0.173 FP/event)\n"
     ]
    },
    {
     "data": {
      "application/vnd.jupyter.widget-view+json": {
       "model_id": "",
       "version_major": 2,
       "version_minor": 0
      },
      "text/plain": [
       "HBox(children=(FloatProgress(value=0.0, description='Training', layout=Layout(flex='2'), max=1250.0, style=Pro…"
      ]
     },
     "metadata": {},
     "output_type": "display_data"
    },
    {
     "name": "stdout",
     "output_type": "stream",
     "text": [
      "Epoch 257: train=6.9991, val=7.67428, took 239.29 s\n",
      "  Validation Found 51481 of 54504, added 1629 (eff 94.45%) (0.163 FP/event)\n"
     ]
    },
    {
     "data": {
      "application/vnd.jupyter.widget-view+json": {
       "model_id": "",
       "version_major": 2,
       "version_minor": 0
      },
      "text/plain": [
       "HBox(children=(FloatProgress(value=0.0, description='Training', layout=Layout(flex='2'), max=1250.0, style=Pro…"
      ]
     },
     "metadata": {},
     "output_type": "display_data"
    },
    {
     "name": "stdout",
     "output_type": "stream",
     "text": [
      "Epoch 258: train=7.0009, val=7.55468, took 239.48 s\n",
      "  Validation Found 51738 of 54504, added 2055 (eff 94.93%) (0.206 FP/event)\n"
     ]
    },
    {
     "data": {
      "application/vnd.jupyter.widget-view+json": {
       "model_id": "",
       "version_major": 2,
       "version_minor": 0
      },
      "text/plain": [
       "HBox(children=(FloatProgress(value=0.0, description='Training', layout=Layout(flex='2'), max=1250.0, style=Pro…"
      ]
     },
     "metadata": {},
     "output_type": "display_data"
    },
    {
     "name": "stdout",
     "output_type": "stream",
     "text": [
      "Epoch 259: train=6.99948, val=7.67202, took 239.48 s\n",
      "  Validation Found 51502 of 54504, added 1769 (eff 94.49%) (0.177 FP/event)\n"
     ]
    },
    {
     "data": {
      "application/vnd.jupyter.widget-view+json": {
       "model_id": "",
       "version_major": 2,
       "version_minor": 0
      },
      "text/plain": [
       "HBox(children=(FloatProgress(value=0.0, description='Training', layout=Layout(flex='2'), max=1250.0, style=Pro…"
      ]
     },
     "metadata": {},
     "output_type": "display_data"
    },
    {
     "name": "stdout",
     "output_type": "stream",
     "text": [
      "Epoch 260: train=7.0002, val=7.72697, took 238.55 s\n",
      "  Validation Found 51679 of 54504, added 2081 (eff 94.82%) (0.208 FP/event)\n"
     ]
    },
    {
     "data": {
      "application/vnd.jupyter.widget-view+json": {
       "model_id": "",
       "version_major": 2,
       "version_minor": 0
      },
      "text/plain": [
       "HBox(children=(FloatProgress(value=0.0, description='Training', layout=Layout(flex='2'), max=1250.0, style=Pro…"
      ]
     },
     "metadata": {},
     "output_type": "display_data"
    },
    {
     "name": "stdout",
     "output_type": "stream",
     "text": [
      "Epoch 261: train=7.00011, val=7.68953, took 239.23 s\n",
      "  Validation Found 51560 of 54504, added 1800 (eff 94.60%) (0.18 FP/event)\n"
     ]
    },
    {
     "data": {
      "application/vnd.jupyter.widget-view+json": {
       "model_id": "",
       "version_major": 2,
       "version_minor": 0
      },
      "text/plain": [
       "HBox(children=(FloatProgress(value=0.0, description='Training', layout=Layout(flex='2'), max=1250.0, style=Pro…"
      ]
     },
     "metadata": {},
     "output_type": "display_data"
    },
    {
     "name": "stdout",
     "output_type": "stream",
     "text": [
      "Epoch 262: train=7.001, val=7.64318, took 239.53 s\n",
      "  Validation Found 51636 of 54504, added 1873 (eff 94.74%) (0.188 FP/event)\n"
     ]
    },
    {
     "data": {
      "application/vnd.jupyter.widget-view+json": {
       "model_id": "",
       "version_major": 2,
       "version_minor": 0
      },
      "text/plain": [
       "HBox(children=(FloatProgress(value=0.0, description='Training', layout=Layout(flex='2'), max=1250.0, style=Pro…"
      ]
     },
     "metadata": {},
     "output_type": "display_data"
    },
    {
     "name": "stdout",
     "output_type": "stream",
     "text": [
      "Epoch 263: train=7.0003, val=7.57038, took 239.15 s\n",
      "  Validation Found 51634 of 54504, added 1884 (eff 94.73%) (0.189 FP/event)\n"
     ]
    },
    {
     "data": {
      "application/vnd.jupyter.widget-view+json": {
       "model_id": "",
       "version_major": 2,
       "version_minor": 0
      },
      "text/plain": [
       "HBox(children=(FloatProgress(value=0.0, description='Training', layout=Layout(flex='2'), max=1250.0, style=Pro…"
      ]
     },
     "metadata": {},
     "output_type": "display_data"
    },
    {
     "name": "stdout",
     "output_type": "stream",
     "text": [
      "Epoch 264: train=7.00016, val=7.67907, took 239.52 s\n",
      "  Validation Found 51586 of 54504, added 1842 (eff 94.65%) (0.184 FP/event)\n"
     ]
    },
    {
     "data": {
      "application/vnd.jupyter.widget-view+json": {
       "model_id": "",
       "version_major": 2,
       "version_minor": 0
      },
      "text/plain": [
       "HBox(children=(FloatProgress(value=0.0, description='Training', layout=Layout(flex='2'), max=1250.0, style=Pro…"
      ]
     },
     "metadata": {},
     "output_type": "display_data"
    },
    {
     "name": "stdout",
     "output_type": "stream",
     "text": [
      "Epoch 265: train=6.99649, val=7.57516, took 239.41 s\n",
      "  Validation Found 51629 of 54504, added 1913 (eff 94.73%) (0.192 FP/event)\n"
     ]
    },
    {
     "data": {
      "application/vnd.jupyter.widget-view+json": {
       "model_id": "",
       "version_major": 2,
       "version_minor": 0
      },
      "text/plain": [
       "HBox(children=(FloatProgress(value=0.0, description='Training', layout=Layout(flex='2'), max=1250.0, style=Pro…"
      ]
     },
     "metadata": {},
     "output_type": "display_data"
    },
    {
     "name": "stdout",
     "output_type": "stream",
     "text": [
      "Epoch 266: train=6.99942, val=7.61338, took 239.3 s\n",
      "  Validation Found 51713 of 54504, added 2043 (eff 94.88%) (0.205 FP/event)\n"
     ]
    },
    {
     "data": {
      "application/vnd.jupyter.widget-view+json": {
       "model_id": "",
       "version_major": 2,
       "version_minor": 0
      },
      "text/plain": [
       "HBox(children=(FloatProgress(value=0.0, description='Training', layout=Layout(flex='2'), max=1250.0, style=Pro…"
      ]
     },
     "metadata": {},
     "output_type": "display_data"
    },
    {
     "name": "stdout",
     "output_type": "stream",
     "text": [
      "Epoch 267: train=6.99661, val=7.69498, took 239.42 s\n",
      "  Validation Found 51584 of 54504, added 1858 (eff 94.64%) (0.186 FP/event)\n"
     ]
    },
    {
     "data": {
      "application/vnd.jupyter.widget-view+json": {
       "model_id": "",
       "version_major": 2,
       "version_minor": 0
      },
      "text/plain": [
       "HBox(children=(FloatProgress(value=0.0, description='Training', layout=Layout(flex='2'), max=1250.0, style=Pro…"
      ]
     },
     "metadata": {},
     "output_type": "display_data"
    },
    {
     "name": "stdout",
     "output_type": "stream",
     "text": [
      "Epoch 268: train=6.99656, val=7.65505, took 239.44 s\n",
      "  Validation Found 51726 of 54504, added 2078 (eff 94.90%) (0.208 FP/event)\n"
     ]
    },
    {
     "data": {
      "application/vnd.jupyter.widget-view+json": {
       "model_id": "",
       "version_major": 2,
       "version_minor": 0
      },
      "text/plain": [
       "HBox(children=(FloatProgress(value=0.0, description='Training', layout=Layout(flex='2'), max=1250.0, style=Pro…"
      ]
     },
     "metadata": {},
     "output_type": "display_data"
    },
    {
     "name": "stdout",
     "output_type": "stream",
     "text": [
      "Epoch 269: train=7.00017, val=7.83047, took 239.07 s\n",
      "  Validation Found 51366 of 54504, added 1534 (eff 94.24%) (0.154 FP/event)\n"
     ]
    },
    {
     "data": {
      "application/vnd.jupyter.widget-view+json": {
       "model_id": "",
       "version_major": 2,
       "version_minor": 0
      },
      "text/plain": [
       "HBox(children=(FloatProgress(value=0.0, description='Training', layout=Layout(flex='2'), max=1250.0, style=Pro…"
      ]
     },
     "metadata": {},
     "output_type": "display_data"
    },
    {
     "name": "stdout",
     "output_type": "stream",
     "text": [
      "Epoch 270: train=6.99761, val=7.64337, took 176.26 s\n",
      "  Validation Found 51578 of 54504, added 1806 (eff 94.63%) (0.181 FP/event)\n"
     ]
    },
    {
     "data": {
      "application/vnd.jupyter.widget-view+json": {
       "model_id": "",
       "version_major": 2,
       "version_minor": 0
      },
      "text/plain": [
       "HBox(children=(FloatProgress(value=0.0, description='Training', layout=Layout(flex='2'), max=1250.0, style=Pro…"
      ]
     },
     "metadata": {},
     "output_type": "display_data"
    },
    {
     "name": "stdout",
     "output_type": "stream",
     "text": [
      "Epoch 271: train=6.99658, val=7.57017, took 125.59 s\n",
      "  Validation Found 51731 of 54504, added 2149 (eff 94.91%) (0.215 FP/event)\n"
     ]
    },
    {
     "data": {
      "application/vnd.jupyter.widget-view+json": {
       "model_id": "",
       "version_major": 2,
       "version_minor": 0
      },
      "text/plain": [
       "HBox(children=(FloatProgress(value=0.0, description='Training', layout=Layout(flex='2'), max=1250.0, style=Pro…"
      ]
     },
     "metadata": {},
     "output_type": "display_data"
    },
    {
     "name": "stdout",
     "output_type": "stream",
     "text": [
      "Epoch 272: train=6.99619, val=7.70568, took 125.58 s\n",
      "  Validation Found 51589 of 54504, added 1796 (eff 94.65%) (0.18 FP/event)\n"
     ]
    },
    {
     "data": {
      "application/vnd.jupyter.widget-view+json": {
       "model_id": "",
       "version_major": 2,
       "version_minor": 0
      },
      "text/plain": [
       "HBox(children=(FloatProgress(value=0.0, description='Training', layout=Layout(flex='2'), max=1250.0, style=Pro…"
      ]
     },
     "metadata": {},
     "output_type": "display_data"
    },
    {
     "name": "stdout",
     "output_type": "stream",
     "text": [
      "Epoch 273: train=6.99358, val=7.73198, took 125.49 s\n",
      "  Validation Found 51505 of 54504, added 1751 (eff 94.50%) (0.175 FP/event)\n"
     ]
    },
    {
     "data": {
      "application/vnd.jupyter.widget-view+json": {
       "model_id": "",
       "version_major": 2,
       "version_minor": 0
      },
      "text/plain": [
       "HBox(children=(FloatProgress(value=0.0, description='Training', layout=Layout(flex='2'), max=1250.0, style=Pro…"
      ]
     },
     "metadata": {},
     "output_type": "display_data"
    },
    {
     "name": "stdout",
     "output_type": "stream",
     "text": [
      "Epoch 274: train=6.99581, val=7.61817, took 125.49 s\n",
      "  Validation Found 51668 of 54504, added 1934 (eff 94.80%) (0.194 FP/event)\n"
     ]
    },
    {
     "data": {
      "application/vnd.jupyter.widget-view+json": {
       "model_id": "",
       "version_major": 2,
       "version_minor": 0
      },
      "text/plain": [
       "HBox(children=(FloatProgress(value=0.0, description='Training', layout=Layout(flex='2'), max=1250.0, style=Pro…"
      ]
     },
     "metadata": {},
     "output_type": "display_data"
    },
    {
     "name": "stdout",
     "output_type": "stream",
     "text": [
      "Epoch 275: train=6.99513, val=7.73494, took 125.54 s\n",
      "  Validation Found 51408 of 54504, added 1611 (eff 94.32%) (0.161 FP/event)\n"
     ]
    },
    {
     "data": {
      "application/vnd.jupyter.widget-view+json": {
       "model_id": "",
       "version_major": 2,
       "version_minor": 0
      },
      "text/plain": [
       "HBox(children=(FloatProgress(value=0.0, description='Training', layout=Layout(flex='2'), max=1250.0, style=Pro…"
      ]
     },
     "metadata": {},
     "output_type": "display_data"
    },
    {
     "name": "stdout",
     "output_type": "stream",
     "text": [
      "Epoch 276: train=6.99339, val=7.61024, took 125.57 s\n",
      "  Validation Found 51518 of 54504, added 1698 (eff 94.52%) (0.17 FP/event)\n"
     ]
    },
    {
     "data": {
      "application/vnd.jupyter.widget-view+json": {
       "model_id": "",
       "version_major": 2,
       "version_minor": 0
      },
      "text/plain": [
       "HBox(children=(FloatProgress(value=0.0, description='Training', layout=Layout(flex='2'), max=1250.0, style=Pro…"
      ]
     },
     "metadata": {},
     "output_type": "display_data"
    },
    {
     "name": "stdout",
     "output_type": "stream",
     "text": [
      "Epoch 277: train=6.99209, val=7.67514, took 125.6 s\n",
      "  Validation Found 51690 of 54504, added 2010 (eff 94.84%) (0.201 FP/event)\n"
     ]
    },
    {
     "data": {
      "application/vnd.jupyter.widget-view+json": {
       "model_id": "",
       "version_major": 2,
       "version_minor": 0
      },
      "text/plain": [
       "HBox(children=(FloatProgress(value=0.0, description='Training', layout=Layout(flex='2'), max=1250.0, style=Pro…"
      ]
     },
     "metadata": {},
     "output_type": "display_data"
    },
    {
     "name": "stdout",
     "output_type": "stream",
     "text": [
      "Epoch 278: train=6.99203, val=7.68043, took 125.58 s\n",
      "  Validation Found 51486 of 54504, added 1716 (eff 94.46%) (0.172 FP/event)\n"
     ]
    },
    {
     "data": {
      "application/vnd.jupyter.widget-view+json": {
       "model_id": "",
       "version_major": 2,
       "version_minor": 0
      },
      "text/plain": [
       "HBox(children=(FloatProgress(value=0.0, description='Training', layout=Layout(flex='2'), max=1250.0, style=Pro…"
      ]
     },
     "metadata": {},
     "output_type": "display_data"
    },
    {
     "name": "stdout",
     "output_type": "stream",
     "text": [
      "Epoch 279: train=6.99132, val=7.69336, took 125.63 s\n",
      "  Validation Found 51518 of 54504, added 1751 (eff 94.52%) (0.175 FP/event)\n"
     ]
    },
    {
     "data": {
      "application/vnd.jupyter.widget-view+json": {
       "model_id": "",
       "version_major": 2,
       "version_minor": 0
      },
      "text/plain": [
       "HBox(children=(FloatProgress(value=0.0, description='Training', layout=Layout(flex='2'), max=1250.0, style=Pro…"
      ]
     },
     "metadata": {},
     "output_type": "display_data"
    },
    {
     "name": "stdout",
     "output_type": "stream",
     "text": [
      "Epoch 280: train=6.99204, val=7.5541, took 125.55 s\n",
      "  Validation Found 51649 of 54504, added 1887 (eff 94.76%) (0.189 FP/event)\n"
     ]
    },
    {
     "data": {
      "application/vnd.jupyter.widget-view+json": {
       "model_id": "",
       "version_major": 2,
       "version_minor": 0
      },
      "text/plain": [
       "HBox(children=(FloatProgress(value=0.0, description='Training', layout=Layout(flex='2'), max=1250.0, style=Pro…"
      ]
     },
     "metadata": {},
     "output_type": "display_data"
    },
    {
     "name": "stdout",
     "output_type": "stream",
     "text": [
      "Epoch 281: train=6.99264, val=7.56001, took 125.65 s\n",
      "  Validation Found 51717 of 54504, added 2031 (eff 94.89%) (0.203 FP/event)\n"
     ]
    },
    {
     "data": {
      "application/vnd.jupyter.widget-view+json": {
       "model_id": "",
       "version_major": 2,
       "version_minor": 0
      },
      "text/plain": [
       "HBox(children=(FloatProgress(value=0.0, description='Training', layout=Layout(flex='2'), max=1250.0, style=Pro…"
      ]
     },
     "metadata": {},
     "output_type": "display_data"
    },
    {
     "name": "stdout",
     "output_type": "stream",
     "text": [
      "Epoch 282: train=6.99264, val=7.79724, took 125.53 s\n",
      "  Validation Found 51431 of 54504, added 1635 (eff 94.36%) (0.164 FP/event)\n"
     ]
    },
    {
     "data": {
      "application/vnd.jupyter.widget-view+json": {
       "model_id": "",
       "version_major": 2,
       "version_minor": 0
      },
      "text/plain": [
       "HBox(children=(FloatProgress(value=0.0, description='Training', layout=Layout(flex='2'), max=1250.0, style=Pro…"
      ]
     },
     "metadata": {},
     "output_type": "display_data"
    },
    {
     "name": "stdout",
     "output_type": "stream",
     "text": [
      "Epoch 283: train=6.99301, val=7.56312, took 124.92 s\n",
      "  Validation Found 51697 of 54504, added 1997 (eff 94.85%) (0.2 FP/event)\n"
     ]
    },
    {
     "data": {
      "application/vnd.jupyter.widget-view+json": {
       "model_id": "",
       "version_major": 2,
       "version_minor": 0
      },
      "text/plain": [
       "HBox(children=(FloatProgress(value=0.0, description='Training', layout=Layout(flex='2'), max=1250.0, style=Pro…"
      ]
     },
     "metadata": {},
     "output_type": "display_data"
    },
    {
     "name": "stdout",
     "output_type": "stream",
     "text": [
      "Epoch 284: train=6.99193, val=7.55244, took 125.57 s\n",
      "  Validation Found 51717 of 54504, added 2053 (eff 94.89%) (0.206 FP/event)\n"
     ]
    },
    {
     "data": {
      "application/vnd.jupyter.widget-view+json": {
       "model_id": "",
       "version_major": 2,
       "version_minor": 0
      },
      "text/plain": [
       "HBox(children=(FloatProgress(value=0.0, description='Training', layout=Layout(flex='2'), max=1250.0, style=Pro…"
      ]
     },
     "metadata": {},
     "output_type": "display_data"
    },
    {
     "name": "stdout",
     "output_type": "stream",
     "text": [
      "Epoch 285: train=6.99119, val=7.7065, took 125.53 s\n",
      "  Validation Found 51494 of 54504, added 1708 (eff 94.48%) (0.171 FP/event)\n"
     ]
    },
    {
     "data": {
      "application/vnd.jupyter.widget-view+json": {
       "model_id": "",
       "version_major": 2,
       "version_minor": 0
      },
      "text/plain": [
       "HBox(children=(FloatProgress(value=0.0, description='Training', layout=Layout(flex='2'), max=1250.0, style=Pro…"
      ]
     },
     "metadata": {},
     "output_type": "display_data"
    },
    {
     "name": "stdout",
     "output_type": "stream",
     "text": [
      "Epoch 286: train=6.99249, val=7.6416, took 125.53 s\n",
      "  Validation Found 51602 of 54504, added 1888 (eff 94.68%) (0.189 FP/event)\n"
     ]
    },
    {
     "data": {
      "application/vnd.jupyter.widget-view+json": {
       "model_id": "",
       "version_major": 2,
       "version_minor": 0
      },
      "text/plain": [
       "HBox(children=(FloatProgress(value=0.0, description='Training', layout=Layout(flex='2'), max=1250.0, style=Pro…"
      ]
     },
     "metadata": {},
     "output_type": "display_data"
    },
    {
     "name": "stdout",
     "output_type": "stream",
     "text": [
      "Epoch 287: train=6.98737, val=7.57293, took 125.5 s\n",
      "  Validation Found 51685 of 54504, added 2009 (eff 94.83%) (0.201 FP/event)\n"
     ]
    },
    {
     "data": {
      "application/vnd.jupyter.widget-view+json": {
       "model_id": "",
       "version_major": 2,
       "version_minor": 0
      },
      "text/plain": [
       "HBox(children=(FloatProgress(value=0.0, description='Training', layout=Layout(flex='2'), max=1250.0, style=Pro…"
      ]
     },
     "metadata": {},
     "output_type": "display_data"
    },
    {
     "name": "stdout",
     "output_type": "stream",
     "text": [
      "Epoch 288: train=6.98909, val=7.6095, took 125.51 s\n",
      "  Validation Found 51708 of 54504, added 1988 (eff 94.87%) (0.199 FP/event)\n"
     ]
    },
    {
     "data": {
      "application/vnd.jupyter.widget-view+json": {
       "model_id": "",
       "version_major": 2,
       "version_minor": 0
      },
      "text/plain": [
       "HBox(children=(FloatProgress(value=0.0, description='Training', layout=Layout(flex='2'), max=1250.0, style=Pro…"
      ]
     },
     "metadata": {},
     "output_type": "display_data"
    },
    {
     "name": "stdout",
     "output_type": "stream",
     "text": [
      "Epoch 289: train=6.99082, val=7.61821, took 125.78 s\n",
      "  Validation Found 51632 of 54504, added 1900 (eff 94.73%) (0.19 FP/event)\n"
     ]
    },
    {
     "data": {
      "application/vnd.jupyter.widget-view+json": {
       "model_id": "",
       "version_major": 2,
       "version_minor": 0
      },
      "text/plain": [
       "HBox(children=(FloatProgress(value=0.0, description='Training', layout=Layout(flex='2'), max=1250.0, style=Pro…"
      ]
     },
     "metadata": {},
     "output_type": "display_data"
    },
    {
     "name": "stdout",
     "output_type": "stream",
     "text": [
      "Epoch 290: train=6.9891, val=7.7316, took 125.61 s\n",
      "  Validation Found 51444 of 54504, added 1707 (eff 94.39%) (0.171 FP/event)\n"
     ]
    },
    {
     "data": {
      "application/vnd.jupyter.widget-view+json": {
       "model_id": "",
       "version_major": 2,
       "version_minor": 0
      },
      "text/plain": [
       "HBox(children=(FloatProgress(value=0.0, description='Training', layout=Layout(flex='2'), max=1250.0, style=Pro…"
      ]
     },
     "metadata": {},
     "output_type": "display_data"
    },
    {
     "name": "stdout",
     "output_type": "stream",
     "text": [
      "Epoch 291: train=6.98955, val=7.5862, took 125.62 s\n",
      "  Validation Found 51615 of 54504, added 1958 (eff 94.70%) (0.196 FP/event)\n"
     ]
    },
    {
     "data": {
      "application/vnd.jupyter.widget-view+json": {
       "model_id": "",
       "version_major": 2,
       "version_minor": 0
      },
      "text/plain": [
       "HBox(children=(FloatProgress(value=0.0, description='Training', layout=Layout(flex='2'), max=1250.0, style=Pro…"
      ]
     },
     "metadata": {},
     "output_type": "display_data"
    },
    {
     "name": "stdout",
     "output_type": "stream",
     "text": [
      "Epoch 292: train=6.98637, val=7.57002, took 125.51 s\n",
      "  Validation Found 51768 of 54504, added 2125 (eff 94.98%) (0.213 FP/event)\n"
     ]
    },
    {
     "data": {
      "application/vnd.jupyter.widget-view+json": {
       "model_id": "",
       "version_major": 2,
       "version_minor": 0
      },
      "text/plain": [
       "HBox(children=(FloatProgress(value=0.0, description='Training', layout=Layout(flex='2'), max=1250.0, style=Pro…"
      ]
     },
     "metadata": {},
     "output_type": "display_data"
    },
    {
     "name": "stdout",
     "output_type": "stream",
     "text": [
      "Epoch 293: train=6.9912, val=7.56952, took 125.56 s\n",
      "  Validation Found 51683 of 54504, added 2054 (eff 94.82%) (0.206 FP/event)\n"
     ]
    },
    {
     "data": {
      "application/vnd.jupyter.widget-view+json": {
       "model_id": "",
       "version_major": 2,
       "version_minor": 0
      },
      "text/plain": [
       "HBox(children=(FloatProgress(value=0.0, description='Training', layout=Layout(flex='2'), max=1250.0, style=Pro…"
      ]
     },
     "metadata": {},
     "output_type": "display_data"
    },
    {
     "name": "stdout",
     "output_type": "stream",
     "text": [
      "Epoch 294: train=6.98641, val=7.60978, took 125.53 s\n",
      "  Validation Found 51700 of 54504, added 2058 (eff 94.86%) (0.206 FP/event)\n"
     ]
    },
    {
     "data": {
      "application/vnd.jupyter.widget-view+json": {
       "model_id": "",
       "version_major": 2,
       "version_minor": 0
      },
      "text/plain": [
       "HBox(children=(FloatProgress(value=0.0, description='Training', layout=Layout(flex='2'), max=1250.0, style=Pro…"
      ]
     },
     "metadata": {},
     "output_type": "display_data"
    },
    {
     "name": "stdout",
     "output_type": "stream",
     "text": [
      "Epoch 295: train=6.98577, val=7.60074, took 125.56 s\n",
      "  Validation Found 51659 of 54504, added 1858 (eff 94.78%) (0.186 FP/event)\n"
     ]
    },
    {
     "data": {
      "application/vnd.jupyter.widget-view+json": {
       "model_id": "",
       "version_major": 2,
       "version_minor": 0
      },
      "text/plain": [
       "HBox(children=(FloatProgress(value=0.0, description='Training', layout=Layout(flex='2'), max=1250.0, style=Pro…"
      ]
     },
     "metadata": {},
     "output_type": "display_data"
    },
    {
     "name": "stdout",
     "output_type": "stream",
     "text": [
      "Epoch 296: train=6.98937, val=7.58828, took 125.52 s\n",
      "  Validation Found 51627 of 54504, added 1876 (eff 94.72%) (0.188 FP/event)\n"
     ]
    },
    {
     "data": {
      "application/vnd.jupyter.widget-view+json": {
       "model_id": "",
       "version_major": 2,
       "version_minor": 0
      },
      "text/plain": [
       "HBox(children=(FloatProgress(value=0.0, description='Training', layout=Layout(flex='2'), max=1250.0, style=Pro…"
      ]
     },
     "metadata": {},
     "output_type": "display_data"
    },
    {
     "name": "stdout",
     "output_type": "stream",
     "text": [
      "Epoch 297: train=6.98566, val=7.67479, took 125.47 s\n",
      "  Validation Found 51619 of 54504, added 1880 (eff 94.71%) (0.188 FP/event)\n"
     ]
    },
    {
     "data": {
      "application/vnd.jupyter.widget-view+json": {
       "model_id": "",
       "version_major": 2,
       "version_minor": 0
      },
      "text/plain": [
       "HBox(children=(FloatProgress(value=0.0, description='Training', layout=Layout(flex='2'), max=1250.0, style=Pro…"
      ]
     },
     "metadata": {},
     "output_type": "display_data"
    },
    {
     "name": "stdout",
     "output_type": "stream",
     "text": [
      "Epoch 298: train=6.98548, val=7.51782, took 125.49 s\n",
      "  Validation Found 51750 of 54504, added 2024 (eff 94.95%) (0.203 FP/event)\n"
     ]
    },
    {
     "data": {
      "application/vnd.jupyter.widget-view+json": {
       "model_id": "",
       "version_major": 2,
       "version_minor": 0
      },
      "text/plain": [
       "HBox(children=(FloatProgress(value=0.0, description='Training', layout=Layout(flex='2'), max=1250.0, style=Pro…"
      ]
     },
     "metadata": {},
     "output_type": "display_data"
    },
    {
     "name": "stdout",
     "output_type": "stream",
     "text": [
      "Epoch 299: train=6.9831, val=7.63897, took 125.62 s\n",
      "  Validation Found 51548 of 54504, added 1765 (eff 94.58%) (0.177 FP/event)\n"
     ]
    },
    {
     "data": {
      "application/vnd.jupyter.widget-view+json": {
       "model_id": "",
       "version_major": 2,
       "version_minor": 0
      },
      "text/plain": [
       "HBox(children=(FloatProgress(value=0.0, description='Training', layout=Layout(flex='2'), max=1250.0, style=Pro…"
      ]
     },
     "metadata": {},
     "output_type": "display_data"
    },
    {
     "name": "stdout",
     "output_type": "stream",
     "text": [
      "Epoch 300: train=6.98641, val=7.57999, took 125.61 s\n",
      "  Validation Found 51677 of 54504, added 1919 (eff 94.81%) (0.192 FP/event)\n"
     ]
    },
    {
     "data": {
      "application/vnd.jupyter.widget-view+json": {
       "model_id": "",
       "version_major": 2,
       "version_minor": 0
      },
      "text/plain": [
       "HBox(children=(FloatProgress(value=0.0, description='Training', layout=Layout(flex='2'), max=1250.0, style=Pro…"
      ]
     },
     "metadata": {},
     "output_type": "display_data"
    },
    {
     "name": "stdout",
     "output_type": "stream",
     "text": [
      "Epoch 301: train=6.98955, val=7.58281, took 125.55 s\n",
      "  Validation Found 51634 of 54504, added 1888 (eff 94.73%) (0.189 FP/event)\n"
     ]
    },
    {
     "data": {
      "application/vnd.jupyter.widget-view+json": {
       "model_id": "",
       "version_major": 2,
       "version_minor": 0
      },
      "text/plain": [
       "HBox(children=(FloatProgress(value=0.0, description='Training', layout=Layout(flex='2'), max=1250.0, style=Pro…"
      ]
     },
     "metadata": {},
     "output_type": "display_data"
    },
    {
     "name": "stdout",
     "output_type": "stream",
     "text": [
      "Epoch 302: train=6.98461, val=7.68273, took 125.54 s\n",
      "  Validation Found 51475 of 54504, added 1666 (eff 94.44%) (0.167 FP/event)\n"
     ]
    },
    {
     "data": {
      "application/vnd.jupyter.widget-view+json": {
       "model_id": "",
       "version_major": 2,
       "version_minor": 0
      },
      "text/plain": [
       "HBox(children=(FloatProgress(value=0.0, description='Training', layout=Layout(flex='2'), max=1250.0, style=Pro…"
      ]
     },
     "metadata": {},
     "output_type": "display_data"
    },
    {
     "name": "stdout",
     "output_type": "stream",
     "text": [
      "Epoch 303: train=6.98354, val=7.62196, took 125.61 s\n",
      "  Validation Found 51591 of 54504, added 1792 (eff 94.66%) (0.179 FP/event)\n"
     ]
    },
    {
     "data": {
      "application/vnd.jupyter.widget-view+json": {
       "model_id": "",
       "version_major": 2,
       "version_minor": 0
      },
      "text/plain": [
       "HBox(children=(FloatProgress(value=0.0, description='Training', layout=Layout(flex='2'), max=1250.0, style=Pro…"
      ]
     },
     "metadata": {},
     "output_type": "display_data"
    },
    {
     "name": "stdout",
     "output_type": "stream",
     "text": [
      "Epoch 304: train=6.9863, val=7.59324, took 125.73 s\n",
      "  Validation Found 51664 of 54504, added 1965 (eff 94.79%) (0.197 FP/event)\n"
     ]
    },
    {
     "data": {
      "application/vnd.jupyter.widget-view+json": {
       "model_id": "",
       "version_major": 2,
       "version_minor": 0
      },
      "text/plain": [
       "HBox(children=(FloatProgress(value=0.0, description='Training', layout=Layout(flex='2'), max=1250.0, style=Pro…"
      ]
     },
     "metadata": {},
     "output_type": "display_data"
    },
    {
     "name": "stdout",
     "output_type": "stream",
     "text": [
      "Epoch 305: train=6.9862, val=7.64785, took 125.04 s\n",
      "  Validation Found 51507 of 54504, added 1773 (eff 94.50%) (0.178 FP/event)\n"
     ]
    },
    {
     "data": {
      "application/vnd.jupyter.widget-view+json": {
       "model_id": "",
       "version_major": 2,
       "version_minor": 0
      },
      "text/plain": [
       "HBox(children=(FloatProgress(value=0.0, description='Training', layout=Layout(flex='2'), max=1250.0, style=Pro…"
      ]
     },
     "metadata": {},
     "output_type": "display_data"
    },
    {
     "name": "stdout",
     "output_type": "stream",
     "text": [
      "Epoch 306: train=6.98317, val=7.64204, took 124.69 s\n",
      "  Validation Found 51713 of 54504, added 1994 (eff 94.88%) (0.2 FP/event)\n"
     ]
    },
    {
     "data": {
      "application/vnd.jupyter.widget-view+json": {
       "model_id": "",
       "version_major": 2,
       "version_minor": 0
      },
      "text/plain": [
       "HBox(children=(FloatProgress(value=0.0, description='Training', layout=Layout(flex='2'), max=1250.0, style=Pro…"
      ]
     },
     "metadata": {},
     "output_type": "display_data"
    },
    {
     "name": "stdout",
     "output_type": "stream",
     "text": [
      "Epoch 307: train=6.9847, val=7.63502, took 125.58 s\n",
      "  Validation Found 51541 of 54504, added 1783 (eff 94.56%) (0.179 FP/event)\n"
     ]
    },
    {
     "data": {
      "application/vnd.jupyter.widget-view+json": {
       "model_id": "",
       "version_major": 2,
       "version_minor": 0
      },
      "text/plain": [
       "HBox(children=(FloatProgress(value=0.0, description='Training', layout=Layout(flex='2'), max=1250.0, style=Pro…"
      ]
     },
     "metadata": {},
     "output_type": "display_data"
    },
    {
     "name": "stdout",
     "output_type": "stream",
     "text": [
      "Epoch 308: train=6.98469, val=7.57988, took 125.55 s\n",
      "  Validation Found 51646 of 54504, added 1953 (eff 94.76%) (0.196 FP/event)\n"
     ]
    },
    {
     "data": {
      "application/vnd.jupyter.widget-view+json": {
       "model_id": "",
       "version_major": 2,
       "version_minor": 0
      },
      "text/plain": [
       "HBox(children=(FloatProgress(value=0.0, description='Training', layout=Layout(flex='2'), max=1250.0, style=Pro…"
      ]
     },
     "metadata": {},
     "output_type": "display_data"
    },
    {
     "name": "stdout",
     "output_type": "stream",
     "text": [
      "Epoch 309: train=6.98608, val=7.75986, took 125.55 s\n",
      "  Validation Found 51462 of 54504, added 1668 (eff 94.42%) (0.167 FP/event)\n"
     ]
    },
    {
     "data": {
      "application/vnd.jupyter.widget-view+json": {
       "model_id": "",
       "version_major": 2,
       "version_minor": 0
      },
      "text/plain": [
       "HBox(children=(FloatProgress(value=0.0, description='Training', layout=Layout(flex='2'), max=1250.0, style=Pro…"
      ]
     },
     "metadata": {},
     "output_type": "display_data"
    },
    {
     "name": "stdout",
     "output_type": "stream",
     "text": [
      "Epoch 310: train=6.98107, val=7.69588, took 125.64 s\n",
      "  Validation Found 51478 of 54504, added 1673 (eff 94.45%) (0.168 FP/event)\n"
     ]
    },
    {
     "data": {
      "application/vnd.jupyter.widget-view+json": {
       "model_id": "",
       "version_major": 2,
       "version_minor": 0
      },
      "text/plain": [
       "HBox(children=(FloatProgress(value=0.0, description='Training', layout=Layout(flex='2'), max=1250.0, style=Pro…"
      ]
     },
     "metadata": {},
     "output_type": "display_data"
    },
    {
     "name": "stdout",
     "output_type": "stream",
     "text": [
      "Epoch 311: train=6.98149, val=7.69419, took 125.52 s\n",
      "  Validation Found 51577 of 54504, added 1847 (eff 94.63%) (0.185 FP/event)\n"
     ]
    },
    {
     "data": {
      "application/vnd.jupyter.widget-view+json": {
       "model_id": "",
       "version_major": 2,
       "version_minor": 0
      },
      "text/plain": [
       "HBox(children=(FloatProgress(value=0.0, description='Training', layout=Layout(flex='2'), max=1250.0, style=Pro…"
      ]
     },
     "metadata": {},
     "output_type": "display_data"
    },
    {
     "name": "stdout",
     "output_type": "stream",
     "text": [
      "Epoch 312: train=6.98055, val=7.64891, took 125.54 s\n",
      "  Validation Found 51600 of 54504, added 1824 (eff 94.67%) (0.183 FP/event)\n"
     ]
    },
    {
     "data": {
      "application/vnd.jupyter.widget-view+json": {
       "model_id": "",
       "version_major": 2,
       "version_minor": 0
      },
      "text/plain": [
       "HBox(children=(FloatProgress(value=0.0, description='Training', layout=Layout(flex='2'), max=1250.0, style=Pro…"
      ]
     },
     "metadata": {},
     "output_type": "display_data"
    },
    {
     "name": "stdout",
     "output_type": "stream",
     "text": [
      "Epoch 313: train=6.97938, val=7.586, took 125.6 s\n",
      "  Validation Found 51751 of 54504, added 2073 (eff 94.95%) (0.208 FP/event)\n"
     ]
    },
    {
     "data": {
      "application/vnd.jupyter.widget-view+json": {
       "model_id": "",
       "version_major": 2,
       "version_minor": 0
      },
      "text/plain": [
       "HBox(children=(FloatProgress(value=0.0, description='Training', layout=Layout(flex='2'), max=1250.0, style=Pro…"
      ]
     },
     "metadata": {},
     "output_type": "display_data"
    },
    {
     "name": "stdout",
     "output_type": "stream",
     "text": [
      "Epoch 314: train=6.98096, val=7.54356, took 125.64 s\n",
      "  Validation Found 51679 of 54504, added 1940 (eff 94.82%) (0.194 FP/event)\n"
     ]
    },
    {
     "data": {
      "application/vnd.jupyter.widget-view+json": {
       "model_id": "",
       "version_major": 2,
       "version_minor": 0
      },
      "text/plain": [
       "HBox(children=(FloatProgress(value=0.0, description='Training', layout=Layout(flex='2'), max=1250.0, style=Pro…"
      ]
     },
     "metadata": {},
     "output_type": "display_data"
    },
    {
     "name": "stdout",
     "output_type": "stream",
     "text": [
      "Epoch 315: train=6.98199, val=7.5918, took 125.6 s\n",
      "  Validation Found 51729 of 54504, added 2096 (eff 94.91%) (0.21 FP/event)\n"
     ]
    },
    {
     "data": {
      "application/vnd.jupyter.widget-view+json": {
       "model_id": "",
       "version_major": 2,
       "version_minor": 0
      },
      "text/plain": [
       "HBox(children=(FloatProgress(value=0.0, description='Training', layout=Layout(flex='2'), max=1250.0, style=Pro…"
      ]
     },
     "metadata": {},
     "output_type": "display_data"
    },
    {
     "name": "stdout",
     "output_type": "stream",
     "text": [
      "Epoch 316: train=6.98103, val=7.67845, took 125.61 s\n",
      "  Validation Found 51674 of 54504, added 1997 (eff 94.81%) (0.2 FP/event)\n"
     ]
    },
    {
     "data": {
      "application/vnd.jupyter.widget-view+json": {
       "model_id": "",
       "version_major": 2,
       "version_minor": 0
      },
      "text/plain": [
       "HBox(children=(FloatProgress(value=0.0, description='Training', layout=Layout(flex='2'), max=1250.0, style=Pro…"
      ]
     },
     "metadata": {},
     "output_type": "display_data"
    },
    {
     "name": "stdout",
     "output_type": "stream",
     "text": [
      "Epoch 317: train=6.97944, val=7.59102, took 125.56 s\n",
      "  Validation Found 51697 of 54504, added 1991 (eff 94.85%) (0.199 FP/event)\n"
     ]
    },
    {
     "data": {
      "application/vnd.jupyter.widget-view+json": {
       "model_id": "",
       "version_major": 2,
       "version_minor": 0
      },
      "text/plain": [
       "HBox(children=(FloatProgress(value=0.0, description='Training', layout=Layout(flex='2'), max=1250.0, style=Pro…"
      ]
     },
     "metadata": {},
     "output_type": "display_data"
    },
    {
     "name": "stdout",
     "output_type": "stream",
     "text": [
      "Epoch 318: train=6.97862, val=7.5325, took 125.53 s\n",
      "  Validation Found 51740 of 54504, added 2063 (eff 94.93%) (0.207 FP/event)\n"
     ]
    },
    {
     "data": {
      "application/vnd.jupyter.widget-view+json": {
       "model_id": "",
       "version_major": 2,
       "version_minor": 0
      },
      "text/plain": [
       "HBox(children=(FloatProgress(value=0.0, description='Training', layout=Layout(flex='2'), max=1250.0, style=Pro…"
      ]
     },
     "metadata": {},
     "output_type": "display_data"
    },
    {
     "name": "stdout",
     "output_type": "stream",
     "text": [
      "Epoch 319: train=6.9775, val=7.59539, took 125.74 s\n",
      "  Validation Found 51711 of 54504, added 1946 (eff 94.88%) (0.195 FP/event)\n"
     ]
    },
    {
     "data": {
      "application/vnd.jupyter.widget-view+json": {
       "model_id": "",
       "version_major": 2,
       "version_minor": 0
      },
      "text/plain": [
       "HBox(children=(FloatProgress(value=0.0, description='Training', layout=Layout(flex='2'), max=1250.0, style=Pro…"
      ]
     },
     "metadata": {},
     "output_type": "display_data"
    },
    {
     "name": "stdout",
     "output_type": "stream",
     "text": [
      "Epoch 320: train=6.98329, val=7.58446, took 125.62 s\n",
      "  Validation Found 51612 of 54504, added 1826 (eff 94.69%) (0.183 FP/event)\n"
     ]
    },
    {
     "data": {
      "application/vnd.jupyter.widget-view+json": {
       "model_id": "",
       "version_major": 2,
       "version_minor": 0
      },
      "text/plain": [
       "HBox(children=(FloatProgress(value=0.0, description='Training', layout=Layout(flex='2'), max=1250.0, style=Pro…"
      ]
     },
     "metadata": {},
     "output_type": "display_data"
    },
    {
     "name": "stdout",
     "output_type": "stream",
     "text": [
      "Epoch 321: train=6.97825, val=7.68959, took 125.6 s\n",
      "  Validation Found 51522 of 54504, added 1702 (eff 94.53%) (0.17 FP/event)\n"
     ]
    },
    {
     "data": {
      "application/vnd.jupyter.widget-view+json": {
       "model_id": "",
       "version_major": 2,
       "version_minor": 0
      },
      "text/plain": [
       "HBox(children=(FloatProgress(value=0.0, description='Training', layout=Layout(flex='2'), max=1250.0, style=Pro…"
      ]
     },
     "metadata": {},
     "output_type": "display_data"
    },
    {
     "name": "stdout",
     "output_type": "stream",
     "text": [
      "Epoch 322: train=6.9762, val=7.70722, took 125.55 s\n",
      "  Validation Found 51550 of 54504, added 1821 (eff 94.58%) (0.182 FP/event)\n"
     ]
    },
    {
     "data": {
      "application/vnd.jupyter.widget-view+json": {
       "model_id": "",
       "version_major": 2,
       "version_minor": 0
      },
      "text/plain": [
       "HBox(children=(FloatProgress(value=0.0, description='Training', layout=Layout(flex='2'), max=1250.0, style=Pro…"
      ]
     },
     "metadata": {},
     "output_type": "display_data"
    },
    {
     "name": "stdout",
     "output_type": "stream",
     "text": [
      "Epoch 323: train=6.97682, val=7.59361, took 125.57 s\n",
      "  Validation Found 51522 of 54504, added 1743 (eff 94.53%) (0.175 FP/event)\n"
     ]
    },
    {
     "data": {
      "application/vnd.jupyter.widget-view+json": {
       "model_id": "",
       "version_major": 2,
       "version_minor": 0
      },
      "text/plain": [
       "HBox(children=(FloatProgress(value=0.0, description='Training', layout=Layout(flex='2'), max=1250.0, style=Pro…"
      ]
     },
     "metadata": {},
     "output_type": "display_data"
    },
    {
     "name": "stdout",
     "output_type": "stream",
     "text": [
      "Epoch 324: train=6.97726, val=7.68342, took 125.67 s\n",
      "  Validation Found 51572 of 54504, added 1782 (eff 94.62%) (0.178 FP/event)\n"
     ]
    },
    {
     "data": {
      "application/vnd.jupyter.widget-view+json": {
       "model_id": "",
       "version_major": 2,
       "version_minor": 0
      },
      "text/plain": [
       "HBox(children=(FloatProgress(value=0.0, description='Training', layout=Layout(flex='2'), max=1250.0, style=Pro…"
      ]
     },
     "metadata": {},
     "output_type": "display_data"
    },
    {
     "name": "stdout",
     "output_type": "stream",
     "text": [
      "Epoch 325: train=6.97919, val=7.71063, took 125.63 s\n",
      "  Validation Found 51515 of 54504, added 1708 (eff 94.52%) (0.171 FP/event)\n"
     ]
    },
    {
     "data": {
      "application/vnd.jupyter.widget-view+json": {
       "model_id": "",
       "version_major": 2,
       "version_minor": 0
      },
      "text/plain": [
       "HBox(children=(FloatProgress(value=0.0, description='Training', layout=Layout(flex='2'), max=1250.0, style=Pro…"
      ]
     },
     "metadata": {},
     "output_type": "display_data"
    },
    {
     "name": "stdout",
     "output_type": "stream",
     "text": [
      "Epoch 326: train=6.97526, val=7.60033, took 125.57 s\n",
      "  Validation Found 51793 of 54504, added 2175 (eff 95.03%) (0.218 FP/event)\n"
     ]
    },
    {
     "data": {
      "application/vnd.jupyter.widget-view+json": {
       "model_id": "",
       "version_major": 2,
       "version_minor": 0
      },
      "text/plain": [
       "HBox(children=(FloatProgress(value=0.0, description='Training', layout=Layout(flex='2'), max=1250.0, style=Pro…"
      ]
     },
     "metadata": {},
     "output_type": "display_data"
    },
    {
     "name": "stdout",
     "output_type": "stream",
     "text": [
      "Epoch 327: train=6.97752, val=7.5469, took 125.56 s\n",
      "  Validation Found 51710 of 54504, added 1993 (eff 94.87%) (0.2 FP/event)\n"
     ]
    },
    {
     "data": {
      "application/vnd.jupyter.widget-view+json": {
       "model_id": "",
       "version_major": 2,
       "version_minor": 0
      },
      "text/plain": [
       "HBox(children=(FloatProgress(value=0.0, description='Training', layout=Layout(flex='2'), max=1250.0, style=Pro…"
      ]
     },
     "metadata": {},
     "output_type": "display_data"
    },
    {
     "name": "stdout",
     "output_type": "stream",
     "text": [
      "Epoch 328: train=6.97501, val=7.54847, took 125.54 s\n",
      "  Validation Found 51712 of 54504, added 1973 (eff 94.88%) (0.198 FP/event)\n"
     ]
    },
    {
     "data": {
      "application/vnd.jupyter.widget-view+json": {
       "model_id": "",
       "version_major": 2,
       "version_minor": 0
      },
      "text/plain": [
       "HBox(children=(FloatProgress(value=0.0, description='Training', layout=Layout(flex='2'), max=1250.0, style=Pro…"
      ]
     },
     "metadata": {},
     "output_type": "display_data"
    },
    {
     "name": "stdout",
     "output_type": "stream",
     "text": [
      "Epoch 329: train=6.97424, val=7.65633, took 125.68 s\n",
      "  Validation Found 51454 of 54504, added 1645 (eff 94.40%) (0.165 FP/event)\n"
     ]
    },
    {
     "data": {
      "application/vnd.jupyter.widget-view+json": {
       "model_id": "",
       "version_major": 2,
       "version_minor": 0
      },
      "text/plain": [
       "HBox(children=(FloatProgress(value=0.0, description='Training', layout=Layout(flex='2'), max=1250.0, style=Pro…"
      ]
     },
     "metadata": {},
     "output_type": "display_data"
    },
    {
     "name": "stdout",
     "output_type": "stream",
     "text": [
      "Epoch 330: train=6.97343, val=7.62367, took 125.63 s\n",
      "  Validation Found 51699 of 54504, added 2042 (eff 94.85%) (0.205 FP/event)\n"
     ]
    },
    {
     "data": {
      "application/vnd.jupyter.widget-view+json": {
       "model_id": "",
       "version_major": 2,
       "version_minor": 0
      },
      "text/plain": [
       "HBox(children=(FloatProgress(value=0.0, description='Training', layout=Layout(flex='2'), max=1250.0, style=Pro…"
      ]
     },
     "metadata": {},
     "output_type": "display_data"
    },
    {
     "name": "stdout",
     "output_type": "stream",
     "text": [
      "Epoch 331: train=6.97757, val=7.65204, took 125.58 s\n",
      "  Validation Found 51632 of 54504, added 1912 (eff 94.73%) (0.191 FP/event)\n"
     ]
    },
    {
     "data": {
      "application/vnd.jupyter.widget-view+json": {
       "model_id": "",
       "version_major": 2,
       "version_minor": 0
      },
      "text/plain": [
       "HBox(children=(FloatProgress(value=0.0, description='Training', layout=Layout(flex='2'), max=1250.0, style=Pro…"
      ]
     },
     "metadata": {},
     "output_type": "display_data"
    },
    {
     "name": "stdout",
     "output_type": "stream",
     "text": [
      "Epoch 332: train=6.97505, val=7.58478, took 125.52 s\n",
      "  Validation Found 51583 of 54504, added 1795 (eff 94.64%) (0.18 FP/event)\n"
     ]
    },
    {
     "data": {
      "application/vnd.jupyter.widget-view+json": {
       "model_id": "",
       "version_major": 2,
       "version_minor": 0
      },
      "text/plain": [
       "HBox(children=(FloatProgress(value=0.0, description='Training', layout=Layout(flex='2'), max=1250.0, style=Pro…"
      ]
     },
     "metadata": {},
     "output_type": "display_data"
    },
    {
     "name": "stdout",
     "output_type": "stream",
     "text": [
      "Epoch 333: train=6.97401, val=7.57972, took 125.52 s\n",
      "  Validation Found 51678 of 54504, added 1908 (eff 94.82%) (0.191 FP/event)\n"
     ]
    },
    {
     "data": {
      "application/vnd.jupyter.widget-view+json": {
       "model_id": "",
       "version_major": 2,
       "version_minor": 0
      },
      "text/plain": [
       "HBox(children=(FloatProgress(value=0.0, description='Training', layout=Layout(flex='2'), max=1250.0, style=Pro…"
      ]
     },
     "metadata": {},
     "output_type": "display_data"
    },
    {
     "name": "stdout",
     "output_type": "stream",
     "text": [
      "Epoch 334: train=6.97356, val=7.59788, took 125.55 s\n",
      "  Validation Found 51619 of 54504, added 1819 (eff 94.71%) (0.182 FP/event)\n"
     ]
    },
    {
     "data": {
      "application/vnd.jupyter.widget-view+json": {
       "model_id": "",
       "version_major": 2,
       "version_minor": 0
      },
      "text/plain": [
       "HBox(children=(FloatProgress(value=0.0, description='Training', layout=Layout(flex='2'), max=1250.0, style=Pro…"
      ]
     },
     "metadata": {},
     "output_type": "display_data"
    },
    {
     "name": "stdout",
     "output_type": "stream",
     "text": [
      "Epoch 335: train=6.9737, val=7.59869, took 125.64 s\n",
      "  Validation Found 51714 of 54504, added 1982 (eff 94.88%) (0.198 FP/event)\n"
     ]
    },
    {
     "data": {
      "application/vnd.jupyter.widget-view+json": {
       "model_id": "",
       "version_major": 2,
       "version_minor": 0
      },
      "text/plain": [
       "HBox(children=(FloatProgress(value=0.0, description='Training', layout=Layout(flex='2'), max=1250.0, style=Pro…"
      ]
     },
     "metadata": {},
     "output_type": "display_data"
    },
    {
     "name": "stdout",
     "output_type": "stream",
     "text": [
      "Epoch 336: train=6.97291, val=7.63644, took 125.62 s\n",
      "  Validation Found 51565 of 54504, added 1775 (eff 94.61%) (0.178 FP/event)\n"
     ]
    },
    {
     "data": {
      "application/vnd.jupyter.widget-view+json": {
       "model_id": "",
       "version_major": 2,
       "version_minor": 0
      },
      "text/plain": [
       "HBox(children=(FloatProgress(value=0.0, description='Training', layout=Layout(flex='2'), max=1250.0, style=Pro…"
      ]
     },
     "metadata": {},
     "output_type": "display_data"
    },
    {
     "name": "stdout",
     "output_type": "stream",
     "text": [
      "Epoch 337: train=6.97296, val=7.64069, took 131.02 s\n",
      "  Validation Found 51600 of 54504, added 1887 (eff 94.67%) (0.189 FP/event)\n"
     ]
    },
    {
     "data": {
      "application/vnd.jupyter.widget-view+json": {
       "model_id": "",
       "version_major": 2,
       "version_minor": 0
      },
      "text/plain": [
       "HBox(children=(FloatProgress(value=0.0, description='Training', layout=Layout(flex='2'), max=1250.0, style=Pro…"
      ]
     },
     "metadata": {},
     "output_type": "display_data"
    },
    {
     "name": "stdout",
     "output_type": "stream",
     "text": [
      "Epoch 338: train=6.97115, val=7.62831, took 141.3 s\n",
      "  Validation Found 51602 of 54504, added 1852 (eff 94.68%) (0.185 FP/event)\n"
     ]
    },
    {
     "data": {
      "application/vnd.jupyter.widget-view+json": {
       "model_id": "",
       "version_major": 2,
       "version_minor": 0
      },
      "text/plain": [
       "HBox(children=(FloatProgress(value=0.0, description='Training', layout=Layout(flex='2'), max=1250.0, style=Pro…"
      ]
     },
     "metadata": {},
     "output_type": "display_data"
    },
    {
     "name": "stdout",
     "output_type": "stream",
     "text": [
      "Epoch 339: train=6.97361, val=7.69352, took 146.73 s\n",
      "  Validation Found 51543 of 54504, added 1765 (eff 94.57%) (0.177 FP/event)\n"
     ]
    },
    {
     "data": {
      "application/vnd.jupyter.widget-view+json": {
       "model_id": "",
       "version_major": 2,
       "version_minor": 0
      },
      "text/plain": [
       "HBox(children=(FloatProgress(value=0.0, description='Training', layout=Layout(flex='2'), max=1250.0, style=Pro…"
      ]
     },
     "metadata": {},
     "output_type": "display_data"
    },
    {
     "name": "stdout",
     "output_type": "stream",
     "text": [
      "Epoch 340: train=6.97279, val=7.65921, took 146.43 s\n",
      "  Validation Found 51525 of 54504, added 1781 (eff 94.53%) (0.178 FP/event)\n"
     ]
    },
    {
     "data": {
      "application/vnd.jupyter.widget-view+json": {
       "model_id": "",
       "version_major": 2,
       "version_minor": 0
      },
      "text/plain": [
       "HBox(children=(FloatProgress(value=0.0, description='Training', layout=Layout(flex='2'), max=1250.0, style=Pro…"
      ]
     },
     "metadata": {},
     "output_type": "display_data"
    },
    {
     "name": "stdout",
     "output_type": "stream",
     "text": [
      "Epoch 341: train=6.9757, val=7.67731, took 143.5 s\n",
      "  Validation Found 51496 of 54504, added 1703 (eff 94.48%) (0.171 FP/event)\n"
     ]
    },
    {
     "data": {
      "application/vnd.jupyter.widget-view+json": {
       "model_id": "",
       "version_major": 2,
       "version_minor": 0
      },
      "text/plain": [
       "HBox(children=(FloatProgress(value=0.0, description='Training', layout=Layout(flex='2'), max=1250.0, style=Pro…"
      ]
     },
     "metadata": {},
     "output_type": "display_data"
    },
    {
     "name": "stdout",
     "output_type": "stream",
     "text": [
      "Epoch 342: train=6.97381, val=7.75536, took 170.86 s\n",
      "  Validation Found 51519 of 54504, added 1772 (eff 94.52%) (0.177 FP/event)\n"
     ]
    },
    {
     "data": {
      "application/vnd.jupyter.widget-view+json": {
       "model_id": "",
       "version_major": 2,
       "version_minor": 0
      },
      "text/plain": [
       "HBox(children=(FloatProgress(value=0.0, description='Training', layout=Layout(flex='2'), max=1250.0, style=Pro…"
      ]
     },
     "metadata": {},
     "output_type": "display_data"
    },
    {
     "name": "stdout",
     "output_type": "stream",
     "text": [
      "Epoch 343: train=6.9744, val=7.60823, took 139.62 s\n",
      "  Validation Found 51641 of 54504, added 1879 (eff 94.75%) (0.188 FP/event)\n"
     ]
    },
    {
     "data": {
      "application/vnd.jupyter.widget-view+json": {
       "model_id": "",
       "version_major": 2,
       "version_minor": 0
      },
      "text/plain": [
       "HBox(children=(FloatProgress(value=0.0, description='Training', layout=Layout(flex='2'), max=1250.0, style=Pro…"
      ]
     },
     "metadata": {},
     "output_type": "display_data"
    },
    {
     "name": "stdout",
     "output_type": "stream",
     "text": [
      "Epoch 344: train=6.97268, val=7.55363, took 126.06 s\n",
      "  Validation Found 51696 of 54504, added 2006 (eff 94.85%) (0.201 FP/event)\n"
     ]
    },
    {
     "data": {
      "application/vnd.jupyter.widget-view+json": {
       "model_id": "",
       "version_major": 2,
       "version_minor": 0
      },
      "text/plain": [
       "HBox(children=(FloatProgress(value=0.0, description='Training', layout=Layout(flex='2'), max=1250.0, style=Pro…"
      ]
     },
     "metadata": {},
     "output_type": "display_data"
    },
    {
     "name": "stdout",
     "output_type": "stream",
     "text": [
      "Epoch 345: train=6.9716, val=7.65324, took 126.03 s\n",
      "  Validation Found 51610 of 54504, added 1885 (eff 94.69%) (0.189 FP/event)\n"
     ]
    },
    {
     "data": {
      "application/vnd.jupyter.widget-view+json": {
       "model_id": "",
       "version_major": 2,
       "version_minor": 0
      },
      "text/plain": [
       "HBox(children=(FloatProgress(value=0.0, description='Training', layout=Layout(flex='2'), max=1250.0, style=Pro…"
      ]
     },
     "metadata": {},
     "output_type": "display_data"
    },
    {
     "name": "stdout",
     "output_type": "stream",
     "text": [
      "Epoch 346: train=6.97043, val=7.53427, took 126.22 s\n",
      "  Validation Found 51766 of 54504, added 2074 (eff 94.98%) (0.208 FP/event)\n"
     ]
    },
    {
     "data": {
      "application/vnd.jupyter.widget-view+json": {
       "model_id": "",
       "version_major": 2,
       "version_minor": 0
      },
      "text/plain": [
       "HBox(children=(FloatProgress(value=0.0, description='Training', layout=Layout(flex='2'), max=1250.0, style=Pro…"
      ]
     },
     "metadata": {},
     "output_type": "display_data"
    },
    {
     "name": "stdout",
     "output_type": "stream",
     "text": [
      "Epoch 347: train=6.9705, val=7.59991, took 126.0 s\n",
      "  Validation Found 51666 of 54504, added 1914 (eff 94.79%) (0.192 FP/event)\n"
     ]
    },
    {
     "data": {
      "application/vnd.jupyter.widget-view+json": {
       "model_id": "",
       "version_major": 2,
       "version_minor": 0
      },
      "text/plain": [
       "HBox(children=(FloatProgress(value=0.0, description='Training', layout=Layout(flex='2'), max=1250.0, style=Pro…"
      ]
     },
     "metadata": {},
     "output_type": "display_data"
    },
    {
     "name": "stdout",
     "output_type": "stream",
     "text": [
      "Epoch 348: train=6.97188, val=7.77455, took 148.6 s\n",
      "  Validation Found 51429 of 54504, added 1580 (eff 94.36%) (0.158 FP/event)\n"
     ]
    },
    {
     "data": {
      "application/vnd.jupyter.widget-view+json": {
       "model_id": "",
       "version_major": 2,
       "version_minor": 0
      },
      "text/plain": [
       "HBox(children=(FloatProgress(value=0.0, description='Training', layout=Layout(flex='2'), max=1250.0, style=Pro…"
      ]
     },
     "metadata": {},
     "output_type": "display_data"
    },
    {
     "name": "stdout",
     "output_type": "stream",
     "text": [
      "Epoch 349: train=6.97067, val=7.72929, took 146.17 s\n",
      "  Validation Found 51667 of 54504, added 2017 (eff 94.79%) (0.202 FP/event)\n"
     ]
    },
    {
     "data": {
      "application/vnd.jupyter.widget-view+json": {
       "model_id": "",
       "version_major": 2,
       "version_minor": 0
      },
      "text/plain": [
       "HBox(children=(FloatProgress(value=0.0, description='Training', layout=Layout(flex='2'), max=1250.0, style=Pro…"
      ]
     },
     "metadata": {},
     "output_type": "display_data"
    },
    {
     "name": "stdout",
     "output_type": "stream",
     "text": [
      "Epoch 350: train=6.9705, val=7.67124, took 146.35 s\n",
      "  Validation Found 51569 of 54504, added 1788 (eff 94.62%) (0.179 FP/event)\n"
     ]
    },
    {
     "data": {
      "application/vnd.jupyter.widget-view+json": {
       "model_id": "",
       "version_major": 2,
       "version_minor": 0
      },
      "text/plain": [
       "HBox(children=(FloatProgress(value=0.0, description='Training', layout=Layout(flex='2'), max=1250.0, style=Pro…"
      ]
     },
     "metadata": {},
     "output_type": "display_data"
    },
    {
     "name": "stdout",
     "output_type": "stream",
     "text": [
      "Epoch 351: train=6.97048, val=7.75768, took 149.29 s\n",
      "  Validation Found 51495 of 54504, added 1783 (eff 94.48%) (0.179 FP/event)\n"
     ]
    },
    {
     "data": {
      "application/vnd.jupyter.widget-view+json": {
       "model_id": "",
       "version_major": 2,
       "version_minor": 0
      },
      "text/plain": [
       "HBox(children=(FloatProgress(value=0.0, description='Training', layout=Layout(flex='2'), max=1250.0, style=Pro…"
      ]
     },
     "metadata": {},
     "output_type": "display_data"
    },
    {
     "name": "stdout",
     "output_type": "stream",
     "text": [
      "Epoch 352: train=6.96802, val=7.64376, took 140.81 s\n",
      "  Validation Found 51734 of 54504, added 1999 (eff 94.92%) (0.2 FP/event)\n"
     ]
    },
    {
     "data": {
      "application/vnd.jupyter.widget-view+json": {
       "model_id": "",
       "version_major": 2,
       "version_minor": 0
      },
      "text/plain": [
       "HBox(children=(FloatProgress(value=0.0, description='Training', layout=Layout(flex='2'), max=1250.0, style=Pro…"
      ]
     },
     "metadata": {},
     "output_type": "display_data"
    },
    {
     "name": "stdout",
     "output_type": "stream",
     "text": [
      "Epoch 353: train=6.96565, val=7.64953, took 153.36 s\n",
      "  Validation Found 51615 of 54504, added 1845 (eff 94.70%) (0.185 FP/event)\n"
     ]
    },
    {
     "data": {
      "application/vnd.jupyter.widget-view+json": {
       "model_id": "",
       "version_major": 2,
       "version_minor": 0
      },
      "text/plain": [
       "HBox(children=(FloatProgress(value=0.0, description='Training', layout=Layout(flex='2'), max=1250.0, style=Pro…"
      ]
     },
     "metadata": {},
     "output_type": "display_data"
    },
    {
     "name": "stdout",
     "output_type": "stream",
     "text": [
      "Epoch 354: train=6.97266, val=7.62344, took 146.53 s\n",
      "  Validation Found 51831 of 54504, added 2320 (eff 95.10%) (0.232 FP/event)\n"
     ]
    },
    {
     "data": {
      "application/vnd.jupyter.widget-view+json": {
       "model_id": "",
       "version_major": 2,
       "version_minor": 0
      },
      "text/plain": [
       "HBox(children=(FloatProgress(value=0.0, description='Training', layout=Layout(flex='2'), max=1250.0, style=Pro…"
      ]
     },
     "metadata": {},
     "output_type": "display_data"
    },
    {
     "name": "stdout",
     "output_type": "stream",
     "text": [
      "Epoch 355: train=6.9679, val=7.78621, took 136.99 s\n",
      "  Validation Found 51561 of 54504, added 1788 (eff 94.60%) (0.179 FP/event)\n"
     ]
    },
    {
     "data": {
      "application/vnd.jupyter.widget-view+json": {
       "model_id": "",
       "version_major": 2,
       "version_minor": 0
      },
      "text/plain": [
       "HBox(children=(FloatProgress(value=0.0, description='Training', layout=Layout(flex='2'), max=1250.0, style=Pro…"
      ]
     },
     "metadata": {},
     "output_type": "display_data"
    },
    {
     "name": "stdout",
     "output_type": "stream",
     "text": [
      "Epoch 356: train=6.96922, val=7.6053, took 139.75 s\n",
      "  Validation Found 51675 of 54504, added 1924 (eff 94.81%) (0.193 FP/event)\n"
     ]
    },
    {
     "data": {
      "application/vnd.jupyter.widget-view+json": {
       "model_id": "",
       "version_major": 2,
       "version_minor": 0
      },
      "text/plain": [
       "HBox(children=(FloatProgress(value=0.0, description='Training', layout=Layout(flex='2'), max=1250.0, style=Pro…"
      ]
     },
     "metadata": {},
     "output_type": "display_data"
    },
    {
     "name": "stdout",
     "output_type": "stream",
     "text": [
      "Epoch 357: train=6.96801, val=7.62964, took 156.08 s\n",
      "  Validation Found 51636 of 54504, added 1940 (eff 94.74%) (0.194 FP/event)\n"
     ]
    },
    {
     "data": {
      "application/vnd.jupyter.widget-view+json": {
       "model_id": "",
       "version_major": 2,
       "version_minor": 0
      },
      "text/plain": [
       "HBox(children=(FloatProgress(value=0.0, description='Training', layout=Layout(flex='2'), max=1250.0, style=Pro…"
      ]
     },
     "metadata": {},
     "output_type": "display_data"
    },
    {
     "name": "stdout",
     "output_type": "stream",
     "text": [
      "Epoch 358: train=6.96704, val=7.6428, took 159.83 s\n",
      "  Validation Found 51598 of 54504, added 1806 (eff 94.67%) (0.181 FP/event)\n"
     ]
    },
    {
     "data": {
      "application/vnd.jupyter.widget-view+json": {
       "model_id": "",
       "version_major": 2,
       "version_minor": 0
      },
      "text/plain": [
       "HBox(children=(FloatProgress(value=0.0, description='Training', layout=Layout(flex='2'), max=1250.0, style=Pro…"
      ]
     },
     "metadata": {},
     "output_type": "display_data"
    },
    {
     "name": "stdout",
     "output_type": "stream",
     "text": [
      "Epoch 359: train=6.96966, val=7.54349, took 152.88 s\n",
      "  Validation Found 51695 of 54504, added 1983 (eff 94.85%) (0.199 FP/event)\n"
     ]
    },
    {
     "data": {
      "application/vnd.jupyter.widget-view+json": {
       "model_id": "",
       "version_major": 2,
       "version_minor": 0
      },
      "text/plain": [
       "HBox(children=(FloatProgress(value=0.0, description='Training', layout=Layout(flex='2'), max=1250.0, style=Pro…"
      ]
     },
     "metadata": {},
     "output_type": "display_data"
    },
    {
     "name": "stdout",
     "output_type": "stream",
     "text": [
      "Epoch 360: train=6.96636, val=7.6389, took 144.4 s\n",
      "  Validation Found 51616 of 54504, added 1827 (eff 94.70%) (0.183 FP/event)\n"
     ]
    },
    {
     "data": {
      "application/vnd.jupyter.widget-view+json": {
       "model_id": "",
       "version_major": 2,
       "version_minor": 0
      },
      "text/plain": [
       "HBox(children=(FloatProgress(value=0.0, description='Training', layout=Layout(flex='2'), max=1250.0, style=Pro…"
      ]
     },
     "metadata": {},
     "output_type": "display_data"
    },
    {
     "name": "stdout",
     "output_type": "stream",
     "text": [
      "Epoch 361: train=6.96684, val=7.57442, took 149.08 s\n",
      "  Validation Found 51726 of 54504, added 2025 (eff 94.90%) (0.203 FP/event)\n"
     ]
    },
    {
     "data": {
      "application/vnd.jupyter.widget-view+json": {
       "model_id": "",
       "version_major": 2,
       "version_minor": 0
      },
      "text/plain": [
       "HBox(children=(FloatProgress(value=0.0, description='Training', layout=Layout(flex='2'), max=1250.0, style=Pro…"
      ]
     },
     "metadata": {},
     "output_type": "display_data"
    },
    {
     "name": "stdout",
     "output_type": "stream",
     "text": [
      "Epoch 362: train=6.96598, val=7.66114, took 134.72 s\n",
      "  Validation Found 51506 of 54504, added 1745 (eff 94.50%) (0.175 FP/event)\n"
     ]
    },
    {
     "data": {
      "application/vnd.jupyter.widget-view+json": {
       "model_id": "",
       "version_major": 2,
       "version_minor": 0
      },
      "text/plain": [
       "HBox(children=(FloatProgress(value=0.0, description='Training', layout=Layout(flex='2'), max=1250.0, style=Pro…"
      ]
     },
     "metadata": {},
     "output_type": "display_data"
    },
    {
     "name": "stdout",
     "output_type": "stream",
     "text": [
      "Epoch 363: train=6.96602, val=7.67528, took 126.09 s\n",
      "  Validation Found 51570 of 54504, added 1828 (eff 94.62%) (0.183 FP/event)\n"
     ]
    },
    {
     "data": {
      "application/vnd.jupyter.widget-view+json": {
       "model_id": "",
       "version_major": 2,
       "version_minor": 0
      },
      "text/plain": [
       "HBox(children=(FloatProgress(value=0.0, description='Training', layout=Layout(flex='2'), max=1250.0, style=Pro…"
      ]
     },
     "metadata": {},
     "output_type": "display_data"
    },
    {
     "name": "stdout",
     "output_type": "stream",
     "text": [
      "Epoch 364: train=6.96962, val=7.68962, took 126.03 s\n",
      "  Validation Found 51566 of 54504, added 1782 (eff 94.61%) (0.178 FP/event)\n"
     ]
    },
    {
     "data": {
      "application/vnd.jupyter.widget-view+json": {
       "model_id": "",
       "version_major": 2,
       "version_minor": 0
      },
      "text/plain": [
       "HBox(children=(FloatProgress(value=0.0, description='Training', layout=Layout(flex='2'), max=1250.0, style=Pro…"
      ]
     },
     "metadata": {},
     "output_type": "display_data"
    },
    {
     "name": "stdout",
     "output_type": "stream",
     "text": [
      "Epoch 365: train=6.9626, val=7.71837, took 135.92 s\n",
      "  Validation Found 51507 of 54504, added 1720 (eff 94.50%) (0.172 FP/event)\n"
     ]
    },
    {
     "data": {
      "application/vnd.jupyter.widget-view+json": {
       "model_id": "",
       "version_major": 2,
       "version_minor": 0
      },
      "text/plain": [
       "HBox(children=(FloatProgress(value=0.0, description='Training', layout=Layout(flex='2'), max=1250.0, style=Pro…"
      ]
     },
     "metadata": {},
     "output_type": "display_data"
    },
    {
     "name": "stdout",
     "output_type": "stream",
     "text": [
      "Epoch 366: train=6.9686, val=7.65423, took 146.07 s\n",
      "  Validation Found 51738 of 54504, added 2077 (eff 94.93%) (0.208 FP/event)\n"
     ]
    },
    {
     "data": {
      "application/vnd.jupyter.widget-view+json": {
       "model_id": "",
       "version_major": 2,
       "version_minor": 0
      },
      "text/plain": [
       "HBox(children=(FloatProgress(value=0.0, description='Training', layout=Layout(flex='2'), max=1250.0, style=Pro…"
      ]
     },
     "metadata": {},
     "output_type": "display_data"
    },
    {
     "name": "stdout",
     "output_type": "stream",
     "text": [
      "Epoch 367: train=6.96657, val=7.68818, took 138.58 s\n",
      "  Validation Found 51621 of 54504, added 1810 (eff 94.71%) (0.181 FP/event)\n"
     ]
    },
    {
     "data": {
      "application/vnd.jupyter.widget-view+json": {
       "model_id": "",
       "version_major": 2,
       "version_minor": 0
      },
      "text/plain": [
       "HBox(children=(FloatProgress(value=0.0, description='Training', layout=Layout(flex='2'), max=1250.0, style=Pro…"
      ]
     },
     "metadata": {},
     "output_type": "display_data"
    },
    {
     "name": "stdout",
     "output_type": "stream",
     "text": [
      "Epoch 368: train=6.96471, val=7.65328, took 148.88 s\n",
      "  Validation Found 51676 of 54504, added 1917 (eff 94.81%) (0.192 FP/event)\n"
     ]
    },
    {
     "data": {
      "application/vnd.jupyter.widget-view+json": {
       "model_id": "",
       "version_major": 2,
       "version_minor": 0
      },
      "text/plain": [
       "HBox(children=(FloatProgress(value=0.0, description='Training', layout=Layout(flex='2'), max=1250.0, style=Pro…"
      ]
     },
     "metadata": {},
     "output_type": "display_data"
    },
    {
     "name": "stdout",
     "output_type": "stream",
     "text": [
      "Epoch 369: train=6.96397, val=7.60022, took 144.09 s\n",
      "  Validation Found 51658 of 54504, added 1893 (eff 94.78%) (0.19 FP/event)\n"
     ]
    },
    {
     "data": {
      "application/vnd.jupyter.widget-view+json": {
       "model_id": "",
       "version_major": 2,
       "version_minor": 0
      },
      "text/plain": [
       "HBox(children=(FloatProgress(value=0.0, description='Training', layout=Layout(flex='2'), max=1250.0, style=Pro…"
      ]
     },
     "metadata": {},
     "output_type": "display_data"
    },
    {
     "name": "stdout",
     "output_type": "stream",
     "text": [
      "Epoch 370: train=6.96419, val=7.71913, took 147.81 s\n",
      "  Validation Found 51544 of 54504, added 1717 (eff 94.57%) (0.172 FP/event)\n"
     ]
    },
    {
     "data": {
      "application/vnd.jupyter.widget-view+json": {
       "model_id": "",
       "version_major": 2,
       "version_minor": 0
      },
      "text/plain": [
       "HBox(children=(FloatProgress(value=0.0, description='Training', layout=Layout(flex='2'), max=1250.0, style=Pro…"
      ]
     },
     "metadata": {},
     "output_type": "display_data"
    },
    {
     "name": "stdout",
     "output_type": "stream",
     "text": [
      "Epoch 371: train=6.96427, val=7.6892, took 137.16 s\n",
      "  Validation Found 51556 of 54504, added 1862 (eff 94.59%) (0.186 FP/event)\n"
     ]
    },
    {
     "data": {
      "application/vnd.jupyter.widget-view+json": {
       "model_id": "",
       "version_major": 2,
       "version_minor": 0
      },
      "text/plain": [
       "HBox(children=(FloatProgress(value=0.0, description='Training', layout=Layout(flex='2'), max=1250.0, style=Pro…"
      ]
     },
     "metadata": {},
     "output_type": "display_data"
    },
    {
     "name": "stdout",
     "output_type": "stream",
     "text": [
      "Epoch 372: train=6.96327, val=7.74466, took 125.61 s\n",
      "  Validation Found 51681 of 54504, added 2002 (eff 94.82%) (0.201 FP/event)\n"
     ]
    },
    {
     "data": {
      "application/vnd.jupyter.widget-view+json": {
       "model_id": "",
       "version_major": 2,
       "version_minor": 0
      },
      "text/plain": [
       "HBox(children=(FloatProgress(value=0.0, description='Training', layout=Layout(flex='2'), max=1250.0, style=Pro…"
      ]
     },
     "metadata": {},
     "output_type": "display_data"
    },
    {
     "name": "stdout",
     "output_type": "stream",
     "text": [
      "Epoch 373: train=6.96556, val=7.64209, took 127.48 s\n",
      "  Validation Found 51557 of 54504, added 1773 (eff 94.59%) (0.178 FP/event)\n"
     ]
    },
    {
     "data": {
      "application/vnd.jupyter.widget-view+json": {
       "model_id": "",
       "version_major": 2,
       "version_minor": 0
      },
      "text/plain": [
       "HBox(children=(FloatProgress(value=0.0, description='Training', layout=Layout(flex='2'), max=1250.0, style=Pro…"
      ]
     },
     "metadata": {},
     "output_type": "display_data"
    },
    {
     "name": "stdout",
     "output_type": "stream",
     "text": [
      "Epoch 374: train=6.96588, val=7.6242, took 129.26 s\n",
      "  Validation Found 51571 of 54504, added 1809 (eff 94.62%) (0.181 FP/event)\n"
     ]
    },
    {
     "data": {
      "application/vnd.jupyter.widget-view+json": {
       "model_id": "",
       "version_major": 2,
       "version_minor": 0
      },
      "text/plain": [
       "HBox(children=(FloatProgress(value=0.0, description='Training', layout=Layout(flex='2'), max=1250.0, style=Pro…"
      ]
     },
     "metadata": {},
     "output_type": "display_data"
    },
    {
     "name": "stdout",
     "output_type": "stream",
     "text": [
      "Epoch 375: train=6.9642, val=7.61309, took 129.43 s\n",
      "  Validation Found 51640 of 54504, added 1915 (eff 94.75%) (0.192 FP/event)\n"
     ]
    },
    {
     "data": {
      "application/vnd.jupyter.widget-view+json": {
       "model_id": "",
       "version_major": 2,
       "version_minor": 0
      },
      "text/plain": [
       "HBox(children=(FloatProgress(value=0.0, description='Training', layout=Layout(flex='2'), max=1250.0, style=Pro…"
      ]
     },
     "metadata": {},
     "output_type": "display_data"
    },
    {
     "name": "stdout",
     "output_type": "stream",
     "text": [
      "Epoch 376: train=6.96376, val=7.61076, took 129.3 s\n",
      "  Validation Found 51734 of 54504, added 2012 (eff 94.92%) (0.202 FP/event)\n"
     ]
    },
    {
     "data": {
      "application/vnd.jupyter.widget-view+json": {
       "model_id": "",
       "version_major": 2,
       "version_minor": 0
      },
      "text/plain": [
       "HBox(children=(FloatProgress(value=0.0, description='Training', layout=Layout(flex='2'), max=1250.0, style=Pro…"
      ]
     },
     "metadata": {},
     "output_type": "display_data"
    },
    {
     "name": "stdout",
     "output_type": "stream",
     "text": [
      "Epoch 377: train=6.96416, val=7.6613, took 129.33 s\n",
      "  Validation Found 51620 of 54504, added 1885 (eff 94.71%) (0.189 FP/event)\n"
     ]
    },
    {
     "data": {
      "application/vnd.jupyter.widget-view+json": {
       "model_id": "",
       "version_major": 2,
       "version_minor": 0
      },
      "text/plain": [
       "HBox(children=(FloatProgress(value=0.0, description='Training', layout=Layout(flex='2'), max=1250.0, style=Pro…"
      ]
     },
     "metadata": {},
     "output_type": "display_data"
    },
    {
     "name": "stdout",
     "output_type": "stream",
     "text": [
      "Epoch 378: train=6.96225, val=7.58157, took 129.44 s\n",
      "  Validation Found 51656 of 54504, added 2005 (eff 94.77%) (0.201 FP/event)\n"
     ]
    },
    {
     "data": {
      "application/vnd.jupyter.widget-view+json": {
       "model_id": "",
       "version_major": 2,
       "version_minor": 0
      },
      "text/plain": [
       "HBox(children=(FloatProgress(value=0.0, description='Training', layout=Layout(flex='2'), max=1250.0, style=Pro…"
      ]
     },
     "metadata": {},
     "output_type": "display_data"
    },
    {
     "name": "stdout",
     "output_type": "stream",
     "text": [
      "Epoch 379: train=6.96217, val=7.6084, took 129.41 s\n",
      "  Validation Found 51693 of 54504, added 1962 (eff 94.84%) (0.196 FP/event)\n"
     ]
    },
    {
     "data": {
      "application/vnd.jupyter.widget-view+json": {
       "model_id": "",
       "version_major": 2,
       "version_minor": 0
      },
      "text/plain": [
       "HBox(children=(FloatProgress(value=0.0, description='Training', layout=Layout(flex='2'), max=1250.0, style=Pro…"
      ]
     },
     "metadata": {},
     "output_type": "display_data"
    },
    {
     "name": "stdout",
     "output_type": "stream",
     "text": [
      "Epoch 380: train=6.96356, val=7.63465, took 129.37 s\n",
      "  Validation Found 51643 of 54504, added 1869 (eff 94.75%) (0.187 FP/event)\n"
     ]
    },
    {
     "data": {
      "application/vnd.jupyter.widget-view+json": {
       "model_id": "",
       "version_major": 2,
       "version_minor": 0
      },
      "text/plain": [
       "HBox(children=(FloatProgress(value=0.0, description='Training', layout=Layout(flex='2'), max=1250.0, style=Pro…"
      ]
     },
     "metadata": {},
     "output_type": "display_data"
    },
    {
     "name": "stdout",
     "output_type": "stream",
     "text": [
      "Epoch 381: train=6.96165, val=7.69855, took 129.12 s\n",
      "  Validation Found 51575 of 54504, added 1784 (eff 94.63%) (0.179 FP/event)\n"
     ]
    },
    {
     "data": {
      "application/vnd.jupyter.widget-view+json": {
       "model_id": "",
       "version_major": 2,
       "version_minor": 0
      },
      "text/plain": [
       "HBox(children=(FloatProgress(value=0.0, description='Training', layout=Layout(flex='2'), max=1250.0, style=Pro…"
      ]
     },
     "metadata": {},
     "output_type": "display_data"
    },
    {
     "name": "stdout",
     "output_type": "stream",
     "text": [
      "Epoch 382: train=6.96235, val=7.53942, took 129.56 s\n",
      "  Validation Found 51736 of 54504, added 2064 (eff 94.92%) (0.207 FP/event)\n"
     ]
    },
    {
     "data": {
      "application/vnd.jupyter.widget-view+json": {
       "model_id": "",
       "version_major": 2,
       "version_minor": 0
      },
      "text/plain": [
       "HBox(children=(FloatProgress(value=0.0, description='Training', layout=Layout(flex='2'), max=1250.0, style=Pro…"
      ]
     },
     "metadata": {},
     "output_type": "display_data"
    },
    {
     "name": "stdout",
     "output_type": "stream",
     "text": [
      "Epoch 383: train=6.96442, val=7.68346, took 129.58 s\n",
      "  Validation Found 51555 of 54504, added 1821 (eff 94.59%) (0.182 FP/event)\n"
     ]
    },
    {
     "data": {
      "application/vnd.jupyter.widget-view+json": {
       "model_id": "",
       "version_major": 2,
       "version_minor": 0
      },
      "text/plain": [
       "HBox(children=(FloatProgress(value=0.0, description='Training', layout=Layout(flex='2'), max=1250.0, style=Pro…"
      ]
     },
     "metadata": {},
     "output_type": "display_data"
    },
    {
     "name": "stdout",
     "output_type": "stream",
     "text": [
      "Epoch 384: train=6.96003, val=7.66794, took 127.69 s\n",
      "  Validation Found 51619 of 54504, added 1836 (eff 94.71%) (0.184 FP/event)\n"
     ]
    },
    {
     "data": {
      "application/vnd.jupyter.widget-view+json": {
       "model_id": "",
       "version_major": 2,
       "version_minor": 0
      },
      "text/plain": [
       "HBox(children=(FloatProgress(value=0.0, description='Training', layout=Layout(flex='2'), max=1250.0, style=Pro…"
      ]
     },
     "metadata": {},
     "output_type": "display_data"
    },
    {
     "name": "stdout",
     "output_type": "stream",
     "text": [
      "Epoch 385: train=6.95947, val=7.57037, took 126.05 s\n",
      "  Validation Found 51673 of 54504, added 1984 (eff 94.81%) (0.199 FP/event)\n"
     ]
    },
    {
     "data": {
      "application/vnd.jupyter.widget-view+json": {
       "model_id": "",
       "version_major": 2,
       "version_minor": 0
      },
      "text/plain": [
       "HBox(children=(FloatProgress(value=0.0, description='Training', layout=Layout(flex='2'), max=1250.0, style=Pro…"
      ]
     },
     "metadata": {},
     "output_type": "display_data"
    },
    {
     "name": "stdout",
     "output_type": "stream",
     "text": [
      "Epoch 386: train=6.96073, val=7.59895, took 125.59 s\n",
      "  Validation Found 51738 of 54504, added 2039 (eff 94.93%) (0.204 FP/event)\n"
     ]
    },
    {
     "data": {
      "application/vnd.jupyter.widget-view+json": {
       "model_id": "",
       "version_major": 2,
       "version_minor": 0
      },
      "text/plain": [
       "HBox(children=(FloatProgress(value=0.0, description='Training', layout=Layout(flex='2'), max=1250.0, style=Pro…"
      ]
     },
     "metadata": {},
     "output_type": "display_data"
    },
    {
     "name": "stdout",
     "output_type": "stream",
     "text": [
      "Epoch 387: train=6.95945, val=7.61372, took 125.54 s\n",
      "  Validation Found 51587 of 54504, added 1827 (eff 94.65%) (0.183 FP/event)\n"
     ]
    },
    {
     "data": {
      "application/vnd.jupyter.widget-view+json": {
       "model_id": "",
       "version_major": 2,
       "version_minor": 0
      },
      "text/plain": [
       "HBox(children=(FloatProgress(value=0.0, description='Training', layout=Layout(flex='2'), max=1250.0, style=Pro…"
      ]
     },
     "metadata": {},
     "output_type": "display_data"
    },
    {
     "name": "stdout",
     "output_type": "stream",
     "text": [
      "Epoch 388: train=6.95909, val=7.76932, took 125.67 s\n",
      "  Validation Found 51405 of 54504, added 1608 (eff 94.31%) (0.161 FP/event)\n"
     ]
    },
    {
     "data": {
      "application/vnd.jupyter.widget-view+json": {
       "model_id": "",
       "version_major": 2,
       "version_minor": 0
      },
      "text/plain": [
       "HBox(children=(FloatProgress(value=0.0, description='Training', layout=Layout(flex='2'), max=1250.0, style=Pro…"
      ]
     },
     "metadata": {},
     "output_type": "display_data"
    },
    {
     "name": "stdout",
     "output_type": "stream",
     "text": [
      "Epoch 389: train=6.95939, val=7.62358, took 125.63 s\n",
      "  Validation Found 51646 of 54504, added 1991 (eff 94.76%) (0.199 FP/event)\n"
     ]
    },
    {
     "data": {
      "application/vnd.jupyter.widget-view+json": {
       "model_id": "",
       "version_major": 2,
       "version_minor": 0
      },
      "text/plain": [
       "HBox(children=(FloatProgress(value=0.0, description='Training', layout=Layout(flex='2'), max=1250.0, style=Pro…"
      ]
     },
     "metadata": {},
     "output_type": "display_data"
    },
    {
     "name": "stdout",
     "output_type": "stream",
     "text": [
      "Epoch 390: train=6.96147, val=7.59396, took 125.76 s\n",
      "  Validation Found 51655 of 54504, added 1860 (eff 94.77%) (0.186 FP/event)\n"
     ]
    },
    {
     "data": {
      "application/vnd.jupyter.widget-view+json": {
       "model_id": "",
       "version_major": 2,
       "version_minor": 0
      },
      "text/plain": [
       "HBox(children=(FloatProgress(value=0.0, description='Training', layout=Layout(flex='2'), max=1250.0, style=Pro…"
      ]
     },
     "metadata": {},
     "output_type": "display_data"
    },
    {
     "name": "stdout",
     "output_type": "stream",
     "text": [
      "Epoch 391: train=6.95793, val=7.57607, took 125.66 s\n",
      "  Validation Found 51692 of 54504, added 2028 (eff 94.84%) (0.203 FP/event)\n"
     ]
    },
    {
     "data": {
      "application/vnd.jupyter.widget-view+json": {
       "model_id": "",
       "version_major": 2,
       "version_minor": 0
      },
      "text/plain": [
       "HBox(children=(FloatProgress(value=0.0, description='Training', layout=Layout(flex='2'), max=1250.0, style=Pro…"
      ]
     },
     "metadata": {},
     "output_type": "display_data"
    },
    {
     "name": "stdout",
     "output_type": "stream",
     "text": [
      "Epoch 392: train=6.95819, val=7.66709, took 125.67 s\n",
      "  Validation Found 51649 of 54504, added 1905 (eff 94.76%) (0.191 FP/event)\n"
     ]
    },
    {
     "data": {
      "application/vnd.jupyter.widget-view+json": {
       "model_id": "",
       "version_major": 2,
       "version_minor": 0
      },
      "text/plain": [
       "HBox(children=(FloatProgress(value=0.0, description='Training', layout=Layout(flex='2'), max=1250.0, style=Pro…"
      ]
     },
     "metadata": {},
     "output_type": "display_data"
    },
    {
     "name": "stdout",
     "output_type": "stream",
     "text": [
      "Epoch 393: train=6.96034, val=7.61626, took 125.58 s\n",
      "  Validation Found 51796 of 54504, added 2194 (eff 95.03%) (0.22 FP/event)\n"
     ]
    },
    {
     "data": {
      "application/vnd.jupyter.widget-view+json": {
       "model_id": "",
       "version_major": 2,
       "version_minor": 0
      },
      "text/plain": [
       "HBox(children=(FloatProgress(value=0.0, description='Training', layout=Layout(flex='2'), max=1250.0, style=Pro…"
      ]
     },
     "metadata": {},
     "output_type": "display_data"
    },
    {
     "name": "stdout",
     "output_type": "stream",
     "text": [
      "Epoch 394: train=6.95646, val=7.55521, took 125.65 s\n",
      "  Validation Found 51802 of 54504, added 2270 (eff 95.04%) (0.227 FP/event)\n"
     ]
    },
    {
     "data": {
      "application/vnd.jupyter.widget-view+json": {
       "model_id": "",
       "version_major": 2,
       "version_minor": 0
      },
      "text/plain": [
       "HBox(children=(FloatProgress(value=0.0, description='Training', layout=Layout(flex='2'), max=1250.0, style=Pro…"
      ]
     },
     "metadata": {},
     "output_type": "display_data"
    },
    {
     "name": "stdout",
     "output_type": "stream",
     "text": [
      "Epoch 395: train=6.95796, val=7.59689, took 125.72 s\n",
      "  Validation Found 51696 of 54504, added 1950 (eff 94.85%) (0.195 FP/event)\n"
     ]
    },
    {
     "data": {
      "application/vnd.jupyter.widget-view+json": {
       "model_id": "",
       "version_major": 2,
       "version_minor": 0
      },
      "text/plain": [
       "HBox(children=(FloatProgress(value=0.0, description='Training', layout=Layout(flex='2'), max=1250.0, style=Pro…"
      ]
     },
     "metadata": {},
     "output_type": "display_data"
    },
    {
     "name": "stdout",
     "output_type": "stream",
     "text": [
      "Epoch 396: train=6.95703, val=7.67412, took 125.71 s\n",
      "  Validation Found 51576 of 54504, added 1834 (eff 94.63%) (0.184 FP/event)\n"
     ]
    },
    {
     "data": {
      "application/vnd.jupyter.widget-view+json": {
       "model_id": "",
       "version_major": 2,
       "version_minor": 0
      },
      "text/plain": [
       "HBox(children=(FloatProgress(value=0.0, description='Training', layout=Layout(flex='2'), max=1250.0, style=Pro…"
      ]
     },
     "metadata": {},
     "output_type": "display_data"
    },
    {
     "name": "stdout",
     "output_type": "stream",
     "text": [
      "Epoch 397: train=6.95667, val=7.67845, took 125.62 s\n",
      "  Validation Found 51545 of 54504, added 1745 (eff 94.57%) (0.175 FP/event)\n"
     ]
    },
    {
     "data": {
      "application/vnd.jupyter.widget-view+json": {
       "model_id": "",
       "version_major": 2,
       "version_minor": 0
      },
      "text/plain": [
       "HBox(children=(FloatProgress(value=0.0, description='Training', layout=Layout(flex='2'), max=1250.0, style=Pro…"
      ]
     },
     "metadata": {},
     "output_type": "display_data"
    },
    {
     "name": "stdout",
     "output_type": "stream",
     "text": [
      "Epoch 398: train=6.95831, val=7.5474, took 124.95 s\n",
      "  Validation Found 51654 of 54504, added 1936 (eff 94.77%) (0.194 FP/event)\n"
     ]
    },
    {
     "data": {
      "application/vnd.jupyter.widget-view+json": {
       "model_id": "",
       "version_major": 2,
       "version_minor": 0
      },
      "text/plain": [
       "HBox(children=(FloatProgress(value=0.0, description='Training', layout=Layout(flex='2'), max=1250.0, style=Pro…"
      ]
     },
     "metadata": {},
     "output_type": "display_data"
    },
    {
     "name": "stdout",
     "output_type": "stream",
     "text": [
      "Epoch 399: train=6.95712, val=7.61229, took 125.63 s\n",
      "  Validation Found 51618 of 54504, added 1870 (eff 94.70%) (0.187 FP/event)\n"
     ]
    },
    {
     "data": {
      "application/vnd.jupyter.widget-view+json": {
       "model_id": "",
       "version_major": 2,
       "version_minor": 0
      },
      "text/plain": [
       "HBox(children=(FloatProgress(value=0.0, description='Training', layout=Layout(flex='2'), max=1250.0, style=Pro…"
      ]
     },
     "metadata": {},
     "output_type": "display_data"
    },
    {
     "name": "stdout",
     "output_type": "stream",
     "text": [
      "Epoch 400: train=6.95762, val=7.56744, took 125.52 s\n",
      "  Validation Found 51750 of 54504, added 2060 (eff 94.95%) (0.206 FP/event)\n"
     ]
    },
    {
     "data": {
      "application/vnd.jupyter.widget-view+json": {
       "model_id": "",
       "version_major": 2,
       "version_minor": 0
      },
      "text/plain": [
       "HBox(children=(FloatProgress(value=0.0, description='Training', layout=Layout(flex='2'), max=1250.0, style=Pro…"
      ]
     },
     "metadata": {},
     "output_type": "display_data"
    },
    {
     "name": "stdout",
     "output_type": "stream",
     "text": [
      "Epoch 401: train=6.95616, val=7.6268, took 125.67 s\n",
      "  Validation Found 51659 of 54504, added 2016 (eff 94.78%) (0.202 FP/event)\n"
     ]
    },
    {
     "data": {
      "application/vnd.jupyter.widget-view+json": {
       "model_id": "",
       "version_major": 2,
       "version_minor": 0
      },
      "text/plain": [
       "HBox(children=(FloatProgress(value=0.0, description='Training', layout=Layout(flex='2'), max=1250.0, style=Pro…"
      ]
     },
     "metadata": {},
     "output_type": "display_data"
    },
    {
     "name": "stdout",
     "output_type": "stream",
     "text": [
      "Epoch 402: train=6.95522, val=7.6285, took 125.65 s\n",
      "  Validation Found 51684 of 54504, added 1954 (eff 94.83%) (0.196 FP/event)\n"
     ]
    },
    {
     "data": {
      "application/vnd.jupyter.widget-view+json": {
       "model_id": "",
       "version_major": 2,
       "version_minor": 0
      },
      "text/plain": [
       "HBox(children=(FloatProgress(value=0.0, description='Training', layout=Layout(flex='2'), max=1250.0, style=Pro…"
      ]
     },
     "metadata": {},
     "output_type": "display_data"
    },
    {
     "name": "stdout",
     "output_type": "stream",
     "text": [
      "Epoch 403: train=6.95866, val=7.66758, took 125.64 s\n",
      "  Validation Found 51595 of 54504, added 1870 (eff 94.66%) (0.187 FP/event)\n"
     ]
    },
    {
     "data": {
      "application/vnd.jupyter.widget-view+json": {
       "model_id": "",
       "version_major": 2,
       "version_minor": 0
      },
      "text/plain": [
       "HBox(children=(FloatProgress(value=0.0, description='Training', layout=Layout(flex='2'), max=1250.0, style=Pro…"
      ]
     },
     "metadata": {},
     "output_type": "display_data"
    },
    {
     "name": "stdout",
     "output_type": "stream",
     "text": [
      "Epoch 404: train=6.95599, val=7.62571, took 125.57 s\n",
      "  Validation Found 51597 of 54504, added 1908 (eff 94.67%) (0.191 FP/event)\n"
     ]
    },
    {
     "data": {
      "application/vnd.jupyter.widget-view+json": {
       "model_id": "",
       "version_major": 2,
       "version_minor": 0
      },
      "text/plain": [
       "HBox(children=(FloatProgress(value=0.0, description='Training', layout=Layout(flex='2'), max=1250.0, style=Pro…"
      ]
     },
     "metadata": {},
     "output_type": "display_data"
    },
    {
     "name": "stdout",
     "output_type": "stream",
     "text": [
      "Epoch 405: train=6.95478, val=7.58783, took 125.6 s\n",
      "  Validation Found 51715 of 54504, added 1985 (eff 94.88%) (0.199 FP/event)\n"
     ]
    },
    {
     "data": {
      "application/vnd.jupyter.widget-view+json": {
       "model_id": "",
       "version_major": 2,
       "version_minor": 0
      },
      "text/plain": [
       "HBox(children=(FloatProgress(value=0.0, description='Training', layout=Layout(flex='2'), max=1250.0, style=Pro…"
      ]
     },
     "metadata": {},
     "output_type": "display_data"
    },
    {
     "name": "stdout",
     "output_type": "stream",
     "text": [
      "Epoch 406: train=6.95292, val=7.63127, took 125.83 s\n",
      "  Validation Found 51637 of 54504, added 1904 (eff 94.74%) (0.191 FP/event)\n"
     ]
    },
    {
     "data": {
      "application/vnd.jupyter.widget-view+json": {
       "model_id": "",
       "version_major": 2,
       "version_minor": 0
      },
      "text/plain": [
       "HBox(children=(FloatProgress(value=0.0, description='Training', layout=Layout(flex='2'), max=1250.0, style=Pro…"
      ]
     },
     "metadata": {},
     "output_type": "display_data"
    },
    {
     "name": "stdout",
     "output_type": "stream",
     "text": [
      "Epoch 407: train=6.95632, val=7.62709, took 125.64 s\n",
      "  Validation Found 51637 of 54504, added 1894 (eff 94.74%) (0.19 FP/event)\n"
     ]
    },
    {
     "data": {
      "application/vnd.jupyter.widget-view+json": {
       "model_id": "",
       "version_major": 2,
       "version_minor": 0
      },
      "text/plain": [
       "HBox(children=(FloatProgress(value=0.0, description='Training', layout=Layout(flex='2'), max=1250.0, style=Pro…"
      ]
     },
     "metadata": {},
     "output_type": "display_data"
    },
    {
     "name": "stdout",
     "output_type": "stream",
     "text": [
      "Epoch 408: train=6.95191, val=7.70933, took 125.67 s\n",
      "  Validation Found 51669 of 54504, added 1964 (eff 94.80%) (0.197 FP/event)\n"
     ]
    },
    {
     "data": {
      "application/vnd.jupyter.widget-view+json": {
       "model_id": "",
       "version_major": 2,
       "version_minor": 0
      },
      "text/plain": [
       "HBox(children=(FloatProgress(value=0.0, description='Training', layout=Layout(flex='2'), max=1250.0, style=Pro…"
      ]
     },
     "metadata": {},
     "output_type": "display_data"
    },
    {
     "name": "stdout",
     "output_type": "stream",
     "text": [
      "Epoch 409: train=6.9559, val=7.65231, took 125.65 s\n",
      "  Validation Found 51610 of 54504, added 1882 (eff 94.69%) (0.188 FP/event)\n"
     ]
    },
    {
     "data": {
      "application/vnd.jupyter.widget-view+json": {
       "model_id": "",
       "version_major": 2,
       "version_minor": 0
      },
      "text/plain": [
       "HBox(children=(FloatProgress(value=0.0, description='Training', layout=Layout(flex='2'), max=1250.0, style=Pro…"
      ]
     },
     "metadata": {},
     "output_type": "display_data"
    },
    {
     "name": "stdout",
     "output_type": "stream",
     "text": [
      "Epoch 410: train=6.95249, val=7.59532, took 125.63 s\n",
      "  Validation Found 51649 of 54504, added 1961 (eff 94.76%) (0.196 FP/event)\n"
     ]
    },
    {
     "data": {
      "application/vnd.jupyter.widget-view+json": {
       "model_id": "",
       "version_major": 2,
       "version_minor": 0
      },
      "text/plain": [
       "HBox(children=(FloatProgress(value=0.0, description='Training', layout=Layout(flex='2'), max=1250.0, style=Pro…"
      ]
     },
     "metadata": {},
     "output_type": "display_data"
    },
    {
     "name": "stdout",
     "output_type": "stream",
     "text": [
      "Epoch 411: train=6.95399, val=7.63326, took 125.6 s\n",
      "  Validation Found 51639 of 54504, added 1903 (eff 94.74%) (0.191 FP/event)\n"
     ]
    },
    {
     "data": {
      "application/vnd.jupyter.widget-view+json": {
       "model_id": "",
       "version_major": 2,
       "version_minor": 0
      },
      "text/plain": [
       "HBox(children=(FloatProgress(value=0.0, description='Training', layout=Layout(flex='2'), max=1250.0, style=Pro…"
      ]
     },
     "metadata": {},
     "output_type": "display_data"
    },
    {
     "name": "stdout",
     "output_type": "stream",
     "text": [
      "Epoch 412: train=6.95274, val=7.80447, took 125.71 s\n",
      "  Validation Found 51524 of 54504, added 1718 (eff 94.53%) (0.172 FP/event)\n"
     ]
    },
    {
     "data": {
      "application/vnd.jupyter.widget-view+json": {
       "model_id": "",
       "version_major": 2,
       "version_minor": 0
      },
      "text/plain": [
       "HBox(children=(FloatProgress(value=0.0, description='Training', layout=Layout(flex='2'), max=1250.0, style=Pro…"
      ]
     },
     "metadata": {},
     "output_type": "display_data"
    },
    {
     "name": "stdout",
     "output_type": "stream",
     "text": [
      "Epoch 413: train=6.9557, val=7.58901, took 125.72 s\n",
      "  Validation Found 51611 of 54504, added 1901 (eff 94.69%) (0.19 FP/event)\n"
     ]
    },
    {
     "data": {
      "application/vnd.jupyter.widget-view+json": {
       "model_id": "",
       "version_major": 2,
       "version_minor": 0
      },
      "text/plain": [
       "HBox(children=(FloatProgress(value=0.0, description='Training', layout=Layout(flex='2'), max=1250.0, style=Pro…"
      ]
     },
     "metadata": {},
     "output_type": "display_data"
    },
    {
     "name": "stdout",
     "output_type": "stream",
     "text": [
      "Epoch 414: train=6.95369, val=7.66465, took 125.63 s\n",
      "  Validation Found 51531 of 54504, added 1744 (eff 94.55%) (0.175 FP/event)\n"
     ]
    },
    {
     "data": {
      "application/vnd.jupyter.widget-view+json": {
       "model_id": "",
       "version_major": 2,
       "version_minor": 0
      },
      "text/plain": [
       "HBox(children=(FloatProgress(value=0.0, description='Training', layout=Layout(flex='2'), max=1250.0, style=Pro…"
      ]
     },
     "metadata": {},
     "output_type": "display_data"
    },
    {
     "name": "stdout",
     "output_type": "stream",
     "text": [
      "Epoch 415: train=6.95258, val=7.61186, took 125.64 s\n",
      "  Validation Found 51618 of 54504, added 1856 (eff 94.70%) (0.186 FP/event)\n"
     ]
    },
    {
     "data": {
      "application/vnd.jupyter.widget-view+json": {
       "model_id": "",
       "version_major": 2,
       "version_minor": 0
      },
      "text/plain": [
       "HBox(children=(FloatProgress(value=0.0, description='Training', layout=Layout(flex='2'), max=1250.0, style=Pro…"
      ]
     },
     "metadata": {},
     "output_type": "display_data"
    },
    {
     "name": "stdout",
     "output_type": "stream",
     "text": [
      "Epoch 416: train=6.95312, val=7.68299, took 125.6 s\n",
      "  Validation Found 51565 of 54504, added 1743 (eff 94.61%) (0.175 FP/event)\n"
     ]
    },
    {
     "data": {
      "application/vnd.jupyter.widget-view+json": {
       "model_id": "",
       "version_major": 2,
       "version_minor": 0
      },
      "text/plain": [
       "HBox(children=(FloatProgress(value=0.0, description='Training', layout=Layout(flex='2'), max=1250.0, style=Pro…"
      ]
     },
     "metadata": {},
     "output_type": "display_data"
    },
    {
     "name": "stdout",
     "output_type": "stream",
     "text": [
      "Epoch 417: train=6.95443, val=7.58203, took 125.64 s\n",
      "  Validation Found 51662 of 54504, added 1946 (eff 94.79%) (0.195 FP/event)\n"
     ]
    },
    {
     "data": {
      "application/vnd.jupyter.widget-view+json": {
       "model_id": "",
       "version_major": 2,
       "version_minor": 0
      },
      "text/plain": [
       "HBox(children=(FloatProgress(value=0.0, description='Training', layout=Layout(flex='2'), max=1250.0, style=Pro…"
      ]
     },
     "metadata": {},
     "output_type": "display_data"
    },
    {
     "name": "stdout",
     "output_type": "stream",
     "text": [
      "Epoch 418: train=6.95362, val=7.67613, took 125.63 s\n",
      "  Validation Found 51655 of 54504, added 1873 (eff 94.77%) (0.188 FP/event)\n"
     ]
    },
    {
     "data": {
      "application/vnd.jupyter.widget-view+json": {
       "model_id": "",
       "version_major": 2,
       "version_minor": 0
      },
      "text/plain": [
       "HBox(children=(FloatProgress(value=0.0, description='Training', layout=Layout(flex='2'), max=1250.0, style=Pro…"
      ]
     },
     "metadata": {},
     "output_type": "display_data"
    },
    {
     "name": "stdout",
     "output_type": "stream",
     "text": [
      "Epoch 419: train=6.95429, val=7.57789, took 125.67 s\n",
      "  Validation Found 51735 of 54504, added 2013 (eff 94.92%) (0.202 FP/event)\n"
     ]
    },
    {
     "data": {
      "application/vnd.jupyter.widget-view+json": {
       "model_id": "",
       "version_major": 2,
       "version_minor": 0
      },
      "text/plain": [
       "HBox(children=(FloatProgress(value=0.0, description='Training', layout=Layout(flex='2'), max=1250.0, style=Pro…"
      ]
     },
     "metadata": {},
     "output_type": "display_data"
    },
    {
     "name": "stdout",
     "output_type": "stream",
     "text": [
      "Epoch 420: train=6.95145, val=7.58637, took 125.65 s\n",
      "  Validation Found 51865 of 54504, added 2337 (eff 95.16%) (0.234 FP/event)\n"
     ]
    },
    {
     "data": {
      "application/vnd.jupyter.widget-view+json": {
       "model_id": "",
       "version_major": 2,
       "version_minor": 0
      },
      "text/plain": [
       "HBox(children=(FloatProgress(value=0.0, description='Training', layout=Layout(flex='2'), max=1250.0, style=Pro…"
      ]
     },
     "metadata": {},
     "output_type": "display_data"
    },
    {
     "name": "stdout",
     "output_type": "stream",
     "text": [
      "Epoch 421: train=6.95428, val=7.6507, took 125.67 s\n",
      "  Validation Found 51515 of 54504, added 1764 (eff 94.52%) (0.177 FP/event)\n"
     ]
    },
    {
     "data": {
      "application/vnd.jupyter.widget-view+json": {
       "model_id": "",
       "version_major": 2,
       "version_minor": 0
      },
      "text/plain": [
       "HBox(children=(FloatProgress(value=0.0, description='Training', layout=Layout(flex='2'), max=1250.0, style=Pro…"
      ]
     },
     "metadata": {},
     "output_type": "display_data"
    },
    {
     "name": "stdout",
     "output_type": "stream",
     "text": [
      "Epoch 422: train=6.95214, val=7.73324, took 125.65 s\n",
      "  Validation Found 51533 of 54504, added 1850 (eff 94.55%) (0.185 FP/event)\n"
     ]
    },
    {
     "data": {
      "application/vnd.jupyter.widget-view+json": {
       "model_id": "",
       "version_major": 2,
       "version_minor": 0
      },
      "text/plain": [
       "HBox(children=(FloatProgress(value=0.0, description='Training', layout=Layout(flex='2'), max=1250.0, style=Pro…"
      ]
     },
     "metadata": {},
     "output_type": "display_data"
    },
    {
     "name": "stdout",
     "output_type": "stream",
     "text": [
      "Epoch 423: train=6.95096, val=7.6293, took 125.54 s\n",
      "  Validation Found 51760 of 54504, added 2073 (eff 94.97%) (0.208 FP/event)\n"
     ]
    },
    {
     "data": {
      "application/vnd.jupyter.widget-view+json": {
       "model_id": "",
       "version_major": 2,
       "version_minor": 0
      },
      "text/plain": [
       "HBox(children=(FloatProgress(value=0.0, description='Training', layout=Layout(flex='2'), max=1250.0, style=Pro…"
      ]
     },
     "metadata": {},
     "output_type": "display_data"
    },
    {
     "name": "stdout",
     "output_type": "stream",
     "text": [
      "Epoch 424: train=6.95412, val=7.70519, took 125.57 s\n",
      "  Validation Found 51644 of 54504, added 1959 (eff 94.75%) (0.196 FP/event)\n"
     ]
    },
    {
     "data": {
      "application/vnd.jupyter.widget-view+json": {
       "model_id": "",
       "version_major": 2,
       "version_minor": 0
      },
      "text/plain": [
       "HBox(children=(FloatProgress(value=0.0, description='Training', layout=Layout(flex='2'), max=1250.0, style=Pro…"
      ]
     },
     "metadata": {},
     "output_type": "display_data"
    },
    {
     "name": "stdout",
     "output_type": "stream",
     "text": [
      "Epoch 425: train=6.95024, val=7.64571, took 125.67 s\n",
      "  Validation Found 51604 of 54504, added 1809 (eff 94.68%) (0.181 FP/event)\n"
     ]
    },
    {
     "data": {
      "application/vnd.jupyter.widget-view+json": {
       "model_id": "",
       "version_major": 2,
       "version_minor": 0
      },
      "text/plain": [
       "HBox(children=(FloatProgress(value=0.0, description='Training', layout=Layout(flex='2'), max=1250.0, style=Pro…"
      ]
     },
     "metadata": {},
     "output_type": "display_data"
    },
    {
     "name": "stdout",
     "output_type": "stream",
     "text": [
      "Epoch 426: train=6.9502, val=7.58042, took 125.69 s\n",
      "  Validation Found 51719 of 54504, added 1979 (eff 94.89%) (0.198 FP/event)\n"
     ]
    },
    {
     "data": {
      "application/vnd.jupyter.widget-view+json": {
       "model_id": "",
       "version_major": 2,
       "version_minor": 0
      },
      "text/plain": [
       "HBox(children=(FloatProgress(value=0.0, description='Training', layout=Layout(flex='2'), max=1250.0, style=Pro…"
      ]
     },
     "metadata": {},
     "output_type": "display_data"
    },
    {
     "name": "stdout",
     "output_type": "stream",
     "text": [
      "Epoch 427: train=6.95197, val=7.58036, took 125.54 s\n",
      "  Validation Found 51676 of 54504, added 1971 (eff 94.81%) (0.197 FP/event)\n"
     ]
    },
    {
     "data": {
      "application/vnd.jupyter.widget-view+json": {
       "model_id": "",
       "version_major": 2,
       "version_minor": 0
      },
      "text/plain": [
       "HBox(children=(FloatProgress(value=0.0, description='Training', layout=Layout(flex='2'), max=1250.0, style=Pro…"
      ]
     },
     "metadata": {},
     "output_type": "display_data"
    },
    {
     "name": "stdout",
     "output_type": "stream",
     "text": [
      "Epoch 428: train=6.94965, val=7.72094, took 125.57 s\n",
      "  Validation Found 51555 of 54504, added 1802 (eff 94.59%) (0.18 FP/event)\n"
     ]
    },
    {
     "data": {
      "application/vnd.jupyter.widget-view+json": {
       "model_id": "",
       "version_major": 2,
       "version_minor": 0
      },
      "text/plain": [
       "HBox(children=(FloatProgress(value=0.0, description='Training', layout=Layout(flex='2'), max=1250.0, style=Pro…"
      ]
     },
     "metadata": {},
     "output_type": "display_data"
    },
    {
     "name": "stdout",
     "output_type": "stream",
     "text": [
      "Epoch 429: train=6.95074, val=7.5991, took 125.56 s\n",
      "  Validation Found 51792 of 54504, added 2157 (eff 95.02%) (0.216 FP/event)\n"
     ]
    },
    {
     "data": {
      "application/vnd.jupyter.widget-view+json": {
       "model_id": "",
       "version_major": 2,
       "version_minor": 0
      },
      "text/plain": [
       "HBox(children=(FloatProgress(value=0.0, description='Training', layout=Layout(flex='2'), max=1250.0, style=Pro…"
      ]
     },
     "metadata": {},
     "output_type": "display_data"
    },
    {
     "name": "stdout",
     "output_type": "stream",
     "text": [
      "Epoch 430: train=6.94947, val=7.68686, took 125.6 s\n",
      "  Validation Found 51724 of 54504, added 2043 (eff 94.90%) (0.205 FP/event)\n"
     ]
    },
    {
     "data": {
      "application/vnd.jupyter.widget-view+json": {
       "model_id": "",
       "version_major": 2,
       "version_minor": 0
      },
      "text/plain": [
       "HBox(children=(FloatProgress(value=0.0, description='Training', layout=Layout(flex='2'), max=1250.0, style=Pro…"
      ]
     },
     "metadata": {},
     "output_type": "display_data"
    },
    {
     "name": "stdout",
     "output_type": "stream",
     "text": [
      "Epoch 431: train=6.94604, val=7.7374, took 125.63 s\n",
      "  Validation Found 51518 of 54504, added 1701 (eff 94.52%) (0.17 FP/event)\n"
     ]
    },
    {
     "data": {
      "application/vnd.jupyter.widget-view+json": {
       "model_id": "",
       "version_major": 2,
       "version_minor": 0
      },
      "text/plain": [
       "HBox(children=(FloatProgress(value=0.0, description='Training', layout=Layout(flex='2'), max=1250.0, style=Pro…"
      ]
     },
     "metadata": {},
     "output_type": "display_data"
    },
    {
     "name": "stdout",
     "output_type": "stream",
     "text": [
      "Epoch 432: train=6.94775, val=7.68978, took 125.71 s\n",
      "  Validation Found 51585 of 54504, added 1807 (eff 94.64%) (0.181 FP/event)\n"
     ]
    },
    {
     "data": {
      "application/vnd.jupyter.widget-view+json": {
       "model_id": "",
       "version_major": 2,
       "version_minor": 0
      },
      "text/plain": [
       "HBox(children=(FloatProgress(value=0.0, description='Training', layout=Layout(flex='2'), max=1250.0, style=Pro…"
      ]
     },
     "metadata": {},
     "output_type": "display_data"
    },
    {
     "name": "stdout",
     "output_type": "stream",
     "text": [
      "Epoch 433: train=6.95203, val=7.55459, took 124.86 s\n",
      "  Validation Found 51690 of 54504, added 2003 (eff 94.84%) (0.201 FP/event)\n"
     ]
    },
    {
     "data": {
      "application/vnd.jupyter.widget-view+json": {
       "model_id": "",
       "version_major": 2,
       "version_minor": 0
      },
      "text/plain": [
       "HBox(children=(FloatProgress(value=0.0, description='Training', layout=Layout(flex='2'), max=1250.0, style=Pro…"
      ]
     },
     "metadata": {},
     "output_type": "display_data"
    },
    {
     "name": "stdout",
     "output_type": "stream",
     "text": [
      "Epoch 434: train=6.95104, val=7.60593, took 124.7 s\n",
      "  Validation Found 51635 of 54504, added 1849 (eff 94.74%) (0.185 FP/event)\n"
     ]
    },
    {
     "data": {
      "application/vnd.jupyter.widget-view+json": {
       "model_id": "",
       "version_major": 2,
       "version_minor": 0
      },
      "text/plain": [
       "HBox(children=(FloatProgress(value=0.0, description='Training', layout=Layout(flex='2'), max=1250.0, style=Pro…"
      ]
     },
     "metadata": {},
     "output_type": "display_data"
    },
    {
     "name": "stdout",
     "output_type": "stream",
     "text": [
      "Epoch 435: train=6.94874, val=7.63348, took 125.11 s\n",
      "  Validation Found 51618 of 54504, added 1952 (eff 94.70%) (0.195 FP/event)\n"
     ]
    },
    {
     "data": {
      "application/vnd.jupyter.widget-view+json": {
       "model_id": "",
       "version_major": 2,
       "version_minor": 0
      },
      "text/plain": [
       "HBox(children=(FloatProgress(value=0.0, description='Training', layout=Layout(flex='2'), max=1250.0, style=Pro…"
      ]
     },
     "metadata": {},
     "output_type": "display_data"
    },
    {
     "name": "stdout",
     "output_type": "stream",
     "text": [
      "Epoch 436: train=6.94827, val=7.63819, took 125.62 s\n",
      "  Validation Found 51712 of 54504, added 2020 (eff 94.88%) (0.202 FP/event)\n"
     ]
    },
    {
     "data": {
      "application/vnd.jupyter.widget-view+json": {
       "model_id": "",
       "version_major": 2,
       "version_minor": 0
      },
      "text/plain": [
       "HBox(children=(FloatProgress(value=0.0, description='Training', layout=Layout(flex='2'), max=1250.0, style=Pro…"
      ]
     },
     "metadata": {},
     "output_type": "display_data"
    },
    {
     "name": "stdout",
     "output_type": "stream",
     "text": [
      "Epoch 437: train=6.94817, val=7.68144, took 125.57 s\n",
      "  Validation Found 51583 of 54504, added 1823 (eff 94.64%) (0.183 FP/event)\n"
     ]
    },
    {
     "data": {
      "application/vnd.jupyter.widget-view+json": {
       "model_id": "",
       "version_major": 2,
       "version_minor": 0
      },
      "text/plain": [
       "HBox(children=(FloatProgress(value=0.0, description='Training', layout=Layout(flex='2'), max=1250.0, style=Pro…"
      ]
     },
     "metadata": {},
     "output_type": "display_data"
    },
    {
     "name": "stdout",
     "output_type": "stream",
     "text": [
      "Epoch 438: train=6.95158, val=7.7341, took 125.6 s\n",
      "  Validation Found 51550 of 54504, added 1760 (eff 94.58%) (0.176 FP/event)\n"
     ]
    },
    {
     "data": {
      "application/vnd.jupyter.widget-view+json": {
       "model_id": "",
       "version_major": 2,
       "version_minor": 0
      },
      "text/plain": [
       "HBox(children=(FloatProgress(value=0.0, description='Training', layout=Layout(flex='2'), max=1250.0, style=Pro…"
      ]
     },
     "metadata": {},
     "output_type": "display_data"
    },
    {
     "name": "stdout",
     "output_type": "stream",
     "text": [
      "Epoch 439: train=6.94829, val=7.67171, took 125.54 s\n",
      "  Validation Found 51574 of 54504, added 1811 (eff 94.62%) (0.181 FP/event)\n"
     ]
    },
    {
     "data": {
      "application/vnd.jupyter.widget-view+json": {
       "model_id": "",
       "version_major": 2,
       "version_minor": 0
      },
      "text/plain": [
       "HBox(children=(FloatProgress(value=0.0, description='Training', layout=Layout(flex='2'), max=1250.0, style=Pro…"
      ]
     },
     "metadata": {},
     "output_type": "display_data"
    },
    {
     "name": "stdout",
     "output_type": "stream",
     "text": [
      "Epoch 440: train=6.94845, val=7.69751, took 125.59 s\n",
      "  Validation Found 51517 of 54504, added 1699 (eff 94.52%) (0.17 FP/event)\n"
     ]
    },
    {
     "data": {
      "application/vnd.jupyter.widget-view+json": {
       "model_id": "",
       "version_major": 2,
       "version_minor": 0
      },
      "text/plain": [
       "HBox(children=(FloatProgress(value=0.0, description='Training', layout=Layout(flex='2'), max=1250.0, style=Pro…"
      ]
     },
     "metadata": {},
     "output_type": "display_data"
    },
    {
     "name": "stdout",
     "output_type": "stream",
     "text": [
      "Epoch 441: train=6.94569, val=7.66847, took 125.56 s\n",
      "  Validation Found 51559 of 54504, added 1803 (eff 94.60%) (0.181 FP/event)\n"
     ]
    },
    {
     "data": {
      "application/vnd.jupyter.widget-view+json": {
       "model_id": "",
       "version_major": 2,
       "version_minor": 0
      },
      "text/plain": [
       "HBox(children=(FloatProgress(value=0.0, description='Training', layout=Layout(flex='2'), max=1250.0, style=Pro…"
      ]
     },
     "metadata": {},
     "output_type": "display_data"
    },
    {
     "name": "stdout",
     "output_type": "stream",
     "text": [
      "Epoch 442: train=6.94657, val=7.59294, took 125.58 s\n",
      "  Validation Found 51705 of 54504, added 2016 (eff 94.86%) (0.202 FP/event)\n"
     ]
    },
    {
     "data": {
      "application/vnd.jupyter.widget-view+json": {
       "model_id": "",
       "version_major": 2,
       "version_minor": 0
      },
      "text/plain": [
       "HBox(children=(FloatProgress(value=0.0, description='Training', layout=Layout(flex='2'), max=1250.0, style=Pro…"
      ]
     },
     "metadata": {},
     "output_type": "display_data"
    },
    {
     "name": "stdout",
     "output_type": "stream",
     "text": [
      "Epoch 443: train=6.94763, val=7.64156, took 125.69 s\n",
      "  Validation Found 51676 of 54504, added 1958 (eff 94.81%) (0.196 FP/event)\n"
     ]
    },
    {
     "data": {
      "application/vnd.jupyter.widget-view+json": {
       "model_id": "",
       "version_major": 2,
       "version_minor": 0
      },
      "text/plain": [
       "HBox(children=(FloatProgress(value=0.0, description='Training', layout=Layout(flex='2'), max=1250.0, style=Pro…"
      ]
     },
     "metadata": {},
     "output_type": "display_data"
    },
    {
     "name": "stdout",
     "output_type": "stream",
     "text": [
      "Epoch 444: train=6.94808, val=7.59242, took 125.65 s\n",
      "  Validation Found 51696 of 54504, added 1994 (eff 94.85%) (0.2 FP/event)\n"
     ]
    },
    {
     "data": {
      "application/vnd.jupyter.widget-view+json": {
       "model_id": "",
       "version_major": 2,
       "version_minor": 0
      },
      "text/plain": [
       "HBox(children=(FloatProgress(value=0.0, description='Training', layout=Layout(flex='2'), max=1250.0, style=Pro…"
      ]
     },
     "metadata": {},
     "output_type": "display_data"
    },
    {
     "name": "stdout",
     "output_type": "stream",
     "text": [
      "Epoch 445: train=6.94654, val=7.65488, took 125.58 s\n",
      "  Validation Found 51576 of 54504, added 1769 (eff 94.63%) (0.177 FP/event)\n"
     ]
    },
    {
     "data": {
      "application/vnd.jupyter.widget-view+json": {
       "model_id": "",
       "version_major": 2,
       "version_minor": 0
      },
      "text/plain": [
       "HBox(children=(FloatProgress(value=0.0, description='Training', layout=Layout(flex='2'), max=1250.0, style=Pro…"
      ]
     },
     "metadata": {},
     "output_type": "display_data"
    },
    {
     "name": "stdout",
     "output_type": "stream",
     "text": [
      "Epoch 446: train=6.94659, val=7.58727, took 125.63 s\n",
      "  Validation Found 51747 of 54504, added 2103 (eff 94.94%) (0.211 FP/event)\n"
     ]
    },
    {
     "data": {
      "application/vnd.jupyter.widget-view+json": {
       "model_id": "",
       "version_major": 2,
       "version_minor": 0
      },
      "text/plain": [
       "HBox(children=(FloatProgress(value=0.0, description='Training', layout=Layout(flex='2'), max=1250.0, style=Pro…"
      ]
     },
     "metadata": {},
     "output_type": "display_data"
    },
    {
     "name": "stdout",
     "output_type": "stream",
     "text": [
      "Epoch 447: train=6.94939, val=7.62949, took 125.63 s\n",
      "  Validation Found 51691 of 54504, added 1978 (eff 94.84%) (0.198 FP/event)\n"
     ]
    },
    {
     "data": {
      "application/vnd.jupyter.widget-view+json": {
       "model_id": "",
       "version_major": 2,
       "version_minor": 0
      },
      "text/plain": [
       "HBox(children=(FloatProgress(value=0.0, description='Training', layout=Layout(flex='2'), max=1250.0, style=Pro…"
      ]
     },
     "metadata": {},
     "output_type": "display_data"
    },
    {
     "name": "stdout",
     "output_type": "stream",
     "text": [
      "Epoch 448: train=6.94413, val=7.66283, took 125.64 s\n",
      "  Validation Found 51629 of 54504, added 1889 (eff 94.73%) (0.189 FP/event)\n"
     ]
    },
    {
     "data": {
      "application/vnd.jupyter.widget-view+json": {
       "model_id": "",
       "version_major": 2,
       "version_minor": 0
      },
      "text/plain": [
       "HBox(children=(FloatProgress(value=0.0, description='Training', layout=Layout(flex='2'), max=1250.0, style=Pro…"
      ]
     },
     "metadata": {},
     "output_type": "display_data"
    },
    {
     "name": "stdout",
     "output_type": "stream",
     "text": [
      "Epoch 449: train=6.94696, val=7.62585, took 125.7 s\n",
      "  Validation Found 51639 of 54504, added 1837 (eff 94.74%) (0.184 FP/event)\n"
     ]
    },
    {
     "data": {
      "application/vnd.jupyter.widget-view+json": {
       "model_id": "",
       "version_major": 2,
       "version_minor": 0
      },
      "text/plain": [
       "HBox(children=(FloatProgress(value=0.0, description='Training', layout=Layout(flex='2'), max=1250.0, style=Pro…"
      ]
     },
     "metadata": {},
     "output_type": "display_data"
    },
    {
     "name": "stdout",
     "output_type": "stream",
     "text": [
      "Epoch 450: train=6.94419, val=7.63794, took 124.7 s\n",
      "  Validation Found 51622 of 54504, added 1849 (eff 94.71%) (0.185 FP/event)\n"
     ]
    },
    {
     "data": {
      "application/vnd.jupyter.widget-view+json": {
       "model_id": "",
       "version_major": 2,
       "version_minor": 0
      },
      "text/plain": [
       "HBox(children=(FloatProgress(value=0.0, description='Training', layout=Layout(flex='2'), max=1250.0, style=Pro…"
      ]
     },
     "metadata": {},
     "output_type": "display_data"
    },
    {
     "name": "stdout",
     "output_type": "stream",
     "text": [
      "Epoch 451: train=6.94423, val=7.69745, took 125.62 s\n",
      "  Validation Found 51576 of 54504, added 1773 (eff 94.63%) (0.178 FP/event)\n"
     ]
    },
    {
     "data": {
      "application/vnd.jupyter.widget-view+json": {
       "model_id": "",
       "version_major": 2,
       "version_minor": 0
      },
      "text/plain": [
       "HBox(children=(FloatProgress(value=0.0, description='Training', layout=Layout(flex='2'), max=1250.0, style=Pro…"
      ]
     },
     "metadata": {},
     "output_type": "display_data"
    },
    {
     "name": "stdout",
     "output_type": "stream",
     "text": [
      "Epoch 452: train=6.94459, val=7.67386, took 125.66 s\n",
      "  Validation Found 51589 of 54504, added 1863 (eff 94.65%) (0.187 FP/event)\n"
     ]
    },
    {
     "data": {
      "application/vnd.jupyter.widget-view+json": {
       "model_id": "",
       "version_major": 2,
       "version_minor": 0
      },
      "text/plain": [
       "HBox(children=(FloatProgress(value=0.0, description='Training', layout=Layout(flex='2'), max=1250.0, style=Pro…"
      ]
     },
     "metadata": {},
     "output_type": "display_data"
    },
    {
     "name": "stdout",
     "output_type": "stream",
     "text": [
      "Epoch 453: train=6.9431, val=7.61593, took 125.7 s\n",
      "  Validation Found 51651 of 54504, added 1956 (eff 94.77%) (0.196 FP/event)\n"
     ]
    },
    {
     "data": {
      "application/vnd.jupyter.widget-view+json": {
       "model_id": "",
       "version_major": 2,
       "version_minor": 0
      },
      "text/plain": [
       "HBox(children=(FloatProgress(value=0.0, description='Training', layout=Layout(flex='2'), max=1250.0, style=Pro…"
      ]
     },
     "metadata": {},
     "output_type": "display_data"
    },
    {
     "name": "stdout",
     "output_type": "stream",
     "text": [
      "Epoch 454: train=6.94542, val=7.67055, took 125.62 s\n",
      "  Validation Found 51623 of 54504, added 1912 (eff 94.71%) (0.191 FP/event)\n"
     ]
    },
    {
     "data": {
      "application/vnd.jupyter.widget-view+json": {
       "model_id": "",
       "version_major": 2,
       "version_minor": 0
      },
      "text/plain": [
       "HBox(children=(FloatProgress(value=0.0, description='Training', layout=Layout(flex='2'), max=1250.0, style=Pro…"
      ]
     },
     "metadata": {},
     "output_type": "display_data"
    },
    {
     "name": "stdout",
     "output_type": "stream",
     "text": [
      "Epoch 455: train=6.94124, val=7.65459, took 124.67 s\n",
      "  Validation Found 51583 of 54504, added 1778 (eff 94.64%) (0.178 FP/event)\n"
     ]
    },
    {
     "data": {
      "application/vnd.jupyter.widget-view+json": {
       "model_id": "",
       "version_major": 2,
       "version_minor": 0
      },
      "text/plain": [
       "HBox(children=(FloatProgress(value=0.0, description='Training', layout=Layout(flex='2'), max=1250.0, style=Pro…"
      ]
     },
     "metadata": {},
     "output_type": "display_data"
    },
    {
     "name": "stdout",
     "output_type": "stream",
     "text": [
      "Epoch 456: train=6.94557, val=7.54781, took 125.11 s\n",
      "  Validation Found 51779 of 54504, added 2190 (eff 95.00%) (0.219 FP/event)\n"
     ]
    },
    {
     "data": {
      "application/vnd.jupyter.widget-view+json": {
       "model_id": "",
       "version_major": 2,
       "version_minor": 0
      },
      "text/plain": [
       "HBox(children=(FloatProgress(value=0.0, description='Training', layout=Layout(flex='2'), max=1250.0, style=Pro…"
      ]
     },
     "metadata": {},
     "output_type": "display_data"
    },
    {
     "name": "stdout",
     "output_type": "stream",
     "text": [
      "Epoch 457: train=6.94315, val=7.71302, took 125.59 s\n",
      "  Validation Found 51522 of 54504, added 1695 (eff 94.53%) (0.17 FP/event)\n"
     ]
    },
    {
     "data": {
      "application/vnd.jupyter.widget-view+json": {
       "model_id": "",
       "version_major": 2,
       "version_minor": 0
      },
      "text/plain": [
       "HBox(children=(FloatProgress(value=0.0, description='Training', layout=Layout(flex='2'), max=1250.0, style=Pro…"
      ]
     },
     "metadata": {},
     "output_type": "display_data"
    },
    {
     "name": "stdout",
     "output_type": "stream",
     "text": [
      "Epoch 458: train=6.94383, val=7.62773, took 125.58 s\n",
      "  Validation Found 51643 of 54504, added 1938 (eff 94.75%) (0.194 FP/event)\n"
     ]
    },
    {
     "data": {
      "application/vnd.jupyter.widget-view+json": {
       "model_id": "",
       "version_major": 2,
       "version_minor": 0
      },
      "text/plain": [
       "HBox(children=(FloatProgress(value=0.0, description='Training', layout=Layout(flex='2'), max=1250.0, style=Pro…"
      ]
     },
     "metadata": {},
     "output_type": "display_data"
    },
    {
     "name": "stdout",
     "output_type": "stream",
     "text": [
      "Epoch 459: train=6.94596, val=7.59372, took 125.7 s\n",
      "  Validation Found 51703 of 54504, added 1948 (eff 94.86%) (0.195 FP/event)\n"
     ]
    },
    {
     "data": {
      "application/vnd.jupyter.widget-view+json": {
       "model_id": "",
       "version_major": 2,
       "version_minor": 0
      },
      "text/plain": [
       "HBox(children=(FloatProgress(value=0.0, description='Training', layout=Layout(flex='2'), max=1250.0, style=Pro…"
      ]
     },
     "metadata": {},
     "output_type": "display_data"
    },
    {
     "name": "stdout",
     "output_type": "stream",
     "text": [
      "Epoch 460: train=6.94451, val=7.6662, took 125.67 s\n",
      "  Validation Found 51614 of 54504, added 1803 (eff 94.70%) (0.181 FP/event)\n"
     ]
    },
    {
     "data": {
      "application/vnd.jupyter.widget-view+json": {
       "model_id": "",
       "version_major": 2,
       "version_minor": 0
      },
      "text/plain": [
       "HBox(children=(FloatProgress(value=0.0, description='Training', layout=Layout(flex='2'), max=1250.0, style=Pro…"
      ]
     },
     "metadata": {},
     "output_type": "display_data"
    },
    {
     "name": "stdout",
     "output_type": "stream",
     "text": [
      "Epoch 461: train=6.94451, val=7.66195, took 125.63 s\n",
      "  Validation Found 51680 of 54504, added 1939 (eff 94.82%) (0.194 FP/event)\n"
     ]
    },
    {
     "data": {
      "application/vnd.jupyter.widget-view+json": {
       "model_id": "",
       "version_major": 2,
       "version_minor": 0
      },
      "text/plain": [
       "HBox(children=(FloatProgress(value=0.0, description='Training', layout=Layout(flex='2'), max=1250.0, style=Pro…"
      ]
     },
     "metadata": {},
     "output_type": "display_data"
    },
    {
     "name": "stdout",
     "output_type": "stream",
     "text": [
      "Epoch 462: train=6.94388, val=7.56895, took 125.55 s\n",
      "  Validation Found 51714 of 54504, added 1963 (eff 94.88%) (0.197 FP/event)\n"
     ]
    },
    {
     "data": {
      "application/vnd.jupyter.widget-view+json": {
       "model_id": "",
       "version_major": 2,
       "version_minor": 0
      },
      "text/plain": [
       "HBox(children=(FloatProgress(value=0.0, description='Training', layout=Layout(flex='2'), max=1250.0, style=Pro…"
      ]
     },
     "metadata": {},
     "output_type": "display_data"
    },
    {
     "name": "stdout",
     "output_type": "stream",
     "text": [
      "Epoch 463: train=6.94737, val=7.67128, took 125.61 s\n",
      "  Validation Found 51601 of 54504, added 1789 (eff 94.67%) (0.179 FP/event)\n"
     ]
    },
    {
     "data": {
      "application/vnd.jupyter.widget-view+json": {
       "model_id": "",
       "version_major": 2,
       "version_minor": 0
      },
      "text/plain": [
       "HBox(children=(FloatProgress(value=0.0, description='Training', layout=Layout(flex='2'), max=1250.0, style=Pro…"
      ]
     },
     "metadata": {},
     "output_type": "display_data"
    },
    {
     "name": "stdout",
     "output_type": "stream",
     "text": [
      "Epoch 464: train=6.94123, val=7.59739, took 125.6 s\n",
      "  Validation Found 51679 of 54504, added 1932 (eff 94.82%) (0.193 FP/event)\n"
     ]
    },
    {
     "data": {
      "application/vnd.jupyter.widget-view+json": {
       "model_id": "",
       "version_major": 2,
       "version_minor": 0
      },
      "text/plain": [
       "HBox(children=(FloatProgress(value=0.0, description='Training', layout=Layout(flex='2'), max=1250.0, style=Pro…"
      ]
     },
     "metadata": {},
     "output_type": "display_data"
    },
    {
     "name": "stdout",
     "output_type": "stream",
     "text": [
      "Epoch 465: train=6.94277, val=7.72353, took 125.77 s\n",
      "  Validation Found 51451 of 54504, added 1646 (eff 94.40%) (0.165 FP/event)\n"
     ]
    },
    {
     "data": {
      "application/vnd.jupyter.widget-view+json": {
       "model_id": "",
       "version_major": 2,
       "version_minor": 0
      },
      "text/plain": [
       "HBox(children=(FloatProgress(value=0.0, description='Training', layout=Layout(flex='2'), max=1250.0, style=Pro…"
      ]
     },
     "metadata": {},
     "output_type": "display_data"
    },
    {
     "name": "stdout",
     "output_type": "stream",
     "text": [
      "Epoch 466: train=6.94166, val=7.67702, took 125.56 s\n",
      "  Validation Found 51563 of 54504, added 1755 (eff 94.60%) (0.176 FP/event)\n"
     ]
    },
    {
     "data": {
      "application/vnd.jupyter.widget-view+json": {
       "model_id": "",
       "version_major": 2,
       "version_minor": 0
      },
      "text/plain": [
       "HBox(children=(FloatProgress(value=0.0, description='Training', layout=Layout(flex='2'), max=1250.0, style=Pro…"
      ]
     },
     "metadata": {},
     "output_type": "display_data"
    },
    {
     "name": "stdout",
     "output_type": "stream",
     "text": [
      "Epoch 467: train=6.94349, val=7.67923, took 125.51 s\n",
      "  Validation Found 51745 of 54504, added 2094 (eff 94.94%) (0.21 FP/event)\n"
     ]
    },
    {
     "data": {
      "application/vnd.jupyter.widget-view+json": {
       "model_id": "",
       "version_major": 2,
       "version_minor": 0
      },
      "text/plain": [
       "HBox(children=(FloatProgress(value=0.0, description='Training', layout=Layout(flex='2'), max=1250.0, style=Pro…"
      ]
     },
     "metadata": {},
     "output_type": "display_data"
    },
    {
     "name": "stdout",
     "output_type": "stream",
     "text": [
      "Epoch 468: train=6.94256, val=7.63135, took 125.68 s\n",
      "  Validation Found 51690 of 54504, added 2009 (eff 94.84%) (0.201 FP/event)\n"
     ]
    },
    {
     "data": {
      "application/vnd.jupyter.widget-view+json": {
       "model_id": "",
       "version_major": 2,
       "version_minor": 0
      },
      "text/plain": [
       "HBox(children=(FloatProgress(value=0.0, description='Training', layout=Layout(flex='2'), max=1250.0, style=Pro…"
      ]
     },
     "metadata": {},
     "output_type": "display_data"
    },
    {
     "name": "stdout",
     "output_type": "stream",
     "text": [
      "Epoch 469: train=6.94423, val=7.67657, took 125.7 s\n",
      "  Validation Found 51632 of 54504, added 1822 (eff 94.73%) (0.182 FP/event)\n"
     ]
    },
    {
     "data": {
      "application/vnd.jupyter.widget-view+json": {
       "model_id": "",
       "version_major": 2,
       "version_minor": 0
      },
      "text/plain": [
       "HBox(children=(FloatProgress(value=0.0, description='Training', layout=Layout(flex='2'), max=1250.0, style=Pro…"
      ]
     },
     "metadata": {},
     "output_type": "display_data"
    },
    {
     "name": "stdout",
     "output_type": "stream",
     "text": [
      "Epoch 470: train=6.94461, val=7.68733, took 125.57 s\n",
      "  Validation Found 51561 of 54504, added 1777 (eff 94.60%) (0.178 FP/event)\n"
     ]
    },
    {
     "data": {
      "application/vnd.jupyter.widget-view+json": {
       "model_id": "",
       "version_major": 2,
       "version_minor": 0
      },
      "text/plain": [
       "HBox(children=(FloatProgress(value=0.0, description='Training', layout=Layout(flex='2'), max=1250.0, style=Pro…"
      ]
     },
     "metadata": {},
     "output_type": "display_data"
    },
    {
     "name": "stdout",
     "output_type": "stream",
     "text": [
      "Epoch 471: train=6.94318, val=7.7816, took 125.74 s\n",
      "  Validation Found 51488 of 54504, added 1760 (eff 94.47%) (0.176 FP/event)\n"
     ]
    },
    {
     "data": {
      "application/vnd.jupyter.widget-view+json": {
       "model_id": "",
       "version_major": 2,
       "version_minor": 0
      },
      "text/plain": [
       "HBox(children=(FloatProgress(value=0.0, description='Training', layout=Layout(flex='2'), max=1250.0, style=Pro…"
      ]
     },
     "metadata": {},
     "output_type": "display_data"
    },
    {
     "name": "stdout",
     "output_type": "stream",
     "text": [
      "Epoch 472: train=6.94247, val=7.69993, took 125.62 s\n",
      "  Validation Found 51572 of 54504, added 1832 (eff 94.62%) (0.183 FP/event)\n"
     ]
    },
    {
     "data": {
      "application/vnd.jupyter.widget-view+json": {
       "model_id": "",
       "version_major": 2,
       "version_minor": 0
      },
      "text/plain": [
       "HBox(children=(FloatProgress(value=0.0, description='Training', layout=Layout(flex='2'), max=1250.0, style=Pro…"
      ]
     },
     "metadata": {},
     "output_type": "display_data"
    },
    {
     "name": "stdout",
     "output_type": "stream",
     "text": [
      "Epoch 473: train=6.94229, val=7.59331, took 125.41 s\n",
      "  Validation Found 51837 of 54504, added 2191 (eff 95.11%) (0.219 FP/event)\n"
     ]
    },
    {
     "data": {
      "application/vnd.jupyter.widget-view+json": {
       "model_id": "",
       "version_major": 2,
       "version_minor": 0
      },
      "text/plain": [
       "HBox(children=(FloatProgress(value=0.0, description='Training', layout=Layout(flex='2'), max=1250.0, style=Pro…"
      ]
     },
     "metadata": {},
     "output_type": "display_data"
    },
    {
     "name": "stdout",
     "output_type": "stream",
     "text": [
      "Epoch 474: train=6.93978, val=7.66841, took 124.92 s\n",
      "  Validation Found 51636 of 54504, added 1900 (eff 94.74%) (0.19 FP/event)\n"
     ]
    },
    {
     "data": {
      "application/vnd.jupyter.widget-view+json": {
       "model_id": "",
       "version_major": 2,
       "version_minor": 0
      },
      "text/plain": [
       "HBox(children=(FloatProgress(value=0.0, description='Training', layout=Layout(flex='2'), max=1250.0, style=Pro…"
      ]
     },
     "metadata": {},
     "output_type": "display_data"
    },
    {
     "name": "stdout",
     "output_type": "stream",
     "text": [
      "Epoch 475: train=6.943, val=7.66614, took 125.55 s\n",
      "  Validation Found 51570 of 54504, added 1875 (eff 94.62%) (0.188 FP/event)\n"
     ]
    },
    {
     "data": {
      "application/vnd.jupyter.widget-view+json": {
       "model_id": "",
       "version_major": 2,
       "version_minor": 0
      },
      "text/plain": [
       "HBox(children=(FloatProgress(value=0.0, description='Training', layout=Layout(flex='2'), max=1250.0, style=Pro…"
      ]
     },
     "metadata": {},
     "output_type": "display_data"
    },
    {
     "name": "stdout",
     "output_type": "stream",
     "text": [
      "Epoch 476: train=6.93853, val=7.71215, took 124.85 s\n",
      "  Validation Found 51571 of 54504, added 1804 (eff 94.62%) (0.181 FP/event)\n"
     ]
    },
    {
     "data": {
      "application/vnd.jupyter.widget-view+json": {
       "model_id": "",
       "version_major": 2,
       "version_minor": 0
      },
      "text/plain": [
       "HBox(children=(FloatProgress(value=0.0, description='Training', layout=Layout(flex='2'), max=1250.0, style=Pro…"
      ]
     },
     "metadata": {},
     "output_type": "display_data"
    },
    {
     "name": "stdout",
     "output_type": "stream",
     "text": [
      "Epoch 477: train=6.94177, val=7.63317, took 125.06 s\n",
      "  Validation Found 51613 of 54504, added 1852 (eff 94.70%) (0.185 FP/event)\n"
     ]
    },
    {
     "data": {
      "application/vnd.jupyter.widget-view+json": {
       "model_id": "",
       "version_major": 2,
       "version_minor": 0
      },
      "text/plain": [
       "HBox(children=(FloatProgress(value=0.0, description='Training', layout=Layout(flex='2'), max=1250.0, style=Pro…"
      ]
     },
     "metadata": {},
     "output_type": "display_data"
    },
    {
     "name": "stdout",
     "output_type": "stream",
     "text": [
      "Epoch 478: train=6.94063, val=7.60581, took 125.57 s\n",
      "  Validation Found 51729 of 54504, added 2091 (eff 94.91%) (0.209 FP/event)\n"
     ]
    },
    {
     "data": {
      "application/vnd.jupyter.widget-view+json": {
       "model_id": "",
       "version_major": 2,
       "version_minor": 0
      },
      "text/plain": [
       "HBox(children=(FloatProgress(value=0.0, description='Training', layout=Layout(flex='2'), max=1250.0, style=Pro…"
      ]
     },
     "metadata": {},
     "output_type": "display_data"
    },
    {
     "name": "stdout",
     "output_type": "stream",
     "text": [
      "Epoch 479: train=6.94013, val=7.62105, took 125.54 s\n",
      "  Validation Found 51765 of 54504, added 2062 (eff 94.97%) (0.207 FP/event)\n"
     ]
    },
    {
     "data": {
      "application/vnd.jupyter.widget-view+json": {
       "model_id": "",
       "version_major": 2,
       "version_minor": 0
      },
      "text/plain": [
       "HBox(children=(FloatProgress(value=0.0, description='Training', layout=Layout(flex='2'), max=1250.0, style=Pro…"
      ]
     },
     "metadata": {},
     "output_type": "display_data"
    },
    {
     "name": "stdout",
     "output_type": "stream",
     "text": [
      "Epoch 480: train=6.93995, val=7.61747, took 125.58 s\n",
      "  Validation Found 51579 of 54504, added 1797 (eff 94.63%) (0.18 FP/event)\n"
     ]
    },
    {
     "data": {
      "application/vnd.jupyter.widget-view+json": {
       "model_id": "",
       "version_major": 2,
       "version_minor": 0
      },
      "text/plain": [
       "HBox(children=(FloatProgress(value=0.0, description='Training', layout=Layout(flex='2'), max=1250.0, style=Pro…"
      ]
     },
     "metadata": {},
     "output_type": "display_data"
    },
    {
     "name": "stdout",
     "output_type": "stream",
     "text": [
      "Epoch 481: train=6.93935, val=7.70546, took 125.62 s\n",
      "  Validation Found 51553 of 54504, added 1828 (eff 94.59%) (0.183 FP/event)\n"
     ]
    },
    {
     "data": {
      "application/vnd.jupyter.widget-view+json": {
       "model_id": "",
       "version_major": 2,
       "version_minor": 0
      },
      "text/plain": [
       "HBox(children=(FloatProgress(value=0.0, description='Training', layout=Layout(flex='2'), max=1250.0, style=Pro…"
      ]
     },
     "metadata": {},
     "output_type": "display_data"
    },
    {
     "name": "stdout",
     "output_type": "stream",
     "text": [
      "Epoch 482: train=6.93904, val=7.71835, took 125.63 s\n",
      "  Validation Found 51488 of 54504, added 1731 (eff 94.47%) (0.173 FP/event)\n"
     ]
    },
    {
     "data": {
      "application/vnd.jupyter.widget-view+json": {
       "model_id": "",
       "version_major": 2,
       "version_minor": 0
      },
      "text/plain": [
       "HBox(children=(FloatProgress(value=0.0, description='Training', layout=Layout(flex='2'), max=1250.0, style=Pro…"
      ]
     },
     "metadata": {},
     "output_type": "display_data"
    },
    {
     "name": "stdout",
     "output_type": "stream",
     "text": [
      "Epoch 483: train=6.94058, val=7.68717, took 125.64 s\n",
      "  Validation Found 51600 of 54504, added 1899 (eff 94.67%) (0.19 FP/event)\n"
     ]
    },
    {
     "data": {
      "application/vnd.jupyter.widget-view+json": {
       "model_id": "",
       "version_major": 2,
       "version_minor": 0
      },
      "text/plain": [
       "HBox(children=(FloatProgress(value=0.0, description='Training', layout=Layout(flex='2'), max=1250.0, style=Pro…"
      ]
     },
     "metadata": {},
     "output_type": "display_data"
    },
    {
     "name": "stdout",
     "output_type": "stream",
     "text": [
      "Epoch 484: train=6.9399, val=7.6442, took 125.52 s\n",
      "  Validation Found 51791 of 54504, added 2113 (eff 95.02%) (0.212 FP/event)\n"
     ]
    },
    {
     "data": {
      "application/vnd.jupyter.widget-view+json": {
       "model_id": "",
       "version_major": 2,
       "version_minor": 0
      },
      "text/plain": [
       "HBox(children=(FloatProgress(value=0.0, description='Training', layout=Layout(flex='2'), max=1250.0, style=Pro…"
      ]
     },
     "metadata": {},
     "output_type": "display_data"
    },
    {
     "name": "stdout",
     "output_type": "stream",
     "text": [
      "Epoch 485: train=6.93858, val=7.65856, took 125.55 s\n",
      "  Validation Found 51610 of 54504, added 1890 (eff 94.69%) (0.189 FP/event)\n"
     ]
    },
    {
     "data": {
      "application/vnd.jupyter.widget-view+json": {
       "model_id": "",
       "version_major": 2,
       "version_minor": 0
      },
      "text/plain": [
       "HBox(children=(FloatProgress(value=0.0, description='Training', layout=Layout(flex='2'), max=1250.0, style=Pro…"
      ]
     },
     "metadata": {},
     "output_type": "display_data"
    },
    {
     "name": "stdout",
     "output_type": "stream",
     "text": [
      "Epoch 486: train=6.93673, val=7.65909, took 125.67 s\n",
      "  Validation Found 51679 of 54504, added 2006 (eff 94.82%) (0.201 FP/event)\n"
     ]
    },
    {
     "data": {
      "application/vnd.jupyter.widget-view+json": {
       "model_id": "",
       "version_major": 2,
       "version_minor": 0
      },
      "text/plain": [
       "HBox(children=(FloatProgress(value=0.0, description='Training', layout=Layout(flex='2'), max=1250.0, style=Pro…"
      ]
     },
     "metadata": {},
     "output_type": "display_data"
    },
    {
     "name": "stdout",
     "output_type": "stream",
     "text": [
      "Epoch 487: train=6.93672, val=7.64531, took 124.72 s\n",
      "  Validation Found 51684 of 54504, added 2020 (eff 94.83%) (0.202 FP/event)\n"
     ]
    },
    {
     "data": {
      "application/vnd.jupyter.widget-view+json": {
       "model_id": "",
       "version_major": 2,
       "version_minor": 0
      },
      "text/plain": [
       "HBox(children=(FloatProgress(value=0.0, description='Training', layout=Layout(flex='2'), max=1250.0, style=Pro…"
      ]
     },
     "metadata": {},
     "output_type": "display_data"
    },
    {
     "name": "stdout",
     "output_type": "stream",
     "text": [
      "Epoch 488: train=6.93784, val=7.54221, took 125.48 s\n",
      "  Validation Found 51813 of 54504, added 2164 (eff 95.06%) (0.217 FP/event)\n"
     ]
    },
    {
     "data": {
      "application/vnd.jupyter.widget-view+json": {
       "model_id": "",
       "version_major": 2,
       "version_minor": 0
      },
      "text/plain": [
       "HBox(children=(FloatProgress(value=0.0, description='Training', layout=Layout(flex='2'), max=1250.0, style=Pro…"
      ]
     },
     "metadata": {},
     "output_type": "display_data"
    },
    {
     "name": "stdout",
     "output_type": "stream",
     "text": [
      "Epoch 489: train=6.93978, val=7.70564, took 125.64 s\n",
      "  Validation Found 51571 of 54504, added 1732 (eff 94.62%) (0.173 FP/event)\n"
     ]
    },
    {
     "data": {
      "application/vnd.jupyter.widget-view+json": {
       "model_id": "",
       "version_major": 2,
       "version_minor": 0
      },
      "text/plain": [
       "HBox(children=(FloatProgress(value=0.0, description='Training', layout=Layout(flex='2'), max=1250.0, style=Pro…"
      ]
     },
     "metadata": {},
     "output_type": "display_data"
    },
    {
     "name": "stdout",
     "output_type": "stream",
     "text": [
      "Epoch 490: train=6.93665, val=7.60684, took 125.63 s\n",
      "  Validation Found 51745 of 54504, added 2090 (eff 94.94%) (0.209 FP/event)\n"
     ]
    },
    {
     "data": {
      "application/vnd.jupyter.widget-view+json": {
       "model_id": "",
       "version_major": 2,
       "version_minor": 0
      },
      "text/plain": [
       "HBox(children=(FloatProgress(value=0.0, description='Training', layout=Layout(flex='2'), max=1250.0, style=Pro…"
      ]
     },
     "metadata": {},
     "output_type": "display_data"
    },
    {
     "name": "stdout",
     "output_type": "stream",
     "text": [
      "Epoch 491: train=6.93693, val=7.6946, took 125.51 s\n",
      "  Validation Found 51569 of 54504, added 1822 (eff 94.62%) (0.182 FP/event)\n"
     ]
    },
    {
     "data": {
      "application/vnd.jupyter.widget-view+json": {
       "model_id": "",
       "version_major": 2,
       "version_minor": 0
      },
      "text/plain": [
       "HBox(children=(FloatProgress(value=0.0, description='Training', layout=Layout(flex='2'), max=1250.0, style=Pro…"
      ]
     },
     "metadata": {},
     "output_type": "display_data"
    },
    {
     "name": "stdout",
     "output_type": "stream",
     "text": [
      "Epoch 492: train=6.93895, val=7.65246, took 125.64 s\n",
      "  Validation Found 51668 of 54504, added 1964 (eff 94.80%) (0.197 FP/event)\n"
     ]
    },
    {
     "data": {
      "application/vnd.jupyter.widget-view+json": {
       "model_id": "",
       "version_major": 2,
       "version_minor": 0
      },
      "text/plain": [
       "HBox(children=(FloatProgress(value=0.0, description='Training', layout=Layout(flex='2'), max=1250.0, style=Pro…"
      ]
     },
     "metadata": {},
     "output_type": "display_data"
    },
    {
     "name": "stdout",
     "output_type": "stream",
     "text": [
      "Epoch 493: train=6.93782, val=7.59374, took 125.61 s\n",
      "  Validation Found 51798 of 54504, added 2128 (eff 95.04%) (0.213 FP/event)\n"
     ]
    },
    {
     "data": {
      "application/vnd.jupyter.widget-view+json": {
       "model_id": "",
       "version_major": 2,
       "version_minor": 0
      },
      "text/plain": [
       "HBox(children=(FloatProgress(value=0.0, description='Training', layout=Layout(flex='2'), max=1250.0, style=Pro…"
      ]
     },
     "metadata": {},
     "output_type": "display_data"
    },
    {
     "name": "stdout",
     "output_type": "stream",
     "text": [
      "Epoch 494: train=6.93777, val=7.70345, took 125.56 s\n",
      "  Validation Found 51629 of 54504, added 1901 (eff 94.73%) (0.19 FP/event)\n"
     ]
    },
    {
     "data": {
      "application/vnd.jupyter.widget-view+json": {
       "model_id": "",
       "version_major": 2,
       "version_minor": 0
      },
      "text/plain": [
       "HBox(children=(FloatProgress(value=0.0, description='Training', layout=Layout(flex='2'), max=1250.0, style=Pro…"
      ]
     },
     "metadata": {},
     "output_type": "display_data"
    },
    {
     "name": "stdout",
     "output_type": "stream",
     "text": [
      "Epoch 495: train=6.93682, val=7.62597, took 125.68 s\n",
      "  Validation Found 51725 of 54504, added 2112 (eff 94.90%) (0.212 FP/event)\n"
     ]
    },
    {
     "data": {
      "application/vnd.jupyter.widget-view+json": {
       "model_id": "",
       "version_major": 2,
       "version_minor": 0
      },
      "text/plain": [
       "HBox(children=(FloatProgress(value=0.0, description='Training', layout=Layout(flex='2'), max=1250.0, style=Pro…"
      ]
     },
     "metadata": {},
     "output_type": "display_data"
    },
    {
     "name": "stdout",
     "output_type": "stream",
     "text": [
      "Epoch 496: train=6.93652, val=7.6936, took 125.75 s\n",
      "  Validation Found 51625 of 54504, added 1824 (eff 94.72%) (0.183 FP/event)\n"
     ]
    },
    {
     "data": {
      "application/vnd.jupyter.widget-view+json": {
       "model_id": "",
       "version_major": 2,
       "version_minor": 0
      },
      "text/plain": [
       "HBox(children=(FloatProgress(value=0.0, description='Training', layout=Layout(flex='2'), max=1250.0, style=Pro…"
      ]
     },
     "metadata": {},
     "output_type": "display_data"
    },
    {
     "name": "stdout",
     "output_type": "stream",
     "text": [
      "Epoch 497: train=6.93718, val=7.7043, took 125.68 s\n",
      "  Validation Found 51580 of 54504, added 1906 (eff 94.64%) (0.191 FP/event)\n"
     ]
    },
    {
     "data": {
      "application/vnd.jupyter.widget-view+json": {
       "model_id": "",
       "version_major": 2,
       "version_minor": 0
      },
      "text/plain": [
       "HBox(children=(FloatProgress(value=0.0, description='Training', layout=Layout(flex='2'), max=1250.0, style=Pro…"
      ]
     },
     "metadata": {},
     "output_type": "display_data"
    },
    {
     "name": "stdout",
     "output_type": "stream",
     "text": [
      "Epoch 498: train=6.93908, val=7.68598, took 125.58 s\n",
      "  Validation Found 51682 of 54504, added 2014 (eff 94.82%) (0.202 FP/event)\n"
     ]
    },
    {
     "data": {
      "application/vnd.jupyter.widget-view+json": {
       "model_id": "",
       "version_major": 2,
       "version_minor": 0
      },
      "text/plain": [
       "HBox(children=(FloatProgress(value=0.0, description='Training', layout=Layout(flex='2'), max=1250.0, style=Pro…"
      ]
     },
     "metadata": {},
     "output_type": "display_data"
    },
    {
     "name": "stdout",
     "output_type": "stream",
     "text": [
      "Epoch 499: train=6.93728, val=7.73284, took 124.61 s\n",
      "  Validation Found 51580 of 54504, added 1839 (eff 94.64%) (0.184 FP/event)\n"
     ]
    },
    {
     "data": {
      "application/vnd.jupyter.widget-view+json": {
       "model_id": "",
       "version_major": 2,
       "version_minor": 0
      },
      "text/plain": [
       "HBox(children=(FloatProgress(value=0.0, description='Training', layout=Layout(flex='2'), max=1250.0, style=Pro…"
      ]
     },
     "metadata": {},
     "output_type": "display_data"
    },
    {
     "name": "stdout",
     "output_type": "stream",
     "text": [
      "Epoch 500: train=6.93742, val=7.66112, took 124.63 s\n",
      "  Validation Found 51597 of 54504, added 1810 (eff 94.67%) (0.181 FP/event)\n"
     ]
    },
    {
     "data": {
      "application/vnd.jupyter.widget-view+json": {
       "model_id": "",
       "version_major": 2,
       "version_minor": 0
      },
      "text/plain": [
       "HBox(children=(FloatProgress(value=0.0, description='Training', layout=Layout(flex='2'), max=1250.0, style=Pro…"
      ]
     },
     "metadata": {},
     "output_type": "display_data"
    },
    {
     "name": "stdout",
     "output_type": "stream",
     "text": [
      "Epoch 501: train=6.93508, val=7.65509, took 125.14 s\n",
      "  Validation Found 51686 of 54504, added 2022 (eff 94.83%) (0.203 FP/event)\n"
     ]
    },
    {
     "data": {
      "application/vnd.jupyter.widget-view+json": {
       "model_id": "",
       "version_major": 2,
       "version_minor": 0
      },
      "text/plain": [
       "HBox(children=(FloatProgress(value=0.0, description='Training', layout=Layout(flex='2'), max=1250.0, style=Pro…"
      ]
     },
     "metadata": {},
     "output_type": "display_data"
    },
    {
     "name": "stdout",
     "output_type": "stream",
     "text": [
      "Epoch 502: train=6.93723, val=7.67355, took 125.57 s\n",
      "  Validation Found 51594 of 54504, added 1899 (eff 94.66%) (0.19 FP/event)\n"
     ]
    },
    {
     "data": {
      "application/vnd.jupyter.widget-view+json": {
       "model_id": "",
       "version_major": 2,
       "version_minor": 0
      },
      "text/plain": [
       "HBox(children=(FloatProgress(value=0.0, description='Training', layout=Layout(flex='2'), max=1250.0, style=Pro…"
      ]
     },
     "metadata": {},
     "output_type": "display_data"
    },
    {
     "name": "stdout",
     "output_type": "stream",
     "text": [
      "Epoch 503: train=6.93633, val=7.68303, took 125.7 s\n",
      "  Validation Found 51646 of 54504, added 1946 (eff 94.76%) (0.195 FP/event)\n"
     ]
    },
    {
     "data": {
      "application/vnd.jupyter.widget-view+json": {
       "model_id": "",
       "version_major": 2,
       "version_minor": 0
      },
      "text/plain": [
       "HBox(children=(FloatProgress(value=0.0, description='Training', layout=Layout(flex='2'), max=1250.0, style=Pro…"
      ]
     },
     "metadata": {},
     "output_type": "display_data"
    },
    {
     "name": "stdout",
     "output_type": "stream",
     "text": [
      "Epoch 504: train=6.93456, val=7.64556, took 125.67 s\n",
      "  Validation Found 51591 of 54504, added 1841 (eff 94.66%) (0.184 FP/event)\n"
     ]
    },
    {
     "data": {
      "application/vnd.jupyter.widget-view+json": {
       "model_id": "",
       "version_major": 2,
       "version_minor": 0
      },
      "text/plain": [
       "HBox(children=(FloatProgress(value=0.0, description='Training', layout=Layout(flex='2'), max=1250.0, style=Pro…"
      ]
     },
     "metadata": {},
     "output_type": "display_data"
    },
    {
     "name": "stdout",
     "output_type": "stream",
     "text": [
      "Epoch 505: train=6.93724, val=7.68507, took 125.68 s\n",
      "  Validation Found 51615 of 54504, added 1869 (eff 94.70%) (0.187 FP/event)\n"
     ]
    },
    {
     "data": {
      "application/vnd.jupyter.widget-view+json": {
       "model_id": "",
       "version_major": 2,
       "version_minor": 0
      },
      "text/plain": [
       "HBox(children=(FloatProgress(value=0.0, description='Training', layout=Layout(flex='2'), max=1250.0, style=Pro…"
      ]
     },
     "metadata": {},
     "output_type": "display_data"
    },
    {
     "name": "stdout",
     "output_type": "stream",
     "text": [
      "Epoch 506: train=6.93603, val=7.71753, took 125.67 s\n",
      "  Validation Found 51622 of 54504, added 1871 (eff 94.71%) (0.187 FP/event)\n"
     ]
    },
    {
     "data": {
      "application/vnd.jupyter.widget-view+json": {
       "model_id": "",
       "version_major": 2,
       "version_minor": 0
      },
      "text/plain": [
       "HBox(children=(FloatProgress(value=0.0, description='Training', layout=Layout(flex='2'), max=1250.0, style=Pro…"
      ]
     },
     "metadata": {},
     "output_type": "display_data"
    },
    {
     "name": "stdout",
     "output_type": "stream",
     "text": [
      "Epoch 507: train=6.93579, val=7.6091, took 125.68 s\n",
      "  Validation Found 51675 of 54504, added 1943 (eff 94.81%) (0.195 FP/event)\n"
     ]
    },
    {
     "data": {
      "application/vnd.jupyter.widget-view+json": {
       "model_id": "",
       "version_major": 2,
       "version_minor": 0
      },
      "text/plain": [
       "HBox(children=(FloatProgress(value=0.0, description='Training', layout=Layout(flex='2'), max=1250.0, style=Pro…"
      ]
     },
     "metadata": {},
     "output_type": "display_data"
    },
    {
     "name": "stdout",
     "output_type": "stream",
     "text": [
      "Epoch 508: train=6.93284, val=7.63915, took 125.74 s\n",
      "  Validation Found 51677 of 54504, added 1941 (eff 94.81%) (0.194 FP/event)\n"
     ]
    },
    {
     "data": {
      "application/vnd.jupyter.widget-view+json": {
       "model_id": "",
       "version_major": 2,
       "version_minor": 0
      },
      "text/plain": [
       "HBox(children=(FloatProgress(value=0.0, description='Training', layout=Layout(flex='2'), max=1250.0, style=Pro…"
      ]
     },
     "metadata": {},
     "output_type": "display_data"
    },
    {
     "name": "stdout",
     "output_type": "stream",
     "text": [
      "Epoch 509: train=6.93745, val=7.61827, took 124.7 s\n",
      "  Validation Found 51648 of 54504, added 1876 (eff 94.76%) (0.188 FP/event)\n"
     ]
    },
    {
     "data": {
      "application/vnd.jupyter.widget-view+json": {
       "model_id": "",
       "version_major": 2,
       "version_minor": 0
      },
      "text/plain": [
       "HBox(children=(FloatProgress(value=0.0, description='Training', layout=Layout(flex='2'), max=1250.0, style=Pro…"
      ]
     },
     "metadata": {},
     "output_type": "display_data"
    },
    {
     "name": "stdout",
     "output_type": "stream",
     "text": [
      "Epoch 510: train=6.93435, val=7.61475, took 125.57 s\n",
      "  Validation Found 51718 of 54504, added 2068 (eff 94.89%) (0.207 FP/event)\n"
     ]
    },
    {
     "data": {
      "application/vnd.jupyter.widget-view+json": {
       "model_id": "",
       "version_major": 2,
       "version_minor": 0
      },
      "text/plain": [
       "HBox(children=(FloatProgress(value=0.0, description='Training', layout=Layout(flex='2'), max=1250.0, style=Pro…"
      ]
     },
     "metadata": {},
     "output_type": "display_data"
    },
    {
     "name": "stdout",
     "output_type": "stream",
     "text": [
      "Epoch 511: train=6.93332, val=7.62696, took 125.65 s\n",
      "  Validation Found 51693 of 54504, added 2041 (eff 94.84%) (0.204 FP/event)\n"
     ]
    },
    {
     "data": {
      "application/vnd.jupyter.widget-view+json": {
       "model_id": "",
       "version_major": 2,
       "version_minor": 0
      },
      "text/plain": [
       "HBox(children=(FloatProgress(value=0.0, description='Training', layout=Layout(flex='2'), max=1250.0, style=Pro…"
      ]
     },
     "metadata": {},
     "output_type": "display_data"
    },
    {
     "name": "stdout",
     "output_type": "stream",
     "text": [
      "Epoch 512: train=6.93597, val=7.74194, took 124.83 s\n",
      "  Validation Found 51601 of 54504, added 1857 (eff 94.67%) (0.186 FP/event)\n"
     ]
    },
    {
     "data": {
      "application/vnd.jupyter.widget-view+json": {
       "model_id": "",
       "version_major": 2,
       "version_minor": 0
      },
      "text/plain": [
       "HBox(children=(FloatProgress(value=0.0, description='Training', layout=Layout(flex='2'), max=1250.0, style=Pro…"
      ]
     },
     "metadata": {},
     "output_type": "display_data"
    },
    {
     "name": "stdout",
     "output_type": "stream",
     "text": [
      "Epoch 513: train=6.93579, val=7.66371, took 124.85 s\n",
      "  Validation Found 51619 of 54504, added 1873 (eff 94.71%) (0.188 FP/event)\n"
     ]
    },
    {
     "data": {
      "application/vnd.jupyter.widget-view+json": {
       "model_id": "",
       "version_major": 2,
       "version_minor": 0
      },
      "text/plain": [
       "HBox(children=(FloatProgress(value=0.0, description='Training', layout=Layout(flex='2'), max=1250.0, style=Pro…"
      ]
     },
     "metadata": {},
     "output_type": "display_data"
    },
    {
     "name": "stdout",
     "output_type": "stream",
     "text": [
      "Epoch 514: train=6.93424, val=7.67745, took 125.63 s\n",
      "  Validation Found 51654 of 54504, added 1887 (eff 94.77%) (0.189 FP/event)\n"
     ]
    },
    {
     "data": {
      "application/vnd.jupyter.widget-view+json": {
       "model_id": "",
       "version_major": 2,
       "version_minor": 0
      },
      "text/plain": [
       "HBox(children=(FloatProgress(value=0.0, description='Training', layout=Layout(flex='2'), max=1250.0, style=Pro…"
      ]
     },
     "metadata": {},
     "output_type": "display_data"
    },
    {
     "name": "stdout",
     "output_type": "stream",
     "text": [
      "Epoch 515: train=6.93487, val=7.65172, took 125.5 s\n",
      "  Validation Found 51682 of 54504, added 1940 (eff 94.82%) (0.194 FP/event)\n"
     ]
    },
    {
     "data": {
      "application/vnd.jupyter.widget-view+json": {
       "model_id": "",
       "version_major": 2,
       "version_minor": 0
      },
      "text/plain": [
       "HBox(children=(FloatProgress(value=0.0, description='Training', layout=Layout(flex='2'), max=1250.0, style=Pro…"
      ]
     },
     "metadata": {},
     "output_type": "display_data"
    },
    {
     "name": "stdout",
     "output_type": "stream",
     "text": [
      "Epoch 516: train=6.93276, val=7.6076, took 125.6 s\n",
      "  Validation Found 51646 of 54504, added 1939 (eff 94.76%) (0.194 FP/event)\n"
     ]
    },
    {
     "data": {
      "application/vnd.jupyter.widget-view+json": {
       "model_id": "",
       "version_major": 2,
       "version_minor": 0
      },
      "text/plain": [
       "HBox(children=(FloatProgress(value=0.0, description='Training', layout=Layout(flex='2'), max=1250.0, style=Pro…"
      ]
     },
     "metadata": {},
     "output_type": "display_data"
    },
    {
     "name": "stdout",
     "output_type": "stream",
     "text": [
      "Epoch 517: train=6.93316, val=7.72583, took 125.71 s\n",
      "  Validation Found 51526 of 54504, added 1743 (eff 94.54%) (0.175 FP/event)\n"
     ]
    },
    {
     "data": {
      "application/vnd.jupyter.widget-view+json": {
       "model_id": "",
       "version_major": 2,
       "version_minor": 0
      },
      "text/plain": [
       "HBox(children=(FloatProgress(value=0.0, description='Training', layout=Layout(flex='2'), max=1250.0, style=Pro…"
      ]
     },
     "metadata": {},
     "output_type": "display_data"
    },
    {
     "name": "stdout",
     "output_type": "stream",
     "text": [
      "Epoch 518: train=6.93496, val=7.63965, took 125.61 s\n",
      "  Validation Found 51692 of 54504, added 1933 (eff 94.84%) (0.194 FP/event)\n"
     ]
    },
    {
     "data": {
      "application/vnd.jupyter.widget-view+json": {
       "model_id": "",
       "version_major": 2,
       "version_minor": 0
      },
      "text/plain": [
       "HBox(children=(FloatProgress(value=0.0, description='Training', layout=Layout(flex='2'), max=1250.0, style=Pro…"
      ]
     },
     "metadata": {},
     "output_type": "display_data"
    },
    {
     "name": "stdout",
     "output_type": "stream",
     "text": [
      "Epoch 519: train=6.93338, val=7.66601, took 125.58 s\n",
      "  Validation Found 51561 of 54504, added 1755 (eff 94.60%) (0.176 FP/event)\n"
     ]
    },
    {
     "data": {
      "application/vnd.jupyter.widget-view+json": {
       "model_id": "",
       "version_major": 2,
       "version_minor": 0
      },
      "text/plain": [
       "HBox(children=(FloatProgress(value=0.0, description='Training', layout=Layout(flex='2'), max=1250.0, style=Pro…"
      ]
     },
     "metadata": {},
     "output_type": "display_data"
    },
    {
     "name": "stdout",
     "output_type": "stream",
     "text": [
      "Epoch 520: train=6.93108, val=7.64866, took 125.6 s\n",
      "  Validation Found 51666 of 54504, added 1926 (eff 94.79%) (0.193 FP/event)\n"
     ]
    },
    {
     "data": {
      "application/vnd.jupyter.widget-view+json": {
       "model_id": "",
       "version_major": 2,
       "version_minor": 0
      },
      "text/plain": [
       "HBox(children=(FloatProgress(value=0.0, description='Training', layout=Layout(flex='2'), max=1250.0, style=Pro…"
      ]
     },
     "metadata": {},
     "output_type": "display_data"
    },
    {
     "name": "stdout",
     "output_type": "stream",
     "text": [
      "Epoch 521: train=6.93372, val=7.68153, took 125.64 s\n",
      "  Validation Found 51631 of 54504, added 1924 (eff 94.73%) (0.193 FP/event)\n"
     ]
    },
    {
     "data": {
      "application/vnd.jupyter.widget-view+json": {
       "model_id": "",
       "version_major": 2,
       "version_minor": 0
      },
      "text/plain": [
       "HBox(children=(FloatProgress(value=0.0, description='Training', layout=Layout(flex='2'), max=1250.0, style=Pro…"
      ]
     },
     "metadata": {},
     "output_type": "display_data"
    },
    {
     "name": "stdout",
     "output_type": "stream",
     "text": [
      "Epoch 522: train=6.9333, val=7.61665, took 125.59 s\n",
      "  Validation Found 51716 of 54504, added 2062 (eff 94.88%) (0.207 FP/event)\n"
     ]
    },
    {
     "data": {
      "application/vnd.jupyter.widget-view+json": {
       "model_id": "",
       "version_major": 2,
       "version_minor": 0
      },
      "text/plain": [
       "HBox(children=(FloatProgress(value=0.0, description='Training', layout=Layout(flex='2'), max=1250.0, style=Pro…"
      ]
     },
     "metadata": {},
     "output_type": "display_data"
    },
    {
     "name": "stdout",
     "output_type": "stream",
     "text": [
      "Epoch 523: train=6.93229, val=7.66432, took 125.58 s\n",
      "  Validation Found 51675 of 54504, added 1945 (eff 94.81%) (0.195 FP/event)\n"
     ]
    },
    {
     "data": {
      "application/vnd.jupyter.widget-view+json": {
       "model_id": "",
       "version_major": 2,
       "version_minor": 0
      },
      "text/plain": [
       "HBox(children=(FloatProgress(value=0.0, description='Training', layout=Layout(flex='2'), max=1250.0, style=Pro…"
      ]
     },
     "metadata": {},
     "output_type": "display_data"
    },
    {
     "name": "stdout",
     "output_type": "stream",
     "text": [
      "Epoch 524: train=6.93056, val=7.68453, took 125.69 s\n",
      "  Validation Found 51663 of 54504, added 1877 (eff 94.79%) (0.188 FP/event)\n"
     ]
    },
    {
     "data": {
      "application/vnd.jupyter.widget-view+json": {
       "model_id": "",
       "version_major": 2,
       "version_minor": 0
      },
      "text/plain": [
       "HBox(children=(FloatProgress(value=0.0, description='Training', layout=Layout(flex='2'), max=1250.0, style=Pro…"
      ]
     },
     "metadata": {},
     "output_type": "display_data"
    },
    {
     "name": "stdout",
     "output_type": "stream",
     "text": [
      "Epoch 525: train=6.93233, val=7.62888, took 125.64 s\n",
      "  Validation Found 51652 of 54504, added 1961 (eff 94.77%) (0.196 FP/event)\n"
     ]
    },
    {
     "data": {
      "application/vnd.jupyter.widget-view+json": {
       "model_id": "",
       "version_major": 2,
       "version_minor": 0
      },
      "text/plain": [
       "HBox(children=(FloatProgress(value=0.0, description='Training', layout=Layout(flex='2'), max=1250.0, style=Pro…"
      ]
     },
     "metadata": {},
     "output_type": "display_data"
    },
    {
     "name": "stdout",
     "output_type": "stream",
     "text": [
      "Epoch 526: train=6.9328, val=7.63833, took 125.54 s\n",
      "  Validation Found 51574 of 54504, added 1789 (eff 94.62%) (0.179 FP/event)\n"
     ]
    },
    {
     "data": {
      "application/vnd.jupyter.widget-view+json": {
       "model_id": "",
       "version_major": 2,
       "version_minor": 0
      },
      "text/plain": [
       "HBox(children=(FloatProgress(value=0.0, description='Training', layout=Layout(flex='2'), max=1250.0, style=Pro…"
      ]
     },
     "metadata": {},
     "output_type": "display_data"
    },
    {
     "name": "stdout",
     "output_type": "stream",
     "text": [
      "Epoch 527: train=6.932, val=7.7246, took 125.6 s\n",
      "  Validation Found 51546 of 54504, added 1777 (eff 94.57%) (0.178 FP/event)\n"
     ]
    },
    {
     "data": {
      "application/vnd.jupyter.widget-view+json": {
       "model_id": "",
       "version_major": 2,
       "version_minor": 0
      },
      "text/plain": [
       "HBox(children=(FloatProgress(value=0.0, description='Training', layout=Layout(flex='2'), max=1250.0, style=Pro…"
      ]
     },
     "metadata": {},
     "output_type": "display_data"
    },
    {
     "name": "stdout",
     "output_type": "stream",
     "text": [
      "Epoch 528: train=6.93102, val=7.72842, took 125.64 s\n",
      "  Validation Found 51539 of 54504, added 1815 (eff 94.56%) (0.182 FP/event)\n"
     ]
    },
    {
     "data": {
      "application/vnd.jupyter.widget-view+json": {
       "model_id": "",
       "version_major": 2,
       "version_minor": 0
      },
      "text/plain": [
       "HBox(children=(FloatProgress(value=0.0, description='Training', layout=Layout(flex='2'), max=1250.0, style=Pro…"
      ]
     },
     "metadata": {},
     "output_type": "display_data"
    },
    {
     "name": "stdout",
     "output_type": "stream",
     "text": [
      "Epoch 529: train=6.9328, val=7.63496, took 125.6 s\n",
      "  Validation Found 51595 of 54504, added 1900 (eff 94.66%) (0.19 FP/event)\n"
     ]
    },
    {
     "data": {
      "application/vnd.jupyter.widget-view+json": {
       "model_id": "",
       "version_major": 2,
       "version_minor": 0
      },
      "text/plain": [
       "HBox(children=(FloatProgress(value=0.0, description='Training', layout=Layout(flex='2'), max=1250.0, style=Pro…"
      ]
     },
     "metadata": {},
     "output_type": "display_data"
    },
    {
     "name": "stdout",
     "output_type": "stream",
     "text": [
      "Epoch 530: train=6.93081, val=7.73193, took 125.62 s\n",
      "  Validation Found 51460 of 54504, added 1701 (eff 94.42%) (0.17 FP/event)\n"
     ]
    },
    {
     "data": {
      "application/vnd.jupyter.widget-view+json": {
       "model_id": "",
       "version_major": 2,
       "version_minor": 0
      },
      "text/plain": [
       "HBox(children=(FloatProgress(value=0.0, description='Training', layout=Layout(flex='2'), max=1250.0, style=Pro…"
      ]
     },
     "metadata": {},
     "output_type": "display_data"
    },
    {
     "name": "stdout",
     "output_type": "stream",
     "text": [
      "Epoch 531: train=6.92996, val=7.57458, took 125.59 s\n",
      "  Validation Found 51760 of 54504, added 2066 (eff 94.97%) (0.207 FP/event)\n"
     ]
    },
    {
     "data": {
      "application/vnd.jupyter.widget-view+json": {
       "model_id": "",
       "version_major": 2,
       "version_minor": 0
      },
      "text/plain": [
       "HBox(children=(FloatProgress(value=0.0, description='Training', layout=Layout(flex='2'), max=1250.0, style=Pro…"
      ]
     },
     "metadata": {},
     "output_type": "display_data"
    },
    {
     "name": "stdout",
     "output_type": "stream",
     "text": [
      "Epoch 532: train=6.9299, val=7.63983, took 125.55 s\n",
      "  Validation Found 51739 of 54504, added 1989 (eff 94.93%) (0.199 FP/event)\n"
     ]
    },
    {
     "data": {
      "application/vnd.jupyter.widget-view+json": {
       "model_id": "",
       "version_major": 2,
       "version_minor": 0
      },
      "text/plain": [
       "HBox(children=(FloatProgress(value=0.0, description='Training', layout=Layout(flex='2'), max=1250.0, style=Pro…"
      ]
     },
     "metadata": {},
     "output_type": "display_data"
    },
    {
     "name": "stdout",
     "output_type": "stream",
     "text": [
      "Epoch 533: train=6.93184, val=7.58618, took 125.65 s\n",
      "  Validation Found 51756 of 54504, added 2105 (eff 94.96%) (0.211 FP/event)\n"
     ]
    },
    {
     "data": {
      "application/vnd.jupyter.widget-view+json": {
       "model_id": "",
       "version_major": 2,
       "version_minor": 0
      },
      "text/plain": [
       "HBox(children=(FloatProgress(value=0.0, description='Training', layout=Layout(flex='2'), max=1250.0, style=Pro…"
      ]
     },
     "metadata": {},
     "output_type": "display_data"
    },
    {
     "name": "stdout",
     "output_type": "stream",
     "text": [
      "Epoch 534: train=6.93009, val=7.6051, took 125.63 s\n",
      "  Validation Found 51699 of 54504, added 1971 (eff 94.85%) (0.197 FP/event)\n"
     ]
    },
    {
     "data": {
      "application/vnd.jupyter.widget-view+json": {
       "model_id": "",
       "version_major": 2,
       "version_minor": 0
      },
      "text/plain": [
       "HBox(children=(FloatProgress(value=0.0, description='Training', layout=Layout(flex='2'), max=1250.0, style=Pro…"
      ]
     },
     "metadata": {},
     "output_type": "display_data"
    },
    {
     "name": "stdout",
     "output_type": "stream",
     "text": [
      "Epoch 535: train=6.93065, val=7.62359, took 125.66 s\n",
      "  Validation Found 51716 of 54504, added 2057 (eff 94.88%) (0.206 FP/event)\n"
     ]
    },
    {
     "data": {
      "application/vnd.jupyter.widget-view+json": {
       "model_id": "",
       "version_major": 2,
       "version_minor": 0
      },
      "text/plain": [
       "HBox(children=(FloatProgress(value=0.0, description='Training', layout=Layout(flex='2'), max=1250.0, style=Pro…"
      ]
     },
     "metadata": {},
     "output_type": "display_data"
    },
    {
     "name": "stdout",
     "output_type": "stream",
     "text": [
      "Epoch 536: train=6.92864, val=7.69621, took 125.61 s\n",
      "  Validation Found 51626 of 54504, added 1875 (eff 94.72%) (0.188 FP/event)\n"
     ]
    },
    {
     "data": {
      "application/vnd.jupyter.widget-view+json": {
       "model_id": "",
       "version_major": 2,
       "version_minor": 0
      },
      "text/plain": [
       "HBox(children=(FloatProgress(value=0.0, description='Training', layout=Layout(flex='2'), max=1250.0, style=Pro…"
      ]
     },
     "metadata": {},
     "output_type": "display_data"
    },
    {
     "name": "stdout",
     "output_type": "stream",
     "text": [
      "Epoch 537: train=6.92671, val=7.62828, took 125.57 s\n",
      "  Validation Found 51633 of 54504, added 1870 (eff 94.73%) (0.187 FP/event)\n"
     ]
    },
    {
     "data": {
      "application/vnd.jupyter.widget-view+json": {
       "model_id": "",
       "version_major": 2,
       "version_minor": 0
      },
      "text/plain": [
       "HBox(children=(FloatProgress(value=0.0, description='Training', layout=Layout(flex='2'), max=1250.0, style=Pro…"
      ]
     },
     "metadata": {},
     "output_type": "display_data"
    },
    {
     "name": "stdout",
     "output_type": "stream",
     "text": [
      "Epoch 538: train=6.92949, val=7.61064, took 125.61 s\n",
      "  Validation Found 51585 of 54504, added 1739 (eff 94.64%) (0.174 FP/event)\n"
     ]
    },
    {
     "data": {
      "application/vnd.jupyter.widget-view+json": {
       "model_id": "",
       "version_major": 2,
       "version_minor": 0
      },
      "text/plain": [
       "HBox(children=(FloatProgress(value=0.0, description='Training', layout=Layout(flex='2'), max=1250.0, style=Pro…"
      ]
     },
     "metadata": {},
     "output_type": "display_data"
    },
    {
     "name": "stdout",
     "output_type": "stream",
     "text": [
      "Epoch 539: train=6.92991, val=7.66144, took 125.67 s\n",
      "  Validation Found 51651 of 54504, added 1979 (eff 94.77%) (0.198 FP/event)\n"
     ]
    },
    {
     "data": {
      "application/vnd.jupyter.widget-view+json": {
       "model_id": "",
       "version_major": 2,
       "version_minor": 0
      },
      "text/plain": [
       "HBox(children=(FloatProgress(value=0.0, description='Training', layout=Layout(flex='2'), max=1250.0, style=Pro…"
      ]
     },
     "metadata": {},
     "output_type": "display_data"
    },
    {
     "name": "stdout",
     "output_type": "stream",
     "text": [
      "Epoch 540: train=6.93056, val=7.71599, took 125.66 s\n",
      "  Validation Found 51578 of 54504, added 1843 (eff 94.63%) (0.185 FP/event)\n"
     ]
    },
    {
     "data": {
      "application/vnd.jupyter.widget-view+json": {
       "model_id": "",
       "version_major": 2,
       "version_minor": 0
      },
      "text/plain": [
       "HBox(children=(FloatProgress(value=0.0, description='Training', layout=Layout(flex='2'), max=1250.0, style=Pro…"
      ]
     },
     "metadata": {},
     "output_type": "display_data"
    },
    {
     "name": "stdout",
     "output_type": "stream",
     "text": [
      "Epoch 541: train=6.93092, val=7.57765, took 125.58 s\n",
      "  Validation Found 51671 of 54504, added 1970 (eff 94.80%) (0.197 FP/event)\n"
     ]
    },
    {
     "data": {
      "application/vnd.jupyter.widget-view+json": {
       "model_id": "",
       "version_major": 2,
       "version_minor": 0
      },
      "text/plain": [
       "HBox(children=(FloatProgress(value=0.0, description='Training', layout=Layout(flex='2'), max=1250.0, style=Pro…"
      ]
     },
     "metadata": {},
     "output_type": "display_data"
    },
    {
     "name": "stdout",
     "output_type": "stream",
     "text": [
      "Epoch 542: train=6.93112, val=7.67077, took 125.6 s\n",
      "  Validation Found 51645 of 54504, added 1890 (eff 94.75%) (0.189 FP/event)\n"
     ]
    },
    {
     "data": {
      "application/vnd.jupyter.widget-view+json": {
       "model_id": "",
       "version_major": 2,
       "version_minor": 0
      },
      "text/plain": [
       "HBox(children=(FloatProgress(value=0.0, description='Training', layout=Layout(flex='2'), max=1250.0, style=Pro…"
      ]
     },
     "metadata": {},
     "output_type": "display_data"
    },
    {
     "name": "stdout",
     "output_type": "stream",
     "text": [
      "Epoch 543: train=6.93038, val=7.57024, took 125.62 s\n",
      "  Validation Found 51838 of 54504, added 2245 (eff 95.11%) (0.225 FP/event)\n"
     ]
    },
    {
     "data": {
      "application/vnd.jupyter.widget-view+json": {
       "model_id": "",
       "version_major": 2,
       "version_minor": 0
      },
      "text/plain": [
       "HBox(children=(FloatProgress(value=0.0, description='Training', layout=Layout(flex='2'), max=1250.0, style=Pro…"
      ]
     },
     "metadata": {},
     "output_type": "display_data"
    },
    {
     "name": "stdout",
     "output_type": "stream",
     "text": [
      "Epoch 544: train=6.92933, val=7.62705, took 125.62 s\n",
      "  Validation Found 51650 of 54504, added 1924 (eff 94.76%) (0.193 FP/event)\n"
     ]
    },
    {
     "data": {
      "application/vnd.jupyter.widget-view+json": {
       "model_id": "",
       "version_major": 2,
       "version_minor": 0
      },
      "text/plain": [
       "HBox(children=(FloatProgress(value=0.0, description='Training', layout=Layout(flex='2'), max=1250.0, style=Pro…"
      ]
     },
     "metadata": {},
     "output_type": "display_data"
    },
    {
     "name": "stdout",
     "output_type": "stream",
     "text": [
      "Epoch 545: train=6.92609, val=7.67579, took 125.6 s\n",
      "  Validation Found 51602 of 54504, added 1830 (eff 94.68%) (0.183 FP/event)\n"
     ]
    },
    {
     "data": {
      "application/vnd.jupyter.widget-view+json": {
       "model_id": "",
       "version_major": 2,
       "version_minor": 0
      },
      "text/plain": [
       "HBox(children=(FloatProgress(value=0.0, description='Training', layout=Layout(flex='2'), max=1250.0, style=Pro…"
      ]
     },
     "metadata": {},
     "output_type": "display_data"
    },
    {
     "name": "stdout",
     "output_type": "stream",
     "text": [
      "Epoch 546: train=6.93209, val=7.59649, took 125.64 s\n",
      "  Validation Found 51668 of 54504, added 1895 (eff 94.80%) (0.19 FP/event)\n"
     ]
    },
    {
     "data": {
      "application/vnd.jupyter.widget-view+json": {
       "model_id": "",
       "version_major": 2,
       "version_minor": 0
      },
      "text/plain": [
       "HBox(children=(FloatProgress(value=0.0, description='Training', layout=Layout(flex='2'), max=1250.0, style=Pro…"
      ]
     },
     "metadata": {},
     "output_type": "display_data"
    },
    {
     "name": "stdout",
     "output_type": "stream",
     "text": [
      "Epoch 547: train=6.92742, val=7.63002, took 125.64 s\n",
      "  Validation Found 51644 of 54504, added 1931 (eff 94.75%) (0.193 FP/event)\n"
     ]
    },
    {
     "data": {
      "application/vnd.jupyter.widget-view+json": {
       "model_id": "",
       "version_major": 2,
       "version_minor": 0
      },
      "text/plain": [
       "HBox(children=(FloatProgress(value=0.0, description='Training', layout=Layout(flex='2'), max=1250.0, style=Pro…"
      ]
     },
     "metadata": {},
     "output_type": "display_data"
    },
    {
     "name": "stdout",
     "output_type": "stream",
     "text": [
      "Epoch 548: train=6.92853, val=7.69142, took 125.63 s\n",
      "  Validation Found 51679 of 54504, added 1971 (eff 94.82%) (0.197 FP/event)\n"
     ]
    },
    {
     "data": {
      "application/vnd.jupyter.widget-view+json": {
       "model_id": "",
       "version_major": 2,
       "version_minor": 0
      },
      "text/plain": [
       "HBox(children=(FloatProgress(value=0.0, description='Training', layout=Layout(flex='2'), max=1250.0, style=Pro…"
      ]
     },
     "metadata": {},
     "output_type": "display_data"
    },
    {
     "name": "stdout",
     "output_type": "stream",
     "text": [
      "Epoch 549: train=6.92864, val=7.74026, took 125.68 s\n",
      "  Validation Found 51601 of 54504, added 1887 (eff 94.67%) (0.189 FP/event)\n"
     ]
    },
    {
     "data": {
      "application/vnd.jupyter.widget-view+json": {
       "model_id": "",
       "version_major": 2,
       "version_minor": 0
      },
      "text/plain": [
       "HBox(children=(FloatProgress(value=0.0, description='Training', layout=Layout(flex='2'), max=1250.0, style=Pro…"
      ]
     },
     "metadata": {},
     "output_type": "display_data"
    },
    {
     "name": "stdout",
     "output_type": "stream",
     "text": [
      "Epoch 550: train=6.92801, val=7.65728, took 125.75 s\n",
      "  Validation Found 51599 of 54504, added 1862 (eff 94.67%) (0.186 FP/event)\n"
     ]
    },
    {
     "data": {
      "application/vnd.jupyter.widget-view+json": {
       "model_id": "",
       "version_major": 2,
       "version_minor": 0
      },
      "text/plain": [
       "HBox(children=(FloatProgress(value=0.0, description='Training', layout=Layout(flex='2'), max=1250.0, style=Pro…"
      ]
     },
     "metadata": {},
     "output_type": "display_data"
    },
    {
     "name": "stdout",
     "output_type": "stream",
     "text": [
      "Epoch 551: train=6.9298, val=7.65506, took 125.65 s\n",
      "  Validation Found 51591 of 54504, added 1843 (eff 94.66%) (0.185 FP/event)\n"
     ]
    },
    {
     "data": {
      "application/vnd.jupyter.widget-view+json": {
       "model_id": "",
       "version_major": 2,
       "version_minor": 0
      },
      "text/plain": [
       "HBox(children=(FloatProgress(value=0.0, description='Training', layout=Layout(flex='2'), max=1250.0, style=Pro…"
      ]
     },
     "metadata": {},
     "output_type": "display_data"
    },
    {
     "name": "stdout",
     "output_type": "stream",
     "text": [
      "Epoch 552: train=6.92711, val=7.56751, took 125.65 s\n",
      "  Validation Found 51805 of 54504, added 2206 (eff 95.05%) (0.221 FP/event)\n"
     ]
    },
    {
     "data": {
      "application/vnd.jupyter.widget-view+json": {
       "model_id": "",
       "version_major": 2,
       "version_minor": 0
      },
      "text/plain": [
       "HBox(children=(FloatProgress(value=0.0, description='Training', layout=Layout(flex='2'), max=1250.0, style=Pro…"
      ]
     },
     "metadata": {},
     "output_type": "display_data"
    },
    {
     "name": "stdout",
     "output_type": "stream",
     "text": [
      "Epoch 553: train=6.9257, val=7.62024, took 125.52 s\n",
      "  Validation Found 51685 of 54504, added 1923 (eff 94.83%) (0.193 FP/event)\n"
     ]
    },
    {
     "data": {
      "application/vnd.jupyter.widget-view+json": {
       "model_id": "",
       "version_major": 2,
       "version_minor": 0
      },
      "text/plain": [
       "HBox(children=(FloatProgress(value=0.0, description='Training', layout=Layout(flex='2'), max=1250.0, style=Pro…"
      ]
     },
     "metadata": {},
     "output_type": "display_data"
    },
    {
     "name": "stdout",
     "output_type": "stream",
     "text": [
      "Epoch 554: train=6.92586, val=7.7157, took 125.73 s\n",
      "  Validation Found 51566 of 54504, added 1752 (eff 94.61%) (0.175 FP/event)\n"
     ]
    },
    {
     "data": {
      "application/vnd.jupyter.widget-view+json": {
       "model_id": "",
       "version_major": 2,
       "version_minor": 0
      },
      "text/plain": [
       "HBox(children=(FloatProgress(value=0.0, description='Training', layout=Layout(flex='2'), max=1250.0, style=Pro…"
      ]
     },
     "metadata": {},
     "output_type": "display_data"
    },
    {
     "name": "stdout",
     "output_type": "stream",
     "text": [
      "Epoch 555: train=6.92833, val=7.66447, took 125.72 s\n",
      "  Validation Found 51617 of 54504, added 1925 (eff 94.70%) (0.193 FP/event)\n"
     ]
    },
    {
     "data": {
      "application/vnd.jupyter.widget-view+json": {
       "model_id": "",
       "version_major": 2,
       "version_minor": 0
      },
      "text/plain": [
       "HBox(children=(FloatProgress(value=0.0, description='Training', layout=Layout(flex='2'), max=1250.0, style=Pro…"
      ]
     },
     "metadata": {},
     "output_type": "display_data"
    },
    {
     "name": "stdout",
     "output_type": "stream",
     "text": [
      "Epoch 556: train=6.9276, val=7.61141, took 126.02 s\n",
      "  Validation Found 51739 of 54504, added 2108 (eff 94.93%) (0.211 FP/event)\n"
     ]
    },
    {
     "data": {
      "application/vnd.jupyter.widget-view+json": {
       "model_id": "",
       "version_major": 2,
       "version_minor": 0
      },
      "text/plain": [
       "HBox(children=(FloatProgress(value=0.0, description='Training', layout=Layout(flex='2'), max=1250.0, style=Pro…"
      ]
     },
     "metadata": {},
     "output_type": "display_data"
    },
    {
     "name": "stdout",
     "output_type": "stream",
     "text": [
      "Epoch 557: train=6.92633, val=7.63395, took 125.87 s\n",
      "  Validation Found 51676 of 54504, added 1932 (eff 94.81%) (0.193 FP/event)\n"
     ]
    },
    {
     "data": {
      "application/vnd.jupyter.widget-view+json": {
       "model_id": "",
       "version_major": 2,
       "version_minor": 0
      },
      "text/plain": [
       "HBox(children=(FloatProgress(value=0.0, description='Training', layout=Layout(flex='2'), max=1250.0, style=Pro…"
      ]
     },
     "metadata": {},
     "output_type": "display_data"
    },
    {
     "name": "stdout",
     "output_type": "stream",
     "text": [
      "Epoch 558: train=6.92834, val=7.67755, took 125.94 s\n",
      "  Validation Found 51587 of 54504, added 1840 (eff 94.65%) (0.184 FP/event)\n"
     ]
    },
    {
     "data": {
      "application/vnd.jupyter.widget-view+json": {
       "model_id": "",
       "version_major": 2,
       "version_minor": 0
      },
      "text/plain": [
       "HBox(children=(FloatProgress(value=0.0, description='Training', layout=Layout(flex='2'), max=1250.0, style=Pro…"
      ]
     },
     "metadata": {},
     "output_type": "display_data"
    },
    {
     "name": "stdout",
     "output_type": "stream",
     "text": [
      "Epoch 559: train=6.92809, val=7.61903, took 125.79 s\n",
      "  Validation Found 51744 of 54504, added 2113 (eff 94.94%) (0.212 FP/event)\n"
     ]
    },
    {
     "data": {
      "application/vnd.jupyter.widget-view+json": {
       "model_id": "",
       "version_major": 2,
       "version_minor": 0
      },
      "text/plain": [
       "HBox(children=(FloatProgress(value=0.0, description='Training', layout=Layout(flex='2'), max=1250.0, style=Pro…"
      ]
     },
     "metadata": {},
     "output_type": "display_data"
    },
    {
     "name": "stdout",
     "output_type": "stream",
     "text": [
      "Epoch 560: train=6.92611, val=7.65238, took 125.76 s\n",
      "  Validation Found 51731 of 54504, added 2013 (eff 94.91%) (0.202 FP/event)\n"
     ]
    },
    {
     "data": {
      "application/vnd.jupyter.widget-view+json": {
       "model_id": "",
       "version_major": 2,
       "version_minor": 0
      },
      "text/plain": [
       "HBox(children=(FloatProgress(value=0.0, description='Training', layout=Layout(flex='2'), max=1250.0, style=Pro…"
      ]
     },
     "metadata": {},
     "output_type": "display_data"
    },
    {
     "name": "stdout",
     "output_type": "stream",
     "text": [
      "Epoch 561: train=6.92588, val=7.6997, took 125.72 s\n",
      "  Validation Found 51627 of 54504, added 1969 (eff 94.72%) (0.197 FP/event)\n"
     ]
    },
    {
     "data": {
      "application/vnd.jupyter.widget-view+json": {
       "model_id": "",
       "version_major": 2,
       "version_minor": 0
      },
      "text/plain": [
       "HBox(children=(FloatProgress(value=0.0, description='Training', layout=Layout(flex='2'), max=1250.0, style=Pro…"
      ]
     },
     "metadata": {},
     "output_type": "display_data"
    },
    {
     "name": "stdout",
     "output_type": "stream",
     "text": [
      "Epoch 562: train=6.92591, val=7.69164, took 125.58 s\n",
      "  Validation Found 51611 of 54504, added 1823 (eff 94.69%) (0.183 FP/event)\n"
     ]
    },
    {
     "data": {
      "application/vnd.jupyter.widget-view+json": {
       "model_id": "",
       "version_major": 2,
       "version_minor": 0
      },
      "text/plain": [
       "HBox(children=(FloatProgress(value=0.0, description='Training', layout=Layout(flex='2'), max=1250.0, style=Pro…"
      ]
     },
     "metadata": {},
     "output_type": "display_data"
    },
    {
     "name": "stdout",
     "output_type": "stream",
     "text": [
      "Epoch 563: train=6.92493, val=7.5906, took 125.59 s\n",
      "  Validation Found 51730 of 54504, added 2082 (eff 94.91%) (0.209 FP/event)\n"
     ]
    },
    {
     "data": {
      "application/vnd.jupyter.widget-view+json": {
       "model_id": "",
       "version_major": 2,
       "version_minor": 0
      },
      "text/plain": [
       "HBox(children=(FloatProgress(value=0.0, description='Training', layout=Layout(flex='2'), max=1250.0, style=Pro…"
      ]
     },
     "metadata": {},
     "output_type": "display_data"
    },
    {
     "name": "stdout",
     "output_type": "stream",
     "text": [
      "Epoch 564: train=6.92444, val=7.68929, took 125.58 s\n",
      "  Validation Found 51626 of 54504, added 1908 (eff 94.72%) (0.191 FP/event)\n"
     ]
    },
    {
     "data": {
      "application/vnd.jupyter.widget-view+json": {
       "model_id": "",
       "version_major": 2,
       "version_minor": 0
      },
      "text/plain": [
       "HBox(children=(FloatProgress(value=0.0, description='Training', layout=Layout(flex='2'), max=1250.0, style=Pro…"
      ]
     },
     "metadata": {},
     "output_type": "display_data"
    },
    {
     "name": "stdout",
     "output_type": "stream",
     "text": [
      "Epoch 565: train=6.92483, val=7.73125, took 125.69 s\n",
      "  Validation Found 51656 of 54504, added 1996 (eff 94.77%) (0.2 FP/event)\n"
     ]
    },
    {
     "data": {
      "application/vnd.jupyter.widget-view+json": {
       "model_id": "",
       "version_major": 2,
       "version_minor": 0
      },
      "text/plain": [
       "HBox(children=(FloatProgress(value=0.0, description='Training', layout=Layout(flex='2'), max=1250.0, style=Pro…"
      ]
     },
     "metadata": {},
     "output_type": "display_data"
    },
    {
     "name": "stdout",
     "output_type": "stream",
     "text": [
      "Epoch 566: train=6.92441, val=7.64035, took 125.74 s\n",
      "  Validation Found 51661 of 54504, added 1924 (eff 94.78%) (0.193 FP/event)\n"
     ]
    },
    {
     "data": {
      "application/vnd.jupyter.widget-view+json": {
       "model_id": "",
       "version_major": 2,
       "version_minor": 0
      },
      "text/plain": [
       "HBox(children=(FloatProgress(value=0.0, description='Training', layout=Layout(flex='2'), max=1250.0, style=Pro…"
      ]
     },
     "metadata": {},
     "output_type": "display_data"
    },
    {
     "name": "stdout",
     "output_type": "stream",
     "text": [
      "Epoch 567: train=6.92548, val=7.69873, took 125.66 s\n",
      "  Validation Found 51558 of 54504, added 1791 (eff 94.59%) (0.179 FP/event)\n"
     ]
    },
    {
     "data": {
      "application/vnd.jupyter.widget-view+json": {
       "model_id": "",
       "version_major": 2,
       "version_minor": 0
      },
      "text/plain": [
       "HBox(children=(FloatProgress(value=0.0, description='Training', layout=Layout(flex='2'), max=1250.0, style=Pro…"
      ]
     },
     "metadata": {},
     "output_type": "display_data"
    },
    {
     "name": "stdout",
     "output_type": "stream",
     "text": [
      "Epoch 568: train=6.92495, val=7.64929, took 125.67 s\n",
      "  Validation Found 51628 of 54504, added 1918 (eff 94.72%) (0.192 FP/event)\n"
     ]
    },
    {
     "data": {
      "application/vnd.jupyter.widget-view+json": {
       "model_id": "",
       "version_major": 2,
       "version_minor": 0
      },
      "text/plain": [
       "HBox(children=(FloatProgress(value=0.0, description='Training', layout=Layout(flex='2'), max=1250.0, style=Pro…"
      ]
     },
     "metadata": {},
     "output_type": "display_data"
    },
    {
     "name": "stdout",
     "output_type": "stream",
     "text": [
      "Epoch 569: train=6.92659, val=7.70251, took 134.8 s\n",
      "  Validation Found 51564 of 54504, added 1847 (eff 94.61%) (0.185 FP/event)\n"
     ]
    },
    {
     "data": {
      "application/vnd.jupyter.widget-view+json": {
       "model_id": "",
       "version_major": 2,
       "version_minor": 0
      },
      "text/plain": [
       "HBox(children=(FloatProgress(value=0.0, description='Training', layout=Layout(flex='2'), max=1250.0, style=Pro…"
      ]
     },
     "metadata": {},
     "output_type": "display_data"
    },
    {
     "name": "stdout",
     "output_type": "stream",
     "text": [
      "Epoch 570: train=6.92617, val=7.60996, took 131.04 s\n",
      "  Validation Found 51646 of 54504, added 1958 (eff 94.76%) (0.196 FP/event)\n"
     ]
    },
    {
     "data": {
      "application/vnd.jupyter.widget-view+json": {
       "model_id": "",
       "version_major": 2,
       "version_minor": 0
      },
      "text/plain": [
       "HBox(children=(FloatProgress(value=0.0, description='Training', layout=Layout(flex='2'), max=1250.0, style=Pro…"
      ]
     },
     "metadata": {},
     "output_type": "display_data"
    },
    {
     "name": "stdout",
     "output_type": "stream",
     "text": [
      "Epoch 571: train=6.92559, val=7.70173, took 142.01 s\n",
      "  Validation Found 51490 of 54504, added 1747 (eff 94.47%) (0.175 FP/event)\n"
     ]
    },
    {
     "data": {
      "application/vnd.jupyter.widget-view+json": {
       "model_id": "",
       "version_major": 2,
       "version_minor": 0
      },
      "text/plain": [
       "HBox(children=(FloatProgress(value=0.0, description='Training', layout=Layout(flex='2'), max=1250.0, style=Pro…"
      ]
     },
     "metadata": {},
     "output_type": "display_data"
    },
    {
     "name": "stdout",
     "output_type": "stream",
     "text": [
      "Epoch 572: train=6.92777, val=7.64835, took 126.52 s\n",
      "  Validation Found 51697 of 54504, added 2078 (eff 94.85%) (0.208 FP/event)\n"
     ]
    },
    {
     "data": {
      "application/vnd.jupyter.widget-view+json": {
       "model_id": "",
       "version_major": 2,
       "version_minor": 0
      },
      "text/plain": [
       "HBox(children=(FloatProgress(value=0.0, description='Training', layout=Layout(flex='2'), max=1250.0, style=Pro…"
      ]
     },
     "metadata": {},
     "output_type": "display_data"
    },
    {
     "name": "stdout",
     "output_type": "stream",
     "text": [
      "Epoch 573: train=6.92567, val=7.59519, took 126.22 s\n",
      "  Validation Found 51778 of 54504, added 2180 (eff 95.00%) (0.218 FP/event)\n"
     ]
    },
    {
     "data": {
      "application/vnd.jupyter.widget-view+json": {
       "model_id": "",
       "version_major": 2,
       "version_minor": 0
      },
      "text/plain": [
       "HBox(children=(FloatProgress(value=0.0, description='Training', layout=Layout(flex='2'), max=1250.0, style=Pro…"
      ]
     },
     "metadata": {},
     "output_type": "display_data"
    },
    {
     "name": "stdout",
     "output_type": "stream",
     "text": [
      "Epoch 574: train=6.9237, val=7.6263, took 126.42 s\n",
      "  Validation Found 51603 of 54504, added 1872 (eff 94.68%) (0.187 FP/event)\n"
     ]
    },
    {
     "data": {
      "application/vnd.jupyter.widget-view+json": {
       "model_id": "",
       "version_major": 2,
       "version_minor": 0
      },
      "text/plain": [
       "HBox(children=(FloatProgress(value=0.0, description='Training', layout=Layout(flex='2'), max=1250.0, style=Pro…"
      ]
     },
     "metadata": {},
     "output_type": "display_data"
    },
    {
     "name": "stdout",
     "output_type": "stream",
     "text": [
      "Epoch 575: train=6.92361, val=7.66033, took 125.98 s\n",
      "  Validation Found 51650 of 54504, added 1884 (eff 94.76%) (0.189 FP/event)\n"
     ]
    },
    {
     "data": {
      "application/vnd.jupyter.widget-view+json": {
       "model_id": "",
       "version_major": 2,
       "version_minor": 0
      },
      "text/plain": [
       "HBox(children=(FloatProgress(value=0.0, description='Training', layout=Layout(flex='2'), max=1250.0, style=Pro…"
      ]
     },
     "metadata": {},
     "output_type": "display_data"
    },
    {
     "name": "stdout",
     "output_type": "stream",
     "text": [
      "Epoch 576: train=6.92331, val=7.58116, took 126.31 s\n",
      "  Validation Found 51709 of 54504, added 2083 (eff 94.87%) (0.209 FP/event)\n"
     ]
    },
    {
     "data": {
      "application/vnd.jupyter.widget-view+json": {
       "model_id": "",
       "version_major": 2,
       "version_minor": 0
      },
      "text/plain": [
       "HBox(children=(FloatProgress(value=0.0, description='Training', layout=Layout(flex='2'), max=1250.0, style=Pro…"
      ]
     },
     "metadata": {},
     "output_type": "display_data"
    },
    {
     "name": "stdout",
     "output_type": "stream",
     "text": [
      "Epoch 577: train=6.92342, val=7.73014, took 126.65 s\n",
      "  Validation Found 51557 of 54504, added 1821 (eff 94.59%) (0.182 FP/event)\n"
     ]
    },
    {
     "data": {
      "application/vnd.jupyter.widget-view+json": {
       "model_id": "",
       "version_major": 2,
       "version_minor": 0
      },
      "text/plain": [
       "HBox(children=(FloatProgress(value=0.0, description='Training', layout=Layout(flex='2'), max=1250.0, style=Pro…"
      ]
     },
     "metadata": {},
     "output_type": "display_data"
    },
    {
     "name": "stdout",
     "output_type": "stream",
     "text": [
      "Epoch 578: train=6.92654, val=7.69863, took 126.19 s\n",
      "  Validation Found 51531 of 54504, added 1713 (eff 94.55%) (0.172 FP/event)\n"
     ]
    },
    {
     "data": {
      "application/vnd.jupyter.widget-view+json": {
       "model_id": "",
       "version_major": 2,
       "version_minor": 0
      },
      "text/plain": [
       "HBox(children=(FloatProgress(value=0.0, description='Training', layout=Layout(flex='2'), max=1250.0, style=Pro…"
      ]
     },
     "metadata": {},
     "output_type": "display_data"
    },
    {
     "name": "stdout",
     "output_type": "stream",
     "text": [
      "Epoch 579: train=6.92473, val=7.71863, took 126.3 s\n",
      "  Validation Found 51683 of 54504, added 2031 (eff 94.82%) (0.203 FP/event)\n"
     ]
    },
    {
     "data": {
      "application/vnd.jupyter.widget-view+json": {
       "model_id": "",
       "version_major": 2,
       "version_minor": 0
      },
      "text/plain": [
       "HBox(children=(FloatProgress(value=0.0, description='Training', layout=Layout(flex='2'), max=1250.0, style=Pro…"
      ]
     },
     "metadata": {},
     "output_type": "display_data"
    },
    {
     "name": "stdout",
     "output_type": "stream",
     "text": [
      "Epoch 580: train=6.92169, val=7.73983, took 126.21 s\n",
      "  Validation Found 51486 of 54504, added 1714 (eff 94.46%) (0.172 FP/event)\n"
     ]
    },
    {
     "data": {
      "application/vnd.jupyter.widget-view+json": {
       "model_id": "",
       "version_major": 2,
       "version_minor": 0
      },
      "text/plain": [
       "HBox(children=(FloatProgress(value=0.0, description='Training', layout=Layout(flex='2'), max=1250.0, style=Pro…"
      ]
     },
     "metadata": {},
     "output_type": "display_data"
    },
    {
     "name": "stdout",
     "output_type": "stream",
     "text": [
      "Epoch 581: train=6.92311, val=7.63441, took 126.27 s\n",
      "  Validation Found 51675 of 54504, added 1984 (eff 94.81%) (0.199 FP/event)\n"
     ]
    },
    {
     "data": {
      "application/vnd.jupyter.widget-view+json": {
       "model_id": "",
       "version_major": 2,
       "version_minor": 0
      },
      "text/plain": [
       "HBox(children=(FloatProgress(value=0.0, description='Training', layout=Layout(flex='2'), max=1250.0, style=Pro…"
      ]
     },
     "metadata": {},
     "output_type": "display_data"
    },
    {
     "name": "stdout",
     "output_type": "stream",
     "text": [
      "Epoch 582: train=6.92277, val=7.64977, took 147.98 s\n",
      "  Validation Found 51608 of 54504, added 1828 (eff 94.69%) (0.183 FP/event)\n"
     ]
    },
    {
     "data": {
      "application/vnd.jupyter.widget-view+json": {
       "model_id": "",
       "version_major": 2,
       "version_minor": 0
      },
      "text/plain": [
       "HBox(children=(FloatProgress(value=0.0, description='Training', layout=Layout(flex='2'), max=1250.0, style=Pro…"
      ]
     },
     "metadata": {},
     "output_type": "display_data"
    },
    {
     "name": "stdout",
     "output_type": "stream",
     "text": [
      "Epoch 583: train=6.92316, val=7.68857, took 134.33 s\n",
      "  Validation Found 51568 of 54504, added 1826 (eff 94.61%) (0.183 FP/event)\n"
     ]
    },
    {
     "data": {
      "application/vnd.jupyter.widget-view+json": {
       "model_id": "",
       "version_major": 2,
       "version_minor": 0
      },
      "text/plain": [
       "HBox(children=(FloatProgress(value=0.0, description='Training', layout=Layout(flex='2'), max=1250.0, style=Pro…"
      ]
     },
     "metadata": {},
     "output_type": "display_data"
    },
    {
     "name": "stdout",
     "output_type": "stream",
     "text": [
      "Epoch 584: train=6.92137, val=7.61961, took 126.86 s\n",
      "  Validation Found 51719 of 54504, added 2081 (eff 94.89%) (0.208 FP/event)\n"
     ]
    },
    {
     "data": {
      "application/vnd.jupyter.widget-view+json": {
       "model_id": "",
       "version_major": 2,
       "version_minor": 0
      },
      "text/plain": [
       "HBox(children=(FloatProgress(value=0.0, description='Training', layout=Layout(flex='2'), max=1250.0, style=Pro…"
      ]
     },
     "metadata": {},
     "output_type": "display_data"
    },
    {
     "name": "stdout",
     "output_type": "stream",
     "text": [
      "Epoch 585: train=6.92189, val=7.6288, took 126.33 s\n",
      "  Validation Found 51595 of 54504, added 1839 (eff 94.66%) (0.184 FP/event)\n"
     ]
    },
    {
     "data": {
      "application/vnd.jupyter.widget-view+json": {
       "model_id": "",
       "version_major": 2,
       "version_minor": 0
      },
      "text/plain": [
       "HBox(children=(FloatProgress(value=0.0, description='Training', layout=Layout(flex='2'), max=1250.0, style=Pro…"
      ]
     },
     "metadata": {},
     "output_type": "display_data"
    },
    {
     "name": "stdout",
     "output_type": "stream",
     "text": [
      "Epoch 586: train=6.92186, val=7.65723, took 146.57 s\n",
      "  Validation Found 51597 of 54504, added 1834 (eff 94.67%) (0.184 FP/event)\n"
     ]
    },
    {
     "data": {
      "application/vnd.jupyter.widget-view+json": {
       "model_id": "",
       "version_major": 2,
       "version_minor": 0
      },
      "text/plain": [
       "HBox(children=(FloatProgress(value=0.0, description='Training', layout=Layout(flex='2'), max=1250.0, style=Pro…"
      ]
     },
     "metadata": {},
     "output_type": "display_data"
    },
    {
     "name": "stdout",
     "output_type": "stream",
     "text": [
      "Epoch 587: train=6.92335, val=7.60591, took 129.23 s\n",
      "  Validation Found 51635 of 54504, added 1897 (eff 94.74%) (0.19 FP/event)\n"
     ]
    },
    {
     "data": {
      "application/vnd.jupyter.widget-view+json": {
       "model_id": "",
       "version_major": 2,
       "version_minor": 0
      },
      "text/plain": [
       "HBox(children=(FloatProgress(value=0.0, description='Training', layout=Layout(flex='2'), max=1250.0, style=Pro…"
      ]
     },
     "metadata": {},
     "output_type": "display_data"
    },
    {
     "name": "stdout",
     "output_type": "stream",
     "text": [
      "Epoch 588: train=6.92314, val=7.68305, took 127.16 s\n",
      "  Validation Found 51651 of 54504, added 1952 (eff 94.77%) (0.195 FP/event)\n"
     ]
    },
    {
     "data": {
      "application/vnd.jupyter.widget-view+json": {
       "model_id": "",
       "version_major": 2,
       "version_minor": 0
      },
      "text/plain": [
       "HBox(children=(FloatProgress(value=0.0, description='Training', layout=Layout(flex='2'), max=1250.0, style=Pro…"
      ]
     },
     "metadata": {},
     "output_type": "display_data"
    },
    {
     "name": "stdout",
     "output_type": "stream",
     "text": [
      "Epoch 589: train=6.92252, val=7.59331, took 125.67 s\n",
      "  Validation Found 51716 of 54504, added 2058 (eff 94.88%) (0.206 FP/event)\n"
     ]
    },
    {
     "data": {
      "application/vnd.jupyter.widget-view+json": {
       "model_id": "",
       "version_major": 2,
       "version_minor": 0
      },
      "text/plain": [
       "HBox(children=(FloatProgress(value=0.0, description='Training', layout=Layout(flex='2'), max=1250.0, style=Pro…"
      ]
     },
     "metadata": {},
     "output_type": "display_data"
    },
    {
     "name": "stdout",
     "output_type": "stream",
     "text": [
      "Epoch 590: train=6.92004, val=7.62836, took 126.1 s\n",
      "  Validation Found 51741 of 54504, added 2077 (eff 94.93%) (0.208 FP/event)\n"
     ]
    },
    {
     "data": {
      "application/vnd.jupyter.widget-view+json": {
       "model_id": "",
       "version_major": 2,
       "version_minor": 0
      },
      "text/plain": [
       "HBox(children=(FloatProgress(value=0.0, description='Training', layout=Layout(flex='2'), max=1250.0, style=Pro…"
      ]
     },
     "metadata": {},
     "output_type": "display_data"
    },
    {
     "name": "stdout",
     "output_type": "stream",
     "text": [
      "Epoch 591: train=6.9224, val=7.73306, took 125.46 s\n",
      "  Validation Found 51487 of 54504, added 1706 (eff 94.46%) (0.171 FP/event)\n"
     ]
    },
    {
     "data": {
      "application/vnd.jupyter.widget-view+json": {
       "model_id": "",
       "version_major": 2,
       "version_minor": 0
      },
      "text/plain": [
       "HBox(children=(FloatProgress(value=0.0, description='Training', layout=Layout(flex='2'), max=1250.0, style=Pro…"
      ]
     },
     "metadata": {},
     "output_type": "display_data"
    },
    {
     "name": "stdout",
     "output_type": "stream",
     "text": [
      "Epoch 592: train=6.92306, val=7.67845, took 125.51 s\n",
      "  Validation Found 51622 of 54504, added 1842 (eff 94.71%) (0.184 FP/event)\n"
     ]
    },
    {
     "data": {
      "application/vnd.jupyter.widget-view+json": {
       "model_id": "",
       "version_major": 2,
       "version_minor": 0
      },
      "text/plain": [
       "HBox(children=(FloatProgress(value=0.0, description='Training', layout=Layout(flex='2'), max=1250.0, style=Pro…"
      ]
     },
     "metadata": {},
     "output_type": "display_data"
    },
    {
     "name": "stdout",
     "output_type": "stream",
     "text": [
      "Epoch 593: train=6.92269, val=7.60065, took 125.42 s\n",
      "  Validation Found 51686 of 54504, added 1961 (eff 94.83%) (0.196 FP/event)\n"
     ]
    },
    {
     "data": {
      "application/vnd.jupyter.widget-view+json": {
       "model_id": "",
       "version_major": 2,
       "version_minor": 0
      },
      "text/plain": [
       "HBox(children=(FloatProgress(value=0.0, description='Training', layout=Layout(flex='2'), max=1250.0, style=Pro…"
      ]
     },
     "metadata": {},
     "output_type": "display_data"
    },
    {
     "name": "stdout",
     "output_type": "stream",
     "text": [
      "Epoch 594: train=6.92214, val=7.68148, took 125.44 s\n",
      "  Validation Found 51571 of 54504, added 1809 (eff 94.62%) (0.181 FP/event)\n"
     ]
    },
    {
     "data": {
      "application/vnd.jupyter.widget-view+json": {
       "model_id": "",
       "version_major": 2,
       "version_minor": 0
      },
      "text/plain": [
       "HBox(children=(FloatProgress(value=0.0, description='Training', layout=Layout(flex='2'), max=1250.0, style=Pro…"
      ]
     },
     "metadata": {},
     "output_type": "display_data"
    },
    {
     "name": "stdout",
     "output_type": "stream",
     "text": [
      "Epoch 595: train=6.92044, val=7.69272, took 125.65 s\n",
      "  Validation Found 51601 of 54504, added 1905 (eff 94.67%) (0.191 FP/event)\n"
     ]
    },
    {
     "data": {
      "application/vnd.jupyter.widget-view+json": {
       "model_id": "",
       "version_major": 2,
       "version_minor": 0
      },
      "text/plain": [
       "HBox(children=(FloatProgress(value=0.0, description='Training', layout=Layout(flex='2'), max=1250.0, style=Pro…"
      ]
     },
     "metadata": {},
     "output_type": "display_data"
    },
    {
     "name": "stdout",
     "output_type": "stream",
     "text": [
      "Epoch 596: train=6.92198, val=7.62134, took 126.07 s\n",
      "  Validation Found 51665 of 54504, added 1931 (eff 94.79%) (0.193 FP/event)\n"
     ]
    },
    {
     "data": {
      "application/vnd.jupyter.widget-view+json": {
       "model_id": "",
       "version_major": 2,
       "version_minor": 0
      },
      "text/plain": [
       "HBox(children=(FloatProgress(value=0.0, description='Training', layout=Layout(flex='2'), max=1250.0, style=Pro…"
      ]
     },
     "metadata": {},
     "output_type": "display_data"
    },
    {
     "name": "stdout",
     "output_type": "stream",
     "text": [
      "Epoch 597: train=6.92239, val=7.64273, took 125.99 s\n",
      "  Validation Found 51592 of 54504, added 1811 (eff 94.66%) (0.181 FP/event)\n"
     ]
    },
    {
     "data": {
      "application/vnd.jupyter.widget-view+json": {
       "model_id": "",
       "version_major": 2,
       "version_minor": 0
      },
      "text/plain": [
       "HBox(children=(FloatProgress(value=0.0, description='Training', layout=Layout(flex='2'), max=1250.0, style=Pro…"
      ]
     },
     "metadata": {},
     "output_type": "display_data"
    },
    {
     "name": "stdout",
     "output_type": "stream",
     "text": [
      "Epoch 598: train=6.91988, val=7.65522, took 125.61 s\n",
      "  Validation Found 51650 of 54504, added 1979 (eff 94.76%) (0.198 FP/event)\n"
     ]
    },
    {
     "data": {
      "application/vnd.jupyter.widget-view+json": {
       "model_id": "",
       "version_major": 2,
       "version_minor": 0
      },
      "text/plain": [
       "HBox(children=(FloatProgress(value=0.0, description='Training', layout=Layout(flex='2'), max=1250.0, style=Pro…"
      ]
     },
     "metadata": {},
     "output_type": "display_data"
    },
    {
     "name": "stdout",
     "output_type": "stream",
     "text": [
      "Epoch 599: train=6.92208, val=7.71271, took 125.87 s\n",
      "  Validation Found 51612 of 54504, added 1885 (eff 94.69%) (0.189 FP/event)\n"
     ]
    },
    {
     "data": {
      "application/vnd.jupyter.widget-view+json": {
       "model_id": "",
       "version_major": 2,
       "version_minor": 0
      },
      "text/plain": [
       "HBox(children=(FloatProgress(value=0.0, description='Training', layout=Layout(flex='2'), max=1250.0, style=Pro…"
      ]
     },
     "metadata": {},
     "output_type": "display_data"
    },
    {
     "name": "stdout",
     "output_type": "stream",
     "text": [
      "Epoch 600: train=6.92181, val=7.66847, took 126.0 s\n",
      "  Validation Found 51731 of 54504, added 2112 (eff 94.91%) (0.212 FP/event)\n"
     ]
    },
    {
     "data": {
      "application/vnd.jupyter.widget-view+json": {
       "model_id": "",
       "version_major": 2,
       "version_minor": 0
      },
      "text/plain": [
       "HBox(children=(FloatProgress(value=0.0, description='Training', layout=Layout(flex='2'), max=1250.0, style=Pro…"
      ]
     },
     "metadata": {},
     "output_type": "display_data"
    },
    {
     "name": "stdout",
     "output_type": "stream",
     "text": [
      "Epoch 601: train=6.9192, val=7.64307, took 126.06 s\n",
      "  Validation Found 51686 of 54504, added 1955 (eff 94.83%) (0.196 FP/event)\n"
     ]
    },
    {
     "data": {
      "application/vnd.jupyter.widget-view+json": {
       "model_id": "",
       "version_major": 2,
       "version_minor": 0
      },
      "text/plain": [
       "HBox(children=(FloatProgress(value=0.0, description='Training', layout=Layout(flex='2'), max=1250.0, style=Pro…"
      ]
     },
     "metadata": {},
     "output_type": "display_data"
    },
    {
     "name": "stdout",
     "output_type": "stream",
     "text": [
      "Epoch 602: train=6.92027, val=7.65151, took 125.84 s\n",
      "  Validation Found 51703 of 54504, added 2002 (eff 94.86%) (0.201 FP/event)\n"
     ]
    },
    {
     "data": {
      "application/vnd.jupyter.widget-view+json": {
       "model_id": "",
       "version_major": 2,
       "version_minor": 0
      },
      "text/plain": [
       "HBox(children=(FloatProgress(value=0.0, description='Training', layout=Layout(flex='2'), max=1250.0, style=Pro…"
      ]
     },
     "metadata": {},
     "output_type": "display_data"
    },
    {
     "name": "stdout",
     "output_type": "stream",
     "text": [
      "Epoch 603: train=6.92271, val=7.69228, took 125.51 s\n",
      "  Validation Found 51592 of 54504, added 1970 (eff 94.66%) (0.197 FP/event)\n"
     ]
    },
    {
     "data": {
      "application/vnd.jupyter.widget-view+json": {
       "model_id": "",
       "version_major": 2,
       "version_minor": 0
      },
      "text/plain": [
       "HBox(children=(FloatProgress(value=0.0, description='Training', layout=Layout(flex='2'), max=1250.0, style=Pro…"
      ]
     },
     "metadata": {},
     "output_type": "display_data"
    },
    {
     "name": "stdout",
     "output_type": "stream",
     "text": [
      "Epoch 604: train=6.92006, val=7.60608, took 125.6 s\n",
      "  Validation Found 51731 of 54504, added 2035 (eff 94.91%) (0.204 FP/event)\n"
     ]
    },
    {
     "data": {
      "application/vnd.jupyter.widget-view+json": {
       "model_id": "",
       "version_major": 2,
       "version_minor": 0
      },
      "text/plain": [
       "HBox(children=(FloatProgress(value=0.0, description='Training', layout=Layout(flex='2'), max=1250.0, style=Pro…"
      ]
     },
     "metadata": {},
     "output_type": "display_data"
    },
    {
     "name": "stdout",
     "output_type": "stream",
     "text": [
      "Epoch 605: train=6.92029, val=7.65889, took 125.55 s\n",
      "  Validation Found 51610 of 54504, added 1904 (eff 94.69%) (0.191 FP/event)\n"
     ]
    },
    {
     "data": {
      "application/vnd.jupyter.widget-view+json": {
       "model_id": "",
       "version_major": 2,
       "version_minor": 0
      },
      "text/plain": [
       "HBox(children=(FloatProgress(value=0.0, description='Training', layout=Layout(flex='2'), max=1250.0, style=Pro…"
      ]
     },
     "metadata": {},
     "output_type": "display_data"
    },
    {
     "name": "stdout",
     "output_type": "stream",
     "text": [
      "Epoch 606: train=6.91962, val=7.67838, took 125.64 s\n",
      "  Validation Found 51686 of 54504, added 1952 (eff 94.83%) (0.195 FP/event)\n"
     ]
    },
    {
     "data": {
      "application/vnd.jupyter.widget-view+json": {
       "model_id": "",
       "version_major": 2,
       "version_minor": 0
      },
      "text/plain": [
       "HBox(children=(FloatProgress(value=0.0, description='Training', layout=Layout(flex='2'), max=1250.0, style=Pro…"
      ]
     },
     "metadata": {},
     "output_type": "display_data"
    },
    {
     "name": "stdout",
     "output_type": "stream",
     "text": [
      "Epoch 607: train=6.92037, val=7.61337, took 125.21 s\n",
      "  Validation Found 51592 of 54504, added 1815 (eff 94.66%) (0.182 FP/event)\n"
     ]
    },
    {
     "data": {
      "application/vnd.jupyter.widget-view+json": {
       "model_id": "",
       "version_major": 2,
       "version_minor": 0
      },
      "text/plain": [
       "HBox(children=(FloatProgress(value=0.0, description='Training', layout=Layout(flex='2'), max=1250.0, style=Pro…"
      ]
     },
     "metadata": {},
     "output_type": "display_data"
    },
    {
     "name": "stdout",
     "output_type": "stream",
     "text": [
      "Epoch 608: train=6.92126, val=7.72219, took 125.74 s\n",
      "  Validation Found 51520 of 54504, added 1674 (eff 94.53%) (0.168 FP/event)\n"
     ]
    },
    {
     "data": {
      "application/vnd.jupyter.widget-view+json": {
       "model_id": "",
       "version_major": 2,
       "version_minor": 0
      },
      "text/plain": [
       "HBox(children=(FloatProgress(value=0.0, description='Training', layout=Layout(flex='2'), max=1250.0, style=Pro…"
      ]
     },
     "metadata": {},
     "output_type": "display_data"
    },
    {
     "name": "stdout",
     "output_type": "stream",
     "text": [
      "Epoch 609: train=6.91992, val=7.62494, took 125.85 s\n",
      "  Validation Found 51764 of 54504, added 2264 (eff 94.97%) (0.227 FP/event)\n"
     ]
    },
    {
     "data": {
      "application/vnd.jupyter.widget-view+json": {
       "model_id": "",
       "version_major": 2,
       "version_minor": 0
      },
      "text/plain": [
       "HBox(children=(FloatProgress(value=0.0, description='Training', layout=Layout(flex='2'), max=1250.0, style=Pro…"
      ]
     },
     "metadata": {},
     "output_type": "display_data"
    },
    {
     "name": "stdout",
     "output_type": "stream",
     "text": [
      "Epoch 610: train=6.91943, val=7.5219, took 126.23 s\n",
      "  Validation Found 51800 of 54504, added 2139 (eff 95.04%) (0.214 FP/event)\n"
     ]
    },
    {
     "data": {
      "application/vnd.jupyter.widget-view+json": {
       "model_id": "",
       "version_major": 2,
       "version_minor": 0
      },
      "text/plain": [
       "HBox(children=(FloatProgress(value=0.0, description='Training', layout=Layout(flex='2'), max=1250.0, style=Pro…"
      ]
     },
     "metadata": {},
     "output_type": "display_data"
    },
    {
     "name": "stdout",
     "output_type": "stream",
     "text": [
      "Epoch 611: train=6.9208, val=7.68903, took 126.22 s\n",
      "  Validation Found 51664 of 54504, added 1933 (eff 94.79%) (0.194 FP/event)\n"
     ]
    },
    {
     "data": {
      "application/vnd.jupyter.widget-view+json": {
       "model_id": "",
       "version_major": 2,
       "version_minor": 0
      },
      "text/plain": [
       "HBox(children=(FloatProgress(value=0.0, description='Training', layout=Layout(flex='2'), max=1250.0, style=Pro…"
      ]
     },
     "metadata": {},
     "output_type": "display_data"
    },
    {
     "name": "stdout",
     "output_type": "stream",
     "text": [
      "Epoch 612: train=6.91818, val=7.60837, took 128.67 s\n",
      "  Validation Found 51682 of 54504, added 1989 (eff 94.82%) (0.199 FP/event)\n"
     ]
    },
    {
     "data": {
      "application/vnd.jupyter.widget-view+json": {
       "model_id": "",
       "version_major": 2,
       "version_minor": 0
      },
      "text/plain": [
       "HBox(children=(FloatProgress(value=0.0, description='Training', layout=Layout(flex='2'), max=1250.0, style=Pro…"
      ]
     },
     "metadata": {},
     "output_type": "display_data"
    },
    {
     "name": "stdout",
     "output_type": "stream",
     "text": [
      "Epoch 613: train=6.91759, val=7.56858, took 127.07 s\n",
      "  Validation Found 51717 of 54504, added 2054 (eff 94.89%) (0.206 FP/event)\n"
     ]
    },
    {
     "data": {
      "application/vnd.jupyter.widget-view+json": {
       "model_id": "",
       "version_major": 2,
       "version_minor": 0
      },
      "text/plain": [
       "HBox(children=(FloatProgress(value=0.0, description='Training', layout=Layout(flex='2'), max=1250.0, style=Pro…"
      ]
     },
     "metadata": {},
     "output_type": "display_data"
    },
    {
     "name": "stdout",
     "output_type": "stream",
     "text": [
      "Epoch 614: train=6.92002, val=7.57501, took 127.38 s\n",
      "  Validation Found 51694 of 54504, added 2041 (eff 94.84%) (0.204 FP/event)\n"
     ]
    },
    {
     "data": {
      "application/vnd.jupyter.widget-view+json": {
       "model_id": "",
       "version_major": 2,
       "version_minor": 0
      },
      "text/plain": [
       "HBox(children=(FloatProgress(value=0.0, description='Training', layout=Layout(flex='2'), max=1250.0, style=Pro…"
      ]
     },
     "metadata": {},
     "output_type": "display_data"
    },
    {
     "name": "stdout",
     "output_type": "stream",
     "text": [
      "Epoch 615: train=6.91852, val=7.68922, took 128.08 s\n",
      "  Validation Found 51545 of 54504, added 1774 (eff 94.57%) (0.178 FP/event)\n"
     ]
    },
    {
     "data": {
      "application/vnd.jupyter.widget-view+json": {
       "model_id": "",
       "version_major": 2,
       "version_minor": 0
      },
      "text/plain": [
       "HBox(children=(FloatProgress(value=0.0, description='Training', layout=Layout(flex='2'), max=1250.0, style=Pro…"
      ]
     },
     "metadata": {},
     "output_type": "display_data"
    },
    {
     "name": "stdout",
     "output_type": "stream",
     "text": [
      "Epoch 616: train=6.91854, val=7.67528, took 125.17 s\n",
      "  Validation Found 51661 of 54504, added 1985 (eff 94.78%) (0.199 FP/event)\n"
     ]
    },
    {
     "data": {
      "application/vnd.jupyter.widget-view+json": {
       "model_id": "",
       "version_major": 2,
       "version_minor": 0
      },
      "text/plain": [
       "HBox(children=(FloatProgress(value=0.0, description='Training', layout=Layout(flex='2'), max=1250.0, style=Pro…"
      ]
     },
     "metadata": {},
     "output_type": "display_data"
    },
    {
     "name": "stdout",
     "output_type": "stream",
     "text": [
      "Epoch 617: train=6.91563, val=7.65066, took 125.81 s\n",
      "  Validation Found 51705 of 54504, added 1964 (eff 94.86%) (0.197 FP/event)\n"
     ]
    },
    {
     "data": {
      "application/vnd.jupyter.widget-view+json": {
       "model_id": "",
       "version_major": 2,
       "version_minor": 0
      },
      "text/plain": [
       "HBox(children=(FloatProgress(value=0.0, description='Training', layout=Layout(flex='2'), max=1250.0, style=Pro…"
      ]
     },
     "metadata": {},
     "output_type": "display_data"
    },
    {
     "name": "stdout",
     "output_type": "stream",
     "text": [
      "Epoch 618: train=6.91536, val=7.69393, took 125.96 s\n",
      "  Validation Found 51654 of 54504, added 1954 (eff 94.77%) (0.196 FP/event)\n"
     ]
    },
    {
     "data": {
      "application/vnd.jupyter.widget-view+json": {
       "model_id": "",
       "version_major": 2,
       "version_minor": 0
      },
      "text/plain": [
       "HBox(children=(FloatProgress(value=0.0, description='Training', layout=Layout(flex='2'), max=1250.0, style=Pro…"
      ]
     },
     "metadata": {},
     "output_type": "display_data"
    },
    {
     "name": "stdout",
     "output_type": "stream",
     "text": [
      "Epoch 619: train=6.91817, val=7.68335, took 126.27 s\n",
      "  Validation Found 51625 of 54504, added 1822 (eff 94.72%) (0.182 FP/event)\n"
     ]
    },
    {
     "data": {
      "application/vnd.jupyter.widget-view+json": {
       "model_id": "",
       "version_major": 2,
       "version_minor": 0
      },
      "text/plain": [
       "HBox(children=(FloatProgress(value=0.0, description='Training', layout=Layout(flex='2'), max=1250.0, style=Pro…"
      ]
     },
     "metadata": {},
     "output_type": "display_data"
    },
    {
     "name": "stdout",
     "output_type": "stream",
     "text": [
      "Epoch 620: train=6.91927, val=7.70104, took 126.82 s\n",
      "  Validation Found 51594 of 54504, added 1856 (eff 94.66%) (0.186 FP/event)\n"
     ]
    },
    {
     "data": {
      "application/vnd.jupyter.widget-view+json": {
       "model_id": "",
       "version_major": 2,
       "version_minor": 0
      },
      "text/plain": [
       "HBox(children=(FloatProgress(value=0.0, description='Training', layout=Layout(flex='2'), max=1250.0, style=Pro…"
      ]
     },
     "metadata": {},
     "output_type": "display_data"
    },
    {
     "name": "stdout",
     "output_type": "stream",
     "text": [
      "Epoch 621: train=6.91927, val=7.6335, took 128.04 s\n",
      "  Validation Found 51645 of 54504, added 1850 (eff 94.75%) (0.185 FP/event)\n"
     ]
    },
    {
     "data": {
      "application/vnd.jupyter.widget-view+json": {
       "model_id": "",
       "version_major": 2,
       "version_minor": 0
      },
      "text/plain": [
       "HBox(children=(FloatProgress(value=0.0, description='Training', layout=Layout(flex='2'), max=1250.0, style=Pro…"
      ]
     },
     "metadata": {},
     "output_type": "display_data"
    },
    {
     "name": "stdout",
     "output_type": "stream",
     "text": [
      "Epoch 622: train=6.91827, val=7.6103, took 126.59 s\n",
      "  Validation Found 51749 of 54504, added 2056 (eff 94.95%) (0.206 FP/event)\n"
     ]
    },
    {
     "data": {
      "application/vnd.jupyter.widget-view+json": {
       "model_id": "",
       "version_major": 2,
       "version_minor": 0
      },
      "text/plain": [
       "HBox(children=(FloatProgress(value=0.0, description='Training', layout=Layout(flex='2'), max=1250.0, style=Pro…"
      ]
     },
     "metadata": {},
     "output_type": "display_data"
    },
    {
     "name": "stdout",
     "output_type": "stream",
     "text": [
      "Epoch 623: train=6.9215, val=7.71587, took 135.37 s\n",
      "  Validation Found 51742 of 54504, added 2047 (eff 94.93%) (0.205 FP/event)\n"
     ]
    },
    {
     "data": {
      "application/vnd.jupyter.widget-view+json": {
       "model_id": "",
       "version_major": 2,
       "version_minor": 0
      },
      "text/plain": [
       "HBox(children=(FloatProgress(value=0.0, description='Training', layout=Layout(flex='2'), max=1250.0, style=Pro…"
      ]
     },
     "metadata": {},
     "output_type": "display_data"
    },
    {
     "name": "stdout",
     "output_type": "stream",
     "text": [
      "Epoch 624: train=6.92079, val=7.62069, took 126.92 s\n",
      "  Validation Found 51681 of 54504, added 1992 (eff 94.82%) (0.199 FP/event)\n"
     ]
    },
    {
     "data": {
      "application/vnd.jupyter.widget-view+json": {
       "model_id": "",
       "version_major": 2,
       "version_minor": 0
      },
      "text/plain": [
       "HBox(children=(FloatProgress(value=0.0, description='Training', layout=Layout(flex='2'), max=1250.0, style=Pro…"
      ]
     },
     "metadata": {},
     "output_type": "display_data"
    },
    {
     "name": "stdout",
     "output_type": "stream",
     "text": [
      "Epoch 625: train=6.9175, val=7.63818, took 126.22 s\n",
      "  Validation Found 51699 of 54504, added 1973 (eff 94.85%) (0.198 FP/event)\n"
     ]
    },
    {
     "data": {
      "application/vnd.jupyter.widget-view+json": {
       "model_id": "",
       "version_major": 2,
       "version_minor": 0
      },
      "text/plain": [
       "HBox(children=(FloatProgress(value=0.0, description='Training', layout=Layout(flex='2'), max=1250.0, style=Pro…"
      ]
     },
     "metadata": {},
     "output_type": "display_data"
    },
    {
     "name": "stdout",
     "output_type": "stream",
     "text": [
      "Epoch 626: train=6.91704, val=7.65574, took 126.2 s\n",
      "  Validation Found 51611 of 54504, added 1949 (eff 94.69%) (0.195 FP/event)\n"
     ]
    },
    {
     "data": {
      "application/vnd.jupyter.widget-view+json": {
       "model_id": "",
       "version_major": 2,
       "version_minor": 0
      },
      "text/plain": [
       "HBox(children=(FloatProgress(value=0.0, description='Training', layout=Layout(flex='2'), max=1250.0, style=Pro…"
      ]
     },
     "metadata": {},
     "output_type": "display_data"
    },
    {
     "name": "stdout",
     "output_type": "stream",
     "text": [
      "Epoch 627: train=6.91811, val=7.72928, took 126.13 s\n",
      "  Validation Found 51579 of 54504, added 1832 (eff 94.63%) (0.183 FP/event)\n"
     ]
    },
    {
     "data": {
      "application/vnd.jupyter.widget-view+json": {
       "model_id": "",
       "version_major": 2,
       "version_minor": 0
      },
      "text/plain": [
       "HBox(children=(FloatProgress(value=0.0, description='Training', layout=Layout(flex='2'), max=1250.0, style=Pro…"
      ]
     },
     "metadata": {},
     "output_type": "display_data"
    },
    {
     "name": "stdout",
     "output_type": "stream",
     "text": [
      "Epoch 628: train=6.91671, val=7.62904, took 128.36 s\n",
      "  Validation Found 51648 of 54504, added 1915 (eff 94.76%) (0.192 FP/event)\n"
     ]
    },
    {
     "data": {
      "application/vnd.jupyter.widget-view+json": {
       "model_id": "",
       "version_major": 2,
       "version_minor": 0
      },
      "text/plain": [
       "HBox(children=(FloatProgress(value=0.0, description='Training', layout=Layout(flex='2'), max=1250.0, style=Pro…"
      ]
     },
     "metadata": {},
     "output_type": "display_data"
    },
    {
     "name": "stdout",
     "output_type": "stream",
     "text": [
      "Epoch 629: train=6.92075, val=7.71132, took 127.4 s\n",
      "  Validation Found 51511 of 54504, added 1795 (eff 94.51%) (0.18 FP/event)\n"
     ]
    },
    {
     "data": {
      "application/vnd.jupyter.widget-view+json": {
       "model_id": "",
       "version_major": 2,
       "version_minor": 0
      },
      "text/plain": [
       "HBox(children=(FloatProgress(value=0.0, description='Training', layout=Layout(flex='2'), max=1250.0, style=Pro…"
      ]
     },
     "metadata": {},
     "output_type": "display_data"
    },
    {
     "name": "stdout",
     "output_type": "stream",
     "text": [
      "Epoch 630: train=6.91719, val=7.73585, took 137.56 s\n",
      "  Validation Found 51552 of 54504, added 1838 (eff 94.58%) (0.184 FP/event)\n"
     ]
    },
    {
     "data": {
      "application/vnd.jupyter.widget-view+json": {
       "model_id": "",
       "version_major": 2,
       "version_minor": 0
      },
      "text/plain": [
       "HBox(children=(FloatProgress(value=0.0, description='Training', layout=Layout(flex='2'), max=1250.0, style=Pro…"
      ]
     },
     "metadata": {},
     "output_type": "display_data"
    },
    {
     "name": "stdout",
     "output_type": "stream",
     "text": [
      "Epoch 631: train=6.92054, val=7.74259, took 126.6 s\n",
      "  Validation Found 51434 of 54504, added 1640 (eff 94.37%) (0.164 FP/event)\n"
     ]
    },
    {
     "data": {
      "application/vnd.jupyter.widget-view+json": {
       "model_id": "",
       "version_major": 2,
       "version_minor": 0
      },
      "text/plain": [
       "HBox(children=(FloatProgress(value=0.0, description='Training', layout=Layout(flex='2'), max=1250.0, style=Pro…"
      ]
     },
     "metadata": {},
     "output_type": "display_data"
    },
    {
     "name": "stdout",
     "output_type": "stream",
     "text": [
      "Epoch 632: train=6.91703, val=7.66101, took 127.11 s\n",
      "  Validation Found 51695 of 54504, added 1935 (eff 94.85%) (0.194 FP/event)\n"
     ]
    },
    {
     "data": {
      "application/vnd.jupyter.widget-view+json": {
       "model_id": "",
       "version_major": 2,
       "version_minor": 0
      },
      "text/plain": [
       "HBox(children=(FloatProgress(value=0.0, description='Training', layout=Layout(flex='2'), max=1250.0, style=Pro…"
      ]
     },
     "metadata": {},
     "output_type": "display_data"
    },
    {
     "name": "stdout",
     "output_type": "stream",
     "text": [
      "Epoch 633: train=6.91794, val=7.61136, took 125.79 s\n",
      "  Validation Found 51757 of 54504, added 2108 (eff 94.96%) (0.211 FP/event)\n"
     ]
    },
    {
     "data": {
      "application/vnd.jupyter.widget-view+json": {
       "model_id": "",
       "version_major": 2,
       "version_minor": 0
      },
      "text/plain": [
       "HBox(children=(FloatProgress(value=0.0, description='Training', layout=Layout(flex='2'), max=1250.0, style=Pro…"
      ]
     },
     "metadata": {},
     "output_type": "display_data"
    },
    {
     "name": "stdout",
     "output_type": "stream",
     "text": [
      "Epoch 634: train=6.91567, val=7.5851, took 125.56 s\n",
      "  Validation Found 51714 of 54504, added 2010 (eff 94.88%) (0.201 FP/event)\n"
     ]
    },
    {
     "data": {
      "application/vnd.jupyter.widget-view+json": {
       "model_id": "",
       "version_major": 2,
       "version_minor": 0
      },
      "text/plain": [
       "HBox(children=(FloatProgress(value=0.0, description='Training', layout=Layout(flex='2'), max=1250.0, style=Pro…"
      ]
     },
     "metadata": {},
     "output_type": "display_data"
    },
    {
     "name": "stdout",
     "output_type": "stream",
     "text": [
      "Epoch 635: train=6.91444, val=7.63411, took 125.63 s\n",
      "  Validation Found 51591 of 54504, added 1859 (eff 94.66%) (0.186 FP/event)\n"
     ]
    },
    {
     "data": {
      "application/vnd.jupyter.widget-view+json": {
       "model_id": "",
       "version_major": 2,
       "version_minor": 0
      },
      "text/plain": [
       "HBox(children=(FloatProgress(value=0.0, description='Training', layout=Layout(flex='2'), max=1250.0, style=Pro…"
      ]
     },
     "metadata": {},
     "output_type": "display_data"
    },
    {
     "name": "stdout",
     "output_type": "stream",
     "text": [
      "Epoch 636: train=6.91542, val=7.6542, took 125.51 s\n",
      "  Validation Found 51652 of 54504, added 2020 (eff 94.77%) (0.202 FP/event)\n"
     ]
    },
    {
     "data": {
      "application/vnd.jupyter.widget-view+json": {
       "model_id": "",
       "version_major": 2,
       "version_minor": 0
      },
      "text/plain": [
       "HBox(children=(FloatProgress(value=0.0, description='Training', layout=Layout(flex='2'), max=1250.0, style=Pro…"
      ]
     },
     "metadata": {},
     "output_type": "display_data"
    },
    {
     "name": "stdout",
     "output_type": "stream",
     "text": [
      "Epoch 637: train=6.91692, val=7.64883, took 125.53 s\n",
      "  Validation Found 51743 of 54504, added 2206 (eff 94.93%) (0.221 FP/event)\n"
     ]
    },
    {
     "data": {
      "application/vnd.jupyter.widget-view+json": {
       "model_id": "",
       "version_major": 2,
       "version_minor": 0
      },
      "text/plain": [
       "HBox(children=(FloatProgress(value=0.0, description='Training', layout=Layout(flex='2'), max=1250.0, style=Pro…"
      ]
     },
     "metadata": {},
     "output_type": "display_data"
    },
    {
     "name": "stdout",
     "output_type": "stream",
     "text": [
      "Epoch 638: train=6.91921, val=7.65379, took 125.7 s\n",
      "  Validation Found 51683 of 54504, added 2035 (eff 94.82%) (0.204 FP/event)\n"
     ]
    },
    {
     "data": {
      "application/vnd.jupyter.widget-view+json": {
       "model_id": "",
       "version_major": 2,
       "version_minor": 0
      },
      "text/plain": [
       "HBox(children=(FloatProgress(value=0.0, description='Training', layout=Layout(flex='2'), max=1250.0, style=Pro…"
      ]
     },
     "metadata": {},
     "output_type": "display_data"
    },
    {
     "name": "stdout",
     "output_type": "stream",
     "text": [
      "Epoch 639: train=6.91788, val=7.66717, took 125.6 s\n",
      "  Validation Found 51688 of 54504, added 1965 (eff 94.83%) (0.197 FP/event)\n"
     ]
    },
    {
     "data": {
      "application/vnd.jupyter.widget-view+json": {
       "model_id": "",
       "version_major": 2,
       "version_minor": 0
      },
      "text/plain": [
       "HBox(children=(FloatProgress(value=0.0, description='Training', layout=Layout(flex='2'), max=1250.0, style=Pro…"
      ]
     },
     "metadata": {},
     "output_type": "display_data"
    },
    {
     "name": "stdout",
     "output_type": "stream",
     "text": [
      "Epoch 640: train=6.91571, val=7.74339, took 125.64 s\n",
      "  Validation Found 51464 of 54504, added 1733 (eff 94.42%) (0.174 FP/event)\n"
     ]
    },
    {
     "data": {
      "application/vnd.jupyter.widget-view+json": {
       "model_id": "",
       "version_major": 2,
       "version_minor": 0
      },
      "text/plain": [
       "HBox(children=(FloatProgress(value=0.0, description='Training', layout=Layout(flex='2'), max=1250.0, style=Pro…"
      ]
     },
     "metadata": {},
     "output_type": "display_data"
    },
    {
     "name": "stdout",
     "output_type": "stream",
     "text": [
      "Epoch 641: train=6.91502, val=7.64647, took 125.65 s\n",
      "  Validation Found 51717 of 54504, added 2145 (eff 94.89%) (0.215 FP/event)\n"
     ]
    },
    {
     "data": {
      "application/vnd.jupyter.widget-view+json": {
       "model_id": "",
       "version_major": 2,
       "version_minor": 0
      },
      "text/plain": [
       "HBox(children=(FloatProgress(value=0.0, description='Training', layout=Layout(flex='2'), max=1250.0, style=Pro…"
      ]
     },
     "metadata": {},
     "output_type": "display_data"
    },
    {
     "name": "stdout",
     "output_type": "stream",
     "text": [
      "Epoch 642: train=6.92057, val=7.61466, took 125.58 s\n",
      "  Validation Found 51779 of 54504, added 2109 (eff 95.00%) (0.211 FP/event)\n"
     ]
    },
    {
     "data": {
      "application/vnd.jupyter.widget-view+json": {
       "model_id": "",
       "version_major": 2,
       "version_minor": 0
      },
      "text/plain": [
       "HBox(children=(FloatProgress(value=0.0, description='Training', layout=Layout(flex='2'), max=1250.0, style=Pro…"
      ]
     },
     "metadata": {},
     "output_type": "display_data"
    },
    {
     "name": "stdout",
     "output_type": "stream",
     "text": [
      "Epoch 643: train=6.91799, val=7.66689, took 125.51 s\n",
      "  Validation Found 51616 of 54504, added 1881 (eff 94.70%) (0.188 FP/event)\n"
     ]
    },
    {
     "data": {
      "application/vnd.jupyter.widget-view+json": {
       "model_id": "",
       "version_major": 2,
       "version_minor": 0
      },
      "text/plain": [
       "HBox(children=(FloatProgress(value=0.0, description='Training', layout=Layout(flex='2'), max=1250.0, style=Pro…"
      ]
     },
     "metadata": {},
     "output_type": "display_data"
    },
    {
     "name": "stdout",
     "output_type": "stream",
     "text": [
      "Epoch 644: train=6.91572, val=7.62375, took 125.63 s\n",
      "  Validation Found 51633 of 54504, added 1904 (eff 94.73%) (0.191 FP/event)\n"
     ]
    },
    {
     "data": {
      "application/vnd.jupyter.widget-view+json": {
       "model_id": "",
       "version_major": 2,
       "version_minor": 0
      },
      "text/plain": [
       "HBox(children=(FloatProgress(value=0.0, description='Training', layout=Layout(flex='2'), max=1250.0, style=Pro…"
      ]
     },
     "metadata": {},
     "output_type": "display_data"
    },
    {
     "name": "stdout",
     "output_type": "stream",
     "text": [
      "Epoch 645: train=6.91439, val=7.67372, took 125.5 s\n",
      "  Validation Found 51603 of 54504, added 1883 (eff 94.68%) (0.189 FP/event)\n"
     ]
    },
    {
     "data": {
      "application/vnd.jupyter.widget-view+json": {
       "model_id": "",
       "version_major": 2,
       "version_minor": 0
      },
      "text/plain": [
       "HBox(children=(FloatProgress(value=0.0, description='Training', layout=Layout(flex='2'), max=1250.0, style=Pro…"
      ]
     },
     "metadata": {},
     "output_type": "display_data"
    },
    {
     "name": "stdout",
     "output_type": "stream",
     "text": [
      "Epoch 646: train=6.91535, val=7.63686, took 125.5 s\n",
      "  Validation Found 51746 of 54504, added 2048 (eff 94.94%) (0.205 FP/event)\n"
     ]
    },
    {
     "data": {
      "application/vnd.jupyter.widget-view+json": {
       "model_id": "",
       "version_major": 2,
       "version_minor": 0
      },
      "text/plain": [
       "HBox(children=(FloatProgress(value=0.0, description='Training', layout=Layout(flex='2'), max=1250.0, style=Pro…"
      ]
     },
     "metadata": {},
     "output_type": "display_data"
    },
    {
     "name": "stdout",
     "output_type": "stream",
     "text": [
      "Epoch 647: train=6.91417, val=7.69954, took 125.7 s\n",
      "  Validation Found 51641 of 54504, added 1919 (eff 94.75%) (0.192 FP/event)\n"
     ]
    },
    {
     "data": {
      "application/vnd.jupyter.widget-view+json": {
       "model_id": "",
       "version_major": 2,
       "version_minor": 0
      },
      "text/plain": [
       "HBox(children=(FloatProgress(value=0.0, description='Training', layout=Layout(flex='2'), max=1250.0, style=Pro…"
      ]
     },
     "metadata": {},
     "output_type": "display_data"
    },
    {
     "name": "stdout",
     "output_type": "stream",
     "text": [
      "Epoch 648: train=6.91389, val=7.72451, took 125.73 s\n",
      "  Validation Found 51573 of 54504, added 1809 (eff 94.62%) (0.181 FP/event)\n"
     ]
    },
    {
     "data": {
      "application/vnd.jupyter.widget-view+json": {
       "model_id": "",
       "version_major": 2,
       "version_minor": 0
      },
      "text/plain": [
       "HBox(children=(FloatProgress(value=0.0, description='Training', layout=Layout(flex='2'), max=1250.0, style=Pro…"
      ]
     },
     "metadata": {},
     "output_type": "display_data"
    },
    {
     "name": "stdout",
     "output_type": "stream",
     "text": [
      "Epoch 649: train=6.91525, val=7.61846, took 125.7 s\n",
      "  Validation Found 51622 of 54504, added 1900 (eff 94.71%) (0.19 FP/event)\n"
     ]
    },
    {
     "data": {
      "application/vnd.jupyter.widget-view+json": {
       "model_id": "",
       "version_major": 2,
       "version_minor": 0
      },
      "text/plain": [
       "HBox(children=(FloatProgress(value=0.0, description='Training', layout=Layout(flex='2'), max=1250.0, style=Pro…"
      ]
     },
     "metadata": {},
     "output_type": "display_data"
    },
    {
     "name": "stdout",
     "output_type": "stream",
     "text": [
      "Epoch 650: train=6.91371, val=7.66975, took 125.66 s\n",
      "  Validation Found 51590 of 54504, added 1806 (eff 94.65%) (0.181 FP/event)\n"
     ]
    },
    {
     "data": {
      "application/vnd.jupyter.widget-view+json": {
       "model_id": "",
       "version_major": 2,
       "version_minor": 0
      },
      "text/plain": [
       "HBox(children=(FloatProgress(value=0.0, description='Training', layout=Layout(flex='2'), max=1250.0, style=Pro…"
      ]
     },
     "metadata": {},
     "output_type": "display_data"
    },
    {
     "name": "stdout",
     "output_type": "stream",
     "text": [
      "Epoch 651: train=6.91399, val=7.66021, took 125.51 s\n",
      "  Validation Found 51701 of 54504, added 2021 (eff 94.86%) (0.202 FP/event)\n"
     ]
    },
    {
     "data": {
      "application/vnd.jupyter.widget-view+json": {
       "model_id": "",
       "version_major": 2,
       "version_minor": 0
      },
      "text/plain": [
       "HBox(children=(FloatProgress(value=0.0, description='Training', layout=Layout(flex='2'), max=1250.0, style=Pro…"
      ]
     },
     "metadata": {},
     "output_type": "display_data"
    },
    {
     "name": "stdout",
     "output_type": "stream",
     "text": [
      "Epoch 652: train=6.91466, val=7.67604, took 125.56 s\n",
      "  Validation Found 51658 of 54504, added 1920 (eff 94.78%) (0.192 FP/event)\n"
     ]
    },
    {
     "data": {
      "application/vnd.jupyter.widget-view+json": {
       "model_id": "",
       "version_major": 2,
       "version_minor": 0
      },
      "text/plain": [
       "HBox(children=(FloatProgress(value=0.0, description='Training', layout=Layout(flex='2'), max=1250.0, style=Pro…"
      ]
     },
     "metadata": {},
     "output_type": "display_data"
    },
    {
     "name": "stdout",
     "output_type": "stream",
     "text": [
      "Epoch 653: train=6.91202, val=7.67567, took 125.6 s\n",
      "  Validation Found 51729 of 54504, added 2068 (eff 94.91%) (0.207 FP/event)\n"
     ]
    },
    {
     "data": {
      "application/vnd.jupyter.widget-view+json": {
       "model_id": "",
       "version_major": 2,
       "version_minor": 0
      },
      "text/plain": [
       "HBox(children=(FloatProgress(value=0.0, description='Training', layout=Layout(flex='2'), max=1250.0, style=Pro…"
      ]
     },
     "metadata": {},
     "output_type": "display_data"
    },
    {
     "name": "stdout",
     "output_type": "stream",
     "text": [
      "Epoch 654: train=6.91442, val=7.61541, took 125.55 s\n",
      "  Validation Found 51706 of 54504, added 2042 (eff 94.87%) (0.205 FP/event)\n"
     ]
    },
    {
     "data": {
      "application/vnd.jupyter.widget-view+json": {
       "model_id": "",
       "version_major": 2,
       "version_minor": 0
      },
      "text/plain": [
       "HBox(children=(FloatProgress(value=0.0, description='Training', layout=Layout(flex='2'), max=1250.0, style=Pro…"
      ]
     },
     "metadata": {},
     "output_type": "display_data"
    },
    {
     "name": "stdout",
     "output_type": "stream",
     "text": [
      "Epoch 655: train=6.91484, val=7.65418, took 125.47 s\n",
      "  Validation Found 51607 of 54504, added 1858 (eff 94.68%) (0.186 FP/event)\n"
     ]
    },
    {
     "data": {
      "application/vnd.jupyter.widget-view+json": {
       "model_id": "",
       "version_major": 2,
       "version_minor": 0
      },
      "text/plain": [
       "HBox(children=(FloatProgress(value=0.0, description='Training', layout=Layout(flex='2'), max=1250.0, style=Pro…"
      ]
     },
     "metadata": {},
     "output_type": "display_data"
    },
    {
     "name": "stdout",
     "output_type": "stream",
     "text": [
      "Epoch 656: train=6.91444, val=7.64328, took 125.4 s\n",
      "  Validation Found 51613 of 54504, added 1898 (eff 94.70%) (0.19 FP/event)\n"
     ]
    },
    {
     "data": {
      "application/vnd.jupyter.widget-view+json": {
       "model_id": "",
       "version_major": 2,
       "version_minor": 0
      },
      "text/plain": [
       "HBox(children=(FloatProgress(value=0.0, description='Training', layout=Layout(flex='2'), max=1250.0, style=Pro…"
      ]
     },
     "metadata": {},
     "output_type": "display_data"
    },
    {
     "name": "stdout",
     "output_type": "stream",
     "text": [
      "Epoch 657: train=6.91421, val=7.65646, took 125.57 s\n",
      "  Validation Found 51649 of 54504, added 1888 (eff 94.76%) (0.189 FP/event)\n"
     ]
    },
    {
     "data": {
      "application/vnd.jupyter.widget-view+json": {
       "model_id": "",
       "version_major": 2,
       "version_minor": 0
      },
      "text/plain": [
       "HBox(children=(FloatProgress(value=0.0, description='Training', layout=Layout(flex='2'), max=1250.0, style=Pro…"
      ]
     },
     "metadata": {},
     "output_type": "display_data"
    },
    {
     "name": "stdout",
     "output_type": "stream",
     "text": [
      "Epoch 658: train=6.91383, val=7.6419, took 125.69 s\n",
      "  Validation Found 51659 of 54504, added 1918 (eff 94.78%) (0.192 FP/event)\n"
     ]
    },
    {
     "data": {
      "application/vnd.jupyter.widget-view+json": {
       "model_id": "",
       "version_major": 2,
       "version_minor": 0
      },
      "text/plain": [
       "HBox(children=(FloatProgress(value=0.0, description='Training', layout=Layout(flex='2'), max=1250.0, style=Pro…"
      ]
     },
     "metadata": {},
     "output_type": "display_data"
    },
    {
     "name": "stdout",
     "output_type": "stream",
     "text": [
      "Epoch 659: train=6.91254, val=7.60715, took 125.58 s\n",
      "  Validation Found 51642 of 54504, added 1948 (eff 94.75%) (0.195 FP/event)\n"
     ]
    },
    {
     "data": {
      "application/vnd.jupyter.widget-view+json": {
       "model_id": "",
       "version_major": 2,
       "version_minor": 0
      },
      "text/plain": [
       "HBox(children=(FloatProgress(value=0.0, description='Training', layout=Layout(flex='2'), max=1250.0, style=Pro…"
      ]
     },
     "metadata": {},
     "output_type": "display_data"
    },
    {
     "name": "stdout",
     "output_type": "stream",
     "text": [
      "Epoch 660: train=6.91496, val=7.67551, took 125.55 s\n",
      "  Validation Found 51737 of 54504, added 2033 (eff 94.92%) (0.204 FP/event)\n"
     ]
    },
    {
     "data": {
      "application/vnd.jupyter.widget-view+json": {
       "model_id": "",
       "version_major": 2,
       "version_minor": 0
      },
      "text/plain": [
       "HBox(children=(FloatProgress(value=0.0, description='Training', layout=Layout(flex='2'), max=1250.0, style=Pro…"
      ]
     },
     "metadata": {},
     "output_type": "display_data"
    },
    {
     "name": "stdout",
     "output_type": "stream",
     "text": [
      "Epoch 661: train=6.91549, val=7.70841, took 125.6 s\n",
      "  Validation Found 51597 of 54504, added 1824 (eff 94.67%) (0.183 FP/event)\n"
     ]
    },
    {
     "data": {
      "application/vnd.jupyter.widget-view+json": {
       "model_id": "",
       "version_major": 2,
       "version_minor": 0
      },
      "text/plain": [
       "HBox(children=(FloatProgress(value=0.0, description='Training', layout=Layout(flex='2'), max=1250.0, style=Pro…"
      ]
     },
     "metadata": {},
     "output_type": "display_data"
    },
    {
     "name": "stdout",
     "output_type": "stream",
     "text": [
      "Epoch 662: train=6.91131, val=7.60098, took 125.64 s\n",
      "  Validation Found 51743 of 54504, added 2155 (eff 94.93%) (0.216 FP/event)\n"
     ]
    },
    {
     "data": {
      "application/vnd.jupyter.widget-view+json": {
       "model_id": "",
       "version_major": 2,
       "version_minor": 0
      },
      "text/plain": [
       "HBox(children=(FloatProgress(value=0.0, description='Training', layout=Layout(flex='2'), max=1250.0, style=Pro…"
      ]
     },
     "metadata": {},
     "output_type": "display_data"
    },
    {
     "name": "stdout",
     "output_type": "stream",
     "text": [
      "Epoch 663: train=6.91175, val=7.65475, took 125.81 s\n",
      "  Validation Found 51660 of 54504, added 1866 (eff 94.78%) (0.187 FP/event)\n"
     ]
    },
    {
     "data": {
      "application/vnd.jupyter.widget-view+json": {
       "model_id": "",
       "version_major": 2,
       "version_minor": 0
      },
      "text/plain": [
       "HBox(children=(FloatProgress(value=0.0, description='Training', layout=Layout(flex='2'), max=1250.0, style=Pro…"
      ]
     },
     "metadata": {},
     "output_type": "display_data"
    },
    {
     "name": "stdout",
     "output_type": "stream",
     "text": [
      "Epoch 664: train=6.91649, val=7.61459, took 125.71 s\n",
      "  Validation Found 51685 of 54504, added 1954 (eff 94.83%) (0.196 FP/event)\n"
     ]
    },
    {
     "data": {
      "application/vnd.jupyter.widget-view+json": {
       "model_id": "",
       "version_major": 2,
       "version_minor": 0
      },
      "text/plain": [
       "HBox(children=(FloatProgress(value=0.0, description='Training', layout=Layout(flex='2'), max=1250.0, style=Pro…"
      ]
     },
     "metadata": {},
     "output_type": "display_data"
    },
    {
     "name": "stdout",
     "output_type": "stream",
     "text": [
      "Epoch 665: train=6.91326, val=7.6223, took 124.91 s\n",
      "  Validation Found 51654 of 54504, added 1922 (eff 94.77%) (0.192 FP/event)\n"
     ]
    },
    {
     "data": {
      "application/vnd.jupyter.widget-view+json": {
       "model_id": "",
       "version_major": 2,
       "version_minor": 0
      },
      "text/plain": [
       "HBox(children=(FloatProgress(value=0.0, description='Training', layout=Layout(flex='2'), max=1250.0, style=Pro…"
      ]
     },
     "metadata": {},
     "output_type": "display_data"
    },
    {
     "name": "stdout",
     "output_type": "stream",
     "text": [
      "Epoch 666: train=6.91207, val=7.6383, took 126.32 s\n",
      "  Validation Found 51660 of 54504, added 1995 (eff 94.78%) (0.2 FP/event)\n"
     ]
    },
    {
     "data": {
      "application/vnd.jupyter.widget-view+json": {
       "model_id": "",
       "version_major": 2,
       "version_minor": 0
      },
      "text/plain": [
       "HBox(children=(FloatProgress(value=0.0, description='Training', layout=Layout(flex='2'), max=1250.0, style=Pro…"
      ]
     },
     "metadata": {},
     "output_type": "display_data"
    },
    {
     "name": "stdout",
     "output_type": "stream",
     "text": [
      "Epoch 667: train=6.91388, val=7.6195, took 128.42 s\n",
      "  Validation Found 51677 of 54504, added 2044 (eff 94.81%) (0.205 FP/event)\n"
     ]
    },
    {
     "data": {
      "application/vnd.jupyter.widget-view+json": {
       "model_id": "",
       "version_major": 2,
       "version_minor": 0
      },
      "text/plain": [
       "HBox(children=(FloatProgress(value=0.0, description='Training', layout=Layout(flex='2'), max=1250.0, style=Pro…"
      ]
     },
     "metadata": {},
     "output_type": "display_data"
    },
    {
     "name": "stdout",
     "output_type": "stream",
     "text": [
      "Epoch 668: train=6.91245, val=7.6281, took 126.02 s\n",
      "  Validation Found 51660 of 54504, added 1943 (eff 94.78%) (0.195 FP/event)\n"
     ]
    },
    {
     "data": {
      "application/vnd.jupyter.widget-view+json": {
       "model_id": "",
       "version_major": 2,
       "version_minor": 0
      },
      "text/plain": [
       "HBox(children=(FloatProgress(value=0.0, description='Training', layout=Layout(flex='2'), max=1250.0, style=Pro…"
      ]
     },
     "metadata": {},
     "output_type": "display_data"
    },
    {
     "name": "stdout",
     "output_type": "stream",
     "text": [
      "Epoch 669: train=6.91041, val=7.58868, took 125.67 s\n",
      "  Validation Found 51702 of 54504, added 2053 (eff 94.86%) (0.206 FP/event)\n"
     ]
    },
    {
     "data": {
      "application/vnd.jupyter.widget-view+json": {
       "model_id": "",
       "version_major": 2,
       "version_minor": 0
      },
      "text/plain": [
       "HBox(children=(FloatProgress(value=0.0, description='Training', layout=Layout(flex='2'), max=1250.0, style=Pro…"
      ]
     },
     "metadata": {},
     "output_type": "display_data"
    },
    {
     "name": "stdout",
     "output_type": "stream",
     "text": [
      "Epoch 670: train=6.91218, val=7.63563, took 125.65 s\n",
      "  Validation Found 51725 of 54504, added 2027 (eff 94.90%) (0.203 FP/event)\n"
     ]
    },
    {
     "data": {
      "application/vnd.jupyter.widget-view+json": {
       "model_id": "",
       "version_major": 2,
       "version_minor": 0
      },
      "text/plain": [
       "HBox(children=(FloatProgress(value=0.0, description='Training', layout=Layout(flex='2'), max=1250.0, style=Pro…"
      ]
     },
     "metadata": {},
     "output_type": "display_data"
    },
    {
     "name": "stdout",
     "output_type": "stream",
     "text": [
      "Epoch 671: train=6.91267, val=7.60652, took 125.54 s\n",
      "  Validation Found 51746 of 54504, added 2104 (eff 94.94%) (0.211 FP/event)\n"
     ]
    },
    {
     "data": {
      "application/vnd.jupyter.widget-view+json": {
       "model_id": "",
       "version_major": 2,
       "version_minor": 0
      },
      "text/plain": [
       "HBox(children=(FloatProgress(value=0.0, description='Training', layout=Layout(flex='2'), max=1250.0, style=Pro…"
      ]
     },
     "metadata": {},
     "output_type": "display_data"
    },
    {
     "name": "stdout",
     "output_type": "stream",
     "text": [
      "Epoch 672: train=6.91018, val=7.66373, took 126.63 s\n",
      "  Validation Found 51700 of 54504, added 2055 (eff 94.86%) (0.206 FP/event)\n"
     ]
    },
    {
     "data": {
      "application/vnd.jupyter.widget-view+json": {
       "model_id": "",
       "version_major": 2,
       "version_minor": 0
      },
      "text/plain": [
       "HBox(children=(FloatProgress(value=0.0, description='Training', layout=Layout(flex='2'), max=1250.0, style=Pro…"
      ]
     },
     "metadata": {},
     "output_type": "display_data"
    },
    {
     "name": "stdout",
     "output_type": "stream",
     "text": [
      "Epoch 673: train=6.90827, val=7.65343, took 128.74 s\n",
      "  Validation Found 51621 of 54504, added 1855 (eff 94.71%) (0.186 FP/event)\n"
     ]
    },
    {
     "data": {
      "application/vnd.jupyter.widget-view+json": {
       "model_id": "",
       "version_major": 2,
       "version_minor": 0
      },
      "text/plain": [
       "HBox(children=(FloatProgress(value=0.0, description='Training', layout=Layout(flex='2'), max=1250.0, style=Pro…"
      ]
     },
     "metadata": {},
     "output_type": "display_data"
    },
    {
     "name": "stdout",
     "output_type": "stream",
     "text": [
      "Epoch 674: train=6.91056, val=7.66701, took 125.98 s\n",
      "  Validation Found 51686 of 54504, added 2021 (eff 94.83%) (0.202 FP/event)\n"
     ]
    },
    {
     "data": {
      "application/vnd.jupyter.widget-view+json": {
       "model_id": "",
       "version_major": 2,
       "version_minor": 0
      },
      "text/plain": [
       "HBox(children=(FloatProgress(value=0.0, description='Training', layout=Layout(flex='2'), max=1250.0, style=Pro…"
      ]
     },
     "metadata": {},
     "output_type": "display_data"
    },
    {
     "name": "stdout",
     "output_type": "stream",
     "text": [
      "Epoch 675: train=6.91306, val=7.6597, took 125.58 s\n",
      "  Validation Found 51678 of 54504, added 1909 (eff 94.82%) (0.191 FP/event)\n"
     ]
    },
    {
     "data": {
      "application/vnd.jupyter.widget-view+json": {
       "model_id": "",
       "version_major": 2,
       "version_minor": 0
      },
      "text/plain": [
       "HBox(children=(FloatProgress(value=0.0, description='Training', layout=Layout(flex='2'), max=1250.0, style=Pro…"
      ]
     },
     "metadata": {},
     "output_type": "display_data"
    },
    {
     "name": "stdout",
     "output_type": "stream",
     "text": [
      "Epoch 676: train=6.91186, val=7.68202, took 125.6 s\n",
      "  Validation Found 51613 of 54504, added 1891 (eff 94.70%) (0.189 FP/event)\n"
     ]
    },
    {
     "data": {
      "application/vnd.jupyter.widget-view+json": {
       "model_id": "",
       "version_major": 2,
       "version_minor": 0
      },
      "text/plain": [
       "HBox(children=(FloatProgress(value=0.0, description='Training', layout=Layout(flex='2'), max=1250.0, style=Pro…"
      ]
     },
     "metadata": {},
     "output_type": "display_data"
    },
    {
     "name": "stdout",
     "output_type": "stream",
     "text": [
      "Epoch 677: train=6.90803, val=7.60031, took 127.32 s\n",
      "  Validation Found 51778 of 54504, added 2142 (eff 95.00%) (0.215 FP/event)\n"
     ]
    },
    {
     "data": {
      "application/vnd.jupyter.widget-view+json": {
       "model_id": "",
       "version_major": 2,
       "version_minor": 0
      },
      "text/plain": [
       "HBox(children=(FloatProgress(value=0.0, description='Training', layout=Layout(flex='2'), max=1250.0, style=Pro…"
      ]
     },
     "metadata": {},
     "output_type": "display_data"
    },
    {
     "name": "stdout",
     "output_type": "stream",
     "text": [
      "Epoch 678: train=6.90869, val=7.73122, took 128.66 s\n",
      "  Validation Found 51550 of 54504, added 1846 (eff 94.58%) (0.185 FP/event)\n"
     ]
    },
    {
     "data": {
      "application/vnd.jupyter.widget-view+json": {
       "model_id": "",
       "version_major": 2,
       "version_minor": 0
      },
      "text/plain": [
       "HBox(children=(FloatProgress(value=0.0, description='Training', layout=Layout(flex='2'), max=1250.0, style=Pro…"
      ]
     },
     "metadata": {},
     "output_type": "display_data"
    },
    {
     "name": "stdout",
     "output_type": "stream",
     "text": [
      "Epoch 679: train=6.91077, val=7.59416, took 125.99 s\n",
      "  Validation Found 51742 of 54504, added 2121 (eff 94.93%) (0.212 FP/event)\n"
     ]
    },
    {
     "data": {
      "application/vnd.jupyter.widget-view+json": {
       "model_id": "",
       "version_major": 2,
       "version_minor": 0
      },
      "text/plain": [
       "HBox(children=(FloatProgress(value=0.0, description='Training', layout=Layout(flex='2'), max=1250.0, style=Pro…"
      ]
     },
     "metadata": {},
     "output_type": "display_data"
    },
    {
     "name": "stdout",
     "output_type": "stream",
     "text": [
      "Epoch 680: train=6.91002, val=7.64769, took 125.67 s\n",
      "  Validation Found 51642 of 54504, added 1895 (eff 94.75%) (0.19 FP/event)\n"
     ]
    },
    {
     "data": {
      "application/vnd.jupyter.widget-view+json": {
       "model_id": "",
       "version_major": 2,
       "version_minor": 0
      },
      "text/plain": [
       "HBox(children=(FloatProgress(value=0.0, description='Training', layout=Layout(flex='2'), max=1250.0, style=Pro…"
      ]
     },
     "metadata": {},
     "output_type": "display_data"
    },
    {
     "name": "stdout",
     "output_type": "stream",
     "text": [
      "Epoch 681: train=6.91319, val=7.59954, took 125.73 s\n",
      "  Validation Found 51744 of 54504, added 2051 (eff 94.94%) (0.205 FP/event)\n"
     ]
    },
    {
     "data": {
      "application/vnd.jupyter.widget-view+json": {
       "model_id": "",
       "version_major": 2,
       "version_minor": 0
      },
      "text/plain": [
       "HBox(children=(FloatProgress(value=0.0, description='Training', layout=Layout(flex='2'), max=1250.0, style=Pro…"
      ]
     },
     "metadata": {},
     "output_type": "display_data"
    },
    {
     "name": "stdout",
     "output_type": "stream",
     "text": [
      "Epoch 682: train=6.90954, val=7.64943, took 126.96 s\n",
      "  Validation Found 51678 of 54504, added 1993 (eff 94.82%) (0.2 FP/event)\n"
     ]
    },
    {
     "data": {
      "application/vnd.jupyter.widget-view+json": {
       "model_id": "",
       "version_major": 2,
       "version_minor": 0
      },
      "text/plain": [
       "HBox(children=(FloatProgress(value=0.0, description='Training', layout=Layout(flex='2'), max=1250.0, style=Pro…"
      ]
     },
     "metadata": {},
     "output_type": "display_data"
    },
    {
     "name": "stdout",
     "output_type": "stream",
     "text": [
      "Epoch 683: train=6.91125, val=7.63495, took 128.88 s\n",
      "  Validation Found 51631 of 54504, added 1832 (eff 94.73%) (0.183 FP/event)\n"
     ]
    },
    {
     "data": {
      "application/vnd.jupyter.widget-view+json": {
       "model_id": "",
       "version_major": 2,
       "version_minor": 0
      },
      "text/plain": [
       "HBox(children=(FloatProgress(value=0.0, description='Training', layout=Layout(flex='2'), max=1250.0, style=Pro…"
      ]
     },
     "metadata": {},
     "output_type": "display_data"
    },
    {
     "name": "stdout",
     "output_type": "stream",
     "text": [
      "Epoch 684: train=6.90844, val=7.72803, took 126.31 s\n",
      "  Validation Found 51566 of 54504, added 1827 (eff 94.61%) (0.183 FP/event)\n"
     ]
    },
    {
     "data": {
      "application/vnd.jupyter.widget-view+json": {
       "model_id": "",
       "version_major": 2,
       "version_minor": 0
      },
      "text/plain": [
       "HBox(children=(FloatProgress(value=0.0, description='Training', layout=Layout(flex='2'), max=1250.0, style=Pro…"
      ]
     },
     "metadata": {},
     "output_type": "display_data"
    },
    {
     "name": "stdout",
     "output_type": "stream",
     "text": [
      "Epoch 685: train=6.91235, val=7.58455, took 126.18 s\n",
      "  Validation Found 51736 of 54504, added 2077 (eff 94.92%) (0.208 FP/event)\n"
     ]
    },
    {
     "data": {
      "application/vnd.jupyter.widget-view+json": {
       "model_id": "",
       "version_major": 2,
       "version_minor": 0
      },
      "text/plain": [
       "HBox(children=(FloatProgress(value=0.0, description='Training', layout=Layout(flex='2'), max=1250.0, style=Pro…"
      ]
     },
     "metadata": {},
     "output_type": "display_data"
    },
    {
     "name": "stdout",
     "output_type": "stream",
     "text": [
      "Epoch 686: train=6.90892, val=7.66365, took 129.01 s\n",
      "  Validation Found 51771 of 54504, added 2153 (eff 94.99%) (0.216 FP/event)\n"
     ]
    },
    {
     "data": {
      "application/vnd.jupyter.widget-view+json": {
       "model_id": "",
       "version_major": 2,
       "version_minor": 0
      },
      "text/plain": [
       "HBox(children=(FloatProgress(value=0.0, description='Training', layout=Layout(flex='2'), max=1250.0, style=Pro…"
      ]
     },
     "metadata": {},
     "output_type": "display_data"
    },
    {
     "name": "stdout",
     "output_type": "stream",
     "text": [
      "Epoch 687: train=6.9084, val=7.63193, took 127.22 s\n",
      "  Validation Found 51676 of 54504, added 1972 (eff 94.81%) (0.197 FP/event)\n"
     ]
    },
    {
     "data": {
      "application/vnd.jupyter.widget-view+json": {
       "model_id": "",
       "version_major": 2,
       "version_minor": 0
      },
      "text/plain": [
       "HBox(children=(FloatProgress(value=0.0, description='Training', layout=Layout(flex='2'), max=1250.0, style=Pro…"
      ]
     },
     "metadata": {},
     "output_type": "display_data"
    },
    {
     "name": "stdout",
     "output_type": "stream",
     "text": [
      "Epoch 688: train=6.90955, val=7.60517, took 125.68 s\n",
      "  Validation Found 51647 of 54504, added 1916 (eff 94.76%) (0.192 FP/event)\n"
     ]
    },
    {
     "data": {
      "application/vnd.jupyter.widget-view+json": {
       "model_id": "",
       "version_major": 2,
       "version_minor": 0
      },
      "text/plain": [
       "HBox(children=(FloatProgress(value=0.0, description='Training', layout=Layout(flex='2'), max=1250.0, style=Pro…"
      ]
     },
     "metadata": {},
     "output_type": "display_data"
    },
    {
     "name": "stdout",
     "output_type": "stream",
     "text": [
      "Epoch 689: train=6.90731, val=7.70462, took 125.56 s\n",
      "  Validation Found 51588 of 54504, added 1882 (eff 94.65%) (0.188 FP/event)\n"
     ]
    },
    {
     "data": {
      "application/vnd.jupyter.widget-view+json": {
       "model_id": "",
       "version_major": 2,
       "version_minor": 0
      },
      "text/plain": [
       "HBox(children=(FloatProgress(value=0.0, description='Training', layout=Layout(flex='2'), max=1250.0, style=Pro…"
      ]
     },
     "metadata": {},
     "output_type": "display_data"
    },
    {
     "name": "stdout",
     "output_type": "stream",
     "text": [
      "Epoch 690: train=6.90855, val=7.65034, took 126.28 s\n",
      "  Validation Found 51716 of 54504, added 2077 (eff 94.88%) (0.208 FP/event)\n"
     ]
    },
    {
     "data": {
      "application/vnd.jupyter.widget-view+json": {
       "model_id": "",
       "version_major": 2,
       "version_minor": 0
      },
      "text/plain": [
       "HBox(children=(FloatProgress(value=0.0, description='Training', layout=Layout(flex='2'), max=1250.0, style=Pro…"
      ]
     },
     "metadata": {},
     "output_type": "display_data"
    },
    {
     "name": "stdout",
     "output_type": "stream",
     "text": [
      "Epoch 691: train=6.90913, val=7.56944, took 128.48 s\n",
      "  Validation Found 51807 of 54504, added 2240 (eff 95.05%) (0.224 FP/event)\n"
     ]
    },
    {
     "data": {
      "application/vnd.jupyter.widget-view+json": {
       "model_id": "",
       "version_major": 2,
       "version_minor": 0
      },
      "text/plain": [
       "HBox(children=(FloatProgress(value=0.0, description='Training', layout=Layout(flex='2'), max=1250.0, style=Pro…"
      ]
     },
     "metadata": {},
     "output_type": "display_data"
    },
    {
     "name": "stdout",
     "output_type": "stream",
     "text": [
      "Epoch 692: train=6.90874, val=7.63985, took 126.55 s\n",
      "  Validation Found 51767 of 54504, added 2102 (eff 94.98%) (0.211 FP/event)\n"
     ]
    },
    {
     "data": {
      "application/vnd.jupyter.widget-view+json": {
       "model_id": "",
       "version_major": 2,
       "version_minor": 0
      },
      "text/plain": [
       "HBox(children=(FloatProgress(value=0.0, description='Training', layout=Layout(flex='2'), max=1250.0, style=Pro…"
      ]
     },
     "metadata": {},
     "output_type": "display_data"
    },
    {
     "name": "stdout",
     "output_type": "stream",
     "text": [
      "Epoch 693: train=6.90856, val=7.71668, took 126.55 s\n",
      "  Validation Found 51601 of 54504, added 1869 (eff 94.67%) (0.187 FP/event)\n"
     ]
    },
    {
     "data": {
      "application/vnd.jupyter.widget-view+json": {
       "model_id": "",
       "version_major": 2,
       "version_minor": 0
      },
      "text/plain": [
       "HBox(children=(FloatProgress(value=0.0, description='Training', layout=Layout(flex='2'), max=1250.0, style=Pro…"
      ]
     },
     "metadata": {},
     "output_type": "display_data"
    },
    {
     "name": "stdout",
     "output_type": "stream",
     "text": [
      "Epoch 694: train=6.9075, val=7.77052, took 128.78 s\n",
      "  Validation Found 51549 of 54504, added 1821 (eff 94.58%) (0.182 FP/event)\n"
     ]
    },
    {
     "data": {
      "application/vnd.jupyter.widget-view+json": {
       "model_id": "",
       "version_major": 2,
       "version_minor": 0
      },
      "text/plain": [
       "HBox(children=(FloatProgress(value=0.0, description='Training', layout=Layout(flex='2'), max=1250.0, style=Pro…"
      ]
     },
     "metadata": {},
     "output_type": "display_data"
    },
    {
     "name": "stdout",
     "output_type": "stream",
     "text": [
      "Epoch 695: train=6.90968, val=7.6151, took 126.82 s\n",
      "  Validation Found 51678 of 54504, added 1967 (eff 94.82%) (0.197 FP/event)\n"
     ]
    },
    {
     "data": {
      "application/vnd.jupyter.widget-view+json": {
       "model_id": "",
       "version_major": 2,
       "version_minor": 0
      },
      "text/plain": [
       "HBox(children=(FloatProgress(value=0.0, description='Training', layout=Layout(flex='2'), max=1250.0, style=Pro…"
      ]
     },
     "metadata": {},
     "output_type": "display_data"
    },
    {
     "name": "stdout",
     "output_type": "stream",
     "text": [
      "Epoch 696: train=6.90964, val=7.69305, took 128.37 s\n",
      "  Validation Found 51571 of 54504, added 1816 (eff 94.62%) (0.182 FP/event)\n"
     ]
    },
    {
     "data": {
      "application/vnd.jupyter.widget-view+json": {
       "model_id": "",
       "version_major": 2,
       "version_minor": 0
      },
      "text/plain": [
       "HBox(children=(FloatProgress(value=0.0, description='Training', layout=Layout(flex='2'), max=1250.0, style=Pro…"
      ]
     },
     "metadata": {},
     "output_type": "display_data"
    },
    {
     "name": "stdout",
     "output_type": "stream",
     "text": [
      "Epoch 697: train=6.90886, val=7.65392, took 126.44 s\n",
      "  Validation Found 51640 of 54504, added 1915 (eff 94.75%) (0.192 FP/event)\n"
     ]
    },
    {
     "data": {
      "application/vnd.jupyter.widget-view+json": {
       "model_id": "",
       "version_major": 2,
       "version_minor": 0
      },
      "text/plain": [
       "HBox(children=(FloatProgress(value=0.0, description='Training', layout=Layout(flex='2'), max=1250.0, style=Pro…"
      ]
     },
     "metadata": {},
     "output_type": "display_data"
    },
    {
     "name": "stdout",
     "output_type": "stream",
     "text": [
      "Epoch 698: train=6.9089, val=7.69647, took 125.56 s\n",
      "  Validation Found 51708 of 54504, added 2077 (eff 94.87%) (0.208 FP/event)\n"
     ]
    },
    {
     "data": {
      "application/vnd.jupyter.widget-view+json": {
       "model_id": "",
       "version_major": 2,
       "version_minor": 0
      },
      "text/plain": [
       "HBox(children=(FloatProgress(value=0.0, description='Training', layout=Layout(flex='2'), max=1250.0, style=Pro…"
      ]
     },
     "metadata": {},
     "output_type": "display_data"
    },
    {
     "name": "stdout",
     "output_type": "stream",
     "text": [
      "Epoch 699: train=6.90753, val=7.62867, took 125.71 s\n",
      "  Validation Found 51712 of 54504, added 2031 (eff 94.88%) (0.203 FP/event)\n"
     ]
    },
    {
     "data": {
      "application/vnd.jupyter.widget-view+json": {
       "model_id": "",
       "version_major": 2,
       "version_minor": 0
      },
      "text/plain": [
       "HBox(children=(FloatProgress(value=0.0, description='Training', layout=Layout(flex='2'), max=1250.0, style=Pro…"
      ]
     },
     "metadata": {},
     "output_type": "display_data"
    },
    {
     "name": "stdout",
     "output_type": "stream",
     "text": [
      "Epoch 700: train=6.90979, val=7.66275, took 127.86 s\n",
      "  Validation Found 51680 of 54504, added 2011 (eff 94.82%) (0.201 FP/event)\n"
     ]
    },
    {
     "data": {
      "application/vnd.jupyter.widget-view+json": {
       "model_id": "",
       "version_major": 2,
       "version_minor": 0
      },
      "text/plain": [
       "HBox(children=(FloatProgress(value=0.0, description='Training', layout=Layout(flex='2'), max=1250.0, style=Pro…"
      ]
     },
     "metadata": {},
     "output_type": "display_data"
    },
    {
     "name": "stdout",
     "output_type": "stream",
     "text": [
      "Epoch 701: train=6.90793, val=7.7264, took 128.35 s\n",
      "  Validation Found 51663 of 54504, added 1902 (eff 94.79%) (0.19 FP/event)\n"
     ]
    },
    {
     "data": {
      "application/vnd.jupyter.widget-view+json": {
       "model_id": "",
       "version_major": 2,
       "version_minor": 0
      },
      "text/plain": [
       "HBox(children=(FloatProgress(value=0.0, description='Training', layout=Layout(flex='2'), max=1250.0, style=Pro…"
      ]
     },
     "metadata": {},
     "output_type": "display_data"
    },
    {
     "name": "stdout",
     "output_type": "stream",
     "text": [
      "Epoch 702: train=6.90828, val=7.64533, took 126.54 s\n",
      "  Validation Found 51685 of 54504, added 2018 (eff 94.83%) (0.202 FP/event)\n"
     ]
    },
    {
     "data": {
      "application/vnd.jupyter.widget-view+json": {
       "model_id": "",
       "version_major": 2,
       "version_minor": 0
      },
      "text/plain": [
       "HBox(children=(FloatProgress(value=0.0, description='Training', layout=Layout(flex='2'), max=1250.0, style=Pro…"
      ]
     },
     "metadata": {},
     "output_type": "display_data"
    },
    {
     "name": "stdout",
     "output_type": "stream",
     "text": [
      "Epoch 703: train=6.90932, val=7.62146, took 125.58 s\n",
      "  Validation Found 51716 of 54504, added 2042 (eff 94.88%) (0.205 FP/event)\n"
     ]
    },
    {
     "data": {
      "application/vnd.jupyter.widget-view+json": {
       "model_id": "",
       "version_major": 2,
       "version_minor": 0
      },
      "text/plain": [
       "HBox(children=(FloatProgress(value=0.0, description='Training', layout=Layout(flex='2'), max=1250.0, style=Pro…"
      ]
     },
     "metadata": {},
     "output_type": "display_data"
    },
    {
     "name": "stdout",
     "output_type": "stream",
     "text": [
      "Epoch 704: train=6.90749, val=7.64553, took 125.65 s\n",
      "  Validation Found 51561 of 54504, added 1767 (eff 94.60%) (0.177 FP/event)\n"
     ]
    },
    {
     "data": {
      "application/vnd.jupyter.widget-view+json": {
       "model_id": "",
       "version_major": 2,
       "version_minor": 0
      },
      "text/plain": [
       "HBox(children=(FloatProgress(value=0.0, description='Training', layout=Layout(flex='2'), max=1250.0, style=Pro…"
      ]
     },
     "metadata": {},
     "output_type": "display_data"
    },
    {
     "name": "stdout",
     "output_type": "stream",
     "text": [
      "Epoch 705: train=6.90807, val=7.63575, took 125.67 s\n",
      "  Validation Found 51679 of 54504, added 1950 (eff 94.82%) (0.195 FP/event)\n"
     ]
    },
    {
     "data": {
      "application/vnd.jupyter.widget-view+json": {
       "model_id": "",
       "version_major": 2,
       "version_minor": 0
      },
      "text/plain": [
       "HBox(children=(FloatProgress(value=0.0, description='Training', layout=Layout(flex='2'), max=1250.0, style=Pro…"
      ]
     },
     "metadata": {},
     "output_type": "display_data"
    },
    {
     "name": "stdout",
     "output_type": "stream",
     "text": [
      "Epoch 706: train=6.90681, val=7.5893, took 125.02 s\n",
      "  Validation Found 51694 of 54504, added 2005 (eff 94.84%) (0.201 FP/event)\n"
     ]
    },
    {
     "data": {
      "application/vnd.jupyter.widget-view+json": {
       "model_id": "",
       "version_major": 2,
       "version_minor": 0
      },
      "text/plain": [
       "HBox(children=(FloatProgress(value=0.0, description='Training', layout=Layout(flex='2'), max=1250.0, style=Pro…"
      ]
     },
     "metadata": {},
     "output_type": "display_data"
    },
    {
     "name": "stdout",
     "output_type": "stream",
     "text": [
      "Epoch 707: train=6.90844, val=7.66678, took 125.76 s\n",
      "  Validation Found 51682 of 54504, added 2029 (eff 94.82%) (0.203 FP/event)\n"
     ]
    },
    {
     "data": {
      "application/vnd.jupyter.widget-view+json": {
       "model_id": "",
       "version_major": 2,
       "version_minor": 0
      },
      "text/plain": [
       "HBox(children=(FloatProgress(value=0.0, description='Training', layout=Layout(flex='2'), max=1250.0, style=Pro…"
      ]
     },
     "metadata": {},
     "output_type": "display_data"
    },
    {
     "name": "stdout",
     "output_type": "stream",
     "text": [
      "Epoch 708: train=6.90824, val=7.69632, took 125.6 s\n",
      "  Validation Found 51710 of 54504, added 2060 (eff 94.87%) (0.206 FP/event)\n"
     ]
    },
    {
     "data": {
      "application/vnd.jupyter.widget-view+json": {
       "model_id": "",
       "version_major": 2,
       "version_minor": 0
      },
      "text/plain": [
       "HBox(children=(FloatProgress(value=0.0, description='Training', layout=Layout(flex='2'), max=1250.0, style=Pro…"
      ]
     },
     "metadata": {},
     "output_type": "display_data"
    },
    {
     "name": "stdout",
     "output_type": "stream",
     "text": [
      "Epoch 709: train=6.90693, val=7.71965, took 126.82 s\n",
      "  Validation Found 51614 of 54504, added 1826 (eff 94.70%) (0.183 FP/event)\n"
     ]
    },
    {
     "data": {
      "application/vnd.jupyter.widget-view+json": {
       "model_id": "",
       "version_major": 2,
       "version_minor": 0
      },
      "text/plain": [
       "HBox(children=(FloatProgress(value=0.0, description='Training', layout=Layout(flex='2'), max=1250.0, style=Pro…"
      ]
     },
     "metadata": {},
     "output_type": "display_data"
    },
    {
     "name": "stdout",
     "output_type": "stream",
     "text": [
      "Epoch 710: train=6.90753, val=7.58914, took 127.27 s\n",
      "  Validation Found 51778 of 54504, added 2153 (eff 95.00%) (0.216 FP/event)\n"
     ]
    },
    {
     "data": {
      "application/vnd.jupyter.widget-view+json": {
       "model_id": "",
       "version_major": 2,
       "version_minor": 0
      },
      "text/plain": [
       "HBox(children=(FloatProgress(value=0.0, description='Training', layout=Layout(flex='2'), max=1250.0, style=Pro…"
      ]
     },
     "metadata": {},
     "output_type": "display_data"
    },
    {
     "name": "stdout",
     "output_type": "stream",
     "text": [
      "Epoch 711: train=6.90658, val=7.55317, took 128.8 s\n",
      "  Validation Found 51776 of 54504, added 2143 (eff 94.99%) (0.215 FP/event)\n"
     ]
    },
    {
     "data": {
      "application/vnd.jupyter.widget-view+json": {
       "model_id": "",
       "version_major": 2,
       "version_minor": 0
      },
      "text/plain": [
       "HBox(children=(FloatProgress(value=0.0, description='Training', layout=Layout(flex='2'), max=1250.0, style=Pro…"
      ]
     },
     "metadata": {},
     "output_type": "display_data"
    },
    {
     "name": "stdout",
     "output_type": "stream",
     "text": [
      "Epoch 712: train=6.90619, val=7.62311, took 128.27 s\n",
      "  Validation Found 51652 of 54504, added 1949 (eff 94.77%) (0.195 FP/event)\n"
     ]
    },
    {
     "data": {
      "application/vnd.jupyter.widget-view+json": {
       "model_id": "",
       "version_major": 2,
       "version_minor": 0
      },
      "text/plain": [
       "HBox(children=(FloatProgress(value=0.0, description='Training', layout=Layout(flex='2'), max=1250.0, style=Pro…"
      ]
     },
     "metadata": {},
     "output_type": "display_data"
    },
    {
     "name": "stdout",
     "output_type": "stream",
     "text": [
      "Epoch 713: train=6.90722, val=7.67834, took 128.62 s\n",
      "  Validation Found 51623 of 54504, added 1900 (eff 94.71%) (0.19 FP/event)\n"
     ]
    },
    {
     "data": {
      "application/vnd.jupyter.widget-view+json": {
       "model_id": "",
       "version_major": 2,
       "version_minor": 0
      },
      "text/plain": [
       "HBox(children=(FloatProgress(value=0.0, description='Training', layout=Layout(flex='2'), max=1250.0, style=Pro…"
      ]
     },
     "metadata": {},
     "output_type": "display_data"
    },
    {
     "name": "stdout",
     "output_type": "stream",
     "text": [
      "Epoch 714: train=6.90616, val=7.65187, took 127.96 s\n",
      "  Validation Found 51634 of 54504, added 1982 (eff 94.73%) (0.198 FP/event)\n"
     ]
    },
    {
     "data": {
      "application/vnd.jupyter.widget-view+json": {
       "model_id": "",
       "version_major": 2,
       "version_minor": 0
      },
      "text/plain": [
       "HBox(children=(FloatProgress(value=0.0, description='Training', layout=Layout(flex='2'), max=1250.0, style=Pro…"
      ]
     },
     "metadata": {},
     "output_type": "display_data"
    },
    {
     "name": "stdout",
     "output_type": "stream",
     "text": [
      "Epoch 715: train=6.90728, val=7.65219, took 128.22 s\n",
      "  Validation Found 51629 of 54504, added 1859 (eff 94.73%) (0.186 FP/event)\n"
     ]
    },
    {
     "data": {
      "application/vnd.jupyter.widget-view+json": {
       "model_id": "",
       "version_major": 2,
       "version_minor": 0
      },
      "text/plain": [
       "HBox(children=(FloatProgress(value=0.0, description='Training', layout=Layout(flex='2'), max=1250.0, style=Pro…"
      ]
     },
     "metadata": {},
     "output_type": "display_data"
    },
    {
     "name": "stdout",
     "output_type": "stream",
     "text": [
      "Epoch 716: train=6.90527, val=7.73287, took 128.21 s\n",
      "  Validation Found 51540 of 54504, added 1755 (eff 94.56%) (0.176 FP/event)\n"
     ]
    },
    {
     "data": {
      "application/vnd.jupyter.widget-view+json": {
       "model_id": "",
       "version_major": 2,
       "version_minor": 0
      },
      "text/plain": [
       "HBox(children=(FloatProgress(value=0.0, description='Training', layout=Layout(flex='2'), max=1250.0, style=Pro…"
      ]
     },
     "metadata": {},
     "output_type": "display_data"
    },
    {
     "name": "stdout",
     "output_type": "stream",
     "text": [
      "Epoch 717: train=6.9072, val=7.66477, took 127.99 s\n",
      "  Validation Found 51746 of 54504, added 2160 (eff 94.94%) (0.216 FP/event)\n"
     ]
    },
    {
     "data": {
      "application/vnd.jupyter.widget-view+json": {
       "model_id": "",
       "version_major": 2,
       "version_minor": 0
      },
      "text/plain": [
       "HBox(children=(FloatProgress(value=0.0, description='Training', layout=Layout(flex='2'), max=1250.0, style=Pro…"
      ]
     },
     "metadata": {},
     "output_type": "display_data"
    },
    {
     "name": "stdout",
     "output_type": "stream",
     "text": [
      "Epoch 718: train=6.90668, val=7.65786, took 128.45 s\n",
      "  Validation Found 51661 of 54504, added 1974 (eff 94.78%) (0.198 FP/event)\n"
     ]
    },
    {
     "data": {
      "application/vnd.jupyter.widget-view+json": {
       "model_id": "",
       "version_major": 2,
       "version_minor": 0
      },
      "text/plain": [
       "HBox(children=(FloatProgress(value=0.0, description='Training', layout=Layout(flex='2'), max=1250.0, style=Pro…"
      ]
     },
     "metadata": {},
     "output_type": "display_data"
    },
    {
     "name": "stdout",
     "output_type": "stream",
     "text": [
      "Epoch 719: train=6.9067, val=7.72263, took 127.68 s\n",
      "  Validation Found 51577 of 54504, added 1884 (eff 94.63%) (0.189 FP/event)\n"
     ]
    },
    {
     "data": {
      "application/vnd.jupyter.widget-view+json": {
       "model_id": "",
       "version_major": 2,
       "version_minor": 0
      },
      "text/plain": [
       "HBox(children=(FloatProgress(value=0.0, description='Training', layout=Layout(flex='2'), max=1250.0, style=Pro…"
      ]
     },
     "metadata": {},
     "output_type": "display_data"
    },
    {
     "name": "stdout",
     "output_type": "stream",
     "text": [
      "Epoch 720: train=6.90765, val=7.64342, took 128.72 s\n",
      "  Validation Found 51688 of 54504, added 2024 (eff 94.83%) (0.203 FP/event)\n"
     ]
    },
    {
     "data": {
      "application/vnd.jupyter.widget-view+json": {
       "model_id": "",
       "version_major": 2,
       "version_minor": 0
      },
      "text/plain": [
       "HBox(children=(FloatProgress(value=0.0, description='Training', layout=Layout(flex='2'), max=1250.0, style=Pro…"
      ]
     },
     "metadata": {},
     "output_type": "display_data"
    },
    {
     "name": "stdout",
     "output_type": "stream",
     "text": [
      "Epoch 721: train=6.90516, val=7.69263, took 128.0 s\n",
      "  Validation Found 51634 of 54504, added 1937 (eff 94.73%) (0.194 FP/event)\n"
     ]
    },
    {
     "data": {
      "application/vnd.jupyter.widget-view+json": {
       "model_id": "",
       "version_major": 2,
       "version_minor": 0
      },
      "text/plain": [
       "HBox(children=(FloatProgress(value=0.0, description='Training', layout=Layout(flex='2'), max=1250.0, style=Pro…"
      ]
     },
     "metadata": {},
     "output_type": "display_data"
    },
    {
     "name": "stdout",
     "output_type": "stream",
     "text": [
      "Epoch 722: train=6.90561, val=7.57531, took 125.92 s\n",
      "  Validation Found 51711 of 54504, added 2128 (eff 94.88%) (0.213 FP/event)\n"
     ]
    },
    {
     "data": {
      "application/vnd.jupyter.widget-view+json": {
       "model_id": "",
       "version_major": 2,
       "version_minor": 0
      },
      "text/plain": [
       "HBox(children=(FloatProgress(value=0.0, description='Training', layout=Layout(flex='2'), max=1250.0, style=Pro…"
      ]
     },
     "metadata": {},
     "output_type": "display_data"
    },
    {
     "name": "stdout",
     "output_type": "stream",
     "text": [
      "Epoch 723: train=6.90138, val=7.57953, took 125.64 s\n",
      "  Validation Found 51728 of 54504, added 2080 (eff 94.91%) (0.208 FP/event)\n"
     ]
    },
    {
     "data": {
      "application/vnd.jupyter.widget-view+json": {
       "model_id": "",
       "version_major": 2,
       "version_minor": 0
      },
      "text/plain": [
       "HBox(children=(FloatProgress(value=0.0, description='Training', layout=Layout(flex='2'), max=1250.0, style=Pro…"
      ]
     },
     "metadata": {},
     "output_type": "display_data"
    },
    {
     "name": "stdout",
     "output_type": "stream",
     "text": [
      "Epoch 724: train=6.90617, val=7.64885, took 125.56 s\n",
      "  Validation Found 51732 of 54504, added 2071 (eff 94.91%) (0.207 FP/event)\n"
     ]
    },
    {
     "data": {
      "application/vnd.jupyter.widget-view+json": {
       "model_id": "",
       "version_major": 2,
       "version_minor": 0
      },
      "text/plain": [
       "HBox(children=(FloatProgress(value=0.0, description='Training', layout=Layout(flex='2'), max=1250.0, style=Pro…"
      ]
     },
     "metadata": {},
     "output_type": "display_data"
    },
    {
     "name": "stdout",
     "output_type": "stream",
     "text": [
      "Epoch 725: train=6.90679, val=7.71254, took 125.67 s\n",
      "  Validation Found 51618 of 54504, added 1893 (eff 94.70%) (0.19 FP/event)\n"
     ]
    },
    {
     "data": {
      "application/vnd.jupyter.widget-view+json": {
       "model_id": "",
       "version_major": 2,
       "version_minor": 0
      },
      "text/plain": [
       "HBox(children=(FloatProgress(value=0.0, description='Training', layout=Layout(flex='2'), max=1250.0, style=Pro…"
      ]
     },
     "metadata": {},
     "output_type": "display_data"
    },
    {
     "name": "stdout",
     "output_type": "stream",
     "text": [
      "Epoch 726: train=6.90381, val=7.64176, took 125.65 s\n",
      "  Validation Found 51716 of 54504, added 1992 (eff 94.88%) (0.199 FP/event)\n"
     ]
    },
    {
     "data": {
      "application/vnd.jupyter.widget-view+json": {
       "model_id": "",
       "version_major": 2,
       "version_minor": 0
      },
      "text/plain": [
       "HBox(children=(FloatProgress(value=0.0, description='Training', layout=Layout(flex='2'), max=1250.0, style=Pro…"
      ]
     },
     "metadata": {},
     "output_type": "display_data"
    },
    {
     "name": "stdout",
     "output_type": "stream",
     "text": [
      "Epoch 727: train=6.90421, val=7.70142, took 125.65 s\n",
      "  Validation Found 51725 of 54504, added 2067 (eff 94.90%) (0.207 FP/event)\n"
     ]
    },
    {
     "data": {
      "application/vnd.jupyter.widget-view+json": {
       "model_id": "",
       "version_major": 2,
       "version_minor": 0
      },
      "text/plain": [
       "HBox(children=(FloatProgress(value=0.0, description='Training', layout=Layout(flex='2'), max=1250.0, style=Pro…"
      ]
     },
     "metadata": {},
     "output_type": "display_data"
    },
    {
     "name": "stdout",
     "output_type": "stream",
     "text": [
      "Epoch 728: train=6.90423, val=7.56849, took 125.72 s\n",
      "  Validation Found 51729 of 54504, added 2069 (eff 94.91%) (0.207 FP/event)\n"
     ]
    },
    {
     "data": {
      "application/vnd.jupyter.widget-view+json": {
       "model_id": "",
       "version_major": 2,
       "version_minor": 0
      },
      "text/plain": [
       "HBox(children=(FloatProgress(value=0.0, description='Training', layout=Layout(flex='2'), max=1250.0, style=Pro…"
      ]
     },
     "metadata": {},
     "output_type": "display_data"
    },
    {
     "name": "stdout",
     "output_type": "stream",
     "text": [
      "Epoch 729: train=6.90402, val=7.67085, took 125.65 s\n",
      "  Validation Found 51673 of 54504, added 1930 (eff 94.81%) (0.193 FP/event)\n"
     ]
    },
    {
     "data": {
      "application/vnd.jupyter.widget-view+json": {
       "model_id": "",
       "version_major": 2,
       "version_minor": 0
      },
      "text/plain": [
       "HBox(children=(FloatProgress(value=0.0, description='Training', layout=Layout(flex='2'), max=1250.0, style=Pro…"
      ]
     },
     "metadata": {},
     "output_type": "display_data"
    },
    {
     "name": "stdout",
     "output_type": "stream",
     "text": [
      "Epoch 730: train=6.90203, val=7.73472, took 125.52 s\n",
      "  Validation Found 51587 of 54504, added 1880 (eff 94.65%) (0.188 FP/event)\n"
     ]
    },
    {
     "data": {
      "application/vnd.jupyter.widget-view+json": {
       "model_id": "",
       "version_major": 2,
       "version_minor": 0
      },
      "text/plain": [
       "HBox(children=(FloatProgress(value=0.0, description='Training', layout=Layout(flex='2'), max=1250.0, style=Pro…"
      ]
     },
     "metadata": {},
     "output_type": "display_data"
    },
    {
     "name": "stdout",
     "output_type": "stream",
     "text": [
      "Epoch 731: train=6.90333, val=7.65133, took 125.64 s\n",
      "  Validation Found 51648 of 54504, added 1936 (eff 94.76%) (0.194 FP/event)\n"
     ]
    },
    {
     "data": {
      "application/vnd.jupyter.widget-view+json": {
       "model_id": "",
       "version_major": 2,
       "version_minor": 0
      },
      "text/plain": [
       "HBox(children=(FloatProgress(value=0.0, description='Training', layout=Layout(flex='2'), max=1250.0, style=Pro…"
      ]
     },
     "metadata": {},
     "output_type": "display_data"
    },
    {
     "name": "stdout",
     "output_type": "stream",
     "text": [
      "Epoch 732: train=6.90324, val=7.65958, took 125.69 s\n",
      "  Validation Found 51700 of 54504, added 2017 (eff 94.86%) (0.202 FP/event)\n"
     ]
    },
    {
     "data": {
      "application/vnd.jupyter.widget-view+json": {
       "model_id": "",
       "version_major": 2,
       "version_minor": 0
      },
      "text/plain": [
       "HBox(children=(FloatProgress(value=0.0, description='Training', layout=Layout(flex='2'), max=1250.0, style=Pro…"
      ]
     },
     "metadata": {},
     "output_type": "display_data"
    },
    {
     "name": "stdout",
     "output_type": "stream",
     "text": [
      "Epoch 733: train=6.90285, val=7.62116, took 125.65 s\n",
      "  Validation Found 51696 of 54504, added 2013 (eff 94.85%) (0.202 FP/event)\n"
     ]
    },
    {
     "data": {
      "application/vnd.jupyter.widget-view+json": {
       "model_id": "",
       "version_major": 2,
       "version_minor": 0
      },
      "text/plain": [
       "HBox(children=(FloatProgress(value=0.0, description='Training', layout=Layout(flex='2'), max=1250.0, style=Pro…"
      ]
     },
     "metadata": {},
     "output_type": "display_data"
    },
    {
     "name": "stdout",
     "output_type": "stream",
     "text": [
      "Epoch 734: train=6.90317, val=7.71058, took 125.6 s\n",
      "  Validation Found 51564 of 54504, added 1778 (eff 94.61%) (0.178 FP/event)\n"
     ]
    },
    {
     "data": {
      "application/vnd.jupyter.widget-view+json": {
       "model_id": "",
       "version_major": 2,
       "version_minor": 0
      },
      "text/plain": [
       "HBox(children=(FloatProgress(value=0.0, description='Training', layout=Layout(flex='2'), max=1250.0, style=Pro…"
      ]
     },
     "metadata": {},
     "output_type": "display_data"
    },
    {
     "name": "stdout",
     "output_type": "stream",
     "text": [
      "Epoch 735: train=6.90422, val=7.7127, took 125.1 s\n",
      "  Validation Found 51587 of 54504, added 1811 (eff 94.65%) (0.181 FP/event)\n"
     ]
    },
    {
     "data": {
      "application/vnd.jupyter.widget-view+json": {
       "model_id": "",
       "version_major": 2,
       "version_minor": 0
      },
      "text/plain": [
       "HBox(children=(FloatProgress(value=0.0, description='Training', layout=Layout(flex='2'), max=1250.0, style=Pro…"
      ]
     },
     "metadata": {},
     "output_type": "display_data"
    },
    {
     "name": "stdout",
     "output_type": "stream",
     "text": [
      "Epoch 736: train=6.90187, val=7.59665, took 125.41 s\n",
      "  Validation Found 51687 of 54504, added 2028 (eff 94.83%) (0.203 FP/event)\n"
     ]
    },
    {
     "data": {
      "application/vnd.jupyter.widget-view+json": {
       "model_id": "",
       "version_major": 2,
       "version_minor": 0
      },
      "text/plain": [
       "HBox(children=(FloatProgress(value=0.0, description='Training', layout=Layout(flex='2'), max=1250.0, style=Pro…"
      ]
     },
     "metadata": {},
     "output_type": "display_data"
    },
    {
     "name": "stdout",
     "output_type": "stream",
     "text": [
      "Epoch 737: train=6.90423, val=7.64578, took 125.67 s\n",
      "  Validation Found 51572 of 54504, added 1879 (eff 94.62%) (0.188 FP/event)\n"
     ]
    },
    {
     "data": {
      "application/vnd.jupyter.widget-view+json": {
       "model_id": "",
       "version_major": 2,
       "version_minor": 0
      },
      "text/plain": [
       "HBox(children=(FloatProgress(value=0.0, description='Training', layout=Layout(flex='2'), max=1250.0, style=Pro…"
      ]
     },
     "metadata": {},
     "output_type": "display_data"
    },
    {
     "name": "stdout",
     "output_type": "stream",
     "text": [
      "Epoch 738: train=6.90346, val=7.63771, took 125.75 s\n",
      "  Validation Found 51644 of 54504, added 1919 (eff 94.75%) (0.192 FP/event)\n"
     ]
    },
    {
     "data": {
      "application/vnd.jupyter.widget-view+json": {
       "model_id": "",
       "version_major": 2,
       "version_minor": 0
      },
      "text/plain": [
       "HBox(children=(FloatProgress(value=0.0, description='Training', layout=Layout(flex='2'), max=1250.0, style=Pro…"
      ]
     },
     "metadata": {},
     "output_type": "display_data"
    },
    {
     "name": "stdout",
     "output_type": "stream",
     "text": [
      "Epoch 739: train=6.90387, val=7.67073, took 125.63 s\n",
      "  Validation Found 51657 of 54504, added 1996 (eff 94.78%) (0.2 FP/event)\n"
     ]
    },
    {
     "data": {
      "application/vnd.jupyter.widget-view+json": {
       "model_id": "",
       "version_major": 2,
       "version_minor": 0
      },
      "text/plain": [
       "HBox(children=(FloatProgress(value=0.0, description='Training', layout=Layout(flex='2'), max=1250.0, style=Pro…"
      ]
     },
     "metadata": {},
     "output_type": "display_data"
    },
    {
     "name": "stdout",
     "output_type": "stream",
     "text": [
      "Epoch 740: train=6.90544, val=7.63518, took 125.51 s\n",
      "  Validation Found 51718 of 54504, added 2023 (eff 94.89%) (0.203 FP/event)\n"
     ]
    },
    {
     "data": {
      "application/vnd.jupyter.widget-view+json": {
       "model_id": "",
       "version_major": 2,
       "version_minor": 0
      },
      "text/plain": [
       "HBox(children=(FloatProgress(value=0.0, description='Training', layout=Layout(flex='2'), max=1250.0, style=Pro…"
      ]
     },
     "metadata": {},
     "output_type": "display_data"
    },
    {
     "name": "stdout",
     "output_type": "stream",
     "text": [
      "Epoch 741: train=6.90363, val=7.73522, took 125.68 s\n",
      "  Validation Found 51587 of 54504, added 1853 (eff 94.65%) (0.186 FP/event)\n"
     ]
    },
    {
     "data": {
      "application/vnd.jupyter.widget-view+json": {
       "model_id": "",
       "version_major": 2,
       "version_minor": 0
      },
      "text/plain": [
       "HBox(children=(FloatProgress(value=0.0, description='Training', layout=Layout(flex='2'), max=1250.0, style=Pro…"
      ]
     },
     "metadata": {},
     "output_type": "display_data"
    },
    {
     "name": "stdout",
     "output_type": "stream",
     "text": [
      "Epoch 742: train=6.90281, val=7.61409, took 125.71 s\n",
      "  Validation Found 51780 of 54504, added 2211 (eff 95.00%) (0.221 FP/event)\n"
     ]
    },
    {
     "data": {
      "application/vnd.jupyter.widget-view+json": {
       "model_id": "",
       "version_major": 2,
       "version_minor": 0
      },
      "text/plain": [
       "HBox(children=(FloatProgress(value=0.0, description='Training', layout=Layout(flex='2'), max=1250.0, style=Pro…"
      ]
     },
     "metadata": {},
     "output_type": "display_data"
    },
    {
     "name": "stdout",
     "output_type": "stream",
     "text": [
      "Epoch 743: train=6.90284, val=7.63555, took 125.67 s\n",
      "  Validation Found 51629 of 54504, added 1881 (eff 94.73%) (0.188 FP/event)\n"
     ]
    },
    {
     "data": {
      "application/vnd.jupyter.widget-view+json": {
       "model_id": "",
       "version_major": 2,
       "version_minor": 0
      },
      "text/plain": [
       "HBox(children=(FloatProgress(value=0.0, description='Training', layout=Layout(flex='2'), max=1250.0, style=Pro…"
      ]
     },
     "metadata": {},
     "output_type": "display_data"
    },
    {
     "name": "stdout",
     "output_type": "stream",
     "text": [
      "Epoch 744: train=6.9043, val=7.72777, took 125.65 s\n",
      "  Validation Found 51606 of 54504, added 1857 (eff 94.68%) (0.186 FP/event)\n"
     ]
    },
    {
     "data": {
      "application/vnd.jupyter.widget-view+json": {
       "model_id": "",
       "version_major": 2,
       "version_minor": 0
      },
      "text/plain": [
       "HBox(children=(FloatProgress(value=0.0, description='Training', layout=Layout(flex='2'), max=1250.0, style=Pro…"
      ]
     },
     "metadata": {},
     "output_type": "display_data"
    },
    {
     "name": "stdout",
     "output_type": "stream",
     "text": [
      "Epoch 745: train=6.90429, val=7.62015, took 125.55 s\n",
      "  Validation Found 51724 of 54504, added 1990 (eff 94.90%) (0.199 FP/event)\n"
     ]
    },
    {
     "data": {
      "application/vnd.jupyter.widget-view+json": {
       "model_id": "",
       "version_major": 2,
       "version_minor": 0
      },
      "text/plain": [
       "HBox(children=(FloatProgress(value=0.0, description='Training', layout=Layout(flex='2'), max=1250.0, style=Pro…"
      ]
     },
     "metadata": {},
     "output_type": "display_data"
    },
    {
     "name": "stdout",
     "output_type": "stream",
     "text": [
      "Epoch 746: train=6.90266, val=7.69095, took 125.58 s\n",
      "  Validation Found 51594 of 54504, added 1812 (eff 94.66%) (0.181 FP/event)\n"
     ]
    },
    {
     "data": {
      "application/vnd.jupyter.widget-view+json": {
       "model_id": "",
       "version_major": 2,
       "version_minor": 0
      },
      "text/plain": [
       "HBox(children=(FloatProgress(value=0.0, description='Training', layout=Layout(flex='2'), max=1250.0, style=Pro…"
      ]
     },
     "metadata": {},
     "output_type": "display_data"
    },
    {
     "name": "stdout",
     "output_type": "stream",
     "text": [
      "Epoch 747: train=6.90457, val=7.63421, took 125.59 s\n",
      "  Validation Found 51604 of 54504, added 1858 (eff 94.68%) (0.186 FP/event)\n"
     ]
    },
    {
     "data": {
      "application/vnd.jupyter.widget-view+json": {
       "model_id": "",
       "version_major": 2,
       "version_minor": 0
      },
      "text/plain": [
       "HBox(children=(FloatProgress(value=0.0, description='Training', layout=Layout(flex='2'), max=1250.0, style=Pro…"
      ]
     },
     "metadata": {},
     "output_type": "display_data"
    },
    {
     "name": "stdout",
     "output_type": "stream",
     "text": [
      "Epoch 748: train=6.90276, val=7.65516, took 125.7 s\n",
      "  Validation Found 51644 of 54504, added 1918 (eff 94.75%) (0.192 FP/event)\n"
     ]
    },
    {
     "data": {
      "application/vnd.jupyter.widget-view+json": {
       "model_id": "",
       "version_major": 2,
       "version_minor": 0
      },
      "text/plain": [
       "HBox(children=(FloatProgress(value=0.0, description='Training', layout=Layout(flex='2'), max=1250.0, style=Pro…"
      ]
     },
     "metadata": {},
     "output_type": "display_data"
    },
    {
     "name": "stdout",
     "output_type": "stream",
     "text": [
      "Epoch 749: train=6.90219, val=7.67471, took 125.57 s\n",
      "  Validation Found 51715 of 54504, added 1997 (eff 94.88%) (0.2 FP/event)\n"
     ]
    },
    {
     "data": {
      "application/vnd.jupyter.widget-view+json": {
       "model_id": "",
       "version_major": 2,
       "version_minor": 0
      },
      "text/plain": [
       "HBox(children=(FloatProgress(value=0.0, description='Training', layout=Layout(flex='2'), max=1250.0, style=Pro…"
      ]
     },
     "metadata": {},
     "output_type": "display_data"
    },
    {
     "name": "stdout",
     "output_type": "stream",
     "text": [
      "Epoch 750: train=6.90125, val=7.66122, took 125.54 s\n",
      "  Validation Found 51646 of 54504, added 1950 (eff 94.76%) (0.195 FP/event)\n"
     ]
    },
    {
     "data": {
      "application/vnd.jupyter.widget-view+json": {
       "model_id": "",
       "version_major": 2,
       "version_minor": 0
      },
      "text/plain": [
       "HBox(children=(FloatProgress(value=0.0, description='Training', layout=Layout(flex='2'), max=1250.0, style=Pro…"
      ]
     },
     "metadata": {},
     "output_type": "display_data"
    },
    {
     "name": "stdout",
     "output_type": "stream",
     "text": [
      "Epoch 751: train=6.90229, val=7.6292, took 125.65 s\n",
      "  Validation Found 51718 of 54504, added 2140 (eff 94.89%) (0.214 FP/event)\n"
     ]
    },
    {
     "data": {
      "application/vnd.jupyter.widget-view+json": {
       "model_id": "",
       "version_major": 2,
       "version_minor": 0
      },
      "text/plain": [
       "HBox(children=(FloatProgress(value=0.0, description='Training', layout=Layout(flex='2'), max=1250.0, style=Pro…"
      ]
     },
     "metadata": {},
     "output_type": "display_data"
    },
    {
     "name": "stdout",
     "output_type": "stream",
     "text": [
      "Epoch 752: train=6.90481, val=7.66546, took 125.63 s\n",
      "  Validation Found 51625 of 54504, added 1968 (eff 94.72%) (0.197 FP/event)\n"
     ]
    },
    {
     "data": {
      "application/vnd.jupyter.widget-view+json": {
       "model_id": "",
       "version_major": 2,
       "version_minor": 0
      },
      "text/plain": [
       "HBox(children=(FloatProgress(value=0.0, description='Training', layout=Layout(flex='2'), max=1250.0, style=Pro…"
      ]
     },
     "metadata": {},
     "output_type": "display_data"
    },
    {
     "name": "stdout",
     "output_type": "stream",
     "text": [
      "Epoch 753: train=6.90286, val=7.68132, took 125.66 s\n",
      "  Validation Found 51693 of 54504, added 2049 (eff 94.84%) (0.205 FP/event)\n"
     ]
    },
    {
     "data": {
      "application/vnd.jupyter.widget-view+json": {
       "model_id": "",
       "version_major": 2,
       "version_minor": 0
      },
      "text/plain": [
       "HBox(children=(FloatProgress(value=0.0, description='Training', layout=Layout(flex='2'), max=1250.0, style=Pro…"
      ]
     },
     "metadata": {},
     "output_type": "display_data"
    },
    {
     "name": "stdout",
     "output_type": "stream",
     "text": [
      "Epoch 754: train=6.90054, val=7.68619, took 125.62 s\n",
      "  Validation Found 51541 of 54504, added 1763 (eff 94.56%) (0.177 FP/event)\n"
     ]
    },
    {
     "data": {
      "application/vnd.jupyter.widget-view+json": {
       "model_id": "",
       "version_major": 2,
       "version_minor": 0
      },
      "text/plain": [
       "HBox(children=(FloatProgress(value=0.0, description='Training', layout=Layout(flex='2'), max=1250.0, style=Pro…"
      ]
     },
     "metadata": {},
     "output_type": "display_data"
    },
    {
     "name": "stdout",
     "output_type": "stream",
     "text": [
      "Epoch 755: train=6.90272, val=7.64868, took 125.6 s\n",
      "  Validation Found 51701 of 54504, added 1987 (eff 94.86%) (0.199 FP/event)\n"
     ]
    },
    {
     "data": {
      "application/vnd.jupyter.widget-view+json": {
       "model_id": "",
       "version_major": 2,
       "version_minor": 0
      },
      "text/plain": [
       "HBox(children=(FloatProgress(value=0.0, description='Training', layout=Layout(flex='2'), max=1250.0, style=Pro…"
      ]
     },
     "metadata": {},
     "output_type": "display_data"
    },
    {
     "name": "stdout",
     "output_type": "stream",
     "text": [
      "Epoch 756: train=6.89864, val=7.65397, took 125.59 s\n",
      "  Validation Found 51628 of 54504, added 1970 (eff 94.72%) (0.197 FP/event)\n"
     ]
    },
    {
     "data": {
      "application/vnd.jupyter.widget-view+json": {
       "model_id": "",
       "version_major": 2,
       "version_minor": 0
      },
      "text/plain": [
       "HBox(children=(FloatProgress(value=0.0, description='Training', layout=Layout(flex='2'), max=1250.0, style=Pro…"
      ]
     },
     "metadata": {},
     "output_type": "display_data"
    },
    {
     "name": "stdout",
     "output_type": "stream",
     "text": [
      "Epoch 757: train=6.90252, val=7.70169, took 125.65 s\n",
      "  Validation Found 51634 of 54504, added 1876 (eff 94.73%) (0.188 FP/event)\n"
     ]
    },
    {
     "data": {
      "application/vnd.jupyter.widget-view+json": {
       "model_id": "",
       "version_major": 2,
       "version_minor": 0
      },
      "text/plain": [
       "HBox(children=(FloatProgress(value=0.0, description='Training', layout=Layout(flex='2'), max=1250.0, style=Pro…"
      ]
     },
     "metadata": {},
     "output_type": "display_data"
    },
    {
     "name": "stdout",
     "output_type": "stream",
     "text": [
      "Epoch 758: train=6.90278, val=7.67617, took 125.57 s\n",
      "  Validation Found 51588 of 54504, added 1862 (eff 94.65%) (0.186 FP/event)\n"
     ]
    },
    {
     "data": {
      "application/vnd.jupyter.widget-view+json": {
       "model_id": "",
       "version_major": 2,
       "version_minor": 0
      },
      "text/plain": [
       "HBox(children=(FloatProgress(value=0.0, description='Training', layout=Layout(flex='2'), max=1250.0, style=Pro…"
      ]
     },
     "metadata": {},
     "output_type": "display_data"
    },
    {
     "name": "stdout",
     "output_type": "stream",
     "text": [
      "Epoch 759: train=6.90065, val=7.65006, took 125.7 s\n",
      "  Validation Found 51665 of 54504, added 1936 (eff 94.79%) (0.194 FP/event)\n"
     ]
    },
    {
     "data": {
      "application/vnd.jupyter.widget-view+json": {
       "model_id": "",
       "version_major": 2,
       "version_minor": 0
      },
      "text/plain": [
       "HBox(children=(FloatProgress(value=0.0, description='Training', layout=Layout(flex='2'), max=1250.0, style=Pro…"
      ]
     },
     "metadata": {},
     "output_type": "display_data"
    },
    {
     "name": "stdout",
     "output_type": "stream",
     "text": [
      "Epoch 760: train=6.90274, val=7.68969, took 125.41 s\n",
      "  Validation Found 51587 of 54504, added 1883 (eff 94.65%) (0.189 FP/event)\n"
     ]
    },
    {
     "data": {
      "application/vnd.jupyter.widget-view+json": {
       "model_id": "",
       "version_major": 2,
       "version_minor": 0
      },
      "text/plain": [
       "HBox(children=(FloatProgress(value=0.0, description='Training', layout=Layout(flex='2'), max=1250.0, style=Pro…"
      ]
     },
     "metadata": {},
     "output_type": "display_data"
    },
    {
     "name": "stdout",
     "output_type": "stream",
     "text": [
      "Epoch 761: train=6.89986, val=7.6273, took 125.41 s\n",
      "  Validation Found 51690 of 54504, added 2054 (eff 94.84%) (0.206 FP/event)\n"
     ]
    },
    {
     "data": {
      "application/vnd.jupyter.widget-view+json": {
       "model_id": "",
       "version_major": 2,
       "version_minor": 0
      },
      "text/plain": [
       "HBox(children=(FloatProgress(value=0.0, description='Training', layout=Layout(flex='2'), max=1250.0, style=Pro…"
      ]
     },
     "metadata": {},
     "output_type": "display_data"
    },
    {
     "name": "stdout",
     "output_type": "stream",
     "text": [
      "Epoch 762: train=6.90159, val=7.70017, took 125.55 s\n",
      "  Validation Found 51720 of 54504, added 2040 (eff 94.89%) (0.204 FP/event)\n"
     ]
    },
    {
     "data": {
      "application/vnd.jupyter.widget-view+json": {
       "model_id": "",
       "version_major": 2,
       "version_minor": 0
      },
      "text/plain": [
       "HBox(children=(FloatProgress(value=0.0, description='Training', layout=Layout(flex='2'), max=1250.0, style=Pro…"
      ]
     },
     "metadata": {},
     "output_type": "display_data"
    },
    {
     "name": "stdout",
     "output_type": "stream",
     "text": [
      "Epoch 763: train=6.90269, val=7.70544, took 125.63 s\n",
      "  Validation Found 51650 of 54504, added 1867 (eff 94.76%) (0.187 FP/event)\n"
     ]
    },
    {
     "data": {
      "application/vnd.jupyter.widget-view+json": {
       "model_id": "",
       "version_major": 2,
       "version_minor": 0
      },
      "text/plain": [
       "HBox(children=(FloatProgress(value=0.0, description='Training', layout=Layout(flex='2'), max=1250.0, style=Pro…"
      ]
     },
     "metadata": {},
     "output_type": "display_data"
    },
    {
     "name": "stdout",
     "output_type": "stream",
     "text": [
      "Epoch 764: train=6.8997, val=7.72261, took 125.62 s\n",
      "  Validation Found 51682 of 54504, added 1929 (eff 94.82%) (0.193 FP/event)\n"
     ]
    },
    {
     "data": {
      "application/vnd.jupyter.widget-view+json": {
       "model_id": "",
       "version_major": 2,
       "version_minor": 0
      },
      "text/plain": [
       "HBox(children=(FloatProgress(value=0.0, description='Training', layout=Layout(flex='2'), max=1250.0, style=Pro…"
      ]
     },
     "metadata": {},
     "output_type": "display_data"
    },
    {
     "name": "stdout",
     "output_type": "stream",
     "text": [
      "Epoch 765: train=6.90155, val=7.676, took 125.57 s\n",
      "  Validation Found 51667 of 54504, added 1984 (eff 94.79%) (0.199 FP/event)\n"
     ]
    },
    {
     "data": {
      "application/vnd.jupyter.widget-view+json": {
       "model_id": "",
       "version_major": 2,
       "version_minor": 0
      },
      "text/plain": [
       "HBox(children=(FloatProgress(value=0.0, description='Training', layout=Layout(flex='2'), max=1250.0, style=Pro…"
      ]
     },
     "metadata": {},
     "output_type": "display_data"
    },
    {
     "name": "stdout",
     "output_type": "stream",
     "text": [
      "Epoch 766: train=6.90338, val=7.6117, took 125.56 s\n",
      "  Validation Found 51700 of 54504, added 2046 (eff 94.86%) (0.205 FP/event)\n"
     ]
    },
    {
     "data": {
      "application/vnd.jupyter.widget-view+json": {
       "model_id": "",
       "version_major": 2,
       "version_minor": 0
      },
      "text/plain": [
       "HBox(children=(FloatProgress(value=0.0, description='Training', layout=Layout(flex='2'), max=1250.0, style=Pro…"
      ]
     },
     "metadata": {},
     "output_type": "display_data"
    },
    {
     "name": "stdout",
     "output_type": "stream",
     "text": [
      "Epoch 767: train=6.90164, val=7.619, took 125.65 s\n",
      "  Validation Found 51688 of 54504, added 2013 (eff 94.83%) (0.202 FP/event)\n"
     ]
    },
    {
     "data": {
      "application/vnd.jupyter.widget-view+json": {
       "model_id": "",
       "version_major": 2,
       "version_minor": 0
      },
      "text/plain": [
       "HBox(children=(FloatProgress(value=0.0, description='Training', layout=Layout(flex='2'), max=1250.0, style=Pro…"
      ]
     },
     "metadata": {},
     "output_type": "display_data"
    },
    {
     "name": "stdout",
     "output_type": "stream",
     "text": [
      "Epoch 768: train=6.90286, val=7.65971, took 125.67 s\n",
      "  Validation Found 51708 of 54504, added 2021 (eff 94.87%) (0.202 FP/event)\n"
     ]
    },
    {
     "data": {
      "application/vnd.jupyter.widget-view+json": {
       "model_id": "",
       "version_major": 2,
       "version_minor": 0
      },
      "text/plain": [
       "HBox(children=(FloatProgress(value=0.0, description='Training', layout=Layout(flex='2'), max=1250.0, style=Pro…"
      ]
     },
     "metadata": {},
     "output_type": "display_data"
    },
    {
     "name": "stdout",
     "output_type": "stream",
     "text": [
      "Epoch 769: train=6.9032, val=7.61666, took 125.7 s\n",
      "  Validation Found 51728 of 54504, added 2057 (eff 94.91%) (0.206 FP/event)\n"
     ]
    },
    {
     "data": {
      "application/vnd.jupyter.widget-view+json": {
       "model_id": "",
       "version_major": 2,
       "version_minor": 0
      },
      "text/plain": [
       "HBox(children=(FloatProgress(value=0.0, description='Training', layout=Layout(flex='2'), max=1250.0, style=Pro…"
      ]
     },
     "metadata": {},
     "output_type": "display_data"
    },
    {
     "name": "stdout",
     "output_type": "stream",
     "text": [
      "Epoch 770: train=6.89911, val=7.62916, took 125.62 s\n",
      "  Validation Found 51645 of 54504, added 1923 (eff 94.75%) (0.193 FP/event)\n"
     ]
    },
    {
     "data": {
      "application/vnd.jupyter.widget-view+json": {
       "model_id": "",
       "version_major": 2,
       "version_minor": 0
      },
      "text/plain": [
       "HBox(children=(FloatProgress(value=0.0, description='Training', layout=Layout(flex='2'), max=1250.0, style=Pro…"
      ]
     },
     "metadata": {},
     "output_type": "display_data"
    },
    {
     "name": "stdout",
     "output_type": "stream",
     "text": [
      "Epoch 771: train=6.90047, val=7.59878, took 126.13 s\n",
      "  Validation Found 51639 of 54504, added 1954 (eff 94.74%) (0.196 FP/event)\n"
     ]
    },
    {
     "data": {
      "application/vnd.jupyter.widget-view+json": {
       "model_id": "",
       "version_major": 2,
       "version_minor": 0
      },
      "text/plain": [
       "HBox(children=(FloatProgress(value=0.0, description='Training', layout=Layout(flex='2'), max=1250.0, style=Pro…"
      ]
     },
     "metadata": {},
     "output_type": "display_data"
    },
    {
     "name": "stdout",
     "output_type": "stream",
     "text": [
      "Epoch 772: train=6.90182, val=7.60786, took 125.95 s\n",
      "  Validation Found 51725 of 54504, added 2051 (eff 94.90%) (0.205 FP/event)\n"
     ]
    },
    {
     "data": {
      "application/vnd.jupyter.widget-view+json": {
       "model_id": "",
       "version_major": 2,
       "version_minor": 0
      },
      "text/plain": [
       "HBox(children=(FloatProgress(value=0.0, description='Training', layout=Layout(flex='2'), max=1250.0, style=Pro…"
      ]
     },
     "metadata": {},
     "output_type": "display_data"
    },
    {
     "name": "stdout",
     "output_type": "stream",
     "text": [
      "Epoch 773: train=6.90132, val=7.64944, took 125.92 s\n",
      "  Validation Found 51664 of 54504, added 1966 (eff 94.79%) (0.197 FP/event)\n"
     ]
    },
    {
     "data": {
      "application/vnd.jupyter.widget-view+json": {
       "model_id": "",
       "version_major": 2,
       "version_minor": 0
      },
      "text/plain": [
       "HBox(children=(FloatProgress(value=0.0, description='Training', layout=Layout(flex='2'), max=1250.0, style=Pro…"
      ]
     },
     "metadata": {},
     "output_type": "display_data"
    },
    {
     "name": "stdout",
     "output_type": "stream",
     "text": [
      "Epoch 774: train=6.90244, val=7.71748, took 126.03 s\n",
      "  Validation Found 51590 of 54504, added 1803 (eff 94.65%) (0.181 FP/event)\n"
     ]
    },
    {
     "data": {
      "application/vnd.jupyter.widget-view+json": {
       "model_id": "",
       "version_major": 2,
       "version_minor": 0
      },
      "text/plain": [
       "HBox(children=(FloatProgress(value=0.0, description='Training', layout=Layout(flex='2'), max=1250.0, style=Pro…"
      ]
     },
     "metadata": {},
     "output_type": "display_data"
    },
    {
     "name": "stdout",
     "output_type": "stream",
     "text": [
      "Epoch 775: train=6.90183, val=7.65683, took 126.09 s\n",
      "  Validation Found 51669 of 54504, added 2007 (eff 94.80%) (0.201 FP/event)\n"
     ]
    },
    {
     "data": {
      "application/vnd.jupyter.widget-view+json": {
       "model_id": "",
       "version_major": 2,
       "version_minor": 0
      },
      "text/plain": [
       "HBox(children=(FloatProgress(value=0.0, description='Training', layout=Layout(flex='2'), max=1250.0, style=Pro…"
      ]
     },
     "metadata": {},
     "output_type": "display_data"
    },
    {
     "name": "stdout",
     "output_type": "stream",
     "text": [
      "Epoch 776: train=6.89812, val=7.64896, took 125.97 s\n",
      "  Validation Found 51670 of 54504, added 1990 (eff 94.80%) (0.199 FP/event)\n"
     ]
    },
    {
     "data": {
      "application/vnd.jupyter.widget-view+json": {
       "model_id": "",
       "version_major": 2,
       "version_minor": 0
      },
      "text/plain": [
       "HBox(children=(FloatProgress(value=0.0, description='Training', layout=Layout(flex='2'), max=1250.0, style=Pro…"
      ]
     },
     "metadata": {},
     "output_type": "display_data"
    },
    {
     "name": "stdout",
     "output_type": "stream",
     "text": [
      "Epoch 777: train=6.90143, val=7.70589, took 125.93 s\n",
      "  Validation Found 51609 of 54504, added 1879 (eff 94.69%) (0.188 FP/event)\n"
     ]
    },
    {
     "data": {
      "application/vnd.jupyter.widget-view+json": {
       "model_id": "",
       "version_major": 2,
       "version_minor": 0
      },
      "text/plain": [
       "HBox(children=(FloatProgress(value=0.0, description='Training', layout=Layout(flex='2'), max=1250.0, style=Pro…"
      ]
     },
     "metadata": {},
     "output_type": "display_data"
    },
    {
     "name": "stdout",
     "output_type": "stream",
     "text": [
      "Epoch 778: train=6.89815, val=7.63803, took 125.96 s\n",
      "  Validation Found 51679 of 54504, added 2009 (eff 94.82%) (0.201 FP/event)\n"
     ]
    },
    {
     "data": {
      "application/vnd.jupyter.widget-view+json": {
       "model_id": "",
       "version_major": 2,
       "version_minor": 0
      },
      "text/plain": [
       "HBox(children=(FloatProgress(value=0.0, description='Training', layout=Layout(flex='2'), max=1250.0, style=Pro…"
      ]
     },
     "metadata": {},
     "output_type": "display_data"
    },
    {
     "name": "stdout",
     "output_type": "stream",
     "text": [
      "Epoch 779: train=6.89626, val=7.60756, took 125.98 s\n",
      "  Validation Found 51672 of 54504, added 1976 (eff 94.80%) (0.198 FP/event)\n"
     ]
    },
    {
     "data": {
      "application/vnd.jupyter.widget-view+json": {
       "model_id": "",
       "version_major": 2,
       "version_minor": 0
      },
      "text/plain": [
       "HBox(children=(FloatProgress(value=0.0, description='Training', layout=Layout(flex='2'), max=1250.0, style=Pro…"
      ]
     },
     "metadata": {},
     "output_type": "display_data"
    },
    {
     "name": "stdout",
     "output_type": "stream",
     "text": [
      "Epoch 780: train=6.89933, val=7.67265, took 125.9 s\n",
      "  Validation Found 51587 of 54504, added 1832 (eff 94.65%) (0.183 FP/event)\n"
     ]
    },
    {
     "data": {
      "application/vnd.jupyter.widget-view+json": {
       "model_id": "",
       "version_major": 2,
       "version_minor": 0
      },
      "text/plain": [
       "HBox(children=(FloatProgress(value=0.0, description='Training', layout=Layout(flex='2'), max=1250.0, style=Pro…"
      ]
     },
     "metadata": {},
     "output_type": "display_data"
    },
    {
     "name": "stdout",
     "output_type": "stream",
     "text": [
      "Epoch 781: train=6.8989, val=7.68636, took 126.04 s\n",
      "  Validation Found 51675 of 54504, added 1965 (eff 94.81%) (0.197 FP/event)\n"
     ]
    },
    {
     "data": {
      "application/vnd.jupyter.widget-view+json": {
       "model_id": "",
       "version_major": 2,
       "version_minor": 0
      },
      "text/plain": [
       "HBox(children=(FloatProgress(value=0.0, description='Training', layout=Layout(flex='2'), max=1250.0, style=Pro…"
      ]
     },
     "metadata": {},
     "output_type": "display_data"
    },
    {
     "name": "stdout",
     "output_type": "stream",
     "text": [
      "Epoch 782: train=6.90112, val=7.69717, took 125.92 s\n",
      "  Validation Found 51612 of 54504, added 1883 (eff 94.69%) (0.189 FP/event)\n"
     ]
    },
    {
     "data": {
      "application/vnd.jupyter.widget-view+json": {
       "model_id": "",
       "version_major": 2,
       "version_minor": 0
      },
      "text/plain": [
       "HBox(children=(FloatProgress(value=0.0, description='Training', layout=Layout(flex='2'), max=1250.0, style=Pro…"
      ]
     },
     "metadata": {},
     "output_type": "display_data"
    },
    {
     "name": "stdout",
     "output_type": "stream",
     "text": [
      "Epoch 783: train=6.89998, val=7.69667, took 125.95 s\n",
      "  Validation Found 51595 of 54504, added 1815 (eff 94.66%) (0.182 FP/event)\n"
     ]
    },
    {
     "data": {
      "application/vnd.jupyter.widget-view+json": {
       "model_id": "",
       "version_major": 2,
       "version_minor": 0
      },
      "text/plain": [
       "HBox(children=(FloatProgress(value=0.0, description='Training', layout=Layout(flex='2'), max=1250.0, style=Pro…"
      ]
     },
     "metadata": {},
     "output_type": "display_data"
    },
    {
     "name": "stdout",
     "output_type": "stream",
     "text": [
      "Epoch 784: train=6.8972, val=7.68673, took 125.81 s\n",
      "  Validation Found 51594 of 54504, added 1861 (eff 94.66%) (0.186 FP/event)\n"
     ]
    },
    {
     "data": {
      "application/vnd.jupyter.widget-view+json": {
       "model_id": "",
       "version_major": 2,
       "version_minor": 0
      },
      "text/plain": [
       "HBox(children=(FloatProgress(value=0.0, description='Training', layout=Layout(flex='2'), max=1250.0, style=Pro…"
      ]
     },
     "metadata": {},
     "output_type": "display_data"
    },
    {
     "name": "stdout",
     "output_type": "stream",
     "text": [
      "Epoch 785: train=6.89862, val=7.65421, took 125.84 s\n",
      "  Validation Found 51628 of 54504, added 1874 (eff 94.72%) (0.188 FP/event)\n"
     ]
    },
    {
     "data": {
      "application/vnd.jupyter.widget-view+json": {
       "model_id": "",
       "version_major": 2,
       "version_minor": 0
      },
      "text/plain": [
       "HBox(children=(FloatProgress(value=0.0, description='Training', layout=Layout(flex='2'), max=1250.0, style=Pro…"
      ]
     },
     "metadata": {},
     "output_type": "display_data"
    },
    {
     "name": "stdout",
     "output_type": "stream",
     "text": [
      "Epoch 786: train=6.90089, val=7.67146, took 125.76 s\n",
      "  Validation Found 51576 of 54504, added 1789 (eff 94.63%) (0.179 FP/event)\n"
     ]
    },
    {
     "data": {
      "application/vnd.jupyter.widget-view+json": {
       "model_id": "",
       "version_major": 2,
       "version_minor": 0
      },
      "text/plain": [
       "HBox(children=(FloatProgress(value=0.0, description='Training', layout=Layout(flex='2'), max=1250.0, style=Pro…"
      ]
     },
     "metadata": {},
     "output_type": "display_data"
    },
    {
     "name": "stdout",
     "output_type": "stream",
     "text": [
      "Epoch 787: train=6.89868, val=7.62659, took 125.57 s\n",
      "  Validation Found 51629 of 54504, added 1915 (eff 94.73%) (0.192 FP/event)\n"
     ]
    },
    {
     "data": {
      "application/vnd.jupyter.widget-view+json": {
       "model_id": "",
       "version_major": 2,
       "version_minor": 0
      },
      "text/plain": [
       "HBox(children=(FloatProgress(value=0.0, description='Training', layout=Layout(flex='2'), max=1250.0, style=Pro…"
      ]
     },
     "metadata": {},
     "output_type": "display_data"
    },
    {
     "name": "stdout",
     "output_type": "stream",
     "text": [
      "Epoch 788: train=6.89667, val=7.71743, took 125.64 s\n",
      "  Validation Found 51669 of 54504, added 2029 (eff 94.80%) (0.203 FP/event)\n"
     ]
    },
    {
     "data": {
      "application/vnd.jupyter.widget-view+json": {
       "model_id": "",
       "version_major": 2,
       "version_minor": 0
      },
      "text/plain": [
       "HBox(children=(FloatProgress(value=0.0, description='Training', layout=Layout(flex='2'), max=1250.0, style=Pro…"
      ]
     },
     "metadata": {},
     "output_type": "display_data"
    },
    {
     "name": "stdout",
     "output_type": "stream",
     "text": [
      "Epoch 789: train=6.89621, val=7.65424, took 125.78 s\n",
      "  Validation Found 51657 of 54504, added 1976 (eff 94.78%) (0.198 FP/event)\n"
     ]
    },
    {
     "data": {
      "application/vnd.jupyter.widget-view+json": {
       "model_id": "",
       "version_major": 2,
       "version_minor": 0
      },
      "text/plain": [
       "HBox(children=(FloatProgress(value=0.0, description='Training', layout=Layout(flex='2'), max=1250.0, style=Pro…"
      ]
     },
     "metadata": {},
     "output_type": "display_data"
    },
    {
     "name": "stdout",
     "output_type": "stream",
     "text": [
      "Epoch 790: train=6.89655, val=7.69982, took 125.63 s\n",
      "  Validation Found 51641 of 54504, added 1969 (eff 94.75%) (0.197 FP/event)\n"
     ]
    },
    {
     "data": {
      "application/vnd.jupyter.widget-view+json": {
       "model_id": "",
       "version_major": 2,
       "version_minor": 0
      },
      "text/plain": [
       "HBox(children=(FloatProgress(value=0.0, description='Training', layout=Layout(flex='2'), max=1250.0, style=Pro…"
      ]
     },
     "metadata": {},
     "output_type": "display_data"
    },
    {
     "name": "stdout",
     "output_type": "stream",
     "text": [
      "Epoch 791: train=6.89922, val=7.64896, took 125.62 s\n",
      "  Validation Found 51742 of 54504, added 2084 (eff 94.93%) (0.209 FP/event)\n"
     ]
    },
    {
     "data": {
      "application/vnd.jupyter.widget-view+json": {
       "model_id": "",
       "version_major": 2,
       "version_minor": 0
      },
      "text/plain": [
       "HBox(children=(FloatProgress(value=0.0, description='Training', layout=Layout(flex='2'), max=1250.0, style=Pro…"
      ]
     },
     "metadata": {},
     "output_type": "display_data"
    },
    {
     "name": "stdout",
     "output_type": "stream",
     "text": [
      "Epoch 792: train=6.8978, val=7.61338, took 125.66 s\n",
      "  Validation Found 51713 of 54504, added 2021 (eff 94.88%) (0.202 FP/event)\n"
     ]
    },
    {
     "data": {
      "application/vnd.jupyter.widget-view+json": {
       "model_id": "",
       "version_major": 2,
       "version_minor": 0
      },
      "text/plain": [
       "HBox(children=(FloatProgress(value=0.0, description='Training', layout=Layout(flex='2'), max=1250.0, style=Pro…"
      ]
     },
     "metadata": {},
     "output_type": "display_data"
    },
    {
     "name": "stdout",
     "output_type": "stream",
     "text": [
      "Epoch 793: train=6.89923, val=7.64842, took 125.52 s\n",
      "  Validation Found 51615 of 54504, added 1877 (eff 94.70%) (0.188 FP/event)\n"
     ]
    },
    {
     "data": {
      "application/vnd.jupyter.widget-view+json": {
       "model_id": "",
       "version_major": 2,
       "version_minor": 0
      },
      "text/plain": [
       "HBox(children=(FloatProgress(value=0.0, description='Training', layout=Layout(flex='2'), max=1250.0, style=Pro…"
      ]
     },
     "metadata": {},
     "output_type": "display_data"
    },
    {
     "name": "stdout",
     "output_type": "stream",
     "text": [
      "Epoch 794: train=6.89842, val=7.73286, took 125.86 s\n",
      "  Validation Found 51615 of 54504, added 1854 (eff 94.70%) (0.186 FP/event)\n"
     ]
    },
    {
     "data": {
      "application/vnd.jupyter.widget-view+json": {
       "model_id": "",
       "version_major": 2,
       "version_minor": 0
      },
      "text/plain": [
       "HBox(children=(FloatProgress(value=0.0, description='Training', layout=Layout(flex='2'), max=1250.0, style=Pro…"
      ]
     },
     "metadata": {},
     "output_type": "display_data"
    },
    {
     "name": "stdout",
     "output_type": "stream",
     "text": [
      "Epoch 795: train=6.89907, val=7.70356, took 125.68 s\n",
      "  Validation Found 51581 of 54504, added 1860 (eff 94.64%) (0.186 FP/event)\n"
     ]
    },
    {
     "data": {
      "application/vnd.jupyter.widget-view+json": {
       "model_id": "",
       "version_major": 2,
       "version_minor": 0
      },
      "text/plain": [
       "HBox(children=(FloatProgress(value=0.0, description='Training', layout=Layout(flex='2'), max=1250.0, style=Pro…"
      ]
     },
     "metadata": {},
     "output_type": "display_data"
    },
    {
     "name": "stdout",
     "output_type": "stream",
     "text": [
      "Epoch 796: train=6.9, val=7.59155, took 125.79 s\n",
      "  Validation Found 51729 of 54504, added 2019 (eff 94.91%) (0.202 FP/event)\n"
     ]
    },
    {
     "data": {
      "application/vnd.jupyter.widget-view+json": {
       "model_id": "",
       "version_major": 2,
       "version_minor": 0
      },
      "text/plain": [
       "HBox(children=(FloatProgress(value=0.0, description='Training', layout=Layout(flex='2'), max=1250.0, style=Pro…"
      ]
     },
     "metadata": {},
     "output_type": "display_data"
    },
    {
     "name": "stdout",
     "output_type": "stream",
     "text": [
      "Epoch 797: train=6.8984, val=7.681, took 125.73 s\n",
      "  Validation Found 51577 of 54504, added 1845 (eff 94.63%) (0.185 FP/event)\n"
     ]
    },
    {
     "data": {
      "application/vnd.jupyter.widget-view+json": {
       "model_id": "",
       "version_major": 2,
       "version_minor": 0
      },
      "text/plain": [
       "HBox(children=(FloatProgress(value=0.0, description='Training', layout=Layout(flex='2'), max=1250.0, style=Pro…"
      ]
     },
     "metadata": {},
     "output_type": "display_data"
    },
    {
     "name": "stdout",
     "output_type": "stream",
     "text": [
      "Epoch 798: train=6.89844, val=7.56589, took 125.67 s\n",
      "  Validation Found 51770 of 54504, added 2196 (eff 94.98%) (0.22 FP/event)\n"
     ]
    },
    {
     "data": {
      "application/vnd.jupyter.widget-view+json": {
       "model_id": "",
       "version_major": 2,
       "version_minor": 0
      },
      "text/plain": [
       "HBox(children=(FloatProgress(value=0.0, description='Training', layout=Layout(flex='2'), max=1250.0, style=Pro…"
      ]
     },
     "metadata": {},
     "output_type": "display_data"
    },
    {
     "name": "stdout",
     "output_type": "stream",
     "text": [
      "Epoch 799: train=6.89696, val=7.70305, took 125.66 s\n",
      "  Validation Found 51565 of 54504, added 1832 (eff 94.61%) (0.183 FP/event)\n"
     ]
    },
    {
     "data": {
      "application/vnd.jupyter.widget-view+json": {
       "model_id": "",
       "version_major": 2,
       "version_minor": 0
      },
      "text/plain": [
       "HBox(children=(FloatProgress(value=0.0, description='Training', layout=Layout(flex='2'), max=1250.0, style=Pro…"
      ]
     },
     "metadata": {},
     "output_type": "display_data"
    },
    {
     "name": "stdout",
     "output_type": "stream",
     "text": [
      "Epoch 800: train=6.89874, val=7.66967, took 125.64 s\n",
      "  Validation Found 51569 of 54504, added 1831 (eff 94.62%) (0.183 FP/event)\n"
     ]
    },
    {
     "data": {
      "application/vnd.jupyter.widget-view+json": {
       "model_id": "",
       "version_major": 2,
       "version_minor": 0
      },
      "text/plain": [
       "HBox(children=(FloatProgress(value=0.0, description='Training', layout=Layout(flex='2'), max=1250.0, style=Pro…"
      ]
     },
     "metadata": {},
     "output_type": "display_data"
    },
    {
     "name": "stdout",
     "output_type": "stream",
     "text": [
      "Epoch 801: train=6.89715, val=7.60152, took 125.67 s\n",
      "  Validation Found 51740 of 54504, added 2028 (eff 94.93%) (0.203 FP/event)\n"
     ]
    },
    {
     "data": {
      "application/vnd.jupyter.widget-view+json": {
       "model_id": "",
       "version_major": 2,
       "version_minor": 0
      },
      "text/plain": [
       "HBox(children=(FloatProgress(value=0.0, description='Training', layout=Layout(flex='2'), max=1250.0, style=Pro…"
      ]
     },
     "metadata": {},
     "output_type": "display_data"
    },
    {
     "name": "stdout",
     "output_type": "stream",
     "text": [
      "Epoch 802: train=6.89566, val=7.6436, took 125.81 s\n",
      "  Validation Found 51686 of 54504, added 1957 (eff 94.83%) (0.196 FP/event)\n"
     ]
    },
    {
     "data": {
      "application/vnd.jupyter.widget-view+json": {
       "model_id": "",
       "version_major": 2,
       "version_minor": 0
      },
      "text/plain": [
       "HBox(children=(FloatProgress(value=0.0, description='Training', layout=Layout(flex='2'), max=1250.0, style=Pro…"
      ]
     },
     "metadata": {},
     "output_type": "display_data"
    },
    {
     "name": "stdout",
     "output_type": "stream",
     "text": [
      "Epoch 803: train=6.89775, val=7.72502, took 125.9 s\n",
      "  Validation Found 51581 of 54504, added 1820 (eff 94.64%) (0.182 FP/event)\n"
     ]
    },
    {
     "data": {
      "application/vnd.jupyter.widget-view+json": {
       "model_id": "",
       "version_major": 2,
       "version_minor": 0
      },
      "text/plain": [
       "HBox(children=(FloatProgress(value=0.0, description='Training', layout=Layout(flex='2'), max=1250.0, style=Pro…"
      ]
     },
     "metadata": {},
     "output_type": "display_data"
    },
    {
     "name": "stdout",
     "output_type": "stream",
     "text": [
      "Epoch 804: train=6.89644, val=7.70675, took 125.83 s\n",
      "  Validation Found 51616 of 54504, added 1856 (eff 94.70%) (0.186 FP/event)\n"
     ]
    },
    {
     "data": {
      "application/vnd.jupyter.widget-view+json": {
       "model_id": "",
       "version_major": 2,
       "version_minor": 0
      },
      "text/plain": [
       "HBox(children=(FloatProgress(value=0.0, description='Training', layout=Layout(flex='2'), max=1250.0, style=Pro…"
      ]
     },
     "metadata": {},
     "output_type": "display_data"
    },
    {
     "name": "stdout",
     "output_type": "stream",
     "text": [
      "Epoch 805: train=6.89893, val=7.65913, took 125.93 s\n",
      "  Validation Found 51634 of 54504, added 1934 (eff 94.73%) (0.194 FP/event)\n"
     ]
    },
    {
     "data": {
      "application/vnd.jupyter.widget-view+json": {
       "model_id": "",
       "version_major": 2,
       "version_minor": 0
      },
      "text/plain": [
       "HBox(children=(FloatProgress(value=0.0, description='Training', layout=Layout(flex='2'), max=1250.0, style=Pro…"
      ]
     },
     "metadata": {},
     "output_type": "display_data"
    },
    {
     "name": "stdout",
     "output_type": "stream",
     "text": [
      "Epoch 806: train=6.89643, val=7.66191, took 125.92 s\n",
      "  Validation Found 51722 of 54504, added 2077 (eff 94.90%) (0.208 FP/event)\n"
     ]
    },
    {
     "data": {
      "application/vnd.jupyter.widget-view+json": {
       "model_id": "",
       "version_major": 2,
       "version_minor": 0
      },
      "text/plain": [
       "HBox(children=(FloatProgress(value=0.0, description='Training', layout=Layout(flex='2'), max=1250.0, style=Pro…"
      ]
     },
     "metadata": {},
     "output_type": "display_data"
    },
    {
     "name": "stdout",
     "output_type": "stream",
     "text": [
      "Epoch 807: train=6.89692, val=7.631, took 125.91 s\n",
      "  Validation Found 51640 of 54504, added 1961 (eff 94.75%) (0.196 FP/event)\n"
     ]
    },
    {
     "data": {
      "application/vnd.jupyter.widget-view+json": {
       "model_id": "",
       "version_major": 2,
       "version_minor": 0
      },
      "text/plain": [
       "HBox(children=(FloatProgress(value=0.0, description='Training', layout=Layout(flex='2'), max=1250.0, style=Pro…"
      ]
     },
     "metadata": {},
     "output_type": "display_data"
    },
    {
     "name": "stdout",
     "output_type": "stream",
     "text": [
      "Epoch 808: train=6.89793, val=7.73853, took 125.94 s\n",
      "  Validation Found 51732 of 54504, added 2057 (eff 94.91%) (0.206 FP/event)\n"
     ]
    },
    {
     "data": {
      "application/vnd.jupyter.widget-view+json": {
       "model_id": "",
       "version_major": 2,
       "version_minor": 0
      },
      "text/plain": [
       "HBox(children=(FloatProgress(value=0.0, description='Training', layout=Layout(flex='2'), max=1250.0, style=Pro…"
      ]
     },
     "metadata": {},
     "output_type": "display_data"
    },
    {
     "name": "stdout",
     "output_type": "stream",
     "text": [
      "Epoch 809: train=6.89608, val=7.68679, took 126.02 s\n",
      "  Validation Found 51661 of 54504, added 1976 (eff 94.78%) (0.198 FP/event)\n"
     ]
    },
    {
     "data": {
      "application/vnd.jupyter.widget-view+json": {
       "model_id": "",
       "version_major": 2,
       "version_minor": 0
      },
      "text/plain": [
       "HBox(children=(FloatProgress(value=0.0, description='Training', layout=Layout(flex='2'), max=1250.0, style=Pro…"
      ]
     },
     "metadata": {},
     "output_type": "display_data"
    },
    {
     "name": "stdout",
     "output_type": "stream",
     "text": [
      "Epoch 810: train=6.89275, val=7.69259, took 125.99 s\n",
      "  Validation Found 51607 of 54504, added 1879 (eff 94.68%) (0.188 FP/event)\n"
     ]
    },
    {
     "data": {
      "application/vnd.jupyter.widget-view+json": {
       "model_id": "",
       "version_major": 2,
       "version_minor": 0
      },
      "text/plain": [
       "HBox(children=(FloatProgress(value=0.0, description='Training', layout=Layout(flex='2'), max=1250.0, style=Pro…"
      ]
     },
     "metadata": {},
     "output_type": "display_data"
    },
    {
     "name": "stdout",
     "output_type": "stream",
     "text": [
      "Epoch 811: train=6.89563, val=7.76691, took 126.03 s\n",
      "  Validation Found 51581 of 54504, added 1955 (eff 94.64%) (0.196 FP/event)\n"
     ]
    },
    {
     "data": {
      "application/vnd.jupyter.widget-view+json": {
       "model_id": "",
       "version_major": 2,
       "version_minor": 0
      },
      "text/plain": [
       "HBox(children=(FloatProgress(value=0.0, description='Training', layout=Layout(flex='2'), max=1250.0, style=Pro…"
      ]
     },
     "metadata": {},
     "output_type": "display_data"
    },
    {
     "name": "stdout",
     "output_type": "stream",
     "text": [
      "Epoch 812: train=6.89588, val=7.61687, took 125.97 s\n",
      "  Validation Found 51671 of 54504, added 1939 (eff 94.80%) (0.194 FP/event)\n"
     ]
    },
    {
     "data": {
      "application/vnd.jupyter.widget-view+json": {
       "model_id": "",
       "version_major": 2,
       "version_minor": 0
      },
      "text/plain": [
       "HBox(children=(FloatProgress(value=0.0, description='Training', layout=Layout(flex='2'), max=1250.0, style=Pro…"
      ]
     },
     "metadata": {},
     "output_type": "display_data"
    },
    {
     "name": "stdout",
     "output_type": "stream",
     "text": [
      "Epoch 813: train=6.89693, val=7.68168, took 125.95 s\n",
      "  Validation Found 51670 of 54504, added 1993 (eff 94.80%) (0.2 FP/event)\n"
     ]
    },
    {
     "data": {
      "application/vnd.jupyter.widget-view+json": {
       "model_id": "",
       "version_major": 2,
       "version_minor": 0
      },
      "text/plain": [
       "HBox(children=(FloatProgress(value=0.0, description='Training', layout=Layout(flex='2'), max=1250.0, style=Pro…"
      ]
     },
     "metadata": {},
     "output_type": "display_data"
    },
    {
     "name": "stdout",
     "output_type": "stream",
     "text": [
      "Epoch 814: train=6.89691, val=7.64639, took 125.98 s\n",
      "  Validation Found 51671 of 54504, added 1950 (eff 94.80%) (0.195 FP/event)\n"
     ]
    },
    {
     "data": {
      "application/vnd.jupyter.widget-view+json": {
       "model_id": "",
       "version_major": 2,
       "version_minor": 0
      },
      "text/plain": [
       "HBox(children=(FloatProgress(value=0.0, description='Training', layout=Layout(flex='2'), max=1250.0, style=Pro…"
      ]
     },
     "metadata": {},
     "output_type": "display_data"
    },
    {
     "name": "stdout",
     "output_type": "stream",
     "text": [
      "Epoch 815: train=6.8971, val=7.62392, took 125.96 s\n",
      "  Validation Found 51667 of 54504, added 1946 (eff 94.79%) (0.195 FP/event)\n"
     ]
    },
    {
     "data": {
      "application/vnd.jupyter.widget-view+json": {
       "model_id": "",
       "version_major": 2,
       "version_minor": 0
      },
      "text/plain": [
       "HBox(children=(FloatProgress(value=0.0, description='Training', layout=Layout(flex='2'), max=1250.0, style=Pro…"
      ]
     },
     "metadata": {},
     "output_type": "display_data"
    },
    {
     "name": "stdout",
     "output_type": "stream",
     "text": [
      "Epoch 816: train=6.89812, val=7.62818, took 125.99 s\n",
      "  Validation Found 51752 of 54504, added 2066 (eff 94.95%) (0.207 FP/event)\n"
     ]
    },
    {
     "data": {
      "application/vnd.jupyter.widget-view+json": {
       "model_id": "",
       "version_major": 2,
       "version_minor": 0
      },
      "text/plain": [
       "HBox(children=(FloatProgress(value=0.0, description='Training', layout=Layout(flex='2'), max=1250.0, style=Pro…"
      ]
     },
     "metadata": {},
     "output_type": "display_data"
    },
    {
     "name": "stdout",
     "output_type": "stream",
     "text": [
      "Epoch 817: train=6.89522, val=7.65089, took 125.94 s\n",
      "  Validation Found 51683 of 54504, added 1963 (eff 94.82%) (0.197 FP/event)\n"
     ]
    },
    {
     "data": {
      "application/vnd.jupyter.widget-view+json": {
       "model_id": "",
       "version_major": 2,
       "version_minor": 0
      },
      "text/plain": [
       "HBox(children=(FloatProgress(value=0.0, description='Training', layout=Layout(flex='2'), max=1250.0, style=Pro…"
      ]
     },
     "metadata": {},
     "output_type": "display_data"
    },
    {
     "name": "stdout",
     "output_type": "stream",
     "text": [
      "Epoch 818: train=6.89783, val=7.66703, took 125.93 s\n",
      "  Validation Found 51622 of 54504, added 1903 (eff 94.71%) (0.191 FP/event)\n"
     ]
    },
    {
     "data": {
      "application/vnd.jupyter.widget-view+json": {
       "model_id": "",
       "version_major": 2,
       "version_minor": 0
      },
      "text/plain": [
       "HBox(children=(FloatProgress(value=0.0, description='Training', layout=Layout(flex='2'), max=1250.0, style=Pro…"
      ]
     },
     "metadata": {},
     "output_type": "display_data"
    },
    {
     "name": "stdout",
     "output_type": "stream",
     "text": [
      "Epoch 819: train=6.89629, val=7.65143, took 125.79 s\n",
      "  Validation Found 51696 of 54504, added 2026 (eff 94.85%) (0.203 FP/event)\n"
     ]
    },
    {
     "data": {
      "application/vnd.jupyter.widget-view+json": {
       "model_id": "",
       "version_major": 2,
       "version_minor": 0
      },
      "text/plain": [
       "HBox(children=(FloatProgress(value=0.0, description='Training', layout=Layout(flex='2'), max=1250.0, style=Pro…"
      ]
     },
     "metadata": {},
     "output_type": "display_data"
    },
    {
     "name": "stdout",
     "output_type": "stream",
     "text": [
      "Epoch 820: train=6.89792, val=7.68594, took 125.63 s\n",
      "  Validation Found 51614 of 54504, added 1881 (eff 94.70%) (0.188 FP/event)\n"
     ]
    },
    {
     "data": {
      "application/vnd.jupyter.widget-view+json": {
       "model_id": "",
       "version_major": 2,
       "version_minor": 0
      },
      "text/plain": [
       "HBox(children=(FloatProgress(value=0.0, description='Training', layout=Layout(flex='2'), max=1250.0, style=Pro…"
      ]
     },
     "metadata": {},
     "output_type": "display_data"
    },
    {
     "name": "stdout",
     "output_type": "stream",
     "text": [
      "Epoch 821: train=6.89688, val=7.71276, took 125.68 s\n",
      "  Validation Found 51575 of 54504, added 1866 (eff 94.63%) (0.187 FP/event)\n"
     ]
    },
    {
     "data": {
      "application/vnd.jupyter.widget-view+json": {
       "model_id": "",
       "version_major": 2,
       "version_minor": 0
      },
      "text/plain": [
       "HBox(children=(FloatProgress(value=0.0, description='Training', layout=Layout(flex='2'), max=1250.0, style=Pro…"
      ]
     },
     "metadata": {},
     "output_type": "display_data"
    },
    {
     "name": "stdout",
     "output_type": "stream",
     "text": [
      "Epoch 822: train=6.89561, val=7.7282, took 125.62 s\n",
      "  Validation Found 51689 of 54504, added 1973 (eff 94.84%) (0.198 FP/event)\n"
     ]
    },
    {
     "data": {
      "application/vnd.jupyter.widget-view+json": {
       "model_id": "",
       "version_major": 2,
       "version_minor": 0
      },
      "text/plain": [
       "HBox(children=(FloatProgress(value=0.0, description='Training', layout=Layout(flex='2'), max=1250.0, style=Pro…"
      ]
     },
     "metadata": {},
     "output_type": "display_data"
    },
    {
     "name": "stdout",
     "output_type": "stream",
     "text": [
      "Epoch 823: train=6.89615, val=7.71116, took 125.61 s\n",
      "  Validation Found 51615 of 54504, added 1982 (eff 94.70%) (0.198 FP/event)\n"
     ]
    },
    {
     "data": {
      "application/vnd.jupyter.widget-view+json": {
       "model_id": "",
       "version_major": 2,
       "version_minor": 0
      },
      "text/plain": [
       "HBox(children=(FloatProgress(value=0.0, description='Training', layout=Layout(flex='2'), max=1250.0, style=Pro…"
      ]
     },
     "metadata": {},
     "output_type": "display_data"
    },
    {
     "name": "stdout",
     "output_type": "stream",
     "text": [
      "Epoch 824: train=6.89708, val=7.63555, took 125.7 s\n",
      "  Validation Found 51633 of 54504, added 2016 (eff 94.73%) (0.202 FP/event)\n"
     ]
    },
    {
     "data": {
      "application/vnd.jupyter.widget-view+json": {
       "model_id": "",
       "version_major": 2,
       "version_minor": 0
      },
      "text/plain": [
       "HBox(children=(FloatProgress(value=0.0, description='Training', layout=Layout(flex='2'), max=1250.0, style=Pro…"
      ]
     },
     "metadata": {},
     "output_type": "display_data"
    },
    {
     "name": "stdout",
     "output_type": "stream",
     "text": [
      "Epoch 825: train=6.89709, val=7.6962, took 126.07 s\n",
      "  Validation Found 51580 of 54504, added 1862 (eff 94.64%) (0.186 FP/event)\n"
     ]
    },
    {
     "data": {
      "application/vnd.jupyter.widget-view+json": {
       "model_id": "",
       "version_major": 2,
       "version_minor": 0
      },
      "text/plain": [
       "HBox(children=(FloatProgress(value=0.0, description='Training', layout=Layout(flex='2'), max=1250.0, style=Pro…"
      ]
     },
     "metadata": {},
     "output_type": "display_data"
    },
    {
     "name": "stdout",
     "output_type": "stream",
     "text": [
      "Epoch 826: train=6.89376, val=7.6071, took 125.71 s\n",
      "  Validation Found 51683 of 54504, added 2030 (eff 94.82%) (0.203 FP/event)\n"
     ]
    },
    {
     "data": {
      "application/vnd.jupyter.widget-view+json": {
       "model_id": "",
       "version_major": 2,
       "version_minor": 0
      },
      "text/plain": [
       "HBox(children=(FloatProgress(value=0.0, description='Training', layout=Layout(flex='2'), max=1250.0, style=Pro…"
      ]
     },
     "metadata": {},
     "output_type": "display_data"
    },
    {
     "name": "stdout",
     "output_type": "stream",
     "text": [
      "Epoch 827: train=6.89383, val=7.69704, took 125.61 s\n",
      "  Validation Found 51641 of 54504, added 1976 (eff 94.75%) (0.198 FP/event)\n"
     ]
    },
    {
     "data": {
      "application/vnd.jupyter.widget-view+json": {
       "model_id": "",
       "version_major": 2,
       "version_minor": 0
      },
      "text/plain": [
       "HBox(children=(FloatProgress(value=0.0, description='Training', layout=Layout(flex='2'), max=1250.0, style=Pro…"
      ]
     },
     "metadata": {},
     "output_type": "display_data"
    },
    {
     "name": "stdout",
     "output_type": "stream",
     "text": [
      "Epoch 828: train=6.89319, val=7.58793, took 125.76 s\n",
      "  Validation Found 51624 of 54504, added 1861 (eff 94.72%) (0.186 FP/event)\n"
     ]
    },
    {
     "data": {
      "application/vnd.jupyter.widget-view+json": {
       "model_id": "",
       "version_major": 2,
       "version_minor": 0
      },
      "text/plain": [
       "HBox(children=(FloatProgress(value=0.0, description='Training', layout=Layout(flex='2'), max=1250.0, style=Pro…"
      ]
     },
     "metadata": {},
     "output_type": "display_data"
    },
    {
     "name": "stdout",
     "output_type": "stream",
     "text": [
      "Epoch 829: train=6.89377, val=7.71664, took 125.68 s\n",
      "  Validation Found 51594 of 54504, added 1856 (eff 94.66%) (0.186 FP/event)\n"
     ]
    },
    {
     "data": {
      "application/vnd.jupyter.widget-view+json": {
       "model_id": "",
       "version_major": 2,
       "version_minor": 0
      },
      "text/plain": [
       "HBox(children=(FloatProgress(value=0.0, description='Training', layout=Layout(flex='2'), max=1250.0, style=Pro…"
      ]
     },
     "metadata": {},
     "output_type": "display_data"
    },
    {
     "name": "stdout",
     "output_type": "stream",
     "text": [
      "Epoch 830: train=6.89681, val=7.64537, took 125.66 s\n",
      "  Validation Found 51782 of 54504, added 2118 (eff 95.01%) (0.212 FP/event)\n"
     ]
    },
    {
     "data": {
      "application/vnd.jupyter.widget-view+json": {
       "model_id": "",
       "version_major": 2,
       "version_minor": 0
      },
      "text/plain": [
       "HBox(children=(FloatProgress(value=0.0, description='Training', layout=Layout(flex='2'), max=1250.0, style=Pro…"
      ]
     },
     "metadata": {},
     "output_type": "display_data"
    },
    {
     "name": "stdout",
     "output_type": "stream",
     "text": [
      "Epoch 831: train=6.89381, val=7.62392, took 125.6 s\n",
      "  Validation Found 51704 of 54504, added 1971 (eff 94.86%) (0.197 FP/event)\n"
     ]
    },
    {
     "data": {
      "application/vnd.jupyter.widget-view+json": {
       "model_id": "",
       "version_major": 2,
       "version_minor": 0
      },
      "text/plain": [
       "HBox(children=(FloatProgress(value=0.0, description='Training', layout=Layout(flex='2'), max=1250.0, style=Pro…"
      ]
     },
     "metadata": {},
     "output_type": "display_data"
    },
    {
     "name": "stdout",
     "output_type": "stream",
     "text": [
      "Epoch 832: train=6.89444, val=7.61805, took 125.64 s\n",
      "  Validation Found 51646 of 54504, added 1950 (eff 94.76%) (0.195 FP/event)\n"
     ]
    },
    {
     "data": {
      "application/vnd.jupyter.widget-view+json": {
       "model_id": "",
       "version_major": 2,
       "version_minor": 0
      },
      "text/plain": [
       "HBox(children=(FloatProgress(value=0.0, description='Training', layout=Layout(flex='2'), max=1250.0, style=Pro…"
      ]
     },
     "metadata": {},
     "output_type": "display_data"
    },
    {
     "name": "stdout",
     "output_type": "stream",
     "text": [
      "Epoch 833: train=6.89481, val=7.6945, took 125.6 s\n",
      "  Validation Found 51623 of 54504, added 1867 (eff 94.71%) (0.187 FP/event)\n"
     ]
    },
    {
     "data": {
      "application/vnd.jupyter.widget-view+json": {
       "model_id": "",
       "version_major": 2,
       "version_minor": 0
      },
      "text/plain": [
       "HBox(children=(FloatProgress(value=0.0, description='Training', layout=Layout(flex='2'), max=1250.0, style=Pro…"
      ]
     },
     "metadata": {},
     "output_type": "display_data"
    },
    {
     "name": "stdout",
     "output_type": "stream",
     "text": [
      "Epoch 834: train=6.89398, val=7.67483, took 125.57 s\n",
      "  Validation Found 51611 of 54504, added 1847 (eff 94.69%) (0.185 FP/event)\n"
     ]
    },
    {
     "data": {
      "application/vnd.jupyter.widget-view+json": {
       "model_id": "",
       "version_major": 2,
       "version_minor": 0
      },
      "text/plain": [
       "HBox(children=(FloatProgress(value=0.0, description='Training', layout=Layout(flex='2'), max=1250.0, style=Pro…"
      ]
     },
     "metadata": {},
     "output_type": "display_data"
    },
    {
     "name": "stdout",
     "output_type": "stream",
     "text": [
      "Epoch 835: train=6.89337, val=7.70787, took 125.62 s\n",
      "  Validation Found 51631 of 54504, added 1888 (eff 94.73%) (0.189 FP/event)\n"
     ]
    },
    {
     "data": {
      "application/vnd.jupyter.widget-view+json": {
       "model_id": "",
       "version_major": 2,
       "version_minor": 0
      },
      "text/plain": [
       "HBox(children=(FloatProgress(value=0.0, description='Training', layout=Layout(flex='2'), max=1250.0, style=Pro…"
      ]
     },
     "metadata": {},
     "output_type": "display_data"
    },
    {
     "name": "stdout",
     "output_type": "stream",
     "text": [
      "Epoch 836: train=6.8957, val=7.68021, took 125.68 s\n",
      "  Validation Found 51592 of 54504, added 1874 (eff 94.66%) (0.188 FP/event)\n"
     ]
    },
    {
     "data": {
      "application/vnd.jupyter.widget-view+json": {
       "model_id": "",
       "version_major": 2,
       "version_minor": 0
      },
      "text/plain": [
       "HBox(children=(FloatProgress(value=0.0, description='Training', layout=Layout(flex='2'), max=1250.0, style=Pro…"
      ]
     },
     "metadata": {},
     "output_type": "display_data"
    },
    {
     "name": "stdout",
     "output_type": "stream",
     "text": [
      "Epoch 837: train=6.89228, val=7.69451, took 125.6 s\n",
      "  Validation Found 51600 of 54504, added 1897 (eff 94.67%) (0.19 FP/event)\n"
     ]
    },
    {
     "data": {
      "application/vnd.jupyter.widget-view+json": {
       "model_id": "",
       "version_major": 2,
       "version_minor": 0
      },
      "text/plain": [
       "HBox(children=(FloatProgress(value=0.0, description='Training', layout=Layout(flex='2'), max=1250.0, style=Pro…"
      ]
     },
     "metadata": {},
     "output_type": "display_data"
    },
    {
     "name": "stdout",
     "output_type": "stream",
     "text": [
      "Epoch 838: train=6.89363, val=7.69352, took 125.64 s\n",
      "  Validation Found 51609 of 54504, added 1893 (eff 94.69%) (0.19 FP/event)\n"
     ]
    },
    {
     "data": {
      "application/vnd.jupyter.widget-view+json": {
       "model_id": "",
       "version_major": 2,
       "version_minor": 0
      },
      "text/plain": [
       "HBox(children=(FloatProgress(value=0.0, description='Training', layout=Layout(flex='2'), max=1250.0, style=Pro…"
      ]
     },
     "metadata": {},
     "output_type": "display_data"
    },
    {
     "name": "stdout",
     "output_type": "stream",
     "text": [
      "Epoch 839: train=6.89293, val=7.69262, took 125.7 s\n",
      "  Validation Found 51648 of 54504, added 2048 (eff 94.76%) (0.205 FP/event)\n"
     ]
    },
    {
     "data": {
      "application/vnd.jupyter.widget-view+json": {
       "model_id": "",
       "version_major": 2,
       "version_minor": 0
      },
      "text/plain": [
       "HBox(children=(FloatProgress(value=0.0, description='Training', layout=Layout(flex='2'), max=1250.0, style=Pro…"
      ]
     },
     "metadata": {},
     "output_type": "display_data"
    },
    {
     "name": "stdout",
     "output_type": "stream",
     "text": [
      "Epoch 840: train=6.89301, val=7.65344, took 125.69 s\n",
      "  Validation Found 51702 of 54504, added 2062 (eff 94.86%) (0.207 FP/event)\n"
     ]
    },
    {
     "data": {
      "application/vnd.jupyter.widget-view+json": {
       "model_id": "",
       "version_major": 2,
       "version_minor": 0
      },
      "text/plain": [
       "HBox(children=(FloatProgress(value=0.0, description='Training', layout=Layout(flex='2'), max=1250.0, style=Pro…"
      ]
     },
     "metadata": {},
     "output_type": "display_data"
    },
    {
     "name": "stdout",
     "output_type": "stream",
     "text": [
      "Epoch 841: train=6.89545, val=7.77219, took 125.7 s\n",
      "  Validation Found 51613 of 54504, added 1880 (eff 94.70%) (0.188 FP/event)\n"
     ]
    },
    {
     "data": {
      "application/vnd.jupyter.widget-view+json": {
       "model_id": "",
       "version_major": 2,
       "version_minor": 0
      },
      "text/plain": [
       "HBox(children=(FloatProgress(value=0.0, description='Training', layout=Layout(flex='2'), max=1250.0, style=Pro…"
      ]
     },
     "metadata": {},
     "output_type": "display_data"
    },
    {
     "name": "stdout",
     "output_type": "stream",
     "text": [
      "Epoch 842: train=6.89603, val=7.72851, took 125.62 s\n",
      "  Validation Found 51495 of 54504, added 1759 (eff 94.48%) (0.176 FP/event)\n"
     ]
    },
    {
     "data": {
      "application/vnd.jupyter.widget-view+json": {
       "model_id": "",
       "version_major": 2,
       "version_minor": 0
      },
      "text/plain": [
       "HBox(children=(FloatProgress(value=0.0, description='Training', layout=Layout(flex='2'), max=1250.0, style=Pro…"
      ]
     },
     "metadata": {},
     "output_type": "display_data"
    },
    {
     "name": "stdout",
     "output_type": "stream",
     "text": [
      "Epoch 843: train=6.8951, val=7.68276, took 125.54 s\n",
      "  Validation Found 51634 of 54504, added 1918 (eff 94.73%) (0.192 FP/event)\n"
     ]
    },
    {
     "data": {
      "application/vnd.jupyter.widget-view+json": {
       "model_id": "",
       "version_major": 2,
       "version_minor": 0
      },
      "text/plain": [
       "HBox(children=(FloatProgress(value=0.0, description='Training', layout=Layout(flex='2'), max=1250.0, style=Pro…"
      ]
     },
     "metadata": {},
     "output_type": "display_data"
    },
    {
     "name": "stdout",
     "output_type": "stream",
     "text": [
      "Epoch 844: train=6.89287, val=7.7616, took 125.57 s\n",
      "  Validation Found 51600 of 54504, added 1915 (eff 94.67%) (0.192 FP/event)\n"
     ]
    },
    {
     "data": {
      "application/vnd.jupyter.widget-view+json": {
       "model_id": "",
       "version_major": 2,
       "version_minor": 0
      },
      "text/plain": [
       "HBox(children=(FloatProgress(value=0.0, description='Training', layout=Layout(flex='2'), max=1250.0, style=Pro…"
      ]
     },
     "metadata": {},
     "output_type": "display_data"
    },
    {
     "name": "stdout",
     "output_type": "stream",
     "text": [
      "Epoch 845: train=6.8927, val=7.63358, took 125.68 s\n",
      "  Validation Found 51667 of 54504, added 1988 (eff 94.79%) (0.199 FP/event)\n"
     ]
    },
    {
     "data": {
      "application/vnd.jupyter.widget-view+json": {
       "model_id": "",
       "version_major": 2,
       "version_minor": 0
      },
      "text/plain": [
       "HBox(children=(FloatProgress(value=0.0, description='Training', layout=Layout(flex='2'), max=1250.0, style=Pro…"
      ]
     },
     "metadata": {},
     "output_type": "display_data"
    },
    {
     "name": "stdout",
     "output_type": "stream",
     "text": [
      "Epoch 846: train=6.89131, val=7.68869, took 125.65 s\n",
      "  Validation Found 51545 of 54504, added 1805 (eff 94.57%) (0.181 FP/event)\n"
     ]
    },
    {
     "data": {
      "application/vnd.jupyter.widget-view+json": {
       "model_id": "",
       "version_major": 2,
       "version_minor": 0
      },
      "text/plain": [
       "HBox(children=(FloatProgress(value=0.0, description='Training', layout=Layout(flex='2'), max=1250.0, style=Pro…"
      ]
     },
     "metadata": {},
     "output_type": "display_data"
    },
    {
     "name": "stdout",
     "output_type": "stream",
     "text": [
      "Epoch 847: train=6.89422, val=7.62598, took 125.68 s\n",
      "  Validation Found 51742 of 54504, added 2119 (eff 94.93%) (0.212 FP/event)\n"
     ]
    },
    {
     "data": {
      "application/vnd.jupyter.widget-view+json": {
       "model_id": "",
       "version_major": 2,
       "version_minor": 0
      },
      "text/plain": [
       "HBox(children=(FloatProgress(value=0.0, description='Training', layout=Layout(flex='2'), max=1250.0, style=Pro…"
      ]
     },
     "metadata": {},
     "output_type": "display_data"
    },
    {
     "name": "stdout",
     "output_type": "stream",
     "text": [
      "Epoch 848: train=6.89424, val=7.66918, took 125.63 s\n",
      "  Validation Found 51589 of 54504, added 1870 (eff 94.65%) (0.187 FP/event)\n"
     ]
    },
    {
     "data": {
      "application/vnd.jupyter.widget-view+json": {
       "model_id": "",
       "version_major": 2,
       "version_minor": 0
      },
      "text/plain": [
       "HBox(children=(FloatProgress(value=0.0, description='Training', layout=Layout(flex='2'), max=1250.0, style=Pro…"
      ]
     },
     "metadata": {},
     "output_type": "display_data"
    },
    {
     "name": "stdout",
     "output_type": "stream",
     "text": [
      "Epoch 849: train=6.89267, val=7.77971, took 125.67 s\n",
      "  Validation Found 51544 of 54504, added 1827 (eff 94.57%) (0.183 FP/event)\n"
     ]
    },
    {
     "data": {
      "application/vnd.jupyter.widget-view+json": {
       "model_id": "",
       "version_major": 2,
       "version_minor": 0
      },
      "text/plain": [
       "HBox(children=(FloatProgress(value=0.0, description='Training', layout=Layout(flex='2'), max=1250.0, style=Pro…"
      ]
     },
     "metadata": {},
     "output_type": "display_data"
    },
    {
     "name": "stdout",
     "output_type": "stream",
     "text": [
      "Epoch 850: train=6.8964, val=7.71744, took 125.57 s\n",
      "  Validation Found 51697 of 54504, added 1961 (eff 94.85%) (0.196 FP/event)\n"
     ]
    },
    {
     "data": {
      "application/vnd.jupyter.widget-view+json": {
       "model_id": "",
       "version_major": 2,
       "version_minor": 0
      },
      "text/plain": [
       "HBox(children=(FloatProgress(value=0.0, description='Training', layout=Layout(flex='2'), max=1250.0, style=Pro…"
      ]
     },
     "metadata": {},
     "output_type": "display_data"
    },
    {
     "name": "stdout",
     "output_type": "stream",
     "text": [
      "Epoch 851: train=6.89236, val=7.63729, took 125.59 s\n",
      "  Validation Found 51685 of 54504, added 2019 (eff 94.83%) (0.202 FP/event)\n"
     ]
    },
    {
     "data": {
      "application/vnd.jupyter.widget-view+json": {
       "model_id": "",
       "version_major": 2,
       "version_minor": 0
      },
      "text/plain": [
       "HBox(children=(FloatProgress(value=0.0, description='Training', layout=Layout(flex='2'), max=1250.0, style=Pro…"
      ]
     },
     "metadata": {},
     "output_type": "display_data"
    },
    {
     "name": "stdout",
     "output_type": "stream",
     "text": [
      "Epoch 852: train=6.89156, val=7.68857, took 125.72 s\n",
      "  Validation Found 51636 of 54504, added 1985 (eff 94.74%) (0.199 FP/event)\n"
     ]
    },
    {
     "data": {
      "application/vnd.jupyter.widget-view+json": {
       "model_id": "",
       "version_major": 2,
       "version_minor": 0
      },
      "text/plain": [
       "HBox(children=(FloatProgress(value=0.0, description='Training', layout=Layout(flex='2'), max=1250.0, style=Pro…"
      ]
     },
     "metadata": {},
     "output_type": "display_data"
    },
    {
     "name": "stdout",
     "output_type": "stream",
     "text": [
      "Epoch 853: train=6.89364, val=7.66994, took 125.61 s\n",
      "  Validation Found 51587 of 54504, added 1870 (eff 94.65%) (0.187 FP/event)\n"
     ]
    },
    {
     "data": {
      "application/vnd.jupyter.widget-view+json": {
       "model_id": "",
       "version_major": 2,
       "version_minor": 0
      },
      "text/plain": [
       "HBox(children=(FloatProgress(value=0.0, description='Training', layout=Layout(flex='2'), max=1250.0, style=Pro…"
      ]
     },
     "metadata": {},
     "output_type": "display_data"
    },
    {
     "name": "stdout",
     "output_type": "stream",
     "text": [
      "Epoch 854: train=6.89226, val=7.74125, took 125.7 s\n",
      "  Validation Found 51624 of 54504, added 1959 (eff 94.72%) (0.196 FP/event)\n"
     ]
    },
    {
     "data": {
      "application/vnd.jupyter.widget-view+json": {
       "model_id": "",
       "version_major": 2,
       "version_minor": 0
      },
      "text/plain": [
       "HBox(children=(FloatProgress(value=0.0, description='Training', layout=Layout(flex='2'), max=1250.0, style=Pro…"
      ]
     },
     "metadata": {},
     "output_type": "display_data"
    },
    {
     "name": "stdout",
     "output_type": "stream",
     "text": [
      "Epoch 855: train=6.89554, val=7.72122, took 125.7 s\n",
      "  Validation Found 51561 of 54504, added 1841 (eff 94.60%) (0.184 FP/event)\n"
     ]
    },
    {
     "data": {
      "application/vnd.jupyter.widget-view+json": {
       "model_id": "",
       "version_major": 2,
       "version_minor": 0
      },
      "text/plain": [
       "HBox(children=(FloatProgress(value=0.0, description='Training', layout=Layout(flex='2'), max=1250.0, style=Pro…"
      ]
     },
     "metadata": {},
     "output_type": "display_data"
    },
    {
     "name": "stdout",
     "output_type": "stream",
     "text": [
      "Epoch 856: train=6.89306, val=7.7272, took 125.65 s\n",
      "  Validation Found 51604 of 54504, added 1875 (eff 94.68%) (0.188 FP/event)\n"
     ]
    },
    {
     "data": {
      "application/vnd.jupyter.widget-view+json": {
       "model_id": "",
       "version_major": 2,
       "version_minor": 0
      },
      "text/plain": [
       "HBox(children=(FloatProgress(value=0.0, description='Training', layout=Layout(flex='2'), max=1250.0, style=Pro…"
      ]
     },
     "metadata": {},
     "output_type": "display_data"
    },
    {
     "name": "stdout",
     "output_type": "stream",
     "text": [
      "Epoch 857: train=6.89095, val=7.64241, took 125.66 s\n",
      "  Validation Found 51663 of 54504, added 2049 (eff 94.79%) (0.205 FP/event)\n"
     ]
    },
    {
     "data": {
      "application/vnd.jupyter.widget-view+json": {
       "model_id": "",
       "version_major": 2,
       "version_minor": 0
      },
      "text/plain": [
       "HBox(children=(FloatProgress(value=0.0, description='Training', layout=Layout(flex='2'), max=1250.0, style=Pro…"
      ]
     },
     "metadata": {},
     "output_type": "display_data"
    },
    {
     "name": "stdout",
     "output_type": "stream",
     "text": [
      "Epoch 858: train=6.89191, val=7.6336, took 125.71 s\n",
      "  Validation Found 51648 of 54504, added 1971 (eff 94.76%) (0.197 FP/event)\n"
     ]
    },
    {
     "data": {
      "application/vnd.jupyter.widget-view+json": {
       "model_id": "",
       "version_major": 2,
       "version_minor": 0
      },
      "text/plain": [
       "HBox(children=(FloatProgress(value=0.0, description='Training', layout=Layout(flex='2'), max=1250.0, style=Pro…"
      ]
     },
     "metadata": {},
     "output_type": "display_data"
    },
    {
     "name": "stdout",
     "output_type": "stream",
     "text": [
      "Epoch 859: train=6.89357, val=7.6409, took 125.61 s\n",
      "  Validation Found 51642 of 54504, added 1958 (eff 94.75%) (0.196 FP/event)\n"
     ]
    },
    {
     "data": {
      "application/vnd.jupyter.widget-view+json": {
       "model_id": "",
       "version_major": 2,
       "version_minor": 0
      },
      "text/plain": [
       "HBox(children=(FloatProgress(value=0.0, description='Training', layout=Layout(flex='2'), max=1250.0, style=Pro…"
      ]
     },
     "metadata": {},
     "output_type": "display_data"
    },
    {
     "name": "stdout",
     "output_type": "stream",
     "text": [
      "Epoch 860: train=6.89155, val=7.66261, took 125.62 s\n",
      "  Validation Found 51625 of 54504, added 1916 (eff 94.72%) (0.192 FP/event)\n"
     ]
    },
    {
     "data": {
      "application/vnd.jupyter.widget-view+json": {
       "model_id": "",
       "version_major": 2,
       "version_minor": 0
      },
      "text/plain": [
       "HBox(children=(FloatProgress(value=0.0, description='Training', layout=Layout(flex='2'), max=1250.0, style=Pro…"
      ]
     },
     "metadata": {},
     "output_type": "display_data"
    },
    {
     "name": "stdout",
     "output_type": "stream",
     "text": [
      "Epoch 861: train=6.89218, val=7.67256, took 125.77 s\n",
      "  Validation Found 51737 of 54504, added 2078 (eff 94.92%) (0.208 FP/event)\n"
     ]
    },
    {
     "data": {
      "application/vnd.jupyter.widget-view+json": {
       "model_id": "",
       "version_major": 2,
       "version_minor": 0
      },
      "text/plain": [
       "HBox(children=(FloatProgress(value=0.0, description='Training', layout=Layout(flex='2'), max=1250.0, style=Pro…"
      ]
     },
     "metadata": {},
     "output_type": "display_data"
    },
    {
     "name": "stdout",
     "output_type": "stream",
     "text": [
      "Epoch 862: train=6.89311, val=7.61682, took 125.66 s\n",
      "  Validation Found 51704 of 54504, added 2074 (eff 94.86%) (0.208 FP/event)\n"
     ]
    },
    {
     "data": {
      "application/vnd.jupyter.widget-view+json": {
       "model_id": "",
       "version_major": 2,
       "version_minor": 0
      },
      "text/plain": [
       "HBox(children=(FloatProgress(value=0.0, description='Training', layout=Layout(flex='2'), max=1250.0, style=Pro…"
      ]
     },
     "metadata": {},
     "output_type": "display_data"
    },
    {
     "name": "stdout",
     "output_type": "stream",
     "text": [
      "Epoch 863: train=6.89043, val=7.61241, took 125.54 s\n",
      "  Validation Found 51779 of 54504, added 2221 (eff 95.00%) (0.222 FP/event)\n"
     ]
    },
    {
     "data": {
      "application/vnd.jupyter.widget-view+json": {
       "model_id": "",
       "version_major": 2,
       "version_minor": 0
      },
      "text/plain": [
       "HBox(children=(FloatProgress(value=0.0, description='Training', layout=Layout(flex='2'), max=1250.0, style=Pro…"
      ]
     },
     "metadata": {},
     "output_type": "display_data"
    },
    {
     "name": "stdout",
     "output_type": "stream",
     "text": [
      "Epoch 864: train=6.89241, val=7.69076, took 125.72 s\n",
      "  Validation Found 51605 of 54504, added 1886 (eff 94.68%) (0.189 FP/event)\n"
     ]
    },
    {
     "data": {
      "application/vnd.jupyter.widget-view+json": {
       "model_id": "",
       "version_major": 2,
       "version_minor": 0
      },
      "text/plain": [
       "HBox(children=(FloatProgress(value=0.0, description='Training', layout=Layout(flex='2'), max=1250.0, style=Pro…"
      ]
     },
     "metadata": {},
     "output_type": "display_data"
    },
    {
     "name": "stdout",
     "output_type": "stream",
     "text": [
      "Epoch 865: train=6.89103, val=7.68001, took 125.64 s\n",
      "  Validation Found 51653 of 54504, added 1972 (eff 94.77%) (0.197 FP/event)\n"
     ]
    },
    {
     "data": {
      "application/vnd.jupyter.widget-view+json": {
       "model_id": "",
       "version_major": 2,
       "version_minor": 0
      },
      "text/plain": [
       "HBox(children=(FloatProgress(value=0.0, description='Training', layout=Layout(flex='2'), max=1250.0, style=Pro…"
      ]
     },
     "metadata": {},
     "output_type": "display_data"
    },
    {
     "name": "stdout",
     "output_type": "stream",
     "text": [
      "Epoch 866: train=6.89051, val=7.66943, took 125.62 s\n",
      "  Validation Found 51630 of 54504, added 1901 (eff 94.73%) (0.19 FP/event)\n"
     ]
    },
    {
     "data": {
      "application/vnd.jupyter.widget-view+json": {
       "model_id": "",
       "version_major": 2,
       "version_minor": 0
      },
      "text/plain": [
       "HBox(children=(FloatProgress(value=0.0, description='Training', layout=Layout(flex='2'), max=1250.0, style=Pro…"
      ]
     },
     "metadata": {},
     "output_type": "display_data"
    },
    {
     "name": "stdout",
     "output_type": "stream",
     "text": [
      "Epoch 867: train=6.89152, val=7.71573, took 125.68 s\n",
      "  Validation Found 51614 of 54504, added 1925 (eff 94.70%) (0.193 FP/event)\n"
     ]
    },
    {
     "data": {
      "application/vnd.jupyter.widget-view+json": {
       "model_id": "",
       "version_major": 2,
       "version_minor": 0
      },
      "text/plain": [
       "HBox(children=(FloatProgress(value=0.0, description='Training', layout=Layout(flex='2'), max=1250.0, style=Pro…"
      ]
     },
     "metadata": {},
     "output_type": "display_data"
    },
    {
     "name": "stdout",
     "output_type": "stream",
     "text": [
      "Epoch 868: train=6.89076, val=7.61566, took 125.68 s\n",
      "  Validation Found 51674 of 54504, added 2002 (eff 94.81%) (0.201 FP/event)\n"
     ]
    },
    {
     "data": {
      "application/vnd.jupyter.widget-view+json": {
       "model_id": "",
       "version_major": 2,
       "version_minor": 0
      },
      "text/plain": [
       "HBox(children=(FloatProgress(value=0.0, description='Training', layout=Layout(flex='2'), max=1250.0, style=Pro…"
      ]
     },
     "metadata": {},
     "output_type": "display_data"
    },
    {
     "name": "stdout",
     "output_type": "stream",
     "text": [
      "Epoch 869: train=6.8893, val=7.64243, took 125.75 s\n",
      "  Validation Found 51663 of 54504, added 2020 (eff 94.79%) (0.202 FP/event)\n"
     ]
    },
    {
     "data": {
      "application/vnd.jupyter.widget-view+json": {
       "model_id": "",
       "version_major": 2,
       "version_minor": 0
      },
      "text/plain": [
       "HBox(children=(FloatProgress(value=0.0, description='Training', layout=Layout(flex='2'), max=1250.0, style=Pro…"
      ]
     },
     "metadata": {},
     "output_type": "display_data"
    },
    {
     "name": "stdout",
     "output_type": "stream",
     "text": [
      "Epoch 870: train=6.88882, val=7.65544, took 125.63 s\n",
      "  Validation Found 51630 of 54504, added 1892 (eff 94.73%) (0.189 FP/event)\n"
     ]
    },
    {
     "data": {
      "application/vnd.jupyter.widget-view+json": {
       "model_id": "",
       "version_major": 2,
       "version_minor": 0
      },
      "text/plain": [
       "HBox(children=(FloatProgress(value=0.0, description='Training', layout=Layout(flex='2'), max=1250.0, style=Pro…"
      ]
     },
     "metadata": {},
     "output_type": "display_data"
    },
    {
     "name": "stdout",
     "output_type": "stream",
     "text": [
      "Epoch 871: train=6.89172, val=7.68064, took 125.71 s\n",
      "  Validation Found 51673 of 54504, added 2019 (eff 94.81%) (0.202 FP/event)\n"
     ]
    },
    {
     "data": {
      "application/vnd.jupyter.widget-view+json": {
       "model_id": "",
       "version_major": 2,
       "version_minor": 0
      },
      "text/plain": [
       "HBox(children=(FloatProgress(value=0.0, description='Training', layout=Layout(flex='2'), max=1250.0, style=Pro…"
      ]
     },
     "metadata": {},
     "output_type": "display_data"
    },
    {
     "name": "stdout",
     "output_type": "stream",
     "text": [
      "Epoch 872: train=6.89206, val=7.62831, took 125.52 s\n",
      "  Validation Found 51672 of 54504, added 1969 (eff 94.80%) (0.197 FP/event)\n"
     ]
    },
    {
     "data": {
      "application/vnd.jupyter.widget-view+json": {
       "model_id": "",
       "version_major": 2,
       "version_minor": 0
      },
      "text/plain": [
       "HBox(children=(FloatProgress(value=0.0, description='Training', layout=Layout(flex='2'), max=1250.0, style=Pro…"
      ]
     },
     "metadata": {},
     "output_type": "display_data"
    },
    {
     "name": "stdout",
     "output_type": "stream",
     "text": [
      "Epoch 873: train=6.89088, val=7.65978, took 125.34 s\n",
      "  Validation Found 51670 of 54504, added 2044 (eff 94.80%) (0.205 FP/event)\n"
     ]
    },
    {
     "data": {
      "application/vnd.jupyter.widget-view+json": {
       "model_id": "",
       "version_major": 2,
       "version_minor": 0
      },
      "text/plain": [
       "HBox(children=(FloatProgress(value=0.0, description='Training', layout=Layout(flex='2'), max=1250.0, style=Pro…"
      ]
     },
     "metadata": {},
     "output_type": "display_data"
    },
    {
     "name": "stdout",
     "output_type": "stream",
     "text": [
      "Epoch 874: train=6.88979, val=7.68693, took 125.64 s\n",
      "  Validation Found 51712 of 54504, added 2045 (eff 94.88%) (0.205 FP/event)\n"
     ]
    },
    {
     "data": {
      "application/vnd.jupyter.widget-view+json": {
       "model_id": "",
       "version_major": 2,
       "version_minor": 0
      },
      "text/plain": [
       "HBox(children=(FloatProgress(value=0.0, description='Training', layout=Layout(flex='2'), max=1250.0, style=Pro…"
      ]
     },
     "metadata": {},
     "output_type": "display_data"
    },
    {
     "name": "stdout",
     "output_type": "stream",
     "text": [
      "Epoch 875: train=6.89056, val=7.70851, took 125.62 s\n",
      "  Validation Found 51662 of 54504, added 1933 (eff 94.79%) (0.194 FP/event)\n"
     ]
    },
    {
     "data": {
      "application/vnd.jupyter.widget-view+json": {
       "model_id": "",
       "version_major": 2,
       "version_minor": 0
      },
      "text/plain": [
       "HBox(children=(FloatProgress(value=0.0, description='Training', layout=Layout(flex='2'), max=1250.0, style=Pro…"
      ]
     },
     "metadata": {},
     "output_type": "display_data"
    },
    {
     "name": "stdout",
     "output_type": "stream",
     "text": [
      "Epoch 876: train=6.8883, val=7.6789, took 125.7 s\n",
      "  Validation Found 51668 of 54504, added 1969 (eff 94.80%) (0.197 FP/event)\n"
     ]
    },
    {
     "data": {
      "application/vnd.jupyter.widget-view+json": {
       "model_id": "",
       "version_major": 2,
       "version_minor": 0
      },
      "text/plain": [
       "HBox(children=(FloatProgress(value=0.0, description='Training', layout=Layout(flex='2'), max=1250.0, style=Pro…"
      ]
     },
     "metadata": {},
     "output_type": "display_data"
    },
    {
     "name": "stdout",
     "output_type": "stream",
     "text": [
      "Epoch 877: train=6.88983, val=7.68841, took 125.68 s\n",
      "  Validation Found 51668 of 54504, added 1954 (eff 94.80%) (0.196 FP/event)\n"
     ]
    },
    {
     "data": {
      "application/vnd.jupyter.widget-view+json": {
       "model_id": "",
       "version_major": 2,
       "version_minor": 0
      },
      "text/plain": [
       "HBox(children=(FloatProgress(value=0.0, description='Training', layout=Layout(flex='2'), max=1250.0, style=Pro…"
      ]
     },
     "metadata": {},
     "output_type": "display_data"
    },
    {
     "name": "stdout",
     "output_type": "stream",
     "text": [
      "Epoch 878: train=6.89027, val=7.72553, took 125.64 s\n",
      "  Validation Found 51628 of 54504, added 1956 (eff 94.72%) (0.196 FP/event)\n"
     ]
    },
    {
     "data": {
      "application/vnd.jupyter.widget-view+json": {
       "model_id": "",
       "version_major": 2,
       "version_minor": 0
      },
      "text/plain": [
       "HBox(children=(FloatProgress(value=0.0, description='Training', layout=Layout(flex='2'), max=1250.0, style=Pro…"
      ]
     },
     "metadata": {},
     "output_type": "display_data"
    },
    {
     "name": "stdout",
     "output_type": "stream",
     "text": [
      "Epoch 879: train=6.89074, val=7.62734, took 125.84 s\n",
      "  Validation Found 51672 of 54504, added 1984 (eff 94.80%) (0.199 FP/event)\n"
     ]
    },
    {
     "data": {
      "application/vnd.jupyter.widget-view+json": {
       "model_id": "",
       "version_major": 2,
       "version_minor": 0
      },
      "text/plain": [
       "HBox(children=(FloatProgress(value=0.0, description='Training', layout=Layout(flex='2'), max=1250.0, style=Pro…"
      ]
     },
     "metadata": {},
     "output_type": "display_data"
    },
    {
     "name": "stdout",
     "output_type": "stream",
     "text": [
      "Epoch 880: train=6.89107, val=7.65442, took 125.61 s\n",
      "  Validation Found 51626 of 54504, added 1954 (eff 94.72%) (0.196 FP/event)\n"
     ]
    },
    {
     "data": {
      "application/vnd.jupyter.widget-view+json": {
       "model_id": "",
       "version_major": 2,
       "version_minor": 0
      },
      "text/plain": [
       "HBox(children=(FloatProgress(value=0.0, description='Training', layout=Layout(flex='2'), max=1250.0, style=Pro…"
      ]
     },
     "metadata": {},
     "output_type": "display_data"
    },
    {
     "name": "stdout",
     "output_type": "stream",
     "text": [
      "Epoch 881: train=6.89016, val=7.70129, took 125.59 s\n",
      "  Validation Found 51673 of 54504, added 2011 (eff 94.81%) (0.201 FP/event)\n"
     ]
    },
    {
     "data": {
      "application/vnd.jupyter.widget-view+json": {
       "model_id": "",
       "version_major": 2,
       "version_minor": 0
      },
      "text/plain": [
       "HBox(children=(FloatProgress(value=0.0, description='Training', layout=Layout(flex='2'), max=1250.0, style=Pro…"
      ]
     },
     "metadata": {},
     "output_type": "display_data"
    },
    {
     "name": "stdout",
     "output_type": "stream",
     "text": [
      "Epoch 882: train=6.88958, val=7.71435, took 125.76 s\n",
      "  Validation Found 51634 of 54504, added 1933 (eff 94.73%) (0.194 FP/event)\n"
     ]
    },
    {
     "data": {
      "application/vnd.jupyter.widget-view+json": {
       "model_id": "",
       "version_major": 2,
       "version_minor": 0
      },
      "text/plain": [
       "HBox(children=(FloatProgress(value=0.0, description='Training', layout=Layout(flex='2'), max=1250.0, style=Pro…"
      ]
     },
     "metadata": {},
     "output_type": "display_data"
    },
    {
     "name": "stdout",
     "output_type": "stream",
     "text": [
      "Epoch 883: train=6.88958, val=7.71279, took 125.49 s\n",
      "  Validation Found 51654 of 54504, added 1926 (eff 94.77%) (0.193 FP/event)\n"
     ]
    },
    {
     "data": {
      "application/vnd.jupyter.widget-view+json": {
       "model_id": "",
       "version_major": 2,
       "version_minor": 0
      },
      "text/plain": [
       "HBox(children=(FloatProgress(value=0.0, description='Training', layout=Layout(flex='2'), max=1250.0, style=Pro…"
      ]
     },
     "metadata": {},
     "output_type": "display_data"
    },
    {
     "name": "stdout",
     "output_type": "stream",
     "text": [
      "Epoch 884: train=6.89094, val=7.66588, took 125.71 s\n",
      "  Validation Found 51656 of 54504, added 2021 (eff 94.77%) (0.202 FP/event)\n"
     ]
    },
    {
     "data": {
      "application/vnd.jupyter.widget-view+json": {
       "model_id": "",
       "version_major": 2,
       "version_minor": 0
      },
      "text/plain": [
       "HBox(children=(FloatProgress(value=0.0, description='Training', layout=Layout(flex='2'), max=1250.0, style=Pro…"
      ]
     },
     "metadata": {},
     "output_type": "display_data"
    },
    {
     "name": "stdout",
     "output_type": "stream",
     "text": [
      "Epoch 885: train=6.88751, val=7.70467, took 125.59 s\n",
      "  Validation Found 51685 of 54504, added 1988 (eff 94.83%) (0.199 FP/event)\n"
     ]
    },
    {
     "data": {
      "application/vnd.jupyter.widget-view+json": {
       "model_id": "",
       "version_major": 2,
       "version_minor": 0
      },
      "text/plain": [
       "HBox(children=(FloatProgress(value=0.0, description='Training', layout=Layout(flex='2'), max=1250.0, style=Pro…"
      ]
     },
     "metadata": {},
     "output_type": "display_data"
    },
    {
     "name": "stdout",
     "output_type": "stream",
     "text": [
      "Epoch 886: train=6.88823, val=7.69183, took 125.68 s\n",
      "  Validation Found 51544 of 54504, added 1837 (eff 94.57%) (0.184 FP/event)\n"
     ]
    },
    {
     "data": {
      "application/vnd.jupyter.widget-view+json": {
       "model_id": "",
       "version_major": 2,
       "version_minor": 0
      },
      "text/plain": [
       "HBox(children=(FloatProgress(value=0.0, description='Training', layout=Layout(flex='2'), max=1250.0, style=Pro…"
      ]
     },
     "metadata": {},
     "output_type": "display_data"
    },
    {
     "name": "stdout",
     "output_type": "stream",
     "text": [
      "Epoch 887: train=6.88728, val=7.75109, took 125.67 s\n",
      "  Validation Found 51528 of 54504, added 1771 (eff 94.54%) (0.177 FP/event)\n"
     ]
    },
    {
     "data": {
      "application/vnd.jupyter.widget-view+json": {
       "model_id": "",
       "version_major": 2,
       "version_minor": 0
      },
      "text/plain": [
       "HBox(children=(FloatProgress(value=0.0, description='Training', layout=Layout(flex='2'), max=1250.0, style=Pro…"
      ]
     },
     "metadata": {},
     "output_type": "display_data"
    },
    {
     "name": "stdout",
     "output_type": "stream",
     "text": [
      "Epoch 888: train=6.88959, val=7.63109, took 125.75 s\n",
      "  Validation Found 51700 of 54504, added 2012 (eff 94.86%) (0.202 FP/event)\n"
     ]
    },
    {
     "data": {
      "application/vnd.jupyter.widget-view+json": {
       "model_id": "",
       "version_major": 2,
       "version_minor": 0
      },
      "text/plain": [
       "HBox(children=(FloatProgress(value=0.0, description='Training', layout=Layout(flex='2'), max=1250.0, style=Pro…"
      ]
     },
     "metadata": {},
     "output_type": "display_data"
    },
    {
     "name": "stdout",
     "output_type": "stream",
     "text": [
      "Epoch 889: train=6.89096, val=7.66756, took 125.66 s\n",
      "  Validation Found 51665 of 54504, added 1980 (eff 94.79%) (0.198 FP/event)\n"
     ]
    },
    {
     "data": {
      "application/vnd.jupyter.widget-view+json": {
       "model_id": "",
       "version_major": 2,
       "version_minor": 0
      },
      "text/plain": [
       "HBox(children=(FloatProgress(value=0.0, description='Training', layout=Layout(flex='2'), max=1250.0, style=Pro…"
      ]
     },
     "metadata": {},
     "output_type": "display_data"
    },
    {
     "name": "stdout",
     "output_type": "stream",
     "text": [
      "Epoch 890: train=6.88989, val=7.62208, took 125.58 s\n",
      "  Validation Found 51688 of 54504, added 2001 (eff 94.83%) (0.2 FP/event)\n"
     ]
    },
    {
     "data": {
      "application/vnd.jupyter.widget-view+json": {
       "model_id": "",
       "version_major": 2,
       "version_minor": 0
      },
      "text/plain": [
       "HBox(children=(FloatProgress(value=0.0, description='Training', layout=Layout(flex='2'), max=1250.0, style=Pro…"
      ]
     },
     "metadata": {},
     "output_type": "display_data"
    },
    {
     "name": "stdout",
     "output_type": "stream",
     "text": [
      "Epoch 891: train=6.88934, val=7.63825, took 125.8 s\n",
      "  Validation Found 51659 of 54504, added 1931 (eff 94.78%) (0.193 FP/event)\n"
     ]
    },
    {
     "data": {
      "application/vnd.jupyter.widget-view+json": {
       "model_id": "",
       "version_major": 2,
       "version_minor": 0
      },
      "text/plain": [
       "HBox(children=(FloatProgress(value=0.0, description='Training', layout=Layout(flex='2'), max=1250.0, style=Pro…"
      ]
     },
     "metadata": {},
     "output_type": "display_data"
    },
    {
     "name": "stdout",
     "output_type": "stream",
     "text": [
      "Epoch 892: train=6.88813, val=7.71469, took 125.7 s\n",
      "  Validation Found 51625 of 54504, added 1951 (eff 94.72%) (0.195 FP/event)\n"
     ]
    },
    {
     "data": {
      "application/vnd.jupyter.widget-view+json": {
       "model_id": "",
       "version_major": 2,
       "version_minor": 0
      },
      "text/plain": [
       "HBox(children=(FloatProgress(value=0.0, description='Training', layout=Layout(flex='2'), max=1250.0, style=Pro…"
      ]
     },
     "metadata": {},
     "output_type": "display_data"
    },
    {
     "name": "stdout",
     "output_type": "stream",
     "text": [
      "Epoch 893: train=6.89054, val=7.61346, took 125.65 s\n",
      "  Validation Found 51737 of 54504, added 2070 (eff 94.92%) (0.207 FP/event)\n"
     ]
    },
    {
     "data": {
      "application/vnd.jupyter.widget-view+json": {
       "model_id": "",
       "version_major": 2,
       "version_minor": 0
      },
      "text/plain": [
       "HBox(children=(FloatProgress(value=0.0, description='Training', layout=Layout(flex='2'), max=1250.0, style=Pro…"
      ]
     },
     "metadata": {},
     "output_type": "display_data"
    },
    {
     "name": "stdout",
     "output_type": "stream",
     "text": [
      "Epoch 894: train=6.88929, val=7.72317, took 125.67 s\n",
      "  Validation Found 51558 of 54504, added 1772 (eff 94.59%) (0.177 FP/event)\n"
     ]
    },
    {
     "data": {
      "application/vnd.jupyter.widget-view+json": {
       "model_id": "",
       "version_major": 2,
       "version_minor": 0
      },
      "text/plain": [
       "HBox(children=(FloatProgress(value=0.0, description='Training', layout=Layout(flex='2'), max=1250.0, style=Pro…"
      ]
     },
     "metadata": {},
     "output_type": "display_data"
    },
    {
     "name": "stdout",
     "output_type": "stream",
     "text": [
      "Epoch 895: train=6.88804, val=7.66616, took 125.64 s\n",
      "  Validation Found 51632 of 54504, added 1923 (eff 94.73%) (0.193 FP/event)\n"
     ]
    },
    {
     "data": {
      "application/vnd.jupyter.widget-view+json": {
       "model_id": "",
       "version_major": 2,
       "version_minor": 0
      },
      "text/plain": [
       "HBox(children=(FloatProgress(value=0.0, description='Training', layout=Layout(flex='2'), max=1250.0, style=Pro…"
      ]
     },
     "metadata": {},
     "output_type": "display_data"
    },
    {
     "name": "stdout",
     "output_type": "stream",
     "text": [
      "Epoch 896: train=6.88929, val=7.67131, took 125.64 s\n",
      "  Validation Found 51699 of 54504, added 2028 (eff 94.85%) (0.203 FP/event)\n"
     ]
    },
    {
     "data": {
      "application/vnd.jupyter.widget-view+json": {
       "model_id": "",
       "version_major": 2,
       "version_minor": 0
      },
      "text/plain": [
       "HBox(children=(FloatProgress(value=0.0, description='Training', layout=Layout(flex='2'), max=1250.0, style=Pro…"
      ]
     },
     "metadata": {},
     "output_type": "display_data"
    },
    {
     "name": "stdout",
     "output_type": "stream",
     "text": [
      "Epoch 897: train=6.88644, val=7.7032, took 125.68 s\n",
      "  Validation Found 51665 of 54504, added 2057 (eff 94.79%) (0.206 FP/event)\n"
     ]
    },
    {
     "data": {
      "application/vnd.jupyter.widget-view+json": {
       "model_id": "",
       "version_major": 2,
       "version_minor": 0
      },
      "text/plain": [
       "HBox(children=(FloatProgress(value=0.0, description='Training', layout=Layout(flex='2'), max=1250.0, style=Pro…"
      ]
     },
     "metadata": {},
     "output_type": "display_data"
    },
    {
     "name": "stdout",
     "output_type": "stream",
     "text": [
      "Epoch 898: train=6.89031, val=7.62369, took 125.77 s\n",
      "  Validation Found 51704 of 54504, added 2039 (eff 94.86%) (0.204 FP/event)\n"
     ]
    },
    {
     "data": {
      "application/vnd.jupyter.widget-view+json": {
       "model_id": "",
       "version_major": 2,
       "version_minor": 0
      },
      "text/plain": [
       "HBox(children=(FloatProgress(value=0.0, description='Training', layout=Layout(flex='2'), max=1250.0, style=Pro…"
      ]
     },
     "metadata": {},
     "output_type": "display_data"
    },
    {
     "name": "stdout",
     "output_type": "stream",
     "text": [
      "Epoch 899: train=6.88828, val=7.69854, took 125.65 s\n",
      "  Validation Found 51682 of 54504, added 2047 (eff 94.82%) (0.205 FP/event)\n"
     ]
    },
    {
     "data": {
      "application/vnd.jupyter.widget-view+json": {
       "model_id": "",
       "version_major": 2,
       "version_minor": 0
      },
      "text/plain": [
       "HBox(children=(FloatProgress(value=0.0, description='Training', layout=Layout(flex='2'), max=1250.0, style=Pro…"
      ]
     },
     "metadata": {},
     "output_type": "display_data"
    },
    {
     "name": "stdout",
     "output_type": "stream",
     "text": [
      "Epoch 900: train=6.88999, val=7.68598, took 125.64 s\n",
      "  Validation Found 51739 of 54504, added 2059 (eff 94.93%) (0.206 FP/event)\n"
     ]
    },
    {
     "data": {
      "application/vnd.jupyter.widget-view+json": {
       "model_id": "",
       "version_major": 2,
       "version_minor": 0
      },
      "text/plain": [
       "HBox(children=(FloatProgress(value=0.0, description='Training', layout=Layout(flex='2'), max=1250.0, style=Pro…"
      ]
     },
     "metadata": {},
     "output_type": "display_data"
    },
    {
     "name": "stdout",
     "output_type": "stream",
     "text": [
      "Epoch 901: train=6.88941, val=7.61901, took 125.63 s\n",
      "  Validation Found 51676 of 54504, added 2003 (eff 94.81%) (0.201 FP/event)\n"
     ]
    },
    {
     "data": {
      "application/vnd.jupyter.widget-view+json": {
       "model_id": "",
       "version_major": 2,
       "version_minor": 0
      },
      "text/plain": [
       "HBox(children=(FloatProgress(value=0.0, description='Training', layout=Layout(flex='2'), max=1250.0, style=Pro…"
      ]
     },
     "metadata": {},
     "output_type": "display_data"
    },
    {
     "name": "stdout",
     "output_type": "stream",
     "text": [
      "Epoch 902: train=6.88983, val=7.68401, took 125.71 s\n",
      "  Validation Found 51687 of 54504, added 1941 (eff 94.83%) (0.194 FP/event)\n"
     ]
    },
    {
     "data": {
      "application/vnd.jupyter.widget-view+json": {
       "model_id": "",
       "version_major": 2,
       "version_minor": 0
      },
      "text/plain": [
       "HBox(children=(FloatProgress(value=0.0, description='Training', layout=Layout(flex='2'), max=1250.0, style=Pro…"
      ]
     },
     "metadata": {},
     "output_type": "display_data"
    },
    {
     "name": "stdout",
     "output_type": "stream",
     "text": [
      "Epoch 903: train=6.88887, val=7.67154, took 125.65 s\n",
      "  Validation Found 51607 of 54504, added 1912 (eff 94.68%) (0.191 FP/event)\n"
     ]
    },
    {
     "data": {
      "application/vnd.jupyter.widget-view+json": {
       "model_id": "",
       "version_major": 2,
       "version_minor": 0
      },
      "text/plain": [
       "HBox(children=(FloatProgress(value=0.0, description='Training', layout=Layout(flex='2'), max=1250.0, style=Pro…"
      ]
     },
     "metadata": {},
     "output_type": "display_data"
    },
    {
     "name": "stdout",
     "output_type": "stream",
     "text": [
      "Epoch 904: train=6.88946, val=7.64086, took 125.66 s\n",
      "  Validation Found 51732 of 54504, added 2151 (eff 94.91%) (0.215 FP/event)\n"
     ]
    },
    {
     "data": {
      "application/vnd.jupyter.widget-view+json": {
       "model_id": "",
       "version_major": 2,
       "version_minor": 0
      },
      "text/plain": [
       "HBox(children=(FloatProgress(value=0.0, description='Training', layout=Layout(flex='2'), max=1250.0, style=Pro…"
      ]
     },
     "metadata": {},
     "output_type": "display_data"
    },
    {
     "name": "stdout",
     "output_type": "stream",
     "text": [
      "Epoch 905: train=6.89041, val=7.65674, took 125.68 s\n",
      "  Validation Found 51687 of 54504, added 2077 (eff 94.83%) (0.208 FP/event)\n"
     ]
    },
    {
     "data": {
      "application/vnd.jupyter.widget-view+json": {
       "model_id": "",
       "version_major": 2,
       "version_minor": 0
      },
      "text/plain": [
       "HBox(children=(FloatProgress(value=0.0, description='Training', layout=Layout(flex='2'), max=1250.0, style=Pro…"
      ]
     },
     "metadata": {},
     "output_type": "display_data"
    },
    {
     "name": "stdout",
     "output_type": "stream",
     "text": [
      "Epoch 906: train=6.88978, val=7.68511, took 125.61 s\n",
      "  Validation Found 51654 of 54504, added 1954 (eff 94.77%) (0.196 FP/event)\n"
     ]
    },
    {
     "data": {
      "application/vnd.jupyter.widget-view+json": {
       "model_id": "",
       "version_major": 2,
       "version_minor": 0
      },
      "text/plain": [
       "HBox(children=(FloatProgress(value=0.0, description='Training', layout=Layout(flex='2'), max=1250.0, style=Pro…"
      ]
     },
     "metadata": {},
     "output_type": "display_data"
    },
    {
     "name": "stdout",
     "output_type": "stream",
     "text": [
      "Epoch 907: train=6.8902, val=7.67294, took 125.74 s\n",
      "  Validation Found 51721 of 54504, added 2092 (eff 94.89%) (0.21 FP/event)\n"
     ]
    },
    {
     "data": {
      "application/vnd.jupyter.widget-view+json": {
       "model_id": "",
       "version_major": 2,
       "version_minor": 0
      },
      "text/plain": [
       "HBox(children=(FloatProgress(value=0.0, description='Training', layout=Layout(flex='2'), max=1250.0, style=Pro…"
      ]
     },
     "metadata": {},
     "output_type": "display_data"
    },
    {
     "name": "stdout",
     "output_type": "stream",
     "text": [
      "Epoch 908: train=6.88735, val=7.6942, took 125.74 s\n",
      "  Validation Found 51612 of 54504, added 1909 (eff 94.69%) (0.191 FP/event)\n"
     ]
    },
    {
     "data": {
      "application/vnd.jupyter.widget-view+json": {
       "model_id": "",
       "version_major": 2,
       "version_minor": 0
      },
      "text/plain": [
       "HBox(children=(FloatProgress(value=0.0, description='Training', layout=Layout(flex='2'), max=1250.0, style=Pro…"
      ]
     },
     "metadata": {},
     "output_type": "display_data"
    },
    {
     "name": "stdout",
     "output_type": "stream",
     "text": [
      "Epoch 909: train=6.88706, val=7.74486, took 125.66 s\n",
      "  Validation Found 51591 of 54504, added 1865 (eff 94.66%) (0.187 FP/event)\n"
     ]
    },
    {
     "data": {
      "application/vnd.jupyter.widget-view+json": {
       "model_id": "",
       "version_major": 2,
       "version_minor": 0
      },
      "text/plain": [
       "HBox(children=(FloatProgress(value=0.0, description='Training', layout=Layout(flex='2'), max=1250.0, style=Pro…"
      ]
     },
     "metadata": {},
     "output_type": "display_data"
    },
    {
     "name": "stdout",
     "output_type": "stream",
     "text": [
      "Epoch 910: train=6.88439, val=7.70052, took 125.56 s\n",
      "  Validation Found 51618 of 54504, added 1908 (eff 94.70%) (0.191 FP/event)\n"
     ]
    },
    {
     "data": {
      "application/vnd.jupyter.widget-view+json": {
       "model_id": "",
       "version_major": 2,
       "version_minor": 0
      },
      "text/plain": [
       "HBox(children=(FloatProgress(value=0.0, description='Training', layout=Layout(flex='2'), max=1250.0, style=Pro…"
      ]
     },
     "metadata": {},
     "output_type": "display_data"
    },
    {
     "name": "stdout",
     "output_type": "stream",
     "text": [
      "Epoch 911: train=6.88907, val=7.69807, took 125.56 s\n",
      "  Validation Found 51616 of 54504, added 1860 (eff 94.70%) (0.186 FP/event)\n"
     ]
    },
    {
     "data": {
      "application/vnd.jupyter.widget-view+json": {
       "model_id": "",
       "version_major": 2,
       "version_minor": 0
      },
      "text/plain": [
       "HBox(children=(FloatProgress(value=0.0, description='Training', layout=Layout(flex='2'), max=1250.0, style=Pro…"
      ]
     },
     "metadata": {},
     "output_type": "display_data"
    },
    {
     "name": "stdout",
     "output_type": "stream",
     "text": [
      "Epoch 912: train=6.88798, val=7.65167, took 125.59 s\n",
      "  Validation Found 51664 of 54504, added 1971 (eff 94.79%) (0.197 FP/event)\n"
     ]
    },
    {
     "data": {
      "application/vnd.jupyter.widget-view+json": {
       "model_id": "",
       "version_major": 2,
       "version_minor": 0
      },
      "text/plain": [
       "HBox(children=(FloatProgress(value=0.0, description='Training', layout=Layout(flex='2'), max=1250.0, style=Pro…"
      ]
     },
     "metadata": {},
     "output_type": "display_data"
    },
    {
     "name": "stdout",
     "output_type": "stream",
     "text": [
      "Epoch 913: train=6.88764, val=7.64342, took 125.69 s\n",
      "  Validation Found 51658 of 54504, added 2010 (eff 94.78%) (0.201 FP/event)\n"
     ]
    },
    {
     "data": {
      "application/vnd.jupyter.widget-view+json": {
       "model_id": "",
       "version_major": 2,
       "version_minor": 0
      },
      "text/plain": [
       "HBox(children=(FloatProgress(value=0.0, description='Training', layout=Layout(flex='2'), max=1250.0, style=Pro…"
      ]
     },
     "metadata": {},
     "output_type": "display_data"
    },
    {
     "name": "stdout",
     "output_type": "stream",
     "text": [
      "Epoch 914: train=6.88689, val=7.66406, took 125.81 s\n",
      "  Validation Found 51634 of 54504, added 1956 (eff 94.73%) (0.196 FP/event)\n"
     ]
    },
    {
     "data": {
      "application/vnd.jupyter.widget-view+json": {
       "model_id": "",
       "version_major": 2,
       "version_minor": 0
      },
      "text/plain": [
       "HBox(children=(FloatProgress(value=0.0, description='Training', layout=Layout(flex='2'), max=1250.0, style=Pro…"
      ]
     },
     "metadata": {},
     "output_type": "display_data"
    },
    {
     "name": "stdout",
     "output_type": "stream",
     "text": [
      "Epoch 915: train=6.88729, val=7.69508, took 125.65 s\n",
      "  Validation Found 51567 of 54504, added 1828 (eff 94.61%) (0.183 FP/event)\n"
     ]
    },
    {
     "data": {
      "application/vnd.jupyter.widget-view+json": {
       "model_id": "",
       "version_major": 2,
       "version_minor": 0
      },
      "text/plain": [
       "HBox(children=(FloatProgress(value=0.0, description='Training', layout=Layout(flex='2'), max=1250.0, style=Pro…"
      ]
     },
     "metadata": {},
     "output_type": "display_data"
    },
    {
     "name": "stdout",
     "output_type": "stream",
     "text": [
      "Epoch 916: train=6.88689, val=7.7124, took 125.68 s\n",
      "  Validation Found 51641 of 54504, added 1953 (eff 94.75%) (0.196 FP/event)\n"
     ]
    },
    {
     "data": {
      "application/vnd.jupyter.widget-view+json": {
       "model_id": "",
       "version_major": 2,
       "version_minor": 0
      },
      "text/plain": [
       "HBox(children=(FloatProgress(value=0.0, description='Training', layout=Layout(flex='2'), max=1250.0, style=Pro…"
      ]
     },
     "metadata": {},
     "output_type": "display_data"
    },
    {
     "name": "stdout",
     "output_type": "stream",
     "text": [
      "Epoch 917: train=6.88717, val=7.75798, took 125.62 s\n",
      "  Validation Found 51592 of 54504, added 1849 (eff 94.66%) (0.185 FP/event)\n"
     ]
    },
    {
     "data": {
      "application/vnd.jupyter.widget-view+json": {
       "model_id": "",
       "version_major": 2,
       "version_minor": 0
      },
      "text/plain": [
       "HBox(children=(FloatProgress(value=0.0, description='Training', layout=Layout(flex='2'), max=1250.0, style=Pro…"
      ]
     },
     "metadata": {},
     "output_type": "display_data"
    },
    {
     "name": "stdout",
     "output_type": "stream",
     "text": [
      "Epoch 918: train=6.88521, val=7.61294, took 125.76 s\n",
      "  Validation Found 51743 of 54504, added 2099 (eff 94.93%) (0.21 FP/event)\n"
     ]
    },
    {
     "data": {
      "application/vnd.jupyter.widget-view+json": {
       "model_id": "",
       "version_major": 2,
       "version_minor": 0
      },
      "text/plain": [
       "HBox(children=(FloatProgress(value=0.0, description='Training', layout=Layout(flex='2'), max=1250.0, style=Pro…"
      ]
     },
     "metadata": {},
     "output_type": "display_data"
    },
    {
     "name": "stdout",
     "output_type": "stream",
     "text": [
      "Epoch 919: train=6.88858, val=7.65484, took 125.73 s\n",
      "  Validation Found 51701 of 54504, added 2031 (eff 94.86%) (0.203 FP/event)\n"
     ]
    },
    {
     "data": {
      "application/vnd.jupyter.widget-view+json": {
       "model_id": "",
       "version_major": 2,
       "version_minor": 0
      },
      "text/plain": [
       "HBox(children=(FloatProgress(value=0.0, description='Training', layout=Layout(flex='2'), max=1250.0, style=Pro…"
      ]
     },
     "metadata": {},
     "output_type": "display_data"
    },
    {
     "name": "stdout",
     "output_type": "stream",
     "text": [
      "Epoch 920: train=6.88808, val=7.66953, took 125.62 s\n",
      "  Validation Found 51632 of 54504, added 1933 (eff 94.73%) (0.194 FP/event)\n"
     ]
    },
    {
     "data": {
      "application/vnd.jupyter.widget-view+json": {
       "model_id": "",
       "version_major": 2,
       "version_minor": 0
      },
      "text/plain": [
       "HBox(children=(FloatProgress(value=0.0, description='Training', layout=Layout(flex='2'), max=1250.0, style=Pro…"
      ]
     },
     "metadata": {},
     "output_type": "display_data"
    },
    {
     "name": "stdout",
     "output_type": "stream",
     "text": [
      "Epoch 921: train=6.88623, val=7.66453, took 125.67 s\n",
      "  Validation Found 51613 of 54504, added 2013 (eff 94.70%) (0.202 FP/event)\n"
     ]
    },
    {
     "data": {
      "application/vnd.jupyter.widget-view+json": {
       "model_id": "",
       "version_major": 2,
       "version_minor": 0
      },
      "text/plain": [
       "HBox(children=(FloatProgress(value=0.0, description='Training', layout=Layout(flex='2'), max=1250.0, style=Pro…"
      ]
     },
     "metadata": {},
     "output_type": "display_data"
    },
    {
     "name": "stdout",
     "output_type": "stream",
     "text": [
      "Epoch 922: train=6.88612, val=7.72232, took 125.58 s\n",
      "  Validation Found 51636 of 54504, added 1949 (eff 94.74%) (0.195 FP/event)\n"
     ]
    },
    {
     "data": {
      "application/vnd.jupyter.widget-view+json": {
       "model_id": "",
       "version_major": 2,
       "version_minor": 0
      },
      "text/plain": [
       "HBox(children=(FloatProgress(value=0.0, description='Training', layout=Layout(flex='2'), max=1250.0, style=Pro…"
      ]
     },
     "metadata": {},
     "output_type": "display_data"
    },
    {
     "name": "stdout",
     "output_type": "stream",
     "text": [
      "Epoch 923: train=6.88514, val=7.72982, took 125.59 s\n",
      "  Validation Found 51654 of 54504, added 1984 (eff 94.77%) (0.199 FP/event)\n"
     ]
    },
    {
     "data": {
      "application/vnd.jupyter.widget-view+json": {
       "model_id": "",
       "version_major": 2,
       "version_minor": 0
      },
      "text/plain": [
       "HBox(children=(FloatProgress(value=0.0, description='Training', layout=Layout(flex='2'), max=1250.0, style=Pro…"
      ]
     },
     "metadata": {},
     "output_type": "display_data"
    },
    {
     "name": "stdout",
     "output_type": "stream",
     "text": [
      "Epoch 924: train=6.8873, val=7.72191, took 125.64 s\n",
      "  Validation Found 51573 of 54504, added 1862 (eff 94.62%) (0.186 FP/event)\n"
     ]
    },
    {
     "data": {
      "application/vnd.jupyter.widget-view+json": {
       "model_id": "",
       "version_major": 2,
       "version_minor": 0
      },
      "text/plain": [
       "HBox(children=(FloatProgress(value=0.0, description='Training', layout=Layout(flex='2'), max=1250.0, style=Pro…"
      ]
     },
     "metadata": {},
     "output_type": "display_data"
    },
    {
     "name": "stdout",
     "output_type": "stream",
     "text": [
      "Epoch 925: train=6.88655, val=7.58921, took 125.65 s\n",
      "  Validation Found 51741 of 54504, added 2151 (eff 94.93%) (0.215 FP/event)\n"
     ]
    },
    {
     "data": {
      "application/vnd.jupyter.widget-view+json": {
       "model_id": "",
       "version_major": 2,
       "version_minor": 0
      },
      "text/plain": [
       "HBox(children=(FloatProgress(value=0.0, description='Training', layout=Layout(flex='2'), max=1250.0, style=Pro…"
      ]
     },
     "metadata": {},
     "output_type": "display_data"
    },
    {
     "name": "stdout",
     "output_type": "stream",
     "text": [
      "Epoch 926: train=6.88488, val=7.64958, took 125.52 s\n",
      "  Validation Found 51655 of 54504, added 2076 (eff 94.77%) (0.208 FP/event)\n"
     ]
    },
    {
     "data": {
      "application/vnd.jupyter.widget-view+json": {
       "model_id": "",
       "version_major": 2,
       "version_minor": 0
      },
      "text/plain": [
       "HBox(children=(FloatProgress(value=0.0, description='Training', layout=Layout(flex='2'), max=1250.0, style=Pro…"
      ]
     },
     "metadata": {},
     "output_type": "display_data"
    },
    {
     "name": "stdout",
     "output_type": "stream",
     "text": [
      "Epoch 927: train=6.88452, val=7.65846, took 125.56 s\n",
      "  Validation Found 51663 of 54504, added 1955 (eff 94.79%) (0.196 FP/event)\n"
     ]
    },
    {
     "data": {
      "application/vnd.jupyter.widget-view+json": {
       "model_id": "",
       "version_major": 2,
       "version_minor": 0
      },
      "text/plain": [
       "HBox(children=(FloatProgress(value=0.0, description='Training', layout=Layout(flex='2'), max=1250.0, style=Pro…"
      ]
     },
     "metadata": {},
     "output_type": "display_data"
    },
    {
     "name": "stdout",
     "output_type": "stream",
     "text": [
      "Epoch 928: train=6.887, val=7.65428, took 125.62 s\n",
      "  Validation Found 51562 of 54504, added 1817 (eff 94.60%) (0.182 FP/event)\n"
     ]
    },
    {
     "data": {
      "application/vnd.jupyter.widget-view+json": {
       "model_id": "",
       "version_major": 2,
       "version_minor": 0
      },
      "text/plain": [
       "HBox(children=(FloatProgress(value=0.0, description='Training', layout=Layout(flex='2'), max=1250.0, style=Pro…"
      ]
     },
     "metadata": {},
     "output_type": "display_data"
    },
    {
     "name": "stdout",
     "output_type": "stream",
     "text": [
      "Epoch 929: train=6.88663, val=7.70928, took 125.6 s\n",
      "  Validation Found 51622 of 54504, added 1883 (eff 94.71%) (0.189 FP/event)\n"
     ]
    },
    {
     "data": {
      "application/vnd.jupyter.widget-view+json": {
       "model_id": "",
       "version_major": 2,
       "version_minor": 0
      },
      "text/plain": [
       "HBox(children=(FloatProgress(value=0.0, description='Training', layout=Layout(flex='2'), max=1250.0, style=Pro…"
      ]
     },
     "metadata": {},
     "output_type": "display_data"
    },
    {
     "name": "stdout",
     "output_type": "stream",
     "text": [
      "Epoch 930: train=6.88844, val=7.64832, took 125.63 s\n",
      "  Validation Found 51636 of 54504, added 1964 (eff 94.74%) (0.197 FP/event)\n"
     ]
    },
    {
     "data": {
      "application/vnd.jupyter.widget-view+json": {
       "model_id": "",
       "version_major": 2,
       "version_minor": 0
      },
      "text/plain": [
       "HBox(children=(FloatProgress(value=0.0, description='Training', layout=Layout(flex='2'), max=1250.0, style=Pro…"
      ]
     },
     "metadata": {},
     "output_type": "display_data"
    },
    {
     "name": "stdout",
     "output_type": "stream",
     "text": [
      "Epoch 931: train=6.88611, val=7.60501, took 125.67 s\n",
      "  Validation Found 51738 of 54504, added 2179 (eff 94.93%) (0.218 FP/event)\n"
     ]
    },
    {
     "data": {
      "application/vnd.jupyter.widget-view+json": {
       "model_id": "",
       "version_major": 2,
       "version_minor": 0
      },
      "text/plain": [
       "HBox(children=(FloatProgress(value=0.0, description='Training', layout=Layout(flex='2'), max=1250.0, style=Pro…"
      ]
     },
     "metadata": {},
     "output_type": "display_data"
    },
    {
     "name": "stdout",
     "output_type": "stream",
     "text": [
      "Epoch 932: train=6.88532, val=7.61386, took 125.67 s\n",
      "  Validation Found 51731 of 54504, added 2053 (eff 94.91%) (0.206 FP/event)\n"
     ]
    },
    {
     "data": {
      "application/vnd.jupyter.widget-view+json": {
       "model_id": "",
       "version_major": 2,
       "version_minor": 0
      },
      "text/plain": [
       "HBox(children=(FloatProgress(value=0.0, description='Training', layout=Layout(flex='2'), max=1250.0, style=Pro…"
      ]
     },
     "metadata": {},
     "output_type": "display_data"
    },
    {
     "name": "stdout",
     "output_type": "stream",
     "text": [
      "Epoch 933: train=6.88676, val=7.6486, took 125.63 s\n",
      "  Validation Found 51734 of 54504, added 2086 (eff 94.92%) (0.209 FP/event)\n"
     ]
    },
    {
     "data": {
      "application/vnd.jupyter.widget-view+json": {
       "model_id": "",
       "version_major": 2,
       "version_minor": 0
      },
      "text/plain": [
       "HBox(children=(FloatProgress(value=0.0, description='Training', layout=Layout(flex='2'), max=1250.0, style=Pro…"
      ]
     },
     "metadata": {},
     "output_type": "display_data"
    },
    {
     "name": "stdout",
     "output_type": "stream",
     "text": [
      "Epoch 934: train=6.88676, val=7.70204, took 125.68 s\n",
      "  Validation Found 51617 of 54504, added 1872 (eff 94.70%) (0.187 FP/event)\n"
     ]
    },
    {
     "data": {
      "application/vnd.jupyter.widget-view+json": {
       "model_id": "",
       "version_major": 2,
       "version_minor": 0
      },
      "text/plain": [
       "HBox(children=(FloatProgress(value=0.0, description='Training', layout=Layout(flex='2'), max=1250.0, style=Pro…"
      ]
     },
     "metadata": {},
     "output_type": "display_data"
    },
    {
     "name": "stdout",
     "output_type": "stream",
     "text": [
      "Epoch 935: train=6.88542, val=7.6292, took 125.69 s\n",
      "  Validation Found 51682 of 54504, added 1968 (eff 94.82%) (0.197 FP/event)\n"
     ]
    },
    {
     "data": {
      "application/vnd.jupyter.widget-view+json": {
       "model_id": "",
       "version_major": 2,
       "version_minor": 0
      },
      "text/plain": [
       "HBox(children=(FloatProgress(value=0.0, description='Training', layout=Layout(flex='2'), max=1250.0, style=Pro…"
      ]
     },
     "metadata": {},
     "output_type": "display_data"
    },
    {
     "name": "stdout",
     "output_type": "stream",
     "text": [
      "Epoch 936: train=6.88495, val=7.65324, took 125.64 s\n",
      "  Validation Found 51672 of 54504, added 1965 (eff 94.80%) (0.197 FP/event)\n"
     ]
    },
    {
     "data": {
      "application/vnd.jupyter.widget-view+json": {
       "model_id": "",
       "version_major": 2,
       "version_minor": 0
      },
      "text/plain": [
       "HBox(children=(FloatProgress(value=0.0, description='Training', layout=Layout(flex='2'), max=1250.0, style=Pro…"
      ]
     },
     "metadata": {},
     "output_type": "display_data"
    },
    {
     "name": "stdout",
     "output_type": "stream",
     "text": [
      "Epoch 937: train=6.8874, val=7.64887, took 125.61 s\n",
      "  Validation Found 51699 of 54504, added 2065 (eff 94.85%) (0.207 FP/event)\n"
     ]
    },
    {
     "data": {
      "application/vnd.jupyter.widget-view+json": {
       "model_id": "",
       "version_major": 2,
       "version_minor": 0
      },
      "text/plain": [
       "HBox(children=(FloatProgress(value=0.0, description='Training', layout=Layout(flex='2'), max=1250.0, style=Pro…"
      ]
     },
     "metadata": {},
     "output_type": "display_data"
    },
    {
     "name": "stdout",
     "output_type": "stream",
     "text": [
      "Epoch 938: train=6.88476, val=7.71346, took 125.59 s\n",
      "  Validation Found 51677 of 54504, added 1988 (eff 94.81%) (0.199 FP/event)\n"
     ]
    },
    {
     "data": {
      "application/vnd.jupyter.widget-view+json": {
       "model_id": "",
       "version_major": 2,
       "version_minor": 0
      },
      "text/plain": [
       "HBox(children=(FloatProgress(value=0.0, description='Training', layout=Layout(flex='2'), max=1250.0, style=Pro…"
      ]
     },
     "metadata": {},
     "output_type": "display_data"
    },
    {
     "name": "stdout",
     "output_type": "stream",
     "text": [
      "Epoch 939: train=6.8858, val=7.66304, took 125.72 s\n",
      "  Validation Found 51664 of 54504, added 1983 (eff 94.79%) (0.199 FP/event)\n"
     ]
    },
    {
     "data": {
      "application/vnd.jupyter.widget-view+json": {
       "model_id": "",
       "version_major": 2,
       "version_minor": 0
      },
      "text/plain": [
       "HBox(children=(FloatProgress(value=0.0, description='Training', layout=Layout(flex='2'), max=1250.0, style=Pro…"
      ]
     },
     "metadata": {},
     "output_type": "display_data"
    },
    {
     "name": "stdout",
     "output_type": "stream",
     "text": [
      "Epoch 940: train=6.88325, val=7.63739, took 125.67 s\n",
      "  Validation Found 51709 of 54504, added 2051 (eff 94.87%) (0.205 FP/event)\n"
     ]
    },
    {
     "data": {
      "application/vnd.jupyter.widget-view+json": {
       "model_id": "",
       "version_major": 2,
       "version_minor": 0
      },
      "text/plain": [
       "HBox(children=(FloatProgress(value=0.0, description='Training', layout=Layout(flex='2'), max=1250.0, style=Pro…"
      ]
     },
     "metadata": {},
     "output_type": "display_data"
    },
    {
     "name": "stdout",
     "output_type": "stream",
     "text": [
      "Epoch 941: train=6.88517, val=7.70124, took 125.78 s\n",
      "  Validation Found 51679 of 54504, added 1931 (eff 94.82%) (0.193 FP/event)\n"
     ]
    },
    {
     "data": {
      "application/vnd.jupyter.widget-view+json": {
       "model_id": "",
       "version_major": 2,
       "version_minor": 0
      },
      "text/plain": [
       "HBox(children=(FloatProgress(value=0.0, description='Training', layout=Layout(flex='2'), max=1250.0, style=Pro…"
      ]
     },
     "metadata": {},
     "output_type": "display_data"
    },
    {
     "name": "stdout",
     "output_type": "stream",
     "text": [
      "Epoch 942: train=6.88563, val=7.62596, took 125.68 s\n",
      "  Validation Found 51703 of 54504, added 2145 (eff 94.86%) (0.215 FP/event)\n"
     ]
    },
    {
     "data": {
      "application/vnd.jupyter.widget-view+json": {
       "model_id": "",
       "version_major": 2,
       "version_minor": 0
      },
      "text/plain": [
       "HBox(children=(FloatProgress(value=0.0, description='Training', layout=Layout(flex='2'), max=1250.0, style=Pro…"
      ]
     },
     "metadata": {},
     "output_type": "display_data"
    },
    {
     "name": "stdout",
     "output_type": "stream",
     "text": [
      "Epoch 943: train=6.88505, val=7.657, took 125.53 s\n",
      "  Validation Found 51657 of 54504, added 1932 (eff 94.78%) (0.193 FP/event)\n"
     ]
    },
    {
     "data": {
      "application/vnd.jupyter.widget-view+json": {
       "model_id": "",
       "version_major": 2,
       "version_minor": 0
      },
      "text/plain": [
       "HBox(children=(FloatProgress(value=0.0, description='Training', layout=Layout(flex='2'), max=1250.0, style=Pro…"
      ]
     },
     "metadata": {},
     "output_type": "display_data"
    },
    {
     "name": "stdout",
     "output_type": "stream",
     "text": [
      "Epoch 944: train=6.8841, val=7.72114, took 125.67 s\n",
      "  Validation Found 51630 of 54504, added 2018 (eff 94.73%) (0.202 FP/event)\n"
     ]
    },
    {
     "data": {
      "application/vnd.jupyter.widget-view+json": {
       "model_id": "",
       "version_major": 2,
       "version_minor": 0
      },
      "text/plain": [
       "HBox(children=(FloatProgress(value=0.0, description='Training', layout=Layout(flex='2'), max=1250.0, style=Pro…"
      ]
     },
     "metadata": {},
     "output_type": "display_data"
    },
    {
     "name": "stdout",
     "output_type": "stream",
     "text": [
      "Epoch 945: train=6.88608, val=7.65097, took 125.73 s\n",
      "  Validation Found 51743 of 54504, added 2117 (eff 94.93%) (0.212 FP/event)\n"
     ]
    },
    {
     "data": {
      "application/vnd.jupyter.widget-view+json": {
       "model_id": "",
       "version_major": 2,
       "version_minor": 0
      },
      "text/plain": [
       "HBox(children=(FloatProgress(value=0.0, description='Training', layout=Layout(flex='2'), max=1250.0, style=Pro…"
      ]
     },
     "metadata": {},
     "output_type": "display_data"
    },
    {
     "name": "stdout",
     "output_type": "stream",
     "text": [
      "Epoch 946: train=6.88264, val=7.651, took 125.65 s\n",
      "  Validation Found 51696 of 54504, added 2026 (eff 94.85%) (0.203 FP/event)\n"
     ]
    },
    {
     "data": {
      "application/vnd.jupyter.widget-view+json": {
       "model_id": "",
       "version_major": 2,
       "version_minor": 0
      },
      "text/plain": [
       "HBox(children=(FloatProgress(value=0.0, description='Training', layout=Layout(flex='2'), max=1250.0, style=Pro…"
      ]
     },
     "metadata": {},
     "output_type": "display_data"
    },
    {
     "name": "stdout",
     "output_type": "stream",
     "text": [
      "Epoch 947: train=6.8849, val=7.67314, took 125.62 s\n",
      "  Validation Found 51567 of 54504, added 1837 (eff 94.61%) (0.184 FP/event)\n"
     ]
    },
    {
     "data": {
      "application/vnd.jupyter.widget-view+json": {
       "model_id": "",
       "version_major": 2,
       "version_minor": 0
      },
      "text/plain": [
       "HBox(children=(FloatProgress(value=0.0, description='Training', layout=Layout(flex='2'), max=1250.0, style=Pro…"
      ]
     },
     "metadata": {},
     "output_type": "display_data"
    },
    {
     "name": "stdout",
     "output_type": "stream",
     "text": [
      "Epoch 948: train=6.88472, val=7.69079, took 126.28 s\n",
      "  Validation Found 51685 of 54504, added 2078 (eff 94.83%) (0.208 FP/event)\n"
     ]
    },
    {
     "data": {
      "application/vnd.jupyter.widget-view+json": {
       "model_id": "",
       "version_major": 2,
       "version_minor": 0
      },
      "text/plain": [
       "HBox(children=(FloatProgress(value=0.0, description='Training', layout=Layout(flex='2'), max=1250.0, style=Pro…"
      ]
     },
     "metadata": {},
     "output_type": "display_data"
    },
    {
     "name": "stdout",
     "output_type": "stream",
     "text": [
      "Epoch 949: train=6.88562, val=7.63726, took 126.44 s\n",
      "  Validation Found 51684 of 54504, added 2006 (eff 94.83%) (0.201 FP/event)\n"
     ]
    },
    {
     "data": {
      "application/vnd.jupyter.widget-view+json": {
       "model_id": "",
       "version_major": 2,
       "version_minor": 0
      },
      "text/plain": [
       "HBox(children=(FloatProgress(value=0.0, description='Training', layout=Layout(flex='2'), max=1250.0, style=Pro…"
      ]
     },
     "metadata": {},
     "output_type": "display_data"
    },
    {
     "name": "stdout",
     "output_type": "stream",
     "text": [
      "Epoch 950: train=6.88416, val=7.69499, took 125.8 s\n",
      "  Validation Found 51618 of 54504, added 1868 (eff 94.70%) (0.187 FP/event)\n"
     ]
    },
    {
     "data": {
      "application/vnd.jupyter.widget-view+json": {
       "model_id": "",
       "version_major": 2,
       "version_minor": 0
      },
      "text/plain": [
       "HBox(children=(FloatProgress(value=0.0, description='Training', layout=Layout(flex='2'), max=1250.0, style=Pro…"
      ]
     },
     "metadata": {},
     "output_type": "display_data"
    },
    {
     "name": "stdout",
     "output_type": "stream",
     "text": [
      "Epoch 951: train=6.88482, val=7.66908, took 125.81 s\n",
      "  Validation Found 51659 of 54504, added 2003 (eff 94.78%) (0.201 FP/event)\n"
     ]
    },
    {
     "data": {
      "application/vnd.jupyter.widget-view+json": {
       "model_id": "",
       "version_major": 2,
       "version_minor": 0
      },
      "text/plain": [
       "HBox(children=(FloatProgress(value=0.0, description='Training', layout=Layout(flex='2'), max=1250.0, style=Pro…"
      ]
     },
     "metadata": {},
     "output_type": "display_data"
    },
    {
     "name": "stdout",
     "output_type": "stream",
     "text": [
      "Epoch 952: train=6.88444, val=7.72838, took 125.59 s\n",
      "  Validation Found 51552 of 54504, added 1837 (eff 94.58%) (0.184 FP/event)\n"
     ]
    },
    {
     "data": {
      "application/vnd.jupyter.widget-view+json": {
       "model_id": "",
       "version_major": 2,
       "version_minor": 0
      },
      "text/plain": [
       "HBox(children=(FloatProgress(value=0.0, description='Training', layout=Layout(flex='2'), max=1250.0, style=Pro…"
      ]
     },
     "metadata": {},
     "output_type": "display_data"
    },
    {
     "name": "stdout",
     "output_type": "stream",
     "text": [
      "Epoch 953: train=6.88595, val=7.65957, took 125.6 s\n",
      "  Validation Found 51675 of 54504, added 2042 (eff 94.81%) (0.205 FP/event)\n"
     ]
    },
    {
     "data": {
      "application/vnd.jupyter.widget-view+json": {
       "model_id": "",
       "version_major": 2,
       "version_minor": 0
      },
      "text/plain": [
       "HBox(children=(FloatProgress(value=0.0, description='Training', layout=Layout(flex='2'), max=1250.0, style=Pro…"
      ]
     },
     "metadata": {},
     "output_type": "display_data"
    },
    {
     "name": "stdout",
     "output_type": "stream",
     "text": [
      "Epoch 954: train=6.88525, val=7.6701, took 125.68 s\n",
      "  Validation Found 51725 of 54504, added 2117 (eff 94.90%) (0.212 FP/event)\n"
     ]
    },
    {
     "data": {
      "application/vnd.jupyter.widget-view+json": {
       "model_id": "",
       "version_major": 2,
       "version_minor": 0
      },
      "text/plain": [
       "HBox(children=(FloatProgress(value=0.0, description='Training', layout=Layout(flex='2'), max=1250.0, style=Pro…"
      ]
     },
     "metadata": {},
     "output_type": "display_data"
    },
    {
     "name": "stdout",
     "output_type": "stream",
     "text": [
      "Epoch 955: train=6.88502, val=7.65755, took 125.6 s\n",
      "  Validation Found 51646 of 54504, added 1961 (eff 94.76%) (0.196 FP/event)\n"
     ]
    },
    {
     "data": {
      "application/vnd.jupyter.widget-view+json": {
       "model_id": "",
       "version_major": 2,
       "version_minor": 0
      },
      "text/plain": [
       "HBox(children=(FloatProgress(value=0.0, description='Training', layout=Layout(flex='2'), max=1250.0, style=Pro…"
      ]
     },
     "metadata": {},
     "output_type": "display_data"
    },
    {
     "name": "stdout",
     "output_type": "stream",
     "text": [
      "Epoch 956: train=6.88172, val=7.66825, took 125.66 s\n",
      "  Validation Found 51590 of 54504, added 1886 (eff 94.65%) (0.189 FP/event)\n"
     ]
    },
    {
     "data": {
      "application/vnd.jupyter.widget-view+json": {
       "model_id": "",
       "version_major": 2,
       "version_minor": 0
      },
      "text/plain": [
       "HBox(children=(FloatProgress(value=0.0, description='Training', layout=Layout(flex='2'), max=1250.0, style=Pro…"
      ]
     },
     "metadata": {},
     "output_type": "display_data"
    },
    {
     "name": "stdout",
     "output_type": "stream",
     "text": [
      "Epoch 957: train=6.88298, val=7.64055, took 125.67 s\n",
      "  Validation Found 51724 of 54504, added 2101 (eff 94.90%) (0.21 FP/event)\n"
     ]
    },
    {
     "data": {
      "application/vnd.jupyter.widget-view+json": {
       "model_id": "",
       "version_major": 2,
       "version_minor": 0
      },
      "text/plain": [
       "HBox(children=(FloatProgress(value=0.0, description='Training', layout=Layout(flex='2'), max=1250.0, style=Pro…"
      ]
     },
     "metadata": {},
     "output_type": "display_data"
    },
    {
     "name": "stdout",
     "output_type": "stream",
     "text": [
      "Epoch 958: train=6.88321, val=7.71724, took 125.67 s\n",
      "  Validation Found 51590 of 54504, added 1861 (eff 94.65%) (0.186 FP/event)\n"
     ]
    },
    {
     "data": {
      "application/vnd.jupyter.widget-view+json": {
       "model_id": "",
       "version_major": 2,
       "version_minor": 0
      },
      "text/plain": [
       "HBox(children=(FloatProgress(value=0.0, description='Training', layout=Layout(flex='2'), max=1250.0, style=Pro…"
      ]
     },
     "metadata": {},
     "output_type": "display_data"
    },
    {
     "name": "stdout",
     "output_type": "stream",
     "text": [
      "Epoch 959: train=6.88408, val=7.67322, took 125.73 s\n",
      "  Validation Found 51649 of 54504, added 1991 (eff 94.76%) (0.199 FP/event)\n"
     ]
    },
    {
     "data": {
      "application/vnd.jupyter.widget-view+json": {
       "model_id": "",
       "version_major": 2,
       "version_minor": 0
      },
      "text/plain": [
       "HBox(children=(FloatProgress(value=0.0, description='Training', layout=Layout(flex='2'), max=1250.0, style=Pro…"
      ]
     },
     "metadata": {},
     "output_type": "display_data"
    },
    {
     "name": "stdout",
     "output_type": "stream",
     "text": [
      "Epoch 960: train=6.88421, val=7.68272, took 125.67 s\n",
      "  Validation Found 51736 of 54504, added 2085 (eff 94.92%) (0.209 FP/event)\n"
     ]
    },
    {
     "data": {
      "application/vnd.jupyter.widget-view+json": {
       "model_id": "",
       "version_major": 2,
       "version_minor": 0
      },
      "text/plain": [
       "HBox(children=(FloatProgress(value=0.0, description='Training', layout=Layout(flex='2'), max=1250.0, style=Pro…"
      ]
     },
     "metadata": {},
     "output_type": "display_data"
    },
    {
     "name": "stdout",
     "output_type": "stream",
     "text": [
      "Epoch 961: train=6.88451, val=7.63858, took 125.67 s\n",
      "  Validation Found 51600 of 54504, added 1864 (eff 94.67%) (0.187 FP/event)\n"
     ]
    },
    {
     "data": {
      "application/vnd.jupyter.widget-view+json": {
       "model_id": "",
       "version_major": 2,
       "version_minor": 0
      },
      "text/plain": [
       "HBox(children=(FloatProgress(value=0.0, description='Training', layout=Layout(flex='2'), max=1250.0, style=Pro…"
      ]
     },
     "metadata": {},
     "output_type": "display_data"
    },
    {
     "name": "stdout",
     "output_type": "stream",
     "text": [
      "Epoch 962: train=6.88468, val=7.65245, took 127.08 s\n",
      "  Validation Found 51714 of 54504, added 2028 (eff 94.88%) (0.203 FP/event)\n"
     ]
    },
    {
     "data": {
      "application/vnd.jupyter.widget-view+json": {
       "model_id": "",
       "version_major": 2,
       "version_minor": 0
      },
      "text/plain": [
       "HBox(children=(FloatProgress(value=0.0, description='Training', layout=Layout(flex='2'), max=1250.0, style=Pro…"
      ]
     },
     "metadata": {},
     "output_type": "display_data"
    },
    {
     "name": "stdout",
     "output_type": "stream",
     "text": [
      "Epoch 963: train=6.88622, val=7.69028, took 125.99 s\n",
      "  Validation Found 51632 of 54504, added 1911 (eff 94.73%) (0.191 FP/event)\n"
     ]
    },
    {
     "data": {
      "application/vnd.jupyter.widget-view+json": {
       "model_id": "",
       "version_major": 2,
       "version_minor": 0
      },
      "text/plain": [
       "HBox(children=(FloatProgress(value=0.0, description='Training', layout=Layout(flex='2'), max=1250.0, style=Pro…"
      ]
     },
     "metadata": {},
     "output_type": "display_data"
    },
    {
     "name": "stdout",
     "output_type": "stream",
     "text": [
      "Epoch 964: train=6.88453, val=7.68362, took 125.62 s\n",
      "  Validation Found 51724 of 54504, added 2041 (eff 94.90%) (0.204 FP/event)\n"
     ]
    },
    {
     "data": {
      "application/vnd.jupyter.widget-view+json": {
       "model_id": "",
       "version_major": 2,
       "version_minor": 0
      },
      "text/plain": [
       "HBox(children=(FloatProgress(value=0.0, description='Training', layout=Layout(flex='2'), max=1250.0, style=Pro…"
      ]
     },
     "metadata": {},
     "output_type": "display_data"
    },
    {
     "name": "stdout",
     "output_type": "stream",
     "text": [
      "Epoch 965: train=6.88527, val=7.68257, took 125.72 s\n",
      "  Validation Found 51685 of 54504, added 1995 (eff 94.83%) (0.2 FP/event)\n"
     ]
    },
    {
     "data": {
      "application/vnd.jupyter.widget-view+json": {
       "model_id": "",
       "version_major": 2,
       "version_minor": 0
      },
      "text/plain": [
       "HBox(children=(FloatProgress(value=0.0, description='Training', layout=Layout(flex='2'), max=1250.0, style=Pro…"
      ]
     },
     "metadata": {},
     "output_type": "display_data"
    },
    {
     "name": "stdout",
     "output_type": "stream",
     "text": [
      "Epoch 966: train=6.88362, val=7.77505, took 125.59 s\n",
      "  Validation Found 51601 of 54504, added 1879 (eff 94.67%) (0.188 FP/event)\n"
     ]
    },
    {
     "data": {
      "application/vnd.jupyter.widget-view+json": {
       "model_id": "",
       "version_major": 2,
       "version_minor": 0
      },
      "text/plain": [
       "HBox(children=(FloatProgress(value=0.0, description='Training', layout=Layout(flex='2'), max=1250.0, style=Pro…"
      ]
     },
     "metadata": {},
     "output_type": "display_data"
    },
    {
     "name": "stdout",
     "output_type": "stream",
     "text": [
      "Epoch 967: train=6.88061, val=7.64778, took 125.73 s\n",
      "  Validation Found 51675 of 54504, added 1990 (eff 94.81%) (0.199 FP/event)\n"
     ]
    },
    {
     "data": {
      "application/vnd.jupyter.widget-view+json": {
       "model_id": "",
       "version_major": 2,
       "version_minor": 0
      },
      "text/plain": [
       "HBox(children=(FloatProgress(value=0.0, description='Training', layout=Layout(flex='2'), max=1250.0, style=Pro…"
      ]
     },
     "metadata": {},
     "output_type": "display_data"
    },
    {
     "name": "stdout",
     "output_type": "stream",
     "text": [
      "Epoch 968: train=6.88535, val=7.65449, took 125.73 s\n",
      "  Validation Found 51649 of 54504, added 1951 (eff 94.76%) (0.195 FP/event)\n"
     ]
    },
    {
     "data": {
      "application/vnd.jupyter.widget-view+json": {
       "model_id": "",
       "version_major": 2,
       "version_minor": 0
      },
      "text/plain": [
       "HBox(children=(FloatProgress(value=0.0, description='Training', layout=Layout(flex='2'), max=1250.0, style=Pro…"
      ]
     },
     "metadata": {},
     "output_type": "display_data"
    },
    {
     "name": "stdout",
     "output_type": "stream",
     "text": [
      "Epoch 969: train=6.88418, val=7.74544, took 125.6 s\n",
      "  Validation Found 51553 of 54504, added 1846 (eff 94.59%) (0.185 FP/event)\n"
     ]
    },
    {
     "data": {
      "application/vnd.jupyter.widget-view+json": {
       "model_id": "",
       "version_major": 2,
       "version_minor": 0
      },
      "text/plain": [
       "HBox(children=(FloatProgress(value=0.0, description='Training', layout=Layout(flex='2'), max=1250.0, style=Pro…"
      ]
     },
     "metadata": {},
     "output_type": "display_data"
    },
    {
     "name": "stdout",
     "output_type": "stream",
     "text": [
      "Epoch 970: train=6.88409, val=7.61105, took 125.61 s\n",
      "  Validation Found 51668 of 54504, added 1980 (eff 94.80%) (0.198 FP/event)\n"
     ]
    },
    {
     "data": {
      "application/vnd.jupyter.widget-view+json": {
       "model_id": "",
       "version_major": 2,
       "version_minor": 0
      },
      "text/plain": [
       "HBox(children=(FloatProgress(value=0.0, description='Training', layout=Layout(flex='2'), max=1250.0, style=Pro…"
      ]
     },
     "metadata": {},
     "output_type": "display_data"
    },
    {
     "name": "stdout",
     "output_type": "stream",
     "text": [
      "Epoch 971: train=6.88213, val=7.65803, took 125.71 s\n",
      "  Validation Found 51731 of 54504, added 2071 (eff 94.91%) (0.207 FP/event)\n"
     ]
    },
    {
     "data": {
      "application/vnd.jupyter.widget-view+json": {
       "model_id": "",
       "version_major": 2,
       "version_minor": 0
      },
      "text/plain": [
       "HBox(children=(FloatProgress(value=0.0, description='Training', layout=Layout(flex='2'), max=1250.0, style=Pro…"
      ]
     },
     "metadata": {},
     "output_type": "display_data"
    },
    {
     "name": "stdout",
     "output_type": "stream",
     "text": [
      "Epoch 972: train=6.88085, val=7.68226, took 125.73 s\n",
      "  Validation Found 51625 of 54504, added 1967 (eff 94.72%) (0.197 FP/event)\n"
     ]
    },
    {
     "data": {
      "application/vnd.jupyter.widget-view+json": {
       "model_id": "",
       "version_major": 2,
       "version_minor": 0
      },
      "text/plain": [
       "HBox(children=(FloatProgress(value=0.0, description='Training', layout=Layout(flex='2'), max=1250.0, style=Pro…"
      ]
     },
     "metadata": {},
     "output_type": "display_data"
    },
    {
     "name": "stdout",
     "output_type": "stream",
     "text": [
      "Epoch 973: train=6.88317, val=7.73424, took 125.74 s\n",
      "  Validation Found 51515 of 54504, added 1808 (eff 94.52%) (0.181 FP/event)\n"
     ]
    },
    {
     "data": {
      "application/vnd.jupyter.widget-view+json": {
       "model_id": "",
       "version_major": 2,
       "version_minor": 0
      },
      "text/plain": [
       "HBox(children=(FloatProgress(value=0.0, description='Training', layout=Layout(flex='2'), max=1250.0, style=Pro…"
      ]
     },
     "metadata": {},
     "output_type": "display_data"
    },
    {
     "name": "stdout",
     "output_type": "stream",
     "text": [
      "Epoch 974: train=6.88184, val=7.65759, took 125.74 s\n",
      "  Validation Found 51633 of 54504, added 1958 (eff 94.73%) (0.196 FP/event)\n"
     ]
    },
    {
     "data": {
      "application/vnd.jupyter.widget-view+json": {
       "model_id": "",
       "version_major": 2,
       "version_minor": 0
      },
      "text/plain": [
       "HBox(children=(FloatProgress(value=0.0, description='Training', layout=Layout(flex='2'), max=1250.0, style=Pro…"
      ]
     },
     "metadata": {},
     "output_type": "display_data"
    },
    {
     "name": "stdout",
     "output_type": "stream",
     "text": [
      "Epoch 975: train=6.88275, val=7.68942, took 125.63 s\n",
      "  Validation Found 51643 of 54504, added 2012 (eff 94.75%) (0.202 FP/event)\n"
     ]
    },
    {
     "data": {
      "application/vnd.jupyter.widget-view+json": {
       "model_id": "",
       "version_major": 2,
       "version_minor": 0
      },
      "text/plain": [
       "HBox(children=(FloatProgress(value=0.0, description='Training', layout=Layout(flex='2'), max=1250.0, style=Pro…"
      ]
     },
     "metadata": {},
     "output_type": "display_data"
    },
    {
     "name": "stdout",
     "output_type": "stream",
     "text": [
      "Epoch 976: train=6.88396, val=7.77776, took 125.56 s\n",
      "  Validation Found 51591 of 54504, added 1851 (eff 94.66%) (0.185 FP/event)\n"
     ]
    },
    {
     "data": {
      "application/vnd.jupyter.widget-view+json": {
       "model_id": "",
       "version_major": 2,
       "version_minor": 0
      },
      "text/plain": [
       "HBox(children=(FloatProgress(value=0.0, description='Training', layout=Layout(flex='2'), max=1250.0, style=Pro…"
      ]
     },
     "metadata": {},
     "output_type": "display_data"
    },
    {
     "name": "stdout",
     "output_type": "stream",
     "text": [
      "Epoch 977: train=6.88249, val=7.68609, took 125.79 s\n",
      "  Validation Found 51672 of 54504, added 2020 (eff 94.80%) (0.202 FP/event)\n"
     ]
    },
    {
     "data": {
      "application/vnd.jupyter.widget-view+json": {
       "model_id": "",
       "version_major": 2,
       "version_minor": 0
      },
      "text/plain": [
       "HBox(children=(FloatProgress(value=0.0, description='Training', layout=Layout(flex='2'), max=1250.0, style=Pro…"
      ]
     },
     "metadata": {},
     "output_type": "display_data"
    },
    {
     "name": "stdout",
     "output_type": "stream",
     "text": [
      "Epoch 978: train=6.87972, val=7.7062, took 125.71 s\n",
      "  Validation Found 51649 of 54504, added 1991 (eff 94.76%) (0.199 FP/event)\n"
     ]
    },
    {
     "data": {
      "application/vnd.jupyter.widget-view+json": {
       "model_id": "",
       "version_major": 2,
       "version_minor": 0
      },
      "text/plain": [
       "HBox(children=(FloatProgress(value=0.0, description='Training', layout=Layout(flex='2'), max=1250.0, style=Pro…"
      ]
     },
     "metadata": {},
     "output_type": "display_data"
    },
    {
     "name": "stdout",
     "output_type": "stream",
     "text": [
      "Epoch 979: train=6.8833, val=7.64025, took 125.73 s\n",
      "  Validation Found 51645 of 54504, added 1959 (eff 94.75%) (0.196 FP/event)\n"
     ]
    },
    {
     "data": {
      "application/vnd.jupyter.widget-view+json": {
       "model_id": "",
       "version_major": 2,
       "version_minor": 0
      },
      "text/plain": [
       "HBox(children=(FloatProgress(value=0.0, description='Training', layout=Layout(flex='2'), max=1250.0, style=Pro…"
      ]
     },
     "metadata": {},
     "output_type": "display_data"
    },
    {
     "name": "stdout",
     "output_type": "stream",
     "text": [
      "Epoch 980: train=6.88389, val=7.72503, took 125.59 s\n",
      "  Validation Found 51566 of 54504, added 1867 (eff 94.61%) (0.187 FP/event)\n"
     ]
    },
    {
     "data": {
      "application/vnd.jupyter.widget-view+json": {
       "model_id": "",
       "version_major": 2,
       "version_minor": 0
      },
      "text/plain": [
       "HBox(children=(FloatProgress(value=0.0, description='Training', layout=Layout(flex='2'), max=1250.0, style=Pro…"
      ]
     },
     "metadata": {},
     "output_type": "display_data"
    },
    {
     "name": "stdout",
     "output_type": "stream",
     "text": [
      "Epoch 981: train=6.88277, val=7.63521, took 125.66 s\n",
      "  Validation Found 51715 of 54504, added 2033 (eff 94.88%) (0.204 FP/event)\n"
     ]
    },
    {
     "data": {
      "application/vnd.jupyter.widget-view+json": {
       "model_id": "",
       "version_major": 2,
       "version_minor": 0
      },
      "text/plain": [
       "HBox(children=(FloatProgress(value=0.0, description='Training', layout=Layout(flex='2'), max=1250.0, style=Pro…"
      ]
     },
     "metadata": {},
     "output_type": "display_data"
    },
    {
     "name": "stdout",
     "output_type": "stream",
     "text": [
      "Epoch 982: train=6.88354, val=7.72137, took 125.68 s\n",
      "  Validation Found 51517 of 54504, added 1770 (eff 94.52%) (0.177 FP/event)\n"
     ]
    },
    {
     "data": {
      "application/vnd.jupyter.widget-view+json": {
       "model_id": "",
       "version_major": 2,
       "version_minor": 0
      },
      "text/plain": [
       "HBox(children=(FloatProgress(value=0.0, description='Training', layout=Layout(flex='2'), max=1250.0, style=Pro…"
      ]
     },
     "metadata": {},
     "output_type": "display_data"
    },
    {
     "name": "stdout",
     "output_type": "stream",
     "text": [
      "Epoch 983: train=6.88186, val=7.63001, took 125.64 s\n",
      "  Validation Found 51680 of 54504, added 2072 (eff 94.82%) (0.208 FP/event)\n"
     ]
    },
    {
     "data": {
      "application/vnd.jupyter.widget-view+json": {
       "model_id": "",
       "version_major": 2,
       "version_minor": 0
      },
      "text/plain": [
       "HBox(children=(FloatProgress(value=0.0, description='Training', layout=Layout(flex='2'), max=1250.0, style=Pro…"
      ]
     },
     "metadata": {},
     "output_type": "display_data"
    },
    {
     "name": "stdout",
     "output_type": "stream",
     "text": [
      "Epoch 984: train=6.88363, val=7.70122, took 125.55 s\n",
      "  Validation Found 51629 of 54504, added 1905 (eff 94.73%) (0.191 FP/event)\n"
     ]
    },
    {
     "data": {
      "application/vnd.jupyter.widget-view+json": {
       "model_id": "",
       "version_major": 2,
       "version_minor": 0
      },
      "text/plain": [
       "HBox(children=(FloatProgress(value=0.0, description='Training', layout=Layout(flex='2'), max=1250.0, style=Pro…"
      ]
     },
     "metadata": {},
     "output_type": "display_data"
    },
    {
     "name": "stdout",
     "output_type": "stream",
     "text": [
      "Epoch 985: train=6.88031, val=7.70319, took 125.73 s\n",
      "  Validation Found 51603 of 54504, added 1922 (eff 94.68%) (0.192 FP/event)\n"
     ]
    },
    {
     "data": {
      "application/vnd.jupyter.widget-view+json": {
       "model_id": "",
       "version_major": 2,
       "version_minor": 0
      },
      "text/plain": [
       "HBox(children=(FloatProgress(value=0.0, description='Training', layout=Layout(flex='2'), max=1250.0, style=Pro…"
      ]
     },
     "metadata": {},
     "output_type": "display_data"
    },
    {
     "name": "stdout",
     "output_type": "stream",
     "text": [
      "Epoch 986: train=6.88117, val=7.66266, took 125.59 s\n",
      "  Validation Found 51643 of 54504, added 1952 (eff 94.75%) (0.195 FP/event)\n"
     ]
    },
    {
     "data": {
      "application/vnd.jupyter.widget-view+json": {
       "model_id": "",
       "version_major": 2,
       "version_minor": 0
      },
      "text/plain": [
       "HBox(children=(FloatProgress(value=0.0, description='Training', layout=Layout(flex='2'), max=1250.0, style=Pro…"
      ]
     },
     "metadata": {},
     "output_type": "display_data"
    },
    {
     "name": "stdout",
     "output_type": "stream",
     "text": [
      "Epoch 987: train=6.88165, val=7.6561, took 125.75 s\n",
      "  Validation Found 51661 of 54504, added 2017 (eff 94.78%) (0.202 FP/event)\n"
     ]
    },
    {
     "data": {
      "application/vnd.jupyter.widget-view+json": {
       "model_id": "",
       "version_major": 2,
       "version_minor": 0
      },
      "text/plain": [
       "HBox(children=(FloatProgress(value=0.0, description='Training', layout=Layout(flex='2'), max=1250.0, style=Pro…"
      ]
     },
     "metadata": {},
     "output_type": "display_data"
    },
    {
     "name": "stdout",
     "output_type": "stream",
     "text": [
      "Epoch 988: train=6.87992, val=7.67232, took 125.64 s\n",
      "  Validation Found 51621 of 54504, added 1858 (eff 94.71%) (0.186 FP/event)\n"
     ]
    },
    {
     "data": {
      "application/vnd.jupyter.widget-view+json": {
       "model_id": "",
       "version_major": 2,
       "version_minor": 0
      },
      "text/plain": [
       "HBox(children=(FloatProgress(value=0.0, description='Training', layout=Layout(flex='2'), max=1250.0, style=Pro…"
      ]
     },
     "metadata": {},
     "output_type": "display_data"
    },
    {
     "name": "stdout",
     "output_type": "stream",
     "text": [
      "Epoch 989: train=6.88159, val=7.59306, took 125.65 s\n",
      "  Validation Found 51678 of 54504, added 2100 (eff 94.82%) (0.21 FP/event)\n"
     ]
    },
    {
     "data": {
      "application/vnd.jupyter.widget-view+json": {
       "model_id": "",
       "version_major": 2,
       "version_minor": 0
      },
      "text/plain": [
       "HBox(children=(FloatProgress(value=0.0, description='Training', layout=Layout(flex='2'), max=1250.0, style=Pro…"
      ]
     },
     "metadata": {},
     "output_type": "display_data"
    },
    {
     "name": "stdout",
     "output_type": "stream",
     "text": [
      "Epoch 990: train=6.88147, val=7.63478, took 125.58 s\n",
      "  Validation Found 51682 of 54504, added 2040 (eff 94.82%) (0.204 FP/event)\n"
     ]
    },
    {
     "data": {
      "application/vnd.jupyter.widget-view+json": {
       "model_id": "",
       "version_major": 2,
       "version_minor": 0
      },
      "text/plain": [
       "HBox(children=(FloatProgress(value=0.0, description='Training', layout=Layout(flex='2'), max=1250.0, style=Pro…"
      ]
     },
     "metadata": {},
     "output_type": "display_data"
    },
    {
     "name": "stdout",
     "output_type": "stream",
     "text": [
      "Epoch 991: train=6.87938, val=7.69768, took 125.58 s\n",
      "  Validation Found 51646 of 54504, added 1984 (eff 94.76%) (0.199 FP/event)\n"
     ]
    },
    {
     "data": {
      "application/vnd.jupyter.widget-view+json": {
       "model_id": "",
       "version_major": 2,
       "version_minor": 0
      },
      "text/plain": [
       "HBox(children=(FloatProgress(value=0.0, description='Training', layout=Layout(flex='2'), max=1250.0, style=Pro…"
      ]
     },
     "metadata": {},
     "output_type": "display_data"
    },
    {
     "name": "stdout",
     "output_type": "stream",
     "text": [
      "Epoch 992: train=6.88125, val=7.73117, took 125.66 s\n",
      "  Validation Found 51560 of 54504, added 1844 (eff 94.60%) (0.185 FP/event)\n"
     ]
    },
    {
     "data": {
      "application/vnd.jupyter.widget-view+json": {
       "model_id": "",
       "version_major": 2,
       "version_minor": 0
      },
      "text/plain": [
       "HBox(children=(FloatProgress(value=0.0, description='Training', layout=Layout(flex='2'), max=1250.0, style=Pro…"
      ]
     },
     "metadata": {},
     "output_type": "display_data"
    },
    {
     "name": "stdout",
     "output_type": "stream",
     "text": [
      "Epoch 993: train=6.88159, val=7.65876, took 125.66 s\n",
      "  Validation Found 51564 of 54504, added 1807 (eff 94.61%) (0.181 FP/event)\n"
     ]
    },
    {
     "data": {
      "application/vnd.jupyter.widget-view+json": {
       "model_id": "",
       "version_major": 2,
       "version_minor": 0
      },
      "text/plain": [
       "HBox(children=(FloatProgress(value=0.0, description='Training', layout=Layout(flex='2'), max=1250.0, style=Pro…"
      ]
     },
     "metadata": {},
     "output_type": "display_data"
    },
    {
     "name": "stdout",
     "output_type": "stream",
     "text": [
      "Epoch 994: train=6.88257, val=7.64948, took 125.78 s\n",
      "  Validation Found 51632 of 54504, added 1937 (eff 94.73%) (0.194 FP/event)\n"
     ]
    },
    {
     "data": {
      "application/vnd.jupyter.widget-view+json": {
       "model_id": "",
       "version_major": 2,
       "version_minor": 0
      },
      "text/plain": [
       "HBox(children=(FloatProgress(value=0.0, description='Training', layout=Layout(flex='2'), max=1250.0, style=Pro…"
      ]
     },
     "metadata": {},
     "output_type": "display_data"
    },
    {
     "name": "stdout",
     "output_type": "stream",
     "text": [
      "Epoch 995: train=6.88253, val=7.61346, took 125.61 s\n",
      "  Validation Found 51759 of 54504, added 2190 (eff 94.96%) (0.219 FP/event)\n"
     ]
    },
    {
     "data": {
      "application/vnd.jupyter.widget-view+json": {
       "model_id": "",
       "version_major": 2,
       "version_minor": 0
      },
      "text/plain": [
       "HBox(children=(FloatProgress(value=0.0, description='Training', layout=Layout(flex='2'), max=1250.0, style=Pro…"
      ]
     },
     "metadata": {},
     "output_type": "display_data"
    },
    {
     "name": "stdout",
     "output_type": "stream",
     "text": [
      "Epoch 996: train=6.88217, val=7.66468, took 125.57 s\n",
      "  Validation Found 51715 of 54504, added 2076 (eff 94.88%) (0.208 FP/event)\n"
     ]
    },
    {
     "data": {
      "application/vnd.jupyter.widget-view+json": {
       "model_id": "",
       "version_major": 2,
       "version_minor": 0
      },
      "text/plain": [
       "HBox(children=(FloatProgress(value=0.0, description='Training', layout=Layout(flex='2'), max=1250.0, style=Pro…"
      ]
     },
     "metadata": {},
     "output_type": "display_data"
    },
    {
     "name": "stdout",
     "output_type": "stream",
     "text": [
      "Epoch 997: train=6.88052, val=7.61663, took 125.68 s\n",
      "  Validation Found 51615 of 54504, added 1882 (eff 94.70%) (0.188 FP/event)\n"
     ]
    },
    {
     "data": {
      "application/vnd.jupyter.widget-view+json": {
       "model_id": "",
       "version_major": 2,
       "version_minor": 0
      },
      "text/plain": [
       "HBox(children=(FloatProgress(value=0.0, description='Training', layout=Layout(flex='2'), max=1250.0, style=Pro…"
      ]
     },
     "metadata": {},
     "output_type": "display_data"
    },
    {
     "name": "stdout",
     "output_type": "stream",
     "text": [
      "Epoch 998: train=6.88041, val=7.74146, took 125.66 s\n",
      "  Validation Found 51523 of 54504, added 1836 (eff 94.53%) (0.184 FP/event)\n"
     ]
    },
    {
     "data": {
      "application/vnd.jupyter.widget-view+json": {
       "model_id": "",
       "version_major": 2,
       "version_minor": 0
      },
      "text/plain": [
       "HBox(children=(FloatProgress(value=0.0, description='Training', layout=Layout(flex='2'), max=1250.0, style=Pro…"
      ]
     },
     "metadata": {},
     "output_type": "display_data"
    },
    {
     "name": "stdout",
     "output_type": "stream",
     "text": [
      "Epoch 999: train=6.87977, val=7.73065, took 125.65 s\n",
      "  Validation Found 51525 of 54504, added 1816 (eff 94.53%) (0.182 FP/event)\n",
      "\n"
     ]
    },
    {
     "data": {
      "application/javascript": [
       "/* Put everything inside the global mpl namespace */\n",
       "window.mpl = {};\n",
       "\n",
       "\n",
       "mpl.get_websocket_type = function() {\n",
       "    if (typeof(WebSocket) !== 'undefined') {\n",
       "        return WebSocket;\n",
       "    } else if (typeof(MozWebSocket) !== 'undefined') {\n",
       "        return MozWebSocket;\n",
       "    } else {\n",
       "        alert('Your browser does not have WebSocket support. ' +\n",
       "              'Please try Chrome, Safari or Firefox ≥ 6. ' +\n",
       "              'Firefox 4 and 5 are also supported but you ' +\n",
       "              'have to enable WebSockets in about:config.');\n",
       "    };\n",
       "}\n",
       "\n",
       "mpl.figure = function(figure_id, websocket, ondownload, parent_element) {\n",
       "    this.id = figure_id;\n",
       "\n",
       "    this.ws = websocket;\n",
       "\n",
       "    this.supports_binary = (this.ws.binaryType != undefined);\n",
       "\n",
       "    if (!this.supports_binary) {\n",
       "        var warnings = document.getElementById(\"mpl-warnings\");\n",
       "        if (warnings) {\n",
       "            warnings.style.display = 'block';\n",
       "            warnings.textContent = (\n",
       "                \"This browser does not support binary websocket messages. \" +\n",
       "                    \"Performance may be slow.\");\n",
       "        }\n",
       "    }\n",
       "\n",
       "    this.imageObj = new Image();\n",
       "\n",
       "    this.context = undefined;\n",
       "    this.message = undefined;\n",
       "    this.canvas = undefined;\n",
       "    this.rubberband_canvas = undefined;\n",
       "    this.rubberband_context = undefined;\n",
       "    this.format_dropdown = undefined;\n",
       "\n",
       "    this.image_mode = 'full';\n",
       "\n",
       "    this.root = $('<div/>');\n",
       "    this._root_extra_style(this.root)\n",
       "    this.root.attr('style', 'display: inline-block');\n",
       "\n",
       "    $(parent_element).append(this.root);\n",
       "\n",
       "    this._init_header(this);\n",
       "    this._init_canvas(this);\n",
       "    this._init_toolbar(this);\n",
       "\n",
       "    var fig = this;\n",
       "\n",
       "    this.waiting = false;\n",
       "\n",
       "    this.ws.onopen =  function () {\n",
       "            fig.send_message(\"supports_binary\", {value: fig.supports_binary});\n",
       "            fig.send_message(\"send_image_mode\", {});\n",
       "            if (mpl.ratio != 1) {\n",
       "                fig.send_message(\"set_dpi_ratio\", {'dpi_ratio': mpl.ratio});\n",
       "            }\n",
       "            fig.send_message(\"refresh\", {});\n",
       "        }\n",
       "\n",
       "    this.imageObj.onload = function() {\n",
       "            if (fig.image_mode == 'full') {\n",
       "                // Full images could contain transparency (where diff images\n",
       "                // almost always do), so we need to clear the canvas so that\n",
       "                // there is no ghosting.\n",
       "                fig.context.clearRect(0, 0, fig.canvas.width, fig.canvas.height);\n",
       "            }\n",
       "            fig.context.drawImage(fig.imageObj, 0, 0);\n",
       "        };\n",
       "\n",
       "    this.imageObj.onunload = function() {\n",
       "        fig.ws.close();\n",
       "    }\n",
       "\n",
       "    this.ws.onmessage = this._make_on_message_function(this);\n",
       "\n",
       "    this.ondownload = ondownload;\n",
       "}\n",
       "\n",
       "mpl.figure.prototype._init_header = function() {\n",
       "    var titlebar = $(\n",
       "        '<div class=\"ui-dialog-titlebar ui-widget-header ui-corner-all ' +\n",
       "        'ui-helper-clearfix\"/>');\n",
       "    var titletext = $(\n",
       "        '<div class=\"ui-dialog-title\" style=\"width: 100%; ' +\n",
       "        'text-align: center; padding: 3px;\"/>');\n",
       "    titlebar.append(titletext)\n",
       "    this.root.append(titlebar);\n",
       "    this.header = titletext[0];\n",
       "}\n",
       "\n",
       "\n",
       "\n",
       "mpl.figure.prototype._canvas_extra_style = function(canvas_div) {\n",
       "\n",
       "}\n",
       "\n",
       "\n",
       "mpl.figure.prototype._root_extra_style = function(canvas_div) {\n",
       "\n",
       "}\n",
       "\n",
       "mpl.figure.prototype._init_canvas = function() {\n",
       "    var fig = this;\n",
       "\n",
       "    var canvas_div = $('<div/>');\n",
       "\n",
       "    canvas_div.attr('style', 'position: relative; clear: both; outline: 0');\n",
       "\n",
       "    function canvas_keyboard_event(event) {\n",
       "        return fig.key_event(event, event['data']);\n",
       "    }\n",
       "\n",
       "    canvas_div.keydown('key_press', canvas_keyboard_event);\n",
       "    canvas_div.keyup('key_release', canvas_keyboard_event);\n",
       "    this.canvas_div = canvas_div\n",
       "    this._canvas_extra_style(canvas_div)\n",
       "    this.root.append(canvas_div);\n",
       "\n",
       "    var canvas = $('<canvas/>');\n",
       "    canvas.addClass('mpl-canvas');\n",
       "    canvas.attr('style', \"left: 0; top: 0; z-index: 0; outline: 0\")\n",
       "\n",
       "    this.canvas = canvas[0];\n",
       "    this.context = canvas[0].getContext(\"2d\");\n",
       "\n",
       "    var backingStore = this.context.backingStorePixelRatio ||\n",
       "\tthis.context.webkitBackingStorePixelRatio ||\n",
       "\tthis.context.mozBackingStorePixelRatio ||\n",
       "\tthis.context.msBackingStorePixelRatio ||\n",
       "\tthis.context.oBackingStorePixelRatio ||\n",
       "\tthis.context.backingStorePixelRatio || 1;\n",
       "\n",
       "    mpl.ratio = (window.devicePixelRatio || 1) / backingStore;\n",
       "\n",
       "    var rubberband = $('<canvas/>');\n",
       "    rubberband.attr('style', \"position: absolute; left: 0; top: 0; z-index: 1;\")\n",
       "\n",
       "    var pass_mouse_events = true;\n",
       "\n",
       "    canvas_div.resizable({\n",
       "        start: function(event, ui) {\n",
       "            pass_mouse_events = false;\n",
       "        },\n",
       "        resize: function(event, ui) {\n",
       "            fig.request_resize(ui.size.width, ui.size.height);\n",
       "        },\n",
       "        stop: function(event, ui) {\n",
       "            pass_mouse_events = true;\n",
       "            fig.request_resize(ui.size.width, ui.size.height);\n",
       "        },\n",
       "    });\n",
       "\n",
       "    function mouse_event_fn(event) {\n",
       "        if (pass_mouse_events)\n",
       "            return fig.mouse_event(event, event['data']);\n",
       "    }\n",
       "\n",
       "    rubberband.mousedown('button_press', mouse_event_fn);\n",
       "    rubberband.mouseup('button_release', mouse_event_fn);\n",
       "    // Throttle sequential mouse events to 1 every 20ms.\n",
       "    rubberband.mousemove('motion_notify', mouse_event_fn);\n",
       "\n",
       "    rubberband.mouseenter('figure_enter', mouse_event_fn);\n",
       "    rubberband.mouseleave('figure_leave', mouse_event_fn);\n",
       "\n",
       "    canvas_div.on(\"wheel\", function (event) {\n",
       "        event = event.originalEvent;\n",
       "        event['data'] = 'scroll'\n",
       "        if (event.deltaY < 0) {\n",
       "            event.step = 1;\n",
       "        } else {\n",
       "            event.step = -1;\n",
       "        }\n",
       "        mouse_event_fn(event);\n",
       "    });\n",
       "\n",
       "    canvas_div.append(canvas);\n",
       "    canvas_div.append(rubberband);\n",
       "\n",
       "    this.rubberband = rubberband;\n",
       "    this.rubberband_canvas = rubberband[0];\n",
       "    this.rubberband_context = rubberband[0].getContext(\"2d\");\n",
       "    this.rubberband_context.strokeStyle = \"#000000\";\n",
       "\n",
       "    this._resize_canvas = function(width, height) {\n",
       "        // Keep the size of the canvas, canvas container, and rubber band\n",
       "        // canvas in synch.\n",
       "        canvas_div.css('width', width)\n",
       "        canvas_div.css('height', height)\n",
       "\n",
       "        canvas.attr('width', width * mpl.ratio);\n",
       "        canvas.attr('height', height * mpl.ratio);\n",
       "        canvas.attr('style', 'width: ' + width + 'px; height: ' + height + 'px;');\n",
       "\n",
       "        rubberband.attr('width', width);\n",
       "        rubberband.attr('height', height);\n",
       "    }\n",
       "\n",
       "    // Set the figure to an initial 600x600px, this will subsequently be updated\n",
       "    // upon first draw.\n",
       "    this._resize_canvas(600, 600);\n",
       "\n",
       "    // Disable right mouse context menu.\n",
       "    $(this.rubberband_canvas).bind(\"contextmenu\",function(e){\n",
       "        return false;\n",
       "    });\n",
       "\n",
       "    function set_focus () {\n",
       "        canvas.focus();\n",
       "        canvas_div.focus();\n",
       "    }\n",
       "\n",
       "    window.setTimeout(set_focus, 100);\n",
       "}\n",
       "\n",
       "mpl.figure.prototype._init_toolbar = function() {\n",
       "    var fig = this;\n",
       "\n",
       "    var nav_element = $('<div/>');\n",
       "    nav_element.attr('style', 'width: 100%');\n",
       "    this.root.append(nav_element);\n",
       "\n",
       "    // Define a callback function for later on.\n",
       "    function toolbar_event(event) {\n",
       "        return fig.toolbar_button_onclick(event['data']);\n",
       "    }\n",
       "    function toolbar_mouse_event(event) {\n",
       "        return fig.toolbar_button_onmouseover(event['data']);\n",
       "    }\n",
       "\n",
       "    for(var toolbar_ind in mpl.toolbar_items) {\n",
       "        var name = mpl.toolbar_items[toolbar_ind][0];\n",
       "        var tooltip = mpl.toolbar_items[toolbar_ind][1];\n",
       "        var image = mpl.toolbar_items[toolbar_ind][2];\n",
       "        var method_name = mpl.toolbar_items[toolbar_ind][3];\n",
       "\n",
       "        if (!name) {\n",
       "            // put a spacer in here.\n",
       "            continue;\n",
       "        }\n",
       "        var button = $('<button/>');\n",
       "        button.addClass('ui-button ui-widget ui-state-default ui-corner-all ' +\n",
       "                        'ui-button-icon-only');\n",
       "        button.attr('role', 'button');\n",
       "        button.attr('aria-disabled', 'false');\n",
       "        button.click(method_name, toolbar_event);\n",
       "        button.mouseover(tooltip, toolbar_mouse_event);\n",
       "\n",
       "        var icon_img = $('<span/>');\n",
       "        icon_img.addClass('ui-button-icon-primary ui-icon');\n",
       "        icon_img.addClass(image);\n",
       "        icon_img.addClass('ui-corner-all');\n",
       "\n",
       "        var tooltip_span = $('<span/>');\n",
       "        tooltip_span.addClass('ui-button-text');\n",
       "        tooltip_span.html(tooltip);\n",
       "\n",
       "        button.append(icon_img);\n",
       "        button.append(tooltip_span);\n",
       "\n",
       "        nav_element.append(button);\n",
       "    }\n",
       "\n",
       "    var fmt_picker_span = $('<span/>');\n",
       "\n",
       "    var fmt_picker = $('<select/>');\n",
       "    fmt_picker.addClass('mpl-toolbar-option ui-widget ui-widget-content');\n",
       "    fmt_picker_span.append(fmt_picker);\n",
       "    nav_element.append(fmt_picker_span);\n",
       "    this.format_dropdown = fmt_picker[0];\n",
       "\n",
       "    for (var ind in mpl.extensions) {\n",
       "        var fmt = mpl.extensions[ind];\n",
       "        var option = $(\n",
       "            '<option/>', {selected: fmt === mpl.default_extension}).html(fmt);\n",
       "        fmt_picker.append(option);\n",
       "    }\n",
       "\n",
       "    // Add hover states to the ui-buttons\n",
       "    $( \".ui-button\" ).hover(\n",
       "        function() { $(this).addClass(\"ui-state-hover\");},\n",
       "        function() { $(this).removeClass(\"ui-state-hover\");}\n",
       "    );\n",
       "\n",
       "    var status_bar = $('<span class=\"mpl-message\"/>');\n",
       "    nav_element.append(status_bar);\n",
       "    this.message = status_bar[0];\n",
       "}\n",
       "\n",
       "mpl.figure.prototype.request_resize = function(x_pixels, y_pixels) {\n",
       "    // Request matplotlib to resize the figure. Matplotlib will then trigger a resize in the client,\n",
       "    // which will in turn request a refresh of the image.\n",
       "    this.send_message('resize', {'width': x_pixels, 'height': y_pixels});\n",
       "}\n",
       "\n",
       "mpl.figure.prototype.send_message = function(type, properties) {\n",
       "    properties['type'] = type;\n",
       "    properties['figure_id'] = this.id;\n",
       "    this.ws.send(JSON.stringify(properties));\n",
       "}\n",
       "\n",
       "mpl.figure.prototype.send_draw_message = function() {\n",
       "    if (!this.waiting) {\n",
       "        this.waiting = true;\n",
       "        this.ws.send(JSON.stringify({type: \"draw\", figure_id: this.id}));\n",
       "    }\n",
       "}\n",
       "\n",
       "\n",
       "mpl.figure.prototype.handle_save = function(fig, msg) {\n",
       "    var format_dropdown = fig.format_dropdown;\n",
       "    var format = format_dropdown.options[format_dropdown.selectedIndex].value;\n",
       "    fig.ondownload(fig, format);\n",
       "}\n",
       "\n",
       "\n",
       "mpl.figure.prototype.handle_resize = function(fig, msg) {\n",
       "    var size = msg['size'];\n",
       "    if (size[0] != fig.canvas.width || size[1] != fig.canvas.height) {\n",
       "        fig._resize_canvas(size[0], size[1]);\n",
       "        fig.send_message(\"refresh\", {});\n",
       "    };\n",
       "}\n",
       "\n",
       "mpl.figure.prototype.handle_rubberband = function(fig, msg) {\n",
       "    var x0 = msg['x0'] / mpl.ratio;\n",
       "    var y0 = (fig.canvas.height - msg['y0']) / mpl.ratio;\n",
       "    var x1 = msg['x1'] / mpl.ratio;\n",
       "    var y1 = (fig.canvas.height - msg['y1']) / mpl.ratio;\n",
       "    x0 = Math.floor(x0) + 0.5;\n",
       "    y0 = Math.floor(y0) + 0.5;\n",
       "    x1 = Math.floor(x1) + 0.5;\n",
       "    y1 = Math.floor(y1) + 0.5;\n",
       "    var min_x = Math.min(x0, x1);\n",
       "    var min_y = Math.min(y0, y1);\n",
       "    var width = Math.abs(x1 - x0);\n",
       "    var height = Math.abs(y1 - y0);\n",
       "\n",
       "    fig.rubberband_context.clearRect(\n",
       "        0, 0, fig.canvas.width / mpl.ratio, fig.canvas.height / mpl.ratio);\n",
       "\n",
       "    fig.rubberband_context.strokeRect(min_x, min_y, width, height);\n",
       "}\n",
       "\n",
       "mpl.figure.prototype.handle_figure_label = function(fig, msg) {\n",
       "    // Updates the figure title.\n",
       "    fig.header.textContent = msg['label'];\n",
       "}\n",
       "\n",
       "mpl.figure.prototype.handle_cursor = function(fig, msg) {\n",
       "    var cursor = msg['cursor'];\n",
       "    switch(cursor)\n",
       "    {\n",
       "    case 0:\n",
       "        cursor = 'pointer';\n",
       "        break;\n",
       "    case 1:\n",
       "        cursor = 'default';\n",
       "        break;\n",
       "    case 2:\n",
       "        cursor = 'crosshair';\n",
       "        break;\n",
       "    case 3:\n",
       "        cursor = 'move';\n",
       "        break;\n",
       "    }\n",
       "    fig.rubberband_canvas.style.cursor = cursor;\n",
       "}\n",
       "\n",
       "mpl.figure.prototype.handle_message = function(fig, msg) {\n",
       "    fig.message.textContent = msg['message'];\n",
       "}\n",
       "\n",
       "mpl.figure.prototype.handle_draw = function(fig, msg) {\n",
       "    // Request the server to send over a new figure.\n",
       "    fig.send_draw_message();\n",
       "}\n",
       "\n",
       "mpl.figure.prototype.handle_image_mode = function(fig, msg) {\n",
       "    fig.image_mode = msg['mode'];\n",
       "}\n",
       "\n",
       "mpl.figure.prototype.updated_canvas_event = function() {\n",
       "    // Called whenever the canvas gets updated.\n",
       "    this.send_message(\"ack\", {});\n",
       "}\n",
       "\n",
       "// A function to construct a web socket function for onmessage handling.\n",
       "// Called in the figure constructor.\n",
       "mpl.figure.prototype._make_on_message_function = function(fig) {\n",
       "    return function socket_on_message(evt) {\n",
       "        if (evt.data instanceof Blob) {\n",
       "            /* FIXME: We get \"Resource interpreted as Image but\n",
       "             * transferred with MIME type text/plain:\" errors on\n",
       "             * Chrome.  But how to set the MIME type?  It doesn't seem\n",
       "             * to be part of the websocket stream */\n",
       "            evt.data.type = \"image/png\";\n",
       "\n",
       "            /* Free the memory for the previous frames */\n",
       "            if (fig.imageObj.src) {\n",
       "                (window.URL || window.webkitURL).revokeObjectURL(\n",
       "                    fig.imageObj.src);\n",
       "            }\n",
       "\n",
       "            fig.imageObj.src = (window.URL || window.webkitURL).createObjectURL(\n",
       "                evt.data);\n",
       "            fig.updated_canvas_event();\n",
       "            fig.waiting = false;\n",
       "            return;\n",
       "        }\n",
       "        else if (typeof evt.data === 'string' && evt.data.slice(0, 21) == \"data:image/png;base64\") {\n",
       "            fig.imageObj.src = evt.data;\n",
       "            fig.updated_canvas_event();\n",
       "            fig.waiting = false;\n",
       "            return;\n",
       "        }\n",
       "\n",
       "        var msg = JSON.parse(evt.data);\n",
       "        var msg_type = msg['type'];\n",
       "\n",
       "        // Call the  \"handle_{type}\" callback, which takes\n",
       "        // the figure and JSON message as its only arguments.\n",
       "        try {\n",
       "            var callback = fig[\"handle_\" + msg_type];\n",
       "        } catch (e) {\n",
       "            console.log(\"No handler for the '\" + msg_type + \"' message type: \", msg);\n",
       "            return;\n",
       "        }\n",
       "\n",
       "        if (callback) {\n",
       "            try {\n",
       "                // console.log(\"Handling '\" + msg_type + \"' message: \", msg);\n",
       "                callback(fig, msg);\n",
       "            } catch (e) {\n",
       "                console.log(\"Exception inside the 'handler_\" + msg_type + \"' callback:\", e, e.stack, msg);\n",
       "            }\n",
       "        }\n",
       "    };\n",
       "}\n",
       "\n",
       "// from http://stackoverflow.com/questions/1114465/getting-mouse-location-in-canvas\n",
       "mpl.findpos = function(e) {\n",
       "    //this section is from http://www.quirksmode.org/js/events_properties.html\n",
       "    var targ;\n",
       "    if (!e)\n",
       "        e = window.event;\n",
       "    if (e.target)\n",
       "        targ = e.target;\n",
       "    else if (e.srcElement)\n",
       "        targ = e.srcElement;\n",
       "    if (targ.nodeType == 3) // defeat Safari bug\n",
       "        targ = targ.parentNode;\n",
       "\n",
       "    // jQuery normalizes the pageX and pageY\n",
       "    // pageX,Y are the mouse positions relative to the document\n",
       "    // offset() returns the position of the element relative to the document\n",
       "    var x = e.pageX - $(targ).offset().left;\n",
       "    var y = e.pageY - $(targ).offset().top;\n",
       "\n",
       "    return {\"x\": x, \"y\": y};\n",
       "};\n",
       "\n",
       "/*\n",
       " * return a copy of an object with only non-object keys\n",
       " * we need this to avoid circular references\n",
       " * http://stackoverflow.com/a/24161582/3208463\n",
       " */\n",
       "function simpleKeys (original) {\n",
       "  return Object.keys(original).reduce(function (obj, key) {\n",
       "    if (typeof original[key] !== 'object')\n",
       "        obj[key] = original[key]\n",
       "    return obj;\n",
       "  }, {});\n",
       "}\n",
       "\n",
       "mpl.figure.prototype.mouse_event = function(event, name) {\n",
       "    var canvas_pos = mpl.findpos(event)\n",
       "\n",
       "    if (name === 'button_press')\n",
       "    {\n",
       "        this.canvas.focus();\n",
       "        this.canvas_div.focus();\n",
       "    }\n",
       "\n",
       "    var x = canvas_pos.x * mpl.ratio;\n",
       "    var y = canvas_pos.y * mpl.ratio;\n",
       "\n",
       "    this.send_message(name, {x: x, y: y, button: event.button,\n",
       "                             step: event.step,\n",
       "                             guiEvent: simpleKeys(event)});\n",
       "\n",
       "    /* This prevents the web browser from automatically changing to\n",
       "     * the text insertion cursor when the button is pressed.  We want\n",
       "     * to control all of the cursor setting manually through the\n",
       "     * 'cursor' event from matplotlib */\n",
       "    event.preventDefault();\n",
       "    return false;\n",
       "}\n",
       "\n",
       "mpl.figure.prototype._key_event_extra = function(event, name) {\n",
       "    // Handle any extra behaviour associated with a key event\n",
       "}\n",
       "\n",
       "mpl.figure.prototype.key_event = function(event, name) {\n",
       "\n",
       "    // Prevent repeat events\n",
       "    if (name == 'key_press')\n",
       "    {\n",
       "        if (event.which === this._key)\n",
       "            return;\n",
       "        else\n",
       "            this._key = event.which;\n",
       "    }\n",
       "    if (name == 'key_release')\n",
       "        this._key = null;\n",
       "\n",
       "    var value = '';\n",
       "    if (event.ctrlKey && event.which != 17)\n",
       "        value += \"ctrl+\";\n",
       "    if (event.altKey && event.which != 18)\n",
       "        value += \"alt+\";\n",
       "    if (event.shiftKey && event.which != 16)\n",
       "        value += \"shift+\";\n",
       "\n",
       "    value += 'k';\n",
       "    value += event.which.toString();\n",
       "\n",
       "    this._key_event_extra(event, name);\n",
       "\n",
       "    this.send_message(name, {key: value,\n",
       "                             guiEvent: simpleKeys(event)});\n",
       "    return false;\n",
       "}\n",
       "\n",
       "mpl.figure.prototype.toolbar_button_onclick = function(name) {\n",
       "    if (name == 'download') {\n",
       "        this.handle_save(this, null);\n",
       "    } else {\n",
       "        this.send_message(\"toolbar_button\", {name: name});\n",
       "    }\n",
       "};\n",
       "\n",
       "mpl.figure.prototype.toolbar_button_onmouseover = function(tooltip) {\n",
       "    this.message.textContent = tooltip;\n",
       "};\n",
       "mpl.toolbar_items = [[\"Home\", \"Reset original view\", \"fa fa-home icon-home\", \"home\"], [\"Back\", \"Back to previous view\", \"fa fa-arrow-left icon-arrow-left\", \"back\"], [\"Forward\", \"Forward to next view\", \"fa fa-arrow-right icon-arrow-right\", \"forward\"], [\"\", \"\", \"\", \"\"], [\"Pan\", \"Pan axes with left mouse, zoom with right\", \"fa fa-arrows icon-move\", \"pan\"], [\"Zoom\", \"Zoom to rectangle\", \"fa fa-square-o icon-check-empty\", \"zoom\"], [\"\", \"\", \"\", \"\"], [\"Download\", \"Download plot\", \"fa fa-floppy-o icon-save\", \"download\"]];\n",
       "\n",
       "mpl.extensions = [\"eps\", \"jpeg\", \"pdf\", \"png\", \"ps\", \"raw\", \"svg\", \"tif\"];\n",
       "\n",
       "mpl.default_extension = \"png\";var comm_websocket_adapter = function(comm) {\n",
       "    // Create a \"websocket\"-like object which calls the given IPython comm\n",
       "    // object with the appropriate methods. Currently this is a non binary\n",
       "    // socket, so there is still some room for performance tuning.\n",
       "    var ws = {};\n",
       "\n",
       "    ws.close = function() {\n",
       "        comm.close()\n",
       "    };\n",
       "    ws.send = function(m) {\n",
       "        //console.log('sending', m);\n",
       "        comm.send(m);\n",
       "    };\n",
       "    // Register the callback with on_msg.\n",
       "    comm.on_msg(function(msg) {\n",
       "        //console.log('receiving', msg['content']['data'], msg);\n",
       "        // Pass the mpl event to the overridden (by mpl) onmessage function.\n",
       "        ws.onmessage(msg['content']['data'])\n",
       "    });\n",
       "    return ws;\n",
       "}\n",
       "\n",
       "mpl.mpl_figure_comm = function(comm, msg) {\n",
       "    // This is the function which gets called when the mpl process\n",
       "    // starts-up an IPython Comm through the \"matplotlib\" channel.\n",
       "\n",
       "    var id = msg.content.data.id;\n",
       "    // Get hold of the div created by the display call when the Comm\n",
       "    // socket was opened in Python.\n",
       "    var element = $(\"#\" + id);\n",
       "    var ws_proxy = comm_websocket_adapter(comm)\n",
       "\n",
       "    function ondownload(figure, format) {\n",
       "        window.open(figure.imageObj.src);\n",
       "    }\n",
       "\n",
       "    var fig = new mpl.figure(id, ws_proxy,\n",
       "                           ondownload,\n",
       "                           element.get(0));\n",
       "\n",
       "    // Call onopen now - mpl needs it, as it is assuming we've passed it a real\n",
       "    // web socket which is closed, not our websocket->open comm proxy.\n",
       "    ws_proxy.onopen();\n",
       "\n",
       "    fig.parent_element = element.get(0);\n",
       "    fig.cell_info = mpl.find_output_cell(\"<div id='\" + id + \"'></div>\");\n",
       "    if (!fig.cell_info) {\n",
       "        console.error(\"Failed to find cell for figure\", id, fig);\n",
       "        return;\n",
       "    }\n",
       "\n",
       "    var output_index = fig.cell_info[2]\n",
       "    var cell = fig.cell_info[0];\n",
       "\n",
       "};\n",
       "\n",
       "mpl.figure.prototype.handle_close = function(fig, msg) {\n",
       "    var width = fig.canvas.width/mpl.ratio\n",
       "    fig.root.unbind('remove')\n",
       "\n",
       "    // Update the output cell to use the data from the current canvas.\n",
       "    fig.push_to_output();\n",
       "    var dataURL = fig.canvas.toDataURL();\n",
       "    // Re-enable the keyboard manager in IPython - without this line, in FF,\n",
       "    // the notebook keyboard shortcuts fail.\n",
       "    IPython.keyboard_manager.enable()\n",
       "    $(fig.parent_element).html('<img src=\"' + dataURL + '\" width=\"' + width + '\">');\n",
       "    fig.close_ws(fig, msg);\n",
       "}\n",
       "\n",
       "mpl.figure.prototype.close_ws = function(fig, msg){\n",
       "    fig.send_message('closing', msg);\n",
       "    // fig.ws.close()\n",
       "}\n",
       "\n",
       "mpl.figure.prototype.push_to_output = function(remove_interactive) {\n",
       "    // Turn the data on the canvas into data in the output cell.\n",
       "    var width = this.canvas.width/mpl.ratio\n",
       "    var dataURL = this.canvas.toDataURL();\n",
       "    this.cell_info[1]['text/html'] = '<img src=\"' + dataURL + '\" width=\"' + width + '\">';\n",
       "}\n",
       "\n",
       "mpl.figure.prototype.updated_canvas_event = function() {\n",
       "    // Tell IPython that the notebook contents must change.\n",
       "    IPython.notebook.set_dirty(true);\n",
       "    this.send_message(\"ack\", {});\n",
       "    var fig = this;\n",
       "    // Wait a second, then push the new image to the DOM so\n",
       "    // that it is saved nicely (might be nice to debounce this).\n",
       "    setTimeout(function () { fig.push_to_output() }, 1000);\n",
       "}\n",
       "\n",
       "mpl.figure.prototype._init_toolbar = function() {\n",
       "    var fig = this;\n",
       "\n",
       "    var nav_element = $('<div/>');\n",
       "    nav_element.attr('style', 'width: 100%');\n",
       "    this.root.append(nav_element);\n",
       "\n",
       "    // Define a callback function for later on.\n",
       "    function toolbar_event(event) {\n",
       "        return fig.toolbar_button_onclick(event['data']);\n",
       "    }\n",
       "    function toolbar_mouse_event(event) {\n",
       "        return fig.toolbar_button_onmouseover(event['data']);\n",
       "    }\n",
       "\n",
       "    for(var toolbar_ind in mpl.toolbar_items){\n",
       "        var name = mpl.toolbar_items[toolbar_ind][0];\n",
       "        var tooltip = mpl.toolbar_items[toolbar_ind][1];\n",
       "        var image = mpl.toolbar_items[toolbar_ind][2];\n",
       "        var method_name = mpl.toolbar_items[toolbar_ind][3];\n",
       "\n",
       "        if (!name) { continue; };\n",
       "\n",
       "        var button = $('<button class=\"btn btn-default\" href=\"#\" title=\"' + name + '\"><i class=\"fa ' + image + ' fa-lg\"></i></button>');\n",
       "        button.click(method_name, toolbar_event);\n",
       "        button.mouseover(tooltip, toolbar_mouse_event);\n",
       "        nav_element.append(button);\n",
       "    }\n",
       "\n",
       "    // Add the status bar.\n",
       "    var status_bar = $('<span class=\"mpl-message\" style=\"text-align:right; float: right;\"/>');\n",
       "    nav_element.append(status_bar);\n",
       "    this.message = status_bar[0];\n",
       "\n",
       "    // Add the close button to the window.\n",
       "    var buttongrp = $('<div class=\"btn-group inline pull-right\"></div>');\n",
       "    var button = $('<button class=\"btn btn-mini btn-primary\" href=\"#\" title=\"Stop Interaction\"><i class=\"fa fa-power-off icon-remove icon-large\"></i></button>');\n",
       "    button.click(function (evt) { fig.handle_close(fig, {}); } );\n",
       "    button.mouseover('Stop Interaction', toolbar_mouse_event);\n",
       "    buttongrp.append(button);\n",
       "    var titlebar = this.root.find($('.ui-dialog-titlebar'));\n",
       "    titlebar.prepend(buttongrp);\n",
       "}\n",
       "\n",
       "mpl.figure.prototype._root_extra_style = function(el){\n",
       "    var fig = this\n",
       "    el.on(\"remove\", function(){\n",
       "\tfig.close_ws(fig, {});\n",
       "    });\n",
       "}\n",
       "\n",
       "mpl.figure.prototype._canvas_extra_style = function(el){\n",
       "    // this is important to make the div 'focusable\n",
       "    el.attr('tabindex', 0)\n",
       "    // reach out to IPython and tell the keyboard manager to turn it's self\n",
       "    // off when our div gets focus\n",
       "\n",
       "    // location in version 3\n",
       "    if (IPython.notebook.keyboard_manager) {\n",
       "        IPython.notebook.keyboard_manager.register_events(el);\n",
       "    }\n",
       "    else {\n",
       "        // location in version 2\n",
       "        IPython.keyboard_manager.register_events(el);\n",
       "    }\n",
       "\n",
       "}\n",
       "\n",
       "mpl.figure.prototype._key_event_extra = function(event, name) {\n",
       "    var manager = IPython.notebook.keyboard_manager;\n",
       "    if (!manager)\n",
       "        manager = IPython.keyboard_manager;\n",
       "\n",
       "    // Check for shift+enter\n",
       "    if (event.shiftKey && event.which == 13) {\n",
       "        this.canvas_div.blur();\n",
       "        // select the cell after this one\n",
       "        var index = IPython.notebook.find_cell_index(this.cell_info[0]);\n",
       "        IPython.notebook.select(index + 1);\n",
       "    }\n",
       "}\n",
       "\n",
       "mpl.figure.prototype.handle_save = function(fig, msg) {\n",
       "    fig.ondownload(fig, null);\n",
       "}\n",
       "\n",
       "\n",
       "mpl.find_output_cell = function(html_output) {\n",
       "    // Return the cell and output element which can be found *uniquely* in the notebook.\n",
       "    // Note - this is a bit hacky, but it is done because the \"notebook_saving.Notebook\"\n",
       "    // IPython event is triggered only after the cells have been serialised, which for\n",
       "    // our purposes (turning an active figure into a static one), is too late.\n",
       "    var cells = IPython.notebook.get_cells();\n",
       "    var ncells = cells.length;\n",
       "    for (var i=0; i<ncells; i++) {\n",
       "        var cell = cells[i];\n",
       "        if (cell.cell_type === 'code'){\n",
       "            for (var j=0; j<cell.output_area.outputs.length; j++) {\n",
       "                var data = cell.output_area.outputs[j];\n",
       "                if (data.data) {\n",
       "                    // IPython >= 3 moved mimebundle to data attribute of output\n",
       "                    data = data.data;\n",
       "                }\n",
       "                if (data['text/html'] == html_output) {\n",
       "                    return [cell, data, j];\n",
       "                }\n",
       "            }\n",
       "        }\n",
       "    }\n",
       "}\n",
       "\n",
       "// Register the function which deals with the matplotlib target/channel.\n",
       "// The kernel may be null if the page has been refreshed.\n",
       "if (IPython.notebook.kernel != null) {\n",
       "    IPython.notebook.kernel.comm_manager.register_target('matplotlib', mpl.mpl_figure_comm);\n",
       "}\n"
      ],
      "text/plain": [
       "<IPython.core.display.Javascript object>"
      ]
     },
     "metadata": {},
     "output_type": "display_data"
    },
    {
     "data": {
      "text/html": [
       "<img src=\"data:image/png;base64,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\" width=\"1000\">"
      ],
      "text/plain": [
       "<IPython.core.display.HTML object>"
      ]
     },
     "metadata": {},
     "output_type": "display_data"
    }
   ],
   "source": [
    "print('for model: ', model)   \n",
    "run_name = 'UNet_D'\n",
    "# Create an mlflow run\n",
    "with mlflow.start_run(run_name=run_name) as run:\n",
    "    # Log parameters of the model\n",
    "    for key, value in vars(args).items():\n",
    "        print(key, value)\n",
    "        mlflow.log_param(key, value)\n",
    "    \n",
    "    # Log parameter count in the model\n",
    "    mlflow.log_param('Parameters', count_parameters(model))\n",
    "    \n",
    "    # Begin run\n",
    "    for result in trainNet(model, optimizer, loss,\n",
    "                            train_loader, val_loader,\n",
    "                            args.epochs+args.epoch_start, epoch_start=args.epoch_start,\n",
    "                            notebook=True, device=device):\n",
    "\n",
    "        result = result._asdict()\n",
    "        results = results.append(pd.Series(result), ignore_index=True)\n",
    "    \n",
    "        xs = results.index\n",
    "    \n",
    "        # Update the plot above\n",
    "        lines['train'].set_data(results.index,results.cost)\n",
    "        lines['val'].set_data(results.index,results.val)\n",
    "    \n",
    "        #filter first cost epoch (can be really large)\n",
    "        max_cost = max(max(results.cost if len(results.cost)<2 else results.cost[1:]), max(results.val))\n",
    "        min_cost = min(min(results.cost), min(results.val))\n",
    "    \n",
    "        # The plot limits need updating too\n",
    "        ax.set_ylim(min_cost*.9, max_cost*1.1)  \n",
    "        ax.set_xlim(-.5, len(results.cost) - .5)\n",
    "    \n",
    "        replace_in_ax(lax, lines['eff'], xs, results['eff_val'].apply(lambda x: x.eff_rate))\n",
    "        replace_in_ax(tax, lines['fp'], xs, results['eff_val'].apply(lambda x: x.fp_rate))\n",
    "    \n",
    "        # Redraw the figure\n",
    "        fig.canvas.draw()\n",
    "            \n",
    "        ## MLFLOW ##\n",
    "        # Log metrics\n",
    "        mlflow.log_metric('Efficiency', result['eff_val'].eff_rate, result['epoch'])\n",
    "        mlflow.log_metric('False Positive Rate',  result['eff_val'].fp_rate, result['epoch'])\n",
    "        mlflow.log_metric('Validation Loss',  result['val'], result['epoch'])\n",
    "        mlflow.log_metric('Training Loss',  result['cost'], result['epoch'])\n",
    "            \n",
    "        # Log tags\n",
    "        mlflow.set_tag('Optimizer', 'Adam')\n",
    "        mlflow.set_tag('Kernel size', 'Mixed')\n",
    "        mlflow.set_tag('Skip connections', '3')\n",
    "        mlflow.set_tag('Activation', 'Softplus')\n",
    "        mlflow.set_tag('Mid Activation', 'Relu')\n",
    "        mlflow.set_tag('Extra Data', 'False')\n",
    "\n",
    "        # Save model state dictionary, optimizer state dictionary, and epoch number\n",
    "        torch.save({\n",
    "            'model':model.state_dict(),\n",
    "            'optimizer':optimizer.state_dict(),\n",
    "            'epoch':args.epochs+result['epoch']\n",
    "            }, 'run_stats.pyt')\n",
    "        # Save the run stats into mlflow\n",
    "        mlflow.log_artifact('run_stats.pyt')\n",
    "            \n",
    "        # Save a diagram of the architecture\n",
    "#        HL.transforms.Fold(\"Conv\", \"Conv\"),\n",
    "#        HL.build_graph(model, torch.zeros([args.batch_size, 1, 4000]).to(device)).save('architecture', format='png')\n",
    "#        mlflow.log_artifact('architecture.png')\n",
    "        \n",
    "        # log the code for the model architecture\n",
    "#        mlflow.log_artifact('architecture.txt')\n",
    "        \n",
    "    dual_train_plots(results.index,\n",
    "                 results.cost, results.val, \n",
    "                 results['eff_val'].apply(lambda x: x.eff_rate),\n",
    "                 results['eff_val'].apply(lambda x: x.fp_rate))\n",
    "    # save plot\n",
    "    plt.tight_layout()\n",
    "    plt.savefig('plot.png')\n",
    "    mlflow.log_artifact('plot.png')"
   ]
  },
  {
   "cell_type": "code",
   "execution_count": 13,
   "metadata": {},
   "outputs": [],
   "source": [
    "##quit()"
   ]
  }
 ],
 "metadata": {
  "kernelspec": {
   "display_name": "goofit-june2020",
   "language": "python",
   "name": "goofit-june2020"
  },
  "language_info": {
   "codemirror_mode": {
    "name": "ipython",
    "version": 3
   },
   "file_extension": ".py",
   "mimetype": "text/x-python",
   "name": "python",
   "nbconvert_exporter": "python",
   "pygments_lexer": "ipython3",
   "version": "3.7.6"
  }
 },
 "nbformat": 4,
 "nbformat_minor": 2
}
