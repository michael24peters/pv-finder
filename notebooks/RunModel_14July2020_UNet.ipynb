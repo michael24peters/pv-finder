{
 "cells": [
  {
   "cell_type": "code",
   "execution_count": 1,
   "metadata": {},
   "outputs": [],
   "source": [
    "##%matplotlib widget\n",
    "## with %matplotlib notebook: seems to require ipympl as part of environment, either\n",
    "## part of the conda environment or \"pip install ipympl\"\n",
    "## otherwise, does not show ANY plots in notebook, plt.savefig() works\n",
    "%matplotlib notebook\n",
    "##%matplotlib inline    ## --plt.savefig()  works, but re-sizing does NOT"
   ]
  },
  {
   "cell_type": "markdown",
   "metadata": {},
   "source": [
    "This notebook is a short demo to illustrate execution.   For odd historical reasons, it uses \"toy Monte Carlo\" (simulated data)for \"training\" and \"full LHCB MC\" for validation.\n",
    "\n",
    "The network architecture is a \"simple\" model that uses 1 input channel (the KDE [kernel density estimator] but from the track parameters) feeding 5 convolutional layers followed by a fully connected layer.\n",
    "\n",
    "In today's version, the network will start with weights from a previously trained version.\n",
    " "
   ]
  },
  {
   "cell_type": "markdown",
   "metadata": {},
   "source": [
    "Check the current GPU usage. Please try to be nice!"
   ]
  },
  {
   "cell_type": "code",
   "execution_count": 2,
   "metadata": {},
   "outputs": [
    {
     "name": "stdout",
     "output_type": "stream",
     "text": [
      "Wed Jul 29 20:08:17 2020       \n",
      "+-----------------------------------------------------------------------------+\n",
      "| NVIDIA-SMI 440.64.00    Driver Version: 440.64.00    CUDA Version: 10.2     |\n",
      "|-------------------------------+----------------------+----------------------+\n",
      "| GPU  Name        Persistence-M| Bus-Id        Disp.A | Volatile Uncorr. ECC |\n",
      "| Fan  Temp  Perf  Pwr:Usage/Cap|         Memory-Usage | GPU-Util  Compute M. |\n",
      "|===============================+======================+======================|\n",
      "|   0  TITAN V             Off  | 00000000:03:00.0 Off |                  N/A |\n",
      "| 28%   33C    P2    31W / 250W |      0MiB / 12066MiB |      0%      Default |\n",
      "+-------------------------------+----------------------+----------------------+\n",
      "|   1  Tesla P100-PCIE...  Off  | 00000000:83:00.0 Off |                    0 |\n",
      "| N/A   32C    P0    27W / 250W |     10MiB / 16280MiB |      0%      Default |\n",
      "+-------------------------------+----------------------+----------------------+\n",
      "|   2  TITAN V             Off  | 00000000:84:00.0 Off |                  N/A |\n",
      "| 38%   57C    P2   100W / 250W |   6481MiB / 12066MiB |     85%      Default |\n",
      "+-------------------------------+----------------------+----------------------+\n",
      "                                                                               \n",
      "+-----------------------------------------------------------------------------+\n",
      "| Processes:                                                       GPU Memory |\n",
      "|  GPU       PID   Type   Process name                             Usage      |\n",
      "|=============================================================================|\n",
      "|    2     13046      C   ...a/conda/envs/goofit-june2020/bin/python  6469MiB |\n",
      "+-----------------------------------------------------------------------------+\n"
     ]
    }
   ],
   "source": [
    "!nvidia-smi"
   ]
  },
  {
   "cell_type": "markdown",
   "metadata": {},
   "source": [
    "> **WARNING**: The card numbers here are *not* the same as in CUDA. You have been warned."
   ]
  },
  {
   "cell_type": "markdown",
   "metadata": {},
   "source": [
    "## Imports"
   ]
  },
  {
   "cell_type": "code",
   "execution_count": 3,
   "metadata": {
    "scrolled": false
   },
   "outputs": [],
   "source": [
    "import matplotlib.pyplot as plt\n",
    "import numpy as np\n",
    "import time\n",
    "import torch\n",
    "import pandas as pd\n",
    "import mlflow\n",
    "\n",
    "# Python 3 standard library\n",
    "from pathlib import Path\n",
    "\n",
    "from torchsummary import summary\n",
    "\n",
    "'''\n",
    "HELPER FUNCTIONS\n",
    "'''\n",
    "# From model/collectdata.py\n",
    "from model.collectdata_mdsA import collect_data\n",
    "\n",
    "# From model/loss.py\n",
    "##from loss import Loss\n",
    "from model.alt_loss_A import Loss\n",
    "\n",
    "# From model/training.py\n",
    "from model.training import trainNet, select_gpu, Results\n",
    "\n",
    "# From model/models.py\n",
    "##  will start with model from TwoFeatures_CNN6Layer_A in the first instance\n",
    "##  see relevant cell below\n",
    "\n",
    "from model.models_mjp_14July2020 import UNet_A as ModelA\n",
    "from model.models_mjp_14July2020 import UNet_B as ModelB\n",
    "from model.models_mjp_14July2020 import UNet_C as ModelC\n",
    "from model.models_mjp_14July2020 import UNet_D as ModelD\n",
    "\n",
    "# From model/utilities.py\n",
    "from model.utilities import load_full_state, count_parameters, Params\n",
    "\n",
    "from model.plots import dual_train_plots, replace_in_ax\n",
    "\n",
    "## adds image of model architecture\n",
    "import hiddenlayer as HL"
   ]
  },
  {
   "cell_type": "markdown",
   "metadata": {},
   "source": [
    "Set up Torch device configuration. All tensors and model parameters need to know where to be put.\n",
    "This takes a BUS ID number: The BUS ID is the same as the listing at the top of this script."
   ]
  },
  {
   "cell_type": "code",
   "execution_count": 4,
   "metadata": {},
   "outputs": [
    {
     "name": "stdout",
     "output_type": "stream",
     "text": [
      "1 available GPUs (initially using device 0):\n",
      "  0 TITAN V\n"
     ]
    }
   ],
   "source": [
    "device = select_gpu(0)"
   ]
  },
  {
   "cell_type": "markdown",
   "metadata": {},
   "source": [
    "### Set up local parameters"
   ]
  },
  {
   "cell_type": "code",
   "execution_count": 5,
   "metadata": {},
   "outputs": [],
   "source": [
    "# params order - batch size, epochs, lr, epoch_start (which is usually set to 0)\n",
    "args = Params(128, 1000, 1e-3, 0)"
   ]
  },
  {
   "cell_type": "markdown",
   "metadata": {},
   "source": [
    "## Loading data\n",
    "\n",
    "Load the dataset, split into parts, then move to device (see `collectdata.py` in the `../model` directory)"
   ]
  },
  {
   "cell_type": "code",
   "execution_count": 6,
   "metadata": {
    "scrolled": true
   },
   "outputs": [
    {
     "name": "stdout",
     "output_type": "stream",
     "text": [
      "Loading data...\n",
      "Loaded /share/lazy/sokoloff/ML-data_A/Aug14_80K_train.h5 in 12.72 s\n",
      "Loaded /share/lazy/sokoloff/ML-data_AA/Oct03_80K_train.h5 in 12.84 s\n",
      "Constructing 160000 event dataset took 4.228 s\n",
      "Loading data...\n",
      "Loaded /share/lazy/sokoloff/ML-data_AA/Oct03_20K_val.h5 in 2.939 s\n",
      "Constructing 9984 event dataset took 0.1157 s\n"
     ]
    }
   ],
   "source": [
    "## newer vernacular\n",
    "## Training dataset. You can put as many files here as desired.\n",
    "\n",
    "## in this DEMO example we use only one 80K training set -- the model starts with well-trained weights,\n",
    "## and using a smaller training set reduces both the time to load the data and the time to train an epoch\n",
    "##  set the option load_XandXsq = True to use both DKE and KDE^2 as input features\n",
    "train_loader = collect_data('/share/lazy/sokoloff/ML-data_A/Aug14_80K_train.h5',\n",
    "                             '/share/lazy/sokoloff/ML-data_AA/Oct03_80K_train.h5',\n",
    "#                             '/share/lazy/sokoloff/ML-data_AA/Oct03_40K_train.h5',\n",
    "#                             '/share/lazy/will/ML_mdsA/June30_2020_80k_1.h5',\n",
    "#                             '/share/lazy/will/ML_mdsA/June30_2020_80k_3.h5',\n",
    "#                             '/share/lazy/will/ML_mdsA/June30_2020_80k_4.h5',\n",
    "#                             '/share/lazy/will/ML_mdsA/June30_2020_80k_5.h5',\n",
    "#                             '/share/lazy/will/ML_mdsA/June30_2020_80k_6.h5',\n",
    "#                             '/share/lazy/will/ML_mdsA/June30_2020_80k_7.h5',\n",
    "#                             '/share/lazy/will/ML_mdsA/June30_2020_80k_8.h5',\n",
    "#                             '/share/lazy/will/ML_mdsA/June30_2020_80k_9.h5',\n",
    "                            #'/share/lazy/sokoloff/ML-data_AA/Oct03_80K2_train.h5',\n",
    "                             batch_size=args.batch_size,\n",
    "## if we are using a larger dataset (240K events, with the datasets above, and 11 GB  of GPU memory),\n",
    "## not the dataset will overflow the GPU memory; device=device will allow the data to move back\n",
    "## and forth between the CPU and GPU memory. While this allows use of a larger dataset, it slows\n",
    "## down performance by about 10%.  So comment out when not needed.\n",
    "                            device=device,\n",
    "                            masking=True, shuffle=True,\n",
    "                            load_XandXsq=False,\n",
    "                            load_xy=False)\n",
    "\n",
    "# Validation dataset. You can slice to reduce the size.\n",
    "## dataAA -> /share/lazy/sokoloff/ML-data_AA/\n",
    "val_loader = collect_data('/share/lazy/sokoloff/ML-data_AA/Oct03_20K_val.h5',\n",
    "## mds val_loader = collect_data('dataAA/HLT1CPU_1kevts_val.h5',\n",
    "\n",
    "                          batch_size=args.batch_size,\n",
    "                          slice=slice(256 * 39),\n",
    "                          device=device,\n",
    "                          masking=True, shuffle=False,\n",
    "                          load_XandXsq=False,\n",
    "                          load_xy=False)"
   ]
  },
  {
   "cell_type": "markdown",
   "metadata": {},
   "source": [
    "# Preparing the model"
   ]
  },
  {
   "cell_type": "markdown",
   "metadata": {},
   "source": [
    "Prepare a model, use multiple GPUs if they are VISIBLE, and move the model to the device."
   ]
  },
  {
   "cell_type": "code",
   "execution_count": 7,
   "metadata": {
    "scrolled": true
   },
   "outputs": [
    {
     "name": "stderr",
     "output_type": "stream",
     "text": [
      "WARNING:root:Malformed experiment 'ML'. Detailed error Yaml file '/share/lazy/pv-finder_model_repo/ML/meta.yaml' does not exist.\n",
      "Traceback (most recent call last):\n",
      "  File \"/home/michael24peters/.local/lib/python3.7/site-packages/mlflow/store/tracking/file_store.py\", line 197, in list_experiments\n",
      "    experiment = self._get_experiment(exp_id, view_type)\n",
      "  File \"/home/michael24peters/.local/lib/python3.7/site-packages/mlflow/store/tracking/file_store.py\", line 260, in _get_experiment\n",
      "    meta = read_yaml(experiment_dir, FileStore.META_DATA_FILE_NAME)\n",
      "  File \"/home/michael24peters/.local/lib/python3.7/site-packages/mlflow/utils/file_utils.py\", line 167, in read_yaml\n",
      "    raise MissingConfigException(\"Yaml file '%s' does not exist.\" % file_path)\n",
      "mlflow.exceptions.MissingConfigException: Yaml file '/share/lazy/pv-finder_model_repo/ML/meta.yaml' does not exist.\n"
     ]
    }
   ],
   "source": [
    "model = ModelA()\n",
    "\n",
    "#summary(model.to(device), (1, 4000))\n",
    "\n",
    "mlflow.tracking.set_tracking_uri('file:/share/lazy/pv-finder_model_repo')\n",
    "mlflow.set_experiment('Weird U-Net')"
   ]
  },
  {
   "cell_type": "code",
   "execution_count": 8,
   "metadata": {
    "scrolled": true
   },
   "outputs": [
    {
     "name": "stdout",
     "output_type": "stream",
     "text": [
      "Let's use 1 GPUs!\n"
     ]
    }
   ],
   "source": [
    "print(\"Let's use\", torch.cuda.device_count(), \"GPUs!\")\n",
    "if torch.cuda.device_count() > 1:\n",
    "    model = torch.nn.DataParallel(model)"
   ]
  },
  {
   "cell_type": "markdown",
   "metadata": {},
   "source": [
    "Load any trained weights here:"
   ]
  },
  {
   "cell_type": "code",
   "execution_count": 9,
   "metadata": {},
   "outputs": [],
   "source": [
    "##  mds 200121 loss = Loss(epsilon=1e-5,coefficient=1.0)\n",
    "loss = Loss(epsilon=1e-5,coefficient=2.5)\n",
    "optimizer = torch.optim.Adam(model.parameters(), lr=args.lr)\n",
    "\n",
    "##  use the first five layers from a pre-existing model\n",
    "##  see example at https://discuss.pytorch.org/t/how-to-load-part-of-pre-trained-model/1113\n",
    "##   ML -> /share/lazy/sokoloff/ML\n",
    "\n",
    "#path = 'run_stats.pyt'\n",
    "#load_full_state(model, optimizer, path)\n",
    "# For other pretrained models, go to MLFlow and find the path for \"run_stats.pyt\" in the artifacts section\n",
    "#pretrained_dict = '/share/lazy/pv-finder_model_repo/1/e67db7e2c8d949e0aeac3a6f6f426f2b/artifacts/run_stats.pyt'\n",
    "#load_full_state(model, optimizer, pretrained_dict)"
   ]
  },
  {
   "cell_type": "markdown",
   "metadata": {},
   "source": [
    "Let's move the model's weight matricies to the GPU:"
   ]
  },
  {
   "cell_type": "code",
   "execution_count": 10,
   "metadata": {
    "scrolled": true
   },
   "outputs": [
    {
     "data": {
      "text/plain": [
       "UNet_A(\n",
       "  (block1): ConvBNRelu_A(\n",
       "    (0): Conv1d(1, 48, kernel_size=(25,), stride=(1,), padding=(12,))\n",
       "    (1): BatchNorm1d(48, eps=1e-05, momentum=0.1, affine=True, track_running_stats=True)\n",
       "    (2): ReLU()\n",
       "  )\n",
       "  (block2): ConvBNRelu_A(\n",
       "    (0): Conv1d(48, 48, kernel_size=(3,), stride=(1,), padding=(1,))\n",
       "    (1): BatchNorm1d(48, eps=1e-05, momentum=0.1, affine=True, track_running_stats=True)\n",
       "    (2): ReLU()\n",
       "  )\n",
       "  (block3): ConvBNRelu_A(\n",
       "    (0): Conv1d(48, 48, kernel_size=(3,), stride=(1,), padding=(1,))\n",
       "    (1): BatchNorm1d(48, eps=1e-05, momentum=0.1, affine=True, track_running_stats=True)\n",
       "    (2): ReLU()\n",
       "  )\n",
       "  (up1): Up_A(\n",
       "    (0): ConvTranspose1d(48, 48, kernel_size=(2,), stride=(2,))\n",
       "    (1): BatchNorm1d(48, eps=1e-05, momentum=0.1, affine=True, track_running_stats=True)\n",
       "    (2): ReLU()\n",
       "  )\n",
       "  (up2): Up_A(\n",
       "    (0): ConvTranspose1d(96, 48, kernel_size=(2,), stride=(2,))\n",
       "    (1): BatchNorm1d(48, eps=1e-05, momentum=0.1, affine=True, track_running_stats=True)\n",
       "    (2): ReLU()\n",
       "  )\n",
       "  (up3): Up_A(\n",
       "    (0): ConvTranspose1d(96, 48, kernel_size=(2,), stride=(2,))\n",
       "    (1): BatchNorm1d(48, eps=1e-05, momentum=0.1, affine=True, track_running_stats=True)\n",
       "    (2): ReLU()\n",
       "  )\n",
       "  (up4): Up_A(\n",
       "    (0): ConvTranspose1d(48, 48, kernel_size=(2,), stride=(2,))\n",
       "    (1): BatchNorm1d(48, eps=1e-05, momentum=0.1, affine=True, track_running_stats=True)\n",
       "    (2): ReLU()\n",
       "  )\n",
       "  (outc): Conv1d(48, 1, kernel_size=(3,), stride=(1,), padding=(1,))\n",
       "  (down): MaxPool1d(kernel_size=2, stride=2, padding=0, dilation=1, ceil_mode=False)\n",
       ")"
      ]
     },
     "execution_count": 10,
     "metadata": {},
     "output_type": "execute_result"
    }
   ],
   "source": [
    "model.to(device)"
   ]
  },
  {
   "cell_type": "markdown",
   "metadata": {},
   "source": [
    "## Train \n",
    "\n",
    "\n",
    "\n",
    "The body of this loop runs once per epoch. Results is a named tuple of values (loss per epoch for training and validation, time each). Start by setting up a plot first:"
   ]
  },
  {
   "cell_type": "code",
   "execution_count": 11,
   "metadata": {},
   "outputs": [
    {
     "data": {
      "application/javascript": [
       "/* Put everything inside the global mpl namespace */\n",
       "window.mpl = {};\n",
       "\n",
       "\n",
       "mpl.get_websocket_type = function() {\n",
       "    if (typeof(WebSocket) !== 'undefined') {\n",
       "        return WebSocket;\n",
       "    } else if (typeof(MozWebSocket) !== 'undefined') {\n",
       "        return MozWebSocket;\n",
       "    } else {\n",
       "        alert('Your browser does not have WebSocket support. ' +\n",
       "              'Please try Chrome, Safari or Firefox ≥ 6. ' +\n",
       "              'Firefox 4 and 5 are also supported but you ' +\n",
       "              'have to enable WebSockets in about:config.');\n",
       "    };\n",
       "}\n",
       "\n",
       "mpl.figure = function(figure_id, websocket, ondownload, parent_element) {\n",
       "    this.id = figure_id;\n",
       "\n",
       "    this.ws = websocket;\n",
       "\n",
       "    this.supports_binary = (this.ws.binaryType != undefined);\n",
       "\n",
       "    if (!this.supports_binary) {\n",
       "        var warnings = document.getElementById(\"mpl-warnings\");\n",
       "        if (warnings) {\n",
       "            warnings.style.display = 'block';\n",
       "            warnings.textContent = (\n",
       "                \"This browser does not support binary websocket messages. \" +\n",
       "                    \"Performance may be slow.\");\n",
       "        }\n",
       "    }\n",
       "\n",
       "    this.imageObj = new Image();\n",
       "\n",
       "    this.context = undefined;\n",
       "    this.message = undefined;\n",
       "    this.canvas = undefined;\n",
       "    this.rubberband_canvas = undefined;\n",
       "    this.rubberband_context = undefined;\n",
       "    this.format_dropdown = undefined;\n",
       "\n",
       "    this.image_mode = 'full';\n",
       "\n",
       "    this.root = $('<div/>');\n",
       "    this._root_extra_style(this.root)\n",
       "    this.root.attr('style', 'display: inline-block');\n",
       "\n",
       "    $(parent_element).append(this.root);\n",
       "\n",
       "    this._init_header(this);\n",
       "    this._init_canvas(this);\n",
       "    this._init_toolbar(this);\n",
       "\n",
       "    var fig = this;\n",
       "\n",
       "    this.waiting = false;\n",
       "\n",
       "    this.ws.onopen =  function () {\n",
       "            fig.send_message(\"supports_binary\", {value: fig.supports_binary});\n",
       "            fig.send_message(\"send_image_mode\", {});\n",
       "            if (mpl.ratio != 1) {\n",
       "                fig.send_message(\"set_dpi_ratio\", {'dpi_ratio': mpl.ratio});\n",
       "            }\n",
       "            fig.send_message(\"refresh\", {});\n",
       "        }\n",
       "\n",
       "    this.imageObj.onload = function() {\n",
       "            if (fig.image_mode == 'full') {\n",
       "                // Full images could contain transparency (where diff images\n",
       "                // almost always do), so we need to clear the canvas so that\n",
       "                // there is no ghosting.\n",
       "                fig.context.clearRect(0, 0, fig.canvas.width, fig.canvas.height);\n",
       "            }\n",
       "            fig.context.drawImage(fig.imageObj, 0, 0);\n",
       "        };\n",
       "\n",
       "    this.imageObj.onunload = function() {\n",
       "        fig.ws.close();\n",
       "    }\n",
       "\n",
       "    this.ws.onmessage = this._make_on_message_function(this);\n",
       "\n",
       "    this.ondownload = ondownload;\n",
       "}\n",
       "\n",
       "mpl.figure.prototype._init_header = function() {\n",
       "    var titlebar = $(\n",
       "        '<div class=\"ui-dialog-titlebar ui-widget-header ui-corner-all ' +\n",
       "        'ui-helper-clearfix\"/>');\n",
       "    var titletext = $(\n",
       "        '<div class=\"ui-dialog-title\" style=\"width: 100%; ' +\n",
       "        'text-align: center; padding: 3px;\"/>');\n",
       "    titlebar.append(titletext)\n",
       "    this.root.append(titlebar);\n",
       "    this.header = titletext[0];\n",
       "}\n",
       "\n",
       "\n",
       "\n",
       "mpl.figure.prototype._canvas_extra_style = function(canvas_div) {\n",
       "\n",
       "}\n",
       "\n",
       "\n",
       "mpl.figure.prototype._root_extra_style = function(canvas_div) {\n",
       "\n",
       "}\n",
       "\n",
       "mpl.figure.prototype._init_canvas = function() {\n",
       "    var fig = this;\n",
       "\n",
       "    var canvas_div = $('<div/>');\n",
       "\n",
       "    canvas_div.attr('style', 'position: relative; clear: both; outline: 0');\n",
       "\n",
       "    function canvas_keyboard_event(event) {\n",
       "        return fig.key_event(event, event['data']);\n",
       "    }\n",
       "\n",
       "    canvas_div.keydown('key_press', canvas_keyboard_event);\n",
       "    canvas_div.keyup('key_release', canvas_keyboard_event);\n",
       "    this.canvas_div = canvas_div\n",
       "    this._canvas_extra_style(canvas_div)\n",
       "    this.root.append(canvas_div);\n",
       "\n",
       "    var canvas = $('<canvas/>');\n",
       "    canvas.addClass('mpl-canvas');\n",
       "    canvas.attr('style', \"left: 0; top: 0; z-index: 0; outline: 0\")\n",
       "\n",
       "    this.canvas = canvas[0];\n",
       "    this.context = canvas[0].getContext(\"2d\");\n",
       "\n",
       "    var backingStore = this.context.backingStorePixelRatio ||\n",
       "\tthis.context.webkitBackingStorePixelRatio ||\n",
       "\tthis.context.mozBackingStorePixelRatio ||\n",
       "\tthis.context.msBackingStorePixelRatio ||\n",
       "\tthis.context.oBackingStorePixelRatio ||\n",
       "\tthis.context.backingStorePixelRatio || 1;\n",
       "\n",
       "    mpl.ratio = (window.devicePixelRatio || 1) / backingStore;\n",
       "\n",
       "    var rubberband = $('<canvas/>');\n",
       "    rubberband.attr('style', \"position: absolute; left: 0; top: 0; z-index: 1;\")\n",
       "\n",
       "    var pass_mouse_events = true;\n",
       "\n",
       "    canvas_div.resizable({\n",
       "        start: function(event, ui) {\n",
       "            pass_mouse_events = false;\n",
       "        },\n",
       "        resize: function(event, ui) {\n",
       "            fig.request_resize(ui.size.width, ui.size.height);\n",
       "        },\n",
       "        stop: function(event, ui) {\n",
       "            pass_mouse_events = true;\n",
       "            fig.request_resize(ui.size.width, ui.size.height);\n",
       "        },\n",
       "    });\n",
       "\n",
       "    function mouse_event_fn(event) {\n",
       "        if (pass_mouse_events)\n",
       "            return fig.mouse_event(event, event['data']);\n",
       "    }\n",
       "\n",
       "    rubberband.mousedown('button_press', mouse_event_fn);\n",
       "    rubberband.mouseup('button_release', mouse_event_fn);\n",
       "    // Throttle sequential mouse events to 1 every 20ms.\n",
       "    rubberband.mousemove('motion_notify', mouse_event_fn);\n",
       "\n",
       "    rubberband.mouseenter('figure_enter', mouse_event_fn);\n",
       "    rubberband.mouseleave('figure_leave', mouse_event_fn);\n",
       "\n",
       "    canvas_div.on(\"wheel\", function (event) {\n",
       "        event = event.originalEvent;\n",
       "        event['data'] = 'scroll'\n",
       "        if (event.deltaY < 0) {\n",
       "            event.step = 1;\n",
       "        } else {\n",
       "            event.step = -1;\n",
       "        }\n",
       "        mouse_event_fn(event);\n",
       "    });\n",
       "\n",
       "    canvas_div.append(canvas);\n",
       "    canvas_div.append(rubberband);\n",
       "\n",
       "    this.rubberband = rubberband;\n",
       "    this.rubberband_canvas = rubberband[0];\n",
       "    this.rubberband_context = rubberband[0].getContext(\"2d\");\n",
       "    this.rubberband_context.strokeStyle = \"#000000\";\n",
       "\n",
       "    this._resize_canvas = function(width, height) {\n",
       "        // Keep the size of the canvas, canvas container, and rubber band\n",
       "        // canvas in synch.\n",
       "        canvas_div.css('width', width)\n",
       "        canvas_div.css('height', height)\n",
       "\n",
       "        canvas.attr('width', width * mpl.ratio);\n",
       "        canvas.attr('height', height * mpl.ratio);\n",
       "        canvas.attr('style', 'width: ' + width + 'px; height: ' + height + 'px;');\n",
       "\n",
       "        rubberband.attr('width', width);\n",
       "        rubberband.attr('height', height);\n",
       "    }\n",
       "\n",
       "    // Set the figure to an initial 600x600px, this will subsequently be updated\n",
       "    // upon first draw.\n",
       "    this._resize_canvas(600, 600);\n",
       "\n",
       "    // Disable right mouse context menu.\n",
       "    $(this.rubberband_canvas).bind(\"contextmenu\",function(e){\n",
       "        return false;\n",
       "    });\n",
       "\n",
       "    function set_focus () {\n",
       "        canvas.focus();\n",
       "        canvas_div.focus();\n",
       "    }\n",
       "\n",
       "    window.setTimeout(set_focus, 100);\n",
       "}\n",
       "\n",
       "mpl.figure.prototype._init_toolbar = function() {\n",
       "    var fig = this;\n",
       "\n",
       "    var nav_element = $('<div/>');\n",
       "    nav_element.attr('style', 'width: 100%');\n",
       "    this.root.append(nav_element);\n",
       "\n",
       "    // Define a callback function for later on.\n",
       "    function toolbar_event(event) {\n",
       "        return fig.toolbar_button_onclick(event['data']);\n",
       "    }\n",
       "    function toolbar_mouse_event(event) {\n",
       "        return fig.toolbar_button_onmouseover(event['data']);\n",
       "    }\n",
       "\n",
       "    for(var toolbar_ind in mpl.toolbar_items) {\n",
       "        var name = mpl.toolbar_items[toolbar_ind][0];\n",
       "        var tooltip = mpl.toolbar_items[toolbar_ind][1];\n",
       "        var image = mpl.toolbar_items[toolbar_ind][2];\n",
       "        var method_name = mpl.toolbar_items[toolbar_ind][3];\n",
       "\n",
       "        if (!name) {\n",
       "            // put a spacer in here.\n",
       "            continue;\n",
       "        }\n",
       "        var button = $('<button/>');\n",
       "        button.addClass('ui-button ui-widget ui-state-default ui-corner-all ' +\n",
       "                        'ui-button-icon-only');\n",
       "        button.attr('role', 'button');\n",
       "        button.attr('aria-disabled', 'false');\n",
       "        button.click(method_name, toolbar_event);\n",
       "        button.mouseover(tooltip, toolbar_mouse_event);\n",
       "\n",
       "        var icon_img = $('<span/>');\n",
       "        icon_img.addClass('ui-button-icon-primary ui-icon');\n",
       "        icon_img.addClass(image);\n",
       "        icon_img.addClass('ui-corner-all');\n",
       "\n",
       "        var tooltip_span = $('<span/>');\n",
       "        tooltip_span.addClass('ui-button-text');\n",
       "        tooltip_span.html(tooltip);\n",
       "\n",
       "        button.append(icon_img);\n",
       "        button.append(tooltip_span);\n",
       "\n",
       "        nav_element.append(button);\n",
       "    }\n",
       "\n",
       "    var fmt_picker_span = $('<span/>');\n",
       "\n",
       "    var fmt_picker = $('<select/>');\n",
       "    fmt_picker.addClass('mpl-toolbar-option ui-widget ui-widget-content');\n",
       "    fmt_picker_span.append(fmt_picker);\n",
       "    nav_element.append(fmt_picker_span);\n",
       "    this.format_dropdown = fmt_picker[0];\n",
       "\n",
       "    for (var ind in mpl.extensions) {\n",
       "        var fmt = mpl.extensions[ind];\n",
       "        var option = $(\n",
       "            '<option/>', {selected: fmt === mpl.default_extension}).html(fmt);\n",
       "        fmt_picker.append(option);\n",
       "    }\n",
       "\n",
       "    // Add hover states to the ui-buttons\n",
       "    $( \".ui-button\" ).hover(\n",
       "        function() { $(this).addClass(\"ui-state-hover\");},\n",
       "        function() { $(this).removeClass(\"ui-state-hover\");}\n",
       "    );\n",
       "\n",
       "    var status_bar = $('<span class=\"mpl-message\"/>');\n",
       "    nav_element.append(status_bar);\n",
       "    this.message = status_bar[0];\n",
       "}\n",
       "\n",
       "mpl.figure.prototype.request_resize = function(x_pixels, y_pixels) {\n",
       "    // Request matplotlib to resize the figure. Matplotlib will then trigger a resize in the client,\n",
       "    // which will in turn request a refresh of the image.\n",
       "    this.send_message('resize', {'width': x_pixels, 'height': y_pixels});\n",
       "}\n",
       "\n",
       "mpl.figure.prototype.send_message = function(type, properties) {\n",
       "    properties['type'] = type;\n",
       "    properties['figure_id'] = this.id;\n",
       "    this.ws.send(JSON.stringify(properties));\n",
       "}\n",
       "\n",
       "mpl.figure.prototype.send_draw_message = function() {\n",
       "    if (!this.waiting) {\n",
       "        this.waiting = true;\n",
       "        this.ws.send(JSON.stringify({type: \"draw\", figure_id: this.id}));\n",
       "    }\n",
       "}\n",
       "\n",
       "\n",
       "mpl.figure.prototype.handle_save = function(fig, msg) {\n",
       "    var format_dropdown = fig.format_dropdown;\n",
       "    var format = format_dropdown.options[format_dropdown.selectedIndex].value;\n",
       "    fig.ondownload(fig, format);\n",
       "}\n",
       "\n",
       "\n",
       "mpl.figure.prototype.handle_resize = function(fig, msg) {\n",
       "    var size = msg['size'];\n",
       "    if (size[0] != fig.canvas.width || size[1] != fig.canvas.height) {\n",
       "        fig._resize_canvas(size[0], size[1]);\n",
       "        fig.send_message(\"refresh\", {});\n",
       "    };\n",
       "}\n",
       "\n",
       "mpl.figure.prototype.handle_rubberband = function(fig, msg) {\n",
       "    var x0 = msg['x0'] / mpl.ratio;\n",
       "    var y0 = (fig.canvas.height - msg['y0']) / mpl.ratio;\n",
       "    var x1 = msg['x1'] / mpl.ratio;\n",
       "    var y1 = (fig.canvas.height - msg['y1']) / mpl.ratio;\n",
       "    x0 = Math.floor(x0) + 0.5;\n",
       "    y0 = Math.floor(y0) + 0.5;\n",
       "    x1 = Math.floor(x1) + 0.5;\n",
       "    y1 = Math.floor(y1) + 0.5;\n",
       "    var min_x = Math.min(x0, x1);\n",
       "    var min_y = Math.min(y0, y1);\n",
       "    var width = Math.abs(x1 - x0);\n",
       "    var height = Math.abs(y1 - y0);\n",
       "\n",
       "    fig.rubberband_context.clearRect(\n",
       "        0, 0, fig.canvas.width / mpl.ratio, fig.canvas.height / mpl.ratio);\n",
       "\n",
       "    fig.rubberband_context.strokeRect(min_x, min_y, width, height);\n",
       "}\n",
       "\n",
       "mpl.figure.prototype.handle_figure_label = function(fig, msg) {\n",
       "    // Updates the figure title.\n",
       "    fig.header.textContent = msg['label'];\n",
       "}\n",
       "\n",
       "mpl.figure.prototype.handle_cursor = function(fig, msg) {\n",
       "    var cursor = msg['cursor'];\n",
       "    switch(cursor)\n",
       "    {\n",
       "    case 0:\n",
       "        cursor = 'pointer';\n",
       "        break;\n",
       "    case 1:\n",
       "        cursor = 'default';\n",
       "        break;\n",
       "    case 2:\n",
       "        cursor = 'crosshair';\n",
       "        break;\n",
       "    case 3:\n",
       "        cursor = 'move';\n",
       "        break;\n",
       "    }\n",
       "    fig.rubberband_canvas.style.cursor = cursor;\n",
       "}\n",
       "\n",
       "mpl.figure.prototype.handle_message = function(fig, msg) {\n",
       "    fig.message.textContent = msg['message'];\n",
       "}\n",
       "\n",
       "mpl.figure.prototype.handle_draw = function(fig, msg) {\n",
       "    // Request the server to send over a new figure.\n",
       "    fig.send_draw_message();\n",
       "}\n",
       "\n",
       "mpl.figure.prototype.handle_image_mode = function(fig, msg) {\n",
       "    fig.image_mode = msg['mode'];\n",
       "}\n",
       "\n",
       "mpl.figure.prototype.updated_canvas_event = function() {\n",
       "    // Called whenever the canvas gets updated.\n",
       "    this.send_message(\"ack\", {});\n",
       "}\n",
       "\n",
       "// A function to construct a web socket function for onmessage handling.\n",
       "// Called in the figure constructor.\n",
       "mpl.figure.prototype._make_on_message_function = function(fig) {\n",
       "    return function socket_on_message(evt) {\n",
       "        if (evt.data instanceof Blob) {\n",
       "            /* FIXME: We get \"Resource interpreted as Image but\n",
       "             * transferred with MIME type text/plain:\" errors on\n",
       "             * Chrome.  But how to set the MIME type?  It doesn't seem\n",
       "             * to be part of the websocket stream */\n",
       "            evt.data.type = \"image/png\";\n",
       "\n",
       "            /* Free the memory for the previous frames */\n",
       "            if (fig.imageObj.src) {\n",
       "                (window.URL || window.webkitURL).revokeObjectURL(\n",
       "                    fig.imageObj.src);\n",
       "            }\n",
       "\n",
       "            fig.imageObj.src = (window.URL || window.webkitURL).createObjectURL(\n",
       "                evt.data);\n",
       "            fig.updated_canvas_event();\n",
       "            fig.waiting = false;\n",
       "            return;\n",
       "        }\n",
       "        else if (typeof evt.data === 'string' && evt.data.slice(0, 21) == \"data:image/png;base64\") {\n",
       "            fig.imageObj.src = evt.data;\n",
       "            fig.updated_canvas_event();\n",
       "            fig.waiting = false;\n",
       "            return;\n",
       "        }\n",
       "\n",
       "        var msg = JSON.parse(evt.data);\n",
       "        var msg_type = msg['type'];\n",
       "\n",
       "        // Call the  \"handle_{type}\" callback, which takes\n",
       "        // the figure and JSON message as its only arguments.\n",
       "        try {\n",
       "            var callback = fig[\"handle_\" + msg_type];\n",
       "        } catch (e) {\n",
       "            console.log(\"No handler for the '\" + msg_type + \"' message type: \", msg);\n",
       "            return;\n",
       "        }\n",
       "\n",
       "        if (callback) {\n",
       "            try {\n",
       "                // console.log(\"Handling '\" + msg_type + \"' message: \", msg);\n",
       "                callback(fig, msg);\n",
       "            } catch (e) {\n",
       "                console.log(\"Exception inside the 'handler_\" + msg_type + \"' callback:\", e, e.stack, msg);\n",
       "            }\n",
       "        }\n",
       "    };\n",
       "}\n",
       "\n",
       "// from http://stackoverflow.com/questions/1114465/getting-mouse-location-in-canvas\n",
       "mpl.findpos = function(e) {\n",
       "    //this section is from http://www.quirksmode.org/js/events_properties.html\n",
       "    var targ;\n",
       "    if (!e)\n",
       "        e = window.event;\n",
       "    if (e.target)\n",
       "        targ = e.target;\n",
       "    else if (e.srcElement)\n",
       "        targ = e.srcElement;\n",
       "    if (targ.nodeType == 3) // defeat Safari bug\n",
       "        targ = targ.parentNode;\n",
       "\n",
       "    // jQuery normalizes the pageX and pageY\n",
       "    // pageX,Y are the mouse positions relative to the document\n",
       "    // offset() returns the position of the element relative to the document\n",
       "    var x = e.pageX - $(targ).offset().left;\n",
       "    var y = e.pageY - $(targ).offset().top;\n",
       "\n",
       "    return {\"x\": x, \"y\": y};\n",
       "};\n",
       "\n",
       "/*\n",
       " * return a copy of an object with only non-object keys\n",
       " * we need this to avoid circular references\n",
       " * http://stackoverflow.com/a/24161582/3208463\n",
       " */\n",
       "function simpleKeys (original) {\n",
       "  return Object.keys(original).reduce(function (obj, key) {\n",
       "    if (typeof original[key] !== 'object')\n",
       "        obj[key] = original[key]\n",
       "    return obj;\n",
       "  }, {});\n",
       "}\n",
       "\n",
       "mpl.figure.prototype.mouse_event = function(event, name) {\n",
       "    var canvas_pos = mpl.findpos(event)\n",
       "\n",
       "    if (name === 'button_press')\n",
       "    {\n",
       "        this.canvas.focus();\n",
       "        this.canvas_div.focus();\n",
       "    }\n",
       "\n",
       "    var x = canvas_pos.x * mpl.ratio;\n",
       "    var y = canvas_pos.y * mpl.ratio;\n",
       "\n",
       "    this.send_message(name, {x: x, y: y, button: event.button,\n",
       "                             step: event.step,\n",
       "                             guiEvent: simpleKeys(event)});\n",
       "\n",
       "    /* This prevents the web browser from automatically changing to\n",
       "     * the text insertion cursor when the button is pressed.  We want\n",
       "     * to control all of the cursor setting manually through the\n",
       "     * 'cursor' event from matplotlib */\n",
       "    event.preventDefault();\n",
       "    return false;\n",
       "}\n",
       "\n",
       "mpl.figure.prototype._key_event_extra = function(event, name) {\n",
       "    // Handle any extra behaviour associated with a key event\n",
       "}\n",
       "\n",
       "mpl.figure.prototype.key_event = function(event, name) {\n",
       "\n",
       "    // Prevent repeat events\n",
       "    if (name == 'key_press')\n",
       "    {\n",
       "        if (event.which === this._key)\n",
       "            return;\n",
       "        else\n",
       "            this._key = event.which;\n",
       "    }\n",
       "    if (name == 'key_release')\n",
       "        this._key = null;\n",
       "\n",
       "    var value = '';\n",
       "    if (event.ctrlKey && event.which != 17)\n",
       "        value += \"ctrl+\";\n",
       "    if (event.altKey && event.which != 18)\n",
       "        value += \"alt+\";\n",
       "    if (event.shiftKey && event.which != 16)\n",
       "        value += \"shift+\";\n",
       "\n",
       "    value += 'k';\n",
       "    value += event.which.toString();\n",
       "\n",
       "    this._key_event_extra(event, name);\n",
       "\n",
       "    this.send_message(name, {key: value,\n",
       "                             guiEvent: simpleKeys(event)});\n",
       "    return false;\n",
       "}\n",
       "\n",
       "mpl.figure.prototype.toolbar_button_onclick = function(name) {\n",
       "    if (name == 'download') {\n",
       "        this.handle_save(this, null);\n",
       "    } else {\n",
       "        this.send_message(\"toolbar_button\", {name: name});\n",
       "    }\n",
       "};\n",
       "\n",
       "mpl.figure.prototype.toolbar_button_onmouseover = function(tooltip) {\n",
       "    this.message.textContent = tooltip;\n",
       "};\n",
       "mpl.toolbar_items = [[\"Home\", \"Reset original view\", \"fa fa-home icon-home\", \"home\"], [\"Back\", \"Back to previous view\", \"fa fa-arrow-left icon-arrow-left\", \"back\"], [\"Forward\", \"Forward to next view\", \"fa fa-arrow-right icon-arrow-right\", \"forward\"], [\"\", \"\", \"\", \"\"], [\"Pan\", \"Pan axes with left mouse, zoom with right\", \"fa fa-arrows icon-move\", \"pan\"], [\"Zoom\", \"Zoom to rectangle\", \"fa fa-square-o icon-check-empty\", \"zoom\"], [\"\", \"\", \"\", \"\"], [\"Download\", \"Download plot\", \"fa fa-floppy-o icon-save\", \"download\"]];\n",
       "\n",
       "mpl.extensions = [\"eps\", \"jpeg\", \"pdf\", \"png\", \"ps\", \"raw\", \"svg\", \"tif\"];\n",
       "\n",
       "mpl.default_extension = \"png\";var comm_websocket_adapter = function(comm) {\n",
       "    // Create a \"websocket\"-like object which calls the given IPython comm\n",
       "    // object with the appropriate methods. Currently this is a non binary\n",
       "    // socket, so there is still some room for performance tuning.\n",
       "    var ws = {};\n",
       "\n",
       "    ws.close = function() {\n",
       "        comm.close()\n",
       "    };\n",
       "    ws.send = function(m) {\n",
       "        //console.log('sending', m);\n",
       "        comm.send(m);\n",
       "    };\n",
       "    // Register the callback with on_msg.\n",
       "    comm.on_msg(function(msg) {\n",
       "        //console.log('receiving', msg['content']['data'], msg);\n",
       "        // Pass the mpl event to the overridden (by mpl) onmessage function.\n",
       "        ws.onmessage(msg['content']['data'])\n",
       "    });\n",
       "    return ws;\n",
       "}\n",
       "\n",
       "mpl.mpl_figure_comm = function(comm, msg) {\n",
       "    // This is the function which gets called when the mpl process\n",
       "    // starts-up an IPython Comm through the \"matplotlib\" channel.\n",
       "\n",
       "    var id = msg.content.data.id;\n",
       "    // Get hold of the div created by the display call when the Comm\n",
       "    // socket was opened in Python.\n",
       "    var element = $(\"#\" + id);\n",
       "    var ws_proxy = comm_websocket_adapter(comm)\n",
       "\n",
       "    function ondownload(figure, format) {\n",
       "        window.open(figure.imageObj.src);\n",
       "    }\n",
       "\n",
       "    var fig = new mpl.figure(id, ws_proxy,\n",
       "                           ondownload,\n",
       "                           element.get(0));\n",
       "\n",
       "    // Call onopen now - mpl needs it, as it is assuming we've passed it a real\n",
       "    // web socket which is closed, not our websocket->open comm proxy.\n",
       "    ws_proxy.onopen();\n",
       "\n",
       "    fig.parent_element = element.get(0);\n",
       "    fig.cell_info = mpl.find_output_cell(\"<div id='\" + id + \"'></div>\");\n",
       "    if (!fig.cell_info) {\n",
       "        console.error(\"Failed to find cell for figure\", id, fig);\n",
       "        return;\n",
       "    }\n",
       "\n",
       "    var output_index = fig.cell_info[2]\n",
       "    var cell = fig.cell_info[0];\n",
       "\n",
       "};\n",
       "\n",
       "mpl.figure.prototype.handle_close = function(fig, msg) {\n",
       "    var width = fig.canvas.width/mpl.ratio\n",
       "    fig.root.unbind('remove')\n",
       "\n",
       "    // Update the output cell to use the data from the current canvas.\n",
       "    fig.push_to_output();\n",
       "    var dataURL = fig.canvas.toDataURL();\n",
       "    // Re-enable the keyboard manager in IPython - without this line, in FF,\n",
       "    // the notebook keyboard shortcuts fail.\n",
       "    IPython.keyboard_manager.enable()\n",
       "    $(fig.parent_element).html('<img src=\"' + dataURL + '\" width=\"' + width + '\">');\n",
       "    fig.close_ws(fig, msg);\n",
       "}\n",
       "\n",
       "mpl.figure.prototype.close_ws = function(fig, msg){\n",
       "    fig.send_message('closing', msg);\n",
       "    // fig.ws.close()\n",
       "}\n",
       "\n",
       "mpl.figure.prototype.push_to_output = function(remove_interactive) {\n",
       "    // Turn the data on the canvas into data in the output cell.\n",
       "    var width = this.canvas.width/mpl.ratio\n",
       "    var dataURL = this.canvas.toDataURL();\n",
       "    this.cell_info[1]['text/html'] = '<img src=\"' + dataURL + '\" width=\"' + width + '\">';\n",
       "}\n",
       "\n",
       "mpl.figure.prototype.updated_canvas_event = function() {\n",
       "    // Tell IPython that the notebook contents must change.\n",
       "    IPython.notebook.set_dirty(true);\n",
       "    this.send_message(\"ack\", {});\n",
       "    var fig = this;\n",
       "    // Wait a second, then push the new image to the DOM so\n",
       "    // that it is saved nicely (might be nice to debounce this).\n",
       "    setTimeout(function () { fig.push_to_output() }, 1000);\n",
       "}\n",
       "\n",
       "mpl.figure.prototype._init_toolbar = function() {\n",
       "    var fig = this;\n",
       "\n",
       "    var nav_element = $('<div/>');\n",
       "    nav_element.attr('style', 'width: 100%');\n",
       "    this.root.append(nav_element);\n",
       "\n",
       "    // Define a callback function for later on.\n",
       "    function toolbar_event(event) {\n",
       "        return fig.toolbar_button_onclick(event['data']);\n",
       "    }\n",
       "    function toolbar_mouse_event(event) {\n",
       "        return fig.toolbar_button_onmouseover(event['data']);\n",
       "    }\n",
       "\n",
       "    for(var toolbar_ind in mpl.toolbar_items){\n",
       "        var name = mpl.toolbar_items[toolbar_ind][0];\n",
       "        var tooltip = mpl.toolbar_items[toolbar_ind][1];\n",
       "        var image = mpl.toolbar_items[toolbar_ind][2];\n",
       "        var method_name = mpl.toolbar_items[toolbar_ind][3];\n",
       "\n",
       "        if (!name) { continue; };\n",
       "\n",
       "        var button = $('<button class=\"btn btn-default\" href=\"#\" title=\"' + name + '\"><i class=\"fa ' + image + ' fa-lg\"></i></button>');\n",
       "        button.click(method_name, toolbar_event);\n",
       "        button.mouseover(tooltip, toolbar_mouse_event);\n",
       "        nav_element.append(button);\n",
       "    }\n",
       "\n",
       "    // Add the status bar.\n",
       "    var status_bar = $('<span class=\"mpl-message\" style=\"text-align:right; float: right;\"/>');\n",
       "    nav_element.append(status_bar);\n",
       "    this.message = status_bar[0];\n",
       "\n",
       "    // Add the close button to the window.\n",
       "    var buttongrp = $('<div class=\"btn-group inline pull-right\"></div>');\n",
       "    var button = $('<button class=\"btn btn-mini btn-primary\" href=\"#\" title=\"Stop Interaction\"><i class=\"fa fa-power-off icon-remove icon-large\"></i></button>');\n",
       "    button.click(function (evt) { fig.handle_close(fig, {}); } );\n",
       "    button.mouseover('Stop Interaction', toolbar_mouse_event);\n",
       "    buttongrp.append(button);\n",
       "    var titlebar = this.root.find($('.ui-dialog-titlebar'));\n",
       "    titlebar.prepend(buttongrp);\n",
       "}\n",
       "\n",
       "mpl.figure.prototype._root_extra_style = function(el){\n",
       "    var fig = this\n",
       "    el.on(\"remove\", function(){\n",
       "\tfig.close_ws(fig, {});\n",
       "    });\n",
       "}\n",
       "\n",
       "mpl.figure.prototype._canvas_extra_style = function(el){\n",
       "    // this is important to make the div 'focusable\n",
       "    el.attr('tabindex', 0)\n",
       "    // reach out to IPython and tell the keyboard manager to turn it's self\n",
       "    // off when our div gets focus\n",
       "\n",
       "    // location in version 3\n",
       "    if (IPython.notebook.keyboard_manager) {\n",
       "        IPython.notebook.keyboard_manager.register_events(el);\n",
       "    }\n",
       "    else {\n",
       "        // location in version 2\n",
       "        IPython.keyboard_manager.register_events(el);\n",
       "    }\n",
       "\n",
       "}\n",
       "\n",
       "mpl.figure.prototype._key_event_extra = function(event, name) {\n",
       "    var manager = IPython.notebook.keyboard_manager;\n",
       "    if (!manager)\n",
       "        manager = IPython.keyboard_manager;\n",
       "\n",
       "    // Check for shift+enter\n",
       "    if (event.shiftKey && event.which == 13) {\n",
       "        this.canvas_div.blur();\n",
       "        // select the cell after this one\n",
       "        var index = IPython.notebook.find_cell_index(this.cell_info[0]);\n",
       "        IPython.notebook.select(index + 1);\n",
       "    }\n",
       "}\n",
       "\n",
       "mpl.figure.prototype.handle_save = function(fig, msg) {\n",
       "    fig.ondownload(fig, null);\n",
       "}\n",
       "\n",
       "\n",
       "mpl.find_output_cell = function(html_output) {\n",
       "    // Return the cell and output element which can be found *uniquely* in the notebook.\n",
       "    // Note - this is a bit hacky, but it is done because the \"notebook_saving.Notebook\"\n",
       "    // IPython event is triggered only after the cells have been serialised, which for\n",
       "    // our purposes (turning an active figure into a static one), is too late.\n",
       "    var cells = IPython.notebook.get_cells();\n",
       "    var ncells = cells.length;\n",
       "    for (var i=0; i<ncells; i++) {\n",
       "        var cell = cells[i];\n",
       "        if (cell.cell_type === 'code'){\n",
       "            for (var j=0; j<cell.output_area.outputs.length; j++) {\n",
       "                var data = cell.output_area.outputs[j];\n",
       "                if (data.data) {\n",
       "                    // IPython >= 3 moved mimebundle to data attribute of output\n",
       "                    data = data.data;\n",
       "                }\n",
       "                if (data['text/html'] == html_output) {\n",
       "                    return [cell, data, j];\n",
       "                }\n",
       "            }\n",
       "        }\n",
       "    }\n",
       "}\n",
       "\n",
       "// Register the function which deals with the matplotlib target/channel.\n",
       "// The kernel may be null if the page has been refreshed.\n",
       "if (IPython.notebook.kernel != null) {\n",
       "    IPython.notebook.kernel.comm_manager.register_target('matplotlib', mpl.mpl_figure_comm);\n",
       "}\n"
      ],
      "text/plain": [
       "<IPython.core.display.Javascript object>"
      ]
     },
     "metadata": {},
     "output_type": "display_data"
    },
    {
     "data": {
      "text/html": [
       "<img src=\"data:image/png;base64,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\" width=\"1000\">"
      ],
      "text/plain": [
       "<IPython.core.display.HTML object>"
      ]
     },
     "metadata": {},
     "output_type": "display_data"
    }
   ],
   "source": [
    "ax, tax, lax, lines = dual_train_plots()\n",
    "fig = ax.figure\n",
    "plt.tight_layout()\n",
    "# This gets built up during the run - do not rerun this cell\n",
    "results = pd.DataFrame([], columns=Results._fields)"
   ]
  },
  {
   "cell_type": "code",
   "execution_count": 12,
   "metadata": {
    "scrolled": true
   },
   "outputs": [
    {
     "name": "stdout",
     "output_type": "stream",
     "text": [
      "for model:  UNet_A(\n",
      "  (block1): ConvBNRelu_A(\n",
      "    (0): Conv1d(1, 48, kernel_size=(25,), stride=(1,), padding=(12,))\n",
      "    (1): BatchNorm1d(48, eps=1e-05, momentum=0.1, affine=True, track_running_stats=True)\n",
      "    (2): ReLU()\n",
      "  )\n",
      "  (block2): ConvBNRelu_A(\n",
      "    (0): Conv1d(48, 48, kernel_size=(3,), stride=(1,), padding=(1,))\n",
      "    (1): BatchNorm1d(48, eps=1e-05, momentum=0.1, affine=True, track_running_stats=True)\n",
      "    (2): ReLU()\n",
      "  )\n",
      "  (block3): ConvBNRelu_A(\n",
      "    (0): Conv1d(48, 48, kernel_size=(3,), stride=(1,), padding=(1,))\n",
      "    (1): BatchNorm1d(48, eps=1e-05, momentum=0.1, affine=True, track_running_stats=True)\n",
      "    (2): ReLU()\n",
      "  )\n",
      "  (up1): Up_A(\n",
      "    (0): ConvTranspose1d(48, 48, kernel_size=(2,), stride=(2,))\n",
      "    (1): BatchNorm1d(48, eps=1e-05, momentum=0.1, affine=True, track_running_stats=True)\n",
      "    (2): ReLU()\n",
      "  )\n",
      "  (up2): Up_A(\n",
      "    (0): ConvTranspose1d(96, 48, kernel_size=(2,), stride=(2,))\n",
      "    (1): BatchNorm1d(48, eps=1e-05, momentum=0.1, affine=True, track_running_stats=True)\n",
      "    (2): ReLU()\n",
      "  )\n",
      "  (up3): Up_A(\n",
      "    (0): ConvTranspose1d(96, 48, kernel_size=(2,), stride=(2,))\n",
      "    (1): BatchNorm1d(48, eps=1e-05, momentum=0.1, affine=True, track_running_stats=True)\n",
      "    (2): ReLU()\n",
      "  )\n",
      "  (up4): Up_A(\n",
      "    (0): ConvTranspose1d(48, 48, kernel_size=(2,), stride=(2,))\n",
      "    (1): BatchNorm1d(48, eps=1e-05, momentum=0.1, affine=True, track_running_stats=True)\n",
      "    (2): ReLU()\n",
      "  )\n",
      "  (outc): Conv1d(48, 1, kernel_size=(3,), stride=(1,), padding=(1,))\n",
      "  (down): MaxPool1d(kernel_size=2, stride=2, padding=0, dilation=1, ceil_mode=False)\n",
      ")\n",
      "epoch_start 0\n",
      "batch_size 128\n",
      "epochs 1000\n",
      "lr 0.001\n",
      "Number of batches: train = 1250, val = 78\n"
     ]
    },
    {
     "name": "stderr",
     "output_type": "stream",
     "text": [
      "/home/michael24peters/pv-finder_experimental/notebooks/model/training.py:95: TqdmDeprecationWarning: This function will be removed in tqdm==5.0.0\n",
      "Please use `tqdm.notebook.tqdm` instead of `tqdm.tqdm_notebook`\n",
      "  file=sys.stderr,\n"
     ]
    },
    {
     "data": {
      "application/vnd.jupyter.widget-view+json": {
       "model_id": "a12f9b85d89c4471b87c01dfbddc0d19",
       "version_major": 2,
       "version_minor": 0
      },
      "text/plain": [
       "HBox(children=(FloatProgress(value=0.0, description='Epochs', layout=Layout(flex='2'), max=1000.0, style=Progr…"
      ]
     },
     "metadata": {},
     "output_type": "display_data"
    },
    {
     "data": {
      "application/vnd.jupyter.widget-view+json": {
       "model_id": "",
       "version_major": 2,
       "version_minor": 0
      },
      "text/plain": [
       "HBox(children=(FloatProgress(value=0.0, description='Training', layout=Layout(flex='2'), max=1250.0, style=Pro…"
      ]
     },
     "metadata": {},
     "output_type": "display_data"
    },
    {
     "name": "stdout",
     "output_type": "stream",
     "text": [
      "Epoch 0: train=70.7155, val=8.95704, took 46.325 s\n",
      "  Validation Found 50455 of 54504, added 2173 (eff 92.57%) (0.218 FP/event)\n"
     ]
    },
    {
     "data": {
      "application/vnd.jupyter.widget-view+json": {
       "model_id": "",
       "version_major": 2,
       "version_minor": 0
      },
      "text/plain": [
       "HBox(children=(FloatProgress(value=0.0, description='Training', layout=Layout(flex='2'), max=1250.0, style=Pro…"
      ]
     },
     "metadata": {},
     "output_type": "display_data"
    },
    {
     "name": "stdout",
     "output_type": "stream",
     "text": [
      "Epoch 1: train=8.17171, val=9.15214, took 45.783 s\n",
      "  Validation Found 49814 of 54504, added 1222 (eff 91.40%) (0.122 FP/event)\n"
     ]
    },
    {
     "data": {
      "application/vnd.jupyter.widget-view+json": {
       "model_id": "",
       "version_major": 2,
       "version_minor": 0
      },
      "text/plain": [
       "HBox(children=(FloatProgress(value=0.0, description='Training', layout=Layout(flex='2'), max=1250.0, style=Pro…"
      ]
     },
     "metadata": {},
     "output_type": "display_data"
    },
    {
     "name": "stdout",
     "output_type": "stream",
     "text": [
      "Epoch 2: train=8.03293, val=8.83555, took 45.849 s\n",
      "  Validation Found 50879 of 54504, added 2679 (eff 93.35%) (0.268 FP/event)\n"
     ]
    },
    {
     "data": {
      "application/vnd.jupyter.widget-view+json": {
       "model_id": "",
       "version_major": 2,
       "version_minor": 0
      },
      "text/plain": [
       "HBox(children=(FloatProgress(value=0.0, description='Training', layout=Layout(flex='2'), max=1250.0, style=Pro…"
      ]
     },
     "metadata": {},
     "output_type": "display_data"
    },
    {
     "name": "stdout",
     "output_type": "stream",
     "text": [
      "Epoch 3: train=7.95097, val=9.03168, took 45.829 s\n",
      "  Validation Found 51248 of 54504, added 3515 (eff 94.03%) (0.352 FP/event)\n"
     ]
    },
    {
     "data": {
      "application/vnd.jupyter.widget-view+json": {
       "model_id": "",
       "version_major": 2,
       "version_minor": 0
      },
      "text/plain": [
       "HBox(children=(FloatProgress(value=0.0, description='Training', layout=Layout(flex='2'), max=1250.0, style=Pro…"
      ]
     },
     "metadata": {},
     "output_type": "display_data"
    },
    {
     "name": "stdout",
     "output_type": "stream",
     "text": [
      "Epoch 4: train=7.88693, val=8.8857, took 45.801 s\n",
      "  Validation Found 50339 of 54504, added 1419 (eff 92.36%) (0.142 FP/event)\n"
     ]
    },
    {
     "data": {
      "application/vnd.jupyter.widget-view+json": {
       "model_id": "",
       "version_major": 2,
       "version_minor": 0
      },
      "text/plain": [
       "HBox(children=(FloatProgress(value=0.0, description='Training', layout=Layout(flex='2'), max=1250.0, style=Pro…"
      ]
     },
     "metadata": {},
     "output_type": "display_data"
    },
    {
     "name": "stdout",
     "output_type": "stream",
     "text": [
      "Epoch 5: train=7.84243, val=8.66711, took 45.727 s\n",
      "  Validation Found 50383 of 54504, added 1505 (eff 92.44%) (0.151 FP/event)\n"
     ]
    },
    {
     "data": {
      "application/vnd.jupyter.widget-view+json": {
       "model_id": "",
       "version_major": 2,
       "version_minor": 0
      },
      "text/plain": [
       "HBox(children=(FloatProgress(value=0.0, description='Training', layout=Layout(flex='2'), max=1250.0, style=Pro…"
      ]
     },
     "metadata": {},
     "output_type": "display_data"
    },
    {
     "name": "stdout",
     "output_type": "stream",
     "text": [
      "Epoch 6: train=7.81521, val=9.40594, took 45.745 s\n",
      "  Validation Found 51357 of 54504, added 4322 (eff 94.23%) (0.433 FP/event)\n"
     ]
    },
    {
     "data": {
      "application/vnd.jupyter.widget-view+json": {
       "model_id": "",
       "version_major": 2,
       "version_minor": 0
      },
      "text/plain": [
       "HBox(children=(FloatProgress(value=0.0, description='Training', layout=Layout(flex='2'), max=1250.0, style=Pro…"
      ]
     },
     "metadata": {},
     "output_type": "display_data"
    },
    {
     "name": "stdout",
     "output_type": "stream",
     "text": [
      "Epoch 7: train=7.77687, val=8.28246, took 45.698 s\n",
      "  Validation Found 51081 of 54504, added 2114 (eff 93.72%) (0.212 FP/event)\n"
     ]
    },
    {
     "data": {
      "application/vnd.jupyter.widget-view+json": {
       "model_id": "",
       "version_major": 2,
       "version_minor": 0
      },
      "text/plain": [
       "HBox(children=(FloatProgress(value=0.0, description='Training', layout=Layout(flex='2'), max=1250.0, style=Pro…"
      ]
     },
     "metadata": {},
     "output_type": "display_data"
    },
    {
     "name": "stdout",
     "output_type": "stream",
     "text": [
      "Epoch 8: train=7.75266, val=8.27249, took 45.692 s\n",
      "  Validation Found 51003 of 54504, added 1912 (eff 93.58%) (0.191 FP/event)\n"
     ]
    },
    {
     "data": {
      "application/vnd.jupyter.widget-view+json": {
       "model_id": "",
       "version_major": 2,
       "version_minor": 0
      },
      "text/plain": [
       "HBox(children=(FloatProgress(value=0.0, description='Training', layout=Layout(flex='2'), max=1250.0, style=Pro…"
      ]
     },
     "metadata": {},
     "output_type": "display_data"
    },
    {
     "name": "stdout",
     "output_type": "stream",
     "text": [
      "Epoch 9: train=7.73057, val=8.7224, took 45.776 s\n",
      "  Validation Found 50393 of 54504, added 1365 (eff 92.46%) (0.137 FP/event)\n"
     ]
    },
    {
     "data": {
      "application/vnd.jupyter.widget-view+json": {
       "model_id": "",
       "version_major": 2,
       "version_minor": 0
      },
      "text/plain": [
       "HBox(children=(FloatProgress(value=0.0, description='Training', layout=Layout(flex='2'), max=1250.0, style=Pro…"
      ]
     },
     "metadata": {},
     "output_type": "display_data"
    },
    {
     "name": "stdout",
     "output_type": "stream",
     "text": [
      "Epoch 10: train=7.70639, val=8.46401, took 45.717 s\n",
      "  Validation Found 50492 of 54504, added 1436 (eff 92.64%) (0.144 FP/event)\n"
     ]
    },
    {
     "data": {
      "application/vnd.jupyter.widget-view+json": {
       "model_id": "",
       "version_major": 2,
       "version_minor": 0
      },
      "text/plain": [
       "HBox(children=(FloatProgress(value=0.0, description='Training', layout=Layout(flex='2'), max=1250.0, style=Pro…"
      ]
     },
     "metadata": {},
     "output_type": "display_data"
    },
    {
     "name": "stdout",
     "output_type": "stream",
     "text": [
      "Epoch 11: train=7.68819, val=8.11988, took 45.911 s\n",
      "  Validation Found 50833 of 54504, added 1607 (eff 93.26%) (0.161 FP/event)\n"
     ]
    },
    {
     "data": {
      "application/vnd.jupyter.widget-view+json": {
       "model_id": "",
       "version_major": 2,
       "version_minor": 0
      },
      "text/plain": [
       "HBox(children=(FloatProgress(value=0.0, description='Training', layout=Layout(flex='2'), max=1250.0, style=Pro…"
      ]
     },
     "metadata": {},
     "output_type": "display_data"
    },
    {
     "name": "stdout",
     "output_type": "stream",
     "text": [
      "Epoch 12: train=7.67139, val=8.23038, took 45.748 s\n",
      "  Validation Found 51187 of 54504, added 2155 (eff 93.91%) (0.216 FP/event)\n"
     ]
    },
    {
     "data": {
      "application/vnd.jupyter.widget-view+json": {
       "model_id": "",
       "version_major": 2,
       "version_minor": 0
      },
      "text/plain": [
       "HBox(children=(FloatProgress(value=0.0, description='Training', layout=Layout(flex='2'), max=1250.0, style=Pro…"
      ]
     },
     "metadata": {},
     "output_type": "display_data"
    },
    {
     "name": "stdout",
     "output_type": "stream",
     "text": [
      "Epoch 13: train=7.65847, val=8.29038, took 45.739 s\n",
      "  Validation Found 51070 of 54504, added 2130 (eff 93.70%) (0.213 FP/event)\n"
     ]
    },
    {
     "data": {
      "application/vnd.jupyter.widget-view+json": {
       "model_id": "",
       "version_major": 2,
       "version_minor": 0
      },
      "text/plain": [
       "HBox(children=(FloatProgress(value=0.0, description='Training', layout=Layout(flex='2'), max=1250.0, style=Pro…"
      ]
     },
     "metadata": {},
     "output_type": "display_data"
    },
    {
     "name": "stdout",
     "output_type": "stream",
     "text": [
      "Epoch 14: train=7.64605, val=8.27019, took 45.708 s\n",
      "  Validation Found 50890 of 54504, added 1750 (eff 93.37%) (0.175 FP/event)\n"
     ]
    },
    {
     "data": {
      "application/vnd.jupyter.widget-view+json": {
       "model_id": "",
       "version_major": 2,
       "version_minor": 0
      },
      "text/plain": [
       "HBox(children=(FloatProgress(value=0.0, description='Training', layout=Layout(flex='2'), max=1250.0, style=Pro…"
      ]
     },
     "metadata": {},
     "output_type": "display_data"
    },
    {
     "name": "stdout",
     "output_type": "stream",
     "text": [
      "Epoch 15: train=7.63281, val=8.49648, took 45.682 s\n",
      "  Validation Found 50299 of 54504, added 1155 (eff 92.28%) (0.116 FP/event)\n"
     ]
    },
    {
     "data": {
      "application/vnd.jupyter.widget-view+json": {
       "model_id": "",
       "version_major": 2,
       "version_minor": 0
      },
      "text/plain": [
       "HBox(children=(FloatProgress(value=0.0, description='Training', layout=Layout(flex='2'), max=1250.0, style=Pro…"
      ]
     },
     "metadata": {},
     "output_type": "display_data"
    },
    {
     "name": "stdout",
     "output_type": "stream",
     "text": [
      "Epoch 16: train=7.62122, val=8.42801, took 45.711 s\n",
      "  Validation Found 50607 of 54504, added 1408 (eff 92.85%) (0.141 FP/event)\n"
     ]
    },
    {
     "data": {
      "application/vnd.jupyter.widget-view+json": {
       "model_id": "",
       "version_major": 2,
       "version_minor": 0
      },
      "text/plain": [
       "HBox(children=(FloatProgress(value=0.0, description='Training', layout=Layout(flex='2'), max=1250.0, style=Pro…"
      ]
     },
     "metadata": {},
     "output_type": "display_data"
    },
    {
     "name": "stdout",
     "output_type": "stream",
     "text": [
      "Epoch 17: train=7.61019, val=8.18254, took 45.666 s\n",
      "  Validation Found 51394 of 54504, added 2546 (eff 94.29%) (0.255 FP/event)\n"
     ]
    },
    {
     "data": {
      "application/vnd.jupyter.widget-view+json": {
       "model_id": "",
       "version_major": 2,
       "version_minor": 0
      },
      "text/plain": [
       "HBox(children=(FloatProgress(value=0.0, description='Training', layout=Layout(flex='2'), max=1250.0, style=Pro…"
      ]
     },
     "metadata": {},
     "output_type": "display_data"
    },
    {
     "name": "stdout",
     "output_type": "stream",
     "text": [
      "Epoch 18: train=7.59707, val=8.77355, took 45.721 s\n",
      "  Validation Found 50079 of 54504, added 1037 (eff 91.88%) (0.104 FP/event)\n"
     ]
    },
    {
     "data": {
      "application/vnd.jupyter.widget-view+json": {
       "model_id": "",
       "version_major": 2,
       "version_minor": 0
      },
      "text/plain": [
       "HBox(children=(FloatProgress(value=0.0, description='Training', layout=Layout(flex='2'), max=1250.0, style=Pro…"
      ]
     },
     "metadata": {},
     "output_type": "display_data"
    },
    {
     "name": "stdout",
     "output_type": "stream",
     "text": [
      "Epoch 19: train=7.59037, val=8.169, took 45.668 s\n",
      "  Validation Found 51152 of 54504, added 1973 (eff 93.85%) (0.198 FP/event)\n"
     ]
    },
    {
     "data": {
      "application/vnd.jupyter.widget-view+json": {
       "model_id": "",
       "version_major": 2,
       "version_minor": 0
      },
      "text/plain": [
       "HBox(children=(FloatProgress(value=0.0, description='Training', layout=Layout(flex='2'), max=1250.0, style=Pro…"
      ]
     },
     "metadata": {},
     "output_type": "display_data"
    },
    {
     "name": "stdout",
     "output_type": "stream",
     "text": [
      "Epoch 20: train=7.58037, val=8.12422, took 45.738 s\n",
      "  Validation Found 50940 of 54504, added 1693 (eff 93.46%) (0.17 FP/event)\n"
     ]
    },
    {
     "data": {
      "application/vnd.jupyter.widget-view+json": {
       "model_id": "",
       "version_major": 2,
       "version_minor": 0
      },
      "text/plain": [
       "HBox(children=(FloatProgress(value=0.0, description='Training', layout=Layout(flex='2'), max=1250.0, style=Pro…"
      ]
     },
     "metadata": {},
     "output_type": "display_data"
    },
    {
     "name": "stdout",
     "output_type": "stream",
     "text": [
      "Epoch 21: train=7.57927, val=8.34405, took 45.675 s\n",
      "  Validation Found 50414 of 54504, added 1214 (eff 92.50%) (0.122 FP/event)\n"
     ]
    },
    {
     "data": {
      "application/vnd.jupyter.widget-view+json": {
       "model_id": "",
       "version_major": 2,
       "version_minor": 0
      },
      "text/plain": [
       "HBox(children=(FloatProgress(value=0.0, description='Training', layout=Layout(flex='2'), max=1250.0, style=Pro…"
      ]
     },
     "metadata": {},
     "output_type": "display_data"
    },
    {
     "name": "stdout",
     "output_type": "stream",
     "text": [
      "Epoch 22: train=7.56773, val=8.6205, took 45.7 s\n",
      "  Validation Found 50137 of 54504, added 1043 (eff 91.99%) (0.104 FP/event)\n"
     ]
    },
    {
     "data": {
      "application/vnd.jupyter.widget-view+json": {
       "model_id": "",
       "version_major": 2,
       "version_minor": 0
      },
      "text/plain": [
       "HBox(children=(FloatProgress(value=0.0, description='Training', layout=Layout(flex='2'), max=1250.0, style=Pro…"
      ]
     },
     "metadata": {},
     "output_type": "display_data"
    },
    {
     "name": "stdout",
     "output_type": "stream",
     "text": [
      "Epoch 23: train=7.5641, val=8.2018, took 45.784 s\n",
      "  Validation Found 50965 of 54504, added 1808 (eff 93.51%) (0.181 FP/event)\n"
     ]
    },
    {
     "data": {
      "application/vnd.jupyter.widget-view+json": {
       "model_id": "",
       "version_major": 2,
       "version_minor": 0
      },
      "text/plain": [
       "HBox(children=(FloatProgress(value=0.0, description='Training', layout=Layout(flex='2'), max=1250.0, style=Pro…"
      ]
     },
     "metadata": {},
     "output_type": "display_data"
    },
    {
     "name": "stdout",
     "output_type": "stream",
     "text": [
      "Epoch 24: train=7.56095, val=8.22543, took 45.841 s\n",
      "  Validation Found 51469 of 54504, added 2567 (eff 94.43%) (0.257 FP/event)\n"
     ]
    },
    {
     "data": {
      "application/vnd.jupyter.widget-view+json": {
       "model_id": "",
       "version_major": 2,
       "version_minor": 0
      },
      "text/plain": [
       "HBox(children=(FloatProgress(value=0.0, description='Training', layout=Layout(flex='2'), max=1250.0, style=Pro…"
      ]
     },
     "metadata": {},
     "output_type": "display_data"
    },
    {
     "name": "stdout",
     "output_type": "stream",
     "text": [
      "Epoch 25: train=7.55139, val=8.24784, took 45.624 s\n",
      "  Validation Found 50777 of 54504, added 1402 (eff 93.16%) (0.14 FP/event)\n"
     ]
    },
    {
     "data": {
      "application/vnd.jupyter.widget-view+json": {
       "model_id": "",
       "version_major": 2,
       "version_minor": 0
      },
      "text/plain": [
       "HBox(children=(FloatProgress(value=0.0, description='Training', layout=Layout(flex='2'), max=1250.0, style=Pro…"
      ]
     },
     "metadata": {},
     "output_type": "display_data"
    },
    {
     "name": "stdout",
     "output_type": "stream",
     "text": [
      "Epoch 26: train=7.54485, val=8.0467, took 45.565 s\n",
      "  Validation Found 51148 of 54504, added 1806 (eff 93.84%) (0.181 FP/event)\n"
     ]
    },
    {
     "data": {
      "application/vnd.jupyter.widget-view+json": {
       "model_id": "",
       "version_major": 2,
       "version_minor": 0
      },
      "text/plain": [
       "HBox(children=(FloatProgress(value=0.0, description='Training', layout=Layout(flex='2'), max=1250.0, style=Pro…"
      ]
     },
     "metadata": {},
     "output_type": "display_data"
    },
    {
     "name": "stdout",
     "output_type": "stream",
     "text": [
      "Epoch 27: train=7.54055, val=8.4468, took 45.646 s\n",
      "  Validation Found 50382 of 54504, added 1147 (eff 92.44%) (0.115 FP/event)\n"
     ]
    },
    {
     "data": {
      "application/vnd.jupyter.widget-view+json": {
       "model_id": "",
       "version_major": 2,
       "version_minor": 0
      },
      "text/plain": [
       "HBox(children=(FloatProgress(value=0.0, description='Training', layout=Layout(flex='2'), max=1250.0, style=Pro…"
      ]
     },
     "metadata": {},
     "output_type": "display_data"
    },
    {
     "name": "stdout",
     "output_type": "stream",
     "text": [
      "Epoch 28: train=7.53806, val=8.03898, took 45.719 s\n",
      "  Validation Found 51266 of 54504, added 2041 (eff 94.06%) (0.204 FP/event)\n"
     ]
    },
    {
     "data": {
      "application/vnd.jupyter.widget-view+json": {
       "model_id": "",
       "version_major": 2,
       "version_minor": 0
      },
      "text/plain": [
       "HBox(children=(FloatProgress(value=0.0, description='Training', layout=Layout(flex='2'), max=1250.0, style=Pro…"
      ]
     },
     "metadata": {},
     "output_type": "display_data"
    },
    {
     "name": "stdout",
     "output_type": "stream",
     "text": [
      "Epoch 29: train=7.53219, val=8.02006, took 45.675 s\n",
      "  Validation Found 51076 of 54504, added 1778 (eff 93.71%) (0.178 FP/event)\n"
     ]
    },
    {
     "data": {
      "application/vnd.jupyter.widget-view+json": {
       "model_id": "",
       "version_major": 2,
       "version_minor": 0
      },
      "text/plain": [
       "HBox(children=(FloatProgress(value=0.0, description='Training', layout=Layout(flex='2'), max=1250.0, style=Pro…"
      ]
     },
     "metadata": {},
     "output_type": "display_data"
    },
    {
     "name": "stdout",
     "output_type": "stream",
     "text": [
      "Epoch 30: train=7.52618, val=8.03604, took 45.717 s\n",
      "  Validation Found 51290 of 54504, added 2137 (eff 94.10%) (0.214 FP/event)\n"
     ]
    },
    {
     "data": {
      "application/vnd.jupyter.widget-view+json": {
       "model_id": "",
       "version_major": 2,
       "version_minor": 0
      },
      "text/plain": [
       "HBox(children=(FloatProgress(value=0.0, description='Training', layout=Layout(flex='2'), max=1250.0, style=Pro…"
      ]
     },
     "metadata": {},
     "output_type": "display_data"
    },
    {
     "name": "stdout",
     "output_type": "stream",
     "text": [
      "Epoch 31: train=7.52059, val=7.96602, took 45.675 s\n",
      "  Validation Found 51271 of 54504, added 2038 (eff 94.07%) (0.204 FP/event)\n"
     ]
    },
    {
     "data": {
      "application/vnd.jupyter.widget-view+json": {
       "model_id": "",
       "version_major": 2,
       "version_minor": 0
      },
      "text/plain": [
       "HBox(children=(FloatProgress(value=0.0, description='Training', layout=Layout(flex='2'), max=1250.0, style=Pro…"
      ]
     },
     "metadata": {},
     "output_type": "display_data"
    },
    {
     "name": "stdout",
     "output_type": "stream",
     "text": [
      "Epoch 32: train=7.5162, val=8.70458, took 45.741 s\n",
      "  Validation Found 50152 of 54504, added 1017 (eff 92.02%) (0.102 FP/event)\n"
     ]
    },
    {
     "data": {
      "application/vnd.jupyter.widget-view+json": {
       "model_id": "",
       "version_major": 2,
       "version_minor": 0
      },
      "text/plain": [
       "HBox(children=(FloatProgress(value=0.0, description='Training', layout=Layout(flex='2'), max=1250.0, style=Pro…"
      ]
     },
     "metadata": {},
     "output_type": "display_data"
    },
    {
     "name": "stdout",
     "output_type": "stream",
     "text": [
      "Epoch 33: train=7.51156, val=8.56543, took 45.698 s\n",
      "  Validation Found 50303 of 54504, added 1086 (eff 92.29%) (0.109 FP/event)\n"
     ]
    },
    {
     "data": {
      "application/vnd.jupyter.widget-view+json": {
       "model_id": "",
       "version_major": 2,
       "version_minor": 0
      },
      "text/plain": [
       "HBox(children=(FloatProgress(value=0.0, description='Training', layout=Layout(flex='2'), max=1250.0, style=Pro…"
      ]
     },
     "metadata": {},
     "output_type": "display_data"
    },
    {
     "name": "stdout",
     "output_type": "stream",
     "text": [
      "Epoch 34: train=7.50462, val=8.22501, took 45.645 s\n",
      "  Validation Found 50783 of 54504, added 1360 (eff 93.17%) (0.136 FP/event)\n"
     ]
    },
    {
     "data": {
      "application/vnd.jupyter.widget-view+json": {
       "model_id": "",
       "version_major": 2,
       "version_minor": 0
      },
      "text/plain": [
       "HBox(children=(FloatProgress(value=0.0, description='Training', layout=Layout(flex='2'), max=1250.0, style=Pro…"
      ]
     },
     "metadata": {},
     "output_type": "display_data"
    },
    {
     "name": "stdout",
     "output_type": "stream",
     "text": [
      "Epoch 35: train=7.5027, val=8.36575, took 45.651 s\n",
      "  Validation Found 50434 of 54504, added 1157 (eff 92.53%) (0.116 FP/event)\n"
     ]
    },
    {
     "data": {
      "application/vnd.jupyter.widget-view+json": {
       "model_id": "",
       "version_major": 2,
       "version_minor": 0
      },
      "text/plain": [
       "HBox(children=(FloatProgress(value=0.0, description='Training', layout=Layout(flex='2'), max=1250.0, style=Pro…"
      ]
     },
     "metadata": {},
     "output_type": "display_data"
    },
    {
     "name": "stdout",
     "output_type": "stream",
     "text": [
      "Epoch 36: train=7.50261, val=8.27325, took 45.621 s\n",
      "  Validation Found 50822 of 54504, added 1416 (eff 93.24%) (0.142 FP/event)\n"
     ]
    },
    {
     "data": {
      "application/vnd.jupyter.widget-view+json": {
       "model_id": "",
       "version_major": 2,
       "version_minor": 0
      },
      "text/plain": [
       "HBox(children=(FloatProgress(value=0.0, description='Training', layout=Layout(flex='2'), max=1250.0, style=Pro…"
      ]
     },
     "metadata": {},
     "output_type": "display_data"
    },
    {
     "name": "stdout",
     "output_type": "stream",
     "text": [
      "Epoch 37: train=7.49642, val=8.07953, took 45.619 s\n",
      "  Validation Found 51031 of 54504, added 1653 (eff 93.63%) (0.166 FP/event)\n"
     ]
    },
    {
     "data": {
      "application/vnd.jupyter.widget-view+json": {
       "model_id": "",
       "version_major": 2,
       "version_minor": 0
      },
      "text/plain": [
       "HBox(children=(FloatProgress(value=0.0, description='Training', layout=Layout(flex='2'), max=1250.0, style=Pro…"
      ]
     },
     "metadata": {},
     "output_type": "display_data"
    },
    {
     "name": "stdout",
     "output_type": "stream",
     "text": [
      "Epoch 38: train=7.48719, val=8.20566, took 45.589 s\n",
      "  Validation Found 51261 of 54504, added 2128 (eff 94.05%) (0.213 FP/event)\n"
     ]
    },
    {
     "data": {
      "application/vnd.jupyter.widget-view+json": {
       "model_id": "",
       "version_major": 2,
       "version_minor": 0
      },
      "text/plain": [
       "HBox(children=(FloatProgress(value=0.0, description='Training', layout=Layout(flex='2'), max=1250.0, style=Pro…"
      ]
     },
     "metadata": {},
     "output_type": "display_data"
    },
    {
     "name": "stdout",
     "output_type": "stream",
     "text": [
      "Epoch 39: train=7.485, val=8.1357, took 45.61 s\n",
      "  Validation Found 50981 of 54504, added 1565 (eff 93.54%) (0.157 FP/event)\n"
     ]
    },
    {
     "data": {
      "application/vnd.jupyter.widget-view+json": {
       "model_id": "",
       "version_major": 2,
       "version_minor": 0
      },
      "text/plain": [
       "HBox(children=(FloatProgress(value=0.0, description='Training', layout=Layout(flex='2'), max=1250.0, style=Pro…"
      ]
     },
     "metadata": {},
     "output_type": "display_data"
    },
    {
     "name": "stdout",
     "output_type": "stream",
     "text": [
      "Epoch 40: train=7.48251, val=8.25957, took 45.63 s\n",
      "  Validation Found 50958 of 54504, added 1610 (eff 93.49%) (0.161 FP/event)\n"
     ]
    },
    {
     "data": {
      "application/vnd.jupyter.widget-view+json": {
       "model_id": "",
       "version_major": 2,
       "version_minor": 0
      },
      "text/plain": [
       "HBox(children=(FloatProgress(value=0.0, description='Training', layout=Layout(flex='2'), max=1250.0, style=Pro…"
      ]
     },
     "metadata": {},
     "output_type": "display_data"
    },
    {
     "name": "stdout",
     "output_type": "stream",
     "text": [
      "Epoch 41: train=7.48278, val=7.99247, took 45.647 s\n",
      "  Validation Found 51406 of 54504, added 2262 (eff 94.32%) (0.227 FP/event)\n"
     ]
    },
    {
     "data": {
      "application/vnd.jupyter.widget-view+json": {
       "model_id": "",
       "version_major": 2,
       "version_minor": 0
      },
      "text/plain": [
       "HBox(children=(FloatProgress(value=0.0, description='Training', layout=Layout(flex='2'), max=1250.0, style=Pro…"
      ]
     },
     "metadata": {},
     "output_type": "display_data"
    },
    {
     "name": "stdout",
     "output_type": "stream",
     "text": [
      "Epoch 42: train=7.4761, val=7.97458, took 45.631 s\n",
      "  Validation Found 51206 of 54504, added 1962 (eff 93.95%) (0.196 FP/event)\n"
     ]
    },
    {
     "data": {
      "application/vnd.jupyter.widget-view+json": {
       "model_id": "",
       "version_major": 2,
       "version_minor": 0
      },
      "text/plain": [
       "HBox(children=(FloatProgress(value=0.0, description='Training', layout=Layout(flex='2'), max=1250.0, style=Pro…"
      ]
     },
     "metadata": {},
     "output_type": "display_data"
    },
    {
     "name": "stdout",
     "output_type": "stream",
     "text": [
      "Epoch 43: train=7.47612, val=8.10527, took 45.596 s\n",
      "  Validation Found 51206 of 54504, added 1901 (eff 93.95%) (0.19 FP/event)\n"
     ]
    },
    {
     "data": {
      "application/vnd.jupyter.widget-view+json": {
       "model_id": "",
       "version_major": 2,
       "version_minor": 0
      },
      "text/plain": [
       "HBox(children=(FloatProgress(value=0.0, description='Training', layout=Layout(flex='2'), max=1250.0, style=Pro…"
      ]
     },
     "metadata": {},
     "output_type": "display_data"
    },
    {
     "name": "stdout",
     "output_type": "stream",
     "text": [
      "Epoch 44: train=7.4664, val=8.16152, took 45.671 s\n",
      "  Validation Found 50845 of 54504, added 1397 (eff 93.29%) (0.14 FP/event)\n"
     ]
    },
    {
     "data": {
      "application/vnd.jupyter.widget-view+json": {
       "model_id": "",
       "version_major": 2,
       "version_minor": 0
      },
      "text/plain": [
       "HBox(children=(FloatProgress(value=0.0, description='Training', layout=Layout(flex='2'), max=1250.0, style=Pro…"
      ]
     },
     "metadata": {},
     "output_type": "display_data"
    },
    {
     "name": "stdout",
     "output_type": "stream",
     "text": [
      "Epoch 45: train=7.47033, val=7.9708, took 45.673 s\n",
      "  Validation Found 51338 of 54504, added 2108 (eff 94.19%) (0.211 FP/event)\n"
     ]
    },
    {
     "data": {
      "application/vnd.jupyter.widget-view+json": {
       "model_id": "",
       "version_major": 2,
       "version_minor": 0
      },
      "text/plain": [
       "HBox(children=(FloatProgress(value=0.0, description='Training', layout=Layout(flex='2'), max=1250.0, style=Pro…"
      ]
     },
     "metadata": {},
     "output_type": "display_data"
    },
    {
     "name": "stdout",
     "output_type": "stream",
     "text": [
      "Epoch 46: train=7.46411, val=8.5299, took 45.651 s\n",
      "  Validation Found 50295 of 54504, added 1054 (eff 92.28%) (0.106 FP/event)\n"
     ]
    },
    {
     "data": {
      "application/vnd.jupyter.widget-view+json": {
       "model_id": "",
       "version_major": 2,
       "version_minor": 0
      },
      "text/plain": [
       "HBox(children=(FloatProgress(value=0.0, description='Training', layout=Layout(flex='2'), max=1250.0, style=Pro…"
      ]
     },
     "metadata": {},
     "output_type": "display_data"
    },
    {
     "name": "stdout",
     "output_type": "stream",
     "text": [
      "Epoch 47: train=7.4587, val=8.10053, took 45.658 s\n",
      "  Validation Found 51050 of 54504, added 1677 (eff 93.66%) (0.168 FP/event)\n"
     ]
    },
    {
     "data": {
      "application/vnd.jupyter.widget-view+json": {
       "model_id": "",
       "version_major": 2,
       "version_minor": 0
      },
      "text/plain": [
       "HBox(children=(FloatProgress(value=0.0, description='Training', layout=Layout(flex='2'), max=1250.0, style=Pro…"
      ]
     },
     "metadata": {},
     "output_type": "display_data"
    },
    {
     "name": "stdout",
     "output_type": "stream",
     "text": [
      "Epoch 48: train=7.45488, val=8.08077, took 45.605 s\n",
      "  Validation Found 51257 of 54504, added 2006 (eff 94.04%) (0.201 FP/event)\n"
     ]
    },
    {
     "data": {
      "application/vnd.jupyter.widget-view+json": {
       "model_id": "",
       "version_major": 2,
       "version_minor": 0
      },
      "text/plain": [
       "HBox(children=(FloatProgress(value=0.0, description='Training', layout=Layout(flex='2'), max=1250.0, style=Pro…"
      ]
     },
     "metadata": {},
     "output_type": "display_data"
    },
    {
     "name": "stdout",
     "output_type": "stream",
     "text": [
      "Epoch 49: train=7.45259, val=8.12963, took 45.643 s\n",
      "  Validation Found 51230 of 54504, added 1859 (eff 93.99%) (0.186 FP/event)\n"
     ]
    },
    {
     "data": {
      "application/vnd.jupyter.widget-view+json": {
       "model_id": "",
       "version_major": 2,
       "version_minor": 0
      },
      "text/plain": [
       "HBox(children=(FloatProgress(value=0.0, description='Training', layout=Layout(flex='2'), max=1250.0, style=Pro…"
      ]
     },
     "metadata": {},
     "output_type": "display_data"
    },
    {
     "name": "stdout",
     "output_type": "stream",
     "text": [
      "Epoch 50: train=7.44893, val=7.93923, took 45.595 s\n",
      "  Validation Found 51285 of 54504, added 2032 (eff 94.09%) (0.204 FP/event)\n"
     ]
    },
    {
     "data": {
      "application/vnd.jupyter.widget-view+json": {
       "model_id": "",
       "version_major": 2,
       "version_minor": 0
      },
      "text/plain": [
       "HBox(children=(FloatProgress(value=0.0, description='Training', layout=Layout(flex='2'), max=1250.0, style=Pro…"
      ]
     },
     "metadata": {},
     "output_type": "display_data"
    },
    {
     "name": "stdout",
     "output_type": "stream",
     "text": [
      "Epoch 51: train=7.45237, val=8.23114, took 45.704 s\n",
      "  Validation Found 51381 of 54504, added 2352 (eff 94.27%) (0.236 FP/event)\n"
     ]
    },
    {
     "data": {
      "application/vnd.jupyter.widget-view+json": {
       "model_id": "",
       "version_major": 2,
       "version_minor": 0
      },
      "text/plain": [
       "HBox(children=(FloatProgress(value=0.0, description='Training', layout=Layout(flex='2'), max=1250.0, style=Pro…"
      ]
     },
     "metadata": {},
     "output_type": "display_data"
    },
    {
     "name": "stdout",
     "output_type": "stream",
     "text": [
      "Epoch 52: train=7.44423, val=8.21261, took 45.615 s\n",
      "  Validation Found 51521 of 54504, added 2660 (eff 94.53%) (0.266 FP/event)\n"
     ]
    },
    {
     "data": {
      "application/vnd.jupyter.widget-view+json": {
       "model_id": "",
       "version_major": 2,
       "version_minor": 0
      },
      "text/plain": [
       "HBox(children=(FloatProgress(value=0.0, description='Training', layout=Layout(flex='2'), max=1250.0, style=Pro…"
      ]
     },
     "metadata": {},
     "output_type": "display_data"
    },
    {
     "name": "stdout",
     "output_type": "stream",
     "text": [
      "Epoch 53: train=7.44591, val=8.25531, took 45.612 s\n",
      "  Validation Found 50775 of 54504, added 1476 (eff 93.16%) (0.148 FP/event)\n"
     ]
    },
    {
     "data": {
      "application/vnd.jupyter.widget-view+json": {
       "model_id": "",
       "version_major": 2,
       "version_minor": 0
      },
      "text/plain": [
       "HBox(children=(FloatProgress(value=0.0, description='Training', layout=Layout(flex='2'), max=1250.0, style=Pro…"
      ]
     },
     "metadata": {},
     "output_type": "display_data"
    },
    {
     "name": "stdout",
     "output_type": "stream",
     "text": [
      "Epoch 54: train=7.44069, val=8.08319, took 45.61 s\n",
      "  Validation Found 51150 of 54504, added 1757 (eff 93.85%) (0.176 FP/event)\n"
     ]
    },
    {
     "data": {
      "application/vnd.jupyter.widget-view+json": {
       "model_id": "",
       "version_major": 2,
       "version_minor": 0
      },
      "text/plain": [
       "HBox(children=(FloatProgress(value=0.0, description='Training', layout=Layout(flex='2'), max=1250.0, style=Pro…"
      ]
     },
     "metadata": {},
     "output_type": "display_data"
    },
    {
     "name": "stdout",
     "output_type": "stream",
     "text": [
      "Epoch 55: train=7.44152, val=8.09479, took 45.626 s\n",
      "  Validation Found 51138 of 54504, added 1805 (eff 93.82%) (0.181 FP/event)\n"
     ]
    },
    {
     "data": {
      "application/vnd.jupyter.widget-view+json": {
       "model_id": "",
       "version_major": 2,
       "version_minor": 0
      },
      "text/plain": [
       "HBox(children=(FloatProgress(value=0.0, description='Training', layout=Layout(flex='2'), max=1250.0, style=Pro…"
      ]
     },
     "metadata": {},
     "output_type": "display_data"
    },
    {
     "name": "stdout",
     "output_type": "stream",
     "text": [
      "Epoch 56: train=7.44009, val=8.17577, took 45.626 s\n",
      "  Validation Found 50835 of 54504, added 1412 (eff 93.27%) (0.141 FP/event)\n"
     ]
    },
    {
     "data": {
      "application/vnd.jupyter.widget-view+json": {
       "model_id": "",
       "version_major": 2,
       "version_minor": 0
      },
      "text/plain": [
       "HBox(children=(FloatProgress(value=0.0, description='Training', layout=Layout(flex='2'), max=1250.0, style=Pro…"
      ]
     },
     "metadata": {},
     "output_type": "display_data"
    },
    {
     "name": "stdout",
     "output_type": "stream",
     "text": [
      "Epoch 57: train=7.43474, val=7.9982, took 45.624 s\n",
      "  Validation Found 51235 of 54504, added 1988 (eff 94.00%) (0.199 FP/event)\n"
     ]
    },
    {
     "data": {
      "application/vnd.jupyter.widget-view+json": {
       "model_id": "",
       "version_major": 2,
       "version_minor": 0
      },
      "text/plain": [
       "HBox(children=(FloatProgress(value=0.0, description='Training', layout=Layout(flex='2'), max=1250.0, style=Pro…"
      ]
     },
     "metadata": {},
     "output_type": "display_data"
    },
    {
     "name": "stdout",
     "output_type": "stream",
     "text": [
      "Epoch 58: train=7.43409, val=8.05415, took 45.598 s\n",
      "  Validation Found 51366 of 54504, added 2194 (eff 94.24%) (0.22 FP/event)\n"
     ]
    },
    {
     "data": {
      "application/vnd.jupyter.widget-view+json": {
       "model_id": "",
       "version_major": 2,
       "version_minor": 0
      },
      "text/plain": [
       "HBox(children=(FloatProgress(value=0.0, description='Training', layout=Layout(flex='2'), max=1250.0, style=Pro…"
      ]
     },
     "metadata": {},
     "output_type": "display_data"
    },
    {
     "name": "stdout",
     "output_type": "stream",
     "text": [
      "Epoch 59: train=7.42817, val=8.08434, took 45.66 s\n",
      "  Validation Found 51112 of 54504, added 1625 (eff 93.78%) (0.163 FP/event)\n"
     ]
    },
    {
     "data": {
      "application/vnd.jupyter.widget-view+json": {
       "model_id": "",
       "version_major": 2,
       "version_minor": 0
      },
      "text/plain": [
       "HBox(children=(FloatProgress(value=0.0, description='Training', layout=Layout(flex='2'), max=1250.0, style=Pro…"
      ]
     },
     "metadata": {},
     "output_type": "display_data"
    },
    {
     "name": "stdout",
     "output_type": "stream",
     "text": [
      "Epoch 60: train=7.43038, val=8.1307, took 45.593 s\n",
      "  Validation Found 51553 of 54504, added 2647 (eff 94.59%) (0.265 FP/event)\n"
     ]
    },
    {
     "data": {
      "application/vnd.jupyter.widget-view+json": {
       "model_id": "",
       "version_major": 2,
       "version_minor": 0
      },
      "text/plain": [
       "HBox(children=(FloatProgress(value=0.0, description='Training', layout=Layout(flex='2'), max=1250.0, style=Pro…"
      ]
     },
     "metadata": {},
     "output_type": "display_data"
    },
    {
     "name": "stdout",
     "output_type": "stream",
     "text": [
      "Epoch 61: train=7.42651, val=8.11707, took 45.762 s\n",
      "  Validation Found 51292 of 54504, added 1948 (eff 94.11%) (0.195 FP/event)\n"
     ]
    },
    {
     "data": {
      "application/vnd.jupyter.widget-view+json": {
       "model_id": "",
       "version_major": 2,
       "version_minor": 0
      },
      "text/plain": [
       "HBox(children=(FloatProgress(value=0.0, description='Training', layout=Layout(flex='2'), max=1250.0, style=Pro…"
      ]
     },
     "metadata": {},
     "output_type": "display_data"
    },
    {
     "name": "stdout",
     "output_type": "stream",
     "text": [
      "Epoch 62: train=7.42289, val=8.03406, took 45.665 s\n",
      "  Validation Found 51188 of 54504, added 1849 (eff 93.92%) (0.185 FP/event)\n"
     ]
    },
    {
     "data": {
      "application/vnd.jupyter.widget-view+json": {
       "model_id": "",
       "version_major": 2,
       "version_minor": 0
      },
      "text/plain": [
       "HBox(children=(FloatProgress(value=0.0, description='Training', layout=Layout(flex='2'), max=1250.0, style=Pro…"
      ]
     },
     "metadata": {},
     "output_type": "display_data"
    },
    {
     "name": "stdout",
     "output_type": "stream",
     "text": [
      "Epoch 63: train=7.42444, val=8.0412, took 45.717 s\n",
      "  Validation Found 51210 of 54504, added 1931 (eff 93.96%) (0.193 FP/event)\n"
     ]
    },
    {
     "data": {
      "application/vnd.jupyter.widget-view+json": {
       "model_id": "",
       "version_major": 2,
       "version_minor": 0
      },
      "text/plain": [
       "HBox(children=(FloatProgress(value=0.0, description='Training', layout=Layout(flex='2'), max=1250.0, style=Pro…"
      ]
     },
     "metadata": {},
     "output_type": "display_data"
    },
    {
     "name": "stdout",
     "output_type": "stream",
     "text": [
      "Epoch 64: train=7.42197, val=8.11166, took 45.6 s\n",
      "  Validation Found 51296 of 54504, added 2155 (eff 94.11%) (0.216 FP/event)\n"
     ]
    },
    {
     "data": {
      "application/vnd.jupyter.widget-view+json": {
       "model_id": "",
       "version_major": 2,
       "version_minor": 0
      },
      "text/plain": [
       "HBox(children=(FloatProgress(value=0.0, description='Training', layout=Layout(flex='2'), max=1250.0, style=Pro…"
      ]
     },
     "metadata": {},
     "output_type": "display_data"
    },
    {
     "name": "stdout",
     "output_type": "stream",
     "text": [
      "Epoch 65: train=7.41645, val=8.18154, took 45.582 s\n",
      "  Validation Found 51047 of 54504, added 1574 (eff 93.66%) (0.158 FP/event)\n"
     ]
    },
    {
     "data": {
      "application/vnd.jupyter.widget-view+json": {
       "model_id": "",
       "version_major": 2,
       "version_minor": 0
      },
      "text/plain": [
       "HBox(children=(FloatProgress(value=0.0, description='Training', layout=Layout(flex='2'), max=1250.0, style=Pro…"
      ]
     },
     "metadata": {},
     "output_type": "display_data"
    },
    {
     "name": "stdout",
     "output_type": "stream",
     "text": [
      "Epoch 66: train=7.41595, val=8.09805, took 45.628 s\n",
      "  Validation Found 51257 of 54504, added 1990 (eff 94.04%) (0.199 FP/event)\n"
     ]
    },
    {
     "data": {
      "application/vnd.jupyter.widget-view+json": {
       "model_id": "",
       "version_major": 2,
       "version_minor": 0
      },
      "text/plain": [
       "HBox(children=(FloatProgress(value=0.0, description='Training', layout=Layout(flex='2'), max=1250.0, style=Pro…"
      ]
     },
     "metadata": {},
     "output_type": "display_data"
    },
    {
     "name": "stdout",
     "output_type": "stream",
     "text": [
      "Epoch 67: train=7.41577, val=8.0972, took 45.915 s\n",
      "  Validation Found 51129 of 54504, added 1735 (eff 93.81%) (0.174 FP/event)\n"
     ]
    },
    {
     "data": {
      "application/vnd.jupyter.widget-view+json": {
       "model_id": "",
       "version_major": 2,
       "version_minor": 0
      },
      "text/plain": [
       "HBox(children=(FloatProgress(value=0.0, description='Training', layout=Layout(flex='2'), max=1250.0, style=Pro…"
      ]
     },
     "metadata": {},
     "output_type": "display_data"
    },
    {
     "name": "stdout",
     "output_type": "stream",
     "text": [
      "Epoch 68: train=7.40928, val=8.1962, took 45.735 s\n",
      "  Validation Found 50865 of 54504, added 1412 (eff 93.32%) (0.141 FP/event)\n"
     ]
    },
    {
     "data": {
      "application/vnd.jupyter.widget-view+json": {
       "model_id": "",
       "version_major": 2,
       "version_minor": 0
      },
      "text/plain": [
       "HBox(children=(FloatProgress(value=0.0, description='Training', layout=Layout(flex='2'), max=1250.0, style=Pro…"
      ]
     },
     "metadata": {},
     "output_type": "display_data"
    },
    {
     "name": "stdout",
     "output_type": "stream",
     "text": [
      "Epoch 69: train=7.41242, val=8.01166, took 46.222 s\n",
      "  Validation Found 51181 of 54504, added 1856 (eff 93.90%) (0.186 FP/event)\n"
     ]
    },
    {
     "data": {
      "application/vnd.jupyter.widget-view+json": {
       "model_id": "",
       "version_major": 2,
       "version_minor": 0
      },
      "text/plain": [
       "HBox(children=(FloatProgress(value=0.0, description='Training', layout=Layout(flex='2'), max=1250.0, style=Pro…"
      ]
     },
     "metadata": {},
     "output_type": "display_data"
    },
    {
     "name": "stdout",
     "output_type": "stream",
     "text": [
      "Epoch 70: train=7.40631, val=8.12144, took 45.738 s\n",
      "  Validation Found 51041 of 54504, added 1619 (eff 93.65%) (0.162 FP/event)\n"
     ]
    },
    {
     "data": {
      "application/vnd.jupyter.widget-view+json": {
       "model_id": "",
       "version_major": 2,
       "version_minor": 0
      },
      "text/plain": [
       "HBox(children=(FloatProgress(value=0.0, description='Training', layout=Layout(flex='2'), max=1250.0, style=Pro…"
      ]
     },
     "metadata": {},
     "output_type": "display_data"
    },
    {
     "name": "stdout",
     "output_type": "stream",
     "text": [
      "Epoch 71: train=7.4046, val=8.02428, took 45.635 s\n",
      "  Validation Found 51117 of 54504, added 1649 (eff 93.79%) (0.165 FP/event)\n"
     ]
    },
    {
     "data": {
      "application/vnd.jupyter.widget-view+json": {
       "model_id": "",
       "version_major": 2,
       "version_minor": 0
      },
      "text/plain": [
       "HBox(children=(FloatProgress(value=0.0, description='Training', layout=Layout(flex='2'), max=1250.0, style=Pro…"
      ]
     },
     "metadata": {},
     "output_type": "display_data"
    },
    {
     "name": "stdout",
     "output_type": "stream",
     "text": [
      "Epoch 72: train=7.40059, val=8.03025, took 45.605 s\n",
      "  Validation Found 51206 of 54504, added 1869 (eff 93.95%) (0.187 FP/event)\n"
     ]
    },
    {
     "data": {
      "application/vnd.jupyter.widget-view+json": {
       "model_id": "",
       "version_major": 2,
       "version_minor": 0
      },
      "text/plain": [
       "HBox(children=(FloatProgress(value=0.0, description='Training', layout=Layout(flex='2'), max=1250.0, style=Pro…"
      ]
     },
     "metadata": {},
     "output_type": "display_data"
    },
    {
     "name": "stdout",
     "output_type": "stream",
     "text": [
      "Epoch 73: train=7.40836, val=8.2364, took 45.627 s\n",
      "  Validation Found 50823 of 54504, added 1351 (eff 93.25%) (0.135 FP/event)\n"
     ]
    },
    {
     "data": {
      "application/vnd.jupyter.widget-view+json": {
       "model_id": "",
       "version_major": 2,
       "version_minor": 0
      },
      "text/plain": [
       "HBox(children=(FloatProgress(value=0.0, description='Training', layout=Layout(flex='2'), max=1250.0, style=Pro…"
      ]
     },
     "metadata": {},
     "output_type": "display_data"
    },
    {
     "name": "stdout",
     "output_type": "stream",
     "text": [
      "Epoch 74: train=7.39838, val=8.56023, took 45.7 s\n",
      "  Validation Found 50386 of 54504, added 1134 (eff 92.44%) (0.114 FP/event)\n"
     ]
    },
    {
     "data": {
      "application/vnd.jupyter.widget-view+json": {
       "model_id": "",
       "version_major": 2,
       "version_minor": 0
      },
      "text/plain": [
       "HBox(children=(FloatProgress(value=0.0, description='Training', layout=Layout(flex='2'), max=1250.0, style=Pro…"
      ]
     },
     "metadata": {},
     "output_type": "display_data"
    },
    {
     "name": "stdout",
     "output_type": "stream",
     "text": [
      "Epoch 75: train=7.39758, val=7.92831, took 46.754 s\n",
      "  Validation Found 51370 of 54504, added 2052 (eff 94.25%) (0.206 FP/event)\n"
     ]
    },
    {
     "data": {
      "application/vnd.jupyter.widget-view+json": {
       "model_id": "",
       "version_major": 2,
       "version_minor": 0
      },
      "text/plain": [
       "HBox(children=(FloatProgress(value=0.0, description='Training', layout=Layout(flex='2'), max=1250.0, style=Pro…"
      ]
     },
     "metadata": {},
     "output_type": "display_data"
    },
    {
     "name": "stdout",
     "output_type": "stream",
     "text": [
      "Epoch 76: train=7.39936, val=8.12662, took 46.1 s\n",
      "  Validation Found 51141 of 54504, added 1812 (eff 93.83%) (0.181 FP/event)\n"
     ]
    },
    {
     "data": {
      "application/vnd.jupyter.widget-view+json": {
       "model_id": "",
       "version_major": 2,
       "version_minor": 0
      },
      "text/plain": [
       "HBox(children=(FloatProgress(value=0.0, description='Training', layout=Layout(flex='2'), max=1250.0, style=Pro…"
      ]
     },
     "metadata": {},
     "output_type": "display_data"
    },
    {
     "name": "stdout",
     "output_type": "stream",
     "text": [
      "Epoch 77: train=7.39374, val=8.15804, took 45.586 s\n",
      "  Validation Found 50871 of 54504, added 1370 (eff 93.33%) (0.137 FP/event)\n"
     ]
    },
    {
     "data": {
      "application/vnd.jupyter.widget-view+json": {
       "model_id": "",
       "version_major": 2,
       "version_minor": 0
      },
      "text/plain": [
       "HBox(children=(FloatProgress(value=0.0, description='Training', layout=Layout(flex='2'), max=1250.0, style=Pro…"
      ]
     },
     "metadata": {},
     "output_type": "display_data"
    },
    {
     "name": "stdout",
     "output_type": "stream",
     "text": [
      "Epoch 78: train=7.39351, val=7.98506, took 45.793 s\n",
      "  Validation Found 51371 of 54504, added 2259 (eff 94.25%) (0.226 FP/event)\n"
     ]
    },
    {
     "data": {
      "application/vnd.jupyter.widget-view+json": {
       "model_id": "",
       "version_major": 2,
       "version_minor": 0
      },
      "text/plain": [
       "HBox(children=(FloatProgress(value=0.0, description='Training', layout=Layout(flex='2'), max=1250.0, style=Pro…"
      ]
     },
     "metadata": {},
     "output_type": "display_data"
    },
    {
     "name": "stdout",
     "output_type": "stream",
     "text": [
      "Epoch 79: train=7.39256, val=7.92737, took 45.574 s\n",
      "  Validation Found 51469 of 54504, added 2262 (eff 94.43%) (0.227 FP/event)\n"
     ]
    },
    {
     "data": {
      "application/vnd.jupyter.widget-view+json": {
       "model_id": "",
       "version_major": 2,
       "version_minor": 0
      },
      "text/plain": [
       "HBox(children=(FloatProgress(value=0.0, description='Training', layout=Layout(flex='2'), max=1250.0, style=Pro…"
      ]
     },
     "metadata": {},
     "output_type": "display_data"
    },
    {
     "name": "stdout",
     "output_type": "stream",
     "text": [
      "Epoch 80: train=7.3897, val=7.99658, took 45.546 s\n",
      "  Validation Found 51337 of 54504, added 2066 (eff 94.19%) (0.207 FP/event)\n"
     ]
    },
    {
     "data": {
      "application/vnd.jupyter.widget-view+json": {
       "model_id": "",
       "version_major": 2,
       "version_minor": 0
      },
      "text/plain": [
       "HBox(children=(FloatProgress(value=0.0, description='Training', layout=Layout(flex='2'), max=1250.0, style=Pro…"
      ]
     },
     "metadata": {},
     "output_type": "display_data"
    },
    {
     "name": "stdout",
     "output_type": "stream",
     "text": [
      "Epoch 81: train=7.3877, val=8.03621, took 45.589 s\n",
      "  Validation Found 51228 of 54504, added 1803 (eff 93.99%) (0.181 FP/event)\n"
     ]
    },
    {
     "data": {
      "application/vnd.jupyter.widget-view+json": {
       "model_id": "",
       "version_major": 2,
       "version_minor": 0
      },
      "text/plain": [
       "HBox(children=(FloatProgress(value=0.0, description='Training', layout=Layout(flex='2'), max=1250.0, style=Pro…"
      ]
     },
     "metadata": {},
     "output_type": "display_data"
    },
    {
     "name": "stdout",
     "output_type": "stream",
     "text": [
      "Epoch 82: train=7.38297, val=8.13213, took 45.865 s\n",
      "  Validation Found 51074 of 54504, added 1648 (eff 93.71%) (0.165 FP/event)\n"
     ]
    },
    {
     "data": {
      "application/vnd.jupyter.widget-view+json": {
       "model_id": "",
       "version_major": 2,
       "version_minor": 0
      },
      "text/plain": [
       "HBox(children=(FloatProgress(value=0.0, description='Training', layout=Layout(flex='2'), max=1250.0, style=Pro…"
      ]
     },
     "metadata": {},
     "output_type": "display_data"
    },
    {
     "name": "stdout",
     "output_type": "stream",
     "text": [
      "Epoch 83: train=7.38815, val=7.89108, took 45.745 s\n",
      "  Validation Found 51364 of 54504, added 2020 (eff 94.24%) (0.202 FP/event)\n"
     ]
    },
    {
     "data": {
      "application/vnd.jupyter.widget-view+json": {
       "model_id": "",
       "version_major": 2,
       "version_minor": 0
      },
      "text/plain": [
       "HBox(children=(FloatProgress(value=0.0, description='Training', layout=Layout(flex='2'), max=1250.0, style=Pro…"
      ]
     },
     "metadata": {},
     "output_type": "display_data"
    },
    {
     "name": "stdout",
     "output_type": "stream",
     "text": [
      "Epoch 84: train=7.37853, val=8.00547, took 45.558 s\n",
      "  Validation Found 51070 of 54504, added 1668 (eff 93.70%) (0.167 FP/event)\n"
     ]
    },
    {
     "data": {
      "application/vnd.jupyter.widget-view+json": {
       "model_id": "",
       "version_major": 2,
       "version_minor": 0
      },
      "text/plain": [
       "HBox(children=(FloatProgress(value=0.0, description='Training', layout=Layout(flex='2'), max=1250.0, style=Pro…"
      ]
     },
     "metadata": {},
     "output_type": "display_data"
    },
    {
     "name": "stdout",
     "output_type": "stream",
     "text": [
      "Epoch 85: train=7.38414, val=7.95188, took 45.57 s\n",
      "  Validation Found 51312 of 54504, added 2039 (eff 94.14%) (0.204 FP/event)\n"
     ]
    },
    {
     "data": {
      "application/vnd.jupyter.widget-view+json": {
       "model_id": "",
       "version_major": 2,
       "version_minor": 0
      },
      "text/plain": [
       "HBox(children=(FloatProgress(value=0.0, description='Training', layout=Layout(flex='2'), max=1250.0, style=Pro…"
      ]
     },
     "metadata": {},
     "output_type": "display_data"
    },
    {
     "name": "stdout",
     "output_type": "stream",
     "text": [
      "Epoch 86: train=7.38114, val=8.43265, took 45.804 s\n",
      "  Validation Found 50587 of 54504, added 1181 (eff 92.81%) (0.118 FP/event)\n"
     ]
    },
    {
     "data": {
      "application/vnd.jupyter.widget-view+json": {
       "model_id": "",
       "version_major": 2,
       "version_minor": 0
      },
      "text/plain": [
       "HBox(children=(FloatProgress(value=0.0, description='Training', layout=Layout(flex='2'), max=1250.0, style=Pro…"
      ]
     },
     "metadata": {},
     "output_type": "display_data"
    },
    {
     "name": "stdout",
     "output_type": "stream",
     "text": [
      "Epoch 87: train=7.37518, val=8.2545, took 45.58 s\n",
      "  Validation Found 50758 of 54504, added 1351 (eff 93.13%) (0.135 FP/event)\n"
     ]
    },
    {
     "data": {
      "application/vnd.jupyter.widget-view+json": {
       "model_id": "",
       "version_major": 2,
       "version_minor": 0
      },
      "text/plain": [
       "HBox(children=(FloatProgress(value=0.0, description='Training', layout=Layout(flex='2'), max=1250.0, style=Pro…"
      ]
     },
     "metadata": {},
     "output_type": "display_data"
    },
    {
     "name": "stdout",
     "output_type": "stream",
     "text": [
      "Epoch 88: train=7.37566, val=8.00505, took 45.575 s\n",
      "  Validation Found 51303 of 54504, added 1907 (eff 94.13%) (0.191 FP/event)\n"
     ]
    },
    {
     "data": {
      "application/vnd.jupyter.widget-view+json": {
       "model_id": "",
       "version_major": 2,
       "version_minor": 0
      },
      "text/plain": [
       "HBox(children=(FloatProgress(value=0.0, description='Training', layout=Layout(flex='2'), max=1250.0, style=Pro…"
      ]
     },
     "metadata": {},
     "output_type": "display_data"
    },
    {
     "name": "stdout",
     "output_type": "stream",
     "text": [
      "Epoch 89: train=7.37237, val=7.97809, took 45.903 s\n",
      "  Validation Found 51304 of 54504, added 1866 (eff 94.13%) (0.187 FP/event)\n"
     ]
    },
    {
     "data": {
      "application/vnd.jupyter.widget-view+json": {
       "model_id": "",
       "version_major": 2,
       "version_minor": 0
      },
      "text/plain": [
       "HBox(children=(FloatProgress(value=0.0, description='Training', layout=Layout(flex='2'), max=1250.0, style=Pro…"
      ]
     },
     "metadata": {},
     "output_type": "display_data"
    },
    {
     "name": "stdout",
     "output_type": "stream",
     "text": [
      "Epoch 90: train=7.37603, val=7.891, took 45.866 s\n",
      "  Validation Found 51528 of 54504, added 2353 (eff 94.54%) (0.236 FP/event)\n"
     ]
    },
    {
     "data": {
      "application/vnd.jupyter.widget-view+json": {
       "model_id": "",
       "version_major": 2,
       "version_minor": 0
      },
      "text/plain": [
       "HBox(children=(FloatProgress(value=0.0, description='Training', layout=Layout(flex='2'), max=1250.0, style=Pro…"
      ]
     },
     "metadata": {},
     "output_type": "display_data"
    },
    {
     "name": "stdout",
     "output_type": "stream",
     "text": [
      "Epoch 91: train=7.37355, val=7.95451, took 46.047 s\n",
      "  Validation Found 51287 of 54504, added 1921 (eff 94.10%) (0.192 FP/event)\n"
     ]
    },
    {
     "data": {
      "application/vnd.jupyter.widget-view+json": {
       "model_id": "",
       "version_major": 2,
       "version_minor": 0
      },
      "text/plain": [
       "HBox(children=(FloatProgress(value=0.0, description='Training', layout=Layout(flex='2'), max=1250.0, style=Pro…"
      ]
     },
     "metadata": {},
     "output_type": "display_data"
    },
    {
     "name": "stdout",
     "output_type": "stream",
     "text": [
      "Epoch 92: train=7.37669, val=8.23819, took 45.567 s\n",
      "  Validation Found 50980 of 54504, added 1514 (eff 93.53%) (0.152 FP/event)\n"
     ]
    },
    {
     "data": {
      "application/vnd.jupyter.widget-view+json": {
       "model_id": "",
       "version_major": 2,
       "version_minor": 0
      },
      "text/plain": [
       "HBox(children=(FloatProgress(value=0.0, description='Training', layout=Layout(flex='2'), max=1250.0, style=Pro…"
      ]
     },
     "metadata": {},
     "output_type": "display_data"
    },
    {
     "name": "stdout",
     "output_type": "stream",
     "text": [
      "Epoch 93: train=7.37426, val=8.07482, took 45.87 s\n",
      "  Validation Found 51171 of 54504, added 1783 (eff 93.88%) (0.179 FP/event)\n"
     ]
    },
    {
     "data": {
      "application/vnd.jupyter.widget-view+json": {
       "model_id": "",
       "version_major": 2,
       "version_minor": 0
      },
      "text/plain": [
       "HBox(children=(FloatProgress(value=0.0, description='Training', layout=Layout(flex='2'), max=1250.0, style=Pro…"
      ]
     },
     "metadata": {},
     "output_type": "display_data"
    },
    {
     "name": "stdout",
     "output_type": "stream",
     "text": [
      "Epoch 94: train=7.37053, val=7.89244, took 45.654 s\n",
      "  Validation Found 51288 of 54504, added 1915 (eff 94.10%) (0.192 FP/event)\n"
     ]
    },
    {
     "data": {
      "application/vnd.jupyter.widget-view+json": {
       "model_id": "",
       "version_major": 2,
       "version_minor": 0
      },
      "text/plain": [
       "HBox(children=(FloatProgress(value=0.0, description='Training', layout=Layout(flex='2'), max=1250.0, style=Pro…"
      ]
     },
     "metadata": {},
     "output_type": "display_data"
    },
    {
     "name": "stdout",
     "output_type": "stream",
     "text": [
      "Epoch 95: train=7.36769, val=8.03214, took 45.768 s\n",
      "  Validation Found 51143 of 54504, added 1620 (eff 93.83%) (0.162 FP/event)\n"
     ]
    },
    {
     "data": {
      "application/vnd.jupyter.widget-view+json": {
       "model_id": "",
       "version_major": 2,
       "version_minor": 0
      },
      "text/plain": [
       "HBox(children=(FloatProgress(value=0.0, description='Training', layout=Layout(flex='2'), max=1250.0, style=Pro…"
      ]
     },
     "metadata": {},
     "output_type": "display_data"
    },
    {
     "name": "stdout",
     "output_type": "stream",
     "text": [
      "Epoch 96: train=7.36646, val=7.95898, took 45.632 s\n",
      "  Validation Found 51351 of 54504, added 1951 (eff 94.22%) (0.195 FP/event)\n"
     ]
    },
    {
     "data": {
      "application/vnd.jupyter.widget-view+json": {
       "model_id": "",
       "version_major": 2,
       "version_minor": 0
      },
      "text/plain": [
       "HBox(children=(FloatProgress(value=0.0, description='Training', layout=Layout(flex='2'), max=1250.0, style=Pro…"
      ]
     },
     "metadata": {},
     "output_type": "display_data"
    },
    {
     "name": "stdout",
     "output_type": "stream",
     "text": [
      "Epoch 97: train=7.36446, val=8.05095, took 45.58 s\n",
      "  Validation Found 51486 of 54504, added 2297 (eff 94.46%) (0.23 FP/event)\n"
     ]
    },
    {
     "data": {
      "application/vnd.jupyter.widget-view+json": {
       "model_id": "",
       "version_major": 2,
       "version_minor": 0
      },
      "text/plain": [
       "HBox(children=(FloatProgress(value=0.0, description='Training', layout=Layout(flex='2'), max=1250.0, style=Pro…"
      ]
     },
     "metadata": {},
     "output_type": "display_data"
    },
    {
     "name": "stdout",
     "output_type": "stream",
     "text": [
      "Epoch 98: train=7.36182, val=7.94623, took 45.83 s\n",
      "  Validation Found 51306 of 54504, added 2005 (eff 94.13%) (0.201 FP/event)\n"
     ]
    },
    {
     "data": {
      "application/vnd.jupyter.widget-view+json": {
       "model_id": "",
       "version_major": 2,
       "version_minor": 0
      },
      "text/plain": [
       "HBox(children=(FloatProgress(value=0.0, description='Training', layout=Layout(flex='2'), max=1250.0, style=Pro…"
      ]
     },
     "metadata": {},
     "output_type": "display_data"
    },
    {
     "name": "stdout",
     "output_type": "stream",
     "text": [
      "Epoch 99: train=7.3699, val=8.03743, took 45.813 s\n",
      "  Validation Found 51089 of 54504, added 1700 (eff 93.73%) (0.17 FP/event)\n"
     ]
    },
    {
     "data": {
      "application/vnd.jupyter.widget-view+json": {
       "model_id": "",
       "version_major": 2,
       "version_minor": 0
      },
      "text/plain": [
       "HBox(children=(FloatProgress(value=0.0, description='Training', layout=Layout(flex='2'), max=1250.0, style=Pro…"
      ]
     },
     "metadata": {},
     "output_type": "display_data"
    },
    {
     "name": "stdout",
     "output_type": "stream",
     "text": [
      "Epoch 100: train=7.36227, val=8.05367, took 45.871 s\n",
      "  Validation Found 51086 of 54504, added 1594 (eff 93.73%) (0.16 FP/event)\n"
     ]
    },
    {
     "data": {
      "application/vnd.jupyter.widget-view+json": {
       "model_id": "",
       "version_major": 2,
       "version_minor": 0
      },
      "text/plain": [
       "HBox(children=(FloatProgress(value=0.0, description='Training', layout=Layout(flex='2'), max=1250.0, style=Pro…"
      ]
     },
     "metadata": {},
     "output_type": "display_data"
    },
    {
     "name": "stdout",
     "output_type": "stream",
     "text": [
      "Epoch 101: train=7.36125, val=8.24481, took 45.67 s\n",
      "  Validation Found 50747 of 54504, added 1406 (eff 93.11%) (0.141 FP/event)\n"
     ]
    },
    {
     "data": {
      "application/vnd.jupyter.widget-view+json": {
       "model_id": "",
       "version_major": 2,
       "version_minor": 0
      },
      "text/plain": [
       "HBox(children=(FloatProgress(value=0.0, description='Training', layout=Layout(flex='2'), max=1250.0, style=Pro…"
      ]
     },
     "metadata": {},
     "output_type": "display_data"
    },
    {
     "name": "stdout",
     "output_type": "stream",
     "text": [
      "Epoch 102: train=7.363, val=8.0175, took 45.702 s\n",
      "  Validation Found 51147 of 54504, added 1742 (eff 93.84%) (0.174 FP/event)\n"
     ]
    },
    {
     "data": {
      "application/vnd.jupyter.widget-view+json": {
       "model_id": "",
       "version_major": 2,
       "version_minor": 0
      },
      "text/plain": [
       "HBox(children=(FloatProgress(value=0.0, description='Training', layout=Layout(flex='2'), max=1250.0, style=Pro…"
      ]
     },
     "metadata": {},
     "output_type": "display_data"
    },
    {
     "name": "stdout",
     "output_type": "stream",
     "text": [
      "Epoch 103: train=7.35816, val=8.13175, took 45.946 s\n",
      "  Validation Found 50920 of 54504, added 1451 (eff 93.42%) (0.145 FP/event)\n"
     ]
    },
    {
     "data": {
      "application/vnd.jupyter.widget-view+json": {
       "model_id": "",
       "version_major": 2,
       "version_minor": 0
      },
      "text/plain": [
       "HBox(children=(FloatProgress(value=0.0, description='Training', layout=Layout(flex='2'), max=1250.0, style=Pro…"
      ]
     },
     "metadata": {},
     "output_type": "display_data"
    },
    {
     "name": "stdout",
     "output_type": "stream",
     "text": [
      "Epoch 104: train=7.35528, val=7.98313, took 45.655 s\n",
      "  Validation Found 51222 of 54504, added 1817 (eff 93.98%) (0.182 FP/event)\n"
     ]
    },
    {
     "data": {
      "application/vnd.jupyter.widget-view+json": {
       "model_id": "",
       "version_major": 2,
       "version_minor": 0
      },
      "text/plain": [
       "HBox(children=(FloatProgress(value=0.0, description='Training', layout=Layout(flex='2'), max=1250.0, style=Pro…"
      ]
     },
     "metadata": {},
     "output_type": "display_data"
    },
    {
     "name": "stdout",
     "output_type": "stream",
     "text": [
      "Epoch 105: train=7.35405, val=7.94483, took 45.635 s\n",
      "  Validation Found 51524 of 54504, added 2429 (eff 94.53%) (0.243 FP/event)\n"
     ]
    },
    {
     "data": {
      "application/vnd.jupyter.widget-view+json": {
       "model_id": "",
       "version_major": 2,
       "version_minor": 0
      },
      "text/plain": [
       "HBox(children=(FloatProgress(value=0.0, description='Training', layout=Layout(flex='2'), max=1250.0, style=Pro…"
      ]
     },
     "metadata": {},
     "output_type": "display_data"
    },
    {
     "name": "stdout",
     "output_type": "stream",
     "text": [
      "Epoch 106: train=7.3554, val=8.22405, took 45.565 s\n",
      "  Validation Found 50789 of 54504, added 1379 (eff 93.18%) (0.138 FP/event)\n"
     ]
    },
    {
     "data": {
      "application/vnd.jupyter.widget-view+json": {
       "model_id": "",
       "version_major": 2,
       "version_minor": 0
      },
      "text/plain": [
       "HBox(children=(FloatProgress(value=0.0, description='Training', layout=Layout(flex='2'), max=1250.0, style=Pro…"
      ]
     },
     "metadata": {},
     "output_type": "display_data"
    },
    {
     "name": "stdout",
     "output_type": "stream",
     "text": [
      "Epoch 107: train=7.35121, val=7.92054, took 45.568 s\n",
      "  Validation Found 51323 of 54504, added 2084 (eff 94.16%) (0.209 FP/event)\n"
     ]
    },
    {
     "data": {
      "application/vnd.jupyter.widget-view+json": {
       "model_id": "",
       "version_major": 2,
       "version_minor": 0
      },
      "text/plain": [
       "HBox(children=(FloatProgress(value=0.0, description='Training', layout=Layout(flex='2'), max=1250.0, style=Pro…"
      ]
     },
     "metadata": {},
     "output_type": "display_data"
    },
    {
     "name": "stdout",
     "output_type": "stream",
     "text": [
      "Epoch 108: train=7.34809, val=8.05575, took 45.693 s\n",
      "  Validation Found 51402 of 54504, added 2306 (eff 94.31%) (0.231 FP/event)\n"
     ]
    },
    {
     "data": {
      "application/vnd.jupyter.widget-view+json": {
       "model_id": "",
       "version_major": 2,
       "version_minor": 0
      },
      "text/plain": [
       "HBox(children=(FloatProgress(value=0.0, description='Training', layout=Layout(flex='2'), max=1250.0, style=Pro…"
      ]
     },
     "metadata": {},
     "output_type": "display_data"
    },
    {
     "name": "stdout",
     "output_type": "stream",
     "text": [
      "Epoch 109: train=7.34735, val=8.04221, took 45.653 s\n",
      "  Validation Found 51342 of 54504, added 2021 (eff 94.20%) (0.202 FP/event)\n"
     ]
    },
    {
     "data": {
      "application/vnd.jupyter.widget-view+json": {
       "model_id": "",
       "version_major": 2,
       "version_minor": 0
      },
      "text/plain": [
       "HBox(children=(FloatProgress(value=0.0, description='Training', layout=Layout(flex='2'), max=1250.0, style=Pro…"
      ]
     },
     "metadata": {},
     "output_type": "display_data"
    },
    {
     "name": "stdout",
     "output_type": "stream",
     "text": [
      "Epoch 110: train=7.34651, val=7.97274, took 45.55 s\n",
      "  Validation Found 51549 of 54504, added 2527 (eff 94.58%) (0.253 FP/event)\n"
     ]
    },
    {
     "data": {
      "application/vnd.jupyter.widget-view+json": {
       "model_id": "",
       "version_major": 2,
       "version_minor": 0
      },
      "text/plain": [
       "HBox(children=(FloatProgress(value=0.0, description='Training', layout=Layout(flex='2'), max=1250.0, style=Pro…"
      ]
     },
     "metadata": {},
     "output_type": "display_data"
    },
    {
     "name": "stdout",
     "output_type": "stream",
     "text": [
      "Epoch 111: train=7.3504, val=7.95514, took 45.861 s\n",
      "  Validation Found 51452 of 54504, added 2268 (eff 94.40%) (0.227 FP/event)\n"
     ]
    },
    {
     "data": {
      "application/vnd.jupyter.widget-view+json": {
       "model_id": "",
       "version_major": 2,
       "version_minor": 0
      },
      "text/plain": [
       "HBox(children=(FloatProgress(value=0.0, description='Training', layout=Layout(flex='2'), max=1250.0, style=Pro…"
      ]
     },
     "metadata": {},
     "output_type": "display_data"
    },
    {
     "name": "stdout",
     "output_type": "stream",
     "text": [
      "Epoch 112: train=7.34388, val=7.93625, took 46.193 s\n",
      "  Validation Found 51413 of 54504, added 2083 (eff 94.33%) (0.209 FP/event)\n"
     ]
    },
    {
     "data": {
      "application/vnd.jupyter.widget-view+json": {
       "model_id": "",
       "version_major": 2,
       "version_minor": 0
      },
      "text/plain": [
       "HBox(children=(FloatProgress(value=0.0, description='Training', layout=Layout(flex='2'), max=1250.0, style=Pro…"
      ]
     },
     "metadata": {},
     "output_type": "display_data"
    },
    {
     "name": "stdout",
     "output_type": "stream",
     "text": [
      "Epoch 113: train=7.34282, val=8.06622, took 45.683 s\n",
      "  Validation Found 51089 of 54504, added 1605 (eff 93.73%) (0.161 FP/event)\n"
     ]
    },
    {
     "data": {
      "application/vnd.jupyter.widget-view+json": {
       "model_id": "",
       "version_major": 2,
       "version_minor": 0
      },
      "text/plain": [
       "HBox(children=(FloatProgress(value=0.0, description='Training', layout=Layout(flex='2'), max=1250.0, style=Pro…"
      ]
     },
     "metadata": {},
     "output_type": "display_data"
    },
    {
     "name": "stdout",
     "output_type": "stream",
     "text": [
      "Epoch 114: train=7.34168, val=8.01407, took 45.492 s\n",
      "  Validation Found 51222 of 54504, added 1890 (eff 93.98%) (0.189 FP/event)\n"
     ]
    },
    {
     "data": {
      "application/vnd.jupyter.widget-view+json": {
       "model_id": "",
       "version_major": 2,
       "version_minor": 0
      },
      "text/plain": [
       "HBox(children=(FloatProgress(value=0.0, description='Training', layout=Layout(flex='2'), max=1250.0, style=Pro…"
      ]
     },
     "metadata": {},
     "output_type": "display_data"
    },
    {
     "name": "stdout",
     "output_type": "stream",
     "text": [
      "Epoch 115: train=7.34302, val=8.26157, took 45.943 s\n",
      "  Validation Found 50720 of 54504, added 1287 (eff 93.06%) (0.129 FP/event)\n"
     ]
    },
    {
     "data": {
      "application/vnd.jupyter.widget-view+json": {
       "model_id": "",
       "version_major": 2,
       "version_minor": 0
      },
      "text/plain": [
       "HBox(children=(FloatProgress(value=0.0, description='Training', layout=Layout(flex='2'), max=1250.0, style=Pro…"
      ]
     },
     "metadata": {},
     "output_type": "display_data"
    },
    {
     "name": "stdout",
     "output_type": "stream",
     "text": [
      "Epoch 116: train=7.34316, val=8.00746, took 45.739 s\n",
      "  Validation Found 51215 of 54504, added 1825 (eff 93.97%) (0.183 FP/event)\n"
     ]
    },
    {
     "data": {
      "application/vnd.jupyter.widget-view+json": {
       "model_id": "",
       "version_major": 2,
       "version_minor": 0
      },
      "text/plain": [
       "HBox(children=(FloatProgress(value=0.0, description='Training', layout=Layout(flex='2'), max=1250.0, style=Pro…"
      ]
     },
     "metadata": {},
     "output_type": "display_data"
    },
    {
     "name": "stdout",
     "output_type": "stream",
     "text": [
      "Epoch 117: train=7.34416, val=7.98152, took 45.478 s\n",
      "  Validation Found 51403 of 54504, added 2129 (eff 94.31%) (0.213 FP/event)\n"
     ]
    },
    {
     "data": {
      "application/vnd.jupyter.widget-view+json": {
       "model_id": "",
       "version_major": 2,
       "version_minor": 0
      },
      "text/plain": [
       "HBox(children=(FloatProgress(value=0.0, description='Training', layout=Layout(flex='2'), max=1250.0, style=Pro…"
      ]
     },
     "metadata": {},
     "output_type": "display_data"
    },
    {
     "name": "stdout",
     "output_type": "stream",
     "text": [
      "Epoch 118: train=7.34209, val=8.02647, took 45.587 s\n",
      "  Validation Found 51230 of 54504, added 1824 (eff 93.99%) (0.183 FP/event)\n"
     ]
    },
    {
     "data": {
      "application/vnd.jupyter.widget-view+json": {
       "model_id": "",
       "version_major": 2,
       "version_minor": 0
      },
      "text/plain": [
       "HBox(children=(FloatProgress(value=0.0, description='Training', layout=Layout(flex='2'), max=1250.0, style=Pro…"
      ]
     },
     "metadata": {},
     "output_type": "display_data"
    },
    {
     "name": "stdout",
     "output_type": "stream",
     "text": [
      "Epoch 119: train=7.34384, val=7.94885, took 46.42 s\n",
      "  Validation Found 51409 of 54504, added 2122 (eff 94.32%) (0.213 FP/event)\n"
     ]
    },
    {
     "data": {
      "application/vnd.jupyter.widget-view+json": {
       "model_id": "",
       "version_major": 2,
       "version_minor": 0
      },
      "text/plain": [
       "HBox(children=(FloatProgress(value=0.0, description='Training', layout=Layout(flex='2'), max=1250.0, style=Pro…"
      ]
     },
     "metadata": {},
     "output_type": "display_data"
    },
    {
     "name": "stdout",
     "output_type": "stream",
     "text": [
      "Epoch 120: train=7.33575, val=7.97652, took 45.512 s\n",
      "  Validation Found 51250 of 54504, added 1957 (eff 94.03%) (0.196 FP/event)\n"
     ]
    },
    {
     "data": {
      "application/vnd.jupyter.widget-view+json": {
       "model_id": "",
       "version_major": 2,
       "version_minor": 0
      },
      "text/plain": [
       "HBox(children=(FloatProgress(value=0.0, description='Training', layout=Layout(flex='2'), max=1250.0, style=Pro…"
      ]
     },
     "metadata": {},
     "output_type": "display_data"
    },
    {
     "name": "stdout",
     "output_type": "stream",
     "text": [
      "Epoch 121: train=7.3373, val=7.95563, took 45.76 s\n",
      "  Validation Found 51323 of 54504, added 1986 (eff 94.16%) (0.199 FP/event)\n"
     ]
    },
    {
     "data": {
      "application/vnd.jupyter.widget-view+json": {
       "model_id": "",
       "version_major": 2,
       "version_minor": 0
      },
      "text/plain": [
       "HBox(children=(FloatProgress(value=0.0, description='Training', layout=Layout(flex='2'), max=1250.0, style=Pro…"
      ]
     },
     "metadata": {},
     "output_type": "display_data"
    },
    {
     "name": "stdout",
     "output_type": "stream",
     "text": [
      "Epoch 122: train=7.33738, val=7.98568, took 45.62 s\n",
      "  Validation Found 51369 of 54504, added 2093 (eff 94.25%) (0.21 FP/event)\n"
     ]
    },
    {
     "data": {
      "application/vnd.jupyter.widget-view+json": {
       "model_id": "",
       "version_major": 2,
       "version_minor": 0
      },
      "text/plain": [
       "HBox(children=(FloatProgress(value=0.0, description='Training', layout=Layout(flex='2'), max=1250.0, style=Pro…"
      ]
     },
     "metadata": {},
     "output_type": "display_data"
    },
    {
     "name": "stdout",
     "output_type": "stream",
     "text": [
      "Epoch 123: train=7.33062, val=7.99524, took 45.515 s\n",
      "  Validation Found 51407 of 54504, added 2135 (eff 94.32%) (0.214 FP/event)\n"
     ]
    },
    {
     "data": {
      "application/vnd.jupyter.widget-view+json": {
       "model_id": "",
       "version_major": 2,
       "version_minor": 0
      },
      "text/plain": [
       "HBox(children=(FloatProgress(value=0.0, description='Training', layout=Layout(flex='2'), max=1250.0, style=Pro…"
      ]
     },
     "metadata": {},
     "output_type": "display_data"
    },
    {
     "name": "stdout",
     "output_type": "stream",
     "text": [
      "Epoch 124: train=7.33566, val=7.99407, took 45.544 s\n",
      "  Validation Found 51297 of 54504, added 1917 (eff 94.12%) (0.192 FP/event)\n"
     ]
    },
    {
     "data": {
      "application/vnd.jupyter.widget-view+json": {
       "model_id": "",
       "version_major": 2,
       "version_minor": 0
      },
      "text/plain": [
       "HBox(children=(FloatProgress(value=0.0, description='Training', layout=Layout(flex='2'), max=1250.0, style=Pro…"
      ]
     },
     "metadata": {},
     "output_type": "display_data"
    },
    {
     "name": "stdout",
     "output_type": "stream",
     "text": [
      "Epoch 125: train=7.33223, val=7.95183, took 45.955 s\n",
      "  Validation Found 51301 of 54504, added 1912 (eff 94.12%) (0.191 FP/event)\n"
     ]
    },
    {
     "data": {
      "application/vnd.jupyter.widget-view+json": {
       "model_id": "",
       "version_major": 2,
       "version_minor": 0
      },
      "text/plain": [
       "HBox(children=(FloatProgress(value=0.0, description='Training', layout=Layout(flex='2'), max=1250.0, style=Pro…"
      ]
     },
     "metadata": {},
     "output_type": "display_data"
    },
    {
     "name": "stdout",
     "output_type": "stream",
     "text": [
      "Epoch 126: train=7.33074, val=8.17266, took 46.582 s\n",
      "  Validation Found 50911 of 54504, added 1480 (eff 93.41%) (0.148 FP/event)\n"
     ]
    },
    {
     "data": {
      "application/vnd.jupyter.widget-view+json": {
       "model_id": "",
       "version_major": 2,
       "version_minor": 0
      },
      "text/plain": [
       "HBox(children=(FloatProgress(value=0.0, description='Training', layout=Layout(flex='2'), max=1250.0, style=Pro…"
      ]
     },
     "metadata": {},
     "output_type": "display_data"
    },
    {
     "name": "stdout",
     "output_type": "stream",
     "text": [
      "Epoch 127: train=7.33318, val=8.05328, took 45.982 s\n",
      "  Validation Found 51099 of 54504, added 1610 (eff 93.75%) (0.161 FP/event)\n"
     ]
    },
    {
     "data": {
      "application/vnd.jupyter.widget-view+json": {
       "model_id": "",
       "version_major": 2,
       "version_minor": 0
      },
      "text/plain": [
       "HBox(children=(FloatProgress(value=0.0, description='Training', layout=Layout(flex='2'), max=1250.0, style=Pro…"
      ]
     },
     "metadata": {},
     "output_type": "display_data"
    },
    {
     "name": "stdout",
     "output_type": "stream",
     "text": [
      "Epoch 128: train=7.32961, val=8.19847, took 45.577 s\n",
      "  Validation Found 50950 of 54504, added 1543 (eff 93.48%) (0.155 FP/event)\n"
     ]
    },
    {
     "data": {
      "application/vnd.jupyter.widget-view+json": {
       "model_id": "",
       "version_major": 2,
       "version_minor": 0
      },
      "text/plain": [
       "HBox(children=(FloatProgress(value=0.0, description='Training', layout=Layout(flex='2'), max=1250.0, style=Pro…"
      ]
     },
     "metadata": {},
     "output_type": "display_data"
    },
    {
     "name": "stdout",
     "output_type": "stream",
     "text": [
      "Epoch 129: train=7.32801, val=7.99951, took 45.551 s\n",
      "  Validation Found 51341 of 54504, added 1980 (eff 94.20%) (0.198 FP/event)\n"
     ]
    },
    {
     "data": {
      "application/vnd.jupyter.widget-view+json": {
       "model_id": "",
       "version_major": 2,
       "version_minor": 0
      },
      "text/plain": [
       "HBox(children=(FloatProgress(value=0.0, description='Training', layout=Layout(flex='2'), max=1250.0, style=Pro…"
      ]
     },
     "metadata": {},
     "output_type": "display_data"
    },
    {
     "name": "stdout",
     "output_type": "stream",
     "text": [
      "Epoch 130: train=7.32907, val=8.02287, took 45.598 s\n",
      "  Validation Found 51327 of 54504, added 1964 (eff 94.17%) (0.197 FP/event)\n"
     ]
    },
    {
     "data": {
      "application/vnd.jupyter.widget-view+json": {
       "model_id": "",
       "version_major": 2,
       "version_minor": 0
      },
      "text/plain": [
       "HBox(children=(FloatProgress(value=0.0, description='Training', layout=Layout(flex='2'), max=1250.0, style=Pro…"
      ]
     },
     "metadata": {},
     "output_type": "display_data"
    },
    {
     "name": "stdout",
     "output_type": "stream",
     "text": [
      "Epoch 131: train=7.32297, val=8.02292, took 45.677 s\n",
      "  Validation Found 51181 of 54504, added 1690 (eff 93.90%) (0.169 FP/event)\n"
     ]
    },
    {
     "data": {
      "application/vnd.jupyter.widget-view+json": {
       "model_id": "",
       "version_major": 2,
       "version_minor": 0
      },
      "text/plain": [
       "HBox(children=(FloatProgress(value=0.0, description='Training', layout=Layout(flex='2'), max=1250.0, style=Pro…"
      ]
     },
     "metadata": {},
     "output_type": "display_data"
    },
    {
     "name": "stdout",
     "output_type": "stream",
     "text": [
      "Epoch 132: train=7.32369, val=8.18657, took 45.646 s\n",
      "  Validation Found 50785 of 54504, added 1333 (eff 93.18%) (0.134 FP/event)\n"
     ]
    },
    {
     "data": {
      "application/vnd.jupyter.widget-view+json": {
       "model_id": "",
       "version_major": 2,
       "version_minor": 0
      },
      "text/plain": [
       "HBox(children=(FloatProgress(value=0.0, description='Training', layout=Layout(flex='2'), max=1250.0, style=Pro…"
      ]
     },
     "metadata": {},
     "output_type": "display_data"
    },
    {
     "name": "stdout",
     "output_type": "stream",
     "text": [
      "Epoch 133: train=7.32303, val=7.96125, took 45.948 s\n",
      "  Validation Found 51269 of 54504, added 1862 (eff 94.06%) (0.186 FP/event)\n"
     ]
    },
    {
     "data": {
      "application/vnd.jupyter.widget-view+json": {
       "model_id": "",
       "version_major": 2,
       "version_minor": 0
      },
      "text/plain": [
       "HBox(children=(FloatProgress(value=0.0, description='Training', layout=Layout(flex='2'), max=1250.0, style=Pro…"
      ]
     },
     "metadata": {},
     "output_type": "display_data"
    },
    {
     "name": "stdout",
     "output_type": "stream",
     "text": [
      "Epoch 134: train=7.32379, val=8.15138, took 45.577 s\n",
      "  Validation Found 51051 of 54504, added 1632 (eff 93.66%) (0.163 FP/event)\n"
     ]
    },
    {
     "data": {
      "application/vnd.jupyter.widget-view+json": {
       "model_id": "",
       "version_major": 2,
       "version_minor": 0
      },
      "text/plain": [
       "HBox(children=(FloatProgress(value=0.0, description='Training', layout=Layout(flex='2'), max=1250.0, style=Pro…"
      ]
     },
     "metadata": {},
     "output_type": "display_data"
    },
    {
     "name": "stdout",
     "output_type": "stream",
     "text": [
      "Epoch 135: train=7.32346, val=7.94599, took 45.587 s\n",
      "  Validation Found 51430 of 54504, added 2159 (eff 94.36%) (0.216 FP/event)\n"
     ]
    },
    {
     "data": {
      "application/vnd.jupyter.widget-view+json": {
       "model_id": "",
       "version_major": 2,
       "version_minor": 0
      },
      "text/plain": [
       "HBox(children=(FloatProgress(value=0.0, description='Training', layout=Layout(flex='2'), max=1250.0, style=Pro…"
      ]
     },
     "metadata": {},
     "output_type": "display_data"
    },
    {
     "name": "stdout",
     "output_type": "stream",
     "text": [
      "Epoch 136: train=7.31806, val=8.05354, took 45.658 s\n",
      "  Validation Found 51408 of 54504, added 2152 (eff 94.32%) (0.216 FP/event)\n"
     ]
    },
    {
     "data": {
      "application/vnd.jupyter.widget-view+json": {
       "model_id": "",
       "version_major": 2,
       "version_minor": 0
      },
      "text/plain": [
       "HBox(children=(FloatProgress(value=0.0, description='Training', layout=Layout(flex='2'), max=1250.0, style=Pro…"
      ]
     },
     "metadata": {},
     "output_type": "display_data"
    },
    {
     "name": "stdout",
     "output_type": "stream",
     "text": [
      "Epoch 137: train=7.31988, val=7.95779, took 46.575 s\n",
      "  Validation Found 51361 of 54504, added 2107 (eff 94.23%) (0.211 FP/event)\n"
     ]
    },
    {
     "data": {
      "application/vnd.jupyter.widget-view+json": {
       "model_id": "",
       "version_major": 2,
       "version_minor": 0
      },
      "text/plain": [
       "HBox(children=(FloatProgress(value=0.0, description='Training', layout=Layout(flex='2'), max=1250.0, style=Pro…"
      ]
     },
     "metadata": {},
     "output_type": "display_data"
    },
    {
     "name": "stdout",
     "output_type": "stream",
     "text": [
      "Epoch 138: train=7.31985, val=8.10339, took 46.012 s\n",
      "  Validation Found 50952 of 54504, added 1448 (eff 93.48%) (0.145 FP/event)\n"
     ]
    },
    {
     "data": {
      "application/vnd.jupyter.widget-view+json": {
       "model_id": "",
       "version_major": 2,
       "version_minor": 0
      },
      "text/plain": [
       "HBox(children=(FloatProgress(value=0.0, description='Training', layout=Layout(flex='2'), max=1250.0, style=Pro…"
      ]
     },
     "metadata": {},
     "output_type": "display_data"
    },
    {
     "name": "stdout",
     "output_type": "stream",
     "text": [
      "Epoch 139: train=7.31879, val=8.02052, took 45.531 s\n",
      "  Validation Found 51481 of 54504, added 2379 (eff 94.45%) (0.238 FP/event)\n"
     ]
    },
    {
     "data": {
      "application/vnd.jupyter.widget-view+json": {
       "model_id": "",
       "version_major": 2,
       "version_minor": 0
      },
      "text/plain": [
       "HBox(children=(FloatProgress(value=0.0, description='Training', layout=Layout(flex='2'), max=1250.0, style=Pro…"
      ]
     },
     "metadata": {},
     "output_type": "display_data"
    },
    {
     "name": "stdout",
     "output_type": "stream",
     "text": [
      "Epoch 140: train=7.31617, val=8.13048, took 45.542 s\n",
      "  Validation Found 51054 of 54504, added 1631 (eff 93.67%) (0.163 FP/event)\n"
     ]
    },
    {
     "data": {
      "application/vnd.jupyter.widget-view+json": {
       "model_id": "",
       "version_major": 2,
       "version_minor": 0
      },
      "text/plain": [
       "HBox(children=(FloatProgress(value=0.0, description='Training', layout=Layout(flex='2'), max=1250.0, style=Pro…"
      ]
     },
     "metadata": {},
     "output_type": "display_data"
    },
    {
     "name": "stdout",
     "output_type": "stream",
     "text": [
      "Epoch 141: train=7.32289, val=8.07896, took 45.512 s\n",
      "  Validation Found 51108 of 54504, added 1765 (eff 93.77%) (0.177 FP/event)\n"
     ]
    },
    {
     "data": {
      "application/vnd.jupyter.widget-view+json": {
       "model_id": "",
       "version_major": 2,
       "version_minor": 0
      },
      "text/plain": [
       "HBox(children=(FloatProgress(value=0.0, description='Training', layout=Layout(flex='2'), max=1250.0, style=Pro…"
      ]
     },
     "metadata": {},
     "output_type": "display_data"
    },
    {
     "name": "stdout",
     "output_type": "stream",
     "text": [
      "Epoch 142: train=7.31584, val=8.04437, took 45.814 s\n",
      "  Validation Found 51157 of 54504, added 1717 (eff 93.86%) (0.172 FP/event)\n"
     ]
    },
    {
     "data": {
      "application/vnd.jupyter.widget-view+json": {
       "model_id": "",
       "version_major": 2,
       "version_minor": 0
      },
      "text/plain": [
       "HBox(children=(FloatProgress(value=0.0, description='Training', layout=Layout(flex='2'), max=1250.0, style=Pro…"
      ]
     },
     "metadata": {},
     "output_type": "display_data"
    },
    {
     "name": "stdout",
     "output_type": "stream",
     "text": [
      "Epoch 143: train=7.31427, val=7.94141, took 45.706 s\n",
      "  Validation Found 51336 of 54504, added 1975 (eff 94.19%) (0.198 FP/event)\n"
     ]
    },
    {
     "data": {
      "application/vnd.jupyter.widget-view+json": {
       "model_id": "",
       "version_major": 2,
       "version_minor": 0
      },
      "text/plain": [
       "HBox(children=(FloatProgress(value=0.0, description='Training', layout=Layout(flex='2'), max=1250.0, style=Pro…"
      ]
     },
     "metadata": {},
     "output_type": "display_data"
    },
    {
     "name": "stdout",
     "output_type": "stream",
     "text": [
      "Epoch 144: train=7.3134, val=8.06129, took 45.575 s\n",
      "  Validation Found 51162 of 54504, added 1738 (eff 93.87%) (0.174 FP/event)\n"
     ]
    },
    {
     "data": {
      "application/vnd.jupyter.widget-view+json": {
       "model_id": "",
       "version_major": 2,
       "version_minor": 0
      },
      "text/plain": [
       "HBox(children=(FloatProgress(value=0.0, description='Training', layout=Layout(flex='2'), max=1250.0, style=Pro…"
      ]
     },
     "metadata": {},
     "output_type": "display_data"
    },
    {
     "name": "stdout",
     "output_type": "stream",
     "text": [
      "Epoch 145: train=7.31179, val=8.09265, took 45.722 s\n",
      "  Validation Found 51061 of 54504, added 1566 (eff 93.68%) (0.157 FP/event)\n"
     ]
    },
    {
     "data": {
      "application/vnd.jupyter.widget-view+json": {
       "model_id": "",
       "version_major": 2,
       "version_minor": 0
      },
      "text/plain": [
       "HBox(children=(FloatProgress(value=0.0, description='Training', layout=Layout(flex='2'), max=1250.0, style=Pro…"
      ]
     },
     "metadata": {},
     "output_type": "display_data"
    },
    {
     "name": "stdout",
     "output_type": "stream",
     "text": [
      "Epoch 146: train=7.31423, val=8.02502, took 45.54 s\n",
      "  Validation Found 51216 of 54504, added 1786 (eff 93.97%) (0.179 FP/event)\n"
     ]
    },
    {
     "data": {
      "application/vnd.jupyter.widget-view+json": {
       "model_id": "",
       "version_major": 2,
       "version_minor": 0
      },
      "text/plain": [
       "HBox(children=(FloatProgress(value=0.0, description='Training', layout=Layout(flex='2'), max=1250.0, style=Pro…"
      ]
     },
     "metadata": {},
     "output_type": "display_data"
    },
    {
     "name": "stdout",
     "output_type": "stream",
     "text": [
      "Epoch 147: train=7.31633, val=8.05963, took 45.545 s\n",
      "  Validation Found 51267 of 54504, added 2020 (eff 94.06%) (0.202 FP/event)\n"
     ]
    },
    {
     "data": {
      "application/vnd.jupyter.widget-view+json": {
       "model_id": "",
       "version_major": 2,
       "version_minor": 0
      },
      "text/plain": [
       "HBox(children=(FloatProgress(value=0.0, description='Training', layout=Layout(flex='2'), max=1250.0, style=Pro…"
      ]
     },
     "metadata": {},
     "output_type": "display_data"
    },
    {
     "name": "stdout",
     "output_type": "stream",
     "text": [
      "Epoch 148: train=7.30918, val=7.93456, took 46.024 s\n",
      "  Validation Found 51420 of 54504, added 2198 (eff 94.34%) (0.22 FP/event)\n"
     ]
    },
    {
     "data": {
      "application/vnd.jupyter.widget-view+json": {
       "model_id": "",
       "version_major": 2,
       "version_minor": 0
      },
      "text/plain": [
       "HBox(children=(FloatProgress(value=0.0, description='Training', layout=Layout(flex='2'), max=1250.0, style=Pro…"
      ]
     },
     "metadata": {},
     "output_type": "display_data"
    },
    {
     "name": "stdout",
     "output_type": "stream",
     "text": [
      "Epoch 149: train=7.31319, val=7.96013, took 45.532 s\n",
      "  Validation Found 51459 of 54504, added 2176 (eff 94.41%) (0.218 FP/event)\n"
     ]
    },
    {
     "data": {
      "application/vnd.jupyter.widget-view+json": {
       "model_id": "",
       "version_major": 2,
       "version_minor": 0
      },
      "text/plain": [
       "HBox(children=(FloatProgress(value=0.0, description='Training', layout=Layout(flex='2'), max=1250.0, style=Pro…"
      ]
     },
     "metadata": {},
     "output_type": "display_data"
    },
    {
     "name": "stdout",
     "output_type": "stream",
     "text": [
      "Epoch 150: train=7.30636, val=7.94448, took 45.523 s\n",
      "  Validation Found 51384 of 54504, added 2117 (eff 94.28%) (0.212 FP/event)\n"
     ]
    },
    {
     "data": {
      "application/vnd.jupyter.widget-view+json": {
       "model_id": "",
       "version_major": 2,
       "version_minor": 0
      },
      "text/plain": [
       "HBox(children=(FloatProgress(value=0.0, description='Training', layout=Layout(flex='2'), max=1250.0, style=Pro…"
      ]
     },
     "metadata": {},
     "output_type": "display_data"
    },
    {
     "name": "stdout",
     "output_type": "stream",
     "text": [
      "Epoch 151: train=7.3063, val=8.17593, took 46.124 s\n",
      "  Validation Found 51068 of 54504, added 1736 (eff 93.70%) (0.174 FP/event)\n"
     ]
    },
    {
     "data": {
      "application/vnd.jupyter.widget-view+json": {
       "model_id": "",
       "version_major": 2,
       "version_minor": 0
      },
      "text/plain": [
       "HBox(children=(FloatProgress(value=0.0, description='Training', layout=Layout(flex='2'), max=1250.0, style=Pro…"
      ]
     },
     "metadata": {},
     "output_type": "display_data"
    },
    {
     "name": "stdout",
     "output_type": "stream",
     "text": [
      "Epoch 152: train=7.31037, val=8.31446, took 45.643 s\n",
      "  Validation Found 50760 of 54504, added 1331 (eff 93.13%) (0.133 FP/event)\n"
     ]
    },
    {
     "data": {
      "application/vnd.jupyter.widget-view+json": {
       "model_id": "",
       "version_major": 2,
       "version_minor": 0
      },
      "text/plain": [
       "HBox(children=(FloatProgress(value=0.0, description='Training', layout=Layout(flex='2'), max=1250.0, style=Pro…"
      ]
     },
     "metadata": {},
     "output_type": "display_data"
    },
    {
     "name": "stdout",
     "output_type": "stream",
     "text": [
      "Epoch 153: train=7.30908, val=7.99275, took 45.509 s\n",
      "  Validation Found 51311 of 54504, added 1883 (eff 94.14%) (0.189 FP/event)\n"
     ]
    },
    {
     "data": {
      "application/vnd.jupyter.widget-view+json": {
       "model_id": "",
       "version_major": 2,
       "version_minor": 0
      },
      "text/plain": [
       "HBox(children=(FloatProgress(value=0.0, description='Training', layout=Layout(flex='2'), max=1250.0, style=Pro…"
      ]
     },
     "metadata": {},
     "output_type": "display_data"
    },
    {
     "name": "stdout",
     "output_type": "stream",
     "text": [
      "Epoch 154: train=7.30629, val=7.92851, took 45.697 s\n",
      "  Validation Found 51343 of 54504, added 1997 (eff 94.20%) (0.2 FP/event)\n"
     ]
    },
    {
     "data": {
      "application/vnd.jupyter.widget-view+json": {
       "model_id": "",
       "version_major": 2,
       "version_minor": 0
      },
      "text/plain": [
       "HBox(children=(FloatProgress(value=0.0, description='Training', layout=Layout(flex='2'), max=1250.0, style=Pro…"
      ]
     },
     "metadata": {},
     "output_type": "display_data"
    },
    {
     "name": "stdout",
     "output_type": "stream",
     "text": [
      "Epoch 155: train=7.30418, val=8.11947, took 45.736 s\n",
      "  Validation Found 51149 of 54504, added 1697 (eff 93.84%) (0.17 FP/event)\n"
     ]
    },
    {
     "data": {
      "application/vnd.jupyter.widget-view+json": {
       "model_id": "",
       "version_major": 2,
       "version_minor": 0
      },
      "text/plain": [
       "HBox(children=(FloatProgress(value=0.0, description='Training', layout=Layout(flex='2'), max=1250.0, style=Pro…"
      ]
     },
     "metadata": {},
     "output_type": "display_data"
    },
    {
     "name": "stdout",
     "output_type": "stream",
     "text": [
      "Epoch 156: train=7.30733, val=8.11014, took 45.566 s\n",
      "  Validation Found 51138 of 54504, added 1642 (eff 93.82%) (0.164 FP/event)\n"
     ]
    },
    {
     "data": {
      "application/vnd.jupyter.widget-view+json": {
       "model_id": "",
       "version_major": 2,
       "version_minor": 0
      },
      "text/plain": [
       "HBox(children=(FloatProgress(value=0.0, description='Training', layout=Layout(flex='2'), max=1250.0, style=Pro…"
      ]
     },
     "metadata": {},
     "output_type": "display_data"
    },
    {
     "name": "stdout",
     "output_type": "stream",
     "text": [
      "Epoch 157: train=7.30422, val=8.13869, took 45.767 s\n",
      "  Validation Found 51012 of 54504, added 1482 (eff 93.59%) (0.148 FP/event)\n"
     ]
    },
    {
     "data": {
      "application/vnd.jupyter.widget-view+json": {
       "model_id": "",
       "version_major": 2,
       "version_minor": 0
      },
      "text/plain": [
       "HBox(children=(FloatProgress(value=0.0, description='Training', layout=Layout(flex='2'), max=1250.0, style=Pro…"
      ]
     },
     "metadata": {},
     "output_type": "display_data"
    },
    {
     "name": "stdout",
     "output_type": "stream",
     "text": [
      "Epoch 158: train=7.30415, val=7.95307, took 45.508 s\n",
      "  Validation Found 51378 of 54504, added 2048 (eff 94.26%) (0.205 FP/event)\n"
     ]
    },
    {
     "data": {
      "application/vnd.jupyter.widget-view+json": {
       "model_id": "",
       "version_major": 2,
       "version_minor": 0
      },
      "text/plain": [
       "HBox(children=(FloatProgress(value=0.0, description='Training', layout=Layout(flex='2'), max=1250.0, style=Pro…"
      ]
     },
     "metadata": {},
     "output_type": "display_data"
    },
    {
     "name": "stdout",
     "output_type": "stream",
     "text": [
      "Epoch 159: train=7.30394, val=8.12221, took 45.785 s\n",
      "  Validation Found 51086 of 54504, added 1741 (eff 93.73%) (0.174 FP/event)\n"
     ]
    },
    {
     "data": {
      "application/vnd.jupyter.widget-view+json": {
       "model_id": "",
       "version_major": 2,
       "version_minor": 0
      },
      "text/plain": [
       "HBox(children=(FloatProgress(value=0.0, description='Training', layout=Layout(flex='2'), max=1250.0, style=Pro…"
      ]
     },
     "metadata": {},
     "output_type": "display_data"
    },
    {
     "name": "stdout",
     "output_type": "stream",
     "text": [
      "Epoch 160: train=7.30223, val=7.99661, took 45.565 s\n",
      "  Validation Found 51276 of 54504, added 2007 (eff 94.08%) (0.201 FP/event)\n"
     ]
    },
    {
     "data": {
      "application/vnd.jupyter.widget-view+json": {
       "model_id": "",
       "version_major": 2,
       "version_minor": 0
      },
      "text/plain": [
       "HBox(children=(FloatProgress(value=0.0, description='Training', layout=Layout(flex='2'), max=1250.0, style=Pro…"
      ]
     },
     "metadata": {},
     "output_type": "display_data"
    },
    {
     "name": "stdout",
     "output_type": "stream",
     "text": [
      "Epoch 161: train=7.30214, val=8.02882, took 45.569 s\n",
      "  Validation Found 51314 of 54504, added 2010 (eff 94.15%) (0.201 FP/event)\n"
     ]
    },
    {
     "data": {
      "application/vnd.jupyter.widget-view+json": {
       "model_id": "",
       "version_major": 2,
       "version_minor": 0
      },
      "text/plain": [
       "HBox(children=(FloatProgress(value=0.0, description='Training', layout=Layout(flex='2'), max=1250.0, style=Pro…"
      ]
     },
     "metadata": {},
     "output_type": "display_data"
    },
    {
     "name": "stdout",
     "output_type": "stream",
     "text": [
      "Epoch 162: train=7.30124, val=8.00854, took 45.65 s\n",
      "  Validation Found 51334 of 54504, added 2115 (eff 94.18%) (0.212 FP/event)\n"
     ]
    },
    {
     "data": {
      "application/vnd.jupyter.widget-view+json": {
       "model_id": "",
       "version_major": 2,
       "version_minor": 0
      },
      "text/plain": [
       "HBox(children=(FloatProgress(value=0.0, description='Training', layout=Layout(flex='2'), max=1250.0, style=Pro…"
      ]
     },
     "metadata": {},
     "output_type": "display_data"
    },
    {
     "name": "stdout",
     "output_type": "stream",
     "text": [
      "Epoch 163: train=7.30016, val=8.02511, took 45.54 s\n",
      "  Validation Found 51369 of 54504, added 2067 (eff 94.25%) (0.207 FP/event)\n"
     ]
    },
    {
     "data": {
      "application/vnd.jupyter.widget-view+json": {
       "model_id": "",
       "version_major": 2,
       "version_minor": 0
      },
      "text/plain": [
       "HBox(children=(FloatProgress(value=0.0, description='Training', layout=Layout(flex='2'), max=1250.0, style=Pro…"
      ]
     },
     "metadata": {},
     "output_type": "display_data"
    },
    {
     "name": "stdout",
     "output_type": "stream",
     "text": [
      "Epoch 164: train=7.29868, val=7.99861, took 45.494 s\n",
      "  Validation Found 51325 of 54504, added 2029 (eff 94.17%) (0.203 FP/event)\n"
     ]
    },
    {
     "data": {
      "application/vnd.jupyter.widget-view+json": {
       "model_id": "",
       "version_major": 2,
       "version_minor": 0
      },
      "text/plain": [
       "HBox(children=(FloatProgress(value=0.0, description='Training', layout=Layout(flex='2'), max=1250.0, style=Pro…"
      ]
     },
     "metadata": {},
     "output_type": "display_data"
    },
    {
     "name": "stdout",
     "output_type": "stream",
     "text": [
      "Epoch 165: train=7.29512, val=8.01429, took 45.528 s\n",
      "  Validation Found 51145 of 54504, added 1702 (eff 93.84%) (0.17 FP/event)\n"
     ]
    },
    {
     "data": {
      "application/vnd.jupyter.widget-view+json": {
       "model_id": "",
       "version_major": 2,
       "version_minor": 0
      },
      "text/plain": [
       "HBox(children=(FloatProgress(value=0.0, description='Training', layout=Layout(flex='2'), max=1250.0, style=Pro…"
      ]
     },
     "metadata": {},
     "output_type": "display_data"
    },
    {
     "name": "stdout",
     "output_type": "stream",
     "text": [
      "Epoch 166: train=7.29619, val=7.97465, took 45.642 s\n",
      "  Validation Found 51350 of 54504, added 2054 (eff 94.21%) (0.206 FP/event)\n"
     ]
    },
    {
     "data": {
      "application/vnd.jupyter.widget-view+json": {
       "model_id": "",
       "version_major": 2,
       "version_minor": 0
      },
      "text/plain": [
       "HBox(children=(FloatProgress(value=0.0, description='Training', layout=Layout(flex='2'), max=1250.0, style=Pro…"
      ]
     },
     "metadata": {},
     "output_type": "display_data"
    },
    {
     "name": "stdout",
     "output_type": "stream",
     "text": [
      "Epoch 167: train=7.29394, val=7.94175, took 45.585 s\n",
      "  Validation Found 51409 of 54504, added 2114 (eff 94.32%) (0.212 FP/event)\n"
     ]
    },
    {
     "data": {
      "application/vnd.jupyter.widget-view+json": {
       "model_id": "",
       "version_major": 2,
       "version_minor": 0
      },
      "text/plain": [
       "HBox(children=(FloatProgress(value=0.0, description='Training', layout=Layout(flex='2'), max=1250.0, style=Pro…"
      ]
     },
     "metadata": {},
     "output_type": "display_data"
    },
    {
     "name": "stdout",
     "output_type": "stream",
     "text": [
      "Epoch 168: train=7.29161, val=8.0055, took 45.646 s\n",
      "  Validation Found 51326 of 54504, added 2091 (eff 94.17%) (0.209 FP/event)\n"
     ]
    },
    {
     "data": {
      "application/vnd.jupyter.widget-view+json": {
       "model_id": "",
       "version_major": 2,
       "version_minor": 0
      },
      "text/plain": [
       "HBox(children=(FloatProgress(value=0.0, description='Training', layout=Layout(flex='2'), max=1250.0, style=Pro…"
      ]
     },
     "metadata": {},
     "output_type": "display_data"
    },
    {
     "name": "stdout",
     "output_type": "stream",
     "text": [
      "Epoch 169: train=7.2945, val=8.10817, took 45.471 s\n",
      "  Validation Found 51103 of 54504, added 1666 (eff 93.76%) (0.167 FP/event)\n"
     ]
    },
    {
     "data": {
      "application/vnd.jupyter.widget-view+json": {
       "model_id": "",
       "version_major": 2,
       "version_minor": 0
      },
      "text/plain": [
       "HBox(children=(FloatProgress(value=0.0, description='Training', layout=Layout(flex='2'), max=1250.0, style=Pro…"
      ]
     },
     "metadata": {},
     "output_type": "display_data"
    },
    {
     "name": "stdout",
     "output_type": "stream",
     "text": [
      "Epoch 170: train=7.29205, val=7.9709, took 45.733 s\n",
      "  Validation Found 51349 of 54504, added 2017 (eff 94.21%) (0.202 FP/event)\n"
     ]
    },
    {
     "data": {
      "application/vnd.jupyter.widget-view+json": {
       "model_id": "",
       "version_major": 2,
       "version_minor": 0
      },
      "text/plain": [
       "HBox(children=(FloatProgress(value=0.0, description='Training', layout=Layout(flex='2'), max=1250.0, style=Pro…"
      ]
     },
     "metadata": {},
     "output_type": "display_data"
    },
    {
     "name": "stdout",
     "output_type": "stream",
     "text": [
      "Epoch 171: train=7.29695, val=7.87985, took 45.583 s\n",
      "  Validation Found 51463 of 54504, added 2255 (eff 94.42%) (0.226 FP/event)\n"
     ]
    },
    {
     "data": {
      "application/vnd.jupyter.widget-view+json": {
       "model_id": "",
       "version_major": 2,
       "version_minor": 0
      },
      "text/plain": [
       "HBox(children=(FloatProgress(value=0.0, description='Training', layout=Layout(flex='2'), max=1250.0, style=Pro…"
      ]
     },
     "metadata": {},
     "output_type": "display_data"
    },
    {
     "name": "stdout",
     "output_type": "stream",
     "text": [
      "Epoch 172: train=7.28978, val=8.10306, took 45.69 s\n",
      "  Validation Found 51272 of 54504, added 1907 (eff 94.07%) (0.191 FP/event)\n"
     ]
    },
    {
     "data": {
      "application/vnd.jupyter.widget-view+json": {
       "model_id": "",
       "version_major": 2,
       "version_minor": 0
      },
      "text/plain": [
       "HBox(children=(FloatProgress(value=0.0, description='Training', layout=Layout(flex='2'), max=1250.0, style=Pro…"
      ]
     },
     "metadata": {},
     "output_type": "display_data"
    },
    {
     "name": "stdout",
     "output_type": "stream",
     "text": [
      "Epoch 173: train=7.29202, val=8.03759, took 45.545 s\n",
      "  Validation Found 51345 of 54504, added 2142 (eff 94.20%) (0.215 FP/event)\n"
     ]
    },
    {
     "data": {
      "application/vnd.jupyter.widget-view+json": {
       "model_id": "",
       "version_major": 2,
       "version_minor": 0
      },
      "text/plain": [
       "HBox(children=(FloatProgress(value=0.0, description='Training', layout=Layout(flex='2'), max=1250.0, style=Pro…"
      ]
     },
     "metadata": {},
     "output_type": "display_data"
    },
    {
     "name": "stdout",
     "output_type": "stream",
     "text": [
      "Epoch 174: train=7.29138, val=8.09024, took 45.672 s\n",
      "  Validation Found 51187 of 54504, added 1761 (eff 93.91%) (0.176 FP/event)\n"
     ]
    },
    {
     "data": {
      "application/vnd.jupyter.widget-view+json": {
       "model_id": "",
       "version_major": 2,
       "version_minor": 0
      },
      "text/plain": [
       "HBox(children=(FloatProgress(value=0.0, description='Training', layout=Layout(flex='2'), max=1250.0, style=Pro…"
      ]
     },
     "metadata": {},
     "output_type": "display_data"
    },
    {
     "name": "stdout",
     "output_type": "stream",
     "text": [
      "Epoch 175: train=7.29123, val=8.06416, took 45.972 s\n",
      "  Validation Found 51110 of 54504, added 1619 (eff 93.77%) (0.162 FP/event)\n"
     ]
    },
    {
     "data": {
      "application/vnd.jupyter.widget-view+json": {
       "model_id": "",
       "version_major": 2,
       "version_minor": 0
      },
      "text/plain": [
       "HBox(children=(FloatProgress(value=0.0, description='Training', layout=Layout(flex='2'), max=1250.0, style=Pro…"
      ]
     },
     "metadata": {},
     "output_type": "display_data"
    },
    {
     "name": "stdout",
     "output_type": "stream",
     "text": [
      "Epoch 176: train=7.28937, val=8.0719, took 45.534 s\n",
      "  Validation Found 51182 of 54504, added 1851 (eff 93.91%) (0.185 FP/event)\n"
     ]
    },
    {
     "data": {
      "application/vnd.jupyter.widget-view+json": {
       "model_id": "",
       "version_major": 2,
       "version_minor": 0
      },
      "text/plain": [
       "HBox(children=(FloatProgress(value=0.0, description='Training', layout=Layout(flex='2'), max=1250.0, style=Pro…"
      ]
     },
     "metadata": {},
     "output_type": "display_data"
    },
    {
     "name": "stdout",
     "output_type": "stream",
     "text": [
      "Epoch 177: train=7.29192, val=7.97141, took 45.541 s\n",
      "  Validation Found 51350 of 54504, added 1970 (eff 94.21%) (0.197 FP/event)\n"
     ]
    },
    {
     "data": {
      "application/vnd.jupyter.widget-view+json": {
       "model_id": "",
       "version_major": 2,
       "version_minor": 0
      },
      "text/plain": [
       "HBox(children=(FloatProgress(value=0.0, description='Training', layout=Layout(flex='2'), max=1250.0, style=Pro…"
      ]
     },
     "metadata": {},
     "output_type": "display_data"
    },
    {
     "name": "stdout",
     "output_type": "stream",
     "text": [
      "Epoch 178: train=7.28809, val=7.99373, took 45.521 s\n",
      "  Validation Found 51339 of 54504, added 1988 (eff 94.19%) (0.199 FP/event)\n"
     ]
    },
    {
     "data": {
      "application/vnd.jupyter.widget-view+json": {
       "model_id": "",
       "version_major": 2,
       "version_minor": 0
      },
      "text/plain": [
       "HBox(children=(FloatProgress(value=0.0, description='Training', layout=Layout(flex='2'), max=1250.0, style=Pro…"
      ]
     },
     "metadata": {},
     "output_type": "display_data"
    },
    {
     "name": "stdout",
     "output_type": "stream",
     "text": [
      "Epoch 179: train=7.2875, val=7.93212, took 45.583 s\n",
      "  Validation Found 51415 of 54504, added 2063 (eff 94.33%) (0.207 FP/event)\n"
     ]
    },
    {
     "data": {
      "application/vnd.jupyter.widget-view+json": {
       "model_id": "",
       "version_major": 2,
       "version_minor": 0
      },
      "text/plain": [
       "HBox(children=(FloatProgress(value=0.0, description='Training', layout=Layout(flex='2'), max=1250.0, style=Pro…"
      ]
     },
     "metadata": {},
     "output_type": "display_data"
    },
    {
     "name": "stdout",
     "output_type": "stream",
     "text": [
      "Epoch 180: train=7.28502, val=7.94862, took 45.715 s\n",
      "  Validation Found 51428 of 54504, added 2201 (eff 94.36%) (0.22 FP/event)\n"
     ]
    },
    {
     "data": {
      "application/vnd.jupyter.widget-view+json": {
       "model_id": "",
       "version_major": 2,
       "version_minor": 0
      },
      "text/plain": [
       "HBox(children=(FloatProgress(value=0.0, description='Training', layout=Layout(flex='2'), max=1250.0, style=Pro…"
      ]
     },
     "metadata": {},
     "output_type": "display_data"
    },
    {
     "name": "stdout",
     "output_type": "stream",
     "text": [
      "Epoch 181: train=7.28583, val=8.08892, took 46.44 s\n",
      "  Validation Found 51136 of 54504, added 1684 (eff 93.82%) (0.169 FP/event)\n"
     ]
    },
    {
     "data": {
      "application/vnd.jupyter.widget-view+json": {
       "model_id": "",
       "version_major": 2,
       "version_minor": 0
      },
      "text/plain": [
       "HBox(children=(FloatProgress(value=0.0, description='Training', layout=Layout(flex='2'), max=1250.0, style=Pro…"
      ]
     },
     "metadata": {},
     "output_type": "display_data"
    },
    {
     "name": "stdout",
     "output_type": "stream",
     "text": [
      "Epoch 182: train=7.28434, val=7.99468, took 46.5 s\n",
      "  Validation Found 51341 of 54504, added 2092 (eff 94.20%) (0.21 FP/event)\n"
     ]
    },
    {
     "data": {
      "application/vnd.jupyter.widget-view+json": {
       "model_id": "",
       "version_major": 2,
       "version_minor": 0
      },
      "text/plain": [
       "HBox(children=(FloatProgress(value=0.0, description='Training', layout=Layout(flex='2'), max=1250.0, style=Pro…"
      ]
     },
     "metadata": {},
     "output_type": "display_data"
    },
    {
     "name": "stdout",
     "output_type": "stream",
     "text": [
      "Epoch 183: train=7.2897, val=7.98902, took 45.614 s\n",
      "  Validation Found 51428 of 54504, added 2138 (eff 94.36%) (0.214 FP/event)\n"
     ]
    },
    {
     "data": {
      "application/vnd.jupyter.widget-view+json": {
       "model_id": "",
       "version_major": 2,
       "version_minor": 0
      },
      "text/plain": [
       "HBox(children=(FloatProgress(value=0.0, description='Training', layout=Layout(flex='2'), max=1250.0, style=Pro…"
      ]
     },
     "metadata": {},
     "output_type": "display_data"
    },
    {
     "name": "stdout",
     "output_type": "stream",
     "text": [
      "Epoch 184: train=7.28531, val=8.08511, took 45.622 s\n",
      "  Validation Found 51136 of 54504, added 1708 (eff 93.82%) (0.171 FP/event)\n"
     ]
    },
    {
     "data": {
      "application/vnd.jupyter.widget-view+json": {
       "model_id": "",
       "version_major": 2,
       "version_minor": 0
      },
      "text/plain": [
       "HBox(children=(FloatProgress(value=0.0, description='Training', layout=Layout(flex='2'), max=1250.0, style=Pro…"
      ]
     },
     "metadata": {},
     "output_type": "display_data"
    },
    {
     "name": "stdout",
     "output_type": "stream",
     "text": [
      "Epoch 185: train=7.28459, val=8.07447, took 45.564 s\n",
      "  Validation Found 51189 of 54504, added 1944 (eff 93.92%) (0.195 FP/event)\n"
     ]
    },
    {
     "data": {
      "application/vnd.jupyter.widget-view+json": {
       "model_id": "",
       "version_major": 2,
       "version_minor": 0
      },
      "text/plain": [
       "HBox(children=(FloatProgress(value=0.0, description='Training', layout=Layout(flex='2'), max=1250.0, style=Pro…"
      ]
     },
     "metadata": {},
     "output_type": "display_data"
    },
    {
     "name": "stdout",
     "output_type": "stream",
     "text": [
      "Epoch 186: train=7.28184, val=7.95497, took 45.497 s\n",
      "  Validation Found 51388 of 54504, added 2220 (eff 94.28%) (0.222 FP/event)\n"
     ]
    },
    {
     "data": {
      "application/vnd.jupyter.widget-view+json": {
       "model_id": "",
       "version_major": 2,
       "version_minor": 0
      },
      "text/plain": [
       "HBox(children=(FloatProgress(value=0.0, description='Training', layout=Layout(flex='2'), max=1250.0, style=Pro…"
      ]
     },
     "metadata": {},
     "output_type": "display_data"
    },
    {
     "name": "stdout",
     "output_type": "stream",
     "text": [
      "Epoch 187: train=7.28446, val=8.00371, took 45.825 s\n",
      "  Validation Found 51304 of 54504, added 1880 (eff 94.13%) (0.188 FP/event)\n"
     ]
    },
    {
     "data": {
      "application/vnd.jupyter.widget-view+json": {
       "model_id": "",
       "version_major": 2,
       "version_minor": 0
      },
      "text/plain": [
       "HBox(children=(FloatProgress(value=0.0, description='Training', layout=Layout(flex='2'), max=1250.0, style=Pro…"
      ]
     },
     "metadata": {},
     "output_type": "display_data"
    },
    {
     "name": "stdout",
     "output_type": "stream",
     "text": [
      "Epoch 188: train=7.28228, val=7.98079, took 45.539 s\n",
      "  Validation Found 51300 of 54504, added 1928 (eff 94.12%) (0.193 FP/event)\n"
     ]
    },
    {
     "data": {
      "application/vnd.jupyter.widget-view+json": {
       "model_id": "",
       "version_major": 2,
       "version_minor": 0
      },
      "text/plain": [
       "HBox(children=(FloatProgress(value=0.0, description='Training', layout=Layout(flex='2'), max=1250.0, style=Pro…"
      ]
     },
     "metadata": {},
     "output_type": "display_data"
    },
    {
     "name": "stdout",
     "output_type": "stream",
     "text": [
      "Epoch 189: train=7.27968, val=7.90824, took 45.919 s\n",
      "  Validation Found 51365 of 54504, added 2049 (eff 94.24%) (0.205 FP/event)\n"
     ]
    },
    {
     "data": {
      "application/vnd.jupyter.widget-view+json": {
       "model_id": "",
       "version_major": 2,
       "version_minor": 0
      },
      "text/plain": [
       "HBox(children=(FloatProgress(value=0.0, description='Training', layout=Layout(flex='2'), max=1250.0, style=Pro…"
      ]
     },
     "metadata": {},
     "output_type": "display_data"
    },
    {
     "name": "stdout",
     "output_type": "stream",
     "text": [
      "Epoch 190: train=7.28416, val=8.14312, took 45.544 s\n",
      "  Validation Found 51127 of 54504, added 1778 (eff 93.80%) (0.178 FP/event)\n"
     ]
    },
    {
     "data": {
      "application/vnd.jupyter.widget-view+json": {
       "model_id": "",
       "version_major": 2,
       "version_minor": 0
      },
      "text/plain": [
       "HBox(children=(FloatProgress(value=0.0, description='Training', layout=Layout(flex='2'), max=1250.0, style=Pro…"
      ]
     },
     "metadata": {},
     "output_type": "display_data"
    },
    {
     "name": "stdout",
     "output_type": "stream",
     "text": [
      "Epoch 191: train=7.28147, val=8.02206, took 46.175 s\n",
      "  Validation Found 51291 of 54504, added 1862 (eff 94.11%) (0.186 FP/event)\n"
     ]
    },
    {
     "data": {
      "application/vnd.jupyter.widget-view+json": {
       "model_id": "",
       "version_major": 2,
       "version_minor": 0
      },
      "text/plain": [
       "HBox(children=(FloatProgress(value=0.0, description='Training', layout=Layout(flex='2'), max=1250.0, style=Pro…"
      ]
     },
     "metadata": {},
     "output_type": "display_data"
    },
    {
     "name": "stdout",
     "output_type": "stream",
     "text": [
      "Epoch 192: train=7.27816, val=7.93111, took 45.772 s\n",
      "  Validation Found 51489 of 54504, added 2257 (eff 94.47%) (0.226 FP/event)\n"
     ]
    },
    {
     "data": {
      "application/vnd.jupyter.widget-view+json": {
       "model_id": "",
       "version_major": 2,
       "version_minor": 0
      },
      "text/plain": [
       "HBox(children=(FloatProgress(value=0.0, description='Training', layout=Layout(flex='2'), max=1250.0, style=Pro…"
      ]
     },
     "metadata": {},
     "output_type": "display_data"
    },
    {
     "name": "stdout",
     "output_type": "stream",
     "text": [
      "Epoch 193: train=7.27984, val=7.9562, took 45.476 s\n",
      "  Validation Found 51331 of 54504, added 1897 (eff 94.18%) (0.19 FP/event)\n"
     ]
    },
    {
     "data": {
      "application/vnd.jupyter.widget-view+json": {
       "model_id": "",
       "version_major": 2,
       "version_minor": 0
      },
      "text/plain": [
       "HBox(children=(FloatProgress(value=0.0, description='Training', layout=Layout(flex='2'), max=1250.0, style=Pro…"
      ]
     },
     "metadata": {},
     "output_type": "display_data"
    },
    {
     "name": "stdout",
     "output_type": "stream",
     "text": [
      "Epoch 194: train=7.27758, val=8.01111, took 45.552 s\n",
      "  Validation Found 51391 of 54504, added 2090 (eff 94.29%) (0.209 FP/event)\n"
     ]
    },
    {
     "data": {
      "application/vnd.jupyter.widget-view+json": {
       "model_id": "",
       "version_major": 2,
       "version_minor": 0
      },
      "text/plain": [
       "HBox(children=(FloatProgress(value=0.0, description='Training', layout=Layout(flex='2'), max=1250.0, style=Pro…"
      ]
     },
     "metadata": {},
     "output_type": "display_data"
    },
    {
     "name": "stdout",
     "output_type": "stream",
     "text": [
      "Epoch 195: train=7.27728, val=8.12773, took 45.617 s\n",
      "  Validation Found 51230 of 54504, added 1815 (eff 93.99%) (0.182 FP/event)\n"
     ]
    },
    {
     "data": {
      "application/vnd.jupyter.widget-view+json": {
       "model_id": "",
       "version_major": 2,
       "version_minor": 0
      },
      "text/plain": [
       "HBox(children=(FloatProgress(value=0.0, description='Training', layout=Layout(flex='2'), max=1250.0, style=Pro…"
      ]
     },
     "metadata": {},
     "output_type": "display_data"
    },
    {
     "name": "stdout",
     "output_type": "stream",
     "text": [
      "Epoch 196: train=7.27665, val=8.02385, took 45.848 s\n",
      "  Validation Found 51236 of 54504, added 1758 (eff 94.00%) (0.176 FP/event)\n"
     ]
    },
    {
     "data": {
      "application/vnd.jupyter.widget-view+json": {
       "model_id": "",
       "version_major": 2,
       "version_minor": 0
      },
      "text/plain": [
       "HBox(children=(FloatProgress(value=0.0, description='Training', layout=Layout(flex='2'), max=1250.0, style=Pro…"
      ]
     },
     "metadata": {},
     "output_type": "display_data"
    },
    {
     "name": "stdout",
     "output_type": "stream",
     "text": [
      "Epoch 197: train=7.27706, val=8.0487, took 46.422 s\n",
      "  Validation Found 51273 of 54504, added 1911 (eff 94.07%) (0.191 FP/event)\n"
     ]
    },
    {
     "data": {
      "application/vnd.jupyter.widget-view+json": {
       "model_id": "",
       "version_major": 2,
       "version_minor": 0
      },
      "text/plain": [
       "HBox(children=(FloatProgress(value=0.0, description='Training', layout=Layout(flex='2'), max=1250.0, style=Pro…"
      ]
     },
     "metadata": {},
     "output_type": "display_data"
    },
    {
     "name": "stdout",
     "output_type": "stream",
     "text": [
      "Epoch 198: train=7.27413, val=8.18112, took 45.593 s\n",
      "  Validation Found 50947 of 54504, added 1469 (eff 93.47%) (0.147 FP/event)\n"
     ]
    },
    {
     "data": {
      "application/vnd.jupyter.widget-view+json": {
       "model_id": "",
       "version_major": 2,
       "version_minor": 0
      },
      "text/plain": [
       "HBox(children=(FloatProgress(value=0.0, description='Training', layout=Layout(flex='2'), max=1250.0, style=Pro…"
      ]
     },
     "metadata": {},
     "output_type": "display_data"
    },
    {
     "name": "stdout",
     "output_type": "stream",
     "text": [
      "Epoch 199: train=7.2758, val=7.95061, took 45.548 s\n",
      "  Validation Found 51401 of 54504, added 2104 (eff 94.31%) (0.211 FP/event)\n"
     ]
    },
    {
     "data": {
      "application/vnd.jupyter.widget-view+json": {
       "model_id": "",
       "version_major": 2,
       "version_minor": 0
      },
      "text/plain": [
       "HBox(children=(FloatProgress(value=0.0, description='Training', layout=Layout(flex='2'), max=1250.0, style=Pro…"
      ]
     },
     "metadata": {},
     "output_type": "display_data"
    },
    {
     "name": "stdout",
     "output_type": "stream",
     "text": [
      "Epoch 200: train=7.27489, val=7.96755, took 45.529 s\n",
      "  Validation Found 51418 of 54504, added 2173 (eff 94.34%) (0.218 FP/event)\n"
     ]
    },
    {
     "data": {
      "application/vnd.jupyter.widget-view+json": {
       "model_id": "",
       "version_major": 2,
       "version_minor": 0
      },
      "text/plain": [
       "HBox(children=(FloatProgress(value=0.0, description='Training', layout=Layout(flex='2'), max=1250.0, style=Pro…"
      ]
     },
     "metadata": {},
     "output_type": "display_data"
    },
    {
     "name": "stdout",
     "output_type": "stream",
     "text": [
      "Epoch 201: train=7.27518, val=7.91461, took 45.574 s\n",
      "  Validation Found 51378 of 54504, added 2099 (eff 94.26%) (0.21 FP/event)\n"
     ]
    },
    {
     "data": {
      "application/vnd.jupyter.widget-view+json": {
       "model_id": "",
       "version_major": 2,
       "version_minor": 0
      },
      "text/plain": [
       "HBox(children=(FloatProgress(value=0.0, description='Training', layout=Layout(flex='2'), max=1250.0, style=Pro…"
      ]
     },
     "metadata": {},
     "output_type": "display_data"
    },
    {
     "name": "stdout",
     "output_type": "stream",
     "text": [
      "Epoch 202: train=7.27711, val=7.95476, took 45.559 s\n",
      "  Validation Found 51371 of 54504, added 1980 (eff 94.25%) (0.198 FP/event)\n"
     ]
    },
    {
     "data": {
      "application/vnd.jupyter.widget-view+json": {
       "model_id": "",
       "version_major": 2,
       "version_minor": 0
      },
      "text/plain": [
       "HBox(children=(FloatProgress(value=0.0, description='Training', layout=Layout(flex='2'), max=1250.0, style=Pro…"
      ]
     },
     "metadata": {},
     "output_type": "display_data"
    },
    {
     "name": "stdout",
     "output_type": "stream",
     "text": [
      "Epoch 203: train=7.27104, val=7.96435, took 45.562 s\n",
      "  Validation Found 51287 of 54504, added 1872 (eff 94.10%) (0.187 FP/event)\n"
     ]
    },
    {
     "data": {
      "application/vnd.jupyter.widget-view+json": {
       "model_id": "",
       "version_major": 2,
       "version_minor": 0
      },
      "text/plain": [
       "HBox(children=(FloatProgress(value=0.0, description='Training', layout=Layout(flex='2'), max=1250.0, style=Pro…"
      ]
     },
     "metadata": {},
     "output_type": "display_data"
    },
    {
     "name": "stdout",
     "output_type": "stream",
     "text": [
      "Epoch 204: train=7.27307, val=8.02285, took 45.815 s\n",
      "  Validation Found 51267 of 54504, added 1884 (eff 94.06%) (0.189 FP/event)\n"
     ]
    },
    {
     "data": {
      "application/vnd.jupyter.widget-view+json": {
       "model_id": "",
       "version_major": 2,
       "version_minor": 0
      },
      "text/plain": [
       "HBox(children=(FloatProgress(value=0.0, description='Training', layout=Layout(flex='2'), max=1250.0, style=Pro…"
      ]
     },
     "metadata": {},
     "output_type": "display_data"
    },
    {
     "name": "stdout",
     "output_type": "stream",
     "text": [
      "Epoch 205: train=7.27319, val=8.10004, took 45.904 s\n",
      "  Validation Found 51046 of 54504, added 1568 (eff 93.66%) (0.157 FP/event)\n"
     ]
    },
    {
     "data": {
      "application/vnd.jupyter.widget-view+json": {
       "model_id": "",
       "version_major": 2,
       "version_minor": 0
      },
      "text/plain": [
       "HBox(children=(FloatProgress(value=0.0, description='Training', layout=Layout(flex='2'), max=1250.0, style=Pro…"
      ]
     },
     "metadata": {},
     "output_type": "display_data"
    },
    {
     "name": "stdout",
     "output_type": "stream",
     "text": [
      "Epoch 206: train=7.26796, val=8.04109, took 45.641 s\n",
      "  Validation Found 51154 of 54504, added 1724 (eff 93.85%) (0.173 FP/event)\n"
     ]
    },
    {
     "data": {
      "application/vnd.jupyter.widget-view+json": {
       "model_id": "",
       "version_major": 2,
       "version_minor": 0
      },
      "text/plain": [
       "HBox(children=(FloatProgress(value=0.0, description='Training', layout=Layout(flex='2'), max=1250.0, style=Pro…"
      ]
     },
     "metadata": {},
     "output_type": "display_data"
    },
    {
     "name": "stdout",
     "output_type": "stream",
     "text": [
      "Epoch 207: train=7.27188, val=8.06708, took 45.6 s\n",
      "  Validation Found 51177 of 54504, added 1712 (eff 93.90%) (0.171 FP/event)\n"
     ]
    },
    {
     "data": {
      "application/vnd.jupyter.widget-view+json": {
       "model_id": "",
       "version_major": 2,
       "version_minor": 0
      },
      "text/plain": [
       "HBox(children=(FloatProgress(value=0.0, description='Training', layout=Layout(flex='2'), max=1250.0, style=Pro…"
      ]
     },
     "metadata": {},
     "output_type": "display_data"
    },
    {
     "name": "stdout",
     "output_type": "stream",
     "text": [
      "Epoch 208: train=7.27011, val=8.01285, took 45.497 s\n",
      "  Validation Found 51255 of 54504, added 1900 (eff 94.04%) (0.19 FP/event)\n"
     ]
    },
    {
     "data": {
      "application/vnd.jupyter.widget-view+json": {
       "model_id": "",
       "version_major": 2,
       "version_minor": 0
      },
      "text/plain": [
       "HBox(children=(FloatProgress(value=0.0, description='Training', layout=Layout(flex='2'), max=1250.0, style=Pro…"
      ]
     },
     "metadata": {},
     "output_type": "display_data"
    },
    {
     "name": "stdout",
     "output_type": "stream",
     "text": [
      "Epoch 209: train=7.27068, val=8.17545, took 46.129 s\n",
      "  Validation Found 51055 of 54504, added 1713 (eff 93.67%) (0.172 FP/event)\n"
     ]
    },
    {
     "data": {
      "application/vnd.jupyter.widget-view+json": {
       "model_id": "",
       "version_major": 2,
       "version_minor": 0
      },
      "text/plain": [
       "HBox(children=(FloatProgress(value=0.0, description='Training', layout=Layout(flex='2'), max=1250.0, style=Pro…"
      ]
     },
     "metadata": {},
     "output_type": "display_data"
    },
    {
     "name": "stdout",
     "output_type": "stream",
     "text": [
      "Epoch 210: train=7.26859, val=8.01744, took 45.595 s\n",
      "  Validation Found 51328 of 54504, added 1890 (eff 94.17%) (0.189 FP/event)\n"
     ]
    },
    {
     "data": {
      "application/vnd.jupyter.widget-view+json": {
       "model_id": "",
       "version_major": 2,
       "version_minor": 0
      },
      "text/plain": [
       "HBox(children=(FloatProgress(value=0.0, description='Training', layout=Layout(flex='2'), max=1250.0, style=Pro…"
      ]
     },
     "metadata": {},
     "output_type": "display_data"
    },
    {
     "name": "stdout",
     "output_type": "stream",
     "text": [
      "Epoch 211: train=7.26718, val=7.9854, took 45.564 s\n",
      "  Validation Found 51366 of 54504, added 2058 (eff 94.24%) (0.206 FP/event)\n"
     ]
    },
    {
     "data": {
      "application/vnd.jupyter.widget-view+json": {
       "model_id": "",
       "version_major": 2,
       "version_minor": 0
      },
      "text/plain": [
       "HBox(children=(FloatProgress(value=0.0, description='Training', layout=Layout(flex='2'), max=1250.0, style=Pro…"
      ]
     },
     "metadata": {},
     "output_type": "display_data"
    },
    {
     "name": "stdout",
     "output_type": "stream",
     "text": [
      "Epoch 212: train=7.26781, val=8.04339, took 45.529 s\n",
      "  Validation Found 51184 of 54504, added 1782 (eff 93.91%) (0.178 FP/event)\n"
     ]
    },
    {
     "data": {
      "application/vnd.jupyter.widget-view+json": {
       "model_id": "",
       "version_major": 2,
       "version_minor": 0
      },
      "text/plain": [
       "HBox(children=(FloatProgress(value=0.0, description='Training', layout=Layout(flex='2'), max=1250.0, style=Pro…"
      ]
     },
     "metadata": {},
     "output_type": "display_data"
    },
    {
     "name": "stdout",
     "output_type": "stream",
     "text": [
      "Epoch 213: train=7.27029, val=7.90998, took 45.519 s\n",
      "  Validation Found 51345 of 54504, added 2027 (eff 94.20%) (0.203 FP/event)\n"
     ]
    },
    {
     "data": {
      "application/vnd.jupyter.widget-view+json": {
       "model_id": "",
       "version_major": 2,
       "version_minor": 0
      },
      "text/plain": [
       "HBox(children=(FloatProgress(value=0.0, description='Training', layout=Layout(flex='2'), max=1250.0, style=Pro…"
      ]
     },
     "metadata": {},
     "output_type": "display_data"
    },
    {
     "name": "stdout",
     "output_type": "stream",
     "text": [
      "Epoch 214: train=7.26538, val=8.03076, took 45.63 s\n",
      "  Validation Found 51489 of 54504, added 2323 (eff 94.47%) (0.233 FP/event)\n"
     ]
    },
    {
     "data": {
      "application/vnd.jupyter.widget-view+json": {
       "model_id": "",
       "version_major": 2,
       "version_minor": 0
      },
      "text/plain": [
       "HBox(children=(FloatProgress(value=0.0, description='Training', layout=Layout(flex='2'), max=1250.0, style=Pro…"
      ]
     },
     "metadata": {},
     "output_type": "display_data"
    },
    {
     "name": "stdout",
     "output_type": "stream",
     "text": [
      "Epoch 215: train=7.26645, val=7.98829, took 45.626 s\n",
      "  Validation Found 51284 of 54504, added 1884 (eff 94.09%) (0.189 FP/event)\n"
     ]
    },
    {
     "data": {
      "application/vnd.jupyter.widget-view+json": {
       "model_id": "",
       "version_major": 2,
       "version_minor": 0
      },
      "text/plain": [
       "HBox(children=(FloatProgress(value=0.0, description='Training', layout=Layout(flex='2'), max=1250.0, style=Pro…"
      ]
     },
     "metadata": {},
     "output_type": "display_data"
    },
    {
     "name": "stdout",
     "output_type": "stream",
     "text": [
      "Epoch 216: train=7.26541, val=8.0064, took 45.844 s\n",
      "  Validation Found 51356 of 54504, added 2079 (eff 94.22%) (0.208 FP/event)\n"
     ]
    },
    {
     "data": {
      "application/vnd.jupyter.widget-view+json": {
       "model_id": "",
       "version_major": 2,
       "version_minor": 0
      },
      "text/plain": [
       "HBox(children=(FloatProgress(value=0.0, description='Training', layout=Layout(flex='2'), max=1250.0, style=Pro…"
      ]
     },
     "metadata": {},
     "output_type": "display_data"
    },
    {
     "name": "stdout",
     "output_type": "stream",
     "text": [
      "Epoch 217: train=7.26832, val=8.01261, took 45.744 s\n",
      "  Validation Found 51277 of 54504, added 1955 (eff 94.08%) (0.196 FP/event)\n"
     ]
    },
    {
     "data": {
      "application/vnd.jupyter.widget-view+json": {
       "model_id": "",
       "version_major": 2,
       "version_minor": 0
      },
      "text/plain": [
       "HBox(children=(FloatProgress(value=0.0, description='Training', layout=Layout(flex='2'), max=1250.0, style=Pro…"
      ]
     },
     "metadata": {},
     "output_type": "display_data"
    },
    {
     "name": "stdout",
     "output_type": "stream",
     "text": [
      "Epoch 218: train=7.26407, val=8.00598, took 45.64 s\n",
      "  Validation Found 51376 of 54504, added 2010 (eff 94.26%) (0.201 FP/event)\n"
     ]
    },
    {
     "data": {
      "application/vnd.jupyter.widget-view+json": {
       "model_id": "",
       "version_major": 2,
       "version_minor": 0
      },
      "text/plain": [
       "HBox(children=(FloatProgress(value=0.0, description='Training', layout=Layout(flex='2'), max=1250.0, style=Pro…"
      ]
     },
     "metadata": {},
     "output_type": "display_data"
    },
    {
     "name": "stdout",
     "output_type": "stream",
     "text": [
      "Epoch 219: train=7.2625, val=8.02743, took 45.573 s\n",
      "  Validation Found 51328 of 54504, added 1975 (eff 94.17%) (0.198 FP/event)\n"
     ]
    },
    {
     "data": {
      "application/vnd.jupyter.widget-view+json": {
       "model_id": "",
       "version_major": 2,
       "version_minor": 0
      },
      "text/plain": [
       "HBox(children=(FloatProgress(value=0.0, description='Training', layout=Layout(flex='2'), max=1250.0, style=Pro…"
      ]
     },
     "metadata": {},
     "output_type": "display_data"
    },
    {
     "name": "stdout",
     "output_type": "stream",
     "text": [
      "Epoch 220: train=7.26226, val=7.93811, took 45.528 s\n",
      "  Validation Found 51371 of 54504, added 2035 (eff 94.25%) (0.204 FP/event)\n"
     ]
    },
    {
     "data": {
      "application/vnd.jupyter.widget-view+json": {
       "model_id": "",
       "version_major": 2,
       "version_minor": 0
      },
      "text/plain": [
       "HBox(children=(FloatProgress(value=0.0, description='Training', layout=Layout(flex='2'), max=1250.0, style=Pro…"
      ]
     },
     "metadata": {},
     "output_type": "display_data"
    },
    {
     "name": "stdout",
     "output_type": "stream",
     "text": [
      "Epoch 221: train=7.26388, val=8.09217, took 45.865 s\n",
      "  Validation Found 51117 of 54504, added 1689 (eff 93.79%) (0.169 FP/event)\n"
     ]
    },
    {
     "data": {
      "application/vnd.jupyter.widget-view+json": {
       "model_id": "",
       "version_major": 2,
       "version_minor": 0
      },
      "text/plain": [
       "HBox(children=(FloatProgress(value=0.0, description='Training', layout=Layout(flex='2'), max=1250.0, style=Pro…"
      ]
     },
     "metadata": {},
     "output_type": "display_data"
    },
    {
     "name": "stdout",
     "output_type": "stream",
     "text": [
      "Epoch 222: train=7.26196, val=8.10184, took 45.549 s\n",
      "  Validation Found 51188 of 54504, added 1771 (eff 93.92%) (0.177 FP/event)\n"
     ]
    },
    {
     "data": {
      "application/vnd.jupyter.widget-view+json": {
       "model_id": "",
       "version_major": 2,
       "version_minor": 0
      },
      "text/plain": [
       "HBox(children=(FloatProgress(value=0.0, description='Training', layout=Layout(flex='2'), max=1250.0, style=Pro…"
      ]
     },
     "metadata": {},
     "output_type": "display_data"
    },
    {
     "name": "stdout",
     "output_type": "stream",
     "text": [
      "Epoch 223: train=7.2619, val=8.0804, took 45.659 s\n",
      "  Validation Found 51350 of 54504, added 2122 (eff 94.21%) (0.213 FP/event)\n"
     ]
    },
    {
     "data": {
      "application/vnd.jupyter.widget-view+json": {
       "model_id": "",
       "version_major": 2,
       "version_minor": 0
      },
      "text/plain": [
       "HBox(children=(FloatProgress(value=0.0, description='Training', layout=Layout(flex='2'), max=1250.0, style=Pro…"
      ]
     },
     "metadata": {},
     "output_type": "display_data"
    },
    {
     "name": "stdout",
     "output_type": "stream",
     "text": [
      "Epoch 224: train=7.26563, val=7.95519, took 45.562 s\n",
      "  Validation Found 51554 of 54504, added 2431 (eff 94.59%) (0.243 FP/event)\n"
     ]
    },
    {
     "data": {
      "application/vnd.jupyter.widget-view+json": {
       "model_id": "",
       "version_major": 2,
       "version_minor": 0
      },
      "text/plain": [
       "HBox(children=(FloatProgress(value=0.0, description='Training', layout=Layout(flex='2'), max=1250.0, style=Pro…"
      ]
     },
     "metadata": {},
     "output_type": "display_data"
    },
    {
     "name": "stdout",
     "output_type": "stream",
     "text": [
      "Epoch 225: train=7.26029, val=8.00367, took 45.501 s\n",
      "  Validation Found 51305 of 54504, added 2009 (eff 94.13%) (0.201 FP/event)\n"
     ]
    },
    {
     "data": {
      "application/vnd.jupyter.widget-view+json": {
       "model_id": "",
       "version_major": 2,
       "version_minor": 0
      },
      "text/plain": [
       "HBox(children=(FloatProgress(value=0.0, description='Training', layout=Layout(flex='2'), max=1250.0, style=Pro…"
      ]
     },
     "metadata": {},
     "output_type": "display_data"
    },
    {
     "name": "stdout",
     "output_type": "stream",
     "text": [
      "Epoch 226: train=7.2626, val=8.15158, took 45.508 s\n",
      "  Validation Found 51115 of 54504, added 1668 (eff 93.78%) (0.167 FP/event)\n"
     ]
    },
    {
     "data": {
      "application/vnd.jupyter.widget-view+json": {
       "model_id": "",
       "version_major": 2,
       "version_minor": 0
      },
      "text/plain": [
       "HBox(children=(FloatProgress(value=0.0, description='Training', layout=Layout(flex='2'), max=1250.0, style=Pro…"
      ]
     },
     "metadata": {},
     "output_type": "display_data"
    },
    {
     "name": "stdout",
     "output_type": "stream",
     "text": [
      "Epoch 227: train=7.26196, val=8.06215, took 45.74 s\n",
      "  Validation Found 51125 of 54504, added 1679 (eff 93.80%) (0.168 FP/event)\n"
     ]
    },
    {
     "data": {
      "application/vnd.jupyter.widget-view+json": {
       "model_id": "",
       "version_major": 2,
       "version_minor": 0
      },
      "text/plain": [
       "HBox(children=(FloatProgress(value=0.0, description='Training', layout=Layout(flex='2'), max=1250.0, style=Pro…"
      ]
     },
     "metadata": {},
     "output_type": "display_data"
    },
    {
     "name": "stdout",
     "output_type": "stream",
     "text": [
      "Epoch 228: train=7.26388, val=8.02998, took 45.794 s\n",
      "  Validation Found 51335 of 54504, added 2150 (eff 94.19%) (0.215 FP/event)\n"
     ]
    },
    {
     "data": {
      "application/vnd.jupyter.widget-view+json": {
       "model_id": "",
       "version_major": 2,
       "version_minor": 0
      },
      "text/plain": [
       "HBox(children=(FloatProgress(value=0.0, description='Training', layout=Layout(flex='2'), max=1250.0, style=Pro…"
      ]
     },
     "metadata": {},
     "output_type": "display_data"
    },
    {
     "name": "stdout",
     "output_type": "stream",
     "text": [
      "Epoch 229: train=7.26436, val=8.05473, took 45.675 s\n",
      "  Validation Found 51146 of 54504, added 1714 (eff 93.84%) (0.172 FP/event)\n"
     ]
    },
    {
     "data": {
      "application/vnd.jupyter.widget-view+json": {
       "model_id": "",
       "version_major": 2,
       "version_minor": 0
      },
      "text/plain": [
       "HBox(children=(FloatProgress(value=0.0, description='Training', layout=Layout(flex='2'), max=1250.0, style=Pro…"
      ]
     },
     "metadata": {},
     "output_type": "display_data"
    },
    {
     "name": "stdout",
     "output_type": "stream",
     "text": [
      "Epoch 230: train=7.26161, val=7.98467, took 45.626 s\n",
      "  Validation Found 51406 of 54504, added 2081 (eff 94.32%) (0.208 FP/event)\n"
     ]
    },
    {
     "data": {
      "application/vnd.jupyter.widget-view+json": {
       "model_id": "",
       "version_major": 2,
       "version_minor": 0
      },
      "text/plain": [
       "HBox(children=(FloatProgress(value=0.0, description='Training', layout=Layout(flex='2'), max=1250.0, style=Pro…"
      ]
     },
     "metadata": {},
     "output_type": "display_data"
    },
    {
     "name": "stdout",
     "output_type": "stream",
     "text": [
      "Epoch 231: train=7.25645, val=7.98517, took 45.563 s\n",
      "  Validation Found 51418 of 54504, added 2126 (eff 94.34%) (0.213 FP/event)\n"
     ]
    },
    {
     "data": {
      "application/vnd.jupyter.widget-view+json": {
       "model_id": "",
       "version_major": 2,
       "version_minor": 0
      },
      "text/plain": [
       "HBox(children=(FloatProgress(value=0.0, description='Training', layout=Layout(flex='2'), max=1250.0, style=Pro…"
      ]
     },
     "metadata": {},
     "output_type": "display_data"
    },
    {
     "name": "stdout",
     "output_type": "stream",
     "text": [
      "Epoch 232: train=7.25953, val=8.00575, took 45.62 s\n",
      "  Validation Found 51278 of 54504, added 1845 (eff 94.08%) (0.185 FP/event)\n"
     ]
    },
    {
     "data": {
      "application/vnd.jupyter.widget-view+json": {
       "model_id": "",
       "version_major": 2,
       "version_minor": 0
      },
      "text/plain": [
       "HBox(children=(FloatProgress(value=0.0, description='Training', layout=Layout(flex='2'), max=1250.0, style=Pro…"
      ]
     },
     "metadata": {},
     "output_type": "display_data"
    },
    {
     "name": "stdout",
     "output_type": "stream",
     "text": [
      "Epoch 233: train=7.25525, val=7.96615, took 45.83 s\n",
      "  Validation Found 51490 of 54504, added 2294 (eff 94.47%) (0.23 FP/event)\n"
     ]
    },
    {
     "data": {
      "application/vnd.jupyter.widget-view+json": {
       "model_id": "",
       "version_major": 2,
       "version_minor": 0
      },
      "text/plain": [
       "HBox(children=(FloatProgress(value=0.0, description='Training', layout=Layout(flex='2'), max=1250.0, style=Pro…"
      ]
     },
     "metadata": {},
     "output_type": "display_data"
    },
    {
     "name": "stdout",
     "output_type": "stream",
     "text": [
      "Epoch 234: train=7.26181, val=8.03131, took 45.687 s\n",
      "  Validation Found 51279 of 54504, added 1902 (eff 94.08%) (0.19 FP/event)\n"
     ]
    },
    {
     "data": {
      "application/vnd.jupyter.widget-view+json": {
       "model_id": "",
       "version_major": 2,
       "version_minor": 0
      },
      "text/plain": [
       "HBox(children=(FloatProgress(value=0.0, description='Training', layout=Layout(flex='2'), max=1250.0, style=Pro…"
      ]
     },
     "metadata": {},
     "output_type": "display_data"
    },
    {
     "name": "stdout",
     "output_type": "stream",
     "text": [
      "Epoch 235: train=7.25476, val=7.9579, took 45.608 s\n",
      "  Validation Found 51497 of 54504, added 2312 (eff 94.48%) (0.232 FP/event)\n"
     ]
    },
    {
     "data": {
      "application/vnd.jupyter.widget-view+json": {
       "model_id": "",
       "version_major": 2,
       "version_minor": 0
      },
      "text/plain": [
       "HBox(children=(FloatProgress(value=0.0, description='Training', layout=Layout(flex='2'), max=1250.0, style=Pro…"
      ]
     },
     "metadata": {},
     "output_type": "display_data"
    },
    {
     "name": "stdout",
     "output_type": "stream",
     "text": [
      "Epoch 236: train=7.25773, val=8.06586, took 45.693 s\n",
      "  Validation Found 51277 of 54504, added 1949 (eff 94.08%) (0.195 FP/event)\n"
     ]
    },
    {
     "data": {
      "application/vnd.jupyter.widget-view+json": {
       "model_id": "",
       "version_major": 2,
       "version_minor": 0
      },
      "text/plain": [
       "HBox(children=(FloatProgress(value=0.0, description='Training', layout=Layout(flex='2'), max=1250.0, style=Pro…"
      ]
     },
     "metadata": {},
     "output_type": "display_data"
    },
    {
     "name": "stdout",
     "output_type": "stream",
     "text": [
      "Epoch 237: train=7.25445, val=8.0266, took 45.571 s\n",
      "  Validation Found 51238 of 54504, added 1824 (eff 94.01%) (0.183 FP/event)\n"
     ]
    },
    {
     "data": {
      "application/vnd.jupyter.widget-view+json": {
       "model_id": "",
       "version_major": 2,
       "version_minor": 0
      },
      "text/plain": [
       "HBox(children=(FloatProgress(value=0.0, description='Training', layout=Layout(flex='2'), max=1250.0, style=Pro…"
      ]
     },
     "metadata": {},
     "output_type": "display_data"
    },
    {
     "name": "stdout",
     "output_type": "stream",
     "text": [
      "Epoch 238: train=7.25779, val=8.11295, took 45.944 s\n",
      "  Validation Found 51133 of 54504, added 1665 (eff 93.82%) (0.167 FP/event)\n"
     ]
    },
    {
     "data": {
      "application/vnd.jupyter.widget-view+json": {
       "model_id": "",
       "version_major": 2,
       "version_minor": 0
      },
      "text/plain": [
       "HBox(children=(FloatProgress(value=0.0, description='Training', layout=Layout(flex='2'), max=1250.0, style=Pro…"
      ]
     },
     "metadata": {},
     "output_type": "display_data"
    },
    {
     "name": "stdout",
     "output_type": "stream",
     "text": [
      "Epoch 239: train=7.25936, val=7.99463, took 45.989 s\n",
      "  Validation Found 51280 of 54504, added 1923 (eff 94.08%) (0.193 FP/event)\n"
     ]
    },
    {
     "data": {
      "application/vnd.jupyter.widget-view+json": {
       "model_id": "",
       "version_major": 2,
       "version_minor": 0
      },
      "text/plain": [
       "HBox(children=(FloatProgress(value=0.0, description='Training', layout=Layout(flex='2'), max=1250.0, style=Pro…"
      ]
     },
     "metadata": {},
     "output_type": "display_data"
    },
    {
     "name": "stdout",
     "output_type": "stream",
     "text": [
      "Epoch 240: train=7.25425, val=8.08884, took 45.846 s\n",
      "  Validation Found 51093 of 54504, added 1667 (eff 93.74%) (0.167 FP/event)\n"
     ]
    },
    {
     "data": {
      "application/vnd.jupyter.widget-view+json": {
       "model_id": "",
       "version_major": 2,
       "version_minor": 0
      },
      "text/plain": [
       "HBox(children=(FloatProgress(value=0.0, description='Training', layout=Layout(flex='2'), max=1250.0, style=Pro…"
      ]
     },
     "metadata": {},
     "output_type": "display_data"
    },
    {
     "name": "stdout",
     "output_type": "stream",
     "text": [
      "Epoch 241: train=7.25134, val=7.98684, took 45.695 s\n",
      "  Validation Found 51283 of 54504, added 1960 (eff 94.09%) (0.196 FP/event)\n"
     ]
    },
    {
     "data": {
      "application/vnd.jupyter.widget-view+json": {
       "model_id": "",
       "version_major": 2,
       "version_minor": 0
      },
      "text/plain": [
       "HBox(children=(FloatProgress(value=0.0, description='Training', layout=Layout(flex='2'), max=1250.0, style=Pro…"
      ]
     },
     "metadata": {},
     "output_type": "display_data"
    },
    {
     "name": "stdout",
     "output_type": "stream",
     "text": [
      "Epoch 242: train=7.25335, val=8.06248, took 45.607 s\n",
      "  Validation Found 51262 of 54504, added 1890 (eff 94.05%) (0.189 FP/event)\n"
     ]
    },
    {
     "data": {
      "application/vnd.jupyter.widget-view+json": {
       "model_id": "",
       "version_major": 2,
       "version_minor": 0
      },
      "text/plain": [
       "HBox(children=(FloatProgress(value=0.0, description='Training', layout=Layout(flex='2'), max=1250.0, style=Pro…"
      ]
     },
     "metadata": {},
     "output_type": "display_data"
    },
    {
     "name": "stdout",
     "output_type": "stream",
     "text": [
      "Epoch 243: train=7.25062, val=8.10067, took 45.515 s\n",
      "  Validation Found 51103 of 54504, added 1643 (eff 93.76%) (0.165 FP/event)\n"
     ]
    },
    {
     "data": {
      "application/vnd.jupyter.widget-view+json": {
       "model_id": "",
       "version_major": 2,
       "version_minor": 0
      },
      "text/plain": [
       "HBox(children=(FloatProgress(value=0.0, description='Training', layout=Layout(flex='2'), max=1250.0, style=Pro…"
      ]
     },
     "metadata": {},
     "output_type": "display_data"
    },
    {
     "name": "stdout",
     "output_type": "stream",
     "text": [
      "Epoch 244: train=7.2541, val=7.93465, took 45.711 s\n",
      "  Validation Found 51499 of 54504, added 2383 (eff 94.49%) (0.239 FP/event)\n"
     ]
    },
    {
     "data": {
      "application/vnd.jupyter.widget-view+json": {
       "model_id": "",
       "version_major": 2,
       "version_minor": 0
      },
      "text/plain": [
       "HBox(children=(FloatProgress(value=0.0, description='Training', layout=Layout(flex='2'), max=1250.0, style=Pro…"
      ]
     },
     "metadata": {},
     "output_type": "display_data"
    },
    {
     "name": "stdout",
     "output_type": "stream",
     "text": [
      "Epoch 245: train=7.24955, val=8.13872, took 45.768 s\n",
      "  Validation Found 51120 of 54504, added 1723 (eff 93.79%) (0.173 FP/event)\n"
     ]
    },
    {
     "data": {
      "application/vnd.jupyter.widget-view+json": {
       "model_id": "",
       "version_major": 2,
       "version_minor": 0
      },
      "text/plain": [
       "HBox(children=(FloatProgress(value=0.0, description='Training', layout=Layout(flex='2'), max=1250.0, style=Pro…"
      ]
     },
     "metadata": {},
     "output_type": "display_data"
    },
    {
     "name": "stdout",
     "output_type": "stream",
     "text": [
      "Epoch 246: train=7.24876, val=8.06901, took 45.667 s\n",
      "  Validation Found 51172 of 54504, added 1794 (eff 93.89%) (0.18 FP/event)\n"
     ]
    },
    {
     "data": {
      "application/vnd.jupyter.widget-view+json": {
       "model_id": "",
       "version_major": 2,
       "version_minor": 0
      },
      "text/plain": [
       "HBox(children=(FloatProgress(value=0.0, description='Training', layout=Layout(flex='2'), max=1250.0, style=Pro…"
      ]
     },
     "metadata": {},
     "output_type": "display_data"
    },
    {
     "name": "stdout",
     "output_type": "stream",
     "text": [
      "Epoch 247: train=7.25118, val=7.92029, took 45.497 s\n",
      "  Validation Found 51456 of 54504, added 2226 (eff 94.41%) (0.223 FP/event)\n"
     ]
    },
    {
     "data": {
      "application/vnd.jupyter.widget-view+json": {
       "model_id": "",
       "version_major": 2,
       "version_minor": 0
      },
      "text/plain": [
       "HBox(children=(FloatProgress(value=0.0, description='Training', layout=Layout(flex='2'), max=1250.0, style=Pro…"
      ]
     },
     "metadata": {},
     "output_type": "display_data"
    },
    {
     "name": "stdout",
     "output_type": "stream",
     "text": [
      "Epoch 248: train=7.2526, val=8.08878, took 45.458 s\n",
      "  Validation Found 51095 of 54504, added 1705 (eff 93.75%) (0.171 FP/event)\n"
     ]
    },
    {
     "data": {
      "application/vnd.jupyter.widget-view+json": {
       "model_id": "",
       "version_major": 2,
       "version_minor": 0
      },
      "text/plain": [
       "HBox(children=(FloatProgress(value=0.0, description='Training', layout=Layout(flex='2'), max=1250.0, style=Pro…"
      ]
     },
     "metadata": {},
     "output_type": "display_data"
    },
    {
     "name": "stdout",
     "output_type": "stream",
     "text": [
      "Epoch 249: train=7.25055, val=7.99818, took 46.293 s\n",
      "  Validation Found 51457 of 54504, added 2220 (eff 94.41%) (0.222 FP/event)\n"
     ]
    },
    {
     "data": {
      "application/vnd.jupyter.widget-view+json": {
       "model_id": "",
       "version_major": 2,
       "version_minor": 0
      },
      "text/plain": [
       "HBox(children=(FloatProgress(value=0.0, description='Training', layout=Layout(flex='2'), max=1250.0, style=Pro…"
      ]
     },
     "metadata": {},
     "output_type": "display_data"
    },
    {
     "name": "stdout",
     "output_type": "stream",
     "text": [
      "Epoch 250: train=7.25027, val=7.96684, took 46.321 s\n",
      "  Validation Found 51348 of 54504, added 2009 (eff 94.21%) (0.201 FP/event)\n"
     ]
    },
    {
     "data": {
      "application/vnd.jupyter.widget-view+json": {
       "model_id": "",
       "version_major": 2,
       "version_minor": 0
      },
      "text/plain": [
       "HBox(children=(FloatProgress(value=0.0, description='Training', layout=Layout(flex='2'), max=1250.0, style=Pro…"
      ]
     },
     "metadata": {},
     "output_type": "display_data"
    },
    {
     "name": "stdout",
     "output_type": "stream",
     "text": [
      "Epoch 251: train=7.25082, val=8.02533, took 45.525 s\n",
      "  Validation Found 51321 of 54504, added 2005 (eff 94.16%) (0.201 FP/event)\n"
     ]
    },
    {
     "data": {
      "application/vnd.jupyter.widget-view+json": {
       "model_id": "",
       "version_major": 2,
       "version_minor": 0
      },
      "text/plain": [
       "HBox(children=(FloatProgress(value=0.0, description='Training', layout=Layout(flex='2'), max=1250.0, style=Pro…"
      ]
     },
     "metadata": {},
     "output_type": "display_data"
    },
    {
     "name": "stdout",
     "output_type": "stream",
     "text": [
      "Epoch 252: train=7.24849, val=8.00798, took 45.451 s\n",
      "  Validation Found 51478 of 54504, added 2382 (eff 94.45%) (0.239 FP/event)\n"
     ]
    },
    {
     "data": {
      "application/vnd.jupyter.widget-view+json": {
       "model_id": "",
       "version_major": 2,
       "version_minor": 0
      },
      "text/plain": [
       "HBox(children=(FloatProgress(value=0.0, description='Training', layout=Layout(flex='2'), max=1250.0, style=Pro…"
      ]
     },
     "metadata": {},
     "output_type": "display_data"
    },
    {
     "name": "stdout",
     "output_type": "stream",
     "text": [
      "Epoch 253: train=7.24494, val=8.03201, took 45.462 s\n",
      "  Validation Found 51149 of 54504, added 1668 (eff 93.84%) (0.167 FP/event)\n"
     ]
    },
    {
     "data": {
      "application/vnd.jupyter.widget-view+json": {
       "model_id": "",
       "version_major": 2,
       "version_minor": 0
      },
      "text/plain": [
       "HBox(children=(FloatProgress(value=0.0, description='Training', layout=Layout(flex='2'), max=1250.0, style=Pro…"
      ]
     },
     "metadata": {},
     "output_type": "display_data"
    },
    {
     "name": "stdout",
     "output_type": "stream",
     "text": [
      "Epoch 254: train=7.24814, val=8.06464, took 45.468 s\n",
      "  Validation Found 51320 of 54504, added 1987 (eff 94.16%) (0.199 FP/event)\n"
     ]
    },
    {
     "data": {
      "application/vnd.jupyter.widget-view+json": {
       "model_id": "",
       "version_major": 2,
       "version_minor": 0
      },
      "text/plain": [
       "HBox(children=(FloatProgress(value=0.0, description='Training', layout=Layout(flex='2'), max=1250.0, style=Pro…"
      ]
     },
     "metadata": {},
     "output_type": "display_data"
    },
    {
     "name": "stdout",
     "output_type": "stream",
     "text": [
      "Epoch 255: train=7.24641, val=8.10732, took 45.524 s\n",
      "  Validation Found 51064 of 54504, added 1617 (eff 93.69%) (0.162 FP/event)\n"
     ]
    },
    {
     "data": {
      "application/vnd.jupyter.widget-view+json": {
       "model_id": "",
       "version_major": 2,
       "version_minor": 0
      },
      "text/plain": [
       "HBox(children=(FloatProgress(value=0.0, description='Training', layout=Layout(flex='2'), max=1250.0, style=Pro…"
      ]
     },
     "metadata": {},
     "output_type": "display_data"
    },
    {
     "name": "stdout",
     "output_type": "stream",
     "text": [
      "Epoch 256: train=7.24762, val=7.95549, took 45.442 s\n",
      "  Validation Found 51477 of 54504, added 2308 (eff 94.45%) (0.231 FP/event)\n"
     ]
    },
    {
     "data": {
      "application/vnd.jupyter.widget-view+json": {
       "model_id": "",
       "version_major": 2,
       "version_minor": 0
      },
      "text/plain": [
       "HBox(children=(FloatProgress(value=0.0, description='Training', layout=Layout(flex='2'), max=1250.0, style=Pro…"
      ]
     },
     "metadata": {},
     "output_type": "display_data"
    },
    {
     "name": "stdout",
     "output_type": "stream",
     "text": [
      "Epoch 257: train=7.24867, val=7.98925, took 45.434 s\n",
      "  Validation Found 51438 of 54504, added 2215 (eff 94.37%) (0.222 FP/event)\n"
     ]
    },
    {
     "data": {
      "application/vnd.jupyter.widget-view+json": {
       "model_id": "",
       "version_major": 2,
       "version_minor": 0
      },
      "text/plain": [
       "HBox(children=(FloatProgress(value=0.0, description='Training', layout=Layout(flex='2'), max=1250.0, style=Pro…"
      ]
     },
     "metadata": {},
     "output_type": "display_data"
    },
    {
     "name": "stdout",
     "output_type": "stream",
     "text": [
      "Epoch 258: train=7.24558, val=8.0262, took 46.152 s\n",
      "  Validation Found 51284 of 54504, added 1932 (eff 94.09%) (0.193 FP/event)\n"
     ]
    },
    {
     "data": {
      "application/vnd.jupyter.widget-view+json": {
       "model_id": "",
       "version_major": 2,
       "version_minor": 0
      },
      "text/plain": [
       "HBox(children=(FloatProgress(value=0.0, description='Training', layout=Layout(flex='2'), max=1250.0, style=Pro…"
      ]
     },
     "metadata": {},
     "output_type": "display_data"
    },
    {
     "name": "stdout",
     "output_type": "stream",
     "text": [
      "Epoch 259: train=7.24626, val=7.98391, took 45.503 s\n",
      "  Validation Found 51344 of 54504, added 1993 (eff 94.20%) (0.2 FP/event)\n"
     ]
    },
    {
     "data": {
      "application/vnd.jupyter.widget-view+json": {
       "model_id": "",
       "version_major": 2,
       "version_minor": 0
      },
      "text/plain": [
       "HBox(children=(FloatProgress(value=0.0, description='Training', layout=Layout(flex='2'), max=1250.0, style=Pro…"
      ]
     },
     "metadata": {},
     "output_type": "display_data"
    },
    {
     "name": "stdout",
     "output_type": "stream",
     "text": [
      "Epoch 260: train=7.24642, val=8.10659, took 45.974 s\n",
      "  Validation Found 51097 of 54504, added 1692 (eff 93.75%) (0.169 FP/event)\n"
     ]
    },
    {
     "data": {
      "application/vnd.jupyter.widget-view+json": {
       "model_id": "",
       "version_major": 2,
       "version_minor": 0
      },
      "text/plain": [
       "HBox(children=(FloatProgress(value=0.0, description='Training', layout=Layout(flex='2'), max=1250.0, style=Pro…"
      ]
     },
     "metadata": {},
     "output_type": "display_data"
    },
    {
     "name": "stdout",
     "output_type": "stream",
     "text": [
      "Epoch 261: train=7.24785, val=7.97508, took 45.962 s\n",
      "  Validation Found 51388 of 54504, added 2050 (eff 94.28%) (0.205 FP/event)\n"
     ]
    },
    {
     "data": {
      "application/vnd.jupyter.widget-view+json": {
       "model_id": "",
       "version_major": 2,
       "version_minor": 0
      },
      "text/plain": [
       "HBox(children=(FloatProgress(value=0.0, description='Training', layout=Layout(flex='2'), max=1250.0, style=Pro…"
      ]
     },
     "metadata": {},
     "output_type": "display_data"
    },
    {
     "name": "stdout",
     "output_type": "stream",
     "text": [
      "Epoch 262: train=7.24565, val=7.93162, took 45.663 s\n",
      "  Validation Found 51493 of 54504, added 2323 (eff 94.48%) (0.233 FP/event)\n"
     ]
    },
    {
     "data": {
      "application/vnd.jupyter.widget-view+json": {
       "model_id": "",
       "version_major": 2,
       "version_minor": 0
      },
      "text/plain": [
       "HBox(children=(FloatProgress(value=0.0, description='Training', layout=Layout(flex='2'), max=1250.0, style=Pro…"
      ]
     },
     "metadata": {},
     "output_type": "display_data"
    },
    {
     "name": "stdout",
     "output_type": "stream",
     "text": [
      "Epoch 263: train=7.24283, val=8.07474, took 45.439 s\n",
      "  Validation Found 51118 of 54504, added 1739 (eff 93.79%) (0.174 FP/event)\n"
     ]
    },
    {
     "data": {
      "application/vnd.jupyter.widget-view+json": {
       "model_id": "",
       "version_major": 2,
       "version_minor": 0
      },
      "text/plain": [
       "HBox(children=(FloatProgress(value=0.0, description='Training', layout=Layout(flex='2'), max=1250.0, style=Pro…"
      ]
     },
     "metadata": {},
     "output_type": "display_data"
    },
    {
     "name": "stdout",
     "output_type": "stream",
     "text": [
      "Epoch 264: train=7.24473, val=7.96011, took 45.582 s\n",
      "  Validation Found 51378 of 54504, added 2094 (eff 94.26%) (0.21 FP/event)\n"
     ]
    },
    {
     "data": {
      "application/vnd.jupyter.widget-view+json": {
       "model_id": "",
       "version_major": 2,
       "version_minor": 0
      },
      "text/plain": [
       "HBox(children=(FloatProgress(value=0.0, description='Training', layout=Layout(flex='2'), max=1250.0, style=Pro…"
      ]
     },
     "metadata": {},
     "output_type": "display_data"
    },
    {
     "name": "stdout",
     "output_type": "stream",
     "text": [
      "Epoch 265: train=7.24665, val=8.01764, took 45.484 s\n",
      "  Validation Found 51520 of 54504, added 2349 (eff 94.53%) (0.235 FP/event)\n"
     ]
    },
    {
     "data": {
      "application/vnd.jupyter.widget-view+json": {
       "model_id": "",
       "version_major": 2,
       "version_minor": 0
      },
      "text/plain": [
       "HBox(children=(FloatProgress(value=0.0, description='Training', layout=Layout(flex='2'), max=1250.0, style=Pro…"
      ]
     },
     "metadata": {},
     "output_type": "display_data"
    },
    {
     "name": "stdout",
     "output_type": "stream",
     "text": [
      "Epoch 266: train=7.24343, val=8.09632, took 45.445 s\n",
      "  Validation Found 51166 of 54504, added 1781 (eff 93.88%) (0.178 FP/event)\n"
     ]
    },
    {
     "data": {
      "application/vnd.jupyter.widget-view+json": {
       "model_id": "",
       "version_major": 2,
       "version_minor": 0
      },
      "text/plain": [
       "HBox(children=(FloatProgress(value=0.0, description='Training', layout=Layout(flex='2'), max=1250.0, style=Pro…"
      ]
     },
     "metadata": {},
     "output_type": "display_data"
    },
    {
     "name": "stdout",
     "output_type": "stream",
     "text": [
      "Epoch 267: train=7.24278, val=8.0598, took 45.697 s\n",
      "  Validation Found 51184 of 54504, added 1749 (eff 93.91%) (0.175 FP/event)\n"
     ]
    },
    {
     "data": {
      "application/vnd.jupyter.widget-view+json": {
       "model_id": "",
       "version_major": 2,
       "version_minor": 0
      },
      "text/plain": [
       "HBox(children=(FloatProgress(value=0.0, description='Training', layout=Layout(flex='2'), max=1250.0, style=Pro…"
      ]
     },
     "metadata": {},
     "output_type": "display_data"
    },
    {
     "name": "stdout",
     "output_type": "stream",
     "text": [
      "Epoch 268: train=7.24191, val=7.93463, took 45.463 s\n",
      "  Validation Found 51481 of 54504, added 2233 (eff 94.45%) (0.224 FP/event)\n"
     ]
    },
    {
     "data": {
      "application/vnd.jupyter.widget-view+json": {
       "model_id": "",
       "version_major": 2,
       "version_minor": 0
      },
      "text/plain": [
       "HBox(children=(FloatProgress(value=0.0, description='Training', layout=Layout(flex='2'), max=1250.0, style=Pro…"
      ]
     },
     "metadata": {},
     "output_type": "display_data"
    },
    {
     "name": "stdout",
     "output_type": "stream",
     "text": [
      "Epoch 269: train=7.24003, val=8.02398, took 45.515 s\n",
      "  Validation Found 51234 of 54504, added 1793 (eff 94.00%) (0.18 FP/event)\n"
     ]
    },
    {
     "data": {
      "application/vnd.jupyter.widget-view+json": {
       "model_id": "",
       "version_major": 2,
       "version_minor": 0
      },
      "text/plain": [
       "HBox(children=(FloatProgress(value=0.0, description='Training', layout=Layout(flex='2'), max=1250.0, style=Pro…"
      ]
     },
     "metadata": {},
     "output_type": "display_data"
    },
    {
     "name": "stdout",
     "output_type": "stream",
     "text": [
      "Epoch 270: train=7.2432, val=8.04159, took 45.478 s\n",
      "  Validation Found 51377 of 54504, added 2093 (eff 94.26%) (0.21 FP/event)\n"
     ]
    },
    {
     "data": {
      "application/vnd.jupyter.widget-view+json": {
       "model_id": "",
       "version_major": 2,
       "version_minor": 0
      },
      "text/plain": [
       "HBox(children=(FloatProgress(value=0.0, description='Training', layout=Layout(flex='2'), max=1250.0, style=Pro…"
      ]
     },
     "metadata": {},
     "output_type": "display_data"
    },
    {
     "name": "stdout",
     "output_type": "stream",
     "text": [
      "Epoch 271: train=7.24152, val=8.13321, took 45.451 s\n",
      "  Validation Found 51235 of 54504, added 1861 (eff 94.00%) (0.186 FP/event)\n"
     ]
    },
    {
     "data": {
      "application/vnd.jupyter.widget-view+json": {
       "model_id": "",
       "version_major": 2,
       "version_minor": 0
      },
      "text/plain": [
       "HBox(children=(FloatProgress(value=0.0, description='Training', layout=Layout(flex='2'), max=1250.0, style=Pro…"
      ]
     },
     "metadata": {},
     "output_type": "display_data"
    },
    {
     "name": "stdout",
     "output_type": "stream",
     "text": [
      "Epoch 272: train=7.23892, val=8.01375, took 45.69 s\n",
      "  Validation Found 51223 of 54504, added 1821 (eff 93.98%) (0.182 FP/event)\n"
     ]
    },
    {
     "data": {
      "application/vnd.jupyter.widget-view+json": {
       "model_id": "",
       "version_major": 2,
       "version_minor": 0
      },
      "text/plain": [
       "HBox(children=(FloatProgress(value=0.0, description='Training', layout=Layout(flex='2'), max=1250.0, style=Pro…"
      ]
     },
     "metadata": {},
     "output_type": "display_data"
    },
    {
     "name": "stdout",
     "output_type": "stream",
     "text": [
      "Epoch 273: train=7.23949, val=8.01212, took 45.563 s\n",
      "  Validation Found 51384 of 54504, added 2053 (eff 94.28%) (0.206 FP/event)\n"
     ]
    },
    {
     "data": {
      "application/vnd.jupyter.widget-view+json": {
       "model_id": "",
       "version_major": 2,
       "version_minor": 0
      },
      "text/plain": [
       "HBox(children=(FloatProgress(value=0.0, description='Training', layout=Layout(flex='2'), max=1250.0, style=Pro…"
      ]
     },
     "metadata": {},
     "output_type": "display_data"
    },
    {
     "name": "stdout",
     "output_type": "stream",
     "text": [
      "Epoch 274: train=7.23917, val=7.92402, took 45.535 s\n",
      "  Validation Found 51542 of 54504, added 2490 (eff 94.57%) (0.249 FP/event)\n"
     ]
    },
    {
     "data": {
      "application/vnd.jupyter.widget-view+json": {
       "model_id": "",
       "version_major": 2,
       "version_minor": 0
      },
      "text/plain": [
       "HBox(children=(FloatProgress(value=0.0, description='Training', layout=Layout(flex='2'), max=1250.0, style=Pro…"
      ]
     },
     "metadata": {},
     "output_type": "display_data"
    },
    {
     "name": "stdout",
     "output_type": "stream",
     "text": [
      "Epoch 275: train=7.24087, val=7.96165, took 45.489 s\n",
      "  Validation Found 51495 of 54504, added 2293 (eff 94.48%) (0.23 FP/event)\n"
     ]
    },
    {
     "data": {
      "application/vnd.jupyter.widget-view+json": {
       "model_id": "",
       "version_major": 2,
       "version_minor": 0
      },
      "text/plain": [
       "HBox(children=(FloatProgress(value=0.0, description='Training', layout=Layout(flex='2'), max=1250.0, style=Pro…"
      ]
     },
     "metadata": {},
     "output_type": "display_data"
    },
    {
     "name": "stdout",
     "output_type": "stream",
     "text": [
      "Epoch 276: train=7.23974, val=7.99472, took 45.523 s\n",
      "  Validation Found 51408 of 54504, added 2108 (eff 94.32%) (0.211 FP/event)\n"
     ]
    },
    {
     "data": {
      "application/vnd.jupyter.widget-view+json": {
       "model_id": "",
       "version_major": 2,
       "version_minor": 0
      },
      "text/plain": [
       "HBox(children=(FloatProgress(value=0.0, description='Training', layout=Layout(flex='2'), max=1250.0, style=Pro…"
      ]
     },
     "metadata": {},
     "output_type": "display_data"
    },
    {
     "name": "stdout",
     "output_type": "stream",
     "text": [
      "Epoch 277: train=7.23996, val=8.10501, took 45.689 s\n",
      "  Validation Found 51194 of 54504, added 1760 (eff 93.93%) (0.176 FP/event)\n"
     ]
    },
    {
     "data": {
      "application/vnd.jupyter.widget-view+json": {
       "model_id": "",
       "version_major": 2,
       "version_minor": 0
      },
      "text/plain": [
       "HBox(children=(FloatProgress(value=0.0, description='Training', layout=Layout(flex='2'), max=1250.0, style=Pro…"
      ]
     },
     "metadata": {},
     "output_type": "display_data"
    },
    {
     "name": "stdout",
     "output_type": "stream",
     "text": [
      "Epoch 278: train=7.24206, val=7.95273, took 45.375 s\n",
      "  Validation Found 51424 of 54504, added 2139 (eff 94.35%) (0.214 FP/event)\n"
     ]
    },
    {
     "data": {
      "application/vnd.jupyter.widget-view+json": {
       "model_id": "",
       "version_major": 2,
       "version_minor": 0
      },
      "text/plain": [
       "HBox(children=(FloatProgress(value=0.0, description='Training', layout=Layout(flex='2'), max=1250.0, style=Pro…"
      ]
     },
     "metadata": {},
     "output_type": "display_data"
    },
    {
     "name": "stdout",
     "output_type": "stream",
     "text": [
      "Epoch 279: train=7.23757, val=8.06815, took 45.746 s\n",
      "  Validation Found 51216 of 54504, added 1790 (eff 93.97%) (0.179 FP/event)\n"
     ]
    },
    {
     "data": {
      "application/vnd.jupyter.widget-view+json": {
       "model_id": "",
       "version_major": 2,
       "version_minor": 0
      },
      "text/plain": [
       "HBox(children=(FloatProgress(value=0.0, description='Training', layout=Layout(flex='2'), max=1250.0, style=Pro…"
      ]
     },
     "metadata": {},
     "output_type": "display_data"
    },
    {
     "name": "stdout",
     "output_type": "stream",
     "text": [
      "Epoch 280: train=7.23959, val=8.07308, took 45.657 s\n",
      "  Validation Found 51195 of 54504, added 1718 (eff 93.93%) (0.172 FP/event)\n"
     ]
    },
    {
     "data": {
      "application/vnd.jupyter.widget-view+json": {
       "model_id": "",
       "version_major": 2,
       "version_minor": 0
      },
      "text/plain": [
       "HBox(children=(FloatProgress(value=0.0, description='Training', layout=Layout(flex='2'), max=1250.0, style=Pro…"
      ]
     },
     "metadata": {},
     "output_type": "display_data"
    },
    {
     "name": "stdout",
     "output_type": "stream",
     "text": [
      "Epoch 281: train=7.23519, val=7.98167, took 45.399 s\n",
      "  Validation Found 51451 of 54504, added 2197 (eff 94.40%) (0.22 FP/event)\n"
     ]
    },
    {
     "data": {
      "application/vnd.jupyter.widget-view+json": {
       "model_id": "",
       "version_major": 2,
       "version_minor": 0
      },
      "text/plain": [
       "HBox(children=(FloatProgress(value=0.0, description='Training', layout=Layout(flex='2'), max=1250.0, style=Pro…"
      ]
     },
     "metadata": {},
     "output_type": "display_data"
    },
    {
     "name": "stdout",
     "output_type": "stream",
     "text": [
      "Epoch 282: train=7.23651, val=8.01787, took 45.703 s\n",
      "  Validation Found 51366 of 54504, added 2069 (eff 94.24%) (0.207 FP/event)\n"
     ]
    },
    {
     "data": {
      "application/vnd.jupyter.widget-view+json": {
       "model_id": "",
       "version_major": 2,
       "version_minor": 0
      },
      "text/plain": [
       "HBox(children=(FloatProgress(value=0.0, description='Training', layout=Layout(flex='2'), max=1250.0, style=Pro…"
      ]
     },
     "metadata": {},
     "output_type": "display_data"
    },
    {
     "name": "stdout",
     "output_type": "stream",
     "text": [
      "Epoch 283: train=7.23666, val=8.01552, took 45.508 s\n",
      "  Validation Found 51268 of 54504, added 1938 (eff 94.06%) (0.194 FP/event)\n"
     ]
    },
    {
     "data": {
      "application/vnd.jupyter.widget-view+json": {
       "model_id": "",
       "version_major": 2,
       "version_minor": 0
      },
      "text/plain": [
       "HBox(children=(FloatProgress(value=0.0, description='Training', layout=Layout(flex='2'), max=1250.0, style=Pro…"
      ]
     },
     "metadata": {},
     "output_type": "display_data"
    },
    {
     "name": "stdout",
     "output_type": "stream",
     "text": [
      "Epoch 284: train=7.23885, val=8.18665, took 45.557 s\n",
      "  Validation Found 51072 of 54504, added 1745 (eff 93.70%) (0.175 FP/event)\n"
     ]
    },
    {
     "data": {
      "application/vnd.jupyter.widget-view+json": {
       "model_id": "",
       "version_major": 2,
       "version_minor": 0
      },
      "text/plain": [
       "HBox(children=(FloatProgress(value=0.0, description='Training', layout=Layout(flex='2'), max=1250.0, style=Pro…"
      ]
     },
     "metadata": {},
     "output_type": "display_data"
    },
    {
     "name": "stdout",
     "output_type": "stream",
     "text": [
      "Epoch 285: train=7.23634, val=8.0201, took 45.436 s\n",
      "  Validation Found 51394 of 54504, added 2131 (eff 94.29%) (0.213 FP/event)\n"
     ]
    },
    {
     "data": {
      "application/vnd.jupyter.widget-view+json": {
       "model_id": "",
       "version_major": 2,
       "version_minor": 0
      },
      "text/plain": [
       "HBox(children=(FloatProgress(value=0.0, description='Training', layout=Layout(flex='2'), max=1250.0, style=Pro…"
      ]
     },
     "metadata": {},
     "output_type": "display_data"
    },
    {
     "name": "stdout",
     "output_type": "stream",
     "text": [
      "Epoch 286: train=7.23169, val=7.96043, took 45.491 s\n",
      "  Validation Found 51603 of 54504, added 2660 (eff 94.68%) (0.266 FP/event)\n"
     ]
    },
    {
     "data": {
      "application/vnd.jupyter.widget-view+json": {
       "model_id": "",
       "version_major": 2,
       "version_minor": 0
      },
      "text/plain": [
       "HBox(children=(FloatProgress(value=0.0, description='Training', layout=Layout(flex='2'), max=1250.0, style=Pro…"
      ]
     },
     "metadata": {},
     "output_type": "display_data"
    },
    {
     "name": "stdout",
     "output_type": "stream",
     "text": [
      "Epoch 287: train=7.23645, val=8.12594, took 45.442 s\n",
      "  Validation Found 51208 of 54504, added 1892 (eff 93.95%) (0.189 FP/event)\n"
     ]
    },
    {
     "data": {
      "application/vnd.jupyter.widget-view+json": {
       "model_id": "",
       "version_major": 2,
       "version_minor": 0
      },
      "text/plain": [
       "HBox(children=(FloatProgress(value=0.0, description='Training', layout=Layout(flex='2'), max=1250.0, style=Pro…"
      ]
     },
     "metadata": {},
     "output_type": "display_data"
    },
    {
     "name": "stdout",
     "output_type": "stream",
     "text": [
      "Epoch 288: train=7.23445, val=8.00633, took 45.469 s\n",
      "  Validation Found 51253 of 54504, added 1881 (eff 94.04%) (0.188 FP/event)\n"
     ]
    },
    {
     "data": {
      "application/vnd.jupyter.widget-view+json": {
       "model_id": "",
       "version_major": 2,
       "version_minor": 0
      },
      "text/plain": [
       "HBox(children=(FloatProgress(value=0.0, description='Training', layout=Layout(flex='2'), max=1250.0, style=Pro…"
      ]
     },
     "metadata": {},
     "output_type": "display_data"
    },
    {
     "name": "stdout",
     "output_type": "stream",
     "text": [
      "Epoch 289: train=7.23455, val=8.05664, took 45.464 s\n",
      "  Validation Found 51175 of 54504, added 1687 (eff 93.89%) (0.169 FP/event)\n"
     ]
    },
    {
     "data": {
      "application/vnd.jupyter.widget-view+json": {
       "model_id": "",
       "version_major": 2,
       "version_minor": 0
      },
      "text/plain": [
       "HBox(children=(FloatProgress(value=0.0, description='Training', layout=Layout(flex='2'), max=1250.0, style=Pro…"
      ]
     },
     "metadata": {},
     "output_type": "display_data"
    },
    {
     "name": "stdout",
     "output_type": "stream",
     "text": [
      "Epoch 290: train=7.23935, val=8.02328, took 45.953 s\n",
      "  Validation Found 51264 of 54504, added 1841 (eff 94.06%) (0.184 FP/event)\n"
     ]
    },
    {
     "data": {
      "application/vnd.jupyter.widget-view+json": {
       "model_id": "",
       "version_major": 2,
       "version_minor": 0
      },
      "text/plain": [
       "HBox(children=(FloatProgress(value=0.0, description='Training', layout=Layout(flex='2'), max=1250.0, style=Pro…"
      ]
     },
     "metadata": {},
     "output_type": "display_data"
    },
    {
     "name": "stdout",
     "output_type": "stream",
     "text": [
      "Epoch 291: train=7.23239, val=8.04375, took 45.429 s\n",
      "  Validation Found 51331 of 54504, added 1969 (eff 94.18%) (0.197 FP/event)\n"
     ]
    },
    {
     "data": {
      "application/vnd.jupyter.widget-view+json": {
       "model_id": "",
       "version_major": 2,
       "version_minor": 0
      },
      "text/plain": [
       "HBox(children=(FloatProgress(value=0.0, description='Training', layout=Layout(flex='2'), max=1250.0, style=Pro…"
      ]
     },
     "metadata": {},
     "output_type": "display_data"
    },
    {
     "name": "stdout",
     "output_type": "stream",
     "text": [
      "Epoch 292: train=7.23344, val=8.02529, took 45.503 s\n",
      "  Validation Found 51283 of 54504, added 1903 (eff 94.09%) (0.191 FP/event)\n"
     ]
    },
    {
     "data": {
      "application/vnd.jupyter.widget-view+json": {
       "model_id": "",
       "version_major": 2,
       "version_minor": 0
      },
      "text/plain": [
       "HBox(children=(FloatProgress(value=0.0, description='Training', layout=Layout(flex='2'), max=1250.0, style=Pro…"
      ]
     },
     "metadata": {},
     "output_type": "display_data"
    },
    {
     "name": "stdout",
     "output_type": "stream",
     "text": [
      "Epoch 293: train=7.23183, val=8.13452, took 45.446 s\n",
      "  Validation Found 51342 of 54504, added 2043 (eff 94.20%) (0.205 FP/event)\n"
     ]
    },
    {
     "data": {
      "application/vnd.jupyter.widget-view+json": {
       "model_id": "",
       "version_major": 2,
       "version_minor": 0
      },
      "text/plain": [
       "HBox(children=(FloatProgress(value=0.0, description='Training', layout=Layout(flex='2'), max=1250.0, style=Pro…"
      ]
     },
     "metadata": {},
     "output_type": "display_data"
    },
    {
     "name": "stdout",
     "output_type": "stream",
     "text": [
      "Epoch 294: train=7.23289, val=7.99415, took 45.618 s\n",
      "  Validation Found 51552 of 54504, added 2433 (eff 94.58%) (0.244 FP/event)\n"
     ]
    },
    {
     "data": {
      "application/vnd.jupyter.widget-view+json": {
       "model_id": "",
       "version_major": 2,
       "version_minor": 0
      },
      "text/plain": [
       "HBox(children=(FloatProgress(value=0.0, description='Training', layout=Layout(flex='2'), max=1250.0, style=Pro…"
      ]
     },
     "metadata": {},
     "output_type": "display_data"
    },
    {
     "name": "stdout",
     "output_type": "stream",
     "text": [
      "Epoch 295: train=7.23335, val=7.98601, took 45.661 s\n",
      "  Validation Found 51493 of 54504, added 2350 (eff 94.48%) (0.235 FP/event)\n"
     ]
    },
    {
     "data": {
      "application/vnd.jupyter.widget-view+json": {
       "model_id": "",
       "version_major": 2,
       "version_minor": 0
      },
      "text/plain": [
       "HBox(children=(FloatProgress(value=0.0, description='Training', layout=Layout(flex='2'), max=1250.0, style=Pro…"
      ]
     },
     "metadata": {},
     "output_type": "display_data"
    },
    {
     "name": "stdout",
     "output_type": "stream",
     "text": [
      "Epoch 296: train=7.23032, val=8.13156, took 46.565 s\n",
      "  Validation Found 51225 of 54504, added 1916 (eff 93.98%) (0.192 FP/event)\n"
     ]
    },
    {
     "data": {
      "application/vnd.jupyter.widget-view+json": {
       "model_id": "",
       "version_major": 2,
       "version_minor": 0
      },
      "text/plain": [
       "HBox(children=(FloatProgress(value=0.0, description='Training', layout=Layout(flex='2'), max=1250.0, style=Pro…"
      ]
     },
     "metadata": {},
     "output_type": "display_data"
    },
    {
     "name": "stdout",
     "output_type": "stream",
     "text": [
      "Epoch 297: train=7.23137, val=8.04451, took 46.522 s\n",
      "  Validation Found 51278 of 54504, added 1896 (eff 94.08%) (0.19 FP/event)\n"
     ]
    },
    {
     "data": {
      "application/vnd.jupyter.widget-view+json": {
       "model_id": "",
       "version_major": 2,
       "version_minor": 0
      },
      "text/plain": [
       "HBox(children=(FloatProgress(value=0.0, description='Training', layout=Layout(flex='2'), max=1250.0, style=Pro…"
      ]
     },
     "metadata": {},
     "output_type": "display_data"
    },
    {
     "name": "stdout",
     "output_type": "stream",
     "text": [
      "Epoch 298: train=7.23305, val=8.07138, took 46.572 s\n",
      "  Validation Found 51164 of 54504, added 1793 (eff 93.87%) (0.18 FP/event)\n"
     ]
    },
    {
     "data": {
      "application/vnd.jupyter.widget-view+json": {
       "model_id": "",
       "version_major": 2,
       "version_minor": 0
      },
      "text/plain": [
       "HBox(children=(FloatProgress(value=0.0, description='Training', layout=Layout(flex='2'), max=1250.0, style=Pro…"
      ]
     },
     "metadata": {},
     "output_type": "display_data"
    },
    {
     "name": "stdout",
     "output_type": "stream",
     "text": [
      "Epoch 299: train=7.23019, val=7.97887, took 45.58 s\n",
      "  Validation Found 51363 of 54504, added 1990 (eff 94.24%) (0.199 FP/event)\n"
     ]
    },
    {
     "data": {
      "application/vnd.jupyter.widget-view+json": {
       "model_id": "",
       "version_major": 2,
       "version_minor": 0
      },
      "text/plain": [
       "HBox(children=(FloatProgress(value=0.0, description='Training', layout=Layout(flex='2'), max=1250.0, style=Pro…"
      ]
     },
     "metadata": {},
     "output_type": "display_data"
    },
    {
     "name": "stdout",
     "output_type": "stream",
     "text": [
      "Epoch 300: train=7.23208, val=8.00192, took 45.491 s\n",
      "  Validation Found 51422 of 54504, added 2151 (eff 94.35%) (0.215 FP/event)\n"
     ]
    },
    {
     "data": {
      "application/vnd.jupyter.widget-view+json": {
       "model_id": "",
       "version_major": 2,
       "version_minor": 0
      },
      "text/plain": [
       "HBox(children=(FloatProgress(value=0.0, description='Training', layout=Layout(flex='2'), max=1250.0, style=Pro…"
      ]
     },
     "metadata": {},
     "output_type": "display_data"
    },
    {
     "name": "stdout",
     "output_type": "stream",
     "text": [
      "Epoch 301: train=7.22858, val=8.04727, took 45.622 s\n",
      "  Validation Found 51311 of 54504, added 1987 (eff 94.14%) (0.199 FP/event)\n"
     ]
    },
    {
     "data": {
      "application/vnd.jupyter.widget-view+json": {
       "model_id": "",
       "version_major": 2,
       "version_minor": 0
      },
      "text/plain": [
       "HBox(children=(FloatProgress(value=0.0, description='Training', layout=Layout(flex='2'), max=1250.0, style=Pro…"
      ]
     },
     "metadata": {},
     "output_type": "display_data"
    },
    {
     "name": "stdout",
     "output_type": "stream",
     "text": [
      "Epoch 302: train=7.23057, val=8.02097, took 45.616 s\n",
      "  Validation Found 51444 of 54504, added 2167 (eff 94.39%) (0.217 FP/event)\n"
     ]
    },
    {
     "data": {
      "application/vnd.jupyter.widget-view+json": {
       "model_id": "",
       "version_major": 2,
       "version_minor": 0
      },
      "text/plain": [
       "HBox(children=(FloatProgress(value=0.0, description='Training', layout=Layout(flex='2'), max=1250.0, style=Pro…"
      ]
     },
     "metadata": {},
     "output_type": "display_data"
    },
    {
     "name": "stdout",
     "output_type": "stream",
     "text": [
      "Epoch 303: train=7.22987, val=8.13551, took 46.133 s\n",
      "  Validation Found 51090 of 54504, added 1674 (eff 93.74%) (0.168 FP/event)\n"
     ]
    },
    {
     "data": {
      "application/vnd.jupyter.widget-view+json": {
       "model_id": "",
       "version_major": 2,
       "version_minor": 0
      },
      "text/plain": [
       "HBox(children=(FloatProgress(value=0.0, description='Training', layout=Layout(flex='2'), max=1250.0, style=Pro…"
      ]
     },
     "metadata": {},
     "output_type": "display_data"
    },
    {
     "name": "stdout",
     "output_type": "stream",
     "text": [
      "Epoch 304: train=7.23083, val=7.9968, took 46.148 s\n",
      "  Validation Found 51251 of 54504, added 1797 (eff 94.03%) (0.18 FP/event)\n"
     ]
    },
    {
     "data": {
      "application/vnd.jupyter.widget-view+json": {
       "model_id": "",
       "version_major": 2,
       "version_minor": 0
      },
      "text/plain": [
       "HBox(children=(FloatProgress(value=0.0, description='Training', layout=Layout(flex='2'), max=1250.0, style=Pro…"
      ]
     },
     "metadata": {},
     "output_type": "display_data"
    },
    {
     "name": "stdout",
     "output_type": "stream",
     "text": [
      "Epoch 305: train=7.22973, val=8.02933, took 45.562 s\n",
      "  Validation Found 51344 of 54504, added 2021 (eff 94.20%) (0.202 FP/event)\n"
     ]
    },
    {
     "data": {
      "application/vnd.jupyter.widget-view+json": {
       "model_id": "",
       "version_major": 2,
       "version_minor": 0
      },
      "text/plain": [
       "HBox(children=(FloatProgress(value=0.0, description='Training', layout=Layout(flex='2'), max=1250.0, style=Pro…"
      ]
     },
     "metadata": {},
     "output_type": "display_data"
    },
    {
     "name": "stdout",
     "output_type": "stream",
     "text": [
      "Epoch 306: train=7.22961, val=8.07258, took 45.444 s\n",
      "  Validation Found 51236 of 54504, added 1894 (eff 94.00%) (0.19 FP/event)\n"
     ]
    },
    {
     "data": {
      "application/vnd.jupyter.widget-view+json": {
       "model_id": "",
       "version_major": 2,
       "version_minor": 0
      },
      "text/plain": [
       "HBox(children=(FloatProgress(value=0.0, description='Training', layout=Layout(flex='2'), max=1250.0, style=Pro…"
      ]
     },
     "metadata": {},
     "output_type": "display_data"
    },
    {
     "name": "stdout",
     "output_type": "stream",
     "text": [
      "Epoch 307: train=7.22797, val=8.06866, took 45.658 s\n",
      "  Validation Found 51480 of 54504, added 2221 (eff 94.45%) (0.222 FP/event)\n"
     ]
    },
    {
     "data": {
      "application/vnd.jupyter.widget-view+json": {
       "model_id": "",
       "version_major": 2,
       "version_minor": 0
      },
      "text/plain": [
       "HBox(children=(FloatProgress(value=0.0, description='Training', layout=Layout(flex='2'), max=1250.0, style=Pro…"
      ]
     },
     "metadata": {},
     "output_type": "display_data"
    },
    {
     "name": "stdout",
     "output_type": "stream",
     "text": [
      "Epoch 308: train=7.22872, val=8.10922, took 45.622 s\n",
      "  Validation Found 51151 of 54504, added 1757 (eff 93.85%) (0.176 FP/event)\n"
     ]
    },
    {
     "data": {
      "application/vnd.jupyter.widget-view+json": {
       "model_id": "",
       "version_major": 2,
       "version_minor": 0
      },
      "text/plain": [
       "HBox(children=(FloatProgress(value=0.0, description='Training', layout=Layout(flex='2'), max=1250.0, style=Pro…"
      ]
     },
     "metadata": {},
     "output_type": "display_data"
    },
    {
     "name": "stdout",
     "output_type": "stream",
     "text": [
      "Epoch 309: train=7.22761, val=7.9789, took 45.673 s\n",
      "  Validation Found 51429 of 54504, added 2165 (eff 94.36%) (0.217 FP/event)\n"
     ]
    },
    {
     "data": {
      "application/vnd.jupyter.widget-view+json": {
       "model_id": "",
       "version_major": 2,
       "version_minor": 0
      },
      "text/plain": [
       "HBox(children=(FloatProgress(value=0.0, description='Training', layout=Layout(flex='2'), max=1250.0, style=Pro…"
      ]
     },
     "metadata": {},
     "output_type": "display_data"
    },
    {
     "name": "stdout",
     "output_type": "stream",
     "text": [
      "Epoch 310: train=7.22794, val=8.08645, took 45.592 s\n",
      "  Validation Found 51406 of 54504, added 2187 (eff 94.32%) (0.219 FP/event)\n"
     ]
    },
    {
     "data": {
      "application/vnd.jupyter.widget-view+json": {
       "model_id": "",
       "version_major": 2,
       "version_minor": 0
      },
      "text/plain": [
       "HBox(children=(FloatProgress(value=0.0, description='Training', layout=Layout(flex='2'), max=1250.0, style=Pro…"
      ]
     },
     "metadata": {},
     "output_type": "display_data"
    },
    {
     "name": "stdout",
     "output_type": "stream",
     "text": [
      "Epoch 311: train=7.22596, val=7.97047, took 45.576 s\n",
      "  Validation Found 51505 of 54504, added 2322 (eff 94.50%) (0.233 FP/event)\n"
     ]
    },
    {
     "data": {
      "application/vnd.jupyter.widget-view+json": {
       "model_id": "",
       "version_major": 2,
       "version_minor": 0
      },
      "text/plain": [
       "HBox(children=(FloatProgress(value=0.0, description='Training', layout=Layout(flex='2'), max=1250.0, style=Pro…"
      ]
     },
     "metadata": {},
     "output_type": "display_data"
    },
    {
     "name": "stdout",
     "output_type": "stream",
     "text": [
      "Epoch 312: train=7.22463, val=8.00094, took 45.891 s\n",
      "  Validation Found 51315 of 54504, added 1944 (eff 94.15%) (0.195 FP/event)\n"
     ]
    },
    {
     "data": {
      "application/vnd.jupyter.widget-view+json": {
       "model_id": "",
       "version_major": 2,
       "version_minor": 0
      },
      "text/plain": [
       "HBox(children=(FloatProgress(value=0.0, description='Training', layout=Layout(flex='2'), max=1250.0, style=Pro…"
      ]
     },
     "metadata": {},
     "output_type": "display_data"
    },
    {
     "name": "stdout",
     "output_type": "stream",
     "text": [
      "Epoch 313: train=7.22566, val=8.06256, took 46.033 s\n",
      "  Validation Found 51169 of 54504, added 1735 (eff 93.88%) (0.174 FP/event)\n"
     ]
    },
    {
     "data": {
      "application/vnd.jupyter.widget-view+json": {
       "model_id": "",
       "version_major": 2,
       "version_minor": 0
      },
      "text/plain": [
       "HBox(children=(FloatProgress(value=0.0, description='Training', layout=Layout(flex='2'), max=1250.0, style=Pro…"
      ]
     },
     "metadata": {},
     "output_type": "display_data"
    },
    {
     "name": "stdout",
     "output_type": "stream",
     "text": [
      "Epoch 314: train=7.22686, val=8.14003, took 45.736 s\n",
      "  Validation Found 51212 of 54504, added 1941 (eff 93.96%) (0.194 FP/event)\n"
     ]
    },
    {
     "data": {
      "application/vnd.jupyter.widget-view+json": {
       "model_id": "",
       "version_major": 2,
       "version_minor": 0
      },
      "text/plain": [
       "HBox(children=(FloatProgress(value=0.0, description='Training', layout=Layout(flex='2'), max=1250.0, style=Pro…"
      ]
     },
     "metadata": {},
     "output_type": "display_data"
    },
    {
     "name": "stdout",
     "output_type": "stream",
     "text": [
      "Epoch 315: train=7.22382, val=8.00863, took 45.746 s\n",
      "  Validation Found 51330 of 54504, added 2039 (eff 94.18%) (0.204 FP/event)\n"
     ]
    },
    {
     "data": {
      "application/vnd.jupyter.widget-view+json": {
       "model_id": "",
       "version_major": 2,
       "version_minor": 0
      },
      "text/plain": [
       "HBox(children=(FloatProgress(value=0.0, description='Training', layout=Layout(flex='2'), max=1250.0, style=Pro…"
      ]
     },
     "metadata": {},
     "output_type": "display_data"
    },
    {
     "name": "stdout",
     "output_type": "stream",
     "text": [
      "Epoch 316: train=7.22468, val=7.97966, took 45.581 s\n",
      "  Validation Found 51396 of 54504, added 2091 (eff 94.30%) (0.209 FP/event)\n"
     ]
    },
    {
     "data": {
      "application/vnd.jupyter.widget-view+json": {
       "model_id": "",
       "version_major": 2,
       "version_minor": 0
      },
      "text/plain": [
       "HBox(children=(FloatProgress(value=0.0, description='Training', layout=Layout(flex='2'), max=1250.0, style=Pro…"
      ]
     },
     "metadata": {},
     "output_type": "display_data"
    },
    {
     "name": "stdout",
     "output_type": "stream",
     "text": [
      "Epoch 317: train=7.22314, val=7.91825, took 45.913 s\n",
      "  Validation Found 51642 of 54504, added 2588 (eff 94.75%) (0.259 FP/event)\n"
     ]
    },
    {
     "data": {
      "application/vnd.jupyter.widget-view+json": {
       "model_id": "",
       "version_major": 2,
       "version_minor": 0
      },
      "text/plain": [
       "HBox(children=(FloatProgress(value=0.0, description='Training', layout=Layout(flex='2'), max=1250.0, style=Pro…"
      ]
     },
     "metadata": {},
     "output_type": "display_data"
    },
    {
     "name": "stdout",
     "output_type": "stream",
     "text": [
      "Epoch 318: train=7.22332, val=8.12955, took 45.448 s\n",
      "  Validation Found 51142 of 54504, added 1705 (eff 93.83%) (0.171 FP/event)\n"
     ]
    },
    {
     "data": {
      "application/vnd.jupyter.widget-view+json": {
       "model_id": "",
       "version_major": 2,
       "version_minor": 0
      },
      "text/plain": [
       "HBox(children=(FloatProgress(value=0.0, description='Training', layout=Layout(flex='2'), max=1250.0, style=Pro…"
      ]
     },
     "metadata": {},
     "output_type": "display_data"
    },
    {
     "name": "stdout",
     "output_type": "stream",
     "text": [
      "Epoch 319: train=7.22237, val=7.98085, took 45.737 s\n",
      "  Validation Found 51296 of 54504, added 1874 (eff 94.11%) (0.188 FP/event)\n"
     ]
    },
    {
     "data": {
      "application/vnd.jupyter.widget-view+json": {
       "model_id": "",
       "version_major": 2,
       "version_minor": 0
      },
      "text/plain": [
       "HBox(children=(FloatProgress(value=0.0, description='Training', layout=Layout(flex='2'), max=1250.0, style=Pro…"
      ]
     },
     "metadata": {},
     "output_type": "display_data"
    },
    {
     "name": "stdout",
     "output_type": "stream",
     "text": [
      "Epoch 320: train=7.22338, val=8.04787, took 45.458 s\n",
      "  Validation Found 51334 of 54504, added 1985 (eff 94.18%) (0.199 FP/event)\n"
     ]
    },
    {
     "data": {
      "application/vnd.jupyter.widget-view+json": {
       "model_id": "",
       "version_major": 2,
       "version_minor": 0
      },
      "text/plain": [
       "HBox(children=(FloatProgress(value=0.0, description='Training', layout=Layout(flex='2'), max=1250.0, style=Pro…"
      ]
     },
     "metadata": {},
     "output_type": "display_data"
    },
    {
     "name": "stdout",
     "output_type": "stream",
     "text": [
      "Epoch 321: train=7.22336, val=7.98029, took 45.439 s\n",
      "  Validation Found 51509 of 54504, added 2368 (eff 94.50%) (0.237 FP/event)\n"
     ]
    },
    {
     "data": {
      "application/vnd.jupyter.widget-view+json": {
       "model_id": "",
       "version_major": 2,
       "version_minor": 0
      },
      "text/plain": [
       "HBox(children=(FloatProgress(value=0.0, description='Training', layout=Layout(flex='2'), max=1250.0, style=Pro…"
      ]
     },
     "metadata": {},
     "output_type": "display_data"
    },
    {
     "name": "stdout",
     "output_type": "stream",
     "text": [
      "Epoch 322: train=7.22224, val=7.96084, took 45.821 s\n",
      "  Validation Found 51452 of 54504, added 2216 (eff 94.40%) (0.222 FP/event)\n"
     ]
    },
    {
     "data": {
      "application/vnd.jupyter.widget-view+json": {
       "model_id": "",
       "version_major": 2,
       "version_minor": 0
      },
      "text/plain": [
       "HBox(children=(FloatProgress(value=0.0, description='Training', layout=Layout(flex='2'), max=1250.0, style=Pro…"
      ]
     },
     "metadata": {},
     "output_type": "display_data"
    },
    {
     "name": "stdout",
     "output_type": "stream",
     "text": [
      "Epoch 323: train=7.22048, val=7.98548, took 45.523 s\n",
      "  Validation Found 51591 of 54504, added 2635 (eff 94.66%) (0.264 FP/event)\n"
     ]
    },
    {
     "data": {
      "application/vnd.jupyter.widget-view+json": {
       "model_id": "",
       "version_major": 2,
       "version_minor": 0
      },
      "text/plain": [
       "HBox(children=(FloatProgress(value=0.0, description='Training', layout=Layout(flex='2'), max=1250.0, style=Pro…"
      ]
     },
     "metadata": {},
     "output_type": "display_data"
    },
    {
     "name": "stdout",
     "output_type": "stream",
     "text": [
      "Epoch 324: train=7.22221, val=8.17789, took 45.393 s\n",
      "  Validation Found 51106 of 54504, added 1639 (eff 93.77%) (0.164 FP/event)\n"
     ]
    },
    {
     "data": {
      "application/vnd.jupyter.widget-view+json": {
       "model_id": "",
       "version_major": 2,
       "version_minor": 0
      },
      "text/plain": [
       "HBox(children=(FloatProgress(value=0.0, description='Training', layout=Layout(flex='2'), max=1250.0, style=Pro…"
      ]
     },
     "metadata": {},
     "output_type": "display_data"
    },
    {
     "name": "stdout",
     "output_type": "stream",
     "text": [
      "Epoch 325: train=7.22204, val=8.09694, took 45.395 s\n",
      "  Validation Found 51242 of 54504, added 1863 (eff 94.02%) (0.187 FP/event)\n"
     ]
    },
    {
     "data": {
      "application/vnd.jupyter.widget-view+json": {
       "model_id": "",
       "version_major": 2,
       "version_minor": 0
      },
      "text/plain": [
       "HBox(children=(FloatProgress(value=0.0, description='Training', layout=Layout(flex='2'), max=1250.0, style=Pro…"
      ]
     },
     "metadata": {},
     "output_type": "display_data"
    },
    {
     "name": "stdout",
     "output_type": "stream",
     "text": [
      "Epoch 326: train=7.2205, val=8.06811, took 45.395 s\n",
      "  Validation Found 51278 of 54504, added 1926 (eff 94.08%) (0.193 FP/event)\n"
     ]
    },
    {
     "data": {
      "application/vnd.jupyter.widget-view+json": {
       "model_id": "",
       "version_major": 2,
       "version_minor": 0
      },
      "text/plain": [
       "HBox(children=(FloatProgress(value=0.0, description='Training', layout=Layout(flex='2'), max=1250.0, style=Pro…"
      ]
     },
     "metadata": {},
     "output_type": "display_data"
    },
    {
     "name": "stdout",
     "output_type": "stream",
     "text": [
      "Epoch 327: train=7.22382, val=7.94012, took 45.458 s\n",
      "  Validation Found 51407 of 54504, added 2121 (eff 94.32%) (0.212 FP/event)\n"
     ]
    },
    {
     "data": {
      "application/vnd.jupyter.widget-view+json": {
       "model_id": "",
       "version_major": 2,
       "version_minor": 0
      },
      "text/plain": [
       "HBox(children=(FloatProgress(value=0.0, description='Training', layout=Layout(flex='2'), max=1250.0, style=Pro…"
      ]
     },
     "metadata": {},
     "output_type": "display_data"
    },
    {
     "name": "stdout",
     "output_type": "stream",
     "text": [
      "Epoch 328: train=7.21907, val=7.97482, took 45.608 s\n",
      "  Validation Found 51467 of 54504, added 2225 (eff 94.43%) (0.223 FP/event)\n"
     ]
    },
    {
     "data": {
      "application/vnd.jupyter.widget-view+json": {
       "model_id": "",
       "version_major": 2,
       "version_minor": 0
      },
      "text/plain": [
       "HBox(children=(FloatProgress(value=0.0, description='Training', layout=Layout(flex='2'), max=1250.0, style=Pro…"
      ]
     },
     "metadata": {},
     "output_type": "display_data"
    },
    {
     "name": "stdout",
     "output_type": "stream",
     "text": [
      "Epoch 329: train=7.22244, val=8.04191, took 45.567 s\n",
      "  Validation Found 51242 of 54504, added 1907 (eff 94.02%) (0.191 FP/event)\n"
     ]
    },
    {
     "data": {
      "application/vnd.jupyter.widget-view+json": {
       "model_id": "",
       "version_major": 2,
       "version_minor": 0
      },
      "text/plain": [
       "HBox(children=(FloatProgress(value=0.0, description='Training', layout=Layout(flex='2'), max=1250.0, style=Pro…"
      ]
     },
     "metadata": {},
     "output_type": "display_data"
    },
    {
     "name": "stdout",
     "output_type": "stream",
     "text": [
      "Epoch 330: train=7.2203, val=7.97234, took 45.452 s\n",
      "  Validation Found 51346 of 54504, added 2056 (eff 94.21%) (0.206 FP/event)\n"
     ]
    },
    {
     "data": {
      "application/vnd.jupyter.widget-view+json": {
       "model_id": "",
       "version_major": 2,
       "version_minor": 0
      },
      "text/plain": [
       "HBox(children=(FloatProgress(value=0.0, description='Training', layout=Layout(flex='2'), max=1250.0, style=Pro…"
      ]
     },
     "metadata": {},
     "output_type": "display_data"
    },
    {
     "name": "stdout",
     "output_type": "stream",
     "text": [
      "Epoch 331: train=7.21915, val=8.22256, took 45.563 s\n",
      "  Validation Found 50955 of 54504, added 1539 (eff 93.49%) (0.154 FP/event)\n"
     ]
    },
    {
     "data": {
      "application/vnd.jupyter.widget-view+json": {
       "model_id": "",
       "version_major": 2,
       "version_minor": 0
      },
      "text/plain": [
       "HBox(children=(FloatProgress(value=0.0, description='Training', layout=Layout(flex='2'), max=1250.0, style=Pro…"
      ]
     },
     "metadata": {},
     "output_type": "display_data"
    },
    {
     "name": "stdout",
     "output_type": "stream",
     "text": [
      "Epoch 332: train=7.2166, val=8.02905, took 45.779 s\n",
      "  Validation Found 51301 of 54504, added 1929 (eff 94.12%) (0.193 FP/event)\n"
     ]
    },
    {
     "data": {
      "application/vnd.jupyter.widget-view+json": {
       "model_id": "",
       "version_major": 2,
       "version_minor": 0
      },
      "text/plain": [
       "HBox(children=(FloatProgress(value=0.0, description='Training', layout=Layout(flex='2'), max=1250.0, style=Pro…"
      ]
     },
     "metadata": {},
     "output_type": "display_data"
    },
    {
     "name": "stdout",
     "output_type": "stream",
     "text": [
      "Epoch 333: train=7.21791, val=7.94727, took 45.512 s\n",
      "  Validation Found 51382 of 54504, added 1996 (eff 94.27%) (0.2 FP/event)\n"
     ]
    },
    {
     "data": {
      "application/vnd.jupyter.widget-view+json": {
       "model_id": "",
       "version_major": 2,
       "version_minor": 0
      },
      "text/plain": [
       "HBox(children=(FloatProgress(value=0.0, description='Training', layout=Layout(flex='2'), max=1250.0, style=Pro…"
      ]
     },
     "metadata": {},
     "output_type": "display_data"
    },
    {
     "name": "stdout",
     "output_type": "stream",
     "text": [
      "Epoch 334: train=7.21803, val=8.02472, took 45.452 s\n",
      "  Validation Found 51301 of 54504, added 1986 (eff 94.12%) (0.199 FP/event)\n"
     ]
    },
    {
     "data": {
      "application/vnd.jupyter.widget-view+json": {
       "model_id": "",
       "version_major": 2,
       "version_minor": 0
      },
      "text/plain": [
       "HBox(children=(FloatProgress(value=0.0, description='Training', layout=Layout(flex='2'), max=1250.0, style=Pro…"
      ]
     },
     "metadata": {},
     "output_type": "display_data"
    },
    {
     "name": "stdout",
     "output_type": "stream",
     "text": [
      "Epoch 335: train=7.22332, val=8.01622, took 46.341 s\n",
      "  Validation Found 51333 of 54504, added 1956 (eff 94.18%) (0.196 FP/event)\n"
     ]
    },
    {
     "data": {
      "application/vnd.jupyter.widget-view+json": {
       "model_id": "",
       "version_major": 2,
       "version_minor": 0
      },
      "text/plain": [
       "HBox(children=(FloatProgress(value=0.0, description='Training', layout=Layout(flex='2'), max=1250.0, style=Pro…"
      ]
     },
     "metadata": {},
     "output_type": "display_data"
    },
    {
     "name": "stdout",
     "output_type": "stream",
     "text": [
      "Epoch 336: train=7.21509, val=8.04927, took 45.503 s\n",
      "  Validation Found 51454 of 54504, added 2188 (eff 94.40%) (0.219 FP/event)\n"
     ]
    },
    {
     "data": {
      "application/vnd.jupyter.widget-view+json": {
       "model_id": "",
       "version_major": 2,
       "version_minor": 0
      },
      "text/plain": [
       "HBox(children=(FloatProgress(value=0.0, description='Training', layout=Layout(flex='2'), max=1250.0, style=Pro…"
      ]
     },
     "metadata": {},
     "output_type": "display_data"
    },
    {
     "name": "stdout",
     "output_type": "stream",
     "text": [
      "Epoch 337: train=7.21752, val=8.03427, took 45.649 s\n",
      "  Validation Found 51280 of 54504, added 1946 (eff 94.08%) (0.195 FP/event)\n"
     ]
    },
    {
     "data": {
      "application/vnd.jupyter.widget-view+json": {
       "model_id": "",
       "version_major": 2,
       "version_minor": 0
      },
      "text/plain": [
       "HBox(children=(FloatProgress(value=0.0, description='Training', layout=Layout(flex='2'), max=1250.0, style=Pro…"
      ]
     },
     "metadata": {},
     "output_type": "display_data"
    },
    {
     "name": "stdout",
     "output_type": "stream",
     "text": [
      "Epoch 338: train=7.21857, val=8.06087, took 46.084 s\n",
      "  Validation Found 51318 of 54504, added 1977 (eff 94.15%) (0.198 FP/event)\n"
     ]
    },
    {
     "data": {
      "application/vnd.jupyter.widget-view+json": {
       "model_id": "",
       "version_major": 2,
       "version_minor": 0
      },
      "text/plain": [
       "HBox(children=(FloatProgress(value=0.0, description='Training', layout=Layout(flex='2'), max=1250.0, style=Pro…"
      ]
     },
     "metadata": {},
     "output_type": "display_data"
    },
    {
     "name": "stdout",
     "output_type": "stream",
     "text": [
      "Epoch 339: train=7.21574, val=8.0276, took 45.913 s\n",
      "  Validation Found 51299 of 54504, added 1981 (eff 94.12%) (0.198 FP/event)\n"
     ]
    },
    {
     "data": {
      "application/vnd.jupyter.widget-view+json": {
       "model_id": "",
       "version_major": 2,
       "version_minor": 0
      },
      "text/plain": [
       "HBox(children=(FloatProgress(value=0.0, description='Training', layout=Layout(flex='2'), max=1250.0, style=Pro…"
      ]
     },
     "metadata": {},
     "output_type": "display_data"
    },
    {
     "name": "stdout",
     "output_type": "stream",
     "text": [
      "Epoch 340: train=7.21582, val=7.9978, took 45.932 s\n",
      "  Validation Found 51451 of 54504, added 2097 (eff 94.40%) (0.21 FP/event)\n"
     ]
    },
    {
     "data": {
      "application/vnd.jupyter.widget-view+json": {
       "model_id": "",
       "version_major": 2,
       "version_minor": 0
      },
      "text/plain": [
       "HBox(children=(FloatProgress(value=0.0, description='Training', layout=Layout(flex='2'), max=1250.0, style=Pro…"
      ]
     },
     "metadata": {},
     "output_type": "display_data"
    },
    {
     "name": "stdout",
     "output_type": "stream",
     "text": [
      "Epoch 341: train=7.22124, val=8.12209, took 45.898 s\n",
      "  Validation Found 51076 of 54504, added 1630 (eff 93.71%) (0.163 FP/event)\n"
     ]
    },
    {
     "data": {
      "application/vnd.jupyter.widget-view+json": {
       "model_id": "",
       "version_major": 2,
       "version_minor": 0
      },
      "text/plain": [
       "HBox(children=(FloatProgress(value=0.0, description='Training', layout=Layout(flex='2'), max=1250.0, style=Pro…"
      ]
     },
     "metadata": {},
     "output_type": "display_data"
    },
    {
     "name": "stdout",
     "output_type": "stream",
     "text": [
      "Epoch 342: train=7.21724, val=8.05262, took 45.864 s\n",
      "  Validation Found 51180 of 54504, added 1783 (eff 93.90%) (0.179 FP/event)\n"
     ]
    },
    {
     "data": {
      "application/vnd.jupyter.widget-view+json": {
       "model_id": "",
       "version_major": 2,
       "version_minor": 0
      },
      "text/plain": [
       "HBox(children=(FloatProgress(value=0.0, description='Training', layout=Layout(flex='2'), max=1250.0, style=Pro…"
      ]
     },
     "metadata": {},
     "output_type": "display_data"
    },
    {
     "name": "stdout",
     "output_type": "stream",
     "text": [
      "Epoch 343: train=7.21639, val=7.93832, took 45.505 s\n",
      "  Validation Found 51431 of 54504, added 2167 (eff 94.36%) (0.217 FP/event)\n"
     ]
    },
    {
     "data": {
      "application/vnd.jupyter.widget-view+json": {
       "model_id": "",
       "version_major": 2,
       "version_minor": 0
      },
      "text/plain": [
       "HBox(children=(FloatProgress(value=0.0, description='Training', layout=Layout(flex='2'), max=1250.0, style=Pro…"
      ]
     },
     "metadata": {},
     "output_type": "display_data"
    },
    {
     "name": "stdout",
     "output_type": "stream",
     "text": [
      "Epoch 344: train=7.21559, val=8.06539, took 45.842 s\n",
      "  Validation Found 51202 of 54504, added 1785 (eff 93.94%) (0.179 FP/event)\n"
     ]
    },
    {
     "data": {
      "application/vnd.jupyter.widget-view+json": {
       "model_id": "",
       "version_major": 2,
       "version_minor": 0
      },
      "text/plain": [
       "HBox(children=(FloatProgress(value=0.0, description='Training', layout=Layout(flex='2'), max=1250.0, style=Pro…"
      ]
     },
     "metadata": {},
     "output_type": "display_data"
    },
    {
     "name": "stdout",
     "output_type": "stream",
     "text": [
      "Epoch 345: train=7.21306, val=8.03953, took 45.658 s\n",
      "  Validation Found 51251 of 54504, added 1885 (eff 94.03%) (0.189 FP/event)\n"
     ]
    },
    {
     "data": {
      "application/vnd.jupyter.widget-view+json": {
       "model_id": "",
       "version_major": 2,
       "version_minor": 0
      },
      "text/plain": [
       "HBox(children=(FloatProgress(value=0.0, description='Training', layout=Layout(flex='2'), max=1250.0, style=Pro…"
      ]
     },
     "metadata": {},
     "output_type": "display_data"
    },
    {
     "name": "stdout",
     "output_type": "stream",
     "text": [
      "Epoch 346: train=7.21728, val=7.96869, took 45.888 s\n",
      "  Validation Found 51523 of 54504, added 2413 (eff 94.53%) (0.242 FP/event)\n"
     ]
    },
    {
     "data": {
      "application/vnd.jupyter.widget-view+json": {
       "model_id": "",
       "version_major": 2,
       "version_minor": 0
      },
      "text/plain": [
       "HBox(children=(FloatProgress(value=0.0, description='Training', layout=Layout(flex='2'), max=1250.0, style=Pro…"
      ]
     },
     "metadata": {},
     "output_type": "display_data"
    },
    {
     "name": "stdout",
     "output_type": "stream",
     "text": [
      "Epoch 347: train=7.21516, val=8.02993, took 46.482 s\n",
      "  Validation Found 51288 of 54504, added 1932 (eff 94.10%) (0.193 FP/event)\n"
     ]
    },
    {
     "data": {
      "application/vnd.jupyter.widget-view+json": {
       "model_id": "",
       "version_major": 2,
       "version_minor": 0
      },
      "text/plain": [
       "HBox(children=(FloatProgress(value=0.0, description='Training', layout=Layout(flex='2'), max=1250.0, style=Pro…"
      ]
     },
     "metadata": {},
     "output_type": "display_data"
    },
    {
     "name": "stdout",
     "output_type": "stream",
     "text": [
      "Epoch 348: train=7.21457, val=7.97098, took 46.291 s\n",
      "  Validation Found 51570 of 54504, added 2542 (eff 94.62%) (0.255 FP/event)\n"
     ]
    },
    {
     "data": {
      "application/vnd.jupyter.widget-view+json": {
       "model_id": "",
       "version_major": 2,
       "version_minor": 0
      },
      "text/plain": [
       "HBox(children=(FloatProgress(value=0.0, description='Training', layout=Layout(flex='2'), max=1250.0, style=Pro…"
      ]
     },
     "metadata": {},
     "output_type": "display_data"
    },
    {
     "name": "stdout",
     "output_type": "stream",
     "text": [
      "Epoch 349: train=7.21486, val=7.9932, took 45.571 s\n",
      "  Validation Found 51390 of 54504, added 2095 (eff 94.29%) (0.21 FP/event)\n"
     ]
    },
    {
     "data": {
      "application/vnd.jupyter.widget-view+json": {
       "model_id": "",
       "version_major": 2,
       "version_minor": 0
      },
      "text/plain": [
       "HBox(children=(FloatProgress(value=0.0, description='Training', layout=Layout(flex='2'), max=1250.0, style=Pro…"
      ]
     },
     "metadata": {},
     "output_type": "display_data"
    },
    {
     "name": "stdout",
     "output_type": "stream",
     "text": [
      "Epoch 350: train=7.21519, val=8.00508, took 46.431 s\n",
      "  Validation Found 51442 of 54504, added 2180 (eff 94.38%) (0.218 FP/event)\n"
     ]
    },
    {
     "data": {
      "application/vnd.jupyter.widget-view+json": {
       "model_id": "",
       "version_major": 2,
       "version_minor": 0
      },
      "text/plain": [
       "HBox(children=(FloatProgress(value=0.0, description='Training', layout=Layout(flex='2'), max=1250.0, style=Pro…"
      ]
     },
     "metadata": {},
     "output_type": "display_data"
    },
    {
     "name": "stdout",
     "output_type": "stream",
     "text": [
      "Epoch 351: train=7.21418, val=8.02183, took 45.544 s\n",
      "  Validation Found 51311 of 54504, added 1950 (eff 94.14%) (0.195 FP/event)\n"
     ]
    },
    {
     "data": {
      "application/vnd.jupyter.widget-view+json": {
       "model_id": "",
       "version_major": 2,
       "version_minor": 0
      },
      "text/plain": [
       "HBox(children=(FloatProgress(value=0.0, description='Training', layout=Layout(flex='2'), max=1250.0, style=Pro…"
      ]
     },
     "metadata": {},
     "output_type": "display_data"
    },
    {
     "name": "stdout",
     "output_type": "stream",
     "text": [
      "Epoch 352: train=7.21395, val=8.08623, took 45.378 s\n",
      "  Validation Found 51187 of 54504, added 1827 (eff 93.91%) (0.183 FP/event)\n"
     ]
    },
    {
     "data": {
      "application/vnd.jupyter.widget-view+json": {
       "model_id": "",
       "version_major": 2,
       "version_minor": 0
      },
      "text/plain": [
       "HBox(children=(FloatProgress(value=0.0, description='Training', layout=Layout(flex='2'), max=1250.0, style=Pro…"
      ]
     },
     "metadata": {},
     "output_type": "display_data"
    },
    {
     "name": "stdout",
     "output_type": "stream",
     "text": [
      "Epoch 353: train=7.21527, val=8.03422, took 45.443 s\n",
      "  Validation Found 51438 of 54504, added 2377 (eff 94.37%) (0.238 FP/event)\n"
     ]
    },
    {
     "data": {
      "application/vnd.jupyter.widget-view+json": {
       "model_id": "",
       "version_major": 2,
       "version_minor": 0
      },
      "text/plain": [
       "HBox(children=(FloatProgress(value=0.0, description='Training', layout=Layout(flex='2'), max=1250.0, style=Pro…"
      ]
     },
     "metadata": {},
     "output_type": "display_data"
    },
    {
     "name": "stdout",
     "output_type": "stream",
     "text": [
      "Epoch 354: train=7.21162, val=7.99682, took 45.487 s\n",
      "  Validation Found 51365 of 54504, added 2046 (eff 94.24%) (0.205 FP/event)\n"
     ]
    },
    {
     "data": {
      "application/vnd.jupyter.widget-view+json": {
       "model_id": "",
       "version_major": 2,
       "version_minor": 0
      },
      "text/plain": [
       "HBox(children=(FloatProgress(value=0.0, description='Training', layout=Layout(flex='2'), max=1250.0, style=Pro…"
      ]
     },
     "metadata": {},
     "output_type": "display_data"
    },
    {
     "name": "stdout",
     "output_type": "stream",
     "text": [
      "Epoch 355: train=7.21205, val=7.94823, took 45.477 s\n",
      "  Validation Found 51499 of 54504, added 2234 (eff 94.49%) (0.224 FP/event)\n"
     ]
    },
    {
     "data": {
      "application/vnd.jupyter.widget-view+json": {
       "model_id": "",
       "version_major": 2,
       "version_minor": 0
      },
      "text/plain": [
       "HBox(children=(FloatProgress(value=0.0, description='Training', layout=Layout(flex='2'), max=1250.0, style=Pro…"
      ]
     },
     "metadata": {},
     "output_type": "display_data"
    },
    {
     "name": "stdout",
     "output_type": "stream",
     "text": [
      "Epoch 356: train=7.21068, val=8.01291, took 45.479 s\n",
      "  Validation Found 51417 of 54504, added 2144 (eff 94.34%) (0.215 FP/event)\n"
     ]
    },
    {
     "data": {
      "application/vnd.jupyter.widget-view+json": {
       "model_id": "",
       "version_major": 2,
       "version_minor": 0
      },
      "text/plain": [
       "HBox(children=(FloatProgress(value=0.0, description='Training', layout=Layout(flex='2'), max=1250.0, style=Pro…"
      ]
     },
     "metadata": {},
     "output_type": "display_data"
    },
    {
     "name": "stdout",
     "output_type": "stream",
     "text": [
      "Epoch 357: train=7.21277, val=7.96845, took 45.655 s\n",
      "  Validation Found 51458 of 54504, added 2180 (eff 94.41%) (0.218 FP/event)\n"
     ]
    },
    {
     "data": {
      "application/vnd.jupyter.widget-view+json": {
       "model_id": "",
       "version_major": 2,
       "version_minor": 0
      },
      "text/plain": [
       "HBox(children=(FloatProgress(value=0.0, description='Training', layout=Layout(flex='2'), max=1250.0, style=Pro…"
      ]
     },
     "metadata": {},
     "output_type": "display_data"
    },
    {
     "name": "stdout",
     "output_type": "stream",
     "text": [
      "Epoch 358: train=7.21091, val=7.96618, took 45.599 s\n",
      "  Validation Found 51420 of 54504, added 2107 (eff 94.34%) (0.211 FP/event)\n"
     ]
    },
    {
     "data": {
      "application/vnd.jupyter.widget-view+json": {
       "model_id": "",
       "version_major": 2,
       "version_minor": 0
      },
      "text/plain": [
       "HBox(children=(FloatProgress(value=0.0, description='Training', layout=Layout(flex='2'), max=1250.0, style=Pro…"
      ]
     },
     "metadata": {},
     "output_type": "display_data"
    },
    {
     "name": "stdout",
     "output_type": "stream",
     "text": [
      "Epoch 359: train=7.21201, val=8.04079, took 45.466 s\n",
      "  Validation Found 51336 of 54504, added 1986 (eff 94.19%) (0.199 FP/event)\n"
     ]
    },
    {
     "data": {
      "application/vnd.jupyter.widget-view+json": {
       "model_id": "",
       "version_major": 2,
       "version_minor": 0
      },
      "text/plain": [
       "HBox(children=(FloatProgress(value=0.0, description='Training', layout=Layout(flex='2'), max=1250.0, style=Pro…"
      ]
     },
     "metadata": {},
     "output_type": "display_data"
    },
    {
     "name": "stdout",
     "output_type": "stream",
     "text": [
      "Epoch 360: train=7.21167, val=8.10647, took 45.564 s\n",
      "  Validation Found 51215 of 54504, added 1908 (eff 93.97%) (0.191 FP/event)\n"
     ]
    },
    {
     "data": {
      "application/vnd.jupyter.widget-view+json": {
       "model_id": "",
       "version_major": 2,
       "version_minor": 0
      },
      "text/plain": [
       "HBox(children=(FloatProgress(value=0.0, description='Training', layout=Layout(flex='2'), max=1250.0, style=Pro…"
      ]
     },
     "metadata": {},
     "output_type": "display_data"
    },
    {
     "name": "stdout",
     "output_type": "stream",
     "text": [
      "Epoch 361: train=7.20944, val=7.99812, took 45.792 s\n",
      "  Validation Found 51405 of 54504, added 2105 (eff 94.31%) (0.211 FP/event)\n"
     ]
    },
    {
     "data": {
      "application/vnd.jupyter.widget-view+json": {
       "model_id": "",
       "version_major": 2,
       "version_minor": 0
      },
      "text/plain": [
       "HBox(children=(FloatProgress(value=0.0, description='Training', layout=Layout(flex='2'), max=1250.0, style=Pro…"
      ]
     },
     "metadata": {},
     "output_type": "display_data"
    },
    {
     "name": "stdout",
     "output_type": "stream",
     "text": [
      "Epoch 362: train=7.20976, val=8.00866, took 45.982 s\n",
      "  Validation Found 51284 of 54504, added 1970 (eff 94.09%) (0.197 FP/event)\n"
     ]
    },
    {
     "data": {
      "application/vnd.jupyter.widget-view+json": {
       "model_id": "",
       "version_major": 2,
       "version_minor": 0
      },
      "text/plain": [
       "HBox(children=(FloatProgress(value=0.0, description='Training', layout=Layout(flex='2'), max=1250.0, style=Pro…"
      ]
     },
     "metadata": {},
     "output_type": "display_data"
    },
    {
     "name": "stdout",
     "output_type": "stream",
     "text": [
      "Epoch 363: train=7.21179, val=7.99558, took 46.075 s\n",
      "  Validation Found 51394 of 54504, added 2105 (eff 94.29%) (0.211 FP/event)\n"
     ]
    },
    {
     "data": {
      "application/vnd.jupyter.widget-view+json": {
       "model_id": "",
       "version_major": 2,
       "version_minor": 0
      },
      "text/plain": [
       "HBox(children=(FloatProgress(value=0.0, description='Training', layout=Layout(flex='2'), max=1250.0, style=Pro…"
      ]
     },
     "metadata": {},
     "output_type": "display_data"
    },
    {
     "name": "stdout",
     "output_type": "stream",
     "text": [
      "Epoch 364: train=7.2095, val=7.99634, took 45.87 s\n",
      "  Validation Found 51348 of 54504, added 1995 (eff 94.21%) (0.2 FP/event)\n"
     ]
    },
    {
     "data": {
      "application/vnd.jupyter.widget-view+json": {
       "model_id": "",
       "version_major": 2,
       "version_minor": 0
      },
      "text/plain": [
       "HBox(children=(FloatProgress(value=0.0, description='Training', layout=Layout(flex='2'), max=1250.0, style=Pro…"
      ]
     },
     "metadata": {},
     "output_type": "display_data"
    },
    {
     "name": "stdout",
     "output_type": "stream",
     "text": [
      "Epoch 365: train=7.21187, val=7.96715, took 45.798 s\n",
      "  Validation Found 51425 of 54504, added 2236 (eff 94.35%) (0.224 FP/event)\n"
     ]
    },
    {
     "data": {
      "application/vnd.jupyter.widget-view+json": {
       "model_id": "",
       "version_major": 2,
       "version_minor": 0
      },
      "text/plain": [
       "HBox(children=(FloatProgress(value=0.0, description='Training', layout=Layout(flex='2'), max=1250.0, style=Pro…"
      ]
     },
     "metadata": {},
     "output_type": "display_data"
    },
    {
     "name": "stdout",
     "output_type": "stream",
     "text": [
      "Epoch 366: train=7.20727, val=7.99836, took 45.551 s\n",
      "  Validation Found 51328 of 54504, added 1936 (eff 94.17%) (0.194 FP/event)\n"
     ]
    },
    {
     "data": {
      "application/vnd.jupyter.widget-view+json": {
       "model_id": "",
       "version_major": 2,
       "version_minor": 0
      },
      "text/plain": [
       "HBox(children=(FloatProgress(value=0.0, description='Training', layout=Layout(flex='2'), max=1250.0, style=Pro…"
      ]
     },
     "metadata": {},
     "output_type": "display_data"
    },
    {
     "name": "stdout",
     "output_type": "stream",
     "text": [
      "Epoch 367: train=7.21064, val=7.97482, took 45.546 s\n",
      "  Validation Found 51399 of 54504, added 2115 (eff 94.30%) (0.212 FP/event)\n"
     ]
    },
    {
     "data": {
      "application/vnd.jupyter.widget-view+json": {
       "model_id": "",
       "version_major": 2,
       "version_minor": 0
      },
      "text/plain": [
       "HBox(children=(FloatProgress(value=0.0, description='Training', layout=Layout(flex='2'), max=1250.0, style=Pro…"
      ]
     },
     "metadata": {},
     "output_type": "display_data"
    },
    {
     "name": "stdout",
     "output_type": "stream",
     "text": [
      "Epoch 368: train=7.21248, val=7.98772, took 45.451 s\n",
      "  Validation Found 51391 of 54504, added 2116 (eff 94.29%) (0.212 FP/event)\n"
     ]
    },
    {
     "data": {
      "application/vnd.jupyter.widget-view+json": {
       "model_id": "",
       "version_major": 2,
       "version_minor": 0
      },
      "text/plain": [
       "HBox(children=(FloatProgress(value=0.0, description='Training', layout=Layout(flex='2'), max=1250.0, style=Pro…"
      ]
     },
     "metadata": {},
     "output_type": "display_data"
    },
    {
     "name": "stdout",
     "output_type": "stream",
     "text": [
      "Epoch 369: train=7.20605, val=7.98276, took 45.432 s\n",
      "  Validation Found 51342 of 54504, added 1987 (eff 94.20%) (0.199 FP/event)\n"
     ]
    },
    {
     "data": {
      "application/vnd.jupyter.widget-view+json": {
       "model_id": "",
       "version_major": 2,
       "version_minor": 0
      },
      "text/plain": [
       "HBox(children=(FloatProgress(value=0.0, description='Training', layout=Layout(flex='2'), max=1250.0, style=Pro…"
      ]
     },
     "metadata": {},
     "output_type": "display_data"
    },
    {
     "name": "stdout",
     "output_type": "stream",
     "text": [
      "Epoch 370: train=7.20445, val=8.03673, took 45.489 s\n",
      "  Validation Found 51312 of 54504, added 1968 (eff 94.14%) (0.197 FP/event)\n"
     ]
    },
    {
     "data": {
      "application/vnd.jupyter.widget-view+json": {
       "model_id": "",
       "version_major": 2,
       "version_minor": 0
      },
      "text/plain": [
       "HBox(children=(FloatProgress(value=0.0, description='Training', layout=Layout(flex='2'), max=1250.0, style=Pro…"
      ]
     },
     "metadata": {},
     "output_type": "display_data"
    },
    {
     "name": "stdout",
     "output_type": "stream",
     "text": [
      "Epoch 371: train=7.20921, val=7.9804, took 45.621 s\n",
      "  Validation Found 51442 of 54504, added 2167 (eff 94.38%) (0.217 FP/event)\n"
     ]
    },
    {
     "data": {
      "application/vnd.jupyter.widget-view+json": {
       "model_id": "",
       "version_major": 2,
       "version_minor": 0
      },
      "text/plain": [
       "HBox(children=(FloatProgress(value=0.0, description='Training', layout=Layout(flex='2'), max=1250.0, style=Pro…"
      ]
     },
     "metadata": {},
     "output_type": "display_data"
    },
    {
     "name": "stdout",
     "output_type": "stream",
     "text": [
      "Epoch 372: train=7.2073, val=8.015, took 45.474 s\n",
      "  Validation Found 51426 of 54504, added 2251 (eff 94.35%) (0.225 FP/event)\n"
     ]
    },
    {
     "data": {
      "application/vnd.jupyter.widget-view+json": {
       "model_id": "",
       "version_major": 2,
       "version_minor": 0
      },
      "text/plain": [
       "HBox(children=(FloatProgress(value=0.0, description='Training', layout=Layout(flex='2'), max=1250.0, style=Pro…"
      ]
     },
     "metadata": {},
     "output_type": "display_data"
    },
    {
     "name": "stdout",
     "output_type": "stream",
     "text": [
      "Epoch 373: train=7.20982, val=8.02717, took 45.419 s\n",
      "  Validation Found 51491 of 54504, added 2358 (eff 94.47%) (0.236 FP/event)\n"
     ]
    },
    {
     "data": {
      "application/vnd.jupyter.widget-view+json": {
       "model_id": "",
       "version_major": 2,
       "version_minor": 0
      },
      "text/plain": [
       "HBox(children=(FloatProgress(value=0.0, description='Training', layout=Layout(flex='2'), max=1250.0, style=Pro…"
      ]
     },
     "metadata": {},
     "output_type": "display_data"
    },
    {
     "name": "stdout",
     "output_type": "stream",
     "text": [
      "Epoch 374: train=7.20721, val=8.01328, took 45.438 s\n",
      "  Validation Found 51320 of 54504, added 1950 (eff 94.16%) (0.195 FP/event)\n"
     ]
    },
    {
     "data": {
      "application/vnd.jupyter.widget-view+json": {
       "model_id": "",
       "version_major": 2,
       "version_minor": 0
      },
      "text/plain": [
       "HBox(children=(FloatProgress(value=0.0, description='Training', layout=Layout(flex='2'), max=1250.0, style=Pro…"
      ]
     },
     "metadata": {},
     "output_type": "display_data"
    },
    {
     "name": "stdout",
     "output_type": "stream",
     "text": [
      "Epoch 375: train=7.20526, val=8.04284, took 45.424 s\n",
      "  Validation Found 51281 of 54504, added 1898 (eff 94.09%) (0.19 FP/event)\n"
     ]
    },
    {
     "data": {
      "application/vnd.jupyter.widget-view+json": {
       "model_id": "",
       "version_major": 2,
       "version_minor": 0
      },
      "text/plain": [
       "HBox(children=(FloatProgress(value=0.0, description='Training', layout=Layout(flex='2'), max=1250.0, style=Pro…"
      ]
     },
     "metadata": {},
     "output_type": "display_data"
    },
    {
     "name": "stdout",
     "output_type": "stream",
     "text": [
      "Epoch 376: train=7.21028, val=7.99472, took 45.486 s\n",
      "  Validation Found 51510 of 54504, added 2339 (eff 94.51%) (0.234 FP/event)\n"
     ]
    },
    {
     "data": {
      "application/vnd.jupyter.widget-view+json": {
       "model_id": "",
       "version_major": 2,
       "version_minor": 0
      },
      "text/plain": [
       "HBox(children=(FloatProgress(value=0.0, description='Training', layout=Layout(flex='2'), max=1250.0, style=Pro…"
      ]
     },
     "metadata": {},
     "output_type": "display_data"
    },
    {
     "name": "stdout",
     "output_type": "stream",
     "text": [
      "Epoch 377: train=7.20578, val=7.99905, took 45.471 s\n",
      "  Validation Found 51306 of 54504, added 1987 (eff 94.13%) (0.199 FP/event)\n"
     ]
    },
    {
     "data": {
      "application/vnd.jupyter.widget-view+json": {
       "model_id": "",
       "version_major": 2,
       "version_minor": 0
      },
      "text/plain": [
       "HBox(children=(FloatProgress(value=0.0, description='Training', layout=Layout(flex='2'), max=1250.0, style=Pro…"
      ]
     },
     "metadata": {},
     "output_type": "display_data"
    },
    {
     "name": "stdout",
     "output_type": "stream",
     "text": [
      "Epoch 378: train=7.20603, val=8.04377, took 45.503 s\n",
      "  Validation Found 51473 of 54504, added 2380 (eff 94.44%) (0.238 FP/event)\n"
     ]
    },
    {
     "data": {
      "application/vnd.jupyter.widget-view+json": {
       "model_id": "",
       "version_major": 2,
       "version_minor": 0
      },
      "text/plain": [
       "HBox(children=(FloatProgress(value=0.0, description='Training', layout=Layout(flex='2'), max=1250.0, style=Pro…"
      ]
     },
     "metadata": {},
     "output_type": "display_data"
    },
    {
     "name": "stdout",
     "output_type": "stream",
     "text": [
      "Epoch 379: train=7.20745, val=7.99114, took 45.509 s\n",
      "  Validation Found 51318 of 54504, added 1957 (eff 94.15%) (0.196 FP/event)\n"
     ]
    },
    {
     "data": {
      "application/vnd.jupyter.widget-view+json": {
       "model_id": "",
       "version_major": 2,
       "version_minor": 0
      },
      "text/plain": [
       "HBox(children=(FloatProgress(value=0.0, description='Training', layout=Layout(flex='2'), max=1250.0, style=Pro…"
      ]
     },
     "metadata": {},
     "output_type": "display_data"
    },
    {
     "name": "stdout",
     "output_type": "stream",
     "text": [
      "Epoch 380: train=7.20457, val=7.96684, took 45.508 s\n",
      "  Validation Found 51467 of 54504, added 2227 (eff 94.43%) (0.223 FP/event)\n"
     ]
    },
    {
     "data": {
      "application/vnd.jupyter.widget-view+json": {
       "model_id": "",
       "version_major": 2,
       "version_minor": 0
      },
      "text/plain": [
       "HBox(children=(FloatProgress(value=0.0, description='Training', layout=Layout(flex='2'), max=1250.0, style=Pro…"
      ]
     },
     "metadata": {},
     "output_type": "display_data"
    },
    {
     "name": "stdout",
     "output_type": "stream",
     "text": [
      "Epoch 381: train=7.20521, val=8.03064, took 45.6 s\n",
      "  Validation Found 51538 of 54504, added 2437 (eff 94.56%) (0.244 FP/event)\n"
     ]
    },
    {
     "data": {
      "application/vnd.jupyter.widget-view+json": {
       "model_id": "",
       "version_major": 2,
       "version_minor": 0
      },
      "text/plain": [
       "HBox(children=(FloatProgress(value=0.0, description='Training', layout=Layout(flex='2'), max=1250.0, style=Pro…"
      ]
     },
     "metadata": {},
     "output_type": "display_data"
    },
    {
     "name": "stdout",
     "output_type": "stream",
     "text": [
      "Epoch 382: train=7.20599, val=8.02167, took 45.527 s\n",
      "  Validation Found 51368 of 54504, added 2113 (eff 94.25%) (0.212 FP/event)\n"
     ]
    },
    {
     "data": {
      "application/vnd.jupyter.widget-view+json": {
       "model_id": "",
       "version_major": 2,
       "version_minor": 0
      },
      "text/plain": [
       "HBox(children=(FloatProgress(value=0.0, description='Training', layout=Layout(flex='2'), max=1250.0, style=Pro…"
      ]
     },
     "metadata": {},
     "output_type": "display_data"
    },
    {
     "name": "stdout",
     "output_type": "stream",
     "text": [
      "Epoch 383: train=7.20489, val=7.95011, took 45.552 s\n",
      "  Validation Found 51442 of 54504, added 2186 (eff 94.38%) (0.219 FP/event)\n"
     ]
    },
    {
     "data": {
      "application/vnd.jupyter.widget-view+json": {
       "model_id": "",
       "version_major": 2,
       "version_minor": 0
      },
      "text/plain": [
       "HBox(children=(FloatProgress(value=0.0, description='Training', layout=Layout(flex='2'), max=1250.0, style=Pro…"
      ]
     },
     "metadata": {},
     "output_type": "display_data"
    },
    {
     "name": "stdout",
     "output_type": "stream",
     "text": [
      "Epoch 384: train=7.20647, val=7.9316, took 45.658 s\n",
      "  Validation Found 51472 of 54504, added 2239 (eff 94.44%) (0.224 FP/event)\n"
     ]
    },
    {
     "data": {
      "application/vnd.jupyter.widget-view+json": {
       "model_id": "",
       "version_major": 2,
       "version_minor": 0
      },
      "text/plain": [
       "HBox(children=(FloatProgress(value=0.0, description='Training', layout=Layout(flex='2'), max=1250.0, style=Pro…"
      ]
     },
     "metadata": {},
     "output_type": "display_data"
    },
    {
     "name": "stdout",
     "output_type": "stream",
     "text": [
      "Epoch 385: train=7.20487, val=7.94334, took 45.631 s\n",
      "  Validation Found 51470 of 54504, added 2263 (eff 94.43%) (0.227 FP/event)\n"
     ]
    },
    {
     "data": {
      "application/vnd.jupyter.widget-view+json": {
       "model_id": "",
       "version_major": 2,
       "version_minor": 0
      },
      "text/plain": [
       "HBox(children=(FloatProgress(value=0.0, description='Training', layout=Layout(flex='2'), max=1250.0, style=Pro…"
      ]
     },
     "metadata": {},
     "output_type": "display_data"
    },
    {
     "name": "stdout",
     "output_type": "stream",
     "text": [
      "Epoch 386: train=7.20612, val=7.96638, took 45.506 s\n",
      "  Validation Found 51469 of 54504, added 2233 (eff 94.43%) (0.224 FP/event)\n"
     ]
    },
    {
     "data": {
      "application/vnd.jupyter.widget-view+json": {
       "model_id": "",
       "version_major": 2,
       "version_minor": 0
      },
      "text/plain": [
       "HBox(children=(FloatProgress(value=0.0, description='Training', layout=Layout(flex='2'), max=1250.0, style=Pro…"
      ]
     },
     "metadata": {},
     "output_type": "display_data"
    },
    {
     "name": "stdout",
     "output_type": "stream",
     "text": [
      "Epoch 387: train=7.20284, val=8.03732, took 45.417 s\n",
      "  Validation Found 51448 of 54504, added 2299 (eff 94.39%) (0.23 FP/event)\n"
     ]
    },
    {
     "data": {
      "application/vnd.jupyter.widget-view+json": {
       "model_id": "",
       "version_major": 2,
       "version_minor": 0
      },
      "text/plain": [
       "HBox(children=(FloatProgress(value=0.0, description='Training', layout=Layout(flex='2'), max=1250.0, style=Pro…"
      ]
     },
     "metadata": {},
     "output_type": "display_data"
    },
    {
     "name": "stdout",
     "output_type": "stream",
     "text": [
      "Epoch 388: train=7.2058, val=8.00605, took 45.483 s\n",
      "  Validation Found 51311 of 54504, added 1980 (eff 94.14%) (0.198 FP/event)\n"
     ]
    },
    {
     "data": {
      "application/vnd.jupyter.widget-view+json": {
       "model_id": "",
       "version_major": 2,
       "version_minor": 0
      },
      "text/plain": [
       "HBox(children=(FloatProgress(value=0.0, description='Training', layout=Layout(flex='2'), max=1250.0, style=Pro…"
      ]
     },
     "metadata": {},
     "output_type": "display_data"
    },
    {
     "name": "stdout",
     "output_type": "stream",
     "text": [
      "Epoch 389: train=7.20323, val=8.03726, took 45.496 s\n",
      "  Validation Found 51314 of 54504, added 1969 (eff 94.15%) (0.197 FP/event)\n"
     ]
    },
    {
     "data": {
      "application/vnd.jupyter.widget-view+json": {
       "model_id": "",
       "version_major": 2,
       "version_minor": 0
      },
      "text/plain": [
       "HBox(children=(FloatProgress(value=0.0, description='Training', layout=Layout(flex='2'), max=1250.0, style=Pro…"
      ]
     },
     "metadata": {},
     "output_type": "display_data"
    },
    {
     "name": "stdout",
     "output_type": "stream",
     "text": [
      "Epoch 390: train=7.21546, val=7.9638, took 45.435 s\n",
      "  Validation Found 51473 of 54504, added 2128 (eff 94.44%) (0.213 FP/event)\n"
     ]
    },
    {
     "data": {
      "application/vnd.jupyter.widget-view+json": {
       "model_id": "",
       "version_major": 2,
       "version_minor": 0
      },
      "text/plain": [
       "HBox(children=(FloatProgress(value=0.0, description='Training', layout=Layout(flex='2'), max=1250.0, style=Pro…"
      ]
     },
     "metadata": {},
     "output_type": "display_data"
    },
    {
     "name": "stdout",
     "output_type": "stream",
     "text": [
      "Epoch 391: train=7.20136, val=8.03252, took 45.458 s\n",
      "  Validation Found 51485 of 54504, added 2199 (eff 94.46%) (0.22 FP/event)\n"
     ]
    },
    {
     "data": {
      "application/vnd.jupyter.widget-view+json": {
       "model_id": "",
       "version_major": 2,
       "version_minor": 0
      },
      "text/plain": [
       "HBox(children=(FloatProgress(value=0.0, description='Training', layout=Layout(flex='2'), max=1250.0, style=Pro…"
      ]
     },
     "metadata": {},
     "output_type": "display_data"
    },
    {
     "name": "stdout",
     "output_type": "stream",
     "text": [
      "Epoch 392: train=7.20288, val=8.00471, took 45.437 s\n",
      "  Validation Found 51386 of 54504, added 2087 (eff 94.28%) (0.209 FP/event)\n"
     ]
    },
    {
     "data": {
      "application/vnd.jupyter.widget-view+json": {
       "model_id": "",
       "version_major": 2,
       "version_minor": 0
      },
      "text/plain": [
       "HBox(children=(FloatProgress(value=0.0, description='Training', layout=Layout(flex='2'), max=1250.0, style=Pro…"
      ]
     },
     "metadata": {},
     "output_type": "display_data"
    },
    {
     "name": "stdout",
     "output_type": "stream",
     "text": [
      "Epoch 393: train=7.20084, val=8.21568, took 45.733 s\n",
      "  Validation Found 50928 of 54504, added 1513 (eff 93.44%) (0.152 FP/event)\n"
     ]
    },
    {
     "data": {
      "application/vnd.jupyter.widget-view+json": {
       "model_id": "",
       "version_major": 2,
       "version_minor": 0
      },
      "text/plain": [
       "HBox(children=(FloatProgress(value=0.0, description='Training', layout=Layout(flex='2'), max=1250.0, style=Pro…"
      ]
     },
     "metadata": {},
     "output_type": "display_data"
    },
    {
     "name": "stdout",
     "output_type": "stream",
     "text": [
      "Epoch 394: train=7.20205, val=8.10977, took 45.37 s\n",
      "  Validation Found 51255 of 54504, added 1853 (eff 94.04%) (0.186 FP/event)\n"
     ]
    },
    {
     "data": {
      "application/vnd.jupyter.widget-view+json": {
       "model_id": "",
       "version_major": 2,
       "version_minor": 0
      },
      "text/plain": [
       "HBox(children=(FloatProgress(value=0.0, description='Training', layout=Layout(flex='2'), max=1250.0, style=Pro…"
      ]
     },
     "metadata": {},
     "output_type": "display_data"
    },
    {
     "name": "stdout",
     "output_type": "stream",
     "text": [
      "Epoch 395: train=7.203, val=7.9991, took 45.476 s\n",
      "  Validation Found 51365 of 54504, added 2067 (eff 94.24%) (0.207 FP/event)\n"
     ]
    },
    {
     "data": {
      "application/vnd.jupyter.widget-view+json": {
       "model_id": "",
       "version_major": 2,
       "version_minor": 0
      },
      "text/plain": [
       "HBox(children=(FloatProgress(value=0.0, description='Training', layout=Layout(flex='2'), max=1250.0, style=Pro…"
      ]
     },
     "metadata": {},
     "output_type": "display_data"
    },
    {
     "name": "stdout",
     "output_type": "stream",
     "text": [
      "Epoch 396: train=7.20469, val=8.01914, took 45.5 s\n",
      "  Validation Found 51389 of 54504, added 2085 (eff 94.28%) (0.209 FP/event)\n"
     ]
    },
    {
     "data": {
      "application/vnd.jupyter.widget-view+json": {
       "model_id": "",
       "version_major": 2,
       "version_minor": 0
      },
      "text/plain": [
       "HBox(children=(FloatProgress(value=0.0, description='Training', layout=Layout(flex='2'), max=1250.0, style=Pro…"
      ]
     },
     "metadata": {},
     "output_type": "display_data"
    },
    {
     "name": "stdout",
     "output_type": "stream",
     "text": [
      "Epoch 397: train=7.20058, val=8.07418, took 46.378 s\n",
      "  Validation Found 51249 of 54504, added 1853 (eff 94.03%) (0.186 FP/event)\n"
     ]
    },
    {
     "data": {
      "application/vnd.jupyter.widget-view+json": {
       "model_id": "",
       "version_major": 2,
       "version_minor": 0
      },
      "text/plain": [
       "HBox(children=(FloatProgress(value=0.0, description='Training', layout=Layout(flex='2'), max=1250.0, style=Pro…"
      ]
     },
     "metadata": {},
     "output_type": "display_data"
    },
    {
     "name": "stdout",
     "output_type": "stream",
     "text": [
      "Epoch 398: train=7.20419, val=7.97879, took 46.519 s\n",
      "  Validation Found 51429 of 54504, added 2113 (eff 94.36%) (0.212 FP/event)\n"
     ]
    },
    {
     "data": {
      "application/vnd.jupyter.widget-view+json": {
       "model_id": "",
       "version_major": 2,
       "version_minor": 0
      },
      "text/plain": [
       "HBox(children=(FloatProgress(value=0.0, description='Training', layout=Layout(flex='2'), max=1250.0, style=Pro…"
      ]
     },
     "metadata": {},
     "output_type": "display_data"
    },
    {
     "name": "stdout",
     "output_type": "stream",
     "text": [
      "Epoch 399: train=7.20049, val=7.94942, took 45.526 s\n",
      "  Validation Found 51535 of 54504, added 2380 (eff 94.55%) (0.238 FP/event)\n"
     ]
    },
    {
     "data": {
      "application/vnd.jupyter.widget-view+json": {
       "model_id": "",
       "version_major": 2,
       "version_minor": 0
      },
      "text/plain": [
       "HBox(children=(FloatProgress(value=0.0, description='Training', layout=Layout(flex='2'), max=1250.0, style=Pro…"
      ]
     },
     "metadata": {},
     "output_type": "display_data"
    },
    {
     "name": "stdout",
     "output_type": "stream",
     "text": [
      "Epoch 400: train=7.20172, val=8.00078, took 45.942 s\n",
      "  Validation Found 51458 of 54504, added 2200 (eff 94.41%) (0.22 FP/event)\n"
     ]
    },
    {
     "data": {
      "application/vnd.jupyter.widget-view+json": {
       "model_id": "",
       "version_major": 2,
       "version_minor": 0
      },
      "text/plain": [
       "HBox(children=(FloatProgress(value=0.0, description='Training', layout=Layout(flex='2'), max=1250.0, style=Pro…"
      ]
     },
     "metadata": {},
     "output_type": "display_data"
    },
    {
     "name": "stdout",
     "output_type": "stream",
     "text": [
      "Epoch 401: train=7.19864, val=7.93318, took 46.047 s\n",
      "  Validation Found 51453 of 54504, added 2230 (eff 94.40%) (0.223 FP/event)\n"
     ]
    },
    {
     "data": {
      "application/vnd.jupyter.widget-view+json": {
       "model_id": "",
       "version_major": 2,
       "version_minor": 0
      },
      "text/plain": [
       "HBox(children=(FloatProgress(value=0.0, description='Training', layout=Layout(flex='2'), max=1250.0, style=Pro…"
      ]
     },
     "metadata": {},
     "output_type": "display_data"
    },
    {
     "name": "stdout",
     "output_type": "stream",
     "text": [
      "Epoch 402: train=7.20285, val=8.15313, took 45.456 s\n",
      "  Validation Found 51158 of 54504, added 1783 (eff 93.86%) (0.179 FP/event)\n"
     ]
    },
    {
     "data": {
      "application/vnd.jupyter.widget-view+json": {
       "model_id": "",
       "version_major": 2,
       "version_minor": 0
      },
      "text/plain": [
       "HBox(children=(FloatProgress(value=0.0, description='Training', layout=Layout(flex='2'), max=1250.0, style=Pro…"
      ]
     },
     "metadata": {},
     "output_type": "display_data"
    },
    {
     "name": "stdout",
     "output_type": "stream",
     "text": [
      "Epoch 403: train=7.19859, val=7.98629, took 45.473 s\n",
      "  Validation Found 51553 of 54504, added 2485 (eff 94.59%) (0.249 FP/event)\n"
     ]
    },
    {
     "data": {
      "application/vnd.jupyter.widget-view+json": {
       "model_id": "",
       "version_major": 2,
       "version_minor": 0
      },
      "text/plain": [
       "HBox(children=(FloatProgress(value=0.0, description='Training', layout=Layout(flex='2'), max=1250.0, style=Pro…"
      ]
     },
     "metadata": {},
     "output_type": "display_data"
    },
    {
     "name": "stdout",
     "output_type": "stream",
     "text": [
      "Epoch 404: train=7.20379, val=7.97981, took 45.706 s\n",
      "  Validation Found 51455 of 54504, added 2154 (eff 94.41%) (0.216 FP/event)\n"
     ]
    },
    {
     "data": {
      "application/vnd.jupyter.widget-view+json": {
       "model_id": "",
       "version_major": 2,
       "version_minor": 0
      },
      "text/plain": [
       "HBox(children=(FloatProgress(value=0.0, description='Training', layout=Layout(flex='2'), max=1250.0, style=Pro…"
      ]
     },
     "metadata": {},
     "output_type": "display_data"
    },
    {
     "name": "stdout",
     "output_type": "stream",
     "text": [
      "Epoch 405: train=7.19979, val=7.95489, took 45.526 s\n",
      "  Validation Found 51445 of 54504, added 2185 (eff 94.39%) (0.219 FP/event)\n"
     ]
    },
    {
     "data": {
      "application/vnd.jupyter.widget-view+json": {
       "model_id": "",
       "version_major": 2,
       "version_minor": 0
      },
      "text/plain": [
       "HBox(children=(FloatProgress(value=0.0, description='Training', layout=Layout(flex='2'), max=1250.0, style=Pro…"
      ]
     },
     "metadata": {},
     "output_type": "display_data"
    },
    {
     "name": "stdout",
     "output_type": "stream",
     "text": [
      "Epoch 406: train=7.19868, val=8.01517, took 45.551 s\n",
      "  Validation Found 51265 of 54504, added 1904 (eff 94.06%) (0.191 FP/event)\n"
     ]
    },
    {
     "data": {
      "application/vnd.jupyter.widget-view+json": {
       "model_id": "",
       "version_major": 2,
       "version_minor": 0
      },
      "text/plain": [
       "HBox(children=(FloatProgress(value=0.0, description='Training', layout=Layout(flex='2'), max=1250.0, style=Pro…"
      ]
     },
     "metadata": {},
     "output_type": "display_data"
    },
    {
     "name": "stdout",
     "output_type": "stream",
     "text": [
      "Epoch 407: train=7.19775, val=8.08957, took 45.695 s\n",
      "  Validation Found 51235 of 54504, added 1862 (eff 94.00%) (0.186 FP/event)\n"
     ]
    },
    {
     "data": {
      "application/vnd.jupyter.widget-view+json": {
       "model_id": "",
       "version_major": 2,
       "version_minor": 0
      },
      "text/plain": [
       "HBox(children=(FloatProgress(value=0.0, description='Training', layout=Layout(flex='2'), max=1250.0, style=Pro…"
      ]
     },
     "metadata": {},
     "output_type": "display_data"
    },
    {
     "name": "stdout",
     "output_type": "stream",
     "text": [
      "Epoch 408: train=7.19941, val=8.01967, took 45.566 s\n",
      "  Validation Found 51443 of 54504, added 2151 (eff 94.38%) (0.215 FP/event)\n"
     ]
    },
    {
     "data": {
      "application/vnd.jupyter.widget-view+json": {
       "model_id": "",
       "version_major": 2,
       "version_minor": 0
      },
      "text/plain": [
       "HBox(children=(FloatProgress(value=0.0, description='Training', layout=Layout(flex='2'), max=1250.0, style=Pro…"
      ]
     },
     "metadata": {},
     "output_type": "display_data"
    },
    {
     "name": "stdout",
     "output_type": "stream",
     "text": [
      "Epoch 409: train=7.20004, val=7.99254, took 45.42 s\n",
      "  Validation Found 51409 of 54504, added 2143 (eff 94.32%) (0.215 FP/event)\n"
     ]
    },
    {
     "data": {
      "application/vnd.jupyter.widget-view+json": {
       "model_id": "",
       "version_major": 2,
       "version_minor": 0
      },
      "text/plain": [
       "HBox(children=(FloatProgress(value=0.0, description='Training', layout=Layout(flex='2'), max=1250.0, style=Pro…"
      ]
     },
     "metadata": {},
     "output_type": "display_data"
    },
    {
     "name": "stdout",
     "output_type": "stream",
     "text": [
      "Epoch 410: train=7.20194, val=8.00341, took 45.395 s\n",
      "  Validation Found 51425 of 54504, added 2211 (eff 94.35%) (0.221 FP/event)\n"
     ]
    },
    {
     "data": {
      "application/vnd.jupyter.widget-view+json": {
       "model_id": "",
       "version_major": 2,
       "version_minor": 0
      },
      "text/plain": [
       "HBox(children=(FloatProgress(value=0.0, description='Training', layout=Layout(flex='2'), max=1250.0, style=Pro…"
      ]
     },
     "metadata": {},
     "output_type": "display_data"
    },
    {
     "name": "stdout",
     "output_type": "stream",
     "text": [
      "Epoch 411: train=7.20079, val=7.97458, took 45.407 s\n",
      "  Validation Found 51337 of 54504, added 1948 (eff 94.19%) (0.195 FP/event)\n"
     ]
    },
    {
     "data": {
      "application/vnd.jupyter.widget-view+json": {
       "model_id": "",
       "version_major": 2,
       "version_minor": 0
      },
      "text/plain": [
       "HBox(children=(FloatProgress(value=0.0, description='Training', layout=Layout(flex='2'), max=1250.0, style=Pro…"
      ]
     },
     "metadata": {},
     "output_type": "display_data"
    },
    {
     "name": "stdout",
     "output_type": "stream",
     "text": [
      "Epoch 412: train=7.19672, val=8.09885, took 45.506 s\n",
      "  Validation Found 51176 of 54504, added 1734 (eff 93.89%) (0.174 FP/event)\n"
     ]
    },
    {
     "data": {
      "application/vnd.jupyter.widget-view+json": {
       "model_id": "",
       "version_major": 2,
       "version_minor": 0
      },
      "text/plain": [
       "HBox(children=(FloatProgress(value=0.0, description='Training', layout=Layout(flex='2'), max=1250.0, style=Pro…"
      ]
     },
     "metadata": {},
     "output_type": "display_data"
    },
    {
     "name": "stdout",
     "output_type": "stream",
     "text": [
      "Epoch 413: train=7.19863, val=8.04865, took 45.583 s\n",
      "  Validation Found 51362 of 54504, added 2024 (eff 94.24%) (0.203 FP/event)\n"
     ]
    },
    {
     "data": {
      "application/vnd.jupyter.widget-view+json": {
       "model_id": "",
       "version_major": 2,
       "version_minor": 0
      },
      "text/plain": [
       "HBox(children=(FloatProgress(value=0.0, description='Training', layout=Layout(flex='2'), max=1250.0, style=Pro…"
      ]
     },
     "metadata": {},
     "output_type": "display_data"
    },
    {
     "name": "stdout",
     "output_type": "stream",
     "text": [
      "Epoch 414: train=7.19958, val=8.01416, took 45.463 s\n",
      "  Validation Found 51302 of 54504, added 2003 (eff 94.13%) (0.201 FP/event)\n"
     ]
    },
    {
     "data": {
      "application/vnd.jupyter.widget-view+json": {
       "model_id": "",
       "version_major": 2,
       "version_minor": 0
      },
      "text/plain": [
       "HBox(children=(FloatProgress(value=0.0, description='Training', layout=Layout(flex='2'), max=1250.0, style=Pro…"
      ]
     },
     "metadata": {},
     "output_type": "display_data"
    },
    {
     "name": "stdout",
     "output_type": "stream",
     "text": [
      "Epoch 415: train=7.1931, val=8.02316, took 45.445 s\n",
      "  Validation Found 51409 of 54504, added 2136 (eff 94.32%) (0.214 FP/event)\n"
     ]
    },
    {
     "data": {
      "application/vnd.jupyter.widget-view+json": {
       "model_id": "",
       "version_major": 2,
       "version_minor": 0
      },
      "text/plain": [
       "HBox(children=(FloatProgress(value=0.0, description='Training', layout=Layout(flex='2'), max=1250.0, style=Pro…"
      ]
     },
     "metadata": {},
     "output_type": "display_data"
    },
    {
     "name": "stdout",
     "output_type": "stream",
     "text": [
      "Epoch 416: train=7.19838, val=7.97192, took 45.793 s\n",
      "  Validation Found 51463 of 54504, added 2263 (eff 94.42%) (0.227 FP/event)\n"
     ]
    },
    {
     "data": {
      "application/vnd.jupyter.widget-view+json": {
       "model_id": "",
       "version_major": 2,
       "version_minor": 0
      },
      "text/plain": [
       "HBox(children=(FloatProgress(value=0.0, description='Training', layout=Layout(flex='2'), max=1250.0, style=Pro…"
      ]
     },
     "metadata": {},
     "output_type": "display_data"
    },
    {
     "name": "stdout",
     "output_type": "stream",
     "text": [
      "Epoch 417: train=7.19357, val=8.0279, took 46.015 s\n",
      "  Validation Found 51270 of 54504, added 1864 (eff 94.07%) (0.187 FP/event)\n"
     ]
    },
    {
     "data": {
      "application/vnd.jupyter.widget-view+json": {
       "model_id": "",
       "version_major": 2,
       "version_minor": 0
      },
      "text/plain": [
       "HBox(children=(FloatProgress(value=0.0, description='Training', layout=Layout(flex='2'), max=1250.0, style=Pro…"
      ]
     },
     "metadata": {},
     "output_type": "display_data"
    },
    {
     "name": "stdout",
     "output_type": "stream",
     "text": [
      "Epoch 418: train=7.19679, val=7.9867, took 45.356 s\n",
      "  Validation Found 51328 of 54504, added 1954 (eff 94.17%) (0.196 FP/event)\n"
     ]
    },
    {
     "data": {
      "application/vnd.jupyter.widget-view+json": {
       "model_id": "",
       "version_major": 2,
       "version_minor": 0
      },
      "text/plain": [
       "HBox(children=(FloatProgress(value=0.0, description='Training', layout=Layout(flex='2'), max=1250.0, style=Pro…"
      ]
     },
     "metadata": {},
     "output_type": "display_data"
    },
    {
     "name": "stdout",
     "output_type": "stream",
     "text": [
      "Epoch 419: train=7.19635, val=7.96439, took 45.8 s\n",
      "  Validation Found 51481 of 54504, added 2188 (eff 94.45%) (0.219 FP/event)\n"
     ]
    },
    {
     "data": {
      "application/vnd.jupyter.widget-view+json": {
       "model_id": "",
       "version_major": 2,
       "version_minor": 0
      },
      "text/plain": [
       "HBox(children=(FloatProgress(value=0.0, description='Training', layout=Layout(flex='2'), max=1250.0, style=Pro…"
      ]
     },
     "metadata": {},
     "output_type": "display_data"
    },
    {
     "name": "stdout",
     "output_type": "stream",
     "text": [
      "Epoch 420: train=7.19669, val=8.05949, took 45.568 s\n",
      "  Validation Found 51285 of 54504, added 1971 (eff 94.09%) (0.197 FP/event)\n"
     ]
    },
    {
     "data": {
      "application/vnd.jupyter.widget-view+json": {
       "model_id": "",
       "version_major": 2,
       "version_minor": 0
      },
      "text/plain": [
       "HBox(children=(FloatProgress(value=0.0, description='Training', layout=Layout(flex='2'), max=1250.0, style=Pro…"
      ]
     },
     "metadata": {},
     "output_type": "display_data"
    },
    {
     "name": "stdout",
     "output_type": "stream",
     "text": [
      "Epoch 421: train=7.19552, val=8.01659, took 45.47 s\n",
      "  Validation Found 51383 of 54504, added 2063 (eff 94.27%) (0.207 FP/event)\n"
     ]
    },
    {
     "data": {
      "application/vnd.jupyter.widget-view+json": {
       "model_id": "",
       "version_major": 2,
       "version_minor": 0
      },
      "text/plain": [
       "HBox(children=(FloatProgress(value=0.0, description='Training', layout=Layout(flex='2'), max=1250.0, style=Pro…"
      ]
     },
     "metadata": {},
     "output_type": "display_data"
    },
    {
     "name": "stdout",
     "output_type": "stream",
     "text": [
      "Epoch 422: train=7.19429, val=8.06441, took 45.45 s\n",
      "  Validation Found 51393 of 54504, added 2219 (eff 94.29%) (0.222 FP/event)\n"
     ]
    },
    {
     "data": {
      "application/vnd.jupyter.widget-view+json": {
       "model_id": "",
       "version_major": 2,
       "version_minor": 0
      },
      "text/plain": [
       "HBox(children=(FloatProgress(value=0.0, description='Training', layout=Layout(flex='2'), max=1250.0, style=Pro…"
      ]
     },
     "metadata": {},
     "output_type": "display_data"
    },
    {
     "name": "stdout",
     "output_type": "stream",
     "text": [
      "Epoch 423: train=7.19958, val=8.01668, took 45.465 s\n",
      "  Validation Found 51368 of 54504, added 2028 (eff 94.25%) (0.203 FP/event)\n"
     ]
    },
    {
     "data": {
      "application/vnd.jupyter.widget-view+json": {
       "model_id": "",
       "version_major": 2,
       "version_minor": 0
      },
      "text/plain": [
       "HBox(children=(FloatProgress(value=0.0, description='Training', layout=Layout(flex='2'), max=1250.0, style=Pro…"
      ]
     },
     "metadata": {},
     "output_type": "display_data"
    },
    {
     "name": "stdout",
     "output_type": "stream",
     "text": [
      "Epoch 424: train=7.19716, val=8.07203, took 45.492 s\n",
      "  Validation Found 51276 of 54504, added 1945 (eff 94.08%) (0.195 FP/event)\n"
     ]
    },
    {
     "data": {
      "application/vnd.jupyter.widget-view+json": {
       "model_id": "",
       "version_major": 2,
       "version_minor": 0
      },
      "text/plain": [
       "HBox(children=(FloatProgress(value=0.0, description='Training', layout=Layout(flex='2'), max=1250.0, style=Pro…"
      ]
     },
     "metadata": {},
     "output_type": "display_data"
    },
    {
     "name": "stdout",
     "output_type": "stream",
     "text": [
      "Epoch 425: train=7.19447, val=7.94, took 45.499 s\n",
      "  Validation Found 51632 of 54504, added 2568 (eff 94.73%) (0.257 FP/event)\n"
     ]
    },
    {
     "data": {
      "application/vnd.jupyter.widget-view+json": {
       "model_id": "",
       "version_major": 2,
       "version_minor": 0
      },
      "text/plain": [
       "HBox(children=(FloatProgress(value=0.0, description='Training', layout=Layout(flex='2'), max=1250.0, style=Pro…"
      ]
     },
     "metadata": {},
     "output_type": "display_data"
    },
    {
     "name": "stdout",
     "output_type": "stream",
     "text": [
      "Epoch 426: train=7.19639, val=7.99792, took 45.481 s\n",
      "  Validation Found 51473 of 54504, added 2288 (eff 94.44%) (0.229 FP/event)\n"
     ]
    },
    {
     "data": {
      "application/vnd.jupyter.widget-view+json": {
       "model_id": "",
       "version_major": 2,
       "version_minor": 0
      },
      "text/plain": [
       "HBox(children=(FloatProgress(value=0.0, description='Training', layout=Layout(flex='2'), max=1250.0, style=Pro…"
      ]
     },
     "metadata": {},
     "output_type": "display_data"
    },
    {
     "name": "stdout",
     "output_type": "stream",
     "text": [
      "Epoch 427: train=7.19676, val=8.03431, took 45.787 s\n",
      "  Validation Found 51350 of 54504, added 2021 (eff 94.21%) (0.202 FP/event)\n"
     ]
    },
    {
     "data": {
      "application/vnd.jupyter.widget-view+json": {
       "model_id": "",
       "version_major": 2,
       "version_minor": 0
      },
      "text/plain": [
       "HBox(children=(FloatProgress(value=0.0, description='Training', layout=Layout(flex='2'), max=1250.0, style=Pro…"
      ]
     },
     "metadata": {},
     "output_type": "display_data"
    },
    {
     "name": "stdout",
     "output_type": "stream",
     "text": [
      "Epoch 428: train=7.19261, val=8.00666, took 44.926 s\n",
      "  Validation Found 51417 of 54504, added 2095 (eff 94.34%) (0.21 FP/event)\n"
     ]
    },
    {
     "data": {
      "application/vnd.jupyter.widget-view+json": {
       "model_id": "",
       "version_major": 2,
       "version_minor": 0
      },
      "text/plain": [
       "HBox(children=(FloatProgress(value=0.0, description='Training', layout=Layout(flex='2'), max=1250.0, style=Pro…"
      ]
     },
     "metadata": {},
     "output_type": "display_data"
    },
    {
     "name": "stdout",
     "output_type": "stream",
     "text": [
      "Epoch 429: train=7.19209, val=8.16126, took 44.532 s\n",
      "  Validation Found 51137 of 54504, added 1737 (eff 93.82%) (0.174 FP/event)\n"
     ]
    },
    {
     "data": {
      "application/vnd.jupyter.widget-view+json": {
       "model_id": "",
       "version_major": 2,
       "version_minor": 0
      },
      "text/plain": [
       "HBox(children=(FloatProgress(value=0.0, description='Training', layout=Layout(flex='2'), max=1250.0, style=Pro…"
      ]
     },
     "metadata": {},
     "output_type": "display_data"
    },
    {
     "name": "stdout",
     "output_type": "stream",
     "text": [
      "Epoch 430: train=7.19266, val=8.17598, took 44.546 s\n",
      "  Validation Found 50970 of 54504, added 1530 (eff 93.52%) (0.153 FP/event)\n"
     ]
    },
    {
     "data": {
      "application/vnd.jupyter.widget-view+json": {
       "model_id": "",
       "version_major": 2,
       "version_minor": 0
      },
      "text/plain": [
       "HBox(children=(FloatProgress(value=0.0, description='Training', layout=Layout(flex='2'), max=1250.0, style=Pro…"
      ]
     },
     "metadata": {},
     "output_type": "display_data"
    },
    {
     "name": "stdout",
     "output_type": "stream",
     "text": [
      "Epoch 431: train=7.19631, val=7.9584, took 44.552 s\n",
      "  Validation Found 51462 of 54504, added 2141 (eff 94.42%) (0.214 FP/event)\n"
     ]
    },
    {
     "data": {
      "application/vnd.jupyter.widget-view+json": {
       "model_id": "",
       "version_major": 2,
       "version_minor": 0
      },
      "text/plain": [
       "HBox(children=(FloatProgress(value=0.0, description='Training', layout=Layout(flex='2'), max=1250.0, style=Pro…"
      ]
     },
     "metadata": {},
     "output_type": "display_data"
    },
    {
     "name": "stdout",
     "output_type": "stream",
     "text": [
      "Epoch 432: train=7.19195, val=8.03106, took 45.262 s\n",
      "  Validation Found 51263 of 54504, added 1888 (eff 94.05%) (0.189 FP/event)\n"
     ]
    },
    {
     "data": {
      "application/vnd.jupyter.widget-view+json": {
       "model_id": "",
       "version_major": 2,
       "version_minor": 0
      },
      "text/plain": [
       "HBox(children=(FloatProgress(value=0.0, description='Training', layout=Layout(flex='2'), max=1250.0, style=Pro…"
      ]
     },
     "metadata": {},
     "output_type": "display_data"
    },
    {
     "name": "stdout",
     "output_type": "stream",
     "text": [
      "Epoch 433: train=7.19462, val=8.02046, took 45.676 s\n",
      "  Validation Found 51292 of 54504, added 1962 (eff 94.11%) (0.196 FP/event)\n"
     ]
    },
    {
     "data": {
      "application/vnd.jupyter.widget-view+json": {
       "model_id": "",
       "version_major": 2,
       "version_minor": 0
      },
      "text/plain": [
       "HBox(children=(FloatProgress(value=0.0, description='Training', layout=Layout(flex='2'), max=1250.0, style=Pro…"
      ]
     },
     "metadata": {},
     "output_type": "display_data"
    },
    {
     "name": "stdout",
     "output_type": "stream",
     "text": [
      "Epoch 434: train=7.19132, val=8.17779, took 45.593 s\n",
      "  Validation Found 51128 of 54504, added 1715 (eff 93.81%) (0.172 FP/event)\n"
     ]
    },
    {
     "data": {
      "application/vnd.jupyter.widget-view+json": {
       "model_id": "",
       "version_major": 2,
       "version_minor": 0
      },
      "text/plain": [
       "HBox(children=(FloatProgress(value=0.0, description='Training', layout=Layout(flex='2'), max=1250.0, style=Pro…"
      ]
     },
     "metadata": {},
     "output_type": "display_data"
    },
    {
     "name": "stdout",
     "output_type": "stream",
     "text": [
      "Epoch 435: train=7.18901, val=7.98439, took 45.538 s\n",
      "  Validation Found 51460 of 54504, added 2199 (eff 94.42%) (0.22 FP/event)\n"
     ]
    },
    {
     "data": {
      "application/vnd.jupyter.widget-view+json": {
       "model_id": "",
       "version_major": 2,
       "version_minor": 0
      },
      "text/plain": [
       "HBox(children=(FloatProgress(value=0.0, description='Training', layout=Layout(flex='2'), max=1250.0, style=Pro…"
      ]
     },
     "metadata": {},
     "output_type": "display_data"
    },
    {
     "name": "stdout",
     "output_type": "stream",
     "text": [
      "Epoch 436: train=7.19265, val=7.98716, took 45.446 s\n",
      "  Validation Found 51370 of 54504, added 2018 (eff 94.25%) (0.202 FP/event)\n"
     ]
    },
    {
     "data": {
      "application/vnd.jupyter.widget-view+json": {
       "model_id": "",
       "version_major": 2,
       "version_minor": 0
      },
      "text/plain": [
       "HBox(children=(FloatProgress(value=0.0, description='Training', layout=Layout(flex='2'), max=1250.0, style=Pro…"
      ]
     },
     "metadata": {},
     "output_type": "display_data"
    },
    {
     "name": "stdout",
     "output_type": "stream",
     "text": [
      "Epoch 437: train=7.19278, val=8.08461, took 45.596 s\n",
      "  Validation Found 51167 of 54504, added 1784 (eff 93.88%) (0.179 FP/event)\n"
     ]
    },
    {
     "data": {
      "application/vnd.jupyter.widget-view+json": {
       "model_id": "",
       "version_major": 2,
       "version_minor": 0
      },
      "text/plain": [
       "HBox(children=(FloatProgress(value=0.0, description='Training', layout=Layout(flex='2'), max=1250.0, style=Pro…"
      ]
     },
     "metadata": {},
     "output_type": "display_data"
    },
    {
     "name": "stdout",
     "output_type": "stream",
     "text": [
      "Epoch 438: train=7.19175, val=8.03059, took 45.657 s\n",
      "  Validation Found 51302 of 54504, added 1957 (eff 94.13%) (0.196 FP/event)\n"
     ]
    },
    {
     "data": {
      "application/vnd.jupyter.widget-view+json": {
       "model_id": "",
       "version_major": 2,
       "version_minor": 0
      },
      "text/plain": [
       "HBox(children=(FloatProgress(value=0.0, description='Training', layout=Layout(flex='2'), max=1250.0, style=Pro…"
      ]
     },
     "metadata": {},
     "output_type": "display_data"
    },
    {
     "name": "stdout",
     "output_type": "stream",
     "text": [
      "Epoch 439: train=7.1921, val=7.99957, took 46.172 s\n",
      "  Validation Found 51399 of 54504, added 2099 (eff 94.30%) (0.21 FP/event)\n"
     ]
    },
    {
     "data": {
      "application/vnd.jupyter.widget-view+json": {
       "model_id": "",
       "version_major": 2,
       "version_minor": 0
      },
      "text/plain": [
       "HBox(children=(FloatProgress(value=0.0, description='Training', layout=Layout(flex='2'), max=1250.0, style=Pro…"
      ]
     },
     "metadata": {},
     "output_type": "display_data"
    },
    {
     "name": "stdout",
     "output_type": "stream",
     "text": [
      "Epoch 440: train=7.19135, val=8.18036, took 45.62 s\n",
      "  Validation Found 51130 of 54504, added 1702 (eff 93.81%) (0.17 FP/event)\n"
     ]
    },
    {
     "data": {
      "application/vnd.jupyter.widget-view+json": {
       "model_id": "",
       "version_major": 2,
       "version_minor": 0
      },
      "text/plain": [
       "HBox(children=(FloatProgress(value=0.0, description='Training', layout=Layout(flex='2'), max=1250.0, style=Pro…"
      ]
     },
     "metadata": {},
     "output_type": "display_data"
    },
    {
     "name": "stdout",
     "output_type": "stream",
     "text": [
      "Epoch 441: train=7.19167, val=7.96886, took 45.586 s\n",
      "  Validation Found 51475 of 54504, added 2321 (eff 94.44%) (0.232 FP/event)\n"
     ]
    },
    {
     "data": {
      "application/vnd.jupyter.widget-view+json": {
       "model_id": "",
       "version_major": 2,
       "version_minor": 0
      },
      "text/plain": [
       "HBox(children=(FloatProgress(value=0.0, description='Training', layout=Layout(flex='2'), max=1250.0, style=Pro…"
      ]
     },
     "metadata": {},
     "output_type": "display_data"
    },
    {
     "name": "stdout",
     "output_type": "stream",
     "text": [
      "Epoch 442: train=7.19303, val=7.98974, took 45.992 s\n",
      "  Validation Found 51493 of 54504, added 2252 (eff 94.48%) (0.226 FP/event)\n"
     ]
    },
    {
     "data": {
      "application/vnd.jupyter.widget-view+json": {
       "model_id": "",
       "version_major": 2,
       "version_minor": 0
      },
      "text/plain": [
       "HBox(children=(FloatProgress(value=0.0, description='Training', layout=Layout(flex='2'), max=1250.0, style=Pro…"
      ]
     },
     "metadata": {},
     "output_type": "display_data"
    },
    {
     "name": "stdout",
     "output_type": "stream",
     "text": [
      "Epoch 443: train=7.19165, val=8.00357, took 45.828 s\n",
      "  Validation Found 51425 of 54504, added 2197 (eff 94.35%) (0.22 FP/event)\n"
     ]
    },
    {
     "data": {
      "application/vnd.jupyter.widget-view+json": {
       "model_id": "",
       "version_major": 2,
       "version_minor": 0
      },
      "text/plain": [
       "HBox(children=(FloatProgress(value=0.0, description='Training', layout=Layout(flex='2'), max=1250.0, style=Pro…"
      ]
     },
     "metadata": {},
     "output_type": "display_data"
    },
    {
     "name": "stdout",
     "output_type": "stream",
     "text": [
      "Epoch 444: train=7.19421, val=8.04027, took 45.533 s\n",
      "  Validation Found 51319 of 54504, added 1987 (eff 94.16%) (0.199 FP/event)\n"
     ]
    },
    {
     "data": {
      "application/vnd.jupyter.widget-view+json": {
       "model_id": "",
       "version_major": 2,
       "version_minor": 0
      },
      "text/plain": [
       "HBox(children=(FloatProgress(value=0.0, description='Training', layout=Layout(flex='2'), max=1250.0, style=Pro…"
      ]
     },
     "metadata": {},
     "output_type": "display_data"
    },
    {
     "name": "stdout",
     "output_type": "stream",
     "text": [
      "Epoch 445: train=7.18941, val=8.02178, took 45.545 s\n",
      "  Validation Found 51555 of 54504, added 2515 (eff 94.59%) (0.252 FP/event)\n"
     ]
    },
    {
     "data": {
      "application/vnd.jupyter.widget-view+json": {
       "model_id": "",
       "version_major": 2,
       "version_minor": 0
      },
      "text/plain": [
       "HBox(children=(FloatProgress(value=0.0, description='Training', layout=Layout(flex='2'), max=1250.0, style=Pro…"
      ]
     },
     "metadata": {},
     "output_type": "display_data"
    },
    {
     "name": "stdout",
     "output_type": "stream",
     "text": [
      "Epoch 446: train=7.19069, val=8.10411, took 45.437 s\n",
      "  Validation Found 51281 of 54504, added 1955 (eff 94.09%) (0.196 FP/event)\n"
     ]
    },
    {
     "data": {
      "application/vnd.jupyter.widget-view+json": {
       "model_id": "",
       "version_major": 2,
       "version_minor": 0
      },
      "text/plain": [
       "HBox(children=(FloatProgress(value=0.0, description='Training', layout=Layout(flex='2'), max=1250.0, style=Pro…"
      ]
     },
     "metadata": {},
     "output_type": "display_data"
    },
    {
     "name": "stdout",
     "output_type": "stream",
     "text": [
      "Epoch 447: train=7.1876, val=7.94775, took 45.451 s\n",
      "  Validation Found 51492 of 54504, added 2344 (eff 94.47%) (0.235 FP/event)\n"
     ]
    },
    {
     "data": {
      "application/vnd.jupyter.widget-view+json": {
       "model_id": "",
       "version_major": 2,
       "version_minor": 0
      },
      "text/plain": [
       "HBox(children=(FloatProgress(value=0.0, description='Training', layout=Layout(flex='2'), max=1250.0, style=Pro…"
      ]
     },
     "metadata": {},
     "output_type": "display_data"
    },
    {
     "name": "stdout",
     "output_type": "stream",
     "text": [
      "Epoch 448: train=7.19133, val=8.11045, took 45.535 s\n",
      "  Validation Found 51251 of 54504, added 1838 (eff 94.03%) (0.184 FP/event)\n"
     ]
    },
    {
     "data": {
      "application/vnd.jupyter.widget-view+json": {
       "model_id": "",
       "version_major": 2,
       "version_minor": 0
      },
      "text/plain": [
       "HBox(children=(FloatProgress(value=0.0, description='Training', layout=Layout(flex='2'), max=1250.0, style=Pro…"
      ]
     },
     "metadata": {},
     "output_type": "display_data"
    },
    {
     "name": "stdout",
     "output_type": "stream",
     "text": [
      "Epoch 449: train=7.18866, val=7.97378, took 45.495 s\n",
      "  Validation Found 51410 of 54504, added 2139 (eff 94.32%) (0.214 FP/event)\n"
     ]
    },
    {
     "data": {
      "application/vnd.jupyter.widget-view+json": {
       "model_id": "",
       "version_major": 2,
       "version_minor": 0
      },
      "text/plain": [
       "HBox(children=(FloatProgress(value=0.0, description='Training', layout=Layout(flex='2'), max=1250.0, style=Pro…"
      ]
     },
     "metadata": {},
     "output_type": "display_data"
    },
    {
     "name": "stdout",
     "output_type": "stream",
     "text": [
      "Epoch 450: train=7.19052, val=8.06191, took 45.45 s\n",
      "  Validation Found 51253 of 54504, added 1857 (eff 94.04%) (0.186 FP/event)\n"
     ]
    },
    {
     "data": {
      "application/vnd.jupyter.widget-view+json": {
       "model_id": "",
       "version_major": 2,
       "version_minor": 0
      },
      "text/plain": [
       "HBox(children=(FloatProgress(value=0.0, description='Training', layout=Layout(flex='2'), max=1250.0, style=Pro…"
      ]
     },
     "metadata": {},
     "output_type": "display_data"
    },
    {
     "name": "stdout",
     "output_type": "stream",
     "text": [
      "Epoch 451: train=7.18771, val=7.96463, took 45.825 s\n",
      "  Validation Found 51549 of 54504, added 2480 (eff 94.58%) (0.248 FP/event)\n"
     ]
    },
    {
     "data": {
      "application/vnd.jupyter.widget-view+json": {
       "model_id": "",
       "version_major": 2,
       "version_minor": 0
      },
      "text/plain": [
       "HBox(children=(FloatProgress(value=0.0, description='Training', layout=Layout(flex='2'), max=1250.0, style=Pro…"
      ]
     },
     "metadata": {},
     "output_type": "display_data"
    },
    {
     "name": "stdout",
     "output_type": "stream",
     "text": [
      "Epoch 452: train=7.19007, val=8.014, took 45.528 s\n",
      "  Validation Found 51475 of 54504, added 2277 (eff 94.44%) (0.228 FP/event)\n"
     ]
    },
    {
     "data": {
      "application/vnd.jupyter.widget-view+json": {
       "model_id": "",
       "version_major": 2,
       "version_minor": 0
      },
      "text/plain": [
       "HBox(children=(FloatProgress(value=0.0, description='Training', layout=Layout(flex='2'), max=1250.0, style=Pro…"
      ]
     },
     "metadata": {},
     "output_type": "display_data"
    },
    {
     "name": "stdout",
     "output_type": "stream",
     "text": [
      "Epoch 453: train=7.18993, val=7.98033, took 45.414 s\n",
      "  Validation Found 51358 of 54504, added 2055 (eff 94.23%) (0.206 FP/event)\n"
     ]
    },
    {
     "data": {
      "application/vnd.jupyter.widget-view+json": {
       "model_id": "",
       "version_major": 2,
       "version_minor": 0
      },
      "text/plain": [
       "HBox(children=(FloatProgress(value=0.0, description='Training', layout=Layout(flex='2'), max=1250.0, style=Pro…"
      ]
     },
     "metadata": {},
     "output_type": "display_data"
    },
    {
     "name": "stdout",
     "output_type": "stream",
     "text": [
      "Epoch 454: train=7.189, val=8.08976, took 45.413 s\n",
      "  Validation Found 51331 of 54504, added 2096 (eff 94.18%) (0.21 FP/event)\n"
     ]
    },
    {
     "data": {
      "application/vnd.jupyter.widget-view+json": {
       "model_id": "",
       "version_major": 2,
       "version_minor": 0
      },
      "text/plain": [
       "HBox(children=(FloatProgress(value=0.0, description='Training', layout=Layout(flex='2'), max=1250.0, style=Pro…"
      ]
     },
     "metadata": {},
     "output_type": "display_data"
    },
    {
     "name": "stdout",
     "output_type": "stream",
     "text": [
      "Epoch 455: train=7.18511, val=8.17714, took 45.579 s\n",
      "  Validation Found 51059 of 54504, added 1681 (eff 93.68%) (0.168 FP/event)\n"
     ]
    },
    {
     "data": {
      "application/vnd.jupyter.widget-view+json": {
       "model_id": "",
       "version_major": 2,
       "version_minor": 0
      },
      "text/plain": [
       "HBox(children=(FloatProgress(value=0.0, description='Training', layout=Layout(flex='2'), max=1250.0, style=Pro…"
      ]
     },
     "metadata": {},
     "output_type": "display_data"
    },
    {
     "name": "stdout",
     "output_type": "stream",
     "text": [
      "Epoch 456: train=7.18994, val=8.07263, took 45.457 s\n",
      "  Validation Found 51349 of 54504, added 2074 (eff 94.21%) (0.208 FP/event)\n"
     ]
    },
    {
     "data": {
      "application/vnd.jupyter.widget-view+json": {
       "model_id": "",
       "version_major": 2,
       "version_minor": 0
      },
      "text/plain": [
       "HBox(children=(FloatProgress(value=0.0, description='Training', layout=Layout(flex='2'), max=1250.0, style=Pro…"
      ]
     },
     "metadata": {},
     "output_type": "display_data"
    },
    {
     "name": "stdout",
     "output_type": "stream",
     "text": [
      "Epoch 457: train=7.18736, val=8.0343, took 45.435 s\n",
      "  Validation Found 51370 of 54504, added 2103 (eff 94.25%) (0.211 FP/event)\n"
     ]
    },
    {
     "data": {
      "application/vnd.jupyter.widget-view+json": {
       "model_id": "",
       "version_major": 2,
       "version_minor": 0
      },
      "text/plain": [
       "HBox(children=(FloatProgress(value=0.0, description='Training', layout=Layout(flex='2'), max=1250.0, style=Pro…"
      ]
     },
     "metadata": {},
     "output_type": "display_data"
    },
    {
     "name": "stdout",
     "output_type": "stream",
     "text": [
      "Epoch 458: train=7.18789, val=8.15359, took 45.473 s\n",
      "  Validation Found 51172 of 54504, added 1780 (eff 93.89%) (0.178 FP/event)\n"
     ]
    },
    {
     "data": {
      "application/vnd.jupyter.widget-view+json": {
       "model_id": "",
       "version_major": 2,
       "version_minor": 0
      },
      "text/plain": [
       "HBox(children=(FloatProgress(value=0.0, description='Training', layout=Layout(flex='2'), max=1250.0, style=Pro…"
      ]
     },
     "metadata": {},
     "output_type": "display_data"
    },
    {
     "name": "stdout",
     "output_type": "stream",
     "text": [
      "Epoch 459: train=7.18688, val=7.98566, took 45.499 s\n",
      "  Validation Found 51508 of 54504, added 2381 (eff 94.50%) (0.238 FP/event)\n"
     ]
    },
    {
     "data": {
      "application/vnd.jupyter.widget-view+json": {
       "model_id": "",
       "version_major": 2,
       "version_minor": 0
      },
      "text/plain": [
       "HBox(children=(FloatProgress(value=0.0, description='Training', layout=Layout(flex='2'), max=1250.0, style=Pro…"
      ]
     },
     "metadata": {},
     "output_type": "display_data"
    },
    {
     "name": "stdout",
     "output_type": "stream",
     "text": [
      "Epoch 460: train=7.18624, val=8.13047, took 45.636 s\n",
      "  Validation Found 51205 of 54504, added 1763 (eff 93.95%) (0.177 FP/event)\n"
     ]
    },
    {
     "data": {
      "application/vnd.jupyter.widget-view+json": {
       "model_id": "",
       "version_major": 2,
       "version_minor": 0
      },
      "text/plain": [
       "HBox(children=(FloatProgress(value=0.0, description='Training', layout=Layout(flex='2'), max=1250.0, style=Pro…"
      ]
     },
     "metadata": {},
     "output_type": "display_data"
    },
    {
     "name": "stdout",
     "output_type": "stream",
     "text": [
      "Epoch 461: train=7.18979, val=7.99105, took 46.369 s\n",
      "  Validation Found 51489 of 54504, added 2300 (eff 94.47%) (0.23 FP/event)\n"
     ]
    },
    {
     "data": {
      "application/vnd.jupyter.widget-view+json": {
       "model_id": "",
       "version_major": 2,
       "version_minor": 0
      },
      "text/plain": [
       "HBox(children=(FloatProgress(value=0.0, description='Training', layout=Layout(flex='2'), max=1250.0, style=Pro…"
      ]
     },
     "metadata": {},
     "output_type": "display_data"
    },
    {
     "name": "stdout",
     "output_type": "stream",
     "text": [
      "Epoch 462: train=7.18701, val=8.09304, took 45.987 s\n",
      "  Validation Found 51238 of 54504, added 1847 (eff 94.01%) (0.185 FP/event)\n"
     ]
    },
    {
     "data": {
      "application/vnd.jupyter.widget-view+json": {
       "model_id": "",
       "version_major": 2,
       "version_minor": 0
      },
      "text/plain": [
       "HBox(children=(FloatProgress(value=0.0, description='Training', layout=Layout(flex='2'), max=1250.0, style=Pro…"
      ]
     },
     "metadata": {},
     "output_type": "display_data"
    },
    {
     "name": "stdout",
     "output_type": "stream",
     "text": [
      "Epoch 463: train=7.18699, val=7.95433, took 45.603 s\n",
      "  Validation Found 51447 of 54504, added 2255 (eff 94.39%) (0.226 FP/event)\n"
     ]
    },
    {
     "data": {
      "application/vnd.jupyter.widget-view+json": {
       "model_id": "",
       "version_major": 2,
       "version_minor": 0
      },
      "text/plain": [
       "HBox(children=(FloatProgress(value=0.0, description='Training', layout=Layout(flex='2'), max=1250.0, style=Pro…"
      ]
     },
     "metadata": {},
     "output_type": "display_data"
    },
    {
     "name": "stdout",
     "output_type": "stream",
     "text": [
      "Epoch 464: train=7.18902, val=8.12713, took 45.641 s\n",
      "  Validation Found 51240 of 54504, added 1885 (eff 94.01%) (0.189 FP/event)\n"
     ]
    },
    {
     "data": {
      "application/vnd.jupyter.widget-view+json": {
       "model_id": "",
       "version_major": 2,
       "version_minor": 0
      },
      "text/plain": [
       "HBox(children=(FloatProgress(value=0.0, description='Training', layout=Layout(flex='2'), max=1250.0, style=Pro…"
      ]
     },
     "metadata": {},
     "output_type": "display_data"
    },
    {
     "name": "stdout",
     "output_type": "stream",
     "text": [
      "Epoch 465: train=7.18901, val=8.07972, took 45.459 s\n",
      "  Validation Found 51234 of 54504, added 1808 (eff 94.00%) (0.181 FP/event)\n"
     ]
    },
    {
     "data": {
      "application/vnd.jupyter.widget-view+json": {
       "model_id": "",
       "version_major": 2,
       "version_minor": 0
      },
      "text/plain": [
       "HBox(children=(FloatProgress(value=0.0, description='Training', layout=Layout(flex='2'), max=1250.0, style=Pro…"
      ]
     },
     "metadata": {},
     "output_type": "display_data"
    },
    {
     "name": "stdout",
     "output_type": "stream",
     "text": [
      "Epoch 466: train=7.18265, val=8.02266, took 45.437 s\n",
      "  Validation Found 51409 of 54504, added 2100 (eff 94.32%) (0.21 FP/event)\n"
     ]
    },
    {
     "data": {
      "application/vnd.jupyter.widget-view+json": {
       "model_id": "",
       "version_major": 2,
       "version_minor": 0
      },
      "text/plain": [
       "HBox(children=(FloatProgress(value=0.0, description='Training', layout=Layout(flex='2'), max=1250.0, style=Pro…"
      ]
     },
     "metadata": {},
     "output_type": "display_data"
    },
    {
     "name": "stdout",
     "output_type": "stream",
     "text": [
      "Epoch 467: train=7.18585, val=8.03589, took 45.441 s\n",
      "  Validation Found 51349 of 54504, added 2031 (eff 94.21%) (0.203 FP/event)\n"
     ]
    },
    {
     "data": {
      "application/vnd.jupyter.widget-view+json": {
       "model_id": "",
       "version_major": 2,
       "version_minor": 0
      },
      "text/plain": [
       "HBox(children=(FloatProgress(value=0.0, description='Training', layout=Layout(flex='2'), max=1250.0, style=Pro…"
      ]
     },
     "metadata": {},
     "output_type": "display_data"
    },
    {
     "name": "stdout",
     "output_type": "stream",
     "text": [
      "Epoch 468: train=7.19044, val=7.95364, took 45.742 s\n",
      "  Validation Found 51452 of 54504, added 2162 (eff 94.40%) (0.217 FP/event)\n"
     ]
    },
    {
     "data": {
      "application/vnd.jupyter.widget-view+json": {
       "model_id": "",
       "version_major": 2,
       "version_minor": 0
      },
      "text/plain": [
       "HBox(children=(FloatProgress(value=0.0, description='Training', layout=Layout(flex='2'), max=1250.0, style=Pro…"
      ]
     },
     "metadata": {},
     "output_type": "display_data"
    },
    {
     "name": "stdout",
     "output_type": "stream",
     "text": [
      "Epoch 469: train=7.18692, val=8.09172, took 45.608 s\n",
      "  Validation Found 51246 of 54504, added 1844 (eff 94.02%) (0.185 FP/event)\n"
     ]
    },
    {
     "data": {
      "application/vnd.jupyter.widget-view+json": {
       "model_id": "",
       "version_major": 2,
       "version_minor": 0
      },
      "text/plain": [
       "HBox(children=(FloatProgress(value=0.0, description='Training', layout=Layout(flex='2'), max=1250.0, style=Pro…"
      ]
     },
     "metadata": {},
     "output_type": "display_data"
    },
    {
     "name": "stdout",
     "output_type": "stream",
     "text": [
      "Epoch 470: train=7.18524, val=8.04658, took 45.365 s\n",
      "  Validation Found 51260 of 54504, added 1923 (eff 94.05%) (0.193 FP/event)\n"
     ]
    },
    {
     "data": {
      "application/vnd.jupyter.widget-view+json": {
       "model_id": "",
       "version_major": 2,
       "version_minor": 0
      },
      "text/plain": [
       "HBox(children=(FloatProgress(value=0.0, description='Training', layout=Layout(flex='2'), max=1250.0, style=Pro…"
      ]
     },
     "metadata": {},
     "output_type": "display_data"
    },
    {
     "name": "stdout",
     "output_type": "stream",
     "text": [
      "Epoch 471: train=7.18779, val=8.03986, took 45.635 s\n",
      "  Validation Found 51325 of 54504, added 2069 (eff 94.17%) (0.207 FP/event)\n"
     ]
    },
    {
     "data": {
      "application/vnd.jupyter.widget-view+json": {
       "model_id": "",
       "version_major": 2,
       "version_minor": 0
      },
      "text/plain": [
       "HBox(children=(FloatProgress(value=0.0, description='Training', layout=Layout(flex='2'), max=1250.0, style=Pro…"
      ]
     },
     "metadata": {},
     "output_type": "display_data"
    },
    {
     "name": "stdout",
     "output_type": "stream",
     "text": [
      "Epoch 472: train=7.18424, val=8.00235, took 45.494 s\n",
      "  Validation Found 51409 of 54504, added 2068 (eff 94.32%) (0.207 FP/event)\n"
     ]
    },
    {
     "data": {
      "application/vnd.jupyter.widget-view+json": {
       "model_id": "",
       "version_major": 2,
       "version_minor": 0
      },
      "text/plain": [
       "HBox(children=(FloatProgress(value=0.0, description='Training', layout=Layout(flex='2'), max=1250.0, style=Pro…"
      ]
     },
     "metadata": {},
     "output_type": "display_data"
    },
    {
     "name": "stdout",
     "output_type": "stream",
     "text": [
      "Epoch 473: train=7.18493, val=8.07752, took 45.73 s\n",
      "  Validation Found 51346 of 54504, added 2044 (eff 94.21%) (0.205 FP/event)\n"
     ]
    },
    {
     "data": {
      "application/vnd.jupyter.widget-view+json": {
       "model_id": "",
       "version_major": 2,
       "version_minor": 0
      },
      "text/plain": [
       "HBox(children=(FloatProgress(value=0.0, description='Training', layout=Layout(flex='2'), max=1250.0, style=Pro…"
      ]
     },
     "metadata": {},
     "output_type": "display_data"
    },
    {
     "name": "stdout",
     "output_type": "stream",
     "text": [
      "Epoch 474: train=7.18303, val=7.94753, took 45.495 s\n",
      "  Validation Found 51480 of 54504, added 2267 (eff 94.45%) (0.227 FP/event)\n"
     ]
    },
    {
     "data": {
      "application/vnd.jupyter.widget-view+json": {
       "model_id": "",
       "version_major": 2,
       "version_minor": 0
      },
      "text/plain": [
       "HBox(children=(FloatProgress(value=0.0, description='Training', layout=Layout(flex='2'), max=1250.0, style=Pro…"
      ]
     },
     "metadata": {},
     "output_type": "display_data"
    },
    {
     "name": "stdout",
     "output_type": "stream",
     "text": [
      "Epoch 475: train=7.18679, val=8.00167, took 46.166 s\n",
      "  Validation Found 51391 of 54504, added 2117 (eff 94.29%) (0.212 FP/event)\n"
     ]
    },
    {
     "data": {
      "application/vnd.jupyter.widget-view+json": {
       "model_id": "",
       "version_major": 2,
       "version_minor": 0
      },
      "text/plain": [
       "HBox(children=(FloatProgress(value=0.0, description='Training', layout=Layout(flex='2'), max=1250.0, style=Pro…"
      ]
     },
     "metadata": {},
     "output_type": "display_data"
    },
    {
     "name": "stdout",
     "output_type": "stream",
     "text": [
      "Epoch 476: train=7.1842, val=8.04233, took 46.249 s\n",
      "  Validation Found 51336 of 54504, added 2055 (eff 94.19%) (0.206 FP/event)\n"
     ]
    },
    {
     "data": {
      "application/vnd.jupyter.widget-view+json": {
       "model_id": "",
       "version_major": 2,
       "version_minor": 0
      },
      "text/plain": [
       "HBox(children=(FloatProgress(value=0.0, description='Training', layout=Layout(flex='2'), max=1250.0, style=Pro…"
      ]
     },
     "metadata": {},
     "output_type": "display_data"
    },
    {
     "name": "stdout",
     "output_type": "stream",
     "text": [
      "Epoch 477: train=7.18767, val=8.03527, took 45.481 s\n",
      "  Validation Found 51346 of 54504, added 2008 (eff 94.21%) (0.201 FP/event)\n"
     ]
    },
    {
     "data": {
      "application/vnd.jupyter.widget-view+json": {
       "model_id": "",
       "version_major": 2,
       "version_minor": 0
      },
      "text/plain": [
       "HBox(children=(FloatProgress(value=0.0, description='Training', layout=Layout(flex='2'), max=1250.0, style=Pro…"
      ]
     },
     "metadata": {},
     "output_type": "display_data"
    },
    {
     "name": "stdout",
     "output_type": "stream",
     "text": [
      "Epoch 478: train=7.18292, val=8.02353, took 45.541 s\n",
      "  Validation Found 51370 of 54504, added 2043 (eff 94.25%) (0.205 FP/event)\n"
     ]
    },
    {
     "data": {
      "application/vnd.jupyter.widget-view+json": {
       "model_id": "",
       "version_major": 2,
       "version_minor": 0
      },
      "text/plain": [
       "HBox(children=(FloatProgress(value=0.0, description='Training', layout=Layout(flex='2'), max=1250.0, style=Pro…"
      ]
     },
     "metadata": {},
     "output_type": "display_data"
    },
    {
     "name": "stdout",
     "output_type": "stream",
     "text": [
      "Epoch 479: train=7.18373, val=8.07752, took 45.449 s\n",
      "  Validation Found 51208 of 54504, added 1837 (eff 93.95%) (0.184 FP/event)\n"
     ]
    },
    {
     "data": {
      "application/vnd.jupyter.widget-view+json": {
       "model_id": "",
       "version_major": 2,
       "version_minor": 0
      },
      "text/plain": [
       "HBox(children=(FloatProgress(value=0.0, description='Training', layout=Layout(flex='2'), max=1250.0, style=Pro…"
      ]
     },
     "metadata": {},
     "output_type": "display_data"
    },
    {
     "name": "stdout",
     "output_type": "stream",
     "text": [
      "Epoch 480: train=7.18499, val=8.0178, took 45.453 s\n",
      "  Validation Found 51243 of 54504, added 1896 (eff 94.02%) (0.19 FP/event)\n"
     ]
    },
    {
     "data": {
      "application/vnd.jupyter.widget-view+json": {
       "model_id": "",
       "version_major": 2,
       "version_minor": 0
      },
      "text/plain": [
       "HBox(children=(FloatProgress(value=0.0, description='Training', layout=Layout(flex='2'), max=1250.0, style=Pro…"
      ]
     },
     "metadata": {},
     "output_type": "display_data"
    },
    {
     "name": "stdout",
     "output_type": "stream",
     "text": [
      "Epoch 481: train=7.17988, val=8.07825, took 45.447 s\n",
      "  Validation Found 51284 of 54504, added 1919 (eff 94.09%) (0.192 FP/event)\n"
     ]
    },
    {
     "data": {
      "application/vnd.jupyter.widget-view+json": {
       "model_id": "",
       "version_major": 2,
       "version_minor": 0
      },
      "text/plain": [
       "HBox(children=(FloatProgress(value=0.0, description='Training', layout=Layout(flex='2'), max=1250.0, style=Pro…"
      ]
     },
     "metadata": {},
     "output_type": "display_data"
    },
    {
     "name": "stdout",
     "output_type": "stream",
     "text": [
      "Epoch 482: train=7.18451, val=8.03713, took 45.453 s\n",
      "  Validation Found 51304 of 54504, added 1971 (eff 94.13%) (0.197 FP/event)\n"
     ]
    },
    {
     "data": {
      "application/vnd.jupyter.widget-view+json": {
       "model_id": "",
       "version_major": 2,
       "version_minor": 0
      },
      "text/plain": [
       "HBox(children=(FloatProgress(value=0.0, description='Training', layout=Layout(flex='2'), max=1250.0, style=Pro…"
      ]
     },
     "metadata": {},
     "output_type": "display_data"
    },
    {
     "name": "stdout",
     "output_type": "stream",
     "text": [
      "Epoch 483: train=7.1825, val=8.01218, took 45.462 s\n",
      "  Validation Found 51378 of 54504, added 2086 (eff 94.26%) (0.209 FP/event)\n"
     ]
    },
    {
     "data": {
      "application/vnd.jupyter.widget-view+json": {
       "model_id": "",
       "version_major": 2,
       "version_minor": 0
      },
      "text/plain": [
       "HBox(children=(FloatProgress(value=0.0, description='Training', layout=Layout(flex='2'), max=1250.0, style=Pro…"
      ]
     },
     "metadata": {},
     "output_type": "display_data"
    },
    {
     "name": "stdout",
     "output_type": "stream",
     "text": [
      "Epoch 484: train=7.18152, val=7.97193, took 45.45 s\n",
      "  Validation Found 51443 of 54504, added 2180 (eff 94.38%) (0.218 FP/event)\n"
     ]
    },
    {
     "data": {
      "application/vnd.jupyter.widget-view+json": {
       "model_id": "",
       "version_major": 2,
       "version_minor": 0
      },
      "text/plain": [
       "HBox(children=(FloatProgress(value=0.0, description='Training', layout=Layout(flex='2'), max=1250.0, style=Pro…"
      ]
     },
     "metadata": {},
     "output_type": "display_data"
    },
    {
     "name": "stdout",
     "output_type": "stream",
     "text": [
      "Epoch 485: train=7.184, val=8.13547, took 45.385 s\n",
      "  Validation Found 51306 of 54504, added 2002 (eff 94.13%) (0.201 FP/event)\n"
     ]
    },
    {
     "data": {
      "application/vnd.jupyter.widget-view+json": {
       "model_id": "",
       "version_major": 2,
       "version_minor": 0
      },
      "text/plain": [
       "HBox(children=(FloatProgress(value=0.0, description='Training', layout=Layout(flex='2'), max=1250.0, style=Pro…"
      ]
     },
     "metadata": {},
     "output_type": "display_data"
    },
    {
     "name": "stdout",
     "output_type": "stream",
     "text": [
      "Epoch 486: train=7.18287, val=8.02356, took 45.391 s\n",
      "  Validation Found 51258 of 54504, added 1861 (eff 94.04%) (0.186 FP/event)\n"
     ]
    },
    {
     "data": {
      "application/vnd.jupyter.widget-view+json": {
       "model_id": "",
       "version_major": 2,
       "version_minor": 0
      },
      "text/plain": [
       "HBox(children=(FloatProgress(value=0.0, description='Training', layout=Layout(flex='2'), max=1250.0, style=Pro…"
      ]
     },
     "metadata": {},
     "output_type": "display_data"
    },
    {
     "name": "stdout",
     "output_type": "stream",
     "text": [
      "Epoch 487: train=7.1808, val=7.95338, took 45.471 s\n",
      "  Validation Found 51421 of 54504, added 2134 (eff 94.34%) (0.214 FP/event)\n"
     ]
    },
    {
     "data": {
      "application/vnd.jupyter.widget-view+json": {
       "model_id": "",
       "version_major": 2,
       "version_minor": 0
      },
      "text/plain": [
       "HBox(children=(FloatProgress(value=0.0, description='Training', layout=Layout(flex='2'), max=1250.0, style=Pro…"
      ]
     },
     "metadata": {},
     "output_type": "display_data"
    },
    {
     "name": "stdout",
     "output_type": "stream",
     "text": [
      "Epoch 488: train=7.17973, val=8.10681, took 45.389 s\n",
      "  Validation Found 51193 of 54504, added 1782 (eff 93.93%) (0.178 FP/event)\n"
     ]
    },
    {
     "data": {
      "application/vnd.jupyter.widget-view+json": {
       "model_id": "",
       "version_major": 2,
       "version_minor": 0
      },
      "text/plain": [
       "HBox(children=(FloatProgress(value=0.0, description='Training', layout=Layout(flex='2'), max=1250.0, style=Pro…"
      ]
     },
     "metadata": {},
     "output_type": "display_data"
    },
    {
     "name": "stdout",
     "output_type": "stream",
     "text": [
      "Epoch 489: train=7.17925, val=8.02696, took 45.832 s\n",
      "  Validation Found 51269 of 54504, added 1994 (eff 94.06%) (0.2 FP/event)\n"
     ]
    },
    {
     "data": {
      "application/vnd.jupyter.widget-view+json": {
       "model_id": "",
       "version_major": 2,
       "version_minor": 0
      },
      "text/plain": [
       "HBox(children=(FloatProgress(value=0.0, description='Training', layout=Layout(flex='2'), max=1250.0, style=Pro…"
      ]
     },
     "metadata": {},
     "output_type": "display_data"
    },
    {
     "name": "stdout",
     "output_type": "stream",
     "text": [
      "Epoch 490: train=7.18175, val=8.01047, took 45.529 s\n",
      "  Validation Found 51292 of 54504, added 1956 (eff 94.11%) (0.196 FP/event)\n"
     ]
    },
    {
     "data": {
      "application/vnd.jupyter.widget-view+json": {
       "model_id": "",
       "version_major": 2,
       "version_minor": 0
      },
      "text/plain": [
       "HBox(children=(FloatProgress(value=0.0, description='Training', layout=Layout(flex='2'), max=1250.0, style=Pro…"
      ]
     },
     "metadata": {},
     "output_type": "display_data"
    },
    {
     "name": "stdout",
     "output_type": "stream",
     "text": [
      "Epoch 491: train=7.18106, val=8.08488, took 45.47 s\n",
      "  Validation Found 51196 of 54504, added 1813 (eff 93.93%) (0.182 FP/event)\n"
     ]
    },
    {
     "data": {
      "application/vnd.jupyter.widget-view+json": {
       "model_id": "",
       "version_major": 2,
       "version_minor": 0
      },
      "text/plain": [
       "HBox(children=(FloatProgress(value=0.0, description='Training', layout=Layout(flex='2'), max=1250.0, style=Pro…"
      ]
     },
     "metadata": {},
     "output_type": "display_data"
    },
    {
     "name": "stdout",
     "output_type": "stream",
     "text": [
      "Epoch 492: train=7.18123, val=8.06073, took 45.936 s\n",
      "  Validation Found 51330 of 54504, added 1994 (eff 94.18%) (0.2 FP/event)\n"
     ]
    },
    {
     "data": {
      "application/vnd.jupyter.widget-view+json": {
       "model_id": "",
       "version_major": 2,
       "version_minor": 0
      },
      "text/plain": [
       "HBox(children=(FloatProgress(value=0.0, description='Training', layout=Layout(flex='2'), max=1250.0, style=Pro…"
      ]
     },
     "metadata": {},
     "output_type": "display_data"
    },
    {
     "name": "stdout",
     "output_type": "stream",
     "text": [
      "Epoch 493: train=7.18372, val=8.13811, took 45.435 s\n",
      "  Validation Found 51239 of 54504, added 1870 (eff 94.01%) (0.187 FP/event)\n"
     ]
    },
    {
     "data": {
      "application/vnd.jupyter.widget-view+json": {
       "model_id": "",
       "version_major": 2,
       "version_minor": 0
      },
      "text/plain": [
       "HBox(children=(FloatProgress(value=0.0, description='Training', layout=Layout(flex='2'), max=1250.0, style=Pro…"
      ]
     },
     "metadata": {},
     "output_type": "display_data"
    },
    {
     "name": "stdout",
     "output_type": "stream",
     "text": [
      "Epoch 494: train=7.18001, val=8.11155, took 46.125 s\n",
      "  Validation Found 51248 of 54504, added 1868 (eff 94.03%) (0.187 FP/event)\n"
     ]
    },
    {
     "data": {
      "application/vnd.jupyter.widget-view+json": {
       "model_id": "",
       "version_major": 2,
       "version_minor": 0
      },
      "text/plain": [
       "HBox(children=(FloatProgress(value=0.0, description='Training', layout=Layout(flex='2'), max=1250.0, style=Pro…"
      ]
     },
     "metadata": {},
     "output_type": "display_data"
    },
    {
     "name": "stdout",
     "output_type": "stream",
     "text": [
      "Epoch 495: train=7.1823, val=8.05521, took 45.735 s\n",
      "  Validation Found 51418 of 54504, added 2240 (eff 94.34%) (0.224 FP/event)\n"
     ]
    },
    {
     "data": {
      "application/vnd.jupyter.widget-view+json": {
       "model_id": "",
       "version_major": 2,
       "version_minor": 0
      },
      "text/plain": [
       "HBox(children=(FloatProgress(value=0.0, description='Training', layout=Layout(flex='2'), max=1250.0, style=Pro…"
      ]
     },
     "metadata": {},
     "output_type": "display_data"
    },
    {
     "name": "stdout",
     "output_type": "stream",
     "text": [
      "Epoch 496: train=7.1805, val=8.21561, took 45.486 s\n",
      "  Validation Found 51092 of 54504, added 1666 (eff 93.74%) (0.167 FP/event)\n"
     ]
    },
    {
     "data": {
      "application/vnd.jupyter.widget-view+json": {
       "model_id": "",
       "version_major": 2,
       "version_minor": 0
      },
      "text/plain": [
       "HBox(children=(FloatProgress(value=0.0, description='Training', layout=Layout(flex='2'), max=1250.0, style=Pro…"
      ]
     },
     "metadata": {},
     "output_type": "display_data"
    },
    {
     "name": "stdout",
     "output_type": "stream",
     "text": [
      "Epoch 497: train=7.17846, val=8.03891, took 45.455 s\n",
      "  Validation Found 51361 of 54504, added 2051 (eff 94.23%) (0.205 FP/event)\n"
     ]
    },
    {
     "data": {
      "application/vnd.jupyter.widget-view+json": {
       "model_id": "",
       "version_major": 2,
       "version_minor": 0
      },
      "text/plain": [
       "HBox(children=(FloatProgress(value=0.0, description='Training', layout=Layout(flex='2'), max=1250.0, style=Pro…"
      ]
     },
     "metadata": {},
     "output_type": "display_data"
    },
    {
     "name": "stdout",
     "output_type": "stream",
     "text": [
      "Epoch 498: train=7.18093, val=8.048, took 45.447 s\n",
      "  Validation Found 51319 of 54504, added 1975 (eff 94.16%) (0.198 FP/event)\n"
     ]
    },
    {
     "data": {
      "application/vnd.jupyter.widget-view+json": {
       "model_id": "",
       "version_major": 2,
       "version_minor": 0
      },
      "text/plain": [
       "HBox(children=(FloatProgress(value=0.0, description='Training', layout=Layout(flex='2'), max=1250.0, style=Pro…"
      ]
     },
     "metadata": {},
     "output_type": "display_data"
    },
    {
     "name": "stdout",
     "output_type": "stream",
     "text": [
      "Epoch 499: train=7.1801, val=8.04692, took 45.461 s\n",
      "  Validation Found 51367 of 54504, added 2027 (eff 94.24%) (0.203 FP/event)\n"
     ]
    },
    {
     "data": {
      "application/vnd.jupyter.widget-view+json": {
       "model_id": "",
       "version_major": 2,
       "version_minor": 0
      },
      "text/plain": [
       "HBox(children=(FloatProgress(value=0.0, description='Training', layout=Layout(flex='2'), max=1250.0, style=Pro…"
      ]
     },
     "metadata": {},
     "output_type": "display_data"
    },
    {
     "name": "stdout",
     "output_type": "stream",
     "text": [
      "Epoch 500: train=7.18032, val=8.02899, took 45.476 s\n",
      "  Validation Found 51349 of 54504, added 2010 (eff 94.21%) (0.201 FP/event)\n"
     ]
    },
    {
     "data": {
      "application/vnd.jupyter.widget-view+json": {
       "model_id": "",
       "version_major": 2,
       "version_minor": 0
      },
      "text/plain": [
       "HBox(children=(FloatProgress(value=0.0, description='Training', layout=Layout(flex='2'), max=1250.0, style=Pro…"
      ]
     },
     "metadata": {},
     "output_type": "display_data"
    },
    {
     "name": "stdout",
     "output_type": "stream",
     "text": [
      "Epoch 501: train=7.17767, val=8.06215, took 45.472 s\n",
      "  Validation Found 51361 of 54504, added 2147 (eff 94.23%) (0.215 FP/event)\n"
     ]
    },
    {
     "data": {
      "application/vnd.jupyter.widget-view+json": {
       "model_id": "",
       "version_major": 2,
       "version_minor": 0
      },
      "text/plain": [
       "HBox(children=(FloatProgress(value=0.0, description='Training', layout=Layout(flex='2'), max=1250.0, style=Pro…"
      ]
     },
     "metadata": {},
     "output_type": "display_data"
    },
    {
     "name": "stdout",
     "output_type": "stream",
     "text": [
      "Epoch 502: train=7.1791, val=8.00206, took 45.46 s\n",
      "  Validation Found 51419 of 54504, added 2163 (eff 94.34%) (0.217 FP/event)\n"
     ]
    },
    {
     "data": {
      "application/vnd.jupyter.widget-view+json": {
       "model_id": "",
       "version_major": 2,
       "version_minor": 0
      },
      "text/plain": [
       "HBox(children=(FloatProgress(value=0.0, description='Training', layout=Layout(flex='2'), max=1250.0, style=Pro…"
      ]
     },
     "metadata": {},
     "output_type": "display_data"
    },
    {
     "name": "stdout",
     "output_type": "stream",
     "text": [
      "Epoch 503: train=7.17772, val=7.97704, took 45.405 s\n",
      "  Validation Found 51491 of 54504, added 2313 (eff 94.47%) (0.232 FP/event)\n"
     ]
    },
    {
     "data": {
      "application/vnd.jupyter.widget-view+json": {
       "model_id": "",
       "version_major": 2,
       "version_minor": 0
      },
      "text/plain": [
       "HBox(children=(FloatProgress(value=0.0, description='Training', layout=Layout(flex='2'), max=1250.0, style=Pro…"
      ]
     },
     "metadata": {},
     "output_type": "display_data"
    },
    {
     "name": "stdout",
     "output_type": "stream",
     "text": [
      "Epoch 504: train=7.17813, val=8.10002, took 45.445 s\n",
      "  Validation Found 51192 of 54504, added 1780 (eff 93.92%) (0.178 FP/event)\n"
     ]
    },
    {
     "data": {
      "application/vnd.jupyter.widget-view+json": {
       "model_id": "",
       "version_major": 2,
       "version_minor": 0
      },
      "text/plain": [
       "HBox(children=(FloatProgress(value=0.0, description='Training', layout=Layout(flex='2'), max=1250.0, style=Pro…"
      ]
     },
     "metadata": {},
     "output_type": "display_data"
    },
    {
     "name": "stdout",
     "output_type": "stream",
     "text": [
      "Epoch 505: train=7.17698, val=8.01715, took 45.497 s\n",
      "  Validation Found 51373 of 54504, added 2051 (eff 94.26%) (0.205 FP/event)\n"
     ]
    },
    {
     "data": {
      "application/vnd.jupyter.widget-view+json": {
       "model_id": "",
       "version_major": 2,
       "version_minor": 0
      },
      "text/plain": [
       "HBox(children=(FloatProgress(value=0.0, description='Training', layout=Layout(flex='2'), max=1250.0, style=Pro…"
      ]
     },
     "metadata": {},
     "output_type": "display_data"
    },
    {
     "name": "stdout",
     "output_type": "stream",
     "text": [
      "Epoch 506: train=7.17992, val=8.18707, took 45.454 s\n",
      "  Validation Found 51158 of 54504, added 1772 (eff 93.86%) (0.177 FP/event)\n"
     ]
    },
    {
     "data": {
      "application/vnd.jupyter.widget-view+json": {
       "model_id": "",
       "version_major": 2,
       "version_minor": 0
      },
      "text/plain": [
       "HBox(children=(FloatProgress(value=0.0, description='Training', layout=Layout(flex='2'), max=1250.0, style=Pro…"
      ]
     },
     "metadata": {},
     "output_type": "display_data"
    },
    {
     "name": "stdout",
     "output_type": "stream",
     "text": [
      "Epoch 507: train=7.17564, val=8.01684, took 46.377 s\n",
      "  Validation Found 51469 of 54504, added 2235 (eff 94.43%) (0.224 FP/event)\n"
     ]
    },
    {
     "data": {
      "application/vnd.jupyter.widget-view+json": {
       "model_id": "",
       "version_major": 2,
       "version_minor": 0
      },
      "text/plain": [
       "HBox(children=(FloatProgress(value=0.0, description='Training', layout=Layout(flex='2'), max=1250.0, style=Pro…"
      ]
     },
     "metadata": {},
     "output_type": "display_data"
    },
    {
     "name": "stdout",
     "output_type": "stream",
     "text": [
      "Epoch 508: train=7.17697, val=8.06244, took 46.21 s\n",
      "  Validation Found 51332 of 54504, added 1959 (eff 94.18%) (0.196 FP/event)\n"
     ]
    },
    {
     "data": {
      "application/vnd.jupyter.widget-view+json": {
       "model_id": "",
       "version_major": 2,
       "version_minor": 0
      },
      "text/plain": [
       "HBox(children=(FloatProgress(value=0.0, description='Training', layout=Layout(flex='2'), max=1250.0, style=Pro…"
      ]
     },
     "metadata": {},
     "output_type": "display_data"
    },
    {
     "name": "stdout",
     "output_type": "stream",
     "text": [
      "Epoch 509: train=7.17891, val=8.01587, took 45.481 s\n",
      "  Validation Found 51384 of 54504, added 2119 (eff 94.28%) (0.212 FP/event)\n"
     ]
    },
    {
     "data": {
      "application/vnd.jupyter.widget-view+json": {
       "model_id": "",
       "version_major": 2,
       "version_minor": 0
      },
      "text/plain": [
       "HBox(children=(FloatProgress(value=0.0, description='Training', layout=Layout(flex='2'), max=1250.0, style=Pro…"
      ]
     },
     "metadata": {},
     "output_type": "display_data"
    },
    {
     "name": "stdout",
     "output_type": "stream",
     "text": [
      "Epoch 510: train=7.1739, val=8.059, took 45.881 s\n",
      "  Validation Found 51306 of 54504, added 1899 (eff 94.13%) (0.19 FP/event)\n"
     ]
    },
    {
     "data": {
      "application/vnd.jupyter.widget-view+json": {
       "model_id": "",
       "version_major": 2,
       "version_minor": 0
      },
      "text/plain": [
       "HBox(children=(FloatProgress(value=0.0, description='Training', layout=Layout(flex='2'), max=1250.0, style=Pro…"
      ]
     },
     "metadata": {},
     "output_type": "display_data"
    },
    {
     "name": "stdout",
     "output_type": "stream",
     "text": [
      "Epoch 511: train=7.17902, val=8.11579, took 45.726 s\n",
      "  Validation Found 51237 of 54504, added 1853 (eff 94.01%) (0.186 FP/event)\n"
     ]
    },
    {
     "data": {
      "application/vnd.jupyter.widget-view+json": {
       "model_id": "",
       "version_major": 2,
       "version_minor": 0
      },
      "text/plain": [
       "HBox(children=(FloatProgress(value=0.0, description='Training', layout=Layout(flex='2'), max=1250.0, style=Pro…"
      ]
     },
     "metadata": {},
     "output_type": "display_data"
    },
    {
     "name": "stdout",
     "output_type": "stream",
     "text": [
      "Epoch 512: train=7.17685, val=7.98445, took 45.468 s\n",
      "  Validation Found 51506 of 54504, added 2346 (eff 94.50%) (0.235 FP/event)\n"
     ]
    },
    {
     "data": {
      "application/vnd.jupyter.widget-view+json": {
       "model_id": "",
       "version_major": 2,
       "version_minor": 0
      },
      "text/plain": [
       "HBox(children=(FloatProgress(value=0.0, description='Training', layout=Layout(flex='2'), max=1250.0, style=Pro…"
      ]
     },
     "metadata": {},
     "output_type": "display_data"
    },
    {
     "name": "stdout",
     "output_type": "stream",
     "text": [
      "Epoch 513: train=7.17823, val=8.04504, took 45.532 s\n",
      "  Validation Found 51353 of 54504, added 2075 (eff 94.22%) (0.208 FP/event)\n"
     ]
    },
    {
     "data": {
      "application/vnd.jupyter.widget-view+json": {
       "model_id": "",
       "version_major": 2,
       "version_minor": 0
      },
      "text/plain": [
       "HBox(children=(FloatProgress(value=0.0, description='Training', layout=Layout(flex='2'), max=1250.0, style=Pro…"
      ]
     },
     "metadata": {},
     "output_type": "display_data"
    },
    {
     "name": "stdout",
     "output_type": "stream",
     "text": [
      "Epoch 514: train=7.17831, val=8.04775, took 45.461 s\n",
      "  Validation Found 51341 of 54504, added 2073 (eff 94.20%) (0.208 FP/event)\n"
     ]
    },
    {
     "data": {
      "application/vnd.jupyter.widget-view+json": {
       "model_id": "",
       "version_major": 2,
       "version_minor": 0
      },
      "text/plain": [
       "HBox(children=(FloatProgress(value=0.0, description='Training', layout=Layout(flex='2'), max=1250.0, style=Pro…"
      ]
     },
     "metadata": {},
     "output_type": "display_data"
    },
    {
     "name": "stdout",
     "output_type": "stream",
     "text": [
      "Epoch 515: train=7.17827, val=7.9331, took 46.014 s\n",
      "  Validation Found 51542 of 54504, added 2451 (eff 94.57%) (0.245 FP/event)\n"
     ]
    },
    {
     "data": {
      "application/vnd.jupyter.widget-view+json": {
       "model_id": "",
       "version_major": 2,
       "version_minor": 0
      },
      "text/plain": [
       "HBox(children=(FloatProgress(value=0.0, description='Training', layout=Layout(flex='2'), max=1250.0, style=Pro…"
      ]
     },
     "metadata": {},
     "output_type": "display_data"
    },
    {
     "name": "stdout",
     "output_type": "stream",
     "text": [
      "Epoch 516: train=7.17908, val=8.05007, took 45.912 s\n",
      "  Validation Found 51345 of 54504, added 2018 (eff 94.20%) (0.202 FP/event)\n"
     ]
    },
    {
     "data": {
      "application/vnd.jupyter.widget-view+json": {
       "model_id": "",
       "version_major": 2,
       "version_minor": 0
      },
      "text/plain": [
       "HBox(children=(FloatProgress(value=0.0, description='Training', layout=Layout(flex='2'), max=1250.0, style=Pro…"
      ]
     },
     "metadata": {},
     "output_type": "display_data"
    },
    {
     "name": "stdout",
     "output_type": "stream",
     "text": [
      "Epoch 517: train=7.17956, val=8.09192, took 45.558 s\n",
      "  Validation Found 51224 of 54504, added 1859 (eff 93.98%) (0.186 FP/event)\n"
     ]
    },
    {
     "data": {
      "application/vnd.jupyter.widget-view+json": {
       "model_id": "",
       "version_major": 2,
       "version_minor": 0
      },
      "text/plain": [
       "HBox(children=(FloatProgress(value=0.0, description='Training', layout=Layout(flex='2'), max=1250.0, style=Pro…"
      ]
     },
     "metadata": {},
     "output_type": "display_data"
    },
    {
     "name": "stdout",
     "output_type": "stream",
     "text": [
      "Epoch 518: train=7.17732, val=8.03836, took 45.643 s\n",
      "  Validation Found 51473 of 54504, added 2350 (eff 94.44%) (0.235 FP/event)\n"
     ]
    },
    {
     "data": {
      "application/vnd.jupyter.widget-view+json": {
       "model_id": "",
       "version_major": 2,
       "version_minor": 0
      },
      "text/plain": [
       "HBox(children=(FloatProgress(value=0.0, description='Training', layout=Layout(flex='2'), max=1250.0, style=Pro…"
      ]
     },
     "metadata": {},
     "output_type": "display_data"
    },
    {
     "name": "stdout",
     "output_type": "stream",
     "text": [
      "Epoch 519: train=7.17403, val=7.97498, took 45.605 s\n",
      "  Validation Found 51293 of 54504, added 1923 (eff 94.11%) (0.193 FP/event)\n"
     ]
    },
    {
     "data": {
      "application/vnd.jupyter.widget-view+json": {
       "model_id": "",
       "version_major": 2,
       "version_minor": 0
      },
      "text/plain": [
       "HBox(children=(FloatProgress(value=0.0, description='Training', layout=Layout(flex='2'), max=1250.0, style=Pro…"
      ]
     },
     "metadata": {},
     "output_type": "display_data"
    },
    {
     "name": "stdout",
     "output_type": "stream",
     "text": [
      "Epoch 520: train=7.17777, val=8.07076, took 45.494 s\n",
      "  Validation Found 51352 of 54504, added 2076 (eff 94.22%) (0.208 FP/event)\n"
     ]
    },
    {
     "data": {
      "application/vnd.jupyter.widget-view+json": {
       "model_id": "",
       "version_major": 2,
       "version_minor": 0
      },
      "text/plain": [
       "HBox(children=(FloatProgress(value=0.0, description='Training', layout=Layout(flex='2'), max=1250.0, style=Pro…"
      ]
     },
     "metadata": {},
     "output_type": "display_data"
    },
    {
     "name": "stdout",
     "output_type": "stream",
     "text": [
      "Epoch 521: train=7.17476, val=7.95506, took 45.539 s\n",
      "  Validation Found 51521 of 54504, added 2336 (eff 94.53%) (0.234 FP/event)\n"
     ]
    },
    {
     "data": {
      "application/vnd.jupyter.widget-view+json": {
       "model_id": "",
       "version_major": 2,
       "version_minor": 0
      },
      "text/plain": [
       "HBox(children=(FloatProgress(value=0.0, description='Training', layout=Layout(flex='2'), max=1250.0, style=Pro…"
      ]
     },
     "metadata": {},
     "output_type": "display_data"
    },
    {
     "name": "stdout",
     "output_type": "stream",
     "text": [
      "Epoch 522: train=7.17605, val=7.96747, took 45.474 s\n",
      "  Validation Found 51456 of 54504, added 2228 (eff 94.41%) (0.223 FP/event)\n"
     ]
    },
    {
     "data": {
      "application/vnd.jupyter.widget-view+json": {
       "model_id": "",
       "version_major": 2,
       "version_minor": 0
      },
      "text/plain": [
       "HBox(children=(FloatProgress(value=0.0, description='Training', layout=Layout(flex='2'), max=1250.0, style=Pro…"
      ]
     },
     "metadata": {},
     "output_type": "display_data"
    },
    {
     "name": "stdout",
     "output_type": "stream",
     "text": [
      "Epoch 523: train=7.1751, val=8.10039, took 45.559 s\n",
      "  Validation Found 51221 of 54504, added 1817 (eff 93.98%) (0.182 FP/event)\n"
     ]
    },
    {
     "data": {
      "application/vnd.jupyter.widget-view+json": {
       "model_id": "",
       "version_major": 2,
       "version_minor": 0
      },
      "text/plain": [
       "HBox(children=(FloatProgress(value=0.0, description='Training', layout=Layout(flex='2'), max=1250.0, style=Pro…"
      ]
     },
     "metadata": {},
     "output_type": "display_data"
    },
    {
     "name": "stdout",
     "output_type": "stream",
     "text": [
      "Epoch 524: train=7.1787, val=7.99034, took 45.592 s\n",
      "  Validation Found 51321 of 54504, added 2036 (eff 94.16%) (0.204 FP/event)\n"
     ]
    },
    {
     "data": {
      "application/vnd.jupyter.widget-view+json": {
       "model_id": "",
       "version_major": 2,
       "version_minor": 0
      },
      "text/plain": [
       "HBox(children=(FloatProgress(value=0.0, description='Training', layout=Layout(flex='2'), max=1250.0, style=Pro…"
      ]
     },
     "metadata": {},
     "output_type": "display_data"
    },
    {
     "name": "stdout",
     "output_type": "stream",
     "text": [
      "Epoch 525: train=7.17338, val=8.00171, took 45.685 s\n",
      "  Validation Found 51538 of 54504, added 2394 (eff 94.56%) (0.24 FP/event)\n"
     ]
    },
    {
     "data": {
      "application/vnd.jupyter.widget-view+json": {
       "model_id": "",
       "version_major": 2,
       "version_minor": 0
      },
      "text/plain": [
       "HBox(children=(FloatProgress(value=0.0, description='Training', layout=Layout(flex='2'), max=1250.0, style=Pro…"
      ]
     },
     "metadata": {},
     "output_type": "display_data"
    },
    {
     "name": "stdout",
     "output_type": "stream",
     "text": [
      "Epoch 526: train=7.17587, val=8.06407, took 45.802 s\n",
      "  Validation Found 51319 of 54504, added 1949 (eff 94.16%) (0.195 FP/event)\n"
     ]
    },
    {
     "data": {
      "application/vnd.jupyter.widget-view+json": {
       "model_id": "",
       "version_major": 2,
       "version_minor": 0
      },
      "text/plain": [
       "HBox(children=(FloatProgress(value=0.0, description='Training', layout=Layout(flex='2'), max=1250.0, style=Pro…"
      ]
     },
     "metadata": {},
     "output_type": "display_data"
    },
    {
     "name": "stdout",
     "output_type": "stream",
     "text": [
      "Epoch 527: train=7.17661, val=7.98566, took 45.559 s\n",
      "  Validation Found 51372 of 54504, added 2063 (eff 94.25%) (0.207 FP/event)\n"
     ]
    },
    {
     "data": {
      "application/vnd.jupyter.widget-view+json": {
       "model_id": "",
       "version_major": 2,
       "version_minor": 0
      },
      "text/plain": [
       "HBox(children=(FloatProgress(value=0.0, description='Training', layout=Layout(flex='2'), max=1250.0, style=Pro…"
      ]
     },
     "metadata": {},
     "output_type": "display_data"
    },
    {
     "name": "stdout",
     "output_type": "stream",
     "text": [
      "Epoch 528: train=7.1753, val=8.05374, took 45.533 s\n",
      "  Validation Found 51320 of 54504, added 1967 (eff 94.16%) (0.197 FP/event)\n"
     ]
    },
    {
     "data": {
      "application/vnd.jupyter.widget-view+json": {
       "model_id": "",
       "version_major": 2,
       "version_minor": 0
      },
      "text/plain": [
       "HBox(children=(FloatProgress(value=0.0, description='Training', layout=Layout(flex='2'), max=1250.0, style=Pro…"
      ]
     },
     "metadata": {},
     "output_type": "display_data"
    },
    {
     "name": "stdout",
     "output_type": "stream",
     "text": [
      "Epoch 529: train=7.17257, val=7.97458, took 45.565 s\n",
      "  Validation Found 51531 of 54504, added 2420 (eff 94.55%) (0.242 FP/event)\n"
     ]
    },
    {
     "data": {
      "application/vnd.jupyter.widget-view+json": {
       "model_id": "",
       "version_major": 2,
       "version_minor": 0
      },
      "text/plain": [
       "HBox(children=(FloatProgress(value=0.0, description='Training', layout=Layout(flex='2'), max=1250.0, style=Pro…"
      ]
     },
     "metadata": {},
     "output_type": "display_data"
    },
    {
     "name": "stdout",
     "output_type": "stream",
     "text": [
      "Epoch 530: train=7.17458, val=7.94545, took 45.629 s\n",
      "  Validation Found 51524 of 54504, added 2368 (eff 94.53%) (0.237 FP/event)\n"
     ]
    },
    {
     "data": {
      "application/vnd.jupyter.widget-view+json": {
       "model_id": "",
       "version_major": 2,
       "version_minor": 0
      },
      "text/plain": [
       "HBox(children=(FloatProgress(value=0.0, description='Training', layout=Layout(flex='2'), max=1250.0, style=Pro…"
      ]
     },
     "metadata": {},
     "output_type": "display_data"
    },
    {
     "name": "stdout",
     "output_type": "stream",
     "text": [
      "Epoch 531: train=7.17533, val=7.98685, took 45.551 s\n",
      "  Validation Found 51429 of 54504, added 2207 (eff 94.36%) (0.221 FP/event)\n"
     ]
    },
    {
     "data": {
      "application/vnd.jupyter.widget-view+json": {
       "model_id": "",
       "version_major": 2,
       "version_minor": 0
      },
      "text/plain": [
       "HBox(children=(FloatProgress(value=0.0, description='Training', layout=Layout(flex='2'), max=1250.0, style=Pro…"
      ]
     },
     "metadata": {},
     "output_type": "display_data"
    },
    {
     "name": "stdout",
     "output_type": "stream",
     "text": [
      "Epoch 532: train=7.17496, val=8.09552, took 45.691 s\n",
      "  Validation Found 51349 of 54504, added 2087 (eff 94.21%) (0.209 FP/event)\n"
     ]
    },
    {
     "data": {
      "application/vnd.jupyter.widget-view+json": {
       "model_id": "",
       "version_major": 2,
       "version_minor": 0
      },
      "text/plain": [
       "HBox(children=(FloatProgress(value=0.0, description='Training', layout=Layout(flex='2'), max=1250.0, style=Pro…"
      ]
     },
     "metadata": {},
     "output_type": "display_data"
    },
    {
     "name": "stdout",
     "output_type": "stream",
     "text": [
      "Epoch 533: train=7.17483, val=7.94106, took 45.522 s\n",
      "  Validation Found 51433 of 54504, added 2210 (eff 94.37%) (0.221 FP/event)\n"
     ]
    },
    {
     "data": {
      "application/vnd.jupyter.widget-view+json": {
       "model_id": "",
       "version_major": 2,
       "version_minor": 0
      },
      "text/plain": [
       "HBox(children=(FloatProgress(value=0.0, description='Training', layout=Layout(flex='2'), max=1250.0, style=Pro…"
      ]
     },
     "metadata": {},
     "output_type": "display_data"
    },
    {
     "name": "stdout",
     "output_type": "stream",
     "text": [
      "Epoch 534: train=7.17756, val=8.02909, took 46.177 s\n",
      "  Validation Found 51329 of 54504, added 2042 (eff 94.17%) (0.205 FP/event)\n"
     ]
    },
    {
     "data": {
      "application/vnd.jupyter.widget-view+json": {
       "model_id": "",
       "version_major": 2,
       "version_minor": 0
      },
      "text/plain": [
       "HBox(children=(FloatProgress(value=0.0, description='Training', layout=Layout(flex='2'), max=1250.0, style=Pro…"
      ]
     },
     "metadata": {},
     "output_type": "display_data"
    },
    {
     "name": "stdout",
     "output_type": "stream",
     "text": [
      "Epoch 535: train=7.17243, val=8.04641, took 45.536 s\n",
      "  Validation Found 51234 of 54504, added 1853 (eff 94.00%) (0.186 FP/event)\n"
     ]
    },
    {
     "data": {
      "application/vnd.jupyter.widget-view+json": {
       "model_id": "",
       "version_major": 2,
       "version_minor": 0
      },
      "text/plain": [
       "HBox(children=(FloatProgress(value=0.0, description='Training', layout=Layout(flex='2'), max=1250.0, style=Pro…"
      ]
     },
     "metadata": {},
     "output_type": "display_data"
    },
    {
     "name": "stdout",
     "output_type": "stream",
     "text": [
      "Epoch 536: train=7.17244, val=8.07196, took 45.66 s\n",
      "  Validation Found 51271 of 54504, added 1885 (eff 94.07%) (0.189 FP/event)\n"
     ]
    },
    {
     "data": {
      "application/vnd.jupyter.widget-view+json": {
       "model_id": "",
       "version_major": 2,
       "version_minor": 0
      },
      "text/plain": [
       "HBox(children=(FloatProgress(value=0.0, description='Training', layout=Layout(flex='2'), max=1250.0, style=Pro…"
      ]
     },
     "metadata": {},
     "output_type": "display_data"
    },
    {
     "name": "stdout",
     "output_type": "stream",
     "text": [
      "Epoch 537: train=7.16806, val=8.03669, took 45.677 s\n",
      "  Validation Found 51341 of 54504, added 2019 (eff 94.20%) (0.202 FP/event)\n"
     ]
    },
    {
     "data": {
      "application/vnd.jupyter.widget-view+json": {
       "model_id": "",
       "version_major": 2,
       "version_minor": 0
      },
      "text/plain": [
       "HBox(children=(FloatProgress(value=0.0, description='Training', layout=Layout(flex='2'), max=1250.0, style=Pro…"
      ]
     },
     "metadata": {},
     "output_type": "display_data"
    },
    {
     "name": "stdout",
     "output_type": "stream",
     "text": [
      "Epoch 538: train=7.17058, val=8.00159, took 45.517 s\n",
      "  Validation Found 51371 of 54504, added 2078 (eff 94.25%) (0.208 FP/event)\n"
     ]
    },
    {
     "data": {
      "application/vnd.jupyter.widget-view+json": {
       "model_id": "",
       "version_major": 2,
       "version_minor": 0
      },
      "text/plain": [
       "HBox(children=(FloatProgress(value=0.0, description='Training', layout=Layout(flex='2'), max=1250.0, style=Pro…"
      ]
     },
     "metadata": {},
     "output_type": "display_data"
    },
    {
     "name": "stdout",
     "output_type": "stream",
     "text": [
      "Epoch 539: train=7.17349, val=8.14776, took 45.479 s\n",
      "  Validation Found 51230 of 54504, added 1879 (eff 93.99%) (0.188 FP/event)\n"
     ]
    },
    {
     "data": {
      "application/vnd.jupyter.widget-view+json": {
       "model_id": "",
       "version_major": 2,
       "version_minor": 0
      },
      "text/plain": [
       "HBox(children=(FloatProgress(value=0.0, description='Training', layout=Layout(flex='2'), max=1250.0, style=Pro…"
      ]
     },
     "metadata": {},
     "output_type": "display_data"
    },
    {
     "name": "stdout",
     "output_type": "stream",
     "text": [
      "Epoch 540: train=7.17149, val=8.09874, took 45.569 s\n",
      "  Validation Found 51266 of 54504, added 1888 (eff 94.06%) (0.189 FP/event)\n"
     ]
    },
    {
     "data": {
      "application/vnd.jupyter.widget-view+json": {
       "model_id": "",
       "version_major": 2,
       "version_minor": 0
      },
      "text/plain": [
       "HBox(children=(FloatProgress(value=0.0, description='Training', layout=Layout(flex='2'), max=1250.0, style=Pro…"
      ]
     },
     "metadata": {},
     "output_type": "display_data"
    },
    {
     "name": "stdout",
     "output_type": "stream",
     "text": [
      "Epoch 541: train=7.17234, val=8.08711, took 45.516 s\n",
      "  Validation Found 51258 of 54504, added 1926 (eff 94.04%) (0.193 FP/event)\n"
     ]
    },
    {
     "data": {
      "application/vnd.jupyter.widget-view+json": {
       "model_id": "",
       "version_major": 2,
       "version_minor": 0
      },
      "text/plain": [
       "HBox(children=(FloatProgress(value=0.0, description='Training', layout=Layout(flex='2'), max=1250.0, style=Pro…"
      ]
     },
     "metadata": {},
     "output_type": "display_data"
    },
    {
     "name": "stdout",
     "output_type": "stream",
     "text": [
      "Epoch 542: train=7.17153, val=8.05764, took 45.472 s\n",
      "  Validation Found 51214 of 54504, added 1819 (eff 93.96%) (0.182 FP/event)\n"
     ]
    },
    {
     "data": {
      "application/vnd.jupyter.widget-view+json": {
       "model_id": "",
       "version_major": 2,
       "version_minor": 0
      },
      "text/plain": [
       "HBox(children=(FloatProgress(value=0.0, description='Training', layout=Layout(flex='2'), max=1250.0, style=Pro…"
      ]
     },
     "metadata": {},
     "output_type": "display_data"
    },
    {
     "name": "stdout",
     "output_type": "stream",
     "text": [
      "Epoch 543: train=7.17246, val=7.99397, took 45.523 s\n",
      "  Validation Found 51594 of 54504, added 2552 (eff 94.66%) (0.256 FP/event)\n"
     ]
    },
    {
     "data": {
      "application/vnd.jupyter.widget-view+json": {
       "model_id": "",
       "version_major": 2,
       "version_minor": 0
      },
      "text/plain": [
       "HBox(children=(FloatProgress(value=0.0, description='Training', layout=Layout(flex='2'), max=1250.0, style=Pro…"
      ]
     },
     "metadata": {},
     "output_type": "display_data"
    },
    {
     "name": "stdout",
     "output_type": "stream",
     "text": [
      "Epoch 544: train=7.17211, val=8.02742, took 45.542 s\n",
      "  Validation Found 51374 of 54504, added 2011 (eff 94.26%) (0.201 FP/event)\n"
     ]
    },
    {
     "data": {
      "application/vnd.jupyter.widget-view+json": {
       "model_id": "",
       "version_major": 2,
       "version_minor": 0
      },
      "text/plain": [
       "HBox(children=(FloatProgress(value=0.0, description='Training', layout=Layout(flex='2'), max=1250.0, style=Pro…"
      ]
     },
     "metadata": {},
     "output_type": "display_data"
    },
    {
     "name": "stdout",
     "output_type": "stream",
     "text": [
      "Epoch 545: train=7.17203, val=8.01082, took 46.204 s\n",
      "  Validation Found 51390 of 54504, added 2053 (eff 94.29%) (0.206 FP/event)\n"
     ]
    },
    {
     "data": {
      "application/vnd.jupyter.widget-view+json": {
       "model_id": "",
       "version_major": 2,
       "version_minor": 0
      },
      "text/plain": [
       "HBox(children=(FloatProgress(value=0.0, description='Training', layout=Layout(flex='2'), max=1250.0, style=Pro…"
      ]
     },
     "metadata": {},
     "output_type": "display_data"
    },
    {
     "name": "stdout",
     "output_type": "stream",
     "text": [
      "Epoch 546: train=7.17406, val=8.00688, took 45.6 s\n",
      "  Validation Found 51486 of 54504, added 2320 (eff 94.46%) (0.232 FP/event)\n"
     ]
    },
    {
     "data": {
      "application/vnd.jupyter.widget-view+json": {
       "model_id": "",
       "version_major": 2,
       "version_minor": 0
      },
      "text/plain": [
       "HBox(children=(FloatProgress(value=0.0, description='Training', layout=Layout(flex='2'), max=1250.0, style=Pro…"
      ]
     },
     "metadata": {},
     "output_type": "display_data"
    },
    {
     "name": "stdout",
     "output_type": "stream",
     "text": [
      "Epoch 547: train=7.17064, val=7.97563, took 45.73 s\n",
      "  Validation Found 51549 of 54504, added 2411 (eff 94.58%) (0.241 FP/event)\n"
     ]
    },
    {
     "data": {
      "application/vnd.jupyter.widget-view+json": {
       "model_id": "",
       "version_major": 2,
       "version_minor": 0
      },
      "text/plain": [
       "HBox(children=(FloatProgress(value=0.0, description='Training', layout=Layout(flex='2'), max=1250.0, style=Pro…"
      ]
     },
     "metadata": {},
     "output_type": "display_data"
    },
    {
     "name": "stdout",
     "output_type": "stream",
     "text": [
      "Epoch 548: train=7.17389, val=8.03189, took 45.534 s\n",
      "  Validation Found 51259 of 54504, added 1883 (eff 94.05%) (0.189 FP/event)\n"
     ]
    },
    {
     "data": {
      "application/vnd.jupyter.widget-view+json": {
       "model_id": "",
       "version_major": 2,
       "version_minor": 0
      },
      "text/plain": [
       "HBox(children=(FloatProgress(value=0.0, description='Training', layout=Layout(flex='2'), max=1250.0, style=Pro…"
      ]
     },
     "metadata": {},
     "output_type": "display_data"
    },
    {
     "name": "stdout",
     "output_type": "stream",
     "text": [
      "Epoch 549: train=7.1695, val=8.02435, took 45.564 s\n",
      "  Validation Found 51387 of 54504, added 2107 (eff 94.28%) (0.211 FP/event)\n"
     ]
    },
    {
     "data": {
      "application/vnd.jupyter.widget-view+json": {
       "model_id": "",
       "version_major": 2,
       "version_minor": 0
      },
      "text/plain": [
       "HBox(children=(FloatProgress(value=0.0, description='Training', layout=Layout(flex='2'), max=1250.0, style=Pro…"
      ]
     },
     "metadata": {},
     "output_type": "display_data"
    },
    {
     "name": "stdout",
     "output_type": "stream",
     "text": [
      "Epoch 550: train=7.17072, val=8.08059, took 45.755 s\n",
      "  Validation Found 51226 of 54504, added 1895 (eff 93.99%) (0.19 FP/event)\n"
     ]
    },
    {
     "data": {
      "application/vnd.jupyter.widget-view+json": {
       "model_id": "",
       "version_major": 2,
       "version_minor": 0
      },
      "text/plain": [
       "HBox(children=(FloatProgress(value=0.0, description='Training', layout=Layout(flex='2'), max=1250.0, style=Pro…"
      ]
     },
     "metadata": {},
     "output_type": "display_data"
    },
    {
     "name": "stdout",
     "output_type": "stream",
     "text": [
      "Epoch 551: train=7.16988, val=8.01141, took 45.555 s\n",
      "  Validation Found 51418 of 54504, added 2193 (eff 94.34%) (0.22 FP/event)\n"
     ]
    },
    {
     "data": {
      "application/vnd.jupyter.widget-view+json": {
       "model_id": "",
       "version_major": 2,
       "version_minor": 0
      },
      "text/plain": [
       "HBox(children=(FloatProgress(value=0.0, description='Training', layout=Layout(flex='2'), max=1250.0, style=Pro…"
      ]
     },
     "metadata": {},
     "output_type": "display_data"
    },
    {
     "name": "stdout",
     "output_type": "stream",
     "text": [
      "Epoch 552: train=7.17111, val=7.99926, took 45.732 s\n",
      "  Validation Found 51427 of 54504, added 2205 (eff 94.35%) (0.221 FP/event)\n"
     ]
    },
    {
     "data": {
      "application/vnd.jupyter.widget-view+json": {
       "model_id": "",
       "version_major": 2,
       "version_minor": 0
      },
      "text/plain": [
       "HBox(children=(FloatProgress(value=0.0, description='Training', layout=Layout(flex='2'), max=1250.0, style=Pro…"
      ]
     },
     "metadata": {},
     "output_type": "display_data"
    },
    {
     "name": "stdout",
     "output_type": "stream",
     "text": [
      "Epoch 553: train=7.17054, val=8.02495, took 45.594 s\n",
      "  Validation Found 51479 of 54504, added 2361 (eff 94.45%) (0.236 FP/event)\n"
     ]
    },
    {
     "data": {
      "application/vnd.jupyter.widget-view+json": {
       "model_id": "",
       "version_major": 2,
       "version_minor": 0
      },
      "text/plain": [
       "HBox(children=(FloatProgress(value=0.0, description='Training', layout=Layout(flex='2'), max=1250.0, style=Pro…"
      ]
     },
     "metadata": {},
     "output_type": "display_data"
    },
    {
     "name": "stdout",
     "output_type": "stream",
     "text": [
      "Epoch 554: train=7.16932, val=8.03266, took 45.602 s\n",
      "  Validation Found 51278 of 54504, added 1895 (eff 94.08%) (0.19 FP/event)\n"
     ]
    },
    {
     "data": {
      "application/vnd.jupyter.widget-view+json": {
       "model_id": "",
       "version_major": 2,
       "version_minor": 0
      },
      "text/plain": [
       "HBox(children=(FloatProgress(value=0.0, description='Training', layout=Layout(flex='2'), max=1250.0, style=Pro…"
      ]
     },
     "metadata": {},
     "output_type": "display_data"
    },
    {
     "name": "stdout",
     "output_type": "stream",
     "text": [
      "Epoch 555: train=7.17195, val=8.02465, took 45.641 s\n",
      "  Validation Found 51287 of 54504, added 1955 (eff 94.10%) (0.196 FP/event)\n"
     ]
    },
    {
     "data": {
      "application/vnd.jupyter.widget-view+json": {
       "model_id": "",
       "version_major": 2,
       "version_minor": 0
      },
      "text/plain": [
       "HBox(children=(FloatProgress(value=0.0, description='Training', layout=Layout(flex='2'), max=1250.0, style=Pro…"
      ]
     },
     "metadata": {},
     "output_type": "display_data"
    },
    {
     "name": "stdout",
     "output_type": "stream",
     "text": [
      "Epoch 556: train=7.16966, val=7.97784, took 45.811 s\n",
      "  Validation Found 51421 of 54504, added 2177 (eff 94.34%) (0.218 FP/event)\n"
     ]
    },
    {
     "data": {
      "application/vnd.jupyter.widget-view+json": {
       "model_id": "",
       "version_major": 2,
       "version_minor": 0
      },
      "text/plain": [
       "HBox(children=(FloatProgress(value=0.0, description='Training', layout=Layout(flex='2'), max=1250.0, style=Pro…"
      ]
     },
     "metadata": {},
     "output_type": "display_data"
    },
    {
     "name": "stdout",
     "output_type": "stream",
     "text": [
      "Epoch 557: train=7.17051, val=8.03372, took 45.574 s\n",
      "  Validation Found 51440 of 54504, added 2194 (eff 94.38%) (0.22 FP/event)\n"
     ]
    },
    {
     "data": {
      "application/vnd.jupyter.widget-view+json": {
       "model_id": "",
       "version_major": 2,
       "version_minor": 0
      },
      "text/plain": [
       "HBox(children=(FloatProgress(value=0.0, description='Training', layout=Layout(flex='2'), max=1250.0, style=Pro…"
      ]
     },
     "metadata": {},
     "output_type": "display_data"
    },
    {
     "name": "stdout",
     "output_type": "stream",
     "text": [
      "Epoch 558: train=7.17109, val=8.03816, took 45.777 s\n",
      "  Validation Found 51345 of 54504, added 2092 (eff 94.20%) (0.21 FP/event)\n"
     ]
    },
    {
     "data": {
      "application/vnd.jupyter.widget-view+json": {
       "model_id": "",
       "version_major": 2,
       "version_minor": 0
      },
      "text/plain": [
       "HBox(children=(FloatProgress(value=0.0, description='Training', layout=Layout(flex='2'), max=1250.0, style=Pro…"
      ]
     },
     "metadata": {},
     "output_type": "display_data"
    },
    {
     "name": "stdout",
     "output_type": "stream",
     "text": [
      "Epoch 559: train=7.1731, val=8.07757, took 46.369 s\n",
      "  Validation Found 51309 of 54504, added 2030 (eff 94.14%) (0.203 FP/event)\n"
     ]
    },
    {
     "data": {
      "application/vnd.jupyter.widget-view+json": {
       "model_id": "",
       "version_major": 2,
       "version_minor": 0
      },
      "text/plain": [
       "HBox(children=(FloatProgress(value=0.0, description='Training', layout=Layout(flex='2'), max=1250.0, style=Pro…"
      ]
     },
     "metadata": {},
     "output_type": "display_data"
    },
    {
     "name": "stdout",
     "output_type": "stream",
     "text": [
      "Epoch 560: train=7.16979, val=8.0607, took 46.651 s\n",
      "  Validation Found 51243 of 54504, added 1813 (eff 94.02%) (0.182 FP/event)\n"
     ]
    },
    {
     "data": {
      "application/vnd.jupyter.widget-view+json": {
       "model_id": "",
       "version_major": 2,
       "version_minor": 0
      },
      "text/plain": [
       "HBox(children=(FloatProgress(value=0.0, description='Training', layout=Layout(flex='2'), max=1250.0, style=Pro…"
      ]
     },
     "metadata": {},
     "output_type": "display_data"
    },
    {
     "name": "stdout",
     "output_type": "stream",
     "text": [
      "Epoch 561: train=7.16968, val=8.00039, took 47.158 s\n",
      "  Validation Found 51440 of 54504, added 2189 (eff 94.38%) (0.219 FP/event)\n"
     ]
    },
    {
     "data": {
      "application/vnd.jupyter.widget-view+json": {
       "model_id": "",
       "version_major": 2,
       "version_minor": 0
      },
      "text/plain": [
       "HBox(children=(FloatProgress(value=0.0, description='Training', layout=Layout(flex='2'), max=1250.0, style=Pro…"
      ]
     },
     "metadata": {},
     "output_type": "display_data"
    },
    {
     "name": "stdout",
     "output_type": "stream",
     "text": [
      "Epoch 562: train=7.17149, val=8.07761, took 47.274 s\n",
      "  Validation Found 51263 of 54504, added 1869 (eff 94.05%) (0.187 FP/event)\n"
     ]
    },
    {
     "data": {
      "application/vnd.jupyter.widget-view+json": {
       "model_id": "",
       "version_major": 2,
       "version_minor": 0
      },
      "text/plain": [
       "HBox(children=(FloatProgress(value=0.0, description='Training', layout=Layout(flex='2'), max=1250.0, style=Pro…"
      ]
     },
     "metadata": {},
     "output_type": "display_data"
    },
    {
     "name": "stdout",
     "output_type": "stream",
     "text": [
      "Epoch 563: train=7.16924, val=8.13371, took 47.2 s\n",
      "  Validation Found 51219 of 54504, added 1839 (eff 93.97%) (0.184 FP/event)\n"
     ]
    },
    {
     "data": {
      "application/vnd.jupyter.widget-view+json": {
       "model_id": "",
       "version_major": 2,
       "version_minor": 0
      },
      "text/plain": [
       "HBox(children=(FloatProgress(value=0.0, description='Training', layout=Layout(flex='2'), max=1250.0, style=Pro…"
      ]
     },
     "metadata": {},
     "output_type": "display_data"
    },
    {
     "name": "stdout",
     "output_type": "stream",
     "text": [
      "Epoch 564: train=7.1663, val=8.02002, took 47.231 s\n",
      "  Validation Found 51454 of 54504, added 2142 (eff 94.40%) (0.215 FP/event)\n"
     ]
    },
    {
     "data": {
      "application/vnd.jupyter.widget-view+json": {
       "model_id": "",
       "version_major": 2,
       "version_minor": 0
      },
      "text/plain": [
       "HBox(children=(FloatProgress(value=0.0, description='Training', layout=Layout(flex='2'), max=1250.0, style=Pro…"
      ]
     },
     "metadata": {},
     "output_type": "display_data"
    },
    {
     "name": "stdout",
     "output_type": "stream",
     "text": [
      "Epoch 565: train=7.16899, val=8.00734, took 47.184 s\n",
      "  Validation Found 51396 of 54504, added 2127 (eff 94.30%) (0.213 FP/event)\n"
     ]
    },
    {
     "data": {
      "application/vnd.jupyter.widget-view+json": {
       "model_id": "",
       "version_major": 2,
       "version_minor": 0
      },
      "text/plain": [
       "HBox(children=(FloatProgress(value=0.0, description='Training', layout=Layout(flex='2'), max=1250.0, style=Pro…"
      ]
     },
     "metadata": {},
     "output_type": "display_data"
    },
    {
     "name": "stdout",
     "output_type": "stream",
     "text": [
      "Epoch 566: train=7.16886, val=8.00976, took 47.082 s\n",
      "  Validation Found 51434 of 54504, added 2099 (eff 94.37%) (0.21 FP/event)\n"
     ]
    },
    {
     "data": {
      "application/vnd.jupyter.widget-view+json": {
       "model_id": "",
       "version_major": 2,
       "version_minor": 0
      },
      "text/plain": [
       "HBox(children=(FloatProgress(value=0.0, description='Training', layout=Layout(flex='2'), max=1250.0, style=Pro…"
      ]
     },
     "metadata": {},
     "output_type": "display_data"
    },
    {
     "name": "stdout",
     "output_type": "stream",
     "text": [
      "Epoch 567: train=7.16853, val=7.94171, took 47.168 s\n",
      "  Validation Found 51521 of 54504, added 2366 (eff 94.53%) (0.237 FP/event)\n"
     ]
    },
    {
     "data": {
      "application/vnd.jupyter.widget-view+json": {
       "model_id": "",
       "version_major": 2,
       "version_minor": 0
      },
      "text/plain": [
       "HBox(children=(FloatProgress(value=0.0, description='Training', layout=Layout(flex='2'), max=1250.0, style=Pro…"
      ]
     },
     "metadata": {},
     "output_type": "display_data"
    },
    {
     "name": "stdout",
     "output_type": "stream",
     "text": [
      "Epoch 568: train=7.16545, val=8.10085, took 47.063 s\n",
      "  Validation Found 51152 of 54504, added 1739 (eff 93.85%) (0.174 FP/event)\n"
     ]
    },
    {
     "data": {
      "application/vnd.jupyter.widget-view+json": {
       "model_id": "",
       "version_major": 2,
       "version_minor": 0
      },
      "text/plain": [
       "HBox(children=(FloatProgress(value=0.0, description='Training', layout=Layout(flex='2'), max=1250.0, style=Pro…"
      ]
     },
     "metadata": {},
     "output_type": "display_data"
    },
    {
     "name": "stdout",
     "output_type": "stream",
     "text": [
      "Epoch 569: train=7.16965, val=8.06962, took 47.011 s\n",
      "  Validation Found 51269 of 54504, added 1881 (eff 94.06%) (0.188 FP/event)\n"
     ]
    },
    {
     "data": {
      "application/vnd.jupyter.widget-view+json": {
       "model_id": "",
       "version_major": 2,
       "version_minor": 0
      },
      "text/plain": [
       "HBox(children=(FloatProgress(value=0.0, description='Training', layout=Layout(flex='2'), max=1250.0, style=Pro…"
      ]
     },
     "metadata": {},
     "output_type": "display_data"
    },
    {
     "name": "stdout",
     "output_type": "stream",
     "text": [
      "Epoch 570: train=7.16919, val=8.02119, took 47.027 s\n",
      "  Validation Found 51430 of 54504, added 2152 (eff 94.36%) (0.216 FP/event)\n"
     ]
    },
    {
     "data": {
      "application/vnd.jupyter.widget-view+json": {
       "model_id": "",
       "version_major": 2,
       "version_minor": 0
      },
      "text/plain": [
       "HBox(children=(FloatProgress(value=0.0, description='Training', layout=Layout(flex='2'), max=1250.0, style=Pro…"
      ]
     },
     "metadata": {},
     "output_type": "display_data"
    },
    {
     "name": "stdout",
     "output_type": "stream",
     "text": [
      "Epoch 571: train=7.16728, val=8.11196, took 46.965 s\n",
      "  Validation Found 51444 of 54504, added 2301 (eff 94.39%) (0.23 FP/event)\n"
     ]
    },
    {
     "data": {
      "application/vnd.jupyter.widget-view+json": {
       "model_id": "",
       "version_major": 2,
       "version_minor": 0
      },
      "text/plain": [
       "HBox(children=(FloatProgress(value=0.0, description='Training', layout=Layout(flex='2'), max=1250.0, style=Pro…"
      ]
     },
     "metadata": {},
     "output_type": "display_data"
    },
    {
     "name": "stdout",
     "output_type": "stream",
     "text": [
      "Epoch 572: train=7.16718, val=8.0, took 46.876 s\n",
      "  Validation Found 51445 of 54504, added 2155 (eff 94.39%) (0.216 FP/event)\n"
     ]
    },
    {
     "data": {
      "application/vnd.jupyter.widget-view+json": {
       "model_id": "",
       "version_major": 2,
       "version_minor": 0
      },
      "text/plain": [
       "HBox(children=(FloatProgress(value=0.0, description='Training', layout=Layout(flex='2'), max=1250.0, style=Pro…"
      ]
     },
     "metadata": {},
     "output_type": "display_data"
    },
    {
     "name": "stdout",
     "output_type": "stream",
     "text": [
      "Epoch 573: train=7.16908, val=8.05122, took 47.057 s\n",
      "  Validation Found 51304 of 54504, added 2002 (eff 94.13%) (0.201 FP/event)\n"
     ]
    },
    {
     "data": {
      "application/vnd.jupyter.widget-view+json": {
       "model_id": "",
       "version_major": 2,
       "version_minor": 0
      },
      "text/plain": [
       "HBox(children=(FloatProgress(value=0.0, description='Training', layout=Layout(flex='2'), max=1250.0, style=Pro…"
      ]
     },
     "metadata": {},
     "output_type": "display_data"
    },
    {
     "name": "stdout",
     "output_type": "stream",
     "text": [
      "Epoch 574: train=7.1677, val=8.01358, took 46.97 s\n",
      "  Validation Found 51430 of 54504, added 2227 (eff 94.36%) (0.223 FP/event)\n"
     ]
    },
    {
     "data": {
      "application/vnd.jupyter.widget-view+json": {
       "model_id": "",
       "version_major": 2,
       "version_minor": 0
      },
      "text/plain": [
       "HBox(children=(FloatProgress(value=0.0, description='Training', layout=Layout(flex='2'), max=1250.0, style=Pro…"
      ]
     },
     "metadata": {},
     "output_type": "display_data"
    },
    {
     "name": "stdout",
     "output_type": "stream",
     "text": [
      "Epoch 575: train=7.1661, val=8.02201, took 47.096 s\n",
      "  Validation Found 51299 of 54504, added 1972 (eff 94.12%) (0.197 FP/event)\n"
     ]
    },
    {
     "data": {
      "application/vnd.jupyter.widget-view+json": {
       "model_id": "",
       "version_major": 2,
       "version_minor": 0
      },
      "text/plain": [
       "HBox(children=(FloatProgress(value=0.0, description='Training', layout=Layout(flex='2'), max=1250.0, style=Pro…"
      ]
     },
     "metadata": {},
     "output_type": "display_data"
    },
    {
     "name": "stdout",
     "output_type": "stream",
     "text": [
      "Epoch 576: train=7.17055, val=8.01083, took 47.056 s\n",
      "  Validation Found 51461 of 54504, added 2168 (eff 94.42%) (0.217 FP/event)\n"
     ]
    },
    {
     "data": {
      "application/vnd.jupyter.widget-view+json": {
       "model_id": "",
       "version_major": 2,
       "version_minor": 0
      },
      "text/plain": [
       "HBox(children=(FloatProgress(value=0.0, description='Training', layout=Layout(flex='2'), max=1250.0, style=Pro…"
      ]
     },
     "metadata": {},
     "output_type": "display_data"
    },
    {
     "name": "stdout",
     "output_type": "stream",
     "text": [
      "Epoch 577: train=7.16797, val=7.96511, took 47.074 s\n",
      "  Validation Found 51448 of 54504, added 2114 (eff 94.39%) (0.212 FP/event)\n"
     ]
    },
    {
     "data": {
      "application/vnd.jupyter.widget-view+json": {
       "model_id": "",
       "version_major": 2,
       "version_minor": 0
      },
      "text/plain": [
       "HBox(children=(FloatProgress(value=0.0, description='Training', layout=Layout(flex='2'), max=1250.0, style=Pro…"
      ]
     },
     "metadata": {},
     "output_type": "display_data"
    },
    {
     "name": "stdout",
     "output_type": "stream",
     "text": [
      "Epoch 578: train=7.16866, val=8.11567, took 47.042 s\n",
      "  Validation Found 51244 of 54504, added 1856 (eff 94.02%) (0.186 FP/event)\n"
     ]
    },
    {
     "data": {
      "application/vnd.jupyter.widget-view+json": {
       "model_id": "",
       "version_major": 2,
       "version_minor": 0
      },
      "text/plain": [
       "HBox(children=(FloatProgress(value=0.0, description='Training', layout=Layout(flex='2'), max=1250.0, style=Pro…"
      ]
     },
     "metadata": {},
     "output_type": "display_data"
    },
    {
     "name": "stdout",
     "output_type": "stream",
     "text": [
      "Epoch 579: train=7.16542, val=8.06436, took 47.0 s\n",
      "  Validation Found 51261 of 54504, added 1909 (eff 94.05%) (0.191 FP/event)\n"
     ]
    },
    {
     "data": {
      "application/vnd.jupyter.widget-view+json": {
       "model_id": "",
       "version_major": 2,
       "version_minor": 0
      },
      "text/plain": [
       "HBox(children=(FloatProgress(value=0.0, description='Training', layout=Layout(flex='2'), max=1250.0, style=Pro…"
      ]
     },
     "metadata": {},
     "output_type": "display_data"
    },
    {
     "name": "stdout",
     "output_type": "stream",
     "text": [
      "Epoch 580: train=7.16536, val=7.98384, took 46.966 s\n",
      "  Validation Found 51497 of 54504, added 2329 (eff 94.48%) (0.233 FP/event)\n"
     ]
    },
    {
     "data": {
      "application/vnd.jupyter.widget-view+json": {
       "model_id": "",
       "version_major": 2,
       "version_minor": 0
      },
      "text/plain": [
       "HBox(children=(FloatProgress(value=0.0, description='Training', layout=Layout(flex='2'), max=1250.0, style=Pro…"
      ]
     },
     "metadata": {},
     "output_type": "display_data"
    },
    {
     "name": "stdout",
     "output_type": "stream",
     "text": [
      "Epoch 581: train=7.1682, val=8.04488, took 47.109 s\n",
      "  Validation Found 51452 of 54504, added 2239 (eff 94.40%) (0.224 FP/event)\n"
     ]
    },
    {
     "data": {
      "application/vnd.jupyter.widget-view+json": {
       "model_id": "",
       "version_major": 2,
       "version_minor": 0
      },
      "text/plain": [
       "HBox(children=(FloatProgress(value=0.0, description='Training', layout=Layout(flex='2'), max=1250.0, style=Pro…"
      ]
     },
     "metadata": {},
     "output_type": "display_data"
    },
    {
     "name": "stdout",
     "output_type": "stream",
     "text": [
      "Epoch 582: train=7.16696, val=8.02509, took 47.058 s\n",
      "  Validation Found 51540 of 54504, added 2362 (eff 94.56%) (0.237 FP/event)\n"
     ]
    },
    {
     "data": {
      "application/vnd.jupyter.widget-view+json": {
       "model_id": "",
       "version_major": 2,
       "version_minor": 0
      },
      "text/plain": [
       "HBox(children=(FloatProgress(value=0.0, description='Training', layout=Layout(flex='2'), max=1250.0, style=Pro…"
      ]
     },
     "metadata": {},
     "output_type": "display_data"
    },
    {
     "name": "stdout",
     "output_type": "stream",
     "text": [
      "Epoch 583: train=7.16667, val=8.05325, took 47.193 s\n",
      "  Validation Found 51382 of 54504, added 2064 (eff 94.27%) (0.207 FP/event)\n"
     ]
    },
    {
     "data": {
      "application/vnd.jupyter.widget-view+json": {
       "model_id": "",
       "version_major": 2,
       "version_minor": 0
      },
      "text/plain": [
       "HBox(children=(FloatProgress(value=0.0, description='Training', layout=Layout(flex='2'), max=1250.0, style=Pro…"
      ]
     },
     "metadata": {},
     "output_type": "display_data"
    },
    {
     "name": "stdout",
     "output_type": "stream",
     "text": [
      "Epoch 584: train=7.16543, val=7.97617, took 47.0 s\n",
      "  Validation Found 51571 of 54504, added 2487 (eff 94.62%) (0.249 FP/event)\n"
     ]
    },
    {
     "data": {
      "application/vnd.jupyter.widget-view+json": {
       "model_id": "",
       "version_major": 2,
       "version_minor": 0
      },
      "text/plain": [
       "HBox(children=(FloatProgress(value=0.0, description='Training', layout=Layout(flex='2'), max=1250.0, style=Pro…"
      ]
     },
     "metadata": {},
     "output_type": "display_data"
    },
    {
     "name": "stdout",
     "output_type": "stream",
     "text": [
      "Epoch 585: train=7.16611, val=8.05952, took 47.103 s\n",
      "  Validation Found 51377 of 54504, added 2030 (eff 94.26%) (0.203 FP/event)\n"
     ]
    },
    {
     "data": {
      "application/vnd.jupyter.widget-view+json": {
       "model_id": "",
       "version_major": 2,
       "version_minor": 0
      },
      "text/plain": [
       "HBox(children=(FloatProgress(value=0.0, description='Training', layout=Layout(flex='2'), max=1250.0, style=Pro…"
      ]
     },
     "metadata": {},
     "output_type": "display_data"
    },
    {
     "name": "stdout",
     "output_type": "stream",
     "text": [
      "Epoch 586: train=7.16569, val=8.01174, took 46.977 s\n",
      "  Validation Found 51442 of 54504, added 2189 (eff 94.38%) (0.219 FP/event)\n"
     ]
    },
    {
     "data": {
      "application/vnd.jupyter.widget-view+json": {
       "model_id": "",
       "version_major": 2,
       "version_minor": 0
      },
      "text/plain": [
       "HBox(children=(FloatProgress(value=0.0, description='Training', layout=Layout(flex='2'), max=1250.0, style=Pro…"
      ]
     },
     "metadata": {},
     "output_type": "display_data"
    },
    {
     "name": "stdout",
     "output_type": "stream",
     "text": [
      "Epoch 587: train=7.16702, val=8.00486, took 47.033 s\n",
      "  Validation Found 51337 of 54504, added 2036 (eff 94.19%) (0.204 FP/event)\n"
     ]
    },
    {
     "data": {
      "application/vnd.jupyter.widget-view+json": {
       "model_id": "",
       "version_major": 2,
       "version_minor": 0
      },
      "text/plain": [
       "HBox(children=(FloatProgress(value=0.0, description='Training', layout=Layout(flex='2'), max=1250.0, style=Pro…"
      ]
     },
     "metadata": {},
     "output_type": "display_data"
    },
    {
     "name": "stdout",
     "output_type": "stream",
     "text": [
      "Epoch 588: train=7.16582, val=8.03648, took 46.994 s\n",
      "  Validation Found 51354 of 54504, added 2026 (eff 94.22%) (0.203 FP/event)\n"
     ]
    },
    {
     "data": {
      "application/vnd.jupyter.widget-view+json": {
       "model_id": "",
       "version_major": 2,
       "version_minor": 0
      },
      "text/plain": [
       "HBox(children=(FloatProgress(value=0.0, description='Training', layout=Layout(flex='2'), max=1250.0, style=Pro…"
      ]
     },
     "metadata": {},
     "output_type": "display_data"
    },
    {
     "name": "stdout",
     "output_type": "stream",
     "text": [
      "Epoch 589: train=7.16487, val=8.09282, took 47.157 s\n",
      "  Validation Found 51272 of 54504, added 1924 (eff 94.07%) (0.193 FP/event)\n"
     ]
    },
    {
     "data": {
      "application/vnd.jupyter.widget-view+json": {
       "model_id": "",
       "version_major": 2,
       "version_minor": 0
      },
      "text/plain": [
       "HBox(children=(FloatProgress(value=0.0, description='Training', layout=Layout(flex='2'), max=1250.0, style=Pro…"
      ]
     },
     "metadata": {},
     "output_type": "display_data"
    },
    {
     "name": "stdout",
     "output_type": "stream",
     "text": [
      "Epoch 590: train=7.16511, val=7.96235, took 47.094 s\n",
      "  Validation Found 51534 of 54504, added 2348 (eff 94.55%) (0.235 FP/event)\n"
     ]
    },
    {
     "data": {
      "application/vnd.jupyter.widget-view+json": {
       "model_id": "",
       "version_major": 2,
       "version_minor": 0
      },
      "text/plain": [
       "HBox(children=(FloatProgress(value=0.0, description='Training', layout=Layout(flex='2'), max=1250.0, style=Pro…"
      ]
     },
     "metadata": {},
     "output_type": "display_data"
    },
    {
     "name": "stdout",
     "output_type": "stream",
     "text": [
      "Epoch 591: train=7.16788, val=8.10062, took 47.063 s\n",
      "  Validation Found 51368 of 54504, added 2018 (eff 94.25%) (0.202 FP/event)\n"
     ]
    },
    {
     "data": {
      "application/vnd.jupyter.widget-view+json": {
       "model_id": "",
       "version_major": 2,
       "version_minor": 0
      },
      "text/plain": [
       "HBox(children=(FloatProgress(value=0.0, description='Training', layout=Layout(flex='2'), max=1250.0, style=Pro…"
      ]
     },
     "metadata": {},
     "output_type": "display_data"
    },
    {
     "name": "stdout",
     "output_type": "stream",
     "text": [
      "Epoch 592: train=7.16253, val=7.98446, took 47.076 s\n",
      "  Validation Found 51441 of 54504, added 2185 (eff 94.38%) (0.219 FP/event)\n"
     ]
    },
    {
     "data": {
      "application/vnd.jupyter.widget-view+json": {
       "model_id": "",
       "version_major": 2,
       "version_minor": 0
      },
      "text/plain": [
       "HBox(children=(FloatProgress(value=0.0, description='Training', layout=Layout(flex='2'), max=1250.0, style=Pro…"
      ]
     },
     "metadata": {},
     "output_type": "display_data"
    },
    {
     "name": "stdout",
     "output_type": "stream",
     "text": [
      "Epoch 593: train=7.16362, val=8.01048, took 47.112 s\n",
      "  Validation Found 51422 of 54504, added 2223 (eff 94.35%) (0.223 FP/event)\n"
     ]
    },
    {
     "data": {
      "application/vnd.jupyter.widget-view+json": {
       "model_id": "",
       "version_major": 2,
       "version_minor": 0
      },
      "text/plain": [
       "HBox(children=(FloatProgress(value=0.0, description='Training', layout=Layout(flex='2'), max=1250.0, style=Pro…"
      ]
     },
     "metadata": {},
     "output_type": "display_data"
    },
    {
     "name": "stdout",
     "output_type": "stream",
     "text": [
      "Epoch 594: train=7.16205, val=8.10487, took 47.136 s\n",
      "  Validation Found 51232 of 54504, added 1855 (eff 94.00%) (0.186 FP/event)\n"
     ]
    },
    {
     "data": {
      "application/vnd.jupyter.widget-view+json": {
       "model_id": "",
       "version_major": 2,
       "version_minor": 0
      },
      "text/plain": [
       "HBox(children=(FloatProgress(value=0.0, description='Training', layout=Layout(flex='2'), max=1250.0, style=Pro…"
      ]
     },
     "metadata": {},
     "output_type": "display_data"
    },
    {
     "name": "stdout",
     "output_type": "stream",
     "text": [
      "Epoch 595: train=7.16428, val=8.07545, took 47.137 s\n",
      "  Validation Found 51327 of 54504, added 2066 (eff 94.17%) (0.207 FP/event)\n"
     ]
    },
    {
     "data": {
      "application/vnd.jupyter.widget-view+json": {
       "model_id": "",
       "version_major": 2,
       "version_minor": 0
      },
      "text/plain": [
       "HBox(children=(FloatProgress(value=0.0, description='Training', layout=Layout(flex='2'), max=1250.0, style=Pro…"
      ]
     },
     "metadata": {},
     "output_type": "display_data"
    },
    {
     "name": "stdout",
     "output_type": "stream",
     "text": [
      "Epoch 596: train=7.16417, val=7.99795, took 47.129 s\n",
      "  Validation Found 51490 of 54504, added 2270 (eff 94.47%) (0.227 FP/event)\n"
     ]
    },
    {
     "data": {
      "application/vnd.jupyter.widget-view+json": {
       "model_id": "",
       "version_major": 2,
       "version_minor": 0
      },
      "text/plain": [
       "HBox(children=(FloatProgress(value=0.0, description='Training', layout=Layout(flex='2'), max=1250.0, style=Pro…"
      ]
     },
     "metadata": {},
     "output_type": "display_data"
    },
    {
     "name": "stdout",
     "output_type": "stream",
     "text": [
      "Epoch 597: train=7.16566, val=8.00868, took 47.093 s\n",
      "  Validation Found 51336 of 54504, added 1990 (eff 94.19%) (0.199 FP/event)\n"
     ]
    },
    {
     "data": {
      "application/vnd.jupyter.widget-view+json": {
       "model_id": "",
       "version_major": 2,
       "version_minor": 0
      },
      "text/plain": [
       "HBox(children=(FloatProgress(value=0.0, description='Training', layout=Layout(flex='2'), max=1250.0, style=Pro…"
      ]
     },
     "metadata": {},
     "output_type": "display_data"
    },
    {
     "name": "stdout",
     "output_type": "stream",
     "text": [
      "Epoch 598: train=7.16205, val=7.93758, took 47.189 s\n",
      "  Validation Found 51498 of 54504, added 2302 (eff 94.48%) (0.231 FP/event)\n"
     ]
    },
    {
     "data": {
      "application/vnd.jupyter.widget-view+json": {
       "model_id": "",
       "version_major": 2,
       "version_minor": 0
      },
      "text/plain": [
       "HBox(children=(FloatProgress(value=0.0, description='Training', layout=Layout(flex='2'), max=1250.0, style=Pro…"
      ]
     },
     "metadata": {},
     "output_type": "display_data"
    },
    {
     "name": "stdout",
     "output_type": "stream",
     "text": [
      "Epoch 599: train=7.16272, val=8.05845, took 47.172 s\n",
      "  Validation Found 51419 of 54504, added 2144 (eff 94.34%) (0.215 FP/event)\n"
     ]
    },
    {
     "data": {
      "application/vnd.jupyter.widget-view+json": {
       "model_id": "",
       "version_major": 2,
       "version_minor": 0
      },
      "text/plain": [
       "HBox(children=(FloatProgress(value=0.0, description='Training', layout=Layout(flex='2'), max=1250.0, style=Pro…"
      ]
     },
     "metadata": {},
     "output_type": "display_data"
    },
    {
     "name": "stdout",
     "output_type": "stream",
     "text": [
      "Epoch 600: train=7.1626, val=8.11393, took 47.108 s\n",
      "  Validation Found 51274 of 54504, added 1920 (eff 94.07%) (0.192 FP/event)\n"
     ]
    },
    {
     "data": {
      "application/vnd.jupyter.widget-view+json": {
       "model_id": "",
       "version_major": 2,
       "version_minor": 0
      },
      "text/plain": [
       "HBox(children=(FloatProgress(value=0.0, description='Training', layout=Layout(flex='2'), max=1250.0, style=Pro…"
      ]
     },
     "metadata": {},
     "output_type": "display_data"
    },
    {
     "name": "stdout",
     "output_type": "stream",
     "text": [
      "Epoch 601: train=7.1619, val=7.9959, took 46.882 s\n",
      "  Validation Found 51483 of 54504, added 2240 (eff 94.46%) (0.224 FP/event)\n"
     ]
    },
    {
     "data": {
      "application/vnd.jupyter.widget-view+json": {
       "model_id": "",
       "version_major": 2,
       "version_minor": 0
      },
      "text/plain": [
       "HBox(children=(FloatProgress(value=0.0, description='Training', layout=Layout(flex='2'), max=1250.0, style=Pro…"
      ]
     },
     "metadata": {},
     "output_type": "display_data"
    },
    {
     "name": "stdout",
     "output_type": "stream",
     "text": [
      "Epoch 602: train=7.16295, val=8.12244, took 47.084 s\n",
      "  Validation Found 51334 of 54504, added 1993 (eff 94.18%) (0.2 FP/event)\n"
     ]
    },
    {
     "data": {
      "application/vnd.jupyter.widget-view+json": {
       "model_id": "",
       "version_major": 2,
       "version_minor": 0
      },
      "text/plain": [
       "HBox(children=(FloatProgress(value=0.0, description='Training', layout=Layout(flex='2'), max=1250.0, style=Pro…"
      ]
     },
     "metadata": {},
     "output_type": "display_data"
    },
    {
     "name": "stdout",
     "output_type": "stream",
     "text": [
      "Epoch 603: train=7.16307, val=7.9961, took 47.072 s\n",
      "  Validation Found 51438 of 54504, added 2141 (eff 94.37%) (0.214 FP/event)\n"
     ]
    },
    {
     "data": {
      "application/vnd.jupyter.widget-view+json": {
       "model_id": "",
       "version_major": 2,
       "version_minor": 0
      },
      "text/plain": [
       "HBox(children=(FloatProgress(value=0.0, description='Training', layout=Layout(flex='2'), max=1250.0, style=Pro…"
      ]
     },
     "metadata": {},
     "output_type": "display_data"
    },
    {
     "name": "stdout",
     "output_type": "stream",
     "text": [
      "Epoch 604: train=7.16338, val=8.05121, took 47.083 s\n",
      "  Validation Found 51318 of 54504, added 1927 (eff 94.15%) (0.193 FP/event)\n"
     ]
    },
    {
     "data": {
      "application/vnd.jupyter.widget-view+json": {
       "model_id": "",
       "version_major": 2,
       "version_minor": 0
      },
      "text/plain": [
       "HBox(children=(FloatProgress(value=0.0, description='Training', layout=Layout(flex='2'), max=1250.0, style=Pro…"
      ]
     },
     "metadata": {},
     "output_type": "display_data"
    },
    {
     "name": "stdout",
     "output_type": "stream",
     "text": [
      "Epoch 605: train=7.16369, val=8.00084, took 47.135 s\n",
      "  Validation Found 51336 of 54504, added 2027 (eff 94.19%) (0.203 FP/event)\n"
     ]
    },
    {
     "data": {
      "application/vnd.jupyter.widget-view+json": {
       "model_id": "",
       "version_major": 2,
       "version_minor": 0
      },
      "text/plain": [
       "HBox(children=(FloatProgress(value=0.0, description='Training', layout=Layout(flex='2'), max=1250.0, style=Pro…"
      ]
     },
     "metadata": {},
     "output_type": "display_data"
    },
    {
     "name": "stdout",
     "output_type": "stream",
     "text": [
      "Epoch 606: train=7.16096, val=8.03319, took 47.1 s\n",
      "  Validation Found 51322 of 54504, added 1986 (eff 94.16%) (0.199 FP/event)\n"
     ]
    },
    {
     "data": {
      "application/vnd.jupyter.widget-view+json": {
       "model_id": "",
       "version_major": 2,
       "version_minor": 0
      },
      "text/plain": [
       "HBox(children=(FloatProgress(value=0.0, description='Training', layout=Layout(flex='2'), max=1250.0, style=Pro…"
      ]
     },
     "metadata": {},
     "output_type": "display_data"
    },
    {
     "name": "stdout",
     "output_type": "stream",
     "text": [
      "Epoch 607: train=7.16039, val=7.98968, took 47.059 s\n",
      "  Validation Found 51481 of 54504, added 2207 (eff 94.45%) (0.221 FP/event)\n"
     ]
    },
    {
     "data": {
      "application/vnd.jupyter.widget-view+json": {
       "model_id": "",
       "version_major": 2,
       "version_minor": 0
      },
      "text/plain": [
       "HBox(children=(FloatProgress(value=0.0, description='Training', layout=Layout(flex='2'), max=1250.0, style=Pro…"
      ]
     },
     "metadata": {},
     "output_type": "display_data"
    },
    {
     "name": "stdout",
     "output_type": "stream",
     "text": [
      "Epoch 608: train=7.16091, val=7.96082, took 47.086 s\n",
      "  Validation Found 51445 of 54504, added 2227 (eff 94.39%) (0.223 FP/event)\n"
     ]
    },
    {
     "data": {
      "application/vnd.jupyter.widget-view+json": {
       "model_id": "",
       "version_major": 2,
       "version_minor": 0
      },
      "text/plain": [
       "HBox(children=(FloatProgress(value=0.0, description='Training', layout=Layout(flex='2'), max=1250.0, style=Pro…"
      ]
     },
     "metadata": {},
     "output_type": "display_data"
    },
    {
     "name": "stdout",
     "output_type": "stream",
     "text": [
      "Epoch 609: train=7.16154, val=8.12055, took 46.255 s\n",
      "  Validation Found 51302 of 54504, added 1947 (eff 94.13%) (0.195 FP/event)\n"
     ]
    },
    {
     "data": {
      "application/vnd.jupyter.widget-view+json": {
       "model_id": "",
       "version_major": 2,
       "version_minor": 0
      },
      "text/plain": [
       "HBox(children=(FloatProgress(value=0.0, description='Training', layout=Layout(flex='2'), max=1250.0, style=Pro…"
      ]
     },
     "metadata": {},
     "output_type": "display_data"
    },
    {
     "name": "stdout",
     "output_type": "stream",
     "text": [
      "Epoch 610: train=7.16155, val=8.06471, took 45.489 s\n",
      "  Validation Found 51405 of 54504, added 2198 (eff 94.31%) (0.22 FP/event)\n"
     ]
    },
    {
     "data": {
      "application/vnd.jupyter.widget-view+json": {
       "model_id": "",
       "version_major": 2,
       "version_minor": 0
      },
      "text/plain": [
       "HBox(children=(FloatProgress(value=0.0, description='Training', layout=Layout(flex='2'), max=1250.0, style=Pro…"
      ]
     },
     "metadata": {},
     "output_type": "display_data"
    },
    {
     "name": "stdout",
     "output_type": "stream",
     "text": [
      "Epoch 611: train=7.16206, val=8.058, took 45.712 s\n",
      "  Validation Found 51531 of 54504, added 2342 (eff 94.55%) (0.235 FP/event)\n"
     ]
    },
    {
     "data": {
      "application/vnd.jupyter.widget-view+json": {
       "model_id": "",
       "version_major": 2,
       "version_minor": 0
      },
      "text/plain": [
       "HBox(children=(FloatProgress(value=0.0, description='Training', layout=Layout(flex='2'), max=1250.0, style=Pro…"
      ]
     },
     "metadata": {},
     "output_type": "display_data"
    },
    {
     "name": "stdout",
     "output_type": "stream",
     "text": [
      "Epoch 612: train=7.16376, val=7.97734, took 45.62 s\n",
      "  Validation Found 51497 of 54504, added 2248 (eff 94.48%) (0.225 FP/event)\n"
     ]
    },
    {
     "data": {
      "application/vnd.jupyter.widget-view+json": {
       "model_id": "",
       "version_major": 2,
       "version_minor": 0
      },
      "text/plain": [
       "HBox(children=(FloatProgress(value=0.0, description='Training', layout=Layout(flex='2'), max=1250.0, style=Pro…"
      ]
     },
     "metadata": {},
     "output_type": "display_data"
    },
    {
     "name": "stdout",
     "output_type": "stream",
     "text": [
      "Epoch 613: train=7.1629, val=8.07666, took 45.474 s\n",
      "  Validation Found 51319 of 54504, added 1923 (eff 94.16%) (0.193 FP/event)\n"
     ]
    },
    {
     "data": {
      "application/vnd.jupyter.widget-view+json": {
       "model_id": "",
       "version_major": 2,
       "version_minor": 0
      },
      "text/plain": [
       "HBox(children=(FloatProgress(value=0.0, description='Training', layout=Layout(flex='2'), max=1250.0, style=Pro…"
      ]
     },
     "metadata": {},
     "output_type": "display_data"
    },
    {
     "name": "stdout",
     "output_type": "stream",
     "text": [
      "Epoch 614: train=7.1621, val=8.00191, took 46.042 s\n",
      "  Validation Found 51511 of 54504, added 2330 (eff 94.51%) (0.233 FP/event)\n"
     ]
    },
    {
     "data": {
      "application/vnd.jupyter.widget-view+json": {
       "model_id": "",
       "version_major": 2,
       "version_minor": 0
      },
      "text/plain": [
       "HBox(children=(FloatProgress(value=0.0, description='Training', layout=Layout(flex='2'), max=1250.0, style=Pro…"
      ]
     },
     "metadata": {},
     "output_type": "display_data"
    },
    {
     "name": "stdout",
     "output_type": "stream",
     "text": [
      "Epoch 615: train=7.16068, val=8.00893, took 46.015 s\n",
      "  Validation Found 51329 of 54504, added 2000 (eff 94.17%) (0.2 FP/event)\n"
     ]
    },
    {
     "data": {
      "application/vnd.jupyter.widget-view+json": {
       "model_id": "",
       "version_major": 2,
       "version_minor": 0
      },
      "text/plain": [
       "HBox(children=(FloatProgress(value=0.0, description='Training', layout=Layout(flex='2'), max=1250.0, style=Pro…"
      ]
     },
     "metadata": {},
     "output_type": "display_data"
    },
    {
     "name": "stdout",
     "output_type": "stream",
     "text": [
      "Epoch 616: train=7.15767, val=8.05323, took 45.614 s\n",
      "  Validation Found 51325 of 54504, added 1992 (eff 94.17%) (0.199 FP/event)\n"
     ]
    },
    {
     "data": {
      "application/vnd.jupyter.widget-view+json": {
       "model_id": "",
       "version_major": 2,
       "version_minor": 0
      },
      "text/plain": [
       "HBox(children=(FloatProgress(value=0.0, description='Training', layout=Layout(flex='2'), max=1250.0, style=Pro…"
      ]
     },
     "metadata": {},
     "output_type": "display_data"
    },
    {
     "name": "stdout",
     "output_type": "stream",
     "text": [
      "Epoch 617: train=7.16086, val=8.05172, took 45.434 s\n",
      "  Validation Found 51319 of 54504, added 1937 (eff 94.16%) (0.194 FP/event)\n"
     ]
    },
    {
     "data": {
      "application/vnd.jupyter.widget-view+json": {
       "model_id": "",
       "version_major": 2,
       "version_minor": 0
      },
      "text/plain": [
       "HBox(children=(FloatProgress(value=0.0, description='Training', layout=Layout(flex='2'), max=1250.0, style=Pro…"
      ]
     },
     "metadata": {},
     "output_type": "display_data"
    },
    {
     "name": "stdout",
     "output_type": "stream",
     "text": [
      "Epoch 618: train=7.1597, val=8.03433, took 45.428 s\n",
      "  Validation Found 51414 of 54504, added 2124 (eff 94.33%) (0.213 FP/event)\n"
     ]
    },
    {
     "data": {
      "application/vnd.jupyter.widget-view+json": {
       "model_id": "",
       "version_major": 2,
       "version_minor": 0
      },
      "text/plain": [
       "HBox(children=(FloatProgress(value=0.0, description='Training', layout=Layout(flex='2'), max=1250.0, style=Pro…"
      ]
     },
     "metadata": {},
     "output_type": "display_data"
    },
    {
     "name": "stdout",
     "output_type": "stream",
     "text": [
      "Epoch 619: train=7.16036, val=7.97371, took 45.925 s\n",
      "  Validation Found 51367 of 54504, added 2036 (eff 94.24%) (0.204 FP/event)\n"
     ]
    },
    {
     "data": {
      "application/vnd.jupyter.widget-view+json": {
       "model_id": "",
       "version_major": 2,
       "version_minor": 0
      },
      "text/plain": [
       "HBox(children=(FloatProgress(value=0.0, description='Training', layout=Layout(flex='2'), max=1250.0, style=Pro…"
      ]
     },
     "metadata": {},
     "output_type": "display_data"
    },
    {
     "name": "stdout",
     "output_type": "stream",
     "text": [
      "Epoch 620: train=7.16286, val=8.07782, took 46.147 s\n",
      "  Validation Found 51276 of 54504, added 1971 (eff 94.08%) (0.197 FP/event)\n"
     ]
    },
    {
     "data": {
      "application/vnd.jupyter.widget-view+json": {
       "model_id": "",
       "version_major": 2,
       "version_minor": 0
      },
      "text/plain": [
       "HBox(children=(FloatProgress(value=0.0, description='Training', layout=Layout(flex='2'), max=1250.0, style=Pro…"
      ]
     },
     "metadata": {},
     "output_type": "display_data"
    },
    {
     "name": "stdout",
     "output_type": "stream",
     "text": [
      "Epoch 621: train=7.16166, val=7.94944, took 46.453 s\n",
      "  Validation Found 51438 of 54504, added 2191 (eff 94.37%) (0.219 FP/event)\n"
     ]
    },
    {
     "data": {
      "application/vnd.jupyter.widget-view+json": {
       "model_id": "",
       "version_major": 2,
       "version_minor": 0
      },
      "text/plain": [
       "HBox(children=(FloatProgress(value=0.0, description='Training', layout=Layout(flex='2'), max=1250.0, style=Pro…"
      ]
     },
     "metadata": {},
     "output_type": "display_data"
    },
    {
     "name": "stdout",
     "output_type": "stream",
     "text": [
      "Epoch 622: train=7.1596, val=7.97286, took 46.107 s\n",
      "  Validation Found 51568 of 54504, added 2604 (eff 94.61%) (0.261 FP/event)\n"
     ]
    },
    {
     "data": {
      "application/vnd.jupyter.widget-view+json": {
       "model_id": "",
       "version_major": 2,
       "version_minor": 0
      },
      "text/plain": [
       "HBox(children=(FloatProgress(value=0.0, description='Training', layout=Layout(flex='2'), max=1250.0, style=Pro…"
      ]
     },
     "metadata": {},
     "output_type": "display_data"
    },
    {
     "name": "stdout",
     "output_type": "stream",
     "text": [
      "Epoch 623: train=7.16298, val=8.06423, took 45.44 s\n",
      "  Validation Found 51361 of 54504, added 2114 (eff 94.23%) (0.212 FP/event)\n"
     ]
    },
    {
     "data": {
      "application/vnd.jupyter.widget-view+json": {
       "model_id": "",
       "version_major": 2,
       "version_minor": 0
      },
      "text/plain": [
       "HBox(children=(FloatProgress(value=0.0, description='Training', layout=Layout(flex='2'), max=1250.0, style=Pro…"
      ]
     },
     "metadata": {},
     "output_type": "display_data"
    },
    {
     "name": "stdout",
     "output_type": "stream",
     "text": [
      "Epoch 624: train=7.15949, val=8.03222, took 44.501 s\n",
      "  Validation Found 51418 of 54504, added 2132 (eff 94.34%) (0.214 FP/event)\n"
     ]
    },
    {
     "data": {
      "application/vnd.jupyter.widget-view+json": {
       "model_id": "",
       "version_major": 2,
       "version_minor": 0
      },
      "text/plain": [
       "HBox(children=(FloatProgress(value=0.0, description='Training', layout=Layout(flex='2'), max=1250.0, style=Pro…"
      ]
     },
     "metadata": {},
     "output_type": "display_data"
    },
    {
     "name": "stdout",
     "output_type": "stream",
     "text": [
      "Epoch 625: train=7.15778, val=7.95507, took 44.444 s\n",
      "  Validation Found 51457 of 54504, added 2210 (eff 94.41%) (0.221 FP/event)\n"
     ]
    },
    {
     "data": {
      "application/vnd.jupyter.widget-view+json": {
       "model_id": "",
       "version_major": 2,
       "version_minor": 0
      },
      "text/plain": [
       "HBox(children=(FloatProgress(value=0.0, description='Training', layout=Layout(flex='2'), max=1250.0, style=Pro…"
      ]
     },
     "metadata": {},
     "output_type": "display_data"
    },
    {
     "name": "stdout",
     "output_type": "stream",
     "text": [
      "Epoch 626: train=7.15715, val=8.0305, took 44.431 s\n",
      "  Validation Found 51334 of 54504, added 2083 (eff 94.18%) (0.209 FP/event)\n"
     ]
    },
    {
     "data": {
      "application/vnd.jupyter.widget-view+json": {
       "model_id": "",
       "version_major": 2,
       "version_minor": 0
      },
      "text/plain": [
       "HBox(children=(FloatProgress(value=0.0, description='Training', layout=Layout(flex='2'), max=1250.0, style=Pro…"
      ]
     },
     "metadata": {},
     "output_type": "display_data"
    },
    {
     "name": "stdout",
     "output_type": "stream",
     "text": [
      "Epoch 627: train=7.15984, val=7.98478, took 44.917 s\n",
      "  Validation Found 51430 of 54504, added 2239 (eff 94.36%) (0.224 FP/event)\n"
     ]
    },
    {
     "data": {
      "application/vnd.jupyter.widget-view+json": {
       "model_id": "",
       "version_major": 2,
       "version_minor": 0
      },
      "text/plain": [
       "HBox(children=(FloatProgress(value=0.0, description='Training', layout=Layout(flex='2'), max=1250.0, style=Pro…"
      ]
     },
     "metadata": {},
     "output_type": "display_data"
    },
    {
     "name": "stdout",
     "output_type": "stream",
     "text": [
      "Epoch 628: train=7.16046, val=8.05256, took 45.385 s\n",
      "  Validation Found 51307 of 54504, added 1930 (eff 94.13%) (0.193 FP/event)\n"
     ]
    },
    {
     "data": {
      "application/vnd.jupyter.widget-view+json": {
       "model_id": "",
       "version_major": 2,
       "version_minor": 0
      },
      "text/plain": [
       "HBox(children=(FloatProgress(value=0.0, description='Training', layout=Layout(flex='2'), max=1250.0, style=Pro…"
      ]
     },
     "metadata": {},
     "output_type": "display_data"
    },
    {
     "name": "stdout",
     "output_type": "stream",
     "text": [
      "Epoch 629: train=7.16283, val=8.05462, took 45.703 s\n",
      "  Validation Found 51352 of 54504, added 2005 (eff 94.22%) (0.201 FP/event)\n"
     ]
    },
    {
     "data": {
      "application/vnd.jupyter.widget-view+json": {
       "model_id": "",
       "version_major": 2,
       "version_minor": 0
      },
      "text/plain": [
       "HBox(children=(FloatProgress(value=0.0, description='Training', layout=Layout(flex='2'), max=1250.0, style=Pro…"
      ]
     },
     "metadata": {},
     "output_type": "display_data"
    },
    {
     "name": "stdout",
     "output_type": "stream",
     "text": [
      "Epoch 630: train=7.16115, val=8.13964, took 45.638 s\n",
      "  Validation Found 51191 of 54504, added 1809 (eff 93.92%) (0.181 FP/event)\n"
     ]
    },
    {
     "data": {
      "application/vnd.jupyter.widget-view+json": {
       "model_id": "",
       "version_major": 2,
       "version_minor": 0
      },
      "text/plain": [
       "HBox(children=(FloatProgress(value=0.0, description='Training', layout=Layout(flex='2'), max=1250.0, style=Pro…"
      ]
     },
     "metadata": {},
     "output_type": "display_data"
    },
    {
     "name": "stdout",
     "output_type": "stream",
     "text": [
      "Epoch 631: train=7.1598, val=8.03926, took 45.695 s\n",
      "  Validation Found 51455 of 54504, added 2303 (eff 94.41%) (0.231 FP/event)\n"
     ]
    },
    {
     "data": {
      "application/vnd.jupyter.widget-view+json": {
       "model_id": "",
       "version_major": 2,
       "version_minor": 0
      },
      "text/plain": [
       "HBox(children=(FloatProgress(value=0.0, description='Training', layout=Layout(flex='2'), max=1250.0, style=Pro…"
      ]
     },
     "metadata": {},
     "output_type": "display_data"
    },
    {
     "name": "stdout",
     "output_type": "stream",
     "text": [
      "Epoch 632: train=7.15938, val=8.01332, took 45.863 s\n",
      "  Validation Found 51378 of 54504, added 2065 (eff 94.26%) (0.207 FP/event)\n"
     ]
    },
    {
     "data": {
      "application/vnd.jupyter.widget-view+json": {
       "model_id": "",
       "version_major": 2,
       "version_minor": 0
      },
      "text/plain": [
       "HBox(children=(FloatProgress(value=0.0, description='Training', layout=Layout(flex='2'), max=1250.0, style=Pro…"
      ]
     },
     "metadata": {},
     "output_type": "display_data"
    },
    {
     "name": "stdout",
     "output_type": "stream",
     "text": [
      "Epoch 633: train=7.15913, val=8.01896, took 45.593 s\n",
      "  Validation Found 51282 of 54504, added 1927 (eff 94.09%) (0.193 FP/event)\n"
     ]
    },
    {
     "data": {
      "application/vnd.jupyter.widget-view+json": {
       "model_id": "",
       "version_major": 2,
       "version_minor": 0
      },
      "text/plain": [
       "HBox(children=(FloatProgress(value=0.0, description='Training', layout=Layout(flex='2'), max=1250.0, style=Pro…"
      ]
     },
     "metadata": {},
     "output_type": "display_data"
    },
    {
     "name": "stdout",
     "output_type": "stream",
     "text": [
      "Epoch 634: train=7.15858, val=7.98306, took 45.382 s\n",
      "  Validation Found 51519 of 54504, added 2372 (eff 94.52%) (0.238 FP/event)\n"
     ]
    },
    {
     "data": {
      "application/vnd.jupyter.widget-view+json": {
       "model_id": "",
       "version_major": 2,
       "version_minor": 0
      },
      "text/plain": [
       "HBox(children=(FloatProgress(value=0.0, description='Training', layout=Layout(flex='2'), max=1250.0, style=Pro…"
      ]
     },
     "metadata": {},
     "output_type": "display_data"
    },
    {
     "name": "stdout",
     "output_type": "stream",
     "text": [
      "Epoch 635: train=7.1569, val=8.00058, took 45.597 s\n",
      "  Validation Found 51478 of 54504, added 2295 (eff 94.45%) (0.23 FP/event)\n"
     ]
    },
    {
     "data": {
      "application/vnd.jupyter.widget-view+json": {
       "model_id": "",
       "version_major": 2,
       "version_minor": 0
      },
      "text/plain": [
       "HBox(children=(FloatProgress(value=0.0, description='Training', layout=Layout(flex='2'), max=1250.0, style=Pro…"
      ]
     },
     "metadata": {},
     "output_type": "display_data"
    },
    {
     "name": "stdout",
     "output_type": "stream",
     "text": [
      "Epoch 636: train=7.15608, val=8.08046, took 46.268 s\n",
      "  Validation Found 51311 of 54504, added 1994 (eff 94.14%) (0.2 FP/event)\n"
     ]
    },
    {
     "data": {
      "application/vnd.jupyter.widget-view+json": {
       "model_id": "",
       "version_major": 2,
       "version_minor": 0
      },
      "text/plain": [
       "HBox(children=(FloatProgress(value=0.0, description='Training', layout=Layout(flex='2'), max=1250.0, style=Pro…"
      ]
     },
     "metadata": {},
     "output_type": "display_data"
    },
    {
     "name": "stdout",
     "output_type": "stream",
     "text": [
      "Epoch 637: train=7.15674, val=8.0439, took 46.445 s\n",
      "  Validation Found 51320 of 54504, added 1987 (eff 94.16%) (0.199 FP/event)\n"
     ]
    },
    {
     "data": {
      "application/vnd.jupyter.widget-view+json": {
       "model_id": "",
       "version_major": 2,
       "version_minor": 0
      },
      "text/plain": [
       "HBox(children=(FloatProgress(value=0.0, description='Training', layout=Layout(flex='2'), max=1250.0, style=Pro…"
      ]
     },
     "metadata": {},
     "output_type": "display_data"
    },
    {
     "name": "stdout",
     "output_type": "stream",
     "text": [
      "Epoch 638: train=7.1561, val=8.04125, took 45.45 s\n",
      "  Validation Found 51297 of 54504, added 1979 (eff 94.12%) (0.198 FP/event)\n"
     ]
    },
    {
     "data": {
      "application/vnd.jupyter.widget-view+json": {
       "model_id": "",
       "version_major": 2,
       "version_minor": 0
      },
      "text/plain": [
       "HBox(children=(FloatProgress(value=0.0, description='Training', layout=Layout(flex='2'), max=1250.0, style=Pro…"
      ]
     },
     "metadata": {},
     "output_type": "display_data"
    },
    {
     "name": "stdout",
     "output_type": "stream",
     "text": [
      "Epoch 639: train=7.15702, val=8.06764, took 45.47 s\n",
      "  Validation Found 51367 of 54504, added 2030 (eff 94.24%) (0.203 FP/event)\n"
     ]
    },
    {
     "data": {
      "application/vnd.jupyter.widget-view+json": {
       "model_id": "",
       "version_major": 2,
       "version_minor": 0
      },
      "text/plain": [
       "HBox(children=(FloatProgress(value=0.0, description='Training', layout=Layout(flex='2'), max=1250.0, style=Pro…"
      ]
     },
     "metadata": {},
     "output_type": "display_data"
    },
    {
     "name": "stdout",
     "output_type": "stream",
     "text": [
      "Epoch 640: train=7.15822, val=8.02808, took 45.624 s\n",
      "  Validation Found 51491 of 54504, added 2319 (eff 94.47%) (0.232 FP/event)\n"
     ]
    },
    {
     "data": {
      "application/vnd.jupyter.widget-view+json": {
       "model_id": "",
       "version_major": 2,
       "version_minor": 0
      },
      "text/plain": [
       "HBox(children=(FloatProgress(value=0.0, description='Training', layout=Layout(flex='2'), max=1250.0, style=Pro…"
      ]
     },
     "metadata": {},
     "output_type": "display_data"
    },
    {
     "name": "stdout",
     "output_type": "stream",
     "text": [
      "Epoch 641: train=7.15948, val=8.10394, took 45.491 s\n",
      "  Validation Found 51425 of 54504, added 2136 (eff 94.35%) (0.214 FP/event)\n"
     ]
    },
    {
     "data": {
      "application/vnd.jupyter.widget-view+json": {
       "model_id": "",
       "version_major": 2,
       "version_minor": 0
      },
      "text/plain": [
       "HBox(children=(FloatProgress(value=0.0, description='Training', layout=Layout(flex='2'), max=1250.0, style=Pro…"
      ]
     },
     "metadata": {},
     "output_type": "display_data"
    },
    {
     "name": "stdout",
     "output_type": "stream",
     "text": [
      "Epoch 642: train=7.15696, val=8.06494, took 45.596 s\n",
      "  Validation Found 51332 of 54504, added 1998 (eff 94.18%) (0.2 FP/event)\n"
     ]
    },
    {
     "data": {
      "application/vnd.jupyter.widget-view+json": {
       "model_id": "",
       "version_major": 2,
       "version_minor": 0
      },
      "text/plain": [
       "HBox(children=(FloatProgress(value=0.0, description='Training', layout=Layout(flex='2'), max=1250.0, style=Pro…"
      ]
     },
     "metadata": {},
     "output_type": "display_data"
    },
    {
     "name": "stdout",
     "output_type": "stream",
     "text": [
      "Epoch 643: train=7.1596, val=8.01233, took 45.913 s\n",
      "  Validation Found 51449 of 54504, added 2197 (eff 94.39%) (0.22 FP/event)\n"
     ]
    },
    {
     "data": {
      "application/vnd.jupyter.widget-view+json": {
       "model_id": "",
       "version_major": 2,
       "version_minor": 0
      },
      "text/plain": [
       "HBox(children=(FloatProgress(value=0.0, description='Training', layout=Layout(flex='2'), max=1250.0, style=Pro…"
      ]
     },
     "metadata": {},
     "output_type": "display_data"
    },
    {
     "name": "stdout",
     "output_type": "stream",
     "text": [
      "Epoch 644: train=7.15583, val=8.04946, took 45.471 s\n",
      "  Validation Found 51360 of 54504, added 2079 (eff 94.23%) (0.208 FP/event)\n"
     ]
    },
    {
     "data": {
      "application/vnd.jupyter.widget-view+json": {
       "model_id": "",
       "version_major": 2,
       "version_minor": 0
      },
      "text/plain": [
       "HBox(children=(FloatProgress(value=0.0, description='Training', layout=Layout(flex='2'), max=1250.0, style=Pro…"
      ]
     },
     "metadata": {},
     "output_type": "display_data"
    },
    {
     "name": "stdout",
     "output_type": "stream",
     "text": [
      "Epoch 645: train=7.15727, val=8.04018, took 45.45 s\n",
      "  Validation Found 51368 of 54504, added 2100 (eff 94.25%) (0.21 FP/event)\n"
     ]
    },
    {
     "data": {
      "application/vnd.jupyter.widget-view+json": {
       "model_id": "",
       "version_major": 2,
       "version_minor": 0
      },
      "text/plain": [
       "HBox(children=(FloatProgress(value=0.0, description='Training', layout=Layout(flex='2'), max=1250.0, style=Pro…"
      ]
     },
     "metadata": {},
     "output_type": "display_data"
    },
    {
     "name": "stdout",
     "output_type": "stream",
     "text": [
      "Epoch 646: train=7.15868, val=8.03765, took 45.386 s\n",
      "  Validation Found 51275 of 54504, added 1911 (eff 94.08%) (0.191 FP/event)\n"
     ]
    },
    {
     "data": {
      "application/vnd.jupyter.widget-view+json": {
       "model_id": "",
       "version_major": 2,
       "version_minor": 0
      },
      "text/plain": [
       "HBox(children=(FloatProgress(value=0.0, description='Training', layout=Layout(flex='2'), max=1250.0, style=Pro…"
      ]
     },
     "metadata": {},
     "output_type": "display_data"
    },
    {
     "name": "stdout",
     "output_type": "stream",
     "text": [
      "Epoch 647: train=7.15656, val=8.08184, took 45.846 s\n",
      "  Validation Found 51292 of 54504, added 1886 (eff 94.11%) (0.189 FP/event)\n"
     ]
    },
    {
     "data": {
      "application/vnd.jupyter.widget-view+json": {
       "model_id": "",
       "version_major": 2,
       "version_minor": 0
      },
      "text/plain": [
       "HBox(children=(FloatProgress(value=0.0, description='Training', layout=Layout(flex='2'), max=1250.0, style=Pro…"
      ]
     },
     "metadata": {},
     "output_type": "display_data"
    },
    {
     "name": "stdout",
     "output_type": "stream",
     "text": [
      "Epoch 648: train=7.15819, val=7.96543, took 46.188 s\n",
      "  Validation Found 51427 of 54504, added 2111 (eff 94.35%) (0.211 FP/event)\n"
     ]
    },
    {
     "data": {
      "application/vnd.jupyter.widget-view+json": {
       "model_id": "",
       "version_major": 2,
       "version_minor": 0
      },
      "text/plain": [
       "HBox(children=(FloatProgress(value=0.0, description='Training', layout=Layout(flex='2'), max=1250.0, style=Pro…"
      ]
     },
     "metadata": {},
     "output_type": "display_data"
    },
    {
     "name": "stdout",
     "output_type": "stream",
     "text": [
      "Epoch 649: train=7.15681, val=7.9859, took 45.54 s\n",
      "  Validation Found 51408 of 54504, added 2103 (eff 94.32%) (0.211 FP/event)\n"
     ]
    },
    {
     "data": {
      "application/vnd.jupyter.widget-view+json": {
       "model_id": "",
       "version_major": 2,
       "version_minor": 0
      },
      "text/plain": [
       "HBox(children=(FloatProgress(value=0.0, description='Training', layout=Layout(flex='2'), max=1250.0, style=Pro…"
      ]
     },
     "metadata": {},
     "output_type": "display_data"
    },
    {
     "name": "stdout",
     "output_type": "stream",
     "text": [
      "Epoch 650: train=7.15555, val=8.0208, took 45.414 s\n",
      "  Validation Found 51529 of 54504, added 2436 (eff 94.54%) (0.244 FP/event)\n"
     ]
    },
    {
     "data": {
      "application/vnd.jupyter.widget-view+json": {
       "model_id": "",
       "version_major": 2,
       "version_minor": 0
      },
      "text/plain": [
       "HBox(children=(FloatProgress(value=0.0, description='Training', layout=Layout(flex='2'), max=1250.0, style=Pro…"
      ]
     },
     "metadata": {},
     "output_type": "display_data"
    },
    {
     "name": "stdout",
     "output_type": "stream",
     "text": [
      "Epoch 651: train=7.16162, val=8.10796, took 45.353 s\n",
      "  Validation Found 51304 of 54504, added 1965 (eff 94.13%) (0.197 FP/event)\n"
     ]
    },
    {
     "data": {
      "application/vnd.jupyter.widget-view+json": {
       "model_id": "",
       "version_major": 2,
       "version_minor": 0
      },
      "text/plain": [
       "HBox(children=(FloatProgress(value=0.0, description='Training', layout=Layout(flex='2'), max=1250.0, style=Pro…"
      ]
     },
     "metadata": {},
     "output_type": "display_data"
    },
    {
     "name": "stdout",
     "output_type": "stream",
     "text": [
      "Epoch 652: train=7.15733, val=8.0083, took 45.437 s\n",
      "  Validation Found 51506 of 54504, added 2348 (eff 94.50%) (0.235 FP/event)\n"
     ]
    },
    {
     "data": {
      "application/vnd.jupyter.widget-view+json": {
       "model_id": "",
       "version_major": 2,
       "version_minor": 0
      },
      "text/plain": [
       "HBox(children=(FloatProgress(value=0.0, description='Training', layout=Layout(flex='2'), max=1250.0, style=Pro…"
      ]
     },
     "metadata": {},
     "output_type": "display_data"
    },
    {
     "name": "stdout",
     "output_type": "stream",
     "text": [
      "Epoch 653: train=7.15585, val=8.04194, took 45.504 s\n",
      "  Validation Found 51352 of 54504, added 2003 (eff 94.22%) (0.201 FP/event)\n"
     ]
    },
    {
     "data": {
      "application/vnd.jupyter.widget-view+json": {
       "model_id": "",
       "version_major": 2,
       "version_minor": 0
      },
      "text/plain": [
       "HBox(children=(FloatProgress(value=0.0, description='Training', layout=Layout(flex='2'), max=1250.0, style=Pro…"
      ]
     },
     "metadata": {},
     "output_type": "display_data"
    },
    {
     "name": "stdout",
     "output_type": "stream",
     "text": [
      "Epoch 654: train=7.1551, val=7.99378, took 45.369 s\n",
      "  Validation Found 51467 of 54504, added 2248 (eff 94.43%) (0.225 FP/event)\n"
     ]
    },
    {
     "data": {
      "application/vnd.jupyter.widget-view+json": {
       "model_id": "",
       "version_major": 2,
       "version_minor": 0
      },
      "text/plain": [
       "HBox(children=(FloatProgress(value=0.0, description='Training', layout=Layout(flex='2'), max=1250.0, style=Pro…"
      ]
     },
     "metadata": {},
     "output_type": "display_data"
    },
    {
     "name": "stdout",
     "output_type": "stream",
     "text": [
      "Epoch 655: train=7.15571, val=8.05793, took 45.387 s\n",
      "  Validation Found 51466 of 54504, added 2252 (eff 94.43%) (0.226 FP/event)\n"
     ]
    },
    {
     "data": {
      "application/vnd.jupyter.widget-view+json": {
       "model_id": "",
       "version_major": 2,
       "version_minor": 0
      },
      "text/plain": [
       "HBox(children=(FloatProgress(value=0.0, description='Training', layout=Layout(flex='2'), max=1250.0, style=Pro…"
      ]
     },
     "metadata": {},
     "output_type": "display_data"
    },
    {
     "name": "stdout",
     "output_type": "stream",
     "text": [
      "Epoch 656: train=7.15624, val=8.02467, took 45.443 s\n",
      "  Validation Found 51347 of 54504, added 2068 (eff 94.21%) (0.207 FP/event)\n"
     ]
    },
    {
     "data": {
      "application/vnd.jupyter.widget-view+json": {
       "model_id": "",
       "version_major": 2,
       "version_minor": 0
      },
      "text/plain": [
       "HBox(children=(FloatProgress(value=0.0, description='Training', layout=Layout(flex='2'), max=1250.0, style=Pro…"
      ]
     },
     "metadata": {},
     "output_type": "display_data"
    },
    {
     "name": "stdout",
     "output_type": "stream",
     "text": [
      "Epoch 657: train=7.15692, val=8.01703, took 45.377 s\n",
      "  Validation Found 51469 of 54504, added 2298 (eff 94.43%) (0.23 FP/event)\n"
     ]
    },
    {
     "data": {
      "application/vnd.jupyter.widget-view+json": {
       "model_id": "",
       "version_major": 2,
       "version_minor": 0
      },
      "text/plain": [
       "HBox(children=(FloatProgress(value=0.0, description='Training', layout=Layout(flex='2'), max=1250.0, style=Pro…"
      ]
     },
     "metadata": {},
     "output_type": "display_data"
    },
    {
     "name": "stdout",
     "output_type": "stream",
     "text": [
      "Epoch 658: train=7.1546, val=8.07196, took 45.935 s\n",
      "  Validation Found 51280 of 54504, added 1916 (eff 94.08%) (0.192 FP/event)\n"
     ]
    },
    {
     "data": {
      "application/vnd.jupyter.widget-view+json": {
       "model_id": "",
       "version_major": 2,
       "version_minor": 0
      },
      "text/plain": [
       "HBox(children=(FloatProgress(value=0.0, description='Training', layout=Layout(flex='2'), max=1250.0, style=Pro…"
      ]
     },
     "metadata": {},
     "output_type": "display_data"
    },
    {
     "name": "stdout",
     "output_type": "stream",
     "text": [
      "Epoch 659: train=7.15672, val=8.03708, took 46.038 s\n",
      "  Validation Found 51405 of 54504, added 2129 (eff 94.31%) (0.213 FP/event)\n"
     ]
    },
    {
     "data": {
      "application/vnd.jupyter.widget-view+json": {
       "model_id": "",
       "version_major": 2,
       "version_minor": 0
      },
      "text/plain": [
       "HBox(children=(FloatProgress(value=0.0, description='Training', layout=Layout(flex='2'), max=1250.0, style=Pro…"
      ]
     },
     "metadata": {},
     "output_type": "display_data"
    },
    {
     "name": "stdout",
     "output_type": "stream",
     "text": [
      "Epoch 660: train=7.15597, val=8.02649, took 46.008 s\n",
      "  Validation Found 51284 of 54504, added 1934 (eff 94.09%) (0.194 FP/event)\n"
     ]
    },
    {
     "data": {
      "application/vnd.jupyter.widget-view+json": {
       "model_id": "",
       "version_major": 2,
       "version_minor": 0
      },
      "text/plain": [
       "HBox(children=(FloatProgress(value=0.0, description='Training', layout=Layout(flex='2'), max=1250.0, style=Pro…"
      ]
     },
     "metadata": {},
     "output_type": "display_data"
    },
    {
     "name": "stdout",
     "output_type": "stream",
     "text": [
      "Epoch 661: train=7.15412, val=7.9944, took 46.223 s\n",
      "  Validation Found 51440 of 54504, added 2279 (eff 94.38%) (0.228 FP/event)\n"
     ]
    },
    {
     "data": {
      "application/vnd.jupyter.widget-view+json": {
       "model_id": "",
       "version_major": 2,
       "version_minor": 0
      },
      "text/plain": [
       "HBox(children=(FloatProgress(value=0.0, description='Training', layout=Layout(flex='2'), max=1250.0, style=Pro…"
      ]
     },
     "metadata": {},
     "output_type": "display_data"
    },
    {
     "name": "stdout",
     "output_type": "stream",
     "text": [
      "Epoch 662: train=7.15558, val=8.02133, took 45.898 s\n",
      "  Validation Found 51350 of 54504, added 2037 (eff 94.21%) (0.204 FP/event)\n"
     ]
    },
    {
     "data": {
      "application/vnd.jupyter.widget-view+json": {
       "model_id": "",
       "version_major": 2,
       "version_minor": 0
      },
      "text/plain": [
       "HBox(children=(FloatProgress(value=0.0, description='Training', layout=Layout(flex='2'), max=1250.0, style=Pro…"
      ]
     },
     "metadata": {},
     "output_type": "display_data"
    },
    {
     "name": "stdout",
     "output_type": "stream",
     "text": [
      "Epoch 663: train=7.15446, val=8.2015, took 46.315 s\n",
      "  Validation Found 51042 of 54504, added 1650 (eff 93.65%) (0.165 FP/event)\n"
     ]
    },
    {
     "data": {
      "application/vnd.jupyter.widget-view+json": {
       "model_id": "",
       "version_major": 2,
       "version_minor": 0
      },
      "text/plain": [
       "HBox(children=(FloatProgress(value=0.0, description='Training', layout=Layout(flex='2'), max=1250.0, style=Pro…"
      ]
     },
     "metadata": {},
     "output_type": "display_data"
    },
    {
     "name": "stdout",
     "output_type": "stream",
     "text": [
      "Epoch 664: train=7.15848, val=8.02283, took 46.043 s\n",
      "  Validation Found 51477 of 54504, added 2313 (eff 94.45%) (0.232 FP/event)\n"
     ]
    },
    {
     "data": {
      "application/vnd.jupyter.widget-view+json": {
       "model_id": "",
       "version_major": 2,
       "version_minor": 0
      },
      "text/plain": [
       "HBox(children=(FloatProgress(value=0.0, description='Training', layout=Layout(flex='2'), max=1250.0, style=Pro…"
      ]
     },
     "metadata": {},
     "output_type": "display_data"
    },
    {
     "name": "stdout",
     "output_type": "stream",
     "text": [
      "Epoch 665: train=7.15556, val=8.01503, took 45.84 s\n",
      "  Validation Found 51341 of 54504, added 2040 (eff 94.20%) (0.204 FP/event)\n"
     ]
    },
    {
     "data": {
      "application/vnd.jupyter.widget-view+json": {
       "model_id": "",
       "version_major": 2,
       "version_minor": 0
      },
      "text/plain": [
       "HBox(children=(FloatProgress(value=0.0, description='Training', layout=Layout(flex='2'), max=1250.0, style=Pro…"
      ]
     },
     "metadata": {},
     "output_type": "display_data"
    },
    {
     "name": "stdout",
     "output_type": "stream",
     "text": [
      "Epoch 666: train=7.15425, val=8.01557, took 46.141 s\n",
      "  Validation Found 51477 of 54504, added 2316 (eff 94.45%) (0.232 FP/event)\n"
     ]
    },
    {
     "data": {
      "application/vnd.jupyter.widget-view+json": {
       "model_id": "",
       "version_major": 2,
       "version_minor": 0
      },
      "text/plain": [
       "HBox(children=(FloatProgress(value=0.0, description='Training', layout=Layout(flex='2'), max=1250.0, style=Pro…"
      ]
     },
     "metadata": {},
     "output_type": "display_data"
    },
    {
     "name": "stdout",
     "output_type": "stream",
     "text": [
      "Epoch 667: train=7.15397, val=8.09023, took 46.07 s\n",
      "  Validation Found 51235 of 54504, added 1892 (eff 94.00%) (0.189 FP/event)\n"
     ]
    },
    {
     "data": {
      "application/vnd.jupyter.widget-view+json": {
       "model_id": "",
       "version_major": 2,
       "version_minor": 0
      },
      "text/plain": [
       "HBox(children=(FloatProgress(value=0.0, description='Training', layout=Layout(flex='2'), max=1250.0, style=Pro…"
      ]
     },
     "metadata": {},
     "output_type": "display_data"
    },
    {
     "name": "stdout",
     "output_type": "stream",
     "text": [
      "Epoch 668: train=7.15329, val=8.08265, took 45.88 s\n",
      "  Validation Found 51261 of 54504, added 1927 (eff 94.05%) (0.193 FP/event)\n"
     ]
    },
    {
     "data": {
      "application/vnd.jupyter.widget-view+json": {
       "model_id": "",
       "version_major": 2,
       "version_minor": 0
      },
      "text/plain": [
       "HBox(children=(FloatProgress(value=0.0, description='Training', layout=Layout(flex='2'), max=1250.0, style=Pro…"
      ]
     },
     "metadata": {},
     "output_type": "display_data"
    },
    {
     "name": "stdout",
     "output_type": "stream",
     "text": [
      "Epoch 669: train=7.15455, val=8.01423, took 45.44 s\n",
      "  Validation Found 51442 of 54504, added 2115 (eff 94.38%) (0.212 FP/event)\n"
     ]
    },
    {
     "data": {
      "application/vnd.jupyter.widget-view+json": {
       "model_id": "",
       "version_major": 2,
       "version_minor": 0
      },
      "text/plain": [
       "HBox(children=(FloatProgress(value=0.0, description='Training', layout=Layout(flex='2'), max=1250.0, style=Pro…"
      ]
     },
     "metadata": {},
     "output_type": "display_data"
    },
    {
     "name": "stdout",
     "output_type": "stream",
     "text": [
      "Epoch 670: train=7.15588, val=7.99551, took 45.809 s\n",
      "  Validation Found 51418 of 54504, added 2187 (eff 94.34%) (0.219 FP/event)\n"
     ]
    },
    {
     "data": {
      "application/vnd.jupyter.widget-view+json": {
       "model_id": "",
       "version_major": 2,
       "version_minor": 0
      },
      "text/plain": [
       "HBox(children=(FloatProgress(value=0.0, description='Training', layout=Layout(flex='2'), max=1250.0, style=Pro…"
      ]
     },
     "metadata": {},
     "output_type": "display_data"
    },
    {
     "name": "stdout",
     "output_type": "stream",
     "text": [
      "Epoch 671: train=7.15502, val=8.141, took 45.52 s\n",
      "  Validation Found 51258 of 54504, added 1882 (eff 94.04%) (0.188 FP/event)\n"
     ]
    },
    {
     "data": {
      "application/vnd.jupyter.widget-view+json": {
       "model_id": "",
       "version_major": 2,
       "version_minor": 0
      },
      "text/plain": [
       "HBox(children=(FloatProgress(value=0.0, description='Training', layout=Layout(flex='2'), max=1250.0, style=Pro…"
      ]
     },
     "metadata": {},
     "output_type": "display_data"
    },
    {
     "name": "stdout",
     "output_type": "stream",
     "text": [
      "Epoch 672: train=7.1514, val=8.08826, took 45.493 s\n",
      "  Validation Found 51351 of 54504, added 2084 (eff 94.22%) (0.209 FP/event)\n"
     ]
    },
    {
     "data": {
      "application/vnd.jupyter.widget-view+json": {
       "model_id": "",
       "version_major": 2,
       "version_minor": 0
      },
      "text/plain": [
       "HBox(children=(FloatProgress(value=0.0, description='Training', layout=Layout(flex='2'), max=1250.0, style=Pro…"
      ]
     },
     "metadata": {},
     "output_type": "display_data"
    },
    {
     "name": "stdout",
     "output_type": "stream",
     "text": [
      "Epoch 673: train=7.15548, val=8.04741, took 45.491 s\n",
      "  Validation Found 51447 of 54504, added 2235 (eff 94.39%) (0.224 FP/event)\n"
     ]
    },
    {
     "data": {
      "application/vnd.jupyter.widget-view+json": {
       "model_id": "",
       "version_major": 2,
       "version_minor": 0
      },
      "text/plain": [
       "HBox(children=(FloatProgress(value=0.0, description='Training', layout=Layout(flex='2'), max=1250.0, style=Pro…"
      ]
     },
     "metadata": {},
     "output_type": "display_data"
    },
    {
     "name": "stdout",
     "output_type": "stream",
     "text": [
      "Epoch 674: train=7.15401, val=7.98012, took 45.468 s\n",
      "  Validation Found 51484 of 54504, added 2267 (eff 94.46%) (0.227 FP/event)\n"
     ]
    },
    {
     "data": {
      "application/vnd.jupyter.widget-view+json": {
       "model_id": "",
       "version_major": 2,
       "version_minor": 0
      },
      "text/plain": [
       "HBox(children=(FloatProgress(value=0.0, description='Training', layout=Layout(flex='2'), max=1250.0, style=Pro…"
      ]
     },
     "metadata": {},
     "output_type": "display_data"
    },
    {
     "name": "stdout",
     "output_type": "stream",
     "text": [
      "Epoch 675: train=7.15551, val=8.00316, took 46.398 s\n",
      "  Validation Found 51526 of 54504, added 2397 (eff 94.54%) (0.24 FP/event)\n"
     ]
    },
    {
     "data": {
      "application/vnd.jupyter.widget-view+json": {
       "model_id": "",
       "version_major": 2,
       "version_minor": 0
      },
      "text/plain": [
       "HBox(children=(FloatProgress(value=0.0, description='Training', layout=Layout(flex='2'), max=1250.0, style=Pro…"
      ]
     },
     "metadata": {},
     "output_type": "display_data"
    },
    {
     "name": "stdout",
     "output_type": "stream",
     "text": [
      "Epoch 676: train=7.15389, val=8.09409, took 46.194 s\n",
      "  Validation Found 51279 of 54504, added 1902 (eff 94.08%) (0.19 FP/event)\n"
     ]
    },
    {
     "data": {
      "application/vnd.jupyter.widget-view+json": {
       "model_id": "",
       "version_major": 2,
       "version_minor": 0
      },
      "text/plain": [
       "HBox(children=(FloatProgress(value=0.0, description='Training', layout=Layout(flex='2'), max=1250.0, style=Pro…"
      ]
     },
     "metadata": {},
     "output_type": "display_data"
    },
    {
     "name": "stdout",
     "output_type": "stream",
     "text": [
      "Epoch 677: train=7.1523, val=7.97939, took 45.47 s\n",
      "  Validation Found 51475 of 54504, added 2265 (eff 94.44%) (0.227 FP/event)\n"
     ]
    },
    {
     "data": {
      "application/vnd.jupyter.widget-view+json": {
       "model_id": "",
       "version_major": 2,
       "version_minor": 0
      },
      "text/plain": [
       "HBox(children=(FloatProgress(value=0.0, description='Training', layout=Layout(flex='2'), max=1250.0, style=Pro…"
      ]
     },
     "metadata": {},
     "output_type": "display_data"
    },
    {
     "name": "stdout",
     "output_type": "stream",
     "text": [
      "Epoch 678: train=7.15394, val=8.01145, took 45.409 s\n",
      "  Validation Found 51405 of 54504, added 2094 (eff 94.31%) (0.21 FP/event)\n"
     ]
    },
    {
     "data": {
      "application/vnd.jupyter.widget-view+json": {
       "model_id": "",
       "version_major": 2,
       "version_minor": 0
      },
      "text/plain": [
       "HBox(children=(FloatProgress(value=0.0, description='Training', layout=Layout(flex='2'), max=1250.0, style=Pro…"
      ]
     },
     "metadata": {},
     "output_type": "display_data"
    },
    {
     "name": "stdout",
     "output_type": "stream",
     "text": [
      "Epoch 679: train=7.15572, val=8.01816, took 45.402 s\n",
      "  Validation Found 51377 of 54504, added 2065 (eff 94.26%) (0.207 FP/event)\n"
     ]
    },
    {
     "data": {
      "application/vnd.jupyter.widget-view+json": {
       "model_id": "",
       "version_major": 2,
       "version_minor": 0
      },
      "text/plain": [
       "HBox(children=(FloatProgress(value=0.0, description='Training', layout=Layout(flex='2'), max=1250.0, style=Pro…"
      ]
     },
     "metadata": {},
     "output_type": "display_data"
    },
    {
     "name": "stdout",
     "output_type": "stream",
     "text": [
      "Epoch 680: train=7.15357, val=8.01704, took 45.41 s\n",
      "  Validation Found 51380 of 54504, added 2056 (eff 94.27%) (0.206 FP/event)\n"
     ]
    },
    {
     "data": {
      "application/vnd.jupyter.widget-view+json": {
       "model_id": "",
       "version_major": 2,
       "version_minor": 0
      },
      "text/plain": [
       "HBox(children=(FloatProgress(value=0.0, description='Training', layout=Layout(flex='2'), max=1250.0, style=Pro…"
      ]
     },
     "metadata": {},
     "output_type": "display_data"
    },
    {
     "name": "stdout",
     "output_type": "stream",
     "text": [
      "Epoch 681: train=7.15524, val=8.03585, took 45.396 s\n",
      "  Validation Found 51328 of 54504, added 2008 (eff 94.17%) (0.201 FP/event)\n"
     ]
    },
    {
     "data": {
      "application/vnd.jupyter.widget-view+json": {
       "model_id": "",
       "version_major": 2,
       "version_minor": 0
      },
      "text/plain": [
       "HBox(children=(FloatProgress(value=0.0, description='Training', layout=Layout(flex='2'), max=1250.0, style=Pro…"
      ]
     },
     "metadata": {},
     "output_type": "display_data"
    },
    {
     "name": "stdout",
     "output_type": "stream",
     "text": [
      "Epoch 682: train=7.15416, val=8.07275, took 45.387 s\n",
      "  Validation Found 51364 of 54504, added 2030 (eff 94.24%) (0.203 FP/event)\n"
     ]
    },
    {
     "data": {
      "application/vnd.jupyter.widget-view+json": {
       "model_id": "",
       "version_major": 2,
       "version_minor": 0
      },
      "text/plain": [
       "HBox(children=(FloatProgress(value=0.0, description='Training', layout=Layout(flex='2'), max=1250.0, style=Pro…"
      ]
     },
     "metadata": {},
     "output_type": "display_data"
    },
    {
     "name": "stdout",
     "output_type": "stream",
     "text": [
      "Epoch 683: train=7.15313, val=8.03604, took 45.388 s\n",
      "  Validation Found 51278 of 54504, added 1953 (eff 94.08%) (0.196 FP/event)\n"
     ]
    },
    {
     "data": {
      "application/vnd.jupyter.widget-view+json": {
       "model_id": "",
       "version_major": 2,
       "version_minor": 0
      },
      "text/plain": [
       "HBox(children=(FloatProgress(value=0.0, description='Training', layout=Layout(flex='2'), max=1250.0, style=Pro…"
      ]
     },
     "metadata": {},
     "output_type": "display_data"
    },
    {
     "name": "stdout",
     "output_type": "stream",
     "text": [
      "Epoch 684: train=7.15385, val=8.03517, took 45.415 s\n",
      "  Validation Found 51350 of 54504, added 2007 (eff 94.21%) (0.201 FP/event)\n"
     ]
    },
    {
     "data": {
      "application/vnd.jupyter.widget-view+json": {
       "model_id": "",
       "version_major": 2,
       "version_minor": 0
      },
      "text/plain": [
       "HBox(children=(FloatProgress(value=0.0, description='Training', layout=Layout(flex='2'), max=1250.0, style=Pro…"
      ]
     },
     "metadata": {},
     "output_type": "display_data"
    },
    {
     "name": "stdout",
     "output_type": "stream",
     "text": [
      "Epoch 685: train=7.15095, val=8.0796, took 45.392 s\n",
      "  Validation Found 51501 of 54504, added 2271 (eff 94.49%) (0.227 FP/event)\n"
     ]
    },
    {
     "data": {
      "application/vnd.jupyter.widget-view+json": {
       "model_id": "",
       "version_major": 2,
       "version_minor": 0
      },
      "text/plain": [
       "HBox(children=(FloatProgress(value=0.0, description='Training', layout=Layout(flex='2'), max=1250.0, style=Pro…"
      ]
     },
     "metadata": {},
     "output_type": "display_data"
    },
    {
     "name": "stdout",
     "output_type": "stream",
     "text": [
      "Epoch 686: train=7.15416, val=7.9944, took 45.371 s\n",
      "  Validation Found 51493 of 54504, added 2286 (eff 94.48%) (0.229 FP/event)\n"
     ]
    },
    {
     "data": {
      "application/vnd.jupyter.widget-view+json": {
       "model_id": "",
       "version_major": 2,
       "version_minor": 0
      },
      "text/plain": [
       "HBox(children=(FloatProgress(value=0.0, description='Training', layout=Layout(flex='2'), max=1250.0, style=Pro…"
      ]
     },
     "metadata": {},
     "output_type": "display_data"
    },
    {
     "name": "stdout",
     "output_type": "stream",
     "text": [
      "Epoch 687: train=7.15256, val=8.08259, took 45.382 s\n",
      "  Validation Found 51328 of 54504, added 2012 (eff 94.17%) (0.202 FP/event)\n"
     ]
    },
    {
     "data": {
      "application/vnd.jupyter.widget-view+json": {
       "model_id": "",
       "version_major": 2,
       "version_minor": 0
      },
      "text/plain": [
       "HBox(children=(FloatProgress(value=0.0, description='Training', layout=Layout(flex='2'), max=1250.0, style=Pro…"
      ]
     },
     "metadata": {},
     "output_type": "display_data"
    },
    {
     "name": "stdout",
     "output_type": "stream",
     "text": [
      "Epoch 688: train=7.15289, val=8.06548, took 45.401 s\n",
      "  Validation Found 51399 of 54504, added 2127 (eff 94.30%) (0.213 FP/event)\n"
     ]
    },
    {
     "data": {
      "application/vnd.jupyter.widget-view+json": {
       "model_id": "",
       "version_major": 2,
       "version_minor": 0
      },
      "text/plain": [
       "HBox(children=(FloatProgress(value=0.0, description='Training', layout=Layout(flex='2'), max=1250.0, style=Pro…"
      ]
     },
     "metadata": {},
     "output_type": "display_data"
    },
    {
     "name": "stdout",
     "output_type": "stream",
     "text": [
      "Epoch 689: train=7.15031, val=8.05973, took 45.377 s\n",
      "  Validation Found 51325 of 54504, added 1988 (eff 94.17%) (0.199 FP/event)\n"
     ]
    },
    {
     "data": {
      "application/vnd.jupyter.widget-view+json": {
       "model_id": "",
       "version_major": 2,
       "version_minor": 0
      },
      "text/plain": [
       "HBox(children=(FloatProgress(value=0.0, description='Training', layout=Layout(flex='2'), max=1250.0, style=Pro…"
      ]
     },
     "metadata": {},
     "output_type": "display_data"
    },
    {
     "name": "stdout",
     "output_type": "stream",
     "text": [
      "Epoch 690: train=7.15524, val=8.01975, took 45.435 s\n",
      "  Validation Found 51461 of 54504, added 2240 (eff 94.42%) (0.224 FP/event)\n"
     ]
    },
    {
     "data": {
      "application/vnd.jupyter.widget-view+json": {
       "model_id": "",
       "version_major": 2,
       "version_minor": 0
      },
      "text/plain": [
       "HBox(children=(FloatProgress(value=0.0, description='Training', layout=Layout(flex='2'), max=1250.0, style=Pro…"
      ]
     },
     "metadata": {},
     "output_type": "display_data"
    },
    {
     "name": "stdout",
     "output_type": "stream",
     "text": [
      "Epoch 691: train=7.14957, val=8.06434, took 45.385 s\n",
      "  Validation Found 51380 of 54504, added 2100 (eff 94.27%) (0.21 FP/event)\n"
     ]
    },
    {
     "data": {
      "application/vnd.jupyter.widget-view+json": {
       "model_id": "",
       "version_major": 2,
       "version_minor": 0
      },
      "text/plain": [
       "HBox(children=(FloatProgress(value=0.0, description='Training', layout=Layout(flex='2'), max=1250.0, style=Pro…"
      ]
     },
     "metadata": {},
     "output_type": "display_data"
    },
    {
     "name": "stdout",
     "output_type": "stream",
     "text": [
      "Epoch 692: train=7.15143, val=8.02706, took 45.416 s\n",
      "  Validation Found 51493 of 54504, added 2291 (eff 94.48%) (0.229 FP/event)\n"
     ]
    },
    {
     "data": {
      "application/vnd.jupyter.widget-view+json": {
       "model_id": "",
       "version_major": 2,
       "version_minor": 0
      },
      "text/plain": [
       "HBox(children=(FloatProgress(value=0.0, description='Training', layout=Layout(flex='2'), max=1250.0, style=Pro…"
      ]
     },
     "metadata": {},
     "output_type": "display_data"
    },
    {
     "name": "stdout",
     "output_type": "stream",
     "text": [
      "Epoch 693: train=7.15294, val=8.02455, took 45.388 s\n",
      "  Validation Found 51472 of 54504, added 2325 (eff 94.44%) (0.233 FP/event)\n"
     ]
    },
    {
     "data": {
      "application/vnd.jupyter.widget-view+json": {
       "model_id": "",
       "version_major": 2,
       "version_minor": 0
      },
      "text/plain": [
       "HBox(children=(FloatProgress(value=0.0, description='Training', layout=Layout(flex='2'), max=1250.0, style=Pro…"
      ]
     },
     "metadata": {},
     "output_type": "display_data"
    },
    {
     "name": "stdout",
     "output_type": "stream",
     "text": [
      "Epoch 694: train=7.15193, val=8.06045, took 45.408 s\n",
      "  Validation Found 51413 of 54504, added 2157 (eff 94.33%) (0.216 FP/event)\n"
     ]
    },
    {
     "data": {
      "application/vnd.jupyter.widget-view+json": {
       "model_id": "",
       "version_major": 2,
       "version_minor": 0
      },
      "text/plain": [
       "HBox(children=(FloatProgress(value=0.0, description='Training', layout=Layout(flex='2'), max=1250.0, style=Pro…"
      ]
     },
     "metadata": {},
     "output_type": "display_data"
    },
    {
     "name": "stdout",
     "output_type": "stream",
     "text": [
      "Epoch 695: train=7.15101, val=8.08672, took 45.395 s\n",
      "  Validation Found 51286 of 54504, added 1952 (eff 94.10%) (0.195 FP/event)\n"
     ]
    },
    {
     "data": {
      "application/vnd.jupyter.widget-view+json": {
       "model_id": "",
       "version_major": 2,
       "version_minor": 0
      },
      "text/plain": [
       "HBox(children=(FloatProgress(value=0.0, description='Training', layout=Layout(flex='2'), max=1250.0, style=Pro…"
      ]
     },
     "metadata": {},
     "output_type": "display_data"
    },
    {
     "name": "stdout",
     "output_type": "stream",
     "text": [
      "Epoch 696: train=7.15177, val=8.01808, took 45.421 s\n",
      "  Validation Found 51392 of 54504, added 2158 (eff 94.29%) (0.216 FP/event)\n"
     ]
    },
    {
     "data": {
      "application/vnd.jupyter.widget-view+json": {
       "model_id": "",
       "version_major": 2,
       "version_minor": 0
      },
      "text/plain": [
       "HBox(children=(FloatProgress(value=0.0, description='Training', layout=Layout(flex='2'), max=1250.0, style=Pro…"
      ]
     },
     "metadata": {},
     "output_type": "display_data"
    },
    {
     "name": "stdout",
     "output_type": "stream",
     "text": [
      "Epoch 697: train=7.15019, val=8.07317, took 45.377 s\n",
      "  Validation Found 51295 of 54504, added 1934 (eff 94.11%) (0.194 FP/event)\n"
     ]
    },
    {
     "data": {
      "application/vnd.jupyter.widget-view+json": {
       "model_id": "",
       "version_major": 2,
       "version_minor": 0
      },
      "text/plain": [
       "HBox(children=(FloatProgress(value=0.0, description='Training', layout=Layout(flex='2'), max=1250.0, style=Pro…"
      ]
     },
     "metadata": {},
     "output_type": "display_data"
    },
    {
     "name": "stdout",
     "output_type": "stream",
     "text": [
      "Epoch 698: train=7.15051, val=8.02821, took 45.467 s\n",
      "  Validation Found 51456 of 54504, added 2219 (eff 94.41%) (0.222 FP/event)\n"
     ]
    },
    {
     "data": {
      "application/vnd.jupyter.widget-view+json": {
       "model_id": "",
       "version_major": 2,
       "version_minor": 0
      },
      "text/plain": [
       "HBox(children=(FloatProgress(value=0.0, description='Training', layout=Layout(flex='2'), max=1250.0, style=Pro…"
      ]
     },
     "metadata": {},
     "output_type": "display_data"
    },
    {
     "name": "stdout",
     "output_type": "stream",
     "text": [
      "Epoch 699: train=7.1545, val=8.05687, took 45.439 s\n",
      "  Validation Found 51478 of 54504, added 2342 (eff 94.45%) (0.235 FP/event)\n"
     ]
    },
    {
     "data": {
      "application/vnd.jupyter.widget-view+json": {
       "model_id": "",
       "version_major": 2,
       "version_minor": 0
      },
      "text/plain": [
       "HBox(children=(FloatProgress(value=0.0, description='Training', layout=Layout(flex='2'), max=1250.0, style=Pro…"
      ]
     },
     "metadata": {},
     "output_type": "display_data"
    },
    {
     "name": "stdout",
     "output_type": "stream",
     "text": [
      "Epoch 700: train=7.14939, val=8.00636, took 45.435 s\n",
      "  Validation Found 51412 of 54504, added 2102 (eff 94.33%) (0.211 FP/event)\n"
     ]
    },
    {
     "data": {
      "application/vnd.jupyter.widget-view+json": {
       "model_id": "",
       "version_major": 2,
       "version_minor": 0
      },
      "text/plain": [
       "HBox(children=(FloatProgress(value=0.0, description='Training', layout=Layout(flex='2'), max=1250.0, style=Pro…"
      ]
     },
     "metadata": {},
     "output_type": "display_data"
    },
    {
     "name": "stdout",
     "output_type": "stream",
     "text": [
      "Epoch 701: train=7.15032, val=8.03135, took 45.474 s\n",
      "  Validation Found 51426 of 54504, added 2135 (eff 94.35%) (0.214 FP/event)\n"
     ]
    },
    {
     "data": {
      "application/vnd.jupyter.widget-view+json": {
       "model_id": "",
       "version_major": 2,
       "version_minor": 0
      },
      "text/plain": [
       "HBox(children=(FloatProgress(value=0.0, description='Training', layout=Layout(flex='2'), max=1250.0, style=Pro…"
      ]
     },
     "metadata": {},
     "output_type": "display_data"
    },
    {
     "name": "stdout",
     "output_type": "stream",
     "text": [
      "Epoch 702: train=7.14933, val=8.05203, took 45.361 s\n",
      "  Validation Found 51386 of 54504, added 2060 (eff 94.28%) (0.206 FP/event)\n"
     ]
    },
    {
     "data": {
      "application/vnd.jupyter.widget-view+json": {
       "model_id": "",
       "version_major": 2,
       "version_minor": 0
      },
      "text/plain": [
       "HBox(children=(FloatProgress(value=0.0, description='Training', layout=Layout(flex='2'), max=1250.0, style=Pro…"
      ]
     },
     "metadata": {},
     "output_type": "display_data"
    },
    {
     "name": "stdout",
     "output_type": "stream",
     "text": [
      "Epoch 703: train=7.15237, val=8.09659, took 45.407 s\n",
      "  Validation Found 51405 of 54504, added 2087 (eff 94.31%) (0.209 FP/event)\n"
     ]
    },
    {
     "data": {
      "application/vnd.jupyter.widget-view+json": {
       "model_id": "",
       "version_major": 2,
       "version_minor": 0
      },
      "text/plain": [
       "HBox(children=(FloatProgress(value=0.0, description='Training', layout=Layout(flex='2'), max=1250.0, style=Pro…"
      ]
     },
     "metadata": {},
     "output_type": "display_data"
    },
    {
     "name": "stdout",
     "output_type": "stream",
     "text": [
      "Epoch 704: train=7.15109, val=8.00317, took 45.376 s\n",
      "  Validation Found 51428 of 54504, added 2109 (eff 94.36%) (0.211 FP/event)\n"
     ]
    },
    {
     "data": {
      "application/vnd.jupyter.widget-view+json": {
       "model_id": "",
       "version_major": 2,
       "version_minor": 0
      },
      "text/plain": [
       "HBox(children=(FloatProgress(value=0.0, description='Training', layout=Layout(flex='2'), max=1250.0, style=Pro…"
      ]
     },
     "metadata": {},
     "output_type": "display_data"
    },
    {
     "name": "stdout",
     "output_type": "stream",
     "text": [
      "Epoch 705: train=7.1507, val=8.08564, took 45.384 s\n",
      "  Validation Found 51204 of 54504, added 1776 (eff 93.95%) (0.178 FP/event)\n"
     ]
    },
    {
     "data": {
      "application/vnd.jupyter.widget-view+json": {
       "model_id": "",
       "version_major": 2,
       "version_minor": 0
      },
      "text/plain": [
       "HBox(children=(FloatProgress(value=0.0, description='Training', layout=Layout(flex='2'), max=1250.0, style=Pro…"
      ]
     },
     "metadata": {},
     "output_type": "display_data"
    },
    {
     "name": "stdout",
     "output_type": "stream",
     "text": [
      "Epoch 706: train=7.14932, val=7.98676, took 45.407 s\n",
      "  Validation Found 51509 of 54504, added 2300 (eff 94.50%) (0.23 FP/event)\n"
     ]
    },
    {
     "data": {
      "application/vnd.jupyter.widget-view+json": {
       "model_id": "",
       "version_major": 2,
       "version_minor": 0
      },
      "text/plain": [
       "HBox(children=(FloatProgress(value=0.0, description='Training', layout=Layout(flex='2'), max=1250.0, style=Pro…"
      ]
     },
     "metadata": {},
     "output_type": "display_data"
    },
    {
     "name": "stdout",
     "output_type": "stream",
     "text": [
      "Epoch 707: train=7.15159, val=8.00298, took 45.404 s\n",
      "  Validation Found 51321 of 54504, added 1947 (eff 94.16%) (0.195 FP/event)\n"
     ]
    },
    {
     "data": {
      "application/vnd.jupyter.widget-view+json": {
       "model_id": "",
       "version_major": 2,
       "version_minor": 0
      },
      "text/plain": [
       "HBox(children=(FloatProgress(value=0.0, description='Training', layout=Layout(flex='2'), max=1250.0, style=Pro…"
      ]
     },
     "metadata": {},
     "output_type": "display_data"
    },
    {
     "name": "stdout",
     "output_type": "stream",
     "text": [
      "Epoch 708: train=7.15244, val=8.00137, took 45.376 s\n",
      "  Validation Found 51465 of 54504, added 2192 (eff 94.42%) (0.22 FP/event)\n"
     ]
    },
    {
     "data": {
      "application/vnd.jupyter.widget-view+json": {
       "model_id": "",
       "version_major": 2,
       "version_minor": 0
      },
      "text/plain": [
       "HBox(children=(FloatProgress(value=0.0, description='Training', layout=Layout(flex='2'), max=1250.0, style=Pro…"
      ]
     },
     "metadata": {},
     "output_type": "display_data"
    },
    {
     "name": "stdout",
     "output_type": "stream",
     "text": [
      "Epoch 709: train=7.1489, val=8.00351, took 45.379 s\n",
      "  Validation Found 51449 of 54504, added 2221 (eff 94.39%) (0.222 FP/event)\n"
     ]
    },
    {
     "data": {
      "application/vnd.jupyter.widget-view+json": {
       "model_id": "",
       "version_major": 2,
       "version_minor": 0
      },
      "text/plain": [
       "HBox(children=(FloatProgress(value=0.0, description='Training', layout=Layout(flex='2'), max=1250.0, style=Pro…"
      ]
     },
     "metadata": {},
     "output_type": "display_data"
    },
    {
     "name": "stdout",
     "output_type": "stream",
     "text": [
      "Epoch 710: train=7.14986, val=7.97213, took 45.387 s\n",
      "  Validation Found 51470 of 54504, added 2175 (eff 94.43%) (0.218 FP/event)\n"
     ]
    },
    {
     "data": {
      "application/vnd.jupyter.widget-view+json": {
       "model_id": "",
       "version_major": 2,
       "version_minor": 0
      },
      "text/plain": [
       "HBox(children=(FloatProgress(value=0.0, description='Training', layout=Layout(flex='2'), max=1250.0, style=Pro…"
      ]
     },
     "metadata": {},
     "output_type": "display_data"
    },
    {
     "name": "stdout",
     "output_type": "stream",
     "text": [
      "Epoch 711: train=7.14885, val=8.05815, took 45.368 s\n",
      "  Validation Found 51300 of 54504, added 1939 (eff 94.12%) (0.194 FP/event)\n"
     ]
    },
    {
     "data": {
      "application/vnd.jupyter.widget-view+json": {
       "model_id": "",
       "version_major": 2,
       "version_minor": 0
      },
      "text/plain": [
       "HBox(children=(FloatProgress(value=0.0, description='Training', layout=Layout(flex='2'), max=1250.0, style=Pro…"
      ]
     },
     "metadata": {},
     "output_type": "display_data"
    },
    {
     "name": "stdout",
     "output_type": "stream",
     "text": [
      "Epoch 712: train=7.1512, val=8.03308, took 45.394 s\n",
      "  Validation Found 51317 of 54504, added 2021 (eff 94.15%) (0.202 FP/event)\n"
     ]
    },
    {
     "data": {
      "application/vnd.jupyter.widget-view+json": {
       "model_id": "",
       "version_major": 2,
       "version_minor": 0
      },
      "text/plain": [
       "HBox(children=(FloatProgress(value=0.0, description='Training', layout=Layout(flex='2'), max=1250.0, style=Pro…"
      ]
     },
     "metadata": {},
     "output_type": "display_data"
    },
    {
     "name": "stdout",
     "output_type": "stream",
     "text": [
      "Epoch 713: train=7.14892, val=8.07983, took 45.405 s\n",
      "  Validation Found 51403 of 54504, added 2135 (eff 94.31%) (0.214 FP/event)\n"
     ]
    },
    {
     "data": {
      "application/vnd.jupyter.widget-view+json": {
       "model_id": "",
       "version_major": 2,
       "version_minor": 0
      },
      "text/plain": [
       "HBox(children=(FloatProgress(value=0.0, description='Training', layout=Layout(flex='2'), max=1250.0, style=Pro…"
      ]
     },
     "metadata": {},
     "output_type": "display_data"
    },
    {
     "name": "stdout",
     "output_type": "stream",
     "text": [
      "Epoch 714: train=7.14896, val=7.99584, took 45.389 s\n",
      "  Validation Found 51481 of 54504, added 2285 (eff 94.45%) (0.229 FP/event)\n"
     ]
    },
    {
     "data": {
      "application/vnd.jupyter.widget-view+json": {
       "model_id": "",
       "version_major": 2,
       "version_minor": 0
      },
      "text/plain": [
       "HBox(children=(FloatProgress(value=0.0, description='Training', layout=Layout(flex='2'), max=1250.0, style=Pro…"
      ]
     },
     "metadata": {},
     "output_type": "display_data"
    },
    {
     "name": "stdout",
     "output_type": "stream",
     "text": [
      "Epoch 715: train=7.14903, val=8.04, took 45.341 s\n",
      "  Validation Found 51347 of 54504, added 2061 (eff 94.21%) (0.206 FP/event)\n"
     ]
    },
    {
     "data": {
      "application/vnd.jupyter.widget-view+json": {
       "model_id": "",
       "version_major": 2,
       "version_minor": 0
      },
      "text/plain": [
       "HBox(children=(FloatProgress(value=0.0, description='Training', layout=Layout(flex='2'), max=1250.0, style=Pro…"
      ]
     },
     "metadata": {},
     "output_type": "display_data"
    },
    {
     "name": "stdout",
     "output_type": "stream",
     "text": [
      "Epoch 716: train=7.14851, val=7.99355, took 45.367 s\n",
      "  Validation Found 51448 of 54504, added 2227 (eff 94.39%) (0.223 FP/event)\n"
     ]
    },
    {
     "data": {
      "application/vnd.jupyter.widget-view+json": {
       "model_id": "",
       "version_major": 2,
       "version_minor": 0
      },
      "text/plain": [
       "HBox(children=(FloatProgress(value=0.0, description='Training', layout=Layout(flex='2'), max=1250.0, style=Pro…"
      ]
     },
     "metadata": {},
     "output_type": "display_data"
    },
    {
     "name": "stdout",
     "output_type": "stream",
     "text": [
      "Epoch 717: train=7.14892, val=8.0249, took 45.385 s\n",
      "  Validation Found 51381 of 54504, added 2086 (eff 94.27%) (0.209 FP/event)\n"
     ]
    },
    {
     "data": {
      "application/vnd.jupyter.widget-view+json": {
       "model_id": "",
       "version_major": 2,
       "version_minor": 0
      },
      "text/plain": [
       "HBox(children=(FloatProgress(value=0.0, description='Training', layout=Layout(flex='2'), max=1250.0, style=Pro…"
      ]
     },
     "metadata": {},
     "output_type": "display_data"
    },
    {
     "name": "stdout",
     "output_type": "stream",
     "text": [
      "Epoch 718: train=7.14795, val=8.10634, took 45.404 s\n",
      "  Validation Found 51240 of 54504, added 1854 (eff 94.01%) (0.186 FP/event)\n"
     ]
    },
    {
     "data": {
      "application/vnd.jupyter.widget-view+json": {
       "model_id": "",
       "version_major": 2,
       "version_minor": 0
      },
      "text/plain": [
       "HBox(children=(FloatProgress(value=0.0, description='Training', layout=Layout(flex='2'), max=1250.0, style=Pro…"
      ]
     },
     "metadata": {},
     "output_type": "display_data"
    },
    {
     "name": "stdout",
     "output_type": "stream",
     "text": [
      "Epoch 719: train=7.1476, val=7.9782, took 45.369 s\n",
      "  Validation Found 51442 of 54504, added 2205 (eff 94.38%) (0.221 FP/event)\n"
     ]
    },
    {
     "data": {
      "application/vnd.jupyter.widget-view+json": {
       "model_id": "",
       "version_major": 2,
       "version_minor": 0
      },
      "text/plain": [
       "HBox(children=(FloatProgress(value=0.0, description='Training', layout=Layout(flex='2'), max=1250.0, style=Pro…"
      ]
     },
     "metadata": {},
     "output_type": "display_data"
    },
    {
     "name": "stdout",
     "output_type": "stream",
     "text": [
      "Epoch 720: train=7.14587, val=8.01057, took 45.386 s\n",
      "  Validation Found 51338 of 54504, added 2034 (eff 94.19%) (0.204 FP/event)\n"
     ]
    },
    {
     "data": {
      "application/vnd.jupyter.widget-view+json": {
       "model_id": "",
       "version_major": 2,
       "version_minor": 0
      },
      "text/plain": [
       "HBox(children=(FloatProgress(value=0.0, description='Training', layout=Layout(flex='2'), max=1250.0, style=Pro…"
      ]
     },
     "metadata": {},
     "output_type": "display_data"
    },
    {
     "name": "stdout",
     "output_type": "stream",
     "text": [
      "Epoch 721: train=7.14804, val=7.99113, took 45.357 s\n",
      "  Validation Found 51453 of 54504, added 2193 (eff 94.40%) (0.22 FP/event)\n"
     ]
    },
    {
     "data": {
      "application/vnd.jupyter.widget-view+json": {
       "model_id": "",
       "version_major": 2,
       "version_minor": 0
      },
      "text/plain": [
       "HBox(children=(FloatProgress(value=0.0, description='Training', layout=Layout(flex='2'), max=1250.0, style=Pro…"
      ]
     },
     "metadata": {},
     "output_type": "display_data"
    },
    {
     "name": "stdout",
     "output_type": "stream",
     "text": [
      "Epoch 722: train=7.14889, val=8.05642, took 45.285 s\n",
      "  Validation Found 51333 of 54504, added 2062 (eff 94.18%) (0.207 FP/event)\n"
     ]
    },
    {
     "data": {
      "application/vnd.jupyter.widget-view+json": {
       "model_id": "",
       "version_major": 2,
       "version_minor": 0
      },
      "text/plain": [
       "HBox(children=(FloatProgress(value=0.0, description='Training', layout=Layout(flex='2'), max=1250.0, style=Pro…"
      ]
     },
     "metadata": {},
     "output_type": "display_data"
    },
    {
     "name": "stdout",
     "output_type": "stream",
     "text": [
      "Epoch 723: train=7.14707, val=8.14668, took 45.277 s\n",
      "  Validation Found 51288 of 54504, added 1965 (eff 94.10%) (0.197 FP/event)\n"
     ]
    },
    {
     "data": {
      "application/vnd.jupyter.widget-view+json": {
       "model_id": "",
       "version_major": 2,
       "version_minor": 0
      },
      "text/plain": [
       "HBox(children=(FloatProgress(value=0.0, description='Training', layout=Layout(flex='2'), max=1250.0, style=Pro…"
      ]
     },
     "metadata": {},
     "output_type": "display_data"
    },
    {
     "name": "stdout",
     "output_type": "stream",
     "text": [
      "Epoch 724: train=7.14828, val=8.00284, took 45.344 s\n",
      "  Validation Found 51565 of 54504, added 2495 (eff 94.61%) (0.25 FP/event)\n"
     ]
    },
    {
     "data": {
      "application/vnd.jupyter.widget-view+json": {
       "model_id": "",
       "version_major": 2,
       "version_minor": 0
      },
      "text/plain": [
       "HBox(children=(FloatProgress(value=0.0, description='Training', layout=Layout(flex='2'), max=1250.0, style=Pro…"
      ]
     },
     "metadata": {},
     "output_type": "display_data"
    },
    {
     "name": "stdout",
     "output_type": "stream",
     "text": [
      "Epoch 725: train=7.1504, val=8.13679, took 44.981 s\n",
      "  Validation Found 51216 of 54504, added 1819 (eff 93.97%) (0.182 FP/event)\n"
     ]
    },
    {
     "data": {
      "application/vnd.jupyter.widget-view+json": {
       "model_id": "",
       "version_major": 2,
       "version_minor": 0
      },
      "text/plain": [
       "HBox(children=(FloatProgress(value=0.0, description='Training', layout=Layout(flex='2'), max=1250.0, style=Pro…"
      ]
     },
     "metadata": {},
     "output_type": "display_data"
    },
    {
     "name": "stdout",
     "output_type": "stream",
     "text": [
      "Epoch 726: train=7.14926, val=8.03799, took 45.447 s\n",
      "  Validation Found 51375 of 54504, added 2060 (eff 94.26%) (0.206 FP/event)\n"
     ]
    },
    {
     "data": {
      "application/vnd.jupyter.widget-view+json": {
       "model_id": "",
       "version_major": 2,
       "version_minor": 0
      },
      "text/plain": [
       "HBox(children=(FloatProgress(value=0.0, description='Training', layout=Layout(flex='2'), max=1250.0, style=Pro…"
      ]
     },
     "metadata": {},
     "output_type": "display_data"
    },
    {
     "name": "stdout",
     "output_type": "stream",
     "text": [
      "Epoch 727: train=7.14802, val=8.04591, took 45.454 s\n",
      "  Validation Found 51386 of 54504, added 2124 (eff 94.28%) (0.213 FP/event)\n"
     ]
    },
    {
     "data": {
      "application/vnd.jupyter.widget-view+json": {
       "model_id": "",
       "version_major": 2,
       "version_minor": 0
      },
      "text/plain": [
       "HBox(children=(FloatProgress(value=0.0, description='Training', layout=Layout(flex='2'), max=1250.0, style=Pro…"
      ]
     },
     "metadata": {},
     "output_type": "display_data"
    },
    {
     "name": "stdout",
     "output_type": "stream",
     "text": [
      "Epoch 728: train=7.14957, val=8.07852, took 45.424 s\n",
      "  Validation Found 51374 of 54504, added 2044 (eff 94.26%) (0.205 FP/event)\n"
     ]
    },
    {
     "data": {
      "application/vnd.jupyter.widget-view+json": {
       "model_id": "",
       "version_major": 2,
       "version_minor": 0
      },
      "text/plain": [
       "HBox(children=(FloatProgress(value=0.0, description='Training', layout=Layout(flex='2'), max=1250.0, style=Pro…"
      ]
     },
     "metadata": {},
     "output_type": "display_data"
    },
    {
     "name": "stdout",
     "output_type": "stream",
     "text": [
      "Epoch 729: train=7.14814, val=7.98702, took 45.456 s\n",
      "  Validation Found 51448 of 54504, added 2198 (eff 94.39%) (0.22 FP/event)\n"
     ]
    },
    {
     "data": {
      "application/vnd.jupyter.widget-view+json": {
       "model_id": "",
       "version_major": 2,
       "version_minor": 0
      },
      "text/plain": [
       "HBox(children=(FloatProgress(value=0.0, description='Training', layout=Layout(flex='2'), max=1250.0, style=Pro…"
      ]
     },
     "metadata": {},
     "output_type": "display_data"
    },
    {
     "name": "stdout",
     "output_type": "stream",
     "text": [
      "Epoch 730: train=7.14877, val=8.04216, took 45.573 s\n",
      "  Validation Found 51450 of 54504, added 2205 (eff 94.40%) (0.221 FP/event)\n"
     ]
    },
    {
     "data": {
      "application/vnd.jupyter.widget-view+json": {
       "model_id": "",
       "version_major": 2,
       "version_minor": 0
      },
      "text/plain": [
       "HBox(children=(FloatProgress(value=0.0, description='Training', layout=Layout(flex='2'), max=1250.0, style=Pro…"
      ]
     },
     "metadata": {},
     "output_type": "display_data"
    },
    {
     "name": "stdout",
     "output_type": "stream",
     "text": [
      "Epoch 731: train=7.14647, val=8.01766, took 45.431 s\n",
      "  Validation Found 51328 of 54504, added 1976 (eff 94.17%) (0.198 FP/event)\n"
     ]
    },
    {
     "data": {
      "application/vnd.jupyter.widget-view+json": {
       "model_id": "",
       "version_major": 2,
       "version_minor": 0
      },
      "text/plain": [
       "HBox(children=(FloatProgress(value=0.0, description='Training', layout=Layout(flex='2'), max=1250.0, style=Pro…"
      ]
     },
     "metadata": {},
     "output_type": "display_data"
    },
    {
     "name": "stdout",
     "output_type": "stream",
     "text": [
      "Epoch 732: train=7.1501, val=8.05199, took 45.387 s\n",
      "  Validation Found 51341 of 54504, added 1980 (eff 94.20%) (0.198 FP/event)\n"
     ]
    },
    {
     "data": {
      "application/vnd.jupyter.widget-view+json": {
       "model_id": "",
       "version_major": 2,
       "version_minor": 0
      },
      "text/plain": [
       "HBox(children=(FloatProgress(value=0.0, description='Training', layout=Layout(flex='2'), max=1250.0, style=Pro…"
      ]
     },
     "metadata": {},
     "output_type": "display_data"
    },
    {
     "name": "stdout",
     "output_type": "stream",
     "text": [
      "Epoch 733: train=7.14914, val=8.25432, took 45.389 s\n",
      "  Validation Found 51073 of 54504, added 1702 (eff 93.71%) (0.17 FP/event)\n"
     ]
    },
    {
     "data": {
      "application/vnd.jupyter.widget-view+json": {
       "model_id": "",
       "version_major": 2,
       "version_minor": 0
      },
      "text/plain": [
       "HBox(children=(FloatProgress(value=0.0, description='Training', layout=Layout(flex='2'), max=1250.0, style=Pro…"
      ]
     },
     "metadata": {},
     "output_type": "display_data"
    },
    {
     "name": "stdout",
     "output_type": "stream",
     "text": [
      "Epoch 734: train=7.14589, val=8.06413, took 45.378 s\n",
      "  Validation Found 51393 of 54504, added 2179 (eff 94.29%) (0.218 FP/event)\n"
     ]
    },
    {
     "data": {
      "application/vnd.jupyter.widget-view+json": {
       "model_id": "",
       "version_major": 2,
       "version_minor": 0
      },
      "text/plain": [
       "HBox(children=(FloatProgress(value=0.0, description='Training', layout=Layout(flex='2'), max=1250.0, style=Pro…"
      ]
     },
     "metadata": {},
     "output_type": "display_data"
    },
    {
     "name": "stdout",
     "output_type": "stream",
     "text": [
      "Epoch 735: train=7.14397, val=8.00294, took 45.374 s\n",
      "  Validation Found 51453 of 54504, added 2199 (eff 94.40%) (0.22 FP/event)\n"
     ]
    },
    {
     "data": {
      "application/vnd.jupyter.widget-view+json": {
       "model_id": "",
       "version_major": 2,
       "version_minor": 0
      },
      "text/plain": [
       "HBox(children=(FloatProgress(value=0.0, description='Training', layout=Layout(flex='2'), max=1250.0, style=Pro…"
      ]
     },
     "metadata": {},
     "output_type": "display_data"
    },
    {
     "name": "stdout",
     "output_type": "stream",
     "text": [
      "Epoch 736: train=7.14871, val=8.0122, took 45.398 s\n",
      "  Validation Found 51453 of 54504, added 2223 (eff 94.40%) (0.223 FP/event)\n"
     ]
    },
    {
     "data": {
      "application/vnd.jupyter.widget-view+json": {
       "model_id": "",
       "version_major": 2,
       "version_minor": 0
      },
      "text/plain": [
       "HBox(children=(FloatProgress(value=0.0, description='Training', layout=Layout(flex='2'), max=1250.0, style=Pro…"
      ]
     },
     "metadata": {},
     "output_type": "display_data"
    },
    {
     "name": "stdout",
     "output_type": "stream",
     "text": [
      "Epoch 737: train=7.14552, val=7.92861, took 45.388 s\n",
      "  Validation Found 51577 of 54504, added 2533 (eff 94.63%) (0.254 FP/event)\n"
     ]
    },
    {
     "data": {
      "application/vnd.jupyter.widget-view+json": {
       "model_id": "",
       "version_major": 2,
       "version_minor": 0
      },
      "text/plain": [
       "HBox(children=(FloatProgress(value=0.0, description='Training', layout=Layout(flex='2'), max=1250.0, style=Pro…"
      ]
     },
     "metadata": {},
     "output_type": "display_data"
    },
    {
     "name": "stdout",
     "output_type": "stream",
     "text": [
      "Epoch 738: train=7.14743, val=7.99274, took 45.392 s\n",
      "  Validation Found 51537 of 54504, added 2405 (eff 94.56%) (0.241 FP/event)\n"
     ]
    },
    {
     "data": {
      "application/vnd.jupyter.widget-view+json": {
       "model_id": "",
       "version_major": 2,
       "version_minor": 0
      },
      "text/plain": [
       "HBox(children=(FloatProgress(value=0.0, description='Training', layout=Layout(flex='2'), max=1250.0, style=Pro…"
      ]
     },
     "metadata": {},
     "output_type": "display_data"
    },
    {
     "name": "stdout",
     "output_type": "stream",
     "text": [
      "Epoch 739: train=7.14573, val=7.96728, took 45.385 s\n",
      "  Validation Found 51448 of 54504, added 2228 (eff 94.39%) (0.223 FP/event)\n"
     ]
    },
    {
     "data": {
      "application/vnd.jupyter.widget-view+json": {
       "model_id": "",
       "version_major": 2,
       "version_minor": 0
      },
      "text/plain": [
       "HBox(children=(FloatProgress(value=0.0, description='Training', layout=Layout(flex='2'), max=1250.0, style=Pro…"
      ]
     },
     "metadata": {},
     "output_type": "display_data"
    },
    {
     "name": "stdout",
     "output_type": "stream",
     "text": [
      "Epoch 740: train=7.14564, val=8.13687, took 45.375 s\n",
      "  Validation Found 51224 of 54504, added 1856 (eff 93.98%) (0.186 FP/event)\n"
     ]
    },
    {
     "data": {
      "application/vnd.jupyter.widget-view+json": {
       "model_id": "",
       "version_major": 2,
       "version_minor": 0
      },
      "text/plain": [
       "HBox(children=(FloatProgress(value=0.0, description='Training', layout=Layout(flex='2'), max=1250.0, style=Pro…"
      ]
     },
     "metadata": {},
     "output_type": "display_data"
    },
    {
     "name": "stdout",
     "output_type": "stream",
     "text": [
      "Epoch 741: train=7.1443, val=8.01598, took 45.407 s\n",
      "  Validation Found 51342 of 54504, added 2062 (eff 94.20%) (0.207 FP/event)\n"
     ]
    },
    {
     "data": {
      "application/vnd.jupyter.widget-view+json": {
       "model_id": "",
       "version_major": 2,
       "version_minor": 0
      },
      "text/plain": [
       "HBox(children=(FloatProgress(value=0.0, description='Training', layout=Layout(flex='2'), max=1250.0, style=Pro…"
      ]
     },
     "metadata": {},
     "output_type": "display_data"
    },
    {
     "name": "stdout",
     "output_type": "stream",
     "text": [
      "Epoch 742: train=7.14509, val=8.03504, took 45.487 s\n",
      "  Validation Found 51430 of 54504, added 2151 (eff 94.36%) (0.215 FP/event)\n"
     ]
    },
    {
     "data": {
      "application/vnd.jupyter.widget-view+json": {
       "model_id": "",
       "version_major": 2,
       "version_minor": 0
      },
      "text/plain": [
       "HBox(children=(FloatProgress(value=0.0, description='Training', layout=Layout(flex='2'), max=1250.0, style=Pro…"
      ]
     },
     "metadata": {},
     "output_type": "display_data"
    },
    {
     "name": "stdout",
     "output_type": "stream",
     "text": [
      "Epoch 743: train=7.14404, val=8.01498, took 45.525 s\n",
      "  Validation Found 51375 of 54504, added 2069 (eff 94.26%) (0.207 FP/event)\n"
     ]
    },
    {
     "data": {
      "application/vnd.jupyter.widget-view+json": {
       "model_id": "",
       "version_major": 2,
       "version_minor": 0
      },
      "text/plain": [
       "HBox(children=(FloatProgress(value=0.0, description='Training', layout=Layout(flex='2'), max=1250.0, style=Pro…"
      ]
     },
     "metadata": {},
     "output_type": "display_data"
    },
    {
     "name": "stdout",
     "output_type": "stream",
     "text": [
      "Epoch 744: train=7.14582, val=8.04015, took 45.461 s\n",
      "  Validation Found 51320 of 54504, added 1974 (eff 94.16%) (0.198 FP/event)\n"
     ]
    },
    {
     "data": {
      "application/vnd.jupyter.widget-view+json": {
       "model_id": "",
       "version_major": 2,
       "version_minor": 0
      },
      "text/plain": [
       "HBox(children=(FloatProgress(value=0.0, description='Training', layout=Layout(flex='2'), max=1250.0, style=Pro…"
      ]
     },
     "metadata": {},
     "output_type": "display_data"
    },
    {
     "name": "stdout",
     "output_type": "stream",
     "text": [
      "Epoch 745: train=7.14433, val=8.08648, took 45.586 s\n",
      "  Validation Found 51306 of 54504, added 1951 (eff 94.13%) (0.195 FP/event)\n"
     ]
    },
    {
     "data": {
      "application/vnd.jupyter.widget-view+json": {
       "model_id": "",
       "version_major": 2,
       "version_minor": 0
      },
      "text/plain": [
       "HBox(children=(FloatProgress(value=0.0, description='Training', layout=Layout(flex='2'), max=1250.0, style=Pro…"
      ]
     },
     "metadata": {},
     "output_type": "display_data"
    },
    {
     "name": "stdout",
     "output_type": "stream",
     "text": [
      "Epoch 746: train=7.14516, val=8.06787, took 45.38 s\n",
      "  Validation Found 51292 of 54504, added 1949 (eff 94.11%) (0.195 FP/event)\n"
     ]
    },
    {
     "data": {
      "application/vnd.jupyter.widget-view+json": {
       "model_id": "",
       "version_major": 2,
       "version_minor": 0
      },
      "text/plain": [
       "HBox(children=(FloatProgress(value=0.0, description='Training', layout=Layout(flex='2'), max=1250.0, style=Pro…"
      ]
     },
     "metadata": {},
     "output_type": "display_data"
    },
    {
     "name": "stdout",
     "output_type": "stream",
     "text": [
      "Epoch 747: train=7.14402, val=8.0538, took 45.432 s\n",
      "  Validation Found 51365 of 54504, added 2041 (eff 94.24%) (0.204 FP/event)\n"
     ]
    },
    {
     "data": {
      "application/vnd.jupyter.widget-view+json": {
       "model_id": "",
       "version_major": 2,
       "version_minor": 0
      },
      "text/plain": [
       "HBox(children=(FloatProgress(value=0.0, description='Training', layout=Layout(flex='2'), max=1250.0, style=Pro…"
      ]
     },
     "metadata": {},
     "output_type": "display_data"
    },
    {
     "name": "stdout",
     "output_type": "stream",
     "text": [
      "Epoch 748: train=7.14524, val=8.00685, took 45.447 s\n",
      "  Validation Found 51520 of 54504, added 2394 (eff 94.53%) (0.24 FP/event)\n"
     ]
    },
    {
     "data": {
      "application/vnd.jupyter.widget-view+json": {
       "model_id": "",
       "version_major": 2,
       "version_minor": 0
      },
      "text/plain": [
       "HBox(children=(FloatProgress(value=0.0, description='Training', layout=Layout(flex='2'), max=1250.0, style=Pro…"
      ]
     },
     "metadata": {},
     "output_type": "display_data"
    },
    {
     "name": "stdout",
     "output_type": "stream",
     "text": [
      "Epoch 749: train=7.1438, val=8.02989, took 45.438 s\n",
      "  Validation Found 51406 of 54504, added 2126 (eff 94.32%) (0.213 FP/event)\n"
     ]
    },
    {
     "data": {
      "application/vnd.jupyter.widget-view+json": {
       "model_id": "",
       "version_major": 2,
       "version_minor": 0
      },
      "text/plain": [
       "HBox(children=(FloatProgress(value=0.0, description='Training', layout=Layout(flex='2'), max=1250.0, style=Pro…"
      ]
     },
     "metadata": {},
     "output_type": "display_data"
    },
    {
     "name": "stdout",
     "output_type": "stream",
     "text": [
      "Epoch 750: train=7.1478, val=8.07815, took 45.498 s\n",
      "  Validation Found 51422 of 54504, added 2097 (eff 94.35%) (0.21 FP/event)\n"
     ]
    },
    {
     "data": {
      "application/vnd.jupyter.widget-view+json": {
       "model_id": "",
       "version_major": 2,
       "version_minor": 0
      },
      "text/plain": [
       "HBox(children=(FloatProgress(value=0.0, description='Training', layout=Layout(flex='2'), max=1250.0, style=Pro…"
      ]
     },
     "metadata": {},
     "output_type": "display_data"
    },
    {
     "name": "stdout",
     "output_type": "stream",
     "text": [
      "Epoch 751: train=7.14461, val=8.08807, took 45.379 s\n",
      "  Validation Found 51311 of 54504, added 1954 (eff 94.14%) (0.196 FP/event)\n"
     ]
    },
    {
     "data": {
      "application/vnd.jupyter.widget-view+json": {
       "model_id": "",
       "version_major": 2,
       "version_minor": 0
      },
      "text/plain": [
       "HBox(children=(FloatProgress(value=0.0, description='Training', layout=Layout(flex='2'), max=1250.0, style=Pro…"
      ]
     },
     "metadata": {},
     "output_type": "display_data"
    },
    {
     "name": "stdout",
     "output_type": "stream",
     "text": [
      "Epoch 752: train=7.14177, val=8.05627, took 45.341 s\n",
      "  Validation Found 51359 of 54504, added 2101 (eff 94.23%) (0.21 FP/event)\n"
     ]
    },
    {
     "data": {
      "application/vnd.jupyter.widget-view+json": {
       "model_id": "",
       "version_major": 2,
       "version_minor": 0
      },
      "text/plain": [
       "HBox(children=(FloatProgress(value=0.0, description='Training', layout=Layout(flex='2'), max=1250.0, style=Pro…"
      ]
     },
     "metadata": {},
     "output_type": "display_data"
    },
    {
     "name": "stdout",
     "output_type": "stream",
     "text": [
      "Epoch 753: train=7.14514, val=8.03035, took 45.457 s\n",
      "  Validation Found 51455 of 54504, added 2241 (eff 94.41%) (0.224 FP/event)\n"
     ]
    },
    {
     "data": {
      "application/vnd.jupyter.widget-view+json": {
       "model_id": "",
       "version_major": 2,
       "version_minor": 0
      },
      "text/plain": [
       "HBox(children=(FloatProgress(value=0.0, description='Training', layout=Layout(flex='2'), max=1250.0, style=Pro…"
      ]
     },
     "metadata": {},
     "output_type": "display_data"
    },
    {
     "name": "stdout",
     "output_type": "stream",
     "text": [
      "Epoch 754: train=7.14516, val=8.00929, took 45.466 s\n",
      "  Validation Found 51536 of 54504, added 2400 (eff 94.55%) (0.24 FP/event)\n"
     ]
    },
    {
     "data": {
      "application/vnd.jupyter.widget-view+json": {
       "model_id": "",
       "version_major": 2,
       "version_minor": 0
      },
      "text/plain": [
       "HBox(children=(FloatProgress(value=0.0, description='Training', layout=Layout(flex='2'), max=1250.0, style=Pro…"
      ]
     },
     "metadata": {},
     "output_type": "display_data"
    },
    {
     "name": "stdout",
     "output_type": "stream",
     "text": [
      "Epoch 755: train=7.14232, val=8.00865, took 45.48 s\n",
      "  Validation Found 51426 of 54504, added 2203 (eff 94.35%) (0.221 FP/event)\n"
     ]
    },
    {
     "data": {
      "application/vnd.jupyter.widget-view+json": {
       "model_id": "",
       "version_major": 2,
       "version_minor": 0
      },
      "text/plain": [
       "HBox(children=(FloatProgress(value=0.0, description='Training', layout=Layout(flex='2'), max=1250.0, style=Pro…"
      ]
     },
     "metadata": {},
     "output_type": "display_data"
    },
    {
     "name": "stdout",
     "output_type": "stream",
     "text": [
      "Epoch 756: train=7.14484, val=8.00567, took 45.477 s\n",
      "  Validation Found 51508 of 54504, added 2450 (eff 94.50%) (0.245 FP/event)\n"
     ]
    },
    {
     "data": {
      "application/vnd.jupyter.widget-view+json": {
       "model_id": "",
       "version_major": 2,
       "version_minor": 0
      },
      "text/plain": [
       "HBox(children=(FloatProgress(value=0.0, description='Training', layout=Layout(flex='2'), max=1250.0, style=Pro…"
      ]
     },
     "metadata": {},
     "output_type": "display_data"
    },
    {
     "name": "stdout",
     "output_type": "stream",
     "text": [
      "Epoch 757: train=7.14363, val=8.05981, took 45.495 s\n",
      "  Validation Found 51316 of 54504, added 1992 (eff 94.15%) (0.199 FP/event)\n"
     ]
    },
    {
     "data": {
      "application/vnd.jupyter.widget-view+json": {
       "model_id": "",
       "version_major": 2,
       "version_minor": 0
      },
      "text/plain": [
       "HBox(children=(FloatProgress(value=0.0, description='Training', layout=Layout(flex='2'), max=1250.0, style=Pro…"
      ]
     },
     "metadata": {},
     "output_type": "display_data"
    },
    {
     "name": "stdout",
     "output_type": "stream",
     "text": [
      "Epoch 758: train=7.14226, val=8.04619, took 45.457 s\n",
      "  Validation Found 51403 of 54504, added 2097 (eff 94.31%) (0.21 FP/event)\n"
     ]
    },
    {
     "data": {
      "application/vnd.jupyter.widget-view+json": {
       "model_id": "",
       "version_major": 2,
       "version_minor": 0
      },
      "text/plain": [
       "HBox(children=(FloatProgress(value=0.0, description='Training', layout=Layout(flex='2'), max=1250.0, style=Pro…"
      ]
     },
     "metadata": {},
     "output_type": "display_data"
    },
    {
     "name": "stdout",
     "output_type": "stream",
     "text": [
      "Epoch 759: train=7.14264, val=7.9732, took 45.472 s\n",
      "  Validation Found 51426 of 54504, added 2141 (eff 94.35%) (0.214 FP/event)\n"
     ]
    },
    {
     "data": {
      "application/vnd.jupyter.widget-view+json": {
       "model_id": "",
       "version_major": 2,
       "version_minor": 0
      },
      "text/plain": [
       "HBox(children=(FloatProgress(value=0.0, description='Training', layout=Layout(flex='2'), max=1250.0, style=Pro…"
      ]
     },
     "metadata": {},
     "output_type": "display_data"
    },
    {
     "name": "stdout",
     "output_type": "stream",
     "text": [
      "Epoch 760: train=7.14169, val=8.01218, took 45.459 s\n",
      "  Validation Found 51327 of 54504, added 1925 (eff 94.17%) (0.193 FP/event)\n"
     ]
    },
    {
     "data": {
      "application/vnd.jupyter.widget-view+json": {
       "model_id": "",
       "version_major": 2,
       "version_minor": 0
      },
      "text/plain": [
       "HBox(children=(FloatProgress(value=0.0, description='Training', layout=Layout(flex='2'), max=1250.0, style=Pro…"
      ]
     },
     "metadata": {},
     "output_type": "display_data"
    },
    {
     "name": "stdout",
     "output_type": "stream",
     "text": [
      "Epoch 761: train=7.14357, val=8.12747, took 45.513 s\n",
      "  Validation Found 51281 of 54504, added 1914 (eff 94.09%) (0.192 FP/event)\n"
     ]
    },
    {
     "data": {
      "application/vnd.jupyter.widget-view+json": {
       "model_id": "",
       "version_major": 2,
       "version_minor": 0
      },
      "text/plain": [
       "HBox(children=(FloatProgress(value=0.0, description='Training', layout=Layout(flex='2'), max=1250.0, style=Pro…"
      ]
     },
     "metadata": {},
     "output_type": "display_data"
    },
    {
     "name": "stdout",
     "output_type": "stream",
     "text": [
      "Epoch 762: train=7.14352, val=8.04261, took 45.472 s\n",
      "  Validation Found 51393 of 54504, added 2114 (eff 94.29%) (0.212 FP/event)\n"
     ]
    },
    {
     "data": {
      "application/vnd.jupyter.widget-view+json": {
       "model_id": "",
       "version_major": 2,
       "version_minor": 0
      },
      "text/plain": [
       "HBox(children=(FloatProgress(value=0.0, description='Training', layout=Layout(flex='2'), max=1250.0, style=Pro…"
      ]
     },
     "metadata": {},
     "output_type": "display_data"
    },
    {
     "name": "stdout",
     "output_type": "stream",
     "text": [
      "Epoch 763: train=7.14294, val=8.02856, took 45.509 s\n",
      "  Validation Found 51439 of 54504, added 2149 (eff 94.38%) (0.215 FP/event)\n"
     ]
    },
    {
     "data": {
      "application/vnd.jupyter.widget-view+json": {
       "model_id": "",
       "version_major": 2,
       "version_minor": 0
      },
      "text/plain": [
       "HBox(children=(FloatProgress(value=0.0, description='Training', layout=Layout(flex='2'), max=1250.0, style=Pro…"
      ]
     },
     "metadata": {},
     "output_type": "display_data"
    },
    {
     "name": "stdout",
     "output_type": "stream",
     "text": [
      "Epoch 764: train=7.14522, val=8.10788, took 45.444 s\n",
      "  Validation Found 51263 of 54504, added 1940 (eff 94.05%) (0.194 FP/event)\n"
     ]
    },
    {
     "data": {
      "application/vnd.jupyter.widget-view+json": {
       "model_id": "",
       "version_major": 2,
       "version_minor": 0
      },
      "text/plain": [
       "HBox(children=(FloatProgress(value=0.0, description='Training', layout=Layout(flex='2'), max=1250.0, style=Pro…"
      ]
     },
     "metadata": {},
     "output_type": "display_data"
    },
    {
     "name": "stdout",
     "output_type": "stream",
     "text": [
      "Epoch 765: train=7.14328, val=8.09984, took 45.52 s\n",
      "  Validation Found 51418 of 54504, added 2143 (eff 94.34%) (0.215 FP/event)\n"
     ]
    },
    {
     "data": {
      "application/vnd.jupyter.widget-view+json": {
       "model_id": "",
       "version_major": 2,
       "version_minor": 0
      },
      "text/plain": [
       "HBox(children=(FloatProgress(value=0.0, description='Training', layout=Layout(flex='2'), max=1250.0, style=Pro…"
      ]
     },
     "metadata": {},
     "output_type": "display_data"
    },
    {
     "name": "stdout",
     "output_type": "stream",
     "text": [
      "Epoch 766: train=7.14244, val=8.16564, took 45.471 s\n",
      "  Validation Found 51217 of 54504, added 1911 (eff 93.97%) (0.191 FP/event)\n"
     ]
    },
    {
     "data": {
      "application/vnd.jupyter.widget-view+json": {
       "model_id": "",
       "version_major": 2,
       "version_minor": 0
      },
      "text/plain": [
       "HBox(children=(FloatProgress(value=0.0, description='Training', layout=Layout(flex='2'), max=1250.0, style=Pro…"
      ]
     },
     "metadata": {},
     "output_type": "display_data"
    },
    {
     "name": "stdout",
     "output_type": "stream",
     "text": [
      "Epoch 767: train=7.14557, val=8.03019, took 45.481 s\n",
      "  Validation Found 51459 of 54504, added 2193 (eff 94.41%) (0.22 FP/event)\n"
     ]
    },
    {
     "data": {
      "application/vnd.jupyter.widget-view+json": {
       "model_id": "",
       "version_major": 2,
       "version_minor": 0
      },
      "text/plain": [
       "HBox(children=(FloatProgress(value=0.0, description='Training', layout=Layout(flex='2'), max=1250.0, style=Pro…"
      ]
     },
     "metadata": {},
     "output_type": "display_data"
    },
    {
     "name": "stdout",
     "output_type": "stream",
     "text": [
      "Epoch 768: train=7.14351, val=8.05215, took 45.492 s\n",
      "  Validation Found 51381 of 54504, added 2073 (eff 94.27%) (0.208 FP/event)\n"
     ]
    },
    {
     "data": {
      "application/vnd.jupyter.widget-view+json": {
       "model_id": "",
       "version_major": 2,
       "version_minor": 0
      },
      "text/plain": [
       "HBox(children=(FloatProgress(value=0.0, description='Training', layout=Layout(flex='2'), max=1250.0, style=Pro…"
      ]
     },
     "metadata": {},
     "output_type": "display_data"
    },
    {
     "name": "stdout",
     "output_type": "stream",
     "text": [
      "Epoch 769: train=7.14596, val=8.04713, took 45.434 s\n",
      "  Validation Found 51452 of 54504, added 2259 (eff 94.40%) (0.226 FP/event)\n"
     ]
    },
    {
     "data": {
      "application/vnd.jupyter.widget-view+json": {
       "model_id": "",
       "version_major": 2,
       "version_minor": 0
      },
      "text/plain": [
       "HBox(children=(FloatProgress(value=0.0, description='Training', layout=Layout(flex='2'), max=1250.0, style=Pro…"
      ]
     },
     "metadata": {},
     "output_type": "display_data"
    },
    {
     "name": "stdout",
     "output_type": "stream",
     "text": [
      "Epoch 770: train=7.14396, val=8.01846, took 45.541 s\n",
      "  Validation Found 51490 of 54504, added 2353 (eff 94.47%) (0.236 FP/event)\n"
     ]
    },
    {
     "data": {
      "application/vnd.jupyter.widget-view+json": {
       "model_id": "",
       "version_major": 2,
       "version_minor": 0
      },
      "text/plain": [
       "HBox(children=(FloatProgress(value=0.0, description='Training', layout=Layout(flex='2'), max=1250.0, style=Pro…"
      ]
     },
     "metadata": {},
     "output_type": "display_data"
    },
    {
     "name": "stdout",
     "output_type": "stream",
     "text": [
      "Epoch 771: train=7.14153, val=8.08377, took 45.644 s\n",
      "  Validation Found 51383 of 54504, added 2098 (eff 94.27%) (0.21 FP/event)\n"
     ]
    },
    {
     "data": {
      "application/vnd.jupyter.widget-view+json": {
       "model_id": "",
       "version_major": 2,
       "version_minor": 0
      },
      "text/plain": [
       "HBox(children=(FloatProgress(value=0.0, description='Training', layout=Layout(flex='2'), max=1250.0, style=Pro…"
      ]
     },
     "metadata": {},
     "output_type": "display_data"
    },
    {
     "name": "stdout",
     "output_type": "stream",
     "text": [
      "Epoch 772: train=7.14211, val=8.01431, took 45.522 s\n",
      "  Validation Found 51328 of 54504, added 1978 (eff 94.17%) (0.198 FP/event)\n"
     ]
    },
    {
     "data": {
      "application/vnd.jupyter.widget-view+json": {
       "model_id": "",
       "version_major": 2,
       "version_minor": 0
      },
      "text/plain": [
       "HBox(children=(FloatProgress(value=0.0, description='Training', layout=Layout(flex='2'), max=1250.0, style=Pro…"
      ]
     },
     "metadata": {},
     "output_type": "display_data"
    },
    {
     "name": "stdout",
     "output_type": "stream",
     "text": [
      "Epoch 773: train=7.14305, val=8.04998, took 45.453 s\n",
      "  Validation Found 51440 of 54504, added 2186 (eff 94.38%) (0.219 FP/event)\n"
     ]
    },
    {
     "data": {
      "application/vnd.jupyter.widget-view+json": {
       "model_id": "",
       "version_major": 2,
       "version_minor": 0
      },
      "text/plain": [
       "HBox(children=(FloatProgress(value=0.0, description='Training', layout=Layout(flex='2'), max=1250.0, style=Pro…"
      ]
     },
     "metadata": {},
     "output_type": "display_data"
    },
    {
     "name": "stdout",
     "output_type": "stream",
     "text": [
      "Epoch 774: train=7.14043, val=8.1076, took 45.411 s\n",
      "  Validation Found 51290 of 54504, added 1906 (eff 94.10%) (0.191 FP/event)\n"
     ]
    },
    {
     "data": {
      "application/vnd.jupyter.widget-view+json": {
       "model_id": "",
       "version_major": 2,
       "version_minor": 0
      },
      "text/plain": [
       "HBox(children=(FloatProgress(value=0.0, description='Training', layout=Layout(flex='2'), max=1250.0, style=Pro…"
      ]
     },
     "metadata": {},
     "output_type": "display_data"
    },
    {
     "name": "stdout",
     "output_type": "stream",
     "text": [
      "Epoch 775: train=7.1418, val=7.98684, took 45.437 s\n",
      "  Validation Found 51495 of 54504, added 2223 (eff 94.48%) (0.223 FP/event)\n"
     ]
    },
    {
     "data": {
      "application/vnd.jupyter.widget-view+json": {
       "model_id": "",
       "version_major": 2,
       "version_minor": 0
      },
      "text/plain": [
       "HBox(children=(FloatProgress(value=0.0, description='Training', layout=Layout(flex='2'), max=1250.0, style=Pro…"
      ]
     },
     "metadata": {},
     "output_type": "display_data"
    },
    {
     "name": "stdout",
     "output_type": "stream",
     "text": [
      "Epoch 776: train=7.14405, val=8.06325, took 45.441 s\n",
      "  Validation Found 51334 of 54504, added 1998 (eff 94.18%) (0.2 FP/event)\n"
     ]
    },
    {
     "data": {
      "application/vnd.jupyter.widget-view+json": {
       "model_id": "",
       "version_major": 2,
       "version_minor": 0
      },
      "text/plain": [
       "HBox(children=(FloatProgress(value=0.0, description='Training', layout=Layout(flex='2'), max=1250.0, style=Pro…"
      ]
     },
     "metadata": {},
     "output_type": "display_data"
    },
    {
     "name": "stdout",
     "output_type": "stream",
     "text": [
      "Epoch 777: train=7.14451, val=8.04376, took 45.433 s\n",
      "  Validation Found 51404 of 54504, added 2089 (eff 94.31%) (0.209 FP/event)\n"
     ]
    },
    {
     "data": {
      "application/vnd.jupyter.widget-view+json": {
       "model_id": "",
       "version_major": 2,
       "version_minor": 0
      },
      "text/plain": [
       "HBox(children=(FloatProgress(value=0.0, description='Training', layout=Layout(flex='2'), max=1250.0, style=Pro…"
      ]
     },
     "metadata": {},
     "output_type": "display_data"
    },
    {
     "name": "stdout",
     "output_type": "stream",
     "text": [
      "Epoch 778: train=7.13846, val=8.01483, took 45.445 s\n",
      "  Validation Found 51403 of 54504, added 2167 (eff 94.31%) (0.217 FP/event)\n"
     ]
    },
    {
     "data": {
      "application/vnd.jupyter.widget-view+json": {
       "model_id": "",
       "version_major": 2,
       "version_minor": 0
      },
      "text/plain": [
       "HBox(children=(FloatProgress(value=0.0, description='Training', layout=Layout(flex='2'), max=1250.0, style=Pro…"
      ]
     },
     "metadata": {},
     "output_type": "display_data"
    },
    {
     "name": "stdout",
     "output_type": "stream",
     "text": [
      "Epoch 779: train=7.14145, val=8.02099, took 45.428 s\n",
      "  Validation Found 51451 of 54504, added 2167 (eff 94.40%) (0.217 FP/event)\n"
     ]
    },
    {
     "data": {
      "application/vnd.jupyter.widget-view+json": {
       "model_id": "",
       "version_major": 2,
       "version_minor": 0
      },
      "text/plain": [
       "HBox(children=(FloatProgress(value=0.0, description='Training', layout=Layout(flex='2'), max=1250.0, style=Pro…"
      ]
     },
     "metadata": {},
     "output_type": "display_data"
    },
    {
     "name": "stdout",
     "output_type": "stream",
     "text": [
      "Epoch 780: train=7.14214, val=8.06889, took 45.448 s\n",
      "  Validation Found 51293 of 54504, added 1906 (eff 94.11%) (0.191 FP/event)\n"
     ]
    },
    {
     "data": {
      "application/vnd.jupyter.widget-view+json": {
       "model_id": "",
       "version_major": 2,
       "version_minor": 0
      },
      "text/plain": [
       "HBox(children=(FloatProgress(value=0.0, description='Training', layout=Layout(flex='2'), max=1250.0, style=Pro…"
      ]
     },
     "metadata": {},
     "output_type": "display_data"
    },
    {
     "name": "stdout",
     "output_type": "stream",
     "text": [
      "Epoch 781: train=7.14117, val=8.06115, took 45.423 s\n",
      "  Validation Found 51416 of 54504, added 2205 (eff 94.33%) (0.221 FP/event)\n"
     ]
    },
    {
     "data": {
      "application/vnd.jupyter.widget-view+json": {
       "model_id": "",
       "version_major": 2,
       "version_minor": 0
      },
      "text/plain": [
       "HBox(children=(FloatProgress(value=0.0, description='Training', layout=Layout(flex='2'), max=1250.0, style=Pro…"
      ]
     },
     "metadata": {},
     "output_type": "display_data"
    },
    {
     "name": "stdout",
     "output_type": "stream",
     "text": [
      "Epoch 782: train=7.14327, val=8.0849, took 45.429 s\n",
      "  Validation Found 51320 of 54504, added 1989 (eff 94.16%) (0.199 FP/event)\n"
     ]
    },
    {
     "data": {
      "application/vnd.jupyter.widget-view+json": {
       "model_id": "",
       "version_major": 2,
       "version_minor": 0
      },
      "text/plain": [
       "HBox(children=(FloatProgress(value=0.0, description='Training', layout=Layout(flex='2'), max=1250.0, style=Pro…"
      ]
     },
     "metadata": {},
     "output_type": "display_data"
    },
    {
     "name": "stdout",
     "output_type": "stream",
     "text": [
      "Epoch 783: train=7.13992, val=8.03747, took 45.417 s\n",
      "  Validation Found 51379 of 54504, added 2040 (eff 94.27%) (0.204 FP/event)\n"
     ]
    },
    {
     "data": {
      "application/vnd.jupyter.widget-view+json": {
       "model_id": "",
       "version_major": 2,
       "version_minor": 0
      },
      "text/plain": [
       "HBox(children=(FloatProgress(value=0.0, description='Training', layout=Layout(flex='2'), max=1250.0, style=Pro…"
      ]
     },
     "metadata": {},
     "output_type": "display_data"
    },
    {
     "name": "stdout",
     "output_type": "stream",
     "text": [
      "Epoch 784: train=7.14102, val=8.01049, took 45.449 s\n",
      "  Validation Found 51436 of 54504, added 2190 (eff 94.37%) (0.219 FP/event)\n"
     ]
    },
    {
     "data": {
      "application/vnd.jupyter.widget-view+json": {
       "model_id": "",
       "version_major": 2,
       "version_minor": 0
      },
      "text/plain": [
       "HBox(children=(FloatProgress(value=0.0, description='Training', layout=Layout(flex='2'), max=1250.0, style=Pro…"
      ]
     },
     "metadata": {},
     "output_type": "display_data"
    },
    {
     "name": "stdout",
     "output_type": "stream",
     "text": [
      "Epoch 785: train=7.14283, val=8.05841, took 45.499 s\n",
      "  Validation Found 51331 of 54504, added 2016 (eff 94.18%) (0.202 FP/event)\n"
     ]
    },
    {
     "data": {
      "application/vnd.jupyter.widget-view+json": {
       "model_id": "",
       "version_major": 2,
       "version_minor": 0
      },
      "text/plain": [
       "HBox(children=(FloatProgress(value=0.0, description='Training', layout=Layout(flex='2'), max=1250.0, style=Pro…"
      ]
     },
     "metadata": {},
     "output_type": "display_data"
    },
    {
     "name": "stdout",
     "output_type": "stream",
     "text": [
      "Epoch 786: train=7.14265, val=8.13722, took 45.445 s\n",
      "  Validation Found 51257 of 54504, added 1903 (eff 94.04%) (0.191 FP/event)\n"
     ]
    },
    {
     "data": {
      "application/vnd.jupyter.widget-view+json": {
       "model_id": "",
       "version_major": 2,
       "version_minor": 0
      },
      "text/plain": [
       "HBox(children=(FloatProgress(value=0.0, description='Training', layout=Layout(flex='2'), max=1250.0, style=Pro…"
      ]
     },
     "metadata": {},
     "output_type": "display_data"
    },
    {
     "name": "stdout",
     "output_type": "stream",
     "text": [
      "Epoch 787: train=7.13901, val=8.02946, took 45.459 s\n",
      "  Validation Found 51423 of 54504, added 2239 (eff 94.35%) (0.224 FP/event)\n"
     ]
    },
    {
     "data": {
      "application/vnd.jupyter.widget-view+json": {
       "model_id": "",
       "version_major": 2,
       "version_minor": 0
      },
      "text/plain": [
       "HBox(children=(FloatProgress(value=0.0, description='Training', layout=Layout(flex='2'), max=1250.0, style=Pro…"
      ]
     },
     "metadata": {},
     "output_type": "display_data"
    },
    {
     "name": "stdout",
     "output_type": "stream",
     "text": [
      "Epoch 788: train=7.14007, val=8.00816, took 45.474 s\n",
      "  Validation Found 51399 of 54504, added 2088 (eff 94.30%) (0.209 FP/event)\n"
     ]
    },
    {
     "data": {
      "application/vnd.jupyter.widget-view+json": {
       "model_id": "",
       "version_major": 2,
       "version_minor": 0
      },
      "text/plain": [
       "HBox(children=(FloatProgress(value=0.0, description='Training', layout=Layout(flex='2'), max=1250.0, style=Pro…"
      ]
     },
     "metadata": {},
     "output_type": "display_data"
    },
    {
     "name": "stdout",
     "output_type": "stream",
     "text": [
      "Epoch 789: train=7.14003, val=8.12376, took 45.478 s\n",
      "  Validation Found 51208 of 54504, added 1791 (eff 93.95%) (0.179 FP/event)\n"
     ]
    },
    {
     "data": {
      "application/vnd.jupyter.widget-view+json": {
       "model_id": "",
       "version_major": 2,
       "version_minor": 0
      },
      "text/plain": [
       "HBox(children=(FloatProgress(value=0.0, description='Training', layout=Layout(flex='2'), max=1250.0, style=Pro…"
      ]
     },
     "metadata": {},
     "output_type": "display_data"
    },
    {
     "name": "stdout",
     "output_type": "stream",
     "text": [
      "Epoch 790: train=7.14149, val=7.95637, took 45.532 s\n",
      "  Validation Found 51533 of 54504, added 2361 (eff 94.55%) (0.236 FP/event)\n"
     ]
    },
    {
     "data": {
      "application/vnd.jupyter.widget-view+json": {
       "model_id": "",
       "version_major": 2,
       "version_minor": 0
      },
      "text/plain": [
       "HBox(children=(FloatProgress(value=0.0, description='Training', layout=Layout(flex='2'), max=1250.0, style=Pro…"
      ]
     },
     "metadata": {},
     "output_type": "display_data"
    },
    {
     "name": "stdout",
     "output_type": "stream",
     "text": [
      "Epoch 791: train=7.13959, val=8.05206, took 45.419 s\n",
      "  Validation Found 51351 of 54504, added 2015 (eff 94.22%) (0.202 FP/event)\n"
     ]
    },
    {
     "data": {
      "application/vnd.jupyter.widget-view+json": {
       "model_id": "",
       "version_major": 2,
       "version_minor": 0
      },
      "text/plain": [
       "HBox(children=(FloatProgress(value=0.0, description='Training', layout=Layout(flex='2'), max=1250.0, style=Pro…"
      ]
     },
     "metadata": {},
     "output_type": "display_data"
    },
    {
     "name": "stdout",
     "output_type": "stream",
     "text": [
      "Epoch 792: train=7.1397, val=8.02064, took 45.444 s\n",
      "  Validation Found 51479 of 54504, added 2256 (eff 94.45%) (0.226 FP/event)\n"
     ]
    },
    {
     "data": {
      "application/vnd.jupyter.widget-view+json": {
       "model_id": "",
       "version_major": 2,
       "version_minor": 0
      },
      "text/plain": [
       "HBox(children=(FloatProgress(value=0.0, description='Training', layout=Layout(flex='2'), max=1250.0, style=Pro…"
      ]
     },
     "metadata": {},
     "output_type": "display_data"
    },
    {
     "name": "stdout",
     "output_type": "stream",
     "text": [
      "Epoch 793: train=7.13947, val=8.01891, took 45.556 s\n",
      "  Validation Found 51430 of 54504, added 2169 (eff 94.36%) (0.217 FP/event)\n"
     ]
    },
    {
     "data": {
      "application/vnd.jupyter.widget-view+json": {
       "model_id": "",
       "version_major": 2,
       "version_minor": 0
      },
      "text/plain": [
       "HBox(children=(FloatProgress(value=0.0, description='Training', layout=Layout(flex='2'), max=1250.0, style=Pro…"
      ]
     },
     "metadata": {},
     "output_type": "display_data"
    },
    {
     "name": "stdout",
     "output_type": "stream",
     "text": [
      "Epoch 794: train=7.13875, val=8.07024, took 45.459 s\n",
      "  Validation Found 51297 of 54504, added 1933 (eff 94.12%) (0.194 FP/event)\n"
     ]
    },
    {
     "data": {
      "application/vnd.jupyter.widget-view+json": {
       "model_id": "",
       "version_major": 2,
       "version_minor": 0
      },
      "text/plain": [
       "HBox(children=(FloatProgress(value=0.0, description='Training', layout=Layout(flex='2'), max=1250.0, style=Pro…"
      ]
     },
     "metadata": {},
     "output_type": "display_data"
    },
    {
     "name": "stdout",
     "output_type": "stream",
     "text": [
      "Epoch 795: train=7.141, val=8.03368, took 45.679 s\n",
      "  Validation Found 51435 of 54504, added 2080 (eff 94.37%) (0.208 FP/event)\n"
     ]
    },
    {
     "data": {
      "application/vnd.jupyter.widget-view+json": {
       "model_id": "",
       "version_major": 2,
       "version_minor": 0
      },
      "text/plain": [
       "HBox(children=(FloatProgress(value=0.0, description='Training', layout=Layout(flex='2'), max=1250.0, style=Pro…"
      ]
     },
     "metadata": {},
     "output_type": "display_data"
    },
    {
     "name": "stdout",
     "output_type": "stream",
     "text": [
      "Epoch 796: train=7.13682, val=7.97923, took 45.478 s\n",
      "  Validation Found 51494 of 54504, added 2257 (eff 94.48%) (0.226 FP/event)\n"
     ]
    },
    {
     "data": {
      "application/vnd.jupyter.widget-view+json": {
       "model_id": "",
       "version_major": 2,
       "version_minor": 0
      },
      "text/plain": [
       "HBox(children=(FloatProgress(value=0.0, description='Training', layout=Layout(flex='2'), max=1250.0, style=Pro…"
      ]
     },
     "metadata": {},
     "output_type": "display_data"
    },
    {
     "name": "stdout",
     "output_type": "stream",
     "text": [
      "Epoch 797: train=7.14227, val=8.06188, took 45.537 s\n",
      "  Validation Found 51393 of 54504, added 2168 (eff 94.29%) (0.217 FP/event)\n"
     ]
    },
    {
     "data": {
      "application/vnd.jupyter.widget-view+json": {
       "model_id": "",
       "version_major": 2,
       "version_minor": 0
      },
      "text/plain": [
       "HBox(children=(FloatProgress(value=0.0, description='Training', layout=Layout(flex='2'), max=1250.0, style=Pro…"
      ]
     },
     "metadata": {},
     "output_type": "display_data"
    },
    {
     "name": "stdout",
     "output_type": "stream",
     "text": [
      "Epoch 798: train=7.13873, val=8.04254, took 45.576 s\n",
      "  Validation Found 51420 of 54504, added 2149 (eff 94.34%) (0.215 FP/event)\n"
     ]
    },
    {
     "data": {
      "application/vnd.jupyter.widget-view+json": {
       "model_id": "",
       "version_major": 2,
       "version_minor": 0
      },
      "text/plain": [
       "HBox(children=(FloatProgress(value=0.0, description='Training', layout=Layout(flex='2'), max=1250.0, style=Pro…"
      ]
     },
     "metadata": {},
     "output_type": "display_data"
    },
    {
     "name": "stdout",
     "output_type": "stream",
     "text": [
      "Epoch 799: train=7.14109, val=8.01289, took 45.561 s\n",
      "  Validation Found 51497 of 54504, added 2378 (eff 94.48%) (0.238 FP/event)\n"
     ]
    },
    {
     "data": {
      "application/vnd.jupyter.widget-view+json": {
       "model_id": "",
       "version_major": 2,
       "version_minor": 0
      },
      "text/plain": [
       "HBox(children=(FloatProgress(value=0.0, description='Training', layout=Layout(flex='2'), max=1250.0, style=Pro…"
      ]
     },
     "metadata": {},
     "output_type": "display_data"
    },
    {
     "name": "stdout",
     "output_type": "stream",
     "text": [
      "Epoch 800: train=7.13918, val=8.05756, took 45.463 s\n",
      "  Validation Found 51351 of 54504, added 2066 (eff 94.22%) (0.207 FP/event)\n"
     ]
    },
    {
     "data": {
      "application/vnd.jupyter.widget-view+json": {
       "model_id": "",
       "version_major": 2,
       "version_minor": 0
      },
      "text/plain": [
       "HBox(children=(FloatProgress(value=0.0, description='Training', layout=Layout(flex='2'), max=1250.0, style=Pro…"
      ]
     },
     "metadata": {},
     "output_type": "display_data"
    },
    {
     "name": "stdout",
     "output_type": "stream",
     "text": [
      "Epoch 801: train=7.13861, val=7.97151, took 45.496 s\n",
      "  Validation Found 51585 of 54504, added 2512 (eff 94.64%) (0.252 FP/event)\n"
     ]
    },
    {
     "data": {
      "application/vnd.jupyter.widget-view+json": {
       "model_id": "",
       "version_major": 2,
       "version_minor": 0
      },
      "text/plain": [
       "HBox(children=(FloatProgress(value=0.0, description='Training', layout=Layout(flex='2'), max=1250.0, style=Pro…"
      ]
     },
     "metadata": {},
     "output_type": "display_data"
    },
    {
     "name": "stdout",
     "output_type": "stream",
     "text": [
      "Epoch 802: train=7.13966, val=8.07165, took 45.466 s\n",
      "  Validation Found 51321 of 54504, added 1987 (eff 94.16%) (0.199 FP/event)\n"
     ]
    },
    {
     "data": {
      "application/vnd.jupyter.widget-view+json": {
       "model_id": "",
       "version_major": 2,
       "version_minor": 0
      },
      "text/plain": [
       "HBox(children=(FloatProgress(value=0.0, description='Training', layout=Layout(flex='2'), max=1250.0, style=Pro…"
      ]
     },
     "metadata": {},
     "output_type": "display_data"
    },
    {
     "name": "stdout",
     "output_type": "stream",
     "text": [
      "Epoch 803: train=7.14011, val=7.97897, took 45.391 s\n",
      "  Validation Found 51509 of 54504, added 2329 (eff 94.50%) (0.233 FP/event)\n"
     ]
    },
    {
     "data": {
      "application/vnd.jupyter.widget-view+json": {
       "model_id": "",
       "version_major": 2,
       "version_minor": 0
      },
      "text/plain": [
       "HBox(children=(FloatProgress(value=0.0, description='Training', layout=Layout(flex='2'), max=1250.0, style=Pro…"
      ]
     },
     "metadata": {},
     "output_type": "display_data"
    },
    {
     "name": "stdout",
     "output_type": "stream",
     "text": [
      "Epoch 804: train=7.13786, val=8.03867, took 45.435 s\n",
      "  Validation Found 51517 of 54504, added 2371 (eff 94.52%) (0.237 FP/event)\n"
     ]
    },
    {
     "data": {
      "application/vnd.jupyter.widget-view+json": {
       "model_id": "",
       "version_major": 2,
       "version_minor": 0
      },
      "text/plain": [
       "HBox(children=(FloatProgress(value=0.0, description='Training', layout=Layout(flex='2'), max=1250.0, style=Pro…"
      ]
     },
     "metadata": {},
     "output_type": "display_data"
    },
    {
     "name": "stdout",
     "output_type": "stream",
     "text": [
      "Epoch 805: train=7.13944, val=8.04419, took 45.427 s\n",
      "  Validation Found 51275 of 54504, added 1899 (eff 94.08%) (0.19 FP/event)\n"
     ]
    },
    {
     "data": {
      "application/vnd.jupyter.widget-view+json": {
       "model_id": "",
       "version_major": 2,
       "version_minor": 0
      },
      "text/plain": [
       "HBox(children=(FloatProgress(value=0.0, description='Training', layout=Layout(flex='2'), max=1250.0, style=Pro…"
      ]
     },
     "metadata": {},
     "output_type": "display_data"
    },
    {
     "name": "stdout",
     "output_type": "stream",
     "text": [
      "Epoch 806: train=7.13796, val=7.98226, took 44.996 s\n",
      "  Validation Found 51483 of 54504, added 2260 (eff 94.46%) (0.226 FP/event)\n"
     ]
    },
    {
     "data": {
      "application/vnd.jupyter.widget-view+json": {
       "model_id": "",
       "version_major": 2,
       "version_minor": 0
      },
      "text/plain": [
       "HBox(children=(FloatProgress(value=0.0, description='Training', layout=Layout(flex='2'), max=1250.0, style=Pro…"
      ]
     },
     "metadata": {},
     "output_type": "display_data"
    },
    {
     "name": "stdout",
     "output_type": "stream",
     "text": [
      "Epoch 807: train=7.14183, val=8.02223, took 44.464 s\n",
      "  Validation Found 51332 of 54504, added 1995 (eff 94.18%) (0.2 FP/event)\n"
     ]
    },
    {
     "data": {
      "application/vnd.jupyter.widget-view+json": {
       "model_id": "",
       "version_major": 2,
       "version_minor": 0
      },
      "text/plain": [
       "HBox(children=(FloatProgress(value=0.0, description='Training', layout=Layout(flex='2'), max=1250.0, style=Pro…"
      ]
     },
     "metadata": {},
     "output_type": "display_data"
    },
    {
     "name": "stdout",
     "output_type": "stream",
     "text": [
      "Epoch 808: train=7.14004, val=7.95693, took 44.455 s\n",
      "  Validation Found 51537 of 54504, added 2378 (eff 94.56%) (0.238 FP/event)\n"
     ]
    },
    {
     "data": {
      "application/vnd.jupyter.widget-view+json": {
       "model_id": "",
       "version_major": 2,
       "version_minor": 0
      },
      "text/plain": [
       "HBox(children=(FloatProgress(value=0.0, description='Training', layout=Layout(flex='2'), max=1250.0, style=Pro…"
      ]
     },
     "metadata": {},
     "output_type": "display_data"
    },
    {
     "name": "stdout",
     "output_type": "stream",
     "text": [
      "Epoch 809: train=7.13967, val=8.04669, took 44.517 s\n",
      "  Validation Found 51324 of 54504, added 2002 (eff 94.17%) (0.201 FP/event)\n"
     ]
    },
    {
     "data": {
      "application/vnd.jupyter.widget-view+json": {
       "model_id": "",
       "version_major": 2,
       "version_minor": 0
      },
      "text/plain": [
       "HBox(children=(FloatProgress(value=0.0, description='Training', layout=Layout(flex='2'), max=1250.0, style=Pro…"
      ]
     },
     "metadata": {},
     "output_type": "display_data"
    },
    {
     "name": "stdout",
     "output_type": "stream",
     "text": [
      "Epoch 810: train=7.13709, val=8.12426, took 45.574 s\n",
      "  Validation Found 51190 of 54504, added 1815 (eff 93.92%) (0.182 FP/event)\n"
     ]
    },
    {
     "data": {
      "application/vnd.jupyter.widget-view+json": {
       "model_id": "",
       "version_major": 2,
       "version_minor": 0
      },
      "text/plain": [
       "HBox(children=(FloatProgress(value=0.0, description='Training', layout=Layout(flex='2'), max=1250.0, style=Pro…"
      ]
     },
     "metadata": {},
     "output_type": "display_data"
    },
    {
     "name": "stdout",
     "output_type": "stream",
     "text": [
      "Epoch 811: train=7.14086, val=8.07977, took 45.495 s\n",
      "  Validation Found 51390 of 54504, added 2186 (eff 94.29%) (0.219 FP/event)\n"
     ]
    },
    {
     "data": {
      "application/vnd.jupyter.widget-view+json": {
       "model_id": "",
       "version_major": 2,
       "version_minor": 0
      },
      "text/plain": [
       "HBox(children=(FloatProgress(value=0.0, description='Training', layout=Layout(flex='2'), max=1250.0, style=Pro…"
      ]
     },
     "metadata": {},
     "output_type": "display_data"
    },
    {
     "name": "stdout",
     "output_type": "stream",
     "text": [
      "Epoch 812: train=7.1402, val=8.05008, took 45.524 s\n",
      "  Validation Found 51412 of 54504, added 2211 (eff 94.33%) (0.221 FP/event)\n"
     ]
    },
    {
     "data": {
      "application/vnd.jupyter.widget-view+json": {
       "model_id": "",
       "version_major": 2,
       "version_minor": 0
      },
      "text/plain": [
       "HBox(children=(FloatProgress(value=0.0, description='Training', layout=Layout(flex='2'), max=1250.0, style=Pro…"
      ]
     },
     "metadata": {},
     "output_type": "display_data"
    },
    {
     "name": "stdout",
     "output_type": "stream",
     "text": [
      "Epoch 813: train=7.13827, val=8.07253, took 45.02 s\n",
      "  Validation Found 51313 of 54504, added 2012 (eff 94.15%) (0.202 FP/event)\n"
     ]
    },
    {
     "data": {
      "application/vnd.jupyter.widget-view+json": {
       "model_id": "",
       "version_major": 2,
       "version_minor": 0
      },
      "text/plain": [
       "HBox(children=(FloatProgress(value=0.0, description='Training', layout=Layout(flex='2'), max=1250.0, style=Pro…"
      ]
     },
     "metadata": {},
     "output_type": "display_data"
    },
    {
     "name": "stdout",
     "output_type": "stream",
     "text": [
      "Epoch 814: train=7.13618, val=8.05563, took 44.54 s\n",
      "  Validation Found 51474 of 54504, added 2226 (eff 94.44%) (0.223 FP/event)\n"
     ]
    },
    {
     "data": {
      "application/vnd.jupyter.widget-view+json": {
       "model_id": "",
       "version_major": 2,
       "version_minor": 0
      },
      "text/plain": [
       "HBox(children=(FloatProgress(value=0.0, description='Training', layout=Layout(flex='2'), max=1250.0, style=Pro…"
      ]
     },
     "metadata": {},
     "output_type": "display_data"
    },
    {
     "name": "stdout",
     "output_type": "stream",
     "text": [
      "Epoch 815: train=7.14087, val=8.05958, took 44.477 s\n",
      "  Validation Found 51393 of 54504, added 2119 (eff 94.29%) (0.212 FP/event)\n"
     ]
    },
    {
     "data": {
      "application/vnd.jupyter.widget-view+json": {
       "model_id": "",
       "version_major": 2,
       "version_minor": 0
      },
      "text/plain": [
       "HBox(children=(FloatProgress(value=0.0, description='Training', layout=Layout(flex='2'), max=1250.0, style=Pro…"
      ]
     },
     "metadata": {},
     "output_type": "display_data"
    },
    {
     "name": "stdout",
     "output_type": "stream",
     "text": [
      "Epoch 816: train=7.13813, val=8.09535, took 44.474 s\n",
      "  Validation Found 51399 of 54504, added 2128 (eff 94.30%) (0.213 FP/event)\n"
     ]
    },
    {
     "data": {
      "application/vnd.jupyter.widget-view+json": {
       "model_id": "",
       "version_major": 2,
       "version_minor": 0
      },
      "text/plain": [
       "HBox(children=(FloatProgress(value=0.0, description='Training', layout=Layout(flex='2'), max=1250.0, style=Pro…"
      ]
     },
     "metadata": {},
     "output_type": "display_data"
    },
    {
     "name": "stdout",
     "output_type": "stream",
     "text": [
      "Epoch 817: train=7.13706, val=8.0887, took 44.527 s\n",
      "  Validation Found 51293 of 54504, added 2010 (eff 94.11%) (0.201 FP/event)\n"
     ]
    },
    {
     "data": {
      "application/vnd.jupyter.widget-view+json": {
       "model_id": "",
       "version_major": 2,
       "version_minor": 0
      },
      "text/plain": [
       "HBox(children=(FloatProgress(value=0.0, description='Training', layout=Layout(flex='2'), max=1250.0, style=Pro…"
      ]
     },
     "metadata": {},
     "output_type": "display_data"
    },
    {
     "name": "stdout",
     "output_type": "stream",
     "text": [
      "Epoch 818: train=7.13657, val=8.10806, took 45.743 s\n",
      "  Validation Found 51285 of 54504, added 1981 (eff 94.09%) (0.198 FP/event)\n"
     ]
    },
    {
     "data": {
      "application/vnd.jupyter.widget-view+json": {
       "model_id": "",
       "version_major": 2,
       "version_minor": 0
      },
      "text/plain": [
       "HBox(children=(FloatProgress(value=0.0, description='Training', layout=Layout(flex='2'), max=1250.0, style=Pro…"
      ]
     },
     "metadata": {},
     "output_type": "display_data"
    },
    {
     "name": "stdout",
     "output_type": "stream",
     "text": [
      "Epoch 819: train=7.1386, val=8.02905, took 45.474 s\n",
      "  Validation Found 51610 of 54504, added 2628 (eff 94.69%) (0.263 FP/event)\n"
     ]
    },
    {
     "data": {
      "application/vnd.jupyter.widget-view+json": {
       "model_id": "",
       "version_major": 2,
       "version_minor": 0
      },
      "text/plain": [
       "HBox(children=(FloatProgress(value=0.0, description='Training', layout=Layout(flex='2'), max=1250.0, style=Pro…"
      ]
     },
     "metadata": {},
     "output_type": "display_data"
    },
    {
     "name": "stdout",
     "output_type": "stream",
     "text": [
      "Epoch 820: train=7.13733, val=8.08038, took 45.517 s\n",
      "  Validation Found 51294 of 54504, added 1971 (eff 94.11%) (0.197 FP/event)\n"
     ]
    },
    {
     "data": {
      "application/vnd.jupyter.widget-view+json": {
       "model_id": "",
       "version_major": 2,
       "version_minor": 0
      },
      "text/plain": [
       "HBox(children=(FloatProgress(value=0.0, description='Training', layout=Layout(flex='2'), max=1250.0, style=Pro…"
      ]
     },
     "metadata": {},
     "output_type": "display_data"
    },
    {
     "name": "stdout",
     "output_type": "stream",
     "text": [
      "Epoch 821: train=7.13921, val=8.0622, took 45.484 s\n",
      "  Validation Found 51395 of 54504, added 2089 (eff 94.30%) (0.209 FP/event)\n"
     ]
    },
    {
     "data": {
      "application/vnd.jupyter.widget-view+json": {
       "model_id": "",
       "version_major": 2,
       "version_minor": 0
      },
      "text/plain": [
       "HBox(children=(FloatProgress(value=0.0, description='Training', layout=Layout(flex='2'), max=1250.0, style=Pro…"
      ]
     },
     "metadata": {},
     "output_type": "display_data"
    },
    {
     "name": "stdout",
     "output_type": "stream",
     "text": [
      "Epoch 822: train=7.13492, val=8.11309, took 45.488 s\n",
      "  Validation Found 51279 of 54504, added 1932 (eff 94.08%) (0.193 FP/event)\n"
     ]
    },
    {
     "data": {
      "application/vnd.jupyter.widget-view+json": {
       "model_id": "",
       "version_major": 2,
       "version_minor": 0
      },
      "text/plain": [
       "HBox(children=(FloatProgress(value=0.0, description='Training', layout=Layout(flex='2'), max=1250.0, style=Pro…"
      ]
     },
     "metadata": {},
     "output_type": "display_data"
    },
    {
     "name": "stdout",
     "output_type": "stream",
     "text": [
      "Epoch 823: train=7.14007, val=8.07717, took 45.471 s\n",
      "  Validation Found 51335 of 54504, added 2021 (eff 94.19%) (0.202 FP/event)\n"
     ]
    },
    {
     "data": {
      "application/vnd.jupyter.widget-view+json": {
       "model_id": "",
       "version_major": 2,
       "version_minor": 0
      },
      "text/plain": [
       "HBox(children=(FloatProgress(value=0.0, description='Training', layout=Layout(flex='2'), max=1250.0, style=Pro…"
      ]
     },
     "metadata": {},
     "output_type": "display_data"
    },
    {
     "name": "stdout",
     "output_type": "stream",
     "text": [
      "Epoch 824: train=7.13878, val=8.10121, took 45.462 s\n",
      "  Validation Found 51302 of 54504, added 1964 (eff 94.13%) (0.197 FP/event)\n"
     ]
    },
    {
     "data": {
      "application/vnd.jupyter.widget-view+json": {
       "model_id": "",
       "version_major": 2,
       "version_minor": 0
      },
      "text/plain": [
       "HBox(children=(FloatProgress(value=0.0, description='Training', layout=Layout(flex='2'), max=1250.0, style=Pro…"
      ]
     },
     "metadata": {},
     "output_type": "display_data"
    },
    {
     "name": "stdout",
     "output_type": "stream",
     "text": [
      "Epoch 825: train=7.13773, val=8.01932, took 45.465 s\n",
      "  Validation Found 51511 of 54504, added 2386 (eff 94.51%) (0.239 FP/event)\n"
     ]
    },
    {
     "data": {
      "application/vnd.jupyter.widget-view+json": {
       "model_id": "",
       "version_major": 2,
       "version_minor": 0
      },
      "text/plain": [
       "HBox(children=(FloatProgress(value=0.0, description='Training', layout=Layout(flex='2'), max=1250.0, style=Pro…"
      ]
     },
     "metadata": {},
     "output_type": "display_data"
    },
    {
     "name": "stdout",
     "output_type": "stream",
     "text": [
      "Epoch 826: train=7.13702, val=8.01958, took 45.481 s\n",
      "  Validation Found 51525 of 54504, added 2335 (eff 94.53%) (0.234 FP/event)\n"
     ]
    },
    {
     "data": {
      "application/vnd.jupyter.widget-view+json": {
       "model_id": "",
       "version_major": 2,
       "version_minor": 0
      },
      "text/plain": [
       "HBox(children=(FloatProgress(value=0.0, description='Training', layout=Layout(flex='2'), max=1250.0, style=Pro…"
      ]
     },
     "metadata": {},
     "output_type": "display_data"
    },
    {
     "name": "stdout",
     "output_type": "stream",
     "text": [
      "Epoch 827: train=7.13721, val=8.08415, took 45.494 s\n",
      "  Validation Found 51339 of 54504, added 1988 (eff 94.19%) (0.199 FP/event)\n"
     ]
    },
    {
     "data": {
      "application/vnd.jupyter.widget-view+json": {
       "model_id": "",
       "version_major": 2,
       "version_minor": 0
      },
      "text/plain": [
       "HBox(children=(FloatProgress(value=0.0, description='Training', layout=Layout(flex='2'), max=1250.0, style=Pro…"
      ]
     },
     "metadata": {},
     "output_type": "display_data"
    },
    {
     "name": "stdout",
     "output_type": "stream",
     "text": [
      "Epoch 828: train=7.13976, val=8.01309, took 45.533 s\n",
      "  Validation Found 51453 of 54504, added 2266 (eff 94.40%) (0.227 FP/event)\n"
     ]
    },
    {
     "data": {
      "application/vnd.jupyter.widget-view+json": {
       "model_id": "",
       "version_major": 2,
       "version_minor": 0
      },
      "text/plain": [
       "HBox(children=(FloatProgress(value=0.0, description='Training', layout=Layout(flex='2'), max=1250.0, style=Pro…"
      ]
     },
     "metadata": {},
     "output_type": "display_data"
    },
    {
     "name": "stdout",
     "output_type": "stream",
     "text": [
      "Epoch 829: train=7.13964, val=8.0206, took 45.568 s\n",
      "  Validation Found 51338 of 54504, added 2048 (eff 94.19%) (0.205 FP/event)\n"
     ]
    },
    {
     "data": {
      "application/vnd.jupyter.widget-view+json": {
       "model_id": "",
       "version_major": 2,
       "version_minor": 0
      },
      "text/plain": [
       "HBox(children=(FloatProgress(value=0.0, description='Training', layout=Layout(flex='2'), max=1250.0, style=Pro…"
      ]
     },
     "metadata": {},
     "output_type": "display_data"
    },
    {
     "name": "stdout",
     "output_type": "stream",
     "text": [
      "Epoch 830: train=7.13514, val=8.08042, took 45.531 s\n",
      "  Validation Found 51432 of 54504, added 2178 (eff 94.36%) (0.218 FP/event)\n"
     ]
    },
    {
     "data": {
      "application/vnd.jupyter.widget-view+json": {
       "model_id": "",
       "version_major": 2,
       "version_minor": 0
      },
      "text/plain": [
       "HBox(children=(FloatProgress(value=0.0, description='Training', layout=Layout(flex='2'), max=1250.0, style=Pro…"
      ]
     },
     "metadata": {},
     "output_type": "display_data"
    },
    {
     "name": "stdout",
     "output_type": "stream",
     "text": [
      "Epoch 831: train=7.13674, val=8.05833, took 45.525 s\n",
      "  Validation Found 51410 of 54504, added 2155 (eff 94.32%) (0.216 FP/event)\n"
     ]
    },
    {
     "data": {
      "application/vnd.jupyter.widget-view+json": {
       "model_id": "",
       "version_major": 2,
       "version_minor": 0
      },
      "text/plain": [
       "HBox(children=(FloatProgress(value=0.0, description='Training', layout=Layout(flex='2'), max=1250.0, style=Pro…"
      ]
     },
     "metadata": {},
     "output_type": "display_data"
    },
    {
     "name": "stdout",
     "output_type": "stream",
     "text": [
      "Epoch 832: train=7.13444, val=7.99633, took 45.535 s\n",
      "  Validation Found 51408 of 54504, added 2122 (eff 94.32%) (0.213 FP/event)\n"
     ]
    },
    {
     "data": {
      "application/vnd.jupyter.widget-view+json": {
       "model_id": "",
       "version_major": 2,
       "version_minor": 0
      },
      "text/plain": [
       "HBox(children=(FloatProgress(value=0.0, description='Training', layout=Layout(flex='2'), max=1250.0, style=Pro…"
      ]
     },
     "metadata": {},
     "output_type": "display_data"
    },
    {
     "name": "stdout",
     "output_type": "stream",
     "text": [
      "Epoch 833: train=7.13883, val=8.02824, took 45.477 s\n",
      "  Validation Found 51507 of 54504, added 2316 (eff 94.50%) (0.232 FP/event)\n"
     ]
    },
    {
     "data": {
      "application/vnd.jupyter.widget-view+json": {
       "model_id": "",
       "version_major": 2,
       "version_minor": 0
      },
      "text/plain": [
       "HBox(children=(FloatProgress(value=0.0, description='Training', layout=Layout(flex='2'), max=1250.0, style=Pro…"
      ]
     },
     "metadata": {},
     "output_type": "display_data"
    },
    {
     "name": "stdout",
     "output_type": "stream",
     "text": [
      "Epoch 834: train=7.13761, val=8.09045, took 45.57 s\n",
      "  Validation Found 51331 of 54504, added 1973 (eff 94.18%) (0.198 FP/event)\n"
     ]
    },
    {
     "data": {
      "application/vnd.jupyter.widget-view+json": {
       "model_id": "",
       "version_major": 2,
       "version_minor": 0
      },
      "text/plain": [
       "HBox(children=(FloatProgress(value=0.0, description='Training', layout=Layout(flex='2'), max=1250.0, style=Pro…"
      ]
     },
     "metadata": {},
     "output_type": "display_data"
    },
    {
     "name": "stdout",
     "output_type": "stream",
     "text": [
      "Epoch 835: train=7.13667, val=8.05638, took 45.504 s\n",
      "  Validation Found 51443 of 54504, added 2189 (eff 94.38%) (0.219 FP/event)\n"
     ]
    },
    {
     "data": {
      "application/vnd.jupyter.widget-view+json": {
       "model_id": "",
       "version_major": 2,
       "version_minor": 0
      },
      "text/plain": [
       "HBox(children=(FloatProgress(value=0.0, description='Training', layout=Layout(flex='2'), max=1250.0, style=Pro…"
      ]
     },
     "metadata": {},
     "output_type": "display_data"
    },
    {
     "name": "stdout",
     "output_type": "stream",
     "text": [
      "Epoch 836: train=7.13412, val=8.01419, took 45.645 s\n",
      "  Validation Found 51398 of 54504, added 2136 (eff 94.30%) (0.214 FP/event)\n"
     ]
    },
    {
     "data": {
      "application/vnd.jupyter.widget-view+json": {
       "model_id": "",
       "version_major": 2,
       "version_minor": 0
      },
      "text/plain": [
       "HBox(children=(FloatProgress(value=0.0, description='Training', layout=Layout(flex='2'), max=1250.0, style=Pro…"
      ]
     },
     "metadata": {},
     "output_type": "display_data"
    },
    {
     "name": "stdout",
     "output_type": "stream",
     "text": [
      "Epoch 837: train=7.13548, val=8.03112, took 45.629 s\n",
      "  Validation Found 51338 of 54504, added 1967 (eff 94.19%) (0.197 FP/event)\n"
     ]
    },
    {
     "data": {
      "application/vnd.jupyter.widget-view+json": {
       "model_id": "",
       "version_major": 2,
       "version_minor": 0
      },
      "text/plain": [
       "HBox(children=(FloatProgress(value=0.0, description='Training', layout=Layout(flex='2'), max=1250.0, style=Pro…"
      ]
     },
     "metadata": {},
     "output_type": "display_data"
    },
    {
     "name": "stdout",
     "output_type": "stream",
     "text": [
      "Epoch 838: train=7.13503, val=8.04452, took 45.551 s\n",
      "  Validation Found 51460 of 54504, added 2245 (eff 94.42%) (0.225 FP/event)\n"
     ]
    },
    {
     "data": {
      "application/vnd.jupyter.widget-view+json": {
       "model_id": "",
       "version_major": 2,
       "version_minor": 0
      },
      "text/plain": [
       "HBox(children=(FloatProgress(value=0.0, description='Training', layout=Layout(flex='2'), max=1250.0, style=Pro…"
      ]
     },
     "metadata": {},
     "output_type": "display_data"
    },
    {
     "name": "stdout",
     "output_type": "stream",
     "text": [
      "Epoch 839: train=7.13453, val=8.08219, took 45.486 s\n",
      "  Validation Found 51349 of 54504, added 2019 (eff 94.21%) (0.202 FP/event)\n"
     ]
    },
    {
     "data": {
      "application/vnd.jupyter.widget-view+json": {
       "model_id": "",
       "version_major": 2,
       "version_minor": 0
      },
      "text/plain": [
       "HBox(children=(FloatProgress(value=0.0, description='Training', layout=Layout(flex='2'), max=1250.0, style=Pro…"
      ]
     },
     "metadata": {},
     "output_type": "display_data"
    },
    {
     "name": "stdout",
     "output_type": "stream",
     "text": [
      "Epoch 840: train=7.13557, val=8.09075, took 45.52 s\n",
      "  Validation Found 51501 of 54504, added 2364 (eff 94.49%) (0.237 FP/event)\n"
     ]
    },
    {
     "data": {
      "application/vnd.jupyter.widget-view+json": {
       "model_id": "",
       "version_major": 2,
       "version_minor": 0
      },
      "text/plain": [
       "HBox(children=(FloatProgress(value=0.0, description='Training', layout=Layout(flex='2'), max=1250.0, style=Pro…"
      ]
     },
     "metadata": {},
     "output_type": "display_data"
    },
    {
     "name": "stdout",
     "output_type": "stream",
     "text": [
      "Epoch 841: train=7.13942, val=8.06119, took 45.435 s\n",
      "  Validation Found 51401 of 54504, added 2153 (eff 94.31%) (0.216 FP/event)\n"
     ]
    },
    {
     "data": {
      "application/vnd.jupyter.widget-view+json": {
       "model_id": "",
       "version_major": 2,
       "version_minor": 0
      },
      "text/plain": [
       "HBox(children=(FloatProgress(value=0.0, description='Training', layout=Layout(flex='2'), max=1250.0, style=Pro…"
      ]
     },
     "metadata": {},
     "output_type": "display_data"
    },
    {
     "name": "stdout",
     "output_type": "stream",
     "text": [
      "Epoch 842: train=7.137, val=8.0181, took 45.529 s\n",
      "  Validation Found 51351 of 54504, added 1998 (eff 94.22%) (0.2 FP/event)\n"
     ]
    },
    {
     "data": {
      "application/vnd.jupyter.widget-view+json": {
       "model_id": "",
       "version_major": 2,
       "version_minor": 0
      },
      "text/plain": [
       "HBox(children=(FloatProgress(value=0.0, description='Training', layout=Layout(flex='2'), max=1250.0, style=Pro…"
      ]
     },
     "metadata": {},
     "output_type": "display_data"
    },
    {
     "name": "stdout",
     "output_type": "stream",
     "text": [
      "Epoch 843: train=7.13502, val=8.03173, took 45.474 s\n",
      "  Validation Found 51445 of 54504, added 2157 (eff 94.39%) (0.216 FP/event)\n"
     ]
    },
    {
     "data": {
      "application/vnd.jupyter.widget-view+json": {
       "model_id": "",
       "version_major": 2,
       "version_minor": 0
      },
      "text/plain": [
       "HBox(children=(FloatProgress(value=0.0, description='Training', layout=Layout(flex='2'), max=1250.0, style=Pro…"
      ]
     },
     "metadata": {},
     "output_type": "display_data"
    },
    {
     "name": "stdout",
     "output_type": "stream",
     "text": [
      "Epoch 844: train=7.13394, val=8.0681, took 45.708 s\n",
      "  Validation Found 51318 of 54504, added 1985 (eff 94.15%) (0.199 FP/event)\n"
     ]
    },
    {
     "data": {
      "application/vnd.jupyter.widget-view+json": {
       "model_id": "",
       "version_major": 2,
       "version_minor": 0
      },
      "text/plain": [
       "HBox(children=(FloatProgress(value=0.0, description='Training', layout=Layout(flex='2'), max=1250.0, style=Pro…"
      ]
     },
     "metadata": {},
     "output_type": "display_data"
    },
    {
     "name": "stdout",
     "output_type": "stream",
     "text": [
      "Epoch 845: train=7.13601, val=8.04316, took 45.492 s\n",
      "  Validation Found 51405 of 54504, added 2139 (eff 94.31%) (0.214 FP/event)\n"
     ]
    },
    {
     "data": {
      "application/vnd.jupyter.widget-view+json": {
       "model_id": "",
       "version_major": 2,
       "version_minor": 0
      },
      "text/plain": [
       "HBox(children=(FloatProgress(value=0.0, description='Training', layout=Layout(flex='2'), max=1250.0, style=Pro…"
      ]
     },
     "metadata": {},
     "output_type": "display_data"
    },
    {
     "name": "stdout",
     "output_type": "stream",
     "text": [
      "Epoch 846: train=7.13607, val=7.9661, took 45.428 s\n",
      "  Validation Found 51457 of 54504, added 2189 (eff 94.41%) (0.219 FP/event)\n"
     ]
    },
    {
     "data": {
      "application/vnd.jupyter.widget-view+json": {
       "model_id": "",
       "version_major": 2,
       "version_minor": 0
      },
      "text/plain": [
       "HBox(children=(FloatProgress(value=0.0, description='Training', layout=Layout(flex='2'), max=1250.0, style=Pro…"
      ]
     },
     "metadata": {},
     "output_type": "display_data"
    },
    {
     "name": "stdout",
     "output_type": "stream",
     "text": [
      "Epoch 847: train=7.13452, val=8.03879, took 45.442 s\n",
      "  Validation Found 51468 of 54504, added 2229 (eff 94.43%) (0.223 FP/event)\n"
     ]
    },
    {
     "data": {
      "application/vnd.jupyter.widget-view+json": {
       "model_id": "",
       "version_major": 2,
       "version_minor": 0
      },
      "text/plain": [
       "HBox(children=(FloatProgress(value=0.0, description='Training', layout=Layout(flex='2'), max=1250.0, style=Pro…"
      ]
     },
     "metadata": {},
     "output_type": "display_data"
    },
    {
     "name": "stdout",
     "output_type": "stream",
     "text": [
      "Epoch 848: train=7.13691, val=7.97904, took 45.443 s\n",
      "  Validation Found 51479 of 54504, added 2274 (eff 94.45%) (0.228 FP/event)\n"
     ]
    },
    {
     "data": {
      "application/vnd.jupyter.widget-view+json": {
       "model_id": "",
       "version_major": 2,
       "version_minor": 0
      },
      "text/plain": [
       "HBox(children=(FloatProgress(value=0.0, description='Training', layout=Layout(flex='2'), max=1250.0, style=Pro…"
      ]
     },
     "metadata": {},
     "output_type": "display_data"
    },
    {
     "name": "stdout",
     "output_type": "stream",
     "text": [
      "Epoch 849: train=7.13302, val=8.08745, took 45.432 s\n",
      "  Validation Found 51348 of 54504, added 2053 (eff 94.21%) (0.206 FP/event)\n"
     ]
    },
    {
     "data": {
      "application/vnd.jupyter.widget-view+json": {
       "model_id": "",
       "version_major": 2,
       "version_minor": 0
      },
      "text/plain": [
       "HBox(children=(FloatProgress(value=0.0, description='Training', layout=Layout(flex='2'), max=1250.0, style=Pro…"
      ]
     },
     "metadata": {},
     "output_type": "display_data"
    },
    {
     "name": "stdout",
     "output_type": "stream",
     "text": [
      "Epoch 850: train=7.13463, val=8.04312, took 45.391 s\n",
      "  Validation Found 51478 of 54504, added 2356 (eff 94.45%) (0.236 FP/event)\n"
     ]
    },
    {
     "data": {
      "application/vnd.jupyter.widget-view+json": {
       "model_id": "",
       "version_major": 2,
       "version_minor": 0
      },
      "text/plain": [
       "HBox(children=(FloatProgress(value=0.0, description='Training', layout=Layout(flex='2'), max=1250.0, style=Pro…"
      ]
     },
     "metadata": {},
     "output_type": "display_data"
    },
    {
     "name": "stdout",
     "output_type": "stream",
     "text": [
      "Epoch 851: train=7.13579, val=7.99159, took 45.399 s\n",
      "  Validation Found 51451 of 54504, added 2254 (eff 94.40%) (0.226 FP/event)\n"
     ]
    },
    {
     "data": {
      "application/vnd.jupyter.widget-view+json": {
       "model_id": "",
       "version_major": 2,
       "version_minor": 0
      },
      "text/plain": [
       "HBox(children=(FloatProgress(value=0.0, description='Training', layout=Layout(flex='2'), max=1250.0, style=Pro…"
      ]
     },
     "metadata": {},
     "output_type": "display_data"
    },
    {
     "name": "stdout",
     "output_type": "stream",
     "text": [
      "Epoch 852: train=7.1356, val=7.97985, took 45.426 s\n",
      "  Validation Found 51479 of 54504, added 2216 (eff 94.45%) (0.222 FP/event)\n"
     ]
    },
    {
     "data": {
      "application/vnd.jupyter.widget-view+json": {
       "model_id": "",
       "version_major": 2,
       "version_minor": 0
      },
      "text/plain": [
       "HBox(children=(FloatProgress(value=0.0, description='Training', layout=Layout(flex='2'), max=1250.0, style=Pro…"
      ]
     },
     "metadata": {},
     "output_type": "display_data"
    },
    {
     "name": "stdout",
     "output_type": "stream",
     "text": [
      "Epoch 853: train=7.13312, val=8.00091, took 45.424 s\n",
      "  Validation Found 51496 of 54504, added 2242 (eff 94.48%) (0.225 FP/event)\n"
     ]
    },
    {
     "data": {
      "application/vnd.jupyter.widget-view+json": {
       "model_id": "",
       "version_major": 2,
       "version_minor": 0
      },
      "text/plain": [
       "HBox(children=(FloatProgress(value=0.0, description='Training', layout=Layout(flex='2'), max=1250.0, style=Pro…"
      ]
     },
     "metadata": {},
     "output_type": "display_data"
    },
    {
     "name": "stdout",
     "output_type": "stream",
     "text": [
      "Epoch 854: train=7.13283, val=7.99585, took 45.475 s\n",
      "  Validation Found 51549 of 54504, added 2413 (eff 94.58%) (0.242 FP/event)\n"
     ]
    },
    {
     "data": {
      "application/vnd.jupyter.widget-view+json": {
       "model_id": "",
       "version_major": 2,
       "version_minor": 0
      },
      "text/plain": [
       "HBox(children=(FloatProgress(value=0.0, description='Training', layout=Layout(flex='2'), max=1250.0, style=Pro…"
      ]
     },
     "metadata": {},
     "output_type": "display_data"
    },
    {
     "name": "stdout",
     "output_type": "stream",
     "text": [
      "Epoch 855: train=7.13611, val=8.03948, took 45.575 s\n",
      "  Validation Found 51401 of 54504, added 2114 (eff 94.31%) (0.212 FP/event)\n"
     ]
    },
    {
     "data": {
      "application/vnd.jupyter.widget-view+json": {
       "model_id": "",
       "version_major": 2,
       "version_minor": 0
      },
      "text/plain": [
       "HBox(children=(FloatProgress(value=0.0, description='Training', layout=Layout(flex='2'), max=1250.0, style=Pro…"
      ]
     },
     "metadata": {},
     "output_type": "display_data"
    },
    {
     "name": "stdout",
     "output_type": "stream",
     "text": [
      "Epoch 856: train=7.13328, val=8.05313, took 45.5 s\n",
      "  Validation Found 51365 of 54504, added 2062 (eff 94.24%) (0.207 FP/event)\n"
     ]
    },
    {
     "data": {
      "application/vnd.jupyter.widget-view+json": {
       "model_id": "",
       "version_major": 2,
       "version_minor": 0
      },
      "text/plain": [
       "HBox(children=(FloatProgress(value=0.0, description='Training', layout=Layout(flex='2'), max=1250.0, style=Pro…"
      ]
     },
     "metadata": {},
     "output_type": "display_data"
    },
    {
     "name": "stdout",
     "output_type": "stream",
     "text": [
      "Epoch 857: train=7.13241, val=8.01655, took 45.464 s\n",
      "  Validation Found 51389 of 54504, added 2087 (eff 94.28%) (0.209 FP/event)\n"
     ]
    },
    {
     "data": {
      "application/vnd.jupyter.widget-view+json": {
       "model_id": "",
       "version_major": 2,
       "version_minor": 0
      },
      "text/plain": [
       "HBox(children=(FloatProgress(value=0.0, description='Training', layout=Layout(flex='2'), max=1250.0, style=Pro…"
      ]
     },
     "metadata": {},
     "output_type": "display_data"
    },
    {
     "name": "stdout",
     "output_type": "stream",
     "text": [
      "Epoch 858: train=7.13184, val=8.04789, took 45.591 s\n",
      "  Validation Found 51370 of 54504, added 2037 (eff 94.25%) (0.204 FP/event)\n"
     ]
    },
    {
     "data": {
      "application/vnd.jupyter.widget-view+json": {
       "model_id": "",
       "version_major": 2,
       "version_minor": 0
      },
      "text/plain": [
       "HBox(children=(FloatProgress(value=0.0, description='Training', layout=Layout(flex='2'), max=1250.0, style=Pro…"
      ]
     },
     "metadata": {},
     "output_type": "display_data"
    },
    {
     "name": "stdout",
     "output_type": "stream",
     "text": [
      "Epoch 859: train=7.13455, val=8.00588, took 45.487 s\n",
      "  Validation Found 51495 of 54504, added 2309 (eff 94.48%) (0.231 FP/event)\n"
     ]
    },
    {
     "data": {
      "application/vnd.jupyter.widget-view+json": {
       "model_id": "",
       "version_major": 2,
       "version_minor": 0
      },
      "text/plain": [
       "HBox(children=(FloatProgress(value=0.0, description='Training', layout=Layout(flex='2'), max=1250.0, style=Pro…"
      ]
     },
     "metadata": {},
     "output_type": "display_data"
    },
    {
     "name": "stdout",
     "output_type": "stream",
     "text": [
      "Epoch 860: train=7.1314, val=8.01714, took 45.479 s\n",
      "  Validation Found 51328 of 54504, added 2034 (eff 94.17%) (0.204 FP/event)\n"
     ]
    },
    {
     "data": {
      "application/vnd.jupyter.widget-view+json": {
       "model_id": "",
       "version_major": 2,
       "version_minor": 0
      },
      "text/plain": [
       "HBox(children=(FloatProgress(value=0.0, description='Training', layout=Layout(flex='2'), max=1250.0, style=Pro…"
      ]
     },
     "metadata": {},
     "output_type": "display_data"
    },
    {
     "name": "stdout",
     "output_type": "stream",
     "text": [
      "Epoch 861: train=7.13352, val=8.03332, took 45.483 s\n",
      "  Validation Found 51400 of 54504, added 2123 (eff 94.31%) (0.213 FP/event)\n"
     ]
    },
    {
     "data": {
      "application/vnd.jupyter.widget-view+json": {
       "model_id": "",
       "version_major": 2,
       "version_minor": 0
      },
      "text/plain": [
       "HBox(children=(FloatProgress(value=0.0, description='Training', layout=Layout(flex='2'), max=1250.0, style=Pro…"
      ]
     },
     "metadata": {},
     "output_type": "display_data"
    },
    {
     "name": "stdout",
     "output_type": "stream",
     "text": [
      "Epoch 862: train=7.13409, val=8.05657, took 45.454 s\n",
      "  Validation Found 51450 of 54504, added 2222 (eff 94.40%) (0.223 FP/event)\n"
     ]
    },
    {
     "data": {
      "application/vnd.jupyter.widget-view+json": {
       "model_id": "",
       "version_major": 2,
       "version_minor": 0
      },
      "text/plain": [
       "HBox(children=(FloatProgress(value=0.0, description='Training', layout=Layout(flex='2'), max=1250.0, style=Pro…"
      ]
     },
     "metadata": {},
     "output_type": "display_data"
    },
    {
     "name": "stdout",
     "output_type": "stream",
     "text": [
      "Epoch 863: train=7.13241, val=7.99872, took 45.432 s\n",
      "  Validation Found 51535 of 54504, added 2396 (eff 94.55%) (0.24 FP/event)\n"
     ]
    },
    {
     "data": {
      "application/vnd.jupyter.widget-view+json": {
       "model_id": "",
       "version_major": 2,
       "version_minor": 0
      },
      "text/plain": [
       "HBox(children=(FloatProgress(value=0.0, description='Training', layout=Layout(flex='2'), max=1250.0, style=Pro…"
      ]
     },
     "metadata": {},
     "output_type": "display_data"
    },
    {
     "name": "stdout",
     "output_type": "stream",
     "text": [
      "Epoch 864: train=7.13398, val=8.01473, took 45.479 s\n",
      "  Validation Found 51407 of 54504, added 2110 (eff 94.32%) (0.211 FP/event)\n"
     ]
    },
    {
     "data": {
      "application/vnd.jupyter.widget-view+json": {
       "model_id": "",
       "version_major": 2,
       "version_minor": 0
      },
      "text/plain": [
       "HBox(children=(FloatProgress(value=0.0, description='Training', layout=Layout(flex='2'), max=1250.0, style=Pro…"
      ]
     },
     "metadata": {},
     "output_type": "display_data"
    },
    {
     "name": "stdout",
     "output_type": "stream",
     "text": [
      "Epoch 865: train=7.13485, val=8.05488, took 45.455 s\n",
      "  Validation Found 51507 of 54504, added 2401 (eff 94.50%) (0.24 FP/event)\n"
     ]
    },
    {
     "data": {
      "application/vnd.jupyter.widget-view+json": {
       "model_id": "",
       "version_major": 2,
       "version_minor": 0
      },
      "text/plain": [
       "HBox(children=(FloatProgress(value=0.0, description='Training', layout=Layout(flex='2'), max=1250.0, style=Pro…"
      ]
     },
     "metadata": {},
     "output_type": "display_data"
    },
    {
     "name": "stdout",
     "output_type": "stream",
     "text": [
      "Epoch 866: train=7.13378, val=8.1719, took 45.441 s\n",
      "  Validation Found 51216 of 54504, added 1830 (eff 93.97%) (0.183 FP/event)\n"
     ]
    },
    {
     "data": {
      "application/vnd.jupyter.widget-view+json": {
       "model_id": "",
       "version_major": 2,
       "version_minor": 0
      },
      "text/plain": [
       "HBox(children=(FloatProgress(value=0.0, description='Training', layout=Layout(flex='2'), max=1250.0, style=Pro…"
      ]
     },
     "metadata": {},
     "output_type": "display_data"
    },
    {
     "name": "stdout",
     "output_type": "stream",
     "text": [
      "Epoch 867: train=7.13232, val=8.11062, took 45.439 s\n",
      "  Validation Found 51362 of 54504, added 2078 (eff 94.24%) (0.208 FP/event)\n"
     ]
    },
    {
     "data": {
      "application/vnd.jupyter.widget-view+json": {
       "model_id": "",
       "version_major": 2,
       "version_minor": 0
      },
      "text/plain": [
       "HBox(children=(FloatProgress(value=0.0, description='Training', layout=Layout(flex='2'), max=1250.0, style=Pro…"
      ]
     },
     "metadata": {},
     "output_type": "display_data"
    },
    {
     "name": "stdout",
     "output_type": "stream",
     "text": [
      "Epoch 868: train=7.13167, val=8.02411, took 45.474 s\n",
      "  Validation Found 51494 of 54504, added 2320 (eff 94.48%) (0.232 FP/event)\n"
     ]
    },
    {
     "data": {
      "application/vnd.jupyter.widget-view+json": {
       "model_id": "",
       "version_major": 2,
       "version_minor": 0
      },
      "text/plain": [
       "HBox(children=(FloatProgress(value=0.0, description='Training', layout=Layout(flex='2'), max=1250.0, style=Pro…"
      ]
     },
     "metadata": {},
     "output_type": "display_data"
    },
    {
     "name": "stdout",
     "output_type": "stream",
     "text": [
      "Epoch 869: train=7.13379, val=8.01859, took 45.441 s\n",
      "  Validation Found 51400 of 54504, added 2174 (eff 94.31%) (0.218 FP/event)\n"
     ]
    },
    {
     "data": {
      "application/vnd.jupyter.widget-view+json": {
       "model_id": "",
       "version_major": 2,
       "version_minor": 0
      },
      "text/plain": [
       "HBox(children=(FloatProgress(value=0.0, description='Training', layout=Layout(flex='2'), max=1250.0, style=Pro…"
      ]
     },
     "metadata": {},
     "output_type": "display_data"
    },
    {
     "name": "stdout",
     "output_type": "stream",
     "text": [
      "Epoch 870: train=7.13268, val=8.05694, took 45.413 s\n",
      "  Validation Found 51286 of 54504, added 1935 (eff 94.10%) (0.194 FP/event)\n"
     ]
    },
    {
     "data": {
      "application/vnd.jupyter.widget-view+json": {
       "model_id": "",
       "version_major": 2,
       "version_minor": 0
      },
      "text/plain": [
       "HBox(children=(FloatProgress(value=0.0, description='Training', layout=Layout(flex='2'), max=1250.0, style=Pro…"
      ]
     },
     "metadata": {},
     "output_type": "display_data"
    },
    {
     "name": "stdout",
     "output_type": "stream",
     "text": [
      "Epoch 871: train=7.13018, val=8.07037, took 45.412 s\n",
      "  Validation Found 51355 of 54504, added 2018 (eff 94.22%) (0.202 FP/event)\n"
     ]
    },
    {
     "data": {
      "application/vnd.jupyter.widget-view+json": {
       "model_id": "",
       "version_major": 2,
       "version_minor": 0
      },
      "text/plain": [
       "HBox(children=(FloatProgress(value=0.0, description='Training', layout=Layout(flex='2'), max=1250.0, style=Pro…"
      ]
     },
     "metadata": {},
     "output_type": "display_data"
    },
    {
     "name": "stdout",
     "output_type": "stream",
     "text": [
      "Epoch 872: train=7.13145, val=8.06401, took 45.429 s\n",
      "  Validation Found 51445 of 54504, added 2184 (eff 94.39%) (0.219 FP/event)\n"
     ]
    },
    {
     "data": {
      "application/vnd.jupyter.widget-view+json": {
       "model_id": "",
       "version_major": 2,
       "version_minor": 0
      },
      "text/plain": [
       "HBox(children=(FloatProgress(value=0.0, description='Training', layout=Layout(flex='2'), max=1250.0, style=Pro…"
      ]
     },
     "metadata": {},
     "output_type": "display_data"
    },
    {
     "name": "stdout",
     "output_type": "stream",
     "text": [
      "Epoch 873: train=7.13404, val=8.08302, took 45.439 s\n",
      "  Validation Found 51250 of 54504, added 1876 (eff 94.03%) (0.188 FP/event)\n"
     ]
    },
    {
     "data": {
      "application/vnd.jupyter.widget-view+json": {
       "model_id": "",
       "version_major": 2,
       "version_minor": 0
      },
      "text/plain": [
       "HBox(children=(FloatProgress(value=0.0, description='Training', layout=Layout(flex='2'), max=1250.0, style=Pro…"
      ]
     },
     "metadata": {},
     "output_type": "display_data"
    },
    {
     "name": "stdout",
     "output_type": "stream",
     "text": [
      "Epoch 874: train=7.13271, val=8.0649, took 45.437 s\n",
      "  Validation Found 51361 of 54504, added 2011 (eff 94.23%) (0.201 FP/event)\n"
     ]
    },
    {
     "data": {
      "application/vnd.jupyter.widget-view+json": {
       "model_id": "",
       "version_major": 2,
       "version_minor": 0
      },
      "text/plain": [
       "HBox(children=(FloatProgress(value=0.0, description='Training', layout=Layout(flex='2'), max=1250.0, style=Pro…"
      ]
     },
     "metadata": {},
     "output_type": "display_data"
    },
    {
     "name": "stdout",
     "output_type": "stream",
     "text": [
      "Epoch 875: train=7.13194, val=8.02487, took 45.414 s\n",
      "  Validation Found 51339 of 54504, added 2009 (eff 94.19%) (0.201 FP/event)\n"
     ]
    },
    {
     "data": {
      "application/vnd.jupyter.widget-view+json": {
       "model_id": "",
       "version_major": 2,
       "version_minor": 0
      },
      "text/plain": [
       "HBox(children=(FloatProgress(value=0.0, description='Training', layout=Layout(flex='2'), max=1250.0, style=Pro…"
      ]
     },
     "metadata": {},
     "output_type": "display_data"
    },
    {
     "name": "stdout",
     "output_type": "stream",
     "text": [
      "Epoch 876: train=7.13517, val=8.00056, took 45.42 s\n",
      "  Validation Found 51443 of 54504, added 2173 (eff 94.38%) (0.218 FP/event)\n"
     ]
    },
    {
     "data": {
      "application/vnd.jupyter.widget-view+json": {
       "model_id": "",
       "version_major": 2,
       "version_minor": 0
      },
      "text/plain": [
       "HBox(children=(FloatProgress(value=0.0, description='Training', layout=Layout(flex='2'), max=1250.0, style=Pro…"
      ]
     },
     "metadata": {},
     "output_type": "display_data"
    },
    {
     "name": "stdout",
     "output_type": "stream",
     "text": [
      "Epoch 877: train=7.13227, val=8.07662, took 45.432 s\n",
      "  Validation Found 51425 of 54504, added 2163 (eff 94.35%) (0.217 FP/event)\n"
     ]
    },
    {
     "data": {
      "application/vnd.jupyter.widget-view+json": {
       "model_id": "",
       "version_major": 2,
       "version_minor": 0
      },
      "text/plain": [
       "HBox(children=(FloatProgress(value=0.0, description='Training', layout=Layout(flex='2'), max=1250.0, style=Pro…"
      ]
     },
     "metadata": {},
     "output_type": "display_data"
    },
    {
     "name": "stdout",
     "output_type": "stream",
     "text": [
      "Epoch 878: train=7.13321, val=8.06759, took 45.427 s\n",
      "  Validation Found 51361 of 54504, added 2027 (eff 94.23%) (0.203 FP/event)\n"
     ]
    },
    {
     "data": {
      "application/vnd.jupyter.widget-view+json": {
       "model_id": "",
       "version_major": 2,
       "version_minor": 0
      },
      "text/plain": [
       "HBox(children=(FloatProgress(value=0.0, description='Training', layout=Layout(flex='2'), max=1250.0, style=Pro…"
      ]
     },
     "metadata": {},
     "output_type": "display_data"
    },
    {
     "name": "stdout",
     "output_type": "stream",
     "text": [
      "Epoch 879: train=7.13204, val=8.07794, took 45.398 s\n",
      "  Validation Found 51316 of 54504, added 1994 (eff 94.15%) (0.2 FP/event)\n"
     ]
    },
    {
     "data": {
      "application/vnd.jupyter.widget-view+json": {
       "model_id": "",
       "version_major": 2,
       "version_minor": 0
      },
      "text/plain": [
       "HBox(children=(FloatProgress(value=0.0, description='Training', layout=Layout(flex='2'), max=1250.0, style=Pro…"
      ]
     },
     "metadata": {},
     "output_type": "display_data"
    },
    {
     "name": "stdout",
     "output_type": "stream",
     "text": [
      "Epoch 880: train=7.13207, val=8.03144, took 45.393 s\n",
      "  Validation Found 51361 of 54504, added 2063 (eff 94.23%) (0.207 FP/event)\n"
     ]
    },
    {
     "data": {
      "application/vnd.jupyter.widget-view+json": {
       "model_id": "",
       "version_major": 2,
       "version_minor": 0
      },
      "text/plain": [
       "HBox(children=(FloatProgress(value=0.0, description='Training', layout=Layout(flex='2'), max=1250.0, style=Pro…"
      ]
     },
     "metadata": {},
     "output_type": "display_data"
    },
    {
     "name": "stdout",
     "output_type": "stream",
     "text": [
      "Epoch 881: train=7.13224, val=8.09622, took 45.422 s\n",
      "  Validation Found 51352 of 54504, added 2036 (eff 94.22%) (0.204 FP/event)\n"
     ]
    },
    {
     "data": {
      "application/vnd.jupyter.widget-view+json": {
       "model_id": "",
       "version_major": 2,
       "version_minor": 0
      },
      "text/plain": [
       "HBox(children=(FloatProgress(value=0.0, description='Training', layout=Layout(flex='2'), max=1250.0, style=Pro…"
      ]
     },
     "metadata": {},
     "output_type": "display_data"
    },
    {
     "name": "stdout",
     "output_type": "stream",
     "text": [
      "Epoch 882: train=7.13008, val=8.08638, took 45.403 s\n",
      "  Validation Found 51335 of 54504, added 2065 (eff 94.19%) (0.207 FP/event)\n"
     ]
    },
    {
     "data": {
      "application/vnd.jupyter.widget-view+json": {
       "model_id": "",
       "version_major": 2,
       "version_minor": 0
      },
      "text/plain": [
       "HBox(children=(FloatProgress(value=0.0, description='Training', layout=Layout(flex='2'), max=1250.0, style=Pro…"
      ]
     },
     "metadata": {},
     "output_type": "display_data"
    },
    {
     "name": "stdout",
     "output_type": "stream",
     "text": [
      "Epoch 883: train=7.13402, val=8.02405, took 45.41 s\n",
      "  Validation Found 51473 of 54504, added 2294 (eff 94.44%) (0.23 FP/event)\n"
     ]
    },
    {
     "data": {
      "application/vnd.jupyter.widget-view+json": {
       "model_id": "",
       "version_major": 2,
       "version_minor": 0
      },
      "text/plain": [
       "HBox(children=(FloatProgress(value=0.0, description='Training', layout=Layout(flex='2'), max=1250.0, style=Pro…"
      ]
     },
     "metadata": {},
     "output_type": "display_data"
    },
    {
     "name": "stdout",
     "output_type": "stream",
     "text": [
      "Epoch 884: train=7.13369, val=8.05979, took 45.407 s\n",
      "  Validation Found 51378 of 54504, added 2106 (eff 94.26%) (0.211 FP/event)\n"
     ]
    },
    {
     "data": {
      "application/vnd.jupyter.widget-view+json": {
       "model_id": "",
       "version_major": 2,
       "version_minor": 0
      },
      "text/plain": [
       "HBox(children=(FloatProgress(value=0.0, description='Training', layout=Layout(flex='2'), max=1250.0, style=Pro…"
      ]
     },
     "metadata": {},
     "output_type": "display_data"
    },
    {
     "name": "stdout",
     "output_type": "stream",
     "text": [
      "Epoch 885: train=7.13198, val=8.0862, took 45.401 s\n",
      "  Validation Found 51402 of 54504, added 2127 (eff 94.31%) (0.213 FP/event)\n"
     ]
    },
    {
     "data": {
      "application/vnd.jupyter.widget-view+json": {
       "model_id": "",
       "version_major": 2,
       "version_minor": 0
      },
      "text/plain": [
       "HBox(children=(FloatProgress(value=0.0, description='Training', layout=Layout(flex='2'), max=1250.0, style=Pro…"
      ]
     },
     "metadata": {},
     "output_type": "display_data"
    },
    {
     "name": "stdout",
     "output_type": "stream",
     "text": [
      "Epoch 886: train=7.13409, val=8.00866, took 45.403 s\n",
      "  Validation Found 51500 of 54504, added 2314 (eff 94.49%) (0.232 FP/event)\n"
     ]
    },
    {
     "data": {
      "application/vnd.jupyter.widget-view+json": {
       "model_id": "",
       "version_major": 2,
       "version_minor": 0
      },
      "text/plain": [
       "HBox(children=(FloatProgress(value=0.0, description='Training', layout=Layout(flex='2'), max=1250.0, style=Pro…"
      ]
     },
     "metadata": {},
     "output_type": "display_data"
    },
    {
     "name": "stdout",
     "output_type": "stream",
     "text": [
      "Epoch 887: train=7.13406, val=8.02309, took 45.407 s\n",
      "  Validation Found 51430 of 54504, added 2186 (eff 94.36%) (0.219 FP/event)\n"
     ]
    },
    {
     "data": {
      "application/vnd.jupyter.widget-view+json": {
       "model_id": "",
       "version_major": 2,
       "version_minor": 0
      },
      "text/plain": [
       "HBox(children=(FloatProgress(value=0.0, description='Training', layout=Layout(flex='2'), max=1250.0, style=Pro…"
      ]
     },
     "metadata": {},
     "output_type": "display_data"
    },
    {
     "name": "stdout",
     "output_type": "stream",
     "text": [
      "Epoch 888: train=7.13351, val=8.13667, took 45.456 s\n",
      "  Validation Found 51209 of 54504, added 1870 (eff 93.95%) (0.187 FP/event)\n"
     ]
    },
    {
     "data": {
      "application/vnd.jupyter.widget-view+json": {
       "model_id": "",
       "version_major": 2,
       "version_minor": 0
      },
      "text/plain": [
       "HBox(children=(FloatProgress(value=0.0, description='Training', layout=Layout(flex='2'), max=1250.0, style=Pro…"
      ]
     },
     "metadata": {},
     "output_type": "display_data"
    },
    {
     "name": "stdout",
     "output_type": "stream",
     "text": [
      "Epoch 889: train=7.12786, val=8.03461, took 45.46 s\n",
      "  Validation Found 51551 of 54504, added 2489 (eff 94.58%) (0.249 FP/event)\n"
     ]
    },
    {
     "data": {
      "application/vnd.jupyter.widget-view+json": {
       "model_id": "",
       "version_major": 2,
       "version_minor": 0
      },
      "text/plain": [
       "HBox(children=(FloatProgress(value=0.0, description='Training', layout=Layout(flex='2'), max=1250.0, style=Pro…"
      ]
     },
     "metadata": {},
     "output_type": "display_data"
    },
    {
     "name": "stdout",
     "output_type": "stream",
     "text": [
      "Epoch 890: train=7.13071, val=8.09511, took 45.474 s\n",
      "  Validation Found 51383 of 54504, added 2076 (eff 94.27%) (0.208 FP/event)\n"
     ]
    },
    {
     "data": {
      "application/vnd.jupyter.widget-view+json": {
       "model_id": "",
       "version_major": 2,
       "version_minor": 0
      },
      "text/plain": [
       "HBox(children=(FloatProgress(value=0.0, description='Training', layout=Layout(flex='2'), max=1250.0, style=Pro…"
      ]
     },
     "metadata": {},
     "output_type": "display_data"
    },
    {
     "name": "stdout",
     "output_type": "stream",
     "text": [
      "Epoch 891: train=7.13059, val=8.00323, took 45.47 s\n",
      "  Validation Found 51503 of 54504, added 2347 (eff 94.49%) (0.235 FP/event)\n"
     ]
    },
    {
     "data": {
      "application/vnd.jupyter.widget-view+json": {
       "model_id": "",
       "version_major": 2,
       "version_minor": 0
      },
      "text/plain": [
       "HBox(children=(FloatProgress(value=0.0, description='Training', layout=Layout(flex='2'), max=1250.0, style=Pro…"
      ]
     },
     "metadata": {},
     "output_type": "display_data"
    },
    {
     "name": "stdout",
     "output_type": "stream",
     "text": [
      "Epoch 892: train=7.12984, val=8.01138, took 45.457 s\n",
      "  Validation Found 51454 of 54504, added 2276 (eff 94.40%) (0.228 FP/event)\n"
     ]
    },
    {
     "data": {
      "application/vnd.jupyter.widget-view+json": {
       "model_id": "",
       "version_major": 2,
       "version_minor": 0
      },
      "text/plain": [
       "HBox(children=(FloatProgress(value=0.0, description='Training', layout=Layout(flex='2'), max=1250.0, style=Pro…"
      ]
     },
     "metadata": {},
     "output_type": "display_data"
    },
    {
     "name": "stdout",
     "output_type": "stream",
     "text": [
      "Epoch 893: train=7.13146, val=8.15467, took 44.481 s\n",
      "  Validation Found 51234 of 54504, added 1875 (eff 94.00%) (0.188 FP/event)\n"
     ]
    },
    {
     "data": {
      "application/vnd.jupyter.widget-view+json": {
       "model_id": "",
       "version_major": 2,
       "version_minor": 0
      },
      "text/plain": [
       "HBox(children=(FloatProgress(value=0.0, description='Training', layout=Layout(flex='2'), max=1250.0, style=Pro…"
      ]
     },
     "metadata": {},
     "output_type": "display_data"
    },
    {
     "name": "stdout",
     "output_type": "stream",
     "text": [
      "Epoch 894: train=7.13338, val=8.0804, took 44.44 s\n",
      "  Validation Found 51380 of 54504, added 2121 (eff 94.27%) (0.212 FP/event)\n"
     ]
    },
    {
     "data": {
      "application/vnd.jupyter.widget-view+json": {
       "model_id": "",
       "version_major": 2,
       "version_minor": 0
      },
      "text/plain": [
       "HBox(children=(FloatProgress(value=0.0, description='Training', layout=Layout(flex='2'), max=1250.0, style=Pro…"
      ]
     },
     "metadata": {},
     "output_type": "display_data"
    },
    {
     "name": "stdout",
     "output_type": "stream",
     "text": [
      "Epoch 895: train=7.12949, val=8.06263, took 44.85 s\n",
      "  Validation Found 51374 of 54504, added 2073 (eff 94.26%) (0.208 FP/event)\n"
     ]
    },
    {
     "data": {
      "application/vnd.jupyter.widget-view+json": {
       "model_id": "",
       "version_major": 2,
       "version_minor": 0
      },
      "text/plain": [
       "HBox(children=(FloatProgress(value=0.0, description='Training', layout=Layout(flex='2'), max=1250.0, style=Pro…"
      ]
     },
     "metadata": {},
     "output_type": "display_data"
    },
    {
     "name": "stdout",
     "output_type": "stream",
     "text": [
      "Epoch 896: train=7.12944, val=8.00647, took 45.382 s\n",
      "  Validation Found 51413 of 54504, added 2160 (eff 94.33%) (0.216 FP/event)\n"
     ]
    },
    {
     "data": {
      "application/vnd.jupyter.widget-view+json": {
       "model_id": "",
       "version_major": 2,
       "version_minor": 0
      },
      "text/plain": [
       "HBox(children=(FloatProgress(value=0.0, description='Training', layout=Layout(flex='2'), max=1250.0, style=Pro…"
      ]
     },
     "metadata": {},
     "output_type": "display_data"
    },
    {
     "name": "stdout",
     "output_type": "stream",
     "text": [
      "Epoch 897: train=7.13205, val=8.03371, took 45.395 s\n",
      "  Validation Found 51513 of 54504, added 2362 (eff 94.51%) (0.237 FP/event)\n"
     ]
    },
    {
     "data": {
      "application/vnd.jupyter.widget-view+json": {
       "model_id": "",
       "version_major": 2,
       "version_minor": 0
      },
      "text/plain": [
       "HBox(children=(FloatProgress(value=0.0, description='Training', layout=Layout(flex='2'), max=1250.0, style=Pro…"
      ]
     },
     "metadata": {},
     "output_type": "display_data"
    },
    {
     "name": "stdout",
     "output_type": "stream",
     "text": [
      "Epoch 898: train=7.12942, val=8.12091, took 45.394 s\n",
      "  Validation Found 51300 of 54504, added 1907 (eff 94.12%) (0.191 FP/event)\n"
     ]
    },
    {
     "data": {
      "application/vnd.jupyter.widget-view+json": {
       "model_id": "",
       "version_major": 2,
       "version_minor": 0
      },
      "text/plain": [
       "HBox(children=(FloatProgress(value=0.0, description='Training', layout=Layout(flex='2'), max=1250.0, style=Pro…"
      ]
     },
     "metadata": {},
     "output_type": "display_data"
    },
    {
     "name": "stdout",
     "output_type": "stream",
     "text": [
      "Epoch 899: train=7.12922, val=8.07959, took 45.393 s\n",
      "  Validation Found 51376 of 54504, added 2065 (eff 94.26%) (0.207 FP/event)\n"
     ]
    },
    {
     "data": {
      "application/vnd.jupyter.widget-view+json": {
       "model_id": "",
       "version_major": 2,
       "version_minor": 0
      },
      "text/plain": [
       "HBox(children=(FloatProgress(value=0.0, description='Training', layout=Layout(flex='2'), max=1250.0, style=Pro…"
      ]
     },
     "metadata": {},
     "output_type": "display_data"
    },
    {
     "name": "stdout",
     "output_type": "stream",
     "text": [
      "Epoch 900: train=7.12947, val=8.0218, took 45.395 s\n",
      "  Validation Found 51460 of 54504, added 2286 (eff 94.42%) (0.229 FP/event)\n"
     ]
    },
    {
     "data": {
      "application/vnd.jupyter.widget-view+json": {
       "model_id": "",
       "version_major": 2,
       "version_minor": 0
      },
      "text/plain": [
       "HBox(children=(FloatProgress(value=0.0, description='Training', layout=Layout(flex='2'), max=1250.0, style=Pro…"
      ]
     },
     "metadata": {},
     "output_type": "display_data"
    },
    {
     "name": "stdout",
     "output_type": "stream",
     "text": [
      "Epoch 901: train=7.12854, val=8.07301, took 45.397 s\n",
      "  Validation Found 51389 of 54504, added 2171 (eff 94.28%) (0.217 FP/event)\n"
     ]
    },
    {
     "data": {
      "application/vnd.jupyter.widget-view+json": {
       "model_id": "",
       "version_major": 2,
       "version_minor": 0
      },
      "text/plain": [
       "HBox(children=(FloatProgress(value=0.0, description='Training', layout=Layout(flex='2'), max=1250.0, style=Pro…"
      ]
     },
     "metadata": {},
     "output_type": "display_data"
    },
    {
     "name": "stdout",
     "output_type": "stream",
     "text": [
      "Epoch 902: train=7.13, val=8.11439, took 45.397 s\n",
      "  Validation Found 51295 of 54504, added 1946 (eff 94.11%) (0.195 FP/event)\n"
     ]
    },
    {
     "data": {
      "application/vnd.jupyter.widget-view+json": {
       "model_id": "",
       "version_major": 2,
       "version_minor": 0
      },
      "text/plain": [
       "HBox(children=(FloatProgress(value=0.0, description='Training', layout=Layout(flex='2'), max=1250.0, style=Pro…"
      ]
     },
     "metadata": {},
     "output_type": "display_data"
    },
    {
     "name": "stdout",
     "output_type": "stream",
     "text": [
      "Epoch 903: train=7.12995, val=8.08054, took 45.383 s\n",
      "  Validation Found 51331 of 54504, added 2055 (eff 94.18%) (0.206 FP/event)\n"
     ]
    },
    {
     "data": {
      "application/vnd.jupyter.widget-view+json": {
       "model_id": "",
       "version_major": 2,
       "version_minor": 0
      },
      "text/plain": [
       "HBox(children=(FloatProgress(value=0.0, description='Training', layout=Layout(flex='2'), max=1250.0, style=Pro…"
      ]
     },
     "metadata": {},
     "output_type": "display_data"
    },
    {
     "name": "stdout",
     "output_type": "stream",
     "text": [
      "Epoch 904: train=7.13138, val=8.06649, took 45.373 s\n",
      "  Validation Found 51362 of 54504, added 2052 (eff 94.24%) (0.206 FP/event)\n"
     ]
    },
    {
     "data": {
      "application/vnd.jupyter.widget-view+json": {
       "model_id": "",
       "version_major": 2,
       "version_minor": 0
      },
      "text/plain": [
       "HBox(children=(FloatProgress(value=0.0, description='Training', layout=Layout(flex='2'), max=1250.0, style=Pro…"
      ]
     },
     "metadata": {},
     "output_type": "display_data"
    },
    {
     "name": "stdout",
     "output_type": "stream",
     "text": [
      "Epoch 905: train=7.13217, val=8.05021, took 45.442 s\n",
      "  Validation Found 51329 of 54504, added 2033 (eff 94.17%) (0.204 FP/event)\n"
     ]
    },
    {
     "data": {
      "application/vnd.jupyter.widget-view+json": {
       "model_id": "",
       "version_major": 2,
       "version_minor": 0
      },
      "text/plain": [
       "HBox(children=(FloatProgress(value=0.0, description='Training', layout=Layout(flex='2'), max=1250.0, style=Pro…"
      ]
     },
     "metadata": {},
     "output_type": "display_data"
    },
    {
     "name": "stdout",
     "output_type": "stream",
     "text": [
      "Epoch 906: train=7.12927, val=8.03317, took 45.491 s\n",
      "  Validation Found 51355 of 54504, added 2045 (eff 94.22%) (0.205 FP/event)\n"
     ]
    },
    {
     "data": {
      "application/vnd.jupyter.widget-view+json": {
       "model_id": "",
       "version_major": 2,
       "version_minor": 0
      },
      "text/plain": [
       "HBox(children=(FloatProgress(value=0.0, description='Training', layout=Layout(flex='2'), max=1250.0, style=Pro…"
      ]
     },
     "metadata": {},
     "output_type": "display_data"
    },
    {
     "name": "stdout",
     "output_type": "stream",
     "text": [
      "Epoch 907: train=7.13325, val=8.06491, took 45.477 s\n",
      "  Validation Found 51340 of 54504, added 2031 (eff 94.19%) (0.203 FP/event)\n"
     ]
    },
    {
     "data": {
      "application/vnd.jupyter.widget-view+json": {
       "model_id": "",
       "version_major": 2,
       "version_minor": 0
      },
      "text/plain": [
       "HBox(children=(FloatProgress(value=0.0, description='Training', layout=Layout(flex='2'), max=1250.0, style=Pro…"
      ]
     },
     "metadata": {},
     "output_type": "display_data"
    },
    {
     "name": "stdout",
     "output_type": "stream",
     "text": [
      "Epoch 908: train=7.13151, val=8.00986, took 45.528 s\n",
      "  Validation Found 51406 of 54504, added 2098 (eff 94.32%) (0.21 FP/event)\n"
     ]
    },
    {
     "data": {
      "application/vnd.jupyter.widget-view+json": {
       "model_id": "",
       "version_major": 2,
       "version_minor": 0
      },
      "text/plain": [
       "HBox(children=(FloatProgress(value=0.0, description='Training', layout=Layout(flex='2'), max=1250.0, style=Pro…"
      ]
     },
     "metadata": {},
     "output_type": "display_data"
    },
    {
     "name": "stdout",
     "output_type": "stream",
     "text": [
      "Epoch 909: train=7.12987, val=8.01587, took 45.453 s\n",
      "  Validation Found 51482 of 54504, added 2295 (eff 94.46%) (0.23 FP/event)\n"
     ]
    },
    {
     "data": {
      "application/vnd.jupyter.widget-view+json": {
       "model_id": "",
       "version_major": 2,
       "version_minor": 0
      },
      "text/plain": [
       "HBox(children=(FloatProgress(value=0.0, description='Training', layout=Layout(flex='2'), max=1250.0, style=Pro…"
      ]
     },
     "metadata": {},
     "output_type": "display_data"
    },
    {
     "name": "stdout",
     "output_type": "stream",
     "text": [
      "Epoch 910: train=7.13056, val=8.01872, took 45.499 s\n",
      "  Validation Found 51480 of 54504, added 2353 (eff 94.45%) (0.236 FP/event)\n"
     ]
    },
    {
     "data": {
      "application/vnd.jupyter.widget-view+json": {
       "model_id": "",
       "version_major": 2,
       "version_minor": 0
      },
      "text/plain": [
       "HBox(children=(FloatProgress(value=0.0, description='Training', layout=Layout(flex='2'), max=1250.0, style=Pro…"
      ]
     },
     "metadata": {},
     "output_type": "display_data"
    },
    {
     "name": "stdout",
     "output_type": "stream",
     "text": [
      "Epoch 911: train=7.1264, val=8.06015, took 45.481 s\n",
      "  Validation Found 51330 of 54504, added 1971 (eff 94.18%) (0.197 FP/event)\n"
     ]
    },
    {
     "data": {
      "application/vnd.jupyter.widget-view+json": {
       "model_id": "",
       "version_major": 2,
       "version_minor": 0
      },
      "text/plain": [
       "HBox(children=(FloatProgress(value=0.0, description='Training', layout=Layout(flex='2'), max=1250.0, style=Pro…"
      ]
     },
     "metadata": {},
     "output_type": "display_data"
    },
    {
     "name": "stdout",
     "output_type": "stream",
     "text": [
      "Epoch 912: train=7.12857, val=8.08833, took 45.476 s\n",
      "  Validation Found 51326 of 54504, added 1980 (eff 94.17%) (0.198 FP/event)\n"
     ]
    },
    {
     "data": {
      "application/vnd.jupyter.widget-view+json": {
       "model_id": "",
       "version_major": 2,
       "version_minor": 0
      },
      "text/plain": [
       "HBox(children=(FloatProgress(value=0.0, description='Training', layout=Layout(flex='2'), max=1250.0, style=Pro…"
      ]
     },
     "metadata": {},
     "output_type": "display_data"
    },
    {
     "name": "stdout",
     "output_type": "stream",
     "text": [
      "Epoch 913: train=7.12981, val=8.11915, took 45.461 s\n",
      "  Validation Found 51286 of 54504, added 1940 (eff 94.10%) (0.194 FP/event)\n"
     ]
    },
    {
     "data": {
      "application/vnd.jupyter.widget-view+json": {
       "model_id": "",
       "version_major": 2,
       "version_minor": 0
      },
      "text/plain": [
       "HBox(children=(FloatProgress(value=0.0, description='Training', layout=Layout(flex='2'), max=1250.0, style=Pro…"
      ]
     },
     "metadata": {},
     "output_type": "display_data"
    },
    {
     "name": "stdout",
     "output_type": "stream",
     "text": [
      "Epoch 914: train=7.12679, val=8.09114, took 45.494 s\n",
      "  Validation Found 51278 of 54504, added 1893 (eff 94.08%) (0.19 FP/event)\n"
     ]
    },
    {
     "data": {
      "application/vnd.jupyter.widget-view+json": {
       "model_id": "",
       "version_major": 2,
       "version_minor": 0
      },
      "text/plain": [
       "HBox(children=(FloatProgress(value=0.0, description='Training', layout=Layout(flex='2'), max=1250.0, style=Pro…"
      ]
     },
     "metadata": {},
     "output_type": "display_data"
    },
    {
     "name": "stdout",
     "output_type": "stream",
     "text": [
      "Epoch 915: train=7.12925, val=8.10101, took 45.503 s\n",
      "  Validation Found 51349 of 54504, added 1990 (eff 94.21%) (0.199 FP/event)\n"
     ]
    },
    {
     "data": {
      "application/vnd.jupyter.widget-view+json": {
       "model_id": "",
       "version_major": 2,
       "version_minor": 0
      },
      "text/plain": [
       "HBox(children=(FloatProgress(value=0.0, description='Training', layout=Layout(flex='2'), max=1250.0, style=Pro…"
      ]
     },
     "metadata": {},
     "output_type": "display_data"
    },
    {
     "name": "stdout",
     "output_type": "stream",
     "text": [
      "Epoch 916: train=7.12886, val=8.03979, took 45.483 s\n",
      "  Validation Found 51377 of 54504, added 2137 (eff 94.26%) (0.214 FP/event)\n"
     ]
    },
    {
     "data": {
      "application/vnd.jupyter.widget-view+json": {
       "model_id": "",
       "version_major": 2,
       "version_minor": 0
      },
      "text/plain": [
       "HBox(children=(FloatProgress(value=0.0, description='Training', layout=Layout(flex='2'), max=1250.0, style=Pro…"
      ]
     },
     "metadata": {},
     "output_type": "display_data"
    },
    {
     "name": "stdout",
     "output_type": "stream",
     "text": [
      "Epoch 917: train=7.13003, val=8.01603, took 45.481 s\n",
      "  Validation Found 51453 of 54504, added 2216 (eff 94.40%) (0.222 FP/event)\n"
     ]
    },
    {
     "data": {
      "application/vnd.jupyter.widget-view+json": {
       "model_id": "",
       "version_major": 2,
       "version_minor": 0
      },
      "text/plain": [
       "HBox(children=(FloatProgress(value=0.0, description='Training', layout=Layout(flex='2'), max=1250.0, style=Pro…"
      ]
     },
     "metadata": {},
     "output_type": "display_data"
    },
    {
     "name": "stdout",
     "output_type": "stream",
     "text": [
      "Epoch 918: train=7.12991, val=8.09501, took 45.482 s\n",
      "  Validation Found 51412 of 54504, added 2153 (eff 94.33%) (0.216 FP/event)\n"
     ]
    },
    {
     "data": {
      "application/vnd.jupyter.widget-view+json": {
       "model_id": "",
       "version_major": 2,
       "version_minor": 0
      },
      "text/plain": [
       "HBox(children=(FloatProgress(value=0.0, description='Training', layout=Layout(flex='2'), max=1250.0, style=Pro…"
      ]
     },
     "metadata": {},
     "output_type": "display_data"
    },
    {
     "name": "stdout",
     "output_type": "stream",
     "text": [
      "Epoch 919: train=7.12887, val=8.02051, took 45.469 s\n",
      "  Validation Found 51454 of 54504, added 2167 (eff 94.40%) (0.217 FP/event)\n"
     ]
    },
    {
     "data": {
      "application/vnd.jupyter.widget-view+json": {
       "model_id": "",
       "version_major": 2,
       "version_minor": 0
      },
      "text/plain": [
       "HBox(children=(FloatProgress(value=0.0, description='Training', layout=Layout(flex='2'), max=1250.0, style=Pro…"
      ]
     },
     "metadata": {},
     "output_type": "display_data"
    },
    {
     "name": "stdout",
     "output_type": "stream",
     "text": [
      "Epoch 920: train=7.12983, val=8.13651, took 45.496 s\n",
      "  Validation Found 51232 of 54504, added 1820 (eff 94.00%) (0.182 FP/event)\n"
     ]
    },
    {
     "data": {
      "application/vnd.jupyter.widget-view+json": {
       "model_id": "",
       "version_major": 2,
       "version_minor": 0
      },
      "text/plain": [
       "HBox(children=(FloatProgress(value=0.0, description='Training', layout=Layout(flex='2'), max=1250.0, style=Pro…"
      ]
     },
     "metadata": {},
     "output_type": "display_data"
    },
    {
     "name": "stdout",
     "output_type": "stream",
     "text": [
      "Epoch 921: train=7.12987, val=8.06928, took 45.492 s\n",
      "  Validation Found 51427 of 54504, added 2170 (eff 94.35%) (0.217 FP/event)\n"
     ]
    },
    {
     "data": {
      "application/vnd.jupyter.widget-view+json": {
       "model_id": "",
       "version_major": 2,
       "version_minor": 0
      },
      "text/plain": [
       "HBox(children=(FloatProgress(value=0.0, description='Training', layout=Layout(flex='2'), max=1250.0, style=Pro…"
      ]
     },
     "metadata": {},
     "output_type": "display_data"
    },
    {
     "name": "stdout",
     "output_type": "stream",
     "text": [
      "Epoch 922: train=7.1323, val=7.97425, took 45.488 s\n",
      "  Validation Found 51482 of 54504, added 2329 (eff 94.46%) (0.233 FP/event)\n"
     ]
    },
    {
     "data": {
      "application/vnd.jupyter.widget-view+json": {
       "model_id": "",
       "version_major": 2,
       "version_minor": 0
      },
      "text/plain": [
       "HBox(children=(FloatProgress(value=0.0, description='Training', layout=Layout(flex='2'), max=1250.0, style=Pro…"
      ]
     },
     "metadata": {},
     "output_type": "display_data"
    },
    {
     "name": "stdout",
     "output_type": "stream",
     "text": [
      "Epoch 923: train=7.13015, val=8.02497, took 45.434 s\n",
      "  Validation Found 51549 of 54504, added 2383 (eff 94.58%) (0.239 FP/event)\n"
     ]
    },
    {
     "data": {
      "application/vnd.jupyter.widget-view+json": {
       "model_id": "",
       "version_major": 2,
       "version_minor": 0
      },
      "text/plain": [
       "HBox(children=(FloatProgress(value=0.0, description='Training', layout=Layout(flex='2'), max=1250.0, style=Pro…"
      ]
     },
     "metadata": {},
     "output_type": "display_data"
    },
    {
     "name": "stdout",
     "output_type": "stream",
     "text": [
      "Epoch 924: train=7.12854, val=8.04558, took 45.492 s\n",
      "  Validation Found 51369 of 54504, added 2101 (eff 94.25%) (0.21 FP/event)\n"
     ]
    },
    {
     "data": {
      "application/vnd.jupyter.widget-view+json": {
       "model_id": "",
       "version_major": 2,
       "version_minor": 0
      },
      "text/plain": [
       "HBox(children=(FloatProgress(value=0.0, description='Training', layout=Layout(flex='2'), max=1250.0, style=Pro…"
      ]
     },
     "metadata": {},
     "output_type": "display_data"
    },
    {
     "name": "stdout",
     "output_type": "stream",
     "text": [
      "Epoch 925: train=7.12904, val=8.08309, took 45.454 s\n",
      "  Validation Found 51268 of 54504, added 1968 (eff 94.06%) (0.197 FP/event)\n"
     ]
    },
    {
     "data": {
      "application/vnd.jupyter.widget-view+json": {
       "model_id": "",
       "version_major": 2,
       "version_minor": 0
      },
      "text/plain": [
       "HBox(children=(FloatProgress(value=0.0, description='Training', layout=Layout(flex='2'), max=1250.0, style=Pro…"
      ]
     },
     "metadata": {},
     "output_type": "display_data"
    },
    {
     "name": "stdout",
     "output_type": "stream",
     "text": [
      "Epoch 926: train=7.12985, val=8.08914, took 45.496 s\n",
      "  Validation Found 51321 of 54504, added 1990 (eff 94.16%) (0.199 FP/event)\n"
     ]
    },
    {
     "data": {
      "application/vnd.jupyter.widget-view+json": {
       "model_id": "",
       "version_major": 2,
       "version_minor": 0
      },
      "text/plain": [
       "HBox(children=(FloatProgress(value=0.0, description='Training', layout=Layout(flex='2'), max=1250.0, style=Pro…"
      ]
     },
     "metadata": {},
     "output_type": "display_data"
    },
    {
     "name": "stdout",
     "output_type": "stream",
     "text": [
      "Epoch 927: train=7.12926, val=8.04766, took 45.439 s\n",
      "  Validation Found 51365 of 54504, added 2031 (eff 94.24%) (0.203 FP/event)\n"
     ]
    },
    {
     "data": {
      "application/vnd.jupyter.widget-view+json": {
       "model_id": "",
       "version_major": 2,
       "version_minor": 0
      },
      "text/plain": [
       "HBox(children=(FloatProgress(value=0.0, description='Training', layout=Layout(flex='2'), max=1250.0, style=Pro…"
      ]
     },
     "metadata": {},
     "output_type": "display_data"
    },
    {
     "name": "stdout",
     "output_type": "stream",
     "text": [
      "Epoch 928: train=7.13027, val=8.09706, took 45.438 s\n",
      "  Validation Found 51397 of 54504, added 2064 (eff 94.30%) (0.207 FP/event)\n"
     ]
    },
    {
     "data": {
      "application/vnd.jupyter.widget-view+json": {
       "model_id": "",
       "version_major": 2,
       "version_minor": 0
      },
      "text/plain": [
       "HBox(children=(FloatProgress(value=0.0, description='Training', layout=Layout(flex='2'), max=1250.0, style=Pro…"
      ]
     },
     "metadata": {},
     "output_type": "display_data"
    },
    {
     "name": "stdout",
     "output_type": "stream",
     "text": [
      "Epoch 929: train=7.12632, val=8.07791, took 45.433 s\n",
      "  Validation Found 51383 of 54504, added 2099 (eff 94.27%) (0.21 FP/event)\n"
     ]
    },
    {
     "data": {
      "application/vnd.jupyter.widget-view+json": {
       "model_id": "",
       "version_major": 2,
       "version_minor": 0
      },
      "text/plain": [
       "HBox(children=(FloatProgress(value=0.0, description='Training', layout=Layout(flex='2'), max=1250.0, style=Pro…"
      ]
     },
     "metadata": {},
     "output_type": "display_data"
    },
    {
     "name": "stdout",
     "output_type": "stream",
     "text": [
      "Epoch 930: train=7.13047, val=8.06434, took 45.445 s\n",
      "  Validation Found 51325 of 54504, added 2017 (eff 94.17%) (0.202 FP/event)\n"
     ]
    },
    {
     "data": {
      "application/vnd.jupyter.widget-view+json": {
       "model_id": "",
       "version_major": 2,
       "version_minor": 0
      },
      "text/plain": [
       "HBox(children=(FloatProgress(value=0.0, description='Training', layout=Layout(flex='2'), max=1250.0, style=Pro…"
      ]
     },
     "metadata": {},
     "output_type": "display_data"
    },
    {
     "name": "stdout",
     "output_type": "stream",
     "text": [
      "Epoch 931: train=7.12842, val=8.04949, took 45.468 s\n",
      "  Validation Found 51458 of 54504, added 2217 (eff 94.41%) (0.222 FP/event)\n"
     ]
    },
    {
     "data": {
      "application/vnd.jupyter.widget-view+json": {
       "model_id": "",
       "version_major": 2,
       "version_minor": 0
      },
      "text/plain": [
       "HBox(children=(FloatProgress(value=0.0, description='Training', layout=Layout(flex='2'), max=1250.0, style=Pro…"
      ]
     },
     "metadata": {},
     "output_type": "display_data"
    },
    {
     "name": "stdout",
     "output_type": "stream",
     "text": [
      "Epoch 932: train=7.12887, val=8.01134, took 45.339 s\n",
      "  Validation Found 51439 of 54504, added 2180 (eff 94.38%) (0.218 FP/event)\n"
     ]
    },
    {
     "data": {
      "application/vnd.jupyter.widget-view+json": {
       "model_id": "",
       "version_major": 2,
       "version_minor": 0
      },
      "text/plain": [
       "HBox(children=(FloatProgress(value=0.0, description='Training', layout=Layout(flex='2'), max=1250.0, style=Pro…"
      ]
     },
     "metadata": {},
     "output_type": "display_data"
    },
    {
     "name": "stdout",
     "output_type": "stream",
     "text": [
      "Epoch 933: train=7.12732, val=7.9879, took 45.332 s\n",
      "  Validation Found 51535 of 54504, added 2348 (eff 94.55%) (0.235 FP/event)\n"
     ]
    },
    {
     "data": {
      "application/vnd.jupyter.widget-view+json": {
       "model_id": "",
       "version_major": 2,
       "version_minor": 0
      },
      "text/plain": [
       "HBox(children=(FloatProgress(value=0.0, description='Training', layout=Layout(flex='2'), max=1250.0, style=Pro…"
      ]
     },
     "metadata": {},
     "output_type": "display_data"
    },
    {
     "name": "stdout",
     "output_type": "stream",
     "text": [
      "Epoch 934: train=7.12765, val=8.12688, took 45.344 s\n",
      "  Validation Found 51358 of 54504, added 2160 (eff 94.23%) (0.216 FP/event)\n"
     ]
    },
    {
     "data": {
      "application/vnd.jupyter.widget-view+json": {
       "model_id": "",
       "version_major": 2,
       "version_minor": 0
      },
      "text/plain": [
       "HBox(children=(FloatProgress(value=0.0, description='Training', layout=Layout(flex='2'), max=1250.0, style=Pro…"
      ]
     },
     "metadata": {},
     "output_type": "display_data"
    },
    {
     "name": "stdout",
     "output_type": "stream",
     "text": [
      "Epoch 935: train=7.12883, val=8.01617, took 45.375 s\n",
      "  Validation Found 51441 of 54504, added 2187 (eff 94.38%) (0.219 FP/event)\n"
     ]
    },
    {
     "data": {
      "application/vnd.jupyter.widget-view+json": {
       "model_id": "",
       "version_major": 2,
       "version_minor": 0
      },
      "text/plain": [
       "HBox(children=(FloatProgress(value=0.0, description='Training', layout=Layout(flex='2'), max=1250.0, style=Pro…"
      ]
     },
     "metadata": {},
     "output_type": "display_data"
    },
    {
     "name": "stdout",
     "output_type": "stream",
     "text": [
      "Epoch 936: train=7.1276, val=8.05624, took 45.745 s\n",
      "  Validation Found 51266 of 54504, added 1905 (eff 94.06%) (0.191 FP/event)\n"
     ]
    },
    {
     "data": {
      "application/vnd.jupyter.widget-view+json": {
       "model_id": "",
       "version_major": 2,
       "version_minor": 0
      },
      "text/plain": [
       "HBox(children=(FloatProgress(value=0.0, description='Training', layout=Layout(flex='2'), max=1250.0, style=Pro…"
      ]
     },
     "metadata": {},
     "output_type": "display_data"
    },
    {
     "name": "stdout",
     "output_type": "stream",
     "text": [
      "Epoch 937: train=7.12742, val=8.02368, took 45.501 s\n",
      "  Validation Found 51308 of 54504, added 1968 (eff 94.14%) (0.197 FP/event)\n"
     ]
    },
    {
     "data": {
      "application/vnd.jupyter.widget-view+json": {
       "model_id": "",
       "version_major": 2,
       "version_minor": 0
      },
      "text/plain": [
       "HBox(children=(FloatProgress(value=0.0, description='Training', layout=Layout(flex='2'), max=1250.0, style=Pro…"
      ]
     },
     "metadata": {},
     "output_type": "display_data"
    },
    {
     "name": "stdout",
     "output_type": "stream",
     "text": [
      "Epoch 938: train=7.12668, val=8.04094, took 45.466 s\n",
      "  Validation Found 51429 of 54504, added 2123 (eff 94.36%) (0.213 FP/event)\n"
     ]
    },
    {
     "data": {
      "application/vnd.jupyter.widget-view+json": {
       "model_id": "",
       "version_major": 2,
       "version_minor": 0
      },
      "text/plain": [
       "HBox(children=(FloatProgress(value=0.0, description='Training', layout=Layout(flex='2'), max=1250.0, style=Pro…"
      ]
     },
     "metadata": {},
     "output_type": "display_data"
    },
    {
     "name": "stdout",
     "output_type": "stream",
     "text": [
      "Epoch 939: train=7.12963, val=8.02013, took 45.492 s\n",
      "  Validation Found 51469 of 54504, added 2244 (eff 94.43%) (0.225 FP/event)\n"
     ]
    },
    {
     "data": {
      "application/vnd.jupyter.widget-view+json": {
       "model_id": "",
       "version_major": 2,
       "version_minor": 0
      },
      "text/plain": [
       "HBox(children=(FloatProgress(value=0.0, description='Training', layout=Layout(flex='2'), max=1250.0, style=Pro…"
      ]
     },
     "metadata": {},
     "output_type": "display_data"
    },
    {
     "name": "stdout",
     "output_type": "stream",
     "text": [
      "Epoch 940: train=7.1273, val=8.13979, took 45.502 s\n",
      "  Validation Found 51271 of 54504, added 1913 (eff 94.07%) (0.192 FP/event)\n"
     ]
    },
    {
     "data": {
      "application/vnd.jupyter.widget-view+json": {
       "model_id": "",
       "version_major": 2,
       "version_minor": 0
      },
      "text/plain": [
       "HBox(children=(FloatProgress(value=0.0, description='Training', layout=Layout(flex='2'), max=1250.0, style=Pro…"
      ]
     },
     "metadata": {},
     "output_type": "display_data"
    },
    {
     "name": "stdout",
     "output_type": "stream",
     "text": [
      "Epoch 941: train=7.12467, val=8.08009, took 45.437 s\n",
      "  Validation Found 51344 of 54504, added 2045 (eff 94.20%) (0.205 FP/event)\n"
     ]
    },
    {
     "data": {
      "application/vnd.jupyter.widget-view+json": {
       "model_id": "",
       "version_major": 2,
       "version_minor": 0
      },
      "text/plain": [
       "HBox(children=(FloatProgress(value=0.0, description='Training', layout=Layout(flex='2'), max=1250.0, style=Pro…"
      ]
     },
     "metadata": {},
     "output_type": "display_data"
    },
    {
     "name": "stdout",
     "output_type": "stream",
     "text": [
      "Epoch 942: train=7.12808, val=8.02726, took 45.42 s\n",
      "  Validation Found 51473 of 54504, added 2289 (eff 94.44%) (0.229 FP/event)\n"
     ]
    },
    {
     "data": {
      "application/vnd.jupyter.widget-view+json": {
       "model_id": "",
       "version_major": 2,
       "version_minor": 0
      },
      "text/plain": [
       "HBox(children=(FloatProgress(value=0.0, description='Training', layout=Layout(flex='2'), max=1250.0, style=Pro…"
      ]
     },
     "metadata": {},
     "output_type": "display_data"
    },
    {
     "name": "stdout",
     "output_type": "stream",
     "text": [
      "Epoch 943: train=7.12596, val=8.09055, took 45.421 s\n",
      "  Validation Found 51344 of 54504, added 2084 (eff 94.20%) (0.209 FP/event)\n"
     ]
    },
    {
     "data": {
      "application/vnd.jupyter.widget-view+json": {
       "model_id": "",
       "version_major": 2,
       "version_minor": 0
      },
      "text/plain": [
       "HBox(children=(FloatProgress(value=0.0, description='Training', layout=Layout(flex='2'), max=1250.0, style=Pro…"
      ]
     },
     "metadata": {},
     "output_type": "display_data"
    },
    {
     "name": "stdout",
     "output_type": "stream",
     "text": [
      "Epoch 944: train=7.12611, val=8.06332, took 45.392 s\n",
      "  Validation Found 51367 of 54504, added 2064 (eff 94.24%) (0.207 FP/event)\n"
     ]
    },
    {
     "data": {
      "application/vnd.jupyter.widget-view+json": {
       "model_id": "",
       "version_major": 2,
       "version_minor": 0
      },
      "text/plain": [
       "HBox(children=(FloatProgress(value=0.0, description='Training', layout=Layout(flex='2'), max=1250.0, style=Pro…"
      ]
     },
     "metadata": {},
     "output_type": "display_data"
    },
    {
     "name": "stdout",
     "output_type": "stream",
     "text": [
      "Epoch 945: train=7.1255, val=8.0394, took 45.456 s\n",
      "  Validation Found 51427 of 54504, added 2166 (eff 94.35%) (0.217 FP/event)\n"
     ]
    },
    {
     "data": {
      "application/vnd.jupyter.widget-view+json": {
       "model_id": "",
       "version_major": 2,
       "version_minor": 0
      },
      "text/plain": [
       "HBox(children=(FloatProgress(value=0.0, description='Training', layout=Layout(flex='2'), max=1250.0, style=Pro…"
      ]
     },
     "metadata": {},
     "output_type": "display_data"
    },
    {
     "name": "stdout",
     "output_type": "stream",
     "text": [
      "Epoch 946: train=7.12504, val=8.00121, took 45.399 s\n",
      "  Validation Found 51496 of 54504, added 2332 (eff 94.48%) (0.234 FP/event)\n"
     ]
    },
    {
     "data": {
      "application/vnd.jupyter.widget-view+json": {
       "model_id": "",
       "version_major": 2,
       "version_minor": 0
      },
      "text/plain": [
       "HBox(children=(FloatProgress(value=0.0, description='Training', layout=Layout(flex='2'), max=1250.0, style=Pro…"
      ]
     },
     "metadata": {},
     "output_type": "display_data"
    },
    {
     "name": "stdout",
     "output_type": "stream",
     "text": [
      "Epoch 947: train=7.12486, val=8.09955, took 45.433 s\n",
      "  Validation Found 51303 of 54504, added 1943 (eff 94.13%) (0.195 FP/event)\n"
     ]
    },
    {
     "data": {
      "application/vnd.jupyter.widget-view+json": {
       "model_id": "",
       "version_major": 2,
       "version_minor": 0
      },
      "text/plain": [
       "HBox(children=(FloatProgress(value=0.0, description='Training', layout=Layout(flex='2'), max=1250.0, style=Pro…"
      ]
     },
     "metadata": {},
     "output_type": "display_data"
    },
    {
     "name": "stdout",
     "output_type": "stream",
     "text": [
      "Epoch 948: train=7.12793, val=8.0213, took 45.552 s\n",
      "  Validation Found 51387 of 54504, added 2096 (eff 94.28%) (0.21 FP/event)\n"
     ]
    },
    {
     "data": {
      "application/vnd.jupyter.widget-view+json": {
       "model_id": "",
       "version_major": 2,
       "version_minor": 0
      },
      "text/plain": [
       "HBox(children=(FloatProgress(value=0.0, description='Training', layout=Layout(flex='2'), max=1250.0, style=Pro…"
      ]
     },
     "metadata": {},
     "output_type": "display_data"
    },
    {
     "name": "stdout",
     "output_type": "stream",
     "text": [
      "Epoch 949: train=7.12509, val=8.04941, took 45.738 s\n",
      "  Validation Found 51466 of 54504, added 2223 (eff 94.43%) (0.223 FP/event)\n"
     ]
    },
    {
     "data": {
      "application/vnd.jupyter.widget-view+json": {
       "model_id": "",
       "version_major": 2,
       "version_minor": 0
      },
      "text/plain": [
       "HBox(children=(FloatProgress(value=0.0, description='Training', layout=Layout(flex='2'), max=1250.0, style=Pro…"
      ]
     },
     "metadata": {},
     "output_type": "display_data"
    },
    {
     "name": "stdout",
     "output_type": "stream",
     "text": [
      "Epoch 950: train=7.12776, val=8.12935, took 45.409 s\n",
      "  Validation Found 51311 of 54504, added 1961 (eff 94.14%) (0.196 FP/event)\n"
     ]
    },
    {
     "data": {
      "application/vnd.jupyter.widget-view+json": {
       "model_id": "",
       "version_major": 2,
       "version_minor": 0
      },
      "text/plain": [
       "HBox(children=(FloatProgress(value=0.0, description='Training', layout=Layout(flex='2'), max=1250.0, style=Pro…"
      ]
     },
     "metadata": {},
     "output_type": "display_data"
    },
    {
     "name": "stdout",
     "output_type": "stream",
     "text": [
      "Epoch 951: train=7.12412, val=8.07984, took 45.456 s\n",
      "  Validation Found 51280 of 54504, added 1983 (eff 94.08%) (0.199 FP/event)\n"
     ]
    },
    {
     "data": {
      "application/vnd.jupyter.widget-view+json": {
       "model_id": "",
       "version_major": 2,
       "version_minor": 0
      },
      "text/plain": [
       "HBox(children=(FloatProgress(value=0.0, description='Training', layout=Layout(flex='2'), max=1250.0, style=Pro…"
      ]
     },
     "metadata": {},
     "output_type": "display_data"
    },
    {
     "name": "stdout",
     "output_type": "stream",
     "text": [
      "Epoch 952: train=7.13019, val=7.99077, took 45.428 s\n",
      "  Validation Found 51463 of 54504, added 2205 (eff 94.42%) (0.221 FP/event)\n"
     ]
    },
    {
     "data": {
      "application/vnd.jupyter.widget-view+json": {
       "model_id": "",
       "version_major": 2,
       "version_minor": 0
      },
      "text/plain": [
       "HBox(children=(FloatProgress(value=0.0, description='Training', layout=Layout(flex='2'), max=1250.0, style=Pro…"
      ]
     },
     "metadata": {},
     "output_type": "display_data"
    },
    {
     "name": "stdout",
     "output_type": "stream",
     "text": [
      "Epoch 953: train=7.12525, val=8.03748, took 45.449 s\n",
      "  Validation Found 51523 of 54504, added 2350 (eff 94.53%) (0.235 FP/event)\n"
     ]
    },
    {
     "data": {
      "application/vnd.jupyter.widget-view+json": {
       "model_id": "",
       "version_major": 2,
       "version_minor": 0
      },
      "text/plain": [
       "HBox(children=(FloatProgress(value=0.0, description='Training', layout=Layout(flex='2'), max=1250.0, style=Pro…"
      ]
     },
     "metadata": {},
     "output_type": "display_data"
    },
    {
     "name": "stdout",
     "output_type": "stream",
     "text": [
      "Epoch 954: train=7.12563, val=8.02208, took 45.4 s\n",
      "  Validation Found 51412 of 54504, added 2149 (eff 94.33%) (0.215 FP/event)\n"
     ]
    },
    {
     "data": {
      "application/vnd.jupyter.widget-view+json": {
       "model_id": "",
       "version_major": 2,
       "version_minor": 0
      },
      "text/plain": [
       "HBox(children=(FloatProgress(value=0.0, description='Training', layout=Layout(flex='2'), max=1250.0, style=Pro…"
      ]
     },
     "metadata": {},
     "output_type": "display_data"
    },
    {
     "name": "stdout",
     "output_type": "stream",
     "text": [
      "Epoch 955: train=7.12463, val=8.07619, took 45.44 s\n",
      "  Validation Found 51416 of 54504, added 2190 (eff 94.33%) (0.219 FP/event)\n"
     ]
    },
    {
     "data": {
      "application/vnd.jupyter.widget-view+json": {
       "model_id": "",
       "version_major": 2,
       "version_minor": 0
      },
      "text/plain": [
       "HBox(children=(FloatProgress(value=0.0, description='Training', layout=Layout(flex='2'), max=1250.0, style=Pro…"
      ]
     },
     "metadata": {},
     "output_type": "display_data"
    },
    {
     "name": "stdout",
     "output_type": "stream",
     "text": [
      "Epoch 956: train=7.12481, val=8.0718, took 45.383 s\n",
      "  Validation Found 51326 of 54504, added 1997 (eff 94.17%) (0.2 FP/event)\n"
     ]
    },
    {
     "data": {
      "application/vnd.jupyter.widget-view+json": {
       "model_id": "",
       "version_major": 2,
       "version_minor": 0
      },
      "text/plain": [
       "HBox(children=(FloatProgress(value=0.0, description='Training', layout=Layout(flex='2'), max=1250.0, style=Pro…"
      ]
     },
     "metadata": {},
     "output_type": "display_data"
    },
    {
     "name": "stdout",
     "output_type": "stream",
     "text": [
      "Epoch 957: train=7.12593, val=8.04201, took 45.46 s\n",
      "  Validation Found 51525 of 54504, added 2370 (eff 94.53%) (0.237 FP/event)\n"
     ]
    },
    {
     "data": {
      "application/vnd.jupyter.widget-view+json": {
       "model_id": "",
       "version_major": 2,
       "version_minor": 0
      },
      "text/plain": [
       "HBox(children=(FloatProgress(value=0.0, description='Training', layout=Layout(flex='2'), max=1250.0, style=Pro…"
      ]
     },
     "metadata": {},
     "output_type": "display_data"
    },
    {
     "name": "stdout",
     "output_type": "stream",
     "text": [
      "Epoch 958: train=7.12498, val=8.05871, took 45.479 s\n",
      "  Validation Found 51356 of 54504, added 2110 (eff 94.22%) (0.211 FP/event)\n"
     ]
    },
    {
     "data": {
      "application/vnd.jupyter.widget-view+json": {
       "model_id": "",
       "version_major": 2,
       "version_minor": 0
      },
      "text/plain": [
       "HBox(children=(FloatProgress(value=0.0, description='Training', layout=Layout(flex='2'), max=1250.0, style=Pro…"
      ]
     },
     "metadata": {},
     "output_type": "display_data"
    },
    {
     "name": "stdout",
     "output_type": "stream",
     "text": [
      "Epoch 959: train=7.12688, val=8.07667, took 45.45 s\n",
      "  Validation Found 51308 of 54504, added 1981 (eff 94.14%) (0.198 FP/event)\n"
     ]
    },
    {
     "data": {
      "application/vnd.jupyter.widget-view+json": {
       "model_id": "",
       "version_major": 2,
       "version_minor": 0
      },
      "text/plain": [
       "HBox(children=(FloatProgress(value=0.0, description='Training', layout=Layout(flex='2'), max=1250.0, style=Pro…"
      ]
     },
     "metadata": {},
     "output_type": "display_data"
    },
    {
     "name": "stdout",
     "output_type": "stream",
     "text": [
      "Epoch 960: train=7.12547, val=8.04958, took 45.488 s\n",
      "  Validation Found 51375 of 54504, added 2079 (eff 94.26%) (0.208 FP/event)\n"
     ]
    },
    {
     "data": {
      "application/vnd.jupyter.widget-view+json": {
       "model_id": "",
       "version_major": 2,
       "version_minor": 0
      },
      "text/plain": [
       "HBox(children=(FloatProgress(value=0.0, description='Training', layout=Layout(flex='2'), max=1250.0, style=Pro…"
      ]
     },
     "metadata": {},
     "output_type": "display_data"
    },
    {
     "name": "stdout",
     "output_type": "stream",
     "text": [
      "Epoch 961: train=7.12781, val=8.07053, took 45.551 s\n",
      "  Validation Found 51312 of 54504, added 1995 (eff 94.14%) (0.2 FP/event)\n"
     ]
    },
    {
     "data": {
      "application/vnd.jupyter.widget-view+json": {
       "model_id": "",
       "version_major": 2,
       "version_minor": 0
      },
      "text/plain": [
       "HBox(children=(FloatProgress(value=0.0, description='Training', layout=Layout(flex='2'), max=1250.0, style=Pro…"
      ]
     },
     "metadata": {},
     "output_type": "display_data"
    },
    {
     "name": "stdout",
     "output_type": "stream",
     "text": [
      "Epoch 962: train=7.1241, val=8.01235, took 45.458 s\n",
      "  Validation Found 51529 of 54504, added 2451 (eff 94.54%) (0.245 FP/event)\n"
     ]
    },
    {
     "data": {
      "application/vnd.jupyter.widget-view+json": {
       "model_id": "",
       "version_major": 2,
       "version_minor": 0
      },
      "text/plain": [
       "HBox(children=(FloatProgress(value=0.0, description='Training', layout=Layout(flex='2'), max=1250.0, style=Pro…"
      ]
     },
     "metadata": {},
     "output_type": "display_data"
    },
    {
     "name": "stdout",
     "output_type": "stream",
     "text": [
      "Epoch 963: train=7.12453, val=7.98985, took 45.465 s\n",
      "  Validation Found 51411 of 54504, added 2151 (eff 94.33%) (0.215 FP/event)\n"
     ]
    },
    {
     "data": {
      "application/vnd.jupyter.widget-view+json": {
       "model_id": "",
       "version_major": 2,
       "version_minor": 0
      },
      "text/plain": [
       "HBox(children=(FloatProgress(value=0.0, description='Training', layout=Layout(flex='2'), max=1250.0, style=Pro…"
      ]
     },
     "metadata": {},
     "output_type": "display_data"
    },
    {
     "name": "stdout",
     "output_type": "stream",
     "text": [
      "Epoch 964: train=7.1273, val=8.08383, took 45.473 s\n",
      "  Validation Found 51263 of 54504, added 1951 (eff 94.05%) (0.195 FP/event)\n"
     ]
    },
    {
     "data": {
      "application/vnd.jupyter.widget-view+json": {
       "model_id": "",
       "version_major": 2,
       "version_minor": 0
      },
      "text/plain": [
       "HBox(children=(FloatProgress(value=0.0, description='Training', layout=Layout(flex='2'), max=1250.0, style=Pro…"
      ]
     },
     "metadata": {},
     "output_type": "display_data"
    },
    {
     "name": "stdout",
     "output_type": "stream",
     "text": [
      "Epoch 965: train=7.12222, val=8.04833, took 45.515 s\n",
      "  Validation Found 51325 of 54504, added 2005 (eff 94.17%) (0.201 FP/event)\n"
     ]
    },
    {
     "data": {
      "application/vnd.jupyter.widget-view+json": {
       "model_id": "",
       "version_major": 2,
       "version_minor": 0
      },
      "text/plain": [
       "HBox(children=(FloatProgress(value=0.0, description='Training', layout=Layout(flex='2'), max=1250.0, style=Pro…"
      ]
     },
     "metadata": {},
     "output_type": "display_data"
    },
    {
     "name": "stdout",
     "output_type": "stream",
     "text": [
      "Epoch 966: train=7.12603, val=8.04971, took 45.444 s\n",
      "  Validation Found 51479 of 54504, added 2300 (eff 94.45%) (0.23 FP/event)\n"
     ]
    },
    {
     "data": {
      "application/vnd.jupyter.widget-view+json": {
       "model_id": "",
       "version_major": 2,
       "version_minor": 0
      },
      "text/plain": [
       "HBox(children=(FloatProgress(value=0.0, description='Training', layout=Layout(flex='2'), max=1250.0, style=Pro…"
      ]
     },
     "metadata": {},
     "output_type": "display_data"
    },
    {
     "name": "stdout",
     "output_type": "stream",
     "text": [
      "Epoch 967: train=7.12726, val=8.00455, took 45.448 s\n",
      "  Validation Found 51299 of 54504, added 1995 (eff 94.12%) (0.2 FP/event)\n"
     ]
    },
    {
     "data": {
      "application/vnd.jupyter.widget-view+json": {
       "model_id": "",
       "version_major": 2,
       "version_minor": 0
      },
      "text/plain": [
       "HBox(children=(FloatProgress(value=0.0, description='Training', layout=Layout(flex='2'), max=1250.0, style=Pro…"
      ]
     },
     "metadata": {},
     "output_type": "display_data"
    },
    {
     "name": "stdout",
     "output_type": "stream",
     "text": [
      "Epoch 968: train=7.12467, val=8.01357, took 45.487 s\n",
      "  Validation Found 51490 of 54504, added 2273 (eff 94.47%) (0.228 FP/event)\n"
     ]
    },
    {
     "data": {
      "application/vnd.jupyter.widget-view+json": {
       "model_id": "",
       "version_major": 2,
       "version_minor": 0
      },
      "text/plain": [
       "HBox(children=(FloatProgress(value=0.0, description='Training', layout=Layout(flex='2'), max=1250.0, style=Pro…"
      ]
     },
     "metadata": {},
     "output_type": "display_data"
    },
    {
     "name": "stdout",
     "output_type": "stream",
     "text": [
      "Epoch 969: train=7.12547, val=8.06012, took 45.507 s\n",
      "  Validation Found 51372 of 54504, added 2095 (eff 94.25%) (0.21 FP/event)\n"
     ]
    },
    {
     "data": {
      "application/vnd.jupyter.widget-view+json": {
       "model_id": "",
       "version_major": 2,
       "version_minor": 0
      },
      "text/plain": [
       "HBox(children=(FloatProgress(value=0.0, description='Training', layout=Layout(flex='2'), max=1250.0, style=Pro…"
      ]
     },
     "metadata": {},
     "output_type": "display_data"
    },
    {
     "name": "stdout",
     "output_type": "stream",
     "text": [
      "Epoch 970: train=7.12378, val=8.08803, took 45.488 s\n",
      "  Validation Found 51277 of 54504, added 1936 (eff 94.08%) (0.194 FP/event)\n"
     ]
    },
    {
     "data": {
      "application/vnd.jupyter.widget-view+json": {
       "model_id": "",
       "version_major": 2,
       "version_minor": 0
      },
      "text/plain": [
       "HBox(children=(FloatProgress(value=0.0, description='Training', layout=Layout(flex='2'), max=1250.0, style=Pro…"
      ]
     },
     "metadata": {},
     "output_type": "display_data"
    },
    {
     "name": "stdout",
     "output_type": "stream",
     "text": [
      "Epoch 971: train=7.12512, val=7.99609, took 45.49 s\n",
      "  Validation Found 51473 of 54504, added 2333 (eff 94.44%) (0.234 FP/event)\n"
     ]
    },
    {
     "data": {
      "application/vnd.jupyter.widget-view+json": {
       "model_id": "",
       "version_major": 2,
       "version_minor": 0
      },
      "text/plain": [
       "HBox(children=(FloatProgress(value=0.0, description='Training', layout=Layout(flex='2'), max=1250.0, style=Pro…"
      ]
     },
     "metadata": {},
     "output_type": "display_data"
    },
    {
     "name": "stdout",
     "output_type": "stream",
     "text": [
      "Epoch 972: train=7.12415, val=8.07339, took 45.503 s\n",
      "  Validation Found 51340 of 54504, added 2052 (eff 94.19%) (0.206 FP/event)\n"
     ]
    },
    {
     "data": {
      "application/vnd.jupyter.widget-view+json": {
       "model_id": "",
       "version_major": 2,
       "version_minor": 0
      },
      "text/plain": [
       "HBox(children=(FloatProgress(value=0.0, description='Training', layout=Layout(flex='2'), max=1250.0, style=Pro…"
      ]
     },
     "metadata": {},
     "output_type": "display_data"
    },
    {
     "name": "stdout",
     "output_type": "stream",
     "text": [
      "Epoch 973: train=7.12466, val=8.17636, took 45.489 s\n",
      "  Validation Found 51279 of 54504, added 2042 (eff 94.08%) (0.205 FP/event)\n"
     ]
    },
    {
     "data": {
      "application/vnd.jupyter.widget-view+json": {
       "model_id": "",
       "version_major": 2,
       "version_minor": 0
      },
      "text/plain": [
       "HBox(children=(FloatProgress(value=0.0, description='Training', layout=Layout(flex='2'), max=1250.0, style=Pro…"
      ]
     },
     "metadata": {},
     "output_type": "display_data"
    },
    {
     "name": "stdout",
     "output_type": "stream",
     "text": [
      "Epoch 974: train=7.12315, val=7.98802, took 45.583 s\n",
      "  Validation Found 51557 of 54504, added 2437 (eff 94.59%) (0.244 FP/event)\n"
     ]
    },
    {
     "data": {
      "application/vnd.jupyter.widget-view+json": {
       "model_id": "",
       "version_major": 2,
       "version_minor": 0
      },
      "text/plain": [
       "HBox(children=(FloatProgress(value=0.0, description='Training', layout=Layout(flex='2'), max=1250.0, style=Pro…"
      ]
     },
     "metadata": {},
     "output_type": "display_data"
    },
    {
     "name": "stdout",
     "output_type": "stream",
     "text": [
      "Epoch 975: train=7.12194, val=8.01208, took 45.547 s\n",
      "  Validation Found 51338 of 54504, added 2036 (eff 94.19%) (0.204 FP/event)\n"
     ]
    },
    {
     "data": {
      "application/vnd.jupyter.widget-view+json": {
       "model_id": "",
       "version_major": 2,
       "version_minor": 0
      },
      "text/plain": [
       "HBox(children=(FloatProgress(value=0.0, description='Training', layout=Layout(flex='2'), max=1250.0, style=Pro…"
      ]
     },
     "metadata": {},
     "output_type": "display_data"
    },
    {
     "name": "stdout",
     "output_type": "stream",
     "text": [
      "Epoch 976: train=7.12663, val=8.17243, took 45.521 s\n",
      "  Validation Found 51274 of 54504, added 1928 (eff 94.07%) (0.193 FP/event)\n"
     ]
    },
    {
     "data": {
      "application/vnd.jupyter.widget-view+json": {
       "model_id": "",
       "version_major": 2,
       "version_minor": 0
      },
      "text/plain": [
       "HBox(children=(FloatProgress(value=0.0, description='Training', layout=Layout(flex='2'), max=1250.0, style=Pro…"
      ]
     },
     "metadata": {},
     "output_type": "display_data"
    },
    {
     "name": "stdout",
     "output_type": "stream",
     "text": [
      "Epoch 977: train=7.12567, val=8.01566, took 45.594 s\n",
      "  Validation Found 51445 of 54504, added 2293 (eff 94.39%) (0.23 FP/event)\n"
     ]
    },
    {
     "data": {
      "application/vnd.jupyter.widget-view+json": {
       "model_id": "",
       "version_major": 2,
       "version_minor": 0
      },
      "text/plain": [
       "HBox(children=(FloatProgress(value=0.0, description='Training', layout=Layout(flex='2'), max=1250.0, style=Pro…"
      ]
     },
     "metadata": {},
     "output_type": "display_data"
    },
    {
     "name": "stdout",
     "output_type": "stream",
     "text": [
      "Epoch 978: train=7.12539, val=8.07755, took 50.109 s\n",
      "  Validation Found 51387 of 54504, added 2132 (eff 94.28%) (0.214 FP/event)\n"
     ]
    },
    {
     "data": {
      "application/vnd.jupyter.widget-view+json": {
       "model_id": "",
       "version_major": 2,
       "version_minor": 0
      },
      "text/plain": [
       "HBox(children=(FloatProgress(value=0.0, description='Training', layout=Layout(flex='2'), max=1250.0, style=Pro…"
      ]
     },
     "metadata": {},
     "output_type": "display_data"
    },
    {
     "name": "stdout",
     "output_type": "stream",
     "text": [
      "Epoch 979: train=7.12465, val=8.19748, took 50.753 s\n",
      "  Validation Found 51213 of 54504, added 1841 (eff 93.96%) (0.184 FP/event)\n"
     ]
    },
    {
     "data": {
      "application/vnd.jupyter.widget-view+json": {
       "model_id": "",
       "version_major": 2,
       "version_minor": 0
      },
      "text/plain": [
       "HBox(children=(FloatProgress(value=0.0, description='Training', layout=Layout(flex='2'), max=1250.0, style=Pro…"
      ]
     },
     "metadata": {},
     "output_type": "display_data"
    },
    {
     "name": "stdout",
     "output_type": "stream",
     "text": [
      "Epoch 980: train=7.12523, val=8.0485, took 51.277 s\n",
      "  Validation Found 51426 of 54504, added 2261 (eff 94.35%) (0.226 FP/event)\n"
     ]
    },
    {
     "data": {
      "application/vnd.jupyter.widget-view+json": {
       "model_id": "",
       "version_major": 2,
       "version_minor": 0
      },
      "text/plain": [
       "HBox(children=(FloatProgress(value=0.0, description='Training', layout=Layout(flex='2'), max=1250.0, style=Pro…"
      ]
     },
     "metadata": {},
     "output_type": "display_data"
    },
    {
     "name": "stdout",
     "output_type": "stream",
     "text": [
      "Epoch 981: train=7.12371, val=8.06264, took 51.896 s\n",
      "  Validation Found 51352 of 54504, added 2038 (eff 94.22%) (0.204 FP/event)\n"
     ]
    },
    {
     "data": {
      "application/vnd.jupyter.widget-view+json": {
       "model_id": "",
       "version_major": 2,
       "version_minor": 0
      },
      "text/plain": [
       "HBox(children=(FloatProgress(value=0.0, description='Training', layout=Layout(flex='2'), max=1250.0, style=Pro…"
      ]
     },
     "metadata": {},
     "output_type": "display_data"
    },
    {
     "name": "stdout",
     "output_type": "stream",
     "text": [
      "Epoch 982: train=7.1247, val=8.06331, took 51.864 s\n",
      "  Validation Found 51383 of 54504, added 2123 (eff 94.27%) (0.213 FP/event)\n"
     ]
    },
    {
     "data": {
      "application/vnd.jupyter.widget-view+json": {
       "model_id": "",
       "version_major": 2,
       "version_minor": 0
      },
      "text/plain": [
       "HBox(children=(FloatProgress(value=0.0, description='Training', layout=Layout(flex='2'), max=1250.0, style=Pro…"
      ]
     },
     "metadata": {},
     "output_type": "display_data"
    },
    {
     "name": "stdout",
     "output_type": "stream",
     "text": [
      "Epoch 983: train=7.12419, val=8.08492, took 51.479 s\n",
      "  Validation Found 51470 of 54504, added 2303 (eff 94.43%) (0.231 FP/event)\n"
     ]
    },
    {
     "data": {
      "application/vnd.jupyter.widget-view+json": {
       "model_id": "",
       "version_major": 2,
       "version_minor": 0
      },
      "text/plain": [
       "HBox(children=(FloatProgress(value=0.0, description='Training', layout=Layout(flex='2'), max=1250.0, style=Pro…"
      ]
     },
     "metadata": {},
     "output_type": "display_data"
    },
    {
     "name": "stdout",
     "output_type": "stream",
     "text": [
      "Epoch 984: train=7.12267, val=8.0797, took 52.017 s\n",
      "  Validation Found 51316 of 54504, added 1994 (eff 94.15%) (0.2 FP/event)\n"
     ]
    },
    {
     "data": {
      "application/vnd.jupyter.widget-view+json": {
       "model_id": "",
       "version_major": 2,
       "version_minor": 0
      },
      "text/plain": [
       "HBox(children=(FloatProgress(value=0.0, description='Training', layout=Layout(flex='2'), max=1250.0, style=Pro…"
      ]
     },
     "metadata": {},
     "output_type": "display_data"
    },
    {
     "name": "stdout",
     "output_type": "stream",
     "text": [
      "Epoch 985: train=7.12269, val=8.16265, took 51.727 s\n",
      "  Validation Found 51325 of 54504, added 1992 (eff 94.17%) (0.199 FP/event)\n"
     ]
    },
    {
     "data": {
      "application/vnd.jupyter.widget-view+json": {
       "model_id": "",
       "version_major": 2,
       "version_minor": 0
      },
      "text/plain": [
       "HBox(children=(FloatProgress(value=0.0, description='Training', layout=Layout(flex='2'), max=1250.0, style=Pro…"
      ]
     },
     "metadata": {},
     "output_type": "display_data"
    },
    {
     "name": "stdout",
     "output_type": "stream",
     "text": [
      "Epoch 986: train=7.12609, val=8.04327, took 51.603 s\n",
      "  Validation Found 51479 of 54504, added 2245 (eff 94.45%) (0.225 FP/event)\n"
     ]
    },
    {
     "data": {
      "application/vnd.jupyter.widget-view+json": {
       "model_id": "",
       "version_major": 2,
       "version_minor": 0
      },
      "text/plain": [
       "HBox(children=(FloatProgress(value=0.0, description='Training', layout=Layout(flex='2'), max=1250.0, style=Pro…"
      ]
     },
     "metadata": {},
     "output_type": "display_data"
    },
    {
     "name": "stdout",
     "output_type": "stream",
     "text": [
      "Epoch 987: train=7.12129, val=8.03385, took 51.855 s\n",
      "  Validation Found 51458 of 54504, added 2241 (eff 94.41%) (0.224 FP/event)\n"
     ]
    },
    {
     "data": {
      "application/vnd.jupyter.widget-view+json": {
       "model_id": "",
       "version_major": 2,
       "version_minor": 0
      },
      "text/plain": [
       "HBox(children=(FloatProgress(value=0.0, description='Training', layout=Layout(flex='2'), max=1250.0, style=Pro…"
      ]
     },
     "metadata": {},
     "output_type": "display_data"
    },
    {
     "name": "stdout",
     "output_type": "stream",
     "text": [
      "Epoch 988: train=7.12145, val=8.03869, took 51.009 s\n",
      "  Validation Found 51424 of 54504, added 2184 (eff 94.35%) (0.219 FP/event)\n"
     ]
    },
    {
     "data": {
      "application/vnd.jupyter.widget-view+json": {
       "model_id": "",
       "version_major": 2,
       "version_minor": 0
      },
      "text/plain": [
       "HBox(children=(FloatProgress(value=0.0, description='Training', layout=Layout(flex='2'), max=1250.0, style=Pro…"
      ]
     },
     "metadata": {},
     "output_type": "display_data"
    },
    {
     "name": "stdout",
     "output_type": "stream",
     "text": [
      "Epoch 989: train=7.12489, val=8.05117, took 51.467 s\n",
      "  Validation Found 51362 of 54504, added 2073 (eff 94.24%) (0.208 FP/event)\n"
     ]
    },
    {
     "data": {
      "application/vnd.jupyter.widget-view+json": {
       "model_id": "",
       "version_major": 2,
       "version_minor": 0
      },
      "text/plain": [
       "HBox(children=(FloatProgress(value=0.0, description='Training', layout=Layout(flex='2'), max=1250.0, style=Pro…"
      ]
     },
     "metadata": {},
     "output_type": "display_data"
    },
    {
     "name": "stdout",
     "output_type": "stream",
     "text": [
      "Epoch 990: train=7.12325, val=8.1142, took 51.773 s\n",
      "  Validation Found 51300 of 54504, added 1939 (eff 94.12%) (0.194 FP/event)\n"
     ]
    },
    {
     "data": {
      "application/vnd.jupyter.widget-view+json": {
       "model_id": "",
       "version_major": 2,
       "version_minor": 0
      },
      "text/plain": [
       "HBox(children=(FloatProgress(value=0.0, description='Training', layout=Layout(flex='2'), max=1250.0, style=Pro…"
      ]
     },
     "metadata": {},
     "output_type": "display_data"
    },
    {
     "name": "stdout",
     "output_type": "stream",
     "text": [
      "Epoch 991: train=7.12195, val=8.08427, took 51.336 s\n",
      "  Validation Found 51386 of 54504, added 2117 (eff 94.28%) (0.212 FP/event)\n"
     ]
    },
    {
     "data": {
      "application/vnd.jupyter.widget-view+json": {
       "model_id": "",
       "version_major": 2,
       "version_minor": 0
      },
      "text/plain": [
       "HBox(children=(FloatProgress(value=0.0, description='Training', layout=Layout(flex='2'), max=1250.0, style=Pro…"
      ]
     },
     "metadata": {},
     "output_type": "display_data"
    },
    {
     "name": "stdout",
     "output_type": "stream",
     "text": [
      "Epoch 992: train=7.1258, val=8.06444, took 51.579 s\n",
      "  Validation Found 51441 of 54504, added 2170 (eff 94.38%) (0.217 FP/event)\n"
     ]
    },
    {
     "data": {
      "application/vnd.jupyter.widget-view+json": {
       "model_id": "",
       "version_major": 2,
       "version_minor": 0
      },
      "text/plain": [
       "HBox(children=(FloatProgress(value=0.0, description='Training', layout=Layout(flex='2'), max=1250.0, style=Pro…"
      ]
     },
     "metadata": {},
     "output_type": "display_data"
    },
    {
     "name": "stdout",
     "output_type": "stream",
     "text": [
      "Epoch 993: train=7.12076, val=8.05705, took 52.1 s\n",
      "  Validation Found 51453 of 54504, added 2257 (eff 94.40%) (0.226 FP/event)\n"
     ]
    },
    {
     "data": {
      "application/vnd.jupyter.widget-view+json": {
       "model_id": "",
       "version_major": 2,
       "version_minor": 0
      },
      "text/plain": [
       "HBox(children=(FloatProgress(value=0.0, description='Training', layout=Layout(flex='2'), max=1250.0, style=Pro…"
      ]
     },
     "metadata": {},
     "output_type": "display_data"
    },
    {
     "name": "stdout",
     "output_type": "stream",
     "text": [
      "Epoch 994: train=7.12449, val=8.0678, took 52.012 s\n",
      "  Validation Found 51555 of 54504, added 2489 (eff 94.59%) (0.249 FP/event)\n"
     ]
    },
    {
     "data": {
      "application/vnd.jupyter.widget-view+json": {
       "model_id": "",
       "version_major": 2,
       "version_minor": 0
      },
      "text/plain": [
       "HBox(children=(FloatProgress(value=0.0, description='Training', layout=Layout(flex='2'), max=1250.0, style=Pro…"
      ]
     },
     "metadata": {},
     "output_type": "display_data"
    },
    {
     "name": "stdout",
     "output_type": "stream",
     "text": [
      "Epoch 995: train=7.12265, val=8.09241, took 52.107 s\n",
      "  Validation Found 51375 of 54504, added 2127 (eff 94.26%) (0.213 FP/event)\n"
     ]
    },
    {
     "data": {
      "application/vnd.jupyter.widget-view+json": {
       "model_id": "",
       "version_major": 2,
       "version_minor": 0
      },
      "text/plain": [
       "HBox(children=(FloatProgress(value=0.0, description='Training', layout=Layout(flex='2'), max=1250.0, style=Pro…"
      ]
     },
     "metadata": {},
     "output_type": "display_data"
    },
    {
     "name": "stdout",
     "output_type": "stream",
     "text": [
      "Epoch 996: train=7.12491, val=8.05581, took 52.159 s\n",
      "  Validation Found 51366 of 54504, added 2089 (eff 94.24%) (0.209 FP/event)\n"
     ]
    },
    {
     "data": {
      "application/vnd.jupyter.widget-view+json": {
       "model_id": "",
       "version_major": 2,
       "version_minor": 0
      },
      "text/plain": [
       "HBox(children=(FloatProgress(value=0.0, description='Training', layout=Layout(flex='2'), max=1250.0, style=Pro…"
      ]
     },
     "metadata": {},
     "output_type": "display_data"
    },
    {
     "name": "stdout",
     "output_type": "stream",
     "text": [
      "Epoch 997: train=7.12396, val=8.07734, took 51.517 s\n",
      "  Validation Found 51392 of 54504, added 2135 (eff 94.29%) (0.214 FP/event)\n"
     ]
    },
    {
     "data": {
      "application/vnd.jupyter.widget-view+json": {
       "model_id": "",
       "version_major": 2,
       "version_minor": 0
      },
      "text/plain": [
       "HBox(children=(FloatProgress(value=0.0, description='Training', layout=Layout(flex='2'), max=1250.0, style=Pro…"
      ]
     },
     "metadata": {},
     "output_type": "display_data"
    },
    {
     "name": "stdout",
     "output_type": "stream",
     "text": [
      "Epoch 998: train=7.12231, val=8.09198, took 51.536 s\n",
      "  Validation Found 51393 of 54504, added 2101 (eff 94.29%) (0.21 FP/event)\n"
     ]
    },
    {
     "data": {
      "application/vnd.jupyter.widget-view+json": {
       "model_id": "",
       "version_major": 2,
       "version_minor": 0
      },
      "text/plain": [
       "HBox(children=(FloatProgress(value=0.0, description='Training', layout=Layout(flex='2'), max=1250.0, style=Pro…"
      ]
     },
     "metadata": {},
     "output_type": "display_data"
    },
    {
     "name": "stdout",
     "output_type": "stream",
     "text": [
      "Epoch 999: train=7.12386, val=7.9887, took 51.548 s\n",
      "  Validation Found 51510 of 54504, added 2295 (eff 94.51%) (0.23 FP/event)\n",
      "\n"
     ]
    },
    {
     "data": {
      "application/javascript": [
       "/* Put everything inside the global mpl namespace */\n",
       "window.mpl = {};\n",
       "\n",
       "\n",
       "mpl.get_websocket_type = function() {\n",
       "    if (typeof(WebSocket) !== 'undefined') {\n",
       "        return WebSocket;\n",
       "    } else if (typeof(MozWebSocket) !== 'undefined') {\n",
       "        return MozWebSocket;\n",
       "    } else {\n",
       "        alert('Your browser does not have WebSocket support. ' +\n",
       "              'Please try Chrome, Safari or Firefox ≥ 6. ' +\n",
       "              'Firefox 4 and 5 are also supported but you ' +\n",
       "              'have to enable WebSockets in about:config.');\n",
       "    };\n",
       "}\n",
       "\n",
       "mpl.figure = function(figure_id, websocket, ondownload, parent_element) {\n",
       "    this.id = figure_id;\n",
       "\n",
       "    this.ws = websocket;\n",
       "\n",
       "    this.supports_binary = (this.ws.binaryType != undefined);\n",
       "\n",
       "    if (!this.supports_binary) {\n",
       "        var warnings = document.getElementById(\"mpl-warnings\");\n",
       "        if (warnings) {\n",
       "            warnings.style.display = 'block';\n",
       "            warnings.textContent = (\n",
       "                \"This browser does not support binary websocket messages. \" +\n",
       "                    \"Performance may be slow.\");\n",
       "        }\n",
       "    }\n",
       "\n",
       "    this.imageObj = new Image();\n",
       "\n",
       "    this.context = undefined;\n",
       "    this.message = undefined;\n",
       "    this.canvas = undefined;\n",
       "    this.rubberband_canvas = undefined;\n",
       "    this.rubberband_context = undefined;\n",
       "    this.format_dropdown = undefined;\n",
       "\n",
       "    this.image_mode = 'full';\n",
       "\n",
       "    this.root = $('<div/>');\n",
       "    this._root_extra_style(this.root)\n",
       "    this.root.attr('style', 'display: inline-block');\n",
       "\n",
       "    $(parent_element).append(this.root);\n",
       "\n",
       "    this._init_header(this);\n",
       "    this._init_canvas(this);\n",
       "    this._init_toolbar(this);\n",
       "\n",
       "    var fig = this;\n",
       "\n",
       "    this.waiting = false;\n",
       "\n",
       "    this.ws.onopen =  function () {\n",
       "            fig.send_message(\"supports_binary\", {value: fig.supports_binary});\n",
       "            fig.send_message(\"send_image_mode\", {});\n",
       "            if (mpl.ratio != 1) {\n",
       "                fig.send_message(\"set_dpi_ratio\", {'dpi_ratio': mpl.ratio});\n",
       "            }\n",
       "            fig.send_message(\"refresh\", {});\n",
       "        }\n",
       "\n",
       "    this.imageObj.onload = function() {\n",
       "            if (fig.image_mode == 'full') {\n",
       "                // Full images could contain transparency (where diff images\n",
       "                // almost always do), so we need to clear the canvas so that\n",
       "                // there is no ghosting.\n",
       "                fig.context.clearRect(0, 0, fig.canvas.width, fig.canvas.height);\n",
       "            }\n",
       "            fig.context.drawImage(fig.imageObj, 0, 0);\n",
       "        };\n",
       "\n",
       "    this.imageObj.onunload = function() {\n",
       "        fig.ws.close();\n",
       "    }\n",
       "\n",
       "    this.ws.onmessage = this._make_on_message_function(this);\n",
       "\n",
       "    this.ondownload = ondownload;\n",
       "}\n",
       "\n",
       "mpl.figure.prototype._init_header = function() {\n",
       "    var titlebar = $(\n",
       "        '<div class=\"ui-dialog-titlebar ui-widget-header ui-corner-all ' +\n",
       "        'ui-helper-clearfix\"/>');\n",
       "    var titletext = $(\n",
       "        '<div class=\"ui-dialog-title\" style=\"width: 100%; ' +\n",
       "        'text-align: center; padding: 3px;\"/>');\n",
       "    titlebar.append(titletext)\n",
       "    this.root.append(titlebar);\n",
       "    this.header = titletext[0];\n",
       "}\n",
       "\n",
       "\n",
       "\n",
       "mpl.figure.prototype._canvas_extra_style = function(canvas_div) {\n",
       "\n",
       "}\n",
       "\n",
       "\n",
       "mpl.figure.prototype._root_extra_style = function(canvas_div) {\n",
       "\n",
       "}\n",
       "\n",
       "mpl.figure.prototype._init_canvas = function() {\n",
       "    var fig = this;\n",
       "\n",
       "    var canvas_div = $('<div/>');\n",
       "\n",
       "    canvas_div.attr('style', 'position: relative; clear: both; outline: 0');\n",
       "\n",
       "    function canvas_keyboard_event(event) {\n",
       "        return fig.key_event(event, event['data']);\n",
       "    }\n",
       "\n",
       "    canvas_div.keydown('key_press', canvas_keyboard_event);\n",
       "    canvas_div.keyup('key_release', canvas_keyboard_event);\n",
       "    this.canvas_div = canvas_div\n",
       "    this._canvas_extra_style(canvas_div)\n",
       "    this.root.append(canvas_div);\n",
       "\n",
       "    var canvas = $('<canvas/>');\n",
       "    canvas.addClass('mpl-canvas');\n",
       "    canvas.attr('style', \"left: 0; top: 0; z-index: 0; outline: 0\")\n",
       "\n",
       "    this.canvas = canvas[0];\n",
       "    this.context = canvas[0].getContext(\"2d\");\n",
       "\n",
       "    var backingStore = this.context.backingStorePixelRatio ||\n",
       "\tthis.context.webkitBackingStorePixelRatio ||\n",
       "\tthis.context.mozBackingStorePixelRatio ||\n",
       "\tthis.context.msBackingStorePixelRatio ||\n",
       "\tthis.context.oBackingStorePixelRatio ||\n",
       "\tthis.context.backingStorePixelRatio || 1;\n",
       "\n",
       "    mpl.ratio = (window.devicePixelRatio || 1) / backingStore;\n",
       "\n",
       "    var rubberband = $('<canvas/>');\n",
       "    rubberband.attr('style', \"position: absolute; left: 0; top: 0; z-index: 1;\")\n",
       "\n",
       "    var pass_mouse_events = true;\n",
       "\n",
       "    canvas_div.resizable({\n",
       "        start: function(event, ui) {\n",
       "            pass_mouse_events = false;\n",
       "        },\n",
       "        resize: function(event, ui) {\n",
       "            fig.request_resize(ui.size.width, ui.size.height);\n",
       "        },\n",
       "        stop: function(event, ui) {\n",
       "            pass_mouse_events = true;\n",
       "            fig.request_resize(ui.size.width, ui.size.height);\n",
       "        },\n",
       "    });\n",
       "\n",
       "    function mouse_event_fn(event) {\n",
       "        if (pass_mouse_events)\n",
       "            return fig.mouse_event(event, event['data']);\n",
       "    }\n",
       "\n",
       "    rubberband.mousedown('button_press', mouse_event_fn);\n",
       "    rubberband.mouseup('button_release', mouse_event_fn);\n",
       "    // Throttle sequential mouse events to 1 every 20ms.\n",
       "    rubberband.mousemove('motion_notify', mouse_event_fn);\n",
       "\n",
       "    rubberband.mouseenter('figure_enter', mouse_event_fn);\n",
       "    rubberband.mouseleave('figure_leave', mouse_event_fn);\n",
       "\n",
       "    canvas_div.on(\"wheel\", function (event) {\n",
       "        event = event.originalEvent;\n",
       "        event['data'] = 'scroll'\n",
       "        if (event.deltaY < 0) {\n",
       "            event.step = 1;\n",
       "        } else {\n",
       "            event.step = -1;\n",
       "        }\n",
       "        mouse_event_fn(event);\n",
       "    });\n",
       "\n",
       "    canvas_div.append(canvas);\n",
       "    canvas_div.append(rubberband);\n",
       "\n",
       "    this.rubberband = rubberband;\n",
       "    this.rubberband_canvas = rubberband[0];\n",
       "    this.rubberband_context = rubberband[0].getContext(\"2d\");\n",
       "    this.rubberband_context.strokeStyle = \"#000000\";\n",
       "\n",
       "    this._resize_canvas = function(width, height) {\n",
       "        // Keep the size of the canvas, canvas container, and rubber band\n",
       "        // canvas in synch.\n",
       "        canvas_div.css('width', width)\n",
       "        canvas_div.css('height', height)\n",
       "\n",
       "        canvas.attr('width', width * mpl.ratio);\n",
       "        canvas.attr('height', height * mpl.ratio);\n",
       "        canvas.attr('style', 'width: ' + width + 'px; height: ' + height + 'px;');\n",
       "\n",
       "        rubberband.attr('width', width);\n",
       "        rubberband.attr('height', height);\n",
       "    }\n",
       "\n",
       "    // Set the figure to an initial 600x600px, this will subsequently be updated\n",
       "    // upon first draw.\n",
       "    this._resize_canvas(600, 600);\n",
       "\n",
       "    // Disable right mouse context menu.\n",
       "    $(this.rubberband_canvas).bind(\"contextmenu\",function(e){\n",
       "        return false;\n",
       "    });\n",
       "\n",
       "    function set_focus () {\n",
       "        canvas.focus();\n",
       "        canvas_div.focus();\n",
       "    }\n",
       "\n",
       "    window.setTimeout(set_focus, 100);\n",
       "}\n",
       "\n",
       "mpl.figure.prototype._init_toolbar = function() {\n",
       "    var fig = this;\n",
       "\n",
       "    var nav_element = $('<div/>');\n",
       "    nav_element.attr('style', 'width: 100%');\n",
       "    this.root.append(nav_element);\n",
       "\n",
       "    // Define a callback function for later on.\n",
       "    function toolbar_event(event) {\n",
       "        return fig.toolbar_button_onclick(event['data']);\n",
       "    }\n",
       "    function toolbar_mouse_event(event) {\n",
       "        return fig.toolbar_button_onmouseover(event['data']);\n",
       "    }\n",
       "\n",
       "    for(var toolbar_ind in mpl.toolbar_items) {\n",
       "        var name = mpl.toolbar_items[toolbar_ind][0];\n",
       "        var tooltip = mpl.toolbar_items[toolbar_ind][1];\n",
       "        var image = mpl.toolbar_items[toolbar_ind][2];\n",
       "        var method_name = mpl.toolbar_items[toolbar_ind][3];\n",
       "\n",
       "        if (!name) {\n",
       "            // put a spacer in here.\n",
       "            continue;\n",
       "        }\n",
       "        var button = $('<button/>');\n",
       "        button.addClass('ui-button ui-widget ui-state-default ui-corner-all ' +\n",
       "                        'ui-button-icon-only');\n",
       "        button.attr('role', 'button');\n",
       "        button.attr('aria-disabled', 'false');\n",
       "        button.click(method_name, toolbar_event);\n",
       "        button.mouseover(tooltip, toolbar_mouse_event);\n",
       "\n",
       "        var icon_img = $('<span/>');\n",
       "        icon_img.addClass('ui-button-icon-primary ui-icon');\n",
       "        icon_img.addClass(image);\n",
       "        icon_img.addClass('ui-corner-all');\n",
       "\n",
       "        var tooltip_span = $('<span/>');\n",
       "        tooltip_span.addClass('ui-button-text');\n",
       "        tooltip_span.html(tooltip);\n",
       "\n",
       "        button.append(icon_img);\n",
       "        button.append(tooltip_span);\n",
       "\n",
       "        nav_element.append(button);\n",
       "    }\n",
       "\n",
       "    var fmt_picker_span = $('<span/>');\n",
       "\n",
       "    var fmt_picker = $('<select/>');\n",
       "    fmt_picker.addClass('mpl-toolbar-option ui-widget ui-widget-content');\n",
       "    fmt_picker_span.append(fmt_picker);\n",
       "    nav_element.append(fmt_picker_span);\n",
       "    this.format_dropdown = fmt_picker[0];\n",
       "\n",
       "    for (var ind in mpl.extensions) {\n",
       "        var fmt = mpl.extensions[ind];\n",
       "        var option = $(\n",
       "            '<option/>', {selected: fmt === mpl.default_extension}).html(fmt);\n",
       "        fmt_picker.append(option);\n",
       "    }\n",
       "\n",
       "    // Add hover states to the ui-buttons\n",
       "    $( \".ui-button\" ).hover(\n",
       "        function() { $(this).addClass(\"ui-state-hover\");},\n",
       "        function() { $(this).removeClass(\"ui-state-hover\");}\n",
       "    );\n",
       "\n",
       "    var status_bar = $('<span class=\"mpl-message\"/>');\n",
       "    nav_element.append(status_bar);\n",
       "    this.message = status_bar[0];\n",
       "}\n",
       "\n",
       "mpl.figure.prototype.request_resize = function(x_pixels, y_pixels) {\n",
       "    // Request matplotlib to resize the figure. Matplotlib will then trigger a resize in the client,\n",
       "    // which will in turn request a refresh of the image.\n",
       "    this.send_message('resize', {'width': x_pixels, 'height': y_pixels});\n",
       "}\n",
       "\n",
       "mpl.figure.prototype.send_message = function(type, properties) {\n",
       "    properties['type'] = type;\n",
       "    properties['figure_id'] = this.id;\n",
       "    this.ws.send(JSON.stringify(properties));\n",
       "}\n",
       "\n",
       "mpl.figure.prototype.send_draw_message = function() {\n",
       "    if (!this.waiting) {\n",
       "        this.waiting = true;\n",
       "        this.ws.send(JSON.stringify({type: \"draw\", figure_id: this.id}));\n",
       "    }\n",
       "}\n",
       "\n",
       "\n",
       "mpl.figure.prototype.handle_save = function(fig, msg) {\n",
       "    var format_dropdown = fig.format_dropdown;\n",
       "    var format = format_dropdown.options[format_dropdown.selectedIndex].value;\n",
       "    fig.ondownload(fig, format);\n",
       "}\n",
       "\n",
       "\n",
       "mpl.figure.prototype.handle_resize = function(fig, msg) {\n",
       "    var size = msg['size'];\n",
       "    if (size[0] != fig.canvas.width || size[1] != fig.canvas.height) {\n",
       "        fig._resize_canvas(size[0], size[1]);\n",
       "        fig.send_message(\"refresh\", {});\n",
       "    };\n",
       "}\n",
       "\n",
       "mpl.figure.prototype.handle_rubberband = function(fig, msg) {\n",
       "    var x0 = msg['x0'] / mpl.ratio;\n",
       "    var y0 = (fig.canvas.height - msg['y0']) / mpl.ratio;\n",
       "    var x1 = msg['x1'] / mpl.ratio;\n",
       "    var y1 = (fig.canvas.height - msg['y1']) / mpl.ratio;\n",
       "    x0 = Math.floor(x0) + 0.5;\n",
       "    y0 = Math.floor(y0) + 0.5;\n",
       "    x1 = Math.floor(x1) + 0.5;\n",
       "    y1 = Math.floor(y1) + 0.5;\n",
       "    var min_x = Math.min(x0, x1);\n",
       "    var min_y = Math.min(y0, y1);\n",
       "    var width = Math.abs(x1 - x0);\n",
       "    var height = Math.abs(y1 - y0);\n",
       "\n",
       "    fig.rubberband_context.clearRect(\n",
       "        0, 0, fig.canvas.width / mpl.ratio, fig.canvas.height / mpl.ratio);\n",
       "\n",
       "    fig.rubberband_context.strokeRect(min_x, min_y, width, height);\n",
       "}\n",
       "\n",
       "mpl.figure.prototype.handle_figure_label = function(fig, msg) {\n",
       "    // Updates the figure title.\n",
       "    fig.header.textContent = msg['label'];\n",
       "}\n",
       "\n",
       "mpl.figure.prototype.handle_cursor = function(fig, msg) {\n",
       "    var cursor = msg['cursor'];\n",
       "    switch(cursor)\n",
       "    {\n",
       "    case 0:\n",
       "        cursor = 'pointer';\n",
       "        break;\n",
       "    case 1:\n",
       "        cursor = 'default';\n",
       "        break;\n",
       "    case 2:\n",
       "        cursor = 'crosshair';\n",
       "        break;\n",
       "    case 3:\n",
       "        cursor = 'move';\n",
       "        break;\n",
       "    }\n",
       "    fig.rubberband_canvas.style.cursor = cursor;\n",
       "}\n",
       "\n",
       "mpl.figure.prototype.handle_message = function(fig, msg) {\n",
       "    fig.message.textContent = msg['message'];\n",
       "}\n",
       "\n",
       "mpl.figure.prototype.handle_draw = function(fig, msg) {\n",
       "    // Request the server to send over a new figure.\n",
       "    fig.send_draw_message();\n",
       "}\n",
       "\n",
       "mpl.figure.prototype.handle_image_mode = function(fig, msg) {\n",
       "    fig.image_mode = msg['mode'];\n",
       "}\n",
       "\n",
       "mpl.figure.prototype.updated_canvas_event = function() {\n",
       "    // Called whenever the canvas gets updated.\n",
       "    this.send_message(\"ack\", {});\n",
       "}\n",
       "\n",
       "// A function to construct a web socket function for onmessage handling.\n",
       "// Called in the figure constructor.\n",
       "mpl.figure.prototype._make_on_message_function = function(fig) {\n",
       "    return function socket_on_message(evt) {\n",
       "        if (evt.data instanceof Blob) {\n",
       "            /* FIXME: We get \"Resource interpreted as Image but\n",
       "             * transferred with MIME type text/plain:\" errors on\n",
       "             * Chrome.  But how to set the MIME type?  It doesn't seem\n",
       "             * to be part of the websocket stream */\n",
       "            evt.data.type = \"image/png\";\n",
       "\n",
       "            /* Free the memory for the previous frames */\n",
       "            if (fig.imageObj.src) {\n",
       "                (window.URL || window.webkitURL).revokeObjectURL(\n",
       "                    fig.imageObj.src);\n",
       "            }\n",
       "\n",
       "            fig.imageObj.src = (window.URL || window.webkitURL).createObjectURL(\n",
       "                evt.data);\n",
       "            fig.updated_canvas_event();\n",
       "            fig.waiting = false;\n",
       "            return;\n",
       "        }\n",
       "        else if (typeof evt.data === 'string' && evt.data.slice(0, 21) == \"data:image/png;base64\") {\n",
       "            fig.imageObj.src = evt.data;\n",
       "            fig.updated_canvas_event();\n",
       "            fig.waiting = false;\n",
       "            return;\n",
       "        }\n",
       "\n",
       "        var msg = JSON.parse(evt.data);\n",
       "        var msg_type = msg['type'];\n",
       "\n",
       "        // Call the  \"handle_{type}\" callback, which takes\n",
       "        // the figure and JSON message as its only arguments.\n",
       "        try {\n",
       "            var callback = fig[\"handle_\" + msg_type];\n",
       "        } catch (e) {\n",
       "            console.log(\"No handler for the '\" + msg_type + \"' message type: \", msg);\n",
       "            return;\n",
       "        }\n",
       "\n",
       "        if (callback) {\n",
       "            try {\n",
       "                // console.log(\"Handling '\" + msg_type + \"' message: \", msg);\n",
       "                callback(fig, msg);\n",
       "            } catch (e) {\n",
       "                console.log(\"Exception inside the 'handler_\" + msg_type + \"' callback:\", e, e.stack, msg);\n",
       "            }\n",
       "        }\n",
       "    };\n",
       "}\n",
       "\n",
       "// from http://stackoverflow.com/questions/1114465/getting-mouse-location-in-canvas\n",
       "mpl.findpos = function(e) {\n",
       "    //this section is from http://www.quirksmode.org/js/events_properties.html\n",
       "    var targ;\n",
       "    if (!e)\n",
       "        e = window.event;\n",
       "    if (e.target)\n",
       "        targ = e.target;\n",
       "    else if (e.srcElement)\n",
       "        targ = e.srcElement;\n",
       "    if (targ.nodeType == 3) // defeat Safari bug\n",
       "        targ = targ.parentNode;\n",
       "\n",
       "    // jQuery normalizes the pageX and pageY\n",
       "    // pageX,Y are the mouse positions relative to the document\n",
       "    // offset() returns the position of the element relative to the document\n",
       "    var x = e.pageX - $(targ).offset().left;\n",
       "    var y = e.pageY - $(targ).offset().top;\n",
       "\n",
       "    return {\"x\": x, \"y\": y};\n",
       "};\n",
       "\n",
       "/*\n",
       " * return a copy of an object with only non-object keys\n",
       " * we need this to avoid circular references\n",
       " * http://stackoverflow.com/a/24161582/3208463\n",
       " */\n",
       "function simpleKeys (original) {\n",
       "  return Object.keys(original).reduce(function (obj, key) {\n",
       "    if (typeof original[key] !== 'object')\n",
       "        obj[key] = original[key]\n",
       "    return obj;\n",
       "  }, {});\n",
       "}\n",
       "\n",
       "mpl.figure.prototype.mouse_event = function(event, name) {\n",
       "    var canvas_pos = mpl.findpos(event)\n",
       "\n",
       "    if (name === 'button_press')\n",
       "    {\n",
       "        this.canvas.focus();\n",
       "        this.canvas_div.focus();\n",
       "    }\n",
       "\n",
       "    var x = canvas_pos.x * mpl.ratio;\n",
       "    var y = canvas_pos.y * mpl.ratio;\n",
       "\n",
       "    this.send_message(name, {x: x, y: y, button: event.button,\n",
       "                             step: event.step,\n",
       "                             guiEvent: simpleKeys(event)});\n",
       "\n",
       "    /* This prevents the web browser from automatically changing to\n",
       "     * the text insertion cursor when the button is pressed.  We want\n",
       "     * to control all of the cursor setting manually through the\n",
       "     * 'cursor' event from matplotlib */\n",
       "    event.preventDefault();\n",
       "    return false;\n",
       "}\n",
       "\n",
       "mpl.figure.prototype._key_event_extra = function(event, name) {\n",
       "    // Handle any extra behaviour associated with a key event\n",
       "}\n",
       "\n",
       "mpl.figure.prototype.key_event = function(event, name) {\n",
       "\n",
       "    // Prevent repeat events\n",
       "    if (name == 'key_press')\n",
       "    {\n",
       "        if (event.which === this._key)\n",
       "            return;\n",
       "        else\n",
       "            this._key = event.which;\n",
       "    }\n",
       "    if (name == 'key_release')\n",
       "        this._key = null;\n",
       "\n",
       "    var value = '';\n",
       "    if (event.ctrlKey && event.which != 17)\n",
       "        value += \"ctrl+\";\n",
       "    if (event.altKey && event.which != 18)\n",
       "        value += \"alt+\";\n",
       "    if (event.shiftKey && event.which != 16)\n",
       "        value += \"shift+\";\n",
       "\n",
       "    value += 'k';\n",
       "    value += event.which.toString();\n",
       "\n",
       "    this._key_event_extra(event, name);\n",
       "\n",
       "    this.send_message(name, {key: value,\n",
       "                             guiEvent: simpleKeys(event)});\n",
       "    return false;\n",
       "}\n",
       "\n",
       "mpl.figure.prototype.toolbar_button_onclick = function(name) {\n",
       "    if (name == 'download') {\n",
       "        this.handle_save(this, null);\n",
       "    } else {\n",
       "        this.send_message(\"toolbar_button\", {name: name});\n",
       "    }\n",
       "};\n",
       "\n",
       "mpl.figure.prototype.toolbar_button_onmouseover = function(tooltip) {\n",
       "    this.message.textContent = tooltip;\n",
       "};\n",
       "mpl.toolbar_items = [[\"Home\", \"Reset original view\", \"fa fa-home icon-home\", \"home\"], [\"Back\", \"Back to previous view\", \"fa fa-arrow-left icon-arrow-left\", \"back\"], [\"Forward\", \"Forward to next view\", \"fa fa-arrow-right icon-arrow-right\", \"forward\"], [\"\", \"\", \"\", \"\"], [\"Pan\", \"Pan axes with left mouse, zoom with right\", \"fa fa-arrows icon-move\", \"pan\"], [\"Zoom\", \"Zoom to rectangle\", \"fa fa-square-o icon-check-empty\", \"zoom\"], [\"\", \"\", \"\", \"\"], [\"Download\", \"Download plot\", \"fa fa-floppy-o icon-save\", \"download\"]];\n",
       "\n",
       "mpl.extensions = [\"eps\", \"jpeg\", \"pdf\", \"png\", \"ps\", \"raw\", \"svg\", \"tif\"];\n",
       "\n",
       "mpl.default_extension = \"png\";var comm_websocket_adapter = function(comm) {\n",
       "    // Create a \"websocket\"-like object which calls the given IPython comm\n",
       "    // object with the appropriate methods. Currently this is a non binary\n",
       "    // socket, so there is still some room for performance tuning.\n",
       "    var ws = {};\n",
       "\n",
       "    ws.close = function() {\n",
       "        comm.close()\n",
       "    };\n",
       "    ws.send = function(m) {\n",
       "        //console.log('sending', m);\n",
       "        comm.send(m);\n",
       "    };\n",
       "    // Register the callback with on_msg.\n",
       "    comm.on_msg(function(msg) {\n",
       "        //console.log('receiving', msg['content']['data'], msg);\n",
       "        // Pass the mpl event to the overridden (by mpl) onmessage function.\n",
       "        ws.onmessage(msg['content']['data'])\n",
       "    });\n",
       "    return ws;\n",
       "}\n",
       "\n",
       "mpl.mpl_figure_comm = function(comm, msg) {\n",
       "    // This is the function which gets called when the mpl process\n",
       "    // starts-up an IPython Comm through the \"matplotlib\" channel.\n",
       "\n",
       "    var id = msg.content.data.id;\n",
       "    // Get hold of the div created by the display call when the Comm\n",
       "    // socket was opened in Python.\n",
       "    var element = $(\"#\" + id);\n",
       "    var ws_proxy = comm_websocket_adapter(comm)\n",
       "\n",
       "    function ondownload(figure, format) {\n",
       "        window.open(figure.imageObj.src);\n",
       "    }\n",
       "\n",
       "    var fig = new mpl.figure(id, ws_proxy,\n",
       "                           ondownload,\n",
       "                           element.get(0));\n",
       "\n",
       "    // Call onopen now - mpl needs it, as it is assuming we've passed it a real\n",
       "    // web socket which is closed, not our websocket->open comm proxy.\n",
       "    ws_proxy.onopen();\n",
       "\n",
       "    fig.parent_element = element.get(0);\n",
       "    fig.cell_info = mpl.find_output_cell(\"<div id='\" + id + \"'></div>\");\n",
       "    if (!fig.cell_info) {\n",
       "        console.error(\"Failed to find cell for figure\", id, fig);\n",
       "        return;\n",
       "    }\n",
       "\n",
       "    var output_index = fig.cell_info[2]\n",
       "    var cell = fig.cell_info[0];\n",
       "\n",
       "};\n",
       "\n",
       "mpl.figure.prototype.handle_close = function(fig, msg) {\n",
       "    var width = fig.canvas.width/mpl.ratio\n",
       "    fig.root.unbind('remove')\n",
       "\n",
       "    // Update the output cell to use the data from the current canvas.\n",
       "    fig.push_to_output();\n",
       "    var dataURL = fig.canvas.toDataURL();\n",
       "    // Re-enable the keyboard manager in IPython - without this line, in FF,\n",
       "    // the notebook keyboard shortcuts fail.\n",
       "    IPython.keyboard_manager.enable()\n",
       "    $(fig.parent_element).html('<img src=\"' + dataURL + '\" width=\"' + width + '\">');\n",
       "    fig.close_ws(fig, msg);\n",
       "}\n",
       "\n",
       "mpl.figure.prototype.close_ws = function(fig, msg){\n",
       "    fig.send_message('closing', msg);\n",
       "    // fig.ws.close()\n",
       "}\n",
       "\n",
       "mpl.figure.prototype.push_to_output = function(remove_interactive) {\n",
       "    // Turn the data on the canvas into data in the output cell.\n",
       "    var width = this.canvas.width/mpl.ratio\n",
       "    var dataURL = this.canvas.toDataURL();\n",
       "    this.cell_info[1]['text/html'] = '<img src=\"' + dataURL + '\" width=\"' + width + '\">';\n",
       "}\n",
       "\n",
       "mpl.figure.prototype.updated_canvas_event = function() {\n",
       "    // Tell IPython that the notebook contents must change.\n",
       "    IPython.notebook.set_dirty(true);\n",
       "    this.send_message(\"ack\", {});\n",
       "    var fig = this;\n",
       "    // Wait a second, then push the new image to the DOM so\n",
       "    // that it is saved nicely (might be nice to debounce this).\n",
       "    setTimeout(function () { fig.push_to_output() }, 1000);\n",
       "}\n",
       "\n",
       "mpl.figure.prototype._init_toolbar = function() {\n",
       "    var fig = this;\n",
       "\n",
       "    var nav_element = $('<div/>');\n",
       "    nav_element.attr('style', 'width: 100%');\n",
       "    this.root.append(nav_element);\n",
       "\n",
       "    // Define a callback function for later on.\n",
       "    function toolbar_event(event) {\n",
       "        return fig.toolbar_button_onclick(event['data']);\n",
       "    }\n",
       "    function toolbar_mouse_event(event) {\n",
       "        return fig.toolbar_button_onmouseover(event['data']);\n",
       "    }\n",
       "\n",
       "    for(var toolbar_ind in mpl.toolbar_items){\n",
       "        var name = mpl.toolbar_items[toolbar_ind][0];\n",
       "        var tooltip = mpl.toolbar_items[toolbar_ind][1];\n",
       "        var image = mpl.toolbar_items[toolbar_ind][2];\n",
       "        var method_name = mpl.toolbar_items[toolbar_ind][3];\n",
       "\n",
       "        if (!name) { continue; };\n",
       "\n",
       "        var button = $('<button class=\"btn btn-default\" href=\"#\" title=\"' + name + '\"><i class=\"fa ' + image + ' fa-lg\"></i></button>');\n",
       "        button.click(method_name, toolbar_event);\n",
       "        button.mouseover(tooltip, toolbar_mouse_event);\n",
       "        nav_element.append(button);\n",
       "    }\n",
       "\n",
       "    // Add the status bar.\n",
       "    var status_bar = $('<span class=\"mpl-message\" style=\"text-align:right; float: right;\"/>');\n",
       "    nav_element.append(status_bar);\n",
       "    this.message = status_bar[0];\n",
       "\n",
       "    // Add the close button to the window.\n",
       "    var buttongrp = $('<div class=\"btn-group inline pull-right\"></div>');\n",
       "    var button = $('<button class=\"btn btn-mini btn-primary\" href=\"#\" title=\"Stop Interaction\"><i class=\"fa fa-power-off icon-remove icon-large\"></i></button>');\n",
       "    button.click(function (evt) { fig.handle_close(fig, {}); } );\n",
       "    button.mouseover('Stop Interaction', toolbar_mouse_event);\n",
       "    buttongrp.append(button);\n",
       "    var titlebar = this.root.find($('.ui-dialog-titlebar'));\n",
       "    titlebar.prepend(buttongrp);\n",
       "}\n",
       "\n",
       "mpl.figure.prototype._root_extra_style = function(el){\n",
       "    var fig = this\n",
       "    el.on(\"remove\", function(){\n",
       "\tfig.close_ws(fig, {});\n",
       "    });\n",
       "}\n",
       "\n",
       "mpl.figure.prototype._canvas_extra_style = function(el){\n",
       "    // this is important to make the div 'focusable\n",
       "    el.attr('tabindex', 0)\n",
       "    // reach out to IPython and tell the keyboard manager to turn it's self\n",
       "    // off when our div gets focus\n",
       "\n",
       "    // location in version 3\n",
       "    if (IPython.notebook.keyboard_manager) {\n",
       "        IPython.notebook.keyboard_manager.register_events(el);\n",
       "    }\n",
       "    else {\n",
       "        // location in version 2\n",
       "        IPython.keyboard_manager.register_events(el);\n",
       "    }\n",
       "\n",
       "}\n",
       "\n",
       "mpl.figure.prototype._key_event_extra = function(event, name) {\n",
       "    var manager = IPython.notebook.keyboard_manager;\n",
       "    if (!manager)\n",
       "        manager = IPython.keyboard_manager;\n",
       "\n",
       "    // Check for shift+enter\n",
       "    if (event.shiftKey && event.which == 13) {\n",
       "        this.canvas_div.blur();\n",
       "        // select the cell after this one\n",
       "        var index = IPython.notebook.find_cell_index(this.cell_info[0]);\n",
       "        IPython.notebook.select(index + 1);\n",
       "    }\n",
       "}\n",
       "\n",
       "mpl.figure.prototype.handle_save = function(fig, msg) {\n",
       "    fig.ondownload(fig, null);\n",
       "}\n",
       "\n",
       "\n",
       "mpl.find_output_cell = function(html_output) {\n",
       "    // Return the cell and output element which can be found *uniquely* in the notebook.\n",
       "    // Note - this is a bit hacky, but it is done because the \"notebook_saving.Notebook\"\n",
       "    // IPython event is triggered only after the cells have been serialised, which for\n",
       "    // our purposes (turning an active figure into a static one), is too late.\n",
       "    var cells = IPython.notebook.get_cells();\n",
       "    var ncells = cells.length;\n",
       "    for (var i=0; i<ncells; i++) {\n",
       "        var cell = cells[i];\n",
       "        if (cell.cell_type === 'code'){\n",
       "            for (var j=0; j<cell.output_area.outputs.length; j++) {\n",
       "                var data = cell.output_area.outputs[j];\n",
       "                if (data.data) {\n",
       "                    // IPython >= 3 moved mimebundle to data attribute of output\n",
       "                    data = data.data;\n",
       "                }\n",
       "                if (data['text/html'] == html_output) {\n",
       "                    return [cell, data, j];\n",
       "                }\n",
       "            }\n",
       "        }\n",
       "    }\n",
       "}\n",
       "\n",
       "// Register the function which deals with the matplotlib target/channel.\n",
       "// The kernel may be null if the page has been refreshed.\n",
       "if (IPython.notebook.kernel != null) {\n",
       "    IPython.notebook.kernel.comm_manager.register_target('matplotlib', mpl.mpl_figure_comm);\n",
       "}\n"
      ],
      "text/plain": [
       "<IPython.core.display.Javascript object>"
      ]
     },
     "metadata": {},
     "output_type": "display_data"
    },
    {
     "data": {
      "text/html": [
       "<img src=\"data:image/png;base64,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\" width=\"1000\">"
      ],
      "text/plain": [
       "<IPython.core.display.HTML object>"
      ]
     },
     "metadata": {},
     "output_type": "display_data"
    }
   ],
   "source": [
    "print('for model: ', model)   \n",
    "run_name = 'UNet I'\n",
    "# Create an mlflow run\n",
    "with mlflow.start_run(run_name=run_name) as run:\n",
    "    # Log parameters of the model\n",
    "    for key, value in vars(args).items():\n",
    "        print(key, value)\n",
    "        mlflow.log_param(key, value)\n",
    "    \n",
    "    # Log parameter count in the model\n",
    "    mlflow.log_param('Parameters', count_parameters(model))\n",
    "    \n",
    "    # Begin run\n",
    "    for result in trainNet(model, optimizer, loss,\n",
    "                            train_loader, val_loader,\n",
    "                            args.epochs+args.epoch_start, epoch_start=args.epoch_start,\n",
    "                            notebook=True, device=device):\n",
    "\n",
    "        result = result._asdict()\n",
    "        results = results.append(pd.Series(result), ignore_index=True)\n",
    "    \n",
    "        xs = results.index\n",
    "    \n",
    "        # Update the plot above\n",
    "        lines['train'].set_data(results.index,results.cost)\n",
    "        lines['val'].set_data(results.index,results.val)\n",
    "    \n",
    "        #filter first cost epoch (can be really large)\n",
    "        max_cost = max(max(results.cost if len(results.cost)<2 else results.cost[1:]), max(results.val))\n",
    "        min_cost = min(min(results.cost), min(results.val))\n",
    "    \n",
    "        # The plot limits need updating too\n",
    "        ax.set_ylim(min_cost*.9, max_cost*1.1)  \n",
    "        ax.set_xlim(-.5, len(results.cost) - .5)\n",
    "    \n",
    "        replace_in_ax(lax, lines['eff'], xs, results['eff_val'].apply(lambda x: x.eff_rate))\n",
    "        replace_in_ax(tax, lines['fp'], xs, results['eff_val'].apply(lambda x: x.fp_rate))\n",
    "    \n",
    "        # Redraw the figure\n",
    "        fig.canvas.draw()\n",
    "            \n",
    "        ## MLFLOW ##\n",
    "        # Log metrics\n",
    "        mlflow.log_metric('Efficiency', result['eff_val'].eff_rate, result['epoch'])\n",
    "        mlflow.log_metric('False Positive Rate',  result['eff_val'].fp_rate, result['epoch'])\n",
    "        mlflow.log_metric('Validation Loss',  result['val'], result['epoch'])\n",
    "        mlflow.log_metric('Training Loss',  result['cost'], result['epoch'])\n",
    "            \n",
    "        # Log tags\n",
    "        mlflow.set_tag('Optimizer', 'Adam')\n",
    "        mlflow.set_tag('Kernel size', 'Mixed')\n",
    "        mlflow.set_tag('Skip connections', '3')\n",
    "        mlflow.set_tag('Activation', 'Softplus')\n",
    "        mlflow.set_tag('Mid Activation', 'Relu')\n",
    "        mlflow.set_tag('Extra Data', 'False')\n",
    "\n",
    "        # Save model state dictionary, optimizer state dictionary, and epoch number\n",
    "        torch.save({\n",
    "            'model':model.state_dict(),\n",
    "            'optimizer':optimizer.state_dict(),\n",
    "            'epoch':args.epochs+result['epoch']\n",
    "            }, 'run_stats.pyt')\n",
    "        # Save the run stats into mlflow\n",
    "        mlflow.log_artifact('run_stats.pyt')\n",
    "            \n",
    "        # Save a diagram of the architecture\n",
    "#        HL.transforms.Fold(\"Conv\", \"Conv\"),\n",
    "#        HL.build_graph(model, torch.zeros([args.batch_size, 1, 4000]).to(device)).save('architecture', format='png')\n",
    "#        mlflow.log_artifact('architecture.png')\n",
    "        \n",
    "        # log the code for the model architecture\n",
    "#        mlflow.log_artifact('architecture.txt')\n",
    "        \n",
    "    dual_train_plots(results.index,\n",
    "                 results.cost, results.val, \n",
    "                 results['eff_val'].apply(lambda x: x.eff_rate),\n",
    "                 results['eff_val'].apply(lambda x: x.fp_rate))\n",
    "    # save plot\n",
    "    plt.tight_layout()\n",
    "    plt.savefig('plot.png')\n",
    "    mlflow.log_artifact('plot.png')"
   ]
  },
  {
   "cell_type": "code",
   "execution_count": 13,
   "metadata": {},
   "outputs": [],
   "source": [
    "##quit()"
   ]
  }
 ],
 "metadata": {
  "kernelspec": {
   "display_name": "goofit-june2020",
   "language": "python",
   "name": "goofit-june2020"
  },
  "language_info": {
   "codemirror_mode": {
    "name": "ipython",
    "version": 3
   },
   "file_extension": ".py",
   "mimetype": "text/x-python",
   "name": "python",
   "nbconvert_exporter": "python",
   "pygments_lexer": "ipython3",
   "version": "3.7.6"
  }
 },
 "nbformat": 4,
 "nbformat_minor": 2
}
