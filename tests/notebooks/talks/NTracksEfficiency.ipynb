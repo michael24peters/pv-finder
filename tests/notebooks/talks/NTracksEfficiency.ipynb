{
 "cells": [
  {
   "cell_type": "code",
   "execution_count": null,
   "metadata": {},
   "outputs": [],
   "source": [
    "import numpy as np\n",
    "import matplotlib.pyplot as plt\n",
    "import pickle"
   ]
  },
  {
   "cell_type": "markdown",
   "metadata": {},
   "source": [
    "Asymm from:\n",
    "\n",
    "    '/share/lazy/schreihf/PvFinder/models/'\n",
    "    '07Jan19_AltCNN4Layer_D35_sp_300epochs'\n",
    "    '_240K_lr_3em5_bs256_Alt_Loss_A_5p5/'\n",
    "    '07Jan19_AltCNN4Layer_D35_sp_300epochs'\n",
    "    '_240K_lr_3em5_bs256_Alt_Loss_A_5p5_199.pyt'\n",
    "\n",
    "Symm from:\n",
    "\n",
    "    '/share/lazy/schreihf/PvFinder/models/'\n",
    "    '02Mar19_AltCNN4Layer_D35_sp_200epochs'\n",
    "    '_240K_lr_1em4_bs256_Alt_Loss_A_0p0/'\n",
    "    '02Mar19_AltCNN4Layer_D35_sp_200epochs'\n",
    "    '_240K_lr_1em4_bs256_Alt_Loss_A_0p0_final.pyt'\n",
    "\n"
   ]
  },
  {
   "cell_type": "code",
   "execution_count": null,
   "metadata": {},
   "outputs": [],
   "source": [
    "plt.style.use('../model/lhcb.mplstyle')"
   ]
  },
  {
   "cell_type": "code",
   "execution_count": null,
   "metadata": {},
   "outputs": [],
   "source": [
    "arr_eff = np.loadtxt('arr_eff_asym.txt')\n",
    "arr_totals = np.loadtxt('arr_totals_asym.txt')\n",
    "total = pickle.loads(b'\\x80\\x03cmodel.efficiency\\nValueSet\\nq\\x00(JZ\\x92\\x01\\x00Jc\\x91\\x01\\x00MK\\x1aM\\x9d\\x13M!Ntq\\x01\\x81q\\x02.')"
   ]
  },
  {
   "cell_type": "code",
   "execution_count": null,
   "metadata": {},
   "outputs": [],
   "source": [
    "arr_eff_s = np.loadtxt('arr_eff_sym.txt')\n",
    "arr_totals_s = np.loadtxt('arr_totals_sym.txt')\n",
    "total_s = pickle.loads(b'\\x80\\x03cmodel.efficiency\\nValueSet\\nq\\x00(Jhy\\x01\\x00J\\xfcx\\x01\\x00M=3M\\xca\\x03M!Ntq\\x01\\x81q\\x02.')"
   ]
  },
  {
   "cell_type": "code",
   "execution_count": null,
   "metadata": {},
   "outputs": [],
   "source": [
    "fig, (ax1, ax2) = plt.subplots(2,1,figsize=(14,7), gridspec_kw={'height_ratios':(2,1)})\n",
    "\n",
    "ax1.bar(np.arange(5,61), arr_eff[5:61], width=1, align='edge')\n",
    "ax1.bar(np.arange(5), arr_eff[:5], width=1, align='edge')\n",
    "\n",
    "ax1.bar(np.arange(5,61), arr_eff_s[5:61], width=1, align='edge')\n",
    "ax1.bar(np.arange(5), arr_eff_s[:5], width=1, align='edge', color='#FF8888')\n",
    "\n",
    "\n",
    "ax1.set_xlabel('# LHCb long tracks')\n",
    "ax1.set_ylabel('Efficiency')\n",
    "ax1.set_ylim(0,1.0)\n",
    "ax1.set_xlim(0,61)\n",
    "ax1.set_yticks(np.arange(11)/10)\n",
    "ax1.set_yticks([.95,.96,.97,.98,.99],minor=True)\n",
    "ax1.set_xticks(np.arange(0,61,5))\n",
    "ax1.grid(which='both')\n",
    "\n",
    "ax2.bar(np.arange(5,61), arr_totals[5:61], width=1, align='edge')\n",
    "ax2.bar(np.arange(5), arr_totals[:5], width=1, align='edge')\n",
    "ax2.set_xlabel('# LHCb long tracks')\n",
    "ax2.set_ylabel('PVs')\n",
    "ax2.set_xlim(0,61)\n",
    "ax2.set_ylim(50,20000)\n",
    "ax2.set_yscale('log')\n",
    "ax2.set_xticks(np.arange(0,61,5))\n",
    "ax2.grid(which='both')\n",
    "\n",
    "# these are matplotlib.patch.Patch properties\n",
    "# total_found could be used instead of total.S\n",
    "props = dict(boxstyle='round', facecolor='C0')\n",
    "textprops = dict(color='C2', multialignment='left')\n",
    "textstr = f'''\\\n",
    "Found {total.S} of {total.real_pvs} (eff {total.S/total.real_pvs:.2%})\n",
    "False positive rate = {total.fp_rate:.3} per event\n",
    "Asymmetric cost function'''\n",
    "\n",
    "# place a text box in upper left in axes coords\n",
    "ax1.text(0.95, 0.9, textstr, transform=ax1.transAxes, fontsize=14,\n",
    "        verticalalignment='top', horizontalalignment='right', bbox=props, fontdict=textprops)\n",
    "\n",
    "# these are matplotlib.patch.Patch properties\n",
    "# total_found could be used instead of total.S\n",
    "props = dict(boxstyle='round', facecolor='C2')\n",
    "textprops = dict(color='C0', multialignment='left')\n",
    "textstr = f'''\\\n",
    "Found {total_s.S} of {total_s.real_pvs} (eff {total_s.S/total_s.real_pvs:.2%})\n",
    "False positive rate = {total_s.fp_rate:.3} per event\n",
    "Symmetric cost function'''\n",
    "\n",
    "# place a text box in upper left in axes coords\n",
    "ax1.text(0.95, 0.64, textstr, transform=ax1.transAxes, fontsize=14,\n",
    "        verticalalignment='top', horizontalalignment='right', bbox=props, fontdict=textprops)\n",
    "\n",
    "textstr = '''Events in sample = 20K\n",
    "Training sample = 240K'''\n",
    "\n",
    "ax1.text(0.662, 0.4, textstr, transform=ax1.transAxes, fontsize=14,\n",
    "        verticalalignment='top', horizontalalignment='left')\n",
    "\n",
    "plt.tight_layout()\n",
    "plt.savefig('effntracks.pdf')\n",
    "plt.show()"
   ]
  },
  {
   "cell_type": "code",
   "execution_count": null,
   "metadata": {},
   "outputs": [],
   "source": [
    "fig, ax = plt.subplots(figsize=(14,7))\n",
    "\n",
    "ax.bar(np.arange(5,61), arr_eff[5:61], width=1, align='edge')\n",
    "ax.bar(np.arange(5), arr_eff[:5], width=1, align='edge')\n",
    "\n",
    "ax.bar(np.arange(5,61), arr_eff_s[5:61], width=1, align='edge')\n",
    "ax.bar(np.arange(5), arr_eff_s[:5], width=1, align='edge', color='#FF8888')\n",
    "\n",
    "ax.set_xlabel('# LHCb long tracks')\n",
    "ax.set_ylabel('Efficiency')\n",
    "ax.set_ylim(0,1.0)\n",
    "ax.set_xlim(0,61)\n",
    "ax.set_yticks(np.arange(11)/10)\n",
    "ax.set_yticks([.95,.96,.97,.98,.99],minor=True)\n",
    "ax.set_xticks(np.arange(0,61,5))\n",
    "ax.spines[\"top\"].set_visible(False)\n",
    "ax.spines[\"right\"].set_visible(False)\n",
    "\n",
    "plt.tight_layout()\n",
    "plt.savefig('effntracks_bg.pdf')\n",
    "plt.show()"
   ]
  },
  {
   "cell_type": "code",
   "execution_count": null,
   "metadata": {},
   "outputs": [],
   "source": []
  }
 ],
 "metadata": {
  "kernelspec": {
   "display_name": "Python 3",
   "language": "python",
   "name": "python3"
  },
  "language_info": {
   "codemirror_mode": {
    "name": "ipython",
    "version": 3
   },
   "file_extension": ".py",
   "mimetype": "text/x-python",
   "name": "python",
   "nbconvert_exporter": "python",
   "pygments_lexer": "ipython3",
   "version": "3.7.3"
  }
 },
 "nbformat": 4,
 "nbformat_minor": 2
}
