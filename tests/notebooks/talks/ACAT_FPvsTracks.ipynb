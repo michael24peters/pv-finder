{
 "cells": [
  {
   "cell_type": "code",
   "execution_count": null,
   "metadata": {},
   "outputs": [],
   "source": [
    "import numpy as np\n",
    "import matplotlib.pyplot as plt\n",
    "plt.style.use('model/lhcb.mplstyle')"
   ]
  },
  {
   "cell_type": "code",
   "execution_count": null,
   "metadata": {},
   "outputs": [],
   "source": [
    "eff = [88.1, 90.4, 92.1, 93.9]\n",
    "fp =  [0.05, 0.08, 0.13, 0.25]"
   ]
  },
  {
   "cell_type": "code",
   "execution_count": null,
   "metadata": {},
   "outputs": [],
   "source": [
    "#for style in plt.style.available:\n",
    "#    with plt.style.context(style):"
   ]
  },
  {
   "cell_type": "code",
   "execution_count": null,
   "metadata": {},
   "outputs": [],
   "source": [
    "fig, axs = plt.subplots(1,2,figsize=(10,3))\n",
    "\n",
    "ax = axs[0]\n",
    "ax.plot(eff, fp, marker = 'o', linestyle = 'None')\n",
    "ax.set_xlabel('Efficiency [%]')\n",
    "ax.set_ylabel('FP per event')\n",
    "ax.annotate(\"Symm cost\",\n",
    "            (eff[0], fp[0]),\n",
    "            (eff[0]+.5, fp[0]+.05),\n",
    "            size=15,\n",
    "            arrowprops=dict(arrowstyle='->', shrinkB=5))\n",
    "ax.annotate(\"Most asymm cost\",\n",
    "            (eff[-1], fp[-1]),\n",
    "            (eff[-1]-3.5, fp[-1]-.05),\n",
    "            size=15,\n",
    "            arrowprops=dict(arrowstyle='->', shrinkB=5))\n",
    "\n",
    "ax.grid()\n",
    "\n",
    "ax = axs[1]\n",
    "\n",
    "ax.semilogy(eff, fp, marker = 'o', linestyle = 'None')\n",
    "ax.set_xlabel('Efficiency [%]')\n",
    "ax.set_ylabel('FP per event')\n",
    "ax.grid(which='both')\n",
    "ax.annotate(\"Symm cost\",\n",
    "            (eff[0], fp[0]),\n",
    "            (eff[0]+.5, fp[0]+.05),\n",
    "            size=15,\n",
    "            arrowprops=dict(arrowstyle='->', shrinkB=5))\n",
    "ax.annotate(\"Most asymm cost\",\n",
    "            (eff[-1], fp[-1]),\n",
    "            (eff[-1]-3.5, fp[-1]-.05),\n",
    "            size=15,\n",
    "            arrowprops=dict(arrowstyle='->', shrinkB=5))\n",
    "\n",
    "plt.tight_layout()\n",
    "plt.savefig(\"EffVsFP2.pdf\")\n",
    "plt.show()"
   ]
  },
  {
   "cell_type": "code",
   "execution_count": null,
   "metadata": {},
   "outputs": [],
   "source": []
  },
  {
   "cell_type": "code",
   "execution_count": null,
   "metadata": {},
   "outputs": [],
   "source": []
  }
 ],
 "metadata": {
  "kernelspec": {
   "display_name": "Python 3",
   "language": "python",
   "name": "python3"
  },
  "language_info": {
   "codemirror_mode": {
    "name": "ipython",
    "version": 3
   },
   "file_extension": ".py",
   "mimetype": "text/x-python",
   "name": "python",
   "nbconvert_exporter": "python",
   "pygments_lexer": "ipython3",
   "version": "3.7.3"
  }
 },
 "nbformat": 4,
 "nbformat_minor": 2
}
