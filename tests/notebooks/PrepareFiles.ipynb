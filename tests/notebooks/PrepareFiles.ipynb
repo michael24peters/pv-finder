{
 "cells": [
  {
   "cell_type": "code",
   "execution_count": null,
   "metadata": {},
   "outputs": [],
   "source": [
    "import numpy as np\n",
    "from model.origdata import (process_root_file,\n",
    "                           concatinate_data,\n",
    "                           save_data_hdf5)\n",
    "from pathlib import Path\n",
    "import h5py"
   ]
  },
  {
   "cell_type": "markdown",
   "metadata": {},
   "source": [
    "This is the processor function. It works by making a `mat` array that looks like:\n",
    "\n",
    "    [[-100.3 -100.2 -100.1 -100.   -99.9  -99.8  -99.7]\n",
    "     [-100.2 -100.1 -100.   -99.9  -99.8  -99.7  -99.6]]\n",
    "     \n",
    "This array is the edges of the bins, where `[0,:]` is the lower edge.\n",
    "By simply adding this to a bin number, you can calculate the locations of\n",
    "all element in parallel, for usage in the `cdf` function."
   ]
  },
  {
   "cell_type": "code",
   "execution_count": null,
   "metadata": {},
   "outputs": [],
   "source": [
    "names = '''\n",
    "kernel_20180719\n",
    "kernel_20180720_1\n",
    "kernel_20180720_2\n",
    "'''.split()\n",
    "\n",
    "files = [Path('/data/schreihf/PvFinder') / (name + '.root') for name in names]\n",
    "\n",
    "outputs = [process_root_file(f) for f in files]"
   ]
  },
  {
   "cell_type": "code",
   "execution_count": null,
   "metadata": {},
   "outputs": [],
   "source": [
    "%%time\n",
    "coutputs = concatinate_data(outputs)"
   ]
  },
  {
   "cell_type": "code",
   "execution_count": null,
   "metadata": {},
   "outputs": [],
   "source": [
    "with h5py.File(\"temp.h5\", \"w\") as hf:\n",
    "    save_data_hdf5(hf, coutputs, files)"
   ]
  },
  {
   "cell_type": "code",
   "execution_count": null,
   "metadata": {},
   "outputs": [],
   "source": []
  }
 ],
 "metadata": {
  "kernelspec": {
   "display_name": "Python 3",
   "language": "python",
   "name": "python3"
  },
  "language_info": {
   "codemirror_mode": {
    "name": "ipython",
    "version": 3
   },
   "file_extension": ".py",
   "mimetype": "text/x-python",
   "name": "python",
   "nbconvert_exporter": "python",
   "pygments_lexer": "ipython3",
   "version": "3.7.3"
  }
 },
 "nbformat": 4,
 "nbformat_minor": 2
}
