{
 "cells": [
  {
   "cell_type": "code",
   "execution_count": 1,
   "metadata": {},
   "outputs": [],
   "source": [
    "##%matplotlib widget\n",
    "%matplotlib notebook"
   ]
  },
  {
   "cell_type": "markdown",
   "metadata": {},
   "source": [
    "Check the current GPU usage. Please try to be nice!"
   ]
  },
  {
   "cell_type": "code",
   "execution_count": 2,
   "metadata": {},
   "outputs": [
    {
     "name": "stdout",
     "output_type": "stream",
     "text": [
      "Tue Jun 25 06:08:30 2019       \r\n",
      "+-----------------------------------------------------------------------------+\r\n",
      "| NVIDIA-SMI 418.40.04    Driver Version: 418.40.04    CUDA Version: 10.1     |\r\n",
      "|-------------------------------+----------------------+----------------------+\r\n",
      "| GPU  Name        Persistence-M| Bus-Id        Disp.A | Volatile Uncorr. ECC |\r\n",
      "| Fan  Temp  Perf  Pwr:Usage/Cap|         Memory-Usage | GPU-Util  Compute M. |\r\n",
      "|===============================+======================+======================|\r\n",
      "|   0  TITAN V             Off  | 00000000:03:00.0 Off |                  N/A |\r\n",
      "| 28%   36C    P8    24W / 250W |      0MiB / 12036MiB |      0%      Default |\r\n",
      "+-------------------------------+----------------------+----------------------+\r\n",
      "|   1  Tesla P100-PCIE...  Off  | 00000000:83:00.0 Off |                    0 |\r\n",
      "| N/A   36C    P0    27W / 250W |      0MiB / 16280MiB |      0%      Default |\r\n",
      "+-------------------------------+----------------------+----------------------+\r\n",
      "|   2  TITAN V             Off  | 00000000:84:00.0 Off |                  N/A |\r\n",
      "| 28%   40C    P8    26W / 250W |      0MiB / 12036MiB |      0%      Default |\r\n",
      "+-------------------------------+----------------------+----------------------+\r\n",
      "                                                                               \r\n",
      "+-----------------------------------------------------------------------------+\r\n",
      "| Processes:                                                       GPU Memory |\r\n",
      "|  GPU       PID   Type   Process name                             Usage      |\r\n",
      "|=============================================================================|\r\n",
      "|  No running processes found                                                 |\r\n",
      "+-----------------------------------------------------------------------------+\r\n"
     ]
    }
   ],
   "source": [
    "!nvidia-smi"
   ]
  },
  {
   "cell_type": "markdown",
   "metadata": {},
   "source": [
    "> **WARNING**: The card numbers here are *not* the same as in CUDA. You have been warned."
   ]
  },
  {
   "cell_type": "markdown",
   "metadata": {},
   "source": [
    "## Imports"
   ]
  },
  {
   "cell_type": "code",
   "execution_count": 3,
   "metadata": {},
   "outputs": [],
   "source": [
    "import matplotlib.pyplot as plt\n",
    "import numpy as np\n",
    "import time\n",
    "import torch\n",
    "import pandas as pd\n",
    "\n",
    "# Python 3 standard library\n",
    "from pathlib import Path"
   ]
  },
  {
   "cell_type": "markdown",
   "metadata": {},
   "source": [
    "### Set up local parameters"
   ]
  },
  {
   "cell_type": "code",
   "execution_count": 4,
   "metadata": {},
   "outputs": [],
   "source": [
    "n_epochs = 100\n",
    "\n",
    "# Name is the output file name\n",
    "##oldName = 'Oct11_SimpleCNN4Layer_C_100epochs_160K_lr_3em4'\n",
    "##oldName = 'Oct22_SimpleCNN5Layer_C_many_epochs_160K_lr_1em4_bs64'\n",
    "##oldName = 'Oct22_SimpleCNN5Layer_C_restart40epochs_240K_lr_1em4_bs64'\n",
    "##oldName = 'Oct28_SimpleCNN4Layer_D_YetAnother400epochs_240K_lr_1em3_bs64'\n",
    "##oldName = 'Nov11_SimpleCNN4Layer_D35_Amother200epochs_240K_lr_3em5_bs64'\n",
    "##oldName = 'Nov14_SimpleCNN4Layer_D25_Another50epochs_240K_lr_3em5_bs64'\n",
    "##oldName = 'Nov15_SimpleCNN4Layer_D25_Another50epochs_240K_lr_1em4_bs64_Alt_Loss_A_0p5'\n",
    "##oldName = 'Nov15_SimpleCNN4Layer_D35_YetAnother50epochs_240K_lr_1em4_bs64_Alt_Loss_A_1p0'\n",
    "##oldName = 'Nov15_SimpleCNN4Layer_D35_YetAnother50epochs_240K_lr_1em4_bs64_Alt_Loss_A_1p5'\n",
    "##oldName = 'Nov15_SimpleCNN4Layer_D35_YetAnother20epochs_240K_lr_1em4_bs64_Alt_Loss_A_2p0'\n",
    "##oldName = 'Nov15_SimpleCNN4Layer_D35_YetAnother250epochs_240K_lr_3em5_bs64_Alt_Loss_A_2p5'\n",
    "oldName = 'Nov15_SimpleCNN4Layer_D35_YetAnother150epochs_240K_lr_1em4_bs64_Alt_Loss_A_3p0'\n",
    "name = 'June24_XandXsq_CNN4Layer_D35_100epochs_160K_lr_1em4_bs64_Alt_Loss_A_3p0'\n",
    "\n",
    "\n",
    "# Make an output folder named \"name\" (change if you want)\n",
    "output = Path(name)\n",
    "oldOutput = Path(oldName)\n",
    "# These are the input data files to read in\n",
    "trainfile = [Path('/share/lazy/schreihf/PvFinder/Aug14_80K_train.npz'),\n",
    "            Path('/share/lazy/schreihf/PvFinder/Oct03_80K_train.npz'),\n",
    "            Path('/share/lazy/schreihf/PvFinder/Oct03_80K2_train.npz')]\n",
    "valfile = Path('/share/lazy/schreihf/PvFinder/Oct03_20K_val.npz')\n",
    "\n",
    "# Size of batches\n",
    "batch_size = 64\n",
    "\n",
    "# How fast to learn\n",
    "learning_rate = 1e-4"
   ]
  },
  {
   "cell_type": "markdown",
   "metadata": {},
   "source": [
    "Make the output directory if it does not exist:"
   ]
  },
  {
   "cell_type": "code",
   "execution_count": 5,
   "metadata": {},
   "outputs": [],
   "source": [
    "output.mkdir(exist_ok=True)"
   ]
  },
  {
   "cell_type": "markdown",
   "metadata": {},
   "source": [
    "## Get the helper functions\n",
    "\n",
    "Add the directory with the model\n",
    "definitions to the path so we can import from it:\n",
    "\n",
    "> When you type `import X`,\n",
    "Python searches `sys.path` for a python\n",
    "file named `X.py` to import. So we need to add the model directory to the path."
   ]
  },
  {
   "cell_type": "code",
   "execution_count": 6,
   "metadata": {
    "scrolled": true
   },
   "outputs": [],
   "source": [
    "# From model/collectdata.py\n",
    "from model.collectdata_mdsA import collect_data\n",
    "\n",
    "# From model/loss.py\n",
    "##from loss import Loss\n",
    "from model.alt_loss_A import Loss\n",
    "\n",
    "# From model/training.py\n",
    "from model.training import trainNet, select_gpu\n",
    "\n",
    "# From model/models.py\n",
    "from model.models_mds_C import TwoFeatures_CNN4Layer_D35 as Model\n",
    "\n",
    "from model.training import trainNet, select_gpu, Results\n",
    "from model.plots import dual_train_plots, replace_in_ax"
   ]
  },
  {
   "cell_type": "code",
   "execution_count": 7,
   "metadata": {},
   "outputs": [],
   "source": [
    "# This gets built up during the run - do not rerun this cell\n",
    "results = pd.DataFrame([], columns=Results._fields)"
   ]
  },
  {
   "cell_type": "markdown",
   "metadata": {},
   "source": [
    "Set up Torch device configuration. All tensors and model parameters need to know where to be put.\n",
    "This takes a BUS ID number: The BUS ID is the same as the listing at the top of this script."
   ]
  },
  {
   "cell_type": "code",
   "execution_count": 8,
   "metadata": {},
   "outputs": [
    {
     "name": "stdout",
     "output_type": "stream",
     "text": [
      "1 available GPUs (initially using device 0):\n",
      "  0 TITAN V\n"
     ]
    }
   ],
   "source": [
    "device = select_gpu(2)"
   ]
  },
  {
   "cell_type": "markdown",
   "metadata": {},
   "source": [
    "## Loading data\n",
    "\n",
    "Load the dataset, split into parts, then move to device (see `collectdata.py` in the `../model` directory)"
   ]
  },
  {
   "cell_type": "code",
   "execution_count": 9,
   "metadata": {
    "scrolled": true
   },
   "outputs": [
    {
     "name": "stdout",
     "output_type": "stream",
     "text": [
      "Loading data...\n",
      "Loaded data/Aug14_80K_train.h5 in 13.14 s\n",
      "Loaded data/Oct03_80K_train.h5 in 12.83 s\n",
      "Constructing 160000 event dataset took 8.89 s\n",
      "Loading data...\n",
      "Loaded data/Oct03_20K_val.h5 in 3.032 s\n",
      "Constructing 9984 event dataset took 0.4798 s\n"
     ]
    }
   ],
   "source": [
    "## newer vernacular\n",
    "# Training dataset. You can put as many files here as desired.\n",
    "\n",
    "##  set the optio load_XandXsq = True to use both DKE and KDE^2 as input features\n",
    "train_loader = collect_data('data/Aug14_80K_train.h5',\n",
    "                            'data/Oct03_80K_train.h5',\n",
    "##                          'data/Oct03_80K2_train.h5',\n",
    "                            batch_size=batch_size,\n",
    "                            device=device,\n",
    "                            masking=True, shuffle=True,\n",
    "                            load_XandXsq=True)\n",
    "\n",
    "# Validation dataset. You can slice to reduce the size.\n",
    "val_loader = collect_data('data/Oct03_20K_val.h5',\n",
    "                          batch_size=batch_size,\n",
    "                          slice=slice(256 * 39),\n",
    "                          device=device,\n",
    "                          masking=True, shuffle=False,\n",
    "                          load_XandXsq=True)"
   ]
  },
  {
   "cell_type": "markdown",
   "metadata": {},
   "source": [
    "# Preparing the model"
   ]
  },
  {
   "cell_type": "markdown",
   "metadata": {},
   "source": [
    "Prepare a model, use multiple GPUs if they are VISIBLE, and move the model to the device."
   ]
  },
  {
   "cell_type": "code",
   "execution_count": 10,
   "metadata": {},
   "outputs": [],
   "source": [
    "model = Model()\n",
    "loss = Loss(epsilon=1e-5,coefficient=3.0)\n",
    "optimizer = torch.optim.Adam(model.parameters(), lr=learning_rate)"
   ]
  },
  {
   "cell_type": "code",
   "execution_count": 11,
   "metadata": {
    "scrolled": true
   },
   "outputs": [
    {
     "name": "stdout",
     "output_type": "stream",
     "text": [
      "Let's use 1 GPUs!\n"
     ]
    }
   ],
   "source": [
    "print(\"Let's use\", torch.cuda.device_count(), \"GPUs!\")\n",
    "if torch.cuda.device_count() > 1:\n",
    "    model = torch.nn.DataParallel(model)"
   ]
  },
  {
   "cell_type": "markdown",
   "metadata": {},
   "source": [
    "Let's move the model's weight matricies to the GPU:"
   ]
  },
  {
   "cell_type": "code",
   "execution_count": 12,
   "metadata": {},
   "outputs": [
    {
     "name": "stdout",
     "output_type": "stream",
     "text": [
      "output =  June24_XandXsq_CNN4Layer_D35_100epochs_160K_lr_1em4_bs64_Alt_Loss_A_3p0\n",
      "oldOutput =  Nov15_SimpleCNN4Layer_D35_YetAnother150epochs_240K_lr_1em4_bs64_Alt_Loss_A_3p0\n"
     ]
    }
   ],
   "source": [
    "print('output = ',output)\n",
    "print('oldOutput = ',oldOutput)\n",
    "##model.load_state_dict(torch.load('./Nov15_SimpleCNN4Layer_D35_YetAnother150epochs_240K_lr_1em4_bs64_Alt_Loss_A_3p0/Nov15_SimpleCNN4Layer_D35_YetAnother150epochs_240K_lr_1em4_bs64_Alt_Loss_A_3p0_final.pyt'))"
   ]
  },
  {
   "cell_type": "code",
   "execution_count": 13,
   "metadata": {
    "scrolled": true
   },
   "outputs": [],
   "source": [
    "model = model.to(device)"
   ]
  },
  {
   "cell_type": "markdown",
   "metadata": {},
   "source": [
    "## Train \n",
    "\n",
    "\n",
    "\n",
    "The body of this loop runs once per epoch. Results is a named tuple of values (loss per epoch for training and validation, time each). Start by setting up a plot first:"
   ]
  },
  {
   "cell_type": "code",
   "execution_count": 14,
   "metadata": {
    "scrolled": false
   },
   "outputs": [
    {
     "data": {
      "application/javascript": [
       "/* Put everything inside the global mpl namespace */\n",
       "window.mpl = {};\n",
       "\n",
       "\n",
       "mpl.get_websocket_type = function() {\n",
       "    if (typeof(WebSocket) !== 'undefined') {\n",
       "        return WebSocket;\n",
       "    } else if (typeof(MozWebSocket) !== 'undefined') {\n",
       "        return MozWebSocket;\n",
       "    } else {\n",
       "        alert('Your browser does not have WebSocket support.' +\n",
       "              'Please try Chrome, Safari or Firefox ≥ 6. ' +\n",
       "              'Firefox 4 and 5 are also supported but you ' +\n",
       "              'have to enable WebSockets in about:config.');\n",
       "    };\n",
       "}\n",
       "\n",
       "mpl.figure = function(figure_id, websocket, ondownload, parent_element) {\n",
       "    this.id = figure_id;\n",
       "\n",
       "    this.ws = websocket;\n",
       "\n",
       "    this.supports_binary = (this.ws.binaryType != undefined);\n",
       "\n",
       "    if (!this.supports_binary) {\n",
       "        var warnings = document.getElementById(\"mpl-warnings\");\n",
       "        if (warnings) {\n",
       "            warnings.style.display = 'block';\n",
       "            warnings.textContent = (\n",
       "                \"This browser does not support binary websocket messages. \" +\n",
       "                    \"Performance may be slow.\");\n",
       "        }\n",
       "    }\n",
       "\n",
       "    this.imageObj = new Image();\n",
       "\n",
       "    this.context = undefined;\n",
       "    this.message = undefined;\n",
       "    this.canvas = undefined;\n",
       "    this.rubberband_canvas = undefined;\n",
       "    this.rubberband_context = undefined;\n",
       "    this.format_dropdown = undefined;\n",
       "\n",
       "    this.image_mode = 'full';\n",
       "\n",
       "    this.root = $('<div/>');\n",
       "    this._root_extra_style(this.root)\n",
       "    this.root.attr('style', 'display: inline-block');\n",
       "\n",
       "    $(parent_element).append(this.root);\n",
       "\n",
       "    this._init_header(this);\n",
       "    this._init_canvas(this);\n",
       "    this._init_toolbar(this);\n",
       "\n",
       "    var fig = this;\n",
       "\n",
       "    this.waiting = false;\n",
       "\n",
       "    this.ws.onopen =  function () {\n",
       "            fig.send_message(\"supports_binary\", {value: fig.supports_binary});\n",
       "            fig.send_message(\"send_image_mode\", {});\n",
       "            if (mpl.ratio != 1) {\n",
       "                fig.send_message(\"set_dpi_ratio\", {'dpi_ratio': mpl.ratio});\n",
       "            }\n",
       "            fig.send_message(\"refresh\", {});\n",
       "        }\n",
       "\n",
       "    this.imageObj.onload = function() {\n",
       "            if (fig.image_mode == 'full') {\n",
       "                // Full images could contain transparency (where diff images\n",
       "                // almost always do), so we need to clear the canvas so that\n",
       "                // there is no ghosting.\n",
       "                fig.context.clearRect(0, 0, fig.canvas.width, fig.canvas.height);\n",
       "            }\n",
       "            fig.context.drawImage(fig.imageObj, 0, 0);\n",
       "        };\n",
       "\n",
       "    this.imageObj.onunload = function() {\n",
       "        fig.ws.close();\n",
       "    }\n",
       "\n",
       "    this.ws.onmessage = this._make_on_message_function(this);\n",
       "\n",
       "    this.ondownload = ondownload;\n",
       "}\n",
       "\n",
       "mpl.figure.prototype._init_header = function() {\n",
       "    var titlebar = $(\n",
       "        '<div class=\"ui-dialog-titlebar ui-widget-header ui-corner-all ' +\n",
       "        'ui-helper-clearfix\"/>');\n",
       "    var titletext = $(\n",
       "        '<div class=\"ui-dialog-title\" style=\"width: 100%; ' +\n",
       "        'text-align: center; padding: 3px;\"/>');\n",
       "    titlebar.append(titletext)\n",
       "    this.root.append(titlebar);\n",
       "    this.header = titletext[0];\n",
       "}\n",
       "\n",
       "\n",
       "\n",
       "mpl.figure.prototype._canvas_extra_style = function(canvas_div) {\n",
       "\n",
       "}\n",
       "\n",
       "\n",
       "mpl.figure.prototype._root_extra_style = function(canvas_div) {\n",
       "\n",
       "}\n",
       "\n",
       "mpl.figure.prototype._init_canvas = function() {\n",
       "    var fig = this;\n",
       "\n",
       "    var canvas_div = $('<div/>');\n",
       "\n",
       "    canvas_div.attr('style', 'position: relative; clear: both; outline: 0');\n",
       "\n",
       "    function canvas_keyboard_event(event) {\n",
       "        return fig.key_event(event, event['data']);\n",
       "    }\n",
       "\n",
       "    canvas_div.keydown('key_press', canvas_keyboard_event);\n",
       "    canvas_div.keyup('key_release', canvas_keyboard_event);\n",
       "    this.canvas_div = canvas_div\n",
       "    this._canvas_extra_style(canvas_div)\n",
       "    this.root.append(canvas_div);\n",
       "\n",
       "    var canvas = $('<canvas/>');\n",
       "    canvas.addClass('mpl-canvas');\n",
       "    canvas.attr('style', \"left: 0; top: 0; z-index: 0; outline: 0\")\n",
       "\n",
       "    this.canvas = canvas[0];\n",
       "    this.context = canvas[0].getContext(\"2d\");\n",
       "\n",
       "    var backingStore = this.context.backingStorePixelRatio ||\n",
       "\tthis.context.webkitBackingStorePixelRatio ||\n",
       "\tthis.context.mozBackingStorePixelRatio ||\n",
       "\tthis.context.msBackingStorePixelRatio ||\n",
       "\tthis.context.oBackingStorePixelRatio ||\n",
       "\tthis.context.backingStorePixelRatio || 1;\n",
       "\n",
       "    mpl.ratio = (window.devicePixelRatio || 1) / backingStore;\n",
       "\n",
       "    var rubberband = $('<canvas/>');\n",
       "    rubberband.attr('style', \"position: absolute; left: 0; top: 0; z-index: 1;\")\n",
       "\n",
       "    var pass_mouse_events = true;\n",
       "\n",
       "    canvas_div.resizable({\n",
       "        start: function(event, ui) {\n",
       "            pass_mouse_events = false;\n",
       "        },\n",
       "        resize: function(event, ui) {\n",
       "            fig.request_resize(ui.size.width, ui.size.height);\n",
       "        },\n",
       "        stop: function(event, ui) {\n",
       "            pass_mouse_events = true;\n",
       "            fig.request_resize(ui.size.width, ui.size.height);\n",
       "        },\n",
       "    });\n",
       "\n",
       "    function mouse_event_fn(event) {\n",
       "        if (pass_mouse_events)\n",
       "            return fig.mouse_event(event, event['data']);\n",
       "    }\n",
       "\n",
       "    rubberband.mousedown('button_press', mouse_event_fn);\n",
       "    rubberband.mouseup('button_release', mouse_event_fn);\n",
       "    // Throttle sequential mouse events to 1 every 20ms.\n",
       "    rubberband.mousemove('motion_notify', mouse_event_fn);\n",
       "\n",
       "    rubberband.mouseenter('figure_enter', mouse_event_fn);\n",
       "    rubberband.mouseleave('figure_leave', mouse_event_fn);\n",
       "\n",
       "    canvas_div.on(\"wheel\", function (event) {\n",
       "        event = event.originalEvent;\n",
       "        event['data'] = 'scroll'\n",
       "        if (event.deltaY < 0) {\n",
       "            event.step = 1;\n",
       "        } else {\n",
       "            event.step = -1;\n",
       "        }\n",
       "        mouse_event_fn(event);\n",
       "    });\n",
       "\n",
       "    canvas_div.append(canvas);\n",
       "    canvas_div.append(rubberband);\n",
       "\n",
       "    this.rubberband = rubberband;\n",
       "    this.rubberband_canvas = rubberband[0];\n",
       "    this.rubberband_context = rubberband[0].getContext(\"2d\");\n",
       "    this.rubberband_context.strokeStyle = \"#000000\";\n",
       "\n",
       "    this._resize_canvas = function(width, height) {\n",
       "        // Keep the size of the canvas, canvas container, and rubber band\n",
       "        // canvas in synch.\n",
       "        canvas_div.css('width', width)\n",
       "        canvas_div.css('height', height)\n",
       "\n",
       "        canvas.attr('width', width * mpl.ratio);\n",
       "        canvas.attr('height', height * mpl.ratio);\n",
       "        canvas.attr('style', 'width: ' + width + 'px; height: ' + height + 'px;');\n",
       "\n",
       "        rubberband.attr('width', width);\n",
       "        rubberband.attr('height', height);\n",
       "    }\n",
       "\n",
       "    // Set the figure to an initial 600x600px, this will subsequently be updated\n",
       "    // upon first draw.\n",
       "    this._resize_canvas(600, 600);\n",
       "\n",
       "    // Disable right mouse context menu.\n",
       "    $(this.rubberband_canvas).bind(\"contextmenu\",function(e){\n",
       "        return false;\n",
       "    });\n",
       "\n",
       "    function set_focus () {\n",
       "        canvas.focus();\n",
       "        canvas_div.focus();\n",
       "    }\n",
       "\n",
       "    window.setTimeout(set_focus, 100);\n",
       "}\n",
       "\n",
       "mpl.figure.prototype._init_toolbar = function() {\n",
       "    var fig = this;\n",
       "\n",
       "    var nav_element = $('<div/>')\n",
       "    nav_element.attr('style', 'width: 100%');\n",
       "    this.root.append(nav_element);\n",
       "\n",
       "    // Define a callback function for later on.\n",
       "    function toolbar_event(event) {\n",
       "        return fig.toolbar_button_onclick(event['data']);\n",
       "    }\n",
       "    function toolbar_mouse_event(event) {\n",
       "        return fig.toolbar_button_onmouseover(event['data']);\n",
       "    }\n",
       "\n",
       "    for(var toolbar_ind in mpl.toolbar_items) {\n",
       "        var name = mpl.toolbar_items[toolbar_ind][0];\n",
       "        var tooltip = mpl.toolbar_items[toolbar_ind][1];\n",
       "        var image = mpl.toolbar_items[toolbar_ind][2];\n",
       "        var method_name = mpl.toolbar_items[toolbar_ind][3];\n",
       "\n",
       "        if (!name) {\n",
       "            // put a spacer in here.\n",
       "            continue;\n",
       "        }\n",
       "        var button = $('<button/>');\n",
       "        button.addClass('ui-button ui-widget ui-state-default ui-corner-all ' +\n",
       "                        'ui-button-icon-only');\n",
       "        button.attr('role', 'button');\n",
       "        button.attr('aria-disabled', 'false');\n",
       "        button.click(method_name, toolbar_event);\n",
       "        button.mouseover(tooltip, toolbar_mouse_event);\n",
       "\n",
       "        var icon_img = $('<span/>');\n",
       "        icon_img.addClass('ui-button-icon-primary ui-icon');\n",
       "        icon_img.addClass(image);\n",
       "        icon_img.addClass('ui-corner-all');\n",
       "\n",
       "        var tooltip_span = $('<span/>');\n",
       "        tooltip_span.addClass('ui-button-text');\n",
       "        tooltip_span.html(tooltip);\n",
       "\n",
       "        button.append(icon_img);\n",
       "        button.append(tooltip_span);\n",
       "\n",
       "        nav_element.append(button);\n",
       "    }\n",
       "\n",
       "    var fmt_picker_span = $('<span/>');\n",
       "\n",
       "    var fmt_picker = $('<select/>');\n",
       "    fmt_picker.addClass('mpl-toolbar-option ui-widget ui-widget-content');\n",
       "    fmt_picker_span.append(fmt_picker);\n",
       "    nav_element.append(fmt_picker_span);\n",
       "    this.format_dropdown = fmt_picker[0];\n",
       "\n",
       "    for (var ind in mpl.extensions) {\n",
       "        var fmt = mpl.extensions[ind];\n",
       "        var option = $(\n",
       "            '<option/>', {selected: fmt === mpl.default_extension}).html(fmt);\n",
       "        fmt_picker.append(option)\n",
       "    }\n",
       "\n",
       "    // Add hover states to the ui-buttons\n",
       "    $( \".ui-button\" ).hover(\n",
       "        function() { $(this).addClass(\"ui-state-hover\");},\n",
       "        function() { $(this).removeClass(\"ui-state-hover\");}\n",
       "    );\n",
       "\n",
       "    var status_bar = $('<span class=\"mpl-message\"/>');\n",
       "    nav_element.append(status_bar);\n",
       "    this.message = status_bar[0];\n",
       "}\n",
       "\n",
       "mpl.figure.prototype.request_resize = function(x_pixels, y_pixels) {\n",
       "    // Request matplotlib to resize the figure. Matplotlib will then trigger a resize in the client,\n",
       "    // which will in turn request a refresh of the image.\n",
       "    this.send_message('resize', {'width': x_pixels, 'height': y_pixels});\n",
       "}\n",
       "\n",
       "mpl.figure.prototype.send_message = function(type, properties) {\n",
       "    properties['type'] = type;\n",
       "    properties['figure_id'] = this.id;\n",
       "    this.ws.send(JSON.stringify(properties));\n",
       "}\n",
       "\n",
       "mpl.figure.prototype.send_draw_message = function() {\n",
       "    if (!this.waiting) {\n",
       "        this.waiting = true;\n",
       "        this.ws.send(JSON.stringify({type: \"draw\", figure_id: this.id}));\n",
       "    }\n",
       "}\n",
       "\n",
       "\n",
       "mpl.figure.prototype.handle_save = function(fig, msg) {\n",
       "    var format_dropdown = fig.format_dropdown;\n",
       "    var format = format_dropdown.options[format_dropdown.selectedIndex].value;\n",
       "    fig.ondownload(fig, format);\n",
       "}\n",
       "\n",
       "\n",
       "mpl.figure.prototype.handle_resize = function(fig, msg) {\n",
       "    var size = msg['size'];\n",
       "    if (size[0] != fig.canvas.width || size[1] != fig.canvas.height) {\n",
       "        fig._resize_canvas(size[0], size[1]);\n",
       "        fig.send_message(\"refresh\", {});\n",
       "    };\n",
       "}\n",
       "\n",
       "mpl.figure.prototype.handle_rubberband = function(fig, msg) {\n",
       "    var x0 = msg['x0'] / mpl.ratio;\n",
       "    var y0 = (fig.canvas.height - msg['y0']) / mpl.ratio;\n",
       "    var x1 = msg['x1'] / mpl.ratio;\n",
       "    var y1 = (fig.canvas.height - msg['y1']) / mpl.ratio;\n",
       "    x0 = Math.floor(x0) + 0.5;\n",
       "    y0 = Math.floor(y0) + 0.5;\n",
       "    x1 = Math.floor(x1) + 0.5;\n",
       "    y1 = Math.floor(y1) + 0.5;\n",
       "    var min_x = Math.min(x0, x1);\n",
       "    var min_y = Math.min(y0, y1);\n",
       "    var width = Math.abs(x1 - x0);\n",
       "    var height = Math.abs(y1 - y0);\n",
       "\n",
       "    fig.rubberband_context.clearRect(\n",
       "        0, 0, fig.canvas.width, fig.canvas.height);\n",
       "\n",
       "    fig.rubberband_context.strokeRect(min_x, min_y, width, height);\n",
       "}\n",
       "\n",
       "mpl.figure.prototype.handle_figure_label = function(fig, msg) {\n",
       "    // Updates the figure title.\n",
       "    fig.header.textContent = msg['label'];\n",
       "}\n",
       "\n",
       "mpl.figure.prototype.handle_cursor = function(fig, msg) {\n",
       "    var cursor = msg['cursor'];\n",
       "    switch(cursor)\n",
       "    {\n",
       "    case 0:\n",
       "        cursor = 'pointer';\n",
       "        break;\n",
       "    case 1:\n",
       "        cursor = 'default';\n",
       "        break;\n",
       "    case 2:\n",
       "        cursor = 'crosshair';\n",
       "        break;\n",
       "    case 3:\n",
       "        cursor = 'move';\n",
       "        break;\n",
       "    }\n",
       "    fig.rubberband_canvas.style.cursor = cursor;\n",
       "}\n",
       "\n",
       "mpl.figure.prototype.handle_message = function(fig, msg) {\n",
       "    fig.message.textContent = msg['message'];\n",
       "}\n",
       "\n",
       "mpl.figure.prototype.handle_draw = function(fig, msg) {\n",
       "    // Request the server to send over a new figure.\n",
       "    fig.send_draw_message();\n",
       "}\n",
       "\n",
       "mpl.figure.prototype.handle_image_mode = function(fig, msg) {\n",
       "    fig.image_mode = msg['mode'];\n",
       "}\n",
       "\n",
       "mpl.figure.prototype.updated_canvas_event = function() {\n",
       "    // Called whenever the canvas gets updated.\n",
       "    this.send_message(\"ack\", {});\n",
       "}\n",
       "\n",
       "// A function to construct a web socket function for onmessage handling.\n",
       "// Called in the figure constructor.\n",
       "mpl.figure.prototype._make_on_message_function = function(fig) {\n",
       "    return function socket_on_message(evt) {\n",
       "        if (evt.data instanceof Blob) {\n",
       "            /* FIXME: We get \"Resource interpreted as Image but\n",
       "             * transferred with MIME type text/plain:\" errors on\n",
       "             * Chrome.  But how to set the MIME type?  It doesn't seem\n",
       "             * to be part of the websocket stream */\n",
       "            evt.data.type = \"image/png\";\n",
       "\n",
       "            /* Free the memory for the previous frames */\n",
       "            if (fig.imageObj.src) {\n",
       "                (window.URL || window.webkitURL).revokeObjectURL(\n",
       "                    fig.imageObj.src);\n",
       "            }\n",
       "\n",
       "            fig.imageObj.src = (window.URL || window.webkitURL).createObjectURL(\n",
       "                evt.data);\n",
       "            fig.updated_canvas_event();\n",
       "            fig.waiting = false;\n",
       "            return;\n",
       "        }\n",
       "        else if (typeof evt.data === 'string' && evt.data.slice(0, 21) == \"data:image/png;base64\") {\n",
       "            fig.imageObj.src = evt.data;\n",
       "            fig.updated_canvas_event();\n",
       "            fig.waiting = false;\n",
       "            return;\n",
       "        }\n",
       "\n",
       "        var msg = JSON.parse(evt.data);\n",
       "        var msg_type = msg['type'];\n",
       "\n",
       "        // Call the  \"handle_{type}\" callback, which takes\n",
       "        // the figure and JSON message as its only arguments.\n",
       "        try {\n",
       "            var callback = fig[\"handle_\" + msg_type];\n",
       "        } catch (e) {\n",
       "            console.log(\"No handler for the '\" + msg_type + \"' message type: \", msg);\n",
       "            return;\n",
       "        }\n",
       "\n",
       "        if (callback) {\n",
       "            try {\n",
       "                // console.log(\"Handling '\" + msg_type + \"' message: \", msg);\n",
       "                callback(fig, msg);\n",
       "            } catch (e) {\n",
       "                console.log(\"Exception inside the 'handler_\" + msg_type + \"' callback:\", e, e.stack, msg);\n",
       "            }\n",
       "        }\n",
       "    };\n",
       "}\n",
       "\n",
       "// from http://stackoverflow.com/questions/1114465/getting-mouse-location-in-canvas\n",
       "mpl.findpos = function(e) {\n",
       "    //this section is from http://www.quirksmode.org/js/events_properties.html\n",
       "    var targ;\n",
       "    if (!e)\n",
       "        e = window.event;\n",
       "    if (e.target)\n",
       "        targ = e.target;\n",
       "    else if (e.srcElement)\n",
       "        targ = e.srcElement;\n",
       "    if (targ.nodeType == 3) // defeat Safari bug\n",
       "        targ = targ.parentNode;\n",
       "\n",
       "    // jQuery normalizes the pageX and pageY\n",
       "    // pageX,Y are the mouse positions relative to the document\n",
       "    // offset() returns the position of the element relative to the document\n",
       "    var x = e.pageX - $(targ).offset().left;\n",
       "    var y = e.pageY - $(targ).offset().top;\n",
       "\n",
       "    return {\"x\": x, \"y\": y};\n",
       "};\n",
       "\n",
       "/*\n",
       " * return a copy of an object with only non-object keys\n",
       " * we need this to avoid circular references\n",
       " * http://stackoverflow.com/a/24161582/3208463\n",
       " */\n",
       "function simpleKeys (original) {\n",
       "  return Object.keys(original).reduce(function (obj, key) {\n",
       "    if (typeof original[key] !== 'object')\n",
       "        obj[key] = original[key]\n",
       "    return obj;\n",
       "  }, {});\n",
       "}\n",
       "\n",
       "mpl.figure.prototype.mouse_event = function(event, name) {\n",
       "    var canvas_pos = mpl.findpos(event)\n",
       "\n",
       "    if (name === 'button_press')\n",
       "    {\n",
       "        this.canvas.focus();\n",
       "        this.canvas_div.focus();\n",
       "    }\n",
       "\n",
       "    var x = canvas_pos.x * mpl.ratio;\n",
       "    var y = canvas_pos.y * mpl.ratio;\n",
       "\n",
       "    this.send_message(name, {x: x, y: y, button: event.button,\n",
       "                             step: event.step,\n",
       "                             guiEvent: simpleKeys(event)});\n",
       "\n",
       "    /* This prevents the web browser from automatically changing to\n",
       "     * the text insertion cursor when the button is pressed.  We want\n",
       "     * to control all of the cursor setting manually through the\n",
       "     * 'cursor' event from matplotlib */\n",
       "    event.preventDefault();\n",
       "    return false;\n",
       "}\n",
       "\n",
       "mpl.figure.prototype._key_event_extra = function(event, name) {\n",
       "    // Handle any extra behaviour associated with a key event\n",
       "}\n",
       "\n",
       "mpl.figure.prototype.key_event = function(event, name) {\n",
       "\n",
       "    // Prevent repeat events\n",
       "    if (name == 'key_press')\n",
       "    {\n",
       "        if (event.which === this._key)\n",
       "            return;\n",
       "        else\n",
       "            this._key = event.which;\n",
       "    }\n",
       "    if (name == 'key_release')\n",
       "        this._key = null;\n",
       "\n",
       "    var value = '';\n",
       "    if (event.ctrlKey && event.which != 17)\n",
       "        value += \"ctrl+\";\n",
       "    if (event.altKey && event.which != 18)\n",
       "        value += \"alt+\";\n",
       "    if (event.shiftKey && event.which != 16)\n",
       "        value += \"shift+\";\n",
       "\n",
       "    value += 'k';\n",
       "    value += event.which.toString();\n",
       "\n",
       "    this._key_event_extra(event, name);\n",
       "\n",
       "    this.send_message(name, {key: value,\n",
       "                             guiEvent: simpleKeys(event)});\n",
       "    return false;\n",
       "}\n",
       "\n",
       "mpl.figure.prototype.toolbar_button_onclick = function(name) {\n",
       "    if (name == 'download') {\n",
       "        this.handle_save(this, null);\n",
       "    } else {\n",
       "        this.send_message(\"toolbar_button\", {name: name});\n",
       "    }\n",
       "};\n",
       "\n",
       "mpl.figure.prototype.toolbar_button_onmouseover = function(tooltip) {\n",
       "    this.message.textContent = tooltip;\n",
       "};\n",
       "mpl.toolbar_items = [[\"Home\", \"Reset original view\", \"fa fa-home icon-home\", \"home\"], [\"Back\", \"Back to previous view\", \"fa fa-arrow-left icon-arrow-left\", \"back\"], [\"Forward\", \"Forward to next view\", \"fa fa-arrow-right icon-arrow-right\", \"forward\"], [\"\", \"\", \"\", \"\"], [\"Pan\", \"Pan axes with left mouse, zoom with right\", \"fa fa-arrows icon-move\", \"pan\"], [\"Zoom\", \"Zoom to rectangle\", \"fa fa-square-o icon-check-empty\", \"zoom\"], [\"\", \"\", \"\", \"\"], [\"Download\", \"Download plot\", \"fa fa-floppy-o icon-save\", \"download\"]];\n",
       "\n",
       "mpl.extensions = [\"eps\", \"jpeg\", \"pdf\", \"png\", \"ps\", \"raw\", \"svg\", \"tif\"];\n",
       "\n",
       "mpl.default_extension = \"png\";var comm_websocket_adapter = function(comm) {\n",
       "    // Create a \"websocket\"-like object which calls the given IPython comm\n",
       "    // object with the appropriate methods. Currently this is a non binary\n",
       "    // socket, so there is still some room for performance tuning.\n",
       "    var ws = {};\n",
       "\n",
       "    ws.close = function() {\n",
       "        comm.close()\n",
       "    };\n",
       "    ws.send = function(m) {\n",
       "        //console.log('sending', m);\n",
       "        comm.send(m);\n",
       "    };\n",
       "    // Register the callback with on_msg.\n",
       "    comm.on_msg(function(msg) {\n",
       "        //console.log('receiving', msg['content']['data'], msg);\n",
       "        // Pass the mpl event to the overridden (by mpl) onmessage function.\n",
       "        ws.onmessage(msg['content']['data'])\n",
       "    });\n",
       "    return ws;\n",
       "}\n",
       "\n",
       "mpl.mpl_figure_comm = function(comm, msg) {\n",
       "    // This is the function which gets called when the mpl process\n",
       "    // starts-up an IPython Comm through the \"matplotlib\" channel.\n",
       "\n",
       "    var id = msg.content.data.id;\n",
       "    // Get hold of the div created by the display call when the Comm\n",
       "    // socket was opened in Python.\n",
       "    var element = $(\"#\" + id);\n",
       "    var ws_proxy = comm_websocket_adapter(comm)\n",
       "\n",
       "    function ondownload(figure, format) {\n",
       "        window.open(figure.imageObj.src);\n",
       "    }\n",
       "\n",
       "    var fig = new mpl.figure(id, ws_proxy,\n",
       "                           ondownload,\n",
       "                           element.get(0));\n",
       "\n",
       "    // Call onopen now - mpl needs it, as it is assuming we've passed it a real\n",
       "    // web socket which is closed, not our websocket->open comm proxy.\n",
       "    ws_proxy.onopen();\n",
       "\n",
       "    fig.parent_element = element.get(0);\n",
       "    fig.cell_info = mpl.find_output_cell(\"<div id='\" + id + \"'></div>\");\n",
       "    if (!fig.cell_info) {\n",
       "        console.error(\"Failed to find cell for figure\", id, fig);\n",
       "        return;\n",
       "    }\n",
       "\n",
       "    var output_index = fig.cell_info[2]\n",
       "    var cell = fig.cell_info[0];\n",
       "\n",
       "};\n",
       "\n",
       "mpl.figure.prototype.handle_close = function(fig, msg) {\n",
       "    var width = fig.canvas.width/mpl.ratio\n",
       "    fig.root.unbind('remove')\n",
       "\n",
       "    // Update the output cell to use the data from the current canvas.\n",
       "    fig.push_to_output();\n",
       "    var dataURL = fig.canvas.toDataURL();\n",
       "    // Re-enable the keyboard manager in IPython - without this line, in FF,\n",
       "    // the notebook keyboard shortcuts fail.\n",
       "    IPython.keyboard_manager.enable()\n",
       "    $(fig.parent_element).html('<img src=\"' + dataURL + '\" width=\"' + width + '\">');\n",
       "    fig.close_ws(fig, msg);\n",
       "}\n",
       "\n",
       "mpl.figure.prototype.close_ws = function(fig, msg){\n",
       "    fig.send_message('closing', msg);\n",
       "    // fig.ws.close()\n",
       "}\n",
       "\n",
       "mpl.figure.prototype.push_to_output = function(remove_interactive) {\n",
       "    // Turn the data on the canvas into data in the output cell.\n",
       "    var width = this.canvas.width/mpl.ratio\n",
       "    var dataURL = this.canvas.toDataURL();\n",
       "    this.cell_info[1]['text/html'] = '<img src=\"' + dataURL + '\" width=\"' + width + '\">';\n",
       "}\n",
       "\n",
       "mpl.figure.prototype.updated_canvas_event = function() {\n",
       "    // Tell IPython that the notebook contents must change.\n",
       "    IPython.notebook.set_dirty(true);\n",
       "    this.send_message(\"ack\", {});\n",
       "    var fig = this;\n",
       "    // Wait a second, then push the new image to the DOM so\n",
       "    // that it is saved nicely (might be nice to debounce this).\n",
       "    setTimeout(function () { fig.push_to_output() }, 1000);\n",
       "}\n",
       "\n",
       "mpl.figure.prototype._init_toolbar = function() {\n",
       "    var fig = this;\n",
       "\n",
       "    var nav_element = $('<div/>')\n",
       "    nav_element.attr('style', 'width: 100%');\n",
       "    this.root.append(nav_element);\n",
       "\n",
       "    // Define a callback function for later on.\n",
       "    function toolbar_event(event) {\n",
       "        return fig.toolbar_button_onclick(event['data']);\n",
       "    }\n",
       "    function toolbar_mouse_event(event) {\n",
       "        return fig.toolbar_button_onmouseover(event['data']);\n",
       "    }\n",
       "\n",
       "    for(var toolbar_ind in mpl.toolbar_items){\n",
       "        var name = mpl.toolbar_items[toolbar_ind][0];\n",
       "        var tooltip = mpl.toolbar_items[toolbar_ind][1];\n",
       "        var image = mpl.toolbar_items[toolbar_ind][2];\n",
       "        var method_name = mpl.toolbar_items[toolbar_ind][3];\n",
       "\n",
       "        if (!name) { continue; };\n",
       "\n",
       "        var button = $('<button class=\"btn btn-default\" href=\"#\" title=\"' + name + '\"><i class=\"fa ' + image + ' fa-lg\"></i></button>');\n",
       "        button.click(method_name, toolbar_event);\n",
       "        button.mouseover(tooltip, toolbar_mouse_event);\n",
       "        nav_element.append(button);\n",
       "    }\n",
       "\n",
       "    // Add the status bar.\n",
       "    var status_bar = $('<span class=\"mpl-message\" style=\"text-align:right; float: right;\"/>');\n",
       "    nav_element.append(status_bar);\n",
       "    this.message = status_bar[0];\n",
       "\n",
       "    // Add the close button to the window.\n",
       "    var buttongrp = $('<div class=\"btn-group inline pull-right\"></div>');\n",
       "    var button = $('<button class=\"btn btn-mini btn-primary\" href=\"#\" title=\"Stop Interaction\"><i class=\"fa fa-power-off icon-remove icon-large\"></i></button>');\n",
       "    button.click(function (evt) { fig.handle_close(fig, {}); } );\n",
       "    button.mouseover('Stop Interaction', toolbar_mouse_event);\n",
       "    buttongrp.append(button);\n",
       "    var titlebar = this.root.find($('.ui-dialog-titlebar'));\n",
       "    titlebar.prepend(buttongrp);\n",
       "}\n",
       "\n",
       "mpl.figure.prototype._root_extra_style = function(el){\n",
       "    var fig = this\n",
       "    el.on(\"remove\", function(){\n",
       "\tfig.close_ws(fig, {});\n",
       "    });\n",
       "}\n",
       "\n",
       "mpl.figure.prototype._canvas_extra_style = function(el){\n",
       "    // this is important to make the div 'focusable\n",
       "    el.attr('tabindex', 0)\n",
       "    // reach out to IPython and tell the keyboard manager to turn it's self\n",
       "    // off when our div gets focus\n",
       "\n",
       "    // location in version 3\n",
       "    if (IPython.notebook.keyboard_manager) {\n",
       "        IPython.notebook.keyboard_manager.register_events(el);\n",
       "    }\n",
       "    else {\n",
       "        // location in version 2\n",
       "        IPython.keyboard_manager.register_events(el);\n",
       "    }\n",
       "\n",
       "}\n",
       "\n",
       "mpl.figure.prototype._key_event_extra = function(event, name) {\n",
       "    var manager = IPython.notebook.keyboard_manager;\n",
       "    if (!manager)\n",
       "        manager = IPython.keyboard_manager;\n",
       "\n",
       "    // Check for shift+enter\n",
       "    if (event.shiftKey && event.which == 13) {\n",
       "        this.canvas_div.blur();\n",
       "        event.shiftKey = false;\n",
       "        // Send a \"J\" for go to next cell\n",
       "        event.which = 74;\n",
       "        event.keyCode = 74;\n",
       "        manager.command_mode();\n",
       "        manager.handle_keydown(event);\n",
       "    }\n",
       "}\n",
       "\n",
       "mpl.figure.prototype.handle_save = function(fig, msg) {\n",
       "    fig.ondownload(fig, null);\n",
       "}\n",
       "\n",
       "\n",
       "mpl.find_output_cell = function(html_output) {\n",
       "    // Return the cell and output element which can be found *uniquely* in the notebook.\n",
       "    // Note - this is a bit hacky, but it is done because the \"notebook_saving.Notebook\"\n",
       "    // IPython event is triggered only after the cells have been serialised, which for\n",
       "    // our purposes (turning an active figure into a static one), is too late.\n",
       "    var cells = IPython.notebook.get_cells();\n",
       "    var ncells = cells.length;\n",
       "    for (var i=0; i<ncells; i++) {\n",
       "        var cell = cells[i];\n",
       "        if (cell.cell_type === 'code'){\n",
       "            for (var j=0; j<cell.output_area.outputs.length; j++) {\n",
       "                var data = cell.output_area.outputs[j];\n",
       "                if (data.data) {\n",
       "                    // IPython >= 3 moved mimebundle to data attribute of output\n",
       "                    data = data.data;\n",
       "                }\n",
       "                if (data['text/html'] == html_output) {\n",
       "                    return [cell, data, j];\n",
       "                }\n",
       "            }\n",
       "        }\n",
       "    }\n",
       "}\n",
       "\n",
       "// Register the function which deals with the matplotlib target/channel.\n",
       "// The kernel may be null if the page has been refreshed.\n",
       "if (IPython.notebook.kernel != null) {\n",
       "    IPython.notebook.kernel.comm_manager.register_target('matplotlib', mpl.mpl_figure_comm);\n",
       "}\n"
      ],
      "text/plain": [
       "<IPython.core.display.Javascript object>"
      ]
     },
     "metadata": {},
     "output_type": "display_data"
    },
    {
     "data": {
      "text/html": [
       "<img src=\"data:image/png;base64,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\" width=\"1000\">"
      ],
      "text/plain": [
       "<IPython.core.display.HTML object>"
      ]
     },
     "metadata": {},
     "output_type": "display_data"
    }
   ],
   "source": [
    "ax, tax, lax, lines = dual_train_plots()\n",
    "fig = ax.figure\n",
    "plt.tight_layout()"
   ]
  },
  {
   "cell_type": "code",
   "execution_count": 15,
   "metadata": {},
   "outputs": [
    {
     "name": "stdout",
     "output_type": "stream",
     "text": [
      "Number of batches: train = 2500, val = 156\n"
     ]
    },
    {
     "data": {
      "application/vnd.jupyter.widget-view+json": {
       "model_id": "a1a104ef6cfc4c43962a80f5449b5347",
       "version_major": 2,
       "version_minor": 0
      },
      "text/plain": [
       "HBox(children=(IntProgress(value=0, description='Epochs', layout=Layout(flex='2'), style=ProgressStyle(descrip…"
      ]
     },
     "metadata": {},
     "output_type": "display_data"
    },
    {
     "data": {
      "application/vnd.jupyter.widget-view+json": {
       "model_id": "",
       "version_major": 2,
       "version_minor": 0
      },
      "text/plain": [
       "HBox(children=(IntProgress(value=0, description='Training', layout=Layout(flex='2'), max=2500, style=ProgressS…"
      ]
     },
     "metadata": {},
     "output_type": "display_data"
    },
    {
     "name": "stdout",
     "output_type": "stream",
     "text": [
      "Epoch 0: train=28.8708, val=19.4176, took 52.739 s\n",
      "  Validation Found 0 of 54700, added 0 (eff 0.00%) (0.0 FP/event)\n"
     ]
    },
    {
     "data": {
      "application/vnd.jupyter.widget-view+json": {
       "model_id": "",
       "version_major": 2,
       "version_minor": 0
      },
      "text/plain": [
       "HBox(children=(IntProgress(value=0, description='Training', layout=Layout(flex='2'), max=2500, style=ProgressS…"
      ]
     },
     "metadata": {},
     "output_type": "display_data"
    },
    {
     "name": "stdout",
     "output_type": "stream",
     "text": [
      "Epoch 1: train=19.3977, val=19.4176, took 50.255 s\n",
      "  Validation Found 0 of 54700, added 0 (eff 0.00%) (0.0 FP/event)\n"
     ]
    },
    {
     "data": {
      "application/vnd.jupyter.widget-view+json": {
       "model_id": "",
       "version_major": 2,
       "version_minor": 0
      },
      "text/plain": [
       "HBox(children=(IntProgress(value=0, description='Training', layout=Layout(flex='2'), max=2500, style=ProgressS…"
      ]
     },
     "metadata": {},
     "output_type": "display_data"
    },
    {
     "name": "stdout",
     "output_type": "stream",
     "text": [
      "Epoch 2: train=19.3861, val=19.3717, took 50.317 s\n",
      "  Validation Found 0 of 54700, added 0 (eff 0.00%) (0.0 FP/event)\n"
     ]
    },
    {
     "data": {
      "application/vnd.jupyter.widget-view+json": {
       "model_id": "",
       "version_major": 2,
       "version_minor": 0
      },
      "text/plain": [
       "HBox(children=(IntProgress(value=0, description='Training', layout=Layout(flex='2'), max=2500, style=ProgressS…"
      ]
     },
     "metadata": {},
     "output_type": "display_data"
    },
    {
     "name": "stdout",
     "output_type": "stream",
     "text": [
      "Epoch 3: train=13.5867, val=8.17487, took 50.251 s\n",
      "  Validation Found 37511 of 54700, added 535 (eff 68.58%) (0.0536 FP/event)\n"
     ]
    },
    {
     "data": {
      "application/vnd.jupyter.widget-view+json": {
       "model_id": "",
       "version_major": 2,
       "version_minor": 0
      },
      "text/plain": [
       "HBox(children=(IntProgress(value=0, description='Training', layout=Layout(flex='2'), max=2500, style=ProgressS…"
      ]
     },
     "metadata": {},
     "output_type": "display_data"
    },
    {
     "name": "stdout",
     "output_type": "stream",
     "text": [
      "Epoch 4: train=8.40566, val=6.81862, took 50.336 s\n",
      "  Validation Found 43925 of 54700, added 1119 (eff 80.30%) (0.112 FP/event)\n"
     ]
    },
    {
     "data": {
      "application/vnd.jupyter.widget-view+json": {
       "model_id": "",
       "version_major": 2,
       "version_minor": 0
      },
      "text/plain": [
       "HBox(children=(IntProgress(value=0, description='Training', layout=Layout(flex='2'), max=2500, style=ProgressS…"
      ]
     },
     "metadata": {},
     "output_type": "display_data"
    },
    {
     "name": "stdout",
     "output_type": "stream",
     "text": [
      "Epoch 5: train=7.39409, val=6.19016, took 50.377 s\n",
      "  Validation Found 45599 of 54700, added 1143 (eff 83.36%) (0.114 FP/event)\n"
     ]
    },
    {
     "data": {
      "application/vnd.jupyter.widget-view+json": {
       "model_id": "",
       "version_major": 2,
       "version_minor": 0
      },
      "text/plain": [
       "HBox(children=(IntProgress(value=0, description='Training', layout=Layout(flex='2'), max=2500, style=ProgressS…"
      ]
     },
     "metadata": {},
     "output_type": "display_data"
    },
    {
     "name": "stdout",
     "output_type": "stream",
     "text": [
      "Epoch 6: train=6.8316, val=5.83354, took 50.46 s\n",
      "  Validation Found 46909 of 54700, added 1426 (eff 85.76%) (0.143 FP/event)\n"
     ]
    },
    {
     "data": {
      "application/vnd.jupyter.widget-view+json": {
       "model_id": "",
       "version_major": 2,
       "version_minor": 0
      },
      "text/plain": [
       "HBox(children=(IntProgress(value=0, description='Training', layout=Layout(flex='2'), max=2500, style=ProgressS…"
      ]
     },
     "metadata": {},
     "output_type": "display_data"
    },
    {
     "name": "stdout",
     "output_type": "stream",
     "text": [
      "Epoch 7: train=6.4831, val=5.72, took 50.353 s\n",
      "  Validation Found 47682 of 54700, added 1576 (eff 87.17%) (0.158 FP/event)\n"
     ]
    },
    {
     "data": {
      "application/vnd.jupyter.widget-view+json": {
       "model_id": "",
       "version_major": 2,
       "version_minor": 0
      },
      "text/plain": [
       "HBox(children=(IntProgress(value=0, description='Training', layout=Layout(flex='2'), max=2500, style=ProgressS…"
      ]
     },
     "metadata": {},
     "output_type": "display_data"
    },
    {
     "name": "stdout",
     "output_type": "stream",
     "text": [
      "Epoch 8: train=6.26274, val=5.50486, took 50.38 s\n",
      "  Validation Found 47926 of 54700, added 1577 (eff 87.62%) (0.158 FP/event)\n"
     ]
    },
    {
     "data": {
      "application/vnd.jupyter.widget-view+json": {
       "model_id": "",
       "version_major": 2,
       "version_minor": 0
      },
      "text/plain": [
       "HBox(children=(IntProgress(value=0, description='Training', layout=Layout(flex='2'), max=2500, style=ProgressS…"
      ]
     },
     "metadata": {},
     "output_type": "display_data"
    },
    {
     "name": "stdout",
     "output_type": "stream",
     "text": [
      "Epoch 9: train=6.09601, val=5.40668, took 50.371 s\n",
      "  Validation Found 48211 of 54700, added 1649 (eff 88.14%) (0.165 FP/event)\n"
     ]
    },
    {
     "data": {
      "application/vnd.jupyter.widget-view+json": {
       "model_id": "",
       "version_major": 2,
       "version_minor": 0
      },
      "text/plain": [
       "HBox(children=(IntProgress(value=0, description='Training', layout=Layout(flex='2'), max=2500, style=ProgressS…"
      ]
     },
     "metadata": {},
     "output_type": "display_data"
    },
    {
     "name": "stdout",
     "output_type": "stream",
     "text": [
      "Epoch 10: train=5.96625, val=5.33706, took 49.08 s\n",
      "  Validation Found 48397 of 54700, added 1672 (eff 88.48%) (0.167 FP/event)\n"
     ]
    },
    {
     "data": {
      "application/vnd.jupyter.widget-view+json": {
       "model_id": "",
       "version_major": 2,
       "version_minor": 0
      },
      "text/plain": [
       "HBox(children=(IntProgress(value=0, description='Training', layout=Layout(flex='2'), max=2500, style=ProgressS…"
      ]
     },
     "metadata": {},
     "output_type": "display_data"
    },
    {
     "name": "stdout",
     "output_type": "stream",
     "text": [
      "Epoch 11: train=5.86072, val=5.23208, took 50.357 s\n",
      "  Validation Found 48500 of 54700, added 1696 (eff 88.67%) (0.17 FP/event)\n"
     ]
    },
    {
     "data": {
      "application/vnd.jupyter.widget-view+json": {
       "model_id": "",
       "version_major": 2,
       "version_minor": 0
      },
      "text/plain": [
       "HBox(children=(IntProgress(value=0, description='Training', layout=Layout(flex='2'), max=2500, style=ProgressS…"
      ]
     },
     "metadata": {},
     "output_type": "display_data"
    },
    {
     "name": "stdout",
     "output_type": "stream",
     "text": [
      "Epoch 12: train=5.77157, val=5.18503, took 49.953 s\n",
      "  Validation Found 48542 of 54700, added 1683 (eff 88.74%) (0.169 FP/event)\n"
     ]
    },
    {
     "data": {
      "application/vnd.jupyter.widget-view+json": {
       "model_id": "",
       "version_major": 2,
       "version_minor": 0
      },
      "text/plain": [
       "HBox(children=(IntProgress(value=0, description='Training', layout=Layout(flex='2'), max=2500, style=ProgressS…"
      ]
     },
     "metadata": {},
     "output_type": "display_data"
    },
    {
     "name": "stdout",
     "output_type": "stream",
     "text": [
      "Epoch 13: train=5.69562, val=5.11988, took 49.353 s\n",
      "  Validation Found 48490 of 54700, added 1568 (eff 88.65%) (0.157 FP/event)\n"
     ]
    },
    {
     "data": {
      "application/vnd.jupyter.widget-view+json": {
       "model_id": "",
       "version_major": 2,
       "version_minor": 0
      },
      "text/plain": [
       "HBox(children=(IntProgress(value=0, description='Training', layout=Layout(flex='2'), max=2500, style=ProgressS…"
      ]
     },
     "metadata": {},
     "output_type": "display_data"
    },
    {
     "name": "stdout",
     "output_type": "stream",
     "text": [
      "Epoch 14: train=5.63123, val=5.07265, took 50.223 s\n",
      "  Validation Found 48651 of 54700, added 1637 (eff 88.94%) (0.164 FP/event)\n"
     ]
    },
    {
     "data": {
      "application/vnd.jupyter.widget-view+json": {
       "model_id": "",
       "version_major": 2,
       "version_minor": 0
      },
      "text/plain": [
       "HBox(children=(IntProgress(value=0, description='Training', layout=Layout(flex='2'), max=2500, style=ProgressS…"
      ]
     },
     "metadata": {},
     "output_type": "display_data"
    },
    {
     "name": "stdout",
     "output_type": "stream",
     "text": [
      "Epoch 15: train=5.56435, val=5.06138, took 50.343 s\n",
      "  Validation Found 48550 of 54700, added 1533 (eff 88.76%) (0.154 FP/event)\n"
     ]
    },
    {
     "data": {
      "application/vnd.jupyter.widget-view+json": {
       "model_id": "",
       "version_major": 2,
       "version_minor": 0
      },
      "text/plain": [
       "HBox(children=(IntProgress(value=0, description='Training', layout=Layout(flex='2'), max=2500, style=ProgressS…"
      ]
     },
     "metadata": {},
     "output_type": "display_data"
    },
    {
     "name": "stdout",
     "output_type": "stream",
     "text": [
      "Epoch 16: train=5.50222, val=5.05074, took 50.502 s\n",
      "  Validation Found 48846 of 54700, added 1686 (eff 89.30%) (0.169 FP/event)\n"
     ]
    },
    {
     "data": {
      "application/vnd.jupyter.widget-view+json": {
       "model_id": "",
       "version_major": 2,
       "version_minor": 0
      },
      "text/plain": [
       "HBox(children=(IntProgress(value=0, description='Training', layout=Layout(flex='2'), max=2500, style=ProgressS…"
      ]
     },
     "metadata": {},
     "output_type": "display_data"
    },
    {
     "name": "stdout",
     "output_type": "stream",
     "text": [
      "Epoch 17: train=5.44759, val=4.97205, took 50.48 s\n",
      "  Validation Found 48713 of 54700, added 1650 (eff 89.05%) (0.165 FP/event)\n"
     ]
    },
    {
     "data": {
      "application/vnd.jupyter.widget-view+json": {
       "model_id": "",
       "version_major": 2,
       "version_minor": 0
      },
      "text/plain": [
       "HBox(children=(IntProgress(value=0, description='Training', layout=Layout(flex='2'), max=2500, style=ProgressS…"
      ]
     },
     "metadata": {},
     "output_type": "display_data"
    },
    {
     "name": "stdout",
     "output_type": "stream",
     "text": [
      "Epoch 18: train=5.39931, val=4.95271, took 50.457 s\n",
      "  Validation Found 48790 of 54700, added 1655 (eff 89.20%) (0.166 FP/event)\n"
     ]
    },
    {
     "data": {
      "application/vnd.jupyter.widget-view+json": {
       "model_id": "",
       "version_major": 2,
       "version_minor": 0
      },
      "text/plain": [
       "HBox(children=(IntProgress(value=0, description='Training', layout=Layout(flex='2'), max=2500, style=ProgressS…"
      ]
     },
     "metadata": {},
     "output_type": "display_data"
    },
    {
     "name": "stdout",
     "output_type": "stream",
     "text": [
      "Epoch 19: train=5.34817, val=4.92305, took 50.462 s\n",
      "  Validation Found 48826 of 54700, added 1637 (eff 89.26%) (0.164 FP/event)\n"
     ]
    },
    {
     "data": {
      "application/vnd.jupyter.widget-view+json": {
       "model_id": "",
       "version_major": 2,
       "version_minor": 0
      },
      "text/plain": [
       "HBox(children=(IntProgress(value=0, description='Training', layout=Layout(flex='2'), max=2500, style=ProgressS…"
      ]
     },
     "metadata": {},
     "output_type": "display_data"
    },
    {
     "name": "stdout",
     "output_type": "stream",
     "text": [
      "Epoch 20: train=5.3074, val=4.86068, took 50.462 s\n",
      "  Validation Found 48673 of 54700, added 1537 (eff 88.98%) (0.154 FP/event)\n"
     ]
    },
    {
     "data": {
      "application/vnd.jupyter.widget-view+json": {
       "model_id": "",
       "version_major": 2,
       "version_minor": 0
      },
      "text/plain": [
       "HBox(children=(IntProgress(value=0, description='Training', layout=Layout(flex='2'), max=2500, style=ProgressS…"
      ]
     },
     "metadata": {},
     "output_type": "display_data"
    },
    {
     "name": "stdout",
     "output_type": "stream",
     "text": [
      "Epoch 21: train=5.2725, val=4.87803, took 51.137 s\n",
      "  Validation Found 48946 of 54700, added 1629 (eff 89.48%) (0.163 FP/event)\n"
     ]
    },
    {
     "data": {
      "application/vnd.jupyter.widget-view+json": {
       "model_id": "",
       "version_major": 2,
       "version_minor": 0
      },
      "text/plain": [
       "HBox(children=(IntProgress(value=0, description='Training', layout=Layout(flex='2'), max=2500, style=ProgressS…"
      ]
     },
     "metadata": {},
     "output_type": "display_data"
    },
    {
     "name": "stdout",
     "output_type": "stream",
     "text": [
      "Epoch 22: train=5.24, val=4.83637, took 51.221 s\n",
      "  Validation Found 48693 of 54700, added 1449 (eff 89.02%) (0.145 FP/event)\n"
     ]
    },
    {
     "data": {
      "application/vnd.jupyter.widget-view+json": {
       "model_id": "",
       "version_major": 2,
       "version_minor": 0
      },
      "text/plain": [
       "HBox(children=(IntProgress(value=0, description='Training', layout=Layout(flex='2'), max=2500, style=ProgressS…"
      ]
     },
     "metadata": {},
     "output_type": "display_data"
    },
    {
     "name": "stdout",
     "output_type": "stream",
     "text": [
      "Epoch 23: train=5.21049, val=4.83359, took 50.384 s\n",
      "  Validation Found 48850 of 54700, added 1526 (eff 89.31%) (0.153 FP/event)\n"
     ]
    },
    {
     "data": {
      "application/vnd.jupyter.widget-view+json": {
       "model_id": "",
       "version_major": 2,
       "version_minor": 0
      },
      "text/plain": [
       "HBox(children=(IntProgress(value=0, description='Training', layout=Layout(flex='2'), max=2500, style=ProgressS…"
      ]
     },
     "metadata": {},
     "output_type": "display_data"
    },
    {
     "name": "stdout",
     "output_type": "stream",
     "text": [
      "Epoch 24: train=5.18203, val=4.82509, took 50.054 s\n",
      "  Validation Found 49089 of 54700, added 1686 (eff 89.74%) (0.169 FP/event)\n"
     ]
    },
    {
     "data": {
      "application/vnd.jupyter.widget-view+json": {
       "model_id": "",
       "version_major": 2,
       "version_minor": 0
      },
      "text/plain": [
       "HBox(children=(IntProgress(value=0, description='Training', layout=Layout(flex='2'), max=2500, style=ProgressS…"
      ]
     },
     "metadata": {},
     "output_type": "display_data"
    },
    {
     "name": "stdout",
     "output_type": "stream",
     "text": [
      "Epoch 25: train=5.15365, val=4.79444, took 49.828 s\n",
      "  Validation Found 49023 of 54700, added 1593 (eff 89.62%) (0.16 FP/event)\n"
     ]
    },
    {
     "data": {
      "application/vnd.jupyter.widget-view+json": {
       "model_id": "",
       "version_major": 2,
       "version_minor": 0
      },
      "text/plain": [
       "HBox(children=(IntProgress(value=0, description='Training', layout=Layout(flex='2'), max=2500, style=ProgressS…"
      ]
     },
     "metadata": {},
     "output_type": "display_data"
    },
    {
     "name": "stdout",
     "output_type": "stream",
     "text": [
      "Epoch 26: train=5.12878, val=4.79498, took 49.282 s\n",
      "  Validation Found 49009 of 54700, added 1559 (eff 89.60%) (0.156 FP/event)\n"
     ]
    },
    {
     "data": {
      "application/vnd.jupyter.widget-view+json": {
       "model_id": "",
       "version_major": 2,
       "version_minor": 0
      },
      "text/plain": [
       "HBox(children=(IntProgress(value=0, description='Training', layout=Layout(flex='2'), max=2500, style=ProgressS…"
      ]
     },
     "metadata": {},
     "output_type": "display_data"
    },
    {
     "name": "stdout",
     "output_type": "stream",
     "text": [
      "Epoch 27: train=5.11265, val=4.78018, took 49.826 s\n",
      "  Validation Found 48912 of 54700, added 1479 (eff 89.42%) (0.148 FP/event)\n"
     ]
    },
    {
     "data": {
      "application/vnd.jupyter.widget-view+json": {
       "model_id": "",
       "version_major": 2,
       "version_minor": 0
      },
      "text/plain": [
       "HBox(children=(IntProgress(value=0, description='Training', layout=Layout(flex='2'), max=2500, style=ProgressS…"
      ]
     },
     "metadata": {},
     "output_type": "display_data"
    },
    {
     "name": "stdout",
     "output_type": "stream",
     "text": [
      "Epoch 28: train=5.0963, val=4.76405, took 49.787 s\n",
      "  Validation Found 49074 of 54700, added 1598 (eff 89.71%) (0.16 FP/event)\n"
     ]
    },
    {
     "data": {
      "application/vnd.jupyter.widget-view+json": {
       "model_id": "",
       "version_major": 2,
       "version_minor": 0
      },
      "text/plain": [
       "HBox(children=(IntProgress(value=0, description='Training', layout=Layout(flex='2'), max=2500, style=ProgressS…"
      ]
     },
     "metadata": {},
     "output_type": "display_data"
    },
    {
     "name": "stdout",
     "output_type": "stream",
     "text": [
      "Epoch 29: train=5.07106, val=4.76368, took 49.654 s\n",
      "  Validation Found 49128 of 54700, added 1606 (eff 89.81%) (0.161 FP/event)\n"
     ]
    },
    {
     "data": {
      "application/vnd.jupyter.widget-view+json": {
       "model_id": "",
       "version_major": 2,
       "version_minor": 0
      },
      "text/plain": [
       "HBox(children=(IntProgress(value=0, description='Training', layout=Layout(flex='2'), max=2500, style=ProgressS…"
      ]
     },
     "metadata": {},
     "output_type": "display_data"
    },
    {
     "name": "stdout",
     "output_type": "stream",
     "text": [
      "Epoch 30: train=5.05611, val=4.73922, took 50.306 s\n",
      "  Validation Found 49013 of 54700, added 1529 (eff 89.60%) (0.153 FP/event)\n"
     ]
    },
    {
     "data": {
      "application/vnd.jupyter.widget-view+json": {
       "model_id": "",
       "version_major": 2,
       "version_minor": 0
      },
      "text/plain": [
       "HBox(children=(IntProgress(value=0, description='Training', layout=Layout(flex='2'), max=2500, style=ProgressS…"
      ]
     },
     "metadata": {},
     "output_type": "display_data"
    },
    {
     "name": "stdout",
     "output_type": "stream",
     "text": [
      "Epoch 31: train=5.04172, val=4.73086, took 49.898 s\n",
      "  Validation Found 49042 of 54700, added 1532 (eff 89.66%) (0.153 FP/event)\n"
     ]
    },
    {
     "data": {
      "application/vnd.jupyter.widget-view+json": {
       "model_id": "",
       "version_major": 2,
       "version_minor": 0
      },
      "text/plain": [
       "HBox(children=(IntProgress(value=0, description='Training', layout=Layout(flex='2'), max=2500, style=ProgressS…"
      ]
     },
     "metadata": {},
     "output_type": "display_data"
    },
    {
     "name": "stdout",
     "output_type": "stream",
     "text": [
      "Epoch 32: train=5.02513, val=4.69308, took 50.308 s\n",
      "  Validation Found 49144 of 54700, added 1616 (eff 89.84%) (0.162 FP/event)\n"
     ]
    },
    {
     "data": {
      "application/vnd.jupyter.widget-view+json": {
       "model_id": "",
       "version_major": 2,
       "version_minor": 0
      },
      "text/plain": [
       "HBox(children=(IntProgress(value=0, description='Training', layout=Layout(flex='2'), max=2500, style=ProgressS…"
      ]
     },
     "metadata": {},
     "output_type": "display_data"
    },
    {
     "name": "stdout",
     "output_type": "stream",
     "text": [
      "Epoch 33: train=5.01301, val=4.68727, took 50.37 s\n",
      "  Validation Found 49063 of 54700, added 1537 (eff 89.69%) (0.154 FP/event)\n"
     ]
    },
    {
     "data": {
      "application/vnd.jupyter.widget-view+json": {
       "model_id": "",
       "version_major": 2,
       "version_minor": 0
      },
      "text/plain": [
       "HBox(children=(IntProgress(value=0, description='Training', layout=Layout(flex='2'), max=2500, style=ProgressS…"
      ]
     },
     "metadata": {},
     "output_type": "display_data"
    },
    {
     "name": "stdout",
     "output_type": "stream",
     "text": [
      "Epoch 34: train=4.9975, val=4.69655, took 49.159 s\n",
      "  Validation Found 49077 of 54700, added 1524 (eff 89.72%) (0.153 FP/event)\n"
     ]
    },
    {
     "data": {
      "application/vnd.jupyter.widget-view+json": {
       "model_id": "",
       "version_major": 2,
       "version_minor": 0
      },
      "text/plain": [
       "HBox(children=(IntProgress(value=0, description='Training', layout=Layout(flex='2'), max=2500, style=ProgressS…"
      ]
     },
     "metadata": {},
     "output_type": "display_data"
    },
    {
     "name": "stdout",
     "output_type": "stream",
     "text": [
      "Epoch 35: train=4.98175, val=4.70556, took 49.372 s\n",
      "  Validation Found 49403 of 54700, added 1794 (eff 90.32%) (0.18 FP/event)\n"
     ]
    },
    {
     "data": {
      "application/vnd.jupyter.widget-view+json": {
       "model_id": "",
       "version_major": 2,
       "version_minor": 0
      },
      "text/plain": [
       "HBox(children=(IntProgress(value=0, description='Training', layout=Layout(flex='2'), max=2500, style=ProgressS…"
      ]
     },
     "metadata": {},
     "output_type": "display_data"
    },
    {
     "name": "stdout",
     "output_type": "stream",
     "text": [
      "Epoch 36: train=4.97134, val=4.66517, took 50.283 s\n",
      "  Validation Found 49195 of 54700, added 1586 (eff 89.94%) (0.159 FP/event)\n"
     ]
    },
    {
     "data": {
      "application/vnd.jupyter.widget-view+json": {
       "model_id": "",
       "version_major": 2,
       "version_minor": 0
      },
      "text/plain": [
       "HBox(children=(IntProgress(value=0, description='Training', layout=Layout(flex='2'), max=2500, style=ProgressS…"
      ]
     },
     "metadata": {},
     "output_type": "display_data"
    },
    {
     "name": "stdout",
     "output_type": "stream",
     "text": [
      "Epoch 37: train=4.95787, val=4.68054, took 50.462 s\n",
      "  Validation Found 49220 of 54700, added 1553 (eff 89.98%) (0.156 FP/event)\n"
     ]
    },
    {
     "data": {
      "application/vnd.jupyter.widget-view+json": {
       "model_id": "",
       "version_major": 2,
       "version_minor": 0
      },
      "text/plain": [
       "HBox(children=(IntProgress(value=0, description='Training', layout=Layout(flex='2'), max=2500, style=ProgressS…"
      ]
     },
     "metadata": {},
     "output_type": "display_data"
    },
    {
     "name": "stdout",
     "output_type": "stream",
     "text": [
      "Epoch 38: train=4.9447, val=4.66469, took 50.38 s\n",
      "  Validation Found 49190 of 54700, added 1573 (eff 89.93%) (0.158 FP/event)\n"
     ]
    },
    {
     "data": {
      "application/vnd.jupyter.widget-view+json": {
       "model_id": "",
       "version_major": 2,
       "version_minor": 0
      },
      "text/plain": [
       "HBox(children=(IntProgress(value=0, description='Training', layout=Layout(flex='2'), max=2500, style=ProgressS…"
      ]
     },
     "metadata": {},
     "output_type": "display_data"
    },
    {
     "name": "stdout",
     "output_type": "stream",
     "text": [
      "Epoch 39: train=4.93355, val=4.66148, took 50.401 s\n",
      "  Validation Found 49379 of 54700, added 1717 (eff 90.27%) (0.172 FP/event)\n"
     ]
    },
    {
     "data": {
      "application/vnd.jupyter.widget-view+json": {
       "model_id": "",
       "version_major": 2,
       "version_minor": 0
      },
      "text/plain": [
       "HBox(children=(IntProgress(value=0, description='Training', layout=Layout(flex='2'), max=2500, style=ProgressS…"
      ]
     },
     "metadata": {},
     "output_type": "display_data"
    },
    {
     "name": "stdout",
     "output_type": "stream",
     "text": [
      "Epoch 40: train=4.92661, val=4.64282, took 50.428 s\n",
      "  Validation Found 49333 of 54700, added 1676 (eff 90.19%) (0.168 FP/event)\n"
     ]
    },
    {
     "data": {
      "application/vnd.jupyter.widget-view+json": {
       "model_id": "",
       "version_major": 2,
       "version_minor": 0
      },
      "text/plain": [
       "HBox(children=(IntProgress(value=0, description='Training', layout=Layout(flex='2'), max=2500, style=ProgressS…"
      ]
     },
     "metadata": {},
     "output_type": "display_data"
    },
    {
     "name": "stdout",
     "output_type": "stream",
     "text": [
      "Epoch 41: train=4.91524, val=4.6248, took 50.39 s\n",
      "  Validation Found 49241 of 54700, added 1589 (eff 90.02%) (0.159 FP/event)\n"
     ]
    },
    {
     "data": {
      "application/vnd.jupyter.widget-view+json": {
       "model_id": "",
       "version_major": 2,
       "version_minor": 0
      },
      "text/plain": [
       "HBox(children=(IntProgress(value=0, description='Training', layout=Layout(flex='2'), max=2500, style=ProgressS…"
      ]
     },
     "metadata": {},
     "output_type": "display_data"
    },
    {
     "name": "stdout",
     "output_type": "stream",
     "text": [
      "Epoch 42: train=4.89848, val=4.63459, took 50.419 s\n",
      "  Validation Found 49367 of 54700, added 1688 (eff 90.25%) (0.169 FP/event)\n"
     ]
    },
    {
     "data": {
      "application/vnd.jupyter.widget-view+json": {
       "model_id": "",
       "version_major": 2,
       "version_minor": 0
      },
      "text/plain": [
       "HBox(children=(IntProgress(value=0, description='Training', layout=Layout(flex='2'), max=2500, style=ProgressS…"
      ]
     },
     "metadata": {},
     "output_type": "display_data"
    },
    {
     "name": "stdout",
     "output_type": "stream",
     "text": [
      "Epoch 43: train=4.89172, val=4.62055, took 49.492 s\n",
      "  Validation Found 49165 of 54700, added 1515 (eff 89.88%) (0.152 FP/event)\n"
     ]
    },
    {
     "data": {
      "application/vnd.jupyter.widget-view+json": {
       "model_id": "",
       "version_major": 2,
       "version_minor": 0
      },
      "text/plain": [
       "HBox(children=(IntProgress(value=0, description='Training', layout=Layout(flex='2'), max=2500, style=ProgressS…"
      ]
     },
     "metadata": {},
     "output_type": "display_data"
    },
    {
     "name": "stdout",
     "output_type": "stream",
     "text": [
      "Epoch 44: train=4.88273, val=4.61373, took 50.406 s\n",
      "  Validation Found 49450 of 54700, added 1735 (eff 90.40%) (0.174 FP/event)\n"
     ]
    },
    {
     "data": {
      "application/vnd.jupyter.widget-view+json": {
       "model_id": "",
       "version_major": 2,
       "version_minor": 0
      },
      "text/plain": [
       "HBox(children=(IntProgress(value=0, description='Training', layout=Layout(flex='2'), max=2500, style=ProgressS…"
      ]
     },
     "metadata": {},
     "output_type": "display_data"
    },
    {
     "name": "stdout",
     "output_type": "stream",
     "text": [
      "Epoch 45: train=4.8718, val=4.61773, took 51.282 s\n",
      "  Validation Found 49394 of 54700, added 1657 (eff 90.30%) (0.166 FP/event)\n"
     ]
    },
    {
     "data": {
      "application/vnd.jupyter.widget-view+json": {
       "model_id": "",
       "version_major": 2,
       "version_minor": 0
      },
      "text/plain": [
       "HBox(children=(IntProgress(value=0, description='Training', layout=Layout(flex='2'), max=2500, style=ProgressS…"
      ]
     },
     "metadata": {},
     "output_type": "display_data"
    },
    {
     "name": "stdout",
     "output_type": "stream",
     "text": [
      "Epoch 46: train=4.86758, val=4.59868, took 50.39 s\n",
      "  Validation Found 49172 of 54700, added 1491 (eff 89.89%) (0.149 FP/event)\n"
     ]
    },
    {
     "data": {
      "application/vnd.jupyter.widget-view+json": {
       "model_id": "",
       "version_major": 2,
       "version_minor": 0
      },
      "text/plain": [
       "HBox(children=(IntProgress(value=0, description='Training', layout=Layout(flex='2'), max=2500, style=ProgressS…"
      ]
     },
     "metadata": {},
     "output_type": "display_data"
    },
    {
     "name": "stdout",
     "output_type": "stream",
     "text": [
      "Epoch 47: train=4.85212, val=4.58344, took 50.353 s\n",
      "  Validation Found 49213 of 54700, added 1504 (eff 89.97%) (0.151 FP/event)\n"
     ]
    },
    {
     "data": {
      "application/vnd.jupyter.widget-view+json": {
       "model_id": "",
       "version_major": 2,
       "version_minor": 0
      },
      "text/plain": [
       "HBox(children=(IntProgress(value=0, description='Training', layout=Layout(flex='2'), max=2500, style=ProgressS…"
      ]
     },
     "metadata": {},
     "output_type": "display_data"
    },
    {
     "name": "stdout",
     "output_type": "stream",
     "text": [
      "Epoch 48: train=4.84376, val=4.58266, took 50.4 s\n",
      "  Validation Found 49364 of 54700, added 1577 (eff 90.24%) (0.158 FP/event)\n"
     ]
    },
    {
     "data": {
      "application/vnd.jupyter.widget-view+json": {
       "model_id": "",
       "version_major": 2,
       "version_minor": 0
      },
      "text/plain": [
       "HBox(children=(IntProgress(value=0, description='Training', layout=Layout(flex='2'), max=2500, style=ProgressS…"
      ]
     },
     "metadata": {},
     "output_type": "display_data"
    },
    {
     "name": "stdout",
     "output_type": "stream",
     "text": [
      "Epoch 49: train=4.83503, val=4.58275, took 50.115 s\n",
      "  Validation Found 49386 of 54700, added 1629 (eff 90.29%) (0.163 FP/event)\n"
     ]
    },
    {
     "data": {
      "application/vnd.jupyter.widget-view+json": {
       "model_id": "",
       "version_major": 2,
       "version_minor": 0
      },
      "text/plain": [
       "HBox(children=(IntProgress(value=0, description='Training', layout=Layout(flex='2'), max=2500, style=ProgressS…"
      ]
     },
     "metadata": {},
     "output_type": "display_data"
    },
    {
     "name": "stdout",
     "output_type": "stream",
     "text": [
      "Epoch 50: train=4.82374, val=4.56422, took 50.138 s\n",
      "  Validation Found 49320 of 54700, added 1504 (eff 90.16%) (0.151 FP/event)\n"
     ]
    },
    {
     "data": {
      "application/vnd.jupyter.widget-view+json": {
       "model_id": "",
       "version_major": 2,
       "version_minor": 0
      },
      "text/plain": [
       "HBox(children=(IntProgress(value=0, description='Training', layout=Layout(flex='2'), max=2500, style=ProgressS…"
      ]
     },
     "metadata": {},
     "output_type": "display_data"
    },
    {
     "name": "stdout",
     "output_type": "stream",
     "text": [
      "Epoch 51: train=4.81344, val=4.55091, took 50.053 s\n",
      "  Validation Found 49264 of 54700, added 1504 (eff 90.06%) (0.151 FP/event)\n"
     ]
    },
    {
     "data": {
      "application/vnd.jupyter.widget-view+json": {
       "model_id": "",
       "version_major": 2,
       "version_minor": 0
      },
      "text/plain": [
       "HBox(children=(IntProgress(value=0, description='Training', layout=Layout(flex='2'), max=2500, style=ProgressS…"
      ]
     },
     "metadata": {},
     "output_type": "display_data"
    },
    {
     "name": "stdout",
     "output_type": "stream",
     "text": [
      "Epoch 52: train=4.80394, val=4.5502, took 51.024 s\n",
      "  Validation Found 49322 of 54700, added 1534 (eff 90.17%) (0.154 FP/event)\n"
     ]
    },
    {
     "data": {
      "application/vnd.jupyter.widget-view+json": {
       "model_id": "",
       "version_major": 2,
       "version_minor": 0
      },
      "text/plain": [
       "HBox(children=(IntProgress(value=0, description='Training', layout=Layout(flex='2'), max=2500, style=ProgressS…"
      ]
     },
     "metadata": {},
     "output_type": "display_data"
    },
    {
     "name": "stdout",
     "output_type": "stream",
     "text": [
      "Epoch 53: train=4.79469, val=4.54704, took 51.989 s\n",
      "  Validation Found 49087 of 54700, added 1399 (eff 89.74%) (0.14 FP/event)\n"
     ]
    },
    {
     "data": {
      "application/vnd.jupyter.widget-view+json": {
       "model_id": "",
       "version_major": 2,
       "version_minor": 0
      },
      "text/plain": [
       "HBox(children=(IntProgress(value=0, description='Training', layout=Layout(flex='2'), max=2500, style=ProgressS…"
      ]
     },
     "metadata": {},
     "output_type": "display_data"
    },
    {
     "name": "stdout",
     "output_type": "stream",
     "text": [
      "Epoch 54: train=4.78318, val=4.55963, took 50.957 s\n",
      "  Validation Found 48943 of 54700, added 1268 (eff 89.48%) (0.127 FP/event)\n"
     ]
    },
    {
     "data": {
      "application/vnd.jupyter.widget-view+json": {
       "model_id": "",
       "version_major": 2,
       "version_minor": 0
      },
      "text/plain": [
       "HBox(children=(IntProgress(value=0, description='Training', layout=Layout(flex='2'), max=2500, style=ProgressS…"
      ]
     },
     "metadata": {},
     "output_type": "display_data"
    },
    {
     "name": "stdout",
     "output_type": "stream",
     "text": [
      "Epoch 55: train=4.7708, val=4.56184, took 51.052 s\n",
      "  Validation Found 48964 of 54700, added 1269 (eff 89.51%) (0.127 FP/event)\n"
     ]
    },
    {
     "data": {
      "application/vnd.jupyter.widget-view+json": {
       "model_id": "",
       "version_major": 2,
       "version_minor": 0
      },
      "text/plain": [
       "HBox(children=(IntProgress(value=0, description='Training', layout=Layout(flex='2'), max=2500, style=ProgressS…"
      ]
     },
     "metadata": {},
     "output_type": "display_data"
    },
    {
     "name": "stdout",
     "output_type": "stream",
     "text": [
      "Epoch 56: train=4.76138, val=4.53506, took 51.206 s\n",
      "  Validation Found 49239 of 54700, added 1432 (eff 90.02%) (0.143 FP/event)\n"
     ]
    },
    {
     "data": {
      "application/vnd.jupyter.widget-view+json": {
       "model_id": "",
       "version_major": 2,
       "version_minor": 0
      },
      "text/plain": [
       "HBox(children=(IntProgress(value=0, description='Training', layout=Layout(flex='2'), max=2500, style=ProgressS…"
      ]
     },
     "metadata": {},
     "output_type": "display_data"
    },
    {
     "name": "stdout",
     "output_type": "stream",
     "text": [
      "Epoch 57: train=4.75534, val=4.52346, took 50.083 s\n",
      "  Validation Found 49262 of 54700, added 1480 (eff 90.06%) (0.148 FP/event)\n"
     ]
    },
    {
     "data": {
      "application/vnd.jupyter.widget-view+json": {
       "model_id": "",
       "version_major": 2,
       "version_minor": 0
      },
      "text/plain": [
       "HBox(children=(IntProgress(value=0, description='Training', layout=Layout(flex='2'), max=2500, style=ProgressS…"
      ]
     },
     "metadata": {},
     "output_type": "display_data"
    },
    {
     "name": "stdout",
     "output_type": "stream",
     "text": [
      "Epoch 58: train=4.74565, val=4.51441, took 49.465 s\n",
      "  Validation Found 49147 of 54700, added 1393 (eff 89.85%) (0.14 FP/event)\n"
     ]
    },
    {
     "data": {
      "application/vnd.jupyter.widget-view+json": {
       "model_id": "",
       "version_major": 2,
       "version_minor": 0
      },
      "text/plain": [
       "HBox(children=(IntProgress(value=0, description='Training', layout=Layout(flex='2'), max=2500, style=ProgressS…"
      ]
     },
     "metadata": {},
     "output_type": "display_data"
    },
    {
     "name": "stdout",
     "output_type": "stream",
     "text": [
      "Epoch 59: train=4.74334, val=4.50812, took 49.627 s\n",
      "  Validation Found 49297 of 54700, added 1468 (eff 90.12%) (0.147 FP/event)\n"
     ]
    },
    {
     "data": {
      "application/vnd.jupyter.widget-view+json": {
       "model_id": "",
       "version_major": 2,
       "version_minor": 0
      },
      "text/plain": [
       "HBox(children=(IntProgress(value=0, description='Training', layout=Layout(flex='2'), max=2500, style=ProgressS…"
      ]
     },
     "metadata": {},
     "output_type": "display_data"
    },
    {
     "name": "stdout",
     "output_type": "stream",
     "text": [
      "Epoch 60: train=4.73383, val=4.51991, took 49.659 s\n",
      "  Validation Found 49252 of 54700, added 1449 (eff 90.04%) (0.145 FP/event)\n"
     ]
    },
    {
     "data": {
      "application/vnd.jupyter.widget-view+json": {
       "model_id": "",
       "version_major": 2,
       "version_minor": 0
      },
      "text/plain": [
       "HBox(children=(IntProgress(value=0, description='Training', layout=Layout(flex='2'), max=2500, style=ProgressS…"
      ]
     },
     "metadata": {},
     "output_type": "display_data"
    },
    {
     "name": "stdout",
     "output_type": "stream",
     "text": [
      "Epoch 61: train=4.72023, val=4.51154, took 49.528 s\n",
      "  Validation Found 49203 of 54700, added 1422 (eff 89.95%) (0.142 FP/event)\n"
     ]
    },
    {
     "data": {
      "application/vnd.jupyter.widget-view+json": {
       "model_id": "",
       "version_major": 2,
       "version_minor": 0
      },
      "text/plain": [
       "HBox(children=(IntProgress(value=0, description='Training', layout=Layout(flex='2'), max=2500, style=ProgressS…"
      ]
     },
     "metadata": {},
     "output_type": "display_data"
    },
    {
     "name": "stdout",
     "output_type": "stream",
     "text": [
      "Epoch 62: train=4.70872, val=4.49732, took 49.613 s\n",
      "  Validation Found 49385 of 54700, added 1517 (eff 90.28%) (0.152 FP/event)\n"
     ]
    },
    {
     "data": {
      "application/vnd.jupyter.widget-view+json": {
       "model_id": "",
       "version_major": 2,
       "version_minor": 0
      },
      "text/plain": [
       "HBox(children=(IntProgress(value=0, description='Training', layout=Layout(flex='2'), max=2500, style=ProgressS…"
      ]
     },
     "metadata": {},
     "output_type": "display_data"
    },
    {
     "name": "stdout",
     "output_type": "stream",
     "text": [
      "Epoch 63: train=4.70189, val=4.4885, took 49.654 s\n",
      "  Validation Found 49205 of 54700, added 1394 (eff 89.95%) (0.14 FP/event)\n"
     ]
    },
    {
     "data": {
      "application/vnd.jupyter.widget-view+json": {
       "model_id": "",
       "version_major": 2,
       "version_minor": 0
      },
      "text/plain": [
       "HBox(children=(IntProgress(value=0, description='Training', layout=Layout(flex='2'), max=2500, style=ProgressS…"
      ]
     },
     "metadata": {},
     "output_type": "display_data"
    },
    {
     "name": "stdout",
     "output_type": "stream",
     "text": [
      "Epoch 64: train=4.69882, val=4.4898, took 49.738 s\n",
      "  Validation Found 49240 of 54700, added 1441 (eff 90.02%) (0.144 FP/event)\n"
     ]
    },
    {
     "data": {
      "application/vnd.jupyter.widget-view+json": {
       "model_id": "",
       "version_major": 2,
       "version_minor": 0
      },
      "text/plain": [
       "HBox(children=(IntProgress(value=0, description='Training', layout=Layout(flex='2'), max=2500, style=ProgressS…"
      ]
     },
     "metadata": {},
     "output_type": "display_data"
    },
    {
     "name": "stdout",
     "output_type": "stream",
     "text": [
      "Epoch 65: train=4.68793, val=4.47411, took 49.315 s\n",
      "  Validation Found 49357 of 54700, added 1490 (eff 90.23%) (0.149 FP/event)\n"
     ]
    },
    {
     "data": {
      "application/vnd.jupyter.widget-view+json": {
       "model_id": "",
       "version_major": 2,
       "version_minor": 0
      },
      "text/plain": [
       "HBox(children=(IntProgress(value=0, description='Training', layout=Layout(flex='2'), max=2500, style=ProgressS…"
      ]
     },
     "metadata": {},
     "output_type": "display_data"
    },
    {
     "name": "stdout",
     "output_type": "stream",
     "text": [
      "Epoch 66: train=4.68009, val=4.47847, took 49.543 s\n",
      "  Validation Found 49292 of 54700, added 1459 (eff 90.11%) (0.146 FP/event)\n"
     ]
    },
    {
     "data": {
      "application/vnd.jupyter.widget-view+json": {
       "model_id": "",
       "version_major": 2,
       "version_minor": 0
      },
      "text/plain": [
       "HBox(children=(IntProgress(value=0, description='Training', layout=Layout(flex='2'), max=2500, style=ProgressS…"
      ]
     },
     "metadata": {},
     "output_type": "display_data"
    },
    {
     "name": "stdout",
     "output_type": "stream",
     "text": [
      "Epoch 67: train=4.67136, val=4.46762, took 49.469 s\n",
      "  Validation Found 49399 of 54700, added 1524 (eff 90.31%) (0.153 FP/event)\n"
     ]
    },
    {
     "data": {
      "application/vnd.jupyter.widget-view+json": {
       "model_id": "",
       "version_major": 2,
       "version_minor": 0
      },
      "text/plain": [
       "HBox(children=(IntProgress(value=0, description='Training', layout=Layout(flex='2'), max=2500, style=ProgressS…"
      ]
     },
     "metadata": {},
     "output_type": "display_data"
    },
    {
     "name": "stdout",
     "output_type": "stream",
     "text": [
      "Epoch 68: train=4.66731, val=4.46792, took 49.488 s\n",
      "  Validation Found 49243 of 54700, added 1410 (eff 90.02%) (0.141 FP/event)\n"
     ]
    },
    {
     "data": {
      "application/vnd.jupyter.widget-view+json": {
       "model_id": "",
       "version_major": 2,
       "version_minor": 0
      },
      "text/plain": [
       "HBox(children=(IntProgress(value=0, description='Training', layout=Layout(flex='2'), max=2500, style=ProgressS…"
      ]
     },
     "metadata": {},
     "output_type": "display_data"
    },
    {
     "name": "stdout",
     "output_type": "stream",
     "text": [
      "Epoch 69: train=4.66202, val=4.48638, took 49.48 s\n",
      "  Validation Found 49191 of 54700, added 1381 (eff 89.93%) (0.138 FP/event)\n"
     ]
    },
    {
     "data": {
      "application/vnd.jupyter.widget-view+json": {
       "model_id": "",
       "version_major": 2,
       "version_minor": 0
      },
      "text/plain": [
       "HBox(children=(IntProgress(value=0, description='Training', layout=Layout(flex='2'), max=2500, style=ProgressS…"
      ]
     },
     "metadata": {},
     "output_type": "display_data"
    },
    {
     "name": "stdout",
     "output_type": "stream",
     "text": [
      "Epoch 70: train=4.65415, val=4.45619, took 49.482 s\n",
      "  Validation Found 49441 of 54700, added 1528 (eff 90.39%) (0.153 FP/event)\n"
     ]
    },
    {
     "data": {
      "application/vnd.jupyter.widget-view+json": {
       "model_id": "",
       "version_major": 2,
       "version_minor": 0
      },
      "text/plain": [
       "HBox(children=(IntProgress(value=0, description='Training', layout=Layout(flex='2'), max=2500, style=ProgressS…"
      ]
     },
     "metadata": {},
     "output_type": "display_data"
    },
    {
     "name": "stdout",
     "output_type": "stream",
     "text": [
      "Epoch 71: train=4.64762, val=4.46656, took 49.465 s\n",
      "  Validation Found 49171 of 54700, added 1364 (eff 89.89%) (0.137 FP/event)\n"
     ]
    },
    {
     "data": {
      "application/vnd.jupyter.widget-view+json": {
       "model_id": "",
       "version_major": 2,
       "version_minor": 0
      },
      "text/plain": [
       "HBox(children=(IntProgress(value=0, description='Training', layout=Layout(flex='2'), max=2500, style=ProgressS…"
      ]
     },
     "metadata": {},
     "output_type": "display_data"
    },
    {
     "name": "stdout",
     "output_type": "stream",
     "text": [
      "Epoch 72: train=4.63796, val=4.4699, took 49.547 s\n",
      "  Validation Found 49589 of 54700, added 1667 (eff 90.66%) (0.167 FP/event)\n"
     ]
    },
    {
     "data": {
      "application/vnd.jupyter.widget-view+json": {
       "model_id": "",
       "version_major": 2,
       "version_minor": 0
      },
      "text/plain": [
       "HBox(children=(IntProgress(value=0, description='Training', layout=Layout(flex='2'), max=2500, style=ProgressS…"
      ]
     },
     "metadata": {},
     "output_type": "display_data"
    },
    {
     "name": "stdout",
     "output_type": "stream",
     "text": [
      "Epoch 73: train=4.63464, val=4.46414, took 49.142 s\n",
      "  Validation Found 49550 of 54700, added 1615 (eff 90.59%) (0.162 FP/event)\n"
     ]
    },
    {
     "data": {
      "application/vnd.jupyter.widget-view+json": {
       "model_id": "",
       "version_major": 2,
       "version_minor": 0
      },
      "text/plain": [
       "HBox(children=(IntProgress(value=0, description='Training', layout=Layout(flex='2'), max=2500, style=ProgressS…"
      ]
     },
     "metadata": {},
     "output_type": "display_data"
    },
    {
     "name": "stdout",
     "output_type": "stream",
     "text": [
      "Epoch 74: train=4.62811, val=4.46136, took 49.361 s\n",
      "  Validation Found 49248 of 54700, added 1382 (eff 90.03%) (0.138 FP/event)\n"
     ]
    },
    {
     "data": {
      "application/vnd.jupyter.widget-view+json": {
       "model_id": "",
       "version_major": 2,
       "version_minor": 0
      },
      "text/plain": [
       "HBox(children=(IntProgress(value=0, description='Training', layout=Layout(flex='2'), max=2500, style=ProgressS…"
      ]
     },
     "metadata": {},
     "output_type": "display_data"
    },
    {
     "name": "stdout",
     "output_type": "stream",
     "text": [
      "Epoch 75: train=4.6198, val=4.43695, took 49.36 s\n",
      "  Validation Found 49388 of 54700, added 1470 (eff 90.29%) (0.147 FP/event)\n"
     ]
    },
    {
     "data": {
      "application/vnd.jupyter.widget-view+json": {
       "model_id": "",
       "version_major": 2,
       "version_minor": 0
      },
      "text/plain": [
       "HBox(children=(IntProgress(value=0, description='Training', layout=Layout(flex='2'), max=2500, style=ProgressS…"
      ]
     },
     "metadata": {},
     "output_type": "display_data"
    },
    {
     "name": "stdout",
     "output_type": "stream",
     "text": [
      "Epoch 76: train=4.6098, val=4.45981, took 49.486 s\n",
      "  Validation Found 49240 of 54700, added 1364 (eff 90.02%) (0.137 FP/event)\n"
     ]
    },
    {
     "data": {
      "application/vnd.jupyter.widget-view+json": {
       "model_id": "",
       "version_major": 2,
       "version_minor": 0
      },
      "text/plain": [
       "HBox(children=(IntProgress(value=0, description='Training', layout=Layout(flex='2'), max=2500, style=ProgressS…"
      ]
     },
     "metadata": {},
     "output_type": "display_data"
    },
    {
     "name": "stdout",
     "output_type": "stream",
     "text": [
      "Epoch 77: train=4.60915, val=4.44717, took 49.146 s\n",
      "  Validation Found 49295 of 54700, added 1392 (eff 90.12%) (0.139 FP/event)\n"
     ]
    },
    {
     "data": {
      "application/vnd.jupyter.widget-view+json": {
       "model_id": "",
       "version_major": 2,
       "version_minor": 0
      },
      "text/plain": [
       "HBox(children=(IntProgress(value=0, description='Training', layout=Layout(flex='2'), max=2500, style=ProgressS…"
      ]
     },
     "metadata": {},
     "output_type": "display_data"
    },
    {
     "name": "stdout",
     "output_type": "stream",
     "text": [
      "Epoch 78: train=4.60501, val=4.44299, took 49.749 s\n",
      "  Validation Found 49499 of 54700, added 1578 (eff 90.49%) (0.158 FP/event)\n"
     ]
    },
    {
     "data": {
      "application/vnd.jupyter.widget-view+json": {
       "model_id": "",
       "version_major": 2,
       "version_minor": 0
      },
      "text/plain": [
       "HBox(children=(IntProgress(value=0, description='Training', layout=Layout(flex='2'), max=2500, style=ProgressS…"
      ]
     },
     "metadata": {},
     "output_type": "display_data"
    },
    {
     "name": "stdout",
     "output_type": "stream",
     "text": [
      "Epoch 79: train=4.60081, val=4.45426, took 49.652 s\n",
      "  Validation Found 49292 of 54700, added 1379 (eff 90.11%) (0.138 FP/event)\n"
     ]
    },
    {
     "data": {
      "application/vnd.jupyter.widget-view+json": {
       "model_id": "",
       "version_major": 2,
       "version_minor": 0
      },
      "text/plain": [
       "HBox(children=(IntProgress(value=0, description='Training', layout=Layout(flex='2'), max=2500, style=ProgressS…"
      ]
     },
     "metadata": {},
     "output_type": "display_data"
    },
    {
     "name": "stdout",
     "output_type": "stream",
     "text": [
      "Epoch 80: train=4.59097, val=4.4403, took 49.664 s\n",
      "  Validation Found 49375 of 54700, added 1440 (eff 90.27%) (0.144 FP/event)\n"
     ]
    },
    {
     "data": {
      "application/vnd.jupyter.widget-view+json": {
       "model_id": "",
       "version_major": 2,
       "version_minor": 0
      },
      "text/plain": [
       "HBox(children=(IntProgress(value=0, description='Training', layout=Layout(flex='2'), max=2500, style=ProgressS…"
      ]
     },
     "metadata": {},
     "output_type": "display_data"
    },
    {
     "name": "stdout",
     "output_type": "stream",
     "text": [
      "Epoch 81: train=4.58642, val=4.44148, took 49.638 s\n",
      "  Validation Found 49230 of 54700, added 1334 (eff 90.00%) (0.134 FP/event)\n"
     ]
    },
    {
     "data": {
      "application/vnd.jupyter.widget-view+json": {
       "model_id": "",
       "version_major": 2,
       "version_minor": 0
      },
      "text/plain": [
       "HBox(children=(IntProgress(value=0, description='Training', layout=Layout(flex='2'), max=2500, style=ProgressS…"
      ]
     },
     "metadata": {},
     "output_type": "display_data"
    },
    {
     "name": "stdout",
     "output_type": "stream",
     "text": [
      "Epoch 82: train=4.58208, val=4.43037, took 49.755 s\n",
      "  Validation Found 49340 of 54700, added 1415 (eff 90.20%) (0.142 FP/event)\n"
     ]
    },
    {
     "data": {
      "application/vnd.jupyter.widget-view+json": {
       "model_id": "",
       "version_major": 2,
       "version_minor": 0
      },
      "text/plain": [
       "HBox(children=(IntProgress(value=0, description='Training', layout=Layout(flex='2'), max=2500, style=ProgressS…"
      ]
     },
     "metadata": {},
     "output_type": "display_data"
    },
    {
     "name": "stdout",
     "output_type": "stream",
     "text": [
      "Epoch 83: train=4.57486, val=4.43728, took 49.638 s\n",
      "  Validation Found 49338 of 54700, added 1417 (eff 90.20%) (0.142 FP/event)\n"
     ]
    },
    {
     "data": {
      "application/vnd.jupyter.widget-view+json": {
       "model_id": "",
       "version_major": 2,
       "version_minor": 0
      },
      "text/plain": [
       "HBox(children=(IntProgress(value=0, description='Training', layout=Layout(flex='2'), max=2500, style=ProgressS…"
      ]
     },
     "metadata": {},
     "output_type": "display_data"
    },
    {
     "name": "stdout",
     "output_type": "stream",
     "text": [
      "Epoch 84: train=4.57276, val=4.43118, took 49.587 s\n",
      "  Validation Found 49419 of 54700, added 1456 (eff 90.35%) (0.146 FP/event)\n"
     ]
    },
    {
     "data": {
      "application/vnd.jupyter.widget-view+json": {
       "model_id": "",
       "version_major": 2,
       "version_minor": 0
      },
      "text/plain": [
       "HBox(children=(IntProgress(value=0, description='Training', layout=Layout(flex='2'), max=2500, style=ProgressS…"
      ]
     },
     "metadata": {},
     "output_type": "display_data"
    },
    {
     "name": "stdout",
     "output_type": "stream",
     "text": [
      "Epoch 85: train=4.56852, val=4.42059, took 49.588 s\n",
      "  Validation Found 49323 of 54700, added 1388 (eff 90.17%) (0.139 FP/event)\n"
     ]
    },
    {
     "data": {
      "application/vnd.jupyter.widget-view+json": {
       "model_id": "",
       "version_major": 2,
       "version_minor": 0
      },
      "text/plain": [
       "HBox(children=(IntProgress(value=0, description='Training', layout=Layout(flex='2'), max=2500, style=ProgressS…"
      ]
     },
     "metadata": {},
     "output_type": "display_data"
    },
    {
     "name": "stdout",
     "output_type": "stream",
     "text": [
      "Epoch 86: train=4.55902, val=4.47069, took 49.625 s\n",
      "  Validation Found 49097 of 54700, added 1245 (eff 89.76%) (0.125 FP/event)\n"
     ]
    },
    {
     "data": {
      "application/vnd.jupyter.widget-view+json": {
       "model_id": "",
       "version_major": 2,
       "version_minor": 0
      },
      "text/plain": [
       "HBox(children=(IntProgress(value=0, description='Training', layout=Layout(flex='2'), max=2500, style=ProgressS…"
      ]
     },
     "metadata": {},
     "output_type": "display_data"
    },
    {
     "name": "stdout",
     "output_type": "stream",
     "text": [
      "Epoch 87: train=4.55729, val=4.45408, took 49.639 s\n",
      "  Validation Found 49083 of 54700, added 1212 (eff 89.73%) (0.121 FP/event)\n"
     ]
    },
    {
     "data": {
      "application/vnd.jupyter.widget-view+json": {
       "model_id": "",
       "version_major": 2,
       "version_minor": 0
      },
      "text/plain": [
       "HBox(children=(IntProgress(value=0, description='Training', layout=Layout(flex='2'), max=2500, style=ProgressS…"
      ]
     },
     "metadata": {},
     "output_type": "display_data"
    },
    {
     "name": "stdout",
     "output_type": "stream",
     "text": [
      "Epoch 88: train=4.54786, val=4.43033, took 49.695 s\n",
      "  Validation Found 49252 of 54700, added 1296 (eff 90.04%) (0.13 FP/event)\n"
     ]
    },
    {
     "data": {
      "application/vnd.jupyter.widget-view+json": {
       "model_id": "",
       "version_major": 2,
       "version_minor": 0
      },
      "text/plain": [
       "HBox(children=(IntProgress(value=0, description='Training', layout=Layout(flex='2'), max=2500, style=ProgressS…"
      ]
     },
     "metadata": {},
     "output_type": "display_data"
    },
    {
     "name": "stdout",
     "output_type": "stream",
     "text": [
      "Epoch 89: train=4.54407, val=4.42565, took 49.752 s\n",
      "  Validation Found 49391 of 54700, added 1416 (eff 90.29%) (0.142 FP/event)\n"
     ]
    },
    {
     "data": {
      "application/vnd.jupyter.widget-view+json": {
       "model_id": "",
       "version_major": 2,
       "version_minor": 0
      },
      "text/plain": [
       "HBox(children=(IntProgress(value=0, description='Training', layout=Layout(flex='2'), max=2500, style=ProgressS…"
      ]
     },
     "metadata": {},
     "output_type": "display_data"
    },
    {
     "name": "stdout",
     "output_type": "stream",
     "text": [
      "Epoch 90: train=4.53986, val=4.42133, took 49.659 s\n",
      "  Validation Found 49319 of 54700, added 1372 (eff 90.16%) (0.137 FP/event)\n"
     ]
    },
    {
     "data": {
      "application/vnd.jupyter.widget-view+json": {
       "model_id": "",
       "version_major": 2,
       "version_minor": 0
      },
      "text/plain": [
       "HBox(children=(IntProgress(value=0, description='Training', layout=Layout(flex='2'), max=2500, style=ProgressS…"
      ]
     },
     "metadata": {},
     "output_type": "display_data"
    },
    {
     "name": "stdout",
     "output_type": "stream",
     "text": [
      "Epoch 91: train=4.53825, val=4.43668, took 49.514 s\n",
      "  Validation Found 49322 of 54700, added 1402 (eff 90.17%) (0.14 FP/event)\n"
     ]
    },
    {
     "data": {
      "application/vnd.jupyter.widget-view+json": {
       "model_id": "",
       "version_major": 2,
       "version_minor": 0
      },
      "text/plain": [
       "HBox(children=(IntProgress(value=0, description='Training', layout=Layout(flex='2'), max=2500, style=ProgressS…"
      ]
     },
     "metadata": {},
     "output_type": "display_data"
    },
    {
     "name": "stdout",
     "output_type": "stream",
     "text": [
      "Epoch 92: train=4.53475, val=4.44513, took 49.507 s\n",
      "  Validation Found 49218 of 54700, added 1305 (eff 89.98%) (0.131 FP/event)\n"
     ]
    },
    {
     "data": {
      "application/vnd.jupyter.widget-view+json": {
       "model_id": "",
       "version_major": 2,
       "version_minor": 0
      },
      "text/plain": [
       "HBox(children=(IntProgress(value=0, description='Training', layout=Layout(flex='2'), max=2500, style=ProgressS…"
      ]
     },
     "metadata": {},
     "output_type": "display_data"
    },
    {
     "name": "stdout",
     "output_type": "stream",
     "text": [
      "Epoch 93: train=4.5318, val=4.43061, took 49.427 s\n",
      "  Validation Found 49203 of 54700, added 1300 (eff 89.95%) (0.13 FP/event)\n"
     ]
    },
    {
     "data": {
      "application/vnd.jupyter.widget-view+json": {
       "model_id": "",
       "version_major": 2,
       "version_minor": 0
      },
      "text/plain": [
       "HBox(children=(IntProgress(value=0, description='Training', layout=Layout(flex='2'), max=2500, style=ProgressS…"
      ]
     },
     "metadata": {},
     "output_type": "display_data"
    },
    {
     "name": "stdout",
     "output_type": "stream",
     "text": [
      "Epoch 94: train=4.5216, val=4.40481, took 49.653 s\n",
      "  Validation Found 49428 of 54700, added 1438 (eff 90.36%) (0.144 FP/event)\n"
     ]
    },
    {
     "data": {
      "application/vnd.jupyter.widget-view+json": {
       "model_id": "",
       "version_major": 2,
       "version_minor": 0
      },
      "text/plain": [
       "HBox(children=(IntProgress(value=0, description='Training', layout=Layout(flex='2'), max=2500, style=ProgressS…"
      ]
     },
     "metadata": {},
     "output_type": "display_data"
    },
    {
     "name": "stdout",
     "output_type": "stream",
     "text": [
      "Epoch 95: train=4.51916, val=4.40769, took 49.531 s\n",
      "  Validation Found 49385 of 54700, added 1378 (eff 90.28%) (0.138 FP/event)\n"
     ]
    },
    {
     "data": {
      "application/vnd.jupyter.widget-view+json": {
       "model_id": "",
       "version_major": 2,
       "version_minor": 0
      },
      "text/plain": [
       "HBox(children=(IntProgress(value=0, description='Training', layout=Layout(flex='2'), max=2500, style=ProgressS…"
      ]
     },
     "metadata": {},
     "output_type": "display_data"
    },
    {
     "name": "stdout",
     "output_type": "stream",
     "text": [
      "Epoch 96: train=4.51507, val=4.41432, took 49.153 s\n",
      "  Validation Found 49216 of 54700, added 1298 (eff 89.97%) (0.13 FP/event)\n"
     ]
    },
    {
     "data": {
      "application/vnd.jupyter.widget-view+json": {
       "model_id": "",
       "version_major": 2,
       "version_minor": 0
      },
      "text/plain": [
       "HBox(children=(IntProgress(value=0, description='Training', layout=Layout(flex='2'), max=2500, style=ProgressS…"
      ]
     },
     "metadata": {},
     "output_type": "display_data"
    },
    {
     "name": "stdout",
     "output_type": "stream",
     "text": [
      "Epoch 97: train=4.51323, val=4.40687, took 49.551 s\n",
      "  Validation Found 49303 of 54700, added 1331 (eff 90.13%) (0.133 FP/event)\n"
     ]
    },
    {
     "data": {
      "application/vnd.jupyter.widget-view+json": {
       "model_id": "",
       "version_major": 2,
       "version_minor": 0
      },
      "text/plain": [
       "HBox(children=(IntProgress(value=0, description='Training', layout=Layout(flex='2'), max=2500, style=ProgressS…"
      ]
     },
     "metadata": {},
     "output_type": "display_data"
    },
    {
     "name": "stdout",
     "output_type": "stream",
     "text": [
      "Epoch 98: train=4.5053, val=4.4022, took 49.971 s\n",
      "  Validation Found 49431 of 54700, added 1395 (eff 90.37%) (0.14 FP/event)\n"
     ]
    },
    {
     "data": {
      "application/vnd.jupyter.widget-view+json": {
       "model_id": "",
       "version_major": 2,
       "version_minor": 0
      },
      "text/plain": [
       "HBox(children=(IntProgress(value=0, description='Training', layout=Layout(flex='2'), max=2500, style=ProgressS…"
      ]
     },
     "metadata": {},
     "output_type": "display_data"
    },
    {
     "name": "stdout",
     "output_type": "stream",
     "text": [
      "Epoch 99: train=4.50163, val=4.41283, took 49.608 s\n",
      "  Validation Found 49193 of 54700, added 1272 (eff 89.93%) (0.127 FP/event)\n",
      "\n"
     ]
    }
   ],
   "source": [
    "for result in trainNet(model, optimizer, loss,\n",
    "                        train_loader, val_loader,\n",
    "                        n_epochs, epoch_start=len(results),\n",
    "                        notebook=True):\n",
    "    \n",
    "    results = results.append(pd.Series(result._asdict()), ignore_index=True)\n",
    "    \n",
    "    xs = results.index\n",
    "    \n",
    "    # Update the plot above\n",
    "    lines['train'].set_data(results.index,results.cost)\n",
    "    lines['val'].set_data(results.index,results.val)\n",
    "    \n",
    "    #filter first cost epoch (can be really large)\n",
    "    max_cost = max(max(results.cost if len(results.cost)<2 else results.cost[1:]), max(results.val))\n",
    "    min_cost = min(min(results.cost), min(results.val))\n",
    "    \n",
    "    # The plot limits need updating too\n",
    "    ax.set_ylim(min_cost*.9, max_cost*1.1)  \n",
    "    ax.set_xlim(-.5, len(results.cost) - .5)\n",
    "    \n",
    "    replace_in_ax(lax, lines['eff'], xs, results['eff_val'].apply(lambda x: x.eff_rate))\n",
    "    replace_in_ax(tax, lines['fp'], xs, results['eff_val'].apply(lambda x: x.fp_rate))\n",
    "    \n",
    "    # Redraw the figure\n",
    "    fig.canvas.draw()\n",
    "\n",
    "    # Save each model state dictionary\n",
    "    torch.save(model.state_dict(), output / f'{name}_{result.epoch}.pyt')"
   ]
  },
  {
   "cell_type": "markdown",
   "metadata": {},
   "source": [
    "# Results\n",
    "\n",
    "Let's save some results: (even though if you have not changed the code above, it saves the model every epoch)"
   ]
  },
  {
   "cell_type": "markdown",
   "metadata": {},
   "source": [
    "Go ahead and save the final model (even though it was also saved above):"
   ]
  },
  {
   "cell_type": "code",
   "execution_count": null,
   "metadata": {},
   "outputs": [],
   "source": [
    "torch.save(model.state_dict(), output / f'{name}_final.pyt')"
   ]
  },
  {
   "cell_type": "markdown",
   "metadata": {},
   "source": [
    "Save the output results:"
   ]
  },
  {
   "cell_type": "code",
   "execution_count": null,
   "metadata": {},
   "outputs": [],
   "source": [
    "results.to_hdf(f'{name}_stats.hdf5', 'results')"
   ]
  },
  {
   "cell_type": "markdown",
   "metadata": {},
   "source": [
    "Save the plot above:"
   ]
  },
  {
   "cell_type": "code",
   "execution_count": null,
   "metadata": {},
   "outputs": [],
   "source": [
    "dual_train_plots(results.index,\n",
    "                 results.cost, results.val, \n",
    "                 results['eff_val'].apply(lambda x: x.eff_rate),\n",
    "                 results['eff_val'].apply(lambda x: x.fp_rate))\n",
    "plt.tight_layout()\n",
    "plt.savefig(str(output / f'{name}_stats_a.png'))"
   ]
  },
  {
   "cell_type": "code",
   "execution_count": null,
   "metadata": {},
   "outputs": [],
   "source": [
    "quit()"
   ]
  },
  {
   "cell_type": "code",
   "execution_count": null,
   "metadata": {},
   "outputs": [],
   "source": []
  }
 ],
 "metadata": {
  "kernelspec": {
   "display_name": "Python [conda env:anaconda] *",
   "language": "python",
   "name": "conda-env-anaconda-py"
  },
  "language_info": {
   "codemirror_mode": {
    "name": "ipython",
    "version": 3
   },
   "file_extension": ".py",
   "mimetype": "text/x-python",
   "name": "python",
   "nbconvert_exporter": "python",
   "pygments_lexer": "ipython3",
   "version": "3.7.3"
  }
 },
 "nbformat": 4,
 "nbformat_minor": 2
}
