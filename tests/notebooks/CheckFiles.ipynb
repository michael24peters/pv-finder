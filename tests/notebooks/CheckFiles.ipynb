{
 "cells": [
  {
   "cell_type": "code",
   "execution_count": null,
   "metadata": {},
   "outputs": [],
   "source": [
    "import sys\n",
    "sys.path.append('../model')"
   ]
  },
  {
   "cell_type": "code",
   "execution_count": null,
   "metadata": {},
   "outputs": [],
   "source": [
    "import numpy as np\n",
    "from scipy.stats import norm\n",
    "from origdata import process_root_file\n",
    "from tqdm import tqdm_notebook as progress_bar\n",
    "from pathlib import Path"
   ]
  },
  {
   "cell_type": "code",
   "execution_count": null,
   "metadata": {},
   "outputs": [],
   "source": [
    "names = '''\n",
    "kernel_20180509\n",
    "kernel_20180510\n",
    "kernel_20180515\n",
    "kernel_20180516\n",
    "kernel_20180522\n",
    "kernel_20180719\n",
    "kernel_20180720_1\n",
    "kernel_20180720_2\n",
    "'''.split()\n",
    "\n",
    "files = [Path('/data/schreihf/PvFinder') / (name + '.root') for name in names]\n",
    "\n",
    "Xs = []\n",
    "Ys = []\n",
    "\n",
    "for name in progress_bar(files, desc=\"Getting files\", dynamic_ncols=True):\n",
    "    X, Y = process_root_file(name, notebook=True)\n",
    "    Xs.append(X)\n",
    "    Ys.append(Y)\n",
    "    "
   ]
  },
  {
   "cell_type": "code",
   "execution_count": null,
   "metadata": {},
   "outputs": [],
   "source": [
    "import matplotlib.pyplot as plt"
   ]
  },
  {
   "cell_type": "code",
   "execution_count": null,
   "metadata": {},
   "outputs": [],
   "source": [
    "fig, ax = plt.subplots(1,1,figsize=(15,10))\n",
    "for i in range(5):\n",
    "    ax.plot(np.arange(4000), Xs[1+i].sum(0), label=str(i))\n",
    "ax.legend()"
   ]
  },
  {
   "cell_type": "code",
   "execution_count": null,
   "metadata": {},
   "outputs": [],
   "source": [
    "fig, ax = plt.subplots(1,1,figsize=(15,10))\n",
    "for i in range(4,7):\n",
    "    ax.plot(np.arange(4000), X, label=str(i))\n",
    "ax.legend()"
   ]
  },
  {
   "cell_type": "code",
   "execution_count": null,
   "metadata": {},
   "outputs": [],
   "source": [
    "X.shape, Y.shape"
   ]
  },
  {
   "cell_type": "code",
   "execution_count": null,
   "metadata": {},
   "outputs": [],
   "source": [
    "def plot(vals, dtype):\n",
    "    import matplotlib.pyplot as plt\n",
    "    scale = 1/2500.\n",
    "    vals = vals.astype(dtype)\n",
    "    fig, axs = plt.subplots(1,5, figsize=(15,4))\n",
    "    axs[0].hist(vals, range=(0, 0.1 * scale), bins=100)\n",
    "    axs[1].hist(vals, range=(0.1* scale, 10* scale), bins=100)\n",
    "    axs[2].hist(vals, range=(10* scale, 100* scale), bins=100)\n",
    "    axs[3].hist(vals, range=(100* scale, 200* scale), bins=100)\n",
    "    axs[4].hist(vals, range=(200* scale, 1), bins=100)\n",
    "    plt.show()"
   ]
  },
  {
   "cell_type": "code",
   "execution_count": null,
   "metadata": {},
   "outputs": [],
   "source": [
    "plot(X[1], np.float32)"
   ]
  },
  {
   "cell_type": "code",
   "execution_count": null,
   "metadata": {},
   "outputs": [],
   "source": [
    "plot(X[1], np.float16)"
   ]
  }
 ],
 "metadata": {
  "kernelspec": {
   "display_name": "Python 3",
   "language": "python",
   "name": "python3"
  },
  "language_info": {
   "codemirror_mode": {
    "name": "ipython",
    "version": 3
   },
   "file_extension": ".py",
   "mimetype": "text/x-python",
   "name": "python",
   "nbconvert_exporter": "python",
   "pygments_lexer": "ipython3",
   "version": "3.6.4"
  }
 },
 "nbformat": 4,
 "nbformat_minor": 2
}
