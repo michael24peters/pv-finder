{
 "cells": [
  {
   "cell_type": "code",
   "execution_count": null,
   "metadata": {},
   "outputs": [],
   "source": [
    "import uproot\n",
    "import matplotlib.pyplot as plt\n",
    "import numpy as np"
   ]
  },
  {
   "cell_type": "code",
   "execution_count": null,
   "metadata": {},
   "outputs": [],
   "source": [
    "tree = uproot.open('../dat/kernel_10pvs.root')['kernel']"
   ]
  },
  {
   "cell_type": "markdown",
   "metadata": {},
   "source": [
    "We can look inside and see what keys are available"
   ]
  },
  {
   "cell_type": "code",
   "execution_count": null,
   "metadata": {},
   "outputs": [],
   "source": [
    "tree.keys()"
   ]
  },
  {
   "cell_type": "markdown",
   "metadata": {},
   "source": [
    "Many of these are \"jagged\" arrays, which means they are lists of variable lenth lists.\n",
    "\n",
    "Categories are defined as:\n",
    "\n",
    "| value | PVs (primary verticies) | SVs (secondary verticies) |\n",
    "|-------|:------------------------|---------------------------|\n",
    "|  -1   | < 2 particles made hits | no particles made hits    |\n",
    "|   0   | < 5 long tracks         | 1 particle with hits      |\n",
    "|   1   | LHCb PV                 | 2+ (an actual SV)         |\n"
   ]
  },
  {
   "cell_type": "code",
   "execution_count": null,
   "metadata": {},
   "outputs": [],
   "source": [
    "tree['pv_cat'].array()"
   ]
  },
  {
   "cell_type": "code",
   "execution_count": null,
   "metadata": {},
   "outputs": [],
   "source": [
    "zdata = tree['zdata'].array()\n",
    "pv_loc = tree['pv_loc'].array()\n",
    "pv_cat = tree['pv_cat'].array()\n",
    "sv_loc = tree['sv_loc'].array()\n",
    "sv_cat = tree['sv_cat'].array()"
   ]
  },
  {
   "cell_type": "code",
   "execution_count": null,
   "metadata": {},
   "outputs": [],
   "source": [
    "zvals = np.linspace(-100,300, 4000, endpoint=False) + 400/4000/2"
   ]
  },
  {
   "cell_type": "code",
   "execution_count": null,
   "metadata": {},
   "outputs": [],
   "source": [
    "plt.figure(figsize=(14,3.8))\n",
    "i = 2\n",
    "plt.plot(zvals, zdata[i], label=\"Kernel\")\n",
    "pv_1 = pv_loc[i][pv_cat[i]==1]\n",
    "pv_0 = pv_loc[i][pv_cat[i]==0]\n",
    "pv_x = pv_loc[i][pv_cat[i]==-1]\n",
    "sv_1 =  sv_loc[i][sv_cat[i]==1]\n",
    "sv_0 =  sv_loc[i][sv_cat[i]==0]\n",
    "sv_x = sv_loc[i][sv_cat[i]==-1]\n",
    "plt.plot(pv_1, pv_1*0, 'og', label='LHCb PVs')\n",
    "plt.plot(pv_0, pv_0*0-40, 'dg', label='Other PVs')\n",
    "#plt.plot(pv_x, pv_x*0-80, 'xg', label='Bad PVs')\n",
    "plt.plot(sv_1, sv_1*0-140, 'or', label='LHCb SVs')\n",
    "plt.plot(sv_0, sv_0*0-160, 'dr', label='Other SVs')\n",
    "#plt.plot(sv_x, sv_x*0-180, 'xr', label='Bad SVs')\n",
    "for l in pv_1:\n",
    "    plt.axvline(l, color='g', alpha=.5)\n",
    "for l in pv_0:\n",
    "    plt.axvline(l, 0, 0.5, color='g', alpha=.3)\n",
    "plt.xlabel('z values [mm]')\n",
    "plt.ylabel('Density of Kernel')\n",
    "plt.legend()\n",
    "plt.tight_layout()\n",
    "plt.savefig('kernel_and_pvs.pdf')\n",
    "plt.show()"
   ]
  },
  {
   "cell_type": "code",
   "execution_count": null,
   "metadata": {},
   "outputs": [],
   "source": []
  }
 ],
 "metadata": {
  "kernelspec": {
   "display_name": "Python 3",
   "language": "python",
   "name": "python3"
  },
  "language_info": {
   "codemirror_mode": {
    "name": "ipython",
    "version": 3
   },
   "file_extension": ".py",
   "mimetype": "text/x-python",
   "name": "python",
   "nbconvert_exporter": "python",
   "pygments_lexer": "ipython3",
   "version": "3.7.3"
  }
 },
 "nbformat": 4,
 "nbformat_minor": 2
}
