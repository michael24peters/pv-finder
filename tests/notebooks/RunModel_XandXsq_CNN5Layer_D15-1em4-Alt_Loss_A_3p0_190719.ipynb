{
 "cells": [
  {
   "cell_type": "code",
   "execution_count": 1,
   "metadata": {},
   "outputs": [],
   "source": [
    "##%matplotlib widget\n",
    "%matplotlib notebook"
   ]
  },
  {
   "cell_type": "markdown",
   "metadata": {},
   "source": [
    "Check the current GPU usage. Please try to be nice!"
   ]
  },
  {
   "cell_type": "code",
   "execution_count": 2,
   "metadata": {},
   "outputs": [
    {
     "name": "stdout",
     "output_type": "stream",
     "text": [
      "Wed Jul 17 16:41:15 2019       \n",
      "+-----------------------------------------------------------------------------+\n",
      "| NVIDIA-SMI 418.40.04    Driver Version: 418.40.04    CUDA Version: 10.1     |\n",
      "|-------------------------------+----------------------+----------------------+\n",
      "| GPU  Name        Persistence-M| Bus-Id        Disp.A | Volatile Uncorr. ECC |\n",
      "| Fan  Temp  Perf  Pwr:Usage/Cap|         Memory-Usage | GPU-Util  Compute M. |\n",
      "|===============================+======================+======================|\n",
      "|   0  TITAN V             Off  | 00000000:03:00.0 Off |                  N/A |\n",
      "| 28%   38C    P2    26W / 250W |      0MiB / 12036MiB |      0%      Default |\n",
      "+-------------------------------+----------------------+----------------------+\n",
      "|   1  Tesla P100-PCIE...  Off  | 00000000:83:00.0 Off |                    0 |\n",
      "| N/A   79C    P0   105W / 250W |   6407MiB / 16280MiB |     93%      Default |\n",
      "+-------------------------------+----------------------+----------------------+\n",
      "|   2  TITAN V             Off  | 00000000:84:00.0 Off |                  N/A |\n",
      "| 28%   42C    P8    27W / 250W |   9388MiB / 12036MiB |      0%      Default |\n",
      "+-------------------------------+----------------------+----------------------+\n",
      "                                                                               \n",
      "+-----------------------------------------------------------------------------+\n",
      "| Processes:                                                       GPU Memory |\n",
      "|  GPU       PID   Type   Process name                             Usage      |\n",
      "|=============================================================================|\n",
      "|    1     28800      C   /data/conda/envs/anaconda/bin/python        6397MiB |\n",
      "|    2     10116      C   /data/conda/envs/anaconda/bin/python        9377MiB |\n",
      "+-----------------------------------------------------------------------------+\n"
     ]
    }
   ],
   "source": [
    "!nvidia-smi"
   ]
  },
  {
   "cell_type": "markdown",
   "metadata": {},
   "source": [
    "> **WARNING**: The card numbers here are *not* the same as in CUDA. You have been warned."
   ]
  },
  {
   "cell_type": "markdown",
   "metadata": {},
   "source": [
    "## Imports"
   ]
  },
  {
   "cell_type": "code",
   "execution_count": 3,
   "metadata": {},
   "outputs": [],
   "source": [
    "import matplotlib.pyplot as plt\n",
    "import numpy as np\n",
    "import time\n",
    "import torch\n",
    "import pandas as pd\n",
    "\n",
    "# Python 3 standard library\n",
    "from pathlib import Path"
   ]
  },
  {
   "cell_type": "markdown",
   "metadata": {},
   "source": [
    "### Set up local parameters"
   ]
  },
  {
   "cell_type": "code",
   "execution_count": 4,
   "metadata": {},
   "outputs": [],
   "source": [
    "n_epochs = 40\n",
    "\n",
    "# Name is the output file name\n",
    "##oldName = 'Oct11_SimpleCNN4Layer_C_100epochs_160K_lr_3em4'\n",
    "##oldName = 'Oct22_SimpleCNN5Layer_C_many_epochs_160K_lr_1em4_bs64'\n",
    "##oldName = 'Oct22_SimpleCNN5Layer_C_restart40epochs_240K_lr_1em4_bs64'\n",
    "##oldName = 'Oct28_SimpleCNN4Layer_D_YetAnother400epochs_240K_lr_1em3_bs64'\n",
    "##oldName = 'Nov11_SimpleCNN4Layer_D35_Amother200epochs_240K_lr_3em5_bs64'\n",
    "##oldName = 'Nov14_SimpleCNN4Layer_D25_Another50epochs_240K_lr_3em5_bs64'\n",
    "##oldName = 'Nov15_SimpleCNN4Layer_D25_Another50epochs_240K_lr_1em4_bs64_Alt_Loss_A_0p5'\n",
    "##oldName = 'Nov15_SimpleCNN4Layer_D35_YetAnother50epochs_240K_lr_1em4_bs64_Alt_Loss_A_1p0'\n",
    "##oldName = 'Nov15_SimpleCNN4Layer_D35_YetAnother50epochs_240K_lr_1em4_bs64_Alt_Loss_A_1p5'\n",
    "##oldName = 'Nov15_SimpleCNN4Layer_D35_YetAnother20epochs_240K_lr_1em4_bs64_Alt_Loss_A_2p0'\n",
    "##oldName = 'Nov15_SimpleCNN4Layer_D35_YetAnother250epochs_240K_lr_3em5_bs64_Alt_Loss_A_2p5'\n",
    "##oldName = 'Nov15_SimpleCNN4Layer_D35_YetAnother150epochs_240K_lr_1em4_bs64_Alt_Loss_A_3p0'\n",
    "##oldName = 'June24_XandXsq_CNN4Layer_D35_100epochs_160K_lr_1em4_bs64_Alt_Loss_A_3p0'\n",
    "oldName = 'June26_XandXsq_CNN4Layer_D15_Another40epochs_160K_lr_1em4_bs64_Alt_Loss_A_3p0'\n",
    "name = 'July19_XandXsq_CNN5Layer_D15_First40epochs_160K_lr_1em4_bs64_Alt_Loss_A_3p0'\n",
    "\n",
    "# Make an output folder named \"name\" (change if you want)\n",
    "output = Path(name)\n",
    "oldOutput = Path(oldName)\n",
    "# These are the input data files to read in\n",
    "trainfile = [Path('/share/lazy/schreihf/PvFinder/Aug14_80K_train.npz'),\n",
    "            Path('/share/lazy/schreihf/PvFinder/Oct03_80K_train.npz'),\n",
    "            Path('/share/lazy/schreihf/PvFinder/Oct03_80K2_train.npz')]\n",
    "valfile = Path('/share/lazy/schreihf/PvFinder/Oct03_20K_val.npz')\n",
    "\n",
    "# Size of batches\n",
    "batch_size = 64\n",
    "\n",
    "# How fast to learn\n",
    "learning_rate = 1e-4"
   ]
  },
  {
   "cell_type": "markdown",
   "metadata": {},
   "source": [
    "Make the output directory if it does not exist:"
   ]
  },
  {
   "cell_type": "code",
   "execution_count": 5,
   "metadata": {},
   "outputs": [],
   "source": [
    "output.mkdir(exist_ok=True)"
   ]
  },
  {
   "cell_type": "markdown",
   "metadata": {},
   "source": [
    "## Get the helper functions\n",
    "\n",
    "Add the directory with the model\n",
    "definitions to the path so we can import from it:\n",
    "\n",
    "> When you type `import X`,\n",
    "Python searches `sys.path` for a python\n",
    "file named `X.py` to import. So we need to add the model directory to the path."
   ]
  },
  {
   "cell_type": "code",
   "execution_count": 6,
   "metadata": {
    "scrolled": true
   },
   "outputs": [],
   "source": [
    "# From model/collectdata.py\n",
    "from model.collectdata_mdsA import collect_data\n",
    "\n",
    "# From model/loss.py\n",
    "##from loss import Loss\n",
    "from model.alt_loss_A import Loss\n",
    "\n",
    "# From model/training.py\n",
    "from model.training import trainNet, select_gpu\n",
    "\n",
    "# From model/models.py\n",
    "##from model.models_mds_C import TwoFeatures_CNN4Layer_D15 as Model\n",
    "from model.models_mds_C import TwoFeature_CNN5Layer_A as Model\n",
    "\n",
    "from model.training import trainNet, select_gpu, Results\n",
    "from model.plots import dual_train_plots, replace_in_ax"
   ]
  },
  {
   "cell_type": "code",
   "execution_count": 7,
   "metadata": {},
   "outputs": [],
   "source": [
    "# This gets built up during the run - do not rerun this cell\n",
    "results = pd.DataFrame([], columns=Results._fields)"
   ]
  },
  {
   "cell_type": "markdown",
   "metadata": {},
   "source": [
    "Set up Torch device configuration. All tensors and model parameters need to know where to be put.\n",
    "This takes a BUS ID number: The BUS ID is the same as the listing at the top of this script."
   ]
  },
  {
   "cell_type": "code",
   "execution_count": 8,
   "metadata": {},
   "outputs": [
    {
     "name": "stdout",
     "output_type": "stream",
     "text": [
      "1 available GPUs (initially using device 0):\n",
      "  0 TITAN V\n"
     ]
    }
   ],
   "source": [
    "device = select_gpu(0)"
   ]
  },
  {
   "cell_type": "markdown",
   "metadata": {},
   "source": [
    "## Loading data\n",
    "\n",
    "Load the dataset, split into parts, then move to device (see `collectdata.py` in the `../model` directory)"
   ]
  },
  {
   "cell_type": "code",
   "execution_count": 9,
   "metadata": {
    "scrolled": true
   },
   "outputs": [
    {
     "name": "stdout",
     "output_type": "stream",
     "text": [
      "Loading data...\n",
      "Loaded data/Aug14_80K_train.h5 in 13.85 s\n",
      "Loaded data/Oct03_80K_train.h5 in 13.94 s\n",
      "Constructing 160000 event dataset took 9.393 s\n",
      "Loading data...\n",
      "Loaded data/Oct03_20K_val.h5 in 3.771 s\n",
      "Constructing 9984 event dataset took 0.5456 s\n"
     ]
    }
   ],
   "source": [
    "## newer vernacular\n",
    "# Training dataset. You can put as many files here as desired.\n",
    "\n",
    "##  set the optio load_XandXsq = True to use both DKE and KDE^2 as input features\n",
    "train_loader = collect_data('data/Aug14_80K_train.h5',\n",
    "                            'data/Oct03_80K_train.h5',\n",
    "##                          'data/Oct03_80K2_train.h5',\n",
    "                            batch_size=batch_size,\n",
    "                            device=device,\n",
    "                            masking=True, shuffle=True,\n",
    "                            load_XandXsq=True)\n",
    "\n",
    "# Validation dataset. You can slice to reduce the size.\n",
    "val_loader = collect_data('data/Oct03_20K_val.h5',\n",
    "                          batch_size=batch_size,\n",
    "                          slice=slice(256 * 39),\n",
    "                          device=device,\n",
    "                          masking=True, shuffle=False,\n",
    "                          load_XandXsq=True)"
   ]
  },
  {
   "cell_type": "markdown",
   "metadata": {},
   "source": [
    "# Preparing the model"
   ]
  },
  {
   "cell_type": "markdown",
   "metadata": {},
   "source": [
    "Prepare a model, use multiple GPUs if they are VISIBLE, and move the model to the device."
   ]
  },
  {
   "cell_type": "code",
   "execution_count": 10,
   "metadata": {},
   "outputs": [],
   "source": [
    "model = Model()\n",
    "loss = Loss(epsilon=1e-5,coefficient=3.0)\n",
    "optimizer = torch.optim.Adam(model.parameters(), lr=learning_rate)"
   ]
  },
  {
   "cell_type": "code",
   "execution_count": 11,
   "metadata": {
    "scrolled": true
   },
   "outputs": [
    {
     "name": "stdout",
     "output_type": "stream",
     "text": [
      "Let's use 1 GPUs!\n"
     ]
    }
   ],
   "source": [
    "print(\"Let's use\", torch.cuda.device_count(), \"GPUs!\")\n",
    "if torch.cuda.device_count() > 1:\n",
    "    model = torch.nn.DataParallel(model)"
   ]
  },
  {
   "cell_type": "markdown",
   "metadata": {},
   "source": [
    "Let's move the model's weight matricies to the GPU:"
   ]
  },
  {
   "cell_type": "code",
   "execution_count": 12,
   "metadata": {},
   "outputs": [
    {
     "name": "stdout",
     "output_type": "stream",
     "text": [
      "output =  July19_XandXsq_CNN5Layer_D15_First40epochs_160K_lr_1em4_bs64_Alt_Loss_A_3p0\n"
     ]
    }
   ],
   "source": [
    "print('output = ',output)\n",
    "##print('oldOutput = ',oldOutput)\n",
    "##  use the first four layers from a pre-existing model\n",
    "##  see example at https://discuss.pytorch.org/t/how-to-load-part-of-pre-trained-model/1113\n",
    "pretrained_dict = torch.load('./June26_XandXsq_CNN4Layer_D15_Another40epochs_160K_lr_1em4_bs64_Alt_Loss_A_3p0/June26_XandXsq_CNN4Layer_D15_Another40epochs_160K_lr_1em4_bs64_Alt_Loss_A_3p0_final.pyt')\n",
    "model_dict = model.state_dict()\n",
    "# 1. filter out unnecessary keys\n",
    "pretrained_dict = {k: v for k, v in pretrained_dict.items() if k in model_dict}\n",
    "# 2. overwrite entries in the existing state dict\n",
    "model_dict.update(pretrained_dict) \n",
    "# 3. load the new state dict\n",
    "#   need to use strict=False as the two models state model attributes do not agree exactly\n",
    "#   see https://pytorch.org/docs/master/_modules/torch/nn/modules/module.html#Module.load_state_dict\n",
    "model.load_state_dict(pretrained_dict,strict=False)"
   ]
  },
  {
   "cell_type": "code",
   "execution_count": 13,
   "metadata": {
    "scrolled": true
   },
   "outputs": [],
   "source": [
    "model = model.to(device)"
   ]
  },
  {
   "cell_type": "markdown",
   "metadata": {},
   "source": [
    "## Train \n",
    "\n",
    "\n",
    "\n",
    "The body of this loop runs once per epoch. Results is a named tuple of values (loss per epoch for training and validation, time each). Start by setting up a plot first:"
   ]
  },
  {
   "cell_type": "code",
   "execution_count": 14,
   "metadata": {
    "scrolled": false
   },
   "outputs": [
    {
     "data": {
      "application/javascript": [
       "/* Put everything inside the global mpl namespace */\n",
       "window.mpl = {};\n",
       "\n",
       "\n",
       "mpl.get_websocket_type = function() {\n",
       "    if (typeof(WebSocket) !== 'undefined') {\n",
       "        return WebSocket;\n",
       "    } else if (typeof(MozWebSocket) !== 'undefined') {\n",
       "        return MozWebSocket;\n",
       "    } else {\n",
       "        alert('Your browser does not have WebSocket support.' +\n",
       "              'Please try Chrome, Safari or Firefox ≥ 6. ' +\n",
       "              'Firefox 4 and 5 are also supported but you ' +\n",
       "              'have to enable WebSockets in about:config.');\n",
       "    };\n",
       "}\n",
       "\n",
       "mpl.figure = function(figure_id, websocket, ondownload, parent_element) {\n",
       "    this.id = figure_id;\n",
       "\n",
       "    this.ws = websocket;\n",
       "\n",
       "    this.supports_binary = (this.ws.binaryType != undefined);\n",
       "\n",
       "    if (!this.supports_binary) {\n",
       "        var warnings = document.getElementById(\"mpl-warnings\");\n",
       "        if (warnings) {\n",
       "            warnings.style.display = 'block';\n",
       "            warnings.textContent = (\n",
       "                \"This browser does not support binary websocket messages. \" +\n",
       "                    \"Performance may be slow.\");\n",
       "        }\n",
       "    }\n",
       "\n",
       "    this.imageObj = new Image();\n",
       "\n",
       "    this.context = undefined;\n",
       "    this.message = undefined;\n",
       "    this.canvas = undefined;\n",
       "    this.rubberband_canvas = undefined;\n",
       "    this.rubberband_context = undefined;\n",
       "    this.format_dropdown = undefined;\n",
       "\n",
       "    this.image_mode = 'full';\n",
       "\n",
       "    this.root = $('<div/>');\n",
       "    this._root_extra_style(this.root)\n",
       "    this.root.attr('style', 'display: inline-block');\n",
       "\n",
       "    $(parent_element).append(this.root);\n",
       "\n",
       "    this._init_header(this);\n",
       "    this._init_canvas(this);\n",
       "    this._init_toolbar(this);\n",
       "\n",
       "    var fig = this;\n",
       "\n",
       "    this.waiting = false;\n",
       "\n",
       "    this.ws.onopen =  function () {\n",
       "            fig.send_message(\"supports_binary\", {value: fig.supports_binary});\n",
       "            fig.send_message(\"send_image_mode\", {});\n",
       "            if (mpl.ratio != 1) {\n",
       "                fig.send_message(\"set_dpi_ratio\", {'dpi_ratio': mpl.ratio});\n",
       "            }\n",
       "            fig.send_message(\"refresh\", {});\n",
       "        }\n",
       "\n",
       "    this.imageObj.onload = function() {\n",
       "            if (fig.image_mode == 'full') {\n",
       "                // Full images could contain transparency (where diff images\n",
       "                // almost always do), so we need to clear the canvas so that\n",
       "                // there is no ghosting.\n",
       "                fig.context.clearRect(0, 0, fig.canvas.width, fig.canvas.height);\n",
       "            }\n",
       "            fig.context.drawImage(fig.imageObj, 0, 0);\n",
       "        };\n",
       "\n",
       "    this.imageObj.onunload = function() {\n",
       "        fig.ws.close();\n",
       "    }\n",
       "\n",
       "    this.ws.onmessage = this._make_on_message_function(this);\n",
       "\n",
       "    this.ondownload = ondownload;\n",
       "}\n",
       "\n",
       "mpl.figure.prototype._init_header = function() {\n",
       "    var titlebar = $(\n",
       "        '<div class=\"ui-dialog-titlebar ui-widget-header ui-corner-all ' +\n",
       "        'ui-helper-clearfix\"/>');\n",
       "    var titletext = $(\n",
       "        '<div class=\"ui-dialog-title\" style=\"width: 100%; ' +\n",
       "        'text-align: center; padding: 3px;\"/>');\n",
       "    titlebar.append(titletext)\n",
       "    this.root.append(titlebar);\n",
       "    this.header = titletext[0];\n",
       "}\n",
       "\n",
       "\n",
       "\n",
       "mpl.figure.prototype._canvas_extra_style = function(canvas_div) {\n",
       "\n",
       "}\n",
       "\n",
       "\n",
       "mpl.figure.prototype._root_extra_style = function(canvas_div) {\n",
       "\n",
       "}\n",
       "\n",
       "mpl.figure.prototype._init_canvas = function() {\n",
       "    var fig = this;\n",
       "\n",
       "    var canvas_div = $('<div/>');\n",
       "\n",
       "    canvas_div.attr('style', 'position: relative; clear: both; outline: 0');\n",
       "\n",
       "    function canvas_keyboard_event(event) {\n",
       "        return fig.key_event(event, event['data']);\n",
       "    }\n",
       "\n",
       "    canvas_div.keydown('key_press', canvas_keyboard_event);\n",
       "    canvas_div.keyup('key_release', canvas_keyboard_event);\n",
       "    this.canvas_div = canvas_div\n",
       "    this._canvas_extra_style(canvas_div)\n",
       "    this.root.append(canvas_div);\n",
       "\n",
       "    var canvas = $('<canvas/>');\n",
       "    canvas.addClass('mpl-canvas');\n",
       "    canvas.attr('style', \"left: 0; top: 0; z-index: 0; outline: 0\")\n",
       "\n",
       "    this.canvas = canvas[0];\n",
       "    this.context = canvas[0].getContext(\"2d\");\n",
       "\n",
       "    var backingStore = this.context.backingStorePixelRatio ||\n",
       "\tthis.context.webkitBackingStorePixelRatio ||\n",
       "\tthis.context.mozBackingStorePixelRatio ||\n",
       "\tthis.context.msBackingStorePixelRatio ||\n",
       "\tthis.context.oBackingStorePixelRatio ||\n",
       "\tthis.context.backingStorePixelRatio || 1;\n",
       "\n",
       "    mpl.ratio = (window.devicePixelRatio || 1) / backingStore;\n",
       "\n",
       "    var rubberband = $('<canvas/>');\n",
       "    rubberband.attr('style', \"position: absolute; left: 0; top: 0; z-index: 1;\")\n",
       "\n",
       "    var pass_mouse_events = true;\n",
       "\n",
       "    canvas_div.resizable({\n",
       "        start: function(event, ui) {\n",
       "            pass_mouse_events = false;\n",
       "        },\n",
       "        resize: function(event, ui) {\n",
       "            fig.request_resize(ui.size.width, ui.size.height);\n",
       "        },\n",
       "        stop: function(event, ui) {\n",
       "            pass_mouse_events = true;\n",
       "            fig.request_resize(ui.size.width, ui.size.height);\n",
       "        },\n",
       "    });\n",
       "\n",
       "    function mouse_event_fn(event) {\n",
       "        if (pass_mouse_events)\n",
       "            return fig.mouse_event(event, event['data']);\n",
       "    }\n",
       "\n",
       "    rubberband.mousedown('button_press', mouse_event_fn);\n",
       "    rubberband.mouseup('button_release', mouse_event_fn);\n",
       "    // Throttle sequential mouse events to 1 every 20ms.\n",
       "    rubberband.mousemove('motion_notify', mouse_event_fn);\n",
       "\n",
       "    rubberband.mouseenter('figure_enter', mouse_event_fn);\n",
       "    rubberband.mouseleave('figure_leave', mouse_event_fn);\n",
       "\n",
       "    canvas_div.on(\"wheel\", function (event) {\n",
       "        event = event.originalEvent;\n",
       "        event['data'] = 'scroll'\n",
       "        if (event.deltaY < 0) {\n",
       "            event.step = 1;\n",
       "        } else {\n",
       "            event.step = -1;\n",
       "        }\n",
       "        mouse_event_fn(event);\n",
       "    });\n",
       "\n",
       "    canvas_div.append(canvas);\n",
       "    canvas_div.append(rubberband);\n",
       "\n",
       "    this.rubberband = rubberband;\n",
       "    this.rubberband_canvas = rubberband[0];\n",
       "    this.rubberband_context = rubberband[0].getContext(\"2d\");\n",
       "    this.rubberband_context.strokeStyle = \"#000000\";\n",
       "\n",
       "    this._resize_canvas = function(width, height) {\n",
       "        // Keep the size of the canvas, canvas container, and rubber band\n",
       "        // canvas in synch.\n",
       "        canvas_div.css('width', width)\n",
       "        canvas_div.css('height', height)\n",
       "\n",
       "        canvas.attr('width', width * mpl.ratio);\n",
       "        canvas.attr('height', height * mpl.ratio);\n",
       "        canvas.attr('style', 'width: ' + width + 'px; height: ' + height + 'px;');\n",
       "\n",
       "        rubberband.attr('width', width);\n",
       "        rubberband.attr('height', height);\n",
       "    }\n",
       "\n",
       "    // Set the figure to an initial 600x600px, this will subsequently be updated\n",
       "    // upon first draw.\n",
       "    this._resize_canvas(600, 600);\n",
       "\n",
       "    // Disable right mouse context menu.\n",
       "    $(this.rubberband_canvas).bind(\"contextmenu\",function(e){\n",
       "        return false;\n",
       "    });\n",
       "\n",
       "    function set_focus () {\n",
       "        canvas.focus();\n",
       "        canvas_div.focus();\n",
       "    }\n",
       "\n",
       "    window.setTimeout(set_focus, 100);\n",
       "}\n",
       "\n",
       "mpl.figure.prototype._init_toolbar = function() {\n",
       "    var fig = this;\n",
       "\n",
       "    var nav_element = $('<div/>')\n",
       "    nav_element.attr('style', 'width: 100%');\n",
       "    this.root.append(nav_element);\n",
       "\n",
       "    // Define a callback function for later on.\n",
       "    function toolbar_event(event) {\n",
       "        return fig.toolbar_button_onclick(event['data']);\n",
       "    }\n",
       "    function toolbar_mouse_event(event) {\n",
       "        return fig.toolbar_button_onmouseover(event['data']);\n",
       "    }\n",
       "\n",
       "    for(var toolbar_ind in mpl.toolbar_items) {\n",
       "        var name = mpl.toolbar_items[toolbar_ind][0];\n",
       "        var tooltip = mpl.toolbar_items[toolbar_ind][1];\n",
       "        var image = mpl.toolbar_items[toolbar_ind][2];\n",
       "        var method_name = mpl.toolbar_items[toolbar_ind][3];\n",
       "\n",
       "        if (!name) {\n",
       "            // put a spacer in here.\n",
       "            continue;\n",
       "        }\n",
       "        var button = $('<button/>');\n",
       "        button.addClass('ui-button ui-widget ui-state-default ui-corner-all ' +\n",
       "                        'ui-button-icon-only');\n",
       "        button.attr('role', 'button');\n",
       "        button.attr('aria-disabled', 'false');\n",
       "        button.click(method_name, toolbar_event);\n",
       "        button.mouseover(tooltip, toolbar_mouse_event);\n",
       "\n",
       "        var icon_img = $('<span/>');\n",
       "        icon_img.addClass('ui-button-icon-primary ui-icon');\n",
       "        icon_img.addClass(image);\n",
       "        icon_img.addClass('ui-corner-all');\n",
       "\n",
       "        var tooltip_span = $('<span/>');\n",
       "        tooltip_span.addClass('ui-button-text');\n",
       "        tooltip_span.html(tooltip);\n",
       "\n",
       "        button.append(icon_img);\n",
       "        button.append(tooltip_span);\n",
       "\n",
       "        nav_element.append(button);\n",
       "    }\n",
       "\n",
       "    var fmt_picker_span = $('<span/>');\n",
       "\n",
       "    var fmt_picker = $('<select/>');\n",
       "    fmt_picker.addClass('mpl-toolbar-option ui-widget ui-widget-content');\n",
       "    fmt_picker_span.append(fmt_picker);\n",
       "    nav_element.append(fmt_picker_span);\n",
       "    this.format_dropdown = fmt_picker[0];\n",
       "\n",
       "    for (var ind in mpl.extensions) {\n",
       "        var fmt = mpl.extensions[ind];\n",
       "        var option = $(\n",
       "            '<option/>', {selected: fmt === mpl.default_extension}).html(fmt);\n",
       "        fmt_picker.append(option)\n",
       "    }\n",
       "\n",
       "    // Add hover states to the ui-buttons\n",
       "    $( \".ui-button\" ).hover(\n",
       "        function() { $(this).addClass(\"ui-state-hover\");},\n",
       "        function() { $(this).removeClass(\"ui-state-hover\");}\n",
       "    );\n",
       "\n",
       "    var status_bar = $('<span class=\"mpl-message\"/>');\n",
       "    nav_element.append(status_bar);\n",
       "    this.message = status_bar[0];\n",
       "}\n",
       "\n",
       "mpl.figure.prototype.request_resize = function(x_pixels, y_pixels) {\n",
       "    // Request matplotlib to resize the figure. Matplotlib will then trigger a resize in the client,\n",
       "    // which will in turn request a refresh of the image.\n",
       "    this.send_message('resize', {'width': x_pixels, 'height': y_pixels});\n",
       "}\n",
       "\n",
       "mpl.figure.prototype.send_message = function(type, properties) {\n",
       "    properties['type'] = type;\n",
       "    properties['figure_id'] = this.id;\n",
       "    this.ws.send(JSON.stringify(properties));\n",
       "}\n",
       "\n",
       "mpl.figure.prototype.send_draw_message = function() {\n",
       "    if (!this.waiting) {\n",
       "        this.waiting = true;\n",
       "        this.ws.send(JSON.stringify({type: \"draw\", figure_id: this.id}));\n",
       "    }\n",
       "}\n",
       "\n",
       "\n",
       "mpl.figure.prototype.handle_save = function(fig, msg) {\n",
       "    var format_dropdown = fig.format_dropdown;\n",
       "    var format = format_dropdown.options[format_dropdown.selectedIndex].value;\n",
       "    fig.ondownload(fig, format);\n",
       "}\n",
       "\n",
       "\n",
       "mpl.figure.prototype.handle_resize = function(fig, msg) {\n",
       "    var size = msg['size'];\n",
       "    if (size[0] != fig.canvas.width || size[1] != fig.canvas.height) {\n",
       "        fig._resize_canvas(size[0], size[1]);\n",
       "        fig.send_message(\"refresh\", {});\n",
       "    };\n",
       "}\n",
       "\n",
       "mpl.figure.prototype.handle_rubberband = function(fig, msg) {\n",
       "    var x0 = msg['x0'] / mpl.ratio;\n",
       "    var y0 = (fig.canvas.height - msg['y0']) / mpl.ratio;\n",
       "    var x1 = msg['x1'] / mpl.ratio;\n",
       "    var y1 = (fig.canvas.height - msg['y1']) / mpl.ratio;\n",
       "    x0 = Math.floor(x0) + 0.5;\n",
       "    y0 = Math.floor(y0) + 0.5;\n",
       "    x1 = Math.floor(x1) + 0.5;\n",
       "    y1 = Math.floor(y1) + 0.5;\n",
       "    var min_x = Math.min(x0, x1);\n",
       "    var min_y = Math.min(y0, y1);\n",
       "    var width = Math.abs(x1 - x0);\n",
       "    var height = Math.abs(y1 - y0);\n",
       "\n",
       "    fig.rubberband_context.clearRect(\n",
       "        0, 0, fig.canvas.width, fig.canvas.height);\n",
       "\n",
       "    fig.rubberband_context.strokeRect(min_x, min_y, width, height);\n",
       "}\n",
       "\n",
       "mpl.figure.prototype.handle_figure_label = function(fig, msg) {\n",
       "    // Updates the figure title.\n",
       "    fig.header.textContent = msg['label'];\n",
       "}\n",
       "\n",
       "mpl.figure.prototype.handle_cursor = function(fig, msg) {\n",
       "    var cursor = msg['cursor'];\n",
       "    switch(cursor)\n",
       "    {\n",
       "    case 0:\n",
       "        cursor = 'pointer';\n",
       "        break;\n",
       "    case 1:\n",
       "        cursor = 'default';\n",
       "        break;\n",
       "    case 2:\n",
       "        cursor = 'crosshair';\n",
       "        break;\n",
       "    case 3:\n",
       "        cursor = 'move';\n",
       "        break;\n",
       "    }\n",
       "    fig.rubberband_canvas.style.cursor = cursor;\n",
       "}\n",
       "\n",
       "mpl.figure.prototype.handle_message = function(fig, msg) {\n",
       "    fig.message.textContent = msg['message'];\n",
       "}\n",
       "\n",
       "mpl.figure.prototype.handle_draw = function(fig, msg) {\n",
       "    // Request the server to send over a new figure.\n",
       "    fig.send_draw_message();\n",
       "}\n",
       "\n",
       "mpl.figure.prototype.handle_image_mode = function(fig, msg) {\n",
       "    fig.image_mode = msg['mode'];\n",
       "}\n",
       "\n",
       "mpl.figure.prototype.updated_canvas_event = function() {\n",
       "    // Called whenever the canvas gets updated.\n",
       "    this.send_message(\"ack\", {});\n",
       "}\n",
       "\n",
       "// A function to construct a web socket function for onmessage handling.\n",
       "// Called in the figure constructor.\n",
       "mpl.figure.prototype._make_on_message_function = function(fig) {\n",
       "    return function socket_on_message(evt) {\n",
       "        if (evt.data instanceof Blob) {\n",
       "            /* FIXME: We get \"Resource interpreted as Image but\n",
       "             * transferred with MIME type text/plain:\" errors on\n",
       "             * Chrome.  But how to set the MIME type?  It doesn't seem\n",
       "             * to be part of the websocket stream */\n",
       "            evt.data.type = \"image/png\";\n",
       "\n",
       "            /* Free the memory for the previous frames */\n",
       "            if (fig.imageObj.src) {\n",
       "                (window.URL || window.webkitURL).revokeObjectURL(\n",
       "                    fig.imageObj.src);\n",
       "            }\n",
       "\n",
       "            fig.imageObj.src = (window.URL || window.webkitURL).createObjectURL(\n",
       "                evt.data);\n",
       "            fig.updated_canvas_event();\n",
       "            fig.waiting = false;\n",
       "            return;\n",
       "        }\n",
       "        else if (typeof evt.data === 'string' && evt.data.slice(0, 21) == \"data:image/png;base64\") {\n",
       "            fig.imageObj.src = evt.data;\n",
       "            fig.updated_canvas_event();\n",
       "            fig.waiting = false;\n",
       "            return;\n",
       "        }\n",
       "\n",
       "        var msg = JSON.parse(evt.data);\n",
       "        var msg_type = msg['type'];\n",
       "\n",
       "        // Call the  \"handle_{type}\" callback, which takes\n",
       "        // the figure and JSON message as its only arguments.\n",
       "        try {\n",
       "            var callback = fig[\"handle_\" + msg_type];\n",
       "        } catch (e) {\n",
       "            console.log(\"No handler for the '\" + msg_type + \"' message type: \", msg);\n",
       "            return;\n",
       "        }\n",
       "\n",
       "        if (callback) {\n",
       "            try {\n",
       "                // console.log(\"Handling '\" + msg_type + \"' message: \", msg);\n",
       "                callback(fig, msg);\n",
       "            } catch (e) {\n",
       "                console.log(\"Exception inside the 'handler_\" + msg_type + \"' callback:\", e, e.stack, msg);\n",
       "            }\n",
       "        }\n",
       "    };\n",
       "}\n",
       "\n",
       "// from http://stackoverflow.com/questions/1114465/getting-mouse-location-in-canvas\n",
       "mpl.findpos = function(e) {\n",
       "    //this section is from http://www.quirksmode.org/js/events_properties.html\n",
       "    var targ;\n",
       "    if (!e)\n",
       "        e = window.event;\n",
       "    if (e.target)\n",
       "        targ = e.target;\n",
       "    else if (e.srcElement)\n",
       "        targ = e.srcElement;\n",
       "    if (targ.nodeType == 3) // defeat Safari bug\n",
       "        targ = targ.parentNode;\n",
       "\n",
       "    // jQuery normalizes the pageX and pageY\n",
       "    // pageX,Y are the mouse positions relative to the document\n",
       "    // offset() returns the position of the element relative to the document\n",
       "    var x = e.pageX - $(targ).offset().left;\n",
       "    var y = e.pageY - $(targ).offset().top;\n",
       "\n",
       "    return {\"x\": x, \"y\": y};\n",
       "};\n",
       "\n",
       "/*\n",
       " * return a copy of an object with only non-object keys\n",
       " * we need this to avoid circular references\n",
       " * http://stackoverflow.com/a/24161582/3208463\n",
       " */\n",
       "function simpleKeys (original) {\n",
       "  return Object.keys(original).reduce(function (obj, key) {\n",
       "    if (typeof original[key] !== 'object')\n",
       "        obj[key] = original[key]\n",
       "    return obj;\n",
       "  }, {});\n",
       "}\n",
       "\n",
       "mpl.figure.prototype.mouse_event = function(event, name) {\n",
       "    var canvas_pos = mpl.findpos(event)\n",
       "\n",
       "    if (name === 'button_press')\n",
       "    {\n",
       "        this.canvas.focus();\n",
       "        this.canvas_div.focus();\n",
       "    }\n",
       "\n",
       "    var x = canvas_pos.x * mpl.ratio;\n",
       "    var y = canvas_pos.y * mpl.ratio;\n",
       "\n",
       "    this.send_message(name, {x: x, y: y, button: event.button,\n",
       "                             step: event.step,\n",
       "                             guiEvent: simpleKeys(event)});\n",
       "\n",
       "    /* This prevents the web browser from automatically changing to\n",
       "     * the text insertion cursor when the button is pressed.  We want\n",
       "     * to control all of the cursor setting manually through the\n",
       "     * 'cursor' event from matplotlib */\n",
       "    event.preventDefault();\n",
       "    return false;\n",
       "}\n",
       "\n",
       "mpl.figure.prototype._key_event_extra = function(event, name) {\n",
       "    // Handle any extra behaviour associated with a key event\n",
       "}\n",
       "\n",
       "mpl.figure.prototype.key_event = function(event, name) {\n",
       "\n",
       "    // Prevent repeat events\n",
       "    if (name == 'key_press')\n",
       "    {\n",
       "        if (event.which === this._key)\n",
       "            return;\n",
       "        else\n",
       "            this._key = event.which;\n",
       "    }\n",
       "    if (name == 'key_release')\n",
       "        this._key = null;\n",
       "\n",
       "    var value = '';\n",
       "    if (event.ctrlKey && event.which != 17)\n",
       "        value += \"ctrl+\";\n",
       "    if (event.altKey && event.which != 18)\n",
       "        value += \"alt+\";\n",
       "    if (event.shiftKey && event.which != 16)\n",
       "        value += \"shift+\";\n",
       "\n",
       "    value += 'k';\n",
       "    value += event.which.toString();\n",
       "\n",
       "    this._key_event_extra(event, name);\n",
       "\n",
       "    this.send_message(name, {key: value,\n",
       "                             guiEvent: simpleKeys(event)});\n",
       "    return false;\n",
       "}\n",
       "\n",
       "mpl.figure.prototype.toolbar_button_onclick = function(name) {\n",
       "    if (name == 'download') {\n",
       "        this.handle_save(this, null);\n",
       "    } else {\n",
       "        this.send_message(\"toolbar_button\", {name: name});\n",
       "    }\n",
       "};\n",
       "\n",
       "mpl.figure.prototype.toolbar_button_onmouseover = function(tooltip) {\n",
       "    this.message.textContent = tooltip;\n",
       "};\n",
       "mpl.toolbar_items = [[\"Home\", \"Reset original view\", \"fa fa-home icon-home\", \"home\"], [\"Back\", \"Back to previous view\", \"fa fa-arrow-left icon-arrow-left\", \"back\"], [\"Forward\", \"Forward to next view\", \"fa fa-arrow-right icon-arrow-right\", \"forward\"], [\"\", \"\", \"\", \"\"], [\"Pan\", \"Pan axes with left mouse, zoom with right\", \"fa fa-arrows icon-move\", \"pan\"], [\"Zoom\", \"Zoom to rectangle\", \"fa fa-square-o icon-check-empty\", \"zoom\"], [\"\", \"\", \"\", \"\"], [\"Download\", \"Download plot\", \"fa fa-floppy-o icon-save\", \"download\"]];\n",
       "\n",
       "mpl.extensions = [\"eps\", \"jpeg\", \"pdf\", \"png\", \"ps\", \"raw\", \"svg\", \"tif\"];\n",
       "\n",
       "mpl.default_extension = \"png\";var comm_websocket_adapter = function(comm) {\n",
       "    // Create a \"websocket\"-like object which calls the given IPython comm\n",
       "    // object with the appropriate methods. Currently this is a non binary\n",
       "    // socket, so there is still some room for performance tuning.\n",
       "    var ws = {};\n",
       "\n",
       "    ws.close = function() {\n",
       "        comm.close()\n",
       "    };\n",
       "    ws.send = function(m) {\n",
       "        //console.log('sending', m);\n",
       "        comm.send(m);\n",
       "    };\n",
       "    // Register the callback with on_msg.\n",
       "    comm.on_msg(function(msg) {\n",
       "        //console.log('receiving', msg['content']['data'], msg);\n",
       "        // Pass the mpl event to the overridden (by mpl) onmessage function.\n",
       "        ws.onmessage(msg['content']['data'])\n",
       "    });\n",
       "    return ws;\n",
       "}\n",
       "\n",
       "mpl.mpl_figure_comm = function(comm, msg) {\n",
       "    // This is the function which gets called when the mpl process\n",
       "    // starts-up an IPython Comm through the \"matplotlib\" channel.\n",
       "\n",
       "    var id = msg.content.data.id;\n",
       "    // Get hold of the div created by the display call when the Comm\n",
       "    // socket was opened in Python.\n",
       "    var element = $(\"#\" + id);\n",
       "    var ws_proxy = comm_websocket_adapter(comm)\n",
       "\n",
       "    function ondownload(figure, format) {\n",
       "        window.open(figure.imageObj.src);\n",
       "    }\n",
       "\n",
       "    var fig = new mpl.figure(id, ws_proxy,\n",
       "                           ondownload,\n",
       "                           element.get(0));\n",
       "\n",
       "    // Call onopen now - mpl needs it, as it is assuming we've passed it a real\n",
       "    // web socket which is closed, not our websocket->open comm proxy.\n",
       "    ws_proxy.onopen();\n",
       "\n",
       "    fig.parent_element = element.get(0);\n",
       "    fig.cell_info = mpl.find_output_cell(\"<div id='\" + id + \"'></div>\");\n",
       "    if (!fig.cell_info) {\n",
       "        console.error(\"Failed to find cell for figure\", id, fig);\n",
       "        return;\n",
       "    }\n",
       "\n",
       "    var output_index = fig.cell_info[2]\n",
       "    var cell = fig.cell_info[0];\n",
       "\n",
       "};\n",
       "\n",
       "mpl.figure.prototype.handle_close = function(fig, msg) {\n",
       "    var width = fig.canvas.width/mpl.ratio\n",
       "    fig.root.unbind('remove')\n",
       "\n",
       "    // Update the output cell to use the data from the current canvas.\n",
       "    fig.push_to_output();\n",
       "    var dataURL = fig.canvas.toDataURL();\n",
       "    // Re-enable the keyboard manager in IPython - without this line, in FF,\n",
       "    // the notebook keyboard shortcuts fail.\n",
       "    IPython.keyboard_manager.enable()\n",
       "    $(fig.parent_element).html('<img src=\"' + dataURL + '\" width=\"' + width + '\">');\n",
       "    fig.close_ws(fig, msg);\n",
       "}\n",
       "\n",
       "mpl.figure.prototype.close_ws = function(fig, msg){\n",
       "    fig.send_message('closing', msg);\n",
       "    // fig.ws.close()\n",
       "}\n",
       "\n",
       "mpl.figure.prototype.push_to_output = function(remove_interactive) {\n",
       "    // Turn the data on the canvas into data in the output cell.\n",
       "    var width = this.canvas.width/mpl.ratio\n",
       "    var dataURL = this.canvas.toDataURL();\n",
       "    this.cell_info[1]['text/html'] = '<img src=\"' + dataURL + '\" width=\"' + width + '\">';\n",
       "}\n",
       "\n",
       "mpl.figure.prototype.updated_canvas_event = function() {\n",
       "    // Tell IPython that the notebook contents must change.\n",
       "    IPython.notebook.set_dirty(true);\n",
       "    this.send_message(\"ack\", {});\n",
       "    var fig = this;\n",
       "    // Wait a second, then push the new image to the DOM so\n",
       "    // that it is saved nicely (might be nice to debounce this).\n",
       "    setTimeout(function () { fig.push_to_output() }, 1000);\n",
       "}\n",
       "\n",
       "mpl.figure.prototype._init_toolbar = function() {\n",
       "    var fig = this;\n",
       "\n",
       "    var nav_element = $('<div/>')\n",
       "    nav_element.attr('style', 'width: 100%');\n",
       "    this.root.append(nav_element);\n",
       "\n",
       "    // Define a callback function for later on.\n",
       "    function toolbar_event(event) {\n",
       "        return fig.toolbar_button_onclick(event['data']);\n",
       "    }\n",
       "    function toolbar_mouse_event(event) {\n",
       "        return fig.toolbar_button_onmouseover(event['data']);\n",
       "    }\n",
       "\n",
       "    for(var toolbar_ind in mpl.toolbar_items){\n",
       "        var name = mpl.toolbar_items[toolbar_ind][0];\n",
       "        var tooltip = mpl.toolbar_items[toolbar_ind][1];\n",
       "        var image = mpl.toolbar_items[toolbar_ind][2];\n",
       "        var method_name = mpl.toolbar_items[toolbar_ind][3];\n",
       "\n",
       "        if (!name) { continue; };\n",
       "\n",
       "        var button = $('<button class=\"btn btn-default\" href=\"#\" title=\"' + name + '\"><i class=\"fa ' + image + ' fa-lg\"></i></button>');\n",
       "        button.click(method_name, toolbar_event);\n",
       "        button.mouseover(tooltip, toolbar_mouse_event);\n",
       "        nav_element.append(button);\n",
       "    }\n",
       "\n",
       "    // Add the status bar.\n",
       "    var status_bar = $('<span class=\"mpl-message\" style=\"text-align:right; float: right;\"/>');\n",
       "    nav_element.append(status_bar);\n",
       "    this.message = status_bar[0];\n",
       "\n",
       "    // Add the close button to the window.\n",
       "    var buttongrp = $('<div class=\"btn-group inline pull-right\"></div>');\n",
       "    var button = $('<button class=\"btn btn-mini btn-primary\" href=\"#\" title=\"Stop Interaction\"><i class=\"fa fa-power-off icon-remove icon-large\"></i></button>');\n",
       "    button.click(function (evt) { fig.handle_close(fig, {}); } );\n",
       "    button.mouseover('Stop Interaction', toolbar_mouse_event);\n",
       "    buttongrp.append(button);\n",
       "    var titlebar = this.root.find($('.ui-dialog-titlebar'));\n",
       "    titlebar.prepend(buttongrp);\n",
       "}\n",
       "\n",
       "mpl.figure.prototype._root_extra_style = function(el){\n",
       "    var fig = this\n",
       "    el.on(\"remove\", function(){\n",
       "\tfig.close_ws(fig, {});\n",
       "    });\n",
       "}\n",
       "\n",
       "mpl.figure.prototype._canvas_extra_style = function(el){\n",
       "    // this is important to make the div 'focusable\n",
       "    el.attr('tabindex', 0)\n",
       "    // reach out to IPython and tell the keyboard manager to turn it's self\n",
       "    // off when our div gets focus\n",
       "\n",
       "    // location in version 3\n",
       "    if (IPython.notebook.keyboard_manager) {\n",
       "        IPython.notebook.keyboard_manager.register_events(el);\n",
       "    }\n",
       "    else {\n",
       "        // location in version 2\n",
       "        IPython.keyboard_manager.register_events(el);\n",
       "    }\n",
       "\n",
       "}\n",
       "\n",
       "mpl.figure.prototype._key_event_extra = function(event, name) {\n",
       "    var manager = IPython.notebook.keyboard_manager;\n",
       "    if (!manager)\n",
       "        manager = IPython.keyboard_manager;\n",
       "\n",
       "    // Check for shift+enter\n",
       "    if (event.shiftKey && event.which == 13) {\n",
       "        this.canvas_div.blur();\n",
       "        event.shiftKey = false;\n",
       "        // Send a \"J\" for go to next cell\n",
       "        event.which = 74;\n",
       "        event.keyCode = 74;\n",
       "        manager.command_mode();\n",
       "        manager.handle_keydown(event);\n",
       "    }\n",
       "}\n",
       "\n",
       "mpl.figure.prototype.handle_save = function(fig, msg) {\n",
       "    fig.ondownload(fig, null);\n",
       "}\n",
       "\n",
       "\n",
       "mpl.find_output_cell = function(html_output) {\n",
       "    // Return the cell and output element which can be found *uniquely* in the notebook.\n",
       "    // Note - this is a bit hacky, but it is done because the \"notebook_saving.Notebook\"\n",
       "    // IPython event is triggered only after the cells have been serialised, which for\n",
       "    // our purposes (turning an active figure into a static one), is too late.\n",
       "    var cells = IPython.notebook.get_cells();\n",
       "    var ncells = cells.length;\n",
       "    for (var i=0; i<ncells; i++) {\n",
       "        var cell = cells[i];\n",
       "        if (cell.cell_type === 'code'){\n",
       "            for (var j=0; j<cell.output_area.outputs.length; j++) {\n",
       "                var data = cell.output_area.outputs[j];\n",
       "                if (data.data) {\n",
       "                    // IPython >= 3 moved mimebundle to data attribute of output\n",
       "                    data = data.data;\n",
       "                }\n",
       "                if (data['text/html'] == html_output) {\n",
       "                    return [cell, data, j];\n",
       "                }\n",
       "            }\n",
       "        }\n",
       "    }\n",
       "}\n",
       "\n",
       "// Register the function which deals with the matplotlib target/channel.\n",
       "// The kernel may be null if the page has been refreshed.\n",
       "if (IPython.notebook.kernel != null) {\n",
       "    IPython.notebook.kernel.comm_manager.register_target('matplotlib', mpl.mpl_figure_comm);\n",
       "}\n"
      ],
      "text/plain": [
       "<IPython.core.display.Javascript object>"
      ]
     },
     "metadata": {},
     "output_type": "display_data"
    },
    {
     "data": {
      "text/html": [
       "<img src=\"data:image/png;base64,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\" width=\"1000\">"
      ],
      "text/plain": [
       "<IPython.core.display.HTML object>"
      ]
     },
     "metadata": {},
     "output_type": "display_data"
    }
   ],
   "source": [
    "ax, tax, lax, lines = dual_train_plots()\n",
    "fig = ax.figure\n",
    "plt.tight_layout()"
   ]
  },
  {
   "cell_type": "code",
   "execution_count": 15,
   "metadata": {},
   "outputs": [
    {
     "name": "stdout",
     "output_type": "stream",
     "text": [
      "Number of batches: train = 2500, val = 156\n"
     ]
    },
    {
     "data": {
      "application/vnd.jupyter.widget-view+json": {
       "model_id": "ac6d46c5aaaf469fb7c7b860fe7ca568",
       "version_major": 2,
       "version_minor": 0
      },
      "text/plain": [
       "HBox(children=(IntProgress(value=0, description='Epochs', layout=Layout(flex='2'), max=40, style=ProgressStyle…"
      ]
     },
     "metadata": {},
     "output_type": "display_data"
    },
    {
     "data": {
      "application/vnd.jupyter.widget-view+json": {
       "model_id": "",
       "version_major": 2,
       "version_minor": 0
      },
      "text/plain": [
       "HBox(children=(IntProgress(value=0, description='Training', layout=Layout(flex='2'), max=2500, style=ProgressS…"
      ]
     },
     "metadata": {},
     "output_type": "display_data"
    },
    {
     "name": "stdout",
     "output_type": "stream",
     "text": [
      "Epoch 0: train=45.3297, val=19.418, took 49.054 s\n",
      "  Validation Found 0 of 54700, added 0 (eff 0.00%) (0.0 FP/event)\n"
     ]
    },
    {
     "data": {
      "application/vnd.jupyter.widget-view+json": {
       "model_id": "",
       "version_major": 2,
       "version_minor": 0
      },
      "text/plain": [
       "HBox(children=(IntProgress(value=0, description='Training', layout=Layout(flex='2'), max=2500, style=ProgressS…"
      ]
     },
     "metadata": {},
     "output_type": "display_data"
    },
    {
     "name": "stdout",
     "output_type": "stream",
     "text": [
      "Epoch 1: train=19.3999, val=19.4177, took 47.162 s\n",
      "  Validation Found 0 of 54700, added 0 (eff 0.00%) (0.0 FP/event)\n"
     ]
    },
    {
     "data": {
      "application/vnd.jupyter.widget-view+json": {
       "model_id": "",
       "version_major": 2,
       "version_minor": 0
      },
      "text/plain": [
       "HBox(children=(IntProgress(value=0, description='Training', layout=Layout(flex='2'), max=2500, style=ProgressS…"
      ]
     },
     "metadata": {},
     "output_type": "display_data"
    },
    {
     "name": "stdout",
     "output_type": "stream",
     "text": [
      "Epoch 2: train=19.3982, val=19.4176, took 46.727 s\n",
      "  Validation Found 0 of 54700, added 0 (eff 0.00%) (0.0 FP/event)\n"
     ]
    },
    {
     "data": {
      "application/vnd.jupyter.widget-view+json": {
       "model_id": "",
       "version_major": 2,
       "version_minor": 0
      },
      "text/plain": [
       "HBox(children=(IntProgress(value=0, description='Training', layout=Layout(flex='2'), max=2500, style=ProgressS…"
      ]
     },
     "metadata": {},
     "output_type": "display_data"
    },
    {
     "name": "stdout",
     "output_type": "stream",
     "text": [
      "Epoch 3: train=19.3978, val=19.4176, took 47.036 s\n",
      "  Validation Found 0 of 54700, added 0 (eff 0.00%) (0.0 FP/event)\n"
     ]
    },
    {
     "data": {
      "application/vnd.jupyter.widget-view+json": {
       "model_id": "",
       "version_major": 2,
       "version_minor": 0
      },
      "text/plain": [
       "HBox(children=(IntProgress(value=0, description='Training', layout=Layout(flex='2'), max=2500, style=ProgressS…"
      ]
     },
     "metadata": {},
     "output_type": "display_data"
    },
    {
     "name": "stdout",
     "output_type": "stream",
     "text": [
      "Epoch 4: train=8.1431, val=3.90017, took 47.49 s\n",
      "  Validation Found 48983 of 54700, added 1292 (eff 89.55%) (0.129 FP/event)\n"
     ]
    },
    {
     "data": {
      "application/vnd.jupyter.widget-view+json": {
       "model_id": "",
       "version_major": 2,
       "version_minor": 0
      },
      "text/plain": [
       "HBox(children=(IntProgress(value=0, description='Training', layout=Layout(flex='2'), max=2500, style=ProgressS…"
      ]
     },
     "metadata": {},
     "output_type": "display_data"
    },
    {
     "name": "stdout",
     "output_type": "stream",
     "text": [
      "Epoch 5: train=3.92844, val=3.74029, took 47.56 s\n",
      "  Validation Found 49443 of 54700, added 1452 (eff 90.39%) (0.145 FP/event)\n"
     ]
    },
    {
     "data": {
      "application/vnd.jupyter.widget-view+json": {
       "model_id": "",
       "version_major": 2,
       "version_minor": 0
      },
      "text/plain": [
       "HBox(children=(IntProgress(value=0, description='Training', layout=Layout(flex='2'), max=2500, style=ProgressS…"
      ]
     },
     "metadata": {},
     "output_type": "display_data"
    },
    {
     "name": "stdout",
     "output_type": "stream",
     "text": [
      "Epoch 6: train=3.7946, val=3.68471, took 47.142 s\n",
      "  Validation Found 49585 of 54700, added 1534 (eff 90.65%) (0.154 FP/event)\n"
     ]
    },
    {
     "data": {
      "application/vnd.jupyter.widget-view+json": {
       "model_id": "",
       "version_major": 2,
       "version_minor": 0
      },
      "text/plain": [
       "HBox(children=(IntProgress(value=0, description='Training', layout=Layout(flex='2'), max=2500, style=ProgressS…"
      ]
     },
     "metadata": {},
     "output_type": "display_data"
    },
    {
     "name": "stdout",
     "output_type": "stream",
     "text": [
      "Epoch 7: train=3.74367, val=3.65174, took 46.406 s\n",
      "  Validation Found 49800 of 54700, added 1630 (eff 91.04%) (0.163 FP/event)\n"
     ]
    },
    {
     "data": {
      "application/vnd.jupyter.widget-view+json": {
       "model_id": "",
       "version_major": 2,
       "version_minor": 0
      },
      "text/plain": [
       "HBox(children=(IntProgress(value=0, description='Training', layout=Layout(flex='2'), max=2500, style=ProgressS…"
      ]
     },
     "metadata": {},
     "output_type": "display_data"
    },
    {
     "name": "stdout",
     "output_type": "stream",
     "text": [
      "Epoch 8: train=3.7093, val=3.62814, took 46.566 s\n",
      "  Validation Found 49936 of 54700, added 1739 (eff 91.29%) (0.174 FP/event)\n"
     ]
    },
    {
     "data": {
      "application/vnd.jupyter.widget-view+json": {
       "model_id": "",
       "version_major": 2,
       "version_minor": 0
      },
      "text/plain": [
       "HBox(children=(IntProgress(value=0, description='Training', layout=Layout(flex='2'), max=2500, style=ProgressS…"
      ]
     },
     "metadata": {},
     "output_type": "display_data"
    },
    {
     "name": "stdout",
     "output_type": "stream",
     "text": [
      "Epoch 9: train=3.6872, val=3.61038, took 46.516 s\n",
      "  Validation Found 49939 of 54700, added 1709 (eff 91.30%) (0.171 FP/event)\n"
     ]
    },
    {
     "data": {
      "application/vnd.jupyter.widget-view+json": {
       "model_id": "",
       "version_major": 2,
       "version_minor": 0
      },
      "text/plain": [
       "HBox(children=(IntProgress(value=0, description='Training', layout=Layout(flex='2'), max=2500, style=ProgressS…"
      ]
     },
     "metadata": {},
     "output_type": "display_data"
    },
    {
     "name": "stdout",
     "output_type": "stream",
     "text": [
      "Epoch 10: train=3.66834, val=3.59421, took 46.348 s\n",
      "  Validation Found 50003 of 54700, added 1706 (eff 91.41%) (0.171 FP/event)\n"
     ]
    },
    {
     "data": {
      "application/vnd.jupyter.widget-view+json": {
       "model_id": "",
       "version_major": 2,
       "version_minor": 0
      },
      "text/plain": [
       "HBox(children=(IntProgress(value=0, description='Training', layout=Layout(flex='2'), max=2500, style=ProgressS…"
      ]
     },
     "metadata": {},
     "output_type": "display_data"
    },
    {
     "name": "stdout",
     "output_type": "stream",
     "text": [
      "Epoch 11: train=3.65121, val=3.58507, took 46.195 s\n",
      "  Validation Found 50056 of 54700, added 1741 (eff 91.51%) (0.174 FP/event)\n"
     ]
    },
    {
     "data": {
      "application/vnd.jupyter.widget-view+json": {
       "model_id": "",
       "version_major": 2,
       "version_minor": 0
      },
      "text/plain": [
       "HBox(children=(IntProgress(value=0, description='Training', layout=Layout(flex='2'), max=2500, style=ProgressS…"
      ]
     },
     "metadata": {},
     "output_type": "display_data"
    },
    {
     "name": "stdout",
     "output_type": "stream",
     "text": [
      "Epoch 12: train=3.63864, val=3.57303, took 45.798 s\n",
      "  Validation Found 50104 of 54700, added 1748 (eff 91.60%) (0.175 FP/event)\n"
     ]
    },
    {
     "data": {
      "application/vnd.jupyter.widget-view+json": {
       "model_id": "",
       "version_major": 2,
       "version_minor": 0
      },
      "text/plain": [
       "HBox(children=(IntProgress(value=0, description='Training', layout=Layout(flex='2'), max=2500, style=ProgressS…"
      ]
     },
     "metadata": {},
     "output_type": "display_data"
    },
    {
     "name": "stdout",
     "output_type": "stream",
     "text": [
      "Epoch 13: train=3.62586, val=3.56173, took 46.127 s\n",
      "  Validation Found 50411 of 54700, added 2111 (eff 92.16%) (0.211 FP/event)\n"
     ]
    },
    {
     "data": {
      "application/vnd.jupyter.widget-view+json": {
       "model_id": "",
       "version_major": 2,
       "version_minor": 0
      },
      "text/plain": [
       "HBox(children=(IntProgress(value=0, description='Training', layout=Layout(flex='2'), max=2500, style=ProgressS…"
      ]
     },
     "metadata": {},
     "output_type": "display_data"
    },
    {
     "name": "stdout",
     "output_type": "stream",
     "text": [
      "Epoch 14: train=3.61544, val=3.55579, took 46.304 s\n",
      "  Validation Found 50291 of 54700, added 1886 (eff 91.94%) (0.189 FP/event)\n"
     ]
    },
    {
     "data": {
      "application/vnd.jupyter.widget-view+json": {
       "model_id": "",
       "version_major": 2,
       "version_minor": 0
      },
      "text/plain": [
       "HBox(children=(IntProgress(value=0, description='Training', layout=Layout(flex='2'), max=2500, style=ProgressS…"
      ]
     },
     "metadata": {},
     "output_type": "display_data"
    },
    {
     "name": "stdout",
     "output_type": "stream",
     "text": [
      "Epoch 15: train=3.60666, val=3.54075, took 46.499 s\n",
      "  Validation Found 50275 of 54700, added 1849 (eff 91.91%) (0.185 FP/event)\n"
     ]
    },
    {
     "data": {
      "application/vnd.jupyter.widget-view+json": {
       "model_id": "",
       "version_major": 2,
       "version_minor": 0
      },
      "text/plain": [
       "HBox(children=(IntProgress(value=0, description='Training', layout=Layout(flex='2'), max=2500, style=ProgressS…"
      ]
     },
     "metadata": {},
     "output_type": "display_data"
    },
    {
     "name": "stdout",
     "output_type": "stream",
     "text": [
      "Epoch 16: train=3.59999, val=3.53844, took 46.525 s\n",
      "  Validation Found 50263 of 54700, added 1813 (eff 91.89%) (0.182 FP/event)\n"
     ]
    },
    {
     "data": {
      "application/vnd.jupyter.widget-view+json": {
       "model_id": "",
       "version_major": 2,
       "version_minor": 0
      },
      "text/plain": [
       "HBox(children=(IntProgress(value=0, description='Training', layout=Layout(flex='2'), max=2500, style=ProgressS…"
      ]
     },
     "metadata": {},
     "output_type": "display_data"
    },
    {
     "name": "stdout",
     "output_type": "stream",
     "text": [
      "Epoch 17: train=3.59141, val=3.53315, took 46.217 s\n",
      "  Validation Found 50228 of 54700, added 1850 (eff 91.82%) (0.185 FP/event)\n"
     ]
    },
    {
     "data": {
      "application/vnd.jupyter.widget-view+json": {
       "model_id": "",
       "version_major": 2,
       "version_minor": 0
      },
      "text/plain": [
       "HBox(children=(IntProgress(value=0, description='Training', layout=Layout(flex='2'), max=2500, style=ProgressS…"
      ]
     },
     "metadata": {},
     "output_type": "display_data"
    },
    {
     "name": "stdout",
     "output_type": "stream",
     "text": [
      "Epoch 18: train=3.58286, val=3.53323, took 46.452 s\n",
      "  Validation Found 50185 of 54700, added 1692 (eff 91.75%) (0.169 FP/event)\n"
     ]
    },
    {
     "data": {
      "application/vnd.jupyter.widget-view+json": {
       "model_id": "",
       "version_major": 2,
       "version_minor": 0
      },
      "text/plain": [
       "HBox(children=(IntProgress(value=0, description='Training', layout=Layout(flex='2'), max=2500, style=ProgressS…"
      ]
     },
     "metadata": {},
     "output_type": "display_data"
    },
    {
     "name": "stdout",
     "output_type": "stream",
     "text": [
      "Epoch 19: train=3.57907, val=3.52119, took 46.512 s\n",
      "  Validation Found 50375 of 54700, added 1926 (eff 92.09%) (0.193 FP/event)\n"
     ]
    },
    {
     "data": {
      "application/vnd.jupyter.widget-view+json": {
       "model_id": "",
       "version_major": 2,
       "version_minor": 0
      },
      "text/plain": [
       "HBox(children=(IntProgress(value=0, description='Training', layout=Layout(flex='2'), max=2500, style=ProgressS…"
      ]
     },
     "metadata": {},
     "output_type": "display_data"
    },
    {
     "name": "stdout",
     "output_type": "stream",
     "text": [
      "Epoch 20: train=3.57114, val=3.52259, took 46.488 s\n",
      "  Validation Found 50481 of 54700, added 2060 (eff 92.29%) (0.206 FP/event)\n"
     ]
    },
    {
     "data": {
      "application/vnd.jupyter.widget-view+json": {
       "model_id": "",
       "version_major": 2,
       "version_minor": 0
      },
      "text/plain": [
       "HBox(children=(IntProgress(value=0, description='Training', layout=Layout(flex='2'), max=2500, style=ProgressS…"
      ]
     },
     "metadata": {},
     "output_type": "display_data"
    },
    {
     "name": "stdout",
     "output_type": "stream",
     "text": [
      "Epoch 21: train=3.56599, val=3.51517, took 46.858 s\n",
      "  Validation Found 50336 of 54700, added 1828 (eff 92.02%) (0.183 FP/event)\n"
     ]
    },
    {
     "data": {
      "application/vnd.jupyter.widget-view+json": {
       "model_id": "",
       "version_major": 2,
       "version_minor": 0
      },
      "text/plain": [
       "HBox(children=(IntProgress(value=0, description='Training', layout=Layout(flex='2'), max=2500, style=ProgressS…"
      ]
     },
     "metadata": {},
     "output_type": "display_data"
    },
    {
     "name": "stdout",
     "output_type": "stream",
     "text": [
      "Epoch 22: train=3.56119, val=3.51807, took 46.579 s\n",
      "  Validation Found 50272 of 54700, added 1780 (eff 91.90%) (0.178 FP/event)\n"
     ]
    },
    {
     "data": {
      "application/vnd.jupyter.widget-view+json": {
       "model_id": "",
       "version_major": 2,
       "version_minor": 0
      },
      "text/plain": [
       "HBox(children=(IntProgress(value=0, description='Training', layout=Layout(flex='2'), max=2500, style=ProgressS…"
      ]
     },
     "metadata": {},
     "output_type": "display_data"
    },
    {
     "name": "stdout",
     "output_type": "stream",
     "text": [
      "Epoch 23: train=3.55699, val=3.52022, took 46.118 s\n",
      "  Validation Found 50154 of 54700, added 1693 (eff 91.69%) (0.17 FP/event)\n"
     ]
    },
    {
     "data": {
      "application/vnd.jupyter.widget-view+json": {
       "model_id": "",
       "version_major": 2,
       "version_minor": 0
      },
      "text/plain": [
       "HBox(children=(IntProgress(value=0, description='Training', layout=Layout(flex='2'), max=2500, style=ProgressS…"
      ]
     },
     "metadata": {},
     "output_type": "display_data"
    },
    {
     "name": "stdout",
     "output_type": "stream",
     "text": [
      "Epoch 24: train=3.55179, val=3.49702, took 46.445 s\n",
      "  Validation Found 50464 of 54700, added 1940 (eff 92.26%) (0.194 FP/event)\n"
     ]
    },
    {
     "data": {
      "application/vnd.jupyter.widget-view+json": {
       "model_id": "",
       "version_major": 2,
       "version_minor": 0
      },
      "text/plain": [
       "HBox(children=(IntProgress(value=0, description='Training', layout=Layout(flex='2'), max=2500, style=ProgressS…"
      ]
     },
     "metadata": {},
     "output_type": "display_data"
    },
    {
     "name": "stdout",
     "output_type": "stream",
     "text": [
      "Epoch 25: train=3.54836, val=3.50788, took 46.585 s\n",
      "  Validation Found 50167 of 54700, added 1674 (eff 91.71%) (0.168 FP/event)\n"
     ]
    },
    {
     "data": {
      "application/vnd.jupyter.widget-view+json": {
       "model_id": "",
       "version_major": 2,
       "version_minor": 0
      },
      "text/plain": [
       "HBox(children=(IntProgress(value=0, description='Training', layout=Layout(flex='2'), max=2500, style=ProgressS…"
      ]
     },
     "metadata": {},
     "output_type": "display_data"
    },
    {
     "name": "stdout",
     "output_type": "stream",
     "text": [
      "Epoch 26: train=3.54604, val=3.49442, took 46.733 s\n",
      "  Validation Found 50322 of 54700, added 1760 (eff 92.00%) (0.176 FP/event)\n"
     ]
    },
    {
     "data": {
      "application/vnd.jupyter.widget-view+json": {
       "model_id": "",
       "version_major": 2,
       "version_minor": 0
      },
      "text/plain": [
       "HBox(children=(IntProgress(value=0, description='Training', layout=Layout(flex='2'), max=2500, style=ProgressS…"
      ]
     },
     "metadata": {},
     "output_type": "display_data"
    },
    {
     "name": "stdout",
     "output_type": "stream",
     "text": [
      "Epoch 27: train=3.54263, val=3.50004, took 46.2 s\n",
      "  Validation Found 50541 of 54700, added 2066 (eff 92.40%) (0.207 FP/event)\n"
     ]
    },
    {
     "data": {
      "application/vnd.jupyter.widget-view+json": {
       "model_id": "",
       "version_major": 2,
       "version_minor": 0
      },
      "text/plain": [
       "HBox(children=(IntProgress(value=0, description='Training', layout=Layout(flex='2'), max=2500, style=ProgressS…"
      ]
     },
     "metadata": {},
     "output_type": "display_data"
    },
    {
     "name": "stdout",
     "output_type": "stream",
     "text": [
      "Epoch 28: train=3.53845, val=3.5082, took 47.456 s\n",
      "  Validation Found 50155 of 54700, added 1617 (eff 91.69%) (0.162 FP/event)\n"
     ]
    },
    {
     "data": {
      "application/vnd.jupyter.widget-view+json": {
       "model_id": "",
       "version_major": 2,
       "version_minor": 0
      },
      "text/plain": [
       "HBox(children=(IntProgress(value=0, description='Training', layout=Layout(flex='2'), max=2500, style=ProgressS…"
      ]
     },
     "metadata": {},
     "output_type": "display_data"
    },
    {
     "name": "stdout",
     "output_type": "stream",
     "text": [
      "Epoch 29: train=3.53462, val=3.48153, took 47.12 s\n",
      "  Validation Found 50412 of 54700, added 1805 (eff 92.16%) (0.181 FP/event)\n"
     ]
    },
    {
     "data": {
      "application/vnd.jupyter.widget-view+json": {
       "model_id": "",
       "version_major": 2,
       "version_minor": 0
      },
      "text/plain": [
       "HBox(children=(IntProgress(value=0, description='Training', layout=Layout(flex='2'), max=2500, style=ProgressS…"
      ]
     },
     "metadata": {},
     "output_type": "display_data"
    },
    {
     "name": "stdout",
     "output_type": "stream",
     "text": [
      "Epoch 30: train=3.53136, val=3.48576, took 46.77 s\n",
      "  Validation Found 50383 of 54700, added 1767 (eff 92.11%) (0.177 FP/event)\n"
     ]
    },
    {
     "data": {
      "application/vnd.jupyter.widget-view+json": {
       "model_id": "",
       "version_major": 2,
       "version_minor": 0
      },
      "text/plain": [
       "HBox(children=(IntProgress(value=0, description='Training', layout=Layout(flex='2'), max=2500, style=ProgressS…"
      ]
     },
     "metadata": {},
     "output_type": "display_data"
    },
    {
     "name": "stdout",
     "output_type": "stream",
     "text": [
      "Epoch 31: train=3.52876, val=3.48687, took 46.877 s\n",
      "  Validation Found 50331 of 54700, added 1740 (eff 92.01%) (0.174 FP/event)\n"
     ]
    },
    {
     "data": {
      "application/vnd.jupyter.widget-view+json": {
       "model_id": "",
       "version_major": 2,
       "version_minor": 0
      },
      "text/plain": [
       "HBox(children=(IntProgress(value=0, description='Training', layout=Layout(flex='2'), max=2500, style=ProgressS…"
      ]
     },
     "metadata": {},
     "output_type": "display_data"
    },
    {
     "name": "stdout",
     "output_type": "stream",
     "text": [
      "Epoch 32: train=3.52629, val=3.48246, took 46.222 s\n",
      "  Validation Found 50280 of 54700, added 1689 (eff 91.92%) (0.169 FP/event)\n"
     ]
    },
    {
     "data": {
      "application/vnd.jupyter.widget-view+json": {
       "model_id": "",
       "version_major": 2,
       "version_minor": 0
      },
      "text/plain": [
       "HBox(children=(IntProgress(value=0, description='Training', layout=Layout(flex='2'), max=2500, style=ProgressS…"
      ]
     },
     "metadata": {},
     "output_type": "display_data"
    },
    {
     "name": "stdout",
     "output_type": "stream",
     "text": [
      "Epoch 33: train=3.52314, val=3.47349, took 46.493 s\n",
      "  Validation Found 50522 of 54700, added 1935 (eff 92.36%) (0.194 FP/event)\n"
     ]
    },
    {
     "data": {
      "application/vnd.jupyter.widget-view+json": {
       "model_id": "",
       "version_major": 2,
       "version_minor": 0
      },
      "text/plain": [
       "HBox(children=(IntProgress(value=0, description='Training', layout=Layout(flex='2'), max=2500, style=ProgressS…"
      ]
     },
     "metadata": {},
     "output_type": "display_data"
    },
    {
     "name": "stdout",
     "output_type": "stream",
     "text": [
      "Epoch 34: train=3.52028, val=3.47496, took 46.509 s\n",
      "  Validation Found 50406 of 54700, added 1808 (eff 92.15%) (0.181 FP/event)\n"
     ]
    },
    {
     "data": {
      "application/vnd.jupyter.widget-view+json": {
       "model_id": "",
       "version_major": 2,
       "version_minor": 0
      },
      "text/plain": [
       "HBox(children=(IntProgress(value=0, description='Training', layout=Layout(flex='2'), max=2500, style=ProgressS…"
      ]
     },
     "metadata": {},
     "output_type": "display_data"
    },
    {
     "name": "stdout",
     "output_type": "stream",
     "text": [
      "Epoch 35: train=3.51896, val=3.47251, took 46.522 s\n",
      "  Validation Found 50471 of 54700, added 1843 (eff 92.27%) (0.185 FP/event)\n"
     ]
    },
    {
     "data": {
      "application/vnd.jupyter.widget-view+json": {
       "model_id": "",
       "version_major": 2,
       "version_minor": 0
      },
      "text/plain": [
       "HBox(children=(IntProgress(value=0, description='Training', layout=Layout(flex='2'), max=2500, style=ProgressS…"
      ]
     },
     "metadata": {},
     "output_type": "display_data"
    },
    {
     "name": "stdout",
     "output_type": "stream",
     "text": [
      "Epoch 36: train=3.51715, val=3.46637, took 46.493 s\n",
      "  Validation Found 50524 of 54700, added 1910 (eff 92.37%) (0.191 FP/event)\n"
     ]
    },
    {
     "data": {
      "application/vnd.jupyter.widget-view+json": {
       "model_id": "",
       "version_major": 2,
       "version_minor": 0
      },
      "text/plain": [
       "HBox(children=(IntProgress(value=0, description='Training', layout=Layout(flex='2'), max=2500, style=ProgressS…"
      ]
     },
     "metadata": {},
     "output_type": "display_data"
    },
    {
     "name": "stdout",
     "output_type": "stream",
     "text": [
      "Epoch 37: train=3.51404, val=3.47427, took 46.459 s\n",
      "  Validation Found 50354 of 54700, added 1713 (eff 92.05%) (0.172 FP/event)\n"
     ]
    },
    {
     "data": {
      "application/vnd.jupyter.widget-view+json": {
       "model_id": "",
       "version_major": 2,
       "version_minor": 0
      },
      "text/plain": [
       "HBox(children=(IntProgress(value=0, description='Training', layout=Layout(flex='2'), max=2500, style=ProgressS…"
      ]
     },
     "metadata": {},
     "output_type": "display_data"
    },
    {
     "name": "stdout",
     "output_type": "stream",
     "text": [
      "Epoch 38: train=3.512, val=3.46954, took 46.498 s\n",
      "  Validation Found 50432 of 54700, added 1784 (eff 92.20%) (0.179 FP/event)\n"
     ]
    },
    {
     "data": {
      "application/vnd.jupyter.widget-view+json": {
       "model_id": "",
       "version_major": 2,
       "version_minor": 0
      },
      "text/plain": [
       "HBox(children=(IntProgress(value=0, description='Training', layout=Layout(flex='2'), max=2500, style=ProgressS…"
      ]
     },
     "metadata": {},
     "output_type": "display_data"
    },
    {
     "name": "stdout",
     "output_type": "stream",
     "text": [
      "Epoch 39: train=3.5111, val=3.46873, took 46.415 s\n",
      "  Validation Found 50405 of 54700, added 1798 (eff 92.15%) (0.18 FP/event)\n",
      "\n"
     ]
    }
   ],
   "source": [
    "for result in trainNet(model, optimizer, loss,\n",
    "                        train_loader, val_loader,\n",
    "                        n_epochs, epoch_start=len(results),\n",
    "                        notebook=True):\n",
    "    \n",
    "    results = results.append(pd.Series(result._asdict()), ignore_index=True)\n",
    "    \n",
    "    xs = results.index\n",
    "    \n",
    "    # Update the plot above\n",
    "    lines['train'].set_data(results.index,results.cost)\n",
    "    lines['val'].set_data(results.index,results.val)\n",
    "    \n",
    "    #filter first cost epoch (can be really large)\n",
    "    max_cost = max(max(results.cost if len(results.cost)<2 else results.cost[1:]), max(results.val))\n",
    "    min_cost = min(min(results.cost), min(results.val))\n",
    "    \n",
    "    # The plot limits need updating too\n",
    "    ax.set_ylim(min_cost*.9, max_cost*1.1)  \n",
    "    ax.set_xlim(-.5, len(results.cost) - .5)\n",
    "    \n",
    "    replace_in_ax(lax, lines['eff'], xs, results['eff_val'].apply(lambda x: x.eff_rate))\n",
    "    replace_in_ax(tax, lines['fp'], xs, results['eff_val'].apply(lambda x: x.fp_rate))\n",
    "    \n",
    "    # Redraw the figure\n",
    "    fig.canvas.draw()\n",
    "\n",
    "    # Save each model state dictionary\n",
    "    torch.save(model.state_dict(), output / f'{name}_{result.epoch}.pyt')"
   ]
  },
  {
   "cell_type": "markdown",
   "metadata": {},
   "source": [
    "# Results\n",
    "\n",
    "Let's save some results: (even though if you have not changed the code above, it saves the model every epoch)"
   ]
  },
  {
   "cell_type": "markdown",
   "metadata": {},
   "source": [
    "Go ahead and save the final model (even though it was also saved above):"
   ]
  },
  {
   "cell_type": "code",
   "execution_count": 16,
   "metadata": {},
   "outputs": [],
   "source": [
    "torch.save(model.state_dict(), output / f'{name}_final.pyt')"
   ]
  },
  {
   "cell_type": "markdown",
   "metadata": {},
   "source": [
    "Save the output results:"
   ]
  },
  {
   "cell_type": "code",
   "execution_count": 17,
   "metadata": {},
   "outputs": [
    {
     "name": "stderr",
     "output_type": "stream",
     "text": [
      "/data/conda/envs/anaconda/lib/python3.7/site-packages/pandas/core/generic.py:2377: PerformanceWarning: \n",
      "your performance may suffer as PyTables will pickle object types that it cannot\n",
      "map directly to c-types [inferred_type->mixed-integer,key->block1_values] [items->['epoch', 'eff_val']]\n",
      "\n",
      "  return pytables.to_hdf(path_or_buf, key, self, **kwargs)\n"
     ]
    }
   ],
   "source": [
    "results.to_hdf(f'{name}_stats.hdf5', 'results')"
   ]
  },
  {
   "cell_type": "markdown",
   "metadata": {},
   "source": [
    "Save the plot above:"
   ]
  },
  {
   "cell_type": "code",
   "execution_count": 18,
   "metadata": {},
   "outputs": [
    {
     "data": {
      "application/javascript": [
       "/* Put everything inside the global mpl namespace */\n",
       "window.mpl = {};\n",
       "\n",
       "\n",
       "mpl.get_websocket_type = function() {\n",
       "    if (typeof(WebSocket) !== 'undefined') {\n",
       "        return WebSocket;\n",
       "    } else if (typeof(MozWebSocket) !== 'undefined') {\n",
       "        return MozWebSocket;\n",
       "    } else {\n",
       "        alert('Your browser does not have WebSocket support.' +\n",
       "              'Please try Chrome, Safari or Firefox ≥ 6. ' +\n",
       "              'Firefox 4 and 5 are also supported but you ' +\n",
       "              'have to enable WebSockets in about:config.');\n",
       "    };\n",
       "}\n",
       "\n",
       "mpl.figure = function(figure_id, websocket, ondownload, parent_element) {\n",
       "    this.id = figure_id;\n",
       "\n",
       "    this.ws = websocket;\n",
       "\n",
       "    this.supports_binary = (this.ws.binaryType != undefined);\n",
       "\n",
       "    if (!this.supports_binary) {\n",
       "        var warnings = document.getElementById(\"mpl-warnings\");\n",
       "        if (warnings) {\n",
       "            warnings.style.display = 'block';\n",
       "            warnings.textContent = (\n",
       "                \"This browser does not support binary websocket messages. \" +\n",
       "                    \"Performance may be slow.\");\n",
       "        }\n",
       "    }\n",
       "\n",
       "    this.imageObj = new Image();\n",
       "\n",
       "    this.context = undefined;\n",
       "    this.message = undefined;\n",
       "    this.canvas = undefined;\n",
       "    this.rubberband_canvas = undefined;\n",
       "    this.rubberband_context = undefined;\n",
       "    this.format_dropdown = undefined;\n",
       "\n",
       "    this.image_mode = 'full';\n",
       "\n",
       "    this.root = $('<div/>');\n",
       "    this._root_extra_style(this.root)\n",
       "    this.root.attr('style', 'display: inline-block');\n",
       "\n",
       "    $(parent_element).append(this.root);\n",
       "\n",
       "    this._init_header(this);\n",
       "    this._init_canvas(this);\n",
       "    this._init_toolbar(this);\n",
       "\n",
       "    var fig = this;\n",
       "\n",
       "    this.waiting = false;\n",
       "\n",
       "    this.ws.onopen =  function () {\n",
       "            fig.send_message(\"supports_binary\", {value: fig.supports_binary});\n",
       "            fig.send_message(\"send_image_mode\", {});\n",
       "            if (mpl.ratio != 1) {\n",
       "                fig.send_message(\"set_dpi_ratio\", {'dpi_ratio': mpl.ratio});\n",
       "            }\n",
       "            fig.send_message(\"refresh\", {});\n",
       "        }\n",
       "\n",
       "    this.imageObj.onload = function() {\n",
       "            if (fig.image_mode == 'full') {\n",
       "                // Full images could contain transparency (where diff images\n",
       "                // almost always do), so we need to clear the canvas so that\n",
       "                // there is no ghosting.\n",
       "                fig.context.clearRect(0, 0, fig.canvas.width, fig.canvas.height);\n",
       "            }\n",
       "            fig.context.drawImage(fig.imageObj, 0, 0);\n",
       "        };\n",
       "\n",
       "    this.imageObj.onunload = function() {\n",
       "        fig.ws.close();\n",
       "    }\n",
       "\n",
       "    this.ws.onmessage = this._make_on_message_function(this);\n",
       "\n",
       "    this.ondownload = ondownload;\n",
       "}\n",
       "\n",
       "mpl.figure.prototype._init_header = function() {\n",
       "    var titlebar = $(\n",
       "        '<div class=\"ui-dialog-titlebar ui-widget-header ui-corner-all ' +\n",
       "        'ui-helper-clearfix\"/>');\n",
       "    var titletext = $(\n",
       "        '<div class=\"ui-dialog-title\" style=\"width: 100%; ' +\n",
       "        'text-align: center; padding: 3px;\"/>');\n",
       "    titlebar.append(titletext)\n",
       "    this.root.append(titlebar);\n",
       "    this.header = titletext[0];\n",
       "}\n",
       "\n",
       "\n",
       "\n",
       "mpl.figure.prototype._canvas_extra_style = function(canvas_div) {\n",
       "\n",
       "}\n",
       "\n",
       "\n",
       "mpl.figure.prototype._root_extra_style = function(canvas_div) {\n",
       "\n",
       "}\n",
       "\n",
       "mpl.figure.prototype._init_canvas = function() {\n",
       "    var fig = this;\n",
       "\n",
       "    var canvas_div = $('<div/>');\n",
       "\n",
       "    canvas_div.attr('style', 'position: relative; clear: both; outline: 0');\n",
       "\n",
       "    function canvas_keyboard_event(event) {\n",
       "        return fig.key_event(event, event['data']);\n",
       "    }\n",
       "\n",
       "    canvas_div.keydown('key_press', canvas_keyboard_event);\n",
       "    canvas_div.keyup('key_release', canvas_keyboard_event);\n",
       "    this.canvas_div = canvas_div\n",
       "    this._canvas_extra_style(canvas_div)\n",
       "    this.root.append(canvas_div);\n",
       "\n",
       "    var canvas = $('<canvas/>');\n",
       "    canvas.addClass('mpl-canvas');\n",
       "    canvas.attr('style', \"left: 0; top: 0; z-index: 0; outline: 0\")\n",
       "\n",
       "    this.canvas = canvas[0];\n",
       "    this.context = canvas[0].getContext(\"2d\");\n",
       "\n",
       "    var backingStore = this.context.backingStorePixelRatio ||\n",
       "\tthis.context.webkitBackingStorePixelRatio ||\n",
       "\tthis.context.mozBackingStorePixelRatio ||\n",
       "\tthis.context.msBackingStorePixelRatio ||\n",
       "\tthis.context.oBackingStorePixelRatio ||\n",
       "\tthis.context.backingStorePixelRatio || 1;\n",
       "\n",
       "    mpl.ratio = (window.devicePixelRatio || 1) / backingStore;\n",
       "\n",
       "    var rubberband = $('<canvas/>');\n",
       "    rubberband.attr('style', \"position: absolute; left: 0; top: 0; z-index: 1;\")\n",
       "\n",
       "    var pass_mouse_events = true;\n",
       "\n",
       "    canvas_div.resizable({\n",
       "        start: function(event, ui) {\n",
       "            pass_mouse_events = false;\n",
       "        },\n",
       "        resize: function(event, ui) {\n",
       "            fig.request_resize(ui.size.width, ui.size.height);\n",
       "        },\n",
       "        stop: function(event, ui) {\n",
       "            pass_mouse_events = true;\n",
       "            fig.request_resize(ui.size.width, ui.size.height);\n",
       "        },\n",
       "    });\n",
       "\n",
       "    function mouse_event_fn(event) {\n",
       "        if (pass_mouse_events)\n",
       "            return fig.mouse_event(event, event['data']);\n",
       "    }\n",
       "\n",
       "    rubberband.mousedown('button_press', mouse_event_fn);\n",
       "    rubberband.mouseup('button_release', mouse_event_fn);\n",
       "    // Throttle sequential mouse events to 1 every 20ms.\n",
       "    rubberband.mousemove('motion_notify', mouse_event_fn);\n",
       "\n",
       "    rubberband.mouseenter('figure_enter', mouse_event_fn);\n",
       "    rubberband.mouseleave('figure_leave', mouse_event_fn);\n",
       "\n",
       "    canvas_div.on(\"wheel\", function (event) {\n",
       "        event = event.originalEvent;\n",
       "        event['data'] = 'scroll'\n",
       "        if (event.deltaY < 0) {\n",
       "            event.step = 1;\n",
       "        } else {\n",
       "            event.step = -1;\n",
       "        }\n",
       "        mouse_event_fn(event);\n",
       "    });\n",
       "\n",
       "    canvas_div.append(canvas);\n",
       "    canvas_div.append(rubberband);\n",
       "\n",
       "    this.rubberband = rubberband;\n",
       "    this.rubberband_canvas = rubberband[0];\n",
       "    this.rubberband_context = rubberband[0].getContext(\"2d\");\n",
       "    this.rubberband_context.strokeStyle = \"#000000\";\n",
       "\n",
       "    this._resize_canvas = function(width, height) {\n",
       "        // Keep the size of the canvas, canvas container, and rubber band\n",
       "        // canvas in synch.\n",
       "        canvas_div.css('width', width)\n",
       "        canvas_div.css('height', height)\n",
       "\n",
       "        canvas.attr('width', width * mpl.ratio);\n",
       "        canvas.attr('height', height * mpl.ratio);\n",
       "        canvas.attr('style', 'width: ' + width + 'px; height: ' + height + 'px;');\n",
       "\n",
       "        rubberband.attr('width', width);\n",
       "        rubberband.attr('height', height);\n",
       "    }\n",
       "\n",
       "    // Set the figure to an initial 600x600px, this will subsequently be updated\n",
       "    // upon first draw.\n",
       "    this._resize_canvas(600, 600);\n",
       "\n",
       "    // Disable right mouse context menu.\n",
       "    $(this.rubberband_canvas).bind(\"contextmenu\",function(e){\n",
       "        return false;\n",
       "    });\n",
       "\n",
       "    function set_focus () {\n",
       "        canvas.focus();\n",
       "        canvas_div.focus();\n",
       "    }\n",
       "\n",
       "    window.setTimeout(set_focus, 100);\n",
       "}\n",
       "\n",
       "mpl.figure.prototype._init_toolbar = function() {\n",
       "    var fig = this;\n",
       "\n",
       "    var nav_element = $('<div/>')\n",
       "    nav_element.attr('style', 'width: 100%');\n",
       "    this.root.append(nav_element);\n",
       "\n",
       "    // Define a callback function for later on.\n",
       "    function toolbar_event(event) {\n",
       "        return fig.toolbar_button_onclick(event['data']);\n",
       "    }\n",
       "    function toolbar_mouse_event(event) {\n",
       "        return fig.toolbar_button_onmouseover(event['data']);\n",
       "    }\n",
       "\n",
       "    for(var toolbar_ind in mpl.toolbar_items) {\n",
       "        var name = mpl.toolbar_items[toolbar_ind][0];\n",
       "        var tooltip = mpl.toolbar_items[toolbar_ind][1];\n",
       "        var image = mpl.toolbar_items[toolbar_ind][2];\n",
       "        var method_name = mpl.toolbar_items[toolbar_ind][3];\n",
       "\n",
       "        if (!name) {\n",
       "            // put a spacer in here.\n",
       "            continue;\n",
       "        }\n",
       "        var button = $('<button/>');\n",
       "        button.addClass('ui-button ui-widget ui-state-default ui-corner-all ' +\n",
       "                        'ui-button-icon-only');\n",
       "        button.attr('role', 'button');\n",
       "        button.attr('aria-disabled', 'false');\n",
       "        button.click(method_name, toolbar_event);\n",
       "        button.mouseover(tooltip, toolbar_mouse_event);\n",
       "\n",
       "        var icon_img = $('<span/>');\n",
       "        icon_img.addClass('ui-button-icon-primary ui-icon');\n",
       "        icon_img.addClass(image);\n",
       "        icon_img.addClass('ui-corner-all');\n",
       "\n",
       "        var tooltip_span = $('<span/>');\n",
       "        tooltip_span.addClass('ui-button-text');\n",
       "        tooltip_span.html(tooltip);\n",
       "\n",
       "        button.append(icon_img);\n",
       "        button.append(tooltip_span);\n",
       "\n",
       "        nav_element.append(button);\n",
       "    }\n",
       "\n",
       "    var fmt_picker_span = $('<span/>');\n",
       "\n",
       "    var fmt_picker = $('<select/>');\n",
       "    fmt_picker.addClass('mpl-toolbar-option ui-widget ui-widget-content');\n",
       "    fmt_picker_span.append(fmt_picker);\n",
       "    nav_element.append(fmt_picker_span);\n",
       "    this.format_dropdown = fmt_picker[0];\n",
       "\n",
       "    for (var ind in mpl.extensions) {\n",
       "        var fmt = mpl.extensions[ind];\n",
       "        var option = $(\n",
       "            '<option/>', {selected: fmt === mpl.default_extension}).html(fmt);\n",
       "        fmt_picker.append(option)\n",
       "    }\n",
       "\n",
       "    // Add hover states to the ui-buttons\n",
       "    $( \".ui-button\" ).hover(\n",
       "        function() { $(this).addClass(\"ui-state-hover\");},\n",
       "        function() { $(this).removeClass(\"ui-state-hover\");}\n",
       "    );\n",
       "\n",
       "    var status_bar = $('<span class=\"mpl-message\"/>');\n",
       "    nav_element.append(status_bar);\n",
       "    this.message = status_bar[0];\n",
       "}\n",
       "\n",
       "mpl.figure.prototype.request_resize = function(x_pixels, y_pixels) {\n",
       "    // Request matplotlib to resize the figure. Matplotlib will then trigger a resize in the client,\n",
       "    // which will in turn request a refresh of the image.\n",
       "    this.send_message('resize', {'width': x_pixels, 'height': y_pixels});\n",
       "}\n",
       "\n",
       "mpl.figure.prototype.send_message = function(type, properties) {\n",
       "    properties['type'] = type;\n",
       "    properties['figure_id'] = this.id;\n",
       "    this.ws.send(JSON.stringify(properties));\n",
       "}\n",
       "\n",
       "mpl.figure.prototype.send_draw_message = function() {\n",
       "    if (!this.waiting) {\n",
       "        this.waiting = true;\n",
       "        this.ws.send(JSON.stringify({type: \"draw\", figure_id: this.id}));\n",
       "    }\n",
       "}\n",
       "\n",
       "\n",
       "mpl.figure.prototype.handle_save = function(fig, msg) {\n",
       "    var format_dropdown = fig.format_dropdown;\n",
       "    var format = format_dropdown.options[format_dropdown.selectedIndex].value;\n",
       "    fig.ondownload(fig, format);\n",
       "}\n",
       "\n",
       "\n",
       "mpl.figure.prototype.handle_resize = function(fig, msg) {\n",
       "    var size = msg['size'];\n",
       "    if (size[0] != fig.canvas.width || size[1] != fig.canvas.height) {\n",
       "        fig._resize_canvas(size[0], size[1]);\n",
       "        fig.send_message(\"refresh\", {});\n",
       "    };\n",
       "}\n",
       "\n",
       "mpl.figure.prototype.handle_rubberband = function(fig, msg) {\n",
       "    var x0 = msg['x0'] / mpl.ratio;\n",
       "    var y0 = (fig.canvas.height - msg['y0']) / mpl.ratio;\n",
       "    var x1 = msg['x1'] / mpl.ratio;\n",
       "    var y1 = (fig.canvas.height - msg['y1']) / mpl.ratio;\n",
       "    x0 = Math.floor(x0) + 0.5;\n",
       "    y0 = Math.floor(y0) + 0.5;\n",
       "    x1 = Math.floor(x1) + 0.5;\n",
       "    y1 = Math.floor(y1) + 0.5;\n",
       "    var min_x = Math.min(x0, x1);\n",
       "    var min_y = Math.min(y0, y1);\n",
       "    var width = Math.abs(x1 - x0);\n",
       "    var height = Math.abs(y1 - y0);\n",
       "\n",
       "    fig.rubberband_context.clearRect(\n",
       "        0, 0, fig.canvas.width, fig.canvas.height);\n",
       "\n",
       "    fig.rubberband_context.strokeRect(min_x, min_y, width, height);\n",
       "}\n",
       "\n",
       "mpl.figure.prototype.handle_figure_label = function(fig, msg) {\n",
       "    // Updates the figure title.\n",
       "    fig.header.textContent = msg['label'];\n",
       "}\n",
       "\n",
       "mpl.figure.prototype.handle_cursor = function(fig, msg) {\n",
       "    var cursor = msg['cursor'];\n",
       "    switch(cursor)\n",
       "    {\n",
       "    case 0:\n",
       "        cursor = 'pointer';\n",
       "        break;\n",
       "    case 1:\n",
       "        cursor = 'default';\n",
       "        break;\n",
       "    case 2:\n",
       "        cursor = 'crosshair';\n",
       "        break;\n",
       "    case 3:\n",
       "        cursor = 'move';\n",
       "        break;\n",
       "    }\n",
       "    fig.rubberband_canvas.style.cursor = cursor;\n",
       "}\n",
       "\n",
       "mpl.figure.prototype.handle_message = function(fig, msg) {\n",
       "    fig.message.textContent = msg['message'];\n",
       "}\n",
       "\n",
       "mpl.figure.prototype.handle_draw = function(fig, msg) {\n",
       "    // Request the server to send over a new figure.\n",
       "    fig.send_draw_message();\n",
       "}\n",
       "\n",
       "mpl.figure.prototype.handle_image_mode = function(fig, msg) {\n",
       "    fig.image_mode = msg['mode'];\n",
       "}\n",
       "\n",
       "mpl.figure.prototype.updated_canvas_event = function() {\n",
       "    // Called whenever the canvas gets updated.\n",
       "    this.send_message(\"ack\", {});\n",
       "}\n",
       "\n",
       "// A function to construct a web socket function for onmessage handling.\n",
       "// Called in the figure constructor.\n",
       "mpl.figure.prototype._make_on_message_function = function(fig) {\n",
       "    return function socket_on_message(evt) {\n",
       "        if (evt.data instanceof Blob) {\n",
       "            /* FIXME: We get \"Resource interpreted as Image but\n",
       "             * transferred with MIME type text/plain:\" errors on\n",
       "             * Chrome.  But how to set the MIME type?  It doesn't seem\n",
       "             * to be part of the websocket stream */\n",
       "            evt.data.type = \"image/png\";\n",
       "\n",
       "            /* Free the memory for the previous frames */\n",
       "            if (fig.imageObj.src) {\n",
       "                (window.URL || window.webkitURL).revokeObjectURL(\n",
       "                    fig.imageObj.src);\n",
       "            }\n",
       "\n",
       "            fig.imageObj.src = (window.URL || window.webkitURL).createObjectURL(\n",
       "                evt.data);\n",
       "            fig.updated_canvas_event();\n",
       "            fig.waiting = false;\n",
       "            return;\n",
       "        }\n",
       "        else if (typeof evt.data === 'string' && evt.data.slice(0, 21) == \"data:image/png;base64\") {\n",
       "            fig.imageObj.src = evt.data;\n",
       "            fig.updated_canvas_event();\n",
       "            fig.waiting = false;\n",
       "            return;\n",
       "        }\n",
       "\n",
       "        var msg = JSON.parse(evt.data);\n",
       "        var msg_type = msg['type'];\n",
       "\n",
       "        // Call the  \"handle_{type}\" callback, which takes\n",
       "        // the figure and JSON message as its only arguments.\n",
       "        try {\n",
       "            var callback = fig[\"handle_\" + msg_type];\n",
       "        } catch (e) {\n",
       "            console.log(\"No handler for the '\" + msg_type + \"' message type: \", msg);\n",
       "            return;\n",
       "        }\n",
       "\n",
       "        if (callback) {\n",
       "            try {\n",
       "                // console.log(\"Handling '\" + msg_type + \"' message: \", msg);\n",
       "                callback(fig, msg);\n",
       "            } catch (e) {\n",
       "                console.log(\"Exception inside the 'handler_\" + msg_type + \"' callback:\", e, e.stack, msg);\n",
       "            }\n",
       "        }\n",
       "    };\n",
       "}\n",
       "\n",
       "// from http://stackoverflow.com/questions/1114465/getting-mouse-location-in-canvas\n",
       "mpl.findpos = function(e) {\n",
       "    //this section is from http://www.quirksmode.org/js/events_properties.html\n",
       "    var targ;\n",
       "    if (!e)\n",
       "        e = window.event;\n",
       "    if (e.target)\n",
       "        targ = e.target;\n",
       "    else if (e.srcElement)\n",
       "        targ = e.srcElement;\n",
       "    if (targ.nodeType == 3) // defeat Safari bug\n",
       "        targ = targ.parentNode;\n",
       "\n",
       "    // jQuery normalizes the pageX and pageY\n",
       "    // pageX,Y are the mouse positions relative to the document\n",
       "    // offset() returns the position of the element relative to the document\n",
       "    var x = e.pageX - $(targ).offset().left;\n",
       "    var y = e.pageY - $(targ).offset().top;\n",
       "\n",
       "    return {\"x\": x, \"y\": y};\n",
       "};\n",
       "\n",
       "/*\n",
       " * return a copy of an object with only non-object keys\n",
       " * we need this to avoid circular references\n",
       " * http://stackoverflow.com/a/24161582/3208463\n",
       " */\n",
       "function simpleKeys (original) {\n",
       "  return Object.keys(original).reduce(function (obj, key) {\n",
       "    if (typeof original[key] !== 'object')\n",
       "        obj[key] = original[key]\n",
       "    return obj;\n",
       "  }, {});\n",
       "}\n",
       "\n",
       "mpl.figure.prototype.mouse_event = function(event, name) {\n",
       "    var canvas_pos = mpl.findpos(event)\n",
       "\n",
       "    if (name === 'button_press')\n",
       "    {\n",
       "        this.canvas.focus();\n",
       "        this.canvas_div.focus();\n",
       "    }\n",
       "\n",
       "    var x = canvas_pos.x * mpl.ratio;\n",
       "    var y = canvas_pos.y * mpl.ratio;\n",
       "\n",
       "    this.send_message(name, {x: x, y: y, button: event.button,\n",
       "                             step: event.step,\n",
       "                             guiEvent: simpleKeys(event)});\n",
       "\n",
       "    /* This prevents the web browser from automatically changing to\n",
       "     * the text insertion cursor when the button is pressed.  We want\n",
       "     * to control all of the cursor setting manually through the\n",
       "     * 'cursor' event from matplotlib */\n",
       "    event.preventDefault();\n",
       "    return false;\n",
       "}\n",
       "\n",
       "mpl.figure.prototype._key_event_extra = function(event, name) {\n",
       "    // Handle any extra behaviour associated with a key event\n",
       "}\n",
       "\n",
       "mpl.figure.prototype.key_event = function(event, name) {\n",
       "\n",
       "    // Prevent repeat events\n",
       "    if (name == 'key_press')\n",
       "    {\n",
       "        if (event.which === this._key)\n",
       "            return;\n",
       "        else\n",
       "            this._key = event.which;\n",
       "    }\n",
       "    if (name == 'key_release')\n",
       "        this._key = null;\n",
       "\n",
       "    var value = '';\n",
       "    if (event.ctrlKey && event.which != 17)\n",
       "        value += \"ctrl+\";\n",
       "    if (event.altKey && event.which != 18)\n",
       "        value += \"alt+\";\n",
       "    if (event.shiftKey && event.which != 16)\n",
       "        value += \"shift+\";\n",
       "\n",
       "    value += 'k';\n",
       "    value += event.which.toString();\n",
       "\n",
       "    this._key_event_extra(event, name);\n",
       "\n",
       "    this.send_message(name, {key: value,\n",
       "                             guiEvent: simpleKeys(event)});\n",
       "    return false;\n",
       "}\n",
       "\n",
       "mpl.figure.prototype.toolbar_button_onclick = function(name) {\n",
       "    if (name == 'download') {\n",
       "        this.handle_save(this, null);\n",
       "    } else {\n",
       "        this.send_message(\"toolbar_button\", {name: name});\n",
       "    }\n",
       "};\n",
       "\n",
       "mpl.figure.prototype.toolbar_button_onmouseover = function(tooltip) {\n",
       "    this.message.textContent = tooltip;\n",
       "};\n",
       "mpl.toolbar_items = [[\"Home\", \"Reset original view\", \"fa fa-home icon-home\", \"home\"], [\"Back\", \"Back to previous view\", \"fa fa-arrow-left icon-arrow-left\", \"back\"], [\"Forward\", \"Forward to next view\", \"fa fa-arrow-right icon-arrow-right\", \"forward\"], [\"\", \"\", \"\", \"\"], [\"Pan\", \"Pan axes with left mouse, zoom with right\", \"fa fa-arrows icon-move\", \"pan\"], [\"Zoom\", \"Zoom to rectangle\", \"fa fa-square-o icon-check-empty\", \"zoom\"], [\"\", \"\", \"\", \"\"], [\"Download\", \"Download plot\", \"fa fa-floppy-o icon-save\", \"download\"]];\n",
       "\n",
       "mpl.extensions = [\"eps\", \"jpeg\", \"pdf\", \"png\", \"ps\", \"raw\", \"svg\", \"tif\"];\n",
       "\n",
       "mpl.default_extension = \"png\";var comm_websocket_adapter = function(comm) {\n",
       "    // Create a \"websocket\"-like object which calls the given IPython comm\n",
       "    // object with the appropriate methods. Currently this is a non binary\n",
       "    // socket, so there is still some room for performance tuning.\n",
       "    var ws = {};\n",
       "\n",
       "    ws.close = function() {\n",
       "        comm.close()\n",
       "    };\n",
       "    ws.send = function(m) {\n",
       "        //console.log('sending', m);\n",
       "        comm.send(m);\n",
       "    };\n",
       "    // Register the callback with on_msg.\n",
       "    comm.on_msg(function(msg) {\n",
       "        //console.log('receiving', msg['content']['data'], msg);\n",
       "        // Pass the mpl event to the overridden (by mpl) onmessage function.\n",
       "        ws.onmessage(msg['content']['data'])\n",
       "    });\n",
       "    return ws;\n",
       "}\n",
       "\n",
       "mpl.mpl_figure_comm = function(comm, msg) {\n",
       "    // This is the function which gets called when the mpl process\n",
       "    // starts-up an IPython Comm through the \"matplotlib\" channel.\n",
       "\n",
       "    var id = msg.content.data.id;\n",
       "    // Get hold of the div created by the display call when the Comm\n",
       "    // socket was opened in Python.\n",
       "    var element = $(\"#\" + id);\n",
       "    var ws_proxy = comm_websocket_adapter(comm)\n",
       "\n",
       "    function ondownload(figure, format) {\n",
       "        window.open(figure.imageObj.src);\n",
       "    }\n",
       "\n",
       "    var fig = new mpl.figure(id, ws_proxy,\n",
       "                           ondownload,\n",
       "                           element.get(0));\n",
       "\n",
       "    // Call onopen now - mpl needs it, as it is assuming we've passed it a real\n",
       "    // web socket which is closed, not our websocket->open comm proxy.\n",
       "    ws_proxy.onopen();\n",
       "\n",
       "    fig.parent_element = element.get(0);\n",
       "    fig.cell_info = mpl.find_output_cell(\"<div id='\" + id + \"'></div>\");\n",
       "    if (!fig.cell_info) {\n",
       "        console.error(\"Failed to find cell for figure\", id, fig);\n",
       "        return;\n",
       "    }\n",
       "\n",
       "    var output_index = fig.cell_info[2]\n",
       "    var cell = fig.cell_info[0];\n",
       "\n",
       "};\n",
       "\n",
       "mpl.figure.prototype.handle_close = function(fig, msg) {\n",
       "    var width = fig.canvas.width/mpl.ratio\n",
       "    fig.root.unbind('remove')\n",
       "\n",
       "    // Update the output cell to use the data from the current canvas.\n",
       "    fig.push_to_output();\n",
       "    var dataURL = fig.canvas.toDataURL();\n",
       "    // Re-enable the keyboard manager in IPython - without this line, in FF,\n",
       "    // the notebook keyboard shortcuts fail.\n",
       "    IPython.keyboard_manager.enable()\n",
       "    $(fig.parent_element).html('<img src=\"' + dataURL + '\" width=\"' + width + '\">');\n",
       "    fig.close_ws(fig, msg);\n",
       "}\n",
       "\n",
       "mpl.figure.prototype.close_ws = function(fig, msg){\n",
       "    fig.send_message('closing', msg);\n",
       "    // fig.ws.close()\n",
       "}\n",
       "\n",
       "mpl.figure.prototype.push_to_output = function(remove_interactive) {\n",
       "    // Turn the data on the canvas into data in the output cell.\n",
       "    var width = this.canvas.width/mpl.ratio\n",
       "    var dataURL = this.canvas.toDataURL();\n",
       "    this.cell_info[1]['text/html'] = '<img src=\"' + dataURL + '\" width=\"' + width + '\">';\n",
       "}\n",
       "\n",
       "mpl.figure.prototype.updated_canvas_event = function() {\n",
       "    // Tell IPython that the notebook contents must change.\n",
       "    IPython.notebook.set_dirty(true);\n",
       "    this.send_message(\"ack\", {});\n",
       "    var fig = this;\n",
       "    // Wait a second, then push the new image to the DOM so\n",
       "    // that it is saved nicely (might be nice to debounce this).\n",
       "    setTimeout(function () { fig.push_to_output() }, 1000);\n",
       "}\n",
       "\n",
       "mpl.figure.prototype._init_toolbar = function() {\n",
       "    var fig = this;\n",
       "\n",
       "    var nav_element = $('<div/>')\n",
       "    nav_element.attr('style', 'width: 100%');\n",
       "    this.root.append(nav_element);\n",
       "\n",
       "    // Define a callback function for later on.\n",
       "    function toolbar_event(event) {\n",
       "        return fig.toolbar_button_onclick(event['data']);\n",
       "    }\n",
       "    function toolbar_mouse_event(event) {\n",
       "        return fig.toolbar_button_onmouseover(event['data']);\n",
       "    }\n",
       "\n",
       "    for(var toolbar_ind in mpl.toolbar_items){\n",
       "        var name = mpl.toolbar_items[toolbar_ind][0];\n",
       "        var tooltip = mpl.toolbar_items[toolbar_ind][1];\n",
       "        var image = mpl.toolbar_items[toolbar_ind][2];\n",
       "        var method_name = mpl.toolbar_items[toolbar_ind][3];\n",
       "\n",
       "        if (!name) { continue; };\n",
       "\n",
       "        var button = $('<button class=\"btn btn-default\" href=\"#\" title=\"' + name + '\"><i class=\"fa ' + image + ' fa-lg\"></i></button>');\n",
       "        button.click(method_name, toolbar_event);\n",
       "        button.mouseover(tooltip, toolbar_mouse_event);\n",
       "        nav_element.append(button);\n",
       "    }\n",
       "\n",
       "    // Add the status bar.\n",
       "    var status_bar = $('<span class=\"mpl-message\" style=\"text-align:right; float: right;\"/>');\n",
       "    nav_element.append(status_bar);\n",
       "    this.message = status_bar[0];\n",
       "\n",
       "    // Add the close button to the window.\n",
       "    var buttongrp = $('<div class=\"btn-group inline pull-right\"></div>');\n",
       "    var button = $('<button class=\"btn btn-mini btn-primary\" href=\"#\" title=\"Stop Interaction\"><i class=\"fa fa-power-off icon-remove icon-large\"></i></button>');\n",
       "    button.click(function (evt) { fig.handle_close(fig, {}); } );\n",
       "    button.mouseover('Stop Interaction', toolbar_mouse_event);\n",
       "    buttongrp.append(button);\n",
       "    var titlebar = this.root.find($('.ui-dialog-titlebar'));\n",
       "    titlebar.prepend(buttongrp);\n",
       "}\n",
       "\n",
       "mpl.figure.prototype._root_extra_style = function(el){\n",
       "    var fig = this\n",
       "    el.on(\"remove\", function(){\n",
       "\tfig.close_ws(fig, {});\n",
       "    });\n",
       "}\n",
       "\n",
       "mpl.figure.prototype._canvas_extra_style = function(el){\n",
       "    // this is important to make the div 'focusable\n",
       "    el.attr('tabindex', 0)\n",
       "    // reach out to IPython and tell the keyboard manager to turn it's self\n",
       "    // off when our div gets focus\n",
       "\n",
       "    // location in version 3\n",
       "    if (IPython.notebook.keyboard_manager) {\n",
       "        IPython.notebook.keyboard_manager.register_events(el);\n",
       "    }\n",
       "    else {\n",
       "        // location in version 2\n",
       "        IPython.keyboard_manager.register_events(el);\n",
       "    }\n",
       "\n",
       "}\n",
       "\n",
       "mpl.figure.prototype._key_event_extra = function(event, name) {\n",
       "    var manager = IPython.notebook.keyboard_manager;\n",
       "    if (!manager)\n",
       "        manager = IPython.keyboard_manager;\n",
       "\n",
       "    // Check for shift+enter\n",
       "    if (event.shiftKey && event.which == 13) {\n",
       "        this.canvas_div.blur();\n",
       "        event.shiftKey = false;\n",
       "        // Send a \"J\" for go to next cell\n",
       "        event.which = 74;\n",
       "        event.keyCode = 74;\n",
       "        manager.command_mode();\n",
       "        manager.handle_keydown(event);\n",
       "    }\n",
       "}\n",
       "\n",
       "mpl.figure.prototype.handle_save = function(fig, msg) {\n",
       "    fig.ondownload(fig, null);\n",
       "}\n",
       "\n",
       "\n",
       "mpl.find_output_cell = function(html_output) {\n",
       "    // Return the cell and output element which can be found *uniquely* in the notebook.\n",
       "    // Note - this is a bit hacky, but it is done because the \"notebook_saving.Notebook\"\n",
       "    // IPython event is triggered only after the cells have been serialised, which for\n",
       "    // our purposes (turning an active figure into a static one), is too late.\n",
       "    var cells = IPython.notebook.get_cells();\n",
       "    var ncells = cells.length;\n",
       "    for (var i=0; i<ncells; i++) {\n",
       "        var cell = cells[i];\n",
       "        if (cell.cell_type === 'code'){\n",
       "            for (var j=0; j<cell.output_area.outputs.length; j++) {\n",
       "                var data = cell.output_area.outputs[j];\n",
       "                if (data.data) {\n",
       "                    // IPython >= 3 moved mimebundle to data attribute of output\n",
       "                    data = data.data;\n",
       "                }\n",
       "                if (data['text/html'] == html_output) {\n",
       "                    return [cell, data, j];\n",
       "                }\n",
       "            }\n",
       "        }\n",
       "    }\n",
       "}\n",
       "\n",
       "// Register the function which deals with the matplotlib target/channel.\n",
       "// The kernel may be null if the page has been refreshed.\n",
       "if (IPython.notebook.kernel != null) {\n",
       "    IPython.notebook.kernel.comm_manager.register_target('matplotlib', mpl.mpl_figure_comm);\n",
       "}\n"
      ],
      "text/plain": [
       "<IPython.core.display.Javascript object>"
      ]
     },
     "metadata": {},
     "output_type": "display_data"
    },
    {
     "data": {
      "text/html": [
       "<img src=\"data:image/png;base64,iVBORw0KGgoAAAANSUhEUgAAA+gAAAH0CAYAAACuKActAAAgAElEQVR4nOzdd5gT1f4G8IEFFlzYBQtFwCAqxS74w4Zg4SqK7doQvIhdbMD1iqEoEQSVJqIgKqJYKAqLqBGlyALSQTqLShfpReoWyOb9/XGYzWZ2kkw2UzJn38/zzIM7OZk5CSvn+045o4CIiIiIiIiIHKc43QEiIiIiIiIiYkAnIiIiIiIiSgoM6ERERERERERJgAGdiIiIiIiIKAkwoBMRERERERElAQZ0IiIiIiIioiTAgE5ERERERESUBBjQiYiIiIiIiJIAAzoRERERERFREmBAJyIiIiIiIkoCDOhERERERERESYABnYiIiIiIiCgJMKATERERERERJQEGdCIiIiIiIqIkwIBORERERERElAQY0ImIiIiIiIiSAAM6ERERJSQYDOLw4cMIBoNOd4WIiJIMx4j4MKBrFBQUYPv27Th06BAOHz7MhQsXLly4FC6HDh3C9u3bUVBQ4PRwlVQOHjwIRVGwbt06bN++nQsXLly4cClc1q1bB0VRcPDgQaeHK1dgQNfYvn07FEXhwoULFy5cIi7bt293erhKKkuWLHH874QLFy5cuCT3smTJEqeHK1dgQNc4dOgQFEUUX06fqeHChQsXLsm1qAdxDx065PRwlVS2bdtWWHw5faaGCxcuXLgk16IexN22bZvTw5UrMKBrHD58GIqi4PDhw053hYiIkgzHCH3bt28vPLhNRERUFMeI+DCga7D4IiKiSDhG6GPxRUREkXCMiA8D+inDhw9H48aN0aBBAxZfRESkiwFdH4svIiKKhGNEfBjQNVh8EVE8AoEAcnNzuUiyBAKBqH/fHCP0sfgiotKKdUDssZNjRHwY0DVYfBGREcFgEDt37kR2djYXyZadO3dGfFYrxwh9LL6IqLRhHWB87OQYER8GdA0WX0RkhDoo79+/Hzk5OY4fveaS+JKTk4P9+/cXFhp6OEboY/FFRKUN6wDjYyfHiPgwoGuw+CKiWAKBQOGgTPJRCw29S/Y4Ruhj8UVEpQnrgOKijZ0cI+LDgK7B4ouIYsnNzUV2djZycnKc7gpZICcnB9nZ2cjNzS32GscIfSy+iKg0YR1QXLSxk2NEfBjQNVh8EVEs6sCsNwiR+0X7++UYoY/FFxGVJqwDiov2nXCMiA8DugaLLyKKhQOz3BjQ48fii4hKE9YBxTGgm4cBXYPFFxHFwoFZ31VXXQWv1+t0NxLGgB4/Fl9EVJrIXAfs2rULrVq1wmmnnYaMjIyI67QY0M3DgK7B4ouIYjFzYA4UBLFg435MWfE3Fmzcj0CB/iNKzKAoStSlY8eOCW3/wIEDOHr0qDmddRADevxYfBFRaWJqHRAAsrKAcePEnzEeKZ6wjh076tYAt956KwDglVdewUUXXYQ///wTe/bsibhOiwHdPAzoGmYUX3YW3ERkP7MG5p/W7MTVb86Ex+svXK5+cyZ+WqP/mJJE7dq1q3B59913kZ6eHrbu0KFDuu87ceKEJf1JVgzo8WPxRVHZnUCSTDJ+fDv7lIyfP1GhSeJyceQIsH8/cOQIEOEx4BFlZgJ16gCKElrOPhuYNEm/fTCIhPYHiIDeunXrsPF/165dOHjwIADgvvvuwyOPPBL2Hr11Wgzo5mFA10i0+LK74CYi+5kR0H9asxP1ivw7oS71Ti1W/5vx2Wef6V6mtn79eiiKgszMTDRv3hwVKlTAuHHjsHv3bjzwwAM4++yzUalSJVx66aWYpKkgtJe416hRA4MGDUKHDh2QlpYGj8eDzz77zNLPZQYG9Pix+KKIMjMR1CSQYJ06IplIIFb41Atgeh/fzhBrtE9GmPX5zdhXPO0S/b5zc3OxbFk2Vq7MxdKlKFxWrQJO5dxCkUJ1ZiZQpkz4d6MuZcoAn38evp2DB8X2S7o/VceOHXH33XfrtvF4PGFn1du374i6dcPXRbrajgHdPAzoGokUX04X3ERkD71BKBgM4nj+SUPLkdwTaNZ/RrF/K4r+m3FV/5k4knvC0PaCJTiEHiugn3/++ZgyZQo2b96MXbt2YcuWLRg6dChWrFiBjRs3YsiQIUhJScGKFSsK36sX0M8880x8/PHH2LBhA/r06YNy5cph8+bNcffXTgzo8WPxRboyMxFUyqBAkz4KlDIIKmXCUppZocrOEBcrfEYKYGXKiKVoO7tCvNE+Gd2WGZ/fjH3F086M7/u773Lx00/ZWLo0FNCXLAHmzhXL9u3AsWPiz4ULQ+vnzhU/b90K1K6tH87VpXp10U7dTtFtFF2WLAmFdCMhvl27jrjxxrt12+zduxetW7fGPfc8iF9+2YWsrEOYPn0vrrmmNW655UGsXx/5ajsGdPMwoGuUtPgKFASLnTnXFtxXvzmTl7sTSUBvEDqefzLi//9WL8fzT8b9GWIF9A8//DDmNm666Sb06tWr8Ge9gP7kk08W/lxQUICMjIykP4vOgB4/Fl9ySijEBgI4fkadYuG8aEg/fkZdIBAwLVTZGeJihc9vvin+fm27unWBiRPtC/GBgLE+qe+Jti2zPr8Z+4rngIAZB00CAeCqq4oH9Llzowduq5a5c0XAPnAgPJhrl4MHxdKmTUekpKSgUqW0sOWZZ/ri4EHg9tvvRps2HcPe27JlaJ32jL2KAd08DOgaJS2+Fmzcb6iQXrBxv0U9JyK7lIaAvmzZsrD1J0+eRJ8+fXDxxRejWrVqSEtLQ7ly5dChQ4fCNnoB/b333gvbToMGDTBgwIC4+2snBvT4sfiyh51nmRMNsYGZWYbSxezXs0wJVXaGuFjhU1GAtDRj4apaNftCfJaxvxJkZcUOqLE+/2mn2bev6tWB+fOBGjWif5d16phz0OSRRwCPJ7kC+tKlwG+/RQ/oK1aIpU2bjmjWrBUmT94QtsyceQDLlwM33BA9oK9apX/vOwO6eRSnO5BsSlp8TVnxt6FCesqKvy3qORHZJdFL3LN+32Po34us3/c4don7+vXrw9b36dMH1atXx7hx47By5Ups2LABrVq1Qtu2bQvb6AX0kSNHhm2nYcOGeOutt+Lur50Y0OPH4itxZtzLa2abREPshy3HGUoXD5cdF7XJ6aeLJVqbs84SS7TgVbu2OPMXK6DFCnGKAlSpYm8Aixb2jYbKxx4DmjQxtr+77oq+La/XvM/WuHHkz1WmDNCunb3fdazvW130AnrRS9xjLcOGGevLsGGxt7VkSfRgrl3atOmIli3vjvh60TAead2RI8X/DWNAN4/idAeSDc+gE1EsiU4Sp94SozdnhV23xMQb0Fu1aoXnnnuu8OeTJ0/C4/EwoBMAFl+JMuNeXrPaGLkM2kiIbalkGUogLZUs2wOYjEv58s73wcnF6BULZi16AT2eZdEiceY/2j5q1BDtduyIf/tWB/T9OnGGAd08itMdSDaJ3oPuZMFNRPYwcxZ37b8ZyTKLuzagd+rUCfXr18eiRYuwbt06PPLII0hPT2dAJwAsvmKx+l5eI5fu1qkTe1KqatWAZ581J8CUVQL4S6mDAkV/muoCpQy2KXVRVgk4Hu6sWs46K/os3dHO+luxPPWUCIWR+qQoQMWK9n3+qlXN29fQofZ+l5ddFj2gr1gROygPGBD972LAAHE5eUFB8YnfSrK/ogH9mmta46efdoUtM2bs4xn0JKE43YFkY8Ys7k4V3ERkD7c+B72oeAP63r170aZNG6SlpaFmzZro27cv2rZty4BOAEp38ZXIpelGzlZHu0c52ZdHKmeemrE9/IUCpQwKlDJ4ND3T1v68/bZ524oVPotedq5tpz34YleIHzcudEAoUp+6djW2rdNPN/75U5QAWipZeEgZh5ZKFlKUgOn7ys+P/V2qB7LM+L4HD44e0A8ciB2qV60Cxowpfia9Rg0RzpcuDZ+dPdq2jO5v1SoR0Is+Nk1dPJ6GWLUKuPFG3oPuNMXpDiQbPgediGIxK6AD4uqbBRv3Y8qKv7Fg435eZZMEGNDjV1qLr0QvTe/Tx7zwZdZy4YXmbatPH+BeJRMnlHJhL/yl1MG9SqahgGokVBlpY2aIMxK+i/4OnFM7PKB66gSK/Y7YEeKzsiL/3tatK9YbnUiuTx9jn39ht0zsSAnf2Y6UOljYLdP0fcX6Love5pHI9123LnDsWOznoMcK1Wq7ffuATz4B+vUDPvxQXNau93zzWI9QM7I/s9roYUA3j+J0B5KNGcVXoCCIXpNXw+P1o/3HC1lwE0nGzIBOyYcBPX6lsfgyY6bvaJe3OrXMnGleiA0EgMyJBchVUgFFwQklBVAUPHBWlqmhymgbM/enbitS0C36ixLUNApqZuWLtR2zQqX2kWt6V36oV3UY+ruN9flPdVx7BUXwVMcDEzPN25fB79KM7zszMzRO5OTk4sgRcU/2kSPFzywbeS45IN4XbTtG2xnZn1lttBjQzcOArmFW8fXN0r/g8frxyOjFJvWMiJIFA7rcGNDjV9qKLyOPfqpUybzQHOtyajPPMqthyKwQi7//FqGsbAq2N70LUBQUvBX+qEUzQpXRNmZvK+otDkaf/RZrOwb6Y/jvw4B4thWx3wYfup75TSDxfWmY8ajBWN93PHWA0fBtFiP7M6tNUQzo5mFA1zCr+Jq+bjc8Xj/uGj7PpJ4RUbJgQJcbA3r8ZCy+ohXwRi/NNbJUq2bO5dSmhmqYGGJnzxYvnHceMGiQ+O+7747r+za7jdnbirgDIw/djmOjiYbKeCS8rTgeum5mv80U7ftmHVAcA7p5GNA1zCq+lm45AI/XjxYDZ5nUMyJKFhyY5caAHj/Ziq9o95bv2QM8/LB5AT2e+2vtPMsMmBRiR48WO7nlFmDePPHf1atbfxrRaXEEVDMldFDBzG2NG2fs848bZ3q/7cA6oDgGdPMwoGuYVXxt2HMEHq8fl74+zaSeEVGy4MAsNwb0+MlUfEW6KlldypY1Hr6NzPQdz/21dp9lNkWPHuIDPfcckJsbemD3pk0W7jQJxBlQpePQAQq7sA4ojgHdPAzoGmYVX/uO5olHrHX3c5I4IslwYJYbA3r8ZCm+jNxbrijAlVeKZzibNdO3um83nUE07MEHxYceMkT8fNVV4uevvnK2X1aTPKDGFM9scy4UmiQux+muJI2cnBwGdJMwoGuYVXydCBQUPmbt4LF8k3pHRMmAAV1uDOjxk6X4iidTmTrTt8yaNBEf+rvvxM/qw6+ff97ZfllN8oBqSByT5LlNIBBAdnY29u/f73RXksb+/fuRnZ2NgM7vtCxjhF0Y0DXMLL4u7v0zPF4/Nu09akLPiChZMKDLjQE9frIUX/FelWzmpelSCgaBjAzxxaxdK9Z9/bX4uUkTZ/tmh8zMyOHc5QHVsMxMoGJFKY9Q7dy5szCk5+TkIDc3t1QuOTk5heF8586dut+VLGOEXRjQNcwsvq57+xd4vH78ti3KQwOJyHUY0OXGgB4/WYqvklyVXGrDtxH794e+NPVS4L/+Ej+npADHjjnbPzvUr1/8F0jzHHTpnXNO6LNffLE0/5MEg8HCkM5FhPNghMkfZRkj7MKArmFm8dXmvbnweP34Zf1uE3pGRMmitAf0hx9+GPfdd1/hz9dddx3+97//RX1P7dq18f777ye8b7O2Ew0DevxkKb54VbLJFi0SX1zt2uHra9eW+/5r1erV4nOWKwdMmSImLigNn7uoo0fD/yfyeJzukekCgYDjZ7GdXvQuay9KljHCLgzoGmYWX//5ZBE8Xj8yf+MvI5FMTA3oBQFg81xg9UTxZ4F1lf8dd9yBm2++Wfe1BQsWQFEU/PbbbzG3ow3oBw4cwJEjR6K+J95gPWrUKJxxxhnF1u/duxfHjx83vJ2SYECPn0zFVzzPCqcYxo4VX16LFuHrH3hArH/zTWf6ZZeXXhKf8957xc/33it+HjjQ2X7ZaelS8ZnV2fvLleMRrlJIpjHCDgzoGmYWX8+P/Q0erx+f/LrZhJ4RUbIwLaCv+w4Y0gjwpYeWIY3Eegt8++23KFOmDLZu3VrstSeffBKXX365oe1oA7oRZgV0OzCgx0+24qvUT+xmlj59xJf3+OPh6995R6y/805n+mWHEyfE894VBfj+e7FuwADxc5z/frra55+Lz3z99aFnFEa4T5nkVZIxYsSIEahXrx5SU1PRpEkTzJ07N2Lbjz/+GM2bN0fVqlVRtWpV3HzzzVi8eHFYm2AwCJ/Ph1q1aqFixYpo2bIl1qpzYyQZBnQNM4uvV79dA4/XjyHTfjehZ0SULEwJ6Ou+A3wZ4eHcl35qXYYlIf3kyZOoUaMGXn/99bD1x48fR5UqVfD+++/jxIkTeOyxx+DxeFCxYkU0aNAA7733Xlj7WJe479q1C23atEHFihVx7rnnYvz48cUC+sCBA3HRRRehUqVKqFOnDp5//nkcO3U/6owZM6AoStjyxhtvACge9Lds2YI777wTp512GtLT09G2bVvs3bu38PVevXqhadOmGDNmDM455xxkZGSgffv2OHo08uSdDOjxky2gA+IkX9OmIk/07MmTfiXyyCPiC+zfP3z9woVi/ZlnionkZPT99+IzVq8uwjoAzJ4duge9tPB6Q7P2q0e9NMGJ5BfvGDFhwgSUL18eo0aNQnZ2Nrp06YK0tDRs27ZNt3379u0xYsQIrFixAuvXr8djjz2GjIwM/P3334Vt3n77bVSpUgWZmZlYs2YN2rZti1q1asW8AtAJDOinDB8+HI0bN0aDBg1MK74GT/sdHq8fr01ZY0IPiShZ6Aa4YBDIP2ZsyT0MDG6oE86LhPQhjUQ7I9uLo8Dt1q0b6tWrFzaRy5gxY5CamoqDBw8iNzcXPp8PS5cuxebNm/HFF1+gUqVKyCxy6jBWQP/Xv/6Fyy67DIsWLcKSJUtw9dVXo2LFimHB+p133kFWVha2bNmCmTNn4oILLsCLL74IAMjPz8eQIUNw+umnY9euXdi1a1dheC8a0AsKCnDJJZegZcuW+O2337Bw4UJcfvnlYZfx9+rVC5UrV8YDDzyANWvWYPbs2ahevTp69+4d39/vKQzo+mQM6ADQsqXIE19/7XRPXOraa/W/wLw8oEIF8dqGDc70zWrq5ewvvRRad+xY6CxykeAgtTvvFJ93xAjg6qvFf0+a5HSvyGbxjhHNmjVDp06dwtY1atQI3bt3N/T+QCCAKlWq4PPPPwcgzp7XrFkTb7/9dmGbvLw8ZGRk4MMPPzT4KezDgK5hZvH1ya+b4fH68cK45Sb0jIiShW6Ayz8WJXBbvOQbnwl5/fr1UBQFs2bNKlzXokULtGvXLuJ7nn76abRt27bw52gBfd26dVAUBcuWLSt8fc2aNVAUJeol7uPGjUONGjUKf450iXvRgD516lSUK1cu7Aj5qlWroCgKli8X/+6qAf1Ykdmi//vf/+K6666L2BcG9PjJGtCvuUbkiW+/dbonLlWjhvgCi/x7UEj9cr/4wv5+WW3fvtA916tWhb922WVifWm5X0KdxT4rKzT3wLvvOt0rslk8Y0R+fj5SUlIwefLksPWdO3dGC+18FhEcOXIEFStWxA8//AAA2LRpU1htoLrrrrvwyCOPGPwU9mFA1zCz+Jq0bDs8Xj/+88kiE3pGRMnCzQEdAK699lr85z//AQBs3LgRZcqUwYwZMwpfHzFiBJo2bYozzzwTaWlpKF++PK655prC16MF9EmTJqFChQrFHrWiXkKvmjFjBm666SacffbZSEtLQ8WKFaEoCvLy8gAYC+hDhgzB+eefX6xN5cqVMXbsWAAioF966aVhrw8cOBAXXHBBxO+HAT1+sgb0Jk1Enpg61emeuFDR2bv/+af46+oEapqzZFJ4773Iz3p/5hnxWrdu9vfLbsePh2Zb3LMn9Hce46kfJB91jMjOzsbhw4cLF3XML2rHjh1QFAXz588PW9+/f380aNDA0P6ee+45nHfeeYXj+Pz586EoCnbs2BHW7qmnnsItt9xSwk9lHQZ0DTOLr1/W74bH68cd7/1qQs+IKFkkfIn7n9ONBe8/p5t+iTsAjB49GpUqVcLhw4fRq1evsEvex44di0qVKmHkyJFYvnw5NmzYgCeeeAJNmzYtfH+0gD5x4kSkpqYWC+iVK1cuDNabN29GamoqXnrpJSxatAh//PEHPv74YyiKUnhvuJGAPnjwYN2gXblyZYwbNw5A6B70ogYNGoTzzjsv4vfDgB4/WQP6xReLPDFzptM9caGVK8WXF2myx0mTxOuXXWZvv+ygHtnRzN8BAPj0U/2Z7WW0fHnodyAYDE0O+OCDTveMbKaOEdrF5/MVa6sG9AULFoSt79evHxo2bBhzXwMGDEC1atWwqsjVK2pA36mZoPDJJ5/ErbfeWrIPZSEGdA0zi69lWw/C4/Wj+YBfTOgZESWLhCeJKwicmr1db5I49R70xpY9cu3o0aOoXLkyRo4ciTp16qBPnz6Fr3Xq1KnY0eSWLVsaDujqJe5FH9e2du3asEvcJ0yYgNTU1LB9+Hy+sID++eefo2rVqsX6rneJe9Ej4uol7itWrADAgG4XWQN6gwYiT0SZPJgiycwUX16zZvqv79ghXi9bFkjCSZpKbNWq0GPF9u0r/np2tnj9tNOAkyft75+dvvoqNIM7AEycKH6+9lpn+0W2i+cMeiKXuA8aNAgZGRlYunRp2Hpe4u5yZhZfm/Yehcfrx8W9fzahZ0SULMydxV0b0q2bxb2oJ554AtWqVUPZsmXDZkUdPHgwMjIyMH36dPzxxx/o0aMH0tPTDQd0AGjVqhWuuOIKLF68GEuXLsW1114bNkncsmXLCgP7pk2bMGbMGNSqVSssoM+ZMwdlypRBVlYW9u3bh5ycHAD6k8TdcMMNWL58ORYuXIgrrrii2CRxDOjWkzWgezycdLrE1EeKtW8fuc0554g2v0h0IkP77HOtggIgI0O0OXUgUVo9e4rP+cwz4udFi0LPLKRSpSSTxD377LNh6xo3bhx1kriBAwciPT0dCxcuLPaaOkncgAEDCtfl5+dzkji3MLP4OnAsHx6vHx6vHycCBSb0joiSgbXPQW9seTgHgAULFkBRlGJny3Nzc9GhQwdkZGSgWrVqeP7559GtW7e4AvrOnTtx2223ITU1FR6PB2PHji32eLRBgwahZs2aqFSpEm677TaMGTMmLKAHg0E89dRTOOOMM2I+Zu2OO+6I+Zi1ohjQzSdrQK9Vq3TkKEs8/bT48l57LXKbtm1Fm3797OuXlfSefa7nX/8SbUaOtK9vTrjnHvE5hw0TP//9t/g5JYXPLSxlSvqYtdGjRyM7Oxtdu3ZFWloatm7dCgDo0KFDWFgfMGAAKlSogEmTJhU+/WXXrl1hj1R9++23kZGRgcmTJ2PNmjVo164dH7PmFmYWXycDBYUBfd/R4pdwEJE7mRbQAXEZ++a5wOqJ4k+LLmsn4xjQ4ydrQD/jDJEn1q1zuicudPPN4ss79ZgjXe++K9q0aWNfv6yk9+xzPa++Kto9+qh9fXOCeo+IOglpIACUK1e6HjNHAEo2RowYMQIejwcVKlRAkyZNMGfOnMLXWrZsiY4dOxb+7PF4Yt7jHgwG4fP5ULNmTaSmpqJFixZYsyY5H4XNgK5hdvF1ie9neLx+bNhzNHZjInIFUwM6JR0G9PjJGtArVxZZYuNGp3viQur9AfPmRW6zZIloc/rpcU92mZT0nn2u54cfRLvGje3pl55AQDz6bNw48afZZ7Tz8kLPfC86c7Z6W4POZcgkL1nHCKswoGuYXXxdP2AWPF4/lm45YMr2iMh5DOhyY0CPn6zFV4UKIkv89ZfTPXGZouFs9+7I7fLzgYoVRbvff7evf1aI9uxzrb17oz+CzmqZmUCdOqE+KIr42cxns69eLbabkRF+8OXaa8X6b74xb19OsvpAhyRkHSOswoCuYXbxddf7v8Lj9WPGuigDFBG5CgO63BjQ4ydj8RUMhrJLtIxJOn7/XXxxaWmxz4w3by7afvaZLV0znRrQOnYUn+OKK4y9r3590X76dCt7V1xmZujZ5EWXMmXEYlZInzBBbPeaa8LXq/MOvPOOOftxkh0HOiQh4xhhJQZ0DbOLrw6jF8Pj9WPiMv5CEsmCAV1uDOjxk7H4OnEiVHMfPOh0b1zmxx/FF3fppbHbdusm2j79tPX9MpteQKta1VhAa99etO/b1/p+qgKB4v3VhvS6dc05C9y7t9jmE0+Er3/5ZbH+v/9NfB9OsutAhyRkHCOsxICuYXbx1Xn8cni8foyau8mU7RGR8xjQ5caAHj8Zi6+jR0M19/HjTvfGZYYNi/6osaImTxZtL7nE+n6ZKdGApn5Hdk6Ql5UVOZwXXbKyEt/X/ffrnylXJwZ84IHE9+EUOw90SELGMcJKDOgaZhdfvaesgcfrx6CfXX5vFREVUgOc+mxukktOTg4DepxkLL4OHAjV2ydPOt0bl+ncWXxx3brFbrtrVyjUuOX/KzMC2uLFou0ZZ9g3Qd64ccYC+rhxie/rwgvFtn7+OXx9ZqZYf/XVie/DKXYe6NBy6T3vMo4RVmJA1zC7+Hpn+h/weP3oOXm1KdsjIucFAgFkZ2dj//79TneFLLB//35kZ2cjoFP4MKDrk7H4KpobZZhg3FZt2ogv76OPjLU/99zwx3ElOzMCWl5eaBZCux4TYFewPHEi9Dg17QyL6sz9tWsntg8n2XmgoygX3/Mu4xhhJQZ0DbOLr0/nbYbH68dzY38zZXtElBx27txZGNJzcnKQm5vLxeVLTk5OYTjfuXOn7t87A7o+GYuvrVtF/VuxotM9caGGDcWXN3Omsfbq/dh9+ljbL7OYFdCuukq0GzvWnn6rZ/71Ls0389Ls7GyxvcqVix/d2rlTvFa2rHsvTXHiDLrL73mXcYywEgO6htnF17fL/4bH60f7UXzeI5FMgsFgYUjnIteyc+dOBCOcMmVA1ydj8fXnn6L+TU93uicuEwiEzgxv3WrsPe+/L9q3bm1t38xiVkDr0kW0e/FFO3ot2HKoqhsAACAASURBVBH0Jk0S22zWrPhrBQWhx9G59fmFdh3o0O4v0u+ZC+55l3GMsBIDuobZxdes3/fA4/Xj9mFzTdkeESWXQCDg+JlfLuYtepe1F8WArk/G4mvtWlH7nnmm0z1xGfXSg/LljQeGZcvEe6pWFQEu2ZkV0NQz8XpB1krPP1+8z3XrmncWtm9fsc1HH9V/vV498fr8+ebszwmRDnSof/9mntF28p53k8g4RliJAV3D7OJr+baD8Hj9uPatX0zZHhEROYcBXZ+Mxdfy5aLmPftsp3viMr/8Ir64Bg2Mv+fECXEvgaIAgwa5Y/IrM85Eb94cOpiRa+NTQZ57LnRARFHEs9vN/L4fekhsd+BA/debNxevf/21eft0wtdf6wflL74wdz9O3fNuIhnHCCsxoGuYXXxt2XcMHq8fF772kynbIyIi5zCg65Ox+Fq4UNS8557rdE9c5qOPxBd3++3G35OZGbosXl3cMPnVxx8ndiY6GATOOku8b6GNt0I2ayb2+cor4s/TTzd3JsRLLxXb9fv1X2/XTrw+eLB5+3TCypXic5x2GvDVV4DHI37+4ANz98Mz6KUOA7qG2cXXP8fz4fH64fH6kX/SBZdtERFRRAzo+mQsvubMETVvw4ZO98Rl1NBn9L5qN09+pT4yrH79kj/26s47xTaGDrWki8Xk5wOpqWKfa9dGnm29pE6eDG1/82b9NurvSJcu5uzTKZ98Ij7HTTeJn9VnvF9+ubkHPAIBoFo13oNeijCga5hdfBUUBFGvuwjoe47YePkSERGZjgFdn4zF14wZova95BKne+Iy990nvrhhw2K3dfvkV2rQfOqpkm+jXz+xjYceMq9f0aj3blStKkLkJZeIn7/7zpztq7MrVqoUeT6B994Tbe67z5x9OuWZZ0JXIgDAgQOhgxNLl5q3n9WrQxPrufFAFuQcI6zEgK5hRfF1WZ9p8Hj9+HP3EdO2SURE9mNA1ydj8eX3i/r3yiud7onLXHZZ9Mubi3L7pbstW4r+ffJJybehHgmqV8+0bkWlXpbfqpX4+ZFHxM9mPeJuyhSxvSZNIrf59lvRxu7J8czWtKn4HN98E1qnPjLw6afN2cfRo0CjRqEz89oDWmZO7mchGccIKzGga1hRfN0wKAserx+LNx8wbZtERGQ/BnR9MhZfkyeL+vfaa53uiYsEg+LZ14oC/P577PZunvwqEADS0kT/1qwp+XYOHQpd4r9nj3n9i+Tpp8W+uncXP7/zjvj53/82Z/tvvim295//RG6jztpfq5Y5+3RCXl7orPaWLaH16kGnypVFuE5EMCi+R0UBatcG9u4Vv3dDhoTmDnDJs+RlHCOsxICuYUXxdffwefB4/Zi2dpdp2yQiIvsxoOuTsfiaMEHUwDfc4HRPXGT37tBlt3l5sdvHewY9EBD/XdL7vYtKdFurVoWCWKKX4F94odjW998nth0jmjQR+5o0Sfw8a5a5Z/DVQPnmm5HbFP09OXHCnP3abelS8RnOOCP8fvNgELjgAvHaqFGJ7WP0aLGdlBTg119D63NyQpfSGzkQlgRkHCOsxICuYUXx9eini+Hx+vH1EpMm4CAiIkcwoOuTsfj64gtR/95yi9M9cZH588WX5vEYax/reeLq0q2beKSV9vLeks70npmZ+LbUS8VvvDH+/Ws9/rjYVs+eiW8rmtzc0FnfbdvEuoMHQ9/BP/8kvg/1AMCUKZHbFBSEZu3fujXxfTrhgw9E/2+9tfhrAwcmfgn/6tWhRw++9Vbx12+4Qbw2cmTJ92EjGccIKzGga1hRfHWdsAIerx8fzdlo2jaJiMh+DOj6ZCy+Ro0S9e+ddzrdExf5/PPwWa2NUGdx14b0WKG9pBNkmTVr/BNPhF8qngj10XQ335z4tqJZskTs56yzws/6qo8Hmz07se0XFIjJ4RRFTBYXzbnninZFzwy7iXpQpVev4q/t2RM6ELJypbHtFb2iY+pU8fgIRQFat9afbK9PH/H6gw8m9DHsIuMYYSUGdA0riq/Xv18Lj9ePt39ab9o2iYjIfgzo+mQsvkaMEPWv2yeatlXv3uJLi3dWc70z2urkV19/HT2sxzPTu5mzxl98sXjPt9/G91n1qJfLV6li7Yz16lnf224LX3/33WJ9oo9627xZbCc1Nfa90S1aiLbjxye2T6eoz3qPdKXA/feL159/Pva29H7/1XvM9+7Vf8+vv+ofbElSMo4RVmJA17Ci+Hp3xp/weP3onrnatG0SEZH9GND1yVh8DR0q6t927ZzuiYs8/LD40gYMiP+9ke4JN3Omd7O2deRI6KDBzp3xf1atQAA47TSxvYEDE7+/PpLHHhP7eO218PWvvy7Wd+yY2PbVRx9cemnsturvysCBie3TCcePi/vCFQX4+2/9NtOni9czMkT7SCJd0aEuka7oyM8P/c4kMkmhTWQcI6zEgK5hRfE1Zv4WeLx+dPpymWnbJCIi+7kloI8YMQL16tVDamoqmjRpgrlz50ZtP3ToUDRo0AAVK1ZEnTp10LVrV+Tm5hren4zF19tvi9r30Ued7omLXHWV+NLUCcjMYOZM72ZtS51YrW5dcz5jZmZo0i91Ken99dFEeua5+mg0I8E6GvXeayPPdPd6RdvOnRPbpxPUuRZq1ox89rqgIHQZ/+ef67dJ9IqOf/1LtHvvPXM+l4VkHCOsxICuYUXxNWXF3/B4/Xjoo4WmbZOIiOznhoA+YcIElC9fHqNGjUJ2dja6dOmCtLQ0bFMnhdL46quvkJqairFjx2LLli2YNm0aatWqha5duxrep4zFV9++ovY163HGpcKZZ8Z3360RZp5B/+Ybc7b11lui3f33J/75zLonPpbjx4GyZcW2d+wIf23rVrG+XDljs+9H8uijYjt9+8ZuO3y4aGvW493sNGyY6HusCSr69RPtmjfXfz3R32319/CeexL5NLaQcYywEgO6hhXF1+w/9sLj9aP1u9HPYBARUXJzQ0Bv1qwZOnXqFLauUaNG6B5hMqvnn38eN2km9XrppZfQPFJRqUPG4uvVV0Xt+8ILTvfEJQ4dCgWKI0fM266Rmd4rVgyFzkiXyn//PVCtWvQgZPQe9HvuEe0HDTLnsyXaHyPUs756zx4PBkPfzfLlJd9Hs2bGr6D47jvR9sorS74/p6iPkuvTJ3q7HTtCl8KvW1f89USv6Fi0SLxerZr+RHJJRMYxwkoM6BpWFF+rtv8Dj9ePq9+cado2iYjIfske0PPz85GSkoLJkyeHre/cuTNatGih+57x48cjIyMDixcvBgBs2rQJjRo1wlt6j/Y5JS8vD4cPHy5csrOzpSu+XnlF1L4vveR0T1zit9/EF1ajhvnbjjTTe9GlenXxmDJt4K1dG7jjjtDP554bedZ4I2esg0ERchUFiHHrSExmXh0QS6yzvjfeKF4fPbpk2w8GxTPhFQXIzo7dXv19qVmzZPtzUqNGou8//hi7rToB3/33Fz9o9MYbif39nzwpJhZM9MCKDRjQ48OArmFF8bVt/3F4vH40evUn07ZJRET2S/aAvmPHDiiKgvnz54et79+/Pxo0aBDxfe+99x7Kly+PcuXKQVEUPPvss1H34/P5oChKsUWm4qtLF1H39ujhdE9c4uuvxRd27bXWbD/STO9Dh4ZmVI+1/Pe/4hLuRJ6D/tdfon1KSvTJv4ww8/76WDp0iH7W96WXxOsvvliy7avfS7lywIkTsdvv3Rs6MJKfb2wfka6OsNPhw6GDO3v2xG7fs2fxv8+zzxaP1Iv1927kCoo2bUTbwYPN+4wWYECPDwO6hhXF1+HcE/B4/fB4/cg94cA/JkREZAq3BPQFCxaEre/Xrx8aNmyo+56srCzUqFEDo0aNwurVqzF58mTUrVsXfaPcR1oazqA/+6yoe30+p3viEm++Kb6wDh2s20ekgHb0aOjsbaTlzDPDg04gAMycGToDOX26sT5MnCjaX3554p/HzjPojRtHP+v7xRfi9euvL9n2f/5ZvP/CC421DwZDE+Nt3hy7fSIHVcyk/p2dc07strFmaFcUcbtEIld0DB4s2rdpY8rHC2PiAREG9PgwoGtYUXwFg0HU7/EjPF4/dh82PisuEREll2QP6CW5xL158+Z4+eWXw9Z9+eWXqFSpEgoM3tcoY/H1xBOi7u3f3+meuIT6hcW6L9cKiQRdtd9GnlcNAN26ifbPPJN4v43cX3/22YmfKS76WLjdu/XbrF4tXq9SpWT3M7/zTuhSbqPOO0+8J9atAnZNpGfEoEFi3/feG71drPkFFEXclhEIRL46xMjnUm8VqFIl9rPn42HyAREZxwgrMaBrWFV8Nek7HR6vH+t3JWdRR0REsSV7QAfEJHHaS9QbN24ccZK4Jk2a4JVXXglbN27cOFSsWBEBg8FAxuJLnQcqya8cTR4tW4ov7Kuv7N93IpeKq8/url3bWDBt0UK0//RTc/oe6/76GjWALVsS28ecOaHQF8mJE6Ez2hs3xr8P9UBH797G33PDDeI9Y8dGbmPnRHpGtG0r9vvmm9HbxXvQqKRnqwMBoGpVsa1T84gYfl+k/VlwQETGMcJKDOgaVhVfNw7Ogsfrx8JN+03dLhER2ccNAV19zNro0aORnZ2Nrl27Ii0tDVu3bgUAdOjQISys+3w+VKlSBePHj8fmzZsxffp0nHfeeXjwwQcN71PG4uvBB0VN6oJHDCcHNUQtWmT/vhM5g56bG7rMPVbfT54ETjtNtNWblbuk9M5W1qolwrl65vKPP0oe4oYMEduJ9Uizpk1Fu5I8x/6aa8R7J0ww/h71vvi3347cxs7bAIxQz/rPmBG9nZ3zC6hPFYgysWeYaGfHLTogIuMYYSUGdA2riq97P5gPj9ePn9bsNHW7RERkHzcEdAAYMWIEPB4PKlSogCZNmmDOnDmFr7Vs2RIdO3Ys/PnkyZN4/fXXcd5556FixYqoW7cunnvuOfzzzz+G9ydj8aXWvB9+6HRPXCAnJ1TA79tn//5jXSoeK1SoZ0W93uj7WblStEtPN/+xVnrhe8eO0L3jGRmhwB7vJcft2on2se7XUM+C9+oVX9+DQdE/RRGXyhvVo4d4T7RnGdoZdGM5cCC0v4MHo7d1Yob+W26J3TbW2fHu3S3pt4xjhJUY0DWsKr4e/2wJPF4/xi/eZup2iYjIPm4J6HaTsfi6/XZRh5p1JbPU1q0Lhchg0Jk+RLpU3MhluRMmiLYXXBC9/x99JNrdfLP5/Y9k716gXr3IBx6MXHJ8wQWi/bRp0dsNHy7axTvh2I4d4n1ly4pZ8o364APxvrvvjtzGaNCdMiX0Hqtme58+XezrvPNit030oFE81PkDTjst+oz4Ru6LN7rEeUBExjHCSgzoGlYVX//9egU8Xj8+yCrBfT1ERJQUGND1yVh8qU9BinZ7LJ3y/ffiy2rSxNl+lHSyrSNHgAoVRPu1ayO3e/xx0aZnT3P7HU0gICaKK+klx//8E2p74ED0fc2bJ9qdfXZ8fZwxQ7wvyqMcdf3wQ+zfGyMT6alXEyxcaO1s7+qTCtq2NdY+kYNG8SgoAM46S2z7118jtzN6sINn0B3HgK5hVfHV94d18Hj9eHNqtqnbJSIi+zCg65Ox+Lr+elGHTpzodE9cQJ3B+4EHnO5Jyc+eqs+TjvJ4QVx0kWjz3Xdm9NSYRC+VnjlTvF6/fux9FZ3t3cgzvgHx/b7wgnjPddfFd0Z4xQrxvurVo7eLdVl2zZqhM/iJXGkQy7//LbYXz8yRiczQHo8HHoj9+2v0doHTTzf9zL+MY4SVGNA1rCq+3pv5JzxeP7yTVpm6XSIisg8Duj4Zi6+rrrI/i7nW88+LL6tHD6d7UnKjR4vPcMUV+q8fPhz7UWVWSPQe7LffFq8bnfRRvRzeyHPhEz1bvX9/6H2xLo3X+x7UoHv4sHi8W7Tvx4xLyuvWFduaPTu+91l1yX1R6u0CN94YuY3Rgz19+ph+5l/GMcJKDOgaVhVfXyzcCo/Xj6e/WGrqdomIyD4M6PpkLL4uv1zUpD//7HRPklwgAPzf/4kv6+WX7Xvcldn27g2dgdV7rNkvv4jXPB57+5XoGXQ1uA4caGx/6pnYAQOitzPjUVzBIFCpknhfrEe7qfd/n3mmuO9EG3RnzbLk0uxCu3eHPt+RIyXbhpV+/130LzVVPJlATzy3S5h85l/GMcJKDOinDB8+HI0bN0aDBg0sKb6+X7kDHq8fD364wNTtEhGRfRjQ9clYfF14oahJZ81yuicOinXmz8r7fZ2gPsv9nXeKv6befxzH4wdNkehkY+oEc0Z/kfv3F+3btYvdJzPOVqtn7GOdle7WTbR77DH91+O90iDes9p+v3h/48axP5MTgkHxaL5of9fBYOhgmpEDKyae+ZdxjLASA7qGVcXXr3/ug8frxy3vzIndmIiIkhIDuj4Zi6/zzxd167x5TvekCDsulVXFCt9mnEFNNurjqq6/vvhrd98tXhsyxP5+RZpsTF0ifdf79oXaHDpkbF9Tp8YOomY+Quymm0TbL7+M3u6KK0S7SLM2xtOnkhxYev110a5Dh9ifySnt24s+vvaa/usffyxeT0kp/sg+K+6LL0LGMcJKDOgaVhVfa/4+BI/Xj2b9Z5i6XSIisg8Duj4Zi69zzhF165IlTvfkFDvPVscK3998Y94Z1GSybVuo/0XvMw8GQxOROXXERu/vX1HE7PN//aX/np9/Fm3imV19507xnrJlgePH9duY+Wzyjh1F27feitxm797QNiPd/290tvfbbivZgaU77hDthg2L/ZmcMmqU6GPz5sVf++MP8Rg2RQEGDbL3YB/kHCOsxICuYVXxtf3gcXi8flzQayqCTj0jlIiIEsKArk/G4ks9wbQqGeZ2tfNstZFnJVesaN4Z1GRz5ZWi7x9/HFqnBvdy5YCcHOf6VjRUzZolZk1XlMiXo/frJ15v3z6+/ai//IsW6b9u5hn0Xr1E2+eei9xGfU79pZdG31asKw1iLZEOLBU9QDN/fuzP5JRNm0Qfy5cHjh0LrT9xIvR7fdNN4rFsNpNxjLASA7qGVcXX0byT8Hj98Hj9yMl32RFlIiICwIAeiYzFV7Vqop5dv97hjph5v68RZj4r2cgZ1GSj3oPdunVo3TffiHVOP+dd67ffQmFU78z+PfeI1/TuqY/m1lvF+z78UP/1QACoXduc38kPPxTvufPOyG2eeEK0+d//Ym8v2uRmgwaV7MDC9u1ifUpK5KsKkkEwGLr0Z9q00PqePcW6atXEZ3GAjGOElRjQNawqvoLBIM7v+SM8Xj92/OPg0VciIioxBnR9MhZfaWmipt20yeGOmHm20gijly/LegY9Ozt0FlK9b/t//xPrnn3W2b7pefJJ0bemTYufGVWD6ty58W3T6xXve+aZyG0eeihyOI/nqo4ffxTvi/R4u6Kh86efjG0z0uXbJb00/9tvjZ3BTwbqLQPt2onPoc6roCjiQJNDZBwjrMSArmFl8dX0jRnweP1Yt4OFHRGRGzGg65Ox+CpXTtS0f//tcEesnp1ay+hZxrPOKvnM4smuUSPxOdQJyZo3Fz+PGeNsv/Ts3g2kp4v+ffppaP2uXaG/i6NH49umekn5VVfpv/7XX6HHo51+uv7ZaqNWrRLvO/NM/df//FO8XqFC+GXbJVHSg13qZfiPP57Y/u3w4ov6nyna89FtIOMYYSUGdA0ri6+bh8yGx+vH/A37TN82ERFZjwFdn2zFV0FBqK7du9fhzhgNFZ06AV9/bWwiOb0Qn5MTubjXC98TJ+rf7+vmWdxVPXqIz3L//eL+XTWMOn6/QwSDB4v+1agBqP82qY8Fu/DC+LenPlO7UiX9gyxt24rXr78eOHkysQNCBw+Gfnf07u//4APx2g03xP85tIxMJKd3YOmWW8RrI0cm3gcrRZqrQv3/0sH/J2UbI6zGgK5hZfF1/8j58Hj9+HH1TtO3TURE1mNA1ydb8ZWXF6prjT6dyjJGJm2LFaiLFud69+hWrx5+T3Hr1sbCd7T7fd1s6VLxWdLSgAULxH9nZDgyuZYh+fmh54m/8opYpz4W7JFH4t9eIBCa8Ts7O/y1OXPE+rJlgRUrEu97MBi6n2TDhuKv33uveK1fv8T3BcSeSM7rLd4/9SqBpUvN6YMV7J6rIk6yjRFWY0DXsLL4emLMUni8foxdtM30bRMRkfUY0PXJVnwdORL9pJ7t1EnKIoXvTp1EYDJ61jtSu6pVQ/f5Gg3fNj+uyRbBoPisiiIu81YUcY93Mn829Yx5uXLimeLqc8Pffbdk27vmGvH+ovdjBwLAZZeFrtgwS8OGYpuzZoWvDwTE76SiAIsXm7c/vd9t9YBE+fLADz+E2m7eHFqfl2deH8xm91wVcZJtjLAaA7qGlcXXy9+shMfrx/BZOkcIiYgo6TGg65Ot+Nq3L1TPJkUmU+8J1oZwNTAbLc7Ll4/+eu3a4R9YxvBt1G23Ff9+rHruvBmCQeDyy4v3uXr1kvX52WfF+7t1C60bOTJ0IGefibdrtmoltvv55+HrFy8OXb1g9u+e9nc7Lw948EGxvwoVgKlTRZvevcW6Bg2S+/ffzGfTW0C2McJqDOgaVhZf/fzr4PH60f/H7NiNiYgo6TCg65Ot+NqxQ9SyKSlO9wQieDVpIjrk8yU2O3USn2FLKpmZ0a9YSMaQHun+45L2+aOPxPv/9S/x84EDoUu933/f3L4/+qjYbv/+4evV57j/+9/m7i+SEyeA++4LXYlw5pnuOUDDM+hSYUDXsLL4Gj5rAzxeP17+ZqXp2yYiIusxoOuTrfjaskXUspUqOd0TADNnhi7B3b9fv01pf3a5mZL8Xl5dVvR5yZLQ2euxY0PPVL/4YjExnJlee01sW3vZ/A03iPUffGDu/qI5cQJo1sx9B2hiTYDHe9BdhQFdw8ri66tFW+Hx+vHk50k8yQQREUXEgK5PtuJLncS6alWne4LQDNIvvhi5jZHi/KyzkvoMW9JI8jORuqzoc6SrMl5/3fz+f/yx2HabNqF1x46Fbsn480/z9xlJIBA+YWKSBd2oIk2AlwQHFmQbI6zGgK5hZfH14+qd8Hj9uH/kfNO3TURE1mNA1ydb8bV6tahrq1d3uCMrVoiOpKSI0/rRxCrOv/kmqc+wJY0kv5dXl9l9tvtxXVOnim1fdllo3U8/iXUej7jNwy5uPEBTVJI+WUG2McJqDOgaVhZf8zfsg8frR6shs03fNhERWY8BXZ9sxdeyZaKurVPH4Y60by860q6dsfaxivMkPsOWNNwY0MzssxOX+K9ZI7Z9+umhdS+9JNY98YR5+zHCjQdotJJwckfZxgirMaBrWFl8rdtxGB6vH03fmGH6tomIyHoM6PpkK77UR1/Xr+9gJ7ZsEWfOFQVYvtz4+2IV50l6hi1pJPm9vLrM7LMTBygOHQpt9/hxse7SS8XPEyaYtx8j3HiAxgVkGyOsxoCuYWXxteOfHHi8fpzf80cE7bxch4iITMGArk+24kut0Rs3drATnTuLTqizaJspCc+wJRU3XmlgVp+dOIMcDAKVK4vt/vEHsHt3aD9795q3HyPceIDGBWQbI6zGgK5hZfF1PP8kPF4/PF4/juWZPAMmERFZjgFdn2zF17RpxW+JtdX+/WLWdkUBZvCqO0e48UoDM/rs1Bnkxo3FdmfOFLPGK4p4rrsT3HiAJsnJNkZYjQFdw8riKxgM4oJeU+Hx+rH94HHTt09ERNZiQNcnW/H1ww+iHv+//3OoA337ig40aWLvBFkUzo1XGiTaZ6fOIKtPK/jsM+Cxx8R/d+tm7j7i4cYDNElMtjHCagzoGlYXX//XbwY8Xj/W/H3Iku0TEZF1GND1yVZ8TZok6vHmzW3cqRqsxowB0tOduf+WCHDmDPLjj4t99O0bCsbTppm/n3i48QBNkpJtjLAaA7qG1cXXLe/Mgcfrx69/7rNk+0REZB0GdH2yFV/qbbg33WTTDvXO1qWkiEejETnB7jPIPp/YR8uW4s/UVCAnx5p9ke1kGyOsxoCuYXXx9cCHC+Dx+vHDqh2WbJ+IiKzDgK5PtuJrzBiREVq3tmFndj9zmsgoO88gf/JJ+O++bUfHyA6yjRFWY0DXsLr4evqLpfB4/fhi4VZLtk9ERNZhQNcnW/H18cciI9x1l8U7cuKZ00TJ6Mcfw3/3+/VzukdkItnGCKsxoGtYXXy9MnEVPF4/3v/lT0u2T0RE1mFA1ydb8fX++yIjPPCAxTviM5eJxFUiNWqE/85Xr86rRyQi2xhhNQZ0DauLrzenZsPj9aPvD+ss2T4REVmHAV2fbMXXkCEiIzz8sMU7cuKZ00TJJNItHnykmVRkGyOsxoCuYXXx9UHWRni8frz09UpLtk9ERNZhQNcnW/H11lsiIzz2mMU74hl0Ks14i0epIdsYYTUGdA2ri6/xi7fB4/Xj8c+WWLJ9IiKyDgO6PtmKr9dfF/mgUyeLd8SAQqUZD1CVGrKNEVZjQNewuvj6ac1OeLx+3PvBfEu2T0RE1mFA1ydb8dWzp8gFnTvbsLNvvokcznmJL8mMt3iUGrKNEVZjQNewuvhasHE/PF4/bhqcZcn2iYjIOgzo+mQrvl5+WeSCl1+2YWejR4udlS1r3zOniZIBz6CXGrKNEVZjQNewuvhav+swPF4/mvSdbsn2iYjIOgzo+mQrvjp3FrmgZ0+Ld5SXJ4K4ogCDB9v3zGmiZKDe4qE3SRxv8ZCKbGOE1RjQNawuvnYdyoXH60f9Hj8iGAxasg8iIrIGA7o+2YqvZ54R+aBPH4t3NGyY2FGdOkBursU7I0pC6izu2pDOWzykItsYYTUGdA2ri6/cEwF4vH54vH4czj1hyT6IiMgaDOj6ZCu+HntMZIS33rJwJ0ePimc9Kwrw0UcW7ogoyWVmFp8skbd4SEW2McJqDOgadhRfDV+dCo/Xj78OHLdsH0REZD4GdH2yFV8PPywywpAh8vNpkAAAIABJREFUFu6kf3+xk/POA07wgD2VcoEAb/GQmGxjhNUY0DXsKL6ufnMmPF4/Vm3/x7J9EBGR+RjQ9clWfN1/v8jOw4dbtIODB4GMDLGTsWMt2gkRUXKQbYywGgO6hh3F161D58Dj9WPOH3st2wcREZmPAV2fbMXXXXeJ7PzxxxbtoEcPsYNLLgEKCizaCRFRcpBtjLAaA7qGHcXXQx8thMfrx5QVf1u2DyIiMh8Duj7Ziq/WrUV+HjPGgo3v2gWcdprYwXffWbADIqLkItsYYTUGdA07iq9OXy6Dx+vH5wu2WLYPIiIyHwO6PtmKr5tuEvl53DgLNv7ii2LjV10F8GkuRFQKyDZGWI0BXcOO4qt75ip4vH68O+NPy/ZBRETmY0DXJ1vxdd11IkObNom0OgHWsGFASorY+C+/mLRxIqLkJtsYYTUGdA07iq+3f1oPj9eP179fa9k+iIjIfAzo+mQrvv7v/0SG/uEHEzam9wip1FQ+QoqISg3ZxgirMaBr2FF8fTh7IzxeP/47YYVl+yAiIvMxoOuTrfi67DKRo6dNS3BDmZlAmTLh4VxdypRhSCeiUkG2McJqDOgadhRfXy/5Cx6vH49+utiyfRARkfkY0PXJVnw1aiQy9OzZCWwkECh+5lwb0OvW5fOeiUh6so0RVmNA17Cj+Pp57S54vH7cM2KeZfsgIiLzMaDrk634ql9fZOgFCxLYSFZW5HBedMnKMqnXRETJSbYxwmoM6Bp2FF+LNx+Ax+vHDYOyLNsHERGZjwFdn2zFl3rie9myBDYybpyxgG7JVPFERMlDtjHCagzoGnYUX3/sPgKP14/L+yR6cxsREdmJAV2fbMVX9eoiO69encBGeAadiAiAfGOE1RjQNewovvYcyYXH68e53f0oKOAzUImI3IIBXZ9sxVdGhsjOf/yRwEYCAaBWLd6DTkSlXknGiBEjRqBevXpITU1FkyZNMHfu3Iht165di3vvvRcejweKomDo0KHF2vh8PiiKErbUqFGjRJ/HagzoGnYUX/knC+Dx+uHx+nHo+AnL9kNEROZiQNcnW0CvVElk6C1bEtxQ8+aRwzlncSeiUiLeMWLChAkoX748Ro0ahezsbHTp0gVpaWnYtm2bbvslS5bg5Zdfxvjx41GzZs2IAf2iiy7Crl27Cpe9e/cm9LmswoCuYVfxdeFrP8Hj9WPLvmOW7oeIiMzDgK5PtoCekiJy9I4dCWxkxoxQGFevmVeXunUZzomo1Ih3jGjWrBk6deoUtq5Ro0bo3r17zPd6PJ6IAf2yyy4z1mGHMaBr2FV8XfvWL/B4/Vjx1z+W7oeIiMzDgK5PpoAeCIRy9P79JdxIXh7QoIHYyIsvio1mZYkJ4bKyeFk7EZUq8YwR+fn5SElJweTJk8PWd+7cGS1atIj5/mgB/bTTTkOtWrVQr149tG3bFps2bTL+IWzEgK5hV/F127tz4fH6Mev3PZbuh4iIzMOArk+mgJ6TEwroR46UcCN9+4oN1KwJHDpkav+IiNxGHSOys7Nx+PDhwiUvL69Y2x07dkBRFMyfPz9sff/+/dGgQYOY+4oU0KdOnYpJkyZh9erVmDFjBlq2bIkaNWpgf4mPxFqHAV3DruKr/aiF8Hj9+Hb535buh4iIzMOArk+mgH7oUCig69SOsW3cCKSmig2MH296/4iI3EYdI7SLz+cr1lYN6AsWLAhb369fPzRs2DDmviIFdK1jx46hRo0aGDJkiOHPYRcGdA27iq/nvvoNHq8fn83bbOl+iIjIPAzo+mQK6Hv3hgJ6QUGcbw4GgdatxZtvvln8TERUysVzBt2qS9z1tGrVqti97smAAV3DruKr5+TV8Hj9eGd6Is9wISIiOzGg65MpoG/fLvJ1+fIlePPEieLNFSok+Iw2IiJ5lGSSuGeffTZsXePGjROaJE4rLy8PtWvXRp8+fQz1yU4M6Bp2FV8Df14Pj9cP33drLd0PERGZhwFdn0wBfdMmkbHT0gy+QZ0AbvRo4MwzxZtfe83KLhIRuUpJH7M2evRoZGdno2vXrkhLS8PWrVsBAB06dAgL6/n5+VixYgVWrFiBWrVq4eWXX8aKFSuwYcOGwjb/+9//MHv2bGzevBmLFi3CHXfcgSpVqhRuM5kwoGvYVXyNmrsJHq8fnccvt3Q/RERkHgZ0fTIF9PXrRcauVs1A48xMoE6d8EeopaSI2dqJiAhAycaIESNGwOPxoEKFCmjSpAnmzJlT+FrLli3RsWPHwp+3bNmie497y5YtC9u0bdsWtWrVQvny5XH22Wfj3nvvxbp168z4eKZjQNewq/j6Zulf8Hj9eGT0Ykv3Q0RE5mFA1ydTQF+5MjQBe1SZmeIZ50XDubqUKcPnnBMRnSLTGGEHBnQNu4qvGet2w+P14673f7V0P0REZB4GdH0yFV9LloiMfc45URoFAsXPnGsDet26fN45ERHkGiPswICuYVfxtXTLAXi8frQYOMvS/RARkXkY0PXJVHzNmycy9vnnR2mUlRU5nBddsrJs6jURUfKSaYywAwO6hl3F14Y9R+Hx+nGJ72dL90NEROZhQNcnU/E1a5bI1hdeGKXRuHHGAjrvRScikmqMsAMDuoZdxde+o3nweP3weP0IFPA5qUREbsCArk+m4uunn0S2vuKKKI14Bp2IyDCZxgg7MKCfMnz4cDRu3BgNGjRIvPgqCACb5wKrJ4o/C4rfg5abl4+2PQbixR49sXTWFAROnizWJnDyJNbO82PpDx9h7Ty/bpt42hERUWIY0PXJVHx9953I1lddFaUR70EnIjJMpjHCDgzoGgkXX+u+A4Y0AnzpoWVII7H+lOU/j8Fu37lhbXb7zsXyn8fE1SaedkRElDgGdH0yFV8TJ4qMff31MRpmZkYO55zFnYiokExjhB0Y0DUSKr7WfQf4MsLDuS/91LoMYN13WP7zGBT0TkdB7/A26rrlP48x1AaA4XZERGQOBnR9MhVfX30lcnarVjEanjwJVK5cPKDXrctwTkRUhExjhB0Y0DVKXHwVBIqfOdcswTfr4IivJoK9I7zeOx2HfTVxOGabWvh98ptR2xX0Tscu37m83J2IyEQM6PpkKr4+/VTk7Ntvj9Fw9mzRsFo1YOZMMSFcVhYvayci0pBpjLADA7pGiYuvzXOjhnOnlrXz/NZ8UUREpRADuj6Ziq8PPxS5+557YjTs0kU07NjRjm4REbmWTGOEHRjQNUpcfK2eaGvw3uprYKjd0h8+suaLIiIqhRjQ9clUfA0bJnJ327ZRGgWDgMcjGk6ZYlfXiIhcSaYxwg4M6BpuOYO+4Ku+PINORGQzBnR9MhVfgwaJ3N2hQ5RGy5eLRpUqAceP29Y3IiI3kmmMsAMDukbi96DrTRKXDvgyEBzcCLt95xab1C38vvF6Btqci/zcXEPteA86EZF5GND1yVR89e8vsvcTT0Rp1Lu3wevgiYhIpjHCDgzoGubM4q4N6ZzFnYhIBm4J6CNGjEC9evWQmpqKJk2aYO7cuVHb//PPP3juuedQs2ZNpKamolGjRvjxxx8N70+m4svnE9n72WejNLr0UtHo88/t6hYRkWvJNEbYgQFdw5rnoDeO+Rz0XQaeg65to7bb76sbsx0RESXODQF9woQJKF++PEaNGoXs7Gx06dIFaWlp2LZtm277/Px8XHnllbj99tsxb948bN26Fb/++itWrlxpeJ8yFV/du4vs3bVrhAabNokGKSnAgQO29o2IyI1kGiPswICuYUrxVRAQ96Svnij+LCj+yJXAyZNYO8+PpT98hLXz/LqXohtpAwAnd6wGfOk42vssLPzlW17WTkRkETcE9GbNmqFTp05h6xo1aoTu3bvrth85ciTq16+PEydOlHifMhVfL70k8vcrr0RoMGSIaHDTTbb2i4jIrWQaI+zAgK7hhuKrmINbAF86cnqfid93HXG6N0RE0kr2MSI/Px8pKSmYPHly2PrOnTujRYsWuu+57bbb8PDDD+Opp55C9erVcdFFF6F///4IxPE8b5mKrxdeEPn71VcjNGjeXDR47z1b+0VE5FYyjRF2YEDXSPbiS9fRPYWXty/auNfp3hARSSvZx4gdO3ZAURTMnz8/bH3//v3RoEED3fc0bNgQqampePzxx7Fs2TKMHz8ep59+Ovr06RNxP3l5eTh8+HDhkp2dLU3x9dRTIn+/8YbOi3v2AGXKiAYRbhkgIqJwDOjxYUDXSPbiS1fekcKAPn3lZqd7Q0QkrWQfI9SAvmDBgrD1/fr1Q8OGDXXfc8EFF6Bu3bphZ8yHDBmCmjVrRtyPz+eDoijFFhmKr44dRf4eMEDnxVGjxItNm9rdLSIi12JAjw8DukayF1+6AicLA/q381Y73RsiImkl+xhRkkvcW7RogZtvvjls3dSpU6EoCvLz83XfI/MZ9HbtRAYfOlTnxTZtopxeJyIiPQzo8WFA10j24iuSk77TAV86vpo2z+muEBFJyw1jRLNmzfCs5hlhjRs3jjhJXI8ePeDxeFBQUFC47t1330WtWrUM71Om4uu++0QGHzFC88KRI0Bqqnhx7VpH+kZE5EYyjRF2YEDXcEPxpSe379mALx0fT/7Z6a4QEUnLDWOE+pi10aNHIzs7G127dkVaWhq2bt0KAOjQoUNYWP/rr79QuXJlvPDCC/jjjz/g9/tRvXp19OvXz/A+ZSq+7rhDZPBPPtG88M034oXzzweCQUf6RkTkRjKNEXZgQNdwQ/Gl52j/+oAvHcO+muR0V4iIpOWWMWLEiBHweDyoUKECmjRpgjlz5hS+1rJlS3Ts2DGs/YIFC3DVVVchNTUV9evXL9WzuN9yi8jhX3yheaF9e/HCyy870i8iIreSaYywAwO6hluKL63Db18E+NIxaNQYp7tCRCQtt44RVpOp+LrhBpHDJ0wosjI/H8jIEC9oZsgnIqLoZBoj7MCAruHW4uvQkCsBXzr6v6e9aY6IiMzi1jHCajIVX9dcI3L4t98WWTltmlhZowZQ5F59IiKKTaYxwg4M6BpuLb4Ov9cc8KXj9YGDnO4KEZG03DpGWE2m4qtpU5HFf/yxyMpnnxUrn37asX4REbmVTGOEHRjQNdxafB358BbAl47X+r3udFeIiKTl1jHCajIVX5dcIrL4jBmnVhQUALVqiZVTpzraNyIiN5JpjLADA7qGW4uv45/+G/Clo9drrzjdFSIiabl1jLCaTMVXw4Yii8+ZFQCysoC+fcWKypWBvDynu0dE5DoyjRF2YEDXcGvxlT/uYcCXjld7dkb+Sd4fR0RkBbeOEVaTqfiqVw/4t5KJvOp1RDBXl0qVgMxMp7tHROQ6Mo0RdmBA13Br8VWQ+ZSYJK7nM9h7hEf4iYis4NYxwmoyFV9PVMtEgVIGwaLhXF3KlGFIJyKKk0xjhB0Y0DVcW3x93wXwpeOdno9hw54jTveGiEhKrh0jLCZN8RUI4O+ydVCgF87VgF63LhDHM+KJiEo7acYImzCga7i2+PqpB+BLx8heD2PplgNO94aISEquHSMsJk3xlZWlH8y1S1aW0z0lInINacYImzCga7i2+JrZF/Cl49NeD2DGut1O94aISEquHSMsJk3xNW6csYA+bpzTPSUicg1pxgibMKBruLb4mjMQ8KVjfK+7MHEZf/mJiKzg2jHCYrIUX8FZWTyDTkRkMlnGCLswoGu4tvhaMBzwpWPKq60xau4mp3tDRCQl144RFpOl+DqZF8BfSh0UKGV4DzoRkUlkGSPswoCu4dria+lowJeOaa/eiMHTfne6N0REUnLtGGExWYqvY8fEI9YKlDIIlilTPJxzFnciorjJMkbYhQFdw7XF18rxgC8dc169Dq9+u8bp3hARScm1Y4TFZCm+Dh4UWfzfSiaCtTXPQa9bl+GciKgEZBkj7MKAruHa4mvtt4AvHYtf+z+8MG65070hIpKSa8cIi8lSfO3eHcrjwZMBoEED8cObb/KydiKiEpJljLALA7qGa4uvP6YBvnSsfu1S/OeTRU73hohISq4dIywmS/G1bZvI46mpp1Y0bixWzJrlaL+IiNxMljHCLgzoGq4tvjbPBXzp2PBaI9z5/q9O94aISEquHSMsJkvxtWGDyONVqpxa4fGIFYt44JuIqKRkGSPswoCu4dria/sywJeO7b3r4/oBPNJPRGQF144RFpOl+Fq3TuTxM844taJ6dbFi9WpH+0VE5GayjBF2YUDXcG3xtXst4EvHvt51cInvZ6d7Q0QkJdeOERaTpfhasULk8Vq1Tq2oXFms2LjR0X4REbmZLGOEXRjQNVxbfB3YBPjScaz3WfB4/QgUBJ3uERGRdFw7RlhMluJr0SKRx+vVAxAMAmXLihU7dzrdNSIi15JljLALA7qGa4uvI7sAXzoKemfA4/0BB47lO90jIiLpuHaMsJgsxdfcuSKPN2gAIC8vNKX7oUNOd42IyLVkGSPswoCu4driK/cQ4EsHfOm4wPstNu096nSPiIik49oxwmKyFF8zZ4o8fvHFCD0UXVGAEyec7hoRkWvJMkbYhQFdw7XF18n8woB+iXcCftt20OkeERFJx7VjhMVkKb5+/FHk8aZNAfz9t/ihXDmnu0VE5GqyjBF2YUDXcG3xFQwCr1cDfOlo5v0Cs9bvcbpHRETSce0YYTFZiq9vvxWZ/JprAPz5p/ghPd3pbhERuZosY4RdGNA1XF189a8N+NLRsvsoTF7O/wGIiMzm6jHCQrIUX19/LTJ5y5YAVq4UP9Ss6XS3iIhcTZYxwi4M6BquLr4Gng/40nFr9w/w6bzNTveGiEg6rh4jLCRL8fXllyKT/+tfABYsED/Ur+90t4iIXE2WMcIuDOgari6+hl4C+NJxT/eheGf6H073hohIOq4eIywkS/H1yScik99xBzQzxhERUUnJMkbYhQFdw9XF1/BmgC8dD/UYAN93a53uDRGRdFw9RlhIluLrgw9EJr/3XgDffy9+aNbM6W4REbmaLGOEXRjQNVxdfH3UEvCl47EefdFl/HKne0NEJB1XjxEWkqX4evddkckfegjAhAnihxtucLpbRESuJssYYRcGdA1XF1+f3gb40vFsj1fR8dPFTveGiEg6rh4jLCRL8TVggMjkHTsC+PRT8cPttzvdLSIiV5NljMA//wCjRgHduwMHDoh1v/0mHstpIgZ0DVcXX1/eC/jS8VKPV3D38HlO94aISDquHiMsJEvx9cYbIpM/9RSA4cPFD/ff73S3iIhcTYoxYtUq4KyzgPPPB8qVAzZtEutffRXo0MHUXTGga7i6+BrfHvClo1fPLrhhUJbTvSEiko6rxwgLSVF8AXjtNZHJn38ewMCB4odHHnG6W0REribFGHHzzUC3buK/K1cOBfT58wGPx9RdMaBruLr4mvQk4EvHGz2fxeV9pjndGyIi6bh6jLCQFMUXAK9XZPL//hfA66+LHzp1crpbRESuJsUYkZ4ObNwo/rtoQN+6FUhNNXVXDOgari6+vnsR8KVjcM/HcW53PwoKgk73iIhIKq4eIywkRfEFoGtXkcm7dwfwyivih5decrpbRESuJsUYUb06sPzUJNxFA/q0aUCdOqbuigFdw9XF11Qv4EvH8F7/gcfrx6GcE073iIhIKq4eIywkRfEF4LnnRCbv3RvACy+IH3r1crpbRESuJsUY8dRTwD33ACdOiIC+eTOwbRtwxRVAly6m7ooBXcPVxdcMH+BLx+e928Lj9WPb/uNO94iISCquHiMsJEXxBeDJJ0Um79cPwOOPix/693e6W0REribFGHH4MHDddUDVqkBKClC3LlC+PNCiBXDsmKm7YkDXcHXxNXsA4EvHlD73weP1Y9X2f5zuERGRVFw9RlhIiuILYiJeRQEGDYJ4GLqiAEOHOt0tIiJXk2WMAAD88osYJAYMAGbMsGQXDOgari6+5r8H+NLxS/+74PH6MeePvU73iIhIKq4eIywkS/HVtq3I5MOGAbjrLvHDRx853S0iIleTYoz4/HMgL6/4+vx88ZqJGNA1XF18LRkF+NKx6K3b4PH68d3KHU73iIhIKq4eIywkRfEF4N//Fpl85EgArVqJH7780ulu0f+zd+fxUZT3H8AHYgCNBBQpIMLEg0AEpUWLWi1UawWtiFdFbTVWRcEq4A/rgGjWI2BARbHECxEvBOUQcbgviSYckTMQjoAkQLiPcOWAZD+/Px4S2Mkm2SWz++R5+Lxfr3l1dnbY/SZQv9/PzuwMESlNix5Ruzawe3f57fv2iedc5FpAf+2113DsWPnvPOfn5+O1115z621CTunha/nXgCcaa4beCtOy8WXaFtkVERFpRekeEUJaDF8A/v53kclHj4b4rqFhAJMmyS6LiEhpWvSIWrWAPX7OTl65ErjgAlffyrWAXrt2bez286nCvn37UNvlTxVCSenhK2MS4InG5mF/hmnZeH/uRtkVERFpRekeEUJaDF84ddD8668hrsxrGMCMGbLLIiJSmtI94ve/F/2gdm3gqqvEeuly9dVA/frAP/7h6lu6FtBr1aqFPX4+VZg3bx4uuugit94m5JQevtbPADzR2DHsOpiWjdd/XCu7IiIirSjdI0JI6eHrNJ06iUz+3XcAWrcWDxYulF0WEZHSlO4Rr74qllq1gBdeOPX41VeBIUOAb74R30N3UbUDesOGDXHBBRegdu3aZeulS3R0NGrXro1nnnnGjVrDQunha/NPgCca+4f9AaZl4/lvV8iuiIhIK0r3iBBSevg6zfXXi0w+ZQrELXQMA0hPl10WEZHStOgRn38OFBSE5a2qHdA///xzjBkzBrVq1cKIESPw+eefly3ffPMN0tLS3KgzbJQevrYuATzROJIUB9Oy8fiYpbIrIiLSitI9IoS0GL7gOKu9USPxYC3PRiMiqg5dekS4uHaK+08//YQTJ0649XLSKD187VwNeKJROOQymJaNez9IlV0REZFWlO4RIaTL8NW2rcjk8+YBOPdc8WDLFtllEREpTYseUVws7n/+xz8CTZqIC8OdvrjItYC+bNkyrF69uuzxlClT0L17dwwcOBBFLp+XH0pKD1/7NgGeaJxIvBimZeOWtxfIroiISCtu94gLLgD27hXr//43cPiwKy8bdloMXwBatRKZ/OeFJWLFMPzfVoeIiAKmRY945RWgWTMR0uvVA954A3jiCXG21YgRrr6VawH92muvxcSJEwEAmzdvRt26dfHQQw/hiiuuQN++fd16m5BTOqAfygU80fC+diFMy8Y1b8yWXRERkVbc7hFRUcDmzWK9dm3/d3BRgRbDFwDTPPm184XHTgX0I0dkl0VEpDQtesRllwG2LdbPPx/YtEmsjxgBPPSQq2/lWkCPjo7GppOFJiUl4bbbbgMA/PLLL7jkkkvcepuQUzqg5x8APNGAJxqXW1Nw+cBp8Hq9sqsiItKG2z3i1lvFXVsee0xcIPbBB8WRdH9LTabF8AWgaVORyTMW7D0V0IuLZZdFRKQ0LXrEeecBOTlivWlTYNkysb55MxAd7epbuRbQ69evj40bxX23b731Vrz33nsAgJycHNSrV8+ttwk5pQP68YKygN7O+g6mZeNIofrXBSAiqinc7hG7dgGWBdx/vwjot98O3H23/6Um02L4AnDhhSKTb5ybI1bq1pVdEhGR8rToEbGxwOLFYv2mm4A33xTr48cDjRu7+lauBfSbb74Zjz76KL788ktERkYiKysLgLh4nGmabr1NyCkd0L1ewNMA8ETjT4PGwrRsbDtwTHZVRETaCGWPiIkB9u1z/WXDQovhC+KsRcMAcmatEysuX/iHiOhspEWPsCxg8GCxPmECcM45wBVXAHXqiOdc5FpAX7VqFdq1a4fo6Gi8+uqrZdufffZZPOTyefmhpHRAB4DEZoAnGt3f+AqmZSNje57sioiItMGLxPmnxfAFIDJS5PJd05eJlebNZZdERKQ8XXqEj8WLgXfeAX74wfWXdi2gV6SgoADHjx8P9du4RvmAPvQywBONnm99AdOy8UvWXtkVERFpgxeJ80+H4cvrPfW18wNTfxYrrVrJLouISHnK94jjx8XFYkobdoi5HtB//fVXfPXVV/j666+xrPTL8wpRPqAPbwt4ojFgxBiYlg171Q7ZFRERaYMXifNP+eELQFHRaRdunzRLrLRvL7ssIiLl6dAj0KCBegF99+7d+Mtf/oJatWrhggsuQMOGDVGrVi3ccsst2KPQIQHlA/r/rgU80Xjro1EwLRtfL86WXRERkTZCeZG42rV5kTiZjhw5FdALx38vVm64QXZZRETK06FH4LHHxCntYeBaQH/ggQdwzTXXIDMzs2zb2rVrce211+LBBx90621CTvmA/tGfAU80Pv3sI5iWjZHzs2RXRESkDV4kzj8dhq99+04F9JKvxoqVv/5VdllERMrToUcgMRFo2BC47z5gyBBx//PTFxe5eh/0pUuXltu+ZMkSNGjQwK23CTnlA/roLoAnGhO/GgnTsjF4WmbVf4aIiAISih5x++1A3mnX80xMBA4ePPV43z4gLs61twsJHYavHTtEJq9dG8CoUeJBt26yyyIiUp4OPQIxMRUvl17q6lu5FtDPP/98rFixotz25cuXo379+m69TcgpH9C/6A54ojF73HswLRv/nbBSdkVERNoIRY+oVQvYvfvU4/r1fb/mtmvXydBYg+kwfGVni0xerx7E0RDDAHr0kF0WEZHydOgR4eRaQL/rrrvQqVMn5Obmlm3bvn07OnfujLtr+pfnTqN8QP/mIcATjcXfvQXTstHzi3TZFRERaSMcAf388xnQZdiwQWTyBg0AvPmmePDYY7LLIiJSng49IpxcC+hbt27FH/7wB0RGRuKyyy7D5ZdfjsjISHTo0EGpvwzlA/qExwFPNNZMehOmZeMfH6XJroiISBsM6P7pMHxlZIhM3rgxgFdeEQ+eeUZ2WUREyjuTHpGcnIyYmBjUrVsXHTrh7QjOAAAgAElEQVR0QEpKSoX7rlmzBvfeey9M04RhGHj33Xer/ZoyuX6btdmzZ+P999/HiBEjMGfOHLdfPuSUD+hT/gN4opH9/WswLRu3DV8ouyIiIm2Eokc4739+/vnAb7+desyAHh7LlolM3rw5gP79xYMXXpBdFhGR8oLtEePHj0dkZCRGjRqFzMxM9O3bF1FRUcjJyfG7/9KlS/HCCy9g3LhxaNq0qd+AHuxrylTtgD5v3jzExcX5HVby8vJw5ZVX1thPJ/xRPqBPewHwRGP394NgWjY6DlbvQxIiopoqVEfQ77gDuOcesZxzDnDbbace33EHA3o4LFokMvmllwLo3Vs8SEiQXRYRkfKC7REdO3ZEr169fLa1adMGAwYMqPLPmqbpN6BX5zXDrdoBvVu3bhg+fHiFz48YMYLfQQ+n2a8AnmgcnvICTMtG7KDpsisiItJGKHrEY48FttRkOgT0n34SmbxNG4hfuGEASUmyyyIiUl5pj8jMzMShQ4fKlsLCwnL7FhUVISIiApMnT/bZ3qdPH3Tq1KnK9/IX0Kv7muFW7YDesmVLn3ufO61btw4tWrSo7tuEjfIBfcGbgCcax6f0gWnZMC0bBceLZVdFRKQF5XtEiOgQ0GfPFpn86qsBPPCAePD++7LLIiJSXmmPcC4ej6fcvrm5uTAMA6mpqT7bBw8ejNjY2Crfy19Ar9ZrHjsmrkdy8cXiIiUPPQTs3VtlHdVR7YBet25dZGVlVfh8VlYW6tWrV923CRvlh69f3gM80fBOfgqXD5wG07KxM69AdlVERFpQvkeEiA4B3bZFJr/2WgB33ikefPqp7LKIiJQXzBH00jCdluZ7oevExES0bt26yveqLKCf0Wu+8AJw3nlAz55Anz7ARRcB999fZR3VUe2Aftlll5U7XeB0kyZNwqUu37w9lJQfvhZ/DHiigW8fwTVvzIZp2cjcoejPQkRUwyjfI0JEh4A+aZLI5DfeCOCWW8SDb76RXRYRkfKC6RE17hT3yy4Dxo079XjJEnGxmOLQnaFc7YD+7LPPol27digoKH+UNj8/H+3atcNzzz1X3bcJG+WHr2VfioD+9f245e0FMC0baZv2ya6KiEgLyveIENEhoI8bJzL5zTcDuP568WDKFNllEREp70wuEte7d2+fbXFxcdW+SNwZvWZkJLB9u++2evWArVurrOVMVTug79q1CxdffDFatGiBoUOHYsqUKfjhhx+QlJSEFi1a4OKLL8auXbvcqDUslB++Vk8QAX3M33HvB6kwLRszMnbIroqISAvK94gQ0SGgf/GFyORdukB8Ed0wxBfTiYioWs70NmujR49GZmYm+vXrh6ioKGRnZwMAHnnkEZ9gXVRUhBUrVmDFihVo1qwZXnjhBaxYscLna9hVvWaFnPdCBcrfD9VlrtwHPTs7G7fffjtq166NWrVqoVatWqhduzZuv/12bNmyxY23CBvlh69100RA/+QWPD5mKUzLxrglNe/+fkREKlK+R4SIDgF91CiRybt1A3DFFeLBL7/ILouISHln0iOSk5Nhmibq1KmDDh06YOHChWXPde7cGfHx8WWPt2zZ4vcidJ07dw74NSvkvBeqv/uh3nNPwD9XIFwJ6KUOHDiApUuXYsmSJThw4ICbLx02yg9fm+aJgJ58A57/dgVMy8aHP22SXRURkRaU7xEhokNAHzlSZPL774e4Wq9hAMuXyy6LiEh5SveI+Piw3wvV1YCuA+WHr5xFIqC/1x6vTV0L07Lx5vR1sqsiItKC8j0iRJQevk4aPlxk8ocfBtCwoXiwfr3ssoiIlKdDjwgnBnQH5YevHStFQH8rFiPmboRp2RgwaZXsqoiItKB8jwgRHYavpCSRyR97DECdOuJBCC8CRER0tlC6R2zeDHi9YX1LBnQH5YevvRtFQH+zBb5I2wLTstHrq19lV0VEpAXle0SIKD18nfTaayKT9+55QqwYBrCPd0EhIqoupXtE7drA7t2nHj/wABDiC6AzoDsoP3zlbRMB/fWL8MPKXJiWjQc/XiS7KiIiLSjfI0JE6eHrpEGDRCZ/4enDpwJ6fr7ssoiIlKd0j6hVyzegn3++OKoeQgzoDsoPX0f3iYDuicbCdTtgWja6vpciuyoiIi2o0iOSk5MRExODunXrokOHDkhJCawPjBs3DoZhoHv37kG9n9LD10n//a/I5J5eu04F9DCf1khEpCOlewQDunyqDF8VKjpWFtAzNm+Dadm4Ychc2VUREWlBhR5Req/XUaNGITMzE3379kVUVBRyciq/5WZ2djaaN2+OP//5z2dlQO/bV2TyYb1/EyvnnSe7JCIiLSjdI5z3QQ/xPdABBvRyVBi+KlVSUhbQt23NgWnZiHtlhuyqiIi0oEKP6NixI3r16uWzrU2bNhgwYECFf6a4uBg33ngjPv30U8THx5+VAb1XL5HLk59ZI1Yuukh2SUREWlC6Rzjvg+7vHug1+T7oOlBh+KrSG00ATzQO7dwE07JhWjYKTxTLroqISHk1vUcUFRUhIiICkydP9tnep08fdOrUqcI/l5CQgLvvvhsAztqA/vjjIpePeWapWGnZUnZJRERaULpHBHIPdN4HPbRq+vAVkCQT8ESjZFcmLh0gAvruwwWyqyIiUl5N7xG5ubkwDAOpqak+2wcPHozY2Fi/f+aXX35B8+bNsXfvXgCBBfTCwkIcOnSobMnMzFR3+DrpX/8SuXx875/ESps2sksiItKC0gFdAgZ0h5o+fAXknThxmvv2Zfj9a7NgWjY27josuyoiIuXV9B5RGtDT0tJ8ticmJqJ169bl9j98+DBiYmIwffr0sm2BBHSPxwPDMMotKg9f//iHyOU/9JouVjp0kF0SEZEWGNCDw4DuUNOHr4C830EE9OxU/OWtBTAtG0u37JddFRGR8mp6jwj2FPcVK1bAMAxERESULbVq1UKtWrUQERGBTZs2+X0fHY+gd+8ucvnspyeKlZtukl0SEZEWGNCDo21Av/vuu9GwYUPcd999Qf25mj58BeTDG0VAz5qD7iN/gWnZmL12l+yqiIiUp0KP6NixI3r37u2zLS4uzu9F4goKCpCRkeGzdO/eHbfccgsyMjJQVFQU0HvqMHzdfrvI5Qt7filW/vY32SUREWlBhx4RTtoG9Pnz52Pq1KlnZ0AfdasI6JlTEf/ZEpiWje/St8quiohIeSr0iNLbrI0ePRqZmZno168foqKikJ2dDQB45JFHKr2i+9l6kbi//lXk8iWPfyRWgvwdEBGRfzr0iHDSNqADwIIFC87OgP55NxHQV32LvuOWw7RsjErZLLsqIiLlqdIjkpOTYZom6tSpgw4dOmDhwoVlz3Xu3Bnx8fEV/tmzNaDfdJPI5Ssfe1esPPSQ7JKIiLSgQ48IpxoZ0BcuXIg777wTzZo1g2EY+P7778vtk5ycjJiYGNStWxcdOnRASkpKuX3O2oA+tocI6L9+Ds8Pa2BaNt6auV52VUREytOiR4SADsNXx44il2f+a7BYeeIJ2SUREWlBhx4RTjUyoE+fPh2DBg3CpEmT/Ab00tP3Ro0ahczMTPTt2xdRUVHIycnx2e+sDejfPSYC+qIPMXz2BpiWjUHfr5ZdFRGR8rToESGgw/D1+9+LXL7pwUFi5bnnZJdERKQFHXpEONXIgH46fwG9Y8eO6NWrl8+2Nm3alPtOXSAB3Xkl2tJ/QEoPX9/3FgE95R189stvMC0b/xm7THZVRETKY0D3T4fhKy5O5PKt9z8vVixLdklERFrQoUeEk3IBPZhbyAQS0Cu6l6vSw5f9fyKgz0vE5OXbYFo2/jlqseyqiIiUx4Dunw7D1+WXi1y+s/vTYuW112SXRESkBR16RDgpF9Bzc3NhGAZSU1N99hs8eDBiY2PLHt9222246KKLcO6556J58+ZYunSp39fX8gj6rEEioM8ahPnrdsO0bPz9/fLf0SciouAwoPunw/DVooXI5XvveESsvPWW7JKIiLSgQ48IJ2UDelpams9+iYmJaN26dbXfT4vha/5gEdDt/8OynAMwLRs3Js2TXRURkfK06BEhoMPw9bvfiVx+8Nb7xEpysuySiIi0oEOPCCflAnowp7ifCS2Gr5R3RED/vjc27zkC07LRLmGm7KqIiJSnRY8IAR2Gr4YNRS4/0ul2sTJmjOySiIi0oEOPCCflAjogLhLXu3dvn21xcXHlLhJ3JrQYvhZ9KAL6d/E4cLQIpmXDtGwcLy6RXRkRkdK06BEhoMPwdd55IpfnX9dZrHz7reySiIi0oEOPCKcaGdCPHDmCFStWYMWKFTAMA8OHD8eKFSvKbqNWepu10aNHIzMzE/369UNUVBSys7Or/d5aDF+/fi4C+tgeKC7xlgX0fUcKZVdGRKQ0LXpECOgwfJ1zjsjlRe3/KFZ+/FF2SUREWtChR4RTjQzoCxYs8Htl9fj4+LJ9kpOTYZom6tSpgw4dOmDhwoWuvLcWw9eq70RA/7wbAOAqz0yYlo1Ne45ILoyISG1a9IgQUH34KikRmdwwgBNt2oqVebx2CxGRG1TvEeFWIwO6TFoMX5lTRUAfdSsA4M9D58O0bPyafUByYUREatOiR4SA6sNXQcGpgF5iXipWFi2SXRYRkRZU7xHhxoDuoMXwlTVHBPQPbgQAdPvfzzAtG/PW7ZJcGBGR2rToESGg+vB16NCpgO5t0kSsrFoluywiIi2o3iPCjQHdQYvhKztVBPQRfwAA/OvTxTAtG5OW8f8URETVoUWPCAHVh689e04L6PXri5WsLNllERFpQfUeEW4M6A5aDF+5y0VAfycOAPDsN8thWjZG//yb5MKIiNSmRY8IAdWHr+3bRSY/J8ILRESIB7m5sssiItKC6j0i3BjQHbQYvvasFwE9yQQAvPx9BkzLxjuzN8iti4hIcVr0iBBQffj67TeRyRucW3TqUPrBg7LLIiLSguo9ItwY0B20GL4OZIuA/sbvAABvz1oP07KRMCVDcmFERGrTokeEgOrD1/r1IpO3jD54KqAXFckui4hIC6r3iHBjQHfQYvg6skcEdE80UFKCUSmbYVo2+oxbLrsyIiKladEjQkD14WvVKpHJr74oV6xERABer+yyiIi0oHqPCDcGdActhq/CI6cCetExTPh1G0zLxqOjl8iujIhIaVr0iBBQffhKTxe5/KamWWKlfn3ZJRERaUP1HhFuDOgOWgxfJcWnAvrRfZizdhdMy8ZdI3+RXRkRkdK06BEhoPrwlZoqcvkdl5w8lN6kieySiIi0oXqPCDcG9JNGjhyJuLg4xMbG6jF8vX6RCOgHtyJ9y36Ylo3Ow+bLroqISGkM6P6pPnzNny9y+YMxi8RKTIzskoiItKF6jwg3BnQHbYavN1uIgL5nA7J2H4Zp2Wj/2izZVRERKU2bHuEy1YevmTNFLu95+TyxcuWVsksiItKG6j0i3BjQHbQZvt5uLQL6jpXYc7gQpmUjZoCNkhJe9IaI6Exp0yNcpvrwNXWqyOXPx9pi5dprZZdERKQN1XtEuDGgO2gzfI34vQjoOYtQdKIEpmXDtGzkHTsuuzIiImVp0yNcpvrwNXGiyOUvt/lOrHTqJLskIiJtqN4jwo0B3UGb4Sv5BhHQN80DAFz5ygyYlo3sfUclF0ZEpC5teoTLVB++xo4VuTzpys/FSteusksiItKG6j0i3BjQHbQZvj65RQT0dTYA4E9vzoNp2Vi59aDkwoiI1KVNj3CZ6sPXmDEil//vyg/Eyr33yi6JiEgbqveIcGNAd9Bm+BrzdxHQV08AANwxIgWmZWPB+t2SCyMiUpc2PcJlqg9fH38scvlnbd8WK//6l+ySiIi0oXqPCDcGdAdthq+v/yEC+rIvAQAPj1oE07IxZcV2yYUREalLmx7hMtWHr/ffF7l8fNvXxcpTT8kuiYhIG6r3iHBjQHfQZvj69hER0Bd/DAB45utlMC0bn6dukVsXEZHCtOkRLlN9+Hr75IHzqW0HiJV+/WSXRESkDdV7RLgxoDtoM3xNfloE9J/fBQAMnLwapmXjvTkbJRdGRKQubXqEy1QfvoYMEbl8zpV9xMpLL8kuiYhIG6r3iHBjQHfQZvj6sZ8I6AveBAC8OT0TpmXj0dGLkbZpH4p5P3QioqBp0yNcpvrw9eqrIpf/3OZJsZKYKLskIiJtqN4jwo0B3UGb4WvmSyKgz34FMzJ2oJ1nZtm90E3LxvVD5mJGxg7ZVRIRKUWbHuEy1YevgQNFLk9v/bBYGT5cdklERNpQvUeEGwO6gzbD19zXAU80sr/sjZjTgnnpEnNyYUgnIgqcNj3CZaoPX/37i1yeccXdYuWjj2SXRESkDdV7RLgxoDtoM3wtfAvwRGPqa/eUC+enh/Trh8zl6e5ERAHSpke4TPXh67nnRC7feNltYuXLL2WXRESkDdV7RLgxoDtoM3ylJQOeaEx5uWuFAb10Sdu0T3a1RERK0KZHuEz14eupp0Quz2l5k1iZOFF2SURE2lC9R4QbA7qDNsNX+meAJxqzXr65yoDOe6MTEQVGmx7hMtWHr8ceE7l8Z/MOYmX6dNklERFpQ/UeEW4M6A7aDF8rxwOeaCx8+UYeQScicok2PcJlqg9fD5+8Nty+37URKz/9JLskIiJtqN4jwo0B/aSRI0ciLi4OsbGxegxfa6cAnmisfLWj34vE8TvoRETBY0D3T/Xh6/77RS4/fEFLsbJ0qeySiIi0oXqPCDcGdAdthq+NswFPNPLevb7siu28ijsRUfVo0yNcpvrw1a2byOX5518kVtaskV0SEZE2VO8R4caA7qDN8LXlZ3Ef9P9dixkZO3D9kLm8DzoRUTVp0yNcpvrw1aWLyOXH65wnVn77TXZJRETaUL1HhBsDuoM2w9f2X0VAH94WAFBc4sXt76XAtGy8NXMdT2snIjoD2vQIl6k+fN18M2AYXhHODQPYtUt2SURE2lC9R4QbA7qDNsPXrrUioA+9tGzTM2OXwbRsfPYLjwwQEZ0JbXqEy1Qfvv70J6CekX8qoB8+LLskIiJtqN4jwo0B3UGb4Wv/byKgJzYt25QwJePkEfT1EgsjIlKXNj3CZaoPX9deC1xo7DsV0E+ckF0SEZE2VO8R4caA7qDN8HV4lwjongaAV5zO/t6cjTAtGwMmrZZcHBGRmrTpES5Tffi6+mrgEmOrCOeRkbLLISLSiuo9ItwY0B20Gb4KDp0M6NHA8QIAwFeLsmFaNnp+kS65OCIiNWnTI1ym+vDVpg3QytggAnqDBrLLISLSiuo9ItwY0B20Gb6Kj58K6Mf2AwCmr94B07Jx3wepkosjIlKTNj3CZaoPX5deCrQ3VoiA3qyZ7HKIiLSieo8INwZ0B62Gr9cuFAE9bzsAYMlv+2FaNv7y1gK5dRERKUqrHuEi1Yev5s2BG4xUEdAvv1x2OUREWlG9R4QbA7qDVsPXkEtEQN+3CQCQtfsITMvGVZ6ZkgsjIlKTVj3CRaoPX40bA3815oiAftVVssshItKK6j0i3BjQHbQavt5qJQL6TnFRuIPHimBaNkzLRtGJEsnFERGpR6se4SLVh6/oaKCb8YMI6NddJ7scIiKtqN4jwo0B3UGr4evdq0RA37oEAFBS4sVlA6fBtGzsOlQguTgiIvVo1SNcpPrwVa8e0MMYJwL6zTfLLoeISCuq94hwY0B30Gr4GnmdCOibF5RtujZxDkzLxprcPGllERGpSqse4SLVh6/atYF/G6NFQP/732WXQ0SkFdV7RLgxoDtoNXx9/BcR0NfPKNvU5d2FMC0bKRv3SCyMiEhNWvUIF6k8fBUXi1z+H+N/YuUf/5BdEhGRVlTuETIwoDtoNXx9docI6BmTyjY9PGoRTMvG98u3SyyMiEhNWvUIF6k8fB07JnL5f42hYiU+XnZJRERaUblHyMCA7qDV8PXVvSKgL/+6bNOz3yyHadn49OffJBZGRKQmrXqEi1Qevg4eFLncY3jESu/esksiItKKyj1CBgZ0B62Gr/H/FAF9ySdlmzw/rIFp2Rg6Y53EwoiI1KRVj3CRysPX7t0ilw81/itW+veXXRIRkVZU7hEyMKA7aDV8TeopAnrq+2Wb3p+7EaZlw5q4SmJhRERq0qpHuEjl4WvrVpHLP6j9H7HyyiuySyIi0orKPUIGBnQHrYavqX1EQP9paNmmsYtzYFo2nvg8XWJhRERq0qpHuEjl4WvTJpHLvzzn32LlzTdll0REpBWVe4QMDOgnjRw5EnFxcYiNjdVn+JpuiYA+x1O2aUbGTpiWjXuSf5FWFhGRqhjQ/VN5+MrMFLl8Up0eYmXECNklERFpReUeIQMDuoNWw9ecV0VAn/5i2ab0LfthWjY6DZsvsTAiIjVp1SNcpPLwtXKlyOUz63YTK6NGyS6JiEgrKvcIGRjQHbQavn4aJgL6D8+Vbdq85whMy0a7hJkSCyMiUpNWPcJFKg9fS5aIXP5zvb+KlbFjZZdERKQVlXuEDAzoDloNX6n/EwF94pNlm/Lyj8O0bJiWjcITxRKLIyJSj1Y9wkUqD18//yxy+bJ6N4iV77+XXRIRkVZU7hEyMKA7aDV8Lf1UBPRxD5dt8nq9uOKlaTAtGzvy8iUWR0SkHq16hItUHr7mzRO5fF299mJl1izZJRERaUXlHiEDA7qDVsPXirEioH95j8/mPybOgWnZyNieJ6kwIiI1adUjXKTy8DV9usjl2XVbnTzX/WfZJRERaUXlHiEDA7qDVsPXmskioH92u8/mru+lwLRs/LRhj6TCiIjUpFWPcJHKw9eUKSKX767T/OS57stkl0REpBWVe4QMDOgOWg1fG2aKgP5xZ5/N/xy1GKZlY9Iy/p+EiCgYWvUIF6k8fH33ncjlh8654OS57utkl0REpBWVe4QMDOgOWg1fvy0UAX1kR5/NfcYth2nZGJWyWVJhRERq0qpHuEjl4evrr0UuL6pdV6zk5MguiYhIKyr3CBkY0B20Gr62LhUB/d12PptfnboGpmXjzek8SkBEFAyteoSLVB6+Ro8GahklIpwbBrCHX/8iInKTyj1CBgZ0B62Gr50ZIqAPu8Jn88j5WTAtG/+dsFJSYUREatKqR7hI5eHrww+B84yjpwL60aOySyIi0sqZ9Ijk5GTExMSgbt266NChA1JSUirdf+LEiYiLi0OdOnUQFxeHyZMn+zwfHx8PwzB8luuuu+6Mfp5QY0B30Gr42rdJBPTBzX02f7MkB6Zl4/ExSyUVRkSkJq16hItUDugjRgAXGXtOBfSSEtklERFpJdgeMX78eERGRmLUqFHIzMxE3759ERUVhZwKvoKUlpaGiIgIDBkyBOvWrcOQIUNwzjnnYPHixWX7xMfHo2vXrti5c2fZsn//fld+PrcxoDtoNXwd2iEC+qsXAF5v2eZZa3bCtGx0H/mLxOKIiNSjVY9wkcoBfdgwoKWRLcJ5vXqyyyEi0k6wPaJjx47o1auXz7Y2bdpgwIABfvd/4IEH0LVrV59tXbp0wYMPPlj2OD4+Ht27dw+ycjkY0B20Gr7yD4iA7okGThSVbf41ez9My8ZNQ+dJLI6ISD1a9QgXqRzQExOBNkamCOgXXii7HCIi7ZT2iMzMTBw6dKhsKSwsLLdvUVERIiIiyp2i3qdPH3Tq1Mnv67do0QLDhw/32TZ8+HC0bNmy7HF8fDwaNGiAxo0bo1WrVnjyySexe/duF3469zGgO2g1fJ0oPBXQC/LKNm/ZexSmZePKV2ZILI6ISD1a9QgXqRzQExKADsavIqBfconscoiItFPaI5yLx+Mpt29ubi4Mw0BqaqrP9sGDByM2Ntbv60dGRmLs2LE+28aOHYs6deqUPR4/fjxs20ZGRgamTp2K9u3bo23btn4/JJCNAd1Bq+HL6wVebSgC+uGdZZsPFRyHadkwLRsFx4slFkhEpBateoSLVA7oAwYANxkpIqBXMPwREdGZC+YIemlAT0tL89memJiI1q1b+339yMhIfPPNNz7bvv76a9StW7fCmnbs2IHIyEhMmjTpDH6i0GJAd9Bu+Bp8sQjo+0/d89zr9aLVS9NhWja2H8yXWBwRkVq06xEuUTmgP/88cJsxUwT03/9edjlERNoJpkeE6hR3f6644gokJSVVWVO4MaA7aDd8Db1MBPRda3w2Xzd4LkzLxqptByUVRkSkHu16hEtUDuj/+Q9wtzFZBPQ//Ul2OURE2jmTi8T17t3bZ1tcXFylF4m7/fbbfbZ17drV5yJxTvv27UPdunXxxRdfBFRTODGgO2g3fA1vJwL6tnSfzXeMSIFp2Zi/vmZeHIGIqCZSpUcEc//YTz75BDfddBMaNmyIhg0b4q9//SuWLFkS1PupHNB79gQeNr4WAf3WW2WXQ0SknTO9zdro0aORmZmJfv36ISoqCtnZ2QCARx55xCesp6amIiIiAklJSVi3bh2SkpJ8brN25MgR9O/fH2lpadiyZQsWLFiAG264Ac2bN8fhw4fd/4GriQHdQZXhK2D/+6MI6L/5Dmf/+nQxTMvGhF/VG6aIiGRRoUcEe//Yhx9+GMnJyVixYgXWrVuHf//732jQoAG2b98e8HuqHNAffRR40vhEBPS77pJdDhGRds6kRyQnJ8M0TdSpUwcdOnTAwoULy57r3Lkz4uPjffafMGECWrdujcjISLRp08bnu+X5+fm47bbb0LhxY0RGRqJly5aIj4/H1q1bq/2zhQIDuoMKw1dQPuokAvqGWT6b+41fAdOy8fHCTZIKIyJSjwo9Itj7xzoVFxejfv36QZ32p3JAf/BBoI/xngjolZwOSUREZ0blHiEDA7qDCsNXUEZ3EQF9zfc+m1//cS1My8aQaZmSCiMiUk9N7xFncnEdp8OHD6NevXr48ccfK9ynsLDQ50q8mZmZyg5f994LDDCGiID++OOyyyEi0g4DenAY0B1q+vAVtC/vFgF9he+tB5IXZMG0bPT/bqWkwoiI1F1QjA0AACAASURBVFPTe8SZ3D/W6ZlnnsHll1+OgoKCCvfxeDx+72mr4vB1553A68bLIqA/+6zscoiItMOAHhwG9JNGjhyJuLg4xMbG1ujhK2jjHhYBPX20z+bxS3NgWjYe+yy4CwEREZ3NVAnowdw/9nRDhw7FBRdcgFWrVlW6n05H0P/2N+Bt4/9EQH/xRdnlEBFphwE9OAzoDjV9+AraxCdEQE8b6bN5ztpdMC0bd/3vZ0mFERGpp6b3iOqc4v7WW2+hQYMGSE9Pr3Q/f1Qevjp3Bj4weomA/uqrssshItKOyj1CBgZ0h5o+fAXth2dFQF84zGfzspwDMC0bf3pznqTCiIjUo0KPCPb+sQAwbNgwREdHY9GiRWf0nioPXzfcAHxuPCoC+rBhVf8BIiIKiso9QgYGdAcVhq+gTPuvCOhzX/PZnLPvGEzLRpuXZ0gqjIhIPSr0iGDvHzt06FDUqVMHEydOxM6dO8uWI0eOBPyeKg9fHToA3xn3i4A+cmTVf4CIiIKico+QgQHdQYXhKyizE0RAnzHQZ/ORwhMwLRumZeNY0QlJxRERqUWVHhHM/WNN0/R7wTePxxPw+6k8fLVrB9jGHSKgf/aZ7HKIiLSjco+QgQHdQZXhK2ALkkRAn9rXZ7PX60XsoOkwLRtb9x+TVBwRkVq06xEuUXn4io0F5ht/EQF9/HjZ5RARaUflHiEDA7qDdsPXLyNEQJ/0VLmnbhgyF6ZlY8XWgxIKIyJSj3Y9wiUqD18xMcBio6MI6FOnyi6HiEg7KvcIGRjQHbQbvpZ8IgL6+H+Ve+rO93+GadmYt26XhMKIiNSjXY9wicrDV7NmwGqjnQjoc+fKLoeISDsq9wgZGNAdtBu+ln8lAvrX95d76tHRS2BaNr5N3yqhMCIi9WjXI1yi8vDVqBGQZVwuArrj/vFERFR9KvcIGRjQHbQbvjImioA+5u/lnnr+2xUwLRsf/rRJQmFEROrRrke4ROXhq359INdoJgL6ihWyyyEi0o7KPUIGBnQH7Yav9dNFQP/k5nJPJdprYVo2Eu21EgojIlKPdj3CJSoPX3XqAAeNBiKgb9gguxwiIu2o3CNkYEB30G742jRfBPTk68s99eFPm2BaNp7/lkcMiIgCoV2PcImqw5fXK3J5kREpVhSrn4hIBar2CFkY0B20G75yFouA/l77ck99m74VpmXj0dFLJBRGRKQe7XqES1Qdvo4fB84xjotwbhjA/v2ySyIi0o6qPUIWBnQH7YavHatEQH8rttxT89btgmnZuPP9nyUURkSkHu16hEtUHb6OHgXqG4dOBfSCAtklERFpR9UeIQsDuoN2w9feLBHQh7Qo99SKrQdhWjZuGMLbyhARBUK7HuESVYev/fuBJsZOwDDgrVVLnPNORESuUrVHyMKA7qDd8JW3TQT01xqVe2rr/mMwLRuxg6bDy6GEiKhK2vUIl6g6fO3cCVxqbBYBPSpKdjlERFpStUfIwoDuoN3wdWy/COieaKD4hO9TRSdgWjZMy8aRwhMVvAAREZXSrke4RNXhKycHaGtkiNPbGzeWXQ4RkZZU7RGyMKA7aDd8Hc8/FdALD5d7uvXL02FaNnL2HZNQHBGRWrTrES5RdfjauBH4o7FEBHTTlF0OEZGWVO0RsjCgO2g3fHm9pwL6kd3lnv7Tm/NgWjaW5RyQUBwRkVq06xEuUXX4WrMG6GwsEAE9Lk52OUREWlK1R8jCgO6g5fD1RhMR0A9sKfdUt//9DNOyMWftrvDXRUSkGC17hAtUHb6WLwduN6aJgH7NNbLLISLSkqo9QhYGdActh6+kGBHQd68r99Rjny2BadkYvzRHQmFERGrRske4QNXha/Fi4D5jggjof/6z7HKIiLSkao+QhQHdQcvh650rRUDfvqzcU//37UqYlo3kBVkSCiMiUouWPcIFqg5fCxcCjxhfiIDepYvscoiItKRqj5CFAd1By+Hr/WtEQN/yS7mnhkzLhGnZeP3HtRIKIyJSi5Y9wgWqDl9z5gBPGx+KgH7PPbLLISLSkqo9QhYGdActh68PbxQBfeOcck999NMmmJaNfuNXSCiMiEgtWvYIF6g6fE2bBjxvvCMC+j//KbscIiItqdojZGFAd9By+Pr0byKgr/2h3FMTft0G07Lxr08XSyiMiEgtWvYIF6g6fE2eDAwy3hABvWdP2eUQEWlJ1R4hCwO6g5bD1xd3iYC+6ttyT81ftxumZeOOESkSCiMiUouWPcIFqg5f48cDg42BIqD37Su7HCIiLanaI2RhQHfQcvj65kER0H8dU+6pVdsOwrRsXDd4bvjrIiJSjJY9wgWqDl9ffgm8a/QVAX3gQNnlEBFpSdUeIQsDuoOWw9eEf4uAvuiDck9tO3AMpmWj1UvT4fV6JRRHRKQOLXuEC1QdvkaNAj42eoqA/sYbssshItKSqj1CFgb0k0aOHIm4uDjExsbqN3x9/4wI6Clvl3sqv6gYpmXDtGwcKjguoTgiInUwoPun6vCVnAx8ZfxTBPR33pFdDhGRllTtEbIwoDtoOXzZ/UVAn5fo9+m4V2bAtGxs2Xs0zIUREalFyx7hAlWHr3ffBSYa94qA/uGHssshItKSqj1CFgZ0By2Hr1kvi4A+8yW/T980dB5My8av2fvDXBgRkVq07BEuUHX4GjoUmG50FQH9iy9kl0NEpCVVe4QsDOgOWg5f84eIgP7j836fvmvkLzAtG7PW7AxzYUREatGyR7hA1eHr9deBn4xOIqB/953scoiItKRqj5CFAd1By+Hr5+EioE/u5ffpx8cshWnZ+GZJTpgLIyJSi5Y9wgWqDl8vvwwsNa4VAd22ZZdDRKQlVXuELAzoDloOX4s/EgH9u3i/T7/w3UqYlo2R87PCWxcRkWK07BEuUHX4evFFYI1xpQjo8+fLLoeISEuq9ghZGNAdtBy+ln0hAvrYB/w+/eb0dTAtG69OXRPmwoiI1KJlj3CBqsNX377Ab0aMCOiLF8suh4hIS6r2CFkY0B20HL5WTxAB/fM7/T79ycLNMC0bfcYtD3NhRERq0bJHuEDV4at3b2CX8TsR0Fevll0OEZGWVO0RsjCgO2g5fGX+KAL6qL/6fXrSsm0wLRv/HMWjB0REldGyR7hA1eHriSeAw8b5IqBv2iS7HCIiLanaI2RhQHfQcvjKmisC+gc3+n16wfrdMC0bXd9LCXNhRERq0bJHuEDV4euRf3lRbNQWAX3HDtnlEBFpSdUeIQsDuoOWw1d2mgjoI/7g9+mM7XkwLRsdB88Jc2FERGrRske4QNXh6+H7CkU4NwwgL092OUREWlK1R8jCgO6g5fCVu0IE9Lfb+H/6YD5My8YVL02D1+sNc3FEROrQske4QNXh6593HDgV0I8fl10OEZGWVO0RsjCgO2g5fO1ZLwL6my39Pl1wvBimZcO0bOTlc0AhIqqIlj3CBaoOX4/csh0wDJREnCO7FCIibanaI2RhQHfQcvg6mCMC+hu/q3CXtgkzYVo2Nu85EsbCiIjUomWPcIGqw9ejN2wEDANF50bLLoWISFuq9ghZGNAdtBy+ju4VAd0TDZSU+N2l07D5MC0b6Vv2h7k4IiJ1aNkjXKDq8PXYH1YChoH8hk1ll0JEpC1Ve4QsDOgOWg5fRUdPBfSio353uTv5F5iWjRkZO8NcHBGROrTsES5Qdfh64so0wDBwtOllskshItKWqj1CFgZ0By2Hr5KSUwH96F6/uzzxeTpMy8bYxTlhLo6ISB1a9ggXqDp8PX3FXMAwcDimnexSiIi0pWqPkIUB3UHb4ev1xiKgH9zq9+kXJ6yCadl4f+7GMBdGRKQObXtENak6fD3TYipgGDjUpqPsUoiItKVqj5CFAd1B2+HrzZYioO/Z4PfpoTPWwbRseH5YE+bCiIjUoW2PqCZVh68+TcYDhoG8P/xFdilERNpStUfIwoDuoO3w9XYbEdBzV/h9elTKZpiWjWe/WR7mwoiI1KFtj6gmVYev/hd+BhgGDt54h+xSiIi0pWqPkIUB3UHb4WvEH0RAz07z+/T3y7fDtGw8PGpRmAsjIlKHtj2imlQdvgbUHykC+t/ul10KEZG2VO0RsjCgO2g7fH3wJxHQN83z+/TCDXtgWja6vLswzIUREalD2x5RTaoOXwnnDhOnuHd/VHYpRETaUrVHyMKA7qDt8DXqryKgr7P9Pr0mNw+mZePaxDlhLoyISB3a9ohqUnX4Sox8VVwk7uFeskshItKWqj1CFgZ0B22Hr8/vFAF99QS/T+/MK4Bp2bhs4DSUlHjDXBwRkRq07RHVpOrwNay2JW6z1vP/ZJdCRKQtVXuELAzoDtoOX2MfEAF92Rd+ny46UQLTsmFaNg4eKwpzcUREatC2R1STisNXSQkwwngOMAwc/b+XZZdDRKQtFXuETAzoDtoOX98+KgL64o8r3KWdZyZMy0bW7iNhLIyISB3a9ohqUnH4KiwERhlPAIaBgoQhssshItKWij1CJgZ0B22Hr8m9RED/+d0Kd+k8bD5My8aS3/aHsTAiInVo2yOqScXh6/BhYKzxEGAYKBpWcW8kIqLqUbFHyMSA7qDt8PXj8yKgz6/4KMG9H6TCtGxMX70jjIUREalD2x5RTSoOX3v3At8b3QHDQMmHFZ9dRkRE1aNij5CJAd1B2+Fr5ksioM+q+Ht2T36RDtOy8dWi7DAWRkSkDm17RDWpOHzl5gKzjL8BhgF89ZXscoiItKVij5CJAd1B2+Fr3hsioNv9K9xlwKRVMC0b783ZGMbCiIjUoW2PqCYVh68tW4CfjRtFQJ80SXY5RETaUrFHyMSA7qDt8JXytgjoU56pcJdhM9fBtGwkTMkIY2FEROrQtkdUk4rD14YNwDLjDyKgz5ghuxwiIm2p2CNkYkB30Hb4WvSBCOgT/l3hLqNSNsO0bHQf+QvSNu1DMe+HTkTkQ9seUU0qDl+rVwPrjNYioC9cKLscIiJtqdgjZGJAd9B2+EofLQL6R52A31KAkmKfp2dk7ED7V2eV3QvdtGxcP2QuZmTwgnFERKW07RHVpOLw9euvQI7RQgT09HTZ5RARaUvFHiETA/pJI0eORFxcHGJjY/Ubvtb+ALxpioBeurzTRmyHCOcxpwXz0iXm5MKQTkQkMKD7p+LwlZYG7DUaiYC+dq3scoiItKVij5CJAd1Bu+Fr7Q+Ap4FvOPdEn9zWAMVrpuD6IXPLhfPTQ/r1Q+bydHciImjYI1yi4vC1YAFwzDhXBPQtW2SXQ0SkLRV7hEwM6A5aDV8lxeJIeblwfiqkFw5tjUutqRUG9NIlbdM+2T8NEZF0WvUIF6k4fM2aUSLCuWEAu3fLLoeISFsq9giZGNAdtBq+fkupJJyfWnoMHFZlQJ+yYjsAoLjEi7RN+zBlxXZeSI6Izjpa9QgXqTh8TZtw7FRAP3JEdjlERNpSsUfIxIDuoNXwtXpCQAH9uYEvVRnQR8zdiOmrd5Q7HZ4XkiOis4lWPcJFKg5fP47ZeyqgFxdX/QeIiOiMqNgjZGJAd9Bq+ArwCHrvxPcQY9m41JqKHgOH4bmBL6HHwGEBnfru70JyPMpORLrSqke4SMXha8r7OYBhoKh2XdmlEBFpTcUeIRMDuoNWw1fZd9D9XSTu1LL56374z8BByE2I8dmemxCDpwcm4Kkvl1YZ0ksvJDcjI7Cj7AzxRKQirXqEi1QcviYPWQcYBg5HXiC7FCIiranYI2RiQHfQbvgqu4q7M6T7PvaeXE7fVuKJhtfTAOvnf10Wtis7yv7u7A0B3a4t0BAPMMgTUc2iXY9wiYrD16RBywDDwN56zWWXQkSkNRV7hEwM6A5aDl9rfyh/Nfd34sT2tVOBVxtWeqX3Y0mxuNSaiqcGJvg9yv7UwISAToW/fshcTFsV+D3XeTSeiGoaLXuECwIZvrxeL44fP46CgoIasfyQ8AsKTBM5V3aWXks4luPHj8PrZX8kovBjQA8OA7qDtsNXSbH4TvrqCeJ/S05eECfA76m//dLjKEmIRkmC4yj7yW2nh/TKjrK3TZgZ8Knybh6NDyTEM+gTUVW07RHVVNXwVVRUhOzsbGRmZtaY5deflyFzxgysnjVPei3hWrKzs1FUVBTmfx1EdLZjQA8OA7rDWTd8BXil9yLPhfAm+H+uJCEaOzyXBnWUvbIQ/3naFvwxcU6F+wV7ND6QEM+gT0SBOOt6RIAqG75KSkqwfv16ZGVlIS8vD/n5+dKPJhcUFGDXxl0oSE9H3vI10msJ9ZKfn4+8vDxkZWVh/fr1KCkpkfCvhIjOVgzowWFAdzjrhq8Aj6C7eZQ90BBf1X6lR+MDCfHOfS47uc+MjB2uHq13+/v1/ECAqGY563pEgCobvgoKCpCZmYljx45JqKxiBzbtA9LTkb9yvexSwubYsWPIzMxEQUGB7FKI6CzCgB4cBnSHs274qvJK7w2AwRcHFNBLPNGVHmXf6bkUvQa+UmWIv/KVGXhqYIIrYT920PRK9/lj4mxcNzjwo/VuBH3AvbAf7iP/bn5gwA8WSEVnXY8IUCABvaaFwgMb9wDp6Ti2eqPsUsKmpv5dEJHeGNCDw4DucFYOX5Ve6b0BsCDJtaPsJzwNKw3xuz0x+CVzO3ITYsqF89P3y00ILOy7FfTbvFx10O8YQNA//fv1gYT9mnTk380PDFT9YIEfPtBZ2SMCoGRAX79LBPSMTbJLCZua+ndBRHpjQA8OA7rDWTt8VXal90COsie1dC3Ee6u4b3vpkpfQtNKwn5sQgx01LOg/8FEq2rw8o9L9rn51Jtq/NqvCfZ4emICOg+fgusFzXT3yH459AAS1358Gz/LZ50+DZ0n7YIEfPtTcmsLprO0RVVAxoB9ctwNIT8fRNVtklxI2NfXvgoj0xoAeHAZ0h7N6+KroSu9AWI+yh3s5lNAkbEG/NMSH6wOBVi9VfuS/XcIMXOWZWek+HV6fhWvemF3pBwbXnfzAoLJ9rh8yF0UnSnD9kKr3m7ZqB56uZJ9wf7AQig8fatIHC25++KDq1zcCdVb3iEqEJaAXFwMLFgDffCP+t7i4qj9RqYNrt4uAnpnj9/n4+HgYhlFuycrKKvf8Oeecg0svvRT9+/fH0aNHq1WXPx6PB+3bt6/26zCgE5EMDOjBYUB34PBVieoeZR96WWChed5g6aH9TJZjCY0r/w5+gol/fzwvgNP3w3vkP5z7/G34TwHt99zLr1a6z/Oe1/D7Ss4yeGpgAq59YzauTZxT7Q8WQvHhQ036YMHNDx9k1BTIWRZV7RMM9gj/3Ajo3hIvju06jCM5+3Bs12F4T/8gZdIk4JJLAMMoW0qaXQzvhInBvc5p+xxeuUkE9NWb/O4THx+Prl27YufOnT5L8ckPBk5/fuvWrRg7dizOPfdc9OrVq6pfV5lAb3nGgE5EKmNADw4DugOHrypU5yh7xvdVh/h34oATRe6FfY2XYwkXVfiBgDchGgcTmlb5NYDdCZdgV0JLFz4wCOxDhcutKdp+QHHzWwsC2q91FdczuMozs8qzGn7/2qwqP6C45vXZVZ75UHrtBDc+fHDrw45APxAJ9CyLqvYJlio9Ijk5GTExMahbty46dOiAlJSUSvefOHEi4uLiUKdOHcTFxWHy5MlBvV91A/qRbQdQlL4KSE8vW4rSV+HItgMinNeqBe9p4bx08Rq1kP/JF4G9ThD7ACKAd+/evcKa/T3/5JNPomnTphX+GdM08cYbbyA+Ph7R0dF49NFHAQAvvvgiWrVqhXPPPReXXnopXn75ZRw/fhwAMGbMmHJH8ceMGQMAyMvLQ8+ePdG4cWPUr18fN998M1auXFnh+zOgE5EMZxLQ3e5jXq8XHo8HzZo1Q7169dC5c2esWbPmjH6eUGNAd1Bl+KqxKjvKXvp8ZSE+0P0CCftvtwHeaVPhd9q9DPphX3YmtnXttar68GFnQgvsSWhR6T47Elq68uHD7oSW6D5gOPYmXFLF1yVq3gcLwXyoUJNqeraKsyz6vPIq+iZUvo/1RmLQp7ur0CPGjx+PyMhIjBo1CpmZmejbty+ioqKQk+P/VO60tDRERERgyJAhWLduHYYMGYJzzjkHixcvDvg9gwroXi9w9GjZcmTDNnhTUuBNSQFOW7wpKfAuWICSps38hnMR0A14f/c7HMnMrvx1UlJwZMM2HNm6H970dHhPC+c4+dibnu4T0s8koD/33HNo1KhRhX/GNE1ER0fjrbfeQlZWVtnp8m+88QZSU1OxZcsWTJ06FU2aNMHQoUMBAPn5+ejfvz/atm1bdhQ/Pz8fXq8XN954I7p164b09HRs3LgR/fv3R6NGjbB//36/78+ATkQyBBvQQ9HHkpKSUL9+fUyaNAkZGRno0aMHmjVrhsOHD7vyM7qJAd1BheGrxqvsKDtQdYgPdL9Awv7JfZwh3Ssr6P/0lmsBlYuaS0FCo0pD/P6Ei3Eg4eIqzo5oUukHFN6EaBxIaFbp65z6gMIM45kPNW2fS5G2cXdQ/3lToUd07Nix3GnWbdq0wYABA/zu/8ADD6Br164+27p06YIHH3ww4PcMKqAfPeo3bIdjKUpZVC6cnx7Si9JXlZ3uHh8fj4iICERFRZUt999/f9nP5QzoS5YsQaNGjfDAAw9U+HsyTRN33313lb/PYcOG4Zprril77O8U93nz5iE6OhqFhYU+2y+//HJ8/PHHfl+XAZ2IZAg2oLvdx7xeL5o2bYqkpKSy5wsLC9GgQQN89NFHwfwoYcGA7qDC8KWFqkJ8oPsFEvZrStA/7fT9SsO+zkf+Jzwuv4YQLd7EptJrCNVS+Jq+P9vPsycH9Z+umt4jioqKEBERUe7Uvj59+qBTp05+/0yLFi0wfPhwn23Dhw9Hy5YtK3yfwsJCHDp0qGzJzMxUIqAjJcVvOD99ObZLHE2Jj4/HrbfeWnakOysrCzt2nPpaxOkBvm7duqhduzbuuece7N5d8Yc+pmkiMTGx3PYJEybgxhtvRJMmTcper3HjxmXP+wvow4YNQ+3atX0+QIiKikLt2rXx4osv+n1/BnQikqE0oGdmZvr0DucHjEBo+tjmzZthGAaWL1/us89dd91V9lWjmoQB3aGmD1/kRyBhv6YE/dP2qzDsh/PIfzj3CeIDivykVpUe+SwcbEoPduWWtJHya+AS9LJhzmdB/eempveI3NxcGIaB1NRUn+2DBw9GbGys3z8TGRmJsWPH+mwbO3Ys6tSpU+H7eDwev1c4D/YU9yPrcnxORy+3jBgRWPAeMaLy1yldli6tMqAfydkHILBT3EsDfHZ2dtl3xitjmibeffddn22LFi1CREQEEhMTy05Vf/3119GgQQOf37czoCclJaF58+Y+HyCULnv37vX7/gzoRCRDaUB3Lh6Pp9y+oehjqampMAwDubm5Pvv07NkTt912WzV+stBgQHeo6cMXhVC4gn6g+4XjyH+49zmt7qpey+tpgBJHmCop3e/kBxTKffig6pkPMwfJryFES/HmhUH9Z6Km94jSwSYtLc1ne2JiIlq3bu33z0RGRuKbb77x2fb111+jbt26Fb5PtY6gn+bYrsOVB+bFi4Hf/a7ycN6kidiviuAd6HL6EfRgv4NeFX8B/e2338Zll13ms+2JJ57wCeiDBw9Gu3btfPaZPXs2IiIisGXLloDfnwGdiGQI5gh6KPpYaUA//SwoQFzYs0uXLtX50UKCAd2hpg9fpAC3Tt8PZB83gn649wnitbyOfbx+PqBQ6sOHmvbBgstnPoRzn6rOssh/s1XV+yTFVvz/zwrU9B4RrlPcnc70Ku7eEq/43ncl3ws/PvQdeA3/V3GHYcA7dCiK0ldV+TqB7nP6d9DDEdCnTJmCc845B+PGjcOmTZswYsQIXHjhhT4BfezYsYiKisKKFSuwd+9eFBYWwuv14qabbkL79u0xc+ZMbNmyBampqRg0aBDS09P9vj8DOhHJEMx30HmKOwN6OTV9+CIqx42gH+593HotFT98qGkfLLh85kM496n0LItA9wmSCj2iY8eO6N27t8+2uLi4Si+uc/vtt/ts69q1a+guEudwZNuBKq+snv/JF/A6j6Q3aQLv0KFl+wTyOoHsUypcAR0A/vvf/6JRo0Y4//zz0aNHD7z77rs+Ab2wsBD33XcfGjZsiNNvs3b48GE899xzuPjiixEZGYkWLVrgn//8J7Zu3er3/RnQiUiGM7lInJt9rPQicaV3xwDEBwG8SJwiVBi+iOg0Kn74UNM+WAjnVzNc3qfSsywC3ScIKvSI0tvTjB49GpmZmejXrx+ioqKQnZ0NAHjkkUd8hpzU1FREREQgKSkJ69atQ1JSUmhvs+ZHQPcvz96L4x99CiQmAh99BCxefEb3OA/0Pug6YkAnIhnO9DZrbvaxpKQkNGjQAJMnT0ZGRgYeeugh3mZNFSoMX0SkgZr2wUI4z3yoifsESJUekZycDNM0UadOHXTo0AELF576rn3nzp0RHx/vs/+ECRPQunVrREZGok2bNpg0aVJQ71fdgA6I092P7TqMIzn7cGzX4bJTzWXtoyMGdCKSIdiADrjfx7xeLzweD5o2bYq6deuiU6dOyMjIqNbPFSoM6A6qDF9ERBR+7BH+uRHQKfT4d0FEMpxJQD+bMaA7cPgiIqKKsEf4x4CuBv5dEJEMDOjBYUB34PBFREQVYY/wjwFdDfy7ICIZGNCDw4DuwOGLiIgqwh7hHwO6Gvh3QUQyMKAHhwHdgcMXERFVhD3Cv0ACen5+voTK6HT5+fkM6EQUdgzowWFAd+DwRUREFWGP8K+y4au4uBiZmZnYt2+fhMrodPv27UNmZiaKi8/8TgZERMFiQA8OA7oDhy8iIqoIe4R/VQ1fO3bsKAvp+fn5KCgo4BLGJT8/vyyc79ixI8z/OojobMeAHhwGdAcOX0REVBH2CP+qGr68Xm9ZSOcib9mxYwe83rPjnu9EVHMwoAeHAd2BwxcREVWEyS9qWwAAD09JREFUPcK/QIev4uJi6UeTz9aFp7UTkSwM6MFhQHfg8EVERBVhj/CPwxcREVWEPSI4DOgOHL6IiKgi7BH+cfgiIqKKsEcEhwHdgcMXERFVhD3CPw5fRERUEfaI4DCgO3D4IiKiirBH+Mfhi4iIKsIeERwGdIe8vLyyf0CHDh3iwoULFy5cypbSISMvL092u6pRcnJyYBgGli5dim3btnHhwoULFy5ly9KlS2EYBnJycmS3KyUwoDts2yaGLy5cuHDhwqWiZds2HgU4XenwxYULFy5cuFS0LF26VHa7UgIDukNJSQm2bduGvLw8V46ybNum1pF41s26dayZdbNut2rOy8vDtm3bUFJSIrtd1SgnTpzA0qVLkZOTU62jLJmZmTAMA5mZmdKP+Ohet4o1s27WrXPdKtYcaN05OTlYunQpTpw4IbtdKYEBPUQOHVLze4qsO7xUrFvFmgHWHW4q1q1izbpR9e9AxbpVrBlg3eHGusNHxZoBdeuuyRjQQ0TVf6ysO7xUrFvFmgHWHW4q1q1izbpR9e9AxbpVrBlg3eHGusNHxZoBdeuuyRjQQ0TVf6ysO7xUrFvFmgHWHW4q1q1izbpR9e9AxbpVrBlg3eHGusNHxZoBdeuuyRjQQ6SwsBAejweFhYWySwkK6w4vFetWsWaAdYebinWrWLNuVP07ULFuFWsGWHe4se7wUbFmQN26azIGdCIiIiIiIqIagAGdiIiIiIiIqAZgQCciIiIiIiKqARjQiYiIiIiIiGoABvQQSU5ORkxMDOrWrYsOHTogJSVFdkmV8ng8MAzDZ2nSpInssspZuHAh7rzzTjRr1gyGYeD777/3ed7r9cLj8aBZs2aoV68eOnfujDVr1kiqVqiq5vj4+HK/++uuu05StacMGTIE1157Lc4//3w0btwY3bt3x/r16332KSwsxLPPPotGjRrhvPPOQ7du3bBt2zZJFQdWc+fOncv9vnv06CGpYuGDDz7AVVddhfr166N+/fq4/vrrMX369LLna9rvuVRVddfE37XTkCFDYBgG+vbtW7atpv6+dce+GRoq9k1Azd6pYt8E2DvDjb2TqsKAHgLjx49HZGQkRo0ahczMTPTt2xdRUVHIycmRXVqFPB4P2rZti507d5Yte/bskV1WOdOnT8egQYMwadIkvw07KSkJ9evXx6RJk5CRkYEePXqgWbNmOHz4sKSKq645Pj4eXbt29fnd79+/X1K1p3Tp0gVjxozBmjVrsHLlSvz9739Hy5YtcfTo0bJ9evXqhebNm2POnDlYvnw5br75ZrRv3x7FxcU1tubOnTujZ8+ePr/vvLw8KfWWmjp1KqZNm4YNGzZgw4YNeOmllxAZGVk2JNe033OgddfE3/Xpli5dipiYGFx99dU+Q0ZN/X3rjH0zdFTsm4CavVPFvhlo3TXxv+fsnXKwd4YeA3oIdOzYEb169fLZ1qZNGwwYMEBSRVXzeDxo37697DKC4mzYXq8XTZs2RVJSUtm2wsJCNGjQAB999JGMEsupaMjo3r27pIoCt2fPHhiGgYULFwIA8vLyEBkZifHjx5ftk5ubi9q1a2PmzJmyyvThrBkQje/0hlJTXXDBBfj000+V+D2frrRuoGb/ro8cOYJWrVphzpw5PnWq9vvWBftmeKjYNwF1e6eKfRNg75SBvZNOx4DusqKiIkRERGDy5Mk+2/v06YNOnTpJqqpqHo8H5513Hpo1a4aYmBj06NEDmzdvll1WpZwNe/PmzTAMA8uXL/fZ76677sKjjz4a7vL8qmjIaNCgARo3boxWrVrhySefxO7duyVVWLGsrCwYhoGMjAwAwLx582AYBg4cOOCz39VXX42EhAQZJZbjrBkQje+iiy5Co0aNcOWVV6J///7SjxSdrri4GOPGjUOdOnWwdu1aJX7PQPm6gZr9u3700UfRr18/AL7DkCq/b52wb4aPin0TULd3qtg3AfbOcGLvJH8Y0F2Wm5sLwzCQmprqs33w4MGIjY2VVFXVpk+fjokTJ2L16tVln4o1adIE+/btk11ahZwNOzU1FYZhIDc312e/nj174rbbbgt3eX75GzLGjx8P27aRkZGBqVOnon379mjbti0KCwslVVme1+tFt27dcNNNN5VtGzt2LOrUqVNu37/97W946qmnwlmeX/5qBoBPPvkEc+bMQUZGBsaNG4eYmBjceuutkqo8ZfXq1YiKikJERAQaNGiAadOmAaj5v+eK6gZq7u963LhxaNeuHQoKCgD4Dhk1/fetI/bN8FGxbwJq9k4V+ybA3hku7J1UGQZ0l5UOGmlpaT7bExMT0bp1a0lVBe/o0aNo0qQJ3nnnHdmlVKiiQWPHjh0++z355JPo0qVLuMvzy9+Q4bRjxw5ERkZi0qRJYaqqas888wxM0/S52EdF/zG+9dZb8fTTT4ezPL/81ezPr7/+CsMwsGzZsjBV5l9RURGysrKQnp6OAQMG4KL/b+9eQqL63ziOnxR1BjPJNPJCWglmmy6E1SZKrVwYha26wKGgUDQxpEVlhbWpTTdQJDFzU9QiK7CgmyYUkZThVKCGhovuSahZbfz8FzFDo2Pa/5fOd6b3Cw7onFGf+S78PM9w5ntiY/XixQvj13m0un0xYa17eno0c+ZMPXv2zPPYeJoMU9Y7GJGbkycQc1MKzOwMxNyUyM7JQnbidxjQ/7JAvVTPl+zs7BGfCTRJIF6qN54mQ5JSU1O9PhPoT0VFRUpKSlJXV5fX4yZfzjRazb4MDQ2N+NyUCbKysrRr1y6j19kXd92+mLDW9fX1sixLoaGhnsOyLE2ZMkWhoaG6c+dOQK13MCA3J08g5qYUeNkZiLkpkZ3+RHbiVwzoEyAjI0MFBQVej6Wnpxu92c1w379/V2JiosrLy/1dyqhG2+zm+PHjnsd+/Phh1GY342kyPn36pIiICNXV1U1SVb4NDQ2psLBQCQkJ6ujoGHHevSHIpUuXPI+9efPGrxuCjFWzLy6Xa8RmOCbIzMyUbdtGrvPvuOv2xYS17uvrk8vl8jqWLl2qbdu2yeVyBdx6Bwtyc3IEYm5KgZOdgZibEtlpArITv2JAnwDu28XU1NTo5cuXKikpUWRkpF6/fu3v0kZVWlqqpqYmdXV16dGjR8rNzVVUVJRxNff396u1tVWtra2yLEsnTpxQa2ur51Y8x44dU3R0tK5cuSKXy6XNmzf7/XYxv6u5v79fpaWlevjwobq7u9XY2KgVK1YoMTHR7xuCFBQUKDo6Wk1NTV63+hgcHPQ8Jz8/X0lJSbpz546ePn2qzMxMv95SY6yaX716pfLycrW0tKi7u1sNDQ2aP3++Fi9e7NfbgOzbt0/Nzc3q7u5WW1ub9u/fr5CQEN26dUuSees8nrpNXWtfhu+Ya+p6BzNyc+IEYm6OVbep2RmIuTmeuk39f052+hfZOXEY0CdIRUWFkpOTFR4eriVLlhj3DuNw7vuehoWFKSEhQXl5eaN+FsafGhsbZVnWiMP9ruPQ0JAOHz6sWbNmKSIiQitXrvTahdS0mgcHB7V27VrFxcUpLCxMs2fPlm3b6unp8WvNknzWbFmWamtrPc/59u2bioqKFBMTI6fTqdzcXL/WPlbNPT09WrlypWJiYhQeHq558+apuLjY7/fO3bFjh+f/RVxcnLKysjwNhmTeOrv9rm5T19qX4U2Gqesd7MjNiRGIuSkFZnYGYm5KZOdkIzsxFgZ0AAAAAAAMwIAOAAAAAIABGNABAAAAADAAAzoAAAAAAAZgQAcAAAAAwAAM6AAAAAAAGIABHQAAAAAAAzCgAwAAAABgAAZ0AAAAAAAMwIAO4K+wLEv19fX+LgMAgIBBdgIYjgEdCAK2bcuyrBHHunXrJq0GmgwAQCAhOwGYiAEdCAK2bSsnJ0dv3771Onp7eyetBpoMAEAgITsBmIgBHQgCtm1rw4YNo563LEuVlZXKycmRw+FQSkqKLl++7PWctrY2rV69Wg6HQzExMdq5c6f6+/u9nlNTU6MFCxYoPDxcs2bNUmFhodffqK6u1saNG+V0OpWamqpr1655zvf29mrLli2KjY2Vw+FQamqqzp0795dWAACAP0N2AjARAzoQBMbTZMyYMUPV1dVqb29XWVmZQkND9fLlS0nS169flZCQoLy8PLlcLt29e1dz5syRbdue31FZWSmHw6FTp06pvb1djx8/1smTJ73+RlJSki5cuKDOzk4VFxdr6tSp+vz5sySpsLBQixYtUktLi7q7u3X79m1dv359YhYEAIAxkJ0ATMSADgQB27YVGhqqyMhIr+PIkSOSfjYA+fn5Xj+zbNkyFRQUSJLOnj2r6dOna2BgwHO+oaFBISEhevfunSQpISFBBw4cGLUGy7JUVlbm+X5gYEBTpkzRzZs3JUnr16/X9u3b/84LBgDgPyI7AZiIAR0IArZtKzs7W52dnV6H+x14y7JUV1fn9TMlJSVatWqVJGnPnj2er92+fPkiy7J0//59vX//XpZl6d69e6PWYFnWiEv/pk2b5vm7N27ckNPp1MKFC7V37149ePDgP79uAAD+X2QnABMxoANBYDyX6flqMlavXj3iazd3k9Hc3Ky+vr5xNRnDN7qJjo5WbW2t5/sPHz6otrZWW7dulcPhUGlp6XhfIgAAfxXZCcBEDOhAEBhPk+G+JM9t+fLlf3SZXkpKypiX6Y3VZPyqqqpKUVFRv31dAABMFLITgIkY0IEgMNqtYj5+/CjpZwMQGxurmpoatbe369ChQwoJCdGLFy8k/dzoJj4+Xps2bZLL5dK9e/c0d+5cr41uzp8/L4fDodOnT6ujo0NPnjzRmTNnPOfHajIOHjyoq1evqrOzU8+fP1dubq4yMjImdmEAABgF2QnARAzoQBCwbVuWZY040tLSJP1sACoqKrRmzRpFREQoOTlZFy9e9Pod47lVTFVVldLS0hQWFqb4+Hjt3r3bc26sJuPo0aNKT0+X0+lUTEyMNmzYoK6urglYDQAAxkZ2AjARAzrwD/DVAAAAgNGRnQD8gQEd+AfQZAAA8GfITgD+wIAO/ANoMgAA+DNkJwB/YEAHAAAAAMAADOgAAAAAABiAAR0AAAAAAAMwoAMAAAAAYAAGdAAAAAAADMCADgAAAACAARjQAQAAAAAwAAM6AAAAAAAGYEAHAAAAAMAADOgAAAAAABiAAR0AAAAAAAMwoAMAAAAAYAAGdAAAAAAADMCADgAAAACAARjQAQAAAAAwwP8ALSp6imoOR6gAAAAASUVORK5CYII=\" width=\"1000\">"
      ],
      "text/plain": [
       "<IPython.core.display.HTML object>"
      ]
     },
     "metadata": {},
     "output_type": "display_data"
    }
   ],
   "source": [
    "dual_train_plots(results.index,\n",
    "                 results.cost, results.val, \n",
    "                 results['eff_val'].apply(lambda x: x.eff_rate),\n",
    "                 results['eff_val'].apply(lambda x: x.fp_rate))\n",
    "plt.tight_layout()\n",
    "plt.savefig(str(output / f'{name}_stats_a.png'))"
   ]
  },
  {
   "cell_type": "code",
   "execution_count": 19,
   "metadata": {},
   "outputs": [
    {
     "name": "stderr",
     "output_type": "stream",
     "text": [
      "ERROR:root:Invalid alias: The name clear can't be aliased because it is another magic command.\n",
      "ERROR:root:Invalid alias: The name more can't be aliased because it is another magic command.\n",
      "ERROR:root:Invalid alias: The name less can't be aliased because it is another magic command.\n",
      "ERROR:root:Invalid alias: The name man can't be aliased because it is another magic command.\n"
     ]
    }
   ],
   "source": [
    "quit()"
   ]
  },
  {
   "cell_type": "code",
   "execution_count": null,
   "metadata": {},
   "outputs": [],
   "source": []
  }
 ],
 "metadata": {
  "kernelspec": {
   "display_name": "Python [conda env:anaconda] *",
   "language": "python",
   "name": "conda-env-anaconda-py"
  },
  "language_info": {
   "codemirror_mode": {
    "name": "ipython",
    "version": 3
   },
   "file_extension": ".py",
   "mimetype": "text/x-python",
   "name": "python",
   "nbconvert_exporter": "python",
   "pygments_lexer": "ipython3",
   "version": "3.7.3"
  }
 },
 "nbformat": 4,
 "nbformat_minor": 2
}
