{
 "cells": [
  {
   "cell_type": "code",
   "execution_count": null,
   "metadata": {},
   "outputs": [],
   "source": [
    "import matplotlib.pyplot as plt\n",
    "import numpy as np\n",
    "import sys\n",
    "from tqdm import tnrange\n",
    "from pathlib import Path"
   ]
  },
  {
   "cell_type": "code",
   "execution_count": null,
   "metadata": {},
   "outputs": [],
   "source": [
    "sys.path.append('../model')"
   ]
  },
  {
   "cell_type": "code",
   "execution_count": null,
   "metadata": {},
   "outputs": [],
   "source": [
    "from efficiency import ValueSet, efficiency\n",
    "from models import SimpleCNN2Layer as Model\n",
    "from training import select_gpu\n",
    "from collectdata import collect_data\n",
    "import torch\n",
    "from loss import Loss"
   ]
  },
  {
   "cell_type": "code",
   "execution_count": null,
   "metadata": {},
   "outputs": [],
   "source": [
    "folder = Path('Aug_16_120000_2layer')\n",
    "name = 'Aug_16_120000_2layer'\n",
    "\n",
    "#folder = Path('../model/output3')\n",
    "#name = '20180815_120000_3layer'"
   ]
  },
  {
   "cell_type": "code",
   "execution_count": null,
   "metadata": {},
   "outputs": [],
   "source": [
    "#with np.load(folder / f'{name}_stats.npz') as stats:\n",
    "#    cost = stats['cost']\n",
    "#    eff_val = stats['eff_val']\n",
    "#    valid = stats['val']\n",
    "#    \n",
    "#eff_rate = np.empty(len(eff_val))\n",
    "#for n,s in enumerate(eff_val):\n",
    "#    eff_rate[n] = ValueSet(*s).eff_rate"
   ]
  },
  {
   "cell_type": "code",
   "execution_count": null,
   "metadata": {},
   "outputs": [],
   "source": [
    "device = select_gpu(0)\n",
    "model = Model()\n",
    "model.eval()\n",
    "model.to(device)\n",
    "loss = Loss()"
   ]
  },
  {
   "cell_type": "code",
   "execution_count": null,
   "metadata": {},
   "outputs": [],
   "source": [
    "batch_size = 32\n",
    "\n",
    "trainfile = Path('/share/lazy/schreihf/PvFinder/Aug_14_80K.npz')\n",
    "valfile = Path('/share/lazy/schreihf/PvFinder/Oct03_20K_val.npz')\n",
    "\n",
    "train_loader = collect_data(trainfile, batch_size=batch_size, device=device, shuffle=True)\n",
    "val_loader = collect_data(valfile, batch_size=batch_size, device=device, shuffle=False)"
   ]
  },
  {
   "cell_type": "code",
   "execution_count": null,
   "metadata": {},
   "outputs": [],
   "source": [
    "results = np.empty([6, 80])\n",
    "for i in tnrange(80):\n",
    "    model.load_state_dict(torch.load(folder / f'{name}_{i}.pyt'))\n",
    "    with torch.no_grad():\n",
    "        gpu_outputs = model(validation.dataset.tensors[0])\n",
    "        outputs = gpu_outputs.cpu().numpy()\n",
    "        labels = validation.dataset.tensors[1].cpu().numpy()\n",
    "        val_loss = loss(gpu_outputs, validation.dataset.tensors[1]).data.item()\n",
    "        \n",
    "        gpu_train_outputs = model(training.dataset.tensors[0])\n",
    "        train_outputs = gpu_train_outputs.cpu().numpy()\n",
    "        train_labels = training.dataset.tensors[1].cpu().numpy()\n",
    "        train_loss = loss(gpu_train_outputs, training.dataset.tensors[1]).data.item()\n",
    "    \n",
    "    train = ValueSet(0,0,0,0)\n",
    "    val = ValueSet(0,0,0,0)\n",
    "\n",
    "    for label, output in zip(labels, outputs):\n",
    "        val += efficiency(label, output, 5., 1e-2, .2, 3)\n",
    "\n",
    "    for label, output in zip(train_labels, train_outputs):\n",
    "        train += efficiency(label, output, 5., 1e-2, .2, 3)\n",
    "     \n",
    "    results[0, i] = train.eff_rate\n",
    "    results[1, i] = val.eff_rate\n",
    "    results[2, i] = train.fp_rate\n",
    "    results[3, i] = val.fp_rate\n",
    "    results[4, i] = train_loss\n",
    "    results[5, i] = val_loss"
   ]
  },
  {
   "cell_type": "code",
   "execution_count": null,
   "metadata": {},
   "outputs": [],
   "source": [
    "120000 / 32 "
   ]
  },
  {
   "cell_type": "code",
   "execution_count": null,
   "metadata": {},
   "outputs": [],
   "source": [
    "fig, ax = plt.subplots(figsize=(6,6))\n",
    "\n",
    "ax.set_title(name)\n",
    "ax.plot(results[4] / (10000 / 32), label='Training')\n",
    "ax.plot(results[5] / (10000 / 32), label='Validation')\n",
    "ax.set_ylim(-3,3)\n",
    "ax.set_yticks(np.linspace(0,3,4))\n",
    "ax.set_yticks(np.linspace(0,3,13), minor=True)\n",
    "ax.set_ylabel(format('Cost', '>40'))\n",
    "ax.set_xlabel('Epoch')\n",
    "ax.grid(which='both', axis='y')\n",
    "ax.legend()\n",
    "\n",
    "tax = ax.twinx()\n",
    "tax.plot(results[0])\n",
    "tax.plot(results[1])\n",
    "tax.set_ylim(0, 1.6)\n",
    "tax.set_yticks(np.linspace(0,.8,9))\n",
    "tax.set_ylabel(format('Efficiency', '<46'));\n",
    "tax.grid(axis='y')"
   ]
  },
  {
   "cell_type": "code",
   "execution_count": null,
   "metadata": {},
   "outputs": [],
   "source": [
    "fig, ax = plt.subplots()\n",
    "\n",
    "ax.plot(results[2], label='Training')\n",
    "ax.plot(results[3], label='Validation')\n",
    "\n",
    "ax.set_title(name)\n",
    "ax.set_ylabel('FP / event')\n",
    "ax.set_xlabel('Epoch')\n",
    "ax.legend();"
   ]
  },
  {
   "cell_type": "code",
   "execution_count": null,
   "metadata": {},
   "outputs": [],
   "source": []
  }
 ],
 "metadata": {
  "kernelspec": {
   "display_name": "Python 3",
   "language": "python",
   "name": "python3"
  },
  "language_info": {
   "codemirror_mode": {
    "name": "ipython",
    "version": 3
   },
   "file_extension": ".py",
   "mimetype": "text/x-python",
   "name": "python",
   "nbconvert_exporter": "python",
   "pygments_lexer": "ipython3",
   "version": "3.6.4"
  }
 },
 "nbformat": 4,
 "nbformat_minor": 2
}
