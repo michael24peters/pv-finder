{
 "cells": [
  {
   "cell_type": "code",
   "execution_count": null,
   "metadata": {},
   "outputs": [],
   "source": [
    "import torch\n",
    "import numpy as np\n",
    "\n",
    "# Device configuration\n",
    "device = torch.device(\"cpu\")"
   ]
  },
  {
   "cell_type": "code",
   "execution_count": null,
   "metadata": {},
   "outputs": [],
   "source": [
    "import matplotlib.pyplot as plt\n",
    "import matplotlib.animation as animation"
   ]
  },
  {
   "cell_type": "code",
   "execution_count": null,
   "metadata": {},
   "outputs": [],
   "source": [
    "from model.models import SimpleCNN2Layer as Model\n",
    "from model.collectdata import collect_data\n",
    "from model.core import modernize"
   ]
  },
  {
   "cell_type": "code",
   "execution_count": null,
   "metadata": {},
   "outputs": [],
   "source": [
    "model = Model()"
   ]
  },
  {
   "cell_type": "code",
   "execution_count": null,
   "metadata": {},
   "outputs": [],
   "source": [
    "name = ('Sep_18_mask_120000_2layer/Sep_18_mask_120000_2layer_{i}.pyt')\n",
    "\n",
    "def run_over(name, model, i):\n",
    "    state = torch.load(name.format(i=i))\n",
    "    state = modernize(state)\n",
    "    model.load_state_dict(state)\n",
    "    model.eval()\n",
    "    vals = model.state_dict()\n",
    "    return vals"
   ]
  },
  {
   "cell_type": "code",
   "execution_count": null,
   "metadata": {},
   "outputs": [],
   "source": [
    "fig, axs = plt.subplots(1,5, figsize=(18,3), sharey=True)\n",
    "lns = [0,0,0,0,0]\n",
    "for i, ax in enumerate(axs):\n",
    "    lns[i], = ax.plot(run_over(name, model, 33)['features.0.weight'].numpy()[i,0,:], '.')\n",
    "    ax.set_xlim(0, 24)\n",
    "    ax.set_ylim(-4, 4)\n",
    "fig.subplots_adjust(wspace=0)\n",
    "txt = axs[4].text(17, 3, \"Epoch 0\")"
   ]
  },
  {
   "cell_type": "code",
   "execution_count": null,
   "metadata": {},
   "outputs": [],
   "source": [
    "def plot_over(i):\n",
    "    vals = run_over(name, model, i)['features.0.weight'].numpy()\n",
    "    for j in range(5):\n",
    "        lns[j].set_data(np.arange(25), vals[j,0,:])\n",
    "    txt.set_text(f\"Epoch {i}\")"
   ]
  },
  {
   "cell_type": "code",
   "execution_count": null,
   "metadata": {},
   "outputs": [],
   "source": [
    "ani = animation.FuncAnimation(fig, plot_over, frames=range(33), interval=100, repeat_delay=2_000)\n",
    "ani.save('Sep_18_mask_120000_2layer_training.gif', dpi=80, writer='imagemagick')"
   ]
  },
  {
   "cell_type": "markdown",
   "metadata": {},
   "source": [
    "This animation is from the most recent version (it is really just a markdown image):\n",
    "\n",
    "![Sep_18_mask_120000_2layer_training](Sep_18_mask_120000_2layer_training.gif)"
   ]
  },
  {
   "cell_type": "markdown",
   "metadata": {},
   "source": [
    "You can also look at the FC:"
   ]
  },
  {
   "cell_type": "code",
   "execution_count": null,
   "metadata": {},
   "outputs": [],
   "source": [
    "d = run_over(name, model, 33)"
   ]
  },
  {
   "cell_type": "code",
   "execution_count": null,
   "metadata": {},
   "outputs": [],
   "source": [
    "plt.imshow(d['fc.weight'].numpy())\n",
    "plt.colorbar()"
   ]
  },
  {
   "cell_type": "markdown",
   "metadata": {},
   "source": [
    "We can look at a few places in the FC, for example 1000 to 3000 by 500's."
   ]
  },
  {
   "cell_type": "code",
   "execution_count": null,
   "metadata": {},
   "outputs": [],
   "source": [
    "for i in range(1000, 3000+1, 500):\n",
    "    plt.plot(range(-100,100), d['fc.weight'].numpy()[i,i-100:i+100])"
   ]
  },
  {
   "cell_type": "markdown",
   "metadata": {},
   "source": [
    "And, we can visualize a few weights from the first convolutional layer:"
   ]
  },
  {
   "cell_type": "code",
   "execution_count": null,
   "metadata": {},
   "outputs": [],
   "source": [
    "for i in range(5):\n",
    "    plt.plot(d['features.0.weight'].numpy()[i,0,:])"
   ]
  },
  {
   "cell_type": "code",
   "execution_count": null,
   "metadata": {},
   "outputs": [],
   "source": []
  }
 ],
 "metadata": {
  "kernelspec": {
   "display_name": "Python 3",
   "language": "python",
   "name": "python3"
  },
  "language_info": {
   "codemirror_mode": {
    "name": "ipython",
    "version": 3
   },
   "file_extension": ".py",
   "mimetype": "text/x-python",
   "name": "python",
   "nbconvert_exporter": "python",
   "pygments_lexer": "ipython3",
   "version": "3.7.3"
  }
 },
 "nbformat": 4,
 "nbformat_minor": 2
}
