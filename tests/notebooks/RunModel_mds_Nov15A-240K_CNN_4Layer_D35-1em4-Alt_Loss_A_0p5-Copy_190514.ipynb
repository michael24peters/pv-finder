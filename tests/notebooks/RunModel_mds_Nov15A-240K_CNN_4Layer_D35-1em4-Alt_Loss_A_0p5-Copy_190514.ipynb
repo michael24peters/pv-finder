{
 "cells": [
  {
   "cell_type": "code",
   "execution_count": 1,
   "metadata": {},
   "outputs": [],
   "source": [
    "##%matplotlib widget\n",
    "%matplotlib notebook"
   ]
  },
  {
   "cell_type": "markdown",
   "metadata": {},
   "source": [
    "Check the current GPU usage. Please try to be nice!"
   ]
  },
  {
   "cell_type": "code",
   "execution_count": 2,
   "metadata": {},
   "outputs": [
    {
     "name": "stdout",
     "output_type": "stream",
     "text": [
      "Tue May 21 10:17:01 2019       \r\n",
      "+-----------------------------------------------------------------------------+\r\n",
      "| NVIDIA-SMI 418.40.04    Driver Version: 418.40.04    CUDA Version: 10.1     |\r\n",
      "|-------------------------------+----------------------+----------------------+\r\n",
      "| GPU  Name        Persistence-M| Bus-Id        Disp.A | Volatile Uncorr. ECC |\r\n",
      "| Fan  Temp  Perf  Pwr:Usage/Cap|         Memory-Usage | GPU-Util  Compute M. |\r\n",
      "|===============================+======================+======================|\r\n",
      "|   0  TITAN V             Off  | 00000000:03:00.0 Off |                  N/A |\r\n",
      "| 28%   37C    P8    24W / 250W |      0MiB / 12036MiB |      0%      Default |\r\n",
      "+-------------------------------+----------------------+----------------------+\r\n",
      "|   1  Tesla P100-PCIE...  Off  | 00000000:83:00.0 Off |                    0 |\r\n",
      "| N/A   37C    P0    27W / 250W |      0MiB / 16280MiB |      0%      Default |\r\n",
      "+-------------------------------+----------------------+----------------------+\r\n",
      "|   2  TITAN V             Off  | 00000000:84:00.0 Off |                  N/A |\r\n",
      "| 28%   41C    P8    27W / 250W |      0MiB / 12036MiB |      0%      Default |\r\n",
      "+-------------------------------+----------------------+----------------------+\r\n",
      "                                                                               \r\n",
      "+-----------------------------------------------------------------------------+\r\n",
      "| Processes:                                                       GPU Memory |\r\n",
      "|  GPU       PID   Type   Process name                             Usage      |\r\n",
      "|=============================================================================|\r\n",
      "|  No running processes found                                                 |\r\n",
      "+-----------------------------------------------------------------------------+\r\n"
     ]
    }
   ],
   "source": [
    "!nvidia-smi"
   ]
  },
  {
   "cell_type": "markdown",
   "metadata": {},
   "source": [
    "> **WARNING**: The card numbers here are *not* the same as in CUDA. You have been warned."
   ]
  },
  {
   "cell_type": "markdown",
   "metadata": {},
   "source": [
    "## Imports"
   ]
  },
  {
   "cell_type": "code",
   "execution_count": 3,
   "metadata": {},
   "outputs": [],
   "source": [
    "import matplotlib.pyplot as plt\n",
    "import numpy as np\n",
    "import time\n",
    "import torch\n",
    "import pandas as pd\n",
    "\n",
    "# Python 3 standard library\n",
    "from pathlib import Path"
   ]
  },
  {
   "cell_type": "markdown",
   "metadata": {},
   "source": [
    "### Set up local parameters"
   ]
  },
  {
   "cell_type": "code",
   "execution_count": 5,
   "metadata": {},
   "outputs": [],
   "source": [
    "n_epochs = 20\n",
    "\n",
    "# Name is the output file name\n",
    "##oldName = 'Oct11_SimpleCNN4Layer_C_100epochs_160K_lr_3em4'\n",
    "##oldName = 'Oct22_SimpleCNN5Layer_C_many_epochs_160K_lr_1em4_bs64'\n",
    "##oldName = 'Oct22_SimpleCNN5Layer_C_restart40epochs_240K_lr_1em4_bs64'\n",
    "##oldName = 'Oct28_SimpleCNN4Layer_D_YetAnother400epochs_240K_lr_1em3_bs64'\n",
    "##oldName = 'Nov11_SimpleCNN4Layer_D35_Amother200epochs_240K_lr_3em5_bs64'\n",
    "##oldName = 'Nov14_SimpleCNN4Layer_D25_Another50epochs_240K_lr_3em5_bs64'\n",
    "##oldName = 'Nov15_SimpleCNN4Layer_D25_Another50epochs_240K_lr_1em4_bs64_Alt_Loss_A_0p5'\n",
    "##oldName = 'Nov15_SimpleCNN4Layer_D35_YetAnother50epochs_240K_lr_1em4_bs64_Alt_Loss_A_1p0'\n",
    "##oldName = 'Nov15_SimpleCNN4Layer_D35_YetAnother50epochs_240K_lr_1em4_bs64_Alt_Loss_A_1p5'\n",
    "##oldName = 'Nov15_SimpleCNN4Layer_D35_YetAnother20epochs_240K_lr_1em4_bs64_Alt_Loss_A_2p0'\n",
    "##oldName = 'Nov15_SimpleCNN4Layer_D35_YetAnother250epochs_240K_lr_3em5_bs64_Alt_Loss_A_2p5'\n",
    "oldName = 'Nov15_SimpleCNN4Layer_D35_YetAnother150epochs_240K_lr_1em4_bs64_Alt_Loss_A_3p0'\n",
    "name = 'May14_SimpleCNN4Layer_D35_20epochs_240K_lr_1em4_bs64_Alt_Loss_A_3p0'\n",
    "\n",
    "\n",
    "# Make an output folder named \"name\" (change if you want)\n",
    "output = Path(name)\n",
    "oldOutput = Path(oldName)\n",
    "# These are the input data files to read in\n",
    "trainfile = [Path('/share/lazy/schreihf/PvFinder/Aug14_80K_train.npz'),\n",
    "            Path('/share/lazy/schreihf/PvFinder/Oct03_80K_train.npz'),\n",
    "            Path('/share/lazy/schreihf/PvFinder/Oct03_80K2_train.npz')]\n",
    "valfile = Path('/share/lazy/schreihf/PvFinder/Oct03_20K_val.npz')\n",
    "\n",
    "# Size of batches\n",
    "batch_size = 64\n",
    "\n",
    "# How fast to learn\n",
    "learning_rate = 1e-4"
   ]
  },
  {
   "cell_type": "markdown",
   "metadata": {},
   "source": [
    "Make the output directory if it does not exist:"
   ]
  },
  {
   "cell_type": "code",
   "execution_count": 6,
   "metadata": {},
   "outputs": [],
   "source": [
    "output.mkdir(exist_ok=True)"
   ]
  },
  {
   "cell_type": "markdown",
   "metadata": {},
   "source": [
    "## Get the helper functions\n",
    "\n",
    "Add the directory with the model\n",
    "definitions to the path so we can import from it:\n",
    "\n",
    "> When you type `import X`,\n",
    "Python searches `sys.path` for a python\n",
    "file named `X.py` to import. So we need to add the model directory to the path."
   ]
  },
  {
   "cell_type": "code",
   "execution_count": 7,
   "metadata": {
    "scrolled": true
   },
   "outputs": [],
   "source": [
    "# From model/collectdata.py\n",
    "from model.collectdata import collect_data\n",
    "\n",
    "# From model/loss.py\n",
    "##from loss import Loss\n",
    "from model.alt_loss_A import Loss\n",
    "\n",
    "# From model/training.py\n",
    "from model.training import trainNet, select_gpu\n",
    "\n",
    "# From model/models.py\n",
    "from model.models_mds_C import SimpleCNN4Layer_D35 as Model\n",
    "\n",
    "from model.training import trainNet, select_gpu, Results\n",
    "from model.plots import dual_train_plots, replace_in_ax"
   ]
  },
  {
   "cell_type": "code",
   "execution_count": 8,
   "metadata": {},
   "outputs": [],
   "source": [
    "# This gets built up during the run - do not rerun this cell\n",
    "results = pd.DataFrame([], columns=Results._fields)"
   ]
  },
  {
   "cell_type": "markdown",
   "metadata": {},
   "source": [
    "Set up Torch device configuration. All tensors and model parameters need to know where to be put.\n",
    "This takes a BUS ID number: The BUS ID is the same as the listing at the top of this script."
   ]
  },
  {
   "cell_type": "code",
   "execution_count": 9,
   "metadata": {},
   "outputs": [
    {
     "name": "stdout",
     "output_type": "stream",
     "text": [
      "1 available GPUs (initially using device 0):\n",
      "  0 TITAN V\n"
     ]
    }
   ],
   "source": [
    "device = select_gpu(2)"
   ]
  },
  {
   "cell_type": "markdown",
   "metadata": {},
   "source": [
    "## Loading data\n",
    "\n",
    "Load the dataset, split into parts, then move to device (see `collectdata.py` in the `../model` directory)"
   ]
  },
  {
   "cell_type": "code",
   "execution_count": 10,
   "metadata": {
    "scrolled": true
   },
   "outputs": [
    {
     "name": "stdout",
     "output_type": "stream",
     "text": [
      "Loading data...\n",
      "Loaded data/Aug14_80K_train.h5 in 11.88 s\n",
      "Loaded data/Oct03_80K_train.h5 in 11.33 s\n",
      "Loaded data/Oct03_80K2_train.h5 in 11.27 s\n",
      "Constructing 240000 event dataset took 9.144 s\n",
      "Loading data...\n",
      "Loaded data/Oct03_20K_val.h5 in 2.812 s\n",
      "Constructing 9984 event dataset took 0.4152 s\n"
     ]
    }
   ],
   "source": [
    "## newer vernacular\n",
    "# Training dataset. You can put as many files here as desired.\n",
    "train_loader = collect_data('data/Aug14_80K_train.h5',\n",
    "                            'data/Oct03_80K_train.h5',\n",
    "                            'data/Oct03_80K2_train.h5',\n",
    "                            batch_size=batch_size,\n",
    "                            device=device,\n",
    "                            masking=True, shuffle=True)\n",
    "\n",
    "# Validation dataset. You can slice to reduce the size.\n",
    "val_loader = collect_data('data/Oct03_20K_val.h5',\n",
    "                          batch_size=batch_size,\n",
    "                          slice=slice(256 * 39),\n",
    "                          device=device,\n",
    "                          masking=True, shuffle=False)"
   ]
  },
  {
   "cell_type": "markdown",
   "metadata": {},
   "source": [
    "# Preparing the model"
   ]
  },
  {
   "cell_type": "markdown",
   "metadata": {},
   "source": [
    "Prepare a model, use multiple GPUs if they are VISIBLE, and move the model to the device."
   ]
  },
  {
   "cell_type": "code",
   "execution_count": 11,
   "metadata": {},
   "outputs": [],
   "source": [
    "model = Model()\n",
    "loss = Loss(epsilon=1e-5,coefficient=3.0)\n",
    "optimizer = torch.optim.Adam(model.parameters(), lr=learning_rate)"
   ]
  },
  {
   "cell_type": "code",
   "execution_count": 12,
   "metadata": {
    "scrolled": true
   },
   "outputs": [
    {
     "name": "stdout",
     "output_type": "stream",
     "text": [
      "Let's use 1 GPUs!\n"
     ]
    }
   ],
   "source": [
    "print(\"Let's use\", torch.cuda.device_count(), \"GPUs!\")\n",
    "if torch.cuda.device_count() > 1:\n",
    "    model = torch.nn.DataParallel(model)"
   ]
  },
  {
   "cell_type": "markdown",
   "metadata": {},
   "source": [
    "Let's move the model's weight matricies to the GPU:"
   ]
  },
  {
   "cell_type": "code",
   "execution_count": 13,
   "metadata": {},
   "outputs": [
    {
     "name": "stdout",
     "output_type": "stream",
     "text": [
      "output =  May14_SimpleCNN4Layer_D35_20epochs_240K_lr_1em4_bs64_Alt_Loss_A_3p0\n",
      "oldOutput =  Nov15_SimpleCNN4Layer_D35_YetAnother150epochs_240K_lr_1em4_bs64_Alt_Loss_A_3p0\n"
     ]
    }
   ],
   "source": [
    "print('output = ',output)\n",
    "print('oldOutput = ',oldOutput)\n",
    "##model.load_state_dict(torch.load('./Nov15_SimpleCNN4Layer_D35_YetAnother150epochs_240K_lr_1em4_bs64_Alt_Loss_A_3p0/Nov15_SimpleCNN4Layer_D35_YetAnother150epochs_240K_lr_1em4_bs64_Alt_Loss_A_3p0_final.pyt'))"
   ]
  },
  {
   "cell_type": "code",
   "execution_count": 14,
   "metadata": {
    "scrolled": true
   },
   "outputs": [],
   "source": [
    "model = model.to(device)"
   ]
  },
  {
   "cell_type": "markdown",
   "metadata": {},
   "source": [
    "## Train \n",
    "\n",
    "\n",
    "\n",
    "The body of this loop runs once per epoch. Results is a named tuple of values (loss per epoch for training and validation, time each). Start by setting up a plot first:"
   ]
  },
  {
   "cell_type": "code",
   "execution_count": 15,
   "metadata": {
    "scrolled": false
   },
   "outputs": [
    {
     "data": {
      "application/javascript": [
       "/* Put everything inside the global mpl namespace */\n",
       "window.mpl = {};\n",
       "\n",
       "\n",
       "mpl.get_websocket_type = function() {\n",
       "    if (typeof(WebSocket) !== 'undefined') {\n",
       "        return WebSocket;\n",
       "    } else if (typeof(MozWebSocket) !== 'undefined') {\n",
       "        return MozWebSocket;\n",
       "    } else {\n",
       "        alert('Your browser does not have WebSocket support.' +\n",
       "              'Please try Chrome, Safari or Firefox ≥ 6. ' +\n",
       "              'Firefox 4 and 5 are also supported but you ' +\n",
       "              'have to enable WebSockets in about:config.');\n",
       "    };\n",
       "}\n",
       "\n",
       "mpl.figure = function(figure_id, websocket, ondownload, parent_element) {\n",
       "    this.id = figure_id;\n",
       "\n",
       "    this.ws = websocket;\n",
       "\n",
       "    this.supports_binary = (this.ws.binaryType != undefined);\n",
       "\n",
       "    if (!this.supports_binary) {\n",
       "        var warnings = document.getElementById(\"mpl-warnings\");\n",
       "        if (warnings) {\n",
       "            warnings.style.display = 'block';\n",
       "            warnings.textContent = (\n",
       "                \"This browser does not support binary websocket messages. \" +\n",
       "                    \"Performance may be slow.\");\n",
       "        }\n",
       "    }\n",
       "\n",
       "    this.imageObj = new Image();\n",
       "\n",
       "    this.context = undefined;\n",
       "    this.message = undefined;\n",
       "    this.canvas = undefined;\n",
       "    this.rubberband_canvas = undefined;\n",
       "    this.rubberband_context = undefined;\n",
       "    this.format_dropdown = undefined;\n",
       "\n",
       "    this.image_mode = 'full';\n",
       "\n",
       "    this.root = $('<div/>');\n",
       "    this._root_extra_style(this.root)\n",
       "    this.root.attr('style', 'display: inline-block');\n",
       "\n",
       "    $(parent_element).append(this.root);\n",
       "\n",
       "    this._init_header(this);\n",
       "    this._init_canvas(this);\n",
       "    this._init_toolbar(this);\n",
       "\n",
       "    var fig = this;\n",
       "\n",
       "    this.waiting = false;\n",
       "\n",
       "    this.ws.onopen =  function () {\n",
       "            fig.send_message(\"supports_binary\", {value: fig.supports_binary});\n",
       "            fig.send_message(\"send_image_mode\", {});\n",
       "            if (mpl.ratio != 1) {\n",
       "                fig.send_message(\"set_dpi_ratio\", {'dpi_ratio': mpl.ratio});\n",
       "            }\n",
       "            fig.send_message(\"refresh\", {});\n",
       "        }\n",
       "\n",
       "    this.imageObj.onload = function() {\n",
       "            if (fig.image_mode == 'full') {\n",
       "                // Full images could contain transparency (where diff images\n",
       "                // almost always do), so we need to clear the canvas so that\n",
       "                // there is no ghosting.\n",
       "                fig.context.clearRect(0, 0, fig.canvas.width, fig.canvas.height);\n",
       "            }\n",
       "            fig.context.drawImage(fig.imageObj, 0, 0);\n",
       "        };\n",
       "\n",
       "    this.imageObj.onunload = function() {\n",
       "        fig.ws.close();\n",
       "    }\n",
       "\n",
       "    this.ws.onmessage = this._make_on_message_function(this);\n",
       "\n",
       "    this.ondownload = ondownload;\n",
       "}\n",
       "\n",
       "mpl.figure.prototype._init_header = function() {\n",
       "    var titlebar = $(\n",
       "        '<div class=\"ui-dialog-titlebar ui-widget-header ui-corner-all ' +\n",
       "        'ui-helper-clearfix\"/>');\n",
       "    var titletext = $(\n",
       "        '<div class=\"ui-dialog-title\" style=\"width: 100%; ' +\n",
       "        'text-align: center; padding: 3px;\"/>');\n",
       "    titlebar.append(titletext)\n",
       "    this.root.append(titlebar);\n",
       "    this.header = titletext[0];\n",
       "}\n",
       "\n",
       "\n",
       "\n",
       "mpl.figure.prototype._canvas_extra_style = function(canvas_div) {\n",
       "\n",
       "}\n",
       "\n",
       "\n",
       "mpl.figure.prototype._root_extra_style = function(canvas_div) {\n",
       "\n",
       "}\n",
       "\n",
       "mpl.figure.prototype._init_canvas = function() {\n",
       "    var fig = this;\n",
       "\n",
       "    var canvas_div = $('<div/>');\n",
       "\n",
       "    canvas_div.attr('style', 'position: relative; clear: both; outline: 0');\n",
       "\n",
       "    function canvas_keyboard_event(event) {\n",
       "        return fig.key_event(event, event['data']);\n",
       "    }\n",
       "\n",
       "    canvas_div.keydown('key_press', canvas_keyboard_event);\n",
       "    canvas_div.keyup('key_release', canvas_keyboard_event);\n",
       "    this.canvas_div = canvas_div\n",
       "    this._canvas_extra_style(canvas_div)\n",
       "    this.root.append(canvas_div);\n",
       "\n",
       "    var canvas = $('<canvas/>');\n",
       "    canvas.addClass('mpl-canvas');\n",
       "    canvas.attr('style', \"left: 0; top: 0; z-index: 0; outline: 0\")\n",
       "\n",
       "    this.canvas = canvas[0];\n",
       "    this.context = canvas[0].getContext(\"2d\");\n",
       "\n",
       "    var backingStore = this.context.backingStorePixelRatio ||\n",
       "\tthis.context.webkitBackingStorePixelRatio ||\n",
       "\tthis.context.mozBackingStorePixelRatio ||\n",
       "\tthis.context.msBackingStorePixelRatio ||\n",
       "\tthis.context.oBackingStorePixelRatio ||\n",
       "\tthis.context.backingStorePixelRatio || 1;\n",
       "\n",
       "    mpl.ratio = (window.devicePixelRatio || 1) / backingStore;\n",
       "\n",
       "    var rubberband = $('<canvas/>');\n",
       "    rubberband.attr('style', \"position: absolute; left: 0; top: 0; z-index: 1;\")\n",
       "\n",
       "    var pass_mouse_events = true;\n",
       "\n",
       "    canvas_div.resizable({\n",
       "        start: function(event, ui) {\n",
       "            pass_mouse_events = false;\n",
       "        },\n",
       "        resize: function(event, ui) {\n",
       "            fig.request_resize(ui.size.width, ui.size.height);\n",
       "        },\n",
       "        stop: function(event, ui) {\n",
       "            pass_mouse_events = true;\n",
       "            fig.request_resize(ui.size.width, ui.size.height);\n",
       "        },\n",
       "    });\n",
       "\n",
       "    function mouse_event_fn(event) {\n",
       "        if (pass_mouse_events)\n",
       "            return fig.mouse_event(event, event['data']);\n",
       "    }\n",
       "\n",
       "    rubberband.mousedown('button_press', mouse_event_fn);\n",
       "    rubberband.mouseup('button_release', mouse_event_fn);\n",
       "    // Throttle sequential mouse events to 1 every 20ms.\n",
       "    rubberband.mousemove('motion_notify', mouse_event_fn);\n",
       "\n",
       "    rubberband.mouseenter('figure_enter', mouse_event_fn);\n",
       "    rubberband.mouseleave('figure_leave', mouse_event_fn);\n",
       "\n",
       "    canvas_div.on(\"wheel\", function (event) {\n",
       "        event = event.originalEvent;\n",
       "        event['data'] = 'scroll'\n",
       "        if (event.deltaY < 0) {\n",
       "            event.step = 1;\n",
       "        } else {\n",
       "            event.step = -1;\n",
       "        }\n",
       "        mouse_event_fn(event);\n",
       "    });\n",
       "\n",
       "    canvas_div.append(canvas);\n",
       "    canvas_div.append(rubberband);\n",
       "\n",
       "    this.rubberband = rubberband;\n",
       "    this.rubberband_canvas = rubberband[0];\n",
       "    this.rubberband_context = rubberband[0].getContext(\"2d\");\n",
       "    this.rubberband_context.strokeStyle = \"#000000\";\n",
       "\n",
       "    this._resize_canvas = function(width, height) {\n",
       "        // Keep the size of the canvas, canvas container, and rubber band\n",
       "        // canvas in synch.\n",
       "        canvas_div.css('width', width)\n",
       "        canvas_div.css('height', height)\n",
       "\n",
       "        canvas.attr('width', width * mpl.ratio);\n",
       "        canvas.attr('height', height * mpl.ratio);\n",
       "        canvas.attr('style', 'width: ' + width + 'px; height: ' + height + 'px;');\n",
       "\n",
       "        rubberband.attr('width', width);\n",
       "        rubberband.attr('height', height);\n",
       "    }\n",
       "\n",
       "    // Set the figure to an initial 600x600px, this will subsequently be updated\n",
       "    // upon first draw.\n",
       "    this._resize_canvas(600, 600);\n",
       "\n",
       "    // Disable right mouse context menu.\n",
       "    $(this.rubberband_canvas).bind(\"contextmenu\",function(e){\n",
       "        return false;\n",
       "    });\n",
       "\n",
       "    function set_focus () {\n",
       "        canvas.focus();\n",
       "        canvas_div.focus();\n",
       "    }\n",
       "\n",
       "    window.setTimeout(set_focus, 100);\n",
       "}\n",
       "\n",
       "mpl.figure.prototype._init_toolbar = function() {\n",
       "    var fig = this;\n",
       "\n",
       "    var nav_element = $('<div/>')\n",
       "    nav_element.attr('style', 'width: 100%');\n",
       "    this.root.append(nav_element);\n",
       "\n",
       "    // Define a callback function for later on.\n",
       "    function toolbar_event(event) {\n",
       "        return fig.toolbar_button_onclick(event['data']);\n",
       "    }\n",
       "    function toolbar_mouse_event(event) {\n",
       "        return fig.toolbar_button_onmouseover(event['data']);\n",
       "    }\n",
       "\n",
       "    for(var toolbar_ind in mpl.toolbar_items) {\n",
       "        var name = mpl.toolbar_items[toolbar_ind][0];\n",
       "        var tooltip = mpl.toolbar_items[toolbar_ind][1];\n",
       "        var image = mpl.toolbar_items[toolbar_ind][2];\n",
       "        var method_name = mpl.toolbar_items[toolbar_ind][3];\n",
       "\n",
       "        if (!name) {\n",
       "            // put a spacer in here.\n",
       "            continue;\n",
       "        }\n",
       "        var button = $('<button/>');\n",
       "        button.addClass('ui-button ui-widget ui-state-default ui-corner-all ' +\n",
       "                        'ui-button-icon-only');\n",
       "        button.attr('role', 'button');\n",
       "        button.attr('aria-disabled', 'false');\n",
       "        button.click(method_name, toolbar_event);\n",
       "        button.mouseover(tooltip, toolbar_mouse_event);\n",
       "\n",
       "        var icon_img = $('<span/>');\n",
       "        icon_img.addClass('ui-button-icon-primary ui-icon');\n",
       "        icon_img.addClass(image);\n",
       "        icon_img.addClass('ui-corner-all');\n",
       "\n",
       "        var tooltip_span = $('<span/>');\n",
       "        tooltip_span.addClass('ui-button-text');\n",
       "        tooltip_span.html(tooltip);\n",
       "\n",
       "        button.append(icon_img);\n",
       "        button.append(tooltip_span);\n",
       "\n",
       "        nav_element.append(button);\n",
       "    }\n",
       "\n",
       "    var fmt_picker_span = $('<span/>');\n",
       "\n",
       "    var fmt_picker = $('<select/>');\n",
       "    fmt_picker.addClass('mpl-toolbar-option ui-widget ui-widget-content');\n",
       "    fmt_picker_span.append(fmt_picker);\n",
       "    nav_element.append(fmt_picker_span);\n",
       "    this.format_dropdown = fmt_picker[0];\n",
       "\n",
       "    for (var ind in mpl.extensions) {\n",
       "        var fmt = mpl.extensions[ind];\n",
       "        var option = $(\n",
       "            '<option/>', {selected: fmt === mpl.default_extension}).html(fmt);\n",
       "        fmt_picker.append(option)\n",
       "    }\n",
       "\n",
       "    // Add hover states to the ui-buttons\n",
       "    $( \".ui-button\" ).hover(\n",
       "        function() { $(this).addClass(\"ui-state-hover\");},\n",
       "        function() { $(this).removeClass(\"ui-state-hover\");}\n",
       "    );\n",
       "\n",
       "    var status_bar = $('<span class=\"mpl-message\"/>');\n",
       "    nav_element.append(status_bar);\n",
       "    this.message = status_bar[0];\n",
       "}\n",
       "\n",
       "mpl.figure.prototype.request_resize = function(x_pixels, y_pixels) {\n",
       "    // Request matplotlib to resize the figure. Matplotlib will then trigger a resize in the client,\n",
       "    // which will in turn request a refresh of the image.\n",
       "    this.send_message('resize', {'width': x_pixels, 'height': y_pixels});\n",
       "}\n",
       "\n",
       "mpl.figure.prototype.send_message = function(type, properties) {\n",
       "    properties['type'] = type;\n",
       "    properties['figure_id'] = this.id;\n",
       "    this.ws.send(JSON.stringify(properties));\n",
       "}\n",
       "\n",
       "mpl.figure.prototype.send_draw_message = function() {\n",
       "    if (!this.waiting) {\n",
       "        this.waiting = true;\n",
       "        this.ws.send(JSON.stringify({type: \"draw\", figure_id: this.id}));\n",
       "    }\n",
       "}\n",
       "\n",
       "\n",
       "mpl.figure.prototype.handle_save = function(fig, msg) {\n",
       "    var format_dropdown = fig.format_dropdown;\n",
       "    var format = format_dropdown.options[format_dropdown.selectedIndex].value;\n",
       "    fig.ondownload(fig, format);\n",
       "}\n",
       "\n",
       "\n",
       "mpl.figure.prototype.handle_resize = function(fig, msg) {\n",
       "    var size = msg['size'];\n",
       "    if (size[0] != fig.canvas.width || size[1] != fig.canvas.height) {\n",
       "        fig._resize_canvas(size[0], size[1]);\n",
       "        fig.send_message(\"refresh\", {});\n",
       "    };\n",
       "}\n",
       "\n",
       "mpl.figure.prototype.handle_rubberband = function(fig, msg) {\n",
       "    var x0 = msg['x0'] / mpl.ratio;\n",
       "    var y0 = (fig.canvas.height - msg['y0']) / mpl.ratio;\n",
       "    var x1 = msg['x1'] / mpl.ratio;\n",
       "    var y1 = (fig.canvas.height - msg['y1']) / mpl.ratio;\n",
       "    x0 = Math.floor(x0) + 0.5;\n",
       "    y0 = Math.floor(y0) + 0.5;\n",
       "    x1 = Math.floor(x1) + 0.5;\n",
       "    y1 = Math.floor(y1) + 0.5;\n",
       "    var min_x = Math.min(x0, x1);\n",
       "    var min_y = Math.min(y0, y1);\n",
       "    var width = Math.abs(x1 - x0);\n",
       "    var height = Math.abs(y1 - y0);\n",
       "\n",
       "    fig.rubberband_context.clearRect(\n",
       "        0, 0, fig.canvas.width, fig.canvas.height);\n",
       "\n",
       "    fig.rubberband_context.strokeRect(min_x, min_y, width, height);\n",
       "}\n",
       "\n",
       "mpl.figure.prototype.handle_figure_label = function(fig, msg) {\n",
       "    // Updates the figure title.\n",
       "    fig.header.textContent = msg['label'];\n",
       "}\n",
       "\n",
       "mpl.figure.prototype.handle_cursor = function(fig, msg) {\n",
       "    var cursor = msg['cursor'];\n",
       "    switch(cursor)\n",
       "    {\n",
       "    case 0:\n",
       "        cursor = 'pointer';\n",
       "        break;\n",
       "    case 1:\n",
       "        cursor = 'default';\n",
       "        break;\n",
       "    case 2:\n",
       "        cursor = 'crosshair';\n",
       "        break;\n",
       "    case 3:\n",
       "        cursor = 'move';\n",
       "        break;\n",
       "    }\n",
       "    fig.rubberband_canvas.style.cursor = cursor;\n",
       "}\n",
       "\n",
       "mpl.figure.prototype.handle_message = function(fig, msg) {\n",
       "    fig.message.textContent = msg['message'];\n",
       "}\n",
       "\n",
       "mpl.figure.prototype.handle_draw = function(fig, msg) {\n",
       "    // Request the server to send over a new figure.\n",
       "    fig.send_draw_message();\n",
       "}\n",
       "\n",
       "mpl.figure.prototype.handle_image_mode = function(fig, msg) {\n",
       "    fig.image_mode = msg['mode'];\n",
       "}\n",
       "\n",
       "mpl.figure.prototype.updated_canvas_event = function() {\n",
       "    // Called whenever the canvas gets updated.\n",
       "    this.send_message(\"ack\", {});\n",
       "}\n",
       "\n",
       "// A function to construct a web socket function for onmessage handling.\n",
       "// Called in the figure constructor.\n",
       "mpl.figure.prototype._make_on_message_function = function(fig) {\n",
       "    return function socket_on_message(evt) {\n",
       "        if (evt.data instanceof Blob) {\n",
       "            /* FIXME: We get \"Resource interpreted as Image but\n",
       "             * transferred with MIME type text/plain:\" errors on\n",
       "             * Chrome.  But how to set the MIME type?  It doesn't seem\n",
       "             * to be part of the websocket stream */\n",
       "            evt.data.type = \"image/png\";\n",
       "\n",
       "            /* Free the memory for the previous frames */\n",
       "            if (fig.imageObj.src) {\n",
       "                (window.URL || window.webkitURL).revokeObjectURL(\n",
       "                    fig.imageObj.src);\n",
       "            }\n",
       "\n",
       "            fig.imageObj.src = (window.URL || window.webkitURL).createObjectURL(\n",
       "                evt.data);\n",
       "            fig.updated_canvas_event();\n",
       "            fig.waiting = false;\n",
       "            return;\n",
       "        }\n",
       "        else if (typeof evt.data === 'string' && evt.data.slice(0, 21) == \"data:image/png;base64\") {\n",
       "            fig.imageObj.src = evt.data;\n",
       "            fig.updated_canvas_event();\n",
       "            fig.waiting = false;\n",
       "            return;\n",
       "        }\n",
       "\n",
       "        var msg = JSON.parse(evt.data);\n",
       "        var msg_type = msg['type'];\n",
       "\n",
       "        // Call the  \"handle_{type}\" callback, which takes\n",
       "        // the figure and JSON message as its only arguments.\n",
       "        try {\n",
       "            var callback = fig[\"handle_\" + msg_type];\n",
       "        } catch (e) {\n",
       "            console.log(\"No handler for the '\" + msg_type + \"' message type: \", msg);\n",
       "            return;\n",
       "        }\n",
       "\n",
       "        if (callback) {\n",
       "            try {\n",
       "                // console.log(\"Handling '\" + msg_type + \"' message: \", msg);\n",
       "                callback(fig, msg);\n",
       "            } catch (e) {\n",
       "                console.log(\"Exception inside the 'handler_\" + msg_type + \"' callback:\", e, e.stack, msg);\n",
       "            }\n",
       "        }\n",
       "    };\n",
       "}\n",
       "\n",
       "// from http://stackoverflow.com/questions/1114465/getting-mouse-location-in-canvas\n",
       "mpl.findpos = function(e) {\n",
       "    //this section is from http://www.quirksmode.org/js/events_properties.html\n",
       "    var targ;\n",
       "    if (!e)\n",
       "        e = window.event;\n",
       "    if (e.target)\n",
       "        targ = e.target;\n",
       "    else if (e.srcElement)\n",
       "        targ = e.srcElement;\n",
       "    if (targ.nodeType == 3) // defeat Safari bug\n",
       "        targ = targ.parentNode;\n",
       "\n",
       "    // jQuery normalizes the pageX and pageY\n",
       "    // pageX,Y are the mouse positions relative to the document\n",
       "    // offset() returns the position of the element relative to the document\n",
       "    var x = e.pageX - $(targ).offset().left;\n",
       "    var y = e.pageY - $(targ).offset().top;\n",
       "\n",
       "    return {\"x\": x, \"y\": y};\n",
       "};\n",
       "\n",
       "/*\n",
       " * return a copy of an object with only non-object keys\n",
       " * we need this to avoid circular references\n",
       " * http://stackoverflow.com/a/24161582/3208463\n",
       " */\n",
       "function simpleKeys (original) {\n",
       "  return Object.keys(original).reduce(function (obj, key) {\n",
       "    if (typeof original[key] !== 'object')\n",
       "        obj[key] = original[key]\n",
       "    return obj;\n",
       "  }, {});\n",
       "}\n",
       "\n",
       "mpl.figure.prototype.mouse_event = function(event, name) {\n",
       "    var canvas_pos = mpl.findpos(event)\n",
       "\n",
       "    if (name === 'button_press')\n",
       "    {\n",
       "        this.canvas.focus();\n",
       "        this.canvas_div.focus();\n",
       "    }\n",
       "\n",
       "    var x = canvas_pos.x * mpl.ratio;\n",
       "    var y = canvas_pos.y * mpl.ratio;\n",
       "\n",
       "    this.send_message(name, {x: x, y: y, button: event.button,\n",
       "                             step: event.step,\n",
       "                             guiEvent: simpleKeys(event)});\n",
       "\n",
       "    /* This prevents the web browser from automatically changing to\n",
       "     * the text insertion cursor when the button is pressed.  We want\n",
       "     * to control all of the cursor setting manually through the\n",
       "     * 'cursor' event from matplotlib */\n",
       "    event.preventDefault();\n",
       "    return false;\n",
       "}\n",
       "\n",
       "mpl.figure.prototype._key_event_extra = function(event, name) {\n",
       "    // Handle any extra behaviour associated with a key event\n",
       "}\n",
       "\n",
       "mpl.figure.prototype.key_event = function(event, name) {\n",
       "\n",
       "    // Prevent repeat events\n",
       "    if (name == 'key_press')\n",
       "    {\n",
       "        if (event.which === this._key)\n",
       "            return;\n",
       "        else\n",
       "            this._key = event.which;\n",
       "    }\n",
       "    if (name == 'key_release')\n",
       "        this._key = null;\n",
       "\n",
       "    var value = '';\n",
       "    if (event.ctrlKey && event.which != 17)\n",
       "        value += \"ctrl+\";\n",
       "    if (event.altKey && event.which != 18)\n",
       "        value += \"alt+\";\n",
       "    if (event.shiftKey && event.which != 16)\n",
       "        value += \"shift+\";\n",
       "\n",
       "    value += 'k';\n",
       "    value += event.which.toString();\n",
       "\n",
       "    this._key_event_extra(event, name);\n",
       "\n",
       "    this.send_message(name, {key: value,\n",
       "                             guiEvent: simpleKeys(event)});\n",
       "    return false;\n",
       "}\n",
       "\n",
       "mpl.figure.prototype.toolbar_button_onclick = function(name) {\n",
       "    if (name == 'download') {\n",
       "        this.handle_save(this, null);\n",
       "    } else {\n",
       "        this.send_message(\"toolbar_button\", {name: name});\n",
       "    }\n",
       "};\n",
       "\n",
       "mpl.figure.prototype.toolbar_button_onmouseover = function(tooltip) {\n",
       "    this.message.textContent = tooltip;\n",
       "};\n",
       "mpl.toolbar_items = [[\"Home\", \"Reset original view\", \"fa fa-home icon-home\", \"home\"], [\"Back\", \"Back to previous view\", \"fa fa-arrow-left icon-arrow-left\", \"back\"], [\"Forward\", \"Forward to next view\", \"fa fa-arrow-right icon-arrow-right\", \"forward\"], [\"\", \"\", \"\", \"\"], [\"Pan\", \"Pan axes with left mouse, zoom with right\", \"fa fa-arrows icon-move\", \"pan\"], [\"Zoom\", \"Zoom to rectangle\", \"fa fa-square-o icon-check-empty\", \"zoom\"], [\"\", \"\", \"\", \"\"], [\"Download\", \"Download plot\", \"fa fa-floppy-o icon-save\", \"download\"]];\n",
       "\n",
       "mpl.extensions = [\"eps\", \"jpeg\", \"pdf\", \"png\", \"ps\", \"raw\", \"svg\", \"tif\"];\n",
       "\n",
       "mpl.default_extension = \"png\";var comm_websocket_adapter = function(comm) {\n",
       "    // Create a \"websocket\"-like object which calls the given IPython comm\n",
       "    // object with the appropriate methods. Currently this is a non binary\n",
       "    // socket, so there is still some room for performance tuning.\n",
       "    var ws = {};\n",
       "\n",
       "    ws.close = function() {\n",
       "        comm.close()\n",
       "    };\n",
       "    ws.send = function(m) {\n",
       "        //console.log('sending', m);\n",
       "        comm.send(m);\n",
       "    };\n",
       "    // Register the callback with on_msg.\n",
       "    comm.on_msg(function(msg) {\n",
       "        //console.log('receiving', msg['content']['data'], msg);\n",
       "        // Pass the mpl event to the overridden (by mpl) onmessage function.\n",
       "        ws.onmessage(msg['content']['data'])\n",
       "    });\n",
       "    return ws;\n",
       "}\n",
       "\n",
       "mpl.mpl_figure_comm = function(comm, msg) {\n",
       "    // This is the function which gets called when the mpl process\n",
       "    // starts-up an IPython Comm through the \"matplotlib\" channel.\n",
       "\n",
       "    var id = msg.content.data.id;\n",
       "    // Get hold of the div created by the display call when the Comm\n",
       "    // socket was opened in Python.\n",
       "    var element = $(\"#\" + id);\n",
       "    var ws_proxy = comm_websocket_adapter(comm)\n",
       "\n",
       "    function ondownload(figure, format) {\n",
       "        window.open(figure.imageObj.src);\n",
       "    }\n",
       "\n",
       "    var fig = new mpl.figure(id, ws_proxy,\n",
       "                           ondownload,\n",
       "                           element.get(0));\n",
       "\n",
       "    // Call onopen now - mpl needs it, as it is assuming we've passed it a real\n",
       "    // web socket which is closed, not our websocket->open comm proxy.\n",
       "    ws_proxy.onopen();\n",
       "\n",
       "    fig.parent_element = element.get(0);\n",
       "    fig.cell_info = mpl.find_output_cell(\"<div id='\" + id + \"'></div>\");\n",
       "    if (!fig.cell_info) {\n",
       "        console.error(\"Failed to find cell for figure\", id, fig);\n",
       "        return;\n",
       "    }\n",
       "\n",
       "    var output_index = fig.cell_info[2]\n",
       "    var cell = fig.cell_info[0];\n",
       "\n",
       "};\n",
       "\n",
       "mpl.figure.prototype.handle_close = function(fig, msg) {\n",
       "    var width = fig.canvas.width/mpl.ratio\n",
       "    fig.root.unbind('remove')\n",
       "\n",
       "    // Update the output cell to use the data from the current canvas.\n",
       "    fig.push_to_output();\n",
       "    var dataURL = fig.canvas.toDataURL();\n",
       "    // Re-enable the keyboard manager in IPython - without this line, in FF,\n",
       "    // the notebook keyboard shortcuts fail.\n",
       "    IPython.keyboard_manager.enable()\n",
       "    $(fig.parent_element).html('<img src=\"' + dataURL + '\" width=\"' + width + '\">');\n",
       "    fig.close_ws(fig, msg);\n",
       "}\n",
       "\n",
       "mpl.figure.prototype.close_ws = function(fig, msg){\n",
       "    fig.send_message('closing', msg);\n",
       "    // fig.ws.close()\n",
       "}\n",
       "\n",
       "mpl.figure.prototype.push_to_output = function(remove_interactive) {\n",
       "    // Turn the data on the canvas into data in the output cell.\n",
       "    var width = this.canvas.width/mpl.ratio\n",
       "    var dataURL = this.canvas.toDataURL();\n",
       "    this.cell_info[1]['text/html'] = '<img src=\"' + dataURL + '\" width=\"' + width + '\">';\n",
       "}\n",
       "\n",
       "mpl.figure.prototype.updated_canvas_event = function() {\n",
       "    // Tell IPython that the notebook contents must change.\n",
       "    IPython.notebook.set_dirty(true);\n",
       "    this.send_message(\"ack\", {});\n",
       "    var fig = this;\n",
       "    // Wait a second, then push the new image to the DOM so\n",
       "    // that it is saved nicely (might be nice to debounce this).\n",
       "    setTimeout(function () { fig.push_to_output() }, 1000);\n",
       "}\n",
       "\n",
       "mpl.figure.prototype._init_toolbar = function() {\n",
       "    var fig = this;\n",
       "\n",
       "    var nav_element = $('<div/>')\n",
       "    nav_element.attr('style', 'width: 100%');\n",
       "    this.root.append(nav_element);\n",
       "\n",
       "    // Define a callback function for later on.\n",
       "    function toolbar_event(event) {\n",
       "        return fig.toolbar_button_onclick(event['data']);\n",
       "    }\n",
       "    function toolbar_mouse_event(event) {\n",
       "        return fig.toolbar_button_onmouseover(event['data']);\n",
       "    }\n",
       "\n",
       "    for(var toolbar_ind in mpl.toolbar_items){\n",
       "        var name = mpl.toolbar_items[toolbar_ind][0];\n",
       "        var tooltip = mpl.toolbar_items[toolbar_ind][1];\n",
       "        var image = mpl.toolbar_items[toolbar_ind][2];\n",
       "        var method_name = mpl.toolbar_items[toolbar_ind][3];\n",
       "\n",
       "        if (!name) { continue; };\n",
       "\n",
       "        var button = $('<button class=\"btn btn-default\" href=\"#\" title=\"' + name + '\"><i class=\"fa ' + image + ' fa-lg\"></i></button>');\n",
       "        button.click(method_name, toolbar_event);\n",
       "        button.mouseover(tooltip, toolbar_mouse_event);\n",
       "        nav_element.append(button);\n",
       "    }\n",
       "\n",
       "    // Add the status bar.\n",
       "    var status_bar = $('<span class=\"mpl-message\" style=\"text-align:right; float: right;\"/>');\n",
       "    nav_element.append(status_bar);\n",
       "    this.message = status_bar[0];\n",
       "\n",
       "    // Add the close button to the window.\n",
       "    var buttongrp = $('<div class=\"btn-group inline pull-right\"></div>');\n",
       "    var button = $('<button class=\"btn btn-mini btn-primary\" href=\"#\" title=\"Stop Interaction\"><i class=\"fa fa-power-off icon-remove icon-large\"></i></button>');\n",
       "    button.click(function (evt) { fig.handle_close(fig, {}); } );\n",
       "    button.mouseover('Stop Interaction', toolbar_mouse_event);\n",
       "    buttongrp.append(button);\n",
       "    var titlebar = this.root.find($('.ui-dialog-titlebar'));\n",
       "    titlebar.prepend(buttongrp);\n",
       "}\n",
       "\n",
       "mpl.figure.prototype._root_extra_style = function(el){\n",
       "    var fig = this\n",
       "    el.on(\"remove\", function(){\n",
       "\tfig.close_ws(fig, {});\n",
       "    });\n",
       "}\n",
       "\n",
       "mpl.figure.prototype._canvas_extra_style = function(el){\n",
       "    // this is important to make the div 'focusable\n",
       "    el.attr('tabindex', 0)\n",
       "    // reach out to IPython and tell the keyboard manager to turn it's self\n",
       "    // off when our div gets focus\n",
       "\n",
       "    // location in version 3\n",
       "    if (IPython.notebook.keyboard_manager) {\n",
       "        IPython.notebook.keyboard_manager.register_events(el);\n",
       "    }\n",
       "    else {\n",
       "        // location in version 2\n",
       "        IPython.keyboard_manager.register_events(el);\n",
       "    }\n",
       "\n",
       "}\n",
       "\n",
       "mpl.figure.prototype._key_event_extra = function(event, name) {\n",
       "    var manager = IPython.notebook.keyboard_manager;\n",
       "    if (!manager)\n",
       "        manager = IPython.keyboard_manager;\n",
       "\n",
       "    // Check for shift+enter\n",
       "    if (event.shiftKey && event.which == 13) {\n",
       "        this.canvas_div.blur();\n",
       "        event.shiftKey = false;\n",
       "        // Send a \"J\" for go to next cell\n",
       "        event.which = 74;\n",
       "        event.keyCode = 74;\n",
       "        manager.command_mode();\n",
       "        manager.handle_keydown(event);\n",
       "    }\n",
       "}\n",
       "\n",
       "mpl.figure.prototype.handle_save = function(fig, msg) {\n",
       "    fig.ondownload(fig, null);\n",
       "}\n",
       "\n",
       "\n",
       "mpl.find_output_cell = function(html_output) {\n",
       "    // Return the cell and output element which can be found *uniquely* in the notebook.\n",
       "    // Note - this is a bit hacky, but it is done because the \"notebook_saving.Notebook\"\n",
       "    // IPython event is triggered only after the cells have been serialised, which for\n",
       "    // our purposes (turning an active figure into a static one), is too late.\n",
       "    var cells = IPython.notebook.get_cells();\n",
       "    var ncells = cells.length;\n",
       "    for (var i=0; i<ncells; i++) {\n",
       "        var cell = cells[i];\n",
       "        if (cell.cell_type === 'code'){\n",
       "            for (var j=0; j<cell.output_area.outputs.length; j++) {\n",
       "                var data = cell.output_area.outputs[j];\n",
       "                if (data.data) {\n",
       "                    // IPython >= 3 moved mimebundle to data attribute of output\n",
       "                    data = data.data;\n",
       "                }\n",
       "                if (data['text/html'] == html_output) {\n",
       "                    return [cell, data, j];\n",
       "                }\n",
       "            }\n",
       "        }\n",
       "    }\n",
       "}\n",
       "\n",
       "// Register the function which deals with the matplotlib target/channel.\n",
       "// The kernel may be null if the page has been refreshed.\n",
       "if (IPython.notebook.kernel != null) {\n",
       "    IPython.notebook.kernel.comm_manager.register_target('matplotlib', mpl.mpl_figure_comm);\n",
       "}\n"
      ],
      "text/plain": [
       "<IPython.core.display.Javascript object>"
      ]
     },
     "metadata": {},
     "output_type": "display_data"
    },
    {
     "data": {
      "text/html": [
       "<img src=\"data:image/png;base64,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\" width=\"1000\">"
      ],
      "text/plain": [
       "<IPython.core.display.HTML object>"
      ]
     },
     "metadata": {},
     "output_type": "display_data"
    }
   ],
   "source": [
    "ax, tax, lax, lines = dual_train_plots()\n",
    "fig = ax.figure\n",
    "plt.tight_layout()"
   ]
  },
  {
   "cell_type": "code",
   "execution_count": 16,
   "metadata": {},
   "outputs": [
    {
     "name": "stdout",
     "output_type": "stream",
     "text": [
      "Number of batches: train = 3750, val = 156\n"
     ]
    },
    {
     "data": {
      "application/vnd.jupyter.widget-view+json": {
       "model_id": "1919f858ea1c4a9d9a38171d2b5ecb0e",
       "version_major": 2,
       "version_minor": 0
      },
      "text/plain": [
       "HBox(children=(IntProgress(value=0, description='Epochs', layout=Layout(flex='2'), max=20, style=ProgressStyle…"
      ]
     },
     "metadata": {},
     "output_type": "display_data"
    },
    {
     "data": {
      "application/vnd.jupyter.widget-view+json": {
       "model_id": "",
       "version_major": 2,
       "version_minor": 0
      },
      "text/plain": [
       "HBox(children=(IntProgress(value=0, description='Training', layout=Layout(flex='2'), max=3750, style=ProgressS…"
      ]
     },
     "metadata": {},
     "output_type": "display_data"
    },
    {
     "name": "stdout",
     "output_type": "stream",
     "text": [
      "Epoch 0: train=25.8994, val=19.4176, took 77.185 s\n",
      "  Validation Found 0 of 54700, added 0 (eff 0.00%) (0.0 FP/event)\n"
     ]
    },
    {
     "data": {
      "application/vnd.jupyter.widget-view+json": {
       "model_id": "",
       "version_major": 2,
       "version_minor": 0
      },
      "text/plain": [
       "HBox(children=(IntProgress(value=0, description='Training', layout=Layout(flex='2'), max=3750, style=ProgressS…"
      ]
     },
     "metadata": {},
     "output_type": "display_data"
    },
    {
     "name": "stdout",
     "output_type": "stream",
     "text": [
      "Epoch 1: train=19.3894, val=19.4176, took 75.014 s\n",
      "  Validation Found 0 of 54700, added 0 (eff 0.00%) (0.0 FP/event)\n"
     ]
    },
    {
     "data": {
      "application/vnd.jupyter.widget-view+json": {
       "model_id": "",
       "version_major": 2,
       "version_minor": 0
      },
      "text/plain": [
       "HBox(children=(IntProgress(value=0, description='Training', layout=Layout(flex='2'), max=3750, style=ProgressS…"
      ]
     },
     "metadata": {},
     "output_type": "display_data"
    },
    {
     "name": "stdout",
     "output_type": "stream",
     "text": [
      "Epoch 2: train=18.9023, val=14.6423, took 73.878 s\n",
      "  Validation Found 13917 of 54700, added 104 (eff 25.44%) (0.0104 FP/event)\n"
     ]
    },
    {
     "data": {
      "application/vnd.jupyter.widget-view+json": {
       "model_id": "",
       "version_major": 2,
       "version_minor": 0
      },
      "text/plain": [
       "HBox(children=(IntProgress(value=0, description='Training', layout=Layout(flex='2'), max=3750, style=ProgressS…"
      ]
     },
     "metadata": {},
     "output_type": "display_data"
    },
    {
     "name": "stdout",
     "output_type": "stream",
     "text": [
      "Epoch 3: train=10.4255, val=7.07976, took 73.316 s\n",
      "  Validation Found 42853 of 54700, added 775 (eff 78.34%) (0.0776 FP/event)\n"
     ]
    },
    {
     "data": {
      "application/vnd.jupyter.widget-view+json": {
       "model_id": "",
       "version_major": 2,
       "version_minor": 0
      },
      "text/plain": [
       "HBox(children=(IntProgress(value=0, description='Training', layout=Layout(flex='2'), max=3750, style=ProgressS…"
      ]
     },
     "metadata": {},
     "output_type": "display_data"
    },
    {
     "name": "stdout",
     "output_type": "stream",
     "text": [
      "Epoch 4: train=7.40937, val=6.05059, took 74.026 s\n",
      "  Validation Found 46003 of 54700, added 1199 (eff 84.10%) (0.12 FP/event)\n"
     ]
    },
    {
     "data": {
      "application/vnd.jupyter.widget-view+json": {
       "model_id": "",
       "version_major": 2,
       "version_minor": 0
      },
      "text/plain": [
       "HBox(children=(IntProgress(value=0, description='Training', layout=Layout(flex='2'), max=3750, style=ProgressS…"
      ]
     },
     "metadata": {},
     "output_type": "display_data"
    },
    {
     "name": "stdout",
     "output_type": "stream",
     "text": [
      "Epoch 5: train=6.67195, val=5.71578, took 73.721 s\n",
      "  Validation Found 47589 of 54700, added 1705 (eff 87.00%) (0.171 FP/event)\n"
     ]
    },
    {
     "data": {
      "application/vnd.jupyter.widget-view+json": {
       "model_id": "",
       "version_major": 2,
       "version_minor": 0
      },
      "text/plain": [
       "HBox(children=(IntProgress(value=0, description='Training', layout=Layout(flex='2'), max=3750, style=ProgressS…"
      ]
     },
     "metadata": {},
     "output_type": "display_data"
    },
    {
     "name": "stdout",
     "output_type": "stream",
     "text": [
      "Epoch 6: train=6.33974, val=5.60201, took 73.42 s\n",
      "  Validation Found 48193 of 54700, added 1801 (eff 88.10%) (0.18 FP/event)\n"
     ]
    },
    {
     "data": {
      "application/vnd.jupyter.widget-view+json": {
       "model_id": "",
       "version_major": 2,
       "version_minor": 0
      },
      "text/plain": [
       "HBox(children=(IntProgress(value=0, description='Training', layout=Layout(flex='2'), max=3750, style=ProgressS…"
      ]
     },
     "metadata": {},
     "output_type": "display_data"
    },
    {
     "name": "stdout",
     "output_type": "stream",
     "text": [
      "Epoch 7: train=6.13089, val=5.44898, took 73.449 s\n",
      "  Validation Found 48656 of 54700, added 2077 (eff 88.95%) (0.208 FP/event)\n"
     ]
    },
    {
     "data": {
      "application/vnd.jupyter.widget-view+json": {
       "model_id": "",
       "version_major": 2,
       "version_minor": 0
      },
      "text/plain": [
       "HBox(children=(IntProgress(value=0, description='Training', layout=Layout(flex='2'), max=3750, style=ProgressS…"
      ]
     },
     "metadata": {},
     "output_type": "display_data"
    },
    {
     "name": "stdout",
     "output_type": "stream",
     "text": [
      "Epoch 8: train=5.97068, val=5.26246, took 73.476 s\n",
      "  Validation Found 48572 of 54700, added 1856 (eff 88.80%) (0.186 FP/event)\n"
     ]
    },
    {
     "data": {
      "application/vnd.jupyter.widget-view+json": {
       "model_id": "",
       "version_major": 2,
       "version_minor": 0
      },
      "text/plain": [
       "HBox(children=(IntProgress(value=0, description='Training', layout=Layout(flex='2'), max=3750, style=ProgressS…"
      ]
     },
     "metadata": {},
     "output_type": "display_data"
    },
    {
     "name": "stdout",
     "output_type": "stream",
     "text": [
      "Epoch 9: train=5.81538, val=5.24621, took 73.866 s\n",
      "  Validation Found 48900 of 54700, added 2102 (eff 89.40%) (0.211 FP/event)\n"
     ]
    },
    {
     "data": {
      "application/vnd.jupyter.widget-view+json": {
       "model_id": "",
       "version_major": 2,
       "version_minor": 0
      },
      "text/plain": [
       "HBox(children=(IntProgress(value=0, description='Training', layout=Layout(flex='2'), max=3750, style=ProgressS…"
      ]
     },
     "metadata": {},
     "output_type": "display_data"
    },
    {
     "name": "stdout",
     "output_type": "stream",
     "text": [
      "Epoch 10: train=5.69705, val=5.22705, took 74.08 s\n",
      "  Validation Found 48988 of 54700, added 1957 (eff 89.56%) (0.196 FP/event)\n"
     ]
    },
    {
     "data": {
      "application/vnd.jupyter.widget-view+json": {
       "model_id": "",
       "version_major": 2,
       "version_minor": 0
      },
      "text/plain": [
       "HBox(children=(IntProgress(value=0, description='Training', layout=Layout(flex='2'), max=3750, style=ProgressS…"
      ]
     },
     "metadata": {},
     "output_type": "display_data"
    },
    {
     "name": "stdout",
     "output_type": "stream",
     "text": [
      "Epoch 11: train=5.60451, val=5.1585, took 73.937 s\n",
      "  Validation Found 48967 of 54700, added 1815 (eff 89.52%) (0.182 FP/event)\n"
     ]
    },
    {
     "data": {
      "application/vnd.jupyter.widget-view+json": {
       "model_id": "",
       "version_major": 2,
       "version_minor": 0
      },
      "text/plain": [
       "HBox(children=(IntProgress(value=0, description='Training', layout=Layout(flex='2'), max=3750, style=ProgressS…"
      ]
     },
     "metadata": {},
     "output_type": "display_data"
    },
    {
     "name": "stdout",
     "output_type": "stream",
     "text": [
      "Epoch 12: train=5.5321, val=5.17781, took 74.072 s\n",
      "  Validation Found 49212 of 54700, added 2090 (eff 89.97%) (0.209 FP/event)\n"
     ]
    },
    {
     "data": {
      "application/vnd.jupyter.widget-view+json": {
       "model_id": "",
       "version_major": 2,
       "version_minor": 0
      },
      "text/plain": [
       "HBox(children=(IntProgress(value=0, description='Training', layout=Layout(flex='2'), max=3750, style=ProgressS…"
      ]
     },
     "metadata": {},
     "output_type": "display_data"
    },
    {
     "name": "stdout",
     "output_type": "stream",
     "text": [
      "Epoch 13: train=5.46547, val=5.09433, took 73.769 s\n",
      "  Validation Found 49228 of 54700, added 2058 (eff 90.00%) (0.206 FP/event)\n"
     ]
    },
    {
     "data": {
      "application/vnd.jupyter.widget-view+json": {
       "model_id": "",
       "version_major": 2,
       "version_minor": 0
      },
      "text/plain": [
       "HBox(children=(IntProgress(value=0, description='Training', layout=Layout(flex='2'), max=3750, style=ProgressS…"
      ]
     },
     "metadata": {},
     "output_type": "display_data"
    },
    {
     "name": "stdout",
     "output_type": "stream",
     "text": [
      "Epoch 14: train=5.41475, val=5.04025, took 72.965 s\n",
      "  Validation Found 49204 of 54700, added 1938 (eff 89.95%) (0.194 FP/event)\n"
     ]
    },
    {
     "data": {
      "application/vnd.jupyter.widget-view+json": {
       "model_id": "",
       "version_major": 2,
       "version_minor": 0
      },
      "text/plain": [
       "HBox(children=(IntProgress(value=0, description='Training', layout=Layout(flex='2'), max=3750, style=ProgressS…"
      ]
     },
     "metadata": {},
     "output_type": "display_data"
    },
    {
     "name": "stdout",
     "output_type": "stream",
     "text": [
      "Epoch 15: train=5.36151, val=4.94323, took 72.976 s\n",
      "  Validation Found 49078 of 54700, added 1723 (eff 89.72%) (0.173 FP/event)\n"
     ]
    },
    {
     "data": {
      "application/vnd.jupyter.widget-view+json": {
       "model_id": "",
       "version_major": 2,
       "version_minor": 0
      },
      "text/plain": [
       "HBox(children=(IntProgress(value=0, description='Training', layout=Layout(flex='2'), max=3750, style=ProgressS…"
      ]
     },
     "metadata": {},
     "output_type": "display_data"
    },
    {
     "name": "stdout",
     "output_type": "stream",
     "text": [
      "Epoch 16: train=5.31741, val=4.87316, took 72.996 s\n",
      "  Validation Found 49021 of 54700, added 1648 (eff 89.62%) (0.165 FP/event)\n"
     ]
    },
    {
     "data": {
      "application/vnd.jupyter.widget-view+json": {
       "model_id": "",
       "version_major": 2,
       "version_minor": 0
      },
      "text/plain": [
       "HBox(children=(IntProgress(value=0, description='Training', layout=Layout(flex='2'), max=3750, style=ProgressS…"
      ]
     },
     "metadata": {},
     "output_type": "display_data"
    },
    {
     "name": "stdout",
     "output_type": "stream",
     "text": [
      "Epoch 17: train=5.27694, val=4.84474, took 72.884 s\n",
      "  Validation Found 49126 of 54700, added 1736 (eff 89.81%) (0.174 FP/event)\n"
     ]
    },
    {
     "data": {
      "application/vnd.jupyter.widget-view+json": {
       "model_id": "",
       "version_major": 2,
       "version_minor": 0
      },
      "text/plain": [
       "HBox(children=(IntProgress(value=0, description='Training', layout=Layout(flex='2'), max=3750, style=ProgressS…"
      ]
     },
     "metadata": {},
     "output_type": "display_data"
    },
    {
     "name": "stdout",
     "output_type": "stream",
     "text": [
      "Epoch 18: train=5.24047, val=4.79748, took 72.978 s\n",
      "  Validation Found 49104 of 54700, added 1640 (eff 89.77%) (0.164 FP/event)\n"
     ]
    },
    {
     "data": {
      "application/vnd.jupyter.widget-view+json": {
       "model_id": "",
       "version_major": 2,
       "version_minor": 0
      },
      "text/plain": [
       "HBox(children=(IntProgress(value=0, description='Training', layout=Layout(flex='2'), max=3750, style=ProgressS…"
      ]
     },
     "metadata": {},
     "output_type": "display_data"
    },
    {
     "name": "stdout",
     "output_type": "stream",
     "text": [
      "Epoch 19: train=5.20179, val=4.76646, took 73.072 s\n",
      "  Validation Found 49217 of 54700, added 1734 (eff 89.98%) (0.174 FP/event)\n",
      "\n"
     ]
    }
   ],
   "source": [
    "for result in trainNet(model, optimizer, loss,\n",
    "                        train_loader, val_loader,\n",
    "                        n_epochs, epoch_start=len(results),\n",
    "                        notebook=True):\n",
    "    \n",
    "    results = results.append(pd.Series(result._asdict()), ignore_index=True)\n",
    "    \n",
    "    xs = results.index\n",
    "    \n",
    "    # Update the plot above\n",
    "    lines['train'].set_data(results.index,results.cost)\n",
    "    lines['val'].set_data(results.index,results.val)\n",
    "    \n",
    "    #filter first cost epoch (can be really large)\n",
    "    max_cost = max(max(results.cost if len(results.cost)<2 else results.cost[1:]), max(results.val))\n",
    "    min_cost = min(min(results.cost), min(results.val))\n",
    "    \n",
    "    # The plot limits need updating too\n",
    "    ax.set_ylim(min_cost*.9, max_cost*1.1)  \n",
    "    ax.set_xlim(-.5, len(results.cost) - .5)\n",
    "    \n",
    "    replace_in_ax(lax, lines['eff'], xs, results['eff_val'].apply(lambda x: x.eff_rate))\n",
    "    replace_in_ax(tax, lines['fp'], xs, results['eff_val'].apply(lambda x: x.fp_rate))\n",
    "    \n",
    "    # Redraw the figure\n",
    "    fig.canvas.draw()\n",
    "\n",
    "    # Save each model state dictionary\n",
    "    torch.save(model.state_dict(), output / f'{name}_{result.epoch}.pyt')"
   ]
  },
  {
   "cell_type": "markdown",
   "metadata": {},
   "source": [
    "# Results\n",
    "\n",
    "Let's save some results: (even though if you have not changed the code above, it saves the model every epoch)"
   ]
  },
  {
   "cell_type": "markdown",
   "metadata": {},
   "source": [
    "Go ahead and save the final model (even though it was also saved above):"
   ]
  },
  {
   "cell_type": "code",
   "execution_count": null,
   "metadata": {},
   "outputs": [],
   "source": [
    "torch.save(model.state_dict(), output / f'{name}_final.pyt')"
   ]
  },
  {
   "cell_type": "markdown",
   "metadata": {},
   "source": [
    "Save the output results:"
   ]
  },
  {
   "cell_type": "code",
   "execution_count": null,
   "metadata": {},
   "outputs": [],
   "source": [
    "results.to_hdf(f'{name}_stats.hdf5', 'results')"
   ]
  },
  {
   "cell_type": "markdown",
   "metadata": {},
   "source": [
    "Save the plot above:"
   ]
  },
  {
   "cell_type": "code",
   "execution_count": null,
   "metadata": {},
   "outputs": [],
   "source": [
    "dual_train_plots(results.index,\n",
    "                 results.cost, results.val, \n",
    "                 results['eff_val'].apply(lambda x: x.eff_rate),\n",
    "                 results['eff_val'].apply(lambda x: x.fp_rate))\n",
    "plt.tight_layout()\n",
    "plt.savefig(str(output / f'{name}_stats_a.png'))"
   ]
  },
  {
   "cell_type": "code",
   "execution_count": null,
   "metadata": {},
   "outputs": [],
   "source": [
    "quit()"
   ]
  },
  {
   "cell_type": "code",
   "execution_count": null,
   "metadata": {},
   "outputs": [],
   "source": []
  }
 ],
 "metadata": {
  "kernelspec": {
   "display_name": "Python [conda env:anaconda] *",
   "language": "python",
   "name": "conda-env-anaconda-py"
  },
  "language_info": {
   "codemirror_mode": {
    "name": "ipython",
    "version": 3
   },
   "file_extension": ".py",
   "mimetype": "text/x-python",
   "name": "python",
   "nbconvert_exporter": "python",
   "pygments_lexer": "ipython3",
   "version": "3.7.3"
  }
 },
 "nbformat": 4,
 "nbformat_minor": 2
}
