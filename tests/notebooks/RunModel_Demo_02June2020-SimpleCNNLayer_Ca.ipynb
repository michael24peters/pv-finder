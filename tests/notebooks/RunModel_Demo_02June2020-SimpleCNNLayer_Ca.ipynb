{
 "cells": [
  {
   "cell_type": "code",
   "execution_count": 1,
   "metadata": {},
   "outputs": [],
   "source": [
    "##%matplotlib widget\n",
    "## with %matplotlib notebook: seems to require ipympl as part of environment, either\n",
    "## part of the conda environment or \"pip install ipympl\"\n",
    "## otherwise, does not show ANY plots in notebook, plt.savefig() works\n",
    "%matplotlib notebook  \n",
    "##%matplotlib inline    ## --plt.savefig()  works, but re-sizing does NOT\n"
   ]
  },
  {
   "cell_type": "markdown",
   "metadata": {},
   "source": [
    "This notebook is a short demo to illustrate execution.   For odd historical reasons, it uses \"toy Monte Carlo\" (simulated data)for \"training\" and \"full LHCB MC\" for validation.\n",
    "\n",
    "The network architecture is a \"simple\" model that uses 1 input channel (the KDE [kernel density estimator] but from the track parameters) feeding 5 convolutional layers followed by a fully connected layer.\n",
    "\n",
    "In today's version, the network will start with weights from a previously trained version.\n",
    " "
   ]
  },
  {
   "cell_type": "markdown",
   "metadata": {},
   "source": [
    "Check the current GPU usage. Please try to be nice!"
   ]
  },
  {
   "cell_type": "code",
   "execution_count": 2,
   "metadata": {},
   "outputs": [
    {
     "name": "stdout",
     "output_type": "stream",
     "text": [
      "Thu Jun  4 21:06:27 2020       \r\n",
      "+-----------------------------------------------------------------------------+\r\n",
      "| NVIDIA-SMI 440.64.00    Driver Version: 440.64.00    CUDA Version: 10.2     |\r\n",
      "|-------------------------------+----------------------+----------------------+\r\n",
      "| GPU  Name        Persistence-M| Bus-Id        Disp.A | Volatile Uncorr. ECC |\r\n",
      "| Fan  Temp  Perf  Pwr:Usage/Cap|         Memory-Usage | GPU-Util  Compute M. |\r\n",
      "|===============================+======================+======================|\r\n",
      "|   0  TITAN V             Off  | 00000000:03:00.0 Off |                  N/A |\r\n",
      "| 28%   31C    P8    23W / 250W |     12MiB / 12066MiB |      0%      Default |\r\n",
      "+-------------------------------+----------------------+----------------------+\r\n",
      "|   1  Tesla P100-PCIE...  Off  | 00000000:83:00.0 Off |                    0 |\r\n",
      "| N/A   30C    P0    27W / 250W |      0MiB / 16280MiB |      0%      Default |\r\n",
      "+-------------------------------+----------------------+----------------------+\r\n",
      "|   2  TITAN V             Off  | 00000000:84:00.0 Off |                  N/A |\r\n",
      "| 28%   34C    P8    25W / 250W |      0MiB / 12066MiB |      0%      Default |\r\n",
      "+-------------------------------+----------------------+----------------------+\r\n",
      "                                                                               \r\n",
      "+-----------------------------------------------------------------------------+\r\n",
      "| Processes:                                                       GPU Memory |\r\n",
      "|  GPU       PID   Type   Process name                             Usage      |\r\n",
      "|=============================================================================|\r\n",
      "|  No running processes found                                                 |\r\n",
      "+-----------------------------------------------------------------------------+\r\n"
     ]
    }
   ],
   "source": [
    "!nvidia-smi"
   ]
  },
  {
   "cell_type": "markdown",
   "metadata": {},
   "source": [
    "> **WARNING**: The card numbers here are *not* the same as in CUDA. You have been warned."
   ]
  },
  {
   "cell_type": "markdown",
   "metadata": {},
   "source": [
    "## Imports"
   ]
  },
  {
   "cell_type": "code",
   "execution_count": 3,
   "metadata": {},
   "outputs": [],
   "source": [
    "import matplotlib.pyplot as plt\n",
    "import numpy as np\n",
    "import time\n",
    "import torch\n",
    "import pandas as pd\n",
    "\n",
    "# Python 3 standard library\n",
    "from pathlib import Path\n",
    "\n",
    "from torchsummary import summary"
   ]
  },
  {
   "cell_type": "markdown",
   "metadata": {},
   "source": [
    "### Set up local parameters"
   ]
  },
  {
   "cell_type": "code",
   "execution_count": 4,
   "metadata": {},
   "outputs": [],
   "source": [
    "n_epochs = 200\n",
    "\n",
    "# Name is the output file name\n",
    "\n",
    "\n",
    "##  190810  mds\n",
    "folder = '02June2020_CNN5Layer_Ca_another200epochs_K'\n",
    "name = '02June2020_CNN5Layer_Ca_another200epochs_K'\n",
    "\n",
    "# Make an output folder named \"name\" (change if you want)\n",
    "\n",
    "## Special instructions for those working on goofy at UC\n",
    "## Please be very careful to make sure that your folder\n",
    "## does not live in a subdirectory of your home directory\n",
    "## this disk has very little capacity. Instead, use \n",
    "## a subdirectory in /share/lazy with a symbolic link to\n",
    "## it in this (the notebooks) subdirectory\n",
    "folder = '/share/lazy/michael/ML/' + folder\n",
    "output = Path(folder)\n",
    "\n",
    "\n",
    "# Size of batches\n",
    "batch_size = 128\n",
    "\n",
    "# How fast to learn\n",
    "learning_rate = 3e-4"
   ]
  },
  {
   "cell_type": "markdown",
   "metadata": {},
   "source": [
    "Make the output directory if it does not exist:"
   ]
  },
  {
   "cell_type": "code",
   "execution_count": 5,
   "metadata": {},
   "outputs": [],
   "source": [
    "output.mkdir(exist_ok=True)"
   ]
  },
  {
   "cell_type": "markdown",
   "metadata": {},
   "source": [
    "## Get the helper functions\n",
    "\n",
    "Add the directory with the model\n",
    "definitions to the path so we can import from it:\n",
    "\n",
    "> When you type `import X`,\n",
    "Python searches `sys.path` for a python\n",
    "file named `X.py` to import. So we need to add the model directory to the path."
   ]
  },
  {
   "cell_type": "code",
   "execution_count": 6,
   "metadata": {
    "scrolled": true
   },
   "outputs": [],
   "source": [
    "# From model/collectdata.py\n",
    "from model.collectdata_mdsA import collect_data\n",
    "\n",
    "# From model/loss.py\n",
    "##from loss import Loss\n",
    "from model.alt_loss_A import Loss\n",
    "\n",
    "# From model/training.py\n",
    "from model.training import trainNet, select_gpu\n",
    "\n",
    "# From model/models.py\n",
    "##  will start with model from TwoFeatures_CNN6Layer_A in the first instance\n",
    "##  see relevant cell below\n",
    "\n",
    "\n",
    "from model.models_mds_01June20 import SimpleCNN5Layer_Ca as Model\n",
    "\n",
    "from model.training import trainNet, select_gpu, Results\n",
    "from model.plots import dual_train_plots, replace_in_ax"
   ]
  },
  {
   "cell_type": "code",
   "execution_count": 7,
   "metadata": {},
   "outputs": [],
   "source": [
    "# This gets built up during the run - do not rerun this cell\n",
    "results = pd.DataFrame([], columns=Results._fields)"
   ]
  },
  {
   "cell_type": "markdown",
   "metadata": {},
   "source": [
    "Set up Torch device configuration. All tensors and model parameters need to know where to be put.\n",
    "This takes a BUS ID number: The BUS ID is the same as the listing at the top of this script."
   ]
  },
  {
   "cell_type": "code",
   "execution_count": 8,
   "metadata": {},
   "outputs": [
    {
     "name": "stdout",
     "output_type": "stream",
     "text": [
      "1 available GPUs (initially using device 0):\n",
      "  0 TITAN V\n"
     ]
    }
   ],
   "source": [
    "device = select_gpu(0)"
   ]
  },
  {
   "cell_type": "markdown",
   "metadata": {},
   "source": [
    "## Loading data\n",
    "\n",
    "Load the dataset, split into parts, then move to device (see `collectdata.py` in the `../model` directory)"
   ]
  },
  {
   "cell_type": "code",
   "execution_count": 9,
   "metadata": {
    "scrolled": true
   },
   "outputs": [
    {
     "name": "stdout",
     "output_type": "stream",
     "text": [
      "Loading data...\n",
      "Loaded /share/lazy/sokoloff/ML-data_AA/Aug14_80K_train.h5 in 12.88 s\n",
      "Loaded /share/lazy/sokoloff/ML-data_AA/Oct03_80K_train.h5 in 11.47 s\n",
      "Constructing 160000 event dataset took 0.4973 s\n",
      "Loading data...\n",
      "Loaded /share/lazy/sokoloff/ML-data_AA/Oct03_20K_val.h5 in 2.847 s\n",
      "Constructing 9984 event dataset took 3.439 s\n"
     ]
    }
   ],
   "source": [
    "## newer vernacular\n",
    "## Training dataset. You can put as many files here as desired.\n",
    "\n",
    "## in this DEMO example we use only one 80K training set -- the model starts with well-trained weights,\n",
    "## and using a smaller training set reduces both the time to load the data and the time to train an epoch\n",
    "##  set the option load_XandXsq = True to use both DKE and KDE^2 as input features\n",
    "train_loader = collect_data('/share/lazy/sokoloff/ML-data_AA/Aug14_80K_train.h5',\n",
    "                            '/share/lazy/sokoloff/ML-data_AA/Oct03_80K_train.h5',\n",
    "##                            'dataAA/Oct03_80K2_train.h5',\n",
    "                             batch_size=batch_size,\n",
    "## if we are using a larger dataset (240K events, with the datasets above, and 11 GB  of GPU memory),\n",
    "## not the dataset will overflow the GPU memory; device=device will allow the data to move back\n",
    "## and forth between the CPU and GPU memory. While this allows use of a larger dataset, it slows\n",
    "## down performance by about 10%.  So comment out when not needed.\n",
    "##                           device=device,\n",
    "                            masking=True, shuffle=True,\n",
    "                            load_XandXsq=False,\n",
    "                            load_xy=False)\n",
    "\n",
    "# Validation dataset. You can slice to reduce the size.\n",
    "## dataAA -> /share/lazy/sokoloff/ML-data_AA/\n",
    "val_loader = collect_data('/share/lazy/sokoloff/ML-data_AA/Oct03_20K_val.h5',\n",
    "## mds val_loader = collect_data('dataAA/HLT1CPU_1kevts_val.h5',\n",
    "\n",
    "                          batch_size=batch_size,\n",
    "                          slice=slice(256 * 39),\n",
    "                          device=device,\n",
    "                          masking=True, shuffle=False,\n",
    "                          load_XandXsq=False,\n",
    "                          load_xy=False)"
   ]
  },
  {
   "cell_type": "markdown",
   "metadata": {},
   "source": [
    "# Preparing the model"
   ]
  },
  {
   "cell_type": "markdown",
   "metadata": {},
   "source": [
    "Prepare a model, use multiple GPUs if they are VISIBLE, and move the model to the device."
   ]
  },
  {
   "cell_type": "code",
   "execution_count": 10,
   "metadata": {
    "scrolled": true
   },
   "outputs": [
    {
     "name": "stdout",
     "output_type": "stream",
     "text": [
      "ct, child =  0    Conv1d(1, 20, kernel_size=(25,), stride=(1,), padding=(12,))\n",
      "ct, child =  1    Conv1d(20, 10, kernel_size=(15,), stride=(1,), padding=(7,))\n",
      "ct, child =  2    Conv1d(10, 10, kernel_size=(15,), stride=(1,), padding=(7,))\n",
      "ct, child =  3    Conv1d(10, 10, kernel_size=(15,), stride=(1,), padding=(7,))\n",
      "ct, child =  4    Conv1d(10, 1, kernel_size=(5,), stride=(1,), padding=(2,))\n",
      "ct, child =  5    Dropout(p=0.15, inplace=False)\n",
      "ct, child =  6    Dropout(p=0.15, inplace=False)\n",
      "ct, child =  7    Dropout(p=0.15, inplace=False)\n",
      "ct, child =  8    Dropout(p=0.15, inplace=False)\n",
      "ct, child =  9    Dropout(p=0.35, inplace=False)\n",
      "ct, child =  10    Linear(in_features=4000, out_features=4000, bias=True)\n"
     ]
    }
   ],
   "source": [
    "model = Model()\n",
    "\n",
    "##summary(model, input_size=(4, 4000))\n",
    "##print(model.parameters)\n",
    "\n",
    "## add the following code to allow the user to freeze the some of the weights corresponding \n",
    "## to those taken from an earlier model trained with the original target histograms\n",
    "## presumably -- this leaves either the perturbative filter \"fixed\" and lets the \n",
    "## learning focus on the non-perturbative features, so get started faster, or vice versa\n",
    "ct = 0\n",
    "for child in model.children():\n",
    "  print('ct, child = ',ct, \"  \", child)\n",
    "  if ct < 0:\n",
    "    print(\"     About to set param.requires_grad=False for ct = \", ct, \"params\")\n",
    "    for param in child.parameters():\n",
    "        param.requires_grad = False \n",
    "  ct += 1\n",
    "##  mds 200121 loss = Loss(epsilon=1e-5,coefficient=1.0)\n",
    "loss = Loss(epsilon=1e-5,coefficient=2.5)\n",
    "optimizer = torch.optim.Adam(model.parameters(), lr=learning_rate)"
   ]
  },
  {
   "cell_type": "code",
   "execution_count": 11,
   "metadata": {
    "scrolled": true
   },
   "outputs": [
    {
     "name": "stdout",
     "output_type": "stream",
     "text": [
      "Let's use 1 GPUs!\n"
     ]
    }
   ],
   "source": [
    "print(\"Let's use\", torch.cuda.device_count(), \"GPUs!\")\n",
    "if torch.cuda.device_count() > 1:\n",
    "    model = torch.nn.DataParallel(model)"
   ]
  },
  {
   "cell_type": "markdown",
   "metadata": {},
   "source": [
    "Let's move the model's weight matricies to the GPU:"
   ]
  },
  {
   "cell_type": "code",
   "execution_count": 12,
   "metadata": {},
   "outputs": [
    {
     "name": "stdout",
     "output_type": "stream",
     "text": [
      "output =  /share/lazy/michael/ML/02June2020_CNN5Layer_Ca_another200epochs_K\n",
      "for model_dict\n",
      "index, k =   0    conv1.weight\n",
      "index, k =   1    conv1.bias\n",
      "index, k =   2    conv2.weight\n",
      "index, k =   3    conv2.bias\n",
      "index, k =   4    conv3.weight\n",
      "index, k =   5    conv3.bias\n",
      "index, k =   6    conv4.weight\n",
      "index, k =   7    conv4.bias\n",
      "index, k =   8    conv5.weight\n",
      "index, k =   9    conv5.bias\n",
      "index, k =   10    fc1.weight\n",
      "index, k =   11    fc1.bias\n",
      " \n",
      "   for pretrained_dict\n",
      "index, k =   0    conv1.weight\n",
      "index, k =   1    conv1.bias\n",
      "index, k =   2    conv2.weight\n",
      "index, k =   3    conv2.bias\n",
      "index, k =   4    conv3.weight\n",
      "index, k =   5    conv3.bias\n",
      "index, k =   6    conv4.weight\n",
      "index, k =   7    conv4.bias\n",
      "index, k =   8    conv5.weight\n",
      "index, k =   9    conv5.bias\n",
      "index, k =   10    fc1.weight\n",
      "index, k =   11    fc1.bias\n",
      "model_dict instantiated\n"
     ]
    },
    {
     "data": {
      "text/plain": [
       "<All keys matched successfully>"
      ]
     },
     "execution_count": 12,
     "metadata": {},
     "output_type": "execute_result"
    }
   ],
   "source": [
    "print('output = ',output)\n",
    "##print('oldOutput = ',oldOutput)\n",
    "##  use the first four layers from a pre-existing model\n",
    "##  see example at https://discuss.pytorch.org/t/how-to-load-part-of-pre-trained-model/1113\n",
    "\n",
    "##   ML -> /share/lazy/sokoloff/ML\n",
    "pretrained_dict = torch.load('/share/lazy/sokoloff/ML/02June2020_CNN5Layer_Ca_another40epochs_K/02June2020_CNN5Layer_Ca_another40epochs_K_final.pyt')\n",
    "model_dict = model.state_dict()\n",
    "## mds 190725 for debugging\n",
    "print(\"for model_dict\")\n",
    "index = 0\n",
    "for k,v in model_dict.items():\n",
    "    print(\"index, k =  \",index,\"  \",k)\n",
    "    index = index+1\n",
    "    \n",
    "print(\" \\n\",\"  for pretrained_dict\")\n",
    "index = 0\n",
    "for k,v in pretrained_dict.items():\n",
    "    print(\"index, k =  \",index,\"  \",k)\n",
    "    index = index+1\n",
    "## mds  \n",
    "\n",
    "print(\"model_dict instantiated\")\n",
    "# 1. filter out unnecessary keys\n",
    "pretrained_dict = {k: v for k, v in pretrained_dict.items() if k in model_dict}\n",
    "## print(\"pretrained_dict iterated\")\n",
    "# 2. overwrite entries in the existing state dict\n",
    "model_dict.update(pretrained_dict) \n",
    "##\n",
    "#   when starting from a model with a fully connected last layer rather than a convolutional layer\n",
    "# 3. load the new state dict\n",
    "#   need to use strict=False as the two models state model attributes do not agree exactly\n",
    "#   see https://pytorch.org/docs/master/_modules/torch/nn/modules/module.html#Module.load_state_dict\n",
    "\n",
    "model.load_state_dict(pretrained_dict,strict=False)\n",
    "\n",
    "## print('model_dict =    ', model_dict)\n"
   ]
  },
  {
   "cell_type": "code",
   "execution_count": 13,
   "metadata": {
    "scrolled": true
   },
   "outputs": [],
   "source": [
    "model = model.to(device)"
   ]
  },
  {
   "cell_type": "markdown",
   "metadata": {},
   "source": [
    "## Train \n",
    "\n",
    "\n",
    "\n",
    "The body of this loop runs once per epoch. Results is a named tuple of values (loss per epoch for training and validation, time each). Start by setting up a plot first:"
   ]
  },
  {
   "cell_type": "code",
   "execution_count": 14,
   "metadata": {
    "scrolled": false
   },
   "outputs": [
    {
     "data": {
      "application/javascript": [
       "/* Put everything inside the global mpl namespace */\n",
       "window.mpl = {};\n",
       "\n",
       "\n",
       "mpl.get_websocket_type = function() {\n",
       "    if (typeof(WebSocket) !== 'undefined') {\n",
       "        return WebSocket;\n",
       "    } else if (typeof(MozWebSocket) !== 'undefined') {\n",
       "        return MozWebSocket;\n",
       "    } else {\n",
       "        alert('Your browser does not have WebSocket support. ' +\n",
       "              'Please try Chrome, Safari or Firefox ≥ 6. ' +\n",
       "              'Firefox 4 and 5 are also supported but you ' +\n",
       "              'have to enable WebSockets in about:config.');\n",
       "    };\n",
       "}\n",
       "\n",
       "mpl.figure = function(figure_id, websocket, ondownload, parent_element) {\n",
       "    this.id = figure_id;\n",
       "\n",
       "    this.ws = websocket;\n",
       "\n",
       "    this.supports_binary = (this.ws.binaryType != undefined);\n",
       "\n",
       "    if (!this.supports_binary) {\n",
       "        var warnings = document.getElementById(\"mpl-warnings\");\n",
       "        if (warnings) {\n",
       "            warnings.style.display = 'block';\n",
       "            warnings.textContent = (\n",
       "                \"This browser does not support binary websocket messages. \" +\n",
       "                    \"Performance may be slow.\");\n",
       "        }\n",
       "    }\n",
       "\n",
       "    this.imageObj = new Image();\n",
       "\n",
       "    this.context = undefined;\n",
       "    this.message = undefined;\n",
       "    this.canvas = undefined;\n",
       "    this.rubberband_canvas = undefined;\n",
       "    this.rubberband_context = undefined;\n",
       "    this.format_dropdown = undefined;\n",
       "\n",
       "    this.image_mode = 'full';\n",
       "\n",
       "    this.root = $('<div/>');\n",
       "    this._root_extra_style(this.root)\n",
       "    this.root.attr('style', 'display: inline-block');\n",
       "\n",
       "    $(parent_element).append(this.root);\n",
       "\n",
       "    this._init_header(this);\n",
       "    this._init_canvas(this);\n",
       "    this._init_toolbar(this);\n",
       "\n",
       "    var fig = this;\n",
       "\n",
       "    this.waiting = false;\n",
       "\n",
       "    this.ws.onopen =  function () {\n",
       "            fig.send_message(\"supports_binary\", {value: fig.supports_binary});\n",
       "            fig.send_message(\"send_image_mode\", {});\n",
       "            if (mpl.ratio != 1) {\n",
       "                fig.send_message(\"set_dpi_ratio\", {'dpi_ratio': mpl.ratio});\n",
       "            }\n",
       "            fig.send_message(\"refresh\", {});\n",
       "        }\n",
       "\n",
       "    this.imageObj.onload = function() {\n",
       "            if (fig.image_mode == 'full') {\n",
       "                // Full images could contain transparency (where diff images\n",
       "                // almost always do), so we need to clear the canvas so that\n",
       "                // there is no ghosting.\n",
       "                fig.context.clearRect(0, 0, fig.canvas.width, fig.canvas.height);\n",
       "            }\n",
       "            fig.context.drawImage(fig.imageObj, 0, 0);\n",
       "        };\n",
       "\n",
       "    this.imageObj.onunload = function() {\n",
       "        fig.ws.close();\n",
       "    }\n",
       "\n",
       "    this.ws.onmessage = this._make_on_message_function(this);\n",
       "\n",
       "    this.ondownload = ondownload;\n",
       "}\n",
       "\n",
       "mpl.figure.prototype._init_header = function() {\n",
       "    var titlebar = $(\n",
       "        '<div class=\"ui-dialog-titlebar ui-widget-header ui-corner-all ' +\n",
       "        'ui-helper-clearfix\"/>');\n",
       "    var titletext = $(\n",
       "        '<div class=\"ui-dialog-title\" style=\"width: 100%; ' +\n",
       "        'text-align: center; padding: 3px;\"/>');\n",
       "    titlebar.append(titletext)\n",
       "    this.root.append(titlebar);\n",
       "    this.header = titletext[0];\n",
       "}\n",
       "\n",
       "\n",
       "\n",
       "mpl.figure.prototype._canvas_extra_style = function(canvas_div) {\n",
       "\n",
       "}\n",
       "\n",
       "\n",
       "mpl.figure.prototype._root_extra_style = function(canvas_div) {\n",
       "\n",
       "}\n",
       "\n",
       "mpl.figure.prototype._init_canvas = function() {\n",
       "    var fig = this;\n",
       "\n",
       "    var canvas_div = $('<div/>');\n",
       "\n",
       "    canvas_div.attr('style', 'position: relative; clear: both; outline: 0');\n",
       "\n",
       "    function canvas_keyboard_event(event) {\n",
       "        return fig.key_event(event, event['data']);\n",
       "    }\n",
       "\n",
       "    canvas_div.keydown('key_press', canvas_keyboard_event);\n",
       "    canvas_div.keyup('key_release', canvas_keyboard_event);\n",
       "    this.canvas_div = canvas_div\n",
       "    this._canvas_extra_style(canvas_div)\n",
       "    this.root.append(canvas_div);\n",
       "\n",
       "    var canvas = $('<canvas/>');\n",
       "    canvas.addClass('mpl-canvas');\n",
       "    canvas.attr('style', \"left: 0; top: 0; z-index: 0; outline: 0\")\n",
       "\n",
       "    this.canvas = canvas[0];\n",
       "    this.context = canvas[0].getContext(\"2d\");\n",
       "\n",
       "    var backingStore = this.context.backingStorePixelRatio ||\n",
       "\tthis.context.webkitBackingStorePixelRatio ||\n",
       "\tthis.context.mozBackingStorePixelRatio ||\n",
       "\tthis.context.msBackingStorePixelRatio ||\n",
       "\tthis.context.oBackingStorePixelRatio ||\n",
       "\tthis.context.backingStorePixelRatio || 1;\n",
       "\n",
       "    mpl.ratio = (window.devicePixelRatio || 1) / backingStore;\n",
       "\n",
       "    var rubberband = $('<canvas/>');\n",
       "    rubberband.attr('style', \"position: absolute; left: 0; top: 0; z-index: 1;\")\n",
       "\n",
       "    var pass_mouse_events = true;\n",
       "\n",
       "    canvas_div.resizable({\n",
       "        start: function(event, ui) {\n",
       "            pass_mouse_events = false;\n",
       "        },\n",
       "        resize: function(event, ui) {\n",
       "            fig.request_resize(ui.size.width, ui.size.height);\n",
       "        },\n",
       "        stop: function(event, ui) {\n",
       "            pass_mouse_events = true;\n",
       "            fig.request_resize(ui.size.width, ui.size.height);\n",
       "        },\n",
       "    });\n",
       "\n",
       "    function mouse_event_fn(event) {\n",
       "        if (pass_mouse_events)\n",
       "            return fig.mouse_event(event, event['data']);\n",
       "    }\n",
       "\n",
       "    rubberband.mousedown('button_press', mouse_event_fn);\n",
       "    rubberband.mouseup('button_release', mouse_event_fn);\n",
       "    // Throttle sequential mouse events to 1 every 20ms.\n",
       "    rubberband.mousemove('motion_notify', mouse_event_fn);\n",
       "\n",
       "    rubberband.mouseenter('figure_enter', mouse_event_fn);\n",
       "    rubberband.mouseleave('figure_leave', mouse_event_fn);\n",
       "\n",
       "    canvas_div.on(\"wheel\", function (event) {\n",
       "        event = event.originalEvent;\n",
       "        event['data'] = 'scroll'\n",
       "        if (event.deltaY < 0) {\n",
       "            event.step = 1;\n",
       "        } else {\n",
       "            event.step = -1;\n",
       "        }\n",
       "        mouse_event_fn(event);\n",
       "    });\n",
       "\n",
       "    canvas_div.append(canvas);\n",
       "    canvas_div.append(rubberband);\n",
       "\n",
       "    this.rubberband = rubberband;\n",
       "    this.rubberband_canvas = rubberband[0];\n",
       "    this.rubberband_context = rubberband[0].getContext(\"2d\");\n",
       "    this.rubberband_context.strokeStyle = \"#000000\";\n",
       "\n",
       "    this._resize_canvas = function(width, height) {\n",
       "        // Keep the size of the canvas, canvas container, and rubber band\n",
       "        // canvas in synch.\n",
       "        canvas_div.css('width', width)\n",
       "        canvas_div.css('height', height)\n",
       "\n",
       "        canvas.attr('width', width * mpl.ratio);\n",
       "        canvas.attr('height', height * mpl.ratio);\n",
       "        canvas.attr('style', 'width: ' + width + 'px; height: ' + height + 'px;');\n",
       "\n",
       "        rubberband.attr('width', width);\n",
       "        rubberband.attr('height', height);\n",
       "    }\n",
       "\n",
       "    // Set the figure to an initial 600x600px, this will subsequently be updated\n",
       "    // upon first draw.\n",
       "    this._resize_canvas(600, 600);\n",
       "\n",
       "    // Disable right mouse context menu.\n",
       "    $(this.rubberband_canvas).bind(\"contextmenu\",function(e){\n",
       "        return false;\n",
       "    });\n",
       "\n",
       "    function set_focus () {\n",
       "        canvas.focus();\n",
       "        canvas_div.focus();\n",
       "    }\n",
       "\n",
       "    window.setTimeout(set_focus, 100);\n",
       "}\n",
       "\n",
       "mpl.figure.prototype._init_toolbar = function() {\n",
       "    var fig = this;\n",
       "\n",
       "    var nav_element = $('<div/>');\n",
       "    nav_element.attr('style', 'width: 100%');\n",
       "    this.root.append(nav_element);\n",
       "\n",
       "    // Define a callback function for later on.\n",
       "    function toolbar_event(event) {\n",
       "        return fig.toolbar_button_onclick(event['data']);\n",
       "    }\n",
       "    function toolbar_mouse_event(event) {\n",
       "        return fig.toolbar_button_onmouseover(event['data']);\n",
       "    }\n",
       "\n",
       "    for(var toolbar_ind in mpl.toolbar_items) {\n",
       "        var name = mpl.toolbar_items[toolbar_ind][0];\n",
       "        var tooltip = mpl.toolbar_items[toolbar_ind][1];\n",
       "        var image = mpl.toolbar_items[toolbar_ind][2];\n",
       "        var method_name = mpl.toolbar_items[toolbar_ind][3];\n",
       "\n",
       "        if (!name) {\n",
       "            // put a spacer in here.\n",
       "            continue;\n",
       "        }\n",
       "        var button = $('<button/>');\n",
       "        button.addClass('ui-button ui-widget ui-state-default ui-corner-all ' +\n",
       "                        'ui-button-icon-only');\n",
       "        button.attr('role', 'button');\n",
       "        button.attr('aria-disabled', 'false');\n",
       "        button.click(method_name, toolbar_event);\n",
       "        button.mouseover(tooltip, toolbar_mouse_event);\n",
       "\n",
       "        var icon_img = $('<span/>');\n",
       "        icon_img.addClass('ui-button-icon-primary ui-icon');\n",
       "        icon_img.addClass(image);\n",
       "        icon_img.addClass('ui-corner-all');\n",
       "\n",
       "        var tooltip_span = $('<span/>');\n",
       "        tooltip_span.addClass('ui-button-text');\n",
       "        tooltip_span.html(tooltip);\n",
       "\n",
       "        button.append(icon_img);\n",
       "        button.append(tooltip_span);\n",
       "\n",
       "        nav_element.append(button);\n",
       "    }\n",
       "\n",
       "    var fmt_picker_span = $('<span/>');\n",
       "\n",
       "    var fmt_picker = $('<select/>');\n",
       "    fmt_picker.addClass('mpl-toolbar-option ui-widget ui-widget-content');\n",
       "    fmt_picker_span.append(fmt_picker);\n",
       "    nav_element.append(fmt_picker_span);\n",
       "    this.format_dropdown = fmt_picker[0];\n",
       "\n",
       "    for (var ind in mpl.extensions) {\n",
       "        var fmt = mpl.extensions[ind];\n",
       "        var option = $(\n",
       "            '<option/>', {selected: fmt === mpl.default_extension}).html(fmt);\n",
       "        fmt_picker.append(option);\n",
       "    }\n",
       "\n",
       "    // Add hover states to the ui-buttons\n",
       "    $( \".ui-button\" ).hover(\n",
       "        function() { $(this).addClass(\"ui-state-hover\");},\n",
       "        function() { $(this).removeClass(\"ui-state-hover\");}\n",
       "    );\n",
       "\n",
       "    var status_bar = $('<span class=\"mpl-message\"/>');\n",
       "    nav_element.append(status_bar);\n",
       "    this.message = status_bar[0];\n",
       "}\n",
       "\n",
       "mpl.figure.prototype.request_resize = function(x_pixels, y_pixels) {\n",
       "    // Request matplotlib to resize the figure. Matplotlib will then trigger a resize in the client,\n",
       "    // which will in turn request a refresh of the image.\n",
       "    this.send_message('resize', {'width': x_pixels, 'height': y_pixels});\n",
       "}\n",
       "\n",
       "mpl.figure.prototype.send_message = function(type, properties) {\n",
       "    properties['type'] = type;\n",
       "    properties['figure_id'] = this.id;\n",
       "    this.ws.send(JSON.stringify(properties));\n",
       "}\n",
       "\n",
       "mpl.figure.prototype.send_draw_message = function() {\n",
       "    if (!this.waiting) {\n",
       "        this.waiting = true;\n",
       "        this.ws.send(JSON.stringify({type: \"draw\", figure_id: this.id}));\n",
       "    }\n",
       "}\n",
       "\n",
       "\n",
       "mpl.figure.prototype.handle_save = function(fig, msg) {\n",
       "    var format_dropdown = fig.format_dropdown;\n",
       "    var format = format_dropdown.options[format_dropdown.selectedIndex].value;\n",
       "    fig.ondownload(fig, format);\n",
       "}\n",
       "\n",
       "\n",
       "mpl.figure.prototype.handle_resize = function(fig, msg) {\n",
       "    var size = msg['size'];\n",
       "    if (size[0] != fig.canvas.width || size[1] != fig.canvas.height) {\n",
       "        fig._resize_canvas(size[0], size[1]);\n",
       "        fig.send_message(\"refresh\", {});\n",
       "    };\n",
       "}\n",
       "\n",
       "mpl.figure.prototype.handle_rubberband = function(fig, msg) {\n",
       "    var x0 = msg['x0'] / mpl.ratio;\n",
       "    var y0 = (fig.canvas.height - msg['y0']) / mpl.ratio;\n",
       "    var x1 = msg['x1'] / mpl.ratio;\n",
       "    var y1 = (fig.canvas.height - msg['y1']) / mpl.ratio;\n",
       "    x0 = Math.floor(x0) + 0.5;\n",
       "    y0 = Math.floor(y0) + 0.5;\n",
       "    x1 = Math.floor(x1) + 0.5;\n",
       "    y1 = Math.floor(y1) + 0.5;\n",
       "    var min_x = Math.min(x0, x1);\n",
       "    var min_y = Math.min(y0, y1);\n",
       "    var width = Math.abs(x1 - x0);\n",
       "    var height = Math.abs(y1 - y0);\n",
       "\n",
       "    fig.rubberband_context.clearRect(\n",
       "        0, 0, fig.canvas.width / mpl.ratio, fig.canvas.height / mpl.ratio);\n",
       "\n",
       "    fig.rubberband_context.strokeRect(min_x, min_y, width, height);\n",
       "}\n",
       "\n",
       "mpl.figure.prototype.handle_figure_label = function(fig, msg) {\n",
       "    // Updates the figure title.\n",
       "    fig.header.textContent = msg['label'];\n",
       "}\n",
       "\n",
       "mpl.figure.prototype.handle_cursor = function(fig, msg) {\n",
       "    var cursor = msg['cursor'];\n",
       "    switch(cursor)\n",
       "    {\n",
       "    case 0:\n",
       "        cursor = 'pointer';\n",
       "        break;\n",
       "    case 1:\n",
       "        cursor = 'default';\n",
       "        break;\n",
       "    case 2:\n",
       "        cursor = 'crosshair';\n",
       "        break;\n",
       "    case 3:\n",
       "        cursor = 'move';\n",
       "        break;\n",
       "    }\n",
       "    fig.rubberband_canvas.style.cursor = cursor;\n",
       "}\n",
       "\n",
       "mpl.figure.prototype.handle_message = function(fig, msg) {\n",
       "    fig.message.textContent = msg['message'];\n",
       "}\n",
       "\n",
       "mpl.figure.prototype.handle_draw = function(fig, msg) {\n",
       "    // Request the server to send over a new figure.\n",
       "    fig.send_draw_message();\n",
       "}\n",
       "\n",
       "mpl.figure.prototype.handle_image_mode = function(fig, msg) {\n",
       "    fig.image_mode = msg['mode'];\n",
       "}\n",
       "\n",
       "mpl.figure.prototype.updated_canvas_event = function() {\n",
       "    // Called whenever the canvas gets updated.\n",
       "    this.send_message(\"ack\", {});\n",
       "}\n",
       "\n",
       "// A function to construct a web socket function for onmessage handling.\n",
       "// Called in the figure constructor.\n",
       "mpl.figure.prototype._make_on_message_function = function(fig) {\n",
       "    return function socket_on_message(evt) {\n",
       "        if (evt.data instanceof Blob) {\n",
       "            /* FIXME: We get \"Resource interpreted as Image but\n",
       "             * transferred with MIME type text/plain:\" errors on\n",
       "             * Chrome.  But how to set the MIME type?  It doesn't seem\n",
       "             * to be part of the websocket stream */\n",
       "            evt.data.type = \"image/png\";\n",
       "\n",
       "            /* Free the memory for the previous frames */\n",
       "            if (fig.imageObj.src) {\n",
       "                (window.URL || window.webkitURL).revokeObjectURL(\n",
       "                    fig.imageObj.src);\n",
       "            }\n",
       "\n",
       "            fig.imageObj.src = (window.URL || window.webkitURL).createObjectURL(\n",
       "                evt.data);\n",
       "            fig.updated_canvas_event();\n",
       "            fig.waiting = false;\n",
       "            return;\n",
       "        }\n",
       "        else if (typeof evt.data === 'string' && evt.data.slice(0, 21) == \"data:image/png;base64\") {\n",
       "            fig.imageObj.src = evt.data;\n",
       "            fig.updated_canvas_event();\n",
       "            fig.waiting = false;\n",
       "            return;\n",
       "        }\n",
       "\n",
       "        var msg = JSON.parse(evt.data);\n",
       "        var msg_type = msg['type'];\n",
       "\n",
       "        // Call the  \"handle_{type}\" callback, which takes\n",
       "        // the figure and JSON message as its only arguments.\n",
       "        try {\n",
       "            var callback = fig[\"handle_\" + msg_type];\n",
       "        } catch (e) {\n",
       "            console.log(\"No handler for the '\" + msg_type + \"' message type: \", msg);\n",
       "            return;\n",
       "        }\n",
       "\n",
       "        if (callback) {\n",
       "            try {\n",
       "                // console.log(\"Handling '\" + msg_type + \"' message: \", msg);\n",
       "                callback(fig, msg);\n",
       "            } catch (e) {\n",
       "                console.log(\"Exception inside the 'handler_\" + msg_type + \"' callback:\", e, e.stack, msg);\n",
       "            }\n",
       "        }\n",
       "    };\n",
       "}\n",
       "\n",
       "// from http://stackoverflow.com/questions/1114465/getting-mouse-location-in-canvas\n",
       "mpl.findpos = function(e) {\n",
       "    //this section is from http://www.quirksmode.org/js/events_properties.html\n",
       "    var targ;\n",
       "    if (!e)\n",
       "        e = window.event;\n",
       "    if (e.target)\n",
       "        targ = e.target;\n",
       "    else if (e.srcElement)\n",
       "        targ = e.srcElement;\n",
       "    if (targ.nodeType == 3) // defeat Safari bug\n",
       "        targ = targ.parentNode;\n",
       "\n",
       "    // jQuery normalizes the pageX and pageY\n",
       "    // pageX,Y are the mouse positions relative to the document\n",
       "    // offset() returns the position of the element relative to the document\n",
       "    var x = e.pageX - $(targ).offset().left;\n",
       "    var y = e.pageY - $(targ).offset().top;\n",
       "\n",
       "    return {\"x\": x, \"y\": y};\n",
       "};\n",
       "\n",
       "/*\n",
       " * return a copy of an object with only non-object keys\n",
       " * we need this to avoid circular references\n",
       " * http://stackoverflow.com/a/24161582/3208463\n",
       " */\n",
       "function simpleKeys (original) {\n",
       "  return Object.keys(original).reduce(function (obj, key) {\n",
       "    if (typeof original[key] !== 'object')\n",
       "        obj[key] = original[key]\n",
       "    return obj;\n",
       "  }, {});\n",
       "}\n",
       "\n",
       "mpl.figure.prototype.mouse_event = function(event, name) {\n",
       "    var canvas_pos = mpl.findpos(event)\n",
       "\n",
       "    if (name === 'button_press')\n",
       "    {\n",
       "        this.canvas.focus();\n",
       "        this.canvas_div.focus();\n",
       "    }\n",
       "\n",
       "    var x = canvas_pos.x * mpl.ratio;\n",
       "    var y = canvas_pos.y * mpl.ratio;\n",
       "\n",
       "    this.send_message(name, {x: x, y: y, button: event.button,\n",
       "                             step: event.step,\n",
       "                             guiEvent: simpleKeys(event)});\n",
       "\n",
       "    /* This prevents the web browser from automatically changing to\n",
       "     * the text insertion cursor when the button is pressed.  We want\n",
       "     * to control all of the cursor setting manually through the\n",
       "     * 'cursor' event from matplotlib */\n",
       "    event.preventDefault();\n",
       "    return false;\n",
       "}\n",
       "\n",
       "mpl.figure.prototype._key_event_extra = function(event, name) {\n",
       "    // Handle any extra behaviour associated with a key event\n",
       "}\n",
       "\n",
       "mpl.figure.prototype.key_event = function(event, name) {\n",
       "\n",
       "    // Prevent repeat events\n",
       "    if (name == 'key_press')\n",
       "    {\n",
       "        if (event.which === this._key)\n",
       "            return;\n",
       "        else\n",
       "            this._key = event.which;\n",
       "    }\n",
       "    if (name == 'key_release')\n",
       "        this._key = null;\n",
       "\n",
       "    var value = '';\n",
       "    if (event.ctrlKey && event.which != 17)\n",
       "        value += \"ctrl+\";\n",
       "    if (event.altKey && event.which != 18)\n",
       "        value += \"alt+\";\n",
       "    if (event.shiftKey && event.which != 16)\n",
       "        value += \"shift+\";\n",
       "\n",
       "    value += 'k';\n",
       "    value += event.which.toString();\n",
       "\n",
       "    this._key_event_extra(event, name);\n",
       "\n",
       "    this.send_message(name, {key: value,\n",
       "                             guiEvent: simpleKeys(event)});\n",
       "    return false;\n",
       "}\n",
       "\n",
       "mpl.figure.prototype.toolbar_button_onclick = function(name) {\n",
       "    if (name == 'download') {\n",
       "        this.handle_save(this, null);\n",
       "    } else {\n",
       "        this.send_message(\"toolbar_button\", {name: name});\n",
       "    }\n",
       "};\n",
       "\n",
       "mpl.figure.prototype.toolbar_button_onmouseover = function(tooltip) {\n",
       "    this.message.textContent = tooltip;\n",
       "};\n",
       "mpl.toolbar_items = [[\"Home\", \"Reset original view\", \"fa fa-home icon-home\", \"home\"], [\"Back\", \"Back to previous view\", \"fa fa-arrow-left icon-arrow-left\", \"back\"], [\"Forward\", \"Forward to next view\", \"fa fa-arrow-right icon-arrow-right\", \"forward\"], [\"\", \"\", \"\", \"\"], [\"Pan\", \"Pan axes with left mouse, zoom with right\", \"fa fa-arrows icon-move\", \"pan\"], [\"Zoom\", \"Zoom to rectangle\", \"fa fa-square-o icon-check-empty\", \"zoom\"], [\"\", \"\", \"\", \"\"], [\"Download\", \"Download plot\", \"fa fa-floppy-o icon-save\", \"download\"]];\n",
       "\n",
       "mpl.extensions = [\"eps\", \"jpeg\", \"pdf\", \"png\", \"ps\", \"raw\", \"svg\", \"tif\"];\n",
       "\n",
       "mpl.default_extension = \"png\";var comm_websocket_adapter = function(comm) {\n",
       "    // Create a \"websocket\"-like object which calls the given IPython comm\n",
       "    // object with the appropriate methods. Currently this is a non binary\n",
       "    // socket, so there is still some room for performance tuning.\n",
       "    var ws = {};\n",
       "\n",
       "    ws.close = function() {\n",
       "        comm.close()\n",
       "    };\n",
       "    ws.send = function(m) {\n",
       "        //console.log('sending', m);\n",
       "        comm.send(m);\n",
       "    };\n",
       "    // Register the callback with on_msg.\n",
       "    comm.on_msg(function(msg) {\n",
       "        //console.log('receiving', msg['content']['data'], msg);\n",
       "        // Pass the mpl event to the overridden (by mpl) onmessage function.\n",
       "        ws.onmessage(msg['content']['data'])\n",
       "    });\n",
       "    return ws;\n",
       "}\n",
       "\n",
       "mpl.mpl_figure_comm = function(comm, msg) {\n",
       "    // This is the function which gets called when the mpl process\n",
       "    // starts-up an IPython Comm through the \"matplotlib\" channel.\n",
       "\n",
       "    var id = msg.content.data.id;\n",
       "    // Get hold of the div created by the display call when the Comm\n",
       "    // socket was opened in Python.\n",
       "    var element = $(\"#\" + id);\n",
       "    var ws_proxy = comm_websocket_adapter(comm)\n",
       "\n",
       "    function ondownload(figure, format) {\n",
       "        window.open(figure.imageObj.src);\n",
       "    }\n",
       "\n",
       "    var fig = new mpl.figure(id, ws_proxy,\n",
       "                           ondownload,\n",
       "                           element.get(0));\n",
       "\n",
       "    // Call onopen now - mpl needs it, as it is assuming we've passed it a real\n",
       "    // web socket which is closed, not our websocket->open comm proxy.\n",
       "    ws_proxy.onopen();\n",
       "\n",
       "    fig.parent_element = element.get(0);\n",
       "    fig.cell_info = mpl.find_output_cell(\"<div id='\" + id + \"'></div>\");\n",
       "    if (!fig.cell_info) {\n",
       "        console.error(\"Failed to find cell for figure\", id, fig);\n",
       "        return;\n",
       "    }\n",
       "\n",
       "    var output_index = fig.cell_info[2]\n",
       "    var cell = fig.cell_info[0];\n",
       "\n",
       "};\n",
       "\n",
       "mpl.figure.prototype.handle_close = function(fig, msg) {\n",
       "    var width = fig.canvas.width/mpl.ratio\n",
       "    fig.root.unbind('remove')\n",
       "\n",
       "    // Update the output cell to use the data from the current canvas.\n",
       "    fig.push_to_output();\n",
       "    var dataURL = fig.canvas.toDataURL();\n",
       "    // Re-enable the keyboard manager in IPython - without this line, in FF,\n",
       "    // the notebook keyboard shortcuts fail.\n",
       "    IPython.keyboard_manager.enable()\n",
       "    $(fig.parent_element).html('<img src=\"' + dataURL + '\" width=\"' + width + '\">');\n",
       "    fig.close_ws(fig, msg);\n",
       "}\n",
       "\n",
       "mpl.figure.prototype.close_ws = function(fig, msg){\n",
       "    fig.send_message('closing', msg);\n",
       "    // fig.ws.close()\n",
       "}\n",
       "\n",
       "mpl.figure.prototype.push_to_output = function(remove_interactive) {\n",
       "    // Turn the data on the canvas into data in the output cell.\n",
       "    var width = this.canvas.width/mpl.ratio\n",
       "    var dataURL = this.canvas.toDataURL();\n",
       "    this.cell_info[1]['text/html'] = '<img src=\"' + dataURL + '\" width=\"' + width + '\">';\n",
       "}\n",
       "\n",
       "mpl.figure.prototype.updated_canvas_event = function() {\n",
       "    // Tell IPython that the notebook contents must change.\n",
       "    IPython.notebook.set_dirty(true);\n",
       "    this.send_message(\"ack\", {});\n",
       "    var fig = this;\n",
       "    // Wait a second, then push the new image to the DOM so\n",
       "    // that it is saved nicely (might be nice to debounce this).\n",
       "    setTimeout(function () { fig.push_to_output() }, 1000);\n",
       "}\n",
       "\n",
       "mpl.figure.prototype._init_toolbar = function() {\n",
       "    var fig = this;\n",
       "\n",
       "    var nav_element = $('<div/>');\n",
       "    nav_element.attr('style', 'width: 100%');\n",
       "    this.root.append(nav_element);\n",
       "\n",
       "    // Define a callback function for later on.\n",
       "    function toolbar_event(event) {\n",
       "        return fig.toolbar_button_onclick(event['data']);\n",
       "    }\n",
       "    function toolbar_mouse_event(event) {\n",
       "        return fig.toolbar_button_onmouseover(event['data']);\n",
       "    }\n",
       "\n",
       "    for(var toolbar_ind in mpl.toolbar_items){\n",
       "        var name = mpl.toolbar_items[toolbar_ind][0];\n",
       "        var tooltip = mpl.toolbar_items[toolbar_ind][1];\n",
       "        var image = mpl.toolbar_items[toolbar_ind][2];\n",
       "        var method_name = mpl.toolbar_items[toolbar_ind][3];\n",
       "\n",
       "        if (!name) { continue; };\n",
       "\n",
       "        var button = $('<button class=\"btn btn-default\" href=\"#\" title=\"' + name + '\"><i class=\"fa ' + image + ' fa-lg\"></i></button>');\n",
       "        button.click(method_name, toolbar_event);\n",
       "        button.mouseover(tooltip, toolbar_mouse_event);\n",
       "        nav_element.append(button);\n",
       "    }\n",
       "\n",
       "    // Add the status bar.\n",
       "    var status_bar = $('<span class=\"mpl-message\" style=\"text-align:right; float: right;\"/>');\n",
       "    nav_element.append(status_bar);\n",
       "    this.message = status_bar[0];\n",
       "\n",
       "    // Add the close button to the window.\n",
       "    var buttongrp = $('<div class=\"btn-group inline pull-right\"></div>');\n",
       "    var button = $('<button class=\"btn btn-mini btn-primary\" href=\"#\" title=\"Stop Interaction\"><i class=\"fa fa-power-off icon-remove icon-large\"></i></button>');\n",
       "    button.click(function (evt) { fig.handle_close(fig, {}); } );\n",
       "    button.mouseover('Stop Interaction', toolbar_mouse_event);\n",
       "    buttongrp.append(button);\n",
       "    var titlebar = this.root.find($('.ui-dialog-titlebar'));\n",
       "    titlebar.prepend(buttongrp);\n",
       "}\n",
       "\n",
       "mpl.figure.prototype._root_extra_style = function(el){\n",
       "    var fig = this\n",
       "    el.on(\"remove\", function(){\n",
       "\tfig.close_ws(fig, {});\n",
       "    });\n",
       "}\n",
       "\n",
       "mpl.figure.prototype._canvas_extra_style = function(el){\n",
       "    // this is important to make the div 'focusable\n",
       "    el.attr('tabindex', 0)\n",
       "    // reach out to IPython and tell the keyboard manager to turn it's self\n",
       "    // off when our div gets focus\n",
       "\n",
       "    // location in version 3\n",
       "    if (IPython.notebook.keyboard_manager) {\n",
       "        IPython.notebook.keyboard_manager.register_events(el);\n",
       "    }\n",
       "    else {\n",
       "        // location in version 2\n",
       "        IPython.keyboard_manager.register_events(el);\n",
       "    }\n",
       "\n",
       "}\n",
       "\n",
       "mpl.figure.prototype._key_event_extra = function(event, name) {\n",
       "    var manager = IPython.notebook.keyboard_manager;\n",
       "    if (!manager)\n",
       "        manager = IPython.keyboard_manager;\n",
       "\n",
       "    // Check for shift+enter\n",
       "    if (event.shiftKey && event.which == 13) {\n",
       "        this.canvas_div.blur();\n",
       "        // select the cell after this one\n",
       "        var index = IPython.notebook.find_cell_index(this.cell_info[0]);\n",
       "        IPython.notebook.select(index + 1);\n",
       "    }\n",
       "}\n",
       "\n",
       "mpl.figure.prototype.handle_save = function(fig, msg) {\n",
       "    fig.ondownload(fig, null);\n",
       "}\n",
       "\n",
       "\n",
       "mpl.find_output_cell = function(html_output) {\n",
       "    // Return the cell and output element which can be found *uniquely* in the notebook.\n",
       "    // Note - this is a bit hacky, but it is done because the \"notebook_saving.Notebook\"\n",
       "    // IPython event is triggered only after the cells have been serialised, which for\n",
       "    // our purposes (turning an active figure into a static one), is too late.\n",
       "    var cells = IPython.notebook.get_cells();\n",
       "    var ncells = cells.length;\n",
       "    for (var i=0; i<ncells; i++) {\n",
       "        var cell = cells[i];\n",
       "        if (cell.cell_type === 'code'){\n",
       "            for (var j=0; j<cell.output_area.outputs.length; j++) {\n",
       "                var data = cell.output_area.outputs[j];\n",
       "                if (data.data) {\n",
       "                    // IPython >= 3 moved mimebundle to data attribute of output\n",
       "                    data = data.data;\n",
       "                }\n",
       "                if (data['text/html'] == html_output) {\n",
       "                    return [cell, data, j];\n",
       "                }\n",
       "            }\n",
       "        }\n",
       "    }\n",
       "}\n",
       "\n",
       "// Register the function which deals with the matplotlib target/channel.\n",
       "// The kernel may be null if the page has been refreshed.\n",
       "if (IPython.notebook.kernel != null) {\n",
       "    IPython.notebook.kernel.comm_manager.register_target('matplotlib', mpl.mpl_figure_comm);\n",
       "}\n"
      ],
      "text/plain": [
       "<IPython.core.display.Javascript object>"
      ]
     },
     "metadata": {},
     "output_type": "display_data"
    },
    {
     "data": {
      "text/html": [
       "<img src=\"data:image/png;base64,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\" width=\"1000\">"
      ],
      "text/plain": [
       "<IPython.core.display.HTML object>"
      ]
     },
     "metadata": {},
     "output_type": "display_data"
    }
   ],
   "source": [
    "ax, tax, lax, lines = dual_train_plots()\n",
    "fig = ax.figure\n",
    "plt.tight_layout()"
   ]
  },
  {
   "cell_type": "code",
   "execution_count": 15,
   "metadata": {
    "scrolled": false
   },
   "outputs": [
    {
     "name": "stdout",
     "output_type": "stream",
     "text": [
      "Number of batches: train = 1250, val = 78\n"
     ]
    },
    {
     "data": {
      "application/vnd.jupyter.widget-view+json": {
       "model_id": "9796891f96684a64abe0cf89214a6f04",
       "version_major": 2,
       "version_minor": 0
      },
      "text/plain": [
       "HBox(children=(FloatProgress(value=0.0, description='Epochs', layout=Layout(flex='2'), max=200.0, style=Progre…"
      ]
     },
     "metadata": {},
     "output_type": "display_data"
    },
    {
     "data": {
      "application/vnd.jupyter.widget-view+json": {
       "model_id": "",
       "version_major": 2,
       "version_minor": 0
      },
      "text/plain": [
       "HBox(children=(FloatProgress(value=0.0, description='Training', layout=Layout(flex='2'), max=1250.0, style=Pro…"
      ]
     },
     "metadata": {},
     "output_type": "display_data"
    },
    {
     "name": "stdout",
     "output_type": "stream",
     "text": [
      "Epoch 0: train=16.3388, val=15.1294, took 28.104 s\n",
      "  Validation Found 41966 of 54504, added 1236 (eff 77.00%) (0.124 FP/event)\n"
     ]
    },
    {
     "data": {
      "application/vnd.jupyter.widget-view+json": {
       "model_id": "",
       "version_major": 2,
       "version_minor": 0
      },
      "text/plain": [
       "HBox(children=(FloatProgress(value=0.0, description='Training', layout=Layout(flex='2'), max=1250.0, style=Pro…"
      ]
     },
     "metadata": {},
     "output_type": "display_data"
    },
    {
     "name": "stdout",
     "output_type": "stream",
     "text": [
      "Epoch 1: train=16.3249, val=14.943, took 27.001 s\n",
      "  Validation Found 41574 of 54504, added 956 (eff 76.28%) (0.0957 FP/event)\n"
     ]
    },
    {
     "data": {
      "application/vnd.jupyter.widget-view+json": {
       "model_id": "",
       "version_major": 2,
       "version_minor": 0
      },
      "text/plain": [
       "HBox(children=(FloatProgress(value=0.0, description='Training', layout=Layout(flex='2'), max=1250.0, style=Pro…"
      ]
     },
     "metadata": {},
     "output_type": "display_data"
    },
    {
     "name": "stdout",
     "output_type": "stream",
     "text": [
      "Epoch 2: train=16.2755, val=15.0244, took 25.985 s\n",
      "  Validation Found 41862 of 54504, added 1088 (eff 76.81%) (0.109 FP/event)\n"
     ]
    },
    {
     "data": {
      "application/vnd.jupyter.widget-view+json": {
       "model_id": "",
       "version_major": 2,
       "version_minor": 0
      },
      "text/plain": [
       "HBox(children=(FloatProgress(value=0.0, description='Training', layout=Layout(flex='2'), max=1250.0, style=Pro…"
      ]
     },
     "metadata": {},
     "output_type": "display_data"
    },
    {
     "name": "stdout",
     "output_type": "stream",
     "text": [
      "Epoch 3: train=16.2216, val=14.8151, took 25.656 s\n",
      "  Validation Found 41536 of 54504, added 935 (eff 76.21%) (0.0936 FP/event)\n"
     ]
    },
    {
     "data": {
      "application/vnd.jupyter.widget-view+json": {
       "model_id": "",
       "version_major": 2,
       "version_minor": 0
      },
      "text/plain": [
       "HBox(children=(FloatProgress(value=0.0, description='Training', layout=Layout(flex='2'), max=1250.0, style=Pro…"
      ]
     },
     "metadata": {},
     "output_type": "display_data"
    },
    {
     "name": "stdout",
     "output_type": "stream",
     "text": [
      "Epoch 4: train=16.1624, val=14.895, took 25.986 s\n",
      "  Validation Found 42375 of 54504, added 1678 (eff 77.75%) (0.168 FP/event)\n"
     ]
    },
    {
     "data": {
      "application/vnd.jupyter.widget-view+json": {
       "model_id": "",
       "version_major": 2,
       "version_minor": 0
      },
      "text/plain": [
       "HBox(children=(FloatProgress(value=0.0, description='Training', layout=Layout(flex='2'), max=1250.0, style=Pro…"
      ]
     },
     "metadata": {},
     "output_type": "display_data"
    },
    {
     "name": "stdout",
     "output_type": "stream",
     "text": [
      "Epoch 5: train=16.103, val=14.7324, took 25.629 s\n",
      "  Validation Found 41931 of 54504, added 1100 (eff 76.93%) (0.11 FP/event)\n"
     ]
    },
    {
     "data": {
      "application/vnd.jupyter.widget-view+json": {
       "model_id": "",
       "version_major": 2,
       "version_minor": 0
      },
      "text/plain": [
       "HBox(children=(FloatProgress(value=0.0, description='Training', layout=Layout(flex='2'), max=1250.0, style=Pro…"
      ]
     },
     "metadata": {},
     "output_type": "display_data"
    },
    {
     "name": "stdout",
     "output_type": "stream",
     "text": [
      "Epoch 6: train=16.0564, val=14.6692, took 24.995 s\n",
      "  Validation Found 41852 of 54504, added 1092 (eff 76.79%) (0.109 FP/event)\n"
     ]
    },
    {
     "data": {
      "application/vnd.jupyter.widget-view+json": {
       "model_id": "",
       "version_major": 2,
       "version_minor": 0
      },
      "text/plain": [
       "HBox(children=(FloatProgress(value=0.0, description='Training', layout=Layout(flex='2'), max=1250.0, style=Pro…"
      ]
     },
     "metadata": {},
     "output_type": "display_data"
    },
    {
     "name": "stdout",
     "output_type": "stream",
     "text": [
      "Epoch 7: train=16.0043, val=14.6112, took 25.104 s\n",
      "  Validation Found 41766 of 54504, added 1007 (eff 76.63%) (0.101 FP/event)\n"
     ]
    },
    {
     "data": {
      "application/vnd.jupyter.widget-view+json": {
       "model_id": "",
       "version_major": 2,
       "version_minor": 0
      },
      "text/plain": [
       "HBox(children=(FloatProgress(value=0.0, description='Training', layout=Layout(flex='2'), max=1250.0, style=Pro…"
      ]
     },
     "metadata": {},
     "output_type": "display_data"
    },
    {
     "name": "stdout",
     "output_type": "stream",
     "text": [
      "Epoch 8: train=15.9479, val=14.6489, took 25.355 s\n",
      "  Validation Found 42036 of 54504, added 1045 (eff 77.12%) (0.105 FP/event)\n"
     ]
    },
    {
     "data": {
      "application/vnd.jupyter.widget-view+json": {
       "model_id": "",
       "version_major": 2,
       "version_minor": 0
      },
      "text/plain": [
       "HBox(children=(FloatProgress(value=0.0, description='Training', layout=Layout(flex='2'), max=1250.0, style=Pro…"
      ]
     },
     "metadata": {},
     "output_type": "display_data"
    },
    {
     "name": "stdout",
     "output_type": "stream",
     "text": [
      "Epoch 9: train=15.9113, val=14.5948, took 25.129 s\n",
      "  Validation Found 42059 of 54504, added 1086 (eff 77.17%) (0.109 FP/event)\n"
     ]
    },
    {
     "data": {
      "application/vnd.jupyter.widget-view+json": {
       "model_id": "",
       "version_major": 2,
       "version_minor": 0
      },
      "text/plain": [
       "HBox(children=(FloatProgress(value=0.0, description='Training', layout=Layout(flex='2'), max=1250.0, style=Pro…"
      ]
     },
     "metadata": {},
     "output_type": "display_data"
    },
    {
     "name": "stdout",
     "output_type": "stream",
     "text": [
      "Epoch 10: train=15.8471, val=14.4803, took 25.551 s\n",
      "  Validation Found 41782 of 54504, added 1014 (eff 76.66%) (0.102 FP/event)\n"
     ]
    },
    {
     "data": {
      "application/vnd.jupyter.widget-view+json": {
       "model_id": "",
       "version_major": 2,
       "version_minor": 0
      },
      "text/plain": [
       "HBox(children=(FloatProgress(value=0.0, description='Training', layout=Layout(flex='2'), max=1250.0, style=Pro…"
      ]
     },
     "metadata": {},
     "output_type": "display_data"
    },
    {
     "name": "stdout",
     "output_type": "stream",
     "text": [
      "Epoch 11: train=15.7972, val=14.4955, took 25.187 s\n",
      "  Validation Found 42213 of 54504, added 1164 (eff 77.45%) (0.117 FP/event)\n"
     ]
    },
    {
     "data": {
      "application/vnd.jupyter.widget-view+json": {
       "model_id": "",
       "version_major": 2,
       "version_minor": 0
      },
      "text/plain": [
       "HBox(children=(FloatProgress(value=0.0, description='Training', layout=Layout(flex='2'), max=1250.0, style=Pro…"
      ]
     },
     "metadata": {},
     "output_type": "display_data"
    },
    {
     "name": "stdout",
     "output_type": "stream",
     "text": [
      "Epoch 12: train=15.7196, val=14.454, took 26.388 s\n",
      "  Validation Found 42231 of 54504, added 1090 (eff 77.48%) (0.109 FP/event)\n"
     ]
    },
    {
     "data": {
      "application/vnd.jupyter.widget-view+json": {
       "model_id": "",
       "version_major": 2,
       "version_minor": 0
      },
      "text/plain": [
       "HBox(children=(FloatProgress(value=0.0, description='Training', layout=Layout(flex='2'), max=1250.0, style=Pro…"
      ]
     },
     "metadata": {},
     "output_type": "display_data"
    },
    {
     "name": "stdout",
     "output_type": "stream",
     "text": [
      "Epoch 13: train=15.6175, val=14.4299, took 25.169 s\n",
      "  Validation Found 42586 of 54504, added 1130 (eff 78.13%) (0.113 FP/event)\n"
     ]
    },
    {
     "data": {
      "application/vnd.jupyter.widget-view+json": {
       "model_id": "",
       "version_major": 2,
       "version_minor": 0
      },
      "text/plain": [
       "HBox(children=(FloatProgress(value=0.0, description='Training', layout=Layout(flex='2'), max=1250.0, style=Pro…"
      ]
     },
     "metadata": {},
     "output_type": "display_data"
    },
    {
     "name": "stdout",
     "output_type": "stream",
     "text": [
      "Epoch 14: train=15.5439, val=14.3157, took 25.856 s\n",
      "  Validation Found 42610 of 54504, added 1187 (eff 78.18%) (0.119 FP/event)\n"
     ]
    },
    {
     "data": {
      "application/vnd.jupyter.widget-view+json": {
       "model_id": "",
       "version_major": 2,
       "version_minor": 0
      },
      "text/plain": [
       "HBox(children=(FloatProgress(value=0.0, description='Training', layout=Layout(flex='2'), max=1250.0, style=Pro…"
      ]
     },
     "metadata": {},
     "output_type": "display_data"
    },
    {
     "name": "stdout",
     "output_type": "stream",
     "text": [
      "Epoch 15: train=15.435, val=14.1031, took 26.043 s\n",
      "  Validation Found 42612 of 54504, added 1125 (eff 78.18%) (0.113 FP/event)\n"
     ]
    },
    {
     "data": {
      "application/vnd.jupyter.widget-view+json": {
       "model_id": "",
       "version_major": 2,
       "version_minor": 0
      },
      "text/plain": [
       "HBox(children=(FloatProgress(value=0.0, description='Training', layout=Layout(flex='2'), max=1250.0, style=Pro…"
      ]
     },
     "metadata": {},
     "output_type": "display_data"
    },
    {
     "name": "stdout",
     "output_type": "stream",
     "text": [
      "Epoch 16: train=15.3274, val=14.0857, took 25.306 s\n",
      "  Validation Found 42576 of 54504, added 1052 (eff 78.12%) (0.105 FP/event)\n"
     ]
    },
    {
     "data": {
      "application/vnd.jupyter.widget-view+json": {
       "model_id": "",
       "version_major": 2,
       "version_minor": 0
      },
      "text/plain": [
       "HBox(children=(FloatProgress(value=0.0, description='Training', layout=Layout(flex='2'), max=1250.0, style=Pro…"
      ]
     },
     "metadata": {},
     "output_type": "display_data"
    },
    {
     "name": "stdout",
     "output_type": "stream",
     "text": [
      "Epoch 17: train=15.2353, val=13.9549, took 26.06 s\n",
      "  Validation Found 42796 of 54504, added 1178 (eff 78.52%) (0.118 FP/event)\n"
     ]
    },
    {
     "data": {
      "application/vnd.jupyter.widget-view+json": {
       "model_id": "",
       "version_major": 2,
       "version_minor": 0
      },
      "text/plain": [
       "HBox(children=(FloatProgress(value=0.0, description='Training', layout=Layout(flex='2'), max=1250.0, style=Pro…"
      ]
     },
     "metadata": {},
     "output_type": "display_data"
    },
    {
     "name": "stdout",
     "output_type": "stream",
     "text": [
      "Epoch 18: train=15.1675, val=13.9495, took 25.275 s\n",
      "  Validation Found 42919 of 54504, added 1182 (eff 78.74%) (0.118 FP/event)\n"
     ]
    },
    {
     "data": {
      "application/vnd.jupyter.widget-view+json": {
       "model_id": "",
       "version_major": 2,
       "version_minor": 0
      },
      "text/plain": [
       "HBox(children=(FloatProgress(value=0.0, description='Training', layout=Layout(flex='2'), max=1250.0, style=Pro…"
      ]
     },
     "metadata": {},
     "output_type": "display_data"
    },
    {
     "name": "stdout",
     "output_type": "stream",
     "text": [
      "Epoch 19: train=15.0971, val=13.8799, took 25.376 s\n",
      "  Validation Found 42839 of 54504, added 1108 (eff 78.60%) (0.111 FP/event)\n"
     ]
    },
    {
     "data": {
      "application/vnd.jupyter.widget-view+json": {
       "model_id": "",
       "version_major": 2,
       "version_minor": 0
      },
      "text/plain": [
       "HBox(children=(FloatProgress(value=0.0, description='Training', layout=Layout(flex='2'), max=1250.0, style=Pro…"
      ]
     },
     "metadata": {},
     "output_type": "display_data"
    },
    {
     "name": "stdout",
     "output_type": "stream",
     "text": [
      "Epoch 20: train=15.029, val=13.7947, took 25.286 s\n",
      "  Validation Found 42910 of 54504, added 1120 (eff 78.73%) (0.112 FP/event)\n"
     ]
    },
    {
     "data": {
      "application/vnd.jupyter.widget-view+json": {
       "model_id": "",
       "version_major": 2,
       "version_minor": 0
      },
      "text/plain": [
       "HBox(children=(FloatProgress(value=0.0, description='Training', layout=Layout(flex='2'), max=1250.0, style=Pro…"
      ]
     },
     "metadata": {},
     "output_type": "display_data"
    },
    {
     "name": "stdout",
     "output_type": "stream",
     "text": [
      "Epoch 21: train=14.9563, val=13.6788, took 25.333 s\n",
      "  Validation Found 43021 of 54504, added 1136 (eff 78.93%) (0.114 FP/event)\n"
     ]
    },
    {
     "data": {
      "application/vnd.jupyter.widget-view+json": {
       "model_id": "",
       "version_major": 2,
       "version_minor": 0
      },
      "text/plain": [
       "HBox(children=(FloatProgress(value=0.0, description='Training', layout=Layout(flex='2'), max=1250.0, style=Pro…"
      ]
     },
     "metadata": {},
     "output_type": "display_data"
    },
    {
     "name": "stdout",
     "output_type": "stream",
     "text": [
      "Epoch 22: train=14.861, val=13.5747, took 25.18 s\n",
      "  Validation Found 43092 of 54504, added 1118 (eff 79.06%) (0.112 FP/event)\n"
     ]
    },
    {
     "data": {
      "application/vnd.jupyter.widget-view+json": {
       "model_id": "",
       "version_major": 2,
       "version_minor": 0
      },
      "text/plain": [
       "HBox(children=(FloatProgress(value=0.0, description='Training', layout=Layout(flex='2'), max=1250.0, style=Pro…"
      ]
     },
     "metadata": {},
     "output_type": "display_data"
    },
    {
     "name": "stdout",
     "output_type": "stream",
     "text": [
      "Epoch 23: train=14.7885, val=13.5343, took 25.147 s\n",
      "  Validation Found 43213 of 54504, added 1083 (eff 79.28%) (0.108 FP/event)\n"
     ]
    },
    {
     "data": {
      "application/vnd.jupyter.widget-view+json": {
       "model_id": "",
       "version_major": 2,
       "version_minor": 0
      },
      "text/plain": [
       "HBox(children=(FloatProgress(value=0.0, description='Training', layout=Layout(flex='2'), max=1250.0, style=Pro…"
      ]
     },
     "metadata": {},
     "output_type": "display_data"
    },
    {
     "name": "stdout",
     "output_type": "stream",
     "text": [
      "Epoch 24: train=14.7116, val=13.4353, took 25.08 s\n",
      "  Validation Found 43392 of 54504, added 1193 (eff 79.61%) (0.119 FP/event)\n"
     ]
    },
    {
     "data": {
      "application/vnd.jupyter.widget-view+json": {
       "model_id": "",
       "version_major": 2,
       "version_minor": 0
      },
      "text/plain": [
       "HBox(children=(FloatProgress(value=0.0, description='Training', layout=Layout(flex='2'), max=1250.0, style=Pro…"
      ]
     },
     "metadata": {},
     "output_type": "display_data"
    },
    {
     "name": "stdout",
     "output_type": "stream",
     "text": [
      "Epoch 25: train=14.6638, val=13.3654, took 25.016 s\n",
      "  Validation Found 43281 of 54504, added 1100 (eff 79.41%) (0.11 FP/event)\n"
     ]
    },
    {
     "data": {
      "application/vnd.jupyter.widget-view+json": {
       "model_id": "",
       "version_major": 2,
       "version_minor": 0
      },
      "text/plain": [
       "HBox(children=(FloatProgress(value=0.0, description='Training', layout=Layout(flex='2'), max=1250.0, style=Pro…"
      ]
     },
     "metadata": {},
     "output_type": "display_data"
    },
    {
     "name": "stdout",
     "output_type": "stream",
     "text": [
      "Epoch 26: train=14.6236, val=13.3694, took 25.395 s\n",
      "  Validation Found 43680 of 54504, added 1377 (eff 80.14%) (0.138 FP/event)\n"
     ]
    },
    {
     "data": {
      "application/vnd.jupyter.widget-view+json": {
       "model_id": "",
       "version_major": 2,
       "version_minor": 0
      },
      "text/plain": [
       "HBox(children=(FloatProgress(value=0.0, description='Training', layout=Layout(flex='2'), max=1250.0, style=Pro…"
      ]
     },
     "metadata": {},
     "output_type": "display_data"
    },
    {
     "name": "stdout",
     "output_type": "stream",
     "text": [
      "Epoch 27: train=14.5771, val=13.4373, took 24.933 s\n",
      "  Validation Found 43678 of 54504, added 1267 (eff 80.14%) (0.127 FP/event)\n"
     ]
    },
    {
     "data": {
      "application/vnd.jupyter.widget-view+json": {
       "model_id": "",
       "version_major": 2,
       "version_minor": 0
      },
      "text/plain": [
       "HBox(children=(FloatProgress(value=0.0, description='Training', layout=Layout(flex='2'), max=1250.0, style=Pro…"
      ]
     },
     "metadata": {},
     "output_type": "display_data"
    },
    {
     "name": "stdout",
     "output_type": "stream",
     "text": [
      "Epoch 28: train=14.5424, val=13.3077, took 25.397 s\n",
      "  Validation Found 43621 of 54504, added 1223 (eff 80.03%) (0.122 FP/event)\n"
     ]
    },
    {
     "data": {
      "application/vnd.jupyter.widget-view+json": {
       "model_id": "",
       "version_major": 2,
       "version_minor": 0
      },
      "text/plain": [
       "HBox(children=(FloatProgress(value=0.0, description='Training', layout=Layout(flex='2'), max=1250.0, style=Pro…"
      ]
     },
     "metadata": {},
     "output_type": "display_data"
    },
    {
     "name": "stdout",
     "output_type": "stream",
     "text": [
      "Epoch 29: train=14.4921, val=13.3354, took 25.406 s\n",
      "  Validation Found 43766 of 54504, added 1253 (eff 80.30%) (0.125 FP/event)\n"
     ]
    },
    {
     "data": {
      "application/vnd.jupyter.widget-view+json": {
       "model_id": "",
       "version_major": 2,
       "version_minor": 0
      },
      "text/plain": [
       "HBox(children=(FloatProgress(value=0.0, description='Training', layout=Layout(flex='2'), max=1250.0, style=Pro…"
      ]
     },
     "metadata": {},
     "output_type": "display_data"
    },
    {
     "name": "stdout",
     "output_type": "stream",
     "text": [
      "Epoch 30: train=14.4266, val=13.3703, took 25.002 s\n",
      "  Validation Found 43906 of 54504, added 1348 (eff 80.56%) (0.135 FP/event)\n"
     ]
    },
    {
     "data": {
      "application/vnd.jupyter.widget-view+json": {
       "model_id": "",
       "version_major": 2,
       "version_minor": 0
      },
      "text/plain": [
       "HBox(children=(FloatProgress(value=0.0, description='Training', layout=Layout(flex='2'), max=1250.0, style=Pro…"
      ]
     },
     "metadata": {},
     "output_type": "display_data"
    },
    {
     "name": "stdout",
     "output_type": "stream",
     "text": [
      "Epoch 31: train=14.3787, val=13.1827, took 25.13 s\n",
      "  Validation Found 43740 of 54504, added 1098 (eff 80.25%) (0.11 FP/event)\n"
     ]
    },
    {
     "data": {
      "application/vnd.jupyter.widget-view+json": {
       "model_id": "",
       "version_major": 2,
       "version_minor": 0
      },
      "text/plain": [
       "HBox(children=(FloatProgress(value=0.0, description='Training', layout=Layout(flex='2'), max=1250.0, style=Pro…"
      ]
     },
     "metadata": {},
     "output_type": "display_data"
    },
    {
     "name": "stdout",
     "output_type": "stream",
     "text": [
      "Epoch 32: train=14.3031, val=13.0352, took 25.377 s\n",
      "  Validation Found 43834 of 54504, added 1128 (eff 80.42%) (0.113 FP/event)\n"
     ]
    },
    {
     "data": {
      "application/vnd.jupyter.widget-view+json": {
       "model_id": "",
       "version_major": 2,
       "version_minor": 0
      },
      "text/plain": [
       "HBox(children=(FloatProgress(value=0.0, description='Training', layout=Layout(flex='2'), max=1250.0, style=Pro…"
      ]
     },
     "metadata": {},
     "output_type": "display_data"
    },
    {
     "name": "stdout",
     "output_type": "stream",
     "text": [
      "Epoch 33: train=14.23, val=12.9702, took 25.057 s\n",
      "  Validation Found 44109 of 54504, added 1227 (eff 80.93%) (0.123 FP/event)\n"
     ]
    },
    {
     "data": {
      "application/vnd.jupyter.widget-view+json": {
       "model_id": "",
       "version_major": 2,
       "version_minor": 0
      },
      "text/plain": [
       "HBox(children=(FloatProgress(value=0.0, description='Training', layout=Layout(flex='2'), max=1250.0, style=Pro…"
      ]
     },
     "metadata": {},
     "output_type": "display_data"
    },
    {
     "name": "stdout",
     "output_type": "stream",
     "text": [
      "Epoch 34: train=14.1278, val=12.876, took 25.747 s\n",
      "  Validation Found 44549 of 54504, added 1509 (eff 81.74%) (0.151 FP/event)\n"
     ]
    },
    {
     "data": {
      "application/vnd.jupyter.widget-view+json": {
       "model_id": "",
       "version_major": 2,
       "version_minor": 0
      },
      "text/plain": [
       "HBox(children=(FloatProgress(value=0.0, description='Training', layout=Layout(flex='2'), max=1250.0, style=Pro…"
      ]
     },
     "metadata": {},
     "output_type": "display_data"
    },
    {
     "name": "stdout",
     "output_type": "stream",
     "text": [
      "Epoch 35: train=14.0311, val=12.8458, took 25.2 s\n",
      "  Validation Found 44403 of 54504, added 1198 (eff 81.47%) (0.12 FP/event)\n"
     ]
    },
    {
     "data": {
      "application/vnd.jupyter.widget-view+json": {
       "model_id": "",
       "version_major": 2,
       "version_minor": 0
      },
      "text/plain": [
       "HBox(children=(FloatProgress(value=0.0, description='Training', layout=Layout(flex='2'), max=1250.0, style=Pro…"
      ]
     },
     "metadata": {},
     "output_type": "display_data"
    },
    {
     "name": "stdout",
     "output_type": "stream",
     "text": [
      "Epoch 36: train=13.9956, val=12.7795, took 25.047 s\n",
      "  Validation Found 44748 of 54504, added 1533 (eff 82.10%) (0.154 FP/event)\n"
     ]
    },
    {
     "data": {
      "application/vnd.jupyter.widget-view+json": {
       "model_id": "",
       "version_major": 2,
       "version_minor": 0
      },
      "text/plain": [
       "HBox(children=(FloatProgress(value=0.0, description='Training', layout=Layout(flex='2'), max=1250.0, style=Pro…"
      ]
     },
     "metadata": {},
     "output_type": "display_data"
    },
    {
     "name": "stdout",
     "output_type": "stream",
     "text": [
      "Epoch 37: train=13.9635, val=12.7051, took 25.637 s\n",
      "  Validation Found 44646 of 54504, added 1347 (eff 81.91%) (0.135 FP/event)\n"
     ]
    },
    {
     "data": {
      "application/vnd.jupyter.widget-view+json": {
       "model_id": "",
       "version_major": 2,
       "version_minor": 0
      },
      "text/plain": [
       "HBox(children=(FloatProgress(value=0.0, description='Training', layout=Layout(flex='2'), max=1250.0, style=Pro…"
      ]
     },
     "metadata": {},
     "output_type": "display_data"
    },
    {
     "name": "stdout",
     "output_type": "stream",
     "text": [
      "Epoch 38: train=13.926, val=12.7249, took 25.236 s\n",
      "  Validation Found 44513 of 54504, added 1243 (eff 81.67%) (0.124 FP/event)\n"
     ]
    },
    {
     "data": {
      "application/vnd.jupyter.widget-view+json": {
       "model_id": "",
       "version_major": 2,
       "version_minor": 0
      },
      "text/plain": [
       "HBox(children=(FloatProgress(value=0.0, description='Training', layout=Layout(flex='2'), max=1250.0, style=Pro…"
      ]
     },
     "metadata": {},
     "output_type": "display_data"
    },
    {
     "name": "stdout",
     "output_type": "stream",
     "text": [
      "Epoch 39: train=13.8701, val=12.6657, took 25.644 s\n",
      "  Validation Found 44702 of 54504, added 1311 (eff 82.02%) (0.131 FP/event)\n"
     ]
    },
    {
     "data": {
      "application/vnd.jupyter.widget-view+json": {
       "model_id": "",
       "version_major": 2,
       "version_minor": 0
      },
      "text/plain": [
       "HBox(children=(FloatProgress(value=0.0, description='Training', layout=Layout(flex='2'), max=1250.0, style=Pro…"
      ]
     },
     "metadata": {},
     "output_type": "display_data"
    },
    {
     "name": "stdout",
     "output_type": "stream",
     "text": [
      "Epoch 40: train=13.7918, val=12.5345, took 25.477 s\n",
      "  Validation Found 44954 of 54504, added 1366 (eff 82.48%) (0.137 FP/event)\n"
     ]
    },
    {
     "data": {
      "application/vnd.jupyter.widget-view+json": {
       "model_id": "",
       "version_major": 2,
       "version_minor": 0
      },
      "text/plain": [
       "HBox(children=(FloatProgress(value=0.0, description='Training', layout=Layout(flex='2'), max=1250.0, style=Pro…"
      ]
     },
     "metadata": {},
     "output_type": "display_data"
    },
    {
     "name": "stdout",
     "output_type": "stream",
     "text": [
      "Epoch 41: train=13.712, val=12.5338, took 25.584 s\n",
      "  Validation Found 45104 of 54504, added 1462 (eff 82.75%) (0.146 FP/event)\n"
     ]
    },
    {
     "data": {
      "application/vnd.jupyter.widget-view+json": {
       "model_id": "",
       "version_major": 2,
       "version_minor": 0
      },
      "text/plain": [
       "HBox(children=(FloatProgress(value=0.0, description='Training', layout=Layout(flex='2'), max=1250.0, style=Pro…"
      ]
     },
     "metadata": {},
     "output_type": "display_data"
    },
    {
     "name": "stdout",
     "output_type": "stream",
     "text": [
      "Epoch 42: train=13.6724, val=12.4725, took 25.789 s\n",
      "  Validation Found 45133 of 54504, added 1391 (eff 82.81%) (0.139 FP/event)\n"
     ]
    },
    {
     "data": {
      "application/vnd.jupyter.widget-view+json": {
       "model_id": "",
       "version_major": 2,
       "version_minor": 0
      },
      "text/plain": [
       "HBox(children=(FloatProgress(value=0.0, description='Training', layout=Layout(flex='2'), max=1250.0, style=Pro…"
      ]
     },
     "metadata": {},
     "output_type": "display_data"
    },
    {
     "name": "stdout",
     "output_type": "stream",
     "text": [
      "Epoch 43: train=13.6258, val=12.4939, took 25.325 s\n",
      "  Validation Found 45103 of 54504, added 1307 (eff 82.75%) (0.131 FP/event)\n"
     ]
    },
    {
     "data": {
      "application/vnd.jupyter.widget-view+json": {
       "model_id": "",
       "version_major": 2,
       "version_minor": 0
      },
      "text/plain": [
       "HBox(children=(FloatProgress(value=0.0, description='Training', layout=Layout(flex='2'), max=1250.0, style=Pro…"
      ]
     },
     "metadata": {},
     "output_type": "display_data"
    },
    {
     "name": "stdout",
     "output_type": "stream",
     "text": [
      "Epoch 44: train=13.6013, val=12.4514, took 25.111 s\n",
      "  Validation Found 45354 of 54504, added 1499 (eff 83.21%) (0.15 FP/event)\n"
     ]
    },
    {
     "data": {
      "application/vnd.jupyter.widget-view+json": {
       "model_id": "",
       "version_major": 2,
       "version_minor": 0
      },
      "text/plain": [
       "HBox(children=(FloatProgress(value=0.0, description='Training', layout=Layout(flex='2'), max=1250.0, style=Pro…"
      ]
     },
     "metadata": {},
     "output_type": "display_data"
    },
    {
     "name": "stdout",
     "output_type": "stream",
     "text": [
      "Epoch 45: train=13.5681, val=12.4196, took 25.447 s\n",
      "  Validation Found 45301 of 54504, added 1487 (eff 83.12%) (0.149 FP/event)\n"
     ]
    },
    {
     "data": {
      "application/vnd.jupyter.widget-view+json": {
       "model_id": "",
       "version_major": 2,
       "version_minor": 0
      },
      "text/plain": [
       "HBox(children=(FloatProgress(value=0.0, description='Training', layout=Layout(flex='2'), max=1250.0, style=Pro…"
      ]
     },
     "metadata": {},
     "output_type": "display_data"
    },
    {
     "name": "stdout",
     "output_type": "stream",
     "text": [
      "Epoch 46: train=13.5404, val=12.4015, took 25.449 s\n",
      "  Validation Found 44995 of 54504, added 1204 (eff 82.55%) (0.121 FP/event)\n"
     ]
    },
    {
     "data": {
      "application/vnd.jupyter.widget-view+json": {
       "model_id": "",
       "version_major": 2,
       "version_minor": 0
      },
      "text/plain": [
       "HBox(children=(FloatProgress(value=0.0, description='Training', layout=Layout(flex='2'), max=1250.0, style=Pro…"
      ]
     },
     "metadata": {},
     "output_type": "display_data"
    },
    {
     "name": "stdout",
     "output_type": "stream",
     "text": [
      "Epoch 47: train=13.5174, val=12.3596, took 24.96 s\n",
      "  Validation Found 45176 of 54504, added 1352 (eff 82.89%) (0.135 FP/event)\n"
     ]
    },
    {
     "data": {
      "application/vnd.jupyter.widget-view+json": {
       "model_id": "",
       "version_major": 2,
       "version_minor": 0
      },
      "text/plain": [
       "HBox(children=(FloatProgress(value=0.0, description='Training', layout=Layout(flex='2'), max=1250.0, style=Pro…"
      ]
     },
     "metadata": {},
     "output_type": "display_data"
    },
    {
     "name": "stdout",
     "output_type": "stream",
     "text": [
      "Epoch 48: train=13.4811, val=12.2817, took 25.122 s\n",
      "  Validation Found 45177 of 54504, added 1338 (eff 82.89%) (0.134 FP/event)\n"
     ]
    },
    {
     "data": {
      "application/vnd.jupyter.widget-view+json": {
       "model_id": "",
       "version_major": 2,
       "version_minor": 0
      },
      "text/plain": [
       "HBox(children=(FloatProgress(value=0.0, description='Training', layout=Layout(flex='2'), max=1250.0, style=Pro…"
      ]
     },
     "metadata": {},
     "output_type": "display_data"
    },
    {
     "name": "stdout",
     "output_type": "stream",
     "text": [
      "Epoch 49: train=13.4618, val=12.272, took 25.171 s\n",
      "  Validation Found 45172 of 54504, added 1341 (eff 82.88%) (0.134 FP/event)\n"
     ]
    },
    {
     "data": {
      "application/vnd.jupyter.widget-view+json": {
       "model_id": "",
       "version_major": 2,
       "version_minor": 0
      },
      "text/plain": [
       "HBox(children=(FloatProgress(value=0.0, description='Training', layout=Layout(flex='2'), max=1250.0, style=Pro…"
      ]
     },
     "metadata": {},
     "output_type": "display_data"
    },
    {
     "name": "stdout",
     "output_type": "stream",
     "text": [
      "Epoch 50: train=13.4287, val=12.3242, took 25.066 s\n",
      "  Validation Found 45499 of 54504, added 1540 (eff 83.48%) (0.154 FP/event)\n"
     ]
    },
    {
     "data": {
      "application/vnd.jupyter.widget-view+json": {
       "model_id": "",
       "version_major": 2,
       "version_minor": 0
      },
      "text/plain": [
       "HBox(children=(FloatProgress(value=0.0, description='Training', layout=Layout(flex='2'), max=1250.0, style=Pro…"
      ]
     },
     "metadata": {},
     "output_type": "display_data"
    },
    {
     "name": "stdout",
     "output_type": "stream",
     "text": [
      "Epoch 51: train=13.385, val=12.219, took 25.407 s\n",
      "  Validation Found 45277 of 54504, added 1301 (eff 83.07%) (0.13 FP/event)\n"
     ]
    },
    {
     "data": {
      "application/vnd.jupyter.widget-view+json": {
       "model_id": "",
       "version_major": 2,
       "version_minor": 0
      },
      "text/plain": [
       "HBox(children=(FloatProgress(value=0.0, description='Training', layout=Layout(flex='2'), max=1250.0, style=Pro…"
      ]
     },
     "metadata": {},
     "output_type": "display_data"
    },
    {
     "name": "stdout",
     "output_type": "stream",
     "text": [
      "Epoch 52: train=13.3267, val=12.1666, took 25.549 s\n",
      "  Validation Found 45279 of 54504, added 1233 (eff 83.07%) (0.123 FP/event)\n"
     ]
    },
    {
     "data": {
      "application/vnd.jupyter.widget-view+json": {
       "model_id": "",
       "version_major": 2,
       "version_minor": 0
      },
      "text/plain": [
       "HBox(children=(FloatProgress(value=0.0, description='Training', layout=Layout(flex='2'), max=1250.0, style=Pro…"
      ]
     },
     "metadata": {},
     "output_type": "display_data"
    },
    {
     "name": "stdout",
     "output_type": "stream",
     "text": [
      "Epoch 53: train=13.2753, val=12.2336, took 24.933 s\n",
      "  Validation Found 45787 of 54504, added 1674 (eff 84.01%) (0.168 FP/event)\n"
     ]
    },
    {
     "data": {
      "application/vnd.jupyter.widget-view+json": {
       "model_id": "",
       "version_major": 2,
       "version_minor": 0
      },
      "text/plain": [
       "HBox(children=(FloatProgress(value=0.0, description='Training', layout=Layout(flex='2'), max=1250.0, style=Pro…"
      ]
     },
     "metadata": {},
     "output_type": "display_data"
    },
    {
     "name": "stdout",
     "output_type": "stream",
     "text": [
      "Epoch 54: train=13.2525, val=12.0788, took 25.313 s\n",
      "  Validation Found 45427 of 54504, added 1299 (eff 83.35%) (0.13 FP/event)\n"
     ]
    },
    {
     "data": {
      "application/vnd.jupyter.widget-view+json": {
       "model_id": "",
       "version_major": 2,
       "version_minor": 0
      },
      "text/plain": [
       "HBox(children=(FloatProgress(value=0.0, description='Training', layout=Layout(flex='2'), max=1250.0, style=Pro…"
      ]
     },
     "metadata": {},
     "output_type": "display_data"
    },
    {
     "name": "stdout",
     "output_type": "stream",
     "text": [
      "Epoch 55: train=13.2231, val=12.073, took 24.768 s\n",
      "  Validation Found 45655 of 54504, added 1539 (eff 83.76%) (0.154 FP/event)\n"
     ]
    },
    {
     "data": {
      "application/vnd.jupyter.widget-view+json": {
       "model_id": "",
       "version_major": 2,
       "version_minor": 0
      },
      "text/plain": [
       "HBox(children=(FloatProgress(value=0.0, description='Training', layout=Layout(flex='2'), max=1250.0, style=Pro…"
      ]
     },
     "metadata": {},
     "output_type": "display_data"
    },
    {
     "name": "stdout",
     "output_type": "stream",
     "text": [
      "Epoch 56: train=13.1752, val=12.0427, took 25.648 s\n",
      "  Validation Found 45683 of 54504, added 1381 (eff 83.82%) (0.138 FP/event)\n"
     ]
    },
    {
     "data": {
      "application/vnd.jupyter.widget-view+json": {
       "model_id": "",
       "version_major": 2,
       "version_minor": 0
      },
      "text/plain": [
       "HBox(children=(FloatProgress(value=0.0, description='Training', layout=Layout(flex='2'), max=1250.0, style=Pro…"
      ]
     },
     "metadata": {},
     "output_type": "display_data"
    },
    {
     "name": "stdout",
     "output_type": "stream",
     "text": [
      "Epoch 57: train=13.1434, val=12.0784, took 25.523 s\n",
      "  Validation Found 45644 of 54504, added 1281 (eff 83.74%) (0.128 FP/event)\n"
     ]
    },
    {
     "data": {
      "application/vnd.jupyter.widget-view+json": {
       "model_id": "",
       "version_major": 2,
       "version_minor": 0
      },
      "text/plain": [
       "HBox(children=(FloatProgress(value=0.0, description='Training', layout=Layout(flex='2'), max=1250.0, style=Pro…"
      ]
     },
     "metadata": {},
     "output_type": "display_data"
    },
    {
     "name": "stdout",
     "output_type": "stream",
     "text": [
      "Epoch 58: train=13.1045, val=11.9696, took 24.968 s\n",
      "  Validation Found 45810 of 54504, added 1456 (eff 84.05%) (0.146 FP/event)\n"
     ]
    },
    {
     "data": {
      "application/vnd.jupyter.widget-view+json": {
       "model_id": "",
       "version_major": 2,
       "version_minor": 0
      },
      "text/plain": [
       "HBox(children=(FloatProgress(value=0.0, description='Training', layout=Layout(flex='2'), max=1250.0, style=Pro…"
      ]
     },
     "metadata": {},
     "output_type": "display_data"
    },
    {
     "name": "stdout",
     "output_type": "stream",
     "text": [
      "Epoch 59: train=13.0759, val=11.9586, took 25.586 s\n",
      "  Validation Found 45673 of 54504, added 1295 (eff 83.80%) (0.13 FP/event)\n"
     ]
    },
    {
     "data": {
      "application/vnd.jupyter.widget-view+json": {
       "model_id": "",
       "version_major": 2,
       "version_minor": 0
      },
      "text/plain": [
       "HBox(children=(FloatProgress(value=0.0, description='Training', layout=Layout(flex='2'), max=1250.0, style=Pro…"
      ]
     },
     "metadata": {},
     "output_type": "display_data"
    },
    {
     "name": "stdout",
     "output_type": "stream",
     "text": [
      "Epoch 60: train=13.0613, val=11.9549, took 25.286 s\n",
      "  Validation Found 45795 of 54504, added 1347 (eff 84.02%) (0.135 FP/event)\n"
     ]
    },
    {
     "data": {
      "application/vnd.jupyter.widget-view+json": {
       "model_id": "",
       "version_major": 2,
       "version_minor": 0
      },
      "text/plain": [
       "HBox(children=(FloatProgress(value=0.0, description='Training', layout=Layout(flex='2'), max=1250.0, style=Pro…"
      ]
     },
     "metadata": {},
     "output_type": "display_data"
    },
    {
     "name": "stdout",
     "output_type": "stream",
     "text": [
      "Epoch 61: train=13.0263, val=11.9934, took 25.458 s\n",
      "  Validation Found 46006 of 54504, added 1491 (eff 84.41%) (0.149 FP/event)\n"
     ]
    },
    {
     "data": {
      "application/vnd.jupyter.widget-view+json": {
       "model_id": "",
       "version_major": 2,
       "version_minor": 0
      },
      "text/plain": [
       "HBox(children=(FloatProgress(value=0.0, description='Training', layout=Layout(flex='2'), max=1250.0, style=Pro…"
      ]
     },
     "metadata": {},
     "output_type": "display_data"
    },
    {
     "name": "stdout",
     "output_type": "stream",
     "text": [
      "Epoch 62: train=13.0088, val=11.9692, took 25.711 s\n",
      "  Validation Found 45890 of 54504, added 1350 (eff 84.20%) (0.135 FP/event)\n"
     ]
    },
    {
     "data": {
      "application/vnd.jupyter.widget-view+json": {
       "model_id": "",
       "version_major": 2,
       "version_minor": 0
      },
      "text/plain": [
       "HBox(children=(FloatProgress(value=0.0, description='Training', layout=Layout(flex='2'), max=1250.0, style=Pro…"
      ]
     },
     "metadata": {},
     "output_type": "display_data"
    },
    {
     "name": "stdout",
     "output_type": "stream",
     "text": [
      "Epoch 63: train=12.9984, val=11.8821, took 25.294 s\n",
      "  Validation Found 46043 of 54504, added 1648 (eff 84.48%) (0.165 FP/event)\n"
     ]
    },
    {
     "data": {
      "application/vnd.jupyter.widget-view+json": {
       "model_id": "",
       "version_major": 2,
       "version_minor": 0
      },
      "text/plain": [
       "HBox(children=(FloatProgress(value=0.0, description='Training', layout=Layout(flex='2'), max=1250.0, style=Pro…"
      ]
     },
     "metadata": {},
     "output_type": "display_data"
    },
    {
     "name": "stdout",
     "output_type": "stream",
     "text": [
      "Epoch 64: train=12.9627, val=11.7985, took 25.221 s\n",
      "  Validation Found 45855 of 54504, added 1309 (eff 84.13%) (0.131 FP/event)\n"
     ]
    },
    {
     "data": {
      "application/vnd.jupyter.widget-view+json": {
       "model_id": "",
       "version_major": 2,
       "version_minor": 0
      },
      "text/plain": [
       "HBox(children=(FloatProgress(value=0.0, description='Training', layout=Layout(flex='2'), max=1250.0, style=Pro…"
      ]
     },
     "metadata": {},
     "output_type": "display_data"
    },
    {
     "name": "stdout",
     "output_type": "stream",
     "text": [
      "Epoch 65: train=12.9372, val=11.8412, took 25.549 s\n",
      "  Validation Found 45757 of 54504, added 1228 (eff 83.95%) (0.123 FP/event)\n"
     ]
    },
    {
     "data": {
      "application/vnd.jupyter.widget-view+json": {
       "model_id": "",
       "version_major": 2,
       "version_minor": 0
      },
      "text/plain": [
       "HBox(children=(FloatProgress(value=0.0, description='Training', layout=Layout(flex='2'), max=1250.0, style=Pro…"
      ]
     },
     "metadata": {},
     "output_type": "display_data"
    },
    {
     "name": "stdout",
     "output_type": "stream",
     "text": [
      "Epoch 66: train=12.9118, val=11.9961, took 25.283 s\n",
      "  Validation Found 46097 of 54504, added 1470 (eff 84.58%) (0.147 FP/event)\n"
     ]
    },
    {
     "data": {
      "application/vnd.jupyter.widget-view+json": {
       "model_id": "",
       "version_major": 2,
       "version_minor": 0
      },
      "text/plain": [
       "HBox(children=(FloatProgress(value=0.0, description='Training', layout=Layout(flex='2'), max=1250.0, style=Pro…"
      ]
     },
     "metadata": {},
     "output_type": "display_data"
    },
    {
     "name": "stdout",
     "output_type": "stream",
     "text": [
      "Epoch 67: train=12.8955, val=11.9202, took 25.918 s\n",
      "  Validation Found 46228 of 54504, added 1460 (eff 84.82%) (0.146 FP/event)\n"
     ]
    },
    {
     "data": {
      "application/vnd.jupyter.widget-view+json": {
       "model_id": "",
       "version_major": 2,
       "version_minor": 0
      },
      "text/plain": [
       "HBox(children=(FloatProgress(value=0.0, description='Training', layout=Layout(flex='2'), max=1250.0, style=Pro…"
      ]
     },
     "metadata": {},
     "output_type": "display_data"
    },
    {
     "name": "stdout",
     "output_type": "stream",
     "text": [
      "Epoch 68: train=12.8474, val=11.7528, took 25.479 s\n",
      "  Validation Found 46302 of 54504, added 1535 (eff 84.95%) (0.154 FP/event)\n"
     ]
    },
    {
     "data": {
      "application/vnd.jupyter.widget-view+json": {
       "model_id": "",
       "version_major": 2,
       "version_minor": 0
      },
      "text/plain": [
       "HBox(children=(FloatProgress(value=0.0, description='Training', layout=Layout(flex='2'), max=1250.0, style=Pro…"
      ]
     },
     "metadata": {},
     "output_type": "display_data"
    },
    {
     "name": "stdout",
     "output_type": "stream",
     "text": [
      "Epoch 69: train=12.8233, val=11.7994, took 24.954 s\n",
      "  Validation Found 46305 of 54504, added 1438 (eff 84.96%) (0.144 FP/event)\n"
     ]
    },
    {
     "data": {
      "application/vnd.jupyter.widget-view+json": {
       "model_id": "",
       "version_major": 2,
       "version_minor": 0
      },
      "text/plain": [
       "HBox(children=(FloatProgress(value=0.0, description='Training', layout=Layout(flex='2'), max=1250.0, style=Pro…"
      ]
     },
     "metadata": {},
     "output_type": "display_data"
    },
    {
     "name": "stdout",
     "output_type": "stream",
     "text": [
      "Epoch 70: train=12.7933, val=11.7529, took 25.599 s\n",
      "  Validation Found 46558 of 54504, added 1665 (eff 85.42%) (0.167 FP/event)\n"
     ]
    },
    {
     "data": {
      "application/vnd.jupyter.widget-view+json": {
       "model_id": "",
       "version_major": 2,
       "version_minor": 0
      },
      "text/plain": [
       "HBox(children=(FloatProgress(value=0.0, description='Training', layout=Layout(flex='2'), max=1250.0, style=Pro…"
      ]
     },
     "metadata": {},
     "output_type": "display_data"
    },
    {
     "name": "stdout",
     "output_type": "stream",
     "text": [
      "Epoch 71: train=12.7682, val=11.8271, took 25.417 s\n",
      "  Validation Found 46263 of 54504, added 1344 (eff 84.88%) (0.135 FP/event)\n"
     ]
    },
    {
     "data": {
      "application/vnd.jupyter.widget-view+json": {
       "model_id": "",
       "version_major": 2,
       "version_minor": 0
      },
      "text/plain": [
       "HBox(children=(FloatProgress(value=0.0, description='Training', layout=Layout(flex='2'), max=1250.0, style=Pro…"
      ]
     },
     "metadata": {},
     "output_type": "display_data"
    },
    {
     "name": "stdout",
     "output_type": "stream",
     "text": [
      "Epoch 72: train=12.7311, val=11.7226, took 25.013 s\n",
      "  Validation Found 46493 of 54504, added 1520 (eff 85.30%) (0.152 FP/event)\n"
     ]
    },
    {
     "data": {
      "application/vnd.jupyter.widget-view+json": {
       "model_id": "",
       "version_major": 2,
       "version_minor": 0
      },
      "text/plain": [
       "HBox(children=(FloatProgress(value=0.0, description='Training', layout=Layout(flex='2'), max=1250.0, style=Pro…"
      ]
     },
     "metadata": {},
     "output_type": "display_data"
    },
    {
     "name": "stdout",
     "output_type": "stream",
     "text": [
      "Epoch 73: train=12.6887, val=11.5885, took 25.435 s\n",
      "  Validation Found 46394 of 54504, added 1354 (eff 85.12%) (0.136 FP/event)\n"
     ]
    },
    {
     "data": {
      "application/vnd.jupyter.widget-view+json": {
       "model_id": "",
       "version_major": 2,
       "version_minor": 0
      },
      "text/plain": [
       "HBox(children=(FloatProgress(value=0.0, description='Training', layout=Layout(flex='2'), max=1250.0, style=Pro…"
      ]
     },
     "metadata": {},
     "output_type": "display_data"
    },
    {
     "name": "stdout",
     "output_type": "stream",
     "text": [
      "Epoch 74: train=12.6709, val=11.6281, took 25.125 s\n",
      "  Validation Found 46428 of 54504, added 1354 (eff 85.18%) (0.136 FP/event)\n"
     ]
    },
    {
     "data": {
      "application/vnd.jupyter.widget-view+json": {
       "model_id": "",
       "version_major": 2,
       "version_minor": 0
      },
      "text/plain": [
       "HBox(children=(FloatProgress(value=0.0, description='Training', layout=Layout(flex='2'), max=1250.0, style=Pro…"
      ]
     },
     "metadata": {},
     "output_type": "display_data"
    },
    {
     "name": "stdout",
     "output_type": "stream",
     "text": [
      "Epoch 75: train=12.6489, val=11.7087, took 25.234 s\n",
      "  Validation Found 46406 of 54504, added 1305 (eff 85.14%) (0.131 FP/event)\n"
     ]
    },
    {
     "data": {
      "application/vnd.jupyter.widget-view+json": {
       "model_id": "",
       "version_major": 2,
       "version_minor": 0
      },
      "text/plain": [
       "HBox(children=(FloatProgress(value=0.0, description='Training', layout=Layout(flex='2'), max=1250.0, style=Pro…"
      ]
     },
     "metadata": {},
     "output_type": "display_data"
    },
    {
     "name": "stdout",
     "output_type": "stream",
     "text": [
      "Epoch 76: train=12.6094, val=11.6515, took 25.599 s\n",
      "  Validation Found 46621 of 54504, added 1427 (eff 85.54%) (0.143 FP/event)\n"
     ]
    },
    {
     "data": {
      "application/vnd.jupyter.widget-view+json": {
       "model_id": "",
       "version_major": 2,
       "version_minor": 0
      },
      "text/plain": [
       "HBox(children=(FloatProgress(value=0.0, description='Training', layout=Layout(flex='2'), max=1250.0, style=Pro…"
      ]
     },
     "metadata": {},
     "output_type": "display_data"
    },
    {
     "name": "stdout",
     "output_type": "stream",
     "text": [
      "Epoch 77: train=12.5733, val=11.5542, took 26.179 s\n",
      "  Validation Found 46604 of 54504, added 1371 (eff 85.51%) (0.137 FP/event)\n"
     ]
    },
    {
     "data": {
      "application/vnd.jupyter.widget-view+json": {
       "model_id": "",
       "version_major": 2,
       "version_minor": 0
      },
      "text/plain": [
       "HBox(children=(FloatProgress(value=0.0, description='Training', layout=Layout(flex='2'), max=1250.0, style=Pro…"
      ]
     },
     "metadata": {},
     "output_type": "display_data"
    },
    {
     "name": "stdout",
     "output_type": "stream",
     "text": [
      "Epoch 78: train=12.5328, val=11.5337, took 25.279 s\n",
      "  Validation Found 46792 of 54504, added 1476 (eff 85.85%) (0.148 FP/event)\n"
     ]
    },
    {
     "data": {
      "application/vnd.jupyter.widget-view+json": {
       "model_id": "",
       "version_major": 2,
       "version_minor": 0
      },
      "text/plain": [
       "HBox(children=(FloatProgress(value=0.0, description='Training', layout=Layout(flex='2'), max=1250.0, style=Pro…"
      ]
     },
     "metadata": {},
     "output_type": "display_data"
    },
    {
     "name": "stdout",
     "output_type": "stream",
     "text": [
      "Epoch 79: train=12.5116, val=11.4679, took 25.69 s\n",
      "  Validation Found 46802 of 54504, added 1495 (eff 85.87%) (0.15 FP/event)\n"
     ]
    },
    {
     "data": {
      "application/vnd.jupyter.widget-view+json": {
       "model_id": "",
       "version_major": 2,
       "version_minor": 0
      },
      "text/plain": [
       "HBox(children=(FloatProgress(value=0.0, description='Training', layout=Layout(flex='2'), max=1250.0, style=Pro…"
      ]
     },
     "metadata": {},
     "output_type": "display_data"
    },
    {
     "name": "stdout",
     "output_type": "stream",
     "text": [
      "Epoch 80: train=12.4944, val=11.5573, took 25.374 s\n",
      "  Validation Found 46893 of 54504, added 1464 (eff 86.04%) (0.147 FP/event)\n"
     ]
    },
    {
     "data": {
      "application/vnd.jupyter.widget-view+json": {
       "model_id": "",
       "version_major": 2,
       "version_minor": 0
      },
      "text/plain": [
       "HBox(children=(FloatProgress(value=0.0, description='Training', layout=Layout(flex='2'), max=1250.0, style=Pro…"
      ]
     },
     "metadata": {},
     "output_type": "display_data"
    },
    {
     "name": "stdout",
     "output_type": "stream",
     "text": [
      "Epoch 81: train=12.457, val=11.3957, took 25.16 s\n",
      "  Validation Found 47032 of 54504, added 1600 (eff 86.29%) (0.16 FP/event)\n"
     ]
    },
    {
     "data": {
      "application/vnd.jupyter.widget-view+json": {
       "model_id": "",
       "version_major": 2,
       "version_minor": 0
      },
      "text/plain": [
       "HBox(children=(FloatProgress(value=0.0, description='Training', layout=Layout(flex='2'), max=1250.0, style=Pro…"
      ]
     },
     "metadata": {},
     "output_type": "display_data"
    },
    {
     "name": "stdout",
     "output_type": "stream",
     "text": [
      "Epoch 82: train=12.4337, val=11.3944, took 25.164 s\n",
      "  Validation Found 47021 of 54504, added 1511 (eff 86.27%) (0.151 FP/event)\n"
     ]
    },
    {
     "data": {
      "application/vnd.jupyter.widget-view+json": {
       "model_id": "",
       "version_major": 2,
       "version_minor": 0
      },
      "text/plain": [
       "HBox(children=(FloatProgress(value=0.0, description='Training', layout=Layout(flex='2'), max=1250.0, style=Pro…"
      ]
     },
     "metadata": {},
     "output_type": "display_data"
    },
    {
     "name": "stdout",
     "output_type": "stream",
     "text": [
      "Epoch 83: train=12.4184, val=11.4459, took 25.505 s\n",
      "  Validation Found 46993 of 54504, added 1459 (eff 86.22%) (0.146 FP/event)\n"
     ]
    },
    {
     "data": {
      "application/vnd.jupyter.widget-view+json": {
       "model_id": "",
       "version_major": 2,
       "version_minor": 0
      },
      "text/plain": [
       "HBox(children=(FloatProgress(value=0.0, description='Training', layout=Layout(flex='2'), max=1250.0, style=Pro…"
      ]
     },
     "metadata": {},
     "output_type": "display_data"
    },
    {
     "name": "stdout",
     "output_type": "stream",
     "text": [
      "Epoch 84: train=12.4026, val=11.3491, took 25.079 s\n",
      "  Validation Found 47061 of 54504, added 1528 (eff 86.34%) (0.153 FP/event)\n"
     ]
    },
    {
     "data": {
      "application/vnd.jupyter.widget-view+json": {
       "model_id": "",
       "version_major": 2,
       "version_minor": 0
      },
      "text/plain": [
       "HBox(children=(FloatProgress(value=0.0, description='Training', layout=Layout(flex='2'), max=1250.0, style=Pro…"
      ]
     },
     "metadata": {},
     "output_type": "display_data"
    },
    {
     "name": "stdout",
     "output_type": "stream",
     "text": [
      "Epoch 85: train=12.3772, val=11.3403, took 25.282 s\n",
      "  Validation Found 46958 of 54504, added 1386 (eff 86.16%) (0.139 FP/event)\n"
     ]
    },
    {
     "data": {
      "application/vnd.jupyter.widget-view+json": {
       "model_id": "",
       "version_major": 2,
       "version_minor": 0
      },
      "text/plain": [
       "HBox(children=(FloatProgress(value=0.0, description='Training', layout=Layout(flex='2'), max=1250.0, style=Pro…"
      ]
     },
     "metadata": {},
     "output_type": "display_data"
    },
    {
     "name": "stdout",
     "output_type": "stream",
     "text": [
      "Epoch 86: train=12.379, val=11.2792, took 25.144 s\n",
      "  Validation Found 46927 of 54504, added 1422 (eff 86.10%) (0.142 FP/event)\n"
     ]
    },
    {
     "data": {
      "application/vnd.jupyter.widget-view+json": {
       "model_id": "",
       "version_major": 2,
       "version_minor": 0
      },
      "text/plain": [
       "HBox(children=(FloatProgress(value=0.0, description='Training', layout=Layout(flex='2'), max=1250.0, style=Pro…"
      ]
     },
     "metadata": {},
     "output_type": "display_data"
    },
    {
     "name": "stdout",
     "output_type": "stream",
     "text": [
      "Epoch 87: train=12.3611, val=11.2645, took 25.333 s\n",
      "  Validation Found 46954 of 54504, added 1384 (eff 86.15%) (0.139 FP/event)\n"
     ]
    },
    {
     "data": {
      "application/vnd.jupyter.widget-view+json": {
       "model_id": "",
       "version_major": 2,
       "version_minor": 0
      },
      "text/plain": [
       "HBox(children=(FloatProgress(value=0.0, description='Training', layout=Layout(flex='2'), max=1250.0, style=Pro…"
      ]
     },
     "metadata": {},
     "output_type": "display_data"
    },
    {
     "name": "stdout",
     "output_type": "stream",
     "text": [
      "Epoch 88: train=12.3424, val=11.2696, took 25.157 s\n",
      "  Validation Found 46831 of 54504, added 1252 (eff 85.92%) (0.125 FP/event)\n"
     ]
    },
    {
     "data": {
      "application/vnd.jupyter.widget-view+json": {
       "model_id": "",
       "version_major": 2,
       "version_minor": 0
      },
      "text/plain": [
       "HBox(children=(FloatProgress(value=0.0, description='Training', layout=Layout(flex='2'), max=1250.0, style=Pro…"
      ]
     },
     "metadata": {},
     "output_type": "display_data"
    },
    {
     "name": "stdout",
     "output_type": "stream",
     "text": [
      "Epoch 89: train=12.3105, val=11.2517, took 26.146 s\n",
      "  Validation Found 47232 of 54504, added 1550 (eff 86.66%) (0.155 FP/event)\n"
     ]
    },
    {
     "data": {
      "application/vnd.jupyter.widget-view+json": {
       "model_id": "",
       "version_major": 2,
       "version_minor": 0
      },
      "text/plain": [
       "HBox(children=(FloatProgress(value=0.0, description='Training', layout=Layout(flex='2'), max=1250.0, style=Pro…"
      ]
     },
     "metadata": {},
     "output_type": "display_data"
    },
    {
     "name": "stdout",
     "output_type": "stream",
     "text": [
      "Epoch 90: train=12.3125, val=11.2409, took 25.46 s\n",
      "  Validation Found 47026 of 54504, added 1321 (eff 86.28%) (0.132 FP/event)\n"
     ]
    },
    {
     "data": {
      "application/vnd.jupyter.widget-view+json": {
       "model_id": "",
       "version_major": 2,
       "version_minor": 0
      },
      "text/plain": [
       "HBox(children=(FloatProgress(value=0.0, description='Training', layout=Layout(flex='2'), max=1250.0, style=Pro…"
      ]
     },
     "metadata": {},
     "output_type": "display_data"
    },
    {
     "name": "stdout",
     "output_type": "stream",
     "text": [
      "Epoch 91: train=12.288, val=11.2012, took 25.238 s\n",
      "  Validation Found 47051 of 54504, added 1331 (eff 86.33%) (0.133 FP/event)\n"
     ]
    },
    {
     "data": {
      "application/vnd.jupyter.widget-view+json": {
       "model_id": "",
       "version_major": 2,
       "version_minor": 0
      },
      "text/plain": [
       "HBox(children=(FloatProgress(value=0.0, description='Training', layout=Layout(flex='2'), max=1250.0, style=Pro…"
      ]
     },
     "metadata": {},
     "output_type": "display_data"
    },
    {
     "name": "stdout",
     "output_type": "stream",
     "text": [
      "Epoch 92: train=12.2642, val=11.3033, took 25.284 s\n",
      "  Validation Found 47090 of 54504, added 1320 (eff 86.40%) (0.132 FP/event)\n"
     ]
    },
    {
     "data": {
      "application/vnd.jupyter.widget-view+json": {
       "model_id": "",
       "version_major": 2,
       "version_minor": 0
      },
      "text/plain": [
       "HBox(children=(FloatProgress(value=0.0, description='Training', layout=Layout(flex='2'), max=1250.0, style=Pro…"
      ]
     },
     "metadata": {},
     "output_type": "display_data"
    },
    {
     "name": "stdout",
     "output_type": "stream",
     "text": [
      "Epoch 93: train=12.2494, val=11.133, took 25.408 s\n",
      "  Validation Found 47225 of 54504, added 1438 (eff 86.65%) (0.144 FP/event)\n"
     ]
    },
    {
     "data": {
      "application/vnd.jupyter.widget-view+json": {
       "model_id": "",
       "version_major": 2,
       "version_minor": 0
      },
      "text/plain": [
       "HBox(children=(FloatProgress(value=0.0, description='Training', layout=Layout(flex='2'), max=1250.0, style=Pro…"
      ]
     },
     "metadata": {},
     "output_type": "display_data"
    },
    {
     "name": "stdout",
     "output_type": "stream",
     "text": [
      "Epoch 94: train=12.2186, val=11.2275, took 25.056 s\n",
      "  Validation Found 47177 of 54504, added 1366 (eff 86.56%) (0.137 FP/event)\n"
     ]
    },
    {
     "data": {
      "application/vnd.jupyter.widget-view+json": {
       "model_id": "",
       "version_major": 2,
       "version_minor": 0
      },
      "text/plain": [
       "HBox(children=(FloatProgress(value=0.0, description='Training', layout=Layout(flex='2'), max=1250.0, style=Pro…"
      ]
     },
     "metadata": {},
     "output_type": "display_data"
    },
    {
     "name": "stdout",
     "output_type": "stream",
     "text": [
      "Epoch 95: train=12.2069, val=11.213, took 24.836 s\n",
      "  Validation Found 47437 of 54504, added 1619 (eff 87.03%) (0.162 FP/event)\n"
     ]
    },
    {
     "data": {
      "application/vnd.jupyter.widget-view+json": {
       "model_id": "",
       "version_major": 2,
       "version_minor": 0
      },
      "text/plain": [
       "HBox(children=(FloatProgress(value=0.0, description='Training', layout=Layout(flex='2'), max=1250.0, style=Pro…"
      ]
     },
     "metadata": {},
     "output_type": "display_data"
    },
    {
     "name": "stdout",
     "output_type": "stream",
     "text": [
      "Epoch 96: train=12.1956, val=11.2184, took 25.636 s\n",
      "  Validation Found 47285 of 54504, added 1408 (eff 86.76%) (0.141 FP/event)\n"
     ]
    },
    {
     "data": {
      "application/vnd.jupyter.widget-view+json": {
       "model_id": "",
       "version_major": 2,
       "version_minor": 0
      },
      "text/plain": [
       "HBox(children=(FloatProgress(value=0.0, description='Training', layout=Layout(flex='2'), max=1250.0, style=Pro…"
      ]
     },
     "metadata": {},
     "output_type": "display_data"
    },
    {
     "name": "stdout",
     "output_type": "stream",
     "text": [
      "Epoch 97: train=12.1751, val=11.0907, took 25.207 s\n",
      "  Validation Found 47376 of 54504, added 1516 (eff 86.92%) (0.152 FP/event)\n"
     ]
    },
    {
     "data": {
      "application/vnd.jupyter.widget-view+json": {
       "model_id": "",
       "version_major": 2,
       "version_minor": 0
      },
      "text/plain": [
       "HBox(children=(FloatProgress(value=0.0, description='Training', layout=Layout(flex='2'), max=1250.0, style=Pro…"
      ]
     },
     "metadata": {},
     "output_type": "display_data"
    },
    {
     "name": "stdout",
     "output_type": "stream",
     "text": [
      "Epoch 98: train=12.1533, val=11.1765, took 25.274 s\n",
      "  Validation Found 47314 of 54504, added 1447 (eff 86.81%) (0.145 FP/event)\n"
     ]
    },
    {
     "data": {
      "application/vnd.jupyter.widget-view+json": {
       "model_id": "",
       "version_major": 2,
       "version_minor": 0
      },
      "text/plain": [
       "HBox(children=(FloatProgress(value=0.0, description='Training', layout=Layout(flex='2'), max=1250.0, style=Pro…"
      ]
     },
     "metadata": {},
     "output_type": "display_data"
    },
    {
     "name": "stdout",
     "output_type": "stream",
     "text": [
      "Epoch 99: train=12.1512, val=11.0492, took 25.508 s\n",
      "  Validation Found 47403 of 54504, added 1515 (eff 86.97%) (0.152 FP/event)\n"
     ]
    },
    {
     "data": {
      "application/vnd.jupyter.widget-view+json": {
       "model_id": "",
       "version_major": 2,
       "version_minor": 0
      },
      "text/plain": [
       "HBox(children=(FloatProgress(value=0.0, description='Training', layout=Layout(flex='2'), max=1250.0, style=Pro…"
      ]
     },
     "metadata": {},
     "output_type": "display_data"
    },
    {
     "name": "stdout",
     "output_type": "stream",
     "text": [
      "Epoch 100: train=12.1425, val=11.1943, took 26.112 s\n",
      "  Validation Found 47061 of 54504, added 1202 (eff 86.34%) (0.12 FP/event)\n"
     ]
    },
    {
     "data": {
      "application/vnd.jupyter.widget-view+json": {
       "model_id": "",
       "version_major": 2,
       "version_minor": 0
      },
      "text/plain": [
       "HBox(children=(FloatProgress(value=0.0, description='Training', layout=Layout(flex='2'), max=1250.0, style=Pro…"
      ]
     },
     "metadata": {},
     "output_type": "display_data"
    },
    {
     "name": "stdout",
     "output_type": "stream",
     "text": [
      "Epoch 101: train=12.1051, val=11.0618, took 27.204 s\n",
      "  Validation Found 47202 of 54504, added 1233 (eff 86.60%) (0.123 FP/event)\n"
     ]
    },
    {
     "data": {
      "application/vnd.jupyter.widget-view+json": {
       "model_id": "",
       "version_major": 2,
       "version_minor": 0
      },
      "text/plain": [
       "HBox(children=(FloatProgress(value=0.0, description='Training', layout=Layout(flex='2'), max=1250.0, style=Pro…"
      ]
     },
     "metadata": {},
     "output_type": "display_data"
    },
    {
     "name": "stdout",
     "output_type": "stream",
     "text": [
      "Epoch 102: train=12.0863, val=11.0086, took 30.243 s\n",
      "  Validation Found 47318 of 54504, added 1259 (eff 86.82%) (0.126 FP/event)\n"
     ]
    },
    {
     "data": {
      "application/vnd.jupyter.widget-view+json": {
       "model_id": "",
       "version_major": 2,
       "version_minor": 0
      },
      "text/plain": [
       "HBox(children=(FloatProgress(value=0.0, description='Training', layout=Layout(flex='2'), max=1250.0, style=Pro…"
      ]
     },
     "metadata": {},
     "output_type": "display_data"
    },
    {
     "name": "stdout",
     "output_type": "stream",
     "text": [
      "Epoch 103: train=12.0604, val=11.0113, took 33.447 s\n",
      "  Validation Found 47220 of 54504, added 1211 (eff 86.64%) (0.121 FP/event)\n"
     ]
    },
    {
     "data": {
      "application/vnd.jupyter.widget-view+json": {
       "model_id": "",
       "version_major": 2,
       "version_minor": 0
      },
      "text/plain": [
       "HBox(children=(FloatProgress(value=0.0, description='Training', layout=Layout(flex='2'), max=1250.0, style=Pro…"
      ]
     },
     "metadata": {},
     "output_type": "display_data"
    },
    {
     "name": "stdout",
     "output_type": "stream",
     "text": [
      "Epoch 104: train=12.0493, val=10.9549, took 33.268 s\n",
      "  Validation Found 47207 of 54504, added 1252 (eff 86.61%) (0.125 FP/event)\n"
     ]
    },
    {
     "data": {
      "application/vnd.jupyter.widget-view+json": {
       "model_id": "",
       "version_major": 2,
       "version_minor": 0
      },
      "text/plain": [
       "HBox(children=(FloatProgress(value=0.0, description='Training', layout=Layout(flex='2'), max=1250.0, style=Pro…"
      ]
     },
     "metadata": {},
     "output_type": "display_data"
    },
    {
     "name": "stdout",
     "output_type": "stream",
     "text": [
      "Epoch 105: train=12.0347, val=11.0146, took 32.37 s\n",
      "  Validation Found 47486 of 54504, added 1380 (eff 87.12%) (0.138 FP/event)\n"
     ]
    },
    {
     "data": {
      "application/vnd.jupyter.widget-view+json": {
       "model_id": "",
       "version_major": 2,
       "version_minor": 0
      },
      "text/plain": [
       "HBox(children=(FloatProgress(value=0.0, description='Training', layout=Layout(flex='2'), max=1250.0, style=Pro…"
      ]
     },
     "metadata": {},
     "output_type": "display_data"
    },
    {
     "name": "stdout",
     "output_type": "stream",
     "text": [
      "Epoch 106: train=12.0302, val=10.8563, took 32.667 s\n",
      "  Validation Found 47455 of 54504, added 1439 (eff 87.07%) (0.144 FP/event)\n"
     ]
    },
    {
     "data": {
      "application/vnd.jupyter.widget-view+json": {
       "model_id": "",
       "version_major": 2,
       "version_minor": 0
      },
      "text/plain": [
       "HBox(children=(FloatProgress(value=0.0, description='Training', layout=Layout(flex='2'), max=1250.0, style=Pro…"
      ]
     },
     "metadata": {},
     "output_type": "display_data"
    },
    {
     "name": "stdout",
     "output_type": "stream",
     "text": [
      "Epoch 107: train=12.0253, val=10.9535, took 32.579 s\n",
      "  Validation Found 47396 of 54504, added 1338 (eff 86.96%) (0.134 FP/event)\n"
     ]
    },
    {
     "data": {
      "application/vnd.jupyter.widget-view+json": {
       "model_id": "",
       "version_major": 2,
       "version_minor": 0
      },
      "text/plain": [
       "HBox(children=(FloatProgress(value=0.0, description='Training', layout=Layout(flex='2'), max=1250.0, style=Pro…"
      ]
     },
     "metadata": {},
     "output_type": "display_data"
    },
    {
     "name": "stdout",
     "output_type": "stream",
     "text": [
      "Epoch 108: train=12.011, val=10.9344, took 32.157 s\n",
      "  Validation Found 47461 of 54504, added 1349 (eff 87.08%) (0.135 FP/event)\n"
     ]
    },
    {
     "data": {
      "application/vnd.jupyter.widget-view+json": {
       "model_id": "",
       "version_major": 2,
       "version_minor": 0
      },
      "text/plain": [
       "HBox(children=(FloatProgress(value=0.0, description='Training', layout=Layout(flex='2'), max=1250.0, style=Pro…"
      ]
     },
     "metadata": {},
     "output_type": "display_data"
    },
    {
     "name": "stdout",
     "output_type": "stream",
     "text": [
      "Epoch 109: train=12.0012, val=10.9133, took 32.27 s\n",
      "  Validation Found 47534 of 54504, added 1371 (eff 87.21%) (0.137 FP/event)\n"
     ]
    },
    {
     "data": {
      "application/vnd.jupyter.widget-view+json": {
       "model_id": "",
       "version_major": 2,
       "version_minor": 0
      },
      "text/plain": [
       "HBox(children=(FloatProgress(value=0.0, description='Training', layout=Layout(flex='2'), max=1250.0, style=Pro…"
      ]
     },
     "metadata": {},
     "output_type": "display_data"
    },
    {
     "name": "stdout",
     "output_type": "stream",
     "text": [
      "Epoch 110: train=11.9799, val=10.9552, took 48.075 s\n",
      "  Validation Found 47375 of 54504, added 1217 (eff 86.92%) (0.122 FP/event)\n"
     ]
    },
    {
     "data": {
      "application/vnd.jupyter.widget-view+json": {
       "model_id": "",
       "version_major": 2,
       "version_minor": 0
      },
      "text/plain": [
       "HBox(children=(FloatProgress(value=0.0, description='Training', layout=Layout(flex='2'), max=1250.0, style=Pro…"
      ]
     },
     "metadata": {},
     "output_type": "display_data"
    },
    {
     "name": "stdout",
     "output_type": "stream",
     "text": [
      "Epoch 111: train=11.961, val=10.8785, took 34.948 s\n",
      "  Validation Found 47475 of 54504, added 1363 (eff 87.10%) (0.137 FP/event)\n"
     ]
    },
    {
     "data": {
      "application/vnd.jupyter.widget-view+json": {
       "model_id": "",
       "version_major": 2,
       "version_minor": 0
      },
      "text/plain": [
       "HBox(children=(FloatProgress(value=0.0, description='Training', layout=Layout(flex='2'), max=1250.0, style=Pro…"
      ]
     },
     "metadata": {},
     "output_type": "display_data"
    },
    {
     "name": "stdout",
     "output_type": "stream",
     "text": [
      "Epoch 112: train=11.951, val=10.9275, took 33.139 s\n",
      "  Validation Found 47297 of 54504, added 1220 (eff 86.78%) (0.122 FP/event)\n"
     ]
    },
    {
     "data": {
      "application/vnd.jupyter.widget-view+json": {
       "model_id": "",
       "version_major": 2,
       "version_minor": 0
      },
      "text/plain": [
       "HBox(children=(FloatProgress(value=0.0, description='Training', layout=Layout(flex='2'), max=1250.0, style=Pro…"
      ]
     },
     "metadata": {},
     "output_type": "display_data"
    },
    {
     "name": "stdout",
     "output_type": "stream",
     "text": [
      "Epoch 113: train=11.9449, val=10.9615, took 33.043 s\n",
      "  Validation Found 47672 of 54504, added 1427 (eff 87.47%) (0.143 FP/event)\n"
     ]
    },
    {
     "data": {
      "application/vnd.jupyter.widget-view+json": {
       "model_id": "",
       "version_major": 2,
       "version_minor": 0
      },
      "text/plain": [
       "HBox(children=(FloatProgress(value=0.0, description='Training', layout=Layout(flex='2'), max=1250.0, style=Pro…"
      ]
     },
     "metadata": {},
     "output_type": "display_data"
    },
    {
     "name": "stdout",
     "output_type": "stream",
     "text": [
      "Epoch 114: train=11.9348, val=10.9003, took 32.131 s\n",
      "  Validation Found 47689 of 54504, added 1441 (eff 87.50%) (0.144 FP/event)\n"
     ]
    },
    {
     "data": {
      "application/vnd.jupyter.widget-view+json": {
       "model_id": "",
       "version_major": 2,
       "version_minor": 0
      },
      "text/plain": [
       "HBox(children=(FloatProgress(value=0.0, description='Training', layout=Layout(flex='2'), max=1250.0, style=Pro…"
      ]
     },
     "metadata": {},
     "output_type": "display_data"
    },
    {
     "name": "stdout",
     "output_type": "stream",
     "text": [
      "Epoch 115: train=11.9161, val=10.7944, took 33.062 s\n",
      "  Validation Found 47686 of 54504, added 1427 (eff 87.49%) (0.143 FP/event)\n"
     ]
    },
    {
     "data": {
      "application/vnd.jupyter.widget-view+json": {
       "model_id": "",
       "version_major": 2,
       "version_minor": 0
      },
      "text/plain": [
       "HBox(children=(FloatProgress(value=0.0, description='Training', layout=Layout(flex='2'), max=1250.0, style=Pro…"
      ]
     },
     "metadata": {},
     "output_type": "display_data"
    },
    {
     "name": "stdout",
     "output_type": "stream",
     "text": [
      "Epoch 116: train=11.9068, val=10.8338, took 32.109 s\n",
      "  Validation Found 47773 of 54504, added 1456 (eff 87.65%) (0.146 FP/event)\n"
     ]
    },
    {
     "data": {
      "application/vnd.jupyter.widget-view+json": {
       "model_id": "",
       "version_major": 2,
       "version_minor": 0
      },
      "text/plain": [
       "HBox(children=(FloatProgress(value=0.0, description='Training', layout=Layout(flex='2'), max=1250.0, style=Pro…"
      ]
     },
     "metadata": {},
     "output_type": "display_data"
    },
    {
     "name": "stdout",
     "output_type": "stream",
     "text": [
      "Epoch 117: train=11.8881, val=10.9094, took 32.679 s\n",
      "  Validation Found 47593 of 54504, added 1315 (eff 87.32%) (0.132 FP/event)\n"
     ]
    },
    {
     "data": {
      "application/vnd.jupyter.widget-view+json": {
       "model_id": "",
       "version_major": 2,
       "version_minor": 0
      },
      "text/plain": [
       "HBox(children=(FloatProgress(value=0.0, description='Training', layout=Layout(flex='2'), max=1250.0, style=Pro…"
      ]
     },
     "metadata": {},
     "output_type": "display_data"
    },
    {
     "name": "stdout",
     "output_type": "stream",
     "text": [
      "Epoch 118: train=11.8795, val=10.7465, took 32.409 s\n",
      "  Validation Found 47879 of 54504, added 1643 (eff 87.84%) (0.165 FP/event)\n"
     ]
    },
    {
     "data": {
      "application/vnd.jupyter.widget-view+json": {
       "model_id": "",
       "version_major": 2,
       "version_minor": 0
      },
      "text/plain": [
       "HBox(children=(FloatProgress(value=0.0, description='Training', layout=Layout(flex='2'), max=1250.0, style=Pro…"
      ]
     },
     "metadata": {},
     "output_type": "display_data"
    },
    {
     "name": "stdout",
     "output_type": "stream",
     "text": [
      "Epoch 119: train=11.8709, val=10.7498, took 26.251 s\n",
      "  Validation Found 47930 of 54504, added 1639 (eff 87.94%) (0.164 FP/event)\n"
     ]
    },
    {
     "data": {
      "application/vnd.jupyter.widget-view+json": {
       "model_id": "",
       "version_major": 2,
       "version_minor": 0
      },
      "text/plain": [
       "HBox(children=(FloatProgress(value=0.0, description='Training', layout=Layout(flex='2'), max=1250.0, style=Pro…"
      ]
     },
     "metadata": {},
     "output_type": "display_data"
    },
    {
     "name": "stdout",
     "output_type": "stream",
     "text": [
      "Epoch 120: train=11.8637, val=10.7462, took 27.28 s\n",
      "  Validation Found 47760 of 54504, added 1425 (eff 87.63%) (0.143 FP/event)\n"
     ]
    },
    {
     "data": {
      "application/vnd.jupyter.widget-view+json": {
       "model_id": "",
       "version_major": 2,
       "version_minor": 0
      },
      "text/plain": [
       "HBox(children=(FloatProgress(value=0.0, description='Training', layout=Layout(flex='2'), max=1250.0, style=Pro…"
      ]
     },
     "metadata": {},
     "output_type": "display_data"
    },
    {
     "name": "stdout",
     "output_type": "stream",
     "text": [
      "Epoch 121: train=11.8489, val=10.7183, took 27.115 s\n",
      "  Validation Found 47850 of 54504, added 1526 (eff 87.79%) (0.153 FP/event)\n"
     ]
    },
    {
     "data": {
      "application/vnd.jupyter.widget-view+json": {
       "model_id": "",
       "version_major": 2,
       "version_minor": 0
      },
      "text/plain": [
       "HBox(children=(FloatProgress(value=0.0, description='Training', layout=Layout(flex='2'), max=1250.0, style=Pro…"
      ]
     },
     "metadata": {},
     "output_type": "display_data"
    },
    {
     "name": "stdout",
     "output_type": "stream",
     "text": [
      "Epoch 122: train=11.8331, val=10.7337, took 30.126 s\n",
      "  Validation Found 47851 of 54504, added 1536 (eff 87.79%) (0.154 FP/event)\n"
     ]
    },
    {
     "data": {
      "application/vnd.jupyter.widget-view+json": {
       "model_id": "",
       "version_major": 2,
       "version_minor": 0
      },
      "text/plain": [
       "HBox(children=(FloatProgress(value=0.0, description='Training', layout=Layout(flex='2'), max=1250.0, style=Pro…"
      ]
     },
     "metadata": {},
     "output_type": "display_data"
    },
    {
     "name": "stdout",
     "output_type": "stream",
     "text": [
      "Epoch 123: train=11.8183, val=10.7973, took 33.902 s\n",
      "  Validation Found 48002 of 54504, added 1555 (eff 88.07%) (0.156 FP/event)\n"
     ]
    },
    {
     "data": {
      "application/vnd.jupyter.widget-view+json": {
       "model_id": "",
       "version_major": 2,
       "version_minor": 0
      },
      "text/plain": [
       "HBox(children=(FloatProgress(value=0.0, description='Training', layout=Layout(flex='2'), max=1250.0, style=Pro…"
      ]
     },
     "metadata": {},
     "output_type": "display_data"
    },
    {
     "name": "stdout",
     "output_type": "stream",
     "text": [
      "Epoch 124: train=11.8101, val=10.7741, took 28.402 s\n",
      "  Validation Found 47695 of 54504, added 1300 (eff 87.51%) (0.13 FP/event)\n"
     ]
    },
    {
     "data": {
      "application/vnd.jupyter.widget-view+json": {
       "model_id": "",
       "version_major": 2,
       "version_minor": 0
      },
      "text/plain": [
       "HBox(children=(FloatProgress(value=0.0, description='Training', layout=Layout(flex='2'), max=1250.0, style=Pro…"
      ]
     },
     "metadata": {},
     "output_type": "display_data"
    },
    {
     "name": "stdout",
     "output_type": "stream",
     "text": [
      "Epoch 125: train=11.804, val=10.7601, took 25.971 s\n",
      "  Validation Found 47898 of 54504, added 1451 (eff 87.88%) (0.145 FP/event)\n"
     ]
    },
    {
     "data": {
      "application/vnd.jupyter.widget-view+json": {
       "model_id": "",
       "version_major": 2,
       "version_minor": 0
      },
      "text/plain": [
       "HBox(children=(FloatProgress(value=0.0, description='Training', layout=Layout(flex='2'), max=1250.0, style=Pro…"
      ]
     },
     "metadata": {},
     "output_type": "display_data"
    },
    {
     "name": "stdout",
     "output_type": "stream",
     "text": [
      "Epoch 126: train=11.7837, val=10.7078, took 25.879 s\n",
      "  Validation Found 47974 of 54504, added 1636 (eff 88.02%) (0.164 FP/event)\n"
     ]
    },
    {
     "data": {
      "application/vnd.jupyter.widget-view+json": {
       "model_id": "",
       "version_major": 2,
       "version_minor": 0
      },
      "text/plain": [
       "HBox(children=(FloatProgress(value=0.0, description='Training', layout=Layout(flex='2'), max=1250.0, style=Pro…"
      ]
     },
     "metadata": {},
     "output_type": "display_data"
    },
    {
     "name": "stdout",
     "output_type": "stream",
     "text": [
      "Epoch 127: train=11.7782, val=10.7131, took 25.998 s\n",
      "  Validation Found 47892 of 54504, added 1463 (eff 87.87%) (0.147 FP/event)\n"
     ]
    },
    {
     "data": {
      "application/vnd.jupyter.widget-view+json": {
       "model_id": "",
       "version_major": 2,
       "version_minor": 0
      },
      "text/plain": [
       "HBox(children=(FloatProgress(value=0.0, description='Training', layout=Layout(flex='2'), max=1250.0, style=Pro…"
      ]
     },
     "metadata": {},
     "output_type": "display_data"
    },
    {
     "name": "stdout",
     "output_type": "stream",
     "text": [
      "Epoch 128: train=11.7579, val=10.7198, took 26.271 s\n",
      "  Validation Found 48087 of 54504, added 1609 (eff 88.23%) (0.161 FP/event)\n"
     ]
    },
    {
     "data": {
      "application/vnd.jupyter.widget-view+json": {
       "model_id": "",
       "version_major": 2,
       "version_minor": 0
      },
      "text/plain": [
       "HBox(children=(FloatProgress(value=0.0, description='Training', layout=Layout(flex='2'), max=1250.0, style=Pro…"
      ]
     },
     "metadata": {},
     "output_type": "display_data"
    },
    {
     "name": "stdout",
     "output_type": "stream",
     "text": [
      "Epoch 129: train=11.7454, val=10.6288, took 26.035 s\n",
      "  Validation Found 47948 of 54504, added 1465 (eff 87.97%) (0.147 FP/event)\n"
     ]
    },
    {
     "data": {
      "application/vnd.jupyter.widget-view+json": {
       "model_id": "",
       "version_major": 2,
       "version_minor": 0
      },
      "text/plain": [
       "HBox(children=(FloatProgress(value=0.0, description='Training', layout=Layout(flex='2'), max=1250.0, style=Pro…"
      ]
     },
     "metadata": {},
     "output_type": "display_data"
    },
    {
     "name": "stdout",
     "output_type": "stream",
     "text": [
      "Epoch 130: train=11.7357, val=10.6314, took 26.412 s\n",
      "  Validation Found 47924 of 54504, added 1502 (eff 87.93%) (0.15 FP/event)\n"
     ]
    },
    {
     "data": {
      "application/vnd.jupyter.widget-view+json": {
       "model_id": "",
       "version_major": 2,
       "version_minor": 0
      },
      "text/plain": [
       "HBox(children=(FloatProgress(value=0.0, description='Training', layout=Layout(flex='2'), max=1250.0, style=Pro…"
      ]
     },
     "metadata": {},
     "output_type": "display_data"
    },
    {
     "name": "stdout",
     "output_type": "stream",
     "text": [
      "Epoch 131: train=11.7151, val=10.6328, took 25.82 s\n",
      "  Validation Found 47869 of 54504, added 1366 (eff 87.83%) (0.137 FP/event)\n"
     ]
    },
    {
     "data": {
      "application/vnd.jupyter.widget-view+json": {
       "model_id": "",
       "version_major": 2,
       "version_minor": 0
      },
      "text/plain": [
       "HBox(children=(FloatProgress(value=0.0, description='Training', layout=Layout(flex='2'), max=1250.0, style=Pro…"
      ]
     },
     "metadata": {},
     "output_type": "display_data"
    },
    {
     "name": "stdout",
     "output_type": "stream",
     "text": [
      "Epoch 132: train=11.7117, val=10.62, took 25.483 s\n",
      "  Validation Found 47808 of 54504, added 1295 (eff 87.71%) (0.13 FP/event)\n"
     ]
    },
    {
     "data": {
      "application/vnd.jupyter.widget-view+json": {
       "model_id": "",
       "version_major": 2,
       "version_minor": 0
      },
      "text/plain": [
       "HBox(children=(FloatProgress(value=0.0, description='Training', layout=Layout(flex='2'), max=1250.0, style=Pro…"
      ]
     },
     "metadata": {},
     "output_type": "display_data"
    },
    {
     "name": "stdout",
     "output_type": "stream",
     "text": [
      "Epoch 133: train=11.7034, val=10.6584, took 25.877 s\n",
      "  Validation Found 47865 of 54504, added 1324 (eff 87.82%) (0.133 FP/event)\n"
     ]
    },
    {
     "data": {
      "application/vnd.jupyter.widget-view+json": {
       "model_id": "",
       "version_major": 2,
       "version_minor": 0
      },
      "text/plain": [
       "HBox(children=(FloatProgress(value=0.0, description='Training', layout=Layout(flex='2'), max=1250.0, style=Pro…"
      ]
     },
     "metadata": {},
     "output_type": "display_data"
    },
    {
     "name": "stdout",
     "output_type": "stream",
     "text": [
      "Epoch 134: train=11.6722, val=10.662, took 26.071 s\n",
      "  Validation Found 48175 of 54504, added 1584 (eff 88.39%) (0.159 FP/event)\n"
     ]
    },
    {
     "data": {
      "application/vnd.jupyter.widget-view+json": {
       "model_id": "",
       "version_major": 2,
       "version_minor": 0
      },
      "text/plain": [
       "HBox(children=(FloatProgress(value=0.0, description='Training', layout=Layout(flex='2'), max=1250.0, style=Pro…"
      ]
     },
     "metadata": {},
     "output_type": "display_data"
    },
    {
     "name": "stdout",
     "output_type": "stream",
     "text": [
      "Epoch 135: train=11.6592, val=10.5821, took 26.242 s\n",
      "  Validation Found 48119 of 54504, added 1508 (eff 88.29%) (0.151 FP/event)\n"
     ]
    },
    {
     "data": {
      "application/vnd.jupyter.widget-view+json": {
       "model_id": "",
       "version_major": 2,
       "version_minor": 0
      },
      "text/plain": [
       "HBox(children=(FloatProgress(value=0.0, description='Training', layout=Layout(flex='2'), max=1250.0, style=Pro…"
      ]
     },
     "metadata": {},
     "output_type": "display_data"
    },
    {
     "name": "stdout",
     "output_type": "stream",
     "text": [
      "Epoch 136: train=11.6437, val=10.555, took 25.597 s\n",
      "  Validation Found 47964 of 54504, added 1375 (eff 88.00%) (0.138 FP/event)\n"
     ]
    },
    {
     "data": {
      "application/vnd.jupyter.widget-view+json": {
       "model_id": "",
       "version_major": 2,
       "version_minor": 0
      },
      "text/plain": [
       "HBox(children=(FloatProgress(value=0.0, description='Training', layout=Layout(flex='2'), max=1250.0, style=Pro…"
      ]
     },
     "metadata": {},
     "output_type": "display_data"
    },
    {
     "name": "stdout",
     "output_type": "stream",
     "text": [
      "Epoch 137: train=11.6312, val=10.7659, took 25.578 s\n",
      "  Validation Found 47896 of 54504, added 1229 (eff 87.88%) (0.123 FP/event)\n"
     ]
    },
    {
     "data": {
      "application/vnd.jupyter.widget-view+json": {
       "model_id": "",
       "version_major": 2,
       "version_minor": 0
      },
      "text/plain": [
       "HBox(children=(FloatProgress(value=0.0, description='Training', layout=Layout(flex='2'), max=1250.0, style=Pro…"
      ]
     },
     "metadata": {},
     "output_type": "display_data"
    },
    {
     "name": "stdout",
     "output_type": "stream",
     "text": [
      "Epoch 138: train=11.6274, val=10.6486, took 25.538 s\n",
      "  Validation Found 48294 of 54504, added 1587 (eff 88.61%) (0.159 FP/event)\n"
     ]
    },
    {
     "data": {
      "application/vnd.jupyter.widget-view+json": {
       "model_id": "",
       "version_major": 2,
       "version_minor": 0
      },
      "text/plain": [
       "HBox(children=(FloatProgress(value=0.0, description='Training', layout=Layout(flex='2'), max=1250.0, style=Pro…"
      ]
     },
     "metadata": {},
     "output_type": "display_data"
    },
    {
     "name": "stdout",
     "output_type": "stream",
     "text": [
      "Epoch 139: train=11.6147, val=10.5763, took 25.162 s\n",
      "  Validation Found 47944 of 54504, added 1302 (eff 87.96%) (0.13 FP/event)\n"
     ]
    },
    {
     "data": {
      "application/vnd.jupyter.widget-view+json": {
       "model_id": "",
       "version_major": 2,
       "version_minor": 0
      },
      "text/plain": [
       "HBox(children=(FloatProgress(value=0.0, description='Training', layout=Layout(flex='2'), max=1250.0, style=Pro…"
      ]
     },
     "metadata": {},
     "output_type": "display_data"
    },
    {
     "name": "stdout",
     "output_type": "stream",
     "text": [
      "Epoch 140: train=11.5956, val=10.5394, took 24.837 s\n",
      "  Validation Found 48026 of 54504, added 1364 (eff 88.11%) (0.137 FP/event)\n"
     ]
    },
    {
     "data": {
      "application/vnd.jupyter.widget-view+json": {
       "model_id": "",
       "version_major": 2,
       "version_minor": 0
      },
      "text/plain": [
       "HBox(children=(FloatProgress(value=0.0, description='Training', layout=Layout(flex='2'), max=1250.0, style=Pro…"
      ]
     },
     "metadata": {},
     "output_type": "display_data"
    },
    {
     "name": "stdout",
     "output_type": "stream",
     "text": [
      "Epoch 141: train=11.592, val=10.5034, took 24.945 s\n",
      "  Validation Found 48029 of 54504, added 1397 (eff 88.12%) (0.14 FP/event)\n"
     ]
    },
    {
     "data": {
      "application/vnd.jupyter.widget-view+json": {
       "model_id": "",
       "version_major": 2,
       "version_minor": 0
      },
      "text/plain": [
       "HBox(children=(FloatProgress(value=0.0, description='Training', layout=Layout(flex='2'), max=1250.0, style=Pro…"
      ]
     },
     "metadata": {},
     "output_type": "display_data"
    },
    {
     "name": "stdout",
     "output_type": "stream",
     "text": [
      "Epoch 142: train=11.5766, val=10.538, took 25.716 s\n",
      "  Validation Found 48074 of 54504, added 1401 (eff 88.20%) (0.14 FP/event)\n"
     ]
    },
    {
     "data": {
      "application/vnd.jupyter.widget-view+json": {
       "model_id": "",
       "version_major": 2,
       "version_minor": 0
      },
      "text/plain": [
       "HBox(children=(FloatProgress(value=0.0, description='Training', layout=Layout(flex='2'), max=1250.0, style=Pro…"
      ]
     },
     "metadata": {},
     "output_type": "display_data"
    },
    {
     "name": "stdout",
     "output_type": "stream",
     "text": [
      "Epoch 143: train=11.5712, val=10.563, took 25.813 s\n",
      "  Validation Found 48115 of 54504, added 1379 (eff 88.28%) (0.138 FP/event)\n"
     ]
    },
    {
     "data": {
      "application/vnd.jupyter.widget-view+json": {
       "model_id": "",
       "version_major": 2,
       "version_minor": 0
      },
      "text/plain": [
       "HBox(children=(FloatProgress(value=0.0, description='Training', layout=Layout(flex='2'), max=1250.0, style=Pro…"
      ]
     },
     "metadata": {},
     "output_type": "display_data"
    },
    {
     "name": "stdout",
     "output_type": "stream",
     "text": [
      "Epoch 144: train=11.5631, val=10.6042, took 25.693 s\n",
      "  Validation Found 48325 of 54504, added 1528 (eff 88.66%) (0.153 FP/event)\n"
     ]
    },
    {
     "data": {
      "application/vnd.jupyter.widget-view+json": {
       "model_id": "",
       "version_major": 2,
       "version_minor": 0
      },
      "text/plain": [
       "HBox(children=(FloatProgress(value=0.0, description='Training', layout=Layout(flex='2'), max=1250.0, style=Pro…"
      ]
     },
     "metadata": {},
     "output_type": "display_data"
    },
    {
     "name": "stdout",
     "output_type": "stream",
     "text": [
      "Epoch 145: train=11.5515, val=10.6212, took 25.335 s\n",
      "  Validation Found 48160 of 54504, added 1374 (eff 88.36%) (0.138 FP/event)\n"
     ]
    },
    {
     "data": {
      "application/vnd.jupyter.widget-view+json": {
       "model_id": "",
       "version_major": 2,
       "version_minor": 0
      },
      "text/plain": [
       "HBox(children=(FloatProgress(value=0.0, description='Training', layout=Layout(flex='2'), max=1250.0, style=Pro…"
      ]
     },
     "metadata": {},
     "output_type": "display_data"
    },
    {
     "name": "stdout",
     "output_type": "stream",
     "text": [
      "Epoch 146: train=11.5382, val=10.53, took 25.922 s\n",
      "  Validation Found 48110 of 54504, added 1356 (eff 88.27%) (0.136 FP/event)\n"
     ]
    },
    {
     "data": {
      "application/vnd.jupyter.widget-view+json": {
       "model_id": "",
       "version_major": 2,
       "version_minor": 0
      },
      "text/plain": [
       "HBox(children=(FloatProgress(value=0.0, description='Training', layout=Layout(flex='2'), max=1250.0, style=Pro…"
      ]
     },
     "metadata": {},
     "output_type": "display_data"
    },
    {
     "name": "stdout",
     "output_type": "stream",
     "text": [
      "Epoch 147: train=11.5437, val=10.5328, took 26.048 s\n",
      "  Validation Found 48092 of 54504, added 1327 (eff 88.24%) (0.133 FP/event)\n"
     ]
    },
    {
     "data": {
      "application/vnd.jupyter.widget-view+json": {
       "model_id": "",
       "version_major": 2,
       "version_minor": 0
      },
      "text/plain": [
       "HBox(children=(FloatProgress(value=0.0, description='Training', layout=Layout(flex='2'), max=1250.0, style=Pro…"
      ]
     },
     "metadata": {},
     "output_type": "display_data"
    },
    {
     "name": "stdout",
     "output_type": "stream",
     "text": [
      "Epoch 148: train=11.5212, val=10.5786, took 26.327 s\n",
      "  Validation Found 48419 of 54504, added 1599 (eff 88.84%) (0.16 FP/event)\n"
     ]
    },
    {
     "data": {
      "application/vnd.jupyter.widget-view+json": {
       "model_id": "",
       "version_major": 2,
       "version_minor": 0
      },
      "text/plain": [
       "HBox(children=(FloatProgress(value=0.0, description='Training', layout=Layout(flex='2'), max=1250.0, style=Pro…"
      ]
     },
     "metadata": {},
     "output_type": "display_data"
    },
    {
     "name": "stdout",
     "output_type": "stream",
     "text": [
      "Epoch 149: train=11.5275, val=10.5454, took 25.921 s\n",
      "  Validation Found 48192 of 54504, added 1479 (eff 88.42%) (0.148 FP/event)\n"
     ]
    },
    {
     "data": {
      "application/vnd.jupyter.widget-view+json": {
       "model_id": "",
       "version_major": 2,
       "version_minor": 0
      },
      "text/plain": [
       "HBox(children=(FloatProgress(value=0.0, description='Training', layout=Layout(flex='2'), max=1250.0, style=Pro…"
      ]
     },
     "metadata": {},
     "output_type": "display_data"
    },
    {
     "name": "stdout",
     "output_type": "stream",
     "text": [
      "Epoch 150: train=11.5183, val=10.5126, took 25.429 s\n",
      "  Validation Found 48217 of 54504, added 1432 (eff 88.47%) (0.143 FP/event)\n"
     ]
    },
    {
     "data": {
      "application/vnd.jupyter.widget-view+json": {
       "model_id": "",
       "version_major": 2,
       "version_minor": 0
      },
      "text/plain": [
       "HBox(children=(FloatProgress(value=0.0, description='Training', layout=Layout(flex='2'), max=1250.0, style=Pro…"
      ]
     },
     "metadata": {},
     "output_type": "display_data"
    },
    {
     "name": "stdout",
     "output_type": "stream",
     "text": [
      "Epoch 151: train=11.5237, val=10.4996, took 24.936 s\n",
      "  Validation Found 48159 of 54504, added 1361 (eff 88.36%) (0.136 FP/event)\n"
     ]
    },
    {
     "data": {
      "application/vnd.jupyter.widget-view+json": {
       "model_id": "",
       "version_major": 2,
       "version_minor": 0
      },
      "text/plain": [
       "HBox(children=(FloatProgress(value=0.0, description='Training', layout=Layout(flex='2'), max=1250.0, style=Pro…"
      ]
     },
     "metadata": {},
     "output_type": "display_data"
    },
    {
     "name": "stdout",
     "output_type": "stream",
     "text": [
      "Epoch 152: train=11.5096, val=10.4294, took 25.158 s\n",
      "  Validation Found 48227 of 54504, added 1460 (eff 88.48%) (0.146 FP/event)\n"
     ]
    },
    {
     "data": {
      "application/vnd.jupyter.widget-view+json": {
       "model_id": "",
       "version_major": 2,
       "version_minor": 0
      },
      "text/plain": [
       "HBox(children=(FloatProgress(value=0.0, description='Training', layout=Layout(flex='2'), max=1250.0, style=Pro…"
      ]
     },
     "metadata": {},
     "output_type": "display_data"
    },
    {
     "name": "stdout",
     "output_type": "stream",
     "text": [
      "Epoch 153: train=11.4862, val=10.5582, took 25.075 s\n",
      "  Validation Found 48498 of 54504, added 1654 (eff 88.98%) (0.166 FP/event)\n"
     ]
    },
    {
     "data": {
      "application/vnd.jupyter.widget-view+json": {
       "model_id": "",
       "version_major": 2,
       "version_minor": 0
      },
      "text/plain": [
       "HBox(children=(FloatProgress(value=0.0, description='Training', layout=Layout(flex='2'), max=1250.0, style=Pro…"
      ]
     },
     "metadata": {},
     "output_type": "display_data"
    },
    {
     "name": "stdout",
     "output_type": "stream",
     "text": [
      "Epoch 154: train=11.479, val=10.6179, took 26.19 s\n",
      "  Validation Found 48574 of 54504, added 1726 (eff 89.12%) (0.173 FP/event)\n"
     ]
    },
    {
     "data": {
      "application/vnd.jupyter.widget-view+json": {
       "model_id": "",
       "version_major": 2,
       "version_minor": 0
      },
      "text/plain": [
       "HBox(children=(FloatProgress(value=0.0, description='Training', layout=Layout(flex='2'), max=1250.0, style=Pro…"
      ]
     },
     "metadata": {},
     "output_type": "display_data"
    },
    {
     "name": "stdout",
     "output_type": "stream",
     "text": [
      "Epoch 155: train=11.4702, val=10.3852, took 27.387 s\n",
      "  Validation Found 48310 of 54504, added 1434 (eff 88.64%) (0.144 FP/event)\n"
     ]
    },
    {
     "data": {
      "application/vnd.jupyter.widget-view+json": {
       "model_id": "",
       "version_major": 2,
       "version_minor": 0
      },
      "text/plain": [
       "HBox(children=(FloatProgress(value=0.0, description='Training', layout=Layout(flex='2'), max=1250.0, style=Pro…"
      ]
     },
     "metadata": {},
     "output_type": "display_data"
    },
    {
     "name": "stdout",
     "output_type": "stream",
     "text": [
      "Epoch 156: train=11.4559, val=10.3817, took 28.084 s\n",
      "  Validation Found 48292 of 54504, added 1491 (eff 88.60%) (0.149 FP/event)\n"
     ]
    },
    {
     "data": {
      "application/vnd.jupyter.widget-view+json": {
       "model_id": "",
       "version_major": 2,
       "version_minor": 0
      },
      "text/plain": [
       "HBox(children=(FloatProgress(value=0.0, description='Training', layout=Layout(flex='2'), max=1250.0, style=Pro…"
      ]
     },
     "metadata": {},
     "output_type": "display_data"
    },
    {
     "name": "stdout",
     "output_type": "stream",
     "text": [
      "Epoch 157: train=11.4463, val=10.4003, took 27.908 s\n",
      "  Validation Found 48265 of 54504, added 1406 (eff 88.55%) (0.141 FP/event)\n"
     ]
    },
    {
     "data": {
      "application/vnd.jupyter.widget-view+json": {
       "model_id": "",
       "version_major": 2,
       "version_minor": 0
      },
      "text/plain": [
       "HBox(children=(FloatProgress(value=0.0, description='Training', layout=Layout(flex='2'), max=1250.0, style=Pro…"
      ]
     },
     "metadata": {},
     "output_type": "display_data"
    },
    {
     "name": "stdout",
     "output_type": "stream",
     "text": [
      "Epoch 158: train=11.4397, val=10.4605, took 27.983 s\n",
      "  Validation Found 48268 of 54504, added 1397 (eff 88.56%) (0.14 FP/event)\n"
     ]
    },
    {
     "data": {
      "application/vnd.jupyter.widget-view+json": {
       "model_id": "",
       "version_major": 2,
       "version_minor": 0
      },
      "text/plain": [
       "HBox(children=(FloatProgress(value=0.0, description='Training', layout=Layout(flex='2'), max=1250.0, style=Pro…"
      ]
     },
     "metadata": {},
     "output_type": "display_data"
    },
    {
     "name": "stdout",
     "output_type": "stream",
     "text": [
      "Epoch 159: train=11.4361, val=10.5249, took 25.892 s\n",
      "  Validation Found 48641 of 54504, added 1728 (eff 89.24%) (0.173 FP/event)\n"
     ]
    },
    {
     "data": {
      "application/vnd.jupyter.widget-view+json": {
       "model_id": "",
       "version_major": 2,
       "version_minor": 0
      },
      "text/plain": [
       "HBox(children=(FloatProgress(value=0.0, description='Training', layout=Layout(flex='2'), max=1250.0, style=Pro…"
      ]
     },
     "metadata": {},
     "output_type": "display_data"
    },
    {
     "name": "stdout",
     "output_type": "stream",
     "text": [
      "Epoch 160: train=11.4217, val=10.4224, took 25.856 s\n",
      "  Validation Found 48295 of 54504, added 1372 (eff 88.61%) (0.137 FP/event)\n"
     ]
    },
    {
     "data": {
      "application/vnd.jupyter.widget-view+json": {
       "model_id": "",
       "version_major": 2,
       "version_minor": 0
      },
      "text/plain": [
       "HBox(children=(FloatProgress(value=0.0, description='Training', layout=Layout(flex='2'), max=1250.0, style=Pro…"
      ]
     },
     "metadata": {},
     "output_type": "display_data"
    },
    {
     "name": "stdout",
     "output_type": "stream",
     "text": [
      "Epoch 161: train=11.3997, val=10.3746, took 25.803 s\n",
      "  Validation Found 48083 of 54504, added 1186 (eff 88.22%) (0.119 FP/event)\n"
     ]
    },
    {
     "data": {
      "application/vnd.jupyter.widget-view+json": {
       "model_id": "",
       "version_major": 2,
       "version_minor": 0
      },
      "text/plain": [
       "HBox(children=(FloatProgress(value=0.0, description='Training', layout=Layout(flex='2'), max=1250.0, style=Pro…"
      ]
     },
     "metadata": {},
     "output_type": "display_data"
    },
    {
     "name": "stdout",
     "output_type": "stream",
     "text": [
      "Epoch 162: train=11.3866, val=10.3447, took 25.418 s\n",
      "  Validation Found 48598 of 54504, added 1635 (eff 89.16%) (0.164 FP/event)\n"
     ]
    },
    {
     "data": {
      "application/vnd.jupyter.widget-view+json": {
       "model_id": "",
       "version_major": 2,
       "version_minor": 0
      },
      "text/plain": [
       "HBox(children=(FloatProgress(value=0.0, description='Training', layout=Layout(flex='2'), max=1250.0, style=Pro…"
      ]
     },
     "metadata": {},
     "output_type": "display_data"
    },
    {
     "name": "stdout",
     "output_type": "stream",
     "text": [
      "Epoch 163: train=11.3758, val=10.3434, took 25.218 s\n",
      "  Validation Found 48447 of 54504, added 1494 (eff 88.89%) (0.15 FP/event)\n"
     ]
    },
    {
     "data": {
      "application/vnd.jupyter.widget-view+json": {
       "model_id": "",
       "version_major": 2,
       "version_minor": 0
      },
      "text/plain": [
       "HBox(children=(FloatProgress(value=0.0, description='Training', layout=Layout(flex='2'), max=1250.0, style=Pro…"
      ]
     },
     "metadata": {},
     "output_type": "display_data"
    },
    {
     "name": "stdout",
     "output_type": "stream",
     "text": [
      "Epoch 164: train=11.3769, val=10.3857, took 24.653 s\n",
      "  Validation Found 48611 of 54504, added 1627 (eff 89.19%) (0.163 FP/event)\n"
     ]
    },
    {
     "data": {
      "application/vnd.jupyter.widget-view+json": {
       "model_id": "",
       "version_major": 2,
       "version_minor": 0
      },
      "text/plain": [
       "HBox(children=(FloatProgress(value=0.0, description='Training', layout=Layout(flex='2'), max=1250.0, style=Pro…"
      ]
     },
     "metadata": {},
     "output_type": "display_data"
    },
    {
     "name": "stdout",
     "output_type": "stream",
     "text": [
      "Epoch 165: train=11.3631, val=10.3627, took 25.138 s\n",
      "  Validation Found 48233 of 54504, added 1252 (eff 88.49%) (0.125 FP/event)\n"
     ]
    },
    {
     "data": {
      "application/vnd.jupyter.widget-view+json": {
       "model_id": "",
       "version_major": 2,
       "version_minor": 0
      },
      "text/plain": [
       "HBox(children=(FloatProgress(value=0.0, description='Training', layout=Layout(flex='2'), max=1250.0, style=Pro…"
      ]
     },
     "metadata": {},
     "output_type": "display_data"
    },
    {
     "name": "stdout",
     "output_type": "stream",
     "text": [
      "Epoch 166: train=11.3619, val=10.3621, took 24.821 s\n",
      "  Validation Found 48608 of 54504, added 1594 (eff 89.18%) (0.16 FP/event)\n"
     ]
    },
    {
     "data": {
      "application/vnd.jupyter.widget-view+json": {
       "model_id": "",
       "version_major": 2,
       "version_minor": 0
      },
      "text/plain": [
       "HBox(children=(FloatProgress(value=0.0, description='Training', layout=Layout(flex='2'), max=1250.0, style=Pro…"
      ]
     },
     "metadata": {},
     "output_type": "display_data"
    },
    {
     "name": "stdout",
     "output_type": "stream",
     "text": [
      "Epoch 167: train=11.3593, val=10.4707, took 25.963 s\n",
      "  Validation Found 48675 of 54504, added 1653 (eff 89.31%) (0.166 FP/event)\n"
     ]
    },
    {
     "data": {
      "application/vnd.jupyter.widget-view+json": {
       "model_id": "",
       "version_major": 2,
       "version_minor": 0
      },
      "text/plain": [
       "HBox(children=(FloatProgress(value=0.0, description='Training', layout=Layout(flex='2'), max=1250.0, style=Pro…"
      ]
     },
     "metadata": {},
     "output_type": "display_data"
    },
    {
     "name": "stdout",
     "output_type": "stream",
     "text": [
      "Epoch 168: train=11.3527, val=10.3435, took 25.744 s\n",
      "  Validation Found 48560 of 54504, added 1473 (eff 89.09%) (0.148 FP/event)\n"
     ]
    },
    {
     "data": {
      "application/vnd.jupyter.widget-view+json": {
       "model_id": "",
       "version_major": 2,
       "version_minor": 0
      },
      "text/plain": [
       "HBox(children=(FloatProgress(value=0.0, description='Training', layout=Layout(flex='2'), max=1250.0, style=Pro…"
      ]
     },
     "metadata": {},
     "output_type": "display_data"
    },
    {
     "name": "stdout",
     "output_type": "stream",
     "text": [
      "Epoch 169: train=11.3416, val=10.31, took 25.636 s\n",
      "  Validation Found 48426 of 54504, added 1389 (eff 88.85%) (0.139 FP/event)\n"
     ]
    },
    {
     "data": {
      "application/vnd.jupyter.widget-view+json": {
       "model_id": "",
       "version_major": 2,
       "version_minor": 0
      },
      "text/plain": [
       "HBox(children=(FloatProgress(value=0.0, description='Training', layout=Layout(flex='2'), max=1250.0, style=Pro…"
      ]
     },
     "metadata": {},
     "output_type": "display_data"
    },
    {
     "name": "stdout",
     "output_type": "stream",
     "text": [
      "Epoch 170: train=11.3219, val=10.3908, took 25.773 s\n",
      "  Validation Found 48682 of 54504, added 1590 (eff 89.32%) (0.159 FP/event)\n"
     ]
    },
    {
     "data": {
      "application/vnd.jupyter.widget-view+json": {
       "model_id": "",
       "version_major": 2,
       "version_minor": 0
      },
      "text/plain": [
       "HBox(children=(FloatProgress(value=0.0, description='Training', layout=Layout(flex='2'), max=1250.0, style=Pro…"
      ]
     },
     "metadata": {},
     "output_type": "display_data"
    },
    {
     "name": "stdout",
     "output_type": "stream",
     "text": [
      "Epoch 171: train=11.3127, val=10.2695, took 25.941 s\n",
      "  Validation Found 48576 of 54504, added 1476 (eff 89.12%) (0.148 FP/event)\n"
     ]
    },
    {
     "data": {
      "application/vnd.jupyter.widget-view+json": {
       "model_id": "",
       "version_major": 2,
       "version_minor": 0
      },
      "text/plain": [
       "HBox(children=(FloatProgress(value=0.0, description='Training', layout=Layout(flex='2'), max=1250.0, style=Pro…"
      ]
     },
     "metadata": {},
     "output_type": "display_data"
    },
    {
     "name": "stdout",
     "output_type": "stream",
     "text": [
      "Epoch 172: train=11.3003, val=10.3201, took 25.451 s\n",
      "  Validation Found 48340 of 54504, added 1288 (eff 88.69%) (0.129 FP/event)\n"
     ]
    },
    {
     "data": {
      "application/vnd.jupyter.widget-view+json": {
       "model_id": "",
       "version_major": 2,
       "version_minor": 0
      },
      "text/plain": [
       "HBox(children=(FloatProgress(value=0.0, description='Training', layout=Layout(flex='2'), max=1250.0, style=Pro…"
      ]
     },
     "metadata": {},
     "output_type": "display_data"
    },
    {
     "name": "stdout",
     "output_type": "stream",
     "text": [
      "Epoch 173: train=11.2984, val=10.4415, took 26.064 s\n",
      "  Validation Found 48616 of 54504, added 1473 (eff 89.20%) (0.148 FP/event)\n"
     ]
    },
    {
     "data": {
      "application/vnd.jupyter.widget-view+json": {
       "model_id": "",
       "version_major": 2,
       "version_minor": 0
      },
      "text/plain": [
       "HBox(children=(FloatProgress(value=0.0, description='Training', layout=Layout(flex='2'), max=1250.0, style=Pro…"
      ]
     },
     "metadata": {},
     "output_type": "display_data"
    },
    {
     "name": "stdout",
     "output_type": "stream",
     "text": [
      "Epoch 174: train=11.2853, val=10.2709, took 25.558 s\n",
      "  Validation Found 48834 of 54504, added 1720 (eff 89.60%) (0.172 FP/event)\n"
     ]
    },
    {
     "data": {
      "application/vnd.jupyter.widget-view+json": {
       "model_id": "",
       "version_major": 2,
       "version_minor": 0
      },
      "text/plain": [
       "HBox(children=(FloatProgress(value=0.0, description='Training', layout=Layout(flex='2'), max=1250.0, style=Pro…"
      ]
     },
     "metadata": {},
     "output_type": "display_data"
    },
    {
     "name": "stdout",
     "output_type": "stream",
     "text": [
      "Epoch 175: train=11.2734, val=10.408, took 25.185 s\n",
      "  Validation Found 48620 of 54504, added 1417 (eff 89.20%) (0.142 FP/event)\n"
     ]
    },
    {
     "data": {
      "application/vnd.jupyter.widget-view+json": {
       "model_id": "",
       "version_major": 2,
       "version_minor": 0
      },
      "text/plain": [
       "HBox(children=(FloatProgress(value=0.0, description='Training', layout=Layout(flex='2'), max=1250.0, style=Pro…"
      ]
     },
     "metadata": {},
     "output_type": "display_data"
    },
    {
     "name": "stdout",
     "output_type": "stream",
     "text": [
      "Epoch 176: train=11.2741, val=10.2756, took 25.245 s\n",
      "  Validation Found 48335 of 54504, added 1279 (eff 88.68%) (0.128 FP/event)\n"
     ]
    },
    {
     "data": {
      "application/vnd.jupyter.widget-view+json": {
       "model_id": "",
       "version_major": 2,
       "version_minor": 0
      },
      "text/plain": [
       "HBox(children=(FloatProgress(value=0.0, description='Training', layout=Layout(flex='2'), max=1250.0, style=Pro…"
      ]
     },
     "metadata": {},
     "output_type": "display_data"
    },
    {
     "name": "stdout",
     "output_type": "stream",
     "text": [
      "Epoch 177: train=11.2669, val=10.1838, took 25.882 s\n",
      "  Validation Found 48423 of 54504, added 1417 (eff 88.84%) (0.142 FP/event)\n"
     ]
    },
    {
     "data": {
      "application/vnd.jupyter.widget-view+json": {
       "model_id": "",
       "version_major": 2,
       "version_minor": 0
      },
      "text/plain": [
       "HBox(children=(FloatProgress(value=0.0, description='Training', layout=Layout(flex='2'), max=1250.0, style=Pro…"
      ]
     },
     "metadata": {},
     "output_type": "display_data"
    },
    {
     "name": "stdout",
     "output_type": "stream",
     "text": [
      "Epoch 178: train=11.2623, val=10.1705, took 26.072 s\n",
      "  Validation Found 48650 of 54504, added 1573 (eff 89.26%) (0.158 FP/event)\n"
     ]
    },
    {
     "data": {
      "application/vnd.jupyter.widget-view+json": {
       "model_id": "",
       "version_major": 2,
       "version_minor": 0
      },
      "text/plain": [
       "HBox(children=(FloatProgress(value=0.0, description='Training', layout=Layout(flex='2'), max=1250.0, style=Pro…"
      ]
     },
     "metadata": {},
     "output_type": "display_data"
    },
    {
     "name": "stdout",
     "output_type": "stream",
     "text": [
      "Epoch 179: train=11.2618, val=10.2282, took 25.15 s\n",
      "  Validation Found 48528 of 54504, added 1423 (eff 89.04%) (0.143 FP/event)\n"
     ]
    },
    {
     "data": {
      "application/vnd.jupyter.widget-view+json": {
       "model_id": "",
       "version_major": 2,
       "version_minor": 0
      },
      "text/plain": [
       "HBox(children=(FloatProgress(value=0.0, description='Training', layout=Layout(flex='2'), max=1250.0, style=Pro…"
      ]
     },
     "metadata": {},
     "output_type": "display_data"
    },
    {
     "name": "stdout",
     "output_type": "stream",
     "text": [
      "Epoch 180: train=11.2572, val=10.3335, took 24.986 s\n",
      "  Validation Found 48433 of 54504, added 1315 (eff 88.86%) (0.132 FP/event)\n"
     ]
    },
    {
     "data": {
      "application/vnd.jupyter.widget-view+json": {
       "model_id": "",
       "version_major": 2,
       "version_minor": 0
      },
      "text/plain": [
       "HBox(children=(FloatProgress(value=0.0, description='Training', layout=Layout(flex='2'), max=1250.0, style=Pro…"
      ]
     },
     "metadata": {},
     "output_type": "display_data"
    },
    {
     "name": "stdout",
     "output_type": "stream",
     "text": [
      "Epoch 181: train=11.2506, val=10.302, took 25.328 s\n",
      "  Validation Found 48567 of 54504, added 1415 (eff 89.11%) (0.142 FP/event)\n"
     ]
    },
    {
     "data": {
      "application/vnd.jupyter.widget-view+json": {
       "model_id": "",
       "version_major": 2,
       "version_minor": 0
      },
      "text/plain": [
       "HBox(children=(FloatProgress(value=0.0, description='Training', layout=Layout(flex='2'), max=1250.0, style=Pro…"
      ]
     },
     "metadata": {},
     "output_type": "display_data"
    },
    {
     "name": "stdout",
     "output_type": "stream",
     "text": [
      "Epoch 182: train=11.2489, val=10.2267, took 24.821 s\n",
      "  Validation Found 48670 of 54504, added 1541 (eff 89.30%) (0.154 FP/event)\n"
     ]
    },
    {
     "data": {
      "application/vnd.jupyter.widget-view+json": {
       "model_id": "",
       "version_major": 2,
       "version_minor": 0
      },
      "text/plain": [
       "HBox(children=(FloatProgress(value=0.0, description='Training', layout=Layout(flex='2'), max=1250.0, style=Pro…"
      ]
     },
     "metadata": {},
     "output_type": "display_data"
    },
    {
     "name": "stdout",
     "output_type": "stream",
     "text": [
      "Epoch 183: train=11.2425, val=10.3036, took 25.349 s\n",
      "  Validation Found 48777 of 54504, added 1636 (eff 89.49%) (0.164 FP/event)\n"
     ]
    },
    {
     "data": {
      "application/vnd.jupyter.widget-view+json": {
       "model_id": "",
       "version_major": 2,
       "version_minor": 0
      },
      "text/plain": [
       "HBox(children=(FloatProgress(value=0.0, description='Training', layout=Layout(flex='2'), max=1250.0, style=Pro…"
      ]
     },
     "metadata": {},
     "output_type": "display_data"
    },
    {
     "name": "stdout",
     "output_type": "stream",
     "text": [
      "Epoch 184: train=11.2375, val=10.3024, took 25.358 s\n",
      "  Validation Found 48745 of 54504, added 1544 (eff 89.43%) (0.155 FP/event)\n"
     ]
    },
    {
     "data": {
      "application/vnd.jupyter.widget-view+json": {
       "model_id": "",
       "version_major": 2,
       "version_minor": 0
      },
      "text/plain": [
       "HBox(children=(FloatProgress(value=0.0, description='Training', layout=Layout(flex='2'), max=1250.0, style=Pro…"
      ]
     },
     "metadata": {},
     "output_type": "display_data"
    },
    {
     "name": "stdout",
     "output_type": "stream",
     "text": [
      "Epoch 185: train=11.229, val=10.2296, took 24.975 s\n",
      "  Validation Found 48615 of 54504, added 1463 (eff 89.20%) (0.147 FP/event)\n"
     ]
    },
    {
     "data": {
      "application/vnd.jupyter.widget-view+json": {
       "model_id": "",
       "version_major": 2,
       "version_minor": 0
      },
      "text/plain": [
       "HBox(children=(FloatProgress(value=0.0, description='Training', layout=Layout(flex='2'), max=1250.0, style=Pro…"
      ]
     },
     "metadata": {},
     "output_type": "display_data"
    },
    {
     "name": "stdout",
     "output_type": "stream",
     "text": [
      "Epoch 186: train=11.2161, val=10.3367, took 25.291 s\n",
      "  Validation Found 48899 of 54504, added 1667 (eff 89.72%) (0.167 FP/event)\n"
     ]
    },
    {
     "data": {
      "application/vnd.jupyter.widget-view+json": {
       "model_id": "",
       "version_major": 2,
       "version_minor": 0
      },
      "text/plain": [
       "HBox(children=(FloatProgress(value=0.0, description='Training', layout=Layout(flex='2'), max=1250.0, style=Pro…"
      ]
     },
     "metadata": {},
     "output_type": "display_data"
    },
    {
     "name": "stdout",
     "output_type": "stream",
     "text": [
      "Epoch 187: train=11.2198, val=10.1978, took 25.184 s\n",
      "  Validation Found 48681 of 54504, added 1471 (eff 89.32%) (0.147 FP/event)\n"
     ]
    },
    {
     "data": {
      "application/vnd.jupyter.widget-view+json": {
       "model_id": "",
       "version_major": 2,
       "version_minor": 0
      },
      "text/plain": [
       "HBox(children=(FloatProgress(value=0.0, description='Training', layout=Layout(flex='2'), max=1250.0, style=Pro…"
      ]
     },
     "metadata": {},
     "output_type": "display_data"
    },
    {
     "name": "stdout",
     "output_type": "stream",
     "text": [
      "Epoch 188: train=11.2108, val=10.2482, took 24.875 s\n",
      "  Validation Found 48613 of 54504, added 1383 (eff 89.19%) (0.139 FP/event)\n"
     ]
    },
    {
     "data": {
      "application/vnd.jupyter.widget-view+json": {
       "model_id": "",
       "version_major": 2,
       "version_minor": 0
      },
      "text/plain": [
       "HBox(children=(FloatProgress(value=0.0, description='Training', layout=Layout(flex='2'), max=1250.0, style=Pro…"
      ]
     },
     "metadata": {},
     "output_type": "display_data"
    },
    {
     "name": "stdout",
     "output_type": "stream",
     "text": [
      "Epoch 189: train=11.216, val=10.1987, took 25.413 s\n",
      "  Validation Found 48511 of 54504, added 1389 (eff 89.00%) (0.139 FP/event)\n"
     ]
    },
    {
     "data": {
      "application/vnd.jupyter.widget-view+json": {
       "model_id": "",
       "version_major": 2,
       "version_minor": 0
      },
      "text/plain": [
       "HBox(children=(FloatProgress(value=0.0, description='Training', layout=Layout(flex='2'), max=1250.0, style=Pro…"
      ]
     },
     "metadata": {},
     "output_type": "display_data"
    },
    {
     "name": "stdout",
     "output_type": "stream",
     "text": [
      "Epoch 190: train=11.2049, val=10.2627, took 24.919 s\n",
      "  Validation Found 48680 of 54504, added 1435 (eff 89.31%) (0.144 FP/event)\n"
     ]
    },
    {
     "data": {
      "application/vnd.jupyter.widget-view+json": {
       "model_id": "",
       "version_major": 2,
       "version_minor": 0
      },
      "text/plain": [
       "HBox(children=(FloatProgress(value=0.0, description='Training', layout=Layout(flex='2'), max=1250.0, style=Pro…"
      ]
     },
     "metadata": {},
     "output_type": "display_data"
    },
    {
     "name": "stdout",
     "output_type": "stream",
     "text": [
      "Epoch 191: train=11.2029, val=10.2884, took 24.841 s\n",
      "  Validation Found 48646 of 54504, added 1412 (eff 89.25%) (0.141 FP/event)\n"
     ]
    },
    {
     "data": {
      "application/vnd.jupyter.widget-view+json": {
       "model_id": "",
       "version_major": 2,
       "version_minor": 0
      },
      "text/plain": [
       "HBox(children=(FloatProgress(value=0.0, description='Training', layout=Layout(flex='2'), max=1250.0, style=Pro…"
      ]
     },
     "metadata": {},
     "output_type": "display_data"
    },
    {
     "name": "stdout",
     "output_type": "stream",
     "text": [
      "Epoch 192: train=11.2033, val=10.2586, took 25.239 s\n",
      "  Validation Found 48685 of 54504, added 1472 (eff 89.32%) (0.147 FP/event)\n"
     ]
    },
    {
     "data": {
      "application/vnd.jupyter.widget-view+json": {
       "model_id": "",
       "version_major": 2,
       "version_minor": 0
      },
      "text/plain": [
       "HBox(children=(FloatProgress(value=0.0, description='Training', layout=Layout(flex='2'), max=1250.0, style=Pro…"
      ]
     },
     "metadata": {},
     "output_type": "display_data"
    },
    {
     "name": "stdout",
     "output_type": "stream",
     "text": [
      "Epoch 193: train=11.2004, val=10.1383, took 24.903 s\n",
      "  Validation Found 48501 of 54504, added 1313 (eff 88.99%) (0.131 FP/event)\n"
     ]
    },
    {
     "data": {
      "application/vnd.jupyter.widget-view+json": {
       "model_id": "",
       "version_major": 2,
       "version_minor": 0
      },
      "text/plain": [
       "HBox(children=(FloatProgress(value=0.0, description='Training', layout=Layout(flex='2'), max=1250.0, style=Pro…"
      ]
     },
     "metadata": {},
     "output_type": "display_data"
    },
    {
     "name": "stdout",
     "output_type": "stream",
     "text": [
      "Epoch 194: train=11.1917, val=10.2044, took 25.311 s\n",
      "  Validation Found 48829 of 54504, added 1592 (eff 89.59%) (0.159 FP/event)\n"
     ]
    },
    {
     "data": {
      "application/vnd.jupyter.widget-view+json": {
       "model_id": "",
       "version_major": 2,
       "version_minor": 0
      },
      "text/plain": [
       "HBox(children=(FloatProgress(value=0.0, description='Training', layout=Layout(flex='2'), max=1250.0, style=Pro…"
      ]
     },
     "metadata": {},
     "output_type": "display_data"
    },
    {
     "name": "stdout",
     "output_type": "stream",
     "text": [
      "Epoch 195: train=11.1877, val=10.1802, took 25.317 s\n",
      "  Validation Found 48368 of 54504, added 1241 (eff 88.74%) (0.124 FP/event)\n"
     ]
    },
    {
     "data": {
      "application/vnd.jupyter.widget-view+json": {
       "model_id": "",
       "version_major": 2,
       "version_minor": 0
      },
      "text/plain": [
       "HBox(children=(FloatProgress(value=0.0, description='Training', layout=Layout(flex='2'), max=1250.0, style=Pro…"
      ]
     },
     "metadata": {},
     "output_type": "display_data"
    },
    {
     "name": "stdout",
     "output_type": "stream",
     "text": [
      "Epoch 196: train=11.18, val=10.2792, took 24.89 s\n",
      "  Validation Found 48833 of 54504, added 1542 (eff 89.60%) (0.154 FP/event)\n"
     ]
    },
    {
     "data": {
      "application/vnd.jupyter.widget-view+json": {
       "model_id": "",
       "version_major": 2,
       "version_minor": 0
      },
      "text/plain": [
       "HBox(children=(FloatProgress(value=0.0, description='Training', layout=Layout(flex='2'), max=1250.0, style=Pro…"
      ]
     },
     "metadata": {},
     "output_type": "display_data"
    },
    {
     "name": "stdout",
     "output_type": "stream",
     "text": [
      "Epoch 197: train=11.1658, val=10.1953, took 26.059 s\n",
      "  Validation Found 48917 of 54504, added 1627 (eff 89.75%) (0.163 FP/event)\n"
     ]
    },
    {
     "data": {
      "application/vnd.jupyter.widget-view+json": {
       "model_id": "",
       "version_major": 2,
       "version_minor": 0
      },
      "text/plain": [
       "HBox(children=(FloatProgress(value=0.0, description='Training', layout=Layout(flex='2'), max=1250.0, style=Pro…"
      ]
     },
     "metadata": {},
     "output_type": "display_data"
    },
    {
     "name": "stdout",
     "output_type": "stream",
     "text": [
      "Epoch 198: train=11.1621, val=10.2922, took 25.453 s\n",
      "  Validation Found 48958 of 54504, added 1643 (eff 89.82%) (0.165 FP/event)\n"
     ]
    },
    {
     "data": {
      "application/vnd.jupyter.widget-view+json": {
       "model_id": "",
       "version_major": 2,
       "version_minor": 0
      },
      "text/plain": [
       "HBox(children=(FloatProgress(value=0.0, description='Training', layout=Layout(flex='2'), max=1250.0, style=Pro…"
      ]
     },
     "metadata": {},
     "output_type": "display_data"
    },
    {
     "name": "stdout",
     "output_type": "stream",
     "text": [
      "Epoch 199: train=11.1578, val=10.1871, took 25.182 s\n",
      "  Validation Found 48817 of 54504, added 1530 (eff 89.57%) (0.153 FP/event)\n",
      "\n"
     ]
    }
   ],
   "source": [
    "for result in trainNet(model, optimizer, loss,\n",
    "                        train_loader, val_loader,\n",
    "                        n_epochs, epoch_start=len(results),\n",
    "                        notebook=True):\n",
    "    \n",
    "    results = results.append(pd.Series(result._asdict()), ignore_index=True)\n",
    "    \n",
    "    xs = results.index\n",
    "    \n",
    "    # Update the plot above\n",
    "    lines['train'].set_data(results.index,results.cost)\n",
    "    lines['val'].set_data(results.index,results.val)\n",
    "    \n",
    "    #filter first cost epoch (can be really large)\n",
    "    max_cost = max(max(results.cost if len(results.cost)<2 else results.cost[1:]), max(results.val))\n",
    "    min_cost = min(min(results.cost), min(results.val))\n",
    "    \n",
    "    # The plot limits need updating too\n",
    "    \n",
    "    \n",
    "    \n",
    "    ax.set_ylim(min_cost*.9, max_cost*1.1)  \n",
    "    ax.set_xlim(-.5, len(results.cost) - .5)\n",
    "    \n",
    "    replace_in_ax(lax, lines['eff'], xs, results['eff_val'].apply(lambda x: x.eff_rate))\n",
    "    replace_in_ax(tax, lines['fp'], xs, results['eff_val'].apply(lambda x: x.fp_rate))\n",
    "    \n",
    "    # Redraw the figure\n",
    "    fig.canvas.draw()\n",
    "\n",
    "    # Save each model state dictionary\n",
    "    torch.save(model.state_dict(), output / f'{name}_{result.epoch}.pyt')"
   ]
  },
  {
   "cell_type": "markdown",
   "metadata": {},
   "source": [
    "# Results\n",
    "\n",
    "Let's save some results: (even though if you have not changed the code above, it saves the model every epoch)"
   ]
  },
  {
   "cell_type": "markdown",
   "metadata": {},
   "source": [
    "Go ahead and save the final model (even though it was also saved above):"
   ]
  },
  {
   "cell_type": "code",
   "execution_count": 17,
   "metadata": {},
   "outputs": [],
   "source": [
    "torch.save(model.state_dict(), output / f'{name}_final.pyt')"
   ]
  },
  {
   "cell_type": "markdown",
   "metadata": {},
   "source": [
    "Save the output results:"
   ]
  },
  {
   "cell_type": "code",
   "execution_count": 18,
   "metadata": {},
   "outputs": [
    {
     "name": "stderr",
     "output_type": "stream",
     "text": [
      "/data/conda/envs/goofit/lib/python3.7/site-packages/pandas/core/generic.py:2505: PerformanceWarning: \n",
      "your performance may suffer as PyTables will pickle object types that it cannot\n",
      "map directly to c-types [inferred_type->mixed-integer,key->block1_values] [items->Index(['epoch', 'eff_val'], dtype='object')]\n",
      "\n",
      "  encoding=encoding,\n"
     ]
    }
   ],
   "source": [
    "results.to_hdf(f'{name}_stats.hdf5', 'results')"
   ]
  },
  {
   "cell_type": "markdown",
   "metadata": {},
   "source": [
    "Save the plot above:"
   ]
  },
  {
   "cell_type": "code",
   "execution_count": 19,
   "metadata": {
    "scrolled": false
   },
   "outputs": [
    {
     "data": {
      "application/javascript": [
       "/* Put everything inside the global mpl namespace */\n",
       "window.mpl = {};\n",
       "\n",
       "\n",
       "mpl.get_websocket_type = function() {\n",
       "    if (typeof(WebSocket) !== 'undefined') {\n",
       "        return WebSocket;\n",
       "    } else if (typeof(MozWebSocket) !== 'undefined') {\n",
       "        return MozWebSocket;\n",
       "    } else {\n",
       "        alert('Your browser does not have WebSocket support. ' +\n",
       "              'Please try Chrome, Safari or Firefox ≥ 6. ' +\n",
       "              'Firefox 4 and 5 are also supported but you ' +\n",
       "              'have to enable WebSockets in about:config.');\n",
       "    };\n",
       "}\n",
       "\n",
       "mpl.figure = function(figure_id, websocket, ondownload, parent_element) {\n",
       "    this.id = figure_id;\n",
       "\n",
       "    this.ws = websocket;\n",
       "\n",
       "    this.supports_binary = (this.ws.binaryType != undefined);\n",
       "\n",
       "    if (!this.supports_binary) {\n",
       "        var warnings = document.getElementById(\"mpl-warnings\");\n",
       "        if (warnings) {\n",
       "            warnings.style.display = 'block';\n",
       "            warnings.textContent = (\n",
       "                \"This browser does not support binary websocket messages. \" +\n",
       "                    \"Performance may be slow.\");\n",
       "        }\n",
       "    }\n",
       "\n",
       "    this.imageObj = new Image();\n",
       "\n",
       "    this.context = undefined;\n",
       "    this.message = undefined;\n",
       "    this.canvas = undefined;\n",
       "    this.rubberband_canvas = undefined;\n",
       "    this.rubberband_context = undefined;\n",
       "    this.format_dropdown = undefined;\n",
       "\n",
       "    this.image_mode = 'full';\n",
       "\n",
       "    this.root = $('<div/>');\n",
       "    this._root_extra_style(this.root)\n",
       "    this.root.attr('style', 'display: inline-block');\n",
       "\n",
       "    $(parent_element).append(this.root);\n",
       "\n",
       "    this._init_header(this);\n",
       "    this._init_canvas(this);\n",
       "    this._init_toolbar(this);\n",
       "\n",
       "    var fig = this;\n",
       "\n",
       "    this.waiting = false;\n",
       "\n",
       "    this.ws.onopen =  function () {\n",
       "            fig.send_message(\"supports_binary\", {value: fig.supports_binary});\n",
       "            fig.send_message(\"send_image_mode\", {});\n",
       "            if (mpl.ratio != 1) {\n",
       "                fig.send_message(\"set_dpi_ratio\", {'dpi_ratio': mpl.ratio});\n",
       "            }\n",
       "            fig.send_message(\"refresh\", {});\n",
       "        }\n",
       "\n",
       "    this.imageObj.onload = function() {\n",
       "            if (fig.image_mode == 'full') {\n",
       "                // Full images could contain transparency (where diff images\n",
       "                // almost always do), so we need to clear the canvas so that\n",
       "                // there is no ghosting.\n",
       "                fig.context.clearRect(0, 0, fig.canvas.width, fig.canvas.height);\n",
       "            }\n",
       "            fig.context.drawImage(fig.imageObj, 0, 0);\n",
       "        };\n",
       "\n",
       "    this.imageObj.onunload = function() {\n",
       "        fig.ws.close();\n",
       "    }\n",
       "\n",
       "    this.ws.onmessage = this._make_on_message_function(this);\n",
       "\n",
       "    this.ondownload = ondownload;\n",
       "}\n",
       "\n",
       "mpl.figure.prototype._init_header = function() {\n",
       "    var titlebar = $(\n",
       "        '<div class=\"ui-dialog-titlebar ui-widget-header ui-corner-all ' +\n",
       "        'ui-helper-clearfix\"/>');\n",
       "    var titletext = $(\n",
       "        '<div class=\"ui-dialog-title\" style=\"width: 100%; ' +\n",
       "        'text-align: center; padding: 3px;\"/>');\n",
       "    titlebar.append(titletext)\n",
       "    this.root.append(titlebar);\n",
       "    this.header = titletext[0];\n",
       "}\n",
       "\n",
       "\n",
       "\n",
       "mpl.figure.prototype._canvas_extra_style = function(canvas_div) {\n",
       "\n",
       "}\n",
       "\n",
       "\n",
       "mpl.figure.prototype._root_extra_style = function(canvas_div) {\n",
       "\n",
       "}\n",
       "\n",
       "mpl.figure.prototype._init_canvas = function() {\n",
       "    var fig = this;\n",
       "\n",
       "    var canvas_div = $('<div/>');\n",
       "\n",
       "    canvas_div.attr('style', 'position: relative; clear: both; outline: 0');\n",
       "\n",
       "    function canvas_keyboard_event(event) {\n",
       "        return fig.key_event(event, event['data']);\n",
       "    }\n",
       "\n",
       "    canvas_div.keydown('key_press', canvas_keyboard_event);\n",
       "    canvas_div.keyup('key_release', canvas_keyboard_event);\n",
       "    this.canvas_div = canvas_div\n",
       "    this._canvas_extra_style(canvas_div)\n",
       "    this.root.append(canvas_div);\n",
       "\n",
       "    var canvas = $('<canvas/>');\n",
       "    canvas.addClass('mpl-canvas');\n",
       "    canvas.attr('style', \"left: 0; top: 0; z-index: 0; outline: 0\")\n",
       "\n",
       "    this.canvas = canvas[0];\n",
       "    this.context = canvas[0].getContext(\"2d\");\n",
       "\n",
       "    var backingStore = this.context.backingStorePixelRatio ||\n",
       "\tthis.context.webkitBackingStorePixelRatio ||\n",
       "\tthis.context.mozBackingStorePixelRatio ||\n",
       "\tthis.context.msBackingStorePixelRatio ||\n",
       "\tthis.context.oBackingStorePixelRatio ||\n",
       "\tthis.context.backingStorePixelRatio || 1;\n",
       "\n",
       "    mpl.ratio = (window.devicePixelRatio || 1) / backingStore;\n",
       "\n",
       "    var rubberband = $('<canvas/>');\n",
       "    rubberband.attr('style', \"position: absolute; left: 0; top: 0; z-index: 1;\")\n",
       "\n",
       "    var pass_mouse_events = true;\n",
       "\n",
       "    canvas_div.resizable({\n",
       "        start: function(event, ui) {\n",
       "            pass_mouse_events = false;\n",
       "        },\n",
       "        resize: function(event, ui) {\n",
       "            fig.request_resize(ui.size.width, ui.size.height);\n",
       "        },\n",
       "        stop: function(event, ui) {\n",
       "            pass_mouse_events = true;\n",
       "            fig.request_resize(ui.size.width, ui.size.height);\n",
       "        },\n",
       "    });\n",
       "\n",
       "    function mouse_event_fn(event) {\n",
       "        if (pass_mouse_events)\n",
       "            return fig.mouse_event(event, event['data']);\n",
       "    }\n",
       "\n",
       "    rubberband.mousedown('button_press', mouse_event_fn);\n",
       "    rubberband.mouseup('button_release', mouse_event_fn);\n",
       "    // Throttle sequential mouse events to 1 every 20ms.\n",
       "    rubberband.mousemove('motion_notify', mouse_event_fn);\n",
       "\n",
       "    rubberband.mouseenter('figure_enter', mouse_event_fn);\n",
       "    rubberband.mouseleave('figure_leave', mouse_event_fn);\n",
       "\n",
       "    canvas_div.on(\"wheel\", function (event) {\n",
       "        event = event.originalEvent;\n",
       "        event['data'] = 'scroll'\n",
       "        if (event.deltaY < 0) {\n",
       "            event.step = 1;\n",
       "        } else {\n",
       "            event.step = -1;\n",
       "        }\n",
       "        mouse_event_fn(event);\n",
       "    });\n",
       "\n",
       "    canvas_div.append(canvas);\n",
       "    canvas_div.append(rubberband);\n",
       "\n",
       "    this.rubberband = rubberband;\n",
       "    this.rubberband_canvas = rubberband[0];\n",
       "    this.rubberband_context = rubberband[0].getContext(\"2d\");\n",
       "    this.rubberband_context.strokeStyle = \"#000000\";\n",
       "\n",
       "    this._resize_canvas = function(width, height) {\n",
       "        // Keep the size of the canvas, canvas container, and rubber band\n",
       "        // canvas in synch.\n",
       "        canvas_div.css('width', width)\n",
       "        canvas_div.css('height', height)\n",
       "\n",
       "        canvas.attr('width', width * mpl.ratio);\n",
       "        canvas.attr('height', height * mpl.ratio);\n",
       "        canvas.attr('style', 'width: ' + width + 'px; height: ' + height + 'px;');\n",
       "\n",
       "        rubberband.attr('width', width);\n",
       "        rubberband.attr('height', height);\n",
       "    }\n",
       "\n",
       "    // Set the figure to an initial 600x600px, this will subsequently be updated\n",
       "    // upon first draw.\n",
       "    this._resize_canvas(600, 600);\n",
       "\n",
       "    // Disable right mouse context menu.\n",
       "    $(this.rubberband_canvas).bind(\"contextmenu\",function(e){\n",
       "        return false;\n",
       "    });\n",
       "\n",
       "    function set_focus () {\n",
       "        canvas.focus();\n",
       "        canvas_div.focus();\n",
       "    }\n",
       "\n",
       "    window.setTimeout(set_focus, 100);\n",
       "}\n",
       "\n",
       "mpl.figure.prototype._init_toolbar = function() {\n",
       "    var fig = this;\n",
       "\n",
       "    var nav_element = $('<div/>');\n",
       "    nav_element.attr('style', 'width: 100%');\n",
       "    this.root.append(nav_element);\n",
       "\n",
       "    // Define a callback function for later on.\n",
       "    function toolbar_event(event) {\n",
       "        return fig.toolbar_button_onclick(event['data']);\n",
       "    }\n",
       "    function toolbar_mouse_event(event) {\n",
       "        return fig.toolbar_button_onmouseover(event['data']);\n",
       "    }\n",
       "\n",
       "    for(var toolbar_ind in mpl.toolbar_items) {\n",
       "        var name = mpl.toolbar_items[toolbar_ind][0];\n",
       "        var tooltip = mpl.toolbar_items[toolbar_ind][1];\n",
       "        var image = mpl.toolbar_items[toolbar_ind][2];\n",
       "        var method_name = mpl.toolbar_items[toolbar_ind][3];\n",
       "\n",
       "        if (!name) {\n",
       "            // put a spacer in here.\n",
       "            continue;\n",
       "        }\n",
       "        var button = $('<button/>');\n",
       "        button.addClass('ui-button ui-widget ui-state-default ui-corner-all ' +\n",
       "                        'ui-button-icon-only');\n",
       "        button.attr('role', 'button');\n",
       "        button.attr('aria-disabled', 'false');\n",
       "        button.click(method_name, toolbar_event);\n",
       "        button.mouseover(tooltip, toolbar_mouse_event);\n",
       "\n",
       "        var icon_img = $('<span/>');\n",
       "        icon_img.addClass('ui-button-icon-primary ui-icon');\n",
       "        icon_img.addClass(image);\n",
       "        icon_img.addClass('ui-corner-all');\n",
       "\n",
       "        var tooltip_span = $('<span/>');\n",
       "        tooltip_span.addClass('ui-button-text');\n",
       "        tooltip_span.html(tooltip);\n",
       "\n",
       "        button.append(icon_img);\n",
       "        button.append(tooltip_span);\n",
       "\n",
       "        nav_element.append(button);\n",
       "    }\n",
       "\n",
       "    var fmt_picker_span = $('<span/>');\n",
       "\n",
       "    var fmt_picker = $('<select/>');\n",
       "    fmt_picker.addClass('mpl-toolbar-option ui-widget ui-widget-content');\n",
       "    fmt_picker_span.append(fmt_picker);\n",
       "    nav_element.append(fmt_picker_span);\n",
       "    this.format_dropdown = fmt_picker[0];\n",
       "\n",
       "    for (var ind in mpl.extensions) {\n",
       "        var fmt = mpl.extensions[ind];\n",
       "        var option = $(\n",
       "            '<option/>', {selected: fmt === mpl.default_extension}).html(fmt);\n",
       "        fmt_picker.append(option);\n",
       "    }\n",
       "\n",
       "    // Add hover states to the ui-buttons\n",
       "    $( \".ui-button\" ).hover(\n",
       "        function() { $(this).addClass(\"ui-state-hover\");},\n",
       "        function() { $(this).removeClass(\"ui-state-hover\");}\n",
       "    );\n",
       "\n",
       "    var status_bar = $('<span class=\"mpl-message\"/>');\n",
       "    nav_element.append(status_bar);\n",
       "    this.message = status_bar[0];\n",
       "}\n",
       "\n",
       "mpl.figure.prototype.request_resize = function(x_pixels, y_pixels) {\n",
       "    // Request matplotlib to resize the figure. Matplotlib will then trigger a resize in the client,\n",
       "    // which will in turn request a refresh of the image.\n",
       "    this.send_message('resize', {'width': x_pixels, 'height': y_pixels});\n",
       "}\n",
       "\n",
       "mpl.figure.prototype.send_message = function(type, properties) {\n",
       "    properties['type'] = type;\n",
       "    properties['figure_id'] = this.id;\n",
       "    this.ws.send(JSON.stringify(properties));\n",
       "}\n",
       "\n",
       "mpl.figure.prototype.send_draw_message = function() {\n",
       "    if (!this.waiting) {\n",
       "        this.waiting = true;\n",
       "        this.ws.send(JSON.stringify({type: \"draw\", figure_id: this.id}));\n",
       "    }\n",
       "}\n",
       "\n",
       "\n",
       "mpl.figure.prototype.handle_save = function(fig, msg) {\n",
       "    var format_dropdown = fig.format_dropdown;\n",
       "    var format = format_dropdown.options[format_dropdown.selectedIndex].value;\n",
       "    fig.ondownload(fig, format);\n",
       "}\n",
       "\n",
       "\n",
       "mpl.figure.prototype.handle_resize = function(fig, msg) {\n",
       "    var size = msg['size'];\n",
       "    if (size[0] != fig.canvas.width || size[1] != fig.canvas.height) {\n",
       "        fig._resize_canvas(size[0], size[1]);\n",
       "        fig.send_message(\"refresh\", {});\n",
       "    };\n",
       "}\n",
       "\n",
       "mpl.figure.prototype.handle_rubberband = function(fig, msg) {\n",
       "    var x0 = msg['x0'] / mpl.ratio;\n",
       "    var y0 = (fig.canvas.height - msg['y0']) / mpl.ratio;\n",
       "    var x1 = msg['x1'] / mpl.ratio;\n",
       "    var y1 = (fig.canvas.height - msg['y1']) / mpl.ratio;\n",
       "    x0 = Math.floor(x0) + 0.5;\n",
       "    y0 = Math.floor(y0) + 0.5;\n",
       "    x1 = Math.floor(x1) + 0.5;\n",
       "    y1 = Math.floor(y1) + 0.5;\n",
       "    var min_x = Math.min(x0, x1);\n",
       "    var min_y = Math.min(y0, y1);\n",
       "    var width = Math.abs(x1 - x0);\n",
       "    var height = Math.abs(y1 - y0);\n",
       "\n",
       "    fig.rubberband_context.clearRect(\n",
       "        0, 0, fig.canvas.width / mpl.ratio, fig.canvas.height / mpl.ratio);\n",
       "\n",
       "    fig.rubberband_context.strokeRect(min_x, min_y, width, height);\n",
       "}\n",
       "\n",
       "mpl.figure.prototype.handle_figure_label = function(fig, msg) {\n",
       "    // Updates the figure title.\n",
       "    fig.header.textContent = msg['label'];\n",
       "}\n",
       "\n",
       "mpl.figure.prototype.handle_cursor = function(fig, msg) {\n",
       "    var cursor = msg['cursor'];\n",
       "    switch(cursor)\n",
       "    {\n",
       "    case 0:\n",
       "        cursor = 'pointer';\n",
       "        break;\n",
       "    case 1:\n",
       "        cursor = 'default';\n",
       "        break;\n",
       "    case 2:\n",
       "        cursor = 'crosshair';\n",
       "        break;\n",
       "    case 3:\n",
       "        cursor = 'move';\n",
       "        break;\n",
       "    }\n",
       "    fig.rubberband_canvas.style.cursor = cursor;\n",
       "}\n",
       "\n",
       "mpl.figure.prototype.handle_message = function(fig, msg) {\n",
       "    fig.message.textContent = msg['message'];\n",
       "}\n",
       "\n",
       "mpl.figure.prototype.handle_draw = function(fig, msg) {\n",
       "    // Request the server to send over a new figure.\n",
       "    fig.send_draw_message();\n",
       "}\n",
       "\n",
       "mpl.figure.prototype.handle_image_mode = function(fig, msg) {\n",
       "    fig.image_mode = msg['mode'];\n",
       "}\n",
       "\n",
       "mpl.figure.prototype.updated_canvas_event = function() {\n",
       "    // Called whenever the canvas gets updated.\n",
       "    this.send_message(\"ack\", {});\n",
       "}\n",
       "\n",
       "// A function to construct a web socket function for onmessage handling.\n",
       "// Called in the figure constructor.\n",
       "mpl.figure.prototype._make_on_message_function = function(fig) {\n",
       "    return function socket_on_message(evt) {\n",
       "        if (evt.data instanceof Blob) {\n",
       "            /* FIXME: We get \"Resource interpreted as Image but\n",
       "             * transferred with MIME type text/plain:\" errors on\n",
       "             * Chrome.  But how to set the MIME type?  It doesn't seem\n",
       "             * to be part of the websocket stream */\n",
       "            evt.data.type = \"image/png\";\n",
       "\n",
       "            /* Free the memory for the previous frames */\n",
       "            if (fig.imageObj.src) {\n",
       "                (window.URL || window.webkitURL).revokeObjectURL(\n",
       "                    fig.imageObj.src);\n",
       "            }\n",
       "\n",
       "            fig.imageObj.src = (window.URL || window.webkitURL).createObjectURL(\n",
       "                evt.data);\n",
       "            fig.updated_canvas_event();\n",
       "            fig.waiting = false;\n",
       "            return;\n",
       "        }\n",
       "        else if (typeof evt.data === 'string' && evt.data.slice(0, 21) == \"data:image/png;base64\") {\n",
       "            fig.imageObj.src = evt.data;\n",
       "            fig.updated_canvas_event();\n",
       "            fig.waiting = false;\n",
       "            return;\n",
       "        }\n",
       "\n",
       "        var msg = JSON.parse(evt.data);\n",
       "        var msg_type = msg['type'];\n",
       "\n",
       "        // Call the  \"handle_{type}\" callback, which takes\n",
       "        // the figure and JSON message as its only arguments.\n",
       "        try {\n",
       "            var callback = fig[\"handle_\" + msg_type];\n",
       "        } catch (e) {\n",
       "            console.log(\"No handler for the '\" + msg_type + \"' message type: \", msg);\n",
       "            return;\n",
       "        }\n",
       "\n",
       "        if (callback) {\n",
       "            try {\n",
       "                // console.log(\"Handling '\" + msg_type + \"' message: \", msg);\n",
       "                callback(fig, msg);\n",
       "            } catch (e) {\n",
       "                console.log(\"Exception inside the 'handler_\" + msg_type + \"' callback:\", e, e.stack, msg);\n",
       "            }\n",
       "        }\n",
       "    };\n",
       "}\n",
       "\n",
       "// from http://stackoverflow.com/questions/1114465/getting-mouse-location-in-canvas\n",
       "mpl.findpos = function(e) {\n",
       "    //this section is from http://www.quirksmode.org/js/events_properties.html\n",
       "    var targ;\n",
       "    if (!e)\n",
       "        e = window.event;\n",
       "    if (e.target)\n",
       "        targ = e.target;\n",
       "    else if (e.srcElement)\n",
       "        targ = e.srcElement;\n",
       "    if (targ.nodeType == 3) // defeat Safari bug\n",
       "        targ = targ.parentNode;\n",
       "\n",
       "    // jQuery normalizes the pageX and pageY\n",
       "    // pageX,Y are the mouse positions relative to the document\n",
       "    // offset() returns the position of the element relative to the document\n",
       "    var x = e.pageX - $(targ).offset().left;\n",
       "    var y = e.pageY - $(targ).offset().top;\n",
       "\n",
       "    return {\"x\": x, \"y\": y};\n",
       "};\n",
       "\n",
       "/*\n",
       " * return a copy of an object with only non-object keys\n",
       " * we need this to avoid circular references\n",
       " * http://stackoverflow.com/a/24161582/3208463\n",
       " */\n",
       "function simpleKeys (original) {\n",
       "  return Object.keys(original).reduce(function (obj, key) {\n",
       "    if (typeof original[key] !== 'object')\n",
       "        obj[key] = original[key]\n",
       "    return obj;\n",
       "  }, {});\n",
       "}\n",
       "\n",
       "mpl.figure.prototype.mouse_event = function(event, name) {\n",
       "    var canvas_pos = mpl.findpos(event)\n",
       "\n",
       "    if (name === 'button_press')\n",
       "    {\n",
       "        this.canvas.focus();\n",
       "        this.canvas_div.focus();\n",
       "    }\n",
       "\n",
       "    var x = canvas_pos.x * mpl.ratio;\n",
       "    var y = canvas_pos.y * mpl.ratio;\n",
       "\n",
       "    this.send_message(name, {x: x, y: y, button: event.button,\n",
       "                             step: event.step,\n",
       "                             guiEvent: simpleKeys(event)});\n",
       "\n",
       "    /* This prevents the web browser from automatically changing to\n",
       "     * the text insertion cursor when the button is pressed.  We want\n",
       "     * to control all of the cursor setting manually through the\n",
       "     * 'cursor' event from matplotlib */\n",
       "    event.preventDefault();\n",
       "    return false;\n",
       "}\n",
       "\n",
       "mpl.figure.prototype._key_event_extra = function(event, name) {\n",
       "    // Handle any extra behaviour associated with a key event\n",
       "}\n",
       "\n",
       "mpl.figure.prototype.key_event = function(event, name) {\n",
       "\n",
       "    // Prevent repeat events\n",
       "    if (name == 'key_press')\n",
       "    {\n",
       "        if (event.which === this._key)\n",
       "            return;\n",
       "        else\n",
       "            this._key = event.which;\n",
       "    }\n",
       "    if (name == 'key_release')\n",
       "        this._key = null;\n",
       "\n",
       "    var value = '';\n",
       "    if (event.ctrlKey && event.which != 17)\n",
       "        value += \"ctrl+\";\n",
       "    if (event.altKey && event.which != 18)\n",
       "        value += \"alt+\";\n",
       "    if (event.shiftKey && event.which != 16)\n",
       "        value += \"shift+\";\n",
       "\n",
       "    value += 'k';\n",
       "    value += event.which.toString();\n",
       "\n",
       "    this._key_event_extra(event, name);\n",
       "\n",
       "    this.send_message(name, {key: value,\n",
       "                             guiEvent: simpleKeys(event)});\n",
       "    return false;\n",
       "}\n",
       "\n",
       "mpl.figure.prototype.toolbar_button_onclick = function(name) {\n",
       "    if (name == 'download') {\n",
       "        this.handle_save(this, null);\n",
       "    } else {\n",
       "        this.send_message(\"toolbar_button\", {name: name});\n",
       "    }\n",
       "};\n",
       "\n",
       "mpl.figure.prototype.toolbar_button_onmouseover = function(tooltip) {\n",
       "    this.message.textContent = tooltip;\n",
       "};\n",
       "mpl.toolbar_items = [[\"Home\", \"Reset original view\", \"fa fa-home icon-home\", \"home\"], [\"Back\", \"Back to previous view\", \"fa fa-arrow-left icon-arrow-left\", \"back\"], [\"Forward\", \"Forward to next view\", \"fa fa-arrow-right icon-arrow-right\", \"forward\"], [\"\", \"\", \"\", \"\"], [\"Pan\", \"Pan axes with left mouse, zoom with right\", \"fa fa-arrows icon-move\", \"pan\"], [\"Zoom\", \"Zoom to rectangle\", \"fa fa-square-o icon-check-empty\", \"zoom\"], [\"\", \"\", \"\", \"\"], [\"Download\", \"Download plot\", \"fa fa-floppy-o icon-save\", \"download\"]];\n",
       "\n",
       "mpl.extensions = [\"eps\", \"jpeg\", \"pdf\", \"png\", \"ps\", \"raw\", \"svg\", \"tif\"];\n",
       "\n",
       "mpl.default_extension = \"png\";var comm_websocket_adapter = function(comm) {\n",
       "    // Create a \"websocket\"-like object which calls the given IPython comm\n",
       "    // object with the appropriate methods. Currently this is a non binary\n",
       "    // socket, so there is still some room for performance tuning.\n",
       "    var ws = {};\n",
       "\n",
       "    ws.close = function() {\n",
       "        comm.close()\n",
       "    };\n",
       "    ws.send = function(m) {\n",
       "        //console.log('sending', m);\n",
       "        comm.send(m);\n",
       "    };\n",
       "    // Register the callback with on_msg.\n",
       "    comm.on_msg(function(msg) {\n",
       "        //console.log('receiving', msg['content']['data'], msg);\n",
       "        // Pass the mpl event to the overridden (by mpl) onmessage function.\n",
       "        ws.onmessage(msg['content']['data'])\n",
       "    });\n",
       "    return ws;\n",
       "}\n",
       "\n",
       "mpl.mpl_figure_comm = function(comm, msg) {\n",
       "    // This is the function which gets called when the mpl process\n",
       "    // starts-up an IPython Comm through the \"matplotlib\" channel.\n",
       "\n",
       "    var id = msg.content.data.id;\n",
       "    // Get hold of the div created by the display call when the Comm\n",
       "    // socket was opened in Python.\n",
       "    var element = $(\"#\" + id);\n",
       "    var ws_proxy = comm_websocket_adapter(comm)\n",
       "\n",
       "    function ondownload(figure, format) {\n",
       "        window.open(figure.imageObj.src);\n",
       "    }\n",
       "\n",
       "    var fig = new mpl.figure(id, ws_proxy,\n",
       "                           ondownload,\n",
       "                           element.get(0));\n",
       "\n",
       "    // Call onopen now - mpl needs it, as it is assuming we've passed it a real\n",
       "    // web socket which is closed, not our websocket->open comm proxy.\n",
       "    ws_proxy.onopen();\n",
       "\n",
       "    fig.parent_element = element.get(0);\n",
       "    fig.cell_info = mpl.find_output_cell(\"<div id='\" + id + \"'></div>\");\n",
       "    if (!fig.cell_info) {\n",
       "        console.error(\"Failed to find cell for figure\", id, fig);\n",
       "        return;\n",
       "    }\n",
       "\n",
       "    var output_index = fig.cell_info[2]\n",
       "    var cell = fig.cell_info[0];\n",
       "\n",
       "};\n",
       "\n",
       "mpl.figure.prototype.handle_close = function(fig, msg) {\n",
       "    var width = fig.canvas.width/mpl.ratio\n",
       "    fig.root.unbind('remove')\n",
       "\n",
       "    // Update the output cell to use the data from the current canvas.\n",
       "    fig.push_to_output();\n",
       "    var dataURL = fig.canvas.toDataURL();\n",
       "    // Re-enable the keyboard manager in IPython - without this line, in FF,\n",
       "    // the notebook keyboard shortcuts fail.\n",
       "    IPython.keyboard_manager.enable()\n",
       "    $(fig.parent_element).html('<img src=\"' + dataURL + '\" width=\"' + width + '\">');\n",
       "    fig.close_ws(fig, msg);\n",
       "}\n",
       "\n",
       "mpl.figure.prototype.close_ws = function(fig, msg){\n",
       "    fig.send_message('closing', msg);\n",
       "    // fig.ws.close()\n",
       "}\n",
       "\n",
       "mpl.figure.prototype.push_to_output = function(remove_interactive) {\n",
       "    // Turn the data on the canvas into data in the output cell.\n",
       "    var width = this.canvas.width/mpl.ratio\n",
       "    var dataURL = this.canvas.toDataURL();\n",
       "    this.cell_info[1]['text/html'] = '<img src=\"' + dataURL + '\" width=\"' + width + '\">';\n",
       "}\n",
       "\n",
       "mpl.figure.prototype.updated_canvas_event = function() {\n",
       "    // Tell IPython that the notebook contents must change.\n",
       "    IPython.notebook.set_dirty(true);\n",
       "    this.send_message(\"ack\", {});\n",
       "    var fig = this;\n",
       "    // Wait a second, then push the new image to the DOM so\n",
       "    // that it is saved nicely (might be nice to debounce this).\n",
       "    setTimeout(function () { fig.push_to_output() }, 1000);\n",
       "}\n",
       "\n",
       "mpl.figure.prototype._init_toolbar = function() {\n",
       "    var fig = this;\n",
       "\n",
       "    var nav_element = $('<div/>');\n",
       "    nav_element.attr('style', 'width: 100%');\n",
       "    this.root.append(nav_element);\n",
       "\n",
       "    // Define a callback function for later on.\n",
       "    function toolbar_event(event) {\n",
       "        return fig.toolbar_button_onclick(event['data']);\n",
       "    }\n",
       "    function toolbar_mouse_event(event) {\n",
       "        return fig.toolbar_button_onmouseover(event['data']);\n",
       "    }\n",
       "\n",
       "    for(var toolbar_ind in mpl.toolbar_items){\n",
       "        var name = mpl.toolbar_items[toolbar_ind][0];\n",
       "        var tooltip = mpl.toolbar_items[toolbar_ind][1];\n",
       "        var image = mpl.toolbar_items[toolbar_ind][2];\n",
       "        var method_name = mpl.toolbar_items[toolbar_ind][3];\n",
       "\n",
       "        if (!name) { continue; };\n",
       "\n",
       "        var button = $('<button class=\"btn btn-default\" href=\"#\" title=\"' + name + '\"><i class=\"fa ' + image + ' fa-lg\"></i></button>');\n",
       "        button.click(method_name, toolbar_event);\n",
       "        button.mouseover(tooltip, toolbar_mouse_event);\n",
       "        nav_element.append(button);\n",
       "    }\n",
       "\n",
       "    // Add the status bar.\n",
       "    var status_bar = $('<span class=\"mpl-message\" style=\"text-align:right; float: right;\"/>');\n",
       "    nav_element.append(status_bar);\n",
       "    this.message = status_bar[0];\n",
       "\n",
       "    // Add the close button to the window.\n",
       "    var buttongrp = $('<div class=\"btn-group inline pull-right\"></div>');\n",
       "    var button = $('<button class=\"btn btn-mini btn-primary\" href=\"#\" title=\"Stop Interaction\"><i class=\"fa fa-power-off icon-remove icon-large\"></i></button>');\n",
       "    button.click(function (evt) { fig.handle_close(fig, {}); } );\n",
       "    button.mouseover('Stop Interaction', toolbar_mouse_event);\n",
       "    buttongrp.append(button);\n",
       "    var titlebar = this.root.find($('.ui-dialog-titlebar'));\n",
       "    titlebar.prepend(buttongrp);\n",
       "}\n",
       "\n",
       "mpl.figure.prototype._root_extra_style = function(el){\n",
       "    var fig = this\n",
       "    el.on(\"remove\", function(){\n",
       "\tfig.close_ws(fig, {});\n",
       "    });\n",
       "}\n",
       "\n",
       "mpl.figure.prototype._canvas_extra_style = function(el){\n",
       "    // this is important to make the div 'focusable\n",
       "    el.attr('tabindex', 0)\n",
       "    // reach out to IPython and tell the keyboard manager to turn it's self\n",
       "    // off when our div gets focus\n",
       "\n",
       "    // location in version 3\n",
       "    if (IPython.notebook.keyboard_manager) {\n",
       "        IPython.notebook.keyboard_manager.register_events(el);\n",
       "    }\n",
       "    else {\n",
       "        // location in version 2\n",
       "        IPython.keyboard_manager.register_events(el);\n",
       "    }\n",
       "\n",
       "}\n",
       "\n",
       "mpl.figure.prototype._key_event_extra = function(event, name) {\n",
       "    var manager = IPython.notebook.keyboard_manager;\n",
       "    if (!manager)\n",
       "        manager = IPython.keyboard_manager;\n",
       "\n",
       "    // Check for shift+enter\n",
       "    if (event.shiftKey && event.which == 13) {\n",
       "        this.canvas_div.blur();\n",
       "        // select the cell after this one\n",
       "        var index = IPython.notebook.find_cell_index(this.cell_info[0]);\n",
       "        IPython.notebook.select(index + 1);\n",
       "    }\n",
       "}\n",
       "\n",
       "mpl.figure.prototype.handle_save = function(fig, msg) {\n",
       "    fig.ondownload(fig, null);\n",
       "}\n",
       "\n",
       "\n",
       "mpl.find_output_cell = function(html_output) {\n",
       "    // Return the cell and output element which can be found *uniquely* in the notebook.\n",
       "    // Note - this is a bit hacky, but it is done because the \"notebook_saving.Notebook\"\n",
       "    // IPython event is triggered only after the cells have been serialised, which for\n",
       "    // our purposes (turning an active figure into a static one), is too late.\n",
       "    var cells = IPython.notebook.get_cells();\n",
       "    var ncells = cells.length;\n",
       "    for (var i=0; i<ncells; i++) {\n",
       "        var cell = cells[i];\n",
       "        if (cell.cell_type === 'code'){\n",
       "            for (var j=0; j<cell.output_area.outputs.length; j++) {\n",
       "                var data = cell.output_area.outputs[j];\n",
       "                if (data.data) {\n",
       "                    // IPython >= 3 moved mimebundle to data attribute of output\n",
       "                    data = data.data;\n",
       "                }\n",
       "                if (data['text/html'] == html_output) {\n",
       "                    return [cell, data, j];\n",
       "                }\n",
       "            }\n",
       "        }\n",
       "    }\n",
       "}\n",
       "\n",
       "// Register the function which deals with the matplotlib target/channel.\n",
       "// The kernel may be null if the page has been refreshed.\n",
       "if (IPython.notebook.kernel != null) {\n",
       "    IPython.notebook.kernel.comm_manager.register_target('matplotlib', mpl.mpl_figure_comm);\n",
       "}\n"
      ],
      "text/plain": [
       "<IPython.core.display.Javascript object>"
      ]
     },
     "metadata": {},
     "output_type": "display_data"
    },
    {
     "data": {
      "text/html": [
       "<img src=\"data:image/png;base64,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\" width=\"1000\">"
      ],
      "text/plain": [
       "<IPython.core.display.HTML object>"
      ]
     },
     "metadata": {},
     "output_type": "display_data"
    }
   ],
   "source": [
    "dual_train_plots(results.index,\n",
    "                 results.cost, results.val, \n",
    "                 results['eff_val'].apply(lambda x: x.eff_rate),\n",
    "                 results['eff_val'].apply(lambda x: x.fp_rate))\n",
    "plt.tight_layout()\n",
    "plt.savefig(str(output / f'{name}_stats_a.png'))"
   ]
  },
  {
   "cell_type": "code",
   "execution_count": null,
   "metadata": {},
   "outputs": [],
   "source": [
    "##quit()"
   ]
  }
 ],
 "metadata": {
  "kernelspec": {
   "display_name": "goofit",
   "language": "python",
   "name": "goofit"
  },
  "language_info": {
   "codemirror_mode": {
    "name": "ipython",
    "version": 3
   },
   "file_extension": ".py",
   "mimetype": "text/x-python",
   "name": "python",
   "nbconvert_exporter": "python",
   "pygments_lexer": "ipython3",
   "version": "3.7.6"
  }
 },
 "nbformat": 4,
 "nbformat_minor": 2
}
