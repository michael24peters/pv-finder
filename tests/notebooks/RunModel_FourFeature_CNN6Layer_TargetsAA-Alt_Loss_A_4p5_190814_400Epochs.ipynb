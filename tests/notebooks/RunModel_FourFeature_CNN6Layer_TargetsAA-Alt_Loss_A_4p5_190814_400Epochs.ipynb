{
 "cells": [
  {
   "cell_type": "code",
   "execution_count": 1,
   "metadata": {},
   "outputs": [],
   "source": [
    "##%matplotlib widget\n",
    "%matplotlib notebook"
   ]
  },
  {
   "cell_type": "markdown",
   "metadata": {},
   "source": [
    "This notebook is a second attempt to add $ (x,y)_{max} $ position information to the input feature set perturbativly.\n",
    "\n",
    "This is done use a FourFeature model that has the same architecture as the TwoFeature 6 convolutional layer model.\n",
    "The differences/similarlities are:\n",
    "\n",
    "  [1]  the FourFeature model has four channels of input rather than two.\n",
    "  [2]  the extra two channels are added by using load_xy=True in collect_data (x2)\n",
    "  [3]  the pretrained_dict is used with strict=\n",
    "  \n",
    "In the first iterations, the weights from a trained TwoFeature_CNN6Layer_A model should be reused for the (X,Xsq) part of the algorithm, and the algorithm should only learn the filter for the (perturbative) (x,y) features.\n",
    "  \n",
    "Once the perturbative filters are beng generated, the algorithm can start with weights from a previous iteration of this algorithm and all weights free to float."
   ]
  },
  {
   "cell_type": "markdown",
   "metadata": {},
   "source": [
    "Check the current GPU usage. Please try to be nice!"
   ]
  },
  {
   "cell_type": "code",
   "execution_count": 2,
   "metadata": {},
   "outputs": [
    {
     "name": "stdout",
     "output_type": "stream",
     "text": [
      "Thu Aug 15 11:30:59 2019       \r\n",
      "+-----------------------------------------------------------------------------+\r\n",
      "| NVIDIA-SMI 418.40.04    Driver Version: 418.40.04    CUDA Version: 10.1     |\r\n",
      "|-------------------------------+----------------------+----------------------+\r\n",
      "| GPU  Name        Persistence-M| Bus-Id        Disp.A | Volatile Uncorr. ECC |\r\n",
      "| Fan  Temp  Perf  Pwr:Usage/Cap|         Memory-Usage | GPU-Util  Compute M. |\r\n",
      "|===============================+======================+======================|\r\n",
      "|   0  TITAN V             Off  | 00000000:03:00.0 Off |                  N/A |\r\n",
      "| 28%   31C    P8    23W / 250W |      0MiB / 12036MiB |      0%      Default |\r\n",
      "+-------------------------------+----------------------+----------------------+\r\n",
      "|   1  Tesla P100-PCIE...  Off  | 00000000:83:00.0 Off |                    0 |\r\n",
      "| N/A   34C    P0    32W / 250W |   1457MiB / 16280MiB |      0%      Default |\r\n",
      "+-------------------------------+----------------------+----------------------+\r\n",
      "|   2  TITAN V             Off  | 00000000:84:00.0 Off |                  N/A |\r\n",
      "| 28%   34C    P8    25W / 250W |   1400MiB / 12036MiB |      0%      Default |\r\n",
      "+-------------------------------+----------------------+----------------------+\r\n",
      "                                                                               \r\n",
      "+-----------------------------------------------------------------------------+\r\n",
      "| Processes:                                                       GPU Memory |\r\n",
      "|  GPU       PID   Type   Process name                             Usage      |\r\n",
      "|=============================================================================|\r\n",
      "|    1      6482      C   /data/conda/envs/anaconda/bin/python        1447MiB |\r\n",
      "|    2     21970      C   /data/conda/envs/anaconda/bin/python        1389MiB |\r\n",
      "+-----------------------------------------------------------------------------+\r\n"
     ]
    }
   ],
   "source": [
    "!nvidia-smi"
   ]
  },
  {
   "cell_type": "markdown",
   "metadata": {},
   "source": [
    "> **WARNING**: The card numbers here are *not* the same as in CUDA. You have been warned."
   ]
  },
  {
   "cell_type": "markdown",
   "metadata": {},
   "source": [
    "## Imports"
   ]
  },
  {
   "cell_type": "code",
   "execution_count": 3,
   "metadata": {},
   "outputs": [
    {
     "name": "stdout",
     "output_type": "stream",
     "text": [
      "Requirement already satisfied: torchsummary in /home/sokoloff/.local/lib/python3.7/site-packages (1.5.1)\r\n"
     ]
    }
   ],
   "source": [
    "import matplotlib.pyplot as plt\n",
    "import numpy as np\n",
    "import time\n",
    "import torch\n",
    "import pandas as pd\n",
    "\n",
    "# Python 3 standard library\n",
    "from pathlib import Path\n",
    "\n",
    "## added 190723\n",
    "!pip install torchsummary\n",
    "from torchsummary import summary"
   ]
  },
  {
   "cell_type": "markdown",
   "metadata": {},
   "source": [
    "### Set up local parameters"
   ]
  },
  {
   "cell_type": "code",
   "execution_count": 4,
   "metadata": {},
   "outputs": [],
   "source": [
    "n_epochs = 100\n",
    "\n",
    "# Name is the output file name\n",
    "\n",
    "##oldName = 'July18_XandXsq_CNN6Layer_D15_YetAnother600epochs_160K_lr_1em4_bs64_Alt_Loss_A_3p0'\n",
    "## = 'July24_FourFeature_CNN6Layer_D15_First20epochs_160K_lr_3em5_bs64_Alt_Loss_A_3p0'\n",
    "##oldName = 'July25_FourFeature_CNN6Layer_D15_First20epochs_240K_lr_1em3_bs64_Alt_Loss_A_3p0_pert'\n",
    "oldName = 'Aug10_FourFeature_CNN6LayerPlus_TargetsA_First400epochs_160K_lr_1em3_bs64_Alt_Loss_A_3p0'\n",
    "\n",
    "##  190810  mds\n",
    "folder = 'Aug15_FourFeature_CNN6LayerPlus_TargetsAA_Another100epochs_160K_lr_3em4_bs128_Alt_Loss_A_4p5'\n",
    "name = 'Aug15_FourFeature_CNN6LayerPlus_TargetsAA_Another100epochs_160K_lr_3em4_bs128_Alt_Loss_A_4p5'\n",
    "\n",
    "# Make an output folder named \"name\" (change if you want)\n",
    "folder = 'ML/' + folder\n",
    "output = Path(folder)\n",
    "\n",
    "\n",
    "oldOutput = Path(oldName)\n",
    "\n",
    "# Size of batches\n",
    "batch_size = 128\n",
    "\n",
    "# How fast to learn\n",
    "learning_rate = 3e-4"
   ]
  },
  {
   "cell_type": "markdown",
   "metadata": {},
   "source": [
    "Make the output directory if it does not exist:"
   ]
  },
  {
   "cell_type": "code",
   "execution_count": 5,
   "metadata": {},
   "outputs": [],
   "source": [
    "output.mkdir(exist_ok=True)"
   ]
  },
  {
   "cell_type": "markdown",
   "metadata": {},
   "source": [
    "## Get the helper functions\n",
    "\n",
    "Add the directory with the model\n",
    "definitions to the path so we can import from it:\n",
    "\n",
    "> When you type `import X`,\n",
    "Python searches `sys.path` for a python\n",
    "file named `X.py` to import. So we need to add the model directory to the path."
   ]
  },
  {
   "cell_type": "code",
   "execution_count": 6,
   "metadata": {
    "scrolled": true
   },
   "outputs": [],
   "source": [
    "# From model/collectdata.py\n",
    "from model.collectdata_mdsA import collect_data\n",
    "\n",
    "# From model/loss.py\n",
    "##from loss import Loss\n",
    "from model.alt_loss_A import Loss\n",
    "\n",
    "# From model/training.py\n",
    "from model.training import trainNet, select_gpu\n",
    "\n",
    "# From model/models.py\n",
    "##  will start with model from TwoFeatures_CNN6Layer_A in the first instance\n",
    "##  see relevant cell below\n",
    "\n",
    "\n",
    "from model.models_mds_E import FourFeature_CNN6Layer_D as Model\n",
    "\n",
    "from model.training import trainNet, select_gpu, Results\n",
    "from model.plots import dual_train_plots, replace_in_ax"
   ]
  },
  {
   "cell_type": "code",
   "execution_count": 7,
   "metadata": {},
   "outputs": [],
   "source": [
    "# This gets built up during the run - do not rerun this cell\n",
    "results = pd.DataFrame([], columns=Results._fields)"
   ]
  },
  {
   "cell_type": "markdown",
   "metadata": {},
   "source": [
    "Set up Torch device configuration. All tensors and model parameters need to know where to be put.\n",
    "This takes a BUS ID number: The BUS ID is the same as the listing at the top of this script."
   ]
  },
  {
   "cell_type": "code",
   "execution_count": 8,
   "metadata": {},
   "outputs": [
    {
     "name": "stdout",
     "output_type": "stream",
     "text": [
      "1 available GPUs (initially using device 0):\n",
      "  0 TITAN V\n"
     ]
    }
   ],
   "source": [
    "device = select_gpu(0)"
   ]
  },
  {
   "cell_type": "markdown",
   "metadata": {},
   "source": [
    "## Loading data\n",
    "\n",
    "Load the dataset, split into parts, then move to device (see `collectdata.py` in the `../model` directory)"
   ]
  },
  {
   "cell_type": "code",
   "execution_count": 9,
   "metadata": {
    "scrolled": true
   },
   "outputs": [
    {
     "name": "stdout",
     "output_type": "stream",
     "text": [
      "Loading data...\n",
      "Loaded dataAA/Aug14_80K_train.h5 in 25.4 s\n",
      "Loaded dataAA/Oct03_80K_train.h5 in 25.95 s\n",
      "Constructing 160000 event dataset took 8.96 s\n",
      "Loading data...\n",
      "Loaded dataAA/Oct03_20K_val.h5 in 5.65 s\n",
      "Constructing 9984 event dataset took 0.6546 s\n"
     ]
    }
   ],
   "source": [
    "## newer vernacular\n",
    "# Training dataset. You can put as many files here as desired.\n",
    "\n",
    "##  set the option load_XandXsq = True to use both DKE and KDE^2 as input features\n",
    "train_loader = collect_data('dataAA/Aug14_80K_train.h5',\n",
    "                            'dataAA/Oct03_80K_train.h5',\n",
    "##                            'dataA/Oct03_80K2_train.h5',\n",
    "                            batch_size=batch_size,\n",
    "##                           device=device,\n",
    "                            masking=True, shuffle=True,\n",
    "                            load_XandXsq=True,\n",
    "                            load_xy=True)\n",
    "\n",
    "# Validation dataset. You can slice to reduce the size.\n",
    "val_loader = collect_data('dataAA/Oct03_20K_val.h5',\n",
    "                          batch_size=batch_size,\n",
    "                          slice=slice(256 * 39),\n",
    "##                          device=device,\n",
    "                          masking=True, shuffle=False,\n",
    "                          load_XandXsq=True,\n",
    "                          load_xy=True)"
   ]
  },
  {
   "cell_type": "code",
   "execution_count": 10,
   "metadata": {},
   "outputs": [],
   "source": [
    "##debug"
   ]
  },
  {
   "cell_type": "markdown",
   "metadata": {},
   "source": [
    "# Preparing the model"
   ]
  },
  {
   "cell_type": "markdown",
   "metadata": {},
   "source": [
    "Prepare a model, use multiple GPUs if they are VISIBLE, and move the model to the device."
   ]
  },
  {
   "cell_type": "code",
   "execution_count": 11,
   "metadata": {
    "scrolled": true
   },
   "outputs": [
    {
     "name": "stdout",
     "output_type": "stream",
     "text": [
      "ct, child =  0    Conv1d(2, 25, kernel_size=(25,), stride=(1,), padding=(12,))\n",
      "ct, child =  1    Conv1d(25, 25, kernel_size=(15,), stride=(1,), padding=(7,))\n",
      "ct, child =  2    Conv1d(25, 25, kernel_size=(15,), stride=(1,), padding=(7,))\n",
      "ct, child =  3    Conv1d(25, 25, kernel_size=(15,), stride=(1,), padding=(7,))\n",
      "ct, child =  4    Conv1d(25, 1, kernel_size=(5,), stride=(1,), padding=(2,))\n",
      "ct, child =  5    Conv1d(1, 1, kernel_size=(91,), stride=(1,), padding=(45,))\n",
      "ct, child =  6    Conv1d(2, 10, kernel_size=(25,), stride=(1,), padding=(12,))\n",
      "ct, child =  7    Conv1d(10, 5, kernel_size=(15,), stride=(1,), padding=(7,))\n",
      "ct, child =  8    Conv1d(5, 1, kernel_size=(5,), stride=(1,), padding=(2,))\n",
      "ct, child =  9    Linear(in_features=4000, out_features=4000, bias=True)\n",
      "ct, child =  10    Conv1d(1, 1, kernel_size=(91,), stride=(1,), padding=(45,))\n",
      "ct, child =  11    Dropout(p=0.15)\n",
      "ct, child =  12    Dropout(p=0.15)\n",
      "ct, child =  13    Dropout(p=0.15)\n",
      "ct, child =  14    Dropout(p=0.15)\n",
      "ct, child =  15    Dropout(p=0.15)\n"
     ]
    }
   ],
   "source": [
    "model = Model()\n",
    "\n",
    "##summary(model, input_size=(4, 4000))\n",
    "##print(model.parameters)\n",
    "\n",
    "## add the following code to allow the user to freeze the some of the weights corresponding \n",
    "## to those taken from an earlier model trained with the original target histograms\n",
    "## presumably -- this leaves either the perturbative filter \"fixed\" and lets the \n",
    "## learning focus on the non-perturbative features, so get started faster, or vice versa\n",
    "ct = 0\n",
    "for child in model.children():\n",
    "  print('ct, child = ',ct, \"  \", child)\n",
    "  if ct < 0:\n",
    "    print(\"     About to set param.requires_grad=False for ct = \", ct, \"params\")\n",
    "    for param in child.parameters():\n",
    "        param.requires_grad = False \n",
    "  ct += 1\n",
    "loss = Loss(epsilon=1e-5,coefficient=4.5)\n",
    "optimizer = torch.optim.Adam(model.parameters(), lr=learning_rate)"
   ]
  },
  {
   "cell_type": "code",
   "execution_count": 12,
   "metadata": {
    "scrolled": true
   },
   "outputs": [
    {
     "name": "stdout",
     "output_type": "stream",
     "text": [
      "Let's use 1 GPUs!\n"
     ]
    }
   ],
   "source": [
    "print(\"Let's use\", torch.cuda.device_count(), \"GPUs!\")\n",
    "if torch.cuda.device_count() > 1:\n",
    "    model = torch.nn.DataParallel(model)"
   ]
  },
  {
   "cell_type": "markdown",
   "metadata": {},
   "source": [
    "Let's move the model's weight matricies to the GPU:"
   ]
  },
  {
   "cell_type": "code",
   "execution_count": 13,
   "metadata": {
    "scrolled": true
   },
   "outputs": [
    {
     "name": "stdout",
     "output_type": "stream",
     "text": [
      "output =  ML/Aug15_FourFeature_CNN6LayerPlus_TargetsAA_Another100epochs_160K_lr_3em4_bs128_Alt_Loss_A_4p5\n",
      "for model_dict\n",
      "index, k =   0    conv1.weight\n",
      "index, k =   1    conv1.bias\n",
      "index, k =   2    conv2.weight\n",
      "index, k =   3    conv2.bias\n",
      "index, k =   4    conv3.weight\n",
      "index, k =   5    conv3.bias\n",
      "index, k =   6    conv4of6.weight\n",
      "index, k =   7    conv4of6.bias\n",
      "index, k =   8    conv5of6.weight\n",
      "index, k =   9    conv5of6.bias\n",
      "index, k =   10    finalFilter.weight\n",
      "index, k =   11    finalFilter.bias\n",
      "index, k =   12    ppConv1.weight\n",
      "index, k =   13    ppConv1.bias\n",
      "index, k =   14    ppConv2.weight\n",
      "index, k =   15    ppConv2.bias\n",
      "index, k =   16    ppConv3.weight\n",
      "index, k =   17    ppConv3.bias\n",
      "index, k =   18    ppFc1.weight\n",
      "index, k =   19    ppFc1.bias\n",
      "index, k =   20    ppFinalFilter.weight\n",
      "index, k =   21    ppFinalFilter.bias\n",
      " \n",
      "   for pretrained_dict\n",
      "index, k =   0    conv1.weight\n",
      "index, k =   1    conv1.bias\n",
      "index, k =   2    conv2.weight\n",
      "index, k =   3    conv2.bias\n",
      "index, k =   4    conv3.weight\n",
      "index, k =   5    conv3.bias\n",
      "index, k =   6    conv4of6.weight\n",
      "index, k =   7    conv4of6.bias\n",
      "index, k =   8    conv5of6.weight\n",
      "index, k =   9    conv5of6.bias\n",
      "index, k =   10    finalFilter.weight\n",
      "index, k =   11    finalFilter.bias\n",
      "index, k =   12    ppConv1.weight\n",
      "index, k =   13    ppConv1.bias\n",
      "index, k =   14    ppConv2.weight\n",
      "index, k =   15    ppConv2.bias\n",
      "index, k =   16    ppConv3.weight\n",
      "index, k =   17    ppConv3.bias\n",
      "index, k =   18    ppFc1.weight\n",
      "index, k =   19    ppFc1.bias\n",
      "index, k =   20    ppFinalFilter.weight\n",
      "index, k =   21    ppFinalFilter.bias\n",
      "model_dict instantiated\n"
     ]
    }
   ],
   "source": [
    "print('output = ',output)\n",
    "##print('oldOutput = ',oldOutput)\n",
    "##  use the first four layers from a pre-existing model\n",
    "##  see example at https://discuss.pytorch.org/t/how-to-load-part-of-pre-trained-model/1113\n",
    "##pretrained_dict = torch.load('./July19_XandXsq_CNN5Layer_D15_First40epochs_160K_lr_1em4_bs64_Alt_Loss_A_3p0/July19_XandXsq_CNN5Layer_D15_First40epochs_160K_lr_1em4_bs64_Alt_Loss_A_3p0_final.pyt')\n",
    "##  epoch 396 chosen as starting point as it had the lowests training sample cost in the lasst 10 epochs\n",
    "pretrained_dict = torch.load('./ML/Aug14_FourFeature_CNN6LayerPlus_TargetsAA_400epochs_160K_lr_3em4_bs64_Alt_Loss_A_4p5/Aug14_FourFeature_CNN6LayerPlus_TargetsAA_400epochs_160K_lr_3em4_bs64_Alt_Loss_A_4p5_final.pyt')\n",
    "model_dict = model.state_dict()\n",
    "## mds 190725 for debugging\n",
    "print(\"for model_dict\")\n",
    "index = 0\n",
    "for k,v in model_dict.items():\n",
    "    print(\"index, k =  \",index,\"  \",k)\n",
    "    index = index+1\n",
    "    \n",
    "print(\" \\n\",\"  for pretrained_dict\")\n",
    "index = 0\n",
    "for k,v in pretrained_dict.items():\n",
    "    print(\"index, k =  \",index,\"  \",k)\n",
    "    index = index+1\n",
    "## mds  \n",
    "\n",
    "print(\"model_dict instantiated\")\n",
    "# 1. filter out unnecessary keys\n",
    "pretrained_dict = {k: v for k, v in pretrained_dict.items() if k in model_dict}\n",
    "## print(\"pretrained_dict iterated\")\n",
    "# 2. overwrite entries in the existing state dict\n",
    "model_dict.update(pretrained_dict) \n",
    "# 3. load the new state dict\n",
    "#   need to use strict=False as the two models state model attributes do not agree exactly\n",
    "#   see https://pytorch.org/docs/master/_modules/torch/nn/modules/module.html#Module.load_state_dict\n",
    "##model.load_state_dict(pretrained_dict,strict=False)\n",
    "model.load_state_dict(pretrained_dict,strict=False)\n",
    "\n",
    "## print('model_dict =    ', model_dict)\n"
   ]
  },
  {
   "cell_type": "code",
   "execution_count": 14,
   "metadata": {
    "scrolled": true
   },
   "outputs": [],
   "source": [
    "model = model.to(device)"
   ]
  },
  {
   "cell_type": "markdown",
   "metadata": {},
   "source": [
    "## Train \n",
    "\n",
    "\n",
    "\n",
    "The body of this loop runs once per epoch. Results is a named tuple of values (loss per epoch for training and validation, time each). Start by setting up a plot first:"
   ]
  },
  {
   "cell_type": "code",
   "execution_count": 15,
   "metadata": {
    "scrolled": false
   },
   "outputs": [
    {
     "data": {
      "application/javascript": [
       "/* Put everything inside the global mpl namespace */\n",
       "window.mpl = {};\n",
       "\n",
       "\n",
       "mpl.get_websocket_type = function() {\n",
       "    if (typeof(WebSocket) !== 'undefined') {\n",
       "        return WebSocket;\n",
       "    } else if (typeof(MozWebSocket) !== 'undefined') {\n",
       "        return MozWebSocket;\n",
       "    } else {\n",
       "        alert('Your browser does not have WebSocket support.' +\n",
       "              'Please try Chrome, Safari or Firefox ≥ 6. ' +\n",
       "              'Firefox 4 and 5 are also supported but you ' +\n",
       "              'have to enable WebSockets in about:config.');\n",
       "    };\n",
       "}\n",
       "\n",
       "mpl.figure = function(figure_id, websocket, ondownload, parent_element) {\n",
       "    this.id = figure_id;\n",
       "\n",
       "    this.ws = websocket;\n",
       "\n",
       "    this.supports_binary = (this.ws.binaryType != undefined);\n",
       "\n",
       "    if (!this.supports_binary) {\n",
       "        var warnings = document.getElementById(\"mpl-warnings\");\n",
       "        if (warnings) {\n",
       "            warnings.style.display = 'block';\n",
       "            warnings.textContent = (\n",
       "                \"This browser does not support binary websocket messages. \" +\n",
       "                    \"Performance may be slow.\");\n",
       "        }\n",
       "    }\n",
       "\n",
       "    this.imageObj = new Image();\n",
       "\n",
       "    this.context = undefined;\n",
       "    this.message = undefined;\n",
       "    this.canvas = undefined;\n",
       "    this.rubberband_canvas = undefined;\n",
       "    this.rubberband_context = undefined;\n",
       "    this.format_dropdown = undefined;\n",
       "\n",
       "    this.image_mode = 'full';\n",
       "\n",
       "    this.root = $('<div/>');\n",
       "    this._root_extra_style(this.root)\n",
       "    this.root.attr('style', 'display: inline-block');\n",
       "\n",
       "    $(parent_element).append(this.root);\n",
       "\n",
       "    this._init_header(this);\n",
       "    this._init_canvas(this);\n",
       "    this._init_toolbar(this);\n",
       "\n",
       "    var fig = this;\n",
       "\n",
       "    this.waiting = false;\n",
       "\n",
       "    this.ws.onopen =  function () {\n",
       "            fig.send_message(\"supports_binary\", {value: fig.supports_binary});\n",
       "            fig.send_message(\"send_image_mode\", {});\n",
       "            if (mpl.ratio != 1) {\n",
       "                fig.send_message(\"set_dpi_ratio\", {'dpi_ratio': mpl.ratio});\n",
       "            }\n",
       "            fig.send_message(\"refresh\", {});\n",
       "        }\n",
       "\n",
       "    this.imageObj.onload = function() {\n",
       "            if (fig.image_mode == 'full') {\n",
       "                // Full images could contain transparency (where diff images\n",
       "                // almost always do), so we need to clear the canvas so that\n",
       "                // there is no ghosting.\n",
       "                fig.context.clearRect(0, 0, fig.canvas.width, fig.canvas.height);\n",
       "            }\n",
       "            fig.context.drawImage(fig.imageObj, 0, 0);\n",
       "        };\n",
       "\n",
       "    this.imageObj.onunload = function() {\n",
       "        fig.ws.close();\n",
       "    }\n",
       "\n",
       "    this.ws.onmessage = this._make_on_message_function(this);\n",
       "\n",
       "    this.ondownload = ondownload;\n",
       "}\n",
       "\n",
       "mpl.figure.prototype._init_header = function() {\n",
       "    var titlebar = $(\n",
       "        '<div class=\"ui-dialog-titlebar ui-widget-header ui-corner-all ' +\n",
       "        'ui-helper-clearfix\"/>');\n",
       "    var titletext = $(\n",
       "        '<div class=\"ui-dialog-title\" style=\"width: 100%; ' +\n",
       "        'text-align: center; padding: 3px;\"/>');\n",
       "    titlebar.append(titletext)\n",
       "    this.root.append(titlebar);\n",
       "    this.header = titletext[0];\n",
       "}\n",
       "\n",
       "\n",
       "\n",
       "mpl.figure.prototype._canvas_extra_style = function(canvas_div) {\n",
       "\n",
       "}\n",
       "\n",
       "\n",
       "mpl.figure.prototype._root_extra_style = function(canvas_div) {\n",
       "\n",
       "}\n",
       "\n",
       "mpl.figure.prototype._init_canvas = function() {\n",
       "    var fig = this;\n",
       "\n",
       "    var canvas_div = $('<div/>');\n",
       "\n",
       "    canvas_div.attr('style', 'position: relative; clear: both; outline: 0');\n",
       "\n",
       "    function canvas_keyboard_event(event) {\n",
       "        return fig.key_event(event, event['data']);\n",
       "    }\n",
       "\n",
       "    canvas_div.keydown('key_press', canvas_keyboard_event);\n",
       "    canvas_div.keyup('key_release', canvas_keyboard_event);\n",
       "    this.canvas_div = canvas_div\n",
       "    this._canvas_extra_style(canvas_div)\n",
       "    this.root.append(canvas_div);\n",
       "\n",
       "    var canvas = $('<canvas/>');\n",
       "    canvas.addClass('mpl-canvas');\n",
       "    canvas.attr('style', \"left: 0; top: 0; z-index: 0; outline: 0\")\n",
       "\n",
       "    this.canvas = canvas[0];\n",
       "    this.context = canvas[0].getContext(\"2d\");\n",
       "\n",
       "    var backingStore = this.context.backingStorePixelRatio ||\n",
       "\tthis.context.webkitBackingStorePixelRatio ||\n",
       "\tthis.context.mozBackingStorePixelRatio ||\n",
       "\tthis.context.msBackingStorePixelRatio ||\n",
       "\tthis.context.oBackingStorePixelRatio ||\n",
       "\tthis.context.backingStorePixelRatio || 1;\n",
       "\n",
       "    mpl.ratio = (window.devicePixelRatio || 1) / backingStore;\n",
       "\n",
       "    var rubberband = $('<canvas/>');\n",
       "    rubberband.attr('style', \"position: absolute; left: 0; top: 0; z-index: 1;\")\n",
       "\n",
       "    var pass_mouse_events = true;\n",
       "\n",
       "    canvas_div.resizable({\n",
       "        start: function(event, ui) {\n",
       "            pass_mouse_events = false;\n",
       "        },\n",
       "        resize: function(event, ui) {\n",
       "            fig.request_resize(ui.size.width, ui.size.height);\n",
       "        },\n",
       "        stop: function(event, ui) {\n",
       "            pass_mouse_events = true;\n",
       "            fig.request_resize(ui.size.width, ui.size.height);\n",
       "        },\n",
       "    });\n",
       "\n",
       "    function mouse_event_fn(event) {\n",
       "        if (pass_mouse_events)\n",
       "            return fig.mouse_event(event, event['data']);\n",
       "    }\n",
       "\n",
       "    rubberband.mousedown('button_press', mouse_event_fn);\n",
       "    rubberband.mouseup('button_release', mouse_event_fn);\n",
       "    // Throttle sequential mouse events to 1 every 20ms.\n",
       "    rubberband.mousemove('motion_notify', mouse_event_fn);\n",
       "\n",
       "    rubberband.mouseenter('figure_enter', mouse_event_fn);\n",
       "    rubberband.mouseleave('figure_leave', mouse_event_fn);\n",
       "\n",
       "    canvas_div.on(\"wheel\", function (event) {\n",
       "        event = event.originalEvent;\n",
       "        event['data'] = 'scroll'\n",
       "        if (event.deltaY < 0) {\n",
       "            event.step = 1;\n",
       "        } else {\n",
       "            event.step = -1;\n",
       "        }\n",
       "        mouse_event_fn(event);\n",
       "    });\n",
       "\n",
       "    canvas_div.append(canvas);\n",
       "    canvas_div.append(rubberband);\n",
       "\n",
       "    this.rubberband = rubberband;\n",
       "    this.rubberband_canvas = rubberband[0];\n",
       "    this.rubberband_context = rubberband[0].getContext(\"2d\");\n",
       "    this.rubberband_context.strokeStyle = \"#000000\";\n",
       "\n",
       "    this._resize_canvas = function(width, height) {\n",
       "        // Keep the size of the canvas, canvas container, and rubber band\n",
       "        // canvas in synch.\n",
       "        canvas_div.css('width', width)\n",
       "        canvas_div.css('height', height)\n",
       "\n",
       "        canvas.attr('width', width * mpl.ratio);\n",
       "        canvas.attr('height', height * mpl.ratio);\n",
       "        canvas.attr('style', 'width: ' + width + 'px; height: ' + height + 'px;');\n",
       "\n",
       "        rubberband.attr('width', width);\n",
       "        rubberband.attr('height', height);\n",
       "    }\n",
       "\n",
       "    // Set the figure to an initial 600x600px, this will subsequently be updated\n",
       "    // upon first draw.\n",
       "    this._resize_canvas(600, 600);\n",
       "\n",
       "    // Disable right mouse context menu.\n",
       "    $(this.rubberband_canvas).bind(\"contextmenu\",function(e){\n",
       "        return false;\n",
       "    });\n",
       "\n",
       "    function set_focus () {\n",
       "        canvas.focus();\n",
       "        canvas_div.focus();\n",
       "    }\n",
       "\n",
       "    window.setTimeout(set_focus, 100);\n",
       "}\n",
       "\n",
       "mpl.figure.prototype._init_toolbar = function() {\n",
       "    var fig = this;\n",
       "\n",
       "    var nav_element = $('<div/>')\n",
       "    nav_element.attr('style', 'width: 100%');\n",
       "    this.root.append(nav_element);\n",
       "\n",
       "    // Define a callback function for later on.\n",
       "    function toolbar_event(event) {\n",
       "        return fig.toolbar_button_onclick(event['data']);\n",
       "    }\n",
       "    function toolbar_mouse_event(event) {\n",
       "        return fig.toolbar_button_onmouseover(event['data']);\n",
       "    }\n",
       "\n",
       "    for(var toolbar_ind in mpl.toolbar_items) {\n",
       "        var name = mpl.toolbar_items[toolbar_ind][0];\n",
       "        var tooltip = mpl.toolbar_items[toolbar_ind][1];\n",
       "        var image = mpl.toolbar_items[toolbar_ind][2];\n",
       "        var method_name = mpl.toolbar_items[toolbar_ind][3];\n",
       "\n",
       "        if (!name) {\n",
       "            // put a spacer in here.\n",
       "            continue;\n",
       "        }\n",
       "        var button = $('<button/>');\n",
       "        button.addClass('ui-button ui-widget ui-state-default ui-corner-all ' +\n",
       "                        'ui-button-icon-only');\n",
       "        button.attr('role', 'button');\n",
       "        button.attr('aria-disabled', 'false');\n",
       "        button.click(method_name, toolbar_event);\n",
       "        button.mouseover(tooltip, toolbar_mouse_event);\n",
       "\n",
       "        var icon_img = $('<span/>');\n",
       "        icon_img.addClass('ui-button-icon-primary ui-icon');\n",
       "        icon_img.addClass(image);\n",
       "        icon_img.addClass('ui-corner-all');\n",
       "\n",
       "        var tooltip_span = $('<span/>');\n",
       "        tooltip_span.addClass('ui-button-text');\n",
       "        tooltip_span.html(tooltip);\n",
       "\n",
       "        button.append(icon_img);\n",
       "        button.append(tooltip_span);\n",
       "\n",
       "        nav_element.append(button);\n",
       "    }\n",
       "\n",
       "    var fmt_picker_span = $('<span/>');\n",
       "\n",
       "    var fmt_picker = $('<select/>');\n",
       "    fmt_picker.addClass('mpl-toolbar-option ui-widget ui-widget-content');\n",
       "    fmt_picker_span.append(fmt_picker);\n",
       "    nav_element.append(fmt_picker_span);\n",
       "    this.format_dropdown = fmt_picker[0];\n",
       "\n",
       "    for (var ind in mpl.extensions) {\n",
       "        var fmt = mpl.extensions[ind];\n",
       "        var option = $(\n",
       "            '<option/>', {selected: fmt === mpl.default_extension}).html(fmt);\n",
       "        fmt_picker.append(option)\n",
       "    }\n",
       "\n",
       "    // Add hover states to the ui-buttons\n",
       "    $( \".ui-button\" ).hover(\n",
       "        function() { $(this).addClass(\"ui-state-hover\");},\n",
       "        function() { $(this).removeClass(\"ui-state-hover\");}\n",
       "    );\n",
       "\n",
       "    var status_bar = $('<span class=\"mpl-message\"/>');\n",
       "    nav_element.append(status_bar);\n",
       "    this.message = status_bar[0];\n",
       "}\n",
       "\n",
       "mpl.figure.prototype.request_resize = function(x_pixels, y_pixels) {\n",
       "    // Request matplotlib to resize the figure. Matplotlib will then trigger a resize in the client,\n",
       "    // which will in turn request a refresh of the image.\n",
       "    this.send_message('resize', {'width': x_pixels, 'height': y_pixels});\n",
       "}\n",
       "\n",
       "mpl.figure.prototype.send_message = function(type, properties) {\n",
       "    properties['type'] = type;\n",
       "    properties['figure_id'] = this.id;\n",
       "    this.ws.send(JSON.stringify(properties));\n",
       "}\n",
       "\n",
       "mpl.figure.prototype.send_draw_message = function() {\n",
       "    if (!this.waiting) {\n",
       "        this.waiting = true;\n",
       "        this.ws.send(JSON.stringify({type: \"draw\", figure_id: this.id}));\n",
       "    }\n",
       "}\n",
       "\n",
       "\n",
       "mpl.figure.prototype.handle_save = function(fig, msg) {\n",
       "    var format_dropdown = fig.format_dropdown;\n",
       "    var format = format_dropdown.options[format_dropdown.selectedIndex].value;\n",
       "    fig.ondownload(fig, format);\n",
       "}\n",
       "\n",
       "\n",
       "mpl.figure.prototype.handle_resize = function(fig, msg) {\n",
       "    var size = msg['size'];\n",
       "    if (size[0] != fig.canvas.width || size[1] != fig.canvas.height) {\n",
       "        fig._resize_canvas(size[0], size[1]);\n",
       "        fig.send_message(\"refresh\", {});\n",
       "    };\n",
       "}\n",
       "\n",
       "mpl.figure.prototype.handle_rubberband = function(fig, msg) {\n",
       "    var x0 = msg['x0'] / mpl.ratio;\n",
       "    var y0 = (fig.canvas.height - msg['y0']) / mpl.ratio;\n",
       "    var x1 = msg['x1'] / mpl.ratio;\n",
       "    var y1 = (fig.canvas.height - msg['y1']) / mpl.ratio;\n",
       "    x0 = Math.floor(x0) + 0.5;\n",
       "    y0 = Math.floor(y0) + 0.5;\n",
       "    x1 = Math.floor(x1) + 0.5;\n",
       "    y1 = Math.floor(y1) + 0.5;\n",
       "    var min_x = Math.min(x0, x1);\n",
       "    var min_y = Math.min(y0, y1);\n",
       "    var width = Math.abs(x1 - x0);\n",
       "    var height = Math.abs(y1 - y0);\n",
       "\n",
       "    fig.rubberband_context.clearRect(\n",
       "        0, 0, fig.canvas.width, fig.canvas.height);\n",
       "\n",
       "    fig.rubberband_context.strokeRect(min_x, min_y, width, height);\n",
       "}\n",
       "\n",
       "mpl.figure.prototype.handle_figure_label = function(fig, msg) {\n",
       "    // Updates the figure title.\n",
       "    fig.header.textContent = msg['label'];\n",
       "}\n",
       "\n",
       "mpl.figure.prototype.handle_cursor = function(fig, msg) {\n",
       "    var cursor = msg['cursor'];\n",
       "    switch(cursor)\n",
       "    {\n",
       "    case 0:\n",
       "        cursor = 'pointer';\n",
       "        break;\n",
       "    case 1:\n",
       "        cursor = 'default';\n",
       "        break;\n",
       "    case 2:\n",
       "        cursor = 'crosshair';\n",
       "        break;\n",
       "    case 3:\n",
       "        cursor = 'move';\n",
       "        break;\n",
       "    }\n",
       "    fig.rubberband_canvas.style.cursor = cursor;\n",
       "}\n",
       "\n",
       "mpl.figure.prototype.handle_message = function(fig, msg) {\n",
       "    fig.message.textContent = msg['message'];\n",
       "}\n",
       "\n",
       "mpl.figure.prototype.handle_draw = function(fig, msg) {\n",
       "    // Request the server to send over a new figure.\n",
       "    fig.send_draw_message();\n",
       "}\n",
       "\n",
       "mpl.figure.prototype.handle_image_mode = function(fig, msg) {\n",
       "    fig.image_mode = msg['mode'];\n",
       "}\n",
       "\n",
       "mpl.figure.prototype.updated_canvas_event = function() {\n",
       "    // Called whenever the canvas gets updated.\n",
       "    this.send_message(\"ack\", {});\n",
       "}\n",
       "\n",
       "// A function to construct a web socket function for onmessage handling.\n",
       "// Called in the figure constructor.\n",
       "mpl.figure.prototype._make_on_message_function = function(fig) {\n",
       "    return function socket_on_message(evt) {\n",
       "        if (evt.data instanceof Blob) {\n",
       "            /* FIXME: We get \"Resource interpreted as Image but\n",
       "             * transferred with MIME type text/plain:\" errors on\n",
       "             * Chrome.  But how to set the MIME type?  It doesn't seem\n",
       "             * to be part of the websocket stream */\n",
       "            evt.data.type = \"image/png\";\n",
       "\n",
       "            /* Free the memory for the previous frames */\n",
       "            if (fig.imageObj.src) {\n",
       "                (window.URL || window.webkitURL).revokeObjectURL(\n",
       "                    fig.imageObj.src);\n",
       "            }\n",
       "\n",
       "            fig.imageObj.src = (window.URL || window.webkitURL).createObjectURL(\n",
       "                evt.data);\n",
       "            fig.updated_canvas_event();\n",
       "            fig.waiting = false;\n",
       "            return;\n",
       "        }\n",
       "        else if (typeof evt.data === 'string' && evt.data.slice(0, 21) == \"data:image/png;base64\") {\n",
       "            fig.imageObj.src = evt.data;\n",
       "            fig.updated_canvas_event();\n",
       "            fig.waiting = false;\n",
       "            return;\n",
       "        }\n",
       "\n",
       "        var msg = JSON.parse(evt.data);\n",
       "        var msg_type = msg['type'];\n",
       "\n",
       "        // Call the  \"handle_{type}\" callback, which takes\n",
       "        // the figure and JSON message as its only arguments.\n",
       "        try {\n",
       "            var callback = fig[\"handle_\" + msg_type];\n",
       "        } catch (e) {\n",
       "            console.log(\"No handler for the '\" + msg_type + \"' message type: \", msg);\n",
       "            return;\n",
       "        }\n",
       "\n",
       "        if (callback) {\n",
       "            try {\n",
       "                // console.log(\"Handling '\" + msg_type + \"' message: \", msg);\n",
       "                callback(fig, msg);\n",
       "            } catch (e) {\n",
       "                console.log(\"Exception inside the 'handler_\" + msg_type + \"' callback:\", e, e.stack, msg);\n",
       "            }\n",
       "        }\n",
       "    };\n",
       "}\n",
       "\n",
       "// from http://stackoverflow.com/questions/1114465/getting-mouse-location-in-canvas\n",
       "mpl.findpos = function(e) {\n",
       "    //this section is from http://www.quirksmode.org/js/events_properties.html\n",
       "    var targ;\n",
       "    if (!e)\n",
       "        e = window.event;\n",
       "    if (e.target)\n",
       "        targ = e.target;\n",
       "    else if (e.srcElement)\n",
       "        targ = e.srcElement;\n",
       "    if (targ.nodeType == 3) // defeat Safari bug\n",
       "        targ = targ.parentNode;\n",
       "\n",
       "    // jQuery normalizes the pageX and pageY\n",
       "    // pageX,Y are the mouse positions relative to the document\n",
       "    // offset() returns the position of the element relative to the document\n",
       "    var x = e.pageX - $(targ).offset().left;\n",
       "    var y = e.pageY - $(targ).offset().top;\n",
       "\n",
       "    return {\"x\": x, \"y\": y};\n",
       "};\n",
       "\n",
       "/*\n",
       " * return a copy of an object with only non-object keys\n",
       " * we need this to avoid circular references\n",
       " * http://stackoverflow.com/a/24161582/3208463\n",
       " */\n",
       "function simpleKeys (original) {\n",
       "  return Object.keys(original).reduce(function (obj, key) {\n",
       "    if (typeof original[key] !== 'object')\n",
       "        obj[key] = original[key]\n",
       "    return obj;\n",
       "  }, {});\n",
       "}\n",
       "\n",
       "mpl.figure.prototype.mouse_event = function(event, name) {\n",
       "    var canvas_pos = mpl.findpos(event)\n",
       "\n",
       "    if (name === 'button_press')\n",
       "    {\n",
       "        this.canvas.focus();\n",
       "        this.canvas_div.focus();\n",
       "    }\n",
       "\n",
       "    var x = canvas_pos.x * mpl.ratio;\n",
       "    var y = canvas_pos.y * mpl.ratio;\n",
       "\n",
       "    this.send_message(name, {x: x, y: y, button: event.button,\n",
       "                             step: event.step,\n",
       "                             guiEvent: simpleKeys(event)});\n",
       "\n",
       "    /* This prevents the web browser from automatically changing to\n",
       "     * the text insertion cursor when the button is pressed.  We want\n",
       "     * to control all of the cursor setting manually through the\n",
       "     * 'cursor' event from matplotlib */\n",
       "    event.preventDefault();\n",
       "    return false;\n",
       "}\n",
       "\n",
       "mpl.figure.prototype._key_event_extra = function(event, name) {\n",
       "    // Handle any extra behaviour associated with a key event\n",
       "}\n",
       "\n",
       "mpl.figure.prototype.key_event = function(event, name) {\n",
       "\n",
       "    // Prevent repeat events\n",
       "    if (name == 'key_press')\n",
       "    {\n",
       "        if (event.which === this._key)\n",
       "            return;\n",
       "        else\n",
       "            this._key = event.which;\n",
       "    }\n",
       "    if (name == 'key_release')\n",
       "        this._key = null;\n",
       "\n",
       "    var value = '';\n",
       "    if (event.ctrlKey && event.which != 17)\n",
       "        value += \"ctrl+\";\n",
       "    if (event.altKey && event.which != 18)\n",
       "        value += \"alt+\";\n",
       "    if (event.shiftKey && event.which != 16)\n",
       "        value += \"shift+\";\n",
       "\n",
       "    value += 'k';\n",
       "    value += event.which.toString();\n",
       "\n",
       "    this._key_event_extra(event, name);\n",
       "\n",
       "    this.send_message(name, {key: value,\n",
       "                             guiEvent: simpleKeys(event)});\n",
       "    return false;\n",
       "}\n",
       "\n",
       "mpl.figure.prototype.toolbar_button_onclick = function(name) {\n",
       "    if (name == 'download') {\n",
       "        this.handle_save(this, null);\n",
       "    } else {\n",
       "        this.send_message(\"toolbar_button\", {name: name});\n",
       "    }\n",
       "};\n",
       "\n",
       "mpl.figure.prototype.toolbar_button_onmouseover = function(tooltip) {\n",
       "    this.message.textContent = tooltip;\n",
       "};\n",
       "mpl.toolbar_items = [[\"Home\", \"Reset original view\", \"fa fa-home icon-home\", \"home\"], [\"Back\", \"Back to previous view\", \"fa fa-arrow-left icon-arrow-left\", \"back\"], [\"Forward\", \"Forward to next view\", \"fa fa-arrow-right icon-arrow-right\", \"forward\"], [\"\", \"\", \"\", \"\"], [\"Pan\", \"Pan axes with left mouse, zoom with right\", \"fa fa-arrows icon-move\", \"pan\"], [\"Zoom\", \"Zoom to rectangle\", \"fa fa-square-o icon-check-empty\", \"zoom\"], [\"\", \"\", \"\", \"\"], [\"Download\", \"Download plot\", \"fa fa-floppy-o icon-save\", \"download\"]];\n",
       "\n",
       "mpl.extensions = [\"eps\", \"jpeg\", \"pdf\", \"png\", \"ps\", \"raw\", \"svg\", \"tif\"];\n",
       "\n",
       "mpl.default_extension = \"png\";var comm_websocket_adapter = function(comm) {\n",
       "    // Create a \"websocket\"-like object which calls the given IPython comm\n",
       "    // object with the appropriate methods. Currently this is a non binary\n",
       "    // socket, so there is still some room for performance tuning.\n",
       "    var ws = {};\n",
       "\n",
       "    ws.close = function() {\n",
       "        comm.close()\n",
       "    };\n",
       "    ws.send = function(m) {\n",
       "        //console.log('sending', m);\n",
       "        comm.send(m);\n",
       "    };\n",
       "    // Register the callback with on_msg.\n",
       "    comm.on_msg(function(msg) {\n",
       "        //console.log('receiving', msg['content']['data'], msg);\n",
       "        // Pass the mpl event to the overridden (by mpl) onmessage function.\n",
       "        ws.onmessage(msg['content']['data'])\n",
       "    });\n",
       "    return ws;\n",
       "}\n",
       "\n",
       "mpl.mpl_figure_comm = function(comm, msg) {\n",
       "    // This is the function which gets called when the mpl process\n",
       "    // starts-up an IPython Comm through the \"matplotlib\" channel.\n",
       "\n",
       "    var id = msg.content.data.id;\n",
       "    // Get hold of the div created by the display call when the Comm\n",
       "    // socket was opened in Python.\n",
       "    var element = $(\"#\" + id);\n",
       "    var ws_proxy = comm_websocket_adapter(comm)\n",
       "\n",
       "    function ondownload(figure, format) {\n",
       "        window.open(figure.imageObj.src);\n",
       "    }\n",
       "\n",
       "    var fig = new mpl.figure(id, ws_proxy,\n",
       "                           ondownload,\n",
       "                           element.get(0));\n",
       "\n",
       "    // Call onopen now - mpl needs it, as it is assuming we've passed it a real\n",
       "    // web socket which is closed, not our websocket->open comm proxy.\n",
       "    ws_proxy.onopen();\n",
       "\n",
       "    fig.parent_element = element.get(0);\n",
       "    fig.cell_info = mpl.find_output_cell(\"<div id='\" + id + \"'></div>\");\n",
       "    if (!fig.cell_info) {\n",
       "        console.error(\"Failed to find cell for figure\", id, fig);\n",
       "        return;\n",
       "    }\n",
       "\n",
       "    var output_index = fig.cell_info[2]\n",
       "    var cell = fig.cell_info[0];\n",
       "\n",
       "};\n",
       "\n",
       "mpl.figure.prototype.handle_close = function(fig, msg) {\n",
       "    var width = fig.canvas.width/mpl.ratio\n",
       "    fig.root.unbind('remove')\n",
       "\n",
       "    // Update the output cell to use the data from the current canvas.\n",
       "    fig.push_to_output();\n",
       "    var dataURL = fig.canvas.toDataURL();\n",
       "    // Re-enable the keyboard manager in IPython - without this line, in FF,\n",
       "    // the notebook keyboard shortcuts fail.\n",
       "    IPython.keyboard_manager.enable()\n",
       "    $(fig.parent_element).html('<img src=\"' + dataURL + '\" width=\"' + width + '\">');\n",
       "    fig.close_ws(fig, msg);\n",
       "}\n",
       "\n",
       "mpl.figure.prototype.close_ws = function(fig, msg){\n",
       "    fig.send_message('closing', msg);\n",
       "    // fig.ws.close()\n",
       "}\n",
       "\n",
       "mpl.figure.prototype.push_to_output = function(remove_interactive) {\n",
       "    // Turn the data on the canvas into data in the output cell.\n",
       "    var width = this.canvas.width/mpl.ratio\n",
       "    var dataURL = this.canvas.toDataURL();\n",
       "    this.cell_info[1]['text/html'] = '<img src=\"' + dataURL + '\" width=\"' + width + '\">';\n",
       "}\n",
       "\n",
       "mpl.figure.prototype.updated_canvas_event = function() {\n",
       "    // Tell IPython that the notebook contents must change.\n",
       "    IPython.notebook.set_dirty(true);\n",
       "    this.send_message(\"ack\", {});\n",
       "    var fig = this;\n",
       "    // Wait a second, then push the new image to the DOM so\n",
       "    // that it is saved nicely (might be nice to debounce this).\n",
       "    setTimeout(function () { fig.push_to_output() }, 1000);\n",
       "}\n",
       "\n",
       "mpl.figure.prototype._init_toolbar = function() {\n",
       "    var fig = this;\n",
       "\n",
       "    var nav_element = $('<div/>')\n",
       "    nav_element.attr('style', 'width: 100%');\n",
       "    this.root.append(nav_element);\n",
       "\n",
       "    // Define a callback function for later on.\n",
       "    function toolbar_event(event) {\n",
       "        return fig.toolbar_button_onclick(event['data']);\n",
       "    }\n",
       "    function toolbar_mouse_event(event) {\n",
       "        return fig.toolbar_button_onmouseover(event['data']);\n",
       "    }\n",
       "\n",
       "    for(var toolbar_ind in mpl.toolbar_items){\n",
       "        var name = mpl.toolbar_items[toolbar_ind][0];\n",
       "        var tooltip = mpl.toolbar_items[toolbar_ind][1];\n",
       "        var image = mpl.toolbar_items[toolbar_ind][2];\n",
       "        var method_name = mpl.toolbar_items[toolbar_ind][3];\n",
       "\n",
       "        if (!name) { continue; };\n",
       "\n",
       "        var button = $('<button class=\"btn btn-default\" href=\"#\" title=\"' + name + '\"><i class=\"fa ' + image + ' fa-lg\"></i></button>');\n",
       "        button.click(method_name, toolbar_event);\n",
       "        button.mouseover(tooltip, toolbar_mouse_event);\n",
       "        nav_element.append(button);\n",
       "    }\n",
       "\n",
       "    // Add the status bar.\n",
       "    var status_bar = $('<span class=\"mpl-message\" style=\"text-align:right; float: right;\"/>');\n",
       "    nav_element.append(status_bar);\n",
       "    this.message = status_bar[0];\n",
       "\n",
       "    // Add the close button to the window.\n",
       "    var buttongrp = $('<div class=\"btn-group inline pull-right\"></div>');\n",
       "    var button = $('<button class=\"btn btn-mini btn-primary\" href=\"#\" title=\"Stop Interaction\"><i class=\"fa fa-power-off icon-remove icon-large\"></i></button>');\n",
       "    button.click(function (evt) { fig.handle_close(fig, {}); } );\n",
       "    button.mouseover('Stop Interaction', toolbar_mouse_event);\n",
       "    buttongrp.append(button);\n",
       "    var titlebar = this.root.find($('.ui-dialog-titlebar'));\n",
       "    titlebar.prepend(buttongrp);\n",
       "}\n",
       "\n",
       "mpl.figure.prototype._root_extra_style = function(el){\n",
       "    var fig = this\n",
       "    el.on(\"remove\", function(){\n",
       "\tfig.close_ws(fig, {});\n",
       "    });\n",
       "}\n",
       "\n",
       "mpl.figure.prototype._canvas_extra_style = function(el){\n",
       "    // this is important to make the div 'focusable\n",
       "    el.attr('tabindex', 0)\n",
       "    // reach out to IPython and tell the keyboard manager to turn it's self\n",
       "    // off when our div gets focus\n",
       "\n",
       "    // location in version 3\n",
       "    if (IPython.notebook.keyboard_manager) {\n",
       "        IPython.notebook.keyboard_manager.register_events(el);\n",
       "    }\n",
       "    else {\n",
       "        // location in version 2\n",
       "        IPython.keyboard_manager.register_events(el);\n",
       "    }\n",
       "\n",
       "}\n",
       "\n",
       "mpl.figure.prototype._key_event_extra = function(event, name) {\n",
       "    var manager = IPython.notebook.keyboard_manager;\n",
       "    if (!manager)\n",
       "        manager = IPython.keyboard_manager;\n",
       "\n",
       "    // Check for shift+enter\n",
       "    if (event.shiftKey && event.which == 13) {\n",
       "        this.canvas_div.blur();\n",
       "        event.shiftKey = false;\n",
       "        // Send a \"J\" for go to next cell\n",
       "        event.which = 74;\n",
       "        event.keyCode = 74;\n",
       "        manager.command_mode();\n",
       "        manager.handle_keydown(event);\n",
       "    }\n",
       "}\n",
       "\n",
       "mpl.figure.prototype.handle_save = function(fig, msg) {\n",
       "    fig.ondownload(fig, null);\n",
       "}\n",
       "\n",
       "\n",
       "mpl.find_output_cell = function(html_output) {\n",
       "    // Return the cell and output element which can be found *uniquely* in the notebook.\n",
       "    // Note - this is a bit hacky, but it is done because the \"notebook_saving.Notebook\"\n",
       "    // IPython event is triggered only after the cells have been serialised, which for\n",
       "    // our purposes (turning an active figure into a static one), is too late.\n",
       "    var cells = IPython.notebook.get_cells();\n",
       "    var ncells = cells.length;\n",
       "    for (var i=0; i<ncells; i++) {\n",
       "        var cell = cells[i];\n",
       "        if (cell.cell_type === 'code'){\n",
       "            for (var j=0; j<cell.output_area.outputs.length; j++) {\n",
       "                var data = cell.output_area.outputs[j];\n",
       "                if (data.data) {\n",
       "                    // IPython >= 3 moved mimebundle to data attribute of output\n",
       "                    data = data.data;\n",
       "                }\n",
       "                if (data['text/html'] == html_output) {\n",
       "                    return [cell, data, j];\n",
       "                }\n",
       "            }\n",
       "        }\n",
       "    }\n",
       "}\n",
       "\n",
       "// Register the function which deals with the matplotlib target/channel.\n",
       "// The kernel may be null if the page has been refreshed.\n",
       "if (IPython.notebook.kernel != null) {\n",
       "    IPython.notebook.kernel.comm_manager.register_target('matplotlib', mpl.mpl_figure_comm);\n",
       "}\n"
      ],
      "text/plain": [
       "<IPython.core.display.Javascript object>"
      ]
     },
     "metadata": {},
     "output_type": "display_data"
    },
    {
     "data": {
      "text/html": [
       "<img src=\"data:image/png;base64,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\" width=\"1000\">"
      ],
      "text/plain": [
       "<IPython.core.display.HTML object>"
      ]
     },
     "metadata": {},
     "output_type": "display_data"
    }
   ],
   "source": [
    "ax, tax, lax, lines = dual_train_plots()\n",
    "fig = ax.figure\n",
    "plt.tight_layout()"
   ]
  },
  {
   "cell_type": "code",
   "execution_count": 16,
   "metadata": {
    "scrolled": false
   },
   "outputs": [
    {
     "name": "stdout",
     "output_type": "stream",
     "text": [
      "Number of batches: train = 1250, val = 78\n"
     ]
    },
    {
     "data": {
      "application/vnd.jupyter.widget-view+json": {
       "model_id": "5ab77c7c2a8a4f5c8adde3ca6631d011",
       "version_major": 2,
       "version_minor": 0
      },
      "text/plain": [
       "HBox(children=(IntProgress(value=0, description='Epochs', layout=Layout(flex='2'), style=ProgressStyle(descrip…"
      ]
     },
     "metadata": {},
     "output_type": "display_data"
    },
    {
     "data": {
      "application/vnd.jupyter.widget-view+json": {
       "model_id": "",
       "version_major": 2,
       "version_minor": 0
      },
      "text/plain": [
       "HBox(children=(IntProgress(value=0, description='Training', layout=Layout(flex='2'), max=1250, style=ProgressS…"
      ]
     },
     "metadata": {},
     "output_type": "display_data"
    },
    {
     "name": "stdout",
     "output_type": "stream",
     "text": [
      "Epoch 0: train=9.23694, val=8.92224, took 77.72 s\n",
      "  Validation Found 51747 of 54504, added 2227 (eff 94.94%) (0.223 FP/event)\n"
     ]
    },
    {
     "data": {
      "application/vnd.jupyter.widget-view+json": {
       "model_id": "",
       "version_major": 2,
       "version_minor": 0
      },
      "text/plain": [
       "HBox(children=(IntProgress(value=0, description='Training', layout=Layout(flex='2'), max=1250, style=ProgressS…"
      ]
     },
     "metadata": {},
     "output_type": "display_data"
    },
    {
     "name": "stdout",
     "output_type": "stream",
     "text": [
      "Epoch 1: train=9.2383, val=8.91702, took 77.119 s\n",
      "  Validation Found 51734 of 54504, added 2164 (eff 94.92%) (0.217 FP/event)\n"
     ]
    },
    {
     "data": {
      "application/vnd.jupyter.widget-view+json": {
       "model_id": "",
       "version_major": 2,
       "version_minor": 0
      },
      "text/plain": [
       "HBox(children=(IntProgress(value=0, description='Training', layout=Layout(flex='2'), max=1250, style=ProgressS…"
      ]
     },
     "metadata": {},
     "output_type": "display_data"
    },
    {
     "name": "stdout",
     "output_type": "stream",
     "text": [
      "Epoch 2: train=9.2368, val=8.91719, took 75.869 s\n",
      "  Validation Found 51719 of 54504, added 2177 (eff 94.89%) (0.218 FP/event)\n"
     ]
    },
    {
     "data": {
      "application/vnd.jupyter.widget-view+json": {
       "model_id": "",
       "version_major": 2,
       "version_minor": 0
      },
      "text/plain": [
       "HBox(children=(IntProgress(value=0, description='Training', layout=Layout(flex='2'), max=1250, style=ProgressS…"
      ]
     },
     "metadata": {},
     "output_type": "display_data"
    },
    {
     "name": "stdout",
     "output_type": "stream",
     "text": [
      "Epoch 3: train=9.23891, val=8.92243, took 76.371 s\n",
      "  Validation Found 51780 of 54504, added 2384 (eff 95.00%) (0.239 FP/event)\n"
     ]
    },
    {
     "data": {
      "application/vnd.jupyter.widget-view+json": {
       "model_id": "",
       "version_major": 2,
       "version_minor": 0
      },
      "text/plain": [
       "HBox(children=(IntProgress(value=0, description='Training', layout=Layout(flex='2'), max=1250, style=ProgressS…"
      ]
     },
     "metadata": {},
     "output_type": "display_data"
    },
    {
     "name": "stdout",
     "output_type": "stream",
     "text": [
      "Epoch 4: train=9.24158, val=8.91528, took 75.709 s\n",
      "  Validation Found 51697 of 54504, added 2157 (eff 94.85%) (0.216 FP/event)\n"
     ]
    },
    {
     "data": {
      "application/vnd.jupyter.widget-view+json": {
       "model_id": "",
       "version_major": 2,
       "version_minor": 0
      },
      "text/plain": [
       "HBox(children=(IntProgress(value=0, description='Training', layout=Layout(flex='2'), max=1250, style=ProgressS…"
      ]
     },
     "metadata": {},
     "output_type": "display_data"
    },
    {
     "name": "stdout",
     "output_type": "stream",
     "text": [
      "Epoch 5: train=9.24152, val=8.91656, took 75.687 s\n",
      "  Validation Found 51717 of 54504, added 2124 (eff 94.89%) (0.213 FP/event)\n"
     ]
    },
    {
     "data": {
      "application/vnd.jupyter.widget-view+json": {
       "model_id": "",
       "version_major": 2,
       "version_minor": 0
      },
      "text/plain": [
       "HBox(children=(IntProgress(value=0, description='Training', layout=Layout(flex='2'), max=1250, style=ProgressS…"
      ]
     },
     "metadata": {},
     "output_type": "display_data"
    },
    {
     "name": "stdout",
     "output_type": "stream",
     "text": [
      "Epoch 6: train=9.23575, val=8.94779, took 75.536 s\n",
      "  Validation Found 51702 of 54504, added 2150 (eff 94.86%) (0.215 FP/event)\n"
     ]
    },
    {
     "data": {
      "application/vnd.jupyter.widget-view+json": {
       "model_id": "",
       "version_major": 2,
       "version_minor": 0
      },
      "text/plain": [
       "HBox(children=(IntProgress(value=0, description='Training', layout=Layout(flex='2'), max=1250, style=ProgressS…"
      ]
     },
     "metadata": {},
     "output_type": "display_data"
    },
    {
     "name": "stdout",
     "output_type": "stream",
     "text": [
      "Epoch 7: train=9.24583, val=8.9061, took 75.417 s\n",
      "  Validation Found 51756 of 54504, added 2226 (eff 94.96%) (0.223 FP/event)\n"
     ]
    },
    {
     "data": {
      "application/vnd.jupyter.widget-view+json": {
       "model_id": "",
       "version_major": 2,
       "version_minor": 0
      },
      "text/plain": [
       "HBox(children=(IntProgress(value=0, description='Training', layout=Layout(flex='2'), max=1250, style=ProgressS…"
      ]
     },
     "metadata": {},
     "output_type": "display_data"
    },
    {
     "name": "stdout",
     "output_type": "stream",
     "text": [
      "Epoch 8: train=9.23896, val=8.91675, took 75.355 s\n",
      "  Validation Found 51759 of 54504, added 2192 (eff 94.96%) (0.22 FP/event)\n"
     ]
    },
    {
     "data": {
      "application/vnd.jupyter.widget-view+json": {
       "model_id": "",
       "version_major": 2,
       "version_minor": 0
      },
      "text/plain": [
       "HBox(children=(IntProgress(value=0, description='Training', layout=Layout(flex='2'), max=1250, style=ProgressS…"
      ]
     },
     "metadata": {},
     "output_type": "display_data"
    },
    {
     "name": "stdout",
     "output_type": "stream",
     "text": [
      "Epoch 9: train=9.23661, val=8.93415, took 75.277 s\n",
      "  Validation Found 51741 of 54504, added 2300 (eff 94.93%) (0.23 FP/event)\n"
     ]
    },
    {
     "data": {
      "application/vnd.jupyter.widget-view+json": {
       "model_id": "",
       "version_major": 2,
       "version_minor": 0
      },
      "text/plain": [
       "HBox(children=(IntProgress(value=0, description='Training', layout=Layout(flex='2'), max=1250, style=ProgressS…"
      ]
     },
     "metadata": {},
     "output_type": "display_data"
    },
    {
     "name": "stdout",
     "output_type": "stream",
     "text": [
      "Epoch 10: train=9.23343, val=8.91933, took 75.271 s\n",
      "  Validation Found 51700 of 54504, added 2166 (eff 94.86%) (0.217 FP/event)\n"
     ]
    },
    {
     "data": {
      "application/vnd.jupyter.widget-view+json": {
       "model_id": "",
       "version_major": 2,
       "version_minor": 0
      },
      "text/plain": [
       "HBox(children=(IntProgress(value=0, description='Training', layout=Layout(flex='2'), max=1250, style=ProgressS…"
      ]
     },
     "metadata": {},
     "output_type": "display_data"
    },
    {
     "name": "stdout",
     "output_type": "stream",
     "text": [
      "Epoch 11: train=9.23485, val=8.91914, took 75.439 s\n",
      "  Validation Found 51721 of 54504, added 2174 (eff 94.89%) (0.218 FP/event)\n"
     ]
    },
    {
     "data": {
      "application/vnd.jupyter.widget-view+json": {
       "model_id": "",
       "version_major": 2,
       "version_minor": 0
      },
      "text/plain": [
       "HBox(children=(IntProgress(value=0, description='Training', layout=Layout(flex='2'), max=1250, style=ProgressS…"
      ]
     },
     "metadata": {},
     "output_type": "display_data"
    },
    {
     "name": "stdout",
     "output_type": "stream",
     "text": [
      "Epoch 12: train=9.23414, val=8.93798, took 75.467 s\n",
      "  Validation Found 51734 of 54504, added 2202 (eff 94.92%) (0.221 FP/event)\n"
     ]
    },
    {
     "data": {
      "application/vnd.jupyter.widget-view+json": {
       "model_id": "",
       "version_major": 2,
       "version_minor": 0
      },
      "text/plain": [
       "HBox(children=(IntProgress(value=0, description='Training', layout=Layout(flex='2'), max=1250, style=ProgressS…"
      ]
     },
     "metadata": {},
     "output_type": "display_data"
    },
    {
     "name": "stdout",
     "output_type": "stream",
     "text": [
      "Epoch 13: train=9.23546, val=8.9133, took 75.459 s\n",
      "  Validation Found 51721 of 54504, added 2126 (eff 94.89%) (0.213 FP/event)\n"
     ]
    },
    {
     "data": {
      "application/vnd.jupyter.widget-view+json": {
       "model_id": "",
       "version_major": 2,
       "version_minor": 0
      },
      "text/plain": [
       "HBox(children=(IntProgress(value=0, description='Training', layout=Layout(flex='2'), max=1250, style=ProgressS…"
      ]
     },
     "metadata": {},
     "output_type": "display_data"
    },
    {
     "name": "stdout",
     "output_type": "stream",
     "text": [
      "Epoch 14: train=9.23047, val=8.93465, took 75.418 s\n",
      "  Validation Found 51722 of 54504, added 2199 (eff 94.90%) (0.22 FP/event)\n"
     ]
    },
    {
     "data": {
      "application/vnd.jupyter.widget-view+json": {
       "model_id": "",
       "version_major": 2,
       "version_minor": 0
      },
      "text/plain": [
       "HBox(children=(IntProgress(value=0, description='Training', layout=Layout(flex='2'), max=1250, style=ProgressS…"
      ]
     },
     "metadata": {},
     "output_type": "display_data"
    },
    {
     "name": "stdout",
     "output_type": "stream",
     "text": [
      "Epoch 15: train=9.23555, val=8.95771, took 75.44 s\n",
      "  Validation Found 51707 of 54504, added 2226 (eff 94.87%) (0.223 FP/event)\n"
     ]
    },
    {
     "data": {
      "application/vnd.jupyter.widget-view+json": {
       "model_id": "",
       "version_major": 2,
       "version_minor": 0
      },
      "text/plain": [
       "HBox(children=(IntProgress(value=0, description='Training', layout=Layout(flex='2'), max=1250, style=ProgressS…"
      ]
     },
     "metadata": {},
     "output_type": "display_data"
    },
    {
     "name": "stdout",
     "output_type": "stream",
     "text": [
      "Epoch 16: train=9.23953, val=8.90375, took 75.369 s\n",
      "  Validation Found 51756 of 54504, added 2220 (eff 94.96%) (0.222 FP/event)\n"
     ]
    },
    {
     "data": {
      "application/vnd.jupyter.widget-view+json": {
       "model_id": "",
       "version_major": 2,
       "version_minor": 0
      },
      "text/plain": [
       "HBox(children=(IntProgress(value=0, description='Training', layout=Layout(flex='2'), max=1250, style=ProgressS…"
      ]
     },
     "metadata": {},
     "output_type": "display_data"
    },
    {
     "name": "stdout",
     "output_type": "stream",
     "text": [
      "Epoch 17: train=9.23753, val=8.90929, took 75.301 s\n",
      "  Validation Found 51744 of 54504, added 2264 (eff 94.94%) (0.227 FP/event)\n"
     ]
    },
    {
     "data": {
      "application/vnd.jupyter.widget-view+json": {
       "model_id": "",
       "version_major": 2,
       "version_minor": 0
      },
      "text/plain": [
       "HBox(children=(IntProgress(value=0, description='Training', layout=Layout(flex='2'), max=1250, style=ProgressS…"
      ]
     },
     "metadata": {},
     "output_type": "display_data"
    },
    {
     "name": "stdout",
     "output_type": "stream",
     "text": [
      "Epoch 18: train=9.23296, val=8.8949, took 75.428 s\n",
      "  Validation Found 51734 of 54504, added 2291 (eff 94.92%) (0.229 FP/event)\n"
     ]
    },
    {
     "data": {
      "application/vnd.jupyter.widget-view+json": {
       "model_id": "",
       "version_major": 2,
       "version_minor": 0
      },
      "text/plain": [
       "HBox(children=(IntProgress(value=0, description='Training', layout=Layout(flex='2'), max=1250, style=ProgressS…"
      ]
     },
     "metadata": {},
     "output_type": "display_data"
    },
    {
     "name": "stdout",
     "output_type": "stream",
     "text": [
      "Epoch 19: train=9.23045, val=8.91557, took 75.423 s\n",
      "  Validation Found 51730 of 54504, added 2228 (eff 94.91%) (0.223 FP/event)\n"
     ]
    },
    {
     "data": {
      "application/vnd.jupyter.widget-view+json": {
       "model_id": "",
       "version_major": 2,
       "version_minor": 0
      },
      "text/plain": [
       "HBox(children=(IntProgress(value=0, description='Training', layout=Layout(flex='2'), max=1250, style=ProgressS…"
      ]
     },
     "metadata": {},
     "output_type": "display_data"
    },
    {
     "name": "stdout",
     "output_type": "stream",
     "text": [
      "Epoch 20: train=9.23155, val=8.92844, took 75.432 s\n",
      "  Validation Found 51707 of 54504, added 2196 (eff 94.87%) (0.22 FP/event)\n"
     ]
    },
    {
     "data": {
      "application/vnd.jupyter.widget-view+json": {
       "model_id": "",
       "version_major": 2,
       "version_minor": 0
      },
      "text/plain": [
       "HBox(children=(IntProgress(value=0, description='Training', layout=Layout(flex='2'), max=1250, style=ProgressS…"
      ]
     },
     "metadata": {},
     "output_type": "display_data"
    },
    {
     "name": "stdout",
     "output_type": "stream",
     "text": [
      "Epoch 21: train=9.23613, val=8.92807, took 75.406 s\n",
      "  Validation Found 51724 of 54504, added 2076 (eff 94.90%) (0.208 FP/event)\n"
     ]
    },
    {
     "data": {
      "application/vnd.jupyter.widget-view+json": {
       "model_id": "",
       "version_major": 2,
       "version_minor": 0
      },
      "text/plain": [
       "HBox(children=(IntProgress(value=0, description='Training', layout=Layout(flex='2'), max=1250, style=ProgressS…"
      ]
     },
     "metadata": {},
     "output_type": "display_data"
    },
    {
     "name": "stdout",
     "output_type": "stream",
     "text": [
      "Epoch 22: train=9.23821, val=8.92122, took 75.433 s\n",
      "  Validation Found 51785 of 54504, added 2354 (eff 95.01%) (0.236 FP/event)\n"
     ]
    },
    {
     "data": {
      "application/vnd.jupyter.widget-view+json": {
       "model_id": "",
       "version_major": 2,
       "version_minor": 0
      },
      "text/plain": [
       "HBox(children=(IntProgress(value=0, description='Training', layout=Layout(flex='2'), max=1250, style=ProgressS…"
      ]
     },
     "metadata": {},
     "output_type": "display_data"
    },
    {
     "name": "stdout",
     "output_type": "stream",
     "text": [
      "Epoch 23: train=9.23582, val=8.90136, took 75.43 s\n",
      "  Validation Found 51735 of 54504, added 2231 (eff 94.92%) (0.223 FP/event)\n"
     ]
    },
    {
     "data": {
      "application/vnd.jupyter.widget-view+json": {
       "model_id": "",
       "version_major": 2,
       "version_minor": 0
      },
      "text/plain": [
       "HBox(children=(IntProgress(value=0, description='Training', layout=Layout(flex='2'), max=1250, style=ProgressS…"
      ]
     },
     "metadata": {},
     "output_type": "display_data"
    },
    {
     "name": "stdout",
     "output_type": "stream",
     "text": [
      "Epoch 24: train=9.22953, val=8.92456, took 75.451 s\n",
      "  Validation Found 51744 of 54504, added 2201 (eff 94.94%) (0.22 FP/event)\n"
     ]
    },
    {
     "data": {
      "application/vnd.jupyter.widget-view+json": {
       "model_id": "",
       "version_major": 2,
       "version_minor": 0
      },
      "text/plain": [
       "HBox(children=(IntProgress(value=0, description='Training', layout=Layout(flex='2'), max=1250, style=ProgressS…"
      ]
     },
     "metadata": {},
     "output_type": "display_data"
    },
    {
     "name": "stdout",
     "output_type": "stream",
     "text": [
      "Epoch 25: train=9.23704, val=8.89569, took 75.503 s\n",
      "  Validation Found 51695 of 54504, added 2225 (eff 94.85%) (0.223 FP/event)\n"
     ]
    },
    {
     "data": {
      "application/vnd.jupyter.widget-view+json": {
       "model_id": "",
       "version_major": 2,
       "version_minor": 0
      },
      "text/plain": [
       "HBox(children=(IntProgress(value=0, description='Training', layout=Layout(flex='2'), max=1250, style=ProgressS…"
      ]
     },
     "metadata": {},
     "output_type": "display_data"
    },
    {
     "name": "stdout",
     "output_type": "stream",
     "text": [
      "Epoch 26: train=9.23538, val=8.90392, took 75.433 s\n",
      "  Validation Found 51758 of 54504, added 2302 (eff 94.96%) (0.231 FP/event)\n"
     ]
    },
    {
     "data": {
      "application/vnd.jupyter.widget-view+json": {
       "model_id": "",
       "version_major": 2,
       "version_minor": 0
      },
      "text/plain": [
       "HBox(children=(IntProgress(value=0, description='Training', layout=Layout(flex='2'), max=1250, style=ProgressS…"
      ]
     },
     "metadata": {},
     "output_type": "display_data"
    },
    {
     "name": "stdout",
     "output_type": "stream",
     "text": [
      "Epoch 27: train=9.23427, val=8.92961, took 75.503 s\n",
      "  Validation Found 51733 of 54504, added 2285 (eff 94.92%) (0.229 FP/event)\n"
     ]
    },
    {
     "data": {
      "application/vnd.jupyter.widget-view+json": {
       "model_id": "",
       "version_major": 2,
       "version_minor": 0
      },
      "text/plain": [
       "HBox(children=(IntProgress(value=0, description='Training', layout=Layout(flex='2'), max=1250, style=ProgressS…"
      ]
     },
     "metadata": {},
     "output_type": "display_data"
    },
    {
     "name": "stdout",
     "output_type": "stream",
     "text": [
      "Epoch 28: train=9.24212, val=8.90633, took 75.45 s\n",
      "  Validation Found 51746 of 54504, added 2225 (eff 94.94%) (0.223 FP/event)\n"
     ]
    },
    {
     "data": {
      "application/vnd.jupyter.widget-view+json": {
       "model_id": "",
       "version_major": 2,
       "version_minor": 0
      },
      "text/plain": [
       "HBox(children=(IntProgress(value=0, description='Training', layout=Layout(flex='2'), max=1250, style=ProgressS…"
      ]
     },
     "metadata": {},
     "output_type": "display_data"
    },
    {
     "name": "stdout",
     "output_type": "stream",
     "text": [
      "Epoch 29: train=9.23286, val=8.91119, took 75.454 s\n",
      "  Validation Found 51698 of 54504, added 2162 (eff 94.85%) (0.217 FP/event)\n"
     ]
    },
    {
     "data": {
      "application/vnd.jupyter.widget-view+json": {
       "model_id": "",
       "version_major": 2,
       "version_minor": 0
      },
      "text/plain": [
       "HBox(children=(IntProgress(value=0, description='Training', layout=Layout(flex='2'), max=1250, style=ProgressS…"
      ]
     },
     "metadata": {},
     "output_type": "display_data"
    },
    {
     "name": "stdout",
     "output_type": "stream",
     "text": [
      "Epoch 30: train=9.23014, val=8.91089, took 75.466 s\n",
      "  Validation Found 51688 of 54504, added 2167 (eff 94.83%) (0.217 FP/event)\n"
     ]
    },
    {
     "data": {
      "application/vnd.jupyter.widget-view+json": {
       "model_id": "",
       "version_major": 2,
       "version_minor": 0
      },
      "text/plain": [
       "HBox(children=(IntProgress(value=0, description='Training', layout=Layout(flex='2'), max=1250, style=ProgressS…"
      ]
     },
     "metadata": {},
     "output_type": "display_data"
    },
    {
     "name": "stdout",
     "output_type": "stream",
     "text": [
      "Epoch 31: train=9.23578, val=8.93776, took 75.412 s\n",
      "  Validation Found 51685 of 54504, added 2161 (eff 94.83%) (0.216 FP/event)\n"
     ]
    },
    {
     "data": {
      "application/vnd.jupyter.widget-view+json": {
       "model_id": "",
       "version_major": 2,
       "version_minor": 0
      },
      "text/plain": [
       "HBox(children=(IntProgress(value=0, description='Training', layout=Layout(flex='2'), max=1250, style=ProgressS…"
      ]
     },
     "metadata": {},
     "output_type": "display_data"
    },
    {
     "name": "stdout",
     "output_type": "stream",
     "text": [
      "Epoch 32: train=9.23813, val=8.92933, took 75.425 s\n",
      "  Validation Found 51733 of 54504, added 2174 (eff 94.92%) (0.218 FP/event)\n"
     ]
    },
    {
     "data": {
      "application/vnd.jupyter.widget-view+json": {
       "model_id": "",
       "version_major": 2,
       "version_minor": 0
      },
      "text/plain": [
       "HBox(children=(IntProgress(value=0, description='Training', layout=Layout(flex='2'), max=1250, style=ProgressS…"
      ]
     },
     "metadata": {},
     "output_type": "display_data"
    },
    {
     "name": "stdout",
     "output_type": "stream",
     "text": [
      "Epoch 33: train=9.23321, val=8.90166, took 75.375 s\n",
      "  Validation Found 51733 of 54504, added 2221 (eff 94.92%) (0.222 FP/event)\n"
     ]
    },
    {
     "data": {
      "application/vnd.jupyter.widget-view+json": {
       "model_id": "",
       "version_major": 2,
       "version_minor": 0
      },
      "text/plain": [
       "HBox(children=(IntProgress(value=0, description='Training', layout=Layout(flex='2'), max=1250, style=ProgressS…"
      ]
     },
     "metadata": {},
     "output_type": "display_data"
    },
    {
     "name": "stdout",
     "output_type": "stream",
     "text": [
      "Epoch 34: train=9.23848, val=8.88327, took 75.412 s\n",
      "  Validation Found 51764 of 54504, added 2274 (eff 94.97%) (0.228 FP/event)\n"
     ]
    },
    {
     "data": {
      "application/vnd.jupyter.widget-view+json": {
       "model_id": "",
       "version_major": 2,
       "version_minor": 0
      },
      "text/plain": [
       "HBox(children=(IntProgress(value=0, description='Training', layout=Layout(flex='2'), max=1250, style=ProgressS…"
      ]
     },
     "metadata": {},
     "output_type": "display_data"
    },
    {
     "name": "stdout",
     "output_type": "stream",
     "text": [
      "Epoch 35: train=9.22962, val=8.92971, took 75.398 s\n",
      "  Validation Found 51717 of 54504, added 2168 (eff 94.89%) (0.217 FP/event)\n"
     ]
    },
    {
     "data": {
      "application/vnd.jupyter.widget-view+json": {
       "model_id": "",
       "version_major": 2,
       "version_minor": 0
      },
      "text/plain": [
       "HBox(children=(IntProgress(value=0, description='Training', layout=Layout(flex='2'), max=1250, style=ProgressS…"
      ]
     },
     "metadata": {},
     "output_type": "display_data"
    },
    {
     "name": "stdout",
     "output_type": "stream",
     "text": [
      "Epoch 36: train=9.2291, val=8.90579, took 75.47 s\n",
      "  Validation Found 51739 of 54504, added 2209 (eff 94.93%) (0.221 FP/event)\n"
     ]
    },
    {
     "data": {
      "application/vnd.jupyter.widget-view+json": {
       "model_id": "",
       "version_major": 2,
       "version_minor": 0
      },
      "text/plain": [
       "HBox(children=(IntProgress(value=0, description='Training', layout=Layout(flex='2'), max=1250, style=ProgressS…"
      ]
     },
     "metadata": {},
     "output_type": "display_data"
    },
    {
     "name": "stdout",
     "output_type": "stream",
     "text": [
      "Epoch 37: train=9.2323, val=8.92458, took 75.541 s\n",
      "  Validation Found 51693 of 54504, added 2129 (eff 94.84%) (0.213 FP/event)\n"
     ]
    },
    {
     "data": {
      "application/vnd.jupyter.widget-view+json": {
       "model_id": "",
       "version_major": 2,
       "version_minor": 0
      },
      "text/plain": [
       "HBox(children=(IntProgress(value=0, description='Training', layout=Layout(flex='2'), max=1250, style=ProgressS…"
      ]
     },
     "metadata": {},
     "output_type": "display_data"
    },
    {
     "name": "stdout",
     "output_type": "stream",
     "text": [
      "Epoch 38: train=9.23128, val=8.89715, took 75.5 s\n",
      "  Validation Found 51736 of 54504, added 2161 (eff 94.92%) (0.216 FP/event)\n"
     ]
    },
    {
     "data": {
      "application/vnd.jupyter.widget-view+json": {
       "model_id": "",
       "version_major": 2,
       "version_minor": 0
      },
      "text/plain": [
       "HBox(children=(IntProgress(value=0, description='Training', layout=Layout(flex='2'), max=1250, style=ProgressS…"
      ]
     },
     "metadata": {},
     "output_type": "display_data"
    },
    {
     "name": "stdout",
     "output_type": "stream",
     "text": [
      "Epoch 39: train=9.23086, val=8.90017, took 75.427 s\n",
      "  Validation Found 51735 of 54504, added 2185 (eff 94.92%) (0.219 FP/event)\n"
     ]
    },
    {
     "data": {
      "application/vnd.jupyter.widget-view+json": {
       "model_id": "",
       "version_major": 2,
       "version_minor": 0
      },
      "text/plain": [
       "HBox(children=(IntProgress(value=0, description='Training', layout=Layout(flex='2'), max=1250, style=ProgressS…"
      ]
     },
     "metadata": {},
     "output_type": "display_data"
    },
    {
     "name": "stdout",
     "output_type": "stream",
     "text": [
      "Epoch 40: train=9.23028, val=8.90656, took 75.467 s\n",
      "  Validation Found 51763 of 54504, added 2254 (eff 94.97%) (0.226 FP/event)\n"
     ]
    },
    {
     "data": {
      "application/vnd.jupyter.widget-view+json": {
       "model_id": "",
       "version_major": 2,
       "version_minor": 0
      },
      "text/plain": [
       "HBox(children=(IntProgress(value=0, description='Training', layout=Layout(flex='2'), max=1250, style=ProgressS…"
      ]
     },
     "metadata": {},
     "output_type": "display_data"
    },
    {
     "name": "stdout",
     "output_type": "stream",
     "text": [
      "Epoch 41: train=9.24603, val=8.90021, took 75.399 s\n",
      "  Validation Found 51787 of 54504, added 2301 (eff 95.02%) (0.23 FP/event)\n"
     ]
    },
    {
     "data": {
      "application/vnd.jupyter.widget-view+json": {
       "model_id": "",
       "version_major": 2,
       "version_minor": 0
      },
      "text/plain": [
       "HBox(children=(IntProgress(value=0, description='Training', layout=Layout(flex='2'), max=1250, style=ProgressS…"
      ]
     },
     "metadata": {},
     "output_type": "display_data"
    },
    {
     "name": "stdout",
     "output_type": "stream",
     "text": [
      "Epoch 42: train=9.23113, val=8.90652, took 75.512 s\n",
      "  Validation Found 51776 of 54504, added 2325 (eff 94.99%) (0.233 FP/event)\n"
     ]
    },
    {
     "data": {
      "application/vnd.jupyter.widget-view+json": {
       "model_id": "",
       "version_major": 2,
       "version_minor": 0
      },
      "text/plain": [
       "HBox(children=(IntProgress(value=0, description='Training', layout=Layout(flex='2'), max=1250, style=ProgressS…"
      ]
     },
     "metadata": {},
     "output_type": "display_data"
    },
    {
     "name": "stdout",
     "output_type": "stream",
     "text": [
      "Epoch 43: train=9.22732, val=8.92176, took 75.497 s\n",
      "  Validation Found 51729 of 54504, added 2168 (eff 94.91%) (0.217 FP/event)\n"
     ]
    },
    {
     "data": {
      "application/vnd.jupyter.widget-view+json": {
       "model_id": "",
       "version_major": 2,
       "version_minor": 0
      },
      "text/plain": [
       "HBox(children=(IntProgress(value=0, description='Training', layout=Layout(flex='2'), max=1250, style=ProgressS…"
      ]
     },
     "metadata": {},
     "output_type": "display_data"
    },
    {
     "name": "stdout",
     "output_type": "stream",
     "text": [
      "Epoch 44: train=9.23484, val=8.92114, took 75.483 s\n",
      "  Validation Found 51752 of 54504, added 2258 (eff 94.95%) (0.226 FP/event)\n"
     ]
    },
    {
     "data": {
      "application/vnd.jupyter.widget-view+json": {
       "model_id": "",
       "version_major": 2,
       "version_minor": 0
      },
      "text/plain": [
       "HBox(children=(IntProgress(value=0, description='Training', layout=Layout(flex='2'), max=1250, style=ProgressS…"
      ]
     },
     "metadata": {},
     "output_type": "display_data"
    },
    {
     "name": "stdout",
     "output_type": "stream",
     "text": [
      "Epoch 45: train=9.22919, val=8.91307, took 75.51 s\n",
      "  Validation Found 51689 of 54504, added 2153 (eff 94.84%) (0.216 FP/event)\n"
     ]
    },
    {
     "data": {
      "application/vnd.jupyter.widget-view+json": {
       "model_id": "",
       "version_major": 2,
       "version_minor": 0
      },
      "text/plain": [
       "HBox(children=(IntProgress(value=0, description='Training', layout=Layout(flex='2'), max=1250, style=ProgressS…"
      ]
     },
     "metadata": {},
     "output_type": "display_data"
    },
    {
     "name": "stdout",
     "output_type": "stream",
     "text": [
      "Epoch 46: train=9.23056, val=8.91196, took 75.472 s\n",
      "  Validation Found 51747 of 54504, added 2230 (eff 94.94%) (0.223 FP/event)\n"
     ]
    },
    {
     "data": {
      "application/vnd.jupyter.widget-view+json": {
       "model_id": "",
       "version_major": 2,
       "version_minor": 0
      },
      "text/plain": [
       "HBox(children=(IntProgress(value=0, description='Training', layout=Layout(flex='2'), max=1250, style=ProgressS…"
      ]
     },
     "metadata": {},
     "output_type": "display_data"
    },
    {
     "name": "stdout",
     "output_type": "stream",
     "text": [
      "Epoch 47: train=9.22848, val=8.91452, took 75.368 s\n",
      "  Validation Found 51703 of 54504, added 2182 (eff 94.86%) (0.219 FP/event)\n"
     ]
    },
    {
     "data": {
      "application/vnd.jupyter.widget-view+json": {
       "model_id": "",
       "version_major": 2,
       "version_minor": 0
      },
      "text/plain": [
       "HBox(children=(IntProgress(value=0, description='Training', layout=Layout(flex='2'), max=1250, style=ProgressS…"
      ]
     },
     "metadata": {},
     "output_type": "display_data"
    },
    {
     "name": "stdout",
     "output_type": "stream",
     "text": [
      "Epoch 48: train=9.22926, val=8.90789, took 75.36 s\n",
      "  Validation Found 51779 of 54504, added 2299 (eff 95.00%) (0.23 FP/event)\n"
     ]
    },
    {
     "data": {
      "application/vnd.jupyter.widget-view+json": {
       "model_id": "",
       "version_major": 2,
       "version_minor": 0
      },
      "text/plain": [
       "HBox(children=(IntProgress(value=0, description='Training', layout=Layout(flex='2'), max=1250, style=ProgressS…"
      ]
     },
     "metadata": {},
     "output_type": "display_data"
    },
    {
     "name": "stdout",
     "output_type": "stream",
     "text": [
      "Epoch 49: train=9.23013, val=8.91622, took 75.323 s\n",
      "  Validation Found 51782 of 54504, added 2315 (eff 95.01%) (0.232 FP/event)\n"
     ]
    },
    {
     "data": {
      "application/vnd.jupyter.widget-view+json": {
       "model_id": "",
       "version_major": 2,
       "version_minor": 0
      },
      "text/plain": [
       "HBox(children=(IntProgress(value=0, description='Training', layout=Layout(flex='2'), max=1250, style=ProgressS…"
      ]
     },
     "metadata": {},
     "output_type": "display_data"
    },
    {
     "name": "stdout",
     "output_type": "stream",
     "text": [
      "Epoch 50: train=9.23346, val=8.91123, took 75.377 s\n",
      "  Validation Found 51737 of 54504, added 2180 (eff 94.92%) (0.218 FP/event)\n"
     ]
    },
    {
     "data": {
      "application/vnd.jupyter.widget-view+json": {
       "model_id": "",
       "version_major": 2,
       "version_minor": 0
      },
      "text/plain": [
       "HBox(children=(IntProgress(value=0, description='Training', layout=Layout(flex='2'), max=1250, style=ProgressS…"
      ]
     },
     "metadata": {},
     "output_type": "display_data"
    },
    {
     "name": "stdout",
     "output_type": "stream",
     "text": [
      "Epoch 51: train=9.23157, val=8.9318, took 75.357 s\n",
      "  Validation Found 51680 of 54504, added 2170 (eff 94.82%) (0.217 FP/event)\n"
     ]
    },
    {
     "data": {
      "application/vnd.jupyter.widget-view+json": {
       "model_id": "",
       "version_major": 2,
       "version_minor": 0
      },
      "text/plain": [
       "HBox(children=(IntProgress(value=0, description='Training', layout=Layout(flex='2'), max=1250, style=ProgressS…"
      ]
     },
     "metadata": {},
     "output_type": "display_data"
    },
    {
     "name": "stdout",
     "output_type": "stream",
     "text": [
      "Epoch 52: train=9.2334, val=8.92889, took 75.418 s\n",
      "  Validation Found 51726 of 54504, added 2106 (eff 94.90%) (0.211 FP/event)\n"
     ]
    },
    {
     "data": {
      "application/vnd.jupyter.widget-view+json": {
       "model_id": "",
       "version_major": 2,
       "version_minor": 0
      },
      "text/plain": [
       "HBox(children=(IntProgress(value=0, description='Training', layout=Layout(flex='2'), max=1250, style=ProgressS…"
      ]
     },
     "metadata": {},
     "output_type": "display_data"
    },
    {
     "name": "stdout",
     "output_type": "stream",
     "text": [
      "Epoch 53: train=9.23209, val=8.93256, took 75.446 s\n",
      "  Validation Found 51718 of 54504, added 2118 (eff 94.89%) (0.212 FP/event)\n"
     ]
    },
    {
     "data": {
      "application/vnd.jupyter.widget-view+json": {
       "model_id": "",
       "version_major": 2,
       "version_minor": 0
      },
      "text/plain": [
       "HBox(children=(IntProgress(value=0, description='Training', layout=Layout(flex='2'), max=1250, style=ProgressS…"
      ]
     },
     "metadata": {},
     "output_type": "display_data"
    },
    {
     "name": "stdout",
     "output_type": "stream",
     "text": [
      "Epoch 54: train=9.23101, val=8.90329, took 75.502 s\n",
      "  Validation Found 51751 of 54504, added 2188 (eff 94.95%) (0.219 FP/event)\n"
     ]
    },
    {
     "data": {
      "application/vnd.jupyter.widget-view+json": {
       "model_id": "",
       "version_major": 2,
       "version_minor": 0
      },
      "text/plain": [
       "HBox(children=(IntProgress(value=0, description='Training', layout=Layout(flex='2'), max=1250, style=ProgressS…"
      ]
     },
     "metadata": {},
     "output_type": "display_data"
    },
    {
     "name": "stdout",
     "output_type": "stream",
     "text": [
      "Epoch 55: train=9.23616, val=8.89953, took 75.475 s\n",
      "  Validation Found 51809 of 54504, added 2353 (eff 95.06%) (0.236 FP/event)\n"
     ]
    },
    {
     "data": {
      "application/vnd.jupyter.widget-view+json": {
       "model_id": "",
       "version_major": 2,
       "version_minor": 0
      },
      "text/plain": [
       "HBox(children=(IntProgress(value=0, description='Training', layout=Layout(flex='2'), max=1250, style=ProgressS…"
      ]
     },
     "metadata": {},
     "output_type": "display_data"
    },
    {
     "name": "stdout",
     "output_type": "stream",
     "text": [
      "Epoch 56: train=9.23681, val=8.91962, took 75.409 s\n",
      "  Validation Found 51785 of 54504, added 2287 (eff 95.01%) (0.229 FP/event)\n"
     ]
    },
    {
     "data": {
      "application/vnd.jupyter.widget-view+json": {
       "model_id": "",
       "version_major": 2,
       "version_minor": 0
      },
      "text/plain": [
       "HBox(children=(IntProgress(value=0, description='Training', layout=Layout(flex='2'), max=1250, style=ProgressS…"
      ]
     },
     "metadata": {},
     "output_type": "display_data"
    },
    {
     "name": "stdout",
     "output_type": "stream",
     "text": [
      "Epoch 57: train=9.23073, val=8.94161, took 75.442 s\n",
      "  Validation Found 51676 of 54504, added 2110 (eff 94.81%) (0.211 FP/event)\n"
     ]
    },
    {
     "data": {
      "application/vnd.jupyter.widget-view+json": {
       "model_id": "",
       "version_major": 2,
       "version_minor": 0
      },
      "text/plain": [
       "HBox(children=(IntProgress(value=0, description='Training', layout=Layout(flex='2'), max=1250, style=ProgressS…"
      ]
     },
     "metadata": {},
     "output_type": "display_data"
    },
    {
     "name": "stdout",
     "output_type": "stream",
     "text": [
      "Epoch 58: train=9.22998, val=8.89243, took 75.464 s\n",
      "  Validation Found 51784 of 54504, added 2357 (eff 95.01%) (0.236 FP/event)\n"
     ]
    },
    {
     "data": {
      "application/vnd.jupyter.widget-view+json": {
       "model_id": "",
       "version_major": 2,
       "version_minor": 0
      },
      "text/plain": [
       "HBox(children=(IntProgress(value=0, description='Training', layout=Layout(flex='2'), max=1250, style=ProgressS…"
      ]
     },
     "metadata": {},
     "output_type": "display_data"
    },
    {
     "name": "stdout",
     "output_type": "stream",
     "text": [
      "Epoch 59: train=9.23358, val=8.89049, took 75.499 s\n",
      "  Validation Found 51772 of 54504, added 2292 (eff 94.99%) (0.23 FP/event)\n"
     ]
    },
    {
     "data": {
      "application/vnd.jupyter.widget-view+json": {
       "model_id": "",
       "version_major": 2,
       "version_minor": 0
      },
      "text/plain": [
       "HBox(children=(IntProgress(value=0, description='Training', layout=Layout(flex='2'), max=1250, style=ProgressS…"
      ]
     },
     "metadata": {},
     "output_type": "display_data"
    },
    {
     "name": "stdout",
     "output_type": "stream",
     "text": [
      "Epoch 60: train=9.23077, val=8.89949, took 75.496 s\n",
      "  Validation Found 51800 of 54504, added 2293 (eff 95.04%) (0.23 FP/event)\n"
     ]
    },
    {
     "data": {
      "application/vnd.jupyter.widget-view+json": {
       "model_id": "",
       "version_major": 2,
       "version_minor": 0
      },
      "text/plain": [
       "HBox(children=(IntProgress(value=0, description='Training', layout=Layout(flex='2'), max=1250, style=ProgressS…"
      ]
     },
     "metadata": {},
     "output_type": "display_data"
    },
    {
     "name": "stdout",
     "output_type": "stream",
     "text": [
      "Epoch 61: train=9.23153, val=8.9778, took 75.515 s\n",
      "  Validation Found 51696 of 54504, added 2072 (eff 94.85%) (0.208 FP/event)\n"
     ]
    },
    {
     "data": {
      "application/vnd.jupyter.widget-view+json": {
       "model_id": "",
       "version_major": 2,
       "version_minor": 0
      },
      "text/plain": [
       "HBox(children=(IntProgress(value=0, description='Training', layout=Layout(flex='2'), max=1250, style=ProgressS…"
      ]
     },
     "metadata": {},
     "output_type": "display_data"
    },
    {
     "name": "stdout",
     "output_type": "stream",
     "text": [
      "Epoch 62: train=9.23589, val=8.89041, took 75.373 s\n",
      "  Validation Found 51817 of 54504, added 2340 (eff 95.07%) (0.234 FP/event)\n"
     ]
    },
    {
     "data": {
      "application/vnd.jupyter.widget-view+json": {
       "model_id": "",
       "version_major": 2,
       "version_minor": 0
      },
      "text/plain": [
       "HBox(children=(IntProgress(value=0, description='Training', layout=Layout(flex='2'), max=1250, style=ProgressS…"
      ]
     },
     "metadata": {},
     "output_type": "display_data"
    },
    {
     "name": "stdout",
     "output_type": "stream",
     "text": [
      "Epoch 63: train=9.23226, val=8.93331, took 75.486 s\n",
      "  Validation Found 51717 of 54504, added 2189 (eff 94.89%) (0.219 FP/event)\n"
     ]
    },
    {
     "data": {
      "application/vnd.jupyter.widget-view+json": {
       "model_id": "",
       "version_major": 2,
       "version_minor": 0
      },
      "text/plain": [
       "HBox(children=(IntProgress(value=0, description='Training', layout=Layout(flex='2'), max=1250, style=ProgressS…"
      ]
     },
     "metadata": {},
     "output_type": "display_data"
    },
    {
     "name": "stdout",
     "output_type": "stream",
     "text": [
      "Epoch 64: train=9.22777, val=8.91351, took 75.398 s\n",
      "  Validation Found 51719 of 54504, added 2217 (eff 94.89%) (0.222 FP/event)\n"
     ]
    },
    {
     "data": {
      "application/vnd.jupyter.widget-view+json": {
       "model_id": "",
       "version_major": 2,
       "version_minor": 0
      },
      "text/plain": [
       "HBox(children=(IntProgress(value=0, description='Training', layout=Layout(flex='2'), max=1250, style=ProgressS…"
      ]
     },
     "metadata": {},
     "output_type": "display_data"
    },
    {
     "name": "stdout",
     "output_type": "stream",
     "text": [
      "Epoch 65: train=9.22756, val=8.92496, took 75.383 s\n",
      "  Validation Found 51730 of 54504, added 2177 (eff 94.91%) (0.218 FP/event)\n"
     ]
    },
    {
     "data": {
      "application/vnd.jupyter.widget-view+json": {
       "model_id": "",
       "version_major": 2,
       "version_minor": 0
      },
      "text/plain": [
       "HBox(children=(IntProgress(value=0, description='Training', layout=Layout(flex='2'), max=1250, style=ProgressS…"
      ]
     },
     "metadata": {},
     "output_type": "display_data"
    },
    {
     "name": "stdout",
     "output_type": "stream",
     "text": [
      "Epoch 66: train=9.224, val=8.89052, took 75.495 s\n",
      "  Validation Found 51799 of 54504, added 2342 (eff 95.04%) (0.235 FP/event)\n"
     ]
    },
    {
     "data": {
      "application/vnd.jupyter.widget-view+json": {
       "model_id": "",
       "version_major": 2,
       "version_minor": 0
      },
      "text/plain": [
       "HBox(children=(IntProgress(value=0, description='Training', layout=Layout(flex='2'), max=1250, style=ProgressS…"
      ]
     },
     "metadata": {},
     "output_type": "display_data"
    },
    {
     "name": "stdout",
     "output_type": "stream",
     "text": [
      "Epoch 67: train=9.2319, val=8.90774, took 75.45 s\n",
      "  Validation Found 51747 of 54504, added 2259 (eff 94.94%) (0.226 FP/event)\n"
     ]
    },
    {
     "data": {
      "application/vnd.jupyter.widget-view+json": {
       "model_id": "",
       "version_major": 2,
       "version_minor": 0
      },
      "text/plain": [
       "HBox(children=(IntProgress(value=0, description='Training', layout=Layout(flex='2'), max=1250, style=ProgressS…"
      ]
     },
     "metadata": {},
     "output_type": "display_data"
    },
    {
     "name": "stdout",
     "output_type": "stream",
     "text": [
      "Epoch 68: train=9.23723, val=8.89556, took 75.465 s\n",
      "  Validation Found 51769 of 54504, added 2307 (eff 94.98%) (0.231 FP/event)\n"
     ]
    },
    {
     "data": {
      "application/vnd.jupyter.widget-view+json": {
       "model_id": "",
       "version_major": 2,
       "version_minor": 0
      },
      "text/plain": [
       "HBox(children=(IntProgress(value=0, description='Training', layout=Layout(flex='2'), max=1250, style=ProgressS…"
      ]
     },
     "metadata": {},
     "output_type": "display_data"
    },
    {
     "name": "stdout",
     "output_type": "stream",
     "text": [
      "Epoch 69: train=9.22925, val=8.9325, took 75.501 s\n",
      "  Validation Found 51687 of 54504, added 2142 (eff 94.83%) (0.215 FP/event)\n"
     ]
    },
    {
     "data": {
      "application/vnd.jupyter.widget-view+json": {
       "model_id": "",
       "version_major": 2,
       "version_minor": 0
      },
      "text/plain": [
       "HBox(children=(IntProgress(value=0, description='Training', layout=Layout(flex='2'), max=1250, style=ProgressS…"
      ]
     },
     "metadata": {},
     "output_type": "display_data"
    },
    {
     "name": "stdout",
     "output_type": "stream",
     "text": [
      "Epoch 70: train=9.23243, val=8.89496, took 75.454 s\n",
      "  Validation Found 51774 of 54504, added 2340 (eff 94.99%) (0.234 FP/event)\n"
     ]
    },
    {
     "data": {
      "application/vnd.jupyter.widget-view+json": {
       "model_id": "",
       "version_major": 2,
       "version_minor": 0
      },
      "text/plain": [
       "HBox(children=(IntProgress(value=0, description='Training', layout=Layout(flex='2'), max=1250, style=ProgressS…"
      ]
     },
     "metadata": {},
     "output_type": "display_data"
    },
    {
     "name": "stdout",
     "output_type": "stream",
     "text": [
      "Epoch 71: train=9.22935, val=8.93396, took 75.427 s\n",
      "  Validation Found 51697 of 54504, added 2182 (eff 94.85%) (0.219 FP/event)\n"
     ]
    },
    {
     "data": {
      "application/vnd.jupyter.widget-view+json": {
       "model_id": "",
       "version_major": 2,
       "version_minor": 0
      },
      "text/plain": [
       "HBox(children=(IntProgress(value=0, description='Training', layout=Layout(flex='2'), max=1250, style=ProgressS…"
      ]
     },
     "metadata": {},
     "output_type": "display_data"
    },
    {
     "name": "stdout",
     "output_type": "stream",
     "text": [
      "Epoch 72: train=9.22557, val=8.90392, took 75.425 s\n",
      "  Validation Found 51736 of 54504, added 2171 (eff 94.92%) (0.217 FP/event)\n"
     ]
    },
    {
     "data": {
      "application/vnd.jupyter.widget-view+json": {
       "model_id": "",
       "version_major": 2,
       "version_minor": 0
      },
      "text/plain": [
       "HBox(children=(IntProgress(value=0, description='Training', layout=Layout(flex='2'), max=1250, style=ProgressS…"
      ]
     },
     "metadata": {},
     "output_type": "display_data"
    },
    {
     "name": "stdout",
     "output_type": "stream",
     "text": [
      "Epoch 73: train=9.2342, val=8.87997, took 75.451 s\n",
      "  Validation Found 51743 of 54504, added 2311 (eff 94.93%) (0.231 FP/event)\n"
     ]
    },
    {
     "data": {
      "application/vnd.jupyter.widget-view+json": {
       "model_id": "",
       "version_major": 2,
       "version_minor": 0
      },
      "text/plain": [
       "HBox(children=(IntProgress(value=0, description='Training', layout=Layout(flex='2'), max=1250, style=ProgressS…"
      ]
     },
     "metadata": {},
     "output_type": "display_data"
    },
    {
     "name": "stdout",
     "output_type": "stream",
     "text": [
      "Epoch 74: train=9.22567, val=8.94288, took 75.462 s\n",
      "  Validation Found 51670 of 54504, added 2076 (eff 94.80%) (0.208 FP/event)\n"
     ]
    },
    {
     "data": {
      "application/vnd.jupyter.widget-view+json": {
       "model_id": "",
       "version_major": 2,
       "version_minor": 0
      },
      "text/plain": [
       "HBox(children=(IntProgress(value=0, description='Training', layout=Layout(flex='2'), max=1250, style=ProgressS…"
      ]
     },
     "metadata": {},
     "output_type": "display_data"
    },
    {
     "name": "stdout",
     "output_type": "stream",
     "text": [
      "Epoch 75: train=9.22536, val=8.90308, took 75.483 s\n",
      "  Validation Found 51764 of 54504, added 2203 (eff 94.97%) (0.221 FP/event)\n"
     ]
    },
    {
     "data": {
      "application/vnd.jupyter.widget-view+json": {
       "model_id": "",
       "version_major": 2,
       "version_minor": 0
      },
      "text/plain": [
       "HBox(children=(IntProgress(value=0, description='Training', layout=Layout(flex='2'), max=1250, style=ProgressS…"
      ]
     },
     "metadata": {},
     "output_type": "display_data"
    },
    {
     "name": "stdout",
     "output_type": "stream",
     "text": [
      "Epoch 76: train=9.23219, val=8.90322, took 75.476 s\n",
      "  Validation Found 51694 of 54504, added 2118 (eff 94.84%) (0.212 FP/event)\n"
     ]
    },
    {
     "data": {
      "application/vnd.jupyter.widget-view+json": {
       "model_id": "",
       "version_major": 2,
       "version_minor": 0
      },
      "text/plain": [
       "HBox(children=(IntProgress(value=0, description='Training', layout=Layout(flex='2'), max=1250, style=ProgressS…"
      ]
     },
     "metadata": {},
     "output_type": "display_data"
    },
    {
     "name": "stdout",
     "output_type": "stream",
     "text": [
      "Epoch 77: train=9.2286, val=8.91515, took 75.441 s\n",
      "  Validation Found 51737 of 54504, added 2240 (eff 94.92%) (0.224 FP/event)\n"
     ]
    },
    {
     "data": {
      "application/vnd.jupyter.widget-view+json": {
       "model_id": "",
       "version_major": 2,
       "version_minor": 0
      },
      "text/plain": [
       "HBox(children=(IntProgress(value=0, description='Training', layout=Layout(flex='2'), max=1250, style=ProgressS…"
      ]
     },
     "metadata": {},
     "output_type": "display_data"
    },
    {
     "name": "stdout",
     "output_type": "stream",
     "text": [
      "Epoch 78: train=9.2323, val=8.92234, took 75.425 s\n",
      "  Validation Found 51756 of 54504, added 2235 (eff 94.96%) (0.224 FP/event)\n"
     ]
    },
    {
     "data": {
      "application/vnd.jupyter.widget-view+json": {
       "model_id": "",
       "version_major": 2,
       "version_minor": 0
      },
      "text/plain": [
       "HBox(children=(IntProgress(value=0, description='Training', layout=Layout(flex='2'), max=1250, style=ProgressS…"
      ]
     },
     "metadata": {},
     "output_type": "display_data"
    },
    {
     "name": "stdout",
     "output_type": "stream",
     "text": [
      "Epoch 79: train=9.22671, val=8.89989, took 75.476 s\n",
      "  Validation Found 51793 of 54504, added 2304 (eff 95.03%) (0.231 FP/event)\n"
     ]
    },
    {
     "data": {
      "application/vnd.jupyter.widget-view+json": {
       "model_id": "",
       "version_major": 2,
       "version_minor": 0
      },
      "text/plain": [
       "HBox(children=(IntProgress(value=0, description='Training', layout=Layout(flex='2'), max=1250, style=ProgressS…"
      ]
     },
     "metadata": {},
     "output_type": "display_data"
    },
    {
     "name": "stdout",
     "output_type": "stream",
     "text": [
      "Epoch 80: train=9.22993, val=8.90646, took 75.431 s\n",
      "  Validation Found 51737 of 54504, added 2207 (eff 94.92%) (0.221 FP/event)\n"
     ]
    },
    {
     "data": {
      "application/vnd.jupyter.widget-view+json": {
       "model_id": "",
       "version_major": 2,
       "version_minor": 0
      },
      "text/plain": [
       "HBox(children=(IntProgress(value=0, description='Training', layout=Layout(flex='2'), max=1250, style=ProgressS…"
      ]
     },
     "metadata": {},
     "output_type": "display_data"
    },
    {
     "name": "stdout",
     "output_type": "stream",
     "text": [
      "Epoch 81: train=9.23211, val=8.89308, took 75.429 s\n",
      "  Validation Found 51795 of 54504, added 2254 (eff 95.03%) (0.226 FP/event)\n"
     ]
    },
    {
     "data": {
      "application/vnd.jupyter.widget-view+json": {
       "model_id": "",
       "version_major": 2,
       "version_minor": 0
      },
      "text/plain": [
       "HBox(children=(IntProgress(value=0, description='Training', layout=Layout(flex='2'), max=1250, style=ProgressS…"
      ]
     },
     "metadata": {},
     "output_type": "display_data"
    },
    {
     "name": "stdout",
     "output_type": "stream",
     "text": [
      "Epoch 82: train=9.22532, val=8.92636, took 75.456 s\n",
      "  Validation Found 51725 of 54504, added 2215 (eff 94.90%) (0.222 FP/event)\n"
     ]
    },
    {
     "data": {
      "application/vnd.jupyter.widget-view+json": {
       "model_id": "",
       "version_major": 2,
       "version_minor": 0
      },
      "text/plain": [
       "HBox(children=(IntProgress(value=0, description='Training', layout=Layout(flex='2'), max=1250, style=ProgressS…"
      ]
     },
     "metadata": {},
     "output_type": "display_data"
    },
    {
     "name": "stdout",
     "output_type": "stream",
     "text": [
      "Epoch 83: train=9.22718, val=8.89176, took 75.461 s\n",
      "  Validation Found 51808 of 54504, added 2336 (eff 95.05%) (0.234 FP/event)\n"
     ]
    },
    {
     "data": {
      "application/vnd.jupyter.widget-view+json": {
       "model_id": "",
       "version_major": 2,
       "version_minor": 0
      },
      "text/plain": [
       "HBox(children=(IntProgress(value=0, description='Training', layout=Layout(flex='2'), max=1250, style=ProgressS…"
      ]
     },
     "metadata": {},
     "output_type": "display_data"
    },
    {
     "name": "stdout",
     "output_type": "stream",
     "text": [
      "Epoch 84: train=9.23084, val=8.92743, took 75.524 s\n",
      "  Validation Found 51694 of 54504, added 2125 (eff 94.84%) (0.213 FP/event)\n"
     ]
    },
    {
     "data": {
      "application/vnd.jupyter.widget-view+json": {
       "model_id": "",
       "version_major": 2,
       "version_minor": 0
      },
      "text/plain": [
       "HBox(children=(IntProgress(value=0, description='Training', layout=Layout(flex='2'), max=1250, style=ProgressS…"
      ]
     },
     "metadata": {},
     "output_type": "display_data"
    },
    {
     "name": "stdout",
     "output_type": "stream",
     "text": [
      "Epoch 85: train=9.22702, val=8.91418, took 75.412 s\n",
      "  Validation Found 51751 of 54504, added 2181 (eff 94.95%) (0.218 FP/event)\n"
     ]
    },
    {
     "data": {
      "application/vnd.jupyter.widget-view+json": {
       "model_id": "",
       "version_major": 2,
       "version_minor": 0
      },
      "text/plain": [
       "HBox(children=(IntProgress(value=0, description='Training', layout=Layout(flex='2'), max=1250, style=ProgressS…"
      ]
     },
     "metadata": {},
     "output_type": "display_data"
    },
    {
     "name": "stdout",
     "output_type": "stream",
     "text": [
      "Epoch 86: train=9.23347, val=8.92162, took 75.354 s\n",
      "  Validation Found 51741 of 54504, added 2206 (eff 94.93%) (0.221 FP/event)\n"
     ]
    },
    {
     "data": {
      "application/vnd.jupyter.widget-view+json": {
       "model_id": "",
       "version_major": 2,
       "version_minor": 0
      },
      "text/plain": [
       "HBox(children=(IntProgress(value=0, description='Training', layout=Layout(flex='2'), max=1250, style=ProgressS…"
      ]
     },
     "metadata": {},
     "output_type": "display_data"
    },
    {
     "name": "stdout",
     "output_type": "stream",
     "text": [
      "Epoch 87: train=9.22736, val=8.92819, took 75.477 s\n",
      "  Validation Found 51682 of 54504, added 2134 (eff 94.82%) (0.214 FP/event)\n"
     ]
    },
    {
     "data": {
      "application/vnd.jupyter.widget-view+json": {
       "model_id": "",
       "version_major": 2,
       "version_minor": 0
      },
      "text/plain": [
       "HBox(children=(IntProgress(value=0, description='Training', layout=Layout(flex='2'), max=1250, style=ProgressS…"
      ]
     },
     "metadata": {},
     "output_type": "display_data"
    },
    {
     "name": "stdout",
     "output_type": "stream",
     "text": [
      "Epoch 88: train=9.23237, val=8.90619, took 75.429 s\n",
      "  Validation Found 51735 of 54504, added 2183 (eff 94.92%) (0.219 FP/event)\n"
     ]
    },
    {
     "data": {
      "application/vnd.jupyter.widget-view+json": {
       "model_id": "",
       "version_major": 2,
       "version_minor": 0
      },
      "text/plain": [
       "HBox(children=(IntProgress(value=0, description='Training', layout=Layout(flex='2'), max=1250, style=ProgressS…"
      ]
     },
     "metadata": {},
     "output_type": "display_data"
    },
    {
     "name": "stdout",
     "output_type": "stream",
     "text": [
      "Epoch 89: train=9.22799, val=8.91018, took 75.563 s\n",
      "  Validation Found 51710 of 54504, added 2133 (eff 94.87%) (0.214 FP/event)\n"
     ]
    },
    {
     "data": {
      "application/vnd.jupyter.widget-view+json": {
       "model_id": "",
       "version_major": 2,
       "version_minor": 0
      },
      "text/plain": [
       "HBox(children=(IntProgress(value=0, description='Training', layout=Layout(flex='2'), max=1250, style=ProgressS…"
      ]
     },
     "metadata": {},
     "output_type": "display_data"
    },
    {
     "name": "stdout",
     "output_type": "stream",
     "text": [
      "Epoch 90: train=9.22687, val=8.90372, took 75.485 s\n",
      "  Validation Found 51779 of 54504, added 2192 (eff 95.00%) (0.22 FP/event)\n"
     ]
    },
    {
     "data": {
      "application/vnd.jupyter.widget-view+json": {
       "model_id": "",
       "version_major": 2,
       "version_minor": 0
      },
      "text/plain": [
       "HBox(children=(IntProgress(value=0, description='Training', layout=Layout(flex='2'), max=1250, style=ProgressS…"
      ]
     },
     "metadata": {},
     "output_type": "display_data"
    },
    {
     "name": "stdout",
     "output_type": "stream",
     "text": [
      "Epoch 91: train=9.22643, val=8.8928, took 75.53 s\n",
      "  Validation Found 51763 of 54504, added 2224 (eff 94.97%) (0.223 FP/event)\n"
     ]
    },
    {
     "data": {
      "application/vnd.jupyter.widget-view+json": {
       "model_id": "",
       "version_major": 2,
       "version_minor": 0
      },
      "text/plain": [
       "HBox(children=(IntProgress(value=0, description='Training', layout=Layout(flex='2'), max=1250, style=ProgressS…"
      ]
     },
     "metadata": {},
     "output_type": "display_data"
    },
    {
     "name": "stdout",
     "output_type": "stream",
     "text": [
      "Epoch 92: train=9.22439, val=8.91413, took 75.559 s\n",
      "  Validation Found 51722 of 54504, added 2223 (eff 94.90%) (0.223 FP/event)\n"
     ]
    },
    {
     "data": {
      "application/vnd.jupyter.widget-view+json": {
       "model_id": "",
       "version_major": 2,
       "version_minor": 0
      },
      "text/plain": [
       "HBox(children=(IntProgress(value=0, description='Training', layout=Layout(flex='2'), max=1250, style=ProgressS…"
      ]
     },
     "metadata": {},
     "output_type": "display_data"
    },
    {
     "name": "stdout",
     "output_type": "stream",
     "text": [
      "Epoch 93: train=9.23228, val=8.91624, took 75.438 s\n",
      "  Validation Found 51730 of 54504, added 2177 (eff 94.91%) (0.218 FP/event)\n"
     ]
    },
    {
     "data": {
      "application/vnd.jupyter.widget-view+json": {
       "model_id": "",
       "version_major": 2,
       "version_minor": 0
      },
      "text/plain": [
       "HBox(children=(IntProgress(value=0, description='Training', layout=Layout(flex='2'), max=1250, style=ProgressS…"
      ]
     },
     "metadata": {},
     "output_type": "display_data"
    },
    {
     "name": "stdout",
     "output_type": "stream",
     "text": [
      "Epoch 94: train=9.22509, val=8.92326, took 75.452 s\n",
      "  Validation Found 51700 of 54504, added 2075 (eff 94.86%) (0.208 FP/event)\n"
     ]
    },
    {
     "data": {
      "application/vnd.jupyter.widget-view+json": {
       "model_id": "",
       "version_major": 2,
       "version_minor": 0
      },
      "text/plain": [
       "HBox(children=(IntProgress(value=0, description='Training', layout=Layout(flex='2'), max=1250, style=ProgressS…"
      ]
     },
     "metadata": {},
     "output_type": "display_data"
    },
    {
     "name": "stdout",
     "output_type": "stream",
     "text": [
      "Epoch 95: train=9.23313, val=8.90028, took 75.442 s\n",
      "  Validation Found 51749 of 54504, added 2236 (eff 94.95%) (0.224 FP/event)\n"
     ]
    },
    {
     "data": {
      "application/vnd.jupyter.widget-view+json": {
       "model_id": "",
       "version_major": 2,
       "version_minor": 0
      },
      "text/plain": [
       "HBox(children=(IntProgress(value=0, description='Training', layout=Layout(flex='2'), max=1250, style=ProgressS…"
      ]
     },
     "metadata": {},
     "output_type": "display_data"
    },
    {
     "name": "stdout",
     "output_type": "stream",
     "text": [
      "Epoch 96: train=9.2289, val=8.9293, took 75.417 s\n",
      "  Validation Found 51704 of 54504, added 2148 (eff 94.86%) (0.215 FP/event)\n"
     ]
    },
    {
     "data": {
      "application/vnd.jupyter.widget-view+json": {
       "model_id": "",
       "version_major": 2,
       "version_minor": 0
      },
      "text/plain": [
       "HBox(children=(IntProgress(value=0, description='Training', layout=Layout(flex='2'), max=1250, style=ProgressS…"
      ]
     },
     "metadata": {},
     "output_type": "display_data"
    },
    {
     "name": "stdout",
     "output_type": "stream",
     "text": [
      "Epoch 97: train=9.22509, val=8.91266, took 75.39 s\n",
      "  Validation Found 51747 of 54504, added 2285 (eff 94.94%) (0.229 FP/event)\n"
     ]
    },
    {
     "data": {
      "application/vnd.jupyter.widget-view+json": {
       "model_id": "",
       "version_major": 2,
       "version_minor": 0
      },
      "text/plain": [
       "HBox(children=(IntProgress(value=0, description='Training', layout=Layout(flex='2'), max=1250, style=ProgressS…"
      ]
     },
     "metadata": {},
     "output_type": "display_data"
    },
    {
     "name": "stdout",
     "output_type": "stream",
     "text": [
      "Epoch 98: train=9.22729, val=8.91523, took 75.407 s\n",
      "  Validation Found 51766 of 54504, added 2228 (eff 94.98%) (0.223 FP/event)\n"
     ]
    },
    {
     "data": {
      "application/vnd.jupyter.widget-view+json": {
       "model_id": "",
       "version_major": 2,
       "version_minor": 0
      },
      "text/plain": [
       "HBox(children=(IntProgress(value=0, description='Training', layout=Layout(flex='2'), max=1250, style=ProgressS…"
      ]
     },
     "metadata": {},
     "output_type": "display_data"
    },
    {
     "name": "stdout",
     "output_type": "stream",
     "text": [
      "Epoch 99: train=9.23271, val=8.90803, took 75.413 s\n",
      "  Validation Found 51715 of 54504, added 2144 (eff 94.88%) (0.215 FP/event)\n",
      "\n"
     ]
    }
   ],
   "source": [
    "for result in trainNet(model, optimizer, loss,\n",
    "                        train_loader, val_loader,\n",
    "                        n_epochs, epoch_start=len(results),\n",
    "                        notebook=True):\n",
    "    \n",
    "    results = results.append(pd.Series(result._asdict()), ignore_index=True)\n",
    "    \n",
    "    xs = results.index\n",
    "    \n",
    "    # Update the plot above\n",
    "    lines['train'].set_data(results.index,results.cost)\n",
    "    lines['val'].set_data(results.index,results.val)\n",
    "    \n",
    "    #filter first cost epoch (can be really large)\n",
    "    max_cost = max(max(results.cost if len(results.cost)<2 else results.cost[1:]), max(results.val))\n",
    "    min_cost = min(min(results.cost), min(results.val))\n",
    "    \n",
    "    # The plot limits need updating too\n",
    "    \n",
    "    \n",
    "    \n",
    "    ax.set_ylim(min_cost*.9, max_cost*1.1)  \n",
    "    ax.set_xlim(-.5, len(results.cost) - .5)\n",
    "    \n",
    "    replace_in_ax(lax, lines['eff'], xs, results['eff_val'].apply(lambda x: x.eff_rate))\n",
    "    replace_in_ax(tax, lines['fp'], xs, results['eff_val'].apply(lambda x: x.fp_rate))\n",
    "    \n",
    "    # Redraw the figure\n",
    "    fig.canvas.draw()\n",
    "\n",
    "    # Save each model state dictionary\n",
    "    torch.save(model.state_dict(), output / f'{name}_{result.epoch}.pyt')"
   ]
  },
  {
   "cell_type": "markdown",
   "metadata": {},
   "source": [
    "# Results\n",
    "\n",
    "Let's save some results: (even though if you have not changed the code above, it saves the model every epoch)"
   ]
  },
  {
   "cell_type": "markdown",
   "metadata": {},
   "source": [
    "Go ahead and save the final model (even though it was also saved above):"
   ]
  },
  {
   "cell_type": "code",
   "execution_count": 17,
   "metadata": {},
   "outputs": [],
   "source": [
    "torch.save(model.state_dict(), output / f'{name}_final.pyt')"
   ]
  },
  {
   "cell_type": "markdown",
   "metadata": {},
   "source": [
    "Save the output results:"
   ]
  },
  {
   "cell_type": "code",
   "execution_count": 18,
   "metadata": {},
   "outputs": [
    {
     "name": "stderr",
     "output_type": "stream",
     "text": [
      "/data/conda/envs/anaconda/lib/python3.7/site-packages/pandas/core/generic.py:2377: PerformanceWarning: \n",
      "your performance may suffer as PyTables will pickle object types that it cannot\n",
      "map directly to c-types [inferred_type->mixed-integer,key->block1_values] [items->['epoch', 'eff_val']]\n",
      "\n",
      "  return pytables.to_hdf(path_or_buf, key, self, **kwargs)\n"
     ]
    }
   ],
   "source": [
    "results.to_hdf(f'{name}_stats.hdf5', 'results')"
   ]
  },
  {
   "cell_type": "markdown",
   "metadata": {},
   "source": [
    "Save the plot above:"
   ]
  },
  {
   "cell_type": "code",
   "execution_count": 19,
   "metadata": {},
   "outputs": [
    {
     "data": {
      "application/javascript": [
       "/* Put everything inside the global mpl namespace */\n",
       "window.mpl = {};\n",
       "\n",
       "\n",
       "mpl.get_websocket_type = function() {\n",
       "    if (typeof(WebSocket) !== 'undefined') {\n",
       "        return WebSocket;\n",
       "    } else if (typeof(MozWebSocket) !== 'undefined') {\n",
       "        return MozWebSocket;\n",
       "    } else {\n",
       "        alert('Your browser does not have WebSocket support.' +\n",
       "              'Please try Chrome, Safari or Firefox ≥ 6. ' +\n",
       "              'Firefox 4 and 5 are also supported but you ' +\n",
       "              'have to enable WebSockets in about:config.');\n",
       "    };\n",
       "}\n",
       "\n",
       "mpl.figure = function(figure_id, websocket, ondownload, parent_element) {\n",
       "    this.id = figure_id;\n",
       "\n",
       "    this.ws = websocket;\n",
       "\n",
       "    this.supports_binary = (this.ws.binaryType != undefined);\n",
       "\n",
       "    if (!this.supports_binary) {\n",
       "        var warnings = document.getElementById(\"mpl-warnings\");\n",
       "        if (warnings) {\n",
       "            warnings.style.display = 'block';\n",
       "            warnings.textContent = (\n",
       "                \"This browser does not support binary websocket messages. \" +\n",
       "                    \"Performance may be slow.\");\n",
       "        }\n",
       "    }\n",
       "\n",
       "    this.imageObj = new Image();\n",
       "\n",
       "    this.context = undefined;\n",
       "    this.message = undefined;\n",
       "    this.canvas = undefined;\n",
       "    this.rubberband_canvas = undefined;\n",
       "    this.rubberband_context = undefined;\n",
       "    this.format_dropdown = undefined;\n",
       "\n",
       "    this.image_mode = 'full';\n",
       "\n",
       "    this.root = $('<div/>');\n",
       "    this._root_extra_style(this.root)\n",
       "    this.root.attr('style', 'display: inline-block');\n",
       "\n",
       "    $(parent_element).append(this.root);\n",
       "\n",
       "    this._init_header(this);\n",
       "    this._init_canvas(this);\n",
       "    this._init_toolbar(this);\n",
       "\n",
       "    var fig = this;\n",
       "\n",
       "    this.waiting = false;\n",
       "\n",
       "    this.ws.onopen =  function () {\n",
       "            fig.send_message(\"supports_binary\", {value: fig.supports_binary});\n",
       "            fig.send_message(\"send_image_mode\", {});\n",
       "            if (mpl.ratio != 1) {\n",
       "                fig.send_message(\"set_dpi_ratio\", {'dpi_ratio': mpl.ratio});\n",
       "            }\n",
       "            fig.send_message(\"refresh\", {});\n",
       "        }\n",
       "\n",
       "    this.imageObj.onload = function() {\n",
       "            if (fig.image_mode == 'full') {\n",
       "                // Full images could contain transparency (where diff images\n",
       "                // almost always do), so we need to clear the canvas so that\n",
       "                // there is no ghosting.\n",
       "                fig.context.clearRect(0, 0, fig.canvas.width, fig.canvas.height);\n",
       "            }\n",
       "            fig.context.drawImage(fig.imageObj, 0, 0);\n",
       "        };\n",
       "\n",
       "    this.imageObj.onunload = function() {\n",
       "        fig.ws.close();\n",
       "    }\n",
       "\n",
       "    this.ws.onmessage = this._make_on_message_function(this);\n",
       "\n",
       "    this.ondownload = ondownload;\n",
       "}\n",
       "\n",
       "mpl.figure.prototype._init_header = function() {\n",
       "    var titlebar = $(\n",
       "        '<div class=\"ui-dialog-titlebar ui-widget-header ui-corner-all ' +\n",
       "        'ui-helper-clearfix\"/>');\n",
       "    var titletext = $(\n",
       "        '<div class=\"ui-dialog-title\" style=\"width: 100%; ' +\n",
       "        'text-align: center; padding: 3px;\"/>');\n",
       "    titlebar.append(titletext)\n",
       "    this.root.append(titlebar);\n",
       "    this.header = titletext[0];\n",
       "}\n",
       "\n",
       "\n",
       "\n",
       "mpl.figure.prototype._canvas_extra_style = function(canvas_div) {\n",
       "\n",
       "}\n",
       "\n",
       "\n",
       "mpl.figure.prototype._root_extra_style = function(canvas_div) {\n",
       "\n",
       "}\n",
       "\n",
       "mpl.figure.prototype._init_canvas = function() {\n",
       "    var fig = this;\n",
       "\n",
       "    var canvas_div = $('<div/>');\n",
       "\n",
       "    canvas_div.attr('style', 'position: relative; clear: both; outline: 0');\n",
       "\n",
       "    function canvas_keyboard_event(event) {\n",
       "        return fig.key_event(event, event['data']);\n",
       "    }\n",
       "\n",
       "    canvas_div.keydown('key_press', canvas_keyboard_event);\n",
       "    canvas_div.keyup('key_release', canvas_keyboard_event);\n",
       "    this.canvas_div = canvas_div\n",
       "    this._canvas_extra_style(canvas_div)\n",
       "    this.root.append(canvas_div);\n",
       "\n",
       "    var canvas = $('<canvas/>');\n",
       "    canvas.addClass('mpl-canvas');\n",
       "    canvas.attr('style', \"left: 0; top: 0; z-index: 0; outline: 0\")\n",
       "\n",
       "    this.canvas = canvas[0];\n",
       "    this.context = canvas[0].getContext(\"2d\");\n",
       "\n",
       "    var backingStore = this.context.backingStorePixelRatio ||\n",
       "\tthis.context.webkitBackingStorePixelRatio ||\n",
       "\tthis.context.mozBackingStorePixelRatio ||\n",
       "\tthis.context.msBackingStorePixelRatio ||\n",
       "\tthis.context.oBackingStorePixelRatio ||\n",
       "\tthis.context.backingStorePixelRatio || 1;\n",
       "\n",
       "    mpl.ratio = (window.devicePixelRatio || 1) / backingStore;\n",
       "\n",
       "    var rubberband = $('<canvas/>');\n",
       "    rubberband.attr('style', \"position: absolute; left: 0; top: 0; z-index: 1;\")\n",
       "\n",
       "    var pass_mouse_events = true;\n",
       "\n",
       "    canvas_div.resizable({\n",
       "        start: function(event, ui) {\n",
       "            pass_mouse_events = false;\n",
       "        },\n",
       "        resize: function(event, ui) {\n",
       "            fig.request_resize(ui.size.width, ui.size.height);\n",
       "        },\n",
       "        stop: function(event, ui) {\n",
       "            pass_mouse_events = true;\n",
       "            fig.request_resize(ui.size.width, ui.size.height);\n",
       "        },\n",
       "    });\n",
       "\n",
       "    function mouse_event_fn(event) {\n",
       "        if (pass_mouse_events)\n",
       "            return fig.mouse_event(event, event['data']);\n",
       "    }\n",
       "\n",
       "    rubberband.mousedown('button_press', mouse_event_fn);\n",
       "    rubberband.mouseup('button_release', mouse_event_fn);\n",
       "    // Throttle sequential mouse events to 1 every 20ms.\n",
       "    rubberband.mousemove('motion_notify', mouse_event_fn);\n",
       "\n",
       "    rubberband.mouseenter('figure_enter', mouse_event_fn);\n",
       "    rubberband.mouseleave('figure_leave', mouse_event_fn);\n",
       "\n",
       "    canvas_div.on(\"wheel\", function (event) {\n",
       "        event = event.originalEvent;\n",
       "        event['data'] = 'scroll'\n",
       "        if (event.deltaY < 0) {\n",
       "            event.step = 1;\n",
       "        } else {\n",
       "            event.step = -1;\n",
       "        }\n",
       "        mouse_event_fn(event);\n",
       "    });\n",
       "\n",
       "    canvas_div.append(canvas);\n",
       "    canvas_div.append(rubberband);\n",
       "\n",
       "    this.rubberband = rubberband;\n",
       "    this.rubberband_canvas = rubberband[0];\n",
       "    this.rubberband_context = rubberband[0].getContext(\"2d\");\n",
       "    this.rubberband_context.strokeStyle = \"#000000\";\n",
       "\n",
       "    this._resize_canvas = function(width, height) {\n",
       "        // Keep the size of the canvas, canvas container, and rubber band\n",
       "        // canvas in synch.\n",
       "        canvas_div.css('width', width)\n",
       "        canvas_div.css('height', height)\n",
       "\n",
       "        canvas.attr('width', width * mpl.ratio);\n",
       "        canvas.attr('height', height * mpl.ratio);\n",
       "        canvas.attr('style', 'width: ' + width + 'px; height: ' + height + 'px;');\n",
       "\n",
       "        rubberband.attr('width', width);\n",
       "        rubberband.attr('height', height);\n",
       "    }\n",
       "\n",
       "    // Set the figure to an initial 600x600px, this will subsequently be updated\n",
       "    // upon first draw.\n",
       "    this._resize_canvas(600, 600);\n",
       "\n",
       "    // Disable right mouse context menu.\n",
       "    $(this.rubberband_canvas).bind(\"contextmenu\",function(e){\n",
       "        return false;\n",
       "    });\n",
       "\n",
       "    function set_focus () {\n",
       "        canvas.focus();\n",
       "        canvas_div.focus();\n",
       "    }\n",
       "\n",
       "    window.setTimeout(set_focus, 100);\n",
       "}\n",
       "\n",
       "mpl.figure.prototype._init_toolbar = function() {\n",
       "    var fig = this;\n",
       "\n",
       "    var nav_element = $('<div/>')\n",
       "    nav_element.attr('style', 'width: 100%');\n",
       "    this.root.append(nav_element);\n",
       "\n",
       "    // Define a callback function for later on.\n",
       "    function toolbar_event(event) {\n",
       "        return fig.toolbar_button_onclick(event['data']);\n",
       "    }\n",
       "    function toolbar_mouse_event(event) {\n",
       "        return fig.toolbar_button_onmouseover(event['data']);\n",
       "    }\n",
       "\n",
       "    for(var toolbar_ind in mpl.toolbar_items) {\n",
       "        var name = mpl.toolbar_items[toolbar_ind][0];\n",
       "        var tooltip = mpl.toolbar_items[toolbar_ind][1];\n",
       "        var image = mpl.toolbar_items[toolbar_ind][2];\n",
       "        var method_name = mpl.toolbar_items[toolbar_ind][3];\n",
       "\n",
       "        if (!name) {\n",
       "            // put a spacer in here.\n",
       "            continue;\n",
       "        }\n",
       "        var button = $('<button/>');\n",
       "        button.addClass('ui-button ui-widget ui-state-default ui-corner-all ' +\n",
       "                        'ui-button-icon-only');\n",
       "        button.attr('role', 'button');\n",
       "        button.attr('aria-disabled', 'false');\n",
       "        button.click(method_name, toolbar_event);\n",
       "        button.mouseover(tooltip, toolbar_mouse_event);\n",
       "\n",
       "        var icon_img = $('<span/>');\n",
       "        icon_img.addClass('ui-button-icon-primary ui-icon');\n",
       "        icon_img.addClass(image);\n",
       "        icon_img.addClass('ui-corner-all');\n",
       "\n",
       "        var tooltip_span = $('<span/>');\n",
       "        tooltip_span.addClass('ui-button-text');\n",
       "        tooltip_span.html(tooltip);\n",
       "\n",
       "        button.append(icon_img);\n",
       "        button.append(tooltip_span);\n",
       "\n",
       "        nav_element.append(button);\n",
       "    }\n",
       "\n",
       "    var fmt_picker_span = $('<span/>');\n",
       "\n",
       "    var fmt_picker = $('<select/>');\n",
       "    fmt_picker.addClass('mpl-toolbar-option ui-widget ui-widget-content');\n",
       "    fmt_picker_span.append(fmt_picker);\n",
       "    nav_element.append(fmt_picker_span);\n",
       "    this.format_dropdown = fmt_picker[0];\n",
       "\n",
       "    for (var ind in mpl.extensions) {\n",
       "        var fmt = mpl.extensions[ind];\n",
       "        var option = $(\n",
       "            '<option/>', {selected: fmt === mpl.default_extension}).html(fmt);\n",
       "        fmt_picker.append(option)\n",
       "    }\n",
       "\n",
       "    // Add hover states to the ui-buttons\n",
       "    $( \".ui-button\" ).hover(\n",
       "        function() { $(this).addClass(\"ui-state-hover\");},\n",
       "        function() { $(this).removeClass(\"ui-state-hover\");}\n",
       "    );\n",
       "\n",
       "    var status_bar = $('<span class=\"mpl-message\"/>');\n",
       "    nav_element.append(status_bar);\n",
       "    this.message = status_bar[0];\n",
       "}\n",
       "\n",
       "mpl.figure.prototype.request_resize = function(x_pixels, y_pixels) {\n",
       "    // Request matplotlib to resize the figure. Matplotlib will then trigger a resize in the client,\n",
       "    // which will in turn request a refresh of the image.\n",
       "    this.send_message('resize', {'width': x_pixels, 'height': y_pixels});\n",
       "}\n",
       "\n",
       "mpl.figure.prototype.send_message = function(type, properties) {\n",
       "    properties['type'] = type;\n",
       "    properties['figure_id'] = this.id;\n",
       "    this.ws.send(JSON.stringify(properties));\n",
       "}\n",
       "\n",
       "mpl.figure.prototype.send_draw_message = function() {\n",
       "    if (!this.waiting) {\n",
       "        this.waiting = true;\n",
       "        this.ws.send(JSON.stringify({type: \"draw\", figure_id: this.id}));\n",
       "    }\n",
       "}\n",
       "\n",
       "\n",
       "mpl.figure.prototype.handle_save = function(fig, msg) {\n",
       "    var format_dropdown = fig.format_dropdown;\n",
       "    var format = format_dropdown.options[format_dropdown.selectedIndex].value;\n",
       "    fig.ondownload(fig, format);\n",
       "}\n",
       "\n",
       "\n",
       "mpl.figure.prototype.handle_resize = function(fig, msg) {\n",
       "    var size = msg['size'];\n",
       "    if (size[0] != fig.canvas.width || size[1] != fig.canvas.height) {\n",
       "        fig._resize_canvas(size[0], size[1]);\n",
       "        fig.send_message(\"refresh\", {});\n",
       "    };\n",
       "}\n",
       "\n",
       "mpl.figure.prototype.handle_rubberband = function(fig, msg) {\n",
       "    var x0 = msg['x0'] / mpl.ratio;\n",
       "    var y0 = (fig.canvas.height - msg['y0']) / mpl.ratio;\n",
       "    var x1 = msg['x1'] / mpl.ratio;\n",
       "    var y1 = (fig.canvas.height - msg['y1']) / mpl.ratio;\n",
       "    x0 = Math.floor(x0) + 0.5;\n",
       "    y0 = Math.floor(y0) + 0.5;\n",
       "    x1 = Math.floor(x1) + 0.5;\n",
       "    y1 = Math.floor(y1) + 0.5;\n",
       "    var min_x = Math.min(x0, x1);\n",
       "    var min_y = Math.min(y0, y1);\n",
       "    var width = Math.abs(x1 - x0);\n",
       "    var height = Math.abs(y1 - y0);\n",
       "\n",
       "    fig.rubberband_context.clearRect(\n",
       "        0, 0, fig.canvas.width, fig.canvas.height);\n",
       "\n",
       "    fig.rubberband_context.strokeRect(min_x, min_y, width, height);\n",
       "}\n",
       "\n",
       "mpl.figure.prototype.handle_figure_label = function(fig, msg) {\n",
       "    // Updates the figure title.\n",
       "    fig.header.textContent = msg['label'];\n",
       "}\n",
       "\n",
       "mpl.figure.prototype.handle_cursor = function(fig, msg) {\n",
       "    var cursor = msg['cursor'];\n",
       "    switch(cursor)\n",
       "    {\n",
       "    case 0:\n",
       "        cursor = 'pointer';\n",
       "        break;\n",
       "    case 1:\n",
       "        cursor = 'default';\n",
       "        break;\n",
       "    case 2:\n",
       "        cursor = 'crosshair';\n",
       "        break;\n",
       "    case 3:\n",
       "        cursor = 'move';\n",
       "        break;\n",
       "    }\n",
       "    fig.rubberband_canvas.style.cursor = cursor;\n",
       "}\n",
       "\n",
       "mpl.figure.prototype.handle_message = function(fig, msg) {\n",
       "    fig.message.textContent = msg['message'];\n",
       "}\n",
       "\n",
       "mpl.figure.prototype.handle_draw = function(fig, msg) {\n",
       "    // Request the server to send over a new figure.\n",
       "    fig.send_draw_message();\n",
       "}\n",
       "\n",
       "mpl.figure.prototype.handle_image_mode = function(fig, msg) {\n",
       "    fig.image_mode = msg['mode'];\n",
       "}\n",
       "\n",
       "mpl.figure.prototype.updated_canvas_event = function() {\n",
       "    // Called whenever the canvas gets updated.\n",
       "    this.send_message(\"ack\", {});\n",
       "}\n",
       "\n",
       "// A function to construct a web socket function for onmessage handling.\n",
       "// Called in the figure constructor.\n",
       "mpl.figure.prototype._make_on_message_function = function(fig) {\n",
       "    return function socket_on_message(evt) {\n",
       "        if (evt.data instanceof Blob) {\n",
       "            /* FIXME: We get \"Resource interpreted as Image but\n",
       "             * transferred with MIME type text/plain:\" errors on\n",
       "             * Chrome.  But how to set the MIME type?  It doesn't seem\n",
       "             * to be part of the websocket stream */\n",
       "            evt.data.type = \"image/png\";\n",
       "\n",
       "            /* Free the memory for the previous frames */\n",
       "            if (fig.imageObj.src) {\n",
       "                (window.URL || window.webkitURL).revokeObjectURL(\n",
       "                    fig.imageObj.src);\n",
       "            }\n",
       "\n",
       "            fig.imageObj.src = (window.URL || window.webkitURL).createObjectURL(\n",
       "                evt.data);\n",
       "            fig.updated_canvas_event();\n",
       "            fig.waiting = false;\n",
       "            return;\n",
       "        }\n",
       "        else if (typeof evt.data === 'string' && evt.data.slice(0, 21) == \"data:image/png;base64\") {\n",
       "            fig.imageObj.src = evt.data;\n",
       "            fig.updated_canvas_event();\n",
       "            fig.waiting = false;\n",
       "            return;\n",
       "        }\n",
       "\n",
       "        var msg = JSON.parse(evt.data);\n",
       "        var msg_type = msg['type'];\n",
       "\n",
       "        // Call the  \"handle_{type}\" callback, which takes\n",
       "        // the figure and JSON message as its only arguments.\n",
       "        try {\n",
       "            var callback = fig[\"handle_\" + msg_type];\n",
       "        } catch (e) {\n",
       "            console.log(\"No handler for the '\" + msg_type + \"' message type: \", msg);\n",
       "            return;\n",
       "        }\n",
       "\n",
       "        if (callback) {\n",
       "            try {\n",
       "                // console.log(\"Handling '\" + msg_type + \"' message: \", msg);\n",
       "                callback(fig, msg);\n",
       "            } catch (e) {\n",
       "                console.log(\"Exception inside the 'handler_\" + msg_type + \"' callback:\", e, e.stack, msg);\n",
       "            }\n",
       "        }\n",
       "    };\n",
       "}\n",
       "\n",
       "// from http://stackoverflow.com/questions/1114465/getting-mouse-location-in-canvas\n",
       "mpl.findpos = function(e) {\n",
       "    //this section is from http://www.quirksmode.org/js/events_properties.html\n",
       "    var targ;\n",
       "    if (!e)\n",
       "        e = window.event;\n",
       "    if (e.target)\n",
       "        targ = e.target;\n",
       "    else if (e.srcElement)\n",
       "        targ = e.srcElement;\n",
       "    if (targ.nodeType == 3) // defeat Safari bug\n",
       "        targ = targ.parentNode;\n",
       "\n",
       "    // jQuery normalizes the pageX and pageY\n",
       "    // pageX,Y are the mouse positions relative to the document\n",
       "    // offset() returns the position of the element relative to the document\n",
       "    var x = e.pageX - $(targ).offset().left;\n",
       "    var y = e.pageY - $(targ).offset().top;\n",
       "\n",
       "    return {\"x\": x, \"y\": y};\n",
       "};\n",
       "\n",
       "/*\n",
       " * return a copy of an object with only non-object keys\n",
       " * we need this to avoid circular references\n",
       " * http://stackoverflow.com/a/24161582/3208463\n",
       " */\n",
       "function simpleKeys (original) {\n",
       "  return Object.keys(original).reduce(function (obj, key) {\n",
       "    if (typeof original[key] !== 'object')\n",
       "        obj[key] = original[key]\n",
       "    return obj;\n",
       "  }, {});\n",
       "}\n",
       "\n",
       "mpl.figure.prototype.mouse_event = function(event, name) {\n",
       "    var canvas_pos = mpl.findpos(event)\n",
       "\n",
       "    if (name === 'button_press')\n",
       "    {\n",
       "        this.canvas.focus();\n",
       "        this.canvas_div.focus();\n",
       "    }\n",
       "\n",
       "    var x = canvas_pos.x * mpl.ratio;\n",
       "    var y = canvas_pos.y * mpl.ratio;\n",
       "\n",
       "    this.send_message(name, {x: x, y: y, button: event.button,\n",
       "                             step: event.step,\n",
       "                             guiEvent: simpleKeys(event)});\n",
       "\n",
       "    /* This prevents the web browser from automatically changing to\n",
       "     * the text insertion cursor when the button is pressed.  We want\n",
       "     * to control all of the cursor setting manually through the\n",
       "     * 'cursor' event from matplotlib */\n",
       "    event.preventDefault();\n",
       "    return false;\n",
       "}\n",
       "\n",
       "mpl.figure.prototype._key_event_extra = function(event, name) {\n",
       "    // Handle any extra behaviour associated with a key event\n",
       "}\n",
       "\n",
       "mpl.figure.prototype.key_event = function(event, name) {\n",
       "\n",
       "    // Prevent repeat events\n",
       "    if (name == 'key_press')\n",
       "    {\n",
       "        if (event.which === this._key)\n",
       "            return;\n",
       "        else\n",
       "            this._key = event.which;\n",
       "    }\n",
       "    if (name == 'key_release')\n",
       "        this._key = null;\n",
       "\n",
       "    var value = '';\n",
       "    if (event.ctrlKey && event.which != 17)\n",
       "        value += \"ctrl+\";\n",
       "    if (event.altKey && event.which != 18)\n",
       "        value += \"alt+\";\n",
       "    if (event.shiftKey && event.which != 16)\n",
       "        value += \"shift+\";\n",
       "\n",
       "    value += 'k';\n",
       "    value += event.which.toString();\n",
       "\n",
       "    this._key_event_extra(event, name);\n",
       "\n",
       "    this.send_message(name, {key: value,\n",
       "                             guiEvent: simpleKeys(event)});\n",
       "    return false;\n",
       "}\n",
       "\n",
       "mpl.figure.prototype.toolbar_button_onclick = function(name) {\n",
       "    if (name == 'download') {\n",
       "        this.handle_save(this, null);\n",
       "    } else {\n",
       "        this.send_message(\"toolbar_button\", {name: name});\n",
       "    }\n",
       "};\n",
       "\n",
       "mpl.figure.prototype.toolbar_button_onmouseover = function(tooltip) {\n",
       "    this.message.textContent = tooltip;\n",
       "};\n",
       "mpl.toolbar_items = [[\"Home\", \"Reset original view\", \"fa fa-home icon-home\", \"home\"], [\"Back\", \"Back to previous view\", \"fa fa-arrow-left icon-arrow-left\", \"back\"], [\"Forward\", \"Forward to next view\", \"fa fa-arrow-right icon-arrow-right\", \"forward\"], [\"\", \"\", \"\", \"\"], [\"Pan\", \"Pan axes with left mouse, zoom with right\", \"fa fa-arrows icon-move\", \"pan\"], [\"Zoom\", \"Zoom to rectangle\", \"fa fa-square-o icon-check-empty\", \"zoom\"], [\"\", \"\", \"\", \"\"], [\"Download\", \"Download plot\", \"fa fa-floppy-o icon-save\", \"download\"]];\n",
       "\n",
       "mpl.extensions = [\"eps\", \"jpeg\", \"pdf\", \"png\", \"ps\", \"raw\", \"svg\", \"tif\"];\n",
       "\n",
       "mpl.default_extension = \"png\";var comm_websocket_adapter = function(comm) {\n",
       "    // Create a \"websocket\"-like object which calls the given IPython comm\n",
       "    // object with the appropriate methods. Currently this is a non binary\n",
       "    // socket, so there is still some room for performance tuning.\n",
       "    var ws = {};\n",
       "\n",
       "    ws.close = function() {\n",
       "        comm.close()\n",
       "    };\n",
       "    ws.send = function(m) {\n",
       "        //console.log('sending', m);\n",
       "        comm.send(m);\n",
       "    };\n",
       "    // Register the callback with on_msg.\n",
       "    comm.on_msg(function(msg) {\n",
       "        //console.log('receiving', msg['content']['data'], msg);\n",
       "        // Pass the mpl event to the overridden (by mpl) onmessage function.\n",
       "        ws.onmessage(msg['content']['data'])\n",
       "    });\n",
       "    return ws;\n",
       "}\n",
       "\n",
       "mpl.mpl_figure_comm = function(comm, msg) {\n",
       "    // This is the function which gets called when the mpl process\n",
       "    // starts-up an IPython Comm through the \"matplotlib\" channel.\n",
       "\n",
       "    var id = msg.content.data.id;\n",
       "    // Get hold of the div created by the display call when the Comm\n",
       "    // socket was opened in Python.\n",
       "    var element = $(\"#\" + id);\n",
       "    var ws_proxy = comm_websocket_adapter(comm)\n",
       "\n",
       "    function ondownload(figure, format) {\n",
       "        window.open(figure.imageObj.src);\n",
       "    }\n",
       "\n",
       "    var fig = new mpl.figure(id, ws_proxy,\n",
       "                           ondownload,\n",
       "                           element.get(0));\n",
       "\n",
       "    // Call onopen now - mpl needs it, as it is assuming we've passed it a real\n",
       "    // web socket which is closed, not our websocket->open comm proxy.\n",
       "    ws_proxy.onopen();\n",
       "\n",
       "    fig.parent_element = element.get(0);\n",
       "    fig.cell_info = mpl.find_output_cell(\"<div id='\" + id + \"'></div>\");\n",
       "    if (!fig.cell_info) {\n",
       "        console.error(\"Failed to find cell for figure\", id, fig);\n",
       "        return;\n",
       "    }\n",
       "\n",
       "    var output_index = fig.cell_info[2]\n",
       "    var cell = fig.cell_info[0];\n",
       "\n",
       "};\n",
       "\n",
       "mpl.figure.prototype.handle_close = function(fig, msg) {\n",
       "    var width = fig.canvas.width/mpl.ratio\n",
       "    fig.root.unbind('remove')\n",
       "\n",
       "    // Update the output cell to use the data from the current canvas.\n",
       "    fig.push_to_output();\n",
       "    var dataURL = fig.canvas.toDataURL();\n",
       "    // Re-enable the keyboard manager in IPython - without this line, in FF,\n",
       "    // the notebook keyboard shortcuts fail.\n",
       "    IPython.keyboard_manager.enable()\n",
       "    $(fig.parent_element).html('<img src=\"' + dataURL + '\" width=\"' + width + '\">');\n",
       "    fig.close_ws(fig, msg);\n",
       "}\n",
       "\n",
       "mpl.figure.prototype.close_ws = function(fig, msg){\n",
       "    fig.send_message('closing', msg);\n",
       "    // fig.ws.close()\n",
       "}\n",
       "\n",
       "mpl.figure.prototype.push_to_output = function(remove_interactive) {\n",
       "    // Turn the data on the canvas into data in the output cell.\n",
       "    var width = this.canvas.width/mpl.ratio\n",
       "    var dataURL = this.canvas.toDataURL();\n",
       "    this.cell_info[1]['text/html'] = '<img src=\"' + dataURL + '\" width=\"' + width + '\">';\n",
       "}\n",
       "\n",
       "mpl.figure.prototype.updated_canvas_event = function() {\n",
       "    // Tell IPython that the notebook contents must change.\n",
       "    IPython.notebook.set_dirty(true);\n",
       "    this.send_message(\"ack\", {});\n",
       "    var fig = this;\n",
       "    // Wait a second, then push the new image to the DOM so\n",
       "    // that it is saved nicely (might be nice to debounce this).\n",
       "    setTimeout(function () { fig.push_to_output() }, 1000);\n",
       "}\n",
       "\n",
       "mpl.figure.prototype._init_toolbar = function() {\n",
       "    var fig = this;\n",
       "\n",
       "    var nav_element = $('<div/>')\n",
       "    nav_element.attr('style', 'width: 100%');\n",
       "    this.root.append(nav_element);\n",
       "\n",
       "    // Define a callback function for later on.\n",
       "    function toolbar_event(event) {\n",
       "        return fig.toolbar_button_onclick(event['data']);\n",
       "    }\n",
       "    function toolbar_mouse_event(event) {\n",
       "        return fig.toolbar_button_onmouseover(event['data']);\n",
       "    }\n",
       "\n",
       "    for(var toolbar_ind in mpl.toolbar_items){\n",
       "        var name = mpl.toolbar_items[toolbar_ind][0];\n",
       "        var tooltip = mpl.toolbar_items[toolbar_ind][1];\n",
       "        var image = mpl.toolbar_items[toolbar_ind][2];\n",
       "        var method_name = mpl.toolbar_items[toolbar_ind][3];\n",
       "\n",
       "        if (!name) { continue; };\n",
       "\n",
       "        var button = $('<button class=\"btn btn-default\" href=\"#\" title=\"' + name + '\"><i class=\"fa ' + image + ' fa-lg\"></i></button>');\n",
       "        button.click(method_name, toolbar_event);\n",
       "        button.mouseover(tooltip, toolbar_mouse_event);\n",
       "        nav_element.append(button);\n",
       "    }\n",
       "\n",
       "    // Add the status bar.\n",
       "    var status_bar = $('<span class=\"mpl-message\" style=\"text-align:right; float: right;\"/>');\n",
       "    nav_element.append(status_bar);\n",
       "    this.message = status_bar[0];\n",
       "\n",
       "    // Add the close button to the window.\n",
       "    var buttongrp = $('<div class=\"btn-group inline pull-right\"></div>');\n",
       "    var button = $('<button class=\"btn btn-mini btn-primary\" href=\"#\" title=\"Stop Interaction\"><i class=\"fa fa-power-off icon-remove icon-large\"></i></button>');\n",
       "    button.click(function (evt) { fig.handle_close(fig, {}); } );\n",
       "    button.mouseover('Stop Interaction', toolbar_mouse_event);\n",
       "    buttongrp.append(button);\n",
       "    var titlebar = this.root.find($('.ui-dialog-titlebar'));\n",
       "    titlebar.prepend(buttongrp);\n",
       "}\n",
       "\n",
       "mpl.figure.prototype._root_extra_style = function(el){\n",
       "    var fig = this\n",
       "    el.on(\"remove\", function(){\n",
       "\tfig.close_ws(fig, {});\n",
       "    });\n",
       "}\n",
       "\n",
       "mpl.figure.prototype._canvas_extra_style = function(el){\n",
       "    // this is important to make the div 'focusable\n",
       "    el.attr('tabindex', 0)\n",
       "    // reach out to IPython and tell the keyboard manager to turn it's self\n",
       "    // off when our div gets focus\n",
       "\n",
       "    // location in version 3\n",
       "    if (IPython.notebook.keyboard_manager) {\n",
       "        IPython.notebook.keyboard_manager.register_events(el);\n",
       "    }\n",
       "    else {\n",
       "        // location in version 2\n",
       "        IPython.keyboard_manager.register_events(el);\n",
       "    }\n",
       "\n",
       "}\n",
       "\n",
       "mpl.figure.prototype._key_event_extra = function(event, name) {\n",
       "    var manager = IPython.notebook.keyboard_manager;\n",
       "    if (!manager)\n",
       "        manager = IPython.keyboard_manager;\n",
       "\n",
       "    // Check for shift+enter\n",
       "    if (event.shiftKey && event.which == 13) {\n",
       "        this.canvas_div.blur();\n",
       "        event.shiftKey = false;\n",
       "        // Send a \"J\" for go to next cell\n",
       "        event.which = 74;\n",
       "        event.keyCode = 74;\n",
       "        manager.command_mode();\n",
       "        manager.handle_keydown(event);\n",
       "    }\n",
       "}\n",
       "\n",
       "mpl.figure.prototype.handle_save = function(fig, msg) {\n",
       "    fig.ondownload(fig, null);\n",
       "}\n",
       "\n",
       "\n",
       "mpl.find_output_cell = function(html_output) {\n",
       "    // Return the cell and output element which can be found *uniquely* in the notebook.\n",
       "    // Note - this is a bit hacky, but it is done because the \"notebook_saving.Notebook\"\n",
       "    // IPython event is triggered only after the cells have been serialised, which for\n",
       "    // our purposes (turning an active figure into a static one), is too late.\n",
       "    var cells = IPython.notebook.get_cells();\n",
       "    var ncells = cells.length;\n",
       "    for (var i=0; i<ncells; i++) {\n",
       "        var cell = cells[i];\n",
       "        if (cell.cell_type === 'code'){\n",
       "            for (var j=0; j<cell.output_area.outputs.length; j++) {\n",
       "                var data = cell.output_area.outputs[j];\n",
       "                if (data.data) {\n",
       "                    // IPython >= 3 moved mimebundle to data attribute of output\n",
       "                    data = data.data;\n",
       "                }\n",
       "                if (data['text/html'] == html_output) {\n",
       "                    return [cell, data, j];\n",
       "                }\n",
       "            }\n",
       "        }\n",
       "    }\n",
       "}\n",
       "\n",
       "// Register the function which deals with the matplotlib target/channel.\n",
       "// The kernel may be null if the page has been refreshed.\n",
       "if (IPython.notebook.kernel != null) {\n",
       "    IPython.notebook.kernel.comm_manager.register_target('matplotlib', mpl.mpl_figure_comm);\n",
       "}\n"
      ],
      "text/plain": [
       "<IPython.core.display.Javascript object>"
      ]
     },
     "metadata": {},
     "output_type": "display_data"
    },
    {
     "data": {
      "text/html": [
       "<img src=\"data:image/png;base64,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\" width=\"1000\">"
      ],
      "text/plain": [
       "<IPython.core.display.HTML object>"
      ]
     },
     "metadata": {},
     "output_type": "display_data"
    }
   ],
   "source": [
    "dual_train_plots(results.index,\n",
    "                 results.cost, results.val, \n",
    "                 results['eff_val'].apply(lambda x: x.eff_rate),\n",
    "                 results['eff_val'].apply(lambda x: x.fp_rate))\n",
    "plt.tight_layout()\n",
    "plt.savefig(str(output / f'{name}_stats_a.png'))"
   ]
  },
  {
   "cell_type": "code",
   "execution_count": null,
   "metadata": {},
   "outputs": [],
   "source": [
    "quit()"
   ]
  },
  {
   "cell_type": "code",
   "execution_count": null,
   "metadata": {},
   "outputs": [],
   "source": []
  },
  {
   "cell_type": "code",
   "execution_count": null,
   "metadata": {},
   "outputs": [],
   "source": []
  },
  {
   "cell_type": "code",
   "execution_count": null,
   "metadata": {},
   "outputs": [],
   "source": []
  },
  {
   "cell_type": "code",
   "execution_count": null,
   "metadata": {},
   "outputs": [],
   "source": []
  }
 ],
 "metadata": {
  "kernelspec": {
   "display_name": "Python [conda env:anaconda] *",
   "language": "python",
   "name": "conda-env-anaconda-py"
  },
  "language_info": {
   "codemirror_mode": {
    "name": "ipython",
    "version": 3
   },
   "file_extension": ".py",
   "mimetype": "text/x-python",
   "name": "python",
   "nbconvert_exporter": "python",
   "pygments_lexer": "ipython3",
   "version": "3.7.3"
  }
 },
 "nbformat": 4,
 "nbformat_minor": 2
}
