{
 "cells": [
  {
   "cell_type": "code",
   "execution_count": 4,
   "metadata": {},
   "outputs": [],
   "source": [
    "# Import from local package\n",
    "import sys\n",
    "sys.path.append('../model')\n",
    "import torch\n",
    "import numpy as np\n",
    "from tqdm import tqdm as progress_bar\n",
    "import numba\n",
    "\n",
    "# Device configuration\n",
    "device = torch.device(\"cpu\")"
   ]
  },
  {
   "cell_type": "code",
   "execution_count": 5,
   "metadata": {},
   "outputs": [],
   "source": [
    "import matplotlib.pyplot as plt"
   ]
  },
  {
   "cell_type": "code",
   "execution_count": 6,
   "metadata": {},
   "outputs": [
    {
     "ename": "ImportError",
     "evalue": "attempted relative import with no known parent package",
     "output_type": "error",
     "traceback": [
      "\u001b[0;31m---------------------------------------------------------------------------\u001b[0m",
      "\u001b[0;31mImportError\u001b[0m                               Traceback (most recent call last)",
      "\u001b[0;32m<ipython-input-6-acb4cfaa5c06>\u001b[0m in \u001b[0;36m<module>\u001b[0;34m()\u001b[0m\n\u001b[1;32m      1\u001b[0m \u001b[0;32mfrom\u001b[0m \u001b[0mmodels\u001b[0m \u001b[0;32mimport\u001b[0m \u001b[0mSimpleCNN3Layer\u001b[0m \u001b[0;32mas\u001b[0m \u001b[0mModel\u001b[0m\u001b[0;34m\u001b[0m\u001b[0m\n\u001b[0;32m----> 2\u001b[0;31m \u001b[0;32mfrom\u001b[0m \u001b[0mcollectdata\u001b[0m \u001b[0;32mimport\u001b[0m \u001b[0mcollect_data\u001b[0m\u001b[0;34m\u001b[0m\u001b[0m\n\u001b[0m",
      "\u001b[0;32m~/pv-finder/model/collectdata.py\u001b[0m in \u001b[0;36m<module>\u001b[0;34m()\u001b[0m\n\u001b[1;32m      8\u001b[0m \u001b[0;32mimport\u001b[0m \u001b[0mwarnings\u001b[0m\u001b[0;34m\u001b[0m\u001b[0m\n\u001b[1;32m      9\u001b[0m \u001b[0;34m\u001b[0m\u001b[0m\n\u001b[0;32m---> 10\u001b[0;31m \u001b[0;32mfrom\u001b[0m \u001b[0;34m.\u001b[0m\u001b[0mutilities\u001b[0m \u001b[0;32mimport\u001b[0m \u001b[0mTimer\u001b[0m\u001b[0;34m\u001b[0m\u001b[0m\n\u001b[0m\u001b[1;32m     11\u001b[0m \u001b[0;32mfrom\u001b[0m \u001b[0;34m.\u001b[0m\u001b[0mjagged\u001b[0m \u001b[0;32mimport\u001b[0m \u001b[0mconcatenate\u001b[0m\u001b[0;34m\u001b[0m\u001b[0m\n\u001b[1;32m     12\u001b[0m \u001b[0;34m\u001b[0m\u001b[0m\n",
      "\u001b[0;31mImportError\u001b[0m: attempted relative import with no known parent package"
     ]
    }
   ],
   "source": [
    "from models import SimpleCNN3Layer as Model\n",
    "from collectdata import collect_data"
   ]
  },
  {
   "cell_type": "code",
   "execution_count": null,
   "metadata": {},
   "outputs": [],
   "source": [
    "validation = collect_data(\n",
    "    '/share/lazy/schreihf/PvFinder/Oct03_20K_val.npz',\n",
    "    batch_size=1)"
   ]
  },
  {
   "cell_type": "code",
   "execution_count": null,
   "metadata": {},
   "outputs": [],
   "source": [
    "name = '../model/output3/20180815_120000_3layer_30.pyt'\n",
    "model = Model().to(device)\n",
    "model.load_state_dict(torch.load(name))\n",
    "model.eval()"
   ]
  },
  {
   "cell_type": "markdown",
   "metadata": {},
   "source": [
    "## Old version"
   ]
  },
  {
   "cell_type": "code",
   "execution_count": null,
   "metadata": {},
   "outputs": [],
   "source": [
    "# Check False Positive\n",
    "def testNet2(model, test_loader):\n",
    "    FP_list=[]\n",
    "    N=0\n",
    "    Times=0\n",
    "    NO_Batch=0\n",
    "    FP=0\n",
    "    \n",
    "    \n",
    "    with torch.no_grad():\n",
    "        for inputs, labels in progress_bar(test_loader):\n",
    "            NO_Batch = NO_Batch +1\n",
    "            \n",
    "            #Forward pass\n",
    "            outputs = model(inputs)\n",
    "            \n",
    "            \n",
    "            prob=0\n",
    "            Tprob=0\n",
    "            j=0\n",
    "\n",
    "            while j < 3900:\n",
    "                for i in range (j,j+1):\n",
    "                    if outputs[0][i].item()> 1e-2 and labels[0][i].item()==0:\n",
    "                        for jj in range (i,i+10):\n",
    "                            Tprob+=labels[0][jj].item()\n",
    "                            prob+=outputs[0][jj].item()\n",
    "                            if outputs[0][jj]>0.01:\n",
    "                                Times=Times+1      \n",
    "                        if Tprob<0.9 and prob>0.2 and Times>=3:\n",
    "                            FP=FP+1\n",
    "                            FP_list.append((NO_Batch, j))\n",
    "                            j+=10\n",
    "                        else:\n",
    "                            j+=1\n",
    "                    else:\n",
    "                        j+=1\n",
    "                            \n",
    "    return FP"
   ]
  },
  {
   "cell_type": "code",
   "execution_count": null,
   "metadata": {},
   "outputs": [],
   "source": [
    "FP = testNet2(model, validation)\n",
    "print(FP)"
   ]
  },
  {
   "cell_type": "markdown",
   "metadata": {},
   "source": [
    "## Modern Version"
   ]
  },
  {
   "cell_type": "code",
   "execution_count": null,
   "metadata": {},
   "outputs": [],
   "source": [
    "@numba.jit(numba.int32(numba.float32[:],numba.float32[:]))\n",
    "def look_for_missing(outputs, labels):\n",
    "    prob = 0\n",
    "    Tprob = 0\n",
    "    j = 0\n",
    "    FP = 0\n",
    "\n",
    "    while j < 3900:\n",
    "        \n",
    "        for i in range (j, j+1):\n",
    "            \n",
    "            # If output value and not label value\n",
    "            if outputs[i] > 1e-2 and labels[i] == 0:\n",
    "                \n",
    "                # Scan the next ten cells\n",
    "                for jj in range(i, i+10):\n",
    "                    Tprob += labels[jj]\n",
    "                    prob += outputs[jj]\n",
    "                    \n",
    "                        \n",
    "                # If label_prob is small and output_prob is large,\n",
    "                # count a false positive and move on 10 cells\n",
    "                if Tprob < 0.9 and prob > 0.2:\n",
    "                    FP += 1\n",
    "                    j += 10\n",
    "                else:\n",
    "                    j += 1\n",
    "            else:\n",
    "                j += 1\n",
    "                \n",
    "    return FP"
   ]
  },
  {
   "cell_type": "code",
   "execution_count": null,
   "metadata": {},
   "outputs": [],
   "source": [
    "# Check False Positive\n",
    "def testNet3(model, test_loader):\n",
    "    FP_list=[]\n",
    "    N=0\n",
    "    NO_Batch=0\n",
    "    FP=0\n",
    "    \n",
    "    \n",
    "    with torch.no_grad():\n",
    "        for inputs, labels in progress_bar(test_loader):\n",
    "            NO_Batch = NO_Batch +1\n",
    "            \n",
    "            #Forward pass\n",
    "            outputs = model(inputs)\n",
    "            \n",
    "            \n",
    "            value = look_for_missing(outputs[0].numpy(), labels[0].numpy())\n",
    "            FP += value\n",
    "                            \n",
    "    return FP"
   ]
  },
  {
   "cell_type": "code",
   "execution_count": null,
   "metadata": {},
   "outputs": [],
   "source": [
    "FP3 = testNet3(model, validation)\n",
    "print(FP3)"
   ]
  },
  {
   "cell_type": "code",
   "execution_count": null,
   "metadata": {},
   "outputs": [],
   "source": [
    "i = 154\n",
    "Y = validation.dataset.tensors[1][i]\n",
    "with torch.no_grad():\n",
    "    out = model(validation.dataset.tensors[0][i][None,:,:])\n",
    "\n",
    "truth = Y.numpy()\n",
    "predict = out.numpy().squeeze()\n",
    "\n",
    "# Find the locations of values so that we can set limits\n",
    "non_zero, = np.nonzero(np.round(truth + predict, 4))\n",
    "    \n",
    "plt.figure(figsize=(18,2))\n",
    "plt.plot(-truth, label='Truth')\n",
    "plt.plot(predict, label='Prediction')\n",
    "plt.xlim(min(non_zero) - 20, max(non_zero) + 400)\n",
    "plt.legend();"
   ]
  },
  {
   "cell_type": "code",
   "execution_count": null,
   "metadata": {},
   "outputs": [],
   "source": [
    "@numba.jit(numba.float32[:](numba.float32[:], numba.float32), nopython=True)\n",
    "def pv_locations(targets, threshold):\n",
    "    state = False\n",
    "    start = 0\n",
    "    items = np.empty(150, np.float32)\n",
    "    nitems = 0\n",
    "    \n",
    "    for i in range(len(targets)):\n",
    "        if targets[i] >= threshold and not state:\n",
    "            state = True\n",
    "            start = i\n",
    "        elif targets[i] < threshold and state:\n",
    "            state = False\n",
    "            items[nitems] = (i + start) / 2.\n",
    "            nitems += 1\n",
    "        # otherwise, keep going\n",
    "    return items[:nitems]"
   ]
  },
  {
   "cell_type": "code",
   "execution_count": null,
   "metadata": {},
   "outputs": [],
   "source": [
    "pv_locations(truth,1e-2)"
   ]
  },
  {
   "cell_type": "code",
   "execution_count": null,
   "metadata": {},
   "outputs": [],
   "source": [
    "pv_locations(predict, 1e-2)"
   ]
  },
  {
   "cell_type": "code",
   "execution_count": null,
   "metadata": {},
   "outputs": [],
   "source": [
    "%%timeit\n",
    "pv_locations(predict, 1e-2)"
   ]
  },
  {
   "cell_type": "code",
   "execution_count": null,
   "metadata": {},
   "outputs": [],
   "source": [
    "%%timeit\n",
    "pv_locations(predict, 1e-2)"
   ]
  },
  {
   "cell_type": "code",
   "execution_count": null,
   "metadata": {},
   "outputs": [],
   "source": [
    "@numba.jit(numba.types.UniTuple(numba.int32,2)(numba.float32[:], numba.float32[:], numba.float32), nopython=True)\n",
    "def compare(a, b, diff):\n",
    "    succeed = 0\n",
    "    fail = 0\n",
    "    \n",
    "    # Check for closest value\n",
    "    for item in a:\n",
    "        mindiff = np.abs(b-item).min()\n",
    "        if mindiff > diff:\n",
    "            fail += 1\n",
    "        else:\n",
    "            succeed += 1\n",
    "    \n",
    "    return succeed, fail"
   ]
  },
  {
   "cell_type": "code",
   "execution_count": null,
   "metadata": {},
   "outputs": [],
   "source": [
    "a = pv_locations(truth, 1e-2)\n",
    "b = pv_locations(predict, 1e-2)\n",
    "\n",
    "print(*compare(a, b, 3.))\n",
    "print(*compare(b, a, 3.))"
   ]
  },
  {
   "cell_type": "code",
   "execution_count": null,
   "metadata": {},
   "outputs": [],
   "source": [
    "@numba.jit(numba.types.UniTuple(numba.int32,3)(numba.float32[:], numba.float32[:], numba.float32, numba.float32))\n",
    "def efficency(truth, predict, threshold, difference):\n",
    "    \"\"\"\n",
    "    Compute three value: The number of succeses (S), the number of missed true values (MT), and the number of missed false values (FP).\n",
    "    \n",
    "    Accepts:\n",
    "      * truth: Numpy array of truth values\n",
    "      * predict: Numpy array of predictions\n",
    "      * threshold: The threshold for considering an \"on\" value\n",
    "      * difference: The maximum difference to count a success, in bin widths (successes and failures are to the nearest half bin, currently)\n",
    "    \n",
    "    Returns: S, MT, FP\n",
    "    \n",
    "    A future advancement of this algorithm would be to compute the weighted mean, and use that.\n",
    "    Also, this will currently be triggered by small fluctionations in the input array. It should have a minium total integrated value\n",
    "    required to \"turn it on\".\n",
    "    \"\"\"\n",
    "    \n",
    "    a = pv_locations(truth, threshold)\n",
    "    b = pv_locations(predict, threshold)\n",
    "\n",
    "    S, MT = compare(a, b, difference)\n",
    "    Sp, FP = compare(b, a, difference)\n",
    "    \n",
    "    assert S == Sp\n",
    "    \n",
    "    return S, MT, FP"
   ]
  },
  {
   "cell_type": "code",
   "execution_count": null,
   "metadata": {},
   "outputs": [],
   "source": [
    "%%timeit\n",
    "efficency(truth, predict, 1e-2, 20.)"
   ]
  },
  {
   "cell_type": "code",
   "execution_count": null,
   "metadata": {},
   "outputs": [],
   "source": []
  }
 ],
 "metadata": {
  "kernelspec": {
   "display_name": "Python 3",
   "language": "python",
   "name": "python3"
  },
  "language_info": {
   "codemirror_mode": {
    "name": "ipython",
    "version": 3
   },
   "file_extension": ".py",
   "mimetype": "text/x-python",
   "name": "python",
   "nbconvert_exporter": "python",
   "pygments_lexer": "ipython3",
   "version": "3.6.4"
  }
 },
 "nbformat": 4,
 "nbformat_minor": 2
}
