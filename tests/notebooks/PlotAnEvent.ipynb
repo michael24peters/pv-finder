{
 "cells": [
  {
   "cell_type": "code",
   "execution_count": null,
   "metadata": {
    "collapsed": true
   },
   "outputs": [],
   "source": [
    "%matplotlib widget"
   ]
  },
  {
   "cell_type": "code",
   "execution_count": null,
   "metadata": {
    "collapsed": true
   },
   "outputs": [],
   "source": [
    "from math import *\n",
    "import numpy as np\n",
    "import uproot"
   ]
  },
  {
   "cell_type": "code",
   "execution_count": null,
   "metadata": {
    "collapsed": true
   },
   "outputs": [],
   "source": [
    "import matplotlib.pyplot as plt\n",
    "from mpl_toolkits.mplot3d import Axes3D"
   ]
  },
  {
   "cell_type": "markdown",
   "metadata": {},
   "source": [
    "Using the uproot library (from pip) to read the ROOT file."
   ]
  },
  {
   "cell_type": "code",
   "execution_count": null,
   "metadata": {
    "collapsed": true
   },
   "outputs": [],
   "source": [
    "tree = uproot.open(\"../dat/test_100pvs.root\")[\"data\"]"
   ]
  },
  {
   "cell_type": "markdown",
   "metadata": {},
   "source": [
    "The `keys()` method prints out the names of all the ROOT NTUPLE branches"
   ]
  },
  {
   "cell_type": "code",
   "execution_count": null,
   "metadata": {},
   "outputs": [],
   "source": [
    "tree.keys()"
   ]
  },
  {
   "cell_type": "markdown",
   "metadata": {},
   "source": [
    "There is probably a more elegant way to create the jagged arrays\n",
    "corresponding to the branches of the ROOT Tuple, but brute\n",
    "force should work here"
   ]
  },
  {
   "cell_type": "code",
   "execution_count": null,
   "metadata": {
    "collapsed": true
   },
   "outputs": [],
   "source": [
    "##  these are the primary vertex (x,y,z) coordinates\n",
    "pvr_x = tree[\"pvr_x\"].array()\n",
    "pvr_y = tree[\"pvr_y\"].array()\n",
    "pvr_z = tree[\"pvr_z\"].array()\n",
    "\n",
    "##  these are the secondary vertex (x,y,z) coordinates\n",
    "svr_x = tree[\"svr_x\"].array()\n",
    "svr_y = tree[\"svr_y\"].array()\n",
    "svr_z = tree[\"svr_z\"].array()\n",
    "\n",
    "##  these are the individual hit (x,y,z) coordinates\n",
    "hit_x = tree[\"hit_x\"].array()\n",
    "hit_y = tree[\"hit_y\"].array()\n",
    "hit_z = tree[\"hit_z\"].array()\n",
    "hit_prt = tree[\"hit_prt\"].array()"
   ]
  },
  {
   "cell_type": "markdown",
   "metadata": {},
   "source": [
    "The following are \"particle\" (track) quantities\n",
    "* `_pid` refers to particle ID (type, using integer values according to the PDG)\n",
    "* `_px`, `_py`, `_pz` are the momenta of the particle in GeV; `_e` is the energy\n",
    "   the momenta can be used to determine the particle's direction\n",
    "* `_hits` is the number of hits associated with a particle\n",
    "* `_pvr` is the index of the primary vertex (within an event)"
   ]
  },
  {
   "cell_type": "code",
   "execution_count": null,
   "metadata": {
    "collapsed": true
   },
   "outputs": [],
   "source": [
    "prt_pid = tree[\"prt_pid\"].array()\n",
    "prt_px = tree[\"prt_px\"].array()\n",
    "prt_py = tree[\"prt_py\"].array()\n",
    "prt_pz = tree[\"prt_pz\"].array()\n",
    "prt_e  = tree[\"prt_e\"].array()\n",
    "prt_x = tree[\"prt_x\"].array()\n",
    "prt_y = tree[\"prt_y\"].array()\n",
    "prt_z = tree[\"prt_z\"].array()\n",
    "prt_hits = tree[\"prt_hits\"].array()\n",
    "prt_pvr = tree[\"prt_pvr\"].array()\n",
    "\n",
    "## ntrks_prompt is the number of prompt tracks within an event\n",
    "ntrks_prompt = tree[\"ntrks_prompt\"].array()"
   ]
  },
  {
   "cell_type": "markdown",
   "metadata": {},
   "source": [
    "The data structures created above are jagged arrays. They can be accessed correctly, however."
   ]
  },
  {
   "cell_type": "code",
   "execution_count": null,
   "metadata": {},
   "outputs": [],
   "source": [
    "pvr_x[0]"
   ]
  },
  {
   "cell_type": "code",
   "execution_count": null,
   "metadata": {},
   "outputs": [],
   "source": [
    "pvr_x[1]"
   ]
  },
  {
   "cell_type": "markdown",
   "metadata": {},
   "source": [
    "This requires Python 3.6 for the format string:"
   ]
  },
  {
   "cell_type": "code",
   "execution_count": null,
   "metadata": {},
   "outputs": [],
   "source": [
    "for i in range(len(pvr_x[0])):\n",
    "    print(f\"  Primary Vertex location {i}: {pvr_x[0][i]:.5} {pvr_y[0][i]:.5} {pvr_z[0][i]:.5}\")\n",
    "print()\n",
    "    \n",
    "for i in range(len(svr_x[0])):\n",
    "    print(f\"  Secondary Vertex location {i}: {svr_x[0][i]:.5} {svr_y[0][i]:.5} {svr_z[0][i]:.5}\")"
   ]
  },
  {
   "cell_type": "markdown",
   "metadata": {},
   "source": [
    "There are quite a long list of hits"
   ]
  },
  {
   "cell_type": "code",
   "execution_count": null,
   "metadata": {},
   "outputs": [],
   "source": [
    "print(len(hit_x[0]))"
   ]
  },
  {
   "cell_type": "code",
   "execution_count": null,
   "metadata": {},
   "outputs": [],
   "source": [
    "fig = plt.figure(figsize=(10,10))\n",
    "ax = fig.add_subplot(111, projection='3d')\n",
    "ax.scatter3D(hit_x[0], hit_y[0], hit_z[0], c='k', s=.5, label='hits')\n",
    "ax.scatter3D(pvr_x[0], pvr_y[0], pvr_y[0], c='r', s=20, label='pvr')\n",
    "ax.scatter3D(svr_x[0], svr_y[0], svr_y[0], c='g', s=10, label='svr')\n",
    "ax.set_xlabel('x (mm)')\n",
    "ax.set_ylabel('y (mm)')\n",
    "ax.set_zlabel('z (mm)')\n",
    "ax.legend()\n",
    "ax.set_title('Unscaled');"
   ]
  },
  {
   "cell_type": "code",
   "execution_count": null,
   "metadata": {},
   "outputs": [],
   "source": [
    "fig = plt.figure(figsize=(10,10))\n",
    "ax = fig.add_subplot(111, projection='3d')\n",
    "ax = fig.add_subplot(111, projection='3d')\n",
    "ax.scatter3D(hit_x[0], hit_y[0], hit_z[0], c='k', s=.5, label='hits')\n",
    "ax.set_xlim(-500, 500)\n",
    "ax.set_ylim(-500, 500)\n",
    "ax.set_zlim(-200, 800)\n",
    "ax.set_xlabel('x (mm)')\n",
    "ax.set_ylabel('y (mm)')\n",
    "ax.set_zlabel('z (mm)')\n",
    "ax.set_title('To scale');"
   ]
  },
  {
   "cell_type": "code",
   "execution_count": null,
   "metadata": {},
   "outputs": [],
   "source": [
    "fig = plt.figure(figsize=(10,10))\n",
    "ax = fig.add_subplot(111, projection='3d')\n",
    "ax.scatter3D(pvr_x[0], pvr_y[0], pvr_y[0], c='r', s=20, label='pvr')\n",
    "ax.scatter3D(svr_x[0], svr_y[0], svr_y[0], c='g', s=10, label='svr')\n",
    "ax.set_xlabel('x (mm)')\n",
    "ax.set_ylabel('y (mm)')\n",
    "ax.set_zlabel('z (mm)')\n",
    "ax.set_xlim(-.2, .2)\n",
    "ax.set_ylim(-.2, .2)\n",
    "ax.set_zlim(-.2, .2)\n",
    "ax.legend()\n",
    "ax.set_title('PVs and SVs');"
   ]
  },
  {
   "cell_type": "code",
   "execution_count": null,
   "metadata": {},
   "outputs": [],
   "source": [
    "x = np.array(prt_x[0])\n",
    "y = np.array(prt_y[0])\n",
    "z = np.array(prt_z[0])\n",
    "\n",
    "px = np.array(prt_x[0])\n",
    "py = np.array(prt_y[0])\n",
    "pz = np.array(prt_z[0])\n",
    "\n",
    "dx = x + px / np.sqrt(px**2 + py**2 + pz**2) * 100\n",
    "dy = y + py / np.sqrt(px**2 + py**2 + pz**2) * 100\n",
    "dz = z + pz / np.sqrt(px**2 + py**2 + pz**2) * 100\n",
    "\n",
    "fig = plt.figure(figsize=(10,10))\n",
    "ax = fig.add_subplot(111, projection='3d')\n",
    "ax.set_xlabel('x (mm)')\n",
    "ax.set_ylabel('y (mm)')\n",
    "ax.set_zlabel('z (mm)')\n",
    "ax.set_xlim(-500, 500)\n",
    "ax.set_ylim(-500, 500)\n",
    "ax.set_zlim(-200, 800)\n",
    "\n",
    "ax.set_title('Found tracks (100 mm long projection shown)');\n",
    "\n",
    "ax.scatter3D(x,y,z, c='k')\n",
    "\n",
    "for i in range(len(x)):\n",
    "    ax.plot3D([x[i],dx[i]], [y[i],dy[i]], [z[i],dz[i]])"
   ]
  },
  {
   "cell_type": "code",
   "execution_count": null,
   "metadata": {
    "collapsed": true
   },
   "outputs": [],
   "source": []
  },
  {
   "cell_type": "code",
   "execution_count": null,
   "metadata": {},
   "outputs": [],
   "source": []
  }
 ],
 "metadata": {
  "kernelspec": {
   "display_name": "Python 3",
   "language": "python",
   "name": "python3"
  },
  "language_info": {
   "codemirror_mode": {
    "name": "ipython",
    "version": 3
   },
   "file_extension": ".py",
   "mimetype": "text/x-python",
   "name": "python",
   "nbconvert_exporter": "python",
   "pygments_lexer": "ipython3",
   "version": "3.7.3"
  }
 },
 "nbformat": 4,
 "nbformat_minor": 2
}
